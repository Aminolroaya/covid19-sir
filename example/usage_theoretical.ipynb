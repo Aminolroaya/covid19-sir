{
 "metadata": {
  "language_info": {
   "codemirror_mode": {
    "name": "ipython",
    "version": 3
   },
   "file_extension": ".py",
   "mimetype": "text/x-python",
   "name": "python",
   "nbconvert_exporter": "python",
   "pygments_lexer": "ipython3",
   "version": "3.8.2-final"
  },
  "orig_nbformat": 2,
  "kernelspec": {
   "name": "python_defaultSpec_1597415684315",
   "display_name": "Python 3.8.2 64-bit ('covid19-sir': pipenv)"
  }
 },
 "nbformat": 4,
 "nbformat_minor": 2,
 "cells": [
  {
   "cell_type": "markdown",
   "metadata": {},
   "source": [
    "# Usage (details: theoretical datasets)\n",
    "Here, we will create an example dataset with theoretical values of SIR-derived model. Then, we will perform scenario analysis with it."
   ]
  },
  {
   "cell_type": "markdown",
   "metadata": {},
   "source": [
    "## Preparation"
   ]
  },
  {
   "cell_type": "code",
   "execution_count": null,
   "metadata": {},
   "outputs": [],
   "source": [
    "# Standard users\n",
    "# !pip install covsirphy\n",
    "# Developers (Note: this notebook is in example directory)\n",
    "import os\n",
    "os.chdir(\"../\")"
   ]
  },
  {
   "cell_type": "code",
   "execution_count": null,
   "metadata": {},
   "outputs": [],
   "source": [
    "from pprint import pprint"
   ]
  },
  {
   "cell_type": "code",
   "execution_count": null,
   "metadata": {
    "tags": []
   },
   "outputs": [],
   "source": [
    "import covsirphy as cs\n",
    "cs.__version__"
   ]
  },
  {
   "cell_type": "code",
   "execution_count": null,
   "metadata": {
    "tags": []
   },
   "outputs": [],
   "source": [
    "# Instance to save population values\n",
    "population_data = cs.PopulationData(filename=None)\n",
    "population_data.cleaned()"
   ]
  },
  {
   "cell_type": "markdown",
   "metadata": {},
   "source": [
    "## Create example dataset with theoretical values\n",
    "We will use `ExampleData` class to produce theoretical values. Model descriptions (`SIR` class etc.) have preset of parameter values. Then, $\\tau$ (coeficient for non-dimensionalization) will be set as $1440\\ \\mathrm{[min]}$. The first date of records will be 01Jan2020 as an example."
   ]
  },
  {
   "cell_type": "code",
   "execution_count": null,
   "metadata": {},
   "outputs": [],
   "source": [
    "# Set tau value and start date of records\n",
    "example_data = cs.ExampleData(tau=1440, start_date=\"01Jan2020\")\n",
    "# No records has been registered\n",
    "example_data.cleaned()"
   ]
  },
  {
   "cell_type": "markdown",
   "metadata": {},
   "source": [
    "`ExampleData` class is a child class of `JHUData`. This means that we can use the example data in scenario analysis. Example codes will be shown in \"Scenario analysis with theoretical data\" subsection."
   ]
  },
  {
   "cell_type": "code",
   "execution_count": null,
   "metadata": {},
   "outputs": [],
   "source": [
    "issubclass(cs.ExampleData, cs.JHUData)"
   ]
  },
  {
   "cell_type": "code",
   "execution_count": null,
   "metadata": {},
   "outputs": [],
   "source": [
    "isinstance(example_data, cs.JHUData)"
   ]
  },
  {
   "cell_type": "markdown",
   "metadata": {},
   "source": [
    "## SIR model\n",
    "Let's start with simle SIR model. Details of models are explained in [Kaggle: COVID-19 data with SIR model](https://www.kaggle.com/lisphilar/covid-19-data-with-sir-model#SIR-to-SIR-F).\n",
    "\\begin{align*}\n",
    "\\mathrm{S} \\overset{\\beta I}{\\longrightarrow} \\mathrm{I} \\overset{\\gamma}{\\longrightarrow} \\mathrm{R}  \\\\\n",
    "\\end{align*}\n",
    "\n",
    "Note:  \n",
    "Though R in SIR model is \"Recovered and have immunity\", We defines \"R as Recovered or fatal\". This is because mortality rate cannot be ignored in the real COVID-19 data."
   ]
  },
  {
   "cell_type": "code",
   "execution_count": null,
   "metadata": {
    "tags": []
   },
   "outputs": [],
   "source": [
    "# Model name\n",
    "print(cs.SIR.NAME)\n",
    "# Example parameter values\n",
    "pprint(cs.SIR.EXAMPLE, compact=True)"
   ]
  },
  {
   "cell_type": "code",
   "execution_count": null,
   "metadata": {},
   "outputs": [],
   "source": [
    "model = cs.SIR\n",
    "area = {\"country\": \"Full\", \"province\": model.NAME}\n",
    "# Add records with SIR model\n",
    "example_data.add(model, **area)\n",
    "# Records with model variables\n",
    "df = example_data.specialized(model, **area)\n",
    "cs.line_plot(df.set_index(\"Date\"), title=f\"Example data of {model.NAME} model\", y_integer=True)"
   ]
  },
  {
   "cell_type": "markdown",
   "metadata": {},
   "source": [
    "## SIR-D model\n",
    "Because we are measuring the number of fatal cases and recovered cases separately, we can use two variables (\"Recovered\" and \"Deaths\") instead of \"Recovered + Deaths\" in the mathematical model.\n",
    "\\begin{align*}\n",
    "\\mathrm{S} \\overset{\\beta  I}{\\longrightarrow}\\ & \\mathrm{I} \\overset{\\gamma}{\\longrightarrow} \\mathrm{R}  \\\\\n",
    "& \\mathrm{I} \\overset{\\alpha}{\\longrightarrow} \\mathrm{D}  \\\\\n",
    "\\end{align*}"
   ]
  },
  {
   "cell_type": "code",
   "execution_count": null,
   "metadata": {
    "tags": []
   },
   "outputs": [],
   "source": [
    "# Model name\n",
    "print(cs.SIRD.NAME)\n",
    "# Example parameter values\n",
    "pprint(cs.SIRD.EXAMPLE, compact=True)"
   ]
  },
  {
   "cell_type": "code",
   "execution_count": null,
   "metadata": {},
   "outputs": [],
   "source": [
    "model = cs.SIRD\n",
    "area = {\"country\": \"Full\", \"province\": model.NAME}\n",
    "# Add records with SIR model\n",
    "example_data.add(model, **area)\n",
    "# Records with model variables\n",
    "df = example_data.specialized(model, **area)\n",
    "cs.line_plot(df.set_index(\"Date\"), title=f\"Example data of {model.NAME} model\", y_integer=True)"
   ]
  },
  {
   "cell_type": "markdown",
   "metadata": {},
   "source": [
    "## SIR-F model\n",
    "It is reported that some cases died before clinical diagnosis of COVID-19. To consider this issue, \"S + I $\\to$ Fatal + I\" will be added to the model. When $\\alpha_{1}=0$, SIR-F model will be the same as SIR-D model.\n",
    "\\begin{align*}\n",
    "\\mathrm{S} \\overset{\\beta I}{\\longrightarrow} \\mathrm{S}^\\ast \\overset{\\alpha_1}{\\longrightarrow}\\ & \\mathrm{F}    \\\\\n",
    "\\mathrm{S}^\\ast \\overset{1 - \\alpha_1}{\\longrightarrow}\\ & \\mathrm{I} \\overset{\\gamma}{\\longrightarrow} \\mathrm{R}    \\\\\n",
    "& \\mathrm{I} \\overset{\\alpha_2}{\\longrightarrow} \\mathrm{F}    \\\\\n",
    "\\end{align*}"
   ]
  },
  {
   "cell_type": "code",
   "execution_count": null,
   "metadata": {
    "tags": []
   },
   "outputs": [],
   "source": [
    "# Model name\n",
    "print(cs.SIRF.NAME)\n",
    "# Example parameter values\n",
    "pprint(cs.SIRF.EXAMPLE, compact=True)"
   ]
  },
  {
   "cell_type": "code",
   "execution_count": null,
   "metadata": {},
   "outputs": [],
   "source": [
    "model = cs.SIRF\n",
    "area = {\"country\": \"Full\", \"province\": model.NAME}\n",
    "# Add records with SIR model\n",
    "example_data.add(model, **area)\n",
    "# Records with model variables\n",
    "df = example_data.specialized(model, **area)\n",
    "cs.line_plot(df.set_index(\"Date\"), title=f\"Example data of {model.NAME} model\", y_integer=True)"
   ]
  },
  {
   "cell_type": "markdown",
   "metadata": {},
   "source": [
    "## SEWIR-F model (SIR-F with exposed/waiting cases)\n",
    "The number of exposed cases in latent period (E) and wating cases for confirmation (W) are un-measurable variables, but key variables as well as S, I, R, F. If E and W are large, outbreak will occur in the near future. Let's replace S$\\overset{\\beta I}{\\longrightarrow}$S$^\\ast$ as follows because W also has infectivity.\n",
    "\\begin{align*}\n",
    "\\mathrm{S} \\overset{\\beta_1 (W+I)}{\\longrightarrow} \\mathrm{E} \\overset{\\beta_2}{\\longrightarrow} \\mathrm{W} \\overset{\\beta_3}{\\longrightarrow} \\mathrm{S}^\\ast \\overset{\\alpha_1}{\\longrightarrow}\\ & \\mathrm{F}    \\\\\n",
    "\\mathrm{S}^\\ast \\overset{1 - \\alpha_1}{\\longrightarrow}\\ & \\mathrm{I} \\overset{\\gamma}{\\longrightarrow} \\mathrm{R}    \\\\\n",
    "& \\mathrm{I} \\overset{\\alpha_2}{\\longrightarrow} \\mathrm{F}    \\\\\n",
    "\\end{align*}"
   ]
  },
  {
   "cell_type": "code",
   "execution_count": null,
   "metadata": {
    "tags": []
   },
   "outputs": [],
   "source": [
    "# Model name\n",
    "print(cs.SEWIRF.NAME)\n",
    "# Example parameter values\n",
    "pprint(cs.SEWIRF.EXAMPLE, compact=True)"
   ]
  },
  {
   "cell_type": "code",
   "execution_count": null,
   "metadata": {},
   "outputs": [],
   "source": [
    "model = cs.SEWIRF\n",
    "area = {\"country\": \"Full\", \"province\": model.NAME}\n",
    "# Add records with SIR model\n",
    "example_data.add(model, **area)\n",
    "# Records with model variables\n",
    "df = example_data.specialized(model, **area)\n",
    "cs.line_plot(df.set_index(\"Date\"), title=f\"Example data of {model.NAME} model\", y_integer=True)"
   ]
  },
  {
   "cell_type": "markdown",
   "metadata": {},
   "source": [
    "## SIR-FV model (SIR-F model with vaccination)\n",
    "This model considers vacctnation of sussceptible people as follows. $\\omega \\times N$ persons will be vaccinated in a day. $N$ is the total population.\n",
    "\\begin{align*}\n",
    "\\mathrm{S} \\overset{\\beta I}{\\longrightarrow} \\mathrm{S}^\\ast \\overset{\\alpha_1}{\\longrightarrow}\\ & \\mathrm{F}    \\\\\n",
    "\\mathrm{S}^\\ast \\overset{1 - \\alpha_1}{\\longrightarrow}\\ & \\mathrm{I} \\overset{\\gamma}{\\longrightarrow} \\mathrm{R}    \\\\\n",
    "& \\mathrm{I} \\overset{\\alpha_2}{\\longrightarrow} \\mathrm{F}    \\\\\n",
    "\\end{align*}\n",
    "\n",
    "With\n",
    "$$\n",
    "\\frac{\\mathrm{d}S}{\\mathrm{d}T}= - \\beta S I - \\omega N  \\\\\n",
    "$$"
   ]
  },
  {
   "cell_type": "code",
   "execution_count": null,
   "metadata": {
    "tags": []
   },
   "outputs": [],
   "source": [
    "# Model name\n",
    "print(cs.SIRFV.NAME)\n",
    "# Example parameter values\n",
    "pprint(cs.SIRFV.EXAMPLE, compact=True)"
   ]
  },
  {
   "cell_type": "code",
   "execution_count": null,
   "metadata": {
    "tags": []
   },
   "outputs": [],
   "source": [
    "model = cs.SIRFV\n",
    "area = {\"country\": \"Full\", \"province\": model.NAME}\n",
    "# Add records with SIR model\n",
    "example_data.add(model, **area)\n",
    "# Records with model variables\n",
    "df = example_data.specialized(model, **area)\n",
    "cs.line_plot(df.set_index(\"Date\"), title=f\"Example data of {model.NAME} model\", y_integer=True)"
   ]
  },
  {
   "cell_type": "markdown",
   "metadata": {},
   "source": [
    "## Scenario analysis with theoretical data\n",
    "Because `ExampleData` class is a subclass of `JHUData`, we can perform scenario analysis with example datasets easily. Here, we will use the following scenarios. For explanation, $\\tau=1440$, the start date is 01Jan2020, population is 1,000,000 and country name is \"Theoretical\". This is not based on actual data.\n",
    "\n",
    "| name | 01Jan2020 - 31Jan2020 | 01Feb2020 - 31Dec2020 |\n",
    "|:---:|:---:|:---|\n",
    "| Main | SIR-F | SIR-F|\n",
    "| Lockdown | SIR-F | SIR-F with half value of $\\rho$ |\n",
    "| Medicine | SIR-F | SIR-F with half value of $\\kappa$ and double value of $\\sigma$ |\n",
    "| Vaccine | SIR-F | SIR-FV with $\\omega=0.01$|"
   ]
  },
  {
   "cell_type": "code",
   "execution_count": null,
   "metadata": {
    "tags": []
   },
   "outputs": [],
   "source": [
    "# Preset of SIR-F parameters\n",
    "preset_dict = cs.SIRF.EXAMPLE[\"param_dict\"]\n",
    "preset_dict"
   ]
  },
  {
   "cell_type": "code",
   "execution_count": null,
   "metadata": {},
   "outputs": [],
   "source": [
    "area = {\"country\": \"Theoretical\"}\n",
    "# Create dataset from 01Jan2020 to 31Jan2020\n",
    "example_data.add(cs.SIRF, step_n=30, **area)\n",
    "# Register population value\n",
    "population_data.update(cs.SIRF.EXAMPLE[\"population\"], **area)\n",
    "population_data.value(**area)"
   ]
  },
  {
   "cell_type": "code",
   "execution_count": null,
   "metadata": {},
   "outputs": [],
   "source": [
    "# Show records with Scenario class\n",
    "snl = cs.Scenario(example_data, population_data, tau=1440, **area)\n",
    "record_df = snl.records()\n",
    "display(record_df.head())\n",
    "display(record_df.tail())"
   ]
  },
  {
   "cell_type": "markdown",
   "metadata": {},
   "source": [
    "Note:  \n",
    "Record on 01Jan2020 was removed because the number of recovered cases is 0 and this sometimes causes error in estimation."
   ]
  },
  {
   "cell_type": "code",
   "execution_count": null,
   "metadata": {},
   "outputs": [],
   "source": [
    "# Set 0th phase from 02Jan2020 to 31Jan2020 with preset parameter values\n",
    "snl.clear(include_past=True)\n",
    "snl.add(end_date=\"31Jan2020\", model=cs.SIRF, **preset_dict)\n",
    "snl.summary()"
   ]
  },
  {
   "cell_type": "code",
   "execution_count": null,
   "metadata": {},
   "outputs": [],
   "source": [
    "# Add main scenario\n",
    "snl.add(end_date=\"31Dec2020\", name=\"Main\")\n",
    "# Add lockdown scenario\n",
    "rho_lock = snl.get(\"rho\", phase=\"0th\") / 2\n",
    "snl.add(end_date=\"31Dec2020\", name=\"Lockdown\", rho=rho_lock)\n",
    "# Add medicine scenario\n",
    "kappa_med = snl.get(\"kappa\", phase=\"0th\") / 2\n",
    "sigma_med = snl.get(\"sigma\", phase=\"0th\") * 2\n",
    "snl.add(end_date=\"31Dec2020\", name=\"Medicine\", kappa=kappa_med, sigma=sigma_med)\n",
    "# Add vaccine scenario\n",
    "snl.add(end_date=\"31Dec2020\", name=\"Vaccine\", model=cs.SIRFV, omega=0.01)\n",
    "# Summarize\n",
    "snl.summary()"
   ]
  },
  {
   "cell_type": "markdown",
   "metadata": {},
   "source": [
    "### Compare the scenarios"
   ]
  },
  {
   "cell_type": "code",
   "execution_count": null,
   "metadata": {
    "tags": []
   },
   "outputs": [],
   "source": [
    "# Apply initial value of Vaccinated because this variable is not included in first model (SIR-F)\n",
    "snl.describe(y0_dict={\"Vaccinated\": 0})"
   ]
  },
  {
   "cell_type": "markdown",
   "metadata": {},
   "source": [
    "### Simulation of each scenario"
   ]
  },
  {
   "cell_type": "code",
   "execution_count": null,
   "metadata": {},
   "outputs": [],
   "source": [
    "_ = snl.simulate(name=\"Main\")"
   ]
  },
  {
   "cell_type": "code",
   "execution_count": null,
   "metadata": {},
   "outputs": [],
   "source": [
    "_ = snl.simulate(name=\"Lockdown\")"
   ]
  },
  {
   "cell_type": "code",
   "execution_count": null,
   "metadata": {},
   "outputs": [],
   "source": [
    "_ = snl.simulate(name=\"Medicine\")"
   ]
  },
  {
   "cell_type": "code",
   "execution_count": null,
   "metadata": {
    "tags": []
   },
   "outputs": [],
   "source": [
    "_ = snl.simulate(name=\"Vaccine\", y0_dict={\"Vaccinated\": 0})"
   ]
  },
  {
   "cell_type": "code",
   "execution_count": null,
   "metadata": {},
   "outputs": [],
   "source": [
    "# version > 2.7.3-alpha\n",
    "_ = scenario.history(target=\"Rt\")"
   ]
  },
  {
   "cell_type": "code",
   "execution_count": null,
   "metadata": {},
   "outputs": [],
   "source": [
    "# version > 2.7.3-alpha\n",
    "_ = scenario.history(target=\"Infected\")"
   ]
  },
  {
   "cell_type": "code",
   "execution_count": null,
   "metadata": {},
   "outputs": [],
   "source": [
    "# version > 2.7.3-alpha\n",
    "_ = scenario.history(target=\"Fatal\")"
   ]
  }
 ]
}