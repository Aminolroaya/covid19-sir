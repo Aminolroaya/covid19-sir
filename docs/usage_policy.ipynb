{
 "cells": [
  {
   "cell_type": "markdown",
   "metadata": {},
   "source": [
    "# Usage (details: policy measures)\n",
    "Here, we will analyse the relationship of policy measures and parameter values of SIR-derived ODE models. Policy measures are tracked by [Oxford Covid-19 Government Response Tracker (OxCGRT)](https://github.com/OxCGRT/covid-policy-tracker)."
   ]
  },
  {
   "cell_type": "markdown",
   "metadata": {},
   "source": [
    "## Preparation"
   ]
  },
  {
   "cell_type": "code",
   "execution_count": 1,
   "metadata": {
    "collapsed": false
   },
   "outputs": [],
   "source": [
    "# Standard users\n",
    "# !pip install covsirphy\n",
    "# Developers (Note: this notebook is in example directory)\n",
    "import os\n",
    "os.chdir(\"../\")"
   ]
  },
  {
   "cell_type": "code",
   "execution_count": 2,
   "metadata": {
    "collapsed": false
   },
   "outputs": [],
   "source": [
    "from pprint import pprint"
   ]
  },
  {
   "cell_type": "code",
   "execution_count": 3,
   "metadata": {
    "collapsed": false
   },
   "outputs": [
    {
     "data": {
      "text/plain": [
       "'2.10.0-zeta.new.269.319.fix.307.309.refactor.291'"
      ]
     },
     "execution_count": 3,
     "metadata": {},
     "output_type": "execute_result"
    }
   ],
   "source": [
    "import covsirphy as cs\n",
    "cs.__version__"
   ]
  },
  {
   "cell_type": "code",
   "execution_count": 4,
   "metadata": {
    "collapsed": false,
    "tags": []
   },
   "outputs": [
    {
     "name": "stdout",
     "output_type": "stream",
     "text": [
      "(Secondary source) Guidotti, E., Ardia, D., (2020), \"COVID-19 Data Hub\", Journal of Open Source Software 5(51):2376, doi: 10.21105/joss.02376.\n"
     ]
    }
   ],
   "source": [
    "# Standard users and developers\n",
    "data_loader = cs.DataLoader(\"input\")\n",
    "# The number of cases (JHU style)\n",
    "jhu_data = data_loader.jhu(verbose=False)\n",
    "# Population in each country\n",
    "population_data = data_loader.population(verbose=False)\n",
    "# Government Response Tracker (OxCGRT)\n",
    "oxcgrt_data = data_loader.oxcgrt(verbose=False)\n",
    "# Description/citation\n",
    "print(oxcgrt_data.citation)"
   ]
  },
  {
   "cell_type": "markdown",
   "metadata": {},
   "source": [
    "## Class for policy measure analysis\n",
    "We will `PolicyMeasures` class to find relationship of policy measures and parameter values of SIR-derived ODE models."
   ]
  },
  {
   "cell_type": "code",
   "execution_count": 5,
   "metadata": {
    "collapsed": false,
    "tags": []
   },
   "outputs": [
    {
     "data": {
      "text/plain": [
       "184"
      ]
     },
     "execution_count": 5,
     "metadata": {},
     "output_type": "execute_result"
    }
   ],
   "source": [
    "# Create analyser with tau value 360 [min] (can be changed)\n",
    "analyser = cs.PolicyMeasures(jhu_data, population_data, oxcgrt_data, tau=360)\n",
    "# The number of registerd countries\n",
    "len(analyser.countries)"
   ]
  },
  {
   "cell_type": "code",
   "execution_count": 6,
   "metadata": {
    "collapsed": false
   },
   "outputs": [
    {
     "data": {
      "text/plain": [
       "covsirphy.analysis.scenario.Scenario"
      ]
     },
     "execution_count": 6,
     "metadata": {},
     "output_type": "execute_result"
    }
   ],
   "source": [
    "# We can get Scenario instance for detailed scenario analysis\n",
    "type(analyser.scenario(\"Japan\"))"
   ]
  },
  {
   "cell_type": "markdown",
   "metadata": {},
   "source": [
    "## Set phases with S-R trend analysis\n",
    "We will perform S-R trend analysis to set phases in all countries. Countries which do not have **14th phases** will be un-registered for the next analysis. This number will be adjusted for your analysis."
   ]
  },
  {
   "cell_type": "code",
   "execution_count": 7,
   "metadata": {
    "collapsed": false
   },
   "outputs": [
    {
     "name": "stdout",
     "output_type": "stream",
     "text": [
      "{4: ['Fiji'],\n",
      " 5: ['Tunisia', 'Dominica'],\n",
      " 6: ['Brunei', 'Papua New Guinea', 'Sri Lanka', 'Tanzania', 'Andorra',\n",
      "     'Slovenia', 'Liechtenstein', 'Georgia', 'Slovakia', 'Croatia', 'Poland'],\n",
      " 7: ['Czech Republic', 'Antigua and Barbuda', 'Ireland', 'Nicaragua', 'Hungary',\n",
      "     'Seychelles', 'Saint Vincent and the Grenadines', 'Grenada', 'Saint Lucia',\n",
      "     'Lithuania'],\n",
      " 8: ['Madagascar', 'Malawi', 'Central African Republic', 'Angola', 'Nepal',\n",
      "     'Botswana', 'Monaco', 'Jordan', 'Switzerland', 'Austria', 'Portugal',\n",
      "     'Sao Tome and Principe', 'Myanmar', 'Cambodia', 'Cyprus', 'Malaysia'],\n",
      " 9: ['South Sudan', 'Gambia', 'Trinidad and Tobago', 'Malta', 'Iceland',\n",
      "     'Israel', 'Romania', 'Uganda', 'Jamaica', 'Mongolia', 'Burkina Faso',\n",
      "     'Belgium', 'Tajikistan', 'Bulgaria', 'Spain', 'Djibouti', 'Cameroon',\n",
      "     'Luxembourg', 'Zimbabwe', 'Rwanda', 'Bermuda', 'Comoros', 'Kazakhstan',\n",
      "     'Eritrea', 'Yemen', 'Guinea-Bissau'],\n",
      " 10: ['Suriname', 'Ecuador', 'Niger', 'Senegal', 'Libya', 'Burundi', 'Serbia',\n",
      "      'Montenegro', 'Barbados', 'New Zealand', 'Lebanon', 'Estonia', 'Belize',\n",
      "      'Morocco', 'Uruguay', 'Chile', 'Greece', 'Ukraine', 'Denmark', 'Bhutan',\n",
      "      'Mauritius', 'Mauritania', 'Zambia', 'Kyrgyzstan', 'Australia', 'Sudan',\n",
      "      'Lesotho'],\n",
      " 11: ['Brazil', 'Italy', 'Afghanistan', 'Moldova', 'Mali', 'Cuba', 'China',\n",
      "      'Korea, South', 'Bahamas', 'Guyana', 'North Macedonia', 'Paraguay',\n",
      "      'Mozambique', 'Sierra Leone', 'Benin', 'Saudi Arabia', 'Finland',\n",
      "      'Guatemala', 'Indonesia', 'Singapore', 'South Africa', 'Cape Verde',\n",
      "      'Equatorial Guinea', 'Ethiopia', 'Chad', 'Ghana', 'Costa Rica', 'Vietnam',\n",
      "      'Venezuela', 'Thailand', 'Kenya', 'Namibia'],\n",
      " 12: ['Nigeria', 'Syria', 'Oman', 'Congo', 'Maldives', 'Haiti', 'Mexico',\n",
      "      'India', 'Bosnia and Herzegovina', 'Guinea', 'Panama', 'Armenia', 'Qatar',\n",
      "      'United Arab Emirates', 'Germany', 'El Salvador', 'Argentina', 'Iraq',\n",
      "      'Albania', 'Peru', 'Algeria', 'Togo', 'Kosovo', 'Bangladesh', 'Gabon',\n",
      "      'Azerbaijan', 'Colombia', 'Uzbekistan', 'Philippines', 'San Marino',\n",
      "      'Bahrain'],\n",
      " 13: ['Pakistan', 'Palestine', 'United States', 'Dominican Republic', 'Kuwait',\n",
      "      'France', 'Japan', 'Canada', 'Turkey', 'Liberia', 'Bolivia', 'Norway',\n",
      "      'Swaziland', 'Taiwan', 'Iran'],\n",
      " 14: ['Latvia', 'Russia', 'Somalia', 'Honduras'],\n",
      " 15: ['Belarus', 'Egypt']}\n"
     ]
    }
   ],
   "source": [
    "# Show the number of phases of all countries\n",
    "analyser.trend()\n",
    "pprint(analyser.phase_len(), compact=True)"
   ]
  },
  {
   "cell_type": "code",
   "execution_count": 8,
   "metadata": {
    "collapsed": false
   },
   "outputs": [
    {
     "data": {
      "text/plain": [
       "6"
      ]
     },
     "execution_count": 8,
     "metadata": {},
     "output_type": "execute_result"
    }
   ],
   "source": [
    "# Set phases with S-R trend analysis\n",
    "analyser.trend(min_len=14)\n",
    "# The number of countries\n",
    "len(analyser.countries)"
   ]
  },
  {
   "cell_type": "code",
   "execution_count": 9,
   "metadata": {
    "collapsed": false,
    "tags": []
   },
   "outputs": [
    {
     "name": "stdout",
     "output_type": "stream",
     "text": [
      "{14: ['Latvia', 'Russia', 'Somalia', 'Honduras'], 15: ['Belarus', 'Egypt']}\n"
     ]
    }
   ],
   "source": [
    "phase_len_dict = analyser.phase_len()\n",
    "pprint(phase_len_dict, compact=True)"
   ]
  },
  {
   "cell_type": "code",
   "execution_count": 10,
   "metadata": {
    "collapsed": false,
    "tags": []
   },
   "outputs": [
    {
     "data": {
      "text/html": [
       "<div>\n",
       "<style scoped>\n",
       "    .dataframe tbody tr th:only-of-type {\n",
       "        vertical-align: middle;\n",
       "    }\n",
       "\n",
       "    .dataframe tbody tr th {\n",
       "        vertical-align: top;\n",
       "    }\n",
       "\n",
       "    .dataframe thead th {\n",
       "        text-align: right;\n",
       "    }\n",
       "</style>\n",
       "<table border=\"1\" class=\"dataframe\">\n",
       "  <thead>\n",
       "    <tr style=\"text-align: right;\">\n",
       "      <th></th>\n",
       "      <th></th>\n",
       "      <th>Type</th>\n",
       "      <th>Start</th>\n",
       "      <th>End</th>\n",
       "      <th>Population</th>\n",
       "    </tr>\n",
       "    <tr>\n",
       "      <th>Country</th>\n",
       "      <th>Phase</th>\n",
       "      <th></th>\n",
       "      <th></th>\n",
       "      <th></th>\n",
       "      <th></th>\n",
       "    </tr>\n",
       "  </thead>\n",
       "  <tbody>\n",
       "    <tr>\n",
       "      <th rowspan=\"15\" valign=\"top\">Belarus</th>\n",
       "      <th>0th</th>\n",
       "      <td>Past</td>\n",
       "      <td>09Mar2020</td>\n",
       "      <td>26Apr2020</td>\n",
       "      <td>9483499</td>\n",
       "    </tr>\n",
       "    <tr>\n",
       "      <th>1st</th>\n",
       "      <td>Past</td>\n",
       "      <td>27Apr2020</td>\n",
       "      <td>08May2020</td>\n",
       "      <td>9483499</td>\n",
       "    </tr>\n",
       "    <tr>\n",
       "      <th>2nd</th>\n",
       "      <td>Past</td>\n",
       "      <td>09May2020</td>\n",
       "      <td>15May2020</td>\n",
       "      <td>9483499</td>\n",
       "    </tr>\n",
       "    <tr>\n",
       "      <th>3rd</th>\n",
       "      <td>Past</td>\n",
       "      <td>16May2020</td>\n",
       "      <td>23May2020</td>\n",
       "      <td>9483499</td>\n",
       "    </tr>\n",
       "    <tr>\n",
       "      <th>4th</th>\n",
       "      <td>Past</td>\n",
       "      <td>24May2020</td>\n",
       "      <td>30May2020</td>\n",
       "      <td>9483499</td>\n",
       "    </tr>\n",
       "    <tr>\n",
       "      <th>5th</th>\n",
       "      <td>Past</td>\n",
       "      <td>31May2020</td>\n",
       "      <td>07Jun2020</td>\n",
       "      <td>9483499</td>\n",
       "    </tr>\n",
       "    <tr>\n",
       "      <th>6th</th>\n",
       "      <td>Past</td>\n",
       "      <td>08Jun2020</td>\n",
       "      <td>14Jun2020</td>\n",
       "      <td>9483499</td>\n",
       "    </tr>\n",
       "    <tr>\n",
       "      <th>7th</th>\n",
       "      <td>Past</td>\n",
       "      <td>15Jun2020</td>\n",
       "      <td>23Jun2020</td>\n",
       "      <td>9483499</td>\n",
       "    </tr>\n",
       "    <tr>\n",
       "      <th>8th</th>\n",
       "      <td>Past</td>\n",
       "      <td>24Jun2020</td>\n",
       "      <td>11Jul2020</td>\n",
       "      <td>9483499</td>\n",
       "    </tr>\n",
       "    <tr>\n",
       "      <th>9th</th>\n",
       "      <td>Past</td>\n",
       "      <td>12Jul2020</td>\n",
       "      <td>22Aug2020</td>\n",
       "      <td>9483499</td>\n",
       "    </tr>\n",
       "    <tr>\n",
       "      <th>10th</th>\n",
       "      <td>Past</td>\n",
       "      <td>23Aug2020</td>\n",
       "      <td>24Sep2020</td>\n",
       "      <td>9483499</td>\n",
       "    </tr>\n",
       "    <tr>\n",
       "      <th>11th</th>\n",
       "      <td>Past</td>\n",
       "      <td>25Sep2020</td>\n",
       "      <td>13Oct2020</td>\n",
       "      <td>9483499</td>\n",
       "    </tr>\n",
       "    <tr>\n",
       "      <th>12th</th>\n",
       "      <td>Past</td>\n",
       "      <td>14Oct2020</td>\n",
       "      <td>24Oct2020</td>\n",
       "      <td>9483499</td>\n",
       "    </tr>\n",
       "    <tr>\n",
       "      <th>13th</th>\n",
       "      <td>Past</td>\n",
       "      <td>25Oct2020</td>\n",
       "      <td>31Oct2020</td>\n",
       "      <td>9483499</td>\n",
       "    </tr>\n",
       "    <tr>\n",
       "      <th>14th</th>\n",
       "      <td>Past</td>\n",
       "      <td>01Nov2020</td>\n",
       "      <td>09Nov2020</td>\n",
       "      <td>9483499</td>\n",
       "    </tr>\n",
       "    <tr>\n",
       "      <th rowspan=\"15\" valign=\"top\">Egypt</th>\n",
       "      <th>0th</th>\n",
       "      <td>Past</td>\n",
       "      <td>28Feb2020</td>\n",
       "      <td>02May2020</td>\n",
       "      <td>98423595</td>\n",
       "    </tr>\n",
       "    <tr>\n",
       "      <th>1st</th>\n",
       "      <td>Past</td>\n",
       "      <td>03May2020</td>\n",
       "      <td>17May2020</td>\n",
       "      <td>98423595</td>\n",
       "    </tr>\n",
       "    <tr>\n",
       "      <th>2nd</th>\n",
       "      <td>Past</td>\n",
       "      <td>18May2020</td>\n",
       "      <td>28May2020</td>\n",
       "      <td>98423595</td>\n",
       "    </tr>\n",
       "    <tr>\n",
       "      <th>3rd</th>\n",
       "      <td>Past</td>\n",
       "      <td>29May2020</td>\n",
       "      <td>03Jun2020</td>\n",
       "      <td>98423595</td>\n",
       "    </tr>\n",
       "    <tr>\n",
       "      <th>4th</th>\n",
       "      <td>Past</td>\n",
       "      <td>04Jun2020</td>\n",
       "      <td>13Jun2020</td>\n",
       "      <td>98423595</td>\n",
       "    </tr>\n",
       "    <tr>\n",
       "      <th>5th</th>\n",
       "      <td>Past</td>\n",
       "      <td>14Jun2020</td>\n",
       "      <td>23Jun2020</td>\n",
       "      <td>98423595</td>\n",
       "    </tr>\n",
       "    <tr>\n",
       "      <th>6th</th>\n",
       "      <td>Past</td>\n",
       "      <td>24Jun2020</td>\n",
       "      <td>02Jul2020</td>\n",
       "      <td>98423595</td>\n",
       "    </tr>\n",
       "    <tr>\n",
       "      <th>7th</th>\n",
       "      <td>Past</td>\n",
       "      <td>03Jul2020</td>\n",
       "      <td>13Jul2020</td>\n",
       "      <td>98423595</td>\n",
       "    </tr>\n",
       "    <tr>\n",
       "      <th>8th</th>\n",
       "      <td>Past</td>\n",
       "      <td>14Jul2020</td>\n",
       "      <td>19Jul2020</td>\n",
       "      <td>98423595</td>\n",
       "    </tr>\n",
       "    <tr>\n",
       "      <th>9th</th>\n",
       "      <td>Past</td>\n",
       "      <td>20Jul2020</td>\n",
       "      <td>27Jul2020</td>\n",
       "      <td>98423595</td>\n",
       "    </tr>\n",
       "    <tr>\n",
       "      <th>10th</th>\n",
       "      <td>Past</td>\n",
       "      <td>28Jul2020</td>\n",
       "      <td>09Aug2020</td>\n",
       "      <td>98423595</td>\n",
       "    </tr>\n",
       "    <tr>\n",
       "      <th>11th</th>\n",
       "      <td>Past</td>\n",
       "      <td>10Aug2020</td>\n",
       "      <td>27Aug2020</td>\n",
       "      <td>98423595</td>\n",
       "    </tr>\n",
       "    <tr>\n",
       "      <th>12th</th>\n",
       "      <td>Past</td>\n",
       "      <td>28Aug2020</td>\n",
       "      <td>12Sep2020</td>\n",
       "      <td>98423595</td>\n",
       "    </tr>\n",
       "    <tr>\n",
       "      <th>13th</th>\n",
       "      <td>Past</td>\n",
       "      <td>13Sep2020</td>\n",
       "      <td>08Oct2020</td>\n",
       "      <td>98423595</td>\n",
       "    </tr>\n",
       "    <tr>\n",
       "      <th>14th</th>\n",
       "      <td>Past</td>\n",
       "      <td>09Oct2020</td>\n",
       "      <td>09Nov2020</td>\n",
       "      <td>98423595</td>\n",
       "    </tr>\n",
       "  </tbody>\n",
       "</table>\n",
       "</div>"
      ],
      "text/plain": [
       "               Type      Start        End  Population\n",
       "Country Phase                                        \n",
       "Belarus 0th    Past  09Mar2020  26Apr2020     9483499\n",
       "        1st    Past  27Apr2020  08May2020     9483499\n",
       "        2nd    Past  09May2020  15May2020     9483499\n",
       "        3rd    Past  16May2020  23May2020     9483499\n",
       "        4th    Past  24May2020  30May2020     9483499\n",
       "        5th    Past  31May2020  07Jun2020     9483499\n",
       "        6th    Past  08Jun2020  14Jun2020     9483499\n",
       "        7th    Past  15Jun2020  23Jun2020     9483499\n",
       "        8th    Past  24Jun2020  11Jul2020     9483499\n",
       "        9th    Past  12Jul2020  22Aug2020     9483499\n",
       "        10th   Past  23Aug2020  24Sep2020     9483499\n",
       "        11th   Past  25Sep2020  13Oct2020     9483499\n",
       "        12th   Past  14Oct2020  24Oct2020     9483499\n",
       "        13th   Past  25Oct2020  31Oct2020     9483499\n",
       "        14th   Past  01Nov2020  09Nov2020     9483499\n",
       "Egypt   0th    Past  28Feb2020  02May2020    98423595\n",
       "        1st    Past  03May2020  17May2020    98423595\n",
       "        2nd    Past  18May2020  28May2020    98423595\n",
       "        3rd    Past  29May2020  03Jun2020    98423595\n",
       "        4th    Past  04Jun2020  13Jun2020    98423595\n",
       "        5th    Past  14Jun2020  23Jun2020    98423595\n",
       "        6th    Past  24Jun2020  02Jul2020    98423595\n",
       "        7th    Past  03Jul2020  13Jul2020    98423595\n",
       "        8th    Past  14Jul2020  19Jul2020    98423595\n",
       "        9th    Past  20Jul2020  27Jul2020    98423595\n",
       "        10th   Past  28Jul2020  09Aug2020    98423595\n",
       "        11th   Past  10Aug2020  27Aug2020    98423595\n",
       "        12th   Past  28Aug2020  12Sep2020    98423595\n",
       "        13th   Past  13Sep2020  08Oct2020    98423595\n",
       "        14th   Past  09Oct2020  09Nov2020    98423595"
      ]
     },
     "execution_count": 10,
     "metadata": {},
     "output_type": "execute_result"
    }
   ],
   "source": [
    "# Here, only show the countries which have the most phases\n",
    "countries_show = max(phase_len_dict.items(), key=lambda x: x[0])[1]\n",
    "# Show summary\n",
    "analyser.summary(countries=countries_show)"
   ]
  },
  {
   "cell_type": "markdown",
   "metadata": {},
   "source": [
    "## Parameter estimation\n",
    "we will estimate the parameter values with SIR-derived ODE models in each country."
   ]
  },
  {
   "cell_type": "code",
   "execution_count": 11,
   "metadata": {
    "collapsed": false,
    "tags": []
   },
   "outputs": [
    {
     "name": "stdout",
     "output_type": "stream",
     "text": [
      "\n",
      "<SIR-F model: parameter estimation>\n",
      "Running optimization with 4 CPUs...\n"
     ]
    },
    {
     "name": "stdout",
     "output_type": "stream",
     "text": [
      "\tBLR, 13th phase (25Oct2020 - 31Oct2020): finished  229 trials in 0 min 10 sec"
     ]
    },
    {
     "name": "stdout",
     "output_type": "stream",
     "text": [
      "\n"
     ]
    },
    {
     "name": "stdout",
     "output_type": "stream",
     "text": [
      "\tHND,  3rd phase (16Jul2020 - 24Jul2020): finished  331 trials in 0 min 15 sec"
     ]
    },
    {
     "name": "stdout",
     "output_type": "stream",
     "text": [
      "\n"
     ]
    },
    {
     "name": "stdout",
     "output_type": "stream",
     "text": [
      "\tEGY,  5th phase (14Jun2020 - 23Jun2020): finished  225 trials in 0 min 10 sec"
     ]
    },
    {
     "name": "stdout",
     "output_type": "stream",
     "text": [
      "\n"
     ]
    },
    {
     "name": "stdout",
     "output_type": "stream",
     "text": [
      "\tBLR, 12th phase (14Oct2020 - 24Oct2020): finished 1115 trials in 1 min  0 sec"
     ]
    },
    {
     "name": "stdout",
     "output_type": "stream",
     "text": [
      "\n"
     ]
    },
    {
     "name": "stdout",
     "output_type": "stream",
     "text": [
      "\tLVA,  5th phase (15May2020 - 27May2020): finished 1255 trials in 1 min  0 sec"
     ]
    },
    {
     "name": "stdout",
     "output_type": "stream",
     "text": [
      "\n"
     ]
    },
    {
     "name": "stdout",
     "output_type": "stream",
     "text": [
      "\tRUS,  5th phase (30Jun2020 - 17Jul2020): finished 1103 trials in 1 min  0 sec"
     ]
    },
    {
     "name": "stdout",
     "output_type": "stream",
     "text": [
      "\n"
     ]
    },
    {
     "name": "stdout",
     "output_type": "stream",
     "text": [
      "\tHND,  9th phase (23Sep2020 - 30Sep2020): finished 1110 trials in 1 min  0 sec"
     ]
    },
    {
     "name": "stdout",
     "output_type": "stream",
     "text": [
      "\n"
     ]
    },
    {
     "name": "stdout",
     "output_type": "stream",
     "text": [
      "\tHND,  8th phase (12Sep2020 - 22Sep2020): finished  613 trials in 0 min 35 sec"
     ]
    },
    {
     "name": "stdout",
     "output_type": "stream",
     "text": [
      "\n"
     ]
    },
    {
     "name": "stdout",
     "output_type": "stream",
     "text": [
      "\tSOM,  3rd phase (22May2020 - 27May2020): finished  977 trials in 1 min  0 sec"
     ]
    },
    {
     "name": "stdout",
     "output_type": "stream",
     "text": [
      "\n"
     ]
    },
    {
     "name": "stdout",
     "output_type": "stream",
     "text": [
      "\tEGY,  1st phase (03May2020 - 17May2020): finished  975 trials in 1 min  0 sec"
     ]
    },
    {
     "name": "stdout",
     "output_type": "stream",
     "text": [
      "\n"
     ]
    },
    {
     "name": "stdout",
     "output_type": "stream",
     "text": [
      "\tRUS,  0th phase (12Feb2020 - 04May2020): finished  989 trials in 1 min  0 sec"
     ]
    },
    {
     "name": "stdout",
     "output_type": "stream",
     "text": [
      "\n"
     ]
    },
    {
     "name": "stdout",
     "output_type": "stream",
     "text": [
      "\tBLR,  1st phase (27Apr2020 - 08May2020): finished 1011 trials in 1 min  0 sec"
     ]
    },
    {
     "name": "stdout",
     "output_type": "stream",
     "text": [
      "\n"
     ]
    },
    {
     "name": "stdout",
     "output_type": "stream",
     "text": [
      "\tBLR,  4th phase (24May2020 - 30May2020): finished  671 trials in 0 min 35 sec"
     ]
    },
    {
     "name": "stdout",
     "output_type": "stream",
     "text": [
      "\n"
     ]
    },
    {
     "name": "stdout",
     "output_type": "stream",
     "text": [
      "\tBLR,  8th phase (24Jun2020 - 11Jul2020): finished 1080 trials in 1 min  0 sec"
     ]
    },
    {
     "name": "stdout",
     "output_type": "stream",
     "text": [
      "\n"
     ]
    },
    {
     "name": "stdout",
     "output_type": "stream",
     "text": [
      "\tEGY,  9th phase (20Jul2020 - 27Jul2020): finished  206 trials in 0 min 10 sec"
     ]
    },
    {
     "name": "stdout",
     "output_type": "stream",
     "text": [
      "\n"
     ]
    },
    {
     "name": "stdout",
     "output_type": "stream",
     "text": [
      "\tRUS,  4th phase (13Jun2020 - 29Jun2020): finished 1059 trials in 1 min  0 sec"
     ]
    },
    {
     "name": "stdout",
     "output_type": "stream",
     "text": [
      "\n"
     ]
    },
    {
     "name": "stdout",
     "output_type": "stream",
     "text": [
      "\tRUS,  7th phase (07Aug2020 - 28Aug2020): finished 1087 trials in 1 min  0 sec"
     ]
    },
    {
     "name": "stdout",
     "output_type": "stream",
     "text": [
      "\n"
     ]
    },
    {
     "name": "stdout",
     "output_type": "stream",
     "text": [
      "\tEGY,  8th phase (14Jul2020 - 19Jul2020): finished  408 trials in 0 min 20 sec"
     ]
    },
    {
     "name": "stdout",
     "output_type": "stream",
     "text": [
      "\n"
     ]
    },
    {
     "name": "stdout",
     "output_type": "stream",
     "text": [
      "\tSOM,  1st phase (04May2020 - 13May2020): finished 1097 trials in 1 min  0 sec"
     ]
    },
    {
     "name": "stdout",
     "output_type": "stream",
     "text": [
      "\n"
     ]
    },
    {
     "name": "stdout",
     "output_type": "stream",
     "text": [
      "\tHND, 10th phase (01Oct2020 - 08Oct2020): finished  208 trials in 0 min 10 sec"
     ]
    },
    {
     "name": "stdout",
     "output_type": "stream",
     "text": [
      "\n"
     ]
    },
    {
     "name": "stdout",
     "output_type": "stream",
     "text": [
      "\tLVA,  7th phase (09Jul2020 - 04Aug2020): finished 1215 trials in 1 min  0 sec"
     ]
    },
    {
     "name": "stdout",
     "output_type": "stream",
     "text": [
      "\n"
     ]
    },
    {
     "name": "stdout",
     "output_type": "stream",
     "text": [
      "\tSOM, 11th phase (16Sep2020 - 30Sep2020): finished 1200 trials in 1 min  0 sec"
     ]
    },
    {
     "name": "stdout",
     "output_type": "stream",
     "text": [
      "\n"
     ]
    },
    {
     "name": "stdout",
     "output_type": "stream",
     "text": [
      "\tEGY, 11th phase (10Aug2020 - 27Aug2020): finished  239 trials in 0 min 10 sec"
     ]
    },
    {
     "name": "stdout",
     "output_type": "stream",
     "text": [
      "\n"
     ]
    },
    {
     "name": "stdout",
     "output_type": "stream",
     "text": [
      "\tSOM, 13th phase (29Oct2020 - 09Nov2020): finished 1466 trials in 1 min  0 sec"
     ]
    },
    {
     "name": "stdout",
     "output_type": "stream",
     "text": [
      "\n"
     ]
    },
    {
     "name": "stdout",
     "output_type": "stream",
     "text": [
      "\tLVA,  4th phase (07May2020 - 14May2020): finished 1326 trials in 1 min  0 sec"
     ]
    },
    {
     "name": "stdout",
     "output_type": "stream",
     "text": [
      "\n"
     ]
    },
    {
     "name": "stdout",
     "output_type": "stream",
     "text": [
      "\tHND, 12th phase (18Oct2020 - 26Oct2020): finished 1179 trials in 1 min  0 sec"
     ]
    },
    {
     "name": "stdout",
     "output_type": "stream",
     "text": [
      "\n"
     ]
    },
    {
     "name": "stdout",
     "output_type": "stream",
     "text": [
      "\tRUS, 11th phase (17Oct2020 - 24Oct2020): finished 1215 trials in 1 min  0 sec"
     ]
    },
    {
     "name": "stdout",
     "output_type": "stream",
     "text": [
      "\n"
     ]
    },
    {
     "name": "stdout",
     "output_type": "stream",
     "text": [
      "\tEGY,  4th phase (04Jun2020 - 13Jun2020): finished  469 trials in 0 min 20 sec"
     ]
    },
    {
     "name": "stdout",
     "output_type": "stream",
     "text": [
      "\n"
     ]
    },
    {
     "name": "stdout",
     "output_type": "stream",
     "text": [
      "\tRUS, 10th phase (05Oct2020 - 16Oct2020): finished 1062 trials in 1 min  0 sec"
     ]
    },
    {
     "name": "stdout",
     "output_type": "stream",
     "text": [
      "\n"
     ]
    },
    {
     "name": "stdout",
     "output_type": "stream",
     "text": [
      "\tSOM, 10th phase (30Aug2020 - 15Sep2020): finished 1081 trials in 1 min  0 sec"
     ]
    },
    {
     "name": "stdout",
     "output_type": "stream",
     "text": [
      "\n"
     ]
    },
    {
     "name": "stdout",
     "output_type": "stream",
     "text": [
      "\tEGY,  0th phase (28Feb2020 - 02May2020): finished 1051 trials in 1 min  0 sec"
     ]
    },
    {
     "name": "stdout",
     "output_type": "stream",
     "text": [
      "\n"
     ]
    },
    {
     "name": "stdout",
     "output_type": "stream",
     "text": [
      "\tBLR,  2nd phase (09May2020 - 15May2020): finished 1075 trials in 1 min  0 sec"
     ]
    },
    {
     "name": "stdout",
     "output_type": "stream",
     "text": [
      "\n"
     ]
    },
    {
     "name": "stdout",
     "output_type": "stream",
     "text": [
      "\tBLR,  7th phase (15Jun2020 - 23Jun2020): finished  693 trials in 0 min 30 sec"
     ]
    },
    {
     "name": "stdout",
     "output_type": "stream",
     "text": [
      "\n"
     ]
    },
    {
     "name": "stdout",
     "output_type": "stream",
     "text": [
      "\tEGY,  3rd phase (29May2020 - 03Jun2020): finished  259 trials in 0 min 10 sec"
     ]
    },
    {
     "name": "stdout",
     "output_type": "stream",
     "text": [
      "\n"
     ]
    },
    {
     "name": "stdout",
     "output_type": "stream",
     "text": [
      "\tBLR,  3rd phase (16May2020 - 23May2020): finished 1190 trials in 1 min  0 sec"
     ]
    },
    {
     "name": "stdout",
     "output_type": "stream",
     "text": [
      "\n"
     ]
    },
    {
     "name": "stdout",
     "output_type": "stream",
     "text": [
      "\tBLR, 10th phase (23Aug2020 - 24Sep2020): finished 1186 trials in 1 min  0 sec"
     ]
    },
    {
     "name": "stdout",
     "output_type": "stream",
     "text": [
      "\n"
     ]
    },
    {
     "name": "stdout",
     "output_type": "stream",
     "text": [
      "\tEGY,  7th phase (03Jul2020 - 13Jul2020): finished  234 trials in 0 min 10 sec"
     ]
    },
    {
     "name": "stdout",
     "output_type": "stream",
     "text": [
      "\n"
     ]
    },
    {
     "name": "stdout",
     "output_type": "stream",
     "text": [
      "\tSOM, 12th phase (01Oct2020 - 28Oct2020): finished 1508 trials in 1 min  0 sec"
     ]
    },
    {
     "name": "stdout",
     "output_type": "stream",
     "text": [
      "\n"
     ]
    },
    {
     "name": "stdout",
     "output_type": "stream",
     "text": [
      "\tLVA, 12th phase (22Oct2020 - 01Nov2020): finished 1424 trials in 1 min  0 sec"
     ]
    },
    {
     "name": "stdout",
     "output_type": "stream",
     "text": [
      "\n"
     ]
    },
    {
     "name": "stdout",
     "output_type": "stream",
     "text": [
      "\tLVA, 11th phase (29Sep2020 - 21Oct2020): finished 1416 trials in 1 min  0 sec"
     ]
    },
    {
     "name": "stdout",
     "output_type": "stream",
     "text": [
      "\n"
     ]
    },
    {
     "name": "stdout",
     "output_type": "stream",
     "text": [
      "\tSOM,  6th phase (16Jun2020 - 21Jun2020): finished 1400 trials in 1 min  0 sec"
     ]
    },
    {
     "name": "stdout",
     "output_type": "stream",
     "text": [
      "\n"
     ]
    },
    {
     "name": "stdout",
     "output_type": "stream",
     "text": [
      "\tHND,  2nd phase (30Jun2020 - 15Jul2020): finished 1388 trials in 1 min  0 sec"
     ]
    },
    {
     "name": "stdout",
     "output_type": "stream",
     "text": [
      "\n"
     ]
    },
    {
     "name": "stdout",
     "output_type": "stream",
     "text": [
      "\tRUS,  6th phase (18Jul2020 - 06Aug2020): finished 1406 trials in 1 min  0 sec"
     ]
    },
    {
     "name": "stdout",
     "output_type": "stream",
     "text": [
      "\n"
     ]
    },
    {
     "name": "stdout",
     "output_type": "stream",
     "text": [
      "\tSOM,  8th phase (04Jul2020 - 20Jul2020): finished 1392 trials in 1 min  0 sec"
     ]
    },
    {
     "name": "stdout",
     "output_type": "stream",
     "text": [
      "\n"
     ]
    },
    {
     "name": "stdout",
     "output_type": "stream",
     "text": [
      "\tEGY, 12th phase (28Aug2020 - 12Sep2020): finished  438 trials in 0 min 15 sec"
     ]
    },
    {
     "name": "stdout",
     "output_type": "stream",
     "text": [
      "\n"
     ]
    },
    {
     "name": "stdout",
     "output_type": "stream",
     "text": [
      "\tHND, 11th phase (09Oct2020 - 17Oct2020): finished 1342 trials in 0 min 55 sec"
     ]
    },
    {
     "name": "stdout",
     "output_type": "stream",
     "text": [
      "\n"
     ]
    },
    {
     "name": "stdout",
     "output_type": "stream",
     "text": [
      "\tRUS,  9th phase (19Sep2020 - 04Oct2020): finished 1391 trials in 1 min  0 sec"
     ]
    },
    {
     "name": "stdout",
     "output_type": "stream",
     "text": [
      "\n"
     ]
    },
    {
     "name": "stdout",
     "output_type": "stream",
     "text": [
      "\tEGY, 14th phase (09Oct2020 - 09Nov2020): finished 1374 trials in 1 min  0 sec"
     ]
    },
    {
     "name": "stdout",
     "output_type": "stream",
     "text": [
      "\n"
     ]
    },
    {
     "name": "stdout",
     "output_type": "stream",
     "text": [
      "\tBLR, 14th phase (01Nov2020 - 09Nov2020): finished  189 trials in 0 min  5 sec"
     ]
    },
    {
     "name": "stdout",
     "output_type": "stream",
     "text": [
      "\n"
     ]
    },
    {
     "name": "stdout",
     "output_type": "stream",
     "text": [
      "\tHND,  6th phase (20Aug2020 - 29Aug2020): finished 1453 trials in 1 min  0 sec"
     ]
    },
    {
     "name": "stdout",
     "output_type": "stream",
     "text": [
      "\n"
     ]
    },
    {
     "name": "stdout",
     "output_type": "stream",
     "text": [
      "\tHND, 13th phase (27Oct2020 - 09Nov2020): finished 1537 trials in 1 min  0 sec"
     ]
    },
    {
     "name": "stdout",
     "output_type": "stream",
     "text": [
      "\n"
     ]
    },
    {
     "name": "stdout",
     "output_type": "stream",
     "text": [
      "\tLVA, 13th phase (02Nov2020 - 09Nov2020): finished 1571 trials in 1 min  0 sec"
     ]
    },
    {
     "name": "stdout",
     "output_type": "stream",
     "text": [
      "\n"
     ]
    },
    {
     "name": "stdout",
     "output_type": "stream",
     "text": [
      "\tSOM,  2nd phase (14May2020 - 21May2020): finished  196 trials in 0 min  5 sec"
     ]
    },
    {
     "name": "stdout",
     "output_type": "stream",
     "text": [
      "\n"
     ]
    },
    {
     "name": "stdout",
     "output_type": "stream",
     "text": [
      "\tBLR,  9th phase (12Jul2020 - 22Aug2020): finished 1643 trials in 1 min  0 sec"
     ]
    },
    {
     "name": "stdout",
     "output_type": "stream",
     "text": [
      "\n"
     ]
    },
    {
     "name": "stdout",
     "output_type": "stream",
     "text": [
      "\tRUS,  2nd phase (17May2020 - 30May2020): finished 1681 trials in 1 min  0 sec"
     ]
    },
    {
     "name": "stdout",
     "output_type": "stream",
     "text": [
      "\n"
     ]
    },
    {
     "name": "stdout",
     "output_type": "stream",
     "text": [
      "\tBLR,  0th phase (09Mar2020 - 26Apr2020): finished 1661 trials in 1 min  0 sec"
     ]
    },
    {
     "name": "stdout",
     "output_type": "stream",
     "text": [
      "\n"
     ]
    },
    {
     "name": "stdout",
     "output_type": "stream",
     "text": [
      "\tLVA,  2nd phase (21Apr2020 - 27Apr2020): finished 1913 trials in 1 min  0 sec"
     ]
    },
    {
     "name": "stdout",
     "output_type": "stream",
     "text": [
      "\n"
     ]
    },
    {
     "name": "stdout",
     "output_type": "stream",
     "text": [
      "\tEGY, 10th phase (28Jul2020 - 09Aug2020): finished  372 trials in 0 min 10 sec"
     ]
    },
    {
     "name": "stdout",
     "output_type": "stream",
     "text": [
      "\n"
     ]
    },
    {
     "name": "stdout",
     "output_type": "stream",
     "text": [
      "\tHND,  7th phase (30Aug2020 - 11Sep2020): finished 1697 trials in 1 min  0 sec"
     ]
    },
    {
     "name": "stdout",
     "output_type": "stream",
     "text": [
      "\n"
     ]
    },
    {
     "name": "stdout",
     "output_type": "stream",
     "text": [
      "\tLVA,  6th phase (28May2020 - 08Jul2020): finished 1676 trials in 1 min  0 sec"
     ]
    },
    {
     "name": "stdout",
     "output_type": "stream",
     "text": [
      "\n"
     ]
    },
    {
     "name": "stdout",
     "output_type": "stream",
     "text": [
      "\tRUS,  3rd phase (31May2020 - 12Jun2020): finished 1703 trials in 1 min  0 sec"
     ]
    },
    {
     "name": "stdout",
     "output_type": "stream",
     "text": [
      "\n"
     ]
    },
    {
     "name": "stdout",
     "output_type": "stream",
     "text": [
      "\tLVA,  0th phase (10Mar2020 - 06Apr2020): finished 1856 trials in 1 min  0 sec"
     ]
    },
    {
     "name": "stdout",
     "output_type": "stream",
     "text": [
      "\n"
     ]
    },
    {
     "name": "stdout",
     "output_type": "stream",
     "text": [
      "\tHND,  0th phase (28Mar2020 - 13Jun2020): finished 1445 trials in 1 min  0 sec"
     ]
    },
    {
     "name": "stdout",
     "output_type": "stream",
     "text": [
      "\n"
     ]
    },
    {
     "name": "stdout",
     "output_type": "stream",
     "text": [
      "\tHND,  1st phase (14Jun2020 - 29Jun2020): finished  601 trials in 0 min 25 sec"
     ]
    },
    {
     "name": "stdout",
     "output_type": "stream",
     "text": [
      "\n"
     ]
    },
    {
     "name": "stdout",
     "output_type": "stream",
     "text": [
      "\tRUS,  1st phase (05May2020 - 16May2020): finished 1456 trials in 1 min  0 sec"
     ]
    },
    {
     "name": "stdout",
     "output_type": "stream",
     "text": [
      "\n"
     ]
    },
    {
     "name": "stdout",
     "output_type": "stream",
     "text": [
      "\tSOM,  9th phase (21Jul2020 - 29Aug2020): finished 1401 trials in 1 min  0 sec"
     ]
    },
    {
     "name": "stdout",
     "output_type": "stream",
     "text": [
      "\n"
     ]
    },
    {
     "name": "stdout",
     "output_type": "stream",
     "text": [
      "\tBLR,  5th phase (31May2020 - 07Jun2020): finished 1488 trials in 1 min  0 sec"
     ]
    },
    {
     "name": "stdout",
     "output_type": "stream",
     "text": [
      "\n"
     ]
    },
    {
     "name": "stdout",
     "output_type": "stream",
     "text": [
      "\tSOM,  5th phase (05Jun2020 - 15Jun2020): finished 1508 trials in 1 min  0 sec"
     ]
    },
    {
     "name": "stdout",
     "output_type": "stream",
     "text": [
      "\n"
     ]
    },
    {
     "name": "stdout",
     "output_type": "stream",
     "text": [
      "\tLVA,  3rd phase (28Apr2020 - 06May2020): finished 1667 trials in 1 min  0 sec"
     ]
    },
    {
     "name": "stdout",
     "output_type": "stream",
     "text": [
      "\n"
     ]
    },
    {
     "name": "stdout",
     "output_type": "stream",
     "text": [
      "\tBLR,  6th phase (08Jun2020 - 14Jun2020): finished  650 trials in 0 min 25 sec"
     ]
    },
    {
     "name": "stdout",
     "output_type": "stream",
     "text": [
      "\n"
     ]
    },
    {
     "name": "stdout",
     "output_type": "stream",
     "text": [
      "\tEGY, 13th phase (13Sep2020 - 08Oct2020): finished  688 trials in 0 min 25 sec"
     ]
    },
    {
     "name": "stdout",
     "output_type": "stream",
     "text": [
      "\n"
     ]
    },
    {
     "name": "stdout",
     "output_type": "stream",
     "text": [
      "\tBLR, 11th phase (25Sep2020 - 13Oct2020): finished 1446 trials in 1 min  0 sec"
     ]
    },
    {
     "name": "stdout",
     "output_type": "stream",
     "text": [
      "\n"
     ]
    },
    {
     "name": "stdout",
     "output_type": "stream",
     "text": [
      "\tLVA,  8th phase (05Aug2020 - 28Aug2020): finished 1578 trials in 1 min  0 sec"
     ]
    },
    {
     "name": "stdout",
     "output_type": "stream",
     "text": [
      "\n"
     ]
    },
    {
     "name": "stdout",
     "output_type": "stream",
     "text": [
      "\tSOM,  4th phase (28May2020 - 04Jun2020): finished 1432 trials in 1 min  0 sec"
     ]
    },
    {
     "name": "stdout",
     "output_type": "stream",
     "text": [
      "\n"
     ]
    },
    {
     "name": "stdout",
     "output_type": "stream",
     "text": [
      "\tLVA,  9th phase (29Aug2020 - 18Sep2020): finished 1562 trials in 1 min  0 sec"
     ]
    },
    {
     "name": "stdout",
     "output_type": "stream",
     "text": [
      "\n"
     ]
    },
    {
     "name": "stdout",
     "output_type": "stream",
     "text": [
      "\tLVA,  1st phase (07Apr2020 - 20Apr2020): finished 1613 trials in 1 min  0 sec"
     ]
    },
    {
     "name": "stdout",
     "output_type": "stream",
     "text": [
      "\n"
     ]
    },
    {
     "name": "stdout",
     "output_type": "stream",
     "text": [
      "\tHND,  5th phase (06Aug2020 - 19Aug2020): finished  863 trials in 0 min 30 sec"
     ]
    },
    {
     "name": "stdout",
     "output_type": "stream",
     "text": [
      "\n"
     ]
    },
    {
     "name": "stdout",
     "output_type": "stream",
     "text": [
      "\tLVA, 10th phase (19Sep2020 - 28Sep2020): finished 1642 trials in 1 min  0 sec"
     ]
    },
    {
     "name": "stdout",
     "output_type": "stream",
     "text": [
      "\n"
     ]
    },
    {
     "name": "stdout",
     "output_type": "stream",
     "text": [
      "\tHND,  4th phase (25Jul2020 - 05Aug2020): finished 1399 trials in 1 min  0 sec"
     ]
    },
    {
     "name": "stdout",
     "output_type": "stream",
     "text": [
      "\n"
     ]
    },
    {
     "name": "stdout",
     "output_type": "stream",
     "text": [
      "\tSOM,  0th phase (31Mar2020 - 03May2020): finished 1402 trials in 1 min  0 sec"
     ]
    },
    {
     "name": "stdout",
     "output_type": "stream",
     "text": [
      "\n"
     ]
    },
    {
     "name": "stdout",
     "output_type": "stream",
     "text": [
      "\tEGY,  2nd phase (18May2020 - 28May2020): finished 1393 trials in 1 min  0 sec"
     ]
    },
    {
     "name": "stdout",
     "output_type": "stream",
     "text": [
      "\n"
     ]
    },
    {
     "name": "stdout",
     "output_type": "stream",
     "text": [
      "\tEGY,  6th phase (24Jun2020 - 02Jul2020): finished  162 trials in 0 min  5 sec"
     ]
    },
    {
     "name": "stdout",
     "output_type": "stream",
     "text": [
      "\n"
     ]
    },
    {
     "name": "stdout",
     "output_type": "stream",
     "text": [
      "\tSOM,  7th phase (22Jun2020 - 03Jul2020): finished  697 trials in 0 min 25 sec"
     ]
    },
    {
     "name": "stdout",
     "output_type": "stream",
     "text": [
      "\n"
     ]
    },
    {
     "name": "stdout",
     "output_type": "stream",
     "text": [
      "Completed optimization. Total: 18 min 29 sec\n"
     ]
    }
   ],
   "source": [
    "# Parameter estimation with SIR-F model\n",
    "analyser.estimate(cs.SIRF)"
   ]
  },
  {
   "cell_type": "code",
   "execution_count": 12,
   "metadata": {
    "collapsed": false
   },
   "outputs": [
    {
     "data": {
      "text/html": [
       "<div>\n",
       "<style scoped>\n",
       "    .dataframe tbody tr th:only-of-type {\n",
       "        vertical-align: middle;\n",
       "    }\n",
       "\n",
       "    .dataframe tbody tr th {\n",
       "        vertical-align: top;\n",
       "    }\n",
       "\n",
       "    .dataframe thead th {\n",
       "        text-align: right;\n",
       "    }\n",
       "</style>\n",
       "<table border=\"1\" class=\"dataframe\">\n",
       "  <thead>\n",
       "    <tr style=\"text-align: right;\">\n",
       "      <th></th>\n",
       "      <th></th>\n",
       "      <th>Type</th>\n",
       "      <th>Start</th>\n",
       "      <th>End</th>\n",
       "      <th>Population</th>\n",
       "      <th>ODE</th>\n",
       "      <th>Rt</th>\n",
       "      <th>theta</th>\n",
       "      <th>kappa</th>\n",
       "      <th>rho</th>\n",
       "      <th>sigma</th>\n",
       "      <th>tau</th>\n",
       "      <th>1/beta [day]</th>\n",
       "      <th>1/gamma [day]</th>\n",
       "      <th>alpha1 [-]</th>\n",
       "      <th>1/alpha2 [day]</th>\n",
       "      <th>RMSLE</th>\n",
       "      <th>Trials</th>\n",
       "      <th>Runtime</th>\n",
       "    </tr>\n",
       "    <tr>\n",
       "      <th>Country</th>\n",
       "      <th>Phase</th>\n",
       "      <th></th>\n",
       "      <th></th>\n",
       "      <th></th>\n",
       "      <th></th>\n",
       "      <th></th>\n",
       "      <th></th>\n",
       "      <th></th>\n",
       "      <th></th>\n",
       "      <th></th>\n",
       "      <th></th>\n",
       "      <th></th>\n",
       "      <th></th>\n",
       "      <th></th>\n",
       "      <th></th>\n",
       "      <th></th>\n",
       "      <th></th>\n",
       "      <th></th>\n",
       "      <th></th>\n",
       "    </tr>\n",
       "  </thead>\n",
       "  <tbody>\n",
       "    <tr>\n",
       "      <th rowspan=\"15\" valign=\"top\">Belarus</th>\n",
       "      <th>0th</th>\n",
       "      <td>Past</td>\n",
       "      <td>09Mar2020</td>\n",
       "      <td>26Apr2020</td>\n",
       "      <td>9483499</td>\n",
       "      <td>SIR-F</td>\n",
       "      <td>9.20</td>\n",
       "      <td>0.000294</td>\n",
       "      <td>0.000256</td>\n",
       "      <td>0.045833</td>\n",
       "      <td>0.004723</td>\n",
       "      <td>360</td>\n",
       "      <td>5</td>\n",
       "      <td>52</td>\n",
       "      <td>0.000</td>\n",
       "      <td>975</td>\n",
       "      <td>1.383630</td>\n",
       "      <td>1661</td>\n",
       "      <td>1 min  0 sec</td>\n",
       "    </tr>\n",
       "    <tr>\n",
       "      <th>1st</th>\n",
       "      <td>Past</td>\n",
       "      <td>27Apr2020</td>\n",
       "      <td>08May2020</td>\n",
       "      <td>9483499</td>\n",
       "      <td>SIR-F</td>\n",
       "      <td>2.09</td>\n",
       "      <td>0.000460</td>\n",
       "      <td>0.000084</td>\n",
       "      <td>0.017633</td>\n",
       "      <td>0.008342</td>\n",
       "      <td>360</td>\n",
       "      <td>14</td>\n",
       "      <td>29</td>\n",
       "      <td>0.000</td>\n",
       "      <td>2978</td>\n",
       "      <td>0.132252</td>\n",
       "      <td>1011</td>\n",
       "      <td>1 min  0 sec</td>\n",
       "    </tr>\n",
       "    <tr>\n",
       "      <th>2nd</th>\n",
       "      <td>Past</td>\n",
       "      <td>09May2020</td>\n",
       "      <td>15May2020</td>\n",
       "      <td>9483499</td>\n",
       "      <td>SIR-F</td>\n",
       "      <td>2.15</td>\n",
       "      <td>0.004998</td>\n",
       "      <td>0.000002</td>\n",
       "      <td>0.013226</td>\n",
       "      <td>0.006130</td>\n",
       "      <td>360</td>\n",
       "      <td>18</td>\n",
       "      <td>40</td>\n",
       "      <td>0.005</td>\n",
       "      <td>132858</td>\n",
       "      <td>0.018763</td>\n",
       "      <td>1075</td>\n",
       "      <td>1 min  0 sec</td>\n",
       "    </tr>\n",
       "    <tr>\n",
       "      <th>3rd</th>\n",
       "      <td>Past</td>\n",
       "      <td>16May2020</td>\n",
       "      <td>23May2020</td>\n",
       "      <td>9483499</td>\n",
       "      <td>SIR-F</td>\n",
       "      <td>1.46</td>\n",
       "      <td>0.001254</td>\n",
       "      <td>0.000046</td>\n",
       "      <td>0.011308</td>\n",
       "      <td>0.007684</td>\n",
       "      <td>360</td>\n",
       "      <td>22</td>\n",
       "      <td>32</td>\n",
       "      <td>0.001</td>\n",
       "      <td>5464</td>\n",
       "      <td>0.029354</td>\n",
       "      <td>1190</td>\n",
       "      <td>1 min  0 sec</td>\n",
       "    </tr>\n",
       "    <tr>\n",
       "      <th>4th</th>\n",
       "      <td>Past</td>\n",
       "      <td>24May2020</td>\n",
       "      <td>30May2020</td>\n",
       "      <td>9483499</td>\n",
       "      <td>SIR-F</td>\n",
       "      <td>1.41</td>\n",
       "      <td>0.001433</td>\n",
       "      <td>0.000036</td>\n",
       "      <td>0.009963</td>\n",
       "      <td>0.007036</td>\n",
       "      <td>360</td>\n",
       "      <td>25</td>\n",
       "      <td>35</td>\n",
       "      <td>0.001</td>\n",
       "      <td>6889</td>\n",
       "      <td>0.010235</td>\n",
       "      <td>671</td>\n",
       "      <td>0 min 35 sec</td>\n",
       "    </tr>\n",
       "    <tr>\n",
       "      <th>5th</th>\n",
       "      <td>Past</td>\n",
       "      <td>31May2020</td>\n",
       "      <td>07Jun2020</td>\n",
       "      <td>9483499</td>\n",
       "      <td>SIR-F</td>\n",
       "      <td>1.19</td>\n",
       "      <td>0.000019</td>\n",
       "      <td>0.000041</td>\n",
       "      <td>0.008915</td>\n",
       "      <td>0.007429</td>\n",
       "      <td>360</td>\n",
       "      <td>28</td>\n",
       "      <td>33</td>\n",
       "      <td>0.000</td>\n",
       "      <td>6135</td>\n",
       "      <td>0.016228</td>\n",
       "      <td>1488</td>\n",
       "      <td>1 min  0 sec</td>\n",
       "    </tr>\n",
       "    <tr>\n",
       "      <th>6th</th>\n",
       "      <td>Past</td>\n",
       "      <td>08Jun2020</td>\n",
       "      <td>14Jun2020</td>\n",
       "      <td>9483499</td>\n",
       "      <td>SIR-F</td>\n",
       "      <td>0.71</td>\n",
       "      <td>0.000245</td>\n",
       "      <td>0.000060</td>\n",
       "      <td>0.007905</td>\n",
       "      <td>0.011013</td>\n",
       "      <td>360</td>\n",
       "      <td>31</td>\n",
       "      <td>22</td>\n",
       "      <td>0.000</td>\n",
       "      <td>4194</td>\n",
       "      <td>0.012408</td>\n",
       "      <td>650</td>\n",
       "      <td>0 min 25 sec</td>\n",
       "    </tr>\n",
       "    <tr>\n",
       "      <th>7th</th>\n",
       "      <td>Past</td>\n",
       "      <td>15Jun2020</td>\n",
       "      <td>23Jun2020</td>\n",
       "      <td>9483499</td>\n",
       "      <td>SIR-F</td>\n",
       "      <td>0.55</td>\n",
       "      <td>0.000188</td>\n",
       "      <td>0.000060</td>\n",
       "      <td>0.006997</td>\n",
       "      <td>0.012573</td>\n",
       "      <td>360</td>\n",
       "      <td>35</td>\n",
       "      <td>19</td>\n",
       "      <td>0.000</td>\n",
       "      <td>4193</td>\n",
       "      <td>0.012435</td>\n",
       "      <td>693</td>\n",
       "      <td>0 min 30 sec</td>\n",
       "    </tr>\n",
       "    <tr>\n",
       "      <th>8th</th>\n",
       "      <td>Past</td>\n",
       "      <td>24Jun2020</td>\n",
       "      <td>11Jul2020</td>\n",
       "      <td>9483499</td>\n",
       "      <td>SIR-F</td>\n",
       "      <td>0.31</td>\n",
       "      <td>0.000345</td>\n",
       "      <td>0.000079</td>\n",
       "      <td>0.005357</td>\n",
       "      <td>0.017458</td>\n",
       "      <td>360</td>\n",
       "      <td>46</td>\n",
       "      <td>14</td>\n",
       "      <td>0.000</td>\n",
       "      <td>3161</td>\n",
       "      <td>0.071883</td>\n",
       "      <td>1080</td>\n",
       "      <td>1 min  0 sec</td>\n",
       "    </tr>\n",
       "    <tr>\n",
       "      <th>9th</th>\n",
       "      <td>Past</td>\n",
       "      <td>12Jul2020</td>\n",
       "      <td>22Aug2020</td>\n",
       "      <td>9483499</td>\n",
       "      <td>SIR-F</td>\n",
       "      <td>0.35</td>\n",
       "      <td>0.020289</td>\n",
       "      <td>0.000094</td>\n",
       "      <td>0.005595</td>\n",
       "      <td>0.015738</td>\n",
       "      <td>360</td>\n",
       "      <td>44</td>\n",
       "      <td>15</td>\n",
       "      <td>0.020</td>\n",
       "      <td>2662</td>\n",
       "      <td>0.263432</td>\n",
       "      <td>1643</td>\n",
       "      <td>1 min  0 sec</td>\n",
       "    </tr>\n",
       "    <tr>\n",
       "      <th>10th</th>\n",
       "      <td>Past</td>\n",
       "      <td>23Aug2020</td>\n",
       "      <td>24Sep2020</td>\n",
       "      <td>9483499</td>\n",
       "      <td>SIR-F</td>\n",
       "      <td>0.81</td>\n",
       "      <td>0.032982</td>\n",
       "      <td>0.000319</td>\n",
       "      <td>0.058667</td>\n",
       "      <td>0.069738</td>\n",
       "      <td>360</td>\n",
       "      <td>4</td>\n",
       "      <td>3</td>\n",
       "      <td>0.033</td>\n",
       "      <td>783</td>\n",
       "      <td>1.486636</td>\n",
       "      <td>1186</td>\n",
       "      <td>1 min  0 sec</td>\n",
       "    </tr>\n",
       "    <tr>\n",
       "      <th>11th</th>\n",
       "      <td>Past</td>\n",
       "      <td>25Sep2020</td>\n",
       "      <td>13Oct2020</td>\n",
       "      <td>9483499</td>\n",
       "      <td>SIR-F</td>\n",
       "      <td>2.37</td>\n",
       "      <td>0.000180</td>\n",
       "      <td>0.000427</td>\n",
       "      <td>0.026503</td>\n",
       "      <td>0.010739</td>\n",
       "      <td>360</td>\n",
       "      <td>9</td>\n",
       "      <td>23</td>\n",
       "      <td>0.000</td>\n",
       "      <td>585</td>\n",
       "      <td>0.073301</td>\n",
       "      <td>1446</td>\n",
       "      <td>1 min  0 sec</td>\n",
       "    </tr>\n",
       "    <tr>\n",
       "      <th>12th</th>\n",
       "      <td>Past</td>\n",
       "      <td>14Oct2020</td>\n",
       "      <td>24Oct2020</td>\n",
       "      <td>9483499</td>\n",
       "      <td>SIR-F</td>\n",
       "      <td>1.64</td>\n",
       "      <td>0.000194</td>\n",
       "      <td>0.000158</td>\n",
       "      <td>0.024004</td>\n",
       "      <td>0.014474</td>\n",
       "      <td>360</td>\n",
       "      <td>10</td>\n",
       "      <td>17</td>\n",
       "      <td>0.000</td>\n",
       "      <td>1581</td>\n",
       "      <td>0.010844</td>\n",
       "      <td>1115</td>\n",
       "      <td>1 min  0 sec</td>\n",
       "    </tr>\n",
       "    <tr>\n",
       "      <th>13th</th>\n",
       "      <td>Past</td>\n",
       "      <td>25Oct2020</td>\n",
       "      <td>31Oct2020</td>\n",
       "      <td>9483499</td>\n",
       "      <td>SIR-F</td>\n",
       "      <td>1.73</td>\n",
       "      <td>0.001176</td>\n",
       "      <td>0.000071</td>\n",
       "      <td>0.024251</td>\n",
       "      <td>0.013939</td>\n",
       "      <td>360</td>\n",
       "      <td>10</td>\n",
       "      <td>17</td>\n",
       "      <td>0.001</td>\n",
       "      <td>3515</td>\n",
       "      <td>0.005091</td>\n",
       "      <td>229</td>\n",
       "      <td>0 min 10 sec</td>\n",
       "    </tr>\n",
       "    <tr>\n",
       "      <th>14th</th>\n",
       "      <td>Past</td>\n",
       "      <td>01Nov2020</td>\n",
       "      <td>09Nov2020</td>\n",
       "      <td>9483499</td>\n",
       "      <td>SIR-F</td>\n",
       "      <td>1.77</td>\n",
       "      <td>0.001095</td>\n",
       "      <td>0.000071</td>\n",
       "      <td>0.018532</td>\n",
       "      <td>0.010417</td>\n",
       "      <td>360</td>\n",
       "      <td>13</td>\n",
       "      <td>23</td>\n",
       "      <td>0.001</td>\n",
       "      <td>3515</td>\n",
       "      <td>0.018549</td>\n",
       "      <td>189</td>\n",
       "      <td>0 min  5 sec</td>\n",
       "    </tr>\n",
       "    <tr>\n",
       "      <th rowspan=\"15\" valign=\"top\">Egypt</th>\n",
       "      <th>0th</th>\n",
       "      <td>Past</td>\n",
       "      <td>28Feb2020</td>\n",
       "      <td>02May2020</td>\n",
       "      <td>98423595</td>\n",
       "      <td>SIR-F</td>\n",
       "      <td>0.02</td>\n",
       "      <td>0.602763</td>\n",
       "      <td>0.544883</td>\n",
       "      <td>0.025094</td>\n",
       "      <td>0.004698</td>\n",
       "      <td>360</td>\n",
       "      <td>9</td>\n",
       "      <td>53</td>\n",
       "      <td>0.603</td>\n",
       "      <td>0</td>\n",
       "      <td>14.999924</td>\n",
       "      <td>1051</td>\n",
       "      <td>1 min  0 sec</td>\n",
       "    </tr>\n",
       "    <tr>\n",
       "      <th>1st</th>\n",
       "      <td>Past</td>\n",
       "      <td>03May2020</td>\n",
       "      <td>17May2020</td>\n",
       "      <td>98423595</td>\n",
       "      <td>SIR-F</td>\n",
       "      <td>3.68</td>\n",
       "      <td>0.001002</td>\n",
       "      <td>0.000557</td>\n",
       "      <td>0.016880</td>\n",
       "      <td>0.004024</td>\n",
       "      <td>360</td>\n",
       "      <td>14</td>\n",
       "      <td>62</td>\n",
       "      <td>0.001</td>\n",
       "      <td>449</td>\n",
       "      <td>0.042375</td>\n",
       "      <td>975</td>\n",
       "      <td>1 min  0 sec</td>\n",
       "    </tr>\n",
       "    <tr>\n",
       "      <th>2nd</th>\n",
       "      <td>Past</td>\n",
       "      <td>18May2020</td>\n",
       "      <td>28May2020</td>\n",
       "      <td>98423595</td>\n",
       "      <td>SIR-F</td>\n",
       "      <td>3.34</td>\n",
       "      <td>0.021251</td>\n",
       "      <td>0.000048</td>\n",
       "      <td>0.018763</td>\n",
       "      <td>0.005443</td>\n",
       "      <td>360</td>\n",
       "      <td>13</td>\n",
       "      <td>45</td>\n",
       "      <td>0.021</td>\n",
       "      <td>5181</td>\n",
       "      <td>0.034413</td>\n",
       "      <td>1393</td>\n",
       "      <td>1 min  0 sec</td>\n",
       "    </tr>\n",
       "    <tr>\n",
       "      <th>3rd</th>\n",
       "      <td>Past</td>\n",
       "      <td>29May2020</td>\n",
       "      <td>03Jun2020</td>\n",
       "      <td>98423595</td>\n",
       "      <td>SIR-F</td>\n",
       "      <td>3.25</td>\n",
       "      <td>0.001478</td>\n",
       "      <td>0.000531</td>\n",
       "      <td>0.018501</td>\n",
       "      <td>0.005158</td>\n",
       "      <td>360</td>\n",
       "      <td>13</td>\n",
       "      <td>48</td>\n",
       "      <td>0.001</td>\n",
       "      <td>470</td>\n",
       "      <td>0.016388</td>\n",
       "      <td>259</td>\n",
       "      <td>0 min 10 sec</td>\n",
       "    </tr>\n",
       "    <tr>\n",
       "      <th>4th</th>\n",
       "      <td>Past</td>\n",
       "      <td>04Jun2020</td>\n",
       "      <td>13Jun2020</td>\n",
       "      <td>98423595</td>\n",
       "      <td>SIR-F</td>\n",
       "      <td>3.32</td>\n",
       "      <td>0.000621</td>\n",
       "      <td>0.000361</td>\n",
       "      <td>0.014298</td>\n",
       "      <td>0.003946</td>\n",
       "      <td>360</td>\n",
       "      <td>17</td>\n",
       "      <td>63</td>\n",
       "      <td>0.001</td>\n",
       "      <td>692</td>\n",
       "      <td>0.015241</td>\n",
       "      <td>469</td>\n",
       "      <td>0 min 20 sec</td>\n",
       "    </tr>\n",
       "    <tr>\n",
       "      <th>5th</th>\n",
       "      <td>Past</td>\n",
       "      <td>14Jun2020</td>\n",
       "      <td>23Jun2020</td>\n",
       "      <td>98423595</td>\n",
       "      <td>SIR-F</td>\n",
       "      <td>3.40</td>\n",
       "      <td>0.036781</td>\n",
       "      <td>0.000193</td>\n",
       "      <td>0.010743</td>\n",
       "      <td>0.002853</td>\n",
       "      <td>360</td>\n",
       "      <td>23</td>\n",
       "      <td>87</td>\n",
       "      <td>0.037</td>\n",
       "      <td>1295</td>\n",
       "      <td>0.015636</td>\n",
       "      <td>225</td>\n",
       "      <td>0 min 10 sec</td>\n",
       "    </tr>\n",
       "    <tr>\n",
       "      <th>6th</th>\n",
       "      <td>Past</td>\n",
       "      <td>24Jun2020</td>\n",
       "      <td>02Jul2020</td>\n",
       "      <td>98423595</td>\n",
       "      <td>SIR-F</td>\n",
       "      <td>2.76</td>\n",
       "      <td>0.002521</td>\n",
       "      <td>0.000463</td>\n",
       "      <td>0.007625</td>\n",
       "      <td>0.002292</td>\n",
       "      <td>360</td>\n",
       "      <td>32</td>\n",
       "      <td>109</td>\n",
       "      <td>0.003</td>\n",
       "      <td>540</td>\n",
       "      <td>0.008325</td>\n",
       "      <td>162</td>\n",
       "      <td>0 min  5 sec</td>\n",
       "    </tr>\n",
       "    <tr>\n",
       "      <th>7th</th>\n",
       "      <td>Past</td>\n",
       "      <td>03Jul2020</td>\n",
       "      <td>13Jul2020</td>\n",
       "      <td>98423595</td>\n",
       "      <td>SIR-F</td>\n",
       "      <td>1.67</td>\n",
       "      <td>0.032406</td>\n",
       "      <td>0.000191</td>\n",
       "      <td>0.004623</td>\n",
       "      <td>0.002491</td>\n",
       "      <td>360</td>\n",
       "      <td>54</td>\n",
       "      <td>100</td>\n",
       "      <td>0.032</td>\n",
       "      <td>1308</td>\n",
       "      <td>0.010317</td>\n",
       "      <td>234</td>\n",
       "      <td>0 min 10 sec</td>\n",
       "    </tr>\n",
       "    <tr>\n",
       "      <th>8th</th>\n",
       "      <td>Past</td>\n",
       "      <td>14Jul2020</td>\n",
       "      <td>19Jul2020</td>\n",
       "      <td>98423595</td>\n",
       "      <td>SIR-F</td>\n",
       "      <td>1.14</td>\n",
       "      <td>0.069295</td>\n",
       "      <td>0.000091</td>\n",
       "      <td>0.003339</td>\n",
       "      <td>0.002627</td>\n",
       "      <td>360</td>\n",
       "      <td>74</td>\n",
       "      <td>95</td>\n",
       "      <td>0.069</td>\n",
       "      <td>2750</td>\n",
       "      <td>0.005078</td>\n",
       "      <td>408</td>\n",
       "      <td>0 min 20 sec</td>\n",
       "    </tr>\n",
       "    <tr>\n",
       "      <th>9th</th>\n",
       "      <td>Past</td>\n",
       "      <td>20Jul2020</td>\n",
       "      <td>27Jul2020</td>\n",
       "      <td>98423595</td>\n",
       "      <td>SIR-F</td>\n",
       "      <td>0.64</td>\n",
       "      <td>0.041839</td>\n",
       "      <td>0.000054</td>\n",
       "      <td>0.002650</td>\n",
       "      <td>0.003895</td>\n",
       "      <td>360</td>\n",
       "      <td>94</td>\n",
       "      <td>64</td>\n",
       "      <td>0.042</td>\n",
       "      <td>4601</td>\n",
       "      <td>0.009167</td>\n",
       "      <td>206</td>\n",
       "      <td>0 min 10 sec</td>\n",
       "    </tr>\n",
       "    <tr>\n",
       "      <th>10th</th>\n",
       "      <td>Past</td>\n",
       "      <td>28Jul2020</td>\n",
       "      <td>09Aug2020</td>\n",
       "      <td>98423595</td>\n",
       "      <td>SIR-F</td>\n",
       "      <td>0.16</td>\n",
       "      <td>0.000089</td>\n",
       "      <td>0.000151</td>\n",
       "      <td>0.001216</td>\n",
       "      <td>0.007272</td>\n",
       "      <td>360</td>\n",
       "      <td>205</td>\n",
       "      <td>34</td>\n",
       "      <td>0.000</td>\n",
       "      <td>1652</td>\n",
       "      <td>0.019071</td>\n",
       "      <td>372</td>\n",
       "      <td>0 min 10 sec</td>\n",
       "    </tr>\n",
       "    <tr>\n",
       "      <th>11th</th>\n",
       "      <td>Past</td>\n",
       "      <td>10Aug2020</td>\n",
       "      <td>27Aug2020</td>\n",
       "      <td>98423595</td>\n",
       "      <td>SIR-F</td>\n",
       "      <td>0.17</td>\n",
       "      <td>0.001179</td>\n",
       "      <td>0.000150</td>\n",
       "      <td>0.001312</td>\n",
       "      <td>0.007457</td>\n",
       "      <td>360</td>\n",
       "      <td>190</td>\n",
       "      <td>33</td>\n",
       "      <td>0.001</td>\n",
       "      <td>1671</td>\n",
       "      <td>0.015115</td>\n",
       "      <td>239</td>\n",
       "      <td>0 min 10 sec</td>\n",
       "    </tr>\n",
       "    <tr>\n",
       "      <th>12th</th>\n",
       "      <td>Past</td>\n",
       "      <td>28Aug2020</td>\n",
       "      <td>12Sep2020</td>\n",
       "      <td>98423595</td>\n",
       "      <td>SIR-F</td>\n",
       "      <td>0.16</td>\n",
       "      <td>0.026824</td>\n",
       "      <td>0.000256</td>\n",
       "      <td>0.002279</td>\n",
       "      <td>0.013520</td>\n",
       "      <td>360</td>\n",
       "      <td>109</td>\n",
       "      <td>18</td>\n",
       "      <td>0.027</td>\n",
       "      <td>977</td>\n",
       "      <td>0.063442</td>\n",
       "      <td>438</td>\n",
       "      <td>0 min 15 sec</td>\n",
       "    </tr>\n",
       "    <tr>\n",
       "      <th>13th</th>\n",
       "      <td>Past</td>\n",
       "      <td>13Sep2020</td>\n",
       "      <td>08Oct2020</td>\n",
       "      <td>98423595</td>\n",
       "      <td>SIR-F</td>\n",
       "      <td>0.14</td>\n",
       "      <td>0.064397</td>\n",
       "      <td>0.000559</td>\n",
       "      <td>0.006867</td>\n",
       "      <td>0.043984</td>\n",
       "      <td>360</td>\n",
       "      <td>36</td>\n",
       "      <td>5</td>\n",
       "      <td>0.064</td>\n",
       "      <td>447</td>\n",
       "      <td>0.503419</td>\n",
       "      <td>688</td>\n",
       "      <td>0 min 25 sec</td>\n",
       "    </tr>\n",
       "    <tr>\n",
       "      <th>14th</th>\n",
       "      <td>Past</td>\n",
       "      <td>09Oct2020</td>\n",
       "      <td>09Nov2020</td>\n",
       "      <td>98423595</td>\n",
       "      <td>SIR-F</td>\n",
       "      <td>1.78</td>\n",
       "      <td>0.052581</td>\n",
       "      <td>0.000707</td>\n",
       "      <td>0.028594</td>\n",
       "      <td>0.014507</td>\n",
       "      <td>360</td>\n",
       "      <td>8</td>\n",
       "      <td>17</td>\n",
       "      <td>0.053</td>\n",
       "      <td>353</td>\n",
       "      <td>0.085016</td>\n",
       "      <td>1374</td>\n",
       "      <td>1 min  0 sec</td>\n",
       "    </tr>\n",
       "  </tbody>\n",
       "</table>\n",
       "</div>"
      ],
      "text/plain": [
       "               Type      Start        End  Population    ODE    Rt     theta  \\\n",
       "Country Phase                                                                  \n",
       "Belarus 0th    Past  09Mar2020  26Apr2020     9483499  SIR-F  9.20  0.000294   \n",
       "        1st    Past  27Apr2020  08May2020     9483499  SIR-F  2.09  0.000460   \n",
       "        2nd    Past  09May2020  15May2020     9483499  SIR-F  2.15  0.004998   \n",
       "        3rd    Past  16May2020  23May2020     9483499  SIR-F  1.46  0.001254   \n",
       "        4th    Past  24May2020  30May2020     9483499  SIR-F  1.41  0.001433   \n",
       "        5th    Past  31May2020  07Jun2020     9483499  SIR-F  1.19  0.000019   \n",
       "        6th    Past  08Jun2020  14Jun2020     9483499  SIR-F  0.71  0.000245   \n",
       "        7th    Past  15Jun2020  23Jun2020     9483499  SIR-F  0.55  0.000188   \n",
       "        8th    Past  24Jun2020  11Jul2020     9483499  SIR-F  0.31  0.000345   \n",
       "        9th    Past  12Jul2020  22Aug2020     9483499  SIR-F  0.35  0.020289   \n",
       "        10th   Past  23Aug2020  24Sep2020     9483499  SIR-F  0.81  0.032982   \n",
       "        11th   Past  25Sep2020  13Oct2020     9483499  SIR-F  2.37  0.000180   \n",
       "        12th   Past  14Oct2020  24Oct2020     9483499  SIR-F  1.64  0.000194   \n",
       "        13th   Past  25Oct2020  31Oct2020     9483499  SIR-F  1.73  0.001176   \n",
       "        14th   Past  01Nov2020  09Nov2020     9483499  SIR-F  1.77  0.001095   \n",
       "Egypt   0th    Past  28Feb2020  02May2020    98423595  SIR-F  0.02  0.602763   \n",
       "        1st    Past  03May2020  17May2020    98423595  SIR-F  3.68  0.001002   \n",
       "        2nd    Past  18May2020  28May2020    98423595  SIR-F  3.34  0.021251   \n",
       "        3rd    Past  29May2020  03Jun2020    98423595  SIR-F  3.25  0.001478   \n",
       "        4th    Past  04Jun2020  13Jun2020    98423595  SIR-F  3.32  0.000621   \n",
       "        5th    Past  14Jun2020  23Jun2020    98423595  SIR-F  3.40  0.036781   \n",
       "        6th    Past  24Jun2020  02Jul2020    98423595  SIR-F  2.76  0.002521   \n",
       "        7th    Past  03Jul2020  13Jul2020    98423595  SIR-F  1.67  0.032406   \n",
       "        8th    Past  14Jul2020  19Jul2020    98423595  SIR-F  1.14  0.069295   \n",
       "        9th    Past  20Jul2020  27Jul2020    98423595  SIR-F  0.64  0.041839   \n",
       "        10th   Past  28Jul2020  09Aug2020    98423595  SIR-F  0.16  0.000089   \n",
       "        11th   Past  10Aug2020  27Aug2020    98423595  SIR-F  0.17  0.001179   \n",
       "        12th   Past  28Aug2020  12Sep2020    98423595  SIR-F  0.16  0.026824   \n",
       "        13th   Past  13Sep2020  08Oct2020    98423595  SIR-F  0.14  0.064397   \n",
       "        14th   Past  09Oct2020  09Nov2020    98423595  SIR-F  1.78  0.052581   \n",
       "\n",
       "                  kappa       rho     sigma  tau  1/beta [day]  1/gamma [day]  \\\n",
       "Country Phase                                                                   \n",
       "Belarus 0th    0.000256  0.045833  0.004723  360             5             52   \n",
       "        1st    0.000084  0.017633  0.008342  360            14             29   \n",
       "        2nd    0.000002  0.013226  0.006130  360            18             40   \n",
       "        3rd    0.000046  0.011308  0.007684  360            22             32   \n",
       "        4th    0.000036  0.009963  0.007036  360            25             35   \n",
       "        5th    0.000041  0.008915  0.007429  360            28             33   \n",
       "        6th    0.000060  0.007905  0.011013  360            31             22   \n",
       "        7th    0.000060  0.006997  0.012573  360            35             19   \n",
       "        8th    0.000079  0.005357  0.017458  360            46             14   \n",
       "        9th    0.000094  0.005595  0.015738  360            44             15   \n",
       "        10th   0.000319  0.058667  0.069738  360             4              3   \n",
       "        11th   0.000427  0.026503  0.010739  360             9             23   \n",
       "        12th   0.000158  0.024004  0.014474  360            10             17   \n",
       "        13th   0.000071  0.024251  0.013939  360            10             17   \n",
       "        14th   0.000071  0.018532  0.010417  360            13             23   \n",
       "Egypt   0th    0.544883  0.025094  0.004698  360             9             53   \n",
       "        1st    0.000557  0.016880  0.004024  360            14             62   \n",
       "        2nd    0.000048  0.018763  0.005443  360            13             45   \n",
       "        3rd    0.000531  0.018501  0.005158  360            13             48   \n",
       "        4th    0.000361  0.014298  0.003946  360            17             63   \n",
       "        5th    0.000193  0.010743  0.002853  360            23             87   \n",
       "        6th    0.000463  0.007625  0.002292  360            32            109   \n",
       "        7th    0.000191  0.004623  0.002491  360            54            100   \n",
       "        8th    0.000091  0.003339  0.002627  360            74             95   \n",
       "        9th    0.000054  0.002650  0.003895  360            94             64   \n",
       "        10th   0.000151  0.001216  0.007272  360           205             34   \n",
       "        11th   0.000150  0.001312  0.007457  360           190             33   \n",
       "        12th   0.000256  0.002279  0.013520  360           109             18   \n",
       "        13th   0.000559  0.006867  0.043984  360            36              5   \n",
       "        14th   0.000707  0.028594  0.014507  360             8             17   \n",
       "\n",
       "               alpha1 [-]  1/alpha2 [day]      RMSLE  Trials       Runtime  \n",
       "Country Phase                                                               \n",
       "Belarus 0th         0.000             975   1.383630    1661  1 min  0 sec  \n",
       "        1st         0.000            2978   0.132252    1011  1 min  0 sec  \n",
       "        2nd         0.005          132858   0.018763    1075  1 min  0 sec  \n",
       "        3rd         0.001            5464   0.029354    1190  1 min  0 sec  \n",
       "        4th         0.001            6889   0.010235     671  0 min 35 sec  \n",
       "        5th         0.000            6135   0.016228    1488  1 min  0 sec  \n",
       "        6th         0.000            4194   0.012408     650  0 min 25 sec  \n",
       "        7th         0.000            4193   0.012435     693  0 min 30 sec  \n",
       "        8th         0.000            3161   0.071883    1080  1 min  0 sec  \n",
       "        9th         0.020            2662   0.263432    1643  1 min  0 sec  \n",
       "        10th        0.033             783   1.486636    1186  1 min  0 sec  \n",
       "        11th        0.000             585   0.073301    1446  1 min  0 sec  \n",
       "        12th        0.000            1581   0.010844    1115  1 min  0 sec  \n",
       "        13th        0.001            3515   0.005091     229  0 min 10 sec  \n",
       "        14th        0.001            3515   0.018549     189  0 min  5 sec  \n",
       "Egypt   0th         0.603               0  14.999924    1051  1 min  0 sec  \n",
       "        1st         0.001             449   0.042375     975  1 min  0 sec  \n",
       "        2nd         0.021            5181   0.034413    1393  1 min  0 sec  \n",
       "        3rd         0.001             470   0.016388     259  0 min 10 sec  \n",
       "        4th         0.001             692   0.015241     469  0 min 20 sec  \n",
       "        5th         0.037            1295   0.015636     225  0 min 10 sec  \n",
       "        6th         0.003             540   0.008325     162  0 min  5 sec  \n",
       "        7th         0.032            1308   0.010317     234  0 min 10 sec  \n",
       "        8th         0.069            2750   0.005078     408  0 min 20 sec  \n",
       "        9th         0.042            4601   0.009167     206  0 min 10 sec  \n",
       "        10th        0.000            1652   0.019071     372  0 min 10 sec  \n",
       "        11th        0.001            1671   0.015115     239  0 min 10 sec  \n",
       "        12th        0.027             977   0.063442     438  0 min 15 sec  \n",
       "        13th        0.064             447   0.503419     688  0 min 25 sec  \n",
       "        14th        0.053             353   0.085016    1374  1 min  0 sec  "
      ]
     },
     "execution_count": 12,
     "metadata": {},
     "output_type": "execute_result"
    }
   ],
   "source": [
    "# Show summary\n",
    "analyser.summary(countries=countries_show)"
   ]
  },
  {
   "cell_type": "markdown",
   "metadata": {},
   "source": [
    "## Compare the history of parameters\n",
    "Here, compare the history of parameter values if countries."
   ]
  },
  {
   "cell_type": "code",
   "execution_count": 13,
   "metadata": {
    "collapsed": false
   },
   "outputs": [
    {
     "data": {
      "text/html": [
       "<div>\n",
       "<style scoped>\n",
       "    .dataframe tbody tr th:only-of-type {\n",
       "        vertical-align: middle;\n",
       "    }\n",
       "\n",
       "    .dataframe tbody tr th {\n",
       "        vertical-align: top;\n",
       "    }\n",
       "\n",
       "    .dataframe thead th {\n",
       "        text-align: right;\n",
       "    }\n",
       "</style>\n",
       "<table border=\"1\" class=\"dataframe\">\n",
       "  <thead>\n",
       "    <tr style=\"text-align: right;\">\n",
       "      <th></th>\n",
       "      <th>Date</th>\n",
       "      <th>Country</th>\n",
       "      <th>theta</th>\n",
       "      <th>kappa</th>\n",
       "      <th>rho</th>\n",
       "      <th>sigma</th>\n",
       "      <th>alpha1 [-]</th>\n",
       "      <th>1/alpha2 [day]</th>\n",
       "      <th>1/beta [day]</th>\n",
       "      <th>1/gamma [day]</th>\n",
       "      <th>...</th>\n",
       "      <th>Cancel_events</th>\n",
       "      <th>Gatherings_restrictions</th>\n",
       "      <th>Transport_closing</th>\n",
       "      <th>Stay_home_restrictions</th>\n",
       "      <th>Internal_movement_restrictions</th>\n",
       "      <th>International_movement_restrictions</th>\n",
       "      <th>Information_campaigns</th>\n",
       "      <th>Testing_policy</th>\n",
       "      <th>Contact_tracing</th>\n",
       "      <th>Stringency_index</th>\n",
       "    </tr>\n",
       "  </thead>\n",
       "  <tbody>\n",
       "    <tr>\n",
       "      <th>0</th>\n",
       "      <td>2020-03-09</td>\n",
       "      <td>Belarus</td>\n",
       "      <td>0.000294359</td>\n",
       "      <td>0.000256296</td>\n",
       "      <td>0.0458334</td>\n",
       "      <td>0.00472273</td>\n",
       "      <td>0</td>\n",
       "      <td>975</td>\n",
       "      <td>5</td>\n",
       "      <td>52</td>\n",
       "      <td>...</td>\n",
       "      <td>0</td>\n",
       "      <td>0</td>\n",
       "      <td>0</td>\n",
       "      <td>0</td>\n",
       "      <td>0</td>\n",
       "      <td>0</td>\n",
       "      <td>0</td>\n",
       "      <td>0</td>\n",
       "      <td>0</td>\n",
       "      <td>0.0</td>\n",
       "    </tr>\n",
       "    <tr>\n",
       "      <th>1</th>\n",
       "      <td>2020-03-10</td>\n",
       "      <td>Belarus</td>\n",
       "      <td>0.000294359</td>\n",
       "      <td>0.000256296</td>\n",
       "      <td>0.0458334</td>\n",
       "      <td>0.00472273</td>\n",
       "      <td>0</td>\n",
       "      <td>975</td>\n",
       "      <td>5</td>\n",
       "      <td>52</td>\n",
       "      <td>...</td>\n",
       "      <td>0</td>\n",
       "      <td>0</td>\n",
       "      <td>0</td>\n",
       "      <td>0</td>\n",
       "      <td>0</td>\n",
       "      <td>0</td>\n",
       "      <td>0</td>\n",
       "      <td>0</td>\n",
       "      <td>0</td>\n",
       "      <td>0.0</td>\n",
       "    </tr>\n",
       "    <tr>\n",
       "      <th>2</th>\n",
       "      <td>2020-03-11</td>\n",
       "      <td>Belarus</td>\n",
       "      <td>0.000294359</td>\n",
       "      <td>0.000256296</td>\n",
       "      <td>0.0458334</td>\n",
       "      <td>0.00472273</td>\n",
       "      <td>0</td>\n",
       "      <td>975</td>\n",
       "      <td>5</td>\n",
       "      <td>52</td>\n",
       "      <td>...</td>\n",
       "      <td>0</td>\n",
       "      <td>0</td>\n",
       "      <td>0</td>\n",
       "      <td>0</td>\n",
       "      <td>0</td>\n",
       "      <td>0</td>\n",
       "      <td>0</td>\n",
       "      <td>0</td>\n",
       "      <td>0</td>\n",
       "      <td>0.0</td>\n",
       "    </tr>\n",
       "    <tr>\n",
       "      <th>3</th>\n",
       "      <td>2020-03-12</td>\n",
       "      <td>Belarus</td>\n",
       "      <td>0.000294359</td>\n",
       "      <td>0.000256296</td>\n",
       "      <td>0.0458334</td>\n",
       "      <td>0.00472273</td>\n",
       "      <td>0</td>\n",
       "      <td>975</td>\n",
       "      <td>5</td>\n",
       "      <td>52</td>\n",
       "      <td>...</td>\n",
       "      <td>0</td>\n",
       "      <td>0</td>\n",
       "      <td>0</td>\n",
       "      <td>0</td>\n",
       "      <td>0</td>\n",
       "      <td>0</td>\n",
       "      <td>0</td>\n",
       "      <td>0</td>\n",
       "      <td>0</td>\n",
       "      <td>0.0</td>\n",
       "    </tr>\n",
       "    <tr>\n",
       "      <th>4</th>\n",
       "      <td>2020-03-13</td>\n",
       "      <td>Belarus</td>\n",
       "      <td>0.000294359</td>\n",
       "      <td>0.000256296</td>\n",
       "      <td>0.0458334</td>\n",
       "      <td>0.00472273</td>\n",
       "      <td>0</td>\n",
       "      <td>975</td>\n",
       "      <td>5</td>\n",
       "      <td>52</td>\n",
       "      <td>...</td>\n",
       "      <td>0</td>\n",
       "      <td>0</td>\n",
       "      <td>0</td>\n",
       "      <td>0</td>\n",
       "      <td>0</td>\n",
       "      <td>0</td>\n",
       "      <td>0</td>\n",
       "      <td>0</td>\n",
       "      <td>0</td>\n",
       "      <td>0.0</td>\n",
       "    </tr>\n",
       "  </tbody>\n",
       "</table>\n",
       "<p>5 rows × 23 columns</p>\n",
       "</div>"
      ],
      "text/plain": [
       "        Date  Country        theta        kappa        rho       sigma  \\\n",
       "0 2020-03-09  Belarus  0.000294359  0.000256296  0.0458334  0.00472273   \n",
       "1 2020-03-10  Belarus  0.000294359  0.000256296  0.0458334  0.00472273   \n",
       "2 2020-03-11  Belarus  0.000294359  0.000256296  0.0458334  0.00472273   \n",
       "3 2020-03-12  Belarus  0.000294359  0.000256296  0.0458334  0.00472273   \n",
       "4 2020-03-13  Belarus  0.000294359  0.000256296  0.0458334  0.00472273   \n",
       "\n",
       "  alpha1 [-] 1/alpha2 [day] 1/beta [day] 1/gamma [day]  ... Cancel_events  \\\n",
       "0          0            975            5            52  ...             0   \n",
       "1          0            975            5            52  ...             0   \n",
       "2          0            975            5            52  ...             0   \n",
       "3          0            975            5            52  ...             0   \n",
       "4          0            975            5            52  ...             0   \n",
       "\n",
       "   Gatherings_restrictions  Transport_closing  Stay_home_restrictions  \\\n",
       "0                        0                  0                       0   \n",
       "1                        0                  0                       0   \n",
       "2                        0                  0                       0   \n",
       "3                        0                  0                       0   \n",
       "4                        0                  0                       0   \n",
       "\n",
       "   Internal_movement_restrictions  International_movement_restrictions  \\\n",
       "0                               0                                    0   \n",
       "1                               0                                    0   \n",
       "2                               0                                    0   \n",
       "3                               0                                    0   \n",
       "4                               0                                    0   \n",
       "\n",
       "   Information_campaigns  Testing_policy  Contact_tracing  Stringency_index  \n",
       "0                      0               0                0               0.0  \n",
       "1                      0               0                0               0.0  \n",
       "2                      0               0                0               0.0  \n",
       "3                      0               0                0               0.0  \n",
       "4                      0               0                0               0.0  \n",
       "\n",
       "[5 rows x 23 columns]"
      ]
     },
     "execution_count": 13,
     "metadata": {},
     "output_type": "execute_result"
    }
   ],
   "source": [
    "# All parameter/day parameter/Rt/OxCGRT\n",
    "analyser.track().head()"
   ]
  },
  {
   "cell_type": "markdown",
   "metadata": {},
   "source": [
    "### $Rt$: Reprodcution number $\\mathrm{[-]}$"
   ]
  },
  {
   "cell_type": "code",
   "execution_count": 14,
   "metadata": {
    "collapsed": false
   },
   "outputs": [
    {
     "data": {
      "image/png": "[encoded data removed]",
      "text/plain": [
       "<Figure size 648x432 with 1 Axes>"
      ]
     },
     "metadata": {},
     "output_type": "display_data"
    },
    {
     "data": {
      "text/html": [
       "<div>\n",
       "<style scoped>\n",
       "    .dataframe tbody tr th:only-of-type {\n",
       "        vertical-align: middle;\n",
       "    }\n",
       "\n",
       "    .dataframe tbody tr th {\n",
       "        vertical-align: top;\n",
       "    }\n",
       "\n",
       "    .dataframe thead th {\n",
       "        text-align: right;\n",
       "    }\n",
       "</style>\n",
       "<table border=\"1\" class=\"dataframe\">\n",
       "  <thead>\n",
       "    <tr style=\"text-align: right;\">\n",
       "      <th>Country</th>\n",
       "      <th>Belarus</th>\n",
       "      <th>Egypt</th>\n",
       "      <th>Honduras</th>\n",
       "      <th>Latvia</th>\n",
       "      <th>Russia</th>\n",
       "      <th>Somalia</th>\n",
       "    </tr>\n",
       "    <tr>\n",
       "      <th>Date</th>\n",
       "      <th></th>\n",
       "      <th></th>\n",
       "      <th></th>\n",
       "      <th></th>\n",
       "      <th></th>\n",
       "      <th></th>\n",
       "    </tr>\n",
       "  </thead>\n",
       "  <tbody>\n",
       "    <tr>\n",
       "      <th>2020-11-05</th>\n",
       "      <td>1.77</td>\n",
       "      <td>1.78</td>\n",
       "      <td>1.26</td>\n",
       "      <td>58.82</td>\n",
       "      <td>1.52</td>\n",
       "      <td>0.0</td>\n",
       "    </tr>\n",
       "    <tr>\n",
       "      <th>2020-11-06</th>\n",
       "      <td>1.77</td>\n",
       "      <td>1.78</td>\n",
       "      <td>1.26</td>\n",
       "      <td>58.82</td>\n",
       "      <td>1.52</td>\n",
       "      <td>0.0</td>\n",
       "    </tr>\n",
       "    <tr>\n",
       "      <th>2020-11-07</th>\n",
       "      <td>1.77</td>\n",
       "      <td>1.78</td>\n",
       "      <td>1.26</td>\n",
       "      <td>58.82</td>\n",
       "      <td>1.52</td>\n",
       "      <td>0.0</td>\n",
       "    </tr>\n",
       "    <tr>\n",
       "      <th>2020-11-08</th>\n",
       "      <td>1.77</td>\n",
       "      <td>1.78</td>\n",
       "      <td>1.26</td>\n",
       "      <td>58.82</td>\n",
       "      <td>1.52</td>\n",
       "      <td>0.0</td>\n",
       "    </tr>\n",
       "    <tr>\n",
       "      <th>2020-11-09</th>\n",
       "      <td>1.77</td>\n",
       "      <td>1.78</td>\n",
       "      <td>1.26</td>\n",
       "      <td>58.82</td>\n",
       "      <td>1.52</td>\n",
       "      <td>0.0</td>\n",
       "    </tr>\n",
       "  </tbody>\n",
       "</table>\n",
       "</div>"
      ],
      "text/plain": [
       "Country     Belarus  Egypt  Honduras  Latvia  Russia  Somalia\n",
       "Date                                                         \n",
       "2020-11-05     1.77   1.78      1.26   58.82    1.52      0.0\n",
       "2020-11-06     1.77   1.78      1.26   58.82    1.52      0.0\n",
       "2020-11-07     1.77   1.78      1.26   58.82    1.52      0.0\n",
       "2020-11-08     1.77   1.78      1.26   58.82    1.52      0.0\n",
       "2020-11-09     1.77   1.78      1.26   58.82    1.52      0.0"
      ]
     },
     "execution_count": 14,
     "metadata": {},
     "output_type": "execute_result"
    }
   ],
   "source": [
    "analyser.history(\"Rt\", roll_window=None).tail()"
   ]
  },
  {
   "cell_type": "markdown",
   "metadata": {},
   "source": [
    "### $\\rho$: Effective contact rate $\\mathrm{[-]}$"
   ]
  },
  {
   "cell_type": "code",
   "execution_count": 15,
   "metadata": {
    "collapsed": false
   },
   "outputs": [
    {
     "data": {
      "image/png": "[encoded data removed]",
      "text/plain": [
       "<Figure size 648x432 with 1 Axes>"
      ]
     },
     "metadata": {},
     "output_type": "display_data"
    },
    {
     "data": {
      "text/html": [
       "<div>\n",
       "<style scoped>\n",
       "    .dataframe tbody tr th:only-of-type {\n",
       "        vertical-align: middle;\n",
       "    }\n",
       "\n",
       "    .dataframe tbody tr th {\n",
       "        vertical-align: top;\n",
       "    }\n",
       "\n",
       "    .dataframe thead th {\n",
       "        text-align: right;\n",
       "    }\n",
       "</style>\n",
       "<table border=\"1\" class=\"dataframe\">\n",
       "  <thead>\n",
       "    <tr style=\"text-align: right;\">\n",
       "      <th>Country</th>\n",
       "      <th>Belarus</th>\n",
       "      <th>Egypt</th>\n",
       "      <th>Honduras</th>\n",
       "      <th>Latvia</th>\n",
       "      <th>Russia</th>\n",
       "      <th>Somalia</th>\n",
       "    </tr>\n",
       "    <tr>\n",
       "      <th>Date</th>\n",
       "      <th></th>\n",
       "      <th></th>\n",
       "      <th></th>\n",
       "      <th></th>\n",
       "      <th></th>\n",
       "      <th></th>\n",
       "    </tr>\n",
       "  </thead>\n",
       "  <tbody>\n",
       "    <tr>\n",
       "      <th>2020-11-05</th>\n",
       "      <td>0.018532</td>\n",
       "      <td>0.028594</td>\n",
       "      <td>0.001111</td>\n",
       "      <td>0.0116</td>\n",
       "      <td>0.003023</td>\n",
       "      <td>0.0</td>\n",
       "    </tr>\n",
       "    <tr>\n",
       "      <th>2020-11-06</th>\n",
       "      <td>0.018532</td>\n",
       "      <td>0.028594</td>\n",
       "      <td>0.001111</td>\n",
       "      <td>0.0116</td>\n",
       "      <td>0.003023</td>\n",
       "      <td>0.0</td>\n",
       "    </tr>\n",
       "    <tr>\n",
       "      <th>2020-11-07</th>\n",
       "      <td>0.018532</td>\n",
       "      <td>0.028594</td>\n",
       "      <td>0.001111</td>\n",
       "      <td>0.0116</td>\n",
       "      <td>0.003023</td>\n",
       "      <td>0.0</td>\n",
       "    </tr>\n",
       "    <tr>\n",
       "      <th>2020-11-08</th>\n",
       "      <td>0.018532</td>\n",
       "      <td>0.028594</td>\n",
       "      <td>0.001111</td>\n",
       "      <td>0.0116</td>\n",
       "      <td>0.003023</td>\n",
       "      <td>0.0</td>\n",
       "    </tr>\n",
       "    <tr>\n",
       "      <th>2020-11-09</th>\n",
       "      <td>0.018532</td>\n",
       "      <td>0.028594</td>\n",
       "      <td>0.001111</td>\n",
       "      <td>0.0116</td>\n",
       "      <td>0.003023</td>\n",
       "      <td>0.0</td>\n",
       "    </tr>\n",
       "  </tbody>\n",
       "</table>\n",
       "</div>"
      ],
      "text/plain": [
       "Country      Belarus     Egypt  Honduras  Latvia    Russia  Somalia\n",
       "Date                                                               \n",
       "2020-11-05  0.018532  0.028594  0.001111  0.0116  0.003023      0.0\n",
       "2020-11-06  0.018532  0.028594  0.001111  0.0116  0.003023      0.0\n",
       "2020-11-07  0.018532  0.028594  0.001111  0.0116  0.003023      0.0\n",
       "2020-11-08  0.018532  0.028594  0.001111  0.0116  0.003023      0.0\n",
       "2020-11-09  0.018532  0.028594  0.001111  0.0116  0.003023      0.0"
      ]
     },
     "execution_count": 15,
     "metadata": {},
     "output_type": "execute_result"
    }
   ],
   "source": [
    "analyser.history(\"rho\", roll_window=None).tail()"
   ]
  },
  {
   "cell_type": "markdown",
   "metadata": {},
   "source": [
    "### $\\sigma$: Recovery rate $\\mathrm{[-]}$"
   ]
  },
  {
   "cell_type": "code",
   "execution_count": 16,
   "metadata": {
    "collapsed": false
   },
   "outputs": [
    {
     "data": {
      "image/png": "[encoded data removed]",
      "text/plain": [
       "<Figure size 648x432 with 1 Axes>"
      ]
     },
     "metadata": {},
     "output_type": "display_data"
    },
    {
     "data": {
      "text/html": [
       "<div>\n",
       "<style scoped>\n",
       "    .dataframe tbody tr th:only-of-type {\n",
       "        vertical-align: middle;\n",
       "    }\n",
       "\n",
       "    .dataframe tbody tr th {\n",
       "        vertical-align: top;\n",
       "    }\n",
       "\n",
       "    .dataframe thead th {\n",
       "        text-align: right;\n",
       "    }\n",
       "</style>\n",
       "<table border=\"1\" class=\"dataframe\">\n",
       "  <thead>\n",
       "    <tr style=\"text-align: right;\">\n",
       "      <th>Country</th>\n",
       "      <th>Belarus</th>\n",
       "      <th>Egypt</th>\n",
       "      <th>Honduras</th>\n",
       "      <th>Latvia</th>\n",
       "      <th>Russia</th>\n",
       "      <th>Somalia</th>\n",
       "    </tr>\n",
       "    <tr>\n",
       "      <th>Date</th>\n",
       "      <th></th>\n",
       "      <th></th>\n",
       "      <th></th>\n",
       "      <th></th>\n",
       "      <th></th>\n",
       "      <th></th>\n",
       "    </tr>\n",
       "  </thead>\n",
       "  <tbody>\n",
       "    <tr>\n",
       "      <th>2020-11-05</th>\n",
       "      <td>0.010417</td>\n",
       "      <td>0.014507</td>\n",
       "      <td>0.000839</td>\n",
       "      <td>0.000117</td>\n",
       "      <td>0.001955</td>\n",
       "      <td>0.0</td>\n",
       "    </tr>\n",
       "    <tr>\n",
       "      <th>2020-11-06</th>\n",
       "      <td>0.010417</td>\n",
       "      <td>0.014507</td>\n",
       "      <td>0.000839</td>\n",
       "      <td>0.000117</td>\n",
       "      <td>0.001955</td>\n",
       "      <td>0.0</td>\n",
       "    </tr>\n",
       "    <tr>\n",
       "      <th>2020-11-07</th>\n",
       "      <td>0.010417</td>\n",
       "      <td>0.014507</td>\n",
       "      <td>0.000839</td>\n",
       "      <td>0.000117</td>\n",
       "      <td>0.001955</td>\n",
       "      <td>0.0</td>\n",
       "    </tr>\n",
       "    <tr>\n",
       "      <th>2020-11-08</th>\n",
       "      <td>0.010417</td>\n",
       "      <td>0.014507</td>\n",
       "      <td>0.000839</td>\n",
       "      <td>0.000117</td>\n",
       "      <td>0.001955</td>\n",
       "      <td>0.0</td>\n",
       "    </tr>\n",
       "    <tr>\n",
       "      <th>2020-11-09</th>\n",
       "      <td>0.010417</td>\n",
       "      <td>0.014507</td>\n",
       "      <td>0.000839</td>\n",
       "      <td>0.000117</td>\n",
       "      <td>0.001955</td>\n",
       "      <td>0.0</td>\n",
       "    </tr>\n",
       "  </tbody>\n",
       "</table>\n",
       "</div>"
      ],
      "text/plain": [
       "Country      Belarus     Egypt  Honduras    Latvia    Russia  Somalia\n",
       "Date                                                                 \n",
       "2020-11-05  0.010417  0.014507  0.000839  0.000117  0.001955      0.0\n",
       "2020-11-06  0.010417  0.014507  0.000839  0.000117  0.001955      0.0\n",
       "2020-11-07  0.010417  0.014507  0.000839  0.000117  0.001955      0.0\n",
       "2020-11-08  0.010417  0.014507  0.000839  0.000117  0.001955      0.0\n",
       "2020-11-09  0.010417  0.014507  0.000839  0.000117  0.001955      0.0"
      ]
     },
     "execution_count": 16,
     "metadata": {},
     "output_type": "execute_result"
    }
   ],
   "source": [
    "analyser.history(\"sigma\", roll_window=None).tail()"
   ]
  },
  {
   "cell_type": "markdown",
   "metadata": {},
   "source": [
    "### $\\kappa$: Mortality rate of infected cases $\\mathrm{[-]}$"
   ]
  },
  {
   "cell_type": "code",
   "execution_count": 17,
   "metadata": {
    "collapsed": false
   },
   "outputs": [
    {
     "data": {
      "image/png": "[encoded data removed]",
      "text/plain": [
       "<Figure size 648x432 with 1 Axes>"
      ]
     },
     "metadata": {},
     "output_type": "display_data"
    },
    {
     "data": {
      "text/html": [
       "<div>\n",
       "<style scoped>\n",
       "    .dataframe tbody tr th:only-of-type {\n",
       "        vertical-align: middle;\n",
       "    }\n",
       "\n",
       "    .dataframe tbody tr th {\n",
       "        vertical-align: top;\n",
       "    }\n",
       "\n",
       "    .dataframe thead th {\n",
       "        text-align: right;\n",
       "    }\n",
       "</style>\n",
       "<table border=\"1\" class=\"dataframe\">\n",
       "  <thead>\n",
       "    <tr style=\"text-align: right;\">\n",
       "      <th>Country</th>\n",
       "      <th>Belarus</th>\n",
       "      <th>Egypt</th>\n",
       "      <th>Honduras</th>\n",
       "      <th>Latvia</th>\n",
       "      <th>Russia</th>\n",
       "      <th>Somalia</th>\n",
       "    </tr>\n",
       "    <tr>\n",
       "      <th>Date</th>\n",
       "      <th></th>\n",
       "      <th></th>\n",
       "      <th></th>\n",
       "      <th></th>\n",
       "      <th></th>\n",
       "      <th></th>\n",
       "    </tr>\n",
       "  </thead>\n",
       "  <tbody>\n",
       "    <tr>\n",
       "      <th>2020-11-05</th>\n",
       "      <td>0.000071</td>\n",
       "      <td>0.000707</td>\n",
       "      <td>0.000041</td>\n",
       "      <td>0.000079</td>\n",
       "      <td>0.000036</td>\n",
       "      <td>0.000122</td>\n",
       "    </tr>\n",
       "    <tr>\n",
       "      <th>2020-11-06</th>\n",
       "      <td>0.000071</td>\n",
       "      <td>0.000707</td>\n",
       "      <td>0.000041</td>\n",
       "      <td>0.000079</td>\n",
       "      <td>0.000036</td>\n",
       "      <td>0.000122</td>\n",
       "    </tr>\n",
       "    <tr>\n",
       "      <th>2020-11-07</th>\n",
       "      <td>0.000071</td>\n",
       "      <td>0.000707</td>\n",
       "      <td>0.000041</td>\n",
       "      <td>0.000079</td>\n",
       "      <td>0.000036</td>\n",
       "      <td>0.000122</td>\n",
       "    </tr>\n",
       "    <tr>\n",
       "      <th>2020-11-08</th>\n",
       "      <td>0.000071</td>\n",
       "      <td>0.000707</td>\n",
       "      <td>0.000041</td>\n",
       "      <td>0.000079</td>\n",
       "      <td>0.000036</td>\n",
       "      <td>0.000122</td>\n",
       "    </tr>\n",
       "    <tr>\n",
       "      <th>2020-11-09</th>\n",
       "      <td>0.000071</td>\n",
       "      <td>0.000707</td>\n",
       "      <td>0.000041</td>\n",
       "      <td>0.000079</td>\n",
       "      <td>0.000036</td>\n",
       "      <td>0.000122</td>\n",
       "    </tr>\n",
       "  </tbody>\n",
       "</table>\n",
       "</div>"
      ],
      "text/plain": [
       "Country      Belarus     Egypt  Honduras    Latvia    Russia   Somalia\n",
       "Date                                                                  \n",
       "2020-11-05  0.000071  0.000707  0.000041  0.000079  0.000036  0.000122\n",
       "2020-11-06  0.000071  0.000707  0.000041  0.000079  0.000036  0.000122\n",
       "2020-11-07  0.000071  0.000707  0.000041  0.000079  0.000036  0.000122\n",
       "2020-11-08  0.000071  0.000707  0.000041  0.000079  0.000036  0.000122\n",
       "2020-11-09  0.000071  0.000707  0.000041  0.000079  0.000036  0.000122"
      ]
     },
     "execution_count": 17,
     "metadata": {},
     "output_type": "execute_result"
    }
   ],
   "source": [
    "analyser.history(\"kappa\", roll_window=None).tail()"
   ]
  },
  {
   "cell_type": "markdown",
   "metadata": {},
   "source": [
    "### $\\theta$: Mortality rate of S$^\\ast$ cases $\\mathrm{[-]}$"
   ]
  },
  {
   "cell_type": "code",
   "execution_count": 18,
   "metadata": {
    "collapsed": false
   },
   "outputs": [
    {
     "data": {
      "image/png": "[encoded data removed]",
      "text/plain": [
       "<Figure size 648x432 with 1 Axes>"
      ]
     },
     "metadata": {},
     "output_type": "display_data"
    },
    {
     "data": {
      "text/html": [
       "<div>\n",
       "<style scoped>\n",
       "    .dataframe tbody tr th:only-of-type {\n",
       "        vertical-align: middle;\n",
       "    }\n",
       "\n",
       "    .dataframe tbody tr th {\n",
       "        vertical-align: top;\n",
       "    }\n",
       "\n",
       "    .dataframe thead th {\n",
       "        text-align: right;\n",
       "    }\n",
       "</style>\n",
       "<table border=\"1\" class=\"dataframe\">\n",
       "  <thead>\n",
       "    <tr style=\"text-align: right;\">\n",
       "      <th>Country</th>\n",
       "      <th>Belarus</th>\n",
       "      <th>Egypt</th>\n",
       "      <th>Honduras</th>\n",
       "      <th>Latvia</th>\n",
       "      <th>Russia</th>\n",
       "      <th>Somalia</th>\n",
       "    </tr>\n",
       "    <tr>\n",
       "      <th>Date</th>\n",
       "      <th></th>\n",
       "      <th></th>\n",
       "      <th></th>\n",
       "      <th></th>\n",
       "      <th></th>\n",
       "      <th></th>\n",
       "    </tr>\n",
       "  </thead>\n",
       "  <tbody>\n",
       "    <tr>\n",
       "      <th>2020-11-05</th>\n",
       "      <td>0.001095</td>\n",
       "      <td>0.052581</td>\n",
       "      <td>0.000021</td>\n",
       "      <td>0.003924</td>\n",
       "      <td>0.001782</td>\n",
       "      <td>0.26381</td>\n",
       "    </tr>\n",
       "    <tr>\n",
       "      <th>2020-11-06</th>\n",
       "      <td>0.001095</td>\n",
       "      <td>0.052581</td>\n",
       "      <td>0.000021</td>\n",
       "      <td>0.003924</td>\n",
       "      <td>0.001782</td>\n",
       "      <td>0.26381</td>\n",
       "    </tr>\n",
       "    <tr>\n",
       "      <th>2020-11-07</th>\n",
       "      <td>0.001095</td>\n",
       "      <td>0.052581</td>\n",
       "      <td>0.000021</td>\n",
       "      <td>0.003924</td>\n",
       "      <td>0.001782</td>\n",
       "      <td>0.26381</td>\n",
       "    </tr>\n",
       "    <tr>\n",
       "      <th>2020-11-08</th>\n",
       "      <td>0.001095</td>\n",
       "      <td>0.052581</td>\n",
       "      <td>0.000021</td>\n",
       "      <td>0.003924</td>\n",
       "      <td>0.001782</td>\n",
       "      <td>0.26381</td>\n",
       "    </tr>\n",
       "    <tr>\n",
       "      <th>2020-11-09</th>\n",
       "      <td>0.001095</td>\n",
       "      <td>0.052581</td>\n",
       "      <td>0.000021</td>\n",
       "      <td>0.003924</td>\n",
       "      <td>0.001782</td>\n",
       "      <td>0.26381</td>\n",
       "    </tr>\n",
       "  </tbody>\n",
       "</table>\n",
       "</div>"
      ],
      "text/plain": [
       "Country      Belarus     Egypt  Honduras    Latvia    Russia  Somalia\n",
       "Date                                                                 \n",
       "2020-11-05  0.001095  0.052581  0.000021  0.003924  0.001782  0.26381\n",
       "2020-11-06  0.001095  0.052581  0.000021  0.003924  0.001782  0.26381\n",
       "2020-11-07  0.001095  0.052581  0.000021  0.003924  0.001782  0.26381\n",
       "2020-11-08  0.001095  0.052581  0.000021  0.003924  0.001782  0.26381\n",
       "2020-11-09  0.001095  0.052581  0.000021  0.003924  0.001782  0.26381"
      ]
     },
     "execution_count": 18,
     "metadata": {},
     "output_type": "execute_result"
    }
   ],
   "source": [
    "analyser.history(\"theta\", roll_window=None).tail()"
   ]
  },
  {
   "cell_type": "markdown",
   "metadata": {},
   "source": [
    "## (Experimental): Relationship of OxCGRT index and parameter values\n",
    "Government responses will impact on parameter values of ODE models about 14 days later. Here, we will investigate on the relationship of [stringency index (from OxCGRT)](https://github.com/OxCGRT/covid-policy-tracker/blob/master/documentation/index_methodology.md) and reproduction number/model parameters.\n"
   ]
  },
  {
   "cell_type": "code",
   "execution_count": 19,
   "metadata": {
    "collapsed": false
   },
   "outputs": [],
   "source": [
    "%matplotlib inline\n",
    "from matplotlib import pyplot as plt\n",
    "import seaborn as sns\n",
    "import pandas as pd"
   ]
  },
  {
   "cell_type": "code",
   "execution_count": 20,
   "metadata": {
    "collapsed": false
   },
   "outputs": [
    {
     "name": "stdout",
     "output_type": "stream",
     "text": [
      "<class 'pandas.core.frame.DataFrame'>\n",
      "Int64Index: 53661 entries, 0 to 53730\n",
      "Data columns (total 19 columns):\n",
      " #   Column                               Non-Null Count  Dtype         \n",
      "---  ------                               --------------  -----         \n",
      " 0   Date                                 53661 non-null  datetime64[ns]\n",
      " 1   Country                              53661 non-null  object        \n",
      " 2   Rt                                   53661 non-null  float64       \n",
      " 3   theta                                53661 non-null  float64       \n",
      " 4   kappa                                53661 non-null  float64       \n",
      " 5   rho                                  53661 non-null  float64       \n",
      " 6   sigma                                53661 non-null  float64       \n",
      " 7   School_closing                       53661 non-null  int64         \n",
      " 8   Workplace_closing                    53661 non-null  int64         \n",
      " 9   Cancel_events                        53661 non-null  int64         \n",
      " 10  Gatherings_restrictions              53661 non-null  int64         \n",
      " 11  Transport_closing                    53661 non-null  int64         \n",
      " 12  Stay_home_restrictions               53661 non-null  int64         \n",
      " 13  Internal_movement_restrictions       53661 non-null  int64         \n",
      " 14  International_movement_restrictions  53661 non-null  int64         \n",
      " 15  Information_campaigns                53661 non-null  int64         \n",
      " 16  Testing_policy                       53661 non-null  int64         \n",
      " 17  Contact_tracing                      53661 non-null  int64         \n",
      " 18  Stringency_index                     53661 non-null  float64       \n",
      "dtypes: datetime64[ns](1), float64(6), int64(11), object(1)\n",
      "memory usage: 8.2+ MB\n"
     ]
    }
   ],
   "source": [
    "df = analyser.track()\n",
    "param_cols = [\"Rt\", *cs.SIRF.PARAMETERS]\n",
    "oxcgrt_cols = oxcgrt_data.OXCGRT_VARS[:]\n",
    "cols = param_cols + oxcgrt_cols\n",
    "delay = 14\n",
    "\n",
    "for col in param_cols:\n",
    "    df[col] = pd.to_numeric(df[col], errors=\"coerce\")\n",
    "    df[col] = df.groupby(\"Country\")[col].shift(0 - delay)\n",
    "\n",
    "df = df.dropna(how=\"any\")\n",
    "df = df.loc[:, [\"Date\", \"Country\", *cols]]\n",
    "track_df = df.copy()\n",
    "track_df.info()"
   ]
  },
  {
   "cell_type": "code",
   "execution_count": 21,
   "metadata": {
    "collapsed": false
   },
   "outputs": [
    {
     "data": {
      "text/html": [
       "<style  type=\"text/css\" >\n",
       "#T_f33a231e_22ae_11eb_be7e_5254002dfb5arow0_col0,#T_f33a231e_22ae_11eb_be7e_5254002dfb5arow1_col1,#T_f33a231e_22ae_11eb_be7e_5254002dfb5arow1_col2,#T_f33a231e_22ae_11eb_be7e_5254002dfb5arow2_col1,#T_f33a231e_22ae_11eb_be7e_5254002dfb5arow2_col2,#T_f33a231e_22ae_11eb_be7e_5254002dfb5arow3_col3,#T_f33a231e_22ae_11eb_be7e_5254002dfb5arow4_col4,#T_f33a231e_22ae_11eb_be7e_5254002dfb5arow5_col5,#T_f33a231e_22ae_11eb_be7e_5254002dfb5arow6_col6,#T_f33a231e_22ae_11eb_be7e_5254002dfb5arow7_col7,#T_f33a231e_22ae_11eb_be7e_5254002dfb5arow8_col8,#T_f33a231e_22ae_11eb_be7e_5254002dfb5arow9_col9,#T_f33a231e_22ae_11eb_be7e_5254002dfb5arow10_col10,#T_f33a231e_22ae_11eb_be7e_5254002dfb5arow11_col11,#T_f33a231e_22ae_11eb_be7e_5254002dfb5arow12_col12,#T_f33a231e_22ae_11eb_be7e_5254002dfb5arow13_col13,#T_f33a231e_22ae_11eb_be7e_5254002dfb5arow14_col14,#T_f33a231e_22ae_11eb_be7e_5254002dfb5arow15_col15,#T_f33a231e_22ae_11eb_be7e_5254002dfb5arow16_col16{\n",
       "            background-color:  #023858;\n",
       "            color:  #f1f1f1;\n",
       "        }#T_f33a231e_22ae_11eb_be7e_5254002dfb5arow0_col1,#T_f33a231e_22ae_11eb_be7e_5254002dfb5arow1_col0,#T_f33a231e_22ae_11eb_be7e_5254002dfb5arow1_col5,#T_f33a231e_22ae_11eb_be7e_5254002dfb5arow2_col5,#T_f33a231e_22ae_11eb_be7e_5254002dfb5arow5_col1,#T_f33a231e_22ae_11eb_be7e_5254002dfb5arow5_col2{\n",
       "            background-color:  #d9d8ea;\n",
       "            color:  #000000;\n",
       "        }#T_f33a231e_22ae_11eb_be7e_5254002dfb5arow0_col2,#T_f33a231e_22ae_11eb_be7e_5254002dfb5arow2_col0{\n",
       "            background-color:  #dad9ea;\n",
       "            color:  #000000;\n",
       "        }#T_f33a231e_22ae_11eb_be7e_5254002dfb5arow0_col3,#T_f33a231e_22ae_11eb_be7e_5254002dfb5arow3_col0,#T_f33a231e_22ae_11eb_be7e_5254002dfb5arow4_col8,#T_f33a231e_22ae_11eb_be7e_5254002dfb5arow8_col4{\n",
       "            background-color:  #8fb4d6;\n",
       "            color:  #000000;\n",
       "        }#T_f33a231e_22ae_11eb_be7e_5254002dfb5arow0_col4,#T_f33a231e_22ae_11eb_be7e_5254002dfb5arow0_col8,#T_f33a231e_22ae_11eb_be7e_5254002dfb5arow4_col0,#T_f33a231e_22ae_11eb_be7e_5254002dfb5arow8_col0{\n",
       "            background-color:  #e5e1ef;\n",
       "            color:  #000000;\n",
       "        }#T_f33a231e_22ae_11eb_be7e_5254002dfb5arow0_col5,#T_f33a231e_22ae_11eb_be7e_5254002dfb5arow4_col9,#T_f33a231e_22ae_11eb_be7e_5254002dfb5arow5_col0,#T_f33a231e_22ae_11eb_be7e_5254002dfb5arow9_col4{\n",
       "            background-color:  #f1ebf4;\n",
       "            color:  #000000;\n",
       "        }#T_f33a231e_22ae_11eb_be7e_5254002dfb5arow0_col6,#T_f33a231e_22ae_11eb_be7e_5254002dfb5arow6_col0{\n",
       "            background-color:  #e7e3f0;\n",
       "            color:  #000000;\n",
       "        }#T_f33a231e_22ae_11eb_be7e_5254002dfb5arow0_col7,#T_f33a231e_22ae_11eb_be7e_5254002dfb5arow7_col0{\n",
       "            background-color:  #d4d4e8;\n",
       "            color:  #000000;\n",
       "        }#T_f33a231e_22ae_11eb_be7e_5254002dfb5arow0_col9,#T_f33a231e_22ae_11eb_be7e_5254002dfb5arow9_col0{\n",
       "            background-color:  #76aad0;\n",
       "            color:  #000000;\n",
       "        }#T_f33a231e_22ae_11eb_be7e_5254002dfb5arow0_col10,#T_f33a231e_22ae_11eb_be7e_5254002dfb5arow9_col12,#T_f33a231e_22ae_11eb_be7e_5254002dfb5arow10_col0,#T_f33a231e_22ae_11eb_be7e_5254002dfb5arow12_col9{\n",
       "            background-color:  #ede8f3;\n",
       "            color:  #000000;\n",
       "        }#T_f33a231e_22ae_11eb_be7e_5254002dfb5arow0_col11,#T_f33a231e_22ae_11eb_be7e_5254002dfb5arow11_col0{\n",
       "            background-color:  #bbc7e0;\n",
       "            color:  #000000;\n",
       "        }#T_f33a231e_22ae_11eb_be7e_5254002dfb5arow0_col12,#T_f33a231e_22ae_11eb_be7e_5254002dfb5arow12_col0{\n",
       "            background-color:  #d6d6e9;\n",
       "            color:  #000000;\n",
       "        }#T_f33a231e_22ae_11eb_be7e_5254002dfb5arow0_col13,#T_f33a231e_22ae_11eb_be7e_5254002dfb5arow6_col11,#T_f33a231e_22ae_11eb_be7e_5254002dfb5arow11_col6,#T_f33a231e_22ae_11eb_be7e_5254002dfb5arow13_col0{\n",
       "            background-color:  #b1c2de;\n",
       "            color:  #000000;\n",
       "        }#T_f33a231e_22ae_11eb_be7e_5254002dfb5arow0_col14,#T_f33a231e_22ae_11eb_be7e_5254002dfb5arow14_col0{\n",
       "            background-color:  #d2d3e7;\n",
       "            color:  #000000;\n",
       "        }#T_f33a231e_22ae_11eb_be7e_5254002dfb5arow0_col15,#T_f33a231e_22ae_11eb_be7e_5254002dfb5arow0_col16,#T_f33a231e_22ae_11eb_be7e_5254002dfb5arow1_col8,#T_f33a231e_22ae_11eb_be7e_5254002dfb5arow8_col1,#T_f33a231e_22ae_11eb_be7e_5254002dfb5arow15_col0,#T_f33a231e_22ae_11eb_be7e_5254002dfb5arow16_col0{\n",
       "            background-color:  #e3e0ee;\n",
       "            color:  #000000;\n",
       "        }#T_f33a231e_22ae_11eb_be7e_5254002dfb5arow1_col3,#T_f33a231e_22ae_11eb_be7e_5254002dfb5arow3_col1{\n",
       "            background-color:  #04629a;\n",
       "            color:  #f1f1f1;\n",
       "        }#T_f33a231e_22ae_11eb_be7e_5254002dfb5arow1_col4,#T_f33a231e_22ae_11eb_be7e_5254002dfb5arow4_col1{\n",
       "            background-color:  #89b1d4;\n",
       "            color:  #000000;\n",
       "        }#T_f33a231e_22ae_11eb_be7e_5254002dfb5arow1_col6,#T_f33a231e_22ae_11eb_be7e_5254002dfb5arow3_col10,#T_f33a231e_22ae_11eb_be7e_5254002dfb5arow6_col1,#T_f33a231e_22ae_11eb_be7e_5254002dfb5arow10_col3{\n",
       "            background-color:  #dddbec;\n",
       "            color:  #000000;\n",
       "        }#T_f33a231e_22ae_11eb_be7e_5254002dfb5arow1_col7,#T_f33a231e_22ae_11eb_be7e_5254002dfb5arow7_col1{\n",
       "            background-color:  #d2d2e7;\n",
       "            color:  #000000;\n",
       "        }#T_f33a231e_22ae_11eb_be7e_5254002dfb5arow1_col9,#T_f33a231e_22ae_11eb_be7e_5254002dfb5arow9_col1{\n",
       "            background-color:  #fbf3f9;\n",
       "            color:  #000000;\n",
       "        }#T_f33a231e_22ae_11eb_be7e_5254002dfb5arow1_col10,#T_f33a231e_22ae_11eb_be7e_5254002dfb5arow7_col9,#T_f33a231e_22ae_11eb_be7e_5254002dfb5arow9_col7,#T_f33a231e_22ae_11eb_be7e_5254002dfb5arow10_col1{\n",
       "            background-color:  #c6cce3;\n",
       "            color:  #000000;\n",
       "        }#T_f33a231e_22ae_11eb_be7e_5254002dfb5arow1_col11,#T_f33a231e_22ae_11eb_be7e_5254002dfb5arow11_col1{\n",
       "            background-color:  #a9bfdc;\n",
       "            color:  #000000;\n",
       "        }#T_f33a231e_22ae_11eb_be7e_5254002dfb5arow1_col12,#T_f33a231e_22ae_11eb_be7e_5254002dfb5arow12_col1{\n",
       "            background-color:  #73a9cf;\n",
       "            color:  #000000;\n",
       "        }#T_f33a231e_22ae_11eb_be7e_5254002dfb5arow1_col13,#T_f33a231e_22ae_11eb_be7e_5254002dfb5arow13_col1{\n",
       "            background-color:  #f8f1f8;\n",
       "            color:  #000000;\n",
       "        }#T_f33a231e_22ae_11eb_be7e_5254002dfb5arow1_col14,#T_f33a231e_22ae_11eb_be7e_5254002dfb5arow2_col14,#T_f33a231e_22ae_11eb_be7e_5254002dfb5arow14_col1,#T_f33a231e_22ae_11eb_be7e_5254002dfb5arow14_col2{\n",
       "            background-color:  #dbdaeb;\n",
       "            color:  #000000;\n",
       "        }#T_f33a231e_22ae_11eb_be7e_5254002dfb5arow1_col15,#T_f33a231e_22ae_11eb_be7e_5254002dfb5arow2_col15,#T_f33a231e_22ae_11eb_be7e_5254002dfb5arow15_col1,#T_f33a231e_22ae_11eb_be7e_5254002dfb5arow15_col2{\n",
       "            background-color:  #c5cce3;\n",
       "            color:  #000000;\n",
       "        }#T_f33a231e_22ae_11eb_be7e_5254002dfb5arow1_col16,#T_f33a231e_22ae_11eb_be7e_5254002dfb5arow2_col16,#T_f33a231e_22ae_11eb_be7e_5254002dfb5arow16_col1,#T_f33a231e_22ae_11eb_be7e_5254002dfb5arow16_col2{\n",
       "            background-color:  #a2bcda;\n",
       "            color:  #000000;\n",
       "        }#T_f33a231e_22ae_11eb_be7e_5254002dfb5arow2_col3,#T_f33a231e_22ae_11eb_be7e_5254002dfb5arow3_col2,#T_f33a231e_22ae_11eb_be7e_5254002dfb5arow5_col16,#T_f33a231e_22ae_11eb_be7e_5254002dfb5arow16_col5{\n",
       "            background-color:  #046097;\n",
       "            color:  #f1f1f1;\n",
       "        }#T_f33a231e_22ae_11eb_be7e_5254002dfb5arow2_col4,#T_f33a231e_22ae_11eb_be7e_5254002dfb5arow4_col2{\n",
       "            background-color:  #88b1d4;\n",
       "            color:  #000000;\n",
       "        }#T_f33a231e_22ae_11eb_be7e_5254002dfb5arow2_col6,#T_f33a231e_22ae_11eb_be7e_5254002dfb5arow6_col2{\n",
       "            background-color:  #dcdaeb;\n",
       "            color:  #000000;\n",
       "        }#T_f33a231e_22ae_11eb_be7e_5254002dfb5arow2_col7,#T_f33a231e_22ae_11eb_be7e_5254002dfb5arow7_col2,#T_f33a231e_22ae_11eb_be7e_5254002dfb5arow9_col10,#T_f33a231e_22ae_11eb_be7e_5254002dfb5arow10_col9{\n",
       "            background-color:  #d0d1e6;\n",
       "            color:  #000000;\n",
       "        }#T_f33a231e_22ae_11eb_be7e_5254002dfb5arow2_col8,#T_f33a231e_22ae_11eb_be7e_5254002dfb5arow8_col2{\n",
       "            background-color:  #e0dded;\n",
       "            color:  #000000;\n",
       "        }#T_f33a231e_22ae_11eb_be7e_5254002dfb5arow2_col9,#T_f33a231e_22ae_11eb_be7e_5254002dfb5arow9_col2{\n",
       "            background-color:  #fcf4fa;\n",
       "            color:  #000000;\n",
       "        }#T_f33a231e_22ae_11eb_be7e_5254002dfb5arow2_col10,#T_f33a231e_22ae_11eb_be7e_5254002dfb5arow4_col13,#T_f33a231e_22ae_11eb_be7e_5254002dfb5arow10_col2,#T_f33a231e_22ae_11eb_be7e_5254002dfb5arow12_col14,#T_f33a231e_22ae_11eb_be7e_5254002dfb5arow13_col4,#T_f33a231e_22ae_11eb_be7e_5254002dfb5arow14_col12{\n",
       "            background-color:  #c4cbe3;\n",
       "            color:  #000000;\n",
       "        }#T_f33a231e_22ae_11eb_be7e_5254002dfb5arow2_col11,#T_f33a231e_22ae_11eb_be7e_5254002dfb5arow11_col2,#T_f33a231e_22ae_11eb_be7e_5254002dfb5arow11_col12,#T_f33a231e_22ae_11eb_be7e_5254002dfb5arow12_col11{\n",
       "            background-color:  #adc1dd;\n",
       "            color:  #000000;\n",
       "        }#T_f33a231e_22ae_11eb_be7e_5254002dfb5arow2_col12,#T_f33a231e_22ae_11eb_be7e_5254002dfb5arow12_col2{\n",
       "            background-color:  #71a8ce;\n",
       "            color:  #000000;\n",
       "        }#T_f33a231e_22ae_11eb_be7e_5254002dfb5arow2_col13,#T_f33a231e_22ae_11eb_be7e_5254002dfb5arow13_col2{\n",
       "            background-color:  #f9f2f8;\n",
       "            color:  #000000;\n",
       "        }#T_f33a231e_22ae_11eb_be7e_5254002dfb5arow3_col4,#T_f33a231e_22ae_11eb_be7e_5254002dfb5arow4_col3,#T_f33a231e_22ae_11eb_be7e_5254002dfb5arow4_col5,#T_f33a231e_22ae_11eb_be7e_5254002dfb5arow5_col4,#T_f33a231e_22ae_11eb_be7e_5254002dfb5arow9_col11,#T_f33a231e_22ae_11eb_be7e_5254002dfb5arow11_col9{\n",
       "            background-color:  #86b0d3;\n",
       "            color:  #000000;\n",
       "        }#T_f33a231e_22ae_11eb_be7e_5254002dfb5arow3_col5,#T_f33a231e_22ae_11eb_be7e_5254002dfb5arow5_col3{\n",
       "            background-color:  #eee8f3;\n",
       "            color:  #000000;\n",
       "        }#T_f33a231e_22ae_11eb_be7e_5254002dfb5arow3_col6,#T_f33a231e_22ae_11eb_be7e_5254002dfb5arow6_col3{\n",
       "            background-color:  #f2ecf5;\n",
       "            color:  #000000;\n",
       "        }#T_f33a231e_22ae_11eb_be7e_5254002dfb5arow3_col7,#T_f33a231e_22ae_11eb_be7e_5254002dfb5arow7_col3{\n",
       "            background-color:  #cccfe5;\n",
       "            color:  #000000;\n",
       "        }#T_f33a231e_22ae_11eb_be7e_5254002dfb5arow3_col8,#T_f33a231e_22ae_11eb_be7e_5254002dfb5arow8_col3{\n",
       "            background-color:  #dedcec;\n",
       "            color:  #000000;\n",
       "        }#T_f33a231e_22ae_11eb_be7e_5254002dfb5arow3_col9,#T_f33a231e_22ae_11eb_be7e_5254002dfb5arow9_col3{\n",
       "            background-color:  #fef6fa;\n",
       "            color:  #000000;\n",
       "        }#T_f33a231e_22ae_11eb_be7e_5254002dfb5arow3_col11,#T_f33a231e_22ae_11eb_be7e_5254002dfb5arow8_col11,#T_f33a231e_22ae_11eb_be7e_5254002dfb5arow11_col3,#T_f33a231e_22ae_11eb_be7e_5254002dfb5arow11_col8{\n",
       "            background-color:  #abbfdc;\n",
       "            color:  #000000;\n",
       "        }#T_f33a231e_22ae_11eb_be7e_5254002dfb5arow3_col12,#T_f33a231e_22ae_11eb_be7e_5254002dfb5arow4_col16,#T_f33a231e_22ae_11eb_be7e_5254002dfb5arow12_col3,#T_f33a231e_22ae_11eb_be7e_5254002dfb5arow16_col4{\n",
       "            background-color:  #7bacd1;\n",
       "            color:  #000000;\n",
       "        }#T_f33a231e_22ae_11eb_be7e_5254002dfb5arow3_col13,#T_f33a231e_22ae_11eb_be7e_5254002dfb5arow13_col3{\n",
       "            background-color:  #fff7fb;\n",
       "            color:  #000000;\n",
       "        }#T_f33a231e_22ae_11eb_be7e_5254002dfb5arow3_col14,#T_f33a231e_22ae_11eb_be7e_5254002dfb5arow14_col3{\n",
       "            background-color:  #faf2f8;\n",
       "            color:  #000000;\n",
       "        }#T_f33a231e_22ae_11eb_be7e_5254002dfb5arow3_col15,#T_f33a231e_22ae_11eb_be7e_5254002dfb5arow15_col3{\n",
       "            background-color:  #f4edf6;\n",
       "            color:  #000000;\n",
       "        }#T_f33a231e_22ae_11eb_be7e_5254002dfb5arow3_col16,#T_f33a231e_22ae_11eb_be7e_5254002dfb5arow16_col3{\n",
       "            background-color:  #b5c4df;\n",
       "            color:  #000000;\n",
       "        }#T_f33a231e_22ae_11eb_be7e_5254002dfb5arow4_col6,#T_f33a231e_22ae_11eb_be7e_5254002dfb5arow6_col4,#T_f33a231e_22ae_11eb_be7e_5254002dfb5arow10_col11,#T_f33a231e_22ae_11eb_be7e_5254002dfb5arow11_col10,#T_f33a231e_22ae_11eb_be7e_5254002dfb5arow11_col16,#T_f33a231e_22ae_11eb_be7e_5254002dfb5arow16_col11{\n",
       "            background-color:  #8bb2d4;\n",
       "            color:  #000000;\n",
       "        }#T_f33a231e_22ae_11eb_be7e_5254002dfb5arow4_col7,#T_f33a231e_22ae_11eb_be7e_5254002dfb5arow4_col12,#T_f33a231e_22ae_11eb_be7e_5254002dfb5arow4_col15,#T_f33a231e_22ae_11eb_be7e_5254002dfb5arow7_col4,#T_f33a231e_22ae_11eb_be7e_5254002dfb5arow12_col4,#T_f33a231e_22ae_11eb_be7e_5254002dfb5arow15_col4{\n",
       "            background-color:  #7dacd1;\n",
       "            color:  #000000;\n",
       "        }#T_f33a231e_22ae_11eb_be7e_5254002dfb5arow4_col10,#T_f33a231e_22ae_11eb_be7e_5254002dfb5arow10_col4,#T_f33a231e_22ae_11eb_be7e_5254002dfb5arow12_col13,#T_f33a231e_22ae_11eb_be7e_5254002dfb5arow13_col12{\n",
       "            background-color:  #75a9cf;\n",
       "            color:  #000000;\n",
       "        }#T_f33a231e_22ae_11eb_be7e_5254002dfb5arow4_col11,#T_f33a231e_22ae_11eb_be7e_5254002dfb5arow11_col4{\n",
       "            background-color:  #83afd3;\n",
       "            color:  #000000;\n",
       "        }#T_f33a231e_22ae_11eb_be7e_5254002dfb5arow4_col14,#T_f33a231e_22ae_11eb_be7e_5254002dfb5arow14_col4{\n",
       "            background-color:  #84b0d3;\n",
       "            color:  #000000;\n",
       "        }#T_f33a231e_22ae_11eb_be7e_5254002dfb5arow5_col6,#T_f33a231e_22ae_11eb_be7e_5254002dfb5arow6_col5{\n",
       "            background-color:  #034267;\n",
       "            color:  #f1f1f1;\n",
       "        }#T_f33a231e_22ae_11eb_be7e_5254002dfb5arow5_col7,#T_f33a231e_22ae_11eb_be7e_5254002dfb5arow7_col5{\n",
       "            background-color:  #045585;\n",
       "            color:  #f1f1f1;\n",
       "        }#T_f33a231e_22ae_11eb_be7e_5254002dfb5arow5_col8,#T_f33a231e_22ae_11eb_be7e_5254002dfb5arow8_col5{\n",
       "            background-color:  #045c90;\n",
       "            color:  #f1f1f1;\n",
       "        }#T_f33a231e_22ae_11eb_be7e_5254002dfb5arow5_col9,#T_f33a231e_22ae_11eb_be7e_5254002dfb5arow9_col5{\n",
       "            background-color:  #b9c6e0;\n",
       "            color:  #000000;\n",
       "        }#T_f33a231e_22ae_11eb_be7e_5254002dfb5arow5_col10,#T_f33a231e_22ae_11eb_be7e_5254002dfb5arow10_col5{\n",
       "            background-color:  #034871;\n",
       "            color:  #f1f1f1;\n",
       "        }#T_f33a231e_22ae_11eb_be7e_5254002dfb5arow5_col11,#T_f33a231e_22ae_11eb_be7e_5254002dfb5arow9_col14,#T_f33a231e_22ae_11eb_be7e_5254002dfb5arow11_col5,#T_f33a231e_22ae_11eb_be7e_5254002dfb5arow14_col9{\n",
       "            background-color:  #a4bcda;\n",
       "            color:  #000000;\n",
       "        }#T_f33a231e_22ae_11eb_be7e_5254002dfb5arow5_col12,#T_f33a231e_22ae_11eb_be7e_5254002dfb5arow12_col5{\n",
       "            background-color:  #3790c0;\n",
       "            color:  #000000;\n",
       "        }#T_f33a231e_22ae_11eb_be7e_5254002dfb5arow5_col13,#T_f33a231e_22ae_11eb_be7e_5254002dfb5arow13_col5{\n",
       "            background-color:  #0567a1;\n",
       "            color:  #f1f1f1;\n",
       "        }#T_f33a231e_22ae_11eb_be7e_5254002dfb5arow5_col14,#T_f33a231e_22ae_11eb_be7e_5254002dfb5arow14_col5{\n",
       "            background-color:  #2383ba;\n",
       "            color:  #000000;\n",
       "        }#T_f33a231e_22ae_11eb_be7e_5254002dfb5arow5_col15,#T_f33a231e_22ae_11eb_be7e_5254002dfb5arow7_col12,#T_f33a231e_22ae_11eb_be7e_5254002dfb5arow12_col7,#T_f33a231e_22ae_11eb_be7e_5254002dfb5arow15_col5{\n",
       "            background-color:  #056fae;\n",
       "            color:  #f1f1f1;\n",
       "        }#T_f33a231e_22ae_11eb_be7e_5254002dfb5arow6_col7,#T_f33a231e_22ae_11eb_be7e_5254002dfb5arow7_col6{\n",
       "            background-color:  #04588a;\n",
       "            color:  #f1f1f1;\n",
       "        }#T_f33a231e_22ae_11eb_be7e_5254002dfb5arow6_col8,#T_f33a231e_22ae_11eb_be7e_5254002dfb5arow8_col6{\n",
       "            background-color:  #045b8e;\n",
       "            color:  #f1f1f1;\n",
       "        }#T_f33a231e_22ae_11eb_be7e_5254002dfb5arow6_col9,#T_f33a231e_22ae_11eb_be7e_5254002dfb5arow9_col6,#T_f33a231e_22ae_11eb_be7e_5254002dfb5arow11_col15,#T_f33a231e_22ae_11eb_be7e_5254002dfb5arow15_col11{\n",
       "            background-color:  #afc1dd;\n",
       "            color:  #000000;\n",
       "        }#T_f33a231e_22ae_11eb_be7e_5254002dfb5arow6_col10,#T_f33a231e_22ae_11eb_be7e_5254002dfb5arow10_col6{\n",
       "            background-color:  #034973;\n",
       "            color:  #f1f1f1;\n",
       "        }#T_f33a231e_22ae_11eb_be7e_5254002dfb5arow6_col12,#T_f33a231e_22ae_11eb_be7e_5254002dfb5arow12_col6{\n",
       "            background-color:  #4697c4;\n",
       "            color:  #000000;\n",
       "        }#T_f33a231e_22ae_11eb_be7e_5254002dfb5arow6_col13,#T_f33a231e_22ae_11eb_be7e_5254002dfb5arow6_col16,#T_f33a231e_22ae_11eb_be7e_5254002dfb5arow12_col16,#T_f33a231e_22ae_11eb_be7e_5254002dfb5arow13_col6,#T_f33a231e_22ae_11eb_be7e_5254002dfb5arow16_col6,#T_f33a231e_22ae_11eb_be7e_5254002dfb5arow16_col12{\n",
       "            background-color:  #04649d;\n",
       "            color:  #f1f1f1;\n",
       "        }#T_f33a231e_22ae_11eb_be7e_5254002dfb5arow6_col14,#T_f33a231e_22ae_11eb_be7e_5254002dfb5arow14_col6{\n",
       "            background-color:  #0f76b3;\n",
       "            color:  #f1f1f1;\n",
       "        }#T_f33a231e_22ae_11eb_be7e_5254002dfb5arow6_col15,#T_f33a231e_22ae_11eb_be7e_5254002dfb5arow15_col6{\n",
       "            background-color:  #0569a4;\n",
       "            color:  #f1f1f1;\n",
       "        }#T_f33a231e_22ae_11eb_be7e_5254002dfb5arow7_col8,#T_f33a231e_22ae_11eb_be7e_5254002dfb5arow8_col7{\n",
       "            background-color:  #045e94;\n",
       "            color:  #f1f1f1;\n",
       "        }#T_f33a231e_22ae_11eb_be7e_5254002dfb5arow7_col10,#T_f33a231e_22ae_11eb_be7e_5254002dfb5arow10_col7{\n",
       "            background-color:  #045687;\n",
       "            color:  #f1f1f1;\n",
       "        }#T_f33a231e_22ae_11eb_be7e_5254002dfb5arow7_col11,#T_f33a231e_22ae_11eb_be7e_5254002dfb5arow11_col7{\n",
       "            background-color:  #9cb9d9;\n",
       "            color:  #000000;\n",
       "        }#T_f33a231e_22ae_11eb_be7e_5254002dfb5arow7_col13,#T_f33a231e_22ae_11eb_be7e_5254002dfb5arow13_col7{\n",
       "            background-color:  #056dab;\n",
       "            color:  #f1f1f1;\n",
       "        }#T_f33a231e_22ae_11eb_be7e_5254002dfb5arow7_col14,#T_f33a231e_22ae_11eb_be7e_5254002dfb5arow14_col7{\n",
       "            background-color:  #67a4cc;\n",
       "            color:  #000000;\n",
       "        }#T_f33a231e_22ae_11eb_be7e_5254002dfb5arow7_col15,#T_f33a231e_22ae_11eb_be7e_5254002dfb5arow15_col7{\n",
       "            background-color:  #4295c3;\n",
       "            color:  #000000;\n",
       "        }#T_f33a231e_22ae_11eb_be7e_5254002dfb5arow7_col16,#T_f33a231e_22ae_11eb_be7e_5254002dfb5arow8_col10,#T_f33a231e_22ae_11eb_be7e_5254002dfb5arow10_col8,#T_f33a231e_22ae_11eb_be7e_5254002dfb5arow16_col7{\n",
       "            background-color:  #045d92;\n",
       "            color:  #f1f1f1;\n",
       "        }#T_f33a231e_22ae_11eb_be7e_5254002dfb5arow8_col9,#T_f33a231e_22ae_11eb_be7e_5254002dfb5arow9_col8{\n",
       "            background-color:  #b8c6e0;\n",
       "            color:  #000000;\n",
       "        }#T_f33a231e_22ae_11eb_be7e_5254002dfb5arow8_col12,#T_f33a231e_22ae_11eb_be7e_5254002dfb5arow12_col8{\n",
       "            background-color:  #2081b9;\n",
       "            color:  #000000;\n",
       "        }#T_f33a231e_22ae_11eb_be7e_5254002dfb5arow8_col13,#T_f33a231e_22ae_11eb_be7e_5254002dfb5arow13_col8{\n",
       "            background-color:  #1278b4;\n",
       "            color:  #f1f1f1;\n",
       "        }#T_f33a231e_22ae_11eb_be7e_5254002dfb5arow8_col14,#T_f33a231e_22ae_11eb_be7e_5254002dfb5arow14_col8{\n",
       "            background-color:  #6ba5cd;\n",
       "            color:  #000000;\n",
       "        }#T_f33a231e_22ae_11eb_be7e_5254002dfb5arow8_col15,#T_f33a231e_22ae_11eb_be7e_5254002dfb5arow15_col8{\n",
       "            background-color:  #62a2cb;\n",
       "            color:  #000000;\n",
       "        }#T_f33a231e_22ae_11eb_be7e_5254002dfb5arow8_col16,#T_f33a231e_22ae_11eb_be7e_5254002dfb5arow16_col8{\n",
       "            background-color:  #056aa6;\n",
       "            color:  #f1f1f1;\n",
       "        }#T_f33a231e_22ae_11eb_be7e_5254002dfb5arow9_col13,#T_f33a231e_22ae_11eb_be7e_5254002dfb5arow13_col9{\n",
       "            background-color:  #4094c3;\n",
       "            color:  #000000;\n",
       "        }#T_f33a231e_22ae_11eb_be7e_5254002dfb5arow9_col15,#T_f33a231e_22ae_11eb_be7e_5254002dfb5arow11_col13,#T_f33a231e_22ae_11eb_be7e_5254002dfb5arow13_col11,#T_f33a231e_22ae_11eb_be7e_5254002dfb5arow15_col9{\n",
       "            background-color:  #a8bedc;\n",
       "            color:  #000000;\n",
       "        }#T_f33a231e_22ae_11eb_be7e_5254002dfb5arow9_col16,#T_f33a231e_22ae_11eb_be7e_5254002dfb5arow16_col9{\n",
       "            background-color:  #dfddec;\n",
       "            color:  #000000;\n",
       "        }#T_f33a231e_22ae_11eb_be7e_5254002dfb5arow10_col12,#T_f33a231e_22ae_11eb_be7e_5254002dfb5arow12_col10,#T_f33a231e_22ae_11eb_be7e_5254002dfb5arow15_col16,#T_f33a231e_22ae_11eb_be7e_5254002dfb5arow16_col15{\n",
       "            background-color:  #3991c1;\n",
       "            color:  #000000;\n",
       "        }#T_f33a231e_22ae_11eb_be7e_5254002dfb5arow10_col13,#T_f33a231e_22ae_11eb_be7e_5254002dfb5arow13_col10,#T_f33a231e_22ae_11eb_be7e_5254002dfb5arow13_col16,#T_f33a231e_22ae_11eb_be7e_5254002dfb5arow16_col13{\n",
       "            background-color:  #0872b1;\n",
       "            color:  #f1f1f1;\n",
       "        }#T_f33a231e_22ae_11eb_be7e_5254002dfb5arow10_col14,#T_f33a231e_22ae_11eb_be7e_5254002dfb5arow14_col10{\n",
       "            background-color:  #197db7;\n",
       "            color:  #000000;\n",
       "        }#T_f33a231e_22ae_11eb_be7e_5254002dfb5arow10_col15,#T_f33a231e_22ae_11eb_be7e_5254002dfb5arow15_col10{\n",
       "            background-color:  #0a73b2;\n",
       "            color:  #f1f1f1;\n",
       "        }#T_f33a231e_22ae_11eb_be7e_5254002dfb5arow10_col16,#T_f33a231e_22ae_11eb_be7e_5254002dfb5arow16_col10{\n",
       "            background-color:  #0567a2;\n",
       "            color:  #f1f1f1;\n",
       "        }#T_f33a231e_22ae_11eb_be7e_5254002dfb5arow11_col14,#T_f33a231e_22ae_11eb_be7e_5254002dfb5arow14_col11{\n",
       "            background-color:  #bcc7e1;\n",
       "            color:  #000000;\n",
       "        }#T_f33a231e_22ae_11eb_be7e_5254002dfb5arow12_col15,#T_f33a231e_22ae_11eb_be7e_5254002dfb5arow15_col12{\n",
       "            background-color:  #acc0dd;\n",
       "            color:  #000000;\n",
       "        }#T_f33a231e_22ae_11eb_be7e_5254002dfb5arow13_col14,#T_f33a231e_22ae_11eb_be7e_5254002dfb5arow14_col13{\n",
       "            background-color:  #2f8bbe;\n",
       "            color:  #000000;\n",
       "        }#T_f33a231e_22ae_11eb_be7e_5254002dfb5arow13_col15,#T_f33a231e_22ae_11eb_be7e_5254002dfb5arow15_col13{\n",
       "            background-color:  #167bb6;\n",
       "            color:  #000000;\n",
       "        }#T_f33a231e_22ae_11eb_be7e_5254002dfb5arow14_col15,#T_f33a231e_22ae_11eb_be7e_5254002dfb5arow15_col14{\n",
       "            background-color:  #046299;\n",
       "            color:  #f1f1f1;\n",
       "        }#T_f33a231e_22ae_11eb_be7e_5254002dfb5arow14_col16,#T_f33a231e_22ae_11eb_be7e_5254002dfb5arow16_col14{\n",
       "            background-color:  #8cb3d5;\n",
       "            color:  #000000;\n",
       "        }</style><table id=\"T_f33a231e_22ae_11eb_be7e_5254002dfb5a\" ><thead>    <tr>        <th class=\"blank level0\" ></th>        <th class=\"col_heading level0 col0\" >Rt</th>        <th class=\"col_heading level0 col1\" >theta</th>        <th class=\"col_heading level0 col2\" >kappa</th>        <th class=\"col_heading level0 col3\" >rho</th>        <th class=\"col_heading level0 col4\" >sigma</th>        <th class=\"col_heading level0 col5\" >School_closing</th>        <th class=\"col_heading level0 col6\" >Workplace_closing</th>        <th class=\"col_heading level0 col7\" >Cancel_events</th>        <th class=\"col_heading level0 col8\" >Gatherings_restrictions</th>        <th class=\"col_heading level0 col9\" >Transport_closing</th>        <th class=\"col_heading level0 col10\" >Stay_home_restrictions</th>        <th class=\"col_heading level0 col11\" >Internal_movement_restrictions</th>        <th class=\"col_heading level0 col12\" >International_movement_restrictions</th>        <th class=\"col_heading level0 col13\" >Information_campaigns</th>        <th class=\"col_heading level0 col14\" >Testing_policy</th>        <th class=\"col_heading level0 col15\" >Contact_tracing</th>        <th class=\"col_heading level0 col16\" >Stringency_index</th>    </tr></thead><tbody>\n",
       "                <tr>\n",
       "                        <th id=\"T_f33a231e_22ae_11eb_be7e_5254002dfb5alevel0_row0\" class=\"row_heading level0 row0\" >Rt</th>\n",
       "                        <td id=\"T_f33a231e_22ae_11eb_be7e_5254002dfb5arow0_col0\" class=\"data row0 col0\" >1.000000</td>\n",
       "                        <td id=\"T_f33a231e_22ae_11eb_be7e_5254002dfb5arow0_col1\" class=\"data row0 col1\" >-0.222951</td>\n",
       "                        <td id=\"T_f33a231e_22ae_11eb_be7e_5254002dfb5arow0_col2\" class=\"data row0 col2\" >-0.230306</td>\n",
       "                        <td id=\"T_f33a231e_22ae_11eb_be7e_5254002dfb5arow0_col3\" class=\"data row0 col3\" >0.120533</td>\n",
       "                        <td id=\"T_f33a231e_22ae_11eb_be7e_5254002dfb5arow0_col4\" class=\"data row0 col4\" >-0.303269</td>\n",
       "                        <td id=\"T_f33a231e_22ae_11eb_be7e_5254002dfb5arow0_col5\" class=\"data row0 col5\" >-0.399741</td>\n",
       "                        <td id=\"T_f33a231e_22ae_11eb_be7e_5254002dfb5arow0_col6\" class=\"data row0 col6\" >-0.322872</td>\n",
       "                        <td id=\"T_f33a231e_22ae_11eb_be7e_5254002dfb5arow0_col7\" class=\"data row0 col7\" >-0.187403</td>\n",
       "                        <td id=\"T_f33a231e_22ae_11eb_be7e_5254002dfb5arow0_col8\" class=\"data row0 col8\" >-0.304565</td>\n",
       "                        <td id=\"T_f33a231e_22ae_11eb_be7e_5254002dfb5arow0_col9\" class=\"data row0 col9\" >0.218856</td>\n",
       "                        <td id=\"T_f33a231e_22ae_11eb_be7e_5254002dfb5arow0_col10\" class=\"data row0 col10\" >-0.360881</td>\n",
       "                        <td id=\"T_f33a231e_22ae_11eb_be7e_5254002dfb5arow0_col11\" class=\"data row0 col11\" >-0.063705</td>\n",
       "                        <td id=\"T_f33a231e_22ae_11eb_be7e_5254002dfb5arow0_col12\" class=\"data row0 col12\" >-0.198748</td>\n",
       "                        <td id=\"T_f33a231e_22ae_11eb_be7e_5254002dfb5arow0_col13\" class=\"data row0 col13\" >-0.017813</td>\n",
       "                        <td id=\"T_f33a231e_22ae_11eb_be7e_5254002dfb5arow0_col14\" class=\"data row0 col14\" >-0.173040</td>\n",
       "                        <td id=\"T_f33a231e_22ae_11eb_be7e_5254002dfb5arow0_col15\" class=\"data row0 col15\" >-0.290368</td>\n",
       "                        <td id=\"T_f33a231e_22ae_11eb_be7e_5254002dfb5arow0_col16\" class=\"data row0 col16\" >-0.288080</td>\n",
       "            </tr>\n",
       "            <tr>\n",
       "                        <th id=\"T_f33a231e_22ae_11eb_be7e_5254002dfb5alevel0_row1\" class=\"row_heading level0 row1\" >theta</th>\n",
       "                        <td id=\"T_f33a231e_22ae_11eb_be7e_5254002dfb5arow1_col0\" class=\"data row1 col0\" >-0.222951</td>\n",
       "                        <td id=\"T_f33a231e_22ae_11eb_be7e_5254002dfb5arow1_col1\" class=\"data row1 col1\" >1.000000</td>\n",
       "                        <td id=\"T_f33a231e_22ae_11eb_be7e_5254002dfb5arow1_col2\" class=\"data row1 col2\" >0.994298</td>\n",
       "                        <td id=\"T_f33a231e_22ae_11eb_be7e_5254002dfb5arow1_col3\" class=\"data row1 col3\" >0.729598</td>\n",
       "                        <td id=\"T_f33a231e_22ae_11eb_be7e_5254002dfb5arow1_col4\" class=\"data row1 col4\" >0.144611</td>\n",
       "                        <td id=\"T_f33a231e_22ae_11eb_be7e_5254002dfb5arow1_col5\" class=\"data row1 col5\" >-0.224499</td>\n",
       "                        <td id=\"T_f33a231e_22ae_11eb_be7e_5254002dfb5arow1_col6\" class=\"data row1 col6\" >-0.250139</td>\n",
       "                        <td id=\"T_f33a231e_22ae_11eb_be7e_5254002dfb5arow1_col7\" class=\"data row1 col7\" >-0.169163</td>\n",
       "                        <td id=\"T_f33a231e_22ae_11eb_be7e_5254002dfb5arow1_col8\" class=\"data row1 col8\" >-0.288661</td>\n",
       "                        <td id=\"T_f33a231e_22ae_11eb_be7e_5254002dfb5arow1_col9\" class=\"data row1 col9\" >-0.504435</td>\n",
       "                        <td id=\"T_f33a231e_22ae_11eb_be7e_5254002dfb5arow1_col10\" class=\"data row1 col10\" >-0.115031</td>\n",
       "                        <td id=\"T_f33a231e_22ae_11eb_be7e_5254002dfb5arow1_col11\" class=\"data row1 col11\" >0.018258</td>\n",
       "                        <td id=\"T_f33a231e_22ae_11eb_be7e_5254002dfb5arow1_col12\" class=\"data row1 col12\" >0.229992</td>\n",
       "                        <td id=\"T_f33a231e_22ae_11eb_be7e_5254002dfb5arow1_col13\" class=\"data row1 col13\" >-0.475165</td>\n",
       "                        <td id=\"T_f33a231e_22ae_11eb_be7e_5254002dfb5arow1_col14\" class=\"data row1 col14\" >-0.239298</td>\n",
       "                        <td id=\"T_f33a231e_22ae_11eb_be7e_5254002dfb5arow1_col15\" class=\"data row1 col15\" >-0.111221</td>\n",
       "                        <td id=\"T_f33a231e_22ae_11eb_be7e_5254002dfb5arow1_col16\" class=\"data row1 col16\" >0.048509</td>\n",
       "            </tr>\n",
       "            <tr>\n",
       "                        <th id=\"T_f33a231e_22ae_11eb_be7e_5254002dfb5alevel0_row2\" class=\"row_heading level0 row2\" >kappa</th>\n",
       "                        <td id=\"T_f33a231e_22ae_11eb_be7e_5254002dfb5arow2_col0\" class=\"data row2 col0\" >-0.230306</td>\n",
       "                        <td id=\"T_f33a231e_22ae_11eb_be7e_5254002dfb5arow2_col1\" class=\"data row2 col1\" >0.994298</td>\n",
       "                        <td id=\"T_f33a231e_22ae_11eb_be7e_5254002dfb5arow2_col2\" class=\"data row2 col2\" >1.000000</td>\n",
       "                        <td id=\"T_f33a231e_22ae_11eb_be7e_5254002dfb5arow2_col3\" class=\"data row2 col3\" >0.750647</td>\n",
       "                        <td id=\"T_f33a231e_22ae_11eb_be7e_5254002dfb5arow2_col4\" class=\"data row2 col4\" >0.153160</td>\n",
       "                        <td id=\"T_f33a231e_22ae_11eb_be7e_5254002dfb5arow2_col5\" class=\"data row2 col5\" >-0.219369</td>\n",
       "                        <td id=\"T_f33a231e_22ae_11eb_be7e_5254002dfb5arow2_col6\" class=\"data row2 col6\" >-0.242071</td>\n",
       "                        <td id=\"T_f33a231e_22ae_11eb_be7e_5254002dfb5arow2_col7\" class=\"data row2 col7\" >-0.156317</td>\n",
       "                        <td id=\"T_f33a231e_22ae_11eb_be7e_5254002dfb5arow2_col8\" class=\"data row2 col8\" >-0.269464</td>\n",
       "                        <td id=\"T_f33a231e_22ae_11eb_be7e_5254002dfb5arow2_col9\" class=\"data row2 col9\" >-0.514691</td>\n",
       "                        <td id=\"T_f33a231e_22ae_11eb_be7e_5254002dfb5arow2_col10\" class=\"data row2 col10\" >-0.102777</td>\n",
       "                        <td id=\"T_f33a231e_22ae_11eb_be7e_5254002dfb5arow2_col11\" class=\"data row2 col11\" >-0.000145</td>\n",
       "                        <td id=\"T_f33a231e_22ae_11eb_be7e_5254002dfb5arow2_col12\" class=\"data row2 col12\" >0.235893</td>\n",
       "                        <td id=\"T_f33a231e_22ae_11eb_be7e_5254002dfb5arow2_col13\" class=\"data row2 col13\" >-0.482033</td>\n",
       "                        <td id=\"T_f33a231e_22ae_11eb_be7e_5254002dfb5arow2_col14\" class=\"data row2 col14\" >-0.236825</td>\n",
       "                        <td id=\"T_f33a231e_22ae_11eb_be7e_5254002dfb5arow2_col15\" class=\"data row2 col15\" >-0.110555</td>\n",
       "                        <td id=\"T_f33a231e_22ae_11eb_be7e_5254002dfb5arow2_col16\" class=\"data row2 col16\" >0.046887</td>\n",
       "            </tr>\n",
       "            <tr>\n",
       "                        <th id=\"T_f33a231e_22ae_11eb_be7e_5254002dfb5alevel0_row3\" class=\"row_heading level0 row3\" >rho</th>\n",
       "                        <td id=\"T_f33a231e_22ae_11eb_be7e_5254002dfb5arow3_col0\" class=\"data row3 col0\" >0.120533</td>\n",
       "                        <td id=\"T_f33a231e_22ae_11eb_be7e_5254002dfb5arow3_col1\" class=\"data row3 col1\" >0.729598</td>\n",
       "                        <td id=\"T_f33a231e_22ae_11eb_be7e_5254002dfb5arow3_col2\" class=\"data row3 col2\" >0.750647</td>\n",
       "                        <td id=\"T_f33a231e_22ae_11eb_be7e_5254002dfb5arow3_col3\" class=\"data row3 col3\" >1.000000</td>\n",
       "                        <td id=\"T_f33a231e_22ae_11eb_be7e_5254002dfb5arow3_col4\" class=\"data row3 col4\" >0.156003</td>\n",
       "                        <td id=\"T_f33a231e_22ae_11eb_be7e_5254002dfb5arow3_col5\" class=\"data row3 col5\" >-0.368066</td>\n",
       "                        <td id=\"T_f33a231e_22ae_11eb_be7e_5254002dfb5arow3_col6\" class=\"data row3 col6\" >-0.418283</td>\n",
       "                        <td id=\"T_f33a231e_22ae_11eb_be7e_5254002dfb5arow3_col7\" class=\"data row3 col7\" >-0.142324</td>\n",
       "                        <td id=\"T_f33a231e_22ae_11eb_be7e_5254002dfb5arow3_col8\" class=\"data row3 col8\" >-0.256788</td>\n",
       "                        <td id=\"T_f33a231e_22ae_11eb_be7e_5254002dfb5arow3_col9\" class=\"data row3 col9\" >-0.529989</td>\n",
       "                        <td id=\"T_f33a231e_22ae_11eb_be7e_5254002dfb5arow3_col10\" class=\"data row3 col10\" >-0.246323</td>\n",
       "                        <td id=\"T_f33a231e_22ae_11eb_be7e_5254002dfb5arow3_col11\" class=\"data row3 col11\" >0.012828</td>\n",
       "                        <td id=\"T_f33a231e_22ae_11eb_be7e_5254002dfb5arow3_col12\" class=\"data row3 col12\" >0.198596</td>\n",
       "                        <td id=\"T_f33a231e_22ae_11eb_be7e_5254002dfb5arow3_col13\" class=\"data row3 col13\" >-0.547770</td>\n",
       "                        <td id=\"T_f33a231e_22ae_11eb_be7e_5254002dfb5arow3_col14\" class=\"data row3 col14\" >-0.491965</td>\n",
       "                        <td id=\"T_f33a231e_22ae_11eb_be7e_5254002dfb5arow3_col15\" class=\"data row3 col15\" >-0.429951</td>\n",
       "                        <td id=\"T_f33a231e_22ae_11eb_be7e_5254002dfb5arow3_col16\" class=\"data row3 col16\" >-0.037480</td>\n",
       "            </tr>\n",
       "            <tr>\n",
       "                        <th id=\"T_f33a231e_22ae_11eb_be7e_5254002dfb5alevel0_row4\" class=\"row_heading level0 row4\" >sigma</th>\n",
       "                        <td id=\"T_f33a231e_22ae_11eb_be7e_5254002dfb5arow4_col0\" class=\"data row4 col0\" >-0.303269</td>\n",
       "                        <td id=\"T_f33a231e_22ae_11eb_be7e_5254002dfb5arow4_col1\" class=\"data row4 col1\" >0.144611</td>\n",
       "                        <td id=\"T_f33a231e_22ae_11eb_be7e_5254002dfb5arow4_col2\" class=\"data row4 col2\" >0.153160</td>\n",
       "                        <td id=\"T_f33a231e_22ae_11eb_be7e_5254002dfb5arow4_col3\" class=\"data row4 col3\" >0.156003</td>\n",
       "                        <td id=\"T_f33a231e_22ae_11eb_be7e_5254002dfb5arow4_col4\" class=\"data row4 col4\" >1.000000</td>\n",
       "                        <td id=\"T_f33a231e_22ae_11eb_be7e_5254002dfb5arow4_col5\" class=\"data row4 col5\" >0.156591</td>\n",
       "                        <td id=\"T_f33a231e_22ae_11eb_be7e_5254002dfb5arow4_col6\" class=\"data row4 col6\" >0.136524</td>\n",
       "                        <td id=\"T_f33a231e_22ae_11eb_be7e_5254002dfb5arow4_col7\" class=\"data row4 col7\" >0.194603</td>\n",
       "                        <td id=\"T_f33a231e_22ae_11eb_be7e_5254002dfb5arow4_col8\" class=\"data row4 col8\" >0.119716</td>\n",
       "                        <td id=\"T_f33a231e_22ae_11eb_be7e_5254002dfb5arow4_col9\" class=\"data row4 col9\" >-0.399429</td>\n",
       "                        <td id=\"T_f33a231e_22ae_11eb_be7e_5254002dfb5arow4_col10\" class=\"data row4 col10\" >0.223317</td>\n",
       "                        <td id=\"T_f33a231e_22ae_11eb_be7e_5254002dfb5arow4_col11\" class=\"data row4 col11\" >0.167585</td>\n",
       "                        <td id=\"T_f33a231e_22ae_11eb_be7e_5254002dfb5arow4_col12\" class=\"data row4 col12\" >0.189954</td>\n",
       "                        <td id=\"T_f33a231e_22ae_11eb_be7e_5254002dfb5arow4_col13\" class=\"data row4 col13\" >-0.100923</td>\n",
       "                        <td id=\"T_f33a231e_22ae_11eb_be7e_5254002dfb5arow4_col14\" class=\"data row4 col14\" >0.162227</td>\n",
       "                        <td id=\"T_f33a231e_22ae_11eb_be7e_5254002dfb5arow4_col15\" class=\"data row4 col15\" >0.195805</td>\n",
       "                        <td id=\"T_f33a231e_22ae_11eb_be7e_5254002dfb5arow4_col16\" class=\"data row4 col16\" >0.198453</td>\n",
       "            </tr>\n",
       "            <tr>\n",
       "                        <th id=\"T_f33a231e_22ae_11eb_be7e_5254002dfb5alevel0_row5\" class=\"row_heading level0 row5\" >School_closing</th>\n",
       "                        <td id=\"T_f33a231e_22ae_11eb_be7e_5254002dfb5arow5_col0\" class=\"data row5 col0\" >-0.399741</td>\n",
       "                        <td id=\"T_f33a231e_22ae_11eb_be7e_5254002dfb5arow5_col1\" class=\"data row5 col1\" >-0.224499</td>\n",
       "                        <td id=\"T_f33a231e_22ae_11eb_be7e_5254002dfb5arow5_col2\" class=\"data row5 col2\" >-0.219369</td>\n",
       "                        <td id=\"T_f33a231e_22ae_11eb_be7e_5254002dfb5arow5_col3\" class=\"data row5 col3\" >-0.368066</td>\n",
       "                        <td id=\"T_f33a231e_22ae_11eb_be7e_5254002dfb5arow5_col4\" class=\"data row5 col4\" >0.156591</td>\n",
       "                        <td id=\"T_f33a231e_22ae_11eb_be7e_5254002dfb5arow5_col5\" class=\"data row5 col5\" >1.000000</td>\n",
       "                        <td id=\"T_f33a231e_22ae_11eb_be7e_5254002dfb5arow5_col6\" class=\"data row5 col6\" >0.945262</td>\n",
       "                        <td id=\"T_f33a231e_22ae_11eb_be7e_5254002dfb5arow5_col7\" class=\"data row5 col7\" >0.833145</td>\n",
       "                        <td id=\"T_f33a231e_22ae_11eb_be7e_5254002dfb5arow5_col8\" class=\"data row5 col8\" >0.788088</td>\n",
       "                        <td id=\"T_f33a231e_22ae_11eb_be7e_5254002dfb5arow5_col9\" class=\"data row5 col9\" >-0.055630</td>\n",
       "                        <td id=\"T_f33a231e_22ae_11eb_be7e_5254002dfb5arow5_col10\" class=\"data row5 col10\" >0.904270</td>\n",
       "                        <td id=\"T_f33a231e_22ae_11eb_be7e_5254002dfb5arow5_col11\" class=\"data row5 col11\" >0.039545</td>\n",
       "                        <td id=\"T_f33a231e_22ae_11eb_be7e_5254002dfb5arow5_col12\" class=\"data row5 col12\" >0.418783</td>\n",
       "                        <td id=\"T_f33a231e_22ae_11eb_be7e_5254002dfb5arow5_col13\" class=\"data row5 col13\" >0.697209</td>\n",
       "                        <td id=\"T_f33a231e_22ae_11eb_be7e_5254002dfb5arow5_col14\" class=\"data row5 col14\" >0.496527</td>\n",
       "                        <td id=\"T_f33a231e_22ae_11eb_be7e_5254002dfb5arow5_col15\" class=\"data row5 col15\" >0.622871</td>\n",
       "                        <td id=\"T_f33a231e_22ae_11eb_be7e_5254002dfb5arow5_col16\" class=\"data row5 col16\" >0.751090</td>\n",
       "            </tr>\n",
       "            <tr>\n",
       "                        <th id=\"T_f33a231e_22ae_11eb_be7e_5254002dfb5alevel0_row6\" class=\"row_heading level0 row6\" >Workplace_closing</th>\n",
       "                        <td id=\"T_f33a231e_22ae_11eb_be7e_5254002dfb5arow6_col0\" class=\"data row6 col0\" >-0.322872</td>\n",
       "                        <td id=\"T_f33a231e_22ae_11eb_be7e_5254002dfb5arow6_col1\" class=\"data row6 col1\" >-0.250139</td>\n",
       "                        <td id=\"T_f33a231e_22ae_11eb_be7e_5254002dfb5arow6_col2\" class=\"data row6 col2\" >-0.242071</td>\n",
       "                        <td id=\"T_f33a231e_22ae_11eb_be7e_5254002dfb5arow6_col3\" class=\"data row6 col3\" >-0.418283</td>\n",
       "                        <td id=\"T_f33a231e_22ae_11eb_be7e_5254002dfb5arow6_col4\" class=\"data row6 col4\" >0.136524</td>\n",
       "                        <td id=\"T_f33a231e_22ae_11eb_be7e_5254002dfb5arow6_col5\" class=\"data row6 col5\" >0.945262</td>\n",
       "                        <td id=\"T_f33a231e_22ae_11eb_be7e_5254002dfb5arow6_col6\" class=\"data row6 col6\" >1.000000</td>\n",
       "                        <td id=\"T_f33a231e_22ae_11eb_be7e_5254002dfb5arow6_col7\" class=\"data row6 col7\" >0.813627</td>\n",
       "                        <td id=\"T_f33a231e_22ae_11eb_be7e_5254002dfb5arow6_col8\" class=\"data row6 col8\" >0.794547</td>\n",
       "                        <td id=\"T_f33a231e_22ae_11eb_be7e_5254002dfb5arow6_col9\" class=\"data row6 col9\" >-0.007260</td>\n",
       "                        <td id=\"T_f33a231e_22ae_11eb_be7e_5254002dfb5arow6_col10\" class=\"data row6 col10\" >0.902450</td>\n",
       "                        <td id=\"T_f33a231e_22ae_11eb_be7e_5254002dfb5arow6_col11\" class=\"data row6 col11\" >-0.017161</td>\n",
       "                        <td id=\"T_f33a231e_22ae_11eb_be7e_5254002dfb5arow6_col12\" class=\"data row6 col12\" >0.368124</td>\n",
       "                        <td id=\"T_f33a231e_22ae_11eb_be7e_5254002dfb5arow6_col13\" class=\"data row6 col13\" >0.721469</td>\n",
       "                        <td id=\"T_f33a231e_22ae_11eb_be7e_5254002dfb5arow6_col14\" class=\"data row6 col14\" >0.571060</td>\n",
       "                        <td id=\"T_f33a231e_22ae_11eb_be7e_5254002dfb5arow6_col15\" class=\"data row6 col15\" >0.676614</td>\n",
       "                        <td id=\"T_f33a231e_22ae_11eb_be7e_5254002dfb5arow6_col16\" class=\"data row6 col16\" >0.719493</td>\n",
       "            </tr>\n",
       "            <tr>\n",
       "                        <th id=\"T_f33a231e_22ae_11eb_be7e_5254002dfb5alevel0_row7\" class=\"row_heading level0 row7\" >Cancel_events</th>\n",
       "                        <td id=\"T_f33a231e_22ae_11eb_be7e_5254002dfb5arow7_col0\" class=\"data row7 col0\" >-0.187403</td>\n",
       "                        <td id=\"T_f33a231e_22ae_11eb_be7e_5254002dfb5arow7_col1\" class=\"data row7 col1\" >-0.169163</td>\n",
       "                        <td id=\"T_f33a231e_22ae_11eb_be7e_5254002dfb5arow7_col2\" class=\"data row7 col2\" >-0.156317</td>\n",
       "                        <td id=\"T_f33a231e_22ae_11eb_be7e_5254002dfb5arow7_col3\" class=\"data row7 col3\" >-0.142324</td>\n",
       "                        <td id=\"T_f33a231e_22ae_11eb_be7e_5254002dfb5arow7_col4\" class=\"data row7 col4\" >0.194603</td>\n",
       "                        <td id=\"T_f33a231e_22ae_11eb_be7e_5254002dfb5arow7_col5\" class=\"data row7 col5\" >0.833145</td>\n",
       "                        <td id=\"T_f33a231e_22ae_11eb_be7e_5254002dfb5arow7_col6\" class=\"data row7 col6\" >0.813627</td>\n",
       "                        <td id=\"T_f33a231e_22ae_11eb_be7e_5254002dfb5arow7_col7\" class=\"data row7 col7\" >1.000000</td>\n",
       "                        <td id=\"T_f33a231e_22ae_11eb_be7e_5254002dfb5arow7_col8\" class=\"data row7 col8\" >0.766150</td>\n",
       "                        <td id=\"T_f33a231e_22ae_11eb_be7e_5254002dfb5arow7_col9\" class=\"data row7 col9\" >-0.112699</td>\n",
       "                        <td id=\"T_f33a231e_22ae_11eb_be7e_5254002dfb5arow7_col10\" class=\"data row7 col10\" >0.828715</td>\n",
       "                        <td id=\"T_f33a231e_22ae_11eb_be7e_5254002dfb5arow7_col11\" class=\"data row7 col11\" >0.072258</td>\n",
       "                        <td id=\"T_f33a231e_22ae_11eb_be7e_5254002dfb5arow7_col12\" class=\"data row7 col12\" >0.623545</td>\n",
       "                        <td id=\"T_f33a231e_22ae_11eb_be7e_5254002dfb5arow7_col13\" class=\"data row7 col13\" >0.637387</td>\n",
       "                        <td id=\"T_f33a231e_22ae_11eb_be7e_5254002dfb5arow7_col14\" class=\"data row7 col14\" >0.264893</td>\n",
       "                        <td id=\"T_f33a231e_22ae_11eb_be7e_5254002dfb5arow7_col15\" class=\"data row7 col15\" >0.382617</td>\n",
       "                        <td id=\"T_f33a231e_22ae_11eb_be7e_5254002dfb5arow7_col16\" class=\"data row7 col16\" >0.781714</td>\n",
       "            </tr>\n",
       "            <tr>\n",
       "                        <th id=\"T_f33a231e_22ae_11eb_be7e_5254002dfb5alevel0_row8\" class=\"row_heading level0 row8\" >Gatherings_restrictions</th>\n",
       "                        <td id=\"T_f33a231e_22ae_11eb_be7e_5254002dfb5arow8_col0\" class=\"data row8 col0\" >-0.304565</td>\n",
       "                        <td id=\"T_f33a231e_22ae_11eb_be7e_5254002dfb5arow8_col1\" class=\"data row8 col1\" >-0.288661</td>\n",
       "                        <td id=\"T_f33a231e_22ae_11eb_be7e_5254002dfb5arow8_col2\" class=\"data row8 col2\" >-0.269464</td>\n",
       "                        <td id=\"T_f33a231e_22ae_11eb_be7e_5254002dfb5arow8_col3\" class=\"data row8 col3\" >-0.256788</td>\n",
       "                        <td id=\"T_f33a231e_22ae_11eb_be7e_5254002dfb5arow8_col4\" class=\"data row8 col4\" >0.119716</td>\n",
       "                        <td id=\"T_f33a231e_22ae_11eb_be7e_5254002dfb5arow8_col5\" class=\"data row8 col5\" >0.788088</td>\n",
       "                        <td id=\"T_f33a231e_22ae_11eb_be7e_5254002dfb5arow8_col6\" class=\"data row8 col6\" >0.794547</td>\n",
       "                        <td id=\"T_f33a231e_22ae_11eb_be7e_5254002dfb5arow8_col7\" class=\"data row8 col7\" >0.766150</td>\n",
       "                        <td id=\"T_f33a231e_22ae_11eb_be7e_5254002dfb5arow8_col8\" class=\"data row8 col8\" >1.000000</td>\n",
       "                        <td id=\"T_f33a231e_22ae_11eb_be7e_5254002dfb5arow8_col9\" class=\"data row8 col9\" >-0.048775</td>\n",
       "                        <td id=\"T_f33a231e_22ae_11eb_be7e_5254002dfb5arow8_col10\" class=\"data row8 col10\" >0.776466</td>\n",
       "                        <td id=\"T_f33a231e_22ae_11eb_be7e_5254002dfb5arow8_col11\" class=\"data row8 col11\" >0.008636</td>\n",
       "                        <td id=\"T_f33a231e_22ae_11eb_be7e_5254002dfb5arow8_col12\" class=\"data row8 col12\" >0.505493</td>\n",
       "                        <td id=\"T_f33a231e_22ae_11eb_be7e_5254002dfb5arow8_col13\" class=\"data row8 col13\" >0.560741</td>\n",
       "                        <td id=\"T_f33a231e_22ae_11eb_be7e_5254002dfb5arow8_col14\" class=\"data row8 col14\" >0.255211</td>\n",
       "                        <td id=\"T_f33a231e_22ae_11eb_be7e_5254002dfb5arow8_col15\" class=\"data row8 col15\" >0.285219</td>\n",
       "                        <td id=\"T_f33a231e_22ae_11eb_be7e_5254002dfb5arow8_col16\" class=\"data row8 col16\" >0.662462</td>\n",
       "            </tr>\n",
       "            <tr>\n",
       "                        <th id=\"T_f33a231e_22ae_11eb_be7e_5254002dfb5alevel0_row9\" class=\"row_heading level0 row9\" >Transport_closing</th>\n",
       "                        <td id=\"T_f33a231e_22ae_11eb_be7e_5254002dfb5arow9_col0\" class=\"data row9 col0\" >0.218856</td>\n",
       "                        <td id=\"T_f33a231e_22ae_11eb_be7e_5254002dfb5arow9_col1\" class=\"data row9 col1\" >-0.504435</td>\n",
       "                        <td id=\"T_f33a231e_22ae_11eb_be7e_5254002dfb5arow9_col2\" class=\"data row9 col2\" >-0.514691</td>\n",
       "                        <td id=\"T_f33a231e_22ae_11eb_be7e_5254002dfb5arow9_col3\" class=\"data row9 col3\" >-0.529989</td>\n",
       "                        <td id=\"T_f33a231e_22ae_11eb_be7e_5254002dfb5arow9_col4\" class=\"data row9 col4\" >-0.399429</td>\n",
       "                        <td id=\"T_f33a231e_22ae_11eb_be7e_5254002dfb5arow9_col5\" class=\"data row9 col5\" >-0.055630</td>\n",
       "                        <td id=\"T_f33a231e_22ae_11eb_be7e_5254002dfb5arow9_col6\" class=\"data row9 col6\" >-0.007260</td>\n",
       "                        <td id=\"T_f33a231e_22ae_11eb_be7e_5254002dfb5arow9_col7\" class=\"data row9 col7\" >-0.112699</td>\n",
       "                        <td id=\"T_f33a231e_22ae_11eb_be7e_5254002dfb5arow9_col8\" class=\"data row9 col8\" >-0.048775</td>\n",
       "                        <td id=\"T_f33a231e_22ae_11eb_be7e_5254002dfb5arow9_col9\" class=\"data row9 col9\" >1.000000</td>\n",
       "                        <td id=\"T_f33a231e_22ae_11eb_be7e_5254002dfb5arow9_col10\" class=\"data row9 col10\" >-0.158626</td>\n",
       "                        <td id=\"T_f33a231e_22ae_11eb_be7e_5254002dfb5arow9_col11\" class=\"data row9 col11\" >0.157839</td>\n",
       "                        <td id=\"T_f33a231e_22ae_11eb_be7e_5254002dfb5arow9_col12\" class=\"data row9 col12\" >-0.361902</td>\n",
       "                        <td id=\"T_f33a231e_22ae_11eb_be7e_5254002dfb5arow9_col13\" class=\"data row9 col13\" >0.385636</td>\n",
       "                        <td id=\"T_f33a231e_22ae_11eb_be7e_5254002dfb5arow9_col14\" class=\"data row9 col14\" >0.038974</td>\n",
       "                        <td id=\"T_f33a231e_22ae_11eb_be7e_5254002dfb5arow9_col15\" class=\"data row9 col15\" >0.024179</td>\n",
       "                        <td id=\"T_f33a231e_22ae_11eb_be7e_5254002dfb5arow9_col16\" class=\"data row9 col16\" >-0.258200</td>\n",
       "            </tr>\n",
       "            <tr>\n",
       "                        <th id=\"T_f33a231e_22ae_11eb_be7e_5254002dfb5alevel0_row10\" class=\"row_heading level0 row10\" >Stay_home_restrictions</th>\n",
       "                        <td id=\"T_f33a231e_22ae_11eb_be7e_5254002dfb5arow10_col0\" class=\"data row10 col0\" >-0.360881</td>\n",
       "                        <td id=\"T_f33a231e_22ae_11eb_be7e_5254002dfb5arow10_col1\" class=\"data row10 col1\" >-0.115031</td>\n",
       "                        <td id=\"T_f33a231e_22ae_11eb_be7e_5254002dfb5arow10_col2\" class=\"data row10 col2\" >-0.102777</td>\n",
       "                        <td id=\"T_f33a231e_22ae_11eb_be7e_5254002dfb5arow10_col3\" class=\"data row10 col3\" >-0.246323</td>\n",
       "                        <td id=\"T_f33a231e_22ae_11eb_be7e_5254002dfb5arow10_col4\" class=\"data row10 col4\" >0.223317</td>\n",
       "                        <td id=\"T_f33a231e_22ae_11eb_be7e_5254002dfb5arow10_col5\" class=\"data row10 col5\" >0.904270</td>\n",
       "                        <td id=\"T_f33a231e_22ae_11eb_be7e_5254002dfb5arow10_col6\" class=\"data row10 col6\" >0.902450</td>\n",
       "                        <td id=\"T_f33a231e_22ae_11eb_be7e_5254002dfb5arow10_col7\" class=\"data row10 col7\" >0.828715</td>\n",
       "                        <td id=\"T_f33a231e_22ae_11eb_be7e_5254002dfb5arow10_col8\" class=\"data row10 col8\" >0.776466</td>\n",
       "                        <td id=\"T_f33a231e_22ae_11eb_be7e_5254002dfb5arow10_col9\" class=\"data row10 col9\" >-0.158626</td>\n",
       "                        <td id=\"T_f33a231e_22ae_11eb_be7e_5254002dfb5arow10_col10\" class=\"data row10 col10\" >1.000000</td>\n",
       "                        <td id=\"T_f33a231e_22ae_11eb_be7e_5254002dfb5arow10_col11\" class=\"data row10 col11\" >0.136851</td>\n",
       "                        <td id=\"T_f33a231e_22ae_11eb_be7e_5254002dfb5arow10_col12\" class=\"data row10 col12\" >0.411078</td>\n",
       "                        <td id=\"T_f33a231e_22ae_11eb_be7e_5254002dfb5arow10_col13\" class=\"data row10 col13\" >0.599953</td>\n",
       "                        <td id=\"T_f33a231e_22ae_11eb_be7e_5254002dfb5arow10_col14\" class=\"data row10 col14\" >0.530465</td>\n",
       "                        <td id=\"T_f33a231e_22ae_11eb_be7e_5254002dfb5arow10_col15\" class=\"data row10 col15\" >0.589667</td>\n",
       "                        <td id=\"T_f33a231e_22ae_11eb_be7e_5254002dfb5arow10_col16\" class=\"data row10 col16\" >0.688060</td>\n",
       "            </tr>\n",
       "            <tr>\n",
       "                        <th id=\"T_f33a231e_22ae_11eb_be7e_5254002dfb5alevel0_row11\" class=\"row_heading level0 row11\" >Internal_movement_restrictions</th>\n",
       "                        <td id=\"T_f33a231e_22ae_11eb_be7e_5254002dfb5arow11_col0\" class=\"data row11 col0\" >-0.063705</td>\n",
       "                        <td id=\"T_f33a231e_22ae_11eb_be7e_5254002dfb5arow11_col1\" class=\"data row11 col1\" >0.018258</td>\n",
       "                        <td id=\"T_f33a231e_22ae_11eb_be7e_5254002dfb5arow11_col2\" class=\"data row11 col2\" >-0.000145</td>\n",
       "                        <td id=\"T_f33a231e_22ae_11eb_be7e_5254002dfb5arow11_col3\" class=\"data row11 col3\" >0.012828</td>\n",
       "                        <td id=\"T_f33a231e_22ae_11eb_be7e_5254002dfb5arow11_col4\" class=\"data row11 col4\" >0.167585</td>\n",
       "                        <td id=\"T_f33a231e_22ae_11eb_be7e_5254002dfb5arow11_col5\" class=\"data row11 col5\" >0.039545</td>\n",
       "                        <td id=\"T_f33a231e_22ae_11eb_be7e_5254002dfb5arow11_col6\" class=\"data row11 col6\" >-0.017161</td>\n",
       "                        <td id=\"T_f33a231e_22ae_11eb_be7e_5254002dfb5arow11_col7\" class=\"data row11 col7\" >0.072258</td>\n",
       "                        <td id=\"T_f33a231e_22ae_11eb_be7e_5254002dfb5arow11_col8\" class=\"data row11 col8\" >0.008636</td>\n",
       "                        <td id=\"T_f33a231e_22ae_11eb_be7e_5254002dfb5arow11_col9\" class=\"data row11 col9\" >0.157839</td>\n",
       "                        <td id=\"T_f33a231e_22ae_11eb_be7e_5254002dfb5arow11_col10\" class=\"data row11 col10\" >0.136851</td>\n",
       "                        <td id=\"T_f33a231e_22ae_11eb_be7e_5254002dfb5arow11_col11\" class=\"data row11 col11\" >1.000000</td>\n",
       "                        <td id=\"T_f33a231e_22ae_11eb_be7e_5254002dfb5arow11_col12\" class=\"data row11 col12\" >-0.000817</td>\n",
       "                        <td id=\"T_f33a231e_22ae_11eb_be7e_5254002dfb5arow11_col13\" class=\"data row11 col13\" >0.021944</td>\n",
       "                        <td id=\"T_f33a231e_22ae_11eb_be7e_5254002dfb5arow11_col14\" class=\"data row11 col14\" >-0.068430</td>\n",
       "                        <td id=\"T_f33a231e_22ae_11eb_be7e_5254002dfb5arow11_col15\" class=\"data row11 col15\" >-0.008170</td>\n",
       "                        <td id=\"T_f33a231e_22ae_11eb_be7e_5254002dfb5arow11_col16\" class=\"data row11 col16\" >0.136981</td>\n",
       "            </tr>\n",
       "            <tr>\n",
       "                        <th id=\"T_f33a231e_22ae_11eb_be7e_5254002dfb5alevel0_row12\" class=\"row_heading level0 row12\" >International_movement_restrictions</th>\n",
       "                        <td id=\"T_f33a231e_22ae_11eb_be7e_5254002dfb5arow12_col0\" class=\"data row12 col0\" >-0.198748</td>\n",
       "                        <td id=\"T_f33a231e_22ae_11eb_be7e_5254002dfb5arow12_col1\" class=\"data row12 col1\" >0.229992</td>\n",
       "                        <td id=\"T_f33a231e_22ae_11eb_be7e_5254002dfb5arow12_col2\" class=\"data row12 col2\" >0.235893</td>\n",
       "                        <td id=\"T_f33a231e_22ae_11eb_be7e_5254002dfb5arow12_col3\" class=\"data row12 col3\" >0.198596</td>\n",
       "                        <td id=\"T_f33a231e_22ae_11eb_be7e_5254002dfb5arow12_col4\" class=\"data row12 col4\" >0.189954</td>\n",
       "                        <td id=\"T_f33a231e_22ae_11eb_be7e_5254002dfb5arow12_col5\" class=\"data row12 col5\" >0.418783</td>\n",
       "                        <td id=\"T_f33a231e_22ae_11eb_be7e_5254002dfb5arow12_col6\" class=\"data row12 col6\" >0.368124</td>\n",
       "                        <td id=\"T_f33a231e_22ae_11eb_be7e_5254002dfb5arow12_col7\" class=\"data row12 col7\" >0.623545</td>\n",
       "                        <td id=\"T_f33a231e_22ae_11eb_be7e_5254002dfb5arow12_col8\" class=\"data row12 col8\" >0.505493</td>\n",
       "                        <td id=\"T_f33a231e_22ae_11eb_be7e_5254002dfb5arow12_col9\" class=\"data row12 col9\" >-0.361902</td>\n",
       "                        <td id=\"T_f33a231e_22ae_11eb_be7e_5254002dfb5arow12_col10\" class=\"data row12 col10\" >0.411078</td>\n",
       "                        <td id=\"T_f33a231e_22ae_11eb_be7e_5254002dfb5arow12_col11\" class=\"data row12 col11\" >-0.000817</td>\n",
       "                        <td id=\"T_f33a231e_22ae_11eb_be7e_5254002dfb5arow12_col12\" class=\"data row12 col12\" >1.000000</td>\n",
       "                        <td id=\"T_f33a231e_22ae_11eb_be7e_5254002dfb5arow12_col13\" class=\"data row12 col13\" >0.220126</td>\n",
       "                        <td id=\"T_f33a231e_22ae_11eb_be7e_5254002dfb5arow12_col14\" class=\"data row12 col14\" >-0.106116</td>\n",
       "                        <td id=\"T_f33a231e_22ae_11eb_be7e_5254002dfb5arow12_col15\" class=\"data row12 col15\" >0.007612</td>\n",
       "                        <td id=\"T_f33a231e_22ae_11eb_be7e_5254002dfb5arow12_col16\" class=\"data row12 col16\" >0.720535</td>\n",
       "            </tr>\n",
       "            <tr>\n",
       "                        <th id=\"T_f33a231e_22ae_11eb_be7e_5254002dfb5alevel0_row13\" class=\"row_heading level0 row13\" >Information_campaigns</th>\n",
       "                        <td id=\"T_f33a231e_22ae_11eb_be7e_5254002dfb5arow13_col0\" class=\"data row13 col0\" >-0.017813</td>\n",
       "                        <td id=\"T_f33a231e_22ae_11eb_be7e_5254002dfb5arow13_col1\" class=\"data row13 col1\" >-0.475165</td>\n",
       "                        <td id=\"T_f33a231e_22ae_11eb_be7e_5254002dfb5arow13_col2\" class=\"data row13 col2\" >-0.482033</td>\n",
       "                        <td id=\"T_f33a231e_22ae_11eb_be7e_5254002dfb5arow13_col3\" class=\"data row13 col3\" >-0.547770</td>\n",
       "                        <td id=\"T_f33a231e_22ae_11eb_be7e_5254002dfb5arow13_col4\" class=\"data row13 col4\" >-0.100923</td>\n",
       "                        <td id=\"T_f33a231e_22ae_11eb_be7e_5254002dfb5arow13_col5\" class=\"data row13 col5\" >0.697209</td>\n",
       "                        <td id=\"T_f33a231e_22ae_11eb_be7e_5254002dfb5arow13_col6\" class=\"data row13 col6\" >0.721469</td>\n",
       "                        <td id=\"T_f33a231e_22ae_11eb_be7e_5254002dfb5arow13_col7\" class=\"data row13 col7\" >0.637387</td>\n",
       "                        <td id=\"T_f33a231e_22ae_11eb_be7e_5254002dfb5arow13_col8\" class=\"data row13 col8\" >0.560741</td>\n",
       "                        <td id=\"T_f33a231e_22ae_11eb_be7e_5254002dfb5arow13_col9\" class=\"data row13 col9\" >0.385636</td>\n",
       "                        <td id=\"T_f33a231e_22ae_11eb_be7e_5254002dfb5arow13_col10\" class=\"data row13 col10\" >0.599953</td>\n",
       "                        <td id=\"T_f33a231e_22ae_11eb_be7e_5254002dfb5arow13_col11\" class=\"data row13 col11\" >0.021944</td>\n",
       "                        <td id=\"T_f33a231e_22ae_11eb_be7e_5254002dfb5arow13_col12\" class=\"data row13 col12\" >0.220126</td>\n",
       "                        <td id=\"T_f33a231e_22ae_11eb_be7e_5254002dfb5arow13_col13\" class=\"data row13 col13\" >1.000000</td>\n",
       "                        <td id=\"T_f33a231e_22ae_11eb_be7e_5254002dfb5arow13_col14\" class=\"data row13 col14\" >0.444619</td>\n",
       "                        <td id=\"T_f33a231e_22ae_11eb_be7e_5254002dfb5arow13_col15\" class=\"data row13 col15\" >0.542970</td>\n",
       "                        <td id=\"T_f33a231e_22ae_11eb_be7e_5254002dfb5arow13_col16\" class=\"data row13 col16\" >0.595549</td>\n",
       "            </tr>\n",
       "            <tr>\n",
       "                        <th id=\"T_f33a231e_22ae_11eb_be7e_5254002dfb5alevel0_row14\" class=\"row_heading level0 row14\" >Testing_policy</th>\n",
       "                        <td id=\"T_f33a231e_22ae_11eb_be7e_5254002dfb5arow14_col0\" class=\"data row14 col0\" >-0.173040</td>\n",
       "                        <td id=\"T_f33a231e_22ae_11eb_be7e_5254002dfb5arow14_col1\" class=\"data row14 col1\" >-0.239298</td>\n",
       "                        <td id=\"T_f33a231e_22ae_11eb_be7e_5254002dfb5arow14_col2\" class=\"data row14 col2\" >-0.236825</td>\n",
       "                        <td id=\"T_f33a231e_22ae_11eb_be7e_5254002dfb5arow14_col3\" class=\"data row14 col3\" >-0.491965</td>\n",
       "                        <td id=\"T_f33a231e_22ae_11eb_be7e_5254002dfb5arow14_col4\" class=\"data row14 col4\" >0.162227</td>\n",
       "                        <td id=\"T_f33a231e_22ae_11eb_be7e_5254002dfb5arow14_col5\" class=\"data row14 col5\" >0.496527</td>\n",
       "                        <td id=\"T_f33a231e_22ae_11eb_be7e_5254002dfb5arow14_col6\" class=\"data row14 col6\" >0.571060</td>\n",
       "                        <td id=\"T_f33a231e_22ae_11eb_be7e_5254002dfb5arow14_col7\" class=\"data row14 col7\" >0.264893</td>\n",
       "                        <td id=\"T_f33a231e_22ae_11eb_be7e_5254002dfb5arow14_col8\" class=\"data row14 col8\" >0.255211</td>\n",
       "                        <td id=\"T_f33a231e_22ae_11eb_be7e_5254002dfb5arow14_col9\" class=\"data row14 col9\" >0.038974</td>\n",
       "                        <td id=\"T_f33a231e_22ae_11eb_be7e_5254002dfb5arow14_col10\" class=\"data row14 col10\" >0.530465</td>\n",
       "                        <td id=\"T_f33a231e_22ae_11eb_be7e_5254002dfb5arow14_col11\" class=\"data row14 col11\" >-0.068430</td>\n",
       "                        <td id=\"T_f33a231e_22ae_11eb_be7e_5254002dfb5arow14_col12\" class=\"data row14 col12\" >-0.106116</td>\n",
       "                        <td id=\"T_f33a231e_22ae_11eb_be7e_5254002dfb5arow14_col13\" class=\"data row14 col13\" >0.444619</td>\n",
       "                        <td id=\"T_f33a231e_22ae_11eb_be7e_5254002dfb5arow14_col14\" class=\"data row14 col14\" >1.000000</td>\n",
       "                        <td id=\"T_f33a231e_22ae_11eb_be7e_5254002dfb5arow14_col15\" class=\"data row14 col15\" >0.737416</td>\n",
       "                        <td id=\"T_f33a231e_22ae_11eb_be7e_5254002dfb5arow14_col16\" class=\"data row14 col16\" >0.129432</td>\n",
       "            </tr>\n",
       "            <tr>\n",
       "                        <th id=\"T_f33a231e_22ae_11eb_be7e_5254002dfb5alevel0_row15\" class=\"row_heading level0 row15\" >Contact_tracing</th>\n",
       "                        <td id=\"T_f33a231e_22ae_11eb_be7e_5254002dfb5arow15_col0\" class=\"data row15 col0\" >-0.290368</td>\n",
       "                        <td id=\"T_f33a231e_22ae_11eb_be7e_5254002dfb5arow15_col1\" class=\"data row15 col1\" >-0.111221</td>\n",
       "                        <td id=\"T_f33a231e_22ae_11eb_be7e_5254002dfb5arow15_col2\" class=\"data row15 col2\" >-0.110555</td>\n",
       "                        <td id=\"T_f33a231e_22ae_11eb_be7e_5254002dfb5arow15_col3\" class=\"data row15 col3\" >-0.429951</td>\n",
       "                        <td id=\"T_f33a231e_22ae_11eb_be7e_5254002dfb5arow15_col4\" class=\"data row15 col4\" >0.195805</td>\n",
       "                        <td id=\"T_f33a231e_22ae_11eb_be7e_5254002dfb5arow15_col5\" class=\"data row15 col5\" >0.622871</td>\n",
       "                        <td id=\"T_f33a231e_22ae_11eb_be7e_5254002dfb5arow15_col6\" class=\"data row15 col6\" >0.676614</td>\n",
       "                        <td id=\"T_f33a231e_22ae_11eb_be7e_5254002dfb5arow15_col7\" class=\"data row15 col7\" >0.382617</td>\n",
       "                        <td id=\"T_f33a231e_22ae_11eb_be7e_5254002dfb5arow15_col8\" class=\"data row15 col8\" >0.285219</td>\n",
       "                        <td id=\"T_f33a231e_22ae_11eb_be7e_5254002dfb5arow15_col9\" class=\"data row15 col9\" >0.024179</td>\n",
       "                        <td id=\"T_f33a231e_22ae_11eb_be7e_5254002dfb5arow15_col10\" class=\"data row15 col10\" >0.589667</td>\n",
       "                        <td id=\"T_f33a231e_22ae_11eb_be7e_5254002dfb5arow15_col11\" class=\"data row15 col11\" >-0.008170</td>\n",
       "                        <td id=\"T_f33a231e_22ae_11eb_be7e_5254002dfb5arow15_col12\" class=\"data row15 col12\" >0.007612</td>\n",
       "                        <td id=\"T_f33a231e_22ae_11eb_be7e_5254002dfb5arow15_col13\" class=\"data row15 col13\" >0.542970</td>\n",
       "                        <td id=\"T_f33a231e_22ae_11eb_be7e_5254002dfb5arow15_col14\" class=\"data row15 col14\" >0.737416</td>\n",
       "                        <td id=\"T_f33a231e_22ae_11eb_be7e_5254002dfb5arow15_col15\" class=\"data row15 col15\" >1.000000</td>\n",
       "                        <td id=\"T_f33a231e_22ae_11eb_be7e_5254002dfb5arow15_col16\" class=\"data row15 col16\" >0.411787</td>\n",
       "            </tr>\n",
       "            <tr>\n",
       "                        <th id=\"T_f33a231e_22ae_11eb_be7e_5254002dfb5alevel0_row16\" class=\"row_heading level0 row16\" >Stringency_index</th>\n",
       "                        <td id=\"T_f33a231e_22ae_11eb_be7e_5254002dfb5arow16_col0\" class=\"data row16 col0\" >-0.288080</td>\n",
       "                        <td id=\"T_f33a231e_22ae_11eb_be7e_5254002dfb5arow16_col1\" class=\"data row16 col1\" >0.048509</td>\n",
       "                        <td id=\"T_f33a231e_22ae_11eb_be7e_5254002dfb5arow16_col2\" class=\"data row16 col2\" >0.046887</td>\n",
       "                        <td id=\"T_f33a231e_22ae_11eb_be7e_5254002dfb5arow16_col3\" class=\"data row16 col3\" >-0.037480</td>\n",
       "                        <td id=\"T_f33a231e_22ae_11eb_be7e_5254002dfb5arow16_col4\" class=\"data row16 col4\" >0.198453</td>\n",
       "                        <td id=\"T_f33a231e_22ae_11eb_be7e_5254002dfb5arow16_col5\" class=\"data row16 col5\" >0.751090</td>\n",
       "                        <td id=\"T_f33a231e_22ae_11eb_be7e_5254002dfb5arow16_col6\" class=\"data row16 col6\" >0.719493</td>\n",
       "                        <td id=\"T_f33a231e_22ae_11eb_be7e_5254002dfb5arow16_col7\" class=\"data row16 col7\" >0.781714</td>\n",
       "                        <td id=\"T_f33a231e_22ae_11eb_be7e_5254002dfb5arow16_col8\" class=\"data row16 col8\" >0.662462</td>\n",
       "                        <td id=\"T_f33a231e_22ae_11eb_be7e_5254002dfb5arow16_col9\" class=\"data row16 col9\" >-0.258200</td>\n",
       "                        <td id=\"T_f33a231e_22ae_11eb_be7e_5254002dfb5arow16_col10\" class=\"data row16 col10\" >0.688060</td>\n",
       "                        <td id=\"T_f33a231e_22ae_11eb_be7e_5254002dfb5arow16_col11\" class=\"data row16 col11\" >0.136981</td>\n",
       "                        <td id=\"T_f33a231e_22ae_11eb_be7e_5254002dfb5arow16_col12\" class=\"data row16 col12\" >0.720535</td>\n",
       "                        <td id=\"T_f33a231e_22ae_11eb_be7e_5254002dfb5arow16_col13\" class=\"data row16 col13\" >0.595549</td>\n",
       "                        <td id=\"T_f33a231e_22ae_11eb_be7e_5254002dfb5arow16_col14\" class=\"data row16 col14\" >0.129432</td>\n",
       "                        <td id=\"T_f33a231e_22ae_11eb_be7e_5254002dfb5arow16_col15\" class=\"data row16 col15\" >0.411787</td>\n",
       "                        <td id=\"T_f33a231e_22ae_11eb_be7e_5254002dfb5arow16_col16\" class=\"data row16 col16\" >1.000000</td>\n",
       "            </tr>\n",
       "    </tbody></table>"
      ],
      "text/plain": [
       "<pandas.io.formats.style.Styler at 0x7f72f970cac0>"
      ]
     },
     "execution_count": 21,
     "metadata": {},
     "output_type": "execute_result"
    }
   ],
   "source": [
    "# Correlation\n",
    "df = track_df.copy()\n",
    "df.corr().style.background_gradient(axis=None)"
   ]
  },
  {
   "cell_type": "code",
   "execution_count": 22,
   "metadata": {
    "collapsed": false
   },
   "outputs": [
    {
     "data": {
      "image/png": "[encoded data removed]",
      "text/plain": [
       "<Figure size 432x288 with 1 Axes>"
      ]
     },
     "metadata": {},
     "output_type": "display_data"
    }
   ],
   "source": [
    "# Scatter plot of Stringency index and Rt\n",
    "df = track_df.copy()\n",
    "sns.scatterplot(data=df, x=\"Stringency_index\", y=\"Rt\", hue=\"Country\", legend=\"brief\", marker=\"+\")\n",
    "bbox_to_anchor=(1.02, 0)\n",
    "bbox_loc=\"lower left\"\n",
    "plt.legend(bbox_to_anchor=bbox_to_anchor, loc=bbox_loc, borderaxespad=0)\n",
    "plt.title(\"Relationship of Stringency index and reproduction number\")\n",
    "plt.ylabel(\"Reproduction number\")\n",
    "plt.xlabel(\"Stringency index\")\n",
    "plt.show()"
   ]
  }
 ],
 "metadata": {
  "kernelspec": {
   "display_name": "Python 3.8.2 64-bit ('.venv': venv)",
   "name": "python_defaultSpec_1597669925034"
  },
  "language_info": {
   "codemirror_mode": {
    "name": "ipython",
    "version": 3
   },
   "file_extension": ".py",
   "mimetype": "text/x-python",
   "name": "python",
   "nbconvert_exporter": "python",
   "pygments_lexer": "ipython3",
   "version": "3.8.2-final"
  }
 },
 "nbformat": 4,
 "nbformat_minor": 4
}
