{
 "cells": [
  {
   "cell_type": "markdown",
   "metadata": {},
   "source": [
    "# Usage (details: policy measures)\n",
    "Here, we will analyse the relationship of policy measures and parameter values of SIR-derived ODE models. Policy measures are tracked by [Oxford Covid-19 Government Response Tracker (OxCGRT)](https://github.com/OxCGRT/covid-policy-tracker)."
   ]
  },
  {
   "cell_type": "markdown",
   "metadata": {},
   "source": [
    "## Preparation"
   ]
  },
  {
   "cell_type": "code",
   "execution_count": 1,
   "metadata": {
    "collapsed": false
   },
   "outputs": [],
   "source": [
    "# Standard users\n",
    "# !pip install covsirphy\n",
    "# Developers (Note: this notebook is in example directory)\n",
    "import os\n",
    "os.chdir(\"../\")"
   ]
  },
  {
   "cell_type": "code",
   "execution_count": 2,
   "metadata": {
    "collapsed": false
   },
   "outputs": [],
   "source": [
    "from pprint import pprint"
   ]
  },
  {
   "cell_type": "code",
   "execution_count": 3,
   "metadata": {
    "collapsed": false
   },
   "outputs": [
    {
     "data": {
      "text/plain": [
       "'2.8.3-alpha.new.224'"
      ]
     },
     "execution_count": 3,
     "metadata": {},
     "output_type": "execute_result"
    }
   ],
   "source": [
    "import covsirphy as cs\n",
    "cs.__version__"
   ]
  },
  {
   "cell_type": "code",
   "execution_count": 4,
   "metadata": {
    "collapsed": false,
    "tags": []
   },
   "outputs": [
    {
     "name": "stdout",
     "output_type": "stream",
     "text": [
      "(Secondary source) Guidotti, E., Ardia, D., (2020), \"COVID-19 Data Hub\", Journal of Open Source Software 5(51):2376, doi: 10.21105/joss.02376.\n",
      "We can get Citation list of primary sources with DataLoader(...).covid19dh_citation"
     ]
    },
    {
     "name": "stdout",
     "output_type": "stream",
     "text": [
      "\n"
     ]
    }
   ],
   "source": [
    "# Standard users and developers\n",
    "data_loader = cs.DataLoader(\"input\")\n",
    "# The number of cases (JHU style)\n",
    "jhu_data = data_loader.jhu(verbose=False)\n",
    "# Population in each country\n",
    "population_data = data_loader.population(verbose=False)\n",
    "# Government Response Tracker (OxCGRT)\n",
    "oxcgrt_data = data_loader.oxcgrt(verbose=False)\n",
    "# Description/citation\n",
    "print(oxcgrt_data.citation)"
   ]
  },
  {
   "cell_type": "markdown",
   "metadata": {},
   "source": [
    "## Class for policy measure analysis\n",
    "We will `PolicyMeasures` class to find relationship of policy measures and parameter values of SIR-derived ODE models."
   ]
  },
  {
   "cell_type": "code",
   "execution_count": 5,
   "metadata": {
    "collapsed": false,
    "tags": []
   },
   "outputs": [
    {
     "data": {
      "text/plain": [
       "184"
      ]
     },
     "execution_count": 5,
     "metadata": {},
     "output_type": "execute_result"
    }
   ],
   "source": [
    "# Create analyser with tau value 360 [min] (can be changed)\n",
    "analyser = cs.PolicyMeasures(jhu_data, population_data, oxcgrt_data, tau=360)\n",
    "# The number of registerd countries\n",
    "len(analyser.countries)"
   ]
  },
  {
   "cell_type": "code",
   "execution_count": 6,
   "metadata": {
    "collapsed": false
   },
   "outputs": [
    {
     "data": {
      "text/plain": [
       "covsirphy.analysis.scenario.Scenario"
      ]
     },
     "execution_count": 6,
     "metadata": {},
     "output_type": "execute_result"
    }
   ],
   "source": [
    "# We can get Scenario instance for detailed scenario analysis\n",
    "type(analyser.scenario(\"Japan\"))"
   ]
  },
  {
   "cell_type": "markdown",
   "metadata": {},
   "source": [
    "## Set phases with S-R trend analysis\n",
    "We will perform S-R trend analysis to set phases in all countries. Countries which do not have **12th phases** will be un-registered for the next analysis. This number will be adjusted for your analysis."
   ]
  },
  {
   "cell_type": "code",
   "execution_count": 7,
   "metadata": {
    "collapsed": false
   },
   "outputs": [
    {
     "name": "stdout",
     "output_type": "stream",
     "text": [
      "{"
     ]
    },
    {
     "name": "stdout",
     "output_type": "stream",
     "text": [
      "2"
     ]
    },
    {
     "name": "stdout",
     "output_type": "stream",
     "text": [
      ": "
     ]
    },
    {
     "name": "stdout",
     "output_type": "stream",
     "text": [
      "['Holy See']"
     ]
    },
    {
     "name": "stdout",
     "output_type": "stream",
     "text": [
      ",\n",
      " "
     ]
    },
    {
     "name": "stdout",
     "output_type": "stream",
     "text": [
      "4"
     ]
    },
    {
     "name": "stdout",
     "output_type": "stream",
     "text": [
      ": "
     ]
    },
    {
     "name": "stdout",
     "output_type": "stream",
     "text": [
      "['Tanzania', 'Myanmar']"
     ]
    },
    {
     "name": "stdout",
     "output_type": "stream",
     "text": [
      ",\n",
      " "
     ]
    },
    {
     "name": "stdout",
     "output_type": "stream",
     "text": [
      "5"
     ]
    },
    {
     "name": "stdout",
     "output_type": "stream",
     "text": [
      ": "
     ]
    },
    {
     "name": "stdout",
     "output_type": "stream",
     "text": [
      "["
     ]
    },
    {
     "name": "stdout",
     "output_type": "stream",
     "text": [
      "'Brunei'"
     ]
    },
    {
     "name": "stdout",
     "output_type": "stream",
     "text": [
      ", "
     ]
    },
    {
     "name": "stdout",
     "output_type": "stream",
     "text": [
      "'Fiji'"
     ]
    },
    {
     "name": "stdout",
     "output_type": "stream",
     "text": [
      ", "
     ]
    },
    {
     "name": "stdout",
     "output_type": "stream",
     "text": [
      "'Tunisia'"
     ]
    },
    {
     "name": "stdout",
     "output_type": "stream",
     "text": [
      ", "
     ]
    },
    {
     "name": "stdout",
     "output_type": "stream",
     "text": [
      "'Georgia'"
     ]
    },
    {
     "name": "stdout",
     "output_type": "stream",
     "text": [
      ", "
     ]
    },
    {
     "name": "stdout",
     "output_type": "stream",
     "text": [
      "'Jordan'"
     ]
    },
    {
     "name": "stdout",
     "output_type": "stream",
     "text": [
      ", "
     ]
    },
    {
     "name": "stdout",
     "output_type": "stream",
     "text": [
      "'Hungary'"
     ]
    },
    {
     "name": "stdout",
     "output_type": "stream",
     "text": [
      ",\n",
      "     "
     ]
    },
    {
     "name": "stdout",
     "output_type": "stream",
     "text": [
      "'Papua New Guinea'"
     ]
    },
    {
     "name": "stdout",
     "output_type": "stream",
     "text": [
      ", "
     ]
    },
    {
     "name": "stdout",
     "output_type": "stream",
     "text": [
      "'Grenada'"
     ]
    },
    {
     "name": "stdout",
     "output_type": "stream",
     "text": [
      "]"
     ]
    },
    {
     "name": "stdout",
     "output_type": "stream",
     "text": [
      ",\n",
      " "
     ]
    },
    {
     "name": "stdout",
     "output_type": "stream",
     "text": [
      "6"
     ]
    },
    {
     "name": "stdout",
     "output_type": "stream",
     "text": [
      ": "
     ]
    },
    {
     "name": "stdout",
     "output_type": "stream",
     "text": [
      "["
     ]
    },
    {
     "name": "stdout",
     "output_type": "stream",
     "text": [
      "'Cambodia'"
     ]
    },
    {
     "name": "stdout",
     "output_type": "stream",
     "text": [
      ", "
     ]
    },
    {
     "name": "stdout",
     "output_type": "stream",
     "text": [
      "'Libya'"
     ]
    },
    {
     "name": "stdout",
     "output_type": "stream",
     "text": [
      ", "
     ]
    },
    {
     "name": "stdout",
     "output_type": "stream",
     "text": [
      "'Yemen'"
     ]
    },
    {
     "name": "stdout",
     "output_type": "stream",
     "text": [
      ", "
     ]
    },
    {
     "name": "stdout",
     "output_type": "stream",
     "text": [
      "'Equatorial Guinea'"
     ]
    },
    {
     "name": "stdout",
     "output_type": "stream",
     "text": [
      ", "
     ]
    },
    {
     "name": "stdout",
     "output_type": "stream",
     "text": [
      "'Slovakia'"
     ]
    },
    {
     "name": "stdout",
     "output_type": "stream",
     "text": [
      ", "
     ]
    },
    {
     "name": "stdout",
     "output_type": "stream",
     "text": [
      "'Slovenia'"
     ]
    },
    {
     "name": "stdout",
     "output_type": "stream",
     "text": [
      ",\n",
      "     "
     ]
    },
    {
     "name": "stdout",
     "output_type": "stream",
     "text": [
      "'Mauritius'"
     ]
    },
    {
     "name": "stdout",
     "output_type": "stream",
     "text": [
      ", "
     ]
    },
    {
     "name": "stdout",
     "output_type": "stream",
     "text": [
      "'Uganda'"
     ]
    },
    {
     "name": "stdout",
     "output_type": "stream",
     "text": [
      ", "
     ]
    },
    {
     "name": "stdout",
     "output_type": "stream",
     "text": [
      "'Ireland'"
     ]
    },
    {
     "name": "stdout",
     "output_type": "stream",
     "text": [
      ", "
     ]
    },
    {
     "name": "stdout",
     "output_type": "stream",
     "text": [
      "'Dominica'"
     ]
    },
    {
     "name": "stdout",
     "output_type": "stream",
     "text": [
      ", "
     ]
    },
    {
     "name": "stdout",
     "output_type": "stream",
     "text": [
      "'Seychelles'"
     ]
    },
    {
     "name": "stdout",
     "output_type": "stream",
     "text": [
      ", "
     ]
    },
    {
     "name": "stdout",
     "output_type": "stream",
     "text": [
      "'Belize'"
     ]
    },
    {
     "name": "stdout",
     "output_type": "stream",
     "text": [
      ",\n",
      "     "
     ]
    },
    {
     "name": "stdout",
     "output_type": "stream",
     "text": [
      "'Jamaica'"
     ]
    },
    {
     "name": "stdout",
     "output_type": "stream",
     "text": [
      ", "
     ]
    },
    {
     "name": "stdout",
     "output_type": "stream",
     "text": [
      "'Antigua and Barbuda'"
     ]
    },
    {
     "name": "stdout",
     "output_type": "stream",
     "text": [
      "]"
     ]
    },
    {
     "name": "stdout",
     "output_type": "stream",
     "text": [
      ",\n",
      " "
     ]
    },
    {
     "name": "stdout",
     "output_type": "stream",
     "text": [
      "7"
     ]
    },
    {
     "name": "stdout",
     "output_type": "stream",
     "text": [
      ": "
     ]
    },
    {
     "name": "stdout",
     "output_type": "stream",
     "text": [
      "["
     ]
    },
    {
     "name": "stdout",
     "output_type": "stream",
     "text": [
      "'Montenegro'"
     ]
    },
    {
     "name": "stdout",
     "output_type": "stream",
     "text": [
      ", "
     ]
    },
    {
     "name": "stdout",
     "output_type": "stream",
     "text": [
      "'Australia'"
     ]
    },
    {
     "name": "stdout",
     "output_type": "stream",
     "text": [
      ", "
     ]
    },
    {
     "name": "stdout",
     "output_type": "stream",
     "text": [
      "'Vietnam'"
     ]
    },
    {
     "name": "stdout",
     "output_type": "stream",
     "text": [
      ", "
     ]
    },
    {
     "name": "stdout",
     "output_type": "stream",
     "text": [
      "'Netherlands'"
     ]
    },
    {
     "name": "stdout",
     "output_type": "stream",
     "text": [
      ", "
     ]
    },
    {
     "name": "stdout",
     "output_type": "stream",
     "text": [
      "'Lebanon'"
     ]
    },
    {
     "name": "stdout",
     "output_type": "stream",
     "text": [
      ", "
     ]
    },
    {
     "name": "stdout",
     "output_type": "stream",
     "text": [
      "'Lesotho'"
     ]
    },
    {
     "name": "stdout",
     "output_type": "stream",
     "text": [
      ",\n",
      "     "
     ]
    },
    {
     "name": "stdout",
     "output_type": "stream",
     "text": [
      "'Gambia'"
     ]
    },
    {
     "name": "stdout",
     "output_type": "stream",
     "text": [
      ", "
     ]
    },
    {
     "name": "stdout",
     "output_type": "stream",
     "text": [
      "'Andorra'"
     ]
    },
    {
     "name": "stdout",
     "output_type": "stream",
     "text": [
      ", "
     ]
    },
    {
     "name": "stdout",
     "output_type": "stream",
     "text": [
      "'Colombia'"
     ]
    },
    {
     "name": "stdout",
     "output_type": "stream",
     "text": [
      ", "
     ]
    },
    {
     "name": "stdout",
     "output_type": "stream",
     "text": [
      "'San Marino'"
     ]
    },
    {
     "name": "stdout",
     "output_type": "stream",
     "text": [
      ", "
     ]
    },
    {
     "name": "stdout",
     "output_type": "stream",
     "text": [
      "'New Zealand'"
     ]
    },
    {
     "name": "stdout",
     "output_type": "stream",
     "text": [
      ", "
     ]
    },
    {
     "name": "stdout",
     "output_type": "stream",
     "text": [
      "'Cyprus'"
     ]
    },
    {
     "name": "stdout",
     "output_type": "stream",
     "text": [
      ",\n",
      "     "
     ]
    },
    {
     "name": "stdout",
     "output_type": "stream",
     "text": [
      "'Central African Republic'"
     ]
    },
    {
     "name": "stdout",
     "output_type": "stream",
     "text": [
      ", "
     ]
    },
    {
     "name": "stdout",
     "output_type": "stream",
     "text": [
      "'Zimbabwe'"
     ]
    },
    {
     "name": "stdout",
     "output_type": "stream",
     "text": [
      ", "
     ]
    },
    {
     "name": "stdout",
     "output_type": "stream",
     "text": [
      "'South Sudan'"
     ]
    },
    {
     "name": "stdout",
     "output_type": "stream",
     "text": [
      ", "
     ]
    },
    {
     "name": "stdout",
     "output_type": "stream",
     "text": [
      "'Liechtenstein'"
     ]
    },
    {
     "name": "stdout",
     "output_type": "stream",
     "text": [
      ",\n",
      "     "
     ]
    },
    {
     "name": "stdout",
     "output_type": "stream",
     "text": [
      "'Trinidad and Tobago'"
     ]
    },
    {
     "name": "stdout",
     "output_type": "stream",
     "text": [
      ", "
     ]
    },
    {
     "name": "stdout",
     "output_type": "stream",
     "text": [
      "'Namibia'"
     ]
    },
    {
     "name": "stdout",
     "output_type": "stream",
     "text": [
      ", "
     ]
    },
    {
     "name": "stdout",
     "output_type": "stream",
     "text": [
      "'Afghanistan'"
     ]
    },
    {
     "name": "stdout",
     "output_type": "stream",
     "text": [
      ", "
     ]
    },
    {
     "name": "stdout",
     "output_type": "stream",
     "text": [
      "'Kyrgyzstan'"
     ]
    },
    {
     "name": "stdout",
     "output_type": "stream",
     "text": [
      ", "
     ]
    },
    {
     "name": "stdout",
     "output_type": "stream",
     "text": [
      "'Guyana'"
     ]
    },
    {
     "name": "stdout",
     "output_type": "stream",
     "text": [
      ",\n",
      "     "
     ]
    },
    {
     "name": "stdout",
     "output_type": "stream",
     "text": [
      "'Czech Republic'"
     ]
    },
    {
     "name": "stdout",
     "output_type": "stream",
     "text": [
      ", "
     ]
    },
    {
     "name": "stdout",
     "output_type": "stream",
     "text": [
      "'Saint Vincent and the Grenadines'"
     ]
    },
    {
     "name": "stdout",
     "output_type": "stream",
     "text": [
      ", "
     ]
    },
    {
     "name": "stdout",
     "output_type": "stream",
     "text": [
      "'Botswana'"
     ]
    },
    {
     "name": "stdout",
     "output_type": "stream",
     "text": [
      ", "
     ]
    },
    {
     "name": "stdout",
     "output_type": "stream",
     "text": [
      "'Spain'"
     ]
    },
    {
     "name": "stdout",
     "output_type": "stream",
     "text": [
      ",\n",
      "     "
     ]
    },
    {
     "name": "stdout",
     "output_type": "stream",
     "text": [
      "'Paraguay'"
     ]
    },
    {
     "name": "stdout",
     "output_type": "stream",
     "text": [
      ", "
     ]
    },
    {
     "name": "stdout",
     "output_type": "stream",
     "text": [
      "'Kazakhstan'"
     ]
    },
    {
     "name": "stdout",
     "output_type": "stream",
     "text": [
      ", "
     ]
    },
    {
     "name": "stdout",
     "output_type": "stream",
     "text": [
      "'Mozambique'"
     ]
    },
    {
     "name": "stdout",
     "output_type": "stream",
     "text": [
      ", "
     ]
    },
    {
     "name": "stdout",
     "output_type": "stream",
     "text": [
      "'Nepal'"
     ]
    },
    {
     "name": "stdout",
     "output_type": "stream",
     "text": [
      ", "
     ]
    },
    {
     "name": "stdout",
     "output_type": "stream",
     "text": [
      "'Comoros'"
     ]
    },
    {
     "name": "stdout",
     "output_type": "stream",
     "text": [
      ",\n",
      "     "
     ]
    },
    {
     "name": "stdout",
     "output_type": "stream",
     "text": [
      "'Sao Tome and Principe'"
     ]
    },
    {
     "name": "stdout",
     "output_type": "stream",
     "text": [
      ", "
     ]
    },
    {
     "name": "stdout",
     "output_type": "stream",
     "text": [
      "'Bahamas'"
     ]
    },
    {
     "name": "stdout",
     "output_type": "stream",
     "text": [
      ", "
     ]
    },
    {
     "name": "stdout",
     "output_type": "stream",
     "text": [
      "'Monaco'"
     ]
    },
    {
     "name": "stdout",
     "output_type": "stream",
     "text": [
      ", "
     ]
    },
    {
     "name": "stdout",
     "output_type": "stream",
     "text": [
      "'Malawi'"
     ]
    },
    {
     "name": "stdout",
     "output_type": "stream",
     "text": [
      "]"
     ]
    },
    {
     "name": "stdout",
     "output_type": "stream",
     "text": [
      ",\n",
      " "
     ]
    },
    {
     "name": "stdout",
     "output_type": "stream",
     "text": [
      "8"
     ]
    },
    {
     "name": "stdout",
     "output_type": "stream",
     "text": [
      ": "
     ]
    },
    {
     "name": "stdout",
     "output_type": "stream",
     "text": [
      "["
     ]
    },
    {
     "name": "stdout",
     "output_type": "stream",
     "text": [
      "'Angola'"
     ]
    },
    {
     "name": "stdout",
     "output_type": "stream",
     "text": [
      ", "
     ]
    },
    {
     "name": "stdout",
     "output_type": "stream",
     "text": [
      "'Madagascar'"
     ]
    },
    {
     "name": "stdout",
     "output_type": "stream",
     "text": [
      ", "
     ]
    },
    {
     "name": "stdout",
     "output_type": "stream",
     "text": [
      "'Djibouti'"
     ]
    },
    {
     "name": "stdout",
     "output_type": "stream",
     "text": [
      ", "
     ]
    },
    {
     "name": "stdout",
     "output_type": "stream",
     "text": [
      "'Croatia'"
     ]
    },
    {
     "name": "stdout",
     "output_type": "stream",
     "text": [
      ", "
     ]
    },
    {
     "name": "stdout",
     "output_type": "stream",
     "text": [
      "'Argentina'"
     ]
    },
    {
     "name": "stdout",
     "output_type": "stream",
     "text": [
      ", "
     ]
    },
    {
     "name": "stdout",
     "output_type": "stream",
     "text": [
      "'Costa Rica'"
     ]
    },
    {
     "name": "stdout",
     "output_type": "stream",
     "text": [
      ",\n",
      "     "
     ]
    },
    {
     "name": "stdout",
     "output_type": "stream",
     "text": [
      "'Austria'"
     ]
    },
    {
     "name": "stdout",
     "output_type": "stream",
     "text": [
      ", "
     ]
    },
    {
     "name": "stdout",
     "output_type": "stream",
     "text": [
      "'Rwanda'"
     ]
    },
    {
     "name": "stdout",
     "output_type": "stream",
     "text": [
      ", "
     ]
    },
    {
     "name": "stdout",
     "output_type": "stream",
     "text": [
      "'Lithuania'"
     ]
    },
    {
     "name": "stdout",
     "output_type": "stream",
     "text": [
      ", "
     ]
    },
    {
     "name": "stdout",
     "output_type": "stream",
     "text": [
      "'Thailand'"
     ]
    },
    {
     "name": "stdout",
     "output_type": "stream",
     "text": [
      ", "
     ]
    },
    {
     "name": "stdout",
     "output_type": "stream",
     "text": [
      "'Niger'"
     ]
    },
    {
     "name": "stdout",
     "output_type": "stream",
     "text": [
      ", "
     ]
    },
    {
     "name": "stdout",
     "output_type": "stream",
     "text": [
      "'Kenya'"
     ]
    },
    {
     "name": "stdout",
     "output_type": "stream",
     "text": [
      ",\n",
      "     "
     ]
    },
    {
     "name": "stdout",
     "output_type": "stream",
     "text": [
      "'Guinea-Bissau'"
     ]
    },
    {
     "name": "stdout",
     "output_type": "stream",
     "text": [
      ", "
     ]
    },
    {
     "name": "stdout",
     "output_type": "stream",
     "text": [
      "'Sri Lanka'"
     ]
    },
    {
     "name": "stdout",
     "output_type": "stream",
     "text": [
      ", "
     ]
    },
    {
     "name": "stdout",
     "output_type": "stream",
     "text": [
      "'Ethiopia'"
     ]
    },
    {
     "name": "stdout",
     "output_type": "stream",
     "text": [
      ", "
     ]
    },
    {
     "name": "stdout",
     "output_type": "stream",
     "text": [
      "'Nicaragua'"
     ]
    },
    {
     "name": "stdout",
     "output_type": "stream",
     "text": [
      ", "
     ]
    },
    {
     "name": "stdout",
     "output_type": "stream",
     "text": [
      "'Morocco'"
     ]
    },
    {
     "name": "stdout",
     "output_type": "stream",
     "text": [
      ",\n",
      "     "
     ]
    },
    {
     "name": "stdout",
     "output_type": "stream",
     "text": [
      "'Palestine'"
     ]
    },
    {
     "name": "stdout",
     "output_type": "stream",
     "text": [
      ", "
     ]
    },
    {
     "name": "stdout",
     "output_type": "stream",
     "text": [
      "'Saint Lucia'"
     ]
    },
    {
     "name": "stdout",
     "output_type": "stream",
     "text": [
      ", "
     ]
    },
    {
     "name": "stdout",
     "output_type": "stream",
     "text": [
      "'Eritrea'"
     ]
    },
    {
     "name": "stdout",
     "output_type": "stream",
     "text": [
      ", "
     ]
    },
    {
     "name": "stdout",
     "output_type": "stream",
     "text": [
      "'Burundi'"
     ]
    },
    {
     "name": "stdout",
     "output_type": "stream",
     "text": [
      ", "
     ]
    },
    {
     "name": "stdout",
     "output_type": "stream",
     "text": [
      "'Denmark'"
     ]
    },
    {
     "name": "stdout",
     "output_type": "stream",
     "text": [
      ", "
     ]
    },
    {
     "name": "stdout",
     "output_type": "stream",
     "text": [
      "'Mongolia'"
     ]
    },
    {
     "name": "stdout",
     "output_type": "stream",
     "text": [
      ",\n",
      "     "
     ]
    },
    {
     "name": "stdout",
     "output_type": "stream",
     "text": [
      "'Zambia'"
     ]
    },
    {
     "name": "stdout",
     "output_type": "stream",
     "text": [
      ", "
     ]
    },
    {
     "name": "stdout",
     "output_type": "stream",
     "text": [
      "'Israel'"
     ]
    },
    {
     "name": "stdout",
     "output_type": "stream",
     "text": [
      "]"
     ]
    },
    {
     "name": "stdout",
     "output_type": "stream",
     "text": [
      ",\n",
      " "
     ]
    },
    {
     "name": "stdout",
     "output_type": "stream",
     "text": [
      "9"
     ]
    },
    {
     "name": "stdout",
     "output_type": "stream",
     "text": [
      ": "
     ]
    },
    {
     "name": "stdout",
     "output_type": "stream",
     "text": [
      "["
     ]
    },
    {
     "name": "stdout",
     "output_type": "stream",
     "text": [
      "'Malta'"
     ]
    },
    {
     "name": "stdout",
     "output_type": "stream",
     "text": [
      ", "
     ]
    },
    {
     "name": "stdout",
     "output_type": "stream",
     "text": [
      "'Benin'"
     ]
    },
    {
     "name": "stdout",
     "output_type": "stream",
     "text": [
      ", "
     ]
    },
    {
     "name": "stdout",
     "output_type": "stream",
     "text": [
      "'Luxembourg'"
     ]
    },
    {
     "name": "stdout",
     "output_type": "stream",
     "text": [
      ", "
     ]
    },
    {
     "name": "stdout",
     "output_type": "stream",
     "text": [
      "'Japan'"
     ]
    },
    {
     "name": "stdout",
     "output_type": "stream",
     "text": [
      ", "
     ]
    },
    {
     "name": "stdout",
     "output_type": "stream",
     "text": [
      "'South Africa'"
     ]
    },
    {
     "name": "stdout",
     "output_type": "stream",
     "text": [
      ", "
     ]
    },
    {
     "name": "stdout",
     "output_type": "stream",
     "text": [
      "'China'"
     ]
    },
    {
     "name": "stdout",
     "output_type": "stream",
     "text": [
      ", "
     ]
    },
    {
     "name": "stdout",
     "output_type": "stream",
     "text": [
      "'Taiwan'"
     ]
    },
    {
     "name": "stdout",
     "output_type": "stream",
     "text": [
      ",\n",
      "     "
     ]
    },
    {
     "name": "stdout",
     "output_type": "stream",
     "text": [
      "'Ghana'"
     ]
    },
    {
     "name": "stdout",
     "output_type": "stream",
     "text": [
      ", "
     ]
    },
    {
     "name": "stdout",
     "output_type": "stream",
     "text": [
      "'Mauritania'"
     ]
    },
    {
     "name": "stdout",
     "output_type": "stream",
     "text": [
      ", "
     ]
    },
    {
     "name": "stdout",
     "output_type": "stream",
     "text": [
      "'Suriname'"
     ]
    },
    {
     "name": "stdout",
     "output_type": "stream",
     "text": [
      ", "
     ]
    },
    {
     "name": "stdout",
     "output_type": "stream",
     "text": [
      "'Sudan'"
     ]
    },
    {
     "name": "stdout",
     "output_type": "stream",
     "text": [
      ", "
     ]
    },
    {
     "name": "stdout",
     "output_type": "stream",
     "text": [
      "'Greece'"
     ]
    },
    {
     "name": "stdout",
     "output_type": "stream",
     "text": [
      ", "
     ]
    },
    {
     "name": "stdout",
     "output_type": "stream",
     "text": [
      "'Venezuela'"
     ]
    },
    {
     "name": "stdout",
     "output_type": "stream",
     "text": [
      ",\n",
      "     "
     ]
    },
    {
     "name": "stdout",
     "output_type": "stream",
     "text": [
      "'Cameroon'"
     ]
    },
    {
     "name": "stdout",
     "output_type": "stream",
     "text": [
      ", "
     ]
    },
    {
     "name": "stdout",
     "output_type": "stream",
     "text": [
      "'Swaziland'"
     ]
    },
    {
     "name": "stdout",
     "output_type": "stream",
     "text": [
      ", "
     ]
    },
    {
     "name": "stdout",
     "output_type": "stream",
     "text": [
      "'Barbados'"
     ]
    },
    {
     "name": "stdout",
     "output_type": "stream",
     "text": [
      ", "
     ]
    },
    {
     "name": "stdout",
     "output_type": "stream",
     "text": [
      "'Sierra Leone'"
     ]
    },
    {
     "name": "stdout",
     "output_type": "stream",
     "text": [
      ", "
     ]
    },
    {
     "name": "stdout",
     "output_type": "stream",
     "text": [
      "'Haiti'"
     ]
    },
    {
     "name": "stdout",
     "output_type": "stream",
     "text": [
      ", "
     ]
    },
    {
     "name": "stdout",
     "output_type": "stream",
     "text": [
      "'Ukraine'"
     ]
    },
    {
     "name": "stdout",
     "output_type": "stream",
     "text": [
      ",\n",
      "     "
     ]
    },
    {
     "name": "stdout",
     "output_type": "stream",
     "text": [
      "'Tajikistan'"
     ]
    },
    {
     "name": "stdout",
     "output_type": "stream",
     "text": [
      ", "
     ]
    },
    {
     "name": "stdout",
     "output_type": "stream",
     "text": [
      "'Bermuda'"
     ]
    },
    {
     "name": "stdout",
     "output_type": "stream",
     "text": [
      ", "
     ]
    },
    {
     "name": "stdout",
     "output_type": "stream",
     "text": [
      "'Poland'"
     ]
    },
    {
     "name": "stdout",
     "output_type": "stream",
     "text": [
      ", "
     ]
    },
    {
     "name": "stdout",
     "output_type": "stream",
     "text": [
      "'Bhutan'"
     ]
    },
    {
     "name": "stdout",
     "output_type": "stream",
     "text": [
      ", "
     ]
    },
    {
     "name": "stdout",
     "output_type": "stream",
     "text": [
      "'Syria'"
     ]
    },
    {
     "name": "stdout",
     "output_type": "stream",
     "text": [
      ", "
     ]
    },
    {
     "name": "stdout",
     "output_type": "stream",
     "text": [
      "'Iceland'"
     ]
    },
    {
     "name": "stdout",
     "output_type": "stream",
     "text": [
      ", "
     ]
    },
    {
     "name": "stdout",
     "output_type": "stream",
     "text": [
      "'Qatar'"
     ]
    },
    {
     "name": "stdout",
     "output_type": "stream",
     "text": [
      ",\n",
      "     "
     ]
    },
    {
     "name": "stdout",
     "output_type": "stream",
     "text": [
      "'Uruguay'"
     ]
    },
    {
     "name": "stdout",
     "output_type": "stream",
     "text": [
      ", "
     ]
    },
    {
     "name": "stdout",
     "output_type": "stream",
     "text": [
      "'Maldives'"
     ]
    },
    {
     "name": "stdout",
     "output_type": "stream",
     "text": [
      ", "
     ]
    },
    {
     "name": "stdout",
     "output_type": "stream",
     "text": [
      "'Ecuador'"
     ]
    },
    {
     "name": "stdout",
     "output_type": "stream",
     "text": [
      ", "
     ]
    },
    {
     "name": "stdout",
     "output_type": "stream",
     "text": [
      "'Kosovo'"
     ]
    },
    {
     "name": "stdout",
     "output_type": "stream",
     "text": [
      ", "
     ]
    },
    {
     "name": "stdout",
     "output_type": "stream",
     "text": [
      "'Korea, South'"
     ]
    },
    {
     "name": "stdout",
     "output_type": "stream",
     "text": [
      ", "
     ]
    },
    {
     "name": "stdout",
     "output_type": "stream",
     "text": [
      "'Chad'"
     ]
    },
    {
     "name": "stdout",
     "output_type": "stream",
     "text": [
      ",\n",
      "     "
     ]
    },
    {
     "name": "stdout",
     "output_type": "stream",
     "text": [
      "'Philippines'"
     ]
    },
    {
     "name": "stdout",
     "output_type": "stream",
     "text": [
      ", "
     ]
    },
    {
     "name": "stdout",
     "output_type": "stream",
     "text": [
      "'Norway'"
     ]
    },
    {
     "name": "stdout",
     "output_type": "stream",
     "text": [
      ", "
     ]
    },
    {
     "name": "stdout",
     "output_type": "stream",
     "text": [
      "'India'"
     ]
    },
    {
     "name": "stdout",
     "output_type": "stream",
     "text": [
      "]"
     ]
    },
    {
     "name": "stdout",
     "output_type": "stream",
     "text": [
      ",\n",
      " "
     ]
    },
    {
     "name": "stdout",
     "output_type": "stream",
     "text": [
      "10"
     ]
    },
    {
     "name": "stdout",
     "output_type": "stream",
     "text": [
      ": "
     ]
    },
    {
     "name": "stdout",
     "output_type": "stream",
     "text": [
      "["
     ]
    },
    {
     "name": "stdout",
     "output_type": "stream",
     "text": [
      "'Burkina Faso'"
     ]
    },
    {
     "name": "stdout",
     "output_type": "stream",
     "text": [
      ", "
     ]
    },
    {
     "name": "stdout",
     "output_type": "stream",
     "text": [
      "'Oman'"
     ]
    },
    {
     "name": "stdout",
     "output_type": "stream",
     "text": [
      ", "
     ]
    },
    {
     "name": "stdout",
     "output_type": "stream",
     "text": [
      "'Saudi Arabia'"
     ]
    },
    {
     "name": "stdout",
     "output_type": "stream",
     "text": [
      ", "
     ]
    },
    {
     "name": "stdout",
     "output_type": "stream",
     "text": [
      "'Singapore'"
     ]
    },
    {
     "name": "stdout",
     "output_type": "stream",
     "text": [
      ", "
     ]
    },
    {
     "name": "stdout",
     "output_type": "stream",
     "text": [
      "'Portugal'"
     ]
    },
    {
     "name": "stdout",
     "output_type": "stream",
     "text": [
      ",\n",
      "      "
     ]
    },
    {
     "name": "stdout",
     "output_type": "stream",
     "text": [
      "'Senegal'"
     ]
    },
    {
     "name": "stdout",
     "output_type": "stream",
     "text": [
      ", "
     ]
    },
    {
     "name": "stdout",
     "output_type": "stream",
     "text": [
      "'Serbia'"
     ]
    },
    {
     "name": "stdout",
     "output_type": "stream",
     "text": [
      ", "
     ]
    },
    {
     "name": "stdout",
     "output_type": "stream",
     "text": [
      "'Chile'"
     ]
    },
    {
     "name": "stdout",
     "output_type": "stream",
     "text": [
      ", "
     ]
    },
    {
     "name": "stdout",
     "output_type": "stream",
     "text": [
      "'Belarus'"
     ]
    },
    {
     "name": "stdout",
     "output_type": "stream",
     "text": [
      ", "
     ]
    },
    {
     "name": "stdout",
     "output_type": "stream",
     "text": [
      "'Guatemala'"
     ]
    },
    {
     "name": "stdout",
     "output_type": "stream",
     "text": [
      ", "
     ]
    },
    {
     "name": "stdout",
     "output_type": "stream",
     "text": [
      "'Albania'"
     ]
    },
    {
     "name": "stdout",
     "output_type": "stream",
     "text": [
      ",\n",
      "      "
     ]
    },
    {
     "name": "stdout",
     "output_type": "stream",
     "text": [
      "'Liberia'"
     ]
    },
    {
     "name": "stdout",
     "output_type": "stream",
     "text": [
      ", "
     ]
    },
    {
     "name": "stdout",
     "output_type": "stream",
     "text": [
      "'Congo'"
     ]
    },
    {
     "name": "stdout",
     "output_type": "stream",
     "text": [
      ", "
     ]
    },
    {
     "name": "stdout",
     "output_type": "stream",
     "text": [
      "'Cape Verde'"
     ]
    },
    {
     "name": "stdout",
     "output_type": "stream",
     "text": [
      ", "
     ]
    },
    {
     "name": "stdout",
     "output_type": "stream",
     "text": [
      "'Indonesia'"
     ]
    },
    {
     "name": "stdout",
     "output_type": "stream",
     "text": [
      ", "
     ]
    },
    {
     "name": "stdout",
     "output_type": "stream",
     "text": [
      "'Canada'"
     ]
    },
    {
     "name": "stdout",
     "output_type": "stream",
     "text": [
      ", "
     ]
    },
    {
     "name": "stdout",
     "output_type": "stream",
     "text": [
      "'Pakistan'"
     ]
    },
    {
     "name": "stdout",
     "output_type": "stream",
     "text": [
      ",\n",
      "      "
     ]
    },
    {
     "name": "stdout",
     "output_type": "stream",
     "text": [
      "'El Salvador'"
     ]
    },
    {
     "name": "stdout",
     "output_type": "stream",
     "text": [
      ", "
     ]
    },
    {
     "name": "stdout",
     "output_type": "stream",
     "text": [
      "'Somalia'"
     ]
    },
    {
     "name": "stdout",
     "output_type": "stream",
     "text": [
      ", "
     ]
    },
    {
     "name": "stdout",
     "output_type": "stream",
     "text": [
      "'Uzbekistan'"
     ]
    },
    {
     "name": "stdout",
     "output_type": "stream",
     "text": [
      ", "
     ]
    },
    {
     "name": "stdout",
     "output_type": "stream",
     "text": [
      "'Malaysia'"
     ]
    },
    {
     "name": "stdout",
     "output_type": "stream",
     "text": [
      ", "
     ]
    },
    {
     "name": "stdout",
     "output_type": "stream",
     "text": [
      "'Germany'"
     ]
    },
    {
     "name": "stdout",
     "output_type": "stream",
     "text": [
      ", "
     ]
    },
    {
     "name": "stdout",
     "output_type": "stream",
     "text": [
      "'Romania'"
     ]
    },
    {
     "name": "stdout",
     "output_type": "stream",
     "text": [
      ",\n",
      "      "
     ]
    },
    {
     "name": "stdout",
     "output_type": "stream",
     "text": [
      "'Cuba'"
     ]
    },
    {
     "name": "stdout",
     "output_type": "stream",
     "text": [
      ", "
     ]
    },
    {
     "name": "stdout",
     "output_type": "stream",
     "text": [
      "'Gabon'"
     ]
    },
    {
     "name": "stdout",
     "output_type": "stream",
     "text": [
      ", "
     ]
    },
    {
     "name": "stdout",
     "output_type": "stream",
     "text": [
      "'Azerbaijan'"
     ]
    },
    {
     "name": "stdout",
     "output_type": "stream",
     "text": [
      "]"
     ]
    },
    {
     "name": "stdout",
     "output_type": "stream",
     "text": [
      ",\n",
      " "
     ]
    },
    {
     "name": "stdout",
     "output_type": "stream",
     "text": [
      "11"
     ]
    },
    {
     "name": "stdout",
     "output_type": "stream",
     "text": [
      ": "
     ]
    },
    {
     "name": "stdout",
     "output_type": "stream",
     "text": [
      "["
     ]
    },
    {
     "name": "stdout",
     "output_type": "stream",
     "text": [
      "'United Arab Emirates'"
     ]
    },
    {
     "name": "stdout",
     "output_type": "stream",
     "text": [
      ", "
     ]
    },
    {
     "name": "stdout",
     "output_type": "stream",
     "text": [
      "'Estonia'"
     ]
    },
    {
     "name": "stdout",
     "output_type": "stream",
     "text": [
      ", "
     ]
    },
    {
     "name": "stdout",
     "output_type": "stream",
     "text": [
      "'Armenia'"
     ]
    },
    {
     "name": "stdout",
     "output_type": "stream",
     "text": [
      ", "
     ]
    },
    {
     "name": "stdout",
     "output_type": "stream",
     "text": [
      "'Panama'"
     ]
    },
    {
     "name": "stdout",
     "output_type": "stream",
     "text": [
      ", "
     ]
    },
    {
     "name": "stdout",
     "output_type": "stream",
     "text": [
      "'Belgium'"
     ]
    },
    {
     "name": "stdout",
     "output_type": "stream",
     "text": [
      ", "
     ]
    },
    {
     "name": "stdout",
     "output_type": "stream",
     "text": [
      "'Peru'"
     ]
    },
    {
     "name": "stdout",
     "output_type": "stream",
     "text": [
      ",\n",
      "      "
     ]
    },
    {
     "name": "stdout",
     "output_type": "stream",
     "text": [
      "'Macedonia'"
     ]
    },
    {
     "name": "stdout",
     "output_type": "stream",
     "text": [
      ", "
     ]
    },
    {
     "name": "stdout",
     "output_type": "stream",
     "text": [
      "'Guinea'"
     ]
    },
    {
     "name": "stdout",
     "output_type": "stream",
     "text": [
      ", "
     ]
    },
    {
     "name": "stdout",
     "output_type": "stream",
     "text": [
      "'Bulgaria'"
     ]
    },
    {
     "name": "stdout",
     "output_type": "stream",
     "text": [
      ", "
     ]
    },
    {
     "name": "stdout",
     "output_type": "stream",
     "text": [
      "'Mali'"
     ]
    },
    {
     "name": "stdout",
     "output_type": "stream",
     "text": [
      ", "
     ]
    },
    {
     "name": "stdout",
     "output_type": "stream",
     "text": [
      "'Egypt'"
     ]
    },
    {
     "name": "stdout",
     "output_type": "stream",
     "text": [
      ",\n",
      "      "
     ]
    },
    {
     "name": "stdout",
     "output_type": "stream",
     "text": [
      "'Bosnia and Herzegovina'"
     ]
    },
    {
     "name": "stdout",
     "output_type": "stream",
     "text": [
      ", "
     ]
    },
    {
     "name": "stdout",
     "output_type": "stream",
     "text": [
      "'Togo'"
     ]
    },
    {
     "name": "stdout",
     "output_type": "stream",
     "text": [
      ", "
     ]
    },
    {
     "name": "stdout",
     "output_type": "stream",
     "text": [
      "'Latvia'"
     ]
    },
    {
     "name": "stdout",
     "output_type": "stream",
     "text": [
      ", "
     ]
    },
    {
     "name": "stdout",
     "output_type": "stream",
     "text": [
      "'Iraq'"
     ]
    },
    {
     "name": "stdout",
     "output_type": "stream",
     "text": [
      ", "
     ]
    },
    {
     "name": "stdout",
     "output_type": "stream",
     "text": [
      "'Switzerland'"
     ]
    },
    {
     "name": "stdout",
     "output_type": "stream",
     "text": [
      ",\n",
      "      "
     ]
    },
    {
     "name": "stdout",
     "output_type": "stream",
     "text": [
      "'Algeria'"
     ]
    },
    {
     "name": "stdout",
     "output_type": "stream",
     "text": [
      ", "
     ]
    },
    {
     "name": "stdout",
     "output_type": "stream",
     "text": [
      "'Bangladesh'"
     ]
    },
    {
     "name": "stdout",
     "output_type": "stream",
     "text": [
      ", "
     ]
    },
    {
     "name": "stdout",
     "output_type": "stream",
     "text": [
      "'Moldova'"
     ]
    },
    {
     "name": "stdout",
     "output_type": "stream",
     "text": [
      ", "
     ]
    },
    {
     "name": "stdout",
     "output_type": "stream",
     "text": [
      "'Honduras'"
     ]
    },
    {
     "name": "stdout",
     "output_type": "stream",
     "text": [
      ", "
     ]
    },
    {
     "name": "stdout",
     "output_type": "stream",
     "text": [
      "'Finland'"
     ]
    },
    {
     "name": "stdout",
     "output_type": "stream",
     "text": [
      ",\n",
      "      "
     ]
    },
    {
     "name": "stdout",
     "output_type": "stream",
     "text": [
      "'Dominican Republic'"
     ]
    },
    {
     "name": "stdout",
     "output_type": "stream",
     "text": [
      "]"
     ]
    },
    {
     "name": "stdout",
     "output_type": "stream",
     "text": [
      ",\n",
      " "
     ]
    },
    {
     "name": "stdout",
     "output_type": "stream",
     "text": [
      "12"
     ]
    },
    {
     "name": "stdout",
     "output_type": "stream",
     "text": [
      ": "
     ]
    },
    {
     "name": "stdout",
     "output_type": "stream",
     "text": [
      "["
     ]
    },
    {
     "name": "stdout",
     "output_type": "stream",
     "text": [
      "'Kuwait'"
     ]
    },
    {
     "name": "stdout",
     "output_type": "stream",
     "text": [
      ", "
     ]
    },
    {
     "name": "stdout",
     "output_type": "stream",
     "text": [
      "'Mexico'"
     ]
    },
    {
     "name": "stdout",
     "output_type": "stream",
     "text": [
      ", "
     ]
    },
    {
     "name": "stdout",
     "output_type": "stream",
     "text": [
      "'Bahrain'"
     ]
    },
    {
     "name": "stdout",
     "output_type": "stream",
     "text": [
      ", "
     ]
    },
    {
     "name": "stdout",
     "output_type": "stream",
     "text": [
      "'Nigeria'"
     ]
    },
    {
     "name": "stdout",
     "output_type": "stream",
     "text": [
      ", "
     ]
    },
    {
     "name": "stdout",
     "output_type": "stream",
     "text": [
      "'Turkey'"
     ]
    },
    {
     "name": "stdout",
     "output_type": "stream",
     "text": [
      ", "
     ]
    },
    {
     "name": "stdout",
     "output_type": "stream",
     "text": [
      "'France'"
     ]
    },
    {
     "name": "stdout",
     "output_type": "stream",
     "text": [
      ", "
     ]
    },
    {
     "name": "stdout",
     "output_type": "stream",
     "text": [
      "'Italy'"
     ]
    },
    {
     "name": "stdout",
     "output_type": "stream",
     "text": [
      ",\n",
      "      "
     ]
    },
    {
     "name": "stdout",
     "output_type": "stream",
     "text": [
      "'Brazil'"
     ]
    },
    {
     "name": "stdout",
     "output_type": "stream",
     "text": [
      ", "
     ]
    },
    {
     "name": "stdout",
     "output_type": "stream",
     "text": [
      "'United States'"
     ]
    },
    {
     "name": "stdout",
     "output_type": "stream",
     "text": [
      "]"
     ]
    },
    {
     "name": "stdout",
     "output_type": "stream",
     "text": [
      ",\n",
      " "
     ]
    },
    {
     "name": "stdout",
     "output_type": "stream",
     "text": [
      "13"
     ]
    },
    {
     "name": "stdout",
     "output_type": "stream",
     "text": [
      ": "
     ]
    },
    {
     "name": "stdout",
     "output_type": "stream",
     "text": [
      "['Russia', 'Bolivia', 'Iran']"
     ]
    },
    {
     "name": "stdout",
     "output_type": "stream",
     "text": [
      "}"
     ]
    },
    {
     "name": "stdout",
     "output_type": "stream",
     "text": [
      "\n"
     ]
    }
   ],
   "source": [
    "# Show the number of phases of all countries\n",
    "analyser.trend()\n",
    "pprint(analyser.phase_len(), compact=True)"
   ]
  },
  {
   "cell_type": "code",
   "execution_count": 8,
   "metadata": {
    "collapsed": false
   },
   "outputs": [
    {
     "data": {
      "text/plain": [
       "12"
      ]
     },
     "execution_count": 8,
     "metadata": {},
     "output_type": "execute_result"
    }
   ],
   "source": [
    "# Set phases with S-R trend analysis\n",
    "analyser.trend(min_len=12)\n",
    "# The number of countries\n",
    "len(analyser.countries)"
   ]
  },
  {
   "cell_type": "code",
   "execution_count": 9,
   "metadata": {
    "collapsed": false,
    "tags": []
   },
   "outputs": [
    {
     "name": "stdout",
     "output_type": "stream",
     "text": [
      "{"
     ]
    },
    {
     "name": "stdout",
     "output_type": "stream",
     "text": [
      "12"
     ]
    },
    {
     "name": "stdout",
     "output_type": "stream",
     "text": [
      ": "
     ]
    },
    {
     "name": "stdout",
     "output_type": "stream",
     "text": [
      "["
     ]
    },
    {
     "name": "stdout",
     "output_type": "stream",
     "text": [
      "'Kuwait'"
     ]
    },
    {
     "name": "stdout",
     "output_type": "stream",
     "text": [
      ", "
     ]
    },
    {
     "name": "stdout",
     "output_type": "stream",
     "text": [
      "'Mexico'"
     ]
    },
    {
     "name": "stdout",
     "output_type": "stream",
     "text": [
      ", "
     ]
    },
    {
     "name": "stdout",
     "output_type": "stream",
     "text": [
      "'Bahrain'"
     ]
    },
    {
     "name": "stdout",
     "output_type": "stream",
     "text": [
      ", "
     ]
    },
    {
     "name": "stdout",
     "output_type": "stream",
     "text": [
      "'Nigeria'"
     ]
    },
    {
     "name": "stdout",
     "output_type": "stream",
     "text": [
      ", "
     ]
    },
    {
     "name": "stdout",
     "output_type": "stream",
     "text": [
      "'Turkey'"
     ]
    },
    {
     "name": "stdout",
     "output_type": "stream",
     "text": [
      ", "
     ]
    },
    {
     "name": "stdout",
     "output_type": "stream",
     "text": [
      "'France'"
     ]
    },
    {
     "name": "stdout",
     "output_type": "stream",
     "text": [
      ", "
     ]
    },
    {
     "name": "stdout",
     "output_type": "stream",
     "text": [
      "'Italy'"
     ]
    },
    {
     "name": "stdout",
     "output_type": "stream",
     "text": [
      ",\n",
      "      "
     ]
    },
    {
     "name": "stdout",
     "output_type": "stream",
     "text": [
      "'Brazil'"
     ]
    },
    {
     "name": "stdout",
     "output_type": "stream",
     "text": [
      ", "
     ]
    },
    {
     "name": "stdout",
     "output_type": "stream",
     "text": [
      "'United States'"
     ]
    },
    {
     "name": "stdout",
     "output_type": "stream",
     "text": [
      "]"
     ]
    },
    {
     "name": "stdout",
     "output_type": "stream",
     "text": [
      ",\n",
      " "
     ]
    },
    {
     "name": "stdout",
     "output_type": "stream",
     "text": [
      "13"
     ]
    },
    {
     "name": "stdout",
     "output_type": "stream",
     "text": [
      ": "
     ]
    },
    {
     "name": "stdout",
     "output_type": "stream",
     "text": [
      "['Russia', 'Bolivia', 'Iran']"
     ]
    },
    {
     "name": "stdout",
     "output_type": "stream",
     "text": [
      "}"
     ]
    },
    {
     "name": "stdout",
     "output_type": "stream",
     "text": [
      "\n"
     ]
    }
   ],
   "source": [
    "phase_len_dict = analyser.phase_len()\n",
    "pprint(phase_len_dict, compact=True)"
   ]
  },
  {
   "cell_type": "code",
   "execution_count": 10,
   "metadata": {
    "collapsed": false,
    "tags": []
   },
   "outputs": [
    {
     "data": {
      "text/html": [
       "<div>\n",
       "<style scoped>\n",
       "    .dataframe tbody tr th:only-of-type {\n",
       "        vertical-align: middle;\n",
       "    }\n",
       "\n",
       "    .dataframe tbody tr th {\n",
       "        vertical-align: top;\n",
       "    }\n",
       "\n",
       "    .dataframe thead th {\n",
       "        text-align: right;\n",
       "    }\n",
       "</style>\n",
       "<table border=\"1\" class=\"dataframe\">\n",
       "  <thead>\n",
       "    <tr style=\"text-align: right;\">\n",
       "      <th></th>\n",
       "      <th></th>\n",
       "      <th>Type</th>\n",
       "      <th>Start</th>\n",
       "      <th>End</th>\n",
       "      <th>Population</th>\n",
       "    </tr>\n",
       "    <tr>\n",
       "      <th>Country</th>\n",
       "      <th>Phase</th>\n",
       "      <th></th>\n",
       "      <th></th>\n",
       "      <th></th>\n",
       "      <th></th>\n",
       "    </tr>\n",
       "  </thead>\n",
       "  <tbody>\n",
       "    <tr>\n",
       "      <th rowspan=\"13\" valign=\"top\">Russia</th>\n",
       "      <th>0th</th>\n",
       "      <td>Past</td>\n",
       "      <td>12Feb2020</td>\n",
       "      <td>06May2020</td>\n",
       "      <td>330457362</td>\n",
       "    </tr>\n",
       "    <tr>\n",
       "      <th>1st</th>\n",
       "      <td>Past</td>\n",
       "      <td>07May2020</td>\n",
       "      <td>18May2020</td>\n",
       "      <td>330457362</td>\n",
       "    </tr>\n",
       "    <tr>\n",
       "      <th>2nd</th>\n",
       "      <td>Past</td>\n",
       "      <td>19May2020</td>\n",
       "      <td>29May2020</td>\n",
       "      <td>330457362</td>\n",
       "    </tr>\n",
       "    <tr>\n",
       "      <th>3rd</th>\n",
       "      <td>Past</td>\n",
       "      <td>30May2020</td>\n",
       "      <td>10Jun2020</td>\n",
       "      <td>330457362</td>\n",
       "    </tr>\n",
       "    <tr>\n",
       "      <th>4th</th>\n",
       "      <td>Past</td>\n",
       "      <td>11Jun2020</td>\n",
       "      <td>21Jun2020</td>\n",
       "      <td>330457362</td>\n",
       "    </tr>\n",
       "    <tr>\n",
       "      <th>5th</th>\n",
       "      <td>Past</td>\n",
       "      <td>22Jun2020</td>\n",
       "      <td>03Jul2020</td>\n",
       "      <td>330457362</td>\n",
       "    </tr>\n",
       "    <tr>\n",
       "      <th>6th</th>\n",
       "      <td>Past</td>\n",
       "      <td>04Jul2020</td>\n",
       "      <td>17Jul2020</td>\n",
       "      <td>330457362</td>\n",
       "    </tr>\n",
       "    <tr>\n",
       "      <th>7th</th>\n",
       "      <td>Past</td>\n",
       "      <td>18Jul2020</td>\n",
       "      <td>31Jul2020</td>\n",
       "      <td>330457362</td>\n",
       "    </tr>\n",
       "    <tr>\n",
       "      <th>8th</th>\n",
       "      <td>Past</td>\n",
       "      <td>01Aug2020</td>\n",
       "      <td>15Aug2020</td>\n",
       "      <td>330457362</td>\n",
       "    </tr>\n",
       "    <tr>\n",
       "      <th>9th</th>\n",
       "      <td>Past</td>\n",
       "      <td>16Aug2020</td>\n",
       "      <td>02Sep2020</td>\n",
       "      <td>330457362</td>\n",
       "    </tr>\n",
       "    <tr>\n",
       "      <th>10th</th>\n",
       "      <td>Past</td>\n",
       "      <td>03Sep2020</td>\n",
       "      <td>18Sep2020</td>\n",
       "      <td>330457362</td>\n",
       "    </tr>\n",
       "    <tr>\n",
       "      <th>11th</th>\n",
       "      <td>Past</td>\n",
       "      <td>19Sep2020</td>\n",
       "      <td>02Oct2020</td>\n",
       "      <td>330457362</td>\n",
       "    </tr>\n",
       "    <tr>\n",
       "      <th>12th</th>\n",
       "      <td>Past</td>\n",
       "      <td>03Oct2020</td>\n",
       "      <td>13Oct2020</td>\n",
       "      <td>330457362</td>\n",
       "    </tr>\n",
       "    <tr>\n",
       "      <th rowspan=\"13\" valign=\"top\">Bolivia</th>\n",
       "      <th>0th</th>\n",
       "      <td>Past</td>\n",
       "      <td>01Apr2020</td>\n",
       "      <td>13Jun2020</td>\n",
       "      <td>11353142</td>\n",
       "    </tr>\n",
       "    <tr>\n",
       "      <th>1st</th>\n",
       "      <td>Past</td>\n",
       "      <td>14Jun2020</td>\n",
       "      <td>25Jun2020</td>\n",
       "      <td>11353142</td>\n",
       "    </tr>\n",
       "    <tr>\n",
       "      <th>2nd</th>\n",
       "      <td>Past</td>\n",
       "      <td>26Jun2020</td>\n",
       "      <td>05Jul2020</td>\n",
       "      <td>11353142</td>\n",
       "    </tr>\n",
       "    <tr>\n",
       "      <th>3rd</th>\n",
       "      <td>Past</td>\n",
       "      <td>06Jul2020</td>\n",
       "      <td>14Jul2020</td>\n",
       "      <td>11353142</td>\n",
       "    </tr>\n",
       "    <tr>\n",
       "      <th>4th</th>\n",
       "      <td>Past</td>\n",
       "      <td>15Jul2020</td>\n",
       "      <td>22Jul2020</td>\n",
       "      <td>11353142</td>\n",
       "    </tr>\n",
       "    <tr>\n",
       "      <th>5th</th>\n",
       "      <td>Past</td>\n",
       "      <td>23Jul2020</td>\n",
       "      <td>31Jul2020</td>\n",
       "      <td>11353142</td>\n",
       "    </tr>\n",
       "    <tr>\n",
       "      <th>6th</th>\n",
       "      <td>Past</td>\n",
       "      <td>01Aug2020</td>\n",
       "      <td>09Aug2020</td>\n",
       "      <td>11353142</td>\n",
       "    </tr>\n",
       "    <tr>\n",
       "      <th>7th</th>\n",
       "      <td>Past</td>\n",
       "      <td>10Aug2020</td>\n",
       "      <td>17Aug2020</td>\n",
       "      <td>11353142</td>\n",
       "    </tr>\n",
       "    <tr>\n",
       "      <th>8th</th>\n",
       "      <td>Past</td>\n",
       "      <td>18Aug2020</td>\n",
       "      <td>25Aug2020</td>\n",
       "      <td>11353142</td>\n",
       "    </tr>\n",
       "    <tr>\n",
       "      <th>9th</th>\n",
       "      <td>Past</td>\n",
       "      <td>26Aug2020</td>\n",
       "      <td>02Sep2020</td>\n",
       "      <td>11353142</td>\n",
       "    </tr>\n",
       "    <tr>\n",
       "      <th>10th</th>\n",
       "      <td>Past</td>\n",
       "      <td>03Sep2020</td>\n",
       "      <td>10Sep2020</td>\n",
       "      <td>11353142</td>\n",
       "    </tr>\n",
       "    <tr>\n",
       "      <th>11th</th>\n",
       "      <td>Past</td>\n",
       "      <td>11Sep2020</td>\n",
       "      <td>22Sep2020</td>\n",
       "      <td>11353142</td>\n",
       "    </tr>\n",
       "    <tr>\n",
       "      <th>12th</th>\n",
       "      <td>Past</td>\n",
       "      <td>23Sep2020</td>\n",
       "      <td>13Oct2020</td>\n",
       "      <td>11353142</td>\n",
       "    </tr>\n",
       "    <tr>\n",
       "      <th rowspan=\"13\" valign=\"top\">Iran</th>\n",
       "      <th>0th</th>\n",
       "      <td>Past</td>\n",
       "      <td>26Feb2020</td>\n",
       "      <td>29Mar2020</td>\n",
       "      <td>81800269</td>\n",
       "    </tr>\n",
       "    <tr>\n",
       "      <th>1st</th>\n",
       "      <td>Past</td>\n",
       "      <td>30Mar2020</td>\n",
       "      <td>17Apr2020</td>\n",
       "      <td>81800269</td>\n",
       "    </tr>\n",
       "    <tr>\n",
       "      <th>2nd</th>\n",
       "      <td>Past</td>\n",
       "      <td>18Apr2020</td>\n",
       "      <td>13May2020</td>\n",
       "      <td>81800269</td>\n",
       "    </tr>\n",
       "    <tr>\n",
       "      <th>3rd</th>\n",
       "      <td>Past</td>\n",
       "      <td>14May2020</td>\n",
       "      <td>31May2020</td>\n",
       "      <td>81800269</td>\n",
       "    </tr>\n",
       "    <tr>\n",
       "      <th>4th</th>\n",
       "      <td>Past</td>\n",
       "      <td>01Jun2020</td>\n",
       "      <td>16Jun2020</td>\n",
       "      <td>81800269</td>\n",
       "    </tr>\n",
       "    <tr>\n",
       "      <th>5th</th>\n",
       "      <td>Past</td>\n",
       "      <td>17Jun2020</td>\n",
       "      <td>01Jul2020</td>\n",
       "      <td>81800269</td>\n",
       "    </tr>\n",
       "    <tr>\n",
       "      <th>6th</th>\n",
       "      <td>Past</td>\n",
       "      <td>02Jul2020</td>\n",
       "      <td>16Jul2020</td>\n",
       "      <td>81800269</td>\n",
       "    </tr>\n",
       "    <tr>\n",
       "      <th>7th</th>\n",
       "      <td>Past</td>\n",
       "      <td>17Jul2020</td>\n",
       "      <td>31Jul2020</td>\n",
       "      <td>81800269</td>\n",
       "    </tr>\n",
       "    <tr>\n",
       "      <th>8th</th>\n",
       "      <td>Past</td>\n",
       "      <td>01Aug2020</td>\n",
       "      <td>16Aug2020</td>\n",
       "      <td>81800269</td>\n",
       "    </tr>\n",
       "    <tr>\n",
       "      <th>9th</th>\n",
       "      <td>Past</td>\n",
       "      <td>17Aug2020</td>\n",
       "      <td>03Sep2020</td>\n",
       "      <td>81800269</td>\n",
       "    </tr>\n",
       "    <tr>\n",
       "      <th>10th</th>\n",
       "      <td>Past</td>\n",
       "      <td>04Sep2020</td>\n",
       "      <td>19Sep2020</td>\n",
       "      <td>81800269</td>\n",
       "    </tr>\n",
       "    <tr>\n",
       "      <th>11th</th>\n",
       "      <td>Past</td>\n",
       "      <td>20Sep2020</td>\n",
       "      <td>30Sep2020</td>\n",
       "      <td>81800269</td>\n",
       "    </tr>\n",
       "    <tr>\n",
       "      <th>12th</th>\n",
       "      <td>Past</td>\n",
       "      <td>01Oct2020</td>\n",
       "      <td>13Oct2020</td>\n",
       "      <td>81800269</td>\n",
       "    </tr>\n",
       "  </tbody>\n",
       "</table>\n",
       "</div>"
      ],
      "text/plain": [
       "               Type      Start        End  Population\n",
       "Country Phase                                        \n",
       "Russia  0th    Past  12Feb2020  06May2020   330457362\n",
       "        1st    Past  07May2020  18May2020   330457362\n",
       "        2nd    Past  19May2020  29May2020   330457362\n",
       "        3rd    Past  30May2020  10Jun2020   330457362\n",
       "        4th    Past  11Jun2020  21Jun2020   330457362\n",
       "        5th    Past  22Jun2020  03Jul2020   330457362\n",
       "        6th    Past  04Jul2020  17Jul2020   330457362\n",
       "        7th    Past  18Jul2020  31Jul2020   330457362\n",
       "        8th    Past  01Aug2020  15Aug2020   330457362\n",
       "        9th    Past  16Aug2020  02Sep2020   330457362\n",
       "        10th   Past  03Sep2020  18Sep2020   330457362\n",
       "        11th   Past  19Sep2020  02Oct2020   330457362\n",
       "        12th   Past  03Oct2020  13Oct2020   330457362\n",
       "Bolivia 0th    Past  01Apr2020  13Jun2020    11353142\n",
       "        1st    Past  14Jun2020  25Jun2020    11353142\n",
       "        2nd    Past  26Jun2020  05Jul2020    11353142\n",
       "        3rd    Past  06Jul2020  14Jul2020    11353142\n",
       "        4th    Past  15Jul2020  22Jul2020    11353142\n",
       "        5th    Past  23Jul2020  31Jul2020    11353142\n",
       "        6th    Past  01Aug2020  09Aug2020    11353142\n",
       "        7th    Past  10Aug2020  17Aug2020    11353142\n",
       "        8th    Past  18Aug2020  25Aug2020    11353142\n",
       "        9th    Past  26Aug2020  02Sep2020    11353142\n",
       "        10th   Past  03Sep2020  10Sep2020    11353142\n",
       "        11th   Past  11Sep2020  22Sep2020    11353142\n",
       "        12th   Past  23Sep2020  13Oct2020    11353142\n",
       "Iran    0th    Past  26Feb2020  29Mar2020    81800269\n",
       "        1st    Past  30Mar2020  17Apr2020    81800269\n",
       "        2nd    Past  18Apr2020  13May2020    81800269\n",
       "        3rd    Past  14May2020  31May2020    81800269\n",
       "        4th    Past  01Jun2020  16Jun2020    81800269\n",
       "        5th    Past  17Jun2020  01Jul2020    81800269\n",
       "        6th    Past  02Jul2020  16Jul2020    81800269\n",
       "        7th    Past  17Jul2020  31Jul2020    81800269\n",
       "        8th    Past  01Aug2020  16Aug2020    81800269\n",
       "        9th    Past  17Aug2020  03Sep2020    81800269\n",
       "        10th   Past  04Sep2020  19Sep2020    81800269\n",
       "        11th   Past  20Sep2020  30Sep2020    81800269\n",
       "        12th   Past  01Oct2020  13Oct2020    81800269"
      ]
     },
     "execution_count": 10,
     "metadata": {},
     "output_type": "execute_result"
    }
   ],
   "source": [
    "# Here, only show the countries which have the most phases\n",
    "countries_show = max(phase_len_dict.items(), key=lambda x: x[0])[1]\n",
    "# Show summary\n",
    "analyser.summary(countries=countries_show)"
   ]
  },
  {
   "cell_type": "markdown",
   "metadata": {},
   "source": [
    "## Parameter estimation\n",
    "we will estimate the parameter values with SIR-derived ODE models in each country."
   ]
  },
  {
   "cell_type": "code",
   "execution_count": 11,
   "metadata": {
    "collapsed": false,
    "tags": []
   },
   "outputs": [
    {
     "name": "stdout",
     "output_type": "stream",
     "text": [
      "\n",
      "<SIR-F model: parameter estimation>"
     ]
    },
    {
     "name": "stdout",
     "output_type": "stream",
     "text": [
      "\n"
     ]
    },
    {
     "name": "stdout",
     "output_type": "stream",
     "text": [
      "Running optimization with 4 CPUs..."
     ]
    },
    {
     "name": "stdout",
     "output_type": "stream",
     "text": [
      "\n"
     ]
    },
    {
     "name": "stdout",
     "output_type": "stream",
     "text": [
      "\tTUR, 10th phase (08Sep2020 - 23Sep2020): finished  150 trials in 0 min  5 sec"
     ]
    },
    {
     "name": "stdout",
     "output_type": "stream",
     "text": [
      "\n"
     ]
    },
    {
     "name": "stdout",
     "output_type": "stream",
     "text": [
      "\tNGA,  6th phase (21Jul2020 - 28Jul2020): finished  155 trials in 0 min  5 sec"
     ]
    },
    {
     "name": "stdout",
     "output_type": "stream",
     "text": [
      "\n"
     ]
    },
    {
     "name": "stdout",
     "output_type": "stream",
     "text": [
      "\tBHR, 11th phase (28Sep2020 - 13Oct2020): finished  292 trials in 0 min 10 sec"
     ]
    },
    {
     "name": "stdout",
     "output_type": "stream",
     "text": [
      "\n"
     ]
    },
    {
     "name": "stdout",
     "output_type": "stream",
     "text": [
      "\tMEX,  5th phase (17Jul2020 - 29Jul2020): finished 1313 trials in 1 min  0 sec"
     ]
    },
    {
     "name": "stdout",
     "output_type": "stream",
     "text": [
      "\n"
     ]
    },
    {
     "name": "stdout",
     "output_type": "stream",
     "text": [
      "\tITA,  7th phase (15Jul2020 - 25Aug2020): finished 1278 trials in 1 min  0 sec"
     ]
    },
    {
     "name": "stdout",
     "output_type": "stream",
     "text": [
      "\n"
     ]
    },
    {
     "name": "stdout",
     "output_type": "stream",
     "text": [
      "\tMEX,  9th phase (07Sep2020 - 20Sep2020): finished 1314 trials in 1 min  0 sec"
     ]
    },
    {
     "name": "stdout",
     "output_type": "stream",
     "text": [
      "\n"
     ]
    },
    {
     "name": "stdout",
     "output_type": "stream",
     "text": [
      "\tITA, 10th phase (25Sep2020 - 04Oct2020): finished  153 trials in 0 min  5 sec"
     ]
    },
    {
     "name": "stdout",
     "output_type": "stream",
     "text": [
      "\n"
     ]
    },
    {
     "name": "stdout",
     "output_type": "stream",
     "text": [
      "\tBHR, 10th phase (18Sep2020 - 27Sep2020): finished  274 trials in 0 min 10 sec"
     ]
    },
    {
     "name": "stdout",
     "output_type": "stream",
     "text": [
      "\n"
     ]
    },
    {
     "name": "stdout",
     "output_type": "stream",
     "text": [
      "\tFRA,  2nd phase (05Apr2020 - 20Apr2020): finished 1291 trials in 1 min  0 sec"
     ]
    },
    {
     "name": "stdout",
     "output_type": "stream",
     "text": [
      "\n"
     ]
    },
    {
     "name": "stdout",
     "output_type": "stream",
     "text": [
      "\tTUR,  3rd phase (09May2020 - 22May2020): finished 1277 trials in 1 min  0 sec"
     ]
    },
    {
     "name": "stdout",
     "output_type": "stream",
     "text": [
      "\n"
     ]
    },
    {
     "name": "stdout",
     "output_type": "stream",
     "text": [
      "\tBRA,  3rd phase (27Jun2020 - 08Jul2020): finished 1294 trials in 1 min  0 sec"
     ]
    },
    {
     "name": "stdout",
     "output_type": "stream",
     "text": [
      "\n"
     ]
    },
    {
     "name": "stdout",
     "output_type": "stream",
     "text": [
      "\tFRA,  4th phase (05May2020 - 01Jun2020): finished 1277 trials in 1 min  0 sec"
     ]
    },
    {
     "name": "stdout",
     "output_type": "stream",
     "text": [
      "\n"
     ]
    },
    {
     "name": "stdout",
     "output_type": "stream",
     "text": [
      "\tRUS, 10th phase (03Sep2020 - 18Sep2020): finished 1287 trials in 1 min  0 sec"
     ]
    },
    {
     "name": "stdout",
     "output_type": "stream",
     "text": [
      "\n"
     ]
    },
    {
     "name": "stdout",
     "output_type": "stream",
     "text": [
      "\tBHR,  9th phase (07Sep2020 - 17Sep2020): finished  154 trials in 0 min  5 sec"
     ]
    },
    {
     "name": "stdout",
     "output_type": "stream",
     "text": [
      "\n"
     ]
    },
    {
     "name": "stdout",
     "output_type": "stream",
     "text": [
      "\tBHR,  1st phase (07May2020 - 31May2020): finished 1308 trials in 1 min  0 sec"
     ]
    },
    {
     "name": "stdout",
     "output_type": "stream",
     "text": [
      "\n"
     ]
    },
    {
     "name": "stdout",
     "output_type": "stream",
     "text": [
      "\tKWT,  0th phase (08Mar2020 - 12May2020): finished 1156 trials in 1 min  0 sec"
     ]
    },
    {
     "name": "stdout",
     "output_type": "stream",
     "text": [
      "\n"
     ]
    },
    {
     "name": "stdout",
     "output_type": "stream",
     "text": [
      "\tIRN,  9th phase (17Aug2020 - 03Sep2020): finished 1324 trials in 1 min  0 sec"
     ]
    },
    {
     "name": "stdout",
     "output_type": "stream",
     "text": [
      "\n"
     ]
    },
    {
     "name": "stdout",
     "output_type": "stream",
     "text": [
      "\tRUS,  8th phase (01Aug2020 - 15Aug2020): finished 1334 trials in 1 min  0 sec"
     ]
    },
    {
     "name": "stdout",
     "output_type": "stream",
     "text": [
      "\n"
     ]
    },
    {
     "name": "stdout",
     "output_type": "stream",
     "text": [
      "\tRUS,  2nd phase (19May2020 - 29May2020): finished 1429 trials in 1 min  0 sec"
     ]
    },
    {
     "name": "stdout",
     "output_type": "stream",
     "text": [
      "\n"
     ]
    },
    {
     "name": "stdout",
     "output_type": "stream",
     "text": [
      "\tRUS,  0th phase (12Feb2020 - 06May2020): finished 1422 trials in 1 min  0 sec"
     ]
    },
    {
     "name": "stdout",
     "output_type": "stream",
     "text": [
      "\n"
     ]
    },
    {
     "name": "stdout",
     "output_type": "stream",
     "text": [
      "\tBRA,  9th phase (30Aug2020 - 10Sep2020): finished  161 trials in 0 min  5 sec"
     ]
    },
    {
     "name": "stdout",
     "output_type": "stream",
     "text": [
      "\n"
     ]
    },
    {
     "name": "stdout",
     "output_type": "stream",
     "text": [
      "\tFRA,  1st phase (25Mar2020 - 04Apr2020): finished 1390 trials in 1 min  0 sec"
     ]
    },
    {
     "name": "stdout",
     "output_type": "stream",
     "text": [
      "\n"
     ]
    },
    {
     "name": "stdout",
     "output_type": "stream",
     "text": [
      "\tFRA,  3rd phase (21Apr2020 - 04May2020): finished 1413 trials in 1 min  0 sec"
     ]
    },
    {
     "name": "stdout",
     "output_type": "stream",
     "text": [
      "\n"
     ]
    },
    {
     "name": "stdout",
     "output_type": "stream",
     "text": [
      "\tTUR,  8th phase (05Aug2020 - 22Aug2020): finished  310 trials in 0 min 10 sec"
     ]
    },
    {
     "name": "stdout",
     "output_type": "stream",
     "text": [
      "\n"
     ]
    },
    {
     "name": "stdout",
     "output_type": "stream",
     "text": [
      "\tNGA,  2nd phase (07Jun2020 - 18Jun2020): finished 1415 trials in 1 min  0 sec"
     ]
    },
    {
     "name": "stdout",
     "output_type": "stream",
     "text": [
      "\n"
     ]
    },
    {
     "name": "stdout",
     "output_type": "stream",
     "text": [
      "\tFRA,  7th phase (10Aug2020 - 26Aug2020): finished 1127 trials in 0 min 45 sec"
     ]
    },
    {
     "name": "stdout",
     "output_type": "stream",
     "text": [
      "\n"
     ]
    },
    {
     "name": "stdout",
     "output_type": "stream",
     "text": [
      "\tMEX,  6th phase (30Jul2020 - 10Aug2020): finished 1405 trials in 1 min  0 sec"
     ]
    },
    {
     "name": "stdout",
     "output_type": "stream",
     "text": [
      "\n"
     ]
    },
    {
     "name": "stdout",
     "output_type": "stream",
     "text": [
      "\tBOL,  3rd phase (06Jul2020 - 14Jul2020): finished  811 trials in 0 min 30 sec"
     ]
    },
    {
     "name": "stdout",
     "output_type": "stream",
     "text": [
      "\n"
     ]
    },
    {
     "name": "stdout",
     "output_type": "stream",
     "text": [
      "\tMEX,  0th phase (03Mar2020 - 22May2020): finished 1354 trials in 1 min  0 sec"
     ]
    },
    {
     "name": "stdout",
     "output_type": "stream",
     "text": [
      "\n"
     ]
    },
    {
     "name": "stdout",
     "output_type": "stream",
     "text": [
      "\tRUS,  1st phase (07May2020 - 18May2020): finished 1364 trials in 1 min  0 sec"
     ]
    },
    {
     "name": "stdout",
     "output_type": "stream",
     "text": [
      "\n"
     ]
    },
    {
     "name": "stdout",
     "output_type": "stream",
     "text": [
      "\tRUS,  3rd phase (30May2020 - 10Jun2020): finished 1348 trials in 1 min  0 sec"
     ]
    },
    {
     "name": "stdout",
     "output_type": "stream",
     "text": [
      "\n"
     ]
    },
    {
     "name": "stdout",
     "output_type": "stream",
     "text": [
      "\tIRN,  2nd phase (18Apr2020 - 13May2020): finished  255 trials in 0 min 10 sec"
     ]
    },
    {
     "name": "stdout",
     "output_type": "stream",
     "text": [
      "\n"
     ]
    },
    {
     "name": "stdout",
     "output_type": "stream",
     "text": [
      "\tITA,  2nd phase (29Mar2020 - 10Apr2020): finished 1283 trials in 1 min  0 sec"
     ]
    },
    {
     "name": "stdout",
     "output_type": "stream",
     "text": [
      "\n"
     ]
    },
    {
     "name": "stdout",
     "output_type": "stream",
     "text": [
      "\tNGA,  4th phase (27Jun2020 - 12Jul2020): finished 1260 trials in 1 min  0 sec"
     ]
    },
    {
     "name": "stdout",
     "output_type": "stream",
     "text": [
      "\n"
     ]
    },
    {
     "name": "stdout",
     "output_type": "stream",
     "text": [
      "\tUSA,  8th phase (20Aug2020 - 02Sep2020): finished  232 trials in 0 min 10 sec"
     ]
    },
    {
     "name": "stdout",
     "output_type": "stream",
     "text": [
      "\n"
     ]
    },
    {
     "name": "stdout",
     "output_type": "stream",
     "text": [
      "\tNGA,  7th phase (29Jul2020 - 07Aug2020): finished 1270 trials in 1 min  0 sec"
     ]
    },
    {
     "name": "stdout",
     "output_type": "stream",
     "text": [
      "\n"
     ]
    },
    {
     "name": "stdout",
     "output_type": "stream",
     "text": [
      "\tBRA,  6th phase (31Jul2020 - 10Aug2020): finished 1265 trials in 1 min  0 sec"
     ]
    },
    {
     "name": "stdout",
     "output_type": "stream",
     "text": [
      "\n"
     ]
    },
    {
     "name": "stdout",
     "output_type": "stream",
     "text": [
      "\tFRA,  9th phase (11Sep2020 - 18Sep2020): finished  563 trials in 0 min 20 sec"
     ]
    },
    {
     "name": "stdout",
     "output_type": "stream",
     "text": [
      "\n"
     ]
    },
    {
     "name": "stdout",
     "output_type": "stream",
     "text": [
      "\tTUR,  4th phase (23May2020 - 12Jun2020): finished 1309 trials in 1 min  0 sec"
     ]
    },
    {
     "name": "stdout",
     "output_type": "stream",
     "text": [
      "\n"
     ]
    },
    {
     "name": "stdout",
     "output_type": "stream",
     "text": [
      "\tITA,  5th phase (12May2020 - 27May2020): finished  295 trials in 0 min 10 sec"
     ]
    },
    {
     "name": "stdout",
     "output_type": "stream",
     "text": [
      "\n"
     ]
    },
    {
     "name": "stdout",
     "output_type": "stream",
     "text": [
      "\tIRN, 10th phase (04Sep2020 - 19Sep2020): finished 1348 trials in 1 min  0 sec"
     ]
    },
    {
     "name": "stdout",
     "output_type": "stream",
     "text": [
      "\n"
     ]
    },
    {
     "name": "stdout",
     "output_type": "stream",
     "text": [
      "\tITA,  4th phase (24Apr2020 - 11May2020): finished 1244 trials in 1 min  0 sec"
     ]
    },
    {
     "name": "stdout",
     "output_type": "stream",
     "text": [
      "\n"
     ]
    },
    {
     "name": "stdout",
     "output_type": "stream",
     "text": [
      "\tIRN,  8th phase (01Aug2020 - 16Aug2020): finished  274 trials in 0 min 10 sec"
     ]
    },
    {
     "name": "stdout",
     "output_type": "stream",
     "text": [
      "\n"
     ]
    },
    {
     "name": "stdout",
     "output_type": "stream",
     "text": [
      "\tFRA,  5th phase (02Jun2020 - 07Jul2020): finished 1218 trials in 1 min  0 sec"
     ]
    },
    {
     "name": "stdout",
     "output_type": "stream",
     "text": [
      "\n"
     ]
    },
    {
     "name": "stdout",
     "output_type": "stream",
     "text": [
      "\tKWT,  3rd phase (08Jun2020 - 22Jun2020): finished 1233 trials in 1 min  0 sec"
     ]
    },
    {
     "name": "stdout",
     "output_type": "stream",
     "text": [
      "\n"
     ]
    },
    {
     "name": "stdout",
     "output_type": "stream",
     "text": [
      "\tBRA,  1st phase (27May2020 - 13Jun2020): finished 1212 trials in 1 min  0 sec"
     ]
    },
    {
     "name": "stdout",
     "output_type": "stream",
     "text": [
      "\n"
     ]
    },
    {
     "name": "stdout",
     "output_type": "stream",
     "text": [
      "\tBOL,  7th phase (10Aug2020 - 17Aug2020): finished  262 trials in 0 min 10 sec"
     ]
    },
    {
     "name": "stdout",
     "output_type": "stream",
     "text": [
      "\n"
     ]
    },
    {
     "name": "stdout",
     "output_type": "stream",
     "text": [
      "\tBOL,  6th phase (01Aug2020 - 09Aug2020): finished  155 trials in 0 min  5 sec"
     ]
    },
    {
     "name": "stdout",
     "output_type": "stream",
     "text": [
      "\n"
     ]
    },
    {
     "name": "stdout",
     "output_type": "stream",
     "text": [
      "\tTUR,  2nd phase (30Apr2020 - 08May2020): finished 1121 trials in 0 min 50 sec"
     ]
    },
    {
     "name": "stdout",
     "output_type": "stream",
     "text": [
      "\n"
     ]
    },
    {
     "name": "stdout",
     "output_type": "stream",
     "text": [
      "\tITA,  3rd phase (11Apr2020 - 23Apr2020): finished 1308 trials in 1 min  1 sec"
     ]
    },
    {
     "name": "stdout",
     "output_type": "stream",
     "text": [
      "\n"
     ]
    },
    {
     "name": "stdout",
     "output_type": "stream",
     "text": [
      "\tITA,  6th phase (28May2020 - 14Jul2020): finished  544 trials in 0 min 20 sec"
     ]
    },
    {
     "name": "stdout",
     "output_type": "stream",
     "text": [
      "\n"
     ]
    },
    {
     "name": "stdout",
     "output_type": "stream",
     "text": [
      "\tUSA,  0th phase (09Feb2020 - 04May2020): finished 1284 trials in 1 min  0 sec"
     ]
    },
    {
     "name": "stdout",
     "output_type": "stream",
     "text": [
      "\n"
     ]
    },
    {
     "name": "stdout",
     "output_type": "stream",
     "text": [
      "\tRUS, 11th phase (19Sep2020 - 02Oct2020): finished 1348 trials in 1 min  0 sec"
     ]
    },
    {
     "name": "stdout",
     "output_type": "stream",
     "text": [
      "\n"
     ]
    },
    {
     "name": "stdout",
     "output_type": "stream",
     "text": [
      "\tIRN,  7th phase (17Jul2020 - 31Jul2020): finished  155 trials in 0 min  5 sec"
     ]
    },
    {
     "name": "stdout",
     "output_type": "stream",
     "text": [
      "\n"
     ]
    },
    {
     "name": "stdout",
     "output_type": "stream",
     "text": [
      "\tBOL, 10th phase (03Sep2020 - 10Sep2020): finished  543 trials in 0 min 20 sec"
     ]
    },
    {
     "name": "stdout",
     "output_type": "stream",
     "text": [
      "\n"
     ]
    },
    {
     "name": "stdout",
     "output_type": "stream",
     "text": [
      "\tBHR,  4th phase (25Jun2020 - 07Jul2020): finished  301 trials in 0 min 10 sec"
     ]
    },
    {
     "name": "stdout",
     "output_type": "stream",
     "text": [
      "\n"
     ]
    },
    {
     "name": "stdout",
     "output_type": "stream",
     "text": [
      "\tBHR,  7th phase (07Aug2020 - 22Aug2020): finished 1371 trials in 1 min  0 sec"
     ]
    },
    {
     "name": "stdout",
     "output_type": "stream",
     "text": [
      "\n"
     ]
    },
    {
     "name": "stdout",
     "output_type": "stream",
     "text": [
      "\tRUS,  7th phase (18Jul2020 - 31Jul2020): finished 1362 trials in 1 min  0 sec"
     ]
    },
    {
     "name": "stdout",
     "output_type": "stream",
     "text": [
      "\n"
     ]
    },
    {
     "name": "stdout",
     "output_type": "stream",
     "text": [
      "\tBHR,  0th phase (06Mar2020 - 06May2020): finished 1315 trials in 1 min  0 sec"
     ]
    },
    {
     "name": "stdout",
     "output_type": "stream",
     "text": [
      "\n"
     ]
    },
    {
     "name": "stdout",
     "output_type": "stream",
     "text": [
      "\tTUR,  1st phase (17Apr2020 - 29Apr2020): finished 1301 trials in 1 min  0 sec"
     ]
    },
    {
     "name": "stdout",
     "output_type": "stream",
     "text": [
      "\n"
     ]
    },
    {
     "name": "stdout",
     "output_type": "stream",
     "text": [
      "\tRUS,  5th phase (22Jun2020 - 03Jul2020): finished 1322 trials in 1 min  0 sec"
     ]
    },
    {
     "name": "stdout",
     "output_type": "stream",
     "text": [
      "\n"
     ]
    },
    {
     "name": "stdout",
     "output_type": "stream",
     "text": [
      "\tTUR,  7th phase (16Jul2020 - 04Aug2020): finished  146 trials in 0 min  5 sec"
     ]
    },
    {
     "name": "stdout",
     "output_type": "stream",
     "text": [
      "\n"
     ]
    },
    {
     "name": "stdout",
     "output_type": "stream",
     "text": [
      "\tKWT,  4th phase (23Jun2020 - 06Jul2020): finished 1288 trials in 1 min  0 sec"
     ]
    },
    {
     "name": "stdout",
     "output_type": "stream",
     "text": [
      "\n"
     ]
    },
    {
     "name": "stdout",
     "output_type": "stream",
     "text": [
      "\tIRN,  6th phase (02Jul2020 - 16Jul2020): finished  152 trials in 0 min  5 sec"
     ]
    },
    {
     "name": "stdout",
     "output_type": "stream",
     "text": [
      "\n"
     ]
    },
    {
     "name": "stdout",
     "output_type": "stream",
     "text": [
      "\tIRN,  5th phase (17Jun2020 - 01Jul2020): finished 1226 trials in 1 min  0 sec"
     ]
    },
    {
     "name": "stdout",
     "output_type": "stream",
     "text": [
      "\n"
     ]
    },
    {
     "name": "stdout",
     "output_type": "stream",
     "text": [
      "\tMEX,  2nd phase (10Jun2020 - 23Jun2020): finished  488 trials in 0 min 15 sec"
     ]
    },
    {
     "name": "stdout",
     "output_type": "stream",
     "text": [
      "\n"
     ]
    },
    {
     "name": "stdout",
     "output_type": "stream",
     "text": [
      "\tUSA,  5th phase (18Jul2020 - 27Jul2020): finished  312 trials in 0 min 10 sec"
     ]
    },
    {
     "name": "stdout",
     "output_type": "stream",
     "text": [
      "\n"
     ]
    },
    {
     "name": "stdout",
     "output_type": "stream",
     "text": [
      "\tBHR,  5th phase (08Jul2020 - 19Jul2020): finished 1381 trials in 1 min  0 sec"
     ]
    },
    {
     "name": "stdout",
     "output_type": "stream",
     "text": [
      "\n"
     ]
    },
    {
     "name": "stdout",
     "output_type": "stream",
     "text": [
      "\tKWT,  2nd phase (28May2020 - 07Jun2020): finished 1402 trials in 1 min  0 sec"
     ]
    },
    {
     "name": "stdout",
     "output_type": "stream",
     "text": [
      "\n"
     ]
    },
    {
     "name": "stdout",
     "output_type": "stream",
     "text": [
      "\tBOL,  2nd phase (26Jun2020 - 05Jul2020): finished  336 trials in 0 min 10 sec"
     ]
    },
    {
     "name": "stdout",
     "output_type": "stream",
     "text": [
      "\n"
     ]
    },
    {
     "name": "stdout",
     "output_type": "stream",
     "text": [
      "\tBRA,  4th phase (09Jul2020 - 20Jul2020): finished  450 trials in 0 min 15 sec"
     ]
    },
    {
     "name": "stdout",
     "output_type": "stream",
     "text": [
      "\n"
     ]
    },
    {
     "name": "stdout",
     "output_type": "stream",
     "text": [
      "\tBOL,  5th phase (23Jul2020 - 31Jul2020): finished  291 trials in 0 min 10 sec"
     ]
    },
    {
     "name": "stdout",
     "output_type": "stream",
     "text": [
      "\n"
     ]
    },
    {
     "name": "stdout",
     "output_type": "stream",
     "text": [
      "\tFRA,  0th phase (12Feb2020 - 24Mar2020): finished 1266 trials in 1 min  0 sec"
     ]
    },
    {
     "name": "stdout",
     "output_type": "stream",
     "text": [
      "\n"
     ]
    },
    {
     "name": "stdout",
     "output_type": "stream",
     "text": [
      "\tNGA, 10th phase (02Sep2020 - 22Sep2020): finished 1431 trials in 1 min  0 sec"
     ]
    },
    {
     "name": "stdout",
     "output_type": "stream",
     "text": [
      "\n"
     ]
    },
    {
     "name": "stdout",
     "output_type": "stream",
     "text": [
      "\tBOL,  0th phase (01Apr2020 - 13Jun2020): finished 1362 trials in 1 min  0 sec"
     ]
    },
    {
     "name": "stdout",
     "output_type": "stream",
     "text": [
      "\n"
     ]
    },
    {
     "name": "stdout",
     "output_type": "stream",
     "text": [
      "\tKWT, 10th phase (14Sep2020 - 26Sep2020): finished  471 trials in 0 min 15 sec"
     ]
    },
    {
     "name": "stdout",
     "output_type": "stream",
     "text": [
      "\n"
     ]
    },
    {
     "name": "stdout",
     "output_type": "stream",
     "text": [
      "\tRUS,  6th phase (04Jul2020 - 17Jul2020): finished 1443 trials in 1 min  0 sec"
     ]
    },
    {
     "name": "stdout",
     "output_type": "stream",
     "text": [
      "\n"
     ]
    },
    {
     "name": "stdout",
     "output_type": "stream",
     "text": [
      "\tKWT,  5th phase (07Jul2020 - 20Jul2020): finished 1450 trials in 1 min  0 sec"
     ]
    },
    {
     "name": "stdout",
     "output_type": "stream",
     "text": [
      "\n"
     ]
    },
    {
     "name": "stdout",
     "output_type": "stream",
     "text": [
      "\tIRN, 12th phase (01Oct2020 - 13Oct2020): finished  310 trials in 0 min 10 sec"
     ]
    },
    {
     "name": "stdout",
     "output_type": "stream",
     "text": [
      "\n"
     ]
    },
    {
     "name": "stdout",
     "output_type": "stream",
     "text": [
      "\tTUR,  9th phase (23Aug2020 - 07Sep2020): finished  301 trials in 0 min 10 sec"
     ]
    },
    {
     "name": "stdout",
     "output_type": "stream",
     "text": [
      "\n"
     ]
    },
    {
     "name": "stdout",
     "output_type": "stream",
     "text": [
      "\tBOL, 11th phase (11Sep2020 - 22Sep2020): finished  196 trials in 0 min  5 sec"
     ]
    },
    {
     "name": "stdout",
     "output_type": "stream",
     "text": [
      "\n"
     ]
    },
    {
     "name": "stdout",
     "output_type": "stream",
     "text": [
      "\tUSA,  6th phase (28Jul2020 - 07Aug2020): finished  447 trials in 0 min 15 sec"
     ]
    },
    {
     "name": "stdout",
     "output_type": "stream",
     "text": [
      "\n"
     ]
    },
    {
     "name": "stdout",
     "output_type": "stream",
     "text": [
      "\tKWT,  6th phase (21Jul2020 - 04Aug2020): finished  187 trials in 0 min  5 sec"
     ]
    },
    {
     "name": "stdout",
     "output_type": "stream",
     "text": [
      "\n"
     ]
    },
    {
     "name": "stdout",
     "output_type": "stream",
     "text": [
      "\tITA,  9th phase (13Sep2020 - 24Sep2020): finished  174 trials in 0 min  5 sec"
     ]
    },
    {
     "name": "stdout",
     "output_type": "stream",
     "text": [
      "\n"
     ]
    },
    {
     "name": "stdout",
     "output_type": "stream",
     "text": [
      "\tMEX,  8th phase (25Aug2020 - 06Sep2020): finished 1461 trials in 1 min  0 sec"
     ]
    },
    {
     "name": "stdout",
     "output_type": "stream",
     "text": [
      "\n"
     ]
    },
    {
     "name": "stdout",
     "output_type": "stream",
     "text": [
      "\tMEX, 11th phase (04Oct2020 - 13Oct2020): finished 1443 trials in 1 min  0 sec"
     ]
    },
    {
     "name": "stdout",
     "output_type": "stream",
     "text": [
      "\n"
     ]
    },
    {
     "name": "stdout",
     "output_type": "stream",
     "text": [
      "\tRUS,  4th phase (11Jun2020 - 21Jun2020): finished 1324 trials in 1 min  0 sec"
     ]
    },
    {
     "name": "stdout",
     "output_type": "stream",
     "text": [
      "\n"
     ]
    },
    {
     "name": "stdout",
     "output_type": "stream",
     "text": [
      "\tKWT,  1st phase (13May2020 - 27May2020): finished 1351 trials in 1 min  0 sec"
     ]
    },
    {
     "name": "stdout",
     "output_type": "stream",
     "text": [
      "\n"
     ]
    },
    {
     "name": "stdout",
     "output_type": "stream",
     "text": [
      "\tBRA,  8th phase (20Aug2020 - 29Aug2020): finished 1336 trials in 1 min  0 sec"
     ]
    },
    {
     "name": "stdout",
     "output_type": "stream",
     "text": [
      "\n"
     ]
    },
    {
     "name": "stdout",
     "output_type": "stream",
     "text": [
      "\tNGA,  5th phase (13Jul2020 - 20Jul2020): finished  163 trials in 0 min  5 sec"
     ]
    },
    {
     "name": "stdout",
     "output_type": "stream",
     "text": [
      "\n"
     ]
    },
    {
     "name": "stdout",
     "output_type": "stream",
     "text": [
      "\tMEX, 10th phase (21Sep2020 - 03Oct2020): finished  530 trials in 0 min 20 sec"
     ]
    },
    {
     "name": "stdout",
     "output_type": "stream",
     "text": [
      "\n"
     ]
    },
    {
     "name": "stdout",
     "output_type": "stream",
     "text": [
      "\tBOL,  4th phase (15Jul2020 - 22Jul2020): finished 1281 trials in 1 min  0 sec"
     ]
    },
    {
     "name": "stdout",
     "output_type": "stream",
     "text": [
      "\n"
     ]
    },
    {
     "name": "stdout",
     "output_type": "stream",
     "text": [
      "\tIRN,  1st phase (30Mar2020 - 17Apr2020): finished 1319 trials in 1 min  0 sec"
     ]
    },
    {
     "name": "stdout",
     "output_type": "stream",
     "text": [
      "\n"
     ]
    },
    {
     "name": "stdout",
     "output_type": "stream",
     "text": [
      "\tFRA,  8th phase (27Aug2020 - 10Sep2020): finished 1270 trials in 0 min 55 sec"
     ]
    },
    {
     "name": "stdout",
     "output_type": "stream",
     "text": [
      "\n"
     ]
    },
    {
     "name": "stdout",
     "output_type": "stream",
     "text": [
      "\tITA,  1st phase (21Mar2020 - 28Mar2020): finished 1383 trials in 1 min  0 sec"
     ]
    },
    {
     "name": "stdout",
     "output_type": "stream",
     "text": [
      "\n"
     ]
    },
    {
     "name": "stdout",
     "output_type": "stream",
     "text": [
      "\tIRN,  4th phase (01Jun2020 - 16Jun2020): finished 1402 trials in 1 min  0 sec"
     ]
    },
    {
     "name": "stdout",
     "output_type": "stream",
     "text": [
      "\n"
     ]
    },
    {
     "name": "stdout",
     "output_type": "stream",
     "text": [
      "\tITA,  8th phase (26Aug2020 - 12Sep2020): finished  290 trials in 0 min 10 sec"
     ]
    },
    {
     "name": "stdout",
     "output_type": "stream",
     "text": [
      "\n"
     ]
    },
    {
     "name": "stdout",
     "output_type": "stream",
     "text": [
      "\tIRN,  0th phase (26Feb2020 - 29Mar2020): finished 1385 trials in 1 min  0 sec"
     ]
    },
    {
     "name": "stdout",
     "output_type": "stream",
     "text": [
      "\n"
     ]
    },
    {
     "name": "stdout",
     "output_type": "stream",
     "text": [
      "\tMEX,  3rd phase (24Jun2020 - 05Jul2020): finished  402 trials in 0 min 15 sec"
     ]
    },
    {
     "name": "stdout",
     "output_type": "stream",
     "text": [
      "\n"
     ]
    },
    {
     "name": "stdout",
     "output_type": "stream",
     "text": [
      "\tBHR,  3rd phase (14Jun2020 - 24Jun2020): finished 1369 trials in 1 min  0 sec"
     ]
    },
    {
     "name": "stdout",
     "output_type": "stream",
     "text": [
      "\n"
     ]
    },
    {
     "name": "stdout",
     "output_type": "stream",
     "text": [
      "\tMEX,  4th phase (06Jul2020 - 16Jul2020): finished  424 trials in 0 min 15 sec"
     ]
    },
    {
     "name": "stdout",
     "output_type": "stream",
     "text": [
      "\n"
     ]
    },
    {
     "name": "stdout",
     "output_type": "stream",
     "text": [
      "\tBOL,  9th phase (26Aug2020 - 02Sep2020): finished  289 trials in 0 min 10 sec"
     ]
    },
    {
     "name": "stdout",
     "output_type": "stream",
     "text": [
      "\n"
     ]
    },
    {
     "name": "stdout",
     "output_type": "stream",
     "text": [
      "\tBRA,  5th phase (21Jul2020 - 30Jul2020): finished 1323 trials in 1 min  0 sec"
     ]
    },
    {
     "name": "stdout",
     "output_type": "stream",
     "text": [
      "\n"
     ]
    },
    {
     "name": "stdout",
     "output_type": "stream",
     "text": [
      "\tUSA,  4th phase (08Jul2020 - 17Jul2020): finished  382 trials in 0 min 15 sec"
     ]
    },
    {
     "name": "stdout",
     "output_type": "stream",
     "text": [
      "\n"
     ]
    },
    {
     "name": "stdout",
     "output_type": "stream",
     "text": [
      "\tNGA,  1st phase (19May2020 - 06Jun2020): finished 1299 trials in 1 min  0 sec"
     ]
    },
    {
     "name": "stdout",
     "output_type": "stream",
     "text": [
      "\n"
     ]
    },
    {
     "name": "stdout",
     "output_type": "stream",
     "text": [
      "\tIRN,  3rd phase (14May2020 - 31May2020): finished  306 trials in 0 min 10 sec"
     ]
    },
    {
     "name": "stdout",
     "output_type": "stream",
     "text": [
      "\n"
     ]
    },
    {
     "name": "stdout",
     "output_type": "stream",
     "text": [
      "\tTUR, 11th phase (24Sep2020 - 13Oct2020): finished  141 trials in 0 min  5 sec"
     ]
    },
    {
     "name": "stdout",
     "output_type": "stream",
     "text": [
      "\n"
     ]
    },
    {
     "name": "stdout",
     "output_type": "stream",
     "text": [
      "\tKWT,  9th phase (02Sep2020 - 13Sep2020): finished 1311 trials in 1 min  0 sec"
     ]
    },
    {
     "name": "stdout",
     "output_type": "stream",
     "text": [
      "\n"
     ]
    },
    {
     "name": "stdout",
     "output_type": "stream",
     "text": [
      "\tUSA, 10th phase (18Sep2020 - 30Sep2020): finished  950 trials in 0 min 40 sec"
     ]
    },
    {
     "name": "stdout",
     "output_type": "stream",
     "text": [
      "\n"
     ]
    },
    {
     "name": "stdout",
     "output_type": "stream",
     "text": [
      "\tUSA,  7th phase (08Aug2020 - 19Aug2020): finished  526 trials in 0 min 20 sec"
     ]
    },
    {
     "name": "stdout",
     "output_type": "stream",
     "text": [
      "\n"
     ]
    },
    {
     "name": "stdout",
     "output_type": "stream",
     "text": [
      "\tBRA,  7th phase (11Aug2020 - 19Aug2020): finished 1336 trials in 1 min  0 sec"
     ]
    },
    {
     "name": "stdout",
     "output_type": "stream",
     "text": [
      "\n"
     ]
    },
    {
     "name": "stdout",
     "output_type": "stream",
     "text": [
      "\tBHR,  8th phase (23Aug2020 - 06Sep2020): finished 1327 trials in 1 min  0 sec"
     ]
    },
    {
     "name": "stdout",
     "output_type": "stream",
     "text": [
      "\n"
     ]
    },
    {
     "name": "stdout",
     "output_type": "stream",
     "text": [
      "\tBOL,  1st phase (14Jun2020 - 25Jun2020): finished 1328 trials in 1 min  0 sec"
     ]
    },
    {
     "name": "stdout",
     "output_type": "stream",
     "text": [
      "\n"
     ]
    },
    {
     "name": "stdout",
     "output_type": "stream",
     "text": [
      "\tTUR,  0th phase (24Mar2020 - 16Apr2020): finished 1363 trials in 1 min  0 sec"
     ]
    },
    {
     "name": "stdout",
     "output_type": "stream",
     "text": [
      "\n"
     ]
    },
    {
     "name": "stdout",
     "output_type": "stream",
     "text": [
      "\tBHR,  6th phase (20Jul2020 - 06Aug2020): finished  804 trials in 0 min 30 sec"
     ]
    },
    {
     "name": "stdout",
     "output_type": "stream",
     "text": [
      "\n"
     ]
    },
    {
     "name": "stdout",
     "output_type": "stream",
     "text": [
      "\tITA, 11th phase (05Oct2020 - 13Oct2020): finished  382 trials in 0 min 15 sec"
     ]
    },
    {
     "name": "stdout",
     "output_type": "stream",
     "text": [
      "\n"
     ]
    },
    {
     "name": "stdout",
     "output_type": "stream",
     "text": [
      "\tKWT,  8th phase (18Aug2020 - 01Sep2020): finished  593 trials in 0 min 25 sec"
     ]
    },
    {
     "name": "stdout",
     "output_type": "stream",
     "text": [
      "\n"
     ]
    },
    {
     "name": "stdout",
     "output_type": "stream",
     "text": [
      "\tKWT, 11th phase (27Sep2020 - 13Oct2020): finished  258 trials in 0 min 10 sec"
     ]
    },
    {
     "name": "stdout",
     "output_type": "stream",
     "text": [
      "\n"
     ]
    },
    {
     "name": "stdout",
     "output_type": "stream",
     "text": [
      "\tNGA,  0th phase (18Mar2020 - 18May2020): finished 1282 trials in 1 min  0 sec"
     ]
    },
    {
     "name": "stdout",
     "output_type": "stream",
     "text": [
      "\n"
     ]
    },
    {
     "name": "stdout",
     "output_type": "stream",
     "text": [
      "\tMEX,  7th phase (11Aug2020 - 24Aug2020): finished 1344 trials in 1 min  0 sec"
     ]
    },
    {
     "name": "stdout",
     "output_type": "stream",
     "text": [
      "\n"
     ]
    },
    {
     "name": "stdout",
     "output_type": "stream",
     "text": [
      "\tMEX,  1st phase (23May2020 - 09Jun2020): finished  155 trials in 0 min  5 sec"
     ]
    },
    {
     "name": "stdout",
     "output_type": "stream",
     "text": [
      "\n"
     ]
    },
    {
     "name": "stdout",
     "output_type": "stream",
     "text": [
      "\tKWT,  7th phase (05Aug2020 - 17Aug2020): finished  294 trials in 0 min 10 sec"
     ]
    },
    {
     "name": "stdout",
     "output_type": "stream",
     "text": [
      "\n"
     ]
    },
    {
     "name": "stdout",
     "output_type": "stream",
     "text": [
      "\tBRA,  2nd phase (14Jun2020 - 26Jun2020): finished 1161 trials in 0 min 50 sec"
     ]
    },
    {
     "name": "stdout",
     "output_type": "stream",
     "text": [
      "\n"
     ]
    },
    {
     "name": "stdout",
     "output_type": "stream",
     "text": [
      "\tRUS,  9th phase (16Aug2020 - 02Sep2020): finished 1358 trials in 1 min  0 sec"
     ]
    },
    {
     "name": "stdout",
     "output_type": "stream",
     "text": [
      "\n"
     ]
    },
    {
     "name": "stdout",
     "output_type": "stream",
     "text": [
      "\tBHR,  2nd phase (01Jun2020 - 13Jun2020): finished 1369 trials in 1 min  0 sec"
     ]
    },
    {
     "name": "stdout",
     "output_type": "stream",
     "text": [
      "\n"
     ]
    },
    {
     "name": "stdout",
     "output_type": "stream",
     "text": [
      "\tNGA,  8th phase (08Aug2020 - 18Aug2020): finished  418 trials in 0 min 15 sec"
     ]
    },
    {
     "name": "stdout",
     "output_type": "stream",
     "text": [
      "\n"
     ]
    },
    {
     "name": "stdout",
     "output_type": "stream",
     "text": [
      "\tBRA, 10th phase (11Sep2020 - 24Sep2020): finished 1365 trials in 1 min  0 sec"
     ]
    },
    {
     "name": "stdout",
     "output_type": "stream",
     "text": [
      "\n"
     ]
    },
    {
     "name": "stdout",
     "output_type": "stream",
     "text": [
      "\tBOL, 12th phase (23Sep2020 - 13Oct2020): finished  146 trials in 0 min  5 sec"
     ]
    },
    {
     "name": "stdout",
     "output_type": "stream",
     "text": [
      "\n"
     ]
    },
    {
     "name": "stdout",
     "output_type": "stream",
     "text": [
      "\tBRA,  0th phase (16Mar2020 - 26May2020): finished 1310 trials in 1 min  0 sec"
     ]
    },
    {
     "name": "stdout",
     "output_type": "stream",
     "text": [
      "\n"
     ]
    },
    {
     "name": "stdout",
     "output_type": "stream",
     "text": [
      "\tITA,  0th phase (24Feb2020 - 20Mar2020): finished 1358 trials in 1 min  0 sec"
     ]
    },
    {
     "name": "stdout",
     "output_type": "stream",
     "text": [
      "\n"
     ]
    },
    {
     "name": "stdout",
     "output_type": "stream",
     "text": [
      "\tFRA,  6th phase (08Jul2020 - 09Aug2020): finished 1344 trials in 1 min  0 sec"
     ]
    },
    {
     "name": "stdout",
     "output_type": "stream",
     "text": [
      "\n"
     ]
    },
    {
     "name": "stdout",
     "output_type": "stream",
     "text": [
      "\tUSA,  9th phase (03Sep2020 - 17Sep2020): finished  652 trials in 0 min 25 sec"
     ]
    },
    {
     "name": "stdout",
     "output_type": "stream",
     "text": [
      "\n"
     ]
    },
    {
     "name": "stdout",
     "output_type": "stream",
     "text": [
      "\tUSA,  1st phase (05May2020 - 03Jun2020): finished 1345 trials in 1 min  0 sec"
     ]
    },
    {
     "name": "stdout",
     "output_type": "stream",
     "text": [
      "\n"
     ]
    },
    {
     "name": "stdout",
     "output_type": "stream",
     "text": [
      "\tBOL,  8th phase (18Aug2020 - 25Aug2020): finished  578 trials in 0 min 20 sec"
     ]
    },
    {
     "name": "stdout",
     "output_type": "stream",
     "text": [
      "\n"
     ]
    },
    {
     "name": "stdout",
     "output_type": "stream",
     "text": [
      "\tNGA,  9th phase (19Aug2020 - 01Sep2020): finished  523 trials in 0 min 20 sec"
     ]
    },
    {
     "name": "stdout",
     "output_type": "stream",
     "text": [
      "\n"
     ]
    },
    {
     "name": "stdout",
     "output_type": "stream",
     "text": [
      "\tRUS, 12th phase (03Oct2020 - 13Oct2020): finished  980 trials in 0 min 40 sec"
     ]
    },
    {
     "name": "stdout",
     "output_type": "stream",
     "text": [
      "\n"
     ]
    },
    {
     "name": "stdout",
     "output_type": "stream",
     "text": [
      "\tTUR,  6th phase (28Jun2020 - 15Jul2020): finished  541 trials in 0 min 20 sec"
     ]
    },
    {
     "name": "stdout",
     "output_type": "stream",
     "text": [
      "\n"
     ]
    },
    {
     "name": "stdout",
     "output_type": "stream",
     "text": [
      "\tNGA,  3rd phase (19Jun2020 - 26Jun2020): finished 1375 trials in 1 min  0 sec"
     ]
    },
    {
     "name": "stdout",
     "output_type": "stream",
     "text": [
      "\n"
     ]
    },
    {
     "name": "stdout",
     "output_type": "stream",
     "text": [
      "\tUSA,  2nd phase (04Jun2020 - 24Jun2020): finished 1058 trials in 0 min 40 sec"
     ]
    },
    {
     "name": "stdout",
     "output_type": "stream",
     "text": [
      "\n"
     ]
    },
    {
     "name": "stdout",
     "output_type": "stream",
     "text": [
      "\tBRA, 11th phase (25Sep2020 - 13Oct2020): finished 1511 trials in 1 min  0 sec"
     ]
    },
    {
     "name": "stdout",
     "output_type": "stream",
     "text": [
      "\n"
     ]
    },
    {
     "name": "stdout",
     "output_type": "stream",
     "text": [
      "\tTUR,  5th phase (13Jun2020 - 27Jun2020): finished 1551 trials in 1 min  0 sec"
     ]
    },
    {
     "name": "stdout",
     "output_type": "stream",
     "text": [
      "\n"
     ]
    },
    {
     "name": "stdout",
     "output_type": "stream",
     "text": [
      "\tIRN, 11th phase (20Sep2020 - 30Sep2020): finished  182 trials in 0 min  5 sec"
     ]
    },
    {
     "name": "stdout",
     "output_type": "stream",
     "text": [
      "\n"
     ]
    },
    {
     "name": "stdout",
     "output_type": "stream",
     "text": [
      "Completed optimization. Total: 25 min 10 sec"
     ]
    },
    {
     "name": "stdout",
     "output_type": "stream",
     "text": [
      "\n"
     ]
    }
   ],
   "source": [
    "# Parameter estimation with SIR-F model\n",
    "analyser.estimate(cs.SIRF)"
   ]
  },
  {
   "cell_type": "code",
   "execution_count": 12,
   "metadata": {
    "collapsed": false
   },
   "outputs": [
    {
     "data": {
      "text/html": [
       "<div>\n",
       "<style scoped>\n",
       "    .dataframe tbody tr th:only-of-type {\n",
       "        vertical-align: middle;\n",
       "    }\n",
       "\n",
       "    .dataframe tbody tr th {\n",
       "        vertical-align: top;\n",
       "    }\n",
       "\n",
       "    .dataframe thead th {\n",
       "        text-align: right;\n",
       "    }\n",
       "</style>\n",
       "<table border=\"1\" class=\"dataframe\">\n",
       "  <thead>\n",
       "    <tr style=\"text-align: right;\">\n",
       "      <th></th>\n",
       "      <th></th>\n",
       "      <th>Type</th>\n",
       "      <th>Start</th>\n",
       "      <th>End</th>\n",
       "      <th>Population</th>\n",
       "      <th>ODE</th>\n",
       "      <th>Rt</th>\n",
       "      <th>theta</th>\n",
       "      <th>kappa</th>\n",
       "      <th>rho</th>\n",
       "      <th>sigma</th>\n",
       "      <th>tau</th>\n",
       "      <th>1/gamma [day]</th>\n",
       "      <th>1/beta [day]</th>\n",
       "      <th>alpha1 [-]</th>\n",
       "      <th>1/alpha2 [day]</th>\n",
       "      <th>RMSLE</th>\n",
       "      <th>Trials</th>\n",
       "      <th>Runtime</th>\n",
       "    </tr>\n",
       "    <tr>\n",
       "      <th>Country</th>\n",
       "      <th>Phase</th>\n",
       "      <th></th>\n",
       "      <th></th>\n",
       "      <th></th>\n",
       "      <th></th>\n",
       "      <th></th>\n",
       "      <th></th>\n",
       "      <th></th>\n",
       "      <th></th>\n",
       "      <th></th>\n",
       "      <th></th>\n",
       "      <th></th>\n",
       "      <th></th>\n",
       "      <th></th>\n",
       "      <th></th>\n",
       "      <th></th>\n",
       "      <th></th>\n",
       "      <th></th>\n",
       "      <th></th>\n",
       "    </tr>\n",
       "  </thead>\n",
       "  <tbody>\n",
       "    <tr>\n",
       "      <th rowspan=\"13\" valign=\"top\">Russia</th>\n",
       "      <th>0th</th>\n",
       "      <td>Past</td>\n",
       "      <td>12Feb2020</td>\n",
       "      <td>06May2020</td>\n",
       "      <td>330457362</td>\n",
       "      <td>SIR-F</td>\n",
       "      <td>0.02</td>\n",
       "      <td>0.602763</td>\n",
       "      <td>0.544883</td>\n",
       "      <td>0.034081</td>\n",
       "      <td>0.002299</td>\n",
       "      <td>360</td>\n",
       "      <td>108</td>\n",
       "      <td>7</td>\n",
       "      <td>0.603</td>\n",
       "      <td>0</td>\n",
       "      <td>18.966727</td>\n",
       "      <td>1422</td>\n",
       "      <td>1 min  0 sec</td>\n",
       "    </tr>\n",
       "    <tr>\n",
       "      <th>1st</th>\n",
       "      <td>Past</td>\n",
       "      <td>07May2020</td>\n",
       "      <td>18May2020</td>\n",
       "      <td>330457362</td>\n",
       "      <td>SIR-F</td>\n",
       "      <td>2.85</td>\n",
       "      <td>0.001806</td>\n",
       "      <td>0.000093</td>\n",
       "      <td>0.013110</td>\n",
       "      <td>0.004495</td>\n",
       "      <td>360</td>\n",
       "      <td>55</td>\n",
       "      <td>19</td>\n",
       "      <td>0.002</td>\n",
       "      <td>2675</td>\n",
       "      <td>0.087751</td>\n",
       "      <td>1364</td>\n",
       "      <td>1 min  0 sec</td>\n",
       "    </tr>\n",
       "    <tr>\n",
       "      <th>2nd</th>\n",
       "      <td>Past</td>\n",
       "      <td>19May2020</td>\n",
       "      <td>29May2020</td>\n",
       "      <td>330457362</td>\n",
       "      <td>SIR-F</td>\n",
       "      <td>1.03</td>\n",
       "      <td>0.000337</td>\n",
       "      <td>0.000113</td>\n",
       "      <td>0.006707</td>\n",
       "      <td>0.006392</td>\n",
       "      <td>360</td>\n",
       "      <td>39</td>\n",
       "      <td>37</td>\n",
       "      <td>0.000</td>\n",
       "      <td>2208</td>\n",
       "      <td>0.111343</td>\n",
       "      <td>1429</td>\n",
       "      <td>1 min  0 sec</td>\n",
       "    </tr>\n",
       "    <tr>\n",
       "      <th>3rd</th>\n",
       "      <td>Past</td>\n",
       "      <td>30May2020</td>\n",
       "      <td>10Jun2020</td>\n",
       "      <td>330457362</td>\n",
       "      <td>SIR-F</td>\n",
       "      <td>1.03</td>\n",
       "      <td>0.018709</td>\n",
       "      <td>0.000011</td>\n",
       "      <td>0.004809</td>\n",
       "      <td>0.004563</td>\n",
       "      <td>360</td>\n",
       "      <td>54</td>\n",
       "      <td>51</td>\n",
       "      <td>0.019</td>\n",
       "      <td>22593</td>\n",
       "      <td>0.098037</td>\n",
       "      <td>1348</td>\n",
       "      <td>1 min  0 sec</td>\n",
       "    </tr>\n",
       "    <tr>\n",
       "      <th>4th</th>\n",
       "      <td>Past</td>\n",
       "      <td>11Jun2020</td>\n",
       "      <td>21Jun2020</td>\n",
       "      <td>330457362</td>\n",
       "      <td>SIR-F</td>\n",
       "      <td>1.16</td>\n",
       "      <td>0.000806</td>\n",
       "      <td>0.000077</td>\n",
       "      <td>0.003764</td>\n",
       "      <td>0.003162</td>\n",
       "      <td>360</td>\n",
       "      <td>79</td>\n",
       "      <td>66</td>\n",
       "      <td>0.001</td>\n",
       "      <td>3227</td>\n",
       "      <td>0.060768</td>\n",
       "      <td>1324</td>\n",
       "      <td>1 min  0 sec</td>\n",
       "    </tr>\n",
       "    <tr>\n",
       "      <th>5th</th>\n",
       "      <td>Past</td>\n",
       "      <td>22Jun2020</td>\n",
       "      <td>03Jul2020</td>\n",
       "      <td>330457362</td>\n",
       "      <td>SIR-F</td>\n",
       "      <td>1.03</td>\n",
       "      <td>0.018470</td>\n",
       "      <td>0.000004</td>\n",
       "      <td>0.002736</td>\n",
       "      <td>0.002599</td>\n",
       "      <td>360</td>\n",
       "      <td>96</td>\n",
       "      <td>91</td>\n",
       "      <td>0.018</td>\n",
       "      <td>68316</td>\n",
       "      <td>0.062681</td>\n",
       "      <td>1322</td>\n",
       "      <td>1 min  0 sec</td>\n",
       "    </tr>\n",
       "    <tr>\n",
       "      <th>6th</th>\n",
       "      <td>Past</td>\n",
       "      <td>04Jul2020</td>\n",
       "      <td>17Jul2020</td>\n",
       "      <td>330457362</td>\n",
       "      <td>SIR-F</td>\n",
       "      <td>0.82</td>\n",
       "      <td>0.025150</td>\n",
       "      <td>0.000002</td>\n",
       "      <td>0.002209</td>\n",
       "      <td>0.002617</td>\n",
       "      <td>360</td>\n",
       "      <td>95</td>\n",
       "      <td>113</td>\n",
       "      <td>0.025</td>\n",
       "      <td>103465</td>\n",
       "      <td>0.069530</td>\n",
       "      <td>1443</td>\n",
       "      <td>1 min  0 sec</td>\n",
       "    </tr>\n",
       "    <tr>\n",
       "      <th>7th</th>\n",
       "      <td>Past</td>\n",
       "      <td>18Jul2020</td>\n",
       "      <td>31Jul2020</td>\n",
       "      <td>330457362</td>\n",
       "      <td>SIR-F</td>\n",
       "      <td>0.76</td>\n",
       "      <td>0.000031</td>\n",
       "      <td>0.000041</td>\n",
       "      <td>0.001834</td>\n",
       "      <td>0.002377</td>\n",
       "      <td>360</td>\n",
       "      <td>105</td>\n",
       "      <td>136</td>\n",
       "      <td>0.000</td>\n",
       "      <td>6131</td>\n",
       "      <td>0.060525</td>\n",
       "      <td>1362</td>\n",
       "      <td>1 min  0 sec</td>\n",
       "    </tr>\n",
       "    <tr>\n",
       "      <th>8th</th>\n",
       "      <td>Past</td>\n",
       "      <td>01Aug2020</td>\n",
       "      <td>15Aug2020</td>\n",
       "      <td>330457362</td>\n",
       "      <td>SIR-F</td>\n",
       "      <td>0.73</td>\n",
       "      <td>0.016638</td>\n",
       "      <td>0.000011</td>\n",
       "      <td>0.001426</td>\n",
       "      <td>0.001913</td>\n",
       "      <td>360</td>\n",
       "      <td>130</td>\n",
       "      <td>175</td>\n",
       "      <td>0.017</td>\n",
       "      <td>22598</td>\n",
       "      <td>0.056319</td>\n",
       "      <td>1334</td>\n",
       "      <td>1 min  0 sec</td>\n",
       "    </tr>\n",
       "    <tr>\n",
       "      <th>9th</th>\n",
       "      <td>Past</td>\n",
       "      <td>16Aug2020</td>\n",
       "      <td>02Sep2020</td>\n",
       "      <td>330457362</td>\n",
       "      <td>SIR-F</td>\n",
       "      <td>0.87</td>\n",
       "      <td>0.019479</td>\n",
       "      <td>0.000002</td>\n",
       "      <td>0.001273</td>\n",
       "      <td>0.001426</td>\n",
       "      <td>360</td>\n",
       "      <td>175</td>\n",
       "      <td>196</td>\n",
       "      <td>0.019</td>\n",
       "      <td>132403</td>\n",
       "      <td>0.053140</td>\n",
       "      <td>1358</td>\n",
       "      <td>1 min  0 sec</td>\n",
       "    </tr>\n",
       "    <tr>\n",
       "      <th>10th</th>\n",
       "      <td>Past</td>\n",
       "      <td>03Sep2020</td>\n",
       "      <td>18Sep2020</td>\n",
       "      <td>330457362</td>\n",
       "      <td>SIR-F</td>\n",
       "      <td>1.02</td>\n",
       "      <td>0.001628</td>\n",
       "      <td>0.000021</td>\n",
       "      <td>0.001279</td>\n",
       "      <td>0.001232</td>\n",
       "      <td>360</td>\n",
       "      <td>202</td>\n",
       "      <td>195</td>\n",
       "      <td>0.002</td>\n",
       "      <td>11747</td>\n",
       "      <td>0.038815</td>\n",
       "      <td>1287</td>\n",
       "      <td>1 min  0 sec</td>\n",
       "    </tr>\n",
       "    <tr>\n",
       "      <th>11th</th>\n",
       "      <td>Past</td>\n",
       "      <td>19Sep2020</td>\n",
       "      <td>02Oct2020</td>\n",
       "      <td>330457362</td>\n",
       "      <td>SIR-F</td>\n",
       "      <td>1.48</td>\n",
       "      <td>0.023541</td>\n",
       "      <td>0.000002</td>\n",
       "      <td>0.001507</td>\n",
       "      <td>0.000992</td>\n",
       "      <td>360</td>\n",
       "      <td>252</td>\n",
       "      <td>165</td>\n",
       "      <td>0.024</td>\n",
       "      <td>132403</td>\n",
       "      <td>0.030039</td>\n",
       "      <td>1348</td>\n",
       "      <td>1 min  0 sec</td>\n",
       "    </tr>\n",
       "    <tr>\n",
       "      <th>12th</th>\n",
       "      <td>Past</td>\n",
       "      <td>03Oct2020</td>\n",
       "      <td>13Oct2020</td>\n",
       "      <td>330457362</td>\n",
       "      <td>SIR-F</td>\n",
       "      <td>2.58</td>\n",
       "      <td>0.001623</td>\n",
       "      <td>0.000024</td>\n",
       "      <td>0.002285</td>\n",
       "      <td>0.000860</td>\n",
       "      <td>360</td>\n",
       "      <td>290</td>\n",
       "      <td>109</td>\n",
       "      <td>0.002</td>\n",
       "      <td>10531</td>\n",
       "      <td>0.012538</td>\n",
       "      <td>980</td>\n",
       "      <td>0 min 40 sec</td>\n",
       "    </tr>\n",
       "    <tr>\n",
       "      <th rowspan=\"13\" valign=\"top\">Bolivia</th>\n",
       "      <th>0th</th>\n",
       "      <td>Past</td>\n",
       "      <td>01Apr2020</td>\n",
       "      <td>13Jun2020</td>\n",
       "      <td>11353142</td>\n",
       "      <td>SIR-F</td>\n",
       "      <td>8.49</td>\n",
       "      <td>0.000948</td>\n",
       "      <td>0.000813</td>\n",
       "      <td>0.020592</td>\n",
       "      <td>0.001611</td>\n",
       "      <td>360</td>\n",
       "      <td>155</td>\n",
       "      <td>12</td>\n",
       "      <td>0.001</td>\n",
       "      <td>307</td>\n",
       "      <td>1.344826</td>\n",
       "      <td>1362</td>\n",
       "      <td>1 min  0 sec</td>\n",
       "    </tr>\n",
       "    <tr>\n",
       "      <th>1st</th>\n",
       "      <td>Past</td>\n",
       "      <td>14Jun2020</td>\n",
       "      <td>25Jun2020</td>\n",
       "      <td>11353142</td>\n",
       "      <td>SIR-F</td>\n",
       "      <td>2.26</td>\n",
       "      <td>0.000626</td>\n",
       "      <td>0.000399</td>\n",
       "      <td>0.012805</td>\n",
       "      <td>0.005262</td>\n",
       "      <td>360</td>\n",
       "      <td>47</td>\n",
       "      <td>19</td>\n",
       "      <td>0.001</td>\n",
       "      <td>626</td>\n",
       "      <td>0.029513</td>\n",
       "      <td>1328</td>\n",
       "      <td>1 min  0 sec</td>\n",
       "    </tr>\n",
       "    <tr>\n",
       "      <th>2nd</th>\n",
       "      <td>Past</td>\n",
       "      <td>26Jun2020</td>\n",
       "      <td>05Jul2020</td>\n",
       "      <td>11353142</td>\n",
       "      <td>SIR-F</td>\n",
       "      <td>2.45</td>\n",
       "      <td>0.044230</td>\n",
       "      <td>0.000059</td>\n",
       "      <td>0.012148</td>\n",
       "      <td>0.004679</td>\n",
       "      <td>360</td>\n",
       "      <td>53</td>\n",
       "      <td>20</td>\n",
       "      <td>0.044</td>\n",
       "      <td>4220</td>\n",
       "      <td>0.013818</td>\n",
       "      <td>336</td>\n",
       "      <td>0 min 10 sec</td>\n",
       "    </tr>\n",
       "    <tr>\n",
       "      <th>3rd</th>\n",
       "      <td>Past</td>\n",
       "      <td>06Jul2020</td>\n",
       "      <td>14Jul2020</td>\n",
       "      <td>11353142</td>\n",
       "      <td>SIR-F</td>\n",
       "      <td>2.51</td>\n",
       "      <td>0.034514</td>\n",
       "      <td>0.000090</td>\n",
       "      <td>0.011014</td>\n",
       "      <td>0.004147</td>\n",
       "      <td>360</td>\n",
       "      <td>60</td>\n",
       "      <td>22</td>\n",
       "      <td>0.035</td>\n",
       "      <td>2775</td>\n",
       "      <td>0.005777</td>\n",
       "      <td>811</td>\n",
       "      <td>0 min 30 sec</td>\n",
       "    </tr>\n",
       "    <tr>\n",
       "      <th>4th</th>\n",
       "      <td>Past</td>\n",
       "      <td>15Jul2020</td>\n",
       "      <td>22Jul2020</td>\n",
       "      <td>11353142</td>\n",
       "      <td>SIR-F</td>\n",
       "      <td>3.86</td>\n",
       "      <td>0.019621</td>\n",
       "      <td>0.000152</td>\n",
       "      <td>0.011453</td>\n",
       "      <td>0.002754</td>\n",
       "      <td>360</td>\n",
       "      <td>90</td>\n",
       "      <td>21</td>\n",
       "      <td>0.020</td>\n",
       "      <td>1649</td>\n",
       "      <td>0.018035</td>\n",
       "      <td>1281</td>\n",
       "      <td>1 min  0 sec</td>\n",
       "    </tr>\n",
       "    <tr>\n",
       "      <th>5th</th>\n",
       "      <td>Past</td>\n",
       "      <td>23Jul2020</td>\n",
       "      <td>31Jul2020</td>\n",
       "      <td>11353142</td>\n",
       "      <td>SIR-F</td>\n",
       "      <td>2.81</td>\n",
       "      <td>0.017183</td>\n",
       "      <td>0.000237</td>\n",
       "      <td>0.007699</td>\n",
       "      <td>0.002454</td>\n",
       "      <td>360</td>\n",
       "      <td>101</td>\n",
       "      <td>32</td>\n",
       "      <td>0.017</td>\n",
       "      <td>1055</td>\n",
       "      <td>0.008125</td>\n",
       "      <td>291</td>\n",
       "      <td>0 min 10 sec</td>\n",
       "    </tr>\n",
       "    <tr>\n",
       "      <th>6th</th>\n",
       "      <td>Past</td>\n",
       "      <td>01Aug2020</td>\n",
       "      <td>09Aug2020</td>\n",
       "      <td>11353142</td>\n",
       "      <td>SIR-F</td>\n",
       "      <td>1.86</td>\n",
       "      <td>0.039504</td>\n",
       "      <td>0.000054</td>\n",
       "      <td>0.006684</td>\n",
       "      <td>0.003397</td>\n",
       "      <td>360</td>\n",
       "      <td>73</td>\n",
       "      <td>37</td>\n",
       "      <td>0.040</td>\n",
       "      <td>4601</td>\n",
       "      <td>0.016880</td>\n",
       "      <td>155</td>\n",
       "      <td>0 min  5 sec</td>\n",
       "    </tr>\n",
       "    <tr>\n",
       "      <th>7th</th>\n",
       "      <td>Past</td>\n",
       "      <td>10Aug2020</td>\n",
       "      <td>17Aug2020</td>\n",
       "      <td>11353142</td>\n",
       "      <td>SIR-F</td>\n",
       "      <td>1.24</td>\n",
       "      <td>0.018271</td>\n",
       "      <td>0.000162</td>\n",
       "      <td>0.005346</td>\n",
       "      <td>0.004059</td>\n",
       "      <td>360</td>\n",
       "      <td>61</td>\n",
       "      <td>46</td>\n",
       "      <td>0.018</td>\n",
       "      <td>1542</td>\n",
       "      <td>0.010728</td>\n",
       "      <td>262</td>\n",
       "      <td>0 min 10 sec</td>\n",
       "    </tr>\n",
       "    <tr>\n",
       "      <th>8th</th>\n",
       "      <td>Past</td>\n",
       "      <td>18Aug2020</td>\n",
       "      <td>25Aug2020</td>\n",
       "      <td>11353142</td>\n",
       "      <td>SIR-F</td>\n",
       "      <td>0.68</td>\n",
       "      <td>0.000655</td>\n",
       "      <td>0.000256</td>\n",
       "      <td>0.004274</td>\n",
       "      <td>0.006041</td>\n",
       "      <td>360</td>\n",
       "      <td>41</td>\n",
       "      <td>58</td>\n",
       "      <td>0.001</td>\n",
       "      <td>976</td>\n",
       "      <td>0.015997</td>\n",
       "      <td>578</td>\n",
       "      <td>0 min 20 sec</td>\n",
       "    </tr>\n",
       "    <tr>\n",
       "      <th>9th</th>\n",
       "      <td>Past</td>\n",
       "      <td>26Aug2020</td>\n",
       "      <td>02Sep2020</td>\n",
       "      <td>11353142</td>\n",
       "      <td>SIR-F</td>\n",
       "      <td>0.43</td>\n",
       "      <td>0.019029</td>\n",
       "      <td>0.000237</td>\n",
       "      <td>0.004146</td>\n",
       "      <td>0.009276</td>\n",
       "      <td>360</td>\n",
       "      <td>26</td>\n",
       "      <td>60</td>\n",
       "      <td>0.019</td>\n",
       "      <td>1054</td>\n",
       "      <td>0.004036</td>\n",
       "      <td>289</td>\n",
       "      <td>0 min 10 sec</td>\n",
       "    </tr>\n",
       "    <tr>\n",
       "      <th>10th</th>\n",
       "      <td>Past</td>\n",
       "      <td>03Sep2020</td>\n",
       "      <td>10Sep2020</td>\n",
       "      <td>11353142</td>\n",
       "      <td>SIR-F</td>\n",
       "      <td>0.31</td>\n",
       "      <td>0.182304</td>\n",
       "      <td>0.000846</td>\n",
       "      <td>0.004662</td>\n",
       "      <td>0.011317</td>\n",
       "      <td>360</td>\n",
       "      <td>22</td>\n",
       "      <td>53</td>\n",
       "      <td>0.182</td>\n",
       "      <td>295</td>\n",
       "      <td>0.043770</td>\n",
       "      <td>543</td>\n",
       "      <td>0 min 20 sec</td>\n",
       "    </tr>\n",
       "    <tr>\n",
       "      <th>11th</th>\n",
       "      <td>Past</td>\n",
       "      <td>11Sep2020</td>\n",
       "      <td>22Sep2020</td>\n",
       "      <td>11353142</td>\n",
       "      <td>SIR-F</td>\n",
       "      <td>0.61</td>\n",
       "      <td>0.001716</td>\n",
       "      <td>0.000191</td>\n",
       "      <td>0.003928</td>\n",
       "      <td>0.006263</td>\n",
       "      <td>360</td>\n",
       "      <td>39</td>\n",
       "      <td>63</td>\n",
       "      <td>0.002</td>\n",
       "      <td>1309</td>\n",
       "      <td>0.014714</td>\n",
       "      <td>196</td>\n",
       "      <td>0 min  5 sec</td>\n",
       "    </tr>\n",
       "    <tr>\n",
       "      <th>12th</th>\n",
       "      <td>Past</td>\n",
       "      <td>23Sep2020</td>\n",
       "      <td>13Oct2020</td>\n",
       "      <td>11353142</td>\n",
       "      <td>SIR-F</td>\n",
       "      <td>0.58</td>\n",
       "      <td>0.059281</td>\n",
       "      <td>0.000093</td>\n",
       "      <td>0.002388</td>\n",
       "      <td>0.003758</td>\n",
       "      <td>360</td>\n",
       "      <td>66</td>\n",
       "      <td>104</td>\n",
       "      <td>0.059</td>\n",
       "      <td>2699</td>\n",
       "      <td>0.017462</td>\n",
       "      <td>146</td>\n",
       "      <td>0 min  5 sec</td>\n",
       "    </tr>\n",
       "    <tr>\n",
       "      <th rowspan=\"13\" valign=\"top\">Iran</th>\n",
       "      <th>0th</th>\n",
       "      <td>Past</td>\n",
       "      <td>26Feb2020</td>\n",
       "      <td>29Mar2020</td>\n",
       "      <td>81800269</td>\n",
       "      <td>SIR-F</td>\n",
       "      <td>5.51</td>\n",
       "      <td>0.263890</td>\n",
       "      <td>0.000318</td>\n",
       "      <td>0.051940</td>\n",
       "      <td>0.006619</td>\n",
       "      <td>360</td>\n",
       "      <td>37</td>\n",
       "      <td>4</td>\n",
       "      <td>0.264</td>\n",
       "      <td>786</td>\n",
       "      <td>4.404922</td>\n",
       "      <td>1385</td>\n",
       "      <td>1 min  0 sec</td>\n",
       "    </tr>\n",
       "    <tr>\n",
       "      <th>1st</th>\n",
       "      <td>Past</td>\n",
       "      <td>30Mar2020</td>\n",
       "      <td>17Apr2020</td>\n",
       "      <td>81800269</td>\n",
       "      <td>SIR-F</td>\n",
       "      <td>0.93</td>\n",
       "      <td>0.043544</td>\n",
       "      <td>0.000555</td>\n",
       "      <td>0.018757</td>\n",
       "      <td>0.018635</td>\n",
       "      <td>360</td>\n",
       "      <td>13</td>\n",
       "      <td>13</td>\n",
       "      <td>0.044</td>\n",
       "      <td>450</td>\n",
       "      <td>0.228236</td>\n",
       "      <td>1319</td>\n",
       "      <td>1 min  0 sec</td>\n",
       "    </tr>\n",
       "    <tr>\n",
       "      <th>2nd</th>\n",
       "      <td>Past</td>\n",
       "      <td>18Apr2020</td>\n",
       "      <td>13May2020</td>\n",
       "      <td>81800269</td>\n",
       "      <td>SIR-F</td>\n",
       "      <td>0.79</td>\n",
       "      <td>0.044083</td>\n",
       "      <td>0.000299</td>\n",
       "      <td>0.018649</td>\n",
       "      <td>0.022306</td>\n",
       "      <td>360</td>\n",
       "      <td>11</td>\n",
       "      <td>13</td>\n",
       "      <td>0.044</td>\n",
       "      <td>835</td>\n",
       "      <td>0.140942</td>\n",
       "      <td>255</td>\n",
       "      <td>0 min 10 sec</td>\n",
       "    </tr>\n",
       "    <tr>\n",
       "      <th>3rd</th>\n",
       "      <td>Past</td>\n",
       "      <td>14May2020</td>\n",
       "      <td>31May2020</td>\n",
       "      <td>81800269</td>\n",
       "      <td>SIR-F</td>\n",
       "      <td>1.29</td>\n",
       "      <td>0.020228</td>\n",
       "      <td>0.000162</td>\n",
       "      <td>0.025894</td>\n",
       "      <td>0.019500</td>\n",
       "      <td>360</td>\n",
       "      <td>12</td>\n",
       "      <td>9</td>\n",
       "      <td>0.020</td>\n",
       "      <td>1543</td>\n",
       "      <td>0.035904</td>\n",
       "      <td>306</td>\n",
       "      <td>0 min 10 sec</td>\n",
       "    </tr>\n",
       "    <tr>\n",
       "      <th>4th</th>\n",
       "      <td>Past</td>\n",
       "      <td>01Jun2020</td>\n",
       "      <td>16Jun2020</td>\n",
       "      <td>81800269</td>\n",
       "      <td>SIR-F</td>\n",
       "      <td>1.16</td>\n",
       "      <td>0.000198</td>\n",
       "      <td>0.000544</td>\n",
       "      <td>0.020854</td>\n",
       "      <td>0.017376</td>\n",
       "      <td>360</td>\n",
       "      <td>14</td>\n",
       "      <td>11</td>\n",
       "      <td>0.000</td>\n",
       "      <td>459</td>\n",
       "      <td>0.042501</td>\n",
       "      <td>1402</td>\n",
       "      <td>1 min  0 sec</td>\n",
       "    </tr>\n",
       "    <tr>\n",
       "      <th>5th</th>\n",
       "      <td>Past</td>\n",
       "      <td>17Jun2020</td>\n",
       "      <td>01Jul2020</td>\n",
       "      <td>81800269</td>\n",
       "      <td>SIR-F</td>\n",
       "      <td>0.93</td>\n",
       "      <td>0.029297</td>\n",
       "      <td>0.000316</td>\n",
       "      <td>0.021715</td>\n",
       "      <td>0.022390</td>\n",
       "      <td>360</td>\n",
       "      <td>11</td>\n",
       "      <td>11</td>\n",
       "      <td>0.029</td>\n",
       "      <td>792</td>\n",
       "      <td>0.023870</td>\n",
       "      <td>1226</td>\n",
       "      <td>1 min  0 sec</td>\n",
       "    </tr>\n",
       "    <tr>\n",
       "      <th>6th</th>\n",
       "      <td>Past</td>\n",
       "      <td>02Jul2020</td>\n",
       "      <td>16Jul2020</td>\n",
       "      <td>81800269</td>\n",
       "      <td>SIR-F</td>\n",
       "      <td>0.92</td>\n",
       "      <td>0.048817</td>\n",
       "      <td>0.000520</td>\n",
       "      <td>0.023954</td>\n",
       "      <td>0.024373</td>\n",
       "      <td>360</td>\n",
       "      <td>10</td>\n",
       "      <td>10</td>\n",
       "      <td>0.049</td>\n",
       "      <td>480</td>\n",
       "      <td>0.027572</td>\n",
       "      <td>152</td>\n",
       "      <td>0 min  5 sec</td>\n",
       "    </tr>\n",
       "    <tr>\n",
       "      <th>7th</th>\n",
       "      <td>Past</td>\n",
       "      <td>17Jul2020</td>\n",
       "      <td>31Jul2020</td>\n",
       "      <td>81800269</td>\n",
       "      <td>SIR-F</td>\n",
       "      <td>1.03</td>\n",
       "      <td>0.061983</td>\n",
       "      <td>0.000542</td>\n",
       "      <td>0.028007</td>\n",
       "      <td>0.024905</td>\n",
       "      <td>360</td>\n",
       "      <td>10</td>\n",
       "      <td>8</td>\n",
       "      <td>0.062</td>\n",
       "      <td>461</td>\n",
       "      <td>0.036249</td>\n",
       "      <td>155</td>\n",
       "      <td>0 min  5 sec</td>\n",
       "    </tr>\n",
       "    <tr>\n",
       "      <th>8th</th>\n",
       "      <td>Past</td>\n",
       "      <td>01Aug2020</td>\n",
       "      <td>16Aug2020</td>\n",
       "      <td>81800269</td>\n",
       "      <td>SIR-F</td>\n",
       "      <td>1.06</td>\n",
       "      <td>0.059147</td>\n",
       "      <td>0.000327</td>\n",
       "      <td>0.025367</td>\n",
       "      <td>0.022242</td>\n",
       "      <td>360</td>\n",
       "      <td>11</td>\n",
       "      <td>9</td>\n",
       "      <td>0.059</td>\n",
       "      <td>764</td>\n",
       "      <td>0.022493</td>\n",
       "      <td>274</td>\n",
       "      <td>0 min 10 sec</td>\n",
       "    </tr>\n",
       "    <tr>\n",
       "      <th>9th</th>\n",
       "      <td>Past</td>\n",
       "      <td>17Aug2020</td>\n",
       "      <td>03Sep2020</td>\n",
       "      <td>81800269</td>\n",
       "      <td>SIR-F</td>\n",
       "      <td>1.19</td>\n",
       "      <td>0.030502</td>\n",
       "      <td>0.000560</td>\n",
       "      <td>0.018908</td>\n",
       "      <td>0.014846</td>\n",
       "      <td>360</td>\n",
       "      <td>16</td>\n",
       "      <td>13</td>\n",
       "      <td>0.031</td>\n",
       "      <td>446</td>\n",
       "      <td>0.024076</td>\n",
       "      <td>1324</td>\n",
       "      <td>1 min  0 sec</td>\n",
       "    </tr>\n",
       "    <tr>\n",
       "      <th>10th</th>\n",
       "      <td>Past</td>\n",
       "      <td>04Sep2020</td>\n",
       "      <td>19Sep2020</td>\n",
       "      <td>81800269</td>\n",
       "      <td>SIR-F</td>\n",
       "      <td>1.19</td>\n",
       "      <td>0.051247</td>\n",
       "      <td>0.000076</td>\n",
       "      <td>0.018051</td>\n",
       "      <td>0.014277</td>\n",
       "      <td>360</td>\n",
       "      <td>17</td>\n",
       "      <td>13</td>\n",
       "      <td>0.051</td>\n",
       "      <td>3295</td>\n",
       "      <td>0.018401</td>\n",
       "      <td>1348</td>\n",
       "      <td>1 min  0 sec</td>\n",
       "    </tr>\n",
       "    <tr>\n",
       "      <th>11th</th>\n",
       "      <td>Past</td>\n",
       "      <td>20Sep2020</td>\n",
       "      <td>30Sep2020</td>\n",
       "      <td>81800269</td>\n",
       "      <td>SIR-F</td>\n",
       "      <td>1.53</td>\n",
       "      <td>0.021958</td>\n",
       "      <td>0.000865</td>\n",
       "      <td>0.020553</td>\n",
       "      <td>0.012307</td>\n",
       "      <td>360</td>\n",
       "      <td>20</td>\n",
       "      <td>12</td>\n",
       "      <td>0.022</td>\n",
       "      <td>289</td>\n",
       "      <td>0.010233</td>\n",
       "      <td>182</td>\n",
       "      <td>0 min  5 sec</td>\n",
       "    </tr>\n",
       "    <tr>\n",
       "      <th>12th</th>\n",
       "      <td>Past</td>\n",
       "      <td>01Oct2020</td>\n",
       "      <td>13Oct2020</td>\n",
       "      <td>81800269</td>\n",
       "      <td>SIR-F</td>\n",
       "      <td>1.51</td>\n",
       "      <td>0.031741</td>\n",
       "      <td>0.000415</td>\n",
       "      <td>0.016628</td>\n",
       "      <td>0.010250</td>\n",
       "      <td>360</td>\n",
       "      <td>24</td>\n",
       "      <td>15</td>\n",
       "      <td>0.032</td>\n",
       "      <td>601</td>\n",
       "      <td>0.013985</td>\n",
       "      <td>310</td>\n",
       "      <td>0 min 10 sec</td>\n",
       "    </tr>\n",
       "  </tbody>\n",
       "</table>\n",
       "</div>"
      ],
      "text/plain": [
       "               Type      Start        End  Population    ODE    Rt     theta  \\\n",
       "Country Phase                                                                  \n",
       "Russia  0th    Past  12Feb2020  06May2020   330457362  SIR-F  0.02  0.602763   \n",
       "        1st    Past  07May2020  18May2020   330457362  SIR-F  2.85  0.001806   \n",
       "        2nd    Past  19May2020  29May2020   330457362  SIR-F  1.03  0.000337   \n",
       "        3rd    Past  30May2020  10Jun2020   330457362  SIR-F  1.03  0.018709   \n",
       "        4th    Past  11Jun2020  21Jun2020   330457362  SIR-F  1.16  0.000806   \n",
       "        5th    Past  22Jun2020  03Jul2020   330457362  SIR-F  1.03  0.018470   \n",
       "        6th    Past  04Jul2020  17Jul2020   330457362  SIR-F  0.82  0.025150   \n",
       "        7th    Past  18Jul2020  31Jul2020   330457362  SIR-F  0.76  0.000031   \n",
       "        8th    Past  01Aug2020  15Aug2020   330457362  SIR-F  0.73  0.016638   \n",
       "        9th    Past  16Aug2020  02Sep2020   330457362  SIR-F  0.87  0.019479   \n",
       "        10th   Past  03Sep2020  18Sep2020   330457362  SIR-F  1.02  0.001628   \n",
       "        11th   Past  19Sep2020  02Oct2020   330457362  SIR-F  1.48  0.023541   \n",
       "        12th   Past  03Oct2020  13Oct2020   330457362  SIR-F  2.58  0.001623   \n",
       "Bolivia 0th    Past  01Apr2020  13Jun2020    11353142  SIR-F  8.49  0.000948   \n",
       "        1st    Past  14Jun2020  25Jun2020    11353142  SIR-F  2.26  0.000626   \n",
       "        2nd    Past  26Jun2020  05Jul2020    11353142  SIR-F  2.45  0.044230   \n",
       "        3rd    Past  06Jul2020  14Jul2020    11353142  SIR-F  2.51  0.034514   \n",
       "        4th    Past  15Jul2020  22Jul2020    11353142  SIR-F  3.86  0.019621   \n",
       "        5th    Past  23Jul2020  31Jul2020    11353142  SIR-F  2.81  0.017183   \n",
       "        6th    Past  01Aug2020  09Aug2020    11353142  SIR-F  1.86  0.039504   \n",
       "        7th    Past  10Aug2020  17Aug2020    11353142  SIR-F  1.24  0.018271   \n",
       "        8th    Past  18Aug2020  25Aug2020    11353142  SIR-F  0.68  0.000655   \n",
       "        9th    Past  26Aug2020  02Sep2020    11353142  SIR-F  0.43  0.019029   \n",
       "        10th   Past  03Sep2020  10Sep2020    11353142  SIR-F  0.31  0.182304   \n",
       "        11th   Past  11Sep2020  22Sep2020    11353142  SIR-F  0.61  0.001716   \n",
       "        12th   Past  23Sep2020  13Oct2020    11353142  SIR-F  0.58  0.059281   \n",
       "Iran    0th    Past  26Feb2020  29Mar2020    81800269  SIR-F  5.51  0.263890   \n",
       "        1st    Past  30Mar2020  17Apr2020    81800269  SIR-F  0.93  0.043544   \n",
       "        2nd    Past  18Apr2020  13May2020    81800269  SIR-F  0.79  0.044083   \n",
       "        3rd    Past  14May2020  31May2020    81800269  SIR-F  1.29  0.020228   \n",
       "        4th    Past  01Jun2020  16Jun2020    81800269  SIR-F  1.16  0.000198   \n",
       "        5th    Past  17Jun2020  01Jul2020    81800269  SIR-F  0.93  0.029297   \n",
       "        6th    Past  02Jul2020  16Jul2020    81800269  SIR-F  0.92  0.048817   \n",
       "        7th    Past  17Jul2020  31Jul2020    81800269  SIR-F  1.03  0.061983   \n",
       "        8th    Past  01Aug2020  16Aug2020    81800269  SIR-F  1.06  0.059147   \n",
       "        9th    Past  17Aug2020  03Sep2020    81800269  SIR-F  1.19  0.030502   \n",
       "        10th   Past  04Sep2020  19Sep2020    81800269  SIR-F  1.19  0.051247   \n",
       "        11th   Past  20Sep2020  30Sep2020    81800269  SIR-F  1.53  0.021958   \n",
       "        12th   Past  01Oct2020  13Oct2020    81800269  SIR-F  1.51  0.031741   \n",
       "\n",
       "                  kappa       rho     sigma  tau  1/gamma [day]  1/beta [day]  \\\n",
       "Country Phase                                                                   \n",
       "Russia  0th    0.544883  0.034081  0.002299  360            108             7   \n",
       "        1st    0.000093  0.013110  0.004495  360             55            19   \n",
       "        2nd    0.000113  0.006707  0.006392  360             39            37   \n",
       "        3rd    0.000011  0.004809  0.004563  360             54            51   \n",
       "        4th    0.000077  0.003764  0.003162  360             79            66   \n",
       "        5th    0.000004  0.002736  0.002599  360             96            91   \n",
       "        6th    0.000002  0.002209  0.002617  360             95           113   \n",
       "        7th    0.000041  0.001834  0.002377  360            105           136   \n",
       "        8th    0.000011  0.001426  0.001913  360            130           175   \n",
       "        9th    0.000002  0.001273  0.001426  360            175           196   \n",
       "        10th   0.000021  0.001279  0.001232  360            202           195   \n",
       "        11th   0.000002  0.001507  0.000992  360            252           165   \n",
       "        12th   0.000024  0.002285  0.000860  360            290           109   \n",
       "Bolivia 0th    0.000813  0.020592  0.001611  360            155            12   \n",
       "        1st    0.000399  0.012805  0.005262  360             47            19   \n",
       "        2nd    0.000059  0.012148  0.004679  360             53            20   \n",
       "        3rd    0.000090  0.011014  0.004147  360             60            22   \n",
       "        4th    0.000152  0.011453  0.002754  360             90            21   \n",
       "        5th    0.000237  0.007699  0.002454  360            101            32   \n",
       "        6th    0.000054  0.006684  0.003397  360             73            37   \n",
       "        7th    0.000162  0.005346  0.004059  360             61            46   \n",
       "        8th    0.000256  0.004274  0.006041  360             41            58   \n",
       "        9th    0.000237  0.004146  0.009276  360             26            60   \n",
       "        10th   0.000846  0.004662  0.011317  360             22            53   \n",
       "        11th   0.000191  0.003928  0.006263  360             39            63   \n",
       "        12th   0.000093  0.002388  0.003758  360             66           104   \n",
       "Iran    0th    0.000318  0.051940  0.006619  360             37             4   \n",
       "        1st    0.000555  0.018757  0.018635  360             13            13   \n",
       "        2nd    0.000299  0.018649  0.022306  360             11            13   \n",
       "        3rd    0.000162  0.025894  0.019500  360             12             9   \n",
       "        4th    0.000544  0.020854  0.017376  360             14            11   \n",
       "        5th    0.000316  0.021715  0.022390  360             11            11   \n",
       "        6th    0.000520  0.023954  0.024373  360             10            10   \n",
       "        7th    0.000542  0.028007  0.024905  360             10             8   \n",
       "        8th    0.000327  0.025367  0.022242  360             11             9   \n",
       "        9th    0.000560  0.018908  0.014846  360             16            13   \n",
       "        10th   0.000076  0.018051  0.014277  360             17            13   \n",
       "        11th   0.000865  0.020553  0.012307  360             20            12   \n",
       "        12th   0.000415  0.016628  0.010250  360             24            15   \n",
       "\n",
       "               alpha1 [-]  1/alpha2 [day]      RMSLE  Trials       Runtime  \n",
       "Country Phase                                                               \n",
       "Russia  0th         0.603               0  18.966727    1422  1 min  0 sec  \n",
       "        1st         0.002            2675   0.087751    1364  1 min  0 sec  \n",
       "        2nd         0.000            2208   0.111343    1429  1 min  0 sec  \n",
       "        3rd         0.019           22593   0.098037    1348  1 min  0 sec  \n",
       "        4th         0.001            3227   0.060768    1324  1 min  0 sec  \n",
       "        5th         0.018           68316   0.062681    1322  1 min  0 sec  \n",
       "        6th         0.025          103465   0.069530    1443  1 min  0 sec  \n",
       "        7th         0.000            6131   0.060525    1362  1 min  0 sec  \n",
       "        8th         0.017           22598   0.056319    1334  1 min  0 sec  \n",
       "        9th         0.019          132403   0.053140    1358  1 min  0 sec  \n",
       "        10th        0.002           11747   0.038815    1287  1 min  0 sec  \n",
       "        11th        0.024          132403   0.030039    1348  1 min  0 sec  \n",
       "        12th        0.002           10531   0.012538     980  0 min 40 sec  \n",
       "Bolivia 0th         0.001             307   1.344826    1362  1 min  0 sec  \n",
       "        1st         0.001             626   0.029513    1328  1 min  0 sec  \n",
       "        2nd         0.044            4220   0.013818     336  0 min 10 sec  \n",
       "        3rd         0.035            2775   0.005777     811  0 min 30 sec  \n",
       "        4th         0.020            1649   0.018035    1281  1 min  0 sec  \n",
       "        5th         0.017            1055   0.008125     291  0 min 10 sec  \n",
       "        6th         0.040            4601   0.016880     155  0 min  5 sec  \n",
       "        7th         0.018            1542   0.010728     262  0 min 10 sec  \n",
       "        8th         0.001             976   0.015997     578  0 min 20 sec  \n",
       "        9th         0.019            1054   0.004036     289  0 min 10 sec  \n",
       "        10th        0.182             295   0.043770     543  0 min 20 sec  \n",
       "        11th        0.002            1309   0.014714     196  0 min  5 sec  \n",
       "        12th        0.059            2699   0.017462     146  0 min  5 sec  \n",
       "Iran    0th         0.264             786   4.404922    1385  1 min  0 sec  \n",
       "        1st         0.044             450   0.228236    1319  1 min  0 sec  \n",
       "        2nd         0.044             835   0.140942     255  0 min 10 sec  \n",
       "        3rd         0.020            1543   0.035904     306  0 min 10 sec  \n",
       "        4th         0.000             459   0.042501    1402  1 min  0 sec  \n",
       "        5th         0.029             792   0.023870    1226  1 min  0 sec  \n",
       "        6th         0.049             480   0.027572     152  0 min  5 sec  \n",
       "        7th         0.062             461   0.036249     155  0 min  5 sec  \n",
       "        8th         0.059             764   0.022493     274  0 min 10 sec  \n",
       "        9th         0.031             446   0.024076    1324  1 min  0 sec  \n",
       "        10th        0.051            3295   0.018401    1348  1 min  0 sec  \n",
       "        11th        0.022             289   0.010233     182  0 min  5 sec  \n",
       "        12th        0.032             601   0.013985     310  0 min 10 sec  "
      ]
     },
     "execution_count": 12,
     "metadata": {},
     "output_type": "execute_result"
    }
   ],
   "source": [
    "# Show summary\n",
    "analyser.summary(countries=countries_show)"
   ]
  },
  {
   "cell_type": "markdown",
   "metadata": {},
   "source": [
    "## Compare the history of parameters\n",
    "Here, compare the history of parameter values if countries."
   ]
  },
  {
   "cell_type": "code",
   "execution_count": 13,
   "metadata": {
    "collapsed": false
   },
   "outputs": [
    {
     "data": {
      "text/html": [
       "<div>\n",
       "<style scoped>\n",
       "    .dataframe tbody tr th:only-of-type {\n",
       "        vertical-align: middle;\n",
       "    }\n",
       "\n",
       "    .dataframe tbody tr th {\n",
       "        vertical-align: top;\n",
       "    }\n",
       "\n",
       "    .dataframe thead th {\n",
       "        text-align: right;\n",
       "    }\n",
       "</style>\n",
       "<table border=\"1\" class=\"dataframe\">\n",
       "  <thead>\n",
       "    <tr style=\"text-align: right;\">\n",
       "      <th></th>\n",
       "      <th>Date</th>\n",
       "      <th>Country</th>\n",
       "      <th>theta</th>\n",
       "      <th>kappa</th>\n",
       "      <th>rho</th>\n",
       "      <th>sigma</th>\n",
       "      <th>alpha1 [-]</th>\n",
       "      <th>1/alpha2 [day]</th>\n",
       "      <th>1/beta [day]</th>\n",
       "      <th>1/gamma [day]</th>\n",
       "      <th>...</th>\n",
       "      <th>Cancel_events</th>\n",
       "      <th>Gatherings_restrictions</th>\n",
       "      <th>Transport_closing</th>\n",
       "      <th>Stay_home_restrictions</th>\n",
       "      <th>Internal_movement_restrictions</th>\n",
       "      <th>International_movement_restrictions</th>\n",
       "      <th>Information_campaigns</th>\n",
       "      <th>Testing_policy</th>\n",
       "      <th>Contact_tracing</th>\n",
       "      <th>Stringency_index</th>\n",
       "    </tr>\n",
       "  </thead>\n",
       "  <tbody>\n",
       "    <tr>\n",
       "      <th>0</th>\n",
       "      <td>2020-03-08</td>\n",
       "      <td>Kuwait</td>\n",
       "      <td>0.177924</td>\n",
       "      <td>0.000770779</td>\n",
       "      <td>0.0201615</td>\n",
       "      <td>0.00667354</td>\n",
       "      <td>0.178</td>\n",
       "      <td>324</td>\n",
       "      <td>12</td>\n",
       "      <td>37</td>\n",
       "      <td>...</td>\n",
       "      <td>1</td>\n",
       "      <td>0</td>\n",
       "      <td>0</td>\n",
       "      <td>0</td>\n",
       "      <td>0</td>\n",
       "      <td>3</td>\n",
       "      <td>2</td>\n",
       "      <td>1</td>\n",
       "      <td>2</td>\n",
       "      <td>36.11</td>\n",
       "    </tr>\n",
       "    <tr>\n",
       "      <th>1</th>\n",
       "      <td>2020-03-09</td>\n",
       "      <td>Kuwait</td>\n",
       "      <td>0.177924</td>\n",
       "      <td>0.000770779</td>\n",
       "      <td>0.0201615</td>\n",
       "      <td>0.00667354</td>\n",
       "      <td>0.178</td>\n",
       "      <td>324</td>\n",
       "      <td>12</td>\n",
       "      <td>37</td>\n",
       "      <td>...</td>\n",
       "      <td>1</td>\n",
       "      <td>0</td>\n",
       "      <td>0</td>\n",
       "      <td>0</td>\n",
       "      <td>0</td>\n",
       "      <td>3</td>\n",
       "      <td>2</td>\n",
       "      <td>1</td>\n",
       "      <td>2</td>\n",
       "      <td>36.11</td>\n",
       "    </tr>\n",
       "    <tr>\n",
       "      <th>2</th>\n",
       "      <td>2020-03-10</td>\n",
       "      <td>Kuwait</td>\n",
       "      <td>0.177924</td>\n",
       "      <td>0.000770779</td>\n",
       "      <td>0.0201615</td>\n",
       "      <td>0.00667354</td>\n",
       "      <td>0.178</td>\n",
       "      <td>324</td>\n",
       "      <td>12</td>\n",
       "      <td>37</td>\n",
       "      <td>...</td>\n",
       "      <td>2</td>\n",
       "      <td>0</td>\n",
       "      <td>0</td>\n",
       "      <td>0</td>\n",
       "      <td>0</td>\n",
       "      <td>3</td>\n",
       "      <td>2</td>\n",
       "      <td>1</td>\n",
       "      <td>2</td>\n",
       "      <td>41.67</td>\n",
       "    </tr>\n",
       "    <tr>\n",
       "      <th>3</th>\n",
       "      <td>2020-03-11</td>\n",
       "      <td>Kuwait</td>\n",
       "      <td>0.177924</td>\n",
       "      <td>0.000770779</td>\n",
       "      <td>0.0201615</td>\n",
       "      <td>0.00667354</td>\n",
       "      <td>0.178</td>\n",
       "      <td>324</td>\n",
       "      <td>12</td>\n",
       "      <td>37</td>\n",
       "      <td>...</td>\n",
       "      <td>2</td>\n",
       "      <td>4</td>\n",
       "      <td>0</td>\n",
       "      <td>0</td>\n",
       "      <td>0</td>\n",
       "      <td>3</td>\n",
       "      <td>2</td>\n",
       "      <td>2</td>\n",
       "      <td>2</td>\n",
       "      <td>60.19</td>\n",
       "    </tr>\n",
       "    <tr>\n",
       "      <th>4</th>\n",
       "      <td>2020-03-12</td>\n",
       "      <td>Kuwait</td>\n",
       "      <td>0.177924</td>\n",
       "      <td>0.000770779</td>\n",
       "      <td>0.0201615</td>\n",
       "      <td>0.00667354</td>\n",
       "      <td>0.178</td>\n",
       "      <td>324</td>\n",
       "      <td>12</td>\n",
       "      <td>37</td>\n",
       "      <td>...</td>\n",
       "      <td>2</td>\n",
       "      <td>4</td>\n",
       "      <td>2</td>\n",
       "      <td>0</td>\n",
       "      <td>0</td>\n",
       "      <td>3</td>\n",
       "      <td>2</td>\n",
       "      <td>2</td>\n",
       "      <td>2</td>\n",
       "      <td>71.30</td>\n",
       "    </tr>\n",
       "  </tbody>\n",
       "</table>\n",
       "<p>5 rows × 23 columns</p>\n",
       "</div>"
      ],
      "text/plain": [
       "        Date Country     theta        kappa        rho       sigma alpha1 [-]  \\\n",
       "0 2020-03-08  Kuwait  0.177924  0.000770779  0.0201615  0.00667354      0.178   \n",
       "1 2020-03-09  Kuwait  0.177924  0.000770779  0.0201615  0.00667354      0.178   \n",
       "2 2020-03-10  Kuwait  0.177924  0.000770779  0.0201615  0.00667354      0.178   \n",
       "3 2020-03-11  Kuwait  0.177924  0.000770779  0.0201615  0.00667354      0.178   \n",
       "4 2020-03-12  Kuwait  0.177924  0.000770779  0.0201615  0.00667354      0.178   \n",
       "\n",
       "  1/alpha2 [day] 1/beta [day] 1/gamma [day]  ... Cancel_events  \\\n",
       "0            324           12            37  ...             1   \n",
       "1            324           12            37  ...             1   \n",
       "2            324           12            37  ...             2   \n",
       "3            324           12            37  ...             2   \n",
       "4            324           12            37  ...             2   \n",
       "\n",
       "   Gatherings_restrictions  Transport_closing  Stay_home_restrictions  \\\n",
       "0                        0                  0                       0   \n",
       "1                        0                  0                       0   \n",
       "2                        0                  0                       0   \n",
       "3                        4                  0                       0   \n",
       "4                        4                  2                       0   \n",
       "\n",
       "   Internal_movement_restrictions  International_movement_restrictions  \\\n",
       "0                               0                                    3   \n",
       "1                               0                                    3   \n",
       "2                               0                                    3   \n",
       "3                               0                                    3   \n",
       "4                               0                                    3   \n",
       "\n",
       "   Information_campaigns  Testing_policy  Contact_tracing  Stringency_index  \n",
       "0                      2               1                2             36.11  \n",
       "1                      2               1                2             36.11  \n",
       "2                      2               1                2             41.67  \n",
       "3                      2               2                2             60.19  \n",
       "4                      2               2                2             71.30  \n",
       "\n",
       "[5 rows x 23 columns]"
      ]
     },
     "execution_count": 13,
     "metadata": {},
     "output_type": "execute_result"
    }
   ],
   "source": [
    "# All parameter/day parameter/Rt/OxCGRT\n",
    "analyser.track().head()"
   ]
  },
  {
   "cell_type": "markdown",
   "metadata": {},
   "source": [
    "### $Rt$: Reprodcution number $\\mathrm{[-]}$"
   ]
  },
  {
   "cell_type": "code",
   "execution_count": 14,
   "metadata": {
    "collapsed": false
   },
   "outputs": [
    {
     "data": {
      "image/png": "[encoded data removed]",
      "text/plain": [
       "<Figure size 648x432 with 1 Axes>"
      ]
     },
     "metadata": {},
     "output_type": "display_data"
    },
    {
     "data": {
      "text/html": [
       "<div>\n",
       "<style scoped>\n",
       "    .dataframe tbody tr th:only-of-type {\n",
       "        vertical-align: middle;\n",
       "    }\n",
       "\n",
       "    .dataframe tbody tr th {\n",
       "        vertical-align: top;\n",
       "    }\n",
       "\n",
       "    .dataframe thead th {\n",
       "        text-align: right;\n",
       "    }\n",
       "</style>\n",
       "<table border=\"1\" class=\"dataframe\">\n",
       "  <thead>\n",
       "    <tr style=\"text-align: right;\">\n",
       "      <th>Country</th>\n",
       "      <th>Bahrain</th>\n",
       "      <th>Bolivia</th>\n",
       "      <th>Brazil</th>\n",
       "      <th>France</th>\n",
       "      <th>Iran</th>\n",
       "      <th>Italy</th>\n",
       "      <th>Kuwait</th>\n",
       "      <th>Mexico</th>\n",
       "      <th>Nigeria</th>\n",
       "      <th>Russia</th>\n",
       "      <th>Turkey</th>\n",
       "      <th>United States</th>\n",
       "    </tr>\n",
       "    <tr>\n",
       "      <th>Date</th>\n",
       "      <th></th>\n",
       "      <th></th>\n",
       "      <th></th>\n",
       "      <th></th>\n",
       "      <th></th>\n",
       "      <th></th>\n",
       "      <th></th>\n",
       "      <th></th>\n",
       "      <th></th>\n",
       "      <th></th>\n",
       "      <th></th>\n",
       "      <th></th>\n",
       "    </tr>\n",
       "  </thead>\n",
       "  <tbody>\n",
       "    <tr>\n",
       "      <th>2020-10-09</th>\n",
       "      <td>0.81</td>\n",
       "      <td>0.58</td>\n",
       "      <td>0.96</td>\n",
       "      <td>19.36</td>\n",
       "      <td>1.51</td>\n",
       "      <td>3.66</td>\n",
       "      <td>0.9</td>\n",
       "      <td>0.99</td>\n",
       "      <td>0.76</td>\n",
       "      <td>2.58</td>\n",
       "      <td>1.11</td>\n",
       "      <td>1.93</td>\n",
       "    </tr>\n",
       "    <tr>\n",
       "      <th>2020-10-10</th>\n",
       "      <td>0.81</td>\n",
       "      <td>0.58</td>\n",
       "      <td>0.96</td>\n",
       "      <td>19.36</td>\n",
       "      <td>1.51</td>\n",
       "      <td>3.66</td>\n",
       "      <td>0.9</td>\n",
       "      <td>0.99</td>\n",
       "      <td>0.76</td>\n",
       "      <td>2.58</td>\n",
       "      <td>1.11</td>\n",
       "      <td>1.93</td>\n",
       "    </tr>\n",
       "    <tr>\n",
       "      <th>2020-10-11</th>\n",
       "      <td>0.81</td>\n",
       "      <td>0.58</td>\n",
       "      <td>0.96</td>\n",
       "      <td>19.36</td>\n",
       "      <td>1.51</td>\n",
       "      <td>3.66</td>\n",
       "      <td>0.9</td>\n",
       "      <td>0.99</td>\n",
       "      <td>0.76</td>\n",
       "      <td>2.58</td>\n",
       "      <td>1.11</td>\n",
       "      <td>1.93</td>\n",
       "    </tr>\n",
       "    <tr>\n",
       "      <th>2020-10-12</th>\n",
       "      <td>0.81</td>\n",
       "      <td>0.58</td>\n",
       "      <td>0.96</td>\n",
       "      <td>19.36</td>\n",
       "      <td>1.51</td>\n",
       "      <td>3.66</td>\n",
       "      <td>0.9</td>\n",
       "      <td>0.99</td>\n",
       "      <td>0.76</td>\n",
       "      <td>2.58</td>\n",
       "      <td>1.11</td>\n",
       "      <td>1.93</td>\n",
       "    </tr>\n",
       "    <tr>\n",
       "      <th>2020-10-13</th>\n",
       "      <td>0.81</td>\n",
       "      <td>0.58</td>\n",
       "      <td>0.96</td>\n",
       "      <td>19.36</td>\n",
       "      <td>1.51</td>\n",
       "      <td>3.66</td>\n",
       "      <td>0.9</td>\n",
       "      <td>0.99</td>\n",
       "      <td>0.76</td>\n",
       "      <td>2.58</td>\n",
       "      <td>1.11</td>\n",
       "      <td>1.93</td>\n",
       "    </tr>\n",
       "  </tbody>\n",
       "</table>\n",
       "</div>"
      ],
      "text/plain": [
       "Country     Bahrain  Bolivia  Brazil  France  Iran  Italy  Kuwait  Mexico  \\\n",
       "Date                                                                        \n",
       "2020-10-09     0.81     0.58    0.96   19.36  1.51   3.66     0.9    0.99   \n",
       "2020-10-10     0.81     0.58    0.96   19.36  1.51   3.66     0.9    0.99   \n",
       "2020-10-11     0.81     0.58    0.96   19.36  1.51   3.66     0.9    0.99   \n",
       "2020-10-12     0.81     0.58    0.96   19.36  1.51   3.66     0.9    0.99   \n",
       "2020-10-13     0.81     0.58    0.96   19.36  1.51   3.66     0.9    0.99   \n",
       "\n",
       "Country     Nigeria  Russia  Turkey  United States  \n",
       "Date                                                \n",
       "2020-10-09     0.76    2.58    1.11           1.93  \n",
       "2020-10-10     0.76    2.58    1.11           1.93  \n",
       "2020-10-11     0.76    2.58    1.11           1.93  \n",
       "2020-10-12     0.76    2.58    1.11           1.93  \n",
       "2020-10-13     0.76    2.58    1.11           1.93  "
      ]
     },
     "execution_count": 14,
     "metadata": {},
     "output_type": "execute_result"
    }
   ],
   "source": [
    "analyser.param_history(\"Rt\", roll_window=None).tail()"
   ]
  },
  {
   "cell_type": "markdown",
   "metadata": {},
   "source": [
    "### $\\rho$: Effective contact rate $\\mathrm{[-]}$"
   ]
  },
  {
   "cell_type": "code",
   "execution_count": 15,
   "metadata": {
    "collapsed": false
   },
   "outputs": [
    {
     "data": {
      "image/png": "[encoded data removed]",
      "text/plain": [
       "<Figure size 648x432 with 1 Axes>"
      ]
     },
     "metadata": {},
     "output_type": "display_data"
    },
    {
     "data": {
      "text/html": [
       "<div>\n",
       "<style scoped>\n",
       "    .dataframe tbody tr th:only-of-type {\n",
       "        vertical-align: middle;\n",
       "    }\n",
       "\n",
       "    .dataframe tbody tr th {\n",
       "        vertical-align: top;\n",
       "    }\n",
       "\n",
       "    .dataframe thead th {\n",
       "        text-align: right;\n",
       "    }\n",
       "</style>\n",
       "<table border=\"1\" class=\"dataframe\">\n",
       "  <thead>\n",
       "    <tr style=\"text-align: right;\">\n",
       "      <th>Country</th>\n",
       "      <th>Bahrain</th>\n",
       "      <th>Bolivia</th>\n",
       "      <th>Brazil</th>\n",
       "      <th>France</th>\n",
       "      <th>Iran</th>\n",
       "      <th>Italy</th>\n",
       "      <th>Kuwait</th>\n",
       "      <th>Mexico</th>\n",
       "      <th>Nigeria</th>\n",
       "      <th>Russia</th>\n",
       "      <th>Turkey</th>\n",
       "      <th>United States</th>\n",
       "    </tr>\n",
       "    <tr>\n",
       "      <th>Date</th>\n",
       "      <th></th>\n",
       "      <th></th>\n",
       "      <th></th>\n",
       "      <th></th>\n",
       "      <th></th>\n",
       "      <th></th>\n",
       "      <th></th>\n",
       "      <th></th>\n",
       "      <th></th>\n",
       "      <th></th>\n",
       "      <th></th>\n",
       "      <th></th>\n",
       "    </tr>\n",
       "  </thead>\n",
       "  <tbody>\n",
       "    <tr>\n",
       "      <th>2020-10-09</th>\n",
       "      <td>0.023792</td>\n",
       "      <td>0.002388</td>\n",
       "      <td>0.01481</td>\n",
       "      <td>0.00812</td>\n",
       "      <td>0.016628</td>\n",
       "      <td>0.015577</td>\n",
       "      <td>0.018442</td>\n",
       "      <td>0.034144</td>\n",
       "      <td>0.00347</td>\n",
       "      <td>0.002285</td>\n",
       "      <td>0.0125</td>\n",
       "      <td>0.002425</td>\n",
       "    </tr>\n",
       "    <tr>\n",
       "      <th>2020-10-10</th>\n",
       "      <td>0.023792</td>\n",
       "      <td>0.002388</td>\n",
       "      <td>0.01481</td>\n",
       "      <td>0.00812</td>\n",
       "      <td>0.016628</td>\n",
       "      <td>0.015577</td>\n",
       "      <td>0.018442</td>\n",
       "      <td>0.034144</td>\n",
       "      <td>0.00347</td>\n",
       "      <td>0.002285</td>\n",
       "      <td>0.0125</td>\n",
       "      <td>0.002425</td>\n",
       "    </tr>\n",
       "    <tr>\n",
       "      <th>2020-10-11</th>\n",
       "      <td>0.023792</td>\n",
       "      <td>0.002388</td>\n",
       "      <td>0.01481</td>\n",
       "      <td>0.00812</td>\n",
       "      <td>0.016628</td>\n",
       "      <td>0.015577</td>\n",
       "      <td>0.018442</td>\n",
       "      <td>0.034144</td>\n",
       "      <td>0.00347</td>\n",
       "      <td>0.002285</td>\n",
       "      <td>0.0125</td>\n",
       "      <td>0.002425</td>\n",
       "    </tr>\n",
       "    <tr>\n",
       "      <th>2020-10-12</th>\n",
       "      <td>0.023792</td>\n",
       "      <td>0.002388</td>\n",
       "      <td>0.01481</td>\n",
       "      <td>0.00812</td>\n",
       "      <td>0.016628</td>\n",
       "      <td>0.015577</td>\n",
       "      <td>0.018442</td>\n",
       "      <td>0.034144</td>\n",
       "      <td>0.00347</td>\n",
       "      <td>0.002285</td>\n",
       "      <td>0.0125</td>\n",
       "      <td>0.002425</td>\n",
       "    </tr>\n",
       "    <tr>\n",
       "      <th>2020-10-13</th>\n",
       "      <td>0.023792</td>\n",
       "      <td>0.002388</td>\n",
       "      <td>0.01481</td>\n",
       "      <td>0.00812</td>\n",
       "      <td>0.016628</td>\n",
       "      <td>0.015577</td>\n",
       "      <td>0.018442</td>\n",
       "      <td>0.034144</td>\n",
       "      <td>0.00347</td>\n",
       "      <td>0.002285</td>\n",
       "      <td>0.0125</td>\n",
       "      <td>0.002425</td>\n",
       "    </tr>\n",
       "  </tbody>\n",
       "</table>\n",
       "</div>"
      ],
      "text/plain": [
       "Country      Bahrain   Bolivia   Brazil   France      Iran     Italy  \\\n",
       "Date                                                                   \n",
       "2020-10-09  0.023792  0.002388  0.01481  0.00812  0.016628  0.015577   \n",
       "2020-10-10  0.023792  0.002388  0.01481  0.00812  0.016628  0.015577   \n",
       "2020-10-11  0.023792  0.002388  0.01481  0.00812  0.016628  0.015577   \n",
       "2020-10-12  0.023792  0.002388  0.01481  0.00812  0.016628  0.015577   \n",
       "2020-10-13  0.023792  0.002388  0.01481  0.00812  0.016628  0.015577   \n",
       "\n",
       "Country       Kuwait    Mexico  Nigeria    Russia  Turkey  United States  \n",
       "Date                                                                      \n",
       "2020-10-09  0.018442  0.034144  0.00347  0.002285  0.0125       0.002425  \n",
       "2020-10-10  0.018442  0.034144  0.00347  0.002285  0.0125       0.002425  \n",
       "2020-10-11  0.018442  0.034144  0.00347  0.002285  0.0125       0.002425  \n",
       "2020-10-12  0.018442  0.034144  0.00347  0.002285  0.0125       0.002425  \n",
       "2020-10-13  0.018442  0.034144  0.00347  0.002285  0.0125       0.002425  "
      ]
     },
     "execution_count": 15,
     "metadata": {},
     "output_type": "execute_result"
    }
   ],
   "source": [
    "analyser.param_history(\"rho\", roll_window=None).tail()"
   ]
  },
  {
   "cell_type": "markdown",
   "metadata": {},
   "source": [
    "### $\\sigma$: Recovery rate $\\mathrm{[-]}$"
   ]
  },
  {
   "cell_type": "code",
   "execution_count": 16,
   "metadata": {
    "collapsed": false
   },
   "outputs": [
    {
     "data": {
      "image/png": "[encoded data removed]",
      "text/plain": [
       "<Figure size 648x432 with 1 Axes>"
      ]
     },
     "metadata": {},
     "output_type": "display_data"
    },
    {
     "data": {
      "text/html": [
       "<div>\n",
       "<style scoped>\n",
       "    .dataframe tbody tr th:only-of-type {\n",
       "        vertical-align: middle;\n",
       "    }\n",
       "\n",
       "    .dataframe tbody tr th {\n",
       "        vertical-align: top;\n",
       "    }\n",
       "\n",
       "    .dataframe thead th {\n",
       "        text-align: right;\n",
       "    }\n",
       "</style>\n",
       "<table border=\"1\" class=\"dataframe\">\n",
       "  <thead>\n",
       "    <tr style=\"text-align: right;\">\n",
       "      <th>Country</th>\n",
       "      <th>Bahrain</th>\n",
       "      <th>Bolivia</th>\n",
       "      <th>Brazil</th>\n",
       "      <th>France</th>\n",
       "      <th>Iran</th>\n",
       "      <th>Italy</th>\n",
       "      <th>Kuwait</th>\n",
       "      <th>Mexico</th>\n",
       "      <th>Nigeria</th>\n",
       "      <th>Russia</th>\n",
       "      <th>Turkey</th>\n",
       "      <th>United States</th>\n",
       "    </tr>\n",
       "    <tr>\n",
       "      <th>Date</th>\n",
       "      <th></th>\n",
       "      <th></th>\n",
       "      <th></th>\n",
       "      <th></th>\n",
       "      <th></th>\n",
       "      <th></th>\n",
       "      <th></th>\n",
       "      <th></th>\n",
       "      <th></th>\n",
       "      <th></th>\n",
       "      <th></th>\n",
       "      <th></th>\n",
       "    </tr>\n",
       "  </thead>\n",
       "  <tbody>\n",
       "    <tr>\n",
       "      <th>2020-10-09</th>\n",
       "      <td>0.02938</td>\n",
       "      <td>0.003758</td>\n",
       "      <td>0.015072</td>\n",
       "      <td>0.000382</td>\n",
       "      <td>0.01025</td>\n",
       "      <td>0.004151</td>\n",
       "      <td>0.020279</td>\n",
       "      <td>0.030056</td>\n",
       "      <td>0.004466</td>\n",
       "      <td>0.00086</td>\n",
       "      <td>0.010788</td>\n",
       "      <td>0.001229</td>\n",
       "    </tr>\n",
       "    <tr>\n",
       "      <th>2020-10-10</th>\n",
       "      <td>0.02938</td>\n",
       "      <td>0.003758</td>\n",
       "      <td>0.015072</td>\n",
       "      <td>0.000382</td>\n",
       "      <td>0.01025</td>\n",
       "      <td>0.004151</td>\n",
       "      <td>0.020279</td>\n",
       "      <td>0.030056</td>\n",
       "      <td>0.004466</td>\n",
       "      <td>0.00086</td>\n",
       "      <td>0.010788</td>\n",
       "      <td>0.001229</td>\n",
       "    </tr>\n",
       "    <tr>\n",
       "      <th>2020-10-11</th>\n",
       "      <td>0.02938</td>\n",
       "      <td>0.003758</td>\n",
       "      <td>0.015072</td>\n",
       "      <td>0.000382</td>\n",
       "      <td>0.01025</td>\n",
       "      <td>0.004151</td>\n",
       "      <td>0.020279</td>\n",
       "      <td>0.030056</td>\n",
       "      <td>0.004466</td>\n",
       "      <td>0.00086</td>\n",
       "      <td>0.010788</td>\n",
       "      <td>0.001229</td>\n",
       "    </tr>\n",
       "    <tr>\n",
       "      <th>2020-10-12</th>\n",
       "      <td>0.02938</td>\n",
       "      <td>0.003758</td>\n",
       "      <td>0.015072</td>\n",
       "      <td>0.000382</td>\n",
       "      <td>0.01025</td>\n",
       "      <td>0.004151</td>\n",
       "      <td>0.020279</td>\n",
       "      <td>0.030056</td>\n",
       "      <td>0.004466</td>\n",
       "      <td>0.00086</td>\n",
       "      <td>0.010788</td>\n",
       "      <td>0.001229</td>\n",
       "    </tr>\n",
       "    <tr>\n",
       "      <th>2020-10-13</th>\n",
       "      <td>0.02938</td>\n",
       "      <td>0.003758</td>\n",
       "      <td>0.015072</td>\n",
       "      <td>0.000382</td>\n",
       "      <td>0.01025</td>\n",
       "      <td>0.004151</td>\n",
       "      <td>0.020279</td>\n",
       "      <td>0.030056</td>\n",
       "      <td>0.004466</td>\n",
       "      <td>0.00086</td>\n",
       "      <td>0.010788</td>\n",
       "      <td>0.001229</td>\n",
       "    </tr>\n",
       "  </tbody>\n",
       "</table>\n",
       "</div>"
      ],
      "text/plain": [
       "Country     Bahrain   Bolivia    Brazil    France     Iran     Italy  \\\n",
       "Date                                                                   \n",
       "2020-10-09  0.02938  0.003758  0.015072  0.000382  0.01025  0.004151   \n",
       "2020-10-10  0.02938  0.003758  0.015072  0.000382  0.01025  0.004151   \n",
       "2020-10-11  0.02938  0.003758  0.015072  0.000382  0.01025  0.004151   \n",
       "2020-10-12  0.02938  0.003758  0.015072  0.000382  0.01025  0.004151   \n",
       "2020-10-13  0.02938  0.003758  0.015072  0.000382  0.01025  0.004151   \n",
       "\n",
       "Country       Kuwait    Mexico   Nigeria   Russia    Turkey  United States  \n",
       "Date                                                                        \n",
       "2020-10-09  0.020279  0.030056  0.004466  0.00086  0.010788       0.001229  \n",
       "2020-10-10  0.020279  0.030056  0.004466  0.00086  0.010788       0.001229  \n",
       "2020-10-11  0.020279  0.030056  0.004466  0.00086  0.010788       0.001229  \n",
       "2020-10-12  0.020279  0.030056  0.004466  0.00086  0.010788       0.001229  \n",
       "2020-10-13  0.020279  0.030056  0.004466  0.00086  0.010788       0.001229  "
      ]
     },
     "execution_count": 16,
     "metadata": {},
     "output_type": "execute_result"
    }
   ],
   "source": [
    "analyser.param_history(\"sigma\", roll_window=None).tail()"
   ]
  },
  {
   "cell_type": "markdown",
   "metadata": {},
   "source": [
    "### $\\kappa$: Mortality rate of infected cases $\\mathrm{[-]}$"
   ]
  },
  {
   "cell_type": "code",
   "execution_count": 17,
   "metadata": {
    "collapsed": false
   },
   "outputs": [
    {
     "data": {
      "image/png": "[encoded data removed]",
      "text/plain": [
       "<Figure size 648x432 with 1 Axes>"
      ]
     },
     "metadata": {},
     "output_type": "display_data"
    },
    {
     "data": {
      "text/html": [
       "<div>\n",
       "<style scoped>\n",
       "    .dataframe tbody tr th:only-of-type {\n",
       "        vertical-align: middle;\n",
       "    }\n",
       "\n",
       "    .dataframe tbody tr th {\n",
       "        vertical-align: top;\n",
       "    }\n",
       "\n",
       "    .dataframe thead th {\n",
       "        text-align: right;\n",
       "    }\n",
       "</style>\n",
       "<table border=\"1\" class=\"dataframe\">\n",
       "  <thead>\n",
       "    <tr style=\"text-align: right;\">\n",
       "      <th>Country</th>\n",
       "      <th>Bahrain</th>\n",
       "      <th>Bolivia</th>\n",
       "      <th>Brazil</th>\n",
       "      <th>France</th>\n",
       "      <th>Iran</th>\n",
       "      <th>Italy</th>\n",
       "      <th>Kuwait</th>\n",
       "      <th>Mexico</th>\n",
       "      <th>Nigeria</th>\n",
       "      <th>Russia</th>\n",
       "      <th>Turkey</th>\n",
       "      <th>United States</th>\n",
       "    </tr>\n",
       "    <tr>\n",
       "      <th>Date</th>\n",
       "      <th></th>\n",
       "      <th></th>\n",
       "      <th></th>\n",
       "      <th></th>\n",
       "      <th></th>\n",
       "      <th></th>\n",
       "      <th></th>\n",
       "      <th></th>\n",
       "      <th></th>\n",
       "      <th></th>\n",
       "      <th></th>\n",
       "      <th></th>\n",
       "    </tr>\n",
       "  </thead>\n",
       "  <tbody>\n",
       "    <tr>\n",
       "      <th>2020-10-09</th>\n",
       "      <td>0.000059</td>\n",
       "      <td>0.000093</td>\n",
       "      <td>0.000384</td>\n",
       "      <td>0.000037</td>\n",
       "      <td>0.000415</td>\n",
       "      <td>0.000098</td>\n",
       "      <td>0.000002</td>\n",
       "      <td>0.000452</td>\n",
       "      <td>0.000045</td>\n",
       "      <td>0.000024</td>\n",
       "      <td>0.000109</td>\n",
       "      <td>0.000024</td>\n",
       "    </tr>\n",
       "    <tr>\n",
       "      <th>2020-10-10</th>\n",
       "      <td>0.000059</td>\n",
       "      <td>0.000093</td>\n",
       "      <td>0.000384</td>\n",
       "      <td>0.000037</td>\n",
       "      <td>0.000415</td>\n",
       "      <td>0.000098</td>\n",
       "      <td>0.000002</td>\n",
       "      <td>0.000452</td>\n",
       "      <td>0.000045</td>\n",
       "      <td>0.000024</td>\n",
       "      <td>0.000109</td>\n",
       "      <td>0.000024</td>\n",
       "    </tr>\n",
       "    <tr>\n",
       "      <th>2020-10-11</th>\n",
       "      <td>0.000059</td>\n",
       "      <td>0.000093</td>\n",
       "      <td>0.000384</td>\n",
       "      <td>0.000037</td>\n",
       "      <td>0.000415</td>\n",
       "      <td>0.000098</td>\n",
       "      <td>0.000002</td>\n",
       "      <td>0.000452</td>\n",
       "      <td>0.000045</td>\n",
       "      <td>0.000024</td>\n",
       "      <td>0.000109</td>\n",
       "      <td>0.000024</td>\n",
       "    </tr>\n",
       "    <tr>\n",
       "      <th>2020-10-12</th>\n",
       "      <td>0.000059</td>\n",
       "      <td>0.000093</td>\n",
       "      <td>0.000384</td>\n",
       "      <td>0.000037</td>\n",
       "      <td>0.000415</td>\n",
       "      <td>0.000098</td>\n",
       "      <td>0.000002</td>\n",
       "      <td>0.000452</td>\n",
       "      <td>0.000045</td>\n",
       "      <td>0.000024</td>\n",
       "      <td>0.000109</td>\n",
       "      <td>0.000024</td>\n",
       "    </tr>\n",
       "    <tr>\n",
       "      <th>2020-10-13</th>\n",
       "      <td>0.000059</td>\n",
       "      <td>0.000093</td>\n",
       "      <td>0.000384</td>\n",
       "      <td>0.000037</td>\n",
       "      <td>0.000415</td>\n",
       "      <td>0.000098</td>\n",
       "      <td>0.000002</td>\n",
       "      <td>0.000452</td>\n",
       "      <td>0.000045</td>\n",
       "      <td>0.000024</td>\n",
       "      <td>0.000109</td>\n",
       "      <td>0.000024</td>\n",
       "    </tr>\n",
       "  </tbody>\n",
       "</table>\n",
       "</div>"
      ],
      "text/plain": [
       "Country      Bahrain   Bolivia    Brazil    France      Iran     Italy  \\\n",
       "Date                                                                     \n",
       "2020-10-09  0.000059  0.000093  0.000384  0.000037  0.000415  0.000098   \n",
       "2020-10-10  0.000059  0.000093  0.000384  0.000037  0.000415  0.000098   \n",
       "2020-10-11  0.000059  0.000093  0.000384  0.000037  0.000415  0.000098   \n",
       "2020-10-12  0.000059  0.000093  0.000384  0.000037  0.000415  0.000098   \n",
       "2020-10-13  0.000059  0.000093  0.000384  0.000037  0.000415  0.000098   \n",
       "\n",
       "Country       Kuwait    Mexico   Nigeria    Russia    Turkey  United States  \n",
       "Date                                                                         \n",
       "2020-10-09  0.000002  0.000452  0.000045  0.000024  0.000109       0.000024  \n",
       "2020-10-10  0.000002  0.000452  0.000045  0.000024  0.000109       0.000024  \n",
       "2020-10-11  0.000002  0.000452  0.000045  0.000024  0.000109       0.000024  \n",
       "2020-10-12  0.000002  0.000452  0.000045  0.000024  0.000109       0.000024  \n",
       "2020-10-13  0.000002  0.000452  0.000045  0.000024  0.000109       0.000024  "
      ]
     },
     "execution_count": 17,
     "metadata": {},
     "output_type": "execute_result"
    }
   ],
   "source": [
    "analyser.param_history(\"kappa\", roll_window=None).tail()"
   ]
  },
  {
   "cell_type": "markdown",
   "metadata": {},
   "source": [
    "### $\\theta$: Mortality rate of S$^\\ast$ cases $\\mathrm{[-]}$"
   ]
  },
  {
   "cell_type": "code",
   "execution_count": 18,
   "metadata": {
    "collapsed": false
   },
   "outputs": [
    {
     "data": {
      "image/png": "[encoded data removed]",
      "text/plain": [
       "<Figure size 648x432 with 1 Axes>"
      ]
     },
     "metadata": {},
     "output_type": "display_data"
    },
    {
     "data": {
      "text/html": [
       "<div>\n",
       "<style scoped>\n",
       "    .dataframe tbody tr th:only-of-type {\n",
       "        vertical-align: middle;\n",
       "    }\n",
       "\n",
       "    .dataframe tbody tr th {\n",
       "        vertical-align: top;\n",
       "    }\n",
       "\n",
       "    .dataframe thead th {\n",
       "        text-align: right;\n",
       "    }\n",
       "</style>\n",
       "<table border=\"1\" class=\"dataframe\">\n",
       "  <thead>\n",
       "    <tr style=\"text-align: right;\">\n",
       "      <th>Country</th>\n",
       "      <th>Bahrain</th>\n",
       "      <th>Bolivia</th>\n",
       "      <th>Brazil</th>\n",
       "      <th>France</th>\n",
       "      <th>Iran</th>\n",
       "      <th>Italy</th>\n",
       "      <th>Kuwait</th>\n",
       "      <th>Mexico</th>\n",
       "      <th>Nigeria</th>\n",
       "      <th>Russia</th>\n",
       "      <th>Turkey</th>\n",
       "      <th>United States</th>\n",
       "    </tr>\n",
       "    <tr>\n",
       "      <th>Date</th>\n",
       "      <th></th>\n",
       "      <th></th>\n",
       "      <th></th>\n",
       "      <th></th>\n",
       "      <th></th>\n",
       "      <th></th>\n",
       "      <th></th>\n",
       "      <th></th>\n",
       "      <th></th>\n",
       "      <th></th>\n",
       "      <th></th>\n",
       "      <th></th>\n",
       "    </tr>\n",
       "  </thead>\n",
       "  <tbody>\n",
       "    <tr>\n",
       "      <th>2020-10-09</th>\n",
       "      <td>0.002531</td>\n",
       "      <td>0.059281</td>\n",
       "      <td>0.000652</td>\n",
       "      <td>0.0007</td>\n",
       "      <td>0.031741</td>\n",
       "      <td>0.000434</td>\n",
       "      <td>0.007897</td>\n",
       "      <td>0.119207</td>\n",
       "      <td>0.017358</td>\n",
       "      <td>0.001623</td>\n",
       "      <td>0.030618</td>\n",
       "      <td>0.002448</td>\n",
       "    </tr>\n",
       "    <tr>\n",
       "      <th>2020-10-10</th>\n",
       "      <td>0.002531</td>\n",
       "      <td>0.059281</td>\n",
       "      <td>0.000652</td>\n",
       "      <td>0.0007</td>\n",
       "      <td>0.031741</td>\n",
       "      <td>0.000434</td>\n",
       "      <td>0.007897</td>\n",
       "      <td>0.119207</td>\n",
       "      <td>0.017358</td>\n",
       "      <td>0.001623</td>\n",
       "      <td>0.030618</td>\n",
       "      <td>0.002448</td>\n",
       "    </tr>\n",
       "    <tr>\n",
       "      <th>2020-10-11</th>\n",
       "      <td>0.002531</td>\n",
       "      <td>0.059281</td>\n",
       "      <td>0.000652</td>\n",
       "      <td>0.0007</td>\n",
       "      <td>0.031741</td>\n",
       "      <td>0.000434</td>\n",
       "      <td>0.007897</td>\n",
       "      <td>0.119207</td>\n",
       "      <td>0.017358</td>\n",
       "      <td>0.001623</td>\n",
       "      <td>0.030618</td>\n",
       "      <td>0.002448</td>\n",
       "    </tr>\n",
       "    <tr>\n",
       "      <th>2020-10-12</th>\n",
       "      <td>0.002531</td>\n",
       "      <td>0.059281</td>\n",
       "      <td>0.000652</td>\n",
       "      <td>0.0007</td>\n",
       "      <td>0.031741</td>\n",
       "      <td>0.000434</td>\n",
       "      <td>0.007897</td>\n",
       "      <td>0.119207</td>\n",
       "      <td>0.017358</td>\n",
       "      <td>0.001623</td>\n",
       "      <td>0.030618</td>\n",
       "      <td>0.002448</td>\n",
       "    </tr>\n",
       "    <tr>\n",
       "      <th>2020-10-13</th>\n",
       "      <td>0.002531</td>\n",
       "      <td>0.059281</td>\n",
       "      <td>0.000652</td>\n",
       "      <td>0.0007</td>\n",
       "      <td>0.031741</td>\n",
       "      <td>0.000434</td>\n",
       "      <td>0.007897</td>\n",
       "      <td>0.119207</td>\n",
       "      <td>0.017358</td>\n",
       "      <td>0.001623</td>\n",
       "      <td>0.030618</td>\n",
       "      <td>0.002448</td>\n",
       "    </tr>\n",
       "  </tbody>\n",
       "</table>\n",
       "</div>"
      ],
      "text/plain": [
       "Country      Bahrain   Bolivia    Brazil  France      Iran     Italy  \\\n",
       "Date                                                                   \n",
       "2020-10-09  0.002531  0.059281  0.000652  0.0007  0.031741  0.000434   \n",
       "2020-10-10  0.002531  0.059281  0.000652  0.0007  0.031741  0.000434   \n",
       "2020-10-11  0.002531  0.059281  0.000652  0.0007  0.031741  0.000434   \n",
       "2020-10-12  0.002531  0.059281  0.000652  0.0007  0.031741  0.000434   \n",
       "2020-10-13  0.002531  0.059281  0.000652  0.0007  0.031741  0.000434   \n",
       "\n",
       "Country       Kuwait    Mexico   Nigeria    Russia    Turkey  United States  \n",
       "Date                                                                         \n",
       "2020-10-09  0.007897  0.119207  0.017358  0.001623  0.030618       0.002448  \n",
       "2020-10-10  0.007897  0.119207  0.017358  0.001623  0.030618       0.002448  \n",
       "2020-10-11  0.007897  0.119207  0.017358  0.001623  0.030618       0.002448  \n",
       "2020-10-12  0.007897  0.119207  0.017358  0.001623  0.030618       0.002448  \n",
       "2020-10-13  0.007897  0.119207  0.017358  0.001623  0.030618       0.002448  "
      ]
     },
     "execution_count": 18,
     "metadata": {},
     "output_type": "execute_result"
    }
   ],
   "source": [
    "analyser.param_history(\"theta\", roll_window=None).tail()"
   ]
  },
  {
   "cell_type": "markdown",
   "metadata": {},
   "source": [
    "## (Experimental): Relationship of OxCGRT index and parameter values\n",
    "Government responses will impact on parameter values of ODE models about 14 days later. Here, we will investigate on the relationship of [stringency index (from OxCGRT)](https://github.com/OxCGRT/covid-policy-tracker/blob/master/documentation/index_methodology.md) and reproduction number/model parameters.\n"
   ]
  },
  {
   "cell_type": "code",
   "execution_count": 19,
   "metadata": {
    "collapsed": false
   },
   "outputs": [],
   "source": [
    "%matplotlib inline\n",
    "from matplotlib import pyplot as plt\n",
    "import seaborn as sns\n",
    "import pandas as pd"
   ]
  },
  {
   "cell_type": "code",
   "execution_count": 20,
   "metadata": {
    "collapsed": false
   },
   "outputs": [
    {
     "name": "stdout",
     "output_type": "stream",
     "text": [
      "<class 'pandas.core.frame.DataFrame'>\n",
      "Int64Index: 48009 entries, 0 to 48162\n",
      "Data columns (total 19 columns):\n",
      " #   Column                               Non-Null Count  Dtype         \n",
      "---  ------                               --------------  -----         \n",
      " 0   Date                                 48009 non-null  datetime64[ns]\n",
      " 1   Country                              48009 non-null  object        \n",
      " 2   Rt                                   48009 non-null  float64       \n",
      " 3   theta                                48009 non-null  float64       \n",
      " 4   kappa                                48009 non-null  float64       \n",
      " 5   rho                                  48009 non-null  float64       \n",
      " 6   sigma                                48009 non-null  float64       \n",
      " 7   School_closing                       48009 non-null  int64         \n",
      " 8   Workplace_closing                    48009 non-null  int64         \n",
      " 9   Cancel_events                        48009 non-null  int64         \n",
      " 10  Gatherings_restrictions              48009 non-null  int64         \n",
      " 11  Transport_closing                    48009 non-null  int64         \n",
      " 12  Stay_home_restrictions               48009 non-null  int64         \n",
      " 13  Internal_movement_restrictions       48009 non-null  int64         \n",
      " 14  International_movement_restrictions  48009 non-null  int64         \n",
      " 15  Information_campaigns                48009 non-null  int64         \n",
      " 16  Testing_policy                       48009 non-null  int64         \n",
      " 17  Contact_tracing                      48009 non-null  int64         \n",
      " 18  Stringency_index                     48009 non-null  float64       \n",
      "dtypes: datetime64[ns](1), float64(6), int64(11), object(1)\n",
      "memory usage: 7.3+ MB\n"
     ]
    }
   ],
   "source": [
    "df = analyser.track()\n",
    "param_cols = [\"Rt\", *cs.SIRF.PARAMETERS]\n",
    "oxcgrt_cols = oxcgrt_data.OXCGRT_VARS[:]\n",
    "cols = param_cols + oxcgrt_cols\n",
    "delay = 14\n",
    "\n",
    "for col in param_cols:\n",
    "    df[col] = pd.to_numeric(df[col], errors=\"coerce\")\n",
    "    df[col] = df.groupby(\"Country\")[col].shift(0 - delay)\n",
    "\n",
    "df = df.dropna(how=\"any\")\n",
    "df = df.loc[:, [\"Date\", \"Country\", *cols]]\n",
    "track_df = df.copy()\n",
    "track_df.info()"
   ]
  },
  {
   "cell_type": "code",
   "execution_count": 21,
   "metadata": {
    "collapsed": false
   },
   "outputs": [
    {
     "data": {
      "text/html": [
       "<style  type=\"text/css\" >\n",
       "#T_a374c734_0d6f_11eb_aa10_525400b22c0erow0_col0,#T_a374c734_0d6f_11eb_aa10_525400b22c0erow1_col1,#T_a374c734_0d6f_11eb_aa10_525400b22c0erow2_col2,#T_a374c734_0d6f_11eb_aa10_525400b22c0erow3_col3,#T_a374c734_0d6f_11eb_aa10_525400b22c0erow4_col4,#T_a374c734_0d6f_11eb_aa10_525400b22c0erow5_col5,#T_a374c734_0d6f_11eb_aa10_525400b22c0erow6_col6,#T_a374c734_0d6f_11eb_aa10_525400b22c0erow7_col7,#T_a374c734_0d6f_11eb_aa10_525400b22c0erow8_col8,#T_a374c734_0d6f_11eb_aa10_525400b22c0erow9_col9,#T_a374c734_0d6f_11eb_aa10_525400b22c0erow10_col10,#T_a374c734_0d6f_11eb_aa10_525400b22c0erow11_col11,#T_a374c734_0d6f_11eb_aa10_525400b22c0erow12_col12,#T_a374c734_0d6f_11eb_aa10_525400b22c0erow13_col13,#T_a374c734_0d6f_11eb_aa10_525400b22c0erow14_col14,#T_a374c734_0d6f_11eb_aa10_525400b22c0erow15_col15,#T_a374c734_0d6f_11eb_aa10_525400b22c0erow16_col16{\n",
       "            background-color:  #023858;\n",
       "            color:  #f1f1f1;\n",
       "        }#T_a374c734_0d6f_11eb_aa10_525400b22c0erow0_col1,#T_a374c734_0d6f_11eb_aa10_525400b22c0erow0_col11,#T_a374c734_0d6f_11eb_aa10_525400b22c0erow1_col0,#T_a374c734_0d6f_11eb_aa10_525400b22c0erow11_col0{\n",
       "            background-color:  #d4d4e8;\n",
       "            color:  #000000;\n",
       "        }#T_a374c734_0d6f_11eb_aa10_525400b22c0erow0_col2,#T_a374c734_0d6f_11eb_aa10_525400b22c0erow2_col0{\n",
       "            background-color:  #e9e5f1;\n",
       "            color:  #000000;\n",
       "        }#T_a374c734_0d6f_11eb_aa10_525400b22c0erow0_col3,#T_a374c734_0d6f_11eb_aa10_525400b22c0erow3_col0,#T_a374c734_0d6f_11eb_aa10_525400b22c0erow4_col15,#T_a374c734_0d6f_11eb_aa10_525400b22c0erow15_col4{\n",
       "            background-color:  #9ebad9;\n",
       "            color:  #000000;\n",
       "        }#T_a374c734_0d6f_11eb_aa10_525400b22c0erow0_col4,#T_a374c734_0d6f_11eb_aa10_525400b22c0erow2_col5,#T_a374c734_0d6f_11eb_aa10_525400b22c0erow4_col0,#T_a374c734_0d6f_11eb_aa10_525400b22c0erow5_col2{\n",
       "            background-color:  #e3e0ee;\n",
       "            color:  #000000;\n",
       "        }#T_a374c734_0d6f_11eb_aa10_525400b22c0erow0_col5,#T_a374c734_0d6f_11eb_aa10_525400b22c0erow5_col0{\n",
       "            background-color:  #dad9ea;\n",
       "            color:  #000000;\n",
       "        }#T_a374c734_0d6f_11eb_aa10_525400b22c0erow0_col6,#T_a374c734_0d6f_11eb_aa10_525400b22c0erow6_col0{\n",
       "            background-color:  #cdd0e5;\n",
       "            color:  #000000;\n",
       "        }#T_a374c734_0d6f_11eb_aa10_525400b22c0erow0_col7,#T_a374c734_0d6f_11eb_aa10_525400b22c0erow7_col0{\n",
       "            background-color:  #eae6f1;\n",
       "            color:  #000000;\n",
       "        }#T_a374c734_0d6f_11eb_aa10_525400b22c0erow0_col8,#T_a374c734_0d6f_11eb_aa10_525400b22c0erow1_col11,#T_a374c734_0d6f_11eb_aa10_525400b22c0erow8_col0,#T_a374c734_0d6f_11eb_aa10_525400b22c0erow11_col1{\n",
       "            background-color:  #bfc9e1;\n",
       "            color:  #000000;\n",
       "        }#T_a374c734_0d6f_11eb_aa10_525400b22c0erow0_col9,#T_a374c734_0d6f_11eb_aa10_525400b22c0erow0_col14,#T_a374c734_0d6f_11eb_aa10_525400b22c0erow2_col9,#T_a374c734_0d6f_11eb_aa10_525400b22c0erow9_col0,#T_a374c734_0d6f_11eb_aa10_525400b22c0erow9_col2,#T_a374c734_0d6f_11eb_aa10_525400b22c0erow14_col0{\n",
       "            background-color:  #dedcec;\n",
       "            color:  #000000;\n",
       "        }#T_a374c734_0d6f_11eb_aa10_525400b22c0erow0_col10,#T_a374c734_0d6f_11eb_aa10_525400b22c0erow10_col0{\n",
       "            background-color:  #e7e3f0;\n",
       "            color:  #000000;\n",
       "        }#T_a374c734_0d6f_11eb_aa10_525400b22c0erow0_col12,#T_a374c734_0d6f_11eb_aa10_525400b22c0erow12_col0{\n",
       "            background-color:  #f1ebf4;\n",
       "            color:  #000000;\n",
       "        }#T_a374c734_0d6f_11eb_aa10_525400b22c0erow0_col13,#T_a374c734_0d6f_11eb_aa10_525400b22c0erow3_col6,#T_a374c734_0d6f_11eb_aa10_525400b22c0erow6_col3,#T_a374c734_0d6f_11eb_aa10_525400b22c0erow13_col0{\n",
       "            background-color:  #d0d1e6;\n",
       "            color:  #000000;\n",
       "        }#T_a374c734_0d6f_11eb_aa10_525400b22c0erow0_col15,#T_a374c734_0d6f_11eb_aa10_525400b22c0erow1_col5,#T_a374c734_0d6f_11eb_aa10_525400b22c0erow1_col8,#T_a374c734_0d6f_11eb_aa10_525400b22c0erow5_col1,#T_a374c734_0d6f_11eb_aa10_525400b22c0erow8_col1,#T_a374c734_0d6f_11eb_aa10_525400b22c0erow15_col0{\n",
       "            background-color:  #e5e1ef;\n",
       "            color:  #000000;\n",
       "        }#T_a374c734_0d6f_11eb_aa10_525400b22c0erow0_col16,#T_a374c734_0d6f_11eb_aa10_525400b22c0erow2_col8,#T_a374c734_0d6f_11eb_aa10_525400b22c0erow8_col2,#T_a374c734_0d6f_11eb_aa10_525400b22c0erow16_col0{\n",
       "            background-color:  #dddbec;\n",
       "            color:  #000000;\n",
       "        }#T_a374c734_0d6f_11eb_aa10_525400b22c0erow1_col2,#T_a374c734_0d6f_11eb_aa10_525400b22c0erow2_col1{\n",
       "            background-color:  #034165;\n",
       "            color:  #f1f1f1;\n",
       "        }#T_a374c734_0d6f_11eb_aa10_525400b22c0erow1_col3,#T_a374c734_0d6f_11eb_aa10_525400b22c0erow3_col1{\n",
       "            background-color:  #045c90;\n",
       "            color:  #f1f1f1;\n",
       "        }#T_a374c734_0d6f_11eb_aa10_525400b22c0erow1_col4,#T_a374c734_0d6f_11eb_aa10_525400b22c0erow4_col1{\n",
       "            background-color:  #c2cbe2;\n",
       "            color:  #000000;\n",
       "        }#T_a374c734_0d6f_11eb_aa10_525400b22c0erow1_col6,#T_a374c734_0d6f_11eb_aa10_525400b22c0erow6_col1{\n",
       "            background-color:  #dfddec;\n",
       "            color:  #000000;\n",
       "        }#T_a374c734_0d6f_11eb_aa10_525400b22c0erow1_col7,#T_a374c734_0d6f_11eb_aa10_525400b22c0erow7_col1{\n",
       "            background-color:  #f2ecf5;\n",
       "            color:  #000000;\n",
       "        }#T_a374c734_0d6f_11eb_aa10_525400b22c0erow1_col9,#T_a374c734_0d6f_11eb_aa10_525400b22c0erow9_col1{\n",
       "            background-color:  #e4e1ef;\n",
       "            color:  #000000;\n",
       "        }#T_a374c734_0d6f_11eb_aa10_525400b22c0erow1_col10,#T_a374c734_0d6f_11eb_aa10_525400b22c0erow10_col1{\n",
       "            background-color:  #8eb3d5;\n",
       "            color:  #000000;\n",
       "        }#T_a374c734_0d6f_11eb_aa10_525400b22c0erow1_col12,#T_a374c734_0d6f_11eb_aa10_525400b22c0erow4_col13,#T_a374c734_0d6f_11eb_aa10_525400b22c0erow12_col1,#T_a374c734_0d6f_11eb_aa10_525400b22c0erow13_col4{\n",
       "            background-color:  #a9bfdc;\n",
       "            color:  #000000;\n",
       "        }#T_a374c734_0d6f_11eb_aa10_525400b22c0erow1_col13,#T_a374c734_0d6f_11eb_aa10_525400b22c0erow13_col1{\n",
       "            background-color:  #fbf3f9;\n",
       "            color:  #000000;\n",
       "        }#T_a374c734_0d6f_11eb_aa10_525400b22c0erow1_col14,#T_a374c734_0d6f_11eb_aa10_525400b22c0erow14_col1{\n",
       "            background-color:  #fef6fa;\n",
       "            color:  #000000;\n",
       "        }#T_a374c734_0d6f_11eb_aa10_525400b22c0erow1_col15,#T_a374c734_0d6f_11eb_aa10_525400b22c0erow2_col16,#T_a374c734_0d6f_11eb_aa10_525400b22c0erow15_col1,#T_a374c734_0d6f_11eb_aa10_525400b22c0erow16_col2{\n",
       "            background-color:  #d2d2e7;\n",
       "            color:  #000000;\n",
       "        }#T_a374c734_0d6f_11eb_aa10_525400b22c0erow1_col16,#T_a374c734_0d6f_11eb_aa10_525400b22c0erow3_col8,#T_a374c734_0d6f_11eb_aa10_525400b22c0erow4_col14,#T_a374c734_0d6f_11eb_aa10_525400b22c0erow8_col3,#T_a374c734_0d6f_11eb_aa10_525400b22c0erow14_col4,#T_a374c734_0d6f_11eb_aa10_525400b22c0erow16_col1{\n",
       "            background-color:  #d7d6e9;\n",
       "            color:  #000000;\n",
       "        }#T_a374c734_0d6f_11eb_aa10_525400b22c0erow2_col3,#T_a374c734_0d6f_11eb_aa10_525400b22c0erow3_col2,#T_a374c734_0d6f_11eb_aa10_525400b22c0erow9_col16,#T_a374c734_0d6f_11eb_aa10_525400b22c0erow16_col9{\n",
       "            background-color:  #046096;\n",
       "            color:  #f1f1f1;\n",
       "        }#T_a374c734_0d6f_11eb_aa10_525400b22c0erow2_col4,#T_a374c734_0d6f_11eb_aa10_525400b22c0erow4_col2{\n",
       "            background-color:  #cccfe5;\n",
       "            color:  #000000;\n",
       "        }#T_a374c734_0d6f_11eb_aa10_525400b22c0erow2_col6,#T_a374c734_0d6f_11eb_aa10_525400b22c0erow3_col5,#T_a374c734_0d6f_11eb_aa10_525400b22c0erow5_col3,#T_a374c734_0d6f_11eb_aa10_525400b22c0erow6_col2{\n",
       "            background-color:  #d9d8ea;\n",
       "            color:  #000000;\n",
       "        }#T_a374c734_0d6f_11eb_aa10_525400b22c0erow2_col7,#T_a374c734_0d6f_11eb_aa10_525400b22c0erow7_col2{\n",
       "            background-color:  #ede8f3;\n",
       "            color:  #000000;\n",
       "        }#T_a374c734_0d6f_11eb_aa10_525400b22c0erow2_col10,#T_a374c734_0d6f_11eb_aa10_525400b22c0erow10_col2{\n",
       "            background-color:  #84b0d3;\n",
       "            color:  #000000;\n",
       "        }#T_a374c734_0d6f_11eb_aa10_525400b22c0erow2_col11,#T_a374c734_0d6f_11eb_aa10_525400b22c0erow11_col2{\n",
       "            background-color:  #b4c4df;\n",
       "            color:  #000000;\n",
       "        }#T_a374c734_0d6f_11eb_aa10_525400b22c0erow2_col12,#T_a374c734_0d6f_11eb_aa10_525400b22c0erow3_col10,#T_a374c734_0d6f_11eb_aa10_525400b22c0erow10_col3,#T_a374c734_0d6f_11eb_aa10_525400b22c0erow12_col2{\n",
       "            background-color:  #83afd3;\n",
       "            color:  #000000;\n",
       "        }#T_a374c734_0d6f_11eb_aa10_525400b22c0erow2_col13,#T_a374c734_0d6f_11eb_aa10_525400b22c0erow3_col13,#T_a374c734_0d6f_11eb_aa10_525400b22c0erow13_col2,#T_a374c734_0d6f_11eb_aa10_525400b22c0erow13_col3{\n",
       "            background-color:  #f5eff6;\n",
       "            color:  #000000;\n",
       "        }#T_a374c734_0d6f_11eb_aa10_525400b22c0erow2_col14,#T_a374c734_0d6f_11eb_aa10_525400b22c0erow14_col2{\n",
       "            background-color:  #f0eaf4;\n",
       "            color:  #000000;\n",
       "        }#T_a374c734_0d6f_11eb_aa10_525400b22c0erow2_col15,#T_a374c734_0d6f_11eb_aa10_525400b22c0erow15_col2{\n",
       "            background-color:  #c0c9e2;\n",
       "            color:  #000000;\n",
       "        }#T_a374c734_0d6f_11eb_aa10_525400b22c0erow3_col4,#T_a374c734_0d6f_11eb_aa10_525400b22c0erow4_col3{\n",
       "            background-color:  #94b6d7;\n",
       "            color:  #000000;\n",
       "        }#T_a374c734_0d6f_11eb_aa10_525400b22c0erow3_col7,#T_a374c734_0d6f_11eb_aa10_525400b22c0erow7_col3{\n",
       "            background-color:  #eee9f3;\n",
       "            color:  #000000;\n",
       "        }#T_a374c734_0d6f_11eb_aa10_525400b22c0erow3_col9,#T_a374c734_0d6f_11eb_aa10_525400b22c0erow9_col3{\n",
       "            background-color:  #dbdaeb;\n",
       "            color:  #000000;\n",
       "        }#T_a374c734_0d6f_11eb_aa10_525400b22c0erow3_col11,#T_a374c734_0d6f_11eb_aa10_525400b22c0erow11_col3{\n",
       "            background-color:  #b0c2de;\n",
       "            color:  #000000;\n",
       "        }#T_a374c734_0d6f_11eb_aa10_525400b22c0erow3_col12,#T_a374c734_0d6f_11eb_aa10_525400b22c0erow12_col3{\n",
       "            background-color:  #acc0dd;\n",
       "            color:  #000000;\n",
       "        }#T_a374c734_0d6f_11eb_aa10_525400b22c0erow3_col14,#T_a374c734_0d6f_11eb_aa10_525400b22c0erow14_col3{\n",
       "            background-color:  #fff7fb;\n",
       "            color:  #000000;\n",
       "        }#T_a374c734_0d6f_11eb_aa10_525400b22c0erow3_col15,#T_a374c734_0d6f_11eb_aa10_525400b22c0erow15_col3{\n",
       "            background-color:  #d5d5e8;\n",
       "            color:  #000000;\n",
       "        }#T_a374c734_0d6f_11eb_aa10_525400b22c0erow3_col16,#T_a374c734_0d6f_11eb_aa10_525400b22c0erow16_col3{\n",
       "            background-color:  #c9cee4;\n",
       "            color:  #000000;\n",
       "        }#T_a374c734_0d6f_11eb_aa10_525400b22c0erow4_col5,#T_a374c734_0d6f_11eb_aa10_525400b22c0erow5_col4{\n",
       "            background-color:  #88b1d4;\n",
       "            color:  #000000;\n",
       "        }#T_a374c734_0d6f_11eb_aa10_525400b22c0erow4_col6,#T_a374c734_0d6f_11eb_aa10_525400b22c0erow6_col4{\n",
       "            background-color:  #abbfdc;\n",
       "            color:  #000000;\n",
       "        }#T_a374c734_0d6f_11eb_aa10_525400b22c0erow4_col7,#T_a374c734_0d6f_11eb_aa10_525400b22c0erow4_col10,#T_a374c734_0d6f_11eb_aa10_525400b22c0erow7_col4,#T_a374c734_0d6f_11eb_aa10_525400b22c0erow10_col4{\n",
       "            background-color:  #9ab8d8;\n",
       "            color:  #000000;\n",
       "        }#T_a374c734_0d6f_11eb_aa10_525400b22c0erow4_col8,#T_a374c734_0d6f_11eb_aa10_525400b22c0erow4_col12,#T_a374c734_0d6f_11eb_aa10_525400b22c0erow8_col4,#T_a374c734_0d6f_11eb_aa10_525400b22c0erow12_col4{\n",
       "            background-color:  #c1cae2;\n",
       "            color:  #000000;\n",
       "        }#T_a374c734_0d6f_11eb_aa10_525400b22c0erow4_col9,#T_a374c734_0d6f_11eb_aa10_525400b22c0erow9_col4{\n",
       "            background-color:  #a7bddb;\n",
       "            color:  #000000;\n",
       "        }#T_a374c734_0d6f_11eb_aa10_525400b22c0erow4_col11,#T_a374c734_0d6f_11eb_aa10_525400b22c0erow9_col15,#T_a374c734_0d6f_11eb_aa10_525400b22c0erow11_col4,#T_a374c734_0d6f_11eb_aa10_525400b22c0erow15_col9{\n",
       "            background-color:  #b3c3de;\n",
       "            color:  #000000;\n",
       "        }#T_a374c734_0d6f_11eb_aa10_525400b22c0erow4_col16,#T_a374c734_0d6f_11eb_aa10_525400b22c0erow16_col4{\n",
       "            background-color:  #91b5d6;\n",
       "            color:  #000000;\n",
       "        }#T_a374c734_0d6f_11eb_aa10_525400b22c0erow5_col6,#T_a374c734_0d6f_11eb_aa10_525400b22c0erow6_col5{\n",
       "            background-color:  #0567a2;\n",
       "            color:  #f1f1f1;\n",
       "        }#T_a374c734_0d6f_11eb_aa10_525400b22c0erow5_col7,#T_a374c734_0d6f_11eb_aa10_525400b22c0erow7_col5{\n",
       "            background-color:  #046097;\n",
       "            color:  #f1f1f1;\n",
       "        }#T_a374c734_0d6f_11eb_aa10_525400b22c0erow5_col8,#T_a374c734_0d6f_11eb_aa10_525400b22c0erow8_col5{\n",
       "            background-color:  #0d75b3;\n",
       "            color:  #f1f1f1;\n",
       "        }#T_a374c734_0d6f_11eb_aa10_525400b22c0erow5_col9,#T_a374c734_0d6f_11eb_aa10_525400b22c0erow9_col5{\n",
       "            background-color:  #1077b4;\n",
       "            color:  #f1f1f1;\n",
       "        }#T_a374c734_0d6f_11eb_aa10_525400b22c0erow5_col10,#T_a374c734_0d6f_11eb_aa10_525400b22c0erow7_col15,#T_a374c734_0d6f_11eb_aa10_525400b22c0erow10_col5,#T_a374c734_0d6f_11eb_aa10_525400b22c0erow15_col7{\n",
       "            background-color:  #167bb6;\n",
       "            color:  #000000;\n",
       "        }#T_a374c734_0d6f_11eb_aa10_525400b22c0erow5_col11,#T_a374c734_0d6f_11eb_aa10_525400b22c0erow11_col5{\n",
       "            background-color:  #2081b9;\n",
       "            color:  #000000;\n",
       "        }#T_a374c734_0d6f_11eb_aa10_525400b22c0erow5_col12,#T_a374c734_0d6f_11eb_aa10_525400b22c0erow12_col5,#T_a374c734_0d6f_11eb_aa10_525400b22c0erow15_col16,#T_a374c734_0d6f_11eb_aa10_525400b22c0erow16_col15{\n",
       "            background-color:  #4295c3;\n",
       "            color:  #000000;\n",
       "        }#T_a374c734_0d6f_11eb_aa10_525400b22c0erow5_col13,#T_a374c734_0d6f_11eb_aa10_525400b22c0erow6_col8,#T_a374c734_0d6f_11eb_aa10_525400b22c0erow8_col6,#T_a374c734_0d6f_11eb_aa10_525400b22c0erow8_col13,#T_a374c734_0d6f_11eb_aa10_525400b22c0erow13_col5,#T_a374c734_0d6f_11eb_aa10_525400b22c0erow13_col8{\n",
       "            background-color:  #056ba9;\n",
       "            color:  #f1f1f1;\n",
       "        }#T_a374c734_0d6f_11eb_aa10_525400b22c0erow5_col14,#T_a374c734_0d6f_11eb_aa10_525400b22c0erow9_col13,#T_a374c734_0d6f_11eb_aa10_525400b22c0erow13_col9,#T_a374c734_0d6f_11eb_aa10_525400b22c0erow14_col5{\n",
       "            background-color:  #348ebf;\n",
       "            color:  #000000;\n",
       "        }#T_a374c734_0d6f_11eb_aa10_525400b22c0erow5_col15,#T_a374c734_0d6f_11eb_aa10_525400b22c0erow15_col5{\n",
       "            background-color:  #7eadd1;\n",
       "            color:  #000000;\n",
       "        }#T_a374c734_0d6f_11eb_aa10_525400b22c0erow5_col16,#T_a374c734_0d6f_11eb_aa10_525400b22c0erow16_col5{\n",
       "            background-color:  #045b8e;\n",
       "            color:  #f1f1f1;\n",
       "        }#T_a374c734_0d6f_11eb_aa10_525400b22c0erow6_col7,#T_a374c734_0d6f_11eb_aa10_525400b22c0erow7_col6{\n",
       "            background-color:  #05659f;\n",
       "            color:  #f1f1f1;\n",
       "        }#T_a374c734_0d6f_11eb_aa10_525400b22c0erow6_col9,#T_a374c734_0d6f_11eb_aa10_525400b22c0erow9_col6{\n",
       "            background-color:  #0a73b2;\n",
       "            color:  #f1f1f1;\n",
       "        }#T_a374c734_0d6f_11eb_aa10_525400b22c0erow6_col10,#T_a374c734_0d6f_11eb_aa10_525400b22c0erow10_col6{\n",
       "            background-color:  #0c74b2;\n",
       "            color:  #f1f1f1;\n",
       "        }#T_a374c734_0d6f_11eb_aa10_525400b22c0erow6_col11,#T_a374c734_0d6f_11eb_aa10_525400b22c0erow11_col6{\n",
       "            background-color:  #197db7;\n",
       "            color:  #000000;\n",
       "        }#T_a374c734_0d6f_11eb_aa10_525400b22c0erow6_col12,#T_a374c734_0d6f_11eb_aa10_525400b22c0erow12_col6{\n",
       "            background-color:  #2f8bbe;\n",
       "            color:  #000000;\n",
       "        }#T_a374c734_0d6f_11eb_aa10_525400b22c0erow6_col13,#T_a374c734_0d6f_11eb_aa10_525400b22c0erow13_col6{\n",
       "            background-color:  #045e94;\n",
       "            color:  #f1f1f1;\n",
       "        }#T_a374c734_0d6f_11eb_aa10_525400b22c0erow6_col14,#T_a374c734_0d6f_11eb_aa10_525400b22c0erow11_col12,#T_a374c734_0d6f_11eb_aa10_525400b22c0erow12_col11,#T_a374c734_0d6f_11eb_aa10_525400b22c0erow14_col6{\n",
       "            background-color:  #308cbe;\n",
       "            color:  #000000;\n",
       "        }#T_a374c734_0d6f_11eb_aa10_525400b22c0erow6_col15,#T_a374c734_0d6f_11eb_aa10_525400b22c0erow15_col6{\n",
       "            background-color:  #5ea0ca;\n",
       "            color:  #000000;\n",
       "        }#T_a374c734_0d6f_11eb_aa10_525400b22c0erow6_col16,#T_a374c734_0d6f_11eb_aa10_525400b22c0erow16_col6{\n",
       "            background-color:  #045280;\n",
       "            color:  #f1f1f1;\n",
       "        }#T_a374c734_0d6f_11eb_aa10_525400b22c0erow7_col8,#T_a374c734_0d6f_11eb_aa10_525400b22c0erow8_col7,#T_a374c734_0d6f_11eb_aa10_525400b22c0erow12_col16,#T_a374c734_0d6f_11eb_aa10_525400b22c0erow16_col12{\n",
       "            background-color:  #0771b1;\n",
       "            color:  #f1f1f1;\n",
       "        }#T_a374c734_0d6f_11eb_aa10_525400b22c0erow7_col9,#T_a374c734_0d6f_11eb_aa10_525400b22c0erow9_col7{\n",
       "            background-color:  #2c89bd;\n",
       "            color:  #000000;\n",
       "        }#T_a374c734_0d6f_11eb_aa10_525400b22c0erow7_col10,#T_a374c734_0d6f_11eb_aa10_525400b22c0erow10_col7,#T_a374c734_0d6f_11eb_aa10_525400b22c0erow12_col13,#T_a374c734_0d6f_11eb_aa10_525400b22c0erow12_col15,#T_a374c734_0d6f_11eb_aa10_525400b22c0erow13_col12,#T_a374c734_0d6f_11eb_aa10_525400b22c0erow15_col12{\n",
       "            background-color:  #2a88bc;\n",
       "            color:  #000000;\n",
       "        }#T_a374c734_0d6f_11eb_aa10_525400b22c0erow7_col11,#T_a374c734_0d6f_11eb_aa10_525400b22c0erow11_col7{\n",
       "            background-color:  #2d8abd;\n",
       "            color:  #000000;\n",
       "        }#T_a374c734_0d6f_11eb_aa10_525400b22c0erow7_col12,#T_a374c734_0d6f_11eb_aa10_525400b22c0erow8_col12,#T_a374c734_0d6f_11eb_aa10_525400b22c0erow12_col7,#T_a374c734_0d6f_11eb_aa10_525400b22c0erow12_col8{\n",
       "            background-color:  #2484ba;\n",
       "            color:  #000000;\n",
       "        }#T_a374c734_0d6f_11eb_aa10_525400b22c0erow7_col13,#T_a374c734_0d6f_11eb_aa10_525400b22c0erow13_col7{\n",
       "            background-color:  #045483;\n",
       "            color:  #f1f1f1;\n",
       "        }#T_a374c734_0d6f_11eb_aa10_525400b22c0erow7_col14,#T_a374c734_0d6f_11eb_aa10_525400b22c0erow14_col7{\n",
       "            background-color:  #0f76b3;\n",
       "            color:  #f1f1f1;\n",
       "        }#T_a374c734_0d6f_11eb_aa10_525400b22c0erow7_col16,#T_a374c734_0d6f_11eb_aa10_525400b22c0erow16_col7{\n",
       "            background-color:  #045b8f;\n",
       "            color:  #f1f1f1;\n",
       "        }#T_a374c734_0d6f_11eb_aa10_525400b22c0erow8_col9,#T_a374c734_0d6f_11eb_aa10_525400b22c0erow9_col8{\n",
       "            background-color:  #04629a;\n",
       "            color:  #f1f1f1;\n",
       "        }#T_a374c734_0d6f_11eb_aa10_525400b22c0erow8_col10,#T_a374c734_0d6f_11eb_aa10_525400b22c0erow10_col8{\n",
       "            background-color:  #056faf;\n",
       "            color:  #f1f1f1;\n",
       "        }#T_a374c734_0d6f_11eb_aa10_525400b22c0erow8_col11,#T_a374c734_0d6f_11eb_aa10_525400b22c0erow11_col8{\n",
       "            background-color:  #04649d;\n",
       "            color:  #f1f1f1;\n",
       "        }#T_a374c734_0d6f_11eb_aa10_525400b22c0erow8_col14,#T_a374c734_0d6f_11eb_aa10_525400b22c0erow14_col8{\n",
       "            background-color:  #2987bc;\n",
       "            color:  #000000;\n",
       "        }#T_a374c734_0d6f_11eb_aa10_525400b22c0erow8_col15,#T_a374c734_0d6f_11eb_aa10_525400b22c0erow15_col8{\n",
       "            background-color:  #76aad0;\n",
       "            color:  #000000;\n",
       "        }#T_a374c734_0d6f_11eb_aa10_525400b22c0erow8_col16,#T_a374c734_0d6f_11eb_aa10_525400b22c0erow16_col8{\n",
       "            background-color:  #045585;\n",
       "            color:  #f1f1f1;\n",
       "        }#T_a374c734_0d6f_11eb_aa10_525400b22c0erow9_col10,#T_a374c734_0d6f_11eb_aa10_525400b22c0erow10_col9,#T_a374c734_0d6f_11eb_aa10_525400b22c0erow13_col14,#T_a374c734_0d6f_11eb_aa10_525400b22c0erow14_col13{\n",
       "            background-color:  #056ead;\n",
       "            color:  #f1f1f1;\n",
       "        }#T_a374c734_0d6f_11eb_aa10_525400b22c0erow9_col11,#T_a374c734_0d6f_11eb_aa10_525400b22c0erow11_col9{\n",
       "            background-color:  #046299;\n",
       "            color:  #f1f1f1;\n",
       "        }#T_a374c734_0d6f_11eb_aa10_525400b22c0erow9_col12,#T_a374c734_0d6f_11eb_aa10_525400b22c0erow12_col9{\n",
       "            background-color:  #4094c3;\n",
       "            color:  #000000;\n",
       "        }#T_a374c734_0d6f_11eb_aa10_525400b22c0erow9_col14,#T_a374c734_0d6f_11eb_aa10_525400b22c0erow14_col9{\n",
       "            background-color:  #4c99c5;\n",
       "            color:  #000000;\n",
       "        }#T_a374c734_0d6f_11eb_aa10_525400b22c0erow10_col11,#T_a374c734_0d6f_11eb_aa10_525400b22c0erow10_col16,#T_a374c734_0d6f_11eb_aa10_525400b22c0erow11_col10,#T_a374c734_0d6f_11eb_aa10_525400b22c0erow13_col16,#T_a374c734_0d6f_11eb_aa10_525400b22c0erow16_col10,#T_a374c734_0d6f_11eb_aa10_525400b22c0erow16_col13{\n",
       "            background-color:  #045e93;\n",
       "            color:  #f1f1f1;\n",
       "        }#T_a374c734_0d6f_11eb_aa10_525400b22c0erow10_col12,#T_a374c734_0d6f_11eb_aa10_525400b22c0erow12_col10{\n",
       "            background-color:  #1e80b8;\n",
       "            color:  #000000;\n",
       "        }#T_a374c734_0d6f_11eb_aa10_525400b22c0erow10_col13,#T_a374c734_0d6f_11eb_aa10_525400b22c0erow13_col10{\n",
       "            background-color:  #4a98c5;\n",
       "            color:  #000000;\n",
       "        }#T_a374c734_0d6f_11eb_aa10_525400b22c0erow10_col14,#T_a374c734_0d6f_11eb_aa10_525400b22c0erow14_col10{\n",
       "            background-color:  #75a9cf;\n",
       "            color:  #000000;\n",
       "        }#T_a374c734_0d6f_11eb_aa10_525400b22c0erow10_col15,#T_a374c734_0d6f_11eb_aa10_525400b22c0erow15_col10{\n",
       "            background-color:  #71a8ce;\n",
       "            color:  #000000;\n",
       "        }#T_a374c734_0d6f_11eb_aa10_525400b22c0erow11_col13,#T_a374c734_0d6f_11eb_aa10_525400b22c0erow13_col11{\n",
       "            background-color:  #3f93c2;\n",
       "            color:  #000000;\n",
       "        }#T_a374c734_0d6f_11eb_aa10_525400b22c0erow11_col14,#T_a374c734_0d6f_11eb_aa10_525400b22c0erow14_col11{\n",
       "            background-color:  #67a4cc;\n",
       "            color:  #000000;\n",
       "        }#T_a374c734_0d6f_11eb_aa10_525400b22c0erow11_col15,#T_a374c734_0d6f_11eb_aa10_525400b22c0erow15_col11{\n",
       "            background-color:  #96b6d7;\n",
       "            color:  #000000;\n",
       "        }#T_a374c734_0d6f_11eb_aa10_525400b22c0erow11_col16,#T_a374c734_0d6f_11eb_aa10_525400b22c0erow16_col11{\n",
       "            background-color:  #045f95;\n",
       "            color:  #f1f1f1;\n",
       "        }#T_a374c734_0d6f_11eb_aa10_525400b22c0erow12_col14,#T_a374c734_0d6f_11eb_aa10_525400b22c0erow14_col12{\n",
       "            background-color:  #1b7eb7;\n",
       "            color:  #000000;\n",
       "        }#T_a374c734_0d6f_11eb_aa10_525400b22c0erow13_col15,#T_a374c734_0d6f_11eb_aa10_525400b22c0erow15_col13{\n",
       "            background-color:  #157ab5;\n",
       "            color:  #000000;\n",
       "        }#T_a374c734_0d6f_11eb_aa10_525400b22c0erow14_col15,#T_a374c734_0d6f_11eb_aa10_525400b22c0erow15_col14{\n",
       "            background-color:  #3991c1;\n",
       "            color:  #000000;\n",
       "        }#T_a374c734_0d6f_11eb_aa10_525400b22c0erow14_col16,#T_a374c734_0d6f_11eb_aa10_525400b22c0erow16_col14{\n",
       "            background-color:  #358fc0;\n",
       "            color:  #000000;\n",
       "        }</style><table id=\"T_a374c734_0d6f_11eb_aa10_525400b22c0e\" ><thead>    <tr>        <th class=\"blank level0\" ></th>        <th class=\"col_heading level0 col0\" >Rt</th>        <th class=\"col_heading level0 col1\" >theta</th>        <th class=\"col_heading level0 col2\" >kappa</th>        <th class=\"col_heading level0 col3\" >rho</th>        <th class=\"col_heading level0 col4\" >sigma</th>        <th class=\"col_heading level0 col5\" >School_closing</th>        <th class=\"col_heading level0 col6\" >Workplace_closing</th>        <th class=\"col_heading level0 col7\" >Cancel_events</th>        <th class=\"col_heading level0 col8\" >Gatherings_restrictions</th>        <th class=\"col_heading level0 col9\" >Transport_closing</th>        <th class=\"col_heading level0 col10\" >Stay_home_restrictions</th>        <th class=\"col_heading level0 col11\" >Internal_movement_restrictions</th>        <th class=\"col_heading level0 col12\" >International_movement_restrictions</th>        <th class=\"col_heading level0 col13\" >Information_campaigns</th>        <th class=\"col_heading level0 col14\" >Testing_policy</th>        <th class=\"col_heading level0 col15\" >Contact_tracing</th>        <th class=\"col_heading level0 col16\" >Stringency_index</th>    </tr></thead><tbody>\n",
       "                <tr>\n",
       "                        <th id=\"T_a374c734_0d6f_11eb_aa10_525400b22c0elevel0_row0\" class=\"row_heading level0 row0\" >Rt</th>\n",
       "                        <td id=\"T_a374c734_0d6f_11eb_aa10_525400b22c0erow0_col0\" class=\"data row0 col0\" >1.000000</td>\n",
       "                        <td id=\"T_a374c734_0d6f_11eb_aa10_525400b22c0erow0_col1\" class=\"data row0 col1\" >-0.117349</td>\n",
       "                        <td id=\"T_a374c734_0d6f_11eb_aa10_525400b22c0erow0_col2\" class=\"data row0 col2\" >-0.256688</td>\n",
       "                        <td id=\"T_a374c734_0d6f_11eb_aa10_525400b22c0erow0_col3\" class=\"data row0 col3\" >0.121297</td>\n",
       "                        <td id=\"T_a374c734_0d6f_11eb_aa10_525400b22c0erow0_col4\" class=\"data row0 col4\" >-0.215743</td>\n",
       "                        <td id=\"T_a374c734_0d6f_11eb_aa10_525400b22c0erow0_col5\" class=\"data row0 col5\" >-0.158995</td>\n",
       "                        <td id=\"T_a374c734_0d6f_11eb_aa10_525400b22c0erow0_col6\" class=\"data row0 col6\" >-0.079639</td>\n",
       "                        <td id=\"T_a374c734_0d6f_11eb_aa10_525400b22c0erow0_col7\" class=\"data row0 col7\" >-0.265059</td>\n",
       "                        <td id=\"T_a374c734_0d6f_11eb_aa10_525400b22c0erow0_col8\" class=\"data row0 col8\" >-0.018121</td>\n",
       "                        <td id=\"T_a374c734_0d6f_11eb_aa10_525400b22c0erow0_col9\" class=\"data row0 col9\" >-0.184462</td>\n",
       "                        <td id=\"T_a374c734_0d6f_11eb_aa10_525400b22c0erow0_col10\" class=\"data row0 col10\" >-0.246558</td>\n",
       "                        <td id=\"T_a374c734_0d6f_11eb_aa10_525400b22c0erow0_col11\" class=\"data row0 col11\" >-0.122378</td>\n",
       "                        <td id=\"T_a374c734_0d6f_11eb_aa10_525400b22c0erow0_col12\" class=\"data row0 col12\" >-0.318923</td>\n",
       "                        <td id=\"T_a374c734_0d6f_11eb_aa10_525400b22c0erow0_col13\" class=\"data row0 col13\" >-0.092197</td>\n",
       "                        <td id=\"T_a374c734_0d6f_11eb_aa10_525400b22c0erow0_col14\" class=\"data row0 col14\" >-0.185546</td>\n",
       "                        <td id=\"T_a374c734_0d6f_11eb_aa10_525400b22c0erow0_col15\" class=\"data row0 col15\" >-0.230837</td>\n",
       "                        <td id=\"T_a374c734_0d6f_11eb_aa10_525400b22c0erow0_col16\" class=\"data row0 col16\" >-0.178880</td>\n",
       "            </tr>\n",
       "            <tr>\n",
       "                        <th id=\"T_a374c734_0d6f_11eb_aa10_525400b22c0elevel0_row1\" class=\"row_heading level0 row1\" >theta</th>\n",
       "                        <td id=\"T_a374c734_0d6f_11eb_aa10_525400b22c0erow1_col0\" class=\"data row1 col0\" >-0.117349</td>\n",
       "                        <td id=\"T_a374c734_0d6f_11eb_aa10_525400b22c0erow1_col1\" class=\"data row1 col1\" >1.000000</td>\n",
       "                        <td id=\"T_a374c734_0d6f_11eb_aa10_525400b22c0erow1_col2\" class=\"data row1 col2\" >0.949081</td>\n",
       "                        <td id=\"T_a374c734_0d6f_11eb_aa10_525400b22c0erow1_col3\" class=\"data row1 col3\" >0.799493</td>\n",
       "                        <td id=\"T_a374c734_0d6f_11eb_aa10_525400b22c0erow1_col4\" class=\"data row1 col4\" >-0.032061</td>\n",
       "                        <td id=\"T_a374c734_0d6f_11eb_aa10_525400b22c0erow1_col5\" class=\"data row1 col5\" >-0.228432</td>\n",
       "                        <td id=\"T_a374c734_0d6f_11eb_aa10_525400b22c0erow1_col6\" class=\"data row1 col6\" >-0.188667</td>\n",
       "                        <td id=\"T_a374c734_0d6f_11eb_aa10_525400b22c0erow1_col7\" class=\"data row1 col7\" >-0.335485</td>\n",
       "                        <td id=\"T_a374c734_0d6f_11eb_aa10_525400b22c0erow1_col8\" class=\"data row1 col8\" >-0.227396</td>\n",
       "                        <td id=\"T_a374c734_0d6f_11eb_aa10_525400b22c0erow1_col9\" class=\"data row1 col9\" >-0.222293</td>\n",
       "                        <td id=\"T_a374c734_0d6f_11eb_aa10_525400b22c0erow1_col10\" class=\"data row1 col10\" >0.174836</td>\n",
       "                        <td id=\"T_a374c734_0d6f_11eb_aa10_525400b22c0erow1_col11\" class=\"data row1 col11\" >-0.020203</td>\n",
       "                        <td id=\"T_a374c734_0d6f_11eb_aa10_525400b22c0erow1_col12\" class=\"data row1 col12\" >0.074991</td>\n",
       "                        <td id=\"T_a374c734_0d6f_11eb_aa10_525400b22c0erow1_col13\" class=\"data row1 col13\" >-0.414401</td>\n",
       "                        <td id=\"T_a374c734_0d6f_11eb_aa10_525400b22c0erow1_col14\" class=\"data row1 col14\" >-0.442481</td>\n",
       "                        <td id=\"T_a374c734_0d6f_11eb_aa10_525400b22c0erow1_col15\" class=\"data row1 col15\" >-0.105436</td>\n",
       "                        <td id=\"T_a374c734_0d6f_11eb_aa10_525400b22c0erow1_col16\" class=\"data row1 col16\" >-0.139156</td>\n",
       "            </tr>\n",
       "            <tr>\n",
       "                        <th id=\"T_a374c734_0d6f_11eb_aa10_525400b22c0elevel0_row2\" class=\"row_heading level0 row2\" >kappa</th>\n",
       "                        <td id=\"T_a374c734_0d6f_11eb_aa10_525400b22c0erow2_col0\" class=\"data row2 col0\" >-0.256688</td>\n",
       "                        <td id=\"T_a374c734_0d6f_11eb_aa10_525400b22c0erow2_col1\" class=\"data row2 col1\" >0.949081</td>\n",
       "                        <td id=\"T_a374c734_0d6f_11eb_aa10_525400b22c0erow2_col2\" class=\"data row2 col2\" >1.000000</td>\n",
       "                        <td id=\"T_a374c734_0d6f_11eb_aa10_525400b22c0erow2_col3\" class=\"data row2 col3\" >0.770925</td>\n",
       "                        <td id=\"T_a374c734_0d6f_11eb_aa10_525400b22c0erow2_col4\" class=\"data row2 col4\" >-0.074787</td>\n",
       "                        <td id=\"T_a374c734_0d6f_11eb_aa10_525400b22c0erow2_col5\" class=\"data row2 col5\" >-0.217921</td>\n",
       "                        <td id=\"T_a374c734_0d6f_11eb_aa10_525400b22c0erow2_col6\" class=\"data row2 col6\" >-0.155869</td>\n",
       "                        <td id=\"T_a374c734_0d6f_11eb_aa10_525400b22c0erow2_col7\" class=\"data row2 col7\" >-0.284942</td>\n",
       "                        <td id=\"T_a374c734_0d6f_11eb_aa10_525400b22c0erow2_col8\" class=\"data row2 col8\" >-0.177036</td>\n",
       "                        <td id=\"T_a374c734_0d6f_11eb_aa10_525400b22c0erow2_col9\" class=\"data row2 col9\" >-0.181372</td>\n",
       "                        <td id=\"T_a374c734_0d6f_11eb_aa10_525400b22c0erow2_col10\" class=\"data row2 col10\" >0.211432</td>\n",
       "                        <td id=\"T_a374c734_0d6f_11eb_aa10_525400b22c0erow2_col11\" class=\"data row2 col11\" >0.029832</td>\n",
       "                        <td id=\"T_a374c734_0d6f_11eb_aa10_525400b22c0erow2_col12\" class=\"data row2 col12\" >0.218775</td>\n",
       "                        <td id=\"T_a374c734_0d6f_11eb_aa10_525400b22c0erow2_col13\" class=\"data row2 col13\" >-0.362808</td>\n",
       "                        <td id=\"T_a374c734_0d6f_11eb_aa10_525400b22c0erow2_col14\" class=\"data row2 col14\" >-0.305856</td>\n",
       "                        <td id=\"T_a374c734_0d6f_11eb_aa10_525400b22c0erow2_col15\" class=\"data row2 col15\" >-0.023613</td>\n",
       "                        <td id=\"T_a374c734_0d6f_11eb_aa10_525400b22c0erow2_col16\" class=\"data row2 col16\" >-0.104675</td>\n",
       "            </tr>\n",
       "            <tr>\n",
       "                        <th id=\"T_a374c734_0d6f_11eb_aa10_525400b22c0elevel0_row3\" class=\"row_heading level0 row3\" >rho</th>\n",
       "                        <td id=\"T_a374c734_0d6f_11eb_aa10_525400b22c0erow3_col0\" class=\"data row3 col0\" >0.121297</td>\n",
       "                        <td id=\"T_a374c734_0d6f_11eb_aa10_525400b22c0erow3_col1\" class=\"data row3 col1\" >0.799493</td>\n",
       "                        <td id=\"T_a374c734_0d6f_11eb_aa10_525400b22c0erow3_col2\" class=\"data row3 col2\" >0.770925</td>\n",
       "                        <td id=\"T_a374c734_0d6f_11eb_aa10_525400b22c0erow3_col3\" class=\"data row3 col3\" >1.000000</td>\n",
       "                        <td id=\"T_a374c734_0d6f_11eb_aa10_525400b22c0erow3_col4\" class=\"data row3 col4\" >0.152737</td>\n",
       "                        <td id=\"T_a374c734_0d6f_11eb_aa10_525400b22c0erow3_col5\" class=\"data row3 col5\" >-0.146100</td>\n",
       "                        <td id=\"T_a374c734_0d6f_11eb_aa10_525400b22c0erow3_col6\" class=\"data row3 col6\" >-0.089452</td>\n",
       "                        <td id=\"T_a374c734_0d6f_11eb_aa10_525400b22c0erow3_col7\" class=\"data row3 col7\" >-0.298805</td>\n",
       "                        <td id=\"T_a374c734_0d6f_11eb_aa10_525400b22c0erow3_col8\" class=\"data row3 col8\" >-0.135912</td>\n",
       "                        <td id=\"T_a374c734_0d6f_11eb_aa10_525400b22c0erow3_col9\" class=\"data row3 col9\" >-0.166598</td>\n",
       "                        <td id=\"T_a374c734_0d6f_11eb_aa10_525400b22c0erow3_col10\" class=\"data row3 col10\" >0.214401</td>\n",
       "                        <td id=\"T_a374c734_0d6f_11eb_aa10_525400b22c0erow3_col11\" class=\"data row3 col11\" >0.044465</td>\n",
       "                        <td id=\"T_a374c734_0d6f_11eb_aa10_525400b22c0erow3_col12\" class=\"data row3 col12\" >0.064939</td>\n",
       "                        <td id=\"T_a374c734_0d6f_11eb_aa10_525400b22c0erow3_col13\" class=\"data row3 col13\" >-0.365597</td>\n",
       "                        <td id=\"T_a374c734_0d6f_11eb_aa10_525400b22c0erow3_col14\" class=\"data row3 col14\" >-0.459347</td>\n",
       "                        <td id=\"T_a374c734_0d6f_11eb_aa10_525400b22c0erow3_col15\" class=\"data row3 col15\" >-0.127574</td>\n",
       "                        <td id=\"T_a374c734_0d6f_11eb_aa10_525400b22c0erow3_col16\" class=\"data row3 col16\" >-0.062279</td>\n",
       "            </tr>\n",
       "            <tr>\n",
       "                        <th id=\"T_a374c734_0d6f_11eb_aa10_525400b22c0elevel0_row4\" class=\"row_heading level0 row4\" >sigma</th>\n",
       "                        <td id=\"T_a374c734_0d6f_11eb_aa10_525400b22c0erow4_col0\" class=\"data row4 col0\" >-0.215743</td>\n",
       "                        <td id=\"T_a374c734_0d6f_11eb_aa10_525400b22c0erow4_col1\" class=\"data row4 col1\" >-0.032061</td>\n",
       "                        <td id=\"T_a374c734_0d6f_11eb_aa10_525400b22c0erow4_col2\" class=\"data row4 col2\" >-0.074787</td>\n",
       "                        <td id=\"T_a374c734_0d6f_11eb_aa10_525400b22c0erow4_col3\" class=\"data row4 col3\" >0.152737</td>\n",
       "                        <td id=\"T_a374c734_0d6f_11eb_aa10_525400b22c0erow4_col4\" class=\"data row4 col4\" >1.000000</td>\n",
       "                        <td id=\"T_a374c734_0d6f_11eb_aa10_525400b22c0erow4_col5\" class=\"data row4 col5\" >0.201653</td>\n",
       "                        <td id=\"T_a374c734_0d6f_11eb_aa10_525400b22c0erow4_col6\" class=\"data row4 col6\" >0.069259</td>\n",
       "                        <td id=\"T_a374c734_0d6f_11eb_aa10_525400b22c0erow4_col7\" class=\"data row4 col7\" >0.131878</td>\n",
       "                        <td id=\"T_a374c734_0d6f_11eb_aa10_525400b22c0erow4_col8\" class=\"data row4 col8\" >-0.027557</td>\n",
       "                        <td id=\"T_a374c734_0d6f_11eb_aa10_525400b22c0erow4_col9\" class=\"data row4 col9\" >0.083874</td>\n",
       "                        <td id=\"T_a374c734_0d6f_11eb_aa10_525400b22c0erow4_col10\" class=\"data row4 col10\" >0.132809</td>\n",
       "                        <td id=\"T_a374c734_0d6f_11eb_aa10_525400b22c0erow4_col11\" class=\"data row4 col11\" >0.036575</td>\n",
       "                        <td id=\"T_a374c734_0d6f_11eb_aa10_525400b22c0erow4_col12\" class=\"data row4 col12\" >-0.031310</td>\n",
       "                        <td id=\"T_a374c734_0d6f_11eb_aa10_525400b22c0erow4_col13\" class=\"data row4 col13\" >0.076455</td>\n",
       "                        <td id=\"T_a374c734_0d6f_11eb_aa10_525400b22c0erow4_col14\" class=\"data row4 col14\" >-0.138740</td>\n",
       "                        <td id=\"T_a374c734_0d6f_11eb_aa10_525400b22c0erow4_col15\" class=\"data row4 col15\" >0.121282</td>\n",
       "                        <td id=\"T_a374c734_0d6f_11eb_aa10_525400b22c0erow4_col16\" class=\"data row4 col16\" >0.162550</td>\n",
       "            </tr>\n",
       "            <tr>\n",
       "                        <th id=\"T_a374c734_0d6f_11eb_aa10_525400b22c0elevel0_row5\" class=\"row_heading level0 row5\" >School_closing</th>\n",
       "                        <td id=\"T_a374c734_0d6f_11eb_aa10_525400b22c0erow5_col0\" class=\"data row5 col0\" >-0.158995</td>\n",
       "                        <td id=\"T_a374c734_0d6f_11eb_aa10_525400b22c0erow5_col1\" class=\"data row5 col1\" >-0.228432</td>\n",
       "                        <td id=\"T_a374c734_0d6f_11eb_aa10_525400b22c0erow5_col2\" class=\"data row5 col2\" >-0.217921</td>\n",
       "                        <td id=\"T_a374c734_0d6f_11eb_aa10_525400b22c0erow5_col3\" class=\"data row5 col3\" >-0.146100</td>\n",
       "                        <td id=\"T_a374c734_0d6f_11eb_aa10_525400b22c0erow5_col4\" class=\"data row5 col4\" >0.201653</td>\n",
       "                        <td id=\"T_a374c734_0d6f_11eb_aa10_525400b22c0erow5_col5\" class=\"data row5 col5\" >1.000000</td>\n",
       "                        <td id=\"T_a374c734_0d6f_11eb_aa10_525400b22c0erow5_col6\" class=\"data row5 col6\" >0.708620</td>\n",
       "                        <td id=\"T_a374c734_0d6f_11eb_aa10_525400b22c0erow5_col7\" class=\"data row5 col7\" >0.764327</td>\n",
       "                        <td id=\"T_a374c734_0d6f_11eb_aa10_525400b22c0erow5_col8\" class=\"data row5 col8\" >0.602619</td>\n",
       "                        <td id=\"T_a374c734_0d6f_11eb_aa10_525400b22c0erow5_col9\" class=\"data row5 col9\" >0.591681</td>\n",
       "                        <td id=\"T_a374c734_0d6f_11eb_aa10_525400b22c0erow5_col10\" class=\"data row5 col10\" >0.569320</td>\n",
       "                        <td id=\"T_a374c734_0d6f_11eb_aa10_525400b22c0erow5_col11\" class=\"data row5 col11\" >0.534650</td>\n",
       "                        <td id=\"T_a374c734_0d6f_11eb_aa10_525400b22c0erow5_col12\" class=\"data row5 col12\" >0.413010</td>\n",
       "                        <td id=\"T_a374c734_0d6f_11eb_aa10_525400b22c0erow5_col13\" class=\"data row5 col13\" >0.670298</td>\n",
       "                        <td id=\"T_a374c734_0d6f_11eb_aa10_525400b22c0erow5_col14\" class=\"data row5 col14\" >0.463831</td>\n",
       "                        <td id=\"T_a374c734_0d6f_11eb_aa10_525400b22c0erow5_col15\" class=\"data row5 col15\" >0.233313</td>\n",
       "                        <td id=\"T_a374c734_0d6f_11eb_aa10_525400b22c0erow5_col16\" class=\"data row5 col16\" >0.808707</td>\n",
       "            </tr>\n",
       "            <tr>\n",
       "                        <th id=\"T_a374c734_0d6f_11eb_aa10_525400b22c0elevel0_row6\" class=\"row_heading level0 row6\" >Workplace_closing</th>\n",
       "                        <td id=\"T_a374c734_0d6f_11eb_aa10_525400b22c0erow6_col0\" class=\"data row6 col0\" >-0.079639</td>\n",
       "                        <td id=\"T_a374c734_0d6f_11eb_aa10_525400b22c0erow6_col1\" class=\"data row6 col1\" >-0.188667</td>\n",
       "                        <td id=\"T_a374c734_0d6f_11eb_aa10_525400b22c0erow6_col2\" class=\"data row6 col2\" >-0.155869</td>\n",
       "                        <td id=\"T_a374c734_0d6f_11eb_aa10_525400b22c0erow6_col3\" class=\"data row6 col3\" >-0.089452</td>\n",
       "                        <td id=\"T_a374c734_0d6f_11eb_aa10_525400b22c0erow6_col4\" class=\"data row6 col4\" >0.069259</td>\n",
       "                        <td id=\"T_a374c734_0d6f_11eb_aa10_525400b22c0erow6_col5\" class=\"data row6 col5\" >0.708620</td>\n",
       "                        <td id=\"T_a374c734_0d6f_11eb_aa10_525400b22c0erow6_col6\" class=\"data row6 col6\" >1.000000</td>\n",
       "                        <td id=\"T_a374c734_0d6f_11eb_aa10_525400b22c0erow6_col7\" class=\"data row6 col7\" >0.725669</td>\n",
       "                        <td id=\"T_a374c734_0d6f_11eb_aa10_525400b22c0erow6_col8\" class=\"data row6 col8\" >0.674824</td>\n",
       "                        <td id=\"T_a374c734_0d6f_11eb_aa10_525400b22c0erow6_col9\" class=\"data row6 col9\" >0.612730</td>\n",
       "                        <td id=\"T_a374c734_0d6f_11eb_aa10_525400b22c0erow6_col10\" class=\"data row6 col10\" >0.609670</td>\n",
       "                        <td id=\"T_a374c734_0d6f_11eb_aa10_525400b22c0erow6_col11\" class=\"data row6 col11\" >0.556729</td>\n",
       "                        <td id=\"T_a374c734_0d6f_11eb_aa10_525400b22c0erow6_col12\" class=\"data row6 col12\" >0.477115</td>\n",
       "                        <td id=\"T_a374c734_0d6f_11eb_aa10_525400b22c0erow6_col13\" class=\"data row6 col13\" >0.782626</td>\n",
       "                        <td id=\"T_a374c734_0d6f_11eb_aa10_525400b22c0erow6_col14\" class=\"data row6 col14\" >0.472697</td>\n",
       "                        <td id=\"T_a374c734_0d6f_11eb_aa10_525400b22c0erow6_col15\" class=\"data row6 col15\" >0.333362</td>\n",
       "                        <td id=\"T_a374c734_0d6f_11eb_aa10_525400b22c0erow6_col16\" class=\"data row6 col16\" >0.857927</td>\n",
       "            </tr>\n",
       "            <tr>\n",
       "                        <th id=\"T_a374c734_0d6f_11eb_aa10_525400b22c0elevel0_row7\" class=\"row_heading level0 row7\" >Cancel_events</th>\n",
       "                        <td id=\"T_a374c734_0d6f_11eb_aa10_525400b22c0erow7_col0\" class=\"data row7 col0\" >-0.265059</td>\n",
       "                        <td id=\"T_a374c734_0d6f_11eb_aa10_525400b22c0erow7_col1\" class=\"data row7 col1\" >-0.335485</td>\n",
       "                        <td id=\"T_a374c734_0d6f_11eb_aa10_525400b22c0erow7_col2\" class=\"data row7 col2\" >-0.284942</td>\n",
       "                        <td id=\"T_a374c734_0d6f_11eb_aa10_525400b22c0erow7_col3\" class=\"data row7 col3\" >-0.298805</td>\n",
       "                        <td id=\"T_a374c734_0d6f_11eb_aa10_525400b22c0erow7_col4\" class=\"data row7 col4\" >0.131878</td>\n",
       "                        <td id=\"T_a374c734_0d6f_11eb_aa10_525400b22c0erow7_col5\" class=\"data row7 col5\" >0.764327</td>\n",
       "                        <td id=\"T_a374c734_0d6f_11eb_aa10_525400b22c0erow7_col6\" class=\"data row7 col6\" >0.725669</td>\n",
       "                        <td id=\"T_a374c734_0d6f_11eb_aa10_525400b22c0erow7_col7\" class=\"data row7 col7\" >1.000000</td>\n",
       "                        <td id=\"T_a374c734_0d6f_11eb_aa10_525400b22c0erow7_col8\" class=\"data row7 col8\" >0.625326</td>\n",
       "                        <td id=\"T_a374c734_0d6f_11eb_aa10_525400b22c0erow7_col9\" class=\"data row7 col9\" >0.492584</td>\n",
       "                        <td id=\"T_a374c734_0d6f_11eb_aa10_525400b22c0erow7_col10\" class=\"data row7 col10\" >0.494846</td>\n",
       "                        <td id=\"T_a374c734_0d6f_11eb_aa10_525400b22c0erow7_col11\" class=\"data row7 col11\" >0.482371</td>\n",
       "                        <td id=\"T_a374c734_0d6f_11eb_aa10_525400b22c0erow7_col12\" class=\"data row7 col12\" >0.520838</td>\n",
       "                        <td id=\"T_a374c734_0d6f_11eb_aa10_525400b22c0erow7_col13\" class=\"data row7 col13\" >0.850501</td>\n",
       "                        <td id=\"T_a374c734_0d6f_11eb_aa10_525400b22c0erow7_col14\" class=\"data row7 col14\" >0.600378</td>\n",
       "                        <td id=\"T_a374c734_0d6f_11eb_aa10_525400b22c0erow7_col15\" class=\"data row7 col15\" >0.571227</td>\n",
       "                        <td id=\"T_a374c734_0d6f_11eb_aa10_525400b22c0erow7_col16\" class=\"data row7 col16\" >0.805575</td>\n",
       "            </tr>\n",
       "            <tr>\n",
       "                        <th id=\"T_a374c734_0d6f_11eb_aa10_525400b22c0elevel0_row8\" class=\"row_heading level0 row8\" >Gatherings_restrictions</th>\n",
       "                        <td id=\"T_a374c734_0d6f_11eb_aa10_525400b22c0erow8_col0\" class=\"data row8 col0\" >-0.018121</td>\n",
       "                        <td id=\"T_a374c734_0d6f_11eb_aa10_525400b22c0erow8_col1\" class=\"data row8 col1\" >-0.227396</td>\n",
       "                        <td id=\"T_a374c734_0d6f_11eb_aa10_525400b22c0erow8_col2\" class=\"data row8 col2\" >-0.177036</td>\n",
       "                        <td id=\"T_a374c734_0d6f_11eb_aa10_525400b22c0erow8_col3\" class=\"data row8 col3\" >-0.135912</td>\n",
       "                        <td id=\"T_a374c734_0d6f_11eb_aa10_525400b22c0erow8_col4\" class=\"data row8 col4\" >-0.027557</td>\n",
       "                        <td id=\"T_a374c734_0d6f_11eb_aa10_525400b22c0erow8_col5\" class=\"data row8 col5\" >0.602619</td>\n",
       "                        <td id=\"T_a374c734_0d6f_11eb_aa10_525400b22c0erow8_col6\" class=\"data row8 col6\" >0.674824</td>\n",
       "                        <td id=\"T_a374c734_0d6f_11eb_aa10_525400b22c0erow8_col7\" class=\"data row8 col7\" >0.625326</td>\n",
       "                        <td id=\"T_a374c734_0d6f_11eb_aa10_525400b22c0erow8_col8\" class=\"data row8 col8\" >1.000000</td>\n",
       "                        <td id=\"T_a374c734_0d6f_11eb_aa10_525400b22c0erow8_col9\" class=\"data row8 col9\" >0.743625</td>\n",
       "                        <td id=\"T_a374c734_0d6f_11eb_aa10_525400b22c0erow8_col10\" class=\"data row8 col10\" >0.639164</td>\n",
       "                        <td id=\"T_a374c734_0d6f_11eb_aa10_525400b22c0erow8_col11\" class=\"data row8 col11\" >0.734771</td>\n",
       "                        <td id=\"T_a374c734_0d6f_11eb_aa10_525400b22c0erow8_col12\" class=\"data row8 col12\" >0.517038</td>\n",
       "                        <td id=\"T_a374c734_0d6f_11eb_aa10_525400b22c0erow8_col13\" class=\"data row8 col13\" >0.673417</td>\n",
       "                        <td id=\"T_a374c734_0d6f_11eb_aa10_525400b22c0erow8_col14\" class=\"data row8 col14\" >0.499487</td>\n",
       "                        <td id=\"T_a374c734_0d6f_11eb_aa10_525400b22c0erow8_col15\" class=\"data row8 col15\" >0.259181</td>\n",
       "                        <td id=\"T_a374c734_0d6f_11eb_aa10_525400b22c0erow8_col16\" class=\"data row8 col16\" >0.842961</td>\n",
       "            </tr>\n",
       "            <tr>\n",
       "                        <th id=\"T_a374c734_0d6f_11eb_aa10_525400b22c0elevel0_row9\" class=\"row_heading level0 row9\" >Transport_closing</th>\n",
       "                        <td id=\"T_a374c734_0d6f_11eb_aa10_525400b22c0erow9_col0\" class=\"data row9 col0\" >-0.184462</td>\n",
       "                        <td id=\"T_a374c734_0d6f_11eb_aa10_525400b22c0erow9_col1\" class=\"data row9 col1\" >-0.222293</td>\n",
       "                        <td id=\"T_a374c734_0d6f_11eb_aa10_525400b22c0erow9_col2\" class=\"data row9 col2\" >-0.181372</td>\n",
       "                        <td id=\"T_a374c734_0d6f_11eb_aa10_525400b22c0erow9_col3\" class=\"data row9 col3\" >-0.166598</td>\n",
       "                        <td id=\"T_a374c734_0d6f_11eb_aa10_525400b22c0erow9_col4\" class=\"data row9 col4\" >0.083874</td>\n",
       "                        <td id=\"T_a374c734_0d6f_11eb_aa10_525400b22c0erow9_col5\" class=\"data row9 col5\" >0.591681</td>\n",
       "                        <td id=\"T_a374c734_0d6f_11eb_aa10_525400b22c0erow9_col6\" class=\"data row9 col6\" >0.612730</td>\n",
       "                        <td id=\"T_a374c734_0d6f_11eb_aa10_525400b22c0erow9_col7\" class=\"data row9 col7\" >0.492584</td>\n",
       "                        <td id=\"T_a374c734_0d6f_11eb_aa10_525400b22c0erow9_col8\" class=\"data row9 col8\" >0.743625</td>\n",
       "                        <td id=\"T_a374c734_0d6f_11eb_aa10_525400b22c0erow9_col9\" class=\"data row9 col9\" >1.000000</td>\n",
       "                        <td id=\"T_a374c734_0d6f_11eb_aa10_525400b22c0erow9_col10\" class=\"data row9 col10\" >0.649551</td>\n",
       "                        <td id=\"T_a374c734_0d6f_11eb_aa10_525400b22c0erow9_col11\" class=\"data row9 col11\" >0.753815</td>\n",
       "                        <td id=\"T_a374c734_0d6f_11eb_aa10_525400b22c0erow9_col12\" class=\"data row9 col12\" >0.424141</td>\n",
       "                        <td id=\"T_a374c734_0d6f_11eb_aa10_525400b22c0erow9_col13\" class=\"data row9 col13\" >0.458864</td>\n",
       "                        <td id=\"T_a374c734_0d6f_11eb_aa10_525400b22c0erow9_col14\" class=\"data row9 col14\" >0.387496</td>\n",
       "                        <td id=\"T_a374c734_0d6f_11eb_aa10_525400b22c0erow9_col15\" class=\"data row9 col15\" >0.031306</td>\n",
       "                        <td id=\"T_a374c734_0d6f_11eb_aa10_525400b22c0erow9_col16\" class=\"data row9 col16\" >0.766932</td>\n",
       "            </tr>\n",
       "            <tr>\n",
       "                        <th id=\"T_a374c734_0d6f_11eb_aa10_525400b22c0elevel0_row10\" class=\"row_heading level0 row10\" >Stay_home_restrictions</th>\n",
       "                        <td id=\"T_a374c734_0d6f_11eb_aa10_525400b22c0erow10_col0\" class=\"data row10 col0\" >-0.246558</td>\n",
       "                        <td id=\"T_a374c734_0d6f_11eb_aa10_525400b22c0erow10_col1\" class=\"data row10 col1\" >0.174836</td>\n",
       "                        <td id=\"T_a374c734_0d6f_11eb_aa10_525400b22c0erow10_col2\" class=\"data row10 col2\" >0.211432</td>\n",
       "                        <td id=\"T_a374c734_0d6f_11eb_aa10_525400b22c0erow10_col3\" class=\"data row10 col3\" >0.214401</td>\n",
       "                        <td id=\"T_a374c734_0d6f_11eb_aa10_525400b22c0erow10_col4\" class=\"data row10 col4\" >0.132809</td>\n",
       "                        <td id=\"T_a374c734_0d6f_11eb_aa10_525400b22c0erow10_col5\" class=\"data row10 col5\" >0.569320</td>\n",
       "                        <td id=\"T_a374c734_0d6f_11eb_aa10_525400b22c0erow10_col6\" class=\"data row10 col6\" >0.609670</td>\n",
       "                        <td id=\"T_a374c734_0d6f_11eb_aa10_525400b22c0erow10_col7\" class=\"data row10 col7\" >0.494846</td>\n",
       "                        <td id=\"T_a374c734_0d6f_11eb_aa10_525400b22c0erow10_col8\" class=\"data row10 col8\" >0.639164</td>\n",
       "                        <td id=\"T_a374c734_0d6f_11eb_aa10_525400b22c0erow10_col9\" class=\"data row10 col9\" >0.649551</td>\n",
       "                        <td id=\"T_a374c734_0d6f_11eb_aa10_525400b22c0erow10_col10\" class=\"data row10 col10\" >1.000000</td>\n",
       "                        <td id=\"T_a374c734_0d6f_11eb_aa10_525400b22c0erow10_col11\" class=\"data row10 col11\" >0.785370</td>\n",
       "                        <td id=\"T_a374c734_0d6f_11eb_aa10_525400b22c0erow10_col12\" class=\"data row10 col12\" >0.538312</td>\n",
       "                        <td id=\"T_a374c734_0d6f_11eb_aa10_525400b22c0erow10_col13\" class=\"data row10 col13\" >0.391456</td>\n",
       "                        <td id=\"T_a374c734_0d6f_11eb_aa10_525400b22c0erow10_col14\" class=\"data row10 col14\" >0.267531</td>\n",
       "                        <td id=\"T_a374c734_0d6f_11eb_aa10_525400b22c0erow10_col15\" class=\"data row10 col15\" >0.278179</td>\n",
       "                        <td id=\"T_a374c734_0d6f_11eb_aa10_525400b22c0erow10_col16\" class=\"data row10 col16\" >0.785801</td>\n",
       "            </tr>\n",
       "            <tr>\n",
       "                        <th id=\"T_a374c734_0d6f_11eb_aa10_525400b22c0elevel0_row11\" class=\"row_heading level0 row11\" >Internal_movement_restrictions</th>\n",
       "                        <td id=\"T_a374c734_0d6f_11eb_aa10_525400b22c0erow11_col0\" class=\"data row11 col0\" >-0.122378</td>\n",
       "                        <td id=\"T_a374c734_0d6f_11eb_aa10_525400b22c0erow11_col1\" class=\"data row11 col1\" >-0.020203</td>\n",
       "                        <td id=\"T_a374c734_0d6f_11eb_aa10_525400b22c0erow11_col2\" class=\"data row11 col2\" >0.029832</td>\n",
       "                        <td id=\"T_a374c734_0d6f_11eb_aa10_525400b22c0erow11_col3\" class=\"data row11 col3\" >0.044465</td>\n",
       "                        <td id=\"T_a374c734_0d6f_11eb_aa10_525400b22c0erow11_col4\" class=\"data row11 col4\" >0.036575</td>\n",
       "                        <td id=\"T_a374c734_0d6f_11eb_aa10_525400b22c0erow11_col5\" class=\"data row11 col5\" >0.534650</td>\n",
       "                        <td id=\"T_a374c734_0d6f_11eb_aa10_525400b22c0erow11_col6\" class=\"data row11 col6\" >0.556729</td>\n",
       "                        <td id=\"T_a374c734_0d6f_11eb_aa10_525400b22c0erow11_col7\" class=\"data row11 col7\" >0.482371</td>\n",
       "                        <td id=\"T_a374c734_0d6f_11eb_aa10_525400b22c0erow11_col8\" class=\"data row11 col8\" >0.734771</td>\n",
       "                        <td id=\"T_a374c734_0d6f_11eb_aa10_525400b22c0erow11_col9\" class=\"data row11 col9\" >0.753815</td>\n",
       "                        <td id=\"T_a374c734_0d6f_11eb_aa10_525400b22c0erow11_col10\" class=\"data row11 col10\" >0.785370</td>\n",
       "                        <td id=\"T_a374c734_0d6f_11eb_aa10_525400b22c0erow11_col11\" class=\"data row11 col11\" >1.000000</td>\n",
       "                        <td id=\"T_a374c734_0d6f_11eb_aa10_525400b22c0erow11_col12\" class=\"data row11 col12\" >0.471937</td>\n",
       "                        <td id=\"T_a374c734_0d6f_11eb_aa10_525400b22c0erow11_col13\" class=\"data row11 col13\" >0.428499</td>\n",
       "                        <td id=\"T_a374c734_0d6f_11eb_aa10_525400b22c0erow11_col14\" class=\"data row11 col14\" >0.305146</td>\n",
       "                        <td id=\"T_a374c734_0d6f_11eb_aa10_525400b22c0erow11_col15\" class=\"data row11 col15\" >0.147352</td>\n",
       "                        <td id=\"T_a374c734_0d6f_11eb_aa10_525400b22c0erow11_col16\" class=\"data row11 col16\" >0.776903</td>\n",
       "            </tr>\n",
       "            <tr>\n",
       "                        <th id=\"T_a374c734_0d6f_11eb_aa10_525400b22c0elevel0_row12\" class=\"row_heading level0 row12\" >International_movement_restrictions</th>\n",
       "                        <td id=\"T_a374c734_0d6f_11eb_aa10_525400b22c0erow12_col0\" class=\"data row12 col0\" >-0.318923</td>\n",
       "                        <td id=\"T_a374c734_0d6f_11eb_aa10_525400b22c0erow12_col1\" class=\"data row12 col1\" >0.074991</td>\n",
       "                        <td id=\"T_a374c734_0d6f_11eb_aa10_525400b22c0erow12_col2\" class=\"data row12 col2\" >0.218775</td>\n",
       "                        <td id=\"T_a374c734_0d6f_11eb_aa10_525400b22c0erow12_col3\" class=\"data row12 col3\" >0.064939</td>\n",
       "                        <td id=\"T_a374c734_0d6f_11eb_aa10_525400b22c0erow12_col4\" class=\"data row12 col4\" >-0.031310</td>\n",
       "                        <td id=\"T_a374c734_0d6f_11eb_aa10_525400b22c0erow12_col5\" class=\"data row12 col5\" >0.413010</td>\n",
       "                        <td id=\"T_a374c734_0d6f_11eb_aa10_525400b22c0erow12_col6\" class=\"data row12 col6\" >0.477115</td>\n",
       "                        <td id=\"T_a374c734_0d6f_11eb_aa10_525400b22c0erow12_col7\" class=\"data row12 col7\" >0.520838</td>\n",
       "                        <td id=\"T_a374c734_0d6f_11eb_aa10_525400b22c0erow12_col8\" class=\"data row12 col8\" >0.517038</td>\n",
       "                        <td id=\"T_a374c734_0d6f_11eb_aa10_525400b22c0erow12_col9\" class=\"data row12 col9\" >0.424141</td>\n",
       "                        <td id=\"T_a374c734_0d6f_11eb_aa10_525400b22c0erow12_col10\" class=\"data row12 col10\" >0.538312</td>\n",
       "                        <td id=\"T_a374c734_0d6f_11eb_aa10_525400b22c0erow12_col11\" class=\"data row12 col11\" >0.471937</td>\n",
       "                        <td id=\"T_a374c734_0d6f_11eb_aa10_525400b22c0erow12_col12\" class=\"data row12 col12\" >1.000000</td>\n",
       "                        <td id=\"T_a374c734_0d6f_11eb_aa10_525400b22c0erow12_col13\" class=\"data row12 col13\" >0.495460</td>\n",
       "                        <td id=\"T_a374c734_0d6f_11eb_aa10_525400b22c0erow12_col14\" class=\"data row12 col14\" >0.554633</td>\n",
       "                        <td id=\"T_a374c734_0d6f_11eb_aa10_525400b22c0erow12_col15\" class=\"data row12 col15\" >0.495059</td>\n",
       "                        <td id=\"T_a374c734_0d6f_11eb_aa10_525400b22c0erow12_col16\" class=\"data row12 col16\" >0.626031</td>\n",
       "            </tr>\n",
       "            <tr>\n",
       "                        <th id=\"T_a374c734_0d6f_11eb_aa10_525400b22c0elevel0_row13\" class=\"row_heading level0 row13\" >Information_campaigns</th>\n",
       "                        <td id=\"T_a374c734_0d6f_11eb_aa10_525400b22c0erow13_col0\" class=\"data row13 col0\" >-0.092197</td>\n",
       "                        <td id=\"T_a374c734_0d6f_11eb_aa10_525400b22c0erow13_col1\" class=\"data row13 col1\" >-0.414401</td>\n",
       "                        <td id=\"T_a374c734_0d6f_11eb_aa10_525400b22c0erow13_col2\" class=\"data row13 col2\" >-0.362808</td>\n",
       "                        <td id=\"T_a374c734_0d6f_11eb_aa10_525400b22c0erow13_col3\" class=\"data row13 col3\" >-0.365597</td>\n",
       "                        <td id=\"T_a374c734_0d6f_11eb_aa10_525400b22c0erow13_col4\" class=\"data row13 col4\" >0.076455</td>\n",
       "                        <td id=\"T_a374c734_0d6f_11eb_aa10_525400b22c0erow13_col5\" class=\"data row13 col5\" >0.670298</td>\n",
       "                        <td id=\"T_a374c734_0d6f_11eb_aa10_525400b22c0erow13_col6\" class=\"data row13 col6\" >0.782626</td>\n",
       "                        <td id=\"T_a374c734_0d6f_11eb_aa10_525400b22c0erow13_col7\" class=\"data row13 col7\" >0.850501</td>\n",
       "                        <td id=\"T_a374c734_0d6f_11eb_aa10_525400b22c0erow13_col8\" class=\"data row13 col8\" >0.673417</td>\n",
       "                        <td id=\"T_a374c734_0d6f_11eb_aa10_525400b22c0erow13_col9\" class=\"data row13 col9\" >0.458864</td>\n",
       "                        <td id=\"T_a374c734_0d6f_11eb_aa10_525400b22c0erow13_col10\" class=\"data row13 col10\" >0.391456</td>\n",
       "                        <td id=\"T_a374c734_0d6f_11eb_aa10_525400b22c0erow13_col11\" class=\"data row13 col11\" >0.428499</td>\n",
       "                        <td id=\"T_a374c734_0d6f_11eb_aa10_525400b22c0erow13_col12\" class=\"data row13 col12\" >0.495460</td>\n",
       "                        <td id=\"T_a374c734_0d6f_11eb_aa10_525400b22c0erow13_col13\" class=\"data row13 col13\" >1.000000</td>\n",
       "                        <td id=\"T_a374c734_0d6f_11eb_aa10_525400b22c0erow13_col14\" class=\"data row13 col14\" >0.652127</td>\n",
       "                        <td id=\"T_a374c734_0d6f_11eb_aa10_525400b22c0erow13_col15\" class=\"data row13 col15\" >0.577130</td>\n",
       "                        <td id=\"T_a374c734_0d6f_11eb_aa10_525400b22c0erow13_col16\" class=\"data row13 col16\" >0.785233</td>\n",
       "            </tr>\n",
       "            <tr>\n",
       "                        <th id=\"T_a374c734_0d6f_11eb_aa10_525400b22c0elevel0_row14\" class=\"row_heading level0 row14\" >Testing_policy</th>\n",
       "                        <td id=\"T_a374c734_0d6f_11eb_aa10_525400b22c0erow14_col0\" class=\"data row14 col0\" >-0.185546</td>\n",
       "                        <td id=\"T_a374c734_0d6f_11eb_aa10_525400b22c0erow14_col1\" class=\"data row14 col1\" >-0.442481</td>\n",
       "                        <td id=\"T_a374c734_0d6f_11eb_aa10_525400b22c0erow14_col2\" class=\"data row14 col2\" >-0.305856</td>\n",
       "                        <td id=\"T_a374c734_0d6f_11eb_aa10_525400b22c0erow14_col3\" class=\"data row14 col3\" >-0.459347</td>\n",
       "                        <td id=\"T_a374c734_0d6f_11eb_aa10_525400b22c0erow14_col4\" class=\"data row14 col4\" >-0.138740</td>\n",
       "                        <td id=\"T_a374c734_0d6f_11eb_aa10_525400b22c0erow14_col5\" class=\"data row14 col5\" >0.463831</td>\n",
       "                        <td id=\"T_a374c734_0d6f_11eb_aa10_525400b22c0erow14_col6\" class=\"data row14 col6\" >0.472697</td>\n",
       "                        <td id=\"T_a374c734_0d6f_11eb_aa10_525400b22c0erow14_col7\" class=\"data row14 col7\" >0.600378</td>\n",
       "                        <td id=\"T_a374c734_0d6f_11eb_aa10_525400b22c0erow14_col8\" class=\"data row14 col8\" >0.499487</td>\n",
       "                        <td id=\"T_a374c734_0d6f_11eb_aa10_525400b22c0erow14_col9\" class=\"data row14 col9\" >0.387496</td>\n",
       "                        <td id=\"T_a374c734_0d6f_11eb_aa10_525400b22c0erow14_col10\" class=\"data row14 col10\" >0.267531</td>\n",
       "                        <td id=\"T_a374c734_0d6f_11eb_aa10_525400b22c0erow14_col11\" class=\"data row14 col11\" >0.305146</td>\n",
       "                        <td id=\"T_a374c734_0d6f_11eb_aa10_525400b22c0erow14_col12\" class=\"data row14 col12\" >0.554633</td>\n",
       "                        <td id=\"T_a374c734_0d6f_11eb_aa10_525400b22c0erow14_col13\" class=\"data row14 col13\" >0.652127</td>\n",
       "                        <td id=\"T_a374c734_0d6f_11eb_aa10_525400b22c0erow14_col14\" class=\"data row14 col14\" >1.000000</td>\n",
       "                        <td id=\"T_a374c734_0d6f_11eb_aa10_525400b22c0erow14_col15\" class=\"data row14 col15\" >0.445465</td>\n",
       "                        <td id=\"T_a374c734_0d6f_11eb_aa10_525400b22c0erow14_col16\" class=\"data row14 col16\" >0.453634</td>\n",
       "            </tr>\n",
       "            <tr>\n",
       "                        <th id=\"T_a374c734_0d6f_11eb_aa10_525400b22c0elevel0_row15\" class=\"row_heading level0 row15\" >Contact_tracing</th>\n",
       "                        <td id=\"T_a374c734_0d6f_11eb_aa10_525400b22c0erow15_col0\" class=\"data row15 col0\" >-0.230837</td>\n",
       "                        <td id=\"T_a374c734_0d6f_11eb_aa10_525400b22c0erow15_col1\" class=\"data row15 col1\" >-0.105436</td>\n",
       "                        <td id=\"T_a374c734_0d6f_11eb_aa10_525400b22c0erow15_col2\" class=\"data row15 col2\" >-0.023613</td>\n",
       "                        <td id=\"T_a374c734_0d6f_11eb_aa10_525400b22c0erow15_col3\" class=\"data row15 col3\" >-0.127574</td>\n",
       "                        <td id=\"T_a374c734_0d6f_11eb_aa10_525400b22c0erow15_col4\" class=\"data row15 col4\" >0.121282</td>\n",
       "                        <td id=\"T_a374c734_0d6f_11eb_aa10_525400b22c0erow15_col5\" class=\"data row15 col5\" >0.233313</td>\n",
       "                        <td id=\"T_a374c734_0d6f_11eb_aa10_525400b22c0erow15_col6\" class=\"data row15 col6\" >0.333362</td>\n",
       "                        <td id=\"T_a374c734_0d6f_11eb_aa10_525400b22c0erow15_col7\" class=\"data row15 col7\" >0.571227</td>\n",
       "                        <td id=\"T_a374c734_0d6f_11eb_aa10_525400b22c0erow15_col8\" class=\"data row15 col8\" >0.259181</td>\n",
       "                        <td id=\"T_a374c734_0d6f_11eb_aa10_525400b22c0erow15_col9\" class=\"data row15 col9\" >0.031306</td>\n",
       "                        <td id=\"T_a374c734_0d6f_11eb_aa10_525400b22c0erow15_col10\" class=\"data row15 col10\" >0.278179</td>\n",
       "                        <td id=\"T_a374c734_0d6f_11eb_aa10_525400b22c0erow15_col11\" class=\"data row15 col11\" >0.147352</td>\n",
       "                        <td id=\"T_a374c734_0d6f_11eb_aa10_525400b22c0erow15_col12\" class=\"data row15 col12\" >0.495059</td>\n",
       "                        <td id=\"T_a374c734_0d6f_11eb_aa10_525400b22c0erow15_col13\" class=\"data row15 col13\" >0.577130</td>\n",
       "                        <td id=\"T_a374c734_0d6f_11eb_aa10_525400b22c0erow15_col14\" class=\"data row15 col14\" >0.445465</td>\n",
       "                        <td id=\"T_a374c734_0d6f_11eb_aa10_525400b22c0erow15_col15\" class=\"data row15 col15\" >1.000000</td>\n",
       "                        <td id=\"T_a374c734_0d6f_11eb_aa10_525400b22c0erow15_col16\" class=\"data row15 col16\" >0.414410</td>\n",
       "            </tr>\n",
       "            <tr>\n",
       "                        <th id=\"T_a374c734_0d6f_11eb_aa10_525400b22c0elevel0_row16\" class=\"row_heading level0 row16\" >Stringency_index</th>\n",
       "                        <td id=\"T_a374c734_0d6f_11eb_aa10_525400b22c0erow16_col0\" class=\"data row16 col0\" >-0.178880</td>\n",
       "                        <td id=\"T_a374c734_0d6f_11eb_aa10_525400b22c0erow16_col1\" class=\"data row16 col1\" >-0.139156</td>\n",
       "                        <td id=\"T_a374c734_0d6f_11eb_aa10_525400b22c0erow16_col2\" class=\"data row16 col2\" >-0.104675</td>\n",
       "                        <td id=\"T_a374c734_0d6f_11eb_aa10_525400b22c0erow16_col3\" class=\"data row16 col3\" >-0.062279</td>\n",
       "                        <td id=\"T_a374c734_0d6f_11eb_aa10_525400b22c0erow16_col4\" class=\"data row16 col4\" >0.162550</td>\n",
       "                        <td id=\"T_a374c734_0d6f_11eb_aa10_525400b22c0erow16_col5\" class=\"data row16 col5\" >0.808707</td>\n",
       "                        <td id=\"T_a374c734_0d6f_11eb_aa10_525400b22c0erow16_col6\" class=\"data row16 col6\" >0.857927</td>\n",
       "                        <td id=\"T_a374c734_0d6f_11eb_aa10_525400b22c0erow16_col7\" class=\"data row16 col7\" >0.805575</td>\n",
       "                        <td id=\"T_a374c734_0d6f_11eb_aa10_525400b22c0erow16_col8\" class=\"data row16 col8\" >0.842961</td>\n",
       "                        <td id=\"T_a374c734_0d6f_11eb_aa10_525400b22c0erow16_col9\" class=\"data row16 col9\" >0.766932</td>\n",
       "                        <td id=\"T_a374c734_0d6f_11eb_aa10_525400b22c0erow16_col10\" class=\"data row16 col10\" >0.785801</td>\n",
       "                        <td id=\"T_a374c734_0d6f_11eb_aa10_525400b22c0erow16_col11\" class=\"data row16 col11\" >0.776903</td>\n",
       "                        <td id=\"T_a374c734_0d6f_11eb_aa10_525400b22c0erow16_col12\" class=\"data row16 col12\" >0.626031</td>\n",
       "                        <td id=\"T_a374c734_0d6f_11eb_aa10_525400b22c0erow16_col13\" class=\"data row16 col13\" >0.785233</td>\n",
       "                        <td id=\"T_a374c734_0d6f_11eb_aa10_525400b22c0erow16_col14\" class=\"data row16 col14\" >0.453634</td>\n",
       "                        <td id=\"T_a374c734_0d6f_11eb_aa10_525400b22c0erow16_col15\" class=\"data row16 col15\" >0.414410</td>\n",
       "                        <td id=\"T_a374c734_0d6f_11eb_aa10_525400b22c0erow16_col16\" class=\"data row16 col16\" >1.000000</td>\n",
       "            </tr>\n",
       "    </tbody></table>"
      ],
      "text/plain": [
       "<pandas.io.formats.style.Styler at 0x7fc6d9207640>"
      ]
     },
     "execution_count": 21,
     "metadata": {},
     "output_type": "execute_result"
    }
   ],
   "source": [
    "# Correlation\n",
    "df = track_df.copy()\n",
    "df.corr().style.background_gradient(axis=None)"
   ]
  },
  {
   "cell_type": "code",
   "execution_count": 22,
   "metadata": {
    "collapsed": false
   },
   "outputs": [
    {
     "data": {
      "image/png": "[encoded data removed]",
      "text/plain": [
       "<Figure size 432x288 with 1 Axes>"
      ]
     },
     "metadata": {},
     "output_type": "display_data"
    }
   ],
   "source": [
    "# Scatter plot of Stringency index and Rt\n",
    "df = track_df.copy()\n",
    "sns.scatterplot(data=df, x=\"Stringency_index\", y=\"Rt\", hue=\"Country\", legend=\"brief\", marker=\"+\")\n",
    "bbox_to_anchor=(1.02, 0)\n",
    "bbox_loc=\"lower left\"\n",
    "plt.legend(bbox_to_anchor=bbox_to_anchor, loc=bbox_loc, borderaxespad=0)\n",
    "plt.title(\"Relationship of Stringency index and reproduction number\")\n",
    "plt.ylabel(\"Reproduction number\")\n",
    "plt.xlabel(\"Stringency index\")\n",
    "plt.show()"
   ]
  }
 ],
 "metadata": {
  "kernelspec": {
   "display_name": "Python 3.8.2 64-bit ('.venv': venv)",
   "name": "python_defaultSpec_1597669925034"
  },
  "language_info": {
   "codemirror_mode": {
    "name": "ipython",
    "version": 3
   },
   "file_extension": ".py",
   "mimetype": "text/x-python",
   "name": "python",
   "nbconvert_exporter": "python",
   "pygments_lexer": "ipython3",
   "version": "3.8.2-final"
  }
 },
 "nbformat": 4,
 "nbformat_minor": 4
}
