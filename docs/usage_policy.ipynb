{
 "cells": [
  {
   "cell_type": "markdown",
   "metadata": {},
   "source": [
    "# Usage (details: policy measures)\n",
    "Here, we will analyse the relationship of policy measures and parameter values of SIR-derived ODE models. Policy measures are tracked by [Oxford Covid-19 Government Response Tracker (OxCGRT)](https://github.com/OxCGRT/covid-policy-tracker)."
   ]
  },
  {
   "cell_type": "markdown",
   "metadata": {},
   "source": [
    "## Preparation"
   ]
  },
  {
   "cell_type": "code",
   "execution_count": 1,
   "metadata": {
    "collapsed": false
   },
   "outputs": [],
   "source": [
    "# Standard users\n",
    "# !pip install covsirphy\n",
    "# Developers (Note: this notebook is in example directory)\n",
    "import os\n",
    "os.chdir(\"../\")"
   ]
  },
  {
   "cell_type": "code",
   "execution_count": 2,
   "metadata": {
    "collapsed": false
   },
   "outputs": [],
   "source": [
    "from pprint import pprint"
   ]
  },
  {
   "cell_type": "code",
   "execution_count": 3,
   "metadata": {
    "collapsed": false
   },
   "outputs": [
    {
     "data": {
      "text/plain": [
       "'2.8.3'"
      ]
     },
     "execution_count": 3,
     "metadata": {},
     "output_type": "execute_result"
    }
   ],
   "source": [
    "import covsirphy as cs\n",
    "cs.__version__"
   ]
  },
  {
   "cell_type": "code",
   "execution_count": 4,
   "metadata": {
    "collapsed": false,
    "tags": []
   },
   "outputs": [
    {
     "name": "stdout",
     "output_type": "stream",
     "text": [
      "(Secondary source) Guidotti, E., Ardia, D., (2020), \"COVID-19 Data Hub\", Journal of Open Source Software 5(51):2376, doi: 10.21105/joss.02376.\n",
      "We can get Citation list of primary sources with DataLoader(...).covid19dh_citation"
     ]
    },
    {
     "name": "stdout",
     "output_type": "stream",
     "text": [
      "\n"
     ]
    }
   ],
   "source": [
    "# Standard users and developers\n",
    "data_loader = cs.DataLoader(\"input\")\n",
    "# The number of cases (JHU style)\n",
    "jhu_data = data_loader.jhu(verbose=False)\n",
    "# Population in each country\n",
    "population_data = data_loader.population(verbose=False)\n",
    "# Government Response Tracker (OxCGRT)\n",
    "oxcgrt_data = data_loader.oxcgrt(verbose=False)\n",
    "# Description/citation\n",
    "print(oxcgrt_data.citation)"
   ]
  },
  {
   "cell_type": "markdown",
   "metadata": {},
   "source": [
    "## Class for policy measure analysis\n",
    "We will `PolicyMeasures` class to find relationship of policy measures and parameter values of SIR-derived ODE models."
   ]
  },
  {
   "cell_type": "code",
   "execution_count": 5,
   "metadata": {
    "collapsed": false,
    "tags": []
   },
   "outputs": [
    {
     "data": {
      "text/plain": [
       "184"
      ]
     },
     "execution_count": 5,
     "metadata": {},
     "output_type": "execute_result"
    }
   ],
   "source": [
    "# Create analyser with tau value 360 [min] (can be changed)\n",
    "analyser = cs.PolicyMeasures(jhu_data, population_data, oxcgrt_data, tau=360)\n",
    "# The number of registerd countries\n",
    "len(analyser.countries)"
   ]
  },
  {
   "cell_type": "code",
   "execution_count": 6,
   "metadata": {
    "collapsed": false
   },
   "outputs": [
    {
     "data": {
      "text/plain": [
       "covsirphy.analysis.scenario.Scenario"
      ]
     },
     "execution_count": 6,
     "metadata": {},
     "output_type": "execute_result"
    }
   ],
   "source": [
    "# We can get Scenario instance for detailed scenario analysis\n",
    "type(analyser.scenario(\"Japan\"))"
   ]
  },
  {
   "cell_type": "markdown",
   "metadata": {},
   "source": [
    "## Set phases with S-R trend analysis\n",
    "We will perform S-R trend analysis to set phases in all countries. Countries which do not have **12th phases** will be un-registered for the next analysis. This number will be adjusted for your analysis."
   ]
  },
  {
   "cell_type": "code",
   "execution_count": 7,
   "metadata": {
    "collapsed": false
   },
   "outputs": [
    {
     "name": "stdout",
     "output_type": "stream",
     "text": [
      "{"
     ]
    },
    {
     "name": "stdout",
     "output_type": "stream",
     "text": [
      "3"
     ]
    },
    {
     "name": "stdout",
     "output_type": "stream",
     "text": [
      ": "
     ]
    },
    {
     "name": "stdout",
     "output_type": "stream",
     "text": [
      "['Myanmar', 'Dominica']"
     ]
    },
    {
     "name": "stdout",
     "output_type": "stream",
     "text": [
      ",\n",
      " "
     ]
    },
    {
     "name": "stdout",
     "output_type": "stream",
     "text": [
      "4"
     ]
    },
    {
     "name": "stdout",
     "output_type": "stream",
     "text": [
      ": "
     ]
    },
    {
     "name": "stdout",
     "output_type": "stream",
     "text": [
      "["
     ]
    },
    {
     "name": "stdout",
     "output_type": "stream",
     "text": [
      "'Tanzania'"
     ]
    },
    {
     "name": "stdout",
     "output_type": "stream",
     "text": [
      ", "
     ]
    },
    {
     "name": "stdout",
     "output_type": "stream",
     "text": [
      "'Antigua and Barbuda'"
     ]
    },
    {
     "name": "stdout",
     "output_type": "stream",
     "text": [
      ", "
     ]
    },
    {
     "name": "stdout",
     "output_type": "stream",
     "text": [
      "'Fiji'"
     ]
    },
    {
     "name": "stdout",
     "output_type": "stream",
     "text": [
      ", "
     ]
    },
    {
     "name": "stdout",
     "output_type": "stream",
     "text": [
      "'Seychelles'"
     ]
    },
    {
     "name": "stdout",
     "output_type": "stream",
     "text": [
      ",\n",
      "     "
     ]
    },
    {
     "name": "stdout",
     "output_type": "stream",
     "text": [
      "'Papua New Guinea'"
     ]
    },
    {
     "name": "stdout",
     "output_type": "stream",
     "text": [
      ", "
     ]
    },
    {
     "name": "stdout",
     "output_type": "stream",
     "text": [
      "'Tunisia'"
     ]
    },
    {
     "name": "stdout",
     "output_type": "stream",
     "text": [
      ", "
     ]
    },
    {
     "name": "stdout",
     "output_type": "stream",
     "text": [
      "'Belize'"
     ]
    },
    {
     "name": "stdout",
     "output_type": "stream",
     "text": [
      "]"
     ]
    },
    {
     "name": "stdout",
     "output_type": "stream",
     "text": [
      ",\n",
      " "
     ]
    },
    {
     "name": "stdout",
     "output_type": "stream",
     "text": [
      "5"
     ]
    },
    {
     "name": "stdout",
     "output_type": "stream",
     "text": [
      ": "
     ]
    },
    {
     "name": "stdout",
     "output_type": "stream",
     "text": [
      "["
     ]
    },
    {
     "name": "stdout",
     "output_type": "stream",
     "text": [
      "'Trinidad and Tobago'"
     ]
    },
    {
     "name": "stdout",
     "output_type": "stream",
     "text": [
      ", "
     ]
    },
    {
     "name": "stdout",
     "output_type": "stream",
     "text": [
      "'Grenada'"
     ]
    },
    {
     "name": "stdout",
     "output_type": "stream",
     "text": [
      ", "
     ]
    },
    {
     "name": "stdout",
     "output_type": "stream",
     "text": [
      "'Jordan'"
     ]
    },
    {
     "name": "stdout",
     "output_type": "stream",
     "text": [
      ", "
     ]
    },
    {
     "name": "stdout",
     "output_type": "stream",
     "text": [
      "'Brunei'"
     ]
    },
    {
     "name": "stdout",
     "output_type": "stream",
     "text": [
      ", "
     ]
    },
    {
     "name": "stdout",
     "output_type": "stream",
     "text": [
      "'Uganda'"
     ]
    },
    {
     "name": "stdout",
     "output_type": "stream",
     "text": [
      ",\n",
      "     "
     ]
    },
    {
     "name": "stdout",
     "output_type": "stream",
     "text": [
      "'Mauritius'"
     ]
    },
    {
     "name": "stdout",
     "output_type": "stream",
     "text": [
      ", "
     ]
    },
    {
     "name": "stdout",
     "output_type": "stream",
     "text": [
      "'Libya'"
     ]
    },
    {
     "name": "stdout",
     "output_type": "stream",
     "text": [
      "]"
     ]
    },
    {
     "name": "stdout",
     "output_type": "stream",
     "text": [
      ",\n",
      " "
     ]
    },
    {
     "name": "stdout",
     "output_type": "stream",
     "text": [
      "6"
     ]
    },
    {
     "name": "stdout",
     "output_type": "stream",
     "text": [
      ": "
     ]
    },
    {
     "name": "stdout",
     "output_type": "stream",
     "text": [
      "["
     ]
    },
    {
     "name": "stdout",
     "output_type": "stream",
     "text": [
      "'Namibia'"
     ]
    },
    {
     "name": "stdout",
     "output_type": "stream",
     "text": [
      ", "
     ]
    },
    {
     "name": "stdout",
     "output_type": "stream",
     "text": [
      "'Yemen'"
     ]
    },
    {
     "name": "stdout",
     "output_type": "stream",
     "text": [
      ", "
     ]
    },
    {
     "name": "stdout",
     "output_type": "stream",
     "text": [
      "'Gambia'"
     ]
    },
    {
     "name": "stdout",
     "output_type": "stream",
     "text": [
      ", "
     ]
    },
    {
     "name": "stdout",
     "output_type": "stream",
     "text": [
      "'Equatorial Guinea'"
     ]
    },
    {
     "name": "stdout",
     "output_type": "stream",
     "text": [
      ",\n",
      "     "
     ]
    },
    {
     "name": "stdout",
     "output_type": "stream",
     "text": [
      "'Central African Republic'"
     ]
    },
    {
     "name": "stdout",
     "output_type": "stream",
     "text": [
      ", "
     ]
    },
    {
     "name": "stdout",
     "output_type": "stream",
     "text": [
      "'Lebanon'"
     ]
    },
    {
     "name": "stdout",
     "output_type": "stream",
     "text": [
      ", "
     ]
    },
    {
     "name": "stdout",
     "output_type": "stream",
     "text": [
      "'Paraguay'"
     ]
    },
    {
     "name": "stdout",
     "output_type": "stream",
     "text": [
      ", "
     ]
    },
    {
     "name": "stdout",
     "output_type": "stream",
     "text": [
      "'Bahamas'"
     ]
    },
    {
     "name": "stdout",
     "output_type": "stream",
     "text": [
      ", "
     ]
    },
    {
     "name": "stdout",
     "output_type": "stream",
     "text": [
      "'Kosovo'"
     ]
    },
    {
     "name": "stdout",
     "output_type": "stream",
     "text": [
      ",\n",
      "     "
     ]
    },
    {
     "name": "stdout",
     "output_type": "stream",
     "text": [
      "'Lesotho'"
     ]
    },
    {
     "name": "stdout",
     "output_type": "stream",
     "text": [
      ", "
     ]
    },
    {
     "name": "stdout",
     "output_type": "stream",
     "text": [
      "'Ireland'"
     ]
    },
    {
     "name": "stdout",
     "output_type": "stream",
     "text": [
      ", "
     ]
    },
    {
     "name": "stdout",
     "output_type": "stream",
     "text": [
      "'Kyrgyzstan'"
     ]
    },
    {
     "name": "stdout",
     "output_type": "stream",
     "text": [
      ", "
     ]
    },
    {
     "name": "stdout",
     "output_type": "stream",
     "text": [
      "'Jamaica'"
     ]
    },
    {
     "name": "stdout",
     "output_type": "stream",
     "text": [
      ", "
     ]
    },
    {
     "name": "stdout",
     "output_type": "stream",
     "text": [
      "'Sao Tome and Principe'"
     ]
    },
    {
     "name": "stdout",
     "output_type": "stream",
     "text": [
      ",\n",
      "     "
     ]
    },
    {
     "name": "stdout",
     "output_type": "stream",
     "text": [
      "'Netherlands'"
     ]
    },
    {
     "name": "stdout",
     "output_type": "stream",
     "text": [
      ", "
     ]
    },
    {
     "name": "stdout",
     "output_type": "stream",
     "text": [
      "'Monaco'"
     ]
    },
    {
     "name": "stdout",
     "output_type": "stream",
     "text": [
      ", "
     ]
    },
    {
     "name": "stdout",
     "output_type": "stream",
     "text": [
      "'Cambodia'"
     ]
    },
    {
     "name": "stdout",
     "output_type": "stream",
     "text": [
      ", "
     ]
    },
    {
     "name": "stdout",
     "output_type": "stream",
     "text": [
      "'Guyana'"
     ]
    },
    {
     "name": "stdout",
     "output_type": "stream",
     "text": [
      "]"
     ]
    },
    {
     "name": "stdout",
     "output_type": "stream",
     "text": [
      ",\n",
      " "
     ]
    },
    {
     "name": "stdout",
     "output_type": "stream",
     "text": [
      "7"
     ]
    },
    {
     "name": "stdout",
     "output_type": "stream",
     "text": [
      ": "
     ]
    },
    {
     "name": "stdout",
     "output_type": "stream",
     "text": [
      "["
     ]
    },
    {
     "name": "stdout",
     "output_type": "stream",
     "text": [
      "'New Zealand'"
     ]
    },
    {
     "name": "stdout",
     "output_type": "stream",
     "text": [
      ", "
     ]
    },
    {
     "name": "stdout",
     "output_type": "stream",
     "text": [
      "'Saint Vincent and the Grenadines'"
     ]
    },
    {
     "name": "stdout",
     "output_type": "stream",
     "text": [
      ", "
     ]
    },
    {
     "name": "stdout",
     "output_type": "stream",
     "text": [
      "'Rwanda'"
     ]
    },
    {
     "name": "stdout",
     "output_type": "stream",
     "text": [
      ", "
     ]
    },
    {
     "name": "stdout",
     "output_type": "stream",
     "text": [
      "'Thailand'"
     ]
    },
    {
     "name": "stdout",
     "output_type": "stream",
     "text": [
      ",\n",
      "     "
     ]
    },
    {
     "name": "stdout",
     "output_type": "stream",
     "text": [
      "'Bhutan'"
     ]
    },
    {
     "name": "stdout",
     "output_type": "stream",
     "text": [
      ", "
     ]
    },
    {
     "name": "stdout",
     "output_type": "stream",
     "text": [
      "'Mongolia'"
     ]
    },
    {
     "name": "stdout",
     "output_type": "stream",
     "text": [
      ", "
     ]
    },
    {
     "name": "stdout",
     "output_type": "stream",
     "text": [
      "'Comoros'"
     ]
    },
    {
     "name": "stdout",
     "output_type": "stream",
     "text": [
      ", "
     ]
    },
    {
     "name": "stdout",
     "output_type": "stream",
     "text": [
      "'Colombia'"
     ]
    },
    {
     "name": "stdout",
     "output_type": "stream",
     "text": [
      ", "
     ]
    },
    {
     "name": "stdout",
     "output_type": "stream",
     "text": [
      "'Eritrea'"
     ]
    },
    {
     "name": "stdout",
     "output_type": "stream",
     "text": [
      ", "
     ]
    },
    {
     "name": "stdout",
     "output_type": "stream",
     "text": [
      "'Zambia'"
     ]
    },
    {
     "name": "stdout",
     "output_type": "stream",
     "text": [
      ",\n",
      "     "
     ]
    },
    {
     "name": "stdout",
     "output_type": "stream",
     "text": [
      "'Burundi'"
     ]
    },
    {
     "name": "stdout",
     "output_type": "stream",
     "text": [
      ", "
     ]
    },
    {
     "name": "stdout",
     "output_type": "stream",
     "text": [
      "'Vietnam'"
     ]
    },
    {
     "name": "stdout",
     "output_type": "stream",
     "text": [
      ", "
     ]
    },
    {
     "name": "stdout",
     "output_type": "stream",
     "text": [
      "'Venezuela'"
     ]
    },
    {
     "name": "stdout",
     "output_type": "stream",
     "text": [
      ", "
     ]
    },
    {
     "name": "stdout",
     "output_type": "stream",
     "text": [
      "'Iceland'"
     ]
    },
    {
     "name": "stdout",
     "output_type": "stream",
     "text": [
      ", "
     ]
    },
    {
     "name": "stdout",
     "output_type": "stream",
     "text": [
      "'Botswana'"
     ]
    },
    {
     "name": "stdout",
     "output_type": "stream",
     "text": [
      ", "
     ]
    },
    {
     "name": "stdout",
     "output_type": "stream",
     "text": [
      "'Syria'"
     ]
    },
    {
     "name": "stdout",
     "output_type": "stream",
     "text": [
      ",\n",
      "     "
     ]
    },
    {
     "name": "stdout",
     "output_type": "stream",
     "text": [
      "'Montenegro'"
     ]
    },
    {
     "name": "stdout",
     "output_type": "stream",
     "text": [
      ", "
     ]
    },
    {
     "name": "stdout",
     "output_type": "stream",
     "text": [
      "'San Marino'"
     ]
    },
    {
     "name": "stdout",
     "output_type": "stream",
     "text": [
      ", "
     ]
    },
    {
     "name": "stdout",
     "output_type": "stream",
     "text": [
      "'Kenya'"
     ]
    },
    {
     "name": "stdout",
     "output_type": "stream",
     "text": [
      ", "
     ]
    },
    {
     "name": "stdout",
     "output_type": "stream",
     "text": [
      "'Norway'"
     ]
    },
    {
     "name": "stdout",
     "output_type": "stream",
     "text": [
      ", "
     ]
    },
    {
     "name": "stdout",
     "output_type": "stream",
     "text": [
      "'Slovakia'"
     ]
    },
    {
     "name": "stdout",
     "output_type": "stream",
     "text": [
      ", "
     ]
    },
    {
     "name": "stdout",
     "output_type": "stream",
     "text": [
      "'Morocco'"
     ]
    },
    {
     "name": "stdout",
     "output_type": "stream",
     "text": [
      ",\n",
      "     "
     ]
    },
    {
     "name": "stdout",
     "output_type": "stream",
     "text": [
      "'Malawi'"
     ]
    },
    {
     "name": "stdout",
     "output_type": "stream",
     "text": [
      ", "
     ]
    },
    {
     "name": "stdout",
     "output_type": "stream",
     "text": [
      "'Ethiopia'"
     ]
    },
    {
     "name": "stdout",
     "output_type": "stream",
     "text": [
      ", "
     ]
    },
    {
     "name": "stdout",
     "output_type": "stream",
     "text": [
      "'Madagascar'"
     ]
    },
    {
     "name": "stdout",
     "output_type": "stream",
     "text": [
      ", "
     ]
    },
    {
     "name": "stdout",
     "output_type": "stream",
     "text": [
      "'Costa Rica'"
     ]
    },
    {
     "name": "stdout",
     "output_type": "stream",
     "text": [
      ", "
     ]
    },
    {
     "name": "stdout",
     "output_type": "stream",
     "text": [
      "'Cyprus'"
     ]
    },
    {
     "name": "stdout",
     "output_type": "stream",
     "text": [
      ", "
     ]
    },
    {
     "name": "stdout",
     "output_type": "stream",
     "text": [
      "'Barbados'"
     ]
    },
    {
     "name": "stdout",
     "output_type": "stream",
     "text": [
      ",\n",
      "     "
     ]
    },
    {
     "name": "stdout",
     "output_type": "stream",
     "text": [
      "'Liechtenstein'"
     ]
    },
    {
     "name": "stdout",
     "output_type": "stream",
     "text": [
      ", "
     ]
    },
    {
     "name": "stdout",
     "output_type": "stream",
     "text": [
      "'Malta'"
     ]
    },
    {
     "name": "stdout",
     "output_type": "stream",
     "text": [
      ", "
     ]
    },
    {
     "name": "stdout",
     "output_type": "stream",
     "text": [
      "'Kazakhstan'"
     ]
    },
    {
     "name": "stdout",
     "output_type": "stream",
     "text": [
      ", "
     ]
    },
    {
     "name": "stdout",
     "output_type": "stream",
     "text": [
      "'Croatia'"
     ]
    },
    {
     "name": "stdout",
     "output_type": "stream",
     "text": [
      ", "
     ]
    },
    {
     "name": "stdout",
     "output_type": "stream",
     "text": [
      "'Spain'"
     ]
    },
    {
     "name": "stdout",
     "output_type": "stream",
     "text": [
      ", "
     ]
    },
    {
     "name": "stdout",
     "output_type": "stream",
     "text": [
      "'Australia'"
     ]
    },
    {
     "name": "stdout",
     "output_type": "stream",
     "text": [
      ",\n",
      "     "
     ]
    },
    {
     "name": "stdout",
     "output_type": "stream",
     "text": [
      "'Afghanistan'"
     ]
    },
    {
     "name": "stdout",
     "output_type": "stream",
     "text": [
      ", "
     ]
    },
    {
     "name": "stdout",
     "output_type": "stream",
     "text": [
      "'Guinea-Bissau'"
     ]
    },
    {
     "name": "stdout",
     "output_type": "stream",
     "text": [
      ", "
     ]
    },
    {
     "name": "stdout",
     "output_type": "stream",
     "text": [
      "'Zimbabwe'"
     ]
    },
    {
     "name": "stdout",
     "output_type": "stream",
     "text": [
      "]"
     ]
    },
    {
     "name": "stdout",
     "output_type": "stream",
     "text": [
      ",\n",
      " "
     ]
    },
    {
     "name": "stdout",
     "output_type": "stream",
     "text": [
      "8"
     ]
    },
    {
     "name": "stdout",
     "output_type": "stream",
     "text": [
      ": "
     ]
    },
    {
     "name": "stdout",
     "output_type": "stream",
     "text": [
      "["
     ]
    },
    {
     "name": "stdout",
     "output_type": "stream",
     "text": [
      "'Congo'"
     ]
    },
    {
     "name": "stdout",
     "output_type": "stream",
     "text": [
      ", "
     ]
    },
    {
     "name": "stdout",
     "output_type": "stream",
     "text": [
      "'Niger'"
     ]
    },
    {
     "name": "stdout",
     "output_type": "stream",
     "text": [
      ", "
     ]
    },
    {
     "name": "stdout",
     "output_type": "stream",
     "text": [
      "'Djibouti'"
     ]
    },
    {
     "name": "stdout",
     "output_type": "stream",
     "text": [
      ", "
     ]
    },
    {
     "name": "stdout",
     "output_type": "stream",
     "text": [
      "'Sri Lanka'"
     ]
    },
    {
     "name": "stdout",
     "output_type": "stream",
     "text": [
      ", "
     ]
    },
    {
     "name": "stdout",
     "output_type": "stream",
     "text": [
      "'Sudan'"
     ]
    },
    {
     "name": "stdout",
     "output_type": "stream",
     "text": [
      ", "
     ]
    },
    {
     "name": "stdout",
     "output_type": "stream",
     "text": [
      "'Korea, South'"
     ]
    },
    {
     "name": "stdout",
     "output_type": "stream",
     "text": [
      ",\n",
      "     "
     ]
    },
    {
     "name": "stdout",
     "output_type": "stream",
     "text": [
      "'India'"
     ]
    },
    {
     "name": "stdout",
     "output_type": "stream",
     "text": [
      ", "
     ]
    },
    {
     "name": "stdout",
     "output_type": "stream",
     "text": [
      "'Taiwan'"
     ]
    },
    {
     "name": "stdout",
     "output_type": "stream",
     "text": [
      ", "
     ]
    },
    {
     "name": "stdout",
     "output_type": "stream",
     "text": [
      "'Nicaragua'"
     ]
    },
    {
     "name": "stdout",
     "output_type": "stream",
     "text": [
      ", "
     ]
    },
    {
     "name": "stdout",
     "output_type": "stream",
     "text": [
      "'Argentina'"
     ]
    },
    {
     "name": "stdout",
     "output_type": "stream",
     "text": [
      ", "
     ]
    },
    {
     "name": "stdout",
     "output_type": "stream",
     "text": [
      "'Andorra'"
     ]
    },
    {
     "name": "stdout",
     "output_type": "stream",
     "text": [
      ", "
     ]
    },
    {
     "name": "stdout",
     "output_type": "stream",
     "text": [
      "'Maldives'"
     ]
    },
    {
     "name": "stdout",
     "output_type": "stream",
     "text": [
      ",\n",
      "     "
     ]
    },
    {
     "name": "stdout",
     "output_type": "stream",
     "text": [
      "'Angola'"
     ]
    },
    {
     "name": "stdout",
     "output_type": "stream",
     "text": [
      ", "
     ]
    },
    {
     "name": "stdout",
     "output_type": "stream",
     "text": [
      "'Philippines'"
     ]
    },
    {
     "name": "stdout",
     "output_type": "stream",
     "text": [
      ", "
     ]
    },
    {
     "name": "stdout",
     "output_type": "stream",
     "text": [
      "'Slovenia'"
     ]
    },
    {
     "name": "stdout",
     "output_type": "stream",
     "text": [
      ", "
     ]
    },
    {
     "name": "stdout",
     "output_type": "stream",
     "text": [
      "'Czech Republic'"
     ]
    },
    {
     "name": "stdout",
     "output_type": "stream",
     "text": [
      ", "
     ]
    },
    {
     "name": "stdout",
     "output_type": "stream",
     "text": [
      "'Israel'"
     ]
    },
    {
     "name": "stdout",
     "output_type": "stream",
     "text": [
      ",\n",
      "     "
     ]
    },
    {
     "name": "stdout",
     "output_type": "stream",
     "text": [
      "'Palestine'"
     ]
    },
    {
     "name": "stdout",
     "output_type": "stream",
     "text": [
      ", "
     ]
    },
    {
     "name": "stdout",
     "output_type": "stream",
     "text": [
      "'Mozambique'"
     ]
    },
    {
     "name": "stdout",
     "output_type": "stream",
     "text": [
      ", "
     ]
    },
    {
     "name": "stdout",
     "output_type": "stream",
     "text": [
      "'Nepal'"
     ]
    },
    {
     "name": "stdout",
     "output_type": "stream",
     "text": [
      ", "
     ]
    },
    {
     "name": "stdout",
     "output_type": "stream",
     "text": [
      "'Saint Lucia'"
     ]
    },
    {
     "name": "stdout",
     "output_type": "stream",
     "text": [
      ", "
     ]
    },
    {
     "name": "stdout",
     "output_type": "stream",
     "text": [
      "'Ghana'"
     ]
    },
    {
     "name": "stdout",
     "output_type": "stream",
     "text": [
      ", "
     ]
    },
    {
     "name": "stdout",
     "output_type": "stream",
     "text": [
      "'Japan'"
     ]
    },
    {
     "name": "stdout",
     "output_type": "stream",
     "text": [
      ",\n",
      "     "
     ]
    },
    {
     "name": "stdout",
     "output_type": "stream",
     "text": [
      "'Greece'"
     ]
    },
    {
     "name": "stdout",
     "output_type": "stream",
     "text": [
      ", "
     ]
    },
    {
     "name": "stdout",
     "output_type": "stream",
     "text": [
      "'South Sudan'"
     ]
    },
    {
     "name": "stdout",
     "output_type": "stream",
     "text": [
      ", "
     ]
    },
    {
     "name": "stdout",
     "output_type": "stream",
     "text": [
      "'South Africa'"
     ]
    },
    {
     "name": "stdout",
     "output_type": "stream",
     "text": [
      "]"
     ]
    },
    {
     "name": "stdout",
     "output_type": "stream",
     "text": [
      ",\n",
      " "
     ]
    },
    {
     "name": "stdout",
     "output_type": "stream",
     "text": [
      "9"
     ]
    },
    {
     "name": "stdout",
     "output_type": "stream",
     "text": [
      ": "
     ]
    },
    {
     "name": "stdout",
     "output_type": "stream",
     "text": [
      "["
     ]
    },
    {
     "name": "stdout",
     "output_type": "stream",
     "text": [
      "'Belarus'"
     ]
    },
    {
     "name": "stdout",
     "output_type": "stream",
     "text": [
      ", "
     ]
    },
    {
     "name": "stdout",
     "output_type": "stream",
     "text": [
      "'Romania'"
     ]
    },
    {
     "name": "stdout",
     "output_type": "stream",
     "text": [
      ", "
     ]
    },
    {
     "name": "stdout",
     "output_type": "stream",
     "text": [
      "'Ukraine'"
     ]
    },
    {
     "name": "stdout",
     "output_type": "stream",
     "text": [
      ", "
     ]
    },
    {
     "name": "stdout",
     "output_type": "stream",
     "text": [
      "'Germany'"
     ]
    },
    {
     "name": "stdout",
     "output_type": "stream",
     "text": [
      ", "
     ]
    },
    {
     "name": "stdout",
     "output_type": "stream",
     "text": [
      "'Gabon'"
     ]
    },
    {
     "name": "stdout",
     "output_type": "stream",
     "text": [
      ", "
     ]
    },
    {
     "name": "stdout",
     "output_type": "stream",
     "text": [
      "'Austria'"
     ]
    },
    {
     "name": "stdout",
     "output_type": "stream",
     "text": [
      ", "
     ]
    },
    {
     "name": "stdout",
     "output_type": "stream",
     "text": [
      "'Benin'"
     ]
    },
    {
     "name": "stdout",
     "output_type": "stream",
     "text": [
      ",\n",
      "     "
     ]
    },
    {
     "name": "stdout",
     "output_type": "stream",
     "text": [
      "'Chad'"
     ]
    },
    {
     "name": "stdout",
     "output_type": "stream",
     "text": [
      ", "
     ]
    },
    {
     "name": "stdout",
     "output_type": "stream",
     "text": [
      "'Tajikistan'"
     ]
    },
    {
     "name": "stdout",
     "output_type": "stream",
     "text": [
      ", "
     ]
    },
    {
     "name": "stdout",
     "output_type": "stream",
     "text": [
      "'Ecuador'"
     ]
    },
    {
     "name": "stdout",
     "output_type": "stream",
     "text": [
      ", "
     ]
    },
    {
     "name": "stdout",
     "output_type": "stream",
     "text": [
      "'Georgia'"
     ]
    },
    {
     "name": "stdout",
     "output_type": "stream",
     "text": [
      ", "
     ]
    },
    {
     "name": "stdout",
     "output_type": "stream",
     "text": [
      "'Pakistan'"
     ]
    },
    {
     "name": "stdout",
     "output_type": "stream",
     "text": [
      ", "
     ]
    },
    {
     "name": "stdout",
     "output_type": "stream",
     "text": [
      "'Cape Verde'"
     ]
    },
    {
     "name": "stdout",
     "output_type": "stream",
     "text": [
      ",\n",
      "     "
     ]
    },
    {
     "name": "stdout",
     "output_type": "stream",
     "text": [
      "'Albania'"
     ]
    },
    {
     "name": "stdout",
     "output_type": "stream",
     "text": [
      ", "
     ]
    },
    {
     "name": "stdout",
     "output_type": "stream",
     "text": [
      "'Singapore'"
     ]
    },
    {
     "name": "stdout",
     "output_type": "stream",
     "text": [
      ", "
     ]
    },
    {
     "name": "stdout",
     "output_type": "stream",
     "text": [
      "'Bermuda'"
     ]
    },
    {
     "name": "stdout",
     "output_type": "stream",
     "text": [
      ", "
     ]
    },
    {
     "name": "stdout",
     "output_type": "stream",
     "text": [
      "'Azerbaijan'"
     ]
    },
    {
     "name": "stdout",
     "output_type": "stream",
     "text": [
      ", "
     ]
    },
    {
     "name": "stdout",
     "output_type": "stream",
     "text": [
      "'Suriname'"
     ]
    },
    {
     "name": "stdout",
     "output_type": "stream",
     "text": [
      ", "
     ]
    },
    {
     "name": "stdout",
     "output_type": "stream",
     "text": [
      "'Iraq'"
     ]
    },
    {
     "name": "stdout",
     "output_type": "stream",
     "text": [
      ",\n",
      "     "
     ]
    },
    {
     "name": "stdout",
     "output_type": "stream",
     "text": [
      "'China'"
     ]
    },
    {
     "name": "stdout",
     "output_type": "stream",
     "text": [
      ", "
     ]
    },
    {
     "name": "stdout",
     "output_type": "stream",
     "text": [
      "'Luxembourg'"
     ]
    },
    {
     "name": "stdout",
     "output_type": "stream",
     "text": [
      ", "
     ]
    },
    {
     "name": "stdout",
     "output_type": "stream",
     "text": [
      "'Somalia'"
     ]
    },
    {
     "name": "stdout",
     "output_type": "stream",
     "text": [
      ", "
     ]
    },
    {
     "name": "stdout",
     "output_type": "stream",
     "text": [
      "'Finland'"
     ]
    },
    {
     "name": "stdout",
     "output_type": "stream",
     "text": [
      ", "
     ]
    },
    {
     "name": "stdout",
     "output_type": "stream",
     "text": [
      "'Cameroon'"
     ]
    },
    {
     "name": "stdout",
     "output_type": "stream",
     "text": [
      ", "
     ]
    },
    {
     "name": "stdout",
     "output_type": "stream",
     "text": [
      "'El Salvador'"
     ]
    },
    {
     "name": "stdout",
     "output_type": "stream",
     "text": [
      ",\n",
      "     "
     ]
    },
    {
     "name": "stdout",
     "output_type": "stream",
     "text": [
      "'Mauritania'"
     ]
    },
    {
     "name": "stdout",
     "output_type": "stream",
     "text": [
      ", "
     ]
    },
    {
     "name": "stdout",
     "output_type": "stream",
     "text": [
      "'Liberia'"
     ]
    },
    {
     "name": "stdout",
     "output_type": "stream",
     "text": [
      ", "
     ]
    },
    {
     "name": "stdout",
     "output_type": "stream",
     "text": [
      "'Swaziland'"
     ]
    },
    {
     "name": "stdout",
     "output_type": "stream",
     "text": [
      ", "
     ]
    },
    {
     "name": "stdout",
     "output_type": "stream",
     "text": [
      "'Uruguay'"
     ]
    },
    {
     "name": "stdout",
     "output_type": "stream",
     "text": [
      ", "
     ]
    },
    {
     "name": "stdout",
     "output_type": "stream",
     "text": [
      "'Honduras'"
     ]
    },
    {
     "name": "stdout",
     "output_type": "stream",
     "text": [
      ", "
     ]
    },
    {
     "name": "stdout",
     "output_type": "stream",
     "text": [
      "'Haiti'"
     ]
    },
    {
     "name": "stdout",
     "output_type": "stream",
     "text": [
      ",\n",
      "     "
     ]
    },
    {
     "name": "stdout",
     "output_type": "stream",
     "text": [
      "'Qatar'"
     ]
    },
    {
     "name": "stdout",
     "output_type": "stream",
     "text": [
      ", "
     ]
    },
    {
     "name": "stdout",
     "output_type": "stream",
     "text": [
      "'Oman'"
     ]
    },
    {
     "name": "stdout",
     "output_type": "stream",
     "text": [
      ", "
     ]
    },
    {
     "name": "stdout",
     "output_type": "stream",
     "text": [
      "'Guatemala'"
     ]
    },
    {
     "name": "stdout",
     "output_type": "stream",
     "text": [
      ", "
     ]
    },
    {
     "name": "stdout",
     "output_type": "stream",
     "text": [
      "'Mali'"
     ]
    },
    {
     "name": "stdout",
     "output_type": "stream",
     "text": [
      ", "
     ]
    },
    {
     "name": "stdout",
     "output_type": "stream",
     "text": [
      "'Bosnia and Herzegovina'"
     ]
    },
    {
     "name": "stdout",
     "output_type": "stream",
     "text": [
      "]"
     ]
    },
    {
     "name": "stdout",
     "output_type": "stream",
     "text": [
      ",\n",
      " "
     ]
    },
    {
     "name": "stdout",
     "output_type": "stream",
     "text": [
      "10"
     ]
    },
    {
     "name": "stdout",
     "output_type": "stream",
     "text": [
      ": "
     ]
    },
    {
     "name": "stdout",
     "output_type": "stream",
     "text": [
      "["
     ]
    },
    {
     "name": "stdout",
     "output_type": "stream",
     "text": [
      "'Togo'"
     ]
    },
    {
     "name": "stdout",
     "output_type": "stream",
     "text": [
      ", "
     ]
    },
    {
     "name": "stdout",
     "output_type": "stream",
     "text": [
      "'Bangladesh'"
     ]
    },
    {
     "name": "stdout",
     "output_type": "stream",
     "text": [
      ", "
     ]
    },
    {
     "name": "stdout",
     "output_type": "stream",
     "text": [
      "'Malaysia'"
     ]
    },
    {
     "name": "stdout",
     "output_type": "stream",
     "text": [
      ", "
     ]
    },
    {
     "name": "stdout",
     "output_type": "stream",
     "text": [
      "'Canada'"
     ]
    },
    {
     "name": "stdout",
     "output_type": "stream",
     "text": [
      ", "
     ]
    },
    {
     "name": "stdout",
     "output_type": "stream",
     "text": [
      "'Moldova'"
     ]
    },
    {
     "name": "stdout",
     "output_type": "stream",
     "text": [
      ", "
     ]
    },
    {
     "name": "stdout",
     "output_type": "stream",
     "text": [
      "'Chile'"
     ]
    },
    {
     "name": "stdout",
     "output_type": "stream",
     "text": [
      ", "
     ]
    },
    {
     "name": "stdout",
     "output_type": "stream",
     "text": [
      "'Belgium'"
     ]
    },
    {
     "name": "stdout",
     "output_type": "stream",
     "text": [
      ",\n",
      "      "
     ]
    },
    {
     "name": "stdout",
     "output_type": "stream",
     "text": [
      "'Lithuania'"
     ]
    },
    {
     "name": "stdout",
     "output_type": "stream",
     "text": [
      ", "
     ]
    },
    {
     "name": "stdout",
     "output_type": "stream",
     "text": [
      "'Poland'"
     ]
    },
    {
     "name": "stdout",
     "output_type": "stream",
     "text": [
      ", "
     ]
    },
    {
     "name": "stdout",
     "output_type": "stream",
     "text": [
      "'Serbia'"
     ]
    },
    {
     "name": "stdout",
     "output_type": "stream",
     "text": [
      ", "
     ]
    },
    {
     "name": "stdout",
     "output_type": "stream",
     "text": [
      "'Hungary'"
     ]
    },
    {
     "name": "stdout",
     "output_type": "stream",
     "text": [
      ", "
     ]
    },
    {
     "name": "stdout",
     "output_type": "stream",
     "text": [
      "'Saudi Arabia'"
     ]
    },
    {
     "name": "stdout",
     "output_type": "stream",
     "text": [
      ", "
     ]
    },
    {
     "name": "stdout",
     "output_type": "stream",
     "text": [
      "'Switzerland'"
     ]
    },
    {
     "name": "stdout",
     "output_type": "stream",
     "text": [
      ",\n",
      "      "
     ]
    },
    {
     "name": "stdout",
     "output_type": "stream",
     "text": [
      "'Panama'"
     ]
    },
    {
     "name": "stdout",
     "output_type": "stream",
     "text": [
      ", "
     ]
    },
    {
     "name": "stdout",
     "output_type": "stream",
     "text": [
      "'Uzbekistan'"
     ]
    },
    {
     "name": "stdout",
     "output_type": "stream",
     "text": [
      ", "
     ]
    },
    {
     "name": "stdout",
     "output_type": "stream",
     "text": [
      "'Sierra Leone'"
     ]
    },
    {
     "name": "stdout",
     "output_type": "stream",
     "text": [
      ", "
     ]
    },
    {
     "name": "stdout",
     "output_type": "stream",
     "text": [
      "'Cuba'"
     ]
    },
    {
     "name": "stdout",
     "output_type": "stream",
     "text": [
      ", "
     ]
    },
    {
     "name": "stdout",
     "output_type": "stream",
     "text": [
      "'Algeria'"
     ]
    },
    {
     "name": "stdout",
     "output_type": "stream",
     "text": [
      ", "
     ]
    },
    {
     "name": "stdout",
     "output_type": "stream",
     "text": [
      "'Senegal'"
     ]
    },
    {
     "name": "stdout",
     "output_type": "stream",
     "text": [
      ",\n",
      "      "
     ]
    },
    {
     "name": "stdout",
     "output_type": "stream",
     "text": [
      "'Indonesia'"
     ]
    },
    {
     "name": "stdout",
     "output_type": "stream",
     "text": [
      ", "
     ]
    },
    {
     "name": "stdout",
     "output_type": "stream",
     "text": [
      "'Denmark'"
     ]
    },
    {
     "name": "stdout",
     "output_type": "stream",
     "text": [
      "]"
     ]
    },
    {
     "name": "stdout",
     "output_type": "stream",
     "text": [
      ",\n",
      " "
     ]
    },
    {
     "name": "stdout",
     "output_type": "stream",
     "text": [
      "11"
     ]
    },
    {
     "name": "stdout",
     "output_type": "stream",
     "text": [
      ": "
     ]
    },
    {
     "name": "stdout",
     "output_type": "stream",
     "text": [
      "["
     ]
    },
    {
     "name": "stdout",
     "output_type": "stream",
     "text": [
      "'Nigeria'"
     ]
    },
    {
     "name": "stdout",
     "output_type": "stream",
     "text": [
      ", "
     ]
    },
    {
     "name": "stdout",
     "output_type": "stream",
     "text": [
      "'Peru'"
     ]
    },
    {
     "name": "stdout",
     "output_type": "stream",
     "text": [
      ", "
     ]
    },
    {
     "name": "stdout",
     "output_type": "stream",
     "text": [
      "'Bolivia'"
     ]
    },
    {
     "name": "stdout",
     "output_type": "stream",
     "text": [
      ", "
     ]
    },
    {
     "name": "stdout",
     "output_type": "stream",
     "text": [
      "'Bulgaria'"
     ]
    },
    {
     "name": "stdout",
     "output_type": "stream",
     "text": [
      ", "
     ]
    },
    {
     "name": "stdout",
     "output_type": "stream",
     "text": [
      "'Latvia'"
     ]
    },
    {
     "name": "stdout",
     "output_type": "stream",
     "text": [
      ", "
     ]
    },
    {
     "name": "stdout",
     "output_type": "stream",
     "text": [
      "'Macedonia'"
     ]
    },
    {
     "name": "stdout",
     "output_type": "stream",
     "text": [
      ", "
     ]
    },
    {
     "name": "stdout",
     "output_type": "stream",
     "text": [
      "'Kuwait'"
     ]
    },
    {
     "name": "stdout",
     "output_type": "stream",
     "text": [
      ",\n",
      "      "
     ]
    },
    {
     "name": "stdout",
     "output_type": "stream",
     "text": [
      "'Burkina Faso'"
     ]
    },
    {
     "name": "stdout",
     "output_type": "stream",
     "text": [
      ", "
     ]
    },
    {
     "name": "stdout",
     "output_type": "stream",
     "text": [
      "'Armenia'"
     ]
    },
    {
     "name": "stdout",
     "output_type": "stream",
     "text": [
      ", "
     ]
    },
    {
     "name": "stdout",
     "output_type": "stream",
     "text": [
      "'Guinea'"
     ]
    },
    {
     "name": "stdout",
     "output_type": "stream",
     "text": [
      ", "
     ]
    },
    {
     "name": "stdout",
     "output_type": "stream",
     "text": [
      "'Egypt'"
     ]
    },
    {
     "name": "stdout",
     "output_type": "stream",
     "text": [
      ", "
     ]
    },
    {
     "name": "stdout",
     "output_type": "stream",
     "text": [
      "'Mexico'"
     ]
    },
    {
     "name": "stdout",
     "output_type": "stream",
     "text": [
      ", "
     ]
    },
    {
     "name": "stdout",
     "output_type": "stream",
     "text": [
      "'Turkey'"
     ]
    },
    {
     "name": "stdout",
     "output_type": "stream",
     "text": [
      ",\n",
      "      "
     ]
    },
    {
     "name": "stdout",
     "output_type": "stream",
     "text": [
      "'Estonia'"
     ]
    },
    {
     "name": "stdout",
     "output_type": "stream",
     "text": [
      ", "
     ]
    },
    {
     "name": "stdout",
     "output_type": "stream",
     "text": [
      "'Dominican Republic'"
     ]
    },
    {
     "name": "stdout",
     "output_type": "stream",
     "text": [
      "]"
     ]
    },
    {
     "name": "stdout",
     "output_type": "stream",
     "text": [
      ",\n",
      " "
     ]
    },
    {
     "name": "stdout",
     "output_type": "stream",
     "text": [
      "12"
     ]
    },
    {
     "name": "stdout",
     "output_type": "stream",
     "text": [
      ": "
     ]
    },
    {
     "name": "stdout",
     "output_type": "stream",
     "text": [
      "["
     ]
    },
    {
     "name": "stdout",
     "output_type": "stream",
     "text": [
      "'Brazil'"
     ]
    },
    {
     "name": "stdout",
     "output_type": "stream",
     "text": [
      ", "
     ]
    },
    {
     "name": "stdout",
     "output_type": "stream",
     "text": [
      "'Italy'"
     ]
    },
    {
     "name": "stdout",
     "output_type": "stream",
     "text": [
      ", "
     ]
    },
    {
     "name": "stdout",
     "output_type": "stream",
     "text": [
      "'Portugal'"
     ]
    },
    {
     "name": "stdout",
     "output_type": "stream",
     "text": [
      ", "
     ]
    },
    {
     "name": "stdout",
     "output_type": "stream",
     "text": [
      "'France'"
     ]
    },
    {
     "name": "stdout",
     "output_type": "stream",
     "text": [
      ", "
     ]
    },
    {
     "name": "stdout",
     "output_type": "stream",
     "text": [
      "'United States'"
     ]
    },
    {
     "name": "stdout",
     "output_type": "stream",
     "text": [
      ",\n",
      "      "
     ]
    },
    {
     "name": "stdout",
     "output_type": "stream",
     "text": [
      "'United Arab Emirates'"
     ]
    },
    {
     "name": "stdout",
     "output_type": "stream",
     "text": [
      ", "
     ]
    },
    {
     "name": "stdout",
     "output_type": "stream",
     "text": [
      "'Iran'"
     ]
    },
    {
     "name": "stdout",
     "output_type": "stream",
     "text": [
      ", "
     ]
    },
    {
     "name": "stdout",
     "output_type": "stream",
     "text": [
      "'Bahrain'"
     ]
    },
    {
     "name": "stdout",
     "output_type": "stream",
     "text": [
      "]"
     ]
    },
    {
     "name": "stdout",
     "output_type": "stream",
     "text": [
      ",\n",
      " "
     ]
    },
    {
     "name": "stdout",
     "output_type": "stream",
     "text": [
      "13"
     ]
    },
    {
     "name": "stdout",
     "output_type": "stream",
     "text": [
      ": "
     ]
    },
    {
     "name": "stdout",
     "output_type": "stream",
     "text": [
      "['Russia']"
     ]
    },
    {
     "name": "stdout",
     "output_type": "stream",
     "text": [
      "}"
     ]
    },
    {
     "name": "stdout",
     "output_type": "stream",
     "text": [
      "\n"
     ]
    }
   ],
   "source": [
    "# Show the number of phases of all countries\n",
    "analyser.trend()\n",
    "pprint(analyser.phase_len(), compact=True)"
   ]
  },
  {
   "cell_type": "code",
   "execution_count": 8,
   "metadata": {
    "collapsed": false
   },
   "outputs": [
    {
     "data": {
      "text/plain": [
       "9"
      ]
     },
     "execution_count": 8,
     "metadata": {},
     "output_type": "execute_result"
    }
   ],
   "source": [
    "# Set phases with S-R trend analysis\n",
    "analyser.trend(min_len=12)\n",
    "# The number of countries\n",
    "len(analyser.countries)"
   ]
  },
  {
   "cell_type": "code",
   "execution_count": 9,
   "metadata": {
    "collapsed": false,
    "tags": []
   },
   "outputs": [
    {
     "name": "stdout",
     "output_type": "stream",
     "text": [
      "{"
     ]
    },
    {
     "name": "stdout",
     "output_type": "stream",
     "text": [
      "12"
     ]
    },
    {
     "name": "stdout",
     "output_type": "stream",
     "text": [
      ": "
     ]
    },
    {
     "name": "stdout",
     "output_type": "stream",
     "text": [
      "["
     ]
    },
    {
     "name": "stdout",
     "output_type": "stream",
     "text": [
      "'Brazil'"
     ]
    },
    {
     "name": "stdout",
     "output_type": "stream",
     "text": [
      ", "
     ]
    },
    {
     "name": "stdout",
     "output_type": "stream",
     "text": [
      "'Italy'"
     ]
    },
    {
     "name": "stdout",
     "output_type": "stream",
     "text": [
      ", "
     ]
    },
    {
     "name": "stdout",
     "output_type": "stream",
     "text": [
      "'Portugal'"
     ]
    },
    {
     "name": "stdout",
     "output_type": "stream",
     "text": [
      ", "
     ]
    },
    {
     "name": "stdout",
     "output_type": "stream",
     "text": [
      "'France'"
     ]
    },
    {
     "name": "stdout",
     "output_type": "stream",
     "text": [
      ", "
     ]
    },
    {
     "name": "stdout",
     "output_type": "stream",
     "text": [
      "'United States'"
     ]
    },
    {
     "name": "stdout",
     "output_type": "stream",
     "text": [
      ",\n",
      "      "
     ]
    },
    {
     "name": "stdout",
     "output_type": "stream",
     "text": [
      "'United Arab Emirates'"
     ]
    },
    {
     "name": "stdout",
     "output_type": "stream",
     "text": [
      ", "
     ]
    },
    {
     "name": "stdout",
     "output_type": "stream",
     "text": [
      "'Iran'"
     ]
    },
    {
     "name": "stdout",
     "output_type": "stream",
     "text": [
      ", "
     ]
    },
    {
     "name": "stdout",
     "output_type": "stream",
     "text": [
      "'Bahrain'"
     ]
    },
    {
     "name": "stdout",
     "output_type": "stream",
     "text": [
      "]"
     ]
    },
    {
     "name": "stdout",
     "output_type": "stream",
     "text": [
      ",\n",
      " "
     ]
    },
    {
     "name": "stdout",
     "output_type": "stream",
     "text": [
      "13"
     ]
    },
    {
     "name": "stdout",
     "output_type": "stream",
     "text": [
      ": "
     ]
    },
    {
     "name": "stdout",
     "output_type": "stream",
     "text": [
      "['Russia']"
     ]
    },
    {
     "name": "stdout",
     "output_type": "stream",
     "text": [
      "}"
     ]
    },
    {
     "name": "stdout",
     "output_type": "stream",
     "text": [
      "\n"
     ]
    }
   ],
   "source": [
    "phase_len_dict = analyser.phase_len()\n",
    "pprint(phase_len_dict, compact=True)"
   ]
  },
  {
   "cell_type": "code",
   "execution_count": 10,
   "metadata": {
    "collapsed": false,
    "tags": []
   },
   "outputs": [
    {
     "data": {
      "text/html": [
       "<div>\n",
       "<style scoped>\n",
       "    .dataframe tbody tr th:only-of-type {\n",
       "        vertical-align: middle;\n",
       "    }\n",
       "\n",
       "    .dataframe tbody tr th {\n",
       "        vertical-align: top;\n",
       "    }\n",
       "\n",
       "    .dataframe thead th {\n",
       "        text-align: right;\n",
       "    }\n",
       "</style>\n",
       "<table border=\"1\" class=\"dataframe\">\n",
       "  <thead>\n",
       "    <tr style=\"text-align: right;\">\n",
       "      <th></th>\n",
       "      <th></th>\n",
       "      <th>Type</th>\n",
       "      <th>Start</th>\n",
       "      <th>End</th>\n",
       "      <th>Population</th>\n",
       "    </tr>\n",
       "    <tr>\n",
       "      <th>Country</th>\n",
       "      <th>Phase</th>\n",
       "      <th></th>\n",
       "      <th></th>\n",
       "      <th></th>\n",
       "      <th></th>\n",
       "    </tr>\n",
       "  </thead>\n",
       "  <tbody>\n",
       "    <tr>\n",
       "      <th rowspan=\"13\" valign=\"top\">Russia</th>\n",
       "      <th>0th</th>\n",
       "      <td>Past</td>\n",
       "      <td>12Feb2020</td>\n",
       "      <td>06May2020</td>\n",
       "      <td>330457362</td>\n",
       "    </tr>\n",
       "    <tr>\n",
       "      <th>1st</th>\n",
       "      <td>Past</td>\n",
       "      <td>07May2020</td>\n",
       "      <td>16May2020</td>\n",
       "      <td>330457362</td>\n",
       "    </tr>\n",
       "    <tr>\n",
       "      <th>2nd</th>\n",
       "      <td>Past</td>\n",
       "      <td>17May2020</td>\n",
       "      <td>26May2020</td>\n",
       "      <td>330457362</td>\n",
       "    </tr>\n",
       "    <tr>\n",
       "      <th>3rd</th>\n",
       "      <td>Past</td>\n",
       "      <td>27May2020</td>\n",
       "      <td>04Jun2020</td>\n",
       "      <td>330457362</td>\n",
       "    </tr>\n",
       "    <tr>\n",
       "      <th>4th</th>\n",
       "      <td>Past</td>\n",
       "      <td>05Jun2020</td>\n",
       "      <td>13Jun2020</td>\n",
       "      <td>330457362</td>\n",
       "    </tr>\n",
       "    <tr>\n",
       "      <th>5th</th>\n",
       "      <td>Past</td>\n",
       "      <td>14Jun2020</td>\n",
       "      <td>23Jun2020</td>\n",
       "      <td>330457362</td>\n",
       "    </tr>\n",
       "    <tr>\n",
       "      <th>6th</th>\n",
       "      <td>Past</td>\n",
       "      <td>24Jun2020</td>\n",
       "      <td>04Jul2020</td>\n",
       "      <td>330457362</td>\n",
       "    </tr>\n",
       "    <tr>\n",
       "      <th>7th</th>\n",
       "      <td>Past</td>\n",
       "      <td>05Jul2020</td>\n",
       "      <td>17Jul2020</td>\n",
       "      <td>330457362</td>\n",
       "    </tr>\n",
       "    <tr>\n",
       "      <th>8th</th>\n",
       "      <td>Past</td>\n",
       "      <td>18Jul2020</td>\n",
       "      <td>31Jul2020</td>\n",
       "      <td>330457362</td>\n",
       "    </tr>\n",
       "    <tr>\n",
       "      <th>9th</th>\n",
       "      <td>Past</td>\n",
       "      <td>01Aug2020</td>\n",
       "      <td>14Aug2020</td>\n",
       "      <td>330457362</td>\n",
       "    </tr>\n",
       "    <tr>\n",
       "      <th>10th</th>\n",
       "      <td>Past</td>\n",
       "      <td>15Aug2020</td>\n",
       "      <td>29Aug2020</td>\n",
       "      <td>330457362</td>\n",
       "    </tr>\n",
       "    <tr>\n",
       "      <th>11th</th>\n",
       "      <td>Past</td>\n",
       "      <td>30Aug2020</td>\n",
       "      <td>12Sep2020</td>\n",
       "      <td>330457362</td>\n",
       "    </tr>\n",
       "    <tr>\n",
       "      <th>12th</th>\n",
       "      <td>Past</td>\n",
       "      <td>13Sep2020</td>\n",
       "      <td>26Sep2020</td>\n",
       "      <td>330457362</td>\n",
       "    </tr>\n",
       "  </tbody>\n",
       "</table>\n",
       "</div>"
      ],
      "text/plain": [
       "               Type      Start        End  Population\n",
       "Country Phase                                        \n",
       "Russia  0th    Past  12Feb2020  06May2020   330457362\n",
       "        1st    Past  07May2020  16May2020   330457362\n",
       "        2nd    Past  17May2020  26May2020   330457362\n",
       "        3rd    Past  27May2020  04Jun2020   330457362\n",
       "        4th    Past  05Jun2020  13Jun2020   330457362\n",
       "        5th    Past  14Jun2020  23Jun2020   330457362\n",
       "        6th    Past  24Jun2020  04Jul2020   330457362\n",
       "        7th    Past  05Jul2020  17Jul2020   330457362\n",
       "        8th    Past  18Jul2020  31Jul2020   330457362\n",
       "        9th    Past  01Aug2020  14Aug2020   330457362\n",
       "        10th   Past  15Aug2020  29Aug2020   330457362\n",
       "        11th   Past  30Aug2020  12Sep2020   330457362\n",
       "        12th   Past  13Sep2020  26Sep2020   330457362"
      ]
     },
     "execution_count": 10,
     "metadata": {},
     "output_type": "execute_result"
    }
   ],
   "source": [
    "# Here, only show the countries which have the most phases\n",
    "countries_show = max(phase_len_dict.items(), key=lambda x: x[0])[1]\n",
    "# Show summary\n",
    "analyser.summary(countries=countries_show)"
   ]
  },
  {
   "cell_type": "markdown",
   "metadata": {},
   "source": [
    "## Parameter estimation\n",
    "we will estimate the parameter values with SIR-derived ODE models in each country."
   ]
  },
  {
   "cell_type": "code",
   "execution_count": 11,
   "metadata": {
    "collapsed": false,
    "tags": []
   },
   "outputs": [
    {
     "name": "stdout",
     "output_type": "stream",
     "text": [
      "\n",
      "<SIR-F model: parameter estimation>"
     ]
    },
    {
     "name": "stdout",
     "output_type": "stream",
     "text": [
      "\n"
     ]
    },
    {
     "name": "stdout",
     "output_type": "stream",
     "text": [
      "Running optimization with 4 CPUs..."
     ]
    },
    {
     "name": "stdout",
     "output_type": "stream",
     "text": [
      "\n"
     ]
    },
    {
     "name": "stdout",
     "output_type": "stream",
     "text": [
      "\tBRA,  7th phase (06Aug2020 - 13Aug2020): finished  477 trials in 0 min 10 sec"
     ]
    },
    {
     "name": "stdout",
     "output_type": "stream",
     "text": [
      "\n"
     ]
    },
    {
     "name": "stdout",
     "output_type": "stream",
     "text": [
      "\tUSA, 10th phase (29Aug2020 - 11Sep2020): finished  861 trials in 0 min 20 sec"
     ]
    },
    {
     "name": "stdout",
     "output_type": "stream",
     "text": [
      "\n"
     ]
    },
    {
     "name": "stdout",
     "output_type": "stream",
     "text": [
      "\tARE,  7th phase (21Jul2020 - 15Aug2020): finished 1022 trials in 0 min 25 sec"
     ]
    },
    {
     "name": "stdout",
     "output_type": "stream",
     "text": [
      "\n"
     ]
    },
    {
     "name": "stdout",
     "output_type": "stream",
     "text": [
      "\tARE,  2nd phase (15May2020 - 24May2020): finished 1993 trials in 1 min  0 sec"
     ]
    },
    {
     "name": "stdout",
     "output_type": "stream",
     "text": [
      "\n"
     ]
    },
    {
     "name": "stdout",
     "output_type": "stream",
     "text": [
      "\tPRT,  3rd phase (02Jun2020 - 13Jun2020): finished 1979 trials in 1 min  0 sec"
     ]
    },
    {
     "name": "stdout",
     "output_type": "stream",
     "text": [
      "\n"
     ]
    },
    {
     "name": "stdout",
     "output_type": "stream",
     "text": [
      "\tBRA,  1st phase (27May2020 - 13Jun2020): finished 1976 trials in 1 min  0 sec"
     ]
    },
    {
     "name": "stdout",
     "output_type": "stream",
     "text": [
      "\n"
     ]
    },
    {
     "name": "stdout",
     "output_type": "stream",
     "text": [
      "\tBHR,  0th phase (06Mar2020 - 09May2020): finished 1916 trials in 1 min  0 sec"
     ]
    },
    {
     "name": "stdout",
     "output_type": "stream",
     "text": [
      "\n"
     ]
    },
    {
     "name": "stdout",
     "output_type": "stream",
     "text": [
      "\tARE,  1st phase (27Apr2020 - 14May2020): finished 1961 trials in 1 min  0 sec"
     ]
    },
    {
     "name": "stdout",
     "output_type": "stream",
     "text": [
      "\n"
     ]
    },
    {
     "name": "stdout",
     "output_type": "stream",
     "text": [
      "\tITA,  2nd phase (29Mar2020 - 08Apr2020): finished 1982 trials in 1 min  0 sec"
     ]
    },
    {
     "name": "stdout",
     "output_type": "stream",
     "text": [
      "\n"
     ]
    },
    {
     "name": "stdout",
     "output_type": "stream",
     "text": [
      "\tBRA,  0th phase (16Mar2020 - 26May2020): finished 1923 trials in 1 min  0 sec"
     ]
    },
    {
     "name": "stdout",
     "output_type": "stream",
     "text": [
      "\n"
     ]
    },
    {
     "name": "stdout",
     "output_type": "stream",
     "text": [
      "\tBRA, 11th phase (14Sep2020 - 26Sep2020): finished 1972 trials in 1 min  0 sec"
     ]
    },
    {
     "name": "stdout",
     "output_type": "stream",
     "text": [
      "\n"
     ]
    },
    {
     "name": "stdout",
     "output_type": "stream",
     "text": [
      "\tARE,  5th phase (20Jun2020 - 03Jul2020): finished 1007 trials in 0 min 25 sec"
     ]
    },
    {
     "name": "stdout",
     "output_type": "stream",
     "text": [
      "\n"
     ]
    },
    {
     "name": "stdout",
     "output_type": "stream",
     "text": [
      "\tBRA,  6th phase (29Jul2020 - 05Aug2020): finished 1340 trials in 0 min 35 sec"
     ]
    },
    {
     "name": "stdout",
     "output_type": "stream",
     "text": [
      "\n"
     ]
    },
    {
     "name": "stdout",
     "output_type": "stream",
     "text": [
      "\tPRT, 10th phase (08Sep2020 - 16Sep2020): finished 1975 trials in 1 min  0 sec"
     ]
    },
    {
     "name": "stdout",
     "output_type": "stream",
     "text": [
      "\n"
     ]
    },
    {
     "name": "stdout",
     "output_type": "stream",
     "text": [
      "\tARE,  0th phase (12Feb2020 - 26Apr2020): finished 1914 trials in 1 min  0 sec"
     ]
    },
    {
     "name": "stdout",
     "output_type": "stream",
     "text": [
      "\n"
     ]
    },
    {
     "name": "stdout",
     "output_type": "stream",
     "text": [
      "\tRUS,  5th phase (14Jun2020 - 23Jun2020): finished 1963 trials in 1 min  0 sec"
     ]
    },
    {
     "name": "stdout",
     "output_type": "stream",
     "text": [
      "\n"
     ]
    },
    {
     "name": "stdout",
     "output_type": "stream",
     "text": [
      "\tRUS,  2nd phase (17May2020 - 26May2020): finished 1962 trials in 1 min  0 sec"
     ]
    },
    {
     "name": "stdout",
     "output_type": "stream",
     "text": [
      "\n"
     ]
    },
    {
     "name": "stdout",
     "output_type": "stream",
     "text": [
      "\tRUS,  6th phase (24Jun2020 - 04Jul2020): finished 1977 trials in 1 min  0 sec"
     ]
    },
    {
     "name": "stdout",
     "output_type": "stream",
     "text": [
      "\n"
     ]
    },
    {
     "name": "stdout",
     "output_type": "stream",
     "text": [
      "\tRUS,  1st phase (07May2020 - 16May2020): finished 1983 trials in 1 min  0 sec"
     ]
    },
    {
     "name": "stdout",
     "output_type": "stream",
     "text": [
      "\n"
     ]
    },
    {
     "name": "stdout",
     "output_type": "stream",
     "text": [
      "\tBRA, 10th phase (02Sep2020 - 13Sep2020): finished 1982 trials in 1 min  0 sec"
     ]
    },
    {
     "name": "stdout",
     "output_type": "stream",
     "text": [
      "\n"
     ]
    },
    {
     "name": "stdout",
     "output_type": "stream",
     "text": [
      "\tFRA,  5th phase (05May2020 - 26May2020): finished 1965 trials in 1 min  0 sec"
     ]
    },
    {
     "name": "stdout",
     "output_type": "stream",
     "text": [
      "\n"
     ]
    },
    {
     "name": "stdout",
     "output_type": "stream",
     "text": [
      "\tPRT,  7th phase (21Jul2020 - 07Aug2020): finished 1954 trials in 1 min  0 sec"
     ]
    },
    {
     "name": "stdout",
     "output_type": "stream",
     "text": [
      "\n"
     ]
    },
    {
     "name": "stdout",
     "output_type": "stream",
     "text": [
      "\tITA,  9th phase (31Jul2020 - 28Aug2020): finished 1955 trials in 1 min  0 sec"
     ]
    },
    {
     "name": "stdout",
     "output_type": "stream",
     "text": [
      "\n"
     ]
    },
    {
     "name": "stdout",
     "output_type": "stream",
     "text": [
      "\tUSA,  2nd phase (12May2020 - 05Jun2020): finished 1948 trials in 1 min  0 sec"
     ]
    },
    {
     "name": "stdout",
     "output_type": "stream",
     "text": [
      "\n"
     ]
    },
    {
     "name": "stdout",
     "output_type": "stream",
     "text": [
      "\tITA,  5th phase (01May2020 - 09May2020): finished  669 trials in 0 min 15 sec"
     ]
    },
    {
     "name": "stdout",
     "output_type": "stream",
     "text": [
      "\n"
     ]
    },
    {
     "name": "stdout",
     "output_type": "stream",
     "text": [
      "\tPRT,  0th phase (14Mar2020 - 27Apr2020): finished 1914 trials in 1 min  0 sec"
     ]
    },
    {
     "name": "stdout",
     "output_type": "stream",
     "text": [
      "\n"
     ]
    },
    {
     "name": "stdout",
     "output_type": "stream",
     "text": [
      "\tUSA, 11th phase (12Sep2020 - 26Sep2020): finished  834 trials in 0 min 20 sec"
     ]
    },
    {
     "name": "stdout",
     "output_type": "stream",
     "text": [
      "\n"
     ]
    },
    {
     "name": "stdout",
     "output_type": "stream",
     "text": [
      "\tBHR,  3rd phase (14Jun2020 - 24Jun2020): finished 1968 trials in 1 min  0 sec"
     ]
    },
    {
     "name": "stdout",
     "output_type": "stream",
     "text": [
      "\n"
     ]
    },
    {
     "name": "stdout",
     "output_type": "stream",
     "text": [
      "\tUSA,  7th phase (28Jul2020 - 06Aug2020): finished  463 trials in 0 min 10 sec"
     ]
    },
    {
     "name": "stdout",
     "output_type": "stream",
     "text": [
      "\n"
     ]
    },
    {
     "name": "stdout",
     "output_type": "stream",
     "text": [
      "\tFRA,  3rd phase (13Apr2020 - 20Apr2020): finished 1966 trials in 1 min  0 sec"
     ]
    },
    {
     "name": "stdout",
     "output_type": "stream",
     "text": [
      "\n"
     ]
    },
    {
     "name": "stdout",
     "output_type": "stream",
     "text": [
      "\tIRN,  3rd phase (14May2020 - 31May2020): finished  455 trials in 0 min 10 sec"
     ]
    },
    {
     "name": "stdout",
     "output_type": "stream",
     "text": [
      "\n"
     ]
    },
    {
     "name": "stdout",
     "output_type": "stream",
     "text": [
      "\tBHR,  7th phase (27Jul2020 - 09Aug2020): finished  990 trials in 0 min 25 sec"
     ]
    },
    {
     "name": "stdout",
     "output_type": "stream",
     "text": [
      "\n"
     ]
    },
    {
     "name": "stdout",
     "output_type": "stream",
     "text": [
      "\tIRN,  7th phase (14Jul2020 - 27Jul2020): finished  240 trials in 0 min  5 sec"
     ]
    },
    {
     "name": "stdout",
     "output_type": "stream",
     "text": [
      "\n"
     ]
    },
    {
     "name": "stdout",
     "output_type": "stream",
     "text": [
      "\tBHR,  5th phase (06Jul2020 - 14Jul2020): finished 1931 trials in 1 min  0 sec"
     ]
    },
    {
     "name": "stdout",
     "output_type": "stream",
     "text": [
      "\n"
     ]
    },
    {
     "name": "stdout",
     "output_type": "stream",
     "text": [
      "\tFRA,  2nd phase (03Apr2020 - 12Apr2020): finished 1918 trials in 1 min  0 sec"
     ]
    },
    {
     "name": "stdout",
     "output_type": "stream",
     "text": [
      "\n"
     ]
    },
    {
     "name": "stdout",
     "output_type": "stream",
     "text": [
      "\tRUS, 12th phase (13Sep2020 - 26Sep2020): finished  797 trials in 0 min 20 sec"
     ]
    },
    {
     "name": "stdout",
     "output_type": "stream",
     "text": [
      "\n"
     ]
    },
    {
     "name": "stdout",
     "output_type": "stream",
     "text": [
      "\tRUS,  0th phase (12Feb2020 - 06May2020): finished 1925 trials in 1 min  0 sec"
     ]
    },
    {
     "name": "stdout",
     "output_type": "stream",
     "text": [
      "\n"
     ]
    },
    {
     "name": "stdout",
     "output_type": "stream",
     "text": [
      "\tBRA,  8th phase (14Aug2020 - 24Aug2020): finished 1905 trials in 1 min  0 sec"
     ]
    },
    {
     "name": "stdout",
     "output_type": "stream",
     "text": [
      "\n"
     ]
    },
    {
     "name": "stdout",
     "output_type": "stream",
     "text": [
      "\tIRN,  1st phase (30Mar2020 - 17Apr2020): finished 1893 trials in 1 min  0 sec"
     ]
    },
    {
     "name": "stdout",
     "output_type": "stream",
     "text": [
      "\n"
     ]
    },
    {
     "name": "stdout",
     "output_type": "stream",
     "text": [
      "\tFRA,  4th phase (21Apr2020 - 04May2020): finished 1905 trials in 1 min  0 sec"
     ]
    },
    {
     "name": "stdout",
     "output_type": "stream",
     "text": [
      "\n"
     ]
    },
    {
     "name": "stdout",
     "output_type": "stream",
     "text": [
      "\tPRT,  5th phase (26Jun2020 - 07Jul2020): finished 1894 trials in 1 min  0 sec"
     ]
    },
    {
     "name": "stdout",
     "output_type": "stream",
     "text": [
      "\n"
     ]
    },
    {
     "name": "stdout",
     "output_type": "stream",
     "text": [
      "\tRUS, 11th phase (30Aug2020 - 12Sep2020): finished 1260 trials in 0 min 35 sec"
     ]
    },
    {
     "name": "stdout",
     "output_type": "stream",
     "text": [
      "\n"
     ]
    },
    {
     "name": "stdout",
     "output_type": "stream",
     "text": [
      "\tUSA,  6th phase (18Jul2020 - 27Jul2020): finished  444 trials in 0 min 10 sec"
     ]
    },
    {
     "name": "stdout",
     "output_type": "stream",
     "text": [
      "\n"
     ]
    },
    {
     "name": "stdout",
     "output_type": "stream",
     "text": [
      "\tFRA,  6th phase (27May2020 - 25Jun2020): finished 1870 trials in 1 min  0 sec"
     ]
    },
    {
     "name": "stdout",
     "output_type": "stream",
     "text": [
      "\n"
     ]
    },
    {
     "name": "stdout",
     "output_type": "stream",
     "text": [
      "\tBRA,  5th phase (21Jul2020 - 28Jul2020): finished 1884 trials in 1 min  0 sec"
     ]
    },
    {
     "name": "stdout",
     "output_type": "stream",
     "text": [
      "\n"
     ]
    },
    {
     "name": "stdout",
     "output_type": "stream",
     "text": [
      "\tFRA,  8th phase (23Jul2020 - 10Aug2020): finished  418 trials in 0 min 10 sec"
     ]
    },
    {
     "name": "stdout",
     "output_type": "stream",
     "text": [
      "\n"
     ]
    },
    {
     "name": "stdout",
     "output_type": "stream",
     "text": [
      "\tITA, 11th phase (15Sep2020 - 26Sep2020): finished  236 trials in 0 min  5 sec"
     ]
    },
    {
     "name": "stdout",
     "output_type": "stream",
     "text": [
      "\n"
     ]
    },
    {
     "name": "stdout",
     "output_type": "stream",
     "text": [
      "\tITA,  3rd phase (09Apr2020 - 18Apr2020): finished  239 trials in 0 min  5 sec"
     ]
    },
    {
     "name": "stdout",
     "output_type": "stream",
     "text": [
      "\n"
     ]
    },
    {
     "name": "stdout",
     "output_type": "stream",
     "text": [
      "\tFRA,  9th phase (11Aug2020 - 27Aug2020): finished  783 trials in 0 min 20 sec"
     ]
    },
    {
     "name": "stdout",
     "output_type": "stream",
     "text": [
      "\n"
     ]
    },
    {
     "name": "stdout",
     "output_type": "stream",
     "text": [
      "\tRUS,  9th phase (01Aug2020 - 14Aug2020): finished 1876 trials in 1 min  0 sec"
     ]
    },
    {
     "name": "stdout",
     "output_type": "stream",
     "text": [
      "\n"
     ]
    },
    {
     "name": "stdout",
     "output_type": "stream",
     "text": [
      "\tARE,  9th phase (02Sep2020 - 09Sep2020): finished 1890 trials in 1 min  0 sec"
     ]
    },
    {
     "name": "stdout",
     "output_type": "stream",
     "text": [
      "\n"
     ]
    },
    {
     "name": "stdout",
     "output_type": "stream",
     "text": [
      "\tPRT,  4th phase (14Jun2020 - 25Jun2020): finished 1892 trials in 1 min  0 sec"
     ]
    },
    {
     "name": "stdout",
     "output_type": "stream",
     "text": [
      "\n"
     ]
    },
    {
     "name": "stdout",
     "output_type": "stream",
     "text": [
      "\tPRT, 11th phase (17Sep2020 - 26Sep2020): finished 1876 trials in 1 min  0 sec"
     ]
    },
    {
     "name": "stdout",
     "output_type": "stream",
     "text": [
      "\n"
     ]
    },
    {
     "name": "stdout",
     "output_type": "stream",
     "text": [
      "\tIRN,  0th phase (26Feb2020 - 29Mar2020): finished 1872 trials in 1 min  0 sec"
     ]
    },
    {
     "name": "stdout",
     "output_type": "stream",
     "text": [
      "\n"
     ]
    },
    {
     "name": "stdout",
     "output_type": "stream",
     "text": [
      "\tITA,  6th phase (10May2020 - 21May2020): finished  445 trials in 0 min 10 sec"
     ]
    },
    {
     "name": "stdout",
     "output_type": "stream",
     "text": [
      "\n"
     ]
    },
    {
     "name": "stdout",
     "output_type": "stream",
     "text": [
      "\tPRT,  8th phase (08Aug2020 - 25Aug2020): finished 1860 trials in 1 min  0 sec"
     ]
    },
    {
     "name": "stdout",
     "output_type": "stream",
     "text": [
      "\n"
     ]
    },
    {
     "name": "stdout",
     "output_type": "stream",
     "text": [
      "\tUSA,  1st phase (19Apr2020 - 11May2020): finished 1842 trials in 1 min  0 sec"
     ]
    },
    {
     "name": "stdout",
     "output_type": "stream",
     "text": [
      "\n"
     ]
    },
    {
     "name": "stdout",
     "output_type": "stream",
     "text": [
      "\tIRN, 10th phase (28Aug2020 - 13Sep2020): finished 1866 trials in 1 min  0 sec"
     ]
    },
    {
     "name": "stdout",
     "output_type": "stream",
     "text": [
      "\n"
     ]
    },
    {
     "name": "stdout",
     "output_type": "stream",
     "text": [
      "\tBRA,  9th phase (25Aug2020 - 01Sep2020): finished  444 trials in 0 min 10 sec"
     ]
    },
    {
     "name": "stdout",
     "output_type": "stream",
     "text": [
      "\n"
     ]
    },
    {
     "name": "stdout",
     "output_type": "stream",
     "text": [
      "\tFRA,  0th phase (12Feb2020 - 23Mar2020): finished 1824 trials in 1 min  0 sec"
     ]
    },
    {
     "name": "stdout",
     "output_type": "stream",
     "text": [
      "\n"
     ]
    },
    {
     "name": "stdout",
     "output_type": "stream",
     "text": [
      "\tIRN,  9th phase (12Aug2020 - 27Aug2020): finished  622 trials in 0 min 15 sec"
     ]
    },
    {
     "name": "stdout",
     "output_type": "stream",
     "text": [
      "\n"
     ]
    },
    {
     "name": "stdout",
     "output_type": "stream",
     "text": [
      "\tBHR,  9th phase (23Aug2020 - 05Sep2020): finished 1862 trials in 1 min  0 sec"
     ]
    },
    {
     "name": "stdout",
     "output_type": "stream",
     "text": [
      "\n"
     ]
    },
    {
     "name": "stdout",
     "output_type": "stream",
     "text": [
      "\tITA,  4th phase (19Apr2020 - 30Apr2020): finished 1865 trials in 1 min  0 sec"
     ]
    },
    {
     "name": "stdout",
     "output_type": "stream",
     "text": [
      "\n"
     ]
    },
    {
     "name": "stdout",
     "output_type": "stream",
     "text": [
      "\tPRT,  6th phase (08Jul2020 - 20Jul2020): finished 1855 trials in 1 min  0 sec"
     ]
    },
    {
     "name": "stdout",
     "output_type": "stream",
     "text": [
      "\n"
     ]
    },
    {
     "name": "stdout",
     "output_type": "stream",
     "text": [
      "\tARE, 10th phase (10Sep2020 - 17Sep2020): finished 1864 trials in 1 min  0 sec"
     ]
    },
    {
     "name": "stdout",
     "output_type": "stream",
     "text": [
      "\n"
     ]
    },
    {
     "name": "stdout",
     "output_type": "stream",
     "text": [
      "\tFRA, 11th phase (11Sep2020 - 26Sep2020): finished 1854 trials in 1 min  0 sec"
     ]
    },
    {
     "name": "stdout",
     "output_type": "stream",
     "text": [
      "\n"
     ]
    },
    {
     "name": "stdout",
     "output_type": "stream",
     "text": [
      "\tIRN,  4th phase (01Jun2020 - 15Jun2020): finished 1845 trials in 1 min  0 sec"
     ]
    },
    {
     "name": "stdout",
     "output_type": "stream",
     "text": [
      "\n"
     ]
    },
    {
     "name": "stdout",
     "output_type": "stream",
     "text": [
      "\tBRA,  3rd phase (27Jun2020 - 08Jul2020): finished 1847 trials in 1 min  0 sec"
     ]
    },
    {
     "name": "stdout",
     "output_type": "stream",
     "text": [
      "\n"
     ]
    },
    {
     "name": "stdout",
     "output_type": "stream",
     "text": [
      "\tUSA,  0th phase (09Feb2020 - 18Apr2020): finished 1797 trials in 1 min  0 sec"
     ]
    },
    {
     "name": "stdout",
     "output_type": "stream",
     "text": [
      "\n"
     ]
    },
    {
     "name": "stdout",
     "output_type": "stream",
     "text": [
      "\tUSA,  9th phase (18Aug2020 - 28Aug2020): finished  234 trials in 0 min  5 sec"
     ]
    },
    {
     "name": "stdout",
     "output_type": "stream",
     "text": [
      "\n"
     ]
    },
    {
     "name": "stdout",
     "output_type": "stream",
     "text": [
      "\tRUS,  4th phase (05Jun2020 - 13Jun2020): finished 1860 trials in 1 min  0 sec"
     ]
    },
    {
     "name": "stdout",
     "output_type": "stream",
     "text": [
      "\n"
     ]
    },
    {
     "name": "stdout",
     "output_type": "stream",
     "text": [
      "\tARE,  3rd phase (25May2020 - 05Jun2020): finished 1866 trials in 1 min  0 sec"
     ]
    },
    {
     "name": "stdout",
     "output_type": "stream",
     "text": [
      "\n"
     ]
    },
    {
     "name": "stdout",
     "output_type": "stream",
     "text": [
      "\tPRT,  1st phase (28Apr2020 - 17May2020): finished 1864 trials in 1 min  0 sec"
     ]
    },
    {
     "name": "stdout",
     "output_type": "stream",
     "text": [
      "\n"
     ]
    },
    {
     "name": "stdout",
     "output_type": "stream",
     "text": [
      "\tFRA,  1st phase (24Mar2020 - 02Apr2020): finished 1874 trials in 1 min  0 sec"
     ]
    },
    {
     "name": "stdout",
     "output_type": "stream",
     "text": [
      "\n"
     ]
    },
    {
     "name": "stdout",
     "output_type": "stream",
     "text": [
      "\tARE, 11th phase (18Sep2020 - 26Sep2020): finished  963 trials in 0 min 25 sec"
     ]
    },
    {
     "name": "stdout",
     "output_type": "stream",
     "text": [
      "\n"
     ]
    },
    {
     "name": "stdout",
     "output_type": "stream",
     "text": [
      "\tARE,  4th phase (06Jun2020 - 19Jun2020): finished  957 trials in 0 min 25 sec"
     ]
    },
    {
     "name": "stdout",
     "output_type": "stream",
     "text": [
      "\n"
     ]
    },
    {
     "name": "stdout",
     "output_type": "stream",
     "text": [
      "\tBHR,  6th phase (15Jul2020 - 26Jul2020): finished  417 trials in 0 min 10 sec"
     ]
    },
    {
     "name": "stdout",
     "output_type": "stream",
     "text": [
      "\n"
     ]
    },
    {
     "name": "stdout",
     "output_type": "stream",
     "text": [
      "\tBHR,  8th phase (10Aug2020 - 22Aug2020): finished  235 trials in 0 min  5 sec"
     ]
    },
    {
     "name": "stdout",
     "output_type": "stream",
     "text": [
      "\n"
     ]
    },
    {
     "name": "stdout",
     "output_type": "stream",
     "text": [
      "\tUSA,  4th phase (25Jun2020 - 07Jul2020): finished 1858 trials in 1 min  0 sec"
     ]
    },
    {
     "name": "stdout",
     "output_type": "stream",
     "text": [
      "\n"
     ]
    },
    {
     "name": "stdout",
     "output_type": "stream",
     "text": [
      "\tFRA, 10th phase (28Aug2020 - 10Sep2020): finished  799 trials in 0 min 20 sec"
     ]
    },
    {
     "name": "stdout",
     "output_type": "stream",
     "text": [
      "\n"
     ]
    },
    {
     "name": "stdout",
     "output_type": "stream",
     "text": [
      "\tBHR,  1st phase (10May2020 - 31May2020): finished 1852 trials in 1 min  0 sec"
     ]
    },
    {
     "name": "stdout",
     "output_type": "stream",
     "text": [
      "\n"
     ]
    },
    {
     "name": "stdout",
     "output_type": "stream",
     "text": [
      "\tIRN,  6th phase (30Jun2020 - 13Jul2020): finished  234 trials in 0 min  5 sec"
     ]
    },
    {
     "name": "stdout",
     "output_type": "stream",
     "text": [
      "\n"
     ]
    },
    {
     "name": "stdout",
     "output_type": "stream",
     "text": [
      "\tARE,  8th phase (16Aug2020 - 01Sep2020): finished  626 trials in 0 min 15 sec"
     ]
    },
    {
     "name": "stdout",
     "output_type": "stream",
     "text": [
      "\n"
     ]
    },
    {
     "name": "stdout",
     "output_type": "stream",
     "text": [
      "\tITA,  7th phase (22May2020 - 13Jun2020): finished  617 trials in 0 min 15 sec"
     ]
    },
    {
     "name": "stdout",
     "output_type": "stream",
     "text": [
      "\n"
     ]
    },
    {
     "name": "stdout",
     "output_type": "stream",
     "text": [
      "\tRUS,  7th phase (05Jul2020 - 17Jul2020): finished 1860 trials in 1 min  0 sec"
     ]
    },
    {
     "name": "stdout",
     "output_type": "stream",
     "text": [
      "\n"
     ]
    },
    {
     "name": "stdout",
     "output_type": "stream",
     "text": [
      "\tIRN,  8th phase (28Jul2020 - 11Aug2020): finished  624 trials in 0 min 15 sec"
     ]
    },
    {
     "name": "stdout",
     "output_type": "stream",
     "text": [
      "\n"
     ]
    },
    {
     "name": "stdout",
     "output_type": "stream",
     "text": [
      "\tIRN,  5th phase (16Jun2020 - 29Jun2020): finished 1865 trials in 1 min  0 sec"
     ]
    },
    {
     "name": "stdout",
     "output_type": "stream",
     "text": [
      "\n"
     ]
    },
    {
     "name": "stdout",
     "output_type": "stream",
     "text": [
      "\tITA, 10th phase (29Aug2020 - 14Sep2020): finished  231 trials in 0 min  5 sec"
     ]
    },
    {
     "name": "stdout",
     "output_type": "stream",
     "text": [
      "\n"
     ]
    },
    {
     "name": "stdout",
     "output_type": "stream",
     "text": [
      "\tBHR,  4th phase (25Jun2020 - 05Jul2020): finished  796 trials in 0 min 20 sec"
     ]
    },
    {
     "name": "stdout",
     "output_type": "stream",
     "text": [
      "\n"
     ]
    },
    {
     "name": "stdout",
     "output_type": "stream",
     "text": [
      "\tFRA,  7th phase (26Jun2020 - 22Jul2020): finished  426 trials in 0 min 10 sec"
     ]
    },
    {
     "name": "stdout",
     "output_type": "stream",
     "text": [
      "\n"
     ]
    },
    {
     "name": "stdout",
     "output_type": "stream",
     "text": [
      "\tITA,  1st phase (21Mar2020 - 28Mar2020): finished 1885 trials in 1 min  0 sec"
     ]
    },
    {
     "name": "stdout",
     "output_type": "stream",
     "text": [
      "\n"
     ]
    },
    {
     "name": "stdout",
     "output_type": "stream",
     "text": [
      "\tITA,  0th phase (24Feb2020 - 20Mar2020): finished 1843 trials in 1 min  0 sec"
     ]
    },
    {
     "name": "stdout",
     "output_type": "stream",
     "text": [
      "\n"
     ]
    },
    {
     "name": "stdout",
     "output_type": "stream",
     "text": [
      "\tPRT,  2nd phase (18May2020 - 01Jun2020): finished 1844 trials in 1 min  0 sec"
     ]
    },
    {
     "name": "stdout",
     "output_type": "stream",
     "text": [
      "\n"
     ]
    },
    {
     "name": "stdout",
     "output_type": "stream",
     "text": [
      "\tARE,  6th phase (04Jul2020 - 20Jul2020): finished 1841 trials in 1 min  0 sec"
     ]
    },
    {
     "name": "stdout",
     "output_type": "stream",
     "text": [
      "\n"
     ]
    },
    {
     "name": "stdout",
     "output_type": "stream",
     "text": [
      "\tBHR,  2nd phase (01Jun2020 - 13Jun2020): finished 1852 trials in 1 min  0 sec"
     ]
    },
    {
     "name": "stdout",
     "output_type": "stream",
     "text": [
      "\n"
     ]
    },
    {
     "name": "stdout",
     "output_type": "stream",
     "text": [
      "\tBRA,  4th phase (09Jul2020 - 20Jul2020): finished  435 trials in 0 min 10 sec"
     ]
    },
    {
     "name": "stdout",
     "output_type": "stream",
     "text": [
      "\n"
     ]
    },
    {
     "name": "stdout",
     "output_type": "stream",
     "text": [
      "\tITA,  8th phase (14Jun2020 - 30Jul2020): finished  598 trials in 0 min 15 sec"
     ]
    },
    {
     "name": "stdout",
     "output_type": "stream",
     "text": [
      "\n"
     ]
    },
    {
     "name": "stdout",
     "output_type": "stream",
     "text": [
      "\tBHR, 10th phase (06Sep2020 - 15Sep2020): finished 1842 trials in 1 min  0 sec"
     ]
    },
    {
     "name": "stdout",
     "output_type": "stream",
     "text": [
      "\n"
     ]
    },
    {
     "name": "stdout",
     "output_type": "stream",
     "text": [
      "\tUSA,  5th phase (08Jul2020 - 17Jul2020): finished  442 trials in 0 min 10 sec"
     ]
    },
    {
     "name": "stdout",
     "output_type": "stream",
     "text": [
      "\n"
     ]
    },
    {
     "name": "stdout",
     "output_type": "stream",
     "text": [
      "\tIRN,  2nd phase (18Apr2020 - 13May2020): finished  243 trials in 0 min  5 sec"
     ]
    },
    {
     "name": "stdout",
     "output_type": "stream",
     "text": [
      "\n"
     ]
    },
    {
     "name": "stdout",
     "output_type": "stream",
     "text": [
      "\tRUS,  3rd phase (27May2020 - 04Jun2020): finished 2010 trials in 1 min  0 sec"
     ]
    },
    {
     "name": "stdout",
     "output_type": "stream",
     "text": [
      "\n"
     ]
    },
    {
     "name": "stdout",
     "output_type": "stream",
     "text": [
      "\tRUS, 10th phase (15Aug2020 - 29Aug2020): finished 2013 trials in 1 min  0 sec"
     ]
    },
    {
     "name": "stdout",
     "output_type": "stream",
     "text": [
      "\n"
     ]
    },
    {
     "name": "stdout",
     "output_type": "stream",
     "text": [
      "\tUSA,  8th phase (07Aug2020 - 17Aug2020): finished 1058 trials in 0 min 25 sec"
     ]
    },
    {
     "name": "stdout",
     "output_type": "stream",
     "text": [
      "\n"
     ]
    },
    {
     "name": "stdout",
     "output_type": "stream",
     "text": [
      "\tUSA,  3rd phase (06Jun2020 - 24Jun2020): finished 2038 trials in 1 min  0 sec"
     ]
    },
    {
     "name": "stdout",
     "output_type": "stream",
     "text": [
      "\n"
     ]
    },
    {
     "name": "stdout",
     "output_type": "stream",
     "text": [
      "\tRUS,  8th phase (18Jul2020 - 31Jul2020): finished 2055 trials in 1 min  0 sec"
     ]
    },
    {
     "name": "stdout",
     "output_type": "stream",
     "text": [
      "\n"
     ]
    },
    {
     "name": "stdout",
     "output_type": "stream",
     "text": [
      "\tPRT,  9th phase (26Aug2020 - 07Sep2020): finished 2055 trials in 1 min  0 sec"
     ]
    },
    {
     "name": "stdout",
     "output_type": "stream",
     "text": [
      "\n"
     ]
    },
    {
     "name": "stdout",
     "output_type": "stream",
     "text": [
      "\tBRA,  2nd phase (14Jun2020 - 26Jun2020): finished 1229 trials in 0 min 30 sec"
     ]
    },
    {
     "name": "stdout",
     "output_type": "stream",
     "text": [
      "\n"
     ]
    },
    {
     "name": "stdout",
     "output_type": "stream",
     "text": [
      "\tBHR, 11th phase (16Sep2020 - 26Sep2020): finished 2123 trials in 1 min  0 sec"
     ]
    },
    {
     "name": "stdout",
     "output_type": "stream",
     "text": [
      "\n"
     ]
    },
    {
     "name": "stdout",
     "output_type": "stream",
     "text": [
      "Completed optimization. Total: 21 min 56 sec"
     ]
    },
    {
     "name": "stdout",
     "output_type": "stream",
     "text": [
      "\n"
     ]
    }
   ],
   "source": [
    "# Parameter estimation with SIR-F model\n",
    "analyser.estimate(cs.SIRF)"
   ]
  },
  {
   "cell_type": "code",
   "execution_count": 12,
   "metadata": {
    "collapsed": false
   },
   "outputs": [
    {
     "data": {
      "text/html": [
       "<div>\n",
       "<style scoped>\n",
       "    .dataframe tbody tr th:only-of-type {\n",
       "        vertical-align: middle;\n",
       "    }\n",
       "\n",
       "    .dataframe tbody tr th {\n",
       "        vertical-align: top;\n",
       "    }\n",
       "\n",
       "    .dataframe thead th {\n",
       "        text-align: right;\n",
       "    }\n",
       "</style>\n",
       "<table border=\"1\" class=\"dataframe\">\n",
       "  <thead>\n",
       "    <tr style=\"text-align: right;\">\n",
       "      <th></th>\n",
       "      <th></th>\n",
       "      <th>Type</th>\n",
       "      <th>Start</th>\n",
       "      <th>End</th>\n",
       "      <th>Population</th>\n",
       "      <th>ODE</th>\n",
       "      <th>Rt</th>\n",
       "      <th>theta</th>\n",
       "      <th>kappa</th>\n",
       "      <th>rho</th>\n",
       "      <th>sigma</th>\n",
       "      <th>tau</th>\n",
       "      <th>1/beta [day]</th>\n",
       "      <th>alpha1 [-]</th>\n",
       "      <th>1/gamma [day]</th>\n",
       "      <th>1/alpha2 [day]</th>\n",
       "      <th>RMSLE</th>\n",
       "      <th>Trials</th>\n",
       "      <th>Runtime</th>\n",
       "    </tr>\n",
       "    <tr>\n",
       "      <th>Country</th>\n",
       "      <th>Phase</th>\n",
       "      <th></th>\n",
       "      <th></th>\n",
       "      <th></th>\n",
       "      <th></th>\n",
       "      <th></th>\n",
       "      <th></th>\n",
       "      <th></th>\n",
       "      <th></th>\n",
       "      <th></th>\n",
       "      <th></th>\n",
       "      <th></th>\n",
       "      <th></th>\n",
       "      <th></th>\n",
       "      <th></th>\n",
       "      <th></th>\n",
       "      <th></th>\n",
       "      <th></th>\n",
       "      <th></th>\n",
       "    </tr>\n",
       "  </thead>\n",
       "  <tbody>\n",
       "    <tr>\n",
       "      <th rowspan=\"13\" valign=\"top\">Russia</th>\n",
       "      <th>0th</th>\n",
       "      <td>Past</td>\n",
       "      <td>12Feb2020</td>\n",
       "      <td>06May2020</td>\n",
       "      <td>330457362</td>\n",
       "      <td>SIR-F</td>\n",
       "      <td>0.02</td>\n",
       "      <td>0.602763</td>\n",
       "      <td>0.544883</td>\n",
       "      <td>0.034081</td>\n",
       "      <td>0.002299</td>\n",
       "      <td>360</td>\n",
       "      <td>7</td>\n",
       "      <td>0.603</td>\n",
       "      <td>108</td>\n",
       "      <td>0</td>\n",
       "      <td>18.966727</td>\n",
       "      <td>1925</td>\n",
       "      <td>1 min  0 sec</td>\n",
       "    </tr>\n",
       "    <tr>\n",
       "      <th>1st</th>\n",
       "      <td>Past</td>\n",
       "      <td>07May2020</td>\n",
       "      <td>16May2020</td>\n",
       "      <td>330457362</td>\n",
       "      <td>SIR-F</td>\n",
       "      <td>2.51</td>\n",
       "      <td>0.000729</td>\n",
       "      <td>0.000120</td>\n",
       "      <td>0.012958</td>\n",
       "      <td>0.005045</td>\n",
       "      <td>360</td>\n",
       "      <td>19</td>\n",
       "      <td>0.001</td>\n",
       "      <td>49</td>\n",
       "      <td>2088</td>\n",
       "      <td>0.074230</td>\n",
       "      <td>1983</td>\n",
       "      <td>1 min  0 sec</td>\n",
       "    </tr>\n",
       "    <tr>\n",
       "      <th>2nd</th>\n",
       "      <td>Past</td>\n",
       "      <td>17May2020</td>\n",
       "      <td>26May2020</td>\n",
       "      <td>330457362</td>\n",
       "      <td>SIR-F</td>\n",
       "      <td>1.56</td>\n",
       "      <td>0.000494</td>\n",
       "      <td>0.000106</td>\n",
       "      <td>0.006988</td>\n",
       "      <td>0.004364</td>\n",
       "      <td>360</td>\n",
       "      <td>35</td>\n",
       "      <td>0.000</td>\n",
       "      <td>57</td>\n",
       "      <td>2365</td>\n",
       "      <td>0.086689</td>\n",
       "      <td>1962</td>\n",
       "      <td>1 min  0 sec</td>\n",
       "    </tr>\n",
       "    <tr>\n",
       "      <th>3rd</th>\n",
       "      <td>Past</td>\n",
       "      <td>27May2020</td>\n",
       "      <td>04Jun2020</td>\n",
       "      <td>330457362</td>\n",
       "      <td>SIR-F</td>\n",
       "      <td>1.03</td>\n",
       "      <td>0.000708</td>\n",
       "      <td>0.000117</td>\n",
       "      <td>0.005479</td>\n",
       "      <td>0.005196</td>\n",
       "      <td>360</td>\n",
       "      <td>45</td>\n",
       "      <td>0.001</td>\n",
       "      <td>48</td>\n",
       "      <td>2144</td>\n",
       "      <td>0.067224</td>\n",
       "      <td>2010</td>\n",
       "      <td>1 min  0 sec</td>\n",
       "    </tr>\n",
       "    <tr>\n",
       "      <th>4th</th>\n",
       "      <td>Past</td>\n",
       "      <td>05Jun2020</td>\n",
       "      <td>13Jun2020</td>\n",
       "      <td>330457362</td>\n",
       "      <td>SIR-F</td>\n",
       "      <td>1.25</td>\n",
       "      <td>0.000825</td>\n",
       "      <td>0.000085</td>\n",
       "      <td>0.004647</td>\n",
       "      <td>0.003623</td>\n",
       "      <td>360</td>\n",
       "      <td>53</td>\n",
       "      <td>0.001</td>\n",
       "      <td>69</td>\n",
       "      <td>2957</td>\n",
       "      <td>0.048345</td>\n",
       "      <td>1860</td>\n",
       "      <td>1 min  0 sec</td>\n",
       "    </tr>\n",
       "    <tr>\n",
       "      <th>5th</th>\n",
       "      <td>Past</td>\n",
       "      <td>14Jun2020</td>\n",
       "      <td>23Jun2020</td>\n",
       "      <td>330457362</td>\n",
       "      <td>SIR-F</td>\n",
       "      <td>0.82</td>\n",
       "      <td>0.000348</td>\n",
       "      <td>0.000079</td>\n",
       "      <td>0.003467</td>\n",
       "      <td>0.004138</td>\n",
       "      <td>360</td>\n",
       "      <td>72</td>\n",
       "      <td>0.000</td>\n",
       "      <td>60</td>\n",
       "      <td>3162</td>\n",
       "      <td>0.063847</td>\n",
       "      <td>1963</td>\n",
       "      <td>1 min  0 sec</td>\n",
       "    </tr>\n",
       "    <tr>\n",
       "      <th>6th</th>\n",
       "      <td>Past</td>\n",
       "      <td>24Jun2020</td>\n",
       "      <td>04Jul2020</td>\n",
       "      <td>330457362</td>\n",
       "      <td>SIR-F</td>\n",
       "      <td>0.94</td>\n",
       "      <td>0.018868</td>\n",
       "      <td>0.000011</td>\n",
       "      <td>0.002568</td>\n",
       "      <td>0.002671</td>\n",
       "      <td>360</td>\n",
       "      <td>97</td>\n",
       "      <td>0.019</td>\n",
       "      <td>93</td>\n",
       "      <td>22612</td>\n",
       "      <td>0.050093</td>\n",
       "      <td>1977</td>\n",
       "      <td>1 min  0 sec</td>\n",
       "    </tr>\n",
       "    <tr>\n",
       "      <th>7th</th>\n",
       "      <td>Past</td>\n",
       "      <td>05Jul2020</td>\n",
       "      <td>17Jul2020</td>\n",
       "      <td>330457362</td>\n",
       "      <td>SIR-F</td>\n",
       "      <td>0.72</td>\n",
       "      <td>0.000085</td>\n",
       "      <td>0.000060</td>\n",
       "      <td>0.002191</td>\n",
       "      <td>0.002979</td>\n",
       "      <td>360</td>\n",
       "      <td>114</td>\n",
       "      <td>0.000</td>\n",
       "      <td>83</td>\n",
       "      <td>4165</td>\n",
       "      <td>0.070243</td>\n",
       "      <td>1860</td>\n",
       "      <td>1 min  0 sec</td>\n",
       "    </tr>\n",
       "    <tr>\n",
       "      <th>8th</th>\n",
       "      <td>Past</td>\n",
       "      <td>18Jul2020</td>\n",
       "      <td>31Jul2020</td>\n",
       "      <td>330457362</td>\n",
       "      <td>SIR-F</td>\n",
       "      <td>0.76</td>\n",
       "      <td>0.016778</td>\n",
       "      <td>0.000010</td>\n",
       "      <td>0.001845</td>\n",
       "      <td>0.002373</td>\n",
       "      <td>360</td>\n",
       "      <td>135</td>\n",
       "      <td>0.017</td>\n",
       "      <td>105</td>\n",
       "      <td>25378</td>\n",
       "      <td>0.060159</td>\n",
       "      <td>2055</td>\n",
       "      <td>1 min  0 sec</td>\n",
       "    </tr>\n",
       "    <tr>\n",
       "      <th>9th</th>\n",
       "      <td>Past</td>\n",
       "      <td>01Aug2020</td>\n",
       "      <td>14Aug2020</td>\n",
       "      <td>330457362</td>\n",
       "      <td>SIR-F</td>\n",
       "      <td>0.76</td>\n",
       "      <td>0.001416</td>\n",
       "      <td>0.000031</td>\n",
       "      <td>0.001468</td>\n",
       "      <td>0.001889</td>\n",
       "      <td>360</td>\n",
       "      <td>170</td>\n",
       "      <td>0.001</td>\n",
       "      <td>132</td>\n",
       "      <td>7999</td>\n",
       "      <td>0.048987</td>\n",
       "      <td>1876</td>\n",
       "      <td>1 min  0 sec</td>\n",
       "    </tr>\n",
       "    <tr>\n",
       "      <th>10th</th>\n",
       "      <td>Past</td>\n",
       "      <td>15Aug2020</td>\n",
       "      <td>29Aug2020</td>\n",
       "      <td>330457362</td>\n",
       "      <td>SIR-F</td>\n",
       "      <td>0.76</td>\n",
       "      <td>0.017979</td>\n",
       "      <td>0.000003</td>\n",
       "      <td>0.001277</td>\n",
       "      <td>0.001655</td>\n",
       "      <td>360</td>\n",
       "      <td>195</td>\n",
       "      <td>0.018</td>\n",
       "      <td>151</td>\n",
       "      <td>83179</td>\n",
       "      <td>0.030889</td>\n",
       "      <td>2013</td>\n",
       "      <td>1 min  0 sec</td>\n",
       "    </tr>\n",
       "    <tr>\n",
       "      <th>11th</th>\n",
       "      <td>Past</td>\n",
       "      <td>30Aug2020</td>\n",
       "      <td>12Sep2020</td>\n",
       "      <td>330457362</td>\n",
       "      <td>SIR-F</td>\n",
       "      <td>0.88</td>\n",
       "      <td>0.017551</td>\n",
       "      <td>0.000011</td>\n",
       "      <td>0.001369</td>\n",
       "      <td>0.001513</td>\n",
       "      <td>360</td>\n",
       "      <td>182</td>\n",
       "      <td>0.018</td>\n",
       "      <td>165</td>\n",
       "      <td>22591</td>\n",
       "      <td>0.011780</td>\n",
       "      <td>1260</td>\n",
       "      <td>0 min 35 sec</td>\n",
       "    </tr>\n",
       "    <tr>\n",
       "      <th>12th</th>\n",
       "      <td>Past</td>\n",
       "      <td>13Sep2020</td>\n",
       "      <td>26Sep2020</td>\n",
       "      <td>330457362</td>\n",
       "      <td>SIR-F</td>\n",
       "      <td>1.09</td>\n",
       "      <td>0.001329</td>\n",
       "      <td>0.000025</td>\n",
       "      <td>0.001587</td>\n",
       "      <td>0.001430</td>\n",
       "      <td>360</td>\n",
       "      <td>157</td>\n",
       "      <td>0.001</td>\n",
       "      <td>174</td>\n",
       "      <td>10006</td>\n",
       "      <td>0.008052</td>\n",
       "      <td>797</td>\n",
       "      <td>0 min 20 sec</td>\n",
       "    </tr>\n",
       "  </tbody>\n",
       "</table>\n",
       "</div>"
      ],
      "text/plain": [
       "               Type      Start        End  Population    ODE    Rt     theta  \\\n",
       "Country Phase                                                                  \n",
       "Russia  0th    Past  12Feb2020  06May2020   330457362  SIR-F  0.02  0.602763   \n",
       "        1st    Past  07May2020  16May2020   330457362  SIR-F  2.51  0.000729   \n",
       "        2nd    Past  17May2020  26May2020   330457362  SIR-F  1.56  0.000494   \n",
       "        3rd    Past  27May2020  04Jun2020   330457362  SIR-F  1.03  0.000708   \n",
       "        4th    Past  05Jun2020  13Jun2020   330457362  SIR-F  1.25  0.000825   \n",
       "        5th    Past  14Jun2020  23Jun2020   330457362  SIR-F  0.82  0.000348   \n",
       "        6th    Past  24Jun2020  04Jul2020   330457362  SIR-F  0.94  0.018868   \n",
       "        7th    Past  05Jul2020  17Jul2020   330457362  SIR-F  0.72  0.000085   \n",
       "        8th    Past  18Jul2020  31Jul2020   330457362  SIR-F  0.76  0.016778   \n",
       "        9th    Past  01Aug2020  14Aug2020   330457362  SIR-F  0.76  0.001416   \n",
       "        10th   Past  15Aug2020  29Aug2020   330457362  SIR-F  0.76  0.017979   \n",
       "        11th   Past  30Aug2020  12Sep2020   330457362  SIR-F  0.88  0.017551   \n",
       "        12th   Past  13Sep2020  26Sep2020   330457362  SIR-F  1.09  0.001329   \n",
       "\n",
       "                  kappa       rho     sigma  tau  1/beta [day]  alpha1 [-]  \\\n",
       "Country Phase                                                                \n",
       "Russia  0th    0.544883  0.034081  0.002299  360             7       0.603   \n",
       "        1st    0.000120  0.012958  0.005045  360            19       0.001   \n",
       "        2nd    0.000106  0.006988  0.004364  360            35       0.000   \n",
       "        3rd    0.000117  0.005479  0.005196  360            45       0.001   \n",
       "        4th    0.000085  0.004647  0.003623  360            53       0.001   \n",
       "        5th    0.000079  0.003467  0.004138  360            72       0.000   \n",
       "        6th    0.000011  0.002568  0.002671  360            97       0.019   \n",
       "        7th    0.000060  0.002191  0.002979  360           114       0.000   \n",
       "        8th    0.000010  0.001845  0.002373  360           135       0.017   \n",
       "        9th    0.000031  0.001468  0.001889  360           170       0.001   \n",
       "        10th   0.000003  0.001277  0.001655  360           195       0.018   \n",
       "        11th   0.000011  0.001369  0.001513  360           182       0.018   \n",
       "        12th   0.000025  0.001587  0.001430  360           157       0.001   \n",
       "\n",
       "               1/gamma [day]  1/alpha2 [day]      RMSLE  Trials       Runtime  \n",
       "Country Phase                                                                  \n",
       "Russia  0th              108               0  18.966727    1925  1 min  0 sec  \n",
       "        1st               49            2088   0.074230    1983  1 min  0 sec  \n",
       "        2nd               57            2365   0.086689    1962  1 min  0 sec  \n",
       "        3rd               48            2144   0.067224    2010  1 min  0 sec  \n",
       "        4th               69            2957   0.048345    1860  1 min  0 sec  \n",
       "        5th               60            3162   0.063847    1963  1 min  0 sec  \n",
       "        6th               93           22612   0.050093    1977  1 min  0 sec  \n",
       "        7th               83            4165   0.070243    1860  1 min  0 sec  \n",
       "        8th              105           25378   0.060159    2055  1 min  0 sec  \n",
       "        9th              132            7999   0.048987    1876  1 min  0 sec  \n",
       "        10th             151           83179   0.030889    2013  1 min  0 sec  \n",
       "        11th             165           22591   0.011780    1260  0 min 35 sec  \n",
       "        12th             174           10006   0.008052     797  0 min 20 sec  "
      ]
     },
     "execution_count": 12,
     "metadata": {},
     "output_type": "execute_result"
    }
   ],
   "source": [
    "# Show summary\n",
    "analyser.summary(countries=countries_show)"
   ]
  },
  {
   "cell_type": "markdown",
   "metadata": {},
   "source": [
    "## Compare the history of parameters\n",
    "Here, compare the history of parameter values if countries."
   ]
  },
  {
   "cell_type": "code",
   "execution_count": 13,
   "metadata": {
    "collapsed": false
   },
   "outputs": [
    {
     "data": {
      "text/html": [
       "<div>\n",
       "<style scoped>\n",
       "    .dataframe tbody tr th:only-of-type {\n",
       "        vertical-align: middle;\n",
       "    }\n",
       "\n",
       "    .dataframe tbody tr th {\n",
       "        vertical-align: top;\n",
       "    }\n",
       "\n",
       "    .dataframe thead th {\n",
       "        text-align: right;\n",
       "    }\n",
       "</style>\n",
       "<table border=\"1\" class=\"dataframe\">\n",
       "  <thead>\n",
       "    <tr style=\"text-align: right;\">\n",
       "      <th></th>\n",
       "      <th>Date</th>\n",
       "      <th>Country</th>\n",
       "      <th>theta</th>\n",
       "      <th>kappa</th>\n",
       "      <th>rho</th>\n",
       "      <th>sigma</th>\n",
       "      <th>alpha1 [-]</th>\n",
       "      <th>1/alpha2 [day]</th>\n",
       "      <th>1/beta [day]</th>\n",
       "      <th>1/gamma [day]</th>\n",
       "      <th>...</th>\n",
       "      <th>Cancel_events</th>\n",
       "      <th>Gatherings_restrictions</th>\n",
       "      <th>Transport_closing</th>\n",
       "      <th>Stay_home_restrictions</th>\n",
       "      <th>Internal_movement_restrictions</th>\n",
       "      <th>International_movement_restrictions</th>\n",
       "      <th>Information_campaigns</th>\n",
       "      <th>Testing_policy</th>\n",
       "      <th>Contact_tracing</th>\n",
       "      <th>Stringency_index</th>\n",
       "    </tr>\n",
       "  </thead>\n",
       "  <tbody>\n",
       "    <tr>\n",
       "      <th>0</th>\n",
       "      <td>2020-02-12</td>\n",
       "      <td>Russia</td>\n",
       "      <td>0.602763</td>\n",
       "      <td>0.544883</td>\n",
       "      <td>0.0340813</td>\n",
       "      <td>0.00229851</td>\n",
       "      <td>0.603</td>\n",
       "      <td>0</td>\n",
       "      <td>7</td>\n",
       "      <td>108</td>\n",
       "      <td>...</td>\n",
       "      <td>0</td>\n",
       "      <td>0</td>\n",
       "      <td>0</td>\n",
       "      <td>0</td>\n",
       "      <td>0</td>\n",
       "      <td>3</td>\n",
       "      <td>0</td>\n",
       "      <td>1</td>\n",
       "      <td>0</td>\n",
       "      <td>8.33</td>\n",
       "    </tr>\n",
       "    <tr>\n",
       "      <th>1</th>\n",
       "      <td>2020-02-12</td>\n",
       "      <td>Russia</td>\n",
       "      <td>0.602763</td>\n",
       "      <td>0.544883</td>\n",
       "      <td>0.0340813</td>\n",
       "      <td>0.00229851</td>\n",
       "      <td>0.603</td>\n",
       "      <td>0</td>\n",
       "      <td>7</td>\n",
       "      <td>108</td>\n",
       "      <td>...</td>\n",
       "      <td>0</td>\n",
       "      <td>0</td>\n",
       "      <td>0</td>\n",
       "      <td>0</td>\n",
       "      <td>0</td>\n",
       "      <td>3</td>\n",
       "      <td>0</td>\n",
       "      <td>1</td>\n",
       "      <td>0</td>\n",
       "      <td>8.33</td>\n",
       "    </tr>\n",
       "    <tr>\n",
       "      <th>2</th>\n",
       "      <td>2020-02-12</td>\n",
       "      <td>Russia</td>\n",
       "      <td>0.602763</td>\n",
       "      <td>0.544883</td>\n",
       "      <td>0.0340813</td>\n",
       "      <td>0.00229851</td>\n",
       "      <td>0.603</td>\n",
       "      <td>0</td>\n",
       "      <td>7</td>\n",
       "      <td>108</td>\n",
       "      <td>...</td>\n",
       "      <td>0</td>\n",
       "      <td>0</td>\n",
       "      <td>0</td>\n",
       "      <td>0</td>\n",
       "      <td>0</td>\n",
       "      <td>3</td>\n",
       "      <td>0</td>\n",
       "      <td>1</td>\n",
       "      <td>0</td>\n",
       "      <td>8.33</td>\n",
       "    </tr>\n",
       "    <tr>\n",
       "      <th>3</th>\n",
       "      <td>2020-02-12</td>\n",
       "      <td>Russia</td>\n",
       "      <td>0.602763</td>\n",
       "      <td>0.544883</td>\n",
       "      <td>0.0340813</td>\n",
       "      <td>0.00229851</td>\n",
       "      <td>0.603</td>\n",
       "      <td>0</td>\n",
       "      <td>7</td>\n",
       "      <td>108</td>\n",
       "      <td>...</td>\n",
       "      <td>0</td>\n",
       "      <td>0</td>\n",
       "      <td>0</td>\n",
       "      <td>0</td>\n",
       "      <td>0</td>\n",
       "      <td>3</td>\n",
       "      <td>0</td>\n",
       "      <td>1</td>\n",
       "      <td>0</td>\n",
       "      <td>8.33</td>\n",
       "    </tr>\n",
       "    <tr>\n",
       "      <th>4</th>\n",
       "      <td>2020-02-12</td>\n",
       "      <td>Russia</td>\n",
       "      <td>0.602763</td>\n",
       "      <td>0.544883</td>\n",
       "      <td>0.0340813</td>\n",
       "      <td>0.00229851</td>\n",
       "      <td>0.603</td>\n",
       "      <td>0</td>\n",
       "      <td>7</td>\n",
       "      <td>108</td>\n",
       "      <td>...</td>\n",
       "      <td>0</td>\n",
       "      <td>0</td>\n",
       "      <td>0</td>\n",
       "      <td>0</td>\n",
       "      <td>0</td>\n",
       "      <td>3</td>\n",
       "      <td>0</td>\n",
       "      <td>1</td>\n",
       "      <td>0</td>\n",
       "      <td>8.33</td>\n",
       "    </tr>\n",
       "  </tbody>\n",
       "</table>\n",
       "<p>5 rows × 23 columns</p>\n",
       "</div>"
      ],
      "text/plain": [
       "        Date Country     theta     kappa        rho       sigma alpha1 [-]  \\\n",
       "0 2020-02-12  Russia  0.602763  0.544883  0.0340813  0.00229851      0.603   \n",
       "1 2020-02-12  Russia  0.602763  0.544883  0.0340813  0.00229851      0.603   \n",
       "2 2020-02-12  Russia  0.602763  0.544883  0.0340813  0.00229851      0.603   \n",
       "3 2020-02-12  Russia  0.602763  0.544883  0.0340813  0.00229851      0.603   \n",
       "4 2020-02-12  Russia  0.602763  0.544883  0.0340813  0.00229851      0.603   \n",
       "\n",
       "  1/alpha2 [day] 1/beta [day] 1/gamma [day]  ... Cancel_events  \\\n",
       "0              0            7           108  ...             0   \n",
       "1              0            7           108  ...             0   \n",
       "2              0            7           108  ...             0   \n",
       "3              0            7           108  ...             0   \n",
       "4              0            7           108  ...             0   \n",
       "\n",
       "   Gatherings_restrictions  Transport_closing  Stay_home_restrictions  \\\n",
       "0                        0                  0                       0   \n",
       "1                        0                  0                       0   \n",
       "2                        0                  0                       0   \n",
       "3                        0                  0                       0   \n",
       "4                        0                  0                       0   \n",
       "\n",
       "   Internal_movement_restrictions  International_movement_restrictions  \\\n",
       "0                               0                                    3   \n",
       "1                               0                                    3   \n",
       "2                               0                                    3   \n",
       "3                               0                                    3   \n",
       "4                               0                                    3   \n",
       "\n",
       "   Information_campaigns  Testing_policy  Contact_tracing  Stringency_index  \n",
       "0                      0               1                0              8.33  \n",
       "1                      0               1                0              8.33  \n",
       "2                      0               1                0              8.33  \n",
       "3                      0               1                0              8.33  \n",
       "4                      0               1                0              8.33  \n",
       "\n",
       "[5 rows x 23 columns]"
      ]
     },
     "execution_count": 13,
     "metadata": {},
     "output_type": "execute_result"
    }
   ],
   "source": [
    "# All parameter/day parameter/Rt/OxCGRT\n",
    "analyser.track().head()"
   ]
  },
  {
   "cell_type": "markdown",
   "metadata": {},
   "source": [
    "### $Rt$: Reprodcution number $\\mathrm{[-]}$"
   ]
  },
  {
   "cell_type": "code",
   "execution_count": 14,
   "metadata": {
    "collapsed": false
   },
   "outputs": [
    {
     "data": {
      "image/png": "[encoded data removed]",
      "text/plain": [
       "<Figure size 648x432 with 1 Axes>"
      ]
     },
     "metadata": {},
     "output_type": "display_data"
    },
    {
     "data": {
      "text/html": [
       "<div>\n",
       "<style scoped>\n",
       "    .dataframe tbody tr th:only-of-type {\n",
       "        vertical-align: middle;\n",
       "    }\n",
       "\n",
       "    .dataframe tbody tr th {\n",
       "        vertical-align: top;\n",
       "    }\n",
       "\n",
       "    .dataframe thead th {\n",
       "        text-align: right;\n",
       "    }\n",
       "</style>\n",
       "<table border=\"1\" class=\"dataframe\">\n",
       "  <thead>\n",
       "    <tr style=\"text-align: right;\">\n",
       "      <th>Country</th>\n",
       "      <th>Bahrain</th>\n",
       "      <th>Brazil</th>\n",
       "      <th>France</th>\n",
       "      <th>Iran</th>\n",
       "      <th>Italy</th>\n",
       "      <th>Portugal</th>\n",
       "      <th>Russia</th>\n",
       "      <th>United Arab Emirates</th>\n",
       "      <th>United States</th>\n",
       "    </tr>\n",
       "    <tr>\n",
       "      <th>Date</th>\n",
       "      <th></th>\n",
       "      <th></th>\n",
       "      <th></th>\n",
       "      <th></th>\n",
       "      <th></th>\n",
       "      <th></th>\n",
       "      <th></th>\n",
       "      <th></th>\n",
       "      <th></th>\n",
       "    </tr>\n",
       "  </thead>\n",
       "  <tbody>\n",
       "    <tr>\n",
       "      <th>2020-09-22</th>\n",
       "      <td>1.02</td>\n",
       "      <td>0.96</td>\n",
       "      <td>22.67</td>\n",
       "      <td>1.06</td>\n",
       "      <td>1.86</td>\n",
       "      <td>2.55</td>\n",
       "      <td>1.09</td>\n",
       "      <td>0.99</td>\n",
       "      <td>2.3</td>\n",
       "    </tr>\n",
       "    <tr>\n",
       "      <th>2020-09-23</th>\n",
       "      <td>1.02</td>\n",
       "      <td>0.96</td>\n",
       "      <td>22.67</td>\n",
       "      <td>1.06</td>\n",
       "      <td>1.86</td>\n",
       "      <td>2.55</td>\n",
       "      <td>1.09</td>\n",
       "      <td>0.99</td>\n",
       "      <td>2.3</td>\n",
       "    </tr>\n",
       "    <tr>\n",
       "      <th>2020-09-24</th>\n",
       "      <td>1.02</td>\n",
       "      <td>0.96</td>\n",
       "      <td>22.67</td>\n",
       "      <td>1.06</td>\n",
       "      <td>1.86</td>\n",
       "      <td>2.55</td>\n",
       "      <td>1.09</td>\n",
       "      <td>0.99</td>\n",
       "      <td>2.3</td>\n",
       "    </tr>\n",
       "    <tr>\n",
       "      <th>2020-09-25</th>\n",
       "      <td>1.02</td>\n",
       "      <td>0.96</td>\n",
       "      <td>22.67</td>\n",
       "      <td>1.06</td>\n",
       "      <td>1.86</td>\n",
       "      <td>2.55</td>\n",
       "      <td>1.09</td>\n",
       "      <td>0.99</td>\n",
       "      <td>2.3</td>\n",
       "    </tr>\n",
       "    <tr>\n",
       "      <th>2020-09-26</th>\n",
       "      <td>1.02</td>\n",
       "      <td>0.96</td>\n",
       "      <td>22.67</td>\n",
       "      <td>1.06</td>\n",
       "      <td>1.86</td>\n",
       "      <td>2.55</td>\n",
       "      <td>1.09</td>\n",
       "      <td>0.99</td>\n",
       "      <td>2.3</td>\n",
       "    </tr>\n",
       "  </tbody>\n",
       "</table>\n",
       "</div>"
      ],
      "text/plain": [
       "Country     Bahrain  Brazil  France  Iran  Italy  Portugal  Russia  \\\n",
       "Date                                                                 \n",
       "2020-09-22     1.02    0.96   22.67  1.06   1.86      2.55    1.09   \n",
       "2020-09-23     1.02    0.96   22.67  1.06   1.86      2.55    1.09   \n",
       "2020-09-24     1.02    0.96   22.67  1.06   1.86      2.55    1.09   \n",
       "2020-09-25     1.02    0.96   22.67  1.06   1.86      2.55    1.09   \n",
       "2020-09-26     1.02    0.96   22.67  1.06   1.86      2.55    1.09   \n",
       "\n",
       "Country     United Arab Emirates  United States  \n",
       "Date                                             \n",
       "2020-09-22                  0.99            2.3  \n",
       "2020-09-23                  0.99            2.3  \n",
       "2020-09-24                  0.99            2.3  \n",
       "2020-09-25                  0.99            2.3  \n",
       "2020-09-26                  0.99            2.3  "
      ]
     },
     "execution_count": 14,
     "metadata": {},
     "output_type": "execute_result"
    }
   ],
   "source": [
    "analyser.param_history(\"Rt\", roll_window=None).tail()"
   ]
  },
  {
   "cell_type": "markdown",
   "metadata": {},
   "source": [
    "### $\\rho$: Effective contact rate $\\mathrm{[-]}$"
   ]
  },
  {
   "cell_type": "code",
   "execution_count": 15,
   "metadata": {
    "collapsed": false
   },
   "outputs": [
    {
     "data": {
      "image/png": "[encoded data removed]",
      "text/plain": [
       "<Figure size 648x432 with 1 Axes>"
      ]
     },
     "metadata": {},
     "output_type": "display_data"
    },
    {
     "data": {
      "text/html": [
       "<div>\n",
       "<style scoped>\n",
       "    .dataframe tbody tr th:only-of-type {\n",
       "        vertical-align: middle;\n",
       "    }\n",
       "\n",
       "    .dataframe tbody tr th {\n",
       "        vertical-align: top;\n",
       "    }\n",
       "\n",
       "    .dataframe thead th {\n",
       "        text-align: right;\n",
       "    }\n",
       "</style>\n",
       "<table border=\"1\" class=\"dataframe\">\n",
       "  <thead>\n",
       "    <tr style=\"text-align: right;\">\n",
       "      <th>Country</th>\n",
       "      <th>Bahrain</th>\n",
       "      <th>Brazil</th>\n",
       "      <th>France</th>\n",
       "      <th>Iran</th>\n",
       "      <th>Italy</th>\n",
       "      <th>Portugal</th>\n",
       "      <th>Russia</th>\n",
       "      <th>United Arab Emirates</th>\n",
       "      <th>United States</th>\n",
       "    </tr>\n",
       "    <tr>\n",
       "      <th>Date</th>\n",
       "      <th></th>\n",
       "      <th></th>\n",
       "      <th></th>\n",
       "      <th></th>\n",
       "      <th></th>\n",
       "      <th></th>\n",
       "      <th></th>\n",
       "      <th></th>\n",
       "      <th></th>\n",
       "    </tr>\n",
       "  </thead>\n",
       "  <tbody>\n",
       "    <tr>\n",
       "      <th>2020-09-22</th>\n",
       "      <td>0.024446</td>\n",
       "      <td>0.016948</td>\n",
       "      <td>0.008879</td>\n",
       "      <td>0.016246</td>\n",
       "      <td>0.009068</td>\n",
       "      <td>0.002058</td>\n",
       "      <td>0.001587</td>\n",
       "      <td>0.01933</td>\n",
       "      <td>0.002689</td>\n",
       "    </tr>\n",
       "    <tr>\n",
       "      <th>2020-09-23</th>\n",
       "      <td>0.024446</td>\n",
       "      <td>0.016948</td>\n",
       "      <td>0.008879</td>\n",
       "      <td>0.016246</td>\n",
       "      <td>0.009068</td>\n",
       "      <td>0.002058</td>\n",
       "      <td>0.001587</td>\n",
       "      <td>0.01933</td>\n",
       "      <td>0.002689</td>\n",
       "    </tr>\n",
       "    <tr>\n",
       "      <th>2020-09-24</th>\n",
       "      <td>0.024446</td>\n",
       "      <td>0.016948</td>\n",
       "      <td>0.008879</td>\n",
       "      <td>0.016246</td>\n",
       "      <td>0.009068</td>\n",
       "      <td>0.002058</td>\n",
       "      <td>0.001587</td>\n",
       "      <td>0.01933</td>\n",
       "      <td>0.002689</td>\n",
       "    </tr>\n",
       "    <tr>\n",
       "      <th>2020-09-25</th>\n",
       "      <td>0.024446</td>\n",
       "      <td>0.016948</td>\n",
       "      <td>0.008879</td>\n",
       "      <td>0.016246</td>\n",
       "      <td>0.009068</td>\n",
       "      <td>0.002058</td>\n",
       "      <td>0.001587</td>\n",
       "      <td>0.01933</td>\n",
       "      <td>0.002689</td>\n",
       "    </tr>\n",
       "    <tr>\n",
       "      <th>2020-09-26</th>\n",
       "      <td>0.024446</td>\n",
       "      <td>0.016948</td>\n",
       "      <td>0.008879</td>\n",
       "      <td>0.016246</td>\n",
       "      <td>0.009068</td>\n",
       "      <td>0.002058</td>\n",
       "      <td>0.001587</td>\n",
       "      <td>0.01933</td>\n",
       "      <td>0.002689</td>\n",
       "    </tr>\n",
       "  </tbody>\n",
       "</table>\n",
       "</div>"
      ],
      "text/plain": [
       "Country      Bahrain    Brazil    France      Iran     Italy  Portugal  \\\n",
       "Date                                                                     \n",
       "2020-09-22  0.024446  0.016948  0.008879  0.016246  0.009068  0.002058   \n",
       "2020-09-23  0.024446  0.016948  0.008879  0.016246  0.009068  0.002058   \n",
       "2020-09-24  0.024446  0.016948  0.008879  0.016246  0.009068  0.002058   \n",
       "2020-09-25  0.024446  0.016948  0.008879  0.016246  0.009068  0.002058   \n",
       "2020-09-26  0.024446  0.016948  0.008879  0.016246  0.009068  0.002058   \n",
       "\n",
       "Country       Russia  United Arab Emirates  United States  \n",
       "Date                                                       \n",
       "2020-09-22  0.001587               0.01933       0.002689  \n",
       "2020-09-23  0.001587               0.01933       0.002689  \n",
       "2020-09-24  0.001587               0.01933       0.002689  \n",
       "2020-09-25  0.001587               0.01933       0.002689  \n",
       "2020-09-26  0.001587               0.01933       0.002689  "
      ]
     },
     "execution_count": 15,
     "metadata": {},
     "output_type": "execute_result"
    }
   ],
   "source": [
    "analyser.param_history(\"rho\", roll_window=None).tail()"
   ]
  },
  {
   "cell_type": "markdown",
   "metadata": {},
   "source": [
    "### $\\sigma$: Recovery rate $\\mathrm{[-]}$"
   ]
  },
  {
   "cell_type": "code",
   "execution_count": 16,
   "metadata": {
    "collapsed": false
   },
   "outputs": [
    {
     "data": {
      "image/png": "[encoded data removed]",
      "text/plain": [
       "<Figure size 648x432 with 1 Axes>"
      ]
     },
     "metadata": {},
     "output_type": "display_data"
    },
    {
     "data": {
      "text/html": [
       "<div>\n",
       "<style scoped>\n",
       "    .dataframe tbody tr th:only-of-type {\n",
       "        vertical-align: middle;\n",
       "    }\n",
       "\n",
       "    .dataframe tbody tr th {\n",
       "        vertical-align: top;\n",
       "    }\n",
       "\n",
       "    .dataframe thead th {\n",
       "        text-align: right;\n",
       "    }\n",
       "</style>\n",
       "<table border=\"1\" class=\"dataframe\">\n",
       "  <thead>\n",
       "    <tr style=\"text-align: right;\">\n",
       "      <th>Country</th>\n",
       "      <th>Bahrain</th>\n",
       "      <th>Brazil</th>\n",
       "      <th>France</th>\n",
       "      <th>Iran</th>\n",
       "      <th>Italy</th>\n",
       "      <th>Portugal</th>\n",
       "      <th>Russia</th>\n",
       "      <th>United Arab Emirates</th>\n",
       "      <th>United States</th>\n",
       "    </tr>\n",
       "    <tr>\n",
       "      <th>Date</th>\n",
       "      <th></th>\n",
       "      <th></th>\n",
       "      <th></th>\n",
       "      <th></th>\n",
       "      <th></th>\n",
       "      <th></th>\n",
       "      <th></th>\n",
       "      <th></th>\n",
       "      <th></th>\n",
       "    </tr>\n",
       "  </thead>\n",
       "  <tbody>\n",
       "    <tr>\n",
       "      <th>2020-09-22</th>\n",
       "      <td>0.023894</td>\n",
       "      <td>0.017241</td>\n",
       "      <td>0.000351</td>\n",
       "      <td>0.01444</td>\n",
       "      <td>0.004801</td>\n",
       "      <td>0.000794</td>\n",
       "      <td>0.00143</td>\n",
       "      <td>0.019462</td>\n",
       "      <td>0.001147</td>\n",
       "    </tr>\n",
       "    <tr>\n",
       "      <th>2020-09-23</th>\n",
       "      <td>0.023894</td>\n",
       "      <td>0.017241</td>\n",
       "      <td>0.000351</td>\n",
       "      <td>0.01444</td>\n",
       "      <td>0.004801</td>\n",
       "      <td>0.000794</td>\n",
       "      <td>0.00143</td>\n",
       "      <td>0.019462</td>\n",
       "      <td>0.001147</td>\n",
       "    </tr>\n",
       "    <tr>\n",
       "      <th>2020-09-24</th>\n",
       "      <td>0.023894</td>\n",
       "      <td>0.017241</td>\n",
       "      <td>0.000351</td>\n",
       "      <td>0.01444</td>\n",
       "      <td>0.004801</td>\n",
       "      <td>0.000794</td>\n",
       "      <td>0.00143</td>\n",
       "      <td>0.019462</td>\n",
       "      <td>0.001147</td>\n",
       "    </tr>\n",
       "    <tr>\n",
       "      <th>2020-09-25</th>\n",
       "      <td>0.023894</td>\n",
       "      <td>0.017241</td>\n",
       "      <td>0.000351</td>\n",
       "      <td>0.01444</td>\n",
       "      <td>0.004801</td>\n",
       "      <td>0.000794</td>\n",
       "      <td>0.00143</td>\n",
       "      <td>0.019462</td>\n",
       "      <td>0.001147</td>\n",
       "    </tr>\n",
       "    <tr>\n",
       "      <th>2020-09-26</th>\n",
       "      <td>0.023894</td>\n",
       "      <td>0.017241</td>\n",
       "      <td>0.000351</td>\n",
       "      <td>0.01444</td>\n",
       "      <td>0.004801</td>\n",
       "      <td>0.000794</td>\n",
       "      <td>0.00143</td>\n",
       "      <td>0.019462</td>\n",
       "      <td>0.001147</td>\n",
       "    </tr>\n",
       "  </tbody>\n",
       "</table>\n",
       "</div>"
      ],
      "text/plain": [
       "Country      Bahrain    Brazil    France     Iran     Italy  Portugal  \\\n",
       "Date                                                                    \n",
       "2020-09-22  0.023894  0.017241  0.000351  0.01444  0.004801  0.000794   \n",
       "2020-09-23  0.023894  0.017241  0.000351  0.01444  0.004801  0.000794   \n",
       "2020-09-24  0.023894  0.017241  0.000351  0.01444  0.004801  0.000794   \n",
       "2020-09-25  0.023894  0.017241  0.000351  0.01444  0.004801  0.000794   \n",
       "2020-09-26  0.023894  0.017241  0.000351  0.01444  0.004801  0.000794   \n",
       "\n",
       "Country      Russia  United Arab Emirates  United States  \n",
       "Date                                                      \n",
       "2020-09-22  0.00143              0.019462       0.001147  \n",
       "2020-09-23  0.00143              0.019462       0.001147  \n",
       "2020-09-24  0.00143              0.019462       0.001147  \n",
       "2020-09-25  0.00143              0.019462       0.001147  \n",
       "2020-09-26  0.00143              0.019462       0.001147  "
      ]
     },
     "execution_count": 16,
     "metadata": {},
     "output_type": "execute_result"
    }
   ],
   "source": [
    "analyser.param_history(\"sigma\", roll_window=None).tail()"
   ]
  },
  {
   "cell_type": "markdown",
   "metadata": {},
   "source": [
    "### $\\kappa$: Mortality rate of infected cases $\\mathrm{[-]}$"
   ]
  },
  {
   "cell_type": "code",
   "execution_count": 17,
   "metadata": {
    "collapsed": false
   },
   "outputs": [
    {
     "data": {
      "image/png": "[encoded data removed]",
      "text/plain": [
       "<Figure size 648x432 with 1 Axes>"
      ]
     },
     "metadata": {},
     "output_type": "display_data"
    },
    {
     "data": {
      "text/html": [
       "<div>\n",
       "<style scoped>\n",
       "    .dataframe tbody tr th:only-of-type {\n",
       "        vertical-align: middle;\n",
       "    }\n",
       "\n",
       "    .dataframe tbody tr th {\n",
       "        vertical-align: top;\n",
       "    }\n",
       "\n",
       "    .dataframe thead th {\n",
       "        text-align: right;\n",
       "    }\n",
       "</style>\n",
       "<table border=\"1\" class=\"dataframe\">\n",
       "  <thead>\n",
       "    <tr style=\"text-align: right;\">\n",
       "      <th>Country</th>\n",
       "      <th>Bahrain</th>\n",
       "      <th>Brazil</th>\n",
       "      <th>France</th>\n",
       "      <th>Iran</th>\n",
       "      <th>Italy</th>\n",
       "      <th>Portugal</th>\n",
       "      <th>Russia</th>\n",
       "      <th>United Arab Emirates</th>\n",
       "      <th>United States</th>\n",
       "    </tr>\n",
       "    <tr>\n",
       "      <th>Date</th>\n",
       "      <th></th>\n",
       "      <th></th>\n",
       "      <th></th>\n",
       "      <th></th>\n",
       "      <th></th>\n",
       "      <th></th>\n",
       "      <th></th>\n",
       "      <th></th>\n",
       "      <th></th>\n",
       "    </tr>\n",
       "  </thead>\n",
       "  <tbody>\n",
       "    <tr>\n",
       "      <th>2020-09-22</th>\n",
       "      <td>0.000064</td>\n",
       "      <td>0.000141</td>\n",
       "      <td>0.000041</td>\n",
       "      <td>0.000636</td>\n",
       "      <td>0.000079</td>\n",
       "      <td>0.00001</td>\n",
       "      <td>0.000025</td>\n",
       "      <td>0.000021</td>\n",
       "      <td>0.000002</td>\n",
       "    </tr>\n",
       "    <tr>\n",
       "      <th>2020-09-23</th>\n",
       "      <td>0.000064</td>\n",
       "      <td>0.000141</td>\n",
       "      <td>0.000041</td>\n",
       "      <td>0.000636</td>\n",
       "      <td>0.000079</td>\n",
       "      <td>0.00001</td>\n",
       "      <td>0.000025</td>\n",
       "      <td>0.000021</td>\n",
       "      <td>0.000002</td>\n",
       "    </tr>\n",
       "    <tr>\n",
       "      <th>2020-09-24</th>\n",
       "      <td>0.000064</td>\n",
       "      <td>0.000141</td>\n",
       "      <td>0.000041</td>\n",
       "      <td>0.000636</td>\n",
       "      <td>0.000079</td>\n",
       "      <td>0.00001</td>\n",
       "      <td>0.000025</td>\n",
       "      <td>0.000021</td>\n",
       "      <td>0.000002</td>\n",
       "    </tr>\n",
       "    <tr>\n",
       "      <th>2020-09-25</th>\n",
       "      <td>0.000064</td>\n",
       "      <td>0.000141</td>\n",
       "      <td>0.000041</td>\n",
       "      <td>0.000636</td>\n",
       "      <td>0.000079</td>\n",
       "      <td>0.00001</td>\n",
       "      <td>0.000025</td>\n",
       "      <td>0.000021</td>\n",
       "      <td>0.000002</td>\n",
       "    </tr>\n",
       "    <tr>\n",
       "      <th>2020-09-26</th>\n",
       "      <td>0.000064</td>\n",
       "      <td>0.000141</td>\n",
       "      <td>0.000041</td>\n",
       "      <td>0.000636</td>\n",
       "      <td>0.000079</td>\n",
       "      <td>0.00001</td>\n",
       "      <td>0.000025</td>\n",
       "      <td>0.000021</td>\n",
       "      <td>0.000002</td>\n",
       "    </tr>\n",
       "  </tbody>\n",
       "</table>\n",
       "</div>"
      ],
      "text/plain": [
       "Country      Bahrain    Brazil    France      Iran     Italy  Portugal  \\\n",
       "Date                                                                     \n",
       "2020-09-22  0.000064  0.000141  0.000041  0.000636  0.000079   0.00001   \n",
       "2020-09-23  0.000064  0.000141  0.000041  0.000636  0.000079   0.00001   \n",
       "2020-09-24  0.000064  0.000141  0.000041  0.000636  0.000079   0.00001   \n",
       "2020-09-25  0.000064  0.000141  0.000041  0.000636  0.000079   0.00001   \n",
       "2020-09-26  0.000064  0.000141  0.000041  0.000636  0.000079   0.00001   \n",
       "\n",
       "Country       Russia  United Arab Emirates  United States  \n",
       "Date                                                       \n",
       "2020-09-22  0.000025              0.000021       0.000002  \n",
       "2020-09-23  0.000025              0.000021       0.000002  \n",
       "2020-09-24  0.000025              0.000021       0.000002  \n",
       "2020-09-25  0.000025              0.000021       0.000002  \n",
       "2020-09-26  0.000025              0.000021       0.000002  "
      ]
     },
     "execution_count": 17,
     "metadata": {},
     "output_type": "execute_result"
    }
   ],
   "source": [
    "analyser.param_history(\"kappa\", roll_window=None).tail()"
   ]
  },
  {
   "cell_type": "markdown",
   "metadata": {},
   "source": [
    "### $\\theta$: Mortality rate of S$^\\ast$ cases $\\mathrm{[-]}$"
   ]
  },
  {
   "cell_type": "code",
   "execution_count": 18,
   "metadata": {
    "collapsed": false
   },
   "outputs": [
    {
     "data": {
      "image/png": "[encoded data removed]",
      "text/plain": [
       "<Figure size 648x432 with 1 Axes>"
      ]
     },
     "metadata": {},
     "output_type": "display_data"
    },
    {
     "data": {
      "text/html": [
       "<div>\n",
       "<style scoped>\n",
       "    .dataframe tbody tr th:only-of-type {\n",
       "        vertical-align: middle;\n",
       "    }\n",
       "\n",
       "    .dataframe tbody tr th {\n",
       "        vertical-align: top;\n",
       "    }\n",
       "\n",
       "    .dataframe thead th {\n",
       "        text-align: right;\n",
       "    }\n",
       "</style>\n",
       "<table border=\"1\" class=\"dataframe\">\n",
       "  <thead>\n",
       "    <tr style=\"text-align: right;\">\n",
       "      <th>Country</th>\n",
       "      <th>Bahrain</th>\n",
       "      <th>Brazil</th>\n",
       "      <th>France</th>\n",
       "      <th>Iran</th>\n",
       "      <th>Italy</th>\n",
       "      <th>Portugal</th>\n",
       "      <th>Russia</th>\n",
       "      <th>United Arab Emirates</th>\n",
       "      <th>United States</th>\n",
       "    </tr>\n",
       "    <tr>\n",
       "      <th>Date</th>\n",
       "      <th></th>\n",
       "      <th></th>\n",
       "      <th></th>\n",
       "      <th></th>\n",
       "      <th></th>\n",
       "      <th></th>\n",
       "      <th></th>\n",
       "      <th></th>\n",
       "      <th></th>\n",
       "    </tr>\n",
       "  </thead>\n",
       "  <tbody>\n",
       "    <tr>\n",
       "      <th>2020-09-22</th>\n",
       "      <td>0.00022</td>\n",
       "      <td>0.019868</td>\n",
       "      <td>0.000019</td>\n",
       "      <td>0.019502</td>\n",
       "      <td>0.001204</td>\n",
       "      <td>0.002199</td>\n",
       "      <td>0.001329</td>\n",
       "      <td>0.000679</td>\n",
       "      <td>0.017601</td>\n",
       "    </tr>\n",
       "    <tr>\n",
       "      <th>2020-09-23</th>\n",
       "      <td>0.00022</td>\n",
       "      <td>0.019868</td>\n",
       "      <td>0.000019</td>\n",
       "      <td>0.019502</td>\n",
       "      <td>0.001204</td>\n",
       "      <td>0.002199</td>\n",
       "      <td>0.001329</td>\n",
       "      <td>0.000679</td>\n",
       "      <td>0.017601</td>\n",
       "    </tr>\n",
       "    <tr>\n",
       "      <th>2020-09-24</th>\n",
       "      <td>0.00022</td>\n",
       "      <td>0.019868</td>\n",
       "      <td>0.000019</td>\n",
       "      <td>0.019502</td>\n",
       "      <td>0.001204</td>\n",
       "      <td>0.002199</td>\n",
       "      <td>0.001329</td>\n",
       "      <td>0.000679</td>\n",
       "      <td>0.017601</td>\n",
       "    </tr>\n",
       "    <tr>\n",
       "      <th>2020-09-25</th>\n",
       "      <td>0.00022</td>\n",
       "      <td>0.019868</td>\n",
       "      <td>0.000019</td>\n",
       "      <td>0.019502</td>\n",
       "      <td>0.001204</td>\n",
       "      <td>0.002199</td>\n",
       "      <td>0.001329</td>\n",
       "      <td>0.000679</td>\n",
       "      <td>0.017601</td>\n",
       "    </tr>\n",
       "    <tr>\n",
       "      <th>2020-09-26</th>\n",
       "      <td>0.00022</td>\n",
       "      <td>0.019868</td>\n",
       "      <td>0.000019</td>\n",
       "      <td>0.019502</td>\n",
       "      <td>0.001204</td>\n",
       "      <td>0.002199</td>\n",
       "      <td>0.001329</td>\n",
       "      <td>0.000679</td>\n",
       "      <td>0.017601</td>\n",
       "    </tr>\n",
       "  </tbody>\n",
       "</table>\n",
       "</div>"
      ],
      "text/plain": [
       "Country     Bahrain    Brazil    France      Iran     Italy  Portugal  \\\n",
       "Date                                                                    \n",
       "2020-09-22  0.00022  0.019868  0.000019  0.019502  0.001204  0.002199   \n",
       "2020-09-23  0.00022  0.019868  0.000019  0.019502  0.001204  0.002199   \n",
       "2020-09-24  0.00022  0.019868  0.000019  0.019502  0.001204  0.002199   \n",
       "2020-09-25  0.00022  0.019868  0.000019  0.019502  0.001204  0.002199   \n",
       "2020-09-26  0.00022  0.019868  0.000019  0.019502  0.001204  0.002199   \n",
       "\n",
       "Country       Russia  United Arab Emirates  United States  \n",
       "Date                                                       \n",
       "2020-09-22  0.001329              0.000679       0.017601  \n",
       "2020-09-23  0.001329              0.000679       0.017601  \n",
       "2020-09-24  0.001329              0.000679       0.017601  \n",
       "2020-09-25  0.001329              0.000679       0.017601  \n",
       "2020-09-26  0.001329              0.000679       0.017601  "
      ]
     },
     "execution_count": 18,
     "metadata": {},
     "output_type": "execute_result"
    }
   ],
   "source": [
    "analyser.param_history(\"theta\", roll_window=None).tail()"
   ]
  },
  {
   "cell_type": "markdown",
   "metadata": {},
   "source": [
    "## (Experimental): Relationship of OxCGRT index and parameter values\n",
    "Government responses will impact on parameter values of ODE models about 14 days later. Here, we will investigate on the relationship of [stringency index (from OxCGRT)](https://github.com/OxCGRT/covid-policy-tracker/blob/master/documentation/index_methodology.md) and reproduction number/model parameters.\n"
   ]
  },
  {
   "cell_type": "code",
   "execution_count": 19,
   "metadata": {
    "collapsed": false
   },
   "outputs": [],
   "source": [
    "%matplotlib inline\n",
    "from matplotlib import pyplot as plt\n",
    "import seaborn as sns\n",
    "import pandas as pd"
   ]
  },
  {
   "cell_type": "code",
   "execution_count": 20,
   "metadata": {
    "collapsed": false
   },
   "outputs": [
    {
     "name": "stdout",
     "output_type": "stream",
     "text": [
      "<class 'pandas.core.frame.DataFrame'>\n",
      "Int64Index: 45519 entries, 0 to 45630\n",
      "Data columns (total 19 columns):\n",
      " #   Column                               Non-Null Count  Dtype         \n",
      "---  ------                               --------------  -----         \n",
      " 0   Date                                 45519 non-null  datetime64[ns]\n",
      " 1   Country                              45519 non-null  object        \n",
      " 2   Rt                                   45519 non-null  float64       \n",
      " 3   theta                                45519 non-null  float64       \n",
      " 4   kappa                                45519 non-null  float64       \n",
      " 5   rho                                  45519 non-null  float64       \n",
      " 6   sigma                                45519 non-null  float64       \n",
      " 7   School_closing                       45519 non-null  int64         \n",
      " 8   Workplace_closing                    45519 non-null  int64         \n",
      " 9   Cancel_events                        45519 non-null  int64         \n",
      " 10  Gatherings_restrictions              45519 non-null  int64         \n",
      " 11  Transport_closing                    45519 non-null  int64         \n",
      " 12  Stay_home_restrictions               45519 non-null  int64         \n",
      " 13  Internal_movement_restrictions       45519 non-null  int64         \n",
      " 14  International_movement_restrictions  45519 non-null  int64         \n",
      " 15  Information_campaigns                45519 non-null  int64         \n",
      " 16  Testing_policy                       45519 non-null  int64         \n",
      " 17  Contact_tracing                      45519 non-null  int64         \n",
      " 18  Stringency_index                     45519 non-null  float64       \n",
      "dtypes: datetime64[ns](1), float64(6), int64(11), object(1)\n",
      "memory usage: 6.9+ MB\n"
     ]
    }
   ],
   "source": [
    "df = analyser.track()\n",
    "param_cols = [\"Rt\", *cs.SIRF.PARAMETERS]\n",
    "oxcgrt_cols = oxcgrt_data.OXCGRT_VARS[:]\n",
    "cols = param_cols + oxcgrt_cols\n",
    "delay = 14\n",
    "\n",
    "for col in param_cols:\n",
    "    df[col] = pd.to_numeric(df[col], errors=\"coerce\")\n",
    "    df[col] = df.groupby(\"Country\")[col].shift(0 - delay)\n",
    "\n",
    "df = df.dropna(how=\"any\")\n",
    "df = df.loc[:, [\"Date\", \"Country\", *cols]]\n",
    "track_df = df.copy()\n",
    "track_df.info()"
   ]
  },
  {
   "cell_type": "code",
   "execution_count": 21,
   "metadata": {
    "collapsed": false
   },
   "outputs": [
    {
     "data": {
      "text/html": [
       "<style  type=\"text/css\" >\n",
       "#T_ceb817c0_ffe6_11ea_8b3f_52540079e29crow0_col0,#T_ceb817c0_ffe6_11ea_8b3f_52540079e29crow1_col1,#T_ceb817c0_ffe6_11ea_8b3f_52540079e29crow2_col2,#T_ceb817c0_ffe6_11ea_8b3f_52540079e29crow3_col3,#T_ceb817c0_ffe6_11ea_8b3f_52540079e29crow4_col4,#T_ceb817c0_ffe6_11ea_8b3f_52540079e29crow5_col5,#T_ceb817c0_ffe6_11ea_8b3f_52540079e29crow6_col6,#T_ceb817c0_ffe6_11ea_8b3f_52540079e29crow7_col7,#T_ceb817c0_ffe6_11ea_8b3f_52540079e29crow8_col8,#T_ceb817c0_ffe6_11ea_8b3f_52540079e29crow9_col9,#T_ceb817c0_ffe6_11ea_8b3f_52540079e29crow10_col10,#T_ceb817c0_ffe6_11ea_8b3f_52540079e29crow11_col11,#T_ceb817c0_ffe6_11ea_8b3f_52540079e29crow12_col12,#T_ceb817c0_ffe6_11ea_8b3f_52540079e29crow13_col13,#T_ceb817c0_ffe6_11ea_8b3f_52540079e29crow14_col14,#T_ceb817c0_ffe6_11ea_8b3f_52540079e29crow15_col15,#T_ceb817c0_ffe6_11ea_8b3f_52540079e29crow16_col16{\n",
       "            background-color:  #023858;\n",
       "            color:  #f1f1f1;\n",
       "        }#T_ceb817c0_ffe6_11ea_8b3f_52540079e29crow0_col1,#T_ceb817c0_ffe6_11ea_8b3f_52540079e29crow1_col0,#T_ceb817c0_ffe6_11ea_8b3f_52540079e29crow1_col9,#T_ceb817c0_ffe6_11ea_8b3f_52540079e29crow9_col1{\n",
       "            background-color:  #ebe6f2;\n",
       "            color:  #000000;\n",
       "        }#T_ceb817c0_ffe6_11ea_8b3f_52540079e29crow0_col2,#T_ceb817c0_ffe6_11ea_8b3f_52540079e29crow2_col0{\n",
       "            background-color:  #e8e4f0;\n",
       "            color:  #000000;\n",
       "        }#T_ceb817c0_ffe6_11ea_8b3f_52540079e29crow0_col3,#T_ceb817c0_ffe6_11ea_8b3f_52540079e29crow1_col10,#T_ceb817c0_ffe6_11ea_8b3f_52540079e29crow3_col0,#T_ceb817c0_ffe6_11ea_8b3f_52540079e29crow10_col1{\n",
       "            background-color:  #93b5d6;\n",
       "            color:  #000000;\n",
       "        }#T_ceb817c0_ffe6_11ea_8b3f_52540079e29crow0_col4,#T_ceb817c0_ffe6_11ea_8b3f_52540079e29crow2_col5,#T_ceb817c0_ffe6_11ea_8b3f_52540079e29crow4_col0,#T_ceb817c0_ffe6_11ea_8b3f_52540079e29crow5_col2{\n",
       "            background-color:  #e5e1ef;\n",
       "            color:  #000000;\n",
       "        }#T_ceb817c0_ffe6_11ea_8b3f_52540079e29crow0_col5,#T_ceb817c0_ffe6_11ea_8b3f_52540079e29crow5_col0{\n",
       "            background-color:  #c5cce3;\n",
       "            color:  #000000;\n",
       "        }#T_ceb817c0_ffe6_11ea_8b3f_52540079e29crow0_col6,#T_ceb817c0_ffe6_11ea_8b3f_52540079e29crow6_col0{\n",
       "            background-color:  #acc0dd;\n",
       "            color:  #000000;\n",
       "        }#T_ceb817c0_ffe6_11ea_8b3f_52540079e29crow0_col7,#T_ceb817c0_ffe6_11ea_8b3f_52540079e29crow0_col8,#T_ceb817c0_ffe6_11ea_8b3f_52540079e29crow7_col0,#T_ceb817c0_ffe6_11ea_8b3f_52540079e29crow8_col0{\n",
       "            background-color:  #c1cae2;\n",
       "            color:  #000000;\n",
       "        }#T_ceb817c0_ffe6_11ea_8b3f_52540079e29crow0_col9,#T_ceb817c0_ffe6_11ea_8b3f_52540079e29crow3_col5,#T_ceb817c0_ffe6_11ea_8b3f_52540079e29crow5_col3,#T_ceb817c0_ffe6_11ea_8b3f_52540079e29crow9_col0{\n",
       "            background-color:  #d9d8ea;\n",
       "            color:  #000000;\n",
       "        }#T_ceb817c0_ffe6_11ea_8b3f_52540079e29crow0_col10,#T_ceb817c0_ffe6_11ea_8b3f_52540079e29crow10_col0{\n",
       "            background-color:  #e3e0ee;\n",
       "            color:  #000000;\n",
       "        }#T_ceb817c0_ffe6_11ea_8b3f_52540079e29crow0_col11,#T_ceb817c0_ffe6_11ea_8b3f_52540079e29crow11_col0{\n",
       "            background-color:  #d8d7e9;\n",
       "            color:  #000000;\n",
       "        }#T_ceb817c0_ffe6_11ea_8b3f_52540079e29crow0_col12,#T_ceb817c0_ffe6_11ea_8b3f_52540079e29crow3_col16,#T_ceb817c0_ffe6_11ea_8b3f_52540079e29crow12_col0,#T_ceb817c0_ffe6_11ea_8b3f_52540079e29crow16_col3{\n",
       "            background-color:  #dcdaeb;\n",
       "            color:  #000000;\n",
       "        }#T_ceb817c0_ffe6_11ea_8b3f_52540079e29crow0_col13,#T_ceb817c0_ffe6_11ea_8b3f_52540079e29crow13_col0{\n",
       "            background-color:  #bcc7e1;\n",
       "            color:  #000000;\n",
       "        }#T_ceb817c0_ffe6_11ea_8b3f_52540079e29crow0_col14,#T_ceb817c0_ffe6_11ea_8b3f_52540079e29crow14_col0{\n",
       "            background-color:  #cccfe5;\n",
       "            color:  #000000;\n",
       "        }#T_ceb817c0_ffe6_11ea_8b3f_52540079e29crow0_col15,#T_ceb817c0_ffe6_11ea_8b3f_52540079e29crow2_col6,#T_ceb817c0_ffe6_11ea_8b3f_52540079e29crow2_col16,#T_ceb817c0_ffe6_11ea_8b3f_52540079e29crow6_col2,#T_ceb817c0_ffe6_11ea_8b3f_52540079e29crow15_col0,#T_ceb817c0_ffe6_11ea_8b3f_52540079e29crow16_col2{\n",
       "            background-color:  #dad9ea;\n",
       "            color:  #000000;\n",
       "        }#T_ceb817c0_ffe6_11ea_8b3f_52540079e29crow0_col16,#T_ceb817c0_ffe6_11ea_8b3f_52540079e29crow16_col0{\n",
       "            background-color:  #ced0e6;\n",
       "            color:  #000000;\n",
       "        }#T_ceb817c0_ffe6_11ea_8b3f_52540079e29crow1_col2,#T_ceb817c0_ffe6_11ea_8b3f_52540079e29crow2_col1{\n",
       "            background-color:  #023c5f;\n",
       "            color:  #f1f1f1;\n",
       "        }#T_ceb817c0_ffe6_11ea_8b3f_52540079e29crow1_col3,#T_ceb817c0_ffe6_11ea_8b3f_52540079e29crow3_col1{\n",
       "            background-color:  #046198;\n",
       "            color:  #f1f1f1;\n",
       "        }#T_ceb817c0_ffe6_11ea_8b3f_52540079e29crow1_col4,#T_ceb817c0_ffe6_11ea_8b3f_52540079e29crow4_col1{\n",
       "            background-color:  #c2cbe2;\n",
       "            color:  #000000;\n",
       "        }#T_ceb817c0_ffe6_11ea_8b3f_52540079e29crow1_col5,#T_ceb817c0_ffe6_11ea_8b3f_52540079e29crow5_col1{\n",
       "            background-color:  #e0deed;\n",
       "            color:  #000000;\n",
       "        }#T_ceb817c0_ffe6_11ea_8b3f_52540079e29crow1_col6,#T_ceb817c0_ffe6_11ea_8b3f_52540079e29crow6_col1{\n",
       "            background-color:  #d3d4e7;\n",
       "            color:  #000000;\n",
       "        }#T_ceb817c0_ffe6_11ea_8b3f_52540079e29crow1_col7,#T_ceb817c0_ffe6_11ea_8b3f_52540079e29crow1_col8,#T_ceb817c0_ffe6_11ea_8b3f_52540079e29crow2_col8,#T_ceb817c0_ffe6_11ea_8b3f_52540079e29crow7_col1,#T_ceb817c0_ffe6_11ea_8b3f_52540079e29crow8_col1,#T_ceb817c0_ffe6_11ea_8b3f_52540079e29crow8_col2{\n",
       "            background-color:  #eee8f3;\n",
       "            color:  #000000;\n",
       "        }#T_ceb817c0_ffe6_11ea_8b3f_52540079e29crow1_col11,#T_ceb817c0_ffe6_11ea_8b3f_52540079e29crow11_col1{\n",
       "            background-color:  #c4cbe3;\n",
       "            color:  #000000;\n",
       "        }#T_ceb817c0_ffe6_11ea_8b3f_52540079e29crow1_col12,#T_ceb817c0_ffe6_11ea_8b3f_52540079e29crow4_col5,#T_ceb817c0_ffe6_11ea_8b3f_52540079e29crow5_col4,#T_ceb817c0_ffe6_11ea_8b3f_52540079e29crow12_col1{\n",
       "            background-color:  #86b0d3;\n",
       "            color:  #000000;\n",
       "        }#T_ceb817c0_ffe6_11ea_8b3f_52540079e29crow1_col13,#T_ceb817c0_ffe6_11ea_8b3f_52540079e29crow13_col1{\n",
       "            background-color:  #f2ecf5;\n",
       "            color:  #000000;\n",
       "        }#T_ceb817c0_ffe6_11ea_8b3f_52540079e29crow1_col14,#T_ceb817c0_ffe6_11ea_8b3f_52540079e29crow14_col1{\n",
       "            background-color:  #f6eff7;\n",
       "            color:  #000000;\n",
       "        }#T_ceb817c0_ffe6_11ea_8b3f_52540079e29crow1_col15,#T_ceb817c0_ffe6_11ea_8b3f_52540079e29crow2_col15,#T_ceb817c0_ffe6_11ea_8b3f_52540079e29crow15_col1,#T_ceb817c0_ffe6_11ea_8b3f_52540079e29crow15_col2{\n",
       "            background-color:  #b9c6e0;\n",
       "            color:  #000000;\n",
       "        }#T_ceb817c0_ffe6_11ea_8b3f_52540079e29crow1_col16,#T_ceb817c0_ffe6_11ea_8b3f_52540079e29crow4_col11,#T_ceb817c0_ffe6_11ea_8b3f_52540079e29crow11_col4,#T_ceb817c0_ffe6_11ea_8b3f_52540079e29crow16_col1{\n",
       "            background-color:  #d4d4e8;\n",
       "            color:  #000000;\n",
       "        }#T_ceb817c0_ffe6_11ea_8b3f_52540079e29crow2_col3,#T_ceb817c0_ffe6_11ea_8b3f_52540079e29crow3_col2,#T_ceb817c0_ffe6_11ea_8b3f_52540079e29crow6_col8,#T_ceb817c0_ffe6_11ea_8b3f_52540079e29crow8_col6{\n",
       "            background-color:  #046096;\n",
       "            color:  #f1f1f1;\n",
       "        }#T_ceb817c0_ffe6_11ea_8b3f_52540079e29crow2_col4,#T_ceb817c0_ffe6_11ea_8b3f_52540079e29crow3_col6,#T_ceb817c0_ffe6_11ea_8b3f_52540079e29crow4_col2,#T_ceb817c0_ffe6_11ea_8b3f_52540079e29crow6_col3{\n",
       "            background-color:  #d1d2e6;\n",
       "            color:  #000000;\n",
       "        }#T_ceb817c0_ffe6_11ea_8b3f_52540079e29crow2_col7,#T_ceb817c0_ffe6_11ea_8b3f_52540079e29crow7_col2{\n",
       "            background-color:  #f0eaf4;\n",
       "            color:  #000000;\n",
       "        }#T_ceb817c0_ffe6_11ea_8b3f_52540079e29crow2_col9,#T_ceb817c0_ffe6_11ea_8b3f_52540079e29crow9_col2{\n",
       "            background-color:  #ece7f2;\n",
       "            color:  #000000;\n",
       "        }#T_ceb817c0_ffe6_11ea_8b3f_52540079e29crow2_col10,#T_ceb817c0_ffe6_11ea_8b3f_52540079e29crow4_col15,#T_ceb817c0_ffe6_11ea_8b3f_52540079e29crow10_col2,#T_ceb817c0_ffe6_11ea_8b3f_52540079e29crow15_col4{\n",
       "            background-color:  #94b6d7;\n",
       "            color:  #000000;\n",
       "        }#T_ceb817c0_ffe6_11ea_8b3f_52540079e29crow2_col11,#T_ceb817c0_ffe6_11ea_8b3f_52540079e29crow11_col2{\n",
       "            background-color:  #c8cde4;\n",
       "            color:  #000000;\n",
       "        }#T_ceb817c0_ffe6_11ea_8b3f_52540079e29crow2_col12,#T_ceb817c0_ffe6_11ea_8b3f_52540079e29crow12_col2{\n",
       "            background-color:  #81aed2;\n",
       "            color:  #000000;\n",
       "        }#T_ceb817c0_ffe6_11ea_8b3f_52540079e29crow2_col13,#T_ceb817c0_ffe6_11ea_8b3f_52540079e29crow3_col7,#T_ceb817c0_ffe6_11ea_8b3f_52540079e29crow7_col3,#T_ceb817c0_ffe6_11ea_8b3f_52540079e29crow13_col2{\n",
       "            background-color:  #f5eef6;\n",
       "            color:  #000000;\n",
       "        }#T_ceb817c0_ffe6_11ea_8b3f_52540079e29crow2_col14,#T_ceb817c0_ffe6_11ea_8b3f_52540079e29crow3_col8,#T_ceb817c0_ffe6_11ea_8b3f_52540079e29crow8_col3,#T_ceb817c0_ffe6_11ea_8b3f_52540079e29crow14_col2{\n",
       "            background-color:  #f1ebf4;\n",
       "            color:  #000000;\n",
       "        }#T_ceb817c0_ffe6_11ea_8b3f_52540079e29crow3_col4,#T_ceb817c0_ffe6_11ea_8b3f_52540079e29crow4_col3{\n",
       "            background-color:  #afc1dd;\n",
       "            color:  #000000;\n",
       "        }#T_ceb817c0_ffe6_11ea_8b3f_52540079e29crow3_col9,#T_ceb817c0_ffe6_11ea_8b3f_52540079e29crow9_col3{\n",
       "            background-color:  #f1ebf5;\n",
       "            color:  #000000;\n",
       "        }#T_ceb817c0_ffe6_11ea_8b3f_52540079e29crow3_col10,#T_ceb817c0_ffe6_11ea_8b3f_52540079e29crow10_col3{\n",
       "            background-color:  #a5bddb;\n",
       "            color:  #000000;\n",
       "        }#T_ceb817c0_ffe6_11ea_8b3f_52540079e29crow3_col11,#T_ceb817c0_ffe6_11ea_8b3f_52540079e29crow4_col8,#T_ceb817c0_ffe6_11ea_8b3f_52540079e29crow8_col4,#T_ceb817c0_ffe6_11ea_8b3f_52540079e29crow11_col3{\n",
       "            background-color:  #d7d6e9;\n",
       "            color:  #000000;\n",
       "        }#T_ceb817c0_ffe6_11ea_8b3f_52540079e29crow3_col12,#T_ceb817c0_ffe6_11ea_8b3f_52540079e29crow4_col6,#T_ceb817c0_ffe6_11ea_8b3f_52540079e29crow6_col4,#T_ceb817c0_ffe6_11ea_8b3f_52540079e29crow12_col3{\n",
       "            background-color:  #b1c2de;\n",
       "            color:  #000000;\n",
       "        }#T_ceb817c0_ffe6_11ea_8b3f_52540079e29crow3_col13,#T_ceb817c0_ffe6_11ea_8b3f_52540079e29crow13_col3{\n",
       "            background-color:  #f8f1f8;\n",
       "            color:  #000000;\n",
       "        }#T_ceb817c0_ffe6_11ea_8b3f_52540079e29crow3_col14,#T_ceb817c0_ffe6_11ea_8b3f_52540079e29crow14_col3{\n",
       "            background-color:  #fff7fb;\n",
       "            color:  #000000;\n",
       "        }#T_ceb817c0_ffe6_11ea_8b3f_52540079e29crow3_col15,#T_ceb817c0_ffe6_11ea_8b3f_52540079e29crow4_col14,#T_ceb817c0_ffe6_11ea_8b3f_52540079e29crow14_col4,#T_ceb817c0_ffe6_11ea_8b3f_52540079e29crow15_col3{\n",
       "            background-color:  #d5d5e8;\n",
       "            color:  #000000;\n",
       "        }#T_ceb817c0_ffe6_11ea_8b3f_52540079e29crow4_col7,#T_ceb817c0_ffe6_11ea_8b3f_52540079e29crow7_col4{\n",
       "            background-color:  #adc1dd;\n",
       "            color:  #000000;\n",
       "        }#T_ceb817c0_ffe6_11ea_8b3f_52540079e29crow4_col9,#T_ceb817c0_ffe6_11ea_8b3f_52540079e29crow9_col4{\n",
       "            background-color:  #c6cce3;\n",
       "            color:  #000000;\n",
       "        }#T_ceb817c0_ffe6_11ea_8b3f_52540079e29crow4_col10,#T_ceb817c0_ffe6_11ea_8b3f_52540079e29crow10_col4{\n",
       "            background-color:  #bbc7e0;\n",
       "            color:  #000000;\n",
       "        }#T_ceb817c0_ffe6_11ea_8b3f_52540079e29crow4_col12,#T_ceb817c0_ffe6_11ea_8b3f_52540079e29crow12_col4{\n",
       "            background-color:  #d0d1e6;\n",
       "            color:  #000000;\n",
       "        }#T_ceb817c0_ffe6_11ea_8b3f_52540079e29crow4_col13,#T_ceb817c0_ffe6_11ea_8b3f_52540079e29crow4_col16,#T_ceb817c0_ffe6_11ea_8b3f_52540079e29crow13_col4,#T_ceb817c0_ffe6_11ea_8b3f_52540079e29crow16_col4{\n",
       "            background-color:  #a8bedc;\n",
       "            color:  #000000;\n",
       "        }#T_ceb817c0_ffe6_11ea_8b3f_52540079e29crow5_col6,#T_ceb817c0_ffe6_11ea_8b3f_52540079e29crow6_col5,#T_ceb817c0_ffe6_11ea_8b3f_52540079e29crow9_col11,#T_ceb817c0_ffe6_11ea_8b3f_52540079e29crow11_col9{\n",
       "            background-color:  #04649d;\n",
       "            color:  #f1f1f1;\n",
       "        }#T_ceb817c0_ffe6_11ea_8b3f_52540079e29crow5_col7,#T_ceb817c0_ffe6_11ea_8b3f_52540079e29crow7_col5,#T_ceb817c0_ffe6_11ea_8b3f_52540079e29crow8_col14,#T_ceb817c0_ffe6_11ea_8b3f_52540079e29crow14_col8{\n",
       "            background-color:  #0567a2;\n",
       "            color:  #f1f1f1;\n",
       "        }#T_ceb817c0_ffe6_11ea_8b3f_52540079e29crow5_col8,#T_ceb817c0_ffe6_11ea_8b3f_52540079e29crow8_col5,#T_ceb817c0_ffe6_11ea_8b3f_52540079e29crow9_col10,#T_ceb817c0_ffe6_11ea_8b3f_52540079e29crow10_col9{\n",
       "            background-color:  #056dac;\n",
       "            color:  #f1f1f1;\n",
       "        }#T_ceb817c0_ffe6_11ea_8b3f_52540079e29crow5_col9,#T_ceb817c0_ffe6_11ea_8b3f_52540079e29crow9_col5,#T_ceb817c0_ffe6_11ea_8b3f_52540079e29crow13_col15,#T_ceb817c0_ffe6_11ea_8b3f_52540079e29crow15_col13{\n",
       "            background-color:  #187cb6;\n",
       "            color:  #000000;\n",
       "        }#T_ceb817c0_ffe6_11ea_8b3f_52540079e29crow5_col10,#T_ceb817c0_ffe6_11ea_8b3f_52540079e29crow10_col5{\n",
       "            background-color:  #197db7;\n",
       "            color:  #000000;\n",
       "        }#T_ceb817c0_ffe6_11ea_8b3f_52540079e29crow5_col11,#T_ceb817c0_ffe6_11ea_8b3f_52540079e29crow11_col5{\n",
       "            background-color:  #2383ba;\n",
       "            color:  #000000;\n",
       "        }#T_ceb817c0_ffe6_11ea_8b3f_52540079e29crow5_col12,#T_ceb817c0_ffe6_11ea_8b3f_52540079e29crow12_col5{\n",
       "            background-color:  #3f93c2;\n",
       "            color:  #000000;\n",
       "        }#T_ceb817c0_ffe6_11ea_8b3f_52540079e29crow5_col13,#T_ceb817c0_ffe6_11ea_8b3f_52540079e29crow13_col5{\n",
       "            background-color:  #0569a4;\n",
       "            color:  #f1f1f1;\n",
       "        }#T_ceb817c0_ffe6_11ea_8b3f_52540079e29crow5_col14,#T_ceb817c0_ffe6_11ea_8b3f_52540079e29crow6_col14,#T_ceb817c0_ffe6_11ea_8b3f_52540079e29crow10_col13,#T_ceb817c0_ffe6_11ea_8b3f_52540079e29crow13_col10,#T_ceb817c0_ffe6_11ea_8b3f_52540079e29crow14_col5,#T_ceb817c0_ffe6_11ea_8b3f_52540079e29crow14_col6{\n",
       "            background-color:  #2c89bd;\n",
       "            color:  #000000;\n",
       "        }#T_ceb817c0_ffe6_11ea_8b3f_52540079e29crow5_col15,#T_ceb817c0_ffe6_11ea_8b3f_52540079e29crow15_col5{\n",
       "            background-color:  #75a9cf;\n",
       "            color:  #000000;\n",
       "        }#T_ceb817c0_ffe6_11ea_8b3f_52540079e29crow5_col16,#T_ceb817c0_ffe6_11ea_8b3f_52540079e29crow16_col5{\n",
       "            background-color:  #045b8e;\n",
       "            color:  #f1f1f1;\n",
       "        }#T_ceb817c0_ffe6_11ea_8b3f_52540079e29crow6_col7,#T_ceb817c0_ffe6_11ea_8b3f_52540079e29crow7_col6{\n",
       "            background-color:  #05659f;\n",
       "            color:  #f1f1f1;\n",
       "        }#T_ceb817c0_ffe6_11ea_8b3f_52540079e29crow6_col9,#T_ceb817c0_ffe6_11ea_8b3f_52540079e29crow9_col6{\n",
       "            background-color:  #056aa6;\n",
       "            color:  #f1f1f1;\n",
       "        }#T_ceb817c0_ffe6_11ea_8b3f_52540079e29crow6_col10,#T_ceb817c0_ffe6_11ea_8b3f_52540079e29crow7_col14,#T_ceb817c0_ffe6_11ea_8b3f_52540079e29crow10_col6,#T_ceb817c0_ffe6_11ea_8b3f_52540079e29crow14_col7{\n",
       "            background-color:  #056caa;\n",
       "            color:  #f1f1f1;\n",
       "        }#T_ceb817c0_ffe6_11ea_8b3f_52540079e29crow6_col11,#T_ceb817c0_ffe6_11ea_8b3f_52540079e29crow8_col10,#T_ceb817c0_ffe6_11ea_8b3f_52540079e29crow10_col8,#T_ceb817c0_ffe6_11ea_8b3f_52540079e29crow11_col6,#T_ceb817c0_ffe6_11ea_8b3f_52540079e29crow12_col16,#T_ceb817c0_ffe6_11ea_8b3f_52540079e29crow16_col12{\n",
       "            background-color:  #056ead;\n",
       "            color:  #f1f1f1;\n",
       "        }#T_ceb817c0_ffe6_11ea_8b3f_52540079e29crow6_col12,#T_ceb817c0_ffe6_11ea_8b3f_52540079e29crow12_col6{\n",
       "            background-color:  #2f8bbe;\n",
       "            color:  #000000;\n",
       "        }#T_ceb817c0_ffe6_11ea_8b3f_52540079e29crow6_col13,#T_ceb817c0_ffe6_11ea_8b3f_52540079e29crow13_col6{\n",
       "            background-color:  #045e93;\n",
       "            color:  #f1f1f1;\n",
       "        }#T_ceb817c0_ffe6_11ea_8b3f_52540079e29crow6_col15,#T_ceb817c0_ffe6_11ea_8b3f_52540079e29crow15_col6{\n",
       "            background-color:  #60a1ca;\n",
       "            color:  #000000;\n",
       "        }#T_ceb817c0_ffe6_11ea_8b3f_52540079e29crow6_col16,#T_ceb817c0_ffe6_11ea_8b3f_52540079e29crow7_col13,#T_ceb817c0_ffe6_11ea_8b3f_52540079e29crow13_col7,#T_ceb817c0_ffe6_11ea_8b3f_52540079e29crow16_col6{\n",
       "            background-color:  #034b76;\n",
       "            color:  #f1f1f1;\n",
       "        }#T_ceb817c0_ffe6_11ea_8b3f_52540079e29crow7_col8,#T_ceb817c0_ffe6_11ea_8b3f_52540079e29crow8_col7{\n",
       "            background-color:  #045a8d;\n",
       "            color:  #f1f1f1;\n",
       "        }#T_ceb817c0_ffe6_11ea_8b3f_52540079e29crow7_col9,#T_ceb817c0_ffe6_11ea_8b3f_52540079e29crow9_col7{\n",
       "            background-color:  #2182b9;\n",
       "            color:  #000000;\n",
       "        }#T_ceb817c0_ffe6_11ea_8b3f_52540079e29crow7_col10,#T_ceb817c0_ffe6_11ea_8b3f_52540079e29crow10_col7,#T_ceb817c0_ffe6_11ea_8b3f_52540079e29crow12_col15,#T_ceb817c0_ffe6_11ea_8b3f_52540079e29crow15_col12{\n",
       "            background-color:  #2484ba;\n",
       "            color:  #000000;\n",
       "        }#T_ceb817c0_ffe6_11ea_8b3f_52540079e29crow7_col11,#T_ceb817c0_ffe6_11ea_8b3f_52540079e29crow11_col7{\n",
       "            background-color:  #0872b1;\n",
       "            color:  #f1f1f1;\n",
       "        }#T_ceb817c0_ffe6_11ea_8b3f_52540079e29crow7_col12,#T_ceb817c0_ffe6_11ea_8b3f_52540079e29crow12_col7{\n",
       "            background-color:  #1e80b8;\n",
       "            color:  #000000;\n",
       "        }#T_ceb817c0_ffe6_11ea_8b3f_52540079e29crow7_col15,#T_ceb817c0_ffe6_11ea_8b3f_52540079e29crow15_col7{\n",
       "            background-color:  #0c74b2;\n",
       "            color:  #f1f1f1;\n",
       "        }#T_ceb817c0_ffe6_11ea_8b3f_52540079e29crow7_col16,#T_ceb817c0_ffe6_11ea_8b3f_52540079e29crow16_col7{\n",
       "            background-color:  #045382;\n",
       "            color:  #f1f1f1;\n",
       "        }#T_ceb817c0_ffe6_11ea_8b3f_52540079e29crow8_col9,#T_ceb817c0_ffe6_11ea_8b3f_52540079e29crow9_col8,#T_ceb817c0_ffe6_11ea_8b3f_52540079e29crow10_col11,#T_ceb817c0_ffe6_11ea_8b3f_52540079e29crow10_col16,#T_ceb817c0_ffe6_11ea_8b3f_52540079e29crow11_col10,#T_ceb817c0_ffe6_11ea_8b3f_52540079e29crow11_col16,#T_ceb817c0_ffe6_11ea_8b3f_52540079e29crow16_col10,#T_ceb817c0_ffe6_11ea_8b3f_52540079e29crow16_col11{\n",
       "            background-color:  #045f95;\n",
       "            color:  #f1f1f1;\n",
       "        }#T_ceb817c0_ffe6_11ea_8b3f_52540079e29crow8_col11,#T_ceb817c0_ffe6_11ea_8b3f_52540079e29crow11_col8{\n",
       "            background-color:  #04629a;\n",
       "            color:  #f1f1f1;\n",
       "        }#T_ceb817c0_ffe6_11ea_8b3f_52540079e29crow8_col12,#T_ceb817c0_ffe6_11ea_8b3f_52540079e29crow10_col12,#T_ceb817c0_ffe6_11ea_8b3f_52540079e29crow12_col8,#T_ceb817c0_ffe6_11ea_8b3f_52540079e29crow12_col10{\n",
       "            background-color:  #1278b4;\n",
       "            color:  #f1f1f1;\n",
       "        }#T_ceb817c0_ffe6_11ea_8b3f_52540079e29crow8_col13,#T_ceb817c0_ffe6_11ea_8b3f_52540079e29crow13_col8{\n",
       "            background-color:  #045788;\n",
       "            color:  #f1f1f1;\n",
       "        }#T_ceb817c0_ffe6_11ea_8b3f_52540079e29crow8_col15,#T_ceb817c0_ffe6_11ea_8b3f_52540079e29crow15_col8{\n",
       "            background-color:  #4697c4;\n",
       "            color:  #000000;\n",
       "        }#T_ceb817c0_ffe6_11ea_8b3f_52540079e29crow8_col16,#T_ceb817c0_ffe6_11ea_8b3f_52540079e29crow16_col8{\n",
       "            background-color:  #034d79;\n",
       "            color:  #f1f1f1;\n",
       "        }#T_ceb817c0_ffe6_11ea_8b3f_52540079e29crow9_col12,#T_ceb817c0_ffe6_11ea_8b3f_52540079e29crow12_col9{\n",
       "            background-color:  #348ebf;\n",
       "            color:  #000000;\n",
       "        }#T_ceb817c0_ffe6_11ea_8b3f_52540079e29crow9_col13,#T_ceb817c0_ffe6_11ea_8b3f_52540079e29crow12_col14,#T_ceb817c0_ffe6_11ea_8b3f_52540079e29crow13_col9,#T_ceb817c0_ffe6_11ea_8b3f_52540079e29crow14_col12,#T_ceb817c0_ffe6_11ea_8b3f_52540079e29crow14_col16,#T_ceb817c0_ffe6_11ea_8b3f_52540079e29crow16_col14{\n",
       "            background-color:  #157ab5;\n",
       "            color:  #000000;\n",
       "        }#T_ceb817c0_ffe6_11ea_8b3f_52540079e29crow9_col14,#T_ceb817c0_ffe6_11ea_8b3f_52540079e29crow11_col13,#T_ceb817c0_ffe6_11ea_8b3f_52540079e29crow13_col11,#T_ceb817c0_ffe6_11ea_8b3f_52540079e29crow14_col9{\n",
       "            background-color:  #1379b5;\n",
       "            color:  #f1f1f1;\n",
       "        }#T_ceb817c0_ffe6_11ea_8b3f_52540079e29crow9_col15,#T_ceb817c0_ffe6_11ea_8b3f_52540079e29crow15_col9{\n",
       "            background-color:  #96b6d7;\n",
       "            color:  #000000;\n",
       "        }#T_ceb817c0_ffe6_11ea_8b3f_52540079e29crow9_col16,#T_ceb817c0_ffe6_11ea_8b3f_52540079e29crow16_col9{\n",
       "            background-color:  #046097;\n",
       "            color:  #f1f1f1;\n",
       "        }#T_ceb817c0_ffe6_11ea_8b3f_52540079e29crow10_col14,#T_ceb817c0_ffe6_11ea_8b3f_52540079e29crow14_col10,#T_ceb817c0_ffe6_11ea_8b3f_52540079e29crow14_col15,#T_ceb817c0_ffe6_11ea_8b3f_52540079e29crow15_col14{\n",
       "            background-color:  #4496c3;\n",
       "            color:  #000000;\n",
       "        }#T_ceb817c0_ffe6_11ea_8b3f_52540079e29crow10_col15,#T_ceb817c0_ffe6_11ea_8b3f_52540079e29crow15_col10{\n",
       "            background-color:  #3790c0;\n",
       "            color:  #000000;\n",
       "        }#T_ceb817c0_ffe6_11ea_8b3f_52540079e29crow11_col12,#T_ceb817c0_ffe6_11ea_8b3f_52540079e29crow12_col11{\n",
       "            background-color:  #1b7eb7;\n",
       "            color:  #000000;\n",
       "        }#T_ceb817c0_ffe6_11ea_8b3f_52540079e29crow11_col14,#T_ceb817c0_ffe6_11ea_8b3f_52540079e29crow14_col11,#T_ceb817c0_ffe6_11ea_8b3f_52540079e29crow15_col16,#T_ceb817c0_ffe6_11ea_8b3f_52540079e29crow16_col15{\n",
       "            background-color:  #2685bb;\n",
       "            color:  #000000;\n",
       "        }#T_ceb817c0_ffe6_11ea_8b3f_52540079e29crow11_col15,#T_ceb817c0_ffe6_11ea_8b3f_52540079e29crow15_col11{\n",
       "            background-color:  #4a98c5;\n",
       "            color:  #000000;\n",
       "        }#T_ceb817c0_ffe6_11ea_8b3f_52540079e29crow12_col13,#T_ceb817c0_ffe6_11ea_8b3f_52540079e29crow13_col12{\n",
       "            background-color:  #2987bc;\n",
       "            color:  #000000;\n",
       "        }#T_ceb817c0_ffe6_11ea_8b3f_52540079e29crow13_col14,#T_ceb817c0_ffe6_11ea_8b3f_52540079e29crow14_col13{\n",
       "            background-color:  #056ba9;\n",
       "            color:  #f1f1f1;\n",
       "        }#T_ceb817c0_ffe6_11ea_8b3f_52540079e29crow13_col16,#T_ceb817c0_ffe6_11ea_8b3f_52540079e29crow16_col13{\n",
       "            background-color:  #045280;\n",
       "            color:  #f1f1f1;\n",
       "        }</style><table id=\"T_ceb817c0_ffe6_11ea_8b3f_52540079e29c\" ><thead>    <tr>        <th class=\"blank level0\" ></th>        <th class=\"col_heading level0 col0\" >Rt</th>        <th class=\"col_heading level0 col1\" >theta</th>        <th class=\"col_heading level0 col2\" >kappa</th>        <th class=\"col_heading level0 col3\" >rho</th>        <th class=\"col_heading level0 col4\" >sigma</th>        <th class=\"col_heading level0 col5\" >School_closing</th>        <th class=\"col_heading level0 col6\" >Workplace_closing</th>        <th class=\"col_heading level0 col7\" >Cancel_events</th>        <th class=\"col_heading level0 col8\" >Gatherings_restrictions</th>        <th class=\"col_heading level0 col9\" >Transport_closing</th>        <th class=\"col_heading level0 col10\" >Stay_home_restrictions</th>        <th class=\"col_heading level0 col11\" >Internal_movement_restrictions</th>        <th class=\"col_heading level0 col12\" >International_movement_restrictions</th>        <th class=\"col_heading level0 col13\" >Information_campaigns</th>        <th class=\"col_heading level0 col14\" >Testing_policy</th>        <th class=\"col_heading level0 col15\" >Contact_tracing</th>        <th class=\"col_heading level0 col16\" >Stringency_index</th>    </tr></thead><tbody>\n",
       "                <tr>\n",
       "                        <th id=\"T_ceb817c0_ffe6_11ea_8b3f_52540079e29clevel0_row0\" class=\"row_heading level0 row0\" >Rt</th>\n",
       "                        <td id=\"T_ceb817c0_ffe6_11ea_8b3f_52540079e29crow0_col0\" class=\"data row0 col0\" >1.000000</td>\n",
       "                        <td id=\"T_ceb817c0_ffe6_11ea_8b3f_52540079e29crow0_col1\" class=\"data row0 col1\" >-0.267765</td>\n",
       "                        <td id=\"T_ceb817c0_ffe6_11ea_8b3f_52540079e29crow0_col2\" class=\"data row0 col2\" >-0.250934</td>\n",
       "                        <td id=\"T_ceb817c0_ffe6_11ea_8b3f_52540079e29crow0_col3\" class=\"data row0 col3\" >0.160161</td>\n",
       "                        <td id=\"T_ceb817c0_ffe6_11ea_8b3f_52540079e29crow0_col4\" class=\"data row0 col4\" >-0.229443</td>\n",
       "                        <td id=\"T_ceb817c0_ffe6_11ea_8b3f_52540079e29crow0_col5\" class=\"data row0 col5\" >-0.042179</td>\n",
       "                        <td id=\"T_ceb817c0_ffe6_11ea_8b3f_52540079e29crow0_col6\" class=\"data row0 col6\" >0.064373</td>\n",
       "                        <td id=\"T_ceb817c0_ffe6_11ea_8b3f_52540079e29crow0_col7\" class=\"data row0 col7\" >-0.024745</td>\n",
       "                        <td id=\"T_ceb817c0_ffe6_11ea_8b3f_52540079e29crow0_col8\" class=\"data row0 col8\" >-0.027392</td>\n",
       "                        <td id=\"T_ceb817c0_ffe6_11ea_8b3f_52540079e29crow0_col9\" class=\"data row0 col9\" >-0.151145</td>\n",
       "                        <td id=\"T_ceb817c0_ffe6_11ea_8b3f_52540079e29crow0_col10\" class=\"data row0 col10\" >-0.213759</td>\n",
       "                        <td id=\"T_ceb817c0_ffe6_11ea_8b3f_52540079e29crow0_col11\" class=\"data row0 col11\" >-0.142964</td>\n",
       "                        <td id=\"T_ceb817c0_ffe6_11ea_8b3f_52540079e29crow0_col12\" class=\"data row0 col12\" >-0.170872</td>\n",
       "                        <td id=\"T_ceb817c0_ffe6_11ea_8b3f_52540079e29crow0_col13\" class=\"data row0 col13\" >-0.006390</td>\n",
       "                        <td id=\"T_ceb817c0_ffe6_11ea_8b3f_52540079e29crow0_col14\" class=\"data row0 col14\" >-0.074609</td>\n",
       "                        <td id=\"T_ceb817c0_ffe6_11ea_8b3f_52540079e29crow0_col15\" class=\"data row0 col15\" >-0.159358</td>\n",
       "                        <td id=\"T_ceb817c0_ffe6_11ea_8b3f_52540079e29crow0_col16\" class=\"data row0 col16\" >-0.082126</td>\n",
       "            </tr>\n",
       "            <tr>\n",
       "                        <th id=\"T_ceb817c0_ffe6_11ea_8b3f_52540079e29clevel0_row1\" class=\"row_heading level0 row1\" >theta</th>\n",
       "                        <td id=\"T_ceb817c0_ffe6_11ea_8b3f_52540079e29crow1_col0\" class=\"data row1 col0\" >-0.267765</td>\n",
       "                        <td id=\"T_ceb817c0_ffe6_11ea_8b3f_52540079e29crow1_col1\" class=\"data row1 col1\" >1.000000</td>\n",
       "                        <td id=\"T_ceb817c0_ffe6_11ea_8b3f_52540079e29crow1_col2\" class=\"data row1 col2\" >0.977002</td>\n",
       "                        <td id=\"T_ceb817c0_ffe6_11ea_8b3f_52540079e29crow1_col3\" class=\"data row1 col3\" >0.760622</td>\n",
       "                        <td id=\"T_ceb817c0_ffe6_11ea_8b3f_52540079e29crow1_col4\" class=\"data row1 col4\" >-0.034373</td>\n",
       "                        <td id=\"T_ceb817c0_ffe6_11ea_8b3f_52540079e29crow1_col5\" class=\"data row1 col5\" >-0.197517</td>\n",
       "                        <td id=\"T_ceb817c0_ffe6_11ea_8b3f_52540079e29crow1_col6\" class=\"data row1 col6\" >-0.115158</td>\n",
       "                        <td id=\"T_ceb817c0_ffe6_11ea_8b3f_52540079e29crow1_col7\" class=\"data row1 col7\" >-0.289926</td>\n",
       "                        <td id=\"T_ceb817c0_ffe6_11ea_8b3f_52540079e29crow1_col8\" class=\"data row1 col8\" >-0.287728</td>\n",
       "                        <td id=\"T_ceb817c0_ffe6_11ea_8b3f_52540079e29crow1_col9\" class=\"data row1 col9\" >-0.265377</td>\n",
       "                        <td id=\"T_ceb817c0_ffe6_11ea_8b3f_52540079e29crow1_col10\" class=\"data row1 col10\" >0.162046</td>\n",
       "                        <td id=\"T_ceb817c0_ffe6_11ea_8b3f_52540079e29crow1_col11\" class=\"data row1 col11\" >-0.041204</td>\n",
       "                        <td id=\"T_ceb817c0_ffe6_11ea_8b3f_52540079e29crow1_col12\" class=\"data row1 col12\" >0.203343</td>\n",
       "                        <td id=\"T_ceb817c0_ffe6_11ea_8b3f_52540079e29crow1_col13\" class=\"data row1 col13\" >-0.336556</td>\n",
       "                        <td id=\"T_ceb817c0_ffe6_11ea_8b3f_52540079e29crow1_col14\" class=\"data row1 col14\" >-0.371422</td>\n",
       "                        <td id=\"T_ceb817c0_ffe6_11ea_8b3f_52540079e29crow1_col15\" class=\"data row1 col15\" >0.006486</td>\n",
       "                        <td id=\"T_ceb817c0_ffe6_11ea_8b3f_52540079e29crow1_col16\" class=\"data row1 col16\" >-0.117347</td>\n",
       "            </tr>\n",
       "            <tr>\n",
       "                        <th id=\"T_ceb817c0_ffe6_11ea_8b3f_52540079e29clevel0_row2\" class=\"row_heading level0 row2\" >kappa</th>\n",
       "                        <td id=\"T_ceb817c0_ffe6_11ea_8b3f_52540079e29crow2_col0\" class=\"data row2 col0\" >-0.250934</td>\n",
       "                        <td id=\"T_ceb817c0_ffe6_11ea_8b3f_52540079e29crow2_col1\" class=\"data row2 col1\" >0.977002</td>\n",
       "                        <td id=\"T_ceb817c0_ffe6_11ea_8b3f_52540079e29crow2_col2\" class=\"data row2 col2\" >1.000000</td>\n",
       "                        <td id=\"T_ceb817c0_ffe6_11ea_8b3f_52540079e29crow2_col3\" class=\"data row2 col3\" >0.767980</td>\n",
       "                        <td id=\"T_ceb817c0_ffe6_11ea_8b3f_52540079e29crow2_col4\" class=\"data row2 col4\" >-0.095546</td>\n",
       "                        <td id=\"T_ceb817c0_ffe6_11ea_8b3f_52540079e29crow2_col5\" class=\"data row2 col5\" >-0.228092</td>\n",
       "                        <td id=\"T_ceb817c0_ffe6_11ea_8b3f_52540079e29crow2_col6\" class=\"data row2 col6\" >-0.157012</td>\n",
       "                        <td id=\"T_ceb817c0_ffe6_11ea_8b3f_52540079e29crow2_col7\" class=\"data row2 col7\" >-0.311667</td>\n",
       "                        <td id=\"T_ceb817c0_ffe6_11ea_8b3f_52540079e29crow2_col8\" class=\"data row2 col8\" >-0.288804</td>\n",
       "                        <td id=\"T_ceb817c0_ffe6_11ea_8b3f_52540079e29crow2_col9\" class=\"data row2 col9\" >-0.270365</td>\n",
       "                        <td id=\"T_ceb817c0_ffe6_11ea_8b3f_52540079e29crow2_col10\" class=\"data row2 col10\" >0.155535</td>\n",
       "                        <td id=\"T_ceb817c0_ffe6_11ea_8b3f_52540079e29crow2_col11\" class=\"data row2 col11\" >-0.055888</td>\n",
       "                        <td id=\"T_ceb817c0_ffe6_11ea_8b3f_52540079e29crow2_col12\" class=\"data row2 col12\" >0.223436</td>\n",
       "                        <td id=\"T_ceb817c0_ffe6_11ea_8b3f_52540079e29crow2_col13\" class=\"data row2 col13\" >-0.359980</td>\n",
       "                        <td id=\"T_ceb817c0_ffe6_11ea_8b3f_52540079e29crow2_col14\" class=\"data row2 col14\" >-0.315959</td>\n",
       "                        <td id=\"T_ceb817c0_ffe6_11ea_8b3f_52540079e29crow2_col15\" class=\"data row2 col15\" >0.006213</td>\n",
       "                        <td id=\"T_ceb817c0_ffe6_11ea_8b3f_52540079e29crow2_col16\" class=\"data row2 col16\" >-0.157997</td>\n",
       "            </tr>\n",
       "            <tr>\n",
       "                        <th id=\"T_ceb817c0_ffe6_11ea_8b3f_52540079e29clevel0_row3\" class=\"row_heading level0 row3\" >rho</th>\n",
       "                        <td id=\"T_ceb817c0_ffe6_11ea_8b3f_52540079e29crow3_col0\" class=\"data row3 col0\" >0.160161</td>\n",
       "                        <td id=\"T_ceb817c0_ffe6_11ea_8b3f_52540079e29crow3_col1\" class=\"data row3 col1\" >0.760622</td>\n",
       "                        <td id=\"T_ceb817c0_ffe6_11ea_8b3f_52540079e29crow3_col2\" class=\"data row3 col2\" >0.767980</td>\n",
       "                        <td id=\"T_ceb817c0_ffe6_11ea_8b3f_52540079e29crow3_col3\" class=\"data row3 col3\" >1.000000</td>\n",
       "                        <td id=\"T_ceb817c0_ffe6_11ea_8b3f_52540079e29crow3_col4\" class=\"data row3 col4\" >0.050690</td>\n",
       "                        <td id=\"T_ceb817c0_ffe6_11ea_8b3f_52540079e29crow3_col5\" class=\"data row3 col5\" >-0.151769</td>\n",
       "                        <td id=\"T_ceb817c0_ffe6_11ea_8b3f_52540079e29crow3_col6\" class=\"data row3 col6\" >-0.097947</td>\n",
       "                        <td id=\"T_ceb817c0_ffe6_11ea_8b3f_52540079e29crow3_col7\" class=\"data row3 col7\" >-0.355133</td>\n",
       "                        <td id=\"T_ceb817c0_ffe6_11ea_8b3f_52540079e29crow3_col8\" class=\"data row3 col8\" >-0.317461</td>\n",
       "                        <td id=\"T_ceb817c0_ffe6_11ea_8b3f_52540079e29crow3_col9\" class=\"data row3 col9\" >-0.325879</td>\n",
       "                        <td id=\"T_ceb817c0_ffe6_11ea_8b3f_52540079e29crow3_col10\" class=\"data row3 col10\" >0.092481</td>\n",
       "                        <td id=\"T_ceb817c0_ffe6_11ea_8b3f_52540079e29crow3_col11\" class=\"data row3 col11\" >-0.135342</td>\n",
       "                        <td id=\"T_ceb817c0_ffe6_11ea_8b3f_52540079e29crow3_col12\" class=\"data row3 col12\" >0.038513</td>\n",
       "                        <td id=\"T_ceb817c0_ffe6_11ea_8b3f_52540079e29crow3_col13\" class=\"data row3 col13\" >-0.386676</td>\n",
       "                        <td id=\"T_ceb817c0_ffe6_11ea_8b3f_52540079e29crow3_col14\" class=\"data row3 col14\" >-0.457336</td>\n",
       "                        <td id=\"T_ceb817c0_ffe6_11ea_8b3f_52540079e29crow3_col15\" class=\"data row3 col15\" >-0.124770</td>\n",
       "                        <td id=\"T_ceb817c0_ffe6_11ea_8b3f_52540079e29crow3_col16\" class=\"data row3 col16\" >-0.172074</td>\n",
       "            </tr>\n",
       "            <tr>\n",
       "                        <th id=\"T_ceb817c0_ffe6_11ea_8b3f_52540079e29clevel0_row4\" class=\"row_heading level0 row4\" >sigma</th>\n",
       "                        <td id=\"T_ceb817c0_ffe6_11ea_8b3f_52540079e29crow4_col0\" class=\"data row4 col0\" >-0.229443</td>\n",
       "                        <td id=\"T_ceb817c0_ffe6_11ea_8b3f_52540079e29crow4_col1\" class=\"data row4 col1\" >-0.034373</td>\n",
       "                        <td id=\"T_ceb817c0_ffe6_11ea_8b3f_52540079e29crow4_col2\" class=\"data row4 col2\" >-0.095546</td>\n",
       "                        <td id=\"T_ceb817c0_ffe6_11ea_8b3f_52540079e29crow4_col3\" class=\"data row4 col3\" >0.050690</td>\n",
       "                        <td id=\"T_ceb817c0_ffe6_11ea_8b3f_52540079e29crow4_col4\" class=\"data row4 col4\" >1.000000</td>\n",
       "                        <td id=\"T_ceb817c0_ffe6_11ea_8b3f_52540079e29crow4_col5\" class=\"data row4 col5\" >0.205133</td>\n",
       "                        <td id=\"T_ceb817c0_ffe6_11ea_8b3f_52540079e29crow4_col6\" class=\"data row4 col6\" >0.040196</td>\n",
       "                        <td id=\"T_ceb817c0_ffe6_11ea_8b3f_52540079e29crow4_col7\" class=\"data row4 col7\" >0.058067</td>\n",
       "                        <td id=\"T_ceb817c0_ffe6_11ea_8b3f_52540079e29crow4_col8\" class=\"data row4 col8\" >-0.136006</td>\n",
       "                        <td id=\"T_ceb817c0_ffe6_11ea_8b3f_52540079e29crow4_col9\" class=\"data row4 col9\" >-0.049035</td>\n",
       "                        <td id=\"T_ceb817c0_ffe6_11ea_8b3f_52540079e29crow4_col10\" class=\"data row4 col10\" >0.003151</td>\n",
       "                        <td id=\"T_ceb817c0_ffe6_11ea_8b3f_52540079e29crow4_col11\" class=\"data row4 col11\" >-0.116633</td>\n",
       "                        <td id=\"T_ceb817c0_ffe6_11ea_8b3f_52540079e29crow4_col12\" class=\"data row4 col12\" >-0.090252</td>\n",
       "                        <td id=\"T_ceb817c0_ffe6_11ea_8b3f_52540079e29crow4_col13\" class=\"data row4 col13\" >0.079486</td>\n",
       "                        <td id=\"T_ceb817c0_ffe6_11ea_8b3f_52540079e29crow4_col14\" class=\"data row4 col14\" >-0.126837</td>\n",
       "                        <td id=\"T_ceb817c0_ffe6_11ea_8b3f_52540079e29crow4_col15\" class=\"data row4 col15\" >0.154993</td>\n",
       "                        <td id=\"T_ceb817c0_ffe6_11ea_8b3f_52540079e29crow4_col16\" class=\"data row4 col16\" >0.079393</td>\n",
       "            </tr>\n",
       "            <tr>\n",
       "                        <th id=\"T_ceb817c0_ffe6_11ea_8b3f_52540079e29clevel0_row5\" class=\"row_heading level0 row5\" >School_closing</th>\n",
       "                        <td id=\"T_ceb817c0_ffe6_11ea_8b3f_52540079e29crow5_col0\" class=\"data row5 col0\" >-0.042179</td>\n",
       "                        <td id=\"T_ceb817c0_ffe6_11ea_8b3f_52540079e29crow5_col1\" class=\"data row5 col1\" >-0.197517</td>\n",
       "                        <td id=\"T_ceb817c0_ffe6_11ea_8b3f_52540079e29crow5_col2\" class=\"data row5 col2\" >-0.228092</td>\n",
       "                        <td id=\"T_ceb817c0_ffe6_11ea_8b3f_52540079e29crow5_col3\" class=\"data row5 col3\" >-0.151769</td>\n",
       "                        <td id=\"T_ceb817c0_ffe6_11ea_8b3f_52540079e29crow5_col4\" class=\"data row5 col4\" >0.205133</td>\n",
       "                        <td id=\"T_ceb817c0_ffe6_11ea_8b3f_52540079e29crow5_col5\" class=\"data row5 col5\" >1.000000</td>\n",
       "                        <td id=\"T_ceb817c0_ffe6_11ea_8b3f_52540079e29crow5_col6\" class=\"data row5 col6\" >0.733026</td>\n",
       "                        <td id=\"T_ceb817c0_ffe6_11ea_8b3f_52540079e29crow5_col7\" class=\"data row5 col7\" >0.707388</td>\n",
       "                        <td id=\"T_ceb817c0_ffe6_11ea_8b3f_52540079e29crow5_col8\" class=\"data row5 col8\" >0.655973</td>\n",
       "                        <td id=\"T_ceb817c0_ffe6_11ea_8b3f_52540079e29crow5_col9\" class=\"data row5 col9\" >0.566339</td>\n",
       "                        <td id=\"T_ceb817c0_ffe6_11ea_8b3f_52540079e29crow5_col10\" class=\"data row5 col10\" >0.558130</td>\n",
       "                        <td id=\"T_ceb817c0_ffe6_11ea_8b3f_52540079e29crow5_col11\" class=\"data row5 col11\" >0.527089</td>\n",
       "                        <td id=\"T_ceb817c0_ffe6_11ea_8b3f_52540079e29crow5_col12\" class=\"data row5 col12\" >0.429864</td>\n",
       "                        <td id=\"T_ceb817c0_ffe6_11ea_8b3f_52540079e29crow5_col13\" class=\"data row5 col13\" >0.696957</td>\n",
       "                        <td id=\"T_ceb817c0_ffe6_11ea_8b3f_52540079e29crow5_col14\" class=\"data row5 col14\" >0.491739</td>\n",
       "                        <td id=\"T_ceb817c0_ffe6_11ea_8b3f_52540079e29crow5_col15\" class=\"data row5 col15\" >0.267734</td>\n",
       "                        <td id=\"T_ceb817c0_ffe6_11ea_8b3f_52540079e29crow5_col16\" class=\"data row5 col16\" >0.807796</td>\n",
       "            </tr>\n",
       "            <tr>\n",
       "                        <th id=\"T_ceb817c0_ffe6_11ea_8b3f_52540079e29clevel0_row6\" class=\"row_heading level0 row6\" >Workplace_closing</th>\n",
       "                        <td id=\"T_ceb817c0_ffe6_11ea_8b3f_52540079e29crow6_col0\" class=\"data row6 col0\" >0.064373</td>\n",
       "                        <td id=\"T_ceb817c0_ffe6_11ea_8b3f_52540079e29crow6_col1\" class=\"data row6 col1\" >-0.115158</td>\n",
       "                        <td id=\"T_ceb817c0_ffe6_11ea_8b3f_52540079e29crow6_col2\" class=\"data row6 col2\" >-0.157012</td>\n",
       "                        <td id=\"T_ceb817c0_ffe6_11ea_8b3f_52540079e29crow6_col3\" class=\"data row6 col3\" >-0.097947</td>\n",
       "                        <td id=\"T_ceb817c0_ffe6_11ea_8b3f_52540079e29crow6_col4\" class=\"data row6 col4\" >0.040196</td>\n",
       "                        <td id=\"T_ceb817c0_ffe6_11ea_8b3f_52540079e29crow6_col5\" class=\"data row6 col5\" >0.733026</td>\n",
       "                        <td id=\"T_ceb817c0_ffe6_11ea_8b3f_52540079e29crow6_col6\" class=\"data row6 col6\" >1.000000</td>\n",
       "                        <td id=\"T_ceb817c0_ffe6_11ea_8b3f_52540079e29crow6_col7\" class=\"data row6 col7\" >0.726142</td>\n",
       "                        <td id=\"T_ceb817c0_ffe6_11ea_8b3f_52540079e29crow6_col8\" class=\"data row6 col8\" >0.771059</td>\n",
       "                        <td id=\"T_ceb817c0_ffe6_11ea_8b3f_52540079e29crow6_col9\" class=\"data row6 col9\" >0.682014</td>\n",
       "                        <td id=\"T_ceb817c0_ffe6_11ea_8b3f_52540079e29crow6_col10\" class=\"data row6 col10\" >0.668853</td>\n",
       "                        <td id=\"T_ceb817c0_ffe6_11ea_8b3f_52540079e29crow6_col11\" class=\"data row6 col11\" >0.648680</td>\n",
       "                        <td id=\"T_ceb817c0_ffe6_11ea_8b3f_52540079e29crow6_col12\" class=\"data row6 col12\" >0.481247</td>\n",
       "                        <td id=\"T_ceb817c0_ffe6_11ea_8b3f_52540079e29crow6_col13\" class=\"data row6 col13\" >0.786193</td>\n",
       "                        <td id=\"T_ceb817c0_ffe6_11ea_8b3f_52540079e29crow6_col14\" class=\"data row6 col14\" >0.489723</td>\n",
       "                        <td id=\"T_ceb817c0_ffe6_11ea_8b3f_52540079e29crow6_col15\" class=\"data row6 col15\" >0.332263</td>\n",
       "                        <td id=\"T_ceb817c0_ffe6_11ea_8b3f_52540079e29crow6_col16\" class=\"data row6 col16\" >0.894898</td>\n",
       "            </tr>\n",
       "            <tr>\n",
       "                        <th id=\"T_ceb817c0_ffe6_11ea_8b3f_52540079e29clevel0_row7\" class=\"row_heading level0 row7\" >Cancel_events</th>\n",
       "                        <td id=\"T_ceb817c0_ffe6_11ea_8b3f_52540079e29crow7_col0\" class=\"data row7 col0\" >-0.024745</td>\n",
       "                        <td id=\"T_ceb817c0_ffe6_11ea_8b3f_52540079e29crow7_col1\" class=\"data row7 col1\" >-0.289926</td>\n",
       "                        <td id=\"T_ceb817c0_ffe6_11ea_8b3f_52540079e29crow7_col2\" class=\"data row7 col2\" >-0.311667</td>\n",
       "                        <td id=\"T_ceb817c0_ffe6_11ea_8b3f_52540079e29crow7_col3\" class=\"data row7 col3\" >-0.355133</td>\n",
       "                        <td id=\"T_ceb817c0_ffe6_11ea_8b3f_52540079e29crow7_col4\" class=\"data row7 col4\" >0.058067</td>\n",
       "                        <td id=\"T_ceb817c0_ffe6_11ea_8b3f_52540079e29crow7_col5\" class=\"data row7 col5\" >0.707388</td>\n",
       "                        <td id=\"T_ceb817c0_ffe6_11ea_8b3f_52540079e29crow7_col6\" class=\"data row7 col6\" >0.726142</td>\n",
       "                        <td id=\"T_ceb817c0_ffe6_11ea_8b3f_52540079e29crow7_col7\" class=\"data row7 col7\" >1.000000</td>\n",
       "                        <td id=\"T_ceb817c0_ffe6_11ea_8b3f_52540079e29crow7_col8\" class=\"data row7 col8\" >0.816780</td>\n",
       "                        <td id=\"T_ceb817c0_ffe6_11ea_8b3f_52540079e29crow7_col9\" class=\"data row7 col9\" >0.532117</td>\n",
       "                        <td id=\"T_ceb817c0_ffe6_11ea_8b3f_52540079e29crow7_col10\" class=\"data row7 col10\" >0.521073</td>\n",
       "                        <td id=\"T_ceb817c0_ffe6_11ea_8b3f_52540079e29crow7_col11\" class=\"data row7 col11\" >0.623231</td>\n",
       "                        <td id=\"T_ceb817c0_ffe6_11ea_8b3f_52540079e29crow7_col12\" class=\"data row7 col12\" >0.540773</td>\n",
       "                        <td id=\"T_ceb817c0_ffe6_11ea_8b3f_52540079e29crow7_col13\" class=\"data row7 col13\" >0.895256</td>\n",
       "                        <td id=\"T_ceb817c0_ffe6_11ea_8b3f_52540079e29crow7_col14\" class=\"data row7 col14\" >0.666265</td>\n",
       "                        <td id=\"T_ceb817c0_ffe6_11ea_8b3f_52540079e29crow7_col15\" class=\"data row7 col15\" >0.612571</td>\n",
       "                        <td id=\"T_ceb817c0_ffe6_11ea_8b3f_52540079e29crow7_col16\" class=\"data row7 col16\" >0.852289</td>\n",
       "            </tr>\n",
       "            <tr>\n",
       "                        <th id=\"T_ceb817c0_ffe6_11ea_8b3f_52540079e29clevel0_row8\" class=\"row_heading level0 row8\" >Gatherings_restrictions</th>\n",
       "                        <td id=\"T_ceb817c0_ffe6_11ea_8b3f_52540079e29crow8_col0\" class=\"data row8 col0\" >-0.027392</td>\n",
       "                        <td id=\"T_ceb817c0_ffe6_11ea_8b3f_52540079e29crow8_col1\" class=\"data row8 col1\" >-0.287728</td>\n",
       "                        <td id=\"T_ceb817c0_ffe6_11ea_8b3f_52540079e29crow8_col2\" class=\"data row8 col2\" >-0.288804</td>\n",
       "                        <td id=\"T_ceb817c0_ffe6_11ea_8b3f_52540079e29crow8_col3\" class=\"data row8 col3\" >-0.317461</td>\n",
       "                        <td id=\"T_ceb817c0_ffe6_11ea_8b3f_52540079e29crow8_col4\" class=\"data row8 col4\" >-0.136006</td>\n",
       "                        <td id=\"T_ceb817c0_ffe6_11ea_8b3f_52540079e29crow8_col5\" class=\"data row8 col5\" >0.655973</td>\n",
       "                        <td id=\"T_ceb817c0_ffe6_11ea_8b3f_52540079e29crow8_col6\" class=\"data row8 col6\" >0.771059</td>\n",
       "                        <td id=\"T_ceb817c0_ffe6_11ea_8b3f_52540079e29crow8_col7\" class=\"data row8 col7\" >0.816780</td>\n",
       "                        <td id=\"T_ceb817c0_ffe6_11ea_8b3f_52540079e29crow8_col8\" class=\"data row8 col8\" >1.000000</td>\n",
       "                        <td id=\"T_ceb817c0_ffe6_11ea_8b3f_52540079e29crow8_col9\" class=\"data row8 col9\" >0.774630</td>\n",
       "                        <td id=\"T_ceb817c0_ffe6_11ea_8b3f_52540079e29crow8_col10\" class=\"data row8 col10\" >0.650773</td>\n",
       "                        <td id=\"T_ceb817c0_ffe6_11ea_8b3f_52540079e29crow8_col11\" class=\"data row8 col11\" >0.749009</td>\n",
       "                        <td id=\"T_ceb817c0_ffe6_11ea_8b3f_52540079e29crow8_col12\" class=\"data row8 col12\" >0.586698</td>\n",
       "                        <td id=\"T_ceb817c0_ffe6_11ea_8b3f_52540079e29crow8_col13\" class=\"data row8 col13\" >0.834414</td>\n",
       "                        <td id=\"T_ceb817c0_ffe6_11ea_8b3f_52540079e29crow8_col14\" class=\"data row8 col14\" >0.709147</td>\n",
       "                        <td id=\"T_ceb817c0_ffe6_11ea_8b3f_52540079e29crow8_col15\" class=\"data row8 col15\" >0.403856</td>\n",
       "                        <td id=\"T_ceb817c0_ffe6_11ea_8b3f_52540079e29crow8_col16\" class=\"data row8 col16\" >0.884530</td>\n",
       "            </tr>\n",
       "            <tr>\n",
       "                        <th id=\"T_ceb817c0_ffe6_11ea_8b3f_52540079e29clevel0_row9\" class=\"row_heading level0 row9\" >Transport_closing</th>\n",
       "                        <td id=\"T_ceb817c0_ffe6_11ea_8b3f_52540079e29crow9_col0\" class=\"data row9 col0\" >-0.151145</td>\n",
       "                        <td id=\"T_ceb817c0_ffe6_11ea_8b3f_52540079e29crow9_col1\" class=\"data row9 col1\" >-0.265377</td>\n",
       "                        <td id=\"T_ceb817c0_ffe6_11ea_8b3f_52540079e29crow9_col2\" class=\"data row9 col2\" >-0.270365</td>\n",
       "                        <td id=\"T_ceb817c0_ffe6_11ea_8b3f_52540079e29crow9_col3\" class=\"data row9 col3\" >-0.325879</td>\n",
       "                        <td id=\"T_ceb817c0_ffe6_11ea_8b3f_52540079e29crow9_col4\" class=\"data row9 col4\" >-0.049035</td>\n",
       "                        <td id=\"T_ceb817c0_ffe6_11ea_8b3f_52540079e29crow9_col5\" class=\"data row9 col5\" >0.566339</td>\n",
       "                        <td id=\"T_ceb817c0_ffe6_11ea_8b3f_52540079e29crow9_col6\" class=\"data row9 col6\" >0.682014</td>\n",
       "                        <td id=\"T_ceb817c0_ffe6_11ea_8b3f_52540079e29crow9_col7\" class=\"data row9 col7\" >0.532117</td>\n",
       "                        <td id=\"T_ceb817c0_ffe6_11ea_8b3f_52540079e29crow9_col8\" class=\"data row9 col8\" >0.774630</td>\n",
       "                        <td id=\"T_ceb817c0_ffe6_11ea_8b3f_52540079e29crow9_col9\" class=\"data row9 col9\" >1.000000</td>\n",
       "                        <td id=\"T_ceb817c0_ffe6_11ea_8b3f_52540079e29crow9_col10\" class=\"data row9 col10\" >0.656836</td>\n",
       "                        <td id=\"T_ceb817c0_ffe6_11ea_8b3f_52540079e29crow9_col11\" class=\"data row9 col11\" >0.733256</td>\n",
       "                        <td id=\"T_ceb817c0_ffe6_11ea_8b3f_52540079e29crow9_col12\" class=\"data row9 col12\" >0.462613</td>\n",
       "                        <td id=\"T_ceb817c0_ffe6_11ea_8b3f_52540079e29crow9_col13\" class=\"data row9 col13\" >0.576489</td>\n",
       "                        <td id=\"T_ceb817c0_ffe6_11ea_8b3f_52540079e29crow9_col14\" class=\"data row9 col14\" >0.582676</td>\n",
       "                        <td id=\"T_ceb817c0_ffe6_11ea_8b3f_52540079e29crow9_col15\" class=\"data row9 col15\" >0.150750</td>\n",
       "                        <td id=\"T_ceb817c0_ffe6_11ea_8b3f_52540079e29crow9_col16\" class=\"data row9 col16\" >0.762813</td>\n",
       "            </tr>\n",
       "            <tr>\n",
       "                        <th id=\"T_ceb817c0_ffe6_11ea_8b3f_52540079e29clevel0_row10\" class=\"row_heading level0 row10\" >Stay_home_restrictions</th>\n",
       "                        <td id=\"T_ceb817c0_ffe6_11ea_8b3f_52540079e29crow10_col0\" class=\"data row10 col0\" >-0.213759</td>\n",
       "                        <td id=\"T_ceb817c0_ffe6_11ea_8b3f_52540079e29crow10_col1\" class=\"data row10 col1\" >0.162046</td>\n",
       "                        <td id=\"T_ceb817c0_ffe6_11ea_8b3f_52540079e29crow10_col2\" class=\"data row10 col2\" >0.155535</td>\n",
       "                        <td id=\"T_ceb817c0_ffe6_11ea_8b3f_52540079e29crow10_col3\" class=\"data row10 col3\" >0.092481</td>\n",
       "                        <td id=\"T_ceb817c0_ffe6_11ea_8b3f_52540079e29crow10_col4\" class=\"data row10 col4\" >0.003151</td>\n",
       "                        <td id=\"T_ceb817c0_ffe6_11ea_8b3f_52540079e29crow10_col5\" class=\"data row10 col5\" >0.558130</td>\n",
       "                        <td id=\"T_ceb817c0_ffe6_11ea_8b3f_52540079e29crow10_col6\" class=\"data row10 col6\" >0.668853</td>\n",
       "                        <td id=\"T_ceb817c0_ffe6_11ea_8b3f_52540079e29crow10_col7\" class=\"data row10 col7\" >0.521073</td>\n",
       "                        <td id=\"T_ceb817c0_ffe6_11ea_8b3f_52540079e29crow10_col8\" class=\"data row10 col8\" >0.650773</td>\n",
       "                        <td id=\"T_ceb817c0_ffe6_11ea_8b3f_52540079e29crow10_col9\" class=\"data row10 col9\" >0.656836</td>\n",
       "                        <td id=\"T_ceb817c0_ffe6_11ea_8b3f_52540079e29crow10_col10\" class=\"data row10 col10\" >1.000000</td>\n",
       "                        <td id=\"T_ceb817c0_ffe6_11ea_8b3f_52540079e29crow10_col11\" class=\"data row10 col11\" >0.775175</td>\n",
       "                        <td id=\"T_ceb817c0_ffe6_11ea_8b3f_52540079e29crow10_col12\" class=\"data row10 col12\" >0.585700</td>\n",
       "                        <td id=\"T_ceb817c0_ffe6_11ea_8b3f_52540079e29crow10_col13\" class=\"data row10 col13\" >0.488768</td>\n",
       "                        <td id=\"T_ceb817c0_ffe6_11ea_8b3f_52540079e29crow10_col14\" class=\"data row10 col14\" >0.411823</td>\n",
       "                        <td id=\"T_ceb817c0_ffe6_11ea_8b3f_52540079e29crow10_col15\" class=\"data row10 col15\" >0.450817</td>\n",
       "                        <td id=\"T_ceb817c0_ffe6_11ea_8b3f_52540079e29crow10_col16\" class=\"data row10 col16\" >0.775916</td>\n",
       "            </tr>\n",
       "            <tr>\n",
       "                        <th id=\"T_ceb817c0_ffe6_11ea_8b3f_52540079e29clevel0_row11\" class=\"row_heading level0 row11\" >Internal_movement_restrictions</th>\n",
       "                        <td id=\"T_ceb817c0_ffe6_11ea_8b3f_52540079e29crow11_col0\" class=\"data row11 col0\" >-0.142964</td>\n",
       "                        <td id=\"T_ceb817c0_ffe6_11ea_8b3f_52540079e29crow11_col1\" class=\"data row11 col1\" >-0.041204</td>\n",
       "                        <td id=\"T_ceb817c0_ffe6_11ea_8b3f_52540079e29crow11_col2\" class=\"data row11 col2\" >-0.055888</td>\n",
       "                        <td id=\"T_ceb817c0_ffe6_11ea_8b3f_52540079e29crow11_col3\" class=\"data row11 col3\" >-0.135342</td>\n",
       "                        <td id=\"T_ceb817c0_ffe6_11ea_8b3f_52540079e29crow11_col4\" class=\"data row11 col4\" >-0.116633</td>\n",
       "                        <td id=\"T_ceb817c0_ffe6_11ea_8b3f_52540079e29crow11_col5\" class=\"data row11 col5\" >0.527089</td>\n",
       "                        <td id=\"T_ceb817c0_ffe6_11ea_8b3f_52540079e29crow11_col6\" class=\"data row11 col6\" >0.648680</td>\n",
       "                        <td id=\"T_ceb817c0_ffe6_11ea_8b3f_52540079e29crow11_col7\" class=\"data row11 col7\" >0.623231</td>\n",
       "                        <td id=\"T_ceb817c0_ffe6_11ea_8b3f_52540079e29crow11_col8\" class=\"data row11 col8\" >0.749009</td>\n",
       "                        <td id=\"T_ceb817c0_ffe6_11ea_8b3f_52540079e29crow11_col9\" class=\"data row11 col9\" >0.733256</td>\n",
       "                        <td id=\"T_ceb817c0_ffe6_11ea_8b3f_52540079e29crow11_col10\" class=\"data row11 col10\" >0.775175</td>\n",
       "                        <td id=\"T_ceb817c0_ffe6_11ea_8b3f_52540079e29crow11_col11\" class=\"data row11 col11\" >1.000000</td>\n",
       "                        <td id=\"T_ceb817c0_ffe6_11ea_8b3f_52540079e29crow11_col12\" class=\"data row11 col12\" >0.550834</td>\n",
       "                        <td id=\"T_ceb817c0_ffe6_11ea_8b3f_52540079e29crow11_col13\" class=\"data row11 col13\" >0.583701</td>\n",
       "                        <td id=\"T_ceb817c0_ffe6_11ea_8b3f_52540079e29crow11_col14\" class=\"data row11 col14\" >0.513801</td>\n",
       "                        <td id=\"T_ceb817c0_ffe6_11ea_8b3f_52540079e29crow11_col15\" class=\"data row11 col15\" >0.391069</td>\n",
       "                        <td id=\"T_ceb817c0_ffe6_11ea_8b3f_52540079e29crow11_col16\" class=\"data row11 col16\" >0.775176</td>\n",
       "            </tr>\n",
       "            <tr>\n",
       "                        <th id=\"T_ceb817c0_ffe6_11ea_8b3f_52540079e29clevel0_row12\" class=\"row_heading level0 row12\" >International_movement_restrictions</th>\n",
       "                        <td id=\"T_ceb817c0_ffe6_11ea_8b3f_52540079e29crow12_col0\" class=\"data row12 col0\" >-0.170872</td>\n",
       "                        <td id=\"T_ceb817c0_ffe6_11ea_8b3f_52540079e29crow12_col1\" class=\"data row12 col1\" >0.203343</td>\n",
       "                        <td id=\"T_ceb817c0_ffe6_11ea_8b3f_52540079e29crow12_col2\" class=\"data row12 col2\" >0.223436</td>\n",
       "                        <td id=\"T_ceb817c0_ffe6_11ea_8b3f_52540079e29crow12_col3\" class=\"data row12 col3\" >0.038513</td>\n",
       "                        <td id=\"T_ceb817c0_ffe6_11ea_8b3f_52540079e29crow12_col4\" class=\"data row12 col4\" >-0.090252</td>\n",
       "                        <td id=\"T_ceb817c0_ffe6_11ea_8b3f_52540079e29crow12_col5\" class=\"data row12 col5\" >0.429864</td>\n",
       "                        <td id=\"T_ceb817c0_ffe6_11ea_8b3f_52540079e29crow12_col6\" class=\"data row12 col6\" >0.481247</td>\n",
       "                        <td id=\"T_ceb817c0_ffe6_11ea_8b3f_52540079e29crow12_col7\" class=\"data row12 col7\" >0.540773</td>\n",
       "                        <td id=\"T_ceb817c0_ffe6_11ea_8b3f_52540079e29crow12_col8\" class=\"data row12 col8\" >0.586698</td>\n",
       "                        <td id=\"T_ceb817c0_ffe6_11ea_8b3f_52540079e29crow12_col9\" class=\"data row12 col9\" >0.462613</td>\n",
       "                        <td id=\"T_ceb817c0_ffe6_11ea_8b3f_52540079e29crow12_col10\" class=\"data row12 col10\" >0.585700</td>\n",
       "                        <td id=\"T_ceb817c0_ffe6_11ea_8b3f_52540079e29crow12_col11\" class=\"data row12 col11\" >0.550834</td>\n",
       "                        <td id=\"T_ceb817c0_ffe6_11ea_8b3f_52540079e29crow12_col12\" class=\"data row12 col12\" >1.000000</td>\n",
       "                        <td id=\"T_ceb817c0_ffe6_11ea_8b3f_52540079e29crow12_col13\" class=\"data row12 col13\" >0.499702</td>\n",
       "                        <td id=\"T_ceb817c0_ffe6_11ea_8b3f_52540079e29crow12_col14\" class=\"data row12 col14\" >0.578585</td>\n",
       "                        <td id=\"T_ceb817c0_ffe6_11ea_8b3f_52540079e29crow12_col15\" class=\"data row12 col15\" >0.516397</td>\n",
       "                        <td id=\"T_ceb817c0_ffe6_11ea_8b3f_52540079e29crow12_col16\" class=\"data row12 col16\" >0.649181</td>\n",
       "            </tr>\n",
       "            <tr>\n",
       "                        <th id=\"T_ceb817c0_ffe6_11ea_8b3f_52540079e29clevel0_row13\" class=\"row_heading level0 row13\" >Information_campaigns</th>\n",
       "                        <td id=\"T_ceb817c0_ffe6_11ea_8b3f_52540079e29crow13_col0\" class=\"data row13 col0\" >-0.006390</td>\n",
       "                        <td id=\"T_ceb817c0_ffe6_11ea_8b3f_52540079e29crow13_col1\" class=\"data row13 col1\" >-0.336556</td>\n",
       "                        <td id=\"T_ceb817c0_ffe6_11ea_8b3f_52540079e29crow13_col2\" class=\"data row13 col2\" >-0.359980</td>\n",
       "                        <td id=\"T_ceb817c0_ffe6_11ea_8b3f_52540079e29crow13_col3\" class=\"data row13 col3\" >-0.386676</td>\n",
       "                        <td id=\"T_ceb817c0_ffe6_11ea_8b3f_52540079e29crow13_col4\" class=\"data row13 col4\" >0.079486</td>\n",
       "                        <td id=\"T_ceb817c0_ffe6_11ea_8b3f_52540079e29crow13_col5\" class=\"data row13 col5\" >0.696957</td>\n",
       "                        <td id=\"T_ceb817c0_ffe6_11ea_8b3f_52540079e29crow13_col6\" class=\"data row13 col6\" >0.786193</td>\n",
       "                        <td id=\"T_ceb817c0_ffe6_11ea_8b3f_52540079e29crow13_col7\" class=\"data row13 col7\" >0.895256</td>\n",
       "                        <td id=\"T_ceb817c0_ffe6_11ea_8b3f_52540079e29crow13_col8\" class=\"data row13 col8\" >0.834414</td>\n",
       "                        <td id=\"T_ceb817c0_ffe6_11ea_8b3f_52540079e29crow13_col9\" class=\"data row13 col9\" >0.576489</td>\n",
       "                        <td id=\"T_ceb817c0_ffe6_11ea_8b3f_52540079e29crow13_col10\" class=\"data row13 col10\" >0.488768</td>\n",
       "                        <td id=\"T_ceb817c0_ffe6_11ea_8b3f_52540079e29crow13_col11\" class=\"data row13 col11\" >0.583701</td>\n",
       "                        <td id=\"T_ceb817c0_ffe6_11ea_8b3f_52540079e29crow13_col12\" class=\"data row13 col12\" >0.499702</td>\n",
       "                        <td id=\"T_ceb817c0_ffe6_11ea_8b3f_52540079e29crow13_col13\" class=\"data row13 col13\" >1.000000</td>\n",
       "                        <td id=\"T_ceb817c0_ffe6_11ea_8b3f_52540079e29crow13_col14\" class=\"data row13 col14\" >0.670385</td>\n",
       "                        <td id=\"T_ceb817c0_ffe6_11ea_8b3f_52540079e29crow13_col15\" class=\"data row13 col15\" >0.562563</td>\n",
       "                        <td id=\"T_ceb817c0_ffe6_11ea_8b3f_52540079e29crow13_col16\" class=\"data row13 col16\" >0.861001</td>\n",
       "            </tr>\n",
       "            <tr>\n",
       "                        <th id=\"T_ceb817c0_ffe6_11ea_8b3f_52540079e29clevel0_row14\" class=\"row_heading level0 row14\" >Testing_policy</th>\n",
       "                        <td id=\"T_ceb817c0_ffe6_11ea_8b3f_52540079e29crow14_col0\" class=\"data row14 col0\" >-0.074609</td>\n",
       "                        <td id=\"T_ceb817c0_ffe6_11ea_8b3f_52540079e29crow14_col1\" class=\"data row14 col1\" >-0.371422</td>\n",
       "                        <td id=\"T_ceb817c0_ffe6_11ea_8b3f_52540079e29crow14_col2\" class=\"data row14 col2\" >-0.315959</td>\n",
       "                        <td id=\"T_ceb817c0_ffe6_11ea_8b3f_52540079e29crow14_col3\" class=\"data row14 col3\" >-0.457336</td>\n",
       "                        <td id=\"T_ceb817c0_ffe6_11ea_8b3f_52540079e29crow14_col4\" class=\"data row14 col4\" >-0.126837</td>\n",
       "                        <td id=\"T_ceb817c0_ffe6_11ea_8b3f_52540079e29crow14_col5\" class=\"data row14 col5\" >0.491739</td>\n",
       "                        <td id=\"T_ceb817c0_ffe6_11ea_8b3f_52540079e29crow14_col6\" class=\"data row14 col6\" >0.489723</td>\n",
       "                        <td id=\"T_ceb817c0_ffe6_11ea_8b3f_52540079e29crow14_col7\" class=\"data row14 col7\" >0.666265</td>\n",
       "                        <td id=\"T_ceb817c0_ffe6_11ea_8b3f_52540079e29crow14_col8\" class=\"data row14 col8\" >0.709147</td>\n",
       "                        <td id=\"T_ceb817c0_ffe6_11ea_8b3f_52540079e29crow14_col9\" class=\"data row14 col9\" >0.582676</td>\n",
       "                        <td id=\"T_ceb817c0_ffe6_11ea_8b3f_52540079e29crow14_col10\" class=\"data row14 col10\" >0.411823</td>\n",
       "                        <td id=\"T_ceb817c0_ffe6_11ea_8b3f_52540079e29crow14_col11\" class=\"data row14 col11\" >0.513801</td>\n",
       "                        <td id=\"T_ceb817c0_ffe6_11ea_8b3f_52540079e29crow14_col12\" class=\"data row14 col12\" >0.578585</td>\n",
       "                        <td id=\"T_ceb817c0_ffe6_11ea_8b3f_52540079e29crow14_col13\" class=\"data row14 col13\" >0.670385</td>\n",
       "                        <td id=\"T_ceb817c0_ffe6_11ea_8b3f_52540079e29crow14_col14\" class=\"data row14 col14\" >1.000000</td>\n",
       "                        <td id=\"T_ceb817c0_ffe6_11ea_8b3f_52540079e29crow14_col15\" class=\"data row14 col15\" >0.411373</td>\n",
       "                        <td id=\"T_ceb817c0_ffe6_11ea_8b3f_52540079e29crow14_col16\" class=\"data row14 col16\" >0.576624</td>\n",
       "            </tr>\n",
       "            <tr>\n",
       "                        <th id=\"T_ceb817c0_ffe6_11ea_8b3f_52540079e29clevel0_row15\" class=\"row_heading level0 row15\" >Contact_tracing</th>\n",
       "                        <td id=\"T_ceb817c0_ffe6_11ea_8b3f_52540079e29crow15_col0\" class=\"data row15 col0\" >-0.159358</td>\n",
       "                        <td id=\"T_ceb817c0_ffe6_11ea_8b3f_52540079e29crow15_col1\" class=\"data row15 col1\" >0.006486</td>\n",
       "                        <td id=\"T_ceb817c0_ffe6_11ea_8b3f_52540079e29crow15_col2\" class=\"data row15 col2\" >0.006213</td>\n",
       "                        <td id=\"T_ceb817c0_ffe6_11ea_8b3f_52540079e29crow15_col3\" class=\"data row15 col3\" >-0.124770</td>\n",
       "                        <td id=\"T_ceb817c0_ffe6_11ea_8b3f_52540079e29crow15_col4\" class=\"data row15 col4\" >0.154993</td>\n",
       "                        <td id=\"T_ceb817c0_ffe6_11ea_8b3f_52540079e29crow15_col5\" class=\"data row15 col5\" >0.267734</td>\n",
       "                        <td id=\"T_ceb817c0_ffe6_11ea_8b3f_52540079e29crow15_col6\" class=\"data row15 col6\" >0.332263</td>\n",
       "                        <td id=\"T_ceb817c0_ffe6_11ea_8b3f_52540079e29crow15_col7\" class=\"data row15 col7\" >0.612571</td>\n",
       "                        <td id=\"T_ceb817c0_ffe6_11ea_8b3f_52540079e29crow15_col8\" class=\"data row15 col8\" >0.403856</td>\n",
       "                        <td id=\"T_ceb817c0_ffe6_11ea_8b3f_52540079e29crow15_col9\" class=\"data row15 col9\" >0.150750</td>\n",
       "                        <td id=\"T_ceb817c0_ffe6_11ea_8b3f_52540079e29crow15_col10\" class=\"data row15 col10\" >0.450817</td>\n",
       "                        <td id=\"T_ceb817c0_ffe6_11ea_8b3f_52540079e29crow15_col11\" class=\"data row15 col11\" >0.391069</td>\n",
       "                        <td id=\"T_ceb817c0_ffe6_11ea_8b3f_52540079e29crow15_col12\" class=\"data row15 col12\" >0.516397</td>\n",
       "                        <td id=\"T_ceb817c0_ffe6_11ea_8b3f_52540079e29crow15_col13\" class=\"data row15 col13\" >0.562563</td>\n",
       "                        <td id=\"T_ceb817c0_ffe6_11ea_8b3f_52540079e29crow15_col14\" class=\"data row15 col14\" >0.411373</td>\n",
       "                        <td id=\"T_ceb817c0_ffe6_11ea_8b3f_52540079e29crow15_col15\" class=\"data row15 col15\" >1.000000</td>\n",
       "                        <td id=\"T_ceb817c0_ffe6_11ea_8b3f_52540079e29crow15_col16\" class=\"data row15 col16\" >0.512027</td>\n",
       "            </tr>\n",
       "            <tr>\n",
       "                        <th id=\"T_ceb817c0_ffe6_11ea_8b3f_52540079e29clevel0_row16\" class=\"row_heading level0 row16\" >Stringency_index</th>\n",
       "                        <td id=\"T_ceb817c0_ffe6_11ea_8b3f_52540079e29crow16_col0\" class=\"data row16 col0\" >-0.082126</td>\n",
       "                        <td id=\"T_ceb817c0_ffe6_11ea_8b3f_52540079e29crow16_col1\" class=\"data row16 col1\" >-0.117347</td>\n",
       "                        <td id=\"T_ceb817c0_ffe6_11ea_8b3f_52540079e29crow16_col2\" class=\"data row16 col2\" >-0.157997</td>\n",
       "                        <td id=\"T_ceb817c0_ffe6_11ea_8b3f_52540079e29crow16_col3\" class=\"data row16 col3\" >-0.172074</td>\n",
       "                        <td id=\"T_ceb817c0_ffe6_11ea_8b3f_52540079e29crow16_col4\" class=\"data row16 col4\" >0.079393</td>\n",
       "                        <td id=\"T_ceb817c0_ffe6_11ea_8b3f_52540079e29crow16_col5\" class=\"data row16 col5\" >0.807796</td>\n",
       "                        <td id=\"T_ceb817c0_ffe6_11ea_8b3f_52540079e29crow16_col6\" class=\"data row16 col6\" >0.894898</td>\n",
       "                        <td id=\"T_ceb817c0_ffe6_11ea_8b3f_52540079e29crow16_col7\" class=\"data row16 col7\" >0.852289</td>\n",
       "                        <td id=\"T_ceb817c0_ffe6_11ea_8b3f_52540079e29crow16_col8\" class=\"data row16 col8\" >0.884530</td>\n",
       "                        <td id=\"T_ceb817c0_ffe6_11ea_8b3f_52540079e29crow16_col9\" class=\"data row16 col9\" >0.762813</td>\n",
       "                        <td id=\"T_ceb817c0_ffe6_11ea_8b3f_52540079e29crow16_col10\" class=\"data row16 col10\" >0.775916</td>\n",
       "                        <td id=\"T_ceb817c0_ffe6_11ea_8b3f_52540079e29crow16_col11\" class=\"data row16 col11\" >0.775176</td>\n",
       "                        <td id=\"T_ceb817c0_ffe6_11ea_8b3f_52540079e29crow16_col12\" class=\"data row16 col12\" >0.649181</td>\n",
       "                        <td id=\"T_ceb817c0_ffe6_11ea_8b3f_52540079e29crow16_col13\" class=\"data row16 col13\" >0.861001</td>\n",
       "                        <td id=\"T_ceb817c0_ffe6_11ea_8b3f_52540079e29crow16_col14\" class=\"data row16 col14\" >0.576624</td>\n",
       "                        <td id=\"T_ceb817c0_ffe6_11ea_8b3f_52540079e29crow16_col15\" class=\"data row16 col15\" >0.512027</td>\n",
       "                        <td id=\"T_ceb817c0_ffe6_11ea_8b3f_52540079e29crow16_col16\" class=\"data row16 col16\" >1.000000</td>\n",
       "            </tr>\n",
       "    </tbody></table>"
      ],
      "text/plain": [
       "<pandas.io.formats.style.Styler at 0x7f62c9d52850>"
      ]
     },
     "execution_count": 21,
     "metadata": {},
     "output_type": "execute_result"
    }
   ],
   "source": [
    "# Correlation\n",
    "df = track_df.copy()\n",
    "df.corr().style.background_gradient(axis=None)"
   ]
  },
  {
   "cell_type": "code",
   "execution_count": 22,
   "metadata": {
    "collapsed": false
   },
   "outputs": [
    {
     "data": {
      "image/png": "[encoded data removed]",
      "text/plain": [
       "<Figure size 432x288 with 1 Axes>"
      ]
     },
     "metadata": {},
     "output_type": "display_data"
    }
   ],
   "source": [
    "# Scatter plot of Stringency index and Rt\n",
    "df = track_df.copy()\n",
    "sns.scatterplot(data=df, x=\"Stringency_index\", y=\"Rt\", hue=\"Country\", legend=\"brief\", marker=\"+\")\n",
    "bbox_to_anchor=(1.02, 0)\n",
    "bbox_loc=\"lower left\"\n",
    "plt.legend(bbox_to_anchor=bbox_to_anchor, loc=bbox_loc, borderaxespad=0)\n",
    "plt.title(\"Relationship of Stringency index and reproduction number\")\n",
    "plt.ylabel(\"Reproduction number\")\n",
    "plt.xlabel(\"Stringency index\")\n",
    "plt.show()"
   ]
  }
 ],
 "metadata": {
  "kernelspec": {
   "display_name": "Python 3.8.2 64-bit ('.venv': venv)",
   "name": "python_defaultSpec_1597669925034"
  },
  "language_info": {
   "codemirror_mode": {
    "name": "ipython",
    "version": 3
   },
   "file_extension": ".py",
   "mimetype": "text/x-python",
   "name": "python",
   "nbconvert_exporter": "python",
   "pygments_lexer": "ipython3",
   "version": "3.8.2-final"
  }
 },
 "nbformat": 4,
 "nbformat_minor": 4
}
