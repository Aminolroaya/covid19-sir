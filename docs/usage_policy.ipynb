{
 "cells": [
  {
   "cell_type": "markdown",
   "metadata": {},
   "source": [
    "# Usage (details: policy measures)\n",
    "Here, we will analyse the relationship of policy measures and parameter values of SIR-derived ODE models. Policy measures are tracked by [Oxford Covid-19 Government Response Tracker (OxCGRT)](https://github.com/OxCGRT/covid-policy-tracker)."
   ]
  },
  {
   "cell_type": "markdown",
   "metadata": {},
   "source": [
    "## Preparation"
   ]
  },
  {
   "cell_type": "code",
   "execution_count": 1,
   "metadata": {
    "collapsed": false
   },
   "outputs": [],
   "source": [
    "# Standard users\n",
    "# !pip install covsirphy\n",
    "# Developers (Note: this notebook is in example directory)\n",
    "import os\n",
    "os.chdir(\"../\")"
   ]
  },
  {
   "cell_type": "code",
   "execution_count": 2,
   "metadata": {
    "collapsed": false
   },
   "outputs": [],
   "source": [
    "from pprint import pprint"
   ]
  },
  {
   "cell_type": "code",
   "execution_count": 3,
   "metadata": {
    "collapsed": false
   },
   "outputs": [
    {
     "data": {
      "text/plain": [
       "'2.10.0-delta.fix.307.refactor.291'"
      ]
     },
     "execution_count": 3,
     "metadata": {},
     "output_type": "execute_result"
    }
   ],
   "source": [
    "import covsirphy as cs\n",
    "cs.__version__"
   ]
  },
  {
   "cell_type": "code",
   "execution_count": 4,
   "metadata": {
    "collapsed": false,
    "tags": []
   },
   "outputs": [
    {
     "name": "stdout",
     "output_type": "stream",
     "text": [
      "(Secondary source) Guidotti, E., Ardia, D., (2020), \"COVID-19 Data Hub\", Journal of Open Source Software 5(51):2376, doi: 10.21105/joss.02376.\n"
     ]
    }
   ],
   "source": [
    "# Standard users and developers\n",
    "data_loader = cs.DataLoader(\"input\")\n",
    "# The number of cases (JHU style)\n",
    "jhu_data = data_loader.jhu(verbose=False)\n",
    "# Population in each country\n",
    "population_data = data_loader.population(verbose=False)\n",
    "# Government Response Tracker (OxCGRT)\n",
    "oxcgrt_data = data_loader.oxcgrt(verbose=False)\n",
    "# Description/citation\n",
    "print(oxcgrt_data.citation)"
   ]
  },
  {
   "cell_type": "markdown",
   "metadata": {},
   "source": [
    "## Class for policy measure analysis\n",
    "We will `PolicyMeasures` class to find relationship of policy measures and parameter values of SIR-derived ODE models."
   ]
  },
  {
   "cell_type": "code",
   "execution_count": 5,
   "metadata": {
    "collapsed": false,
    "tags": []
   },
   "outputs": [
    {
     "data": {
      "text/plain": [
       "184"
      ]
     },
     "execution_count": 5,
     "metadata": {},
     "output_type": "execute_result"
    }
   ],
   "source": [
    "# Create analyser with tau value 360 [min] (can be changed)\n",
    "analyser = cs.PolicyMeasures(jhu_data, population_data, oxcgrt_data, tau=360)\n",
    "# The number of registerd countries\n",
    "len(analyser.countries)"
   ]
  },
  {
   "cell_type": "code",
   "execution_count": 6,
   "metadata": {
    "collapsed": false
   },
   "outputs": [
    {
     "data": {
      "text/plain": [
       "covsirphy.analysis.scenario.Scenario"
      ]
     },
     "execution_count": 6,
     "metadata": {},
     "output_type": "execute_result"
    }
   ],
   "source": [
    "# We can get Scenario instance for detailed scenario analysis\n",
    "type(analyser.scenario(\"Japan\"))"
   ]
  },
  {
   "cell_type": "markdown",
   "metadata": {},
   "source": [
    "## Set phases with S-R trend analysis\n",
    "We will perform S-R trend analysis to set phases in all countries. Countries which do not have **14th phases** will be un-registered for the next analysis. This number will be adjusted for your analysis."
   ]
  },
  {
   "cell_type": "code",
   "execution_count": 7,
   "metadata": {
    "collapsed": false
   },
   "outputs": [
    {
     "name": "stdout",
     "output_type": "stream",
     "text": [
      "{4: ['Holy See'],\n",
      " 5: ['Fiji', 'Liechtenstein', 'Tunisia', 'Tanzania'],\n",
      " 6: ['Slovenia', 'Sri Lanka', 'Brunei', 'Georgia', 'Poland', 'Slovakia',\n",
      "     'Papua New Guinea', 'Czech Republic', 'Dominica'],\n",
      " 7: ['Saint Lucia', 'Monaco', 'Yemen', 'Lithuania', 'Croatia', 'Myanmar',\n",
      "     'Ireland', 'Grenada', 'Switzerland', 'Hungary', 'Andorra'],\n",
      " 8: ['Seychelles', 'Equatorial Guinea', 'Malawi', 'Botswana', 'Spain', 'Jordan',\n",
      "     'Madagascar', 'Malaysia', 'Sao Tome and Principe',\n",
      "     'Saint Vincent and the Grenadines', 'Antigua and Barbuda', 'Angola',\n",
      "     'Nicaragua', 'Guinea-Bissau', 'Central African Republic', 'Mongolia',\n",
      "     'Cyprus'],\n",
      " 9: ['Cameroon', 'Greece', 'Djibouti', 'Romania', 'Nepal', 'Iceland',\n",
      "     'Portugal', 'Malta', 'Burkina Faso', 'Barbados', 'Gambia', 'Cambodia',\n",
      "     'South Sudan', 'Austria', 'Kazakhstan', 'Zimbabwe', 'Jamaica', 'Eritrea',\n",
      "     'Rwanda', 'Trinidad and Tobago', 'Luxembourg', 'Israel'],\n",
      " 10: ['Bermuda', 'Senegal', 'Libya', 'Ecuador', 'Zambia', 'Chile', 'Tajikistan',\n",
      "      'Lebanon', 'Mauritania', 'Belgium', 'Philippines', 'Serbia', 'Comoros',\n",
      "      'Bulgaria', 'Ukraine', 'Uganda', 'Denmark', 'New Zealand', 'Benin',\n",
      "      'Belize', 'Montenegro', 'Burundi', 'Kyrgyzstan', 'Chad', 'Australia',\n",
      "      'Mauritius', 'Niger', 'Estonia', 'Uruguay', 'Bhutan'],\n",
      " 11: ['China', 'Costa Rica', 'Cape Verde', 'Paraguay', 'Cuba', 'Namibia',\n",
      "      'Guyana', 'Mozambique', 'Suriname', 'Guatemala', 'Mali', 'Algeria',\n",
      "      'Ethiopia', 'Vietnam', 'Finland', 'Kenya', 'Brazil', 'Morocco',\n",
      "      'South Africa', 'Afghanistan', 'Thailand', 'Lesotho', 'Korea, South',\n",
      "      'Sierra Leone', 'Bahamas', 'Venezuela', 'Moldova', 'Sudan',\n",
      "      'Saudi Arabia', 'North Macedonia', 'Ghana'],\n",
      " 12: ['Uzbekistan', 'Palestine', 'Armenia', 'Argentina', 'Albania', 'Singapore',\n",
      "      'Syria', 'Peru', 'Bahrain', 'Liberia', 'Congo', 'Guinea', 'Taiwan',\n",
      "      'Panama', 'Germany', 'Colombia', 'Indonesia', 'Maldives', 'Bangladesh',\n",
      "      'United Arab Emirates', 'Iraq', 'Nigeria', 'Togo', 'India', 'Mexico',\n",
      "      'Dominican Republic', 'Bosnia and Herzegovina', 'El Salvador', 'Italy',\n",
      "      'United States', 'Kosovo', 'Azerbaijan', 'Oman', 'Gabon', 'Qatar'],\n",
      " 13: ['Bolivia', 'Kuwait', 'Canada', 'Iran', 'San Marino', 'Norway', 'France',\n",
      "      'Pakistan', 'Turkey', 'Haiti', 'Swaziland', 'Japan'],\n",
      " 14: ['Latvia', 'Somalia', 'Honduras', 'Russia'],\n",
      " 15: ['Belarus', 'Egypt']}\n"
     ]
    }
   ],
   "source": [
    "# Show the number of phases of all countries\n",
    "analyser.trend()\n",
    "pprint(analyser.phase_len(), compact=True)"
   ]
  },
  {
   "cell_type": "code",
   "execution_count": 8,
   "metadata": {
    "collapsed": false
   },
   "outputs": [
    {
     "data": {
      "text/plain": [
       "6"
      ]
     },
     "execution_count": 8,
     "metadata": {},
     "output_type": "execute_result"
    }
   ],
   "source": [
    "# Set phases with S-R trend analysis\n",
    "analyser.trend(min_len=14)\n",
    "# The number of countries\n",
    "len(analyser.countries)"
   ]
  },
  {
   "cell_type": "code",
   "execution_count": 9,
   "metadata": {
    "collapsed": false,
    "tags": []
   },
   "outputs": [
    {
     "name": "stdout",
     "output_type": "stream",
     "text": [
      "{14: ['Latvia', 'Somalia', 'Honduras', 'Russia'], 15: ['Belarus', 'Egypt']}\n"
     ]
    }
   ],
   "source": [
    "phase_len_dict = analyser.phase_len()\n",
    "pprint(phase_len_dict, compact=True)"
   ]
  },
  {
   "cell_type": "code",
   "execution_count": 10,
   "metadata": {
    "collapsed": false,
    "tags": []
   },
   "outputs": [
    {
     "data": {
      "text/html": [
       "<div>\n",
       "<style scoped>\n",
       "    .dataframe tbody tr th:only-of-type {\n",
       "        vertical-align: middle;\n",
       "    }\n",
       "\n",
       "    .dataframe tbody tr th {\n",
       "        vertical-align: top;\n",
       "    }\n",
       "\n",
       "    .dataframe thead th {\n",
       "        text-align: right;\n",
       "    }\n",
       "</style>\n",
       "<table border=\"1\" class=\"dataframe\">\n",
       "  <thead>\n",
       "    <tr style=\"text-align: right;\">\n",
       "      <th></th>\n",
       "      <th></th>\n",
       "      <th>Type</th>\n",
       "      <th>Start</th>\n",
       "      <th>End</th>\n",
       "      <th>Population</th>\n",
       "    </tr>\n",
       "    <tr>\n",
       "      <th>Country</th>\n",
       "      <th>Phase</th>\n",
       "      <th></th>\n",
       "      <th></th>\n",
       "      <th></th>\n",
       "      <th></th>\n",
       "    </tr>\n",
       "  </thead>\n",
       "  <tbody>\n",
       "    <tr>\n",
       "      <th rowspan=\"15\" valign=\"top\">Belarus</th>\n",
       "      <th>0th</th>\n",
       "      <td>Past</td>\n",
       "      <td>09Mar2020</td>\n",
       "      <td>26Apr2020</td>\n",
       "      <td>9483499</td>\n",
       "    </tr>\n",
       "    <tr>\n",
       "      <th>1st</th>\n",
       "      <td>Past</td>\n",
       "      <td>27Apr2020</td>\n",
       "      <td>08May2020</td>\n",
       "      <td>9483499</td>\n",
       "    </tr>\n",
       "    <tr>\n",
       "      <th>2nd</th>\n",
       "      <td>Past</td>\n",
       "      <td>09May2020</td>\n",
       "      <td>16May2020</td>\n",
       "      <td>9483499</td>\n",
       "    </tr>\n",
       "    <tr>\n",
       "      <th>3rd</th>\n",
       "      <td>Past</td>\n",
       "      <td>17May2020</td>\n",
       "      <td>23May2020</td>\n",
       "      <td>9483499</td>\n",
       "    </tr>\n",
       "    <tr>\n",
       "      <th>4th</th>\n",
       "      <td>Past</td>\n",
       "      <td>24May2020</td>\n",
       "      <td>30May2020</td>\n",
       "      <td>9483499</td>\n",
       "    </tr>\n",
       "    <tr>\n",
       "      <th>5th</th>\n",
       "      <td>Past</td>\n",
       "      <td>31May2020</td>\n",
       "      <td>06Jun2020</td>\n",
       "      <td>9483499</td>\n",
       "    </tr>\n",
       "    <tr>\n",
       "      <th>6th</th>\n",
       "      <td>Past</td>\n",
       "      <td>07Jun2020</td>\n",
       "      <td>14Jun2020</td>\n",
       "      <td>9483499</td>\n",
       "    </tr>\n",
       "    <tr>\n",
       "      <th>7th</th>\n",
       "      <td>Past</td>\n",
       "      <td>15Jun2020</td>\n",
       "      <td>23Jun2020</td>\n",
       "      <td>9483499</td>\n",
       "    </tr>\n",
       "    <tr>\n",
       "      <th>8th</th>\n",
       "      <td>Past</td>\n",
       "      <td>24Jun2020</td>\n",
       "      <td>11Jul2020</td>\n",
       "      <td>9483499</td>\n",
       "    </tr>\n",
       "    <tr>\n",
       "      <th>9th</th>\n",
       "      <td>Past</td>\n",
       "      <td>12Jul2020</td>\n",
       "      <td>21Aug2020</td>\n",
       "      <td>9483499</td>\n",
       "    </tr>\n",
       "    <tr>\n",
       "      <th>10th</th>\n",
       "      <td>Past</td>\n",
       "      <td>22Aug2020</td>\n",
       "      <td>23Sep2020</td>\n",
       "      <td>9483499</td>\n",
       "    </tr>\n",
       "    <tr>\n",
       "      <th>11th</th>\n",
       "      <td>Past</td>\n",
       "      <td>24Sep2020</td>\n",
       "      <td>13Oct2020</td>\n",
       "      <td>9483499</td>\n",
       "    </tr>\n",
       "    <tr>\n",
       "      <th>12th</th>\n",
       "      <td>Past</td>\n",
       "      <td>14Oct2020</td>\n",
       "      <td>23Oct2020</td>\n",
       "      <td>9483499</td>\n",
       "    </tr>\n",
       "    <tr>\n",
       "      <th>13th</th>\n",
       "      <td>Past</td>\n",
       "      <td>24Oct2020</td>\n",
       "      <td>30Oct2020</td>\n",
       "      <td>9483499</td>\n",
       "    </tr>\n",
       "    <tr>\n",
       "      <th>14th</th>\n",
       "      <td>Past</td>\n",
       "      <td>31Oct2020</td>\n",
       "      <td>08Nov2020</td>\n",
       "      <td>9483499</td>\n",
       "    </tr>\n",
       "    <tr>\n",
       "      <th rowspan=\"15\" valign=\"top\">Egypt</th>\n",
       "      <th>0th</th>\n",
       "      <td>Past</td>\n",
       "      <td>28Feb2020</td>\n",
       "      <td>02May2020</td>\n",
       "      <td>98423595</td>\n",
       "    </tr>\n",
       "    <tr>\n",
       "      <th>1st</th>\n",
       "      <td>Past</td>\n",
       "      <td>03May2020</td>\n",
       "      <td>17May2020</td>\n",
       "      <td>98423595</td>\n",
       "    </tr>\n",
       "    <tr>\n",
       "      <th>2nd</th>\n",
       "      <td>Past</td>\n",
       "      <td>18May2020</td>\n",
       "      <td>28May2020</td>\n",
       "      <td>98423595</td>\n",
       "    </tr>\n",
       "    <tr>\n",
       "      <th>3rd</th>\n",
       "      <td>Past</td>\n",
       "      <td>29May2020</td>\n",
       "      <td>03Jun2020</td>\n",
       "      <td>98423595</td>\n",
       "    </tr>\n",
       "    <tr>\n",
       "      <th>4th</th>\n",
       "      <td>Past</td>\n",
       "      <td>04Jun2020</td>\n",
       "      <td>13Jun2020</td>\n",
       "      <td>98423595</td>\n",
       "    </tr>\n",
       "    <tr>\n",
       "      <th>5th</th>\n",
       "      <td>Past</td>\n",
       "      <td>14Jun2020</td>\n",
       "      <td>23Jun2020</td>\n",
       "      <td>98423595</td>\n",
       "    </tr>\n",
       "    <tr>\n",
       "      <th>6th</th>\n",
       "      <td>Past</td>\n",
       "      <td>24Jun2020</td>\n",
       "      <td>02Jul2020</td>\n",
       "      <td>98423595</td>\n",
       "    </tr>\n",
       "    <tr>\n",
       "      <th>7th</th>\n",
       "      <td>Past</td>\n",
       "      <td>03Jul2020</td>\n",
       "      <td>13Jul2020</td>\n",
       "      <td>98423595</td>\n",
       "    </tr>\n",
       "    <tr>\n",
       "      <th>8th</th>\n",
       "      <td>Past</td>\n",
       "      <td>14Jul2020</td>\n",
       "      <td>20Jul2020</td>\n",
       "      <td>98423595</td>\n",
       "    </tr>\n",
       "    <tr>\n",
       "      <th>9th</th>\n",
       "      <td>Past</td>\n",
       "      <td>21Jul2020</td>\n",
       "      <td>27Jul2020</td>\n",
       "      <td>98423595</td>\n",
       "    </tr>\n",
       "    <tr>\n",
       "      <th>10th</th>\n",
       "      <td>Past</td>\n",
       "      <td>28Jul2020</td>\n",
       "      <td>10Aug2020</td>\n",
       "      <td>98423595</td>\n",
       "    </tr>\n",
       "    <tr>\n",
       "      <th>11th</th>\n",
       "      <td>Past</td>\n",
       "      <td>11Aug2020</td>\n",
       "      <td>27Aug2020</td>\n",
       "      <td>98423595</td>\n",
       "    </tr>\n",
       "    <tr>\n",
       "      <th>12th</th>\n",
       "      <td>Past</td>\n",
       "      <td>28Aug2020</td>\n",
       "      <td>11Sep2020</td>\n",
       "      <td>98423595</td>\n",
       "    </tr>\n",
       "    <tr>\n",
       "      <th>13th</th>\n",
       "      <td>Past</td>\n",
       "      <td>12Sep2020</td>\n",
       "      <td>06Oct2020</td>\n",
       "      <td>98423595</td>\n",
       "    </tr>\n",
       "    <tr>\n",
       "      <th>14th</th>\n",
       "      <td>Past</td>\n",
       "      <td>07Oct2020</td>\n",
       "      <td>08Nov2020</td>\n",
       "      <td>98423595</td>\n",
       "    </tr>\n",
       "  </tbody>\n",
       "</table>\n",
       "</div>"
      ],
      "text/plain": [
       "               Type      Start        End  Population\n",
       "Country Phase                                        \n",
       "Belarus 0th    Past  09Mar2020  26Apr2020     9483499\n",
       "        1st    Past  27Apr2020  08May2020     9483499\n",
       "        2nd    Past  09May2020  16May2020     9483499\n",
       "        3rd    Past  17May2020  23May2020     9483499\n",
       "        4th    Past  24May2020  30May2020     9483499\n",
       "        5th    Past  31May2020  06Jun2020     9483499\n",
       "        6th    Past  07Jun2020  14Jun2020     9483499\n",
       "        7th    Past  15Jun2020  23Jun2020     9483499\n",
       "        8th    Past  24Jun2020  11Jul2020     9483499\n",
       "        9th    Past  12Jul2020  21Aug2020     9483499\n",
       "        10th   Past  22Aug2020  23Sep2020     9483499\n",
       "        11th   Past  24Sep2020  13Oct2020     9483499\n",
       "        12th   Past  14Oct2020  23Oct2020     9483499\n",
       "        13th   Past  24Oct2020  30Oct2020     9483499\n",
       "        14th   Past  31Oct2020  08Nov2020     9483499\n",
       "Egypt   0th    Past  28Feb2020  02May2020    98423595\n",
       "        1st    Past  03May2020  17May2020    98423595\n",
       "        2nd    Past  18May2020  28May2020    98423595\n",
       "        3rd    Past  29May2020  03Jun2020    98423595\n",
       "        4th    Past  04Jun2020  13Jun2020    98423595\n",
       "        5th    Past  14Jun2020  23Jun2020    98423595\n",
       "        6th    Past  24Jun2020  02Jul2020    98423595\n",
       "        7th    Past  03Jul2020  13Jul2020    98423595\n",
       "        8th    Past  14Jul2020  20Jul2020    98423595\n",
       "        9th    Past  21Jul2020  27Jul2020    98423595\n",
       "        10th   Past  28Jul2020  10Aug2020    98423595\n",
       "        11th   Past  11Aug2020  27Aug2020    98423595\n",
       "        12th   Past  28Aug2020  11Sep2020    98423595\n",
       "        13th   Past  12Sep2020  06Oct2020    98423595\n",
       "        14th   Past  07Oct2020  08Nov2020    98423595"
      ]
     },
     "execution_count": 10,
     "metadata": {},
     "output_type": "execute_result"
    }
   ],
   "source": [
    "# Here, only show the countries which have the most phases\n",
    "countries_show = max(phase_len_dict.items(), key=lambda x: x[0])[1]\n",
    "# Show summary\n",
    "analyser.summary(countries=countries_show)"
   ]
  },
  {
   "cell_type": "markdown",
   "metadata": {},
   "source": [
    "## Parameter estimation\n",
    "we will estimate the parameter values with SIR-derived ODE models in each country."
   ]
  },
  {
   "cell_type": "code",
   "execution_count": 11,
   "metadata": {
    "collapsed": false,
    "tags": []
   },
   "outputs": [
    {
     "name": "stdout",
     "output_type": "stream",
     "text": [
      "\n",
      "<SIR-F model: parameter estimation>\n",
      "Running optimization with 4 CPUs...\n"
     ]
    },
    {
     "name": "stdout",
     "output_type": "stream",
     "text": [
      "\tBLR, 13th phase (24Oct2020 - 30Oct2020): finished  186 trials in 0 min  5 sec"
     ]
    },
    {
     "name": "stdout",
     "output_type": "stream",
     "text": [
      "\n"
     ]
    },
    {
     "name": "stdout",
     "output_type": "stream",
     "text": [
      "\tRUS, 12th phase (25Oct2020 - 31Oct2020): finished  357 trials in 0 min 10 sec"
     ]
    },
    {
     "name": "stdout",
     "output_type": "stream",
     "text": [
      "\n"
     ]
    },
    {
     "name": "stdout",
     "output_type": "stream",
     "text": [
      "\tHND,  7th phase (30Aug2020 - 11Sep2020): finished 1636 trials in 1 min  0 sec"
     ]
    },
    {
     "name": "stdout",
     "output_type": "stream",
     "text": [
      "\n"
     ]
    },
    {
     "name": "stdout",
     "output_type": "stream",
     "text": [
      "\tBLR, 11th phase (24Sep2020 - 13Oct2020): finished 1631 trials in 1 min  0 sec"
     ]
    },
    {
     "name": "stdout",
     "output_type": "stream",
     "text": [
      "\n"
     ]
    },
    {
     "name": "stdout",
     "output_type": "stream",
     "text": [
      "\tRUS,  0th phase (12Feb2020 - 04May2020): finished 1640 trials in 1 min  0 sec"
     ]
    },
    {
     "name": "stdout",
     "output_type": "stream",
     "text": [
      "\n"
     ]
    },
    {
     "name": "stdout",
     "output_type": "stream",
     "text": [
      "\tRUS, 10th phase (05Oct2020 - 16Oct2020): finished 1637 trials in 1 min  0 sec"
     ]
    },
    {
     "name": "stdout",
     "output_type": "stream",
     "text": [
      "\n"
     ]
    },
    {
     "name": "stdout",
     "output_type": "stream",
     "text": [
      "\tHND,  8th phase (12Sep2020 - 20Sep2020): finished  350 trials in 0 min 10 sec"
     ]
    },
    {
     "name": "stdout",
     "output_type": "stream",
     "text": [
      "\n"
     ]
    },
    {
     "name": "stdout",
     "output_type": "stream",
     "text": [
      "\tEGY,  3rd phase (29May2020 - 03Jun2020): finished  357 trials in 0 min 10 sec"
     ]
    },
    {
     "name": "stdout",
     "output_type": "stream",
     "text": [
      "\n"
     ]
    },
    {
     "name": "stdout",
     "output_type": "stream",
     "text": [
      "\tHND,  1st phase (14Jun2020 - 30Jun2020): finished 1606 trials in 1 min  0 sec"
     ]
    },
    {
     "name": "stdout",
     "output_type": "stream",
     "text": [
      "\n"
     ]
    },
    {
     "name": "stdout",
     "output_type": "stream",
     "text": [
      "\tEGY,  2nd phase (18May2020 - 28May2020): finished 1600 trials in 1 min  0 sec"
     ]
    },
    {
     "name": "stdout",
     "output_type": "stream",
     "text": [
      "\n"
     ]
    },
    {
     "name": "stdout",
     "output_type": "stream",
     "text": [
      "\tBLR,  8th phase (24Jun2020 - 11Jul2020): finished 1594 trials in 1 min  0 sec"
     ]
    },
    {
     "name": "stdout",
     "output_type": "stream",
     "text": [
      "\n"
     ]
    },
    {
     "name": "stdout",
     "output_type": "stream",
     "text": [
      "\tEGY, 11th phase (11Aug2020 - 27Aug2020): finished  178 trials in 0 min  5 sec"
     ]
    },
    {
     "name": "stdout",
     "output_type": "stream",
     "text": [
      "\n"
     ]
    },
    {
     "name": "stdout",
     "output_type": "stream",
     "text": [
      "\tLVA,  3rd phase (28Apr2020 - 06May2020): finished 1802 trials in 1 min  0 sec"
     ]
    },
    {
     "name": "stdout",
     "output_type": "stream",
     "text": [
      "\n"
     ]
    },
    {
     "name": "stdout",
     "output_type": "stream",
     "text": [
      "\tEGY, 10th phase (28Jul2020 - 10Aug2020): finished  328 trials in 0 min 10 sec"
     ]
    },
    {
     "name": "stdout",
     "output_type": "stream",
     "text": [
      "\n"
     ]
    },
    {
     "name": "stdout",
     "output_type": "stream",
     "text": [
      "\tEGY, 12th phase (28Aug2020 - 11Sep2020): finished  340 trials in 0 min 10 sec"
     ]
    },
    {
     "name": "stdout",
     "output_type": "stream",
     "text": [
      "\n"
     ]
    },
    {
     "name": "stdout",
     "output_type": "stream",
     "text": [
      "\tHND, 12th phase (18Oct2020 - 26Oct2020): finished 1359 trials in 0 min 50 sec"
     ]
    },
    {
     "name": "stdout",
     "output_type": "stream",
     "text": [
      "\n"
     ]
    },
    {
     "name": "stdout",
     "output_type": "stream",
     "text": [
      "\tLVA, 12th phase (14Oct2020 - 24Oct2020): finished 1132 trials in 0 min 40 sec"
     ]
    },
    {
     "name": "stdout",
     "output_type": "stream",
     "text": [
      "\n"
     ]
    },
    {
     "name": "stdout",
     "output_type": "stream",
     "text": [
      "\tLVA, 10th phase (12Sep2020 - 26Sep2020): finished 1788 trials in 1 min  0 sec"
     ]
    },
    {
     "name": "stdout",
     "output_type": "stream",
     "text": [
      "\n"
     ]
    },
    {
     "name": "stdout",
     "output_type": "stream",
     "text": [
      "\tEGY,  4th phase (04Jun2020 - 13Jun2020): finished  468 trials in 0 min 15 sec"
     ]
    },
    {
     "name": "stdout",
     "output_type": "stream",
     "text": [
      "\n"
     ]
    },
    {
     "name": "stdout",
     "output_type": "stream",
     "text": [
      "\tSOM,  2nd phase (13May2020 - 20May2020): finished 1580 trials in 1 min  0 sec"
     ]
    },
    {
     "name": "stdout",
     "output_type": "stream",
     "text": [
      "\n"
     ]
    },
    {
     "name": "stdout",
     "output_type": "stream",
     "text": [
      "\tSOM,  8th phase (04Jul2020 - 20Jul2020): finished 1560 trials in 1 min  0 sec"
     ]
    },
    {
     "name": "stdout",
     "output_type": "stream",
     "text": [
      "\n"
     ]
    },
    {
     "name": "stdout",
     "output_type": "stream",
     "text": [
      "\tHND,  0th phase (28Mar2020 - 13Jun2020): finished 1521 trials in 1 min  0 sec"
     ]
    },
    {
     "name": "stdout",
     "output_type": "stream",
     "text": [
      "\n"
     ]
    },
    {
     "name": "stdout",
     "output_type": "stream",
     "text": [
      "\tEGY,  8th phase (14Jul2020 - 20Jul2020): finished  172 trials in 0 min  5 sec"
     ]
    },
    {
     "name": "stdout",
     "output_type": "stream",
     "text": [
      "\n"
     ]
    },
    {
     "name": "stdout",
     "output_type": "stream",
     "text": [
      "\tEGY,  9th phase (21Jul2020 - 27Jul2020): finished  171 trials in 0 min  5 sec"
     ]
    },
    {
     "name": "stdout",
     "output_type": "stream",
     "text": [
      "\n"
     ]
    },
    {
     "name": "stdout",
     "output_type": "stream",
     "text": [
      "\tEGY, 13th phase (12Sep2020 - 06Oct2020): finished  313 trials in 0 min 10 sec"
     ]
    },
    {
     "name": "stdout",
     "output_type": "stream",
     "text": [
      "\n"
     ]
    },
    {
     "name": "stdout",
     "output_type": "stream",
     "text": [
      "\tSOM,  9th phase (21Jul2020 - 24Aug2020): finished 1541 trials in 1 min  0 sec"
     ]
    },
    {
     "name": "stdout",
     "output_type": "stream",
     "text": [
      "\n"
     ]
    },
    {
     "name": "stdout",
     "output_type": "stream",
     "text": [
      "\tSOM,  5th phase (10Jun2020 - 15Jun2020): finished  330 trials in 0 min 10 sec"
     ]
    },
    {
     "name": "stdout",
     "output_type": "stream",
     "text": [
      "\n"
     ]
    },
    {
     "name": "stdout",
     "output_type": "stream",
     "text": [
      "\tLVA,  1st phase (11Apr2020 - 21Apr2020): finished 1549 trials in 1 min  0 sec"
     ]
    },
    {
     "name": "stdout",
     "output_type": "stream",
     "text": [
      "\n"
     ]
    },
    {
     "name": "stdout",
     "output_type": "stream",
     "text": [
      "\tHND,  9th phase (21Sep2020 - 29Sep2020): finished  335 trials in 0 min 10 sec"
     ]
    },
    {
     "name": "stdout",
     "output_type": "stream",
     "text": [
      "\n"
     ]
    },
    {
     "name": "stdout",
     "output_type": "stream",
     "text": [
      "\tRUS, 11th phase (17Oct2020 - 24Oct2020): finished 1560 trials in 1 min  0 sec"
     ]
    },
    {
     "name": "stdout",
     "output_type": "stream",
     "text": [
      "\n"
     ]
    },
    {
     "name": "stdout",
     "output_type": "stream",
     "text": [
      "\tEGY,  0th phase (28Feb2020 - 02May2020): finished 1555 trials in 1 min  0 sec"
     ]
    },
    {
     "name": "stdout",
     "output_type": "stream",
     "text": [
      "\n"
     ]
    },
    {
     "name": "stdout",
     "output_type": "stream",
     "text": [
      "\tSOM,  0th phase (31Mar2020 - 03May2020): finished 1524 trials in 1 min  0 sec"
     ]
    },
    {
     "name": "stdout",
     "output_type": "stream",
     "text": [
      "\n"
     ]
    },
    {
     "name": "stdout",
     "output_type": "stream",
     "text": [
      "\tBLR,  5th phase (31May2020 - 06Jun2020): finished 1567 trials in 1 min  0 sec"
     ]
    },
    {
     "name": "stdout",
     "output_type": "stream",
     "text": [
      "\n"
     ]
    },
    {
     "name": "stdout",
     "output_type": "stream",
     "text": [
      "\tBLR, 12th phase (14Oct2020 - 23Oct2020): finished 1555 trials in 1 min  0 sec"
     ]
    },
    {
     "name": "stdout",
     "output_type": "stream",
     "text": [
      "\n"
     ]
    },
    {
     "name": "stdout",
     "output_type": "stream",
     "text": [
      "\tSOM,  6th phase (16Jun2020 - 22Jun2020): finished 1560 trials in 1 min  0 sec"
     ]
    },
    {
     "name": "stdout",
     "output_type": "stream",
     "text": [
      "\n"
     ]
    },
    {
     "name": "stdout",
     "output_type": "stream",
     "text": [
      "\tLVA, 11th phase (27Sep2020 - 13Oct2020): finished  970 trials in 0 min 30 sec"
     ]
    },
    {
     "name": "stdout",
     "output_type": "stream",
     "text": [
      "\n"
     ]
    },
    {
     "name": "stdout",
     "output_type": "stream",
     "text": [
      "\tHND,  3rd phase (14Jul2020 - 23Jul2020): finished  175 trials in 0 min  5 sec"
     ]
    },
    {
     "name": "stdout",
     "output_type": "stream",
     "text": [
      "\n"
     ]
    },
    {
     "name": "stdout",
     "output_type": "stream",
     "text": [
      "\tRUS,  4th phase (13Jun2020 - 29Jun2020): finished 1551 trials in 1 min  0 sec"
     ]
    },
    {
     "name": "stdout",
     "output_type": "stream",
     "text": [
      "\n"
     ]
    },
    {
     "name": "stdout",
     "output_type": "stream",
     "text": [
      "\tLVA,  6th phase (29May2020 - 09Jul2020): finished 1521 trials in 1 min  0 sec"
     ]
    },
    {
     "name": "stdout",
     "output_type": "stream",
     "text": [
      "\n"
     ]
    },
    {
     "name": "stdout",
     "output_type": "stream",
     "text": [
      "\tLVA,  5th phase (16May2020 - 28May2020): finished 1749 trials in 1 min  0 sec"
     ]
    },
    {
     "name": "stdout",
     "output_type": "stream",
     "text": [
      "\n"
     ]
    },
    {
     "name": "stdout",
     "output_type": "stream",
     "text": [
      "\tLVA,  0th phase (10Mar2020 - 10Apr2020): finished 1725 trials in 1 min  0 sec"
     ]
    },
    {
     "name": "stdout",
     "output_type": "stream",
     "text": [
      "\n"
     ]
    },
    {
     "name": "stdout",
     "output_type": "stream",
     "text": [
      "\tLVA,  7th phase (10Jul2020 - 07Aug2020): finished 1740 trials in 1 min  0 sec"
     ]
    },
    {
     "name": "stdout",
     "output_type": "stream",
     "text": [
      "\n"
     ]
    },
    {
     "name": "stdout",
     "output_type": "stream",
     "text": [
      "\tBLR, 10th phase (22Aug2020 - 23Sep2020): finished 1513 trials in 1 min  0 sec"
     ]
    },
    {
     "name": "stdout",
     "output_type": "stream",
     "text": [
      "\n"
     ]
    },
    {
     "name": "stdout",
     "output_type": "stream",
     "text": [
      "\tEGY,  7th phase (03Jul2020 - 13Jul2020): finished  332 trials in 0 min 10 sec"
     ]
    },
    {
     "name": "stdout",
     "output_type": "stream",
     "text": [
      "\n"
     ]
    },
    {
     "name": "stdout",
     "output_type": "stream",
     "text": [
      "\tRUS,  2nd phase (17May2020 - 29May2020): finished 1529 trials in 1 min  0 sec"
     ]
    },
    {
     "name": "stdout",
     "output_type": "stream",
     "text": [
      "\n"
     ]
    },
    {
     "name": "stdout",
     "output_type": "stream",
     "text": [
      "\tSOM, 13th phase (24Oct2020 - 08Nov2020): finished 2007 trials in 1 min  0 sec"
     ]
    },
    {
     "name": "stdout",
     "output_type": "stream",
     "text": [
      "\n"
     ]
    },
    {
     "name": "stdout",
     "output_type": "stream",
     "text": [
      "\tBLR,  0th phase (09Mar2020 - 26Apr2020): finished 1506 trials in 1 min  0 sec"
     ]
    },
    {
     "name": "stdout",
     "output_type": "stream",
     "text": [
      "\n"
     ]
    },
    {
     "name": "stdout",
     "output_type": "stream",
     "text": [
      "\tSOM,  7th phase (23Jun2020 - 03Jul2020): finished 1540 trials in 1 min  0 sec"
     ]
    },
    {
     "name": "stdout",
     "output_type": "stream",
     "text": [
      "\n"
     ]
    },
    {
     "name": "stdout",
     "output_type": "stream",
     "text": [
      "\tSOM, 10th phase (25Aug2020 - 24Sep2020): finished 1716 trials in 1 min  0 sec"
     ]
    },
    {
     "name": "stdout",
     "output_type": "stream",
     "text": [
      "\n"
     ]
    },
    {
     "name": "stdout",
     "output_type": "stream",
     "text": [
      "\tBLR,  1st phase (27Apr2020 - 08May2020): finished 1559 trials in 1 min  0 sec"
     ]
    },
    {
     "name": "stdout",
     "output_type": "stream",
     "text": [
      "\n"
     ]
    },
    {
     "name": "stdout",
     "output_type": "stream",
     "text": [
      "\tHND, 11th phase (09Oct2020 - 17Oct2020): finished 1348 trials in 0 min 50 sec"
     ]
    },
    {
     "name": "stdout",
     "output_type": "stream",
     "text": [
      "\n"
     ]
    },
    {
     "name": "stdout",
     "output_type": "stream",
     "text": [
      "\tBLR, 14th phase (31Oct2020 - 08Nov2020): finished 1548 trials in 1 min  0 sec"
     ]
    },
    {
     "name": "stdout",
     "output_type": "stream",
     "text": [
      "\n"
     ]
    },
    {
     "name": "stdout",
     "output_type": "stream",
     "text": [
      "\tBLR,  6th phase (07Jun2020 - 14Jun2020): finished 1525 trials in 1 min  0 sec"
     ]
    },
    {
     "name": "stdout",
     "output_type": "stream",
     "text": [
      "\n"
     ]
    },
    {
     "name": "stdout",
     "output_type": "stream",
     "text": [
      "\tRUS,  3rd phase (30May2020 - 12Jun2020): finished 1527 trials in 1 min  0 sec"
     ]
    },
    {
     "name": "stdout",
     "output_type": "stream",
     "text": [
      "\n"
     ]
    },
    {
     "name": "stdout",
     "output_type": "stream",
     "text": [
      "\tEGY,  1st phase (03May2020 - 17May2020): finished 1531 trials in 1 min  0 sec"
     ]
    },
    {
     "name": "stdout",
     "output_type": "stream",
     "text": [
      "\n"
     ]
    },
    {
     "name": "stdout",
     "output_type": "stream",
     "text": [
      "\tBLR,  7th phase (15Jun2020 - 23Jun2020): finished  740 trials in 0 min 25 sec"
     ]
    },
    {
     "name": "stdout",
     "output_type": "stream",
     "text": [
      "\n"
     ]
    },
    {
     "name": "stdout",
     "output_type": "stream",
     "text": [
      "\tEGY, 14th phase (07Oct2020 - 08Nov2020): finished 1527 trials in 1 min  0 sec"
     ]
    },
    {
     "name": "stdout",
     "output_type": "stream",
     "text": [
      "\n"
     ]
    },
    {
     "name": "stdout",
     "output_type": "stream",
     "text": [
      "\tLVA,  4th phase (07May2020 - 15May2020): finished 1735 trials in 1 min  0 sec"
     ]
    },
    {
     "name": "stdout",
     "output_type": "stream",
     "text": [
      "\n"
     ]
    },
    {
     "name": "stdout",
     "output_type": "stream",
     "text": [
      "\tRUS,  8th phase (29Aug2020 - 18Sep2020): finished 1548 trials in 1 min  0 sec"
     ]
    },
    {
     "name": "stdout",
     "output_type": "stream",
     "text": [
      "\n"
     ]
    },
    {
     "name": "stdout",
     "output_type": "stream",
     "text": [
      "\tHND,  6th phase (21Aug2020 - 29Aug2020): finished 1120 trials in 0 min 40 sec"
     ]
    },
    {
     "name": "stdout",
     "output_type": "stream",
     "text": [
      "\n"
     ]
    },
    {
     "name": "stdout",
     "output_type": "stream",
     "text": [
      "\tRUS,  1st phase (05May2020 - 16May2020): finished 1549 trials in 1 min  0 sec"
     ]
    },
    {
     "name": "stdout",
     "output_type": "stream",
     "text": [
      "\n"
     ]
    },
    {
     "name": "stdout",
     "output_type": "stream",
     "text": [
      "\tRUS, 13th phase (01Nov2020 - 08Nov2020): finished 1531 trials in 1 min  0 sec"
     ]
    },
    {
     "name": "stdout",
     "output_type": "stream",
     "text": [
      "\n"
     ]
    },
    {
     "name": "stdout",
     "output_type": "stream",
     "text": [
      "\tSOM, 11th phase (25Sep2020 - 02Oct2020): finished 1536 trials in 1 min  0 sec"
     ]
    },
    {
     "name": "stdout",
     "output_type": "stream",
     "text": [
      "\n"
     ]
    },
    {
     "name": "stdout",
     "output_type": "stream",
     "text": [
      "\tHND, 10th phase (30Sep2020 - 08Oct2020): finished  323 trials in 0 min 10 sec"
     ]
    },
    {
     "name": "stdout",
     "output_type": "stream",
     "text": [
      "\n"
     ]
    },
    {
     "name": "stdout",
     "output_type": "stream",
     "text": [
      "\tLVA, 13th phase (25Oct2020 - 08Nov2020): finished 1727 trials in 1 min  0 sec"
     ]
    },
    {
     "name": "stdout",
     "output_type": "stream",
     "text": [
      "\n"
     ]
    },
    {
     "name": "stdout",
     "output_type": "stream",
     "text": [
      "\tBLR,  2nd phase (09May2020 - 16May2020): finished 1535 trials in 1 min  0 sec"
     ]
    },
    {
     "name": "stdout",
     "output_type": "stream",
     "text": [
      "\n"
     ]
    },
    {
     "name": "stdout",
     "output_type": "stream",
     "text": [
      "\tRUS,  5th phase (30Jun2020 - 17Jul2020): finished 1543 trials in 1 min  0 sec"
     ]
    },
    {
     "name": "stdout",
     "output_type": "stream",
     "text": [
      "\n"
     ]
    },
    {
     "name": "stdout",
     "output_type": "stream",
     "text": [
      "\tLVA,  8th phase (08Aug2020 - 28Aug2020): finished 1713 trials in 1 min  0 sec"
     ]
    },
    {
     "name": "stdout",
     "output_type": "stream",
     "text": [
      "\n"
     ]
    },
    {
     "name": "stdout",
     "output_type": "stream",
     "text": [
      "\tHND, 13th phase (27Oct2020 - 08Nov2020): finished 1544 trials in 1 min  0 sec"
     ]
    },
    {
     "name": "stdout",
     "output_type": "stream",
     "text": [
      "\n"
     ]
    },
    {
     "name": "stdout",
     "output_type": "stream",
     "text": [
      "\tHND,  5th phase (05Aug2020 - 20Aug2020): finished  602 trials in 0 min 20 sec"
     ]
    },
    {
     "name": "stdout",
     "output_type": "stream",
     "text": [
      "\n"
     ]
    },
    {
     "name": "stdout",
     "output_type": "stream",
     "text": [
      "\tRUS,  6th phase (18Jul2020 - 07Aug2020): finished 1536 trials in 1 min  0 sec"
     ]
    },
    {
     "name": "stdout",
     "output_type": "stream",
     "text": [
      "\n"
     ]
    },
    {
     "name": "stdout",
     "output_type": "stream",
     "text": [
      "\tHND,  4th phase (24Jul2020 - 04Aug2020): finished 1561 trials in 1 min  0 sec"
     ]
    },
    {
     "name": "stdout",
     "output_type": "stream",
     "text": [
      "\n"
     ]
    },
    {
     "name": "stdout",
     "output_type": "stream",
     "text": [
      "\tBLR,  3rd phase (17May2020 - 23May2020): finished  755 trials in 0 min 25 sec"
     ]
    },
    {
     "name": "stdout",
     "output_type": "stream",
     "text": [
      "\n"
     ]
    },
    {
     "name": "stdout",
     "output_type": "stream",
     "text": [
      "\tSOM,  1st phase (04May2020 - 12May2020): finished 1556 trials in 1 min  0 sec"
     ]
    },
    {
     "name": "stdout",
     "output_type": "stream",
     "text": [
      "\n"
     ]
    },
    {
     "name": "stdout",
     "output_type": "stream",
     "text": [
      "\tBLR,  9th phase (12Jul2020 - 21Aug2020): finished  172 trials in 0 min  5 sec"
     ]
    },
    {
     "name": "stdout",
     "output_type": "stream",
     "text": [
      "\n"
     ]
    },
    {
     "name": "stdout",
     "output_type": "stream",
     "text": [
      "\tSOM,  4th phase (30May2020 - 09Jun2020): finished  511 trials in 0 min 15 sec"
     ]
    },
    {
     "name": "stdout",
     "output_type": "stream",
     "text": [
      "\n"
     ]
    },
    {
     "name": "stdout",
     "output_type": "stream",
     "text": [
      "\tBLR,  4th phase (24May2020 - 30May2020): finished  651 trials in 0 min 20 sec"
     ]
    },
    {
     "name": "stdout",
     "output_type": "stream",
     "text": [
      "\n"
     ]
    },
    {
     "name": "stdout",
     "output_type": "stream",
     "text": [
      "\tRUS,  9th phase (19Sep2020 - 04Oct2020): finished 1666 trials in 1 min  0 sec"
     ]
    },
    {
     "name": "stdout",
     "output_type": "stream",
     "text": [
      "\n"
     ]
    },
    {
     "name": "stdout",
     "output_type": "stream",
     "text": [
      "\tEGY,  5th phase (14Jun2020 - 23Jun2020): finished  198 trials in 0 min  5 sec"
     ]
    },
    {
     "name": "stdout",
     "output_type": "stream",
     "text": [
      "\n"
     ]
    },
    {
     "name": "stdout",
     "output_type": "stream",
     "text": [
      "\tLVA,  9th phase (29Aug2020 - 11Sep2020): finished 1689 trials in 1 min  0 sec"
     ]
    },
    {
     "name": "stdout",
     "output_type": "stream",
     "text": [
      "\n"
     ]
    },
    {
     "name": "stdout",
     "output_type": "stream",
     "text": [
      "\tEGY,  6th phase (24Jun2020 - 02Jul2020): finished  199 trials in 0 min  5 sec"
     ]
    },
    {
     "name": "stdout",
     "output_type": "stream",
     "text": [
      "\n"
     ]
    },
    {
     "name": "stdout",
     "output_type": "stream",
     "text": [
      "\tSOM, 12th phase (03Oct2020 - 23Oct2020): finished 2225 trials in 1 min  0 sec"
     ]
    },
    {
     "name": "stdout",
     "output_type": "stream",
     "text": [
      "\n"
     ]
    },
    {
     "name": "stdout",
     "output_type": "stream",
     "text": [
      "\tHND,  2nd phase (01Jul2020 - 13Jul2020): finished 1738 trials in 1 min  0 sec"
     ]
    },
    {
     "name": "stdout",
     "output_type": "stream",
     "text": [
      "\n"
     ]
    },
    {
     "name": "stdout",
     "output_type": "stream",
     "text": [
      "\tSOM,  3rd phase (21May2020 - 29May2020): finished 1772 trials in 1 min  0 sec"
     ]
    },
    {
     "name": "stdout",
     "output_type": "stream",
     "text": [
      "\n"
     ]
    },
    {
     "name": "stdout",
     "output_type": "stream",
     "text": [
      "\tLVA,  2nd phase (22Apr2020 - 27Apr2020): finished 1995 trials in 1 min  0 sec"
     ]
    },
    {
     "name": "stdout",
     "output_type": "stream",
     "text": [
      "\n"
     ]
    },
    {
     "name": "stdout",
     "output_type": "stream",
     "text": [
      "Completed optimization. Total: 17 min 46 sec\n"
     ]
    }
   ],
   "source": [
    "# Parameter estimation with SIR-F model\n",
    "analyser.estimate(cs.SIRF)"
   ]
  },
  {
   "cell_type": "code",
   "execution_count": 12,
   "metadata": {
    "collapsed": false
   },
   "outputs": [
    {
     "data": {
      "text/html": [
       "<div>\n",
       "<style scoped>\n",
       "    .dataframe tbody tr th:only-of-type {\n",
       "        vertical-align: middle;\n",
       "    }\n",
       "\n",
       "    .dataframe tbody tr th {\n",
       "        vertical-align: top;\n",
       "    }\n",
       "\n",
       "    .dataframe thead th {\n",
       "        text-align: right;\n",
       "    }\n",
       "</style>\n",
       "<table border=\"1\" class=\"dataframe\">\n",
       "  <thead>\n",
       "    <tr style=\"text-align: right;\">\n",
       "      <th></th>\n",
       "      <th></th>\n",
       "      <th>Type</th>\n",
       "      <th>Start</th>\n",
       "      <th>End</th>\n",
       "      <th>Population</th>\n",
       "      <th>ODE</th>\n",
       "      <th>Rt</th>\n",
       "      <th>theta</th>\n",
       "      <th>kappa</th>\n",
       "      <th>rho</th>\n",
       "      <th>sigma</th>\n",
       "      <th>tau</th>\n",
       "      <th>alpha1 [-]</th>\n",
       "      <th>1/alpha2 [day]</th>\n",
       "      <th>1/beta [day]</th>\n",
       "      <th>1/gamma [day]</th>\n",
       "      <th>RMSLE</th>\n",
       "      <th>Trials</th>\n",
       "      <th>Runtime</th>\n",
       "    </tr>\n",
       "    <tr>\n",
       "      <th>Country</th>\n",
       "      <th>Phase</th>\n",
       "      <th></th>\n",
       "      <th></th>\n",
       "      <th></th>\n",
       "      <th></th>\n",
       "      <th></th>\n",
       "      <th></th>\n",
       "      <th></th>\n",
       "      <th></th>\n",
       "      <th></th>\n",
       "      <th></th>\n",
       "      <th></th>\n",
       "      <th></th>\n",
       "      <th></th>\n",
       "      <th></th>\n",
       "      <th></th>\n",
       "      <th></th>\n",
       "      <th></th>\n",
       "      <th></th>\n",
       "    </tr>\n",
       "  </thead>\n",
       "  <tbody>\n",
       "    <tr>\n",
       "      <th rowspan=\"15\" valign=\"top\">Belarus</th>\n",
       "      <th>0th</th>\n",
       "      <td>Past</td>\n",
       "      <td>09Mar2020</td>\n",
       "      <td>26Apr2020</td>\n",
       "      <td>9483499</td>\n",
       "      <td>SIR-F</td>\n",
       "      <td>8.90</td>\n",
       "      <td>0.000359</td>\n",
       "      <td>0.000402</td>\n",
       "      <td>0.045328</td>\n",
       "      <td>0.004691</td>\n",
       "      <td>360</td>\n",
       "      <td>0.000</td>\n",
       "      <td>622</td>\n",
       "      <td>5</td>\n",
       "      <td>53</td>\n",
       "      <td>1.309354</td>\n",
       "      <td>1506</td>\n",
       "      <td>1 min  0 sec</td>\n",
       "    </tr>\n",
       "    <tr>\n",
       "      <th>1st</th>\n",
       "      <td>Past</td>\n",
       "      <td>27Apr2020</td>\n",
       "      <td>08May2020</td>\n",
       "      <td>9483499</td>\n",
       "      <td>SIR-F</td>\n",
       "      <td>3.39</td>\n",
       "      <td>0.000456</td>\n",
       "      <td>0.000084</td>\n",
       "      <td>0.018096</td>\n",
       "      <td>0.005252</td>\n",
       "      <td>360</td>\n",
       "      <td>0.000</td>\n",
       "      <td>2990</td>\n",
       "      <td>13</td>\n",
       "      <td>47</td>\n",
       "      <td>0.070599</td>\n",
       "      <td>1559</td>\n",
       "      <td>1 min  0 sec</td>\n",
       "    </tr>\n",
       "    <tr>\n",
       "      <th>2nd</th>\n",
       "      <td>Past</td>\n",
       "      <td>09May2020</td>\n",
       "      <td>16May2020</td>\n",
       "      <td>9483499</td>\n",
       "      <td>SIR-F</td>\n",
       "      <td>1.98</td>\n",
       "      <td>0.004998</td>\n",
       "      <td>0.000002</td>\n",
       "      <td>0.013061</td>\n",
       "      <td>0.006575</td>\n",
       "      <td>360</td>\n",
       "      <td>0.005</td>\n",
       "      <td>132858</td>\n",
       "      <td>19</td>\n",
       "      <td>38</td>\n",
       "      <td>0.023447</td>\n",
       "      <td>1535</td>\n",
       "      <td>1 min  0 sec</td>\n",
       "    </tr>\n",
       "    <tr>\n",
       "      <th>3rd</th>\n",
       "      <td>Past</td>\n",
       "      <td>17May2020</td>\n",
       "      <td>23May2020</td>\n",
       "      <td>9483499</td>\n",
       "      <td>SIR-F</td>\n",
       "      <td>1.46</td>\n",
       "      <td>0.000166</td>\n",
       "      <td>0.000060</td>\n",
       "      <td>0.011262</td>\n",
       "      <td>0.007637</td>\n",
       "      <td>360</td>\n",
       "      <td>0.000</td>\n",
       "      <td>4193</td>\n",
       "      <td>22</td>\n",
       "      <td>32</td>\n",
       "      <td>0.019991</td>\n",
       "      <td>755</td>\n",
       "      <td>0 min 25 sec</td>\n",
       "    </tr>\n",
       "    <tr>\n",
       "      <th>4th</th>\n",
       "      <td>Past</td>\n",
       "      <td>24May2020</td>\n",
       "      <td>30May2020</td>\n",
       "      <td>9483499</td>\n",
       "      <td>SIR-F</td>\n",
       "      <td>1.41</td>\n",
       "      <td>0.001433</td>\n",
       "      <td>0.000036</td>\n",
       "      <td>0.009963</td>\n",
       "      <td>0.007036</td>\n",
       "      <td>360</td>\n",
       "      <td>0.001</td>\n",
       "      <td>6889</td>\n",
       "      <td>25</td>\n",
       "      <td>35</td>\n",
       "      <td>0.010235</td>\n",
       "      <td>651</td>\n",
       "      <td>0 min 20 sec</td>\n",
       "    </tr>\n",
       "    <tr>\n",
       "      <th>5th</th>\n",
       "      <td>Past</td>\n",
       "      <td>31May2020</td>\n",
       "      <td>06Jun2020</td>\n",
       "      <td>9483499</td>\n",
       "      <td>SIR-F</td>\n",
       "      <td>1.06</td>\n",
       "      <td>0.000267</td>\n",
       "      <td>0.000076</td>\n",
       "      <td>0.008781</td>\n",
       "      <td>0.008169</td>\n",
       "      <td>360</td>\n",
       "      <td>0.000</td>\n",
       "      <td>3297</td>\n",
       "      <td>28</td>\n",
       "      <td>30</td>\n",
       "      <td>0.030155</td>\n",
       "      <td>1567</td>\n",
       "      <td>1 min  0 sec</td>\n",
       "    </tr>\n",
       "    <tr>\n",
       "      <th>6th</th>\n",
       "      <td>Past</td>\n",
       "      <td>07Jun2020</td>\n",
       "      <td>14Jun2020</td>\n",
       "      <td>9483499</td>\n",
       "      <td>SIR-F</td>\n",
       "      <td>0.84</td>\n",
       "      <td>0.000164</td>\n",
       "      <td>0.000057</td>\n",
       "      <td>0.007837</td>\n",
       "      <td>0.009235</td>\n",
       "      <td>360</td>\n",
       "      <td>0.000</td>\n",
       "      <td>4386</td>\n",
       "      <td>31</td>\n",
       "      <td>27</td>\n",
       "      <td>0.020617</td>\n",
       "      <td>1525</td>\n",
       "      <td>1 min  0 sec</td>\n",
       "    </tr>\n",
       "    <tr>\n",
       "      <th>7th</th>\n",
       "      <td>Past</td>\n",
       "      <td>15Jun2020</td>\n",
       "      <td>23Jun2020</td>\n",
       "      <td>9483499</td>\n",
       "      <td>SIR-F</td>\n",
       "      <td>0.55</td>\n",
       "      <td>0.000188</td>\n",
       "      <td>0.000060</td>\n",
       "      <td>0.006997</td>\n",
       "      <td>0.012573</td>\n",
       "      <td>360</td>\n",
       "      <td>0.000</td>\n",
       "      <td>4193</td>\n",
       "      <td>35</td>\n",
       "      <td>19</td>\n",
       "      <td>0.012435</td>\n",
       "      <td>740</td>\n",
       "      <td>0 min 25 sec</td>\n",
       "    </tr>\n",
       "    <tr>\n",
       "      <th>8th</th>\n",
       "      <td>Past</td>\n",
       "      <td>24Jun2020</td>\n",
       "      <td>11Jul2020</td>\n",
       "      <td>9483499</td>\n",
       "      <td>SIR-F</td>\n",
       "      <td>0.32</td>\n",
       "      <td>0.000825</td>\n",
       "      <td>0.000084</td>\n",
       "      <td>0.005450</td>\n",
       "      <td>0.017089</td>\n",
       "      <td>360</td>\n",
       "      <td>0.001</td>\n",
       "      <td>2959</td>\n",
       "      <td>45</td>\n",
       "      <td>14</td>\n",
       "      <td>0.055150</td>\n",
       "      <td>1594</td>\n",
       "      <td>1 min  0 sec</td>\n",
       "    </tr>\n",
       "    <tr>\n",
       "      <th>9th</th>\n",
       "      <td>Past</td>\n",
       "      <td>12Jul2020</td>\n",
       "      <td>21Aug2020</td>\n",
       "      <td>9483499</td>\n",
       "      <td>SIR-F</td>\n",
       "      <td>0.35</td>\n",
       "      <td>0.029158</td>\n",
       "      <td>0.000079</td>\n",
       "      <td>0.006817</td>\n",
       "      <td>0.018732</td>\n",
       "      <td>360</td>\n",
       "      <td>0.029</td>\n",
       "      <td>3153</td>\n",
       "      <td>36</td>\n",
       "      <td>13</td>\n",
       "      <td>0.392538</td>\n",
       "      <td>172</td>\n",
       "      <td>0 min  5 sec</td>\n",
       "    </tr>\n",
       "    <tr>\n",
       "      <th>10th</th>\n",
       "      <td>Past</td>\n",
       "      <td>22Aug2020</td>\n",
       "      <td>23Sep2020</td>\n",
       "      <td>9483499</td>\n",
       "      <td>SIR-F</td>\n",
       "      <td>0.77</td>\n",
       "      <td>0.028592</td>\n",
       "      <td>0.000718</td>\n",
       "      <td>0.047657</td>\n",
       "      <td>0.059207</td>\n",
       "      <td>360</td>\n",
       "      <td>0.029</td>\n",
       "      <td>348</td>\n",
       "      <td>5</td>\n",
       "      <td>4</td>\n",
       "      <td>1.381949</td>\n",
       "      <td>1513</td>\n",
       "      <td>1 min  0 sec</td>\n",
       "    </tr>\n",
       "    <tr>\n",
       "      <th>11th</th>\n",
       "      <td>Past</td>\n",
       "      <td>24Sep2020</td>\n",
       "      <td>13Oct2020</td>\n",
       "      <td>9483499</td>\n",
       "      <td>SIR-F</td>\n",
       "      <td>2.34</td>\n",
       "      <td>0.000365</td>\n",
       "      <td>0.000409</td>\n",
       "      <td>0.026207</td>\n",
       "      <td>0.010798</td>\n",
       "      <td>360</td>\n",
       "      <td>0.000</td>\n",
       "      <td>611</td>\n",
       "      <td>9</td>\n",
       "      <td>23</td>\n",
       "      <td>0.070255</td>\n",
       "      <td>1631</td>\n",
       "      <td>1 min  0 sec</td>\n",
       "    </tr>\n",
       "    <tr>\n",
       "      <th>12th</th>\n",
       "      <td>Past</td>\n",
       "      <td>14Oct2020</td>\n",
       "      <td>23Oct2020</td>\n",
       "      <td>9483499</td>\n",
       "      <td>SIR-F</td>\n",
       "      <td>1.63</td>\n",
       "      <td>0.000172</td>\n",
       "      <td>0.000164</td>\n",
       "      <td>0.024254</td>\n",
       "      <td>0.014726</td>\n",
       "      <td>360</td>\n",
       "      <td>0.000</td>\n",
       "      <td>1520</td>\n",
       "      <td>10</td>\n",
       "      <td>16</td>\n",
       "      <td>0.008009</td>\n",
       "      <td>1555</td>\n",
       "      <td>1 min  0 sec</td>\n",
       "    </tr>\n",
       "    <tr>\n",
       "      <th>13th</th>\n",
       "      <td>Past</td>\n",
       "      <td>24Oct2020</td>\n",
       "      <td>30Oct2020</td>\n",
       "      <td>9483499</td>\n",
       "      <td>SIR-F</td>\n",
       "      <td>1.68</td>\n",
       "      <td>0.000680</td>\n",
       "      <td>0.000079</td>\n",
       "      <td>0.024461</td>\n",
       "      <td>0.014448</td>\n",
       "      <td>360</td>\n",
       "      <td>0.001</td>\n",
       "      <td>3156</td>\n",
       "      <td>10</td>\n",
       "      <td>17</td>\n",
       "      <td>0.003952</td>\n",
       "      <td>186</td>\n",
       "      <td>0 min  5 sec</td>\n",
       "    </tr>\n",
       "    <tr>\n",
       "      <th>14th</th>\n",
       "      <td>Past</td>\n",
       "      <td>31Oct2020</td>\n",
       "      <td>08Nov2020</td>\n",
       "      <td>9483499</td>\n",
       "      <td>SIR-F</td>\n",
       "      <td>2.05</td>\n",
       "      <td>0.000161</td>\n",
       "      <td>0.000060</td>\n",
       "      <td>0.019555</td>\n",
       "      <td>0.009472</td>\n",
       "      <td>360</td>\n",
       "      <td>0.000</td>\n",
       "      <td>4195</td>\n",
       "      <td>12</td>\n",
       "      <td>26</td>\n",
       "      <td>0.011257</td>\n",
       "      <td>1548</td>\n",
       "      <td>1 min  0 sec</td>\n",
       "    </tr>\n",
       "    <tr>\n",
       "      <th rowspan=\"15\" valign=\"top\">Egypt</th>\n",
       "      <th>0th</th>\n",
       "      <td>Past</td>\n",
       "      <td>28Feb2020</td>\n",
       "      <td>02May2020</td>\n",
       "      <td>98423595</td>\n",
       "      <td>SIR-F</td>\n",
       "      <td>0.02</td>\n",
       "      <td>0.602763</td>\n",
       "      <td>0.544883</td>\n",
       "      <td>0.025094</td>\n",
       "      <td>0.004698</td>\n",
       "      <td>360</td>\n",
       "      <td>0.603</td>\n",
       "      <td>0</td>\n",
       "      <td>9</td>\n",
       "      <td>53</td>\n",
       "      <td>14.999924</td>\n",
       "      <td>1555</td>\n",
       "      <td>1 min  0 sec</td>\n",
       "    </tr>\n",
       "    <tr>\n",
       "      <th>1st</th>\n",
       "      <td>Past</td>\n",
       "      <td>03May2020</td>\n",
       "      <td>17May2020</td>\n",
       "      <td>98423595</td>\n",
       "      <td>SIR-F</td>\n",
       "      <td>3.68</td>\n",
       "      <td>0.001002</td>\n",
       "      <td>0.000557</td>\n",
       "      <td>0.016880</td>\n",
       "      <td>0.004024</td>\n",
       "      <td>360</td>\n",
       "      <td>0.001</td>\n",
       "      <td>449</td>\n",
       "      <td>14</td>\n",
       "      <td>62</td>\n",
       "      <td>0.042375</td>\n",
       "      <td>1531</td>\n",
       "      <td>1 min  0 sec</td>\n",
       "    </tr>\n",
       "    <tr>\n",
       "      <th>2nd</th>\n",
       "      <td>Past</td>\n",
       "      <td>18May2020</td>\n",
       "      <td>28May2020</td>\n",
       "      <td>98423595</td>\n",
       "      <td>SIR-F</td>\n",
       "      <td>3.34</td>\n",
       "      <td>0.021251</td>\n",
       "      <td>0.000048</td>\n",
       "      <td>0.018763</td>\n",
       "      <td>0.005443</td>\n",
       "      <td>360</td>\n",
       "      <td>0.021</td>\n",
       "      <td>5181</td>\n",
       "      <td>13</td>\n",
       "      <td>45</td>\n",
       "      <td>0.034413</td>\n",
       "      <td>1600</td>\n",
       "      <td>1 min  0 sec</td>\n",
       "    </tr>\n",
       "    <tr>\n",
       "      <th>3rd</th>\n",
       "      <td>Past</td>\n",
       "      <td>29May2020</td>\n",
       "      <td>03Jun2020</td>\n",
       "      <td>98423595</td>\n",
       "      <td>SIR-F</td>\n",
       "      <td>3.17</td>\n",
       "      <td>0.001228</td>\n",
       "      <td>0.000556</td>\n",
       "      <td>0.018181</td>\n",
       "      <td>0.005176</td>\n",
       "      <td>360</td>\n",
       "      <td>0.001</td>\n",
       "      <td>449</td>\n",
       "      <td>13</td>\n",
       "      <td>48</td>\n",
       "      <td>0.017170</td>\n",
       "      <td>357</td>\n",
       "      <td>0 min 10 sec</td>\n",
       "    </tr>\n",
       "    <tr>\n",
       "      <th>4th</th>\n",
       "      <td>Past</td>\n",
       "      <td>04Jun2020</td>\n",
       "      <td>13Jun2020</td>\n",
       "      <td>98423595</td>\n",
       "      <td>SIR-F</td>\n",
       "      <td>3.32</td>\n",
       "      <td>0.000621</td>\n",
       "      <td>0.000361</td>\n",
       "      <td>0.014298</td>\n",
       "      <td>0.003946</td>\n",
       "      <td>360</td>\n",
       "      <td>0.001</td>\n",
       "      <td>692</td>\n",
       "      <td>17</td>\n",
       "      <td>63</td>\n",
       "      <td>0.015241</td>\n",
       "      <td>468</td>\n",
       "      <td>0 min 15 sec</td>\n",
       "    </tr>\n",
       "    <tr>\n",
       "      <th>5th</th>\n",
       "      <td>Past</td>\n",
       "      <td>14Jun2020</td>\n",
       "      <td>23Jun2020</td>\n",
       "      <td>98423595</td>\n",
       "      <td>SIR-F</td>\n",
       "      <td>3.40</td>\n",
       "      <td>0.036781</td>\n",
       "      <td>0.000193</td>\n",
       "      <td>0.010743</td>\n",
       "      <td>0.002853</td>\n",
       "      <td>360</td>\n",
       "      <td>0.037</td>\n",
       "      <td>1295</td>\n",
       "      <td>23</td>\n",
       "      <td>87</td>\n",
       "      <td>0.015636</td>\n",
       "      <td>198</td>\n",
       "      <td>0 min  5 sec</td>\n",
       "    </tr>\n",
       "    <tr>\n",
       "      <th>6th</th>\n",
       "      <td>Past</td>\n",
       "      <td>24Jun2020</td>\n",
       "      <td>02Jul2020</td>\n",
       "      <td>98423595</td>\n",
       "      <td>SIR-F</td>\n",
       "      <td>3.03</td>\n",
       "      <td>0.033993</td>\n",
       "      <td>0.000191</td>\n",
       "      <td>0.007817</td>\n",
       "      <td>0.002297</td>\n",
       "      <td>360</td>\n",
       "      <td>0.034</td>\n",
       "      <td>1305</td>\n",
       "      <td>31</td>\n",
       "      <td>108</td>\n",
       "      <td>0.007196</td>\n",
       "      <td>199</td>\n",
       "      <td>0 min  5 sec</td>\n",
       "    </tr>\n",
       "    <tr>\n",
       "      <th>7th</th>\n",
       "      <td>Past</td>\n",
       "      <td>03Jul2020</td>\n",
       "      <td>13Jul2020</td>\n",
       "      <td>98423595</td>\n",
       "      <td>SIR-F</td>\n",
       "      <td>1.67</td>\n",
       "      <td>0.032406</td>\n",
       "      <td>0.000191</td>\n",
       "      <td>0.004623</td>\n",
       "      <td>0.002491</td>\n",
       "      <td>360</td>\n",
       "      <td>0.032</td>\n",
       "      <td>1308</td>\n",
       "      <td>54</td>\n",
       "      <td>100</td>\n",
       "      <td>0.010317</td>\n",
       "      <td>332</td>\n",
       "      <td>0 min 10 sec</td>\n",
       "    </tr>\n",
       "    <tr>\n",
       "      <th>8th</th>\n",
       "      <td>Past</td>\n",
       "      <td>14Jul2020</td>\n",
       "      <td>20Jul2020</td>\n",
       "      <td>98423595</td>\n",
       "      <td>SIR-F</td>\n",
       "      <td>1.23</td>\n",
       "      <td>0.047186</td>\n",
       "      <td>0.000079</td>\n",
       "      <td>0.003469</td>\n",
       "      <td>0.002604</td>\n",
       "      <td>360</td>\n",
       "      <td>0.047</td>\n",
       "      <td>3152</td>\n",
       "      <td>72</td>\n",
       "      <td>95</td>\n",
       "      <td>0.003280</td>\n",
       "      <td>172</td>\n",
       "      <td>0 min  5 sec</td>\n",
       "    </tr>\n",
       "    <tr>\n",
       "      <th>9th</th>\n",
       "      <td>Past</td>\n",
       "      <td>21Jul2020</td>\n",
       "      <td>27Jul2020</td>\n",
       "      <td>98423595</td>\n",
       "      <td>SIR-F</td>\n",
       "      <td>0.59</td>\n",
       "      <td>0.041839</td>\n",
       "      <td>0.000054</td>\n",
       "      <td>0.002627</td>\n",
       "      <td>0.004240</td>\n",
       "      <td>360</td>\n",
       "      <td>0.042</td>\n",
       "      <td>4601</td>\n",
       "      <td>95</td>\n",
       "      <td>58</td>\n",
       "      <td>0.006437</td>\n",
       "      <td>171</td>\n",
       "      <td>0 min  5 sec</td>\n",
       "    </tr>\n",
       "    <tr>\n",
       "      <th>10th</th>\n",
       "      <td>Past</td>\n",
       "      <td>28Jul2020</td>\n",
       "      <td>10Aug2020</td>\n",
       "      <td>98423595</td>\n",
       "      <td>SIR-F</td>\n",
       "      <td>0.15</td>\n",
       "      <td>0.070773</td>\n",
       "      <td>0.000079</td>\n",
       "      <td>0.001199</td>\n",
       "      <td>0.007237</td>\n",
       "      <td>360</td>\n",
       "      <td>0.071</td>\n",
       "      <td>3169</td>\n",
       "      <td>208</td>\n",
       "      <td>34</td>\n",
       "      <td>0.020653</td>\n",
       "      <td>328</td>\n",
       "      <td>0 min 10 sec</td>\n",
       "    </tr>\n",
       "    <tr>\n",
       "      <th>11th</th>\n",
       "      <td>Past</td>\n",
       "      <td>11Aug2020</td>\n",
       "      <td>27Aug2020</td>\n",
       "      <td>98423595</td>\n",
       "      <td>SIR-F</td>\n",
       "      <td>0.17</td>\n",
       "      <td>0.001179</td>\n",
       "      <td>0.000150</td>\n",
       "      <td>0.001310</td>\n",
       "      <td>0.007444</td>\n",
       "      <td>360</td>\n",
       "      <td>0.001</td>\n",
       "      <td>1671</td>\n",
       "      <td>190</td>\n",
       "      <td>33</td>\n",
       "      <td>0.014682</td>\n",
       "      <td>178</td>\n",
       "      <td>0 min  5 sec</td>\n",
       "    </tr>\n",
       "    <tr>\n",
       "      <th>12th</th>\n",
       "      <td>Past</td>\n",
       "      <td>28Aug2020</td>\n",
       "      <td>11Sep2020</td>\n",
       "      <td>98423595</td>\n",
       "      <td>SIR-F</td>\n",
       "      <td>0.16</td>\n",
       "      <td>0.027089</td>\n",
       "      <td>0.000168</td>\n",
       "      <td>0.002245</td>\n",
       "      <td>0.013631</td>\n",
       "      <td>360</td>\n",
       "      <td>0.027</td>\n",
       "      <td>1488</td>\n",
       "      <td>111</td>\n",
       "      <td>18</td>\n",
       "      <td>0.063311</td>\n",
       "      <td>340</td>\n",
       "      <td>0 min 10 sec</td>\n",
       "    </tr>\n",
       "    <tr>\n",
       "      <th>13th</th>\n",
       "      <td>Past</td>\n",
       "      <td>12Sep2020</td>\n",
       "      <td>06Oct2020</td>\n",
       "      <td>98423595</td>\n",
       "      <td>SIR-F</td>\n",
       "      <td>0.10</td>\n",
       "      <td>0.003489</td>\n",
       "      <td>0.000841</td>\n",
       "      <td>0.004359</td>\n",
       "      <td>0.041105</td>\n",
       "      <td>360</td>\n",
       "      <td>0.003</td>\n",
       "      <td>297</td>\n",
       "      <td>57</td>\n",
       "      <td>6</td>\n",
       "      <td>0.486876</td>\n",
       "      <td>313</td>\n",
       "      <td>0 min 10 sec</td>\n",
       "    </tr>\n",
       "    <tr>\n",
       "      <th>14th</th>\n",
       "      <td>Past</td>\n",
       "      <td>07Oct2020</td>\n",
       "      <td>08Nov2020</td>\n",
       "      <td>98423595</td>\n",
       "      <td>SIR-F</td>\n",
       "      <td>1.78</td>\n",
       "      <td>0.050673</td>\n",
       "      <td>0.001029</td>\n",
       "      <td>0.031087</td>\n",
       "      <td>0.015569</td>\n",
       "      <td>360</td>\n",
       "      <td>0.051</td>\n",
       "      <td>242</td>\n",
       "      <td>8</td>\n",
       "      <td>16</td>\n",
       "      <td>0.131735</td>\n",
       "      <td>1527</td>\n",
       "      <td>1 min  0 sec</td>\n",
       "    </tr>\n",
       "  </tbody>\n",
       "</table>\n",
       "</div>"
      ],
      "text/plain": [
       "               Type      Start        End  Population    ODE    Rt     theta  \\\n",
       "Country Phase                                                                  \n",
       "Belarus 0th    Past  09Mar2020  26Apr2020     9483499  SIR-F  8.90  0.000359   \n",
       "        1st    Past  27Apr2020  08May2020     9483499  SIR-F  3.39  0.000456   \n",
       "        2nd    Past  09May2020  16May2020     9483499  SIR-F  1.98  0.004998   \n",
       "        3rd    Past  17May2020  23May2020     9483499  SIR-F  1.46  0.000166   \n",
       "        4th    Past  24May2020  30May2020     9483499  SIR-F  1.41  0.001433   \n",
       "        5th    Past  31May2020  06Jun2020     9483499  SIR-F  1.06  0.000267   \n",
       "        6th    Past  07Jun2020  14Jun2020     9483499  SIR-F  0.84  0.000164   \n",
       "        7th    Past  15Jun2020  23Jun2020     9483499  SIR-F  0.55  0.000188   \n",
       "        8th    Past  24Jun2020  11Jul2020     9483499  SIR-F  0.32  0.000825   \n",
       "        9th    Past  12Jul2020  21Aug2020     9483499  SIR-F  0.35  0.029158   \n",
       "        10th   Past  22Aug2020  23Sep2020     9483499  SIR-F  0.77  0.028592   \n",
       "        11th   Past  24Sep2020  13Oct2020     9483499  SIR-F  2.34  0.000365   \n",
       "        12th   Past  14Oct2020  23Oct2020     9483499  SIR-F  1.63  0.000172   \n",
       "        13th   Past  24Oct2020  30Oct2020     9483499  SIR-F  1.68  0.000680   \n",
       "        14th   Past  31Oct2020  08Nov2020     9483499  SIR-F  2.05  0.000161   \n",
       "Egypt   0th    Past  28Feb2020  02May2020    98423595  SIR-F  0.02  0.602763   \n",
       "        1st    Past  03May2020  17May2020    98423595  SIR-F  3.68  0.001002   \n",
       "        2nd    Past  18May2020  28May2020    98423595  SIR-F  3.34  0.021251   \n",
       "        3rd    Past  29May2020  03Jun2020    98423595  SIR-F  3.17  0.001228   \n",
       "        4th    Past  04Jun2020  13Jun2020    98423595  SIR-F  3.32  0.000621   \n",
       "        5th    Past  14Jun2020  23Jun2020    98423595  SIR-F  3.40  0.036781   \n",
       "        6th    Past  24Jun2020  02Jul2020    98423595  SIR-F  3.03  0.033993   \n",
       "        7th    Past  03Jul2020  13Jul2020    98423595  SIR-F  1.67  0.032406   \n",
       "        8th    Past  14Jul2020  20Jul2020    98423595  SIR-F  1.23  0.047186   \n",
       "        9th    Past  21Jul2020  27Jul2020    98423595  SIR-F  0.59  0.041839   \n",
       "        10th   Past  28Jul2020  10Aug2020    98423595  SIR-F  0.15  0.070773   \n",
       "        11th   Past  11Aug2020  27Aug2020    98423595  SIR-F  0.17  0.001179   \n",
       "        12th   Past  28Aug2020  11Sep2020    98423595  SIR-F  0.16  0.027089   \n",
       "        13th   Past  12Sep2020  06Oct2020    98423595  SIR-F  0.10  0.003489   \n",
       "        14th   Past  07Oct2020  08Nov2020    98423595  SIR-F  1.78  0.050673   \n",
       "\n",
       "                  kappa       rho     sigma  tau  alpha1 [-]  1/alpha2 [day]  \\\n",
       "Country Phase                                                                  \n",
       "Belarus 0th    0.000402  0.045328  0.004691  360       0.000             622   \n",
       "        1st    0.000084  0.018096  0.005252  360       0.000            2990   \n",
       "        2nd    0.000002  0.013061  0.006575  360       0.005          132858   \n",
       "        3rd    0.000060  0.011262  0.007637  360       0.000            4193   \n",
       "        4th    0.000036  0.009963  0.007036  360       0.001            6889   \n",
       "        5th    0.000076  0.008781  0.008169  360       0.000            3297   \n",
       "        6th    0.000057  0.007837  0.009235  360       0.000            4386   \n",
       "        7th    0.000060  0.006997  0.012573  360       0.000            4193   \n",
       "        8th    0.000084  0.005450  0.017089  360       0.001            2959   \n",
       "        9th    0.000079  0.006817  0.018732  360       0.029            3153   \n",
       "        10th   0.000718  0.047657  0.059207  360       0.029             348   \n",
       "        11th   0.000409  0.026207  0.010798  360       0.000             611   \n",
       "        12th   0.000164  0.024254  0.014726  360       0.000            1520   \n",
       "        13th   0.000079  0.024461  0.014448  360       0.001            3156   \n",
       "        14th   0.000060  0.019555  0.009472  360       0.000            4195   \n",
       "Egypt   0th    0.544883  0.025094  0.004698  360       0.603               0   \n",
       "        1st    0.000557  0.016880  0.004024  360       0.001             449   \n",
       "        2nd    0.000048  0.018763  0.005443  360       0.021            5181   \n",
       "        3rd    0.000556  0.018181  0.005176  360       0.001             449   \n",
       "        4th    0.000361  0.014298  0.003946  360       0.001             692   \n",
       "        5th    0.000193  0.010743  0.002853  360       0.037            1295   \n",
       "        6th    0.000191  0.007817  0.002297  360       0.034            1305   \n",
       "        7th    0.000191  0.004623  0.002491  360       0.032            1308   \n",
       "        8th    0.000079  0.003469  0.002604  360       0.047            3152   \n",
       "        9th    0.000054  0.002627  0.004240  360       0.042            4601   \n",
       "        10th   0.000079  0.001199  0.007237  360       0.071            3169   \n",
       "        11th   0.000150  0.001310  0.007444  360       0.001            1671   \n",
       "        12th   0.000168  0.002245  0.013631  360       0.027            1488   \n",
       "        13th   0.000841  0.004359  0.041105  360       0.003             297   \n",
       "        14th   0.001029  0.031087  0.015569  360       0.051             242   \n",
       "\n",
       "               1/beta [day]  1/gamma [day]      RMSLE  Trials       Runtime  \n",
       "Country Phase                                                                \n",
       "Belarus 0th               5             53   1.309354    1506  1 min  0 sec  \n",
       "        1st              13             47   0.070599    1559  1 min  0 sec  \n",
       "        2nd              19             38   0.023447    1535  1 min  0 sec  \n",
       "        3rd              22             32   0.019991     755  0 min 25 sec  \n",
       "        4th              25             35   0.010235     651  0 min 20 sec  \n",
       "        5th              28             30   0.030155    1567  1 min  0 sec  \n",
       "        6th              31             27   0.020617    1525  1 min  0 sec  \n",
       "        7th              35             19   0.012435     740  0 min 25 sec  \n",
       "        8th              45             14   0.055150    1594  1 min  0 sec  \n",
       "        9th              36             13   0.392538     172  0 min  5 sec  \n",
       "        10th              5              4   1.381949    1513  1 min  0 sec  \n",
       "        11th              9             23   0.070255    1631  1 min  0 sec  \n",
       "        12th             10             16   0.008009    1555  1 min  0 sec  \n",
       "        13th             10             17   0.003952     186  0 min  5 sec  \n",
       "        14th             12             26   0.011257    1548  1 min  0 sec  \n",
       "Egypt   0th               9             53  14.999924    1555  1 min  0 sec  \n",
       "        1st              14             62   0.042375    1531  1 min  0 sec  \n",
       "        2nd              13             45   0.034413    1600  1 min  0 sec  \n",
       "        3rd              13             48   0.017170     357  0 min 10 sec  \n",
       "        4th              17             63   0.015241     468  0 min 15 sec  \n",
       "        5th              23             87   0.015636     198  0 min  5 sec  \n",
       "        6th              31            108   0.007196     199  0 min  5 sec  \n",
       "        7th              54            100   0.010317     332  0 min 10 sec  \n",
       "        8th              72             95   0.003280     172  0 min  5 sec  \n",
       "        9th              95             58   0.006437     171  0 min  5 sec  \n",
       "        10th            208             34   0.020653     328  0 min 10 sec  \n",
       "        11th            190             33   0.014682     178  0 min  5 sec  \n",
       "        12th            111             18   0.063311     340  0 min 10 sec  \n",
       "        13th             57              6   0.486876     313  0 min 10 sec  \n",
       "        14th              8             16   0.131735    1527  1 min  0 sec  "
      ]
     },
     "execution_count": 12,
     "metadata": {},
     "output_type": "execute_result"
    }
   ],
   "source": [
    "# Show summary\n",
    "analyser.summary(countries=countries_show)"
   ]
  },
  {
   "cell_type": "markdown",
   "metadata": {},
   "source": [
    "## Compare the history of parameters\n",
    "Here, compare the history of parameter values if countries."
   ]
  },
  {
   "cell_type": "code",
   "execution_count": 13,
   "metadata": {
    "collapsed": false
   },
   "outputs": [
    {
     "data": {
      "text/html": [
       "<div>\n",
       "<style scoped>\n",
       "    .dataframe tbody tr th:only-of-type {\n",
       "        vertical-align: middle;\n",
       "    }\n",
       "\n",
       "    .dataframe tbody tr th {\n",
       "        vertical-align: top;\n",
       "    }\n",
       "\n",
       "    .dataframe thead th {\n",
       "        text-align: right;\n",
       "    }\n",
       "</style>\n",
       "<table border=\"1\" class=\"dataframe\">\n",
       "  <thead>\n",
       "    <tr style=\"text-align: right;\">\n",
       "      <th></th>\n",
       "      <th>Date</th>\n",
       "      <th>Country</th>\n",
       "      <th>theta</th>\n",
       "      <th>kappa</th>\n",
       "      <th>rho</th>\n",
       "      <th>sigma</th>\n",
       "      <th>alpha1 [-]</th>\n",
       "      <th>1/alpha2 [day]</th>\n",
       "      <th>1/beta [day]</th>\n",
       "      <th>1/gamma [day]</th>\n",
       "      <th>...</th>\n",
       "      <th>Cancel_events</th>\n",
       "      <th>Gatherings_restrictions</th>\n",
       "      <th>Transport_closing</th>\n",
       "      <th>Stay_home_restrictions</th>\n",
       "      <th>Internal_movement_restrictions</th>\n",
       "      <th>International_movement_restrictions</th>\n",
       "      <th>Information_campaigns</th>\n",
       "      <th>Testing_policy</th>\n",
       "      <th>Contact_tracing</th>\n",
       "      <th>Stringency_index</th>\n",
       "    </tr>\n",
       "  </thead>\n",
       "  <tbody>\n",
       "    <tr>\n",
       "      <th>0</th>\n",
       "      <td>2020-03-10</td>\n",
       "      <td>Latvia</td>\n",
       "      <td>0.000850595</td>\n",
       "      <td>0.000290723</td>\n",
       "      <td>0.0176648</td>\n",
       "      <td>0</td>\n",
       "      <td>-</td>\n",
       "      <td>-</td>\n",
       "      <td>-</td>\n",
       "      <td>-</td>\n",
       "      <td>...</td>\n",
       "      <td>0</td>\n",
       "      <td>0</td>\n",
       "      <td>0</td>\n",
       "      <td>0</td>\n",
       "      <td>0</td>\n",
       "      <td>2</td>\n",
       "      <td>1</td>\n",
       "      <td>1</td>\n",
       "      <td>0</td>\n",
       "      <td>8.33</td>\n",
       "    </tr>\n",
       "    <tr>\n",
       "      <th>1</th>\n",
       "      <td>2020-03-10</td>\n",
       "      <td>Latvia</td>\n",
       "      <td>0.000850595</td>\n",
       "      <td>0.000290723</td>\n",
       "      <td>0.0176648</td>\n",
       "      <td>0</td>\n",
       "      <td>-</td>\n",
       "      <td>-</td>\n",
       "      <td>-</td>\n",
       "      <td>-</td>\n",
       "      <td>...</td>\n",
       "      <td>0</td>\n",
       "      <td>0</td>\n",
       "      <td>0</td>\n",
       "      <td>0</td>\n",
       "      <td>0</td>\n",
       "      <td>0</td>\n",
       "      <td>0</td>\n",
       "      <td>0</td>\n",
       "      <td>0</td>\n",
       "      <td>0.00</td>\n",
       "    </tr>\n",
       "    <tr>\n",
       "      <th>2</th>\n",
       "      <td>2020-03-10</td>\n",
       "      <td>Latvia</td>\n",
       "      <td>0.000850595</td>\n",
       "      <td>0.000290723</td>\n",
       "      <td>0.0176648</td>\n",
       "      <td>0</td>\n",
       "      <td>-</td>\n",
       "      <td>-</td>\n",
       "      <td>-</td>\n",
       "      <td>-</td>\n",
       "      <td>...</td>\n",
       "      <td>0</td>\n",
       "      <td>0</td>\n",
       "      <td>0</td>\n",
       "      <td>0</td>\n",
       "      <td>0</td>\n",
       "      <td>0</td>\n",
       "      <td>0</td>\n",
       "      <td>0</td>\n",
       "      <td>0</td>\n",
       "      <td>0.00</td>\n",
       "    </tr>\n",
       "    <tr>\n",
       "      <th>3</th>\n",
       "      <td>2020-03-10</td>\n",
       "      <td>Latvia</td>\n",
       "      <td>0.000850595</td>\n",
       "      <td>0.000290723</td>\n",
       "      <td>0.0176648</td>\n",
       "      <td>0</td>\n",
       "      <td>-</td>\n",
       "      <td>-</td>\n",
       "      <td>-</td>\n",
       "      <td>-</td>\n",
       "      <td>...</td>\n",
       "      <td>0</td>\n",
       "      <td>0</td>\n",
       "      <td>0</td>\n",
       "      <td>0</td>\n",
       "      <td>0</td>\n",
       "      <td>0</td>\n",
       "      <td>0</td>\n",
       "      <td>0</td>\n",
       "      <td>0</td>\n",
       "      <td>0.00</td>\n",
       "    </tr>\n",
       "    <tr>\n",
       "      <th>4</th>\n",
       "      <td>2020-03-10</td>\n",
       "      <td>Latvia</td>\n",
       "      <td>0.000850595</td>\n",
       "      <td>0.000290723</td>\n",
       "      <td>0.0176648</td>\n",
       "      <td>0</td>\n",
       "      <td>-</td>\n",
       "      <td>-</td>\n",
       "      <td>-</td>\n",
       "      <td>-</td>\n",
       "      <td>...</td>\n",
       "      <td>0</td>\n",
       "      <td>0</td>\n",
       "      <td>0</td>\n",
       "      <td>0</td>\n",
       "      <td>0</td>\n",
       "      <td>0</td>\n",
       "      <td>0</td>\n",
       "      <td>0</td>\n",
       "      <td>0</td>\n",
       "      <td>0.00</td>\n",
       "    </tr>\n",
       "  </tbody>\n",
       "</table>\n",
       "<p>5 rows × 23 columns</p>\n",
       "</div>"
      ],
      "text/plain": [
       "        Date Country        theta        kappa        rho sigma alpha1 [-]  \\\n",
       "0 2020-03-10  Latvia  0.000850595  0.000290723  0.0176648     0          -   \n",
       "1 2020-03-10  Latvia  0.000850595  0.000290723  0.0176648     0          -   \n",
       "2 2020-03-10  Latvia  0.000850595  0.000290723  0.0176648     0          -   \n",
       "3 2020-03-10  Latvia  0.000850595  0.000290723  0.0176648     0          -   \n",
       "4 2020-03-10  Latvia  0.000850595  0.000290723  0.0176648     0          -   \n",
       "\n",
       "  1/alpha2 [day] 1/beta [day] 1/gamma [day]  ... Cancel_events  \\\n",
       "0              -            -             -  ...             0   \n",
       "1              -            -             -  ...             0   \n",
       "2              -            -             -  ...             0   \n",
       "3              -            -             -  ...             0   \n",
       "4              -            -             -  ...             0   \n",
       "\n",
       "   Gatherings_restrictions  Transport_closing  Stay_home_restrictions  \\\n",
       "0                        0                  0                       0   \n",
       "1                        0                  0                       0   \n",
       "2                        0                  0                       0   \n",
       "3                        0                  0                       0   \n",
       "4                        0                  0                       0   \n",
       "\n",
       "   Internal_movement_restrictions  International_movement_restrictions  \\\n",
       "0                               0                                    2   \n",
       "1                               0                                    0   \n",
       "2                               0                                    0   \n",
       "3                               0                                    0   \n",
       "4                               0                                    0   \n",
       "\n",
       "   Information_campaigns  Testing_policy  Contact_tracing  Stringency_index  \n",
       "0                      1               1                0              8.33  \n",
       "1                      0               0                0              0.00  \n",
       "2                      0               0                0              0.00  \n",
       "3                      0               0                0              0.00  \n",
       "4                      0               0                0              0.00  \n",
       "\n",
       "[5 rows x 23 columns]"
      ]
     },
     "execution_count": 13,
     "metadata": {},
     "output_type": "execute_result"
    }
   ],
   "source": [
    "# All parameter/day parameter/Rt/OxCGRT\n",
    "analyser.track().head()"
   ]
  },
  {
   "cell_type": "markdown",
   "metadata": {},
   "source": [
    "### $Rt$: Reprodcution number $\\mathrm{[-]}$"
   ]
  },
  {
   "cell_type": "code",
   "execution_count": 14,
   "metadata": {
    "collapsed": false
   },
   "outputs": [
    {
     "data": {
      "image/png": "[encoded data removed]",
      "text/plain": [
       "<Figure size 648x432 with 1 Axes>"
      ]
     },
     "metadata": {},
     "output_type": "display_data"
    },
    {
     "data": {
      "text/html": [
       "<div>\n",
       "<style scoped>\n",
       "    .dataframe tbody tr th:only-of-type {\n",
       "        vertical-align: middle;\n",
       "    }\n",
       "\n",
       "    .dataframe tbody tr th {\n",
       "        vertical-align: top;\n",
       "    }\n",
       "\n",
       "    .dataframe thead th {\n",
       "        text-align: right;\n",
       "    }\n",
       "</style>\n",
       "<table border=\"1\" class=\"dataframe\">\n",
       "  <thead>\n",
       "    <tr style=\"text-align: right;\">\n",
       "      <th>Country</th>\n",
       "      <th>Belarus</th>\n",
       "      <th>Egypt</th>\n",
       "      <th>Honduras</th>\n",
       "      <th>Latvia</th>\n",
       "      <th>Russia</th>\n",
       "      <th>Somalia</th>\n",
       "    </tr>\n",
       "    <tr>\n",
       "      <th>Date</th>\n",
       "      <th></th>\n",
       "      <th></th>\n",
       "      <th></th>\n",
       "      <th></th>\n",
       "      <th></th>\n",
       "      <th></th>\n",
       "    </tr>\n",
       "  </thead>\n",
       "  <tbody>\n",
       "    <tr>\n",
       "      <th>2020-11-04</th>\n",
       "      <td>2.05</td>\n",
       "      <td>1.78</td>\n",
       "      <td>1.09</td>\n",
       "      <td>71.54</td>\n",
       "      <td>1.29</td>\n",
       "      <td>0.0</td>\n",
       "    </tr>\n",
       "    <tr>\n",
       "      <th>2020-11-05</th>\n",
       "      <td>2.05</td>\n",
       "      <td>1.78</td>\n",
       "      <td>1.09</td>\n",
       "      <td>71.54</td>\n",
       "      <td>1.29</td>\n",
       "      <td>0.0</td>\n",
       "    </tr>\n",
       "    <tr>\n",
       "      <th>2020-11-06</th>\n",
       "      <td>2.05</td>\n",
       "      <td>1.78</td>\n",
       "      <td>1.09</td>\n",
       "      <td>71.54</td>\n",
       "      <td>1.29</td>\n",
       "      <td>0.0</td>\n",
       "    </tr>\n",
       "    <tr>\n",
       "      <th>2020-11-07</th>\n",
       "      <td>2.05</td>\n",
       "      <td>1.78</td>\n",
       "      <td>1.09</td>\n",
       "      <td>71.54</td>\n",
       "      <td>1.29</td>\n",
       "      <td>0.0</td>\n",
       "    </tr>\n",
       "    <tr>\n",
       "      <th>2020-11-08</th>\n",
       "      <td>2.05</td>\n",
       "      <td>1.78</td>\n",
       "      <td>1.09</td>\n",
       "      <td>71.54</td>\n",
       "      <td>1.29</td>\n",
       "      <td>0.0</td>\n",
       "    </tr>\n",
       "  </tbody>\n",
       "</table>\n",
       "</div>"
      ],
      "text/plain": [
       "Country     Belarus  Egypt  Honduras  Latvia  Russia  Somalia\n",
       "Date                                                         \n",
       "2020-11-04     2.05   1.78      1.09   71.54    1.29      0.0\n",
       "2020-11-05     2.05   1.78      1.09   71.54    1.29      0.0\n",
       "2020-11-06     2.05   1.78      1.09   71.54    1.29      0.0\n",
       "2020-11-07     2.05   1.78      1.09   71.54    1.29      0.0\n",
       "2020-11-08     2.05   1.78      1.09   71.54    1.29      0.0"
      ]
     },
     "execution_count": 14,
     "metadata": {},
     "output_type": "execute_result"
    }
   ],
   "source": [
    "analyser.history(\"Rt\", roll_window=None).tail()"
   ]
  },
  {
   "cell_type": "markdown",
   "metadata": {},
   "source": [
    "### $\\rho$: Effective contact rate $\\mathrm{[-]}$"
   ]
  },
  {
   "cell_type": "code",
   "execution_count": 15,
   "metadata": {
    "collapsed": false
   },
   "outputs": [
    {
     "data": {
      "image/png": "[encoded data removed]",
      "text/plain": [
       "<Figure size 648x432 with 1 Axes>"
      ]
     },
     "metadata": {},
     "output_type": "display_data"
    },
    {
     "data": {
      "text/html": [
       "<div>\n",
       "<style scoped>\n",
       "    .dataframe tbody tr th:only-of-type {\n",
       "        vertical-align: middle;\n",
       "    }\n",
       "\n",
       "    .dataframe tbody tr th {\n",
       "        vertical-align: top;\n",
       "    }\n",
       "\n",
       "    .dataframe thead th {\n",
       "        text-align: right;\n",
       "    }\n",
       "</style>\n",
       "<table border=\"1\" class=\"dataframe\">\n",
       "  <thead>\n",
       "    <tr style=\"text-align: right;\">\n",
       "      <th>Country</th>\n",
       "      <th>Belarus</th>\n",
       "      <th>Egypt</th>\n",
       "      <th>Honduras</th>\n",
       "      <th>Latvia</th>\n",
       "      <th>Russia</th>\n",
       "      <th>Somalia</th>\n",
       "    </tr>\n",
       "    <tr>\n",
       "      <th>Date</th>\n",
       "      <th></th>\n",
       "      <th></th>\n",
       "      <th></th>\n",
       "      <th></th>\n",
       "      <th></th>\n",
       "      <th></th>\n",
       "    </tr>\n",
       "  </thead>\n",
       "  <tbody>\n",
       "    <tr>\n",
       "      <th>2020-11-04</th>\n",
       "      <td>0.019555</td>\n",
       "      <td>0.031087</td>\n",
       "      <td>0.001801</td>\n",
       "      <td>0.009547</td>\n",
       "      <td>0.003661</td>\n",
       "      <td>0.0</td>\n",
       "    </tr>\n",
       "    <tr>\n",
       "      <th>2020-11-05</th>\n",
       "      <td>0.019555</td>\n",
       "      <td>0.031087</td>\n",
       "      <td>0.001801</td>\n",
       "      <td>0.009547</td>\n",
       "      <td>0.003661</td>\n",
       "      <td>0.0</td>\n",
       "    </tr>\n",
       "    <tr>\n",
       "      <th>2020-11-06</th>\n",
       "      <td>0.019555</td>\n",
       "      <td>0.031087</td>\n",
       "      <td>0.001801</td>\n",
       "      <td>0.009547</td>\n",
       "      <td>0.003661</td>\n",
       "      <td>0.0</td>\n",
       "    </tr>\n",
       "    <tr>\n",
       "      <th>2020-11-07</th>\n",
       "      <td>0.019555</td>\n",
       "      <td>0.031087</td>\n",
       "      <td>0.001801</td>\n",
       "      <td>0.009547</td>\n",
       "      <td>0.003661</td>\n",
       "      <td>0.0</td>\n",
       "    </tr>\n",
       "    <tr>\n",
       "      <th>2020-11-08</th>\n",
       "      <td>0.019555</td>\n",
       "      <td>0.031087</td>\n",
       "      <td>0.001801</td>\n",
       "      <td>0.009547</td>\n",
       "      <td>0.003661</td>\n",
       "      <td>0.0</td>\n",
       "    </tr>\n",
       "  </tbody>\n",
       "</table>\n",
       "</div>"
      ],
      "text/plain": [
       "Country      Belarus     Egypt  Honduras    Latvia    Russia  Somalia\n",
       "Date                                                                 \n",
       "2020-11-04  0.019555  0.031087  0.001801  0.009547  0.003661      0.0\n",
       "2020-11-05  0.019555  0.031087  0.001801  0.009547  0.003661      0.0\n",
       "2020-11-06  0.019555  0.031087  0.001801  0.009547  0.003661      0.0\n",
       "2020-11-07  0.019555  0.031087  0.001801  0.009547  0.003661      0.0\n",
       "2020-11-08  0.019555  0.031087  0.001801  0.009547  0.003661      0.0"
      ]
     },
     "execution_count": 15,
     "metadata": {},
     "output_type": "execute_result"
    }
   ],
   "source": [
    "analyser.history(\"rho\", roll_window=None).tail()"
   ]
  },
  {
   "cell_type": "markdown",
   "metadata": {},
   "source": [
    "### $\\sigma$: Recovery rate $\\mathrm{[-]}$"
   ]
  },
  {
   "cell_type": "code",
   "execution_count": 16,
   "metadata": {
    "collapsed": false
   },
   "outputs": [
    {
     "data": {
      "image/png": "[encoded data removed]",
      "text/plain": [
       "<Figure size 648x432 with 1 Axes>"
      ]
     },
     "metadata": {},
     "output_type": "display_data"
    },
    {
     "data": {
      "text/html": [
       "<div>\n",
       "<style scoped>\n",
       "    .dataframe tbody tr th:only-of-type {\n",
       "        vertical-align: middle;\n",
       "    }\n",
       "\n",
       "    .dataframe tbody tr th {\n",
       "        vertical-align: top;\n",
       "    }\n",
       "\n",
       "    .dataframe thead th {\n",
       "        text-align: right;\n",
       "    }\n",
       "</style>\n",
       "<table border=\"1\" class=\"dataframe\">\n",
       "  <thead>\n",
       "    <tr style=\"text-align: right;\">\n",
       "      <th>Country</th>\n",
       "      <th>Belarus</th>\n",
       "      <th>Egypt</th>\n",
       "      <th>Honduras</th>\n",
       "      <th>Latvia</th>\n",
       "      <th>Russia</th>\n",
       "      <th>Somalia</th>\n",
       "    </tr>\n",
       "    <tr>\n",
       "      <th>Date</th>\n",
       "      <th></th>\n",
       "      <th></th>\n",
       "      <th></th>\n",
       "      <th></th>\n",
       "      <th></th>\n",
       "      <th></th>\n",
       "    </tr>\n",
       "  </thead>\n",
       "  <tbody>\n",
       "    <tr>\n",
       "      <th>2020-11-04</th>\n",
       "      <td>0.009472</td>\n",
       "      <td>0.015569</td>\n",
       "      <td>0.00161</td>\n",
       "      <td>0.0</td>\n",
       "      <td>0.002775</td>\n",
       "      <td>0.0</td>\n",
       "    </tr>\n",
       "    <tr>\n",
       "      <th>2020-11-05</th>\n",
       "      <td>0.009472</td>\n",
       "      <td>0.015569</td>\n",
       "      <td>0.00161</td>\n",
       "      <td>0.0</td>\n",
       "      <td>0.002775</td>\n",
       "      <td>0.0</td>\n",
       "    </tr>\n",
       "    <tr>\n",
       "      <th>2020-11-06</th>\n",
       "      <td>0.009472</td>\n",
       "      <td>0.015569</td>\n",
       "      <td>0.00161</td>\n",
       "      <td>0.0</td>\n",
       "      <td>0.002775</td>\n",
       "      <td>0.0</td>\n",
       "    </tr>\n",
       "    <tr>\n",
       "      <th>2020-11-07</th>\n",
       "      <td>0.009472</td>\n",
       "      <td>0.015569</td>\n",
       "      <td>0.00161</td>\n",
       "      <td>0.0</td>\n",
       "      <td>0.002775</td>\n",
       "      <td>0.0</td>\n",
       "    </tr>\n",
       "    <tr>\n",
       "      <th>2020-11-08</th>\n",
       "      <td>0.009472</td>\n",
       "      <td>0.015569</td>\n",
       "      <td>0.00161</td>\n",
       "      <td>0.0</td>\n",
       "      <td>0.002775</td>\n",
       "      <td>0.0</td>\n",
       "    </tr>\n",
       "  </tbody>\n",
       "</table>\n",
       "</div>"
      ],
      "text/plain": [
       "Country      Belarus     Egypt  Honduras  Latvia    Russia  Somalia\n",
       "Date                                                               \n",
       "2020-11-04  0.009472  0.015569   0.00161     0.0  0.002775      0.0\n",
       "2020-11-05  0.009472  0.015569   0.00161     0.0  0.002775      0.0\n",
       "2020-11-06  0.009472  0.015569   0.00161     0.0  0.002775      0.0\n",
       "2020-11-07  0.009472  0.015569   0.00161     0.0  0.002775      0.0\n",
       "2020-11-08  0.009472  0.015569   0.00161     0.0  0.002775      0.0"
      ]
     },
     "execution_count": 16,
     "metadata": {},
     "output_type": "execute_result"
    }
   ],
   "source": [
    "analyser.history(\"sigma\", roll_window=None).tail()"
   ]
  },
  {
   "cell_type": "markdown",
   "metadata": {},
   "source": [
    "### $\\kappa$: Mortality rate of infected cases $\\mathrm{[-]}$"
   ]
  },
  {
   "cell_type": "code",
   "execution_count": 17,
   "metadata": {
    "collapsed": false
   },
   "outputs": [
    {
     "data": {
      "image/png": "[encoded data removed]",
      "text/plain": [
       "<Figure size 648x432 with 1 Axes>"
      ]
     },
     "metadata": {},
     "output_type": "display_data"
    },
    {
     "data": {
      "text/html": [
       "<div>\n",
       "<style scoped>\n",
       "    .dataframe tbody tr th:only-of-type {\n",
       "        vertical-align: middle;\n",
       "    }\n",
       "\n",
       "    .dataframe tbody tr th {\n",
       "        vertical-align: top;\n",
       "    }\n",
       "\n",
       "    .dataframe thead th {\n",
       "        text-align: right;\n",
       "    }\n",
       "</style>\n",
       "<table border=\"1\" class=\"dataframe\">\n",
       "  <thead>\n",
       "    <tr style=\"text-align: right;\">\n",
       "      <th>Country</th>\n",
       "      <th>Belarus</th>\n",
       "      <th>Egypt</th>\n",
       "      <th>Honduras</th>\n",
       "      <th>Latvia</th>\n",
       "      <th>Russia</th>\n",
       "      <th>Somalia</th>\n",
       "    </tr>\n",
       "    <tr>\n",
       "      <th>Date</th>\n",
       "      <th></th>\n",
       "      <th></th>\n",
       "      <th></th>\n",
       "      <th></th>\n",
       "      <th></th>\n",
       "      <th></th>\n",
       "    </tr>\n",
       "  </thead>\n",
       "  <tbody>\n",
       "    <tr>\n",
       "      <th>2020-11-04</th>\n",
       "      <td>0.00006</td>\n",
       "      <td>0.001029</td>\n",
       "      <td>0.000002</td>\n",
       "      <td>0.000133</td>\n",
       "      <td>0.000057</td>\n",
       "      <td>0.000153</td>\n",
       "    </tr>\n",
       "    <tr>\n",
       "      <th>2020-11-05</th>\n",
       "      <td>0.00006</td>\n",
       "      <td>0.001029</td>\n",
       "      <td>0.000002</td>\n",
       "      <td>0.000133</td>\n",
       "      <td>0.000057</td>\n",
       "      <td>0.000153</td>\n",
       "    </tr>\n",
       "    <tr>\n",
       "      <th>2020-11-06</th>\n",
       "      <td>0.00006</td>\n",
       "      <td>0.001029</td>\n",
       "      <td>0.000002</td>\n",
       "      <td>0.000133</td>\n",
       "      <td>0.000057</td>\n",
       "      <td>0.000153</td>\n",
       "    </tr>\n",
       "    <tr>\n",
       "      <th>2020-11-07</th>\n",
       "      <td>0.00006</td>\n",
       "      <td>0.001029</td>\n",
       "      <td>0.000002</td>\n",
       "      <td>0.000133</td>\n",
       "      <td>0.000057</td>\n",
       "      <td>0.000153</td>\n",
       "    </tr>\n",
       "    <tr>\n",
       "      <th>2020-11-08</th>\n",
       "      <td>0.00006</td>\n",
       "      <td>0.001029</td>\n",
       "      <td>0.000002</td>\n",
       "      <td>0.000133</td>\n",
       "      <td>0.000057</td>\n",
       "      <td>0.000153</td>\n",
       "    </tr>\n",
       "  </tbody>\n",
       "</table>\n",
       "</div>"
      ],
      "text/plain": [
       "Country     Belarus     Egypt  Honduras    Latvia    Russia   Somalia\n",
       "Date                                                                 \n",
       "2020-11-04  0.00006  0.001029  0.000002  0.000133  0.000057  0.000153\n",
       "2020-11-05  0.00006  0.001029  0.000002  0.000133  0.000057  0.000153\n",
       "2020-11-06  0.00006  0.001029  0.000002  0.000133  0.000057  0.000153\n",
       "2020-11-07  0.00006  0.001029  0.000002  0.000133  0.000057  0.000153\n",
       "2020-11-08  0.00006  0.001029  0.000002  0.000133  0.000057  0.000153"
      ]
     },
     "execution_count": 17,
     "metadata": {},
     "output_type": "execute_result"
    }
   ],
   "source": [
    "analyser.history(\"kappa\", roll_window=None).tail()"
   ]
  },
  {
   "cell_type": "markdown",
   "metadata": {},
   "source": [
    "### $\\theta$: Mortality rate of S$^\\ast$ cases $\\mathrm{[-]}$"
   ]
  },
  {
   "cell_type": "code",
   "execution_count": 18,
   "metadata": {
    "collapsed": false
   },
   "outputs": [
    {
     "data": {
      "image/png": "[encoded data removed]",
      "text/plain": [
       "<Figure size 648x432 with 1 Axes>"
      ]
     },
     "metadata": {},
     "output_type": "display_data"
    },
    {
     "data": {
      "text/html": [
       "<div>\n",
       "<style scoped>\n",
       "    .dataframe tbody tr th:only-of-type {\n",
       "        vertical-align: middle;\n",
       "    }\n",
       "\n",
       "    .dataframe tbody tr th {\n",
       "        vertical-align: top;\n",
       "    }\n",
       "\n",
       "    .dataframe thead th {\n",
       "        text-align: right;\n",
       "    }\n",
       "</style>\n",
       "<table border=\"1\" class=\"dataframe\">\n",
       "  <thead>\n",
       "    <tr style=\"text-align: right;\">\n",
       "      <th>Country</th>\n",
       "      <th>Belarus</th>\n",
       "      <th>Egypt</th>\n",
       "      <th>Honduras</th>\n",
       "      <th>Latvia</th>\n",
       "      <th>Russia</th>\n",
       "      <th>Somalia</th>\n",
       "    </tr>\n",
       "    <tr>\n",
       "      <th>Date</th>\n",
       "      <th></th>\n",
       "      <th></th>\n",
       "      <th></th>\n",
       "      <th></th>\n",
       "      <th></th>\n",
       "      <th></th>\n",
       "    </tr>\n",
       "  </thead>\n",
       "  <tbody>\n",
       "    <tr>\n",
       "      <th>2020-11-04</th>\n",
       "      <td>0.000161</td>\n",
       "      <td>0.050673</td>\n",
       "      <td>0.024958</td>\n",
       "      <td>0.000297</td>\n",
       "      <td>0.000169</td>\n",
       "      <td>0.512286</td>\n",
       "    </tr>\n",
       "    <tr>\n",
       "      <th>2020-11-05</th>\n",
       "      <td>0.000161</td>\n",
       "      <td>0.050673</td>\n",
       "      <td>0.024958</td>\n",
       "      <td>0.000297</td>\n",
       "      <td>0.000169</td>\n",
       "      <td>0.512286</td>\n",
       "    </tr>\n",
       "    <tr>\n",
       "      <th>2020-11-06</th>\n",
       "      <td>0.000161</td>\n",
       "      <td>0.050673</td>\n",
       "      <td>0.024958</td>\n",
       "      <td>0.000297</td>\n",
       "      <td>0.000169</td>\n",
       "      <td>0.512286</td>\n",
       "    </tr>\n",
       "    <tr>\n",
       "      <th>2020-11-07</th>\n",
       "      <td>0.000161</td>\n",
       "      <td>0.050673</td>\n",
       "      <td>0.024958</td>\n",
       "      <td>0.000297</td>\n",
       "      <td>0.000169</td>\n",
       "      <td>0.512286</td>\n",
       "    </tr>\n",
       "    <tr>\n",
       "      <th>2020-11-08</th>\n",
       "      <td>0.000161</td>\n",
       "      <td>0.050673</td>\n",
       "      <td>0.024958</td>\n",
       "      <td>0.000297</td>\n",
       "      <td>0.000169</td>\n",
       "      <td>0.512286</td>\n",
       "    </tr>\n",
       "  </tbody>\n",
       "</table>\n",
       "</div>"
      ],
      "text/plain": [
       "Country      Belarus     Egypt  Honduras    Latvia    Russia   Somalia\n",
       "Date                                                                  \n",
       "2020-11-04  0.000161  0.050673  0.024958  0.000297  0.000169  0.512286\n",
       "2020-11-05  0.000161  0.050673  0.024958  0.000297  0.000169  0.512286\n",
       "2020-11-06  0.000161  0.050673  0.024958  0.000297  0.000169  0.512286\n",
       "2020-11-07  0.000161  0.050673  0.024958  0.000297  0.000169  0.512286\n",
       "2020-11-08  0.000161  0.050673  0.024958  0.000297  0.000169  0.512286"
      ]
     },
     "execution_count": 18,
     "metadata": {},
     "output_type": "execute_result"
    }
   ],
   "source": [
    "analyser.history(\"theta\", roll_window=None).tail()"
   ]
  },
  {
   "cell_type": "markdown",
   "metadata": {},
   "source": [
    "## (Experimental): Relationship of OxCGRT index and parameter values\n",
    "Government responses will impact on parameter values of ODE models about 14 days later. Here, we will investigate on the relationship of [stringency index (from OxCGRT)](https://github.com/OxCGRT/covid-policy-tracker/blob/master/documentation/index_methodology.md) and reproduction number/model parameters.\n"
   ]
  },
  {
   "cell_type": "code",
   "execution_count": 19,
   "metadata": {
    "collapsed": false
   },
   "outputs": [],
   "source": [
    "%matplotlib inline\n",
    "from matplotlib import pyplot as plt\n",
    "import seaborn as sns\n",
    "import pandas as pd"
   ]
  },
  {
   "cell_type": "code",
   "execution_count": 20,
   "metadata": {
    "collapsed": false
   },
   "outputs": [
    {
     "name": "stdout",
     "output_type": "stream",
     "text": [
      "<class 'pandas.core.frame.DataFrame'>\n",
      "Int64Index: 53451 entries, 0 to 53520\n",
      "Data columns (total 19 columns):\n",
      " #   Column                               Non-Null Count  Dtype         \n",
      "---  ------                               --------------  -----         \n",
      " 0   Date                                 53451 non-null  datetime64[ns]\n",
      " 1   Country                              53451 non-null  object        \n",
      " 2   Rt                                   53451 non-null  float64       \n",
      " 3   theta                                53451 non-null  float64       \n",
      " 4   kappa                                53451 non-null  float64       \n",
      " 5   rho                                  53451 non-null  float64       \n",
      " 6   sigma                                53451 non-null  float64       \n",
      " 7   School_closing                       53451 non-null  int64         \n",
      " 8   Workplace_closing                    53451 non-null  int64         \n",
      " 9   Cancel_events                        53451 non-null  int64         \n",
      " 10  Gatherings_restrictions              53451 non-null  int64         \n",
      " 11  Transport_closing                    53451 non-null  int64         \n",
      " 12  Stay_home_restrictions               53451 non-null  int64         \n",
      " 13  Internal_movement_restrictions       53451 non-null  int64         \n",
      " 14  International_movement_restrictions  53451 non-null  int64         \n",
      " 15  Information_campaigns                53451 non-null  int64         \n",
      " 16  Testing_policy                       53451 non-null  int64         \n",
      " 17  Contact_tracing                      53451 non-null  int64         \n",
      " 18  Stringency_index                     53451 non-null  float64       \n",
      "dtypes: datetime64[ns](1), float64(6), int64(11), object(1)\n",
      "memory usage: 8.2+ MB\n"
     ]
    }
   ],
   "source": [
    "df = analyser.track()\n",
    "param_cols = [\"Rt\", *cs.SIRF.PARAMETERS]\n",
    "oxcgrt_cols = oxcgrt_data.OXCGRT_VARS[:]\n",
    "cols = param_cols + oxcgrt_cols\n",
    "delay = 14\n",
    "\n",
    "for col in param_cols:\n",
    "    df[col] = pd.to_numeric(df[col], errors=\"coerce\")\n",
    "    df[col] = df.groupby(\"Country\")[col].shift(0 - delay)\n",
    "\n",
    "df = df.dropna(how=\"any\")\n",
    "df = df.loc[:, [\"Date\", \"Country\", *cols]]\n",
    "track_df = df.copy()\n",
    "track_df.info()"
   ]
  },
  {
   "cell_type": "code",
   "execution_count": 21,
   "metadata": {
    "collapsed": false
   },
   "outputs": [
    {
     "data": {
      "text/html": [
       "<style  type=\"text/css\" >\n",
       "#T_bcee4a8c_21b5_11eb_a5da_525400e1ad18row0_col0,#T_bcee4a8c_21b5_11eb_a5da_525400e1ad18row1_col1,#T_bcee4a8c_21b5_11eb_a5da_525400e1ad18row2_col2,#T_bcee4a8c_21b5_11eb_a5da_525400e1ad18row3_col3,#T_bcee4a8c_21b5_11eb_a5da_525400e1ad18row4_col4,#T_bcee4a8c_21b5_11eb_a5da_525400e1ad18row5_col5,#T_bcee4a8c_21b5_11eb_a5da_525400e1ad18row6_col6,#T_bcee4a8c_21b5_11eb_a5da_525400e1ad18row7_col7,#T_bcee4a8c_21b5_11eb_a5da_525400e1ad18row8_col8,#T_bcee4a8c_21b5_11eb_a5da_525400e1ad18row9_col9,#T_bcee4a8c_21b5_11eb_a5da_525400e1ad18row10_col10,#T_bcee4a8c_21b5_11eb_a5da_525400e1ad18row11_col11,#T_bcee4a8c_21b5_11eb_a5da_525400e1ad18row12_col12,#T_bcee4a8c_21b5_11eb_a5da_525400e1ad18row13_col13,#T_bcee4a8c_21b5_11eb_a5da_525400e1ad18row14_col14,#T_bcee4a8c_21b5_11eb_a5da_525400e1ad18row15_col15,#T_bcee4a8c_21b5_11eb_a5da_525400e1ad18row16_col16{\n",
       "            background-color:  #023858;\n",
       "            color:  #f1f1f1;\n",
       "        }#T_bcee4a8c_21b5_11eb_a5da_525400e1ad18row0_col1,#T_bcee4a8c_21b5_11eb_a5da_525400e1ad18row0_col2,#T_bcee4a8c_21b5_11eb_a5da_525400e1ad18row1_col0,#T_bcee4a8c_21b5_11eb_a5da_525400e1ad18row2_col0,#T_bcee4a8c_21b5_11eb_a5da_525400e1ad18row3_col10,#T_bcee4a8c_21b5_11eb_a5da_525400e1ad18row10_col3{\n",
       "            background-color:  #d2d2e7;\n",
       "            color:  #000000;\n",
       "        }#T_bcee4a8c_21b5_11eb_a5da_525400e1ad18row0_col3,#T_bcee4a8c_21b5_11eb_a5da_525400e1ad18row3_col0{\n",
       "            background-color:  #c6cce3;\n",
       "            color:  #000000;\n",
       "        }#T_bcee4a8c_21b5_11eb_a5da_525400e1ad18row0_col4,#T_bcee4a8c_21b5_11eb_a5da_525400e1ad18row1_col8,#T_bcee4a8c_21b5_11eb_a5da_525400e1ad18row4_col0,#T_bcee4a8c_21b5_11eb_a5da_525400e1ad18row8_col1{\n",
       "            background-color:  #e0dded;\n",
       "            color:  #000000;\n",
       "        }#T_bcee4a8c_21b5_11eb_a5da_525400e1ad18row0_col5,#T_bcee4a8c_21b5_11eb_a5da_525400e1ad18row5_col0{\n",
       "            background-color:  #e4e1ef;\n",
       "            color:  #000000;\n",
       "        }#T_bcee4a8c_21b5_11eb_a5da_525400e1ad18row0_col6,#T_bcee4a8c_21b5_11eb_a5da_525400e1ad18row6_col0{\n",
       "            background-color:  #d2d3e7;\n",
       "            color:  #000000;\n",
       "        }#T_bcee4a8c_21b5_11eb_a5da_525400e1ad18row0_col7,#T_bcee4a8c_21b5_11eb_a5da_525400e1ad18row0_col8,#T_bcee4a8c_21b5_11eb_a5da_525400e1ad18row7_col0,#T_bcee4a8c_21b5_11eb_a5da_525400e1ad18row8_col0{\n",
       "            background-color:  #d4d4e8;\n",
       "            color:  #000000;\n",
       "        }#T_bcee4a8c_21b5_11eb_a5da_525400e1ad18row0_col9,#T_bcee4a8c_21b5_11eb_a5da_525400e1ad18row9_col0{\n",
       "            background-color:  #65a3cb;\n",
       "            color:  #000000;\n",
       "        }#T_bcee4a8c_21b5_11eb_a5da_525400e1ad18row0_col10,#T_bcee4a8c_21b5_11eb_a5da_525400e1ad18row0_col16,#T_bcee4a8c_21b5_11eb_a5da_525400e1ad18row10_col0,#T_bcee4a8c_21b5_11eb_a5da_525400e1ad18row16_col0{\n",
       "            background-color:  #d9d8ea;\n",
       "            color:  #000000;\n",
       "        }#T_bcee4a8c_21b5_11eb_a5da_525400e1ad18row0_col11,#T_bcee4a8c_21b5_11eb_a5da_525400e1ad18row11_col0{\n",
       "            background-color:  #b7c5df;\n",
       "            color:  #000000;\n",
       "        }#T_bcee4a8c_21b5_11eb_a5da_525400e1ad18row0_col12,#T_bcee4a8c_21b5_11eb_a5da_525400e1ad18row12_col0{\n",
       "            background-color:  #cacee5;\n",
       "            color:  #000000;\n",
       "        }#T_bcee4a8c_21b5_11eb_a5da_525400e1ad18row0_col13,#T_bcee4a8c_21b5_11eb_a5da_525400e1ad18row13_col0{\n",
       "            background-color:  #97b7d7;\n",
       "            color:  #000000;\n",
       "        }#T_bcee4a8c_21b5_11eb_a5da_525400e1ad18row0_col14,#T_bcee4a8c_21b5_11eb_a5da_525400e1ad18row3_col11,#T_bcee4a8c_21b5_11eb_a5da_525400e1ad18row9_col15,#T_bcee4a8c_21b5_11eb_a5da_525400e1ad18row11_col3,#T_bcee4a8c_21b5_11eb_a5da_525400e1ad18row11_col13,#T_bcee4a8c_21b5_11eb_a5da_525400e1ad18row13_col11,#T_bcee4a8c_21b5_11eb_a5da_525400e1ad18row14_col0,#T_bcee4a8c_21b5_11eb_a5da_525400e1ad18row15_col9{\n",
       "            background-color:  #a7bddb;\n",
       "            color:  #000000;\n",
       "        }#T_bcee4a8c_21b5_11eb_a5da_525400e1ad18row0_col15,#T_bcee4a8c_21b5_11eb_a5da_525400e1ad18row15_col0{\n",
       "            background-color:  #c8cde4;\n",
       "            color:  #000000;\n",
       "        }#T_bcee4a8c_21b5_11eb_a5da_525400e1ad18row1_col2,#T_bcee4a8c_21b5_11eb_a5da_525400e1ad18row2_col1{\n",
       "            background-color:  #02395a;\n",
       "            color:  #f1f1f1;\n",
       "        }#T_bcee4a8c_21b5_11eb_a5da_525400e1ad18row1_col3,#T_bcee4a8c_21b5_11eb_a5da_525400e1ad18row3_col1{\n",
       "            background-color:  #034e7b;\n",
       "            color:  #f1f1f1;\n",
       "        }#T_bcee4a8c_21b5_11eb_a5da_525400e1ad18row1_col4,#T_bcee4a8c_21b5_11eb_a5da_525400e1ad18row4_col1{\n",
       "            background-color:  #8eb3d5;\n",
       "            color:  #000000;\n",
       "        }#T_bcee4a8c_21b5_11eb_a5da_525400e1ad18row1_col5,#T_bcee4a8c_21b5_11eb_a5da_525400e1ad18row2_col5,#T_bcee4a8c_21b5_11eb_a5da_525400e1ad18row5_col1,#T_bcee4a8c_21b5_11eb_a5da_525400e1ad18row5_col2{\n",
       "            background-color:  #d8d7e9;\n",
       "            color:  #000000;\n",
       "        }#T_bcee4a8c_21b5_11eb_a5da_525400e1ad18row1_col6,#T_bcee4a8c_21b5_11eb_a5da_525400e1ad18row2_col6,#T_bcee4a8c_21b5_11eb_a5da_525400e1ad18row6_col1,#T_bcee4a8c_21b5_11eb_a5da_525400e1ad18row6_col2{\n",
       "            background-color:  #dbdaeb;\n",
       "            color:  #000000;\n",
       "        }#T_bcee4a8c_21b5_11eb_a5da_525400e1ad18row1_col7,#T_bcee4a8c_21b5_11eb_a5da_525400e1ad18row7_col1{\n",
       "            background-color:  #d1d2e6;\n",
       "            color:  #000000;\n",
       "        }#T_bcee4a8c_21b5_11eb_a5da_525400e1ad18row1_col9,#T_bcee4a8c_21b5_11eb_a5da_525400e1ad18row9_col1{\n",
       "            background-color:  #fbf3f9;\n",
       "            color:  #000000;\n",
       "        }#T_bcee4a8c_21b5_11eb_a5da_525400e1ad18row1_col10,#T_bcee4a8c_21b5_11eb_a5da_525400e1ad18row1_col15,#T_bcee4a8c_21b5_11eb_a5da_525400e1ad18row2_col15,#T_bcee4a8c_21b5_11eb_a5da_525400e1ad18row10_col1,#T_bcee4a8c_21b5_11eb_a5da_525400e1ad18row12_col14,#T_bcee4a8c_21b5_11eb_a5da_525400e1ad18row14_col12,#T_bcee4a8c_21b5_11eb_a5da_525400e1ad18row15_col1,#T_bcee4a8c_21b5_11eb_a5da_525400e1ad18row15_col2{\n",
       "            background-color:  #c4cbe3;\n",
       "            color:  #000000;\n",
       "        }#T_bcee4a8c_21b5_11eb_a5da_525400e1ad18row1_col11,#T_bcee4a8c_21b5_11eb_a5da_525400e1ad18row3_col16,#T_bcee4a8c_21b5_11eb_a5da_525400e1ad18row11_col1,#T_bcee4a8c_21b5_11eb_a5da_525400e1ad18row16_col3{\n",
       "            background-color:  #a8bedc;\n",
       "            color:  #000000;\n",
       "        }#T_bcee4a8c_21b5_11eb_a5da_525400e1ad18row1_col12,#T_bcee4a8c_21b5_11eb_a5da_525400e1ad18row12_col1{\n",
       "            background-color:  #73a9cf;\n",
       "            color:  #000000;\n",
       "        }#T_bcee4a8c_21b5_11eb_a5da_525400e1ad18row1_col13,#T_bcee4a8c_21b5_11eb_a5da_525400e1ad18row13_col1{\n",
       "            background-color:  #f7f0f7;\n",
       "            color:  #000000;\n",
       "        }#T_bcee4a8c_21b5_11eb_a5da_525400e1ad18row1_col14,#T_bcee4a8c_21b5_11eb_a5da_525400e1ad18row2_col14,#T_bcee4a8c_21b5_11eb_a5da_525400e1ad18row14_col1,#T_bcee4a8c_21b5_11eb_a5da_525400e1ad18row14_col2{\n",
       "            background-color:  #dad9ea;\n",
       "            color:  #000000;\n",
       "        }#T_bcee4a8c_21b5_11eb_a5da_525400e1ad18row1_col16,#T_bcee4a8c_21b5_11eb_a5da_525400e1ad18row2_col16,#T_bcee4a8c_21b5_11eb_a5da_525400e1ad18row16_col1,#T_bcee4a8c_21b5_11eb_a5da_525400e1ad18row16_col2{\n",
       "            background-color:  #a1bbda;\n",
       "            color:  #000000;\n",
       "        }#T_bcee4a8c_21b5_11eb_a5da_525400e1ad18row2_col3,#T_bcee4a8c_21b5_11eb_a5da_525400e1ad18row3_col2{\n",
       "            background-color:  #034a74;\n",
       "            color:  #f1f1f1;\n",
       "        }#T_bcee4a8c_21b5_11eb_a5da_525400e1ad18row2_col4,#T_bcee4a8c_21b5_11eb_a5da_525400e1ad18row4_col2,#T_bcee4a8c_21b5_11eb_a5da_525400e1ad18row10_col11,#T_bcee4a8c_21b5_11eb_a5da_525400e1ad18row11_col10,#T_bcee4a8c_21b5_11eb_a5da_525400e1ad18row11_col16,#T_bcee4a8c_21b5_11eb_a5da_525400e1ad18row16_col11{\n",
       "            background-color:  #8bb2d4;\n",
       "            color:  #000000;\n",
       "        }#T_bcee4a8c_21b5_11eb_a5da_525400e1ad18row2_col7,#T_bcee4a8c_21b5_11eb_a5da_525400e1ad18row7_col2,#T_bcee4a8c_21b5_11eb_a5da_525400e1ad18row9_col10,#T_bcee4a8c_21b5_11eb_a5da_525400e1ad18row10_col9{\n",
       "            background-color:  #ced0e6;\n",
       "            color:  #000000;\n",
       "        }#T_bcee4a8c_21b5_11eb_a5da_525400e1ad18row2_col8,#T_bcee4a8c_21b5_11eb_a5da_525400e1ad18row8_col2{\n",
       "            background-color:  #dfddec;\n",
       "            color:  #000000;\n",
       "        }#T_bcee4a8c_21b5_11eb_a5da_525400e1ad18row2_col9,#T_bcee4a8c_21b5_11eb_a5da_525400e1ad18row9_col2{\n",
       "            background-color:  #fbf4f9;\n",
       "            color:  #000000;\n",
       "        }#T_bcee4a8c_21b5_11eb_a5da_525400e1ad18row2_col10,#T_bcee4a8c_21b5_11eb_a5da_525400e1ad18row10_col2{\n",
       "            background-color:  #c2cbe2;\n",
       "            color:  #000000;\n",
       "        }#T_bcee4a8c_21b5_11eb_a5da_525400e1ad18row2_col11,#T_bcee4a8c_21b5_11eb_a5da_525400e1ad18row11_col2,#T_bcee4a8c_21b5_11eb_a5da_525400e1ad18row11_col12,#T_bcee4a8c_21b5_11eb_a5da_525400e1ad18row12_col11{\n",
       "            background-color:  #acc0dd;\n",
       "            color:  #000000;\n",
       "        }#T_bcee4a8c_21b5_11eb_a5da_525400e1ad18row2_col12,#T_bcee4a8c_21b5_11eb_a5da_525400e1ad18row4_col7,#T_bcee4a8c_21b5_11eb_a5da_525400e1ad18row4_col10,#T_bcee4a8c_21b5_11eb_a5da_525400e1ad18row4_col16,#T_bcee4a8c_21b5_11eb_a5da_525400e1ad18row7_col4,#T_bcee4a8c_21b5_11eb_a5da_525400e1ad18row10_col4,#T_bcee4a8c_21b5_11eb_a5da_525400e1ad18row12_col2,#T_bcee4a8c_21b5_11eb_a5da_525400e1ad18row16_col4{\n",
       "            background-color:  #6fa7ce;\n",
       "            color:  #000000;\n",
       "        }#T_bcee4a8c_21b5_11eb_a5da_525400e1ad18row2_col13,#T_bcee4a8c_21b5_11eb_a5da_525400e1ad18row13_col2{\n",
       "            background-color:  #f8f1f8;\n",
       "            color:  #000000;\n",
       "        }#T_bcee4a8c_21b5_11eb_a5da_525400e1ad18row3_col4,#T_bcee4a8c_21b5_11eb_a5da_525400e1ad18row4_col3{\n",
       "            background-color:  #7eadd1;\n",
       "            color:  #000000;\n",
       "        }#T_bcee4a8c_21b5_11eb_a5da_525400e1ad18row3_col5,#T_bcee4a8c_21b5_11eb_a5da_525400e1ad18row3_col15,#T_bcee4a8c_21b5_11eb_a5da_525400e1ad18row5_col3,#T_bcee4a8c_21b5_11eb_a5da_525400e1ad18row15_col3{\n",
       "            background-color:  #e7e3f0;\n",
       "            color:  #000000;\n",
       "        }#T_bcee4a8c_21b5_11eb_a5da_525400e1ad18row3_col6,#T_bcee4a8c_21b5_11eb_a5da_525400e1ad18row6_col3,#T_bcee4a8c_21b5_11eb_a5da_525400e1ad18row9_col12,#T_bcee4a8c_21b5_11eb_a5da_525400e1ad18row12_col9{\n",
       "            background-color:  #ece7f2;\n",
       "            color:  #000000;\n",
       "        }#T_bcee4a8c_21b5_11eb_a5da_525400e1ad18row3_col7,#T_bcee4a8c_21b5_11eb_a5da_525400e1ad18row7_col3{\n",
       "            background-color:  #c9cee4;\n",
       "            color:  #000000;\n",
       "        }#T_bcee4a8c_21b5_11eb_a5da_525400e1ad18row3_col8,#T_bcee4a8c_21b5_11eb_a5da_525400e1ad18row8_col3{\n",
       "            background-color:  #dcdaeb;\n",
       "            color:  #000000;\n",
       "        }#T_bcee4a8c_21b5_11eb_a5da_525400e1ad18row3_col9,#T_bcee4a8c_21b5_11eb_a5da_525400e1ad18row9_col3{\n",
       "            background-color:  #fff7fb;\n",
       "            color:  #000000;\n",
       "        }#T_bcee4a8c_21b5_11eb_a5da_525400e1ad18row3_col12,#T_bcee4a8c_21b5_11eb_a5da_525400e1ad18row8_col14,#T_bcee4a8c_21b5_11eb_a5da_525400e1ad18row12_col3,#T_bcee4a8c_21b5_11eb_a5da_525400e1ad18row14_col8{\n",
       "            background-color:  #69a5cc;\n",
       "            color:  #000000;\n",
       "        }#T_bcee4a8c_21b5_11eb_a5da_525400e1ad18row3_col13,#T_bcee4a8c_21b5_11eb_a5da_525400e1ad18row13_col3{\n",
       "            background-color:  #fdf5fa;\n",
       "            color:  #000000;\n",
       "        }#T_bcee4a8c_21b5_11eb_a5da_525400e1ad18row3_col14,#T_bcee4a8c_21b5_11eb_a5da_525400e1ad18row14_col3{\n",
       "            background-color:  #f0eaf4;\n",
       "            color:  #000000;\n",
       "        }#T_bcee4a8c_21b5_11eb_a5da_525400e1ad18row4_col5,#T_bcee4a8c_21b5_11eb_a5da_525400e1ad18row5_col4{\n",
       "            background-color:  #80aed2;\n",
       "            color:  #000000;\n",
       "        }#T_bcee4a8c_21b5_11eb_a5da_525400e1ad18row4_col6,#T_bcee4a8c_21b5_11eb_a5da_525400e1ad18row6_col4,#T_bcee4a8c_21b5_11eb_a5da_525400e1ad18row9_col11,#T_bcee4a8c_21b5_11eb_a5da_525400e1ad18row11_col9{\n",
       "            background-color:  #84b0d3;\n",
       "            color:  #000000;\n",
       "        }#T_bcee4a8c_21b5_11eb_a5da_525400e1ad18row4_col8,#T_bcee4a8c_21b5_11eb_a5da_525400e1ad18row8_col4{\n",
       "            background-color:  #89b1d4;\n",
       "            color:  #000000;\n",
       "        }#T_bcee4a8c_21b5_11eb_a5da_525400e1ad18row4_col9,#T_bcee4a8c_21b5_11eb_a5da_525400e1ad18row9_col4{\n",
       "            background-color:  #efe9f3;\n",
       "            color:  #000000;\n",
       "        }#T_bcee4a8c_21b5_11eb_a5da_525400e1ad18row4_col11,#T_bcee4a8c_21b5_11eb_a5da_525400e1ad18row11_col4{\n",
       "            background-color:  #81aed2;\n",
       "            color:  #000000;\n",
       "        }#T_bcee4a8c_21b5_11eb_a5da_525400e1ad18row4_col12,#T_bcee4a8c_21b5_11eb_a5da_525400e1ad18row12_col4,#T_bcee4a8c_21b5_11eb_a5da_525400e1ad18row12_col13,#T_bcee4a8c_21b5_11eb_a5da_525400e1ad18row13_col12{\n",
       "            background-color:  #75a9cf;\n",
       "            color:  #000000;\n",
       "        }#T_bcee4a8c_21b5_11eb_a5da_525400e1ad18row4_col13,#T_bcee4a8c_21b5_11eb_a5da_525400e1ad18row13_col4{\n",
       "            background-color:  #bfc9e1;\n",
       "            color:  #000000;\n",
       "        }#T_bcee4a8c_21b5_11eb_a5da_525400e1ad18row4_col14,#T_bcee4a8c_21b5_11eb_a5da_525400e1ad18row14_col4{\n",
       "            background-color:  #86b0d3;\n",
       "            color:  #000000;\n",
       "        }#T_bcee4a8c_21b5_11eb_a5da_525400e1ad18row4_col15,#T_bcee4a8c_21b5_11eb_a5da_525400e1ad18row15_col4{\n",
       "            background-color:  #7bacd1;\n",
       "            color:  #000000;\n",
       "        }#T_bcee4a8c_21b5_11eb_a5da_525400e1ad18row5_col6,#T_bcee4a8c_21b5_11eb_a5da_525400e1ad18row6_col5{\n",
       "            background-color:  #034267;\n",
       "            color:  #f1f1f1;\n",
       "        }#T_bcee4a8c_21b5_11eb_a5da_525400e1ad18row5_col7,#T_bcee4a8c_21b5_11eb_a5da_525400e1ad18row7_col5{\n",
       "            background-color:  #045585;\n",
       "            color:  #f1f1f1;\n",
       "        }#T_bcee4a8c_21b5_11eb_a5da_525400e1ad18row5_col8,#T_bcee4a8c_21b5_11eb_a5da_525400e1ad18row8_col5{\n",
       "            background-color:  #045b8f;\n",
       "            color:  #f1f1f1;\n",
       "        }#T_bcee4a8c_21b5_11eb_a5da_525400e1ad18row5_col9,#T_bcee4a8c_21b5_11eb_a5da_525400e1ad18row8_col9,#T_bcee4a8c_21b5_11eb_a5da_525400e1ad18row9_col5,#T_bcee4a8c_21b5_11eb_a5da_525400e1ad18row9_col8{\n",
       "            background-color:  #b8c6e0;\n",
       "            color:  #000000;\n",
       "        }#T_bcee4a8c_21b5_11eb_a5da_525400e1ad18row5_col10,#T_bcee4a8c_21b5_11eb_a5da_525400e1ad18row10_col5{\n",
       "            background-color:  #034871;\n",
       "            color:  #f1f1f1;\n",
       "        }#T_bcee4a8c_21b5_11eb_a5da_525400e1ad18row5_col11,#T_bcee4a8c_21b5_11eb_a5da_525400e1ad18row11_col5{\n",
       "            background-color:  #a4bcda;\n",
       "            color:  #000000;\n",
       "        }#T_bcee4a8c_21b5_11eb_a5da_525400e1ad18row5_col12,#T_bcee4a8c_21b5_11eb_a5da_525400e1ad18row12_col5{\n",
       "            background-color:  #358fc0;\n",
       "            color:  #000000;\n",
       "        }#T_bcee4a8c_21b5_11eb_a5da_525400e1ad18row5_col13,#T_bcee4a8c_21b5_11eb_a5da_525400e1ad18row13_col5{\n",
       "            background-color:  #0566a0;\n",
       "            color:  #f1f1f1;\n",
       "        }#T_bcee4a8c_21b5_11eb_a5da_525400e1ad18row5_col14,#T_bcee4a8c_21b5_11eb_a5da_525400e1ad18row14_col5{\n",
       "            background-color:  #2182b9;\n",
       "            color:  #000000;\n",
       "        }#T_bcee4a8c_21b5_11eb_a5da_525400e1ad18row5_col15,#T_bcee4a8c_21b5_11eb_a5da_525400e1ad18row15_col5{\n",
       "            background-color:  #056fae;\n",
       "            color:  #f1f1f1;\n",
       "        }#T_bcee4a8c_21b5_11eb_a5da_525400e1ad18row5_col16,#T_bcee4a8c_21b5_11eb_a5da_525400e1ad18row16_col5{\n",
       "            background-color:  #046096;\n",
       "            color:  #f1f1f1;\n",
       "        }#T_bcee4a8c_21b5_11eb_a5da_525400e1ad18row6_col7,#T_bcee4a8c_21b5_11eb_a5da_525400e1ad18row7_col6{\n",
       "            background-color:  #04588a;\n",
       "            color:  #f1f1f1;\n",
       "        }#T_bcee4a8c_21b5_11eb_a5da_525400e1ad18row6_col8,#T_bcee4a8c_21b5_11eb_a5da_525400e1ad18row8_col6{\n",
       "            background-color:  #045b8e;\n",
       "            color:  #f1f1f1;\n",
       "        }#T_bcee4a8c_21b5_11eb_a5da_525400e1ad18row6_col9,#T_bcee4a8c_21b5_11eb_a5da_525400e1ad18row9_col6,#T_bcee4a8c_21b5_11eb_a5da_525400e1ad18row11_col15,#T_bcee4a8c_21b5_11eb_a5da_525400e1ad18row15_col11{\n",
       "            background-color:  #adc1dd;\n",
       "            color:  #000000;\n",
       "        }#T_bcee4a8c_21b5_11eb_a5da_525400e1ad18row6_col10,#T_bcee4a8c_21b5_11eb_a5da_525400e1ad18row10_col6{\n",
       "            background-color:  #034973;\n",
       "            color:  #f1f1f1;\n",
       "        }#T_bcee4a8c_21b5_11eb_a5da_525400e1ad18row6_col11,#T_bcee4a8c_21b5_11eb_a5da_525400e1ad18row11_col6{\n",
       "            background-color:  #b0c2de;\n",
       "            color:  #000000;\n",
       "        }#T_bcee4a8c_21b5_11eb_a5da_525400e1ad18row6_col12,#T_bcee4a8c_21b5_11eb_a5da_525400e1ad18row12_col6{\n",
       "            background-color:  #4496c3;\n",
       "            color:  #000000;\n",
       "        }#T_bcee4a8c_21b5_11eb_a5da_525400e1ad18row6_col13,#T_bcee4a8c_21b5_11eb_a5da_525400e1ad18row6_col16,#T_bcee4a8c_21b5_11eb_a5da_525400e1ad18row12_col16,#T_bcee4a8c_21b5_11eb_a5da_525400e1ad18row13_col6,#T_bcee4a8c_21b5_11eb_a5da_525400e1ad18row16_col6,#T_bcee4a8c_21b5_11eb_a5da_525400e1ad18row16_col12{\n",
       "            background-color:  #04639b;\n",
       "            color:  #f1f1f1;\n",
       "        }#T_bcee4a8c_21b5_11eb_a5da_525400e1ad18row6_col14,#T_bcee4a8c_21b5_11eb_a5da_525400e1ad18row14_col6{\n",
       "            background-color:  #0f76b3;\n",
       "            color:  #f1f1f1;\n",
       "        }#T_bcee4a8c_21b5_11eb_a5da_525400e1ad18row6_col15,#T_bcee4a8c_21b5_11eb_a5da_525400e1ad18row15_col6{\n",
       "            background-color:  #0569a4;\n",
       "            color:  #f1f1f1;\n",
       "        }#T_bcee4a8c_21b5_11eb_a5da_525400e1ad18row7_col8,#T_bcee4a8c_21b5_11eb_a5da_525400e1ad18row8_col7{\n",
       "            background-color:  #045e94;\n",
       "            color:  #f1f1f1;\n",
       "        }#T_bcee4a8c_21b5_11eb_a5da_525400e1ad18row7_col9,#T_bcee4a8c_21b5_11eb_a5da_525400e1ad18row9_col7{\n",
       "            background-color:  #c5cce3;\n",
       "            color:  #000000;\n",
       "        }#T_bcee4a8c_21b5_11eb_a5da_525400e1ad18row7_col10,#T_bcee4a8c_21b5_11eb_a5da_525400e1ad18row10_col7{\n",
       "            background-color:  #045687;\n",
       "            color:  #f1f1f1;\n",
       "        }#T_bcee4a8c_21b5_11eb_a5da_525400e1ad18row7_col11,#T_bcee4a8c_21b5_11eb_a5da_525400e1ad18row11_col7{\n",
       "            background-color:  #9ab8d8;\n",
       "            color:  #000000;\n",
       "        }#T_bcee4a8c_21b5_11eb_a5da_525400e1ad18row7_col12,#T_bcee4a8c_21b5_11eb_a5da_525400e1ad18row12_col7{\n",
       "            background-color:  #056ead;\n",
       "            color:  #f1f1f1;\n",
       "        }#T_bcee4a8c_21b5_11eb_a5da_525400e1ad18row7_col13,#T_bcee4a8c_21b5_11eb_a5da_525400e1ad18row13_col7{\n",
       "            background-color:  #056dab;\n",
       "            color:  #f1f1f1;\n",
       "        }#T_bcee4a8c_21b5_11eb_a5da_525400e1ad18row7_col14,#T_bcee4a8c_21b5_11eb_a5da_525400e1ad18row14_col7{\n",
       "            background-color:  #67a4cc;\n",
       "            color:  #000000;\n",
       "        }#T_bcee4a8c_21b5_11eb_a5da_525400e1ad18row7_col15,#T_bcee4a8c_21b5_11eb_a5da_525400e1ad18row9_col13,#T_bcee4a8c_21b5_11eb_a5da_525400e1ad18row13_col9,#T_bcee4a8c_21b5_11eb_a5da_525400e1ad18row15_col7{\n",
       "            background-color:  #4094c3;\n",
       "            color:  #000000;\n",
       "        }#T_bcee4a8c_21b5_11eb_a5da_525400e1ad18row7_col16,#T_bcee4a8c_21b5_11eb_a5da_525400e1ad18row16_col7{\n",
       "            background-color:  #045c90;\n",
       "            color:  #f1f1f1;\n",
       "        }#T_bcee4a8c_21b5_11eb_a5da_525400e1ad18row8_col10,#T_bcee4a8c_21b5_11eb_a5da_525400e1ad18row10_col8{\n",
       "            background-color:  #045d92;\n",
       "            color:  #f1f1f1;\n",
       "        }#T_bcee4a8c_21b5_11eb_a5da_525400e1ad18row8_col11,#T_bcee4a8c_21b5_11eb_a5da_525400e1ad18row11_col8,#T_bcee4a8c_21b5_11eb_a5da_525400e1ad18row12_col15,#T_bcee4a8c_21b5_11eb_a5da_525400e1ad18row15_col12{\n",
       "            background-color:  #abbfdc;\n",
       "            color:  #000000;\n",
       "        }#T_bcee4a8c_21b5_11eb_a5da_525400e1ad18row8_col12,#T_bcee4a8c_21b5_11eb_a5da_525400e1ad18row12_col8{\n",
       "            background-color:  #1e80b8;\n",
       "            color:  #000000;\n",
       "        }#T_bcee4a8c_21b5_11eb_a5da_525400e1ad18row8_col13,#T_bcee4a8c_21b5_11eb_a5da_525400e1ad18row13_col8{\n",
       "            background-color:  #1278b4;\n",
       "            color:  #f1f1f1;\n",
       "        }#T_bcee4a8c_21b5_11eb_a5da_525400e1ad18row8_col15,#T_bcee4a8c_21b5_11eb_a5da_525400e1ad18row15_col8{\n",
       "            background-color:  #60a1ca;\n",
       "            color:  #000000;\n",
       "        }#T_bcee4a8c_21b5_11eb_a5da_525400e1ad18row8_col16,#T_bcee4a8c_21b5_11eb_a5da_525400e1ad18row16_col8{\n",
       "            background-color:  #056aa6;\n",
       "            color:  #f1f1f1;\n",
       "        }#T_bcee4a8c_21b5_11eb_a5da_525400e1ad18row9_col14,#T_bcee4a8c_21b5_11eb_a5da_525400e1ad18row14_col9{\n",
       "            background-color:  #a2bcda;\n",
       "            color:  #000000;\n",
       "        }#T_bcee4a8c_21b5_11eb_a5da_525400e1ad18row9_col16,#T_bcee4a8c_21b5_11eb_a5da_525400e1ad18row16_col9{\n",
       "            background-color:  #dedcec;\n",
       "            color:  #000000;\n",
       "        }#T_bcee4a8c_21b5_11eb_a5da_525400e1ad18row10_col12,#T_bcee4a8c_21b5_11eb_a5da_525400e1ad18row12_col10,#T_bcee4a8c_21b5_11eb_a5da_525400e1ad18row15_col16,#T_bcee4a8c_21b5_11eb_a5da_525400e1ad18row16_col15{\n",
       "            background-color:  #3790c0;\n",
       "            color:  #000000;\n",
       "        }#T_bcee4a8c_21b5_11eb_a5da_525400e1ad18row10_col13,#T_bcee4a8c_21b5_11eb_a5da_525400e1ad18row13_col10{\n",
       "            background-color:  #0771b1;\n",
       "            color:  #f1f1f1;\n",
       "        }#T_bcee4a8c_21b5_11eb_a5da_525400e1ad18row10_col14,#T_bcee4a8c_21b5_11eb_a5da_525400e1ad18row14_col10{\n",
       "            background-color:  #197db7;\n",
       "            color:  #000000;\n",
       "        }#T_bcee4a8c_21b5_11eb_a5da_525400e1ad18row10_col15,#T_bcee4a8c_21b5_11eb_a5da_525400e1ad18row15_col10{\n",
       "            background-color:  #0a73b2;\n",
       "            color:  #f1f1f1;\n",
       "        }#T_bcee4a8c_21b5_11eb_a5da_525400e1ad18row10_col16,#T_bcee4a8c_21b5_11eb_a5da_525400e1ad18row16_col10{\n",
       "            background-color:  #0567a2;\n",
       "            color:  #f1f1f1;\n",
       "        }#T_bcee4a8c_21b5_11eb_a5da_525400e1ad18row11_col14,#T_bcee4a8c_21b5_11eb_a5da_525400e1ad18row14_col11{\n",
       "            background-color:  #bbc7e0;\n",
       "            color:  #000000;\n",
       "        }#T_bcee4a8c_21b5_11eb_a5da_525400e1ad18row13_col14,#T_bcee4a8c_21b5_11eb_a5da_525400e1ad18row14_col13{\n",
       "            background-color:  #2f8bbe;\n",
       "            color:  #000000;\n",
       "        }#T_bcee4a8c_21b5_11eb_a5da_525400e1ad18row13_col15,#T_bcee4a8c_21b5_11eb_a5da_525400e1ad18row15_col13{\n",
       "            background-color:  #157ab5;\n",
       "            color:  #000000;\n",
       "        }#T_bcee4a8c_21b5_11eb_a5da_525400e1ad18row13_col16,#T_bcee4a8c_21b5_11eb_a5da_525400e1ad18row16_col13{\n",
       "            background-color:  #0872b1;\n",
       "            color:  #f1f1f1;\n",
       "        }#T_bcee4a8c_21b5_11eb_a5da_525400e1ad18row14_col15,#T_bcee4a8c_21b5_11eb_a5da_525400e1ad18row15_col14{\n",
       "            background-color:  #046299;\n",
       "            color:  #f1f1f1;\n",
       "        }#T_bcee4a8c_21b5_11eb_a5da_525400e1ad18row14_col16,#T_bcee4a8c_21b5_11eb_a5da_525400e1ad18row16_col14{\n",
       "            background-color:  #8cb3d5;\n",
       "            color:  #000000;\n",
       "        }</style><table id=\"T_bcee4a8c_21b5_11eb_a5da_525400e1ad18\" ><thead>    <tr>        <th class=\"blank level0\" ></th>        <th class=\"col_heading level0 col0\" >Rt</th>        <th class=\"col_heading level0 col1\" >theta</th>        <th class=\"col_heading level0 col2\" >kappa</th>        <th class=\"col_heading level0 col3\" >rho</th>        <th class=\"col_heading level0 col4\" >sigma</th>        <th class=\"col_heading level0 col5\" >School_closing</th>        <th class=\"col_heading level0 col6\" >Workplace_closing</th>        <th class=\"col_heading level0 col7\" >Cancel_events</th>        <th class=\"col_heading level0 col8\" >Gatherings_restrictions</th>        <th class=\"col_heading level0 col9\" >Transport_closing</th>        <th class=\"col_heading level0 col10\" >Stay_home_restrictions</th>        <th class=\"col_heading level0 col11\" >Internal_movement_restrictions</th>        <th class=\"col_heading level0 col12\" >International_movement_restrictions</th>        <th class=\"col_heading level0 col13\" >Information_campaigns</th>        <th class=\"col_heading level0 col14\" >Testing_policy</th>        <th class=\"col_heading level0 col15\" >Contact_tracing</th>        <th class=\"col_heading level0 col16\" >Stringency_index</th>    </tr></thead><tbody>\n",
       "                <tr>\n",
       "                        <th id=\"T_bcee4a8c_21b5_11eb_a5da_525400e1ad18level0_row0\" class=\"row_heading level0 row0\" >Rt</th>\n",
       "                        <td id=\"T_bcee4a8c_21b5_11eb_a5da_525400e1ad18row0_col0\" class=\"data row0 col0\" >1.000000</td>\n",
       "                        <td id=\"T_bcee4a8c_21b5_11eb_a5da_525400e1ad18row0_col1\" class=\"data row0 col1\" >-0.178049</td>\n",
       "                        <td id=\"T_bcee4a8c_21b5_11eb_a5da_525400e1ad18row0_col2\" class=\"data row0 col2\" >-0.173353</td>\n",
       "                        <td id=\"T_bcee4a8c_21b5_11eb_a5da_525400e1ad18row0_col3\" class=\"data row0 col3\" >-0.121228</td>\n",
       "                        <td id=\"T_bcee4a8c_21b5_11eb_a5da_525400e1ad18row0_col4\" class=\"data row0 col4\" >-0.272278</td>\n",
       "                        <td id=\"T_bcee4a8c_21b5_11eb_a5da_525400e1ad18row0_col5\" class=\"data row0 col5\" >-0.303462</td>\n",
       "                        <td id=\"T_bcee4a8c_21b5_11eb_a5da_525400e1ad18row0_col6\" class=\"data row0 col6\" >-0.184702</td>\n",
       "                        <td id=\"T_bcee4a8c_21b5_11eb_a5da_525400e1ad18row0_col7\" class=\"data row0 col7\" >-0.195463</td>\n",
       "                        <td id=\"T_bcee4a8c_21b5_11eb_a5da_525400e1ad18row0_col8\" class=\"data row0 col8\" >-0.193365</td>\n",
       "                        <td id=\"T_bcee4a8c_21b5_11eb_a5da_525400e1ad18row0_col9\" class=\"data row0 col9\" >0.266199</td>\n",
       "                        <td id=\"T_bcee4a8c_21b5_11eb_a5da_525400e1ad18row0_col10\" class=\"data row0 col10\" >-0.225299</td>\n",
       "                        <td id=\"T_bcee4a8c_21b5_11eb_a5da_525400e1ad18row0_col11\" class=\"data row0 col11\" >-0.046367</td>\n",
       "                        <td id=\"T_bcee4a8c_21b5_11eb_a5da_525400e1ad18row0_col12\" class=\"data row0 col12\" >-0.136526</td>\n",
       "                        <td id=\"T_bcee4a8c_21b5_11eb_a5da_525400e1ad18row0_col13\" class=\"data row0 col13\" >0.087931</td>\n",
       "                        <td id=\"T_bcee4a8c_21b5_11eb_a5da_525400e1ad18row0_col14\" class=\"data row0 col14\" >0.022625</td>\n",
       "                        <td id=\"T_bcee4a8c_21b5_11eb_a5da_525400e1ad18row0_col15\" class=\"data row0 col15\" >-0.125392</td>\n",
       "                        <td id=\"T_bcee4a8c_21b5_11eb_a5da_525400e1ad18row0_col16\" class=\"data row0 col16\" >-0.226369</td>\n",
       "            </tr>\n",
       "            <tr>\n",
       "                        <th id=\"T_bcee4a8c_21b5_11eb_a5da_525400e1ad18level0_row1\" class=\"row_heading level0 row1\" >theta</th>\n",
       "                        <td id=\"T_bcee4a8c_21b5_11eb_a5da_525400e1ad18row1_col0\" class=\"data row1 col0\" >-0.178049</td>\n",
       "                        <td id=\"T_bcee4a8c_21b5_11eb_a5da_525400e1ad18row1_col1\" class=\"data row1 col1\" >1.000000</td>\n",
       "                        <td id=\"T_bcee4a8c_21b5_11eb_a5da_525400e1ad18row1_col2\" class=\"data row1 col2\" >0.990451</td>\n",
       "                        <td id=\"T_bcee4a8c_21b5_11eb_a5da_525400e1ad18row1_col3\" class=\"data row1 col3\" >0.867612</td>\n",
       "                        <td id=\"T_bcee4a8c_21b5_11eb_a5da_525400e1ad18row1_col4\" class=\"data row1 col4\" >0.123910</td>\n",
       "                        <td id=\"T_bcee4a8c_21b5_11eb_a5da_525400e1ad18row1_col5\" class=\"data row1 col5\" >-0.219490</td>\n",
       "                        <td id=\"T_bcee4a8c_21b5_11eb_a5da_525400e1ad18row1_col6\" class=\"data row1 col6\" >-0.245460</td>\n",
       "                        <td id=\"T_bcee4a8c_21b5_11eb_a5da_525400e1ad18row1_col7\" class=\"data row1 col7\" >-0.168544</td>\n",
       "                        <td id=\"T_bcee4a8c_21b5_11eb_a5da_525400e1ad18row1_col8\" class=\"data row1 col8\" >-0.274138</td>\n",
       "                        <td id=\"T_bcee4a8c_21b5_11eb_a5da_525400e1ad18row1_col9\" class=\"data row1 col9\" >-0.510156</td>\n",
       "                        <td id=\"T_bcee4a8c_21b5_11eb_a5da_525400e1ad18row1_col10\" class=\"data row1 col10\" >-0.107515</td>\n",
       "                        <td id=\"T_bcee4a8c_21b5_11eb_a5da_525400e1ad18row1_col11\" class=\"data row1 col11\" >0.021095</td>\n",
       "                        <td id=\"T_bcee4a8c_21b5_11eb_a5da_525400e1ad18row1_col12\" class=\"data row1 col12\" >0.225884</td>\n",
       "                        <td id=\"T_bcee4a8c_21b5_11eb_a5da_525400e1ad18row1_col13\" class=\"data row1 col13\" >-0.473615</td>\n",
       "                        <td id=\"T_bcee4a8c_21b5_11eb_a5da_525400e1ad18row1_col14\" class=\"data row1 col14\" >-0.235179</td>\n",
       "                        <td id=\"T_bcee4a8c_21b5_11eb_a5da_525400e1ad18row1_col15\" class=\"data row1 col15\" >-0.108762</td>\n",
       "                        <td id=\"T_bcee4a8c_21b5_11eb_a5da_525400e1ad18row1_col16\" class=\"data row1 col16\" >0.047875</td>\n",
       "            </tr>\n",
       "            <tr>\n",
       "                        <th id=\"T_bcee4a8c_21b5_11eb_a5da_525400e1ad18level0_row2\" class=\"row_heading level0 row2\" >kappa</th>\n",
       "                        <td id=\"T_bcee4a8c_21b5_11eb_a5da_525400e1ad18row2_col0\" class=\"data row2 col0\" >-0.173353</td>\n",
       "                        <td id=\"T_bcee4a8c_21b5_11eb_a5da_525400e1ad18row2_col1\" class=\"data row2 col1\" >0.990451</td>\n",
       "                        <td id=\"T_bcee4a8c_21b5_11eb_a5da_525400e1ad18row2_col2\" class=\"data row2 col2\" >1.000000</td>\n",
       "                        <td id=\"T_bcee4a8c_21b5_11eb_a5da_525400e1ad18row2_col3\" class=\"data row2 col3\" >0.891201</td>\n",
       "                        <td id=\"T_bcee4a8c_21b5_11eb_a5da_525400e1ad18row2_col4\" class=\"data row2 col4\" >0.136676</td>\n",
       "                        <td id=\"T_bcee4a8c_21b5_11eb_a5da_525400e1ad18row2_col5\" class=\"data row2 col5\" >-0.219270</td>\n",
       "                        <td id=\"T_bcee4a8c_21b5_11eb_a5da_525400e1ad18row2_col6\" class=\"data row2 col6\" >-0.242011</td>\n",
       "                        <td id=\"T_bcee4a8c_21b5_11eb_a5da_525400e1ad18row2_col7\" class=\"data row2 col7\" >-0.156596</td>\n",
       "                        <td id=\"T_bcee4a8c_21b5_11eb_a5da_525400e1ad18row2_col8\" class=\"data row2 col8\" >-0.268629</td>\n",
       "                        <td id=\"T_bcee4a8c_21b5_11eb_a5da_525400e1ad18row2_col9\" class=\"data row2 col9\" >-0.514419</td>\n",
       "                        <td id=\"T_bcee4a8c_21b5_11eb_a5da_525400e1ad18row2_col10\" class=\"data row2 col10\" >-0.102782</td>\n",
       "                        <td id=\"T_bcee4a8c_21b5_11eb_a5da_525400e1ad18row2_col11\" class=\"data row2 col11\" >-0.000180</td>\n",
       "                        <td id=\"T_bcee4a8c_21b5_11eb_a5da_525400e1ad18row2_col12\" class=\"data row2 col12\" >0.234925</td>\n",
       "                        <td id=\"T_bcee4a8c_21b5_11eb_a5da_525400e1ad18row2_col13\" class=\"data row2 col13\" >-0.481946</td>\n",
       "                        <td id=\"T_bcee4a8c_21b5_11eb_a5da_525400e1ad18row2_col14\" class=\"data row2 col14\" >-0.238320</td>\n",
       "                        <td id=\"T_bcee4a8c_21b5_11eb_a5da_525400e1ad18row2_col15\" class=\"data row2 col15\" >-0.111493</td>\n",
       "                        <td id=\"T_bcee4a8c_21b5_11eb_a5da_525400e1ad18row2_col16\" class=\"data row2 col16\" >0.046576</td>\n",
       "            </tr>\n",
       "            <tr>\n",
       "                        <th id=\"T_bcee4a8c_21b5_11eb_a5da_525400e1ad18level0_row3\" class=\"row_heading level0 row3\" >rho</th>\n",
       "                        <td id=\"T_bcee4a8c_21b5_11eb_a5da_525400e1ad18row3_col0\" class=\"data row3 col0\" >-0.121228</td>\n",
       "                        <td id=\"T_bcee4a8c_21b5_11eb_a5da_525400e1ad18row3_col1\" class=\"data row3 col1\" >0.867612</td>\n",
       "                        <td id=\"T_bcee4a8c_21b5_11eb_a5da_525400e1ad18row3_col2\" class=\"data row3 col2\" >0.891201</td>\n",
       "                        <td id=\"T_bcee4a8c_21b5_11eb_a5da_525400e1ad18row3_col3\" class=\"data row3 col3\" >1.000000</td>\n",
       "                        <td id=\"T_bcee4a8c_21b5_11eb_a5da_525400e1ad18row3_col4\" class=\"data row3 col4\" >0.185753</td>\n",
       "                        <td id=\"T_bcee4a8c_21b5_11eb_a5da_525400e1ad18row3_col5\" class=\"data row3 col5\" >-0.320427</td>\n",
       "                        <td id=\"T_bcee4a8c_21b5_11eb_a5da_525400e1ad18row3_col6\" class=\"data row3 col6\" >-0.358528</td>\n",
       "                        <td id=\"T_bcee4a8c_21b5_11eb_a5da_525400e1ad18row3_col7\" class=\"data row3 col7\" >-0.132823</td>\n",
       "                        <td id=\"T_bcee4a8c_21b5_11eb_a5da_525400e1ad18row3_col8\" class=\"data row3 col8\" >-0.247599</td>\n",
       "                        <td id=\"T_bcee4a8c_21b5_11eb_a5da_525400e1ad18row3_col9\" class=\"data row3 col9\" >-0.555326</td>\n",
       "                        <td id=\"T_bcee4a8c_21b5_11eb_a5da_525400e1ad18row3_col10\" class=\"data row3 col10\" >-0.176420</td>\n",
       "                        <td id=\"T_bcee4a8c_21b5_11eb_a5da_525400e1ad18row3_col11\" class=\"data row3 col11\" >0.027803</td>\n",
       "                        <td id=\"T_bcee4a8c_21b5_11eb_a5da_525400e1ad18row3_col12\" class=\"data row3 col12\" >0.254797</td>\n",
       "                        <td id=\"T_bcee4a8c_21b5_11eb_a5da_525400e1ad18row3_col13\" class=\"data row3 col13\" >-0.534376</td>\n",
       "                        <td id=\"T_bcee4a8c_21b5_11eb_a5da_525400e1ad18row3_col14\" class=\"data row3 col14\" >-0.402874</td>\n",
       "                        <td id=\"T_bcee4a8c_21b5_11eb_a5da_525400e1ad18row3_col15\" class=\"data row3 col15\" >-0.325126</td>\n",
       "                        <td id=\"T_bcee4a8c_21b5_11eb_a5da_525400e1ad18row3_col16\" class=\"data row3 col16\" >0.016590</td>\n",
       "            </tr>\n",
       "            <tr>\n",
       "                        <th id=\"T_bcee4a8c_21b5_11eb_a5da_525400e1ad18level0_row4\" class=\"row_heading level0 row4\" >sigma</th>\n",
       "                        <td id=\"T_bcee4a8c_21b5_11eb_a5da_525400e1ad18row4_col0\" class=\"data row4 col0\" >-0.272278</td>\n",
       "                        <td id=\"T_bcee4a8c_21b5_11eb_a5da_525400e1ad18row4_col1\" class=\"data row4 col1\" >0.123910</td>\n",
       "                        <td id=\"T_bcee4a8c_21b5_11eb_a5da_525400e1ad18row4_col2\" class=\"data row4 col2\" >0.136676</td>\n",
       "                        <td id=\"T_bcee4a8c_21b5_11eb_a5da_525400e1ad18row4_col3\" class=\"data row4 col3\" >0.185753</td>\n",
       "                        <td id=\"T_bcee4a8c_21b5_11eb_a5da_525400e1ad18row4_col4\" class=\"data row4 col4\" >1.000000</td>\n",
       "                        <td id=\"T_bcee4a8c_21b5_11eb_a5da_525400e1ad18row4_col5\" class=\"data row4 col5\" >0.179649</td>\n",
       "                        <td id=\"T_bcee4a8c_21b5_11eb_a5da_525400e1ad18row4_col6\" class=\"data row4 col6\" >0.158196</td>\n",
       "                        <td id=\"T_bcee4a8c_21b5_11eb_a5da_525400e1ad18row4_col7\" class=\"data row4 col7\" >0.234906</td>\n",
       "                        <td id=\"T_bcee4a8c_21b5_11eb_a5da_525400e1ad18row4_col8\" class=\"data row4 col8\" >0.141905</td>\n",
       "                        <td id=\"T_bcee4a8c_21b5_11eb_a5da_525400e1ad18row4_col9\" class=\"data row4 col9\" >-0.390915</td>\n",
       "                        <td id=\"T_bcee4a8c_21b5_11eb_a5da_525400e1ad18row4_col10\" class=\"data row4 col10\" >0.234680</td>\n",
       "                        <td id=\"T_bcee4a8c_21b5_11eb_a5da_525400e1ad18row4_col11\" class=\"data row4 col11\" >0.168925</td>\n",
       "                        <td id=\"T_bcee4a8c_21b5_11eb_a5da_525400e1ad18row4_col12\" class=\"data row4 col12\" >0.220575</td>\n",
       "                        <td id=\"T_bcee4a8c_21b5_11eb_a5da_525400e1ad18row4_col13\" class=\"data row4 col13\" >-0.083141</td>\n",
       "                        <td id=\"T_bcee4a8c_21b5_11eb_a5da_525400e1ad18row4_col14\" class=\"data row4 col14\" >0.152945</td>\n",
       "                        <td id=\"T_bcee4a8c_21b5_11eb_a5da_525400e1ad18row4_col15\" class=\"data row4 col15\" >0.197796</td>\n",
       "                        <td id=\"T_bcee4a8c_21b5_11eb_a5da_525400e1ad18row4_col16\" class=\"data row4 col16\" >0.238217</td>\n",
       "            </tr>\n",
       "            <tr>\n",
       "                        <th id=\"T_bcee4a8c_21b5_11eb_a5da_525400e1ad18level0_row5\" class=\"row_heading level0 row5\" >School_closing</th>\n",
       "                        <td id=\"T_bcee4a8c_21b5_11eb_a5da_525400e1ad18row5_col0\" class=\"data row5 col0\" >-0.303462</td>\n",
       "                        <td id=\"T_bcee4a8c_21b5_11eb_a5da_525400e1ad18row5_col1\" class=\"data row5 col1\" >-0.219490</td>\n",
       "                        <td id=\"T_bcee4a8c_21b5_11eb_a5da_525400e1ad18row5_col2\" class=\"data row5 col2\" >-0.219270</td>\n",
       "                        <td id=\"T_bcee4a8c_21b5_11eb_a5da_525400e1ad18row5_col3\" class=\"data row5 col3\" >-0.320427</td>\n",
       "                        <td id=\"T_bcee4a8c_21b5_11eb_a5da_525400e1ad18row5_col4\" class=\"data row5 col4\" >0.179649</td>\n",
       "                        <td id=\"T_bcee4a8c_21b5_11eb_a5da_525400e1ad18row5_col5\" class=\"data row5 col5\" >1.000000</td>\n",
       "                        <td id=\"T_bcee4a8c_21b5_11eb_a5da_525400e1ad18row5_col6\" class=\"data row5 col6\" >0.945184</td>\n",
       "                        <td id=\"T_bcee4a8c_21b5_11eb_a5da_525400e1ad18row5_col7\" class=\"data row5 col7\" >0.833193</td>\n",
       "                        <td id=\"T_bcee4a8c_21b5_11eb_a5da_525400e1ad18row5_col8\" class=\"data row5 col8\" >0.789031</td>\n",
       "                        <td id=\"T_bcee4a8c_21b5_11eb_a5da_525400e1ad18row5_col9\" class=\"data row5 col9\" >-0.056822</td>\n",
       "                        <td id=\"T_bcee4a8c_21b5_11eb_a5da_525400e1ad18row5_col10\" class=\"data row5 col10\" >0.904239</td>\n",
       "                        <td id=\"T_bcee4a8c_21b5_11eb_a5da_525400e1ad18row5_col11\" class=\"data row5 col11\" >0.039849</td>\n",
       "                        <td id=\"T_bcee4a8c_21b5_11eb_a5da_525400e1ad18row5_col12\" class=\"data row5 col12\" >0.420984</td>\n",
       "                        <td id=\"T_bcee4a8c_21b5_11eb_a5da_525400e1ad18row5_col13\" class=\"data row5 col13\" >0.697508</td>\n",
       "                        <td id=\"T_bcee4a8c_21b5_11eb_a5da_525400e1ad18row5_col14\" class=\"data row5 col14\" >0.496606</td>\n",
       "                        <td id=\"T_bcee4a8c_21b5_11eb_a5da_525400e1ad18row5_col15\" class=\"data row5 col15\" >0.623143</td>\n",
       "                        <td id=\"T_bcee4a8c_21b5_11eb_a5da_525400e1ad18row5_col16\" class=\"data row5 col16\" >0.752338</td>\n",
       "            </tr>\n",
       "            <tr>\n",
       "                        <th id=\"T_bcee4a8c_21b5_11eb_a5da_525400e1ad18level0_row6\" class=\"row_heading level0 row6\" >Workplace_closing</th>\n",
       "                        <td id=\"T_bcee4a8c_21b5_11eb_a5da_525400e1ad18row6_col0\" class=\"data row6 col0\" >-0.184702</td>\n",
       "                        <td id=\"T_bcee4a8c_21b5_11eb_a5da_525400e1ad18row6_col1\" class=\"data row6 col1\" >-0.245460</td>\n",
       "                        <td id=\"T_bcee4a8c_21b5_11eb_a5da_525400e1ad18row6_col2\" class=\"data row6 col2\" >-0.242011</td>\n",
       "                        <td id=\"T_bcee4a8c_21b5_11eb_a5da_525400e1ad18row6_col3\" class=\"data row6 col3\" >-0.358528</td>\n",
       "                        <td id=\"T_bcee4a8c_21b5_11eb_a5da_525400e1ad18row6_col4\" class=\"data row6 col4\" >0.158196</td>\n",
       "                        <td id=\"T_bcee4a8c_21b5_11eb_a5da_525400e1ad18row6_col5\" class=\"data row6 col5\" >0.945184</td>\n",
       "                        <td id=\"T_bcee4a8c_21b5_11eb_a5da_525400e1ad18row6_col6\" class=\"data row6 col6\" >1.000000</td>\n",
       "                        <td id=\"T_bcee4a8c_21b5_11eb_a5da_525400e1ad18row6_col7\" class=\"data row6 col7\" >0.813621</td>\n",
       "                        <td id=\"T_bcee4a8c_21b5_11eb_a5da_525400e1ad18row6_col8\" class=\"data row6 col8\" >0.795479</td>\n",
       "                        <td id=\"T_bcee4a8c_21b5_11eb_a5da_525400e1ad18row6_col9\" class=\"data row6 col9\" >-0.008258</td>\n",
       "                        <td id=\"T_bcee4a8c_21b5_11eb_a5da_525400e1ad18row6_col10\" class=\"data row6 col10\" >0.902399</td>\n",
       "                        <td id=\"T_bcee4a8c_21b5_11eb_a5da_525400e1ad18row6_col11\" class=\"data row6 col11\" >-0.016907</td>\n",
       "                        <td id=\"T_bcee4a8c_21b5_11eb_a5da_525400e1ad18row6_col12\" class=\"data row6 col12\" >0.370193</td>\n",
       "                        <td id=\"T_bcee4a8c_21b5_11eb_a5da_525400e1ad18row6_col13\" class=\"data row6 col13\" >0.721810</td>\n",
       "                        <td id=\"T_bcee4a8c_21b5_11eb_a5da_525400e1ad18row6_col14\" class=\"data row6 col14\" >0.571324</td>\n",
       "                        <td id=\"T_bcee4a8c_21b5_11eb_a5da_525400e1ad18row6_col15\" class=\"data row6 col15\" >0.676984</td>\n",
       "                        <td id=\"T_bcee4a8c_21b5_11eb_a5da_525400e1ad18row6_col16\" class=\"data row6 col16\" >0.720732</td>\n",
       "            </tr>\n",
       "            <tr>\n",
       "                        <th id=\"T_bcee4a8c_21b5_11eb_a5da_525400e1ad18level0_row7\" class=\"row_heading level0 row7\" >Cancel_events</th>\n",
       "                        <td id=\"T_bcee4a8c_21b5_11eb_a5da_525400e1ad18row7_col0\" class=\"data row7 col0\" >-0.195463</td>\n",
       "                        <td id=\"T_bcee4a8c_21b5_11eb_a5da_525400e1ad18row7_col1\" class=\"data row7 col1\" >-0.168544</td>\n",
       "                        <td id=\"T_bcee4a8c_21b5_11eb_a5da_525400e1ad18row7_col2\" class=\"data row7 col2\" >-0.156596</td>\n",
       "                        <td id=\"T_bcee4a8c_21b5_11eb_a5da_525400e1ad18row7_col3\" class=\"data row7 col3\" >-0.132823</td>\n",
       "                        <td id=\"T_bcee4a8c_21b5_11eb_a5da_525400e1ad18row7_col4\" class=\"data row7 col4\" >0.234906</td>\n",
       "                        <td id=\"T_bcee4a8c_21b5_11eb_a5da_525400e1ad18row7_col5\" class=\"data row7 col5\" >0.833193</td>\n",
       "                        <td id=\"T_bcee4a8c_21b5_11eb_a5da_525400e1ad18row7_col6\" class=\"data row7 col6\" >0.813621</td>\n",
       "                        <td id=\"T_bcee4a8c_21b5_11eb_a5da_525400e1ad18row7_col7\" class=\"data row7 col7\" >1.000000</td>\n",
       "                        <td id=\"T_bcee4a8c_21b5_11eb_a5da_525400e1ad18row7_col8\" class=\"data row7 col8\" >0.768583</td>\n",
       "                        <td id=\"T_bcee4a8c_21b5_11eb_a5da_525400e1ad18row7_col9\" class=\"data row7 col9\" >-0.112988</td>\n",
       "                        <td id=\"T_bcee4a8c_21b5_11eb_a5da_525400e1ad18row7_col10\" class=\"data row7 col10\" >0.828407</td>\n",
       "                        <td id=\"T_bcee4a8c_21b5_11eb_a5da_525400e1ad18row7_col11\" class=\"data row7 col11\" >0.072212</td>\n",
       "                        <td id=\"T_bcee4a8c_21b5_11eb_a5da_525400e1ad18row7_col12\" class=\"data row7 col12\" >0.625288</td>\n",
       "                        <td id=\"T_bcee4a8c_21b5_11eb_a5da_525400e1ad18row7_col13\" class=\"data row7 col13\" >0.638255</td>\n",
       "                        <td id=\"T_bcee4a8c_21b5_11eb_a5da_525400e1ad18row7_col14\" class=\"data row7 col14\" >0.262808</td>\n",
       "                        <td id=\"T_bcee4a8c_21b5_11eb_a5da_525400e1ad18row7_col15\" class=\"data row7 col15\" >0.381166</td>\n",
       "                        <td id=\"T_bcee4a8c_21b5_11eb_a5da_525400e1ad18row7_col16\" class=\"data row7 col16\" >0.783065</td>\n",
       "            </tr>\n",
       "            <tr>\n",
       "                        <th id=\"T_bcee4a8c_21b5_11eb_a5da_525400e1ad18level0_row8\" class=\"row_heading level0 row8\" >Gatherings_restrictions</th>\n",
       "                        <td id=\"T_bcee4a8c_21b5_11eb_a5da_525400e1ad18row8_col0\" class=\"data row8 col0\" >-0.193365</td>\n",
       "                        <td id=\"T_bcee4a8c_21b5_11eb_a5da_525400e1ad18row8_col1\" class=\"data row8 col1\" >-0.274138</td>\n",
       "                        <td id=\"T_bcee4a8c_21b5_11eb_a5da_525400e1ad18row8_col2\" class=\"data row8 col2\" >-0.268629</td>\n",
       "                        <td id=\"T_bcee4a8c_21b5_11eb_a5da_525400e1ad18row8_col3\" class=\"data row8 col3\" >-0.247599</td>\n",
       "                        <td id=\"T_bcee4a8c_21b5_11eb_a5da_525400e1ad18row8_col4\" class=\"data row8 col4\" >0.141905</td>\n",
       "                        <td id=\"T_bcee4a8c_21b5_11eb_a5da_525400e1ad18row8_col5\" class=\"data row8 col5\" >0.789031</td>\n",
       "                        <td id=\"T_bcee4a8c_21b5_11eb_a5da_525400e1ad18row8_col6\" class=\"data row8 col6\" >0.795479</td>\n",
       "                        <td id=\"T_bcee4a8c_21b5_11eb_a5da_525400e1ad18row8_col7\" class=\"data row8 col7\" >0.768583</td>\n",
       "                        <td id=\"T_bcee4a8c_21b5_11eb_a5da_525400e1ad18row8_col8\" class=\"data row8 col8\" >1.000000</td>\n",
       "                        <td id=\"T_bcee4a8c_21b5_11eb_a5da_525400e1ad18row8_col9\" class=\"data row8 col9\" >-0.051641</td>\n",
       "                        <td id=\"T_bcee4a8c_21b5_11eb_a5da_525400e1ad18row8_col10\" class=\"data row8 col10\" >0.778203</td>\n",
       "                        <td id=\"T_bcee4a8c_21b5_11eb_a5da_525400e1ad18row8_col11\" class=\"data row8 col11\" >0.008914</td>\n",
       "                        <td id=\"T_bcee4a8c_21b5_11eb_a5da_525400e1ad18row8_col12\" class=\"data row8 col12\" >0.510864</td>\n",
       "                        <td id=\"T_bcee4a8c_21b5_11eb_a5da_525400e1ad18row8_col13\" class=\"data row8 col13\" >0.560798</td>\n",
       "                        <td id=\"T_bcee4a8c_21b5_11eb_a5da_525400e1ad18row8_col14\" class=\"data row8 col14\" >0.258079</td>\n",
       "                        <td id=\"T_bcee4a8c_21b5_11eb_a5da_525400e1ad18row8_col15\" class=\"data row8 col15\" >0.287710</td>\n",
       "                        <td id=\"T_bcee4a8c_21b5_11eb_a5da_525400e1ad18row8_col16\" class=\"data row8 col16\" >0.664516</td>\n",
       "            </tr>\n",
       "            <tr>\n",
       "                        <th id=\"T_bcee4a8c_21b5_11eb_a5da_525400e1ad18level0_row9\" class=\"row_heading level0 row9\" >Transport_closing</th>\n",
       "                        <td id=\"T_bcee4a8c_21b5_11eb_a5da_525400e1ad18row9_col0\" class=\"data row9 col0\" >0.266199</td>\n",
       "                        <td id=\"T_bcee4a8c_21b5_11eb_a5da_525400e1ad18row9_col1\" class=\"data row9 col1\" >-0.510156</td>\n",
       "                        <td id=\"T_bcee4a8c_21b5_11eb_a5da_525400e1ad18row9_col2\" class=\"data row9 col2\" >-0.514419</td>\n",
       "                        <td id=\"T_bcee4a8c_21b5_11eb_a5da_525400e1ad18row9_col3\" class=\"data row9 col3\" >-0.555326</td>\n",
       "                        <td id=\"T_bcee4a8c_21b5_11eb_a5da_525400e1ad18row9_col4\" class=\"data row9 col4\" >-0.390915</td>\n",
       "                        <td id=\"T_bcee4a8c_21b5_11eb_a5da_525400e1ad18row9_col5\" class=\"data row9 col5\" >-0.056822</td>\n",
       "                        <td id=\"T_bcee4a8c_21b5_11eb_a5da_525400e1ad18row9_col6\" class=\"data row9 col6\" >-0.008258</td>\n",
       "                        <td id=\"T_bcee4a8c_21b5_11eb_a5da_525400e1ad18row9_col7\" class=\"data row9 col7\" >-0.112988</td>\n",
       "                        <td id=\"T_bcee4a8c_21b5_11eb_a5da_525400e1ad18row9_col8\" class=\"data row9 col8\" >-0.051641</td>\n",
       "                        <td id=\"T_bcee4a8c_21b5_11eb_a5da_525400e1ad18row9_col9\" class=\"data row9 col9\" >1.000000</td>\n",
       "                        <td id=\"T_bcee4a8c_21b5_11eb_a5da_525400e1ad18row9_col10\" class=\"data row9 col10\" >-0.159712</td>\n",
       "                        <td id=\"T_bcee4a8c_21b5_11eb_a5da_525400e1ad18row9_col11\" class=\"data row9 col11\" >0.157772</td>\n",
       "                        <td id=\"T_bcee4a8c_21b5_11eb_a5da_525400e1ad18row9_col12\" class=\"data row9 col12\" >-0.360388</td>\n",
       "                        <td id=\"T_bcee4a8c_21b5_11eb_a5da_525400e1ad18row9_col13\" class=\"data row9 col13\" >0.385274</td>\n",
       "                        <td id=\"T_bcee4a8c_21b5_11eb_a5da_525400e1ad18row9_col14\" class=\"data row9 col14\" >0.040494</td>\n",
       "                        <td id=\"T_bcee4a8c_21b5_11eb_a5da_525400e1ad18row9_col15\" class=\"data row9 col15\" >0.025317</td>\n",
       "                        <td id=\"T_bcee4a8c_21b5_11eb_a5da_525400e1ad18row9_col16\" class=\"data row9 col16\" >-0.258220</td>\n",
       "            </tr>\n",
       "            <tr>\n",
       "                        <th id=\"T_bcee4a8c_21b5_11eb_a5da_525400e1ad18level0_row10\" class=\"row_heading level0 row10\" >Stay_home_restrictions</th>\n",
       "                        <td id=\"T_bcee4a8c_21b5_11eb_a5da_525400e1ad18row10_col0\" class=\"data row10 col0\" >-0.225299</td>\n",
       "                        <td id=\"T_bcee4a8c_21b5_11eb_a5da_525400e1ad18row10_col1\" class=\"data row10 col1\" >-0.107515</td>\n",
       "                        <td id=\"T_bcee4a8c_21b5_11eb_a5da_525400e1ad18row10_col2\" class=\"data row10 col2\" >-0.102782</td>\n",
       "                        <td id=\"T_bcee4a8c_21b5_11eb_a5da_525400e1ad18row10_col3\" class=\"data row10 col3\" >-0.176420</td>\n",
       "                        <td id=\"T_bcee4a8c_21b5_11eb_a5da_525400e1ad18row10_col4\" class=\"data row10 col4\" >0.234680</td>\n",
       "                        <td id=\"T_bcee4a8c_21b5_11eb_a5da_525400e1ad18row10_col5\" class=\"data row10 col5\" >0.904239</td>\n",
       "                        <td id=\"T_bcee4a8c_21b5_11eb_a5da_525400e1ad18row10_col6\" class=\"data row10 col6\" >0.902399</td>\n",
       "                        <td id=\"T_bcee4a8c_21b5_11eb_a5da_525400e1ad18row10_col7\" class=\"data row10 col7\" >0.828407</td>\n",
       "                        <td id=\"T_bcee4a8c_21b5_11eb_a5da_525400e1ad18row10_col8\" class=\"data row10 col8\" >0.778203</td>\n",
       "                        <td id=\"T_bcee4a8c_21b5_11eb_a5da_525400e1ad18row10_col9\" class=\"data row10 col9\" >-0.159712</td>\n",
       "                        <td id=\"T_bcee4a8c_21b5_11eb_a5da_525400e1ad18row10_col10\" class=\"data row10 col10\" >1.000000</td>\n",
       "                        <td id=\"T_bcee4a8c_21b5_11eb_a5da_525400e1ad18row10_col11\" class=\"data row10 col11\" >0.137004</td>\n",
       "                        <td id=\"T_bcee4a8c_21b5_11eb_a5da_525400e1ad18row10_col12\" class=\"data row10 col12\" >0.412979</td>\n",
       "                        <td id=\"T_bcee4a8c_21b5_11eb_a5da_525400e1ad18row10_col13\" class=\"data row10 col13\" >0.600588</td>\n",
       "                        <td id=\"T_bcee4a8c_21b5_11eb_a5da_525400e1ad18row10_col14\" class=\"data row10 col14\" >0.529769</td>\n",
       "                        <td id=\"T_bcee4a8c_21b5_11eb_a5da_525400e1ad18row10_col15\" class=\"data row10 col15\" >0.589186</td>\n",
       "                        <td id=\"T_bcee4a8c_21b5_11eb_a5da_525400e1ad18row10_col16\" class=\"data row10 col16\" >0.689485</td>\n",
       "            </tr>\n",
       "            <tr>\n",
       "                        <th id=\"T_bcee4a8c_21b5_11eb_a5da_525400e1ad18level0_row11\" class=\"row_heading level0 row11\" >Internal_movement_restrictions</th>\n",
       "                        <td id=\"T_bcee4a8c_21b5_11eb_a5da_525400e1ad18row11_col0\" class=\"data row11 col0\" >-0.046367</td>\n",
       "                        <td id=\"T_bcee4a8c_21b5_11eb_a5da_525400e1ad18row11_col1\" class=\"data row11 col1\" >0.021095</td>\n",
       "                        <td id=\"T_bcee4a8c_21b5_11eb_a5da_525400e1ad18row11_col2\" class=\"data row11 col2\" >-0.000180</td>\n",
       "                        <td id=\"T_bcee4a8c_21b5_11eb_a5da_525400e1ad18row11_col3\" class=\"data row11 col3\" >0.027803</td>\n",
       "                        <td id=\"T_bcee4a8c_21b5_11eb_a5da_525400e1ad18row11_col4\" class=\"data row11 col4\" >0.168925</td>\n",
       "                        <td id=\"T_bcee4a8c_21b5_11eb_a5da_525400e1ad18row11_col5\" class=\"data row11 col5\" >0.039849</td>\n",
       "                        <td id=\"T_bcee4a8c_21b5_11eb_a5da_525400e1ad18row11_col6\" class=\"data row11 col6\" >-0.016907</td>\n",
       "                        <td id=\"T_bcee4a8c_21b5_11eb_a5da_525400e1ad18row11_col7\" class=\"data row11 col7\" >0.072212</td>\n",
       "                        <td id=\"T_bcee4a8c_21b5_11eb_a5da_525400e1ad18row11_col8\" class=\"data row11 col8\" >0.008914</td>\n",
       "                        <td id=\"T_bcee4a8c_21b5_11eb_a5da_525400e1ad18row11_col9\" class=\"data row11 col9\" >0.157772</td>\n",
       "                        <td id=\"T_bcee4a8c_21b5_11eb_a5da_525400e1ad18row11_col10\" class=\"data row11 col10\" >0.137004</td>\n",
       "                        <td id=\"T_bcee4a8c_21b5_11eb_a5da_525400e1ad18row11_col11\" class=\"data row11 col11\" >1.000000</td>\n",
       "                        <td id=\"T_bcee4a8c_21b5_11eb_a5da_525400e1ad18row11_col12\" class=\"data row11 col12\" >-0.000735</td>\n",
       "                        <td id=\"T_bcee4a8c_21b5_11eb_a5da_525400e1ad18row11_col13\" class=\"data row11 col13\" >0.022144</td>\n",
       "                        <td id=\"T_bcee4a8c_21b5_11eb_a5da_525400e1ad18row11_col14\" class=\"data row11 col14\" >-0.068611</td>\n",
       "                        <td id=\"T_bcee4a8c_21b5_11eb_a5da_525400e1ad18row11_col15\" class=\"data row11 col15\" >-0.008186</td>\n",
       "                        <td id=\"T_bcee4a8c_21b5_11eb_a5da_525400e1ad18row11_col16\" class=\"data row11 col16\" >0.136710</td>\n",
       "            </tr>\n",
       "            <tr>\n",
       "                        <th id=\"T_bcee4a8c_21b5_11eb_a5da_525400e1ad18level0_row12\" class=\"row_heading level0 row12\" >International_movement_restrictions</th>\n",
       "                        <td id=\"T_bcee4a8c_21b5_11eb_a5da_525400e1ad18row12_col0\" class=\"data row12 col0\" >-0.136526</td>\n",
       "                        <td id=\"T_bcee4a8c_21b5_11eb_a5da_525400e1ad18row12_col1\" class=\"data row12 col1\" >0.225884</td>\n",
       "                        <td id=\"T_bcee4a8c_21b5_11eb_a5da_525400e1ad18row12_col2\" class=\"data row12 col2\" >0.234925</td>\n",
       "                        <td id=\"T_bcee4a8c_21b5_11eb_a5da_525400e1ad18row12_col3\" class=\"data row12 col3\" >0.254797</td>\n",
       "                        <td id=\"T_bcee4a8c_21b5_11eb_a5da_525400e1ad18row12_col4\" class=\"data row12 col4\" >0.220575</td>\n",
       "                        <td id=\"T_bcee4a8c_21b5_11eb_a5da_525400e1ad18row12_col5\" class=\"data row12 col5\" >0.420984</td>\n",
       "                        <td id=\"T_bcee4a8c_21b5_11eb_a5da_525400e1ad18row12_col6\" class=\"data row12 col6\" >0.370193</td>\n",
       "                        <td id=\"T_bcee4a8c_21b5_11eb_a5da_525400e1ad18row12_col7\" class=\"data row12 col7\" >0.625288</td>\n",
       "                        <td id=\"T_bcee4a8c_21b5_11eb_a5da_525400e1ad18row12_col8\" class=\"data row12 col8\" >0.510864</td>\n",
       "                        <td id=\"T_bcee4a8c_21b5_11eb_a5da_525400e1ad18row12_col9\" class=\"data row12 col9\" >-0.360388</td>\n",
       "                        <td id=\"T_bcee4a8c_21b5_11eb_a5da_525400e1ad18row12_col10\" class=\"data row12 col10\" >0.412979</td>\n",
       "                        <td id=\"T_bcee4a8c_21b5_11eb_a5da_525400e1ad18row12_col11\" class=\"data row12 col11\" >-0.000735</td>\n",
       "                        <td id=\"T_bcee4a8c_21b5_11eb_a5da_525400e1ad18row12_col12\" class=\"data row12 col12\" >1.000000</td>\n",
       "                        <td id=\"T_bcee4a8c_21b5_11eb_a5da_525400e1ad18row12_col13\" class=\"data row12 col13\" >0.221528</td>\n",
       "                        <td id=\"T_bcee4a8c_21b5_11eb_a5da_525400e1ad18row12_col14\" class=\"data row12 col14\" >-0.108237</td>\n",
       "                        <td id=\"T_bcee4a8c_21b5_11eb_a5da_525400e1ad18row12_col15\" class=\"data row12 col15\" >0.006240</td>\n",
       "                        <td id=\"T_bcee4a8c_21b5_11eb_a5da_525400e1ad18row12_col16\" class=\"data row12 col16\" >0.721199</td>\n",
       "            </tr>\n",
       "            <tr>\n",
       "                        <th id=\"T_bcee4a8c_21b5_11eb_a5da_525400e1ad18level0_row13\" class=\"row_heading level0 row13\" >Information_campaigns</th>\n",
       "                        <td id=\"T_bcee4a8c_21b5_11eb_a5da_525400e1ad18row13_col0\" class=\"data row13 col0\" >0.087931</td>\n",
       "                        <td id=\"T_bcee4a8c_21b5_11eb_a5da_525400e1ad18row13_col1\" class=\"data row13 col1\" >-0.473615</td>\n",
       "                        <td id=\"T_bcee4a8c_21b5_11eb_a5da_525400e1ad18row13_col2\" class=\"data row13 col2\" >-0.481946</td>\n",
       "                        <td id=\"T_bcee4a8c_21b5_11eb_a5da_525400e1ad18row13_col3\" class=\"data row13 col3\" >-0.534376</td>\n",
       "                        <td id=\"T_bcee4a8c_21b5_11eb_a5da_525400e1ad18row13_col4\" class=\"data row13 col4\" >-0.083141</td>\n",
       "                        <td id=\"T_bcee4a8c_21b5_11eb_a5da_525400e1ad18row13_col5\" class=\"data row13 col5\" >0.697508</td>\n",
       "                        <td id=\"T_bcee4a8c_21b5_11eb_a5da_525400e1ad18row13_col6\" class=\"data row13 col6\" >0.721810</td>\n",
       "                        <td id=\"T_bcee4a8c_21b5_11eb_a5da_525400e1ad18row13_col7\" class=\"data row13 col7\" >0.638255</td>\n",
       "                        <td id=\"T_bcee4a8c_21b5_11eb_a5da_525400e1ad18row13_col8\" class=\"data row13 col8\" >0.560798</td>\n",
       "                        <td id=\"T_bcee4a8c_21b5_11eb_a5da_525400e1ad18row13_col9\" class=\"data row13 col9\" >0.385274</td>\n",
       "                        <td id=\"T_bcee4a8c_21b5_11eb_a5da_525400e1ad18row13_col10\" class=\"data row13 col10\" >0.600588</td>\n",
       "                        <td id=\"T_bcee4a8c_21b5_11eb_a5da_525400e1ad18row13_col11\" class=\"data row13 col11\" >0.022144</td>\n",
       "                        <td id=\"T_bcee4a8c_21b5_11eb_a5da_525400e1ad18row13_col12\" class=\"data row13 col12\" >0.221528</td>\n",
       "                        <td id=\"T_bcee4a8c_21b5_11eb_a5da_525400e1ad18row13_col13\" class=\"data row13 col13\" >1.000000</td>\n",
       "                        <td id=\"T_bcee4a8c_21b5_11eb_a5da_525400e1ad18row13_col14\" class=\"data row13 col14\" >0.446304</td>\n",
       "                        <td id=\"T_bcee4a8c_21b5_11eb_a5da_525400e1ad18row13_col15\" class=\"data row13 col15\" >0.544384</td>\n",
       "                        <td id=\"T_bcee4a8c_21b5_11eb_a5da_525400e1ad18row13_col16\" class=\"data row13 col16\" >0.595922</td>\n",
       "            </tr>\n",
       "            <tr>\n",
       "                        <th id=\"T_bcee4a8c_21b5_11eb_a5da_525400e1ad18level0_row14\" class=\"row_heading level0 row14\" >Testing_policy</th>\n",
       "                        <td id=\"T_bcee4a8c_21b5_11eb_a5da_525400e1ad18row14_col0\" class=\"data row14 col0\" >0.022625</td>\n",
       "                        <td id=\"T_bcee4a8c_21b5_11eb_a5da_525400e1ad18row14_col1\" class=\"data row14 col1\" >-0.235179</td>\n",
       "                        <td id=\"T_bcee4a8c_21b5_11eb_a5da_525400e1ad18row14_col2\" class=\"data row14 col2\" >-0.238320</td>\n",
       "                        <td id=\"T_bcee4a8c_21b5_11eb_a5da_525400e1ad18row14_col3\" class=\"data row14 col3\" >-0.402874</td>\n",
       "                        <td id=\"T_bcee4a8c_21b5_11eb_a5da_525400e1ad18row14_col4\" class=\"data row14 col4\" >0.152945</td>\n",
       "                        <td id=\"T_bcee4a8c_21b5_11eb_a5da_525400e1ad18row14_col5\" class=\"data row14 col5\" >0.496606</td>\n",
       "                        <td id=\"T_bcee4a8c_21b5_11eb_a5da_525400e1ad18row14_col6\" class=\"data row14 col6\" >0.571324</td>\n",
       "                        <td id=\"T_bcee4a8c_21b5_11eb_a5da_525400e1ad18row14_col7\" class=\"data row14 col7\" >0.262808</td>\n",
       "                        <td id=\"T_bcee4a8c_21b5_11eb_a5da_525400e1ad18row14_col8\" class=\"data row14 col8\" >0.258079</td>\n",
       "                        <td id=\"T_bcee4a8c_21b5_11eb_a5da_525400e1ad18row14_col9\" class=\"data row14 col9\" >0.040494</td>\n",
       "                        <td id=\"T_bcee4a8c_21b5_11eb_a5da_525400e1ad18row14_col10\" class=\"data row14 col10\" >0.529769</td>\n",
       "                        <td id=\"T_bcee4a8c_21b5_11eb_a5da_525400e1ad18row14_col11\" class=\"data row14 col11\" >-0.068611</td>\n",
       "                        <td id=\"T_bcee4a8c_21b5_11eb_a5da_525400e1ad18row14_col12\" class=\"data row14 col12\" >-0.108237</td>\n",
       "                        <td id=\"T_bcee4a8c_21b5_11eb_a5da_525400e1ad18row14_col13\" class=\"data row14 col13\" >0.446304</td>\n",
       "                        <td id=\"T_bcee4a8c_21b5_11eb_a5da_525400e1ad18row14_col14\" class=\"data row14 col14\" >1.000000</td>\n",
       "                        <td id=\"T_bcee4a8c_21b5_11eb_a5da_525400e1ad18row14_col15\" class=\"data row14 col15\" >0.736441</td>\n",
       "                        <td id=\"T_bcee4a8c_21b5_11eb_a5da_525400e1ad18row14_col16\" class=\"data row14 col16\" >0.129969</td>\n",
       "            </tr>\n",
       "            <tr>\n",
       "                        <th id=\"T_bcee4a8c_21b5_11eb_a5da_525400e1ad18level0_row15\" class=\"row_heading level0 row15\" >Contact_tracing</th>\n",
       "                        <td id=\"T_bcee4a8c_21b5_11eb_a5da_525400e1ad18row15_col0\" class=\"data row15 col0\" >-0.125392</td>\n",
       "                        <td id=\"T_bcee4a8c_21b5_11eb_a5da_525400e1ad18row15_col1\" class=\"data row15 col1\" >-0.108762</td>\n",
       "                        <td id=\"T_bcee4a8c_21b5_11eb_a5da_525400e1ad18row15_col2\" class=\"data row15 col2\" >-0.111493</td>\n",
       "                        <td id=\"T_bcee4a8c_21b5_11eb_a5da_525400e1ad18row15_col3\" class=\"data row15 col3\" >-0.325126</td>\n",
       "                        <td id=\"T_bcee4a8c_21b5_11eb_a5da_525400e1ad18row15_col4\" class=\"data row15 col4\" >0.197796</td>\n",
       "                        <td id=\"T_bcee4a8c_21b5_11eb_a5da_525400e1ad18row15_col5\" class=\"data row15 col5\" >0.623143</td>\n",
       "                        <td id=\"T_bcee4a8c_21b5_11eb_a5da_525400e1ad18row15_col6\" class=\"data row15 col6\" >0.676984</td>\n",
       "                        <td id=\"T_bcee4a8c_21b5_11eb_a5da_525400e1ad18row15_col7\" class=\"data row15 col7\" >0.381166</td>\n",
       "                        <td id=\"T_bcee4a8c_21b5_11eb_a5da_525400e1ad18row15_col8\" class=\"data row15 col8\" >0.287710</td>\n",
       "                        <td id=\"T_bcee4a8c_21b5_11eb_a5da_525400e1ad18row15_col9\" class=\"data row15 col9\" >0.025317</td>\n",
       "                        <td id=\"T_bcee4a8c_21b5_11eb_a5da_525400e1ad18row15_col10\" class=\"data row15 col10\" >0.589186</td>\n",
       "                        <td id=\"T_bcee4a8c_21b5_11eb_a5da_525400e1ad18row15_col11\" class=\"data row15 col11\" >-0.008186</td>\n",
       "                        <td id=\"T_bcee4a8c_21b5_11eb_a5da_525400e1ad18row15_col12\" class=\"data row15 col12\" >0.006240</td>\n",
       "                        <td id=\"T_bcee4a8c_21b5_11eb_a5da_525400e1ad18row15_col13\" class=\"data row15 col13\" >0.544384</td>\n",
       "                        <td id=\"T_bcee4a8c_21b5_11eb_a5da_525400e1ad18row15_col14\" class=\"data row15 col14\" >0.736441</td>\n",
       "                        <td id=\"T_bcee4a8c_21b5_11eb_a5da_525400e1ad18row15_col15\" class=\"data row15 col15\" >1.000000</td>\n",
       "                        <td id=\"T_bcee4a8c_21b5_11eb_a5da_525400e1ad18row15_col16\" class=\"data row15 col16\" >0.412682</td>\n",
       "            </tr>\n",
       "            <tr>\n",
       "                        <th id=\"T_bcee4a8c_21b5_11eb_a5da_525400e1ad18level0_row16\" class=\"row_heading level0 row16\" >Stringency_index</th>\n",
       "                        <td id=\"T_bcee4a8c_21b5_11eb_a5da_525400e1ad18row16_col0\" class=\"data row16 col0\" >-0.226369</td>\n",
       "                        <td id=\"T_bcee4a8c_21b5_11eb_a5da_525400e1ad18row16_col1\" class=\"data row16 col1\" >0.047875</td>\n",
       "                        <td id=\"T_bcee4a8c_21b5_11eb_a5da_525400e1ad18row16_col2\" class=\"data row16 col2\" >0.046576</td>\n",
       "                        <td id=\"T_bcee4a8c_21b5_11eb_a5da_525400e1ad18row16_col3\" class=\"data row16 col3\" >0.016590</td>\n",
       "                        <td id=\"T_bcee4a8c_21b5_11eb_a5da_525400e1ad18row16_col4\" class=\"data row16 col4\" >0.238217</td>\n",
       "                        <td id=\"T_bcee4a8c_21b5_11eb_a5da_525400e1ad18row16_col5\" class=\"data row16 col5\" >0.752338</td>\n",
       "                        <td id=\"T_bcee4a8c_21b5_11eb_a5da_525400e1ad18row16_col6\" class=\"data row16 col6\" >0.720732</td>\n",
       "                        <td id=\"T_bcee4a8c_21b5_11eb_a5da_525400e1ad18row16_col7\" class=\"data row16 col7\" >0.783065</td>\n",
       "                        <td id=\"T_bcee4a8c_21b5_11eb_a5da_525400e1ad18row16_col8\" class=\"data row16 col8\" >0.664516</td>\n",
       "                        <td id=\"T_bcee4a8c_21b5_11eb_a5da_525400e1ad18row16_col9\" class=\"data row16 col9\" >-0.258220</td>\n",
       "                        <td id=\"T_bcee4a8c_21b5_11eb_a5da_525400e1ad18row16_col10\" class=\"data row16 col10\" >0.689485</td>\n",
       "                        <td id=\"T_bcee4a8c_21b5_11eb_a5da_525400e1ad18row16_col11\" class=\"data row16 col11\" >0.136710</td>\n",
       "                        <td id=\"T_bcee4a8c_21b5_11eb_a5da_525400e1ad18row16_col12\" class=\"data row16 col12\" >0.721199</td>\n",
       "                        <td id=\"T_bcee4a8c_21b5_11eb_a5da_525400e1ad18row16_col13\" class=\"data row16 col13\" >0.595922</td>\n",
       "                        <td id=\"T_bcee4a8c_21b5_11eb_a5da_525400e1ad18row16_col14\" class=\"data row16 col14\" >0.129969</td>\n",
       "                        <td id=\"T_bcee4a8c_21b5_11eb_a5da_525400e1ad18row16_col15\" class=\"data row16 col15\" >0.412682</td>\n",
       "                        <td id=\"T_bcee4a8c_21b5_11eb_a5da_525400e1ad18row16_col16\" class=\"data row16 col16\" >1.000000</td>\n",
       "            </tr>\n",
       "    </tbody></table>"
      ],
      "text/plain": [
       "<pandas.io.formats.style.Styler at 0x7f1bca3d0760>"
      ]
     },
     "execution_count": 21,
     "metadata": {},
     "output_type": "execute_result"
    }
   ],
   "source": [
    "# Correlation\n",
    "df = track_df.copy()\n",
    "df.corr().style.background_gradient(axis=None)"
   ]
  },
  {
   "cell_type": "code",
   "execution_count": 22,
   "metadata": {
    "collapsed": false
   },
   "outputs": [
    {
     "data": {
      "image/png": "[encoded data removed]",
      "text/plain": [
       "<Figure size 432x288 with 1 Axes>"
      ]
     },
     "metadata": {},
     "output_type": "display_data"
    }
   ],
   "source": [
    "# Scatter plot of Stringency index and Rt\n",
    "df = track_df.copy()\n",
    "sns.scatterplot(data=df, x=\"Stringency_index\", y=\"Rt\", hue=\"Country\", legend=\"brief\", marker=\"+\")\n",
    "bbox_to_anchor=(1.02, 0)\n",
    "bbox_loc=\"lower left\"\n",
    "plt.legend(bbox_to_anchor=bbox_to_anchor, loc=bbox_loc, borderaxespad=0)\n",
    "plt.title(\"Relationship of Stringency index and reproduction number\")\n",
    "plt.ylabel(\"Reproduction number\")\n",
    "plt.xlabel(\"Stringency index\")\n",
    "plt.show()"
   ]
  }
 ],
 "metadata": {
  "kernelspec": {
   "display_name": "Python 3.8.2 64-bit ('.venv': venv)",
   "name": "python_defaultSpec_1597669925034"
  },
  "language_info": {
   "codemirror_mode": {
    "name": "ipython",
    "version": 3
   },
   "file_extension": ".py",
   "mimetype": "text/x-python",
   "name": "python",
   "nbconvert_exporter": "python",
   "pygments_lexer": "ipython3",
   "version": "3.8.2-final"
  }
 },
 "nbformat": 4,
 "nbformat_minor": 4
}
