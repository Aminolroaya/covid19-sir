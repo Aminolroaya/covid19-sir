{
 "cells": [
  {
   "cell_type": "markdown",
   "metadata": {},
   "source": [
    "# Usage (details: policy measures)\n",
    "Here, we will analyse the relationship of policy measures and parameter values of SIR-derived ODE models. Policy measures are tracked by [Oxford Covid-19 Government Response Tracker (OxCGRT)](https://github.com/OxCGRT/covid-policy-tracker)."
   ]
  },
  {
   "cell_type": "markdown",
   "metadata": {},
   "source": [
    "## Preparation"
   ]
  },
  {
   "cell_type": "code",
   "execution_count": 1,
   "metadata": {
    "collapsed": false
   },
   "outputs": [],
   "source": [
    "# Standard users\n",
    "# !pip install covsirphy\n",
    "# Developers (Note: this notebook is in example directory)\n",
    "import os\n",
    "os.chdir(\"../\")"
   ]
  },
  {
   "cell_type": "code",
   "execution_count": 2,
   "metadata": {
    "collapsed": false
   },
   "outputs": [],
   "source": [
    "from pprint import pprint"
   ]
  },
  {
   "cell_type": "code",
   "execution_count": 3,
   "metadata": {
    "collapsed": false
   },
   "outputs": [
    {
     "data": {
      "text/plain": [
       "'2.7.3-beta.new.202.203.206.fix.210.212'"
      ]
     },
     "execution_count": 3,
     "metadata": {},
     "output_type": "execute_result"
    }
   ],
   "source": [
    "import covsirphy as cs\n",
    "cs.__version__"
   ]
  },
  {
   "cell_type": "code",
   "execution_count": 4,
   "metadata": {
    "collapsed": false,
    "tags": []
   },
   "outputs": [
    {
     "name": "stdout",
     "output_type": "stream",
     "text": [
      "(Secondary source) Guidotti, E., Ardia, D., (2020), \"COVID-19 Data Hub\", Working paper, doi: 10.13140/RG.2.2.11649.81763.\n",
      "We can get Citation list of primary sources with DataLoader(...).covid19dh_citation"
     ]
    },
    {
     "name": "stdout",
     "output_type": "stream",
     "text": [
      "\n"
     ]
    }
   ],
   "source": [
    "# Standard users and developers\n",
    "data_loader = cs.DataLoader(\"input\")\n",
    "# The number of cases (JHU style)\n",
    "jhu_data = data_loader.jhu(verbose=False)\n",
    "# Population in each country\n",
    "population_data = data_loader.population(verbose=False)\n",
    "# Government Response Tracker (OxCGRT)\n",
    "oxcgrt_data = data_loader.oxcgrt(verbose=False)\n",
    "# Description/citation\n",
    "print(oxcgrt_data.citation)"
   ]
  },
  {
   "cell_type": "markdown",
   "metadata": {},
   "source": [
    "## Class for policy measure analysis\n",
    "We will `PolicyMeasures` class to find relationship of policy measures and parameter values of SIR-derived ODE models."
   ]
  },
  {
   "cell_type": "code",
   "execution_count": 5,
   "metadata": {
    "collapsed": false,
    "tags": []
   },
   "outputs": [
    {
     "data": {
      "text/plain": [
       "184"
      ]
     },
     "execution_count": 5,
     "metadata": {},
     "output_type": "execute_result"
    }
   ],
   "source": [
    "# Create analyser with tau value 360 [min] (can be changed)\n",
    "analyser = cs.PolicyMeasures(jhu_data, population_data, oxcgrt_data, tau=360)\n",
    "# The number of registerd countries\n",
    "len(analyser.countries)"
   ]
  },
  {
   "cell_type": "code",
   "execution_count": 6,
   "metadata": {
    "collapsed": false
   },
   "outputs": [
    {
     "data": {
      "text/plain": [
       "covsirphy.analysis.scenario.Scenario"
      ]
     },
     "execution_count": 6,
     "metadata": {},
     "output_type": "execute_result"
    }
   ],
   "source": [
    "# We can get Scenario instance for detailed scenario analysis\n",
    "type(analyser.scenario(\"Japan\"))"
   ]
  },
  {
   "cell_type": "markdown",
   "metadata": {},
   "source": [
    "## Set phases with S-R trend analysis\n",
    "We will perform S-R trend analysis to set phases in all countries. Countries which do not have **9th phases** will be un-registered for the next analysis. This number will be adjusted for your analysis."
   ]
  },
  {
   "cell_type": "code",
   "execution_count": 7,
   "metadata": {
    "collapsed": false
   },
   "outputs": [
    {
     "name": "stdout",
     "output_type": "stream",
     "text": [
      "{"
     ]
    },
    {
     "name": "stdout",
     "output_type": "stream",
     "text": [
      "2"
     ]
    },
    {
     "name": "stdout",
     "output_type": "stream",
     "text": [
      ": "
     ]
    },
    {
     "name": "stdout",
     "output_type": "stream",
     "text": [
      "['Belize', 'Papua New Guinea', 'Seychelles', 'Namibia']"
     ]
    },
    {
     "name": "stdout",
     "output_type": "stream",
     "text": [
      ",\n",
      " "
     ]
    },
    {
     "name": "stdout",
     "output_type": "stream",
     "text": [
      "3"
     ]
    },
    {
     "name": "stdout",
     "output_type": "stream",
     "text": [
      ": "
     ]
    },
    {
     "name": "stdout",
     "output_type": "stream",
     "text": [
      "["
     ]
    },
    {
     "name": "stdout",
     "output_type": "stream",
     "text": [
      "'Trinidad and Tobago'"
     ]
    },
    {
     "name": "stdout",
     "output_type": "stream",
     "text": [
      ", "
     ]
    },
    {
     "name": "stdout",
     "output_type": "stream",
     "text": [
      "'Fiji'"
     ]
    },
    {
     "name": "stdout",
     "output_type": "stream",
     "text": [
      ", "
     ]
    },
    {
     "name": "stdout",
     "output_type": "stream",
     "text": [
      "'Tanzania'"
     ]
    },
    {
     "name": "stdout",
     "output_type": "stream",
     "text": [
      ", "
     ]
    },
    {
     "name": "stdout",
     "output_type": "stream",
     "text": [
      "'Bahamas'"
     ]
    },
    {
     "name": "stdout",
     "output_type": "stream",
     "text": [
      ", "
     ]
    },
    {
     "name": "stdout",
     "output_type": "stream",
     "text": [
      "'Lesotho'"
     ]
    },
    {
     "name": "stdout",
     "output_type": "stream",
     "text": [
      ",\n",
      "     "
     ]
    },
    {
     "name": "stdout",
     "output_type": "stream",
     "text": [
      "'Antigua and Barbuda'"
     ]
    },
    {
     "name": "stdout",
     "output_type": "stream",
     "text": [
      ", "
     ]
    },
    {
     "name": "stdout",
     "output_type": "stream",
     "text": [
      "'Zimbabwe'"
     ]
    },
    {
     "name": "stdout",
     "output_type": "stream",
     "text": [
      ", "
     ]
    },
    {
     "name": "stdout",
     "output_type": "stream",
     "text": [
      "'Mauritius'"
     ]
    },
    {
     "name": "stdout",
     "output_type": "stream",
     "text": [
      ", "
     ]
    },
    {
     "name": "stdout",
     "output_type": "stream",
     "text": [
      "'Gambia'"
     ]
    },
    {
     "name": "stdout",
     "output_type": "stream",
     "text": [
      ", "
     ]
    },
    {
     "name": "stdout",
     "output_type": "stream",
     "text": [
      "'Brunei'"
     ]
    },
    {
     "name": "stdout",
     "output_type": "stream",
     "text": [
      "]"
     ]
    },
    {
     "name": "stdout",
     "output_type": "stream",
     "text": [
      ",\n",
      " "
     ]
    },
    {
     "name": "stdout",
     "output_type": "stream",
     "text": [
      "4"
     ]
    },
    {
     "name": "stdout",
     "output_type": "stream",
     "text": [
      ": "
     ]
    },
    {
     "name": "stdout",
     "output_type": "stream",
     "text": [
      "["
     ]
    },
    {
     "name": "stdout",
     "output_type": "stream",
     "text": [
      "'Malta'"
     ]
    },
    {
     "name": "stdout",
     "output_type": "stream",
     "text": [
      ", "
     ]
    },
    {
     "name": "stdout",
     "output_type": "stream",
     "text": [
      "'Grenada'"
     ]
    },
    {
     "name": "stdout",
     "output_type": "stream",
     "text": [
      ", "
     ]
    },
    {
     "name": "stdout",
     "output_type": "stream",
     "text": [
      "'South Sudan'"
     ]
    },
    {
     "name": "stdout",
     "output_type": "stream",
     "text": [
      ", "
     ]
    },
    {
     "name": "stdout",
     "output_type": "stream",
     "text": [
      "'Ireland'"
     ]
    },
    {
     "name": "stdout",
     "output_type": "stream",
     "text": [
      ", "
     ]
    },
    {
     "name": "stdout",
     "output_type": "stream",
     "text": [
      "'Palestine'"
     ]
    },
    {
     "name": "stdout",
     "output_type": "stream",
     "text": [
      ", "
     ]
    },
    {
     "name": "stdout",
     "output_type": "stream",
     "text": [
      "'Yemen'"
     ]
    },
    {
     "name": "stdout",
     "output_type": "stream",
     "text": [
      ",\n",
      "     "
     ]
    },
    {
     "name": "stdout",
     "output_type": "stream",
     "text": [
      "'Kyrgyzstan'"
     ]
    },
    {
     "name": "stdout",
     "output_type": "stream",
     "text": [
      ", "
     ]
    },
    {
     "name": "stdout",
     "output_type": "stream",
     "text": [
      "'Equatorial Guinea'"
     ]
    },
    {
     "name": "stdout",
     "output_type": "stream",
     "text": [
      ", "
     ]
    },
    {
     "name": "stdout",
     "output_type": "stream",
     "text": [
      "'Libya'"
     ]
    },
    {
     "name": "stdout",
     "output_type": "stream",
     "text": [
      ", "
     ]
    },
    {
     "name": "stdout",
     "output_type": "stream",
     "text": [
      "'New Zealand'"
     ]
    },
    {
     "name": "stdout",
     "output_type": "stream",
     "text": [
      ",\n",
      "     "
     ]
    },
    {
     "name": "stdout",
     "output_type": "stream",
     "text": [
      "'Sao Tome and Principe'"
     ]
    },
    {
     "name": "stdout",
     "output_type": "stream",
     "text": [
      ", "
     ]
    },
    {
     "name": "stdout",
     "output_type": "stream",
     "text": [
      "'Vietnam'"
     ]
    },
    {
     "name": "stdout",
     "output_type": "stream",
     "text": [
      ", "
     ]
    },
    {
     "name": "stdout",
     "output_type": "stream",
     "text": [
      "'Norway'"
     ]
    },
    {
     "name": "stdout",
     "output_type": "stream",
     "text": [
      ", "
     ]
    },
    {
     "name": "stdout",
     "output_type": "stream",
     "text": [
      "'Zambia'"
     ]
    },
    {
     "name": "stdout",
     "output_type": "stream",
     "text": [
      ", "
     ]
    },
    {
     "name": "stdout",
     "output_type": "stream",
     "text": [
      "'Montenegro'"
     ]
    },
    {
     "name": "stdout",
     "output_type": "stream",
     "text": [
      ",\n",
      "     "
     ]
    },
    {
     "name": "stdout",
     "output_type": "stream",
     "text": [
      "'Angola'"
     ]
    },
    {
     "name": "stdout",
     "output_type": "stream",
     "text": [
      ", "
     ]
    },
    {
     "name": "stdout",
     "output_type": "stream",
     "text": [
      "'Central African Republic'"
     ]
    },
    {
     "name": "stdout",
     "output_type": "stream",
     "text": [
      ", "
     ]
    },
    {
     "name": "stdout",
     "output_type": "stream",
     "text": [
      "'Eritrea'"
     ]
    },
    {
     "name": "stdout",
     "output_type": "stream",
     "text": [
      ", "
     ]
    },
    {
     "name": "stdout",
     "output_type": "stream",
     "text": [
      "'Botswana'"
     ]
    },
    {
     "name": "stdout",
     "output_type": "stream",
     "text": [
      ",\n",
      "     "
     ]
    },
    {
     "name": "stdout",
     "output_type": "stream",
     "text": [
      "'Saint Lucia'"
     ]
    },
    {
     "name": "stdout",
     "output_type": "stream",
     "text": [
      "]"
     ]
    },
    {
     "name": "stdout",
     "output_type": "stream",
     "text": [
      ",\n",
      " "
     ]
    },
    {
     "name": "stdout",
     "output_type": "stream",
     "text": [
      "5"
     ]
    },
    {
     "name": "stdout",
     "output_type": "stream",
     "text": [
      ": "
     ]
    },
    {
     "name": "stdout",
     "output_type": "stream",
     "text": [
      "["
     ]
    },
    {
     "name": "stdout",
     "output_type": "stream",
     "text": [
      "'Guyana'"
     ]
    },
    {
     "name": "stdout",
     "output_type": "stream",
     "text": [
      ", "
     ]
    },
    {
     "name": "stdout",
     "output_type": "stream",
     "text": [
      "'Saint Vincent and the Grenadines'"
     ]
    },
    {
     "name": "stdout",
     "output_type": "stream",
     "text": [
      ", "
     ]
    },
    {
     "name": "stdout",
     "output_type": "stream",
     "text": [
      "'Guatemala'"
     ]
    },
    {
     "name": "stdout",
     "output_type": "stream",
     "text": [
      ", "
     ]
    },
    {
     "name": "stdout",
     "output_type": "stream",
     "text": [
      "'Mongolia'"
     ]
    },
    {
     "name": "stdout",
     "output_type": "stream",
     "text": [
      ",\n",
      "     "
     ]
    },
    {
     "name": "stdout",
     "output_type": "stream",
     "text": [
      "'Ethiopia'"
     ]
    },
    {
     "name": "stdout",
     "output_type": "stream",
     "text": [
      ", "
     ]
    },
    {
     "name": "stdout",
     "output_type": "stream",
     "text": [
      "'Chad'"
     ]
    },
    {
     "name": "stdout",
     "output_type": "stream",
     "text": [
      ", "
     ]
    },
    {
     "name": "stdout",
     "output_type": "stream",
     "text": [
      "'Malawi'"
     ]
    },
    {
     "name": "stdout",
     "output_type": "stream",
     "text": [
      ", "
     ]
    },
    {
     "name": "stdout",
     "output_type": "stream",
     "text": [
      "'Venezuela'"
     ]
    },
    {
     "name": "stdout",
     "output_type": "stream",
     "text": [
      ", "
     ]
    },
    {
     "name": "stdout",
     "output_type": "stream",
     "text": [
      "'Kazakhstan'"
     ]
    },
    {
     "name": "stdout",
     "output_type": "stream",
     "text": [
      ", "
     ]
    },
    {
     "name": "stdout",
     "output_type": "stream",
     "text": [
      "'Morocco'"
     ]
    },
    {
     "name": "stdout",
     "output_type": "stream",
     "text": [
      ",\n",
      "     "
     ]
    },
    {
     "name": "stdout",
     "output_type": "stream",
     "text": [
      "'Liechtenstein'"
     ]
    },
    {
     "name": "stdout",
     "output_type": "stream",
     "text": [
      ", "
     ]
    },
    {
     "name": "stdout",
     "output_type": "stream",
     "text": [
      "'Philippines'"
     ]
    },
    {
     "name": "stdout",
     "output_type": "stream",
     "text": [
      ", "
     ]
    },
    {
     "name": "stdout",
     "output_type": "stream",
     "text": [
      "'Iceland'"
     ]
    },
    {
     "name": "stdout",
     "output_type": "stream",
     "text": [
      ", "
     ]
    },
    {
     "name": "stdout",
     "output_type": "stream",
     "text": [
      "'Maldives'"
     ]
    },
    {
     "name": "stdout",
     "output_type": "stream",
     "text": [
      ", "
     ]
    },
    {
     "name": "stdout",
     "output_type": "stream",
     "text": [
      "'Kosovo'"
     ]
    },
    {
     "name": "stdout",
     "output_type": "stream",
     "text": [
      ",\n",
      "     "
     ]
    },
    {
     "name": "stdout",
     "output_type": "stream",
     "text": [
      "'Australia'"
     ]
    },
    {
     "name": "stdout",
     "output_type": "stream",
     "text": [
      ", "
     ]
    },
    {
     "name": "stdout",
     "output_type": "stream",
     "text": [
      "'Lebanon'"
     ]
    },
    {
     "name": "stdout",
     "output_type": "stream",
     "text": [
      ", "
     ]
    },
    {
     "name": "stdout",
     "output_type": "stream",
     "text": [
      "'San Marino'"
     ]
    },
    {
     "name": "stdout",
     "output_type": "stream",
     "text": [
      ", "
     ]
    },
    {
     "name": "stdout",
     "output_type": "stream",
     "text": [
      "'Madagascar'"
     ]
    },
    {
     "name": "stdout",
     "output_type": "stream",
     "text": [
      ", "
     ]
    },
    {
     "name": "stdout",
     "output_type": "stream",
     "text": [
      "'Japan'"
     ]
    },
    {
     "name": "stdout",
     "output_type": "stream",
     "text": [
      ", "
     ]
    },
    {
     "name": "stdout",
     "output_type": "stream",
     "text": [
      "'Israel'"
     ]
    },
    {
     "name": "stdout",
     "output_type": "stream",
     "text": [
      ",\n",
      "     "
     ]
    },
    {
     "name": "stdout",
     "output_type": "stream",
     "text": [
      "'Paraguay'"
     ]
    },
    {
     "name": "stdout",
     "output_type": "stream",
     "text": [
      ", "
     ]
    },
    {
     "name": "stdout",
     "output_type": "stream",
     "text": [
      "'Costa Rica'"
     ]
    },
    {
     "name": "stdout",
     "output_type": "stream",
     "text": [
      ", "
     ]
    },
    {
     "name": "stdout",
     "output_type": "stream",
     "text": [
      "'Suriname'"
     ]
    },
    {
     "name": "stdout",
     "output_type": "stream",
     "text": [
      ", "
     ]
    },
    {
     "name": "stdout",
     "output_type": "stream",
     "text": [
      "'Comoros'"
     ]
    },
    {
     "name": "stdout",
     "output_type": "stream",
     "text": [
      ", "
     ]
    },
    {
     "name": "stdout",
     "output_type": "stream",
     "text": [
      "'Syria'"
     ]
    },
    {
     "name": "stdout",
     "output_type": "stream",
     "text": [
      "]"
     ]
    },
    {
     "name": "stdout",
     "output_type": "stream",
     "text": [
      ",\n",
      " "
     ]
    },
    {
     "name": "stdout",
     "output_type": "stream",
     "text": [
      "6"
     ]
    },
    {
     "name": "stdout",
     "output_type": "stream",
     "text": [
      ": "
     ]
    },
    {
     "name": "stdout",
     "output_type": "stream",
     "text": [
      "["
     ]
    },
    {
     "name": "stdout",
     "output_type": "stream",
     "text": [
      "'Thailand'"
     ]
    },
    {
     "name": "stdout",
     "output_type": "stream",
     "text": [
      ", "
     ]
    },
    {
     "name": "stdout",
     "output_type": "stream",
     "text": [
      "'Somalia'"
     ]
    },
    {
     "name": "stdout",
     "output_type": "stream",
     "text": [
      ", "
     ]
    },
    {
     "name": "stdout",
     "output_type": "stream",
     "text": [
      "'Luxembourg'"
     ]
    },
    {
     "name": "stdout",
     "output_type": "stream",
     "text": [
      ", "
     ]
    },
    {
     "name": "stdout",
     "output_type": "stream",
     "text": [
      "'Spain'"
     ]
    },
    {
     "name": "stdout",
     "output_type": "stream",
     "text": [
      ", "
     ]
    },
    {
     "name": "stdout",
     "output_type": "stream",
     "text": [
      "'Cambodia'"
     ]
    },
    {
     "name": "stdout",
     "output_type": "stream",
     "text": [
      ", "
     ]
    },
    {
     "name": "stdout",
     "output_type": "stream",
     "text": [
      "'Afghanistan'"
     ]
    },
    {
     "name": "stdout",
     "output_type": "stream",
     "text": [
      ",\n",
      "     "
     ]
    },
    {
     "name": "stdout",
     "output_type": "stream",
     "text": [
      "'Argentina'"
     ]
    },
    {
     "name": "stdout",
     "output_type": "stream",
     "text": [
      ", "
     ]
    },
    {
     "name": "stdout",
     "output_type": "stream",
     "text": [
      "'Nepal'"
     ]
    },
    {
     "name": "stdout",
     "output_type": "stream",
     "text": [
      ", "
     ]
    },
    {
     "name": "stdout",
     "output_type": "stream",
     "text": [
      "'Haiti'"
     ]
    },
    {
     "name": "stdout",
     "output_type": "stream",
     "text": [
      ", "
     ]
    },
    {
     "name": "stdout",
     "output_type": "stream",
     "text": [
      "'Croatia'"
     ]
    },
    {
     "name": "stdout",
     "output_type": "stream",
     "text": [
      ", "
     ]
    },
    {
     "name": "stdout",
     "output_type": "stream",
     "text": [
      "'Sri Lanka'"
     ]
    },
    {
     "name": "stdout",
     "output_type": "stream",
     "text": [
      ", "
     ]
    },
    {
     "name": "stdout",
     "output_type": "stream",
     "text": [
      "'Andorra'"
     ]
    },
    {
     "name": "stdout",
     "output_type": "stream",
     "text": [
      ",\n",
      "     "
     ]
    },
    {
     "name": "stdout",
     "output_type": "stream",
     "text": [
      "'Slovakia'"
     ]
    },
    {
     "name": "stdout",
     "output_type": "stream",
     "text": [
      ", "
     ]
    },
    {
     "name": "stdout",
     "output_type": "stream",
     "text": [
      "'Burundi'"
     ]
    },
    {
     "name": "stdout",
     "output_type": "stream",
     "text": [
      ", "
     ]
    },
    {
     "name": "stdout",
     "output_type": "stream",
     "text": [
      "'Kenya'"
     ]
    },
    {
     "name": "stdout",
     "output_type": "stream",
     "text": [
      ", "
     ]
    },
    {
     "name": "stdout",
     "output_type": "stream",
     "text": [
      "'Cyprus'"
     ]
    },
    {
     "name": "stdout",
     "output_type": "stream",
     "text": [
      ", "
     ]
    },
    {
     "name": "stdout",
     "output_type": "stream",
     "text": [
      "'Greece'"
     ]
    },
    {
     "name": "stdout",
     "output_type": "stream",
     "text": [
      ", "
     ]
    },
    {
     "name": "stdout",
     "output_type": "stream",
     "text": [
      "'Bermuda'"
     ]
    },
    {
     "name": "stdout",
     "output_type": "stream",
     "text": [
      ", "
     ]
    },
    {
     "name": "stdout",
     "output_type": "stream",
     "text": [
      "'Oman'"
     ]
    },
    {
     "name": "stdout",
     "output_type": "stream",
     "text": [
      ",\n",
      "     "
     ]
    },
    {
     "name": "stdout",
     "output_type": "stream",
     "text": [
      "'Guinea-Bissau'"
     ]
    },
    {
     "name": "stdout",
     "output_type": "stream",
     "text": [
      ", "
     ]
    },
    {
     "name": "stdout",
     "output_type": "stream",
     "text": [
      "'Bosnia and Herzegovina'"
     ]
    },
    {
     "name": "stdout",
     "output_type": "stream",
     "text": [
      ", "
     ]
    },
    {
     "name": "stdout",
     "output_type": "stream",
     "text": [
      "'Cuba'"
     ]
    },
    {
     "name": "stdout",
     "output_type": "stream",
     "text": [
      ", "
     ]
    },
    {
     "name": "stdout",
     "output_type": "stream",
     "text": [
      "'India'"
     ]
    },
    {
     "name": "stdout",
     "output_type": "stream",
     "text": [
      ", "
     ]
    },
    {
     "name": "stdout",
     "output_type": "stream",
     "text": [
      "'Tajikistan'"
     ]
    },
    {
     "name": "stdout",
     "output_type": "stream",
     "text": [
      ",\n",
      "     "
     ]
    },
    {
     "name": "stdout",
     "output_type": "stream",
     "text": [
      "'Bhutan'"
     ]
    },
    {
     "name": "stdout",
     "output_type": "stream",
     "text": [
      ", "
     ]
    },
    {
     "name": "stdout",
     "output_type": "stream",
     "text": [
      "'Qatar'"
     ]
    },
    {
     "name": "stdout",
     "output_type": "stream",
     "text": [
      ", "
     ]
    },
    {
     "name": "stdout",
     "output_type": "stream",
     "text": [
      "'Benin'"
     ]
    },
    {
     "name": "stdout",
     "output_type": "stream",
     "text": [
      ", "
     ]
    },
    {
     "name": "stdout",
     "output_type": "stream",
     "text": [
      "'Congo'"
     ]
    },
    {
     "name": "stdout",
     "output_type": "stream",
     "text": [
      ", "
     ]
    },
    {
     "name": "stdout",
     "output_type": "stream",
     "text": [
      "'Uganda'"
     ]
    },
    {
     "name": "stdout",
     "output_type": "stream",
     "text": [
      ", "
     ]
    },
    {
     "name": "stdout",
     "output_type": "stream",
     "text": [
      "'Cameroon'"
     ]
    },
    {
     "name": "stdout",
     "output_type": "stream",
     "text": [
      ", "
     ]
    },
    {
     "name": "stdout",
     "output_type": "stream",
     "text": [
      "'Swaziland'"
     ]
    },
    {
     "name": "stdout",
     "output_type": "stream",
     "text": [
      ",\n",
      "     "
     ]
    },
    {
     "name": "stdout",
     "output_type": "stream",
     "text": [
      "'Mozambique'"
     ]
    },
    {
     "name": "stdout",
     "output_type": "stream",
     "text": [
      ", "
     ]
    },
    {
     "name": "stdout",
     "output_type": "stream",
     "text": [
      "'Uzbekistan'"
     ]
    },
    {
     "name": "stdout",
     "output_type": "stream",
     "text": [
      ", "
     ]
    },
    {
     "name": "stdout",
     "output_type": "stream",
     "text": [
      "'Colombia'"
     ]
    },
    {
     "name": "stdout",
     "output_type": "stream",
     "text": [
      ", "
     ]
    },
    {
     "name": "stdout",
     "output_type": "stream",
     "text": [
      "'Taiwan'"
     ]
    },
    {
     "name": "stdout",
     "output_type": "stream",
     "text": [
      ", "
     ]
    },
    {
     "name": "stdout",
     "output_type": "stream",
     "text": [
      "'Honduras'"
     ]
    },
    {
     "name": "stdout",
     "output_type": "stream",
     "text": [
      "]"
     ]
    },
    {
     "name": "stdout",
     "output_type": "stream",
     "text": [
      ",\n",
      " "
     ]
    },
    {
     "name": "stdout",
     "output_type": "stream",
     "text": [
      "7"
     ]
    },
    {
     "name": "stdout",
     "output_type": "stream",
     "text": [
      ": "
     ]
    },
    {
     "name": "stdout",
     "output_type": "stream",
     "text": [
      "["
     ]
    },
    {
     "name": "stdout",
     "output_type": "stream",
     "text": [
      "'Uruguay'"
     ]
    },
    {
     "name": "stdout",
     "output_type": "stream",
     "text": [
      ", "
     ]
    },
    {
     "name": "stdout",
     "output_type": "stream",
     "text": [
      "'Slovenia'"
     ]
    },
    {
     "name": "stdout",
     "output_type": "stream",
     "text": [
      ", "
     ]
    },
    {
     "name": "stdout",
     "output_type": "stream",
     "text": [
      "'Switzerland'"
     ]
    },
    {
     "name": "stdout",
     "output_type": "stream",
     "text": [
      ", "
     ]
    },
    {
     "name": "stdout",
     "output_type": "stream",
     "text": [
      "'Netherlands'"
     ]
    },
    {
     "name": "stdout",
     "output_type": "stream",
     "text": [
      ", "
     ]
    },
    {
     "name": "stdout",
     "output_type": "stream",
     "text": [
      "'Barbados'"
     ]
    },
    {
     "name": "stdout",
     "output_type": "stream",
     "text": [
      ", "
     ]
    },
    {
     "name": "stdout",
     "output_type": "stream",
     "text": [
      "'Panama'"
     ]
    },
    {
     "name": "stdout",
     "output_type": "stream",
     "text": [
      ",\n",
      "     "
     ]
    },
    {
     "name": "stdout",
     "output_type": "stream",
     "text": [
      "'South Africa'"
     ]
    },
    {
     "name": "stdout",
     "output_type": "stream",
     "text": [
      ", "
     ]
    },
    {
     "name": "stdout",
     "output_type": "stream",
     "text": [
      "'Armenia'"
     ]
    },
    {
     "name": "stdout",
     "output_type": "stream",
     "text": [
      ", "
     ]
    },
    {
     "name": "stdout",
     "output_type": "stream",
     "text": [
      "'Rwanda'"
     ]
    },
    {
     "name": "stdout",
     "output_type": "stream",
     "text": [
      ", "
     ]
    },
    {
     "name": "stdout",
     "output_type": "stream",
     "text": [
      "'Gabon'"
     ]
    },
    {
     "name": "stdout",
     "output_type": "stream",
     "text": [
      ", "
     ]
    },
    {
     "name": "stdout",
     "output_type": "stream",
     "text": [
      "'Chile'"
     ]
    },
    {
     "name": "stdout",
     "output_type": "stream",
     "text": [
      ",\n",
      "     "
     ]
    },
    {
     "name": "stdout",
     "output_type": "stream",
     "text": [
      "'Dominican Republic'"
     ]
    },
    {
     "name": "stdout",
     "output_type": "stream",
     "text": [
      ", "
     ]
    },
    {
     "name": "stdout",
     "output_type": "stream",
     "text": [
      "'Germany'"
     ]
    },
    {
     "name": "stdout",
     "output_type": "stream",
     "text": [
      ", "
     ]
    },
    {
     "name": "stdout",
     "output_type": "stream",
     "text": [
      "'Canada'"
     ]
    },
    {
     "name": "stdout",
     "output_type": "stream",
     "text": [
      ", "
     ]
    },
    {
     "name": "stdout",
     "output_type": "stream",
     "text": [
      "'Ghana'"
     ]
    },
    {
     "name": "stdout",
     "output_type": "stream",
     "text": [
      ", "
     ]
    },
    {
     "name": "stdout",
     "output_type": "stream",
     "text": [
      "'Cape Verde'"
     ]
    },
    {
     "name": "stdout",
     "output_type": "stream",
     "text": [
      ",\n",
      "     "
     ]
    },
    {
     "name": "stdout",
     "output_type": "stream",
     "text": [
      "'Jamaica'"
     ]
    },
    {
     "name": "stdout",
     "output_type": "stream",
     "text": [
      ", "
     ]
    },
    {
     "name": "stdout",
     "output_type": "stream",
     "text": [
      "'Iraq'"
     ]
    },
    {
     "name": "stdout",
     "output_type": "stream",
     "text": [
      ", "
     ]
    },
    {
     "name": "stdout",
     "output_type": "stream",
     "text": [
      "'Belarus'"
     ]
    },
    {
     "name": "stdout",
     "output_type": "stream",
     "text": [
      ", "
     ]
    },
    {
     "name": "stdout",
     "output_type": "stream",
     "text": [
      "'Finland'"
     ]
    },
    {
     "name": "stdout",
     "output_type": "stream",
     "text": [
      ", "
     ]
    },
    {
     "name": "stdout",
     "output_type": "stream",
     "text": [
      "'Albania'"
     ]
    },
    {
     "name": "stdout",
     "output_type": "stream",
     "text": [
      ", "
     ]
    },
    {
     "name": "stdout",
     "output_type": "stream",
     "text": [
      "'Serbia'"
     ]
    },
    {
     "name": "stdout",
     "output_type": "stream",
     "text": [
      ", "
     ]
    },
    {
     "name": "stdout",
     "output_type": "stream",
     "text": [
      "'Latvia'"
     ]
    },
    {
     "name": "stdout",
     "output_type": "stream",
     "text": [
      ",\n",
      "     "
     ]
    },
    {
     "name": "stdout",
     "output_type": "stream",
     "text": [
      "'Macedonia'"
     ]
    },
    {
     "name": "stdout",
     "output_type": "stream",
     "text": [
      ", "
     ]
    },
    {
     "name": "stdout",
     "output_type": "stream",
     "text": [
      "'El Salvador'"
     ]
    },
    {
     "name": "stdout",
     "output_type": "stream",
     "text": [
      ", "
     ]
    },
    {
     "name": "stdout",
     "output_type": "stream",
     "text": [
      "'Sierra Leone'"
     ]
    },
    {
     "name": "stdout",
     "output_type": "stream",
     "text": [
      ", "
     ]
    },
    {
     "name": "stdout",
     "output_type": "stream",
     "text": [
      "'Bulgaria'"
     ]
    },
    {
     "name": "stdout",
     "output_type": "stream",
     "text": [
      ", "
     ]
    },
    {
     "name": "stdout",
     "output_type": "stream",
     "text": [
      "'Monaco'"
     ]
    },
    {
     "name": "stdout",
     "output_type": "stream",
     "text": [
      ", "
     ]
    },
    {
     "name": "stdout",
     "output_type": "stream",
     "text": [
      "'Togo'"
     ]
    },
    {
     "name": "stdout",
     "output_type": "stream",
     "text": [
      ",\n",
      "     "
     ]
    },
    {
     "name": "stdout",
     "output_type": "stream",
     "text": [
      "'Burkina Faso'"
     ]
    },
    {
     "name": "stdout",
     "output_type": "stream",
     "text": [
      ", "
     ]
    },
    {
     "name": "stdout",
     "output_type": "stream",
     "text": [
      "'Indonesia'"
     ]
    },
    {
     "name": "stdout",
     "output_type": "stream",
     "text": [
      ", "
     ]
    },
    {
     "name": "stdout",
     "output_type": "stream",
     "text": [
      "'Azerbaijan'"
     ]
    },
    {
     "name": "stdout",
     "output_type": "stream",
     "text": [
      ", "
     ]
    },
    {
     "name": "stdout",
     "output_type": "stream",
     "text": [
      "'Sudan'"
     ]
    },
    {
     "name": "stdout",
     "output_type": "stream",
     "text": [
      ", "
     ]
    },
    {
     "name": "stdout",
     "output_type": "stream",
     "text": [
      "'China'"
     ]
    },
    {
     "name": "stdout",
     "output_type": "stream",
     "text": [
      ", "
     ]
    },
    {
     "name": "stdout",
     "output_type": "stream",
     "text": [
      "'Egypt'"
     ]
    },
    {
     "name": "stdout",
     "output_type": "stream",
     "text": [
      ",\n",
      "     "
     ]
    },
    {
     "name": "stdout",
     "output_type": "stream",
     "text": [
      "'Djibouti'"
     ]
    },
    {
     "name": "stdout",
     "output_type": "stream",
     "text": [
      ", "
     ]
    },
    {
     "name": "stdout",
     "output_type": "stream",
     "text": [
      "'Pakistan'"
     ]
    },
    {
     "name": "stdout",
     "output_type": "stream",
     "text": [
      ", "
     ]
    },
    {
     "name": "stdout",
     "output_type": "stream",
     "text": [
      "'Niger'"
     ]
    },
    {
     "name": "stdout",
     "output_type": "stream",
     "text": [
      ", "
     ]
    },
    {
     "name": "stdout",
     "output_type": "stream",
     "text": [
      "'Jordan'"
     ]
    },
    {
     "name": "stdout",
     "output_type": "stream",
     "text": [
      ", "
     ]
    },
    {
     "name": "stdout",
     "output_type": "stream",
     "text": [
      "'Mauritania'"
     ]
    },
    {
     "name": "stdout",
     "output_type": "stream",
     "text": [
      ", "
     ]
    },
    {
     "name": "stdout",
     "output_type": "stream",
     "text": [
      "'Ecuador'"
     ]
    },
    {
     "name": "stdout",
     "output_type": "stream",
     "text": [
      "]"
     ]
    },
    {
     "name": "stdout",
     "output_type": "stream",
     "text": [
      ",\n",
      " "
     ]
    },
    {
     "name": "stdout",
     "output_type": "stream",
     "text": [
      "8"
     ]
    },
    {
     "name": "stdout",
     "output_type": "stream",
     "text": [
      ": "
     ]
    },
    {
     "name": "stdout",
     "output_type": "stream",
     "text": [
      "["
     ]
    },
    {
     "name": "stdout",
     "output_type": "stream",
     "text": [
      "'Malaysia'"
     ]
    },
    {
     "name": "stdout",
     "output_type": "stream",
     "text": [
      ", "
     ]
    },
    {
     "name": "stdout",
     "output_type": "stream",
     "text": [
      "'Belgium'"
     ]
    },
    {
     "name": "stdout",
     "output_type": "stream",
     "text": [
      ", "
     ]
    },
    {
     "name": "stdout",
     "output_type": "stream",
     "text": [
      "'Singapore'"
     ]
    },
    {
     "name": "stdout",
     "output_type": "stream",
     "text": [
      ", "
     ]
    },
    {
     "name": "stdout",
     "output_type": "stream",
     "text": [
      "'Tunisia'"
     ]
    },
    {
     "name": "stdout",
     "output_type": "stream",
     "text": [
      ", "
     ]
    },
    {
     "name": "stdout",
     "output_type": "stream",
     "text": [
      "'Algeria'"
     ]
    },
    {
     "name": "stdout",
     "output_type": "stream",
     "text": [
      ", "
     ]
    },
    {
     "name": "stdout",
     "output_type": "stream",
     "text": [
      "'Hungary'"
     ]
    },
    {
     "name": "stdout",
     "output_type": "stream",
     "text": [
      ",\n",
      "     "
     ]
    },
    {
     "name": "stdout",
     "output_type": "stream",
     "text": [
      "'Liberia'"
     ]
    },
    {
     "name": "stdout",
     "output_type": "stream",
     "text": [
      ", "
     ]
    },
    {
     "name": "stdout",
     "output_type": "stream",
     "text": [
      "'Estonia'"
     ]
    },
    {
     "name": "stdout",
     "output_type": "stream",
     "text": [
      ", "
     ]
    },
    {
     "name": "stdout",
     "output_type": "stream",
     "text": [
      "'Denmark'"
     ]
    },
    {
     "name": "stdout",
     "output_type": "stream",
     "text": [
      ", "
     ]
    },
    {
     "name": "stdout",
     "output_type": "stream",
     "text": [
      "'Austria'"
     ]
    },
    {
     "name": "stdout",
     "output_type": "stream",
     "text": [
      ", "
     ]
    },
    {
     "name": "stdout",
     "output_type": "stream",
     "text": [
      "'Lithuania'"
     ]
    },
    {
     "name": "stdout",
     "output_type": "stream",
     "text": [
      ", "
     ]
    },
    {
     "name": "stdout",
     "output_type": "stream",
     "text": [
      "'Bolivia'"
     ]
    },
    {
     "name": "stdout",
     "output_type": "stream",
     "text": [
      ",\n",
      "     "
     ]
    },
    {
     "name": "stdout",
     "output_type": "stream",
     "text": [
      "'Ukraine'"
     ]
    },
    {
     "name": "stdout",
     "output_type": "stream",
     "text": [
      ", "
     ]
    },
    {
     "name": "stdout",
     "output_type": "stream",
     "text": [
      "'Romania'"
     ]
    },
    {
     "name": "stdout",
     "output_type": "stream",
     "text": [
      ", "
     ]
    },
    {
     "name": "stdout",
     "output_type": "stream",
     "text": [
      "'Brazil'"
     ]
    },
    {
     "name": "stdout",
     "output_type": "stream",
     "text": [
      ", "
     ]
    },
    {
     "name": "stdout",
     "output_type": "stream",
     "text": [
      "'Saudi Arabia'"
     ]
    },
    {
     "name": "stdout",
     "output_type": "stream",
     "text": [
      ", "
     ]
    },
    {
     "name": "stdout",
     "output_type": "stream",
     "text": [
      "'Nicaragua'"
     ]
    },
    {
     "name": "stdout",
     "output_type": "stream",
     "text": [
      "]"
     ]
    },
    {
     "name": "stdout",
     "output_type": "stream",
     "text": [
      ",\n",
      " "
     ]
    },
    {
     "name": "stdout",
     "output_type": "stream",
     "text": [
      "9"
     ]
    },
    {
     "name": "stdout",
     "output_type": "stream",
     "text": [
      ": "
     ]
    },
    {
     "name": "stdout",
     "output_type": "stream",
     "text": [
      "["
     ]
    },
    {
     "name": "stdout",
     "output_type": "stream",
     "text": [
      "'Peru'"
     ]
    },
    {
     "name": "stdout",
     "output_type": "stream",
     "text": [
      ", "
     ]
    },
    {
     "name": "stdout",
     "output_type": "stream",
     "text": [
      "'Italy'"
     ]
    },
    {
     "name": "stdout",
     "output_type": "stream",
     "text": [
      ", "
     ]
    },
    {
     "name": "stdout",
     "output_type": "stream",
     "text": [
      "'Moldova'"
     ]
    },
    {
     "name": "stdout",
     "output_type": "stream",
     "text": [
      ", "
     ]
    },
    {
     "name": "stdout",
     "output_type": "stream",
     "text": [
      "'France'"
     ]
    },
    {
     "name": "stdout",
     "output_type": "stream",
     "text": [
      ", "
     ]
    },
    {
     "name": "stdout",
     "output_type": "stream",
     "text": [
      "'Myanmar'"
     ]
    },
    {
     "name": "stdout",
     "output_type": "stream",
     "text": [
      ", "
     ]
    },
    {
     "name": "stdout",
     "output_type": "stream",
     "text": [
      "'United States'"
     ]
    },
    {
     "name": "stdout",
     "output_type": "stream",
     "text": [
      ", "
     ]
    },
    {
     "name": "stdout",
     "output_type": "stream",
     "text": [
      "'Mali'"
     ]
    },
    {
     "name": "stdout",
     "output_type": "stream",
     "text": [
      ",\n",
      "     "
     ]
    },
    {
     "name": "stdout",
     "output_type": "stream",
     "text": [
      "'Russia'"
     ]
    },
    {
     "name": "stdout",
     "output_type": "stream",
     "text": [
      ", "
     ]
    },
    {
     "name": "stdout",
     "output_type": "stream",
     "text": [
      "'Nigeria'"
     ]
    },
    {
     "name": "stdout",
     "output_type": "stream",
     "text": [
      ", "
     ]
    },
    {
     "name": "stdout",
     "output_type": "stream",
     "text": [
      "'Georgia'"
     ]
    },
    {
     "name": "stdout",
     "output_type": "stream",
     "text": [
      ", "
     ]
    },
    {
     "name": "stdout",
     "output_type": "stream",
     "text": [
      "'Mexico'"
     ]
    },
    {
     "name": "stdout",
     "output_type": "stream",
     "text": [
      ", "
     ]
    },
    {
     "name": "stdout",
     "output_type": "stream",
     "text": [
      "'Portugal'"
     ]
    },
    {
     "name": "stdout",
     "output_type": "stream",
     "text": [
      ", "
     ]
    },
    {
     "name": "stdout",
     "output_type": "stream",
     "text": [
      "'Czech Republic'"
     ]
    },
    {
     "name": "stdout",
     "output_type": "stream",
     "text": [
      ",\n",
      "     "
     ]
    },
    {
     "name": "stdout",
     "output_type": "stream",
     "text": [
      "'Turkey'"
     ]
    },
    {
     "name": "stdout",
     "output_type": "stream",
     "text": [
      ", "
     ]
    },
    {
     "name": "stdout",
     "output_type": "stream",
     "text": [
      "'Kuwait'"
     ]
    },
    {
     "name": "stdout",
     "output_type": "stream",
     "text": [
      ", "
     ]
    },
    {
     "name": "stdout",
     "output_type": "stream",
     "text": [
      "'Bangladesh'"
     ]
    },
    {
     "name": "stdout",
     "output_type": "stream",
     "text": [
      "]"
     ]
    },
    {
     "name": "stdout",
     "output_type": "stream",
     "text": [
      ",\n",
      " "
     ]
    },
    {
     "name": "stdout",
     "output_type": "stream",
     "text": [
      "10"
     ]
    },
    {
     "name": "stdout",
     "output_type": "stream",
     "text": [
      ": "
     ]
    },
    {
     "name": "stdout",
     "output_type": "stream",
     "text": [
      "["
     ]
    },
    {
     "name": "stdout",
     "output_type": "stream",
     "text": [
      "'Iran'"
     ]
    },
    {
     "name": "stdout",
     "output_type": "stream",
     "text": [
      ", "
     ]
    },
    {
     "name": "stdout",
     "output_type": "stream",
     "text": [
      "'Guinea'"
     ]
    },
    {
     "name": "stdout",
     "output_type": "stream",
     "text": [
      ", "
     ]
    },
    {
     "name": "stdout",
     "output_type": "stream",
     "text": [
      "'Senegal'"
     ]
    },
    {
     "name": "stdout",
     "output_type": "stream",
     "text": [
      ", "
     ]
    },
    {
     "name": "stdout",
     "output_type": "stream",
     "text": [
      "'United Arab Emirates'"
     ]
    },
    {
     "name": "stdout",
     "output_type": "stream",
     "text": [
      ", "
     ]
    },
    {
     "name": "stdout",
     "output_type": "stream",
     "text": [
      "'Korea, South'"
     ]
    },
    {
     "name": "stdout",
     "output_type": "stream",
     "text": [
      ",\n",
      "      "
     ]
    },
    {
     "name": "stdout",
     "output_type": "stream",
     "text": [
      "'Bahrain'"
     ]
    },
    {
     "name": "stdout",
     "output_type": "stream",
     "text": [
      ", "
     ]
    },
    {
     "name": "stdout",
     "output_type": "stream",
     "text": [
      "'Poland'"
     ]
    },
    {
     "name": "stdout",
     "output_type": "stream",
     "text": [
      "]"
     ]
    },
    {
     "name": "stdout",
     "output_type": "stream",
     "text": [
      "}"
     ]
    },
    {
     "name": "stdout",
     "output_type": "stream",
     "text": [
      "\n"
     ]
    }
   ],
   "source": [
    "# Show the number of phases of all countries\n",
    "analyser.trend()\n",
    "pprint(analyser.phase_len(), compact=True)"
   ]
  },
  {
   "cell_type": "code",
   "execution_count": 8,
   "metadata": {
    "collapsed": false
   },
   "outputs": [
    {
     "data": {
      "text/plain": [
       "23"
      ]
     },
     "execution_count": 8,
     "metadata": {},
     "output_type": "execute_result"
    }
   ],
   "source": [
    "# Set phases with S-R trend analysis\n",
    "analyser.trend(min_len=9)\n",
    "# The number of countries\n",
    "len(analyser.countries)"
   ]
  },
  {
   "cell_type": "code",
   "execution_count": 9,
   "metadata": {
    "collapsed": false,
    "tags": []
   },
   "outputs": [
    {
     "name": "stdout",
     "output_type": "stream",
     "text": [
      "{"
     ]
    },
    {
     "name": "stdout",
     "output_type": "stream",
     "text": [
      "9"
     ]
    },
    {
     "name": "stdout",
     "output_type": "stream",
     "text": [
      ": "
     ]
    },
    {
     "name": "stdout",
     "output_type": "stream",
     "text": [
      "["
     ]
    },
    {
     "name": "stdout",
     "output_type": "stream",
     "text": [
      "'Peru'"
     ]
    },
    {
     "name": "stdout",
     "output_type": "stream",
     "text": [
      ", "
     ]
    },
    {
     "name": "stdout",
     "output_type": "stream",
     "text": [
      "'Italy'"
     ]
    },
    {
     "name": "stdout",
     "output_type": "stream",
     "text": [
      ", "
     ]
    },
    {
     "name": "stdout",
     "output_type": "stream",
     "text": [
      "'Moldova'"
     ]
    },
    {
     "name": "stdout",
     "output_type": "stream",
     "text": [
      ", "
     ]
    },
    {
     "name": "stdout",
     "output_type": "stream",
     "text": [
      "'France'"
     ]
    },
    {
     "name": "stdout",
     "output_type": "stream",
     "text": [
      ", "
     ]
    },
    {
     "name": "stdout",
     "output_type": "stream",
     "text": [
      "'Myanmar'"
     ]
    },
    {
     "name": "stdout",
     "output_type": "stream",
     "text": [
      ", "
     ]
    },
    {
     "name": "stdout",
     "output_type": "stream",
     "text": [
      "'United States'"
     ]
    },
    {
     "name": "stdout",
     "output_type": "stream",
     "text": [
      ", "
     ]
    },
    {
     "name": "stdout",
     "output_type": "stream",
     "text": [
      "'Mali'"
     ]
    },
    {
     "name": "stdout",
     "output_type": "stream",
     "text": [
      ",\n",
      "     "
     ]
    },
    {
     "name": "stdout",
     "output_type": "stream",
     "text": [
      "'Russia'"
     ]
    },
    {
     "name": "stdout",
     "output_type": "stream",
     "text": [
      ", "
     ]
    },
    {
     "name": "stdout",
     "output_type": "stream",
     "text": [
      "'Nigeria'"
     ]
    },
    {
     "name": "stdout",
     "output_type": "stream",
     "text": [
      ", "
     ]
    },
    {
     "name": "stdout",
     "output_type": "stream",
     "text": [
      "'Georgia'"
     ]
    },
    {
     "name": "stdout",
     "output_type": "stream",
     "text": [
      ", "
     ]
    },
    {
     "name": "stdout",
     "output_type": "stream",
     "text": [
      "'Mexico'"
     ]
    },
    {
     "name": "stdout",
     "output_type": "stream",
     "text": [
      ", "
     ]
    },
    {
     "name": "stdout",
     "output_type": "stream",
     "text": [
      "'Portugal'"
     ]
    },
    {
     "name": "stdout",
     "output_type": "stream",
     "text": [
      ", "
     ]
    },
    {
     "name": "stdout",
     "output_type": "stream",
     "text": [
      "'Czech Republic'"
     ]
    },
    {
     "name": "stdout",
     "output_type": "stream",
     "text": [
      ",\n",
      "     "
     ]
    },
    {
     "name": "stdout",
     "output_type": "stream",
     "text": [
      "'Turkey'"
     ]
    },
    {
     "name": "stdout",
     "output_type": "stream",
     "text": [
      ", "
     ]
    },
    {
     "name": "stdout",
     "output_type": "stream",
     "text": [
      "'Kuwait'"
     ]
    },
    {
     "name": "stdout",
     "output_type": "stream",
     "text": [
      ", "
     ]
    },
    {
     "name": "stdout",
     "output_type": "stream",
     "text": [
      "'Bangladesh'"
     ]
    },
    {
     "name": "stdout",
     "output_type": "stream",
     "text": [
      "]"
     ]
    },
    {
     "name": "stdout",
     "output_type": "stream",
     "text": [
      ",\n",
      " "
     ]
    },
    {
     "name": "stdout",
     "output_type": "stream",
     "text": [
      "10"
     ]
    },
    {
     "name": "stdout",
     "output_type": "stream",
     "text": [
      ": "
     ]
    },
    {
     "name": "stdout",
     "output_type": "stream",
     "text": [
      "["
     ]
    },
    {
     "name": "stdout",
     "output_type": "stream",
     "text": [
      "'Iran'"
     ]
    },
    {
     "name": "stdout",
     "output_type": "stream",
     "text": [
      ", "
     ]
    },
    {
     "name": "stdout",
     "output_type": "stream",
     "text": [
      "'Guinea'"
     ]
    },
    {
     "name": "stdout",
     "output_type": "stream",
     "text": [
      ", "
     ]
    },
    {
     "name": "stdout",
     "output_type": "stream",
     "text": [
      "'Senegal'"
     ]
    },
    {
     "name": "stdout",
     "output_type": "stream",
     "text": [
      ", "
     ]
    },
    {
     "name": "stdout",
     "output_type": "stream",
     "text": [
      "'United Arab Emirates'"
     ]
    },
    {
     "name": "stdout",
     "output_type": "stream",
     "text": [
      ", "
     ]
    },
    {
     "name": "stdout",
     "output_type": "stream",
     "text": [
      "'Korea, South'"
     ]
    },
    {
     "name": "stdout",
     "output_type": "stream",
     "text": [
      ",\n",
      "      "
     ]
    },
    {
     "name": "stdout",
     "output_type": "stream",
     "text": [
      "'Bahrain'"
     ]
    },
    {
     "name": "stdout",
     "output_type": "stream",
     "text": [
      ", "
     ]
    },
    {
     "name": "stdout",
     "output_type": "stream",
     "text": [
      "'Poland'"
     ]
    },
    {
     "name": "stdout",
     "output_type": "stream",
     "text": [
      "]"
     ]
    },
    {
     "name": "stdout",
     "output_type": "stream",
     "text": [
      "}"
     ]
    },
    {
     "name": "stdout",
     "output_type": "stream",
     "text": [
      "\n"
     ]
    }
   ],
   "source": [
    "phase_len_dict = analyser.phase_len()\n",
    "pprint(phase_len_dict, compact=True)"
   ]
  },
  {
   "cell_type": "code",
   "execution_count": 10,
   "metadata": {
    "collapsed": false,
    "tags": []
   },
   "outputs": [
    {
     "data": {
      "text/html": [
       "<div>\n",
       "<style scoped>\n",
       "    .dataframe tbody tr th:only-of-type {\n",
       "        vertical-align: middle;\n",
       "    }\n",
       "\n",
       "    .dataframe tbody tr th {\n",
       "        vertical-align: top;\n",
       "    }\n",
       "\n",
       "    .dataframe thead th {\n",
       "        text-align: right;\n",
       "    }\n",
       "</style>\n",
       "<table border=\"1\" class=\"dataframe\">\n",
       "  <thead>\n",
       "    <tr style=\"text-align: right;\">\n",
       "      <th></th>\n",
       "      <th></th>\n",
       "      <th>Type</th>\n",
       "      <th>Start</th>\n",
       "      <th>End</th>\n",
       "      <th>Population</th>\n",
       "    </tr>\n",
       "    <tr>\n",
       "      <th>Country</th>\n",
       "      <th>Phase</th>\n",
       "      <th></th>\n",
       "      <th></th>\n",
       "      <th></th>\n",
       "      <th></th>\n",
       "    </tr>\n",
       "  </thead>\n",
       "  <tbody>\n",
       "    <tr>\n",
       "      <th rowspan=\"5\" valign=\"top\">Iran</th>\n",
       "      <th>1st</th>\n",
       "      <td>Past</td>\n",
       "      <td>29Mar2020</td>\n",
       "      <td>16Apr2020</td>\n",
       "      <td>81800269</td>\n",
       "    </tr>\n",
       "    <tr>\n",
       "      <th>2nd</th>\n",
       "      <td>Past</td>\n",
       "      <td>17Apr2020</td>\n",
       "      <td>10May2020</td>\n",
       "      <td>81800269</td>\n",
       "    </tr>\n",
       "    <tr>\n",
       "      <th>3rd</th>\n",
       "      <td>Past</td>\n",
       "      <td>11May2020</td>\n",
       "      <td>28May2020</td>\n",
       "      <td>81800269</td>\n",
       "    </tr>\n",
       "    <tr>\n",
       "      <th>4th</th>\n",
       "      <td>Past</td>\n",
       "      <td>29May2020</td>\n",
       "      <td>10Jun2020</td>\n",
       "      <td>81800269</td>\n",
       "    </tr>\n",
       "    <tr>\n",
       "      <th>5th</th>\n",
       "      <td>Past</td>\n",
       "      <td>11Jun2020</td>\n",
       "      <td>22Jun2020</td>\n",
       "      <td>81800269</td>\n",
       "    </tr>\n",
       "    <tr>\n",
       "      <th>...</th>\n",
       "      <th>...</th>\n",
       "      <td>...</td>\n",
       "      <td>...</td>\n",
       "      <td>...</td>\n",
       "      <td>...</td>\n",
       "    </tr>\n",
       "    <tr>\n",
       "      <th rowspan=\"5\" valign=\"top\">Poland</th>\n",
       "      <th>6th</th>\n",
       "      <td>Past</td>\n",
       "      <td>01Jul2020</td>\n",
       "      <td>15Jul2020</td>\n",
       "      <td>37974750</td>\n",
       "    </tr>\n",
       "    <tr>\n",
       "      <th>7th</th>\n",
       "      <td>Past</td>\n",
       "      <td>16Jul2020</td>\n",
       "      <td>27Jul2020</td>\n",
       "      <td>37974750</td>\n",
       "    </tr>\n",
       "    <tr>\n",
       "      <th>8th</th>\n",
       "      <td>Past</td>\n",
       "      <td>28Jul2020</td>\n",
       "      <td>07Aug2020</td>\n",
       "      <td>37974750</td>\n",
       "    </tr>\n",
       "    <tr>\n",
       "      <th>9th</th>\n",
       "      <td>Past</td>\n",
       "      <td>08Aug2020</td>\n",
       "      <td>16Aug2020</td>\n",
       "      <td>37974750</td>\n",
       "    </tr>\n",
       "    <tr>\n",
       "      <th>10th</th>\n",
       "      <td>Past</td>\n",
       "      <td>17Aug2020</td>\n",
       "      <td>27Aug2020</td>\n",
       "      <td>37974750</td>\n",
       "    </tr>\n",
       "  </tbody>\n",
       "</table>\n",
       "<p>70 rows × 4 columns</p>\n",
       "</div>"
      ],
      "text/plain": [
       "               Type      Start        End  Population\n",
       "Country Phase                                        \n",
       "Iran    1st    Past  29Mar2020  16Apr2020    81800269\n",
       "        2nd    Past  17Apr2020  10May2020    81800269\n",
       "        3rd    Past  11May2020  28May2020    81800269\n",
       "        4th    Past  29May2020  10Jun2020    81800269\n",
       "        5th    Past  11Jun2020  22Jun2020    81800269\n",
       "...             ...        ...        ...         ...\n",
       "Poland  6th    Past  01Jul2020  15Jul2020    37974750\n",
       "        7th    Past  16Jul2020  27Jul2020    37974750\n",
       "        8th    Past  28Jul2020  07Aug2020    37974750\n",
       "        9th    Past  08Aug2020  16Aug2020    37974750\n",
       "        10th   Past  17Aug2020  27Aug2020    37974750\n",
       "\n",
       "[70 rows x 4 columns]"
      ]
     },
     "execution_count": 10,
     "metadata": {},
     "output_type": "execute_result"
    }
   ],
   "source": [
    "# Here, only show the countries which have the most phases\n",
    "countries_show = max(phase_len_dict.items(), key=lambda x: x[0])[1]\n",
    "# Show summary\n",
    "analyser.summary(countries=countries_show)"
   ]
  },
  {
   "cell_type": "markdown",
   "metadata": {},
   "source": [
    "## Parameter estimation\n",
    "we will estimate the parameter values with SIR-derived ODE models in each country."
   ]
  },
  {
   "cell_type": "code",
   "execution_count": 11,
   "metadata": {
    "collapsed": false,
    "tags": []
   },
   "outputs": [
    {
     "name": "stdout",
     "output_type": "stream",
     "text": [
      "\n",
      "<SIR-F model: parameter estimation>"
     ]
    },
    {
     "name": "stdout",
     "output_type": "stream",
     "text": [
      "\n"
     ]
    },
    {
     "name": "stdout",
     "output_type": "stream",
     "text": [
      "Running optimization with 4 CPUs..."
     ]
    },
    {
     "name": "stdout",
     "output_type": "stream",
     "text": [
      "\n"
     ]
    },
    {
     "name": "stdout",
     "output_type": "stream",
     "text": [
      "\tPOL,  6th phase (01Jul2020 - 15Jul2020): finished  265 trials in 0 min 10 sec"
     ]
    },
    {
     "name": "stdout",
     "output_type": "stream",
     "text": [
      "\n"
     ]
    },
    {
     "name": "stdout",
     "output_type": "stream",
     "text": [
      "\tMEX,  1st phase (21May2020 - 07Jun2020): finished  506 trials in 0 min 20 sec"
     ]
    },
    {
     "name": "stdout",
     "output_type": "stream",
     "text": [
      "\n"
     ]
    },
    {
     "name": "stdout",
     "output_type": "stream",
     "text": [
      "\tBHR,  3rd phase (11Jun2020 - 20Jun2020): finished  855 trials in 0 min 35 sec"
     ]
    },
    {
     "name": "stdout",
     "output_type": "stream",
     "text": [
      "\n"
     ]
    },
    {
     "name": "stdout",
     "output_type": "stream",
     "text": [
      "\tMDA,  5th phase (09Jul2020 - 20Jul2020): finished  422 trials in 0 min 15 sec"
     ]
    },
    {
     "name": "stdout",
     "output_type": "stream",
     "text": [
      "\n"
     ]
    },
    {
     "name": "stdout",
     "output_type": "stream",
     "text": [
      "\tARE,  9th phase (25Jul2020 - 09Aug2020): finished  491 trials in 0 min 20 sec"
     ]
    },
    {
     "name": "stdout",
     "output_type": "stream",
     "text": [
      "\n"
     ]
    },
    {
     "name": "stdout",
     "output_type": "stream",
     "text": [
      "\tGEO,  3rd phase (14May2020 - 29May2020): finished 1290 trials in 1 min  0 sec"
     ]
    },
    {
     "name": "stdout",
     "output_type": "stream",
     "text": [
      "\n"
     ]
    },
    {
     "name": "stdout",
     "output_type": "stream",
     "text": [
      "\tGEO,  7th phase (21Jul2020 - 05Aug2020): finished 1322 trials in 1 min  0 sec"
     ]
    },
    {
     "name": "stdout",
     "output_type": "stream",
     "text": [
      "\n"
     ]
    },
    {
     "name": "stdout",
     "output_type": "stream",
     "text": [
      "\tMLI,  5th phase (02Jun2020 - 09Jun2020): finished  834 trials in 0 min 35 sec"
     ]
    },
    {
     "name": "stdout",
     "output_type": "stream",
     "text": [
      "\n"
     ]
    },
    {
     "name": "stdout",
     "output_type": "stream",
     "text": [
      "\tFRA,  5th phase (06May2020 - 26May2020): finished  418 trials in 0 min 15 sec"
     ]
    },
    {
     "name": "stdout",
     "output_type": "stream",
     "text": [
      "\n"
     ]
    },
    {
     "name": "stdout",
     "output_type": "stream",
     "text": [
      "\tITA,  4th phase (21Apr2020 - 01May2020): finished  152 trials in 0 min  5 sec"
     ]
    },
    {
     "name": "stdout",
     "output_type": "stream",
     "text": [
      "\n"
     ]
    },
    {
     "name": "stdout",
     "output_type": "stream",
     "text": [
      "\tMMR,  2nd phase (15May2020 - 25May2020): finished  547 trials in 0 min 20 sec"
     ]
    },
    {
     "name": "stdout",
     "output_type": "stream",
     "text": [
      "\n"
     ]
    },
    {
     "name": "stdout",
     "output_type": "stream",
     "text": [
      "\tUSA,  5th phase (08Jul2020 - 15Jul2020): finished  414 trials in 0 min 15 sec"
     ]
    },
    {
     "name": "stdout",
     "output_type": "stream",
     "text": [
      "\n"
     ]
    },
    {
     "name": "stdout",
     "output_type": "stream",
     "text": [
      "\tBHR,  2nd phase (31May2020 - 10Jun2020): finished 1349 trials in 1 min  0 sec"
     ]
    },
    {
     "name": "stdout",
     "output_type": "stream",
     "text": [
      "\n"
     ]
    },
    {
     "name": "stdout",
     "output_type": "stream",
     "text": [
      "\tIRN, 10th phase (12Aug2020 - 27Aug2020): finished  413 trials in 0 min 15 sec"
     ]
    },
    {
     "name": "stdout",
     "output_type": "stream",
     "text": [
      "\n"
     ]
    },
    {
     "name": "stdout",
     "output_type": "stream",
     "text": [
      "\tMMR,  3rd phase (26May2020 - 05Jun2020): finished 1377 trials in 1 min  0 sec"
     ]
    },
    {
     "name": "stdout",
     "output_type": "stream",
     "text": [
      "\n"
     ]
    },
    {
     "name": "stdout",
     "output_type": "stream",
     "text": [
      "\tITA,  2nd phase (01Apr2020 - 11Apr2020): finished 1075 trials in 0 min 45 sec"
     ]
    },
    {
     "name": "stdout",
     "output_type": "stream",
     "text": [
      "\n"
     ]
    },
    {
     "name": "stdout",
     "output_type": "stream",
     "text": [
      "\tITA,  5th phase (02May2020 - 10May2020): finished  429 trials in 0 min 15 sec"
     ]
    },
    {
     "name": "stdout",
     "output_type": "stream",
     "text": [
      "\n"
     ]
    },
    {
     "name": "stdout",
     "output_type": "stream",
     "text": [
      "\tKOR,  3rd phase (07Apr2020 - 29Apr2020): finished 1333 trials in 1 min  0 sec"
     ]
    },
    {
     "name": "stdout",
     "output_type": "stream",
     "text": [
      "\n"
     ]
    },
    {
     "name": "stdout",
     "output_type": "stream",
     "text": [
      "\tITA,  7th phase (21May2020 - 08Jun2020): finished  284 trials in 0 min 10 sec"
     ]
    },
    {
     "name": "stdout",
     "output_type": "stream",
     "text": [
      "\n"
     ]
    },
    {
     "name": "stdout",
     "output_type": "stream",
     "text": [
      "\tGEO,  4th phase (30May2020 - 10Jun2020): finished 1339 trials in 1 min  0 sec"
     ]
    },
    {
     "name": "stdout",
     "output_type": "stream",
     "text": [
      "\n"
     ]
    },
    {
     "name": "stdout",
     "output_type": "stream",
     "text": [
      "\tKWT,  7th phase (24Jul2020 - 03Aug2020): finished  154 trials in 0 min  5 sec"
     ]
    },
    {
     "name": "stdout",
     "output_type": "stream",
     "text": [
      "\n"
     ]
    },
    {
     "name": "stdout",
     "output_type": "stream",
     "text": [
      "\tUSA,  4th phase (26Jun2020 - 07Jul2020): finished 1346 trials in 1 min  0 sec"
     ]
    },
    {
     "name": "stdout",
     "output_type": "stream",
     "text": [
      "\n"
     ]
    },
    {
     "name": "stdout",
     "output_type": "stream",
     "text": [
      "\tRUS,  6th phase (05Jul2020 - 15Jul2020): finished 1353 trials in 1 min  0 sec"
     ]
    },
    {
     "name": "stdout",
     "output_type": "stream",
     "text": [
      "\n"
     ]
    },
    {
     "name": "stdout",
     "output_type": "stream",
     "text": [
      "\tPER,  3rd phase (11Jun2020 - 22Jun2020): finished 1337 trials in 1 min  0 sec"
     ]
    },
    {
     "name": "stdout",
     "output_type": "stream",
     "text": [
      "\n"
     ]
    },
    {
     "name": "stdout",
     "output_type": "stream",
     "text": [
      "\tMMR,  5th phase (15Jun2020 - 27Jun2020): finished 1285 trials in 1 min  0 sec"
     ]
    },
    {
     "name": "stdout",
     "output_type": "stream",
     "text": [
      "\n"
     ]
    },
    {
     "name": "stdout",
     "output_type": "stream",
     "text": [
      "\tPER,  9th phase (19Aug2020 - 27Aug2020): finished 1273 trials in 1 min  0 sec"
     ]
    },
    {
     "name": "stdout",
     "output_type": "stream",
     "text": [
      "\n"
     ]
    },
    {
     "name": "stdout",
     "output_type": "stream",
     "text": [
      "\tSEN,  8th phase (22Jul2020 - 01Aug2020): finished  970 trials in 0 min 45 sec"
     ]
    },
    {
     "name": "stdout",
     "output_type": "stream",
     "text": [
      "\n"
     ]
    },
    {
     "name": "stdout",
     "output_type": "stream",
     "text": [
      "\tPRT,  9th phase (11Aug2020 - 27Aug2020): finished 1241 trials in 1 min  0 sec"
     ]
    },
    {
     "name": "stdout",
     "output_type": "stream",
     "text": [
      "\n"
     ]
    },
    {
     "name": "stdout",
     "output_type": "stream",
     "text": [
      "\tPOL,  3rd phase (22May2020 - 04Jun2020): finished  383 trials in 0 min 15 sec"
     ]
    },
    {
     "name": "stdout",
     "output_type": "stream",
     "text": [
      "\n"
     ]
    },
    {
     "name": "stdout",
     "output_type": "stream",
     "text": [
      "\tARE,  8th phase (11Jul2020 - 24Jul2020): finished  995 trials in 0 min 45 sec"
     ]
    },
    {
     "name": "stdout",
     "output_type": "stream",
     "text": [
      "\n"
     ]
    },
    {
     "name": "stdout",
     "output_type": "stream",
     "text": [
      "\tPER,  8th phase (06Aug2020 - 18Aug2020): finished 1274 trials in 1 min  0 sec"
     ]
    },
    {
     "name": "stdout",
     "output_type": "stream",
     "text": [
      "\n"
     ]
    },
    {
     "name": "stdout",
     "output_type": "stream",
     "text": [
      "\tUSA,  2nd phase (12May2020 - 04Jun2020): finished 1263 trials in 1 min  0 sec"
     ]
    },
    {
     "name": "stdout",
     "output_type": "stream",
     "text": [
      "\n"
     ]
    },
    {
     "name": "stdout",
     "output_type": "stream",
     "text": [
      "\tITA,  1st phase (23Mar2020 - 31Mar2020): finished 1268 trials in 1 min  0 sec"
     ]
    },
    {
     "name": "stdout",
     "output_type": "stream",
     "text": [
      "\n"
     ]
    },
    {
     "name": "stdout",
     "output_type": "stream",
     "text": [
      "\tGEO,  5th phase (11Jun2020 - 06Jul2020): finished 1269 trials in 1 min  0 sec"
     ]
    },
    {
     "name": "stdout",
     "output_type": "stream",
     "text": [
      "\n"
     ]
    },
    {
     "name": "stdout",
     "output_type": "stream",
     "text": [
      "\tFRA,  3rd phase (12Apr2020 - 24Apr2020): finished 1243 trials in 1 min  0 sec"
     ]
    },
    {
     "name": "stdout",
     "output_type": "stream",
     "text": [
      "\n"
     ]
    },
    {
     "name": "stdout",
     "output_type": "stream",
     "text": [
      "\tPRT,  6th phase (03Jul2020 - 11Jul2020): finished  527 trials in 0 min 20 sec"
     ]
    },
    {
     "name": "stdout",
     "output_type": "stream",
     "text": [
      "\n"
     ]
    },
    {
     "name": "stdout",
     "output_type": "stream",
     "text": [
      "\tPOL,  9th phase (08Aug2020 - 16Aug2020): finished  151 trials in 0 min  5 sec"
     ]
    },
    {
     "name": "stdout",
     "output_type": "stream",
     "text": [
      "\n"
     ]
    },
    {
     "name": "stdout",
     "output_type": "stream",
     "text": [
      "\tTUR,  2nd phase (30Apr2020 - 15May2020): finished  540 trials in 0 min 20 sec"
     ]
    },
    {
     "name": "stdout",
     "output_type": "stream",
     "text": [
      "\n"
     ]
    },
    {
     "name": "stdout",
     "output_type": "stream",
     "text": [
      "\tBHR,  1st phase (06May2020 - 30May2020): finished 1298 trials in 1 min  0 sec"
     ]
    },
    {
     "name": "stdout",
     "output_type": "stream",
     "text": [
      "\n"
     ]
    },
    {
     "name": "stdout",
     "output_type": "stream",
     "text": [
      "\tPRT,  7th phase (12Jul2020 - 23Jul2020): finished  286 trials in 0 min 10 sec"
     ]
    },
    {
     "name": "stdout",
     "output_type": "stream",
     "text": [
      "\n"
     ]
    },
    {
     "name": "stdout",
     "output_type": "stream",
     "text": [
      "\tCZE,  7th phase (27Jul2020 - 04Aug2020): finished 1326 trials in 1 min  0 sec"
     ]
    },
    {
     "name": "stdout",
     "output_type": "stream",
     "text": [
      "\n"
     ]
    },
    {
     "name": "stdout",
     "output_type": "stream",
     "text": [
      "\tTUR,  3rd phase (16May2020 - 28May2020): finished  414 trials in 0 min 15 sec"
     ]
    },
    {
     "name": "stdout",
     "output_type": "stream",
     "text": [
      "\n"
     ]
    },
    {
     "name": "stdout",
     "output_type": "stream",
     "text": [
      "\tKWT,  8th phase (04Aug2020 - 14Aug2020): finished  529 trials in 0 min 20 sec"
     ]
    },
    {
     "name": "stdout",
     "output_type": "stream",
     "text": [
      "\n"
     ]
    },
    {
     "name": "stdout",
     "output_type": "stream",
     "text": [
      "\tKWT,  2nd phase (25May2020 - 09Jun2020): finished 1307 trials in 1 min  0 sec"
     ]
    },
    {
     "name": "stdout",
     "output_type": "stream",
     "text": [
      "\n"
     ]
    },
    {
     "name": "stdout",
     "output_type": "stream",
     "text": [
      "\tMMR,  6th phase (28Jun2020 - 08Jul2020): finished 1325 trials in 1 min  0 sec"
     ]
    },
    {
     "name": "stdout",
     "output_type": "stream",
     "text": [
      "\n"
     ]
    },
    {
     "name": "stdout",
     "output_type": "stream",
     "text": [
      "\tUSA,  7th phase (24Jul2020 - 07Aug2020): finished  280 trials in 0 min 10 sec"
     ]
    },
    {
     "name": "stdout",
     "output_type": "stream",
     "text": [
      "\n"
     ]
    },
    {
     "name": "stdout",
     "output_type": "stream",
     "text": [
      "\tPOL,  1st phase (24Apr2020 - 08May2020): finished 1289 trials in 1 min  0 sec"
     ]
    },
    {
     "name": "stdout",
     "output_type": "stream",
     "text": [
      "\n"
     ]
    },
    {
     "name": "stdout",
     "output_type": "stream",
     "text": [
      "\tMDA,  9th phase (18Aug2020 - 27Aug2020): finished 1314 trials in 1 min  0 sec"
     ]
    },
    {
     "name": "stdout",
     "output_type": "stream",
     "text": [
      "\n"
     ]
    },
    {
     "name": "stdout",
     "output_type": "stream",
     "text": [
      "\tPRT,  3rd phase (01Jun2020 - 12Jun2020): finished  504 trials in 0 min 20 sec"
     ]
    },
    {
     "name": "stdout",
     "output_type": "stream",
     "text": [
      "\n"
     ]
    },
    {
     "name": "stdout",
     "output_type": "stream",
     "text": [
      "\tMLI,  4th phase (25May2020 - 01Jun2020): finished  512 trials in 0 min 20 sec"
     ]
    },
    {
     "name": "stdout",
     "output_type": "stream",
     "text": [
      "\n"
     ]
    },
    {
     "name": "stdout",
     "output_type": "stream",
     "text": [
      "\tMDA,  7th phase (30Jul2020 - 07Aug2020): finished 1293 trials in 1 min  0 sec"
     ]
    },
    {
     "name": "stdout",
     "output_type": "stream",
     "text": [
      "\n"
     ]
    },
    {
     "name": "stdout",
     "output_type": "stream",
     "text": [
      "\tARE,  3rd phase (26May2020 - 03Jun2020): finished  993 trials in 0 min 45 sec"
     ]
    },
    {
     "name": "stdout",
     "output_type": "stream",
     "text": [
      "\n"
     ]
    },
    {
     "name": "stdout",
     "output_type": "stream",
     "text": [
      "\tKOR,  6th phase (17Jun2020 - 02Jul2020): finished 1252 trials in 1 min  0 sec"
     ]
    },
    {
     "name": "stdout",
     "output_type": "stream",
     "text": [
      "\n"
     ]
    },
    {
     "name": "stdout",
     "output_type": "stream",
     "text": [
      "\tSEN,  9th phase (02Aug2020 - 12Aug2020): finished 1279 trials in 1 min  0 sec"
     ]
    },
    {
     "name": "stdout",
     "output_type": "stream",
     "text": [
      "\n"
     ]
    },
    {
     "name": "stdout",
     "output_type": "stream",
     "text": [
      "\tKOR,  1st phase (15Mar2020 - 25Mar2020): finished 1278 trials in 1 min  0 sec"
     ]
    },
    {
     "name": "stdout",
     "output_type": "stream",
     "text": [
      "\n"
     ]
    },
    {
     "name": "stdout",
     "output_type": "stream",
     "text": [
      "\tBHR,  6th phase (07Jul2020 - 14Jul2020): finished 1285 trials in 1 min  0 sec"
     ]
    },
    {
     "name": "stdout",
     "output_type": "stream",
     "text": [
      "\n"
     ]
    },
    {
     "name": "stdout",
     "output_type": "stream",
     "text": [
      "\tTUR,  6th phase (27Jun2020 - 11Jul2020): finished  280 trials in 0 min 10 sec"
     ]
    },
    {
     "name": "stdout",
     "output_type": "stream",
     "text": [
      "\n"
     ]
    },
    {
     "name": "stdout",
     "output_type": "stream",
     "text": [
      "\tBHR,  4th phase (21Jun2020 - 28Jun2020): finished 1310 trials in 1 min  0 sec"
     ]
    },
    {
     "name": "stdout",
     "output_type": "stream",
     "text": [
      "\n"
     ]
    },
    {
     "name": "stdout",
     "output_type": "stream",
     "text": [
      "\tIRN,  6th phase (23Jun2020 - 04Jul2020): finished  153 trials in 0 min  5 sec"
     ]
    },
    {
     "name": "stdout",
     "output_type": "stream",
     "text": [
      "\n"
     ]
    },
    {
     "name": "stdout",
     "output_type": "stream",
     "text": [
      "\tKOR,  4th phase (30Apr2020 - 23May2020): finished  292 trials in 0 min 10 sec"
     ]
    },
    {
     "name": "stdout",
     "output_type": "stream",
     "text": [
      "\n"
     ]
    },
    {
     "name": "stdout",
     "output_type": "stream",
     "text": [
      "\tKOR,  2nd phase (26Mar2020 - 06Apr2020): finished  526 trials in 0 min 20 sec"
     ]
    },
    {
     "name": "stdout",
     "output_type": "stream",
     "text": [
      "\n"
     ]
    },
    {
     "name": "stdout",
     "output_type": "stream",
     "text": [
      "\tMDA,  3rd phase (16Jun2020 - 25Jun2020): finished  395 trials in 0 min 15 sec"
     ]
    },
    {
     "name": "stdout",
     "output_type": "stream",
     "text": [
      "\n"
     ]
    },
    {
     "name": "stdout",
     "output_type": "stream",
     "text": [
      "\tMLI,  6th phase (10Jun2020 - 24Jun2020): finished 1277 trials in 1 min  0 sec"
     ]
    },
    {
     "name": "stdout",
     "output_type": "stream",
     "text": [
      "\n"
     ]
    },
    {
     "name": "stdout",
     "output_type": "stream",
     "text": [
      "\tITA,  6th phase (11May2020 - 20May2020): finished  146 trials in 0 min  5 sec"
     ]
    },
    {
     "name": "stdout",
     "output_type": "stream",
     "text": [
      "\n"
     ]
    },
    {
     "name": "stdout",
     "output_type": "stream",
     "text": [
      "\tPRT,  2nd phase (18May2020 - 31May2020): finished 1277 trials in 1 min  0 sec"
     ]
    },
    {
     "name": "stdout",
     "output_type": "stream",
     "text": [
      "\n"
     ]
    },
    {
     "name": "stdout",
     "output_type": "stream",
     "text": [
      "\tTUR,  7th phase (12Jul2020 - 29Jul2020): finished  118 trials in 0 min  5 sec"
     ]
    },
    {
     "name": "stdout",
     "output_type": "stream",
     "text": [
      "\n"
     ]
    },
    {
     "name": "stdout",
     "output_type": "stream",
     "text": [
      "\tKWT,  6th phase (14Jul2020 - 23Jul2020): finished  334 trials in 0 min 15 sec"
     ]
    },
    {
     "name": "stdout",
     "output_type": "stream",
     "text": [
      "\n"
     ]
    },
    {
     "name": "stdout",
     "output_type": "stream",
     "text": [
      "\tMEX,  5th phase (09Jul2020 - 16Jul2020): finished 1181 trials in 1 min  0 sec"
     ]
    },
    {
     "name": "stdout",
     "output_type": "stream",
     "text": [
      "\n"
     ]
    },
    {
     "name": "stdout",
     "output_type": "stream",
     "text": [
      "\tSEN,  1st phase (01May2020 - 14May2020): finished 1152 trials in 1 min  0 sec"
     ]
    },
    {
     "name": "stdout",
     "output_type": "stream",
     "text": [
      "\n"
     ]
    },
    {
     "name": "stdout",
     "output_type": "stream",
     "text": [
      "\tPER,  4th phase (23Jun2020 - 06Jul2020): finished 1078 trials in 1 min  0 sec"
     ]
    },
    {
     "name": "stdout",
     "output_type": "stream",
     "text": [
      "\n"
     ]
    },
    {
     "name": "stdout",
     "output_type": "stream",
     "text": [
      "\tIRN,  7th phase (05Jul2020 - 16Jul2020): finished  137 trials in 0 min  5 sec"
     ]
    },
    {
     "name": "stdout",
     "output_type": "stream",
     "text": [
      "\n"
     ]
    },
    {
     "name": "stdout",
     "output_type": "stream",
     "text": [
      "\tMEX,  3rd phase (20Jun2020 - 30Jun2020): finished 1152 trials in 1 min  0 sec"
     ]
    },
    {
     "name": "stdout",
     "output_type": "stream",
     "text": [
      "\n"
     ]
    },
    {
     "name": "stdout",
     "output_type": "stream",
     "text": [
      "\tGIN,  9th phase (06Aug2020 - 16Aug2020): finished 1180 trials in 1 min  0 sec"
     ]
    },
    {
     "name": "stdout",
     "output_type": "stream",
     "text": [
      "\n"
     ]
    },
    {
     "name": "stdout",
     "output_type": "stream",
     "text": [
      "\tMLI,  9th phase (01Aug2020 - 27Aug2020): finished 1213 trials in 1 min  0 sec"
     ]
    },
    {
     "name": "stdout",
     "output_type": "stream",
     "text": [
      "\n"
     ]
    },
    {
     "name": "stdout",
     "output_type": "stream",
     "text": [
      "\tFRA,  9th phase (02Aug2020 - 27Aug2020): finished  673 trials in 0 min 25 sec"
     ]
    },
    {
     "name": "stdout",
     "output_type": "stream",
     "text": [
      "\n"
     ]
    },
    {
     "name": "stdout",
     "output_type": "stream",
     "text": [
      "\tCZE,  4th phase (10Jun2020 - 27Jun2020): finished 1300 trials in 1 min  0 sec"
     ]
    },
    {
     "name": "stdout",
     "output_type": "stream",
     "text": [
      "\n"
     ]
    },
    {
     "name": "stdout",
     "output_type": "stream",
     "text": [
      "\tSEN,  4th phase (09Jun2020 - 19Jun2020): finished 1284 trials in 1 min  0 sec"
     ]
    },
    {
     "name": "stdout",
     "output_type": "stream",
     "text": [
      "\n"
     ]
    },
    {
     "name": "stdout",
     "output_type": "stream",
     "text": [
      "\tKWT,  1st phase (12May2020 - 24May2020): finished 1257 trials in 1 min  0 sec"
     ]
    },
    {
     "name": "stdout",
     "output_type": "stream",
     "text": [
      "\n"
     ]
    },
    {
     "name": "stdout",
     "output_type": "stream",
     "text": [
      "\tMMR,  8th phase (25Jul2020 - 15Aug2020): finished  637 trials in 0 min 25 sec"
     ]
    },
    {
     "name": "stdout",
     "output_type": "stream",
     "text": [
      "\n"
     ]
    },
    {
     "name": "stdout",
     "output_type": "stream",
     "text": [
      "\tMDA,  2nd phase (03Jun2020 - 15Jun2020): finished 1265 trials in 1 min  0 sec"
     ]
    },
    {
     "name": "stdout",
     "output_type": "stream",
     "text": [
      "\n"
     ]
    },
    {
     "name": "stdout",
     "output_type": "stream",
     "text": [
      "\tFRA,  8th phase (13Jul2020 - 01Aug2020): finished  525 trials in 0 min 20 sec"
     ]
    },
    {
     "name": "stdout",
     "output_type": "stream",
     "text": [
      "\n"
     ]
    },
    {
     "name": "stdout",
     "output_type": "stream",
     "text": [
      "\tARE,  1st phase (27Apr2020 - 12May2020): finished 1273 trials in 1 min  0 sec"
     ]
    },
    {
     "name": "stdout",
     "output_type": "stream",
     "text": [
      "\n"
     ]
    },
    {
     "name": "stdout",
     "output_type": "stream",
     "text": [
      "\tPOL,  2nd phase (09May2020 - 21May2020): finished  375 trials in 0 min 15 sec"
     ]
    },
    {
     "name": "stdout",
     "output_type": "stream",
     "text": [
      "\n"
     ]
    },
    {
     "name": "stdout",
     "output_type": "stream",
     "text": [
      "\tKWT,  4th phase (23Jun2020 - 03Jul2020): finished 1291 trials in 1 min  0 sec"
     ]
    },
    {
     "name": "stdout",
     "output_type": "stream",
     "text": [
      "\n"
     ]
    },
    {
     "name": "stdout",
     "output_type": "stream",
     "text": [
      "\tMLI,  1st phase (25Apr2020 - 02May2020): finished 1257 trials in 1 min  0 sec"
     ]
    },
    {
     "name": "stdout",
     "output_type": "stream",
     "text": [
      "\n"
     ]
    },
    {
     "name": "stdout",
     "output_type": "stream",
     "text": [
      "\tSEN,  3rd phase (28May2020 - 08Jun2020): finished 1250 trials in 1 min  0 sec"
     ]
    },
    {
     "name": "stdout",
     "output_type": "stream",
     "text": [
      "\n"
     ]
    },
    {
     "name": "stdout",
     "output_type": "stream",
     "text": [
      "\tMDA,  8th phase (08Aug2020 - 17Aug2020): finished  346 trials in 0 min 15 sec"
     ]
    },
    {
     "name": "stdout",
     "output_type": "stream",
     "text": [
      "\n"
     ]
    },
    {
     "name": "stdout",
     "output_type": "stream",
     "text": [
      "\tGIN,  1st phase (02May2020 - 12May2020): finished 1272 trials in 1 min  0 sec"
     ]
    },
    {
     "name": "stdout",
     "output_type": "stream",
     "text": [
      "\n"
     ]
    },
    {
     "name": "stdout",
     "output_type": "stream",
     "text": [
      "\tNGA,  3rd phase (20Jun2020 - 27Jun2020): finished  555 trials in 0 min 25 sec"
     ]
    },
    {
     "name": "stdout",
     "output_type": "stream",
     "text": [
      "\n"
     ]
    },
    {
     "name": "stdout",
     "output_type": "stream",
     "text": [
      "\tTUR,  1st phase (18Apr2020 - 29Apr2020): finished 1197 trials in 1 min  0 sec"
     ]
    },
    {
     "name": "stdout",
     "output_type": "stream",
     "text": [
      "\n"
     ]
    },
    {
     "name": "stdout",
     "output_type": "stream",
     "text": [
      "\tSEN,  7th phase (11Jul2020 - 21Jul2020): finished 1224 trials in 1 min  0 sec"
     ]
    },
    {
     "name": "stdout",
     "output_type": "stream",
     "text": [
      "\n"
     ]
    },
    {
     "name": "stdout",
     "output_type": "stream",
     "text": [
      "\tBHR,  5th phase (29Jun2020 - 06Jul2020): finished 1217 trials in 1 min  0 sec"
     ]
    },
    {
     "name": "stdout",
     "output_type": "stream",
     "text": [
      "\n"
     ]
    },
    {
     "name": "stdout",
     "output_type": "stream",
     "text": [
      "\tPRT,  1st phase (04May2020 - 17May2020): finished 1295 trials in 1 min  0 sec"
     ]
    },
    {
     "name": "stdout",
     "output_type": "stream",
     "text": [
      "\n"
     ]
    },
    {
     "name": "stdout",
     "output_type": "stream",
     "text": [
      "\tSEN,  5th phase (20Jun2020 - 01Jul2020): finished  826 trials in 0 min 35 sec"
     ]
    },
    {
     "name": "stdout",
     "output_type": "stream",
     "text": [
      "\n"
     ]
    },
    {
     "name": "stdout",
     "output_type": "stream",
     "text": [
      "\tPER,  7th phase (29Jul2020 - 05Aug2020): finished 1284 trials in 1 min  0 sec"
     ]
    },
    {
     "name": "stdout",
     "output_type": "stream",
     "text": [
      "\n"
     ]
    },
    {
     "name": "stdout",
     "output_type": "stream",
     "text": [
      "\tKWT,  5th phase (04Jul2020 - 13Jul2020): finished  278 trials in 0 min 10 sec"
     ]
    },
    {
     "name": "stdout",
     "output_type": "stream",
     "text": [
      "\n"
     ]
    },
    {
     "name": "stdout",
     "output_type": "stream",
     "text": [
      "\tRUS,  1st phase (08May2020 - 22May2020): finished 1273 trials in 1 min  0 sec"
     ]
    },
    {
     "name": "stdout",
     "output_type": "stream",
     "text": [
      "\n"
     ]
    },
    {
     "name": "stdout",
     "output_type": "stream",
     "text": [
      "\tTUR,  9th phase (14Aug2020 - 27Aug2020): finished  276 trials in 0 min 10 sec"
     ]
    },
    {
     "name": "stdout",
     "output_type": "stream",
     "text": [
      "\n"
     ]
    },
    {
     "name": "stdout",
     "output_type": "stream",
     "text": [
      "\tCZE,  5th phase (28Jun2020 - 16Jul2020): finished 1248 trials in 1 min  0 sec"
     ]
    },
    {
     "name": "stdout",
     "output_type": "stream",
     "text": [
      "\n"
     ]
    },
    {
     "name": "stdout",
     "output_type": "stream",
     "text": [
      "\tFRA,  2nd phase (03Apr2020 - 11Apr2020): finished 1285 trials in 1 min  0 sec"
     ]
    },
    {
     "name": "stdout",
     "output_type": "stream",
     "text": [
      "\n"
     ]
    },
    {
     "name": "stdout",
     "output_type": "stream",
     "text": [
      "\tSEN, 10th phase (13Aug2020 - 27Aug2020): finished 1274 trials in 1 min  0 sec"
     ]
    },
    {
     "name": "stdout",
     "output_type": "stream",
     "text": [
      "\n"
     ]
    },
    {
     "name": "stdout",
     "output_type": "stream",
     "text": [
      "\tMDA,  6th phase (21Jul2020 - 29Jul2020): finished  256 trials in 0 min 10 sec"
     ]
    },
    {
     "name": "stdout",
     "output_type": "stream",
     "text": [
      "\n"
     ]
    },
    {
     "name": "stdout",
     "output_type": "stream",
     "text": [
      "\tGIN,  6th phase (02Jul2020 - 14Jul2020): finished 1260 trials in 1 min  0 sec"
     ]
    },
    {
     "name": "stdout",
     "output_type": "stream",
     "text": [
      "\n"
     ]
    },
    {
     "name": "stdout",
     "output_type": "stream",
     "text": [
      "\tBGD,  1st phase (27May2020 - 11Jun2020): finished 1246 trials in 1 min  0 sec"
     ]
    },
    {
     "name": "stdout",
     "output_type": "stream",
     "text": [
      "\n"
     ]
    },
    {
     "name": "stdout",
     "output_type": "stream",
     "text": [
      "\tPER,  5th phase (07Jul2020 - 18Jul2020): finished 1264 trials in 1 min  0 sec"
     ]
    },
    {
     "name": "stdout",
     "output_type": "stream",
     "text": [
      "\n"
     ]
    },
    {
     "name": "stdout",
     "output_type": "stream",
     "text": [
      "\tGEO,  2nd phase (24Apr2020 - 13May2020): finished 1230 trials in 1 min  0 sec"
     ]
    },
    {
     "name": "stdout",
     "output_type": "stream",
     "text": [
      "\n"
     ]
    },
    {
     "name": "stdout",
     "output_type": "stream",
     "text": [
      "\tIRN,  2nd phase (17Apr2020 - 10May2020): finished  126 trials in 0 min  5 sec"
     ]
    },
    {
     "name": "stdout",
     "output_type": "stream",
     "text": [
      "\n"
     ]
    },
    {
     "name": "stdout",
     "output_type": "stream",
     "text": [
      "\tCZE,  3rd phase (13May2020 - 09Jun2020): finished 1209 trials in 1 min  0 sec"
     ]
    },
    {
     "name": "stdout",
     "output_type": "stream",
     "text": [
      "\n"
     ]
    },
    {
     "name": "stdout",
     "output_type": "stream",
     "text": [
      "\tUSA,  3rd phase (05Jun2020 - 25Jun2020): finished 1206 trials in 1 min  0 sec"
     ]
    },
    {
     "name": "stdout",
     "output_type": "stream",
     "text": [
      "\n"
     ]
    },
    {
     "name": "stdout",
     "output_type": "stream",
     "text": [
      "\tMLI,  2nd phase (03May2020 - 14May2020): finished 1223 trials in 1 min  0 sec"
     ]
    },
    {
     "name": "stdout",
     "output_type": "stream",
     "text": [
      "\n"
     ]
    },
    {
     "name": "stdout",
     "output_type": "stream",
     "text": [
      "\tNGA,  1st phase (24May2020 - 08Jun2020): finished  777 trials in 0 min 35 sec"
     ]
    },
    {
     "name": "stdout",
     "output_type": "stream",
     "text": [
      "\n"
     ]
    },
    {
     "name": "stdout",
     "output_type": "stream",
     "text": [
      "\tARE,  6th phase (23Jun2020 - 02Jul2020): finished  486 trials in 0 min 20 sec"
     ]
    },
    {
     "name": "stdout",
     "output_type": "stream",
     "text": [
      "\n"
     ]
    },
    {
     "name": "stdout",
     "output_type": "stream",
     "text": [
      "\tMMR,  7th phase (09Jul2020 - 24Jul2020): finished 1204 trials in 1 min  0 sec"
     ]
    },
    {
     "name": "stdout",
     "output_type": "stream",
     "text": [
      "\n"
     ]
    },
    {
     "name": "stdout",
     "output_type": "stream",
     "text": [
      "\tNGA,  5th phase (13Jul2020 - 20Jul2020): finished  365 trials in 0 min 15 sec"
     ]
    },
    {
     "name": "stdout",
     "output_type": "stream",
     "text": [
      "\n"
     ]
    },
    {
     "name": "stdout",
     "output_type": "stream",
     "text": [
      "\tGEO,  6th phase (07Jul2020 - 20Jul2020): finished 1213 trials in 1 min  0 sec"
     ]
    },
    {
     "name": "stdout",
     "output_type": "stream",
     "text": [
      "\n"
     ]
    },
    {
     "name": "stdout",
     "output_type": "stream",
     "text": [
      "\tGIN, 10th phase (17Aug2020 - 27Aug2020): finished 1207 trials in 1 min  0 sec"
     ]
    },
    {
     "name": "stdout",
     "output_type": "stream",
     "text": [
      "\n"
     ]
    },
    {
     "name": "stdout",
     "output_type": "stream",
     "text": [
      "\tPRT,  4th phase (13Jun2020 - 22Jun2020): finished  369 trials in 0 min 15 sec"
     ]
    },
    {
     "name": "stdout",
     "output_type": "stream",
     "text": [
      "\n"
     ]
    },
    {
     "name": "stdout",
     "output_type": "stream",
     "text": [
      "\tARE,  2nd phase (13May2020 - 25May2020): finished 1208 trials in 1 min  0 sec"
     ]
    },
    {
     "name": "stdout",
     "output_type": "stream",
     "text": [
      "\n"
     ]
    },
    {
     "name": "stdout",
     "output_type": "stream",
     "text": [
      "\tMLI,  7th phase (25Jun2020 - 03Jul2020): finished  371 trials in 0 min 15 sec"
     ]
    },
    {
     "name": "stdout",
     "output_type": "stream",
     "text": [
      "\n"
     ]
    },
    {
     "name": "stdout",
     "output_type": "stream",
     "text": [
      "\tFRA,  7th phase (20Jun2020 - 12Jul2020): finished  575 trials in 0 min 25 sec"
     ]
    },
    {
     "name": "stdout",
     "output_type": "stream",
     "text": [
      "\n"
     ]
    },
    {
     "name": "stdout",
     "output_type": "stream",
     "text": [
      "\tNGA,  4th phase (28Jun2020 - 12Jul2020): finished  670 trials in 0 min 30 sec"
     ]
    },
    {
     "name": "stdout",
     "output_type": "stream",
     "text": [
      "\n"
     ]
    },
    {
     "name": "stdout",
     "output_type": "stream",
     "text": [
      "\tPOL,  4th phase (05Jun2020 - 16Jun2020): finished 1194 trials in 1 min  0 sec"
     ]
    },
    {
     "name": "stdout",
     "output_type": "stream",
     "text": [
      "\n"
     ]
    },
    {
     "name": "stdout",
     "output_type": "stream",
     "text": [
      "\tARE,  7th phase (03Jul2020 - 10Jul2020): finished 1192 trials in 1 min  0 sec"
     ]
    },
    {
     "name": "stdout",
     "output_type": "stream",
     "text": [
      "\n"
     ]
    },
    {
     "name": "stdout",
     "output_type": "stream",
     "text": [
      "\tTUR,  8th phase (30Jul2020 - 13Aug2020): finished  584 trials in 0 min 25 sec"
     ]
    },
    {
     "name": "stdout",
     "output_type": "stream",
     "text": [
      "\n"
     ]
    },
    {
     "name": "stdout",
     "output_type": "stream",
     "text": [
      "\tITA,  9th phase (21Jul2020 - 27Aug2020): finished 1184 trials in 1 min  0 sec"
     ]
    },
    {
     "name": "stdout",
     "output_type": "stream",
     "text": [
      "\n"
     ]
    },
    {
     "name": "stdout",
     "output_type": "stream",
     "text": [
      "\tGIN,  4th phase (31May2020 - 15Jun2020): finished 1213 trials in 1 min  0 sec"
     ]
    },
    {
     "name": "stdout",
     "output_type": "stream",
     "text": [
      "\n"
     ]
    },
    {
     "name": "stdout",
     "output_type": "stream",
     "text": [
      "\tPER,  1st phase (11May2020 - 28May2020): finished 1218 trials in 1 min  0 sec"
     ]
    },
    {
     "name": "stdout",
     "output_type": "stream",
     "text": [
      "\n"
     ]
    },
    {
     "name": "stdout",
     "output_type": "stream",
     "text": [
      "\tMEX,  2nd phase (08Jun2020 - 19Jun2020): finished  871 trials in 0 min 40 sec"
     ]
    },
    {
     "name": "stdout",
     "output_type": "stream",
     "text": [
      "\n"
     ]
    },
    {
     "name": "stdout",
     "output_type": "stream",
     "text": [
      "\tSEN,  2nd phase (15May2020 - 27May2020): finished 1201 trials in 1 min  0 sec"
     ]
    },
    {
     "name": "stdout",
     "output_type": "stream",
     "text": [
      "\n"
     ]
    },
    {
     "name": "stdout",
     "output_type": "stream",
     "text": [
      "\tITA,  8th phase (09Jun2020 - 20Jul2020): finished  567 trials in 0 min 25 sec"
     ]
    },
    {
     "name": "stdout",
     "output_type": "stream",
     "text": [
      "\n"
     ]
    },
    {
     "name": "stdout",
     "output_type": "stream",
     "text": [
      "\tKOR,  9th phase (04Aug2020 - 16Aug2020): finished 1209 trials in 1 min  0 sec"
     ]
    },
    {
     "name": "stdout",
     "output_type": "stream",
     "text": [
      "\n"
     ]
    },
    {
     "name": "stdout",
     "output_type": "stream",
     "text": [
      "\tFRA,  1st phase (25Mar2020 - 02Apr2020): finished 1212 trials in 1 min  0 sec"
     ]
    },
    {
     "name": "stdout",
     "output_type": "stream",
     "text": [
      "\n"
     ]
    },
    {
     "name": "stdout",
     "output_type": "stream",
     "text": [
      "\tUSA,  8th phase (08Aug2020 - 15Aug2020): finished  485 trials in 0 min 20 sec"
     ]
    },
    {
     "name": "stdout",
     "output_type": "stream",
     "text": [
      "\n"
     ]
    },
    {
     "name": "stdout",
     "output_type": "stream",
     "text": [
      "\tMDA,  1st phase (09May2020 - 02Jun2020): finished 1216 trials in 1 min  0 sec"
     ]
    },
    {
     "name": "stdout",
     "output_type": "stream",
     "text": [
      "\n"
     ]
    },
    {
     "name": "stdout",
     "output_type": "stream",
     "text": [
      "\tSEN,  6th phase (02Jul2020 - 10Jul2020): finished 1234 trials in 1 min  0 sec"
     ]
    },
    {
     "name": "stdout",
     "output_type": "stream",
     "text": [
      "\n"
     ]
    },
    {
     "name": "stdout",
     "output_type": "stream",
     "text": [
      "\tBGD,  2nd phase (12Jun2020 - 20Jun2020): finished 1257 trials in 1 min  0 sec"
     ]
    },
    {
     "name": "stdout",
     "output_type": "stream",
     "text": [
      "\n"
     ]
    },
    {
     "name": "stdout",
     "output_type": "stream",
     "text": [
      "\tTUR,  5th phase (14Jun2020 - 26Jun2020): finished  507 trials in 0 min 20 sec"
     ]
    },
    {
     "name": "stdout",
     "output_type": "stream",
     "text": [
      "\n"
     ]
    },
    {
     "name": "stdout",
     "output_type": "stream",
     "text": [
      "\tPOL,  5th phase (17Jun2020 - 30Jun2020): finished  250 trials in 0 min 10 sec"
     ]
    },
    {
     "name": "stdout",
     "output_type": "stream",
     "text": [
      "\n"
     ]
    },
    {
     "name": "stdout",
     "output_type": "stream",
     "text": [
      "\tITA,  3rd phase (12Apr2020 - 20Apr2020): finished  147 trials in 0 min  5 sec"
     ]
    },
    {
     "name": "stdout",
     "output_type": "stream",
     "text": [
      "\n"
     ]
    },
    {
     "name": "stdout",
     "output_type": "stream",
     "text": [
      "\tRUS,  7th phase (16Jul2020 - 27Jul2020): finished 1255 trials in 1 min  0 sec"
     ]
    },
    {
     "name": "stdout",
     "output_type": "stream",
     "text": [
      "\n"
     ]
    },
    {
     "name": "stdout",
     "output_type": "stream",
     "text": [
      "\tKOR,  8th phase (21Jul2020 - 03Aug2020): finished 1241 trials in 1 min  0 sec"
     ]
    },
    {
     "name": "stdout",
     "output_type": "stream",
     "text": [
      "\n"
     ]
    },
    {
     "name": "stdout",
     "output_type": "stream",
     "text": [
      "\tGIN,  7th phase (15Jul2020 - 24Jul2020): finished 1290 trials in 1 min  0 sec"
     ]
    },
    {
     "name": "stdout",
     "output_type": "stream",
     "text": [
      "\n"
     ]
    },
    {
     "name": "stdout",
     "output_type": "stream",
     "text": [
      "\tUSA,  1st phase (20Apr2020 - 11May2020): finished 1298 trials in 1 min  0 sec"
     ]
    },
    {
     "name": "stdout",
     "output_type": "stream",
     "text": [
      "\n"
     ]
    },
    {
     "name": "stdout",
     "output_type": "stream",
     "text": [
      "\tFRA,  6th phase (27May2020 - 19Jun2020): finished 1289 trials in 1 min  0 sec"
     ]
    },
    {
     "name": "stdout",
     "output_type": "stream",
     "text": [
      "\n"
     ]
    },
    {
     "name": "stdout",
     "output_type": "stream",
     "text": [
      "\tCZE,  6th phase (17Jul2020 - 26Jul2020): finished 1307 trials in 1 min  0 sec"
     ]
    },
    {
     "name": "stdout",
     "output_type": "stream",
     "text": [
      "\n"
     ]
    },
    {
     "name": "stdout",
     "output_type": "stream",
     "text": [
      "\tMEX,  4th phase (01Jul2020 - 08Jul2020): finished  275 trials in 0 min 10 sec"
     ]
    },
    {
     "name": "stdout",
     "output_type": "stream",
     "text": [
      "\n"
     ]
    },
    {
     "name": "stdout",
     "output_type": "stream",
     "text": [
      "\tGIN,  5th phase (16Jun2020 - 01Jul2020): finished 1258 trials in 1 min  0 sec"
     ]
    },
    {
     "name": "stdout",
     "output_type": "stream",
     "text": [
      "\n"
     ]
    },
    {
     "name": "stdout",
     "output_type": "stream",
     "text": [
      "\tMLI,  8th phase (04Jul2020 - 31Jul2020): finished 1260 trials in 1 min  0 sec"
     ]
    },
    {
     "name": "stdout",
     "output_type": "stream",
     "text": [
      "\n"
     ]
    },
    {
     "name": "stdout",
     "output_type": "stream",
     "text": [
      "\tBHR,  8th phase (25Jul2020 - 04Aug2020): finished  242 trials in 0 min 10 sec"
     ]
    },
    {
     "name": "stdout",
     "output_type": "stream",
     "text": [
      "\n"
     ]
    },
    {
     "name": "stdout",
     "output_type": "stream",
     "text": [
      "\tRUS,  8th phase (28Jul2020 - 09Aug2020): finished 1236 trials in 1 min  0 sec"
     ]
    },
    {
     "name": "stdout",
     "output_type": "stream",
     "text": [
      "\n"
     ]
    },
    {
     "name": "stdout",
     "output_type": "stream",
     "text": [
      "\tIRN,  1st phase (29Mar2020 - 16Apr2020): finished 1261 trials in 1 min  0 sec"
     ]
    },
    {
     "name": "stdout",
     "output_type": "stream",
     "text": [
      "\n"
     ]
    },
    {
     "name": "stdout",
     "output_type": "stream",
     "text": [
      "\tUSA,  6th phase (16Jul2020 - 23Jul2020): finished  150 trials in 0 min  5 sec"
     ]
    },
    {
     "name": "stdout",
     "output_type": "stream",
     "text": [
      "\n"
     ]
    },
    {
     "name": "stdout",
     "output_type": "stream",
     "text": [
      "\tPRT,  8th phase (24Jul2020 - 10Aug2020): finished  612 trials in 0 min 25 sec"
     ]
    },
    {
     "name": "stdout",
     "output_type": "stream",
     "text": [
      "\n"
     ]
    },
    {
     "name": "stdout",
     "output_type": "stream",
     "text": [
      "\tKOR,  7th phase (03Jul2020 - 20Jul2020): finished 1278 trials in 1 min  0 sec"
     ]
    },
    {
     "name": "stdout",
     "output_type": "stream",
     "text": [
      "\n"
     ]
    },
    {
     "name": "stdout",
     "output_type": "stream",
     "text": [
      "\tKWT,  3rd phase (10Jun2020 - 22Jun2020): finished  628 trials in 0 min 25 sec"
     ]
    },
    {
     "name": "stdout",
     "output_type": "stream",
     "text": [
      "\n"
     ]
    },
    {
     "name": "stdout",
     "output_type": "stream",
     "text": [
      "\tMDA,  4th phase (26Jun2020 - 08Jul2020): finished 1258 trials in 1 min  0 sec"
     ]
    },
    {
     "name": "stdout",
     "output_type": "stream",
     "text": [
      "\n"
     ]
    },
    {
     "name": "stdout",
     "output_type": "stream",
     "text": [
      "\tARE,  4th phase (04Jun2020 - 11Jun2020): finished  989 trials in 0 min 45 sec"
     ]
    },
    {
     "name": "stdout",
     "output_type": "stream",
     "text": [
      "\n"
     ]
    },
    {
     "name": "stdout",
     "output_type": "stream",
     "text": [
      "\tIRN,  9th phase (29Jul2020 - 11Aug2020): finished  274 trials in 0 min 10 sec"
     ]
    },
    {
     "name": "stdout",
     "output_type": "stream",
     "text": [
      "\n"
     ]
    },
    {
     "name": "stdout",
     "output_type": "stream",
     "text": [
      "\tKOR,  5th phase (24May2020 - 16Jun2020): finished  867 trials in 0 min 40 sec"
     ]
    },
    {
     "name": "stdout",
     "output_type": "stream",
     "text": [
      "\n"
     ]
    },
    {
     "name": "stdout",
     "output_type": "stream",
     "text": [
      "\tCZE,  2nd phase (20Apr2020 - 12May2020): finished 1241 trials in 1 min  0 sec"
     ]
    },
    {
     "name": "stdout",
     "output_type": "stream",
     "text": [
      "\n"
     ]
    },
    {
     "name": "stdout",
     "output_type": "stream",
     "text": [
      "\tBHR,  9th phase (05Aug2020 - 15Aug2020): finished 1277 trials in 1 min  0 sec"
     ]
    },
    {
     "name": "stdout",
     "output_type": "stream",
     "text": [
      "\n"
     ]
    },
    {
     "name": "stdout",
     "output_type": "stream",
     "text": [
      "\tMLI,  3rd phase (15May2020 - 24May2020): finished 1288 trials in 1 min  0 sec"
     ]
    },
    {
     "name": "stdout",
     "output_type": "stream",
     "text": [
      "\n"
     ]
    },
    {
     "name": "stdout",
     "output_type": "stream",
     "text": [
      "\tGIN,  3rd phase (23May2020 - 30May2020): finished 1301 trials in 1 min  0 sec"
     ]
    },
    {
     "name": "stdout",
     "output_type": "stream",
     "text": [
      "\n"
     ]
    },
    {
     "name": "stdout",
     "output_type": "stream",
     "text": [
      "\tCZE,  1st phase (08Apr2020 - 19Apr2020): finished 1317 trials in 1 min  0 sec"
     ]
    },
    {
     "name": "stdout",
     "output_type": "stream",
     "text": [
      "\n"
     ]
    },
    {
     "name": "stdout",
     "output_type": "stream",
     "text": [
      "\tRUS,  5th phase (24Jun2020 - 04Jul2020): finished 1353 trials in 1 min  0 sec"
     ]
    },
    {
     "name": "stdout",
     "output_type": "stream",
     "text": [
      "\n"
     ]
    },
    {
     "name": "stdout",
     "output_type": "stream",
     "text": [
      "\tARE,  5th phase (12Jun2020 - 22Jun2020): finished 1030 trials in 0 min 40 sec"
     ]
    },
    {
     "name": "stdout",
     "output_type": "stream",
     "text": [
      "\n"
     ]
    },
    {
     "name": "stdout",
     "output_type": "stream",
     "text": [
      "\tMMR,  4th phase (06Jun2020 - 14Jun2020): finished 1471 trials in 1 min  0 sec"
     ]
    },
    {
     "name": "stdout",
     "output_type": "stream",
     "text": [
      "\n"
     ]
    },
    {
     "name": "stdout",
     "output_type": "stream",
     "text": [
      "\tMMR,  1st phase (29Apr2020 - 14May2020): finished 1425 trials in 1 min  0 sec"
     ]
    },
    {
     "name": "stdout",
     "output_type": "stream",
     "text": [
      "\n"
     ]
    },
    {
     "name": "stdout",
     "output_type": "stream",
     "text": [
      "\tRUS,  3rd phase (31May2020 - 14Jun2020): finished 1444 trials in 1 min  0 sec"
     ]
    },
    {
     "name": "stdout",
     "output_type": "stream",
     "text": [
      "\n"
     ]
    },
    {
     "name": "stdout",
     "output_type": "stream",
     "text": [
      "\tGIN,  2nd phase (13May2020 - 22May2020): finished 1377 trials in 1 min  0 sec"
     ]
    },
    {
     "name": "stdout",
     "output_type": "stream",
     "text": [
      "\n"
     ]
    },
    {
     "name": "stdout",
     "output_type": "stream",
     "text": [
      "\tPER,  2nd phase (29May2020 - 10Jun2020): finished 1333 trials in 1 min  0 sec"
     ]
    },
    {
     "name": "stdout",
     "output_type": "stream",
     "text": [
      "\n"
     ]
    },
    {
     "name": "stdout",
     "output_type": "stream",
     "text": [
      "\tCZE,  8th phase (05Aug2020 - 18Aug2020): finished 1289 trials in 1 min  0 sec"
     ]
    },
    {
     "name": "stdout",
     "output_type": "stream",
     "text": [
      "\n"
     ]
    },
    {
     "name": "stdout",
     "output_type": "stream",
     "text": [
      "\tIRN,  8th phase (17Jul2020 - 28Jul2020): finished  271 trials in 0 min 10 sec"
     ]
    },
    {
     "name": "stdout",
     "output_type": "stream",
     "text": [
      "\n"
     ]
    },
    {
     "name": "stdout",
     "output_type": "stream",
     "text": [
      "\tGEO,  1st phase (12Apr2020 - 23Apr2020): finished 1261 trials in 1 min  0 sec"
     ]
    },
    {
     "name": "stdout",
     "output_type": "stream",
     "text": [
      "\n"
     ]
    },
    {
     "name": "stdout",
     "output_type": "stream",
     "text": [
      "\tGEO,  9th phase (15Aug2020 - 27Aug2020): finished 1216 trials in 1 min  0 sec"
     ]
    },
    {
     "name": "stdout",
     "output_type": "stream",
     "text": [
      "\n"
     ]
    },
    {
     "name": "stdout",
     "output_type": "stream",
     "text": [
      "\tMMR,  9th phase (16Aug2020 - 27Aug2020): finished 1258 trials in 1 min  0 sec"
     ]
    },
    {
     "name": "stdout",
     "output_type": "stream",
     "text": [
      "\n"
     ]
    },
    {
     "name": "stdout",
     "output_type": "stream",
     "text": [
      "\tPER,  6th phase (19Jul2020 - 28Jul2020): finished 1279 trials in 1 min  0 sec"
     ]
    },
    {
     "name": "stdout",
     "output_type": "stream",
     "text": [
      "\n"
     ]
    },
    {
     "name": "stdout",
     "output_type": "stream",
     "text": [
      "\tGEO,  8th phase (06Aug2020 - 14Aug2020): finished 1385 trials in 1 min  0 sec"
     ]
    },
    {
     "name": "stdout",
     "output_type": "stream",
     "text": [
      "\n"
     ]
    },
    {
     "name": "stdout",
     "output_type": "stream",
     "text": [
      "\tGIN,  8th phase (25Jul2020 - 05Aug2020): finished 1356 trials in 1 min  0 sec"
     ]
    },
    {
     "name": "stdout",
     "output_type": "stream",
     "text": [
      "\n"
     ]
    },
    {
     "name": "stdout",
     "output_type": "stream",
     "text": [
      "\tRUS,  9th phase (10Aug2020 - 27Aug2020): finished 1348 trials in 1 min  0 sec"
     ]
    },
    {
     "name": "stdout",
     "output_type": "stream",
     "text": [
      "\n"
     ]
    },
    {
     "name": "stdout",
     "output_type": "stream",
     "text": [
      "\tFRA,  4th phase (25Apr2020 - 05May2020): finished 1412 trials in 1 min  0 sec"
     ]
    },
    {
     "name": "stdout",
     "output_type": "stream",
     "text": [
      "\n"
     ]
    },
    {
     "name": "stdout",
     "output_type": "stream",
     "text": [
      "\tPOL,  8th phase (28Jul2020 - 07Aug2020): finished  503 trials in 0 min 15 sec"
     ]
    },
    {
     "name": "stdout",
     "output_type": "stream",
     "text": [
      "\n"
     ]
    },
    {
     "name": "stdout",
     "output_type": "stream",
     "text": [
      "\tRUS,  4th phase (15Jun2020 - 23Jun2020): finished 1539 trials in 1 min  0 sec"
     ]
    },
    {
     "name": "stdout",
     "output_type": "stream",
     "text": [
      "\n"
     ]
    },
    {
     "name": "stdout",
     "output_type": "stream",
     "text": [
      "\tTUR,  4th phase (29May2020 - 13Jun2020): finished  179 trials in 0 min  5 sec"
     ]
    },
    {
     "name": "stdout",
     "output_type": "stream",
     "text": [
      "\n"
     ]
    },
    {
     "name": "stdout",
     "output_type": "stream",
     "text": [
      "Completed optimization. Total: 37 min 14 sec"
     ]
    },
    {
     "name": "stdout",
     "output_type": "stream",
     "text": [
      "\n"
     ]
    }
   ],
   "source": [
    "# Parameter estimation with SIR-F model\n",
    "analyser.estimate(cs.SIRF)"
   ]
  },
  {
   "cell_type": "code",
   "execution_count": 12,
   "metadata": {
    "collapsed": false
   },
   "outputs": [
    {
     "data": {
      "text/html": [
       "<div>\n",
       "<style scoped>\n",
       "    .dataframe tbody tr th:only-of-type {\n",
       "        vertical-align: middle;\n",
       "    }\n",
       "\n",
       "    .dataframe tbody tr th {\n",
       "        vertical-align: top;\n",
       "    }\n",
       "\n",
       "    .dataframe thead th {\n",
       "        text-align: right;\n",
       "    }\n",
       "</style>\n",
       "<table border=\"1\" class=\"dataframe\">\n",
       "  <thead>\n",
       "    <tr style=\"text-align: right;\">\n",
       "      <th></th>\n",
       "      <th></th>\n",
       "      <th>Type</th>\n",
       "      <th>Start</th>\n",
       "      <th>End</th>\n",
       "      <th>Population</th>\n",
       "      <th>ODE</th>\n",
       "      <th>Rt</th>\n",
       "      <th>theta</th>\n",
       "      <th>kappa</th>\n",
       "      <th>rho</th>\n",
       "      <th>sigma</th>\n",
       "      <th>tau</th>\n",
       "      <th>alpha1 [-]</th>\n",
       "      <th>1/gamma [day]</th>\n",
       "      <th>1/beta [day]</th>\n",
       "      <th>1/alpha2 [day]</th>\n",
       "      <th>RMSLE</th>\n",
       "      <th>Trials</th>\n",
       "      <th>Runtime</th>\n",
       "    </tr>\n",
       "    <tr>\n",
       "      <th>Country</th>\n",
       "      <th>Phase</th>\n",
       "      <th></th>\n",
       "      <th></th>\n",
       "      <th></th>\n",
       "      <th></th>\n",
       "      <th></th>\n",
       "      <th></th>\n",
       "      <th></th>\n",
       "      <th></th>\n",
       "      <th></th>\n",
       "      <th></th>\n",
       "      <th></th>\n",
       "      <th></th>\n",
       "      <th></th>\n",
       "      <th></th>\n",
       "      <th></th>\n",
       "      <th></th>\n",
       "      <th></th>\n",
       "      <th></th>\n",
       "    </tr>\n",
       "  </thead>\n",
       "  <tbody>\n",
       "    <tr>\n",
       "      <th rowspan=\"5\" valign=\"top\">Iran</th>\n",
       "      <th>1st</th>\n",
       "      <td>Past</td>\n",
       "      <td>29Mar2020</td>\n",
       "      <td>16Apr2020</td>\n",
       "      <td>81800269</td>\n",
       "      <td>SIR-F</td>\n",
       "      <td>1</td>\n",
       "      <td>0.0625077</td>\n",
       "      <td>0.000294334</td>\n",
       "      <td>0.0182478</td>\n",
       "      <td>0.0168904</td>\n",
       "      <td>360</td>\n",
       "      <td>0.063</td>\n",
       "      <td>14</td>\n",
       "      <td>13</td>\n",
       "      <td>849</td>\n",
       "      <td>0.259294</td>\n",
       "      <td>1261</td>\n",
       "      <td>1 min  0 sec</td>\n",
       "    </tr>\n",
       "    <tr>\n",
       "      <th>2nd</th>\n",
       "      <td>Past</td>\n",
       "      <td>17Apr2020</td>\n",
       "      <td>10May2020</td>\n",
       "      <td>81800269</td>\n",
       "      <td>SIR-F</td>\n",
       "      <td>0.73</td>\n",
       "      <td>0.0205407</td>\n",
       "      <td>0.000862225</td>\n",
       "      <td>0.0182612</td>\n",
       "      <td>0.0236975</td>\n",
       "      <td>360</td>\n",
       "      <td>0.021</td>\n",
       "      <td>10</td>\n",
       "      <td>13</td>\n",
       "      <td>289</td>\n",
       "      <td>0.112466</td>\n",
       "      <td>126</td>\n",
       "      <td>0 min  5 sec</td>\n",
       "    </tr>\n",
       "    <tr>\n",
       "      <th>3rd</th>\n",
       "      <td>Past</td>\n",
       "      <td>11May2020</td>\n",
       "      <td>28May2020</td>\n",
       "      <td>81800269</td>\n",
       "      <td>-</td>\n",
       "      <td>-</td>\n",
       "      <td>-</td>\n",
       "      <td>-</td>\n",
       "      <td>-</td>\n",
       "      <td>-</td>\n",
       "      <td>-</td>\n",
       "      <td>-</td>\n",
       "      <td>-</td>\n",
       "      <td>-</td>\n",
       "      <td>-</td>\n",
       "      <td>-</td>\n",
       "      <td>-</td>\n",
       "      <td>-</td>\n",
       "    </tr>\n",
       "    <tr>\n",
       "      <th>4th</th>\n",
       "      <td>Past</td>\n",
       "      <td>29May2020</td>\n",
       "      <td>10Jun2020</td>\n",
       "      <td>81800269</td>\n",
       "      <td>-</td>\n",
       "      <td>-</td>\n",
       "      <td>-</td>\n",
       "      <td>-</td>\n",
       "      <td>-</td>\n",
       "      <td>-</td>\n",
       "      <td>-</td>\n",
       "      <td>-</td>\n",
       "      <td>-</td>\n",
       "      <td>-</td>\n",
       "      <td>-</td>\n",
       "      <td>-</td>\n",
       "      <td>-</td>\n",
       "      <td>-</td>\n",
       "    </tr>\n",
       "    <tr>\n",
       "      <th>5th</th>\n",
       "      <td>Past</td>\n",
       "      <td>11Jun2020</td>\n",
       "      <td>22Jun2020</td>\n",
       "      <td>81800269</td>\n",
       "      <td>-</td>\n",
       "      <td>-</td>\n",
       "      <td>-</td>\n",
       "      <td>-</td>\n",
       "      <td>-</td>\n",
       "      <td>-</td>\n",
       "      <td>-</td>\n",
       "      <td>-</td>\n",
       "      <td>-</td>\n",
       "      <td>-</td>\n",
       "      <td>-</td>\n",
       "      <td>-</td>\n",
       "      <td>-</td>\n",
       "      <td>-</td>\n",
       "    </tr>\n",
       "    <tr>\n",
       "      <th>...</th>\n",
       "      <th>...</th>\n",
       "      <td>...</td>\n",
       "      <td>...</td>\n",
       "      <td>...</td>\n",
       "      <td>...</td>\n",
       "      <td>...</td>\n",
       "      <td>...</td>\n",
       "      <td>...</td>\n",
       "      <td>...</td>\n",
       "      <td>...</td>\n",
       "      <td>...</td>\n",
       "      <td>...</td>\n",
       "      <td>...</td>\n",
       "      <td>...</td>\n",
       "      <td>...</td>\n",
       "      <td>...</td>\n",
       "      <td>...</td>\n",
       "      <td>...</td>\n",
       "      <td>...</td>\n",
       "    </tr>\n",
       "    <tr>\n",
       "      <th rowspan=\"5\" valign=\"top\">Poland</th>\n",
       "      <th>6th</th>\n",
       "      <td>Past</td>\n",
       "      <td>01Jul2020</td>\n",
       "      <td>15Jul2020</td>\n",
       "      <td>37974750</td>\n",
       "      <td>SIR-F</td>\n",
       "      <td>0.7</td>\n",
       "      <td>0.0171987</td>\n",
       "      <td>5.91156e-05</td>\n",
       "      <td>0.00766775</td>\n",
       "      <td>0.0107073</td>\n",
       "      <td>360</td>\n",
       "      <td>0.017</td>\n",
       "      <td>23</td>\n",
       "      <td>32</td>\n",
       "      <td>4229</td>\n",
       "      <td>0.0455457</td>\n",
       "      <td>265</td>\n",
       "      <td>0 min 10 sec</td>\n",
       "    </tr>\n",
       "    <tr>\n",
       "      <th>7th</th>\n",
       "      <td>Past</td>\n",
       "      <td>16Jul2020</td>\n",
       "      <td>27Jul2020</td>\n",
       "      <td>37974750</td>\n",
       "      <td>-</td>\n",
       "      <td>-</td>\n",
       "      <td>-</td>\n",
       "      <td>-</td>\n",
       "      <td>-</td>\n",
       "      <td>-</td>\n",
       "      <td>-</td>\n",
       "      <td>-</td>\n",
       "      <td>-</td>\n",
       "      <td>-</td>\n",
       "      <td>-</td>\n",
       "      <td>-</td>\n",
       "      <td>-</td>\n",
       "      <td>-</td>\n",
       "    </tr>\n",
       "    <tr>\n",
       "      <th>8th</th>\n",
       "      <td>Past</td>\n",
       "      <td>28Jul2020</td>\n",
       "      <td>07Aug2020</td>\n",
       "      <td>37974750</td>\n",
       "      <td>SIR-F</td>\n",
       "      <td>1.89</td>\n",
       "      <td>0.00101051</td>\n",
       "      <td>0.000215224</td>\n",
       "      <td>0.0157849</td>\n",
       "      <td>0.00813358</td>\n",
       "      <td>360</td>\n",
       "      <td>0.001</td>\n",
       "      <td>30</td>\n",
       "      <td>15</td>\n",
       "      <td>1161</td>\n",
       "      <td>0.00887099</td>\n",
       "      <td>503</td>\n",
       "      <td>0 min 15 sec</td>\n",
       "    </tr>\n",
       "    <tr>\n",
       "      <th>9th</th>\n",
       "      <td>Past</td>\n",
       "      <td>08Aug2020</td>\n",
       "      <td>16Aug2020</td>\n",
       "      <td>37974750</td>\n",
       "      <td>SIR-F</td>\n",
       "      <td>1.96</td>\n",
       "      <td>0.00180556</td>\n",
       "      <td>9.34529e-05</td>\n",
       "      <td>0.012563</td>\n",
       "      <td>0.00631901</td>\n",
       "      <td>360</td>\n",
       "      <td>0.002</td>\n",
       "      <td>39</td>\n",
       "      <td>19</td>\n",
       "      <td>2675</td>\n",
       "      <td>0.00615512</td>\n",
       "      <td>151</td>\n",
       "      <td>0 min  5 sec</td>\n",
       "    </tr>\n",
       "    <tr>\n",
       "      <th>10th</th>\n",
       "      <td>Past</td>\n",
       "      <td>17Aug2020</td>\n",
       "      <td>27Aug2020</td>\n",
       "      <td>37974750</td>\n",
       "      <td>-</td>\n",
       "      <td>-</td>\n",
       "      <td>-</td>\n",
       "      <td>-</td>\n",
       "      <td>-</td>\n",
       "      <td>-</td>\n",
       "      <td>-</td>\n",
       "      <td>-</td>\n",
       "      <td>-</td>\n",
       "      <td>-</td>\n",
       "      <td>-</td>\n",
       "      <td>-</td>\n",
       "      <td>-</td>\n",
       "      <td>-</td>\n",
       "    </tr>\n",
       "  </tbody>\n",
       "</table>\n",
       "<p>70 rows × 18 columns</p>\n",
       "</div>"
      ],
      "text/plain": [
       "               Type      Start        End  Population    ODE    Rt  \\\n",
       "Country Phase                                                        \n",
       "Iran    1st    Past  29Mar2020  16Apr2020    81800269  SIR-F     1   \n",
       "        2nd    Past  17Apr2020  10May2020    81800269  SIR-F  0.73   \n",
       "        3rd    Past  11May2020  28May2020    81800269      -     -   \n",
       "        4th    Past  29May2020  10Jun2020    81800269      -     -   \n",
       "        5th    Past  11Jun2020  22Jun2020    81800269      -     -   \n",
       "...             ...        ...        ...         ...    ...   ...   \n",
       "Poland  6th    Past  01Jul2020  15Jul2020    37974750  SIR-F   0.7   \n",
       "        7th    Past  16Jul2020  27Jul2020    37974750      -     -   \n",
       "        8th    Past  28Jul2020  07Aug2020    37974750  SIR-F  1.89   \n",
       "        9th    Past  08Aug2020  16Aug2020    37974750  SIR-F  1.96   \n",
       "        10th   Past  17Aug2020  27Aug2020    37974750      -     -   \n",
       "\n",
       "                    theta        kappa         rho       sigma  tau  \\\n",
       "Country Phase                                                         \n",
       "Iran    1st     0.0625077  0.000294334   0.0182478   0.0168904  360   \n",
       "        2nd     0.0205407  0.000862225   0.0182612   0.0236975  360   \n",
       "        3rd             -            -           -           -    -   \n",
       "        4th             -            -           -           -    -   \n",
       "        5th             -            -           -           -    -   \n",
       "...                   ...          ...         ...         ...  ...   \n",
       "Poland  6th     0.0171987  5.91156e-05  0.00766775   0.0107073  360   \n",
       "        7th             -            -           -           -    -   \n",
       "        8th    0.00101051  0.000215224   0.0157849  0.00813358  360   \n",
       "        9th    0.00180556  9.34529e-05    0.012563  0.00631901  360   \n",
       "        10th            -            -           -           -    -   \n",
       "\n",
       "              alpha1 [-] 1/gamma [day] 1/beta [day] 1/alpha2 [day]  \\\n",
       "Country Phase                                                        \n",
       "Iran    1st        0.063            14           13            849   \n",
       "        2nd        0.021            10           13            289   \n",
       "        3rd            -             -            -              -   \n",
       "        4th            -             -            -              -   \n",
       "        5th            -             -            -              -   \n",
       "...                  ...           ...          ...            ...   \n",
       "Poland  6th        0.017            23           32           4229   \n",
       "        7th            -             -            -              -   \n",
       "        8th        0.001            30           15           1161   \n",
       "        9th        0.002            39           19           2675   \n",
       "        10th           -             -            -              -   \n",
       "\n",
       "                    RMSLE Trials       Runtime  \n",
       "Country Phase                                   \n",
       "Iran    1st      0.259294   1261  1 min  0 sec  \n",
       "        2nd      0.112466    126  0 min  5 sec  \n",
       "        3rd             -      -             -  \n",
       "        4th             -      -             -  \n",
       "        5th             -      -             -  \n",
       "...                   ...    ...           ...  \n",
       "Poland  6th     0.0455457    265  0 min 10 sec  \n",
       "        7th             -      -             -  \n",
       "        8th    0.00887099    503  0 min 15 sec  \n",
       "        9th    0.00615512    151  0 min  5 sec  \n",
       "        10th            -      -             -  \n",
       "\n",
       "[70 rows x 18 columns]"
      ]
     },
     "execution_count": 12,
     "metadata": {},
     "output_type": "execute_result"
    }
   ],
   "source": [
    "# Show summary\n",
    "analyser.summary(countries=countries_show)"
   ]
  },
  {
   "cell_type": "markdown",
   "metadata": {},
   "source": [
    "## Compare the history of parameters\n",
    "Here, compare the history of parameter values if countries."
   ]
  },
  {
   "cell_type": "code",
   "execution_count": 13,
   "metadata": {
    "collapsed": false
   },
   "outputs": [
    {
     "data": {
      "text/html": [
       "<div>\n",
       "<style scoped>\n",
       "    .dataframe tbody tr th:only-of-type {\n",
       "        vertical-align: middle;\n",
       "    }\n",
       "\n",
       "    .dataframe tbody tr th {\n",
       "        vertical-align: top;\n",
       "    }\n",
       "\n",
       "    .dataframe thead th {\n",
       "        text-align: right;\n",
       "    }\n",
       "</style>\n",
       "<table border=\"1\" class=\"dataframe\">\n",
       "  <thead>\n",
       "    <tr style=\"text-align: right;\">\n",
       "      <th></th>\n",
       "      <th>Date</th>\n",
       "      <th>Country</th>\n",
       "      <th>theta</th>\n",
       "      <th>kappa</th>\n",
       "      <th>rho</th>\n",
       "      <th>sigma</th>\n",
       "      <th>alpha1 [-]</th>\n",
       "      <th>1/alpha2 [day]</th>\n",
       "      <th>1/beta [day]</th>\n",
       "      <th>1/gamma [day]</th>\n",
       "      <th>...</th>\n",
       "      <th>Cancel_events</th>\n",
       "      <th>Gatherings_restrictions</th>\n",
       "      <th>Transport_closing</th>\n",
       "      <th>Stay_home_restrictions</th>\n",
       "      <th>Internal_movement_restrictions</th>\n",
       "      <th>International_movement_restrictions</th>\n",
       "      <th>Information_campaigns</th>\n",
       "      <th>Testing_policy</th>\n",
       "      <th>Contact_tracing</th>\n",
       "      <th>Stringency_index</th>\n",
       "    </tr>\n",
       "  </thead>\n",
       "  <tbody>\n",
       "    <tr>\n",
       "      <th>0</th>\n",
       "      <td>2020-05-11</td>\n",
       "      <td>Peru</td>\n",
       "      <td>0.0143859</td>\n",
       "      <td>0.000234572</td>\n",
       "      <td>0.0113389</td>\n",
       "      <td>0.00545029</td>\n",
       "      <td>0.014</td>\n",
       "      <td>1065</td>\n",
       "      <td>22</td>\n",
       "      <td>45</td>\n",
       "      <td>...</td>\n",
       "      <td>2</td>\n",
       "      <td>4</td>\n",
       "      <td>2</td>\n",
       "      <td>2</td>\n",
       "      <td>2</td>\n",
       "      <td>4</td>\n",
       "      <td>2</td>\n",
       "      <td>2</td>\n",
       "      <td>1</td>\n",
       "      <td>92.59</td>\n",
       "    </tr>\n",
       "    <tr>\n",
       "      <th>1</th>\n",
       "      <td>2020-05-11</td>\n",
       "      <td>Peru</td>\n",
       "      <td>0.0143859</td>\n",
       "      <td>0.000234572</td>\n",
       "      <td>0.0113389</td>\n",
       "      <td>0.00545029</td>\n",
       "      <td>0.014</td>\n",
       "      <td>1065</td>\n",
       "      <td>22</td>\n",
       "      <td>45</td>\n",
       "      <td>...</td>\n",
       "      <td>2</td>\n",
       "      <td>4</td>\n",
       "      <td>2</td>\n",
       "      <td>2</td>\n",
       "      <td>2</td>\n",
       "      <td>4</td>\n",
       "      <td>2</td>\n",
       "      <td>2</td>\n",
       "      <td>1</td>\n",
       "      <td>92.59</td>\n",
       "    </tr>\n",
       "    <tr>\n",
       "      <th>2</th>\n",
       "      <td>2020-05-11</td>\n",
       "      <td>Peru</td>\n",
       "      <td>0.0143859</td>\n",
       "      <td>0.000234572</td>\n",
       "      <td>0.0113389</td>\n",
       "      <td>0.00545029</td>\n",
       "      <td>0.014</td>\n",
       "      <td>1065</td>\n",
       "      <td>22</td>\n",
       "      <td>45</td>\n",
       "      <td>...</td>\n",
       "      <td>2</td>\n",
       "      <td>4</td>\n",
       "      <td>2</td>\n",
       "      <td>2</td>\n",
       "      <td>2</td>\n",
       "      <td>4</td>\n",
       "      <td>2</td>\n",
       "      <td>2</td>\n",
       "      <td>1</td>\n",
       "      <td>92.59</td>\n",
       "    </tr>\n",
       "    <tr>\n",
       "      <th>3</th>\n",
       "      <td>2020-05-11</td>\n",
       "      <td>Peru</td>\n",
       "      <td>0.0143859</td>\n",
       "      <td>0.000234572</td>\n",
       "      <td>0.0113389</td>\n",
       "      <td>0.00545029</td>\n",
       "      <td>0.014</td>\n",
       "      <td>1065</td>\n",
       "      <td>22</td>\n",
       "      <td>45</td>\n",
       "      <td>...</td>\n",
       "      <td>2</td>\n",
       "      <td>4</td>\n",
       "      <td>2</td>\n",
       "      <td>2</td>\n",
       "      <td>2</td>\n",
       "      <td>4</td>\n",
       "      <td>2</td>\n",
       "      <td>2</td>\n",
       "      <td>1</td>\n",
       "      <td>92.59</td>\n",
       "    </tr>\n",
       "    <tr>\n",
       "      <th>4</th>\n",
       "      <td>2020-05-11</td>\n",
       "      <td>Peru</td>\n",
       "      <td>0.0143859</td>\n",
       "      <td>0.000234572</td>\n",
       "      <td>0.0113389</td>\n",
       "      <td>0.00545029</td>\n",
       "      <td>0.014</td>\n",
       "      <td>1065</td>\n",
       "      <td>22</td>\n",
       "      <td>45</td>\n",
       "      <td>...</td>\n",
       "      <td>2</td>\n",
       "      <td>4</td>\n",
       "      <td>2</td>\n",
       "      <td>2</td>\n",
       "      <td>2</td>\n",
       "      <td>4</td>\n",
       "      <td>2</td>\n",
       "      <td>2</td>\n",
       "      <td>1</td>\n",
       "      <td>92.59</td>\n",
       "    </tr>\n",
       "  </tbody>\n",
       "</table>\n",
       "<p>5 rows × 23 columns</p>\n",
       "</div>"
      ],
      "text/plain": [
       "        Date Country      theta        kappa        rho       sigma  \\\n",
       "0 2020-05-11    Peru  0.0143859  0.000234572  0.0113389  0.00545029   \n",
       "1 2020-05-11    Peru  0.0143859  0.000234572  0.0113389  0.00545029   \n",
       "2 2020-05-11    Peru  0.0143859  0.000234572  0.0113389  0.00545029   \n",
       "3 2020-05-11    Peru  0.0143859  0.000234572  0.0113389  0.00545029   \n",
       "4 2020-05-11    Peru  0.0143859  0.000234572  0.0113389  0.00545029   \n",
       "\n",
       "  alpha1 [-] 1/alpha2 [day] 1/beta [day] 1/gamma [day]  ... Cancel_events  \\\n",
       "0      0.014           1065           22            45  ...             2   \n",
       "1      0.014           1065           22            45  ...             2   \n",
       "2      0.014           1065           22            45  ...             2   \n",
       "3      0.014           1065           22            45  ...             2   \n",
       "4      0.014           1065           22            45  ...             2   \n",
       "\n",
       "   Gatherings_restrictions  Transport_closing  Stay_home_restrictions  \\\n",
       "0                        4                  2                       2   \n",
       "1                        4                  2                       2   \n",
       "2                        4                  2                       2   \n",
       "3                        4                  2                       2   \n",
       "4                        4                  2                       2   \n",
       "\n",
       "   Internal_movement_restrictions  International_movement_restrictions  \\\n",
       "0                               2                                    4   \n",
       "1                               2                                    4   \n",
       "2                               2                                    4   \n",
       "3                               2                                    4   \n",
       "4                               2                                    4   \n",
       "\n",
       "   Information_campaigns  Testing_policy  Contact_tracing  Stringency_index  \n",
       "0                      2               2                1             92.59  \n",
       "1                      2               2                1             92.59  \n",
       "2                      2               2                1             92.59  \n",
       "3                      2               2                1             92.59  \n",
       "4                      2               2                1             92.59  \n",
       "\n",
       "[5 rows x 23 columns]"
      ]
     },
     "execution_count": 13,
     "metadata": {},
     "output_type": "execute_result"
    }
   ],
   "source": [
    "# All parameter/day parameter/Rt/OxCGRT\n",
    "analyser.track().head()"
   ]
  },
  {
   "cell_type": "markdown",
   "metadata": {},
   "source": [
    "### $Rt$: Reprodcution number $\\mathrm{[-]}$"
   ]
  },
  {
   "cell_type": "code",
   "execution_count": 14,
   "metadata": {
    "collapsed": false
   },
   "outputs": [
    {
     "data": {
      "image/png": "[encoded data removed]",
      "text/plain": [
       "<Figure size 648x432 with 1 Axes>"
      ]
     },
     "metadata": {},
     "output_type": "display_data"
    },
    {
     "data": {
      "text/html": [
       "<div>\n",
       "<style scoped>\n",
       "    .dataframe tbody tr th:only-of-type {\n",
       "        vertical-align: middle;\n",
       "    }\n",
       "\n",
       "    .dataframe tbody tr th {\n",
       "        vertical-align: top;\n",
       "    }\n",
       "\n",
       "    .dataframe thead th {\n",
       "        text-align: right;\n",
       "    }\n",
       "</style>\n",
       "<table border=\"1\" class=\"dataframe\">\n",
       "  <thead>\n",
       "    <tr style=\"text-align: right;\">\n",
       "      <th>Country</th>\n",
       "      <th>Bahrain</th>\n",
       "      <th>Bangladesh</th>\n",
       "      <th>Czech Republic</th>\n",
       "      <th>France</th>\n",
       "      <th>Georgia</th>\n",
       "      <th>Guinea</th>\n",
       "      <th>Iran</th>\n",
       "      <th>Italy</th>\n",
       "      <th>Korea, South</th>\n",
       "      <th>Kuwait</th>\n",
       "      <th>...</th>\n",
       "      <th>Myanmar</th>\n",
       "      <th>Nigeria</th>\n",
       "      <th>Peru</th>\n",
       "      <th>Poland</th>\n",
       "      <th>Portugal</th>\n",
       "      <th>Russia</th>\n",
       "      <th>Senegal</th>\n",
       "      <th>Turkey</th>\n",
       "      <th>United Arab Emirates</th>\n",
       "      <th>United States</th>\n",
       "    </tr>\n",
       "    <tr>\n",
       "      <th>Date</th>\n",
       "      <th></th>\n",
       "      <th></th>\n",
       "      <th></th>\n",
       "      <th></th>\n",
       "      <th></th>\n",
       "      <th></th>\n",
       "      <th></th>\n",
       "      <th></th>\n",
       "      <th></th>\n",
       "      <th></th>\n",
       "      <th></th>\n",
       "      <th></th>\n",
       "      <th></th>\n",
       "      <th></th>\n",
       "      <th></th>\n",
       "      <th></th>\n",
       "      <th></th>\n",
       "      <th></th>\n",
       "      <th></th>\n",
       "      <th></th>\n",
       "      <th></th>\n",
       "    </tr>\n",
       "  </thead>\n",
       "  <tbody>\n",
       "    <tr>\n",
       "      <th>2020-08-23</th>\n",
       "      <td>1.29</td>\n",
       "      <td>1.66</td>\n",
       "      <td>0.96</td>\n",
       "      <td>13.54</td>\n",
       "      <td>1.92</td>\n",
       "      <td>0.9</td>\n",
       "      <td>1.19</td>\n",
       "      <td>1.41</td>\n",
       "      <td>0.77</td>\n",
       "      <td>1.01</td>\n",
       "      <td>...</td>\n",
       "      <td>11.67</td>\n",
       "      <td>2.69</td>\n",
       "      <td>1.54</td>\n",
       "      <td>1.96</td>\n",
       "      <td>1.21</td>\n",
       "      <td>0.8</td>\n",
       "      <td>1.38</td>\n",
       "      <td>1.39</td>\n",
       "      <td>0.84</td>\n",
       "      <td>2.23</td>\n",
       "    </tr>\n",
       "    <tr>\n",
       "      <th>2020-08-24</th>\n",
       "      <td>1.29</td>\n",
       "      <td>1.66</td>\n",
       "      <td>0.96</td>\n",
       "      <td>13.54</td>\n",
       "      <td>1.92</td>\n",
       "      <td>0.9</td>\n",
       "      <td>1.19</td>\n",
       "      <td>1.41</td>\n",
       "      <td>0.77</td>\n",
       "      <td>1.01</td>\n",
       "      <td>...</td>\n",
       "      <td>11.67</td>\n",
       "      <td>2.69</td>\n",
       "      <td>1.54</td>\n",
       "      <td>1.96</td>\n",
       "      <td>1.21</td>\n",
       "      <td>0.8</td>\n",
       "      <td>1.38</td>\n",
       "      <td>1.39</td>\n",
       "      <td>0.84</td>\n",
       "      <td>2.23</td>\n",
       "    </tr>\n",
       "    <tr>\n",
       "      <th>2020-08-25</th>\n",
       "      <td>1.29</td>\n",
       "      <td>1.66</td>\n",
       "      <td>0.96</td>\n",
       "      <td>13.54</td>\n",
       "      <td>1.92</td>\n",
       "      <td>0.9</td>\n",
       "      <td>1.19</td>\n",
       "      <td>1.41</td>\n",
       "      <td>0.77</td>\n",
       "      <td>1.01</td>\n",
       "      <td>...</td>\n",
       "      <td>11.67</td>\n",
       "      <td>2.69</td>\n",
       "      <td>1.54</td>\n",
       "      <td>1.96</td>\n",
       "      <td>1.21</td>\n",
       "      <td>0.8</td>\n",
       "      <td>1.38</td>\n",
       "      <td>1.39</td>\n",
       "      <td>0.84</td>\n",
       "      <td>2.23</td>\n",
       "    </tr>\n",
       "    <tr>\n",
       "      <th>2020-08-26</th>\n",
       "      <td>1.29</td>\n",
       "      <td>1.66</td>\n",
       "      <td>0.96</td>\n",
       "      <td>13.54</td>\n",
       "      <td>1.92</td>\n",
       "      <td>0.9</td>\n",
       "      <td>1.19</td>\n",
       "      <td>1.41</td>\n",
       "      <td>0.77</td>\n",
       "      <td>1.01</td>\n",
       "      <td>...</td>\n",
       "      <td>11.67</td>\n",
       "      <td>2.69</td>\n",
       "      <td>1.54</td>\n",
       "      <td>1.96</td>\n",
       "      <td>1.21</td>\n",
       "      <td>0.8</td>\n",
       "      <td>1.38</td>\n",
       "      <td>1.39</td>\n",
       "      <td>0.84</td>\n",
       "      <td>2.23</td>\n",
       "    </tr>\n",
       "    <tr>\n",
       "      <th>2020-08-27</th>\n",
       "      <td>1.29</td>\n",
       "      <td>1.66</td>\n",
       "      <td>0.96</td>\n",
       "      <td>13.54</td>\n",
       "      <td>1.92</td>\n",
       "      <td>0.9</td>\n",
       "      <td>1.19</td>\n",
       "      <td>1.41</td>\n",
       "      <td>0.77</td>\n",
       "      <td>1.01</td>\n",
       "      <td>...</td>\n",
       "      <td>11.67</td>\n",
       "      <td>2.69</td>\n",
       "      <td>1.54</td>\n",
       "      <td>1.96</td>\n",
       "      <td>1.21</td>\n",
       "      <td>0.8</td>\n",
       "      <td>1.38</td>\n",
       "      <td>1.39</td>\n",
       "      <td>0.84</td>\n",
       "      <td>2.23</td>\n",
       "    </tr>\n",
       "  </tbody>\n",
       "</table>\n",
       "<p>5 rows × 23 columns</p>\n",
       "</div>"
      ],
      "text/plain": [
       "Country     Bahrain  Bangladesh  Czech Republic  France  Georgia  Guinea  \\\n",
       "Date                                                                       \n",
       "2020-08-23     1.29        1.66            0.96   13.54     1.92     0.9   \n",
       "2020-08-24     1.29        1.66            0.96   13.54     1.92     0.9   \n",
       "2020-08-25     1.29        1.66            0.96   13.54     1.92     0.9   \n",
       "2020-08-26     1.29        1.66            0.96   13.54     1.92     0.9   \n",
       "2020-08-27     1.29        1.66            0.96   13.54     1.92     0.9   \n",
       "\n",
       "Country     Iran  Italy  Korea, South  Kuwait  ...  Myanmar  Nigeria  Peru  \\\n",
       "Date                                           ...                           \n",
       "2020-08-23  1.19   1.41          0.77    1.01  ...    11.67     2.69  1.54   \n",
       "2020-08-24  1.19   1.41          0.77    1.01  ...    11.67     2.69  1.54   \n",
       "2020-08-25  1.19   1.41          0.77    1.01  ...    11.67     2.69  1.54   \n",
       "2020-08-26  1.19   1.41          0.77    1.01  ...    11.67     2.69  1.54   \n",
       "2020-08-27  1.19   1.41          0.77    1.01  ...    11.67     2.69  1.54   \n",
       "\n",
       "Country     Poland  Portugal  Russia  Senegal  Turkey  United Arab Emirates  \\\n",
       "Date                                                                          \n",
       "2020-08-23    1.96      1.21     0.8     1.38    1.39                  0.84   \n",
       "2020-08-24    1.96      1.21     0.8     1.38    1.39                  0.84   \n",
       "2020-08-25    1.96      1.21     0.8     1.38    1.39                  0.84   \n",
       "2020-08-26    1.96      1.21     0.8     1.38    1.39                  0.84   \n",
       "2020-08-27    1.96      1.21     0.8     1.38    1.39                  0.84   \n",
       "\n",
       "Country     United States  \n",
       "Date                       \n",
       "2020-08-23           2.23  \n",
       "2020-08-24           2.23  \n",
       "2020-08-25           2.23  \n",
       "2020-08-26           2.23  \n",
       "2020-08-27           2.23  \n",
       "\n",
       "[5 rows x 23 columns]"
      ]
     },
     "execution_count": 14,
     "metadata": {},
     "output_type": "execute_result"
    }
   ],
   "source": [
    "analyser.param_history(\"Rt\", roll_window=None).tail()"
   ]
  },
  {
   "cell_type": "markdown",
   "metadata": {},
   "source": [
    "### $\\rho$: Effective contact rate $\\mathrm{[-]}$"
   ]
  },
  {
   "cell_type": "code",
   "execution_count": 15,
   "metadata": {
    "collapsed": false
   },
   "outputs": [
    {
     "data": {
      "image/png": "[encoded data removed]",
      "text/plain": [
       "<Figure size 648x432 with 1 Axes>"
      ]
     },
     "metadata": {},
     "output_type": "display_data"
    },
    {
     "data": {
      "text/html": [
       "<div>\n",
       "<style scoped>\n",
       "    .dataframe tbody tr th:only-of-type {\n",
       "        vertical-align: middle;\n",
       "    }\n",
       "\n",
       "    .dataframe tbody tr th {\n",
       "        vertical-align: top;\n",
       "    }\n",
       "\n",
       "    .dataframe thead th {\n",
       "        text-align: right;\n",
       "    }\n",
       "</style>\n",
       "<table border=\"1\" class=\"dataframe\">\n",
       "  <thead>\n",
       "    <tr style=\"text-align: right;\">\n",
       "      <th>Country</th>\n",
       "      <th>Bahrain</th>\n",
       "      <th>Bangladesh</th>\n",
       "      <th>Czech Republic</th>\n",
       "      <th>France</th>\n",
       "      <th>Georgia</th>\n",
       "      <th>Guinea</th>\n",
       "      <th>Iran</th>\n",
       "      <th>Italy</th>\n",
       "      <th>Korea, South</th>\n",
       "      <th>Kuwait</th>\n",
       "      <th>...</th>\n",
       "      <th>Myanmar</th>\n",
       "      <th>Nigeria</th>\n",
       "      <th>Peru</th>\n",
       "      <th>Poland</th>\n",
       "      <th>Portugal</th>\n",
       "      <th>Russia</th>\n",
       "      <th>Senegal</th>\n",
       "      <th>Turkey</th>\n",
       "      <th>United Arab Emirates</th>\n",
       "      <th>United States</th>\n",
       "    </tr>\n",
       "    <tr>\n",
       "      <th>Date</th>\n",
       "      <th></th>\n",
       "      <th></th>\n",
       "      <th></th>\n",
       "      <th></th>\n",
       "      <th></th>\n",
       "      <th></th>\n",
       "      <th></th>\n",
       "      <th></th>\n",
       "      <th></th>\n",
       "      <th></th>\n",
       "      <th></th>\n",
       "      <th></th>\n",
       "      <th></th>\n",
       "      <th></th>\n",
       "      <th></th>\n",
       "      <th></th>\n",
       "      <th></th>\n",
       "      <th></th>\n",
       "      <th></th>\n",
       "      <th></th>\n",
       "      <th></th>\n",
       "    </tr>\n",
       "  </thead>\n",
       "  <tbody>\n",
       "    <tr>\n",
       "      <th>2020-08-23</th>\n",
       "      <td>0.032622</td>\n",
       "      <td>0.013165</td>\n",
       "      <td>0.009104</td>\n",
       "      <td>0.005948</td>\n",
       "      <td>0.009779</td>\n",
       "      <td>0.013266</td>\n",
       "      <td>0.020444</td>\n",
       "      <td>0.005963</td>\n",
       "      <td>0.015147</td>\n",
       "      <td>0.02088</td>\n",
       "      <td>...</td>\n",
       "      <td>0.037083</td>\n",
       "      <td>0.007577</td>\n",
       "      <td>0.003758</td>\n",
       "      <td>0.012563</td>\n",
       "      <td>0.004209</td>\n",
       "      <td>0.001291</td>\n",
       "      <td>0.006175</td>\n",
       "      <td>0.023778</td>\n",
       "      <td>0.010816</td>\n",
       "      <td>0.003771</td>\n",
       "    </tr>\n",
       "    <tr>\n",
       "      <th>2020-08-24</th>\n",
       "      <td>0.032622</td>\n",
       "      <td>0.013165</td>\n",
       "      <td>0.009104</td>\n",
       "      <td>0.005948</td>\n",
       "      <td>0.009779</td>\n",
       "      <td>0.013266</td>\n",
       "      <td>0.020444</td>\n",
       "      <td>0.005963</td>\n",
       "      <td>0.015147</td>\n",
       "      <td>0.02088</td>\n",
       "      <td>...</td>\n",
       "      <td>0.037083</td>\n",
       "      <td>0.007577</td>\n",
       "      <td>0.003758</td>\n",
       "      <td>0.012563</td>\n",
       "      <td>0.004209</td>\n",
       "      <td>0.001291</td>\n",
       "      <td>0.006175</td>\n",
       "      <td>0.023778</td>\n",
       "      <td>0.010816</td>\n",
       "      <td>0.003771</td>\n",
       "    </tr>\n",
       "    <tr>\n",
       "      <th>2020-08-25</th>\n",
       "      <td>0.032622</td>\n",
       "      <td>0.013165</td>\n",
       "      <td>0.009104</td>\n",
       "      <td>0.005948</td>\n",
       "      <td>0.009779</td>\n",
       "      <td>0.013266</td>\n",
       "      <td>0.020444</td>\n",
       "      <td>0.005963</td>\n",
       "      <td>0.015147</td>\n",
       "      <td>0.02088</td>\n",
       "      <td>...</td>\n",
       "      <td>0.037083</td>\n",
       "      <td>0.007577</td>\n",
       "      <td>0.003758</td>\n",
       "      <td>0.012563</td>\n",
       "      <td>0.004209</td>\n",
       "      <td>0.001291</td>\n",
       "      <td>0.006175</td>\n",
       "      <td>0.023778</td>\n",
       "      <td>0.010816</td>\n",
       "      <td>0.003771</td>\n",
       "    </tr>\n",
       "    <tr>\n",
       "      <th>2020-08-26</th>\n",
       "      <td>0.032622</td>\n",
       "      <td>0.013165</td>\n",
       "      <td>0.009104</td>\n",
       "      <td>0.005948</td>\n",
       "      <td>0.009779</td>\n",
       "      <td>0.013266</td>\n",
       "      <td>0.020444</td>\n",
       "      <td>0.005963</td>\n",
       "      <td>0.015147</td>\n",
       "      <td>0.02088</td>\n",
       "      <td>...</td>\n",
       "      <td>0.037083</td>\n",
       "      <td>0.007577</td>\n",
       "      <td>0.003758</td>\n",
       "      <td>0.012563</td>\n",
       "      <td>0.004209</td>\n",
       "      <td>0.001291</td>\n",
       "      <td>0.006175</td>\n",
       "      <td>0.023778</td>\n",
       "      <td>0.010816</td>\n",
       "      <td>0.003771</td>\n",
       "    </tr>\n",
       "    <tr>\n",
       "      <th>2020-08-27</th>\n",
       "      <td>0.032622</td>\n",
       "      <td>0.013165</td>\n",
       "      <td>0.009104</td>\n",
       "      <td>0.005948</td>\n",
       "      <td>0.009779</td>\n",
       "      <td>0.013266</td>\n",
       "      <td>0.020444</td>\n",
       "      <td>0.005963</td>\n",
       "      <td>0.015147</td>\n",
       "      <td>0.02088</td>\n",
       "      <td>...</td>\n",
       "      <td>0.037083</td>\n",
       "      <td>0.007577</td>\n",
       "      <td>0.003758</td>\n",
       "      <td>0.012563</td>\n",
       "      <td>0.004209</td>\n",
       "      <td>0.001291</td>\n",
       "      <td>0.006175</td>\n",
       "      <td>0.023778</td>\n",
       "      <td>0.010816</td>\n",
       "      <td>0.003771</td>\n",
       "    </tr>\n",
       "  </tbody>\n",
       "</table>\n",
       "<p>5 rows × 23 columns</p>\n",
       "</div>"
      ],
      "text/plain": [
       "Country      Bahrain  Bangladesh  Czech Republic    France   Georgia  \\\n",
       "Date                                                                   \n",
       "2020-08-23  0.032622    0.013165        0.009104  0.005948  0.009779   \n",
       "2020-08-24  0.032622    0.013165        0.009104  0.005948  0.009779   \n",
       "2020-08-25  0.032622    0.013165        0.009104  0.005948  0.009779   \n",
       "2020-08-26  0.032622    0.013165        0.009104  0.005948  0.009779   \n",
       "2020-08-27  0.032622    0.013165        0.009104  0.005948  0.009779   \n",
       "\n",
       "Country       Guinea      Iran     Italy  Korea, South   Kuwait  ...  \\\n",
       "Date                                                             ...   \n",
       "2020-08-23  0.013266  0.020444  0.005963      0.015147  0.02088  ...   \n",
       "2020-08-24  0.013266  0.020444  0.005963      0.015147  0.02088  ...   \n",
       "2020-08-25  0.013266  0.020444  0.005963      0.015147  0.02088  ...   \n",
       "2020-08-26  0.013266  0.020444  0.005963      0.015147  0.02088  ...   \n",
       "2020-08-27  0.013266  0.020444  0.005963      0.015147  0.02088  ...   \n",
       "\n",
       "Country      Myanmar   Nigeria      Peru    Poland  Portugal    Russia  \\\n",
       "Date                                                                     \n",
       "2020-08-23  0.037083  0.007577  0.003758  0.012563  0.004209  0.001291   \n",
       "2020-08-24  0.037083  0.007577  0.003758  0.012563  0.004209  0.001291   \n",
       "2020-08-25  0.037083  0.007577  0.003758  0.012563  0.004209  0.001291   \n",
       "2020-08-26  0.037083  0.007577  0.003758  0.012563  0.004209  0.001291   \n",
       "2020-08-27  0.037083  0.007577  0.003758  0.012563  0.004209  0.001291   \n",
       "\n",
       "Country      Senegal    Turkey  United Arab Emirates  United States  \n",
       "Date                                                                 \n",
       "2020-08-23  0.006175  0.023778              0.010816       0.003771  \n",
       "2020-08-24  0.006175  0.023778              0.010816       0.003771  \n",
       "2020-08-25  0.006175  0.023778              0.010816       0.003771  \n",
       "2020-08-26  0.006175  0.023778              0.010816       0.003771  \n",
       "2020-08-27  0.006175  0.023778              0.010816       0.003771  \n",
       "\n",
       "[5 rows x 23 columns]"
      ]
     },
     "execution_count": 15,
     "metadata": {},
     "output_type": "execute_result"
    }
   ],
   "source": [
    "analyser.param_history(\"rho\", roll_window=None).tail()"
   ]
  },
  {
   "cell_type": "markdown",
   "metadata": {},
   "source": [
    "### $\\sigma$: Recovery rate $\\mathrm{[-]}$"
   ]
  },
  {
   "cell_type": "code",
   "execution_count": 16,
   "metadata": {
    "collapsed": false
   },
   "outputs": [
    {
     "data": {
      "image/png": "[encoded data removed]",
      "text/plain": [
       "<Figure size 648x432 with 1 Axes>"
      ]
     },
     "metadata": {},
     "output_type": "display_data"
    },
    {
     "data": {
      "text/html": [
       "<div>\n",
       "<style scoped>\n",
       "    .dataframe tbody tr th:only-of-type {\n",
       "        vertical-align: middle;\n",
       "    }\n",
       "\n",
       "    .dataframe tbody tr th {\n",
       "        vertical-align: top;\n",
       "    }\n",
       "\n",
       "    .dataframe thead th {\n",
       "        text-align: right;\n",
       "    }\n",
       "</style>\n",
       "<table border=\"1\" class=\"dataframe\">\n",
       "  <thead>\n",
       "    <tr style=\"text-align: right;\">\n",
       "      <th>Country</th>\n",
       "      <th>Bahrain</th>\n",
       "      <th>Bangladesh</th>\n",
       "      <th>Czech Republic</th>\n",
       "      <th>France</th>\n",
       "      <th>Georgia</th>\n",
       "      <th>Guinea</th>\n",
       "      <th>Iran</th>\n",
       "      <th>Italy</th>\n",
       "      <th>Korea, South</th>\n",
       "      <th>Kuwait</th>\n",
       "      <th>...</th>\n",
       "      <th>Myanmar</th>\n",
       "      <th>Nigeria</th>\n",
       "      <th>Peru</th>\n",
       "      <th>Poland</th>\n",
       "      <th>Portugal</th>\n",
       "      <th>Russia</th>\n",
       "      <th>Senegal</th>\n",
       "      <th>Turkey</th>\n",
       "      <th>United Arab Emirates</th>\n",
       "      <th>United States</th>\n",
       "    </tr>\n",
       "    <tr>\n",
       "      <th>Date</th>\n",
       "      <th></th>\n",
       "      <th></th>\n",
       "      <th></th>\n",
       "      <th></th>\n",
       "      <th></th>\n",
       "      <th></th>\n",
       "      <th></th>\n",
       "      <th></th>\n",
       "      <th></th>\n",
       "      <th></th>\n",
       "      <th></th>\n",
       "      <th></th>\n",
       "      <th></th>\n",
       "      <th></th>\n",
       "      <th></th>\n",
       "      <th></th>\n",
       "      <th></th>\n",
       "      <th></th>\n",
       "      <th></th>\n",
       "      <th></th>\n",
       "      <th></th>\n",
       "    </tr>\n",
       "  </thead>\n",
       "  <tbody>\n",
       "    <tr>\n",
       "      <th>2020-08-23</th>\n",
       "      <td>0.02512</td>\n",
       "      <td>0.007765</td>\n",
       "      <td>0.009436</td>\n",
       "      <td>0.000414</td>\n",
       "      <td>0.005038</td>\n",
       "      <td>0.014534</td>\n",
       "      <td>0.016003</td>\n",
       "      <td>0.004063</td>\n",
       "      <td>0.019487</td>\n",
       "      <td>0.020626</td>\n",
       "      <td>...</td>\n",
       "      <td>0.003139</td>\n",
       "      <td>0.00272</td>\n",
       "      <td>0.002384</td>\n",
       "      <td>0.006319</td>\n",
       "      <td>0.003403</td>\n",
       "      <td>0.001567</td>\n",
       "      <td>0.004332</td>\n",
       "      <td>0.016817</td>\n",
       "      <td>0.012857</td>\n",
       "      <td>0.001623</td>\n",
       "    </tr>\n",
       "    <tr>\n",
       "      <th>2020-08-24</th>\n",
       "      <td>0.02512</td>\n",
       "      <td>0.007765</td>\n",
       "      <td>0.009436</td>\n",
       "      <td>0.000414</td>\n",
       "      <td>0.005038</td>\n",
       "      <td>0.014534</td>\n",
       "      <td>0.016003</td>\n",
       "      <td>0.004063</td>\n",
       "      <td>0.019487</td>\n",
       "      <td>0.020626</td>\n",
       "      <td>...</td>\n",
       "      <td>0.003139</td>\n",
       "      <td>0.00272</td>\n",
       "      <td>0.002384</td>\n",
       "      <td>0.006319</td>\n",
       "      <td>0.003403</td>\n",
       "      <td>0.001567</td>\n",
       "      <td>0.004332</td>\n",
       "      <td>0.016817</td>\n",
       "      <td>0.012857</td>\n",
       "      <td>0.001623</td>\n",
       "    </tr>\n",
       "    <tr>\n",
       "      <th>2020-08-25</th>\n",
       "      <td>0.02512</td>\n",
       "      <td>0.007765</td>\n",
       "      <td>0.009436</td>\n",
       "      <td>0.000414</td>\n",
       "      <td>0.005038</td>\n",
       "      <td>0.014534</td>\n",
       "      <td>0.016003</td>\n",
       "      <td>0.004063</td>\n",
       "      <td>0.019487</td>\n",
       "      <td>0.020626</td>\n",
       "      <td>...</td>\n",
       "      <td>0.003139</td>\n",
       "      <td>0.00272</td>\n",
       "      <td>0.002384</td>\n",
       "      <td>0.006319</td>\n",
       "      <td>0.003403</td>\n",
       "      <td>0.001567</td>\n",
       "      <td>0.004332</td>\n",
       "      <td>0.016817</td>\n",
       "      <td>0.012857</td>\n",
       "      <td>0.001623</td>\n",
       "    </tr>\n",
       "    <tr>\n",
       "      <th>2020-08-26</th>\n",
       "      <td>0.02512</td>\n",
       "      <td>0.007765</td>\n",
       "      <td>0.009436</td>\n",
       "      <td>0.000414</td>\n",
       "      <td>0.005038</td>\n",
       "      <td>0.014534</td>\n",
       "      <td>0.016003</td>\n",
       "      <td>0.004063</td>\n",
       "      <td>0.019487</td>\n",
       "      <td>0.020626</td>\n",
       "      <td>...</td>\n",
       "      <td>0.003139</td>\n",
       "      <td>0.00272</td>\n",
       "      <td>0.002384</td>\n",
       "      <td>0.006319</td>\n",
       "      <td>0.003403</td>\n",
       "      <td>0.001567</td>\n",
       "      <td>0.004332</td>\n",
       "      <td>0.016817</td>\n",
       "      <td>0.012857</td>\n",
       "      <td>0.001623</td>\n",
       "    </tr>\n",
       "    <tr>\n",
       "      <th>2020-08-27</th>\n",
       "      <td>0.02512</td>\n",
       "      <td>0.007765</td>\n",
       "      <td>0.009436</td>\n",
       "      <td>0.000414</td>\n",
       "      <td>0.005038</td>\n",
       "      <td>0.014534</td>\n",
       "      <td>0.016003</td>\n",
       "      <td>0.004063</td>\n",
       "      <td>0.019487</td>\n",
       "      <td>0.020626</td>\n",
       "      <td>...</td>\n",
       "      <td>0.003139</td>\n",
       "      <td>0.00272</td>\n",
       "      <td>0.002384</td>\n",
       "      <td>0.006319</td>\n",
       "      <td>0.003403</td>\n",
       "      <td>0.001567</td>\n",
       "      <td>0.004332</td>\n",
       "      <td>0.016817</td>\n",
       "      <td>0.012857</td>\n",
       "      <td>0.001623</td>\n",
       "    </tr>\n",
       "  </tbody>\n",
       "</table>\n",
       "<p>5 rows × 23 columns</p>\n",
       "</div>"
      ],
      "text/plain": [
       "Country     Bahrain  Bangladesh  Czech Republic    France   Georgia    Guinea  \\\n",
       "Date                                                                            \n",
       "2020-08-23  0.02512    0.007765        0.009436  0.000414  0.005038  0.014534   \n",
       "2020-08-24  0.02512    0.007765        0.009436  0.000414  0.005038  0.014534   \n",
       "2020-08-25  0.02512    0.007765        0.009436  0.000414  0.005038  0.014534   \n",
       "2020-08-26  0.02512    0.007765        0.009436  0.000414  0.005038  0.014534   \n",
       "2020-08-27  0.02512    0.007765        0.009436  0.000414  0.005038  0.014534   \n",
       "\n",
       "Country         Iran     Italy  Korea, South    Kuwait  ...   Myanmar  \\\n",
       "Date                                                    ...             \n",
       "2020-08-23  0.016003  0.004063      0.019487  0.020626  ...  0.003139   \n",
       "2020-08-24  0.016003  0.004063      0.019487  0.020626  ...  0.003139   \n",
       "2020-08-25  0.016003  0.004063      0.019487  0.020626  ...  0.003139   \n",
       "2020-08-26  0.016003  0.004063      0.019487  0.020626  ...  0.003139   \n",
       "2020-08-27  0.016003  0.004063      0.019487  0.020626  ...  0.003139   \n",
       "\n",
       "Country     Nigeria      Peru    Poland  Portugal    Russia   Senegal  \\\n",
       "Date                                                                    \n",
       "2020-08-23  0.00272  0.002384  0.006319  0.003403  0.001567  0.004332   \n",
       "2020-08-24  0.00272  0.002384  0.006319  0.003403  0.001567  0.004332   \n",
       "2020-08-25  0.00272  0.002384  0.006319  0.003403  0.001567  0.004332   \n",
       "2020-08-26  0.00272  0.002384  0.006319  0.003403  0.001567  0.004332   \n",
       "2020-08-27  0.00272  0.002384  0.006319  0.003403  0.001567  0.004332   \n",
       "\n",
       "Country       Turkey  United Arab Emirates  United States  \n",
       "Date                                                       \n",
       "2020-08-23  0.016817              0.012857       0.001623  \n",
       "2020-08-24  0.016817              0.012857       0.001623  \n",
       "2020-08-25  0.016817              0.012857       0.001623  \n",
       "2020-08-26  0.016817              0.012857       0.001623  \n",
       "2020-08-27  0.016817              0.012857       0.001623  \n",
       "\n",
       "[5 rows x 23 columns]"
      ]
     },
     "execution_count": 16,
     "metadata": {},
     "output_type": "execute_result"
    }
   ],
   "source": [
    "analyser.param_history(\"sigma\", roll_window=None).tail()"
   ]
  },
  {
   "cell_type": "markdown",
   "metadata": {},
   "source": [
    "### $\\kappa$: Mortality rate of infected cases $\\mathrm{[-]}$"
   ]
  },
  {
   "cell_type": "code",
   "execution_count": 17,
   "metadata": {
    "collapsed": false
   },
   "outputs": [
    {
     "data": {
      "image/png": "[encoded data removed]",
      "text/plain": [
       "<Figure size 648x432 with 1 Axes>"
      ]
     },
     "metadata": {},
     "output_type": "display_data"
    },
    {
     "data": {
      "text/html": [
       "<div>\n",
       "<style scoped>\n",
       "    .dataframe tbody tr th:only-of-type {\n",
       "        vertical-align: middle;\n",
       "    }\n",
       "\n",
       "    .dataframe tbody tr th {\n",
       "        vertical-align: top;\n",
       "    }\n",
       "\n",
       "    .dataframe thead th {\n",
       "        text-align: right;\n",
       "    }\n",
       "</style>\n",
       "<table border=\"1\" class=\"dataframe\">\n",
       "  <thead>\n",
       "    <tr style=\"text-align: right;\">\n",
       "      <th>Country</th>\n",
       "      <th>Bahrain</th>\n",
       "      <th>Bangladesh</th>\n",
       "      <th>Czech Republic</th>\n",
       "      <th>France</th>\n",
       "      <th>Georgia</th>\n",
       "      <th>Guinea</th>\n",
       "      <th>Iran</th>\n",
       "      <th>Italy</th>\n",
       "      <th>Korea, South</th>\n",
       "      <th>Kuwait</th>\n",
       "      <th>...</th>\n",
       "      <th>Myanmar</th>\n",
       "      <th>Nigeria</th>\n",
       "      <th>Peru</th>\n",
       "      <th>Poland</th>\n",
       "      <th>Portugal</th>\n",
       "      <th>Russia</th>\n",
       "      <th>Senegal</th>\n",
       "      <th>Turkey</th>\n",
       "      <th>United Arab Emirates</th>\n",
       "      <th>United States</th>\n",
       "    </tr>\n",
       "    <tr>\n",
       "      <th>Date</th>\n",
       "      <th></th>\n",
       "      <th></th>\n",
       "      <th></th>\n",
       "      <th></th>\n",
       "      <th></th>\n",
       "      <th></th>\n",
       "      <th></th>\n",
       "      <th></th>\n",
       "      <th></th>\n",
       "      <th></th>\n",
       "      <th></th>\n",
       "      <th></th>\n",
       "      <th></th>\n",
       "      <th></th>\n",
       "      <th></th>\n",
       "      <th></th>\n",
       "      <th></th>\n",
       "      <th></th>\n",
       "      <th></th>\n",
       "      <th></th>\n",
       "      <th></th>\n",
       "    </tr>\n",
       "  </thead>\n",
       "  <tbody>\n",
       "    <tr>\n",
       "      <th>2020-08-23</th>\n",
       "      <td>0.000059</td>\n",
       "      <td>0.000136</td>\n",
       "      <td>0.000031</td>\n",
       "      <td>0.000024</td>\n",
       "      <td>0.00006</td>\n",
       "      <td>0.000144</td>\n",
       "      <td>0.000045</td>\n",
       "      <td>0.000084</td>\n",
       "      <td>0.000137</td>\n",
       "      <td>0.000076</td>\n",
       "      <td>...</td>\n",
       "      <td>0.000037</td>\n",
       "      <td>0.000098</td>\n",
       "      <td>0.000011</td>\n",
       "      <td>0.000093</td>\n",
       "      <td>0.000069</td>\n",
       "      <td>0.000004</td>\n",
       "      <td>0.000144</td>\n",
       "      <td>0.000301</td>\n",
       "      <td>0.000037</td>\n",
       "      <td>0.00004</td>\n",
       "    </tr>\n",
       "    <tr>\n",
       "      <th>2020-08-24</th>\n",
       "      <td>0.000059</td>\n",
       "      <td>0.000136</td>\n",
       "      <td>0.000031</td>\n",
       "      <td>0.000024</td>\n",
       "      <td>0.00006</td>\n",
       "      <td>0.000144</td>\n",
       "      <td>0.000045</td>\n",
       "      <td>0.000084</td>\n",
       "      <td>0.000137</td>\n",
       "      <td>0.000076</td>\n",
       "      <td>...</td>\n",
       "      <td>0.000037</td>\n",
       "      <td>0.000098</td>\n",
       "      <td>0.000011</td>\n",
       "      <td>0.000093</td>\n",
       "      <td>0.000069</td>\n",
       "      <td>0.000004</td>\n",
       "      <td>0.000144</td>\n",
       "      <td>0.000301</td>\n",
       "      <td>0.000037</td>\n",
       "      <td>0.00004</td>\n",
       "    </tr>\n",
       "    <tr>\n",
       "      <th>2020-08-25</th>\n",
       "      <td>0.000059</td>\n",
       "      <td>0.000136</td>\n",
       "      <td>0.000031</td>\n",
       "      <td>0.000024</td>\n",
       "      <td>0.00006</td>\n",
       "      <td>0.000144</td>\n",
       "      <td>0.000045</td>\n",
       "      <td>0.000084</td>\n",
       "      <td>0.000137</td>\n",
       "      <td>0.000076</td>\n",
       "      <td>...</td>\n",
       "      <td>0.000037</td>\n",
       "      <td>0.000098</td>\n",
       "      <td>0.000011</td>\n",
       "      <td>0.000093</td>\n",
       "      <td>0.000069</td>\n",
       "      <td>0.000004</td>\n",
       "      <td>0.000144</td>\n",
       "      <td>0.000301</td>\n",
       "      <td>0.000037</td>\n",
       "      <td>0.00004</td>\n",
       "    </tr>\n",
       "    <tr>\n",
       "      <th>2020-08-26</th>\n",
       "      <td>0.000059</td>\n",
       "      <td>0.000136</td>\n",
       "      <td>0.000031</td>\n",
       "      <td>0.000024</td>\n",
       "      <td>0.00006</td>\n",
       "      <td>0.000144</td>\n",
       "      <td>0.000045</td>\n",
       "      <td>0.000084</td>\n",
       "      <td>0.000137</td>\n",
       "      <td>0.000076</td>\n",
       "      <td>...</td>\n",
       "      <td>0.000037</td>\n",
       "      <td>0.000098</td>\n",
       "      <td>0.000011</td>\n",
       "      <td>0.000093</td>\n",
       "      <td>0.000069</td>\n",
       "      <td>0.000004</td>\n",
       "      <td>0.000144</td>\n",
       "      <td>0.000301</td>\n",
       "      <td>0.000037</td>\n",
       "      <td>0.00004</td>\n",
       "    </tr>\n",
       "    <tr>\n",
       "      <th>2020-08-27</th>\n",
       "      <td>0.000059</td>\n",
       "      <td>0.000136</td>\n",
       "      <td>0.000031</td>\n",
       "      <td>0.000024</td>\n",
       "      <td>0.00006</td>\n",
       "      <td>0.000144</td>\n",
       "      <td>0.000045</td>\n",
       "      <td>0.000084</td>\n",
       "      <td>0.000137</td>\n",
       "      <td>0.000076</td>\n",
       "      <td>...</td>\n",
       "      <td>0.000037</td>\n",
       "      <td>0.000098</td>\n",
       "      <td>0.000011</td>\n",
       "      <td>0.000093</td>\n",
       "      <td>0.000069</td>\n",
       "      <td>0.000004</td>\n",
       "      <td>0.000144</td>\n",
       "      <td>0.000301</td>\n",
       "      <td>0.000037</td>\n",
       "      <td>0.00004</td>\n",
       "    </tr>\n",
       "  </tbody>\n",
       "</table>\n",
       "<p>5 rows × 23 columns</p>\n",
       "</div>"
      ],
      "text/plain": [
       "Country      Bahrain  Bangladesh  Czech Republic    France  Georgia    Guinea  \\\n",
       "Date                                                                            \n",
       "2020-08-23  0.000059    0.000136        0.000031  0.000024  0.00006  0.000144   \n",
       "2020-08-24  0.000059    0.000136        0.000031  0.000024  0.00006  0.000144   \n",
       "2020-08-25  0.000059    0.000136        0.000031  0.000024  0.00006  0.000144   \n",
       "2020-08-26  0.000059    0.000136        0.000031  0.000024  0.00006  0.000144   \n",
       "2020-08-27  0.000059    0.000136        0.000031  0.000024  0.00006  0.000144   \n",
       "\n",
       "Country         Iran     Italy  Korea, South    Kuwait  ...   Myanmar  \\\n",
       "Date                                                    ...             \n",
       "2020-08-23  0.000045  0.000084      0.000137  0.000076  ...  0.000037   \n",
       "2020-08-24  0.000045  0.000084      0.000137  0.000076  ...  0.000037   \n",
       "2020-08-25  0.000045  0.000084      0.000137  0.000076  ...  0.000037   \n",
       "2020-08-26  0.000045  0.000084      0.000137  0.000076  ...  0.000037   \n",
       "2020-08-27  0.000045  0.000084      0.000137  0.000076  ...  0.000037   \n",
       "\n",
       "Country      Nigeria      Peru    Poland  Portugal    Russia   Senegal  \\\n",
       "Date                                                                     \n",
       "2020-08-23  0.000098  0.000011  0.000093  0.000069  0.000004  0.000144   \n",
       "2020-08-24  0.000098  0.000011  0.000093  0.000069  0.000004  0.000144   \n",
       "2020-08-25  0.000098  0.000011  0.000093  0.000069  0.000004  0.000144   \n",
       "2020-08-26  0.000098  0.000011  0.000093  0.000069  0.000004  0.000144   \n",
       "2020-08-27  0.000098  0.000011  0.000093  0.000069  0.000004  0.000144   \n",
       "\n",
       "Country       Turkey  United Arab Emirates  United States  \n",
       "Date                                                       \n",
       "2020-08-23  0.000301              0.000037        0.00004  \n",
       "2020-08-24  0.000301              0.000037        0.00004  \n",
       "2020-08-25  0.000301              0.000037        0.00004  \n",
       "2020-08-26  0.000301              0.000037        0.00004  \n",
       "2020-08-27  0.000301              0.000037        0.00004  \n",
       "\n",
       "[5 rows x 23 columns]"
      ]
     },
     "execution_count": 17,
     "metadata": {},
     "output_type": "execute_result"
    }
   ],
   "source": [
    "analyser.param_history(\"kappa\", roll_window=None).tail()"
   ]
  },
  {
   "cell_type": "markdown",
   "metadata": {},
   "source": [
    "### $\\theta$: Mortality rate of S$^\\ast$ cases $\\mathrm{[-]}$"
   ]
  },
  {
   "cell_type": "code",
   "execution_count": 18,
   "metadata": {
    "collapsed": false
   },
   "outputs": [
    {
     "data": {
      "image/png": "[encoded data removed]",
      "text/plain": [
       "<Figure size 648x432 with 1 Axes>"
      ]
     },
     "metadata": {},
     "output_type": "display_data"
    },
    {
     "data": {
      "text/html": [
       "<div>\n",
       "<style scoped>\n",
       "    .dataframe tbody tr th:only-of-type {\n",
       "        vertical-align: middle;\n",
       "    }\n",
       "\n",
       "    .dataframe tbody tr th {\n",
       "        vertical-align: top;\n",
       "    }\n",
       "\n",
       "    .dataframe thead th {\n",
       "        text-align: right;\n",
       "    }\n",
       "</style>\n",
       "<table border=\"1\" class=\"dataframe\">\n",
       "  <thead>\n",
       "    <tr style=\"text-align: right;\">\n",
       "      <th>Country</th>\n",
       "      <th>Bahrain</th>\n",
       "      <th>Bangladesh</th>\n",
       "      <th>Czech Republic</th>\n",
       "      <th>France</th>\n",
       "      <th>Georgia</th>\n",
       "      <th>Guinea</th>\n",
       "      <th>Iran</th>\n",
       "      <th>Italy</th>\n",
       "      <th>Korea, South</th>\n",
       "      <th>Kuwait</th>\n",
       "      <th>...</th>\n",
       "      <th>Myanmar</th>\n",
       "      <th>Nigeria</th>\n",
       "      <th>Peru</th>\n",
       "      <th>Poland</th>\n",
       "      <th>Portugal</th>\n",
       "      <th>Russia</th>\n",
       "      <th>Senegal</th>\n",
       "      <th>Turkey</th>\n",
       "      <th>United Arab Emirates</th>\n",
       "      <th>United States</th>\n",
       "    </tr>\n",
       "    <tr>\n",
       "      <th>Date</th>\n",
       "      <th></th>\n",
       "      <th></th>\n",
       "      <th></th>\n",
       "      <th></th>\n",
       "      <th></th>\n",
       "      <th></th>\n",
       "      <th></th>\n",
       "      <th></th>\n",
       "      <th></th>\n",
       "      <th></th>\n",
       "      <th></th>\n",
       "      <th></th>\n",
       "      <th></th>\n",
       "      <th></th>\n",
       "      <th></th>\n",
       "      <th></th>\n",
       "      <th></th>\n",
       "      <th></th>\n",
       "      <th></th>\n",
       "      <th></th>\n",
       "      <th></th>\n",
       "    </tr>\n",
       "  </thead>\n",
       "  <tbody>\n",
       "    <tr>\n",
       "      <th>2020-08-23</th>\n",
       "      <td>0.0025</td>\n",
       "      <td>0.001291</td>\n",
       "      <td>0.000936</td>\n",
       "      <td>0.002406</td>\n",
       "      <td>0.000163</td>\n",
       "      <td>0.000086</td>\n",
       "      <td>0.065054</td>\n",
       "      <td>0.019595</td>\n",
       "      <td>0.000287</td>\n",
       "      <td>0.000252</td>\n",
       "      <td>...</td>\n",
       "      <td>0.000659</td>\n",
       "      <td>0.000443</td>\n",
       "      <td>0.019025</td>\n",
       "      <td>0.001806</td>\n",
       "      <td>0.001087</td>\n",
       "      <td>0.03223</td>\n",
       "      <td>0.001149</td>\n",
       "      <td>0.002586</td>\n",
       "      <td>0.000679</td>\n",
       "      <td>0.0183</td>\n",
       "    </tr>\n",
       "    <tr>\n",
       "      <th>2020-08-24</th>\n",
       "      <td>0.0025</td>\n",
       "      <td>0.001291</td>\n",
       "      <td>0.000936</td>\n",
       "      <td>0.002406</td>\n",
       "      <td>0.000163</td>\n",
       "      <td>0.000086</td>\n",
       "      <td>0.065054</td>\n",
       "      <td>0.019595</td>\n",
       "      <td>0.000287</td>\n",
       "      <td>0.000252</td>\n",
       "      <td>...</td>\n",
       "      <td>0.000659</td>\n",
       "      <td>0.000443</td>\n",
       "      <td>0.019025</td>\n",
       "      <td>0.001806</td>\n",
       "      <td>0.001087</td>\n",
       "      <td>0.03223</td>\n",
       "      <td>0.001149</td>\n",
       "      <td>0.002586</td>\n",
       "      <td>0.000679</td>\n",
       "      <td>0.0183</td>\n",
       "    </tr>\n",
       "    <tr>\n",
       "      <th>2020-08-25</th>\n",
       "      <td>0.0025</td>\n",
       "      <td>0.001291</td>\n",
       "      <td>0.000936</td>\n",
       "      <td>0.002406</td>\n",
       "      <td>0.000163</td>\n",
       "      <td>0.000086</td>\n",
       "      <td>0.065054</td>\n",
       "      <td>0.019595</td>\n",
       "      <td>0.000287</td>\n",
       "      <td>0.000252</td>\n",
       "      <td>...</td>\n",
       "      <td>0.000659</td>\n",
       "      <td>0.000443</td>\n",
       "      <td>0.019025</td>\n",
       "      <td>0.001806</td>\n",
       "      <td>0.001087</td>\n",
       "      <td>0.03223</td>\n",
       "      <td>0.001149</td>\n",
       "      <td>0.002586</td>\n",
       "      <td>0.000679</td>\n",
       "      <td>0.0183</td>\n",
       "    </tr>\n",
       "    <tr>\n",
       "      <th>2020-08-26</th>\n",
       "      <td>0.0025</td>\n",
       "      <td>0.001291</td>\n",
       "      <td>0.000936</td>\n",
       "      <td>0.002406</td>\n",
       "      <td>0.000163</td>\n",
       "      <td>0.000086</td>\n",
       "      <td>0.065054</td>\n",
       "      <td>0.019595</td>\n",
       "      <td>0.000287</td>\n",
       "      <td>0.000252</td>\n",
       "      <td>...</td>\n",
       "      <td>0.000659</td>\n",
       "      <td>0.000443</td>\n",
       "      <td>0.019025</td>\n",
       "      <td>0.001806</td>\n",
       "      <td>0.001087</td>\n",
       "      <td>0.03223</td>\n",
       "      <td>0.001149</td>\n",
       "      <td>0.002586</td>\n",
       "      <td>0.000679</td>\n",
       "      <td>0.0183</td>\n",
       "    </tr>\n",
       "    <tr>\n",
       "      <th>2020-08-27</th>\n",
       "      <td>0.0025</td>\n",
       "      <td>0.001291</td>\n",
       "      <td>0.000936</td>\n",
       "      <td>0.002406</td>\n",
       "      <td>0.000163</td>\n",
       "      <td>0.000086</td>\n",
       "      <td>0.065054</td>\n",
       "      <td>0.019595</td>\n",
       "      <td>0.000287</td>\n",
       "      <td>0.000252</td>\n",
       "      <td>...</td>\n",
       "      <td>0.000659</td>\n",
       "      <td>0.000443</td>\n",
       "      <td>0.019025</td>\n",
       "      <td>0.001806</td>\n",
       "      <td>0.001087</td>\n",
       "      <td>0.03223</td>\n",
       "      <td>0.001149</td>\n",
       "      <td>0.002586</td>\n",
       "      <td>0.000679</td>\n",
       "      <td>0.0183</td>\n",
       "    </tr>\n",
       "  </tbody>\n",
       "</table>\n",
       "<p>5 rows × 23 columns</p>\n",
       "</div>"
      ],
      "text/plain": [
       "Country     Bahrain  Bangladesh  Czech Republic    France   Georgia    Guinea  \\\n",
       "Date                                                                            \n",
       "2020-08-23   0.0025    0.001291        0.000936  0.002406  0.000163  0.000086   \n",
       "2020-08-24   0.0025    0.001291        0.000936  0.002406  0.000163  0.000086   \n",
       "2020-08-25   0.0025    0.001291        0.000936  0.002406  0.000163  0.000086   \n",
       "2020-08-26   0.0025    0.001291        0.000936  0.002406  0.000163  0.000086   \n",
       "2020-08-27   0.0025    0.001291        0.000936  0.002406  0.000163  0.000086   \n",
       "\n",
       "Country         Iran     Italy  Korea, South    Kuwait  ...   Myanmar  \\\n",
       "Date                                                    ...             \n",
       "2020-08-23  0.065054  0.019595      0.000287  0.000252  ...  0.000659   \n",
       "2020-08-24  0.065054  0.019595      0.000287  0.000252  ...  0.000659   \n",
       "2020-08-25  0.065054  0.019595      0.000287  0.000252  ...  0.000659   \n",
       "2020-08-26  0.065054  0.019595      0.000287  0.000252  ...  0.000659   \n",
       "2020-08-27  0.065054  0.019595      0.000287  0.000252  ...  0.000659   \n",
       "\n",
       "Country      Nigeria      Peru    Poland  Portugal   Russia   Senegal  \\\n",
       "Date                                                                    \n",
       "2020-08-23  0.000443  0.019025  0.001806  0.001087  0.03223  0.001149   \n",
       "2020-08-24  0.000443  0.019025  0.001806  0.001087  0.03223  0.001149   \n",
       "2020-08-25  0.000443  0.019025  0.001806  0.001087  0.03223  0.001149   \n",
       "2020-08-26  0.000443  0.019025  0.001806  0.001087  0.03223  0.001149   \n",
       "2020-08-27  0.000443  0.019025  0.001806  0.001087  0.03223  0.001149   \n",
       "\n",
       "Country       Turkey  United Arab Emirates  United States  \n",
       "Date                                                       \n",
       "2020-08-23  0.002586              0.000679         0.0183  \n",
       "2020-08-24  0.002586              0.000679         0.0183  \n",
       "2020-08-25  0.002586              0.000679         0.0183  \n",
       "2020-08-26  0.002586              0.000679         0.0183  \n",
       "2020-08-27  0.002586              0.000679         0.0183  \n",
       "\n",
       "[5 rows x 23 columns]"
      ]
     },
     "execution_count": 18,
     "metadata": {},
     "output_type": "execute_result"
    }
   ],
   "source": [
    "analyser.param_history(\"theta\", roll_window=None).tail()"
   ]
  },
  {
   "cell_type": "markdown",
   "metadata": {},
   "source": [
    "## (Experimental): Relationship of OxCGRT index and parameter values\n",
    "Government responses will impact on parameter values of ODE models about 14 days later. Here, we will investigate on the relationship of [stringency index (from OxCGRT)](https://github.com/OxCGRT/covid-policy-tracker/blob/master/documentation/index_methodology.md) and reproduction number/model parameters.\n"
   ]
  },
  {
   "cell_type": "code",
   "execution_count": 19,
   "metadata": {
    "collapsed": false
   },
   "outputs": [],
   "source": [
    "%matplotlib inline\n",
    "from matplotlib import pyplot as plt\n",
    "import seaborn as sns\n",
    "import pandas as pd"
   ]
  },
  {
   "cell_type": "code",
   "execution_count": 20,
   "metadata": {
    "collapsed": false
   },
   "outputs": [
    {
     "name": "stdout",
     "output_type": "stream",
     "text": [
      "<class 'pandas.core.frame.DataFrame'>\n",
      "Int64Index: 31117 entries, 0 to 31424\n",
      "Data columns (total 19 columns):\n",
      " #   Column                               Non-Null Count  Dtype         \n",
      "---  ------                               --------------  -----         \n",
      " 0   Date                                 31117 non-null  datetime64[ns]\n",
      " 1   Country                              31117 non-null  object        \n",
      " 2   Rt                                   31117 non-null  float64       \n",
      " 3   theta                                31117 non-null  float64       \n",
      " 4   kappa                                31117 non-null  float64       \n",
      " 5   rho                                  31117 non-null  float64       \n",
      " 6   sigma                                31117 non-null  float64       \n",
      " 7   School_closing                       31117 non-null  int64         \n",
      " 8   Workplace_closing                    31117 non-null  int64         \n",
      " 9   Cancel_events                        31117 non-null  int64         \n",
      " 10  Gatherings_restrictions              31117 non-null  int64         \n",
      " 11  Transport_closing                    31117 non-null  int64         \n",
      " 12  Stay_home_restrictions               31117 non-null  int64         \n",
      " 13  Internal_movement_restrictions       31117 non-null  int64         \n",
      " 14  International_movement_restrictions  31117 non-null  int64         \n",
      " 15  Information_campaigns                31117 non-null  int64         \n",
      " 16  Testing_policy                       31117 non-null  int64         \n",
      " 17  Contact_tracing                      31117 non-null  int64         \n",
      " 18  Stringency_index                     31117 non-null  float64       \n",
      "dtypes: datetime64[ns](1), float64(6), int64(11), object(1)\n",
      "memory usage: 4.7+ MB\n"
     ]
    }
   ],
   "source": [
    "df = analyser.track()\n",
    "param_cols = [\"Rt\", *cs.SIRF.PARAMETERS]\n",
    "oxcgrt_cols = oxcgrt_data.OXCGRT_VARS[:]\n",
    "cols = param_cols + oxcgrt_cols\n",
    "delay = 14\n",
    "\n",
    "for col in param_cols:\n",
    "    df[col] = pd.to_numeric(df[col], errors=\"coerce\")\n",
    "    df[col] = df.groupby(\"Country\")[col].shift(0 - delay)\n",
    "\n",
    "df = df.dropna(how=\"any\")\n",
    "df = df.loc[:, [\"Date\", \"Country\", *cols]]\n",
    "track_df = df.copy()\n",
    "track_df.info()"
   ]
  },
  {
   "cell_type": "code",
   "execution_count": 21,
   "metadata": {
    "collapsed": false
   },
   "outputs": [
    {
     "data": {
      "text/html": [
       "<style  type=\"text/css\" >\n",
       "#T_92b708d0_e885_11ea_b48b_525400612601row0_col0,#T_92b708d0_e885_11ea_b48b_525400612601row1_col1,#T_92b708d0_e885_11ea_b48b_525400612601row2_col2,#T_92b708d0_e885_11ea_b48b_525400612601row3_col3,#T_92b708d0_e885_11ea_b48b_525400612601row4_col4,#T_92b708d0_e885_11ea_b48b_525400612601row5_col5,#T_92b708d0_e885_11ea_b48b_525400612601row6_col6,#T_92b708d0_e885_11ea_b48b_525400612601row7_col7,#T_92b708d0_e885_11ea_b48b_525400612601row8_col8,#T_92b708d0_e885_11ea_b48b_525400612601row9_col9,#T_92b708d0_e885_11ea_b48b_525400612601row10_col10,#T_92b708d0_e885_11ea_b48b_525400612601row11_col11,#T_92b708d0_e885_11ea_b48b_525400612601row12_col12,#T_92b708d0_e885_11ea_b48b_525400612601row13_col13,#T_92b708d0_e885_11ea_b48b_525400612601row14_col14,#T_92b708d0_e885_11ea_b48b_525400612601row15_col15,#T_92b708d0_e885_11ea_b48b_525400612601row16_col16{\n",
       "            background-color:  #023858;\n",
       "            color:  #f1f1f1;\n",
       "        }#T_92b708d0_e885_11ea_b48b_525400612601row0_col1,#T_92b708d0_e885_11ea_b48b_525400612601row1_col0,#T_92b708d0_e885_11ea_b48b_525400612601row7_col15,#T_92b708d0_e885_11ea_b48b_525400612601row15_col7{\n",
       "            background-color:  #d9d8ea;\n",
       "            color:  #000000;\n",
       "        }#T_92b708d0_e885_11ea_b48b_525400612601row0_col2,#T_92b708d0_e885_11ea_b48b_525400612601row1_col10,#T_92b708d0_e885_11ea_b48b_525400612601row2_col0,#T_92b708d0_e885_11ea_b48b_525400612601row6_col13,#T_92b708d0_e885_11ea_b48b_525400612601row7_col12,#T_92b708d0_e885_11ea_b48b_525400612601row10_col1,#T_92b708d0_e885_11ea_b48b_525400612601row12_col7,#T_92b708d0_e885_11ea_b48b_525400612601row13_col6{\n",
       "            background-color:  #b8c6e0;\n",
       "            color:  #000000;\n",
       "        }#T_92b708d0_e885_11ea_b48b_525400612601row0_col3,#T_92b708d0_e885_11ea_b48b_525400612601row3_col0{\n",
       "            background-color:  #91b5d6;\n",
       "            color:  #000000;\n",
       "        }#T_92b708d0_e885_11ea_b48b_525400612601row0_col4,#T_92b708d0_e885_11ea_b48b_525400612601row3_col14,#T_92b708d0_e885_11ea_b48b_525400612601row4_col0,#T_92b708d0_e885_11ea_b48b_525400612601row14_col3{\n",
       "            background-color:  #e8e4f0;\n",
       "            color:  #000000;\n",
       "        }#T_92b708d0_e885_11ea_b48b_525400612601row0_col5,#T_92b708d0_e885_11ea_b48b_525400612601row5_col0{\n",
       "            background-color:  #eae6f1;\n",
       "            color:  #000000;\n",
       "        }#T_92b708d0_e885_11ea_b48b_525400612601row0_col6,#T_92b708d0_e885_11ea_b48b_525400612601row6_col0{\n",
       "            background-color:  #c2cbe2;\n",
       "            color:  #000000;\n",
       "        }#T_92b708d0_e885_11ea_b48b_525400612601row0_col7,#T_92b708d0_e885_11ea_b48b_525400612601row3_col10,#T_92b708d0_e885_11ea_b48b_525400612601row7_col0,#T_92b708d0_e885_11ea_b48b_525400612601row8_col13,#T_92b708d0_e885_11ea_b48b_525400612601row10_col3,#T_92b708d0_e885_11ea_b48b_525400612601row13_col8{\n",
       "            background-color:  #a7bddb;\n",
       "            color:  #000000;\n",
       "        }#T_92b708d0_e885_11ea_b48b_525400612601row0_col8,#T_92b708d0_e885_11ea_b48b_525400612601row3_col12,#T_92b708d0_e885_11ea_b48b_525400612601row6_col12,#T_92b708d0_e885_11ea_b48b_525400612601row8_col0,#T_92b708d0_e885_11ea_b48b_525400612601row12_col3,#T_92b708d0_e885_11ea_b48b_525400612601row12_col6{\n",
       "            background-color:  #84b0d3;\n",
       "            color:  #000000;\n",
       "        }#T_92b708d0_e885_11ea_b48b_525400612601row0_col9,#T_92b708d0_e885_11ea_b48b_525400612601row0_col16,#T_92b708d0_e885_11ea_b48b_525400612601row9_col0,#T_92b708d0_e885_11ea_b48b_525400612601row16_col0{\n",
       "            background-color:  #cccfe5;\n",
       "            color:  #000000;\n",
       "        }#T_92b708d0_e885_11ea_b48b_525400612601row0_col10,#T_92b708d0_e885_11ea_b48b_525400612601row10_col0{\n",
       "            background-color:  #b5c4df;\n",
       "            color:  #000000;\n",
       "        }#T_92b708d0_e885_11ea_b48b_525400612601row0_col11,#T_92b708d0_e885_11ea_b48b_525400612601row3_col9,#T_92b708d0_e885_11ea_b48b_525400612601row9_col3,#T_92b708d0_e885_11ea_b48b_525400612601row11_col0,#T_92b708d0_e885_11ea_b48b_525400612601row12_col13,#T_92b708d0_e885_11ea_b48b_525400612601row13_col12{\n",
       "            background-color:  #afc1dd;\n",
       "            color:  #000000;\n",
       "        }#T_92b708d0_e885_11ea_b48b_525400612601row0_col12,#T_92b708d0_e885_11ea_b48b_525400612601row12_col0{\n",
       "            background-color:  #e2dfee;\n",
       "            color:  #000000;\n",
       "        }#T_92b708d0_e885_11ea_b48b_525400612601row0_col13,#T_92b708d0_e885_11ea_b48b_525400612601row1_col9,#T_92b708d0_e885_11ea_b48b_525400612601row9_col1,#T_92b708d0_e885_11ea_b48b_525400612601row13_col0{\n",
       "            background-color:  #b1c2de;\n",
       "            color:  #000000;\n",
       "        }#T_92b708d0_e885_11ea_b48b_525400612601row0_col14,#T_92b708d0_e885_11ea_b48b_525400612601row14_col0{\n",
       "            background-color:  #c5cce3;\n",
       "            color:  #000000;\n",
       "        }#T_92b708d0_e885_11ea_b48b_525400612601row0_col15,#T_92b708d0_e885_11ea_b48b_525400612601row15_col0{\n",
       "            background-color:  #e3e0ee;\n",
       "            color:  #000000;\n",
       "        }#T_92b708d0_e885_11ea_b48b_525400612601row1_col2,#T_92b708d0_e885_11ea_b48b_525400612601row2_col1,#T_92b708d0_e885_11ea_b48b_525400612601row2_col5,#T_92b708d0_e885_11ea_b48b_525400612601row5_col2,#T_92b708d0_e885_11ea_b48b_525400612601row8_col14,#T_92b708d0_e885_11ea_b48b_525400612601row14_col8{\n",
       "            background-color:  #67a4cc;\n",
       "            color:  #000000;\n",
       "        }#T_92b708d0_e885_11ea_b48b_525400612601row1_col3,#T_92b708d0_e885_11ea_b48b_525400612601row2_col7,#T_92b708d0_e885_11ea_b48b_525400612601row3_col1,#T_92b708d0_e885_11ea_b48b_525400612601row7_col2{\n",
       "            background-color:  #9ebad9;\n",
       "            color:  #000000;\n",
       "        }#T_92b708d0_e885_11ea_b48b_525400612601row1_col4,#T_92b708d0_e885_11ea_b48b_525400612601row4_col1{\n",
       "            background-color:  #94b6d7;\n",
       "            color:  #000000;\n",
       "        }#T_92b708d0_e885_11ea_b48b_525400612601row1_col5,#T_92b708d0_e885_11ea_b48b_525400612601row5_col1,#T_92b708d0_e885_11ea_b48b_525400612601row7_col14,#T_92b708d0_e885_11ea_b48b_525400612601row14_col7{\n",
       "            background-color:  #96b6d7;\n",
       "            color:  #000000;\n",
       "        }#T_92b708d0_e885_11ea_b48b_525400612601row1_col6,#T_92b708d0_e885_11ea_b48b_525400612601row6_col1{\n",
       "            background-color:  #65a3cb;\n",
       "            color:  #000000;\n",
       "        }#T_92b708d0_e885_11ea_b48b_525400612601row1_col7,#T_92b708d0_e885_11ea_b48b_525400612601row2_col10,#T_92b708d0_e885_11ea_b48b_525400612601row4_col12,#T_92b708d0_e885_11ea_b48b_525400612601row7_col1,#T_92b708d0_e885_11ea_b48b_525400612601row10_col2,#T_92b708d0_e885_11ea_b48b_525400612601row12_col4{\n",
       "            background-color:  #9fbad9;\n",
       "            color:  #000000;\n",
       "        }#T_92b708d0_e885_11ea_b48b_525400612601row1_col8,#T_92b708d0_e885_11ea_b48b_525400612601row3_col11,#T_92b708d0_e885_11ea_b48b_525400612601row8_col1,#T_92b708d0_e885_11ea_b48b_525400612601row11_col3,#T_92b708d0_e885_11ea_b48b_525400612601row13_col16,#T_92b708d0_e885_11ea_b48b_525400612601row16_col13{\n",
       "            background-color:  #b7c5df;\n",
       "            color:  #000000;\n",
       "        }#T_92b708d0_e885_11ea_b48b_525400612601row1_col11,#T_92b708d0_e885_11ea_b48b_525400612601row10_col13,#T_92b708d0_e885_11ea_b48b_525400612601row11_col1,#T_92b708d0_e885_11ea_b48b_525400612601row13_col10{\n",
       "            background-color:  #a9bfdc;\n",
       "            color:  #000000;\n",
       "        }#T_92b708d0_e885_11ea_b48b_525400612601row1_col12,#T_92b708d0_e885_11ea_b48b_525400612601row12_col1{\n",
       "            background-color:  #bcc7e1;\n",
       "            color:  #000000;\n",
       "        }#T_92b708d0_e885_11ea_b48b_525400612601row1_col13,#T_92b708d0_e885_11ea_b48b_525400612601row13_col1{\n",
       "            background-color:  #b3c3de;\n",
       "            color:  #000000;\n",
       "        }#T_92b708d0_e885_11ea_b48b_525400612601row1_col14,#T_92b708d0_e885_11ea_b48b_525400612601row14_col1{\n",
       "            background-color:  #fbf4f9;\n",
       "            color:  #000000;\n",
       "        }#T_92b708d0_e885_11ea_b48b_525400612601row1_col15,#T_92b708d0_e885_11ea_b48b_525400612601row15_col1{\n",
       "            background-color:  #d4d4e8;\n",
       "            color:  #000000;\n",
       "        }#T_92b708d0_e885_11ea_b48b_525400612601row1_col16,#T_92b708d0_e885_11ea_b48b_525400612601row16_col1{\n",
       "            background-color:  #6da6cd;\n",
       "            color:  #000000;\n",
       "        }#T_92b708d0_e885_11ea_b48b_525400612601row2_col3,#T_92b708d0_e885_11ea_b48b_525400612601row3_col2,#T_92b708d0_e885_11ea_b48b_525400612601row7_col8,#T_92b708d0_e885_11ea_b48b_525400612601row7_col16,#T_92b708d0_e885_11ea_b48b_525400612601row8_col7,#T_92b708d0_e885_11ea_b48b_525400612601row16_col7{\n",
       "            background-color:  #1e80b8;\n",
       "            color:  #000000;\n",
       "        }#T_92b708d0_e885_11ea_b48b_525400612601row2_col4,#T_92b708d0_e885_11ea_b48b_525400612601row4_col2,#T_92b708d0_e885_11ea_b48b_525400612601row11_col14,#T_92b708d0_e885_11ea_b48b_525400612601row14_col11{\n",
       "            background-color:  #62a2cb;\n",
       "            color:  #000000;\n",
       "        }#T_92b708d0_e885_11ea_b48b_525400612601row2_col6,#T_92b708d0_e885_11ea_b48b_525400612601row6_col2{\n",
       "            background-color:  #348ebf;\n",
       "            color:  #000000;\n",
       "        }#T_92b708d0_e885_11ea_b48b_525400612601row2_col8,#T_92b708d0_e885_11ea_b48b_525400612601row8_col2{\n",
       "            background-color:  #b9c6e0;\n",
       "            color:  #000000;\n",
       "        }#T_92b708d0_e885_11ea_b48b_525400612601row2_col9,#T_92b708d0_e885_11ea_b48b_525400612601row9_col2{\n",
       "            background-color:  #9ab8d8;\n",
       "            color:  #000000;\n",
       "        }#T_92b708d0_e885_11ea_b48b_525400612601row2_col11,#T_92b708d0_e885_11ea_b48b_525400612601row11_col2,#T_92b708d0_e885_11ea_b48b_525400612601row13_col15,#T_92b708d0_e885_11ea_b48b_525400612601row15_col13{\n",
       "            background-color:  #a8bedc;\n",
       "            color:  #000000;\n",
       "        }#T_92b708d0_e885_11ea_b48b_525400612601row2_col12,#T_92b708d0_e885_11ea_b48b_525400612601row12_col2{\n",
       "            background-color:  #a1bbda;\n",
       "            color:  #000000;\n",
       "        }#T_92b708d0_e885_11ea_b48b_525400612601row2_col13,#T_92b708d0_e885_11ea_b48b_525400612601row13_col2{\n",
       "            background-color:  #d1d2e6;\n",
       "            color:  #000000;\n",
       "        }#T_92b708d0_e885_11ea_b48b_525400612601row2_col14,#T_92b708d0_e885_11ea_b48b_525400612601row14_col2{\n",
       "            background-color:  #f2ecf5;\n",
       "            color:  #000000;\n",
       "        }#T_92b708d0_e885_11ea_b48b_525400612601row2_col15,#T_92b708d0_e885_11ea_b48b_525400612601row4_col10,#T_92b708d0_e885_11ea_b48b_525400612601row10_col4,#T_92b708d0_e885_11ea_b48b_525400612601row15_col2{\n",
       "            background-color:  #e0dded;\n",
       "            color:  #000000;\n",
       "        }#T_92b708d0_e885_11ea_b48b_525400612601row2_col16,#T_92b708d0_e885_11ea_b48b_525400612601row16_col2{\n",
       "            background-color:  #589ec8;\n",
       "            color:  #000000;\n",
       "        }#T_92b708d0_e885_11ea_b48b_525400612601row3_col4,#T_92b708d0_e885_11ea_b48b_525400612601row4_col3,#T_92b708d0_e885_11ea_b48b_525400612601row8_col11,#T_92b708d0_e885_11ea_b48b_525400612601row9_col10,#T_92b708d0_e885_11ea_b48b_525400612601row10_col9,#T_92b708d0_e885_11ea_b48b_525400612601row11_col8{\n",
       "            background-color:  #056faf;\n",
       "            color:  #f1f1f1;\n",
       "        }#T_92b708d0_e885_11ea_b48b_525400612601row3_col5,#T_92b708d0_e885_11ea_b48b_525400612601row5_col3,#T_92b708d0_e885_11ea_b48b_525400612601row11_col12,#T_92b708d0_e885_11ea_b48b_525400612601row12_col11{\n",
       "            background-color:  #83afd3;\n",
       "            color:  #000000;\n",
       "        }#T_92b708d0_e885_11ea_b48b_525400612601row3_col6,#T_92b708d0_e885_11ea_b48b_525400612601row4_col15,#T_92b708d0_e885_11ea_b48b_525400612601row6_col3,#T_92b708d0_e885_11ea_b48b_525400612601row13_col14,#T_92b708d0_e885_11ea_b48b_525400612601row14_col13,#T_92b708d0_e885_11ea_b48b_525400612601row15_col4{\n",
       "            background-color:  #99b8d8;\n",
       "            color:  #000000;\n",
       "        }#T_92b708d0_e885_11ea_b48b_525400612601row3_col7,#T_92b708d0_e885_11ea_b48b_525400612601row7_col3{\n",
       "            background-color:  #d2d3e7;\n",
       "            color:  #000000;\n",
       "        }#T_92b708d0_e885_11ea_b48b_525400612601row3_col8,#T_92b708d0_e885_11ea_b48b_525400612601row3_col13,#T_92b708d0_e885_11ea_b48b_525400612601row8_col3,#T_92b708d0_e885_11ea_b48b_525400612601row12_col15,#T_92b708d0_e885_11ea_b48b_525400612601row13_col3,#T_92b708d0_e885_11ea_b48b_525400612601row15_col12{\n",
       "            background-color:  #ced0e6;\n",
       "            color:  #000000;\n",
       "        }#T_92b708d0_e885_11ea_b48b_525400612601row3_col15,#T_92b708d0_e885_11ea_b48b_525400612601row10_col15,#T_92b708d0_e885_11ea_b48b_525400612601row15_col3,#T_92b708d0_e885_11ea_b48b_525400612601row15_col10{\n",
       "            background-color:  #dfddec;\n",
       "            color:  #000000;\n",
       "        }#T_92b708d0_e885_11ea_b48b_525400612601row3_col16,#T_92b708d0_e885_11ea_b48b_525400612601row16_col3{\n",
       "            background-color:  #89b1d4;\n",
       "            color:  #000000;\n",
       "        }#T_92b708d0_e885_11ea_b48b_525400612601row4_col5,#T_92b708d0_e885_11ea_b48b_525400612601row5_col4{\n",
       "            background-color:  #8eb3d5;\n",
       "            color:  #000000;\n",
       "        }#T_92b708d0_e885_11ea_b48b_525400612601row4_col6,#T_92b708d0_e885_11ea_b48b_525400612601row6_col4{\n",
       "            background-color:  #cdd0e5;\n",
       "            color:  #000000;\n",
       "        }#T_92b708d0_e885_11ea_b48b_525400612601row4_col7,#T_92b708d0_e885_11ea_b48b_525400612601row4_col9,#T_92b708d0_e885_11ea_b48b_525400612601row7_col4,#T_92b708d0_e885_11ea_b48b_525400612601row9_col4{\n",
       "            background-color:  #dddbec;\n",
       "            color:  #000000;\n",
       "        }#T_92b708d0_e885_11ea_b48b_525400612601row4_col8,#T_92b708d0_e885_11ea_b48b_525400612601row8_col4{\n",
       "            background-color:  #fff7fb;\n",
       "            color:  #000000;\n",
       "        }#T_92b708d0_e885_11ea_b48b_525400612601row4_col11,#T_92b708d0_e885_11ea_b48b_525400612601row11_col4,#T_92b708d0_e885_11ea_b48b_525400612601row11_col15,#T_92b708d0_e885_11ea_b48b_525400612601row15_col11{\n",
       "            background-color:  #efe9f3;\n",
       "            color:  #000000;\n",
       "        }#T_92b708d0_e885_11ea_b48b_525400612601row4_col13,#T_92b708d0_e885_11ea_b48b_525400612601row13_col4{\n",
       "            background-color:  #d8d7e9;\n",
       "            color:  #000000;\n",
       "        }#T_92b708d0_e885_11ea_b48b_525400612601row4_col14,#T_92b708d0_e885_11ea_b48b_525400612601row14_col4{\n",
       "            background-color:  #eee9f3;\n",
       "            color:  #000000;\n",
       "        }#T_92b708d0_e885_11ea_b48b_525400612601row4_col16,#T_92b708d0_e885_11ea_b48b_525400612601row16_col4{\n",
       "            background-color:  #c8cde4;\n",
       "            color:  #000000;\n",
       "        }#T_92b708d0_e885_11ea_b48b_525400612601row5_col6,#T_92b708d0_e885_11ea_b48b_525400612601row6_col5,#T_92b708d0_e885_11ea_b48b_525400612601row7_col10,#T_92b708d0_e885_11ea_b48b_525400612601row10_col7{\n",
       "            background-color:  #1b7eb7;\n",
       "            color:  #000000;\n",
       "        }#T_92b708d0_e885_11ea_b48b_525400612601row5_col7,#T_92b708d0_e885_11ea_b48b_525400612601row7_col5{\n",
       "            background-color:  #5a9ec9;\n",
       "            color:  #000000;\n",
       "        }#T_92b708d0_e885_11ea_b48b_525400612601row5_col8,#T_92b708d0_e885_11ea_b48b_525400612601row8_col5,#T_92b708d0_e885_11ea_b48b_525400612601row8_col12,#T_92b708d0_e885_11ea_b48b_525400612601row12_col8{\n",
       "            background-color:  #9cb9d9;\n",
       "            color:  #000000;\n",
       "        }#T_92b708d0_e885_11ea_b48b_525400612601row5_col9,#T_92b708d0_e885_11ea_b48b_525400612601row9_col5{\n",
       "            background-color:  #3d93c2;\n",
       "            color:  #000000;\n",
       "        }#T_92b708d0_e885_11ea_b48b_525400612601row5_col10,#T_92b708d0_e885_11ea_b48b_525400612601row10_col5{\n",
       "            background-color:  #3790c0;\n",
       "            color:  #000000;\n",
       "        }#T_92b708d0_e885_11ea_b48b_525400612601row5_col11,#T_92b708d0_e885_11ea_b48b_525400612601row11_col5{\n",
       "            background-color:  #73a9cf;\n",
       "            color:  #000000;\n",
       "        }#T_92b708d0_e885_11ea_b48b_525400612601row5_col12,#T_92b708d0_e885_11ea_b48b_525400612601row12_col5{\n",
       "            background-color:  #2182b9;\n",
       "            color:  #000000;\n",
       "        }#T_92b708d0_e885_11ea_b48b_525400612601row5_col13,#T_92b708d0_e885_11ea_b48b_525400612601row13_col5{\n",
       "            background-color:  #bfc9e1;\n",
       "            color:  #000000;\n",
       "        }#T_92b708d0_e885_11ea_b48b_525400612601row5_col14,#T_92b708d0_e885_11ea_b48b_525400612601row14_col5{\n",
       "            background-color:  #adc1dd;\n",
       "            color:  #000000;\n",
       "        }#T_92b708d0_e885_11ea_b48b_525400612601row5_col15,#T_92b708d0_e885_11ea_b48b_525400612601row15_col5{\n",
       "            background-color:  #f7f0f7;\n",
       "            color:  #000000;\n",
       "        }#T_92b708d0_e885_11ea_b48b_525400612601row5_col16,#T_92b708d0_e885_11ea_b48b_525400612601row16_col5{\n",
       "            background-color:  #056fae;\n",
       "            color:  #f1f1f1;\n",
       "        }#T_92b708d0_e885_11ea_b48b_525400612601row6_col7,#T_92b708d0_e885_11ea_b48b_525400612601row7_col6{\n",
       "            background-color:  #4697c4;\n",
       "            color:  #000000;\n",
       "        }#T_92b708d0_e885_11ea_b48b_525400612601row6_col8,#T_92b708d0_e885_11ea_b48b_525400612601row8_col6{\n",
       "            background-color:  #4496c3;\n",
       "            color:  #000000;\n",
       "        }#T_92b708d0_e885_11ea_b48b_525400612601row6_col9,#T_92b708d0_e885_11ea_b48b_525400612601row9_col6{\n",
       "            background-color:  #328dbf;\n",
       "            color:  #000000;\n",
       "        }#T_92b708d0_e885_11ea_b48b_525400612601row6_col10,#T_92b708d0_e885_11ea_b48b_525400612601row10_col6{\n",
       "            background-color:  #157ab5;\n",
       "            color:  #000000;\n",
       "        }#T_92b708d0_e885_11ea_b48b_525400612601row6_col11,#T_92b708d0_e885_11ea_b48b_525400612601row11_col6{\n",
       "            background-color:  #2a88bc;\n",
       "            color:  #000000;\n",
       "        }#T_92b708d0_e885_11ea_b48b_525400612601row6_col14,#T_92b708d0_e885_11ea_b48b_525400612601row14_col6{\n",
       "            background-color:  #acc0dd;\n",
       "            color:  #000000;\n",
       "        }#T_92b708d0_e885_11ea_b48b_525400612601row6_col15,#T_92b708d0_e885_11ea_b48b_525400612601row15_col6{\n",
       "            background-color:  #fef6fb;\n",
       "            color:  #000000;\n",
       "        }#T_92b708d0_e885_11ea_b48b_525400612601row6_col16,#T_92b708d0_e885_11ea_b48b_525400612601row16_col6{\n",
       "            background-color:  #0569a5;\n",
       "            color:  #f1f1f1;\n",
       "        }#T_92b708d0_e885_11ea_b48b_525400612601row7_col9,#T_92b708d0_e885_11ea_b48b_525400612601row9_col7{\n",
       "            background-color:  #529bc7;\n",
       "            color:  #000000;\n",
       "        }#T_92b708d0_e885_11ea_b48b_525400612601row7_col11,#T_92b708d0_e885_11ea_b48b_525400612601row11_col7{\n",
       "            background-color:  #4a98c5;\n",
       "            color:  #000000;\n",
       "        }#T_92b708d0_e885_11ea_b48b_525400612601row7_col13,#T_92b708d0_e885_11ea_b48b_525400612601row13_col7,#T_92b708d0_e885_11ea_b48b_525400612601row14_col15,#T_92b708d0_e885_11ea_b48b_525400612601row15_col14{\n",
       "            background-color:  #bbc7e0;\n",
       "            color:  #000000;\n",
       "        }#T_92b708d0_e885_11ea_b48b_525400612601row8_col9,#T_92b708d0_e885_11ea_b48b_525400612601row9_col8{\n",
       "            background-color:  #1379b5;\n",
       "            color:  #f1f1f1;\n",
       "        }#T_92b708d0_e885_11ea_b48b_525400612601row8_col10,#T_92b708d0_e885_11ea_b48b_525400612601row10_col8,#T_92b708d0_e885_11ea_b48b_525400612601row11_col16,#T_92b708d0_e885_11ea_b48b_525400612601row16_col11{\n",
       "            background-color:  #056dab;\n",
       "            color:  #f1f1f1;\n",
       "        }#T_92b708d0_e885_11ea_b48b_525400612601row8_col15,#T_92b708d0_e885_11ea_b48b_525400612601row9_col15,#T_92b708d0_e885_11ea_b48b_525400612601row15_col8,#T_92b708d0_e885_11ea_b48b_525400612601row15_col9{\n",
       "            background-color:  #e5e1ef;\n",
       "            color:  #000000;\n",
       "        }#T_92b708d0_e885_11ea_b48b_525400612601row8_col16,#T_92b708d0_e885_11ea_b48b_525400612601row16_col8{\n",
       "            background-color:  #1077b4;\n",
       "            color:  #f1f1f1;\n",
       "        }#T_92b708d0_e885_11ea_b48b_525400612601row9_col11,#T_92b708d0_e885_11ea_b48b_525400612601row11_col9{\n",
       "            background-color:  #046299;\n",
       "            color:  #f1f1f1;\n",
       "        }#T_92b708d0_e885_11ea_b48b_525400612601row9_col12,#T_92b708d0_e885_11ea_b48b_525400612601row12_col9{\n",
       "            background-color:  #569dc8;\n",
       "            color:  #000000;\n",
       "        }#T_92b708d0_e885_11ea_b48b_525400612601row9_col13,#T_92b708d0_e885_11ea_b48b_525400612601row13_col9{\n",
       "            background-color:  #c9cee4;\n",
       "            color:  #000000;\n",
       "        }#T_92b708d0_e885_11ea_b48b_525400612601row9_col14,#T_92b708d0_e885_11ea_b48b_525400612601row14_col9{\n",
       "            background-color:  #a5bddb;\n",
       "            color:  #000000;\n",
       "        }#T_92b708d0_e885_11ea_b48b_525400612601row9_col16,#T_92b708d0_e885_11ea_b48b_525400612601row16_col9{\n",
       "            background-color:  #045c90;\n",
       "            color:  #f1f1f1;\n",
       "        }#T_92b708d0_e885_11ea_b48b_525400612601row10_col11,#T_92b708d0_e885_11ea_b48b_525400612601row11_col10{\n",
       "            background-color:  #04639b;\n",
       "            color:  #f1f1f1;\n",
       "        }#T_92b708d0_e885_11ea_b48b_525400612601row10_col12,#T_92b708d0_e885_11ea_b48b_525400612601row12_col10{\n",
       "            background-color:  #71a8ce;\n",
       "            color:  #000000;\n",
       "        }#T_92b708d0_e885_11ea_b48b_525400612601row10_col14,#T_92b708d0_e885_11ea_b48b_525400612601row14_col10{\n",
       "            background-color:  #509ac6;\n",
       "            color:  #000000;\n",
       "        }#T_92b708d0_e885_11ea_b48b_525400612601row10_col16,#T_92b708d0_e885_11ea_b48b_525400612601row16_col10{\n",
       "            background-color:  #04649d;\n",
       "            color:  #f1f1f1;\n",
       "        }#T_92b708d0_e885_11ea_b48b_525400612601row11_col13,#T_92b708d0_e885_11ea_b48b_525400612601row13_col11{\n",
       "            background-color:  #bdc8e1;\n",
       "            color:  #000000;\n",
       "        }#T_92b708d0_e885_11ea_b48b_525400612601row12_col14,#T_92b708d0_e885_11ea_b48b_525400612601row14_col12{\n",
       "            background-color:  #c0c9e2;\n",
       "            color:  #000000;\n",
       "        }#T_92b708d0_e885_11ea_b48b_525400612601row12_col16,#T_92b708d0_e885_11ea_b48b_525400612601row16_col12{\n",
       "            background-color:  #197db7;\n",
       "            color:  #000000;\n",
       "        }#T_92b708d0_e885_11ea_b48b_525400612601row14_col16,#T_92b708d0_e885_11ea_b48b_525400612601row16_col14{\n",
       "            background-color:  #d2d2e7;\n",
       "            color:  #000000;\n",
       "        }#T_92b708d0_e885_11ea_b48b_525400612601row15_col16,#T_92b708d0_e885_11ea_b48b_525400612601row16_col15{\n",
       "            background-color:  #ece7f2;\n",
       "            color:  #000000;\n",
       "        }</style><table id=\"T_92b708d0_e885_11ea_b48b_525400612601\" ><thead>    <tr>        <th class=\"blank level0\" ></th>        <th class=\"col_heading level0 col0\" >Rt</th>        <th class=\"col_heading level0 col1\" >theta</th>        <th class=\"col_heading level0 col2\" >kappa</th>        <th class=\"col_heading level0 col3\" >rho</th>        <th class=\"col_heading level0 col4\" >sigma</th>        <th class=\"col_heading level0 col5\" >School_closing</th>        <th class=\"col_heading level0 col6\" >Workplace_closing</th>        <th class=\"col_heading level0 col7\" >Cancel_events</th>        <th class=\"col_heading level0 col8\" >Gatherings_restrictions</th>        <th class=\"col_heading level0 col9\" >Transport_closing</th>        <th class=\"col_heading level0 col10\" >Stay_home_restrictions</th>        <th class=\"col_heading level0 col11\" >Internal_movement_restrictions</th>        <th class=\"col_heading level0 col12\" >International_movement_restrictions</th>        <th class=\"col_heading level0 col13\" >Information_campaigns</th>        <th class=\"col_heading level0 col14\" >Testing_policy</th>        <th class=\"col_heading level0 col15\" >Contact_tracing</th>        <th class=\"col_heading level0 col16\" >Stringency_index</th>    </tr></thead><tbody>\n",
       "                <tr>\n",
       "                        <th id=\"T_92b708d0_e885_11ea_b48b_525400612601level0_row0\" class=\"row_heading level0 row0\" >Rt</th>\n",
       "                        <td id=\"T_92b708d0_e885_11ea_b48b_525400612601row0_col0\" class=\"data row0 col0\" >1.000000</td>\n",
       "                        <td id=\"T_92b708d0_e885_11ea_b48b_525400612601row0_col1\" class=\"data row0 col1\" >-0.170119</td>\n",
       "                        <td id=\"T_92b708d0_e885_11ea_b48b_525400612601row0_col2\" class=\"data row0 col2\" >-0.006491</td>\n",
       "                        <td id=\"T_92b708d0_e885_11ea_b48b_525400612601row0_col3\" class=\"data row0 col3\" >0.153479</td>\n",
       "                        <td id=\"T_92b708d0_e885_11ea_b48b_525400612601row0_col4\" class=\"data row0 col4\" >-0.274422</td>\n",
       "                        <td id=\"T_92b708d0_e885_11ea_b48b_525400612601row0_col5\" class=\"data row0 col5\" >-0.282716</td>\n",
       "                        <td id=\"T_92b708d0_e885_11ea_b48b_525400612601row0_col6\" class=\"data row0 col6\" >-0.053441</td>\n",
       "                        <td id=\"T_92b708d0_e885_11ea_b48b_525400612601row0_col7\" class=\"data row0 col7\" >0.070294</td>\n",
       "                        <td id=\"T_92b708d0_e885_11ea_b48b_525400612601row0_col8\" class=\"data row0 col8\" >0.198737</td>\n",
       "                        <td id=\"T_92b708d0_e885_11ea_b48b_525400612601row0_col9\" class=\"data row0 col9\" >-0.090546</td>\n",
       "                        <td id=\"T_92b708d0_e885_11ea_b48b_525400612601row0_col10\" class=\"data row0 col10\" >0.005301</td>\n",
       "                        <td id=\"T_92b708d0_e885_11ea_b48b_525400612601row0_col11\" class=\"data row0 col11\" >0.035541</td>\n",
       "                        <td id=\"T_92b708d0_e885_11ea_b48b_525400612601row0_col12\" class=\"data row0 col12\" >-0.232148</td>\n",
       "                        <td id=\"T_92b708d0_e885_11ea_b48b_525400612601row0_col13\" class=\"data row0 col13\" >0.024697</td>\n",
       "                        <td id=\"T_92b708d0_e885_11ea_b48b_525400612601row0_col14\" class=\"data row0 col14\" >-0.063316</td>\n",
       "                        <td id=\"T_92b708d0_e885_11ea_b48b_525400612601row0_col15\" class=\"data row0 col15\" >-0.234476</td>\n",
       "                        <td id=\"T_92b708d0_e885_11ea_b48b_525400612601row0_col16\" class=\"data row0 col16\" >-0.091266</td>\n",
       "            </tr>\n",
       "            <tr>\n",
       "                        <th id=\"T_92b708d0_e885_11ea_b48b_525400612601level0_row1\" class=\"row_heading level0 row1\" >theta</th>\n",
       "                        <td id=\"T_92b708d0_e885_11ea_b48b_525400612601row1_col0\" class=\"data row1 col0\" >-0.170119</td>\n",
       "                        <td id=\"T_92b708d0_e885_11ea_b48b_525400612601row1_col1\" class=\"data row1 col1\" >1.000000</td>\n",
       "                        <td id=\"T_92b708d0_e885_11ea_b48b_525400612601row1_col2\" class=\"data row1 col2\" >0.296233</td>\n",
       "                        <td id=\"T_92b708d0_e885_11ea_b48b_525400612601row1_col3\" class=\"data row1 col3\" >0.105404</td>\n",
       "                        <td id=\"T_92b708d0_e885_11ea_b48b_525400612601row1_col4\" class=\"data row1 col4\" >0.140049</td>\n",
       "                        <td id=\"T_92b708d0_e885_11ea_b48b_525400612601row1_col5\" class=\"data row1 col5\" >0.133970</td>\n",
       "                        <td id=\"T_92b708d0_e885_11ea_b48b_525400612601row1_col6\" class=\"data row1 col6\" >0.300052</td>\n",
       "                        <td id=\"T_92b708d0_e885_11ea_b48b_525400612601row1_col7\" class=\"data row1 col7\" >0.097062</td>\n",
       "                        <td id=\"T_92b708d0_e885_11ea_b48b_525400612601row1_col8\" class=\"data row1 col8\" >-0.001423</td>\n",
       "                        <td id=\"T_92b708d0_e885_11ea_b48b_525400612601row1_col9\" class=\"data row1 col9\" >0.025165</td>\n",
       "                        <td id=\"T_92b708d0_e885_11ea_b48b_525400612601row1_col10\" class=\"data row1 col10\" >-0.003243</td>\n",
       "                        <td id=\"T_92b708d0_e885_11ea_b48b_525400612601row1_col11\" class=\"data row1 col11\" >0.060741</td>\n",
       "                        <td id=\"T_92b708d0_e885_11ea_b48b_525400612601row1_col12\" class=\"data row1 col12\" >-0.025071</td>\n",
       "                        <td id=\"T_92b708d0_e885_11ea_b48b_525400612601row1_col13\" class=\"data row1 col13\" >0.015112</td>\n",
       "                        <td id=\"T_92b708d0_e885_11ea_b48b_525400612601row1_col14\" class=\"data row1 col14\" >-0.444347</td>\n",
       "                        <td id=\"T_92b708d0_e885_11ea_b48b_525400612601row1_col15\" class=\"data row1 col15\" >-0.139617</td>\n",
       "                        <td id=\"T_92b708d0_e885_11ea_b48b_525400612601row1_col16\" class=\"data row1 col16\" >0.278094</td>\n",
       "            </tr>\n",
       "            <tr>\n",
       "                        <th id=\"T_92b708d0_e885_11ea_b48b_525400612601level0_row2\" class=\"row_heading level0 row2\" >kappa</th>\n",
       "                        <td id=\"T_92b708d0_e885_11ea_b48b_525400612601row2_col0\" class=\"data row2 col0\" >-0.006491</td>\n",
       "                        <td id=\"T_92b708d0_e885_11ea_b48b_525400612601row2_col1\" class=\"data row2 col1\" >0.296233</td>\n",
       "                        <td id=\"T_92b708d0_e885_11ea_b48b_525400612601row2_col2\" class=\"data row2 col2\" >1.000000</td>\n",
       "                        <td id=\"T_92b708d0_e885_11ea_b48b_525400612601row2_col3\" class=\"data row2 col3\" >0.533249</td>\n",
       "                        <td id=\"T_92b708d0_e885_11ea_b48b_525400612601row2_col4\" class=\"data row2 col4\" >0.313876</td>\n",
       "                        <td id=\"T_92b708d0_e885_11ea_b48b_525400612601row2_col5\" class=\"data row2 col5\" >0.297403</td>\n",
       "                        <td id=\"T_92b708d0_e885_11ea_b48b_525400612601row2_col6\" class=\"data row2 col6\" >0.450336</td>\n",
       "                        <td id=\"T_92b708d0_e885_11ea_b48b_525400612601row2_col7\" class=\"data row2 col7\" >0.106460</td>\n",
       "                        <td id=\"T_92b708d0_e885_11ea_b48b_525400612601row2_col8\" class=\"data row2 col8\" >-0.008506</td>\n",
       "                        <td id=\"T_92b708d0_e885_11ea_b48b_525400612601row2_col9\" class=\"data row2 col9\" >0.117196</td>\n",
       "                        <td id=\"T_92b708d0_e885_11ea_b48b_525400612601row2_col10\" class=\"data row2 col10\" >0.101419</td>\n",
       "                        <td id=\"T_92b708d0_e885_11ea_b48b_525400612601row2_col11\" class=\"data row2 col11\" >0.064451</td>\n",
       "                        <td id=\"T_92b708d0_e885_11ea_b48b_525400612601row2_col12\" class=\"data row2 col12\" >0.091699</td>\n",
       "                        <td id=\"T_92b708d0_e885_11ea_b48b_525400612601row2_col13\" class=\"data row2 col13\" >-0.114559</td>\n",
       "                        <td id=\"T_92b708d0_e885_11ea_b48b_525400612601row2_col14\" class=\"data row2 col14\" >-0.352645</td>\n",
       "                        <td id=\"T_92b708d0_e885_11ea_b48b_525400612601row2_col15\" class=\"data row2 col15\" >-0.214081</td>\n",
       "                        <td id=\"T_92b708d0_e885_11ea_b48b_525400612601row2_col16\" class=\"data row2 col16\" >0.344003</td>\n",
       "            </tr>\n",
       "            <tr>\n",
       "                        <th id=\"T_92b708d0_e885_11ea_b48b_525400612601level0_row3\" class=\"row_heading level0 row3\" >rho</th>\n",
       "                        <td id=\"T_92b708d0_e885_11ea_b48b_525400612601row3_col0\" class=\"data row3 col0\" >0.153479</td>\n",
       "                        <td id=\"T_92b708d0_e885_11ea_b48b_525400612601row3_col1\" class=\"data row3 col1\" >0.105404</td>\n",
       "                        <td id=\"T_92b708d0_e885_11ea_b48b_525400612601row3_col2\" class=\"data row3 col2\" >0.533249</td>\n",
       "                        <td id=\"T_92b708d0_e885_11ea_b48b_525400612601row3_col3\" class=\"data row3 col3\" >1.000000</td>\n",
       "                        <td id=\"T_92b708d0_e885_11ea_b48b_525400612601row3_col4\" class=\"data row3 col4\" >0.629956</td>\n",
       "                        <td id=\"T_92b708d0_e885_11ea_b48b_525400612601row3_col5\" class=\"data row3 col5\" >0.202470</td>\n",
       "                        <td id=\"T_92b708d0_e885_11ea_b48b_525400612601row3_col6\" class=\"data row3 col6\" >0.121933</td>\n",
       "                        <td id=\"T_92b708d0_e885_11ea_b48b_525400612601row3_col7\" class=\"data row3 col7\" >-0.128398</td>\n",
       "                        <td id=\"T_92b708d0_e885_11ea_b48b_525400612601row3_col8\" class=\"data row3 col8\" >-0.101003</td>\n",
       "                        <td id=\"T_92b708d0_e885_11ea_b48b_525400612601row3_col9\" class=\"data row3 col9\" >0.037314</td>\n",
       "                        <td id=\"T_92b708d0_e885_11ea_b48b_525400612601row3_col10\" class=\"data row3 col10\" >0.068111</td>\n",
       "                        <td id=\"T_92b708d0_e885_11ea_b48b_525400612601row3_col11\" class=\"data row3 col11\" >-0.000718</td>\n",
       "                        <td id=\"T_92b708d0_e885_11ea_b48b_525400612601row3_col12\" class=\"data row3 col12\" >0.196466</td>\n",
       "                        <td id=\"T_92b708d0_e885_11ea_b48b_525400612601row3_col13\" class=\"data row3 col13\" >-0.104262</td>\n",
       "                        <td id=\"T_92b708d0_e885_11ea_b48b_525400612601row3_col14\" class=\"data row3 col14\" >-0.272678</td>\n",
       "                        <td id=\"T_92b708d0_e885_11ea_b48b_525400612601row3_col15\" class=\"data row3 col15\" >-0.207972</td>\n",
       "                        <td id=\"T_92b708d0_e885_11ea_b48b_525400612601row3_col16\" class=\"data row3 col16\" >0.179185</td>\n",
       "            </tr>\n",
       "            <tr>\n",
       "                        <th id=\"T_92b708d0_e885_11ea_b48b_525400612601level0_row4\" class=\"row_heading level0 row4\" >sigma</th>\n",
       "                        <td id=\"T_92b708d0_e885_11ea_b48b_525400612601row4_col0\" class=\"data row4 col0\" >-0.274422</td>\n",
       "                        <td id=\"T_92b708d0_e885_11ea_b48b_525400612601row4_col1\" class=\"data row4 col1\" >0.140049</td>\n",
       "                        <td id=\"T_92b708d0_e885_11ea_b48b_525400612601row4_col2\" class=\"data row4 col2\" >0.313876</td>\n",
       "                        <td id=\"T_92b708d0_e885_11ea_b48b_525400612601row4_col3\" class=\"data row4 col3\" >0.629956</td>\n",
       "                        <td id=\"T_92b708d0_e885_11ea_b48b_525400612601row4_col4\" class=\"data row4 col4\" >1.000000</td>\n",
       "                        <td id=\"T_92b708d0_e885_11ea_b48b_525400612601row4_col5\" class=\"data row4 col5\" >0.162806</td>\n",
       "                        <td id=\"T_92b708d0_e885_11ea_b48b_525400612601row4_col6\" class=\"data row4 col6\" >-0.099411</td>\n",
       "                        <td id=\"T_92b708d0_e885_11ea_b48b_525400612601row4_col7\" class=\"data row4 col7\" >-0.194303</td>\n",
       "                        <td id=\"T_92b708d0_e885_11ea_b48b_525400612601row4_col8\" class=\"data row4 col8\" >-0.483250</td>\n",
       "                        <td id=\"T_92b708d0_e885_11ea_b48b_525400612601row4_col9\" class=\"data row4 col9\" >-0.196110</td>\n",
       "                        <td id=\"T_92b708d0_e885_11ea_b48b_525400612601row4_col10\" class=\"data row4 col10\" >-0.214148</td>\n",
       "                        <td id=\"T_92b708d0_e885_11ea_b48b_525400612601row4_col11\" class=\"data row4 col11\" >-0.326732</td>\n",
       "                        <td id=\"T_92b708d0_e885_11ea_b48b_525400612601row4_col12\" class=\"data row4 col12\" >0.100597</td>\n",
       "                        <td id=\"T_92b708d0_e885_11ea_b48b_525400612601row4_col13\" class=\"data row4 col13\" >-0.161868</td>\n",
       "                        <td id=\"T_92b708d0_e885_11ea_b48b_525400612601row4_col14\" class=\"data row4 col14\" >-0.320180</td>\n",
       "                        <td id=\"T_92b708d0_e885_11ea_b48b_525400612601row4_col15\" class=\"data row4 col15\" >0.124882</td>\n",
       "                        <td id=\"T_92b708d0_e885_11ea_b48b_525400612601row4_col16\" class=\"data row4 col16\" >-0.074475</td>\n",
       "            </tr>\n",
       "            <tr>\n",
       "                        <th id=\"T_92b708d0_e885_11ea_b48b_525400612601level0_row5\" class=\"row_heading level0 row5\" >School_closing</th>\n",
       "                        <td id=\"T_92b708d0_e885_11ea_b48b_525400612601row5_col0\" class=\"data row5 col0\" >-0.282716</td>\n",
       "                        <td id=\"T_92b708d0_e885_11ea_b48b_525400612601row5_col1\" class=\"data row5 col1\" >0.133970</td>\n",
       "                        <td id=\"T_92b708d0_e885_11ea_b48b_525400612601row5_col2\" class=\"data row5 col2\" >0.297403</td>\n",
       "                        <td id=\"T_92b708d0_e885_11ea_b48b_525400612601row5_col3\" class=\"data row5 col3\" >0.202470</td>\n",
       "                        <td id=\"T_92b708d0_e885_11ea_b48b_525400612601row5_col4\" class=\"data row5 col4\" >0.162806</td>\n",
       "                        <td id=\"T_92b708d0_e885_11ea_b48b_525400612601row5_col5\" class=\"data row5 col5\" >1.000000</td>\n",
       "                        <td id=\"T_92b708d0_e885_11ea_b48b_525400612601row5_col6\" class=\"data row5 col6\" >0.546578</td>\n",
       "                        <td id=\"T_92b708d0_e885_11ea_b48b_525400612601row5_col7\" class=\"data row5 col7\" >0.338759</td>\n",
       "                        <td id=\"T_92b708d0_e885_11ea_b48b_525400612601row5_col8\" class=\"data row5 col8\" >0.108877</td>\n",
       "                        <td id=\"T_92b708d0_e885_11ea_b48b_525400612601row5_col9\" class=\"data row5 col9\" >0.421654</td>\n",
       "                        <td id=\"T_92b708d0_e885_11ea_b48b_525400612601row5_col10\" class=\"data row5 col10\" >0.438064</td>\n",
       "                        <td id=\"T_92b708d0_e885_11ea_b48b_525400612601row5_col11\" class=\"data row5 col11\" >0.261841</td>\n",
       "                        <td id=\"T_92b708d0_e885_11ea_b48b_525400612601row5_col12\" class=\"data row5 col12\" >0.521047</td>\n",
       "                        <td id=\"T_92b708d0_e885_11ea_b48b_525400612601row5_col13\" class=\"data row5 col13\" >-0.035554</td>\n",
       "                        <td id=\"T_92b708d0_e885_11ea_b48b_525400612601row5_col14\" class=\"data row5 col14\" >0.038462</td>\n",
       "                        <td id=\"T_92b708d0_e885_11ea_b48b_525400612601row5_col15\" class=\"data row5 col15\" >-0.406359</td>\n",
       "                        <td id=\"T_92b708d0_e885_11ea_b48b_525400612601row5_col16\" class=\"data row5 col16\" >0.637559</td>\n",
       "            </tr>\n",
       "            <tr>\n",
       "                        <th id=\"T_92b708d0_e885_11ea_b48b_525400612601level0_row6\" class=\"row_heading level0 row6\" >Workplace_closing</th>\n",
       "                        <td id=\"T_92b708d0_e885_11ea_b48b_525400612601row6_col0\" class=\"data row6 col0\" >-0.053441</td>\n",
       "                        <td id=\"T_92b708d0_e885_11ea_b48b_525400612601row6_col1\" class=\"data row6 col1\" >0.300052</td>\n",
       "                        <td id=\"T_92b708d0_e885_11ea_b48b_525400612601row6_col2\" class=\"data row6 col2\" >0.450336</td>\n",
       "                        <td id=\"T_92b708d0_e885_11ea_b48b_525400612601row6_col3\" class=\"data row6 col3\" >0.121933</td>\n",
       "                        <td id=\"T_92b708d0_e885_11ea_b48b_525400612601row6_col4\" class=\"data row6 col4\" >-0.099411</td>\n",
       "                        <td id=\"T_92b708d0_e885_11ea_b48b_525400612601row6_col5\" class=\"data row6 col5\" >0.546578</td>\n",
       "                        <td id=\"T_92b708d0_e885_11ea_b48b_525400612601row6_col6\" class=\"data row6 col6\" >1.000000</td>\n",
       "                        <td id=\"T_92b708d0_e885_11ea_b48b_525400612601row6_col7\" class=\"data row6 col7\" >0.396085</td>\n",
       "                        <td id=\"T_92b708d0_e885_11ea_b48b_525400612601row6_col8\" class=\"data row6 col8\" >0.398259</td>\n",
       "                        <td id=\"T_92b708d0_e885_11ea_b48b_525400612601row6_col9\" class=\"data row6 col9\" >0.457583</td>\n",
       "                        <td id=\"T_92b708d0_e885_11ea_b48b_525400612601row6_col10\" class=\"data row6 col10\" >0.570640</td>\n",
       "                        <td id=\"T_92b708d0_e885_11ea_b48b_525400612601row6_col11\" class=\"data row6 col11\" >0.485718</td>\n",
       "                        <td id=\"T_92b708d0_e885_11ea_b48b_525400612601row6_col12\" class=\"data row6 col12\" >0.200398</td>\n",
       "                        <td id=\"T_92b708d0_e885_11ea_b48b_525400612601row6_col13\" class=\"data row6 col13\" >-0.003537</td>\n",
       "                        <td id=\"T_92b708d0_e885_11ea_b48b_525400612601row6_col14\" class=\"data row6 col14\" >0.044805</td>\n",
       "                        <td id=\"T_92b708d0_e885_11ea_b48b_525400612601row6_col15\" class=\"data row6 col15\" >-0.476008</td>\n",
       "                        <td id=\"T_92b708d0_e885_11ea_b48b_525400612601row6_col16\" class=\"data row6 col16\" >0.686952</td>\n",
       "            </tr>\n",
       "            <tr>\n",
       "                        <th id=\"T_92b708d0_e885_11ea_b48b_525400612601level0_row7\" class=\"row_heading level0 row7\" >Cancel_events</th>\n",
       "                        <td id=\"T_92b708d0_e885_11ea_b48b_525400612601row7_col0\" class=\"data row7 col0\" >0.070294</td>\n",
       "                        <td id=\"T_92b708d0_e885_11ea_b48b_525400612601row7_col1\" class=\"data row7 col1\" >0.097062</td>\n",
       "                        <td id=\"T_92b708d0_e885_11ea_b48b_525400612601row7_col2\" class=\"data row7 col2\" >0.106460</td>\n",
       "                        <td id=\"T_92b708d0_e885_11ea_b48b_525400612601row7_col3\" class=\"data row7 col3\" >-0.128398</td>\n",
       "                        <td id=\"T_92b708d0_e885_11ea_b48b_525400612601row7_col4\" class=\"data row7 col4\" >-0.194303</td>\n",
       "                        <td id=\"T_92b708d0_e885_11ea_b48b_525400612601row7_col5\" class=\"data row7 col5\" >0.338759</td>\n",
       "                        <td id=\"T_92b708d0_e885_11ea_b48b_525400612601row7_col6\" class=\"data row7 col6\" >0.396085</td>\n",
       "                        <td id=\"T_92b708d0_e885_11ea_b48b_525400612601row7_col7\" class=\"data row7 col7\" >1.000000</td>\n",
       "                        <td id=\"T_92b708d0_e885_11ea_b48b_525400612601row7_col8\" class=\"data row7 col8\" >0.533490</td>\n",
       "                        <td id=\"T_92b708d0_e885_11ea_b48b_525400612601row7_col9\" class=\"data row7 col9\" >0.359182</td>\n",
       "                        <td id=\"T_92b708d0_e885_11ea_b48b_525400612601row7_col10\" class=\"data row7 col10\" >0.546686</td>\n",
       "                        <td id=\"T_92b708d0_e885_11ea_b48b_525400612601row7_col11\" class=\"data row7 col11\" >0.382717</td>\n",
       "                        <td id=\"T_92b708d0_e885_11ea_b48b_525400612601row7_col12\" class=\"data row7 col12\" >-0.004720</td>\n",
       "                        <td id=\"T_92b708d0_e885_11ea_b48b_525400612601row7_col13\" class=\"data row7 col13\" >-0.014579</td>\n",
       "                        <td id=\"T_92b708d0_e885_11ea_b48b_525400612601row7_col14\" class=\"data row7 col14\" >0.133611</td>\n",
       "                        <td id=\"T_92b708d0_e885_11ea_b48b_525400612601row7_col15\" class=\"data row7 col15\" >-0.166429</td>\n",
       "                        <td id=\"T_92b708d0_e885_11ea_b48b_525400612601row7_col16\" class=\"data row7 col16\" >0.532328</td>\n",
       "            </tr>\n",
       "            <tr>\n",
       "                        <th id=\"T_92b708d0_e885_11ea_b48b_525400612601level0_row8\" class=\"row_heading level0 row8\" >Gatherings_restrictions</th>\n",
       "                        <td id=\"T_92b708d0_e885_11ea_b48b_525400612601row8_col0\" class=\"data row8 col0\" >0.198737</td>\n",
       "                        <td id=\"T_92b708d0_e885_11ea_b48b_525400612601row8_col1\" class=\"data row8 col1\" >-0.001423</td>\n",
       "                        <td id=\"T_92b708d0_e885_11ea_b48b_525400612601row8_col2\" class=\"data row8 col2\" >-0.008506</td>\n",
       "                        <td id=\"T_92b708d0_e885_11ea_b48b_525400612601row8_col3\" class=\"data row8 col3\" >-0.101003</td>\n",
       "                        <td id=\"T_92b708d0_e885_11ea_b48b_525400612601row8_col4\" class=\"data row8 col4\" >-0.483250</td>\n",
       "                        <td id=\"T_92b708d0_e885_11ea_b48b_525400612601row8_col5\" class=\"data row8 col5\" >0.108877</td>\n",
       "                        <td id=\"T_92b708d0_e885_11ea_b48b_525400612601row8_col6\" class=\"data row8 col6\" >0.398259</td>\n",
       "                        <td id=\"T_92b708d0_e885_11ea_b48b_525400612601row8_col7\" class=\"data row8 col7\" >0.533490</td>\n",
       "                        <td id=\"T_92b708d0_e885_11ea_b48b_525400612601row8_col8\" class=\"data row8 col8\" >1.000000</td>\n",
       "                        <td id=\"T_92b708d0_e885_11ea_b48b_525400612601row8_col9\" class=\"data row8 col9\" >0.575475</td>\n",
       "                        <td id=\"T_92b708d0_e885_11ea_b48b_525400612601row8_col10\" class=\"data row8 col10\" >0.653442</td>\n",
       "                        <td id=\"T_92b708d0_e885_11ea_b48b_525400612601row8_col11\" class=\"data row8 col11\" >0.629742</td>\n",
       "                        <td id=\"T_92b708d0_e885_11ea_b48b_525400612601row8_col12\" class=\"data row8 col12\" >0.113250</td>\n",
       "                        <td id=\"T_92b708d0_e885_11ea_b48b_525400612601row8_col13\" class=\"data row8 col13\" >0.068103</td>\n",
       "                        <td id=\"T_92b708d0_e885_11ea_b48b_525400612601row8_col14\" class=\"data row8 col14\" >0.294713</td>\n",
       "                        <td id=\"T_92b708d0_e885_11ea_b48b_525400612601row8_col15\" class=\"data row8 col15\" >-0.246727</td>\n",
       "                        <td id=\"T_92b708d0_e885_11ea_b48b_525400612601row8_col16\" class=\"data row8 col16\" >0.583631</td>\n",
       "            </tr>\n",
       "            <tr>\n",
       "                        <th id=\"T_92b708d0_e885_11ea_b48b_525400612601level0_row9\" class=\"row_heading level0 row9\" >Transport_closing</th>\n",
       "                        <td id=\"T_92b708d0_e885_11ea_b48b_525400612601row9_col0\" class=\"data row9 col0\" >-0.090546</td>\n",
       "                        <td id=\"T_92b708d0_e885_11ea_b48b_525400612601row9_col1\" class=\"data row9 col1\" >0.025165</td>\n",
       "                        <td id=\"T_92b708d0_e885_11ea_b48b_525400612601row9_col2\" class=\"data row9 col2\" >0.117196</td>\n",
       "                        <td id=\"T_92b708d0_e885_11ea_b48b_525400612601row9_col3\" class=\"data row9 col3\" >0.037314</td>\n",
       "                        <td id=\"T_92b708d0_e885_11ea_b48b_525400612601row9_col4\" class=\"data row9 col4\" >-0.196110</td>\n",
       "                        <td id=\"T_92b708d0_e885_11ea_b48b_525400612601row9_col5\" class=\"data row9 col5\" >0.421654</td>\n",
       "                        <td id=\"T_92b708d0_e885_11ea_b48b_525400612601row9_col6\" class=\"data row9 col6\" >0.457583</td>\n",
       "                        <td id=\"T_92b708d0_e885_11ea_b48b_525400612601row9_col7\" class=\"data row9 col7\" >0.359182</td>\n",
       "                        <td id=\"T_92b708d0_e885_11ea_b48b_525400612601row9_col8\" class=\"data row9 col8\" >0.575475</td>\n",
       "                        <td id=\"T_92b708d0_e885_11ea_b48b_525400612601row9_col9\" class=\"data row9 col9\" >1.000000</td>\n",
       "                        <td id=\"T_92b708d0_e885_11ea_b48b_525400612601row9_col10\" class=\"data row9 col10\" >0.634693</td>\n",
       "                        <td id=\"T_92b708d0_e885_11ea_b48b_525400612601row9_col11\" class=\"data row9 col11\" >0.750614</td>\n",
       "                        <td id=\"T_92b708d0_e885_11ea_b48b_525400612601row9_col12\" class=\"data row9 col12\" >0.350625</td>\n",
       "                        <td id=\"T_92b708d0_e885_11ea_b48b_525400612601row9_col13\" class=\"data row9 col13\" >-0.079456</td>\n",
       "                        <td id=\"T_92b708d0_e885_11ea_b48b_525400612601row9_col14\" class=\"data row9 col14\" >0.073769</td>\n",
       "                        <td id=\"T_92b708d0_e885_11ea_b48b_525400612601row9_col15\" class=\"data row9 col15\" >-0.249798</td>\n",
       "                        <td id=\"T_92b708d0_e885_11ea_b48b_525400612601row9_col16\" class=\"data row9 col16\" >0.792568</td>\n",
       "            </tr>\n",
       "            <tr>\n",
       "                        <th id=\"T_92b708d0_e885_11ea_b48b_525400612601level0_row10\" class=\"row_heading level0 row10\" >Stay_home_restrictions</th>\n",
       "                        <td id=\"T_92b708d0_e885_11ea_b48b_525400612601row10_col0\" class=\"data row10 col0\" >0.005301</td>\n",
       "                        <td id=\"T_92b708d0_e885_11ea_b48b_525400612601row10_col1\" class=\"data row10 col1\" >-0.003243</td>\n",
       "                        <td id=\"T_92b708d0_e885_11ea_b48b_525400612601row10_col2\" class=\"data row10 col2\" >0.101419</td>\n",
       "                        <td id=\"T_92b708d0_e885_11ea_b48b_525400612601row10_col3\" class=\"data row10 col3\" >0.068111</td>\n",
       "                        <td id=\"T_92b708d0_e885_11ea_b48b_525400612601row10_col4\" class=\"data row10 col4\" >-0.214148</td>\n",
       "                        <td id=\"T_92b708d0_e885_11ea_b48b_525400612601row10_col5\" class=\"data row10 col5\" >0.438064</td>\n",
       "                        <td id=\"T_92b708d0_e885_11ea_b48b_525400612601row10_col6\" class=\"data row10 col6\" >0.570640</td>\n",
       "                        <td id=\"T_92b708d0_e885_11ea_b48b_525400612601row10_col7\" class=\"data row10 col7\" >0.546686</td>\n",
       "                        <td id=\"T_92b708d0_e885_11ea_b48b_525400612601row10_col8\" class=\"data row10 col8\" >0.653442</td>\n",
       "                        <td id=\"T_92b708d0_e885_11ea_b48b_525400612601row10_col9\" class=\"data row10 col9\" >0.634693</td>\n",
       "                        <td id=\"T_92b708d0_e885_11ea_b48b_525400612601row10_col10\" class=\"data row10 col10\" >1.000000</td>\n",
       "                        <td id=\"T_92b708d0_e885_11ea_b48b_525400612601row10_col11\" class=\"data row10 col11\" >0.734890</td>\n",
       "                        <td id=\"T_92b708d0_e885_11ea_b48b_525400612601row10_col12\" class=\"data row10 col12\" >0.265989</td>\n",
       "                        <td id=\"T_92b708d0_e885_11ea_b48b_525400612601row10_col13\" class=\"data row10 col13\" >0.061366</td>\n",
       "                        <td id=\"T_92b708d0_e885_11ea_b48b_525400612601row10_col14\" class=\"data row10 col14\" >0.365398</td>\n",
       "                        <td id=\"T_92b708d0_e885_11ea_b48b_525400612601row10_col15\" class=\"data row10 col15\" >-0.210758</td>\n",
       "                        <td id=\"T_92b708d0_e885_11ea_b48b_525400612601row10_col16\" class=\"data row10 col16\" >0.728848</td>\n",
       "            </tr>\n",
       "            <tr>\n",
       "                        <th id=\"T_92b708d0_e885_11ea_b48b_525400612601level0_row11\" class=\"row_heading level0 row11\" >Internal_movement_restrictions</th>\n",
       "                        <td id=\"T_92b708d0_e885_11ea_b48b_525400612601row11_col0\" class=\"data row11 col0\" >0.035541</td>\n",
       "                        <td id=\"T_92b708d0_e885_11ea_b48b_525400612601row11_col1\" class=\"data row11 col1\" >0.060741</td>\n",
       "                        <td id=\"T_92b708d0_e885_11ea_b48b_525400612601row11_col2\" class=\"data row11 col2\" >0.064451</td>\n",
       "                        <td id=\"T_92b708d0_e885_11ea_b48b_525400612601row11_col3\" class=\"data row11 col3\" >-0.000718</td>\n",
       "                        <td id=\"T_92b708d0_e885_11ea_b48b_525400612601row11_col4\" class=\"data row11 col4\" >-0.326732</td>\n",
       "                        <td id=\"T_92b708d0_e885_11ea_b48b_525400612601row11_col5\" class=\"data row11 col5\" >0.261841</td>\n",
       "                        <td id=\"T_92b708d0_e885_11ea_b48b_525400612601row11_col6\" class=\"data row11 col6\" >0.485718</td>\n",
       "                        <td id=\"T_92b708d0_e885_11ea_b48b_525400612601row11_col7\" class=\"data row11 col7\" >0.382717</td>\n",
       "                        <td id=\"T_92b708d0_e885_11ea_b48b_525400612601row11_col8\" class=\"data row11 col8\" >0.629742</td>\n",
       "                        <td id=\"T_92b708d0_e885_11ea_b48b_525400612601row11_col9\" class=\"data row11 col9\" >0.750614</td>\n",
       "                        <td id=\"T_92b708d0_e885_11ea_b48b_525400612601row11_col10\" class=\"data row11 col10\" >0.734890</td>\n",
       "                        <td id=\"T_92b708d0_e885_11ea_b48b_525400612601row11_col11\" class=\"data row11 col11\" >1.000000</td>\n",
       "                        <td id=\"T_92b708d0_e885_11ea_b48b_525400612601row11_col12\" class=\"data row11 col12\" >0.205872</td>\n",
       "                        <td id=\"T_92b708d0_e885_11ea_b48b_525400612601row11_col13\" class=\"data row11 col13\" >-0.029820</td>\n",
       "                        <td id=\"T_92b708d0_e885_11ea_b48b_525400612601row11_col14\" class=\"data row11 col14\" >0.316167</td>\n",
       "                        <td id=\"T_92b708d0_e885_11ea_b48b_525400612601row11_col15\" class=\"data row11 col15\" >-0.325005</td>\n",
       "                        <td id=\"T_92b708d0_e885_11ea_b48b_525400612601row11_col16\" class=\"data row11 col16\" >0.657756</td>\n",
       "            </tr>\n",
       "            <tr>\n",
       "                        <th id=\"T_92b708d0_e885_11ea_b48b_525400612601level0_row12\" class=\"row_heading level0 row12\" >International_movement_restrictions</th>\n",
       "                        <td id=\"T_92b708d0_e885_11ea_b48b_525400612601row12_col0\" class=\"data row12 col0\" >-0.232148</td>\n",
       "                        <td id=\"T_92b708d0_e885_11ea_b48b_525400612601row12_col1\" class=\"data row12 col1\" >-0.025071</td>\n",
       "                        <td id=\"T_92b708d0_e885_11ea_b48b_525400612601row12_col2\" class=\"data row12 col2\" >0.091699</td>\n",
       "                        <td id=\"T_92b708d0_e885_11ea_b48b_525400612601row12_col3\" class=\"data row12 col3\" >0.196466</td>\n",
       "                        <td id=\"T_92b708d0_e885_11ea_b48b_525400612601row12_col4\" class=\"data row12 col4\" >0.100597</td>\n",
       "                        <td id=\"T_92b708d0_e885_11ea_b48b_525400612601row12_col5\" class=\"data row12 col5\" >0.521047</td>\n",
       "                        <td id=\"T_92b708d0_e885_11ea_b48b_525400612601row12_col6\" class=\"data row12 col6\" >0.200398</td>\n",
       "                        <td id=\"T_92b708d0_e885_11ea_b48b_525400612601row12_col7\" class=\"data row12 col7\" >-0.004720</td>\n",
       "                        <td id=\"T_92b708d0_e885_11ea_b48b_525400612601row12_col8\" class=\"data row12 col8\" >0.113250</td>\n",
       "                        <td id=\"T_92b708d0_e885_11ea_b48b_525400612601row12_col9\" class=\"data row12 col9\" >0.350625</td>\n",
       "                        <td id=\"T_92b708d0_e885_11ea_b48b_525400612601row12_col10\" class=\"data row12 col10\" >0.265989</td>\n",
       "                        <td id=\"T_92b708d0_e885_11ea_b48b_525400612601row12_col11\" class=\"data row12 col11\" >0.205872</td>\n",
       "                        <td id=\"T_92b708d0_e885_11ea_b48b_525400612601row12_col12\" class=\"data row12 col12\" >1.000000</td>\n",
       "                        <td id=\"T_92b708d0_e885_11ea_b48b_525400612601row12_col13\" class=\"data row12 col13\" >0.034782</td>\n",
       "                        <td id=\"T_92b708d0_e885_11ea_b48b_525400612601row12_col14\" class=\"data row12 col14\" >-0.040662</td>\n",
       "                        <td id=\"T_92b708d0_e885_11ea_b48b_525400612601row12_col15\" class=\"data row12 col15\" >-0.102861</td>\n",
       "                        <td id=\"T_92b708d0_e885_11ea_b48b_525400612601row12_col16\" class=\"data row12 col16\" >0.551960</td>\n",
       "            </tr>\n",
       "            <tr>\n",
       "                        <th id=\"T_92b708d0_e885_11ea_b48b_525400612601level0_row13\" class=\"row_heading level0 row13\" >Information_campaigns</th>\n",
       "                        <td id=\"T_92b708d0_e885_11ea_b48b_525400612601row13_col0\" class=\"data row13 col0\" >0.024697</td>\n",
       "                        <td id=\"T_92b708d0_e885_11ea_b48b_525400612601row13_col1\" class=\"data row13 col1\" >0.015112</td>\n",
       "                        <td id=\"T_92b708d0_e885_11ea_b48b_525400612601row13_col2\" class=\"data row13 col2\" >-0.114559</td>\n",
       "                        <td id=\"T_92b708d0_e885_11ea_b48b_525400612601row13_col3\" class=\"data row13 col3\" >-0.104262</td>\n",
       "                        <td id=\"T_92b708d0_e885_11ea_b48b_525400612601row13_col4\" class=\"data row13 col4\" >-0.161868</td>\n",
       "                        <td id=\"T_92b708d0_e885_11ea_b48b_525400612601row13_col5\" class=\"data row13 col5\" >-0.035554</td>\n",
       "                        <td id=\"T_92b708d0_e885_11ea_b48b_525400612601row13_col6\" class=\"data row13 col6\" >-0.003537</td>\n",
       "                        <td id=\"T_92b708d0_e885_11ea_b48b_525400612601row13_col7\" class=\"data row13 col7\" >-0.014579</td>\n",
       "                        <td id=\"T_92b708d0_e885_11ea_b48b_525400612601row13_col8\" class=\"data row13 col8\" >0.068103</td>\n",
       "                        <td id=\"T_92b708d0_e885_11ea_b48b_525400612601row13_col9\" class=\"data row13 col9\" >-0.079456</td>\n",
       "                        <td id=\"T_92b708d0_e885_11ea_b48b_525400612601row13_col10\" class=\"data row13 col10\" >0.061366</td>\n",
       "                        <td id=\"T_92b708d0_e885_11ea_b48b_525400612601row13_col11\" class=\"data row13 col11\" >-0.029820</td>\n",
       "                        <td id=\"T_92b708d0_e885_11ea_b48b_525400612601row13_col12\" class=\"data row13 col12\" >0.034782</td>\n",
       "                        <td id=\"T_92b708d0_e885_11ea_b48b_525400612601row13_col13\" class=\"data row13 col13\" >1.000000</td>\n",
       "                        <td id=\"T_92b708d0_e885_11ea_b48b_525400612601row13_col14\" class=\"data row13 col14\" >0.119607</td>\n",
       "                        <td id=\"T_92b708d0_e885_11ea_b48b_525400612601row13_col15\" class=\"data row13 col15\" >0.062823</td>\n",
       "                        <td id=\"T_92b708d0_e885_11ea_b48b_525400612601row13_col16\" class=\"data row13 col16\" >-0.000221</td>\n",
       "            </tr>\n",
       "            <tr>\n",
       "                        <th id=\"T_92b708d0_e885_11ea_b48b_525400612601level0_row14\" class=\"row_heading level0 row14\" >Testing_policy</th>\n",
       "                        <td id=\"T_92b708d0_e885_11ea_b48b_525400612601row14_col0\" class=\"data row14 col0\" >-0.063316</td>\n",
       "                        <td id=\"T_92b708d0_e885_11ea_b48b_525400612601row14_col1\" class=\"data row14 col1\" >-0.444347</td>\n",
       "                        <td id=\"T_92b708d0_e885_11ea_b48b_525400612601row14_col2\" class=\"data row14 col2\" >-0.352645</td>\n",
       "                        <td id=\"T_92b708d0_e885_11ea_b48b_525400612601row14_col3\" class=\"data row14 col3\" >-0.272678</td>\n",
       "                        <td id=\"T_92b708d0_e885_11ea_b48b_525400612601row14_col4\" class=\"data row14 col4\" >-0.320180</td>\n",
       "                        <td id=\"T_92b708d0_e885_11ea_b48b_525400612601row14_col5\" class=\"data row14 col5\" >0.038462</td>\n",
       "                        <td id=\"T_92b708d0_e885_11ea_b48b_525400612601row14_col6\" class=\"data row14 col6\" >0.044805</td>\n",
       "                        <td id=\"T_92b708d0_e885_11ea_b48b_525400612601row14_col7\" class=\"data row14 col7\" >0.133611</td>\n",
       "                        <td id=\"T_92b708d0_e885_11ea_b48b_525400612601row14_col8\" class=\"data row14 col8\" >0.294713</td>\n",
       "                        <td id=\"T_92b708d0_e885_11ea_b48b_525400612601row14_col9\" class=\"data row14 col9\" >0.073769</td>\n",
       "                        <td id=\"T_92b708d0_e885_11ea_b48b_525400612601row14_col10\" class=\"data row14 col10\" >0.365398</td>\n",
       "                        <td id=\"T_92b708d0_e885_11ea_b48b_525400612601row14_col11\" class=\"data row14 col11\" >0.316167</td>\n",
       "                        <td id=\"T_92b708d0_e885_11ea_b48b_525400612601row14_col12\" class=\"data row14 col12\" >-0.040662</td>\n",
       "                        <td id=\"T_92b708d0_e885_11ea_b48b_525400612601row14_col13\" class=\"data row14 col13\" >0.119607</td>\n",
       "                        <td id=\"T_92b708d0_e885_11ea_b48b_525400612601row14_col14\" class=\"data row14 col14\" >1.000000</td>\n",
       "                        <td id=\"T_92b708d0_e885_11ea_b48b_525400612601row14_col15\" class=\"data row14 col15\" >-0.018821</td>\n",
       "                        <td id=\"T_92b708d0_e885_11ea_b48b_525400612601row14_col16\" class=\"data row14 col16\" >-0.119100</td>\n",
       "            </tr>\n",
       "            <tr>\n",
       "                        <th id=\"T_92b708d0_e885_11ea_b48b_525400612601level0_row15\" class=\"row_heading level0 row15\" >Contact_tracing</th>\n",
       "                        <td id=\"T_92b708d0_e885_11ea_b48b_525400612601row15_col0\" class=\"data row15 col0\" >-0.234476</td>\n",
       "                        <td id=\"T_92b708d0_e885_11ea_b48b_525400612601row15_col1\" class=\"data row15 col1\" >-0.139617</td>\n",
       "                        <td id=\"T_92b708d0_e885_11ea_b48b_525400612601row15_col2\" class=\"data row15 col2\" >-0.214081</td>\n",
       "                        <td id=\"T_92b708d0_e885_11ea_b48b_525400612601row15_col3\" class=\"data row15 col3\" >-0.207972</td>\n",
       "                        <td id=\"T_92b708d0_e885_11ea_b48b_525400612601row15_col4\" class=\"data row15 col4\" >0.124882</td>\n",
       "                        <td id=\"T_92b708d0_e885_11ea_b48b_525400612601row15_col5\" class=\"data row15 col5\" >-0.406359</td>\n",
       "                        <td id=\"T_92b708d0_e885_11ea_b48b_525400612601row15_col6\" class=\"data row15 col6\" >-0.476008</td>\n",
       "                        <td id=\"T_92b708d0_e885_11ea_b48b_525400612601row15_col7\" class=\"data row15 col7\" >-0.166429</td>\n",
       "                        <td id=\"T_92b708d0_e885_11ea_b48b_525400612601row15_col8\" class=\"data row15 col8\" >-0.246727</td>\n",
       "                        <td id=\"T_92b708d0_e885_11ea_b48b_525400612601row15_col9\" class=\"data row15 col9\" >-0.249798</td>\n",
       "                        <td id=\"T_92b708d0_e885_11ea_b48b_525400612601row15_col10\" class=\"data row15 col10\" >-0.210758</td>\n",
       "                        <td id=\"T_92b708d0_e885_11ea_b48b_525400612601row15_col11\" class=\"data row15 col11\" >-0.325005</td>\n",
       "                        <td id=\"T_92b708d0_e885_11ea_b48b_525400612601row15_col12\" class=\"data row15 col12\" >-0.102861</td>\n",
       "                        <td id=\"T_92b708d0_e885_11ea_b48b_525400612601row15_col13\" class=\"data row15 col13\" >0.062823</td>\n",
       "                        <td id=\"T_92b708d0_e885_11ea_b48b_525400612601row15_col14\" class=\"data row15 col14\" >-0.018821</td>\n",
       "                        <td id=\"T_92b708d0_e885_11ea_b48b_525400612601row15_col15\" class=\"data row15 col15\" >1.000000</td>\n",
       "                        <td id=\"T_92b708d0_e885_11ea_b48b_525400612601row15_col16\" class=\"data row15 col16\" >-0.294428</td>\n",
       "            </tr>\n",
       "            <tr>\n",
       "                        <th id=\"T_92b708d0_e885_11ea_b48b_525400612601level0_row16\" class=\"row_heading level0 row16\" >Stringency_index</th>\n",
       "                        <td id=\"T_92b708d0_e885_11ea_b48b_525400612601row16_col0\" class=\"data row16 col0\" >-0.091266</td>\n",
       "                        <td id=\"T_92b708d0_e885_11ea_b48b_525400612601row16_col1\" class=\"data row16 col1\" >0.278094</td>\n",
       "                        <td id=\"T_92b708d0_e885_11ea_b48b_525400612601row16_col2\" class=\"data row16 col2\" >0.344003</td>\n",
       "                        <td id=\"T_92b708d0_e885_11ea_b48b_525400612601row16_col3\" class=\"data row16 col3\" >0.179185</td>\n",
       "                        <td id=\"T_92b708d0_e885_11ea_b48b_525400612601row16_col4\" class=\"data row16 col4\" >-0.074475</td>\n",
       "                        <td id=\"T_92b708d0_e885_11ea_b48b_525400612601row16_col5\" class=\"data row16 col5\" >0.637559</td>\n",
       "                        <td id=\"T_92b708d0_e885_11ea_b48b_525400612601row16_col6\" class=\"data row16 col6\" >0.686952</td>\n",
       "                        <td id=\"T_92b708d0_e885_11ea_b48b_525400612601row16_col7\" class=\"data row16 col7\" >0.532328</td>\n",
       "                        <td id=\"T_92b708d0_e885_11ea_b48b_525400612601row16_col8\" class=\"data row16 col8\" >0.583631</td>\n",
       "                        <td id=\"T_92b708d0_e885_11ea_b48b_525400612601row16_col9\" class=\"data row16 col9\" >0.792568</td>\n",
       "                        <td id=\"T_92b708d0_e885_11ea_b48b_525400612601row16_col10\" class=\"data row16 col10\" >0.728848</td>\n",
       "                        <td id=\"T_92b708d0_e885_11ea_b48b_525400612601row16_col11\" class=\"data row16 col11\" >0.657756</td>\n",
       "                        <td id=\"T_92b708d0_e885_11ea_b48b_525400612601row16_col12\" class=\"data row16 col12\" >0.551960</td>\n",
       "                        <td id=\"T_92b708d0_e885_11ea_b48b_525400612601row16_col13\" class=\"data row16 col13\" >-0.000221</td>\n",
       "                        <td id=\"T_92b708d0_e885_11ea_b48b_525400612601row16_col14\" class=\"data row16 col14\" >-0.119100</td>\n",
       "                        <td id=\"T_92b708d0_e885_11ea_b48b_525400612601row16_col15\" class=\"data row16 col15\" >-0.294428</td>\n",
       "                        <td id=\"T_92b708d0_e885_11ea_b48b_525400612601row16_col16\" class=\"data row16 col16\" >1.000000</td>\n",
       "            </tr>\n",
       "    </tbody></table>"
      ],
      "text/plain": [
       "<pandas.io.formats.style.Styler at 0x7f5850a8b520>"
      ]
     },
     "execution_count": 21,
     "metadata": {},
     "output_type": "execute_result"
    }
   ],
   "source": [
    "# Correlation\n",
    "df = track_df.copy()\n",
    "df.corr().style.background_gradient(axis=None)"
   ]
  },
  {
   "cell_type": "code",
   "execution_count": 22,
   "metadata": {
    "collapsed": false
   },
   "outputs": [
    {
     "data": {
      "image/png": "[encoded data removed]",
      "text/plain": [
       "<Figure size 432x288 with 1 Axes>"
      ]
     },
     "metadata": {},
     "output_type": "display_data"
    }
   ],
   "source": [
    "# Scatter plot of Stringency index and Rt\n",
    "df = track_df.copy()\n",
    "sns.scatterplot(data=df, x=\"Stringency_index\", y=\"Rt\", hue=\"Country\", legend=\"brief\", marker=\"+\")\n",
    "bbox_to_anchor=(1.02, 0)\n",
    "bbox_loc=\"lower left\"\n",
    "plt.legend(bbox_to_anchor=bbox_to_anchor, loc=bbox_loc, borderaxespad=0)\n",
    "plt.title(\"Relationship of Stringency index and reproduction number\")\n",
    "plt.ylabel(\"Reproduction number\")\n",
    "plt.xlabel(\"Stringency index\")\n",
    "plt.show()"
   ]
  }
 ],
 "metadata": {
  "kernelspec": {
   "display_name": "Python 3.8.2 64-bit ('.venv': venv)",
   "name": "python_defaultSpec_1597669925034"
  },
  "language_info": {
   "codemirror_mode": {
    "name": "ipython",
    "version": 3
   },
   "file_extension": ".py",
   "mimetype": "text/x-python",
   "name": "python",
   "nbconvert_exporter": "python",
   "pygments_lexer": "ipython3",
   "version": "3.8.2-final"
  }
 },
 "nbformat": 4,
 "nbformat_minor": 4
}
