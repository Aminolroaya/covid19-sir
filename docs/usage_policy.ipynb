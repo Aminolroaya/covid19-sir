{
 "cells": [
  {
   "cell_type": "markdown",
   "metadata": {},
   "source": [
    "# Usage (details: policy measures)\n",
    "Here, we will analyse the relationship of policy measures and parameter values of SIR-derived ODE models. Policy measures are tracked by [Oxford Covid-19 Government Response Tracker (OxCGRT)](https://github.com/OxCGRT/covid-policy-tracker)."
   ]
  },
  {
   "cell_type": "markdown",
   "metadata": {},
   "source": [
    "## Preparation"
   ]
  },
  {
   "cell_type": "code",
   "execution_count": 1,
   "metadata": {
    "collapsed": false
   },
   "outputs": [],
   "source": [
    "# Standard users\n",
    "# !pip install covsirphy\n",
    "# Developers (Note: this notebook is in example directory)\n",
    "import os\n",
    "os.chdir(\"../\")"
   ]
  },
  {
   "cell_type": "code",
   "execution_count": 2,
   "metadata": {
    "collapsed": false
   },
   "outputs": [],
   "source": [
    "from pprint import pprint"
   ]
  },
  {
   "cell_type": "code",
   "execution_count": 3,
   "metadata": {
    "collapsed": false
   },
   "outputs": [
    {
     "data": {
      "text/plain": [
       "'2.12.0-iota.new.362.366.367.fix.360.373.solving.357.359'"
      ]
     },
     "execution_count": 3,
     "metadata": {},
     "output_type": "execute_result"
    }
   ],
   "source": [
    "import covsirphy as cs\n",
    "cs.__version__"
   ]
  },
  {
   "cell_type": "code",
   "execution_count": 4,
   "metadata": {
    "collapsed": false,
    "tags": []
   },
   "outputs": [
    {
     "name": "stdout",
     "output_type": "stream",
     "text": [
      "(Secondary source) Guidotti, E., Ardia, D., (2020), \"COVID-19 Data Hub\", Journal of Open Source Software 5(51):2376, doi: 10.21105/joss.02376.\n"
     ]
    }
   ],
   "source": [
    "# Standard users and developers\n",
    "data_loader = cs.DataLoader(\"input\")\n",
    "# The number of cases (JHU style)\n",
    "jhu_data = data_loader.jhu(verbose=False)\n",
    "# Population in each country\n",
    "population_data = data_loader.population(verbose=False)\n",
    "# Government Response Tracker (OxCGRT)\n",
    "oxcgrt_data = data_loader.oxcgrt(verbose=False)\n",
    "# Description/citation\n",
    "print(oxcgrt_data.citation)"
   ]
  },
  {
   "cell_type": "markdown",
   "metadata": {},
   "source": [
    "## Class for policy measure analysis\n",
    "We will `PolicyMeasures` class to find relationship of policy measures and parameter values of SIR-derived ODE models."
   ]
  },
  {
   "cell_type": "code",
   "execution_count": 5,
   "metadata": {
    "collapsed": false,
    "tags": []
   },
   "outputs": [
    {
     "name": "stderr",
     "output_type": "stream",
     "text": [
      "/home/runner/.local/share/virtualenvs/covid19-sir-kT3BL-HO/lib/python3.8/site-packages/scipy/interpolate/fitpack2.py:253: UserWarning: \n",
      "The maximal number of iterations maxit (set to 20 by the program)\n",
      "allowed for finding a smoothing spline with fp=s has been reached: s\n",
      "too small.\n",
      "There is an approximation returned but the corresponding weighted sum\n",
      "of squared residuals does not satisfy the condition abs(fp-s)/s < tol.\n",
      "  warnings.warn(message)\n"
     ]
    },
    {
     "data": {
      "text/plain": [
       "195"
      ]
     },
     "execution_count": 5,
     "metadata": {},
     "output_type": "execute_result"
    }
   ],
   "source": [
    "# Create analyser with tau value 360 [min] (can be changed)\n",
    "analyser = cs.PolicyMeasures(jhu_data, population_data, oxcgrt_data, tau=360)\n",
    "# The number of registerd countries\n",
    "len(analyser.countries)"
   ]
  },
  {
   "cell_type": "code",
   "execution_count": 6,
   "metadata": {
    "collapsed": false
   },
   "outputs": [
    {
     "data": {
      "text/plain": [
       "covsirphy.analysis.scenario.Scenario"
      ]
     },
     "execution_count": 6,
     "metadata": {},
     "output_type": "execute_result"
    }
   ],
   "source": [
    "# We can get Scenario instance for detailed scenario analysis\n",
    "type(analyser.scenario(\"Japan\"))"
   ]
  },
  {
   "cell_type": "markdown",
   "metadata": {},
   "source": [
    "## Set phases with S-R trend analysis\n",
    "We will perform S-R trend analysis to set phases in all countries. Countries which do not have **16th phases** will be un-registered for the next analysis. This number will be adjusted for your analysis."
   ]
  },
  {
   "cell_type": "code",
   "execution_count": 7,
   "metadata": {
    "collapsed": false
   },
   "outputs": [
    {
     "name": "stdout",
     "output_type": "stream",
     "text": [
      "{2: ['Holy See'],\n",
      " 3: ['Grenada', 'Fiji', 'Tanzania'],\n",
      " 4: ['Dominica', 'Saint Vincent and the Grenadines', 'Saint Lucia'],\n",
      " 5: ['Equatorial Guinea', 'Brunei', 'Seychelles'],\n",
      " 6: ['Antigua and Barbuda', 'Northern Mariana Islands', 'Cambodia'],\n",
      " 7: ['Kazakhstan', 'Mauritius', 'Gambia', 'Liechtenstein'],\n",
      " 8: ['Malawi', 'Bahamas', 'Republic of the Congo', 'Lesotho',\n",
      "     'Virgin Islands, U.S.', 'Kyrgyzstan', 'Madagascar', 'Trinidad and Tobago',\n",
      "     'Vietnam', 'Sao Tome and Principe'],\n",
      " 9: ['Zambia', 'Guam', 'Uzbekistan', 'Burundi', 'Barbados', 'Swaziland',\n",
      "     'Rwanda', 'Eritrea', 'Bhutan', 'Oman', 'Guyana', 'Monaco', 'Senegal',\n",
      "     'Suriname', 'Venezuela', 'Mongolia', 'Bolivia', 'South Africa', 'Benin',\n",
      "     'Australia', 'Zimbabwe', 'Singapore', 'Namibia', 'Ghana', 'Djibouti'],\n",
      " 10: ['Comoros', 'El Salvador', 'Belize', 'Philippines', 'Bahrain', 'Chile',\n",
      "      'Ethiopia', 'Myanmar', 'Jamaica', 'Dominican Republic', 'Saudi Arabia',\n",
      "      'New Zealand', 'Bangladesh', 'Bermuda', 'Honduras', 'Kuwait', 'Kenya',\n",
      "      'Brazil', 'Central African Republic', 'Gabon', 'Syria', 'Botswana',\n",
      "      'Iraq', 'Sudan', 'Egypt', 'Mexico', \"Cote d'Ivoire\", 'Nigeria',\n",
      "      'Colombia', 'Maldives', 'Liberia', 'Papua New Guinea', 'Guatemala',\n",
      "      'Peru', 'Libya'],\n",
      " 11: ['Uganda', 'Cameroon', 'Mozambique', 'Nicaragua', 'Angola', 'Pakistan',\n",
      "      'Paraguay', 'Yemen', 'Cape Verde', 'Puerto Rico', 'Taiwan', 'Ecuador',\n",
      "      'Algeria', 'Jordan', 'Chad', 'Togo', 'Israel', 'Panama', 'Sierra Leone',\n",
      "      'Guinea-Bissau', 'India', 'Sri Lanka', 'Guinea', 'Kosovo', 'Costa Rica'],\n",
      " 12: ['Nepal', 'Hungary', 'Haiti', 'Qatar', 'Malta', 'Cuba', 'Luxembourg',\n",
      "      'Montenegro', 'Tajikistan', 'China', 'Indonesia', 'Niger', 'San Marino',\n",
      "      'South Sudan', 'Croatia', 'Iceland', 'United Arab Emirates', 'Japan',\n",
      "      'Azerbaijan', 'Palestine', 'Serbia', 'Argentina',\n",
      "      'Democratic Republic of the Congo'],\n",
      " 13: ['Slovenia', 'Greece', 'Latvia', 'Georgia', 'Belarus', 'Uruguay',\n",
      "      'Afghanistan', 'Burkina Faso', 'Bosnia and Herzegovina', 'Poland',\n",
      "      'Cyprus', 'Russia', 'United States', 'Mauritania', 'Somalia', 'Armenia',\n",
      "      'North Macedonia', 'Mali', 'Tunisia', 'Albania', 'Norway', 'Bulgaria',\n",
      "      'Ireland', 'Moldova', 'Lithuania'],\n",
      " 14: ['Italy', 'Czech Republic', 'Estonia', 'Switzerland', 'Ukraine',\n",
      "      'Thailand', 'Romania', 'Iran', 'Slovakia', 'Austria', 'Morocco', 'Sweden',\n",
      "      'Malaysia'],\n",
      " 15: ['Germany', 'United Kingdom', 'Lebanon', 'Belgium', 'France', 'Turkey',\n",
      "      'Netherlands', 'Andorra', 'Denmark'],\n",
      " 16: ['Canada', 'Finland', 'Portugal'],\n",
      " 17: ['Spain']}\n"
     ]
    }
   ],
   "source": [
    "# Show the number of phases of all countries\n",
    "analyser.trend()\n",
    "pprint(analyser.phase_len(), compact=True)"
   ]
  },
  {
   "cell_type": "code",
   "execution_count": 8,
   "metadata": {
    "collapsed": false
   },
   "outputs": [
    {
     "data": {
      "text/plain": [
       "4"
      ]
     },
     "execution_count": 8,
     "metadata": {},
     "output_type": "execute_result"
    }
   ],
   "source": [
    "# Set phases with S-R trend analysis\n",
    "analyser.trend(min_len=16)\n",
    "# The number of countries\n",
    "len(analyser.countries)"
   ]
  },
  {
   "cell_type": "code",
   "execution_count": 9,
   "metadata": {
    "collapsed": false,
    "tags": []
   },
   "outputs": [
    {
     "name": "stdout",
     "output_type": "stream",
     "text": [
      "{16: ['Canada', 'Finland', 'Portugal'], 17: ['Spain']}\n"
     ]
    }
   ],
   "source": [
    "phase_len_dict = analyser.phase_len()\n",
    "pprint(phase_len_dict, compact=True)"
   ]
  },
  {
   "cell_type": "code",
   "execution_count": 10,
   "metadata": {
    "collapsed": false,
    "tags": []
   },
   "outputs": [
    {
     "data": {
      "text/html": [
       "<div>\n",
       "<style scoped>\n",
       "    .dataframe tbody tr th:only-of-type {\n",
       "        vertical-align: middle;\n",
       "    }\n",
       "\n",
       "    .dataframe tbody tr th {\n",
       "        vertical-align: top;\n",
       "    }\n",
       "\n",
       "    .dataframe thead th {\n",
       "        text-align: right;\n",
       "    }\n",
       "</style>\n",
       "<table border=\"1\" class=\"dataframe\">\n",
       "  <thead>\n",
       "    <tr style=\"text-align: right;\">\n",
       "      <th></th>\n",
       "      <th></th>\n",
       "      <th>Type</th>\n",
       "      <th>Start</th>\n",
       "      <th>End</th>\n",
       "      <th>Population</th>\n",
       "    </tr>\n",
       "    <tr>\n",
       "      <th>Country</th>\n",
       "      <th>Phase</th>\n",
       "      <th></th>\n",
       "      <th></th>\n",
       "      <th></th>\n",
       "      <th></th>\n",
       "    </tr>\n",
       "  </thead>\n",
       "  <tbody>\n",
       "    <tr>\n",
       "      <th rowspan=\"17\" valign=\"top\">Spain</th>\n",
       "      <th>0th</th>\n",
       "      <td>Past</td>\n",
       "      <td>05Mar2020</td>\n",
       "      <td>25Mar2020</td>\n",
       "      <td>46796540</td>\n",
       "    </tr>\n",
       "    <tr>\n",
       "      <th>1st</th>\n",
       "      <td>Past</td>\n",
       "      <td>26Mar2020</td>\n",
       "      <td>07Apr2020</td>\n",
       "      <td>46796540</td>\n",
       "    </tr>\n",
       "    <tr>\n",
       "      <th>2nd</th>\n",
       "      <td>Past</td>\n",
       "      <td>08Apr2020</td>\n",
       "      <td>30Apr2020</td>\n",
       "      <td>46796540</td>\n",
       "    </tr>\n",
       "    <tr>\n",
       "      <th>3rd</th>\n",
       "      <td>Past</td>\n",
       "      <td>01May2020</td>\n",
       "      <td>23Jul2020</td>\n",
       "      <td>46796540</td>\n",
       "    </tr>\n",
       "    <tr>\n",
       "      <th>4th</th>\n",
       "      <td>Past</td>\n",
       "      <td>24Jul2020</td>\n",
       "      <td>13Aug2020</td>\n",
       "      <td>46796540</td>\n",
       "    </tr>\n",
       "    <tr>\n",
       "      <th>5th</th>\n",
       "      <td>Past</td>\n",
       "      <td>14Aug2020</td>\n",
       "      <td>27Aug2020</td>\n",
       "      <td>46796540</td>\n",
       "    </tr>\n",
       "    <tr>\n",
       "      <th>6th</th>\n",
       "      <td>Past</td>\n",
       "      <td>28Aug2020</td>\n",
       "      <td>08Sep2020</td>\n",
       "      <td>46796540</td>\n",
       "    </tr>\n",
       "    <tr>\n",
       "      <th>7th</th>\n",
       "      <td>Past</td>\n",
       "      <td>09Sep2020</td>\n",
       "      <td>17Sep2020</td>\n",
       "      <td>46796540</td>\n",
       "    </tr>\n",
       "    <tr>\n",
       "      <th>8th</th>\n",
       "      <td>Past</td>\n",
       "      <td>18Sep2020</td>\n",
       "      <td>27Sep2020</td>\n",
       "      <td>46796540</td>\n",
       "    </tr>\n",
       "    <tr>\n",
       "      <th>9th</th>\n",
       "      <td>Past</td>\n",
       "      <td>28Sep2020</td>\n",
       "      <td>07Oct2020</td>\n",
       "      <td>46796540</td>\n",
       "    </tr>\n",
       "    <tr>\n",
       "      <th>10th</th>\n",
       "      <td>Past</td>\n",
       "      <td>08Oct2020</td>\n",
       "      <td>15Oct2020</td>\n",
       "      <td>46796540</td>\n",
       "    </tr>\n",
       "    <tr>\n",
       "      <th>11th</th>\n",
       "      <td>Past</td>\n",
       "      <td>16Oct2020</td>\n",
       "      <td>22Oct2020</td>\n",
       "      <td>46796540</td>\n",
       "    </tr>\n",
       "    <tr>\n",
       "      <th>12th</th>\n",
       "      <td>Past</td>\n",
       "      <td>23Oct2020</td>\n",
       "      <td>29Oct2020</td>\n",
       "      <td>46796540</td>\n",
       "    </tr>\n",
       "    <tr>\n",
       "      <th>13th</th>\n",
       "      <td>Past</td>\n",
       "      <td>30Oct2020</td>\n",
       "      <td>05Nov2020</td>\n",
       "      <td>46796540</td>\n",
       "    </tr>\n",
       "    <tr>\n",
       "      <th>14th</th>\n",
       "      <td>Past</td>\n",
       "      <td>06Nov2020</td>\n",
       "      <td>12Nov2020</td>\n",
       "      <td>46796540</td>\n",
       "    </tr>\n",
       "    <tr>\n",
       "      <th>15th</th>\n",
       "      <td>Past</td>\n",
       "      <td>13Nov2020</td>\n",
       "      <td>19Nov2020</td>\n",
       "      <td>46796540</td>\n",
       "    </tr>\n",
       "    <tr>\n",
       "      <th>16th</th>\n",
       "      <td>Past</td>\n",
       "      <td>20Nov2020</td>\n",
       "      <td>02Dec2020</td>\n",
       "      <td>46796540</td>\n",
       "    </tr>\n",
       "  </tbody>\n",
       "</table>\n",
       "</div>"
      ],
      "text/plain": [
       "               Type      Start        End  Population\n",
       "Country Phase                                        \n",
       "Spain   0th    Past  05Mar2020  25Mar2020    46796540\n",
       "        1st    Past  26Mar2020  07Apr2020    46796540\n",
       "        2nd    Past  08Apr2020  30Apr2020    46796540\n",
       "        3rd    Past  01May2020  23Jul2020    46796540\n",
       "        4th    Past  24Jul2020  13Aug2020    46796540\n",
       "        5th    Past  14Aug2020  27Aug2020    46796540\n",
       "        6th    Past  28Aug2020  08Sep2020    46796540\n",
       "        7th    Past  09Sep2020  17Sep2020    46796540\n",
       "        8th    Past  18Sep2020  27Sep2020    46796540\n",
       "        9th    Past  28Sep2020  07Oct2020    46796540\n",
       "        10th   Past  08Oct2020  15Oct2020    46796540\n",
       "        11th   Past  16Oct2020  22Oct2020    46796540\n",
       "        12th   Past  23Oct2020  29Oct2020    46796540\n",
       "        13th   Past  30Oct2020  05Nov2020    46796540\n",
       "        14th   Past  06Nov2020  12Nov2020    46796540\n",
       "        15th   Past  13Nov2020  19Nov2020    46796540\n",
       "        16th   Past  20Nov2020  02Dec2020    46796540"
      ]
     },
     "execution_count": 10,
     "metadata": {},
     "output_type": "execute_result"
    }
   ],
   "source": [
    "# Here, only show the countries which have the most phases\n",
    "countries_show = max(phase_len_dict.items(), key=lambda x: x[0])[1]\n",
    "# Show summary\n",
    "analyser.summary(countries=countries_show)"
   ]
  },
  {
   "cell_type": "markdown",
   "metadata": {},
   "source": [
    "## Parameter estimation\n",
    "we will estimate the parameter values with SIR-derived ODE models in each country."
   ]
  },
  {
   "cell_type": "code",
   "execution_count": 11,
   "metadata": {
    "collapsed": false,
    "tags": []
   },
   "outputs": [
    {
     "name": "stdout",
     "output_type": "stream",
     "text": [
      "\n",
      "<SIR-F model: parameter estimation>\n",
      "Running optimization with 4 CPUs...\n"
     ]
    },
    {
     "name": "stdout",
     "output_type": "stream",
     "text": [
      "\tCAN,  9th phase (05Oct2020 - 16Oct2020): finished  191 trials in 0 min 10 sec"
     ]
    },
    {
     "name": "stdout",
     "output_type": "stream",
     "text": [
      "\n"
     ]
    },
    {
     "name": "stdout",
     "output_type": "stream",
     "text": [
      "\tCAN,  1st phase (06Apr2020 - 18Apr2020): finished  191 trials in 0 min 10 sec"
     ]
    },
    {
     "name": "stdout",
     "output_type": "stream",
     "text": [
      "\n"
     ]
    },
    {
     "name": "stdout",
     "output_type": "stream",
     "text": [
      "\tPRT,  0th phase (14Mar2020 - 01Apr2020): finished  186 trials in 0 min 10 sec"
     ]
    },
    {
     "name": "stdout",
     "output_type": "stream",
     "text": [
      "\n"
     ]
    },
    {
     "name": "stdout",
     "output_type": "stream",
     "text": [
      "\tCAN,  7th phase (30Aug2020 - 20Sep2020): finished  182 trials in 0 min 10 sec"
     ]
    },
    {
     "name": "stdout",
     "output_type": "stream",
     "text": [
      "\n"
     ]
    },
    {
     "name": "stdout",
     "output_type": "stream",
     "text": [
      "\tESP,  6th phase (28Aug2020 - 08Sep2020): finished  141 trials in 0 min 10 sec"
     ]
    },
    {
     "name": "stdout",
     "output_type": "stream",
     "text": [
      "\n"
     ]
    },
    {
     "name": "stdout",
     "output_type": "stream",
     "text": [
      "\tCAN, 10th phase (17Oct2020 - 26Oct2020): finished  136 trials in 0 min 10 sec"
     ]
    },
    {
     "name": "stdout",
     "output_type": "stream",
     "text": [
      "\n"
     ]
    },
    {
     "name": "stdout",
     "output_type": "stream",
     "text": [
      "\tESP, 14th phase (06Nov2020 - 12Nov2020): finished  142 trials in 0 min 10 sec"
     ]
    },
    {
     "name": "stdout",
     "output_type": "stream",
     "text": [
      "\n"
     ]
    },
    {
     "name": "stdout",
     "output_type": "stream",
     "text": [
      "\tESP,  0th phase (05Mar2020 - 25Mar2020): finished  138 trials in 0 min 10 sec"
     ]
    },
    {
     "name": "stdout",
     "output_type": "stream",
     "text": [
      "\n"
     ]
    },
    {
     "name": "stdout",
     "output_type": "stream",
     "text": [
      "\tCAN,  3rd phase (02May2020 - 18May2020): finished  158 trials in 0 min 10 sec"
     ]
    },
    {
     "name": "stdout",
     "output_type": "stream",
     "text": [
      "\n"
     ]
    },
    {
     "name": "stdout",
     "output_type": "stream",
     "text": [
      "\tESP, 13th phase (30Oct2020 - 05Nov2020): finished  153 trials in 0 min 10 sec"
     ]
    },
    {
     "name": "stdout",
     "output_type": "stream",
     "text": [
      "\n"
     ]
    },
    {
     "name": "stdout",
     "output_type": "stream",
     "text": [
      "\tFIN, 10th phase (20Oct2020 - 28Oct2020): finished  155 trials in 0 min 10 sec"
     ]
    },
    {
     "name": "stdout",
     "output_type": "stream",
     "text": [
      "\n"
     ]
    },
    {
     "name": "stdout",
     "output_type": "stream",
     "text": [
      "\tPRT,  8th phase (24Sep2020 - 07Oct2020): finished  160 trials in 0 min 10 sec"
     ]
    },
    {
     "name": "stdout",
     "output_type": "stream",
     "text": [
      "\n"
     ]
    },
    {
     "name": "stdout",
     "output_type": "stream",
     "text": [
      "\tESP,  5th phase (14Aug2020 - 27Aug2020): finished  175 trials in 0 min 10 sec"
     ]
    },
    {
     "name": "stdout",
     "output_type": "stream",
     "text": [
      "\n"
     ]
    },
    {
     "name": "stdout",
     "output_type": "stream",
     "text": [
      "\tPRT,  4th phase (15Jun2020 - 08Jul2020): finished  176 trials in 0 min 10 sec"
     ]
    },
    {
     "name": "stdout",
     "output_type": "stream",
     "text": [
      "\n"
     ]
    },
    {
     "name": "stdout",
     "output_type": "stream",
     "text": [
      "\tCAN, 12th phase (05Nov2020 - 11Nov2020): finished  183 trials in 0 min 10 sec"
     ]
    },
    {
     "name": "stdout",
     "output_type": "stream",
     "text": [
      "\n"
     ]
    },
    {
     "name": "stdout",
     "output_type": "stream",
     "text": [
      "\tCAN, 11th phase (27Oct2020 - 04Nov2020): finished  178 trials in 0 min 10 sec"
     ]
    },
    {
     "name": "stdout",
     "output_type": "stream",
     "text": [
      "\n"
     ]
    },
    {
     "name": "stdout",
     "output_type": "stream",
     "text": [
      "\tESP,  2nd phase (08Apr2020 - 30Apr2020): finished  161 trials in 0 min 10 sec"
     ]
    },
    {
     "name": "stdout",
     "output_type": "stream",
     "text": [
      "\n"
     ]
    },
    {
     "name": "stdout",
     "output_type": "stream",
     "text": [
      "\tCAN,  6th phase (23Jul2020 - 29Aug2020): finished  149 trials in 0 min 10 sec"
     ]
    },
    {
     "name": "stdout",
     "output_type": "stream",
     "text": [
      "\n"
     ]
    },
    {
     "name": "stdout",
     "output_type": "stream",
     "text": [
      "\tFIN, 11th phase (29Oct2020 - 04Nov2020): finished  137 trials in 0 min 10 sec"
     ]
    },
    {
     "name": "stdout",
     "output_type": "stream",
     "text": [
      "\n"
     ]
    },
    {
     "name": "stdout",
     "output_type": "stream",
     "text": [
      "\tFIN,  3rd phase (02May2020 - 20May2020): finished  150 trials in 0 min 10 sec"
     ]
    },
    {
     "name": "stdout",
     "output_type": "stream",
     "text": [
      "\n"
     ]
    },
    {
     "name": "stdout",
     "output_type": "stream",
     "text": [
      "\tPRT, 11th phase (23Oct2020 - 28Oct2020): finished  142 trials in 0 min 10 sec"
     ]
    },
    {
     "name": "stdout",
     "output_type": "stream",
     "text": [
      "\n"
     ]
    },
    {
     "name": "stdout",
     "output_type": "stream",
     "text": [
      "\tPRT, 13th phase (05Nov2020 - 14Nov2020): finished  142 trials in 0 min 10 sec"
     ]
    },
    {
     "name": "stdout",
     "output_type": "stream",
     "text": [
      "\n"
     ]
    },
    {
     "name": "stdout",
     "output_type": "stream",
     "text": [
      "\tESP,  3rd phase (01May2020 - 23Jul2020): finished  120 trials in 0 min 10 sec"
     ]
    },
    {
     "name": "stdout",
     "output_type": "stream",
     "text": [
      "\n"
     ]
    },
    {
     "name": "stdout",
     "output_type": "stream",
     "text": [
      "\tFIN,  7th phase (24Sep2020 - 04Oct2020): finished  141 trials in 0 min 10 sec"
     ]
    },
    {
     "name": "stdout",
     "output_type": "stream",
     "text": [
      "\n"
     ]
    },
    {
     "name": "stdout",
     "output_type": "stream",
     "text": [
      "\tESP,  1st phase (26Mar2020 - 07Apr2020): finished  127 trials in 0 min 10 sec"
     ]
    },
    {
     "name": "stdout",
     "output_type": "stream",
     "text": [
      "\n"
     ]
    },
    {
     "name": "stdout",
     "output_type": "stream",
     "text": [
      "\tFIN,  4th phase (21May2020 - 06Aug2020): finished  108 trials in 0 min 10 sec"
     ]
    },
    {
     "name": "stdout",
     "output_type": "stream",
     "text": [
      "\n"
     ]
    },
    {
     "name": "stdout",
     "output_type": "stream",
     "text": [
      "\tESP, 16th phase (20Nov2020 - 02Dec2020): finished  123 trials in 0 min 10 sec"
     ]
    },
    {
     "name": "stdout",
     "output_type": "stream",
     "text": [
      "\n"
     ]
    },
    {
     "name": "stdout",
     "output_type": "stream",
     "text": [
      "\tFIN,  9th phase (12Oct2020 - 19Oct2020): finished  128 trials in 0 min 10 sec"
     ]
    },
    {
     "name": "stdout",
     "output_type": "stream",
     "text": [
      "\n"
     ]
    },
    {
     "name": "stdout",
     "output_type": "stream",
     "text": [
      "\tESP,  7th phase (09Sep2020 - 17Sep2020): finished  141 trials in 0 min 10 sec"
     ]
    },
    {
     "name": "stdout",
     "output_type": "stream",
     "text": [
      "\n"
     ]
    },
    {
     "name": "stdout",
     "output_type": "stream",
     "text": [
      "\tCAN,  8th phase (21Sep2020 - 04Oct2020): finished  133 trials in 0 min 10 sec"
     ]
    },
    {
     "name": "stdout",
     "output_type": "stream",
     "text": [
      "\n"
     ]
    },
    {
     "name": "stdout",
     "output_type": "stream",
     "text": [
      "\tCAN, 15th phase (26Nov2020 - 02Dec2020): finished  126 trials in 0 min 10 sec"
     ]
    },
    {
     "name": "stdout",
     "output_type": "stream",
     "text": [
      "\n"
     ]
    },
    {
     "name": "stdout",
     "output_type": "stream",
     "text": [
      "\tESP, 11th phase (16Oct2020 - 22Oct2020): finished  139 trials in 0 min 10 sec"
     ]
    },
    {
     "name": "stdout",
     "output_type": "stream",
     "text": [
      "\n"
     ]
    },
    {
     "name": "stdout",
     "output_type": "stream",
     "text": [
      "\tCAN,  4th phase (19May2020 - 08Jun2020): finished  150 trials in 0 min 10 sec"
     ]
    },
    {
     "name": "stdout",
     "output_type": "stream",
     "text": [
      "\n"
     ]
    },
    {
     "name": "stdout",
     "output_type": "stream",
     "text": [
      "\tFIN, 13th phase (12Nov2020 - 19Nov2020): finished  150 trials in 0 min 10 sec"
     ]
    },
    {
     "name": "stdout",
     "output_type": "stream",
     "text": [
      "\n"
     ]
    },
    {
     "name": "stdout",
     "output_type": "stream",
     "text": [
      "\tPRT,  3rd phase (18May2020 - 14Jun2020): finished  145 trials in 0 min 10 sec"
     ]
    },
    {
     "name": "stdout",
     "output_type": "stream",
     "text": [
      "\n"
     ]
    },
    {
     "name": "stdout",
     "output_type": "stream",
     "text": [
      "\tCAN, 14th phase (19Nov2020 - 25Nov2020): finished  157 trials in 0 min 10 sec"
     ]
    },
    {
     "name": "stdout",
     "output_type": "stream",
     "text": [
      "\n"
     ]
    },
    {
     "name": "stdout",
     "output_type": "stream",
     "text": [
      "\tFIN,  2nd phase (18Apr2020 - 01May2020): finished  164 trials in 0 min 10 sec"
     ]
    },
    {
     "name": "stdout",
     "output_type": "stream",
     "text": [
      "\n"
     ]
    },
    {
     "name": "stdout",
     "output_type": "stream",
     "text": [
      "\tFIN,  0th phase (16Mar2020 - 04Apr2020): finished  160 trials in 0 min 10 sec"
     ]
    },
    {
     "name": "stdout",
     "output_type": "stream",
     "text": [
      "\n"
     ]
    },
    {
     "name": "stdout",
     "output_type": "stream",
     "text": [
      "\tFIN,  1st phase (05Apr2020 - 17Apr2020): finished  160 trials in 0 min 10 sec"
     ]
    },
    {
     "name": "stdout",
     "output_type": "stream",
     "text": [
      "\n"
     ]
    },
    {
     "name": "stdout",
     "output_type": "stream",
     "text": [
      "\tPRT,  5th phase (09Jul2020 - 12Aug2020): finished  149 trials in 0 min 10 sec"
     ]
    },
    {
     "name": "stdout",
     "output_type": "stream",
     "text": [
      "\n"
     ]
    },
    {
     "name": "stdout",
     "output_type": "stream",
     "text": [
      "\tCAN,  2nd phase (19Apr2020 - 01May2020): finished  150 trials in 0 min 10 sec"
     ]
    },
    {
     "name": "stdout",
     "output_type": "stream",
     "text": [
      "\n"
     ]
    },
    {
     "name": "stdout",
     "output_type": "stream",
     "text": [
      "\tESP,  4th phase (24Jul2020 - 13Aug2020): finished  145 trials in 0 min 10 sec"
     ]
    },
    {
     "name": "stdout",
     "output_type": "stream",
     "text": [
      "\n"
     ]
    },
    {
     "name": "stdout",
     "output_type": "stream",
     "text": [
      "\tESP, 10th phase (08Oct2020 - 15Oct2020): finished  140 trials in 0 min 10 sec"
     ]
    },
    {
     "name": "stdout",
     "output_type": "stream",
     "text": [
      "\n"
     ]
    },
    {
     "name": "stdout",
     "output_type": "stream",
     "text": [
      "\tCAN, 13th phase (12Nov2020 - 18Nov2020): finished  139 trials in 0 min 10 sec"
     ]
    },
    {
     "name": "stdout",
     "output_type": "stream",
     "text": [
      "\n"
     ]
    },
    {
     "name": "stdout",
     "output_type": "stream",
     "text": [
      "\tESP, 15th phase (13Nov2020 - 19Nov2020): finished  156 trials in 0 min 10 sec"
     ]
    },
    {
     "name": "stdout",
     "output_type": "stream",
     "text": [
      "\n"
     ]
    },
    {
     "name": "stdout",
     "output_type": "stream",
     "text": [
      "\tESP,  8th phase (18Sep2020 - 27Sep2020): finished  151 trials in 0 min 10 sec"
     ]
    },
    {
     "name": "stdout",
     "output_type": "stream",
     "text": [
      "\n"
     ]
    },
    {
     "name": "stdout",
     "output_type": "stream",
     "text": [
      "\tESP,  9th phase (28Sep2020 - 07Oct2020): finished  146 trials in 0 min 10 sec"
     ]
    },
    {
     "name": "stdout",
     "output_type": "stream",
     "text": [
      "\n"
     ]
    },
    {
     "name": "stdout",
     "output_type": "stream",
     "text": [
      "\tPRT,  2nd phase (19Apr2020 - 17May2020): finished  147 trials in 0 min 10 sec"
     ]
    },
    {
     "name": "stdout",
     "output_type": "stream",
     "text": [
      "\n"
     ]
    },
    {
     "name": "stdout",
     "output_type": "stream",
     "text": [
      "\tPRT,  6th phase (13Aug2020 - 08Sep2020): finished  222 trials in 0 min 10 sec"
     ]
    },
    {
     "name": "stdout",
     "output_type": "stream",
     "text": [
      "\n"
     ]
    },
    {
     "name": "stdout",
     "output_type": "stream",
     "text": [
      "\tCAN,  0th phase (02Mar2020 - 05Apr2020): finished  227 trials in 0 min 10 sec"
     ]
    },
    {
     "name": "stdout",
     "output_type": "stream",
     "text": [
      "\n"
     ]
    },
    {
     "name": "stdout",
     "output_type": "stream",
     "text": [
      "\tPRT,  1st phase (02Apr2020 - 18Apr2020): finished  242 trials in 0 min 10 sec"
     ]
    },
    {
     "name": "stdout",
     "output_type": "stream",
     "text": [
      "\n"
     ]
    },
    {
     "name": "stdout",
     "output_type": "stream",
     "text": [
      "\tCAN,  5th phase (09Jun2020 - 22Jul2020): finished  197 trials in 0 min 10 sec"
     ]
    },
    {
     "name": "stdout",
     "output_type": "stream",
     "text": [
      "\n"
     ]
    },
    {
     "name": "stdout",
     "output_type": "stream",
     "text": [
      "\tFIN,  8th phase (05Oct2020 - 11Oct2020): finished  215 trials in 0 min 10 sec"
     ]
    },
    {
     "name": "stdout",
     "output_type": "stream",
     "text": [
      "\n"
     ]
    },
    {
     "name": "stdout",
     "output_type": "stream",
     "text": [
      "\tPRT, 14th phase (15Nov2020 - 24Nov2020): finished  203 trials in 0 min 10 sec"
     ]
    },
    {
     "name": "stdout",
     "output_type": "stream",
     "text": [
      "\n"
     ]
    },
    {
     "name": "stdout",
     "output_type": "stream",
     "text": [
      "\tFIN,  6th phase (08Sep2020 - 23Sep2020): finished  205 trials in 0 min 10 sec"
     ]
    },
    {
     "name": "stdout",
     "output_type": "stream",
     "text": [
      "\n"
     ]
    },
    {
     "name": "stdout",
     "output_type": "stream",
     "text": [
      "\tFIN, 14th phase (20Nov2020 - 25Nov2020): finished  211 trials in 0 min 10 sec"
     ]
    },
    {
     "name": "stdout",
     "output_type": "stream",
     "text": [
      "\n"
     ]
    },
    {
     "name": "stdout",
     "output_type": "stream",
     "text": [
      "\tPRT,  7th phase (09Sep2020 - 23Sep2020): finished  210 trials in 0 min 10 sec"
     ]
    },
    {
     "name": "stdout",
     "output_type": "stream",
     "text": [
      "\n"
     ]
    },
    {
     "name": "stdout",
     "output_type": "stream",
     "text": [
      "\tFIN,  5th phase (07Aug2020 - 07Sep2020): finished  189 trials in 0 min 10 sec"
     ]
    },
    {
     "name": "stdout",
     "output_type": "stream",
     "text": [
      "\n"
     ]
    },
    {
     "name": "stdout",
     "output_type": "stream",
     "text": [
      "\tESP, 12th phase (23Oct2020 - 29Oct2020): finished  195 trials in 0 min 10 sec"
     ]
    },
    {
     "name": "stdout",
     "output_type": "stream",
     "text": [
      "\n"
     ]
    },
    {
     "name": "stdout",
     "output_type": "stream",
     "text": [
      "\tPRT, 15th phase (25Nov2020 - 02Dec2020): finished  201 trials in 0 min 10 sec"
     ]
    },
    {
     "name": "stdout",
     "output_type": "stream",
     "text": [
      "\n"
     ]
    },
    {
     "name": "stdout",
     "output_type": "stream",
     "text": [
      "Completed optimization. Total: 3 min  7 sec\n"
     ]
    }
   ],
   "source": [
    "# Parameter estimation with SIR-F model\n",
    "analyser.estimate(cs.SIRF, timeout=10)"
   ]
  },
  {
   "cell_type": "code",
   "execution_count": 12,
   "metadata": {
    "collapsed": false
   },
   "outputs": [
    {
     "data": {
      "text/html": [
       "<div>\n",
       "<style scoped>\n",
       "    .dataframe tbody tr th:only-of-type {\n",
       "        vertical-align: middle;\n",
       "    }\n",
       "\n",
       "    .dataframe tbody tr th {\n",
       "        vertical-align: top;\n",
       "    }\n",
       "\n",
       "    .dataframe thead th {\n",
       "        text-align: right;\n",
       "    }\n",
       "</style>\n",
       "<table border=\"1\" class=\"dataframe\">\n",
       "  <thead>\n",
       "    <tr style=\"text-align: right;\">\n",
       "      <th></th>\n",
       "      <th></th>\n",
       "      <th>Type</th>\n",
       "      <th>Start</th>\n",
       "      <th>End</th>\n",
       "      <th>Population</th>\n",
       "      <th>ODE</th>\n",
       "      <th>Rt</th>\n",
       "      <th>theta</th>\n",
       "      <th>kappa</th>\n",
       "      <th>rho</th>\n",
       "      <th>sigma</th>\n",
       "      <th>tau</th>\n",
       "      <th>1/alpha2 [day]</th>\n",
       "      <th>1/beta [day]</th>\n",
       "      <th>1/gamma [day]</th>\n",
       "      <th>alpha1 [-]</th>\n",
       "      <th>RMSLE</th>\n",
       "      <th>Trials</th>\n",
       "      <th>Runtime</th>\n",
       "    </tr>\n",
       "    <tr>\n",
       "      <th>Country</th>\n",
       "      <th>Phase</th>\n",
       "      <th></th>\n",
       "      <th></th>\n",
       "      <th></th>\n",
       "      <th></th>\n",
       "      <th></th>\n",
       "      <th></th>\n",
       "      <th></th>\n",
       "      <th></th>\n",
       "      <th></th>\n",
       "      <th></th>\n",
       "      <th></th>\n",
       "      <th></th>\n",
       "      <th></th>\n",
       "      <th></th>\n",
       "      <th></th>\n",
       "      <th></th>\n",
       "      <th></th>\n",
       "      <th></th>\n",
       "    </tr>\n",
       "  </thead>\n",
       "  <tbody>\n",
       "    <tr>\n",
       "      <th rowspan=\"17\" valign=\"top\">Spain</th>\n",
       "      <th>0th</th>\n",
       "      <td>Past</td>\n",
       "      <td>05Mar2020</td>\n",
       "      <td>25Mar2020</td>\n",
       "      <td>46796540</td>\n",
       "      <td>SIR-F</td>\n",
       "      <td>14.71</td>\n",
       "      <td>0.038008</td>\n",
       "      <td>0.001551</td>\n",
       "      <td>0.061817</td>\n",
       "      <td>0.002492</td>\n",
       "      <td>360</td>\n",
       "      <td>161</td>\n",
       "      <td>4</td>\n",
       "      <td>100</td>\n",
       "      <td>0.038</td>\n",
       "      <td>0.789681</td>\n",
       "      <td>138</td>\n",
       "      <td>0 min 10 sec</td>\n",
       "    </tr>\n",
       "    <tr>\n",
       "      <th>1st</th>\n",
       "      <td>Past</td>\n",
       "      <td>26Mar2020</td>\n",
       "      <td>07Apr2020</td>\n",
       "      <td>46796540</td>\n",
       "      <td>SIR-F</td>\n",
       "      <td>6.63</td>\n",
       "      <td>0.039847</td>\n",
       "      <td>0.001707</td>\n",
       "      <td>0.022637</td>\n",
       "      <td>0.001570</td>\n",
       "      <td>360</td>\n",
       "      <td>146</td>\n",
       "      <td>11</td>\n",
       "      <td>159</td>\n",
       "      <td>0.040</td>\n",
       "      <td>0.112623</td>\n",
       "      <td>127</td>\n",
       "      <td>0 min 10 sec</td>\n",
       "    </tr>\n",
       "    <tr>\n",
       "      <th>2nd</th>\n",
       "      <td>Past</td>\n",
       "      <td>08Apr2020</td>\n",
       "      <td>30Apr2020</td>\n",
       "      <td>46796540</td>\n",
       "      <td>SIR-F</td>\n",
       "      <td>3.43</td>\n",
       "      <td>0.096354</td>\n",
       "      <td>0.000540</td>\n",
       "      <td>0.003949</td>\n",
       "      <td>0.000500</td>\n",
       "      <td>360</td>\n",
       "      <td>463</td>\n",
       "      <td>63</td>\n",
       "      <td>500</td>\n",
       "      <td>0.096</td>\n",
       "      <td>0.117789</td>\n",
       "      <td>161</td>\n",
       "      <td>0 min 10 sec</td>\n",
       "    </tr>\n",
       "    <tr>\n",
       "      <th>3rd</th>\n",
       "      <td>Past</td>\n",
       "      <td>01May2020</td>\n",
       "      <td>23Jul2020</td>\n",
       "      <td>46796540</td>\n",
       "      <td>SIR-F</td>\n",
       "      <td>0.25</td>\n",
       "      <td>0.383279</td>\n",
       "      <td>0.000530</td>\n",
       "      <td>0.004457</td>\n",
       "      <td>0.010402</td>\n",
       "      <td>360</td>\n",
       "      <td>471</td>\n",
       "      <td>56</td>\n",
       "      <td>24</td>\n",
       "      <td>0.383</td>\n",
       "      <td>0.454890</td>\n",
       "      <td>120</td>\n",
       "      <td>0 min 10 sec</td>\n",
       "    </tr>\n",
       "    <tr>\n",
       "      <th>4th</th>\n",
       "      <td>Past</td>\n",
       "      <td>24Jul2020</td>\n",
       "      <td>13Aug2020</td>\n",
       "      <td>46796540</td>\n",
       "      <td>SIR-F</td>\n",
       "      <td>6.79</td>\n",
       "      <td>0.003232</td>\n",
       "      <td>0.000309</td>\n",
       "      <td>0.017902</td>\n",
       "      <td>0.002319</td>\n",
       "      <td>360</td>\n",
       "      <td>808</td>\n",
       "      <td>13</td>\n",
       "      <td>107</td>\n",
       "      <td>0.003</td>\n",
       "      <td>0.041718</td>\n",
       "      <td>145</td>\n",
       "      <td>0 min 10 sec</td>\n",
       "    </tr>\n",
       "    <tr>\n",
       "      <th>5th</th>\n",
       "      <td>Past</td>\n",
       "      <td>14Aug2020</td>\n",
       "      <td>27Aug2020</td>\n",
       "      <td>46796540</td>\n",
       "      <td>SIR-F</td>\n",
       "      <td>6.00</td>\n",
       "      <td>0.029141</td>\n",
       "      <td>0.000054</td>\n",
       "      <td>0.014534</td>\n",
       "      <td>0.002297</td>\n",
       "      <td>360</td>\n",
       "      <td>4601</td>\n",
       "      <td>17</td>\n",
       "      <td>108</td>\n",
       "      <td>0.029</td>\n",
       "      <td>0.037052</td>\n",
       "      <td>175</td>\n",
       "      <td>0 min 10 sec</td>\n",
       "    </tr>\n",
       "    <tr>\n",
       "      <th>6th</th>\n",
       "      <td>Past</td>\n",
       "      <td>28Aug2020</td>\n",
       "      <td>08Sep2020</td>\n",
       "      <td>46796540</td>\n",
       "      <td>SIR-F</td>\n",
       "      <td>2.20</td>\n",
       "      <td>0.104850</td>\n",
       "      <td>0.000149</td>\n",
       "      <td>0.008122</td>\n",
       "      <td>0.003162</td>\n",
       "      <td>360</td>\n",
       "      <td>1683</td>\n",
       "      <td>30</td>\n",
       "      <td>79</td>\n",
       "      <td>0.105</td>\n",
       "      <td>0.097450</td>\n",
       "      <td>141</td>\n",
       "      <td>0 min 10 sec</td>\n",
       "    </tr>\n",
       "    <tr>\n",
       "      <th>7th</th>\n",
       "      <td>Past</td>\n",
       "      <td>09Sep2020</td>\n",
       "      <td>17Sep2020</td>\n",
       "      <td>46796540</td>\n",
       "      <td>SIR-F</td>\n",
       "      <td>2.21</td>\n",
       "      <td>0.168246</td>\n",
       "      <td>0.000149</td>\n",
       "      <td>0.010303</td>\n",
       "      <td>0.003735</td>\n",
       "      <td>360</td>\n",
       "      <td>1683</td>\n",
       "      <td>24</td>\n",
       "      <td>66</td>\n",
       "      <td>0.168</td>\n",
       "      <td>0.143194</td>\n",
       "      <td>141</td>\n",
       "      <td>0 min 10 sec</td>\n",
       "    </tr>\n",
       "    <tr>\n",
       "      <th>8th</th>\n",
       "      <td>Past</td>\n",
       "      <td>18Sep2020</td>\n",
       "      <td>27Sep2020</td>\n",
       "      <td>46796540</td>\n",
       "      <td>SIR-F</td>\n",
       "      <td>0.14</td>\n",
       "      <td>0.306200</td>\n",
       "      <td>0.000079</td>\n",
       "      <td>0.000768</td>\n",
       "      <td>0.003717</td>\n",
       "      <td>360</td>\n",
       "      <td>3152</td>\n",
       "      <td>325</td>\n",
       "      <td>67</td>\n",
       "      <td>0.306</td>\n",
       "      <td>0.086991</td>\n",
       "      <td>151</td>\n",
       "      <td>0 min 10 sec</td>\n",
       "    </tr>\n",
       "    <tr>\n",
       "      <th>9th</th>\n",
       "      <td>Past</td>\n",
       "      <td>28Sep2020</td>\n",
       "      <td>07Oct2020</td>\n",
       "      <td>46796540</td>\n",
       "      <td>SIR-F</td>\n",
       "      <td>0.47</td>\n",
       "      <td>0.354494</td>\n",
       "      <td>0.000067</td>\n",
       "      <td>0.003941</td>\n",
       "      <td>0.005297</td>\n",
       "      <td>360</td>\n",
       "      <td>3713</td>\n",
       "      <td>63</td>\n",
       "      <td>47</td>\n",
       "      <td>0.354</td>\n",
       "      <td>0.155638</td>\n",
       "      <td>146</td>\n",
       "      <td>0 min 10 sec</td>\n",
       "    </tr>\n",
       "    <tr>\n",
       "      <th>10th</th>\n",
       "      <td>Past</td>\n",
       "      <td>08Oct2020</td>\n",
       "      <td>15Oct2020</td>\n",
       "      <td>46796540</td>\n",
       "      <td>SIR-F</td>\n",
       "      <td>1.21</td>\n",
       "      <td>0.190437</td>\n",
       "      <td>0.000054</td>\n",
       "      <td>0.007602</td>\n",
       "      <td>0.005035</td>\n",
       "      <td>360</td>\n",
       "      <td>4601</td>\n",
       "      <td>32</td>\n",
       "      <td>49</td>\n",
       "      <td>0.190</td>\n",
       "      <td>0.130599</td>\n",
       "      <td>140</td>\n",
       "      <td>0 min 10 sec</td>\n",
       "    </tr>\n",
       "    <tr>\n",
       "      <th>11th</th>\n",
       "      <td>Past</td>\n",
       "      <td>16Oct2020</td>\n",
       "      <td>22Oct2020</td>\n",
       "      <td>46796540</td>\n",
       "      <td>SIR-F</td>\n",
       "      <td>1.11</td>\n",
       "      <td>0.101603</td>\n",
       "      <td>0.000093</td>\n",
       "      <td>0.008342</td>\n",
       "      <td>0.006653</td>\n",
       "      <td>360</td>\n",
       "      <td>2690</td>\n",
       "      <td>29</td>\n",
       "      <td>37</td>\n",
       "      <td>0.102</td>\n",
       "      <td>0.077258</td>\n",
       "      <td>139</td>\n",
       "      <td>0 min 10 sec</td>\n",
       "    </tr>\n",
       "    <tr>\n",
       "      <th>12th</th>\n",
       "      <td>Past</td>\n",
       "      <td>23Oct2020</td>\n",
       "      <td>29Oct2020</td>\n",
       "      <td>46796540</td>\n",
       "      <td>SIR-F</td>\n",
       "      <td>1.39</td>\n",
       "      <td>0.002300</td>\n",
       "      <td>0.000071</td>\n",
       "      <td>0.009135</td>\n",
       "      <td>0.006486</td>\n",
       "      <td>360</td>\n",
       "      <td>3514</td>\n",
       "      <td>27</td>\n",
       "      <td>38</td>\n",
       "      <td>0.002</td>\n",
       "      <td>0.024781</td>\n",
       "      <td>195</td>\n",
       "      <td>0 min 10 sec</td>\n",
       "    </tr>\n",
       "    <tr>\n",
       "      <th>13th</th>\n",
       "      <td>Past</td>\n",
       "      <td>30Oct2020</td>\n",
       "      <td>05Nov2020</td>\n",
       "      <td>46796540</td>\n",
       "      <td>SIR-F</td>\n",
       "      <td>1.30</td>\n",
       "      <td>0.032026</td>\n",
       "      <td>0.000054</td>\n",
       "      <td>0.007904</td>\n",
       "      <td>0.005839</td>\n",
       "      <td>360</td>\n",
       "      <td>4601</td>\n",
       "      <td>31</td>\n",
       "      <td>42</td>\n",
       "      <td>0.032</td>\n",
       "      <td>0.035306</td>\n",
       "      <td>153</td>\n",
       "      <td>0 min 10 sec</td>\n",
       "    </tr>\n",
       "    <tr>\n",
       "      <th>14th</th>\n",
       "      <td>Past</td>\n",
       "      <td>06Nov2020</td>\n",
       "      <td>12Nov2020</td>\n",
       "      <td>46796540</td>\n",
       "      <td>SIR-F</td>\n",
       "      <td>2.63</td>\n",
       "      <td>0.036325</td>\n",
       "      <td>0.000093</td>\n",
       "      <td>0.011802</td>\n",
       "      <td>0.004227</td>\n",
       "      <td>360</td>\n",
       "      <td>2685</td>\n",
       "      <td>21</td>\n",
       "      <td>59</td>\n",
       "      <td>0.036</td>\n",
       "      <td>0.058853</td>\n",
       "      <td>142</td>\n",
       "      <td>0 min 10 sec</td>\n",
       "    </tr>\n",
       "    <tr>\n",
       "      <th>15th</th>\n",
       "      <td>Past</td>\n",
       "      <td>13Nov2020</td>\n",
       "      <td>19Nov2020</td>\n",
       "      <td>46796540</td>\n",
       "      <td>SIR-F</td>\n",
       "      <td>0.83</td>\n",
       "      <td>0.037922</td>\n",
       "      <td>0.000079</td>\n",
       "      <td>0.003454</td>\n",
       "      <td>0.003905</td>\n",
       "      <td>360</td>\n",
       "      <td>3162</td>\n",
       "      <td>72</td>\n",
       "      <td>64</td>\n",
       "      <td>0.038</td>\n",
       "      <td>0.025334</td>\n",
       "      <td>156</td>\n",
       "      <td>0 min 10 sec</td>\n",
       "    </tr>\n",
       "    <tr>\n",
       "      <th>16th</th>\n",
       "      <td>Past</td>\n",
       "      <td>20Nov2020</td>\n",
       "      <td>02Dec2020</td>\n",
       "      <td>46796540</td>\n",
       "      <td>SIR-F</td>\n",
       "      <td>0.99</td>\n",
       "      <td>0.035908</td>\n",
       "      <td>0.000692</td>\n",
       "      <td>0.003506</td>\n",
       "      <td>0.002734</td>\n",
       "      <td>360</td>\n",
       "      <td>361</td>\n",
       "      <td>71</td>\n",
       "      <td>91</td>\n",
       "      <td>0.036</td>\n",
       "      <td>0.149026</td>\n",
       "      <td>123</td>\n",
       "      <td>0 min 10 sec</td>\n",
       "    </tr>\n",
       "  </tbody>\n",
       "</table>\n",
       "</div>"
      ],
      "text/plain": [
       "               Type      Start        End  Population    ODE     Rt     theta  \\\n",
       "Country Phase                                                                   \n",
       "Spain   0th    Past  05Mar2020  25Mar2020    46796540  SIR-F  14.71  0.038008   \n",
       "        1st    Past  26Mar2020  07Apr2020    46796540  SIR-F   6.63  0.039847   \n",
       "        2nd    Past  08Apr2020  30Apr2020    46796540  SIR-F   3.43  0.096354   \n",
       "        3rd    Past  01May2020  23Jul2020    46796540  SIR-F   0.25  0.383279   \n",
       "        4th    Past  24Jul2020  13Aug2020    46796540  SIR-F   6.79  0.003232   \n",
       "        5th    Past  14Aug2020  27Aug2020    46796540  SIR-F   6.00  0.029141   \n",
       "        6th    Past  28Aug2020  08Sep2020    46796540  SIR-F   2.20  0.104850   \n",
       "        7th    Past  09Sep2020  17Sep2020    46796540  SIR-F   2.21  0.168246   \n",
       "        8th    Past  18Sep2020  27Sep2020    46796540  SIR-F   0.14  0.306200   \n",
       "        9th    Past  28Sep2020  07Oct2020    46796540  SIR-F   0.47  0.354494   \n",
       "        10th   Past  08Oct2020  15Oct2020    46796540  SIR-F   1.21  0.190437   \n",
       "        11th   Past  16Oct2020  22Oct2020    46796540  SIR-F   1.11  0.101603   \n",
       "        12th   Past  23Oct2020  29Oct2020    46796540  SIR-F   1.39  0.002300   \n",
       "        13th   Past  30Oct2020  05Nov2020    46796540  SIR-F   1.30  0.032026   \n",
       "        14th   Past  06Nov2020  12Nov2020    46796540  SIR-F   2.63  0.036325   \n",
       "        15th   Past  13Nov2020  19Nov2020    46796540  SIR-F   0.83  0.037922   \n",
       "        16th   Past  20Nov2020  02Dec2020    46796540  SIR-F   0.99  0.035908   \n",
       "\n",
       "                  kappa       rho     sigma  tau  1/alpha2 [day]  \\\n",
       "Country Phase                                                      \n",
       "Spain   0th    0.001551  0.061817  0.002492  360             161   \n",
       "        1st    0.001707  0.022637  0.001570  360             146   \n",
       "        2nd    0.000540  0.003949  0.000500  360             463   \n",
       "        3rd    0.000530  0.004457  0.010402  360             471   \n",
       "        4th    0.000309  0.017902  0.002319  360             808   \n",
       "        5th    0.000054  0.014534  0.002297  360            4601   \n",
       "        6th    0.000149  0.008122  0.003162  360            1683   \n",
       "        7th    0.000149  0.010303  0.003735  360            1683   \n",
       "        8th    0.000079  0.000768  0.003717  360            3152   \n",
       "        9th    0.000067  0.003941  0.005297  360            3713   \n",
       "        10th   0.000054  0.007602  0.005035  360            4601   \n",
       "        11th   0.000093  0.008342  0.006653  360            2690   \n",
       "        12th   0.000071  0.009135  0.006486  360            3514   \n",
       "        13th   0.000054  0.007904  0.005839  360            4601   \n",
       "        14th   0.000093  0.011802  0.004227  360            2685   \n",
       "        15th   0.000079  0.003454  0.003905  360            3162   \n",
       "        16th   0.000692  0.003506  0.002734  360             361   \n",
       "\n",
       "               1/beta [day]  1/gamma [day]  alpha1 [-]     RMSLE  Trials  \\\n",
       "Country Phase                                                              \n",
       "Spain   0th               4            100       0.038  0.789681     138   \n",
       "        1st              11            159       0.040  0.112623     127   \n",
       "        2nd              63            500       0.096  0.117789     161   \n",
       "        3rd              56             24       0.383  0.454890     120   \n",
       "        4th              13            107       0.003  0.041718     145   \n",
       "        5th              17            108       0.029  0.037052     175   \n",
       "        6th              30             79       0.105  0.097450     141   \n",
       "        7th              24             66       0.168  0.143194     141   \n",
       "        8th             325             67       0.306  0.086991     151   \n",
       "        9th              63             47       0.354  0.155638     146   \n",
       "        10th             32             49       0.190  0.130599     140   \n",
       "        11th             29             37       0.102  0.077258     139   \n",
       "        12th             27             38       0.002  0.024781     195   \n",
       "        13th             31             42       0.032  0.035306     153   \n",
       "        14th             21             59       0.036  0.058853     142   \n",
       "        15th             72             64       0.038  0.025334     156   \n",
       "        16th             71             91       0.036  0.149026     123   \n",
       "\n",
       "                    Runtime  \n",
       "Country Phase                \n",
       "Spain   0th    0 min 10 sec  \n",
       "        1st    0 min 10 sec  \n",
       "        2nd    0 min 10 sec  \n",
       "        3rd    0 min 10 sec  \n",
       "        4th    0 min 10 sec  \n",
       "        5th    0 min 10 sec  \n",
       "        6th    0 min 10 sec  \n",
       "        7th    0 min 10 sec  \n",
       "        8th    0 min 10 sec  \n",
       "        9th    0 min 10 sec  \n",
       "        10th   0 min 10 sec  \n",
       "        11th   0 min 10 sec  \n",
       "        12th   0 min 10 sec  \n",
       "        13th   0 min 10 sec  \n",
       "        14th   0 min 10 sec  \n",
       "        15th   0 min 10 sec  \n",
       "        16th   0 min 10 sec  "
      ]
     },
     "execution_count": 12,
     "metadata": {},
     "output_type": "execute_result"
    }
   ],
   "source": [
    "# Show summary\n",
    "analyser.summary(countries=countries_show)"
   ]
  },
  {
   "cell_type": "markdown",
   "metadata": {},
   "source": [
    "## Compare the history of parameters\n",
    "Here, compare the history of parameter values if countries."
   ]
  },
  {
   "cell_type": "code",
   "execution_count": 13,
   "metadata": {
    "collapsed": false
   },
   "outputs": [
    {
     "data": {
      "text/html": [
       "<div>\n",
       "<style scoped>\n",
       "    .dataframe tbody tr th:only-of-type {\n",
       "        vertical-align: middle;\n",
       "    }\n",
       "\n",
       "    .dataframe tbody tr th {\n",
       "        vertical-align: top;\n",
       "    }\n",
       "\n",
       "    .dataframe thead th {\n",
       "        text-align: right;\n",
       "    }\n",
       "</style>\n",
       "<table border=\"1\" class=\"dataframe\">\n",
       "  <thead>\n",
       "    <tr style=\"text-align: right;\">\n",
       "      <th></th>\n",
       "      <th>Date</th>\n",
       "      <th>Country</th>\n",
       "      <th>theta</th>\n",
       "      <th>kappa</th>\n",
       "      <th>rho</th>\n",
       "      <th>sigma</th>\n",
       "      <th>alpha1 [-]</th>\n",
       "      <th>1/alpha2 [day]</th>\n",
       "      <th>1/beta [day]</th>\n",
       "      <th>1/gamma [day]</th>\n",
       "      <th>...</th>\n",
       "      <th>Cancel_events</th>\n",
       "      <th>Gatherings_restrictions</th>\n",
       "      <th>Transport_closing</th>\n",
       "      <th>Stay_home_restrictions</th>\n",
       "      <th>Internal_movement_restrictions</th>\n",
       "      <th>International_movement_restrictions</th>\n",
       "      <th>Information_campaigns</th>\n",
       "      <th>Testing_policy</th>\n",
       "      <th>Contact_tracing</th>\n",
       "      <th>Stringency_index</th>\n",
       "    </tr>\n",
       "  </thead>\n",
       "  <tbody>\n",
       "    <tr>\n",
       "      <th>0</th>\n",
       "      <td>2020-03-02</td>\n",
       "      <td>Canada</td>\n",
       "      <td>0.0200421</td>\n",
       "      <td>0.000568486</td>\n",
       "      <td>0.0417727</td>\n",
       "      <td>0.000718085</td>\n",
       "      <td>0.02</td>\n",
       "      <td>439</td>\n",
       "      <td>5</td>\n",
       "      <td>348</td>\n",
       "      <td>...</td>\n",
       "      <td>0</td>\n",
       "      <td>0</td>\n",
       "      <td>0</td>\n",
       "      <td>0</td>\n",
       "      <td>0</td>\n",
       "      <td>1</td>\n",
       "      <td>0</td>\n",
       "      <td>1</td>\n",
       "      <td>1</td>\n",
       "      <td>2.78</td>\n",
       "    </tr>\n",
       "    <tr>\n",
       "      <th>1</th>\n",
       "      <td>2020-03-02</td>\n",
       "      <td>Canada</td>\n",
       "      <td>0.0200421</td>\n",
       "      <td>0.000568486</td>\n",
       "      <td>0.0417727</td>\n",
       "      <td>0.000718085</td>\n",
       "      <td>0.02</td>\n",
       "      <td>439</td>\n",
       "      <td>5</td>\n",
       "      <td>348</td>\n",
       "      <td>...</td>\n",
       "      <td>0</td>\n",
       "      <td>0</td>\n",
       "      <td>0</td>\n",
       "      <td>0</td>\n",
       "      <td>0</td>\n",
       "      <td>0</td>\n",
       "      <td>0</td>\n",
       "      <td>0</td>\n",
       "      <td>0</td>\n",
       "      <td>0.00</td>\n",
       "    </tr>\n",
       "    <tr>\n",
       "      <th>2</th>\n",
       "      <td>2020-03-02</td>\n",
       "      <td>Canada</td>\n",
       "      <td>0.0200421</td>\n",
       "      <td>0.000568486</td>\n",
       "      <td>0.0417727</td>\n",
       "      <td>0.000718085</td>\n",
       "      <td>0.02</td>\n",
       "      <td>439</td>\n",
       "      <td>5</td>\n",
       "      <td>348</td>\n",
       "      <td>...</td>\n",
       "      <td>0</td>\n",
       "      <td>0</td>\n",
       "      <td>0</td>\n",
       "      <td>0</td>\n",
       "      <td>0</td>\n",
       "      <td>0</td>\n",
       "      <td>0</td>\n",
       "      <td>0</td>\n",
       "      <td>0</td>\n",
       "      <td>0.00</td>\n",
       "    </tr>\n",
       "    <tr>\n",
       "      <th>3</th>\n",
       "      <td>2020-03-02</td>\n",
       "      <td>Canada</td>\n",
       "      <td>0.0200421</td>\n",
       "      <td>0.000568486</td>\n",
       "      <td>0.0417727</td>\n",
       "      <td>0.000718085</td>\n",
       "      <td>0.02</td>\n",
       "      <td>439</td>\n",
       "      <td>5</td>\n",
       "      <td>348</td>\n",
       "      <td>...</td>\n",
       "      <td>0</td>\n",
       "      <td>0</td>\n",
       "      <td>0</td>\n",
       "      <td>0</td>\n",
       "      <td>0</td>\n",
       "      <td>0</td>\n",
       "      <td>0</td>\n",
       "      <td>0</td>\n",
       "      <td>0</td>\n",
       "      <td>0.00</td>\n",
       "    </tr>\n",
       "    <tr>\n",
       "      <th>4</th>\n",
       "      <td>2020-03-02</td>\n",
       "      <td>Canada</td>\n",
       "      <td>0.0200421</td>\n",
       "      <td>0.000568486</td>\n",
       "      <td>0.0417727</td>\n",
       "      <td>0.000718085</td>\n",
       "      <td>0.02</td>\n",
       "      <td>439</td>\n",
       "      <td>5</td>\n",
       "      <td>348</td>\n",
       "      <td>...</td>\n",
       "      <td>0</td>\n",
       "      <td>0</td>\n",
       "      <td>0</td>\n",
       "      <td>0</td>\n",
       "      <td>0</td>\n",
       "      <td>0</td>\n",
       "      <td>0</td>\n",
       "      <td>0</td>\n",
       "      <td>0</td>\n",
       "      <td>0.00</td>\n",
       "    </tr>\n",
       "  </tbody>\n",
       "</table>\n",
       "<p>5 rows × 23 columns</p>\n",
       "</div>"
      ],
      "text/plain": [
       "        Date Country      theta        kappa        rho        sigma  \\\n",
       "0 2020-03-02  Canada  0.0200421  0.000568486  0.0417727  0.000718085   \n",
       "1 2020-03-02  Canada  0.0200421  0.000568486  0.0417727  0.000718085   \n",
       "2 2020-03-02  Canada  0.0200421  0.000568486  0.0417727  0.000718085   \n",
       "3 2020-03-02  Canada  0.0200421  0.000568486  0.0417727  0.000718085   \n",
       "4 2020-03-02  Canada  0.0200421  0.000568486  0.0417727  0.000718085   \n",
       "\n",
       "  alpha1 [-] 1/alpha2 [day] 1/beta [day] 1/gamma [day]  ... Cancel_events  \\\n",
       "0       0.02            439            5           348  ...             0   \n",
       "1       0.02            439            5           348  ...             0   \n",
       "2       0.02            439            5           348  ...             0   \n",
       "3       0.02            439            5           348  ...             0   \n",
       "4       0.02            439            5           348  ...             0   \n",
       "\n",
       "   Gatherings_restrictions  Transport_closing  Stay_home_restrictions  \\\n",
       "0                        0                  0                       0   \n",
       "1                        0                  0                       0   \n",
       "2                        0                  0                       0   \n",
       "3                        0                  0                       0   \n",
       "4                        0                  0                       0   \n",
       "\n",
       "   Internal_movement_restrictions  International_movement_restrictions  \\\n",
       "0                               0                                    1   \n",
       "1                               0                                    0   \n",
       "2                               0                                    0   \n",
       "3                               0                                    0   \n",
       "4                               0                                    0   \n",
       "\n",
       "   Information_campaigns  Testing_policy  Contact_tracing  Stringency_index  \n",
       "0                      0               1                1              2.78  \n",
       "1                      0               0                0              0.00  \n",
       "2                      0               0                0              0.00  \n",
       "3                      0               0                0              0.00  \n",
       "4                      0               0                0              0.00  \n",
       "\n",
       "[5 rows x 23 columns]"
      ]
     },
     "execution_count": 13,
     "metadata": {},
     "output_type": "execute_result"
    }
   ],
   "source": [
    "# All parameter/day parameter/Rt/OxCGRT\n",
    "analyser.track().head()"
   ]
  },
  {
   "cell_type": "markdown",
   "metadata": {},
   "source": [
    "### $Rt$: Reprodcution number $\\mathrm{[-]}$"
   ]
  },
  {
   "cell_type": "code",
   "execution_count": 14,
   "metadata": {
    "collapsed": false
   },
   "outputs": [
    {
     "data": {
      "image/png": "[encoded data removed]",
      "text/plain": [
       "<Figure size 648x432 with 1 Axes>"
      ]
     },
     "metadata": {},
     "output_type": "display_data"
    },
    {
     "data": {
      "text/html": [
       "<div>\n",
       "<style scoped>\n",
       "    .dataframe tbody tr th:only-of-type {\n",
       "        vertical-align: middle;\n",
       "    }\n",
       "\n",
       "    .dataframe tbody tr th {\n",
       "        vertical-align: top;\n",
       "    }\n",
       "\n",
       "    .dataframe thead th {\n",
       "        text-align: right;\n",
       "    }\n",
       "</style>\n",
       "<table border=\"1\" class=\"dataframe\">\n",
       "  <thead>\n",
       "    <tr style=\"text-align: right;\">\n",
       "      <th>Country</th>\n",
       "      <th>Canada</th>\n",
       "      <th>Finland</th>\n",
       "      <th>Portugal</th>\n",
       "      <th>Spain</th>\n",
       "    </tr>\n",
       "    <tr>\n",
       "      <th>Date</th>\n",
       "      <th></th>\n",
       "      <th></th>\n",
       "      <th></th>\n",
       "      <th></th>\n",
       "    </tr>\n",
       "  </thead>\n",
       "  <tbody>\n",
       "    <tr>\n",
       "      <th>2020-11-28</th>\n",
       "      <td>1.51</td>\n",
       "      <td>2.16</td>\n",
       "      <td>0.9</td>\n",
       "      <td>0.99</td>\n",
       "    </tr>\n",
       "    <tr>\n",
       "      <th>2020-11-29</th>\n",
       "      <td>1.51</td>\n",
       "      <td>2.16</td>\n",
       "      <td>0.9</td>\n",
       "      <td>0.99</td>\n",
       "    </tr>\n",
       "    <tr>\n",
       "      <th>2020-11-30</th>\n",
       "      <td>1.51</td>\n",
       "      <td>2.16</td>\n",
       "      <td>0.9</td>\n",
       "      <td>0.99</td>\n",
       "    </tr>\n",
       "    <tr>\n",
       "      <th>2020-12-01</th>\n",
       "      <td>1.51</td>\n",
       "      <td>2.16</td>\n",
       "      <td>0.9</td>\n",
       "      <td>0.99</td>\n",
       "    </tr>\n",
       "    <tr>\n",
       "      <th>2020-12-02</th>\n",
       "      <td>1.51</td>\n",
       "      <td>2.16</td>\n",
       "      <td>0.9</td>\n",
       "      <td>0.99</td>\n",
       "    </tr>\n",
       "  </tbody>\n",
       "</table>\n",
       "</div>"
      ],
      "text/plain": [
       "Country     Canada  Finland  Portugal  Spain\n",
       "Date                                        \n",
       "2020-11-28    1.51     2.16       0.9   0.99\n",
       "2020-11-29    1.51     2.16       0.9   0.99\n",
       "2020-11-30    1.51     2.16       0.9   0.99\n",
       "2020-12-01    1.51     2.16       0.9   0.99\n",
       "2020-12-02    1.51     2.16       0.9   0.99"
      ]
     },
     "execution_count": 14,
     "metadata": {},
     "output_type": "execute_result"
    }
   ],
   "source": [
    "analyser.history(\"Rt\", roll_window=None).tail()"
   ]
  },
  {
   "cell_type": "markdown",
   "metadata": {},
   "source": [
    "### $\\rho$: Effective contact rate $\\mathrm{[-]}$"
   ]
  },
  {
   "cell_type": "code",
   "execution_count": 15,
   "metadata": {
    "collapsed": false
   },
   "outputs": [
    {
     "data": {
      "image/png": "[encoded data removed]",
      "text/plain": [
       "<Figure size 648x432 with 1 Axes>"
      ]
     },
     "metadata": {},
     "output_type": "display_data"
    },
    {
     "data": {
      "text/html": [
       "<div>\n",
       "<style scoped>\n",
       "    .dataframe tbody tr th:only-of-type {\n",
       "        vertical-align: middle;\n",
       "    }\n",
       "\n",
       "    .dataframe tbody tr th {\n",
       "        vertical-align: top;\n",
       "    }\n",
       "\n",
       "    .dataframe thead th {\n",
       "        text-align: right;\n",
       "    }\n",
       "</style>\n",
       "<table border=\"1\" class=\"dataframe\">\n",
       "  <thead>\n",
       "    <tr style=\"text-align: right;\">\n",
       "      <th>Country</th>\n",
       "      <th>Canada</th>\n",
       "      <th>Finland</th>\n",
       "      <th>Portugal</th>\n",
       "      <th>Spain</th>\n",
       "    </tr>\n",
       "    <tr>\n",
       "      <th>Date</th>\n",
       "      <th></th>\n",
       "      <th></th>\n",
       "      <th></th>\n",
       "      <th></th>\n",
       "    </tr>\n",
       "  </thead>\n",
       "  <tbody>\n",
       "    <tr>\n",
       "      <th>2020-11-28</th>\n",
       "      <td>0.023256</td>\n",
       "      <td>0.015919</td>\n",
       "      <td>0.012472</td>\n",
       "      <td>0.003506</td>\n",
       "    </tr>\n",
       "    <tr>\n",
       "      <th>2020-11-29</th>\n",
       "      <td>0.023256</td>\n",
       "      <td>0.015919</td>\n",
       "      <td>0.012472</td>\n",
       "      <td>0.003506</td>\n",
       "    </tr>\n",
       "    <tr>\n",
       "      <th>2020-11-30</th>\n",
       "      <td>0.023256</td>\n",
       "      <td>0.015919</td>\n",
       "      <td>0.012472</td>\n",
       "      <td>0.003506</td>\n",
       "    </tr>\n",
       "    <tr>\n",
       "      <th>2020-12-01</th>\n",
       "      <td>0.023256</td>\n",
       "      <td>0.015919</td>\n",
       "      <td>0.012472</td>\n",
       "      <td>0.003506</td>\n",
       "    </tr>\n",
       "    <tr>\n",
       "      <th>2020-12-02</th>\n",
       "      <td>0.023256</td>\n",
       "      <td>0.015919</td>\n",
       "      <td>0.012472</td>\n",
       "      <td>0.003506</td>\n",
       "    </tr>\n",
       "  </tbody>\n",
       "</table>\n",
       "</div>"
      ],
      "text/plain": [
       "Country       Canada   Finland  Portugal     Spain\n",
       "Date                                              \n",
       "2020-11-28  0.023256  0.015919  0.012472  0.003506\n",
       "2020-11-29  0.023256  0.015919  0.012472  0.003506\n",
       "2020-11-30  0.023256  0.015919  0.012472  0.003506\n",
       "2020-12-01  0.023256  0.015919  0.012472  0.003506\n",
       "2020-12-02  0.023256  0.015919  0.012472  0.003506"
      ]
     },
     "execution_count": 15,
     "metadata": {},
     "output_type": "execute_result"
    }
   ],
   "source": [
    "analyser.history(\"rho\", roll_window=None).tail()"
   ]
  },
  {
   "cell_type": "markdown",
   "metadata": {},
   "source": [
    "### $\\sigma$: Recovery rate $\\mathrm{[-]}$"
   ]
  },
  {
   "cell_type": "code",
   "execution_count": 16,
   "metadata": {
    "collapsed": false
   },
   "outputs": [
    {
     "data": {
      "image/png": "[encoded data removed]",
      "text/plain": [
       "<Figure size 648x432 with 1 Axes>"
      ]
     },
     "metadata": {},
     "output_type": "display_data"
    },
    {
     "data": {
      "text/html": [
       "<div>\n",
       "<style scoped>\n",
       "    .dataframe tbody tr th:only-of-type {\n",
       "        vertical-align: middle;\n",
       "    }\n",
       "\n",
       "    .dataframe tbody tr th {\n",
       "        vertical-align: top;\n",
       "    }\n",
       "\n",
       "    .dataframe thead th {\n",
       "        text-align: right;\n",
       "    }\n",
       "</style>\n",
       "<table border=\"1\" class=\"dataframe\">\n",
       "  <thead>\n",
       "    <tr style=\"text-align: right;\">\n",
       "      <th>Country</th>\n",
       "      <th>Canada</th>\n",
       "      <th>Finland</th>\n",
       "      <th>Portugal</th>\n",
       "      <th>Spain</th>\n",
       "    </tr>\n",
       "    <tr>\n",
       "      <th>Date</th>\n",
       "      <th></th>\n",
       "      <th></th>\n",
       "      <th></th>\n",
       "      <th></th>\n",
       "    </tr>\n",
       "  </thead>\n",
       "  <tbody>\n",
       "    <tr>\n",
       "      <th>2020-11-28</th>\n",
       "      <td>0.014495</td>\n",
       "      <td>0.007284</td>\n",
       "      <td>0.013627</td>\n",
       "      <td>0.002734</td>\n",
       "    </tr>\n",
       "    <tr>\n",
       "      <th>2020-11-29</th>\n",
       "      <td>0.014495</td>\n",
       "      <td>0.007284</td>\n",
       "      <td>0.013627</td>\n",
       "      <td>0.002734</td>\n",
       "    </tr>\n",
       "    <tr>\n",
       "      <th>2020-11-30</th>\n",
       "      <td>0.014495</td>\n",
       "      <td>0.007284</td>\n",
       "      <td>0.013627</td>\n",
       "      <td>0.002734</td>\n",
       "    </tr>\n",
       "    <tr>\n",
       "      <th>2020-12-01</th>\n",
       "      <td>0.014495</td>\n",
       "      <td>0.007284</td>\n",
       "      <td>0.013627</td>\n",
       "      <td>0.002734</td>\n",
       "    </tr>\n",
       "    <tr>\n",
       "      <th>2020-12-02</th>\n",
       "      <td>0.014495</td>\n",
       "      <td>0.007284</td>\n",
       "      <td>0.013627</td>\n",
       "      <td>0.002734</td>\n",
       "    </tr>\n",
       "  </tbody>\n",
       "</table>\n",
       "</div>"
      ],
      "text/plain": [
       "Country       Canada   Finland  Portugal     Spain\n",
       "Date                                              \n",
       "2020-11-28  0.014495  0.007284  0.013627  0.002734\n",
       "2020-11-29  0.014495  0.007284  0.013627  0.002734\n",
       "2020-11-30  0.014495  0.007284  0.013627  0.002734\n",
       "2020-12-01  0.014495  0.007284  0.013627  0.002734\n",
       "2020-12-02  0.014495  0.007284  0.013627  0.002734"
      ]
     },
     "execution_count": 16,
     "metadata": {},
     "output_type": "execute_result"
    }
   ],
   "source": [
    "analyser.history(\"sigma\", roll_window=None).tail()"
   ]
  },
  {
   "cell_type": "markdown",
   "metadata": {},
   "source": [
    "### $\\kappa$: Mortality rate of infected cases $\\mathrm{[-]}$"
   ]
  },
  {
   "cell_type": "code",
   "execution_count": 17,
   "metadata": {
    "collapsed": false
   },
   "outputs": [
    {
     "data": {
      "image/png": "[encoded data removed]",
      "text/plain": [
       "<Figure size 648x432 with 1 Axes>"
      ]
     },
     "metadata": {},
     "output_type": "display_data"
    },
    {
     "data": {
      "text/html": [
       "<div>\n",
       "<style scoped>\n",
       "    .dataframe tbody tr th:only-of-type {\n",
       "        vertical-align: middle;\n",
       "    }\n",
       "\n",
       "    .dataframe tbody tr th {\n",
       "        vertical-align: top;\n",
       "    }\n",
       "\n",
       "    .dataframe thead th {\n",
       "        text-align: right;\n",
       "    }\n",
       "</style>\n",
       "<table border=\"1\" class=\"dataframe\">\n",
       "  <thead>\n",
       "    <tr style=\"text-align: right;\">\n",
       "      <th>Country</th>\n",
       "      <th>Canada</th>\n",
       "      <th>Finland</th>\n",
       "      <th>Portugal</th>\n",
       "      <th>Spain</th>\n",
       "    </tr>\n",
       "    <tr>\n",
       "      <th>Date</th>\n",
       "      <th></th>\n",
       "      <th></th>\n",
       "      <th></th>\n",
       "      <th></th>\n",
       "    </tr>\n",
       "  </thead>\n",
       "  <tbody>\n",
       "    <tr>\n",
       "      <th>2020-11-28</th>\n",
       "      <td>0.000557</td>\n",
       "      <td>0.000079</td>\n",
       "      <td>0.000191</td>\n",
       "      <td>0.000692</td>\n",
       "    </tr>\n",
       "    <tr>\n",
       "      <th>2020-11-29</th>\n",
       "      <td>0.000557</td>\n",
       "      <td>0.000079</td>\n",
       "      <td>0.000191</td>\n",
       "      <td>0.000692</td>\n",
       "    </tr>\n",
       "    <tr>\n",
       "      <th>2020-11-30</th>\n",
       "      <td>0.000557</td>\n",
       "      <td>0.000079</td>\n",
       "      <td>0.000191</td>\n",
       "      <td>0.000692</td>\n",
       "    </tr>\n",
       "    <tr>\n",
       "      <th>2020-12-01</th>\n",
       "      <td>0.000557</td>\n",
       "      <td>0.000079</td>\n",
       "      <td>0.000191</td>\n",
       "      <td>0.000692</td>\n",
       "    </tr>\n",
       "    <tr>\n",
       "      <th>2020-12-02</th>\n",
       "      <td>0.000557</td>\n",
       "      <td>0.000079</td>\n",
       "      <td>0.000191</td>\n",
       "      <td>0.000692</td>\n",
       "    </tr>\n",
       "  </tbody>\n",
       "</table>\n",
       "</div>"
      ],
      "text/plain": [
       "Country       Canada   Finland  Portugal     Spain\n",
       "Date                                              \n",
       "2020-11-28  0.000557  0.000079  0.000191  0.000692\n",
       "2020-11-29  0.000557  0.000079  0.000191  0.000692\n",
       "2020-11-30  0.000557  0.000079  0.000191  0.000692\n",
       "2020-12-01  0.000557  0.000079  0.000191  0.000692\n",
       "2020-12-02  0.000557  0.000079  0.000191  0.000692"
      ]
     },
     "execution_count": 17,
     "metadata": {},
     "output_type": "execute_result"
    }
   ],
   "source": [
    "analyser.history(\"kappa\", roll_window=None).tail()"
   ]
  },
  {
   "cell_type": "markdown",
   "metadata": {},
   "source": [
    "### $\\theta$: Mortality rate of S$^\\ast$ cases $\\mathrm{[-]}$"
   ]
  },
  {
   "cell_type": "code",
   "execution_count": 18,
   "metadata": {
    "collapsed": false
   },
   "outputs": [
    {
     "data": {
      "image/png": "[encoded data removed]",
      "text/plain": [
       "<Figure size 648x432 with 1 Axes>"
      ]
     },
     "metadata": {},
     "output_type": "display_data"
    },
    {
     "data": {
      "text/html": [
       "<div>\n",
       "<style scoped>\n",
       "    .dataframe tbody tr th:only-of-type {\n",
       "        vertical-align: middle;\n",
       "    }\n",
       "\n",
       "    .dataframe tbody tr th {\n",
       "        vertical-align: top;\n",
       "    }\n",
       "\n",
       "    .dataframe thead th {\n",
       "        text-align: right;\n",
       "    }\n",
       "</style>\n",
       "<table border=\"1\" class=\"dataframe\">\n",
       "  <thead>\n",
       "    <tr style=\"text-align: right;\">\n",
       "      <th>Country</th>\n",
       "      <th>Canada</th>\n",
       "      <th>Finland</th>\n",
       "      <th>Portugal</th>\n",
       "      <th>Spain</th>\n",
       "    </tr>\n",
       "    <tr>\n",
       "      <th>Date</th>\n",
       "      <th></th>\n",
       "      <th></th>\n",
       "      <th></th>\n",
       "      <th></th>\n",
       "    </tr>\n",
       "  </thead>\n",
       "  <tbody>\n",
       "    <tr>\n",
       "      <th>2020-11-28</th>\n",
       "      <td>0.023216</td>\n",
       "      <td>0.002166</td>\n",
       "      <td>0.001095</td>\n",
       "      <td>0.035908</td>\n",
       "    </tr>\n",
       "    <tr>\n",
       "      <th>2020-11-29</th>\n",
       "      <td>0.023216</td>\n",
       "      <td>0.002166</td>\n",
       "      <td>0.001095</td>\n",
       "      <td>0.035908</td>\n",
       "    </tr>\n",
       "    <tr>\n",
       "      <th>2020-11-30</th>\n",
       "      <td>0.023216</td>\n",
       "      <td>0.002166</td>\n",
       "      <td>0.001095</td>\n",
       "      <td>0.035908</td>\n",
       "    </tr>\n",
       "    <tr>\n",
       "      <th>2020-12-01</th>\n",
       "      <td>0.023216</td>\n",
       "      <td>0.002166</td>\n",
       "      <td>0.001095</td>\n",
       "      <td>0.035908</td>\n",
       "    </tr>\n",
       "    <tr>\n",
       "      <th>2020-12-02</th>\n",
       "      <td>0.023216</td>\n",
       "      <td>0.002166</td>\n",
       "      <td>0.001095</td>\n",
       "      <td>0.035908</td>\n",
       "    </tr>\n",
       "  </tbody>\n",
       "</table>\n",
       "</div>"
      ],
      "text/plain": [
       "Country       Canada   Finland  Portugal     Spain\n",
       "Date                                              \n",
       "2020-11-28  0.023216  0.002166  0.001095  0.035908\n",
       "2020-11-29  0.023216  0.002166  0.001095  0.035908\n",
       "2020-11-30  0.023216  0.002166  0.001095  0.035908\n",
       "2020-12-01  0.023216  0.002166  0.001095  0.035908\n",
       "2020-12-02  0.023216  0.002166  0.001095  0.035908"
      ]
     },
     "execution_count": 18,
     "metadata": {},
     "output_type": "execute_result"
    }
   ],
   "source": [
    "analyser.history(\"theta\", roll_window=None).tail()"
   ]
  },
  {
   "cell_type": "markdown",
   "metadata": {},
   "source": [
    "## (Experimental): Relationship of OxCGRT index and parameter values\n",
    "Government responses will impact on parameter values of ODE models about 14 days later. Here, we will investigate on the relationship of [stringency index (from OxCGRT)](https://github.com/OxCGRT/covid-policy-tracker/blob/master/documentation/index_methodology.md) and reproduction number/model parameters.\n"
   ]
  },
  {
   "cell_type": "code",
   "execution_count": 19,
   "metadata": {
    "collapsed": false
   },
   "outputs": [],
   "source": [
    "%matplotlib inline\n",
    "from matplotlib import pyplot as plt\n",
    "import seaborn as sns\n",
    "import pandas as pd"
   ]
  },
  {
   "cell_type": "code",
   "execution_count": 20,
   "metadata": {
    "collapsed": false
   },
   "outputs": [
    {
     "name": "stdout",
     "output_type": "stream",
     "text": [
      "<class 'pandas.core.frame.DataFrame'>\n",
      "Int64Index: 11642 entries, 0 to 11683\n",
      "Data columns (total 19 columns):\n",
      " #   Column                               Non-Null Count  Dtype         \n",
      "---  ------                               --------------  -----         \n",
      " 0   Date                                 11642 non-null  datetime64[ns]\n",
      " 1   Country                              11642 non-null  object        \n",
      " 2   Rt                                   11642 non-null  float64       \n",
      " 3   theta                                11642 non-null  float64       \n",
      " 4   kappa                                11642 non-null  float64       \n",
      " 5   rho                                  11642 non-null  float64       \n",
      " 6   sigma                                11642 non-null  float64       \n",
      " 7   School_closing                       11642 non-null  int64         \n",
      " 8   Workplace_closing                    11642 non-null  int64         \n",
      " 9   Cancel_events                        11642 non-null  int64         \n",
      " 10  Gatherings_restrictions              11642 non-null  int64         \n",
      " 11  Transport_closing                    11642 non-null  int64         \n",
      " 12  Stay_home_restrictions               11642 non-null  int64         \n",
      " 13  Internal_movement_restrictions       11642 non-null  int64         \n",
      " 14  International_movement_restrictions  11642 non-null  int64         \n",
      " 15  Information_campaigns                11642 non-null  int64         \n",
      " 16  Testing_policy                       11642 non-null  int64         \n",
      " 17  Contact_tracing                      11642 non-null  int64         \n",
      " 18  Stringency_index                     11642 non-null  float64       \n",
      "dtypes: datetime64[ns](1), float64(6), int64(11), object(1)\n",
      "memory usage: 1.8+ MB\n"
     ]
    }
   ],
   "source": [
    "df = analyser.track()\n",
    "param_cols = [\"Rt\", *cs.SIRF.PARAMETERS]\n",
    "oxcgrt_cols = oxcgrt_data.OXCGRT_VARS[:]\n",
    "cols = param_cols + oxcgrt_cols\n",
    "delay = 14\n",
    "\n",
    "for col in param_cols:\n",
    "    df[col] = pd.to_numeric(df[col], errors=\"coerce\")\n",
    "    df[col] = df.groupby(\"Country\")[col].shift(0 - delay)\n",
    "\n",
    "df = df.dropna(how=\"any\")\n",
    "df = df.loc[:, [\"Date\", \"Country\", *cols]]\n",
    "track_df = df.copy()\n",
    "track_df.info()"
   ]
  },
  {
   "cell_type": "code",
   "execution_count": 21,
   "metadata": {
    "collapsed": false
   },
   "outputs": [
    {
     "data": {
      "text/html": [
       "<style  type=\"text/css\" >\n",
       "#T_45de53b4_34bc_11eb_8968_525400774a2arow0_col0,#T_45de53b4_34bc_11eb_8968_525400774a2arow1_col1,#T_45de53b4_34bc_11eb_8968_525400774a2arow2_col2,#T_45de53b4_34bc_11eb_8968_525400774a2arow3_col3,#T_45de53b4_34bc_11eb_8968_525400774a2arow4_col4,#T_45de53b4_34bc_11eb_8968_525400774a2arow5_col5,#T_45de53b4_34bc_11eb_8968_525400774a2arow6_col6,#T_45de53b4_34bc_11eb_8968_525400774a2arow7_col7,#T_45de53b4_34bc_11eb_8968_525400774a2arow8_col8,#T_45de53b4_34bc_11eb_8968_525400774a2arow9_col9,#T_45de53b4_34bc_11eb_8968_525400774a2arow10_col10,#T_45de53b4_34bc_11eb_8968_525400774a2arow11_col11,#T_45de53b4_34bc_11eb_8968_525400774a2arow12_col12,#T_45de53b4_34bc_11eb_8968_525400774a2arow13_col13,#T_45de53b4_34bc_11eb_8968_525400774a2arow14_col14,#T_45de53b4_34bc_11eb_8968_525400774a2arow15_col15,#T_45de53b4_34bc_11eb_8968_525400774a2arow16_col16{\n",
       "            background-color:  #023858;\n",
       "            color:  #f1f1f1;\n",
       "        }#T_45de53b4_34bc_11eb_8968_525400774a2arow0_col1,#T_45de53b4_34bc_11eb_8968_525400774a2arow1_col0{\n",
       "            background-color:  #c9cee4;\n",
       "            color:  #000000;\n",
       "        }#T_45de53b4_34bc_11eb_8968_525400774a2arow0_col2,#T_45de53b4_34bc_11eb_8968_525400774a2arow1_col4,#T_45de53b4_34bc_11eb_8968_525400774a2arow1_col13,#T_45de53b4_34bc_11eb_8968_525400774a2arow2_col0,#T_45de53b4_34bc_11eb_8968_525400774a2arow4_col1,#T_45de53b4_34bc_11eb_8968_525400774a2arow13_col1{\n",
       "            background-color:  #8eb3d5;\n",
       "            color:  #000000;\n",
       "        }#T_45de53b4_34bc_11eb_8968_525400774a2arow0_col3,#T_45de53b4_34bc_11eb_8968_525400774a2arow3_col0{\n",
       "            background-color:  #167bb6;\n",
       "            color:  #000000;\n",
       "        }#T_45de53b4_34bc_11eb_8968_525400774a2arow0_col4,#T_45de53b4_34bc_11eb_8968_525400774a2arow4_col0,#T_45de53b4_34bc_11eb_8968_525400774a2arow5_col9,#T_45de53b4_34bc_11eb_8968_525400774a2arow7_col15,#T_45de53b4_34bc_11eb_8968_525400774a2arow9_col5,#T_45de53b4_34bc_11eb_8968_525400774a2arow9_col15,#T_45de53b4_34bc_11eb_8968_525400774a2arow15_col7,#T_45de53b4_34bc_11eb_8968_525400774a2arow15_col9{\n",
       "            background-color:  #d9d8ea;\n",
       "            color:  #000000;\n",
       "        }#T_45de53b4_34bc_11eb_8968_525400774a2arow0_col5,#T_45de53b4_34bc_11eb_8968_525400774a2arow5_col0{\n",
       "            background-color:  #a9bfdc;\n",
       "            color:  #000000;\n",
       "        }#T_45de53b4_34bc_11eb_8968_525400774a2arow0_col6,#T_45de53b4_34bc_11eb_8968_525400774a2arow6_col0{\n",
       "            background-color:  #c0c9e2;\n",
       "            color:  #000000;\n",
       "        }#T_45de53b4_34bc_11eb_8968_525400774a2arow0_col7,#T_45de53b4_34bc_11eb_8968_525400774a2arow2_col13,#T_45de53b4_34bc_11eb_8968_525400774a2arow7_col0,#T_45de53b4_34bc_11eb_8968_525400774a2arow13_col2{\n",
       "            background-color:  #afc1dd;\n",
       "            color:  #000000;\n",
       "        }#T_45de53b4_34bc_11eb_8968_525400774a2arow0_col8,#T_45de53b4_34bc_11eb_8968_525400774a2arow1_col14,#T_45de53b4_34bc_11eb_8968_525400774a2arow8_col0,#T_45de53b4_34bc_11eb_8968_525400774a2arow14_col1{\n",
       "            background-color:  #cacee5;\n",
       "            color:  #000000;\n",
       "        }#T_45de53b4_34bc_11eb_8968_525400774a2arow0_col9,#T_45de53b4_34bc_11eb_8968_525400774a2arow9_col0{\n",
       "            background-color:  #adc1dd;\n",
       "            color:  #000000;\n",
       "        }#T_45de53b4_34bc_11eb_8968_525400774a2arow0_col10,#T_45de53b4_34bc_11eb_8968_525400774a2arow2_col6,#T_45de53b4_34bc_11eb_8968_525400774a2arow6_col2,#T_45de53b4_34bc_11eb_8968_525400774a2arow10_col0{\n",
       "            background-color:  #acc0dd;\n",
       "            color:  #000000;\n",
       "        }#T_45de53b4_34bc_11eb_8968_525400774a2arow0_col11,#T_45de53b4_34bc_11eb_8968_525400774a2arow11_col0{\n",
       "            background-color:  #b1c2de;\n",
       "            color:  #000000;\n",
       "        }#T_45de53b4_34bc_11eb_8968_525400774a2arow0_col12,#T_45de53b4_34bc_11eb_8968_525400774a2arow0_col13,#T_45de53b4_34bc_11eb_8968_525400774a2arow12_col0,#T_45de53b4_34bc_11eb_8968_525400774a2arow13_col0{\n",
       "            background-color:  #c4cbe3;\n",
       "            color:  #000000;\n",
       "        }#T_45de53b4_34bc_11eb_8968_525400774a2arow0_col14,#T_45de53b4_34bc_11eb_8968_525400774a2arow14_col0{\n",
       "            background-color:  #d3d4e7;\n",
       "            color:  #000000;\n",
       "        }#T_45de53b4_34bc_11eb_8968_525400774a2arow0_col15,#T_45de53b4_34bc_11eb_8968_525400774a2arow0_col16,#T_45de53b4_34bc_11eb_8968_525400774a2arow15_col0,#T_45de53b4_34bc_11eb_8968_525400774a2arow16_col0{\n",
       "            background-color:  #b5c4df;\n",
       "            color:  #000000;\n",
       "        }#T_45de53b4_34bc_11eb_8968_525400774a2arow1_col2,#T_45de53b4_34bc_11eb_8968_525400774a2arow2_col1,#T_45de53b4_34bc_11eb_8968_525400774a2arow2_col16,#T_45de53b4_34bc_11eb_8968_525400774a2arow3_col4,#T_45de53b4_34bc_11eb_8968_525400774a2arow4_col3,#T_45de53b4_34bc_11eb_8968_525400774a2arow16_col2{\n",
       "            background-color:  #a2bcda;\n",
       "            color:  #000000;\n",
       "        }#T_45de53b4_34bc_11eb_8968_525400774a2arow1_col3,#T_45de53b4_34bc_11eb_8968_525400774a2arow3_col1{\n",
       "            background-color:  #f1ebf4;\n",
       "            color:  #000000;\n",
       "        }#T_45de53b4_34bc_11eb_8968_525400774a2arow1_col5,#T_45de53b4_34bc_11eb_8968_525400774a2arow5_col1,#T_45de53b4_34bc_11eb_8968_525400774a2arow5_col15,#T_45de53b4_34bc_11eb_8968_525400774a2arow15_col5{\n",
       "            background-color:  #91b5d6;\n",
       "            color:  #000000;\n",
       "        }#T_45de53b4_34bc_11eb_8968_525400774a2arow1_col6,#T_45de53b4_34bc_11eb_8968_525400774a2arow6_col1{\n",
       "            background-color:  #3d93c2;\n",
       "            color:  #000000;\n",
       "        }#T_45de53b4_34bc_11eb_8968_525400774a2arow1_col7,#T_45de53b4_34bc_11eb_8968_525400774a2arow7_col1{\n",
       "            background-color:  #4496c3;\n",
       "            color:  #000000;\n",
       "        }#T_45de53b4_34bc_11eb_8968_525400774a2arow1_col8,#T_45de53b4_34bc_11eb_8968_525400774a2arow1_col11,#T_45de53b4_34bc_11eb_8968_525400774a2arow8_col1,#T_45de53b4_34bc_11eb_8968_525400774a2arow11_col1{\n",
       "            background-color:  #73a9cf;\n",
       "            color:  #000000;\n",
       "        }#T_45de53b4_34bc_11eb_8968_525400774a2arow1_col9,#T_45de53b4_34bc_11eb_8968_525400774a2arow9_col1{\n",
       "            background-color:  #3f93c2;\n",
       "            color:  #000000;\n",
       "        }#T_45de53b4_34bc_11eb_8968_525400774a2arow1_col10,#T_45de53b4_34bc_11eb_8968_525400774a2arow10_col1{\n",
       "            background-color:  #abbfdc;\n",
       "            color:  #000000;\n",
       "        }#T_45de53b4_34bc_11eb_8968_525400774a2arow1_col12,#T_45de53b4_34bc_11eb_8968_525400774a2arow12_col1{\n",
       "            background-color:  #67a4cc;\n",
       "            color:  #000000;\n",
       "        }#T_45de53b4_34bc_11eb_8968_525400774a2arow1_col15,#T_45de53b4_34bc_11eb_8968_525400774a2arow15_col1{\n",
       "            background-color:  #e2dfee;\n",
       "            color:  #000000;\n",
       "        }#T_45de53b4_34bc_11eb_8968_525400774a2arow1_col16,#T_45de53b4_34bc_11eb_8968_525400774a2arow3_col15,#T_45de53b4_34bc_11eb_8968_525400774a2arow15_col3,#T_45de53b4_34bc_11eb_8968_525400774a2arow16_col1{\n",
       "            background-color:  #94b6d7;\n",
       "            color:  #000000;\n",
       "        }#T_45de53b4_34bc_11eb_8968_525400774a2arow2_col3,#T_45de53b4_34bc_11eb_8968_525400774a2arow3_col2{\n",
       "            background-color:  #187cb6;\n",
       "            color:  #000000;\n",
       "        }#T_45de53b4_34bc_11eb_8968_525400774a2arow2_col4,#T_45de53b4_34bc_11eb_8968_525400774a2arow2_col15,#T_45de53b4_34bc_11eb_8968_525400774a2arow4_col2,#T_45de53b4_34bc_11eb_8968_525400774a2arow15_col2{\n",
       "            background-color:  #c1cae2;\n",
       "            color:  #000000;\n",
       "        }#T_45de53b4_34bc_11eb_8968_525400774a2arow2_col5,#T_45de53b4_34bc_11eb_8968_525400774a2arow2_col11,#T_45de53b4_34bc_11eb_8968_525400774a2arow5_col2,#T_45de53b4_34bc_11eb_8968_525400774a2arow11_col2{\n",
       "            background-color:  #9ab8d8;\n",
       "            color:  #000000;\n",
       "        }#T_45de53b4_34bc_11eb_8968_525400774a2arow2_col7,#T_45de53b4_34bc_11eb_8968_525400774a2arow7_col2{\n",
       "            background-color:  #88b1d4;\n",
       "            color:  #000000;\n",
       "        }#T_45de53b4_34bc_11eb_8968_525400774a2arow2_col8,#T_45de53b4_34bc_11eb_8968_525400774a2arow8_col2,#T_45de53b4_34bc_11eb_8968_525400774a2arow9_col14,#T_45de53b4_34bc_11eb_8968_525400774a2arow14_col9{\n",
       "            background-color:  #e7e3f0;\n",
       "            color:  #000000;\n",
       "        }#T_45de53b4_34bc_11eb_8968_525400774a2arow2_col9,#T_45de53b4_34bc_11eb_8968_525400774a2arow5_col10,#T_45de53b4_34bc_11eb_8968_525400774a2arow9_col2,#T_45de53b4_34bc_11eb_8968_525400774a2arow10_col5{\n",
       "            background-color:  #8cb3d5;\n",
       "            color:  #000000;\n",
       "        }#T_45de53b4_34bc_11eb_8968_525400774a2arow2_col10,#T_45de53b4_34bc_11eb_8968_525400774a2arow10_col2,#T_45de53b4_34bc_11eb_8968_525400774a2arow11_col13,#T_45de53b4_34bc_11eb_8968_525400774a2arow13_col11{\n",
       "            background-color:  #83afd3;\n",
       "            color:  #000000;\n",
       "        }#T_45de53b4_34bc_11eb_8968_525400774a2arow2_col12,#T_45de53b4_34bc_11eb_8968_525400774a2arow10_col15,#T_45de53b4_34bc_11eb_8968_525400774a2arow12_col2,#T_45de53b4_34bc_11eb_8968_525400774a2arow15_col10{\n",
       "            background-color:  #9cb9d9;\n",
       "            color:  #000000;\n",
       "        }#T_45de53b4_34bc_11eb_8968_525400774a2arow2_col14,#T_45de53b4_34bc_11eb_8968_525400774a2arow14_col2{\n",
       "            background-color:  #f5eff6;\n",
       "            color:  #000000;\n",
       "        }#T_45de53b4_34bc_11eb_8968_525400774a2arow3_col5,#T_45de53b4_34bc_11eb_8968_525400774a2arow5_col3{\n",
       "            background-color:  #b8c6e0;\n",
       "            color:  #000000;\n",
       "        }#T_45de53b4_34bc_11eb_8968_525400774a2arow3_col6,#T_45de53b4_34bc_11eb_8968_525400774a2arow6_col3{\n",
       "            background-color:  #f2ecf5;\n",
       "            color:  #000000;\n",
       "        }#T_45de53b4_34bc_11eb_8968_525400774a2arow3_col7,#T_45de53b4_34bc_11eb_8968_525400774a2arow4_col11,#T_45de53b4_34bc_11eb_8968_525400774a2arow7_col3,#T_45de53b4_34bc_11eb_8968_525400774a2arow11_col4{\n",
       "            background-color:  #dad9ea;\n",
       "            color:  #000000;\n",
       "        }#T_45de53b4_34bc_11eb_8968_525400774a2arow3_col8,#T_45de53b4_34bc_11eb_8968_525400774a2arow8_col3{\n",
       "            background-color:  #fff7fb;\n",
       "            color:  #000000;\n",
       "        }#T_45de53b4_34bc_11eb_8968_525400774a2arow3_col9,#T_45de53b4_34bc_11eb_8968_525400774a2arow3_col12,#T_45de53b4_34bc_11eb_8968_525400774a2arow3_col16,#T_45de53b4_34bc_11eb_8968_525400774a2arow9_col3,#T_45de53b4_34bc_11eb_8968_525400774a2arow11_col14,#T_45de53b4_34bc_11eb_8968_525400774a2arow12_col3,#T_45de53b4_34bc_11eb_8968_525400774a2arow14_col11,#T_45de53b4_34bc_11eb_8968_525400774a2arow16_col3{\n",
       "            background-color:  #dfddec;\n",
       "            color:  #000000;\n",
       "        }#T_45de53b4_34bc_11eb_8968_525400774a2arow3_col10,#T_45de53b4_34bc_11eb_8968_525400774a2arow3_col13,#T_45de53b4_34bc_11eb_8968_525400774a2arow3_col14,#T_45de53b4_34bc_11eb_8968_525400774a2arow10_col3,#T_45de53b4_34bc_11eb_8968_525400774a2arow13_col3,#T_45de53b4_34bc_11eb_8968_525400774a2arow14_col3{\n",
       "            background-color:  #ced0e6;\n",
       "            color:  #000000;\n",
       "        }#T_45de53b4_34bc_11eb_8968_525400774a2arow3_col11,#T_45de53b4_34bc_11eb_8968_525400774a2arow11_col3{\n",
       "            background-color:  #dcdaeb;\n",
       "            color:  #000000;\n",
       "        }#T_45de53b4_34bc_11eb_8968_525400774a2arow4_col5,#T_45de53b4_34bc_11eb_8968_525400774a2arow5_col4{\n",
       "            background-color:  #69a5cc;\n",
       "            color:  #000000;\n",
       "        }#T_45de53b4_34bc_11eb_8968_525400774a2arow4_col6,#T_45de53b4_34bc_11eb_8968_525400774a2arow6_col4{\n",
       "            background-color:  #8fb4d6;\n",
       "            color:  #000000;\n",
       "        }#T_45de53b4_34bc_11eb_8968_525400774a2arow4_col7,#T_45de53b4_34bc_11eb_8968_525400774a2arow7_col4{\n",
       "            background-color:  #e1dfed;\n",
       "            color:  #000000;\n",
       "        }#T_45de53b4_34bc_11eb_8968_525400774a2arow4_col8,#T_45de53b4_34bc_11eb_8968_525400774a2arow8_col4{\n",
       "            background-color:  #96b6d7;\n",
       "            color:  #000000;\n",
       "        }#T_45de53b4_34bc_11eb_8968_525400774a2arow4_col9,#T_45de53b4_34bc_11eb_8968_525400774a2arow9_col4{\n",
       "            background-color:  #e4e1ef;\n",
       "            color:  #000000;\n",
       "        }#T_45de53b4_34bc_11eb_8968_525400774a2arow4_col10,#T_45de53b4_34bc_11eb_8968_525400774a2arow10_col4{\n",
       "            background-color:  #c6cce3;\n",
       "            color:  #000000;\n",
       "        }#T_45de53b4_34bc_11eb_8968_525400774a2arow4_col12,#T_45de53b4_34bc_11eb_8968_525400774a2arow12_col4{\n",
       "            background-color:  #97b7d7;\n",
       "            color:  #000000;\n",
       "        }#T_45de53b4_34bc_11eb_8968_525400774a2arow4_col13,#T_45de53b4_34bc_11eb_8968_525400774a2arow13_col4{\n",
       "            background-color:  #84b0d3;\n",
       "            color:  #000000;\n",
       "        }#T_45de53b4_34bc_11eb_8968_525400774a2arow4_col14,#T_45de53b4_34bc_11eb_8968_525400774a2arow14_col4{\n",
       "            background-color:  #4295c3;\n",
       "            color:  #000000;\n",
       "        }#T_45de53b4_34bc_11eb_8968_525400774a2arow4_col15,#T_45de53b4_34bc_11eb_8968_525400774a2arow15_col4{\n",
       "            background-color:  #2081b9;\n",
       "            color:  #000000;\n",
       "        }#T_45de53b4_34bc_11eb_8968_525400774a2arow4_col16,#T_45de53b4_34bc_11eb_8968_525400774a2arow16_col4{\n",
       "            background-color:  #bcc7e1;\n",
       "            color:  #000000;\n",
       "        }#T_45de53b4_34bc_11eb_8968_525400774a2arow5_col6,#T_45de53b4_34bc_11eb_8968_525400774a2arow6_col5,#T_45de53b4_34bc_11eb_8968_525400774a2arow6_col8,#T_45de53b4_34bc_11eb_8968_525400774a2arow8_col6{\n",
       "            background-color:  #1c7fb8;\n",
       "            color:  #000000;\n",
       "        }#T_45de53b4_34bc_11eb_8968_525400774a2arow5_col7,#T_45de53b4_34bc_11eb_8968_525400774a2arow7_col5{\n",
       "            background-color:  #e3e0ee;\n",
       "            color:  #000000;\n",
       "        }#T_45de53b4_34bc_11eb_8968_525400774a2arow5_col8,#T_45de53b4_34bc_11eb_8968_525400774a2arow8_col5,#T_45de53b4_34bc_11eb_8968_525400774a2arow8_col14,#T_45de53b4_34bc_11eb_8968_525400774a2arow14_col8{\n",
       "            background-color:  #549cc7;\n",
       "            color:  #000000;\n",
       "        }#T_45de53b4_34bc_11eb_8968_525400774a2arow5_col11,#T_45de53b4_34bc_11eb_8968_525400774a2arow11_col5{\n",
       "            background-color:  #e0dded;\n",
       "            color:  #000000;\n",
       "        }#T_45de53b4_34bc_11eb_8968_525400774a2arow5_col12,#T_45de53b4_34bc_11eb_8968_525400774a2arow12_col5{\n",
       "            background-color:  #056ba9;\n",
       "            color:  #f1f1f1;\n",
       "        }#T_45de53b4_34bc_11eb_8968_525400774a2arow5_col13,#T_45de53b4_34bc_11eb_8968_525400774a2arow5_col14,#T_45de53b4_34bc_11eb_8968_525400774a2arow11_col16,#T_45de53b4_34bc_11eb_8968_525400774a2arow13_col5,#T_45de53b4_34bc_11eb_8968_525400774a2arow14_col5,#T_45de53b4_34bc_11eb_8968_525400774a2arow16_col11{\n",
       "            background-color:  #5a9ec9;\n",
       "            color:  #000000;\n",
       "        }#T_45de53b4_34bc_11eb_8968_525400774a2arow5_col16,#T_45de53b4_34bc_11eb_8968_525400774a2arow16_col5{\n",
       "            background-color:  #0570b0;\n",
       "            color:  #f1f1f1;\n",
       "        }#T_45de53b4_34bc_11eb_8968_525400774a2arow6_col7,#T_45de53b4_34bc_11eb_8968_525400774a2arow7_col6,#T_45de53b4_34bc_11eb_8968_525400774a2arow10_col13,#T_45de53b4_34bc_11eb_8968_525400774a2arow13_col10{\n",
       "            background-color:  #63a2cb;\n",
       "            color:  #000000;\n",
       "        }#T_45de53b4_34bc_11eb_8968_525400774a2arow6_col9,#T_45de53b4_34bc_11eb_8968_525400774a2arow9_col6,#T_45de53b4_34bc_11eb_8968_525400774a2arow10_col12,#T_45de53b4_34bc_11eb_8968_525400774a2arow12_col10{\n",
       "            background-color:  #4c99c5;\n",
       "            color:  #000000;\n",
       "        }#T_45de53b4_34bc_11eb_8968_525400774a2arow6_col10,#T_45de53b4_34bc_11eb_8968_525400774a2arow10_col6{\n",
       "            background-color:  #3b92c1;\n",
       "            color:  #000000;\n",
       "        }#T_45de53b4_34bc_11eb_8968_525400774a2arow6_col11,#T_45de53b4_34bc_11eb_8968_525400774a2arow11_col6,#T_45de53b4_34bc_11eb_8968_525400774a2arow13_col15,#T_45de53b4_34bc_11eb_8968_525400774a2arow15_col13{\n",
       "            background-color:  #6da6cd;\n",
       "            color:  #000000;\n",
       "        }#T_45de53b4_34bc_11eb_8968_525400774a2arow6_col12,#T_45de53b4_34bc_11eb_8968_525400774a2arow12_col6{\n",
       "            background-color:  #0a73b2;\n",
       "            color:  #f1f1f1;\n",
       "        }#T_45de53b4_34bc_11eb_8968_525400774a2arow6_col13,#T_45de53b4_34bc_11eb_8968_525400774a2arow13_col6{\n",
       "            background-color:  #4a98c5;\n",
       "            color:  #000000;\n",
       "        }#T_45de53b4_34bc_11eb_8968_525400774a2arow6_col14,#T_45de53b4_34bc_11eb_8968_525400774a2arow14_col6{\n",
       "            background-color:  #9ebad9;\n",
       "            color:  #000000;\n",
       "        }#T_45de53b4_34bc_11eb_8968_525400774a2arow6_col15,#T_45de53b4_34bc_11eb_8968_525400774a2arow15_col6{\n",
       "            background-color:  #bfc9e1;\n",
       "            color:  #000000;\n",
       "        }#T_45de53b4_34bc_11eb_8968_525400774a2arow6_col16,#T_45de53b4_34bc_11eb_8968_525400774a2arow16_col6{\n",
       "            background-color:  #0771b1;\n",
       "            color:  #f1f1f1;\n",
       "        }#T_45de53b4_34bc_11eb_8968_525400774a2arow7_col8,#T_45de53b4_34bc_11eb_8968_525400774a2arow8_col7,#T_45de53b4_34bc_11eb_8968_525400774a2arow9_col16,#T_45de53b4_34bc_11eb_8968_525400774a2arow16_col9{\n",
       "            background-color:  #5c9fc9;\n",
       "            color:  #000000;\n",
       "        }#T_45de53b4_34bc_11eb_8968_525400774a2arow7_col9,#T_45de53b4_34bc_11eb_8968_525400774a2arow9_col7{\n",
       "            background-color:  #034b76;\n",
       "            color:  #f1f1f1;\n",
       "        }#T_45de53b4_34bc_11eb_8968_525400774a2arow7_col10,#T_45de53b4_34bc_11eb_8968_525400774a2arow10_col7{\n",
       "            background-color:  #2383ba;\n",
       "            color:  #000000;\n",
       "        }#T_45de53b4_34bc_11eb_8968_525400774a2arow7_col11,#T_45de53b4_34bc_11eb_8968_525400774a2arow11_col7{\n",
       "            background-color:  #045382;\n",
       "            color:  #f1f1f1;\n",
       "        }#T_45de53b4_34bc_11eb_8968_525400774a2arow7_col12,#T_45de53b4_34bc_11eb_8968_525400774a2arow11_col15,#T_45de53b4_34bc_11eb_8968_525400774a2arow12_col7,#T_45de53b4_34bc_11eb_8968_525400774a2arow15_col11{\n",
       "            background-color:  #a4bcda;\n",
       "            color:  #000000;\n",
       "        }#T_45de53b4_34bc_11eb_8968_525400774a2arow7_col13,#T_45de53b4_34bc_11eb_8968_525400774a2arow8_col15,#T_45de53b4_34bc_11eb_8968_525400774a2arow13_col7,#T_45de53b4_34bc_11eb_8968_525400774a2arow15_col8{\n",
       "            background-color:  #7dacd1;\n",
       "            color:  #000000;\n",
       "        }#T_45de53b4_34bc_11eb_8968_525400774a2arow7_col14,#T_45de53b4_34bc_11eb_8968_525400774a2arow14_col7{\n",
       "            background-color:  #eee9f3;\n",
       "            color:  #000000;\n",
       "        }#T_45de53b4_34bc_11eb_8968_525400774a2arow7_col16,#T_45de53b4_34bc_11eb_8968_525400774a2arow16_col7{\n",
       "            background-color:  #6ba5cd;\n",
       "            color:  #000000;\n",
       "        }#T_45de53b4_34bc_11eb_8968_525400774a2arow8_col9,#T_45de53b4_34bc_11eb_8968_525400774a2arow9_col8,#T_45de53b4_34bc_11eb_8968_525400774a2arow13_col14,#T_45de53b4_34bc_11eb_8968_525400774a2arow14_col13{\n",
       "            background-color:  #569dc8;\n",
       "            color:  #000000;\n",
       "        }#T_45de53b4_34bc_11eb_8968_525400774a2arow8_col10,#T_45de53b4_34bc_11eb_8968_525400774a2arow10_col8,#T_45de53b4_34bc_11eb_8968_525400774a2arow12_col13,#T_45de53b4_34bc_11eb_8968_525400774a2arow13_col12{\n",
       "            background-color:  #2685bb;\n",
       "            color:  #000000;\n",
       "        }#T_45de53b4_34bc_11eb_8968_525400774a2arow8_col11,#T_45de53b4_34bc_11eb_8968_525400774a2arow11_col8{\n",
       "            background-color:  #328dbf;\n",
       "            color:  #000000;\n",
       "        }#T_45de53b4_34bc_11eb_8968_525400774a2arow8_col12,#T_45de53b4_34bc_11eb_8968_525400774a2arow12_col8{\n",
       "            background-color:  #4094c3;\n",
       "            color:  #000000;\n",
       "        }#T_45de53b4_34bc_11eb_8968_525400774a2arow8_col13,#T_45de53b4_34bc_11eb_8968_525400774a2arow13_col8{\n",
       "            background-color:  #4697c4;\n",
       "            color:  #000000;\n",
       "        }#T_45de53b4_34bc_11eb_8968_525400774a2arow8_col16,#T_45de53b4_34bc_11eb_8968_525400774a2arow10_col16,#T_45de53b4_34bc_11eb_8968_525400774a2arow16_col8,#T_45de53b4_34bc_11eb_8968_525400774a2arow16_col10{\n",
       "            background-color:  #0569a5;\n",
       "            color:  #f1f1f1;\n",
       "        }#T_45de53b4_34bc_11eb_8968_525400774a2arow9_col10,#T_45de53b4_34bc_11eb_8968_525400774a2arow10_col9,#T_45de53b4_34bc_11eb_8968_525400774a2arow10_col11,#T_45de53b4_34bc_11eb_8968_525400774a2arow11_col10{\n",
       "            background-color:  #1077b4;\n",
       "            color:  #f1f1f1;\n",
       "        }#T_45de53b4_34bc_11eb_8968_525400774a2arow9_col11,#T_45de53b4_34bc_11eb_8968_525400774a2arow11_col9{\n",
       "            background-color:  #0566a0;\n",
       "            color:  #f1f1f1;\n",
       "        }#T_45de53b4_34bc_11eb_8968_525400774a2arow9_col12,#T_45de53b4_34bc_11eb_8968_525400774a2arow12_col9{\n",
       "            background-color:  #a5bddb;\n",
       "            color:  #000000;\n",
       "        }#T_45de53b4_34bc_11eb_8968_525400774a2arow9_col13,#T_45de53b4_34bc_11eb_8968_525400774a2arow13_col9,#T_45de53b4_34bc_11eb_8968_525400774a2arow14_col16,#T_45de53b4_34bc_11eb_8968_525400774a2arow16_col14{\n",
       "            background-color:  #81aed2;\n",
       "            color:  #000000;\n",
       "        }#T_45de53b4_34bc_11eb_8968_525400774a2arow10_col14,#T_45de53b4_34bc_11eb_8968_525400774a2arow14_col10{\n",
       "            background-color:  #b9c6e0;\n",
       "            color:  #000000;\n",
       "        }#T_45de53b4_34bc_11eb_8968_525400774a2arow11_col12,#T_45de53b4_34bc_11eb_8968_525400774a2arow12_col11{\n",
       "            background-color:  #a7bddb;\n",
       "            color:  #000000;\n",
       "        }#T_45de53b4_34bc_11eb_8968_525400774a2arow12_col14,#T_45de53b4_34bc_11eb_8968_525400774a2arow14_col12{\n",
       "            background-color:  #80aed2;\n",
       "            color:  #000000;\n",
       "        }#T_45de53b4_34bc_11eb_8968_525400774a2arow12_col15,#T_45de53b4_34bc_11eb_8968_525400774a2arow15_col12{\n",
       "            background-color:  #b3c3de;\n",
       "            color:  #000000;\n",
       "        }#T_45de53b4_34bc_11eb_8968_525400774a2arow12_col16,#T_45de53b4_34bc_11eb_8968_525400774a2arow16_col12{\n",
       "            background-color:  #046299;\n",
       "            color:  #f1f1f1;\n",
       "        }#T_45de53b4_34bc_11eb_8968_525400774a2arow13_col16,#T_45de53b4_34bc_11eb_8968_525400774a2arow16_col13{\n",
       "            background-color:  #197db7;\n",
       "            color:  #000000;\n",
       "        }#T_45de53b4_34bc_11eb_8968_525400774a2arow14_col15,#T_45de53b4_34bc_11eb_8968_525400774a2arow15_col14{\n",
       "            background-color:  #60a1ca;\n",
       "            color:  #000000;\n",
       "        }#T_45de53b4_34bc_11eb_8968_525400774a2arow15_col16,#T_45de53b4_34bc_11eb_8968_525400774a2arow16_col15{\n",
       "            background-color:  #99b8d8;\n",
       "            color:  #000000;\n",
       "        }</style><table id=\"T_45de53b4_34bc_11eb_8968_525400774a2a\" ><thead>    <tr>        <th class=\"blank level0\" ></th>        <th class=\"col_heading level0 col0\" >Rt</th>        <th class=\"col_heading level0 col1\" >theta</th>        <th class=\"col_heading level0 col2\" >kappa</th>        <th class=\"col_heading level0 col3\" >rho</th>        <th class=\"col_heading level0 col4\" >sigma</th>        <th class=\"col_heading level0 col5\" >School_closing</th>        <th class=\"col_heading level0 col6\" >Workplace_closing</th>        <th class=\"col_heading level0 col7\" >Cancel_events</th>        <th class=\"col_heading level0 col8\" >Gatherings_restrictions</th>        <th class=\"col_heading level0 col9\" >Transport_closing</th>        <th class=\"col_heading level0 col10\" >Stay_home_restrictions</th>        <th class=\"col_heading level0 col11\" >Internal_movement_restrictions</th>        <th class=\"col_heading level0 col12\" >International_movement_restrictions</th>        <th class=\"col_heading level0 col13\" >Information_campaigns</th>        <th class=\"col_heading level0 col14\" >Testing_policy</th>        <th class=\"col_heading level0 col15\" >Contact_tracing</th>        <th class=\"col_heading level0 col16\" >Stringency_index</th>    </tr></thead><tbody>\n",
       "                <tr>\n",
       "                        <th id=\"T_45de53b4_34bc_11eb_8968_525400774a2alevel0_row0\" class=\"row_heading level0 row0\" >Rt</th>\n",
       "                        <td id=\"T_45de53b4_34bc_11eb_8968_525400774a2arow0_col0\" class=\"data row0 col0\" >1.000000</td>\n",
       "                        <td id=\"T_45de53b4_34bc_11eb_8968_525400774a2arow0_col1\" class=\"data row0 col1\" >-0.188054</td>\n",
       "                        <td id=\"T_45de53b4_34bc_11eb_8968_525400774a2arow0_col2\" class=\"data row0 col2\" >0.081179</td>\n",
       "                        <td id=\"T_45de53b4_34bc_11eb_8968_525400774a2arow0_col3\" class=\"data row0 col3\" >0.517608</td>\n",
       "                        <td id=\"T_45de53b4_34bc_11eb_8968_525400774a2arow0_col4\" class=\"data row0 col4\" >-0.281807</td>\n",
       "                        <td id=\"T_45de53b4_34bc_11eb_8968_525400774a2arow0_col5\" class=\"data row0 col5\" >-0.034597</td>\n",
       "                        <td id=\"T_45de53b4_34bc_11eb_8968_525400774a2arow0_col6\" class=\"data row0 col6\" >-0.145922</td>\n",
       "                        <td id=\"T_45de53b4_34bc_11eb_8968_525400774a2arow0_col7\" class=\"data row0 col7\" >-0.057702</td>\n",
       "                        <td id=\"T_45de53b4_34bc_11eb_8968_525400774a2arow0_col8\" class=\"data row0 col8\" >-0.196785</td>\n",
       "                        <td id=\"T_45de53b4_34bc_11eb_8968_525400774a2arow0_col9\" class=\"data row0 col9\" >-0.052687</td>\n",
       "                        <td id=\"T_45de53b4_34bc_11eb_8968_525400774a2arow0_col10\" class=\"data row0 col10\" >-0.044759</td>\n",
       "                        <td id=\"T_45de53b4_34bc_11eb_8968_525400774a2arow0_col11\" class=\"data row0 col11\" >-0.073551</td>\n",
       "                        <td id=\"T_45de53b4_34bc_11eb_8968_525400774a2arow0_col12\" class=\"data row0 col12\" >-0.161711</td>\n",
       "                        <td id=\"T_45de53b4_34bc_11eb_8968_525400774a2arow0_col13\" class=\"data row0 col13\" >-0.162463</td>\n",
       "                        <td id=\"T_45de53b4_34bc_11eb_8968_525400774a2arow0_col14\" class=\"data row0 col14\" >-0.245434</td>\n",
       "                        <td id=\"T_45de53b4_34bc_11eb_8968_525400774a2arow0_col15\" class=\"data row0 col15\" >-0.093258</td>\n",
       "                        <td id=\"T_45de53b4_34bc_11eb_8968_525400774a2arow0_col16\" class=\"data row0 col16\" >-0.093711</td>\n",
       "            </tr>\n",
       "            <tr>\n",
       "                        <th id=\"T_45de53b4_34bc_11eb_8968_525400774a2alevel0_row1\" class=\"row_heading level0 row1\" >theta</th>\n",
       "                        <td id=\"T_45de53b4_34bc_11eb_8968_525400774a2arow1_col0\" class=\"data row1 col0\" >-0.188054</td>\n",
       "                        <td id=\"T_45de53b4_34bc_11eb_8968_525400774a2arow1_col1\" class=\"data row1 col1\" >1.000000</td>\n",
       "                        <td id=\"T_45de53b4_34bc_11eb_8968_525400774a2arow1_col2\" class=\"data row1 col2\" >-0.006021</td>\n",
       "                        <td id=\"T_45de53b4_34bc_11eb_8968_525400774a2arow1_col3\" class=\"data row1 col3\" >-0.472284</td>\n",
       "                        <td id=\"T_45de53b4_34bc_11eb_8968_525400774a2arow1_col4\" class=\"data row1 col4\" >0.078018</td>\n",
       "                        <td id=\"T_45de53b4_34bc_11eb_8968_525400774a2arow1_col5\" class=\"data row1 col5\" >0.066769</td>\n",
       "                        <td id=\"T_45de53b4_34bc_11eb_8968_525400774a2arow1_col6\" class=\"data row1 col6\" >0.364654</td>\n",
       "                        <td id=\"T_45de53b4_34bc_11eb_8968_525400774a2arow1_col7\" class=\"data row1 col7\" >0.341911</td>\n",
       "                        <td id=\"T_45de53b4_34bc_11eb_8968_525400774a2arow1_col8\" class=\"data row1 col8\" >0.185046</td>\n",
       "                        <td id=\"T_45de53b4_34bc_11eb_8968_525400774a2arow1_col9\" class=\"data row1 col9\" >0.361578</td>\n",
       "                        <td id=\"T_45de53b4_34bc_11eb_8968_525400774a2arow1_col10\" class=\"data row1 col10\" >-0.040617</td>\n",
       "                        <td id=\"T_45de53b4_34bc_11eb_8968_525400774a2arow1_col11\" class=\"data row1 col11\" >0.190955</td>\n",
       "                        <td id=\"T_45de53b4_34bc_11eb_8968_525400774a2arow1_col12\" class=\"data row1 col12\" >0.228718</td>\n",
       "                        <td id=\"T_45de53b4_34bc_11eb_8968_525400774a2arow1_col13\" class=\"data row1 col13\" >0.077368</td>\n",
       "                        <td id=\"T_45de53b4_34bc_11eb_8968_525400774a2arow1_col14\" class=\"data row1 col14\" >-0.195401</td>\n",
       "                        <td id=\"T_45de53b4_34bc_11eb_8968_525400774a2arow1_col15\" class=\"data row1 col15\" >-0.352644</td>\n",
       "                        <td id=\"T_45de53b4_34bc_11eb_8968_525400774a2arow1_col16\" class=\"data row1 col16\" >0.056496</td>\n",
       "            </tr>\n",
       "            <tr>\n",
       "                        <th id=\"T_45de53b4_34bc_11eb_8968_525400774a2alevel0_row2\" class=\"row_heading level0 row2\" >kappa</th>\n",
       "                        <td id=\"T_45de53b4_34bc_11eb_8968_525400774a2arow2_col0\" class=\"data row2 col0\" >0.081179</td>\n",
       "                        <td id=\"T_45de53b4_34bc_11eb_8968_525400774a2arow2_col1\" class=\"data row2 col1\" >-0.006021</td>\n",
       "                        <td id=\"T_45de53b4_34bc_11eb_8968_525400774a2arow2_col2\" class=\"data row2 col2\" >1.000000</td>\n",
       "                        <td id=\"T_45de53b4_34bc_11eb_8968_525400774a2arow2_col3\" class=\"data row2 col3\" >0.510591</td>\n",
       "                        <td id=\"T_45de53b4_34bc_11eb_8968_525400774a2arow2_col4\" class=\"data row2 col4\" >-0.151340</td>\n",
       "                        <td id=\"T_45de53b4_34bc_11eb_8968_525400774a2arow2_col5\" class=\"data row2 col5\" >0.030255</td>\n",
       "                        <td id=\"T_45de53b4_34bc_11eb_8968_525400774a2arow2_col6\" class=\"data row2 col6\" >-0.049325</td>\n",
       "                        <td id=\"T_45de53b4_34bc_11eb_8968_525400774a2arow2_col7\" class=\"data row2 col7\" >0.106999</td>\n",
       "                        <td id=\"T_45de53b4_34bc_11eb_8968_525400774a2arow2_col8\" class=\"data row2 col8\" >-0.385657</td>\n",
       "                        <td id=\"T_45de53b4_34bc_11eb_8968_525400774a2arow2_col9\" class=\"data row2 col9\" >0.084880</td>\n",
       "                        <td id=\"T_45de53b4_34bc_11eb_8968_525400774a2arow2_col10\" class=\"data row2 col10\" >0.123727</td>\n",
       "                        <td id=\"T_45de53b4_34bc_11eb_8968_525400774a2arow2_col11\" class=\"data row2 col11\" >0.027263</td>\n",
       "                        <td id=\"T_45de53b4_34bc_11eb_8968_525400774a2arow2_col12\" class=\"data row2 col12\" >0.021384</td>\n",
       "                        <td id=\"T_45de53b4_34bc_11eb_8968_525400774a2arow2_col13\" class=\"data row2 col13\" >-0.059646</td>\n",
       "                        <td id=\"T_45de53b4_34bc_11eb_8968_525400774a2arow2_col14\" class=\"data row2 col14\" >-0.525550</td>\n",
       "                        <td id=\"T_45de53b4_34bc_11eb_8968_525400774a2arow2_col15\" class=\"data row2 col15\" >-0.148869</td>\n",
       "                        <td id=\"T_45de53b4_34bc_11eb_8968_525400774a2arow2_col16\" class=\"data row2 col16\" >-0.001615</td>\n",
       "            </tr>\n",
       "            <tr>\n",
       "                        <th id=\"T_45de53b4_34bc_11eb_8968_525400774a2alevel0_row3\" class=\"row_heading level0 row3\" >rho</th>\n",
       "                        <td id=\"T_45de53b4_34bc_11eb_8968_525400774a2arow3_col0\" class=\"data row3 col0\" >0.517608</td>\n",
       "                        <td id=\"T_45de53b4_34bc_11eb_8968_525400774a2arow3_col1\" class=\"data row3 col1\" >-0.472284</td>\n",
       "                        <td id=\"T_45de53b4_34bc_11eb_8968_525400774a2arow3_col2\" class=\"data row3 col2\" >0.510591</td>\n",
       "                        <td id=\"T_45de53b4_34bc_11eb_8968_525400774a2arow3_col3\" class=\"data row3 col3\" >1.000000</td>\n",
       "                        <td id=\"T_45de53b4_34bc_11eb_8968_525400774a2arow3_col4\" class=\"data row3 col4\" >-0.001433</td>\n",
       "                        <td id=\"T_45de53b4_34bc_11eb_8968_525400774a2arow3_col5\" class=\"data row3 col5\" >-0.108076</td>\n",
       "                        <td id=\"T_45de53b4_34bc_11eb_8968_525400774a2arow3_col6\" class=\"data row3 col6\" >-0.484652</td>\n",
       "                        <td id=\"T_45de53b4_34bc_11eb_8968_525400774a2arow3_col7\" class=\"data row3 col7\" >-0.295659</td>\n",
       "                        <td id=\"T_45de53b4_34bc_11eb_8968_525400774a2arow3_col8\" class=\"data row3 col8\" >-0.630502</td>\n",
       "                        <td id=\"T_45de53b4_34bc_11eb_8968_525400774a2arow3_col9\" class=\"data row3 col9\" >-0.327212</td>\n",
       "                        <td id=\"T_45de53b4_34bc_11eb_8968_525400774a2arow3_col10\" class=\"data row3 col10\" >-0.214730</td>\n",
       "                        <td id=\"T_45de53b4_34bc_11eb_8968_525400774a2arow3_col11\" class=\"data row3 col11\" >-0.305971</td>\n",
       "                        <td id=\"T_45de53b4_34bc_11eb_8968_525400774a2arow3_col12\" class=\"data row3 col12\" >-0.325076</td>\n",
       "                        <td id=\"T_45de53b4_34bc_11eb_8968_525400774a2arow3_col13\" class=\"data row3 col13\" >-0.214732</td>\n",
       "                        <td id=\"T_45de53b4_34bc_11eb_8968_525400774a2arow3_col14\" class=\"data row3 col14\" >-0.215832</td>\n",
       "                        <td id=\"T_45de53b4_34bc_11eb_8968_525400774a2arow3_col15\" class=\"data row3 col15\" >0.056755</td>\n",
       "                        <td id=\"T_45de53b4_34bc_11eb_8968_525400774a2arow3_col16\" class=\"data row3 col16\" >-0.330207</td>\n",
       "            </tr>\n",
       "            <tr>\n",
       "                        <th id=\"T_45de53b4_34bc_11eb_8968_525400774a2alevel0_row4\" class=\"row_heading level0 row4\" >sigma</th>\n",
       "                        <td id=\"T_45de53b4_34bc_11eb_8968_525400774a2arow4_col0\" class=\"data row4 col0\" >-0.281807</td>\n",
       "                        <td id=\"T_45de53b4_34bc_11eb_8968_525400774a2arow4_col1\" class=\"data row4 col1\" >0.078018</td>\n",
       "                        <td id=\"T_45de53b4_34bc_11eb_8968_525400774a2arow4_col2\" class=\"data row4 col2\" >-0.151340</td>\n",
       "                        <td id=\"T_45de53b4_34bc_11eb_8968_525400774a2arow4_col3\" class=\"data row4 col3\" >-0.001433</td>\n",
       "                        <td id=\"T_45de53b4_34bc_11eb_8968_525400774a2arow4_col4\" class=\"data row4 col4\" >1.000000</td>\n",
       "                        <td id=\"T_45de53b4_34bc_11eb_8968_525400774a2arow4_col5\" class=\"data row4 col5\" >0.222491</td>\n",
       "                        <td id=\"T_45de53b4_34bc_11eb_8968_525400774a2arow4_col6\" class=\"data row4 col6\" >0.070196</td>\n",
       "                        <td id=\"T_45de53b4_34bc_11eb_8968_525400774a2arow4_col7\" class=\"data row4 col7\" >-0.347360</td>\n",
       "                        <td id=\"T_45de53b4_34bc_11eb_8968_525400774a2arow4_col8\" class=\"data row4 col8\" >0.046685</td>\n",
       "                        <td id=\"T_45de53b4_34bc_11eb_8968_525400774a2arow4_col9\" class=\"data row4 col9\" >-0.366717</td>\n",
       "                        <td id=\"T_45de53b4_34bc_11eb_8968_525400774a2arow4_col10\" class=\"data row4 col10\" >-0.176566</td>\n",
       "                        <td id=\"T_45de53b4_34bc_11eb_8968_525400774a2arow4_col11\" class=\"data row4 col11\" >-0.298119</td>\n",
       "                        <td id=\"T_45de53b4_34bc_11eb_8968_525400774a2arow4_col12\" class=\"data row4 col12\" >0.042156</td>\n",
       "                        <td id=\"T_45de53b4_34bc_11eb_8968_525400774a2arow4_col13\" class=\"data row4 col13\" >0.119012</td>\n",
       "                        <td id=\"T_45de53b4_34bc_11eb_8968_525400774a2arow4_col14\" class=\"data row4 col14\" >0.346311</td>\n",
       "                        <td id=\"T_45de53b4_34bc_11eb_8968_525400774a2arow4_col15\" class=\"data row4 col15\" >0.483403</td>\n",
       "                        <td id=\"T_45de53b4_34bc_11eb_8968_525400774a2arow4_col16\" class=\"data row4 col16\" >-0.121288</td>\n",
       "            </tr>\n",
       "            <tr>\n",
       "                        <th id=\"T_45de53b4_34bc_11eb_8968_525400774a2alevel0_row5\" class=\"row_heading level0 row5\" >School_closing</th>\n",
       "                        <td id=\"T_45de53b4_34bc_11eb_8968_525400774a2arow5_col0\" class=\"data row5 col0\" >-0.034597</td>\n",
       "                        <td id=\"T_45de53b4_34bc_11eb_8968_525400774a2arow5_col1\" class=\"data row5 col1\" >0.066769</td>\n",
       "                        <td id=\"T_45de53b4_34bc_11eb_8968_525400774a2arow5_col2\" class=\"data row5 col2\" >0.030255</td>\n",
       "                        <td id=\"T_45de53b4_34bc_11eb_8968_525400774a2arow5_col3\" class=\"data row5 col3\" >-0.108076</td>\n",
       "                        <td id=\"T_45de53b4_34bc_11eb_8968_525400774a2arow5_col4\" class=\"data row5 col4\" >0.222491</td>\n",
       "                        <td id=\"T_45de53b4_34bc_11eb_8968_525400774a2arow5_col5\" class=\"data row5 col5\" >1.000000</td>\n",
       "                        <td id=\"T_45de53b4_34bc_11eb_8968_525400774a2arow5_col6\" class=\"data row5 col6\" >0.490794</td>\n",
       "                        <td id=\"T_45de53b4_34bc_11eb_8968_525400774a2arow5_col7\" class=\"data row5 col7\" >-0.362626</td>\n",
       "                        <td id=\"T_45de53b4_34bc_11eb_8968_525400774a2arow5_col8\" class=\"data row5 col8\" >0.287371</td>\n",
       "                        <td id=\"T_45de53b4_34bc_11eb_8968_525400774a2arow5_col9\" class=\"data row5 col9\" >-0.287557</td>\n",
       "                        <td id=\"T_45de53b4_34bc_11eb_8968_525400774a2arow5_col10\" class=\"data row5 col10\" >0.088645</td>\n",
       "                        <td id=\"T_45de53b4_34bc_11eb_8968_525400774a2arow5_col11\" class=\"data row5 col11\" >-0.332530</td>\n",
       "                        <td id=\"T_45de53b4_34bc_11eb_8968_525400774a2arow5_col12\" class=\"data row5 col12\" >0.631361</td>\n",
       "                        <td id=\"T_45de53b4_34bc_11eb_8968_525400774a2arow5_col13\" class=\"data row5 col13\" >0.273847</td>\n",
       "                        <td id=\"T_45de53b4_34bc_11eb_8968_525400774a2arow5_col14\" class=\"data row5 col14\" >0.268802</td>\n",
       "                        <td id=\"T_45de53b4_34bc_11eb_8968_525400774a2arow5_col15\" class=\"data row5 col15\" >0.066834</td>\n",
       "                        <td id=\"T_45de53b4_34bc_11eb_8968_525400774a2arow5_col16\" class=\"data row5 col16\" >0.587758</td>\n",
       "            </tr>\n",
       "            <tr>\n",
       "                        <th id=\"T_45de53b4_34bc_11eb_8968_525400774a2alevel0_row6\" class=\"row_heading level0 row6\" >Workplace_closing</th>\n",
       "                        <td id=\"T_45de53b4_34bc_11eb_8968_525400774a2arow6_col0\" class=\"data row6 col0\" >-0.145922</td>\n",
       "                        <td id=\"T_45de53b4_34bc_11eb_8968_525400774a2arow6_col1\" class=\"data row6 col1\" >0.364654</td>\n",
       "                        <td id=\"T_45de53b4_34bc_11eb_8968_525400774a2arow6_col2\" class=\"data row6 col2\" >-0.049325</td>\n",
       "                        <td id=\"T_45de53b4_34bc_11eb_8968_525400774a2arow6_col3\" class=\"data row6 col3\" >-0.484652</td>\n",
       "                        <td id=\"T_45de53b4_34bc_11eb_8968_525400774a2arow6_col4\" class=\"data row6 col4\" >0.070196</td>\n",
       "                        <td id=\"T_45de53b4_34bc_11eb_8968_525400774a2arow6_col5\" class=\"data row6 col5\" >0.490794</td>\n",
       "                        <td id=\"T_45de53b4_34bc_11eb_8968_525400774a2arow6_col6\" class=\"data row6 col6\" >1.000000</td>\n",
       "                        <td id=\"T_45de53b4_34bc_11eb_8968_525400774a2arow6_col7\" class=\"data row6 col7\" >0.236515</td>\n",
       "                        <td id=\"T_45de53b4_34bc_11eb_8968_525400774a2arow6_col8\" class=\"data row6 col8\" >0.495207</td>\n",
       "                        <td id=\"T_45de53b4_34bc_11eb_8968_525400774a2arow6_col9\" class=\"data row6 col9\" >0.317654</td>\n",
       "                        <td id=\"T_45de53b4_34bc_11eb_8968_525400774a2arow6_col10\" class=\"data row6 col10\" >0.373355</td>\n",
       "                        <td id=\"T_45de53b4_34bc_11eb_8968_525400774a2arow6_col11\" class=\"data row6 col11\" >0.205013</td>\n",
       "                        <td id=\"T_45de53b4_34bc_11eb_8968_525400774a2arow6_col12\" class=\"data row6 col12\" >0.573136</td>\n",
       "                        <td id=\"T_45de53b4_34bc_11eb_8968_525400774a2arow6_col13\" class=\"data row6 col13\" >0.324583</td>\n",
       "                        <td id=\"T_45de53b4_34bc_11eb_8968_525400774a2arow6_col14\" class=\"data row6 col14\" >0.017701</td>\n",
       "                        <td id=\"T_45de53b4_34bc_11eb_8968_525400774a2arow6_col15\" class=\"data row6 col15\" >-0.135623</td>\n",
       "                        <td id=\"T_45de53b4_34bc_11eb_8968_525400774a2arow6_col16\" class=\"data row6 col16\" >0.582438</td>\n",
       "            </tr>\n",
       "            <tr>\n",
       "                        <th id=\"T_45de53b4_34bc_11eb_8968_525400774a2alevel0_row7\" class=\"row_heading level0 row7\" >Cancel_events</th>\n",
       "                        <td id=\"T_45de53b4_34bc_11eb_8968_525400774a2arow7_col0\" class=\"data row7 col0\" >-0.057702</td>\n",
       "                        <td id=\"T_45de53b4_34bc_11eb_8968_525400774a2arow7_col1\" class=\"data row7 col1\" >0.341911</td>\n",
       "                        <td id=\"T_45de53b4_34bc_11eb_8968_525400774a2arow7_col2\" class=\"data row7 col2\" >0.106999</td>\n",
       "                        <td id=\"T_45de53b4_34bc_11eb_8968_525400774a2arow7_col3\" class=\"data row7 col3\" >-0.295659</td>\n",
       "                        <td id=\"T_45de53b4_34bc_11eb_8968_525400774a2arow7_col4\" class=\"data row7 col4\" >-0.347360</td>\n",
       "                        <td id=\"T_45de53b4_34bc_11eb_8968_525400774a2arow7_col5\" class=\"data row7 col5\" >-0.362626</td>\n",
       "                        <td id=\"T_45de53b4_34bc_11eb_8968_525400774a2arow7_col6\" class=\"data row7 col6\" >0.236515</td>\n",
       "                        <td id=\"T_45de53b4_34bc_11eb_8968_525400774a2arow7_col7\" class=\"data row7 col7\" >1.000000</td>\n",
       "                        <td id=\"T_45de53b4_34bc_11eb_8968_525400774a2arow7_col8\" class=\"data row7 col8\" >0.266849</td>\n",
       "                        <td id=\"T_45de53b4_34bc_11eb_8968_525400774a2arow7_col9\" class=\"data row7 col9\" >0.883971</td>\n",
       "                        <td id=\"T_45de53b4_34bc_11eb_8968_525400774a2arow7_col10\" class=\"data row7 col10\" >0.469085</td>\n",
       "                        <td id=\"T_45de53b4_34bc_11eb_8968_525400774a2arow7_col11\" class=\"data row7 col11\" >0.834497</td>\n",
       "                        <td id=\"T_45de53b4_34bc_11eb_8968_525400774a2arow7_col12\" class=\"data row7 col12\" >-0.011663</td>\n",
       "                        <td id=\"T_45de53b4_34bc_11eb_8968_525400774a2arow7_col13\" class=\"data row7 col13\" >0.151385</td>\n",
       "                        <td id=\"T_45de53b4_34bc_11eb_8968_525400774a2arow7_col14\" class=\"data row7 col14\" >-0.447154</td>\n",
       "                        <td id=\"T_45de53b4_34bc_11eb_8968_525400774a2arow7_col15\" class=\"data row7 col15\" >-0.285801</td>\n",
       "                        <td id=\"T_45de53b4_34bc_11eb_8968_525400774a2arow7_col16\" class=\"data row7 col16\" >0.210406</td>\n",
       "            </tr>\n",
       "            <tr>\n",
       "                        <th id=\"T_45de53b4_34bc_11eb_8968_525400774a2alevel0_row8\" class=\"row_heading level0 row8\" >Gatherings_restrictions</th>\n",
       "                        <td id=\"T_45de53b4_34bc_11eb_8968_525400774a2arow8_col0\" class=\"data row8 col0\" >-0.196785</td>\n",
       "                        <td id=\"T_45de53b4_34bc_11eb_8968_525400774a2arow8_col1\" class=\"data row8 col1\" >0.185046</td>\n",
       "                        <td id=\"T_45de53b4_34bc_11eb_8968_525400774a2arow8_col2\" class=\"data row8 col2\" >-0.385657</td>\n",
       "                        <td id=\"T_45de53b4_34bc_11eb_8968_525400774a2arow8_col3\" class=\"data row8 col3\" >-0.630502</td>\n",
       "                        <td id=\"T_45de53b4_34bc_11eb_8968_525400774a2arow8_col4\" class=\"data row8 col4\" >0.046685</td>\n",
       "                        <td id=\"T_45de53b4_34bc_11eb_8968_525400774a2arow8_col5\" class=\"data row8 col5\" >0.287371</td>\n",
       "                        <td id=\"T_45de53b4_34bc_11eb_8968_525400774a2arow8_col6\" class=\"data row8 col6\" >0.495207</td>\n",
       "                        <td id=\"T_45de53b4_34bc_11eb_8968_525400774a2arow8_col7\" class=\"data row8 col7\" >0.266849</td>\n",
       "                        <td id=\"T_45de53b4_34bc_11eb_8968_525400774a2arow8_col8\" class=\"data row8 col8\" >1.000000</td>\n",
       "                        <td id=\"T_45de53b4_34bc_11eb_8968_525400774a2arow8_col9\" class=\"data row8 col9\" >0.283105</td>\n",
       "                        <td id=\"T_45de53b4_34bc_11eb_8968_525400774a2arow8_col10\" class=\"data row8 col10\" >0.456418</td>\n",
       "                        <td id=\"T_45de53b4_34bc_11eb_8968_525400774a2arow8_col11\" class=\"data row8 col11\" >0.403222</td>\n",
       "                        <td id=\"T_45de53b4_34bc_11eb_8968_525400774a2arow8_col12\" class=\"data row8 col12\" >0.354201</td>\n",
       "                        <td id=\"T_45de53b4_34bc_11eb_8968_525400774a2arow8_col13\" class=\"data row8 col13\" >0.331514</td>\n",
       "                        <td id=\"T_45de53b4_34bc_11eb_8968_525400774a2arow8_col14\" class=\"data row8 col14\" >0.289132</td>\n",
       "                        <td id=\"T_45de53b4_34bc_11eb_8968_525400774a2arow8_col15\" class=\"data row8 col15\" >0.150575</td>\n",
       "                        <td id=\"T_45de53b4_34bc_11eb_8968_525400774a2arow8_col16\" class=\"data row8 col16\" >0.652412</td>\n",
       "            </tr>\n",
       "            <tr>\n",
       "                        <th id=\"T_45de53b4_34bc_11eb_8968_525400774a2alevel0_row9\" class=\"row_heading level0 row9\" >Transport_closing</th>\n",
       "                        <td id=\"T_45de53b4_34bc_11eb_8968_525400774a2arow9_col0\" class=\"data row9 col0\" >-0.052687</td>\n",
       "                        <td id=\"T_45de53b4_34bc_11eb_8968_525400774a2arow9_col1\" class=\"data row9 col1\" >0.361578</td>\n",
       "                        <td id=\"T_45de53b4_34bc_11eb_8968_525400774a2arow9_col2\" class=\"data row9 col2\" >0.084880</td>\n",
       "                        <td id=\"T_45de53b4_34bc_11eb_8968_525400774a2arow9_col3\" class=\"data row9 col3\" >-0.327212</td>\n",
       "                        <td id=\"T_45de53b4_34bc_11eb_8968_525400774a2arow9_col4\" class=\"data row9 col4\" >-0.366717</td>\n",
       "                        <td id=\"T_45de53b4_34bc_11eb_8968_525400774a2arow9_col5\" class=\"data row9 col5\" >-0.287557</td>\n",
       "                        <td id=\"T_45de53b4_34bc_11eb_8968_525400774a2arow9_col6\" class=\"data row9 col6\" >0.317654</td>\n",
       "                        <td id=\"T_45de53b4_34bc_11eb_8968_525400774a2arow9_col7\" class=\"data row9 col7\" >0.883971</td>\n",
       "                        <td id=\"T_45de53b4_34bc_11eb_8968_525400774a2arow9_col8\" class=\"data row9 col8\" >0.283105</td>\n",
       "                        <td id=\"T_45de53b4_34bc_11eb_8968_525400774a2arow9_col9\" class=\"data row9 col9\" >1.000000</td>\n",
       "                        <td id=\"T_45de53b4_34bc_11eb_8968_525400774a2arow9_col10\" class=\"data row9 col10\" >0.547462</td>\n",
       "                        <td id=\"T_45de53b4_34bc_11eb_8968_525400774a2arow9_col11\" class=\"data row9 col11\" >0.684438</td>\n",
       "                        <td id=\"T_45de53b4_34bc_11eb_8968_525400774a2arow9_col12\" class=\"data row9 col12\" >-0.015153</td>\n",
       "                        <td id=\"T_45de53b4_34bc_11eb_8968_525400774a2arow9_col13\" class=\"data row9 col13\" >0.131872</td>\n",
       "                        <td id=\"T_45de53b4_34bc_11eb_8968_525400774a2arow9_col14\" class=\"data row9 col14\" >-0.390027</td>\n",
       "                        <td id=\"T_45de53b4_34bc_11eb_8968_525400774a2arow9_col15\" class=\"data row9 col15\" >-0.280353</td>\n",
       "                        <td id=\"T_45de53b4_34bc_11eb_8968_525400774a2arow9_col16\" class=\"data row9 col16\" >0.267037</td>\n",
       "            </tr>\n",
       "            <tr>\n",
       "                        <th id=\"T_45de53b4_34bc_11eb_8968_525400774a2alevel0_row10\" class=\"row_heading level0 row10\" >Stay_home_restrictions</th>\n",
       "                        <td id=\"T_45de53b4_34bc_11eb_8968_525400774a2arow10_col0\" class=\"data row10 col0\" >-0.044759</td>\n",
       "                        <td id=\"T_45de53b4_34bc_11eb_8968_525400774a2arow10_col1\" class=\"data row10 col1\" >-0.040617</td>\n",
       "                        <td id=\"T_45de53b4_34bc_11eb_8968_525400774a2arow10_col2\" class=\"data row10 col2\" >0.123727</td>\n",
       "                        <td id=\"T_45de53b4_34bc_11eb_8968_525400774a2arow10_col3\" class=\"data row10 col3\" >-0.214730</td>\n",
       "                        <td id=\"T_45de53b4_34bc_11eb_8968_525400774a2arow10_col4\" class=\"data row10 col4\" >-0.176566</td>\n",
       "                        <td id=\"T_45de53b4_34bc_11eb_8968_525400774a2arow10_col5\" class=\"data row10 col5\" >0.088645</td>\n",
       "                        <td id=\"T_45de53b4_34bc_11eb_8968_525400774a2arow10_col6\" class=\"data row10 col6\" >0.373355</td>\n",
       "                        <td id=\"T_45de53b4_34bc_11eb_8968_525400774a2arow10_col7\" class=\"data row10 col7\" >0.469085</td>\n",
       "                        <td id=\"T_45de53b4_34bc_11eb_8968_525400774a2arow10_col8\" class=\"data row10 col8\" >0.456418</td>\n",
       "                        <td id=\"T_45de53b4_34bc_11eb_8968_525400774a2arow10_col9\" class=\"data row10 col9\" >0.547462</td>\n",
       "                        <td id=\"T_45de53b4_34bc_11eb_8968_525400774a2arow10_col10\" class=\"data row10 col10\" >1.000000</td>\n",
       "                        <td id=\"T_45de53b4_34bc_11eb_8968_525400774a2arow10_col11\" class=\"data row10 col11\" >0.541714</td>\n",
       "                        <td id=\"T_45de53b4_34bc_11eb_8968_525400774a2arow10_col12\" class=\"data row10 col12\" >0.316637</td>\n",
       "                        <td id=\"T_45de53b4_34bc_11eb_8968_525400774a2arow10_col13\" class=\"data row10 col13\" >0.241140</td>\n",
       "                        <td id=\"T_45de53b4_34bc_11eb_8968_525400774a2arow10_col14\" class=\"data row10 col14\" >-0.110129</td>\n",
       "                        <td id=\"T_45de53b4_34bc_11eb_8968_525400774a2arow10_col15\" class=\"data row10 col15\" >0.019877</td>\n",
       "                        <td id=\"T_45de53b4_34bc_11eb_8968_525400774a2arow10_col16\" class=\"data row10 col16\" >0.654143</td>\n",
       "            </tr>\n",
       "            <tr>\n",
       "                        <th id=\"T_45de53b4_34bc_11eb_8968_525400774a2alevel0_row11\" class=\"row_heading level0 row11\" >Internal_movement_restrictions</th>\n",
       "                        <td id=\"T_45de53b4_34bc_11eb_8968_525400774a2arow11_col0\" class=\"data row11 col0\" >-0.073551</td>\n",
       "                        <td id=\"T_45de53b4_34bc_11eb_8968_525400774a2arow11_col1\" class=\"data row11 col1\" >0.190955</td>\n",
       "                        <td id=\"T_45de53b4_34bc_11eb_8968_525400774a2arow11_col2\" class=\"data row11 col2\" >0.027263</td>\n",
       "                        <td id=\"T_45de53b4_34bc_11eb_8968_525400774a2arow11_col3\" class=\"data row11 col3\" >-0.305971</td>\n",
       "                        <td id=\"T_45de53b4_34bc_11eb_8968_525400774a2arow11_col4\" class=\"data row11 col4\" >-0.298119</td>\n",
       "                        <td id=\"T_45de53b4_34bc_11eb_8968_525400774a2arow11_col5\" class=\"data row11 col5\" >-0.332530</td>\n",
       "                        <td id=\"T_45de53b4_34bc_11eb_8968_525400774a2arow11_col6\" class=\"data row11 col6\" >0.205013</td>\n",
       "                        <td id=\"T_45de53b4_34bc_11eb_8968_525400774a2arow11_col7\" class=\"data row11 col7\" >0.834497</td>\n",
       "                        <td id=\"T_45de53b4_34bc_11eb_8968_525400774a2arow11_col8\" class=\"data row11 col8\" >0.403222</td>\n",
       "                        <td id=\"T_45de53b4_34bc_11eb_8968_525400774a2arow11_col9\" class=\"data row11 col9\" >0.684438</td>\n",
       "                        <td id=\"T_45de53b4_34bc_11eb_8968_525400774a2arow11_col10\" class=\"data row11 col10\" >0.541714</td>\n",
       "                        <td id=\"T_45de53b4_34bc_11eb_8968_525400774a2arow11_col11\" class=\"data row11 col11\" >1.000000</td>\n",
       "                        <td id=\"T_45de53b4_34bc_11eb_8968_525400774a2arow11_col12\" class=\"data row11 col12\" >-0.025249</td>\n",
       "                        <td id=\"T_45de53b4_34bc_11eb_8968_525400774a2arow11_col13\" class=\"data row11 col13\" >0.124535</td>\n",
       "                        <td id=\"T_45de53b4_34bc_11eb_8968_525400774a2arow11_col14\" class=\"data row11 col14\" >-0.328665</td>\n",
       "                        <td id=\"T_45de53b4_34bc_11eb_8968_525400774a2arow11_col15\" class=\"data row11 col15\" >-0.008763</td>\n",
       "                        <td id=\"T_45de53b4_34bc_11eb_8968_525400774a2arow11_col16\" class=\"data row11 col16\" >0.273893</td>\n",
       "            </tr>\n",
       "            <tr>\n",
       "                        <th id=\"T_45de53b4_34bc_11eb_8968_525400774a2alevel0_row12\" class=\"row_heading level0 row12\" >International_movement_restrictions</th>\n",
       "                        <td id=\"T_45de53b4_34bc_11eb_8968_525400774a2arow12_col0\" class=\"data row12 col0\" >-0.161711</td>\n",
       "                        <td id=\"T_45de53b4_34bc_11eb_8968_525400774a2arow12_col1\" class=\"data row12 col1\" >0.228718</td>\n",
       "                        <td id=\"T_45de53b4_34bc_11eb_8968_525400774a2arow12_col2\" class=\"data row12 col2\" >0.021384</td>\n",
       "                        <td id=\"T_45de53b4_34bc_11eb_8968_525400774a2arow12_col3\" class=\"data row12 col3\" >-0.325076</td>\n",
       "                        <td id=\"T_45de53b4_34bc_11eb_8968_525400774a2arow12_col4\" class=\"data row12 col4\" >0.042156</td>\n",
       "                        <td id=\"T_45de53b4_34bc_11eb_8968_525400774a2arow12_col5\" class=\"data row12 col5\" >0.631361</td>\n",
       "                        <td id=\"T_45de53b4_34bc_11eb_8968_525400774a2arow12_col6\" class=\"data row12 col6\" >0.573136</td>\n",
       "                        <td id=\"T_45de53b4_34bc_11eb_8968_525400774a2arow12_col7\" class=\"data row12 col7\" >-0.011663</td>\n",
       "                        <td id=\"T_45de53b4_34bc_11eb_8968_525400774a2arow12_col8\" class=\"data row12 col8\" >0.354201</td>\n",
       "                        <td id=\"T_45de53b4_34bc_11eb_8968_525400774a2arow12_col9\" class=\"data row12 col9\" >-0.015153</td>\n",
       "                        <td id=\"T_45de53b4_34bc_11eb_8968_525400774a2arow12_col10\" class=\"data row12 col10\" >0.316637</td>\n",
       "                        <td id=\"T_45de53b4_34bc_11eb_8968_525400774a2arow12_col11\" class=\"data row12 col11\" >-0.025249</td>\n",
       "                        <td id=\"T_45de53b4_34bc_11eb_8968_525400774a2arow12_col12\" class=\"data row12 col12\" >1.000000</td>\n",
       "                        <td id=\"T_45de53b4_34bc_11eb_8968_525400774a2arow12_col13\" class=\"data row12 col13\" >0.455997</td>\n",
       "                        <td id=\"T_45de53b4_34bc_11eb_8968_525400774a2arow12_col14\" class=\"data row12 col14\" >0.138698</td>\n",
       "                        <td id=\"T_45de53b4_34bc_11eb_8968_525400774a2arow12_col15\" class=\"data row12 col15\" >-0.079761</td>\n",
       "                        <td id=\"T_45de53b4_34bc_11eb_8968_525400774a2arow12_col16\" class=\"data row12 col16\" >0.721477</td>\n",
       "            </tr>\n",
       "            <tr>\n",
       "                        <th id=\"T_45de53b4_34bc_11eb_8968_525400774a2alevel0_row13\" class=\"row_heading level0 row13\" >Information_campaigns</th>\n",
       "                        <td id=\"T_45de53b4_34bc_11eb_8968_525400774a2arow13_col0\" class=\"data row13 col0\" >-0.162463</td>\n",
       "                        <td id=\"T_45de53b4_34bc_11eb_8968_525400774a2arow13_col1\" class=\"data row13 col1\" >0.077368</td>\n",
       "                        <td id=\"T_45de53b4_34bc_11eb_8968_525400774a2arow13_col2\" class=\"data row13 col2\" >-0.059646</td>\n",
       "                        <td id=\"T_45de53b4_34bc_11eb_8968_525400774a2arow13_col3\" class=\"data row13 col3\" >-0.214732</td>\n",
       "                        <td id=\"T_45de53b4_34bc_11eb_8968_525400774a2arow13_col4\" class=\"data row13 col4\" >0.119012</td>\n",
       "                        <td id=\"T_45de53b4_34bc_11eb_8968_525400774a2arow13_col5\" class=\"data row13 col5\" >0.273847</td>\n",
       "                        <td id=\"T_45de53b4_34bc_11eb_8968_525400774a2arow13_col6\" class=\"data row13 col6\" >0.324583</td>\n",
       "                        <td id=\"T_45de53b4_34bc_11eb_8968_525400774a2arow13_col7\" class=\"data row13 col7\" >0.151385</td>\n",
       "                        <td id=\"T_45de53b4_34bc_11eb_8968_525400774a2arow13_col8\" class=\"data row13 col8\" >0.331514</td>\n",
       "                        <td id=\"T_45de53b4_34bc_11eb_8968_525400774a2arow13_col9\" class=\"data row13 col9\" >0.131872</td>\n",
       "                        <td id=\"T_45de53b4_34bc_11eb_8968_525400774a2arow13_col10\" class=\"data row13 col10\" >0.241140</td>\n",
       "                        <td id=\"T_45de53b4_34bc_11eb_8968_525400774a2arow13_col11\" class=\"data row13 col11\" >0.124535</td>\n",
       "                        <td id=\"T_45de53b4_34bc_11eb_8968_525400774a2arow13_col12\" class=\"data row13 col12\" >0.455997</td>\n",
       "                        <td id=\"T_45de53b4_34bc_11eb_8968_525400774a2arow13_col13\" class=\"data row13 col13\" >1.000000</td>\n",
       "                        <td id=\"T_45de53b4_34bc_11eb_8968_525400774a2arow13_col14\" class=\"data row13 col14\" >0.280492</td>\n",
       "                        <td id=\"T_45de53b4_34bc_11eb_8968_525400774a2arow13_col15\" class=\"data row13 col15\" >0.208332</td>\n",
       "                        <td id=\"T_45de53b4_34bc_11eb_8968_525400774a2arow13_col16\" class=\"data row13 col16\" >0.506014</td>\n",
       "            </tr>\n",
       "            <tr>\n",
       "                        <th id=\"T_45de53b4_34bc_11eb_8968_525400774a2alevel0_row14\" class=\"row_heading level0 row14\" >Testing_policy</th>\n",
       "                        <td id=\"T_45de53b4_34bc_11eb_8968_525400774a2arow14_col0\" class=\"data row14 col0\" >-0.245434</td>\n",
       "                        <td id=\"T_45de53b4_34bc_11eb_8968_525400774a2arow14_col1\" class=\"data row14 col1\" >-0.195401</td>\n",
       "                        <td id=\"T_45de53b4_34bc_11eb_8968_525400774a2arow14_col2\" class=\"data row14 col2\" >-0.525550</td>\n",
       "                        <td id=\"T_45de53b4_34bc_11eb_8968_525400774a2arow14_col3\" class=\"data row14 col3\" >-0.215832</td>\n",
       "                        <td id=\"T_45de53b4_34bc_11eb_8968_525400774a2arow14_col4\" class=\"data row14 col4\" >0.346311</td>\n",
       "                        <td id=\"T_45de53b4_34bc_11eb_8968_525400774a2arow14_col5\" class=\"data row14 col5\" >0.268802</td>\n",
       "                        <td id=\"T_45de53b4_34bc_11eb_8968_525400774a2arow14_col6\" class=\"data row14 col6\" >0.017701</td>\n",
       "                        <td id=\"T_45de53b4_34bc_11eb_8968_525400774a2arow14_col7\" class=\"data row14 col7\" >-0.447154</td>\n",
       "                        <td id=\"T_45de53b4_34bc_11eb_8968_525400774a2arow14_col8\" class=\"data row14 col8\" >0.289132</td>\n",
       "                        <td id=\"T_45de53b4_34bc_11eb_8968_525400774a2arow14_col9\" class=\"data row14 col9\" >-0.390027</td>\n",
       "                        <td id=\"T_45de53b4_34bc_11eb_8968_525400774a2arow14_col10\" class=\"data row14 col10\" >-0.110129</td>\n",
       "                        <td id=\"T_45de53b4_34bc_11eb_8968_525400774a2arow14_col11\" class=\"data row14 col11\" >-0.328665</td>\n",
       "                        <td id=\"T_45de53b4_34bc_11eb_8968_525400774a2arow14_col12\" class=\"data row14 col12\" >0.138698</td>\n",
       "                        <td id=\"T_45de53b4_34bc_11eb_8968_525400774a2arow14_col13\" class=\"data row14 col13\" >0.280492</td>\n",
       "                        <td id=\"T_45de53b4_34bc_11eb_8968_525400774a2arow14_col14\" class=\"data row14 col14\" >1.000000</td>\n",
       "                        <td id=\"T_45de53b4_34bc_11eb_8968_525400774a2arow14_col15\" class=\"data row14 col15\" >0.251266</td>\n",
       "                        <td id=\"T_45de53b4_34bc_11eb_8968_525400774a2arow14_col16\" class=\"data row14 col16\" >0.130263</td>\n",
       "            </tr>\n",
       "            <tr>\n",
       "                        <th id=\"T_45de53b4_34bc_11eb_8968_525400774a2alevel0_row15\" class=\"row_heading level0 row15\" >Contact_tracing</th>\n",
       "                        <td id=\"T_45de53b4_34bc_11eb_8968_525400774a2arow15_col0\" class=\"data row15 col0\" >-0.093258</td>\n",
       "                        <td id=\"T_45de53b4_34bc_11eb_8968_525400774a2arow15_col1\" class=\"data row15 col1\" >-0.352644</td>\n",
       "                        <td id=\"T_45de53b4_34bc_11eb_8968_525400774a2arow15_col2\" class=\"data row15 col2\" >-0.148869</td>\n",
       "                        <td id=\"T_45de53b4_34bc_11eb_8968_525400774a2arow15_col3\" class=\"data row15 col3\" >0.056755</td>\n",
       "                        <td id=\"T_45de53b4_34bc_11eb_8968_525400774a2arow15_col4\" class=\"data row15 col4\" >0.483403</td>\n",
       "                        <td id=\"T_45de53b4_34bc_11eb_8968_525400774a2arow15_col5\" class=\"data row15 col5\" >0.066834</td>\n",
       "                        <td id=\"T_45de53b4_34bc_11eb_8968_525400774a2arow15_col6\" class=\"data row15 col6\" >-0.135623</td>\n",
       "                        <td id=\"T_45de53b4_34bc_11eb_8968_525400774a2arow15_col7\" class=\"data row15 col7\" >-0.285801</td>\n",
       "                        <td id=\"T_45de53b4_34bc_11eb_8968_525400774a2arow15_col8\" class=\"data row15 col8\" >0.150575</td>\n",
       "                        <td id=\"T_45de53b4_34bc_11eb_8968_525400774a2arow15_col9\" class=\"data row15 col9\" >-0.280353</td>\n",
       "                        <td id=\"T_45de53b4_34bc_11eb_8968_525400774a2arow15_col10\" class=\"data row15 col10\" >0.019877</td>\n",
       "                        <td id=\"T_45de53b4_34bc_11eb_8968_525400774a2arow15_col11\" class=\"data row15 col11\" >-0.008763</td>\n",
       "                        <td id=\"T_45de53b4_34bc_11eb_8968_525400774a2arow15_col12\" class=\"data row15 col12\" >-0.079761</td>\n",
       "                        <td id=\"T_45de53b4_34bc_11eb_8968_525400774a2arow15_col13\" class=\"data row15 col13\" >0.208332</td>\n",
       "                        <td id=\"T_45de53b4_34bc_11eb_8968_525400774a2arow15_col14\" class=\"data row15 col14\" >0.251266</td>\n",
       "                        <td id=\"T_45de53b4_34bc_11eb_8968_525400774a2arow15_col15\" class=\"data row15 col15\" >1.000000</td>\n",
       "                        <td id=\"T_45de53b4_34bc_11eb_8968_525400774a2arow15_col16\" class=\"data row15 col16\" >0.033669</td>\n",
       "            </tr>\n",
       "            <tr>\n",
       "                        <th id=\"T_45de53b4_34bc_11eb_8968_525400774a2alevel0_row16\" class=\"row_heading level0 row16\" >Stringency_index</th>\n",
       "                        <td id=\"T_45de53b4_34bc_11eb_8968_525400774a2arow16_col0\" class=\"data row16 col0\" >-0.093711</td>\n",
       "                        <td id=\"T_45de53b4_34bc_11eb_8968_525400774a2arow16_col1\" class=\"data row16 col1\" >0.056496</td>\n",
       "                        <td id=\"T_45de53b4_34bc_11eb_8968_525400774a2arow16_col2\" class=\"data row16 col2\" >-0.001615</td>\n",
       "                        <td id=\"T_45de53b4_34bc_11eb_8968_525400774a2arow16_col3\" class=\"data row16 col3\" >-0.330207</td>\n",
       "                        <td id=\"T_45de53b4_34bc_11eb_8968_525400774a2arow16_col4\" class=\"data row16 col4\" >-0.121288</td>\n",
       "                        <td id=\"T_45de53b4_34bc_11eb_8968_525400774a2arow16_col5\" class=\"data row16 col5\" >0.587758</td>\n",
       "                        <td id=\"T_45de53b4_34bc_11eb_8968_525400774a2arow16_col6\" class=\"data row16 col6\" >0.582438</td>\n",
       "                        <td id=\"T_45de53b4_34bc_11eb_8968_525400774a2arow16_col7\" class=\"data row16 col7\" >0.210406</td>\n",
       "                        <td id=\"T_45de53b4_34bc_11eb_8968_525400774a2arow16_col8\" class=\"data row16 col8\" >0.652412</td>\n",
       "                        <td id=\"T_45de53b4_34bc_11eb_8968_525400774a2arow16_col9\" class=\"data row16 col9\" >0.267037</td>\n",
       "                        <td id=\"T_45de53b4_34bc_11eb_8968_525400774a2arow16_col10\" class=\"data row16 col10\" >0.654143</td>\n",
       "                        <td id=\"T_45de53b4_34bc_11eb_8968_525400774a2arow16_col11\" class=\"data row16 col11\" >0.273893</td>\n",
       "                        <td id=\"T_45de53b4_34bc_11eb_8968_525400774a2arow16_col12\" class=\"data row16 col12\" >0.721477</td>\n",
       "                        <td id=\"T_45de53b4_34bc_11eb_8968_525400774a2arow16_col13\" class=\"data row16 col13\" >0.506014</td>\n",
       "                        <td id=\"T_45de53b4_34bc_11eb_8968_525400774a2arow16_col14\" class=\"data row16 col14\" >0.130263</td>\n",
       "                        <td id=\"T_45de53b4_34bc_11eb_8968_525400774a2arow16_col15\" class=\"data row16 col15\" >0.033669</td>\n",
       "                        <td id=\"T_45de53b4_34bc_11eb_8968_525400774a2arow16_col16\" class=\"data row16 col16\" >1.000000</td>\n",
       "            </tr>\n",
       "    </tbody></table>"
      ],
      "text/plain": [
       "<pandas.io.formats.style.Styler at 0x7f3a8bbde880>"
      ]
     },
     "execution_count": 21,
     "metadata": {},
     "output_type": "execute_result"
    }
   ],
   "source": [
    "# Correlation\n",
    "df = track_df.copy()\n",
    "df.corr().style.background_gradient(axis=None)"
   ]
  },
  {
   "cell_type": "code",
   "execution_count": 22,
   "metadata": {
    "collapsed": false
   },
   "outputs": [
    {
     "data": {
      "image/png": "[encoded data removed]",
      "text/plain": [
       "<Figure size 432x288 with 1 Axes>"
      ]
     },
     "metadata": {},
     "output_type": "display_data"
    }
   ],
   "source": [
    "# Scatter plot of Stringency index and Rt\n",
    "df = track_df.copy()\n",
    "sns.scatterplot(data=df, x=\"Stringency_index\", y=\"Rt\", hue=\"Country\", legend=\"brief\", marker=\"+\")\n",
    "bbox_to_anchor=(1.02, 0)\n",
    "bbox_loc=\"lower left\"\n",
    "plt.legend(bbox_to_anchor=bbox_to_anchor, loc=bbox_loc, borderaxespad=0)\n",
    "plt.title(\"Relationship of Stringency index and reproduction number\")\n",
    "plt.ylabel(\"Reproduction number\")\n",
    "plt.xlabel(\"Stringency index\")\n",
    "plt.show()"
   ]
  }
 ],
 "metadata": {
  "kernelspec": {
   "display_name": "Python 3.8.2 64-bit ('.venv': venv)",
   "name": "python_defaultSpec_1597669925034"
  },
  "language_info": {
   "codemirror_mode": {
    "name": "ipython",
    "version": 3
   },
   "file_extension": ".py",
   "mimetype": "text/x-python",
   "name": "python",
   "nbconvert_exporter": "python",
   "pygments_lexer": "ipython3",
   "version": "3.8.2-final"
  }
 },
 "nbformat": 4,
 "nbformat_minor": 4
}
