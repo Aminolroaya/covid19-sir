{
 "cells": [
  {
   "cell_type": "markdown",
   "metadata": {},
   "source": [
    "# Usage (details: policy measures)\n",
    "Here, we will analyse the relationship of policy measures and parameter values of SIR-derived ODE models. Policy measures are tracked by [Oxford Covid-19 Government Response Tracker (OxCGRT)](https://github.com/OxCGRT/covid-policy-tracker)."
   ]
  },
  {
   "cell_type": "markdown",
   "metadata": {},
   "source": [
    "## Preparation"
   ]
  },
  {
   "cell_type": "code",
   "execution_count": 1,
   "metadata": {
    "collapsed": false
   },
   "outputs": [],
   "source": [
    "# Standard users\n",
    "# !pip install covsirphy\n",
    "# Developers (Note: this notebook is in example directory)\n",
    "import os\n",
    "os.chdir(\"../\")"
   ]
  },
  {
   "cell_type": "code",
   "execution_count": 2,
   "metadata": {
    "collapsed": false
   },
   "outputs": [],
   "source": [
    "from pprint import pprint"
   ]
  },
  {
   "cell_type": "code",
   "execution_count": 3,
   "metadata": {
    "collapsed": false
   },
   "outputs": [
    {
     "data": {
      "text/plain": [
       "'2.8.3'"
      ]
     },
     "execution_count": 3,
     "metadata": {},
     "output_type": "execute_result"
    }
   ],
   "source": [
    "import covsirphy as cs\n",
    "cs.__version__"
   ]
  },
  {
   "cell_type": "code",
   "execution_count": 4,
   "metadata": {
    "collapsed": false,
    "tags": []
   },
   "outputs": [
    {
     "name": "stdout",
     "output_type": "stream",
     "text": [
      "(Secondary source) Guidotti, E., Ardia, D., (2020), \"COVID-19 Data Hub\", Journal of Open Source Software 5(51):2376, doi: 10.21105/joss.02376.\n",
      "We can get Citation list of primary sources with DataLoader(...).covid19dh_citation"
     ]
    },
    {
     "name": "stdout",
     "output_type": "stream",
     "text": [
      "\n"
     ]
    }
   ],
   "source": [
    "# Standard users and developers\n",
    "data_loader = cs.DataLoader(\"input\")\n",
    "# The number of cases (JHU style)\n",
    "jhu_data = data_loader.jhu(verbose=False)\n",
    "# Population in each country\n",
    "population_data = data_loader.population(verbose=False)\n",
    "# Government Response Tracker (OxCGRT)\n",
    "oxcgrt_data = data_loader.oxcgrt(verbose=False)\n",
    "# Description/citation\n",
    "print(oxcgrt_data.citation)"
   ]
  },
  {
   "cell_type": "markdown",
   "metadata": {},
   "source": [
    "## Class for policy measure analysis\n",
    "We will `PolicyMeasures` class to find relationship of policy measures and parameter values of SIR-derived ODE models."
   ]
  },
  {
   "cell_type": "code",
   "execution_count": 5,
   "metadata": {
    "collapsed": false,
    "tags": []
   },
   "outputs": [
    {
     "data": {
      "text/plain": [
       "184"
      ]
     },
     "execution_count": 5,
     "metadata": {},
     "output_type": "execute_result"
    }
   ],
   "source": [
    "# Create analyser with tau value 360 [min] (can be changed)\n",
    "analyser = cs.PolicyMeasures(jhu_data, population_data, oxcgrt_data, tau=360)\n",
    "# The number of registerd countries\n",
    "len(analyser.countries)"
   ]
  },
  {
   "cell_type": "code",
   "execution_count": 6,
   "metadata": {
    "collapsed": false
   },
   "outputs": [
    {
     "data": {
      "text/plain": [
       "covsirphy.analysis.scenario.Scenario"
      ]
     },
     "execution_count": 6,
     "metadata": {},
     "output_type": "execute_result"
    }
   ],
   "source": [
    "# We can get Scenario instance for detailed scenario analysis\n",
    "type(analyser.scenario(\"Japan\"))"
   ]
  },
  {
   "cell_type": "markdown",
   "metadata": {},
   "source": [
    "## Set phases with S-R trend analysis\n",
    "We will perform S-R trend analysis to set phases in all countries. Countries which do not have **12th phases** will be un-registered for the next analysis. This number will be adjusted for your analysis."
   ]
  },
  {
   "cell_type": "code",
   "execution_count": 7,
   "metadata": {
    "collapsed": false
   },
   "outputs": [
    {
     "name": "stdout",
     "output_type": "stream",
     "text": [
      "{"
     ]
    },
    {
     "name": "stdout",
     "output_type": "stream",
     "text": [
      "3"
     ]
    },
    {
     "name": "stdout",
     "output_type": "stream",
     "text": [
      ": "
     ]
    },
    {
     "name": "stdout",
     "output_type": "stream",
     "text": [
      "['Dominica']"
     ]
    },
    {
     "name": "stdout",
     "output_type": "stream",
     "text": [
      ",\n",
      " "
     ]
    },
    {
     "name": "stdout",
     "output_type": "stream",
     "text": [
      "4"
     ]
    },
    {
     "name": "stdout",
     "output_type": "stream",
     "text": [
      ": "
     ]
    },
    {
     "name": "stdout",
     "output_type": "stream",
     "text": [
      "['Papua New Guinea', 'Tanzania', 'Myanmar']"
     ]
    },
    {
     "name": "stdout",
     "output_type": "stream",
     "text": [
      ",\n",
      " "
     ]
    },
    {
     "name": "stdout",
     "output_type": "stream",
     "text": [
      "5"
     ]
    },
    {
     "name": "stdout",
     "output_type": "stream",
     "text": [
      ": "
     ]
    },
    {
     "name": "stdout",
     "output_type": "stream",
     "text": [
      "["
     ]
    },
    {
     "name": "stdout",
     "output_type": "stream",
     "text": [
      "'Tunisia'"
     ]
    },
    {
     "name": "stdout",
     "output_type": "stream",
     "text": [
      ", "
     ]
    },
    {
     "name": "stdout",
     "output_type": "stream",
     "text": [
      "'Antigua and Barbuda'"
     ]
    },
    {
     "name": "stdout",
     "output_type": "stream",
     "text": [
      ", "
     ]
    },
    {
     "name": "stdout",
     "output_type": "stream",
     "text": [
      "'Fiji'"
     ]
    },
    {
     "name": "stdout",
     "output_type": "stream",
     "text": [
      ", "
     ]
    },
    {
     "name": "stdout",
     "output_type": "stream",
     "text": [
      "'Uganda'"
     ]
    },
    {
     "name": "stdout",
     "output_type": "stream",
     "text": [
      ", "
     ]
    },
    {
     "name": "stdout",
     "output_type": "stream",
     "text": [
      "'Belize'"
     ]
    },
    {
     "name": "stdout",
     "output_type": "stream",
     "text": [
      ",\n",
      "     "
     ]
    },
    {
     "name": "stdout",
     "output_type": "stream",
     "text": [
      "'Trinidad and Tobago'"
     ]
    },
    {
     "name": "stdout",
     "output_type": "stream",
     "text": [
      ", "
     ]
    },
    {
     "name": "stdout",
     "output_type": "stream",
     "text": [
      "'Jordan'"
     ]
    },
    {
     "name": "stdout",
     "output_type": "stream",
     "text": [
      ", "
     ]
    },
    {
     "name": "stdout",
     "output_type": "stream",
     "text": [
      "'Libya'"
     ]
    },
    {
     "name": "stdout",
     "output_type": "stream",
     "text": [
      ", "
     ]
    },
    {
     "name": "stdout",
     "output_type": "stream",
     "text": [
      "'Grenada'"
     ]
    },
    {
     "name": "stdout",
     "output_type": "stream",
     "text": [
      ", "
     ]
    },
    {
     "name": "stdout",
     "output_type": "stream",
     "text": [
      "'Mauritius'"
     ]
    },
    {
     "name": "stdout",
     "output_type": "stream",
     "text": [
      ",\n",
      "     "
     ]
    },
    {
     "name": "stdout",
     "output_type": "stream",
     "text": [
      "'Jamaica'"
     ]
    },
    {
     "name": "stdout",
     "output_type": "stream",
     "text": [
      ", "
     ]
    },
    {
     "name": "stdout",
     "output_type": "stream",
     "text": [
      "'Seychelles'"
     ]
    },
    {
     "name": "stdout",
     "output_type": "stream",
     "text": [
      ", "
     ]
    },
    {
     "name": "stdout",
     "output_type": "stream",
     "text": [
      "'Brunei'"
     ]
    },
    {
     "name": "stdout",
     "output_type": "stream",
     "text": [
      "]"
     ]
    },
    {
     "name": "stdout",
     "output_type": "stream",
     "text": [
      ",\n",
      " "
     ]
    },
    {
     "name": "stdout",
     "output_type": "stream",
     "text": [
      "6"
     ]
    },
    {
     "name": "stdout",
     "output_type": "stream",
     "text": [
      ": "
     ]
    },
    {
     "name": "stdout",
     "output_type": "stream",
     "text": [
      "["
     ]
    },
    {
     "name": "stdout",
     "output_type": "stream",
     "text": [
      "'Monaco'"
     ]
    },
    {
     "name": "stdout",
     "output_type": "stream",
     "text": [
      ", "
     ]
    },
    {
     "name": "stdout",
     "output_type": "stream",
     "text": [
      "'Sao Tome and Principe'"
     ]
    },
    {
     "name": "stdout",
     "output_type": "stream",
     "text": [
      ", "
     ]
    },
    {
     "name": "stdout",
     "output_type": "stream",
     "text": [
      "'Burundi'"
     ]
    },
    {
     "name": "stdout",
     "output_type": "stream",
     "text": [
      ", "
     ]
    },
    {
     "name": "stdout",
     "output_type": "stream",
     "text": [
      "'Bahamas'"
     ]
    },
    {
     "name": "stdout",
     "output_type": "stream",
     "text": [
      ", "
     ]
    },
    {
     "name": "stdout",
     "output_type": "stream",
     "text": [
      "'Cambodia'"
     ]
    },
    {
     "name": "stdout",
     "output_type": "stream",
     "text": [
      ",\n",
      "     "
     ]
    },
    {
     "name": "stdout",
     "output_type": "stream",
     "text": [
      "'Guinea-Bissau'"
     ]
    },
    {
     "name": "stdout",
     "output_type": "stream",
     "text": [
      ", "
     ]
    },
    {
     "name": "stdout",
     "output_type": "stream",
     "text": [
      "'Kosovo'"
     ]
    },
    {
     "name": "stdout",
     "output_type": "stream",
     "text": [
      ", "
     ]
    },
    {
     "name": "stdout",
     "output_type": "stream",
     "text": [
      "'Ireland'"
     ]
    },
    {
     "name": "stdout",
     "output_type": "stream",
     "text": [
      ", "
     ]
    },
    {
     "name": "stdout",
     "output_type": "stream",
     "text": [
      "'Gambia'"
     ]
    },
    {
     "name": "stdout",
     "output_type": "stream",
     "text": [
      ", "
     ]
    },
    {
     "name": "stdout",
     "output_type": "stream",
     "text": [
      "'Yemen'"
     ]
    },
    {
     "name": "stdout",
     "output_type": "stream",
     "text": [
      ", "
     ]
    },
    {
     "name": "stdout",
     "output_type": "stream",
     "text": [
      "'Lebanon'"
     ]
    },
    {
     "name": "stdout",
     "output_type": "stream",
     "text": [
      ",\n",
      "     "
     ]
    },
    {
     "name": "stdout",
     "output_type": "stream",
     "text": [
      "'Namibia'"
     ]
    },
    {
     "name": "stdout",
     "output_type": "stream",
     "text": [
      ", "
     ]
    },
    {
     "name": "stdout",
     "output_type": "stream",
     "text": [
      "'Central African Republic'"
     ]
    },
    {
     "name": "stdout",
     "output_type": "stream",
     "text": [
      ", "
     ]
    },
    {
     "name": "stdout",
     "output_type": "stream",
     "text": [
      "'Kyrgyzstan'"
     ]
    },
    {
     "name": "stdout",
     "output_type": "stream",
     "text": [
      ", "
     ]
    },
    {
     "name": "stdout",
     "output_type": "stream",
     "text": [
      "'Equatorial Guinea'"
     ]
    },
    {
     "name": "stdout",
     "output_type": "stream",
     "text": [
      ",\n",
      "     "
     ]
    },
    {
     "name": "stdout",
     "output_type": "stream",
     "text": [
      "'Lesotho'"
     ]
    },
    {
     "name": "stdout",
     "output_type": "stream",
     "text": [
      ", "
     ]
    },
    {
     "name": "stdout",
     "output_type": "stream",
     "text": [
      "'Mongolia'"
     ]
    },
    {
     "name": "stdout",
     "output_type": "stream",
     "text": [
      ", "
     ]
    },
    {
     "name": "stdout",
     "output_type": "stream",
     "text": [
      "'Netherlands'"
     ]
    },
    {
     "name": "stdout",
     "output_type": "stream",
     "text": [
      "]"
     ]
    },
    {
     "name": "stdout",
     "output_type": "stream",
     "text": [
      ",\n",
      " "
     ]
    },
    {
     "name": "stdout",
     "output_type": "stream",
     "text": [
      "7"
     ]
    },
    {
     "name": "stdout",
     "output_type": "stream",
     "text": [
      ": "
     ]
    },
    {
     "name": "stdout",
     "output_type": "stream",
     "text": [
      "["
     ]
    },
    {
     "name": "stdout",
     "output_type": "stream",
     "text": [
      "'Philippines'"
     ]
    },
    {
     "name": "stdout",
     "output_type": "stream",
     "text": [
      ", "
     ]
    },
    {
     "name": "stdout",
     "output_type": "stream",
     "text": [
      "'Costa Rica'"
     ]
    },
    {
     "name": "stdout",
     "output_type": "stream",
     "text": [
      ", "
     ]
    },
    {
     "name": "stdout",
     "output_type": "stream",
     "text": [
      "'New Zealand'"
     ]
    },
    {
     "name": "stdout",
     "output_type": "stream",
     "text": [
      ", "
     ]
    },
    {
     "name": "stdout",
     "output_type": "stream",
     "text": [
      "'Paraguay'"
     ]
    },
    {
     "name": "stdout",
     "output_type": "stream",
     "text": [
      ", "
     ]
    },
    {
     "name": "stdout",
     "output_type": "stream",
     "text": [
      "'Rwanda'"
     ]
    },
    {
     "name": "stdout",
     "output_type": "stream",
     "text": [
      ",\n",
      "     "
     ]
    },
    {
     "name": "stdout",
     "output_type": "stream",
     "text": [
      "'Ethiopia'"
     ]
    },
    {
     "name": "stdout",
     "output_type": "stream",
     "text": [
      ", "
     ]
    },
    {
     "name": "stdout",
     "output_type": "stream",
     "text": [
      "'Liechtenstein'"
     ]
    },
    {
     "name": "stdout",
     "output_type": "stream",
     "text": [
      ", "
     ]
    },
    {
     "name": "stdout",
     "output_type": "stream",
     "text": [
      "'Taiwan'"
     ]
    },
    {
     "name": "stdout",
     "output_type": "stream",
     "text": [
      ", "
     ]
    },
    {
     "name": "stdout",
     "output_type": "stream",
     "text": [
      "'Syria'"
     ]
    },
    {
     "name": "stdout",
     "output_type": "stream",
     "text": [
      ", "
     ]
    },
    {
     "name": "stdout",
     "output_type": "stream",
     "text": [
      "'Greece'"
     ]
    },
    {
     "name": "stdout",
     "output_type": "stream",
     "text": [
      ",\n",
      "     "
     ]
    },
    {
     "name": "stdout",
     "output_type": "stream",
     "text": [
      "'Saint Vincent and the Grenadines'"
     ]
    },
    {
     "name": "stdout",
     "output_type": "stream",
     "text": [
      ", "
     ]
    },
    {
     "name": "stdout",
     "output_type": "stream",
     "text": [
      "'Slovakia'"
     ]
    },
    {
     "name": "stdout",
     "output_type": "stream",
     "text": [
      ", "
     ]
    },
    {
     "name": "stdout",
     "output_type": "stream",
     "text": [
      "'Croatia'"
     ]
    },
    {
     "name": "stdout",
     "output_type": "stream",
     "text": [
      ", "
     ]
    },
    {
     "name": "stdout",
     "output_type": "stream",
     "text": [
      "'Eritrea'"
     ]
    },
    {
     "name": "stdout",
     "output_type": "stream",
     "text": [
      ",\n",
      "     "
     ]
    },
    {
     "name": "stdout",
     "output_type": "stream",
     "text": [
      "'Zimbabwe'"
     ]
    },
    {
     "name": "stdout",
     "output_type": "stream",
     "text": [
      ", "
     ]
    },
    {
     "name": "stdout",
     "output_type": "stream",
     "text": [
      "'Venezuela'"
     ]
    },
    {
     "name": "stdout",
     "output_type": "stream",
     "text": [
      ", "
     ]
    },
    {
     "name": "stdout",
     "output_type": "stream",
     "text": [
      "'Iceland'"
     ]
    },
    {
     "name": "stdout",
     "output_type": "stream",
     "text": [
      ", "
     ]
    },
    {
     "name": "stdout",
     "output_type": "stream",
     "text": [
      "'Kazakhstan'"
     ]
    },
    {
     "name": "stdout",
     "output_type": "stream",
     "text": [
      ", "
     ]
    },
    {
     "name": "stdout",
     "output_type": "stream",
     "text": [
      "'San Marino'"
     ]
    },
    {
     "name": "stdout",
     "output_type": "stream",
     "text": [
      ", "
     ]
    },
    {
     "name": "stdout",
     "output_type": "stream",
     "text": [
      "'Norway'"
     ]
    },
    {
     "name": "stdout",
     "output_type": "stream",
     "text": [
      ",\n",
      "     "
     ]
    },
    {
     "name": "stdout",
     "output_type": "stream",
     "text": [
      "'Thailand'"
     ]
    },
    {
     "name": "stdout",
     "output_type": "stream",
     "text": [
      ", "
     ]
    },
    {
     "name": "stdout",
     "output_type": "stream",
     "text": [
      "'Malta'"
     ]
    },
    {
     "name": "stdout",
     "output_type": "stream",
     "text": [
      ", "
     ]
    },
    {
     "name": "stdout",
     "output_type": "stream",
     "text": [
      "'Guyana'"
     ]
    },
    {
     "name": "stdout",
     "output_type": "stream",
     "text": [
      ", "
     ]
    },
    {
     "name": "stdout",
     "output_type": "stream",
     "text": [
      "'Cyprus'"
     ]
    },
    {
     "name": "stdout",
     "output_type": "stream",
     "text": [
      ", "
     ]
    },
    {
     "name": "stdout",
     "output_type": "stream",
     "text": [
      "'Spain'"
     ]
    },
    {
     "name": "stdout",
     "output_type": "stream",
     "text": [
      ", "
     ]
    },
    {
     "name": "stdout",
     "output_type": "stream",
     "text": [
      "'Botswana'"
     ]
    },
    {
     "name": "stdout",
     "output_type": "stream",
     "text": [
      ", "
     ]
    },
    {
     "name": "stdout",
     "output_type": "stream",
     "text": [
      "'Colombia'"
     ]
    },
    {
     "name": "stdout",
     "output_type": "stream",
     "text": [
      ",\n",
      "     "
     ]
    },
    {
     "name": "stdout",
     "output_type": "stream",
     "text": [
      "'Zambia'"
     ]
    },
    {
     "name": "stdout",
     "output_type": "stream",
     "text": [
      ", "
     ]
    },
    {
     "name": "stdout",
     "output_type": "stream",
     "text": [
      "'Afghanistan'"
     ]
    },
    {
     "name": "stdout",
     "output_type": "stream",
     "text": [
      ", "
     ]
    },
    {
     "name": "stdout",
     "output_type": "stream",
     "text": [
      "'Montenegro'"
     ]
    },
    {
     "name": "stdout",
     "output_type": "stream",
     "text": [
      ", "
     ]
    },
    {
     "name": "stdout",
     "output_type": "stream",
     "text": [
      "'Malawi'"
     ]
    },
    {
     "name": "stdout",
     "output_type": "stream",
     "text": [
      ", "
     ]
    },
    {
     "name": "stdout",
     "output_type": "stream",
     "text": [
      "'South Sudan'"
     ]
    },
    {
     "name": "stdout",
     "output_type": "stream",
     "text": [
      ",\n",
      "     "
     ]
    },
    {
     "name": "stdout",
     "output_type": "stream",
     "text": [
      "'Australia'"
     ]
    },
    {
     "name": "stdout",
     "output_type": "stream",
     "text": [
      ", "
     ]
    },
    {
     "name": "stdout",
     "output_type": "stream",
     "text": [
      "'Comoros'"
     ]
    },
    {
     "name": "stdout",
     "output_type": "stream",
     "text": [
      ", "
     ]
    },
    {
     "name": "stdout",
     "output_type": "stream",
     "text": [
      "'Angola'"
     ]
    },
    {
     "name": "stdout",
     "output_type": "stream",
     "text": [
      ", "
     ]
    },
    {
     "name": "stdout",
     "output_type": "stream",
     "text": [
      "'Vietnam'"
     ]
    },
    {
     "name": "stdout",
     "output_type": "stream",
     "text": [
      "]"
     ]
    },
    {
     "name": "stdout",
     "output_type": "stream",
     "text": [
      ",\n",
      " "
     ]
    },
    {
     "name": "stdout",
     "output_type": "stream",
     "text": [
      "8"
     ]
    },
    {
     "name": "stdout",
     "output_type": "stream",
     "text": [
      ": "
     ]
    },
    {
     "name": "stdout",
     "output_type": "stream",
     "text": [
      "["
     ]
    },
    {
     "name": "stdout",
     "output_type": "stream",
     "text": [
      "'Georgia'"
     ]
    },
    {
     "name": "stdout",
     "output_type": "stream",
     "text": [
      ", "
     ]
    },
    {
     "name": "stdout",
     "output_type": "stream",
     "text": [
      "'Ghana'"
     ]
    },
    {
     "name": "stdout",
     "output_type": "stream",
     "text": [
      ", "
     ]
    },
    {
     "name": "stdout",
     "output_type": "stream",
     "text": [
      "'Maldives'"
     ]
    },
    {
     "name": "stdout",
     "output_type": "stream",
     "text": [
      ", "
     ]
    },
    {
     "name": "stdout",
     "output_type": "stream",
     "text": [
      "'Bhutan'"
     ]
    },
    {
     "name": "stdout",
     "output_type": "stream",
     "text": [
      ", "
     ]
    },
    {
     "name": "stdout",
     "output_type": "stream",
     "text": [
      "'Nicaragua'"
     ]
    },
    {
     "name": "stdout",
     "output_type": "stream",
     "text": [
      ", "
     ]
    },
    {
     "name": "stdout",
     "output_type": "stream",
     "text": [
      "'Morocco'"
     ]
    },
    {
     "name": "stdout",
     "output_type": "stream",
     "text": [
      ", "
     ]
    },
    {
     "name": "stdout",
     "output_type": "stream",
     "text": [
      "'Niger'"
     ]
    },
    {
     "name": "stdout",
     "output_type": "stream",
     "text": [
      ",\n",
      "     "
     ]
    },
    {
     "name": "stdout",
     "output_type": "stream",
     "text": [
      "'Sudan'"
     ]
    },
    {
     "name": "stdout",
     "output_type": "stream",
     "text": [
      ", "
     ]
    },
    {
     "name": "stdout",
     "output_type": "stream",
     "text": [
      "'Mozambique'"
     ]
    },
    {
     "name": "stdout",
     "output_type": "stream",
     "text": [
      ", "
     ]
    },
    {
     "name": "stdout",
     "output_type": "stream",
     "text": [
      "'Haiti'"
     ]
    },
    {
     "name": "stdout",
     "output_type": "stream",
     "text": [
      ", "
     ]
    },
    {
     "name": "stdout",
     "output_type": "stream",
     "text": [
      "'Israel'"
     ]
    },
    {
     "name": "stdout",
     "output_type": "stream",
     "text": [
      ", "
     ]
    },
    {
     "name": "stdout",
     "output_type": "stream",
     "text": [
      "'Nepal'"
     ]
    },
    {
     "name": "stdout",
     "output_type": "stream",
     "text": [
      ", "
     ]
    },
    {
     "name": "stdout",
     "output_type": "stream",
     "text": [
      "'Guatemala'"
     ]
    },
    {
     "name": "stdout",
     "output_type": "stream",
     "text": [
      ", "
     ]
    },
    {
     "name": "stdout",
     "output_type": "stream",
     "text": [
      "'Qatar'"
     ]
    },
    {
     "name": "stdout",
     "output_type": "stream",
     "text": [
      ",\n",
      "     "
     ]
    },
    {
     "name": "stdout",
     "output_type": "stream",
     "text": [
      "'Argentina'"
     ]
    },
    {
     "name": "stdout",
     "output_type": "stream",
     "text": [
      ", "
     ]
    },
    {
     "name": "stdout",
     "output_type": "stream",
     "text": [
      "'Kenya'"
     ]
    },
    {
     "name": "stdout",
     "output_type": "stream",
     "text": [
      ", "
     ]
    },
    {
     "name": "stdout",
     "output_type": "stream",
     "text": [
      "'Cameroon'"
     ]
    },
    {
     "name": "stdout",
     "output_type": "stream",
     "text": [
      ", "
     ]
    },
    {
     "name": "stdout",
     "output_type": "stream",
     "text": [
      "'Barbados'"
     ]
    },
    {
     "name": "stdout",
     "output_type": "stream",
     "text": [
      ", "
     ]
    },
    {
     "name": "stdout",
     "output_type": "stream",
     "text": [
      "'Sri Lanka'"
     ]
    },
    {
     "name": "stdout",
     "output_type": "stream",
     "text": [
      ", "
     ]
    },
    {
     "name": "stdout",
     "output_type": "stream",
     "text": [
      "'India'"
     ]
    },
    {
     "name": "stdout",
     "output_type": "stream",
     "text": [
      ",\n",
      "     "
     ]
    },
    {
     "name": "stdout",
     "output_type": "stream",
     "text": [
      "'Hungary'"
     ]
    },
    {
     "name": "stdout",
     "output_type": "stream",
     "text": [
      ", "
     ]
    },
    {
     "name": "stdout",
     "output_type": "stream",
     "text": [
      "'Slovenia'"
     ]
    },
    {
     "name": "stdout",
     "output_type": "stream",
     "text": [
      ", "
     ]
    },
    {
     "name": "stdout",
     "output_type": "stream",
     "text": [
      "'South Africa'"
     ]
    },
    {
     "name": "stdout",
     "output_type": "stream",
     "text": [
      ", "
     ]
    },
    {
     "name": "stdout",
     "output_type": "stream",
     "text": [
      "'Saint Lucia'"
     ]
    },
    {
     "name": "stdout",
     "output_type": "stream",
     "text": [
      ", "
     ]
    },
    {
     "name": "stdout",
     "output_type": "stream",
     "text": [
      "'Czech Republic'"
     ]
    },
    {
     "name": "stdout",
     "output_type": "stream",
     "text": [
      ",\n",
      "     "
     ]
    },
    {
     "name": "stdout",
     "output_type": "stream",
     "text": [
      "'Madagascar'"
     ]
    },
    {
     "name": "stdout",
     "output_type": "stream",
     "text": [
      "]"
     ]
    },
    {
     "name": "stdout",
     "output_type": "stream",
     "text": [
      ",\n",
      " "
     ]
    },
    {
     "name": "stdout",
     "output_type": "stream",
     "text": [
      "9"
     ]
    },
    {
     "name": "stdout",
     "output_type": "stream",
     "text": [
      ": "
     ]
    },
    {
     "name": "stdout",
     "output_type": "stream",
     "text": [
      "["
     ]
    },
    {
     "name": "stdout",
     "output_type": "stream",
     "text": [
      "'Tajikistan'"
     ]
    },
    {
     "name": "stdout",
     "output_type": "stream",
     "text": [
      ", "
     ]
    },
    {
     "name": "stdout",
     "output_type": "stream",
     "text": [
      "'Cape Verde'"
     ]
    },
    {
     "name": "stdout",
     "output_type": "stream",
     "text": [
      ", "
     ]
    },
    {
     "name": "stdout",
     "output_type": "stream",
     "text": [
      "'Andorra'"
     ]
    },
    {
     "name": "stdout",
     "output_type": "stream",
     "text": [
      ", "
     ]
    },
    {
     "name": "stdout",
     "output_type": "stream",
     "text": [
      "'Indonesia'"
     ]
    },
    {
     "name": "stdout",
     "output_type": "stream",
     "text": [
      ", "
     ]
    },
    {
     "name": "stdout",
     "output_type": "stream",
     "text": [
      "'Palestine'"
     ]
    },
    {
     "name": "stdout",
     "output_type": "stream",
     "text": [
      ", "
     ]
    },
    {
     "name": "stdout",
     "output_type": "stream",
     "text": [
      "'Uruguay'"
     ]
    },
    {
     "name": "stdout",
     "output_type": "stream",
     "text": [
      ",\n",
      "     "
     ]
    },
    {
     "name": "stdout",
     "output_type": "stream",
     "text": [
      "'Azerbaijan'"
     ]
    },
    {
     "name": "stdout",
     "output_type": "stream",
     "text": [
      ", "
     ]
    },
    {
     "name": "stdout",
     "output_type": "stream",
     "text": [
      "'Suriname'"
     ]
    },
    {
     "name": "stdout",
     "output_type": "stream",
     "text": [
      ", "
     ]
    },
    {
     "name": "stdout",
     "output_type": "stream",
     "text": [
      "'Liberia'"
     ]
    },
    {
     "name": "stdout",
     "output_type": "stream",
     "text": [
      ", "
     ]
    },
    {
     "name": "stdout",
     "output_type": "stream",
     "text": [
      "'China'"
     ]
    },
    {
     "name": "stdout",
     "output_type": "stream",
     "text": [
      ", "
     ]
    },
    {
     "name": "stdout",
     "output_type": "stream",
     "text": [
      "'Bermuda'"
     ]
    },
    {
     "name": "stdout",
     "output_type": "stream",
     "text": [
      ", "
     ]
    },
    {
     "name": "stdout",
     "output_type": "stream",
     "text": [
      "'Somalia'"
     ]
    },
    {
     "name": "stdout",
     "output_type": "stream",
     "text": [
      ",\n",
      "     "
     ]
    },
    {
     "name": "stdout",
     "output_type": "stream",
     "text": [
      "'Ecuador'"
     ]
    },
    {
     "name": "stdout",
     "output_type": "stream",
     "text": [
      ", "
     ]
    },
    {
     "name": "stdout",
     "output_type": "stream",
     "text": [
      "'Finland'"
     ]
    },
    {
     "name": "stdout",
     "output_type": "stream",
     "text": [
      ", "
     ]
    },
    {
     "name": "stdout",
     "output_type": "stream",
     "text": [
      "'Chad'"
     ]
    },
    {
     "name": "stdout",
     "output_type": "stream",
     "text": [
      ", "
     ]
    },
    {
     "name": "stdout",
     "output_type": "stream",
     "text": [
      "'Mauritania'"
     ]
    },
    {
     "name": "stdout",
     "output_type": "stream",
     "text": [
      ", "
     ]
    },
    {
     "name": "stdout",
     "output_type": "stream",
     "text": [
      "'Sierra Leone'"
     ]
    },
    {
     "name": "stdout",
     "output_type": "stream",
     "text": [
      ", "
     ]
    },
    {
     "name": "stdout",
     "output_type": "stream",
     "text": [
      "'Germany'"
     ]
    },
    {
     "name": "stdout",
     "output_type": "stream",
     "text": [
      ",\n",
      "     "
     ]
    },
    {
     "name": "stdout",
     "output_type": "stream",
     "text": [
      "'Romania'"
     ]
    },
    {
     "name": "stdout",
     "output_type": "stream",
     "text": [
      ", "
     ]
    },
    {
     "name": "stdout",
     "output_type": "stream",
     "text": [
      "'Djibouti'"
     ]
    },
    {
     "name": "stdout",
     "output_type": "stream",
     "text": [
      ", "
     ]
    },
    {
     "name": "stdout",
     "output_type": "stream",
     "text": [
      "'Iraq'"
     ]
    },
    {
     "name": "stdout",
     "output_type": "stream",
     "text": [
      ", "
     ]
    },
    {
     "name": "stdout",
     "output_type": "stream",
     "text": [
      "'Congo'"
     ]
    },
    {
     "name": "stdout",
     "output_type": "stream",
     "text": [
      ", "
     ]
    },
    {
     "name": "stdout",
     "output_type": "stream",
     "text": [
      "'Luxembourg'"
     ]
    },
    {
     "name": "stdout",
     "output_type": "stream",
     "text": [
      ", "
     ]
    },
    {
     "name": "stdout",
     "output_type": "stream",
     "text": [
      "'El Salvador'"
     ]
    },
    {
     "name": "stdout",
     "output_type": "stream",
     "text": [
      ",\n",
      "     "
     ]
    },
    {
     "name": "stdout",
     "output_type": "stream",
     "text": [
      "'Gabon'"
     ]
    },
    {
     "name": "stdout",
     "output_type": "stream",
     "text": [
      ", "
     ]
    },
    {
     "name": "stdout",
     "output_type": "stream",
     "text": [
      "'Ukraine'"
     ]
    },
    {
     "name": "stdout",
     "output_type": "stream",
     "text": [
      ", "
     ]
    },
    {
     "name": "stdout",
     "output_type": "stream",
     "text": [
      "'Benin'"
     ]
    },
    {
     "name": "stdout",
     "output_type": "stream",
     "text": [
      ", "
     ]
    },
    {
     "name": "stdout",
     "output_type": "stream",
     "text": [
      "'Belarus'"
     ]
    },
    {
     "name": "stdout",
     "output_type": "stream",
     "text": [
      ", "
     ]
    },
    {
     "name": "stdout",
     "output_type": "stream",
     "text": [
      "'Korea, South'"
     ]
    },
    {
     "name": "stdout",
     "output_type": "stream",
     "text": [
      ", "
     ]
    },
    {
     "name": "stdout",
     "output_type": "stream",
     "text": [
      "'Japan'"
     ]
    },
    {
     "name": "stdout",
     "output_type": "stream",
     "text": [
      ", "
     ]
    },
    {
     "name": "stdout",
     "output_type": "stream",
     "text": [
      "'Oman'"
     ]
    },
    {
     "name": "stdout",
     "output_type": "stream",
     "text": [
      ",\n",
      "     "
     ]
    },
    {
     "name": "stdout",
     "output_type": "stream",
     "text": [
      "'Austria'"
     ]
    },
    {
     "name": "stdout",
     "output_type": "stream",
     "text": [
      ", "
     ]
    },
    {
     "name": "stdout",
     "output_type": "stream",
     "text": [
      "'Singapore'"
     ]
    },
    {
     "name": "stdout",
     "output_type": "stream",
     "text": [
      ", "
     ]
    },
    {
     "name": "stdout",
     "output_type": "stream",
     "text": [
      "'Pakistan'"
     ]
    },
    {
     "name": "stdout",
     "output_type": "stream",
     "text": [
      ", "
     ]
    },
    {
     "name": "stdout",
     "output_type": "stream",
     "text": [
      "'Swaziland'"
     ]
    },
    {
     "name": "stdout",
     "output_type": "stream",
     "text": [
      "]"
     ]
    },
    {
     "name": "stdout",
     "output_type": "stream",
     "text": [
      ",\n",
      " "
     ]
    },
    {
     "name": "stdout",
     "output_type": "stream",
     "text": [
      "10"
     ]
    },
    {
     "name": "stdout",
     "output_type": "stream",
     "text": [
      ": "
     ]
    },
    {
     "name": "stdout",
     "output_type": "stream",
     "text": [
      "["
     ]
    },
    {
     "name": "stdout",
     "output_type": "stream",
     "text": [
      "'Mali'"
     ]
    },
    {
     "name": "stdout",
     "output_type": "stream",
     "text": [
      ", "
     ]
    },
    {
     "name": "stdout",
     "output_type": "stream",
     "text": [
      "'Canada'"
     ]
    },
    {
     "name": "stdout",
     "output_type": "stream",
     "text": [
      ", "
     ]
    },
    {
     "name": "stdout",
     "output_type": "stream",
     "text": [
      "'Chile'"
     ]
    },
    {
     "name": "stdout",
     "output_type": "stream",
     "text": [
      ", "
     ]
    },
    {
     "name": "stdout",
     "output_type": "stream",
     "text": [
      "'Togo'"
     ]
    },
    {
     "name": "stdout",
     "output_type": "stream",
     "text": [
      ", "
     ]
    },
    {
     "name": "stdout",
     "output_type": "stream",
     "text": [
      "'Lithuania'"
     ]
    },
    {
     "name": "stdout",
     "output_type": "stream",
     "text": [
      ", "
     ]
    },
    {
     "name": "stdout",
     "output_type": "stream",
     "text": [
      "'Moldova'"
     ]
    },
    {
     "name": "stdout",
     "output_type": "stream",
     "text": [
      ", "
     ]
    },
    {
     "name": "stdout",
     "output_type": "stream",
     "text": [
      "'Cuba'"
     ]
    },
    {
     "name": "stdout",
     "output_type": "stream",
     "text": [
      ",\n",
      "      "
     ]
    },
    {
     "name": "stdout",
     "output_type": "stream",
     "text": [
      "'Albania'"
     ]
    },
    {
     "name": "stdout",
     "output_type": "stream",
     "text": [
      ", "
     ]
    },
    {
     "name": "stdout",
     "output_type": "stream",
     "text": [
      "'Switzerland'"
     ]
    },
    {
     "name": "stdout",
     "output_type": "stream",
     "text": [
      ", "
     ]
    },
    {
     "name": "stdout",
     "output_type": "stream",
     "text": [
      "'Senegal'"
     ]
    },
    {
     "name": "stdout",
     "output_type": "stream",
     "text": [
      ", "
     ]
    },
    {
     "name": "stdout",
     "output_type": "stream",
     "text": [
      "'Saudi Arabia'"
     ]
    },
    {
     "name": "stdout",
     "output_type": "stream",
     "text": [
      ", "
     ]
    },
    {
     "name": "stdout",
     "output_type": "stream",
     "text": [
      "'Panama'"
     ]
    },
    {
     "name": "stdout",
     "output_type": "stream",
     "text": [
      ",\n",
      "      "
     ]
    },
    {
     "name": "stdout",
     "output_type": "stream",
     "text": [
      "'Uzbekistan'"
     ]
    },
    {
     "name": "stdout",
     "output_type": "stream",
     "text": [
      ", "
     ]
    },
    {
     "name": "stdout",
     "output_type": "stream",
     "text": [
      "'Serbia'"
     ]
    },
    {
     "name": "stdout",
     "output_type": "stream",
     "text": [
      ", "
     ]
    },
    {
     "name": "stdout",
     "output_type": "stream",
     "text": [
      "'Denmark'"
     ]
    },
    {
     "name": "stdout",
     "output_type": "stream",
     "text": [
      ", "
     ]
    },
    {
     "name": "stdout",
     "output_type": "stream",
     "text": [
      "'Belgium'"
     ]
    },
    {
     "name": "stdout",
     "output_type": "stream",
     "text": [
      ", "
     ]
    },
    {
     "name": "stdout",
     "output_type": "stream",
     "text": [
      "'Bosnia and Herzegovina'"
     ]
    },
    {
     "name": "stdout",
     "output_type": "stream",
     "text": [
      ",\n",
      "      "
     ]
    },
    {
     "name": "stdout",
     "output_type": "stream",
     "text": [
      "'Bangladesh'"
     ]
    },
    {
     "name": "stdout",
     "output_type": "stream",
     "text": [
      ", "
     ]
    },
    {
     "name": "stdout",
     "output_type": "stream",
     "text": [
      "'Malaysia'"
     ]
    },
    {
     "name": "stdout",
     "output_type": "stream",
     "text": [
      ", "
     ]
    },
    {
     "name": "stdout",
     "output_type": "stream",
     "text": [
      "'Algeria'"
     ]
    },
    {
     "name": "stdout",
     "output_type": "stream",
     "text": [
      ", "
     ]
    },
    {
     "name": "stdout",
     "output_type": "stream",
     "text": [
      "'Honduras'"
     ]
    },
    {
     "name": "stdout",
     "output_type": "stream",
     "text": [
      "]"
     ]
    },
    {
     "name": "stdout",
     "output_type": "stream",
     "text": [
      ",\n",
      " "
     ]
    },
    {
     "name": "stdout",
     "output_type": "stream",
     "text": [
      "11"
     ]
    },
    {
     "name": "stdout",
     "output_type": "stream",
     "text": [
      ": "
     ]
    },
    {
     "name": "stdout",
     "output_type": "stream",
     "text": [
      "["
     ]
    },
    {
     "name": "stdout",
     "output_type": "stream",
     "text": [
      "'Mexico'"
     ]
    },
    {
     "name": "stdout",
     "output_type": "stream",
     "text": [
      ", "
     ]
    },
    {
     "name": "stdout",
     "output_type": "stream",
     "text": [
      "'Turkey'"
     ]
    },
    {
     "name": "stdout",
     "output_type": "stream",
     "text": [
      ", "
     ]
    },
    {
     "name": "stdout",
     "output_type": "stream",
     "text": [
      "'Latvia'"
     ]
    },
    {
     "name": "stdout",
     "output_type": "stream",
     "text": [
      ", "
     ]
    },
    {
     "name": "stdout",
     "output_type": "stream",
     "text": [
      "'Nigeria'"
     ]
    },
    {
     "name": "stdout",
     "output_type": "stream",
     "text": [
      ", "
     ]
    },
    {
     "name": "stdout",
     "output_type": "stream",
     "text": [
      "'Bulgaria'"
     ]
    },
    {
     "name": "stdout",
     "output_type": "stream",
     "text": [
      ", "
     ]
    },
    {
     "name": "stdout",
     "output_type": "stream",
     "text": [
      "'Kuwait'"
     ]
    },
    {
     "name": "stdout",
     "output_type": "stream",
     "text": [
      ", "
     ]
    },
    {
     "name": "stdout",
     "output_type": "stream",
     "text": [
      "'Guinea'"
     ]
    },
    {
     "name": "stdout",
     "output_type": "stream",
     "text": [
      ",\n",
      "      "
     ]
    },
    {
     "name": "stdout",
     "output_type": "stream",
     "text": [
      "'Bolivia'"
     ]
    },
    {
     "name": "stdout",
     "output_type": "stream",
     "text": [
      ", "
     ]
    },
    {
     "name": "stdout",
     "output_type": "stream",
     "text": [
      "'Egypt'"
     ]
    },
    {
     "name": "stdout",
     "output_type": "stream",
     "text": [
      ", "
     ]
    },
    {
     "name": "stdout",
     "output_type": "stream",
     "text": [
      "'Estonia'"
     ]
    },
    {
     "name": "stdout",
     "output_type": "stream",
     "text": [
      ", "
     ]
    },
    {
     "name": "stdout",
     "output_type": "stream",
     "text": [
      "'Peru'"
     ]
    },
    {
     "name": "stdout",
     "output_type": "stream",
     "text": [
      ", "
     ]
    },
    {
     "name": "stdout",
     "output_type": "stream",
     "text": [
      "'Macedonia'"
     ]
    },
    {
     "name": "stdout",
     "output_type": "stream",
     "text": [
      ", "
     ]
    },
    {
     "name": "stdout",
     "output_type": "stream",
     "text": [
      "'Armenia'"
     ]
    },
    {
     "name": "stdout",
     "output_type": "stream",
     "text": [
      ",\n",
      "      "
     ]
    },
    {
     "name": "stdout",
     "output_type": "stream",
     "text": [
      "'Dominican Republic'"
     ]
    },
    {
     "name": "stdout",
     "output_type": "stream",
     "text": [
      ", "
     ]
    },
    {
     "name": "stdout",
     "output_type": "stream",
     "text": [
      "'Poland'"
     ]
    },
    {
     "name": "stdout",
     "output_type": "stream",
     "text": [
      "]"
     ]
    },
    {
     "name": "stdout",
     "output_type": "stream",
     "text": [
      ",\n",
      " "
     ]
    },
    {
     "name": "stdout",
     "output_type": "stream",
     "text": [
      "12"
     ]
    },
    {
     "name": "stdout",
     "output_type": "stream",
     "text": [
      ": "
     ]
    },
    {
     "name": "stdout",
     "output_type": "stream",
     "text": [
      "["
     ]
    },
    {
     "name": "stdout",
     "output_type": "stream",
     "text": [
      "'Portugal'"
     ]
    },
    {
     "name": "stdout",
     "output_type": "stream",
     "text": [
      ", "
     ]
    },
    {
     "name": "stdout",
     "output_type": "stream",
     "text": [
      "'Italy'"
     ]
    },
    {
     "name": "stdout",
     "output_type": "stream",
     "text": [
      ", "
     ]
    },
    {
     "name": "stdout",
     "output_type": "stream",
     "text": [
      "'United States'"
     ]
    },
    {
     "name": "stdout",
     "output_type": "stream",
     "text": [
      ", "
     ]
    },
    {
     "name": "stdout",
     "output_type": "stream",
     "text": [
      "'Burkina Faso'"
     ]
    },
    {
     "name": "stdout",
     "output_type": "stream",
     "text": [
      ", "
     ]
    },
    {
     "name": "stdout",
     "output_type": "stream",
     "text": [
      "'Bahrain'"
     ]
    },
    {
     "name": "stdout",
     "output_type": "stream",
     "text": [
      ", "
     ]
    },
    {
     "name": "stdout",
     "output_type": "stream",
     "text": [
      "'Brazil'"
     ]
    },
    {
     "name": "stdout",
     "output_type": "stream",
     "text": [
      ",\n",
      "      "
     ]
    },
    {
     "name": "stdout",
     "output_type": "stream",
     "text": [
      "'United Arab Emirates'"
     ]
    },
    {
     "name": "stdout",
     "output_type": "stream",
     "text": [
      ", "
     ]
    },
    {
     "name": "stdout",
     "output_type": "stream",
     "text": [
      "'Iran'"
     ]
    },
    {
     "name": "stdout",
     "output_type": "stream",
     "text": [
      "]"
     ]
    },
    {
     "name": "stdout",
     "output_type": "stream",
     "text": [
      ",\n",
      " "
     ]
    },
    {
     "name": "stdout",
     "output_type": "stream",
     "text": [
      "13"
     ]
    },
    {
     "name": "stdout",
     "output_type": "stream",
     "text": [
      ": "
     ]
    },
    {
     "name": "stdout",
     "output_type": "stream",
     "text": [
      "['Russia', 'France']"
     ]
    },
    {
     "name": "stdout",
     "output_type": "stream",
     "text": [
      "}"
     ]
    },
    {
     "name": "stdout",
     "output_type": "stream",
     "text": [
      "\n"
     ]
    }
   ],
   "source": [
    "# Show the number of phases of all countries\n",
    "analyser.trend()\n",
    "pprint(analyser.phase_len(), compact=True)"
   ]
  },
  {
   "cell_type": "code",
   "execution_count": 8,
   "metadata": {
    "collapsed": false
   },
   "outputs": [
    {
     "data": {
      "text/plain": [
       "10"
      ]
     },
     "execution_count": 8,
     "metadata": {},
     "output_type": "execute_result"
    }
   ],
   "source": [
    "# Set phases with S-R trend analysis\n",
    "analyser.trend(min_len=12)\n",
    "# The number of countries\n",
    "len(analyser.countries)"
   ]
  },
  {
   "cell_type": "code",
   "execution_count": 9,
   "metadata": {
    "collapsed": false,
    "tags": []
   },
   "outputs": [
    {
     "name": "stdout",
     "output_type": "stream",
     "text": [
      "{"
     ]
    },
    {
     "name": "stdout",
     "output_type": "stream",
     "text": [
      "12"
     ]
    },
    {
     "name": "stdout",
     "output_type": "stream",
     "text": [
      ": "
     ]
    },
    {
     "name": "stdout",
     "output_type": "stream",
     "text": [
      "["
     ]
    },
    {
     "name": "stdout",
     "output_type": "stream",
     "text": [
      "'Portugal'"
     ]
    },
    {
     "name": "stdout",
     "output_type": "stream",
     "text": [
      ", "
     ]
    },
    {
     "name": "stdout",
     "output_type": "stream",
     "text": [
      "'Italy'"
     ]
    },
    {
     "name": "stdout",
     "output_type": "stream",
     "text": [
      ", "
     ]
    },
    {
     "name": "stdout",
     "output_type": "stream",
     "text": [
      "'United States'"
     ]
    },
    {
     "name": "stdout",
     "output_type": "stream",
     "text": [
      ", "
     ]
    },
    {
     "name": "stdout",
     "output_type": "stream",
     "text": [
      "'Burkina Faso'"
     ]
    },
    {
     "name": "stdout",
     "output_type": "stream",
     "text": [
      ", "
     ]
    },
    {
     "name": "stdout",
     "output_type": "stream",
     "text": [
      "'Bahrain'"
     ]
    },
    {
     "name": "stdout",
     "output_type": "stream",
     "text": [
      ", "
     ]
    },
    {
     "name": "stdout",
     "output_type": "stream",
     "text": [
      "'Brazil'"
     ]
    },
    {
     "name": "stdout",
     "output_type": "stream",
     "text": [
      ",\n",
      "      "
     ]
    },
    {
     "name": "stdout",
     "output_type": "stream",
     "text": [
      "'United Arab Emirates'"
     ]
    },
    {
     "name": "stdout",
     "output_type": "stream",
     "text": [
      ", "
     ]
    },
    {
     "name": "stdout",
     "output_type": "stream",
     "text": [
      "'Iran'"
     ]
    },
    {
     "name": "stdout",
     "output_type": "stream",
     "text": [
      "]"
     ]
    },
    {
     "name": "stdout",
     "output_type": "stream",
     "text": [
      ",\n",
      " "
     ]
    },
    {
     "name": "stdout",
     "output_type": "stream",
     "text": [
      "13"
     ]
    },
    {
     "name": "stdout",
     "output_type": "stream",
     "text": [
      ": "
     ]
    },
    {
     "name": "stdout",
     "output_type": "stream",
     "text": [
      "['Russia', 'France']"
     ]
    },
    {
     "name": "stdout",
     "output_type": "stream",
     "text": [
      "}"
     ]
    },
    {
     "name": "stdout",
     "output_type": "stream",
     "text": [
      "\n"
     ]
    }
   ],
   "source": [
    "phase_len_dict = analyser.phase_len()\n",
    "pprint(phase_len_dict, compact=True)"
   ]
  },
  {
   "cell_type": "code",
   "execution_count": 10,
   "metadata": {
    "collapsed": false,
    "tags": []
   },
   "outputs": [
    {
     "data": {
      "text/html": [
       "<div>\n",
       "<style scoped>\n",
       "    .dataframe tbody tr th:only-of-type {\n",
       "        vertical-align: middle;\n",
       "    }\n",
       "\n",
       "    .dataframe tbody tr th {\n",
       "        vertical-align: top;\n",
       "    }\n",
       "\n",
       "    .dataframe thead th {\n",
       "        text-align: right;\n",
       "    }\n",
       "</style>\n",
       "<table border=\"1\" class=\"dataframe\">\n",
       "  <thead>\n",
       "    <tr style=\"text-align: right;\">\n",
       "      <th></th>\n",
       "      <th></th>\n",
       "      <th>Type</th>\n",
       "      <th>Start</th>\n",
       "      <th>End</th>\n",
       "      <th>Population</th>\n",
       "    </tr>\n",
       "    <tr>\n",
       "      <th>Country</th>\n",
       "      <th>Phase</th>\n",
       "      <th></th>\n",
       "      <th></th>\n",
       "      <th></th>\n",
       "      <th></th>\n",
       "    </tr>\n",
       "  </thead>\n",
       "  <tbody>\n",
       "    <tr>\n",
       "      <th rowspan=\"13\" valign=\"top\">Russia</th>\n",
       "      <th>0th</th>\n",
       "      <td>Past</td>\n",
       "      <td>12Feb2020</td>\n",
       "      <td>06May2020</td>\n",
       "      <td>330457362</td>\n",
       "    </tr>\n",
       "    <tr>\n",
       "      <th>1st</th>\n",
       "      <td>Past</td>\n",
       "      <td>07May2020</td>\n",
       "      <td>16May2020</td>\n",
       "      <td>330457362</td>\n",
       "    </tr>\n",
       "    <tr>\n",
       "      <th>2nd</th>\n",
       "      <td>Past</td>\n",
       "      <td>17May2020</td>\n",
       "      <td>26May2020</td>\n",
       "      <td>330457362</td>\n",
       "    </tr>\n",
       "    <tr>\n",
       "      <th>3rd</th>\n",
       "      <td>Past</td>\n",
       "      <td>27May2020</td>\n",
       "      <td>04Jun2020</td>\n",
       "      <td>330457362</td>\n",
       "    </tr>\n",
       "    <tr>\n",
       "      <th>4th</th>\n",
       "      <td>Past</td>\n",
       "      <td>05Jun2020</td>\n",
       "      <td>13Jun2020</td>\n",
       "      <td>330457362</td>\n",
       "    </tr>\n",
       "    <tr>\n",
       "      <th>5th</th>\n",
       "      <td>Past</td>\n",
       "      <td>14Jun2020</td>\n",
       "      <td>23Jun2020</td>\n",
       "      <td>330457362</td>\n",
       "    </tr>\n",
       "    <tr>\n",
       "      <th>6th</th>\n",
       "      <td>Past</td>\n",
       "      <td>24Jun2020</td>\n",
       "      <td>05Jul2020</td>\n",
       "      <td>330457362</td>\n",
       "    </tr>\n",
       "    <tr>\n",
       "      <th>7th</th>\n",
       "      <td>Past</td>\n",
       "      <td>06Jul2020</td>\n",
       "      <td>17Jul2020</td>\n",
       "      <td>330457362</td>\n",
       "    </tr>\n",
       "    <tr>\n",
       "      <th>8th</th>\n",
       "      <td>Past</td>\n",
       "      <td>18Jul2020</td>\n",
       "      <td>31Jul2020</td>\n",
       "      <td>330457362</td>\n",
       "    </tr>\n",
       "    <tr>\n",
       "      <th>9th</th>\n",
       "      <td>Past</td>\n",
       "      <td>01Aug2020</td>\n",
       "      <td>14Aug2020</td>\n",
       "      <td>330457362</td>\n",
       "    </tr>\n",
       "    <tr>\n",
       "      <th>10th</th>\n",
       "      <td>Past</td>\n",
       "      <td>15Aug2020</td>\n",
       "      <td>29Aug2020</td>\n",
       "      <td>330457362</td>\n",
       "    </tr>\n",
       "    <tr>\n",
       "      <th>11th</th>\n",
       "      <td>Past</td>\n",
       "      <td>30Aug2020</td>\n",
       "      <td>13Sep2020</td>\n",
       "      <td>330457362</td>\n",
       "    </tr>\n",
       "    <tr>\n",
       "      <th>12th</th>\n",
       "      <td>Past</td>\n",
       "      <td>14Sep2020</td>\n",
       "      <td>27Sep2020</td>\n",
       "      <td>330457362</td>\n",
       "    </tr>\n",
       "    <tr>\n",
       "      <th rowspan=\"13\" valign=\"top\">France</th>\n",
       "      <th>0th</th>\n",
       "      <td>Past</td>\n",
       "      <td>12Feb2020</td>\n",
       "      <td>23Mar2020</td>\n",
       "      <td>68091467</td>\n",
       "    </tr>\n",
       "    <tr>\n",
       "      <th>1st</th>\n",
       "      <td>Past</td>\n",
       "      <td>24Mar2020</td>\n",
       "      <td>02Apr2020</td>\n",
       "      <td>68091467</td>\n",
       "    </tr>\n",
       "    <tr>\n",
       "      <th>2nd</th>\n",
       "      <td>Past</td>\n",
       "      <td>03Apr2020</td>\n",
       "      <td>12Apr2020</td>\n",
       "      <td>68091467</td>\n",
       "    </tr>\n",
       "    <tr>\n",
       "      <th>3rd</th>\n",
       "      <td>Past</td>\n",
       "      <td>13Apr2020</td>\n",
       "      <td>20Apr2020</td>\n",
       "      <td>68091467</td>\n",
       "    </tr>\n",
       "    <tr>\n",
       "      <th>4th</th>\n",
       "      <td>Past</td>\n",
       "      <td>21Apr2020</td>\n",
       "      <td>04May2020</td>\n",
       "      <td>68091467</td>\n",
       "    </tr>\n",
       "    <tr>\n",
       "      <th>5th</th>\n",
       "      <td>Past</td>\n",
       "      <td>05May2020</td>\n",
       "      <td>26May2020</td>\n",
       "      <td>68091467</td>\n",
       "    </tr>\n",
       "    <tr>\n",
       "      <th>6th</th>\n",
       "      <td>Past</td>\n",
       "      <td>27May2020</td>\n",
       "      <td>25Jun2020</td>\n",
       "      <td>68091467</td>\n",
       "    </tr>\n",
       "    <tr>\n",
       "      <th>7th</th>\n",
       "      <td>Past</td>\n",
       "      <td>26Jun2020</td>\n",
       "      <td>22Jul2020</td>\n",
       "      <td>68091467</td>\n",
       "    </tr>\n",
       "    <tr>\n",
       "      <th>8th</th>\n",
       "      <td>Past</td>\n",
       "      <td>23Jul2020</td>\n",
       "      <td>10Aug2020</td>\n",
       "      <td>68091467</td>\n",
       "    </tr>\n",
       "    <tr>\n",
       "      <th>9th</th>\n",
       "      <td>Past</td>\n",
       "      <td>11Aug2020</td>\n",
       "      <td>27Aug2020</td>\n",
       "      <td>68091467</td>\n",
       "    </tr>\n",
       "    <tr>\n",
       "      <th>10th</th>\n",
       "      <td>Past</td>\n",
       "      <td>28Aug2020</td>\n",
       "      <td>10Sep2020</td>\n",
       "      <td>68091467</td>\n",
       "    </tr>\n",
       "    <tr>\n",
       "      <th>11th</th>\n",
       "      <td>Past</td>\n",
       "      <td>11Sep2020</td>\n",
       "      <td>18Sep2020</td>\n",
       "      <td>68091467</td>\n",
       "    </tr>\n",
       "    <tr>\n",
       "      <th>12th</th>\n",
       "      <td>Past</td>\n",
       "      <td>19Sep2020</td>\n",
       "      <td>27Sep2020</td>\n",
       "      <td>68091467</td>\n",
       "    </tr>\n",
       "  </tbody>\n",
       "</table>\n",
       "</div>"
      ],
      "text/plain": [
       "               Type      Start        End  Population\n",
       "Country Phase                                        \n",
       "Russia  0th    Past  12Feb2020  06May2020   330457362\n",
       "        1st    Past  07May2020  16May2020   330457362\n",
       "        2nd    Past  17May2020  26May2020   330457362\n",
       "        3rd    Past  27May2020  04Jun2020   330457362\n",
       "        4th    Past  05Jun2020  13Jun2020   330457362\n",
       "        5th    Past  14Jun2020  23Jun2020   330457362\n",
       "        6th    Past  24Jun2020  05Jul2020   330457362\n",
       "        7th    Past  06Jul2020  17Jul2020   330457362\n",
       "        8th    Past  18Jul2020  31Jul2020   330457362\n",
       "        9th    Past  01Aug2020  14Aug2020   330457362\n",
       "        10th   Past  15Aug2020  29Aug2020   330457362\n",
       "        11th   Past  30Aug2020  13Sep2020   330457362\n",
       "        12th   Past  14Sep2020  27Sep2020   330457362\n",
       "France  0th    Past  12Feb2020  23Mar2020    68091467\n",
       "        1st    Past  24Mar2020  02Apr2020    68091467\n",
       "        2nd    Past  03Apr2020  12Apr2020    68091467\n",
       "        3rd    Past  13Apr2020  20Apr2020    68091467\n",
       "        4th    Past  21Apr2020  04May2020    68091467\n",
       "        5th    Past  05May2020  26May2020    68091467\n",
       "        6th    Past  27May2020  25Jun2020    68091467\n",
       "        7th    Past  26Jun2020  22Jul2020    68091467\n",
       "        8th    Past  23Jul2020  10Aug2020    68091467\n",
       "        9th    Past  11Aug2020  27Aug2020    68091467\n",
       "        10th   Past  28Aug2020  10Sep2020    68091467\n",
       "        11th   Past  11Sep2020  18Sep2020    68091467\n",
       "        12th   Past  19Sep2020  27Sep2020    68091467"
      ]
     },
     "execution_count": 10,
     "metadata": {},
     "output_type": "execute_result"
    }
   ],
   "source": [
    "# Here, only show the countries which have the most phases\n",
    "countries_show = max(phase_len_dict.items(), key=lambda x: x[0])[1]\n",
    "# Show summary\n",
    "analyser.summary(countries=countries_show)"
   ]
  },
  {
   "cell_type": "markdown",
   "metadata": {},
   "source": [
    "## Parameter estimation\n",
    "we will estimate the parameter values with SIR-derived ODE models in each country."
   ]
  },
  {
   "cell_type": "code",
   "execution_count": 11,
   "metadata": {
    "collapsed": false,
    "tags": []
   },
   "outputs": [
    {
     "name": "stdout",
     "output_type": "stream",
     "text": [
      "\n",
      "<SIR-F model: parameter estimation>"
     ]
    },
    {
     "name": "stdout",
     "output_type": "stream",
     "text": [
      "\n"
     ]
    },
    {
     "name": "stdout",
     "output_type": "stream",
     "text": [
      "Running optimization with 4 CPUs..."
     ]
    },
    {
     "name": "stdout",
     "output_type": "stream",
     "text": [
      "\n"
     ]
    },
    {
     "name": "stdout",
     "output_type": "stream",
     "text": [
      "\tBFA,  3rd phase (20Apr2020 - 03May2020): finished 1349 trials in 1 min  0 sec"
     ]
    },
    {
     "name": "stdout",
     "output_type": "stream",
     "text": [
      "\n"
     ]
    },
    {
     "name": "stdout",
     "output_type": "stream",
     "text": [
      "\tRUS,  0th phase (12Feb2020 - 06May2020): finished 1374 trials in 1 min  0 sec"
     ]
    },
    {
     "name": "stdout",
     "output_type": "stream",
     "text": [
      "\n"
     ]
    },
    {
     "name": "stdout",
     "output_type": "stream",
     "text": [
      "\tBRA, 10th phase (03Sep2020 - 14Sep2020): finished 1331 trials in 1 min  0 sec"
     ]
    },
    {
     "name": "stdout",
     "output_type": "stream",
     "text": [
      "\n"
     ]
    },
    {
     "name": "stdout",
     "output_type": "stream",
     "text": [
      "\tIRN,  1st phase (30Mar2020 - 17Apr2020): finished 1328 trials in 1 min  0 sec"
     ]
    },
    {
     "name": "stdout",
     "output_type": "stream",
     "text": [
      "\n"
     ]
    },
    {
     "name": "stdout",
     "output_type": "stream",
     "text": [
      "\tITA,  7th phase (22May2020 - 13Jun2020): finished  513 trials in 0 min 20 sec"
     ]
    },
    {
     "name": "stdout",
     "output_type": "stream",
     "text": [
      "\n"
     ]
    },
    {
     "name": "stdout",
     "output_type": "stream",
     "text": [
      "\tBRA,  9th phase (25Aug2020 - 02Sep2020): finished  338 trials in 0 min 10 sec"
     ]
    },
    {
     "name": "stdout",
     "output_type": "stream",
     "text": [
      "\n"
     ]
    },
    {
     "name": "stdout",
     "output_type": "stream",
     "text": [
      "\tFRA,  2nd phase (03Apr2020 - 12Apr2020): finished 1463 trials in 1 min  0 sec"
     ]
    },
    {
     "name": "stdout",
     "output_type": "stream",
     "text": [
      "\n"
     ]
    },
    {
     "name": "stdout",
     "output_type": "stream",
     "text": [
      "\tRUS,  5th phase (14Jun2020 - 23Jun2020): finished 1465 trials in 1 min  0 sec"
     ]
    },
    {
     "name": "stdout",
     "output_type": "stream",
     "text": [
      "\n"
     ]
    },
    {
     "name": "stdout",
     "output_type": "stream",
     "text": [
      "\tARE,  3rd phase (25May2020 - 06Jun2020): finished 1462 trials in 1 min  0 sec"
     ]
    },
    {
     "name": "stdout",
     "output_type": "stream",
     "text": [
      "\n"
     ]
    },
    {
     "name": "stdout",
     "output_type": "stream",
     "text": [
      "\tBHR, 10th phase (07Sep2020 - 16Sep2020): finished  185 trials in 0 min  5 sec"
     ]
    },
    {
     "name": "stdout",
     "output_type": "stream",
     "text": [
      "\n"
     ]
    },
    {
     "name": "stdout",
     "output_type": "stream",
     "text": [
      "\tFRA, 10th phase (28Aug2020 - 10Sep2020): finished  638 trials in 0 min 20 sec"
     ]
    },
    {
     "name": "stdout",
     "output_type": "stream",
     "text": [
      "\n"
     ]
    },
    {
     "name": "stdout",
     "output_type": "stream",
     "text": [
      "\tITA, 11th phase (15Sep2020 - 27Sep2020): finished  177 trials in 0 min  5 sec"
     ]
    },
    {
     "name": "stdout",
     "output_type": "stream",
     "text": [
      "\n"
     ]
    },
    {
     "name": "stdout",
     "output_type": "stream",
     "text": [
      "\tARE,  2nd phase (15May2020 - 24May2020): finished 1549 trials in 1 min  0 sec"
     ]
    },
    {
     "name": "stdout",
     "output_type": "stream",
     "text": [
      "\n"
     ]
    },
    {
     "name": "stdout",
     "output_type": "stream",
     "text": [
      "\tBFA,  0th phase (21Mar2020 - 31Mar2020): finished 1540 trials in 1 min  0 sec"
     ]
    },
    {
     "name": "stdout",
     "output_type": "stream",
     "text": [
      "\n"
     ]
    },
    {
     "name": "stdout",
     "output_type": "stream",
     "text": [
      "\tARE,  4th phase (07Jun2020 - 20Jun2020): finished 1525 trials in 1 min  0 sec"
     ]
    },
    {
     "name": "stdout",
     "output_type": "stream",
     "text": [
      "\n"
     ]
    },
    {
     "name": "stdout",
     "output_type": "stream",
     "text": [
      "\tITA,  3rd phase (09Apr2020 - 18Apr2020): finished  341 trials in 0 min 10 sec"
     ]
    },
    {
     "name": "stdout",
     "output_type": "stream",
     "text": [
      "\n"
     ]
    },
    {
     "name": "stdout",
     "output_type": "stream",
     "text": [
      "\tPRT, 11th phase (17Sep2020 - 27Sep2020): finished 1505 trials in 1 min  0 sec"
     ]
    },
    {
     "name": "stdout",
     "output_type": "stream",
     "text": [
      "\n"
     ]
    },
    {
     "name": "stdout",
     "output_type": "stream",
     "text": [
      "\tPRT,  7th phase (21Jul2020 - 07Aug2020): finished 1500 trials in 1 min  0 sec"
     ]
    },
    {
     "name": "stdout",
     "output_type": "stream",
     "text": [
      "\n"
     ]
    },
    {
     "name": "stdout",
     "output_type": "stream",
     "text": [
      "\tPRT,  8th phase (08Aug2020 - 25Aug2020): finished 1458 trials in 1 min  0 sec"
     ]
    },
    {
     "name": "stdout",
     "output_type": "stream",
     "text": [
      "\n"
     ]
    },
    {
     "name": "stdout",
     "output_type": "stream",
     "text": [
      "\tARE,  6th phase (04Jul2020 - 20Jul2020): finished 1463 trials in 1 min  0 sec"
     ]
    },
    {
     "name": "stdout",
     "output_type": "stream",
     "text": [
      "\n"
     ]
    },
    {
     "name": "stdout",
     "output_type": "stream",
     "text": [
      "\tIRN, 10th phase (28Aug2020 - 13Sep2020): finished 1444 trials in 1 min  0 sec"
     ]
    },
    {
     "name": "stdout",
     "output_type": "stream",
     "text": [
      "\n"
     ]
    },
    {
     "name": "stdout",
     "output_type": "stream",
     "text": [
      "\tPRT,  0th phase (14Mar2020 - 27Apr2020): finished 1405 trials in 1 min  0 sec"
     ]
    },
    {
     "name": "stdout",
     "output_type": "stream",
     "text": [
      "\n"
     ]
    },
    {
     "name": "stdout",
     "output_type": "stream",
     "text": [
      "\tBRA,  2nd phase (14Jun2020 - 26Jun2020): finished 1155 trials in 0 min 45 sec"
     ]
    },
    {
     "name": "stdout",
     "output_type": "stream",
     "text": [
      "\n"
     ]
    },
    {
     "name": "stdout",
     "output_type": "stream",
     "text": [
      "\tPRT,  5th phase (26Jun2020 - 07Jul2020): finished 1465 trials in 1 min  0 sec"
     ]
    },
    {
     "name": "stdout",
     "output_type": "stream",
     "text": [
      "\n"
     ]
    },
    {
     "name": "stdout",
     "output_type": "stream",
     "text": [
      "\tBFA,  5th phase (21May2020 - 23Jun2020): finished 1434 trials in 1 min  0 sec"
     ]
    },
    {
     "name": "stdout",
     "output_type": "stream",
     "text": [
      "\n"
     ]
    },
    {
     "name": "stdout",
     "output_type": "stream",
     "text": [
      "\tBFA,  9th phase (25Aug2020 - 10Sep2020): finished 1447 trials in 1 min  0 sec"
     ]
    },
    {
     "name": "stdout",
     "output_type": "stream",
     "text": [
      "\n"
     ]
    },
    {
     "name": "stdout",
     "output_type": "stream",
     "text": [
      "\tFRA,  9th phase (11Aug2020 - 27Aug2020): finished  707 trials in 0 min 25 sec"
     ]
    },
    {
     "name": "stdout",
     "output_type": "stream",
     "text": [
      "\n"
     ]
    },
    {
     "name": "stdout",
     "output_type": "stream",
     "text": [
      "\tPRT,  3rd phase (31May2020 - 12Jun2020): finished 1451 trials in 1 min  0 sec"
     ]
    },
    {
     "name": "stdout",
     "output_type": "stream",
     "text": [
      "\n"
     ]
    },
    {
     "name": "stdout",
     "output_type": "stream",
     "text": [
      "\tITA,  8th phase (14Jun2020 - 29Jul2020): finished  686 trials in 0 min 25 sec"
     ]
    },
    {
     "name": "stdout",
     "output_type": "stream",
     "text": [
      "\n"
     ]
    },
    {
     "name": "stdout",
     "output_type": "stream",
     "text": [
      "\tARE,  1st phase (27Apr2020 - 14May2020): finished 1424 trials in 1 min  0 sec"
     ]
    },
    {
     "name": "stdout",
     "output_type": "stream",
     "text": [
      "\n"
     ]
    },
    {
     "name": "stdout",
     "output_type": "stream",
     "text": [
      "\tRUS,  4th phase (05Jun2020 - 13Jun2020): finished 1434 trials in 1 min  0 sec"
     ]
    },
    {
     "name": "stdout",
     "output_type": "stream",
     "text": [
      "\n"
     ]
    },
    {
     "name": "stdout",
     "output_type": "stream",
     "text": [
      "\tPRT, 10th phase (08Sep2020 - 16Sep2020): finished 1453 trials in 1 min  0 sec"
     ]
    },
    {
     "name": "stdout",
     "output_type": "stream",
     "text": [
      "\n"
     ]
    },
    {
     "name": "stdout",
     "output_type": "stream",
     "text": [
      "\tUSA, 10th phase (31Aug2020 - 13Sep2020): finished  712 trials in 0 min 25 sec"
     ]
    },
    {
     "name": "stdout",
     "output_type": "stream",
     "text": [
      "\n"
     ]
    },
    {
     "name": "stdout",
     "output_type": "stream",
     "text": [
      "\tIRN,  8th phase (28Jul2020 - 11Aug2020): finished  587 trials in 0 min 20 sec"
     ]
    },
    {
     "name": "stdout",
     "output_type": "stream",
     "text": [
      "\n"
     ]
    },
    {
     "name": "stdout",
     "output_type": "stream",
     "text": [
      "\tUSA,  3rd phase (06Jun2020 - 25Jun2020): finished 1448 trials in 1 min  0 sec"
     ]
    },
    {
     "name": "stdout",
     "output_type": "stream",
     "text": [
      "\n"
     ]
    },
    {
     "name": "stdout",
     "output_type": "stream",
     "text": [
      "\tITA,  1st phase (21Mar2020 - 28Mar2020): finished 1455 trials in 1 min  0 sec"
     ]
    },
    {
     "name": "stdout",
     "output_type": "stream",
     "text": [
      "\n"
     ]
    },
    {
     "name": "stdout",
     "output_type": "stream",
     "text": [
      "\tARE,  5th phase (21Jun2020 - 03Jul2020): finished  302 trials in 0 min 10 sec"
     ]
    },
    {
     "name": "stdout",
     "output_type": "stream",
     "text": [
      "\n"
     ]
    },
    {
     "name": "stdout",
     "output_type": "stream",
     "text": [
      "\tFRA,  4th phase (21Apr2020 - 04May2020): finished 1399 trials in 1 min  0 sec"
     ]
    },
    {
     "name": "stdout",
     "output_type": "stream",
     "text": [
      "\n"
     ]
    },
    {
     "name": "stdout",
     "output_type": "stream",
     "text": [
      "\tIRN,  0th phase (26Feb2020 - 29Mar2020): finished 1386 trials in 1 min  0 sec"
     ]
    },
    {
     "name": "stdout",
     "output_type": "stream",
     "text": [
      "\n"
     ]
    },
    {
     "name": "stdout",
     "output_type": "stream",
     "text": [
      "\tUSA, 11th phase (14Sep2020 - 27Sep2020): finished  760 trials in 0 min 30 sec"
     ]
    },
    {
     "name": "stdout",
     "output_type": "stream",
     "text": [
      "\n"
     ]
    },
    {
     "name": "stdout",
     "output_type": "stream",
     "text": [
      "\tITA,  2nd phase (29Mar2020 - 08Apr2020): finished 1389 trials in 1 min  0 sec"
     ]
    },
    {
     "name": "stdout",
     "output_type": "stream",
     "text": [
      "\n"
     ]
    },
    {
     "name": "stdout",
     "output_type": "stream",
     "text": [
      "\tBHR,  7th phase (27Jul2020 - 09Aug2020): finished  299 trials in 0 min 10 sec"
     ]
    },
    {
     "name": "stdout",
     "output_type": "stream",
     "text": [
      "\n"
     ]
    },
    {
     "name": "stdout",
     "output_type": "stream",
     "text": [
      "\tBHR,  1st phase (11May2020 - 01Jun2020): finished 1373 trials in 1 min  0 sec"
     ]
    },
    {
     "name": "stdout",
     "output_type": "stream",
     "text": [
      "\n"
     ]
    },
    {
     "name": "stdout",
     "output_type": "stream",
     "text": [
      "\tFRA,  1st phase (24Mar2020 - 02Apr2020): finished 1357 trials in 1 min  0 sec"
     ]
    },
    {
     "name": "stdout",
     "output_type": "stream",
     "text": [
      "\n"
     ]
    },
    {
     "name": "stdout",
     "output_type": "stream",
     "text": [
      "\tBHR,  5th phase (05Jul2020 - 14Jul2020): finished 1267 trials in 1 min  0 sec"
     ]
    },
    {
     "name": "stdout",
     "output_type": "stream",
     "text": [
      "\n"
     ]
    },
    {
     "name": "stdout",
     "output_type": "stream",
     "text": [
      "\tITA,  9th phase (30Jul2020 - 28Aug2020): finished 1096 trials in 1 min  0 sec"
     ]
    },
    {
     "name": "stdout",
     "output_type": "stream",
     "text": [
      "\n"
     ]
    },
    {
     "name": "stdout",
     "output_type": "stream",
     "text": [
      "\tBRA,  7th phase (06Aug2020 - 13Aug2020): finished  356 trials in 0 min 25 sec"
     ]
    },
    {
     "name": "stdout",
     "output_type": "stream",
     "text": [
      "\n"
     ]
    },
    {
     "name": "stdout",
     "output_type": "stream",
     "text": [
      "\tRUS,  1st phase (07May2020 - 16May2020): finished  873 trials in 1 min  0 sec"
     ]
    },
    {
     "name": "stdout",
     "output_type": "stream",
     "text": [
      "\n"
     ]
    },
    {
     "name": "stdout",
     "output_type": "stream",
     "text": [
      "\tRUS,  2nd phase (17May2020 - 26May2020): finished  857 trials in 1 min  0 sec"
     ]
    },
    {
     "name": "stdout",
     "output_type": "stream",
     "text": [
      "\n"
     ]
    },
    {
     "name": "stdout",
     "output_type": "stream",
     "text": [
      "\tUSA,  5th phase (08Jul2020 - 17Jul2020): finished  306 trials in 0 min 20 sec"
     ]
    },
    {
     "name": "stdout",
     "output_type": "stream",
     "text": [
      "\n"
     ]
    },
    {
     "name": "stdout",
     "output_type": "stream",
     "text": [
      "\tBRA,  0th phase (16Mar2020 - 26May2020): finished  835 trials in 1 min  0 sec"
     ]
    },
    {
     "name": "stdout",
     "output_type": "stream",
     "text": [
      "\n"
     ]
    },
    {
     "name": "stdout",
     "output_type": "stream",
     "text": [
      "\tBFA,  8th phase (11Aug2020 - 24Aug2020): finished  663 trials in 0 min 40 sec"
     ]
    },
    {
     "name": "stdout",
     "output_type": "stream",
     "text": [
      "\n"
     ]
    },
    {
     "name": "stdout",
     "output_type": "stream",
     "text": [
      "\tITA, 10th phase (29Aug2020 - 14Sep2020): finished  196 trials in 0 min 10 sec"
     ]
    },
    {
     "name": "stdout",
     "output_type": "stream",
     "text": [
      "\n"
     ]
    },
    {
     "name": "stdout",
     "output_type": "stream",
     "text": [
      "\tARE,  0th phase (12Feb2020 - 26Apr2020): finished  872 trials in 1 min  0 sec"
     ]
    },
    {
     "name": "stdout",
     "output_type": "stream",
     "text": [
      "\n"
     ]
    },
    {
     "name": "stdout",
     "output_type": "stream",
     "text": [
      "\tBRA,  3rd phase (27Jun2020 - 07Jul2020): finished  925 trials in 1 min  0 sec"
     ]
    },
    {
     "name": "stdout",
     "output_type": "stream",
     "text": [
      "\n"
     ]
    },
    {
     "name": "stdout",
     "output_type": "stream",
     "text": [
      "\tARE, 10th phase (10Sep2020 - 18Sep2020): finished  234 trials in 0 min 15 sec"
     ]
    },
    {
     "name": "stdout",
     "output_type": "stream",
     "text": [
      "\n"
     ]
    },
    {
     "name": "stdout",
     "output_type": "stream",
     "text": [
      "\tARE,  7th phase (21Jul2020 - 15Aug2020): finished  820 trials in 1 min  0 sec"
     ]
    },
    {
     "name": "stdout",
     "output_type": "stream",
     "text": [
      "\n"
     ]
    },
    {
     "name": "stdout",
     "output_type": "stream",
     "text": [
      "\tITA,  5th phase (01May2020 - 09May2020): finished  573 trials in 0 min 45 sec"
     ]
    },
    {
     "name": "stdout",
     "output_type": "stream",
     "text": [
      "\n"
     ]
    },
    {
     "name": "stdout",
     "output_type": "stream",
     "text": [
      "\tIRN,  4th phase (01Jun2020 - 15Jun2020): finished  648 trials in 1 min  1 sec"
     ]
    },
    {
     "name": "stdout",
     "output_type": "stream",
     "text": [
      "\n"
     ]
    },
    {
     "name": "stdout",
     "output_type": "stream",
     "text": [
      "\tIRN,  5th phase (16Jun2020 - 29Jun2020): finished  647 trials in 1 min  1 sec"
     ]
    },
    {
     "name": "stdout",
     "output_type": "stream",
     "text": [
      "\n"
     ]
    },
    {
     "name": "stdout",
     "output_type": "stream",
     "text": [
      "\tARE,  8th phase (16Aug2020 - 01Sep2020): finished  465 trials in 0 min 40 sec"
     ]
    },
    {
     "name": "stdout",
     "output_type": "stream",
     "text": [
      "\n"
     ]
    },
    {
     "name": "stdout",
     "output_type": "stream",
     "text": [
      "\tBHR,  2nd phase (02Jun2020 - 13Jun2020): finished  778 trials in 1 min  1 sec"
     ]
    },
    {
     "name": "stdout",
     "output_type": "stream",
     "text": [
      "\n"
     ]
    },
    {
     "name": "stdout",
     "output_type": "stream",
     "text": [
      "\tIRN,  9th phase (12Aug2020 - 27Aug2020): finished  495 trials in 0 min 30 sec"
     ]
    },
    {
     "name": "stdout",
     "output_type": "stream",
     "text": [
      "\n"
     ]
    },
    {
     "name": "stdout",
     "output_type": "stream",
     "text": [
      "\tITA,  0th phase (24Feb2020 - 20Mar2020): finished  841 trials in 1 min  0 sec"
     ]
    },
    {
     "name": "stdout",
     "output_type": "stream",
     "text": [
      "\n"
     ]
    },
    {
     "name": "stdout",
     "output_type": "stream",
     "text": [
      "\tITA,  6th phase (10May2020 - 21May2020): finished  360 trials in 0 min 25 sec"
     ]
    },
    {
     "name": "stdout",
     "output_type": "stream",
     "text": [
      "\n"
     ]
    },
    {
     "name": "stdout",
     "output_type": "stream",
     "text": [
      "\tBHR,  8th phase (10Aug2020 - 24Aug2020): finished  143 trials in 0 min 10 sec"
     ]
    },
    {
     "name": "stdout",
     "output_type": "stream",
     "text": [
      "\n"
     ]
    },
    {
     "name": "stdout",
     "output_type": "stream",
     "text": [
      "\tFRA,  5th phase (05May2020 - 26May2020): finished  831 trials in 1 min  0 sec"
     ]
    },
    {
     "name": "stdout",
     "output_type": "stream",
     "text": [
      "\n"
     ]
    },
    {
     "name": "stdout",
     "output_type": "stream",
     "text": [
      "\tUSA,  8th phase (07Aug2020 - 18Aug2020): finished  549 trials in 0 min 40 sec"
     ]
    },
    {
     "name": "stdout",
     "output_type": "stream",
     "text": [
      "\n"
     ]
    },
    {
     "name": "stdout",
     "output_type": "stream",
     "text": [
      "\tIRN,  2nd phase (18Apr2020 - 13May2020): finished  251 trials in 0 min 15 sec"
     ]
    },
    {
     "name": "stdout",
     "output_type": "stream",
     "text": [
      "\n"
     ]
    },
    {
     "name": "stdout",
     "output_type": "stream",
     "text": [
      "\tARE,  9th phase (02Sep2020 - 09Sep2020): finished  848 trials in 1 min  0 sec"
     ]
    },
    {
     "name": "stdout",
     "output_type": "stream",
     "text": [
      "\n"
     ]
    },
    {
     "name": "stdout",
     "output_type": "stream",
     "text": [
      "\tBRA,  5th phase (21Jul2020 - 28Jul2020): finished  869 trials in 1 min  0 sec"
     ]
    },
    {
     "name": "stdout",
     "output_type": "stream",
     "text": [
      "\n"
     ]
    },
    {
     "name": "stdout",
     "output_type": "stream",
     "text": [
      "\tRUS,  8th phase (18Jul2020 - 31Jul2020): finished  854 trials in 1 min  0 sec"
     ]
    },
    {
     "name": "stdout",
     "output_type": "stream",
     "text": [
      "\n"
     ]
    },
    {
     "name": "stdout",
     "output_type": "stream",
     "text": [
      "\tBRA,  6th phase (29Jul2020 - 05Aug2020): finished  797 trials in 1 min  0 sec"
     ]
    },
    {
     "name": "stdout",
     "output_type": "stream",
     "text": [
      "\n"
     ]
    },
    {
     "name": "stdout",
     "output_type": "stream",
     "text": [
      "\tBHR,  0th phase (06Mar2020 - 10May2020): finished  645 trials in 1 min  1 sec"
     ]
    },
    {
     "name": "stdout",
     "output_type": "stream",
     "text": [
      "\n"
     ]
    },
    {
     "name": "stdout",
     "output_type": "stream",
     "text": [
      "\tBRA,  8th phase (14Aug2020 - 24Aug2020): finished  692 trials in 1 min  0 sec"
     ]
    },
    {
     "name": "stdout",
     "output_type": "stream",
     "text": [
      "\n"
     ]
    },
    {
     "name": "stdout",
     "output_type": "stream",
     "text": [
      "\tBFA,  7th phase (23Jul2020 - 10Aug2020): finished  676 trials in 1 min  0 sec"
     ]
    },
    {
     "name": "stdout",
     "output_type": "stream",
     "text": [
      "\n"
     ]
    },
    {
     "name": "stdout",
     "output_type": "stream",
     "text": [
      "\tBFA,  6th phase (24Jun2020 - 22Jul2020): finished  714 trials in 1 min  1 sec"
     ]
    },
    {
     "name": "stdout",
     "output_type": "stream",
     "text": [
      "\n"
     ]
    },
    {
     "name": "stdout",
     "output_type": "stream",
     "text": [
      "\tUSA,  6th phase (18Jul2020 - 27Jul2020): finished  371 trials in 0 min 25 sec"
     ]
    },
    {
     "name": "stdout",
     "output_type": "stream",
     "text": [
      "\n"
     ]
    },
    {
     "name": "stdout",
     "output_type": "stream",
     "text": [
      "\tRUS, 11th phase (30Aug2020 - 13Sep2020): finished  746 trials in 0 min 50 sec"
     ]
    },
    {
     "name": "stdout",
     "output_type": "stream",
     "text": [
      "\n"
     ]
    },
    {
     "name": "stdout",
     "output_type": "stream",
     "text": [
      "\tITA,  4th phase (19Apr2020 - 30Apr2020): finished  140 trials in 0 min  5 sec"
     ]
    },
    {
     "name": "stdout",
     "output_type": "stream",
     "text": [
      "\n"
     ]
    },
    {
     "name": "stdout",
     "output_type": "stream",
     "text": [
      "\tBFA,  4th phase (04May2020 - 20May2020): finished  808 trials in 1 min  0 sec"
     ]
    },
    {
     "name": "stdout",
     "output_type": "stream",
     "text": [
      "\n"
     ]
    },
    {
     "name": "stdout",
     "output_type": "stream",
     "text": [
      "\tUSA,  2nd phase (12May2020 - 05Jun2020): finished  862 trials in 1 min  0 sec"
     ]
    },
    {
     "name": "stdout",
     "output_type": "stream",
     "text": [
      "\n"
     ]
    },
    {
     "name": "stdout",
     "output_type": "stream",
     "text": [
      "\tIRN,  3rd phase (14May2020 - 31May2020): finished  316 trials in 0 min 15 sec"
     ]
    },
    {
     "name": "stdout",
     "output_type": "stream",
     "text": [
      "\n"
     ]
    },
    {
     "name": "stdout",
     "output_type": "stream",
     "text": [
      "\tRUS, 10th phase (15Aug2020 - 29Aug2020): finished 1075 trials in 1 min  0 sec"
     ]
    },
    {
     "name": "stdout",
     "output_type": "stream",
     "text": [
      "\n"
     ]
    },
    {
     "name": "stdout",
     "output_type": "stream",
     "text": [
      "\tBHR,  3rd phase (14Jun2020 - 24Jun2020): finished 1112 trials in 1 min  0 sec"
     ]
    },
    {
     "name": "stdout",
     "output_type": "stream",
     "text": [
      "\n"
     ]
    },
    {
     "name": "stdout",
     "output_type": "stream",
     "text": [
      "\tRUS,  9th phase (01Aug2020 - 14Aug2020): finished 1088 trials in 1 min  0 sec"
     ]
    },
    {
     "name": "stdout",
     "output_type": "stream",
     "text": [
      "\n"
     ]
    },
    {
     "name": "stdout",
     "output_type": "stream",
     "text": [
      "\tPRT,  4th phase (13Jun2020 - 25Jun2020): finished 1038 trials in 1 min  0 sec"
     ]
    },
    {
     "name": "stdout",
     "output_type": "stream",
     "text": [
      "\n"
     ]
    },
    {
     "name": "stdout",
     "output_type": "stream",
     "text": [
      "\tIRN,  7th phase (14Jul2020 - 27Jul2020): finished  117 trials in 0 min  5 sec"
     ]
    },
    {
     "name": "stdout",
     "output_type": "stream",
     "text": [
      "\n"
     ]
    },
    {
     "name": "stdout",
     "output_type": "stream",
     "text": [
      "\tBFA, 11th phase (19Sep2020 - 27Sep2020): finished 1061 trials in 1 min  0 sec"
     ]
    },
    {
     "name": "stdout",
     "output_type": "stream",
     "text": [
      "\n"
     ]
    },
    {
     "name": "stdout",
     "output_type": "stream",
     "text": [
      "\tRUS,  3rd phase (27May2020 - 04Jun2020): finished 1112 trials in 1 min  0 sec"
     ]
    },
    {
     "name": "stdout",
     "output_type": "stream",
     "text": [
      "\n"
     ]
    },
    {
     "name": "stdout",
     "output_type": "stream",
     "text": [
      "\tPRT,  6th phase (08Jul2020 - 20Jul2020): finished 1094 trials in 1 min  0 sec"
     ]
    },
    {
     "name": "stdout",
     "output_type": "stream",
     "text": [
      "\n"
     ]
    },
    {
     "name": "stdout",
     "output_type": "stream",
     "text": [
      "\tBHR,  9th phase (25Aug2020 - 06Sep2020): finished 1081 trials in 1 min  0 sec"
     ]
    },
    {
     "name": "stdout",
     "output_type": "stream",
     "text": [
      "\n"
     ]
    },
    {
     "name": "stdout",
     "output_type": "stream",
     "text": [
      "\tUSA,  9th phase (19Aug2020 - 30Aug2020): finished  668 trials in 0 min 30 sec"
     ]
    },
    {
     "name": "stdout",
     "output_type": "stream",
     "text": [
      "\n"
     ]
    },
    {
     "name": "stdout",
     "output_type": "stream",
     "text": [
      "\tFRA,  3rd phase (13Apr2020 - 20Apr2020): finished 1073 trials in 1 min  0 sec"
     ]
    },
    {
     "name": "stdout",
     "output_type": "stream",
     "text": [
      "\n"
     ]
    },
    {
     "name": "stdout",
     "output_type": "stream",
     "text": [
      "\tBFA,  1st phase (01Apr2020 - 09Apr2020): finished 1065 trials in 1 min  0 sec"
     ]
    },
    {
     "name": "stdout",
     "output_type": "stream",
     "text": [
      "\n"
     ]
    },
    {
     "name": "stdout",
     "output_type": "stream",
     "text": [
      "\tPRT,  9th phase (26Aug2020 - 07Sep2020): finished 1063 trials in 1 min  0 sec"
     ]
    },
    {
     "name": "stdout",
     "output_type": "stream",
     "text": [
      "\n"
     ]
    },
    {
     "name": "stdout",
     "output_type": "stream",
     "text": [
      "\tBHR,  6th phase (15Jul2020 - 26Jul2020): finished  402 trials in 0 min 20 sec"
     ]
    },
    {
     "name": "stdout",
     "output_type": "stream",
     "text": [
      "\n"
     ]
    },
    {
     "name": "stdout",
     "output_type": "stream",
     "text": [
      "\tBFA, 10th phase (11Sep2020 - 18Sep2020): finished 1237 trials in 1 min  0 sec"
     ]
    },
    {
     "name": "stdout",
     "output_type": "stream",
     "text": [
      "\n"
     ]
    },
    {
     "name": "stdout",
     "output_type": "stream",
     "text": [
      "\tUSA,  1st phase (20Apr2020 - 11May2020): finished 1247 trials in 1 min  0 sec"
     ]
    },
    {
     "name": "stdout",
     "output_type": "stream",
     "text": [
      "\n"
     ]
    },
    {
     "name": "stdout",
     "output_type": "stream",
     "text": [
      "\tBFA,  2nd phase (10Apr2020 - 19Apr2020): finished 1257 trials in 1 min  0 sec"
     ]
    },
    {
     "name": "stdout",
     "output_type": "stream",
     "text": [
      "\n"
     ]
    },
    {
     "name": "stdout",
     "output_type": "stream",
     "text": [
      "\tPRT,  1st phase (28Apr2020 - 14May2020): finished 1276 trials in 1 min  0 sec"
     ]
    },
    {
     "name": "stdout",
     "output_type": "stream",
     "text": [
      "\n"
     ]
    },
    {
     "name": "stdout",
     "output_type": "stream",
     "text": [
      "\tBRA,  1st phase (27May2020 - 13Jun2020): finished 1267 trials in 1 min  0 sec"
     ]
    },
    {
     "name": "stdout",
     "output_type": "stream",
     "text": [
      "\n"
     ]
    },
    {
     "name": "stdout",
     "output_type": "stream",
     "text": [
      "\tRUS,  7th phase (06Jul2020 - 17Jul2020): finished 1285 trials in 1 min  0 sec"
     ]
    },
    {
     "name": "stdout",
     "output_type": "stream",
     "text": [
      "\n"
     ]
    },
    {
     "name": "stdout",
     "output_type": "stream",
     "text": [
      "\tFRA,  7th phase (26Jun2020 - 22Jul2020): finished  397 trials in 0 min 15 sec"
     ]
    },
    {
     "name": "stdout",
     "output_type": "stream",
     "text": [
      "\n"
     ]
    },
    {
     "name": "stdout",
     "output_type": "stream",
     "text": [
      "\tRUS,  6th phase (24Jun2020 - 05Jul2020): finished 1246 trials in 1 min  0 sec"
     ]
    },
    {
     "name": "stdout",
     "output_type": "stream",
     "text": [
      "\n"
     ]
    },
    {
     "name": "stdout",
     "output_type": "stream",
     "text": [
      "\tPRT,  2nd phase (15May2020 - 30May2020): finished 1272 trials in 1 min  0 sec"
     ]
    },
    {
     "name": "stdout",
     "output_type": "stream",
     "text": [
      "\n"
     ]
    },
    {
     "name": "stdout",
     "output_type": "stream",
     "text": [
      "\tUSA,  0th phase (09Feb2020 - 19Apr2020): finished 1207 trials in 1 min  0 sec"
     ]
    },
    {
     "name": "stdout",
     "output_type": "stream",
     "text": [
      "\n"
     ]
    },
    {
     "name": "stdout",
     "output_type": "stream",
     "text": [
      "\tUSA,  7th phase (28Jul2020 - 06Aug2020): finished  278 trials in 0 min 10 sec"
     ]
    },
    {
     "name": "stdout",
     "output_type": "stream",
     "text": [
      "\n"
     ]
    },
    {
     "name": "stdout",
     "output_type": "stream",
     "text": [
      "\tFRA,  0th phase (12Feb2020 - 23Mar2020): finished 1339 trials in 1 min  0 sec"
     ]
    },
    {
     "name": "stdout",
     "output_type": "stream",
     "text": [
      "\n"
     ]
    },
    {
     "name": "stdout",
     "output_type": "stream",
     "text": [
      "\tFRA,  6th phase (27May2020 - 25Jun2020): finished 1444 trials in 1 min  0 sec"
     ]
    },
    {
     "name": "stdout",
     "output_type": "stream",
     "text": [
      "\n"
     ]
    },
    {
     "name": "stdout",
     "output_type": "stream",
     "text": [
      "\tBHR,  4th phase (25Jun2020 - 04Jul2020): finished  992 trials in 0 min 35 sec"
     ]
    },
    {
     "name": "stdout",
     "output_type": "stream",
     "text": [
      "\n"
     ]
    },
    {
     "name": "stdout",
     "output_type": "stream",
     "text": [
      "\tIRN,  6th phase (30Jun2020 - 13Jul2020): finished  162 trials in 0 min  5 sec"
     ]
    },
    {
     "name": "stdout",
     "output_type": "stream",
     "text": [
      "\n"
     ]
    },
    {
     "name": "stdout",
     "output_type": "stream",
     "text": [
      "Completed optimization. Total: 24 min 10 sec"
     ]
    },
    {
     "name": "stdout",
     "output_type": "stream",
     "text": [
      "\n"
     ]
    }
   ],
   "source": [
    "# Parameter estimation with SIR-F model\n",
    "analyser.estimate(cs.SIRF)"
   ]
  },
  {
   "cell_type": "code",
   "execution_count": 12,
   "metadata": {
    "collapsed": false
   },
   "outputs": [
    {
     "data": {
      "text/html": [
       "<div>\n",
       "<style scoped>\n",
       "    .dataframe tbody tr th:only-of-type {\n",
       "        vertical-align: middle;\n",
       "    }\n",
       "\n",
       "    .dataframe tbody tr th {\n",
       "        vertical-align: top;\n",
       "    }\n",
       "\n",
       "    .dataframe thead th {\n",
       "        text-align: right;\n",
       "    }\n",
       "</style>\n",
       "<table border=\"1\" class=\"dataframe\">\n",
       "  <thead>\n",
       "    <tr style=\"text-align: right;\">\n",
       "      <th></th>\n",
       "      <th></th>\n",
       "      <th>Type</th>\n",
       "      <th>Start</th>\n",
       "      <th>End</th>\n",
       "      <th>Population</th>\n",
       "      <th>ODE</th>\n",
       "      <th>Rt</th>\n",
       "      <th>theta</th>\n",
       "      <th>kappa</th>\n",
       "      <th>rho</th>\n",
       "      <th>sigma</th>\n",
       "      <th>tau</th>\n",
       "      <th>1/beta [day]</th>\n",
       "      <th>1/alpha2 [day]</th>\n",
       "      <th>1/gamma [day]</th>\n",
       "      <th>alpha1 [-]</th>\n",
       "      <th>RMSLE</th>\n",
       "      <th>Trials</th>\n",
       "      <th>Runtime</th>\n",
       "    </tr>\n",
       "    <tr>\n",
       "      <th>Country</th>\n",
       "      <th>Phase</th>\n",
       "      <th></th>\n",
       "      <th></th>\n",
       "      <th></th>\n",
       "      <th></th>\n",
       "      <th></th>\n",
       "      <th></th>\n",
       "      <th></th>\n",
       "      <th></th>\n",
       "      <th></th>\n",
       "      <th></th>\n",
       "      <th></th>\n",
       "      <th></th>\n",
       "      <th></th>\n",
       "      <th></th>\n",
       "      <th></th>\n",
       "      <th></th>\n",
       "      <th></th>\n",
       "      <th></th>\n",
       "    </tr>\n",
       "  </thead>\n",
       "  <tbody>\n",
       "    <tr>\n",
       "      <th rowspan=\"13\" valign=\"top\">Russia</th>\n",
       "      <th>0th</th>\n",
       "      <td>Past</td>\n",
       "      <td>12Feb2020</td>\n",
       "      <td>06May2020</td>\n",
       "      <td>330457362</td>\n",
       "      <td>SIR-F</td>\n",
       "      <td>0.02</td>\n",
       "      <td>0.602763</td>\n",
       "      <td>0.544883</td>\n",
       "      <td>0.0340813</td>\n",
       "      <td>0.00229851</td>\n",
       "      <td>360</td>\n",
       "      <td>7</td>\n",
       "      <td>0</td>\n",
       "      <td>108</td>\n",
       "      <td>0.603</td>\n",
       "      <td>18.9667</td>\n",
       "      <td>1374</td>\n",
       "      <td>1 min  0 sec</td>\n",
       "    </tr>\n",
       "    <tr>\n",
       "      <th>1st</th>\n",
       "      <td>Past</td>\n",
       "      <td>07May2020</td>\n",
       "      <td>16May2020</td>\n",
       "      <td>330457362</td>\n",
       "      <td>SIR-F</td>\n",
       "      <td>2.58</td>\n",
       "      <td>0.00180556</td>\n",
       "      <td>9.34529e-05</td>\n",
       "      <td>0.0131342</td>\n",
       "      <td>0.00499299</td>\n",
       "      <td>360</td>\n",
       "      <td>19</td>\n",
       "      <td>2675</td>\n",
       "      <td>50</td>\n",
       "      <td>0.002</td>\n",
       "      <td>0.0716556</td>\n",
       "      <td>873</td>\n",
       "      <td>1 min  0 sec</td>\n",
       "    </tr>\n",
       "    <tr>\n",
       "      <th>2nd</th>\n",
       "      <td>Past</td>\n",
       "      <td>17May2020</td>\n",
       "      <td>26May2020</td>\n",
       "      <td>330457362</td>\n",
       "      <td>SIR-F</td>\n",
       "      <td>1.59</td>\n",
       "      <td>0.000437993</td>\n",
       "      <td>9.8046e-05</td>\n",
       "      <td>0.00703411</td>\n",
       "      <td>0.00431289</td>\n",
       "      <td>360</td>\n",
       "      <td>35</td>\n",
       "      <td>2549</td>\n",
       "      <td>57</td>\n",
       "      <td>0</td>\n",
       "      <td>0.0869176</td>\n",
       "      <td>857</td>\n",
       "      <td>1 min  0 sec</td>\n",
       "    </tr>\n",
       "    <tr>\n",
       "      <th>3rd</th>\n",
       "      <td>Past</td>\n",
       "      <td>27May2020</td>\n",
       "      <td>04Jun2020</td>\n",
       "      <td>330457362</td>\n",
       "      <td>SIR-F</td>\n",
       "      <td>1.03</td>\n",
       "      <td>0.000708362</td>\n",
       "      <td>0.000116581</td>\n",
       "      <td>0.00547912</td>\n",
       "      <td>0.00519557</td>\n",
       "      <td>360</td>\n",
       "      <td>45</td>\n",
       "      <td>2144</td>\n",
       "      <td>48</td>\n",
       "      <td>0.001</td>\n",
       "      <td>0.0672237</td>\n",
       "      <td>1112</td>\n",
       "      <td>1 min  0 sec</td>\n",
       "    </tr>\n",
       "    <tr>\n",
       "      <th>4th</th>\n",
       "      <td>Past</td>\n",
       "      <td>05Jun2020</td>\n",
       "      <td>13Jun2020</td>\n",
       "      <td>330457362</td>\n",
       "      <td>SIR-F</td>\n",
       "      <td>1.25</td>\n",
       "      <td>0.000825421</td>\n",
       "      <td>8.45185e-05</td>\n",
       "      <td>0.00464652</td>\n",
       "      <td>0.00362314</td>\n",
       "      <td>360</td>\n",
       "      <td>53</td>\n",
       "      <td>2957</td>\n",
       "      <td>69</td>\n",
       "      <td>0.001</td>\n",
       "      <td>0.0483449</td>\n",
       "      <td>1434</td>\n",
       "      <td>1 min  0 sec</td>\n",
       "    </tr>\n",
       "    <tr>\n",
       "      <th>5th</th>\n",
       "      <td>Past</td>\n",
       "      <td>14Jun2020</td>\n",
       "      <td>23Jun2020</td>\n",
       "      <td>330457362</td>\n",
       "      <td>SIR-F</td>\n",
       "      <td>0.82</td>\n",
       "      <td>0.000348462</td>\n",
       "      <td>7.90578e-05</td>\n",
       "      <td>0.00346657</td>\n",
       "      <td>0.0041384</td>\n",
       "      <td>360</td>\n",
       "      <td>72</td>\n",
       "      <td>3162</td>\n",
       "      <td>60</td>\n",
       "      <td>0</td>\n",
       "      <td>0.0638472</td>\n",
       "      <td>1465</td>\n",
       "      <td>1 min  0 sec</td>\n",
       "    </tr>\n",
       "    <tr>\n",
       "      <th>6th</th>\n",
       "      <td>Past</td>\n",
       "      <td>24Jun2020</td>\n",
       "      <td>05Jul2020</td>\n",
       "      <td>330457362</td>\n",
       "      <td>SIR-F</td>\n",
       "      <td>0.77</td>\n",
       "      <td>0.0048605</td>\n",
       "      <td>4.57342e-05</td>\n",
       "      <td>0.00256363</td>\n",
       "      <td>0.00328876</td>\n",
       "      <td>360</td>\n",
       "      <td>97</td>\n",
       "      <td>5466</td>\n",
       "      <td>76</td>\n",
       "      <td>0.005</td>\n",
       "      <td>0.0679173</td>\n",
       "      <td>1246</td>\n",
       "      <td>1 min  0 sec</td>\n",
       "    </tr>\n",
       "    <tr>\n",
       "      <th>7th</th>\n",
       "      <td>Past</td>\n",
       "      <td>06Jul2020</td>\n",
       "      <td>17Jul2020</td>\n",
       "      <td>330457362</td>\n",
       "      <td>SIR-F</td>\n",
       "      <td>0.73</td>\n",
       "      <td>0.0235908</td>\n",
       "      <td>1.03671e-05</td>\n",
       "      <td>0.00226026</td>\n",
       "      <td>0.00301415</td>\n",
       "      <td>360</td>\n",
       "      <td>110</td>\n",
       "      <td>24114</td>\n",
       "      <td>82</td>\n",
       "      <td>0.024</td>\n",
       "      <td>0.0608681</td>\n",
       "      <td>1285</td>\n",
       "      <td>1 min  0 sec</td>\n",
       "    </tr>\n",
       "    <tr>\n",
       "      <th>8th</th>\n",
       "      <td>Past</td>\n",
       "      <td>18Jul2020</td>\n",
       "      <td>31Jul2020</td>\n",
       "      <td>330457362</td>\n",
       "      <td>SIR-F</td>\n",
       "      <td>0.74</td>\n",
       "      <td>0.0188284</td>\n",
       "      <td>5.96163e-05</td>\n",
       "      <td>0.0018079</td>\n",
       "      <td>0.00232196</td>\n",
       "      <td>360</td>\n",
       "      <td>138</td>\n",
       "      <td>4193</td>\n",
       "      <td>107</td>\n",
       "      <td>0.019</td>\n",
       "      <td>0.0908792</td>\n",
       "      <td>854</td>\n",
       "      <td>1 min  0 sec</td>\n",
       "    </tr>\n",
       "    <tr>\n",
       "      <th>9th</th>\n",
       "      <td>Past</td>\n",
       "      <td>01Aug2020</td>\n",
       "      <td>14Aug2020</td>\n",
       "      <td>330457362</td>\n",
       "      <td>SIR-F</td>\n",
       "      <td>0.76</td>\n",
       "      <td>0.00141602</td>\n",
       "      <td>3.12519e-05</td>\n",
       "      <td>0.00146767</td>\n",
       "      <td>0.00188923</td>\n",
       "      <td>360</td>\n",
       "      <td>170</td>\n",
       "      <td>7999</td>\n",
       "      <td>132</td>\n",
       "      <td>0.001</td>\n",
       "      <td>0.0489869</td>\n",
       "      <td>1088</td>\n",
       "      <td>1 min  0 sec</td>\n",
       "    </tr>\n",
       "    <tr>\n",
       "      <th>10th</th>\n",
       "      <td>Past</td>\n",
       "      <td>15Aug2020</td>\n",
       "      <td>29Aug2020</td>\n",
       "      <td>330457362</td>\n",
       "      <td>SIR-F</td>\n",
       "      <td>0.66</td>\n",
       "      <td>0.125636</td>\n",
       "      <td>6.92046e-05</td>\n",
       "      <td>0.00128443</td>\n",
       "      <td>0.00163335</td>\n",
       "      <td>360</td>\n",
       "      <td>194</td>\n",
       "      <td>3612</td>\n",
       "      <td>153</td>\n",
       "      <td>0.126</td>\n",
       "      <td>0.254792</td>\n",
       "      <td>1075</td>\n",
       "      <td>1 min  0 sec</td>\n",
       "    </tr>\n",
       "    <tr>\n",
       "      <th>11th</th>\n",
       "      <td>Past</td>\n",
       "      <td>30Aug2020</td>\n",
       "      <td>13Sep2020</td>\n",
       "      <td>330457362</td>\n",
       "      <td>SIR-F</td>\n",
       "      <td>0.88</td>\n",
       "      <td>0.00136719</td>\n",
       "      <td>2.49714e-05</td>\n",
       "      <td>0.00134621</td>\n",
       "      <td>0.0014996</td>\n",
       "      <td>360</td>\n",
       "      <td>185</td>\n",
       "      <td>10011</td>\n",
       "      <td>166</td>\n",
       "      <td>0.001</td>\n",
       "      <td>0.00793664</td>\n",
       "      <td>746</td>\n",
       "      <td>0 min 50 sec</td>\n",
       "    </tr>\n",
       "    <tr>\n",
       "      <th>12th</th>\n",
       "      <td>Past</td>\n",
       "      <td>14Sep2020</td>\n",
       "      <td>27Sep2020</td>\n",
       "      <td>330457362</td>\n",
       "      <td>-</td>\n",
       "      <td>-</td>\n",
       "      <td>-</td>\n",
       "      <td>-</td>\n",
       "      <td>-</td>\n",
       "      <td>-</td>\n",
       "      <td>-</td>\n",
       "      <td>-</td>\n",
       "      <td>-</td>\n",
       "      <td>-</td>\n",
       "      <td>-</td>\n",
       "      <td>-</td>\n",
       "      <td>-</td>\n",
       "      <td>-</td>\n",
       "    </tr>\n",
       "    <tr>\n",
       "      <th rowspan=\"13\" valign=\"top\">France</th>\n",
       "      <th>0th</th>\n",
       "      <td>Past</td>\n",
       "      <td>12Feb2020</td>\n",
       "      <td>23Mar2020</td>\n",
       "      <td>68091467</td>\n",
       "      <td>SIR-F</td>\n",
       "      <td>5.01</td>\n",
       "      <td>0.0167899</td>\n",
       "      <td>0.000334095</td>\n",
       "      <td>0.0200938</td>\n",
       "      <td>0.00361132</td>\n",
       "      <td>360</td>\n",
       "      <td>12</td>\n",
       "      <td>748</td>\n",
       "      <td>69</td>\n",
       "      <td>0.017</td>\n",
       "      <td>5.75979</td>\n",
       "      <td>1339</td>\n",
       "      <td>1 min  0 sec</td>\n",
       "    </tr>\n",
       "    <tr>\n",
       "      <th>1st</th>\n",
       "      <td>Past</td>\n",
       "      <td>24Mar2020</td>\n",
       "      <td>02Apr2020</td>\n",
       "      <td>68091467</td>\n",
       "      <td>SIR-F</td>\n",
       "      <td>3.56</td>\n",
       "      <td>0.0698239</td>\n",
       "      <td>0.000796724</td>\n",
       "      <td>0.0349468</td>\n",
       "      <td>0.00832317</td>\n",
       "      <td>360</td>\n",
       "      <td>7</td>\n",
       "      <td>313</td>\n",
       "      <td>30</td>\n",
       "      <td>0.07</td>\n",
       "      <td>0.0847065</td>\n",
       "      <td>1357</td>\n",
       "      <td>1 min  0 sec</td>\n",
       "    </tr>\n",
       "    <tr>\n",
       "      <th>2nd</th>\n",
       "      <td>Past</td>\n",
       "      <td>03Apr2020</td>\n",
       "      <td>12Apr2020</td>\n",
       "      <td>68091467</td>\n",
       "      <td>SIR-F</td>\n",
       "      <td>1.73</td>\n",
       "      <td>0.207758</td>\n",
       "      <td>0.000828625</td>\n",
       "      <td>0.0189201</td>\n",
       "      <td>0.0078155</td>\n",
       "      <td>360</td>\n",
       "      <td>13</td>\n",
       "      <td>301</td>\n",
       "      <td>31</td>\n",
       "      <td>0.208</td>\n",
       "      <td>0.024521</td>\n",
       "      <td>1463</td>\n",
       "      <td>1 min  0 sec</td>\n",
       "    </tr>\n",
       "    <tr>\n",
       "      <th>3rd</th>\n",
       "      <td>Past</td>\n",
       "      <td>13Apr2020</td>\n",
       "      <td>20Apr2020</td>\n",
       "      <td>68091467</td>\n",
       "      <td>SIR-F</td>\n",
       "      <td>1.15</td>\n",
       "      <td>0.295127</td>\n",
       "      <td>0.000334877</td>\n",
       "      <td>0.0113781</td>\n",
       "      <td>0.00666102</td>\n",
       "      <td>360</td>\n",
       "      <td>21</td>\n",
       "      <td>746</td>\n",
       "      <td>37</td>\n",
       "      <td>0.295</td>\n",
       "      <td>0.0235567</td>\n",
       "      <td>1073</td>\n",
       "      <td>1 min  0 sec</td>\n",
       "    </tr>\n",
       "    <tr>\n",
       "      <th>4th</th>\n",
       "      <td>Past</td>\n",
       "      <td>21Apr2020</td>\n",
       "      <td>04May2020</td>\n",
       "      <td>68091467</td>\n",
       "      <td>SIR-F</td>\n",
       "      <td>0.87</td>\n",
       "      <td>0.16343</td>\n",
       "      <td>0.000760857</td>\n",
       "      <td>0.00576398</td>\n",
       "      <td>0.00475135</td>\n",
       "      <td>360</td>\n",
       "      <td>43</td>\n",
       "      <td>328</td>\n",
       "      <td>52</td>\n",
       "      <td>0.163</td>\n",
       "      <td>0.0231487</td>\n",
       "      <td>1399</td>\n",
       "      <td>1 min  0 sec</td>\n",
       "    </tr>\n",
       "    <tr>\n",
       "      <th>5th</th>\n",
       "      <td>Past</td>\n",
       "      <td>05May2020</td>\n",
       "      <td>26May2020</td>\n",
       "      <td>68091467</td>\n",
       "      <td>SIR-F</td>\n",
       "      <td>0.7</td>\n",
       "      <td>0.040658</td>\n",
       "      <td>0.000651527</td>\n",
       "      <td>0.00230984</td>\n",
       "      <td>0.00251812</td>\n",
       "      <td>360</td>\n",
       "      <td>108</td>\n",
       "      <td>383</td>\n",
       "      <td>99</td>\n",
       "      <td>0.041</td>\n",
       "      <td>0.0453868</td>\n",
       "      <td>831</td>\n",
       "      <td>1 min  0 sec</td>\n",
       "    </tr>\n",
       "    <tr>\n",
       "      <th>6th</th>\n",
       "      <td>Past</td>\n",
       "      <td>27May2020</td>\n",
       "      <td>25Jun2020</td>\n",
       "      <td>68091467</td>\n",
       "      <td>SIR-F</td>\n",
       "      <td>1.39</td>\n",
       "      <td>0.10994</td>\n",
       "      <td>1.88018e-05</td>\n",
       "      <td>0.00170617</td>\n",
       "      <td>0.00107227</td>\n",
       "      <td>360</td>\n",
       "      <td>146</td>\n",
       "      <td>13296</td>\n",
       "      <td>233</td>\n",
       "      <td>0.11</td>\n",
       "      <td>0.0703376</td>\n",
       "      <td>1444</td>\n",
       "      <td>1 min  0 sec</td>\n",
       "    </tr>\n",
       "    <tr>\n",
       "      <th>7th</th>\n",
       "      <td>Past</td>\n",
       "      <td>26Jun2020</td>\n",
       "      <td>22Jul2020</td>\n",
       "      <td>68091467</td>\n",
       "      <td>SIR-F</td>\n",
       "      <td>3.19</td>\n",
       "      <td>0.0193772</td>\n",
       "      <td>4.82376e-05</td>\n",
       "      <td>0.00253457</td>\n",
       "      <td>0.000731295</td>\n",
       "      <td>360</td>\n",
       "      <td>98</td>\n",
       "      <td>5182</td>\n",
       "      <td>341</td>\n",
       "      <td>0.019</td>\n",
       "      <td>0.0124165</td>\n",
       "      <td>397</td>\n",
       "      <td>0 min 15 sec</td>\n",
       "    </tr>\n",
       "    <tr>\n",
       "      <th>8th</th>\n",
       "      <td>Past</td>\n",
       "      <td>23Jul2020</td>\n",
       "      <td>10Aug2020</td>\n",
       "      <td>68091467</td>\n",
       "      <td>-</td>\n",
       "      <td>-</td>\n",
       "      <td>-</td>\n",
       "      <td>-</td>\n",
       "      <td>-</td>\n",
       "      <td>-</td>\n",
       "      <td>-</td>\n",
       "      <td>-</td>\n",
       "      <td>-</td>\n",
       "      <td>-</td>\n",
       "      <td>-</td>\n",
       "      <td>-</td>\n",
       "      <td>-</td>\n",
       "      <td>-</td>\n",
       "    </tr>\n",
       "    <tr>\n",
       "      <th>9th</th>\n",
       "      <td>Past</td>\n",
       "      <td>11Aug2020</td>\n",
       "      <td>27Aug2020</td>\n",
       "      <td>68091467</td>\n",
       "      <td>SIR-F</td>\n",
       "      <td>16.42</td>\n",
       "      <td>0.000139493</td>\n",
       "      <td>1.80742e-06</td>\n",
       "      <td>0.0073174</td>\n",
       "      <td>0.000443826</td>\n",
       "      <td>360</td>\n",
       "      <td>34</td>\n",
       "      <td>138318</td>\n",
       "      <td>563</td>\n",
       "      <td>0</td>\n",
       "      <td>0.0122178</td>\n",
       "      <td>707</td>\n",
       "      <td>0 min 25 sec</td>\n",
       "    </tr>\n",
       "    <tr>\n",
       "      <th>10th</th>\n",
       "      <td>Past</td>\n",
       "      <td>28Aug2020</td>\n",
       "      <td>10Sep2020</td>\n",
       "      <td>68091467</td>\n",
       "      <td>SIR-F</td>\n",
       "      <td>29.4</td>\n",
       "      <td>0.000128353</td>\n",
       "      <td>1.80784e-06</td>\n",
       "      <td>0.00928194</td>\n",
       "      <td>0.000313911</td>\n",
       "      <td>360</td>\n",
       "      <td>26</td>\n",
       "      <td>138286</td>\n",
       "      <td>796</td>\n",
       "      <td>0</td>\n",
       "      <td>0.015368</td>\n",
       "      <td>638</td>\n",
       "      <td>0 min 20 sec</td>\n",
       "    </tr>\n",
       "    <tr>\n",
       "      <th>11th</th>\n",
       "      <td>Past</td>\n",
       "      <td>11Sep2020</td>\n",
       "      <td>18Sep2020</td>\n",
       "      <td>68091467</td>\n",
       "      <td>-</td>\n",
       "      <td>-</td>\n",
       "      <td>-</td>\n",
       "      <td>-</td>\n",
       "      <td>-</td>\n",
       "      <td>-</td>\n",
       "      <td>-</td>\n",
       "      <td>-</td>\n",
       "      <td>-</td>\n",
       "      <td>-</td>\n",
       "      <td>-</td>\n",
       "      <td>-</td>\n",
       "      <td>-</td>\n",
       "      <td>-</td>\n",
       "    </tr>\n",
       "    <tr>\n",
       "      <th>12th</th>\n",
       "      <td>Past</td>\n",
       "      <td>19Sep2020</td>\n",
       "      <td>27Sep2020</td>\n",
       "      <td>68091467</td>\n",
       "      <td>-</td>\n",
       "      <td>-</td>\n",
       "      <td>-</td>\n",
       "      <td>-</td>\n",
       "      <td>-</td>\n",
       "      <td>-</td>\n",
       "      <td>-</td>\n",
       "      <td>-</td>\n",
       "      <td>-</td>\n",
       "      <td>-</td>\n",
       "      <td>-</td>\n",
       "      <td>-</td>\n",
       "      <td>-</td>\n",
       "      <td>-</td>\n",
       "    </tr>\n",
       "  </tbody>\n",
       "</table>\n",
       "</div>"
      ],
      "text/plain": [
       "               Type      Start        End  Population    ODE     Rt  \\\n",
       "Country Phase                                                         \n",
       "Russia  0th    Past  12Feb2020  06May2020   330457362  SIR-F   0.02   \n",
       "        1st    Past  07May2020  16May2020   330457362  SIR-F   2.58   \n",
       "        2nd    Past  17May2020  26May2020   330457362  SIR-F   1.59   \n",
       "        3rd    Past  27May2020  04Jun2020   330457362  SIR-F   1.03   \n",
       "        4th    Past  05Jun2020  13Jun2020   330457362  SIR-F   1.25   \n",
       "        5th    Past  14Jun2020  23Jun2020   330457362  SIR-F   0.82   \n",
       "        6th    Past  24Jun2020  05Jul2020   330457362  SIR-F   0.77   \n",
       "        7th    Past  06Jul2020  17Jul2020   330457362  SIR-F   0.73   \n",
       "        8th    Past  18Jul2020  31Jul2020   330457362  SIR-F   0.74   \n",
       "        9th    Past  01Aug2020  14Aug2020   330457362  SIR-F   0.76   \n",
       "        10th   Past  15Aug2020  29Aug2020   330457362  SIR-F   0.66   \n",
       "        11th   Past  30Aug2020  13Sep2020   330457362  SIR-F   0.88   \n",
       "        12th   Past  14Sep2020  27Sep2020   330457362      -      -   \n",
       "France  0th    Past  12Feb2020  23Mar2020    68091467  SIR-F   5.01   \n",
       "        1st    Past  24Mar2020  02Apr2020    68091467  SIR-F   3.56   \n",
       "        2nd    Past  03Apr2020  12Apr2020    68091467  SIR-F   1.73   \n",
       "        3rd    Past  13Apr2020  20Apr2020    68091467  SIR-F   1.15   \n",
       "        4th    Past  21Apr2020  04May2020    68091467  SIR-F   0.87   \n",
       "        5th    Past  05May2020  26May2020    68091467  SIR-F    0.7   \n",
       "        6th    Past  27May2020  25Jun2020    68091467  SIR-F   1.39   \n",
       "        7th    Past  26Jun2020  22Jul2020    68091467  SIR-F   3.19   \n",
       "        8th    Past  23Jul2020  10Aug2020    68091467      -      -   \n",
       "        9th    Past  11Aug2020  27Aug2020    68091467  SIR-F  16.42   \n",
       "        10th   Past  28Aug2020  10Sep2020    68091467  SIR-F   29.4   \n",
       "        11th   Past  11Sep2020  18Sep2020    68091467      -      -   \n",
       "        12th   Past  19Sep2020  27Sep2020    68091467      -      -   \n",
       "\n",
       "                     theta        kappa         rho        sigma  tau  \\\n",
       "Country Phase                                                           \n",
       "Russia  0th       0.602763     0.544883   0.0340813   0.00229851  360   \n",
       "        1st     0.00180556  9.34529e-05   0.0131342   0.00499299  360   \n",
       "        2nd    0.000437993   9.8046e-05  0.00703411   0.00431289  360   \n",
       "        3rd    0.000708362  0.000116581  0.00547912   0.00519557  360   \n",
       "        4th    0.000825421  8.45185e-05  0.00464652   0.00362314  360   \n",
       "        5th    0.000348462  7.90578e-05  0.00346657    0.0041384  360   \n",
       "        6th      0.0048605  4.57342e-05  0.00256363   0.00328876  360   \n",
       "        7th      0.0235908  1.03671e-05  0.00226026   0.00301415  360   \n",
       "        8th      0.0188284  5.96163e-05   0.0018079   0.00232196  360   \n",
       "        9th     0.00141602  3.12519e-05  0.00146767   0.00188923  360   \n",
       "        10th      0.125636  6.92046e-05  0.00128443   0.00163335  360   \n",
       "        11th    0.00136719  2.49714e-05  0.00134621    0.0014996  360   \n",
       "        12th             -            -           -            -    -   \n",
       "France  0th      0.0167899  0.000334095   0.0200938   0.00361132  360   \n",
       "        1st      0.0698239  0.000796724   0.0349468   0.00832317  360   \n",
       "        2nd       0.207758  0.000828625   0.0189201    0.0078155  360   \n",
       "        3rd       0.295127  0.000334877   0.0113781   0.00666102  360   \n",
       "        4th        0.16343  0.000760857  0.00576398   0.00475135  360   \n",
       "        5th       0.040658  0.000651527  0.00230984   0.00251812  360   \n",
       "        6th        0.10994  1.88018e-05  0.00170617   0.00107227  360   \n",
       "        7th      0.0193772  4.82376e-05  0.00253457  0.000731295  360   \n",
       "        8th              -            -           -            -    -   \n",
       "        9th    0.000139493  1.80742e-06   0.0073174  0.000443826  360   \n",
       "        10th   0.000128353  1.80784e-06  0.00928194  0.000313911  360   \n",
       "        11th             -            -           -            -    -   \n",
       "        12th             -            -           -            -    -   \n",
       "\n",
       "              1/beta [day] 1/alpha2 [day] 1/gamma [day] alpha1 [-]  \\\n",
       "Country Phase                                                        \n",
       "Russia  0th              7              0           108      0.603   \n",
       "        1st             19           2675            50      0.002   \n",
       "        2nd             35           2549            57          0   \n",
       "        3rd             45           2144            48      0.001   \n",
       "        4th             53           2957            69      0.001   \n",
       "        5th             72           3162            60          0   \n",
       "        6th             97           5466            76      0.005   \n",
       "        7th            110          24114            82      0.024   \n",
       "        8th            138           4193           107      0.019   \n",
       "        9th            170           7999           132      0.001   \n",
       "        10th           194           3612           153      0.126   \n",
       "        11th           185          10011           166      0.001   \n",
       "        12th             -              -             -          -   \n",
       "France  0th             12            748            69      0.017   \n",
       "        1st              7            313            30       0.07   \n",
       "        2nd             13            301            31      0.208   \n",
       "        3rd             21            746            37      0.295   \n",
       "        4th             43            328            52      0.163   \n",
       "        5th            108            383            99      0.041   \n",
       "        6th            146          13296           233       0.11   \n",
       "        7th             98           5182           341      0.019   \n",
       "        8th              -              -             -          -   \n",
       "        9th             34         138318           563          0   \n",
       "        10th            26         138286           796          0   \n",
       "        11th             -              -             -          -   \n",
       "        12th             -              -             -          -   \n",
       "\n",
       "                    RMSLE Trials       Runtime  \n",
       "Country Phase                                   \n",
       "Russia  0th       18.9667   1374  1 min  0 sec  \n",
       "        1st     0.0716556    873  1 min  0 sec  \n",
       "        2nd     0.0869176    857  1 min  0 sec  \n",
       "        3rd     0.0672237   1112  1 min  0 sec  \n",
       "        4th     0.0483449   1434  1 min  0 sec  \n",
       "        5th     0.0638472   1465  1 min  0 sec  \n",
       "        6th     0.0679173   1246  1 min  0 sec  \n",
       "        7th     0.0608681   1285  1 min  0 sec  \n",
       "        8th     0.0908792    854  1 min  0 sec  \n",
       "        9th     0.0489869   1088  1 min  0 sec  \n",
       "        10th     0.254792   1075  1 min  0 sec  \n",
       "        11th   0.00793664    746  0 min 50 sec  \n",
       "        12th            -      -             -  \n",
       "France  0th       5.75979   1339  1 min  0 sec  \n",
       "        1st     0.0847065   1357  1 min  0 sec  \n",
       "        2nd      0.024521   1463  1 min  0 sec  \n",
       "        3rd     0.0235567   1073  1 min  0 sec  \n",
       "        4th     0.0231487   1399  1 min  0 sec  \n",
       "        5th     0.0453868    831  1 min  0 sec  \n",
       "        6th     0.0703376   1444  1 min  0 sec  \n",
       "        7th     0.0124165    397  0 min 15 sec  \n",
       "        8th             -      -             -  \n",
       "        9th     0.0122178    707  0 min 25 sec  \n",
       "        10th     0.015368    638  0 min 20 sec  \n",
       "        11th            -      -             -  \n",
       "        12th            -      -             -  "
      ]
     },
     "execution_count": 12,
     "metadata": {},
     "output_type": "execute_result"
    }
   ],
   "source": [
    "# Show summary\n",
    "analyser.summary(countries=countries_show)"
   ]
  },
  {
   "cell_type": "markdown",
   "metadata": {},
   "source": [
    "## Compare the history of parameters\n",
    "Here, compare the history of parameter values if countries."
   ]
  },
  {
   "cell_type": "code",
   "execution_count": 13,
   "metadata": {
    "collapsed": false
   },
   "outputs": [
    {
     "data": {
      "text/html": [
       "<div>\n",
       "<style scoped>\n",
       "    .dataframe tbody tr th:only-of-type {\n",
       "        vertical-align: middle;\n",
       "    }\n",
       "\n",
       "    .dataframe tbody tr th {\n",
       "        vertical-align: top;\n",
       "    }\n",
       "\n",
       "    .dataframe thead th {\n",
       "        text-align: right;\n",
       "    }\n",
       "</style>\n",
       "<table border=\"1\" class=\"dataframe\">\n",
       "  <thead>\n",
       "    <tr style=\"text-align: right;\">\n",
       "      <th></th>\n",
       "      <th>Date</th>\n",
       "      <th>Country</th>\n",
       "      <th>theta</th>\n",
       "      <th>kappa</th>\n",
       "      <th>rho</th>\n",
       "      <th>sigma</th>\n",
       "      <th>alpha1 [-]</th>\n",
       "      <th>1/alpha2 [day]</th>\n",
       "      <th>1/beta [day]</th>\n",
       "      <th>1/gamma [day]</th>\n",
       "      <th>...</th>\n",
       "      <th>Cancel_events</th>\n",
       "      <th>Gatherings_restrictions</th>\n",
       "      <th>Transport_closing</th>\n",
       "      <th>Stay_home_restrictions</th>\n",
       "      <th>Internal_movement_restrictions</th>\n",
       "      <th>International_movement_restrictions</th>\n",
       "      <th>Information_campaigns</th>\n",
       "      <th>Testing_policy</th>\n",
       "      <th>Contact_tracing</th>\n",
       "      <th>Stringency_index</th>\n",
       "    </tr>\n",
       "  </thead>\n",
       "  <tbody>\n",
       "    <tr>\n",
       "      <th>0</th>\n",
       "      <td>2020-03-14</td>\n",
       "      <td>Portugal</td>\n",
       "      <td>0.0169902</td>\n",
       "      <td>0.000337679</td>\n",
       "      <td>0.0349739</td>\n",
       "      <td>0.000677149</td>\n",
       "      <td>0.017</td>\n",
       "      <td>740</td>\n",
       "      <td>7</td>\n",
       "      <td>369</td>\n",
       "      <td>...</td>\n",
       "      <td>0</td>\n",
       "      <td>0</td>\n",
       "      <td>0</td>\n",
       "      <td>0</td>\n",
       "      <td>0</td>\n",
       "      <td>3</td>\n",
       "      <td>2</td>\n",
       "      <td>1</td>\n",
       "      <td>2</td>\n",
       "      <td>32.41</td>\n",
       "    </tr>\n",
       "    <tr>\n",
       "      <th>1</th>\n",
       "      <td>2020-03-14</td>\n",
       "      <td>Portugal</td>\n",
       "      <td>0.0169902</td>\n",
       "      <td>0.000337679</td>\n",
       "      <td>0.0349739</td>\n",
       "      <td>0.000677149</td>\n",
       "      <td>0.017</td>\n",
       "      <td>740</td>\n",
       "      <td>7</td>\n",
       "      <td>369</td>\n",
       "      <td>...</td>\n",
       "      <td>0</td>\n",
       "      <td>0</td>\n",
       "      <td>0</td>\n",
       "      <td>0</td>\n",
       "      <td>0</td>\n",
       "      <td>3</td>\n",
       "      <td>2</td>\n",
       "      <td>1</td>\n",
       "      <td>2</td>\n",
       "      <td>32.41</td>\n",
       "    </tr>\n",
       "    <tr>\n",
       "      <th>2</th>\n",
       "      <td>2020-03-14</td>\n",
       "      <td>Portugal</td>\n",
       "      <td>0.0169902</td>\n",
       "      <td>0.000337679</td>\n",
       "      <td>0.0349739</td>\n",
       "      <td>0.000677149</td>\n",
       "      <td>0.017</td>\n",
       "      <td>740</td>\n",
       "      <td>7</td>\n",
       "      <td>369</td>\n",
       "      <td>...</td>\n",
       "      <td>0</td>\n",
       "      <td>0</td>\n",
       "      <td>0</td>\n",
       "      <td>0</td>\n",
       "      <td>0</td>\n",
       "      <td>3</td>\n",
       "      <td>2</td>\n",
       "      <td>1</td>\n",
       "      <td>2</td>\n",
       "      <td>32.41</td>\n",
       "    </tr>\n",
       "    <tr>\n",
       "      <th>3</th>\n",
       "      <td>2020-03-14</td>\n",
       "      <td>Portugal</td>\n",
       "      <td>0.0169902</td>\n",
       "      <td>0.000337679</td>\n",
       "      <td>0.0349739</td>\n",
       "      <td>0.000677149</td>\n",
       "      <td>0.017</td>\n",
       "      <td>740</td>\n",
       "      <td>7</td>\n",
       "      <td>369</td>\n",
       "      <td>...</td>\n",
       "      <td>0</td>\n",
       "      <td>0</td>\n",
       "      <td>0</td>\n",
       "      <td>0</td>\n",
       "      <td>0</td>\n",
       "      <td>3</td>\n",
       "      <td>2</td>\n",
       "      <td>1</td>\n",
       "      <td>2</td>\n",
       "      <td>32.41</td>\n",
       "    </tr>\n",
       "    <tr>\n",
       "      <th>4</th>\n",
       "      <td>2020-03-14</td>\n",
       "      <td>Portugal</td>\n",
       "      <td>0.0169902</td>\n",
       "      <td>0.000337679</td>\n",
       "      <td>0.0349739</td>\n",
       "      <td>0.000677149</td>\n",
       "      <td>0.017</td>\n",
       "      <td>740</td>\n",
       "      <td>7</td>\n",
       "      <td>369</td>\n",
       "      <td>...</td>\n",
       "      <td>0</td>\n",
       "      <td>0</td>\n",
       "      <td>0</td>\n",
       "      <td>0</td>\n",
       "      <td>0</td>\n",
       "      <td>3</td>\n",
       "      <td>2</td>\n",
       "      <td>1</td>\n",
       "      <td>2</td>\n",
       "      <td>32.41</td>\n",
       "    </tr>\n",
       "  </tbody>\n",
       "</table>\n",
       "<p>5 rows × 23 columns</p>\n",
       "</div>"
      ],
      "text/plain": [
       "        Date   Country      theta        kappa        rho        sigma  \\\n",
       "0 2020-03-14  Portugal  0.0169902  0.000337679  0.0349739  0.000677149   \n",
       "1 2020-03-14  Portugal  0.0169902  0.000337679  0.0349739  0.000677149   \n",
       "2 2020-03-14  Portugal  0.0169902  0.000337679  0.0349739  0.000677149   \n",
       "3 2020-03-14  Portugal  0.0169902  0.000337679  0.0349739  0.000677149   \n",
       "4 2020-03-14  Portugal  0.0169902  0.000337679  0.0349739  0.000677149   \n",
       "\n",
       "  alpha1 [-] 1/alpha2 [day] 1/beta [day] 1/gamma [day]  ... Cancel_events  \\\n",
       "0      0.017            740            7           369  ...             0   \n",
       "1      0.017            740            7           369  ...             0   \n",
       "2      0.017            740            7           369  ...             0   \n",
       "3      0.017            740            7           369  ...             0   \n",
       "4      0.017            740            7           369  ...             0   \n",
       "\n",
       "   Gatherings_restrictions  Transport_closing  Stay_home_restrictions  \\\n",
       "0                        0                  0                       0   \n",
       "1                        0                  0                       0   \n",
       "2                        0                  0                       0   \n",
       "3                        0                  0                       0   \n",
       "4                        0                  0                       0   \n",
       "\n",
       "   Internal_movement_restrictions  International_movement_restrictions  \\\n",
       "0                               0                                    3   \n",
       "1                               0                                    3   \n",
       "2                               0                                    3   \n",
       "3                               0                                    3   \n",
       "4                               0                                    3   \n",
       "\n",
       "   Information_campaigns  Testing_policy  Contact_tracing  Stringency_index  \n",
       "0                      2               1                2             32.41  \n",
       "1                      2               1                2             32.41  \n",
       "2                      2               1                2             32.41  \n",
       "3                      2               1                2             32.41  \n",
       "4                      2               1                2             32.41  \n",
       "\n",
       "[5 rows x 23 columns]"
      ]
     },
     "execution_count": 13,
     "metadata": {},
     "output_type": "execute_result"
    }
   ],
   "source": [
    "# All parameter/day parameter/Rt/OxCGRT\n",
    "analyser.track().head()"
   ]
  },
  {
   "cell_type": "markdown",
   "metadata": {},
   "source": [
    "### $Rt$: Reprodcution number $\\mathrm{[-]}$"
   ]
  },
  {
   "cell_type": "code",
   "execution_count": 14,
   "metadata": {
    "collapsed": false
   },
   "outputs": [
    {
     "data": {
      "image/png": "[encoded data removed]",
      "text/plain": [
       "<Figure size 648x432 with 1 Axes>"
      ]
     },
     "metadata": {},
     "output_type": "display_data"
    },
    {
     "data": {
      "text/html": [
       "<div>\n",
       "<style scoped>\n",
       "    .dataframe tbody tr th:only-of-type {\n",
       "        vertical-align: middle;\n",
       "    }\n",
       "\n",
       "    .dataframe tbody tr th {\n",
       "        vertical-align: top;\n",
       "    }\n",
       "\n",
       "    .dataframe thead th {\n",
       "        text-align: right;\n",
       "    }\n",
       "</style>\n",
       "<table border=\"1\" class=\"dataframe\">\n",
       "  <thead>\n",
       "    <tr style=\"text-align: right;\">\n",
       "      <th>Country</th>\n",
       "      <th>Bahrain</th>\n",
       "      <th>Brazil</th>\n",
       "      <th>Burkina Faso</th>\n",
       "      <th>France</th>\n",
       "      <th>Iran</th>\n",
       "      <th>Italy</th>\n",
       "      <th>Portugal</th>\n",
       "      <th>Russia</th>\n",
       "      <th>United Arab Emirates</th>\n",
       "      <th>United States</th>\n",
       "    </tr>\n",
       "    <tr>\n",
       "      <th>Date</th>\n",
       "      <th></th>\n",
       "      <th></th>\n",
       "      <th></th>\n",
       "      <th></th>\n",
       "      <th></th>\n",
       "      <th></th>\n",
       "      <th></th>\n",
       "      <th></th>\n",
       "      <th></th>\n",
       "      <th></th>\n",
       "    </tr>\n",
       "  </thead>\n",
       "  <tbody>\n",
       "    <tr>\n",
       "      <th>2020-09-23</th>\n",
       "      <td>1.67</td>\n",
       "      <td>0.9</td>\n",
       "      <td>3.61</td>\n",
       "      <td>29.4</td>\n",
       "      <td>1.06</td>\n",
       "      <td>1.87</td>\n",
       "      <td>2.09</td>\n",
       "      <td>0.88</td>\n",
       "      <td>1.36</td>\n",
       "      <td>2.13</td>\n",
       "    </tr>\n",
       "    <tr>\n",
       "      <th>2020-09-24</th>\n",
       "      <td>1.67</td>\n",
       "      <td>0.9</td>\n",
       "      <td>3.61</td>\n",
       "      <td>29.4</td>\n",
       "      <td>1.06</td>\n",
       "      <td>1.87</td>\n",
       "      <td>2.09</td>\n",
       "      <td>0.88</td>\n",
       "      <td>1.36</td>\n",
       "      <td>2.13</td>\n",
       "    </tr>\n",
       "    <tr>\n",
       "      <th>2020-09-25</th>\n",
       "      <td>1.67</td>\n",
       "      <td>0.9</td>\n",
       "      <td>3.61</td>\n",
       "      <td>29.4</td>\n",
       "      <td>1.06</td>\n",
       "      <td>1.87</td>\n",
       "      <td>2.09</td>\n",
       "      <td>0.88</td>\n",
       "      <td>1.36</td>\n",
       "      <td>2.13</td>\n",
       "    </tr>\n",
       "    <tr>\n",
       "      <th>2020-09-26</th>\n",
       "      <td>1.67</td>\n",
       "      <td>0.9</td>\n",
       "      <td>3.61</td>\n",
       "      <td>29.4</td>\n",
       "      <td>1.06</td>\n",
       "      <td>1.87</td>\n",
       "      <td>2.09</td>\n",
       "      <td>0.88</td>\n",
       "      <td>1.36</td>\n",
       "      <td>2.13</td>\n",
       "    </tr>\n",
       "    <tr>\n",
       "      <th>2020-09-27</th>\n",
       "      <td>1.67</td>\n",
       "      <td>0.9</td>\n",
       "      <td>3.61</td>\n",
       "      <td>29.4</td>\n",
       "      <td>1.06</td>\n",
       "      <td>1.87</td>\n",
       "      <td>2.09</td>\n",
       "      <td>0.88</td>\n",
       "      <td>1.36</td>\n",
       "      <td>2.13</td>\n",
       "    </tr>\n",
       "  </tbody>\n",
       "</table>\n",
       "</div>"
      ],
      "text/plain": [
       "Country     Bahrain  Brazil  Burkina Faso  France  Iran  Italy  Portugal  \\\n",
       "Date                                                                       \n",
       "2020-09-23     1.67     0.9          3.61    29.4  1.06   1.87      2.09   \n",
       "2020-09-24     1.67     0.9          3.61    29.4  1.06   1.87      2.09   \n",
       "2020-09-25     1.67     0.9          3.61    29.4  1.06   1.87      2.09   \n",
       "2020-09-26     1.67     0.9          3.61    29.4  1.06   1.87      2.09   \n",
       "2020-09-27     1.67     0.9          3.61    29.4  1.06   1.87      2.09   \n",
       "\n",
       "Country     Russia  United Arab Emirates  United States  \n",
       "Date                                                     \n",
       "2020-09-23    0.88                  1.36           2.13  \n",
       "2020-09-24    0.88                  1.36           2.13  \n",
       "2020-09-25    0.88                  1.36           2.13  \n",
       "2020-09-26    0.88                  1.36           2.13  \n",
       "2020-09-27    0.88                  1.36           2.13  "
      ]
     },
     "execution_count": 14,
     "metadata": {},
     "output_type": "execute_result"
    }
   ],
   "source": [
    "analyser.param_history(\"Rt\", roll_window=None).tail()"
   ]
  },
  {
   "cell_type": "markdown",
   "metadata": {},
   "source": [
    "### $\\rho$: Effective contact rate $\\mathrm{[-]}$"
   ]
  },
  {
   "cell_type": "code",
   "execution_count": 15,
   "metadata": {
    "collapsed": false
   },
   "outputs": [
    {
     "data": {
      "image/png": "[encoded data removed]",
      "text/plain": [
       "<Figure size 648x432 with 1 Axes>"
      ]
     },
     "metadata": {},
     "output_type": "display_data"
    },
    {
     "data": {
      "text/html": [
       "<div>\n",
       "<style scoped>\n",
       "    .dataframe tbody tr th:only-of-type {\n",
       "        vertical-align: middle;\n",
       "    }\n",
       "\n",
       "    .dataframe tbody tr th {\n",
       "        vertical-align: top;\n",
       "    }\n",
       "\n",
       "    .dataframe thead th {\n",
       "        text-align: right;\n",
       "    }\n",
       "</style>\n",
       "<table border=\"1\" class=\"dataframe\">\n",
       "  <thead>\n",
       "    <tr style=\"text-align: right;\">\n",
       "      <th>Country</th>\n",
       "      <th>Bahrain</th>\n",
       "      <th>Brazil</th>\n",
       "      <th>Burkina Faso</th>\n",
       "      <th>France</th>\n",
       "      <th>Iran</th>\n",
       "      <th>Italy</th>\n",
       "      <th>Portugal</th>\n",
       "      <th>Russia</th>\n",
       "      <th>United Arab Emirates</th>\n",
       "      <th>United States</th>\n",
       "    </tr>\n",
       "    <tr>\n",
       "      <th>Date</th>\n",
       "      <th></th>\n",
       "      <th></th>\n",
       "      <th></th>\n",
       "      <th></th>\n",
       "      <th></th>\n",
       "      <th></th>\n",
       "      <th></th>\n",
       "      <th></th>\n",
       "      <th></th>\n",
       "      <th></th>\n",
       "    </tr>\n",
       "  </thead>\n",
       "  <tbody>\n",
       "    <tr>\n",
       "      <th>2020-09-23</th>\n",
       "      <td>0.030466</td>\n",
       "      <td>0.016262</td>\n",
       "      <td>0.005187</td>\n",
       "      <td>0.009282</td>\n",
       "      <td>0.016246</td>\n",
       "      <td>0.009085</td>\n",
       "      <td>0.001343</td>\n",
       "      <td>0.001346</td>\n",
       "      <td>0.021294</td>\n",
       "      <td>0.00269</td>\n",
       "    </tr>\n",
       "    <tr>\n",
       "      <th>2020-09-24</th>\n",
       "      <td>0.030466</td>\n",
       "      <td>0.016262</td>\n",
       "      <td>0.005187</td>\n",
       "      <td>0.009282</td>\n",
       "      <td>0.016246</td>\n",
       "      <td>0.009085</td>\n",
       "      <td>0.001343</td>\n",
       "      <td>0.001346</td>\n",
       "      <td>0.021294</td>\n",
       "      <td>0.00269</td>\n",
       "    </tr>\n",
       "    <tr>\n",
       "      <th>2020-09-25</th>\n",
       "      <td>0.030466</td>\n",
       "      <td>0.016262</td>\n",
       "      <td>0.005187</td>\n",
       "      <td>0.009282</td>\n",
       "      <td>0.016246</td>\n",
       "      <td>0.009085</td>\n",
       "      <td>0.001343</td>\n",
       "      <td>0.001346</td>\n",
       "      <td>0.021294</td>\n",
       "      <td>0.00269</td>\n",
       "    </tr>\n",
       "    <tr>\n",
       "      <th>2020-09-26</th>\n",
       "      <td>0.030466</td>\n",
       "      <td>0.016262</td>\n",
       "      <td>0.005187</td>\n",
       "      <td>0.009282</td>\n",
       "      <td>0.016246</td>\n",
       "      <td>0.009085</td>\n",
       "      <td>0.001343</td>\n",
       "      <td>0.001346</td>\n",
       "      <td>0.021294</td>\n",
       "      <td>0.00269</td>\n",
       "    </tr>\n",
       "    <tr>\n",
       "      <th>2020-09-27</th>\n",
       "      <td>0.030466</td>\n",
       "      <td>0.016262</td>\n",
       "      <td>0.005187</td>\n",
       "      <td>0.009282</td>\n",
       "      <td>0.016246</td>\n",
       "      <td>0.009085</td>\n",
       "      <td>0.001343</td>\n",
       "      <td>0.001346</td>\n",
       "      <td>0.021294</td>\n",
       "      <td>0.00269</td>\n",
       "    </tr>\n",
       "  </tbody>\n",
       "</table>\n",
       "</div>"
      ],
      "text/plain": [
       "Country      Bahrain    Brazil  Burkina Faso    France      Iran     Italy  \\\n",
       "Date                                                                         \n",
       "2020-09-23  0.030466  0.016262      0.005187  0.009282  0.016246  0.009085   \n",
       "2020-09-24  0.030466  0.016262      0.005187  0.009282  0.016246  0.009085   \n",
       "2020-09-25  0.030466  0.016262      0.005187  0.009282  0.016246  0.009085   \n",
       "2020-09-26  0.030466  0.016262      0.005187  0.009282  0.016246  0.009085   \n",
       "2020-09-27  0.030466  0.016262      0.005187  0.009282  0.016246  0.009085   \n",
       "\n",
       "Country     Portugal    Russia  United Arab Emirates  United States  \n",
       "Date                                                                 \n",
       "2020-09-23  0.001343  0.001346              0.021294        0.00269  \n",
       "2020-09-24  0.001343  0.001346              0.021294        0.00269  \n",
       "2020-09-25  0.001343  0.001346              0.021294        0.00269  \n",
       "2020-09-26  0.001343  0.001346              0.021294        0.00269  \n",
       "2020-09-27  0.001343  0.001346              0.021294        0.00269  "
      ]
     },
     "execution_count": 15,
     "metadata": {},
     "output_type": "execute_result"
    }
   ],
   "source": [
    "analyser.param_history(\"rho\", roll_window=None).tail()"
   ]
  },
  {
   "cell_type": "markdown",
   "metadata": {},
   "source": [
    "### $\\sigma$: Recovery rate $\\mathrm{[-]}$"
   ]
  },
  {
   "cell_type": "code",
   "execution_count": 16,
   "metadata": {
    "collapsed": false
   },
   "outputs": [
    {
     "data": {
      "image/png": "[encoded data removed]",
      "text/plain": [
       "<Figure size 648x432 with 1 Axes>"
      ]
     },
     "metadata": {},
     "output_type": "display_data"
    },
    {
     "data": {
      "text/html": [
       "<div>\n",
       "<style scoped>\n",
       "    .dataframe tbody tr th:only-of-type {\n",
       "        vertical-align: middle;\n",
       "    }\n",
       "\n",
       "    .dataframe tbody tr th {\n",
       "        vertical-align: top;\n",
       "    }\n",
       "\n",
       "    .dataframe thead th {\n",
       "        text-align: right;\n",
       "    }\n",
       "</style>\n",
       "<table border=\"1\" class=\"dataframe\">\n",
       "  <thead>\n",
       "    <tr style=\"text-align: right;\">\n",
       "      <th>Country</th>\n",
       "      <th>Bahrain</th>\n",
       "      <th>Brazil</th>\n",
       "      <th>Burkina Faso</th>\n",
       "      <th>France</th>\n",
       "      <th>Iran</th>\n",
       "      <th>Italy</th>\n",
       "      <th>Portugal</th>\n",
       "      <th>Russia</th>\n",
       "      <th>United Arab Emirates</th>\n",
       "      <th>United States</th>\n",
       "    </tr>\n",
       "    <tr>\n",
       "      <th>Date</th>\n",
       "      <th></th>\n",
       "      <th></th>\n",
       "      <th></th>\n",
       "      <th></th>\n",
       "      <th></th>\n",
       "      <th></th>\n",
       "      <th></th>\n",
       "      <th></th>\n",
       "      <th></th>\n",
       "      <th></th>\n",
       "    </tr>\n",
       "  </thead>\n",
       "  <tbody>\n",
       "    <tr>\n",
       "      <th>2020-09-23</th>\n",
       "      <td>0.018195</td>\n",
       "      <td>0.017609</td>\n",
       "      <td>0.001416</td>\n",
       "      <td>0.000314</td>\n",
       "      <td>0.01444</td>\n",
       "      <td>0.004785</td>\n",
       "      <td>0.000623</td>\n",
       "      <td>0.0015</td>\n",
       "      <td>0.015657</td>\n",
       "      <td>0.001237</td>\n",
       "    </tr>\n",
       "    <tr>\n",
       "      <th>2020-09-24</th>\n",
       "      <td>0.018195</td>\n",
       "      <td>0.017609</td>\n",
       "      <td>0.001416</td>\n",
       "      <td>0.000314</td>\n",
       "      <td>0.01444</td>\n",
       "      <td>0.004785</td>\n",
       "      <td>0.000623</td>\n",
       "      <td>0.0015</td>\n",
       "      <td>0.015657</td>\n",
       "      <td>0.001237</td>\n",
       "    </tr>\n",
       "    <tr>\n",
       "      <th>2020-09-25</th>\n",
       "      <td>0.018195</td>\n",
       "      <td>0.017609</td>\n",
       "      <td>0.001416</td>\n",
       "      <td>0.000314</td>\n",
       "      <td>0.01444</td>\n",
       "      <td>0.004785</td>\n",
       "      <td>0.000623</td>\n",
       "      <td>0.0015</td>\n",
       "      <td>0.015657</td>\n",
       "      <td>0.001237</td>\n",
       "    </tr>\n",
       "    <tr>\n",
       "      <th>2020-09-26</th>\n",
       "      <td>0.018195</td>\n",
       "      <td>0.017609</td>\n",
       "      <td>0.001416</td>\n",
       "      <td>0.000314</td>\n",
       "      <td>0.01444</td>\n",
       "      <td>0.004785</td>\n",
       "      <td>0.000623</td>\n",
       "      <td>0.0015</td>\n",
       "      <td>0.015657</td>\n",
       "      <td>0.001237</td>\n",
       "    </tr>\n",
       "    <tr>\n",
       "      <th>2020-09-27</th>\n",
       "      <td>0.018195</td>\n",
       "      <td>0.017609</td>\n",
       "      <td>0.001416</td>\n",
       "      <td>0.000314</td>\n",
       "      <td>0.01444</td>\n",
       "      <td>0.004785</td>\n",
       "      <td>0.000623</td>\n",
       "      <td>0.0015</td>\n",
       "      <td>0.015657</td>\n",
       "      <td>0.001237</td>\n",
       "    </tr>\n",
       "  </tbody>\n",
       "</table>\n",
       "</div>"
      ],
      "text/plain": [
       "Country      Bahrain    Brazil  Burkina Faso    France     Iran     Italy  \\\n",
       "Date                                                                        \n",
       "2020-09-23  0.018195  0.017609      0.001416  0.000314  0.01444  0.004785   \n",
       "2020-09-24  0.018195  0.017609      0.001416  0.000314  0.01444  0.004785   \n",
       "2020-09-25  0.018195  0.017609      0.001416  0.000314  0.01444  0.004785   \n",
       "2020-09-26  0.018195  0.017609      0.001416  0.000314  0.01444  0.004785   \n",
       "2020-09-27  0.018195  0.017609      0.001416  0.000314  0.01444  0.004785   \n",
       "\n",
       "Country     Portugal  Russia  United Arab Emirates  United States  \n",
       "Date                                                               \n",
       "2020-09-23  0.000623  0.0015              0.015657       0.001237  \n",
       "2020-09-24  0.000623  0.0015              0.015657       0.001237  \n",
       "2020-09-25  0.000623  0.0015              0.015657       0.001237  \n",
       "2020-09-26  0.000623  0.0015              0.015657       0.001237  \n",
       "2020-09-27  0.000623  0.0015              0.015657       0.001237  "
      ]
     },
     "execution_count": 16,
     "metadata": {},
     "output_type": "execute_result"
    }
   ],
   "source": [
    "analyser.param_history(\"sigma\", roll_window=None).tail()"
   ]
  },
  {
   "cell_type": "markdown",
   "metadata": {},
   "source": [
    "### $\\kappa$: Mortality rate of infected cases $\\mathrm{[-]}$"
   ]
  },
  {
   "cell_type": "code",
   "execution_count": 17,
   "metadata": {
    "collapsed": false
   },
   "outputs": [
    {
     "data": {
      "image/png": "[encoded data removed]",
      "text/plain": [
       "<Figure size 648x432 with 1 Axes>"
      ]
     },
     "metadata": {},
     "output_type": "display_data"
    },
    {
     "data": {
      "text/html": [
       "<div>\n",
       "<style scoped>\n",
       "    .dataframe tbody tr th:only-of-type {\n",
       "        vertical-align: middle;\n",
       "    }\n",
       "\n",
       "    .dataframe tbody tr th {\n",
       "        vertical-align: top;\n",
       "    }\n",
       "\n",
       "    .dataframe thead th {\n",
       "        text-align: right;\n",
       "    }\n",
       "</style>\n",
       "<table border=\"1\" class=\"dataframe\">\n",
       "  <thead>\n",
       "    <tr style=\"text-align: right;\">\n",
       "      <th>Country</th>\n",
       "      <th>Bahrain</th>\n",
       "      <th>Brazil</th>\n",
       "      <th>Burkina Faso</th>\n",
       "      <th>France</th>\n",
       "      <th>Iran</th>\n",
       "      <th>Italy</th>\n",
       "      <th>Portugal</th>\n",
       "      <th>Russia</th>\n",
       "      <th>United Arab Emirates</th>\n",
       "      <th>United States</th>\n",
       "    </tr>\n",
       "    <tr>\n",
       "      <th>Date</th>\n",
       "      <th></th>\n",
       "      <th></th>\n",
       "      <th></th>\n",
       "      <th></th>\n",
       "      <th></th>\n",
       "      <th></th>\n",
       "      <th></th>\n",
       "      <th></th>\n",
       "      <th></th>\n",
       "      <th></th>\n",
       "    </tr>\n",
       "  </thead>\n",
       "  <tbody>\n",
       "    <tr>\n",
       "      <th>2020-09-23</th>\n",
       "      <td>0.000068</td>\n",
       "      <td>0.000057</td>\n",
       "      <td>0.000021</td>\n",
       "      <td>0.000002</td>\n",
       "      <td>0.000636</td>\n",
       "      <td>0.000079</td>\n",
       "      <td>0.000011</td>\n",
       "      <td>0.000025</td>\n",
       "      <td>0.000002</td>\n",
       "      <td>0.000025</td>\n",
       "    </tr>\n",
       "    <tr>\n",
       "      <th>2020-09-24</th>\n",
       "      <td>0.000068</td>\n",
       "      <td>0.000057</td>\n",
       "      <td>0.000021</td>\n",
       "      <td>0.000002</td>\n",
       "      <td>0.000636</td>\n",
       "      <td>0.000079</td>\n",
       "      <td>0.000011</td>\n",
       "      <td>0.000025</td>\n",
       "      <td>0.000002</td>\n",
       "      <td>0.000025</td>\n",
       "    </tr>\n",
       "    <tr>\n",
       "      <th>2020-09-25</th>\n",
       "      <td>0.000068</td>\n",
       "      <td>0.000057</td>\n",
       "      <td>0.000021</td>\n",
       "      <td>0.000002</td>\n",
       "      <td>0.000636</td>\n",
       "      <td>0.000079</td>\n",
       "      <td>0.000011</td>\n",
       "      <td>0.000025</td>\n",
       "      <td>0.000002</td>\n",
       "      <td>0.000025</td>\n",
       "    </tr>\n",
       "    <tr>\n",
       "      <th>2020-09-26</th>\n",
       "      <td>0.000068</td>\n",
       "      <td>0.000057</td>\n",
       "      <td>0.000021</td>\n",
       "      <td>0.000002</td>\n",
       "      <td>0.000636</td>\n",
       "      <td>0.000079</td>\n",
       "      <td>0.000011</td>\n",
       "      <td>0.000025</td>\n",
       "      <td>0.000002</td>\n",
       "      <td>0.000025</td>\n",
       "    </tr>\n",
       "    <tr>\n",
       "      <th>2020-09-27</th>\n",
       "      <td>0.000068</td>\n",
       "      <td>0.000057</td>\n",
       "      <td>0.000021</td>\n",
       "      <td>0.000002</td>\n",
       "      <td>0.000636</td>\n",
       "      <td>0.000079</td>\n",
       "      <td>0.000011</td>\n",
       "      <td>0.000025</td>\n",
       "      <td>0.000002</td>\n",
       "      <td>0.000025</td>\n",
       "    </tr>\n",
       "  </tbody>\n",
       "</table>\n",
       "</div>"
      ],
      "text/plain": [
       "Country      Bahrain    Brazil  Burkina Faso    France      Iran     Italy  \\\n",
       "Date                                                                         \n",
       "2020-09-23  0.000068  0.000057      0.000021  0.000002  0.000636  0.000079   \n",
       "2020-09-24  0.000068  0.000057      0.000021  0.000002  0.000636  0.000079   \n",
       "2020-09-25  0.000068  0.000057      0.000021  0.000002  0.000636  0.000079   \n",
       "2020-09-26  0.000068  0.000057      0.000021  0.000002  0.000636  0.000079   \n",
       "2020-09-27  0.000068  0.000057      0.000021  0.000002  0.000636  0.000079   \n",
       "\n",
       "Country     Portugal    Russia  United Arab Emirates  United States  \n",
       "Date                                                                 \n",
       "2020-09-23  0.000011  0.000025              0.000002       0.000025  \n",
       "2020-09-24  0.000011  0.000025              0.000002       0.000025  \n",
       "2020-09-25  0.000011  0.000025              0.000002       0.000025  \n",
       "2020-09-26  0.000011  0.000025              0.000002       0.000025  \n",
       "2020-09-27  0.000011  0.000025              0.000002       0.000025  "
      ]
     },
     "execution_count": 17,
     "metadata": {},
     "output_type": "execute_result"
    }
   ],
   "source": [
    "analyser.param_history(\"kappa\", roll_window=None).tail()"
   ]
  },
  {
   "cell_type": "markdown",
   "metadata": {},
   "source": [
    "### $\\theta$: Mortality rate of S$^\\ast$ cases $\\mathrm{[-]}$"
   ]
  },
  {
   "cell_type": "code",
   "execution_count": 18,
   "metadata": {
    "collapsed": false
   },
   "outputs": [
    {
     "data": {
      "image/png": "[encoded data removed]",
      "text/plain": [
       "<Figure size 648x432 with 1 Axes>"
      ]
     },
     "metadata": {},
     "output_type": "display_data"
    },
    {
     "data": {
      "text/html": [
       "<div>\n",
       "<style scoped>\n",
       "    .dataframe tbody tr th:only-of-type {\n",
       "        vertical-align: middle;\n",
       "    }\n",
       "\n",
       "    .dataframe tbody tr th {\n",
       "        vertical-align: top;\n",
       "    }\n",
       "\n",
       "    .dataframe thead th {\n",
       "        text-align: right;\n",
       "    }\n",
       "</style>\n",
       "<table border=\"1\" class=\"dataframe\">\n",
       "  <thead>\n",
       "    <tr style=\"text-align: right;\">\n",
       "      <th>Country</th>\n",
       "      <th>Bahrain</th>\n",
       "      <th>Brazil</th>\n",
       "      <th>Burkina Faso</th>\n",
       "      <th>France</th>\n",
       "      <th>Iran</th>\n",
       "      <th>Italy</th>\n",
       "      <th>Portugal</th>\n",
       "      <th>Russia</th>\n",
       "      <th>United Arab Emirates</th>\n",
       "      <th>United States</th>\n",
       "    </tr>\n",
       "    <tr>\n",
       "      <th>Date</th>\n",
       "      <th></th>\n",
       "      <th></th>\n",
       "      <th></th>\n",
       "      <th></th>\n",
       "      <th></th>\n",
       "      <th></th>\n",
       "      <th></th>\n",
       "      <th></th>\n",
       "      <th></th>\n",
       "      <th></th>\n",
       "    </tr>\n",
       "  </thead>\n",
       "  <tbody>\n",
       "    <tr>\n",
       "      <th>2020-09-23</th>\n",
       "      <td>0.000806</td>\n",
       "      <td>0.019495</td>\n",
       "      <td>0.000688</td>\n",
       "      <td>0.000128</td>\n",
       "      <td>0.019502</td>\n",
       "      <td>0.001204</td>\n",
       "      <td>0.014872</td>\n",
       "      <td>0.001367</td>\n",
       "      <td>0.001706</td>\n",
       "      <td>0.001492</td>\n",
       "    </tr>\n",
       "    <tr>\n",
       "      <th>2020-09-24</th>\n",
       "      <td>0.000806</td>\n",
       "      <td>0.019495</td>\n",
       "      <td>0.000688</td>\n",
       "      <td>0.000128</td>\n",
       "      <td>0.019502</td>\n",
       "      <td>0.001204</td>\n",
       "      <td>0.014872</td>\n",
       "      <td>0.001367</td>\n",
       "      <td>0.001706</td>\n",
       "      <td>0.001492</td>\n",
       "    </tr>\n",
       "    <tr>\n",
       "      <th>2020-09-25</th>\n",
       "      <td>0.000806</td>\n",
       "      <td>0.019495</td>\n",
       "      <td>0.000688</td>\n",
       "      <td>0.000128</td>\n",
       "      <td>0.019502</td>\n",
       "      <td>0.001204</td>\n",
       "      <td>0.014872</td>\n",
       "      <td>0.001367</td>\n",
       "      <td>0.001706</td>\n",
       "      <td>0.001492</td>\n",
       "    </tr>\n",
       "    <tr>\n",
       "      <th>2020-09-26</th>\n",
       "      <td>0.000806</td>\n",
       "      <td>0.019495</td>\n",
       "      <td>0.000688</td>\n",
       "      <td>0.000128</td>\n",
       "      <td>0.019502</td>\n",
       "      <td>0.001204</td>\n",
       "      <td>0.014872</td>\n",
       "      <td>0.001367</td>\n",
       "      <td>0.001706</td>\n",
       "      <td>0.001492</td>\n",
       "    </tr>\n",
       "    <tr>\n",
       "      <th>2020-09-27</th>\n",
       "      <td>0.000806</td>\n",
       "      <td>0.019495</td>\n",
       "      <td>0.000688</td>\n",
       "      <td>0.000128</td>\n",
       "      <td>0.019502</td>\n",
       "      <td>0.001204</td>\n",
       "      <td>0.014872</td>\n",
       "      <td>0.001367</td>\n",
       "      <td>0.001706</td>\n",
       "      <td>0.001492</td>\n",
       "    </tr>\n",
       "  </tbody>\n",
       "</table>\n",
       "</div>"
      ],
      "text/plain": [
       "Country      Bahrain    Brazil  Burkina Faso    France      Iran     Italy  \\\n",
       "Date                                                                         \n",
       "2020-09-23  0.000806  0.019495      0.000688  0.000128  0.019502  0.001204   \n",
       "2020-09-24  0.000806  0.019495      0.000688  0.000128  0.019502  0.001204   \n",
       "2020-09-25  0.000806  0.019495      0.000688  0.000128  0.019502  0.001204   \n",
       "2020-09-26  0.000806  0.019495      0.000688  0.000128  0.019502  0.001204   \n",
       "2020-09-27  0.000806  0.019495      0.000688  0.000128  0.019502  0.001204   \n",
       "\n",
       "Country     Portugal    Russia  United Arab Emirates  United States  \n",
       "Date                                                                 \n",
       "2020-09-23  0.014872  0.001367              0.001706       0.001492  \n",
       "2020-09-24  0.014872  0.001367              0.001706       0.001492  \n",
       "2020-09-25  0.014872  0.001367              0.001706       0.001492  \n",
       "2020-09-26  0.014872  0.001367              0.001706       0.001492  \n",
       "2020-09-27  0.014872  0.001367              0.001706       0.001492  "
      ]
     },
     "execution_count": 18,
     "metadata": {},
     "output_type": "execute_result"
    }
   ],
   "source": [
    "analyser.param_history(\"theta\", roll_window=None).tail()"
   ]
  },
  {
   "cell_type": "markdown",
   "metadata": {},
   "source": [
    "## (Experimental): Relationship of OxCGRT index and parameter values\n",
    "Government responses will impact on parameter values of ODE models about 14 days later. Here, we will investigate on the relationship of [stringency index (from OxCGRT)](https://github.com/OxCGRT/covid-policy-tracker/blob/master/documentation/index_methodology.md) and reproduction number/model parameters.\n"
   ]
  },
  {
   "cell_type": "code",
   "execution_count": 19,
   "metadata": {
    "collapsed": false
   },
   "outputs": [],
   "source": [
    "%matplotlib inline\n",
    "from matplotlib import pyplot as plt\n",
    "import seaborn as sns\n",
    "import pandas as pd"
   ]
  },
  {
   "cell_type": "code",
   "execution_count": 20,
   "metadata": {
    "collapsed": false
   },
   "outputs": [
    {
     "name": "stdout",
     "output_type": "stream",
     "text": [
      "<class 'pandas.core.frame.DataFrame'>\n",
      "Int64Index: 45898 entries, 0 to 46023\n",
      "Data columns (total 19 columns):\n",
      " #   Column                               Non-Null Count  Dtype         \n",
      "---  ------                               --------------  -----         \n",
      " 0   Date                                 45898 non-null  datetime64[ns]\n",
      " 1   Country                              45898 non-null  object        \n",
      " 2   Rt                                   45898 non-null  float64       \n",
      " 3   theta                                45898 non-null  float64       \n",
      " 4   kappa                                45898 non-null  float64       \n",
      " 5   rho                                  45898 non-null  float64       \n",
      " 6   sigma                                45898 non-null  float64       \n",
      " 7   School_closing                       45898 non-null  int64         \n",
      " 8   Workplace_closing                    45898 non-null  int64         \n",
      " 9   Cancel_events                        45898 non-null  int64         \n",
      " 10  Gatherings_restrictions              45898 non-null  int64         \n",
      " 11  Transport_closing                    45898 non-null  int64         \n",
      " 12  Stay_home_restrictions               45898 non-null  int64         \n",
      " 13  Internal_movement_restrictions       45898 non-null  int64         \n",
      " 14  International_movement_restrictions  45898 non-null  int64         \n",
      " 15  Information_campaigns                45898 non-null  int64         \n",
      " 16  Testing_policy                       45898 non-null  int64         \n",
      " 17  Contact_tracing                      45898 non-null  int64         \n",
      " 18  Stringency_index                     45898 non-null  float64       \n",
      "dtypes: datetime64[ns](1), float64(6), int64(11), object(1)\n",
      "memory usage: 7.0+ MB\n"
     ]
    }
   ],
   "source": [
    "df = analyser.track()\n",
    "param_cols = [\"Rt\", *cs.SIRF.PARAMETERS]\n",
    "oxcgrt_cols = oxcgrt_data.OXCGRT_VARS[:]\n",
    "cols = param_cols + oxcgrt_cols\n",
    "delay = 14\n",
    "\n",
    "for col in param_cols:\n",
    "    df[col] = pd.to_numeric(df[col], errors=\"coerce\")\n",
    "    df[col] = df.groupby(\"Country\")[col].shift(0 - delay)\n",
    "\n",
    "df = df.dropna(how=\"any\")\n",
    "df = df.loc[:, [\"Date\", \"Country\", *cols]]\n",
    "track_df = df.copy()\n",
    "track_df.info()"
   ]
  },
  {
   "cell_type": "code",
   "execution_count": 21,
   "metadata": {
    "collapsed": false
   },
   "outputs": [
    {
     "data": {
      "text/html": [
       "<style  type=\"text/css\" >\n",
       "#T_377e6f8c_00c5_11eb_8681_525400f89d54row0_col0,#T_377e6f8c_00c5_11eb_8681_525400f89d54row1_col1,#T_377e6f8c_00c5_11eb_8681_525400f89d54row2_col2,#T_377e6f8c_00c5_11eb_8681_525400f89d54row3_col3,#T_377e6f8c_00c5_11eb_8681_525400f89d54row4_col4,#T_377e6f8c_00c5_11eb_8681_525400f89d54row5_col5,#T_377e6f8c_00c5_11eb_8681_525400f89d54row6_col6,#T_377e6f8c_00c5_11eb_8681_525400f89d54row7_col7,#T_377e6f8c_00c5_11eb_8681_525400f89d54row8_col8,#T_377e6f8c_00c5_11eb_8681_525400f89d54row9_col9,#T_377e6f8c_00c5_11eb_8681_525400f89d54row10_col10,#T_377e6f8c_00c5_11eb_8681_525400f89d54row11_col11,#T_377e6f8c_00c5_11eb_8681_525400f89d54row12_col12,#T_377e6f8c_00c5_11eb_8681_525400f89d54row13_col13,#T_377e6f8c_00c5_11eb_8681_525400f89d54row14_col14,#T_377e6f8c_00c5_11eb_8681_525400f89d54row15_col15,#T_377e6f8c_00c5_11eb_8681_525400f89d54row16_col16{\n",
       "            background-color:  #023858;\n",
       "            color:  #f1f1f1;\n",
       "        }#T_377e6f8c_00c5_11eb_8681_525400f89d54row0_col1,#T_377e6f8c_00c5_11eb_8681_525400f89d54row1_col0{\n",
       "            background-color:  #ebe6f2;\n",
       "            color:  #000000;\n",
       "        }#T_377e6f8c_00c5_11eb_8681_525400f89d54row0_col2,#T_377e6f8c_00c5_11eb_8681_525400f89d54row2_col0{\n",
       "            background-color:  #e7e3f0;\n",
       "            color:  #000000;\n",
       "        }#T_377e6f8c_00c5_11eb_8681_525400f89d54row0_col3,#T_377e6f8c_00c5_11eb_8681_525400f89d54row3_col0{\n",
       "            background-color:  #a2bcda;\n",
       "            color:  #000000;\n",
       "        }#T_377e6f8c_00c5_11eb_8681_525400f89d54row0_col4,#T_377e6f8c_00c5_11eb_8681_525400f89d54row4_col0{\n",
       "            background-color:  #e4e1ef;\n",
       "            color:  #000000;\n",
       "        }#T_377e6f8c_00c5_11eb_8681_525400f89d54row0_col5,#T_377e6f8c_00c5_11eb_8681_525400f89d54row1_col4,#T_377e6f8c_00c5_11eb_8681_525400f89d54row4_col1,#T_377e6f8c_00c5_11eb_8681_525400f89d54row5_col0{\n",
       "            background-color:  #c5cce3;\n",
       "            color:  #000000;\n",
       "        }#T_377e6f8c_00c5_11eb_8681_525400f89d54row0_col6,#T_377e6f8c_00c5_11eb_8681_525400f89d54row6_col0{\n",
       "            background-color:  #afc1dd;\n",
       "            color:  #000000;\n",
       "        }#T_377e6f8c_00c5_11eb_8681_525400f89d54row0_col7,#T_377e6f8c_00c5_11eb_8681_525400f89d54row7_col0{\n",
       "            background-color:  #c2cbe2;\n",
       "            color:  #000000;\n",
       "        }#T_377e6f8c_00c5_11eb_8681_525400f89d54row0_col8,#T_377e6f8c_00c5_11eb_8681_525400f89d54row4_col9,#T_377e6f8c_00c5_11eb_8681_525400f89d54row8_col0,#T_377e6f8c_00c5_11eb_8681_525400f89d54row9_col4{\n",
       "            background-color:  #c4cbe3;\n",
       "            color:  #000000;\n",
       "        }#T_377e6f8c_00c5_11eb_8681_525400f89d54row0_col9,#T_377e6f8c_00c5_11eb_8681_525400f89d54row3_col5,#T_377e6f8c_00c5_11eb_8681_525400f89d54row5_col3,#T_377e6f8c_00c5_11eb_8681_525400f89d54row9_col0{\n",
       "            background-color:  #d9d8ea;\n",
       "            color:  #000000;\n",
       "        }#T_377e6f8c_00c5_11eb_8681_525400f89d54row0_col10,#T_377e6f8c_00c5_11eb_8681_525400f89d54row10_col0{\n",
       "            background-color:  #e6e2ef;\n",
       "            color:  #000000;\n",
       "        }#T_377e6f8c_00c5_11eb_8681_525400f89d54row0_col11,#T_377e6f8c_00c5_11eb_8681_525400f89d54row2_col6,#T_377e6f8c_00c5_11eb_8681_525400f89d54row6_col2,#T_377e6f8c_00c5_11eb_8681_525400f89d54row11_col0{\n",
       "            background-color:  #dad9ea;\n",
       "            color:  #000000;\n",
       "        }#T_377e6f8c_00c5_11eb_8681_525400f89d54row0_col12,#T_377e6f8c_00c5_11eb_8681_525400f89d54row12_col0{\n",
       "            background-color:  #dddbec;\n",
       "            color:  #000000;\n",
       "        }#T_377e6f8c_00c5_11eb_8681_525400f89d54row0_col13,#T_377e6f8c_00c5_11eb_8681_525400f89d54row13_col0{\n",
       "            background-color:  #bdc8e1;\n",
       "            color:  #000000;\n",
       "        }#T_377e6f8c_00c5_11eb_8681_525400f89d54row0_col14,#T_377e6f8c_00c5_11eb_8681_525400f89d54row14_col0{\n",
       "            background-color:  #cacee5;\n",
       "            color:  #000000;\n",
       "        }#T_377e6f8c_00c5_11eb_8681_525400f89d54row0_col15,#T_377e6f8c_00c5_11eb_8681_525400f89d54row3_col16,#T_377e6f8c_00c5_11eb_8681_525400f89d54row15_col0,#T_377e6f8c_00c5_11eb_8681_525400f89d54row16_col3{\n",
       "            background-color:  #dcdaeb;\n",
       "            color:  #000000;\n",
       "        }#T_377e6f8c_00c5_11eb_8681_525400f89d54row0_col16,#T_377e6f8c_00c5_11eb_8681_525400f89d54row16_col0{\n",
       "            background-color:  #d0d1e6;\n",
       "            color:  #000000;\n",
       "        }#T_377e6f8c_00c5_11eb_8681_525400f89d54row1_col2,#T_377e6f8c_00c5_11eb_8681_525400f89d54row2_col1{\n",
       "            background-color:  #023d60;\n",
       "            color:  #f1f1f1;\n",
       "        }#T_377e6f8c_00c5_11eb_8681_525400f89d54row1_col3,#T_377e6f8c_00c5_11eb_8681_525400f89d54row3_col1{\n",
       "            background-color:  #04629a;\n",
       "            color:  #f1f1f1;\n",
       "        }#T_377e6f8c_00c5_11eb_8681_525400f89d54row1_col5,#T_377e6f8c_00c5_11eb_8681_525400f89d54row5_col1{\n",
       "            background-color:  #e1dfed;\n",
       "            color:  #000000;\n",
       "        }#T_377e6f8c_00c5_11eb_8681_525400f89d54row1_col6,#T_377e6f8c_00c5_11eb_8681_525400f89d54row3_col15,#T_377e6f8c_00c5_11eb_8681_525400f89d54row6_col1,#T_377e6f8c_00c5_11eb_8681_525400f89d54row15_col3{\n",
       "            background-color:  #d5d5e8;\n",
       "            color:  #000000;\n",
       "        }#T_377e6f8c_00c5_11eb_8681_525400f89d54row1_col7,#T_377e6f8c_00c5_11eb_8681_525400f89d54row1_col8,#T_377e6f8c_00c5_11eb_8681_525400f89d54row7_col1,#T_377e6f8c_00c5_11eb_8681_525400f89d54row8_col1{\n",
       "            background-color:  #efe9f3;\n",
       "            color:  #000000;\n",
       "        }#T_377e6f8c_00c5_11eb_8681_525400f89d54row1_col9,#T_377e6f8c_00c5_11eb_8681_525400f89d54row2_col9,#T_377e6f8c_00c5_11eb_8681_525400f89d54row9_col1,#T_377e6f8c_00c5_11eb_8681_525400f89d54row9_col2{\n",
       "            background-color:  #ece7f2;\n",
       "            color:  #000000;\n",
       "        }#T_377e6f8c_00c5_11eb_8681_525400f89d54row1_col10,#T_377e6f8c_00c5_11eb_8681_525400f89d54row10_col1{\n",
       "            background-color:  #93b5d6;\n",
       "            color:  #000000;\n",
       "        }#T_377e6f8c_00c5_11eb_8681_525400f89d54row1_col11,#T_377e6f8c_00c5_11eb_8681_525400f89d54row11_col1{\n",
       "            background-color:  #c6cce3;\n",
       "            color:  #000000;\n",
       "        }#T_377e6f8c_00c5_11eb_8681_525400f89d54row1_col12,#T_377e6f8c_00c5_11eb_8681_525400f89d54row12_col1{\n",
       "            background-color:  #89b1d4;\n",
       "            color:  #000000;\n",
       "        }#T_377e6f8c_00c5_11eb_8681_525400f89d54row1_col13,#T_377e6f8c_00c5_11eb_8681_525400f89d54row13_col1{\n",
       "            background-color:  #f3edf5;\n",
       "            color:  #000000;\n",
       "        }#T_377e6f8c_00c5_11eb_8681_525400f89d54row1_col14,#T_377e6f8c_00c5_11eb_8681_525400f89d54row2_col13,#T_377e6f8c_00c5_11eb_8681_525400f89d54row13_col2,#T_377e6f8c_00c5_11eb_8681_525400f89d54row14_col1{\n",
       "            background-color:  #f6eff7;\n",
       "            color:  #000000;\n",
       "        }#T_377e6f8c_00c5_11eb_8681_525400f89d54row1_col15,#T_377e6f8c_00c5_11eb_8681_525400f89d54row15_col1{\n",
       "            background-color:  #b5c4df;\n",
       "            color:  #000000;\n",
       "        }#T_377e6f8c_00c5_11eb_8681_525400f89d54row1_col16,#T_377e6f8c_00c5_11eb_8681_525400f89d54row4_col8,#T_377e6f8c_00c5_11eb_8681_525400f89d54row4_col14,#T_377e6f8c_00c5_11eb_8681_525400f89d54row8_col4,#T_377e6f8c_00c5_11eb_8681_525400f89d54row14_col4,#T_377e6f8c_00c5_11eb_8681_525400f89d54row16_col1{\n",
       "            background-color:  #d6d6e9;\n",
       "            color:  #000000;\n",
       "        }#T_377e6f8c_00c5_11eb_8681_525400f89d54row2_col3,#T_377e6f8c_00c5_11eb_8681_525400f89d54row3_col2,#T_377e6f8c_00c5_11eb_8681_525400f89d54row10_col11,#T_377e6f8c_00c5_11eb_8681_525400f89d54row11_col10,#T_377e6f8c_00c5_11eb_8681_525400f89d54row11_col16,#T_377e6f8c_00c5_11eb_8681_525400f89d54row16_col11{\n",
       "            background-color:  #046096;\n",
       "            color:  #f1f1f1;\n",
       "        }#T_377e6f8c_00c5_11eb_8681_525400f89d54row2_col4,#T_377e6f8c_00c5_11eb_8681_525400f89d54row4_col2{\n",
       "            background-color:  #d2d2e7;\n",
       "            color:  #000000;\n",
       "        }#T_377e6f8c_00c5_11eb_8681_525400f89d54row2_col5,#T_377e6f8c_00c5_11eb_8681_525400f89d54row5_col2{\n",
       "            background-color:  #e5e1ef;\n",
       "            color:  #000000;\n",
       "        }#T_377e6f8c_00c5_11eb_8681_525400f89d54row2_col7,#T_377e6f8c_00c5_11eb_8681_525400f89d54row2_col14,#T_377e6f8c_00c5_11eb_8681_525400f89d54row7_col2,#T_377e6f8c_00c5_11eb_8681_525400f89d54row14_col2{\n",
       "            background-color:  #f1ebf4;\n",
       "            color:  #000000;\n",
       "        }#T_377e6f8c_00c5_11eb_8681_525400f89d54row2_col8,#T_377e6f8c_00c5_11eb_8681_525400f89d54row8_col2{\n",
       "            background-color:  #eee9f3;\n",
       "            color:  #000000;\n",
       "        }#T_377e6f8c_00c5_11eb_8681_525400f89d54row2_col10,#T_377e6f8c_00c5_11eb_8681_525400f89d54row10_col2{\n",
       "            background-color:  #94b6d7;\n",
       "            color:  #000000;\n",
       "        }#T_377e6f8c_00c5_11eb_8681_525400f89d54row2_col11,#T_377e6f8c_00c5_11eb_8681_525400f89d54row4_col12,#T_377e6f8c_00c5_11eb_8681_525400f89d54row11_col2,#T_377e6f8c_00c5_11eb_8681_525400f89d54row12_col4{\n",
       "            background-color:  #c8cde4;\n",
       "            color:  #000000;\n",
       "        }#T_377e6f8c_00c5_11eb_8681_525400f89d54row2_col12,#T_377e6f8c_00c5_11eb_8681_525400f89d54row12_col2{\n",
       "            background-color:  #83afd3;\n",
       "            color:  #000000;\n",
       "        }#T_377e6f8c_00c5_11eb_8681_525400f89d54row2_col15,#T_377e6f8c_00c5_11eb_8681_525400f89d54row15_col2{\n",
       "            background-color:  #bbc7e0;\n",
       "            color:  #000000;\n",
       "        }#T_377e6f8c_00c5_11eb_8681_525400f89d54row2_col16,#T_377e6f8c_00c5_11eb_8681_525400f89d54row16_col2{\n",
       "            background-color:  #dbdaeb;\n",
       "            color:  #000000;\n",
       "        }#T_377e6f8c_00c5_11eb_8681_525400f89d54row3_col4,#T_377e6f8c_00c5_11eb_8681_525400f89d54row4_col3,#T_377e6f8c_00c5_11eb_8681_525400f89d54row4_col7,#T_377e6f8c_00c5_11eb_8681_525400f89d54row7_col4{\n",
       "            background-color:  #abbfdc;\n",
       "            color:  #000000;\n",
       "        }#T_377e6f8c_00c5_11eb_8681_525400f89d54row3_col6,#T_377e6f8c_00c5_11eb_8681_525400f89d54row6_col3{\n",
       "            background-color:  #d1d2e6;\n",
       "            color:  #000000;\n",
       "        }#T_377e6f8c_00c5_11eb_8681_525400f89d54row3_col7,#T_377e6f8c_00c5_11eb_8681_525400f89d54row7_col3{\n",
       "            background-color:  #f5eef6;\n",
       "            color:  #000000;\n",
       "        }#T_377e6f8c_00c5_11eb_8681_525400f89d54row3_col8,#T_377e6f8c_00c5_11eb_8681_525400f89d54row8_col3{\n",
       "            background-color:  #f1ebf5;\n",
       "            color:  #000000;\n",
       "        }#T_377e6f8c_00c5_11eb_8681_525400f89d54row3_col9,#T_377e6f8c_00c5_11eb_8681_525400f89d54row9_col3{\n",
       "            background-color:  #f2ecf5;\n",
       "            color:  #000000;\n",
       "        }#T_377e6f8c_00c5_11eb_8681_525400f89d54row3_col10,#T_377e6f8c_00c5_11eb_8681_525400f89d54row10_col3{\n",
       "            background-color:  #a5bddb;\n",
       "            color:  #000000;\n",
       "        }#T_377e6f8c_00c5_11eb_8681_525400f89d54row3_col11,#T_377e6f8c_00c5_11eb_8681_525400f89d54row11_col3{\n",
       "            background-color:  #d7d6e9;\n",
       "            color:  #000000;\n",
       "        }#T_377e6f8c_00c5_11eb_8681_525400f89d54row3_col12,#T_377e6f8c_00c5_11eb_8681_525400f89d54row12_col3{\n",
       "            background-color:  #b1c2de;\n",
       "            color:  #000000;\n",
       "        }#T_377e6f8c_00c5_11eb_8681_525400f89d54row3_col13,#T_377e6f8c_00c5_11eb_8681_525400f89d54row13_col3{\n",
       "            background-color:  #f8f1f8;\n",
       "            color:  #000000;\n",
       "        }#T_377e6f8c_00c5_11eb_8681_525400f89d54row3_col14,#T_377e6f8c_00c5_11eb_8681_525400f89d54row14_col3{\n",
       "            background-color:  #fff7fb;\n",
       "            color:  #000000;\n",
       "        }#T_377e6f8c_00c5_11eb_8681_525400f89d54row4_col5,#T_377e6f8c_00c5_11eb_8681_525400f89d54row5_col4{\n",
       "            background-color:  #88b1d4;\n",
       "            color:  #000000;\n",
       "        }#T_377e6f8c_00c5_11eb_8681_525400f89d54row4_col6,#T_377e6f8c_00c5_11eb_8681_525400f89d54row6_col4{\n",
       "            background-color:  #b0c2de;\n",
       "            color:  #000000;\n",
       "        }#T_377e6f8c_00c5_11eb_8681_525400f89d54row4_col10,#T_377e6f8c_00c5_11eb_8681_525400f89d54row10_col4{\n",
       "            background-color:  #b7c5df;\n",
       "            color:  #000000;\n",
       "        }#T_377e6f8c_00c5_11eb_8681_525400f89d54row4_col11,#T_377e6f8c_00c5_11eb_8681_525400f89d54row11_col4{\n",
       "            background-color:  #d2d3e7;\n",
       "            color:  #000000;\n",
       "        }#T_377e6f8c_00c5_11eb_8681_525400f89d54row4_col13,#T_377e6f8c_00c5_11eb_8681_525400f89d54row13_col4{\n",
       "            background-color:  #a7bddb;\n",
       "            color:  #000000;\n",
       "        }#T_377e6f8c_00c5_11eb_8681_525400f89d54row4_col15,#T_377e6f8c_00c5_11eb_8681_525400f89d54row15_col4{\n",
       "            background-color:  #8fb4d6;\n",
       "            color:  #000000;\n",
       "        }#T_377e6f8c_00c5_11eb_8681_525400f89d54row4_col16,#T_377e6f8c_00c5_11eb_8681_525400f89d54row16_col4{\n",
       "            background-color:  #a4bcda;\n",
       "            color:  #000000;\n",
       "        }#T_377e6f8c_00c5_11eb_8681_525400f89d54row5_col6,#T_377e6f8c_00c5_11eb_8681_525400f89d54row6_col5,#T_377e6f8c_00c5_11eb_8681_525400f89d54row9_col11,#T_377e6f8c_00c5_11eb_8681_525400f89d54row11_col9{\n",
       "            background-color:  #04649e;\n",
       "            color:  #f1f1f1;\n",
       "        }#T_377e6f8c_00c5_11eb_8681_525400f89d54row5_col7,#T_377e6f8c_00c5_11eb_8681_525400f89d54row7_col5{\n",
       "            background-color:  #0568a3;\n",
       "            color:  #f1f1f1;\n",
       "        }#T_377e6f8c_00c5_11eb_8681_525400f89d54row5_col8,#T_377e6f8c_00c5_11eb_8681_525400f89d54row8_col5{\n",
       "            background-color:  #056ead;\n",
       "            color:  #f1f1f1;\n",
       "        }#T_377e6f8c_00c5_11eb_8681_525400f89d54row5_col9,#T_377e6f8c_00c5_11eb_8681_525400f89d54row9_col5{\n",
       "            background-color:  #187cb6;\n",
       "            color:  #000000;\n",
       "        }#T_377e6f8c_00c5_11eb_8681_525400f89d54row5_col10,#T_377e6f8c_00c5_11eb_8681_525400f89d54row10_col5{\n",
       "            background-color:  #1b7eb7;\n",
       "            color:  #000000;\n",
       "        }#T_377e6f8c_00c5_11eb_8681_525400f89d54row5_col11,#T_377e6f8c_00c5_11eb_8681_525400f89d54row7_col9,#T_377e6f8c_00c5_11eb_8681_525400f89d54row9_col7,#T_377e6f8c_00c5_11eb_8681_525400f89d54row11_col5{\n",
       "            background-color:  #2383ba;\n",
       "            color:  #000000;\n",
       "        }#T_377e6f8c_00c5_11eb_8681_525400f89d54row5_col12,#T_377e6f8c_00c5_11eb_8681_525400f89d54row12_col5{\n",
       "            background-color:  #4094c3;\n",
       "            color:  #000000;\n",
       "        }#T_377e6f8c_00c5_11eb_8681_525400f89d54row5_col13,#T_377e6f8c_00c5_11eb_8681_525400f89d54row13_col5{\n",
       "            background-color:  #0569a5;\n",
       "            color:  #f1f1f1;\n",
       "        }#T_377e6f8c_00c5_11eb_8681_525400f89d54row5_col14,#T_377e6f8c_00c5_11eb_8681_525400f89d54row6_col14,#T_377e6f8c_00c5_11eb_8681_525400f89d54row14_col5,#T_377e6f8c_00c5_11eb_8681_525400f89d54row14_col6{\n",
       "            background-color:  #2c89bd;\n",
       "            color:  #000000;\n",
       "        }#T_377e6f8c_00c5_11eb_8681_525400f89d54row5_col15,#T_377e6f8c_00c5_11eb_8681_525400f89d54row15_col5{\n",
       "            background-color:  #78abd0;\n",
       "            color:  #000000;\n",
       "        }#T_377e6f8c_00c5_11eb_8681_525400f89d54row5_col16,#T_377e6f8c_00c5_11eb_8681_525400f89d54row16_col5{\n",
       "            background-color:  #045b8f;\n",
       "            color:  #f1f1f1;\n",
       "        }#T_377e6f8c_00c5_11eb_8681_525400f89d54row6_col7,#T_377e6f8c_00c5_11eb_8681_525400f89d54row7_col6{\n",
       "            background-color:  #0566a0;\n",
       "            color:  #f1f1f1;\n",
       "        }#T_377e6f8c_00c5_11eb_8681_525400f89d54row6_col8,#T_377e6f8c_00c5_11eb_8681_525400f89d54row8_col6,#T_377e6f8c_00c5_11eb_8681_525400f89d54row8_col9,#T_377e6f8c_00c5_11eb_8681_525400f89d54row9_col8{\n",
       "            background-color:  #046097;\n",
       "            color:  #f1f1f1;\n",
       "        }#T_377e6f8c_00c5_11eb_8681_525400f89d54row6_col9,#T_377e6f8c_00c5_11eb_8681_525400f89d54row9_col6{\n",
       "            background-color:  #056ba7;\n",
       "            color:  #f1f1f1;\n",
       "        }#T_377e6f8c_00c5_11eb_8681_525400f89d54row6_col10,#T_377e6f8c_00c5_11eb_8681_525400f89d54row10_col6{\n",
       "            background-color:  #056caa;\n",
       "            color:  #f1f1f1;\n",
       "        }#T_377e6f8c_00c5_11eb_8681_525400f89d54row6_col11,#T_377e6f8c_00c5_11eb_8681_525400f89d54row8_col10,#T_377e6f8c_00c5_11eb_8681_525400f89d54row10_col8,#T_377e6f8c_00c5_11eb_8681_525400f89d54row11_col6,#T_377e6f8c_00c5_11eb_8681_525400f89d54row12_col16,#T_377e6f8c_00c5_11eb_8681_525400f89d54row16_col12{\n",
       "            background-color:  #056fae;\n",
       "            color:  #f1f1f1;\n",
       "        }#T_377e6f8c_00c5_11eb_8681_525400f89d54row6_col12,#T_377e6f8c_00c5_11eb_8681_525400f89d54row12_col6{\n",
       "            background-color:  #308cbe;\n",
       "            color:  #000000;\n",
       "        }#T_377e6f8c_00c5_11eb_8681_525400f89d54row6_col13,#T_377e6f8c_00c5_11eb_8681_525400f89d54row10_col16,#T_377e6f8c_00c5_11eb_8681_525400f89d54row13_col6,#T_377e6f8c_00c5_11eb_8681_525400f89d54row16_col10{\n",
       "            background-color:  #045f95;\n",
       "            color:  #f1f1f1;\n",
       "        }#T_377e6f8c_00c5_11eb_8681_525400f89d54row6_col15,#T_377e6f8c_00c5_11eb_8681_525400f89d54row15_col6{\n",
       "            background-color:  #63a2cb;\n",
       "            color:  #000000;\n",
       "        }#T_377e6f8c_00c5_11eb_8681_525400f89d54row6_col16,#T_377e6f8c_00c5_11eb_8681_525400f89d54row16_col6{\n",
       "            background-color:  #034c78;\n",
       "            color:  #f1f1f1;\n",
       "        }#T_377e6f8c_00c5_11eb_8681_525400f89d54row7_col8,#T_377e6f8c_00c5_11eb_8681_525400f89d54row8_col7{\n",
       "            background-color:  #045a8d;\n",
       "            color:  #f1f1f1;\n",
       "        }#T_377e6f8c_00c5_11eb_8681_525400f89d54row7_col10,#T_377e6f8c_00c5_11eb_8681_525400f89d54row10_col7{\n",
       "            background-color:  #2484ba;\n",
       "            color:  #000000;\n",
       "        }#T_377e6f8c_00c5_11eb_8681_525400f89d54row7_col11,#T_377e6f8c_00c5_11eb_8681_525400f89d54row11_col7{\n",
       "            background-color:  #0a73b2;\n",
       "            color:  #f1f1f1;\n",
       "        }#T_377e6f8c_00c5_11eb_8681_525400f89d54row7_col12,#T_377e6f8c_00c5_11eb_8681_525400f89d54row12_col7{\n",
       "            background-color:  #2081b9;\n",
       "            color:  #000000;\n",
       "        }#T_377e6f8c_00c5_11eb_8681_525400f89d54row7_col13,#T_377e6f8c_00c5_11eb_8681_525400f89d54row13_col7{\n",
       "            background-color:  #034b76;\n",
       "            color:  #f1f1f1;\n",
       "        }#T_377e6f8c_00c5_11eb_8681_525400f89d54row7_col14,#T_377e6f8c_00c5_11eb_8681_525400f89d54row13_col14,#T_377e6f8c_00c5_11eb_8681_525400f89d54row14_col7,#T_377e6f8c_00c5_11eb_8681_525400f89d54row14_col13{\n",
       "            background-color:  #056dab;\n",
       "            color:  #f1f1f1;\n",
       "        }#T_377e6f8c_00c5_11eb_8681_525400f89d54row7_col15,#T_377e6f8c_00c5_11eb_8681_525400f89d54row15_col7{\n",
       "            background-color:  #0c74b2;\n",
       "            color:  #f1f1f1;\n",
       "        }#T_377e6f8c_00c5_11eb_8681_525400f89d54row7_col16,#T_377e6f8c_00c5_11eb_8681_525400f89d54row16_col7{\n",
       "            background-color:  #045483;\n",
       "            color:  #f1f1f1;\n",
       "        }#T_377e6f8c_00c5_11eb_8681_525400f89d54row8_col11,#T_377e6f8c_00c5_11eb_8681_525400f89d54row11_col8{\n",
       "            background-color:  #04639b;\n",
       "            color:  #f1f1f1;\n",
       "        }#T_377e6f8c_00c5_11eb_8681_525400f89d54row8_col12,#T_377e6f8c_00c5_11eb_8681_525400f89d54row10_col12,#T_377e6f8c_00c5_11eb_8681_525400f89d54row12_col8,#T_377e6f8c_00c5_11eb_8681_525400f89d54row12_col10{\n",
       "            background-color:  #1379b5;\n",
       "            color:  #f1f1f1;\n",
       "        }#T_377e6f8c_00c5_11eb_8681_525400f89d54row8_col13,#T_377e6f8c_00c5_11eb_8681_525400f89d54row13_col8{\n",
       "            background-color:  #045788;\n",
       "            color:  #f1f1f1;\n",
       "        }#T_377e6f8c_00c5_11eb_8681_525400f89d54row8_col14,#T_377e6f8c_00c5_11eb_8681_525400f89d54row14_col8{\n",
       "            background-color:  #0567a2;\n",
       "            color:  #f1f1f1;\n",
       "        }#T_377e6f8c_00c5_11eb_8681_525400f89d54row8_col15,#T_377e6f8c_00c5_11eb_8681_525400f89d54row14_col15,#T_377e6f8c_00c5_11eb_8681_525400f89d54row15_col8,#T_377e6f8c_00c5_11eb_8681_525400f89d54row15_col14{\n",
       "            background-color:  #4897c4;\n",
       "            color:  #000000;\n",
       "        }#T_377e6f8c_00c5_11eb_8681_525400f89d54row8_col16,#T_377e6f8c_00c5_11eb_8681_525400f89d54row16_col8{\n",
       "            background-color:  #034d79;\n",
       "            color:  #f1f1f1;\n",
       "        }#T_377e6f8c_00c5_11eb_8681_525400f89d54row9_col10,#T_377e6f8c_00c5_11eb_8681_525400f89d54row10_col9{\n",
       "            background-color:  #056dac;\n",
       "            color:  #f1f1f1;\n",
       "        }#T_377e6f8c_00c5_11eb_8681_525400f89d54row9_col12,#T_377e6f8c_00c5_11eb_8681_525400f89d54row12_col9{\n",
       "            background-color:  #358fc0;\n",
       "            color:  #000000;\n",
       "        }#T_377e6f8c_00c5_11eb_8681_525400f89d54row9_col13,#T_377e6f8c_00c5_11eb_8681_525400f89d54row12_col14,#T_377e6f8c_00c5_11eb_8681_525400f89d54row13_col9,#T_377e6f8c_00c5_11eb_8681_525400f89d54row14_col12,#T_377e6f8c_00c5_11eb_8681_525400f89d54row14_col16,#T_377e6f8c_00c5_11eb_8681_525400f89d54row16_col14{\n",
       "            background-color:  #167bb6;\n",
       "            color:  #000000;\n",
       "        }#T_377e6f8c_00c5_11eb_8681_525400f89d54row9_col14,#T_377e6f8c_00c5_11eb_8681_525400f89d54row11_col13,#T_377e6f8c_00c5_11eb_8681_525400f89d54row13_col11,#T_377e6f8c_00c5_11eb_8681_525400f89d54row14_col9{\n",
       "            background-color:  #157ab5;\n",
       "            color:  #000000;\n",
       "        }#T_377e6f8c_00c5_11eb_8681_525400f89d54row9_col15,#T_377e6f8c_00c5_11eb_8681_525400f89d54row15_col9{\n",
       "            background-color:  #97b7d7;\n",
       "            color:  #000000;\n",
       "        }#T_377e6f8c_00c5_11eb_8681_525400f89d54row9_col16,#T_377e6f8c_00c5_11eb_8681_525400f89d54row16_col9{\n",
       "            background-color:  #046198;\n",
       "            color:  #f1f1f1;\n",
       "        }#T_377e6f8c_00c5_11eb_8681_525400f89d54row10_col13,#T_377e6f8c_00c5_11eb_8681_525400f89d54row13_col10{\n",
       "            background-color:  #2d8abd;\n",
       "            color:  #000000;\n",
       "        }#T_377e6f8c_00c5_11eb_8681_525400f89d54row10_col14,#T_377e6f8c_00c5_11eb_8681_525400f89d54row14_col10{\n",
       "            background-color:  #4697c4;\n",
       "            color:  #000000;\n",
       "        }#T_377e6f8c_00c5_11eb_8681_525400f89d54row10_col15,#T_377e6f8c_00c5_11eb_8681_525400f89d54row15_col10{\n",
       "            background-color:  #3991c1;\n",
       "            color:  #000000;\n",
       "        }#T_377e6f8c_00c5_11eb_8681_525400f89d54row11_col12,#T_377e6f8c_00c5_11eb_8681_525400f89d54row12_col11{\n",
       "            background-color:  #1e80b8;\n",
       "            color:  #000000;\n",
       "        }#T_377e6f8c_00c5_11eb_8681_525400f89d54row11_col14,#T_377e6f8c_00c5_11eb_8681_525400f89d54row12_col15,#T_377e6f8c_00c5_11eb_8681_525400f89d54row14_col11,#T_377e6f8c_00c5_11eb_8681_525400f89d54row15_col12{\n",
       "            background-color:  #2685bb;\n",
       "            color:  #000000;\n",
       "        }#T_377e6f8c_00c5_11eb_8681_525400f89d54row11_col15,#T_377e6f8c_00c5_11eb_8681_525400f89d54row15_col11{\n",
       "            background-color:  #4e9ac6;\n",
       "            color:  #000000;\n",
       "        }#T_377e6f8c_00c5_11eb_8681_525400f89d54row12_col13,#T_377e6f8c_00c5_11eb_8681_525400f89d54row13_col12{\n",
       "            background-color:  #2a88bc;\n",
       "            color:  #000000;\n",
       "        }#T_377e6f8c_00c5_11eb_8681_525400f89d54row13_col15,#T_377e6f8c_00c5_11eb_8681_525400f89d54row15_col13{\n",
       "            background-color:  #197db7;\n",
       "            color:  #000000;\n",
       "        }#T_377e6f8c_00c5_11eb_8681_525400f89d54row13_col16,#T_377e6f8c_00c5_11eb_8681_525400f89d54row16_col13{\n",
       "            background-color:  #045280;\n",
       "            color:  #f1f1f1;\n",
       "        }#T_377e6f8c_00c5_11eb_8681_525400f89d54row15_col16,#T_377e6f8c_00c5_11eb_8681_525400f89d54row16_col15{\n",
       "            background-color:  #2786bb;\n",
       "            color:  #000000;\n",
       "        }</style><table id=\"T_377e6f8c_00c5_11eb_8681_525400f89d54\" ><thead>    <tr>        <th class=\"blank level0\" ></th>        <th class=\"col_heading level0 col0\" >Rt</th>        <th class=\"col_heading level0 col1\" >theta</th>        <th class=\"col_heading level0 col2\" >kappa</th>        <th class=\"col_heading level0 col3\" >rho</th>        <th class=\"col_heading level0 col4\" >sigma</th>        <th class=\"col_heading level0 col5\" >School_closing</th>        <th class=\"col_heading level0 col6\" >Workplace_closing</th>        <th class=\"col_heading level0 col7\" >Cancel_events</th>        <th class=\"col_heading level0 col8\" >Gatherings_restrictions</th>        <th class=\"col_heading level0 col9\" >Transport_closing</th>        <th class=\"col_heading level0 col10\" >Stay_home_restrictions</th>        <th class=\"col_heading level0 col11\" >Internal_movement_restrictions</th>        <th class=\"col_heading level0 col12\" >International_movement_restrictions</th>        <th class=\"col_heading level0 col13\" >Information_campaigns</th>        <th class=\"col_heading level0 col14\" >Testing_policy</th>        <th class=\"col_heading level0 col15\" >Contact_tracing</th>        <th class=\"col_heading level0 col16\" >Stringency_index</th>    </tr></thead><tbody>\n",
       "                <tr>\n",
       "                        <th id=\"T_377e6f8c_00c5_11eb_8681_525400f89d54level0_row0\" class=\"row_heading level0 row0\" >Rt</th>\n",
       "                        <td id=\"T_377e6f8c_00c5_11eb_8681_525400f89d54row0_col0\" class=\"data row0 col0\" >1.000000</td>\n",
       "                        <td id=\"T_377e6f8c_00c5_11eb_8681_525400f89d54row0_col1\" class=\"data row0 col1\" >-0.263060</td>\n",
       "                        <td id=\"T_377e6f8c_00c5_11eb_8681_525400f89d54row0_col2\" class=\"data row0 col2\" >-0.239707</td>\n",
       "                        <td id=\"T_377e6f8c_00c5_11eb_8681_525400f89d54row0_col3\" class=\"data row0 col3\" >0.107175</td>\n",
       "                        <td id=\"T_377e6f8c_00c5_11eb_8681_525400f89d54row0_col4\" class=\"data row0 col4\" >-0.215948</td>\n",
       "                        <td id=\"T_377e6f8c_00c5_11eb_8681_525400f89d54row0_col5\" class=\"data row0 col5\" >-0.038662</td>\n",
       "                        <td id=\"T_377e6f8c_00c5_11eb_8681_525400f89d54row0_col6\" class=\"data row0 col6\" >0.056400</td>\n",
       "                        <td id=\"T_377e6f8c_00c5_11eb_8681_525400f89d54row0_col7\" class=\"data row0 col7\" >-0.026996</td>\n",
       "                        <td id=\"T_377e6f8c_00c5_11eb_8681_525400f89d54row0_col8\" class=\"data row0 col8\" >-0.034079</td>\n",
       "                        <td id=\"T_377e6f8c_00c5_11eb_8681_525400f89d54row0_col9\" class=\"data row0 col9\" >-0.145019</td>\n",
       "                        <td id=\"T_377e6f8c_00c5_11eb_8681_525400f89d54row0_col10\" class=\"data row0 col10\" >-0.225019</td>\n",
       "                        <td id=\"T_377e6f8c_00c5_11eb_8681_525400f89d54row0_col11\" class=\"data row0 col11\" >-0.151393</td>\n",
       "                        <td id=\"T_377e6f8c_00c5_11eb_8681_525400f89d54row0_col12\" class=\"data row0 col12\" >-0.170166</td>\n",
       "                        <td id=\"T_377e6f8c_00c5_11eb_8681_525400f89d54row0_col13\" class=\"data row0 col13\" >-0.008015</td>\n",
       "                        <td id=\"T_377e6f8c_00c5_11eb_8681_525400f89d54row0_col14\" class=\"data row0 col14\" >-0.064260</td>\n",
       "                        <td id=\"T_377e6f8c_00c5_11eb_8681_525400f89d54row0_col15\" class=\"data row0 col15\" >-0.167358</td>\n",
       "                        <td id=\"T_377e6f8c_00c5_11eb_8681_525400f89d54row0_col16\" class=\"data row0 col16\" >-0.088314</td>\n",
       "            </tr>\n",
       "            <tr>\n",
       "                        <th id=\"T_377e6f8c_00c5_11eb_8681_525400f89d54level0_row1\" class=\"row_heading level0 row1\" >theta</th>\n",
       "                        <td id=\"T_377e6f8c_00c5_11eb_8681_525400f89d54row1_col0\" class=\"data row1 col0\" >-0.263060</td>\n",
       "                        <td id=\"T_377e6f8c_00c5_11eb_8681_525400f89d54row1_col1\" class=\"data row1 col1\" >1.000000</td>\n",
       "                        <td id=\"T_377e6f8c_00c5_11eb_8681_525400f89d54row1_col2\" class=\"data row1 col2\" >0.968432</td>\n",
       "                        <td id=\"T_377e6f8c_00c5_11eb_8681_525400f89d54row1_col3\" class=\"data row1 col3\" >0.750497</td>\n",
       "                        <td id=\"T_377e6f8c_00c5_11eb_8681_525400f89d54row1_col4\" class=\"data row1 col4\" >-0.038775</td>\n",
       "                        <td id=\"T_377e6f8c_00c5_11eb_8681_525400f89d54row1_col5\" class=\"data row1 col5\" >-0.198249</td>\n",
       "                        <td id=\"T_377e6f8c_00c5_11eb_8681_525400f89d54row1_col6\" class=\"data row1 col6\" >-0.120672</td>\n",
       "                        <td id=\"T_377e6f8c_00c5_11eb_8681_525400f89d54row1_col7\" class=\"data row1 col7\" >-0.292713</td>\n",
       "                        <td id=\"T_377e6f8c_00c5_11eb_8681_525400f89d54row1_col8\" class=\"data row1 col8\" >-0.293964</td>\n",
       "                        <td id=\"T_377e6f8c_00c5_11eb_8681_525400f89d54row1_col9\" class=\"data row1 col9\" >-0.265353</td>\n",
       "                        <td id=\"T_377e6f8c_00c5_11eb_8681_525400f89d54row1_col10\" class=\"data row1 col10\" >0.162464</td>\n",
       "                        <td id=\"T_377e6f8c_00c5_11eb_8681_525400f89d54row1_col11\" class=\"data row1 col11\" >-0.048432</td>\n",
       "                        <td id=\"T_377e6f8c_00c5_11eb_8681_525400f89d54row1_col12\" class=\"data row1 col12\" >0.198971</td>\n",
       "                        <td id=\"T_377e6f8c_00c5_11eb_8681_525400f89d54row1_col13\" class=\"data row1 col13\" >-0.337028</td>\n",
       "                        <td id=\"T_377e6f8c_00c5_11eb_8681_525400f89d54row1_col14\" class=\"data row1 col14\" >-0.360942</td>\n",
       "                        <td id=\"T_377e6f8c_00c5_11eb_8681_525400f89d54row1_col15\" class=\"data row1 col15\" >0.027356</td>\n",
       "                        <td id=\"T_377e6f8c_00c5_11eb_8681_525400f89d54row1_col16\" class=\"data row1 col16\" >-0.125381</td>\n",
       "            </tr>\n",
       "            <tr>\n",
       "                        <th id=\"T_377e6f8c_00c5_11eb_8681_525400f89d54level0_row2\" class=\"row_heading level0 row2\" >kappa</th>\n",
       "                        <td id=\"T_377e6f8c_00c5_11eb_8681_525400f89d54row2_col0\" class=\"data row2 col0\" >-0.239707</td>\n",
       "                        <td id=\"T_377e6f8c_00c5_11eb_8681_525400f89d54row2_col1\" class=\"data row2 col1\" >0.968432</td>\n",
       "                        <td id=\"T_377e6f8c_00c5_11eb_8681_525400f89d54row2_col2\" class=\"data row2 col2\" >1.000000</td>\n",
       "                        <td id=\"T_377e6f8c_00c5_11eb_8681_525400f89d54row2_col3\" class=\"data row2 col3\" >0.770215</td>\n",
       "                        <td id=\"T_377e6f8c_00c5_11eb_8681_525400f89d54row2_col4\" class=\"data row2 col4\" >-0.097344</td>\n",
       "                        <td id=\"T_377e6f8c_00c5_11eb_8681_525400f89d54row2_col5\" class=\"data row2 col5\" >-0.224045</td>\n",
       "                        <td id=\"T_377e6f8c_00c5_11eb_8681_525400f89d54row2_col6\" class=\"data row2 col6\" >-0.153587</td>\n",
       "                        <td id=\"T_377e6f8c_00c5_11eb_8681_525400f89d54row2_col7\" class=\"data row2 col7\" >-0.312523</td>\n",
       "                        <td id=\"T_377e6f8c_00c5_11eb_8681_525400f89d54row2_col8\" class=\"data row2 col8\" >-0.287572</td>\n",
       "                        <td id=\"T_377e6f8c_00c5_11eb_8681_525400f89d54row2_col9\" class=\"data row2 col9\" >-0.267209</td>\n",
       "                        <td id=\"T_377e6f8c_00c5_11eb_8681_525400f89d54row2_col10\" class=\"data row2 col10\" >0.156102</td>\n",
       "                        <td id=\"T_377e6f8c_00c5_11eb_8681_525400f89d54row2_col11\" class=\"data row2 col11\" >-0.054203</td>\n",
       "                        <td id=\"T_377e6f8c_00c5_11eb_8681_525400f89d54row2_col12\" class=\"data row2 col12\" >0.221523</td>\n",
       "                        <td id=\"T_377e6f8c_00c5_11eb_8681_525400f89d54row2_col13\" class=\"data row2 col13\" >-0.360860</td>\n",
       "                        <td id=\"T_377e6f8c_00c5_11eb_8681_525400f89d54row2_col14\" class=\"data row2 col14\" >-0.312524</td>\n",
       "                        <td id=\"T_377e6f8c_00c5_11eb_8681_525400f89d54row2_col15\" class=\"data row2 col15\" >0.004312</td>\n",
       "                        <td id=\"T_377e6f8c_00c5_11eb_8681_525400f89d54row2_col16\" class=\"data row2 col16\" >-0.157313</td>\n",
       "            </tr>\n",
       "            <tr>\n",
       "                        <th id=\"T_377e6f8c_00c5_11eb_8681_525400f89d54level0_row3\" class=\"row_heading level0 row3\" >rho</th>\n",
       "                        <td id=\"T_377e6f8c_00c5_11eb_8681_525400f89d54row3_col0\" class=\"data row3 col0\" >0.107175</td>\n",
       "                        <td id=\"T_377e6f8c_00c5_11eb_8681_525400f89d54row3_col1\" class=\"data row3 col1\" >0.750497</td>\n",
       "                        <td id=\"T_377e6f8c_00c5_11eb_8681_525400f89d54row3_col2\" class=\"data row3 col2\" >0.770215</td>\n",
       "                        <td id=\"T_377e6f8c_00c5_11eb_8681_525400f89d54row3_col3\" class=\"data row3 col3\" >1.000000</td>\n",
       "                        <td id=\"T_377e6f8c_00c5_11eb_8681_525400f89d54row3_col4\" class=\"data row3 col4\" >0.072797</td>\n",
       "                        <td id=\"T_377e6f8c_00c5_11eb_8681_525400f89d54row3_col5\" class=\"data row3 col5\" >-0.146630</td>\n",
       "                        <td id=\"T_377e6f8c_00c5_11eb_8681_525400f89d54row3_col6\" class=\"data row3 col6\" >-0.092162</td>\n",
       "                        <td id=\"T_377e6f8c_00c5_11eb_8681_525400f89d54row3_col7\" class=\"data row3 col7\" >-0.349929</td>\n",
       "                        <td id=\"T_377e6f8c_00c5_11eb_8681_525400f89d54row3_col8\" class=\"data row3 col8\" >-0.315772</td>\n",
       "                        <td id=\"T_377e6f8c_00c5_11eb_8681_525400f89d54row3_col9\" class=\"data row3 col9\" >-0.322403</td>\n",
       "                        <td id=\"T_377e6f8c_00c5_11eb_8681_525400f89d54row3_col10\" class=\"data row3 col10\" >0.095987</td>\n",
       "                        <td id=\"T_377e6f8c_00c5_11eb_8681_525400f89d54row3_col11\" class=\"data row3 col11\" >-0.132596</td>\n",
       "                        <td id=\"T_377e6f8c_00c5_11eb_8681_525400f89d54row3_col12\" class=\"data row3 col12\" >0.043406</td>\n",
       "                        <td id=\"T_377e6f8c_00c5_11eb_8681_525400f89d54row3_col13\" class=\"data row3 col13\" >-0.382874</td>\n",
       "                        <td id=\"T_377e6f8c_00c5_11eb_8681_525400f89d54row3_col14\" class=\"data row3 col14\" >-0.451136</td>\n",
       "                        <td id=\"T_377e6f8c_00c5_11eb_8681_525400f89d54row3_col15\" class=\"data row3 col15\" >-0.119950</td>\n",
       "                        <td id=\"T_377e6f8c_00c5_11eb_8681_525400f89d54row3_col16\" class=\"data row3 col16\" >-0.167174</td>\n",
       "            </tr>\n",
       "            <tr>\n",
       "                        <th id=\"T_377e6f8c_00c5_11eb_8681_525400f89d54level0_row4\" class=\"row_heading level0 row4\" >sigma</th>\n",
       "                        <td id=\"T_377e6f8c_00c5_11eb_8681_525400f89d54row4_col0\" class=\"data row4 col0\" >-0.215948</td>\n",
       "                        <td id=\"T_377e6f8c_00c5_11eb_8681_525400f89d54row4_col1\" class=\"data row4 col1\" >-0.038775</td>\n",
       "                        <td id=\"T_377e6f8c_00c5_11eb_8681_525400f89d54row4_col2\" class=\"data row4 col2\" >-0.097344</td>\n",
       "                        <td id=\"T_377e6f8c_00c5_11eb_8681_525400f89d54row4_col3\" class=\"data row4 col3\" >0.072797</td>\n",
       "                        <td id=\"T_377e6f8c_00c5_11eb_8681_525400f89d54row4_col4\" class=\"data row4 col4\" >1.000000</td>\n",
       "                        <td id=\"T_377e6f8c_00c5_11eb_8681_525400f89d54row4_col5\" class=\"data row4 col5\" >0.203019</td>\n",
       "                        <td id=\"T_377e6f8c_00c5_11eb_8681_525400f89d54row4_col6\" class=\"data row4 col6\" >0.051331</td>\n",
       "                        <td id=\"T_377e6f8c_00c5_11eb_8681_525400f89d54row4_col7\" class=\"data row4 col7\" >0.074879</td>\n",
       "                        <td id=\"T_377e6f8c_00c5_11eb_8681_525400f89d54row4_col8\" class=\"data row4 col8\" >-0.126982</td>\n",
       "                        <td id=\"T_377e6f8c_00c5_11eb_8681_525400f89d54row4_col9\" class=\"data row4 col9\" >-0.032746</td>\n",
       "                        <td id=\"T_377e6f8c_00c5_11eb_8681_525400f89d54row4_col10\" class=\"data row4 col10\" >0.023432</td>\n",
       "                        <td id=\"T_377e6f8c_00c5_11eb_8681_525400f89d54row4_col11\" class=\"data row4 col11\" >-0.099835</td>\n",
       "                        <td id=\"T_377e6f8c_00c5_11eb_8681_525400f89d54row4_col12\" class=\"data row4 col12\" >-0.052705</td>\n",
       "                        <td id=\"T_377e6f8c_00c5_11eb_8681_525400f89d54row4_col13\" class=\"data row4 col13\" >0.092720</td>\n",
       "                        <td id=\"T_377e6f8c_00c5_11eb_8681_525400f89d54row4_col14\" class=\"data row4 col14\" >-0.127519</td>\n",
       "                        <td id=\"T_377e6f8c_00c5_11eb_8681_525400f89d54row4_col15\" class=\"data row4 col15\" >0.177384</td>\n",
       "                        <td id=\"T_377e6f8c_00c5_11eb_8681_525400f89d54row4_col16\" class=\"data row4 col16\" >0.099191</td>\n",
       "            </tr>\n",
       "            <tr>\n",
       "                        <th id=\"T_377e6f8c_00c5_11eb_8681_525400f89d54level0_row5\" class=\"row_heading level0 row5\" >School_closing</th>\n",
       "                        <td id=\"T_377e6f8c_00c5_11eb_8681_525400f89d54row5_col0\" class=\"data row5 col0\" >-0.038662</td>\n",
       "                        <td id=\"T_377e6f8c_00c5_11eb_8681_525400f89d54row5_col1\" class=\"data row5 col1\" >-0.198249</td>\n",
       "                        <td id=\"T_377e6f8c_00c5_11eb_8681_525400f89d54row5_col2\" class=\"data row5 col2\" >-0.224045</td>\n",
       "                        <td id=\"T_377e6f8c_00c5_11eb_8681_525400f89d54row5_col3\" class=\"data row5 col3\" >-0.146630</td>\n",
       "                        <td id=\"T_377e6f8c_00c5_11eb_8681_525400f89d54row5_col4\" class=\"data row5 col4\" >0.203019</td>\n",
       "                        <td id=\"T_377e6f8c_00c5_11eb_8681_525400f89d54row5_col5\" class=\"data row5 col5\" >1.000000</td>\n",
       "                        <td id=\"T_377e6f8c_00c5_11eb_8681_525400f89d54row5_col6\" class=\"data row5 col6\" >0.733186</td>\n",
       "                        <td id=\"T_377e6f8c_00c5_11eb_8681_525400f89d54row5_col7\" class=\"data row5 col7\" >0.699969</td>\n",
       "                        <td id=\"T_377e6f8c_00c5_11eb_8681_525400f89d54row5_col8\" class=\"data row5 col8\" >0.650459</td>\n",
       "                        <td id=\"T_377e6f8c_00c5_11eb_8681_525400f89d54row5_col9\" class=\"data row5 col9\" >0.567939</td>\n",
       "                        <td id=\"T_377e6f8c_00c5_11eb_8681_525400f89d54row5_col10\" class=\"data row5 col10\" >0.557838</td>\n",
       "                        <td id=\"T_377e6f8c_00c5_11eb_8681_525400f89d54row5_col11\" class=\"data row5 col11\" >0.527324</td>\n",
       "                        <td id=\"T_377e6f8c_00c5_11eb_8681_525400f89d54row5_col12\" class=\"data row5 col12\" >0.424855</td>\n",
       "                        <td id=\"T_377e6f8c_00c5_11eb_8681_525400f89d54row5_col13\" class=\"data row5 col13\" >0.689436</td>\n",
       "                        <td id=\"T_377e6f8c_00c5_11eb_8681_525400f89d54row5_col14\" class=\"data row5 col14\" >0.491258</td>\n",
       "                        <td id=\"T_377e6f8c_00c5_11eb_8681_525400f89d54row5_col15\" class=\"data row5 col15\" >0.260003</td>\n",
       "                        <td id=\"T_377e6f8c_00c5_11eb_8681_525400f89d54row5_col16\" class=\"data row5 col16\" >0.805906</td>\n",
       "            </tr>\n",
       "            <tr>\n",
       "                        <th id=\"T_377e6f8c_00c5_11eb_8681_525400f89d54level0_row6\" class=\"row_heading level0 row6\" >Workplace_closing</th>\n",
       "                        <td id=\"T_377e6f8c_00c5_11eb_8681_525400f89d54row6_col0\" class=\"data row6 col0\" >0.056400</td>\n",
       "                        <td id=\"T_377e6f8c_00c5_11eb_8681_525400f89d54row6_col1\" class=\"data row6 col1\" >-0.120672</td>\n",
       "                        <td id=\"T_377e6f8c_00c5_11eb_8681_525400f89d54row6_col2\" class=\"data row6 col2\" >-0.153587</td>\n",
       "                        <td id=\"T_377e6f8c_00c5_11eb_8681_525400f89d54row6_col3\" class=\"data row6 col3\" >-0.092162</td>\n",
       "                        <td id=\"T_377e6f8c_00c5_11eb_8681_525400f89d54row6_col4\" class=\"data row6 col4\" >0.051331</td>\n",
       "                        <td id=\"T_377e6f8c_00c5_11eb_8681_525400f89d54row6_col5\" class=\"data row6 col5\" >0.733186</td>\n",
       "                        <td id=\"T_377e6f8c_00c5_11eb_8681_525400f89d54row6_col6\" class=\"data row6 col6\" >1.000000</td>\n",
       "                        <td id=\"T_377e6f8c_00c5_11eb_8681_525400f89d54row6_col7\" class=\"data row6 col7\" >0.719469</td>\n",
       "                        <td id=\"T_377e6f8c_00c5_11eb_8681_525400f89d54row6_col8\" class=\"data row6 col8\" >0.765808</td>\n",
       "                        <td id=\"T_377e6f8c_00c5_11eb_8681_525400f89d54row6_col9\" class=\"data row6 col9\" >0.680972</td>\n",
       "                        <td id=\"T_377e6f8c_00c5_11eb_8681_525400f89d54row6_col10\" class=\"data row6 col10\" >0.665865</td>\n",
       "                        <td id=\"T_377e6f8c_00c5_11eb_8681_525400f89d54row6_col11\" class=\"data row6 col11\" >0.647298</td>\n",
       "                        <td id=\"T_377e6f8c_00c5_11eb_8681_525400f89d54row6_col12\" class=\"data row6 col12\" >0.474250</td>\n",
       "                        <td id=\"T_377e6f8c_00c5_11eb_8681_525400f89d54row6_col13\" class=\"data row6 col13\" >0.778847</td>\n",
       "                        <td id=\"T_377e6f8c_00c5_11eb_8681_525400f89d54row6_col14\" class=\"data row6 col14\" >0.492025</td>\n",
       "                        <td id=\"T_377e6f8c_00c5_11eb_8681_525400f89d54row6_col15\" class=\"data row6 col15\" >0.324739</td>\n",
       "                        <td id=\"T_377e6f8c_00c5_11eb_8681_525400f89d54row6_col16\" class=\"data row6 col16\" >0.891903</td>\n",
       "            </tr>\n",
       "            <tr>\n",
       "                        <th id=\"T_377e6f8c_00c5_11eb_8681_525400f89d54level0_row7\" class=\"row_heading level0 row7\" >Cancel_events</th>\n",
       "                        <td id=\"T_377e6f8c_00c5_11eb_8681_525400f89d54row7_col0\" class=\"data row7 col0\" >-0.026996</td>\n",
       "                        <td id=\"T_377e6f8c_00c5_11eb_8681_525400f89d54row7_col1\" class=\"data row7 col1\" >-0.292713</td>\n",
       "                        <td id=\"T_377e6f8c_00c5_11eb_8681_525400f89d54row7_col2\" class=\"data row7 col2\" >-0.312523</td>\n",
       "                        <td id=\"T_377e6f8c_00c5_11eb_8681_525400f89d54row7_col3\" class=\"data row7 col3\" >-0.349929</td>\n",
       "                        <td id=\"T_377e6f8c_00c5_11eb_8681_525400f89d54row7_col4\" class=\"data row7 col4\" >0.074879</td>\n",
       "                        <td id=\"T_377e6f8c_00c5_11eb_8681_525400f89d54row7_col5\" class=\"data row7 col5\" >0.699969</td>\n",
       "                        <td id=\"T_377e6f8c_00c5_11eb_8681_525400f89d54row7_col6\" class=\"data row7 col6\" >0.719469</td>\n",
       "                        <td id=\"T_377e6f8c_00c5_11eb_8681_525400f89d54row7_col7\" class=\"data row7 col7\" >1.000000</td>\n",
       "                        <td id=\"T_377e6f8c_00c5_11eb_8681_525400f89d54row7_col8\" class=\"data row7 col8\" >0.814321</td>\n",
       "                        <td id=\"T_377e6f8c_00c5_11eb_8681_525400f89d54row7_col9\" class=\"data row7 col9\" >0.526707</td>\n",
       "                        <td id=\"T_377e6f8c_00c5_11eb_8681_525400f89d54row7_col10\" class=\"data row7 col10\" >0.518455</td>\n",
       "                        <td id=\"T_377e6f8c_00c5_11eb_8681_525400f89d54row7_col11\" class=\"data row7 col11\" >0.617812</td>\n",
       "                        <td id=\"T_377e6f8c_00c5_11eb_8681_525400f89d54row7_col12\" class=\"data row7 col12\" >0.539881</td>\n",
       "                        <td id=\"T_377e6f8c_00c5_11eb_8681_525400f89d54row7_col13\" class=\"data row7 col13\" >0.895335</td>\n",
       "                        <td id=\"T_377e6f8c_00c5_11eb_8681_525400f89d54row7_col14\" class=\"data row7 col14\" >0.661081</td>\n",
       "                        <td id=\"T_377e6f8c_00c5_11eb_8681_525400f89d54row7_col15\" class=\"data row7 col15\" >0.612138</td>\n",
       "                        <td id=\"T_377e6f8c_00c5_11eb_8681_525400f89d54row7_col16\" class=\"data row7 col16\" >0.850333</td>\n",
       "            </tr>\n",
       "            <tr>\n",
       "                        <th id=\"T_377e6f8c_00c5_11eb_8681_525400f89d54level0_row8\" class=\"row_heading level0 row8\" >Gatherings_restrictions</th>\n",
       "                        <td id=\"T_377e6f8c_00c5_11eb_8681_525400f89d54row8_col0\" class=\"data row8 col0\" >-0.034079</td>\n",
       "                        <td id=\"T_377e6f8c_00c5_11eb_8681_525400f89d54row8_col1\" class=\"data row8 col1\" >-0.293964</td>\n",
       "                        <td id=\"T_377e6f8c_00c5_11eb_8681_525400f89d54row8_col2\" class=\"data row8 col2\" >-0.287572</td>\n",
       "                        <td id=\"T_377e6f8c_00c5_11eb_8681_525400f89d54row8_col3\" class=\"data row8 col3\" >-0.315772</td>\n",
       "                        <td id=\"T_377e6f8c_00c5_11eb_8681_525400f89d54row8_col4\" class=\"data row8 col4\" >-0.126982</td>\n",
       "                        <td id=\"T_377e6f8c_00c5_11eb_8681_525400f89d54row8_col5\" class=\"data row8 col5\" >0.650459</td>\n",
       "                        <td id=\"T_377e6f8c_00c5_11eb_8681_525400f89d54row8_col6\" class=\"data row8 col6\" >0.765808</td>\n",
       "                        <td id=\"T_377e6f8c_00c5_11eb_8681_525400f89d54row8_col7\" class=\"data row8 col7\" >0.814321</td>\n",
       "                        <td id=\"T_377e6f8c_00c5_11eb_8681_525400f89d54row8_col8\" class=\"data row8 col8\" >1.000000</td>\n",
       "                        <td id=\"T_377e6f8c_00c5_11eb_8681_525400f89d54row8_col9\" class=\"data row8 col9\" >0.765026</td>\n",
       "                        <td id=\"T_377e6f8c_00c5_11eb_8681_525400f89d54row8_col10\" class=\"data row8 col10\" >0.647979</td>\n",
       "                        <td id=\"T_377e6f8c_00c5_11eb_8681_525400f89d54row8_col11\" class=\"data row8 col11\" >0.744063</td>\n",
       "                        <td id=\"T_377e6f8c_00c5_11eb_8681_525400f89d54row8_col12\" class=\"data row8 col12\" >0.581611</td>\n",
       "                        <td id=\"T_377e6f8c_00c5_11eb_8681_525400f89d54row8_col13\" class=\"data row8 col13\" >0.831746</td>\n",
       "                        <td id=\"T_377e6f8c_00c5_11eb_8681_525400f89d54row8_col14\" class=\"data row8 col14\" >0.708091</td>\n",
       "                        <td id=\"T_377e6f8c_00c5_11eb_8681_525400f89d54row8_col15\" class=\"data row8 col15\" >0.399930</td>\n",
       "                        <td id=\"T_377e6f8c_00c5_11eb_8681_525400f89d54row8_col16\" class=\"data row8 col16\" >0.881040</td>\n",
       "            </tr>\n",
       "            <tr>\n",
       "                        <th id=\"T_377e6f8c_00c5_11eb_8681_525400f89d54level0_row9\" class=\"row_heading level0 row9\" >Transport_closing</th>\n",
       "                        <td id=\"T_377e6f8c_00c5_11eb_8681_525400f89d54row9_col0\" class=\"data row9 col0\" >-0.145019</td>\n",
       "                        <td id=\"T_377e6f8c_00c5_11eb_8681_525400f89d54row9_col1\" class=\"data row9 col1\" >-0.265353</td>\n",
       "                        <td id=\"T_377e6f8c_00c5_11eb_8681_525400f89d54row9_col2\" class=\"data row9 col2\" >-0.267209</td>\n",
       "                        <td id=\"T_377e6f8c_00c5_11eb_8681_525400f89d54row9_col3\" class=\"data row9 col3\" >-0.322403</td>\n",
       "                        <td id=\"T_377e6f8c_00c5_11eb_8681_525400f89d54row9_col4\" class=\"data row9 col4\" >-0.032746</td>\n",
       "                        <td id=\"T_377e6f8c_00c5_11eb_8681_525400f89d54row9_col5\" class=\"data row9 col5\" >0.567939</td>\n",
       "                        <td id=\"T_377e6f8c_00c5_11eb_8681_525400f89d54row9_col6\" class=\"data row9 col6\" >0.680972</td>\n",
       "                        <td id=\"T_377e6f8c_00c5_11eb_8681_525400f89d54row9_col7\" class=\"data row9 col7\" >0.526707</td>\n",
       "                        <td id=\"T_377e6f8c_00c5_11eb_8681_525400f89d54row9_col8\" class=\"data row9 col8\" >0.765026</td>\n",
       "                        <td id=\"T_377e6f8c_00c5_11eb_8681_525400f89d54row9_col9\" class=\"data row9 col9\" >1.000000</td>\n",
       "                        <td id=\"T_377e6f8c_00c5_11eb_8681_525400f89d54row9_col10\" class=\"data row9 col10\" >0.654763</td>\n",
       "                        <td id=\"T_377e6f8c_00c5_11eb_8681_525400f89d54row9_col11\" class=\"data row9 col11\" >0.732023</td>\n",
       "                        <td id=\"T_377e6f8c_00c5_11eb_8681_525400f89d54row9_col12\" class=\"data row9 col12\" >0.457693</td>\n",
       "                        <td id=\"T_377e6f8c_00c5_11eb_8681_525400f89d54row9_col13\" class=\"data row9 col13\" >0.570618</td>\n",
       "                        <td id=\"T_377e6f8c_00c5_11eb_8681_525400f89d54row9_col14\" class=\"data row9 col14\" >0.578256</td>\n",
       "                        <td id=\"T_377e6f8c_00c5_11eb_8681_525400f89d54row9_col15\" class=\"data row9 col15\" >0.146536</td>\n",
       "                        <td id=\"T_377e6f8c_00c5_11eb_8681_525400f89d54row9_col16\" class=\"data row9 col16\" >0.761516</td>\n",
       "            </tr>\n",
       "            <tr>\n",
       "                        <th id=\"T_377e6f8c_00c5_11eb_8681_525400f89d54level0_row10\" class=\"row_heading level0 row10\" >Stay_home_restrictions</th>\n",
       "                        <td id=\"T_377e6f8c_00c5_11eb_8681_525400f89d54row10_col0\" class=\"data row10 col0\" >-0.225019</td>\n",
       "                        <td id=\"T_377e6f8c_00c5_11eb_8681_525400f89d54row10_col1\" class=\"data row10 col1\" >0.162464</td>\n",
       "                        <td id=\"T_377e6f8c_00c5_11eb_8681_525400f89d54row10_col2\" class=\"data row10 col2\" >0.156102</td>\n",
       "                        <td id=\"T_377e6f8c_00c5_11eb_8681_525400f89d54row10_col3\" class=\"data row10 col3\" >0.095987</td>\n",
       "                        <td id=\"T_377e6f8c_00c5_11eb_8681_525400f89d54row10_col4\" class=\"data row10 col4\" >0.023432</td>\n",
       "                        <td id=\"T_377e6f8c_00c5_11eb_8681_525400f89d54row10_col5\" class=\"data row10 col5\" >0.557838</td>\n",
       "                        <td id=\"T_377e6f8c_00c5_11eb_8681_525400f89d54row10_col6\" class=\"data row10 col6\" >0.665865</td>\n",
       "                        <td id=\"T_377e6f8c_00c5_11eb_8681_525400f89d54row10_col7\" class=\"data row10 col7\" >0.518455</td>\n",
       "                        <td id=\"T_377e6f8c_00c5_11eb_8681_525400f89d54row10_col8\" class=\"data row10 col8\" >0.647979</td>\n",
       "                        <td id=\"T_377e6f8c_00c5_11eb_8681_525400f89d54row10_col9\" class=\"data row10 col9\" >0.654763</td>\n",
       "                        <td id=\"T_377e6f8c_00c5_11eb_8681_525400f89d54row10_col10\" class=\"data row10 col10\" >1.000000</td>\n",
       "                        <td id=\"T_377e6f8c_00c5_11eb_8681_525400f89d54row10_col11\" class=\"data row10 col11\" >0.772362</td>\n",
       "                        <td id=\"T_377e6f8c_00c5_11eb_8681_525400f89d54row10_col12\" class=\"data row10 col12\" >0.582879</td>\n",
       "                        <td id=\"T_377e6f8c_00c5_11eb_8681_525400f89d54row10_col13\" class=\"data row10 col13\" >0.486092</td>\n",
       "                        <td id=\"T_377e6f8c_00c5_11eb_8681_525400f89d54row10_col14\" class=\"data row10 col14\" >0.408947</td>\n",
       "                        <td id=\"T_377e6f8c_00c5_11eb_8681_525400f89d54row10_col15\" class=\"data row10 col15\" >0.447776</td>\n",
       "                        <td id=\"T_377e6f8c_00c5_11eb_8681_525400f89d54row10_col16\" class=\"data row10 col16\" >0.775565</td>\n",
       "            </tr>\n",
       "            <tr>\n",
       "                        <th id=\"T_377e6f8c_00c5_11eb_8681_525400f89d54level0_row11\" class=\"row_heading level0 row11\" >Internal_movement_restrictions</th>\n",
       "                        <td id=\"T_377e6f8c_00c5_11eb_8681_525400f89d54row11_col0\" class=\"data row11 col0\" >-0.151393</td>\n",
       "                        <td id=\"T_377e6f8c_00c5_11eb_8681_525400f89d54row11_col1\" class=\"data row11 col1\" >-0.048432</td>\n",
       "                        <td id=\"T_377e6f8c_00c5_11eb_8681_525400f89d54row11_col2\" class=\"data row11 col2\" >-0.054203</td>\n",
       "                        <td id=\"T_377e6f8c_00c5_11eb_8681_525400f89d54row11_col3\" class=\"data row11 col3\" >-0.132596</td>\n",
       "                        <td id=\"T_377e6f8c_00c5_11eb_8681_525400f89d54row11_col4\" class=\"data row11 col4\" >-0.099835</td>\n",
       "                        <td id=\"T_377e6f8c_00c5_11eb_8681_525400f89d54row11_col5\" class=\"data row11 col5\" >0.527324</td>\n",
       "                        <td id=\"T_377e6f8c_00c5_11eb_8681_525400f89d54row11_col6\" class=\"data row11 col6\" >0.647298</td>\n",
       "                        <td id=\"T_377e6f8c_00c5_11eb_8681_525400f89d54row11_col7\" class=\"data row11 col7\" >0.617812</td>\n",
       "                        <td id=\"T_377e6f8c_00c5_11eb_8681_525400f89d54row11_col8\" class=\"data row11 col8\" >0.744063</td>\n",
       "                        <td id=\"T_377e6f8c_00c5_11eb_8681_525400f89d54row11_col9\" class=\"data row11 col9\" >0.732023</td>\n",
       "                        <td id=\"T_377e6f8c_00c5_11eb_8681_525400f89d54row11_col10\" class=\"data row11 col10\" >0.772362</td>\n",
       "                        <td id=\"T_377e6f8c_00c5_11eb_8681_525400f89d54row11_col11\" class=\"data row11 col11\" >1.000000</td>\n",
       "                        <td id=\"T_377e6f8c_00c5_11eb_8681_525400f89d54row11_col12\" class=\"data row11 col12\" >0.541604</td>\n",
       "                        <td id=\"T_377e6f8c_00c5_11eb_8681_525400f89d54row11_col13\" class=\"data row11 col13\" >0.578419</td>\n",
       "                        <td id=\"T_377e6f8c_00c5_11eb_8681_525400f89d54row11_col14\" class=\"data row11 col14\" >0.512801</td>\n",
       "                        <td id=\"T_377e6f8c_00c5_11eb_8681_525400f89d54row11_col15\" class=\"data row11 col15\" >0.384504</td>\n",
       "                        <td id=\"T_377e6f8c_00c5_11eb_8681_525400f89d54row11_col16\" class=\"data row11 col16\" >0.773156</td>\n",
       "            </tr>\n",
       "            <tr>\n",
       "                        <th id=\"T_377e6f8c_00c5_11eb_8681_525400f89d54level0_row12\" class=\"row_heading level0 row12\" >International_movement_restrictions</th>\n",
       "                        <td id=\"T_377e6f8c_00c5_11eb_8681_525400f89d54row12_col0\" class=\"data row12 col0\" >-0.170166</td>\n",
       "                        <td id=\"T_377e6f8c_00c5_11eb_8681_525400f89d54row12_col1\" class=\"data row12 col1\" >0.198971</td>\n",
       "                        <td id=\"T_377e6f8c_00c5_11eb_8681_525400f89d54row12_col2\" class=\"data row12 col2\" >0.221523</td>\n",
       "                        <td id=\"T_377e6f8c_00c5_11eb_8681_525400f89d54row12_col3\" class=\"data row12 col3\" >0.043406</td>\n",
       "                        <td id=\"T_377e6f8c_00c5_11eb_8681_525400f89d54row12_col4\" class=\"data row12 col4\" >-0.052705</td>\n",
       "                        <td id=\"T_377e6f8c_00c5_11eb_8681_525400f89d54row12_col5\" class=\"data row12 col5\" >0.424855</td>\n",
       "                        <td id=\"T_377e6f8c_00c5_11eb_8681_525400f89d54row12_col6\" class=\"data row12 col6\" >0.474250</td>\n",
       "                        <td id=\"T_377e6f8c_00c5_11eb_8681_525400f89d54row12_col7\" class=\"data row12 col7\" >0.539881</td>\n",
       "                        <td id=\"T_377e6f8c_00c5_11eb_8681_525400f89d54row12_col8\" class=\"data row12 col8\" >0.581611</td>\n",
       "                        <td id=\"T_377e6f8c_00c5_11eb_8681_525400f89d54row12_col9\" class=\"data row12 col9\" >0.457693</td>\n",
       "                        <td id=\"T_377e6f8c_00c5_11eb_8681_525400f89d54row12_col10\" class=\"data row12 col10\" >0.582879</td>\n",
       "                        <td id=\"T_377e6f8c_00c5_11eb_8681_525400f89d54row12_col11\" class=\"data row12 col11\" >0.541604</td>\n",
       "                        <td id=\"T_377e6f8c_00c5_11eb_8681_525400f89d54row12_col12\" class=\"data row12 col12\" >1.000000</td>\n",
       "                        <td id=\"T_377e6f8c_00c5_11eb_8681_525400f89d54row12_col13\" class=\"data row12 col13\" >0.498937</td>\n",
       "                        <td id=\"T_377e6f8c_00c5_11eb_8681_525400f89d54row12_col14\" class=\"data row12 col14\" >0.569549</td>\n",
       "                        <td id=\"T_377e6f8c_00c5_11eb_8681_525400f89d54row12_col15\" class=\"data row12 col15\" >0.515671</td>\n",
       "                        <td id=\"T_377e6f8c_00c5_11eb_8681_525400f89d54row12_col16\" class=\"data row12 col16\" >0.646842</td>\n",
       "            </tr>\n",
       "            <tr>\n",
       "                        <th id=\"T_377e6f8c_00c5_11eb_8681_525400f89d54level0_row13\" class=\"row_heading level0 row13\" >Information_campaigns</th>\n",
       "                        <td id=\"T_377e6f8c_00c5_11eb_8681_525400f89d54row13_col0\" class=\"data row13 col0\" >-0.008015</td>\n",
       "                        <td id=\"T_377e6f8c_00c5_11eb_8681_525400f89d54row13_col1\" class=\"data row13 col1\" >-0.337028</td>\n",
       "                        <td id=\"T_377e6f8c_00c5_11eb_8681_525400f89d54row13_col2\" class=\"data row13 col2\" >-0.360860</td>\n",
       "                        <td id=\"T_377e6f8c_00c5_11eb_8681_525400f89d54row13_col3\" class=\"data row13 col3\" >-0.382874</td>\n",
       "                        <td id=\"T_377e6f8c_00c5_11eb_8681_525400f89d54row13_col4\" class=\"data row13 col4\" >0.092720</td>\n",
       "                        <td id=\"T_377e6f8c_00c5_11eb_8681_525400f89d54row13_col5\" class=\"data row13 col5\" >0.689436</td>\n",
       "                        <td id=\"T_377e6f8c_00c5_11eb_8681_525400f89d54row13_col6\" class=\"data row13 col6\" >0.778847</td>\n",
       "                        <td id=\"T_377e6f8c_00c5_11eb_8681_525400f89d54row13_col7\" class=\"data row13 col7\" >0.895335</td>\n",
       "                        <td id=\"T_377e6f8c_00c5_11eb_8681_525400f89d54row13_col8\" class=\"data row13 col8\" >0.831746</td>\n",
       "                        <td id=\"T_377e6f8c_00c5_11eb_8681_525400f89d54row13_col9\" class=\"data row13 col9\" >0.570618</td>\n",
       "                        <td id=\"T_377e6f8c_00c5_11eb_8681_525400f89d54row13_col10\" class=\"data row13 col10\" >0.486092</td>\n",
       "                        <td id=\"T_377e6f8c_00c5_11eb_8681_525400f89d54row13_col11\" class=\"data row13 col11\" >0.578419</td>\n",
       "                        <td id=\"T_377e6f8c_00c5_11eb_8681_525400f89d54row13_col12\" class=\"data row13 col12\" >0.498937</td>\n",
       "                        <td id=\"T_377e6f8c_00c5_11eb_8681_525400f89d54row13_col13\" class=\"data row13 col13\" >1.000000</td>\n",
       "                        <td id=\"T_377e6f8c_00c5_11eb_8681_525400f89d54row13_col14\" class=\"data row13 col14\" >0.665065</td>\n",
       "                        <td id=\"T_377e6f8c_00c5_11eb_8681_525400f89d54row13_col15\" class=\"data row13 col15\" >0.562391</td>\n",
       "                        <td id=\"T_377e6f8c_00c5_11eb_8681_525400f89d54row13_col16\" class=\"data row13 col16\" >0.858908</td>\n",
       "            </tr>\n",
       "            <tr>\n",
       "                        <th id=\"T_377e6f8c_00c5_11eb_8681_525400f89d54level0_row14\" class=\"row_heading level0 row14\" >Testing_policy</th>\n",
       "                        <td id=\"T_377e6f8c_00c5_11eb_8681_525400f89d54row14_col0\" class=\"data row14 col0\" >-0.064260</td>\n",
       "                        <td id=\"T_377e6f8c_00c5_11eb_8681_525400f89d54row14_col1\" class=\"data row14 col1\" >-0.360942</td>\n",
       "                        <td id=\"T_377e6f8c_00c5_11eb_8681_525400f89d54row14_col2\" class=\"data row14 col2\" >-0.312524</td>\n",
       "                        <td id=\"T_377e6f8c_00c5_11eb_8681_525400f89d54row14_col3\" class=\"data row14 col3\" >-0.451136</td>\n",
       "                        <td id=\"T_377e6f8c_00c5_11eb_8681_525400f89d54row14_col4\" class=\"data row14 col4\" >-0.127519</td>\n",
       "                        <td id=\"T_377e6f8c_00c5_11eb_8681_525400f89d54row14_col5\" class=\"data row14 col5\" >0.491258</td>\n",
       "                        <td id=\"T_377e6f8c_00c5_11eb_8681_525400f89d54row14_col6\" class=\"data row14 col6\" >0.492025</td>\n",
       "                        <td id=\"T_377e6f8c_00c5_11eb_8681_525400f89d54row14_col7\" class=\"data row14 col7\" >0.661081</td>\n",
       "                        <td id=\"T_377e6f8c_00c5_11eb_8681_525400f89d54row14_col8\" class=\"data row14 col8\" >0.708091</td>\n",
       "                        <td id=\"T_377e6f8c_00c5_11eb_8681_525400f89d54row14_col9\" class=\"data row14 col9\" >0.578256</td>\n",
       "                        <td id=\"T_377e6f8c_00c5_11eb_8681_525400f89d54row14_col10\" class=\"data row14 col10\" >0.408947</td>\n",
       "                        <td id=\"T_377e6f8c_00c5_11eb_8681_525400f89d54row14_col11\" class=\"data row14 col11\" >0.512801</td>\n",
       "                        <td id=\"T_377e6f8c_00c5_11eb_8681_525400f89d54row14_col12\" class=\"data row14 col12\" >0.569549</td>\n",
       "                        <td id=\"T_377e6f8c_00c5_11eb_8681_525400f89d54row14_col13\" class=\"data row14 col13\" >0.665065</td>\n",
       "                        <td id=\"T_377e6f8c_00c5_11eb_8681_525400f89d54row14_col14\" class=\"data row14 col14\" >1.000000</td>\n",
       "                        <td id=\"T_377e6f8c_00c5_11eb_8681_525400f89d54row14_col15\" class=\"data row14 col15\" >0.404125</td>\n",
       "                        <td id=\"T_377e6f8c_00c5_11eb_8681_525400f89d54row14_col16\" class=\"data row14 col16\" >0.573728</td>\n",
       "            </tr>\n",
       "            <tr>\n",
       "                        <th id=\"T_377e6f8c_00c5_11eb_8681_525400f89d54level0_row15\" class=\"row_heading level0 row15\" >Contact_tracing</th>\n",
       "                        <td id=\"T_377e6f8c_00c5_11eb_8681_525400f89d54row15_col0\" class=\"data row15 col0\" >-0.167358</td>\n",
       "                        <td id=\"T_377e6f8c_00c5_11eb_8681_525400f89d54row15_col1\" class=\"data row15 col1\" >0.027356</td>\n",
       "                        <td id=\"T_377e6f8c_00c5_11eb_8681_525400f89d54row15_col2\" class=\"data row15 col2\" >0.004312</td>\n",
       "                        <td id=\"T_377e6f8c_00c5_11eb_8681_525400f89d54row15_col3\" class=\"data row15 col3\" >-0.119950</td>\n",
       "                        <td id=\"T_377e6f8c_00c5_11eb_8681_525400f89d54row15_col4\" class=\"data row15 col4\" >0.177384</td>\n",
       "                        <td id=\"T_377e6f8c_00c5_11eb_8681_525400f89d54row15_col5\" class=\"data row15 col5\" >0.260003</td>\n",
       "                        <td id=\"T_377e6f8c_00c5_11eb_8681_525400f89d54row15_col6\" class=\"data row15 col6\" >0.324739</td>\n",
       "                        <td id=\"T_377e6f8c_00c5_11eb_8681_525400f89d54row15_col7\" class=\"data row15 col7\" >0.612138</td>\n",
       "                        <td id=\"T_377e6f8c_00c5_11eb_8681_525400f89d54row15_col8\" class=\"data row15 col8\" >0.399930</td>\n",
       "                        <td id=\"T_377e6f8c_00c5_11eb_8681_525400f89d54row15_col9\" class=\"data row15 col9\" >0.146536</td>\n",
       "                        <td id=\"T_377e6f8c_00c5_11eb_8681_525400f89d54row15_col10\" class=\"data row15 col10\" >0.447776</td>\n",
       "                        <td id=\"T_377e6f8c_00c5_11eb_8681_525400f89d54row15_col11\" class=\"data row15 col11\" >0.384504</td>\n",
       "                        <td id=\"T_377e6f8c_00c5_11eb_8681_525400f89d54row15_col12\" class=\"data row15 col12\" >0.515671</td>\n",
       "                        <td id=\"T_377e6f8c_00c5_11eb_8681_525400f89d54row15_col13\" class=\"data row15 col13\" >0.562391</td>\n",
       "                        <td id=\"T_377e6f8c_00c5_11eb_8681_525400f89d54row15_col14\" class=\"data row15 col14\" >0.404125</td>\n",
       "                        <td id=\"T_377e6f8c_00c5_11eb_8681_525400f89d54row15_col15\" class=\"data row15 col15\" >1.000000</td>\n",
       "                        <td id=\"T_377e6f8c_00c5_11eb_8681_525400f89d54row15_col16\" class=\"data row15 col16\" >0.508830</td>\n",
       "            </tr>\n",
       "            <tr>\n",
       "                        <th id=\"T_377e6f8c_00c5_11eb_8681_525400f89d54level0_row16\" class=\"row_heading level0 row16\" >Stringency_index</th>\n",
       "                        <td id=\"T_377e6f8c_00c5_11eb_8681_525400f89d54row16_col0\" class=\"data row16 col0\" >-0.088314</td>\n",
       "                        <td id=\"T_377e6f8c_00c5_11eb_8681_525400f89d54row16_col1\" class=\"data row16 col1\" >-0.125381</td>\n",
       "                        <td id=\"T_377e6f8c_00c5_11eb_8681_525400f89d54row16_col2\" class=\"data row16 col2\" >-0.157313</td>\n",
       "                        <td id=\"T_377e6f8c_00c5_11eb_8681_525400f89d54row16_col3\" class=\"data row16 col3\" >-0.167174</td>\n",
       "                        <td id=\"T_377e6f8c_00c5_11eb_8681_525400f89d54row16_col4\" class=\"data row16 col4\" >0.099191</td>\n",
       "                        <td id=\"T_377e6f8c_00c5_11eb_8681_525400f89d54row16_col5\" class=\"data row16 col5\" >0.805906</td>\n",
       "                        <td id=\"T_377e6f8c_00c5_11eb_8681_525400f89d54row16_col6\" class=\"data row16 col6\" >0.891903</td>\n",
       "                        <td id=\"T_377e6f8c_00c5_11eb_8681_525400f89d54row16_col7\" class=\"data row16 col7\" >0.850333</td>\n",
       "                        <td id=\"T_377e6f8c_00c5_11eb_8681_525400f89d54row16_col8\" class=\"data row16 col8\" >0.881040</td>\n",
       "                        <td id=\"T_377e6f8c_00c5_11eb_8681_525400f89d54row16_col9\" class=\"data row16 col9\" >0.761516</td>\n",
       "                        <td id=\"T_377e6f8c_00c5_11eb_8681_525400f89d54row16_col10\" class=\"data row16 col10\" >0.775565</td>\n",
       "                        <td id=\"T_377e6f8c_00c5_11eb_8681_525400f89d54row16_col11\" class=\"data row16 col11\" >0.773156</td>\n",
       "                        <td id=\"T_377e6f8c_00c5_11eb_8681_525400f89d54row16_col12\" class=\"data row16 col12\" >0.646842</td>\n",
       "                        <td id=\"T_377e6f8c_00c5_11eb_8681_525400f89d54row16_col13\" class=\"data row16 col13\" >0.858908</td>\n",
       "                        <td id=\"T_377e6f8c_00c5_11eb_8681_525400f89d54row16_col14\" class=\"data row16 col14\" >0.573728</td>\n",
       "                        <td id=\"T_377e6f8c_00c5_11eb_8681_525400f89d54row16_col15\" class=\"data row16 col15\" >0.508830</td>\n",
       "                        <td id=\"T_377e6f8c_00c5_11eb_8681_525400f89d54row16_col16\" class=\"data row16 col16\" >1.000000</td>\n",
       "            </tr>\n",
       "    </tbody></table>"
      ],
      "text/plain": [
       "<pandas.io.formats.style.Styler at 0x7f5bdcf42340>"
      ]
     },
     "execution_count": 21,
     "metadata": {},
     "output_type": "execute_result"
    }
   ],
   "source": [
    "# Correlation\n",
    "df = track_df.copy()\n",
    "df.corr().style.background_gradient(axis=None)"
   ]
  },
  {
   "cell_type": "code",
   "execution_count": 22,
   "metadata": {
    "collapsed": false
   },
   "outputs": [
    {
     "data": {
      "image/png": "[encoded data removed]",
      "text/plain": [
       "<Figure size 432x288 with 1 Axes>"
      ]
     },
     "metadata": {},
     "output_type": "display_data"
    }
   ],
   "source": [
    "# Scatter plot of Stringency index and Rt\n",
    "df = track_df.copy()\n",
    "sns.scatterplot(data=df, x=\"Stringency_index\", y=\"Rt\", hue=\"Country\", legend=\"brief\", marker=\"+\")\n",
    "bbox_to_anchor=(1.02, 0)\n",
    "bbox_loc=\"lower left\"\n",
    "plt.legend(bbox_to_anchor=bbox_to_anchor, loc=bbox_loc, borderaxespad=0)\n",
    "plt.title(\"Relationship of Stringency index and reproduction number\")\n",
    "plt.ylabel(\"Reproduction number\")\n",
    "plt.xlabel(\"Stringency index\")\n",
    "plt.show()"
   ]
  }
 ],
 "metadata": {
  "kernelspec": {
   "display_name": "Python 3.8.2 64-bit ('.venv': venv)",
   "name": "python_defaultSpec_1597669925034"
  },
  "language_info": {
   "codemirror_mode": {
    "name": "ipython",
    "version": 3
   },
   "file_extension": ".py",
   "mimetype": "text/x-python",
   "name": "python",
   "nbconvert_exporter": "python",
   "pygments_lexer": "ipython3",
   "version": "3.8.2-final"
  }
 },
 "nbformat": 4,
 "nbformat_minor": 4
}
