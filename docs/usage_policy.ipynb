{
 "cells": [
  {
   "cell_type": "markdown",
   "metadata": {},
   "source": [
    "# Usage (details: policy measures)\n",
    "Here, we will analyse the relationship of policy measures and parameter values of SIR-derived ODE models. Policy measures are tracked by [Oxford Covid-19 Government Response Tracker (OxCGRT)](https://github.com/OxCGRT/covid-policy-tracker)."
   ]
  },
  {
   "cell_type": "markdown",
   "metadata": {},
   "source": [
    "## Preparation"
   ]
  },
  {
   "cell_type": "code",
   "execution_count": 1,
   "metadata": {
    "collapsed": false
   },
   "outputs": [],
   "source": [
    "# Standard users\n",
    "# !pip install covsirphy\n",
    "# Developers (Note: this notebook is in example directory)\n",
    "import os\n",
    "os.chdir(\"../\")"
   ]
  },
  {
   "cell_type": "code",
   "execution_count": 2,
   "metadata": {
    "collapsed": false
   },
   "outputs": [],
   "source": [
    "from pprint import pprint"
   ]
  },
  {
   "cell_type": "code",
   "execution_count": 3,
   "metadata": {
    "collapsed": false
   },
   "outputs": [
    {
     "data": {
      "text/plain": [
       "'2.8.3'"
      ]
     },
     "execution_count": 3,
     "metadata": {},
     "output_type": "execute_result"
    }
   ],
   "source": [
    "import covsirphy as cs\n",
    "cs.__version__"
   ]
  },
  {
   "cell_type": "code",
   "execution_count": 4,
   "metadata": {
    "collapsed": false,
    "tags": []
   },
   "outputs": [
    {
     "name": "stdout",
     "output_type": "stream",
     "text": [
      "(Secondary source) Guidotti, E., Ardia, D., (2020), \"COVID-19 Data Hub\", Journal of Open Source Software 5(51):2376, doi: 10.21105/joss.02376.\n",
      "We can get Citation list of primary sources with DataLoader(...).covid19dh_citation"
     ]
    },
    {
     "name": "stdout",
     "output_type": "stream",
     "text": [
      "\n"
     ]
    }
   ],
   "source": [
    "# Standard users and developers\n",
    "data_loader = cs.DataLoader(\"input\")\n",
    "# The number of cases (JHU style)\n",
    "jhu_data = data_loader.jhu(verbose=False)\n",
    "# Population in each country\n",
    "population_data = data_loader.population(verbose=False)\n",
    "# Government Response Tracker (OxCGRT)\n",
    "oxcgrt_data = data_loader.oxcgrt(verbose=False)\n",
    "# Description/citation\n",
    "print(oxcgrt_data.citation)"
   ]
  },
  {
   "cell_type": "markdown",
   "metadata": {},
   "source": [
    "## Class for policy measure analysis\n",
    "We will `PolicyMeasures` class to find relationship of policy measures and parameter values of SIR-derived ODE models."
   ]
  },
  {
   "cell_type": "code",
   "execution_count": 5,
   "metadata": {
    "collapsed": false,
    "tags": []
   },
   "outputs": [
    {
     "data": {
      "text/plain": [
       "184"
      ]
     },
     "execution_count": 5,
     "metadata": {},
     "output_type": "execute_result"
    }
   ],
   "source": [
    "# Create analyser with tau value 360 [min] (can be changed)\n",
    "analyser = cs.PolicyMeasures(jhu_data, population_data, oxcgrt_data, tau=360)\n",
    "# The number of registerd countries\n",
    "len(analyser.countries)"
   ]
  },
  {
   "cell_type": "code",
   "execution_count": 6,
   "metadata": {
    "collapsed": false
   },
   "outputs": [
    {
     "data": {
      "text/plain": [
       "covsirphy.analysis.scenario.Scenario"
      ]
     },
     "execution_count": 6,
     "metadata": {},
     "output_type": "execute_result"
    }
   ],
   "source": [
    "# We can get Scenario instance for detailed scenario analysis\n",
    "type(analyser.scenario(\"Japan\"))"
   ]
  },
  {
   "cell_type": "markdown",
   "metadata": {},
   "source": [
    "## Set phases with S-R trend analysis\n",
    "We will perform S-R trend analysis to set phases in all countries. Countries which do not have **12th phases** will be un-registered for the next analysis. This number will be adjusted for your analysis."
   ]
  },
  {
   "cell_type": "code",
   "execution_count": 7,
   "metadata": {
    "collapsed": false
   },
   "outputs": [
    {
     "name": "stdout",
     "output_type": "stream",
     "text": [
      "{"
     ]
    },
    {
     "name": "stdout",
     "output_type": "stream",
     "text": [
      "4"
     ]
    },
    {
     "name": "stdout",
     "output_type": "stream",
     "text": [
      ": "
     ]
    },
    {
     "name": "stdout",
     "output_type": "stream",
     "text": [
      "['Myanmar', 'Georgia', 'Hungary', 'Fiji', 'Tanzania']"
     ]
    },
    {
     "name": "stdout",
     "output_type": "stream",
     "text": [
      ",\n",
      " "
     ]
    },
    {
     "name": "stdout",
     "output_type": "stream",
     "text": [
      "5"
     ]
    },
    {
     "name": "stdout",
     "output_type": "stream",
     "text": [
      ": "
     ]
    },
    {
     "name": "stdout",
     "output_type": "stream",
     "text": [
      "["
     ]
    },
    {
     "name": "stdout",
     "output_type": "stream",
     "text": [
      "'Jordan'"
     ]
    },
    {
     "name": "stdout",
     "output_type": "stream",
     "text": [
      ", "
     ]
    },
    {
     "name": "stdout",
     "output_type": "stream",
     "text": [
      "'Belize'"
     ]
    },
    {
     "name": "stdout",
     "output_type": "stream",
     "text": [
      ", "
     ]
    },
    {
     "name": "stdout",
     "output_type": "stream",
     "text": [
      "'Dominica'"
     ]
    },
    {
     "name": "stdout",
     "output_type": "stream",
     "text": [
      ", "
     ]
    },
    {
     "name": "stdout",
     "output_type": "stream",
     "text": [
      "'Papua New Guinea'"
     ]
    },
    {
     "name": "stdout",
     "output_type": "stream",
     "text": [
      ", "
     ]
    },
    {
     "name": "stdout",
     "output_type": "stream",
     "text": [
      "'Uganda'"
     ]
    },
    {
     "name": "stdout",
     "output_type": "stream",
     "text": [
      ", "
     ]
    },
    {
     "name": "stdout",
     "output_type": "stream",
     "text": [
      "'Libya'"
     ]
    },
    {
     "name": "stdout",
     "output_type": "stream",
     "text": [
      ",\n",
      "     "
     ]
    },
    {
     "name": "stdout",
     "output_type": "stream",
     "text": [
      "'Grenada'"
     ]
    },
    {
     "name": "stdout",
     "output_type": "stream",
     "text": [
      ", "
     ]
    },
    {
     "name": "stdout",
     "output_type": "stream",
     "text": [
      "'Brunei'"
     ]
    },
    {
     "name": "stdout",
     "output_type": "stream",
     "text": [
      ", "
     ]
    },
    {
     "name": "stdout",
     "output_type": "stream",
     "text": [
      "'Tunisia'"
     ]
    },
    {
     "name": "stdout",
     "output_type": "stream",
     "text": [
      ", "
     ]
    },
    {
     "name": "stdout",
     "output_type": "stream",
     "text": [
      "'Seychelles'"
     ]
    },
    {
     "name": "stdout",
     "output_type": "stream",
     "text": [
      "]"
     ]
    },
    {
     "name": "stdout",
     "output_type": "stream",
     "text": [
      ",\n",
      " "
     ]
    },
    {
     "name": "stdout",
     "output_type": "stream",
     "text": [
      "6"
     ]
    },
    {
     "name": "stdout",
     "output_type": "stream",
     "text": [
      ": "
     ]
    },
    {
     "name": "stdout",
     "output_type": "stream",
     "text": [
      "["
     ]
    },
    {
     "name": "stdout",
     "output_type": "stream",
     "text": [
      "'Trinidad and Tobago'"
     ]
    },
    {
     "name": "stdout",
     "output_type": "stream",
     "text": [
      ", "
     ]
    },
    {
     "name": "stdout",
     "output_type": "stream",
     "text": [
      "'Jamaica'"
     ]
    },
    {
     "name": "stdout",
     "output_type": "stream",
     "text": [
      ", "
     ]
    },
    {
     "name": "stdout",
     "output_type": "stream",
     "text": [
      "'Slovakia'"
     ]
    },
    {
     "name": "stdout",
     "output_type": "stream",
     "text": [
      ", "
     ]
    },
    {
     "name": "stdout",
     "output_type": "stream",
     "text": [
      "'Namibia'"
     ]
    },
    {
     "name": "stdout",
     "output_type": "stream",
     "text": [
      ",\n",
      "     "
     ]
    },
    {
     "name": "stdout",
     "output_type": "stream",
     "text": [
      "'Equatorial Guinea'"
     ]
    },
    {
     "name": "stdout",
     "output_type": "stream",
     "text": [
      ", "
     ]
    },
    {
     "name": "stdout",
     "output_type": "stream",
     "text": [
      "'Ireland'"
     ]
    },
    {
     "name": "stdout",
     "output_type": "stream",
     "text": [
      ", "
     ]
    },
    {
     "name": "stdout",
     "output_type": "stream",
     "text": [
      "'Mauritius'"
     ]
    },
    {
     "name": "stdout",
     "output_type": "stream",
     "text": [
      ", "
     ]
    },
    {
     "name": "stdout",
     "output_type": "stream",
     "text": [
      "'Yemen'"
     ]
    },
    {
     "name": "stdout",
     "output_type": "stream",
     "text": [
      ", "
     ]
    },
    {
     "name": "stdout",
     "output_type": "stream",
     "text": [
      "'Czech Republic'"
     ]
    },
    {
     "name": "stdout",
     "output_type": "stream",
     "text": [
      ",\n",
      "     "
     ]
    },
    {
     "name": "stdout",
     "output_type": "stream",
     "text": [
      "'Lebanon'"
     ]
    },
    {
     "name": "stdout",
     "output_type": "stream",
     "text": [
      ", "
     ]
    },
    {
     "name": "stdout",
     "output_type": "stream",
     "text": [
      "'Andorra'"
     ]
    },
    {
     "name": "stdout",
     "output_type": "stream",
     "text": [
      ", "
     ]
    },
    {
     "name": "stdout",
     "output_type": "stream",
     "text": [
      "'Antigua and Barbuda'"
     ]
    },
    {
     "name": "stdout",
     "output_type": "stream",
     "text": [
      ", "
     ]
    },
    {
     "name": "stdout",
     "output_type": "stream",
     "text": [
      "'Central African Republic'"
     ]
    },
    {
     "name": "stdout",
     "output_type": "stream",
     "text": [
      ",\n",
      "     "
     ]
    },
    {
     "name": "stdout",
     "output_type": "stream",
     "text": [
      "'Guyana'"
     ]
    },
    {
     "name": "stdout",
     "output_type": "stream",
     "text": [
      ", "
     ]
    },
    {
     "name": "stdout",
     "output_type": "stream",
     "text": [
      "'Cambodia'"
     ]
    },
    {
     "name": "stdout",
     "output_type": "stream",
     "text": [
      ", "
     ]
    },
    {
     "name": "stdout",
     "output_type": "stream",
     "text": [
      "'Kyrgyzstan'"
     ]
    },
    {
     "name": "stdout",
     "output_type": "stream",
     "text": [
      "]"
     ]
    },
    {
     "name": "stdout",
     "output_type": "stream",
     "text": [
      ",\n",
      " "
     ]
    },
    {
     "name": "stdout",
     "output_type": "stream",
     "text": [
      "7"
     ]
    },
    {
     "name": "stdout",
     "output_type": "stream",
     "text": [
      ": "
     ]
    },
    {
     "name": "stdout",
     "output_type": "stream",
     "text": [
      "["
     ]
    },
    {
     "name": "stdout",
     "output_type": "stream",
     "text": [
      "'Nepal'"
     ]
    },
    {
     "name": "stdout",
     "output_type": "stream",
     "text": [
      ", "
     ]
    },
    {
     "name": "stdout",
     "output_type": "stream",
     "text": [
      "'Vietnam'"
     ]
    },
    {
     "name": "stdout",
     "output_type": "stream",
     "text": [
      ", "
     ]
    },
    {
     "name": "stdout",
     "output_type": "stream",
     "text": [
      "'Montenegro'"
     ]
    },
    {
     "name": "stdout",
     "output_type": "stream",
     "text": [
      ", "
     ]
    },
    {
     "name": "stdout",
     "output_type": "stream",
     "text": [
      "'Palestine'"
     ]
    },
    {
     "name": "stdout",
     "output_type": "stream",
     "text": [
      ", "
     ]
    },
    {
     "name": "stdout",
     "output_type": "stream",
     "text": [
      "'Gambia'"
     ]
    },
    {
     "name": "stdout",
     "output_type": "stream",
     "text": [
      ", "
     ]
    },
    {
     "name": "stdout",
     "output_type": "stream",
     "text": [
      "'Malawi'"
     ]
    },
    {
     "name": "stdout",
     "output_type": "stream",
     "text": [
      ",\n",
      "     "
     ]
    },
    {
     "name": "stdout",
     "output_type": "stream",
     "text": [
      "'Eritrea'"
     ]
    },
    {
     "name": "stdout",
     "output_type": "stream",
     "text": [
      ", "
     ]
    },
    {
     "name": "stdout",
     "output_type": "stream",
     "text": [
      "'Botswana'"
     ]
    },
    {
     "name": "stdout",
     "output_type": "stream",
     "text": [
      ", "
     ]
    },
    {
     "name": "stdout",
     "output_type": "stream",
     "text": [
      "'Zambia'"
     ]
    },
    {
     "name": "stdout",
     "output_type": "stream",
     "text": [
      ", "
     ]
    },
    {
     "name": "stdout",
     "output_type": "stream",
     "text": [
      "'Spain'"
     ]
    },
    {
     "name": "stdout",
     "output_type": "stream",
     "text": [
      ", "
     ]
    },
    {
     "name": "stdout",
     "output_type": "stream",
     "text": [
      "'Slovenia'"
     ]
    },
    {
     "name": "stdout",
     "output_type": "stream",
     "text": [
      ", "
     ]
    },
    {
     "name": "stdout",
     "output_type": "stream",
     "text": [
      "'Croatia'"
     ]
    },
    {
     "name": "stdout",
     "output_type": "stream",
     "text": [
      ",\n",
      "     "
     ]
    },
    {
     "name": "stdout",
     "output_type": "stream",
     "text": [
      "'Saint Vincent and the Grenadines'"
     ]
    },
    {
     "name": "stdout",
     "output_type": "stream",
     "text": [
      ", "
     ]
    },
    {
     "name": "stdout",
     "output_type": "stream",
     "text": [
      "'Afghanistan'"
     ]
    },
    {
     "name": "stdout",
     "output_type": "stream",
     "text": [
      ", "
     ]
    },
    {
     "name": "stdout",
     "output_type": "stream",
     "text": [
      "'Mozambique'"
     ]
    },
    {
     "name": "stdout",
     "output_type": "stream",
     "text": [
      ",\n",
      "     "
     ]
    },
    {
     "name": "stdout",
     "output_type": "stream",
     "text": [
      "'Sao Tome and Principe'"
     ]
    },
    {
     "name": "stdout",
     "output_type": "stream",
     "text": [
      ", "
     ]
    },
    {
     "name": "stdout",
     "output_type": "stream",
     "text": [
      "'Cyprus'"
     ]
    },
    {
     "name": "stdout",
     "output_type": "stream",
     "text": [
      ", "
     ]
    },
    {
     "name": "stdout",
     "output_type": "stream",
     "text": [
      "'Kazakhstan'"
     ]
    },
    {
     "name": "stdout",
     "output_type": "stream",
     "text": [
      ", "
     ]
    },
    {
     "name": "stdout",
     "output_type": "stream",
     "text": [
      "'Norway'"
     ]
    },
    {
     "name": "stdout",
     "output_type": "stream",
     "text": [
      ", "
     ]
    },
    {
     "name": "stdout",
     "output_type": "stream",
     "text": [
      "'South Sudan'"
     ]
    },
    {
     "name": "stdout",
     "output_type": "stream",
     "text": [
      ",\n",
      "     "
     ]
    },
    {
     "name": "stdout",
     "output_type": "stream",
     "text": [
      "'New Zealand'"
     ]
    },
    {
     "name": "stdout",
     "output_type": "stream",
     "text": [
      ", "
     ]
    },
    {
     "name": "stdout",
     "output_type": "stream",
     "text": [
      "'Iceland'"
     ]
    },
    {
     "name": "stdout",
     "output_type": "stream",
     "text": [
      ", "
     ]
    },
    {
     "name": "stdout",
     "output_type": "stream",
     "text": [
      "'Guinea-Bissau'"
     ]
    },
    {
     "name": "stdout",
     "output_type": "stream",
     "text": [
      ", "
     ]
    },
    {
     "name": "stdout",
     "output_type": "stream",
     "text": [
      "'Paraguay'"
     ]
    },
    {
     "name": "stdout",
     "output_type": "stream",
     "text": [
      ", "
     ]
    },
    {
     "name": "stdout",
     "output_type": "stream",
     "text": [
      "'Rwanda'"
     ]
    },
    {
     "name": "stdout",
     "output_type": "stream",
     "text": [
      ",\n",
      "     "
     ]
    },
    {
     "name": "stdout",
     "output_type": "stream",
     "text": [
      "'Colombia'"
     ]
    },
    {
     "name": "stdout",
     "output_type": "stream",
     "text": [
      ", "
     ]
    },
    {
     "name": "stdout",
     "output_type": "stream",
     "text": [
      "'Netherlands'"
     ]
    },
    {
     "name": "stdout",
     "output_type": "stream",
     "text": [
      ", "
     ]
    },
    {
     "name": "stdout",
     "output_type": "stream",
     "text": [
      "'San Marino'"
     ]
    },
    {
     "name": "stdout",
     "output_type": "stream",
     "text": [
      ", "
     ]
    },
    {
     "name": "stdout",
     "output_type": "stream",
     "text": [
      "'Israel'"
     ]
    },
    {
     "name": "stdout",
     "output_type": "stream",
     "text": [
      ", "
     ]
    },
    {
     "name": "stdout",
     "output_type": "stream",
     "text": [
      "'Monaco'"
     ]
    },
    {
     "name": "stdout",
     "output_type": "stream",
     "text": [
      ", "
     ]
    },
    {
     "name": "stdout",
     "output_type": "stream",
     "text": [
      "'Bahamas'"
     ]
    },
    {
     "name": "stdout",
     "output_type": "stream",
     "text": [
      "]"
     ]
    },
    {
     "name": "stdout",
     "output_type": "stream",
     "text": [
      ",\n",
      " "
     ]
    },
    {
     "name": "stdout",
     "output_type": "stream",
     "text": [
      "8"
     ]
    },
    {
     "name": "stdout",
     "output_type": "stream",
     "text": [
      ": "
     ]
    },
    {
     "name": "stdout",
     "output_type": "stream",
     "text": [
      "["
     ]
    },
    {
     "name": "stdout",
     "output_type": "stream",
     "text": [
      "'Saint Lucia'"
     ]
    },
    {
     "name": "stdout",
     "output_type": "stream",
     "text": [
      ", "
     ]
    },
    {
     "name": "stdout",
     "output_type": "stream",
     "text": [
      "'Maldives'"
     ]
    },
    {
     "name": "stdout",
     "output_type": "stream",
     "text": [
      ", "
     ]
    },
    {
     "name": "stdout",
     "output_type": "stream",
     "text": [
      "'Cameroon'"
     ]
    },
    {
     "name": "stdout",
     "output_type": "stream",
     "text": [
      ", "
     ]
    },
    {
     "name": "stdout",
     "output_type": "stream",
     "text": [
      "'Barbados'"
     ]
    },
    {
     "name": "stdout",
     "output_type": "stream",
     "text": [
      ", "
     ]
    },
    {
     "name": "stdout",
     "output_type": "stream",
     "text": [
      "'Morocco'"
     ]
    },
    {
     "name": "stdout",
     "output_type": "stream",
     "text": [
      ", "
     ]
    },
    {
     "name": "stdout",
     "output_type": "stream",
     "text": [
      "'Syria'"
     ]
    },
    {
     "name": "stdout",
     "output_type": "stream",
     "text": [
      ",\n",
      "     "
     ]
    },
    {
     "name": "stdout",
     "output_type": "stream",
     "text": [
      "'Kosovo'"
     ]
    },
    {
     "name": "stdout",
     "output_type": "stream",
     "text": [
      ", "
     ]
    },
    {
     "name": "stdout",
     "output_type": "stream",
     "text": [
      "'Costa Rica'"
     ]
    },
    {
     "name": "stdout",
     "output_type": "stream",
     "text": [
      ", "
     ]
    },
    {
     "name": "stdout",
     "output_type": "stream",
     "text": [
      "'Nicaragua'"
     ]
    },
    {
     "name": "stdout",
     "output_type": "stream",
     "text": [
      ", "
     ]
    },
    {
     "name": "stdout",
     "output_type": "stream",
     "text": [
      "'Niger'"
     ]
    },
    {
     "name": "stdout",
     "output_type": "stream",
     "text": [
      ", "
     ]
    },
    {
     "name": "stdout",
     "output_type": "stream",
     "text": [
      "'Comoros'"
     ]
    },
    {
     "name": "stdout",
     "output_type": "stream",
     "text": [
      ", "
     ]
    },
    {
     "name": "stdout",
     "output_type": "stream",
     "text": [
      "'Kenya'"
     ]
    },
    {
     "name": "stdout",
     "output_type": "stream",
     "text": [
      ",\n",
      "     "
     ]
    },
    {
     "name": "stdout",
     "output_type": "stream",
     "text": [
      "'Denmark'"
     ]
    },
    {
     "name": "stdout",
     "output_type": "stream",
     "text": [
      ", "
     ]
    },
    {
     "name": "stdout",
     "output_type": "stream",
     "text": [
      "'Suriname'"
     ]
    },
    {
     "name": "stdout",
     "output_type": "stream",
     "text": [
      ", "
     ]
    },
    {
     "name": "stdout",
     "output_type": "stream",
     "text": [
      "'Angola'"
     ]
    },
    {
     "name": "stdout",
     "output_type": "stream",
     "text": [
      ", "
     ]
    },
    {
     "name": "stdout",
     "output_type": "stream",
     "text": [
      "'Thailand'"
     ]
    },
    {
     "name": "stdout",
     "output_type": "stream",
     "text": [
      ", "
     ]
    },
    {
     "name": "stdout",
     "output_type": "stream",
     "text": [
      "'Bhutan'"
     ]
    },
    {
     "name": "stdout",
     "output_type": "stream",
     "text": [
      ", "
     ]
    },
    {
     "name": "stdout",
     "output_type": "stream",
     "text": [
      "'Australia'"
     ]
    },
    {
     "name": "stdout",
     "output_type": "stream",
     "text": [
      ",\n",
      "     "
     ]
    },
    {
     "name": "stdout",
     "output_type": "stream",
     "text": [
      "'Madagascar'"
     ]
    },
    {
     "name": "stdout",
     "output_type": "stream",
     "text": [
      ", "
     ]
    },
    {
     "name": "stdout",
     "output_type": "stream",
     "text": [
      "'Malta'"
     ]
    },
    {
     "name": "stdout",
     "output_type": "stream",
     "text": [
      ", "
     ]
    },
    {
     "name": "stdout",
     "output_type": "stream",
     "text": [
      "'Burundi'"
     ]
    },
    {
     "name": "stdout",
     "output_type": "stream",
     "text": [
      ", "
     ]
    },
    {
     "name": "stdout",
     "output_type": "stream",
     "text": [
      "'Ethiopia'"
     ]
    },
    {
     "name": "stdout",
     "output_type": "stream",
     "text": [
      ", "
     ]
    },
    {
     "name": "stdout",
     "output_type": "stream",
     "text": [
      "'Luxembourg'"
     ]
    },
    {
     "name": "stdout",
     "output_type": "stream",
     "text": [
      ", "
     ]
    },
    {
     "name": "stdout",
     "output_type": "stream",
     "text": [
      "'Zimbabwe'"
     ]
    },
    {
     "name": "stdout",
     "output_type": "stream",
     "text": [
      ",\n",
      "     "
     ]
    },
    {
     "name": "stdout",
     "output_type": "stream",
     "text": [
      "'Chad'"
     ]
    },
    {
     "name": "stdout",
     "output_type": "stream",
     "text": [
      ", "
     ]
    },
    {
     "name": "stdout",
     "output_type": "stream",
     "text": [
      "'Liechtenstein'"
     ]
    },
    {
     "name": "stdout",
     "output_type": "stream",
     "text": [
      ", "
     ]
    },
    {
     "name": "stdout",
     "output_type": "stream",
     "text": [
      "'Lesotho'"
     ]
    },
    {
     "name": "stdout",
     "output_type": "stream",
     "text": [
      ", "
     ]
    },
    {
     "name": "stdout",
     "output_type": "stream",
     "text": [
      "'Djibouti'"
     ]
    },
    {
     "name": "stdout",
     "output_type": "stream",
     "text": [
      ", "
     ]
    },
    {
     "name": "stdout",
     "output_type": "stream",
     "text": [
      "'Mongolia'"
     ]
    },
    {
     "name": "stdout",
     "output_type": "stream",
     "text": [
      "]"
     ]
    },
    {
     "name": "stdout",
     "output_type": "stream",
     "text": [
      ",\n",
      " "
     ]
    },
    {
     "name": "stdout",
     "output_type": "stream",
     "text": [
      "9"
     ]
    },
    {
     "name": "stdout",
     "output_type": "stream",
     "text": [
      ": "
     ]
    },
    {
     "name": "stdout",
     "output_type": "stream",
     "text": [
      "["
     ]
    },
    {
     "name": "stdout",
     "output_type": "stream",
     "text": [
      "'Oman'"
     ]
    },
    {
     "name": "stdout",
     "output_type": "stream",
     "text": [
      ", "
     ]
    },
    {
     "name": "stdout",
     "output_type": "stream",
     "text": [
      "'Qatar'"
     ]
    },
    {
     "name": "stdout",
     "output_type": "stream",
     "text": [
      ", "
     ]
    },
    {
     "name": "stdout",
     "output_type": "stream",
     "text": [
      "'Ecuador'"
     ]
    },
    {
     "name": "stdout",
     "output_type": "stream",
     "text": [
      ", "
     ]
    },
    {
     "name": "stdout",
     "output_type": "stream",
     "text": [
      "'Taiwan'"
     ]
    },
    {
     "name": "stdout",
     "output_type": "stream",
     "text": [
      ", "
     ]
    },
    {
     "name": "stdout",
     "output_type": "stream",
     "text": [
      "'Austria'"
     ]
    },
    {
     "name": "stdout",
     "output_type": "stream",
     "text": [
      ", "
     ]
    },
    {
     "name": "stdout",
     "output_type": "stream",
     "text": [
      "'South Africa'"
     ]
    },
    {
     "name": "stdout",
     "output_type": "stream",
     "text": [
      ",\n",
      "     "
     ]
    },
    {
     "name": "stdout",
     "output_type": "stream",
     "text": [
      "'Argentina'"
     ]
    },
    {
     "name": "stdout",
     "output_type": "stream",
     "text": [
      ", "
     ]
    },
    {
     "name": "stdout",
     "output_type": "stream",
     "text": [
      "'Haiti'"
     ]
    },
    {
     "name": "stdout",
     "output_type": "stream",
     "text": [
      ", "
     ]
    },
    {
     "name": "stdout",
     "output_type": "stream",
     "text": [
      "'Japan'"
     ]
    },
    {
     "name": "stdout",
     "output_type": "stream",
     "text": [
      ", "
     ]
    },
    {
     "name": "stdout",
     "output_type": "stream",
     "text": [
      "'Congo'"
     ]
    },
    {
     "name": "stdout",
     "output_type": "stream",
     "text": [
      ", "
     ]
    },
    {
     "name": "stdout",
     "output_type": "stream",
     "text": [
      "'Mauritania'"
     ]
    },
    {
     "name": "stdout",
     "output_type": "stream",
     "text": [
      ", "
     ]
    },
    {
     "name": "stdout",
     "output_type": "stream",
     "text": [
      "'Serbia'"
     ]
    },
    {
     "name": "stdout",
     "output_type": "stream",
     "text": [
      ", "
     ]
    },
    {
     "name": "stdout",
     "output_type": "stream",
     "text": [
      "'Greece'"
     ]
    },
    {
     "name": "stdout",
     "output_type": "stream",
     "text": [
      ",\n",
      "     "
     ]
    },
    {
     "name": "stdout",
     "output_type": "stream",
     "text": [
      "'China'"
     ]
    },
    {
     "name": "stdout",
     "output_type": "stream",
     "text": [
      ", "
     ]
    },
    {
     "name": "stdout",
     "output_type": "stream",
     "text": [
      "'Venezuela'"
     ]
    },
    {
     "name": "stdout",
     "output_type": "stream",
     "text": [
      ", "
     ]
    },
    {
     "name": "stdout",
     "output_type": "stream",
     "text": [
      "'Philippines'"
     ]
    },
    {
     "name": "stdout",
     "output_type": "stream",
     "text": [
      ", "
     ]
    },
    {
     "name": "stdout",
     "output_type": "stream",
     "text": [
      "'Uruguay'"
     ]
    },
    {
     "name": "stdout",
     "output_type": "stream",
     "text": [
      ", "
     ]
    },
    {
     "name": "stdout",
     "output_type": "stream",
     "text": [
      "'Lithuania'"
     ]
    },
    {
     "name": "stdout",
     "output_type": "stream",
     "text": [
      ", "
     ]
    },
    {
     "name": "stdout",
     "output_type": "stream",
     "text": [
      "'Tajikistan'"
     ]
    },
    {
     "name": "stdout",
     "output_type": "stream",
     "text": [
      ",\n",
      "     "
     ]
    },
    {
     "name": "stdout",
     "output_type": "stream",
     "text": [
      "'Sri Lanka'"
     ]
    },
    {
     "name": "stdout",
     "output_type": "stream",
     "text": [
      ", "
     ]
    },
    {
     "name": "stdout",
     "output_type": "stream",
     "text": [
      "'Ukraine'"
     ]
    },
    {
     "name": "stdout",
     "output_type": "stream",
     "text": [
      ", "
     ]
    },
    {
     "name": "stdout",
     "output_type": "stream",
     "text": [
      "'India'"
     ]
    },
    {
     "name": "stdout",
     "output_type": "stream",
     "text": [
      ", "
     ]
    },
    {
     "name": "stdout",
     "output_type": "stream",
     "text": [
      "'Gabon'"
     ]
    },
    {
     "name": "stdout",
     "output_type": "stream",
     "text": [
      ", "
     ]
    },
    {
     "name": "stdout",
     "output_type": "stream",
     "text": [
      "'Sudan'"
     ]
    },
    {
     "name": "stdout",
     "output_type": "stream",
     "text": [
      ", "
     ]
    },
    {
     "name": "stdout",
     "output_type": "stream",
     "text": [
      "'Finland'"
     ]
    },
    {
     "name": "stdout",
     "output_type": "stream",
     "text": [
      ", "
     ]
    },
    {
     "name": "stdout",
     "output_type": "stream",
     "text": [
      "'Ghana'"
     ]
    },
    {
     "name": "stdout",
     "output_type": "stream",
     "text": [
      ",\n",
      "     "
     ]
    },
    {
     "name": "stdout",
     "output_type": "stream",
     "text": [
      "'Sierra Leone'"
     ]
    },
    {
     "name": "stdout",
     "output_type": "stream",
     "text": [
      ", "
     ]
    },
    {
     "name": "stdout",
     "output_type": "stream",
     "text": [
      "'Korea, South'"
     ]
    },
    {
     "name": "stdout",
     "output_type": "stream",
     "text": [
      ", "
     ]
    },
    {
     "name": "stdout",
     "output_type": "stream",
     "text": [
      "'Benin'"
     ]
    },
    {
     "name": "stdout",
     "output_type": "stream",
     "text": [
      ", "
     ]
    },
    {
     "name": "stdout",
     "output_type": "stream",
     "text": [
      "'Guatemala'"
     ]
    },
    {
     "name": "stdout",
     "output_type": "stream",
     "text": [
      "]"
     ]
    },
    {
     "name": "stdout",
     "output_type": "stream",
     "text": [
      ",\n",
      " "
     ]
    },
    {
     "name": "stdout",
     "output_type": "stream",
     "text": [
      "10"
     ]
    },
    {
     "name": "stdout",
     "output_type": "stream",
     "text": [
      ": "
     ]
    },
    {
     "name": "stdout",
     "output_type": "stream",
     "text": [
      "["
     ]
    },
    {
     "name": "stdout",
     "output_type": "stream",
     "text": [
      "'Chile'"
     ]
    },
    {
     "name": "stdout",
     "output_type": "stream",
     "text": [
      ", "
     ]
    },
    {
     "name": "stdout",
     "output_type": "stream",
     "text": [
      "'Guinea'"
     ]
    },
    {
     "name": "stdout",
     "output_type": "stream",
     "text": [
      ", "
     ]
    },
    {
     "name": "stdout",
     "output_type": "stream",
     "text": [
      "'Swaziland'"
     ]
    },
    {
     "name": "stdout",
     "output_type": "stream",
     "text": [
      ", "
     ]
    },
    {
     "name": "stdout",
     "output_type": "stream",
     "text": [
      "'Somalia'"
     ]
    },
    {
     "name": "stdout",
     "output_type": "stream",
     "text": [
      ", "
     ]
    },
    {
     "name": "stdout",
     "output_type": "stream",
     "text": [
      "'Estonia'"
     ]
    },
    {
     "name": "stdout",
     "output_type": "stream",
     "text": [
      ", "
     ]
    },
    {
     "name": "stdout",
     "output_type": "stream",
     "text": [
      "'Poland'"
     ]
    },
    {
     "name": "stdout",
     "output_type": "stream",
     "text": [
      ", "
     ]
    },
    {
     "name": "stdout",
     "output_type": "stream",
     "text": [
      "'Moldova'"
     ]
    },
    {
     "name": "stdout",
     "output_type": "stream",
     "text": [
      ",\n",
      "      "
     ]
    },
    {
     "name": "stdout",
     "output_type": "stream",
     "text": [
      "'Egypt'"
     ]
    },
    {
     "name": "stdout",
     "output_type": "stream",
     "text": [
      ", "
     ]
    },
    {
     "name": "stdout",
     "output_type": "stream",
     "text": [
      "'Liberia'"
     ]
    },
    {
     "name": "stdout",
     "output_type": "stream",
     "text": [
      ", "
     ]
    },
    {
     "name": "stdout",
     "output_type": "stream",
     "text": [
      "'Senegal'"
     ]
    },
    {
     "name": "stdout",
     "output_type": "stream",
     "text": [
      ", "
     ]
    },
    {
     "name": "stdout",
     "output_type": "stream",
     "text": [
      "'Mali'"
     ]
    },
    {
     "name": "stdout",
     "output_type": "stream",
     "text": [
      ", "
     ]
    },
    {
     "name": "stdout",
     "output_type": "stream",
     "text": [
      "'Singapore'"
     ]
    },
    {
     "name": "stdout",
     "output_type": "stream",
     "text": [
      ", "
     ]
    },
    {
     "name": "stdout",
     "output_type": "stream",
     "text": [
      "'Pakistan'"
     ]
    },
    {
     "name": "stdout",
     "output_type": "stream",
     "text": [
      ",\n",
      "      "
     ]
    },
    {
     "name": "stdout",
     "output_type": "stream",
     "text": [
      "'Cape Verde'"
     ]
    },
    {
     "name": "stdout",
     "output_type": "stream",
     "text": [
      ", "
     ]
    },
    {
     "name": "stdout",
     "output_type": "stream",
     "text": [
      "'Uzbekistan'"
     ]
    },
    {
     "name": "stdout",
     "output_type": "stream",
     "text": [
      ", "
     ]
    },
    {
     "name": "stdout",
     "output_type": "stream",
     "text": [
      "'Iraq'"
     ]
    },
    {
     "name": "stdout",
     "output_type": "stream",
     "text": [
      ", "
     ]
    },
    {
     "name": "stdout",
     "output_type": "stream",
     "text": [
      "'Canada'"
     ]
    },
    {
     "name": "stdout",
     "output_type": "stream",
     "text": [
      ", "
     ]
    },
    {
     "name": "stdout",
     "output_type": "stream",
     "text": [
      "'Germany'"
     ]
    },
    {
     "name": "stdout",
     "output_type": "stream",
     "text": [
      ", "
     ]
    },
    {
     "name": "stdout",
     "output_type": "stream",
     "text": [
      "'El Salvador'"
     ]
    },
    {
     "name": "stdout",
     "output_type": "stream",
     "text": [
      ",\n",
      "      "
     ]
    },
    {
     "name": "stdout",
     "output_type": "stream",
     "text": [
      "'Cuba'"
     ]
    },
    {
     "name": "stdout",
     "output_type": "stream",
     "text": [
      ", "
     ]
    },
    {
     "name": "stdout",
     "output_type": "stream",
     "text": [
      "'Saudi Arabia'"
     ]
    },
    {
     "name": "stdout",
     "output_type": "stream",
     "text": [
      ", "
     ]
    },
    {
     "name": "stdout",
     "output_type": "stream",
     "text": [
      "'Azerbaijan'"
     ]
    },
    {
     "name": "stdout",
     "output_type": "stream",
     "text": [
      ", "
     ]
    },
    {
     "name": "stdout",
     "output_type": "stream",
     "text": [
      "'Switzerland'"
     ]
    },
    {
     "name": "stdout",
     "output_type": "stream",
     "text": [
      ", "
     ]
    },
    {
     "name": "stdout",
     "output_type": "stream",
     "text": [
      "'Belarus'"
     ]
    },
    {
     "name": "stdout",
     "output_type": "stream",
     "text": [
      ", "
     ]
    },
    {
     "name": "stdout",
     "output_type": "stream",
     "text": [
      "'Bermuda'"
     ]
    },
    {
     "name": "stdout",
     "output_type": "stream",
     "text": [
      ",\n",
      "      "
     ]
    },
    {
     "name": "stdout",
     "output_type": "stream",
     "text": [
      "'Indonesia'"
     ]
    },
    {
     "name": "stdout",
     "output_type": "stream",
     "text": [
      ", "
     ]
    },
    {
     "name": "stdout",
     "output_type": "stream",
     "text": [
      "'Romania'"
     ]
    },
    {
     "name": "stdout",
     "output_type": "stream",
     "text": [
      ", "
     ]
    },
    {
     "name": "stdout",
     "output_type": "stream",
     "text": [
      "'Albania'"
     ]
    },
    {
     "name": "stdout",
     "output_type": "stream",
     "text": [
      ", "
     ]
    },
    {
     "name": "stdout",
     "output_type": "stream",
     "text": [
      "'Burkina Faso'"
     ]
    },
    {
     "name": "stdout",
     "output_type": "stream",
     "text": [
      "]"
     ]
    },
    {
     "name": "stdout",
     "output_type": "stream",
     "text": [
      ",\n",
      " "
     ]
    },
    {
     "name": "stdout",
     "output_type": "stream",
     "text": [
      "11"
     ]
    },
    {
     "name": "stdout",
     "output_type": "stream",
     "text": [
      ": "
     ]
    },
    {
     "name": "stdout",
     "output_type": "stream",
     "text": [
      "["
     ]
    },
    {
     "name": "stdout",
     "output_type": "stream",
     "text": [
      "'Algeria'"
     ]
    },
    {
     "name": "stdout",
     "output_type": "stream",
     "text": [
      ", "
     ]
    },
    {
     "name": "stdout",
     "output_type": "stream",
     "text": [
      "'Honduras'"
     ]
    },
    {
     "name": "stdout",
     "output_type": "stream",
     "text": [
      ", "
     ]
    },
    {
     "name": "stdout",
     "output_type": "stream",
     "text": [
      "'Dominican Republic'"
     ]
    },
    {
     "name": "stdout",
     "output_type": "stream",
     "text": [
      ", "
     ]
    },
    {
     "name": "stdout",
     "output_type": "stream",
     "text": [
      "'Bosnia and Herzegovina'"
     ]
    },
    {
     "name": "stdout",
     "output_type": "stream",
     "text": [
      ",\n",
      "      "
     ]
    },
    {
     "name": "stdout",
     "output_type": "stream",
     "text": [
      "'Malaysia'"
     ]
    },
    {
     "name": "stdout",
     "output_type": "stream",
     "text": [
      ", "
     ]
    },
    {
     "name": "stdout",
     "output_type": "stream",
     "text": [
      "'Bangladesh'"
     ]
    },
    {
     "name": "stdout",
     "output_type": "stream",
     "text": [
      ", "
     ]
    },
    {
     "name": "stdout",
     "output_type": "stream",
     "text": [
      "'Portugal'"
     ]
    },
    {
     "name": "stdout",
     "output_type": "stream",
     "text": [
      ", "
     ]
    },
    {
     "name": "stdout",
     "output_type": "stream",
     "text": [
      "'Nigeria'"
     ]
    },
    {
     "name": "stdout",
     "output_type": "stream",
     "text": [
      ", "
     ]
    },
    {
     "name": "stdout",
     "output_type": "stream",
     "text": [
      "'Belgium'"
     ]
    },
    {
     "name": "stdout",
     "output_type": "stream",
     "text": [
      ", "
     ]
    },
    {
     "name": "stdout",
     "output_type": "stream",
     "text": [
      "'Panama'"
     ]
    },
    {
     "name": "stdout",
     "output_type": "stream",
     "text": [
      ",\n",
      "      "
     ]
    },
    {
     "name": "stdout",
     "output_type": "stream",
     "text": [
      "'Bulgaria'"
     ]
    },
    {
     "name": "stdout",
     "output_type": "stream",
     "text": [
      ", "
     ]
    },
    {
     "name": "stdout",
     "output_type": "stream",
     "text": [
      "'Togo'"
     ]
    },
    {
     "name": "stdout",
     "output_type": "stream",
     "text": [
      ", "
     ]
    },
    {
     "name": "stdout",
     "output_type": "stream",
     "text": [
      "'Peru'"
     ]
    },
    {
     "name": "stdout",
     "output_type": "stream",
     "text": [
      ", "
     ]
    },
    {
     "name": "stdout",
     "output_type": "stream",
     "text": [
      "'Mexico'"
     ]
    },
    {
     "name": "stdout",
     "output_type": "stream",
     "text": [
      ", "
     ]
    },
    {
     "name": "stdout",
     "output_type": "stream",
     "text": [
      "'Kuwait'"
     ]
    },
    {
     "name": "stdout",
     "output_type": "stream",
     "text": [
      ", "
     ]
    },
    {
     "name": "stdout",
     "output_type": "stream",
     "text": [
      "'Armenia'"
     ]
    },
    {
     "name": "stdout",
     "output_type": "stream",
     "text": [
      "]"
     ]
    },
    {
     "name": "stdout",
     "output_type": "stream",
     "text": [
      ",\n",
      " "
     ]
    },
    {
     "name": "stdout",
     "output_type": "stream",
     "text": [
      "12"
     ]
    },
    {
     "name": "stdout",
     "output_type": "stream",
     "text": [
      ": "
     ]
    },
    {
     "name": "stdout",
     "output_type": "stream",
     "text": [
      "["
     ]
    },
    {
     "name": "stdout",
     "output_type": "stream",
     "text": [
      "'United States'"
     ]
    },
    {
     "name": "stdout",
     "output_type": "stream",
     "text": [
      ", "
     ]
    },
    {
     "name": "stdout",
     "output_type": "stream",
     "text": [
      "'Macedonia'"
     ]
    },
    {
     "name": "stdout",
     "output_type": "stream",
     "text": [
      ", "
     ]
    },
    {
     "name": "stdout",
     "output_type": "stream",
     "text": [
      "'Turkey'"
     ]
    },
    {
     "name": "stdout",
     "output_type": "stream",
     "text": [
      ", "
     ]
    },
    {
     "name": "stdout",
     "output_type": "stream",
     "text": [
      "'United Arab Emirates'"
     ]
    },
    {
     "name": "stdout",
     "output_type": "stream",
     "text": [
      ", "
     ]
    },
    {
     "name": "stdout",
     "output_type": "stream",
     "text": [
      "'Iran'"
     ]
    },
    {
     "name": "stdout",
     "output_type": "stream",
     "text": [
      ",\n",
      "      "
     ]
    },
    {
     "name": "stdout",
     "output_type": "stream",
     "text": [
      "'Bahrain'"
     ]
    },
    {
     "name": "stdout",
     "output_type": "stream",
     "text": [
      ", "
     ]
    },
    {
     "name": "stdout",
     "output_type": "stream",
     "text": [
      "'Italy'"
     ]
    },
    {
     "name": "stdout",
     "output_type": "stream",
     "text": [
      ", "
     ]
    },
    {
     "name": "stdout",
     "output_type": "stream",
     "text": [
      "'Latvia'"
     ]
    },
    {
     "name": "stdout",
     "output_type": "stream",
     "text": [
      ", "
     ]
    },
    {
     "name": "stdout",
     "output_type": "stream",
     "text": [
      "'Bolivia'"
     ]
    },
    {
     "name": "stdout",
     "output_type": "stream",
     "text": [
      ", "
     ]
    },
    {
     "name": "stdout",
     "output_type": "stream",
     "text": [
      "'Brazil'"
     ]
    },
    {
     "name": "stdout",
     "output_type": "stream",
     "text": [
      ", "
     ]
    },
    {
     "name": "stdout",
     "output_type": "stream",
     "text": [
      "'France'"
     ]
    },
    {
     "name": "stdout",
     "output_type": "stream",
     "text": [
      "]"
     ]
    },
    {
     "name": "stdout",
     "output_type": "stream",
     "text": [
      ",\n",
      " "
     ]
    },
    {
     "name": "stdout",
     "output_type": "stream",
     "text": [
      "13"
     ]
    },
    {
     "name": "stdout",
     "output_type": "stream",
     "text": [
      ": "
     ]
    },
    {
     "name": "stdout",
     "output_type": "stream",
     "text": [
      "['Russia']"
     ]
    },
    {
     "name": "stdout",
     "output_type": "stream",
     "text": [
      "}"
     ]
    },
    {
     "name": "stdout",
     "output_type": "stream",
     "text": [
      "\n"
     ]
    }
   ],
   "source": [
    "# Show the number of phases of all countries\n",
    "analyser.trend()\n",
    "pprint(analyser.phase_len(), compact=True)"
   ]
  },
  {
   "cell_type": "code",
   "execution_count": 8,
   "metadata": {
    "collapsed": false
   },
   "outputs": [
    {
     "data": {
      "text/plain": [
       "12"
      ]
     },
     "execution_count": 8,
     "metadata": {},
     "output_type": "execute_result"
    }
   ],
   "source": [
    "# Set phases with S-R trend analysis\n",
    "analyser.trend(min_len=12)\n",
    "# The number of countries\n",
    "len(analyser.countries)"
   ]
  },
  {
   "cell_type": "code",
   "execution_count": 9,
   "metadata": {
    "collapsed": false,
    "tags": []
   },
   "outputs": [
    {
     "name": "stdout",
     "output_type": "stream",
     "text": [
      "{"
     ]
    },
    {
     "name": "stdout",
     "output_type": "stream",
     "text": [
      "12"
     ]
    },
    {
     "name": "stdout",
     "output_type": "stream",
     "text": [
      ": "
     ]
    },
    {
     "name": "stdout",
     "output_type": "stream",
     "text": [
      "["
     ]
    },
    {
     "name": "stdout",
     "output_type": "stream",
     "text": [
      "'United States'"
     ]
    },
    {
     "name": "stdout",
     "output_type": "stream",
     "text": [
      ", "
     ]
    },
    {
     "name": "stdout",
     "output_type": "stream",
     "text": [
      "'Macedonia'"
     ]
    },
    {
     "name": "stdout",
     "output_type": "stream",
     "text": [
      ", "
     ]
    },
    {
     "name": "stdout",
     "output_type": "stream",
     "text": [
      "'Turkey'"
     ]
    },
    {
     "name": "stdout",
     "output_type": "stream",
     "text": [
      ", "
     ]
    },
    {
     "name": "stdout",
     "output_type": "stream",
     "text": [
      "'United Arab Emirates'"
     ]
    },
    {
     "name": "stdout",
     "output_type": "stream",
     "text": [
      ", "
     ]
    },
    {
     "name": "stdout",
     "output_type": "stream",
     "text": [
      "'Iran'"
     ]
    },
    {
     "name": "stdout",
     "output_type": "stream",
     "text": [
      ",\n",
      "      "
     ]
    },
    {
     "name": "stdout",
     "output_type": "stream",
     "text": [
      "'Bahrain'"
     ]
    },
    {
     "name": "stdout",
     "output_type": "stream",
     "text": [
      ", "
     ]
    },
    {
     "name": "stdout",
     "output_type": "stream",
     "text": [
      "'Italy'"
     ]
    },
    {
     "name": "stdout",
     "output_type": "stream",
     "text": [
      ", "
     ]
    },
    {
     "name": "stdout",
     "output_type": "stream",
     "text": [
      "'Latvia'"
     ]
    },
    {
     "name": "stdout",
     "output_type": "stream",
     "text": [
      ", "
     ]
    },
    {
     "name": "stdout",
     "output_type": "stream",
     "text": [
      "'Bolivia'"
     ]
    },
    {
     "name": "stdout",
     "output_type": "stream",
     "text": [
      ", "
     ]
    },
    {
     "name": "stdout",
     "output_type": "stream",
     "text": [
      "'Brazil'"
     ]
    },
    {
     "name": "stdout",
     "output_type": "stream",
     "text": [
      ", "
     ]
    },
    {
     "name": "stdout",
     "output_type": "stream",
     "text": [
      "'France'"
     ]
    },
    {
     "name": "stdout",
     "output_type": "stream",
     "text": [
      "]"
     ]
    },
    {
     "name": "stdout",
     "output_type": "stream",
     "text": [
      ",\n",
      " "
     ]
    },
    {
     "name": "stdout",
     "output_type": "stream",
     "text": [
      "13"
     ]
    },
    {
     "name": "stdout",
     "output_type": "stream",
     "text": [
      ": "
     ]
    },
    {
     "name": "stdout",
     "output_type": "stream",
     "text": [
      "['Russia']"
     ]
    },
    {
     "name": "stdout",
     "output_type": "stream",
     "text": [
      "}"
     ]
    },
    {
     "name": "stdout",
     "output_type": "stream",
     "text": [
      "\n"
     ]
    }
   ],
   "source": [
    "phase_len_dict = analyser.phase_len()\n",
    "pprint(phase_len_dict, compact=True)"
   ]
  },
  {
   "cell_type": "code",
   "execution_count": 10,
   "metadata": {
    "collapsed": false,
    "tags": []
   },
   "outputs": [
    {
     "data": {
      "text/html": [
       "<div>\n",
       "<style scoped>\n",
       "    .dataframe tbody tr th:only-of-type {\n",
       "        vertical-align: middle;\n",
       "    }\n",
       "\n",
       "    .dataframe tbody tr th {\n",
       "        vertical-align: top;\n",
       "    }\n",
       "\n",
       "    .dataframe thead th {\n",
       "        text-align: right;\n",
       "    }\n",
       "</style>\n",
       "<table border=\"1\" class=\"dataframe\">\n",
       "  <thead>\n",
       "    <tr style=\"text-align: right;\">\n",
       "      <th></th>\n",
       "      <th></th>\n",
       "      <th>Type</th>\n",
       "      <th>Start</th>\n",
       "      <th>End</th>\n",
       "      <th>Population</th>\n",
       "    </tr>\n",
       "    <tr>\n",
       "      <th>Country</th>\n",
       "      <th>Phase</th>\n",
       "      <th></th>\n",
       "      <th></th>\n",
       "      <th></th>\n",
       "      <th></th>\n",
       "    </tr>\n",
       "  </thead>\n",
       "  <tbody>\n",
       "    <tr>\n",
       "      <th rowspan=\"13\" valign=\"top\">Russia</th>\n",
       "      <th>0th</th>\n",
       "      <td>Past</td>\n",
       "      <td>12Feb2020</td>\n",
       "      <td>06May2020</td>\n",
       "      <td>330457362</td>\n",
       "    </tr>\n",
       "    <tr>\n",
       "      <th>1st</th>\n",
       "      <td>Past</td>\n",
       "      <td>07May2020</td>\n",
       "      <td>16May2020</td>\n",
       "      <td>330457362</td>\n",
       "    </tr>\n",
       "    <tr>\n",
       "      <th>2nd</th>\n",
       "      <td>Past</td>\n",
       "      <td>17May2020</td>\n",
       "      <td>27May2020</td>\n",
       "      <td>330457362</td>\n",
       "    </tr>\n",
       "    <tr>\n",
       "      <th>3rd</th>\n",
       "      <td>Past</td>\n",
       "      <td>28May2020</td>\n",
       "      <td>06Jun2020</td>\n",
       "      <td>330457362</td>\n",
       "    </tr>\n",
       "    <tr>\n",
       "      <th>4th</th>\n",
       "      <td>Past</td>\n",
       "      <td>07Jun2020</td>\n",
       "      <td>15Jun2020</td>\n",
       "      <td>330457362</td>\n",
       "    </tr>\n",
       "    <tr>\n",
       "      <th>5th</th>\n",
       "      <td>Past</td>\n",
       "      <td>16Jun2020</td>\n",
       "      <td>27Jun2020</td>\n",
       "      <td>330457362</td>\n",
       "    </tr>\n",
       "    <tr>\n",
       "      <th>6th</th>\n",
       "      <td>Past</td>\n",
       "      <td>28Jun2020</td>\n",
       "      <td>10Jul2020</td>\n",
       "      <td>330457362</td>\n",
       "    </tr>\n",
       "    <tr>\n",
       "      <th>7th</th>\n",
       "      <td>Past</td>\n",
       "      <td>11Jul2020</td>\n",
       "      <td>24Jul2020</td>\n",
       "      <td>330457362</td>\n",
       "    </tr>\n",
       "    <tr>\n",
       "      <th>8th</th>\n",
       "      <td>Past</td>\n",
       "      <td>25Jul2020</td>\n",
       "      <td>08Aug2020</td>\n",
       "      <td>330457362</td>\n",
       "    </tr>\n",
       "    <tr>\n",
       "      <th>9th</th>\n",
       "      <td>Past</td>\n",
       "      <td>09Aug2020</td>\n",
       "      <td>26Aug2020</td>\n",
       "      <td>330457362</td>\n",
       "    </tr>\n",
       "    <tr>\n",
       "      <th>10th</th>\n",
       "      <td>Past</td>\n",
       "      <td>27Aug2020</td>\n",
       "      <td>11Sep2020</td>\n",
       "      <td>330457362</td>\n",
       "    </tr>\n",
       "    <tr>\n",
       "      <th>11th</th>\n",
       "      <td>Past</td>\n",
       "      <td>12Sep2020</td>\n",
       "      <td>25Sep2020</td>\n",
       "      <td>330457362</td>\n",
       "    </tr>\n",
       "    <tr>\n",
       "      <th>12th</th>\n",
       "      <td>Past</td>\n",
       "      <td>26Sep2020</td>\n",
       "      <td>08Oct2020</td>\n",
       "      <td>330457362</td>\n",
       "    </tr>\n",
       "  </tbody>\n",
       "</table>\n",
       "</div>"
      ],
      "text/plain": [
       "               Type      Start        End  Population\n",
       "Country Phase                                        \n",
       "Russia  0th    Past  12Feb2020  06May2020   330457362\n",
       "        1st    Past  07May2020  16May2020   330457362\n",
       "        2nd    Past  17May2020  27May2020   330457362\n",
       "        3rd    Past  28May2020  06Jun2020   330457362\n",
       "        4th    Past  07Jun2020  15Jun2020   330457362\n",
       "        5th    Past  16Jun2020  27Jun2020   330457362\n",
       "        6th    Past  28Jun2020  10Jul2020   330457362\n",
       "        7th    Past  11Jul2020  24Jul2020   330457362\n",
       "        8th    Past  25Jul2020  08Aug2020   330457362\n",
       "        9th    Past  09Aug2020  26Aug2020   330457362\n",
       "        10th   Past  27Aug2020  11Sep2020   330457362\n",
       "        11th   Past  12Sep2020  25Sep2020   330457362\n",
       "        12th   Past  26Sep2020  08Oct2020   330457362"
      ]
     },
     "execution_count": 10,
     "metadata": {},
     "output_type": "execute_result"
    }
   ],
   "source": [
    "# Here, only show the countries which have the most phases\n",
    "countries_show = max(phase_len_dict.items(), key=lambda x: x[0])[1]\n",
    "# Show summary\n",
    "analyser.summary(countries=countries_show)"
   ]
  },
  {
   "cell_type": "markdown",
   "metadata": {},
   "source": [
    "## Parameter estimation\n",
    "we will estimate the parameter values with SIR-derived ODE models in each country."
   ]
  },
  {
   "cell_type": "code",
   "execution_count": 11,
   "metadata": {
    "collapsed": false,
    "tags": []
   },
   "outputs": [
    {
     "name": "stdout",
     "output_type": "stream",
     "text": [
      "\n",
      "<SIR-F model: parameter estimation>"
     ]
    },
    {
     "name": "stdout",
     "output_type": "stream",
     "text": [
      "\n"
     ]
    },
    {
     "name": "stdout",
     "output_type": "stream",
     "text": [
      "Running optimization with 4 CPUs..."
     ]
    },
    {
     "name": "stdout",
     "output_type": "stream",
     "text": [
      "\n"
     ]
    },
    {
     "name": "stdout",
     "output_type": "stream",
     "text": [
      "\tFRA,  0th phase (12Feb2020 - 24Mar2020): finished 1053 trials in 1 min  0 sec"
     ]
    },
    {
     "name": "stdout",
     "output_type": "stream",
     "text": [
      "\n"
     ]
    },
    {
     "name": "stdout",
     "output_type": "stream",
     "text": [
      "\tIRN,  4th phase (01Jun2020 - 16Jun2020): finished 1228 trials in 1 min  0 sec"
     ]
    },
    {
     "name": "stdout",
     "output_type": "stream",
     "text": [
      "\n"
     ]
    },
    {
     "name": "stdout",
     "output_type": "stream",
     "text": [
      "\tITA,  7th phase (28May2020 - 22Jul2020): finished 1200 trials in 1 min  0 sec"
     ]
    },
    {
     "name": "stdout",
     "output_type": "stream",
     "text": [
      "\n"
     ]
    },
    {
     "name": "stdout",
     "output_type": "stream",
     "text": [
      "\tMKD,  0th phase (13Mar2020 - 01Jun2020): finished 1190 trials in 1 min  0 sec"
     ]
    },
    {
     "name": "stdout",
     "output_type": "stream",
     "text": [
      "\n"
     ]
    },
    {
     "name": "stdout",
     "output_type": "stream",
     "text": [
      "\tIRN, 11th phase (24Sep2020 - 08Oct2020): finished  203 trials in 0 min 10 sec"
     ]
    },
    {
     "name": "stdout",
     "output_type": "stream",
     "text": [
      "\n"
     ]
    },
    {
     "name": "stdout",
     "output_type": "stream",
     "text": [
      "\tIRN,  3rd phase (15May2020 - 31May2020): finished  182 trials in 0 min 10 sec"
     ]
    },
    {
     "name": "stdout",
     "output_type": "stream",
     "text": [
      "\n"
     ]
    },
    {
     "name": "stdout",
     "output_type": "stream",
     "text": [
      "\tIRN, 10th phase (08Sep2020 - 23Sep2020): finished  193 trials in 0 min 10 sec"
     ]
    },
    {
     "name": "stdout",
     "output_type": "stream",
     "text": [
      "\n"
     ]
    },
    {
     "name": "stdout",
     "output_type": "stream",
     "text": [
      "\tBOL,  6th phase (01Aug2020 - 10Aug2020): finished  150 trials in 0 min  5 sec"
     ]
    },
    {
     "name": "stdout",
     "output_type": "stream",
     "text": [
      "\n"
     ]
    },
    {
     "name": "stdout",
     "output_type": "stream",
     "text": [
      "\tUSA,  8th phase (19Aug2020 - 31Aug2020): finished  577 trials in 0 min 25 sec"
     ]
    },
    {
     "name": "stdout",
     "output_type": "stream",
     "text": [
      "\n"
     ]
    },
    {
     "name": "stdout",
     "output_type": "stream",
     "text": [
      "\tUSA,  4th phase (08Jul2020 - 17Jul2020): finished  430 trials in 0 min 15 sec"
     ]
    },
    {
     "name": "stdout",
     "output_type": "stream",
     "text": [
      "\n"
     ]
    },
    {
     "name": "stdout",
     "output_type": "stream",
     "text": [
      "\tBOL,  5th phase (24Jul2020 - 31Jul2020): finished  672 trials in 0 min 25 sec"
     ]
    },
    {
     "name": "stdout",
     "output_type": "stream",
     "text": [
      "\n"
     ]
    },
    {
     "name": "stdout",
     "output_type": "stream",
     "text": [
      "\tTUR, 10th phase (07Sep2020 - 21Sep2020): finished  142 trials in 0 min  5 sec"
     ]
    },
    {
     "name": "stdout",
     "output_type": "stream",
     "text": [
      "\n"
     ]
    },
    {
     "name": "stdout",
     "output_type": "stream",
     "text": [
      "\tBRA,  7th phase (11Aug2020 - 19Aug2020): finished 1206 trials in 1 min  0 sec"
     ]
    },
    {
     "name": "stdout",
     "output_type": "stream",
     "text": [
      "\n"
     ]
    },
    {
     "name": "stdout",
     "output_type": "stream",
     "text": [
      "\tRUS,  4th phase (07Jun2020 - 15Jun2020): finished 1140 trials in 1 min  0 sec"
     ]
    },
    {
     "name": "stdout",
     "output_type": "stream",
     "text": [
      "\n"
     ]
    },
    {
     "name": "stdout",
     "output_type": "stream",
     "text": [
      "\tFRA,  9th phase (08Sep2020 - 16Sep2020): finished  363 trials in 0 min 15 sec"
     ]
    },
    {
     "name": "stdout",
     "output_type": "stream",
     "text": [
      "\n"
     ]
    },
    {
     "name": "stdout",
     "output_type": "stream",
     "text": [
      "\tRUS,  6th phase (28Jun2020 - 10Jul2020): finished 1113 trials in 1 min  0 sec"
     ]
    },
    {
     "name": "stdout",
     "output_type": "stream",
     "text": [
      "\n"
     ]
    },
    {
     "name": "stdout",
     "output_type": "stream",
     "text": [
      "\tIRN,  2nd phase (18Apr2020 - 14May2020): finished  378 trials in 0 min 15 sec"
     ]
    },
    {
     "name": "stdout",
     "output_type": "stream",
     "text": [
      "\n"
     ]
    },
    {
     "name": "stdout",
     "output_type": "stream",
     "text": [
      "\tITA,  2nd phase (29Mar2020 - 08Apr2020): finished 1112 trials in 1 min  0 sec"
     ]
    },
    {
     "name": "stdout",
     "output_type": "stream",
     "text": [
      "\n"
     ]
    },
    {
     "name": "stdout",
     "output_type": "stream",
     "text": [
      "\tMKD,  7th phase (14Aug2020 - 22Aug2020): finished 1165 trials in 1 min  0 sec"
     ]
    },
    {
     "name": "stdout",
     "output_type": "stream",
     "text": [
      "\n"
     ]
    },
    {
     "name": "stdout",
     "output_type": "stream",
     "text": [
      "\tMKD, 11th phase (30Sep2020 - 08Oct2020): finished 1024 trials in 0 min 50 sec"
     ]
    },
    {
     "name": "stdout",
     "output_type": "stream",
     "text": [
      "\n"
     ]
    },
    {
     "name": "stdout",
     "output_type": "stream",
     "text": [
      "\tRUS,  1st phase (07May2020 - 16May2020): finished 1174 trials in 1 min  0 sec"
     ]
    },
    {
     "name": "stdout",
     "output_type": "stream",
     "text": [
      "\n"
     ]
    },
    {
     "name": "stdout",
     "output_type": "stream",
     "text": [
      "\tBRA,  9th phase (30Aug2020 - 10Sep2020): finished  133 trials in 0 min  5 sec"
     ]
    },
    {
     "name": "stdout",
     "output_type": "stream",
     "text": [
      "\n"
     ]
    },
    {
     "name": "stdout",
     "output_type": "stream",
     "text": [
      "\tMKD,  8th phase (23Aug2020 - 03Sep2020): finished 1150 trials in 1 min  0 sec"
     ]
    },
    {
     "name": "stdout",
     "output_type": "stream",
     "text": [
      "\n"
     ]
    },
    {
     "name": "stdout",
     "output_type": "stream",
     "text": [
      "\tARE,  8th phase (21Aug2020 - 09Sep2020): finished 1212 trials in 1 min  0 sec"
     ]
    },
    {
     "name": "stdout",
     "output_type": "stream",
     "text": [
      "\n"
     ]
    },
    {
     "name": "stdout",
     "output_type": "stream",
     "text": [
      "\tRUS,  7th phase (11Jul2020 - 24Jul2020): finished 1221 trials in 1 min  0 sec"
     ]
    },
    {
     "name": "stdout",
     "output_type": "stream",
     "text": [
      "\n"
     ]
    },
    {
     "name": "stdout",
     "output_type": "stream",
     "text": [
      "\tBHR,  0th phase (06Mar2020 - 05May2020): finished 1153 trials in 1 min  0 sec"
     ]
    },
    {
     "name": "stdout",
     "output_type": "stream",
     "text": [
      "\n"
     ]
    },
    {
     "name": "stdout",
     "output_type": "stream",
     "text": [
      "\tITA, 10th phase (16Sep2020 - 28Sep2020): finished  266 trials in 0 min 10 sec"
     ]
    },
    {
     "name": "stdout",
     "output_type": "stream",
     "text": [
      "\n"
     ]
    },
    {
     "name": "stdout",
     "output_type": "stream",
     "text": [
      "\tBHR,  3rd phase (14Jun2020 - 24Jun2020): finished 1249 trials in 1 min  0 sec"
     ]
    },
    {
     "name": "stdout",
     "output_type": "stream",
     "text": [
      "\n"
     ]
    },
    {
     "name": "stdout",
     "output_type": "stream",
     "text": [
      "\tITA,  8th phase (23Jul2020 - 28Aug2020): finished 1176 trials in 1 min  0 sec"
     ]
    },
    {
     "name": "stdout",
     "output_type": "stream",
     "text": [
      "\n"
     ]
    },
    {
     "name": "stdout",
     "output_type": "stream",
     "text": [
      "\tTUR, 11th phase (22Sep2020 - 08Oct2020): finished  142 trials in 0 min  5 sec"
     ]
    },
    {
     "name": "stdout",
     "output_type": "stream",
     "text": [
      "\n"
     ]
    },
    {
     "name": "stdout",
     "output_type": "stream",
     "text": [
      "\tFRA,  5th phase (29May2020 - 01Jul2020): finished 1175 trials in 1 min  0 sec"
     ]
    },
    {
     "name": "stdout",
     "output_type": "stream",
     "text": [
      "\n"
     ]
    },
    {
     "name": "stdout",
     "output_type": "stream",
     "text": [
      "\tARE,  0th phase (12Feb2020 - 28Apr2020): finished 1133 trials in 1 min  0 sec"
     ]
    },
    {
     "name": "stdout",
     "output_type": "stream",
     "text": [
      "\n"
     ]
    },
    {
     "name": "stdout",
     "output_type": "stream",
     "text": [
      "\tBHR, 10th phase (16Sep2020 - 25Sep2020): finished 1206 trials in 1 min  0 sec"
     ]
    },
    {
     "name": "stdout",
     "output_type": "stream",
     "text": [
      "\n"
     ]
    },
    {
     "name": "stdout",
     "output_type": "stream",
     "text": [
      "\tFRA,  2nd phase (05Apr2020 - 20Apr2020): finished 1199 trials in 1 min  0 sec"
     ]
    },
    {
     "name": "stdout",
     "output_type": "stream",
     "text": [
      "\n"
     ]
    },
    {
     "name": "stdout",
     "output_type": "stream",
     "text": [
      "\tBHR,  2nd phase (02Jun2020 - 13Jun2020): finished 1204 trials in 1 min  0 sec"
     ]
    },
    {
     "name": "stdout",
     "output_type": "stream",
     "text": [
      "\n"
     ]
    },
    {
     "name": "stdout",
     "output_type": "stream",
     "text": [
      "\tLVA,  5th phase (16May2020 - 01Jun2020): finished 1379 trials in 1 min  0 sec"
     ]
    },
    {
     "name": "stdout",
     "output_type": "stream",
     "text": [
      "\n"
     ]
    },
    {
     "name": "stdout",
     "output_type": "stream",
     "text": [
      "\tUSA,  3rd phase (25Jun2020 - 07Jul2020): finished 1224 trials in 1 min  0 sec"
     ]
    },
    {
     "name": "stdout",
     "output_type": "stream",
     "text": [
      "\n"
     ]
    },
    {
     "name": "stdout",
     "output_type": "stream",
     "text": [
      "\tITA,  5th phase (01May2020 - 11May2020): finished  434 trials in 0 min 20 sec"
     ]
    },
    {
     "name": "stdout",
     "output_type": "stream",
     "text": [
      "\n"
     ]
    },
    {
     "name": "stdout",
     "output_type": "stream",
     "text": [
      "\tBOL,  9th phase (03Sep2020 - 10Sep2020): finished  597 trials in 0 min 30 sec"
     ]
    },
    {
     "name": "stdout",
     "output_type": "stream",
     "text": [
      "\n"
     ]
    },
    {
     "name": "stdout",
     "output_type": "stream",
     "text": [
      "\tITA,  4th phase (19Apr2020 - 30Apr2020): finished  434 trials in 0 min 20 sec"
     ]
    },
    {
     "name": "stdout",
     "output_type": "stream",
     "text": [
      "\n"
     ]
    },
    {
     "name": "stdout",
     "output_type": "stream",
     "text": [
      "\tBRA,  2nd phase (15Jun2020 - 26Jun2020): finished  494 trials in 0 min 20 sec"
     ]
    },
    {
     "name": "stdout",
     "output_type": "stream",
     "text": [
      "\n"
     ]
    },
    {
     "name": "stdout",
     "output_type": "stream",
     "text": [
      "\tFRA,  7th phase (04Aug2020 - 23Aug2020): finished  491 trials in 0 min 20 sec"
     ]
    },
    {
     "name": "stdout",
     "output_type": "stream",
     "text": [
      "\n"
     ]
    },
    {
     "name": "stdout",
     "output_type": "stream",
     "text": [
      "\tLVA,  1st phase (08Apr2020 - 18Apr2020): finished 1159 trials in 1 min  0 sec"
     ]
    },
    {
     "name": "stdout",
     "output_type": "stream",
     "text": [
      "\n"
     ]
    },
    {
     "name": "stdout",
     "output_type": "stream",
     "text": [
      "\tRUS, 11th phase (12Sep2020 - 25Sep2020): finished 1129 trials in 1 min  0 sec"
     ]
    },
    {
     "name": "stdout",
     "output_type": "stream",
     "text": [
      "\n"
     ]
    },
    {
     "name": "stdout",
     "output_type": "stream",
     "text": [
      "\tBOL,  8th phase (26Aug2020 - 02Sep2020): finished  286 trials in 0 min 10 sec"
     ]
    },
    {
     "name": "stdout",
     "output_type": "stream",
     "text": [
      "\n"
     ]
    },
    {
     "name": "stdout",
     "output_type": "stream",
     "text": [
      "\tARE,  5th phase (21Jun2020 - 03Jul2020): finished  264 trials in 0 min 10 sec"
     ]
    },
    {
     "name": "stdout",
     "output_type": "stream",
     "text": [
      "\n"
     ]
    },
    {
     "name": "stdout",
     "output_type": "stream",
     "text": [
      "\tUSA, 11th phase (26Sep2020 - 08Oct2020): finished  834 trials in 0 min 35 sec"
     ]
    },
    {
     "name": "stdout",
     "output_type": "stream",
     "text": [
      "\n"
     ]
    },
    {
     "name": "stdout",
     "output_type": "stream",
     "text": [
      "\tLVA, 11th phase (25Sep2020 - 08Oct2020): finished 1485 trials in 1 min  0 sec"
     ]
    },
    {
     "name": "stdout",
     "output_type": "stream",
     "text": [
      "\n"
     ]
    },
    {
     "name": "stdout",
     "output_type": "stream",
     "text": [
      "\tMKD,  9th phase (04Sep2020 - 16Sep2020): finished  149 trials in 0 min  5 sec"
     ]
    },
    {
     "name": "stdout",
     "output_type": "stream",
     "text": [
      "\n"
     ]
    },
    {
     "name": "stdout",
     "output_type": "stream",
     "text": [
      "\tBHR,  8th phase (20Aug2020 - 04Sep2020): finished 1277 trials in 1 min  0 sec"
     ]
    },
    {
     "name": "stdout",
     "output_type": "stream",
     "text": [
      "\n"
     ]
    },
    {
     "name": "stdout",
     "output_type": "stream",
     "text": [
      "\tLVA, 10th phase (09Sep2020 - 24Sep2020): finished 1482 trials in 1 min  0 sec"
     ]
    },
    {
     "name": "stdout",
     "output_type": "stream",
     "text": [
      "\n"
     ]
    },
    {
     "name": "stdout",
     "output_type": "stream",
     "text": [
      "\tBHR,  5th phase (07Jul2020 - 18Jul2020): finished 1252 trials in 1 min  0 sec"
     ]
    },
    {
     "name": "stdout",
     "output_type": "stream",
     "text": [
      "\n"
     ]
    },
    {
     "name": "stdout",
     "output_type": "stream",
     "text": [
      "\tUSA,  7th phase (08Aug2020 - 18Aug2020): finished  883 trials in 0 min 40 sec"
     ]
    },
    {
     "name": "stdout",
     "output_type": "stream",
     "text": [
      "\n"
     ]
    },
    {
     "name": "stdout",
     "output_type": "stream",
     "text": [
      "\tTUR,  8th phase (05Aug2020 - 22Aug2020): finished  349 trials in 0 min 15 sec"
     ]
    },
    {
     "name": "stdout",
     "output_type": "stream",
     "text": [
      "\n"
     ]
    },
    {
     "name": "stdout",
     "output_type": "stream",
     "text": [
      "\tFRA,  4th phase (05May2020 - 28May2020): finished 1169 trials in 1 min  0 sec"
     ]
    },
    {
     "name": "stdout",
     "output_type": "stream",
     "text": [
      "\n"
     ]
    },
    {
     "name": "stdout",
     "output_type": "stream",
     "text": [
      "\tIRN,  7th phase (18Jul2020 - 01Aug2020): finished  135 trials in 0 min  5 sec"
     ]
    },
    {
     "name": "stdout",
     "output_type": "stream",
     "text": [
      "\n"
     ]
    },
    {
     "name": "stdout",
     "output_type": "stream",
     "text": [
      "\tFRA,  1st phase (25Mar2020 - 04Apr2020): finished 1193 trials in 1 min  0 sec"
     ]
    },
    {
     "name": "stdout",
     "output_type": "stream",
     "text": [
      "\n"
     ]
    },
    {
     "name": "stdout",
     "output_type": "stream",
     "text": [
      "\tTUR,  9th phase (23Aug2020 - 06Sep2020): finished  285 trials in 0 min 10 sec"
     ]
    },
    {
     "name": "stdout",
     "output_type": "stream",
     "text": [
      "\n"
     ]
    },
    {
     "name": "stdout",
     "output_type": "stream",
     "text": [
      "\tUSA,  9th phase (01Sep2020 - 13Sep2020): finished 1224 trials in 1 min  0 sec"
     ]
    },
    {
     "name": "stdout",
     "output_type": "stream",
     "text": [
      "\n"
     ]
    },
    {
     "name": "stdout",
     "output_type": "stream",
     "text": [
      "\tLVA,  3rd phase (30Apr2020 - 07May2020): finished 1378 trials in 1 min  0 sec"
     ]
    },
    {
     "name": "stdout",
     "output_type": "stream",
     "text": [
      "\n"
     ]
    },
    {
     "name": "stdout",
     "output_type": "stream",
     "text": [
      "\tUSA,  6th phase (28Jul2020 - 07Aug2020): finished  358 trials in 0 min 15 sec"
     ]
    },
    {
     "name": "stdout",
     "output_type": "stream",
     "text": [
      "\n"
     ]
    },
    {
     "name": "stdout",
     "output_type": "stream",
     "text": [
      "\tBOL,  3rd phase (06Jul2020 - 15Jul2020): finished 1209 trials in 1 min  0 sec"
     ]
    },
    {
     "name": "stdout",
     "output_type": "stream",
     "text": [
      "\n"
     ]
    },
    {
     "name": "stdout",
     "output_type": "stream",
     "text": [
      "\tRUS,  3rd phase (28May2020 - 06Jun2020): finished 1175 trials in 1 min  0 sec"
     ]
    },
    {
     "name": "stdout",
     "output_type": "stream",
     "text": [
      "\n"
     ]
    },
    {
     "name": "stdout",
     "output_type": "stream",
     "text": [
      "\tUSA,  2nd phase (04Jun2020 - 24Jun2020): finished 1262 trials in 1 min  0 sec"
     ]
    },
    {
     "name": "stdout",
     "output_type": "stream",
     "text": [
      "\n"
     ]
    },
    {
     "name": "stdout",
     "output_type": "stream",
     "text": [
      "\tMKD,  5th phase (27Jul2020 - 05Aug2020): finished 1207 trials in 0 min 55 sec"
     ]
    },
    {
     "name": "stdout",
     "output_type": "stream",
     "text": [
      "\n"
     ]
    },
    {
     "name": "stdout",
     "output_type": "stream",
     "text": [
      "\tARE,  7th phase (23Jul2020 - 20Aug2020): finished 1272 trials in 1 min  0 sec"
     ]
    },
    {
     "name": "stdout",
     "output_type": "stream",
     "text": [
      "\n"
     ]
    },
    {
     "name": "stdout",
     "output_type": "stream",
     "text": [
      "\tITA,  9th phase (29Aug2020 - 15Sep2020): finished  422 trials in 0 min 15 sec"
     ]
    },
    {
     "name": "stdout",
     "output_type": "stream",
     "text": [
      "\n"
     ]
    },
    {
     "name": "stdout",
     "output_type": "stream",
     "text": [
      "\tRUS,  5th phase (16Jun2020 - 27Jun2020): finished 1357 trials in 1 min  0 sec"
     ]
    },
    {
     "name": "stdout",
     "output_type": "stream",
     "text": [
      "\n"
     ]
    },
    {
     "name": "stdout",
     "output_type": "stream",
     "text": [
      "\tBOL, 10th phase (11Sep2020 - 21Sep2020): finished  298 trials in 0 min 10 sec"
     ]
    },
    {
     "name": "stdout",
     "output_type": "stream",
     "text": [
      "\n"
     ]
    },
    {
     "name": "stdout",
     "output_type": "stream",
     "text": [
      "\tTUR,  2nd phase (30Apr2020 - 08May2020): finished 1143 trials in 0 min 50 sec"
     ]
    },
    {
     "name": "stdout",
     "output_type": "stream",
     "text": [
      "\n"
     ]
    },
    {
     "name": "stdout",
     "output_type": "stream",
     "text": [
      "\tITA,  6th phase (12May2020 - 27May2020): finished  275 trials in 0 min 10 sec"
     ]
    },
    {
     "name": "stdout",
     "output_type": "stream",
     "text": [
      "\n"
     ]
    },
    {
     "name": "stdout",
     "output_type": "stream",
     "text": [
      "\tBOL,  0th phase (01Apr2020 - 13Jun2020): finished 1266 trials in 1 min  0 sec"
     ]
    },
    {
     "name": "stdout",
     "output_type": "stream",
     "text": [
      "\n"
     ]
    },
    {
     "name": "stdout",
     "output_type": "stream",
     "text": [
      "\tIRN,  8th phase (02Aug2020 - 18Aug2020): finished  153 trials in 0 min  5 sec"
     ]
    },
    {
     "name": "stdout",
     "output_type": "stream",
     "text": [
      "\n"
     ]
    },
    {
     "name": "stdout",
     "output_type": "stream",
     "text": [
      "\tBOL,  7th phase (11Aug2020 - 25Aug2020): finished 1318 trials in 1 min  0 sec"
     ]
    },
    {
     "name": "stdout",
     "output_type": "stream",
     "text": [
      "\n"
     ]
    },
    {
     "name": "stdout",
     "output_type": "stream",
     "text": [
      "\tARE,  6th phase (04Jul2020 - 22Jul2020): finished 1247 trials in 1 min  0 sec"
     ]
    },
    {
     "name": "stdout",
     "output_type": "stream",
     "text": [
      "\n"
     ]
    },
    {
     "name": "stdout",
     "output_type": "stream",
     "text": [
      "\tARE,  9th phase (10Sep2020 - 21Sep2020): finished 1262 trials in 1 min  0 sec"
     ]
    },
    {
     "name": "stdout",
     "output_type": "stream",
     "text": [
      "\n"
     ]
    },
    {
     "name": "stdout",
     "output_type": "stream",
     "text": [
      "\tITA, 11th phase (29Sep2020 - 08Oct2020): finished  196 trials in 0 min 10 sec"
     ]
    },
    {
     "name": "stdout",
     "output_type": "stream",
     "text": [
      "\n"
     ]
    },
    {
     "name": "stdout",
     "output_type": "stream",
     "text": [
      "\tLVA,  2nd phase (19Apr2020 - 29Apr2020): finished 1174 trials in 1 min  0 sec"
     ]
    },
    {
     "name": "stdout",
     "output_type": "stream",
     "text": [
      "\n"
     ]
    },
    {
     "name": "stdout",
     "output_type": "stream",
     "text": [
      "\tBRA, 10th phase (11Sep2020 - 23Sep2020): finished  151 trials in 0 min  5 sec"
     ]
    },
    {
     "name": "stdout",
     "output_type": "stream",
     "text": [
      "\n"
     ]
    },
    {
     "name": "stdout",
     "output_type": "stream",
     "text": [
      "\tMKD,  1st phase (02Jun2020 - 24Jun2020): finished 1157 trials in 1 min  0 sec"
     ]
    },
    {
     "name": "stdout",
     "output_type": "stream",
     "text": [
      "\n"
     ]
    },
    {
     "name": "stdout",
     "output_type": "stream",
     "text": [
      "\tIRN,  6th phase (03Jul2020 - 17Jul2020): finished  160 trials in 0 min  5 sec"
     ]
    },
    {
     "name": "stdout",
     "output_type": "stream",
     "text": [
      "\n"
     ]
    },
    {
     "name": "stdout",
     "output_type": "stream",
     "text": [
      "\tRUS,  2nd phase (17May2020 - 27May2020): finished 1192 trials in 1 min  0 sec"
     ]
    },
    {
     "name": "stdout",
     "output_type": "stream",
     "text": [
      "\n"
     ]
    },
    {
     "name": "stdout",
     "output_type": "stream",
     "text": [
      "\tRUS,  0th phase (12Feb2020 - 06May2020): finished 1288 trials in 1 min  0 sec"
     ]
    },
    {
     "name": "stdout",
     "output_type": "stream",
     "text": [
      "\n"
     ]
    },
    {
     "name": "stdout",
     "output_type": "stream",
     "text": [
      "\tTUR,  4th phase (23May2020 - 12Jun2020): finished 1277 trials in 1 min  0 sec"
     ]
    },
    {
     "name": "stdout",
     "output_type": "stream",
     "text": [
      "\n"
     ]
    },
    {
     "name": "stdout",
     "output_type": "stream",
     "text": [
      "\tBRA,  1st phase (28May2020 - 14Jun2020): finished 1291 trials in 1 min  0 sec"
     ]
    },
    {
     "name": "stdout",
     "output_type": "stream",
     "text": [
      "\n"
     ]
    },
    {
     "name": "stdout",
     "output_type": "stream",
     "text": [
      "\tBRA,  4th phase (09Jul2020 - 21Jul2020): finished 1347 trials in 1 min  0 sec"
     ]
    },
    {
     "name": "stdout",
     "output_type": "stream",
     "text": [
      "\n"
     ]
    },
    {
     "name": "stdout",
     "output_type": "stream",
     "text": [
      "\tRUS,  8th phase (25Jul2020 - 08Aug2020): finished 1356 trials in 1 min  0 sec"
     ]
    },
    {
     "name": "stdout",
     "output_type": "stream",
     "text": [
      "\n"
     ]
    },
    {
     "name": "stdout",
     "output_type": "stream",
     "text": [
      "\tLVA,  0th phase (10Mar2020 - 07Apr2020): finished 1570 trials in 1 min  0 sec"
     ]
    },
    {
     "name": "stdout",
     "output_type": "stream",
     "text": [
      "\n"
     ]
    },
    {
     "name": "stdout",
     "output_type": "stream",
     "text": [
      "\tITA,  0th phase (24Feb2020 - 20Mar2020): finished 1418 trials in 1 min  0 sec"
     ]
    },
    {
     "name": "stdout",
     "output_type": "stream",
     "text": [
      "\n"
     ]
    },
    {
     "name": "stdout",
     "output_type": "stream",
     "text": [
      "\tLVA,  7th phase (10Jul2020 - 06Aug2020): finished 1627 trials in 1 min  0 sec"
     ]
    },
    {
     "name": "stdout",
     "output_type": "stream",
     "text": [
      "\n"
     ]
    },
    {
     "name": "stdout",
     "output_type": "stream",
     "text": [
      "\tLVA,  8th phase (07Aug2020 - 28Aug2020): finished 1630 trials in 1 min  0 sec"
     ]
    },
    {
     "name": "stdout",
     "output_type": "stream",
     "text": [
      "\n"
     ]
    },
    {
     "name": "stdout",
     "output_type": "stream",
     "text": [
      "\tTUR,  6th phase (28Jun2020 - 15Jul2020): finished  564 trials in 0 min 20 sec"
     ]
    },
    {
     "name": "stdout",
     "output_type": "stream",
     "text": [
      "\n"
     ]
    },
    {
     "name": "stdout",
     "output_type": "stream",
     "text": [
      "\tIRN,  9th phase (19Aug2020 - 07Sep2020): finished  179 trials in 0 min  5 sec"
     ]
    },
    {
     "name": "stdout",
     "output_type": "stream",
     "text": [
      "\n"
     ]
    },
    {
     "name": "stdout",
     "output_type": "stream",
     "text": [
      "\tTUR,  7th phase (16Jul2020 - 04Aug2020): finished  188 trials in 0 min  5 sec"
     ]
    },
    {
     "name": "stdout",
     "output_type": "stream",
     "text": [
      "\n"
     ]
    },
    {
     "name": "stdout",
     "output_type": "stream",
     "text": [
      "\tBRA,  8th phase (20Aug2020 - 29Aug2020): finished 1409 trials in 1 min  0 sec"
     ]
    },
    {
     "name": "stdout",
     "output_type": "stream",
     "text": [
      "\n"
     ]
    },
    {
     "name": "stdout",
     "output_type": "stream",
     "text": [
      "\tMKD,  6th phase (06Aug2020 - 13Aug2020): finished 1423 trials in 1 min  0 sec"
     ]
    },
    {
     "name": "stdout",
     "output_type": "stream",
     "text": [
      "\n"
     ]
    },
    {
     "name": "stdout",
     "output_type": "stream",
     "text": [
      "\tUSA,  5th phase (18Jul2020 - 27Jul2020): finished  448 trials in 0 min 15 sec"
     ]
    },
    {
     "name": "stdout",
     "output_type": "stream",
     "text": [
      "\n"
     ]
    },
    {
     "name": "stdout",
     "output_type": "stream",
     "text": [
      "\tITA,  3rd phase (09Apr2020 - 18Apr2020): finished  297 trials in 0 min 10 sec"
     ]
    },
    {
     "name": "stdout",
     "output_type": "stream",
     "text": [
      "\n"
     ]
    },
    {
     "name": "stdout",
     "output_type": "stream",
     "text": [
      "\tARE, 10th phase (22Sep2020 - 29Sep2020): finished 1122 trials in 0 min 45 sec"
     ]
    },
    {
     "name": "stdout",
     "output_type": "stream",
     "text": [
      "\n"
     ]
    },
    {
     "name": "stdout",
     "output_type": "stream",
     "text": [
      "\tFRA,  6th phase (02Jul2020 - 03Aug2020): finished  293 trials in 0 min 10 sec"
     ]
    },
    {
     "name": "stdout",
     "output_type": "stream",
     "text": [
      "\n"
     ]
    },
    {
     "name": "stdout",
     "output_type": "stream",
     "text": [
      "\tBOL,  1st phase (14Jun2020 - 25Jun2020): finished 1424 trials in 1 min  0 sec"
     ]
    },
    {
     "name": "stdout",
     "output_type": "stream",
     "text": [
      "\n"
     ]
    },
    {
     "name": "stdout",
     "output_type": "stream",
     "text": [
      "\tBOL,  4th phase (16Jul2020 - 23Jul2020): finished  321 trials in 0 min 10 sec"
     ]
    },
    {
     "name": "stdout",
     "output_type": "stream",
     "text": [
      "\n"
     ]
    },
    {
     "name": "stdout",
     "output_type": "stream",
     "text": [
      "\tARE,  3rd phase (25May2020 - 06Jun2020): finished 1411 trials in 1 min  0 sec"
     ]
    },
    {
     "name": "stdout",
     "output_type": "stream",
     "text": [
      "\n"
     ]
    },
    {
     "name": "stdout",
     "output_type": "stream",
     "text": [
      "\tTUR,  5th phase (13Jun2020 - 27Jun2020): finished 1405 trials in 1 min  0 sec"
     ]
    },
    {
     "name": "stdout",
     "output_type": "stream",
     "text": [
      "\n"
     ]
    },
    {
     "name": "stdout",
     "output_type": "stream",
     "text": [
      "\tBRA,  3rd phase (27Jun2020 - 08Jul2020): finished 1355 trials in 1 min  0 sec"
     ]
    },
    {
     "name": "stdout",
     "output_type": "stream",
     "text": [
      "\n"
     ]
    },
    {
     "name": "stdout",
     "output_type": "stream",
     "text": [
      "\tUSA, 10th phase (14Sep2020 - 25Sep2020): finished  743 trials in 0 min 30 sec"
     ]
    },
    {
     "name": "stdout",
     "output_type": "stream",
     "text": [
      "\n"
     ]
    },
    {
     "name": "stdout",
     "output_type": "stream",
     "text": [
      "\tBHR,  7th phase (05Aug2020 - 19Aug2020): finished  305 trials in 0 min 10 sec"
     ]
    },
    {
     "name": "stdout",
     "output_type": "stream",
     "text": [
      "\n"
     ]
    },
    {
     "name": "stdout",
     "output_type": "stream",
     "text": [
      "\tARE,  1st phase (29Apr2020 - 14May2020): finished 1347 trials in 1 min  0 sec"
     ]
    },
    {
     "name": "stdout",
     "output_type": "stream",
     "text": [
      "\n"
     ]
    },
    {
     "name": "stdout",
     "output_type": "stream",
     "text": [
      "\tBHR,  6th phase (19Jul2020 - 04Aug2020): finished  318 trials in 0 min 10 sec"
     ]
    },
    {
     "name": "stdout",
     "output_type": "stream",
     "text": [
      "\n"
     ]
    },
    {
     "name": "stdout",
     "output_type": "stream",
     "text": [
      "\tLVA,  9th phase (29Aug2020 - 08Sep2020): finished 1566 trials in 1 min  0 sec"
     ]
    },
    {
     "name": "stdout",
     "output_type": "stream",
     "text": [
      "\n"
     ]
    },
    {
     "name": "stdout",
     "output_type": "stream",
     "text": [
      "\tBHR,  9th phase (05Sep2020 - 15Sep2020): finished  163 trials in 0 min  5 sec"
     ]
    },
    {
     "name": "stdout",
     "output_type": "stream",
     "text": [
      "\n"
     ]
    },
    {
     "name": "stdout",
     "output_type": "stream",
     "text": [
      "\tMKD,  4th phase (17Jul2020 - 26Jul2020): finished  340 trials in 0 min 10 sec"
     ]
    },
    {
     "name": "stdout",
     "output_type": "stream",
     "text": [
      "\n"
     ]
    },
    {
     "name": "stdout",
     "output_type": "stream",
     "text": [
      "\tIRN,  1st phase (30Mar2020 - 17Apr2020): finished 1541 trials in 1 min  0 sec"
     ]
    },
    {
     "name": "stdout",
     "output_type": "stream",
     "text": [
      "\n"
     ]
    },
    {
     "name": "stdout",
     "output_type": "stream",
     "text": [
      "\tUSA,  0th phase (09Feb2020 - 03May2020): finished 1500 trials in 1 min  0 sec"
     ]
    },
    {
     "name": "stdout",
     "output_type": "stream",
     "text": [
      "\n"
     ]
    },
    {
     "name": "stdout",
     "output_type": "stream",
     "text": [
      "\tITA,  1st phase (21Mar2020 - 28Mar2020): finished 1536 trials in 1 min  0 sec"
     ]
    },
    {
     "name": "stdout",
     "output_type": "stream",
     "text": [
      "\n"
     ]
    },
    {
     "name": "stdout",
     "output_type": "stream",
     "text": [
      "\tFRA,  8th phase (24Aug2020 - 07Sep2020): finished 1007 trials in 0 min 40 sec"
     ]
    },
    {
     "name": "stdout",
     "output_type": "stream",
     "text": [
      "\n"
     ]
    },
    {
     "name": "stdout",
     "output_type": "stream",
     "text": [
      "\tBRA,  6th phase (31Jul2020 - 10Aug2020): finished 1015 trials in 0 min 40 sec"
     ]
    },
    {
     "name": "stdout",
     "output_type": "stream",
     "text": [
      "\n"
     ]
    },
    {
     "name": "stdout",
     "output_type": "stream",
     "text": [
      "\tTUR,  3rd phase (09May2020 - 22May2020): finished 1417 trials in 1 min  0 sec"
     ]
    },
    {
     "name": "stdout",
     "output_type": "stream",
     "text": [
      "\n"
     ]
    },
    {
     "name": "stdout",
     "output_type": "stream",
     "text": [
      "\tBHR,  4th phase (25Jun2020 - 06Jul2020): finished  565 trials in 0 min 20 sec"
     ]
    },
    {
     "name": "stdout",
     "output_type": "stream",
     "text": [
      "\n"
     ]
    },
    {
     "name": "stdout",
     "output_type": "stream",
     "text": [
      "\tMKD, 10th phase (17Sep2020 - 29Sep2020): finished  842 trials in 0 min 35 sec"
     ]
    },
    {
     "name": "stdout",
     "output_type": "stream",
     "text": [
      "\n"
     ]
    },
    {
     "name": "stdout",
     "output_type": "stream",
     "text": [
      "\tIRN,  5th phase (17Jun2020 - 02Jul2020): finished 1290 trials in 1 min  0 sec"
     ]
    },
    {
     "name": "stdout",
     "output_type": "stream",
     "text": [
      "\n"
     ]
    },
    {
     "name": "stdout",
     "output_type": "stream",
     "text": [
      "\tUSA,  1st phase (04May2020 - 03Jun2020): finished 1276 trials in 1 min  0 sec"
     ]
    },
    {
     "name": "stdout",
     "output_type": "stream",
     "text": [
      "\n"
     ]
    },
    {
     "name": "stdout",
     "output_type": "stream",
     "text": [
      "\tMKD,  3rd phase (08Jul2020 - 16Jul2020): finished  419 trials in 0 min 15 sec"
     ]
    },
    {
     "name": "stdout",
     "output_type": "stream",
     "text": [
      "\n"
     ]
    },
    {
     "name": "stdout",
     "output_type": "stream",
     "text": [
      "\tTUR,  0th phase (24Mar2020 - 16Apr2020): finished 1308 trials in 1 min  0 sec"
     ]
    },
    {
     "name": "stdout",
     "output_type": "stream",
     "text": [
      "\n"
     ]
    },
    {
     "name": "stdout",
     "output_type": "stream",
     "text": [
      "\tLVA,  6th phase (02Jun2020 - 09Jul2020): finished 1329 trials in 1 min  0 sec"
     ]
    },
    {
     "name": "stdout",
     "output_type": "stream",
     "text": [
      "\n"
     ]
    },
    {
     "name": "stdout",
     "output_type": "stream",
     "text": [
      "\tBRA,  0th phase (16Mar2020 - 27May2020): finished 1289 trials in 1 min  0 sec"
     ]
    },
    {
     "name": "stdout",
     "output_type": "stream",
     "text": [
      "\n"
     ]
    },
    {
     "name": "stdout",
     "output_type": "stream",
     "text": [
      "\tARE,  4th phase (07Jun2020 - 20Jun2020): finished 1333 trials in 1 min  0 sec"
     ]
    },
    {
     "name": "stdout",
     "output_type": "stream",
     "text": [
      "\n"
     ]
    },
    {
     "name": "stdout",
     "output_type": "stream",
     "text": [
      "\tIRN,  0th phase (26Feb2020 - 29Mar2020): finished 1275 trials in 1 min  0 sec"
     ]
    },
    {
     "name": "stdout",
     "output_type": "stream",
     "text": [
      "\n"
     ]
    },
    {
     "name": "stdout",
     "output_type": "stream",
     "text": [
      "\tFRA,  3rd phase (21Apr2020 - 04May2020): finished 1291 trials in 1 min  0 sec"
     ]
    },
    {
     "name": "stdout",
     "output_type": "stream",
     "text": [
      "\n"
     ]
    },
    {
     "name": "stdout",
     "output_type": "stream",
     "text": [
      "\tBOL,  2nd phase (26Jun2020 - 05Jul2020): finished  276 trials in 0 min 10 sec"
     ]
    },
    {
     "name": "stdout",
     "output_type": "stream",
     "text": [
      "\n"
     ]
    },
    {
     "name": "stdout",
     "output_type": "stream",
     "text": [
      "\tARE,  2nd phase (15May2020 - 24May2020): finished 1272 trials in 1 min  0 sec"
     ]
    },
    {
     "name": "stdout",
     "output_type": "stream",
     "text": [
      "\n"
     ]
    },
    {
     "name": "stdout",
     "output_type": "stream",
     "text": [
      "\tTUR,  1st phase (17Apr2020 - 29Apr2020): finished 1345 trials in 1 min  0 sec"
     ]
    },
    {
     "name": "stdout",
     "output_type": "stream",
     "text": [
      "\n"
     ]
    },
    {
     "name": "stdout",
     "output_type": "stream",
     "text": [
      "\tRUS,  9th phase (09Aug2020 - 26Aug2020): finished 1328 trials in 1 min  0 sec"
     ]
    },
    {
     "name": "stdout",
     "output_type": "stream",
     "text": [
      "\n"
     ]
    },
    {
     "name": "stdout",
     "output_type": "stream",
     "text": [
      "\tLVA,  4th phase (08May2020 - 15May2020): finished 1296 trials in 1 min  0 sec"
     ]
    },
    {
     "name": "stdout",
     "output_type": "stream",
     "text": [
      "\n"
     ]
    },
    {
     "name": "stdout",
     "output_type": "stream",
     "text": [
      "\tBHR,  1st phase (06May2020 - 01Jun2020): finished 1304 trials in 1 min  0 sec"
     ]
    },
    {
     "name": "stdout",
     "output_type": "stream",
     "text": [
      "\n"
     ]
    },
    {
     "name": "stdout",
     "output_type": "stream",
     "text": [
      "\tRUS, 10th phase (27Aug2020 - 11Sep2020): finished 1318 trials in 1 min  0 sec"
     ]
    },
    {
     "name": "stdout",
     "output_type": "stream",
     "text": [
      "\n"
     ]
    },
    {
     "name": "stdout",
     "output_type": "stream",
     "text": [
      "\tBRA,  5th phase (22Jul2020 - 30Jul2020): finished 1386 trials in 1 min  0 sec"
     ]
    },
    {
     "name": "stdout",
     "output_type": "stream",
     "text": [
      "\n"
     ]
    },
    {
     "name": "stdout",
     "output_type": "stream",
     "text": [
      "Completed optimization. Total: 26 min 43 sec"
     ]
    },
    {
     "name": "stdout",
     "output_type": "stream",
     "text": [
      "\n"
     ]
    }
   ],
   "source": [
    "# Parameter estimation with SIR-F model\n",
    "analyser.estimate(cs.SIRF)"
   ]
  },
  {
   "cell_type": "code",
   "execution_count": 12,
   "metadata": {
    "collapsed": false
   },
   "outputs": [
    {
     "data": {
      "text/html": [
       "<div>\n",
       "<style scoped>\n",
       "    .dataframe tbody tr th:only-of-type {\n",
       "        vertical-align: middle;\n",
       "    }\n",
       "\n",
       "    .dataframe tbody tr th {\n",
       "        vertical-align: top;\n",
       "    }\n",
       "\n",
       "    .dataframe thead th {\n",
       "        text-align: right;\n",
       "    }\n",
       "</style>\n",
       "<table border=\"1\" class=\"dataframe\">\n",
       "  <thead>\n",
       "    <tr style=\"text-align: right;\">\n",
       "      <th></th>\n",
       "      <th></th>\n",
       "      <th>Type</th>\n",
       "      <th>Start</th>\n",
       "      <th>End</th>\n",
       "      <th>Population</th>\n",
       "      <th>ODE</th>\n",
       "      <th>Rt</th>\n",
       "      <th>theta</th>\n",
       "      <th>kappa</th>\n",
       "      <th>rho</th>\n",
       "      <th>sigma</th>\n",
       "      <th>tau</th>\n",
       "      <th>1/alpha2 [day]</th>\n",
       "      <th>1/gamma [day]</th>\n",
       "      <th>1/beta [day]</th>\n",
       "      <th>alpha1 [-]</th>\n",
       "      <th>RMSLE</th>\n",
       "      <th>Trials</th>\n",
       "      <th>Runtime</th>\n",
       "    </tr>\n",
       "    <tr>\n",
       "      <th>Country</th>\n",
       "      <th>Phase</th>\n",
       "      <th></th>\n",
       "      <th></th>\n",
       "      <th></th>\n",
       "      <th></th>\n",
       "      <th></th>\n",
       "      <th></th>\n",
       "      <th></th>\n",
       "      <th></th>\n",
       "      <th></th>\n",
       "      <th></th>\n",
       "      <th></th>\n",
       "      <th></th>\n",
       "      <th></th>\n",
       "      <th></th>\n",
       "      <th></th>\n",
       "      <th></th>\n",
       "      <th></th>\n",
       "      <th></th>\n",
       "    </tr>\n",
       "  </thead>\n",
       "  <tbody>\n",
       "    <tr>\n",
       "      <th rowspan=\"13\" valign=\"top\">Russia</th>\n",
       "      <th>0th</th>\n",
       "      <td>Past</td>\n",
       "      <td>12Feb2020</td>\n",
       "      <td>06May2020</td>\n",
       "      <td>330457362</td>\n",
       "      <td>SIR-F</td>\n",
       "      <td>0.02</td>\n",
       "      <td>0.602763</td>\n",
       "      <td>0.544883</td>\n",
       "      <td>0.0340813</td>\n",
       "      <td>0.00229851</td>\n",
       "      <td>360</td>\n",
       "      <td>0</td>\n",
       "      <td>108</td>\n",
       "      <td>7</td>\n",
       "      <td>0.603</td>\n",
       "      <td>18.9667</td>\n",
       "      <td>1288</td>\n",
       "      <td>1 min  0 sec</td>\n",
       "    </tr>\n",
       "    <tr>\n",
       "      <th>1st</th>\n",
       "      <td>Past</td>\n",
       "      <td>07May2020</td>\n",
       "      <td>16May2020</td>\n",
       "      <td>330457362</td>\n",
       "      <td>SIR-F</td>\n",
       "      <td>2.51</td>\n",
       "      <td>0.000729031</td>\n",
       "      <td>0.000119717</td>\n",
       "      <td>0.0129583</td>\n",
       "      <td>0.00504465</td>\n",
       "      <td>360</td>\n",
       "      <td>2088</td>\n",
       "      <td>49</td>\n",
       "      <td>19</td>\n",
       "      <td>0.001</td>\n",
       "      <td>0.0742295</td>\n",
       "      <td>1174</td>\n",
       "      <td>1 min  0 sec</td>\n",
       "    </tr>\n",
       "    <tr>\n",
       "      <th>2nd</th>\n",
       "      <td>Past</td>\n",
       "      <td>17May2020</td>\n",
       "      <td>27May2020</td>\n",
       "      <td>330457362</td>\n",
       "      <td>SIR-F</td>\n",
       "      <td>1.15</td>\n",
       "      <td>0.000245149</td>\n",
       "      <td>0.000113228</td>\n",
       "      <td>0.00683065</td>\n",
       "      <td>0.00582833</td>\n",
       "      <td>360</td>\n",
       "      <td>2207</td>\n",
       "      <td>42</td>\n",
       "      <td>36</td>\n",
       "      <td>0</td>\n",
       "      <td>0.108726</td>\n",
       "      <td>1192</td>\n",
       "      <td>1 min  0 sec</td>\n",
       "    </tr>\n",
       "    <tr>\n",
       "      <th>3rd</th>\n",
       "      <td>Past</td>\n",
       "      <td>28May2020</td>\n",
       "      <td>06Jun2020</td>\n",
       "      <td>330457362</td>\n",
       "      <td>SIR-F</td>\n",
       "      <td>1.1</td>\n",
       "      <td>0.0003578</td>\n",
       "      <td>0.000113228</td>\n",
       "      <td>0.00527013</td>\n",
       "      <td>0.00469421</td>\n",
       "      <td>360</td>\n",
       "      <td>2207</td>\n",
       "      <td>53</td>\n",
       "      <td>47</td>\n",
       "      <td>0</td>\n",
       "      <td>0.0735318</td>\n",
       "      <td>1175</td>\n",
       "      <td>1 min  0 sec</td>\n",
       "    </tr>\n",
       "    <tr>\n",
       "      <th>4th</th>\n",
       "      <td>Past</td>\n",
       "      <td>07Jun2020</td>\n",
       "      <td>15Jun2020</td>\n",
       "      <td>330457362</td>\n",
       "      <td>SIR-F</td>\n",
       "      <td>1.09</td>\n",
       "      <td>0.0185887</td>\n",
       "      <td>2.41483e-06</td>\n",
       "      <td>0.00426846</td>\n",
       "      <td>0.00384564</td>\n",
       "      <td>360</td>\n",
       "      <td>103526</td>\n",
       "      <td>65</td>\n",
       "      <td>58</td>\n",
       "      <td>0.019</td>\n",
       "      <td>0.0516445</td>\n",
       "      <td>1140</td>\n",
       "      <td>1 min  0 sec</td>\n",
       "    </tr>\n",
       "    <tr>\n",
       "      <th>5th</th>\n",
       "      <td>Past</td>\n",
       "      <td>16Jun2020</td>\n",
       "      <td>27Jun2020</td>\n",
       "      <td>330457362</td>\n",
       "      <td>SIR-F</td>\n",
       "      <td>0.8</td>\n",
       "      <td>0.000390937</td>\n",
       "      <td>7.58064e-05</td>\n",
       "      <td>0.00341093</td>\n",
       "      <td>0.00418775</td>\n",
       "      <td>360</td>\n",
       "      <td>3297</td>\n",
       "      <td>59</td>\n",
       "      <td>73</td>\n",
       "      <td>0</td>\n",
       "      <td>0.081878</td>\n",
       "      <td>1357</td>\n",
       "      <td>1 min  0 sec</td>\n",
       "    </tr>\n",
       "    <tr>\n",
       "      <th>6th</th>\n",
       "      <td>Past</td>\n",
       "      <td>28Jun2020</td>\n",
       "      <td>10Jul2020</td>\n",
       "      <td>330457362</td>\n",
       "      <td>SIR-F</td>\n",
       "      <td>0.94</td>\n",
       "      <td>0.00163628</td>\n",
       "      <td>6.92055e-05</td>\n",
       "      <td>0.00248239</td>\n",
       "      <td>0.0025637</td>\n",
       "      <td>360</td>\n",
       "      <td>3612</td>\n",
       "      <td>97</td>\n",
       "      <td>100</td>\n",
       "      <td>0.002</td>\n",
       "      <td>0.0617077</td>\n",
       "      <td>1113</td>\n",
       "      <td>1 min  0 sec</td>\n",
       "    </tr>\n",
       "    <tr>\n",
       "      <th>7th</th>\n",
       "      <td>Past</td>\n",
       "      <td>11Jul2020</td>\n",
       "      <td>24Jul2020</td>\n",
       "      <td>330457362</td>\n",
       "      <td>SIR-F</td>\n",
       "      <td>0.85</td>\n",
       "      <td>0.000914318</td>\n",
       "      <td>2.12821e-05</td>\n",
       "      <td>0.00196508</td>\n",
       "      <td>0.00229007</td>\n",
       "      <td>360</td>\n",
       "      <td>11746</td>\n",
       "      <td>109</td>\n",
       "      <td>127</td>\n",
       "      <td>0.001</td>\n",
       "      <td>0.071869</td>\n",
       "      <td>1221</td>\n",
       "      <td>1 min  0 sec</td>\n",
       "    </tr>\n",
       "    <tr>\n",
       "      <th>8th</th>\n",
       "      <td>Past</td>\n",
       "      <td>25Jul2020</td>\n",
       "      <td>08Aug2020</td>\n",
       "      <td>330457362</td>\n",
       "      <td>SIR-F</td>\n",
       "      <td>0.74</td>\n",
       "      <td>0.020427</td>\n",
       "      <td>3.65764e-06</td>\n",
       "      <td>0.00161607</td>\n",
       "      <td>0.00213574</td>\n",
       "      <td>360</td>\n",
       "      <td>68350</td>\n",
       "      <td>117</td>\n",
       "      <td>154</td>\n",
       "      <td>0.02</td>\n",
       "      <td>0.060913</td>\n",
       "      <td>1356</td>\n",
       "      <td>1 min  0 sec</td>\n",
       "    </tr>\n",
       "    <tr>\n",
       "      <th>9th</th>\n",
       "      <td>Past</td>\n",
       "      <td>09Aug2020</td>\n",
       "      <td>26Aug2020</td>\n",
       "      <td>330457362</td>\n",
       "      <td>SIR-F</td>\n",
       "      <td>0.93</td>\n",
       "      <td>0.0197123</td>\n",
       "      <td>9.9623e-06</td>\n",
       "      <td>0.00138111</td>\n",
       "      <td>0.00145289</td>\n",
       "      <td>360</td>\n",
       "      <td>25094</td>\n",
       "      <td>172</td>\n",
       "      <td>181</td>\n",
       "      <td>0.02</td>\n",
       "      <td>0.0560039</td>\n",
       "      <td>1328</td>\n",
       "      <td>1 min  0 sec</td>\n",
       "    </tr>\n",
       "    <tr>\n",
       "      <th>10th</th>\n",
       "      <td>Past</td>\n",
       "      <td>27Aug2020</td>\n",
       "      <td>11Sep2020</td>\n",
       "      <td>330457362</td>\n",
       "      <td>SIR-F</td>\n",
       "      <td>0.88</td>\n",
       "      <td>0.000879664</td>\n",
       "      <td>2.12578e-05</td>\n",
       "      <td>0.00125177</td>\n",
       "      <td>0.00139583</td>\n",
       "      <td>360</td>\n",
       "      <td>11760</td>\n",
       "      <td>179</td>\n",
       "      <td>199</td>\n",
       "      <td>0.001</td>\n",
       "      <td>0.0441862</td>\n",
       "      <td>1318</td>\n",
       "      <td>1 min  0 sec</td>\n",
       "    </tr>\n",
       "    <tr>\n",
       "      <th>11th</th>\n",
       "      <td>Past</td>\n",
       "      <td>12Sep2020</td>\n",
       "      <td>25Sep2020</td>\n",
       "      <td>330457362</td>\n",
       "      <td>SIR-F</td>\n",
       "      <td>1.59</td>\n",
       "      <td>0.0259253</td>\n",
       "      <td>2.41468e-06</td>\n",
       "      <td>0.0013892</td>\n",
       "      <td>0.000845992</td>\n",
       "      <td>360</td>\n",
       "      <td>103533</td>\n",
       "      <td>295</td>\n",
       "      <td>179</td>\n",
       "      <td>0.026</td>\n",
       "      <td>0.026544</td>\n",
       "      <td>1129</td>\n",
       "      <td>1 min  0 sec</td>\n",
       "    </tr>\n",
       "    <tr>\n",
       "      <th>12th</th>\n",
       "      <td>Past</td>\n",
       "      <td>26Sep2020</td>\n",
       "      <td>08Oct2020</td>\n",
       "      <td>330457362</td>\n",
       "      <td>-</td>\n",
       "      <td>-</td>\n",
       "      <td>-</td>\n",
       "      <td>-</td>\n",
       "      <td>-</td>\n",
       "      <td>-</td>\n",
       "      <td>-</td>\n",
       "      <td>-</td>\n",
       "      <td>-</td>\n",
       "      <td>-</td>\n",
       "      <td>-</td>\n",
       "      <td>-</td>\n",
       "      <td>-</td>\n",
       "      <td>-</td>\n",
       "    </tr>\n",
       "  </tbody>\n",
       "</table>\n",
       "</div>"
      ],
      "text/plain": [
       "               Type      Start        End  Population    ODE    Rt  \\\n",
       "Country Phase                                                        \n",
       "Russia  0th    Past  12Feb2020  06May2020   330457362  SIR-F  0.02   \n",
       "        1st    Past  07May2020  16May2020   330457362  SIR-F  2.51   \n",
       "        2nd    Past  17May2020  27May2020   330457362  SIR-F  1.15   \n",
       "        3rd    Past  28May2020  06Jun2020   330457362  SIR-F   1.1   \n",
       "        4th    Past  07Jun2020  15Jun2020   330457362  SIR-F  1.09   \n",
       "        5th    Past  16Jun2020  27Jun2020   330457362  SIR-F   0.8   \n",
       "        6th    Past  28Jun2020  10Jul2020   330457362  SIR-F  0.94   \n",
       "        7th    Past  11Jul2020  24Jul2020   330457362  SIR-F  0.85   \n",
       "        8th    Past  25Jul2020  08Aug2020   330457362  SIR-F  0.74   \n",
       "        9th    Past  09Aug2020  26Aug2020   330457362  SIR-F  0.93   \n",
       "        10th   Past  27Aug2020  11Sep2020   330457362  SIR-F  0.88   \n",
       "        11th   Past  12Sep2020  25Sep2020   330457362  SIR-F  1.59   \n",
       "        12th   Past  26Sep2020  08Oct2020   330457362      -     -   \n",
       "\n",
       "                     theta        kappa         rho        sigma  tau  \\\n",
       "Country Phase                                                           \n",
       "Russia  0th       0.602763     0.544883   0.0340813   0.00229851  360   \n",
       "        1st    0.000729031  0.000119717   0.0129583   0.00504465  360   \n",
       "        2nd    0.000245149  0.000113228  0.00683065   0.00582833  360   \n",
       "        3rd      0.0003578  0.000113228  0.00527013   0.00469421  360   \n",
       "        4th      0.0185887  2.41483e-06  0.00426846   0.00384564  360   \n",
       "        5th    0.000390937  7.58064e-05  0.00341093   0.00418775  360   \n",
       "        6th     0.00163628  6.92055e-05  0.00248239    0.0025637  360   \n",
       "        7th    0.000914318  2.12821e-05  0.00196508   0.00229007  360   \n",
       "        8th       0.020427  3.65764e-06  0.00161607   0.00213574  360   \n",
       "        9th      0.0197123   9.9623e-06  0.00138111   0.00145289  360   \n",
       "        10th   0.000879664  2.12578e-05  0.00125177   0.00139583  360   \n",
       "        11th     0.0259253  2.41468e-06   0.0013892  0.000845992  360   \n",
       "        12th             -            -           -            -    -   \n",
       "\n",
       "              1/alpha2 [day] 1/gamma [day] 1/beta [day] alpha1 [-]      RMSLE  \\\n",
       "Country Phase                                                                   \n",
       "Russia  0th                0           108            7      0.603    18.9667   \n",
       "        1st             2088            49           19      0.001  0.0742295   \n",
       "        2nd             2207            42           36          0   0.108726   \n",
       "        3rd             2207            53           47          0  0.0735318   \n",
       "        4th           103526            65           58      0.019  0.0516445   \n",
       "        5th             3297            59           73          0   0.081878   \n",
       "        6th             3612            97          100      0.002  0.0617077   \n",
       "        7th            11746           109          127      0.001   0.071869   \n",
       "        8th            68350           117          154       0.02   0.060913   \n",
       "        9th            25094           172          181       0.02  0.0560039   \n",
       "        10th           11760           179          199      0.001  0.0441862   \n",
       "        11th          103533           295          179      0.026   0.026544   \n",
       "        12th               -             -            -          -          -   \n",
       "\n",
       "              Trials       Runtime  \n",
       "Country Phase                       \n",
       "Russia  0th     1288  1 min  0 sec  \n",
       "        1st     1174  1 min  0 sec  \n",
       "        2nd     1192  1 min  0 sec  \n",
       "        3rd     1175  1 min  0 sec  \n",
       "        4th     1140  1 min  0 sec  \n",
       "        5th     1357  1 min  0 sec  \n",
       "        6th     1113  1 min  0 sec  \n",
       "        7th     1221  1 min  0 sec  \n",
       "        8th     1356  1 min  0 sec  \n",
       "        9th     1328  1 min  0 sec  \n",
       "        10th    1318  1 min  0 sec  \n",
       "        11th    1129  1 min  0 sec  \n",
       "        12th       -             -  "
      ]
     },
     "execution_count": 12,
     "metadata": {},
     "output_type": "execute_result"
    }
   ],
   "source": [
    "# Show summary\n",
    "analyser.summary(countries=countries_show)"
   ]
  },
  {
   "cell_type": "markdown",
   "metadata": {},
   "source": [
    "## Compare the history of parameters\n",
    "Here, compare the history of parameter values if countries."
   ]
  },
  {
   "cell_type": "code",
   "execution_count": 13,
   "metadata": {
    "collapsed": false
   },
   "outputs": [
    {
     "data": {
      "text/html": [
       "<div>\n",
       "<style scoped>\n",
       "    .dataframe tbody tr th:only-of-type {\n",
       "        vertical-align: middle;\n",
       "    }\n",
       "\n",
       "    .dataframe tbody tr th {\n",
       "        vertical-align: top;\n",
       "    }\n",
       "\n",
       "    .dataframe thead th {\n",
       "        text-align: right;\n",
       "    }\n",
       "</style>\n",
       "<table border=\"1\" class=\"dataframe\">\n",
       "  <thead>\n",
       "    <tr style=\"text-align: right;\">\n",
       "      <th></th>\n",
       "      <th>Date</th>\n",
       "      <th>Country</th>\n",
       "      <th>theta</th>\n",
       "      <th>kappa</th>\n",
       "      <th>rho</th>\n",
       "      <th>sigma</th>\n",
       "      <th>alpha1 [-]</th>\n",
       "      <th>1/alpha2 [day]</th>\n",
       "      <th>1/beta [day]</th>\n",
       "      <th>1/gamma [day]</th>\n",
       "      <th>...</th>\n",
       "      <th>Cancel_events</th>\n",
       "      <th>Gatherings_restrictions</th>\n",
       "      <th>Transport_closing</th>\n",
       "      <th>Stay_home_restrictions</th>\n",
       "      <th>Internal_movement_restrictions</th>\n",
       "      <th>International_movement_restrictions</th>\n",
       "      <th>Information_campaigns</th>\n",
       "      <th>Testing_policy</th>\n",
       "      <th>Contact_tracing</th>\n",
       "      <th>Stringency_index</th>\n",
       "    </tr>\n",
       "  </thead>\n",
       "  <tbody>\n",
       "    <tr>\n",
       "      <th>0</th>\n",
       "      <td>2020-02-09</td>\n",
       "      <td>United States</td>\n",
       "      <td>0.0181905</td>\n",
       "      <td>0.000449987</td>\n",
       "      <td>0.0101124</td>\n",
       "      <td>0.00146959</td>\n",
       "      <td>0.018</td>\n",
       "      <td>555</td>\n",
       "      <td>24</td>\n",
       "      <td>170</td>\n",
       "      <td>...</td>\n",
       "      <td>0</td>\n",
       "      <td>0</td>\n",
       "      <td>0</td>\n",
       "      <td>0</td>\n",
       "      <td>0</td>\n",
       "      <td>2</td>\n",
       "      <td>0</td>\n",
       "      <td>0</td>\n",
       "      <td>1</td>\n",
       "      <td>5.56</td>\n",
       "    </tr>\n",
       "    <tr>\n",
       "      <th>1</th>\n",
       "      <td>2020-02-09</td>\n",
       "      <td>United States</td>\n",
       "      <td>0.0181905</td>\n",
       "      <td>0.000449987</td>\n",
       "      <td>0.0101124</td>\n",
       "      <td>0.00146959</td>\n",
       "      <td>0.018</td>\n",
       "      <td>555</td>\n",
       "      <td>24</td>\n",
       "      <td>170</td>\n",
       "      <td>...</td>\n",
       "      <td>0</td>\n",
       "      <td>0</td>\n",
       "      <td>0</td>\n",
       "      <td>0</td>\n",
       "      <td>0</td>\n",
       "      <td>0</td>\n",
       "      <td>0</td>\n",
       "      <td>0</td>\n",
       "      <td>0</td>\n",
       "      <td>0.00</td>\n",
       "    </tr>\n",
       "    <tr>\n",
       "      <th>2</th>\n",
       "      <td>2020-02-09</td>\n",
       "      <td>United States</td>\n",
       "      <td>0.0181905</td>\n",
       "      <td>0.000449987</td>\n",
       "      <td>0.0101124</td>\n",
       "      <td>0.00146959</td>\n",
       "      <td>0.018</td>\n",
       "      <td>555</td>\n",
       "      <td>24</td>\n",
       "      <td>170</td>\n",
       "      <td>...</td>\n",
       "      <td>0</td>\n",
       "      <td>0</td>\n",
       "      <td>0</td>\n",
       "      <td>0</td>\n",
       "      <td>0</td>\n",
       "      <td>0</td>\n",
       "      <td>0</td>\n",
       "      <td>0</td>\n",
       "      <td>0</td>\n",
       "      <td>0.00</td>\n",
       "    </tr>\n",
       "    <tr>\n",
       "      <th>3</th>\n",
       "      <td>2020-02-09</td>\n",
       "      <td>United States</td>\n",
       "      <td>0.0181905</td>\n",
       "      <td>0.000449987</td>\n",
       "      <td>0.0101124</td>\n",
       "      <td>0.00146959</td>\n",
       "      <td>0.018</td>\n",
       "      <td>555</td>\n",
       "      <td>24</td>\n",
       "      <td>170</td>\n",
       "      <td>...</td>\n",
       "      <td>0</td>\n",
       "      <td>0</td>\n",
       "      <td>0</td>\n",
       "      <td>0</td>\n",
       "      <td>0</td>\n",
       "      <td>0</td>\n",
       "      <td>0</td>\n",
       "      <td>0</td>\n",
       "      <td>0</td>\n",
       "      <td>0.00</td>\n",
       "    </tr>\n",
       "    <tr>\n",
       "      <th>4</th>\n",
       "      <td>2020-02-09</td>\n",
       "      <td>United States</td>\n",
       "      <td>0.0181905</td>\n",
       "      <td>0.000449987</td>\n",
       "      <td>0.0101124</td>\n",
       "      <td>0.00146959</td>\n",
       "      <td>0.018</td>\n",
       "      <td>555</td>\n",
       "      <td>24</td>\n",
       "      <td>170</td>\n",
       "      <td>...</td>\n",
       "      <td>0</td>\n",
       "      <td>0</td>\n",
       "      <td>0</td>\n",
       "      <td>0</td>\n",
       "      <td>0</td>\n",
       "      <td>0</td>\n",
       "      <td>0</td>\n",
       "      <td>0</td>\n",
       "      <td>0</td>\n",
       "      <td>0.00</td>\n",
       "    </tr>\n",
       "  </tbody>\n",
       "</table>\n",
       "<p>5 rows × 23 columns</p>\n",
       "</div>"
      ],
      "text/plain": [
       "        Date        Country      theta        kappa        rho       sigma  \\\n",
       "0 2020-02-09  United States  0.0181905  0.000449987  0.0101124  0.00146959   \n",
       "1 2020-02-09  United States  0.0181905  0.000449987  0.0101124  0.00146959   \n",
       "2 2020-02-09  United States  0.0181905  0.000449987  0.0101124  0.00146959   \n",
       "3 2020-02-09  United States  0.0181905  0.000449987  0.0101124  0.00146959   \n",
       "4 2020-02-09  United States  0.0181905  0.000449987  0.0101124  0.00146959   \n",
       "\n",
       "  alpha1 [-] 1/alpha2 [day] 1/beta [day] 1/gamma [day]  ... Cancel_events  \\\n",
       "0      0.018            555           24           170  ...             0   \n",
       "1      0.018            555           24           170  ...             0   \n",
       "2      0.018            555           24           170  ...             0   \n",
       "3      0.018            555           24           170  ...             0   \n",
       "4      0.018            555           24           170  ...             0   \n",
       "\n",
       "   Gatherings_restrictions  Transport_closing  Stay_home_restrictions  \\\n",
       "0                        0                  0                       0   \n",
       "1                        0                  0                       0   \n",
       "2                        0                  0                       0   \n",
       "3                        0                  0                       0   \n",
       "4                        0                  0                       0   \n",
       "\n",
       "   Internal_movement_restrictions  International_movement_restrictions  \\\n",
       "0                               0                                    2   \n",
       "1                               0                                    0   \n",
       "2                               0                                    0   \n",
       "3                               0                                    0   \n",
       "4                               0                                    0   \n",
       "\n",
       "   Information_campaigns  Testing_policy  Contact_tracing  Stringency_index  \n",
       "0                      0               0                1              5.56  \n",
       "1                      0               0                0              0.00  \n",
       "2                      0               0                0              0.00  \n",
       "3                      0               0                0              0.00  \n",
       "4                      0               0                0              0.00  \n",
       "\n",
       "[5 rows x 23 columns]"
      ]
     },
     "execution_count": 13,
     "metadata": {},
     "output_type": "execute_result"
    }
   ],
   "source": [
    "# All parameter/day parameter/Rt/OxCGRT\n",
    "analyser.track().head()"
   ]
  },
  {
   "cell_type": "markdown",
   "metadata": {},
   "source": [
    "### $Rt$: Reprodcution number $\\mathrm{[-]}$"
   ]
  },
  {
   "cell_type": "code",
   "execution_count": 14,
   "metadata": {
    "collapsed": false
   },
   "outputs": [
    {
     "data": {
      "image/png": "[encoded data removed]",
      "text/plain": [
       "<Figure size 648x432 with 1 Axes>"
      ]
     },
     "metadata": {},
     "output_type": "display_data"
    },
    {
     "data": {
      "text/html": [
       "<div>\n",
       "<style scoped>\n",
       "    .dataframe tbody tr th:only-of-type {\n",
       "        vertical-align: middle;\n",
       "    }\n",
       "\n",
       "    .dataframe tbody tr th {\n",
       "        vertical-align: top;\n",
       "    }\n",
       "\n",
       "    .dataframe thead th {\n",
       "        text-align: right;\n",
       "    }\n",
       "</style>\n",
       "<table border=\"1\" class=\"dataframe\">\n",
       "  <thead>\n",
       "    <tr style=\"text-align: right;\">\n",
       "      <th>Country</th>\n",
       "      <th>Bahrain</th>\n",
       "      <th>Bolivia</th>\n",
       "      <th>Brazil</th>\n",
       "      <th>France</th>\n",
       "      <th>Iran</th>\n",
       "      <th>Italy</th>\n",
       "      <th>Latvia</th>\n",
       "      <th>Macedonia</th>\n",
       "      <th>Russia</th>\n",
       "      <th>Turkey</th>\n",
       "      <th>United Arab Emirates</th>\n",
       "      <th>United States</th>\n",
       "    </tr>\n",
       "    <tr>\n",
       "      <th>Date</th>\n",
       "      <th></th>\n",
       "      <th></th>\n",
       "      <th></th>\n",
       "      <th></th>\n",
       "      <th></th>\n",
       "      <th></th>\n",
       "      <th></th>\n",
       "      <th></th>\n",
       "      <th></th>\n",
       "      <th></th>\n",
       "      <th></th>\n",
       "      <th></th>\n",
       "    </tr>\n",
       "  </thead>\n",
       "  <tbody>\n",
       "    <tr>\n",
       "      <th>2020-10-04</th>\n",
       "      <td>0.99</td>\n",
       "      <td>0.61</td>\n",
       "      <td>1.05</td>\n",
       "      <td>23.57</td>\n",
       "      <td>1.51</td>\n",
       "      <td>2.21</td>\n",
       "      <td>244.21</td>\n",
       "      <td>1.67</td>\n",
       "      <td>1.59</td>\n",
       "      <td>1.12</td>\n",
       "      <td>1.11</td>\n",
       "      <td>2.05</td>\n",
       "    </tr>\n",
       "    <tr>\n",
       "      <th>2020-10-05</th>\n",
       "      <td>0.99</td>\n",
       "      <td>0.61</td>\n",
       "      <td>1.05</td>\n",
       "      <td>23.57</td>\n",
       "      <td>1.51</td>\n",
       "      <td>2.21</td>\n",
       "      <td>244.21</td>\n",
       "      <td>1.67</td>\n",
       "      <td>1.59</td>\n",
       "      <td>1.12</td>\n",
       "      <td>1.11</td>\n",
       "      <td>2.05</td>\n",
       "    </tr>\n",
       "    <tr>\n",
       "      <th>2020-10-06</th>\n",
       "      <td>0.99</td>\n",
       "      <td>0.61</td>\n",
       "      <td>1.05</td>\n",
       "      <td>23.57</td>\n",
       "      <td>1.51</td>\n",
       "      <td>2.21</td>\n",
       "      <td>244.21</td>\n",
       "      <td>1.67</td>\n",
       "      <td>1.59</td>\n",
       "      <td>1.12</td>\n",
       "      <td>1.11</td>\n",
       "      <td>2.05</td>\n",
       "    </tr>\n",
       "    <tr>\n",
       "      <th>2020-10-07</th>\n",
       "      <td>0.99</td>\n",
       "      <td>0.61</td>\n",
       "      <td>1.05</td>\n",
       "      <td>23.57</td>\n",
       "      <td>1.51</td>\n",
       "      <td>2.21</td>\n",
       "      <td>244.21</td>\n",
       "      <td>1.67</td>\n",
       "      <td>1.59</td>\n",
       "      <td>1.12</td>\n",
       "      <td>1.11</td>\n",
       "      <td>2.05</td>\n",
       "    </tr>\n",
       "    <tr>\n",
       "      <th>2020-10-08</th>\n",
       "      <td>0.99</td>\n",
       "      <td>0.61</td>\n",
       "      <td>1.05</td>\n",
       "      <td>23.57</td>\n",
       "      <td>1.51</td>\n",
       "      <td>2.21</td>\n",
       "      <td>244.21</td>\n",
       "      <td>1.67</td>\n",
       "      <td>1.59</td>\n",
       "      <td>1.12</td>\n",
       "      <td>1.11</td>\n",
       "      <td>2.05</td>\n",
       "    </tr>\n",
       "  </tbody>\n",
       "</table>\n",
       "</div>"
      ],
      "text/plain": [
       "Country     Bahrain  Bolivia  Brazil  France  Iran  Italy  Latvia  Macedonia  \\\n",
       "Date                                                                           \n",
       "2020-10-04     0.99     0.61    1.05   23.57  1.51   2.21  244.21       1.67   \n",
       "2020-10-05     0.99     0.61    1.05   23.57  1.51   2.21  244.21       1.67   \n",
       "2020-10-06     0.99     0.61    1.05   23.57  1.51   2.21  244.21       1.67   \n",
       "2020-10-07     0.99     0.61    1.05   23.57  1.51   2.21  244.21       1.67   \n",
       "2020-10-08     0.99     0.61    1.05   23.57  1.51   2.21  244.21       1.67   \n",
       "\n",
       "Country     Russia  Turkey  United Arab Emirates  United States  \n",
       "Date                                                             \n",
       "2020-10-04    1.59    1.12                  1.11           2.05  \n",
       "2020-10-05    1.59    1.12                  1.11           2.05  \n",
       "2020-10-06    1.59    1.12                  1.11           2.05  \n",
       "2020-10-07    1.59    1.12                  1.11           2.05  \n",
       "2020-10-08    1.59    1.12                  1.11           2.05  "
      ]
     },
     "execution_count": 14,
     "metadata": {},
     "output_type": "execute_result"
    }
   ],
   "source": [
    "analyser.param_history(\"Rt\", roll_window=None).tail()"
   ]
  },
  {
   "cell_type": "markdown",
   "metadata": {},
   "source": [
    "### $\\rho$: Effective contact rate $\\mathrm{[-]}$"
   ]
  },
  {
   "cell_type": "code",
   "execution_count": 15,
   "metadata": {
    "collapsed": false
   },
   "outputs": [
    {
     "data": {
      "image/png": "[encoded data removed]",
      "text/plain": [
       "<Figure size 648x432 with 1 Axes>"
      ]
     },
     "metadata": {},
     "output_type": "display_data"
    },
    {
     "data": {
      "text/html": [
       "<div>\n",
       "<style scoped>\n",
       "    .dataframe tbody tr th:only-of-type {\n",
       "        vertical-align: middle;\n",
       "    }\n",
       "\n",
       "    .dataframe tbody tr th {\n",
       "        vertical-align: top;\n",
       "    }\n",
       "\n",
       "    .dataframe thead th {\n",
       "        text-align: right;\n",
       "    }\n",
       "</style>\n",
       "<table border=\"1\" class=\"dataframe\">\n",
       "  <thead>\n",
       "    <tr style=\"text-align: right;\">\n",
       "      <th>Country</th>\n",
       "      <th>Bahrain</th>\n",
       "      <th>Bolivia</th>\n",
       "      <th>Brazil</th>\n",
       "      <th>France</th>\n",
       "      <th>Iran</th>\n",
       "      <th>Italy</th>\n",
       "      <th>Latvia</th>\n",
       "      <th>Macedonia</th>\n",
       "      <th>Russia</th>\n",
       "      <th>Turkey</th>\n",
       "      <th>United Arab Emirates</th>\n",
       "      <th>United States</th>\n",
       "    </tr>\n",
       "    <tr>\n",
       "      <th>Date</th>\n",
       "      <th></th>\n",
       "      <th></th>\n",
       "      <th></th>\n",
       "      <th></th>\n",
       "      <th></th>\n",
       "      <th></th>\n",
       "      <th></th>\n",
       "      <th></th>\n",
       "      <th></th>\n",
       "      <th></th>\n",
       "      <th></th>\n",
       "      <th></th>\n",
       "    </tr>\n",
       "  </thead>\n",
       "  <tbody>\n",
       "    <tr>\n",
       "      <th>2020-10-04</th>\n",
       "      <td>0.025169</td>\n",
       "      <td>0.004344</td>\n",
       "      <td>0.019793</td>\n",
       "      <td>0.009068</td>\n",
       "      <td>0.018123</td>\n",
       "      <td>0.010837</td>\n",
       "      <td>0.006095</td>\n",
       "      <td>0.019749</td>\n",
       "      <td>0.001389</td>\n",
       "      <td>0.012495</td>\n",
       "      <td>0.024824</td>\n",
       "      <td>0.002463</td>\n",
       "    </tr>\n",
       "    <tr>\n",
       "      <th>2020-10-05</th>\n",
       "      <td>0.025169</td>\n",
       "      <td>0.004344</td>\n",
       "      <td>0.019793</td>\n",
       "      <td>0.009068</td>\n",
       "      <td>0.018123</td>\n",
       "      <td>0.010837</td>\n",
       "      <td>0.006095</td>\n",
       "      <td>0.019749</td>\n",
       "      <td>0.001389</td>\n",
       "      <td>0.012495</td>\n",
       "      <td>0.024824</td>\n",
       "      <td>0.002463</td>\n",
       "    </tr>\n",
       "    <tr>\n",
       "      <th>2020-10-06</th>\n",
       "      <td>0.025169</td>\n",
       "      <td>0.004344</td>\n",
       "      <td>0.019793</td>\n",
       "      <td>0.009068</td>\n",
       "      <td>0.018123</td>\n",
       "      <td>0.010837</td>\n",
       "      <td>0.006095</td>\n",
       "      <td>0.019749</td>\n",
       "      <td>0.001389</td>\n",
       "      <td>0.012495</td>\n",
       "      <td>0.024824</td>\n",
       "      <td>0.002463</td>\n",
       "    </tr>\n",
       "    <tr>\n",
       "      <th>2020-10-07</th>\n",
       "      <td>0.025169</td>\n",
       "      <td>0.004344</td>\n",
       "      <td>0.019793</td>\n",
       "      <td>0.009068</td>\n",
       "      <td>0.018123</td>\n",
       "      <td>0.010837</td>\n",
       "      <td>0.006095</td>\n",
       "      <td>0.019749</td>\n",
       "      <td>0.001389</td>\n",
       "      <td>0.012495</td>\n",
       "      <td>0.024824</td>\n",
       "      <td>0.002463</td>\n",
       "    </tr>\n",
       "    <tr>\n",
       "      <th>2020-10-08</th>\n",
       "      <td>0.025169</td>\n",
       "      <td>0.004344</td>\n",
       "      <td>0.019793</td>\n",
       "      <td>0.009068</td>\n",
       "      <td>0.018123</td>\n",
       "      <td>0.010837</td>\n",
       "      <td>0.006095</td>\n",
       "      <td>0.019749</td>\n",
       "      <td>0.001389</td>\n",
       "      <td>0.012495</td>\n",
       "      <td>0.024824</td>\n",
       "      <td>0.002463</td>\n",
       "    </tr>\n",
       "  </tbody>\n",
       "</table>\n",
       "</div>"
      ],
      "text/plain": [
       "Country      Bahrain   Bolivia    Brazil    France      Iran     Italy  \\\n",
       "Date                                                                     \n",
       "2020-10-04  0.025169  0.004344  0.019793  0.009068  0.018123  0.010837   \n",
       "2020-10-05  0.025169  0.004344  0.019793  0.009068  0.018123  0.010837   \n",
       "2020-10-06  0.025169  0.004344  0.019793  0.009068  0.018123  0.010837   \n",
       "2020-10-07  0.025169  0.004344  0.019793  0.009068  0.018123  0.010837   \n",
       "2020-10-08  0.025169  0.004344  0.019793  0.009068  0.018123  0.010837   \n",
       "\n",
       "Country       Latvia  Macedonia    Russia    Turkey  United Arab Emirates  \\\n",
       "Date                                                                        \n",
       "2020-10-04  0.006095   0.019749  0.001389  0.012495              0.024824   \n",
       "2020-10-05  0.006095   0.019749  0.001389  0.012495              0.024824   \n",
       "2020-10-06  0.006095   0.019749  0.001389  0.012495              0.024824   \n",
       "2020-10-07  0.006095   0.019749  0.001389  0.012495              0.024824   \n",
       "2020-10-08  0.006095   0.019749  0.001389  0.012495              0.024824   \n",
       "\n",
       "Country     United States  \n",
       "Date                       \n",
       "2020-10-04       0.002463  \n",
       "2020-10-05       0.002463  \n",
       "2020-10-06       0.002463  \n",
       "2020-10-07       0.002463  \n",
       "2020-10-08       0.002463  "
      ]
     },
     "execution_count": 15,
     "metadata": {},
     "output_type": "execute_result"
    }
   ],
   "source": [
    "analyser.param_history(\"rho\", roll_window=None).tail()"
   ]
  },
  {
   "cell_type": "markdown",
   "metadata": {},
   "source": [
    "### $\\sigma$: Recovery rate $\\mathrm{[-]}$"
   ]
  },
  {
   "cell_type": "code",
   "execution_count": 16,
   "metadata": {
    "collapsed": false
   },
   "outputs": [
    {
     "data": {
      "image/png": "[encoded data removed]",
      "text/plain": [
       "<Figure size 648x432 with 1 Axes>"
      ]
     },
     "metadata": {},
     "output_type": "display_data"
    },
    {
     "data": {
      "text/html": [
       "<div>\n",
       "<style scoped>\n",
       "    .dataframe tbody tr th:only-of-type {\n",
       "        vertical-align: middle;\n",
       "    }\n",
       "\n",
       "    .dataframe tbody tr th {\n",
       "        vertical-align: top;\n",
       "    }\n",
       "\n",
       "    .dataframe thead th {\n",
       "        text-align: right;\n",
       "    }\n",
       "</style>\n",
       "<table border=\"1\" class=\"dataframe\">\n",
       "  <thead>\n",
       "    <tr style=\"text-align: right;\">\n",
       "      <th>Country</th>\n",
       "      <th>Bahrain</th>\n",
       "      <th>Bolivia</th>\n",
       "      <th>Brazil</th>\n",
       "      <th>France</th>\n",
       "      <th>Iran</th>\n",
       "      <th>Italy</th>\n",
       "      <th>Latvia</th>\n",
       "      <th>Macedonia</th>\n",
       "      <th>Russia</th>\n",
       "      <th>Turkey</th>\n",
       "      <th>United Arab Emirates</th>\n",
       "      <th>United States</th>\n",
       "    </tr>\n",
       "    <tr>\n",
       "      <th>Date</th>\n",
       "      <th></th>\n",
       "      <th></th>\n",
       "      <th></th>\n",
       "      <th></th>\n",
       "      <th></th>\n",
       "      <th></th>\n",
       "      <th></th>\n",
       "      <th></th>\n",
       "      <th></th>\n",
       "      <th></th>\n",
       "      <th></th>\n",
       "      <th></th>\n",
       "    </tr>\n",
       "  </thead>\n",
       "  <tbody>\n",
       "    <tr>\n",
       "      <th>2020-10-04</th>\n",
       "      <td>0.025348</td>\n",
       "      <td>0.006609</td>\n",
       "      <td>0.018514</td>\n",
       "      <td>0.000305</td>\n",
       "      <td>0.011237</td>\n",
       "      <td>0.004824</td>\n",
       "      <td>0.0</td>\n",
       "      <td>0.011349</td>\n",
       "      <td>0.000846</td>\n",
       "      <td>0.010586</td>\n",
       "      <td>0.02237</td>\n",
       "      <td>0.001155</td>\n",
       "    </tr>\n",
       "    <tr>\n",
       "      <th>2020-10-05</th>\n",
       "      <td>0.025348</td>\n",
       "      <td>0.006609</td>\n",
       "      <td>0.018514</td>\n",
       "      <td>0.000305</td>\n",
       "      <td>0.011237</td>\n",
       "      <td>0.004824</td>\n",
       "      <td>0.0</td>\n",
       "      <td>0.011349</td>\n",
       "      <td>0.000846</td>\n",
       "      <td>0.010586</td>\n",
       "      <td>0.02237</td>\n",
       "      <td>0.001155</td>\n",
       "    </tr>\n",
       "    <tr>\n",
       "      <th>2020-10-06</th>\n",
       "      <td>0.025348</td>\n",
       "      <td>0.006609</td>\n",
       "      <td>0.018514</td>\n",
       "      <td>0.000305</td>\n",
       "      <td>0.011237</td>\n",
       "      <td>0.004824</td>\n",
       "      <td>0.0</td>\n",
       "      <td>0.011349</td>\n",
       "      <td>0.000846</td>\n",
       "      <td>0.010586</td>\n",
       "      <td>0.02237</td>\n",
       "      <td>0.001155</td>\n",
       "    </tr>\n",
       "    <tr>\n",
       "      <th>2020-10-07</th>\n",
       "      <td>0.025348</td>\n",
       "      <td>0.006609</td>\n",
       "      <td>0.018514</td>\n",
       "      <td>0.000305</td>\n",
       "      <td>0.011237</td>\n",
       "      <td>0.004824</td>\n",
       "      <td>0.0</td>\n",
       "      <td>0.011349</td>\n",
       "      <td>0.000846</td>\n",
       "      <td>0.010586</td>\n",
       "      <td>0.02237</td>\n",
       "      <td>0.001155</td>\n",
       "    </tr>\n",
       "    <tr>\n",
       "      <th>2020-10-08</th>\n",
       "      <td>0.025348</td>\n",
       "      <td>0.006609</td>\n",
       "      <td>0.018514</td>\n",
       "      <td>0.000305</td>\n",
       "      <td>0.011237</td>\n",
       "      <td>0.004824</td>\n",
       "      <td>0.0</td>\n",
       "      <td>0.011349</td>\n",
       "      <td>0.000846</td>\n",
       "      <td>0.010586</td>\n",
       "      <td>0.02237</td>\n",
       "      <td>0.001155</td>\n",
       "    </tr>\n",
       "  </tbody>\n",
       "</table>\n",
       "</div>"
      ],
      "text/plain": [
       "Country      Bahrain   Bolivia    Brazil    France      Iran     Italy  \\\n",
       "Date                                                                     \n",
       "2020-10-04  0.025348  0.006609  0.018514  0.000305  0.011237  0.004824   \n",
       "2020-10-05  0.025348  0.006609  0.018514  0.000305  0.011237  0.004824   \n",
       "2020-10-06  0.025348  0.006609  0.018514  0.000305  0.011237  0.004824   \n",
       "2020-10-07  0.025348  0.006609  0.018514  0.000305  0.011237  0.004824   \n",
       "2020-10-08  0.025348  0.006609  0.018514  0.000305  0.011237  0.004824   \n",
       "\n",
       "Country     Latvia  Macedonia    Russia    Turkey  United Arab Emirates  \\\n",
       "Date                                                                      \n",
       "2020-10-04     0.0   0.011349  0.000846  0.010586               0.02237   \n",
       "2020-10-05     0.0   0.011349  0.000846  0.010586               0.02237   \n",
       "2020-10-06     0.0   0.011349  0.000846  0.010586               0.02237   \n",
       "2020-10-07     0.0   0.011349  0.000846  0.010586               0.02237   \n",
       "2020-10-08     0.0   0.011349  0.000846  0.010586               0.02237   \n",
       "\n",
       "Country     United States  \n",
       "Date                       \n",
       "2020-10-04       0.001155  \n",
       "2020-10-05       0.001155  \n",
       "2020-10-06       0.001155  \n",
       "2020-10-07       0.001155  \n",
       "2020-10-08       0.001155  "
      ]
     },
     "execution_count": 16,
     "metadata": {},
     "output_type": "execute_result"
    }
   ],
   "source": [
    "analyser.param_history(\"sigma\", roll_window=None).tail()"
   ]
  },
  {
   "cell_type": "markdown",
   "metadata": {},
   "source": [
    "### $\\kappa$: Mortality rate of infected cases $\\mathrm{[-]}$"
   ]
  },
  {
   "cell_type": "code",
   "execution_count": 17,
   "metadata": {
    "collapsed": false
   },
   "outputs": [
    {
     "data": {
      "image/png": "[encoded data removed]",
      "text/plain": [
       "<Figure size 648x432 with 1 Axes>"
      ]
     },
     "metadata": {},
     "output_type": "display_data"
    },
    {
     "data": {
      "text/html": [
       "<div>\n",
       "<style scoped>\n",
       "    .dataframe tbody tr th:only-of-type {\n",
       "        vertical-align: middle;\n",
       "    }\n",
       "\n",
       "    .dataframe tbody tr th {\n",
       "        vertical-align: top;\n",
       "    }\n",
       "\n",
       "    .dataframe thead th {\n",
       "        text-align: right;\n",
       "    }\n",
       "</style>\n",
       "<table border=\"1\" class=\"dataframe\">\n",
       "  <thead>\n",
       "    <tr style=\"text-align: right;\">\n",
       "      <th>Country</th>\n",
       "      <th>Bahrain</th>\n",
       "      <th>Bolivia</th>\n",
       "      <th>Brazil</th>\n",
       "      <th>France</th>\n",
       "      <th>Iran</th>\n",
       "      <th>Italy</th>\n",
       "      <th>Latvia</th>\n",
       "      <th>Macedonia</th>\n",
       "      <th>Russia</th>\n",
       "      <th>Turkey</th>\n",
       "      <th>United Arab Emirates</th>\n",
       "      <th>United States</th>\n",
       "    </tr>\n",
       "    <tr>\n",
       "      <th>Date</th>\n",
       "      <th></th>\n",
       "      <th></th>\n",
       "      <th></th>\n",
       "      <th></th>\n",
       "      <th></th>\n",
       "      <th></th>\n",
       "      <th></th>\n",
       "      <th></th>\n",
       "      <th></th>\n",
       "      <th></th>\n",
       "      <th></th>\n",
       "      <th></th>\n",
       "    </tr>\n",
       "  </thead>\n",
       "  <tbody>\n",
       "    <tr>\n",
       "      <th>2020-10-04</th>\n",
       "      <td>0.000046</td>\n",
       "      <td>0.000059</td>\n",
       "      <td>0.000309</td>\n",
       "      <td>0.000079</td>\n",
       "      <td>0.000191</td>\n",
       "      <td>0.000071</td>\n",
       "      <td>0.000025</td>\n",
       "      <td>0.000455</td>\n",
       "      <td>0.000002</td>\n",
       "      <td>0.000517</td>\n",
       "      <td>0.000001</td>\n",
       "      <td>0.000046</td>\n",
       "    </tr>\n",
       "    <tr>\n",
       "      <th>2020-10-05</th>\n",
       "      <td>0.000046</td>\n",
       "      <td>0.000059</td>\n",
       "      <td>0.000309</td>\n",
       "      <td>0.000079</td>\n",
       "      <td>0.000191</td>\n",
       "      <td>0.000071</td>\n",
       "      <td>0.000025</td>\n",
       "      <td>0.000455</td>\n",
       "      <td>0.000002</td>\n",
       "      <td>0.000517</td>\n",
       "      <td>0.000001</td>\n",
       "      <td>0.000046</td>\n",
       "    </tr>\n",
       "    <tr>\n",
       "      <th>2020-10-06</th>\n",
       "      <td>0.000046</td>\n",
       "      <td>0.000059</td>\n",
       "      <td>0.000309</td>\n",
       "      <td>0.000079</td>\n",
       "      <td>0.000191</td>\n",
       "      <td>0.000071</td>\n",
       "      <td>0.000025</td>\n",
       "      <td>0.000455</td>\n",
       "      <td>0.000002</td>\n",
       "      <td>0.000517</td>\n",
       "      <td>0.000001</td>\n",
       "      <td>0.000046</td>\n",
       "    </tr>\n",
       "    <tr>\n",
       "      <th>2020-10-07</th>\n",
       "      <td>0.000046</td>\n",
       "      <td>0.000059</td>\n",
       "      <td>0.000309</td>\n",
       "      <td>0.000079</td>\n",
       "      <td>0.000191</td>\n",
       "      <td>0.000071</td>\n",
       "      <td>0.000025</td>\n",
       "      <td>0.000455</td>\n",
       "      <td>0.000002</td>\n",
       "      <td>0.000517</td>\n",
       "      <td>0.000001</td>\n",
       "      <td>0.000046</td>\n",
       "    </tr>\n",
       "    <tr>\n",
       "      <th>2020-10-08</th>\n",
       "      <td>0.000046</td>\n",
       "      <td>0.000059</td>\n",
       "      <td>0.000309</td>\n",
       "      <td>0.000079</td>\n",
       "      <td>0.000191</td>\n",
       "      <td>0.000071</td>\n",
       "      <td>0.000025</td>\n",
       "      <td>0.000455</td>\n",
       "      <td>0.000002</td>\n",
       "      <td>0.000517</td>\n",
       "      <td>0.000001</td>\n",
       "      <td>0.000046</td>\n",
       "    </tr>\n",
       "  </tbody>\n",
       "</table>\n",
       "</div>"
      ],
      "text/plain": [
       "Country      Bahrain   Bolivia    Brazil    France      Iran     Italy  \\\n",
       "Date                                                                     \n",
       "2020-10-04  0.000046  0.000059  0.000309  0.000079  0.000191  0.000071   \n",
       "2020-10-05  0.000046  0.000059  0.000309  0.000079  0.000191  0.000071   \n",
       "2020-10-06  0.000046  0.000059  0.000309  0.000079  0.000191  0.000071   \n",
       "2020-10-07  0.000046  0.000059  0.000309  0.000079  0.000191  0.000071   \n",
       "2020-10-08  0.000046  0.000059  0.000309  0.000079  0.000191  0.000071   \n",
       "\n",
       "Country       Latvia  Macedonia    Russia    Turkey  United Arab Emirates  \\\n",
       "Date                                                                        \n",
       "2020-10-04  0.000025   0.000455  0.000002  0.000517              0.000001   \n",
       "2020-10-05  0.000025   0.000455  0.000002  0.000517              0.000001   \n",
       "2020-10-06  0.000025   0.000455  0.000002  0.000517              0.000001   \n",
       "2020-10-07  0.000025   0.000455  0.000002  0.000517              0.000001   \n",
       "2020-10-08  0.000025   0.000455  0.000002  0.000517              0.000001   \n",
       "\n",
       "Country     United States  \n",
       "Date                       \n",
       "2020-10-04       0.000046  \n",
       "2020-10-05       0.000046  \n",
       "2020-10-06       0.000046  \n",
       "2020-10-07       0.000046  \n",
       "2020-10-08       0.000046  "
      ]
     },
     "execution_count": 17,
     "metadata": {},
     "output_type": "execute_result"
    }
   ],
   "source": [
    "analyser.param_history(\"kappa\", roll_window=None).tail()"
   ]
  },
  {
   "cell_type": "markdown",
   "metadata": {},
   "source": [
    "### $\\theta$: Mortality rate of S$^\\ast$ cases $\\mathrm{[-]}$"
   ]
  },
  {
   "cell_type": "code",
   "execution_count": 18,
   "metadata": {
    "collapsed": false
   },
   "outputs": [
    {
     "data": {
      "image/png": "[encoded data removed]",
      "text/plain": [
       "<Figure size 648x432 with 1 Axes>"
      ]
     },
     "metadata": {},
     "output_type": "display_data"
    },
    {
     "data": {
      "text/html": [
       "<div>\n",
       "<style scoped>\n",
       "    .dataframe tbody tr th:only-of-type {\n",
       "        vertical-align: middle;\n",
       "    }\n",
       "\n",
       "    .dataframe tbody tr th {\n",
       "        vertical-align: top;\n",
       "    }\n",
       "\n",
       "    .dataframe thead th {\n",
       "        text-align: right;\n",
       "    }\n",
       "</style>\n",
       "<table border=\"1\" class=\"dataframe\">\n",
       "  <thead>\n",
       "    <tr style=\"text-align: right;\">\n",
       "      <th>Country</th>\n",
       "      <th>Bahrain</th>\n",
       "      <th>Bolivia</th>\n",
       "      <th>Brazil</th>\n",
       "      <th>France</th>\n",
       "      <th>Iran</th>\n",
       "      <th>Italy</th>\n",
       "      <th>Latvia</th>\n",
       "      <th>Macedonia</th>\n",
       "      <th>Russia</th>\n",
       "      <th>Turkey</th>\n",
       "      <th>United Arab Emirates</th>\n",
       "      <th>United States</th>\n",
       "    </tr>\n",
       "    <tr>\n",
       "      <th>Date</th>\n",
       "      <th></th>\n",
       "      <th></th>\n",
       "      <th></th>\n",
       "      <th></th>\n",
       "      <th></th>\n",
       "      <th></th>\n",
       "      <th></th>\n",
       "      <th></th>\n",
       "      <th></th>\n",
       "      <th></th>\n",
       "      <th></th>\n",
       "      <th></th>\n",
       "    </tr>\n",
       "  </thead>\n",
       "  <tbody>\n",
       "    <tr>\n",
       "      <th>2020-10-04</th>\n",
       "      <td>0.001252</td>\n",
       "      <td>0.060726</td>\n",
       "      <td>0.003232</td>\n",
       "      <td>0.000744</td>\n",
       "      <td>0.044911</td>\n",
       "      <td>0.001</td>\n",
       "      <td>0.001247</td>\n",
       "      <td>0.000688</td>\n",
       "      <td>0.025925</td>\n",
       "      <td>0.00479</td>\n",
       "      <td>0.001258</td>\n",
       "      <td>0.001592</td>\n",
       "    </tr>\n",
       "    <tr>\n",
       "      <th>2020-10-05</th>\n",
       "      <td>0.001252</td>\n",
       "      <td>0.060726</td>\n",
       "      <td>0.003232</td>\n",
       "      <td>0.000744</td>\n",
       "      <td>0.044911</td>\n",
       "      <td>0.001</td>\n",
       "      <td>0.001247</td>\n",
       "      <td>0.000688</td>\n",
       "      <td>0.025925</td>\n",
       "      <td>0.00479</td>\n",
       "      <td>0.001258</td>\n",
       "      <td>0.001592</td>\n",
       "    </tr>\n",
       "    <tr>\n",
       "      <th>2020-10-06</th>\n",
       "      <td>0.001252</td>\n",
       "      <td>0.060726</td>\n",
       "      <td>0.003232</td>\n",
       "      <td>0.000744</td>\n",
       "      <td>0.044911</td>\n",
       "      <td>0.001</td>\n",
       "      <td>0.001247</td>\n",
       "      <td>0.000688</td>\n",
       "      <td>0.025925</td>\n",
       "      <td>0.00479</td>\n",
       "      <td>0.001258</td>\n",
       "      <td>0.001592</td>\n",
       "    </tr>\n",
       "    <tr>\n",
       "      <th>2020-10-07</th>\n",
       "      <td>0.001252</td>\n",
       "      <td>0.060726</td>\n",
       "      <td>0.003232</td>\n",
       "      <td>0.000744</td>\n",
       "      <td>0.044911</td>\n",
       "      <td>0.001</td>\n",
       "      <td>0.001247</td>\n",
       "      <td>0.000688</td>\n",
       "      <td>0.025925</td>\n",
       "      <td>0.00479</td>\n",
       "      <td>0.001258</td>\n",
       "      <td>0.001592</td>\n",
       "    </tr>\n",
       "    <tr>\n",
       "      <th>2020-10-08</th>\n",
       "      <td>0.001252</td>\n",
       "      <td>0.060726</td>\n",
       "      <td>0.003232</td>\n",
       "      <td>0.000744</td>\n",
       "      <td>0.044911</td>\n",
       "      <td>0.001</td>\n",
       "      <td>0.001247</td>\n",
       "      <td>0.000688</td>\n",
       "      <td>0.025925</td>\n",
       "      <td>0.00479</td>\n",
       "      <td>0.001258</td>\n",
       "      <td>0.001592</td>\n",
       "    </tr>\n",
       "  </tbody>\n",
       "</table>\n",
       "</div>"
      ],
      "text/plain": [
       "Country      Bahrain   Bolivia    Brazil    France      Iran  Italy    Latvia  \\\n",
       "Date                                                                            \n",
       "2020-10-04  0.001252  0.060726  0.003232  0.000744  0.044911  0.001  0.001247   \n",
       "2020-10-05  0.001252  0.060726  0.003232  0.000744  0.044911  0.001  0.001247   \n",
       "2020-10-06  0.001252  0.060726  0.003232  0.000744  0.044911  0.001  0.001247   \n",
       "2020-10-07  0.001252  0.060726  0.003232  0.000744  0.044911  0.001  0.001247   \n",
       "2020-10-08  0.001252  0.060726  0.003232  0.000744  0.044911  0.001  0.001247   \n",
       "\n",
       "Country     Macedonia    Russia   Turkey  United Arab Emirates  United States  \n",
       "Date                                                                           \n",
       "2020-10-04   0.000688  0.025925  0.00479              0.001258       0.001592  \n",
       "2020-10-05   0.000688  0.025925  0.00479              0.001258       0.001592  \n",
       "2020-10-06   0.000688  0.025925  0.00479              0.001258       0.001592  \n",
       "2020-10-07   0.000688  0.025925  0.00479              0.001258       0.001592  \n",
       "2020-10-08   0.000688  0.025925  0.00479              0.001258       0.001592  "
      ]
     },
     "execution_count": 18,
     "metadata": {},
     "output_type": "execute_result"
    }
   ],
   "source": [
    "analyser.param_history(\"theta\", roll_window=None).tail()"
   ]
  },
  {
   "cell_type": "markdown",
   "metadata": {},
   "source": [
    "## (Experimental): Relationship of OxCGRT index and parameter values\n",
    "Government responses will impact on parameter values of ODE models about 14 days later. Here, we will investigate on the relationship of [stringency index (from OxCGRT)](https://github.com/OxCGRT/covid-policy-tracker/blob/master/documentation/index_methodology.md) and reproduction number/model parameters.\n"
   ]
  },
  {
   "cell_type": "code",
   "execution_count": 19,
   "metadata": {
    "collapsed": false
   },
   "outputs": [],
   "source": [
    "%matplotlib inline\n",
    "from matplotlib import pyplot as plt\n",
    "import seaborn as sns\n",
    "import pandas as pd"
   ]
  },
  {
   "cell_type": "code",
   "execution_count": 20,
   "metadata": {
    "collapsed": false
   },
   "outputs": [
    {
     "name": "stdout",
     "output_type": "stream",
     "text": [
      "<class 'pandas.core.frame.DataFrame'>\n",
      "Int64Index: 72389 entries, 0 to 72542\n",
      "Data columns (total 19 columns):\n",
      " #   Column                               Non-Null Count  Dtype         \n",
      "---  ------                               --------------  -----         \n",
      " 0   Date                                 72389 non-null  datetime64[ns]\n",
      " 1   Country                              72389 non-null  object        \n",
      " 2   Rt                                   72389 non-null  float64       \n",
      " 3   theta                                72389 non-null  float64       \n",
      " 4   kappa                                72389 non-null  float64       \n",
      " 5   rho                                  72389 non-null  float64       \n",
      " 6   sigma                                72389 non-null  float64       \n",
      " 7   School_closing                       72389 non-null  int64         \n",
      " 8   Workplace_closing                    72389 non-null  int64         \n",
      " 9   Cancel_events                        72389 non-null  int64         \n",
      " 10  Gatherings_restrictions              72389 non-null  int64         \n",
      " 11  Transport_closing                    72389 non-null  int64         \n",
      " 12  Stay_home_restrictions               72389 non-null  int64         \n",
      " 13  Internal_movement_restrictions       72389 non-null  int64         \n",
      " 14  International_movement_restrictions  72389 non-null  int64         \n",
      " 15  Information_campaigns                72389 non-null  int64         \n",
      " 16  Testing_policy                       72389 non-null  int64         \n",
      " 17  Contact_tracing                      72389 non-null  int64         \n",
      " 18  Stringency_index                     72389 non-null  float64       \n",
      "dtypes: datetime64[ns](1), float64(6), int64(11), object(1)\n",
      "memory usage: 11.0+ MB\n"
     ]
    }
   ],
   "source": [
    "df = analyser.track()\n",
    "param_cols = [\"Rt\", *cs.SIRF.PARAMETERS]\n",
    "oxcgrt_cols = oxcgrt_data.OXCGRT_VARS[:]\n",
    "cols = param_cols + oxcgrt_cols\n",
    "delay = 14\n",
    "\n",
    "for col in param_cols:\n",
    "    df[col] = pd.to_numeric(df[col], errors=\"coerce\")\n",
    "    df[col] = df.groupby(\"Country\")[col].shift(0 - delay)\n",
    "\n",
    "df = df.dropna(how=\"any\")\n",
    "df = df.loc[:, [\"Date\", \"Country\", *cols]]\n",
    "track_df = df.copy()\n",
    "track_df.info()"
   ]
  },
  {
   "cell_type": "code",
   "execution_count": 21,
   "metadata": {
    "collapsed": false
   },
   "outputs": [
    {
     "data": {
      "text/html": [
       "<style  type=\"text/css\" >\n",
       "#T_1f28c7ae_097e_11eb_a636_525400821cf2row0_col0,#T_1f28c7ae_097e_11eb_a636_525400821cf2row1_col1,#T_1f28c7ae_097e_11eb_a636_525400821cf2row2_col2,#T_1f28c7ae_097e_11eb_a636_525400821cf2row3_col3,#T_1f28c7ae_097e_11eb_a636_525400821cf2row4_col4,#T_1f28c7ae_097e_11eb_a636_525400821cf2row5_col5,#T_1f28c7ae_097e_11eb_a636_525400821cf2row6_col6,#T_1f28c7ae_097e_11eb_a636_525400821cf2row7_col7,#T_1f28c7ae_097e_11eb_a636_525400821cf2row8_col8,#T_1f28c7ae_097e_11eb_a636_525400821cf2row9_col9,#T_1f28c7ae_097e_11eb_a636_525400821cf2row10_col10,#T_1f28c7ae_097e_11eb_a636_525400821cf2row11_col11,#T_1f28c7ae_097e_11eb_a636_525400821cf2row12_col12,#T_1f28c7ae_097e_11eb_a636_525400821cf2row13_col13,#T_1f28c7ae_097e_11eb_a636_525400821cf2row14_col14,#T_1f28c7ae_097e_11eb_a636_525400821cf2row15_col15,#T_1f28c7ae_097e_11eb_a636_525400821cf2row16_col16{\n",
       "            background-color:  #023858;\n",
       "            color:  #f1f1f1;\n",
       "        }#T_1f28c7ae_097e_11eb_a636_525400821cf2row0_col1,#T_1f28c7ae_097e_11eb_a636_525400821cf2row1_col0{\n",
       "            background-color:  #e2dfee;\n",
       "            color:  #000000;\n",
       "        }#T_1f28c7ae_097e_11eb_a636_525400821cf2row0_col2,#T_1f28c7ae_097e_11eb_a636_525400821cf2row0_col16,#T_1f28c7ae_097e_11eb_a636_525400821cf2row1_col5,#T_1f28c7ae_097e_11eb_a636_525400821cf2row2_col0,#T_1f28c7ae_097e_11eb_a636_525400821cf2row2_col5,#T_1f28c7ae_097e_11eb_a636_525400821cf2row5_col1,#T_1f28c7ae_097e_11eb_a636_525400821cf2row5_col2,#T_1f28c7ae_097e_11eb_a636_525400821cf2row16_col0{\n",
       "            background-color:  #dcdaeb;\n",
       "            color:  #000000;\n",
       "        }#T_1f28c7ae_097e_11eb_a636_525400821cf2row0_col3,#T_1f28c7ae_097e_11eb_a636_525400821cf2row3_col0,#T_1f28c7ae_097e_11eb_a636_525400821cf2row11_col15,#T_1f28c7ae_097e_11eb_a636_525400821cf2row15_col11{\n",
       "            background-color:  #b7c5df;\n",
       "            color:  #000000;\n",
       "        }#T_1f28c7ae_097e_11eb_a636_525400821cf2row0_col4,#T_1f28c7ae_097e_11eb_a636_525400821cf2row4_col0{\n",
       "            background-color:  #f1ebf4;\n",
       "            color:  #000000;\n",
       "        }#T_1f28c7ae_097e_11eb_a636_525400821cf2row0_col5,#T_1f28c7ae_097e_11eb_a636_525400821cf2row5_col0{\n",
       "            background-color:  #eae6f1;\n",
       "            color:  #000000;\n",
       "        }#T_1f28c7ae_097e_11eb_a636_525400821cf2row0_col6,#T_1f28c7ae_097e_11eb_a636_525400821cf2row6_col0{\n",
       "            background-color:  #d4d4e8;\n",
       "            color:  #000000;\n",
       "        }#T_1f28c7ae_097e_11eb_a636_525400821cf2row0_col7,#T_1f28c7ae_097e_11eb_a636_525400821cf2row0_col8,#T_1f28c7ae_097e_11eb_a636_525400821cf2row2_col6,#T_1f28c7ae_097e_11eb_a636_525400821cf2row3_col5,#T_1f28c7ae_097e_11eb_a636_525400821cf2row5_col3,#T_1f28c7ae_097e_11eb_a636_525400821cf2row6_col2,#T_1f28c7ae_097e_11eb_a636_525400821cf2row7_col0,#T_1f28c7ae_097e_11eb_a636_525400821cf2row8_col0{\n",
       "            background-color:  #dad9ea;\n",
       "            color:  #000000;\n",
       "        }#T_1f28c7ae_097e_11eb_a636_525400821cf2row0_col9,#T_1f28c7ae_097e_11eb_a636_525400821cf2row0_col15,#T_1f28c7ae_097e_11eb_a636_525400821cf2row9_col0,#T_1f28c7ae_097e_11eb_a636_525400821cf2row15_col0{\n",
       "            background-color:  #d9d8ea;\n",
       "            color:  #000000;\n",
       "        }#T_1f28c7ae_097e_11eb_a636_525400821cf2row0_col10,#T_1f28c7ae_097e_11eb_a636_525400821cf2row10_col0{\n",
       "            background-color:  #e1dfed;\n",
       "            color:  #000000;\n",
       "        }#T_1f28c7ae_097e_11eb_a636_525400821cf2row0_col11,#T_1f28c7ae_097e_11eb_a636_525400821cf2row11_col0{\n",
       "            background-color:  #f8f1f8;\n",
       "            color:  #000000;\n",
       "        }#T_1f28c7ae_097e_11eb_a636_525400821cf2row0_col12,#T_1f28c7ae_097e_11eb_a636_525400821cf2row12_col0{\n",
       "            background-color:  #cdd0e5;\n",
       "            color:  #000000;\n",
       "        }#T_1f28c7ae_097e_11eb_a636_525400821cf2row0_col13,#T_1f28c7ae_097e_11eb_a636_525400821cf2row3_col8,#T_1f28c7ae_097e_11eb_a636_525400821cf2row8_col3,#T_1f28c7ae_097e_11eb_a636_525400821cf2row13_col0{\n",
       "            background-color:  #c2cbe2;\n",
       "            color:  #000000;\n",
       "        }#T_1f28c7ae_097e_11eb_a636_525400821cf2row0_col14,#T_1f28c7ae_097e_11eb_a636_525400821cf2row14_col0{\n",
       "            background-color:  #e7e3f0;\n",
       "            color:  #000000;\n",
       "        }#T_1f28c7ae_097e_11eb_a636_525400821cf2row1_col2,#T_1f28c7ae_097e_11eb_a636_525400821cf2row2_col1{\n",
       "            background-color:  #03456c;\n",
       "            color:  #f1f1f1;\n",
       "        }#T_1f28c7ae_097e_11eb_a636_525400821cf2row1_col3,#T_1f28c7ae_097e_11eb_a636_525400821cf2row3_col1{\n",
       "            background-color:  #056dac;\n",
       "            color:  #f1f1f1;\n",
       "        }#T_1f28c7ae_097e_11eb_a636_525400821cf2row1_col4,#T_1f28c7ae_097e_11eb_a636_525400821cf2row4_col1,#T_1f28c7ae_097e_11eb_a636_525400821cf2row4_col6,#T_1f28c7ae_097e_11eb_a636_525400821cf2row6_col4{\n",
       "            background-color:  #b3c3de;\n",
       "            color:  #000000;\n",
       "        }#T_1f28c7ae_097e_11eb_a636_525400821cf2row1_col6,#T_1f28c7ae_097e_11eb_a636_525400821cf2row6_col1{\n",
       "            background-color:  #dddbec;\n",
       "            color:  #000000;\n",
       "        }#T_1f28c7ae_097e_11eb_a636_525400821cf2row1_col7,#T_1f28c7ae_097e_11eb_a636_525400821cf2row7_col1{\n",
       "            background-color:  #e3e0ee;\n",
       "            color:  #000000;\n",
       "        }#T_1f28c7ae_097e_11eb_a636_525400821cf2row1_col8,#T_1f28c7ae_097e_11eb_a636_525400821cf2row8_col1{\n",
       "            background-color:  #d5d5e8;\n",
       "            color:  #000000;\n",
       "        }#T_1f28c7ae_097e_11eb_a636_525400821cf2row1_col9,#T_1f28c7ae_097e_11eb_a636_525400821cf2row9_col1{\n",
       "            background-color:  #d6d6e9;\n",
       "            color:  #000000;\n",
       "        }#T_1f28c7ae_097e_11eb_a636_525400821cf2row1_col10,#T_1f28c7ae_097e_11eb_a636_525400821cf2row2_col12,#T_1f28c7ae_097e_11eb_a636_525400821cf2row10_col1,#T_1f28c7ae_097e_11eb_a636_525400821cf2row12_col2{\n",
       "            background-color:  #8bb2d4;\n",
       "            color:  #000000;\n",
       "        }#T_1f28c7ae_097e_11eb_a636_525400821cf2row1_col11,#T_1f28c7ae_097e_11eb_a636_525400821cf2row4_col12,#T_1f28c7ae_097e_11eb_a636_525400821cf2row11_col1,#T_1f28c7ae_097e_11eb_a636_525400821cf2row12_col4{\n",
       "            background-color:  #a9bfdc;\n",
       "            color:  #000000;\n",
       "        }#T_1f28c7ae_097e_11eb_a636_525400821cf2row1_col12,#T_1f28c7ae_097e_11eb_a636_525400821cf2row8_col15,#T_1f28c7ae_097e_11eb_a636_525400821cf2row12_col1,#T_1f28c7ae_097e_11eb_a636_525400821cf2row15_col8{\n",
       "            background-color:  #a7bddb;\n",
       "            color:  #000000;\n",
       "        }#T_1f28c7ae_097e_11eb_a636_525400821cf2row1_col13,#T_1f28c7ae_097e_11eb_a636_525400821cf2row2_col13,#T_1f28c7ae_097e_11eb_a636_525400821cf2row13_col1,#T_1f28c7ae_097e_11eb_a636_525400821cf2row13_col2{\n",
       "            background-color:  #f7f0f7;\n",
       "            color:  #000000;\n",
       "        }#T_1f28c7ae_097e_11eb_a636_525400821cf2row1_col14,#T_1f28c7ae_097e_11eb_a636_525400821cf2row14_col1{\n",
       "            background-color:  #f1ebf5;\n",
       "            color:  #000000;\n",
       "        }#T_1f28c7ae_097e_11eb_a636_525400821cf2row1_col15,#T_1f28c7ae_097e_11eb_a636_525400821cf2row15_col1{\n",
       "            background-color:  #cacee5;\n",
       "            color:  #000000;\n",
       "        }#T_1f28c7ae_097e_11eb_a636_525400821cf2row1_col16,#T_1f28c7ae_097e_11eb_a636_525400821cf2row16_col1{\n",
       "            background-color:  #ced0e6;\n",
       "            color:  #000000;\n",
       "        }#T_1f28c7ae_097e_11eb_a636_525400821cf2row2_col3,#T_1f28c7ae_097e_11eb_a636_525400821cf2row3_col2,#T_1f28c7ae_097e_11eb_a636_525400821cf2row5_col6,#T_1f28c7ae_097e_11eb_a636_525400821cf2row6_col5{\n",
       "            background-color:  #0567a2;\n",
       "            color:  #f1f1f1;\n",
       "        }#T_1f28c7ae_097e_11eb_a636_525400821cf2row2_col4,#T_1f28c7ae_097e_11eb_a636_525400821cf2row4_col2,#T_1f28c7ae_097e_11eb_a636_525400821cf2row9_col14,#T_1f28c7ae_097e_11eb_a636_525400821cf2row14_col9{\n",
       "            background-color:  #bbc7e0;\n",
       "            color:  #000000;\n",
       "        }#T_1f28c7ae_097e_11eb_a636_525400821cf2row2_col7,#T_1f28c7ae_097e_11eb_a636_525400821cf2row7_col2{\n",
       "            background-color:  #d8d7e9;\n",
       "            color:  #000000;\n",
       "        }#T_1f28c7ae_097e_11eb_a636_525400821cf2row2_col8,#T_1f28c7ae_097e_11eb_a636_525400821cf2row8_col2{\n",
       "            background-color:  #d1d2e6;\n",
       "            color:  #000000;\n",
       "        }#T_1f28c7ae_097e_11eb_a636_525400821cf2row2_col9,#T_1f28c7ae_097e_11eb_a636_525400821cf2row9_col2{\n",
       "            background-color:  #d2d2e7;\n",
       "            color:  #000000;\n",
       "        }#T_1f28c7ae_097e_11eb_a636_525400821cf2row2_col10,#T_1f28c7ae_097e_11eb_a636_525400821cf2row10_col2{\n",
       "            background-color:  #7dacd1;\n",
       "            color:  #000000;\n",
       "        }#T_1f28c7ae_097e_11eb_a636_525400821cf2row2_col11,#T_1f28c7ae_097e_11eb_a636_525400821cf2row4_col9,#T_1f28c7ae_097e_11eb_a636_525400821cf2row9_col4,#T_1f28c7ae_097e_11eb_a636_525400821cf2row11_col2{\n",
       "            background-color:  #91b5d6;\n",
       "            color:  #000000;\n",
       "        }#T_1f28c7ae_097e_11eb_a636_525400821cf2row2_col14,#T_1f28c7ae_097e_11eb_a636_525400821cf2row14_col2{\n",
       "            background-color:  #e5e1ef;\n",
       "            color:  #000000;\n",
       "        }#T_1f28c7ae_097e_11eb_a636_525400821cf2row2_col15,#T_1f28c7ae_097e_11eb_a636_525400821cf2row2_col16,#T_1f28c7ae_097e_11eb_a636_525400821cf2row15_col2,#T_1f28c7ae_097e_11eb_a636_525400821cf2row16_col2{\n",
       "            background-color:  #c8cde4;\n",
       "            color:  #000000;\n",
       "        }#T_1f28c7ae_097e_11eb_a636_525400821cf2row3_col4,#T_1f28c7ae_097e_11eb_a636_525400821cf2row4_col3{\n",
       "            background-color:  #9cb9d9;\n",
       "            color:  #000000;\n",
       "        }#T_1f28c7ae_097e_11eb_a636_525400821cf2row3_col6,#T_1f28c7ae_097e_11eb_a636_525400821cf2row6_col3{\n",
       "            background-color:  #e0dded;\n",
       "            color:  #000000;\n",
       "        }#T_1f28c7ae_097e_11eb_a636_525400821cf2row3_col7,#T_1f28c7ae_097e_11eb_a636_525400821cf2row7_col3{\n",
       "            background-color:  #d0d1e6;\n",
       "            color:  #000000;\n",
       "        }#T_1f28c7ae_097e_11eb_a636_525400821cf2row3_col9,#T_1f28c7ae_097e_11eb_a636_525400821cf2row9_col3{\n",
       "            background-color:  #c9cee4;\n",
       "            color:  #000000;\n",
       "        }#T_1f28c7ae_097e_11eb_a636_525400821cf2row3_col10,#T_1f28c7ae_097e_11eb_a636_525400821cf2row10_col3{\n",
       "            background-color:  #8cb3d5;\n",
       "            color:  #000000;\n",
       "        }#T_1f28c7ae_097e_11eb_a636_525400821cf2row3_col11,#T_1f28c7ae_097e_11eb_a636_525400821cf2row4_col10,#T_1f28c7ae_097e_11eb_a636_525400821cf2row10_col4,#T_1f28c7ae_097e_11eb_a636_525400821cf2row11_col3,#T_1f28c7ae_097e_11eb_a636_525400821cf2row11_col13,#T_1f28c7ae_097e_11eb_a636_525400821cf2row13_col11{\n",
       "            background-color:  #8eb3d5;\n",
       "            color:  #000000;\n",
       "        }#T_1f28c7ae_097e_11eb_a636_525400821cf2row3_col12,#T_1f28c7ae_097e_11eb_a636_525400821cf2row12_col3{\n",
       "            background-color:  #a2bcda;\n",
       "            color:  #000000;\n",
       "        }#T_1f28c7ae_097e_11eb_a636_525400821cf2row3_col13,#T_1f28c7ae_097e_11eb_a636_525400821cf2row13_col3{\n",
       "            background-color:  #fff7fb;\n",
       "            color:  #000000;\n",
       "        }#T_1f28c7ae_097e_11eb_a636_525400821cf2row3_col14,#T_1f28c7ae_097e_11eb_a636_525400821cf2row14_col3{\n",
       "            background-color:  #fef6fb;\n",
       "            color:  #000000;\n",
       "        }#T_1f28c7ae_097e_11eb_a636_525400821cf2row3_col15,#T_1f28c7ae_097e_11eb_a636_525400821cf2row15_col3{\n",
       "            background-color:  #efe9f3;\n",
       "            color:  #000000;\n",
       "        }#T_1f28c7ae_097e_11eb_a636_525400821cf2row3_col16,#T_1f28c7ae_097e_11eb_a636_525400821cf2row16_col3{\n",
       "            background-color:  #c6cce3;\n",
       "            color:  #000000;\n",
       "        }#T_1f28c7ae_097e_11eb_a636_525400821cf2row4_col5,#T_1f28c7ae_097e_11eb_a636_525400821cf2row5_col4,#T_1f28c7ae_097e_11eb_a636_525400821cf2row7_col15,#T_1f28c7ae_097e_11eb_a636_525400821cf2row11_col14,#T_1f28c7ae_097e_11eb_a636_525400821cf2row14_col11,#T_1f28c7ae_097e_11eb_a636_525400821cf2row15_col7{\n",
       "            background-color:  #78abd0;\n",
       "            color:  #000000;\n",
       "        }#T_1f28c7ae_097e_11eb_a636_525400821cf2row4_col7,#T_1f28c7ae_097e_11eb_a636_525400821cf2row7_col4,#T_1f28c7ae_097e_11eb_a636_525400821cf2row10_col14,#T_1f28c7ae_097e_11eb_a636_525400821cf2row14_col10{\n",
       "            background-color:  #76aad0;\n",
       "            color:  #000000;\n",
       "        }#T_1f28c7ae_097e_11eb_a636_525400821cf2row4_col8,#T_1f28c7ae_097e_11eb_a636_525400821cf2row8_col4{\n",
       "            background-color:  #a1bbda;\n",
       "            color:  #000000;\n",
       "        }#T_1f28c7ae_097e_11eb_a636_525400821cf2row4_col11,#T_1f28c7ae_097e_11eb_a636_525400821cf2row11_col4{\n",
       "            background-color:  #75a9cf;\n",
       "            color:  #000000;\n",
       "        }#T_1f28c7ae_097e_11eb_a636_525400821cf2row4_col13,#T_1f28c7ae_097e_11eb_a636_525400821cf2row13_col4{\n",
       "            background-color:  #c0c9e2;\n",
       "            color:  #000000;\n",
       "        }#T_1f28c7ae_097e_11eb_a636_525400821cf2row4_col14,#T_1f28c7ae_097e_11eb_a636_525400821cf2row14_col4{\n",
       "            background-color:  #cccfe5;\n",
       "            color:  #000000;\n",
       "        }#T_1f28c7ae_097e_11eb_a636_525400821cf2row4_col15,#T_1f28c7ae_097e_11eb_a636_525400821cf2row15_col4{\n",
       "            background-color:  #b0c2de;\n",
       "            color:  #000000;\n",
       "        }#T_1f28c7ae_097e_11eb_a636_525400821cf2row4_col16,#T_1f28c7ae_097e_11eb_a636_525400821cf2row8_col14,#T_1f28c7ae_097e_11eb_a636_525400821cf2row14_col8,#T_1f28c7ae_097e_11eb_a636_525400821cf2row16_col4{\n",
       "            background-color:  #81aed2;\n",
       "            color:  #000000;\n",
       "        }#T_1f28c7ae_097e_11eb_a636_525400821cf2row5_col7,#T_1f28c7ae_097e_11eb_a636_525400821cf2row7_col5,#T_1f28c7ae_097e_11eb_a636_525400821cf2row13_col16,#T_1f28c7ae_097e_11eb_a636_525400821cf2row16_col13{\n",
       "            background-color:  #0566a0;\n",
       "            color:  #f1f1f1;\n",
       "        }#T_1f28c7ae_097e_11eb_a636_525400821cf2row5_col8,#T_1f28c7ae_097e_11eb_a636_525400821cf2row6_col8,#T_1f28c7ae_097e_11eb_a636_525400821cf2row8_col5,#T_1f28c7ae_097e_11eb_a636_525400821cf2row8_col6{\n",
       "            background-color:  #0d75b3;\n",
       "            color:  #f1f1f1;\n",
       "        }#T_1f28c7ae_097e_11eb_a636_525400821cf2row5_col9,#T_1f28c7ae_097e_11eb_a636_525400821cf2row9_col5{\n",
       "            background-color:  #2182b9;\n",
       "            color:  #000000;\n",
       "        }#T_1f28c7ae_097e_11eb_a636_525400821cf2row5_col10,#T_1f28c7ae_097e_11eb_a636_525400821cf2row10_col5{\n",
       "            background-color:  #1278b4;\n",
       "            color:  #f1f1f1;\n",
       "        }#T_1f28c7ae_097e_11eb_a636_525400821cf2row5_col11,#T_1f28c7ae_097e_11eb_a636_525400821cf2row11_col5{\n",
       "            background-color:  #2786bb;\n",
       "            color:  #000000;\n",
       "        }#T_1f28c7ae_097e_11eb_a636_525400821cf2row5_col12,#T_1f28c7ae_097e_11eb_a636_525400821cf2row12_col5,#T_1f28c7ae_097e_11eb_a636_525400821cf2row12_col13,#T_1f28c7ae_097e_11eb_a636_525400821cf2row13_col12{\n",
       "            background-color:  #3b92c1;\n",
       "            color:  #000000;\n",
       "        }#T_1f28c7ae_097e_11eb_a636_525400821cf2row5_col13,#T_1f28c7ae_097e_11eb_a636_525400821cf2row13_col5{\n",
       "            background-color:  #0771b1;\n",
       "            color:  #f1f1f1;\n",
       "        }#T_1f28c7ae_097e_11eb_a636_525400821cf2row5_col14,#T_1f28c7ae_097e_11eb_a636_525400821cf2row14_col5{\n",
       "            background-color:  #4897c4;\n",
       "            color:  #000000;\n",
       "        }#T_1f28c7ae_097e_11eb_a636_525400821cf2row5_col15,#T_1f28c7ae_097e_11eb_a636_525400821cf2row15_col5{\n",
       "            background-color:  #86b0d3;\n",
       "            color:  #000000;\n",
       "        }#T_1f28c7ae_097e_11eb_a636_525400821cf2row5_col16,#T_1f28c7ae_097e_11eb_a636_525400821cf2row16_col5{\n",
       "            background-color:  #045b8f;\n",
       "            color:  #f1f1f1;\n",
       "        }#T_1f28c7ae_097e_11eb_a636_525400821cf2row6_col7,#T_1f28c7ae_097e_11eb_a636_525400821cf2row7_col6{\n",
       "            background-color:  #0c74b2;\n",
       "            color:  #f1f1f1;\n",
       "        }#T_1f28c7ae_097e_11eb_a636_525400821cf2row6_col9,#T_1f28c7ae_097e_11eb_a636_525400821cf2row9_col6{\n",
       "            background-color:  #2a88bc;\n",
       "            color:  #000000;\n",
       "        }#T_1f28c7ae_097e_11eb_a636_525400821cf2row6_col10,#T_1f28c7ae_097e_11eb_a636_525400821cf2row10_col6{\n",
       "            background-color:  #0f76b3;\n",
       "            color:  #f1f1f1;\n",
       "        }#T_1f28c7ae_097e_11eb_a636_525400821cf2row6_col11,#T_1f28c7ae_097e_11eb_a636_525400821cf2row11_col6{\n",
       "            background-color:  #4697c4;\n",
       "            color:  #000000;\n",
       "        }#T_1f28c7ae_097e_11eb_a636_525400821cf2row6_col12,#T_1f28c7ae_097e_11eb_a636_525400821cf2row12_col6{\n",
       "            background-color:  #4094c3;\n",
       "            color:  #000000;\n",
       "        }#T_1f28c7ae_097e_11eb_a636_525400821cf2row6_col13,#T_1f28c7ae_097e_11eb_a636_525400821cf2row13_col6{\n",
       "            background-color:  #045e94;\n",
       "            color:  #f1f1f1;\n",
       "        }#T_1f28c7ae_097e_11eb_a636_525400821cf2row6_col14,#T_1f28c7ae_097e_11eb_a636_525400821cf2row14_col6{\n",
       "            background-color:  #3d93c2;\n",
       "            color:  #000000;\n",
       "        }#T_1f28c7ae_097e_11eb_a636_525400821cf2row6_col15,#T_1f28c7ae_097e_11eb_a636_525400821cf2row15_col6{\n",
       "            background-color:  #569dc8;\n",
       "            color:  #000000;\n",
       "        }#T_1f28c7ae_097e_11eb_a636_525400821cf2row6_col16,#T_1f28c7ae_097e_11eb_a636_525400821cf2row7_col16,#T_1f28c7ae_097e_11eb_a636_525400821cf2row16_col6,#T_1f28c7ae_097e_11eb_a636_525400821cf2row16_col7{\n",
       "            background-color:  #045a8d;\n",
       "            color:  #f1f1f1;\n",
       "        }#T_1f28c7ae_097e_11eb_a636_525400821cf2row7_col8,#T_1f28c7ae_097e_11eb_a636_525400821cf2row8_col7,#T_1f28c7ae_097e_11eb_a636_525400821cf2row11_col16,#T_1f28c7ae_097e_11eb_a636_525400821cf2row16_col11{\n",
       "            background-color:  #056dab;\n",
       "            color:  #f1f1f1;\n",
       "        }#T_1f28c7ae_097e_11eb_a636_525400821cf2row7_col9,#T_1f28c7ae_097e_11eb_a636_525400821cf2row9_col7,#T_1f28c7ae_097e_11eb_a636_525400821cf2row9_col10,#T_1f28c7ae_097e_11eb_a636_525400821cf2row10_col9,#T_1f28c7ae_097e_11eb_a636_525400821cf2row13_col15,#T_1f28c7ae_097e_11eb_a636_525400821cf2row14_col15,#T_1f28c7ae_097e_11eb_a636_525400821cf2row15_col13,#T_1f28c7ae_097e_11eb_a636_525400821cf2row15_col14{\n",
       "            background-color:  #187cb6;\n",
       "            color:  #000000;\n",
       "        }#T_1f28c7ae_097e_11eb_a636_525400821cf2row7_col10,#T_1f28c7ae_097e_11eb_a636_525400821cf2row10_col7{\n",
       "            background-color:  #2987bc;\n",
       "            color:  #000000;\n",
       "        }#T_1f28c7ae_097e_11eb_a636_525400821cf2row7_col11,#T_1f28c7ae_097e_11eb_a636_525400821cf2row11_col7{\n",
       "            background-color:  #197db7;\n",
       "            color:  #000000;\n",
       "        }#T_1f28c7ae_097e_11eb_a636_525400821cf2row7_col12,#T_1f28c7ae_097e_11eb_a636_525400821cf2row12_col7{\n",
       "            background-color:  #056ba9;\n",
       "            color:  #f1f1f1;\n",
       "        }#T_1f28c7ae_097e_11eb_a636_525400821cf2row7_col13,#T_1f28c7ae_097e_11eb_a636_525400821cf2row8_col10,#T_1f28c7ae_097e_11eb_a636_525400821cf2row10_col8,#T_1f28c7ae_097e_11eb_a636_525400821cf2row13_col7{\n",
       "            background-color:  #056faf;\n",
       "            color:  #f1f1f1;\n",
       "        }#T_1f28c7ae_097e_11eb_a636_525400821cf2row7_col14,#T_1f28c7ae_097e_11eb_a636_525400821cf2row14_col7{\n",
       "            background-color:  #69a5cc;\n",
       "            color:  #000000;\n",
       "        }#T_1f28c7ae_097e_11eb_a636_525400821cf2row8_col9,#T_1f28c7ae_097e_11eb_a636_525400821cf2row9_col8{\n",
       "            background-color:  #045f95;\n",
       "            color:  #f1f1f1;\n",
       "        }#T_1f28c7ae_097e_11eb_a636_525400821cf2row8_col11,#T_1f28c7ae_097e_11eb_a636_525400821cf2row11_col8{\n",
       "            background-color:  #056aa6;\n",
       "            color:  #f1f1f1;\n",
       "        }#T_1f28c7ae_097e_11eb_a636_525400821cf2row8_col12,#T_1f28c7ae_097e_11eb_a636_525400821cf2row12_col8{\n",
       "            background-color:  #1077b4;\n",
       "            color:  #f1f1f1;\n",
       "        }#T_1f28c7ae_097e_11eb_a636_525400821cf2row8_col13,#T_1f28c7ae_097e_11eb_a636_525400821cf2row13_col8{\n",
       "            background-color:  #1c7fb8;\n",
       "            color:  #000000;\n",
       "        }#T_1f28c7ae_097e_11eb_a636_525400821cf2row8_col16,#T_1f28c7ae_097e_11eb_a636_525400821cf2row16_col8{\n",
       "            background-color:  #045280;\n",
       "            color:  #f1f1f1;\n",
       "        }#T_1f28c7ae_097e_11eb_a636_525400821cf2row9_col11,#T_1f28c7ae_097e_11eb_a636_525400821cf2row11_col9{\n",
       "            background-color:  #0a73b2;\n",
       "            color:  #f1f1f1;\n",
       "        }#T_1f28c7ae_097e_11eb_a636_525400821cf2row9_col12,#T_1f28c7ae_097e_11eb_a636_525400821cf2row12_col9{\n",
       "            background-color:  #1379b5;\n",
       "            color:  #f1f1f1;\n",
       "        }#T_1f28c7ae_097e_11eb_a636_525400821cf2row9_col13,#T_1f28c7ae_097e_11eb_a636_525400821cf2row13_col9{\n",
       "            background-color:  #65a3cb;\n",
       "            color:  #000000;\n",
       "        }#T_1f28c7ae_097e_11eb_a636_525400821cf2row9_col15,#T_1f28c7ae_097e_11eb_a636_525400821cf2row15_col9{\n",
       "            background-color:  #dfddec;\n",
       "            color:  #000000;\n",
       "        }#T_1f28c7ae_097e_11eb_a636_525400821cf2row9_col16,#T_1f28c7ae_097e_11eb_a636_525400821cf2row16_col9{\n",
       "            background-color:  #046299;\n",
       "            color:  #f1f1f1;\n",
       "        }#T_1f28c7ae_097e_11eb_a636_525400821cf2row10_col11,#T_1f28c7ae_097e_11eb_a636_525400821cf2row11_col10{\n",
       "            background-color:  #05659f;\n",
       "            color:  #f1f1f1;\n",
       "        }#T_1f28c7ae_097e_11eb_a636_525400821cf2row10_col12,#T_1f28c7ae_097e_11eb_a636_525400821cf2row12_col10{\n",
       "            background-color:  #308cbe;\n",
       "            color:  #000000;\n",
       "        }#T_1f28c7ae_097e_11eb_a636_525400821cf2row10_col13,#T_1f28c7ae_097e_11eb_a636_525400821cf2row13_col10{\n",
       "            background-color:  #589ec8;\n",
       "            color:  #000000;\n",
       "        }#T_1f28c7ae_097e_11eb_a636_525400821cf2row10_col15,#T_1f28c7ae_097e_11eb_a636_525400821cf2row15_col10{\n",
       "            background-color:  #7bacd1;\n",
       "            color:  #000000;\n",
       "        }#T_1f28c7ae_097e_11eb_a636_525400821cf2row10_col16,#T_1f28c7ae_097e_11eb_a636_525400821cf2row16_col10{\n",
       "            background-color:  #046096;\n",
       "            color:  #f1f1f1;\n",
       "        }#T_1f28c7ae_097e_11eb_a636_525400821cf2row11_col12,#T_1f28c7ae_097e_11eb_a636_525400821cf2row12_col11{\n",
       "            background-color:  #4a98c5;\n",
       "            color:  #000000;\n",
       "        }#T_1f28c7ae_097e_11eb_a636_525400821cf2row12_col14,#T_1f28c7ae_097e_11eb_a636_525400821cf2row14_col12{\n",
       "            background-color:  #9fbad9;\n",
       "            color:  #000000;\n",
       "        }#T_1f28c7ae_097e_11eb_a636_525400821cf2row12_col15,#T_1f28c7ae_097e_11eb_a636_525400821cf2row15_col12{\n",
       "            background-color:  #93b5d6;\n",
       "            color:  #000000;\n",
       "        }#T_1f28c7ae_097e_11eb_a636_525400821cf2row12_col16,#T_1f28c7ae_097e_11eb_a636_525400821cf2row16_col12{\n",
       "            background-color:  #0569a4;\n",
       "            color:  #f1f1f1;\n",
       "        }#T_1f28c7ae_097e_11eb_a636_525400821cf2row13_col14,#T_1f28c7ae_097e_11eb_a636_525400821cf2row14_col13{\n",
       "            background-color:  #2081b9;\n",
       "            color:  #000000;\n",
       "        }#T_1f28c7ae_097e_11eb_a636_525400821cf2row14_col16,#T_1f28c7ae_097e_11eb_a636_525400821cf2row16_col14{\n",
       "            background-color:  #71a8ce;\n",
       "            color:  #000000;\n",
       "        }#T_1f28c7ae_097e_11eb_a636_525400821cf2row15_col16,#T_1f28c7ae_097e_11eb_a636_525400821cf2row16_col15{\n",
       "            background-color:  #73a9cf;\n",
       "            color:  #000000;\n",
       "        }</style><table id=\"T_1f28c7ae_097e_11eb_a636_525400821cf2\" ><thead>    <tr>        <th class=\"blank level0\" ></th>        <th class=\"col_heading level0 col0\" >Rt</th>        <th class=\"col_heading level0 col1\" >theta</th>        <th class=\"col_heading level0 col2\" >kappa</th>        <th class=\"col_heading level0 col3\" >rho</th>        <th class=\"col_heading level0 col4\" >sigma</th>        <th class=\"col_heading level0 col5\" >School_closing</th>        <th class=\"col_heading level0 col6\" >Workplace_closing</th>        <th class=\"col_heading level0 col7\" >Cancel_events</th>        <th class=\"col_heading level0 col8\" >Gatherings_restrictions</th>        <th class=\"col_heading level0 col9\" >Transport_closing</th>        <th class=\"col_heading level0 col10\" >Stay_home_restrictions</th>        <th class=\"col_heading level0 col11\" >Internal_movement_restrictions</th>        <th class=\"col_heading level0 col12\" >International_movement_restrictions</th>        <th class=\"col_heading level0 col13\" >Information_campaigns</th>        <th class=\"col_heading level0 col14\" >Testing_policy</th>        <th class=\"col_heading level0 col15\" >Contact_tracing</th>        <th class=\"col_heading level0 col16\" >Stringency_index</th>    </tr></thead><tbody>\n",
       "                <tr>\n",
       "                        <th id=\"T_1f28c7ae_097e_11eb_a636_525400821cf2level0_row0\" class=\"row_heading level0 row0\" >Rt</th>\n",
       "                        <td id=\"T_1f28c7ae_097e_11eb_a636_525400821cf2row0_col0\" class=\"data row0 col0\" >1.000000</td>\n",
       "                        <td id=\"T_1f28c7ae_097e_11eb_a636_525400821cf2row0_col1\" class=\"data row0 col1\" >-0.176342</td>\n",
       "                        <td id=\"T_1f28c7ae_097e_11eb_a636_525400821cf2row0_col2\" class=\"data row0 col2\" >-0.134575</td>\n",
       "                        <td id=\"T_1f28c7ae_097e_11eb_a636_525400821cf2row0_col3\" class=\"data row0 col3\" >0.047972</td>\n",
       "                        <td id=\"T_1f28c7ae_097e_11eb_a636_525400821cf2row0_col4\" class=\"data row0 col4\" >-0.281398</td>\n",
       "                        <td id=\"T_1f28c7ae_097e_11eb_a636_525400821cf2row0_col5\" class=\"data row0 col5\" >-0.222554</td>\n",
       "                        <td id=\"T_1f28c7ae_097e_11eb_a636_525400821cf2row0_col6\" class=\"data row0 col6\" >-0.084383</td>\n",
       "                        <td id=\"T_1f28c7ae_097e_11eb_a636_525400821cf2row0_col7\" class=\"data row0 col7\" >-0.126133</td>\n",
       "                        <td id=\"T_1f28c7ae_097e_11eb_a636_525400821cf2row0_col8\" class=\"data row0 col8\" >-0.121734</td>\n",
       "                        <td id=\"T_1f28c7ae_097e_11eb_a636_525400821cf2row0_col9\" class=\"data row0 col9\" >-0.112851</td>\n",
       "                        <td id=\"T_1f28c7ae_097e_11eb_a636_525400821cf2row0_col10\" class=\"data row0 col10\" >-0.166326</td>\n",
       "                        <td id=\"T_1f28c7ae_097e_11eb_a636_525400821cf2row0_col11\" class=\"data row0 col11\" >-0.343957</td>\n",
       "                        <td id=\"T_1f28c7ae_097e_11eb_a636_525400821cf2row0_col12\" class=\"data row0 col12\" >-0.046866</td>\n",
       "                        <td id=\"T_1f28c7ae_097e_11eb_a636_525400821cf2row0_col13\" class=\"data row0 col13\" >-0.002654</td>\n",
       "                        <td id=\"T_1f28c7ae_097e_11eb_a636_525400821cf2row0_col14\" class=\"data row0 col14\" >-0.204429</td>\n",
       "                        <td id=\"T_1f28c7ae_097e_11eb_a636_525400821cf2row0_col15\" class=\"data row0 col15\" >-0.118634</td>\n",
       "                        <td id=\"T_1f28c7ae_097e_11eb_a636_525400821cf2row0_col16\" class=\"data row0 col16\" >-0.133428</td>\n",
       "            </tr>\n",
       "            <tr>\n",
       "                        <th id=\"T_1f28c7ae_097e_11eb_a636_525400821cf2level0_row1\" class=\"row_heading level0 row1\" >theta</th>\n",
       "                        <td id=\"T_1f28c7ae_097e_11eb_a636_525400821cf2row1_col0\" class=\"data row1 col0\" >-0.176342</td>\n",
       "                        <td id=\"T_1f28c7ae_097e_11eb_a636_525400821cf2row1_col1\" class=\"data row1 col1\" >1.000000</td>\n",
       "                        <td id=\"T_1f28c7ae_097e_11eb_a636_525400821cf2row1_col2\" class=\"data row1 col2\" >0.929309</td>\n",
       "                        <td id=\"T_1f28c7ae_097e_11eb_a636_525400821cf2row1_col3\" class=\"data row1 col3\" >0.667042</td>\n",
       "                        <td id=\"T_1f28c7ae_097e_11eb_a636_525400821cf2row1_col4\" class=\"data row1 col4\" >0.062164</td>\n",
       "                        <td id=\"T_1f28c7ae_097e_11eb_a636_525400821cf2row1_col5\" class=\"data row1 col5\" >-0.135231</td>\n",
       "                        <td id=\"T_1f28c7ae_097e_11eb_a636_525400821cf2row1_col6\" class=\"data row1 col6\" >-0.139305</td>\n",
       "                        <td id=\"T_1f28c7ae_097e_11eb_a636_525400821cf2row1_col7\" class=\"data row1 col7\" >-0.180750</td>\n",
       "                        <td id=\"T_1f28c7ae_097e_11eb_a636_525400821cf2row1_col8\" class=\"data row1 col8\" >-0.093032</td>\n",
       "                        <td id=\"T_1f28c7ae_097e_11eb_a636_525400821cf2row1_col9\" class=\"data row1 col9\" >-0.098730</td>\n",
       "                        <td id=\"T_1f28c7ae_097e_11eb_a636_525400821cf2row1_col10\" class=\"data row1 col10\" >0.212685</td>\n",
       "                        <td id=\"T_1f28c7ae_097e_11eb_a636_525400821cf2row1_col11\" class=\"data row1 col11\" >0.103612</td>\n",
       "                        <td id=\"T_1f28c7ae_097e_11eb_a636_525400821cf2row1_col12\" class=\"data row1 col12\" >0.114965</td>\n",
       "                        <td id=\"T_1f28c7ae_097e_11eb_a636_525400821cf2row1_col13\" class=\"data row1 col13\" >-0.339861</td>\n",
       "                        <td id=\"T_1f28c7ae_097e_11eb_a636_525400821cf2row1_col14\" class=\"data row1 col14\" >-0.285451</td>\n",
       "                        <td id=\"T_1f28c7ae_097e_11eb_a636_525400821cf2row1_col15\" class=\"data row1 col15\" >-0.034910</td>\n",
       "                        <td id=\"T_1f28c7ae_097e_11eb_a636_525400821cf2row1_col16\" class=\"data row1 col16\" >-0.049815</td>\n",
       "            </tr>\n",
       "            <tr>\n",
       "                        <th id=\"T_1f28c7ae_097e_11eb_a636_525400821cf2level0_row2\" class=\"row_heading level0 row2\" >kappa</th>\n",
       "                        <td id=\"T_1f28c7ae_097e_11eb_a636_525400821cf2row2_col0\" class=\"data row2 col0\" >-0.134575</td>\n",
       "                        <td id=\"T_1f28c7ae_097e_11eb_a636_525400821cf2row2_col1\" class=\"data row2 col1\" >0.929309</td>\n",
       "                        <td id=\"T_1f28c7ae_097e_11eb_a636_525400821cf2row2_col2\" class=\"data row2 col2\" >1.000000</td>\n",
       "                        <td id=\"T_1f28c7ae_097e_11eb_a636_525400821cf2row2_col3\" class=\"data row2 col3\" >0.717549</td>\n",
       "                        <td id=\"T_1f28c7ae_097e_11eb_a636_525400821cf2row2_col4\" class=\"data row2 col4\" >0.030599</td>\n",
       "                        <td id=\"T_1f28c7ae_097e_11eb_a636_525400821cf2row2_col5\" class=\"data row2 col5\" >-0.133354</td>\n",
       "                        <td id=\"T_1f28c7ae_097e_11eb_a636_525400821cf2row2_col6\" class=\"data row2 col6\" >-0.126065</td>\n",
       "                        <td id=\"T_1f28c7ae_097e_11eb_a636_525400821cf2row2_col7\" class=\"data row2 col7\" >-0.107394</td>\n",
       "                        <td id=\"T_1f28c7ae_097e_11eb_a636_525400821cf2row2_col8\" class=\"data row2 col8\" >-0.063728</td>\n",
       "                        <td id=\"T_1f28c7ae_097e_11eb_a636_525400821cf2row2_col9\" class=\"data row2 col9\" >-0.070175</td>\n",
       "                        <td id=\"T_1f28c7ae_097e_11eb_a636_525400821cf2row2_col10\" class=\"data row2 col10\" >0.262379</td>\n",
       "                        <td id=\"T_1f28c7ae_097e_11eb_a636_525400821cf2row2_col11\" class=\"data row2 col11\" >0.192657</td>\n",
       "                        <td id=\"T_1f28c7ae_097e_11eb_a636_525400821cf2row2_col12\" class=\"data row2 col12\" >0.211020</td>\n",
       "                        <td id=\"T_1f28c7ae_097e_11eb_a636_525400821cf2row2_col13\" class=\"data row2 col13\" >-0.339274</td>\n",
       "                        <td id=\"T_1f28c7ae_097e_11eb_a636_525400821cf2row2_col14\" class=\"data row2 col14\" >-0.188815</td>\n",
       "                        <td id=\"T_1f28c7ae_097e_11eb_a636_525400821cf2row2_col15\" class=\"data row2 col15\" >-0.024687</td>\n",
       "                        <td id=\"T_1f28c7ae_097e_11eb_a636_525400821cf2row2_col16\" class=\"data row2 col16\" >-0.023881</td>\n",
       "            </tr>\n",
       "            <tr>\n",
       "                        <th id=\"T_1f28c7ae_097e_11eb_a636_525400821cf2level0_row3\" class=\"row_heading level0 row3\" >rho</th>\n",
       "                        <td id=\"T_1f28c7ae_097e_11eb_a636_525400821cf2row3_col0\" class=\"data row3 col0\" >0.047972</td>\n",
       "                        <td id=\"T_1f28c7ae_097e_11eb_a636_525400821cf2row3_col1\" class=\"data row3 col1\" >0.667042</td>\n",
       "                        <td id=\"T_1f28c7ae_097e_11eb_a636_525400821cf2row3_col2\" class=\"data row3 col2\" >0.717549</td>\n",
       "                        <td id=\"T_1f28c7ae_097e_11eb_a636_525400821cf2row3_col3\" class=\"data row3 col3\" >1.000000</td>\n",
       "                        <td id=\"T_1f28c7ae_097e_11eb_a636_525400821cf2row3_col4\" class=\"data row3 col4\" >0.149954</td>\n",
       "                        <td id=\"T_1f28c7ae_097e_11eb_a636_525400821cf2row3_col5\" class=\"data row3 col5\" >-0.122455</td>\n",
       "                        <td id=\"T_1f28c7ae_097e_11eb_a636_525400821cf2row3_col6\" class=\"data row3 col6\" >-0.157517</td>\n",
       "                        <td id=\"T_1f28c7ae_097e_11eb_a636_525400821cf2row3_col7\" class=\"data row3 col7\" >-0.057786</td>\n",
       "                        <td id=\"T_1f28c7ae_097e_11eb_a636_525400821cf2row3_col8\" class=\"data row3 col8\" >-0.002726</td>\n",
       "                        <td id=\"T_1f28c7ae_097e_11eb_a636_525400821cf2row3_col9\" class=\"data row3 col9\" >-0.030435</td>\n",
       "                        <td id=\"T_1f28c7ae_097e_11eb_a636_525400821cf2row3_col10\" class=\"data row3 col10\" >0.206374</td>\n",
       "                        <td id=\"T_1f28c7ae_097e_11eb_a636_525400821cf2row3_col11\" class=\"data row3 col11\" >0.204146</td>\n",
       "                        <td id=\"T_1f28c7ae_097e_11eb_a636_525400821cf2row3_col12\" class=\"data row3 col12\" >0.128285</td>\n",
       "                        <td id=\"T_1f28c7ae_097e_11eb_a636_525400821cf2row3_col13\" class=\"data row3 col13\" >-0.413999</td>\n",
       "                        <td id=\"T_1f28c7ae_097e_11eb_a636_525400821cf2row3_col14\" class=\"data row3 col14\" >-0.407005</td>\n",
       "                        <td id=\"T_1f28c7ae_097e_11eb_a636_525400821cf2row3_col15\" class=\"data row3 col15\" >-0.260489</td>\n",
       "                        <td id=\"T_1f28c7ae_097e_11eb_a636_525400821cf2row3_col16\" class=\"data row3 col16\" >-0.017269</td>\n",
       "            </tr>\n",
       "            <tr>\n",
       "                        <th id=\"T_1f28c7ae_097e_11eb_a636_525400821cf2level0_row4\" class=\"row_heading level0 row4\" >sigma</th>\n",
       "                        <td id=\"T_1f28c7ae_097e_11eb_a636_525400821cf2row4_col0\" class=\"data row4 col0\" >-0.281398</td>\n",
       "                        <td id=\"T_1f28c7ae_097e_11eb_a636_525400821cf2row4_col1\" class=\"data row4 col1\" >0.062164</td>\n",
       "                        <td id=\"T_1f28c7ae_097e_11eb_a636_525400821cf2row4_col2\" class=\"data row4 col2\" >0.030599</td>\n",
       "                        <td id=\"T_1f28c7ae_097e_11eb_a636_525400821cf2row4_col3\" class=\"data row4 col3\" >0.149954</td>\n",
       "                        <td id=\"T_1f28c7ae_097e_11eb_a636_525400821cf2row4_col4\" class=\"data row4 col4\" >1.000000</td>\n",
       "                        <td id=\"T_1f28c7ae_097e_11eb_a636_525400821cf2row4_col5\" class=\"data row4 col5\" >0.276792</td>\n",
       "                        <td id=\"T_1f28c7ae_097e_11eb_a636_525400821cf2row4_col6\" class=\"data row4 col6\" >0.065090</td>\n",
       "                        <td id=\"T_1f28c7ae_097e_11eb_a636_525400821cf2row4_col7\" class=\"data row4 col7\" >0.283069</td>\n",
       "                        <td id=\"T_1f28c7ae_097e_11eb_a636_525400821cf2row4_col8\" class=\"data row4 col8\" >0.137592</td>\n",
       "                        <td id=\"T_1f28c7ae_097e_11eb_a636_525400821cf2row4_col9\" class=\"data row4 col9\" >0.191766</td>\n",
       "                        <td id=\"T_1f28c7ae_097e_11eb_a636_525400821cf2row4_col10\" class=\"data row4 col10\" >0.204132</td>\n",
       "                        <td id=\"T_1f28c7ae_097e_11eb_a636_525400821cf2row4_col11\" class=\"data row4 col11\" >0.287713</td>\n",
       "                        <td id=\"T_1f28c7ae_097e_11eb_a636_525400821cf2row4_col12\" class=\"data row4 col12\" >0.102705</td>\n",
       "                        <td id=\"T_1f28c7ae_097e_11eb_a636_525400821cf2row4_col13\" class=\"data row4 col13\" >0.008590</td>\n",
       "                        <td id=\"T_1f28c7ae_097e_11eb_a636_525400821cf2row4_col14\" class=\"data row4 col14\" >-0.041632</td>\n",
       "                        <td id=\"T_1f28c7ae_097e_11eb_a636_525400821cf2row4_col15\" class=\"data row4 col15\" >0.073129</td>\n",
       "                        <td id=\"T_1f28c7ae_097e_11eb_a636_525400821cf2row4_col16\" class=\"data row4 col16\" >0.245139</td>\n",
       "            </tr>\n",
       "            <tr>\n",
       "                        <th id=\"T_1f28c7ae_097e_11eb_a636_525400821cf2level0_row5\" class=\"row_heading level0 row5\" >School_closing</th>\n",
       "                        <td id=\"T_1f28c7ae_097e_11eb_a636_525400821cf2row5_col0\" class=\"data row5 col0\" >-0.222554</td>\n",
       "                        <td id=\"T_1f28c7ae_097e_11eb_a636_525400821cf2row5_col1\" class=\"data row5 col1\" >-0.135231</td>\n",
       "                        <td id=\"T_1f28c7ae_097e_11eb_a636_525400821cf2row5_col2\" class=\"data row5 col2\" >-0.133354</td>\n",
       "                        <td id=\"T_1f28c7ae_097e_11eb_a636_525400821cf2row5_col3\" class=\"data row5 col3\" >-0.122455</td>\n",
       "                        <td id=\"T_1f28c7ae_097e_11eb_a636_525400821cf2row5_col4\" class=\"data row5 col4\" >0.276792</td>\n",
       "                        <td id=\"T_1f28c7ae_097e_11eb_a636_525400821cf2row5_col5\" class=\"data row5 col5\" >1.000000</td>\n",
       "                        <td id=\"T_1f28c7ae_097e_11eb_a636_525400821cf2row5_col6\" class=\"data row5 col6\" >0.712937</td>\n",
       "                        <td id=\"T_1f28c7ae_097e_11eb_a636_525400821cf2row5_col7\" class=\"data row5 col7\" >0.724405</td>\n",
       "                        <td id=\"T_1f28c7ae_097e_11eb_a636_525400821cf2row5_col8\" class=\"data row5 col8\" >0.614666</td>\n",
       "                        <td id=\"T_1f28c7ae_097e_11eb_a636_525400821cf2row5_col9\" class=\"data row5 col9\" >0.543361</td>\n",
       "                        <td id=\"T_1f28c7ae_097e_11eb_a636_525400821cf2row5_col10\" class=\"data row5 col10\" >0.601185</td>\n",
       "                        <td id=\"T_1f28c7ae_097e_11eb_a636_525400821cf2row5_col11\" class=\"data row5 col11\" >0.521695</td>\n",
       "                        <td id=\"T_1f28c7ae_097e_11eb_a636_525400821cf2row5_col12\" class=\"data row5 col12\" >0.454280</td>\n",
       "                        <td id=\"T_1f28c7ae_097e_11eb_a636_525400821cf2row5_col13\" class=\"data row5 col13\" >0.640472</td>\n",
       "                        <td id=\"T_1f28c7ae_097e_11eb_a636_525400821cf2row5_col14\" class=\"data row5 col14\" >0.415783</td>\n",
       "                        <td id=\"T_1f28c7ae_097e_11eb_a636_525400821cf2row5_col15\" class=\"data row5 col15\" >0.231824</td>\n",
       "                        <td id=\"T_1f28c7ae_097e_11eb_a636_525400821cf2row5_col16\" class=\"data row5 col16\" >0.811973</td>\n",
       "            </tr>\n",
       "            <tr>\n",
       "                        <th id=\"T_1f28c7ae_097e_11eb_a636_525400821cf2level0_row6\" class=\"row_heading level0 row6\" >Workplace_closing</th>\n",
       "                        <td id=\"T_1f28c7ae_097e_11eb_a636_525400821cf2row6_col0\" class=\"data row6 col0\" >-0.084383</td>\n",
       "                        <td id=\"T_1f28c7ae_097e_11eb_a636_525400821cf2row6_col1\" class=\"data row6 col1\" >-0.139305</td>\n",
       "                        <td id=\"T_1f28c7ae_097e_11eb_a636_525400821cf2row6_col2\" class=\"data row6 col2\" >-0.126065</td>\n",
       "                        <td id=\"T_1f28c7ae_097e_11eb_a636_525400821cf2row6_col3\" class=\"data row6 col3\" >-0.157517</td>\n",
       "                        <td id=\"T_1f28c7ae_097e_11eb_a636_525400821cf2row6_col4\" class=\"data row6 col4\" >0.065090</td>\n",
       "                        <td id=\"T_1f28c7ae_097e_11eb_a636_525400821cf2row6_col5\" class=\"data row6 col5\" >0.712937</td>\n",
       "                        <td id=\"T_1f28c7ae_097e_11eb_a636_525400821cf2row6_col6\" class=\"data row6 col6\" >1.000000</td>\n",
       "                        <td id=\"T_1f28c7ae_097e_11eb_a636_525400821cf2row6_col7\" class=\"data row6 col7\" >0.622500</td>\n",
       "                        <td id=\"T_1f28c7ae_097e_11eb_a636_525400821cf2row6_col8\" class=\"data row6 col8\" >0.616631</td>\n",
       "                        <td id=\"T_1f28c7ae_097e_11eb_a636_525400821cf2row6_col9\" class=\"data row6 col9\" >0.512102</td>\n",
       "                        <td id=\"T_1f28c7ae_097e_11eb_a636_525400821cf2row6_col10\" class=\"data row6 col10\" >0.612111</td>\n",
       "                        <td id=\"T_1f28c7ae_097e_11eb_a636_525400821cf2row6_col11\" class=\"data row6 col11\" >0.420633</td>\n",
       "                        <td id=\"T_1f28c7ae_097e_11eb_a636_525400821cf2row6_col12\" class=\"data row6 col12\" >0.439901</td>\n",
       "                        <td id=\"T_1f28c7ae_097e_11eb_a636_525400821cf2row6_col13\" class=\"data row6 col13\" >0.788899</td>\n",
       "                        <td id=\"T_1f28c7ae_097e_11eb_a636_525400821cf2row6_col14\" class=\"data row6 col14\" >0.450683</td>\n",
       "                        <td id=\"T_1f28c7ae_097e_11eb_a636_525400821cf2row6_col15\" class=\"data row6 col15\" >0.378511</td>\n",
       "                        <td id=\"T_1f28c7ae_097e_11eb_a636_525400821cf2row6_col16\" class=\"data row6 col16\" >0.821864</td>\n",
       "            </tr>\n",
       "            <tr>\n",
       "                        <th id=\"T_1f28c7ae_097e_11eb_a636_525400821cf2level0_row7\" class=\"row_heading level0 row7\" >Cancel_events</th>\n",
       "                        <td id=\"T_1f28c7ae_097e_11eb_a636_525400821cf2row7_col0\" class=\"data row7 col0\" >-0.126133</td>\n",
       "                        <td id=\"T_1f28c7ae_097e_11eb_a636_525400821cf2row7_col1\" class=\"data row7 col1\" >-0.180750</td>\n",
       "                        <td id=\"T_1f28c7ae_097e_11eb_a636_525400821cf2row7_col2\" class=\"data row7 col2\" >-0.107394</td>\n",
       "                        <td id=\"T_1f28c7ae_097e_11eb_a636_525400821cf2row7_col3\" class=\"data row7 col3\" >-0.057786</td>\n",
       "                        <td id=\"T_1f28c7ae_097e_11eb_a636_525400821cf2row7_col4\" class=\"data row7 col4\" >0.283069</td>\n",
       "                        <td id=\"T_1f28c7ae_097e_11eb_a636_525400821cf2row7_col5\" class=\"data row7 col5\" >0.724405</td>\n",
       "                        <td id=\"T_1f28c7ae_097e_11eb_a636_525400821cf2row7_col6\" class=\"data row7 col6\" >0.622500</td>\n",
       "                        <td id=\"T_1f28c7ae_097e_11eb_a636_525400821cf2row7_col7\" class=\"data row7 col7\" >1.000000</td>\n",
       "                        <td id=\"T_1f28c7ae_097e_11eb_a636_525400821cf2row7_col8\" class=\"data row7 col8\" >0.673086</td>\n",
       "                        <td id=\"T_1f28c7ae_097e_11eb_a636_525400821cf2row7_col9\" class=\"data row7 col9\" >0.578046</td>\n",
       "                        <td id=\"T_1f28c7ae_097e_11eb_a636_525400821cf2row7_col10\" class=\"data row7 col10\" >0.516214</td>\n",
       "                        <td id=\"T_1f28c7ae_097e_11eb_a636_525400821cf2row7_col11\" class=\"data row7 col11\" >0.569881</td>\n",
       "                        <td id=\"T_1f28c7ae_097e_11eb_a636_525400821cf2row7_col12\" class=\"data row7 col12\" >0.681387</td>\n",
       "                        <td id=\"T_1f28c7ae_097e_11eb_a636_525400821cf2row7_col13\" class=\"data row7 col13\" >0.649814</td>\n",
       "                        <td id=\"T_1f28c7ae_097e_11eb_a636_525400821cf2row7_col14\" class=\"data row7 col14\" >0.321149</td>\n",
       "                        <td id=\"T_1f28c7ae_097e_11eb_a636_525400821cf2row7_col15\" class=\"data row7 col15\" >0.277720</td>\n",
       "                        <td id=\"T_1f28c7ae_097e_11eb_a636_525400821cf2row7_col16\" class=\"data row7 col16\" >0.820598</td>\n",
       "            </tr>\n",
       "            <tr>\n",
       "                        <th id=\"T_1f28c7ae_097e_11eb_a636_525400821cf2level0_row8\" class=\"row_heading level0 row8\" >Gatherings_restrictions</th>\n",
       "                        <td id=\"T_1f28c7ae_097e_11eb_a636_525400821cf2row8_col0\" class=\"data row8 col0\" >-0.121734</td>\n",
       "                        <td id=\"T_1f28c7ae_097e_11eb_a636_525400821cf2row8_col1\" class=\"data row8 col1\" >-0.093032</td>\n",
       "                        <td id=\"T_1f28c7ae_097e_11eb_a636_525400821cf2row8_col2\" class=\"data row8 col2\" >-0.063728</td>\n",
       "                        <td id=\"T_1f28c7ae_097e_11eb_a636_525400821cf2row8_col3\" class=\"data row8 col3\" >-0.002726</td>\n",
       "                        <td id=\"T_1f28c7ae_097e_11eb_a636_525400821cf2row8_col4\" class=\"data row8 col4\" >0.137592</td>\n",
       "                        <td id=\"T_1f28c7ae_097e_11eb_a636_525400821cf2row8_col5\" class=\"data row8 col5\" >0.614666</td>\n",
       "                        <td id=\"T_1f28c7ae_097e_11eb_a636_525400821cf2row8_col6\" class=\"data row8 col6\" >0.616631</td>\n",
       "                        <td id=\"T_1f28c7ae_097e_11eb_a636_525400821cf2row8_col7\" class=\"data row8 col7\" >0.673086</td>\n",
       "                        <td id=\"T_1f28c7ae_097e_11eb_a636_525400821cf2row8_col8\" class=\"data row8 col8\" >1.000000</td>\n",
       "                        <td id=\"T_1f28c7ae_097e_11eb_a636_525400821cf2row8_col9\" class=\"data row8 col9\" >0.781776</td>\n",
       "                        <td id=\"T_1f28c7ae_097e_11eb_a636_525400821cf2row8_col10\" class=\"data row8 col10\" >0.647201</td>\n",
       "                        <td id=\"T_1f28c7ae_097e_11eb_a636_525400821cf2row8_col11\" class=\"data row8 col11\" >0.692482</td>\n",
       "                        <td id=\"T_1f28c7ae_097e_11eb_a636_525400821cf2row8_col12\" class=\"data row8 col12\" >0.607046</td>\n",
       "                        <td id=\"T_1f28c7ae_097e_11eb_a636_525400821cf2row8_col13\" class=\"data row8 col13\" >0.559340</td>\n",
       "                        <td id=\"T_1f28c7ae_097e_11eb_a636_525400821cf2row8_col14\" class=\"data row8 col14\" >0.248205</td>\n",
       "                        <td id=\"T_1f28c7ae_097e_11eb_a636_525400821cf2row8_col15\" class=\"data row8 col15\" >0.110878</td>\n",
       "                        <td id=\"T_1f28c7ae_097e_11eb_a636_525400821cf2row8_col16\" class=\"data row8 col16\" >0.862861</td>\n",
       "            </tr>\n",
       "            <tr>\n",
       "                        <th id=\"T_1f28c7ae_097e_11eb_a636_525400821cf2level0_row9\" class=\"row_heading level0 row9\" >Transport_closing</th>\n",
       "                        <td id=\"T_1f28c7ae_097e_11eb_a636_525400821cf2row9_col0\" class=\"data row9 col0\" >-0.112851</td>\n",
       "                        <td id=\"T_1f28c7ae_097e_11eb_a636_525400821cf2row9_col1\" class=\"data row9 col1\" >-0.098730</td>\n",
       "                        <td id=\"T_1f28c7ae_097e_11eb_a636_525400821cf2row9_col2\" class=\"data row9 col2\" >-0.070175</td>\n",
       "                        <td id=\"T_1f28c7ae_097e_11eb_a636_525400821cf2row9_col3\" class=\"data row9 col3\" >-0.030435</td>\n",
       "                        <td id=\"T_1f28c7ae_097e_11eb_a636_525400821cf2row9_col4\" class=\"data row9 col4\" >0.191766</td>\n",
       "                        <td id=\"T_1f28c7ae_097e_11eb_a636_525400821cf2row9_col5\" class=\"data row9 col5\" >0.543361</td>\n",
       "                        <td id=\"T_1f28c7ae_097e_11eb_a636_525400821cf2row9_col6\" class=\"data row9 col6\" >0.512102</td>\n",
       "                        <td id=\"T_1f28c7ae_097e_11eb_a636_525400821cf2row9_col7\" class=\"data row9 col7\" >0.578046</td>\n",
       "                        <td id=\"T_1f28c7ae_097e_11eb_a636_525400821cf2row9_col8\" class=\"data row9 col8\" >0.781776</td>\n",
       "                        <td id=\"T_1f28c7ae_097e_11eb_a636_525400821cf2row9_col9\" class=\"data row9 col9\" >1.000000</td>\n",
       "                        <td id=\"T_1f28c7ae_097e_11eb_a636_525400821cf2row9_col10\" class=\"data row9 col10\" >0.578282</td>\n",
       "                        <td id=\"T_1f28c7ae_097e_11eb_a636_525400821cf2row9_col11\" class=\"data row9 col11\" >0.627185</td>\n",
       "                        <td id=\"T_1f28c7ae_097e_11eb_a636_525400821cf2row9_col12\" class=\"data row9 col12\" >0.591628</td>\n",
       "                        <td id=\"T_1f28c7ae_097e_11eb_a636_525400821cf2row9_col13\" class=\"data row9 col13\" >0.337040</td>\n",
       "                        <td id=\"T_1f28c7ae_097e_11eb_a636_525400821cf2row9_col14\" class=\"data row9 col14\" >0.028766</td>\n",
       "                        <td id=\"T_1f28c7ae_097e_11eb_a636_525400821cf2row9_col15\" class=\"data row9 col15\" >-0.149325</td>\n",
       "                        <td id=\"T_1f28c7ae_097e_11eb_a636_525400821cf2row9_col16\" class=\"data row9 col16\" >0.758973</td>\n",
       "            </tr>\n",
       "            <tr>\n",
       "                        <th id=\"T_1f28c7ae_097e_11eb_a636_525400821cf2level0_row10\" class=\"row_heading level0 row10\" >Stay_home_restrictions</th>\n",
       "                        <td id=\"T_1f28c7ae_097e_11eb_a636_525400821cf2row10_col0\" class=\"data row10 col0\" >-0.166326</td>\n",
       "                        <td id=\"T_1f28c7ae_097e_11eb_a636_525400821cf2row10_col1\" class=\"data row10 col1\" >0.212685</td>\n",
       "                        <td id=\"T_1f28c7ae_097e_11eb_a636_525400821cf2row10_col2\" class=\"data row10 col2\" >0.262379</td>\n",
       "                        <td id=\"T_1f28c7ae_097e_11eb_a636_525400821cf2row10_col3\" class=\"data row10 col3\" >0.206374</td>\n",
       "                        <td id=\"T_1f28c7ae_097e_11eb_a636_525400821cf2row10_col4\" class=\"data row10 col4\" >0.204132</td>\n",
       "                        <td id=\"T_1f28c7ae_097e_11eb_a636_525400821cf2row10_col5\" class=\"data row10 col5\" >0.601185</td>\n",
       "                        <td id=\"T_1f28c7ae_097e_11eb_a636_525400821cf2row10_col6\" class=\"data row10 col6\" >0.612111</td>\n",
       "                        <td id=\"T_1f28c7ae_097e_11eb_a636_525400821cf2row10_col7\" class=\"data row10 col7\" >0.516214</td>\n",
       "                        <td id=\"T_1f28c7ae_097e_11eb_a636_525400821cf2row10_col8\" class=\"data row10 col8\" >0.647201</td>\n",
       "                        <td id=\"T_1f28c7ae_097e_11eb_a636_525400821cf2row10_col9\" class=\"data row10 col9\" >0.578282</td>\n",
       "                        <td id=\"T_1f28c7ae_097e_11eb_a636_525400821cf2row10_col10\" class=\"data row10 col10\" >1.000000</td>\n",
       "                        <td id=\"T_1f28c7ae_097e_11eb_a636_525400821cf2row10_col11\" class=\"data row10 col11\" >0.732133</td>\n",
       "                        <td id=\"T_1f28c7ae_097e_11eb_a636_525400821cf2row10_col12\" class=\"data row10 col12\" >0.490388</td>\n",
       "                        <td id=\"T_1f28c7ae_097e_11eb_a636_525400821cf2row10_col13\" class=\"data row10 col13\" >0.370626</td>\n",
       "                        <td id=\"T_1f28c7ae_097e_11eb_a636_525400821cf2row10_col14\" class=\"data row10 col14\" >0.282578</td>\n",
       "                        <td id=\"T_1f28c7ae_097e_11eb_a636_525400821cf2row10_col15\" class=\"data row10 col15\" >0.269203</td>\n",
       "                        <td id=\"T_1f28c7ae_097e_11eb_a636_525400821cf2row10_col16\" class=\"data row10 col16\" >0.774491</td>\n",
       "            </tr>\n",
       "            <tr>\n",
       "                        <th id=\"T_1f28c7ae_097e_11eb_a636_525400821cf2level0_row11\" class=\"row_heading level0 row11\" >Internal_movement_restrictions</th>\n",
       "                        <td id=\"T_1f28c7ae_097e_11eb_a636_525400821cf2row11_col0\" class=\"data row11 col0\" >-0.343957</td>\n",
       "                        <td id=\"T_1f28c7ae_097e_11eb_a636_525400821cf2row11_col1\" class=\"data row11 col1\" >0.103612</td>\n",
       "                        <td id=\"T_1f28c7ae_097e_11eb_a636_525400821cf2row11_col2\" class=\"data row11 col2\" >0.192657</td>\n",
       "                        <td id=\"T_1f28c7ae_097e_11eb_a636_525400821cf2row11_col3\" class=\"data row11 col3\" >0.204146</td>\n",
       "                        <td id=\"T_1f28c7ae_097e_11eb_a636_525400821cf2row11_col4\" class=\"data row11 col4\" >0.287713</td>\n",
       "                        <td id=\"T_1f28c7ae_097e_11eb_a636_525400821cf2row11_col5\" class=\"data row11 col5\" >0.521695</td>\n",
       "                        <td id=\"T_1f28c7ae_097e_11eb_a636_525400821cf2row11_col6\" class=\"data row11 col6\" >0.420633</td>\n",
       "                        <td id=\"T_1f28c7ae_097e_11eb_a636_525400821cf2row11_col7\" class=\"data row11 col7\" >0.569881</td>\n",
       "                        <td id=\"T_1f28c7ae_097e_11eb_a636_525400821cf2row11_col8\" class=\"data row11 col8\" >0.692482</td>\n",
       "                        <td id=\"T_1f28c7ae_097e_11eb_a636_525400821cf2row11_col9\" class=\"data row11 col9\" >0.627185</td>\n",
       "                        <td id=\"T_1f28c7ae_097e_11eb_a636_525400821cf2row11_col10\" class=\"data row11 col10\" >0.732133</td>\n",
       "                        <td id=\"T_1f28c7ae_097e_11eb_a636_525400821cf2row11_col11\" class=\"data row11 col11\" >1.000000</td>\n",
       "                        <td id=\"T_1f28c7ae_097e_11eb_a636_525400821cf2row11_col12\" class=\"data row11 col12\" >0.413467</td>\n",
       "                        <td id=\"T_1f28c7ae_097e_11eb_a636_525400821cf2row11_col13\" class=\"data row11 col13\" >0.199289</td>\n",
       "                        <td id=\"T_1f28c7ae_097e_11eb_a636_525400821cf2row11_col14\" class=\"data row11 col14\" >0.280343</td>\n",
       "                        <td id=\"T_1f28c7ae_097e_11eb_a636_525400821cf2row11_col15\" class=\"data row11 col15\" >0.045256</td>\n",
       "                        <td id=\"T_1f28c7ae_097e_11eb_a636_525400821cf2row11_col16\" class=\"data row11 col16\" >0.673917</td>\n",
       "            </tr>\n",
       "            <tr>\n",
       "                        <th id=\"T_1f28c7ae_097e_11eb_a636_525400821cf2level0_row12\" class=\"row_heading level0 row12\" >International_movement_restrictions</th>\n",
       "                        <td id=\"T_1f28c7ae_097e_11eb_a636_525400821cf2row12_col0\" class=\"data row12 col0\" >-0.046866</td>\n",
       "                        <td id=\"T_1f28c7ae_097e_11eb_a636_525400821cf2row12_col1\" class=\"data row12 col1\" >0.114965</td>\n",
       "                        <td id=\"T_1f28c7ae_097e_11eb_a636_525400821cf2row12_col2\" class=\"data row12 col2\" >0.211020</td>\n",
       "                        <td id=\"T_1f28c7ae_097e_11eb_a636_525400821cf2row12_col3\" class=\"data row12 col3\" >0.128285</td>\n",
       "                        <td id=\"T_1f28c7ae_097e_11eb_a636_525400821cf2row12_col4\" class=\"data row12 col4\" >0.102705</td>\n",
       "                        <td id=\"T_1f28c7ae_097e_11eb_a636_525400821cf2row12_col5\" class=\"data row12 col5\" >0.454280</td>\n",
       "                        <td id=\"T_1f28c7ae_097e_11eb_a636_525400821cf2row12_col6\" class=\"data row12 col6\" >0.439901</td>\n",
       "                        <td id=\"T_1f28c7ae_097e_11eb_a636_525400821cf2row12_col7\" class=\"data row12 col7\" >0.681387</td>\n",
       "                        <td id=\"T_1f28c7ae_097e_11eb_a636_525400821cf2row12_col8\" class=\"data row12 col8\" >0.607046</td>\n",
       "                        <td id=\"T_1f28c7ae_097e_11eb_a636_525400821cf2row12_col9\" class=\"data row12 col9\" >0.591628</td>\n",
       "                        <td id=\"T_1f28c7ae_097e_11eb_a636_525400821cf2row12_col10\" class=\"data row12 col10\" >0.490388</td>\n",
       "                        <td id=\"T_1f28c7ae_097e_11eb_a636_525400821cf2row12_col11\" class=\"data row12 col11\" >0.413467</td>\n",
       "                        <td id=\"T_1f28c7ae_097e_11eb_a636_525400821cf2row12_col12\" class=\"data row12 col12\" >1.000000</td>\n",
       "                        <td id=\"T_1f28c7ae_097e_11eb_a636_525400821cf2row12_col13\" class=\"data row12 col13\" >0.453264</td>\n",
       "                        <td id=\"T_1f28c7ae_097e_11eb_a636_525400821cf2row12_col14\" class=\"data row12 col14\" >0.142503</td>\n",
       "                        <td id=\"T_1f28c7ae_097e_11eb_a636_525400821cf2row12_col15\" class=\"data row12 col15\" >0.187488</td>\n",
       "                        <td id=\"T_1f28c7ae_097e_11eb_a636_525400821cf2row12_col16\" class=\"data row12 col16\" >0.704207</td>\n",
       "            </tr>\n",
       "            <tr>\n",
       "                        <th id=\"T_1f28c7ae_097e_11eb_a636_525400821cf2level0_row13\" class=\"row_heading level0 row13\" >Information_campaigns</th>\n",
       "                        <td id=\"T_1f28c7ae_097e_11eb_a636_525400821cf2row13_col0\" class=\"data row13 col0\" >-0.002654</td>\n",
       "                        <td id=\"T_1f28c7ae_097e_11eb_a636_525400821cf2row13_col1\" class=\"data row13 col1\" >-0.339861</td>\n",
       "                        <td id=\"T_1f28c7ae_097e_11eb_a636_525400821cf2row13_col2\" class=\"data row13 col2\" >-0.339274</td>\n",
       "                        <td id=\"T_1f28c7ae_097e_11eb_a636_525400821cf2row13_col3\" class=\"data row13 col3\" >-0.413999</td>\n",
       "                        <td id=\"T_1f28c7ae_097e_11eb_a636_525400821cf2row13_col4\" class=\"data row13 col4\" >0.008590</td>\n",
       "                        <td id=\"T_1f28c7ae_097e_11eb_a636_525400821cf2row13_col5\" class=\"data row13 col5\" >0.640472</td>\n",
       "                        <td id=\"T_1f28c7ae_097e_11eb_a636_525400821cf2row13_col6\" class=\"data row13 col6\" >0.788899</td>\n",
       "                        <td id=\"T_1f28c7ae_097e_11eb_a636_525400821cf2row13_col7\" class=\"data row13 col7\" >0.649814</td>\n",
       "                        <td id=\"T_1f28c7ae_097e_11eb_a636_525400821cf2row13_col8\" class=\"data row13 col8\" >0.559340</td>\n",
       "                        <td id=\"T_1f28c7ae_097e_11eb_a636_525400821cf2row13_col9\" class=\"data row13 col9\" >0.337040</td>\n",
       "                        <td id=\"T_1f28c7ae_097e_11eb_a636_525400821cf2row13_col10\" class=\"data row13 col10\" >0.370626</td>\n",
       "                        <td id=\"T_1f28c7ae_097e_11eb_a636_525400821cf2row13_col11\" class=\"data row13 col11\" >0.199289</td>\n",
       "                        <td id=\"T_1f28c7ae_097e_11eb_a636_525400821cf2row13_col12\" class=\"data row13 col12\" >0.453264</td>\n",
       "                        <td id=\"T_1f28c7ae_097e_11eb_a636_525400821cf2row13_col13\" class=\"data row13 col13\" >1.000000</td>\n",
       "                        <td id=\"T_1f28c7ae_097e_11eb_a636_525400821cf2row13_col14\" class=\"data row13 col14\" >0.550277</td>\n",
       "                        <td id=\"T_1f28c7ae_097e_11eb_a636_525400821cf2row13_col15\" class=\"data row13 col15\" >0.577882</td>\n",
       "                        <td id=\"T_1f28c7ae_097e_11eb_a636_525400821cf2row13_col16\" class=\"data row13 col16\" >0.724496</td>\n",
       "            </tr>\n",
       "            <tr>\n",
       "                        <th id=\"T_1f28c7ae_097e_11eb_a636_525400821cf2level0_row14\" class=\"row_heading level0 row14\" >Testing_policy</th>\n",
       "                        <td id=\"T_1f28c7ae_097e_11eb_a636_525400821cf2row14_col0\" class=\"data row14 col0\" >-0.204429</td>\n",
       "                        <td id=\"T_1f28c7ae_097e_11eb_a636_525400821cf2row14_col1\" class=\"data row14 col1\" >-0.285451</td>\n",
       "                        <td id=\"T_1f28c7ae_097e_11eb_a636_525400821cf2row14_col2\" class=\"data row14 col2\" >-0.188815</td>\n",
       "                        <td id=\"T_1f28c7ae_097e_11eb_a636_525400821cf2row14_col3\" class=\"data row14 col3\" >-0.407005</td>\n",
       "                        <td id=\"T_1f28c7ae_097e_11eb_a636_525400821cf2row14_col4\" class=\"data row14 col4\" >-0.041632</td>\n",
       "                        <td id=\"T_1f28c7ae_097e_11eb_a636_525400821cf2row14_col5\" class=\"data row14 col5\" >0.415783</td>\n",
       "                        <td id=\"T_1f28c7ae_097e_11eb_a636_525400821cf2row14_col6\" class=\"data row14 col6\" >0.450683</td>\n",
       "                        <td id=\"T_1f28c7ae_097e_11eb_a636_525400821cf2row14_col7\" class=\"data row14 col7\" >0.321149</td>\n",
       "                        <td id=\"T_1f28c7ae_097e_11eb_a636_525400821cf2row14_col8\" class=\"data row14 col8\" >0.248205</td>\n",
       "                        <td id=\"T_1f28c7ae_097e_11eb_a636_525400821cf2row14_col9\" class=\"data row14 col9\" >0.028766</td>\n",
       "                        <td id=\"T_1f28c7ae_097e_11eb_a636_525400821cf2row14_col10\" class=\"data row14 col10\" >0.282578</td>\n",
       "                        <td id=\"T_1f28c7ae_097e_11eb_a636_525400821cf2row14_col11\" class=\"data row14 col11\" >0.280343</td>\n",
       "                        <td id=\"T_1f28c7ae_097e_11eb_a636_525400821cf2row14_col12\" class=\"data row14 col12\" >0.142503</td>\n",
       "                        <td id=\"T_1f28c7ae_097e_11eb_a636_525400821cf2row14_col13\" class=\"data row14 col13\" >0.550277</td>\n",
       "                        <td id=\"T_1f28c7ae_097e_11eb_a636_525400821cf2row14_col14\" class=\"data row14 col14\" >1.000000</td>\n",
       "                        <td id=\"T_1f28c7ae_097e_11eb_a636_525400821cf2row14_col15\" class=\"data row14 col15\" >0.575653</td>\n",
       "                        <td id=\"T_1f28c7ae_097e_11eb_a636_525400821cf2row14_col16\" class=\"data row14 col16\" >0.299946</td>\n",
       "            </tr>\n",
       "            <tr>\n",
       "                        <th id=\"T_1f28c7ae_097e_11eb_a636_525400821cf2level0_row15\" class=\"row_heading level0 row15\" >Contact_tracing</th>\n",
       "                        <td id=\"T_1f28c7ae_097e_11eb_a636_525400821cf2row15_col0\" class=\"data row15 col0\" >-0.118634</td>\n",
       "                        <td id=\"T_1f28c7ae_097e_11eb_a636_525400821cf2row15_col1\" class=\"data row15 col1\" >-0.034910</td>\n",
       "                        <td id=\"T_1f28c7ae_097e_11eb_a636_525400821cf2row15_col2\" class=\"data row15 col2\" >-0.024687</td>\n",
       "                        <td id=\"T_1f28c7ae_097e_11eb_a636_525400821cf2row15_col3\" class=\"data row15 col3\" >-0.260489</td>\n",
       "                        <td id=\"T_1f28c7ae_097e_11eb_a636_525400821cf2row15_col4\" class=\"data row15 col4\" >0.073129</td>\n",
       "                        <td id=\"T_1f28c7ae_097e_11eb_a636_525400821cf2row15_col5\" class=\"data row15 col5\" >0.231824</td>\n",
       "                        <td id=\"T_1f28c7ae_097e_11eb_a636_525400821cf2row15_col6\" class=\"data row15 col6\" >0.378511</td>\n",
       "                        <td id=\"T_1f28c7ae_097e_11eb_a636_525400821cf2row15_col7\" class=\"data row15 col7\" >0.277720</td>\n",
       "                        <td id=\"T_1f28c7ae_097e_11eb_a636_525400821cf2row15_col8\" class=\"data row15 col8\" >0.110878</td>\n",
       "                        <td id=\"T_1f28c7ae_097e_11eb_a636_525400821cf2row15_col9\" class=\"data row15 col9\" >-0.149325</td>\n",
       "                        <td id=\"T_1f28c7ae_097e_11eb_a636_525400821cf2row15_col10\" class=\"data row15 col10\" >0.269203</td>\n",
       "                        <td id=\"T_1f28c7ae_097e_11eb_a636_525400821cf2row15_col11\" class=\"data row15 col11\" >0.045256</td>\n",
       "                        <td id=\"T_1f28c7ae_097e_11eb_a636_525400821cf2row15_col12\" class=\"data row15 col12\" >0.187488</td>\n",
       "                        <td id=\"T_1f28c7ae_097e_11eb_a636_525400821cf2row15_col13\" class=\"data row15 col13\" >0.577882</td>\n",
       "                        <td id=\"T_1f28c7ae_097e_11eb_a636_525400821cf2row15_col14\" class=\"data row15 col14\" >0.575653</td>\n",
       "                        <td id=\"T_1f28c7ae_097e_11eb_a636_525400821cf2row15_col15\" class=\"data row15 col15\" >1.000000</td>\n",
       "                        <td id=\"T_1f28c7ae_097e_11eb_a636_525400821cf2row15_col16\" class=\"data row15 col16\" >0.298410</td>\n",
       "            </tr>\n",
       "            <tr>\n",
       "                        <th id=\"T_1f28c7ae_097e_11eb_a636_525400821cf2level0_row16\" class=\"row_heading level0 row16\" >Stringency_index</th>\n",
       "                        <td id=\"T_1f28c7ae_097e_11eb_a636_525400821cf2row16_col0\" class=\"data row16 col0\" >-0.133428</td>\n",
       "                        <td id=\"T_1f28c7ae_097e_11eb_a636_525400821cf2row16_col1\" class=\"data row16 col1\" >-0.049815</td>\n",
       "                        <td id=\"T_1f28c7ae_097e_11eb_a636_525400821cf2row16_col2\" class=\"data row16 col2\" >-0.023881</td>\n",
       "                        <td id=\"T_1f28c7ae_097e_11eb_a636_525400821cf2row16_col3\" class=\"data row16 col3\" >-0.017269</td>\n",
       "                        <td id=\"T_1f28c7ae_097e_11eb_a636_525400821cf2row16_col4\" class=\"data row16 col4\" >0.245139</td>\n",
       "                        <td id=\"T_1f28c7ae_097e_11eb_a636_525400821cf2row16_col5\" class=\"data row16 col5\" >0.811973</td>\n",
       "                        <td id=\"T_1f28c7ae_097e_11eb_a636_525400821cf2row16_col6\" class=\"data row16 col6\" >0.821864</td>\n",
       "                        <td id=\"T_1f28c7ae_097e_11eb_a636_525400821cf2row16_col7\" class=\"data row16 col7\" >0.820598</td>\n",
       "                        <td id=\"T_1f28c7ae_097e_11eb_a636_525400821cf2row16_col8\" class=\"data row16 col8\" >0.862861</td>\n",
       "                        <td id=\"T_1f28c7ae_097e_11eb_a636_525400821cf2row16_col9\" class=\"data row16 col9\" >0.758973</td>\n",
       "                        <td id=\"T_1f28c7ae_097e_11eb_a636_525400821cf2row16_col10\" class=\"data row16 col10\" >0.774491</td>\n",
       "                        <td id=\"T_1f28c7ae_097e_11eb_a636_525400821cf2row16_col11\" class=\"data row16 col11\" >0.673917</td>\n",
       "                        <td id=\"T_1f28c7ae_097e_11eb_a636_525400821cf2row16_col12\" class=\"data row16 col12\" >0.704207</td>\n",
       "                        <td id=\"T_1f28c7ae_097e_11eb_a636_525400821cf2row16_col13\" class=\"data row16 col13\" >0.724496</td>\n",
       "                        <td id=\"T_1f28c7ae_097e_11eb_a636_525400821cf2row16_col14\" class=\"data row16 col14\" >0.299946</td>\n",
       "                        <td id=\"T_1f28c7ae_097e_11eb_a636_525400821cf2row16_col15\" class=\"data row16 col15\" >0.298410</td>\n",
       "                        <td id=\"T_1f28c7ae_097e_11eb_a636_525400821cf2row16_col16\" class=\"data row16 col16\" >1.000000</td>\n",
       "            </tr>\n",
       "    </tbody></table>"
      ],
      "text/plain": [
       "<pandas.io.formats.style.Styler at 0x7f487f643850>"
      ]
     },
     "execution_count": 21,
     "metadata": {},
     "output_type": "execute_result"
    }
   ],
   "source": [
    "# Correlation\n",
    "df = track_df.copy()\n",
    "df.corr().style.background_gradient(axis=None)"
   ]
  },
  {
   "cell_type": "code",
   "execution_count": 22,
   "metadata": {
    "collapsed": false
   },
   "outputs": [
    {
     "data": {
      "image/png": "[encoded data removed]",
      "text/plain": [
       "<Figure size 432x288 with 1 Axes>"
      ]
     },
     "metadata": {},
     "output_type": "display_data"
    }
   ],
   "source": [
    "# Scatter plot of Stringency index and Rt\n",
    "df = track_df.copy()\n",
    "sns.scatterplot(data=df, x=\"Stringency_index\", y=\"Rt\", hue=\"Country\", legend=\"brief\", marker=\"+\")\n",
    "bbox_to_anchor=(1.02, 0)\n",
    "bbox_loc=\"lower left\"\n",
    "plt.legend(bbox_to_anchor=bbox_to_anchor, loc=bbox_loc, borderaxespad=0)\n",
    "plt.title(\"Relationship of Stringency index and reproduction number\")\n",
    "plt.ylabel(\"Reproduction number\")\n",
    "plt.xlabel(\"Stringency index\")\n",
    "plt.show()"
   ]
  }
 ],
 "metadata": {
  "kernelspec": {
   "display_name": "Python 3.8.2 64-bit ('.venv': venv)",
   "name": "python_defaultSpec_1597669925034"
  },
  "language_info": {
   "codemirror_mode": {
    "name": "ipython",
    "version": 3
   },
   "file_extension": ".py",
   "mimetype": "text/x-python",
   "name": "python",
   "nbconvert_exporter": "python",
   "pygments_lexer": "ipython3",
   "version": "3.8.2-final"
  }
 },
 "nbformat": 4,
 "nbformat_minor": 4
}
