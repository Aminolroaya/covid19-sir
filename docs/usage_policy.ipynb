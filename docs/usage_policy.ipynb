{
 "cells": [
  {
   "cell_type": "markdown",
   "metadata": {},
   "source": [
    "# Usage (details: policy measures)\n",
    "Here, we will analyse the relationship of policy measures and parameter values of SIR-derived ODE models. Policy measures are tracked by [Oxford Covid-19 Government Response Tracker (OxCGRT)](https://github.com/OxCGRT/covid-policy-tracker)."
   ]
  },
  {
   "cell_type": "markdown",
   "metadata": {},
   "source": [
    "## Preparation"
   ]
  },
  {
   "cell_type": "code",
   "execution_count": 1,
   "metadata": {
    "collapsed": false
   },
   "outputs": [],
   "source": [
    "# Standard users\n",
    "# !pip install covsirphy\n",
    "# Developers (Note: this notebook is in example directory)\n",
    "import os\n",
    "os.chdir(\"../\")"
   ]
  },
  {
   "cell_type": "code",
   "execution_count": 2,
   "metadata": {
    "collapsed": false
   },
   "outputs": [],
   "source": [
    "from pprint import pprint"
   ]
  },
  {
   "cell_type": "code",
   "execution_count": 3,
   "metadata": {
    "collapsed": false
   },
   "outputs": [
    {
     "data": {
      "text/plain": [
       "'2.8.0'"
      ]
     },
     "execution_count": 3,
     "metadata": {},
     "output_type": "execute_result"
    }
   ],
   "source": [
    "import covsirphy as cs\n",
    "cs.__version__"
   ]
  },
  {
   "cell_type": "code",
   "execution_count": 4,
   "metadata": {
    "collapsed": false,
    "tags": []
   },
   "outputs": [
    {
     "name": "stdout",
     "output_type": "stream",
     "text": [
      "(Secondary source) Guidotti, E., Ardia, D., (2020), \"COVID-19 Data Hub\", Journal of Open Source Software 5(51):2376, doi: 10.21105/joss.02376.\n",
      "We can get Citation list of primary sources with DataLoader(...).covid19dh_citation"
     ]
    },
    {
     "name": "stdout",
     "output_type": "stream",
     "text": [
      "\n"
     ]
    }
   ],
   "source": [
    "# Standard users and developers\n",
    "data_loader = cs.DataLoader(\"input\")\n",
    "# The number of cases (JHU style)\n",
    "jhu_data = data_loader.jhu(verbose=False)\n",
    "# Population in each country\n",
    "population_data = data_loader.population(verbose=False)\n",
    "# Government Response Tracker (OxCGRT)\n",
    "oxcgrt_data = data_loader.oxcgrt(verbose=False)\n",
    "# Description/citation\n",
    "print(oxcgrt_data.citation)"
   ]
  },
  {
   "cell_type": "markdown",
   "metadata": {},
   "source": [
    "## Class for policy measure analysis\n",
    "We will `PolicyMeasures` class to find relationship of policy measures and parameter values of SIR-derived ODE models."
   ]
  },
  {
   "cell_type": "code",
   "execution_count": 5,
   "metadata": {
    "collapsed": false,
    "tags": []
   },
   "outputs": [
    {
     "data": {
      "text/plain": [
       "184"
      ]
     },
     "execution_count": 5,
     "metadata": {},
     "output_type": "execute_result"
    }
   ],
   "source": [
    "# Create analyser with tau value 360 [min] (can be changed)\n",
    "analyser = cs.PolicyMeasures(jhu_data, population_data, oxcgrt_data, tau=360)\n",
    "# The number of registerd countries\n",
    "len(analyser.countries)"
   ]
  },
  {
   "cell_type": "code",
   "execution_count": 6,
   "metadata": {
    "collapsed": false
   },
   "outputs": [
    {
     "data": {
      "text/plain": [
       "covsirphy.analysis.scenario.Scenario"
      ]
     },
     "execution_count": 6,
     "metadata": {},
     "output_type": "execute_result"
    }
   ],
   "source": [
    "# We can get Scenario instance for detailed scenario analysis\n",
    "type(analyser.scenario(\"Japan\"))"
   ]
  },
  {
   "cell_type": "markdown",
   "metadata": {},
   "source": [
    "## Set phases with S-R trend analysis\n",
    "We will perform S-R trend analysis to set phases in all countries. Countries which do not have **9th phases** will be un-registered for the next analysis. This number will be adjusted for your analysis."
   ]
  },
  {
   "cell_type": "code",
   "execution_count": 7,
   "metadata": {
    "collapsed": false
   },
   "outputs": [
    {
     "name": "stdout",
     "output_type": "stream",
     "text": [
      "{"
     ]
    },
    {
     "name": "stdout",
     "output_type": "stream",
     "text": [
      "2"
     ]
    },
    {
     "name": "stdout",
     "output_type": "stream",
     "text": [
      ": "
     ]
    },
    {
     "name": "stdout",
     "output_type": "stream",
     "text": [
      "['Gambia', 'Dominica', 'Bahamas', 'Belize']"
     ]
    },
    {
     "name": "stdout",
     "output_type": "stream",
     "text": [
      ",\n",
      " "
     ]
    },
    {
     "name": "stdout",
     "output_type": "stream",
     "text": [
      "3"
     ]
    },
    {
     "name": "stdout",
     "output_type": "stream",
     "text": [
      ": "
     ]
    },
    {
     "name": "stdout",
     "output_type": "stream",
     "text": [
      "["
     ]
    },
    {
     "name": "stdout",
     "output_type": "stream",
     "text": [
      "'Seychelles'"
     ]
    },
    {
     "name": "stdout",
     "output_type": "stream",
     "text": [
      ", "
     ]
    },
    {
     "name": "stdout",
     "output_type": "stream",
     "text": [
      "'Zimbabwe'"
     ]
    },
    {
     "name": "stdout",
     "output_type": "stream",
     "text": [
      ", "
     ]
    },
    {
     "name": "stdout",
     "output_type": "stream",
     "text": [
      "'Tanzania'"
     ]
    },
    {
     "name": "stdout",
     "output_type": "stream",
     "text": [
      ", "
     ]
    },
    {
     "name": "stdout",
     "output_type": "stream",
     "text": [
      "'Malta'"
     ]
    },
    {
     "name": "stdout",
     "output_type": "stream",
     "text": [
      ", "
     ]
    },
    {
     "name": "stdout",
     "output_type": "stream",
     "text": [
      "'Mauritius'"
     ]
    },
    {
     "name": "stdout",
     "output_type": "stream",
     "text": [
      ", "
     ]
    },
    {
     "name": "stdout",
     "output_type": "stream",
     "text": [
      "'Guyana'"
     ]
    },
    {
     "name": "stdout",
     "output_type": "stream",
     "text": [
      ",\n",
      "     "
     ]
    },
    {
     "name": "stdout",
     "output_type": "stream",
     "text": [
      "'Papua New Guinea'"
     ]
    },
    {
     "name": "stdout",
     "output_type": "stream",
     "text": [
      ", "
     ]
    },
    {
     "name": "stdout",
     "output_type": "stream",
     "text": [
      "'Fiji'"
     ]
    },
    {
     "name": "stdout",
     "output_type": "stream",
     "text": [
      ", "
     ]
    },
    {
     "name": "stdout",
     "output_type": "stream",
     "text": [
      "'Namibia'"
     ]
    },
    {
     "name": "stdout",
     "output_type": "stream",
     "text": [
      ", "
     ]
    },
    {
     "name": "stdout",
     "output_type": "stream",
     "text": [
      "'Brunei'"
     ]
    },
    {
     "name": "stdout",
     "output_type": "stream",
     "text": [
      ", "
     ]
    },
    {
     "name": "stdout",
     "output_type": "stream",
     "text": [
      "'Antigua and Barbuda'"
     ]
    },
    {
     "name": "stdout",
     "output_type": "stream",
     "text": [
      "]"
     ]
    },
    {
     "name": "stdout",
     "output_type": "stream",
     "text": [
      ",\n",
      " "
     ]
    },
    {
     "name": "stdout",
     "output_type": "stream",
     "text": [
      "4"
     ]
    },
    {
     "name": "stdout",
     "output_type": "stream",
     "text": [
      ": "
     ]
    },
    {
     "name": "stdout",
     "output_type": "stream",
     "text": [
      "["
     ]
    },
    {
     "name": "stdout",
     "output_type": "stream",
     "text": [
      "'South Sudan'"
     ]
    },
    {
     "name": "stdout",
     "output_type": "stream",
     "text": [
      ", "
     ]
    },
    {
     "name": "stdout",
     "output_type": "stream",
     "text": [
      "'Lebanon'"
     ]
    },
    {
     "name": "stdout",
     "output_type": "stream",
     "text": [
      ", "
     ]
    },
    {
     "name": "stdout",
     "output_type": "stream",
     "text": [
      "'Eritrea'"
     ]
    },
    {
     "name": "stdout",
     "output_type": "stream",
     "text": [
      ", "
     ]
    },
    {
     "name": "stdout",
     "output_type": "stream",
     "text": [
      "'Lesotho'"
     ]
    },
    {
     "name": "stdout",
     "output_type": "stream",
     "text": [
      ", "
     ]
    },
    {
     "name": "stdout",
     "output_type": "stream",
     "text": [
      "'New Zealand'"
     ]
    },
    {
     "name": "stdout",
     "output_type": "stream",
     "text": [
      ", "
     ]
    },
    {
     "name": "stdout",
     "output_type": "stream",
     "text": [
      "'Guatemala'"
     ]
    },
    {
     "name": "stdout",
     "output_type": "stream",
     "text": [
      ",\n",
      "     "
     ]
    },
    {
     "name": "stdout",
     "output_type": "stream",
     "text": [
      "'Norway'"
     ]
    },
    {
     "name": "stdout",
     "output_type": "stream",
     "text": [
      ", "
     ]
    },
    {
     "name": "stdout",
     "output_type": "stream",
     "text": [
      "'Angola'"
     ]
    },
    {
     "name": "stdout",
     "output_type": "stream",
     "text": [
      ", "
     ]
    },
    {
     "name": "stdout",
     "output_type": "stream",
     "text": [
      "'Sao Tome and Principe'"
     ]
    },
    {
     "name": "stdout",
     "output_type": "stream",
     "text": [
      ", "
     ]
    },
    {
     "name": "stdout",
     "output_type": "stream",
     "text": [
      "'Iceland'"
     ]
    },
    {
     "name": "stdout",
     "output_type": "stream",
     "text": [
      ", "
     ]
    },
    {
     "name": "stdout",
     "output_type": "stream",
     "text": [
      "'Morocco'"
     ]
    },
    {
     "name": "stdout",
     "output_type": "stream",
     "text": [
      ",\n",
      "     "
     ]
    },
    {
     "name": "stdout",
     "output_type": "stream",
     "text": [
      "'Montenegro'"
     ]
    },
    {
     "name": "stdout",
     "output_type": "stream",
     "text": [
      ", "
     ]
    },
    {
     "name": "stdout",
     "output_type": "stream",
     "text": [
      "'Palestine'"
     ]
    },
    {
     "name": "stdout",
     "output_type": "stream",
     "text": [
      ", "
     ]
    },
    {
     "name": "stdout",
     "output_type": "stream",
     "text": [
      "'Kyrgyzstan'"
     ]
    },
    {
     "name": "stdout",
     "output_type": "stream",
     "text": [
      ", "
     ]
    },
    {
     "name": "stdout",
     "output_type": "stream",
     "text": [
      "'Vietnam'"
     ]
    },
    {
     "name": "stdout",
     "output_type": "stream",
     "text": [
      ", "
     ]
    },
    {
     "name": "stdout",
     "output_type": "stream",
     "text": [
      "'Yemen'"
     ]
    },
    {
     "name": "stdout",
     "output_type": "stream",
     "text": [
      ", "
     ]
    },
    {
     "name": "stdout",
     "output_type": "stream",
     "text": [
      "'Ireland'"
     ]
    },
    {
     "name": "stdout",
     "output_type": "stream",
     "text": [
      ",\n",
      "     "
     ]
    },
    {
     "name": "stdout",
     "output_type": "stream",
     "text": [
      "'Venezuela'"
     ]
    },
    {
     "name": "stdout",
     "output_type": "stream",
     "text": [
      ", "
     ]
    },
    {
     "name": "stdout",
     "output_type": "stream",
     "text": [
      "'Ethiopia'"
     ]
    },
    {
     "name": "stdout",
     "output_type": "stream",
     "text": [
      ", "
     ]
    },
    {
     "name": "stdout",
     "output_type": "stream",
     "text": [
      "'Grenada'"
     ]
    },
    {
     "name": "stdout",
     "output_type": "stream",
     "text": [
      ", "
     ]
    },
    {
     "name": "stdout",
     "output_type": "stream",
     "text": [
      "'Saint Lucia'"
     ]
    },
    {
     "name": "stdout",
     "output_type": "stream",
     "text": [
      "]"
     ]
    },
    {
     "name": "stdout",
     "output_type": "stream",
     "text": [
      ",\n",
      " "
     ]
    },
    {
     "name": "stdout",
     "output_type": "stream",
     "text": [
      "5"
     ]
    },
    {
     "name": "stdout",
     "output_type": "stream",
     "text": [
      ": "
     ]
    },
    {
     "name": "stdout",
     "output_type": "stream",
     "text": [
      "["
     ]
    },
    {
     "name": "stdout",
     "output_type": "stream",
     "text": [
      "'Equatorial Guinea'"
     ]
    },
    {
     "name": "stdout",
     "output_type": "stream",
     "text": [
      ", "
     ]
    },
    {
     "name": "stdout",
     "output_type": "stream",
     "text": [
      "'Syria'"
     ]
    },
    {
     "name": "stdout",
     "output_type": "stream",
     "text": [
      ", "
     ]
    },
    {
     "name": "stdout",
     "output_type": "stream",
     "text": [
      "'Japan'"
     ]
    },
    {
     "name": "stdout",
     "output_type": "stream",
     "text": [
      ", "
     ]
    },
    {
     "name": "stdout",
     "output_type": "stream",
     "text": [
      "'Botswana'"
     ]
    },
    {
     "name": "stdout",
     "output_type": "stream",
     "text": [
      ", "
     ]
    },
    {
     "name": "stdout",
     "output_type": "stream",
     "text": [
      "'Cambodia'"
     ]
    },
    {
     "name": "stdout",
     "output_type": "stream",
     "text": [
      ", "
     ]
    },
    {
     "name": "stdout",
     "output_type": "stream",
     "text": [
      "'Zambia'"
     ]
    },
    {
     "name": "stdout",
     "output_type": "stream",
     "text": [
      ",\n",
      "     "
     ]
    },
    {
     "name": "stdout",
     "output_type": "stream",
     "text": [
      "'Australia'"
     ]
    },
    {
     "name": "stdout",
     "output_type": "stream",
     "text": [
      ", "
     ]
    },
    {
     "name": "stdout",
     "output_type": "stream",
     "text": [
      "'Kazakhstan'"
     ]
    },
    {
     "name": "stdout",
     "output_type": "stream",
     "text": [
      ", "
     ]
    },
    {
     "name": "stdout",
     "output_type": "stream",
     "text": [
      "'Israel'"
     ]
    },
    {
     "name": "stdout",
     "output_type": "stream",
     "text": [
      ", "
     ]
    },
    {
     "name": "stdout",
     "output_type": "stream",
     "text": [
      "'Liechtenstein'"
     ]
    },
    {
     "name": "stdout",
     "output_type": "stream",
     "text": [
      ",\n",
      "     "
     ]
    },
    {
     "name": "stdout",
     "output_type": "stream",
     "text": [
      "'Central African Republic'"
     ]
    },
    {
     "name": "stdout",
     "output_type": "stream",
     "text": [
      ", "
     ]
    },
    {
     "name": "stdout",
     "output_type": "stream",
     "text": [
      "'Mongolia'"
     ]
    },
    {
     "name": "stdout",
     "output_type": "stream",
     "text": [
      ", "
     ]
    },
    {
     "name": "stdout",
     "output_type": "stream",
     "text": [
      "'Thailand'"
     ]
    },
    {
     "name": "stdout",
     "output_type": "stream",
     "text": [
      ", "
     ]
    },
    {
     "name": "stdout",
     "output_type": "stream",
     "text": [
      "'Chad'"
     ]
    },
    {
     "name": "stdout",
     "output_type": "stream",
     "text": [
      ", "
     ]
    },
    {
     "name": "stdout",
     "output_type": "stream",
     "text": [
      "'Malawi'"
     ]
    },
    {
     "name": "stdout",
     "output_type": "stream",
     "text": [
      ",\n",
      "     "
     ]
    },
    {
     "name": "stdout",
     "output_type": "stream",
     "text": [
      "'Philippines'"
     ]
    },
    {
     "name": "stdout",
     "output_type": "stream",
     "text": [
      ", "
     ]
    },
    {
     "name": "stdout",
     "output_type": "stream",
     "text": [
      "'Paraguay'"
     ]
    },
    {
     "name": "stdout",
     "output_type": "stream",
     "text": [
      ", "
     ]
    },
    {
     "name": "stdout",
     "output_type": "stream",
     "text": [
      "'Madagascar'"
     ]
    },
    {
     "name": "stdout",
     "output_type": "stream",
     "text": [
      ", "
     ]
    },
    {
     "name": "stdout",
     "output_type": "stream",
     "text": [
      "'Libya'"
     ]
    },
    {
     "name": "stdout",
     "output_type": "stream",
     "text": [
      ",\n",
      "     "
     ]
    },
    {
     "name": "stdout",
     "output_type": "stream",
     "text": [
      "'Saint Vincent and the Grenadines'"
     ]
    },
    {
     "name": "stdout",
     "output_type": "stream",
     "text": [
      "]"
     ]
    },
    {
     "name": "stdout",
     "output_type": "stream",
     "text": [
      ",\n",
      " "
     ]
    },
    {
     "name": "stdout",
     "output_type": "stream",
     "text": [
      "6"
     ]
    },
    {
     "name": "stdout",
     "output_type": "stream",
     "text": [
      ": "
     ]
    },
    {
     "name": "stdout",
     "output_type": "stream",
     "text": [
      "["
     ]
    },
    {
     "name": "stdout",
     "output_type": "stream",
     "text": [
      "'Tajikistan'"
     ]
    },
    {
     "name": "stdout",
     "output_type": "stream",
     "text": [
      ", "
     ]
    },
    {
     "name": "stdout",
     "output_type": "stream",
     "text": [
      "'Benin'"
     ]
    },
    {
     "name": "stdout",
     "output_type": "stream",
     "text": [
      ", "
     ]
    },
    {
     "name": "stdout",
     "output_type": "stream",
     "text": [
      "'Uzbekistan'"
     ]
    },
    {
     "name": "stdout",
     "output_type": "stream",
     "text": [
      ", "
     ]
    },
    {
     "name": "stdout",
     "output_type": "stream",
     "text": [
      "'Comoros'"
     ]
    },
    {
     "name": "stdout",
     "output_type": "stream",
     "text": [
      ", "
     ]
    },
    {
     "name": "stdout",
     "output_type": "stream",
     "text": [
      "'Cyprus'"
     ]
    },
    {
     "name": "stdout",
     "output_type": "stream",
     "text": [
      ", "
     ]
    },
    {
     "name": "stdout",
     "output_type": "stream",
     "text": [
      "'Sri Lanka'"
     ]
    },
    {
     "name": "stdout",
     "output_type": "stream",
     "text": [
      ",\n",
      "     "
     ]
    },
    {
     "name": "stdout",
     "output_type": "stream",
     "text": [
      "'Greece'"
     ]
    },
    {
     "name": "stdout",
     "output_type": "stream",
     "text": [
      ", "
     ]
    },
    {
     "name": "stdout",
     "output_type": "stream",
     "text": [
      "'Taiwan'"
     ]
    },
    {
     "name": "stdout",
     "output_type": "stream",
     "text": [
      ", "
     ]
    },
    {
     "name": "stdout",
     "output_type": "stream",
     "text": [
      "'Luxembourg'"
     ]
    },
    {
     "name": "stdout",
     "output_type": "stream",
     "text": [
      ", "
     ]
    },
    {
     "name": "stdout",
     "output_type": "stream",
     "text": [
      "'Slovakia'"
     ]
    },
    {
     "name": "stdout",
     "output_type": "stream",
     "text": [
      ", "
     ]
    },
    {
     "name": "stdout",
     "output_type": "stream",
     "text": [
      "'Swaziland'"
     ]
    },
    {
     "name": "stdout",
     "output_type": "stream",
     "text": [
      ", "
     ]
    },
    {
     "name": "stdout",
     "output_type": "stream",
     "text": [
      "'Barbados'"
     ]
    },
    {
     "name": "stdout",
     "output_type": "stream",
     "text": [
      ",\n",
      "     "
     ]
    },
    {
     "name": "stdout",
     "output_type": "stream",
     "text": [
      "'Bermuda'"
     ]
    },
    {
     "name": "stdout",
     "output_type": "stream",
     "text": [
      ", "
     ]
    },
    {
     "name": "stdout",
     "output_type": "stream",
     "text": [
      "'Mozambique'"
     ]
    },
    {
     "name": "stdout",
     "output_type": "stream",
     "text": [
      ", "
     ]
    },
    {
     "name": "stdout",
     "output_type": "stream",
     "text": [
      "'Rwanda'"
     ]
    },
    {
     "name": "stdout",
     "output_type": "stream",
     "text": [
      ", "
     ]
    },
    {
     "name": "stdout",
     "output_type": "stream",
     "text": [
      "'Afghanistan'"
     ]
    },
    {
     "name": "stdout",
     "output_type": "stream",
     "text": [
      ", "
     ]
    },
    {
     "name": "stdout",
     "output_type": "stream",
     "text": [
      "'Netherlands'"
     ]
    },
    {
     "name": "stdout",
     "output_type": "stream",
     "text": [
      ", "
     ]
    },
    {
     "name": "stdout",
     "output_type": "stream",
     "text": [
      "'Kosovo'"
     ]
    },
    {
     "name": "stdout",
     "output_type": "stream",
     "text": [
      ",\n",
      "     "
     ]
    },
    {
     "name": "stdout",
     "output_type": "stream",
     "text": [
      "'San Marino'"
     ]
    },
    {
     "name": "stdout",
     "output_type": "stream",
     "text": [
      ", "
     ]
    },
    {
     "name": "stdout",
     "output_type": "stream",
     "text": [
      "'Guinea-Bissau'"
     ]
    },
    {
     "name": "stdout",
     "output_type": "stream",
     "text": [
      ", "
     ]
    },
    {
     "name": "stdout",
     "output_type": "stream",
     "text": [
      "'Spain'"
     ]
    },
    {
     "name": "stdout",
     "output_type": "stream",
     "text": [
      ", "
     ]
    },
    {
     "name": "stdout",
     "output_type": "stream",
     "text": [
      "'Costa Rica'"
     ]
    },
    {
     "name": "stdout",
     "output_type": "stream",
     "text": [
      ", "
     ]
    },
    {
     "name": "stdout",
     "output_type": "stream",
     "text": [
      "'Croatia'"
     ]
    },
    {
     "name": "stdout",
     "output_type": "stream",
     "text": [
      ",\n",
      "     "
     ]
    },
    {
     "name": "stdout",
     "output_type": "stream",
     "text": [
      "'Slovenia'"
     ]
    },
    {
     "name": "stdout",
     "output_type": "stream",
     "text": [
      ", "
     ]
    },
    {
     "name": "stdout",
     "output_type": "stream",
     "text": [
      "'Andorra'"
     ]
    },
    {
     "name": "stdout",
     "output_type": "stream",
     "text": [
      ", "
     ]
    },
    {
     "name": "stdout",
     "output_type": "stream",
     "text": [
      "'Oman'"
     ]
    },
    {
     "name": "stdout",
     "output_type": "stream",
     "text": [
      ", "
     ]
    },
    {
     "name": "stdout",
     "output_type": "stream",
     "text": [
      "'Cuba'"
     ]
    },
    {
     "name": "stdout",
     "output_type": "stream",
     "text": [
      ", "
     ]
    },
    {
     "name": "stdout",
     "output_type": "stream",
     "text": [
      "'Maldives'"
     ]
    },
    {
     "name": "stdout",
     "output_type": "stream",
     "text": [
      ", "
     ]
    },
    {
     "name": "stdout",
     "output_type": "stream",
     "text": [
      "'India'"
     ]
    },
    {
     "name": "stdout",
     "output_type": "stream",
     "text": [
      ", "
     ]
    },
    {
     "name": "stdout",
     "output_type": "stream",
     "text": [
      "'Kenya'"
     ]
    },
    {
     "name": "stdout",
     "output_type": "stream",
     "text": [
      ",\n",
      "     "
     ]
    },
    {
     "name": "stdout",
     "output_type": "stream",
     "text": [
      "'Qatar'"
     ]
    },
    {
     "name": "stdout",
     "output_type": "stream",
     "text": [
      ", "
     ]
    },
    {
     "name": "stdout",
     "output_type": "stream",
     "text": [
      "'Suriname'"
     ]
    },
    {
     "name": "stdout",
     "output_type": "stream",
     "text": [
      ", "
     ]
    },
    {
     "name": "stdout",
     "output_type": "stream",
     "text": [
      "'Somalia'"
     ]
    },
    {
     "name": "stdout",
     "output_type": "stream",
     "text": [
      ", "
     ]
    },
    {
     "name": "stdout",
     "output_type": "stream",
     "text": [
      "'Congo'"
     ]
    },
    {
     "name": "stdout",
     "output_type": "stream",
     "text": [
      ", "
     ]
    },
    {
     "name": "stdout",
     "output_type": "stream",
     "text": [
      "'Argentina'"
     ]
    },
    {
     "name": "stdout",
     "output_type": "stream",
     "text": [
      "]"
     ]
    },
    {
     "name": "stdout",
     "output_type": "stream",
     "text": [
      ",\n",
      " "
     ]
    },
    {
     "name": "stdout",
     "output_type": "stream",
     "text": [
      "7"
     ]
    },
    {
     "name": "stdout",
     "output_type": "stream",
     "text": [
      ": "
     ]
    },
    {
     "name": "stdout",
     "output_type": "stream",
     "text": [
      "["
     ]
    },
    {
     "name": "stdout",
     "output_type": "stream",
     "text": [
      "'Ghana'"
     ]
    },
    {
     "name": "stdout",
     "output_type": "stream",
     "text": [
      ", "
     ]
    },
    {
     "name": "stdout",
     "output_type": "stream",
     "text": [
      "'Djibouti'"
     ]
    },
    {
     "name": "stdout",
     "output_type": "stream",
     "text": [
      ", "
     ]
    },
    {
     "name": "stdout",
     "output_type": "stream",
     "text": [
      "'Niger'"
     ]
    },
    {
     "name": "stdout",
     "output_type": "stream",
     "text": [
      ", "
     ]
    },
    {
     "name": "stdout",
     "output_type": "stream",
     "text": [
      "'Togo'"
     ]
    },
    {
     "name": "stdout",
     "output_type": "stream",
     "text": [
      ", "
     ]
    },
    {
     "name": "stdout",
     "output_type": "stream",
     "text": [
      "'Azerbaijan'"
     ]
    },
    {
     "name": "stdout",
     "output_type": "stream",
     "text": [
      ", "
     ]
    },
    {
     "name": "stdout",
     "output_type": "stream",
     "text": [
      "'Panama'"
     ]
    },
    {
     "name": "stdout",
     "output_type": "stream",
     "text": [
      ",\n",
      "     "
     ]
    },
    {
     "name": "stdout",
     "output_type": "stream",
     "text": [
      "'Bosnia and Herzegovina'"
     ]
    },
    {
     "name": "stdout",
     "output_type": "stream",
     "text": [
      ", "
     ]
    },
    {
     "name": "stdout",
     "output_type": "stream",
     "text": [
      "'Serbia'"
     ]
    },
    {
     "name": "stdout",
     "output_type": "stream",
     "text": [
      ", "
     ]
    },
    {
     "name": "stdout",
     "output_type": "stream",
     "text": [
      "'Latvia'"
     ]
    },
    {
     "name": "stdout",
     "output_type": "stream",
     "text": [
      ", "
     ]
    },
    {
     "name": "stdout",
     "output_type": "stream",
     "text": [
      "'Nepal'"
     ]
    },
    {
     "name": "stdout",
     "output_type": "stream",
     "text": [
      ", "
     ]
    },
    {
     "name": "stdout",
     "output_type": "stream",
     "text": [
      "'Iraq'"
     ]
    },
    {
     "name": "stdout",
     "output_type": "stream",
     "text": [
      ", "
     ]
    },
    {
     "name": "stdout",
     "output_type": "stream",
     "text": [
      "'Burundi'"
     ]
    },
    {
     "name": "stdout",
     "output_type": "stream",
     "text": [
      ",\n",
      "     "
     ]
    },
    {
     "name": "stdout",
     "output_type": "stream",
     "text": [
      "'Macedonia'"
     ]
    },
    {
     "name": "stdout",
     "output_type": "stream",
     "text": [
      ", "
     ]
    },
    {
     "name": "stdout",
     "output_type": "stream",
     "text": [
      "'Uganda'"
     ]
    },
    {
     "name": "stdout",
     "output_type": "stream",
     "text": [
      ", "
     ]
    },
    {
     "name": "stdout",
     "output_type": "stream",
     "text": [
      "'China'"
     ]
    },
    {
     "name": "stdout",
     "output_type": "stream",
     "text": [
      ", "
     ]
    },
    {
     "name": "stdout",
     "output_type": "stream",
     "text": [
      "'Jordan'"
     ]
    },
    {
     "name": "stdout",
     "output_type": "stream",
     "text": [
      ", "
     ]
    },
    {
     "name": "stdout",
     "output_type": "stream",
     "text": [
      "'Gabon'"
     ]
    },
    {
     "name": "stdout",
     "output_type": "stream",
     "text": [
      ", "
     ]
    },
    {
     "name": "stdout",
     "output_type": "stream",
     "text": [
      "'Canada'"
     ]
    },
    {
     "name": "stdout",
     "output_type": "stream",
     "text": [
      ", "
     ]
    },
    {
     "name": "stdout",
     "output_type": "stream",
     "text": [
      "'Haiti'"
     ]
    },
    {
     "name": "stdout",
     "output_type": "stream",
     "text": [
      ",\n",
      "     "
     ]
    },
    {
     "name": "stdout",
     "output_type": "stream",
     "text": [
      "'South Africa'"
     ]
    },
    {
     "name": "stdout",
     "output_type": "stream",
     "text": [
      ", "
     ]
    },
    {
     "name": "stdout",
     "output_type": "stream",
     "text": [
      "'Germany'"
     ]
    },
    {
     "name": "stdout",
     "output_type": "stream",
     "text": [
      ", "
     ]
    },
    {
     "name": "stdout",
     "output_type": "stream",
     "text": [
      "'Bhutan'"
     ]
    },
    {
     "name": "stdout",
     "output_type": "stream",
     "text": [
      ", "
     ]
    },
    {
     "name": "stdout",
     "output_type": "stream",
     "text": [
      "'Jamaica'"
     ]
    },
    {
     "name": "stdout",
     "output_type": "stream",
     "text": [
      ", "
     ]
    },
    {
     "name": "stdout",
     "output_type": "stream",
     "text": [
      "'Cameroon'"
     ]
    },
    {
     "name": "stdout",
     "output_type": "stream",
     "text": [
      ", "
     ]
    },
    {
     "name": "stdout",
     "output_type": "stream",
     "text": [
      "'Sudan'"
     ]
    },
    {
     "name": "stdout",
     "output_type": "stream",
     "text": [
      ",\n",
      "     "
     ]
    },
    {
     "name": "stdout",
     "output_type": "stream",
     "text": [
      "'Mauritania'"
     ]
    },
    {
     "name": "stdout",
     "output_type": "stream",
     "text": [
      ", "
     ]
    },
    {
     "name": "stdout",
     "output_type": "stream",
     "text": [
      "'El Salvador'"
     ]
    },
    {
     "name": "stdout",
     "output_type": "stream",
     "text": [
      ", "
     ]
    },
    {
     "name": "stdout",
     "output_type": "stream",
     "text": [
      "'Sierra Leone'"
     ]
    },
    {
     "name": "stdout",
     "output_type": "stream",
     "text": [
      ", "
     ]
    },
    {
     "name": "stdout",
     "output_type": "stream",
     "text": [
      "'Ecuador'"
     ]
    },
    {
     "name": "stdout",
     "output_type": "stream",
     "text": [
      ", "
     ]
    },
    {
     "name": "stdout",
     "output_type": "stream",
     "text": [
      "'Finland'"
     ]
    },
    {
     "name": "stdout",
     "output_type": "stream",
     "text": [
      ",\n",
      "     "
     ]
    },
    {
     "name": "stdout",
     "output_type": "stream",
     "text": [
      "'Albania'"
     ]
    },
    {
     "name": "stdout",
     "output_type": "stream",
     "text": [
      ", "
     ]
    },
    {
     "name": "stdout",
     "output_type": "stream",
     "text": [
      "'Nicaragua'"
     ]
    },
    {
     "name": "stdout",
     "output_type": "stream",
     "text": [
      ", "
     ]
    },
    {
     "name": "stdout",
     "output_type": "stream",
     "text": [
      "'Colombia'"
     ]
    },
    {
     "name": "stdout",
     "output_type": "stream",
     "text": [
      ", "
     ]
    },
    {
     "name": "stdout",
     "output_type": "stream",
     "text": [
      "'Tunisia'"
     ]
    },
    {
     "name": "stdout",
     "output_type": "stream",
     "text": [
      "]"
     ]
    },
    {
     "name": "stdout",
     "output_type": "stream",
     "text": [
      ",\n",
      " "
     ]
    },
    {
     "name": "stdout",
     "output_type": "stream",
     "text": [
      "8"
     ]
    },
    {
     "name": "stdout",
     "output_type": "stream",
     "text": [
      ": "
     ]
    },
    {
     "name": "stdout",
     "output_type": "stream",
     "text": [
      "["
     ]
    },
    {
     "name": "stdout",
     "output_type": "stream",
     "text": [
      "'Armenia'"
     ]
    },
    {
     "name": "stdout",
     "output_type": "stream",
     "text": [
      ", "
     ]
    },
    {
     "name": "stdout",
     "output_type": "stream",
     "text": [
      "'Saudi Arabia'"
     ]
    },
    {
     "name": "stdout",
     "output_type": "stream",
     "text": [
      ", "
     ]
    },
    {
     "name": "stdout",
     "output_type": "stream",
     "text": [
      "'Pakistan'"
     ]
    },
    {
     "name": "stdout",
     "output_type": "stream",
     "text": [
      ", "
     ]
    },
    {
     "name": "stdout",
     "output_type": "stream",
     "text": [
      "'Uruguay'"
     ]
    },
    {
     "name": "stdout",
     "output_type": "stream",
     "text": [
      ", "
     ]
    },
    {
     "name": "stdout",
     "output_type": "stream",
     "text": [
      "'Denmark'"
     ]
    },
    {
     "name": "stdout",
     "output_type": "stream",
     "text": [
      ", "
     ]
    },
    {
     "name": "stdout",
     "output_type": "stream",
     "text": [
      "'Lithuania'"
     ]
    },
    {
     "name": "stdout",
     "output_type": "stream",
     "text": [
      ",\n",
      "     "
     ]
    },
    {
     "name": "stdout",
     "output_type": "stream",
     "text": [
      "'Nigeria'"
     ]
    },
    {
     "name": "stdout",
     "output_type": "stream",
     "text": [
      ", "
     ]
    },
    {
     "name": "stdout",
     "output_type": "stream",
     "text": [
      "'Belgium'"
     ]
    },
    {
     "name": "stdout",
     "output_type": "stream",
     "text": [
      ", "
     ]
    },
    {
     "name": "stdout",
     "output_type": "stream",
     "text": [
      "'Burkina Faso'"
     ]
    },
    {
     "name": "stdout",
     "output_type": "stream",
     "text": [
      ", "
     ]
    },
    {
     "name": "stdout",
     "output_type": "stream",
     "text": [
      "'Ukraine'"
     ]
    },
    {
     "name": "stdout",
     "output_type": "stream",
     "text": [
      ", "
     ]
    },
    {
     "name": "stdout",
     "output_type": "stream",
     "text": [
      "'Belarus'"
     ]
    },
    {
     "name": "stdout",
     "output_type": "stream",
     "text": [
      ", "
     ]
    },
    {
     "name": "stdout",
     "output_type": "stream",
     "text": [
      "'Monaco'"
     ]
    },
    {
     "name": "stdout",
     "output_type": "stream",
     "text": [
      ",\n",
      "     "
     ]
    },
    {
     "name": "stdout",
     "output_type": "stream",
     "text": [
      "'Algeria'"
     ]
    },
    {
     "name": "stdout",
     "output_type": "stream",
     "text": [
      ", "
     ]
    },
    {
     "name": "stdout",
     "output_type": "stream",
     "text": [
      "'Hungary'"
     ]
    },
    {
     "name": "stdout",
     "output_type": "stream",
     "text": [
      ", "
     ]
    },
    {
     "name": "stdout",
     "output_type": "stream",
     "text": [
      "'Indonesia'"
     ]
    },
    {
     "name": "stdout",
     "output_type": "stream",
     "text": [
      ", "
     ]
    },
    {
     "name": "stdout",
     "output_type": "stream",
     "text": [
      "'Cape Verde'"
     ]
    },
    {
     "name": "stdout",
     "output_type": "stream",
     "text": [
      ", "
     ]
    },
    {
     "name": "stdout",
     "output_type": "stream",
     "text": [
      "'Georgia'"
     ]
    },
    {
     "name": "stdout",
     "output_type": "stream",
     "text": [
      ", "
     ]
    },
    {
     "name": "stdout",
     "output_type": "stream",
     "text": [
      "'Chile'"
     ]
    },
    {
     "name": "stdout",
     "output_type": "stream",
     "text": [
      ",\n",
      "     "
     ]
    },
    {
     "name": "stdout",
     "output_type": "stream",
     "text": [
      "'Egypt'"
     ]
    },
    {
     "name": "stdout",
     "output_type": "stream",
     "text": [
      ", "
     ]
    },
    {
     "name": "stdout",
     "output_type": "stream",
     "text": [
      "'Korea, South'"
     ]
    },
    {
     "name": "stdout",
     "output_type": "stream",
     "text": [
      ", "
     ]
    },
    {
     "name": "stdout",
     "output_type": "stream",
     "text": [
      "'Bulgaria'"
     ]
    },
    {
     "name": "stdout",
     "output_type": "stream",
     "text": [
      ", "
     ]
    },
    {
     "name": "stdout",
     "output_type": "stream",
     "text": [
      "'Honduras'"
     ]
    },
    {
     "name": "stdout",
     "output_type": "stream",
     "text": [
      ", "
     ]
    },
    {
     "name": "stdout",
     "output_type": "stream",
     "text": [
      "'Estonia'"
     ]
    },
    {
     "name": "stdout",
     "output_type": "stream",
     "text": [
      ",\n",
      "     "
     ]
    },
    {
     "name": "stdout",
     "output_type": "stream",
     "text": [
      "'Dominican Republic'"
     ]
    },
    {
     "name": "stdout",
     "output_type": "stream",
     "text": [
      ", "
     ]
    },
    {
     "name": "stdout",
     "output_type": "stream",
     "text": [
      "'Malaysia'"
     ]
    },
    {
     "name": "stdout",
     "output_type": "stream",
     "text": [
      ", "
     ]
    },
    {
     "name": "stdout",
     "output_type": "stream",
     "text": [
      "'Romania'"
     ]
    },
    {
     "name": "stdout",
     "output_type": "stream",
     "text": [
      ", "
     ]
    },
    {
     "name": "stdout",
     "output_type": "stream",
     "text": [
      "'Switzerland'"
     ]
    },
    {
     "name": "stdout",
     "output_type": "stream",
     "text": [
      ", "
     ]
    },
    {
     "name": "stdout",
     "output_type": "stream",
     "text": [
      "'Liberia'"
     ]
    },
    {
     "name": "stdout",
     "output_type": "stream",
     "text": [
      ",\n",
      "     "
     ]
    },
    {
     "name": "stdout",
     "output_type": "stream",
     "text": [
      "'Bangladesh'"
     ]
    },
    {
     "name": "stdout",
     "output_type": "stream",
     "text": [
      ", "
     ]
    },
    {
     "name": "stdout",
     "output_type": "stream",
     "text": [
      "'Brazil'"
     ]
    },
    {
     "name": "stdout",
     "output_type": "stream",
     "text": [
      ", "
     ]
    },
    {
     "name": "stdout",
     "output_type": "stream",
     "text": [
      "'Mali'"
     ]
    },
    {
     "name": "stdout",
     "output_type": "stream",
     "text": [
      ", "
     ]
    },
    {
     "name": "stdout",
     "output_type": "stream",
     "text": [
      "'Bolivia'"
     ]
    },
    {
     "name": "stdout",
     "output_type": "stream",
     "text": [
      ", "
     ]
    },
    {
     "name": "stdout",
     "output_type": "stream",
     "text": [
      "'Peru'"
     ]
    },
    {
     "name": "stdout",
     "output_type": "stream",
     "text": [
      ", "
     ]
    },
    {
     "name": "stdout",
     "output_type": "stream",
     "text": [
      "'Singapore'"
     ]
    },
    {
     "name": "stdout",
     "output_type": "stream",
     "text": [
      ", "
     ]
    },
    {
     "name": "stdout",
     "output_type": "stream",
     "text": [
      "'Austria'"
     ]
    },
    {
     "name": "stdout",
     "output_type": "stream",
     "text": [
      ",\n",
      "     "
     ]
    },
    {
     "name": "stdout",
     "output_type": "stream",
     "text": [
      "'Czech Republic'"
     ]
    },
    {
     "name": "stdout",
     "output_type": "stream",
     "text": [
      "]"
     ]
    },
    {
     "name": "stdout",
     "output_type": "stream",
     "text": [
      ",\n",
      " "
     ]
    },
    {
     "name": "stdout",
     "output_type": "stream",
     "text": [
      "9"
     ]
    },
    {
     "name": "stdout",
     "output_type": "stream",
     "text": [
      ": "
     ]
    },
    {
     "name": "stdout",
     "output_type": "stream",
     "text": [
      "["
     ]
    },
    {
     "name": "stdout",
     "output_type": "stream",
     "text": [
      "'Myanmar'"
     ]
    },
    {
     "name": "stdout",
     "output_type": "stream",
     "text": [
      ", "
     ]
    },
    {
     "name": "stdout",
     "output_type": "stream",
     "text": [
      "'United States'"
     ]
    },
    {
     "name": "stdout",
     "output_type": "stream",
     "text": [
      ", "
     ]
    },
    {
     "name": "stdout",
     "output_type": "stream",
     "text": [
      "'Portugal'"
     ]
    },
    {
     "name": "stdout",
     "output_type": "stream",
     "text": [
      ", "
     ]
    },
    {
     "name": "stdout",
     "output_type": "stream",
     "text": [
      "'Turkey'"
     ]
    },
    {
     "name": "stdout",
     "output_type": "stream",
     "text": [
      ", "
     ]
    },
    {
     "name": "stdout",
     "output_type": "stream",
     "text": [
      "'Russia'"
     ]
    },
    {
     "name": "stdout",
     "output_type": "stream",
     "text": [
      ", "
     ]
    },
    {
     "name": "stdout",
     "output_type": "stream",
     "text": [
      "'Poland'"
     ]
    },
    {
     "name": "stdout",
     "output_type": "stream",
     "text": [
      ",\n",
      "     "
     ]
    },
    {
     "name": "stdout",
     "output_type": "stream",
     "text": [
      "'Italy'"
     ]
    },
    {
     "name": "stdout",
     "output_type": "stream",
     "text": [
      ", "
     ]
    },
    {
     "name": "stdout",
     "output_type": "stream",
     "text": [
      "'Mexico'"
     ]
    },
    {
     "name": "stdout",
     "output_type": "stream",
     "text": [
      ", "
     ]
    },
    {
     "name": "stdout",
     "output_type": "stream",
     "text": [
      "'Kuwait'"
     ]
    },
    {
     "name": "stdout",
     "output_type": "stream",
     "text": [
      ", "
     ]
    },
    {
     "name": "stdout",
     "output_type": "stream",
     "text": [
      "'Moldova'"
     ]
    },
    {
     "name": "stdout",
     "output_type": "stream",
     "text": [
      ", "
     ]
    },
    {
     "name": "stdout",
     "output_type": "stream",
     "text": [
      "'France'"
     ]
    },
    {
     "name": "stdout",
     "output_type": "stream",
     "text": [
      "]"
     ]
    },
    {
     "name": "stdout",
     "output_type": "stream",
     "text": [
      ",\n",
      " "
     ]
    },
    {
     "name": "stdout",
     "output_type": "stream",
     "text": [
      "10"
     ]
    },
    {
     "name": "stdout",
     "output_type": "stream",
     "text": [
      ": "
     ]
    },
    {
     "name": "stdout",
     "output_type": "stream",
     "text": [
      "['Iran', 'Guinea', 'Bahrain', 'Senegal', 'United Arab Emirates']"
     ]
    },
    {
     "name": "stdout",
     "output_type": "stream",
     "text": [
      "}"
     ]
    },
    {
     "name": "stdout",
     "output_type": "stream",
     "text": [
      "\n"
     ]
    }
   ],
   "source": [
    "# Show the number of phases of all countries\n",
    "analyser.trend()\n",
    "pprint(analyser.phase_len(), compact=True)"
   ]
  },
  {
   "cell_type": "code",
   "execution_count": 8,
   "metadata": {
    "collapsed": false
   },
   "outputs": [
    {
     "data": {
      "text/plain": [
       "16"
      ]
     },
     "execution_count": 8,
     "metadata": {},
     "output_type": "execute_result"
    }
   ],
   "source": [
    "# Set phases with S-R trend analysis\n",
    "analyser.trend(min_len=9)\n",
    "# The number of countries\n",
    "len(analyser.countries)"
   ]
  },
  {
   "cell_type": "code",
   "execution_count": 9,
   "metadata": {
    "collapsed": false,
    "tags": []
   },
   "outputs": [
    {
     "name": "stdout",
     "output_type": "stream",
     "text": [
      "{"
     ]
    },
    {
     "name": "stdout",
     "output_type": "stream",
     "text": [
      "9"
     ]
    },
    {
     "name": "stdout",
     "output_type": "stream",
     "text": [
      ": "
     ]
    },
    {
     "name": "stdout",
     "output_type": "stream",
     "text": [
      "["
     ]
    },
    {
     "name": "stdout",
     "output_type": "stream",
     "text": [
      "'Myanmar'"
     ]
    },
    {
     "name": "stdout",
     "output_type": "stream",
     "text": [
      ", "
     ]
    },
    {
     "name": "stdout",
     "output_type": "stream",
     "text": [
      "'United States'"
     ]
    },
    {
     "name": "stdout",
     "output_type": "stream",
     "text": [
      ", "
     ]
    },
    {
     "name": "stdout",
     "output_type": "stream",
     "text": [
      "'Portugal'"
     ]
    },
    {
     "name": "stdout",
     "output_type": "stream",
     "text": [
      ", "
     ]
    },
    {
     "name": "stdout",
     "output_type": "stream",
     "text": [
      "'Turkey'"
     ]
    },
    {
     "name": "stdout",
     "output_type": "stream",
     "text": [
      ", "
     ]
    },
    {
     "name": "stdout",
     "output_type": "stream",
     "text": [
      "'Russia'"
     ]
    },
    {
     "name": "stdout",
     "output_type": "stream",
     "text": [
      ", "
     ]
    },
    {
     "name": "stdout",
     "output_type": "stream",
     "text": [
      "'Poland'"
     ]
    },
    {
     "name": "stdout",
     "output_type": "stream",
     "text": [
      ",\n",
      "     "
     ]
    },
    {
     "name": "stdout",
     "output_type": "stream",
     "text": [
      "'Italy'"
     ]
    },
    {
     "name": "stdout",
     "output_type": "stream",
     "text": [
      ", "
     ]
    },
    {
     "name": "stdout",
     "output_type": "stream",
     "text": [
      "'Mexico'"
     ]
    },
    {
     "name": "stdout",
     "output_type": "stream",
     "text": [
      ", "
     ]
    },
    {
     "name": "stdout",
     "output_type": "stream",
     "text": [
      "'Kuwait'"
     ]
    },
    {
     "name": "stdout",
     "output_type": "stream",
     "text": [
      ", "
     ]
    },
    {
     "name": "stdout",
     "output_type": "stream",
     "text": [
      "'Moldova'"
     ]
    },
    {
     "name": "stdout",
     "output_type": "stream",
     "text": [
      ", "
     ]
    },
    {
     "name": "stdout",
     "output_type": "stream",
     "text": [
      "'France'"
     ]
    },
    {
     "name": "stdout",
     "output_type": "stream",
     "text": [
      "]"
     ]
    },
    {
     "name": "stdout",
     "output_type": "stream",
     "text": [
      ",\n",
      " "
     ]
    },
    {
     "name": "stdout",
     "output_type": "stream",
     "text": [
      "10"
     ]
    },
    {
     "name": "stdout",
     "output_type": "stream",
     "text": [
      ": "
     ]
    },
    {
     "name": "stdout",
     "output_type": "stream",
     "text": [
      "['Iran', 'Guinea', 'Bahrain', 'Senegal', 'United Arab Emirates']"
     ]
    },
    {
     "name": "stdout",
     "output_type": "stream",
     "text": [
      "}"
     ]
    },
    {
     "name": "stdout",
     "output_type": "stream",
     "text": [
      "\n"
     ]
    }
   ],
   "source": [
    "phase_len_dict = analyser.phase_len()\n",
    "pprint(phase_len_dict, compact=True)"
   ]
  },
  {
   "cell_type": "code",
   "execution_count": 10,
   "metadata": {
    "collapsed": false,
    "tags": []
   },
   "outputs": [
    {
     "data": {
      "text/html": [
       "<div>\n",
       "<style scoped>\n",
       "    .dataframe tbody tr th:only-of-type {\n",
       "        vertical-align: middle;\n",
       "    }\n",
       "\n",
       "    .dataframe tbody tr th {\n",
       "        vertical-align: top;\n",
       "    }\n",
       "\n",
       "    .dataframe thead th {\n",
       "        text-align: right;\n",
       "    }\n",
       "</style>\n",
       "<table border=\"1\" class=\"dataframe\">\n",
       "  <thead>\n",
       "    <tr style=\"text-align: right;\">\n",
       "      <th></th>\n",
       "      <th></th>\n",
       "      <th>Type</th>\n",
       "      <th>Start</th>\n",
       "      <th>End</th>\n",
       "      <th>Population</th>\n",
       "    </tr>\n",
       "    <tr>\n",
       "      <th>Country</th>\n",
       "      <th>Phase</th>\n",
       "      <th></th>\n",
       "      <th></th>\n",
       "      <th></th>\n",
       "      <th></th>\n",
       "    </tr>\n",
       "  </thead>\n",
       "  <tbody>\n",
       "    <tr>\n",
       "      <th rowspan=\"10\" valign=\"top\">Iran</th>\n",
       "      <th>1st</th>\n",
       "      <td>Past</td>\n",
       "      <td>29Mar2020</td>\n",
       "      <td>16Apr2020</td>\n",
       "      <td>81800269</td>\n",
       "    </tr>\n",
       "    <tr>\n",
       "      <th>2nd</th>\n",
       "      <td>Past</td>\n",
       "      <td>17Apr2020</td>\n",
       "      <td>10May2020</td>\n",
       "      <td>81800269</td>\n",
       "    </tr>\n",
       "    <tr>\n",
       "      <th>3rd</th>\n",
       "      <td>Past</td>\n",
       "      <td>11May2020</td>\n",
       "      <td>30May2020</td>\n",
       "      <td>81800269</td>\n",
       "    </tr>\n",
       "    <tr>\n",
       "      <th>4th</th>\n",
       "      <td>Past</td>\n",
       "      <td>31May2020</td>\n",
       "      <td>12Jun2020</td>\n",
       "      <td>81800269</td>\n",
       "    </tr>\n",
       "    <tr>\n",
       "      <th>5th</th>\n",
       "      <td>Past</td>\n",
       "      <td>13Jun2020</td>\n",
       "      <td>25Jun2020</td>\n",
       "      <td>81800269</td>\n",
       "    </tr>\n",
       "    <tr>\n",
       "      <th>6th</th>\n",
       "      <td>Past</td>\n",
       "      <td>26Jun2020</td>\n",
       "      <td>06Jul2020</td>\n",
       "      <td>81800269</td>\n",
       "    </tr>\n",
       "    <tr>\n",
       "      <th>7th</th>\n",
       "      <td>Past</td>\n",
       "      <td>07Jul2020</td>\n",
       "      <td>19Jul2020</td>\n",
       "      <td>81800269</td>\n",
       "    </tr>\n",
       "    <tr>\n",
       "      <th>8th</th>\n",
       "      <td>Past</td>\n",
       "      <td>20Jul2020</td>\n",
       "      <td>31Jul2020</td>\n",
       "      <td>81800269</td>\n",
       "    </tr>\n",
       "    <tr>\n",
       "      <th>9th</th>\n",
       "      <td>Past</td>\n",
       "      <td>01Aug2020</td>\n",
       "      <td>13Aug2020</td>\n",
       "      <td>81800269</td>\n",
       "    </tr>\n",
       "    <tr>\n",
       "      <th>10th</th>\n",
       "      <td>Past</td>\n",
       "      <td>14Aug2020</td>\n",
       "      <td>30Aug2020</td>\n",
       "      <td>81800269</td>\n",
       "    </tr>\n",
       "    <tr>\n",
       "      <th rowspan=\"10\" valign=\"top\">Guinea</th>\n",
       "      <th>1st</th>\n",
       "      <td>Past</td>\n",
       "      <td>02May2020</td>\n",
       "      <td>11May2020</td>\n",
       "      <td>12414318</td>\n",
       "    </tr>\n",
       "    <tr>\n",
       "      <th>2nd</th>\n",
       "      <td>Past</td>\n",
       "      <td>12May2020</td>\n",
       "      <td>22May2020</td>\n",
       "      <td>12414318</td>\n",
       "    </tr>\n",
       "    <tr>\n",
       "      <th>3rd</th>\n",
       "      <td>Past</td>\n",
       "      <td>23May2020</td>\n",
       "      <td>30May2020</td>\n",
       "      <td>12414318</td>\n",
       "    </tr>\n",
       "    <tr>\n",
       "      <th>4th</th>\n",
       "      <td>Past</td>\n",
       "      <td>31May2020</td>\n",
       "      <td>14Jun2020</td>\n",
       "      <td>12414318</td>\n",
       "    </tr>\n",
       "    <tr>\n",
       "      <th>5th</th>\n",
       "      <td>Past</td>\n",
       "      <td>15Jun2020</td>\n",
       "      <td>01Jul2020</td>\n",
       "      <td>12414318</td>\n",
       "    </tr>\n",
       "    <tr>\n",
       "      <th>6th</th>\n",
       "      <td>Past</td>\n",
       "      <td>02Jul2020</td>\n",
       "      <td>13Jul2020</td>\n",
       "      <td>12414318</td>\n",
       "    </tr>\n",
       "    <tr>\n",
       "      <th>7th</th>\n",
       "      <td>Past</td>\n",
       "      <td>14Jul2020</td>\n",
       "      <td>23Jul2020</td>\n",
       "      <td>12414318</td>\n",
       "    </tr>\n",
       "    <tr>\n",
       "      <th>8th</th>\n",
       "      <td>Past</td>\n",
       "      <td>24Jul2020</td>\n",
       "      <td>05Aug2020</td>\n",
       "      <td>12414318</td>\n",
       "    </tr>\n",
       "    <tr>\n",
       "      <th>9th</th>\n",
       "      <td>Past</td>\n",
       "      <td>06Aug2020</td>\n",
       "      <td>15Aug2020</td>\n",
       "      <td>12414318</td>\n",
       "    </tr>\n",
       "    <tr>\n",
       "      <th>10th</th>\n",
       "      <td>Past</td>\n",
       "      <td>16Aug2020</td>\n",
       "      <td>30Aug2020</td>\n",
       "      <td>12414318</td>\n",
       "    </tr>\n",
       "    <tr>\n",
       "      <th rowspan=\"10\" valign=\"top\">Bahrain</th>\n",
       "      <th>1st</th>\n",
       "      <td>Past</td>\n",
       "      <td>06May2020</td>\n",
       "      <td>30May2020</td>\n",
       "      <td>1569439</td>\n",
       "    </tr>\n",
       "    <tr>\n",
       "      <th>2nd</th>\n",
       "      <td>Past</td>\n",
       "      <td>31May2020</td>\n",
       "      <td>11Jun2020</td>\n",
       "      <td>1569439</td>\n",
       "    </tr>\n",
       "    <tr>\n",
       "      <th>3rd</th>\n",
       "      <td>Past</td>\n",
       "      <td>12Jun2020</td>\n",
       "      <td>20Jun2020</td>\n",
       "      <td>1569439</td>\n",
       "    </tr>\n",
       "    <tr>\n",
       "      <th>4th</th>\n",
       "      <td>Past</td>\n",
       "      <td>21Jun2020</td>\n",
       "      <td>28Jun2020</td>\n",
       "      <td>1569439</td>\n",
       "    </tr>\n",
       "    <tr>\n",
       "      <th>5th</th>\n",
       "      <td>Past</td>\n",
       "      <td>29Jun2020</td>\n",
       "      <td>07Jul2020</td>\n",
       "      <td>1569439</td>\n",
       "    </tr>\n",
       "    <tr>\n",
       "      <th>6th</th>\n",
       "      <td>Past</td>\n",
       "      <td>08Jul2020</td>\n",
       "      <td>15Jul2020</td>\n",
       "      <td>1569439</td>\n",
       "    </tr>\n",
       "    <tr>\n",
       "      <th>7th</th>\n",
       "      <td>Past</td>\n",
       "      <td>16Jul2020</td>\n",
       "      <td>25Jul2020</td>\n",
       "      <td>1569439</td>\n",
       "    </tr>\n",
       "    <tr>\n",
       "      <th>8th</th>\n",
       "      <td>Past</td>\n",
       "      <td>26Jul2020</td>\n",
       "      <td>05Aug2020</td>\n",
       "      <td>1569439</td>\n",
       "    </tr>\n",
       "    <tr>\n",
       "      <th>9th</th>\n",
       "      <td>Past</td>\n",
       "      <td>06Aug2020</td>\n",
       "      <td>17Aug2020</td>\n",
       "      <td>1569439</td>\n",
       "    </tr>\n",
       "    <tr>\n",
       "      <th>10th</th>\n",
       "      <td>Past</td>\n",
       "      <td>18Aug2020</td>\n",
       "      <td>30Aug2020</td>\n",
       "      <td>1569439</td>\n",
       "    </tr>\n",
       "    <tr>\n",
       "      <th rowspan=\"10\" valign=\"top\">Senegal</th>\n",
       "      <th>1st</th>\n",
       "      <td>Past</td>\n",
       "      <td>03May2020</td>\n",
       "      <td>14May2020</td>\n",
       "      <td>15854360</td>\n",
       "    </tr>\n",
       "    <tr>\n",
       "      <th>2nd</th>\n",
       "      <td>Past</td>\n",
       "      <td>15May2020</td>\n",
       "      <td>28May2020</td>\n",
       "      <td>15854360</td>\n",
       "    </tr>\n",
       "    <tr>\n",
       "      <th>3rd</th>\n",
       "      <td>Past</td>\n",
       "      <td>29May2020</td>\n",
       "      <td>09Jun2020</td>\n",
       "      <td>15854360</td>\n",
       "    </tr>\n",
       "    <tr>\n",
       "      <th>4th</th>\n",
       "      <td>Past</td>\n",
       "      <td>10Jun2020</td>\n",
       "      <td>19Jun2020</td>\n",
       "      <td>15854360</td>\n",
       "    </tr>\n",
       "    <tr>\n",
       "      <th>5th</th>\n",
       "      <td>Past</td>\n",
       "      <td>20Jun2020</td>\n",
       "      <td>01Jul2020</td>\n",
       "      <td>15854360</td>\n",
       "    </tr>\n",
       "    <tr>\n",
       "      <th>6th</th>\n",
       "      <td>Past</td>\n",
       "      <td>02Jul2020</td>\n",
       "      <td>12Jul2020</td>\n",
       "      <td>15854360</td>\n",
       "    </tr>\n",
       "    <tr>\n",
       "      <th>7th</th>\n",
       "      <td>Past</td>\n",
       "      <td>13Jul2020</td>\n",
       "      <td>23Jul2020</td>\n",
       "      <td>15854360</td>\n",
       "    </tr>\n",
       "    <tr>\n",
       "      <th>8th</th>\n",
       "      <td>Past</td>\n",
       "      <td>24Jul2020</td>\n",
       "      <td>04Aug2020</td>\n",
       "      <td>15854360</td>\n",
       "    </tr>\n",
       "    <tr>\n",
       "      <th>9th</th>\n",
       "      <td>Past</td>\n",
       "      <td>05Aug2020</td>\n",
       "      <td>14Aug2020</td>\n",
       "      <td>15854360</td>\n",
       "    </tr>\n",
       "    <tr>\n",
       "      <th>10th</th>\n",
       "      <td>Past</td>\n",
       "      <td>15Aug2020</td>\n",
       "      <td>30Aug2020</td>\n",
       "      <td>15854360</td>\n",
       "    </tr>\n",
       "    <tr>\n",
       "      <th rowspan=\"10\" valign=\"top\">United Arab Emirates</th>\n",
       "      <th>1st</th>\n",
       "      <td>Past</td>\n",
       "      <td>27Apr2020</td>\n",
       "      <td>12May2020</td>\n",
       "      <td>9630959</td>\n",
       "    </tr>\n",
       "    <tr>\n",
       "      <th>2nd</th>\n",
       "      <td>Past</td>\n",
       "      <td>13May2020</td>\n",
       "      <td>25May2020</td>\n",
       "      <td>9630959</td>\n",
       "    </tr>\n",
       "    <tr>\n",
       "      <th>3rd</th>\n",
       "      <td>Past</td>\n",
       "      <td>26May2020</td>\n",
       "      <td>03Jun2020</td>\n",
       "      <td>9630959</td>\n",
       "    </tr>\n",
       "    <tr>\n",
       "      <th>4th</th>\n",
       "      <td>Past</td>\n",
       "      <td>04Jun2020</td>\n",
       "      <td>11Jun2020</td>\n",
       "      <td>9630959</td>\n",
       "    </tr>\n",
       "    <tr>\n",
       "      <th>5th</th>\n",
       "      <td>Past</td>\n",
       "      <td>12Jun2020</td>\n",
       "      <td>22Jun2020</td>\n",
       "      <td>9630959</td>\n",
       "    </tr>\n",
       "    <tr>\n",
       "      <th>6th</th>\n",
       "      <td>Past</td>\n",
       "      <td>23Jun2020</td>\n",
       "      <td>02Jul2020</td>\n",
       "      <td>9630959</td>\n",
       "    </tr>\n",
       "    <tr>\n",
       "      <th>7th</th>\n",
       "      <td>Past</td>\n",
       "      <td>03Jul2020</td>\n",
       "      <td>10Jul2020</td>\n",
       "      <td>9630959</td>\n",
       "    </tr>\n",
       "    <tr>\n",
       "      <th>8th</th>\n",
       "      <td>Past</td>\n",
       "      <td>11Jul2020</td>\n",
       "      <td>25Jul2020</td>\n",
       "      <td>9630959</td>\n",
       "    </tr>\n",
       "    <tr>\n",
       "      <th>9th</th>\n",
       "      <td>Past</td>\n",
       "      <td>26Jul2020</td>\n",
       "      <td>13Aug2020</td>\n",
       "      <td>9630959</td>\n",
       "    </tr>\n",
       "    <tr>\n",
       "      <th>10th</th>\n",
       "      <td>Past</td>\n",
       "      <td>14Aug2020</td>\n",
       "      <td>30Aug2020</td>\n",
       "      <td>9630959</td>\n",
       "    </tr>\n",
       "  </tbody>\n",
       "</table>\n",
       "</div>"
      ],
      "text/plain": [
       "                            Type      Start        End  Population\n",
       "Country              Phase                                        \n",
       "Iran                 1st    Past  29Mar2020  16Apr2020    81800269\n",
       "                     2nd    Past  17Apr2020  10May2020    81800269\n",
       "                     3rd    Past  11May2020  30May2020    81800269\n",
       "                     4th    Past  31May2020  12Jun2020    81800269\n",
       "                     5th    Past  13Jun2020  25Jun2020    81800269\n",
       "                     6th    Past  26Jun2020  06Jul2020    81800269\n",
       "                     7th    Past  07Jul2020  19Jul2020    81800269\n",
       "                     8th    Past  20Jul2020  31Jul2020    81800269\n",
       "                     9th    Past  01Aug2020  13Aug2020    81800269\n",
       "                     10th   Past  14Aug2020  30Aug2020    81800269\n",
       "Guinea               1st    Past  02May2020  11May2020    12414318\n",
       "                     2nd    Past  12May2020  22May2020    12414318\n",
       "                     3rd    Past  23May2020  30May2020    12414318\n",
       "                     4th    Past  31May2020  14Jun2020    12414318\n",
       "                     5th    Past  15Jun2020  01Jul2020    12414318\n",
       "                     6th    Past  02Jul2020  13Jul2020    12414318\n",
       "                     7th    Past  14Jul2020  23Jul2020    12414318\n",
       "                     8th    Past  24Jul2020  05Aug2020    12414318\n",
       "                     9th    Past  06Aug2020  15Aug2020    12414318\n",
       "                     10th   Past  16Aug2020  30Aug2020    12414318\n",
       "Bahrain              1st    Past  06May2020  30May2020     1569439\n",
       "                     2nd    Past  31May2020  11Jun2020     1569439\n",
       "                     3rd    Past  12Jun2020  20Jun2020     1569439\n",
       "                     4th    Past  21Jun2020  28Jun2020     1569439\n",
       "                     5th    Past  29Jun2020  07Jul2020     1569439\n",
       "                     6th    Past  08Jul2020  15Jul2020     1569439\n",
       "                     7th    Past  16Jul2020  25Jul2020     1569439\n",
       "                     8th    Past  26Jul2020  05Aug2020     1569439\n",
       "                     9th    Past  06Aug2020  17Aug2020     1569439\n",
       "                     10th   Past  18Aug2020  30Aug2020     1569439\n",
       "Senegal              1st    Past  03May2020  14May2020    15854360\n",
       "                     2nd    Past  15May2020  28May2020    15854360\n",
       "                     3rd    Past  29May2020  09Jun2020    15854360\n",
       "                     4th    Past  10Jun2020  19Jun2020    15854360\n",
       "                     5th    Past  20Jun2020  01Jul2020    15854360\n",
       "                     6th    Past  02Jul2020  12Jul2020    15854360\n",
       "                     7th    Past  13Jul2020  23Jul2020    15854360\n",
       "                     8th    Past  24Jul2020  04Aug2020    15854360\n",
       "                     9th    Past  05Aug2020  14Aug2020    15854360\n",
       "                     10th   Past  15Aug2020  30Aug2020    15854360\n",
       "United Arab Emirates 1st    Past  27Apr2020  12May2020     9630959\n",
       "                     2nd    Past  13May2020  25May2020     9630959\n",
       "                     3rd    Past  26May2020  03Jun2020     9630959\n",
       "                     4th    Past  04Jun2020  11Jun2020     9630959\n",
       "                     5th    Past  12Jun2020  22Jun2020     9630959\n",
       "                     6th    Past  23Jun2020  02Jul2020     9630959\n",
       "                     7th    Past  03Jul2020  10Jul2020     9630959\n",
       "                     8th    Past  11Jul2020  25Jul2020     9630959\n",
       "                     9th    Past  26Jul2020  13Aug2020     9630959\n",
       "                     10th   Past  14Aug2020  30Aug2020     9630959"
      ]
     },
     "execution_count": 10,
     "metadata": {},
     "output_type": "execute_result"
    }
   ],
   "source": [
    "# Here, only show the countries which have the most phases\n",
    "countries_show = max(phase_len_dict.items(), key=lambda x: x[0])[1]\n",
    "# Show summary\n",
    "analyser.summary(countries=countries_show)"
   ]
  },
  {
   "cell_type": "markdown",
   "metadata": {},
   "source": [
    "## Parameter estimation\n",
    "we will estimate the parameter values with SIR-derived ODE models in each country."
   ]
  },
  {
   "cell_type": "code",
   "execution_count": 11,
   "metadata": {
    "collapsed": false,
    "tags": []
   },
   "outputs": [
    {
     "name": "stdout",
     "output_type": "stream",
     "text": [
      "\n",
      "<SIR-F model: parameter estimation>"
     ]
    },
    {
     "name": "stdout",
     "output_type": "stream",
     "text": [
      "\n"
     ]
    },
    {
     "name": "stdout",
     "output_type": "stream",
     "text": [
      "Running optimization with 4 CPUs..."
     ]
    },
    {
     "name": "stdout",
     "output_type": "stream",
     "text": [
      "\n"
     ]
    },
    {
     "name": "stdout",
     "output_type": "stream",
     "text": [
      "\tMDA,  6th phase (21Jul2020 - 29Jul2020): finished  259 trials in 0 min  5 sec"
     ]
    },
    {
     "name": "stdout",
     "output_type": "stream",
     "text": [
      "\n"
     ]
    },
    {
     "name": "stdout",
     "output_type": "stream",
     "text": [
      "\tFRA,  8th phase (21Jul2020 - 10Aug2020): finished  436 trials in 0 min 10 sec"
     ]
    },
    {
     "name": "stdout",
     "output_type": "stream",
     "text": [
      "\n"
     ]
    },
    {
     "name": "stdout",
     "output_type": "stream",
     "text": [
      "\tSEN,  5th phase (20Jun2020 - 01Jul2020): finished  824 trials in 0 min 20 sec"
     ]
    },
    {
     "name": "stdout",
     "output_type": "stream",
     "text": [
      "\n"
     ]
    },
    {
     "name": "stdout",
     "output_type": "stream",
     "text": [
      "\tMEX,  1st phase (21May2020 - 07Jun2020): finished 1132 trials in 0 min 30 sec"
     ]
    },
    {
     "name": "stdout",
     "output_type": "stream",
     "text": [
      "\n"
     ]
    },
    {
     "name": "stdout",
     "output_type": "stream",
     "text": [
      "\tGIN,  5th phase (15Jun2020 - 01Jul2020): finished 1889 trials in 1 min  0 sec"
     ]
    },
    {
     "name": "stdout",
     "output_type": "stream",
     "text": [
      "\n"
     ]
    },
    {
     "name": "stdout",
     "output_type": "stream",
     "text": [
      "\tARE,  9th phase (26Jul2020 - 13Aug2020): finished 1077 trials in 0 min 30 sec"
     ]
    },
    {
     "name": "stdout",
     "output_type": "stream",
     "text": [
      "\n"
     ]
    },
    {
     "name": "stdout",
     "output_type": "stream",
     "text": [
      "\tMEX,  6th phase (19Jul2020 - 28Jul2020): finished  430 trials in 0 min 10 sec"
     ]
    },
    {
     "name": "stdout",
     "output_type": "stream",
     "text": [
      "\n"
     ]
    },
    {
     "name": "stdout",
     "output_type": "stream",
     "text": [
      "\tFRA,  4th phase (25Apr2020 - 04May2020): finished 1898 trials in 1 min  0 sec"
     ]
    },
    {
     "name": "stdout",
     "output_type": "stream",
     "text": [
      "\n"
     ]
    },
    {
     "name": "stdout",
     "output_type": "stream",
     "text": [
      "\tTUR,  7th phase (14Jul2020 - 30Jul2020): finished  245 trials in 0 min  5 sec"
     ]
    },
    {
     "name": "stdout",
     "output_type": "stream",
     "text": [
      "\n"
     ]
    },
    {
     "name": "stdout",
     "output_type": "stream",
     "text": [
      "\tMMR,  4th phase (06Jun2020 - 15Jun2020): finished 1900 trials in 1 min  0 sec"
     ]
    },
    {
     "name": "stdout",
     "output_type": "stream",
     "text": [
      "\n"
     ]
    },
    {
     "name": "stdout",
     "output_type": "stream",
     "text": [
      "\tARE,  8th phase (11Jul2020 - 25Jul2020): finished  243 trials in 0 min  5 sec"
     ]
    },
    {
     "name": "stdout",
     "output_type": "stream",
     "text": [
      "\n"
     ]
    },
    {
     "name": "stdout",
     "output_type": "stream",
     "text": [
      "\tFRA,  7th phase (24Jun2020 - 20Jul2020): finished  807 trials in 0 min 20 sec"
     ]
    },
    {
     "name": "stdout",
     "output_type": "stream",
     "text": [
      "\n"
     ]
    },
    {
     "name": "stdout",
     "output_type": "stream",
     "text": [
      "\tMEX,  9th phase (20Aug2020 - 30Aug2020): finished 1881 trials in 1 min  0 sec"
     ]
    },
    {
     "name": "stdout",
     "output_type": "stream",
     "text": [
      "\n"
     ]
    },
    {
     "name": "stdout",
     "output_type": "stream",
     "text": [
      "\tPRT,  2nd phase (18May2020 - 30May2020): finished 1857 trials in 1 min  0 sec"
     ]
    },
    {
     "name": "stdout",
     "output_type": "stream",
     "text": [
      "\n"
     ]
    },
    {
     "name": "stdout",
     "output_type": "stream",
     "text": [
      "\tBHR,  9th phase (06Aug2020 - 17Aug2020): finished  229 trials in 0 min  5 sec"
     ]
    },
    {
     "name": "stdout",
     "output_type": "stream",
     "text": [
      "\n"
     ]
    },
    {
     "name": "stdout",
     "output_type": "stream",
     "text": [
      "\tGIN,  6th phase (02Jul2020 - 13Jul2020): finished 1838 trials in 1 min  0 sec"
     ]
    },
    {
     "name": "stdout",
     "output_type": "stream",
     "text": [
      "\n"
     ]
    },
    {
     "name": "stdout",
     "output_type": "stream",
     "text": [
      "\tMMR,  7th phase (10Jul2020 - 29Jul2020): finished 1824 trials in 1 min  0 sec"
     ]
    },
    {
     "name": "stdout",
     "output_type": "stream",
     "text": [
      "\n"
     ]
    },
    {
     "name": "stdout",
     "output_type": "stream",
     "text": [
      "\tARE,  4th phase (04Jun2020 - 11Jun2020): finished 1072 trials in 0 min 30 sec"
     ]
    },
    {
     "name": "stdout",
     "output_type": "stream",
     "text": [
      "\n"
     ]
    },
    {
     "name": "stdout",
     "output_type": "stream",
     "text": [
      "\tARE,  2nd phase (13May2020 - 25May2020): finished 1845 trials in 1 min  0 sec"
     ]
    },
    {
     "name": "stdout",
     "output_type": "stream",
     "text": [
      "\n"
     ]
    },
    {
     "name": "stdout",
     "output_type": "stream",
     "text": [
      "\tARE,  1st phase (27Apr2020 - 12May2020): finished 1847 trials in 1 min  0 sec"
     ]
    },
    {
     "name": "stdout",
     "output_type": "stream",
     "text": [
      "\n"
     ]
    },
    {
     "name": "stdout",
     "output_type": "stream",
     "text": [
      "\tFRA,  6th phase (27May2020 - 23Jun2020): finished 1837 trials in 1 min  0 sec"
     ]
    },
    {
     "name": "stdout",
     "output_type": "stream",
     "text": [
      "\n"
     ]
    },
    {
     "name": "stdout",
     "output_type": "stream",
     "text": [
      "\tBHR,  3rd phase (12Jun2020 - 20Jun2020): finished  233 trials in 0 min  5 sec"
     ]
    },
    {
     "name": "stdout",
     "output_type": "stream",
     "text": [
      "\n"
     ]
    },
    {
     "name": "stdout",
     "output_type": "stream",
     "text": [
      "\tGIN,  9th phase (06Aug2020 - 15Aug2020): finished  231 trials in 0 min  5 sec"
     ]
    },
    {
     "name": "stdout",
     "output_type": "stream",
     "text": [
      "\n"
     ]
    },
    {
     "name": "stdout",
     "output_type": "stream",
     "text": [
      "\tTUR,  4th phase (29May2020 - 15Jun2020): finished  224 trials in 0 min  5 sec"
     ]
    },
    {
     "name": "stdout",
     "output_type": "stream",
     "text": [
      "\n"
     ]
    },
    {
     "name": "stdout",
     "output_type": "stream",
     "text": [
      "\tIRN,  8th phase (20Jul2020 - 31Jul2020): finished  224 trials in 0 min  5 sec"
     ]
    },
    {
     "name": "stdout",
     "output_type": "stream",
     "text": [
      "\n"
     ]
    },
    {
     "name": "stdout",
     "output_type": "stream",
     "text": [
      "\tPOL,  1st phase (24Apr2020 - 12May2020): finished 1826 trials in 1 min  0 sec"
     ]
    },
    {
     "name": "stdout",
     "output_type": "stream",
     "text": [
      "\n"
     ]
    },
    {
     "name": "stdout",
     "output_type": "stream",
     "text": [
      "\tFRA,  5th phase (05May2020 - 26May2020): finished 1825 trials in 1 min  0 sec"
     ]
    },
    {
     "name": "stdout",
     "output_type": "stream",
     "text": [
      "\n"
     ]
    },
    {
     "name": "stdout",
     "output_type": "stream",
     "text": [
      "\tPOL,  4th phase (12Jun2020 - 30Jun2020): finished 1825 trials in 1 min  0 sec"
     ]
    },
    {
     "name": "stdout",
     "output_type": "stream",
     "text": [
      "\n"
     ]
    },
    {
     "name": "stdout",
     "output_type": "stream",
     "text": [
      "\tKWT,  3rd phase (11Jun2020 - 23Jun2020): finished  625 trials in 0 min 15 sec"
     ]
    },
    {
     "name": "stdout",
     "output_type": "stream",
     "text": [
      "\n"
     ]
    },
    {
     "name": "stdout",
     "output_type": "stream",
     "text": [
      "\tIRN,  1st phase (29Mar2020 - 16Apr2020): finished 1819 trials in 1 min  0 sec"
     ]
    },
    {
     "name": "stdout",
     "output_type": "stream",
     "text": [
      "\n"
     ]
    },
    {
     "name": "stdout",
     "output_type": "stream",
     "text": [
      "\tARE,  5th phase (12Jun2020 - 22Jun2020): finished 1081 trials in 0 min 30 sec"
     ]
    },
    {
     "name": "stdout",
     "output_type": "stream",
     "text": [
      "\n"
     ]
    },
    {
     "name": "stdout",
     "output_type": "stream",
     "text": [
      "\tTUR,  5th phase (16Jun2020 - 28Jun2020): finished  226 trials in 0 min  5 sec"
     ]
    },
    {
     "name": "stdout",
     "output_type": "stream",
     "text": [
      "\n"
     ]
    },
    {
     "name": "stdout",
     "output_type": "stream",
     "text": [
      "\tFRA,  3rd phase (12Apr2020 - 24Apr2020): finished 1852 trials in 1 min  0 sec"
     ]
    },
    {
     "name": "stdout",
     "output_type": "stream",
     "text": [
      "\n"
     ]
    },
    {
     "name": "stdout",
     "output_type": "stream",
     "text": [
      "\tRUS,  1st phase (08May2020 - 22May2020): finished 1855 trials in 1 min  0 sec"
     ]
    },
    {
     "name": "stdout",
     "output_type": "stream",
     "text": [
      "\n"
     ]
    },
    {
     "name": "stdout",
     "output_type": "stream",
     "text": [
      "\tKWT,  4th phase (24Jun2020 - 04Jul2020): finished 1843 trials in 1 min  0 sec"
     ]
    },
    {
     "name": "stdout",
     "output_type": "stream",
     "text": [
      "\n"
     ]
    },
    {
     "name": "stdout",
     "output_type": "stream",
     "text": [
      "\tKWT,  2nd phase (25May2020 - 10Jun2020): finished 1816 trials in 1 min  0 sec"
     ]
    },
    {
     "name": "stdout",
     "output_type": "stream",
     "text": [
      "\n"
     ]
    },
    {
     "name": "stdout",
     "output_type": "stream",
     "text": [
      "\tMEX,  7th phase (29Jul2020 - 11Aug2020): finished 1803 trials in 1 min  0 sec"
     ]
    },
    {
     "name": "stdout",
     "output_type": "stream",
     "text": [
      "\n"
     ]
    },
    {
     "name": "stdout",
     "output_type": "stream",
     "text": [
      "\tKWT,  7th phase (26Jul2020 - 06Aug2020): finished  580 trials in 0 min 15 sec"
     ]
    },
    {
     "name": "stdout",
     "output_type": "stream",
     "text": [
      "\n"
     ]
    },
    {
     "name": "stdout",
     "output_type": "stream",
     "text": [
      "\tMEX,  8th phase (12Aug2020 - 19Aug2020): finished 1817 trials in 1 min  0 sec"
     ]
    },
    {
     "name": "stdout",
     "output_type": "stream",
     "text": [
      "\n"
     ]
    },
    {
     "name": "stdout",
     "output_type": "stream",
     "text": [
      "\tTUR,  2nd phase (30Apr2020 - 14May2020): finished 1049 trials in 0 min 30 sec"
     ]
    },
    {
     "name": "stdout",
     "output_type": "stream",
     "text": [
      "\n"
     ]
    },
    {
     "name": "stdout",
     "output_type": "stream",
     "text": [
      "\tSEN,  8th phase (24Jul2020 - 04Aug2020): finished  623 trials in 0 min 15 sec"
     ]
    },
    {
     "name": "stdout",
     "output_type": "stream",
     "text": [
      "\n"
     ]
    },
    {
     "name": "stdout",
     "output_type": "stream",
     "text": [
      "\tPRT,  7th phase (15Jul2020 - 27Jul2020): finished  188 trials in 0 min  5 sec"
     ]
    },
    {
     "name": "stdout",
     "output_type": "stream",
     "text": [
      "\n"
     ]
    },
    {
     "name": "stdout",
     "output_type": "stream",
     "text": [
      "\tTUR,  9th phase (15Aug2020 - 30Aug2020): finished  592 trials in 0 min 15 sec"
     ]
    },
    {
     "name": "stdout",
     "output_type": "stream",
     "text": [
      "\n"
     ]
    },
    {
     "name": "stdout",
     "output_type": "stream",
     "text": [
      "\tSEN,  1st phase (03May2020 - 14May2020): finished  541 trials in 0 min 15 sec"
     ]
    },
    {
     "name": "stdout",
     "output_type": "stream",
     "text": [
      "\n"
     ]
    },
    {
     "name": "stdout",
     "output_type": "stream",
     "text": [
      "\tITA,  5th phase (01May2020 - 09May2020): finished  602 trials in 0 min 15 sec"
     ]
    },
    {
     "name": "stdout",
     "output_type": "stream",
     "text": [
      "\n"
     ]
    },
    {
     "name": "stdout",
     "output_type": "stream",
     "text": [
      "\tMMR,  8th phase (30Jul2020 - 16Aug2020): finished 1760 trials in 1 min  0 sec"
     ]
    },
    {
     "name": "stdout",
     "output_type": "stream",
     "text": [
      "\n"
     ]
    },
    {
     "name": "stdout",
     "output_type": "stream",
     "text": [
      "\tTUR,  1st phase (18Apr2020 - 29Apr2020): finished 1747 trials in 1 min  0 sec"
     ]
    },
    {
     "name": "stdout",
     "output_type": "stream",
     "text": [
      "\n"
     ]
    },
    {
     "name": "stdout",
     "output_type": "stream",
     "text": [
      "\tIRN,  7th phase (07Jul2020 - 19Jul2020): finished  220 trials in 0 min  5 sec"
     ]
    },
    {
     "name": "stdout",
     "output_type": "stream",
     "text": [
      "\n"
     ]
    },
    {
     "name": "stdout",
     "output_type": "stream",
     "text": [
      "\tRUS,  5th phase (01Jul2020 - 10Jul2020): finished 1762 trials in 1 min  0 sec"
     ]
    },
    {
     "name": "stdout",
     "output_type": "stream",
     "text": [
      "\n"
     ]
    },
    {
     "name": "stdout",
     "output_type": "stream",
     "text": [
      "\tMDA,  3rd phase (15Jun2020 - 24Jun2020): finished  767 trials in 0 min 20 sec"
     ]
    },
    {
     "name": "stdout",
     "output_type": "stream",
     "text": [
      "\n"
     ]
    },
    {
     "name": "stdout",
     "output_type": "stream",
     "text": [
      "\tMEX,  2nd phase (08Jun2020 - 19Jun2020): finished  922 trials in 0 min 25 sec"
     ]
    },
    {
     "name": "stdout",
     "output_type": "stream",
     "text": [
      "\n"
     ]
    },
    {
     "name": "stdout",
     "output_type": "stream",
     "text": [
      "\tRUS,  8th phase (01Aug2020 - 14Aug2020): finished 1795 trials in 1 min  0 sec"
     ]
    },
    {
     "name": "stdout",
     "output_type": "stream",
     "text": [
      "\n"
     ]
    },
    {
     "name": "stdout",
     "output_type": "stream",
     "text": [
      "\tUSA,  9th phase (18Aug2020 - 30Aug2020): finished  205 trials in 0 min  5 sec"
     ]
    },
    {
     "name": "stdout",
     "output_type": "stream",
     "text": [
      "\n"
     ]
    },
    {
     "name": "stdout",
     "output_type": "stream",
     "text": [
      "\tITA,  4th phase (21Apr2020 - 30Apr2020): finished  213 trials in 0 min  5 sec"
     ]
    },
    {
     "name": "stdout",
     "output_type": "stream",
     "text": [
      "\n"
     ]
    },
    {
     "name": "stdout",
     "output_type": "stream",
     "text": [
      "\tGIN,  7th phase (14Jul2020 - 23Jul2020): finished 1810 trials in 1 min  0 sec"
     ]
    },
    {
     "name": "stdout",
     "output_type": "stream",
     "text": [
      "\n"
     ]
    },
    {
     "name": "stdout",
     "output_type": "stream",
     "text": [
      "\tIRN, 10th phase (14Aug2020 - 30Aug2020): finished  202 trials in 0 min  5 sec"
     ]
    },
    {
     "name": "stdout",
     "output_type": "stream",
     "text": [
      "\n"
     ]
    },
    {
     "name": "stdout",
     "output_type": "stream",
     "text": [
      "\tFRA,  2nd phase (03Apr2020 - 11Apr2020): finished 1796 trials in 1 min  0 sec"
     ]
    },
    {
     "name": "stdout",
     "output_type": "stream",
     "text": [
      "\n"
     ]
    },
    {
     "name": "stdout",
     "output_type": "stream",
     "text": [
      "\tUSA,  1st phase (21Apr2020 - 12May2020): finished 1783 trials in 1 min  0 sec"
     ]
    },
    {
     "name": "stdout",
     "output_type": "stream",
     "text": [
      "\n"
     ]
    },
    {
     "name": "stdout",
     "output_type": "stream",
     "text": [
      "\tSEN,  7th phase (13Jul2020 - 23Jul2020): finished  417 trials in 0 min 10 sec"
     ]
    },
    {
     "name": "stdout",
     "output_type": "stream",
     "text": [
      "\n"
     ]
    },
    {
     "name": "stdout",
     "output_type": "stream",
     "text": [
      "\tIRN,  6th phase (26Jun2020 - 06Jul2020): finished  219 trials in 0 min  5 sec"
     ]
    },
    {
     "name": "stdout",
     "output_type": "stream",
     "text": [
      "\n"
     ]
    },
    {
     "name": "stdout",
     "output_type": "stream",
     "text": [
      "\tBHR,  5th phase (29Jun2020 - 07Jul2020): finished 1803 trials in 1 min  0 sec"
     ]
    },
    {
     "name": "stdout",
     "output_type": "stream",
     "text": [
      "\n"
     ]
    },
    {
     "name": "stdout",
     "output_type": "stream",
     "text": [
      "\tMMR,  5th phase (16Jun2020 - 01Jul2020): finished 1807 trials in 1 min  0 sec"
     ]
    },
    {
     "name": "stdout",
     "output_type": "stream",
     "text": [
      "\n"
     ]
    },
    {
     "name": "stdout",
     "output_type": "stream",
     "text": [
      "\tBHR,  8th phase (26Jul2020 - 05Aug2020): finished  220 trials in 0 min  5 sec"
     ]
    },
    {
     "name": "stdout",
     "output_type": "stream",
     "text": [
      "\n"
     ]
    },
    {
     "name": "stdout",
     "output_type": "stream",
     "text": [
      "\tIRN,  3rd phase (11May2020 - 30May2020): finished 1798 trials in 1 min  0 sec"
     ]
    },
    {
     "name": "stdout",
     "output_type": "stream",
     "text": [
      "\n"
     ]
    },
    {
     "name": "stdout",
     "output_type": "stream",
     "text": [
      "\tPRT,  3rd phase (31May2020 - 12Jun2020): finished  895 trials in 0 min 25 sec"
     ]
    },
    {
     "name": "stdout",
     "output_type": "stream",
     "text": [
      "\n"
     ]
    },
    {
     "name": "stdout",
     "output_type": "stream",
     "text": [
      "\tARE,  7th phase (03Jul2020 - 10Jul2020): finished 1782 trials in 1 min  0 sec"
     ]
    },
    {
     "name": "stdout",
     "output_type": "stream",
     "text": [
      "\n"
     ]
    },
    {
     "name": "stdout",
     "output_type": "stream",
     "text": [
      "\tMMR,  3rd phase (26May2020 - 05Jun2020): finished 1771 trials in 1 min  0 sec"
     ]
    },
    {
     "name": "stdout",
     "output_type": "stream",
     "text": [
      "\n"
     ]
    },
    {
     "name": "stdout",
     "output_type": "stream",
     "text": [
      "\tPRT,  5th phase (25Jun2020 - 05Jul2020): finished  415 trials in 0 min 10 sec"
     ]
    },
    {
     "name": "stdout",
     "output_type": "stream",
     "text": [
      "\n"
     ]
    },
    {
     "name": "stdout",
     "output_type": "stream",
     "text": [
      "\tGIN,  8th phase (24Jul2020 - 05Aug2020): finished  405 trials in 0 min 10 sec"
     ]
    },
    {
     "name": "stdout",
     "output_type": "stream",
     "text": [
      "\n"
     ]
    },
    {
     "name": "stdout",
     "output_type": "stream",
     "text": [
      "\tMDA,  7th phase (30Jul2020 - 08Aug2020): finished 1026 trials in 0 min 30 sec"
     ]
    },
    {
     "name": "stdout",
     "output_type": "stream",
     "text": [
      "\n"
     ]
    },
    {
     "name": "stdout",
     "output_type": "stream",
     "text": [
      "\tUSA,  7th phase (24Jul2020 - 08Aug2020): finished  218 trials in 0 min  5 sec"
     ]
    },
    {
     "name": "stdout",
     "output_type": "stream",
     "text": [
      "\n"
     ]
    },
    {
     "name": "stdout",
     "output_type": "stream",
     "text": [
      "\tKWT,  5th phase (05Jul2020 - 15Jul2020): finished 1774 trials in 1 min  0 sec"
     ]
    },
    {
     "name": "stdout",
     "output_type": "stream",
     "text": [
      "\n"
     ]
    },
    {
     "name": "stdout",
     "output_type": "stream",
     "text": [
      "\tARE,  6th phase (23Jun2020 - 02Jul2020): finished  575 trials in 0 min 15 sec"
     ]
    },
    {
     "name": "stdout",
     "output_type": "stream",
     "text": [
      "\n"
     ]
    },
    {
     "name": "stdout",
     "output_type": "stream",
     "text": [
      "\tIRN,  9th phase (01Aug2020 - 13Aug2020): finished  210 trials in 0 min  5 sec"
     ]
    },
    {
     "name": "stdout",
     "output_type": "stream",
     "text": [
      "\n"
     ]
    },
    {
     "name": "stdout",
     "output_type": "stream",
     "text": [
      "\tPRT,  4th phase (13Jun2020 - 24Jun2020): finished  401 trials in 0 min 10 sec"
     ]
    },
    {
     "name": "stdout",
     "output_type": "stream",
     "text": [
      "\n"
     ]
    },
    {
     "name": "stdout",
     "output_type": "stream",
     "text": [
      "\tBHR,  1st phase (06May2020 - 30May2020): finished 1759 trials in 1 min  0 sec"
     ]
    },
    {
     "name": "stdout",
     "output_type": "stream",
     "text": [
      "\n"
     ]
    },
    {
     "name": "stdout",
     "output_type": "stream",
     "text": [
      "\tBHR,  2nd phase (31May2020 - 11Jun2020): finished 1772 trials in 1 min  0 sec"
     ]
    },
    {
     "name": "stdout",
     "output_type": "stream",
     "text": [
      "\n"
     ]
    },
    {
     "name": "stdout",
     "output_type": "stream",
     "text": [
      "\tMEX,  3rd phase (20Jun2020 - 30Jun2020): finished 1784 trials in 1 min  0 sec"
     ]
    },
    {
     "name": "stdout",
     "output_type": "stream",
     "text": [
      "\n"
     ]
    },
    {
     "name": "stdout",
     "output_type": "stream",
     "text": [
      "\tKWT,  8th phase (07Aug2020 - 17Aug2020): finished  217 trials in 0 min  5 sec"
     ]
    },
    {
     "name": "stdout",
     "output_type": "stream",
     "text": [
      "\n"
     ]
    },
    {
     "name": "stdout",
     "output_type": "stream",
     "text": [
      "\tSEN,  9th phase (05Aug2020 - 14Aug2020): finished  590 trials in 0 min 15 sec"
     ]
    },
    {
     "name": "stdout",
     "output_type": "stream",
     "text": [
      "\n"
     ]
    },
    {
     "name": "stdout",
     "output_type": "stream",
     "text": [
      "\tITA,  3rd phase (12Apr2020 - 20Apr2020): finished  206 trials in 0 min  5 sec"
     ]
    },
    {
     "name": "stdout",
     "output_type": "stream",
     "text": [
      "\n"
     ]
    },
    {
     "name": "stdout",
     "output_type": "stream",
     "text": [
      "\tMDA,  4th phase (25Jun2020 - 08Jul2020): finished 1722 trials in 1 min  0 sec"
     ]
    },
    {
     "name": "stdout",
     "output_type": "stream",
     "text": [
      "\n"
     ]
    },
    {
     "name": "stdout",
     "output_type": "stream",
     "text": [
      "\tGIN,  4th phase (31May2020 - 14Jun2020): finished 1723 trials in 1 min  0 sec"
     ]
    },
    {
     "name": "stdout",
     "output_type": "stream",
     "text": [
      "\n"
     ]
    },
    {
     "name": "stdout",
     "output_type": "stream",
     "text": [
      "\tPOL,  2nd phase (13May2020 - 28May2020): finished  562 trials in 0 min 15 sec"
     ]
    },
    {
     "name": "stdout",
     "output_type": "stream",
     "text": [
      "\n"
     ]
    },
    {
     "name": "stdout",
     "output_type": "stream",
     "text": [
      "\tGIN,  1st phase (02May2020 - 11May2020): finished 1726 trials in 1 min  0 sec"
     ]
    },
    {
     "name": "stdout",
     "output_type": "stream",
     "text": [
      "\n"
     ]
    },
    {
     "name": "stdout",
     "output_type": "stream",
     "text": [
      "\tMEX,  5th phase (11Jul2020 - 18Jul2020): finished  205 trials in 0 min  5 sec"
     ]
    },
    {
     "name": "stdout",
     "output_type": "stream",
     "text": [
      "\n"
     ]
    },
    {
     "name": "stdout",
     "output_type": "stream",
     "text": [
      "\tMDA,  1st phase (11May2020 - 01Jun2020): finished 1704 trials in 1 min  0 sec"
     ]
    },
    {
     "name": "stdout",
     "output_type": "stream",
     "text": [
      "\n"
     ]
    },
    {
     "name": "stdout",
     "output_type": "stream",
     "text": [
      "\tARE,  3rd phase (26May2020 - 03Jun2020): finished 1030 trials in 0 min 40 sec"
     ]
    },
    {
     "name": "stdout",
     "output_type": "stream",
     "text": [
      "\n"
     ]
    },
    {
     "name": "stdout",
     "output_type": "stream",
     "text": [
      "\tMDA,  2nd phase (02Jun2020 - 14Jun2020): finished 1494 trials in 1 min  0 sec"
     ]
    },
    {
     "name": "stdout",
     "output_type": "stream",
     "text": [
      "\n"
     ]
    },
    {
     "name": "stdout",
     "output_type": "stream",
     "text": [
      "\tGIN, 10th phase (16Aug2020 - 30Aug2020): finished 1414 trials in 1 min  0 sec"
     ]
    },
    {
     "name": "stdout",
     "output_type": "stream",
     "text": [
      "\n"
     ]
    },
    {
     "name": "stdout",
     "output_type": "stream",
     "text": [
      "\tUSA,  2nd phase (13May2020 - 04Jun2020): finished 1257 trials in 1 min  0 sec"
     ]
    },
    {
     "name": "stdout",
     "output_type": "stream",
     "text": [
      "\n"
     ]
    },
    {
     "name": "stdout",
     "output_type": "stream",
     "text": [
      "\tPOL,  5th phase (01Jul2020 - 14Jul2020): finished  144 trials in 0 min  5 sec"
     ]
    },
    {
     "name": "stdout",
     "output_type": "stream",
     "text": [
      "\n"
     ]
    },
    {
     "name": "stdout",
     "output_type": "stream",
     "text": [
      "\tIRN,  2nd phase (17Apr2020 - 10May2020): finished  160 trials in 0 min  5 sec"
     ]
    },
    {
     "name": "stdout",
     "output_type": "stream",
     "text": [
      "\n"
     ]
    },
    {
     "name": "stdout",
     "output_type": "stream",
     "text": [
      "\tUSA,  3rd phase (05Jun2020 - 23Jun2020): finished  274 trials in 0 min 10 sec"
     ]
    },
    {
     "name": "stdout",
     "output_type": "stream",
     "text": [
      "\n"
     ]
    },
    {
     "name": "stdout",
     "output_type": "stream",
     "text": [
      "\tITA,  8th phase (14Jun2020 - 03Aug2020): finished  919 trials in 0 min 40 sec"
     ]
    },
    {
     "name": "stdout",
     "output_type": "stream",
     "text": [
      "\n"
     ]
    },
    {
     "name": "stdout",
     "output_type": "stream",
     "text": [
      "\tRUS,  2nd phase (23May2020 - 05Jun2020): finished 1332 trials in 1 min  0 sec"
     ]
    },
    {
     "name": "stdout",
     "output_type": "stream",
     "text": [
      "\n"
     ]
    },
    {
     "name": "stdout",
     "output_type": "stream",
     "text": [
      "\tIRN,  5th phase (13Jun2020 - 25Jun2020): finished  243 trials in 0 min 10 sec"
     ]
    },
    {
     "name": "stdout",
     "output_type": "stream",
     "text": [
      "\n"
     ]
    },
    {
     "name": "stdout",
     "output_type": "stream",
     "text": [
      "\tKWT,  1st phase (12May2020 - 24May2020): finished 1301 trials in 1 min  0 sec"
     ]
    },
    {
     "name": "stdout",
     "output_type": "stream",
     "text": [
      "\n"
     ]
    },
    {
     "name": "stdout",
     "output_type": "stream",
     "text": [
      "\tMDA,  5th phase (09Jul2020 - 20Jul2020): finished  395 trials in 0 min 15 sec"
     ]
    },
    {
     "name": "stdout",
     "output_type": "stream",
     "text": [
      "\n"
     ]
    },
    {
     "name": "stdout",
     "output_type": "stream",
     "text": [
      "\tUSA,  6th phase (16Jul2020 - 23Jul2020): finished  183 trials in 0 min  5 sec"
     ]
    },
    {
     "name": "stdout",
     "output_type": "stream",
     "text": [
      "\n"
     ]
    },
    {
     "name": "stdout",
     "output_type": "stream",
     "text": [
      "\tMMR,  1st phase (29Apr2020 - 17May2020): finished 1340 trials in 1 min  0 sec"
     ]
    },
    {
     "name": "stdout",
     "output_type": "stream",
     "text": [
      "\n"
     ]
    },
    {
     "name": "stdout",
     "output_type": "stream",
     "text": [
      "\tSEN,  6th phase (02Jul2020 - 12Jul2020): finished 1392 trials in 1 min  0 sec"
     ]
    },
    {
     "name": "stdout",
     "output_type": "stream",
     "text": [
      "\n"
     ]
    },
    {
     "name": "stdout",
     "output_type": "stream",
     "text": [
      "\tSEN,  3rd phase (29May2020 - 09Jun2020): finished 1308 trials in 1 min  0 sec"
     ]
    },
    {
     "name": "stdout",
     "output_type": "stream",
     "text": [
      "\n"
     ]
    },
    {
     "name": "stdout",
     "output_type": "stream",
     "text": [
      "\tGIN,  2nd phase (12May2020 - 22May2020): finished 1329 trials in 1 min  0 sec"
     ]
    },
    {
     "name": "stdout",
     "output_type": "stream",
     "text": [
      "\n"
     ]
    },
    {
     "name": "stdout",
     "output_type": "stream",
     "text": [
      "\tUSA,  8th phase (09Aug2020 - 17Aug2020): finished  633 trials in 0 min 25 sec"
     ]
    },
    {
     "name": "stdout",
     "output_type": "stream",
     "text": [
      "\n"
     ]
    },
    {
     "name": "stdout",
     "output_type": "stream",
     "text": [
      "\tPRT,  6th phase (06Jul2020 - 14Jul2020): finished  255 trials in 0 min 10 sec"
     ]
    },
    {
     "name": "stdout",
     "output_type": "stream",
     "text": [
      "\n"
     ]
    },
    {
     "name": "stdout",
     "output_type": "stream",
     "text": [
      "\tTUR,  8th phase (31Jul2020 - 14Aug2020): finished  229 trials in 0 min 10 sec"
     ]
    },
    {
     "name": "stdout",
     "output_type": "stream",
     "text": [
      "\n"
     ]
    },
    {
     "name": "stdout",
     "output_type": "stream",
     "text": [
      "\tPOL,  7th phase (28Jul2020 - 05Aug2020): finished  218 trials in 0 min 10 sec"
     ]
    },
    {
     "name": "stdout",
     "output_type": "stream",
     "text": [
      "\n"
     ]
    },
    {
     "name": "stdout",
     "output_type": "stream",
     "text": [
      "\tBHR,  7th phase (16Jul2020 - 25Jul2020): finished  123 trials in 0 min  5 sec"
     ]
    },
    {
     "name": "stdout",
     "output_type": "stream",
     "text": [
      "\n"
     ]
    },
    {
     "name": "stdout",
     "output_type": "stream",
     "text": [
      "\tITA,  7th phase (22May2020 - 13Jun2020): finished  466 trials in 0 min 20 sec"
     ]
    },
    {
     "name": "stdout",
     "output_type": "stream",
     "text": [
      "\n"
     ]
    },
    {
     "name": "stdout",
     "output_type": "stream",
     "text": [
      "\tBHR,  6th phase (08Jul2020 - 15Jul2020): finished 1195 trials in 1 min  0 sec"
     ]
    },
    {
     "name": "stdout",
     "output_type": "stream",
     "text": [
      "\n"
     ]
    },
    {
     "name": "stdout",
     "output_type": "stream",
     "text": [
      "\tSEN,  4th phase (10Jun2020 - 19Jun2020): finished 1232 trials in 1 min  0 sec"
     ]
    },
    {
     "name": "stdout",
     "output_type": "stream",
     "text": [
      "\n"
     ]
    },
    {
     "name": "stdout",
     "output_type": "stream",
     "text": [
      "\tPOL,  3rd phase (29May2020 - 11Jun2020): finished  260 trials in 0 min 10 sec"
     ]
    },
    {
     "name": "stdout",
     "output_type": "stream",
     "text": [
      "\n"
     ]
    },
    {
     "name": "stdout",
     "output_type": "stream",
     "text": [
      "\tFRA,  9th phase (11Aug2020 - 30Aug2020): finished  465 trials in 0 min 20 sec"
     ]
    },
    {
     "name": "stdout",
     "output_type": "stream",
     "text": [
      "\n"
     ]
    },
    {
     "name": "stdout",
     "output_type": "stream",
     "text": [
      "\tRUS,  7th phase (21Jul2020 - 31Jul2020): finished 1227 trials in 1 min  0 sec"
     ]
    },
    {
     "name": "stdout",
     "output_type": "stream",
     "text": [
      "\n"
     ]
    },
    {
     "name": "stdout",
     "output_type": "stream",
     "text": [
      "\tITA,  9th phase (04Aug2020 - 30Aug2020): finished 1190 trials in 1 min  0 sec"
     ]
    },
    {
     "name": "stdout",
     "output_type": "stream",
     "text": [
      "\n"
     ]
    },
    {
     "name": "stdout",
     "output_type": "stream",
     "text": [
      "\tMMR,  9th phase (17Aug2020 - 30Aug2020): finished 1203 trials in 1 min  0 sec"
     ]
    },
    {
     "name": "stdout",
     "output_type": "stream",
     "text": [
      "\n"
     ]
    },
    {
     "name": "stdout",
     "output_type": "stream",
     "text": [
      "\tMMR,  6th phase (02Jul2020 - 09Jul2020): finished  142 trials in 0 min  5 sec"
     ]
    },
    {
     "name": "stdout",
     "output_type": "stream",
     "text": [
      "\n"
     ]
    },
    {
     "name": "stdout",
     "output_type": "stream",
     "text": [
      "\tRUS,  3rd phase (06Jun2020 - 20Jun2020): finished 1219 trials in 1 min  0 sec"
     ]
    },
    {
     "name": "stdout",
     "output_type": "stream",
     "text": [
      "\n"
     ]
    },
    {
     "name": "stdout",
     "output_type": "stream",
     "text": [
      "\tTUR,  6th phase (29Jun2020 - 13Jul2020): finished  380 trials in 0 min 15 sec"
     ]
    },
    {
     "name": "stdout",
     "output_type": "stream",
     "text": [
      "\n"
     ]
    },
    {
     "name": "stdout",
     "output_type": "stream",
     "text": [
      "\tRUS,  6th phase (11Jul2020 - 20Jul2020): finished 1234 trials in 1 min  0 sec"
     ]
    },
    {
     "name": "stdout",
     "output_type": "stream",
     "text": [
      "\n"
     ]
    },
    {
     "name": "stdout",
     "output_type": "stream",
     "text": [
      "\tTUR,  3rd phase (15May2020 - 28May2020): finished  252 trials in 0 min 10 sec"
     ]
    },
    {
     "name": "stdout",
     "output_type": "stream",
     "text": [
      "\n"
     ]
    },
    {
     "name": "stdout",
     "output_type": "stream",
     "text": [
      "\tFRA,  1st phase (25Mar2020 - 02Apr2020): finished 1208 trials in 1 min  0 sec"
     ]
    },
    {
     "name": "stdout",
     "output_type": "stream",
     "text": [
      "\n"
     ]
    },
    {
     "name": "stdout",
     "output_type": "stream",
     "text": [
      "\tITA,  6th phase (10May2020 - 21May2020): finished  346 trials in 0 min 10 sec"
     ]
    },
    {
     "name": "stdout",
     "output_type": "stream",
     "text": [
      "\n"
     ]
    },
    {
     "name": "stdout",
     "output_type": "stream",
     "text": [
      "\tBHR,  4th phase (21Jun2020 - 28Jun2020): finished 1382 trials in 1 min  0 sec"
     ]
    },
    {
     "name": "stdout",
     "output_type": "stream",
     "text": [
      "\n"
     ]
    },
    {
     "name": "stdout",
     "output_type": "stream",
     "text": [
      "\tITA,  1st phase (23Mar2020 - 31Mar2020): finished 1680 trials in 1 min  0 sec"
     ]
    },
    {
     "name": "stdout",
     "output_type": "stream",
     "text": [
      "\n"
     ]
    },
    {
     "name": "stdout",
     "output_type": "stream",
     "text": [
      "\tGIN,  3rd phase (23May2020 - 30May2020): finished 1718 trials in 1 min  0 sec"
     ]
    },
    {
     "name": "stdout",
     "output_type": "stream",
     "text": [
      "\n"
     ]
    },
    {
     "name": "stdout",
     "output_type": "stream",
     "text": [
      "\tPRT,  1st phase (04May2020 - 17May2020): finished 1884 trials in 1 min  0 sec"
     ]
    },
    {
     "name": "stdout",
     "output_type": "stream",
     "text": [
      "\n"
     ]
    },
    {
     "name": "stdout",
     "output_type": "stream",
     "text": [
      "\tUSA,  5th phase (07Jul2020 - 15Jul2020): finished  236 trials in 0 min  5 sec"
     ]
    },
    {
     "name": "stdout",
     "output_type": "stream",
     "text": [
      "\n"
     ]
    },
    {
     "name": "stdout",
     "output_type": "stream",
     "text": [
      "\tRUS,  4th phase (21Jun2020 - 30Jun2020): finished 1942 trials in 1 min  0 sec"
     ]
    },
    {
     "name": "stdout",
     "output_type": "stream",
     "text": [
      "\n"
     ]
    },
    {
     "name": "stdout",
     "output_type": "stream",
     "text": [
      "\tITA,  2nd phase (01Apr2020 - 11Apr2020): finished 1069 trials in 0 min 25 sec"
     ]
    },
    {
     "name": "stdout",
     "output_type": "stream",
     "text": [
      "\n"
     ]
    },
    {
     "name": "stdout",
     "output_type": "stream",
     "text": [
      "\tUSA,  4th phase (24Jun2020 - 06Jul2020): finished 2092 trials in 1 min  0 sec"
     ]
    },
    {
     "name": "stdout",
     "output_type": "stream",
     "text": [
      "\n"
     ]
    },
    {
     "name": "stdout",
     "output_type": "stream",
     "text": [
      "\tPRT,  8th phase (28Jul2020 - 12Aug2020): finished  693 trials in 0 min 15 sec"
     ]
    },
    {
     "name": "stdout",
     "output_type": "stream",
     "text": [
      "\n"
     ]
    },
    {
     "name": "stdout",
     "output_type": "stream",
     "text": [
      "\tMMR,  2nd phase (18May2020 - 25May2020): finished  270 trials in 0 min  5 sec"
     ]
    },
    {
     "name": "stdout",
     "output_type": "stream",
     "text": [
      "\n"
     ]
    },
    {
     "name": "stdout",
     "output_type": "stream",
     "text": [
      "\tPRT,  9th phase (13Aug2020 - 30Aug2020): finished 2143 trials in 1 min  0 sec"
     ]
    },
    {
     "name": "stdout",
     "output_type": "stream",
     "text": [
      "\n"
     ]
    },
    {
     "name": "stdout",
     "output_type": "stream",
     "text": [
      "Completed optimization. Total: 23 min 20 sec"
     ]
    },
    {
     "name": "stdout",
     "output_type": "stream",
     "text": [
      "\n"
     ]
    }
   ],
   "source": [
    "# Parameter estimation with SIR-F model\n",
    "analyser.estimate(cs.SIRF)"
   ]
  },
  {
   "cell_type": "code",
   "execution_count": 12,
   "metadata": {
    "collapsed": false
   },
   "outputs": [
    {
     "data": {
      "text/html": [
       "<div>\n",
       "<style scoped>\n",
       "    .dataframe tbody tr th:only-of-type {\n",
       "        vertical-align: middle;\n",
       "    }\n",
       "\n",
       "    .dataframe tbody tr th {\n",
       "        vertical-align: top;\n",
       "    }\n",
       "\n",
       "    .dataframe thead th {\n",
       "        text-align: right;\n",
       "    }\n",
       "</style>\n",
       "<table border=\"1\" class=\"dataframe\">\n",
       "  <thead>\n",
       "    <tr style=\"text-align: right;\">\n",
       "      <th></th>\n",
       "      <th></th>\n",
       "      <th>Type</th>\n",
       "      <th>Start</th>\n",
       "      <th>End</th>\n",
       "      <th>Population</th>\n",
       "      <th>ODE</th>\n",
       "      <th>Rt</th>\n",
       "      <th>theta</th>\n",
       "      <th>kappa</th>\n",
       "      <th>rho</th>\n",
       "      <th>sigma</th>\n",
       "      <th>tau</th>\n",
       "      <th>alpha1 [-]</th>\n",
       "      <th>1/beta [day]</th>\n",
       "      <th>1/gamma [day]</th>\n",
       "      <th>1/alpha2 [day]</th>\n",
       "      <th>RMSLE</th>\n",
       "      <th>Trials</th>\n",
       "      <th>Runtime</th>\n",
       "    </tr>\n",
       "    <tr>\n",
       "      <th>Country</th>\n",
       "      <th>Phase</th>\n",
       "      <th></th>\n",
       "      <th></th>\n",
       "      <th></th>\n",
       "      <th></th>\n",
       "      <th></th>\n",
       "      <th></th>\n",
       "      <th></th>\n",
       "      <th></th>\n",
       "      <th></th>\n",
       "      <th></th>\n",
       "      <th></th>\n",
       "      <th></th>\n",
       "      <th></th>\n",
       "      <th></th>\n",
       "      <th></th>\n",
       "      <th></th>\n",
       "      <th></th>\n",
       "      <th></th>\n",
       "    </tr>\n",
       "  </thead>\n",
       "  <tbody>\n",
       "    <tr>\n",
       "      <th rowspan=\"10\" valign=\"top\">Iran</th>\n",
       "      <th>1st</th>\n",
       "      <td>Past</td>\n",
       "      <td>29Mar2020</td>\n",
       "      <td>16Apr2020</td>\n",
       "      <td>81800269</td>\n",
       "      <td>SIR-F</td>\n",
       "      <td>1.01</td>\n",
       "      <td>0.0512875</td>\n",
       "      <td>0.000464741</td>\n",
       "      <td>0.0185179</td>\n",
       "      <td>0.0169892</td>\n",
       "      <td>360</td>\n",
       "      <td>0.051</td>\n",
       "      <td>13</td>\n",
       "      <td>14</td>\n",
       "      <td>537</td>\n",
       "      <td>0.254746</td>\n",
       "      <td>1819</td>\n",
       "      <td>1 min  0 sec</td>\n",
       "    </tr>\n",
       "    <tr>\n",
       "      <th>2nd</th>\n",
       "      <td>Past</td>\n",
       "      <td>17Apr2020</td>\n",
       "      <td>10May2020</td>\n",
       "      <td>81800269</td>\n",
       "      <td>SIR-F</td>\n",
       "      <td>0.73</td>\n",
       "      <td>0.0205407</td>\n",
       "      <td>0.000862225</td>\n",
       "      <td>0.0182612</td>\n",
       "      <td>0.0236975</td>\n",
       "      <td>360</td>\n",
       "      <td>0.021</td>\n",
       "      <td>13</td>\n",
       "      <td>10</td>\n",
       "      <td>289</td>\n",
       "      <td>0.112466</td>\n",
       "      <td>160</td>\n",
       "      <td>0 min  5 sec</td>\n",
       "    </tr>\n",
       "    <tr>\n",
       "      <th>3rd</th>\n",
       "      <td>Past</td>\n",
       "      <td>11May2020</td>\n",
       "      <td>30May2020</td>\n",
       "      <td>81800269</td>\n",
       "      <td>SIR-F</td>\n",
       "      <td>1.37</td>\n",
       "      <td>0.00109344</td>\n",
       "      <td>0.000738645</td>\n",
       "      <td>0.0263177</td>\n",
       "      <td>0.0184966</td>\n",
       "      <td>360</td>\n",
       "      <td>0.001</td>\n",
       "      <td>9</td>\n",
       "      <td>13</td>\n",
       "      <td>338</td>\n",
       "      <td>0.0465841</td>\n",
       "      <td>1798</td>\n",
       "      <td>1 min  0 sec</td>\n",
       "    </tr>\n",
       "    <tr>\n",
       "      <th>4th</th>\n",
       "      <td>Past</td>\n",
       "      <td>31May2020</td>\n",
       "      <td>12Jun2020</td>\n",
       "      <td>81800269</td>\n",
       "      <td>-</td>\n",
       "      <td>-</td>\n",
       "      <td>-</td>\n",
       "      <td>-</td>\n",
       "      <td>-</td>\n",
       "      <td>-</td>\n",
       "      <td>-</td>\n",
       "      <td>-</td>\n",
       "      <td>-</td>\n",
       "      <td>-</td>\n",
       "      <td>-</td>\n",
       "      <td>-</td>\n",
       "      <td>-</td>\n",
       "      <td>-</td>\n",
       "    </tr>\n",
       "    <tr>\n",
       "      <th>5th</th>\n",
       "      <td>Past</td>\n",
       "      <td>13Jun2020</td>\n",
       "      <td>25Jun2020</td>\n",
       "      <td>81800269</td>\n",
       "      <td>SIR-F</td>\n",
       "      <td>1.06</td>\n",
       "      <td>0.0313393</td>\n",
       "      <td>0.000299114</td>\n",
       "      <td>0.0205242</td>\n",
       "      <td>0.0183969</td>\n",
       "      <td>360</td>\n",
       "      <td>0.031</td>\n",
       "      <td>12</td>\n",
       "      <td>13</td>\n",
       "      <td>835</td>\n",
       "      <td>0.0236095</td>\n",
       "      <td>243</td>\n",
       "      <td>0 min 10 sec</td>\n",
       "    </tr>\n",
       "    <tr>\n",
       "      <th>6th</th>\n",
       "      <td>Past</td>\n",
       "      <td>26Jun2020</td>\n",
       "      <td>06Jul2020</td>\n",
       "      <td>81800269</td>\n",
       "      <td>SIR-F</td>\n",
       "      <td>0.91</td>\n",
       "      <td>0.0357833</td>\n",
       "      <td>0.000531001</td>\n",
       "      <td>0.0228087</td>\n",
       "      <td>0.0235959</td>\n",
       "      <td>360</td>\n",
       "      <td>0.036</td>\n",
       "      <td>10</td>\n",
       "      <td>10</td>\n",
       "      <td>470</td>\n",
       "      <td>0.00931755</td>\n",
       "      <td>219</td>\n",
       "      <td>0 min  5 sec</td>\n",
       "    </tr>\n",
       "    <tr>\n",
       "      <th>7th</th>\n",
       "      <td>Past</td>\n",
       "      <td>07Jul2020</td>\n",
       "      <td>19Jul2020</td>\n",
       "      <td>81800269</td>\n",
       "      <td>SIR-F</td>\n",
       "      <td>0.89</td>\n",
       "      <td>0.0583092</td>\n",
       "      <td>0.000330383</td>\n",
       "      <td>0.0243697</td>\n",
       "      <td>0.0253292</td>\n",
       "      <td>360</td>\n",
       "      <td>0.058</td>\n",
       "      <td>10</td>\n",
       "      <td>9</td>\n",
       "      <td>756</td>\n",
       "      <td>0.0323708</td>\n",
       "      <td>220</td>\n",
       "      <td>0 min  5 sec</td>\n",
       "    </tr>\n",
       "    <tr>\n",
       "      <th>8th</th>\n",
       "      <td>Past</td>\n",
       "      <td>20Jul2020</td>\n",
       "      <td>31Jul2020</td>\n",
       "      <td>81800269</td>\n",
       "      <td>SIR-F</td>\n",
       "      <td>1.09</td>\n",
       "      <td>0.0517971</td>\n",
       "      <td>0.000918004</td>\n",
       "      <td>0.0283009</td>\n",
       "      <td>0.0237999</td>\n",
       "      <td>360</td>\n",
       "      <td>0.052</td>\n",
       "      <td>8</td>\n",
       "      <td>10</td>\n",
       "      <td>272</td>\n",
       "      <td>0.0117827</td>\n",
       "      <td>224</td>\n",
       "      <td>0 min  5 sec</td>\n",
       "    </tr>\n",
       "    <tr>\n",
       "      <th>9th</th>\n",
       "      <td>Past</td>\n",
       "      <td>01Aug2020</td>\n",
       "      <td>13Aug2020</td>\n",
       "      <td>81800269</td>\n",
       "      <td>SIR-F</td>\n",
       "      <td>1.03</td>\n",
       "      <td>0.0346642</td>\n",
       "      <td>0.000920827</td>\n",
       "      <td>0.0261933</td>\n",
       "      <td>0.0236341</td>\n",
       "      <td>360</td>\n",
       "      <td>0.035</td>\n",
       "      <td>9</td>\n",
       "      <td>10</td>\n",
       "      <td>271</td>\n",
       "      <td>0.0158002</td>\n",
       "      <td>210</td>\n",
       "      <td>0 min  5 sec</td>\n",
       "    </tr>\n",
       "    <tr>\n",
       "      <th>10th</th>\n",
       "      <td>Past</td>\n",
       "      <td>14Aug2020</td>\n",
       "      <td>30Aug2020</td>\n",
       "      <td>81800269</td>\n",
       "      <td>SIR-F</td>\n",
       "      <td>1.19</td>\n",
       "      <td>0.0320716</td>\n",
       "      <td>0.000478595</td>\n",
       "      <td>0.0190777</td>\n",
       "      <td>0.0150495</td>\n",
       "      <td>360</td>\n",
       "      <td>0.032</td>\n",
       "      <td>13</td>\n",
       "      <td>16</td>\n",
       "      <td>522</td>\n",
       "      <td>0.0135522</td>\n",
       "      <td>202</td>\n",
       "      <td>0 min  5 sec</td>\n",
       "    </tr>\n",
       "    <tr>\n",
       "      <th rowspan=\"10\" valign=\"top\">Guinea</th>\n",
       "      <th>1st</th>\n",
       "      <td>Past</td>\n",
       "      <td>02May2020</td>\n",
       "      <td>11May2020</td>\n",
       "      <td>12414318</td>\n",
       "      <td>SIR-F</td>\n",
       "      <td>1.79</td>\n",
       "      <td>0.000437189</td>\n",
       "      <td>9.8046e-05</td>\n",
       "      <td>0.0126597</td>\n",
       "      <td>0.00699089</td>\n",
       "      <td>360</td>\n",
       "      <td>0</td>\n",
       "      <td>19</td>\n",
       "      <td>35</td>\n",
       "      <td>2549</td>\n",
       "      <td>0.0738058</td>\n",
       "      <td>1726</td>\n",
       "      <td>1 min  0 sec</td>\n",
       "    </tr>\n",
       "    <tr>\n",
       "      <th>2nd</th>\n",
       "      <td>Past</td>\n",
       "      <td>12May2020</td>\n",
       "      <td>22May2020</td>\n",
       "      <td>12414318</td>\n",
       "      <td>SIR-F</td>\n",
       "      <td>0.7</td>\n",
       "      <td>0.0518286</td>\n",
       "      <td>1.88938e-06</td>\n",
       "      <td>0.0030915</td>\n",
       "      <td>0.00416179</td>\n",
       "      <td>360</td>\n",
       "      <td>0.052</td>\n",
       "      <td>80</td>\n",
       "      <td>60</td>\n",
       "      <td>132318</td>\n",
       "      <td>0.211549</td>\n",
       "      <td>1329</td>\n",
       "      <td>1 min  0 sec</td>\n",
       "    </tr>\n",
       "    <tr>\n",
       "      <th>3rd</th>\n",
       "      <td>Past</td>\n",
       "      <td>23May2020</td>\n",
       "      <td>30May2020</td>\n",
       "      <td>12414318</td>\n",
       "      <td>SIR-F</td>\n",
       "      <td>1.56</td>\n",
       "      <td>0.00143149</td>\n",
       "      <td>5.43317e-05</td>\n",
       "      <td>0.00729229</td>\n",
       "      <td>0.00460796</td>\n",
       "      <td>360</td>\n",
       "      <td>0.001</td>\n",
       "      <td>34</td>\n",
       "      <td>54</td>\n",
       "      <td>4601</td>\n",
       "      <td>0.0466398</td>\n",
       "      <td>1718</td>\n",
       "      <td>1 min  0 sec</td>\n",
       "    </tr>\n",
       "    <tr>\n",
       "      <th>4th</th>\n",
       "      <td>Past</td>\n",
       "      <td>31May2020</td>\n",
       "      <td>14Jun2020</td>\n",
       "      <td>12414318</td>\n",
       "      <td>SIR-F</td>\n",
       "      <td>0.48</td>\n",
       "      <td>0.000145272</td>\n",
       "      <td>1.80784e-06</td>\n",
       "      <td>0.0086671</td>\n",
       "      <td>0.0181025</td>\n",
       "      <td>360</td>\n",
       "      <td>0</td>\n",
       "      <td>28</td>\n",
       "      <td>13</td>\n",
       "      <td>138286</td>\n",
       "      <td>0.111403</td>\n",
       "      <td>1723</td>\n",
       "      <td>1 min  0 sec</td>\n",
       "    </tr>\n",
       "    <tr>\n",
       "      <th>5th</th>\n",
       "      <td>Past</td>\n",
       "      <td>15Jun2020</td>\n",
       "      <td>01Jul2020</td>\n",
       "      <td>12414318</td>\n",
       "      <td>SIR-F</td>\n",
       "      <td>0.66</td>\n",
       "      <td>5.43964e-05</td>\n",
       "      <td>6.0048e-05</td>\n",
       "      <td>0.00795811</td>\n",
       "      <td>0.0120753</td>\n",
       "      <td>360</td>\n",
       "      <td>0</td>\n",
       "      <td>31</td>\n",
       "      <td>20</td>\n",
       "      <td>4163</td>\n",
       "      <td>0.0942252</td>\n",
       "      <td>1889</td>\n",
       "      <td>1 min  0 sec</td>\n",
       "    </tr>\n",
       "    <tr>\n",
       "      <th>6th</th>\n",
       "      <td>Past</td>\n",
       "      <td>02Jul2020</td>\n",
       "      <td>13Jul2020</td>\n",
       "      <td>12414318</td>\n",
       "      <td>SIR-F</td>\n",
       "      <td>1.42</td>\n",
       "      <td>1.08381e-05</td>\n",
       "      <td>9.89451e-05</td>\n",
       "      <td>0.0145721</td>\n",
       "      <td>0.0101386</td>\n",
       "      <td>360</td>\n",
       "      <td>0</td>\n",
       "      <td>17</td>\n",
       "      <td>24</td>\n",
       "      <td>2526</td>\n",
       "      <td>0.0268842</td>\n",
       "      <td>1838</td>\n",
       "      <td>1 min  0 sec</td>\n",
       "    </tr>\n",
       "    <tr>\n",
       "      <th>7th</th>\n",
       "      <td>Past</td>\n",
       "      <td>14Jul2020</td>\n",
       "      <td>23Jul2020</td>\n",
       "      <td>12414318</td>\n",
       "      <td>SIR-F</td>\n",
       "      <td>0.59</td>\n",
       "      <td>1.08411e-05</td>\n",
       "      <td>9.89341e-05</td>\n",
       "      <td>0.0160094</td>\n",
       "      <td>0.0272594</td>\n",
       "      <td>360</td>\n",
       "      <td>0</td>\n",
       "      <td>15</td>\n",
       "      <td>9</td>\n",
       "      <td>2526</td>\n",
       "      <td>0.0633757</td>\n",
       "      <td>1810</td>\n",
       "      <td>1 min  0 sec</td>\n",
       "    </tr>\n",
       "    <tr>\n",
       "      <th>8th</th>\n",
       "      <td>Past</td>\n",
       "      <td>24Jul2020</td>\n",
       "      <td>05Aug2020</td>\n",
       "      <td>12414318</td>\n",
       "      <td>SIR-F</td>\n",
       "      <td>1.2</td>\n",
       "      <td>0.000130277</td>\n",
       "      <td>0.000167977</td>\n",
       "      <td>0.0199537</td>\n",
       "      <td>0.0164998</td>\n",
       "      <td>360</td>\n",
       "      <td>0</td>\n",
       "      <td>12</td>\n",
       "      <td>15</td>\n",
       "      <td>1488</td>\n",
       "      <td>0.0473017</td>\n",
       "      <td>405</td>\n",
       "      <td>0 min 10 sec</td>\n",
       "    </tr>\n",
       "    <tr>\n",
       "      <th>9th</th>\n",
       "      <td>Past</td>\n",
       "      <td>06Aug2020</td>\n",
       "      <td>15Aug2020</td>\n",
       "      <td>12414318</td>\n",
       "      <td>SIR-F</td>\n",
       "      <td>1.55</td>\n",
       "      <td>0.00140146</td>\n",
       "      <td>1.85739e-06</td>\n",
       "      <td>0.0186479</td>\n",
       "      <td>0.0120444</td>\n",
       "      <td>360</td>\n",
       "      <td>0.001</td>\n",
       "      <td>13</td>\n",
       "      <td>20</td>\n",
       "      <td>134597</td>\n",
       "      <td>0.0304204</td>\n",
       "      <td>231</td>\n",
       "      <td>0 min  5 sec</td>\n",
       "    </tr>\n",
       "    <tr>\n",
       "      <th>10th</th>\n",
       "      <td>Past</td>\n",
       "      <td>16Aug2020</td>\n",
       "      <td>30Aug2020</td>\n",
       "      <td>12414318</td>\n",
       "      <td>SIR-F</td>\n",
       "      <td>0.84</td>\n",
       "      <td>8.62303e-05</td>\n",
       "      <td>0.00014412</td>\n",
       "      <td>0.0124398</td>\n",
       "      <td>0.0146127</td>\n",
       "      <td>360</td>\n",
       "      <td>0</td>\n",
       "      <td>20</td>\n",
       "      <td>17</td>\n",
       "      <td>1734</td>\n",
       "      <td>0.0916648</td>\n",
       "      <td>1414</td>\n",
       "      <td>1 min  0 sec</td>\n",
       "    </tr>\n",
       "    <tr>\n",
       "      <th rowspan=\"10\" valign=\"top\">Bahrain</th>\n",
       "      <th>1st</th>\n",
       "      <td>Past</td>\n",
       "      <td>06May2020</td>\n",
       "      <td>30May2020</td>\n",
       "      <td>1569439</td>\n",
       "      <td>SIR-F</td>\n",
       "      <td>1.86</td>\n",
       "      <td>0.00111161</td>\n",
       "      <td>1.03678e-05</td>\n",
       "      <td>0.0176705</td>\n",
       "      <td>0.00945756</td>\n",
       "      <td>360</td>\n",
       "      <td>0.001</td>\n",
       "      <td>14</td>\n",
       "      <td>26</td>\n",
       "      <td>24113</td>\n",
       "      <td>0.298167</td>\n",
       "      <td>1759</td>\n",
       "      <td>1 min  0 sec</td>\n",
       "    </tr>\n",
       "    <tr>\n",
       "      <th>2nd</th>\n",
       "      <td>Past</td>\n",
       "      <td>31May2020</td>\n",
       "      <td>11Jun2020</td>\n",
       "      <td>1569439</td>\n",
       "      <td>SIR-F</td>\n",
       "      <td>1.19</td>\n",
       "      <td>0.00108848</td>\n",
       "      <td>2.60846e-05</td>\n",
       "      <td>0.0237193</td>\n",
       "      <td>0.0198848</td>\n",
       "      <td>360</td>\n",
       "      <td>0.001</td>\n",
       "      <td>10</td>\n",
       "      <td>12</td>\n",
       "      <td>9584</td>\n",
       "      <td>0.0678008</td>\n",
       "      <td>1772</td>\n",
       "      <td>1 min  0 sec</td>\n",
       "    </tr>\n",
       "    <tr>\n",
       "      <th>3rd</th>\n",
       "      <td>Past</td>\n",
       "      <td>12Jun2020</td>\n",
       "      <td>20Jun2020</td>\n",
       "      <td>1569439</td>\n",
       "      <td>SIR-F</td>\n",
       "      <td>1.1</td>\n",
       "      <td>0.00220653</td>\n",
       "      <td>9.34559e-05</td>\n",
       "      <td>0.0234495</td>\n",
       "      <td>0.0211901</td>\n",
       "      <td>360</td>\n",
       "      <td>0.002</td>\n",
       "      <td>10</td>\n",
       "      <td>11</td>\n",
       "      <td>2675</td>\n",
       "      <td>0.0266207</td>\n",
       "      <td>233</td>\n",
       "      <td>0 min  5 sec</td>\n",
       "    </tr>\n",
       "    <tr>\n",
       "      <th>4th</th>\n",
       "      <td>Past</td>\n",
       "      <td>21Jun2020</td>\n",
       "      <td>28Jun2020</td>\n",
       "      <td>1569439</td>\n",
       "      <td>SIR-F</td>\n",
       "      <td>1.1</td>\n",
       "      <td>0.00034297</td>\n",
       "      <td>7.91242e-05</td>\n",
       "      <td>0.0295616</td>\n",
       "      <td>0.0268356</td>\n",
       "      <td>360</td>\n",
       "      <td>0</td>\n",
       "      <td>8</td>\n",
       "      <td>9</td>\n",
       "      <td>3159</td>\n",
       "      <td>0.0304475</td>\n",
       "      <td>1382</td>\n",
       "      <td>1 min  0 sec</td>\n",
       "    </tr>\n",
       "    <tr>\n",
       "      <th>5th</th>\n",
       "      <td>Past</td>\n",
       "      <td>29Jun2020</td>\n",
       "      <td>07Jul2020</td>\n",
       "      <td>1569439</td>\n",
       "      <td>SIR-F</td>\n",
       "      <td>0.9</td>\n",
       "      <td>0.000433256</td>\n",
       "      <td>9.80641e-05</td>\n",
       "      <td>0.0273549</td>\n",
       "      <td>0.0301332</td>\n",
       "      <td>360</td>\n",
       "      <td>0</td>\n",
       "      <td>9</td>\n",
       "      <td>8</td>\n",
       "      <td>2549</td>\n",
       "      <td>0.0250595</td>\n",
       "      <td>1803</td>\n",
       "      <td>1 min  0 sec</td>\n",
       "    </tr>\n",
       "    <tr>\n",
       "      <th>6th</th>\n",
       "      <td>Past</td>\n",
       "      <td>08Jul2020</td>\n",
       "      <td>15Jul2020</td>\n",
       "      <td>1569439</td>\n",
       "      <td>SIR-F</td>\n",
       "      <td>0.85</td>\n",
       "      <td>0.000896115</td>\n",
       "      <td>7.94089e-05</td>\n",
       "      <td>0.0293127</td>\n",
       "      <td>0.0343311</td>\n",
       "      <td>360</td>\n",
       "      <td>0.001</td>\n",
       "      <td>8</td>\n",
       "      <td>7</td>\n",
       "      <td>3148</td>\n",
       "      <td>0.0222654</td>\n",
       "      <td>1195</td>\n",
       "      <td>1 min  0 sec</td>\n",
       "    </tr>\n",
       "    <tr>\n",
       "      <th>7th</th>\n",
       "      <td>Past</td>\n",
       "      <td>16Jul2020</td>\n",
       "      <td>25Jul2020</td>\n",
       "      <td>1569439</td>\n",
       "      <td>SIR-F</td>\n",
       "      <td>0.93</td>\n",
       "      <td>0.000549683</td>\n",
       "      <td>0.000109479</td>\n",
       "      <td>0.0299592</td>\n",
       "      <td>0.0320493</td>\n",
       "      <td>360</td>\n",
       "      <td>0.001</td>\n",
       "      <td>8</td>\n",
       "      <td>7</td>\n",
       "      <td>2283</td>\n",
       "      <td>0.0413332</td>\n",
       "      <td>123</td>\n",
       "      <td>0 min  5 sec</td>\n",
       "    </tr>\n",
       "    <tr>\n",
       "      <th>8th</th>\n",
       "      <td>Past</td>\n",
       "      <td>26Jul2020</td>\n",
       "      <td>05Aug2020</td>\n",
       "      <td>1569439</td>\n",
       "      <td>SIR-F</td>\n",
       "      <td>0.95</td>\n",
       "      <td>0.000892158</td>\n",
       "      <td>7.11256e-05</td>\n",
       "      <td>0.0306202</td>\n",
       "      <td>0.0321659</td>\n",
       "      <td>360</td>\n",
       "      <td>0.001</td>\n",
       "      <td>8</td>\n",
       "      <td>7</td>\n",
       "      <td>3514</td>\n",
       "      <td>0.05703</td>\n",
       "      <td>220</td>\n",
       "      <td>0 min  5 sec</td>\n",
       "    </tr>\n",
       "    <tr>\n",
       "      <th>9th</th>\n",
       "      <td>Past</td>\n",
       "      <td>06Aug2020</td>\n",
       "      <td>17Aug2020</td>\n",
       "      <td>1569439</td>\n",
       "      <td>SIR-F</td>\n",
       "      <td>1.26</td>\n",
       "      <td>0.00344039</td>\n",
       "      <td>1.42145e-05</td>\n",
       "      <td>0.030746</td>\n",
       "      <td>0.0242311</td>\n",
       "      <td>360</td>\n",
       "      <td>0.003</td>\n",
       "      <td>8</td>\n",
       "      <td>10</td>\n",
       "      <td>17587</td>\n",
       "      <td>0.0169203</td>\n",
       "      <td>229</td>\n",
       "      <td>0 min  5 sec</td>\n",
       "    </tr>\n",
       "    <tr>\n",
       "      <th>10th</th>\n",
       "      <td>Past</td>\n",
       "      <td>18Aug2020</td>\n",
       "      <td>30Aug2020</td>\n",
       "      <td>1569439</td>\n",
       "      <td>-</td>\n",
       "      <td>-</td>\n",
       "      <td>-</td>\n",
       "      <td>-</td>\n",
       "      <td>-</td>\n",
       "      <td>-</td>\n",
       "      <td>-</td>\n",
       "      <td>-</td>\n",
       "      <td>-</td>\n",
       "      <td>-</td>\n",
       "      <td>-</td>\n",
       "      <td>-</td>\n",
       "      <td>-</td>\n",
       "      <td>-</td>\n",
       "    </tr>\n",
       "    <tr>\n",
       "      <th rowspan=\"10\" valign=\"top\">Senegal</th>\n",
       "      <th>1st</th>\n",
       "      <td>Past</td>\n",
       "      <td>03May2020</td>\n",
       "      <td>14May2020</td>\n",
       "      <td>15854360</td>\n",
       "      <td>SIR-F</td>\n",
       "      <td>2.07</td>\n",
       "      <td>0.000120929</td>\n",
       "      <td>0.000293668</td>\n",
       "      <td>0.0218936</td>\n",
       "      <td>0.0102821</td>\n",
       "      <td>360</td>\n",
       "      <td>0</td>\n",
       "      <td>11</td>\n",
       "      <td>24</td>\n",
       "      <td>851</td>\n",
       "      <td>0.0584217</td>\n",
       "      <td>541</td>\n",
       "      <td>0 min 15 sec</td>\n",
       "    </tr>\n",
       "    <tr>\n",
       "      <th>2nd</th>\n",
       "      <td>Past</td>\n",
       "      <td>15May2020</td>\n",
       "      <td>28May2020</td>\n",
       "      <td>15854360</td>\n",
       "      <td>-</td>\n",
       "      <td>-</td>\n",
       "      <td>-</td>\n",
       "      <td>-</td>\n",
       "      <td>-</td>\n",
       "      <td>-</td>\n",
       "      <td>-</td>\n",
       "      <td>-</td>\n",
       "      <td>-</td>\n",
       "      <td>-</td>\n",
       "      <td>-</td>\n",
       "      <td>-</td>\n",
       "      <td>-</td>\n",
       "      <td>-</td>\n",
       "    </tr>\n",
       "    <tr>\n",
       "      <th>3rd</th>\n",
       "      <td>Past</td>\n",
       "      <td>29May2020</td>\n",
       "      <td>09Jun2020</td>\n",
       "      <td>15854360</td>\n",
       "      <td>SIR-F</td>\n",
       "      <td>1.08</td>\n",
       "      <td>0.000666244</td>\n",
       "      <td>0.000111706</td>\n",
       "      <td>0.013285</td>\n",
       "      <td>0.0121512</td>\n",
       "      <td>360</td>\n",
       "      <td>0.001</td>\n",
       "      <td>18</td>\n",
       "      <td>20</td>\n",
       "      <td>2238</td>\n",
       "      <td>0.0599577</td>\n",
       "      <td>1308</td>\n",
       "      <td>1 min  0 sec</td>\n",
       "    </tr>\n",
       "    <tr>\n",
       "      <th>4th</th>\n",
       "      <td>Past</td>\n",
       "      <td>10Jun2020</td>\n",
       "      <td>19Jun2020</td>\n",
       "      <td>15854360</td>\n",
       "      <td>SIR-F</td>\n",
       "      <td>0.97</td>\n",
       "      <td>0.016606</td>\n",
       "      <td>0.000180997</td>\n",
       "      <td>0.0154271</td>\n",
       "      <td>0.015495</td>\n",
       "      <td>360</td>\n",
       "      <td>0.017</td>\n",
       "      <td>16</td>\n",
       "      <td>16</td>\n",
       "      <td>1381</td>\n",
       "      <td>0.0235409</td>\n",
       "      <td>1232</td>\n",
       "      <td>1 min  0 sec</td>\n",
       "    </tr>\n",
       "    <tr>\n",
       "      <th>5th</th>\n",
       "      <td>Past</td>\n",
       "      <td>20Jun2020</td>\n",
       "      <td>01Jul2020</td>\n",
       "      <td>15854360</td>\n",
       "      <td>SIR-F</td>\n",
       "      <td>1.7</td>\n",
       "      <td>0.0182983</td>\n",
       "      <td>0.000171563</td>\n",
       "      <td>0.0125391</td>\n",
       "      <td>0.00707002</td>\n",
       "      <td>360</td>\n",
       "      <td>0.018</td>\n",
       "      <td>19</td>\n",
       "      <td>35</td>\n",
       "      <td>1457</td>\n",
       "      <td>0.0217259</td>\n",
       "      <td>824</td>\n",
       "      <td>0 min 20 sec</td>\n",
       "    </tr>\n",
       "    <tr>\n",
       "      <th>6th</th>\n",
       "      <td>Past</td>\n",
       "      <td>02Jul2020</td>\n",
       "      <td>12Jul2020</td>\n",
       "      <td>15854360</td>\n",
       "      <td>SIR-F</td>\n",
       "      <td>1.23</td>\n",
       "      <td>0.0192567</td>\n",
       "      <td>0.000113606</td>\n",
       "      <td>0.0109333</td>\n",
       "      <td>0.008621</td>\n",
       "      <td>360</td>\n",
       "      <td>0.019</td>\n",
       "      <td>22</td>\n",
       "      <td>28</td>\n",
       "      <td>2200</td>\n",
       "      <td>0.0165045</td>\n",
       "      <td>1392</td>\n",
       "      <td>1 min  0 sec</td>\n",
       "    </tr>\n",
       "    <tr>\n",
       "      <th>7th</th>\n",
       "      <td>Past</td>\n",
       "      <td>13Jul2020</td>\n",
       "      <td>23Jul2020</td>\n",
       "      <td>15854360</td>\n",
       "      <td>SIR-F</td>\n",
       "      <td>1.57</td>\n",
       "      <td>0.000256443</td>\n",
       "      <td>0.000256566</td>\n",
       "      <td>0.00984712</td>\n",
       "      <td>0.00602158</td>\n",
       "      <td>360</td>\n",
       "      <td>0</td>\n",
       "      <td>25</td>\n",
       "      <td>41</td>\n",
       "      <td>974</td>\n",
       "      <td>0.0173164</td>\n",
       "      <td>417</td>\n",
       "      <td>0 min 10 sec</td>\n",
       "    </tr>\n",
       "    <tr>\n",
       "      <th>8th</th>\n",
       "      <td>Past</td>\n",
       "      <td>24Jul2020</td>\n",
       "      <td>04Aug2020</td>\n",
       "      <td>15854360</td>\n",
       "      <td>SIR-F</td>\n",
       "      <td>1.54</td>\n",
       "      <td>0.000615217</td>\n",
       "      <td>0.000255959</td>\n",
       "      <td>0.00799955</td>\n",
       "      <td>0.00492321</td>\n",
       "      <td>360</td>\n",
       "      <td>0.001</td>\n",
       "      <td>31</td>\n",
       "      <td>50</td>\n",
       "      <td>976</td>\n",
       "      <td>0.0145279</td>\n",
       "      <td>623</td>\n",
       "      <td>0 min 15 sec</td>\n",
       "    </tr>\n",
       "    <tr>\n",
       "      <th>9th</th>\n",
       "      <td>Past</td>\n",
       "      <td>05Aug2020</td>\n",
       "      <td>14Aug2020</td>\n",
       "      <td>15854360</td>\n",
       "      <td>SIR-F</td>\n",
       "      <td>1.87</td>\n",
       "      <td>0.000408818</td>\n",
       "      <td>0.000255921</td>\n",
       "      <td>0.0100789</td>\n",
       "      <td>0.00513859</td>\n",
       "      <td>360</td>\n",
       "      <td>0</td>\n",
       "      <td>24</td>\n",
       "      <td>48</td>\n",
       "      <td>976</td>\n",
       "      <td>0.0107506</td>\n",
       "      <td>590</td>\n",
       "      <td>0 min 15 sec</td>\n",
       "    </tr>\n",
       "    <tr>\n",
       "      <th>10th</th>\n",
       "      <td>Past</td>\n",
       "      <td>15Aug2020</td>\n",
       "      <td>30Aug2020</td>\n",
       "      <td>15854360</td>\n",
       "      <td>-</td>\n",
       "      <td>-</td>\n",
       "      <td>-</td>\n",
       "      <td>-</td>\n",
       "      <td>-</td>\n",
       "      <td>-</td>\n",
       "      <td>-</td>\n",
       "      <td>-</td>\n",
       "      <td>-</td>\n",
       "      <td>-</td>\n",
       "      <td>-</td>\n",
       "      <td>-</td>\n",
       "      <td>-</td>\n",
       "      <td>-</td>\n",
       "    </tr>\n",
       "    <tr>\n",
       "      <th rowspan=\"10\" valign=\"top\">United Arab Emirates</th>\n",
       "      <th>1st</th>\n",
       "      <td>Past</td>\n",
       "      <td>27Apr2020</td>\n",
       "      <td>12May2020</td>\n",
       "      <td>9630959</td>\n",
       "      <td>SIR-F</td>\n",
       "      <td>3.04</td>\n",
       "      <td>0.000613627</td>\n",
       "      <td>0.000192497</td>\n",
       "      <td>0.0136262</td>\n",
       "      <td>0.00429033</td>\n",
       "      <td>360</td>\n",
       "      <td>0.001</td>\n",
       "      <td>18</td>\n",
       "      <td>58</td>\n",
       "      <td>1298</td>\n",
       "      <td>0.0854323</td>\n",
       "      <td>1847</td>\n",
       "      <td>1 min  0 sec</td>\n",
       "    </tr>\n",
       "    <tr>\n",
       "      <th>2nd</th>\n",
       "      <td>Past</td>\n",
       "      <td>13May2020</td>\n",
       "      <td>25May2020</td>\n",
       "      <td>9630959</td>\n",
       "      <td>SIR-F</td>\n",
       "      <td>1.09</td>\n",
       "      <td>0.000220292</td>\n",
       "      <td>6.35904e-05</td>\n",
       "      <td>0.0141477</td>\n",
       "      <td>0.0129229</td>\n",
       "      <td>360</td>\n",
       "      <td>0</td>\n",
       "      <td>17</td>\n",
       "      <td>19</td>\n",
       "      <td>3931</td>\n",
       "      <td>0.0476523</td>\n",
       "      <td>1845</td>\n",
       "      <td>1 min  0 sec</td>\n",
       "    </tr>\n",
       "    <tr>\n",
       "      <th>3rd</th>\n",
       "      <td>Past</td>\n",
       "      <td>26May2020</td>\n",
       "      <td>03Jun2020</td>\n",
       "      <td>9630959</td>\n",
       "      <td>SIR-F</td>\n",
       "      <td>1.66</td>\n",
       "      <td>0.000996878</td>\n",
       "      <td>2.37605e-05</td>\n",
       "      <td>0.0101173</td>\n",
       "      <td>0.0060745</td>\n",
       "      <td>360</td>\n",
       "      <td>0.001</td>\n",
       "      <td>24</td>\n",
       "      <td>41</td>\n",
       "      <td>10521</td>\n",
       "      <td>0.00948899</td>\n",
       "      <td>1030</td>\n",
       "      <td>0 min 40 sec</td>\n",
       "    </tr>\n",
       "    <tr>\n",
       "      <th>4th</th>\n",
       "      <td>Past</td>\n",
       "      <td>04Jun2020</td>\n",
       "      <td>11Jun2020</td>\n",
       "      <td>9630959</td>\n",
       "      <td>SIR-F</td>\n",
       "      <td>0.73</td>\n",
       "      <td>0.00092404</td>\n",
       "      <td>2.37396e-05</td>\n",
       "      <td>0.00864404</td>\n",
       "      <td>0.0117473</td>\n",
       "      <td>360</td>\n",
       "      <td>0.001</td>\n",
       "      <td>28</td>\n",
       "      <td>21</td>\n",
       "      <td>10530</td>\n",
       "      <td>0.0166279</td>\n",
       "      <td>1072</td>\n",
       "      <td>0 min 30 sec</td>\n",
       "    </tr>\n",
       "    <tr>\n",
       "      <th>5th</th>\n",
       "      <td>Past</td>\n",
       "      <td>12Jun2020</td>\n",
       "      <td>22Jun2020</td>\n",
       "      <td>9630959</td>\n",
       "      <td>SIR-F</td>\n",
       "      <td>0.57</td>\n",
       "      <td>0.000957003</td>\n",
       "      <td>2.37396e-05</td>\n",
       "      <td>0.00755744</td>\n",
       "      <td>0.0131723</td>\n",
       "      <td>360</td>\n",
       "      <td>0.001</td>\n",
       "      <td>33</td>\n",
       "      <td>18</td>\n",
       "      <td>10530</td>\n",
       "      <td>0.00912136</td>\n",
       "      <td>1081</td>\n",
       "      <td>0 min 30 sec</td>\n",
       "    </tr>\n",
       "    <tr>\n",
       "      <th>6th</th>\n",
       "      <td>Past</td>\n",
       "      <td>23Jun2020</td>\n",
       "      <td>02Jul2020</td>\n",
       "      <td>9630959</td>\n",
       "      <td>SIR-F</td>\n",
       "      <td>0.7</td>\n",
       "      <td>0.000686254</td>\n",
       "      <td>3.68972e-05</td>\n",
       "      <td>0.00983507</td>\n",
       "      <td>0.0140396</td>\n",
       "      <td>360</td>\n",
       "      <td>0.001</td>\n",
       "      <td>25</td>\n",
       "      <td>17</td>\n",
       "      <td>6775</td>\n",
       "      <td>0.0220629</td>\n",
       "      <td>575</td>\n",
       "      <td>0 min 15 sec</td>\n",
       "    </tr>\n",
       "    <tr>\n",
       "      <th>7th</th>\n",
       "      <td>Past</td>\n",
       "      <td>03Jul2020</td>\n",
       "      <td>10Jul2020</td>\n",
       "      <td>9630959</td>\n",
       "      <td>SIR-F</td>\n",
       "      <td>0.88</td>\n",
       "      <td>0.000686869</td>\n",
       "      <td>3.69059e-05</td>\n",
       "      <td>0.0131319</td>\n",
       "      <td>0.0148685</td>\n",
       "      <td>360</td>\n",
       "      <td>0.001</td>\n",
       "      <td>19</td>\n",
       "      <td>16</td>\n",
       "      <td>6773</td>\n",
       "      <td>0.0215779</td>\n",
       "      <td>1782</td>\n",
       "      <td>1 min  0 sec</td>\n",
       "    </tr>\n",
       "    <tr>\n",
       "      <th>8th</th>\n",
       "      <td>Past</td>\n",
       "      <td>11Jul2020</td>\n",
       "      <td>25Jul2020</td>\n",
       "      <td>9630959</td>\n",
       "      <td>SIR-F</td>\n",
       "      <td>0.65</td>\n",
       "      <td>0.0021162</td>\n",
       "      <td>1.85682e-06</td>\n",
       "      <td>0.00980285</td>\n",
       "      <td>0.014971</td>\n",
       "      <td>360</td>\n",
       "      <td>0.002</td>\n",
       "      <td>25</td>\n",
       "      <td>16</td>\n",
       "      <td>134638</td>\n",
       "      <td>0.0543486</td>\n",
       "      <td>243</td>\n",
       "      <td>0 min  5 sec</td>\n",
       "    </tr>\n",
       "    <tr>\n",
       "      <th>9th</th>\n",
       "      <td>Past</td>\n",
       "      <td>26Jul2020</td>\n",
       "      <td>13Aug2020</td>\n",
       "      <td>9630959</td>\n",
       "      <td>SIR-F</td>\n",
       "      <td>0.86</td>\n",
       "      <td>0.000937942</td>\n",
       "      <td>3.12682e-05</td>\n",
       "      <td>0.0108183</td>\n",
       "      <td>0.0125809</td>\n",
       "      <td>360</td>\n",
       "      <td>0.001</td>\n",
       "      <td>23</td>\n",
       "      <td>19</td>\n",
       "      <td>7995</td>\n",
       "      <td>0.0158089</td>\n",
       "      <td>1077</td>\n",
       "      <td>0 min 30 sec</td>\n",
       "    </tr>\n",
       "    <tr>\n",
       "      <th>10th</th>\n",
       "      <td>Past</td>\n",
       "      <td>14Aug2020</td>\n",
       "      <td>30Aug2020</td>\n",
       "      <td>9630959</td>\n",
       "      <td>-</td>\n",
       "      <td>-</td>\n",
       "      <td>-</td>\n",
       "      <td>-</td>\n",
       "      <td>-</td>\n",
       "      <td>-</td>\n",
       "      <td>-</td>\n",
       "      <td>-</td>\n",
       "      <td>-</td>\n",
       "      <td>-</td>\n",
       "      <td>-</td>\n",
       "      <td>-</td>\n",
       "      <td>-</td>\n",
       "      <td>-</td>\n",
       "    </tr>\n",
       "  </tbody>\n",
       "</table>\n",
       "</div>"
      ],
      "text/plain": [
       "                            Type      Start        End  Population    ODE  \\\n",
       "Country              Phase                                                  \n",
       "Iran                 1st    Past  29Mar2020  16Apr2020    81800269  SIR-F   \n",
       "                     2nd    Past  17Apr2020  10May2020    81800269  SIR-F   \n",
       "                     3rd    Past  11May2020  30May2020    81800269  SIR-F   \n",
       "                     4th    Past  31May2020  12Jun2020    81800269      -   \n",
       "                     5th    Past  13Jun2020  25Jun2020    81800269  SIR-F   \n",
       "                     6th    Past  26Jun2020  06Jul2020    81800269  SIR-F   \n",
       "                     7th    Past  07Jul2020  19Jul2020    81800269  SIR-F   \n",
       "                     8th    Past  20Jul2020  31Jul2020    81800269  SIR-F   \n",
       "                     9th    Past  01Aug2020  13Aug2020    81800269  SIR-F   \n",
       "                     10th   Past  14Aug2020  30Aug2020    81800269  SIR-F   \n",
       "Guinea               1st    Past  02May2020  11May2020    12414318  SIR-F   \n",
       "                     2nd    Past  12May2020  22May2020    12414318  SIR-F   \n",
       "                     3rd    Past  23May2020  30May2020    12414318  SIR-F   \n",
       "                     4th    Past  31May2020  14Jun2020    12414318  SIR-F   \n",
       "                     5th    Past  15Jun2020  01Jul2020    12414318  SIR-F   \n",
       "                     6th    Past  02Jul2020  13Jul2020    12414318  SIR-F   \n",
       "                     7th    Past  14Jul2020  23Jul2020    12414318  SIR-F   \n",
       "                     8th    Past  24Jul2020  05Aug2020    12414318  SIR-F   \n",
       "                     9th    Past  06Aug2020  15Aug2020    12414318  SIR-F   \n",
       "                     10th   Past  16Aug2020  30Aug2020    12414318  SIR-F   \n",
       "Bahrain              1st    Past  06May2020  30May2020     1569439  SIR-F   \n",
       "                     2nd    Past  31May2020  11Jun2020     1569439  SIR-F   \n",
       "                     3rd    Past  12Jun2020  20Jun2020     1569439  SIR-F   \n",
       "                     4th    Past  21Jun2020  28Jun2020     1569439  SIR-F   \n",
       "                     5th    Past  29Jun2020  07Jul2020     1569439  SIR-F   \n",
       "                     6th    Past  08Jul2020  15Jul2020     1569439  SIR-F   \n",
       "                     7th    Past  16Jul2020  25Jul2020     1569439  SIR-F   \n",
       "                     8th    Past  26Jul2020  05Aug2020     1569439  SIR-F   \n",
       "                     9th    Past  06Aug2020  17Aug2020     1569439  SIR-F   \n",
       "                     10th   Past  18Aug2020  30Aug2020     1569439      -   \n",
       "Senegal              1st    Past  03May2020  14May2020    15854360  SIR-F   \n",
       "                     2nd    Past  15May2020  28May2020    15854360      -   \n",
       "                     3rd    Past  29May2020  09Jun2020    15854360  SIR-F   \n",
       "                     4th    Past  10Jun2020  19Jun2020    15854360  SIR-F   \n",
       "                     5th    Past  20Jun2020  01Jul2020    15854360  SIR-F   \n",
       "                     6th    Past  02Jul2020  12Jul2020    15854360  SIR-F   \n",
       "                     7th    Past  13Jul2020  23Jul2020    15854360  SIR-F   \n",
       "                     8th    Past  24Jul2020  04Aug2020    15854360  SIR-F   \n",
       "                     9th    Past  05Aug2020  14Aug2020    15854360  SIR-F   \n",
       "                     10th   Past  15Aug2020  30Aug2020    15854360      -   \n",
       "United Arab Emirates 1st    Past  27Apr2020  12May2020     9630959  SIR-F   \n",
       "                     2nd    Past  13May2020  25May2020     9630959  SIR-F   \n",
       "                     3rd    Past  26May2020  03Jun2020     9630959  SIR-F   \n",
       "                     4th    Past  04Jun2020  11Jun2020     9630959  SIR-F   \n",
       "                     5th    Past  12Jun2020  22Jun2020     9630959  SIR-F   \n",
       "                     6th    Past  23Jun2020  02Jul2020     9630959  SIR-F   \n",
       "                     7th    Past  03Jul2020  10Jul2020     9630959  SIR-F   \n",
       "                     8th    Past  11Jul2020  25Jul2020     9630959  SIR-F   \n",
       "                     9th    Past  26Jul2020  13Aug2020     9630959  SIR-F   \n",
       "                     10th   Past  14Aug2020  30Aug2020     9630959      -   \n",
       "\n",
       "                              Rt        theta        kappa         rho  \\\n",
       "Country              Phase                                               \n",
       "Iran                 1st    1.01    0.0512875  0.000464741   0.0185179   \n",
       "                     2nd    0.73    0.0205407  0.000862225   0.0182612   \n",
       "                     3rd    1.37   0.00109344  0.000738645   0.0263177   \n",
       "                     4th       -            -            -           -   \n",
       "                     5th    1.06    0.0313393  0.000299114   0.0205242   \n",
       "                     6th    0.91    0.0357833  0.000531001   0.0228087   \n",
       "                     7th    0.89    0.0583092  0.000330383   0.0243697   \n",
       "                     8th    1.09    0.0517971  0.000918004   0.0283009   \n",
       "                     9th    1.03    0.0346642  0.000920827   0.0261933   \n",
       "                     10th   1.19    0.0320716  0.000478595   0.0190777   \n",
       "Guinea               1st    1.79  0.000437189   9.8046e-05   0.0126597   \n",
       "                     2nd     0.7    0.0518286  1.88938e-06   0.0030915   \n",
       "                     3rd    1.56   0.00143149  5.43317e-05  0.00729229   \n",
       "                     4th    0.48  0.000145272  1.80784e-06   0.0086671   \n",
       "                     5th    0.66  5.43964e-05   6.0048e-05  0.00795811   \n",
       "                     6th    1.42  1.08381e-05  9.89451e-05   0.0145721   \n",
       "                     7th    0.59  1.08411e-05  9.89341e-05   0.0160094   \n",
       "                     8th     1.2  0.000130277  0.000167977   0.0199537   \n",
       "                     9th    1.55   0.00140146  1.85739e-06   0.0186479   \n",
       "                     10th   0.84  8.62303e-05   0.00014412   0.0124398   \n",
       "Bahrain              1st    1.86   0.00111161  1.03678e-05   0.0176705   \n",
       "                     2nd    1.19   0.00108848  2.60846e-05   0.0237193   \n",
       "                     3rd     1.1   0.00220653  9.34559e-05   0.0234495   \n",
       "                     4th     1.1   0.00034297  7.91242e-05   0.0295616   \n",
       "                     5th     0.9  0.000433256  9.80641e-05   0.0273549   \n",
       "                     6th    0.85  0.000896115  7.94089e-05   0.0293127   \n",
       "                     7th    0.93  0.000549683  0.000109479   0.0299592   \n",
       "                     8th    0.95  0.000892158  7.11256e-05   0.0306202   \n",
       "                     9th    1.26   0.00344039  1.42145e-05    0.030746   \n",
       "                     10th      -            -            -           -   \n",
       "Senegal              1st    2.07  0.000120929  0.000293668   0.0218936   \n",
       "                     2nd       -            -            -           -   \n",
       "                     3rd    1.08  0.000666244  0.000111706    0.013285   \n",
       "                     4th    0.97     0.016606  0.000180997   0.0154271   \n",
       "                     5th     1.7    0.0182983  0.000171563   0.0125391   \n",
       "                     6th    1.23    0.0192567  0.000113606   0.0109333   \n",
       "                     7th    1.57  0.000256443  0.000256566  0.00984712   \n",
       "                     8th    1.54  0.000615217  0.000255959  0.00799955   \n",
       "                     9th    1.87  0.000408818  0.000255921   0.0100789   \n",
       "                     10th      -            -            -           -   \n",
       "United Arab Emirates 1st    3.04  0.000613627  0.000192497   0.0136262   \n",
       "                     2nd    1.09  0.000220292  6.35904e-05   0.0141477   \n",
       "                     3rd    1.66  0.000996878  2.37605e-05   0.0101173   \n",
       "                     4th    0.73   0.00092404  2.37396e-05  0.00864404   \n",
       "                     5th    0.57  0.000957003  2.37396e-05  0.00755744   \n",
       "                     6th     0.7  0.000686254  3.68972e-05  0.00983507   \n",
       "                     7th    0.88  0.000686869  3.69059e-05   0.0131319   \n",
       "                     8th    0.65    0.0021162  1.85682e-06  0.00980285   \n",
       "                     9th    0.86  0.000937942  3.12682e-05   0.0108183   \n",
       "                     10th      -            -            -           -   \n",
       "\n",
       "                                 sigma  tau alpha1 [-] 1/beta [day]  \\\n",
       "Country              Phase                                            \n",
       "Iran                 1st     0.0169892  360      0.051           13   \n",
       "                     2nd     0.0236975  360      0.021           13   \n",
       "                     3rd     0.0184966  360      0.001            9   \n",
       "                     4th             -    -          -            -   \n",
       "                     5th     0.0183969  360      0.031           12   \n",
       "                     6th     0.0235959  360      0.036           10   \n",
       "                     7th     0.0253292  360      0.058           10   \n",
       "                     8th     0.0237999  360      0.052            8   \n",
       "                     9th     0.0236341  360      0.035            9   \n",
       "                     10th    0.0150495  360      0.032           13   \n",
       "Guinea               1st    0.00699089  360          0           19   \n",
       "                     2nd    0.00416179  360      0.052           80   \n",
       "                     3rd    0.00460796  360      0.001           34   \n",
       "                     4th     0.0181025  360          0           28   \n",
       "                     5th     0.0120753  360          0           31   \n",
       "                     6th     0.0101386  360          0           17   \n",
       "                     7th     0.0272594  360          0           15   \n",
       "                     8th     0.0164998  360          0           12   \n",
       "                     9th     0.0120444  360      0.001           13   \n",
       "                     10th    0.0146127  360          0           20   \n",
       "Bahrain              1st    0.00945756  360      0.001           14   \n",
       "                     2nd     0.0198848  360      0.001           10   \n",
       "                     3rd     0.0211901  360      0.002           10   \n",
       "                     4th     0.0268356  360          0            8   \n",
       "                     5th     0.0301332  360          0            9   \n",
       "                     6th     0.0343311  360      0.001            8   \n",
       "                     7th     0.0320493  360      0.001            8   \n",
       "                     8th     0.0321659  360      0.001            8   \n",
       "                     9th     0.0242311  360      0.003            8   \n",
       "                     10th            -    -          -            -   \n",
       "Senegal              1st     0.0102821  360          0           11   \n",
       "                     2nd             -    -          -            -   \n",
       "                     3rd     0.0121512  360      0.001           18   \n",
       "                     4th      0.015495  360      0.017           16   \n",
       "                     5th    0.00707002  360      0.018           19   \n",
       "                     6th      0.008621  360      0.019           22   \n",
       "                     7th    0.00602158  360          0           25   \n",
       "                     8th    0.00492321  360      0.001           31   \n",
       "                     9th    0.00513859  360          0           24   \n",
       "                     10th            -    -          -            -   \n",
       "United Arab Emirates 1st    0.00429033  360      0.001           18   \n",
       "                     2nd     0.0129229  360          0           17   \n",
       "                     3rd     0.0060745  360      0.001           24   \n",
       "                     4th     0.0117473  360      0.001           28   \n",
       "                     5th     0.0131723  360      0.001           33   \n",
       "                     6th     0.0140396  360      0.001           25   \n",
       "                     7th     0.0148685  360      0.001           19   \n",
       "                     8th      0.014971  360      0.002           25   \n",
       "                     9th     0.0125809  360      0.001           23   \n",
       "                     10th            -    -          -            -   \n",
       "\n",
       "                           1/gamma [day] 1/alpha2 [day]       RMSLE Trials  \\\n",
       "Country              Phase                                                   \n",
       "Iran                 1st              14            537    0.254746   1819   \n",
       "                     2nd              10            289    0.112466    160   \n",
       "                     3rd              13            338   0.0465841   1798   \n",
       "                     4th               -              -           -      -   \n",
       "                     5th              13            835   0.0236095    243   \n",
       "                     6th              10            470  0.00931755    219   \n",
       "                     7th               9            756   0.0323708    220   \n",
       "                     8th              10            272   0.0117827    224   \n",
       "                     9th              10            271   0.0158002    210   \n",
       "                     10th             16            522   0.0135522    202   \n",
       "Guinea               1st              35           2549   0.0738058   1726   \n",
       "                     2nd              60         132318    0.211549   1329   \n",
       "                     3rd              54           4601   0.0466398   1718   \n",
       "                     4th              13         138286    0.111403   1723   \n",
       "                     5th              20           4163   0.0942252   1889   \n",
       "                     6th              24           2526   0.0268842   1838   \n",
       "                     7th               9           2526   0.0633757   1810   \n",
       "                     8th              15           1488   0.0473017    405   \n",
       "                     9th              20         134597   0.0304204    231   \n",
       "                     10th             17           1734   0.0916648   1414   \n",
       "Bahrain              1st              26          24113    0.298167   1759   \n",
       "                     2nd              12           9584   0.0678008   1772   \n",
       "                     3rd              11           2675   0.0266207    233   \n",
       "                     4th               9           3159   0.0304475   1382   \n",
       "                     5th               8           2549   0.0250595   1803   \n",
       "                     6th               7           3148   0.0222654   1195   \n",
       "                     7th               7           2283   0.0413332    123   \n",
       "                     8th               7           3514     0.05703    220   \n",
       "                     9th              10          17587   0.0169203    229   \n",
       "                     10th              -              -           -      -   \n",
       "Senegal              1st              24            851   0.0584217    541   \n",
       "                     2nd               -              -           -      -   \n",
       "                     3rd              20           2238   0.0599577   1308   \n",
       "                     4th              16           1381   0.0235409   1232   \n",
       "                     5th              35           1457   0.0217259    824   \n",
       "                     6th              28           2200   0.0165045   1392   \n",
       "                     7th              41            974   0.0173164    417   \n",
       "                     8th              50            976   0.0145279    623   \n",
       "                     9th              48            976   0.0107506    590   \n",
       "                     10th              -              -           -      -   \n",
       "United Arab Emirates 1st              58           1298   0.0854323   1847   \n",
       "                     2nd              19           3931   0.0476523   1845   \n",
       "                     3rd              41          10521  0.00948899   1030   \n",
       "                     4th              21          10530   0.0166279   1072   \n",
       "                     5th              18          10530  0.00912136   1081   \n",
       "                     6th              17           6775   0.0220629    575   \n",
       "                     7th              16           6773   0.0215779   1782   \n",
       "                     8th              16         134638   0.0543486    243   \n",
       "                     9th              19           7995   0.0158089   1077   \n",
       "                     10th              -              -           -      -   \n",
       "\n",
       "                                 Runtime  \n",
       "Country              Phase                \n",
       "Iran                 1st    1 min  0 sec  \n",
       "                     2nd    0 min  5 sec  \n",
       "                     3rd    1 min  0 sec  \n",
       "                     4th               -  \n",
       "                     5th    0 min 10 sec  \n",
       "                     6th    0 min  5 sec  \n",
       "                     7th    0 min  5 sec  \n",
       "                     8th    0 min  5 sec  \n",
       "                     9th    0 min  5 sec  \n",
       "                     10th   0 min  5 sec  \n",
       "Guinea               1st    1 min  0 sec  \n",
       "                     2nd    1 min  0 sec  \n",
       "                     3rd    1 min  0 sec  \n",
       "                     4th    1 min  0 sec  \n",
       "                     5th    1 min  0 sec  \n",
       "                     6th    1 min  0 sec  \n",
       "                     7th    1 min  0 sec  \n",
       "                     8th    0 min 10 sec  \n",
       "                     9th    0 min  5 sec  \n",
       "                     10th   1 min  0 sec  \n",
       "Bahrain              1st    1 min  0 sec  \n",
       "                     2nd    1 min  0 sec  \n",
       "                     3rd    0 min  5 sec  \n",
       "                     4th    1 min  0 sec  \n",
       "                     5th    1 min  0 sec  \n",
       "                     6th    1 min  0 sec  \n",
       "                     7th    0 min  5 sec  \n",
       "                     8th    0 min  5 sec  \n",
       "                     9th    0 min  5 sec  \n",
       "                     10th              -  \n",
       "Senegal              1st    0 min 15 sec  \n",
       "                     2nd               -  \n",
       "                     3rd    1 min  0 sec  \n",
       "                     4th    1 min  0 sec  \n",
       "                     5th    0 min 20 sec  \n",
       "                     6th    1 min  0 sec  \n",
       "                     7th    0 min 10 sec  \n",
       "                     8th    0 min 15 sec  \n",
       "                     9th    0 min 15 sec  \n",
       "                     10th              -  \n",
       "United Arab Emirates 1st    1 min  0 sec  \n",
       "                     2nd    1 min  0 sec  \n",
       "                     3rd    0 min 40 sec  \n",
       "                     4th    0 min 30 sec  \n",
       "                     5th    0 min 30 sec  \n",
       "                     6th    0 min 15 sec  \n",
       "                     7th    1 min  0 sec  \n",
       "                     8th    0 min  5 sec  \n",
       "                     9th    0 min 30 sec  \n",
       "                     10th              -  "
      ]
     },
     "execution_count": 12,
     "metadata": {},
     "output_type": "execute_result"
    }
   ],
   "source": [
    "# Show summary\n",
    "analyser.summary(countries=countries_show)"
   ]
  },
  {
   "cell_type": "markdown",
   "metadata": {},
   "source": [
    "## Compare the history of parameters\n",
    "Here, compare the history of parameter values if countries."
   ]
  },
  {
   "cell_type": "code",
   "execution_count": 13,
   "metadata": {
    "collapsed": false
   },
   "outputs": [
    {
     "data": {
      "text/html": [
       "<div>\n",
       "<style scoped>\n",
       "    .dataframe tbody tr th:only-of-type {\n",
       "        vertical-align: middle;\n",
       "    }\n",
       "\n",
       "    .dataframe tbody tr th {\n",
       "        vertical-align: top;\n",
       "    }\n",
       "\n",
       "    .dataframe thead th {\n",
       "        text-align: right;\n",
       "    }\n",
       "</style>\n",
       "<table border=\"1\" class=\"dataframe\">\n",
       "  <thead>\n",
       "    <tr style=\"text-align: right;\">\n",
       "      <th></th>\n",
       "      <th>Date</th>\n",
       "      <th>Country</th>\n",
       "      <th>theta</th>\n",
       "      <th>kappa</th>\n",
       "      <th>rho</th>\n",
       "      <th>sigma</th>\n",
       "      <th>alpha1 [-]</th>\n",
       "      <th>1/alpha2 [day]</th>\n",
       "      <th>1/beta [day]</th>\n",
       "      <th>1/gamma [day]</th>\n",
       "      <th>...</th>\n",
       "      <th>Cancel_events</th>\n",
       "      <th>Gatherings_restrictions</th>\n",
       "      <th>Transport_closing</th>\n",
       "      <th>Stay_home_restrictions</th>\n",
       "      <th>Internal_movement_restrictions</th>\n",
       "      <th>International_movement_restrictions</th>\n",
       "      <th>Information_campaigns</th>\n",
       "      <th>Testing_policy</th>\n",
       "      <th>Contact_tracing</th>\n",
       "      <th>Stringency_index</th>\n",
       "    </tr>\n",
       "  </thead>\n",
       "  <tbody>\n",
       "    <tr>\n",
       "      <th>0</th>\n",
       "      <td>2020-04-29</td>\n",
       "      <td>Myanmar</td>\n",
       "      <td>0.15177</td>\n",
       "      <td>2.43026e-05</td>\n",
       "      <td>0.000298933</td>\n",
       "      <td>0.00990058</td>\n",
       "      <td>0.152</td>\n",
       "      <td>10286</td>\n",
       "      <td>836</td>\n",
       "      <td>25</td>\n",
       "      <td>...</td>\n",
       "      <td>2</td>\n",
       "      <td>4</td>\n",
       "      <td>2</td>\n",
       "      <td>2</td>\n",
       "      <td>2</td>\n",
       "      <td>3</td>\n",
       "      <td>2</td>\n",
       "      <td>2</td>\n",
       "      <td>1</td>\n",
       "      <td>86.11</td>\n",
       "    </tr>\n",
       "    <tr>\n",
       "      <th>1</th>\n",
       "      <td>2020-04-30</td>\n",
       "      <td>Myanmar</td>\n",
       "      <td>0.15177</td>\n",
       "      <td>2.43026e-05</td>\n",
       "      <td>0.000298933</td>\n",
       "      <td>0.00990058</td>\n",
       "      <td>0.152</td>\n",
       "      <td>10286</td>\n",
       "      <td>836</td>\n",
       "      <td>25</td>\n",
       "      <td>...</td>\n",
       "      <td>2</td>\n",
       "      <td>4</td>\n",
       "      <td>2</td>\n",
       "      <td>2</td>\n",
       "      <td>2</td>\n",
       "      <td>3</td>\n",
       "      <td>2</td>\n",
       "      <td>2</td>\n",
       "      <td>1</td>\n",
       "      <td>86.11</td>\n",
       "    </tr>\n",
       "    <tr>\n",
       "      <th>2</th>\n",
       "      <td>2020-05-01</td>\n",
       "      <td>Myanmar</td>\n",
       "      <td>0.15177</td>\n",
       "      <td>2.43026e-05</td>\n",
       "      <td>0.000298933</td>\n",
       "      <td>0.00990058</td>\n",
       "      <td>0.152</td>\n",
       "      <td>10286</td>\n",
       "      <td>836</td>\n",
       "      <td>25</td>\n",
       "      <td>...</td>\n",
       "      <td>2</td>\n",
       "      <td>4</td>\n",
       "      <td>2</td>\n",
       "      <td>2</td>\n",
       "      <td>2</td>\n",
       "      <td>3</td>\n",
       "      <td>2</td>\n",
       "      <td>2</td>\n",
       "      <td>1</td>\n",
       "      <td>86.11</td>\n",
       "    </tr>\n",
       "    <tr>\n",
       "      <th>3</th>\n",
       "      <td>2020-05-02</td>\n",
       "      <td>Myanmar</td>\n",
       "      <td>0.15177</td>\n",
       "      <td>2.43026e-05</td>\n",
       "      <td>0.000298933</td>\n",
       "      <td>0.00990058</td>\n",
       "      <td>0.152</td>\n",
       "      <td>10286</td>\n",
       "      <td>836</td>\n",
       "      <td>25</td>\n",
       "      <td>...</td>\n",
       "      <td>2</td>\n",
       "      <td>4</td>\n",
       "      <td>2</td>\n",
       "      <td>2</td>\n",
       "      <td>2</td>\n",
       "      <td>3</td>\n",
       "      <td>2</td>\n",
       "      <td>2</td>\n",
       "      <td>1</td>\n",
       "      <td>86.11</td>\n",
       "    </tr>\n",
       "    <tr>\n",
       "      <th>4</th>\n",
       "      <td>2020-05-03</td>\n",
       "      <td>Myanmar</td>\n",
       "      <td>0.15177</td>\n",
       "      <td>2.43026e-05</td>\n",
       "      <td>0.000298933</td>\n",
       "      <td>0.00990058</td>\n",
       "      <td>0.152</td>\n",
       "      <td>10286</td>\n",
       "      <td>836</td>\n",
       "      <td>25</td>\n",
       "      <td>...</td>\n",
       "      <td>2</td>\n",
       "      <td>4</td>\n",
       "      <td>2</td>\n",
       "      <td>2</td>\n",
       "      <td>2</td>\n",
       "      <td>3</td>\n",
       "      <td>2</td>\n",
       "      <td>2</td>\n",
       "      <td>1</td>\n",
       "      <td>84.26</td>\n",
       "    </tr>\n",
       "  </tbody>\n",
       "</table>\n",
       "<p>5 rows × 23 columns</p>\n",
       "</div>"
      ],
      "text/plain": [
       "        Date  Country    theta        kappa          rho       sigma  \\\n",
       "0 2020-04-29  Myanmar  0.15177  2.43026e-05  0.000298933  0.00990058   \n",
       "1 2020-04-30  Myanmar  0.15177  2.43026e-05  0.000298933  0.00990058   \n",
       "2 2020-05-01  Myanmar  0.15177  2.43026e-05  0.000298933  0.00990058   \n",
       "3 2020-05-02  Myanmar  0.15177  2.43026e-05  0.000298933  0.00990058   \n",
       "4 2020-05-03  Myanmar  0.15177  2.43026e-05  0.000298933  0.00990058   \n",
       "\n",
       "  alpha1 [-] 1/alpha2 [day] 1/beta [day] 1/gamma [day]  ... Cancel_events  \\\n",
       "0      0.152          10286          836            25  ...             2   \n",
       "1      0.152          10286          836            25  ...             2   \n",
       "2      0.152          10286          836            25  ...             2   \n",
       "3      0.152          10286          836            25  ...             2   \n",
       "4      0.152          10286          836            25  ...             2   \n",
       "\n",
       "   Gatherings_restrictions  Transport_closing  Stay_home_restrictions  \\\n",
       "0                        4                  2                       2   \n",
       "1                        4                  2                       2   \n",
       "2                        4                  2                       2   \n",
       "3                        4                  2                       2   \n",
       "4                        4                  2                       2   \n",
       "\n",
       "   Internal_movement_restrictions  International_movement_restrictions  \\\n",
       "0                               2                                    3   \n",
       "1                               2                                    3   \n",
       "2                               2                                    3   \n",
       "3                               2                                    3   \n",
       "4                               2                                    3   \n",
       "\n",
       "   Information_campaigns  Testing_policy  Contact_tracing  Stringency_index  \n",
       "0                      2               2                1             86.11  \n",
       "1                      2               2                1             86.11  \n",
       "2                      2               2                1             86.11  \n",
       "3                      2               2                1             86.11  \n",
       "4                      2               2                1             84.26  \n",
       "\n",
       "[5 rows x 23 columns]"
      ]
     },
     "execution_count": 13,
     "metadata": {},
     "output_type": "execute_result"
    }
   ],
   "source": [
    "# All parameter/day parameter/Rt/OxCGRT\n",
    "analyser.track().head()"
   ]
  },
  {
   "cell_type": "markdown",
   "metadata": {},
   "source": [
    "### $Rt$: Reprodcution number $\\mathrm{[-]}$"
   ]
  },
  {
   "cell_type": "code",
   "execution_count": 14,
   "metadata": {
    "collapsed": false
   },
   "outputs": [
    {
     "data": {
      "image/png": "[encoded data removed]",
      "text/plain": [
       "<Figure size 648x432 with 1 Axes>"
      ]
     },
     "metadata": {},
     "output_type": "display_data"
    },
    {
     "data": {
      "text/html": [
       "<div>\n",
       "<style scoped>\n",
       "    .dataframe tbody tr th:only-of-type {\n",
       "        vertical-align: middle;\n",
       "    }\n",
       "\n",
       "    .dataframe tbody tr th {\n",
       "        vertical-align: top;\n",
       "    }\n",
       "\n",
       "    .dataframe thead th {\n",
       "        text-align: right;\n",
       "    }\n",
       "</style>\n",
       "<table border=\"1\" class=\"dataframe\">\n",
       "  <thead>\n",
       "    <tr style=\"text-align: right;\">\n",
       "      <th>Country</th>\n",
       "      <th>Bahrain</th>\n",
       "      <th>France</th>\n",
       "      <th>Guinea</th>\n",
       "      <th>Iran</th>\n",
       "      <th>Italy</th>\n",
       "      <th>Kuwait</th>\n",
       "      <th>Mexico</th>\n",
       "      <th>Moldova</th>\n",
       "      <th>Myanmar</th>\n",
       "      <th>Poland</th>\n",
       "      <th>Portugal</th>\n",
       "      <th>Russia</th>\n",
       "      <th>Senegal</th>\n",
       "      <th>Turkey</th>\n",
       "      <th>United Arab Emirates</th>\n",
       "      <th>United States</th>\n",
       "    </tr>\n",
       "    <tr>\n",
       "      <th>Date</th>\n",
       "      <th></th>\n",
       "      <th></th>\n",
       "      <th></th>\n",
       "      <th></th>\n",
       "      <th></th>\n",
       "      <th></th>\n",
       "      <th></th>\n",
       "      <th></th>\n",
       "      <th></th>\n",
       "      <th></th>\n",
       "      <th></th>\n",
       "      <th></th>\n",
       "      <th></th>\n",
       "      <th></th>\n",
       "      <th></th>\n",
       "      <th></th>\n",
       "    </tr>\n",
       "  </thead>\n",
       "  <tbody>\n",
       "    <tr>\n",
       "      <th>2020-08-26</th>\n",
       "      <td>1.26</td>\n",
       "      <td>16.03</td>\n",
       "      <td>0.84</td>\n",
       "      <td>1.19</td>\n",
       "      <td>2.03</td>\n",
       "      <td>1.01</td>\n",
       "      <td>1.0</td>\n",
       "      <td>1.51</td>\n",
       "      <td>23.47</td>\n",
       "      <td>1.81</td>\n",
       "      <td>1.29</td>\n",
       "      <td>0.76</td>\n",
       "      <td>1.87</td>\n",
       "      <td>1.43</td>\n",
       "      <td>0.86</td>\n",
       "      <td>2.18</td>\n",
       "    </tr>\n",
       "    <tr>\n",
       "      <th>2020-08-27</th>\n",
       "      <td>1.26</td>\n",
       "      <td>16.03</td>\n",
       "      <td>0.84</td>\n",
       "      <td>1.19</td>\n",
       "      <td>2.03</td>\n",
       "      <td>1.01</td>\n",
       "      <td>1.0</td>\n",
       "      <td>1.51</td>\n",
       "      <td>23.47</td>\n",
       "      <td>1.81</td>\n",
       "      <td>1.29</td>\n",
       "      <td>0.76</td>\n",
       "      <td>1.87</td>\n",
       "      <td>1.43</td>\n",
       "      <td>0.86</td>\n",
       "      <td>2.18</td>\n",
       "    </tr>\n",
       "    <tr>\n",
       "      <th>2020-08-28</th>\n",
       "      <td>1.26</td>\n",
       "      <td>16.03</td>\n",
       "      <td>0.84</td>\n",
       "      <td>1.19</td>\n",
       "      <td>2.03</td>\n",
       "      <td>1.01</td>\n",
       "      <td>1.0</td>\n",
       "      <td>1.51</td>\n",
       "      <td>23.47</td>\n",
       "      <td>1.81</td>\n",
       "      <td>1.29</td>\n",
       "      <td>0.76</td>\n",
       "      <td>1.87</td>\n",
       "      <td>1.43</td>\n",
       "      <td>0.86</td>\n",
       "      <td>2.18</td>\n",
       "    </tr>\n",
       "    <tr>\n",
       "      <th>2020-08-29</th>\n",
       "      <td>1.26</td>\n",
       "      <td>16.03</td>\n",
       "      <td>0.84</td>\n",
       "      <td>1.19</td>\n",
       "      <td>2.03</td>\n",
       "      <td>1.01</td>\n",
       "      <td>1.0</td>\n",
       "      <td>1.51</td>\n",
       "      <td>23.47</td>\n",
       "      <td>1.81</td>\n",
       "      <td>1.29</td>\n",
       "      <td>0.76</td>\n",
       "      <td>1.87</td>\n",
       "      <td>1.43</td>\n",
       "      <td>0.86</td>\n",
       "      <td>2.18</td>\n",
       "    </tr>\n",
       "    <tr>\n",
       "      <th>2020-08-30</th>\n",
       "      <td>1.26</td>\n",
       "      <td>16.03</td>\n",
       "      <td>0.84</td>\n",
       "      <td>1.19</td>\n",
       "      <td>2.03</td>\n",
       "      <td>1.01</td>\n",
       "      <td>1.0</td>\n",
       "      <td>1.51</td>\n",
       "      <td>23.47</td>\n",
       "      <td>1.81</td>\n",
       "      <td>1.29</td>\n",
       "      <td>0.76</td>\n",
       "      <td>1.87</td>\n",
       "      <td>1.43</td>\n",
       "      <td>0.86</td>\n",
       "      <td>2.18</td>\n",
       "    </tr>\n",
       "  </tbody>\n",
       "</table>\n",
       "</div>"
      ],
      "text/plain": [
       "Country     Bahrain  France  Guinea  Iran  Italy  Kuwait  Mexico  Moldova  \\\n",
       "Date                                                                        \n",
       "2020-08-26     1.26   16.03    0.84  1.19   2.03    1.01     1.0     1.51   \n",
       "2020-08-27     1.26   16.03    0.84  1.19   2.03    1.01     1.0     1.51   \n",
       "2020-08-28     1.26   16.03    0.84  1.19   2.03    1.01     1.0     1.51   \n",
       "2020-08-29     1.26   16.03    0.84  1.19   2.03    1.01     1.0     1.51   \n",
       "2020-08-30     1.26   16.03    0.84  1.19   2.03    1.01     1.0     1.51   \n",
       "\n",
       "Country     Myanmar  Poland  Portugal  Russia  Senegal  Turkey  \\\n",
       "Date                                                             \n",
       "2020-08-26    23.47    1.81      1.29    0.76     1.87    1.43   \n",
       "2020-08-27    23.47    1.81      1.29    0.76     1.87    1.43   \n",
       "2020-08-28    23.47    1.81      1.29    0.76     1.87    1.43   \n",
       "2020-08-29    23.47    1.81      1.29    0.76     1.87    1.43   \n",
       "2020-08-30    23.47    1.81      1.29    0.76     1.87    1.43   \n",
       "\n",
       "Country     United Arab Emirates  United States  \n",
       "Date                                             \n",
       "2020-08-26                  0.86           2.18  \n",
       "2020-08-27                  0.86           2.18  \n",
       "2020-08-28                  0.86           2.18  \n",
       "2020-08-29                  0.86           2.18  \n",
       "2020-08-30                  0.86           2.18  "
      ]
     },
     "execution_count": 14,
     "metadata": {},
     "output_type": "execute_result"
    }
   ],
   "source": [
    "analyser.param_history(\"Rt\", roll_window=None).tail()"
   ]
  },
  {
   "cell_type": "markdown",
   "metadata": {},
   "source": [
    "### $\\rho$: Effective contact rate $\\mathrm{[-]}$"
   ]
  },
  {
   "cell_type": "code",
   "execution_count": 15,
   "metadata": {
    "collapsed": false
   },
   "outputs": [
    {
     "data": {
      "image/png": "[encoded data removed]",
      "text/plain": [
       "<Figure size 648x432 with 1 Axes>"
      ]
     },
     "metadata": {},
     "output_type": "display_data"
    },
    {
     "data": {
      "text/html": [
       "<div>\n",
       "<style scoped>\n",
       "    .dataframe tbody tr th:only-of-type {\n",
       "        vertical-align: middle;\n",
       "    }\n",
       "\n",
       "    .dataframe tbody tr th {\n",
       "        vertical-align: top;\n",
       "    }\n",
       "\n",
       "    .dataframe thead th {\n",
       "        text-align: right;\n",
       "    }\n",
       "</style>\n",
       "<table border=\"1\" class=\"dataframe\">\n",
       "  <thead>\n",
       "    <tr style=\"text-align: right;\">\n",
       "      <th>Country</th>\n",
       "      <th>Bahrain</th>\n",
       "      <th>France</th>\n",
       "      <th>Guinea</th>\n",
       "      <th>Iran</th>\n",
       "      <th>Italy</th>\n",
       "      <th>Kuwait</th>\n",
       "      <th>Mexico</th>\n",
       "      <th>Moldova</th>\n",
       "      <th>Myanmar</th>\n",
       "      <th>Poland</th>\n",
       "      <th>Portugal</th>\n",
       "      <th>Russia</th>\n",
       "      <th>Senegal</th>\n",
       "      <th>Turkey</th>\n",
       "      <th>United Arab Emirates</th>\n",
       "      <th>United States</th>\n",
       "    </tr>\n",
       "    <tr>\n",
       "      <th>Date</th>\n",
       "      <th></th>\n",
       "      <th></th>\n",
       "      <th></th>\n",
       "      <th></th>\n",
       "      <th></th>\n",
       "      <th></th>\n",
       "      <th></th>\n",
       "      <th></th>\n",
       "      <th></th>\n",
       "      <th></th>\n",
       "      <th></th>\n",
       "      <th></th>\n",
       "      <th></th>\n",
       "      <th></th>\n",
       "      <th></th>\n",
       "      <th></th>\n",
       "    </tr>\n",
       "  </thead>\n",
       "  <tbody>\n",
       "    <tr>\n",
       "      <th>2020-08-26</th>\n",
       "      <td>0.030746</td>\n",
       "      <td>0.007535</td>\n",
       "      <td>0.01244</td>\n",
       "      <td>0.019078</td>\n",
       "      <td>0.009369</td>\n",
       "      <td>0.021717</td>\n",
       "      <td>0.030887</td>\n",
       "      <td>0.012785</td>\n",
       "      <td>0.042998</td>\n",
       "      <td>0.015784</td>\n",
       "      <td>0.004042</td>\n",
       "      <td>0.001468</td>\n",
       "      <td>0.010079</td>\n",
       "      <td>0.022959</td>\n",
       "      <td>0.010818</td>\n",
       "      <td>0.003226</td>\n",
       "    </tr>\n",
       "    <tr>\n",
       "      <th>2020-08-27</th>\n",
       "      <td>0.030746</td>\n",
       "      <td>0.007535</td>\n",
       "      <td>0.01244</td>\n",
       "      <td>0.019078</td>\n",
       "      <td>0.009369</td>\n",
       "      <td>0.021717</td>\n",
       "      <td>0.030887</td>\n",
       "      <td>0.012785</td>\n",
       "      <td>0.042998</td>\n",
       "      <td>0.015784</td>\n",
       "      <td>0.004042</td>\n",
       "      <td>0.001468</td>\n",
       "      <td>0.010079</td>\n",
       "      <td>0.022959</td>\n",
       "      <td>0.010818</td>\n",
       "      <td>0.003226</td>\n",
       "    </tr>\n",
       "    <tr>\n",
       "      <th>2020-08-28</th>\n",
       "      <td>0.030746</td>\n",
       "      <td>0.007535</td>\n",
       "      <td>0.01244</td>\n",
       "      <td>0.019078</td>\n",
       "      <td>0.009369</td>\n",
       "      <td>0.021717</td>\n",
       "      <td>0.030887</td>\n",
       "      <td>0.012785</td>\n",
       "      <td>0.042998</td>\n",
       "      <td>0.015784</td>\n",
       "      <td>0.004042</td>\n",
       "      <td>0.001468</td>\n",
       "      <td>0.010079</td>\n",
       "      <td>0.022959</td>\n",
       "      <td>0.010818</td>\n",
       "      <td>0.003226</td>\n",
       "    </tr>\n",
       "    <tr>\n",
       "      <th>2020-08-29</th>\n",
       "      <td>0.030746</td>\n",
       "      <td>0.007535</td>\n",
       "      <td>0.01244</td>\n",
       "      <td>0.019078</td>\n",
       "      <td>0.009369</td>\n",
       "      <td>0.021717</td>\n",
       "      <td>0.030887</td>\n",
       "      <td>0.012785</td>\n",
       "      <td>0.042998</td>\n",
       "      <td>0.015784</td>\n",
       "      <td>0.004042</td>\n",
       "      <td>0.001468</td>\n",
       "      <td>0.010079</td>\n",
       "      <td>0.022959</td>\n",
       "      <td>0.010818</td>\n",
       "      <td>0.003226</td>\n",
       "    </tr>\n",
       "    <tr>\n",
       "      <th>2020-08-30</th>\n",
       "      <td>0.030746</td>\n",
       "      <td>0.007535</td>\n",
       "      <td>0.01244</td>\n",
       "      <td>0.019078</td>\n",
       "      <td>0.009369</td>\n",
       "      <td>0.021717</td>\n",
       "      <td>0.030887</td>\n",
       "      <td>0.012785</td>\n",
       "      <td>0.042998</td>\n",
       "      <td>0.015784</td>\n",
       "      <td>0.004042</td>\n",
       "      <td>0.001468</td>\n",
       "      <td>0.010079</td>\n",
       "      <td>0.022959</td>\n",
       "      <td>0.010818</td>\n",
       "      <td>0.003226</td>\n",
       "    </tr>\n",
       "  </tbody>\n",
       "</table>\n",
       "</div>"
      ],
      "text/plain": [
       "Country      Bahrain    France   Guinea      Iran     Italy    Kuwait  \\\n",
       "Date                                                                    \n",
       "2020-08-26  0.030746  0.007535  0.01244  0.019078  0.009369  0.021717   \n",
       "2020-08-27  0.030746  0.007535  0.01244  0.019078  0.009369  0.021717   \n",
       "2020-08-28  0.030746  0.007535  0.01244  0.019078  0.009369  0.021717   \n",
       "2020-08-29  0.030746  0.007535  0.01244  0.019078  0.009369  0.021717   \n",
       "2020-08-30  0.030746  0.007535  0.01244  0.019078  0.009369  0.021717   \n",
       "\n",
       "Country       Mexico   Moldova   Myanmar    Poland  Portugal    Russia  \\\n",
       "Date                                                                     \n",
       "2020-08-26  0.030887  0.012785  0.042998  0.015784  0.004042  0.001468   \n",
       "2020-08-27  0.030887  0.012785  0.042998  0.015784  0.004042  0.001468   \n",
       "2020-08-28  0.030887  0.012785  0.042998  0.015784  0.004042  0.001468   \n",
       "2020-08-29  0.030887  0.012785  0.042998  0.015784  0.004042  0.001468   \n",
       "2020-08-30  0.030887  0.012785  0.042998  0.015784  0.004042  0.001468   \n",
       "\n",
       "Country      Senegal    Turkey  United Arab Emirates  United States  \n",
       "Date                                                                 \n",
       "2020-08-26  0.010079  0.022959              0.010818       0.003226  \n",
       "2020-08-27  0.010079  0.022959              0.010818       0.003226  \n",
       "2020-08-28  0.010079  0.022959              0.010818       0.003226  \n",
       "2020-08-29  0.010079  0.022959              0.010818       0.003226  \n",
       "2020-08-30  0.010079  0.022959              0.010818       0.003226  "
      ]
     },
     "execution_count": 15,
     "metadata": {},
     "output_type": "execute_result"
    }
   ],
   "source": [
    "analyser.param_history(\"rho\", roll_window=None).tail()"
   ]
  },
  {
   "cell_type": "markdown",
   "metadata": {},
   "source": [
    "### $\\sigma$: Recovery rate $\\mathrm{[-]}$"
   ]
  },
  {
   "cell_type": "code",
   "execution_count": 16,
   "metadata": {
    "collapsed": false
   },
   "outputs": [
    {
     "data": {
      "image/png": "[encoded data removed]",
      "text/plain": [
       "<Figure size 648x432 with 1 Axes>"
      ]
     },
     "metadata": {},
     "output_type": "display_data"
    },
    {
     "data": {
      "text/html": [
       "<div>\n",
       "<style scoped>\n",
       "    .dataframe tbody tr th:only-of-type {\n",
       "        vertical-align: middle;\n",
       "    }\n",
       "\n",
       "    .dataframe tbody tr th {\n",
       "        vertical-align: top;\n",
       "    }\n",
       "\n",
       "    .dataframe thead th {\n",
       "        text-align: right;\n",
       "    }\n",
       "</style>\n",
       "<table border=\"1\" class=\"dataframe\">\n",
       "  <thead>\n",
       "    <tr style=\"text-align: right;\">\n",
       "      <th>Country</th>\n",
       "      <th>Bahrain</th>\n",
       "      <th>France</th>\n",
       "      <th>Guinea</th>\n",
       "      <th>Iran</th>\n",
       "      <th>Italy</th>\n",
       "      <th>Kuwait</th>\n",
       "      <th>Mexico</th>\n",
       "      <th>Moldova</th>\n",
       "      <th>Myanmar</th>\n",
       "      <th>Poland</th>\n",
       "      <th>Portugal</th>\n",
       "      <th>Russia</th>\n",
       "      <th>Senegal</th>\n",
       "      <th>Turkey</th>\n",
       "      <th>United Arab Emirates</th>\n",
       "      <th>United States</th>\n",
       "    </tr>\n",
       "    <tr>\n",
       "      <th>Date</th>\n",
       "      <th></th>\n",
       "      <th></th>\n",
       "      <th></th>\n",
       "      <th></th>\n",
       "      <th></th>\n",
       "      <th></th>\n",
       "      <th></th>\n",
       "      <th></th>\n",
       "      <th></th>\n",
       "      <th></th>\n",
       "      <th></th>\n",
       "      <th></th>\n",
       "      <th></th>\n",
       "      <th></th>\n",
       "      <th></th>\n",
       "      <th></th>\n",
       "    </tr>\n",
       "  </thead>\n",
       "  <tbody>\n",
       "    <tr>\n",
       "      <th>2020-08-26</th>\n",
       "      <td>0.024231</td>\n",
       "      <td>0.000433</td>\n",
       "      <td>0.014613</td>\n",
       "      <td>0.015049</td>\n",
       "      <td>0.004377</td>\n",
       "      <td>0.021344</td>\n",
       "      <td>0.027796</td>\n",
       "      <td>0.008213</td>\n",
       "      <td>0.00181</td>\n",
       "      <td>0.008545</td>\n",
       "      <td>0.003071</td>\n",
       "      <td>0.001889</td>\n",
       "      <td>0.005139</td>\n",
       "      <td>0.015696</td>\n",
       "      <td>0.012581</td>\n",
       "      <td>0.001406</td>\n",
       "    </tr>\n",
       "    <tr>\n",
       "      <th>2020-08-27</th>\n",
       "      <td>0.024231</td>\n",
       "      <td>0.000433</td>\n",
       "      <td>0.014613</td>\n",
       "      <td>0.015049</td>\n",
       "      <td>0.004377</td>\n",
       "      <td>0.021344</td>\n",
       "      <td>0.027796</td>\n",
       "      <td>0.008213</td>\n",
       "      <td>0.00181</td>\n",
       "      <td>0.008545</td>\n",
       "      <td>0.003071</td>\n",
       "      <td>0.001889</td>\n",
       "      <td>0.005139</td>\n",
       "      <td>0.015696</td>\n",
       "      <td>0.012581</td>\n",
       "      <td>0.001406</td>\n",
       "    </tr>\n",
       "    <tr>\n",
       "      <th>2020-08-28</th>\n",
       "      <td>0.024231</td>\n",
       "      <td>0.000433</td>\n",
       "      <td>0.014613</td>\n",
       "      <td>0.015049</td>\n",
       "      <td>0.004377</td>\n",
       "      <td>0.021344</td>\n",
       "      <td>0.027796</td>\n",
       "      <td>0.008213</td>\n",
       "      <td>0.00181</td>\n",
       "      <td>0.008545</td>\n",
       "      <td>0.003071</td>\n",
       "      <td>0.001889</td>\n",
       "      <td>0.005139</td>\n",
       "      <td>0.015696</td>\n",
       "      <td>0.012581</td>\n",
       "      <td>0.001406</td>\n",
       "    </tr>\n",
       "    <tr>\n",
       "      <th>2020-08-29</th>\n",
       "      <td>0.024231</td>\n",
       "      <td>0.000433</td>\n",
       "      <td>0.014613</td>\n",
       "      <td>0.015049</td>\n",
       "      <td>0.004377</td>\n",
       "      <td>0.021344</td>\n",
       "      <td>0.027796</td>\n",
       "      <td>0.008213</td>\n",
       "      <td>0.00181</td>\n",
       "      <td>0.008545</td>\n",
       "      <td>0.003071</td>\n",
       "      <td>0.001889</td>\n",
       "      <td>0.005139</td>\n",
       "      <td>0.015696</td>\n",
       "      <td>0.012581</td>\n",
       "      <td>0.001406</td>\n",
       "    </tr>\n",
       "    <tr>\n",
       "      <th>2020-08-30</th>\n",
       "      <td>0.024231</td>\n",
       "      <td>0.000433</td>\n",
       "      <td>0.014613</td>\n",
       "      <td>0.015049</td>\n",
       "      <td>0.004377</td>\n",
       "      <td>0.021344</td>\n",
       "      <td>0.027796</td>\n",
       "      <td>0.008213</td>\n",
       "      <td>0.00181</td>\n",
       "      <td>0.008545</td>\n",
       "      <td>0.003071</td>\n",
       "      <td>0.001889</td>\n",
       "      <td>0.005139</td>\n",
       "      <td>0.015696</td>\n",
       "      <td>0.012581</td>\n",
       "      <td>0.001406</td>\n",
       "    </tr>\n",
       "  </tbody>\n",
       "</table>\n",
       "</div>"
      ],
      "text/plain": [
       "Country      Bahrain    France    Guinea      Iran     Italy    Kuwait  \\\n",
       "Date                                                                     \n",
       "2020-08-26  0.024231  0.000433  0.014613  0.015049  0.004377  0.021344   \n",
       "2020-08-27  0.024231  0.000433  0.014613  0.015049  0.004377  0.021344   \n",
       "2020-08-28  0.024231  0.000433  0.014613  0.015049  0.004377  0.021344   \n",
       "2020-08-29  0.024231  0.000433  0.014613  0.015049  0.004377  0.021344   \n",
       "2020-08-30  0.024231  0.000433  0.014613  0.015049  0.004377  0.021344   \n",
       "\n",
       "Country       Mexico   Moldova  Myanmar    Poland  Portugal    Russia  \\\n",
       "Date                                                                    \n",
       "2020-08-26  0.027796  0.008213  0.00181  0.008545  0.003071  0.001889   \n",
       "2020-08-27  0.027796  0.008213  0.00181  0.008545  0.003071  0.001889   \n",
       "2020-08-28  0.027796  0.008213  0.00181  0.008545  0.003071  0.001889   \n",
       "2020-08-29  0.027796  0.008213  0.00181  0.008545  0.003071  0.001889   \n",
       "2020-08-30  0.027796  0.008213  0.00181  0.008545  0.003071  0.001889   \n",
       "\n",
       "Country      Senegal    Turkey  United Arab Emirates  United States  \n",
       "Date                                                                 \n",
       "2020-08-26  0.005139  0.015696              0.012581       0.001406  \n",
       "2020-08-27  0.005139  0.015696              0.012581       0.001406  \n",
       "2020-08-28  0.005139  0.015696              0.012581       0.001406  \n",
       "2020-08-29  0.005139  0.015696              0.012581       0.001406  \n",
       "2020-08-30  0.005139  0.015696              0.012581       0.001406  "
      ]
     },
     "execution_count": 16,
     "metadata": {},
     "output_type": "execute_result"
    }
   ],
   "source": [
    "analyser.param_history(\"sigma\", roll_window=None).tail()"
   ]
  },
  {
   "cell_type": "markdown",
   "metadata": {},
   "source": [
    "### $\\kappa$: Mortality rate of infected cases $\\mathrm{[-]}$"
   ]
  },
  {
   "cell_type": "code",
   "execution_count": 17,
   "metadata": {
    "collapsed": false
   },
   "outputs": [
    {
     "data": {
      "image/png": "[encoded data removed]",
      "text/plain": [
       "<Figure size 648x432 with 1 Axes>"
      ]
     },
     "metadata": {},
     "output_type": "display_data"
    },
    {
     "data": {
      "text/html": [
       "<div>\n",
       "<style scoped>\n",
       "    .dataframe tbody tr th:only-of-type {\n",
       "        vertical-align: middle;\n",
       "    }\n",
       "\n",
       "    .dataframe tbody tr th {\n",
       "        vertical-align: top;\n",
       "    }\n",
       "\n",
       "    .dataframe thead th {\n",
       "        text-align: right;\n",
       "    }\n",
       "</style>\n",
       "<table border=\"1\" class=\"dataframe\">\n",
       "  <thead>\n",
       "    <tr style=\"text-align: right;\">\n",
       "      <th>Country</th>\n",
       "      <th>Bahrain</th>\n",
       "      <th>France</th>\n",
       "      <th>Guinea</th>\n",
       "      <th>Iran</th>\n",
       "      <th>Italy</th>\n",
       "      <th>Kuwait</th>\n",
       "      <th>Mexico</th>\n",
       "      <th>Moldova</th>\n",
       "      <th>Myanmar</th>\n",
       "      <th>Poland</th>\n",
       "      <th>Portugal</th>\n",
       "      <th>Russia</th>\n",
       "      <th>Senegal</th>\n",
       "      <th>Turkey</th>\n",
       "      <th>United Arab Emirates</th>\n",
       "      <th>United States</th>\n",
       "    </tr>\n",
       "    <tr>\n",
       "      <th>Date</th>\n",
       "      <th></th>\n",
       "      <th></th>\n",
       "      <th></th>\n",
       "      <th></th>\n",
       "      <th></th>\n",
       "      <th></th>\n",
       "      <th></th>\n",
       "      <th></th>\n",
       "      <th></th>\n",
       "      <th></th>\n",
       "      <th></th>\n",
       "      <th></th>\n",
       "      <th></th>\n",
       "      <th></th>\n",
       "      <th></th>\n",
       "      <th></th>\n",
       "    </tr>\n",
       "  </thead>\n",
       "  <tbody>\n",
       "    <tr>\n",
       "      <th>2020-08-26</th>\n",
       "      <td>0.000014</td>\n",
       "      <td>0.000037</td>\n",
       "      <td>0.000144</td>\n",
       "      <td>0.000479</td>\n",
       "      <td>0.000245</td>\n",
       "      <td>0.000014</td>\n",
       "      <td>0.000277</td>\n",
       "      <td>0.000272</td>\n",
       "      <td>0.000021</td>\n",
       "      <td>0.00015</td>\n",
       "      <td>0.00006</td>\n",
       "      <td>0.000031</td>\n",
       "      <td>0.000256</td>\n",
       "      <td>0.000037</td>\n",
       "      <td>0.000031</td>\n",
       "      <td>0.000071</td>\n",
       "    </tr>\n",
       "    <tr>\n",
       "      <th>2020-08-27</th>\n",
       "      <td>0.000014</td>\n",
       "      <td>0.000037</td>\n",
       "      <td>0.000144</td>\n",
       "      <td>0.000479</td>\n",
       "      <td>0.000245</td>\n",
       "      <td>0.000014</td>\n",
       "      <td>0.000277</td>\n",
       "      <td>0.000272</td>\n",
       "      <td>0.000021</td>\n",
       "      <td>0.00015</td>\n",
       "      <td>0.00006</td>\n",
       "      <td>0.000031</td>\n",
       "      <td>0.000256</td>\n",
       "      <td>0.000037</td>\n",
       "      <td>0.000031</td>\n",
       "      <td>0.000071</td>\n",
       "    </tr>\n",
       "    <tr>\n",
       "      <th>2020-08-28</th>\n",
       "      <td>0.000014</td>\n",
       "      <td>0.000037</td>\n",
       "      <td>0.000144</td>\n",
       "      <td>0.000479</td>\n",
       "      <td>0.000245</td>\n",
       "      <td>0.000014</td>\n",
       "      <td>0.000277</td>\n",
       "      <td>0.000272</td>\n",
       "      <td>0.000021</td>\n",
       "      <td>0.00015</td>\n",
       "      <td>0.00006</td>\n",
       "      <td>0.000031</td>\n",
       "      <td>0.000256</td>\n",
       "      <td>0.000037</td>\n",
       "      <td>0.000031</td>\n",
       "      <td>0.000071</td>\n",
       "    </tr>\n",
       "    <tr>\n",
       "      <th>2020-08-29</th>\n",
       "      <td>0.000014</td>\n",
       "      <td>0.000037</td>\n",
       "      <td>0.000144</td>\n",
       "      <td>0.000479</td>\n",
       "      <td>0.000245</td>\n",
       "      <td>0.000014</td>\n",
       "      <td>0.000277</td>\n",
       "      <td>0.000272</td>\n",
       "      <td>0.000021</td>\n",
       "      <td>0.00015</td>\n",
       "      <td>0.00006</td>\n",
       "      <td>0.000031</td>\n",
       "      <td>0.000256</td>\n",
       "      <td>0.000037</td>\n",
       "      <td>0.000031</td>\n",
       "      <td>0.000071</td>\n",
       "    </tr>\n",
       "    <tr>\n",
       "      <th>2020-08-30</th>\n",
       "      <td>0.000014</td>\n",
       "      <td>0.000037</td>\n",
       "      <td>0.000144</td>\n",
       "      <td>0.000479</td>\n",
       "      <td>0.000245</td>\n",
       "      <td>0.000014</td>\n",
       "      <td>0.000277</td>\n",
       "      <td>0.000272</td>\n",
       "      <td>0.000021</td>\n",
       "      <td>0.00015</td>\n",
       "      <td>0.00006</td>\n",
       "      <td>0.000031</td>\n",
       "      <td>0.000256</td>\n",
       "      <td>0.000037</td>\n",
       "      <td>0.000031</td>\n",
       "      <td>0.000071</td>\n",
       "    </tr>\n",
       "  </tbody>\n",
       "</table>\n",
       "</div>"
      ],
      "text/plain": [
       "Country      Bahrain    France    Guinea      Iran     Italy    Kuwait  \\\n",
       "Date                                                                     \n",
       "2020-08-26  0.000014  0.000037  0.000144  0.000479  0.000245  0.000014   \n",
       "2020-08-27  0.000014  0.000037  0.000144  0.000479  0.000245  0.000014   \n",
       "2020-08-28  0.000014  0.000037  0.000144  0.000479  0.000245  0.000014   \n",
       "2020-08-29  0.000014  0.000037  0.000144  0.000479  0.000245  0.000014   \n",
       "2020-08-30  0.000014  0.000037  0.000144  0.000479  0.000245  0.000014   \n",
       "\n",
       "Country       Mexico   Moldova   Myanmar   Poland  Portugal    Russia  \\\n",
       "Date                                                                    \n",
       "2020-08-26  0.000277  0.000272  0.000021  0.00015   0.00006  0.000031   \n",
       "2020-08-27  0.000277  0.000272  0.000021  0.00015   0.00006  0.000031   \n",
       "2020-08-28  0.000277  0.000272  0.000021  0.00015   0.00006  0.000031   \n",
       "2020-08-29  0.000277  0.000272  0.000021  0.00015   0.00006  0.000031   \n",
       "2020-08-30  0.000277  0.000272  0.000021  0.00015   0.00006  0.000031   \n",
       "\n",
       "Country      Senegal    Turkey  United Arab Emirates  United States  \n",
       "Date                                                                 \n",
       "2020-08-26  0.000256  0.000037              0.000031       0.000071  \n",
       "2020-08-27  0.000256  0.000037              0.000031       0.000071  \n",
       "2020-08-28  0.000256  0.000037              0.000031       0.000071  \n",
       "2020-08-29  0.000256  0.000037              0.000031       0.000071  \n",
       "2020-08-30  0.000256  0.000037              0.000031       0.000071  "
      ]
     },
     "execution_count": 17,
     "metadata": {},
     "output_type": "execute_result"
    }
   ],
   "source": [
    "analyser.param_history(\"kappa\", roll_window=None).tail()"
   ]
  },
  {
   "cell_type": "markdown",
   "metadata": {},
   "source": [
    "### $\\theta$: Mortality rate of S$^\\ast$ cases $\\mathrm{[-]}$"
   ]
  },
  {
   "cell_type": "code",
   "execution_count": 18,
   "metadata": {
    "collapsed": false
   },
   "outputs": [
    {
     "data": {
      "image/png": "[encoded data removed]",
      "text/plain": [
       "<Figure size 648x432 with 1 Axes>"
      ]
     },
     "metadata": {},
     "output_type": "display_data"
    },
    {
     "data": {
      "text/html": [
       "<div>\n",
       "<style scoped>\n",
       "    .dataframe tbody tr th:only-of-type {\n",
       "        vertical-align: middle;\n",
       "    }\n",
       "\n",
       "    .dataframe tbody tr th {\n",
       "        vertical-align: top;\n",
       "    }\n",
       "\n",
       "    .dataframe thead th {\n",
       "        text-align: right;\n",
       "    }\n",
       "</style>\n",
       "<table border=\"1\" class=\"dataframe\">\n",
       "  <thead>\n",
       "    <tr style=\"text-align: right;\">\n",
       "      <th>Country</th>\n",
       "      <th>Bahrain</th>\n",
       "      <th>France</th>\n",
       "      <th>Guinea</th>\n",
       "      <th>Iran</th>\n",
       "      <th>Italy</th>\n",
       "      <th>Kuwait</th>\n",
       "      <th>Mexico</th>\n",
       "      <th>Moldova</th>\n",
       "      <th>Myanmar</th>\n",
       "      <th>Poland</th>\n",
       "      <th>Portugal</th>\n",
       "      <th>Russia</th>\n",
       "      <th>Senegal</th>\n",
       "      <th>Turkey</th>\n",
       "      <th>United Arab Emirates</th>\n",
       "      <th>United States</th>\n",
       "    </tr>\n",
       "    <tr>\n",
       "      <th>Date</th>\n",
       "      <th></th>\n",
       "      <th></th>\n",
       "      <th></th>\n",
       "      <th></th>\n",
       "      <th></th>\n",
       "      <th></th>\n",
       "      <th></th>\n",
       "      <th></th>\n",
       "      <th></th>\n",
       "      <th></th>\n",
       "      <th></th>\n",
       "      <th></th>\n",
       "      <th></th>\n",
       "      <th></th>\n",
       "      <th></th>\n",
       "      <th></th>\n",
       "    </tr>\n",
       "  </thead>\n",
       "  <tbody>\n",
       "    <tr>\n",
       "      <th>2020-08-26</th>\n",
       "      <td>0.00344</td>\n",
       "      <td>0.000679</td>\n",
       "      <td>0.000086</td>\n",
       "      <td>0.032072</td>\n",
       "      <td>0.000143</td>\n",
       "      <td>0.00526</td>\n",
       "      <td>0.08668</td>\n",
       "      <td>0.000204</td>\n",
       "      <td>0.000686</td>\n",
       "      <td>0.000657</td>\n",
       "      <td>0.000055</td>\n",
       "      <td>0.001416</td>\n",
       "      <td>0.000409</td>\n",
       "      <td>0.018505</td>\n",
       "      <td>0.000938</td>\n",
       "      <td>0.003015</td>\n",
       "    </tr>\n",
       "    <tr>\n",
       "      <th>2020-08-27</th>\n",
       "      <td>0.00344</td>\n",
       "      <td>0.000679</td>\n",
       "      <td>0.000086</td>\n",
       "      <td>0.032072</td>\n",
       "      <td>0.000143</td>\n",
       "      <td>0.00526</td>\n",
       "      <td>0.08668</td>\n",
       "      <td>0.000204</td>\n",
       "      <td>0.000686</td>\n",
       "      <td>0.000657</td>\n",
       "      <td>0.000055</td>\n",
       "      <td>0.001416</td>\n",
       "      <td>0.000409</td>\n",
       "      <td>0.018505</td>\n",
       "      <td>0.000938</td>\n",
       "      <td>0.003015</td>\n",
       "    </tr>\n",
       "    <tr>\n",
       "      <th>2020-08-28</th>\n",
       "      <td>0.00344</td>\n",
       "      <td>0.000679</td>\n",
       "      <td>0.000086</td>\n",
       "      <td>0.032072</td>\n",
       "      <td>0.000143</td>\n",
       "      <td>0.00526</td>\n",
       "      <td>0.08668</td>\n",
       "      <td>0.000204</td>\n",
       "      <td>0.000686</td>\n",
       "      <td>0.000657</td>\n",
       "      <td>0.000055</td>\n",
       "      <td>0.001416</td>\n",
       "      <td>0.000409</td>\n",
       "      <td>0.018505</td>\n",
       "      <td>0.000938</td>\n",
       "      <td>0.003015</td>\n",
       "    </tr>\n",
       "    <tr>\n",
       "      <th>2020-08-29</th>\n",
       "      <td>0.00344</td>\n",
       "      <td>0.000679</td>\n",
       "      <td>0.000086</td>\n",
       "      <td>0.032072</td>\n",
       "      <td>0.000143</td>\n",
       "      <td>0.00526</td>\n",
       "      <td>0.08668</td>\n",
       "      <td>0.000204</td>\n",
       "      <td>0.000686</td>\n",
       "      <td>0.000657</td>\n",
       "      <td>0.000055</td>\n",
       "      <td>0.001416</td>\n",
       "      <td>0.000409</td>\n",
       "      <td>0.018505</td>\n",
       "      <td>0.000938</td>\n",
       "      <td>0.003015</td>\n",
       "    </tr>\n",
       "    <tr>\n",
       "      <th>2020-08-30</th>\n",
       "      <td>0.00344</td>\n",
       "      <td>0.000679</td>\n",
       "      <td>0.000086</td>\n",
       "      <td>0.032072</td>\n",
       "      <td>0.000143</td>\n",
       "      <td>0.00526</td>\n",
       "      <td>0.08668</td>\n",
       "      <td>0.000204</td>\n",
       "      <td>0.000686</td>\n",
       "      <td>0.000657</td>\n",
       "      <td>0.000055</td>\n",
       "      <td>0.001416</td>\n",
       "      <td>0.000409</td>\n",
       "      <td>0.018505</td>\n",
       "      <td>0.000938</td>\n",
       "      <td>0.003015</td>\n",
       "    </tr>\n",
       "  </tbody>\n",
       "</table>\n",
       "</div>"
      ],
      "text/plain": [
       "Country     Bahrain    France    Guinea      Iran     Italy   Kuwait   Mexico  \\\n",
       "Date                                                                            \n",
       "2020-08-26  0.00344  0.000679  0.000086  0.032072  0.000143  0.00526  0.08668   \n",
       "2020-08-27  0.00344  0.000679  0.000086  0.032072  0.000143  0.00526  0.08668   \n",
       "2020-08-28  0.00344  0.000679  0.000086  0.032072  0.000143  0.00526  0.08668   \n",
       "2020-08-29  0.00344  0.000679  0.000086  0.032072  0.000143  0.00526  0.08668   \n",
       "2020-08-30  0.00344  0.000679  0.000086  0.032072  0.000143  0.00526  0.08668   \n",
       "\n",
       "Country      Moldova   Myanmar    Poland  Portugal    Russia   Senegal  \\\n",
       "Date                                                                     \n",
       "2020-08-26  0.000204  0.000686  0.000657  0.000055  0.001416  0.000409   \n",
       "2020-08-27  0.000204  0.000686  0.000657  0.000055  0.001416  0.000409   \n",
       "2020-08-28  0.000204  0.000686  0.000657  0.000055  0.001416  0.000409   \n",
       "2020-08-29  0.000204  0.000686  0.000657  0.000055  0.001416  0.000409   \n",
       "2020-08-30  0.000204  0.000686  0.000657  0.000055  0.001416  0.000409   \n",
       "\n",
       "Country       Turkey  United Arab Emirates  United States  \n",
       "Date                                                       \n",
       "2020-08-26  0.018505              0.000938       0.003015  \n",
       "2020-08-27  0.018505              0.000938       0.003015  \n",
       "2020-08-28  0.018505              0.000938       0.003015  \n",
       "2020-08-29  0.018505              0.000938       0.003015  \n",
       "2020-08-30  0.018505              0.000938       0.003015  "
      ]
     },
     "execution_count": 18,
     "metadata": {},
     "output_type": "execute_result"
    }
   ],
   "source": [
    "analyser.param_history(\"theta\", roll_window=None).tail()"
   ]
  },
  {
   "cell_type": "markdown",
   "metadata": {},
   "source": [
    "## (Experimental): Relationship of OxCGRT index and parameter values\n",
    "Government responses will impact on parameter values of ODE models about 14 days later. Here, we will investigate on the relationship of [stringency index (from OxCGRT)](https://github.com/OxCGRT/covid-policy-tracker/blob/master/documentation/index_methodology.md) and reproduction number/model parameters.\n"
   ]
  },
  {
   "cell_type": "code",
   "execution_count": 19,
   "metadata": {
    "collapsed": false
   },
   "outputs": [],
   "source": [
    "%matplotlib inline\n",
    "from matplotlib import pyplot as plt\n",
    "import seaborn as sns\n",
    "import pandas as pd"
   ]
  },
  {
   "cell_type": "code",
   "execution_count": 20,
   "metadata": {
    "collapsed": false
   },
   "outputs": [
    {
     "name": "stdout",
     "output_type": "stream",
     "text": [
      "<class 'pandas.core.frame.DataFrame'>\n",
      "Int64Index: 26178 entries, 0 to 26387\n",
      "Data columns (total 19 columns):\n",
      " #   Column                               Non-Null Count  Dtype         \n",
      "---  ------                               --------------  -----         \n",
      " 0   Date                                 26178 non-null  datetime64[ns]\n",
      " 1   Country                              26178 non-null  object        \n",
      " 2   Rt                                   26178 non-null  float64       \n",
      " 3   theta                                26178 non-null  float64       \n",
      " 4   kappa                                26178 non-null  float64       \n",
      " 5   rho                                  26178 non-null  float64       \n",
      " 6   sigma                                26178 non-null  float64       \n",
      " 7   School_closing                       26178 non-null  int64         \n",
      " 8   Workplace_closing                    26178 non-null  int64         \n",
      " 9   Cancel_events                        26178 non-null  int64         \n",
      " 10  Gatherings_restrictions              26178 non-null  int64         \n",
      " 11  Transport_closing                    26178 non-null  int64         \n",
      " 12  Stay_home_restrictions               26178 non-null  int64         \n",
      " 13  Internal_movement_restrictions       26178 non-null  int64         \n",
      " 14  International_movement_restrictions  26178 non-null  int64         \n",
      " 15  Information_campaigns                26178 non-null  int64         \n",
      " 16  Testing_policy                       26178 non-null  int64         \n",
      " 17  Contact_tracing                      26178 non-null  int64         \n",
      " 18  Stringency_index                     26178 non-null  float64       \n",
      "dtypes: datetime64[ns](1), float64(6), int64(11), object(1)\n",
      "memory usage: 4.0+ MB\n"
     ]
    }
   ],
   "source": [
    "df = analyser.track()\n",
    "param_cols = [\"Rt\", *cs.SIRF.PARAMETERS]\n",
    "oxcgrt_cols = oxcgrt_data.OXCGRT_VARS[:]\n",
    "cols = param_cols + oxcgrt_cols\n",
    "delay = 14\n",
    "\n",
    "for col in param_cols:\n",
    "    df[col] = pd.to_numeric(df[col], errors=\"coerce\")\n",
    "    df[col] = df.groupby(\"Country\")[col].shift(0 - delay)\n",
    "\n",
    "df = df.dropna(how=\"any\")\n",
    "df = df.loc[:, [\"Date\", \"Country\", *cols]]\n",
    "track_df = df.copy()\n",
    "track_df.info()"
   ]
  },
  {
   "cell_type": "code",
   "execution_count": 21,
   "metadata": {
    "collapsed": false
   },
   "outputs": [
    {
     "data": {
      "text/html": [
       "<style  type=\"text/css\" >\n",
       "#T_9c69aed4_eadb_11ea_8919_52540045baa0row0_col0,#T_9c69aed4_eadb_11ea_8919_52540045baa0row1_col1,#T_9c69aed4_eadb_11ea_8919_52540045baa0row2_col2,#T_9c69aed4_eadb_11ea_8919_52540045baa0row3_col3,#T_9c69aed4_eadb_11ea_8919_52540045baa0row4_col4,#T_9c69aed4_eadb_11ea_8919_52540045baa0row5_col5,#T_9c69aed4_eadb_11ea_8919_52540045baa0row6_col6,#T_9c69aed4_eadb_11ea_8919_52540045baa0row7_col7,#T_9c69aed4_eadb_11ea_8919_52540045baa0row8_col8,#T_9c69aed4_eadb_11ea_8919_52540045baa0row9_col9,#T_9c69aed4_eadb_11ea_8919_52540045baa0row10_col10,#T_9c69aed4_eadb_11ea_8919_52540045baa0row11_col11,#T_9c69aed4_eadb_11ea_8919_52540045baa0row12_col12,#T_9c69aed4_eadb_11ea_8919_52540045baa0row13_col13,#T_9c69aed4_eadb_11ea_8919_52540045baa0row14_col14,#T_9c69aed4_eadb_11ea_8919_52540045baa0row15_col15,#T_9c69aed4_eadb_11ea_8919_52540045baa0row16_col16{\n",
       "            background-color:  #023858;\n",
       "            color:  #f1f1f1;\n",
       "        }#T_9c69aed4_eadb_11ea_8919_52540045baa0row0_col1,#T_9c69aed4_eadb_11ea_8919_52540045baa0row0_col16,#T_9c69aed4_eadb_11ea_8919_52540045baa0row1_col0,#T_9c69aed4_eadb_11ea_8919_52540045baa0row4_col13,#T_9c69aed4_eadb_11ea_8919_52540045baa0row12_col15,#T_9c69aed4_eadb_11ea_8919_52540045baa0row13_col4,#T_9c69aed4_eadb_11ea_8919_52540045baa0row15_col12,#T_9c69aed4_eadb_11ea_8919_52540045baa0row16_col0{\n",
       "            background-color:  #c9cee4;\n",
       "            color:  #000000;\n",
       "        }#T_9c69aed4_eadb_11ea_8919_52540045baa0row0_col2,#T_9c69aed4_eadb_11ea_8919_52540045baa0row2_col0{\n",
       "            background-color:  #b4c4df;\n",
       "            color:  #000000;\n",
       "        }#T_9c69aed4_eadb_11ea_8919_52540045baa0row0_col3,#T_9c69aed4_eadb_11ea_8919_52540045baa0row3_col0,#T_9c69aed4_eadb_11ea_8919_52540045baa0row3_col12,#T_9c69aed4_eadb_11ea_8919_52540045baa0row5_col10,#T_9c69aed4_eadb_11ea_8919_52540045baa0row7_col8,#T_9c69aed4_eadb_11ea_8919_52540045baa0row8_col7,#T_9c69aed4_eadb_11ea_8919_52540045baa0row10_col5,#T_9c69aed4_eadb_11ea_8919_52540045baa0row12_col3{\n",
       "            background-color:  #75a9cf;\n",
       "            color:  #000000;\n",
       "        }#T_9c69aed4_eadb_11ea_8919_52540045baa0row0_col4,#T_9c69aed4_eadb_11ea_8919_52540045baa0row4_col0,#T_9c69aed4_eadb_11ea_8919_52540045baa0row15_col16,#T_9c69aed4_eadb_11ea_8919_52540045baa0row16_col15{\n",
       "            background-color:  #d9d8ea;\n",
       "            color:  #000000;\n",
       "        }#T_9c69aed4_eadb_11ea_8919_52540045baa0row0_col5,#T_9c69aed4_eadb_11ea_8919_52540045baa0row5_col0{\n",
       "            background-color:  #e7e3f0;\n",
       "            color:  #000000;\n",
       "        }#T_9c69aed4_eadb_11ea_8919_52540045baa0row0_col6,#T_9c69aed4_eadb_11ea_8919_52540045baa0row2_col13,#T_9c69aed4_eadb_11ea_8919_52540045baa0row4_col9,#T_9c69aed4_eadb_11ea_8919_52540045baa0row6_col0,#T_9c69aed4_eadb_11ea_8919_52540045baa0row9_col4,#T_9c69aed4_eadb_11ea_8919_52540045baa0row9_col13,#T_9c69aed4_eadb_11ea_8919_52540045baa0row13_col2,#T_9c69aed4_eadb_11ea_8919_52540045baa0row13_col9{\n",
       "            background-color:  #bdc8e1;\n",
       "            color:  #000000;\n",
       "        }#T_9c69aed4_eadb_11ea_8919_52540045baa0row0_col7,#T_9c69aed4_eadb_11ea_8919_52540045baa0row0_col13,#T_9c69aed4_eadb_11ea_8919_52540045baa0row7_col0,#T_9c69aed4_eadb_11ea_8919_52540045baa0row13_col0{\n",
       "            background-color:  #9fbad9;\n",
       "            color:  #000000;\n",
       "        }#T_9c69aed4_eadb_11ea_8919_52540045baa0row0_col8,#T_9c69aed4_eadb_11ea_8919_52540045baa0row8_col0{\n",
       "            background-color:  #79abd0;\n",
       "            color:  #000000;\n",
       "        }#T_9c69aed4_eadb_11ea_8919_52540045baa0row0_col9,#T_9c69aed4_eadb_11ea_8919_52540045baa0row0_col15,#T_9c69aed4_eadb_11ea_8919_52540045baa0row3_col15,#T_9c69aed4_eadb_11ea_8919_52540045baa0row9_col0,#T_9c69aed4_eadb_11ea_8919_52540045baa0row15_col0,#T_9c69aed4_eadb_11ea_8919_52540045baa0row15_col3{\n",
       "            background-color:  #ced0e6;\n",
       "            color:  #000000;\n",
       "        }#T_9c69aed4_eadb_11ea_8919_52540045baa0row0_col10,#T_9c69aed4_eadb_11ea_8919_52540045baa0row3_col8,#T_9c69aed4_eadb_11ea_8919_52540045baa0row8_col3,#T_9c69aed4_eadb_11ea_8919_52540045baa0row10_col0{\n",
       "            background-color:  #bbc7e0;\n",
       "            color:  #000000;\n",
       "        }#T_9c69aed4_eadb_11ea_8919_52540045baa0row0_col11,#T_9c69aed4_eadb_11ea_8919_52540045baa0row2_col15,#T_9c69aed4_eadb_11ea_8919_52540045baa0row4_col10,#T_9c69aed4_eadb_11ea_8919_52540045baa0row10_col4,#T_9c69aed4_eadb_11ea_8919_52540045baa0row11_col0,#T_9c69aed4_eadb_11ea_8919_52540045baa0row15_col2{\n",
       "            background-color:  #b3c3de;\n",
       "            color:  #000000;\n",
       "        }#T_9c69aed4_eadb_11ea_8919_52540045baa0row0_col12,#T_9c69aed4_eadb_11ea_8919_52540045baa0row12_col0{\n",
       "            background-color:  #d2d2e7;\n",
       "            color:  #000000;\n",
       "        }#T_9c69aed4_eadb_11ea_8919_52540045baa0row0_col14,#T_9c69aed4_eadb_11ea_8919_52540045baa0row14_col0{\n",
       "            background-color:  #cdd0e5;\n",
       "            color:  #000000;\n",
       "        }#T_9c69aed4_eadb_11ea_8919_52540045baa0row1_col2,#T_9c69aed4_eadb_11ea_8919_52540045baa0row2_col1{\n",
       "            background-color:  #4295c3;\n",
       "            color:  #000000;\n",
       "        }#T_9c69aed4_eadb_11ea_8919_52540045baa0row1_col3,#T_9c69aed4_eadb_11ea_8919_52540045baa0row3_col1{\n",
       "            background-color:  #84b0d3;\n",
       "            color:  #000000;\n",
       "        }#T_9c69aed4_eadb_11ea_8919_52540045baa0row1_col4,#T_9c69aed4_eadb_11ea_8919_52540045baa0row4_col1{\n",
       "            background-color:  #6fa7ce;\n",
       "            color:  #000000;\n",
       "        }#T_9c69aed4_eadb_11ea_8919_52540045baa0row1_col5,#T_9c69aed4_eadb_11ea_8919_52540045baa0row5_col1{\n",
       "            background-color:  #7bacd1;\n",
       "            color:  #000000;\n",
       "        }#T_9c69aed4_eadb_11ea_8919_52540045baa0row1_col6,#T_9c69aed4_eadb_11ea_8919_52540045baa0row5_col9,#T_9c69aed4_eadb_11ea_8919_52540045baa0row6_col1,#T_9c69aed4_eadb_11ea_8919_52540045baa0row9_col5{\n",
       "            background-color:  #4e9ac6;\n",
       "            color:  #000000;\n",
       "        }#T_9c69aed4_eadb_11ea_8919_52540045baa0row1_col7,#T_9c69aed4_eadb_11ea_8919_52540045baa0row5_col14,#T_9c69aed4_eadb_11ea_8919_52540045baa0row7_col1,#T_9c69aed4_eadb_11ea_8919_52540045baa0row14_col5{\n",
       "            background-color:  #9ab8d8;\n",
       "            color:  #000000;\n",
       "        }#T_9c69aed4_eadb_11ea_8919_52540045baa0row1_col8,#T_9c69aed4_eadb_11ea_8919_52540045baa0row8_col1{\n",
       "            background-color:  #d6d6e9;\n",
       "            color:  #000000;\n",
       "        }#T_9c69aed4_eadb_11ea_8919_52540045baa0row1_col9,#T_9c69aed4_eadb_11ea_8919_52540045baa0row9_col1{\n",
       "            background-color:  #c8cde4;\n",
       "            color:  #000000;\n",
       "        }#T_9c69aed4_eadb_11ea_8919_52540045baa0row1_col10,#T_9c69aed4_eadb_11ea_8919_52540045baa0row1_col15,#T_9c69aed4_eadb_11ea_8919_52540045baa0row3_col13,#T_9c69aed4_eadb_11ea_8919_52540045baa0row10_col1,#T_9c69aed4_eadb_11ea_8919_52540045baa0row13_col3,#T_9c69aed4_eadb_11ea_8919_52540045baa0row15_col1{\n",
       "            background-color:  #c0c9e2;\n",
       "            color:  #000000;\n",
       "        }#T_9c69aed4_eadb_11ea_8919_52540045baa0row1_col11,#T_9c69aed4_eadb_11ea_8919_52540045baa0row5_col8,#T_9c69aed4_eadb_11ea_8919_52540045baa0row8_col5,#T_9c69aed4_eadb_11ea_8919_52540045baa0row11_col1{\n",
       "            background-color:  #c5cce3;\n",
       "            color:  #000000;\n",
       "        }#T_9c69aed4_eadb_11ea_8919_52540045baa0row1_col12,#T_9c69aed4_eadb_11ea_8919_52540045baa0row6_col13,#T_9c69aed4_eadb_11ea_8919_52540045baa0row12_col1,#T_9c69aed4_eadb_11ea_8919_52540045baa0row13_col6{\n",
       "            background-color:  #a4bcda;\n",
       "            color:  #000000;\n",
       "        }#T_9c69aed4_eadb_11ea_8919_52540045baa0row1_col13,#T_9c69aed4_eadb_11ea_8919_52540045baa0row2_col10,#T_9c69aed4_eadb_11ea_8919_52540045baa0row10_col2,#T_9c69aed4_eadb_11ea_8919_52540045baa0row10_col15,#T_9c69aed4_eadb_11ea_8919_52540045baa0row12_col13,#T_9c69aed4_eadb_11ea_8919_52540045baa0row13_col1,#T_9c69aed4_eadb_11ea_8919_52540045baa0row13_col12,#T_9c69aed4_eadb_11ea_8919_52540045baa0row15_col10{\n",
       "            background-color:  #9ebad9;\n",
       "            color:  #000000;\n",
       "        }#T_9c69aed4_eadb_11ea_8919_52540045baa0row1_col14,#T_9c69aed4_eadb_11ea_8919_52540045baa0row14_col1{\n",
       "            background-color:  #fff7fb;\n",
       "            color:  #000000;\n",
       "        }#T_9c69aed4_eadb_11ea_8919_52540045baa0row1_col16,#T_9c69aed4_eadb_11ea_8919_52540045baa0row6_col8,#T_9c69aed4_eadb_11ea_8919_52540045baa0row8_col6,#T_9c69aed4_eadb_11ea_8919_52540045baa0row16_col1{\n",
       "            background-color:  #69a5cc;\n",
       "            color:  #000000;\n",
       "        }#T_9c69aed4_eadb_11ea_8919_52540045baa0row2_col3,#T_9c69aed4_eadb_11ea_8919_52540045baa0row3_col2{\n",
       "            background-color:  #2081b9;\n",
       "            color:  #000000;\n",
       "        }#T_9c69aed4_eadb_11ea_8919_52540045baa0row2_col4,#T_9c69aed4_eadb_11ea_8919_52540045baa0row4_col2,#T_9c69aed4_eadb_11ea_8919_52540045baa0row11_col14,#T_9c69aed4_eadb_11ea_8919_52540045baa0row14_col11{\n",
       "            background-color:  #4496c3;\n",
       "            color:  #000000;\n",
       "        }#T_9c69aed4_eadb_11ea_8919_52540045baa0row2_col5,#T_9c69aed4_eadb_11ea_8919_52540045baa0row5_col2{\n",
       "            background-color:  #67a4cc;\n",
       "            color:  #000000;\n",
       "        }#T_9c69aed4_eadb_11ea_8919_52540045baa0row2_col6,#T_9c69aed4_eadb_11ea_8919_52540045baa0row6_col2{\n",
       "            background-color:  #5a9ec9;\n",
       "            color:  #000000;\n",
       "        }#T_9c69aed4_eadb_11ea_8919_52540045baa0row2_col7,#T_9c69aed4_eadb_11ea_8919_52540045baa0row7_col2,#T_9c69aed4_eadb_11ea_8919_52540045baa0row11_col13,#T_9c69aed4_eadb_11ea_8919_52540045baa0row13_col11{\n",
       "            background-color:  #abbfdc;\n",
       "            color:  #000000;\n",
       "        }#T_9c69aed4_eadb_11ea_8919_52540045baa0row2_col8,#T_9c69aed4_eadb_11ea_8919_52540045baa0row8_col2{\n",
       "            background-color:  #c4cbe3;\n",
       "            color:  #000000;\n",
       "        }#T_9c69aed4_eadb_11ea_8919_52540045baa0row2_col9,#T_9c69aed4_eadb_11ea_8919_52540045baa0row9_col2{\n",
       "            background-color:  #8bb2d4;\n",
       "            color:  #000000;\n",
       "        }#T_9c69aed4_eadb_11ea_8919_52540045baa0row2_col11,#T_9c69aed4_eadb_11ea_8919_52540045baa0row11_col2{\n",
       "            background-color:  #acc0dd;\n",
       "            color:  #000000;\n",
       "        }#T_9c69aed4_eadb_11ea_8919_52540045baa0row2_col12,#T_9c69aed4_eadb_11ea_8919_52540045baa0row7_col9,#T_9c69aed4_eadb_11ea_8919_52540045baa0row9_col7,#T_9c69aed4_eadb_11ea_8919_52540045baa0row12_col2{\n",
       "            background-color:  #8fb4d6;\n",
       "            color:  #000000;\n",
       "        }#T_9c69aed4_eadb_11ea_8919_52540045baa0row2_col14,#T_9c69aed4_eadb_11ea_8919_52540045baa0row14_col2{\n",
       "            background-color:  #fdf5fa;\n",
       "            color:  #000000;\n",
       "        }#T_9c69aed4_eadb_11ea_8919_52540045baa0row2_col16,#T_9c69aed4_eadb_11ea_8919_52540045baa0row16_col2{\n",
       "            background-color:  #3991c1;\n",
       "            color:  #000000;\n",
       "        }#T_9c69aed4_eadb_11ea_8919_52540045baa0row3_col4,#T_9c69aed4_eadb_11ea_8919_52540045baa0row4_col3{\n",
       "            background-color:  #056caa;\n",
       "            color:  #f1f1f1;\n",
       "        }#T_9c69aed4_eadb_11ea_8919_52540045baa0row3_col5,#T_9c69aed4_eadb_11ea_8919_52540045baa0row5_col3,#T_9c69aed4_eadb_11ea_8919_52540045baa0row11_col12,#T_9c69aed4_eadb_11ea_8919_52540045baa0row12_col11{\n",
       "            background-color:  #60a1ca;\n",
       "            color:  #000000;\n",
       "        }#T_9c69aed4_eadb_11ea_8919_52540045baa0row3_col6,#T_9c69aed4_eadb_11ea_8919_52540045baa0row6_col3,#T_9c69aed4_eadb_11ea_8919_52540045baa0row7_col11,#T_9c69aed4_eadb_11ea_8919_52540045baa0row11_col7{\n",
       "            background-color:  #78abd0;\n",
       "            color:  #000000;\n",
       "        }#T_9c69aed4_eadb_11ea_8919_52540045baa0row3_col7,#T_9c69aed4_eadb_11ea_8919_52540045baa0row7_col3{\n",
       "            background-color:  #bcc7e1;\n",
       "            color:  #000000;\n",
       "        }#T_9c69aed4_eadb_11ea_8919_52540045baa0row3_col9,#T_9c69aed4_eadb_11ea_8919_52540045baa0row5_col7,#T_9c69aed4_eadb_11ea_8919_52540045baa0row7_col5,#T_9c69aed4_eadb_11ea_8919_52540045baa0row9_col3{\n",
       "            background-color:  #97b7d7;\n",
       "            color:  #000000;\n",
       "        }#T_9c69aed4_eadb_11ea_8919_52540045baa0row3_col10,#T_9c69aed4_eadb_11ea_8919_52540045baa0row10_col3{\n",
       "            background-color:  #89b1d4;\n",
       "            color:  #000000;\n",
       "        }#T_9c69aed4_eadb_11ea_8919_52540045baa0row3_col11,#T_9c69aed4_eadb_11ea_8919_52540045baa0row11_col3{\n",
       "            background-color:  #a8bedc;\n",
       "            color:  #000000;\n",
       "        }#T_9c69aed4_eadb_11ea_8919_52540045baa0row3_col14,#T_9c69aed4_eadb_11ea_8919_52540045baa0row14_col3{\n",
       "            background-color:  #e3e0ee;\n",
       "            color:  #000000;\n",
       "        }#T_9c69aed4_eadb_11ea_8919_52540045baa0row3_col16,#T_9c69aed4_eadb_11ea_8919_52540045baa0row16_col3{\n",
       "            background-color:  #5ea0ca;\n",
       "            color:  #000000;\n",
       "        }#T_9c69aed4_eadb_11ea_8919_52540045baa0row4_col5,#T_9c69aed4_eadb_11ea_8919_52540045baa0row5_col4,#T_9c69aed4_eadb_11ea_8919_52540045baa0row10_col14,#T_9c69aed4_eadb_11ea_8919_52540045baa0row14_col10{\n",
       "            background-color:  #589ec8;\n",
       "            color:  #000000;\n",
       "        }#T_9c69aed4_eadb_11ea_8919_52540045baa0row4_col6,#T_9c69aed4_eadb_11ea_8919_52540045baa0row6_col4,#T_9c69aed4_eadb_11ea_8919_52540045baa0row7_col15,#T_9c69aed4_eadb_11ea_8919_52540045baa0row15_col7{\n",
       "            background-color:  #b1c2de;\n",
       "            color:  #000000;\n",
       "        }#T_9c69aed4_eadb_11ea_8919_52540045baa0row4_col7,#T_9c69aed4_eadb_11ea_8919_52540045baa0row7_col4{\n",
       "            background-color:  #c2cbe2;\n",
       "            color:  #000000;\n",
       "        }#T_9c69aed4_eadb_11ea_8919_52540045baa0row4_col8,#T_9c69aed4_eadb_11ea_8919_52540045baa0row8_col4{\n",
       "            background-color:  #f6eff7;\n",
       "            color:  #000000;\n",
       "        }#T_9c69aed4_eadb_11ea_8919_52540045baa0row4_col11,#T_9c69aed4_eadb_11ea_8919_52540045baa0row11_col4{\n",
       "            background-color:  #d7d6e9;\n",
       "            color:  #000000;\n",
       "        }#T_9c69aed4_eadb_11ea_8919_52540045baa0row4_col12,#T_9c69aed4_eadb_11ea_8919_52540045baa0row4_col15,#T_9c69aed4_eadb_11ea_8919_52540045baa0row12_col4,#T_9c69aed4_eadb_11ea_8919_52540045baa0row15_col4{\n",
       "            background-color:  #86b0d3;\n",
       "            color:  #000000;\n",
       "        }#T_9c69aed4_eadb_11ea_8919_52540045baa0row4_col14,#T_9c69aed4_eadb_11ea_8919_52540045baa0row14_col4{\n",
       "            background-color:  #e0deed;\n",
       "            color:  #000000;\n",
       "        }#T_9c69aed4_eadb_11ea_8919_52540045baa0row4_col16,#T_9c69aed4_eadb_11ea_8919_52540045baa0row16_col4{\n",
       "            background-color:  #99b8d8;\n",
       "            color:  #000000;\n",
       "        }#T_9c69aed4_eadb_11ea_8919_52540045baa0row5_col6,#T_9c69aed4_eadb_11ea_8919_52540045baa0row6_col5{\n",
       "            background-color:  #187cb6;\n",
       "            color:  #000000;\n",
       "        }#T_9c69aed4_eadb_11ea_8919_52540045baa0row5_col11,#T_9c69aed4_eadb_11ea_8919_52540045baa0row6_col7,#T_9c69aed4_eadb_11ea_8919_52540045baa0row7_col6,#T_9c69aed4_eadb_11ea_8919_52540045baa0row11_col5{\n",
       "            background-color:  #81aed2;\n",
       "            color:  #000000;\n",
       "        }#T_9c69aed4_eadb_11ea_8919_52540045baa0row5_col12,#T_9c69aed4_eadb_11ea_8919_52540045baa0row12_col5{\n",
       "            background-color:  #0a73b2;\n",
       "            color:  #f1f1f1;\n",
       "        }#T_9c69aed4_eadb_11ea_8919_52540045baa0row5_col13,#T_9c69aed4_eadb_11ea_8919_52540045baa0row13_col5{\n",
       "            background-color:  #adc1dd;\n",
       "            color:  #000000;\n",
       "        }#T_9c69aed4_eadb_11ea_8919_52540045baa0row5_col15,#T_9c69aed4_eadb_11ea_8919_52540045baa0row15_col5{\n",
       "            background-color:  #eee8f3;\n",
       "            color:  #000000;\n",
       "        }#T_9c69aed4_eadb_11ea_8919_52540045baa0row5_col16,#T_9c69aed4_eadb_11ea_8919_52540045baa0row16_col5{\n",
       "            background-color:  #1077b4;\n",
       "            color:  #f1f1f1;\n",
       "        }#T_9c69aed4_eadb_11ea_8919_52540045baa0row6_col9,#T_9c69aed4_eadb_11ea_8919_52540045baa0row9_col6{\n",
       "            background-color:  #157ab5;\n",
       "            color:  #000000;\n",
       "        }#T_9c69aed4_eadb_11ea_8919_52540045baa0row6_col10,#T_9c69aed4_eadb_11ea_8919_52540045baa0row6_col11,#T_9c69aed4_eadb_11ea_8919_52540045baa0row8_col10,#T_9c69aed4_eadb_11ea_8919_52540045baa0row10_col6,#T_9c69aed4_eadb_11ea_8919_52540045baa0row10_col8,#T_9c69aed4_eadb_11ea_8919_52540045baa0row11_col6{\n",
       "            background-color:  #2a88bc;\n",
       "            color:  #000000;\n",
       "        }#T_9c69aed4_eadb_11ea_8919_52540045baa0row6_col12,#T_9c69aed4_eadb_11ea_8919_52540045baa0row9_col14,#T_9c69aed4_eadb_11ea_8919_52540045baa0row10_col12,#T_9c69aed4_eadb_11ea_8919_52540045baa0row12_col6,#T_9c69aed4_eadb_11ea_8919_52540045baa0row12_col10,#T_9c69aed4_eadb_11ea_8919_52540045baa0row14_col9{\n",
       "            background-color:  #569dc8;\n",
       "            color:  #000000;\n",
       "        }#T_9c69aed4_eadb_11ea_8919_52540045baa0row6_col14,#T_9c69aed4_eadb_11ea_8919_52540045baa0row14_col6{\n",
       "            background-color:  #b7c5df;\n",
       "            color:  #000000;\n",
       "        }#T_9c69aed4_eadb_11ea_8919_52540045baa0row6_col15,#T_9c69aed4_eadb_11ea_8919_52540045baa0row15_col6{\n",
       "            background-color:  #f3edf5;\n",
       "            color:  #000000;\n",
       "        }#T_9c69aed4_eadb_11ea_8919_52540045baa0row6_col16,#T_9c69aed4_eadb_11ea_8919_52540045baa0row16_col6{\n",
       "            background-color:  #04629a;\n",
       "            color:  #f1f1f1;\n",
       "        }#T_9c69aed4_eadb_11ea_8919_52540045baa0row7_col10,#T_9c69aed4_eadb_11ea_8919_52540045baa0row10_col7{\n",
       "            background-color:  #76aad0;\n",
       "            color:  #000000;\n",
       "        }#T_9c69aed4_eadb_11ea_8919_52540045baa0row7_col12,#T_9c69aed4_eadb_11ea_8919_52540045baa0row12_col7{\n",
       "            background-color:  #a2bcda;\n",
       "            color:  #000000;\n",
       "        }#T_9c69aed4_eadb_11ea_8919_52540045baa0row7_col13,#T_9c69aed4_eadb_11ea_8919_52540045baa0row13_col7{\n",
       "            background-color:  #a7bddb;\n",
       "            color:  #000000;\n",
       "        }#T_9c69aed4_eadb_11ea_8919_52540045baa0row7_col14,#T_9c69aed4_eadb_11ea_8919_52540045baa0row14_col7{\n",
       "            background-color:  #9cb9d9;\n",
       "            color:  #000000;\n",
       "        }#T_9c69aed4_eadb_11ea_8919_52540045baa0row7_col16,#T_9c69aed4_eadb_11ea_8919_52540045baa0row16_col7{\n",
       "            background-color:  #73a9cf;\n",
       "            color:  #000000;\n",
       "        }#T_9c69aed4_eadb_11ea_8919_52540045baa0row8_col9,#T_9c69aed4_eadb_11ea_8919_52540045baa0row9_col8,#T_9c69aed4_eadb_11ea_8919_52540045baa0row9_col10,#T_9c69aed4_eadb_11ea_8919_52540045baa0row10_col9{\n",
       "            background-color:  #0f76b3;\n",
       "            color:  #f1f1f1;\n",
       "        }#T_9c69aed4_eadb_11ea_8919_52540045baa0row8_col11,#T_9c69aed4_eadb_11ea_8919_52540045baa0row10_col11,#T_9c69aed4_eadb_11ea_8919_52540045baa0row11_col8,#T_9c69aed4_eadb_11ea_8919_52540045baa0row11_col10,#T_9c69aed4_eadb_11ea_8919_52540045baa0row11_col16,#T_9c69aed4_eadb_11ea_8919_52540045baa0row16_col11{\n",
       "            background-color:  #056dac;\n",
       "            color:  #f1f1f1;\n",
       "        }#T_9c69aed4_eadb_11ea_8919_52540045baa0row8_col12,#T_9c69aed4_eadb_11ea_8919_52540045baa0row12_col8,#T_9c69aed4_eadb_11ea_8919_52540045baa0row12_col14,#T_9c69aed4_eadb_11ea_8919_52540045baa0row14_col12{\n",
       "            background-color:  #88b1d4;\n",
       "            color:  #000000;\n",
       "        }#T_9c69aed4_eadb_11ea_8919_52540045baa0row8_col13,#T_9c69aed4_eadb_11ea_8919_52540045baa0row13_col8{\n",
       "            background-color:  #8eb3d5;\n",
       "            color:  #000000;\n",
       "        }#T_9c69aed4_eadb_11ea_8919_52540045baa0row8_col14,#T_9c69aed4_eadb_11ea_8919_52540045baa0row14_col8{\n",
       "            background-color:  #4a98c5;\n",
       "            color:  #000000;\n",
       "        }#T_9c69aed4_eadb_11ea_8919_52540045baa0row8_col15,#T_9c69aed4_eadb_11ea_8919_52540045baa0row15_col8{\n",
       "            background-color:  #d1d2e6;\n",
       "            color:  #000000;\n",
       "        }#T_9c69aed4_eadb_11ea_8919_52540045baa0row8_col16,#T_9c69aed4_eadb_11ea_8919_52540045baa0row16_col8{\n",
       "            background-color:  #328dbf;\n",
       "            color:  #000000;\n",
       "        }#T_9c69aed4_eadb_11ea_8919_52540045baa0row9_col11,#T_9c69aed4_eadb_11ea_8919_52540045baa0row11_col9{\n",
       "            background-color:  #045a8d;\n",
       "            color:  #f1f1f1;\n",
       "        }#T_9c69aed4_eadb_11ea_8919_52540045baa0row9_col12,#T_9c69aed4_eadb_11ea_8919_52540045baa0row12_col9{\n",
       "            background-color:  #4c99c5;\n",
       "            color:  #000000;\n",
       "        }#T_9c69aed4_eadb_11ea_8919_52540045baa0row9_col15,#T_9c69aed4_eadb_11ea_8919_52540045baa0row15_col9{\n",
       "            background-color:  #d8d7e9;\n",
       "            color:  #000000;\n",
       "        }#T_9c69aed4_eadb_11ea_8919_52540045baa0row9_col16,#T_9c69aed4_eadb_11ea_8919_52540045baa0row16_col9{\n",
       "            background-color:  #04649d;\n",
       "            color:  #f1f1f1;\n",
       "        }#T_9c69aed4_eadb_11ea_8919_52540045baa0row10_col13,#T_9c69aed4_eadb_11ea_8919_52540045baa0row13_col10{\n",
       "            background-color:  #93b5d6;\n",
       "            color:  #000000;\n",
       "        }#T_9c69aed4_eadb_11ea_8919_52540045baa0row10_col16,#T_9c69aed4_eadb_11ea_8919_52540045baa0row16_col10{\n",
       "            background-color:  #056dab;\n",
       "            color:  #f1f1f1;\n",
       "        }#T_9c69aed4_eadb_11ea_8919_52540045baa0row11_col15,#T_9c69aed4_eadb_11ea_8919_52540045baa0row15_col11{\n",
       "            background-color:  #dddbec;\n",
       "            color:  #000000;\n",
       "        }#T_9c69aed4_eadb_11ea_8919_52540045baa0row12_col16,#T_9c69aed4_eadb_11ea_8919_52540045baa0row16_col12{\n",
       "            background-color:  #056ba7;\n",
       "            color:  #f1f1f1;\n",
       "        }#T_9c69aed4_eadb_11ea_8919_52540045baa0row13_col14,#T_9c69aed4_eadb_11ea_8919_52540045baa0row14_col13{\n",
       "            background-color:  #80aed2;\n",
       "            color:  #000000;\n",
       "        }#T_9c69aed4_eadb_11ea_8919_52540045baa0row13_col15,#T_9c69aed4_eadb_11ea_8919_52540045baa0row15_col13{\n",
       "            background-color:  #96b6d7;\n",
       "            color:  #000000;\n",
       "        }#T_9c69aed4_eadb_11ea_8919_52540045baa0row13_col16,#T_9c69aed4_eadb_11ea_8919_52540045baa0row16_col13{\n",
       "            background-color:  #a5bddb;\n",
       "            color:  #000000;\n",
       "        }#T_9c69aed4_eadb_11ea_8919_52540045baa0row14_col15,#T_9c69aed4_eadb_11ea_8919_52540045baa0row15_col14{\n",
       "            background-color:  #94b6d7;\n",
       "            color:  #000000;\n",
       "        }#T_9c69aed4_eadb_11ea_8919_52540045baa0row14_col16,#T_9c69aed4_eadb_11ea_8919_52540045baa0row16_col14{\n",
       "            background-color:  #bfc9e1;\n",
       "            color:  #000000;\n",
       "        }</style><table id=\"T_9c69aed4_eadb_11ea_8919_52540045baa0\" ><thead>    <tr>        <th class=\"blank level0\" ></th>        <th class=\"col_heading level0 col0\" >Rt</th>        <th class=\"col_heading level0 col1\" >theta</th>        <th class=\"col_heading level0 col2\" >kappa</th>        <th class=\"col_heading level0 col3\" >rho</th>        <th class=\"col_heading level0 col4\" >sigma</th>        <th class=\"col_heading level0 col5\" >School_closing</th>        <th class=\"col_heading level0 col6\" >Workplace_closing</th>        <th class=\"col_heading level0 col7\" >Cancel_events</th>        <th class=\"col_heading level0 col8\" >Gatherings_restrictions</th>        <th class=\"col_heading level0 col9\" >Transport_closing</th>        <th class=\"col_heading level0 col10\" >Stay_home_restrictions</th>        <th class=\"col_heading level0 col11\" >Internal_movement_restrictions</th>        <th class=\"col_heading level0 col12\" >International_movement_restrictions</th>        <th class=\"col_heading level0 col13\" >Information_campaigns</th>        <th class=\"col_heading level0 col14\" >Testing_policy</th>        <th class=\"col_heading level0 col15\" >Contact_tracing</th>        <th class=\"col_heading level0 col16\" >Stringency_index</th>    </tr></thead><tbody>\n",
       "                <tr>\n",
       "                        <th id=\"T_9c69aed4_eadb_11ea_8919_52540045baa0level0_row0\" class=\"row_heading level0 row0\" >Rt</th>\n",
       "                        <td id=\"T_9c69aed4_eadb_11ea_8919_52540045baa0row0_col0\" class=\"data row0 col0\" >1.000000</td>\n",
       "                        <td id=\"T_9c69aed4_eadb_11ea_8919_52540045baa0row0_col1\" class=\"data row0 col1\" >-0.168891</td>\n",
       "                        <td id=\"T_9c69aed4_eadb_11ea_8919_52540045baa0row0_col2\" class=\"data row0 col2\" >-0.071265</td>\n",
       "                        <td id=\"T_9c69aed4_eadb_11ea_8919_52540045baa0row0_col3\" class=\"data row0 col3\" >0.194073</td>\n",
       "                        <td id=\"T_9c69aed4_eadb_11ea_8919_52540045baa0row0_col4\" class=\"data row0 col4\" >-0.264649</td>\n",
       "                        <td id=\"T_9c69aed4_eadb_11ea_8919_52540045baa0row0_col5\" class=\"data row0 col5\" >-0.375151</td>\n",
       "                        <td id=\"T_9c69aed4_eadb_11ea_8919_52540045baa0row0_col6\" class=\"data row0 col6\" >-0.112040</td>\n",
       "                        <td id=\"T_9c69aed4_eadb_11ea_8919_52540045baa0row0_col7\" class=\"data row0 col7\" >0.023130</td>\n",
       "                        <td id=\"T_9c69aed4_eadb_11ea_8919_52540045baa0row0_col8\" class=\"data row0 col8\" >0.173849</td>\n",
       "                        <td id=\"T_9c69aed4_eadb_11ea_8919_52540045baa0row0_col9\" class=\"data row0 col9\" >-0.197855</td>\n",
       "                        <td id=\"T_9c69aed4_eadb_11ea_8919_52540045baa0row0_col10\" class=\"data row0 col10\" >-0.103077</td>\n",
       "                        <td id=\"T_9c69aed4_eadb_11ea_8919_52540045baa0row0_col11\" class=\"data row0 col11\" >-0.067275</td>\n",
       "                        <td id=\"T_9c69aed4_eadb_11ea_8919_52540045baa0row0_col12\" class=\"data row0 col12\" >-0.218683</td>\n",
       "                        <td id=\"T_9c69aed4_eadb_11ea_8919_52540045baa0row0_col13\" class=\"data row0 col13\" >0.023076</td>\n",
       "                        <td id=\"T_9c69aed4_eadb_11ea_8919_52540045baa0row0_col14\" class=\"data row0 col14\" >-0.191250</td>\n",
       "                        <td id=\"T_9c69aed4_eadb_11ea_8919_52540045baa0row0_col15\" class=\"data row0 col15\" >-0.199338</td>\n",
       "                        <td id=\"T_9c69aed4_eadb_11ea_8919_52540045baa0row0_col16\" class=\"data row0 col16\" >-0.172183</td>\n",
       "            </tr>\n",
       "            <tr>\n",
       "                        <th id=\"T_9c69aed4_eadb_11ea_8919_52540045baa0level0_row1\" class=\"row_heading level0 row1\" >theta</th>\n",
       "                        <td id=\"T_9c69aed4_eadb_11ea_8919_52540045baa0row1_col0\" class=\"data row1 col0\" >-0.168891</td>\n",
       "                        <td id=\"T_9c69aed4_eadb_11ea_8919_52540045baa0row1_col1\" class=\"data row1 col1\" >1.000000</td>\n",
       "                        <td id=\"T_9c69aed4_eadb_11ea_8919_52540045baa0row1_col2\" class=\"data row1 col2\" >0.358509</td>\n",
       "                        <td id=\"T_9c69aed4_eadb_11ea_8919_52540045baa0row1_col3\" class=\"data row1 col3\" >0.128292</td>\n",
       "                        <td id=\"T_9c69aed4_eadb_11ea_8919_52540045baa0row1_col4\" class=\"data row1 col4\" >0.211854</td>\n",
       "                        <td id=\"T_9c69aed4_eadb_11ea_8919_52540045baa0row1_col5\" class=\"data row1 col5\" >0.168672</td>\n",
       "                        <td id=\"T_9c69aed4_eadb_11ea_8919_52540045baa0row1_col6\" class=\"data row1 col6\" >0.319332</td>\n",
       "                        <td id=\"T_9c69aed4_eadb_11ea_8919_52540045baa0row1_col7\" class=\"data row1 col7\" >0.039842</td>\n",
       "                        <td id=\"T_9c69aed4_eadb_11ea_8919_52540045baa0row1_col8\" class=\"data row1 col8\" >-0.244016</td>\n",
       "                        <td id=\"T_9c69aed4_eadb_11ea_8919_52540045baa0row1_col9\" class=\"data row1 col9\" >-0.168283</td>\n",
       "                        <td id=\"T_9c69aed4_eadb_11ea_8919_52540045baa0row1_col10\" class=\"data row1 col10\" >-0.125968</td>\n",
       "                        <td id=\"T_9c69aed4_eadb_11ea_8919_52540045baa0row1_col11\" class=\"data row1 col11\" >-0.152857</td>\n",
       "                        <td id=\"T_9c69aed4_eadb_11ea_8919_52540045baa0row1_col12\" class=\"data row1 col12\" >0.001779</td>\n",
       "                        <td id=\"T_9c69aed4_eadb_11ea_8919_52540045baa0row1_col13\" class=\"data row1 col13\" >0.026373</td>\n",
       "                        <td id=\"T_9c69aed4_eadb_11ea_8919_52540045baa0row1_col14\" class=\"data row1 col14\" >-0.608194</td>\n",
       "                        <td id=\"T_9c69aed4_eadb_11ea_8919_52540045baa0row1_col15\" class=\"data row1 col15\" >-0.124818</td>\n",
       "                        <td id=\"T_9c69aed4_eadb_11ea_8919_52540045baa0row1_col16\" class=\"data row1 col16\" >0.231750</td>\n",
       "            </tr>\n",
       "            <tr>\n",
       "                        <th id=\"T_9c69aed4_eadb_11ea_8919_52540045baa0level0_row2\" class=\"row_heading level0 row2\" >kappa</th>\n",
       "                        <td id=\"T_9c69aed4_eadb_11ea_8919_52540045baa0row2_col0\" class=\"data row2 col0\" >-0.071265</td>\n",
       "                        <td id=\"T_9c69aed4_eadb_11ea_8919_52540045baa0row2_col1\" class=\"data row2 col1\" >0.358509</td>\n",
       "                        <td id=\"T_9c69aed4_eadb_11ea_8919_52540045baa0row2_col2\" class=\"data row2 col2\" >1.000000</td>\n",
       "                        <td id=\"T_9c69aed4_eadb_11ea_8919_52540045baa0row2_col3\" class=\"data row2 col3\" >0.485822</td>\n",
       "                        <td id=\"T_9c69aed4_eadb_11ea_8919_52540045baa0row2_col4\" class=\"data row2 col4\" >0.352519</td>\n",
       "                        <td id=\"T_9c69aed4_eadb_11ea_8919_52540045baa0row2_col5\" class=\"data row2 col5\" >0.235031</td>\n",
       "                        <td id=\"T_9c69aed4_eadb_11ea_8919_52540045baa0row2_col6\" class=\"data row2 col6\" >0.280845</td>\n",
       "                        <td id=\"T_9c69aed4_eadb_11ea_8919_52540045baa0row2_col7\" class=\"data row2 col7\" >-0.028896</td>\n",
       "                        <td id=\"T_9c69aed4_eadb_11ea_8919_52540045baa0row2_col8\" class=\"data row2 col8\" >-0.144419</td>\n",
       "                        <td id=\"T_9c69aed4_eadb_11ea_8919_52540045baa0row2_col9\" class=\"data row2 col9\" >0.106962</td>\n",
       "                        <td id=\"T_9c69aed4_eadb_11ea_8919_52540045baa0row2_col10\" class=\"data row2 col10\" >0.031190</td>\n",
       "                        <td id=\"T_9c69aed4_eadb_11ea_8919_52540045baa0row2_col11\" class=\"data row2 col11\" >-0.030365</td>\n",
       "                        <td id=\"T_9c69aed4_eadb_11ea_8919_52540045baa0row2_col12\" class=\"data row2 col12\" >0.085772</td>\n",
       "                        <td id=\"T_9c69aed4_eadb_11ea_8919_52540045baa0row2_col13\" class=\"data row2 col13\" >-0.118008</td>\n",
       "                        <td id=\"T_9c69aed4_eadb_11ea_8919_52540045baa0row2_col14\" class=\"data row2 col14\" >-0.586311</td>\n",
       "                        <td id=\"T_9c69aed4_eadb_11ea_8919_52540045baa0row2_col15\" class=\"data row2 col15\" >-0.065971</td>\n",
       "                        <td id=\"T_9c69aed4_eadb_11ea_8919_52540045baa0row2_col16\" class=\"data row2 col16\" >0.384517</td>\n",
       "            </tr>\n",
       "            <tr>\n",
       "                        <th id=\"T_9c69aed4_eadb_11ea_8919_52540045baa0level0_row3\" class=\"row_heading level0 row3\" >rho</th>\n",
       "                        <td id=\"T_9c69aed4_eadb_11ea_8919_52540045baa0row3_col0\" class=\"data row3 col0\" >0.194073</td>\n",
       "                        <td id=\"T_9c69aed4_eadb_11ea_8919_52540045baa0row3_col1\" class=\"data row3 col1\" >0.128292</td>\n",
       "                        <td id=\"T_9c69aed4_eadb_11ea_8919_52540045baa0row3_col2\" class=\"data row3 col2\" >0.485822</td>\n",
       "                        <td id=\"T_9c69aed4_eadb_11ea_8919_52540045baa0row3_col3\" class=\"data row3 col3\" >1.000000</td>\n",
       "                        <td id=\"T_9c69aed4_eadb_11ea_8919_52540045baa0row3_col4\" class=\"data row3 col4\" >0.629740</td>\n",
       "                        <td id=\"T_9c69aed4_eadb_11ea_8919_52540045baa0row3_col5\" class=\"data row3 col5\" >0.261876</td>\n",
       "                        <td id=\"T_9c69aed4_eadb_11ea_8919_52540045baa0row3_col6\" class=\"data row3 col6\" >0.178710</td>\n",
       "                        <td id=\"T_9c69aed4_eadb_11ea_8919_52540045baa0row3_col7\" class=\"data row3 col7\" >-0.109923</td>\n",
       "                        <td id=\"T_9c69aed4_eadb_11ea_8919_52540045baa0row3_col8\" class=\"data row3 col8\" >-0.103733</td>\n",
       "                        <td id=\"T_9c69aed4_eadb_11ea_8919_52540045baa0row3_col9\" class=\"data row3 col9\" >0.056203</td>\n",
       "                        <td id=\"T_9c69aed4_eadb_11ea_8919_52540045baa0row3_col10\" class=\"data row3 col10\" >0.113478</td>\n",
       "                        <td id=\"T_9c69aed4_eadb_11ea_8919_52540045baa0row3_col11\" class=\"data row3 col11\" >-0.017648</td>\n",
       "                        <td id=\"T_9c69aed4_eadb_11ea_8919_52540045baa0row3_col12\" class=\"data row3 col12\" >0.193329</td>\n",
       "                        <td id=\"T_9c69aed4_eadb_11ea_8919_52540045baa0row3_col13\" class=\"data row3 col13\" >-0.128710</td>\n",
       "                        <td id=\"T_9c69aed4_eadb_11ea_8919_52540045baa0row3_col14\" class=\"data row3 col14\" >-0.341244</td>\n",
       "                        <td id=\"T_9c69aed4_eadb_11ea_8919_52540045baa0row3_col15\" class=\"data row3 col15\" >-0.199328</td>\n",
       "                        <td id=\"T_9c69aed4_eadb_11ea_8919_52540045baa0row3_col16\" class=\"data row3 col16\" >0.268906</td>\n",
       "            </tr>\n",
       "            <tr>\n",
       "                        <th id=\"T_9c69aed4_eadb_11ea_8919_52540045baa0level0_row4\" class=\"row_heading level0 row4\" >sigma</th>\n",
       "                        <td id=\"T_9c69aed4_eadb_11ea_8919_52540045baa0row4_col0\" class=\"data row4 col0\" >-0.264649</td>\n",
       "                        <td id=\"T_9c69aed4_eadb_11ea_8919_52540045baa0row4_col1\" class=\"data row4 col1\" >0.211854</td>\n",
       "                        <td id=\"T_9c69aed4_eadb_11ea_8919_52540045baa0row4_col2\" class=\"data row4 col2\" >0.352519</td>\n",
       "                        <td id=\"T_9c69aed4_eadb_11ea_8919_52540045baa0row4_col3\" class=\"data row4 col3\" >0.629740</td>\n",
       "                        <td id=\"T_9c69aed4_eadb_11ea_8919_52540045baa0row4_col4\" class=\"data row4 col4\" >1.000000</td>\n",
       "                        <td id=\"T_9c69aed4_eadb_11ea_8919_52540045baa0row4_col5\" class=\"data row4 col5\" >0.289839</td>\n",
       "                        <td id=\"T_9c69aed4_eadb_11ea_8919_52540045baa0row4_col6\" class=\"data row4 col6\" >-0.057007</td>\n",
       "                        <td id=\"T_9c69aed4_eadb_11ea_8919_52540045baa0row4_col7\" class=\"data row4 col7\" >-0.138643</td>\n",
       "                        <td id=\"T_9c69aed4_eadb_11ea_8919_52540045baa0row4_col8\" class=\"data row4 col8\" >-0.513682</td>\n",
       "                        <td id=\"T_9c69aed4_eadb_11ea_8919_52540045baa0row4_col9\" class=\"data row4 col9\" >-0.115123</td>\n",
       "                        <td id=\"T_9c69aed4_eadb_11ea_8919_52540045baa0row4_col10\" class=\"data row4 col10\" >-0.063504</td>\n",
       "                        <td id=\"T_9c69aed4_eadb_11ea_8919_52540045baa0row4_col11\" class=\"data row4 col11\" >-0.252727</td>\n",
       "                        <td id=\"T_9c69aed4_eadb_11ea_8919_52540045baa0row4_col12\" class=\"data row4 col12\" >0.121648</td>\n",
       "                        <td id=\"T_9c69aed4_eadb_11ea_8919_52540045baa0row4_col13\" class=\"data row4 col13\" >-0.171912</td>\n",
       "                        <td id=\"T_9c69aed4_eadb_11ea_8919_52540045baa0row4_col14\" class=\"data row4 col14\" >-0.319898</td>\n",
       "                        <td id=\"T_9c69aed4_eadb_11ea_8919_52540045baa0row4_col15\" class=\"data row4 col15\" >0.126747</td>\n",
       "                        <td id=\"T_9c69aed4_eadb_11ea_8919_52540045baa0row4_col16\" class=\"data row4 col16\" >0.049216</td>\n",
       "            </tr>\n",
       "            <tr>\n",
       "                        <th id=\"T_9c69aed4_eadb_11ea_8919_52540045baa0level0_row5\" class=\"row_heading level0 row5\" >School_closing</th>\n",
       "                        <td id=\"T_9c69aed4_eadb_11ea_8919_52540045baa0row5_col0\" class=\"data row5 col0\" >-0.375151</td>\n",
       "                        <td id=\"T_9c69aed4_eadb_11ea_8919_52540045baa0row5_col1\" class=\"data row5 col1\" >0.168672</td>\n",
       "                        <td id=\"T_9c69aed4_eadb_11ea_8919_52540045baa0row5_col2\" class=\"data row5 col2\" >0.235031</td>\n",
       "                        <td id=\"T_9c69aed4_eadb_11ea_8919_52540045baa0row5_col3\" class=\"data row5 col3\" >0.261876</td>\n",
       "                        <td id=\"T_9c69aed4_eadb_11ea_8919_52540045baa0row5_col4\" class=\"data row5 col4\" >0.289839</td>\n",
       "                        <td id=\"T_9c69aed4_eadb_11ea_8919_52540045baa0row5_col5\" class=\"data row5 col5\" >1.000000</td>\n",
       "                        <td id=\"T_9c69aed4_eadb_11ea_8919_52540045baa0row5_col6\" class=\"data row5 col6\" >0.521046</td>\n",
       "                        <td id=\"T_9c69aed4_eadb_11ea_8919_52540045baa0row5_col7\" class=\"data row5 col7\" >0.056549</td>\n",
       "                        <td id=\"T_9c69aed4_eadb_11ea_8919_52540045baa0row5_col8\" class=\"data row5 col8\" >-0.153306</td>\n",
       "                        <td id=\"T_9c69aed4_eadb_11ea_8919_52540045baa0row5_col9\" class=\"data row5 col9\" >0.318159</td>\n",
       "                        <td id=\"T_9c69aed4_eadb_11ea_8919_52540045baa0row5_col10\" class=\"data row5 col10\" >0.195614</td>\n",
       "                        <td id=\"T_9c69aed4_eadb_11ea_8919_52540045baa0row5_col11\" class=\"data row5 col11\" >0.143569</td>\n",
       "                        <td id=\"T_9c69aed4_eadb_11ea_8919_52540045baa0row5_col12\" class=\"data row5 col12\" >0.577240</td>\n",
       "                        <td id=\"T_9c69aed4_eadb_11ea_8919_52540045baa0row5_col13\" class=\"data row5 col13\" >-0.037265</td>\n",
       "                        <td id=\"T_9c69aed4_eadb_11ea_8919_52540045baa0row5_col14\" class=\"data row5 col14\" >0.043622</td>\n",
       "                        <td id=\"T_9c69aed4_eadb_11ea_8919_52540045baa0row5_col15\" class=\"data row5 col15\" >-0.425630</td>\n",
       "                        <td id=\"T_9c69aed4_eadb_11ea_8919_52540045baa0row5_col16\" class=\"data row5 col16\" >0.550906</td>\n",
       "            </tr>\n",
       "            <tr>\n",
       "                        <th id=\"T_9c69aed4_eadb_11ea_8919_52540045baa0level0_row6\" class=\"row_heading level0 row6\" >Workplace_closing</th>\n",
       "                        <td id=\"T_9c69aed4_eadb_11ea_8919_52540045baa0row6_col0\" class=\"data row6 col0\" >-0.112040</td>\n",
       "                        <td id=\"T_9c69aed4_eadb_11ea_8919_52540045baa0row6_col1\" class=\"data row6 col1\" >0.319332</td>\n",
       "                        <td id=\"T_9c69aed4_eadb_11ea_8919_52540045baa0row6_col2\" class=\"data row6 col2\" >0.280845</td>\n",
       "                        <td id=\"T_9c69aed4_eadb_11ea_8919_52540045baa0row6_col3\" class=\"data row6 col3\" >0.178710</td>\n",
       "                        <td id=\"T_9c69aed4_eadb_11ea_8919_52540045baa0row6_col4\" class=\"data row6 col4\" >-0.057007</td>\n",
       "                        <td id=\"T_9c69aed4_eadb_11ea_8919_52540045baa0row6_col5\" class=\"data row6 col5\" >0.521046</td>\n",
       "                        <td id=\"T_9c69aed4_eadb_11ea_8919_52540045baa0row6_col6\" class=\"data row6 col6\" >1.000000</td>\n",
       "                        <td id=\"T_9c69aed4_eadb_11ea_8919_52540045baa0row6_col7\" class=\"data row6 col7\" >0.139917</td>\n",
       "                        <td id=\"T_9c69aed4_eadb_11ea_8919_52540045baa0row6_col8\" class=\"data row6 col8\" >0.228568</td>\n",
       "                        <td id=\"T_9c69aed4_eadb_11ea_8919_52540045baa0row6_col9\" class=\"data row6 col9\" >0.533405</td>\n",
       "                        <td id=\"T_9c69aed4_eadb_11ea_8919_52540045baa0row6_col10\" class=\"data row6 col10\" >0.443652</td>\n",
       "                        <td id=\"T_9c69aed4_eadb_11ea_8919_52540045baa0row6_col11\" class=\"data row6 col11\" >0.443603</td>\n",
       "                        <td id=\"T_9c69aed4_eadb_11ea_8919_52540045baa0row6_col12\" class=\"data row6 col12\" >0.291863</td>\n",
       "                        <td id=\"T_9c69aed4_eadb_11ea_8919_52540045baa0row6_col13\" class=\"data row6 col13\" >0.003924</td>\n",
       "                        <td id=\"T_9c69aed4_eadb_11ea_8919_52540045baa0row6_col14\" class=\"data row6 col14\" >-0.085437</td>\n",
       "                        <td id=\"T_9c69aed4_eadb_11ea_8919_52540045baa0row6_col15\" class=\"data row6 col15\" >-0.482128</td>\n",
       "                        <td id=\"T_9c69aed4_eadb_11ea_8919_52540045baa0row6_col16\" class=\"data row6 col16\" >0.719733</td>\n",
       "            </tr>\n",
       "            <tr>\n",
       "                        <th id=\"T_9c69aed4_eadb_11ea_8919_52540045baa0level0_row7\" class=\"row_heading level0 row7\" >Cancel_events</th>\n",
       "                        <td id=\"T_9c69aed4_eadb_11ea_8919_52540045baa0row7_col0\" class=\"data row7 col0\" >0.023130</td>\n",
       "                        <td id=\"T_9c69aed4_eadb_11ea_8919_52540045baa0row7_col1\" class=\"data row7 col1\" >0.039842</td>\n",
       "                        <td id=\"T_9c69aed4_eadb_11ea_8919_52540045baa0row7_col2\" class=\"data row7 col2\" >-0.028896</td>\n",
       "                        <td id=\"T_9c69aed4_eadb_11ea_8919_52540045baa0row7_col3\" class=\"data row7 col3\" >-0.109923</td>\n",
       "                        <td id=\"T_9c69aed4_eadb_11ea_8919_52540045baa0row7_col4\" class=\"data row7 col4\" >-0.138643</td>\n",
       "                        <td id=\"T_9c69aed4_eadb_11ea_8919_52540045baa0row7_col5\" class=\"data row7 col5\" >0.056549</td>\n",
       "                        <td id=\"T_9c69aed4_eadb_11ea_8919_52540045baa0row7_col6\" class=\"data row7 col6\" >0.139917</td>\n",
       "                        <td id=\"T_9c69aed4_eadb_11ea_8919_52540045baa0row7_col7\" class=\"data row7 col7\" >1.000000</td>\n",
       "                        <td id=\"T_9c69aed4_eadb_11ea_8919_52540045baa0row7_col8\" class=\"data row7 col8\" >0.195467</td>\n",
       "                        <td id=\"T_9c69aed4_eadb_11ea_8919_52540045baa0row7_col9\" class=\"data row7 col9\" >0.088991</td>\n",
       "                        <td id=\"T_9c69aed4_eadb_11ea_8919_52540045baa0row7_col10\" class=\"data row7 col10\" >0.188234</td>\n",
       "                        <td id=\"T_9c69aed4_eadb_11ea_8919_52540045baa0row7_col11\" class=\"data row7 col11\" >0.182093</td>\n",
       "                        <td id=\"T_9c69aed4_eadb_11ea_8919_52540045baa0row7_col12\" class=\"data row7 col12\" >0.012592</td>\n",
       "                        <td id=\"T_9c69aed4_eadb_11ea_8919_52540045baa0row7_col13\" class=\"data row7 col13\" >-0.005392</td>\n",
       "                        <td id=\"T_9c69aed4_eadb_11ea_8919_52540045baa0row7_col14\" class=\"data row7 col14\" >0.035219</td>\n",
       "                        <td id=\"T_9c69aed4_eadb_11ea_8919_52540045baa0row7_col15\" class=\"data row7 col15\" >-0.058574</td>\n",
       "                        <td id=\"T_9c69aed4_eadb_11ea_8919_52540045baa0row7_col16\" class=\"data row7 col16\" >0.200003</td>\n",
       "            </tr>\n",
       "            <tr>\n",
       "                        <th id=\"T_9c69aed4_eadb_11ea_8919_52540045baa0level0_row8\" class=\"row_heading level0 row8\" >Gatherings_restrictions</th>\n",
       "                        <td id=\"T_9c69aed4_eadb_11ea_8919_52540045baa0row8_col0\" class=\"data row8 col0\" >0.173849</td>\n",
       "                        <td id=\"T_9c69aed4_eadb_11ea_8919_52540045baa0row8_col1\" class=\"data row8 col1\" >-0.244016</td>\n",
       "                        <td id=\"T_9c69aed4_eadb_11ea_8919_52540045baa0row8_col2\" class=\"data row8 col2\" >-0.144419</td>\n",
       "                        <td id=\"T_9c69aed4_eadb_11ea_8919_52540045baa0row8_col3\" class=\"data row8 col3\" >-0.103733</td>\n",
       "                        <td id=\"T_9c69aed4_eadb_11ea_8919_52540045baa0row8_col4\" class=\"data row8 col4\" >-0.513682</td>\n",
       "                        <td id=\"T_9c69aed4_eadb_11ea_8919_52540045baa0row8_col5\" class=\"data row8 col5\" >-0.153306</td>\n",
       "                        <td id=\"T_9c69aed4_eadb_11ea_8919_52540045baa0row8_col6\" class=\"data row8 col6\" >0.228568</td>\n",
       "                        <td id=\"T_9c69aed4_eadb_11ea_8919_52540045baa0row8_col7\" class=\"data row8 col7\" >0.195467</td>\n",
       "                        <td id=\"T_9c69aed4_eadb_11ea_8919_52540045baa0row8_col8\" class=\"data row8 col8\" >1.000000</td>\n",
       "                        <td id=\"T_9c69aed4_eadb_11ea_8919_52540045baa0row8_col9\" class=\"data row8 col9\" >0.559327</td>\n",
       "                        <td id=\"T_9c69aed4_eadb_11ea_8919_52540045baa0row8_col10\" class=\"data row8 col10\" >0.443279</td>\n",
       "                        <td id=\"T_9c69aed4_eadb_11ea_8919_52540045baa0row8_col11\" class=\"data row8 col11\" >0.620232</td>\n",
       "                        <td id=\"T_9c69aed4_eadb_11ea_8919_52540045baa0row8_col12\" class=\"data row8 col12\" >0.120038</td>\n",
       "                        <td id=\"T_9c69aed4_eadb_11ea_8919_52540045baa0row8_col13\" class=\"data row8 col13\" >0.090030</td>\n",
       "                        <td id=\"T_9c69aed4_eadb_11ea_8919_52540045baa0row8_col14\" class=\"data row8 col14\" >0.333648</td>\n",
       "                        <td id=\"T_9c69aed4_eadb_11ea_8919_52540045baa0row8_col15\" class=\"data row8 col15\" >-0.206264</td>\n",
       "                        <td id=\"T_9c69aed4_eadb_11ea_8919_52540045baa0row8_col16\" class=\"data row8 col16\" >0.411323</td>\n",
       "            </tr>\n",
       "            <tr>\n",
       "                        <th id=\"T_9c69aed4_eadb_11ea_8919_52540045baa0level0_row9\" class=\"row_heading level0 row9\" >Transport_closing</th>\n",
       "                        <td id=\"T_9c69aed4_eadb_11ea_8919_52540045baa0row9_col0\" class=\"data row9 col0\" >-0.197855</td>\n",
       "                        <td id=\"T_9c69aed4_eadb_11ea_8919_52540045baa0row9_col1\" class=\"data row9 col1\" >-0.168283</td>\n",
       "                        <td id=\"T_9c69aed4_eadb_11ea_8919_52540045baa0row9_col2\" class=\"data row9 col2\" >0.106962</td>\n",
       "                        <td id=\"T_9c69aed4_eadb_11ea_8919_52540045baa0row9_col3\" class=\"data row9 col3\" >0.056203</td>\n",
       "                        <td id=\"T_9c69aed4_eadb_11ea_8919_52540045baa0row9_col4\" class=\"data row9 col4\" >-0.115123</td>\n",
       "                        <td id=\"T_9c69aed4_eadb_11ea_8919_52540045baa0row9_col5\" class=\"data row9 col5\" >0.318159</td>\n",
       "                        <td id=\"T_9c69aed4_eadb_11ea_8919_52540045baa0row9_col6\" class=\"data row9 col6\" >0.533405</td>\n",
       "                        <td id=\"T_9c69aed4_eadb_11ea_8919_52540045baa0row9_col7\" class=\"data row9 col7\" >0.088991</td>\n",
       "                        <td id=\"T_9c69aed4_eadb_11ea_8919_52540045baa0row9_col8\" class=\"data row9 col8\" >0.559327</td>\n",
       "                        <td id=\"T_9c69aed4_eadb_11ea_8919_52540045baa0row9_col9\" class=\"data row9 col9\" >1.000000</td>\n",
       "                        <td id=\"T_9c69aed4_eadb_11ea_8919_52540045baa0row9_col10\" class=\"data row9 col10\" >0.557567</td>\n",
       "                        <td id=\"T_9c69aed4_eadb_11ea_8919_52540045baa0row9_col11\" class=\"data row9 col11\" >0.796555</td>\n",
       "                        <td id=\"T_9c69aed4_eadb_11ea_8919_52540045baa0row9_col12\" class=\"data row9 col12\" >0.325743</td>\n",
       "                        <td id=\"T_9c69aed4_eadb_11ea_8919_52540045baa0row9_col13\" class=\"data row9 col13\" >-0.114377</td>\n",
       "                        <td id=\"T_9c69aed4_eadb_11ea_8919_52540045baa0row9_col14\" class=\"data row9 col14\" >0.294421</td>\n",
       "                        <td id=\"T_9c69aed4_eadb_11ea_8919_52540045baa0row9_col15\" class=\"data row9 col15\" >-0.256943</td>\n",
       "                        <td id=\"T_9c69aed4_eadb_11ea_8919_52540045baa0row9_col16\" class=\"data row9 col16\" >0.710617</td>\n",
       "            </tr>\n",
       "            <tr>\n",
       "                        <th id=\"T_9c69aed4_eadb_11ea_8919_52540045baa0level0_row10\" class=\"row_heading level0 row10\" >Stay_home_restrictions</th>\n",
       "                        <td id=\"T_9c69aed4_eadb_11ea_8919_52540045baa0row10_col0\" class=\"data row10 col0\" >-0.103077</td>\n",
       "                        <td id=\"T_9c69aed4_eadb_11ea_8919_52540045baa0row10_col1\" class=\"data row10 col1\" >-0.125968</td>\n",
       "                        <td id=\"T_9c69aed4_eadb_11ea_8919_52540045baa0row10_col2\" class=\"data row10 col2\" >0.031190</td>\n",
       "                        <td id=\"T_9c69aed4_eadb_11ea_8919_52540045baa0row10_col3\" class=\"data row10 col3\" >0.113478</td>\n",
       "                        <td id=\"T_9c69aed4_eadb_11ea_8919_52540045baa0row10_col4\" class=\"data row10 col4\" >-0.063504</td>\n",
       "                        <td id=\"T_9c69aed4_eadb_11ea_8919_52540045baa0row10_col5\" class=\"data row10 col5\" >0.195614</td>\n",
       "                        <td id=\"T_9c69aed4_eadb_11ea_8919_52540045baa0row10_col6\" class=\"data row10 col6\" >0.443652</td>\n",
       "                        <td id=\"T_9c69aed4_eadb_11ea_8919_52540045baa0row10_col7\" class=\"data row10 col7\" >0.188234</td>\n",
       "                        <td id=\"T_9c69aed4_eadb_11ea_8919_52540045baa0row10_col8\" class=\"data row10 col8\" >0.443279</td>\n",
       "                        <td id=\"T_9c69aed4_eadb_11ea_8919_52540045baa0row10_col9\" class=\"data row10 col9\" >0.557567</td>\n",
       "                        <td id=\"T_9c69aed4_eadb_11ea_8919_52540045baa0row10_col10\" class=\"data row10 col10\" >1.000000</td>\n",
       "                        <td id=\"T_9c69aed4_eadb_11ea_8919_52540045baa0row10_col11\" class=\"data row10 col11\" >0.623038</td>\n",
       "                        <td id=\"T_9c69aed4_eadb_11ea_8919_52540045baa0row10_col12\" class=\"data row10 col12\" >0.290470</td>\n",
       "                        <td id=\"T_9c69aed4_eadb_11ea_8919_52540045baa0row10_col13\" class=\"data row10 col13\" >0.071041</td>\n",
       "                        <td id=\"T_9c69aed4_eadb_11ea_8919_52540045baa0row10_col14\" class=\"data row10 col14\" >0.285750</td>\n",
       "                        <td id=\"T_9c69aed4_eadb_11ea_8919_52540045baa0row10_col15\" class=\"data row10 col15\" >0.032230</td>\n",
       "                        <td id=\"T_9c69aed4_eadb_11ea_8919_52540045baa0row10_col16\" class=\"data row10 col16\" >0.623470</td>\n",
       "            </tr>\n",
       "            <tr>\n",
       "                        <th id=\"T_9c69aed4_eadb_11ea_8919_52540045baa0level0_row11\" class=\"row_heading level0 row11\" >Internal_movement_restrictions</th>\n",
       "                        <td id=\"T_9c69aed4_eadb_11ea_8919_52540045baa0row11_col0\" class=\"data row11 col0\" >-0.067275</td>\n",
       "                        <td id=\"T_9c69aed4_eadb_11ea_8919_52540045baa0row11_col1\" class=\"data row11 col1\" >-0.152857</td>\n",
       "                        <td id=\"T_9c69aed4_eadb_11ea_8919_52540045baa0row11_col2\" class=\"data row11 col2\" >-0.030365</td>\n",
       "                        <td id=\"T_9c69aed4_eadb_11ea_8919_52540045baa0row11_col3\" class=\"data row11 col3\" >-0.017648</td>\n",
       "                        <td id=\"T_9c69aed4_eadb_11ea_8919_52540045baa0row11_col4\" class=\"data row11 col4\" >-0.252727</td>\n",
       "                        <td id=\"T_9c69aed4_eadb_11ea_8919_52540045baa0row11_col5\" class=\"data row11 col5\" >0.143569</td>\n",
       "                        <td id=\"T_9c69aed4_eadb_11ea_8919_52540045baa0row11_col6\" class=\"data row11 col6\" >0.443603</td>\n",
       "                        <td id=\"T_9c69aed4_eadb_11ea_8919_52540045baa0row11_col7\" class=\"data row11 col7\" >0.182093</td>\n",
       "                        <td id=\"T_9c69aed4_eadb_11ea_8919_52540045baa0row11_col8\" class=\"data row11 col8\" >0.620232</td>\n",
       "                        <td id=\"T_9c69aed4_eadb_11ea_8919_52540045baa0row11_col9\" class=\"data row11 col9\" >0.796555</td>\n",
       "                        <td id=\"T_9c69aed4_eadb_11ea_8919_52540045baa0row11_col10\" class=\"data row11 col10\" >0.623038</td>\n",
       "                        <td id=\"T_9c69aed4_eadb_11ea_8919_52540045baa0row11_col11\" class=\"data row11 col11\" >1.000000</td>\n",
       "                        <td id=\"T_9c69aed4_eadb_11ea_8919_52540045baa0row11_col12\" class=\"data row11 col12\" >0.259731</td>\n",
       "                        <td id=\"T_9c69aed4_eadb_11ea_8919_52540045baa0row11_col13\" class=\"data row11 col13\" >-0.027356</td>\n",
       "                        <td id=\"T_9c69aed4_eadb_11ea_8919_52540045baa0row11_col14\" class=\"data row11 col14\" >0.351624</td>\n",
       "                        <td id=\"T_9c69aed4_eadb_11ea_8919_52540045baa0row11_col15\" class=\"data row11 col15\" >-0.295174</td>\n",
       "                        <td id=\"T_9c69aed4_eadb_11ea_8919_52540045baa0row11_col16\" class=\"data row11 col16\" >0.619089</td>\n",
       "            </tr>\n",
       "            <tr>\n",
       "                        <th id=\"T_9c69aed4_eadb_11ea_8919_52540045baa0level0_row12\" class=\"row_heading level0 row12\" >International_movement_restrictions</th>\n",
       "                        <td id=\"T_9c69aed4_eadb_11ea_8919_52540045baa0row12_col0\" class=\"data row12 col0\" >-0.218683</td>\n",
       "                        <td id=\"T_9c69aed4_eadb_11ea_8919_52540045baa0row12_col1\" class=\"data row12 col1\" >0.001779</td>\n",
       "                        <td id=\"T_9c69aed4_eadb_11ea_8919_52540045baa0row12_col2\" class=\"data row12 col2\" >0.085772</td>\n",
       "                        <td id=\"T_9c69aed4_eadb_11ea_8919_52540045baa0row12_col3\" class=\"data row12 col3\" >0.193329</td>\n",
       "                        <td id=\"T_9c69aed4_eadb_11ea_8919_52540045baa0row12_col4\" class=\"data row12 col4\" >0.121648</td>\n",
       "                        <td id=\"T_9c69aed4_eadb_11ea_8919_52540045baa0row12_col5\" class=\"data row12 col5\" >0.577240</td>\n",
       "                        <td id=\"T_9c69aed4_eadb_11ea_8919_52540045baa0row12_col6\" class=\"data row12 col6\" >0.291863</td>\n",
       "                        <td id=\"T_9c69aed4_eadb_11ea_8919_52540045baa0row12_col7\" class=\"data row12 col7\" >0.012592</td>\n",
       "                        <td id=\"T_9c69aed4_eadb_11ea_8919_52540045baa0row12_col8\" class=\"data row12 col8\" >0.120038</td>\n",
       "                        <td id=\"T_9c69aed4_eadb_11ea_8919_52540045baa0row12_col9\" class=\"data row12 col9\" >0.325743</td>\n",
       "                        <td id=\"T_9c69aed4_eadb_11ea_8919_52540045baa0row12_col10\" class=\"data row12 col10\" >0.290470</td>\n",
       "                        <td id=\"T_9c69aed4_eadb_11ea_8919_52540045baa0row12_col11\" class=\"data row12 col11\" >0.259731</td>\n",
       "                        <td id=\"T_9c69aed4_eadb_11ea_8919_52540045baa0row12_col12\" class=\"data row12 col12\" >1.000000</td>\n",
       "                        <td id=\"T_9c69aed4_eadb_11ea_8919_52540045baa0row12_col13\" class=\"data row12 col13\" >0.028122</td>\n",
       "                        <td id=\"T_9c69aed4_eadb_11ea_8919_52540045baa0row12_col14\" class=\"data row12 col14\" >0.119768</td>\n",
       "                        <td id=\"T_9c69aed4_eadb_11ea_8919_52540045baa0row12_col15\" class=\"data row12 col15\" >-0.170845</td>\n",
       "                        <td id=\"T_9c69aed4_eadb_11ea_8919_52540045baa0row12_col16\" class=\"data row12 col16\" >0.642540</td>\n",
       "            </tr>\n",
       "            <tr>\n",
       "                        <th id=\"T_9c69aed4_eadb_11ea_8919_52540045baa0level0_row13\" class=\"row_heading level0 row13\" >Information_campaigns</th>\n",
       "                        <td id=\"T_9c69aed4_eadb_11ea_8919_52540045baa0row13_col0\" class=\"data row13 col0\" >0.023076</td>\n",
       "                        <td id=\"T_9c69aed4_eadb_11ea_8919_52540045baa0row13_col1\" class=\"data row13 col1\" >0.026373</td>\n",
       "                        <td id=\"T_9c69aed4_eadb_11ea_8919_52540045baa0row13_col2\" class=\"data row13 col2\" >-0.118008</td>\n",
       "                        <td id=\"T_9c69aed4_eadb_11ea_8919_52540045baa0row13_col3\" class=\"data row13 col3\" >-0.128710</td>\n",
       "                        <td id=\"T_9c69aed4_eadb_11ea_8919_52540045baa0row13_col4\" class=\"data row13 col4\" >-0.171912</td>\n",
       "                        <td id=\"T_9c69aed4_eadb_11ea_8919_52540045baa0row13_col5\" class=\"data row13 col5\" >-0.037265</td>\n",
       "                        <td id=\"T_9c69aed4_eadb_11ea_8919_52540045baa0row13_col6\" class=\"data row13 col6\" >0.003924</td>\n",
       "                        <td id=\"T_9c69aed4_eadb_11ea_8919_52540045baa0row13_col7\" class=\"data row13 col7\" >-0.005392</td>\n",
       "                        <td id=\"T_9c69aed4_eadb_11ea_8919_52540045baa0row13_col8\" class=\"data row13 col8\" >0.090030</td>\n",
       "                        <td id=\"T_9c69aed4_eadb_11ea_8919_52540045baa0row13_col9\" class=\"data row13 col9\" >-0.114377</td>\n",
       "                        <td id=\"T_9c69aed4_eadb_11ea_8919_52540045baa0row13_col10\" class=\"data row13 col10\" >0.071041</td>\n",
       "                        <td id=\"T_9c69aed4_eadb_11ea_8919_52540045baa0row13_col11\" class=\"data row13 col11\" >-0.027356</td>\n",
       "                        <td id=\"T_9c69aed4_eadb_11ea_8919_52540045baa0row13_col12\" class=\"data row13 col12\" >0.028122</td>\n",
       "                        <td id=\"T_9c69aed4_eadb_11ea_8919_52540045baa0row13_col13\" class=\"data row13 col13\" >1.000000</td>\n",
       "                        <td id=\"T_9c69aed4_eadb_11ea_8919_52540045baa0row13_col14\" class=\"data row13 col14\" >0.151818</td>\n",
       "                        <td id=\"T_9c69aed4_eadb_11ea_8919_52540045baa0row13_col15\" class=\"data row13 col15\" >0.063046</td>\n",
       "                        <td id=\"T_9c69aed4_eadb_11ea_8919_52540045baa0row13_col16\" class=\"data row13 col16\" >0.001085</td>\n",
       "            </tr>\n",
       "            <tr>\n",
       "                        <th id=\"T_9c69aed4_eadb_11ea_8919_52540045baa0level0_row14\" class=\"row_heading level0 row14\" >Testing_policy</th>\n",
       "                        <td id=\"T_9c69aed4_eadb_11ea_8919_52540045baa0row14_col0\" class=\"data row14 col0\" >-0.191250</td>\n",
       "                        <td id=\"T_9c69aed4_eadb_11ea_8919_52540045baa0row14_col1\" class=\"data row14 col1\" >-0.608194</td>\n",
       "                        <td id=\"T_9c69aed4_eadb_11ea_8919_52540045baa0row14_col2\" class=\"data row14 col2\" >-0.586311</td>\n",
       "                        <td id=\"T_9c69aed4_eadb_11ea_8919_52540045baa0row14_col3\" class=\"data row14 col3\" >-0.341244</td>\n",
       "                        <td id=\"T_9c69aed4_eadb_11ea_8919_52540045baa0row14_col4\" class=\"data row14 col4\" >-0.319898</td>\n",
       "                        <td id=\"T_9c69aed4_eadb_11ea_8919_52540045baa0row14_col5\" class=\"data row14 col5\" >0.043622</td>\n",
       "                        <td id=\"T_9c69aed4_eadb_11ea_8919_52540045baa0row14_col6\" class=\"data row14 col6\" >-0.085437</td>\n",
       "                        <td id=\"T_9c69aed4_eadb_11ea_8919_52540045baa0row14_col7\" class=\"data row14 col7\" >0.035219</td>\n",
       "                        <td id=\"T_9c69aed4_eadb_11ea_8919_52540045baa0row14_col8\" class=\"data row14 col8\" >0.333648</td>\n",
       "                        <td id=\"T_9c69aed4_eadb_11ea_8919_52540045baa0row14_col9\" class=\"data row14 col9\" >0.294421</td>\n",
       "                        <td id=\"T_9c69aed4_eadb_11ea_8919_52540045baa0row14_col10\" class=\"data row14 col10\" >0.285750</td>\n",
       "                        <td id=\"T_9c69aed4_eadb_11ea_8919_52540045baa0row14_col11\" class=\"data row14 col11\" >0.351624</td>\n",
       "                        <td id=\"T_9c69aed4_eadb_11ea_8919_52540045baa0row14_col12\" class=\"data row14 col12\" >0.119768</td>\n",
       "                        <td id=\"T_9c69aed4_eadb_11ea_8919_52540045baa0row14_col13\" class=\"data row14 col13\" >0.151818</td>\n",
       "                        <td id=\"T_9c69aed4_eadb_11ea_8919_52540045baa0row14_col14\" class=\"data row14 col14\" >1.000000</td>\n",
       "                        <td id=\"T_9c69aed4_eadb_11ea_8919_52540045baa0row14_col15\" class=\"data row14 col15\" >0.065585</td>\n",
       "                        <td id=\"T_9c69aed4_eadb_11ea_8919_52540045baa0row14_col16\" class=\"data row14 col16\" >-0.124391</td>\n",
       "            </tr>\n",
       "            <tr>\n",
       "                        <th id=\"T_9c69aed4_eadb_11ea_8919_52540045baa0level0_row15\" class=\"row_heading level0 row15\" >Contact_tracing</th>\n",
       "                        <td id=\"T_9c69aed4_eadb_11ea_8919_52540045baa0row15_col0\" class=\"data row15 col0\" >-0.199338</td>\n",
       "                        <td id=\"T_9c69aed4_eadb_11ea_8919_52540045baa0row15_col1\" class=\"data row15 col1\" >-0.124818</td>\n",
       "                        <td id=\"T_9c69aed4_eadb_11ea_8919_52540045baa0row15_col2\" class=\"data row15 col2\" >-0.065971</td>\n",
       "                        <td id=\"T_9c69aed4_eadb_11ea_8919_52540045baa0row15_col3\" class=\"data row15 col3\" >-0.199328</td>\n",
       "                        <td id=\"T_9c69aed4_eadb_11ea_8919_52540045baa0row15_col4\" class=\"data row15 col4\" >0.126747</td>\n",
       "                        <td id=\"T_9c69aed4_eadb_11ea_8919_52540045baa0row15_col5\" class=\"data row15 col5\" >-0.425630</td>\n",
       "                        <td id=\"T_9c69aed4_eadb_11ea_8919_52540045baa0row15_col6\" class=\"data row15 col6\" >-0.482128</td>\n",
       "                        <td id=\"T_9c69aed4_eadb_11ea_8919_52540045baa0row15_col7\" class=\"data row15 col7\" >-0.058574</td>\n",
       "                        <td id=\"T_9c69aed4_eadb_11ea_8919_52540045baa0row15_col8\" class=\"data row15 col8\" >-0.206264</td>\n",
       "                        <td id=\"T_9c69aed4_eadb_11ea_8919_52540045baa0row15_col9\" class=\"data row15 col9\" >-0.256943</td>\n",
       "                        <td id=\"T_9c69aed4_eadb_11ea_8919_52540045baa0row15_col10\" class=\"data row15 col10\" >0.032230</td>\n",
       "                        <td id=\"T_9c69aed4_eadb_11ea_8919_52540045baa0row15_col11\" class=\"data row15 col11\" >-0.295174</td>\n",
       "                        <td id=\"T_9c69aed4_eadb_11ea_8919_52540045baa0row15_col12\" class=\"data row15 col12\" >-0.170845</td>\n",
       "                        <td id=\"T_9c69aed4_eadb_11ea_8919_52540045baa0row15_col13\" class=\"data row15 col13\" >0.063046</td>\n",
       "                        <td id=\"T_9c69aed4_eadb_11ea_8919_52540045baa0row15_col14\" class=\"data row15 col14\" >0.065585</td>\n",
       "                        <td id=\"T_9c69aed4_eadb_11ea_8919_52540045baa0row15_col15\" class=\"data row15 col15\" >1.000000</td>\n",
       "                        <td id=\"T_9c69aed4_eadb_11ea_8919_52540045baa0row15_col16\" class=\"data row15 col16\" >-0.266020</td>\n",
       "            </tr>\n",
       "            <tr>\n",
       "                        <th id=\"T_9c69aed4_eadb_11ea_8919_52540045baa0level0_row16\" class=\"row_heading level0 row16\" >Stringency_index</th>\n",
       "                        <td id=\"T_9c69aed4_eadb_11ea_8919_52540045baa0row16_col0\" class=\"data row16 col0\" >-0.172183</td>\n",
       "                        <td id=\"T_9c69aed4_eadb_11ea_8919_52540045baa0row16_col1\" class=\"data row16 col1\" >0.231750</td>\n",
       "                        <td id=\"T_9c69aed4_eadb_11ea_8919_52540045baa0row16_col2\" class=\"data row16 col2\" >0.384517</td>\n",
       "                        <td id=\"T_9c69aed4_eadb_11ea_8919_52540045baa0row16_col3\" class=\"data row16 col3\" >0.268906</td>\n",
       "                        <td id=\"T_9c69aed4_eadb_11ea_8919_52540045baa0row16_col4\" class=\"data row16 col4\" >0.049216</td>\n",
       "                        <td id=\"T_9c69aed4_eadb_11ea_8919_52540045baa0row16_col5\" class=\"data row16 col5\" >0.550906</td>\n",
       "                        <td id=\"T_9c69aed4_eadb_11ea_8919_52540045baa0row16_col6\" class=\"data row16 col6\" >0.719733</td>\n",
       "                        <td id=\"T_9c69aed4_eadb_11ea_8919_52540045baa0row16_col7\" class=\"data row16 col7\" >0.200003</td>\n",
       "                        <td id=\"T_9c69aed4_eadb_11ea_8919_52540045baa0row16_col8\" class=\"data row16 col8\" >0.411323</td>\n",
       "                        <td id=\"T_9c69aed4_eadb_11ea_8919_52540045baa0row16_col9\" class=\"data row16 col9\" >0.710617</td>\n",
       "                        <td id=\"T_9c69aed4_eadb_11ea_8919_52540045baa0row16_col10\" class=\"data row16 col10\" >0.623470</td>\n",
       "                        <td id=\"T_9c69aed4_eadb_11ea_8919_52540045baa0row16_col11\" class=\"data row16 col11\" >0.619089</td>\n",
       "                        <td id=\"T_9c69aed4_eadb_11ea_8919_52540045baa0row16_col12\" class=\"data row16 col12\" >0.642540</td>\n",
       "                        <td id=\"T_9c69aed4_eadb_11ea_8919_52540045baa0row16_col13\" class=\"data row16 col13\" >0.001085</td>\n",
       "                        <td id=\"T_9c69aed4_eadb_11ea_8919_52540045baa0row16_col14\" class=\"data row16 col14\" >-0.124391</td>\n",
       "                        <td id=\"T_9c69aed4_eadb_11ea_8919_52540045baa0row16_col15\" class=\"data row16 col15\" >-0.266020</td>\n",
       "                        <td id=\"T_9c69aed4_eadb_11ea_8919_52540045baa0row16_col16\" class=\"data row16 col16\" >1.000000</td>\n",
       "            </tr>\n",
       "    </tbody></table>"
      ],
      "text/plain": [
       "<pandas.io.formats.style.Styler at 0x7f63fcdf1a90>"
      ]
     },
     "execution_count": 21,
     "metadata": {},
     "output_type": "execute_result"
    }
   ],
   "source": [
    "# Correlation\n",
    "df = track_df.copy()\n",
    "df.corr().style.background_gradient(axis=None)"
   ]
  },
  {
   "cell_type": "code",
   "execution_count": 22,
   "metadata": {
    "collapsed": false
   },
   "outputs": [
    {
     "data": {
      "image/png": "[encoded data removed]",
      "text/plain": [
       "<Figure size 432x288 with 1 Axes>"
      ]
     },
     "metadata": {},
     "output_type": "display_data"
    }
   ],
   "source": [
    "# Scatter plot of Stringency index and Rt\n",
    "df = track_df.copy()\n",
    "sns.scatterplot(data=df, x=\"Stringency_index\", y=\"Rt\", hue=\"Country\", legend=\"brief\", marker=\"+\")\n",
    "bbox_to_anchor=(1.02, 0)\n",
    "bbox_loc=\"lower left\"\n",
    "plt.legend(bbox_to_anchor=bbox_to_anchor, loc=bbox_loc, borderaxespad=0)\n",
    "plt.title(\"Relationship of Stringency index and reproduction number\")\n",
    "plt.ylabel(\"Reproduction number\")\n",
    "plt.xlabel(\"Stringency index\")\n",
    "plt.show()"
   ]
  }
 ],
 "metadata": {
  "kernelspec": {
   "display_name": "Python 3.8.2 64-bit ('.venv': venv)",
   "name": "python_defaultSpec_1597669925034"
  },
  "language_info": {
   "codemirror_mode": {
    "name": "ipython",
    "version": 3
   },
   "file_extension": ".py",
   "mimetype": "text/x-python",
   "name": "python",
   "nbconvert_exporter": "python",
   "pygments_lexer": "ipython3",
   "version": "3.8.2-final"
  }
 },
 "nbformat": 4,
 "nbformat_minor": 4
}
