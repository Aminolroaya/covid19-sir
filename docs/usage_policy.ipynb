{
 "cells": [
  {
   "cell_type": "markdown",
   "metadata": {},
   "source": [
    "# Usage (details: policy measures)\n",
    "Here, we will analyse the relationship of policy measures and parameter values of SIR-derived ODE models. Policy measures are tracked by [Oxford Covid-19 Government Response Tracker (OxCGRT)](https://github.com/OxCGRT/covid-policy-tracker)."
   ]
  },
  {
   "cell_type": "markdown",
   "metadata": {},
   "source": [
    "## Preparation"
   ]
  },
  {
   "cell_type": "code",
   "execution_count": 1,
   "metadata": {
    "collapsed": false
   },
   "outputs": [],
   "source": [
    "# Standard users\n",
    "# !pip install covsirphy\n",
    "# Developers (Note: this notebook is in example directory)\n",
    "import os\n",
    "os.chdir(\"../\")"
   ]
  },
  {
   "cell_type": "code",
   "execution_count": 2,
   "metadata": {
    "collapsed": false
   },
   "outputs": [],
   "source": [
    "from pprint import pprint"
   ]
  },
  {
   "cell_type": "code",
   "execution_count": 3,
   "metadata": {
    "collapsed": false
   },
   "outputs": [
    {
     "data": {
      "text/plain": [
       "'2.7.0'"
      ]
     },
     "execution_count": 3,
     "metadata": {},
     "output_type": "execute_result"
    }
   ],
   "source": [
    "import covsirphy as cs\n",
    "cs.__version__"
   ]
  },
  {
   "cell_type": "code",
   "execution_count": 4,
   "metadata": {
    "collapsed": false,
    "tags": []
   },
   "outputs": [
    {
     "name": "stdout",
     "output_type": "stream",
     "text": [
      "(Secondary source) Guidotti, E., Ardia, D., (2020), \"COVID-19 Data Hub\", Working paper, doi: 10.13140/RG.2.2.11649.81763.\n",
      "We can get Citation list of primary sources with DataLoader(...).covid19dh_citation"
     ]
    },
    {
     "name": "stdout",
     "output_type": "stream",
     "text": [
      "\n"
     ]
    }
   ],
   "source": [
    "# Standard users and developers\n",
    "data_loader = cs.DataLoader(\"input\")\n",
    "# The number of cases (JHU style)\n",
    "jhu_data = data_loader.jhu(verbose=False)\n",
    "# Population in each country\n",
    "population_data = data_loader.population(verbose=False)\n",
    "# Government Response Tracker (OxCGRT)\n",
    "oxcgrt_data = data_loader.oxcgrt(verbose=False)\n",
    "# Description/citation\n",
    "print(oxcgrt_data.citation)"
   ]
  },
  {
   "cell_type": "markdown",
   "metadata": {},
   "source": [
    "## Class for policy measure analysis\n",
    "We will `PolicyMeasures` class to find relationship of policy measures and parameter values of SIR-derived ODE models."
   ]
  },
  {
   "cell_type": "code",
   "execution_count": 5,
   "metadata": {
    "collapsed": false,
    "tags": []
   },
   "outputs": [
    {
     "data": {
      "text/plain": [
       "184"
      ]
     },
     "execution_count": 5,
     "metadata": {},
     "output_type": "execute_result"
    }
   ],
   "source": [
    "# Create analyser with tau value 360 [min] (can be changed)\n",
    "analyser = cs.PolicyMeasures(jhu_data, population_data, oxcgrt_data, tau=360)\n",
    "# The number of registerd countries\n",
    "len(analyser.countries)"
   ]
  },
  {
   "cell_type": "code",
   "execution_count": 6,
   "metadata": {
    "collapsed": false
   },
   "outputs": [
    {
     "data": {
      "text/plain": [
       "covsirphy.analysis.scenario.Scenario"
      ]
     },
     "execution_count": 6,
     "metadata": {},
     "output_type": "execute_result"
    }
   ],
   "source": [
    "# We can get Scenario instance for detailed scenario analysis\n",
    "type(analyser.scenario(\"Japan\"))"
   ]
  },
  {
   "cell_type": "markdown",
   "metadata": {},
   "source": [
    "## Set phases with S-R trend analysis\n",
    "We will perform S-R trend analysis to set phases in all countries. Countries which do not have **9th phases** will be un-registered for the next analysis. This number will be adjusted for your analysis."
   ]
  },
  {
   "cell_type": "code",
   "execution_count": 7,
   "metadata": {
    "collapsed": false
   },
   "outputs": [
    {
     "name": "stdout",
     "output_type": "stream",
     "text": [
      "{"
     ]
    },
    {
     "name": "stdout",
     "output_type": "stream",
     "text": [
      "2"
     ]
    },
    {
     "name": "stdout",
     "output_type": "stream",
     "text": [
      ": "
     ]
    },
    {
     "name": "stdout",
     "output_type": "stream",
     "text": [
      "['Papua New Guinea', 'Gambia', 'Lesotho']"
     ]
    },
    {
     "name": "stdout",
     "output_type": "stream",
     "text": [
      ",\n",
      " "
     ]
    },
    {
     "name": "stdout",
     "output_type": "stream",
     "text": [
      "3"
     ]
    },
    {
     "name": "stdout",
     "output_type": "stream",
     "text": [
      ": "
     ]
    },
    {
     "name": "stdout",
     "output_type": "stream",
     "text": [
      "["
     ]
    },
    {
     "name": "stdout",
     "output_type": "stream",
     "text": [
      "'Seychelles'"
     ]
    },
    {
     "name": "stdout",
     "output_type": "stream",
     "text": [
      ", "
     ]
    },
    {
     "name": "stdout",
     "output_type": "stream",
     "text": [
      "'Botswana'"
     ]
    },
    {
     "name": "stdout",
     "output_type": "stream",
     "text": [
      ", "
     ]
    },
    {
     "name": "stdout",
     "output_type": "stream",
     "text": [
      "'Peru'"
     ]
    },
    {
     "name": "stdout",
     "output_type": "stream",
     "text": [
      ", "
     ]
    },
    {
     "name": "stdout",
     "output_type": "stream",
     "text": [
      "'Norway'"
     ]
    },
    {
     "name": "stdout",
     "output_type": "stream",
     "text": [
      ", "
     ]
    },
    {
     "name": "stdout",
     "output_type": "stream",
     "text": [
      "'Brunei'"
     ]
    },
    {
     "name": "stdout",
     "output_type": "stream",
     "text": [
      ", "
     ]
    },
    {
     "name": "stdout",
     "output_type": "stream",
     "text": [
      "'Tanzania'"
     ]
    },
    {
     "name": "stdout",
     "output_type": "stream",
     "text": [
      ",\n",
      "     "
     ]
    },
    {
     "name": "stdout",
     "output_type": "stream",
     "text": [
      "'Antigua and Barbuda'"
     ]
    },
    {
     "name": "stdout",
     "output_type": "stream",
     "text": [
      ", "
     ]
    },
    {
     "name": "stdout",
     "output_type": "stream",
     "text": [
      "'Mauritius'"
     ]
    },
    {
     "name": "stdout",
     "output_type": "stream",
     "text": [
      ", "
     ]
    },
    {
     "name": "stdout",
     "output_type": "stream",
     "text": [
      "'Grenada'"
     ]
    },
    {
     "name": "stdout",
     "output_type": "stream",
     "text": [
      "]"
     ]
    },
    {
     "name": "stdout",
     "output_type": "stream",
     "text": [
      ",\n",
      " "
     ]
    },
    {
     "name": "stdout",
     "output_type": "stream",
     "text": [
      "4"
     ]
    },
    {
     "name": "stdout",
     "output_type": "stream",
     "text": [
      ": "
     ]
    },
    {
     "name": "stdout",
     "output_type": "stream",
     "text": [
      "["
     ]
    },
    {
     "name": "stdout",
     "output_type": "stream",
     "text": [
      "'Ireland'"
     ]
    },
    {
     "name": "stdout",
     "output_type": "stream",
     "text": [
      ", "
     ]
    },
    {
     "name": "stdout",
     "output_type": "stream",
     "text": [
      "'Yemen'"
     ]
    },
    {
     "name": "stdout",
     "output_type": "stream",
     "text": [
      ", "
     ]
    },
    {
     "name": "stdout",
     "output_type": "stream",
     "text": [
      "'Malawi'"
     ]
    },
    {
     "name": "stdout",
     "output_type": "stream",
     "text": [
      ", "
     ]
    },
    {
     "name": "stdout",
     "output_type": "stream",
     "text": [
      "'Guyana'"
     ]
    },
    {
     "name": "stdout",
     "output_type": "stream",
     "text": [
      ", "
     ]
    },
    {
     "name": "stdout",
     "output_type": "stream",
     "text": [
      "'Palestine'"
     ]
    },
    {
     "name": "stdout",
     "output_type": "stream",
     "text": [
      ", "
     ]
    },
    {
     "name": "stdout",
     "output_type": "stream",
     "text": [
      "'Belize'"
     ]
    },
    {
     "name": "stdout",
     "output_type": "stream",
     "text": [
      ",\n",
      "     "
     ]
    },
    {
     "name": "stdout",
     "output_type": "stream",
     "text": [
      "'Equatorial Guinea'"
     ]
    },
    {
     "name": "stdout",
     "output_type": "stream",
     "text": [
      ", "
     ]
    },
    {
     "name": "stdout",
     "output_type": "stream",
     "text": [
      "'South Sudan'"
     ]
    },
    {
     "name": "stdout",
     "output_type": "stream",
     "text": [
      ", "
     ]
    },
    {
     "name": "stdout",
     "output_type": "stream",
     "text": [
      "'Sao Tome and Principe'"
     ]
    },
    {
     "name": "stdout",
     "output_type": "stream",
     "text": [
      ", "
     ]
    },
    {
     "name": "stdout",
     "output_type": "stream",
     "text": [
      "'Comoros'"
     ]
    },
    {
     "name": "stdout",
     "output_type": "stream",
     "text": [
      ",\n",
      "     "
     ]
    },
    {
     "name": "stdout",
     "output_type": "stream",
     "text": [
      "'Eritrea'"
     ]
    },
    {
     "name": "stdout",
     "output_type": "stream",
     "text": [
      ", "
     ]
    },
    {
     "name": "stdout",
     "output_type": "stream",
     "text": [
      "'Venezuela'"
     ]
    },
    {
     "name": "stdout",
     "output_type": "stream",
     "text": [
      ", "
     ]
    },
    {
     "name": "stdout",
     "output_type": "stream",
     "text": [
      "'Philippines'"
     ]
    },
    {
     "name": "stdout",
     "output_type": "stream",
     "text": [
      ", "
     ]
    },
    {
     "name": "stdout",
     "output_type": "stream",
     "text": [
      "'New Zealand'"
     ]
    },
    {
     "name": "stdout",
     "output_type": "stream",
     "text": [
      ", "
     ]
    },
    {
     "name": "stdout",
     "output_type": "stream",
     "text": [
      "'Kosovo'"
     ]
    },
    {
     "name": "stdout",
     "output_type": "stream",
     "text": [
      ",\n",
      "     "
     ]
    },
    {
     "name": "stdout",
     "output_type": "stream",
     "text": [
      "'Montenegro'"
     ]
    },
    {
     "name": "stdout",
     "output_type": "stream",
     "text": [
      ", "
     ]
    },
    {
     "name": "stdout",
     "output_type": "stream",
     "text": [
      "'Kyrgyzstan'"
     ]
    },
    {
     "name": "stdout",
     "output_type": "stream",
     "text": [
      ", "
     ]
    },
    {
     "name": "stdout",
     "output_type": "stream",
     "text": [
      "'Ethiopia'"
     ]
    },
    {
     "name": "stdout",
     "output_type": "stream",
     "text": [
      ", "
     ]
    },
    {
     "name": "stdout",
     "output_type": "stream",
     "text": [
      "'Suriname'"
     ]
    },
    {
     "name": "stdout",
     "output_type": "stream",
     "text": [
      ", "
     ]
    },
    {
     "name": "stdout",
     "output_type": "stream",
     "text": [
      "'Guatemala'"
     ]
    },
    {
     "name": "stdout",
     "output_type": "stream",
     "text": [
      ", "
     ]
    },
    {
     "name": "stdout",
     "output_type": "stream",
     "text": [
      "'Zambia'"
     ]
    },
    {
     "name": "stdout",
     "output_type": "stream",
     "text": [
      ",\n",
      "     "
     ]
    },
    {
     "name": "stdout",
     "output_type": "stream",
     "text": [
      "'Iceland'"
     ]
    },
    {
     "name": "stdout",
     "output_type": "stream",
     "text": [
      ", "
     ]
    },
    {
     "name": "stdout",
     "output_type": "stream",
     "text": [
      "'Zimbabwe'"
     ]
    },
    {
     "name": "stdout",
     "output_type": "stream",
     "text": [
      ", "
     ]
    },
    {
     "name": "stdout",
     "output_type": "stream",
     "text": [
      "'Central African Republic'"
     ]
    },
    {
     "name": "stdout",
     "output_type": "stream",
     "text": [
      "]"
     ]
    },
    {
     "name": "stdout",
     "output_type": "stream",
     "text": [
      ",\n",
      " "
     ]
    },
    {
     "name": "stdout",
     "output_type": "stream",
     "text": [
      "5"
     ]
    },
    {
     "name": "stdout",
     "output_type": "stream",
     "text": [
      ": "
     ]
    },
    {
     "name": "stdout",
     "output_type": "stream",
     "text": [
      "["
     ]
    },
    {
     "name": "stdout",
     "output_type": "stream",
     "text": [
      "'Libya'"
     ]
    },
    {
     "name": "stdout",
     "output_type": "stream",
     "text": [
      ", "
     ]
    },
    {
     "name": "stdout",
     "output_type": "stream",
     "text": [
      "'Haiti'"
     ]
    },
    {
     "name": "stdout",
     "output_type": "stream",
     "text": [
      ", "
     ]
    },
    {
     "name": "stdout",
     "output_type": "stream",
     "text": [
      "'Croatia'"
     ]
    },
    {
     "name": "stdout",
     "output_type": "stream",
     "text": [
      ", "
     ]
    },
    {
     "name": "stdout",
     "output_type": "stream",
     "text": [
      "'Spain'"
     ]
    },
    {
     "name": "stdout",
     "output_type": "stream",
     "text": [
      ", "
     ]
    },
    {
     "name": "stdout",
     "output_type": "stream",
     "text": [
      "'Bermuda'"
     ]
    },
    {
     "name": "stdout",
     "output_type": "stream",
     "text": [
      ", "
     ]
    },
    {
     "name": "stdout",
     "output_type": "stream",
     "text": [
      "'Kenya'"
     ]
    },
    {
     "name": "stdout",
     "output_type": "stream",
     "text": [
      ", "
     ]
    },
    {
     "name": "stdout",
     "output_type": "stream",
     "text": [
      "'Japan'"
     ]
    },
    {
     "name": "stdout",
     "output_type": "stream",
     "text": [
      ",\n",
      "     "
     ]
    },
    {
     "name": "stdout",
     "output_type": "stream",
     "text": [
      "'Lebanon'"
     ]
    },
    {
     "name": "stdout",
     "output_type": "stream",
     "text": [
      ", "
     ]
    },
    {
     "name": "stdout",
     "output_type": "stream",
     "text": [
      "'Swaziland'"
     ]
    },
    {
     "name": "stdout",
     "output_type": "stream",
     "text": [
      ", "
     ]
    },
    {
     "name": "stdout",
     "output_type": "stream",
     "text": [
      "'Mozambique'"
     ]
    },
    {
     "name": "stdout",
     "output_type": "stream",
     "text": [
      ", "
     ]
    },
    {
     "name": "stdout",
     "output_type": "stream",
     "text": [
      "'Guinea-Bissau'"
     ]
    },
    {
     "name": "stdout",
     "output_type": "stream",
     "text": [
      ", "
     ]
    },
    {
     "name": "stdout",
     "output_type": "stream",
     "text": [
      "'Syria'"
     ]
    },
    {
     "name": "stdout",
     "output_type": "stream",
     "text": [
      ",\n",
      "     "
     ]
    },
    {
     "name": "stdout",
     "output_type": "stream",
     "text": [
      "'Argentina'"
     ]
    },
    {
     "name": "stdout",
     "output_type": "stream",
     "text": [
      ", "
     ]
    },
    {
     "name": "stdout",
     "output_type": "stream",
     "text": [
      "'Paraguay'"
     ]
    },
    {
     "name": "stdout",
     "output_type": "stream",
     "text": [
      ", "
     ]
    },
    {
     "name": "stdout",
     "output_type": "stream",
     "text": [
      "'Benin'"
     ]
    },
    {
     "name": "stdout",
     "output_type": "stream",
     "text": [
      ", "
     ]
    },
    {
     "name": "stdout",
     "output_type": "stream",
     "text": [
      "'Madagascar'"
     ]
    },
    {
     "name": "stdout",
     "output_type": "stream",
     "text": [
      ", "
     ]
    },
    {
     "name": "stdout",
     "output_type": "stream",
     "text": [
      "'Colombia'"
     ]
    },
    {
     "name": "stdout",
     "output_type": "stream",
     "text": [
      ", "
     ]
    },
    {
     "name": "stdout",
     "output_type": "stream",
     "text": [
      "'Costa Rica'"
     ]
    },
    {
     "name": "stdout",
     "output_type": "stream",
     "text": [
      ",\n",
      "     "
     ]
    },
    {
     "name": "stdout",
     "output_type": "stream",
     "text": [
      "'Chad'"
     ]
    },
    {
     "name": "stdout",
     "output_type": "stream",
     "text": [
      ", "
     ]
    },
    {
     "name": "stdout",
     "output_type": "stream",
     "text": [
      "'Saint Vincent and the Grenadines'"
     ]
    },
    {
     "name": "stdout",
     "output_type": "stream",
     "text": [
      ", "
     ]
    },
    {
     "name": "stdout",
     "output_type": "stream",
     "text": [
      "'Bosnia and Herzegovina'"
     ]
    },
    {
     "name": "stdout",
     "output_type": "stream",
     "text": [
      ",\n",
      "     "
     ]
    },
    {
     "name": "stdout",
     "output_type": "stream",
     "text": [
      "'Morocco'"
     ]
    },
    {
     "name": "stdout",
     "output_type": "stream",
     "text": [
      ", "
     ]
    },
    {
     "name": "stdout",
     "output_type": "stream",
     "text": [
      "'Kazakhstan'"
     ]
    },
    {
     "name": "stdout",
     "output_type": "stream",
     "text": [
      ", "
     ]
    },
    {
     "name": "stdout",
     "output_type": "stream",
     "text": [
      "'Angola'"
     ]
    },
    {
     "name": "stdout",
     "output_type": "stream",
     "text": [
      ", "
     ]
    },
    {
     "name": "stdout",
     "output_type": "stream",
     "text": [
      "'Congo'"
     ]
    },
    {
     "name": "stdout",
     "output_type": "stream",
     "text": [
      ", "
     ]
    },
    {
     "name": "stdout",
     "output_type": "stream",
     "text": [
      "'Iraq'"
     ]
    },
    {
     "name": "stdout",
     "output_type": "stream",
     "text": [
      ", "
     ]
    },
    {
     "name": "stdout",
     "output_type": "stream",
     "text": [
      "'Andorra'"
     ]
    },
    {
     "name": "stdout",
     "output_type": "stream",
     "text": [
      ", "
     ]
    },
    {
     "name": "stdout",
     "output_type": "stream",
     "text": [
      "'Malta'"
     ]
    },
    {
     "name": "stdout",
     "output_type": "stream",
     "text": [
      ",\n",
      "     "
     ]
    },
    {
     "name": "stdout",
     "output_type": "stream",
     "text": [
      "'Liechtenstein'"
     ]
    },
    {
     "name": "stdout",
     "output_type": "stream",
     "text": [
      ", "
     ]
    },
    {
     "name": "stdout",
     "output_type": "stream",
     "text": [
      "'Saint Lucia'"
     ]
    },
    {
     "name": "stdout",
     "output_type": "stream",
     "text": [
      ", "
     ]
    },
    {
     "name": "stdout",
     "output_type": "stream",
     "text": [
      "'Sudan'"
     ]
    },
    {
     "name": "stdout",
     "output_type": "stream",
     "text": [
      ", "
     ]
    },
    {
     "name": "stdout",
     "output_type": "stream",
     "text": [
      "'Slovakia'"
     ]
    },
    {
     "name": "stdout",
     "output_type": "stream",
     "text": [
      ", "
     ]
    },
    {
     "name": "stdout",
     "output_type": "stream",
     "text": [
      "'Slovenia'"
     ]
    },
    {
     "name": "stdout",
     "output_type": "stream",
     "text": [
      "]"
     ]
    },
    {
     "name": "stdout",
     "output_type": "stream",
     "text": [
      ",\n",
      " "
     ]
    },
    {
     "name": "stdout",
     "output_type": "stream",
     "text": [
      "6"
     ]
    },
    {
     "name": "stdout",
     "output_type": "stream",
     "text": [
      ": "
     ]
    },
    {
     "name": "stdout",
     "output_type": "stream",
     "text": [
      "["
     ]
    },
    {
     "name": "stdout",
     "output_type": "stream",
     "text": [
      "'Latvia'"
     ]
    },
    {
     "name": "stdout",
     "output_type": "stream",
     "text": [
      ", "
     ]
    },
    {
     "name": "stdout",
     "output_type": "stream",
     "text": [
      "'Ecuador'"
     ]
    },
    {
     "name": "stdout",
     "output_type": "stream",
     "text": [
      ", "
     ]
    },
    {
     "name": "stdout",
     "output_type": "stream",
     "text": [
      "'Cameroon'"
     ]
    },
    {
     "name": "stdout",
     "output_type": "stream",
     "text": [
      ", "
     ]
    },
    {
     "name": "stdout",
     "output_type": "stream",
     "text": [
      "'Trinidad and Tobago'"
     ]
    },
    {
     "name": "stdout",
     "output_type": "stream",
     "text": [
      ", "
     ]
    },
    {
     "name": "stdout",
     "output_type": "stream",
     "text": [
      "'Israel'"
     ]
    },
    {
     "name": "stdout",
     "output_type": "stream",
     "text": [
      ", "
     ]
    },
    {
     "name": "stdout",
     "output_type": "stream",
     "text": [
      "'India'"
     ]
    },
    {
     "name": "stdout",
     "output_type": "stream",
     "text": [
      ",\n",
      "     "
     ]
    },
    {
     "name": "stdout",
     "output_type": "stream",
     "text": [
      "'Germany'"
     ]
    },
    {
     "name": "stdout",
     "output_type": "stream",
     "text": [
      ", "
     ]
    },
    {
     "name": "stdout",
     "output_type": "stream",
     "text": [
      "'Mauritania'"
     ]
    },
    {
     "name": "stdout",
     "output_type": "stream",
     "text": [
      ", "
     ]
    },
    {
     "name": "stdout",
     "output_type": "stream",
     "text": [
      "'Tajikistan'"
     ]
    },
    {
     "name": "stdout",
     "output_type": "stream",
     "text": [
      ", "
     ]
    },
    {
     "name": "stdout",
     "output_type": "stream",
     "text": [
      "'Rwanda'"
     ]
    },
    {
     "name": "stdout",
     "output_type": "stream",
     "text": [
      ", "
     ]
    },
    {
     "name": "stdout",
     "output_type": "stream",
     "text": [
      "'Mongolia'"
     ]
    },
    {
     "name": "stdout",
     "output_type": "stream",
     "text": [
      ", "
     ]
    },
    {
     "name": "stdout",
     "output_type": "stream",
     "text": [
      "'Sri Lanka'"
     ]
    },
    {
     "name": "stdout",
     "output_type": "stream",
     "text": [
      ",\n",
      "     "
     ]
    },
    {
     "name": "stdout",
     "output_type": "stream",
     "text": [
      "'Australia'"
     ]
    },
    {
     "name": "stdout",
     "output_type": "stream",
     "text": [
      ", "
     ]
    },
    {
     "name": "stdout",
     "output_type": "stream",
     "text": [
      "'Tunisia'"
     ]
    },
    {
     "name": "stdout",
     "output_type": "stream",
     "text": [
      ", "
     ]
    },
    {
     "name": "stdout",
     "output_type": "stream",
     "text": [
      "'Maldives'"
     ]
    },
    {
     "name": "stdout",
     "output_type": "stream",
     "text": [
      ", "
     ]
    },
    {
     "name": "stdout",
     "output_type": "stream",
     "text": [
      "'Honduras'"
     ]
    },
    {
     "name": "stdout",
     "output_type": "stream",
     "text": [
      ", "
     ]
    },
    {
     "name": "stdout",
     "output_type": "stream",
     "text": [
      "'Panama'"
     ]
    },
    {
     "name": "stdout",
     "output_type": "stream",
     "text": [
      ", "
     ]
    },
    {
     "name": "stdout",
     "output_type": "stream",
     "text": [
      "'Togo'"
     ]
    },
    {
     "name": "stdout",
     "output_type": "stream",
     "text": [
      ",\n",
      "     "
     ]
    },
    {
     "name": "stdout",
     "output_type": "stream",
     "text": [
      "'Thailand'"
     ]
    },
    {
     "name": "stdout",
     "output_type": "stream",
     "text": [
      ", "
     ]
    },
    {
     "name": "stdout",
     "output_type": "stream",
     "text": [
      "'Oman'"
     ]
    },
    {
     "name": "stdout",
     "output_type": "stream",
     "text": [
      ", "
     ]
    },
    {
     "name": "stdout",
     "output_type": "stream",
     "text": [
      "'Nepal'"
     ]
    },
    {
     "name": "stdout",
     "output_type": "stream",
     "text": [
      ", "
     ]
    },
    {
     "name": "stdout",
     "output_type": "stream",
     "text": [
      "'Netherlands'"
     ]
    },
    {
     "name": "stdout",
     "output_type": "stream",
     "text": [
      ", "
     ]
    },
    {
     "name": "stdout",
     "output_type": "stream",
     "text": [
      "'Estonia'"
     ]
    },
    {
     "name": "stdout",
     "output_type": "stream",
     "text": [
      ", "
     ]
    },
    {
     "name": "stdout",
     "output_type": "stream",
     "text": [
      "'Taiwan'"
     ]
    },
    {
     "name": "stdout",
     "output_type": "stream",
     "text": [
      ",\n",
      "     "
     ]
    },
    {
     "name": "stdout",
     "output_type": "stream",
     "text": [
      "'Cambodia'"
     ]
    },
    {
     "name": "stdout",
     "output_type": "stream",
     "text": [
      ", "
     ]
    },
    {
     "name": "stdout",
     "output_type": "stream",
     "text": [
      "'Switzerland'"
     ]
    },
    {
     "name": "stdout",
     "output_type": "stream",
     "text": [
      ", "
     ]
    },
    {
     "name": "stdout",
     "output_type": "stream",
     "text": [
      "'Cape Verde'"
     ]
    },
    {
     "name": "stdout",
     "output_type": "stream",
     "text": [
      ", "
     ]
    },
    {
     "name": "stdout",
     "output_type": "stream",
     "text": [
      "'El Salvador'"
     ]
    },
    {
     "name": "stdout",
     "output_type": "stream",
     "text": [
      ", "
     ]
    },
    {
     "name": "stdout",
     "output_type": "stream",
     "text": [
      "'Afghanistan'"
     ]
    },
    {
     "name": "stdout",
     "output_type": "stream",
     "text": [
      ",\n",
      "     "
     ]
    },
    {
     "name": "stdout",
     "output_type": "stream",
     "text": [
      "'Cyprus'"
     ]
    },
    {
     "name": "stdout",
     "output_type": "stream",
     "text": [
      ", "
     ]
    },
    {
     "name": "stdout",
     "output_type": "stream",
     "text": [
      "'San Marino'"
     ]
    },
    {
     "name": "stdout",
     "output_type": "stream",
     "text": [
      ", "
     ]
    },
    {
     "name": "stdout",
     "output_type": "stream",
     "text": [
      "'Burundi'"
     ]
    },
    {
     "name": "stdout",
     "output_type": "stream",
     "text": [
      ", "
     ]
    },
    {
     "name": "stdout",
     "output_type": "stream",
     "text": [
      "'Finland'"
     ]
    },
    {
     "name": "stdout",
     "output_type": "stream",
     "text": [
      ", "
     ]
    },
    {
     "name": "stdout",
     "output_type": "stream",
     "text": [
      "'Algeria'"
     ]
    },
    {
     "name": "stdout",
     "output_type": "stream",
     "text": [
      ", "
     ]
    },
    {
     "name": "stdout",
     "output_type": "stream",
     "text": [
      "'Uganda'"
     ]
    },
    {
     "name": "stdout",
     "output_type": "stream",
     "text": [
      ",\n",
      "     "
     ]
    },
    {
     "name": "stdout",
     "output_type": "stream",
     "text": [
      "'South Africa'"
     ]
    },
    {
     "name": "stdout",
     "output_type": "stream",
     "text": [
      ", "
     ]
    },
    {
     "name": "stdout",
     "output_type": "stream",
     "text": [
      "'Bulgaria'"
     ]
    },
    {
     "name": "stdout",
     "output_type": "stream",
     "text": [
      ", "
     ]
    },
    {
     "name": "stdout",
     "output_type": "stream",
     "text": [
      "'Luxembourg'"
     ]
    },
    {
     "name": "stdout",
     "output_type": "stream",
     "text": [
      ", "
     ]
    },
    {
     "name": "stdout",
     "output_type": "stream",
     "text": [
      "'Bolivia'"
     ]
    },
    {
     "name": "stdout",
     "output_type": "stream",
     "text": [
      ", "
     ]
    },
    {
     "name": "stdout",
     "output_type": "stream",
     "text": [
      "'Nicaragua'"
     ]
    },
    {
     "name": "stdout",
     "output_type": "stream",
     "text": [
      ",\n",
      "     "
     ]
    },
    {
     "name": "stdout",
     "output_type": "stream",
     "text": [
      "'Uzbekistan'"
     ]
    },
    {
     "name": "stdout",
     "output_type": "stream",
     "text": [
      "]"
     ]
    },
    {
     "name": "stdout",
     "output_type": "stream",
     "text": [
      ",\n",
      " "
     ]
    },
    {
     "name": "stdout",
     "output_type": "stream",
     "text": [
      "7"
     ]
    },
    {
     "name": "stdout",
     "output_type": "stream",
     "text": [
      ": "
     ]
    },
    {
     "name": "stdout",
     "output_type": "stream",
     "text": [
      "["
     ]
    },
    {
     "name": "stdout",
     "output_type": "stream",
     "text": [
      "'Somalia'"
     ]
    },
    {
     "name": "stdout",
     "output_type": "stream",
     "text": [
      ", "
     ]
    },
    {
     "name": "stdout",
     "output_type": "stream",
     "text": [
      "'Albania'"
     ]
    },
    {
     "name": "stdout",
     "output_type": "stream",
     "text": [
      ", "
     ]
    },
    {
     "name": "stdout",
     "output_type": "stream",
     "text": [
      "'Indonesia'"
     ]
    },
    {
     "name": "stdout",
     "output_type": "stream",
     "text": [
      ", "
     ]
    },
    {
     "name": "stdout",
     "output_type": "stream",
     "text": [
      "'Mali'"
     ]
    },
    {
     "name": "stdout",
     "output_type": "stream",
     "text": [
      ", "
     ]
    },
    {
     "name": "stdout",
     "output_type": "stream",
     "text": [
      "'Niger'"
     ]
    },
    {
     "name": "stdout",
     "output_type": "stream",
     "text": [
      ", "
     ]
    },
    {
     "name": "stdout",
     "output_type": "stream",
     "text": [
      "'Sierra Leone'"
     ]
    },
    {
     "name": "stdout",
     "output_type": "stream",
     "text": [
      ",\n",
      "     "
     ]
    },
    {
     "name": "stdout",
     "output_type": "stream",
     "text": [
      "'Burkina Faso'"
     ]
    },
    {
     "name": "stdout",
     "output_type": "stream",
     "text": [
      ", "
     ]
    },
    {
     "name": "stdout",
     "output_type": "stream",
     "text": [
      "'China'"
     ]
    },
    {
     "name": "stdout",
     "output_type": "stream",
     "text": [
      ", "
     ]
    },
    {
     "name": "stdout",
     "output_type": "stream",
     "text": [
      "'Greece'"
     ]
    },
    {
     "name": "stdout",
     "output_type": "stream",
     "text": [
      ", "
     ]
    },
    {
     "name": "stdout",
     "output_type": "stream",
     "text": [
      "'Qatar'"
     ]
    },
    {
     "name": "stdout",
     "output_type": "stream",
     "text": [
      ", "
     ]
    },
    {
     "name": "stdout",
     "output_type": "stream",
     "text": [
      "'Macedonia'"
     ]
    },
    {
     "name": "stdout",
     "output_type": "stream",
     "text": [
      ", "
     ]
    },
    {
     "name": "stdout",
     "output_type": "stream",
     "text": [
      "'Azerbaijan'"
     ]
    },
    {
     "name": "stdout",
     "output_type": "stream",
     "text": [
      ",\n",
      "     "
     ]
    },
    {
     "name": "stdout",
     "output_type": "stream",
     "text": [
      "'Monaco'"
     ]
    },
    {
     "name": "stdout",
     "output_type": "stream",
     "text": [
      ", "
     ]
    },
    {
     "name": "stdout",
     "output_type": "stream",
     "text": [
      "'Pakistan'"
     ]
    },
    {
     "name": "stdout",
     "output_type": "stream",
     "text": [
      ", "
     ]
    },
    {
     "name": "stdout",
     "output_type": "stream",
     "text": [
      "'Myanmar'"
     ]
    },
    {
     "name": "stdout",
     "output_type": "stream",
     "text": [
      ", "
     ]
    },
    {
     "name": "stdout",
     "output_type": "stream",
     "text": [
      "'Belgium'"
     ]
    },
    {
     "name": "stdout",
     "output_type": "stream",
     "text": [
      ", "
     ]
    },
    {
     "name": "stdout",
     "output_type": "stream",
     "text": [
      "'Jordan'"
     ]
    },
    {
     "name": "stdout",
     "output_type": "stream",
     "text": [
      ", "
     ]
    },
    {
     "name": "stdout",
     "output_type": "stream",
     "text": [
      "'Belarus'"
     ]
    },
    {
     "name": "stdout",
     "output_type": "stream",
     "text": [
      ", "
     ]
    },
    {
     "name": "stdout",
     "output_type": "stream",
     "text": [
      "'Egypt'"
     ]
    },
    {
     "name": "stdout",
     "output_type": "stream",
     "text": [
      ",\n",
      "     "
     ]
    },
    {
     "name": "stdout",
     "output_type": "stream",
     "text": [
      "'Bhutan'"
     ]
    },
    {
     "name": "stdout",
     "output_type": "stream",
     "text": [
      ", "
     ]
    },
    {
     "name": "stdout",
     "output_type": "stream",
     "text": [
      "'Barbados'"
     ]
    },
    {
     "name": "stdout",
     "output_type": "stream",
     "text": [
      ", "
     ]
    },
    {
     "name": "stdout",
     "output_type": "stream",
     "text": [
      "'Dominican Republic'"
     ]
    },
    {
     "name": "stdout",
     "output_type": "stream",
     "text": [
      ", "
     ]
    },
    {
     "name": "stdout",
     "output_type": "stream",
     "text": [
      "'Brazil'"
     ]
    },
    {
     "name": "stdout",
     "output_type": "stream",
     "text": [
      ", "
     ]
    },
    {
     "name": "stdout",
     "output_type": "stream",
     "text": [
      "'Cuba'"
     ]
    },
    {
     "name": "stdout",
     "output_type": "stream",
     "text": [
      ", "
     ]
    },
    {
     "name": "stdout",
     "output_type": "stream",
     "text": [
      "'Bangladesh'"
     ]
    },
    {
     "name": "stdout",
     "output_type": "stream",
     "text": [
      ",\n",
      "     "
     ]
    },
    {
     "name": "stdout",
     "output_type": "stream",
     "text": [
      "'Lithuania'"
     ]
    },
    {
     "name": "stdout",
     "output_type": "stream",
     "text": [
      ", "
     ]
    },
    {
     "name": "stdout",
     "output_type": "stream",
     "text": [
      "'Serbia'"
     ]
    },
    {
     "name": "stdout",
     "output_type": "stream",
     "text": [
      ", "
     ]
    },
    {
     "name": "stdout",
     "output_type": "stream",
     "text": [
      "'Ghana'"
     ]
    },
    {
     "name": "stdout",
     "output_type": "stream",
     "text": [
      ", "
     ]
    },
    {
     "name": "stdout",
     "output_type": "stream",
     "text": [
      "'Djibouti'"
     ]
    },
    {
     "name": "stdout",
     "output_type": "stream",
     "text": [
      ", "
     ]
    },
    {
     "name": "stdout",
     "output_type": "stream",
     "text": [
      "'Armenia'"
     ]
    },
    {
     "name": "stdout",
     "output_type": "stream",
     "text": [
      "]"
     ]
    },
    {
     "name": "stdout",
     "output_type": "stream",
     "text": [
      ",\n",
      " "
     ]
    },
    {
     "name": "stdout",
     "output_type": "stream",
     "text": [
      "8"
     ]
    },
    {
     "name": "stdout",
     "output_type": "stream",
     "text": [
      ": "
     ]
    },
    {
     "name": "stdout",
     "output_type": "stream",
     "text": [
      "["
     ]
    },
    {
     "name": "stdout",
     "output_type": "stream",
     "text": [
      "'Saudi Arabia'"
     ]
    },
    {
     "name": "stdout",
     "output_type": "stream",
     "text": [
      ", "
     ]
    },
    {
     "name": "stdout",
     "output_type": "stream",
     "text": [
      "'Korea, South'"
     ]
    },
    {
     "name": "stdout",
     "output_type": "stream",
     "text": [
      ", "
     ]
    },
    {
     "name": "stdout",
     "output_type": "stream",
     "text": [
      "'Uruguay'"
     ]
    },
    {
     "name": "stdout",
     "output_type": "stream",
     "text": [
      ", "
     ]
    },
    {
     "name": "stdout",
     "output_type": "stream",
     "text": [
      "'France'"
     ]
    },
    {
     "name": "stdout",
     "output_type": "stream",
     "text": [
      ", "
     ]
    },
    {
     "name": "stdout",
     "output_type": "stream",
     "text": [
      "'Gabon'"
     ]
    },
    {
     "name": "stdout",
     "output_type": "stream",
     "text": [
      ", "
     ]
    },
    {
     "name": "stdout",
     "output_type": "stream",
     "text": [
      "'Malaysia'"
     ]
    },
    {
     "name": "stdout",
     "output_type": "stream",
     "text": [
      ",\n",
      "     "
     ]
    },
    {
     "name": "stdout",
     "output_type": "stream",
     "text": [
      "'Jamaica'"
     ]
    },
    {
     "name": "stdout",
     "output_type": "stream",
     "text": [
      ", "
     ]
    },
    {
     "name": "stdout",
     "output_type": "stream",
     "text": [
      "'Singapore'"
     ]
    },
    {
     "name": "stdout",
     "output_type": "stream",
     "text": [
      ", "
     ]
    },
    {
     "name": "stdout",
     "output_type": "stream",
     "text": [
      "'Vietnam'"
     ]
    },
    {
     "name": "stdout",
     "output_type": "stream",
     "text": [
      ", "
     ]
    },
    {
     "name": "stdout",
     "output_type": "stream",
     "text": [
      "'Hungary'"
     ]
    },
    {
     "name": "stdout",
     "output_type": "stream",
     "text": [
      ", "
     ]
    },
    {
     "name": "stdout",
     "output_type": "stream",
     "text": [
      "'Mexico'"
     ]
    },
    {
     "name": "stdout",
     "output_type": "stream",
     "text": [
      ", "
     ]
    },
    {
     "name": "stdout",
     "output_type": "stream",
     "text": [
      "'Russia'"
     ]
    },
    {
     "name": "stdout",
     "output_type": "stream",
     "text": [
      ",\n",
      "     "
     ]
    },
    {
     "name": "stdout",
     "output_type": "stream",
     "text": [
      "'Liberia'"
     ]
    },
    {
     "name": "stdout",
     "output_type": "stream",
     "text": [
      ", "
     ]
    },
    {
     "name": "stdout",
     "output_type": "stream",
     "text": [
      "'Romania'"
     ]
    },
    {
     "name": "stdout",
     "output_type": "stream",
     "text": [
      ", "
     ]
    },
    {
     "name": "stdout",
     "output_type": "stream",
     "text": [
      "'Nigeria'"
     ]
    },
    {
     "name": "stdout",
     "output_type": "stream",
     "text": [
      ", "
     ]
    },
    {
     "name": "stdout",
     "output_type": "stream",
     "text": [
      "'Turkey'"
     ]
    },
    {
     "name": "stdout",
     "output_type": "stream",
     "text": [
      ", "
     ]
    },
    {
     "name": "stdout",
     "output_type": "stream",
     "text": [
      "'United States'"
     ]
    },
    {
     "name": "stdout",
     "output_type": "stream",
     "text": [
      ", "
     ]
    },
    {
     "name": "stdout",
     "output_type": "stream",
     "text": [
      "'Chile'"
     ]
    },
    {
     "name": "stdout",
     "output_type": "stream",
     "text": [
      ",\n",
      "     "
     ]
    },
    {
     "name": "stdout",
     "output_type": "stream",
     "text": [
      "'Georgia'"
     ]
    },
    {
     "name": "stdout",
     "output_type": "stream",
     "text": [
      "]"
     ]
    },
    {
     "name": "stdout",
     "output_type": "stream",
     "text": [
      ",\n",
      " "
     ]
    },
    {
     "name": "stdout",
     "output_type": "stream",
     "text": [
      "9"
     ]
    },
    {
     "name": "stdout",
     "output_type": "stream",
     "text": [
      ": "
     ]
    },
    {
     "name": "stdout",
     "output_type": "stream",
     "text": [
      "["
     ]
    },
    {
     "name": "stdout",
     "output_type": "stream",
     "text": [
      "'Austria'"
     ]
    },
    {
     "name": "stdout",
     "output_type": "stream",
     "text": [
      ", "
     ]
    },
    {
     "name": "stdout",
     "output_type": "stream",
     "text": [
      "'United Arab Emirates'"
     ]
    },
    {
     "name": "stdout",
     "output_type": "stream",
     "text": [
      ", "
     ]
    },
    {
     "name": "stdout",
     "output_type": "stream",
     "text": [
      "'Portugal'"
     ]
    },
    {
     "name": "stdout",
     "output_type": "stream",
     "text": [
      ", "
     ]
    },
    {
     "name": "stdout",
     "output_type": "stream",
     "text": [
      "'Ukraine'"
     ]
    },
    {
     "name": "stdout",
     "output_type": "stream",
     "text": [
      ", "
     ]
    },
    {
     "name": "stdout",
     "output_type": "stream",
     "text": [
      "'Moldova'"
     ]
    },
    {
     "name": "stdout",
     "output_type": "stream",
     "text": [
      ",\n",
      "     "
     ]
    },
    {
     "name": "stdout",
     "output_type": "stream",
     "text": [
      "'Czech Republic'"
     ]
    },
    {
     "name": "stdout",
     "output_type": "stream",
     "text": [
      ", "
     ]
    },
    {
     "name": "stdout",
     "output_type": "stream",
     "text": [
      "'Denmark'"
     ]
    },
    {
     "name": "stdout",
     "output_type": "stream",
     "text": [
      ", "
     ]
    },
    {
     "name": "stdout",
     "output_type": "stream",
     "text": [
      "'Canada'"
     ]
    },
    {
     "name": "stdout",
     "output_type": "stream",
     "text": [
      ", "
     ]
    },
    {
     "name": "stdout",
     "output_type": "stream",
     "text": [
      "'Italy'"
     ]
    },
    {
     "name": "stdout",
     "output_type": "stream",
     "text": [
      ", "
     ]
    },
    {
     "name": "stdout",
     "output_type": "stream",
     "text": [
      "'Poland'"
     ]
    },
    {
     "name": "stdout",
     "output_type": "stream",
     "text": [
      ", "
     ]
    },
    {
     "name": "stdout",
     "output_type": "stream",
     "text": [
      "'Guinea'"
     ]
    },
    {
     "name": "stdout",
     "output_type": "stream",
     "text": [
      "]"
     ]
    },
    {
     "name": "stdout",
     "output_type": "stream",
     "text": [
      ",\n",
      " "
     ]
    },
    {
     "name": "stdout",
     "output_type": "stream",
     "text": [
      "10"
     ]
    },
    {
     "name": "stdout",
     "output_type": "stream",
     "text": [
      ": "
     ]
    },
    {
     "name": "stdout",
     "output_type": "stream",
     "text": [
      "['Iran', 'Senegal', 'Kuwait', 'Bahrain']"
     ]
    },
    {
     "name": "stdout",
     "output_type": "stream",
     "text": [
      "}"
     ]
    },
    {
     "name": "stdout",
     "output_type": "stream",
     "text": [
      "\n"
     ]
    }
   ],
   "source": [
    "# Show the number of phases of all countries\n",
    "analyser.trend()\n",
    "pprint(analyser.phase_len(), compact=True)"
   ]
  },
  {
   "cell_type": "code",
   "execution_count": 8,
   "metadata": {
    "collapsed": false
   },
   "outputs": [
    {
     "data": {
      "text/plain": [
       "15"
      ]
     },
     "execution_count": 8,
     "metadata": {},
     "output_type": "execute_result"
    }
   ],
   "source": [
    "# Set phases with S-R trend analysis\n",
    "analyser.trend(min_len=9)\n",
    "# The number of countries\n",
    "len(analyser.countries)"
   ]
  },
  {
   "cell_type": "code",
   "execution_count": 9,
   "metadata": {
    "collapsed": false,
    "tags": []
   },
   "outputs": [
    {
     "name": "stdout",
     "output_type": "stream",
     "text": [
      "{"
     ]
    },
    {
     "name": "stdout",
     "output_type": "stream",
     "text": [
      "9"
     ]
    },
    {
     "name": "stdout",
     "output_type": "stream",
     "text": [
      ": "
     ]
    },
    {
     "name": "stdout",
     "output_type": "stream",
     "text": [
      "["
     ]
    },
    {
     "name": "stdout",
     "output_type": "stream",
     "text": [
      "'Austria'"
     ]
    },
    {
     "name": "stdout",
     "output_type": "stream",
     "text": [
      ", "
     ]
    },
    {
     "name": "stdout",
     "output_type": "stream",
     "text": [
      "'United Arab Emirates'"
     ]
    },
    {
     "name": "stdout",
     "output_type": "stream",
     "text": [
      ", "
     ]
    },
    {
     "name": "stdout",
     "output_type": "stream",
     "text": [
      "'Portugal'"
     ]
    },
    {
     "name": "stdout",
     "output_type": "stream",
     "text": [
      ", "
     ]
    },
    {
     "name": "stdout",
     "output_type": "stream",
     "text": [
      "'Ukraine'"
     ]
    },
    {
     "name": "stdout",
     "output_type": "stream",
     "text": [
      ", "
     ]
    },
    {
     "name": "stdout",
     "output_type": "stream",
     "text": [
      "'Moldova'"
     ]
    },
    {
     "name": "stdout",
     "output_type": "stream",
     "text": [
      ",\n",
      "     "
     ]
    },
    {
     "name": "stdout",
     "output_type": "stream",
     "text": [
      "'Czech Republic'"
     ]
    },
    {
     "name": "stdout",
     "output_type": "stream",
     "text": [
      ", "
     ]
    },
    {
     "name": "stdout",
     "output_type": "stream",
     "text": [
      "'Denmark'"
     ]
    },
    {
     "name": "stdout",
     "output_type": "stream",
     "text": [
      ", "
     ]
    },
    {
     "name": "stdout",
     "output_type": "stream",
     "text": [
      "'Canada'"
     ]
    },
    {
     "name": "stdout",
     "output_type": "stream",
     "text": [
      ", "
     ]
    },
    {
     "name": "stdout",
     "output_type": "stream",
     "text": [
      "'Italy'"
     ]
    },
    {
     "name": "stdout",
     "output_type": "stream",
     "text": [
      ", "
     ]
    },
    {
     "name": "stdout",
     "output_type": "stream",
     "text": [
      "'Poland'"
     ]
    },
    {
     "name": "stdout",
     "output_type": "stream",
     "text": [
      ", "
     ]
    },
    {
     "name": "stdout",
     "output_type": "stream",
     "text": [
      "'Guinea'"
     ]
    },
    {
     "name": "stdout",
     "output_type": "stream",
     "text": [
      "]"
     ]
    },
    {
     "name": "stdout",
     "output_type": "stream",
     "text": [
      ",\n",
      " "
     ]
    },
    {
     "name": "stdout",
     "output_type": "stream",
     "text": [
      "10"
     ]
    },
    {
     "name": "stdout",
     "output_type": "stream",
     "text": [
      ": "
     ]
    },
    {
     "name": "stdout",
     "output_type": "stream",
     "text": [
      "['Iran', 'Senegal', 'Kuwait', 'Bahrain']"
     ]
    },
    {
     "name": "stdout",
     "output_type": "stream",
     "text": [
      "}"
     ]
    },
    {
     "name": "stdout",
     "output_type": "stream",
     "text": [
      "\n"
     ]
    }
   ],
   "source": [
    "phase_len_dict = analyser.phase_len()\n",
    "pprint(phase_len_dict, compact=True)"
   ]
  },
  {
   "cell_type": "code",
   "execution_count": 10,
   "metadata": {
    "collapsed": false,
    "tags": []
   },
   "outputs": [
    {
     "data": {
      "text/html": [
       "<div>\n",
       "<style scoped>\n",
       "    .dataframe tbody tr th:only-of-type {\n",
       "        vertical-align: middle;\n",
       "    }\n",
       "\n",
       "    .dataframe tbody tr th {\n",
       "        vertical-align: top;\n",
       "    }\n",
       "\n",
       "    .dataframe thead th {\n",
       "        text-align: right;\n",
       "    }\n",
       "</style>\n",
       "<table border=\"1\" class=\"dataframe\">\n",
       "  <thead>\n",
       "    <tr style=\"text-align: right;\">\n",
       "      <th></th>\n",
       "      <th></th>\n",
       "      <th>Type</th>\n",
       "      <th>Start</th>\n",
       "      <th>End</th>\n",
       "      <th>Population</th>\n",
       "    </tr>\n",
       "    <tr>\n",
       "      <th>Country</th>\n",
       "      <th>Phase</th>\n",
       "      <th></th>\n",
       "      <th></th>\n",
       "      <th></th>\n",
       "      <th></th>\n",
       "    </tr>\n",
       "  </thead>\n",
       "  <tbody>\n",
       "    <tr>\n",
       "      <th rowspan=\"10\" valign=\"top\">Iran</th>\n",
       "      <th>1st</th>\n",
       "      <td>Past</td>\n",
       "      <td>29Mar2020</td>\n",
       "      <td>12Apr2020</td>\n",
       "      <td>81800269</td>\n",
       "    </tr>\n",
       "    <tr>\n",
       "      <th>2nd</th>\n",
       "      <td>Past</td>\n",
       "      <td>13Apr2020</td>\n",
       "      <td>04May2020</td>\n",
       "      <td>81800269</td>\n",
       "    </tr>\n",
       "    <tr>\n",
       "      <th>3rd</th>\n",
       "      <td>Past</td>\n",
       "      <td>05May2020</td>\n",
       "      <td>21May2020</td>\n",
       "      <td>81800269</td>\n",
       "    </tr>\n",
       "    <tr>\n",
       "      <th>4th</th>\n",
       "      <td>Past</td>\n",
       "      <td>22May2020</td>\n",
       "      <td>02Jun2020</td>\n",
       "      <td>81800269</td>\n",
       "    </tr>\n",
       "    <tr>\n",
       "      <th>5th</th>\n",
       "      <td>Past</td>\n",
       "      <td>03Jun2020</td>\n",
       "      <td>15Jun2020</td>\n",
       "      <td>81800269</td>\n",
       "    </tr>\n",
       "    <tr>\n",
       "      <th>6th</th>\n",
       "      <td>Past</td>\n",
       "      <td>16Jun2020</td>\n",
       "      <td>27Jun2020</td>\n",
       "      <td>81800269</td>\n",
       "    </tr>\n",
       "    <tr>\n",
       "      <th>7th</th>\n",
       "      <td>Past</td>\n",
       "      <td>28Jun2020</td>\n",
       "      <td>09Jul2020</td>\n",
       "      <td>81800269</td>\n",
       "    </tr>\n",
       "    <tr>\n",
       "      <th>8th</th>\n",
       "      <td>Past</td>\n",
       "      <td>10Jul2020</td>\n",
       "      <td>21Jul2020</td>\n",
       "      <td>81800269</td>\n",
       "    </tr>\n",
       "    <tr>\n",
       "      <th>9th</th>\n",
       "      <td>Past</td>\n",
       "      <td>22Jul2020</td>\n",
       "      <td>02Aug2020</td>\n",
       "      <td>81800269</td>\n",
       "    </tr>\n",
       "    <tr>\n",
       "      <th>10th</th>\n",
       "      <td>Past</td>\n",
       "      <td>03Aug2020</td>\n",
       "      <td>17Aug2020</td>\n",
       "      <td>81800269</td>\n",
       "    </tr>\n",
       "    <tr>\n",
       "      <th rowspan=\"10\" valign=\"top\">Senegal</th>\n",
       "      <th>1st</th>\n",
       "      <td>Past</td>\n",
       "      <td>30Apr2020</td>\n",
       "      <td>14May2020</td>\n",
       "      <td>15854360</td>\n",
       "    </tr>\n",
       "    <tr>\n",
       "      <th>2nd</th>\n",
       "      <td>Past</td>\n",
       "      <td>15May2020</td>\n",
       "      <td>29May2020</td>\n",
       "      <td>15854360</td>\n",
       "    </tr>\n",
       "    <tr>\n",
       "      <th>3rd</th>\n",
       "      <td>Past</td>\n",
       "      <td>30May2020</td>\n",
       "      <td>09Jun2020</td>\n",
       "      <td>15854360</td>\n",
       "    </tr>\n",
       "    <tr>\n",
       "      <th>4th</th>\n",
       "      <td>Past</td>\n",
       "      <td>10Jun2020</td>\n",
       "      <td>19Jun2020</td>\n",
       "      <td>15854360</td>\n",
       "    </tr>\n",
       "    <tr>\n",
       "      <th>5th</th>\n",
       "      <td>Past</td>\n",
       "      <td>20Jun2020</td>\n",
       "      <td>30Jun2020</td>\n",
       "      <td>15854360</td>\n",
       "    </tr>\n",
       "    <tr>\n",
       "      <th>6th</th>\n",
       "      <td>Past</td>\n",
       "      <td>01Jul2020</td>\n",
       "      <td>10Jul2020</td>\n",
       "      <td>15854360</td>\n",
       "    </tr>\n",
       "    <tr>\n",
       "      <th>7th</th>\n",
       "      <td>Past</td>\n",
       "      <td>11Jul2020</td>\n",
       "      <td>19Jul2020</td>\n",
       "      <td>15854360</td>\n",
       "    </tr>\n",
       "    <tr>\n",
       "      <th>8th</th>\n",
       "      <td>Past</td>\n",
       "      <td>20Jul2020</td>\n",
       "      <td>28Jul2020</td>\n",
       "      <td>15854360</td>\n",
       "    </tr>\n",
       "    <tr>\n",
       "      <th>9th</th>\n",
       "      <td>Past</td>\n",
       "      <td>29Jul2020</td>\n",
       "      <td>08Aug2020</td>\n",
       "      <td>15854360</td>\n",
       "    </tr>\n",
       "    <tr>\n",
       "      <th>10th</th>\n",
       "      <td>Past</td>\n",
       "      <td>09Aug2020</td>\n",
       "      <td>17Aug2020</td>\n",
       "      <td>15854360</td>\n",
       "    </tr>\n",
       "    <tr>\n",
       "      <th rowspan=\"10\" valign=\"top\">Kuwait</th>\n",
       "      <th>1st</th>\n",
       "      <td>Past</td>\n",
       "      <td>11May2020</td>\n",
       "      <td>23May2020</td>\n",
       "      <td>4137309</td>\n",
       "    </tr>\n",
       "    <tr>\n",
       "      <th>2nd</th>\n",
       "      <td>Past</td>\n",
       "      <td>24May2020</td>\n",
       "      <td>31May2020</td>\n",
       "      <td>4137309</td>\n",
       "    </tr>\n",
       "    <tr>\n",
       "      <th>3rd</th>\n",
       "      <td>Past</td>\n",
       "      <td>01Jun2020</td>\n",
       "      <td>09Jun2020</td>\n",
       "      <td>4137309</td>\n",
       "    </tr>\n",
       "    <tr>\n",
       "      <th>4th</th>\n",
       "      <td>Past</td>\n",
       "      <td>10Jun2020</td>\n",
       "      <td>21Jun2020</td>\n",
       "      <td>4137309</td>\n",
       "    </tr>\n",
       "    <tr>\n",
       "      <th>5th</th>\n",
       "      <td>Past</td>\n",
       "      <td>22Jun2020</td>\n",
       "      <td>30Jun2020</td>\n",
       "      <td>4137309</td>\n",
       "    </tr>\n",
       "    <tr>\n",
       "      <th>6th</th>\n",
       "      <td>Past</td>\n",
       "      <td>01Jul2020</td>\n",
       "      <td>08Jul2020</td>\n",
       "      <td>4137309</td>\n",
       "    </tr>\n",
       "    <tr>\n",
       "      <th>7th</th>\n",
       "      <td>Past</td>\n",
       "      <td>09Jul2020</td>\n",
       "      <td>17Jul2020</td>\n",
       "      <td>4137309</td>\n",
       "    </tr>\n",
       "    <tr>\n",
       "      <th>8th</th>\n",
       "      <td>Past</td>\n",
       "      <td>18Jul2020</td>\n",
       "      <td>26Jul2020</td>\n",
       "      <td>4137309</td>\n",
       "    </tr>\n",
       "    <tr>\n",
       "      <th>9th</th>\n",
       "      <td>Past</td>\n",
       "      <td>27Jul2020</td>\n",
       "      <td>05Aug2020</td>\n",
       "      <td>4137309</td>\n",
       "    </tr>\n",
       "    <tr>\n",
       "      <th>10th</th>\n",
       "      <td>Past</td>\n",
       "      <td>06Aug2020</td>\n",
       "      <td>17Aug2020</td>\n",
       "      <td>4137309</td>\n",
       "    </tr>\n",
       "    <tr>\n",
       "      <th rowspan=\"10\" valign=\"top\">Bahrain</th>\n",
       "      <th>1st</th>\n",
       "      <td>Past</td>\n",
       "      <td>06May2020</td>\n",
       "      <td>25May2020</td>\n",
       "      <td>1569439</td>\n",
       "    </tr>\n",
       "    <tr>\n",
       "      <th>2nd</th>\n",
       "      <td>Past</td>\n",
       "      <td>26May2020</td>\n",
       "      <td>03Jun2020</td>\n",
       "      <td>1569439</td>\n",
       "    </tr>\n",
       "    <tr>\n",
       "      <th>3rd</th>\n",
       "      <td>Past</td>\n",
       "      <td>04Jun2020</td>\n",
       "      <td>11Jun2020</td>\n",
       "      <td>1569439</td>\n",
       "    </tr>\n",
       "    <tr>\n",
       "      <th>4th</th>\n",
       "      <td>Past</td>\n",
       "      <td>12Jun2020</td>\n",
       "      <td>20Jun2020</td>\n",
       "      <td>1569439</td>\n",
       "    </tr>\n",
       "    <tr>\n",
       "      <th>5th</th>\n",
       "      <td>Past</td>\n",
       "      <td>21Jun2020</td>\n",
       "      <td>28Jun2020</td>\n",
       "      <td>1569439</td>\n",
       "    </tr>\n",
       "    <tr>\n",
       "      <th>6th</th>\n",
       "      <td>Past</td>\n",
       "      <td>29Jun2020</td>\n",
       "      <td>06Jul2020</td>\n",
       "      <td>1569439</td>\n",
       "    </tr>\n",
       "    <tr>\n",
       "      <th>7th</th>\n",
       "      <td>Past</td>\n",
       "      <td>07Jul2020</td>\n",
       "      <td>14Jul2020</td>\n",
       "      <td>1569439</td>\n",
       "    </tr>\n",
       "    <tr>\n",
       "      <th>8th</th>\n",
       "      <td>Past</td>\n",
       "      <td>15Jul2020</td>\n",
       "      <td>23Jul2020</td>\n",
       "      <td>1569439</td>\n",
       "    </tr>\n",
       "    <tr>\n",
       "      <th>9th</th>\n",
       "      <td>Past</td>\n",
       "      <td>24Jul2020</td>\n",
       "      <td>04Aug2020</td>\n",
       "      <td>1569439</td>\n",
       "    </tr>\n",
       "    <tr>\n",
       "      <th>10th</th>\n",
       "      <td>Past</td>\n",
       "      <td>05Aug2020</td>\n",
       "      <td>17Aug2020</td>\n",
       "      <td>1569439</td>\n",
       "    </tr>\n",
       "  </tbody>\n",
       "</table>\n",
       "</div>"
      ],
      "text/plain": [
       "               Type      Start        End  Population\n",
       "Country Phase                                        \n",
       "Iran    1st    Past  29Mar2020  12Apr2020    81800269\n",
       "        2nd    Past  13Apr2020  04May2020    81800269\n",
       "        3rd    Past  05May2020  21May2020    81800269\n",
       "        4th    Past  22May2020  02Jun2020    81800269\n",
       "        5th    Past  03Jun2020  15Jun2020    81800269\n",
       "        6th    Past  16Jun2020  27Jun2020    81800269\n",
       "        7th    Past  28Jun2020  09Jul2020    81800269\n",
       "        8th    Past  10Jul2020  21Jul2020    81800269\n",
       "        9th    Past  22Jul2020  02Aug2020    81800269\n",
       "        10th   Past  03Aug2020  17Aug2020    81800269\n",
       "Senegal 1st    Past  30Apr2020  14May2020    15854360\n",
       "        2nd    Past  15May2020  29May2020    15854360\n",
       "        3rd    Past  30May2020  09Jun2020    15854360\n",
       "        4th    Past  10Jun2020  19Jun2020    15854360\n",
       "        5th    Past  20Jun2020  30Jun2020    15854360\n",
       "        6th    Past  01Jul2020  10Jul2020    15854360\n",
       "        7th    Past  11Jul2020  19Jul2020    15854360\n",
       "        8th    Past  20Jul2020  28Jul2020    15854360\n",
       "        9th    Past  29Jul2020  08Aug2020    15854360\n",
       "        10th   Past  09Aug2020  17Aug2020    15854360\n",
       "Kuwait  1st    Past  11May2020  23May2020     4137309\n",
       "        2nd    Past  24May2020  31May2020     4137309\n",
       "        3rd    Past  01Jun2020  09Jun2020     4137309\n",
       "        4th    Past  10Jun2020  21Jun2020     4137309\n",
       "        5th    Past  22Jun2020  30Jun2020     4137309\n",
       "        6th    Past  01Jul2020  08Jul2020     4137309\n",
       "        7th    Past  09Jul2020  17Jul2020     4137309\n",
       "        8th    Past  18Jul2020  26Jul2020     4137309\n",
       "        9th    Past  27Jul2020  05Aug2020     4137309\n",
       "        10th   Past  06Aug2020  17Aug2020     4137309\n",
       "Bahrain 1st    Past  06May2020  25May2020     1569439\n",
       "        2nd    Past  26May2020  03Jun2020     1569439\n",
       "        3rd    Past  04Jun2020  11Jun2020     1569439\n",
       "        4th    Past  12Jun2020  20Jun2020     1569439\n",
       "        5th    Past  21Jun2020  28Jun2020     1569439\n",
       "        6th    Past  29Jun2020  06Jul2020     1569439\n",
       "        7th    Past  07Jul2020  14Jul2020     1569439\n",
       "        8th    Past  15Jul2020  23Jul2020     1569439\n",
       "        9th    Past  24Jul2020  04Aug2020     1569439\n",
       "        10th   Past  05Aug2020  17Aug2020     1569439"
      ]
     },
     "execution_count": 10,
     "metadata": {},
     "output_type": "execute_result"
    }
   ],
   "source": [
    "# Here, only show the countries which have the most phases\n",
    "countries_show = max(phase_len_dict.items(), key=lambda x: x[0])[1]\n",
    "# Show summary\n",
    "analyser.summary(countries=countries_show)"
   ]
  },
  {
   "cell_type": "markdown",
   "metadata": {},
   "source": [
    "## Parameter estimation\n",
    "we will estimate the parameter values with SIR-derived ODE models in each country."
   ]
  },
  {
   "cell_type": "code",
   "execution_count": 11,
   "metadata": {
    "collapsed": false,
    "tags": []
   },
   "outputs": [
    {
     "name": "stdout",
     "output_type": "stream",
     "text": [
      "\n",
      "<SIR-F model: parameter estimation>"
     ]
    },
    {
     "name": "stdout",
     "output_type": "stream",
     "text": [
      "\n"
     ]
    },
    {
     "name": "stdout",
     "output_type": "stream",
     "text": [
      "Running optimization with 4 CPUs..."
     ]
    },
    {
     "name": "stdout",
     "output_type": "stream",
     "text": [
      "\n"
     ]
    },
    {
     "name": "stdout",
     "output_type": "stream",
     "text": [
      "\tBHR,  8th phase (15Jul2020 - 23Jul2020): finished  179 trials in 0 min 10 sec"
     ]
    },
    {
     "name": "stdout",
     "output_type": "stream",
     "text": [
      "\n"
     ]
    },
    {
     "name": "stdout",
     "output_type": "stream",
     "text": [
      "\tPOL,  6th phase (01Jul2020 - 13Jul2020): finished  390 trials in 0 min 20 sec"
     ]
    },
    {
     "name": "stdout",
     "output_type": "stream",
     "text": [
      "\n"
     ]
    },
    {
     "name": "stdout",
     "output_type": "stream",
     "text": [
      "\tAUT,  2nd phase (06Apr2020 - 13Apr2020): finished  388 trials in 0 min 20 sec"
     ]
    },
    {
     "name": "stdout",
     "output_type": "stream",
     "text": [
      "\n"
     ]
    },
    {
     "name": "stdout",
     "output_type": "stream",
     "text": [
      "\tDNK,  2nd phase (11Apr2020 - 19Apr2020): finished  384 trials in 0 min 20 sec"
     ]
    },
    {
     "name": "stdout",
     "output_type": "stream",
     "text": [
      "\n"
     ]
    },
    {
     "name": "stdout",
     "output_type": "stream",
     "text": [
      "\tBHR, 10th phase (05Aug2020 - 17Aug2020): finished  942 trials in 1 min  0 sec"
     ]
    },
    {
     "name": "stdout",
     "output_type": "stream",
     "text": [
      "\n"
     ]
    },
    {
     "name": "stdout",
     "output_type": "stream",
     "text": [
      "\tGIN,  4th phase (10Jun2020 - 18Jun2020): finished  874 trials in 1 min  0 sec"
     ]
    },
    {
     "name": "stdout",
     "output_type": "stream",
     "text": [
      "\n"
     ]
    },
    {
     "name": "stdout",
     "output_type": "stream",
     "text": [
      "\tAUT,  6th phase (29Jun2020 - 17Jul2020): finished  878 trials in 1 min  0 sec"
     ]
    },
    {
     "name": "stdout",
     "output_type": "stream",
     "text": [
      "\n"
     ]
    },
    {
     "name": "stdout",
     "output_type": "stream",
     "text": [
      "\tKWT,  4th phase (10Jun2020 - 21Jun2020): finished  830 trials in 1 min  0 sec"
     ]
    },
    {
     "name": "stdout",
     "output_type": "stream",
     "text": [
      "\n"
     ]
    },
    {
     "name": "stdout",
     "output_type": "stream",
     "text": [
      "\tGIN,  6th phase (04Jul2020 - 13Jul2020): finished  741 trials in 1 min  1 sec"
     ]
    },
    {
     "name": "stdout",
     "output_type": "stream",
     "text": [
      "\n"
     ]
    },
    {
     "name": "stdout",
     "output_type": "stream",
     "text": [
      "\tAUT,  9th phase (07Aug2020 - 17Aug2020): finished  202 trials in 0 min 15 sec"
     ]
    },
    {
     "name": "stdout",
     "output_type": "stream",
     "text": [
      "\n"
     ]
    },
    {
     "name": "stdout",
     "output_type": "stream",
     "text": [
      "\tCZE,  9th phase (02Aug2020 - 17Aug2020): finished  715 trials in 1 min  0 sec"
     ]
    },
    {
     "name": "stdout",
     "output_type": "stream",
     "text": [
      "\n"
     ]
    },
    {
     "name": "stdout",
     "output_type": "stream",
     "text": [
      "\tARE,  9th phase (26Jul2020 - 17Aug2020): finished  718 trials in 1 min  0 sec"
     ]
    },
    {
     "name": "stdout",
     "output_type": "stream",
     "text": [
      "\n"
     ]
    },
    {
     "name": "stdout",
     "output_type": "stream",
     "text": [
      "\tARE,  4th phase (04Jun2020 - 11Jun2020): finished  743 trials in 1 min  0 sec"
     ]
    },
    {
     "name": "stdout",
     "output_type": "stream",
     "text": [
      "\n"
     ]
    },
    {
     "name": "stdout",
     "output_type": "stream",
     "text": [
      "\tITA,  1st phase (24Mar2020 - 31Mar2020): finished  163 trials in 0 min 10 sec"
     ]
    },
    {
     "name": "stdout",
     "output_type": "stream",
     "text": [
      "\n"
     ]
    },
    {
     "name": "stdout",
     "output_type": "stream",
     "text": [
      "\tCAN,  6th phase (25May2020 - 06Jun2020): finished  149 trials in 0 min 10 sec"
     ]
    },
    {
     "name": "stdout",
     "output_type": "stream",
     "text": [
      "\n"
     ]
    },
    {
     "name": "stdout",
     "output_type": "stream",
     "text": [
      "\tKWT,  6th phase (01Jul2020 - 08Jul2020): finished  363 trials in 0 min 25 sec"
     ]
    },
    {
     "name": "stdout",
     "output_type": "stream",
     "text": [
      "\n"
     ]
    },
    {
     "name": "stdout",
     "output_type": "stream",
     "text": [
      "\tMDA,  3rd phase (10Jun2020 - 17Jun2020): finished  352 trials in 0 min 25 sec"
     ]
    },
    {
     "name": "stdout",
     "output_type": "stream",
     "text": [
      "\n"
     ]
    },
    {
     "name": "stdout",
     "output_type": "stream",
     "text": [
      "\tDNK,  1st phase (03Apr2020 - 10Apr2020): finished  790 trials in 1 min  0 sec"
     ]
    },
    {
     "name": "stdout",
     "output_type": "stream",
     "text": [
      "\n"
     ]
    },
    {
     "name": "stdout",
     "output_type": "stream",
     "text": [
      "\tKWT,  3rd phase (01Jun2020 - 09Jun2020): finished  214 trials in 0 min 15 sec"
     ]
    },
    {
     "name": "stdout",
     "output_type": "stream",
     "text": [
      "\n"
     ]
    },
    {
     "name": "stdout",
     "output_type": "stream",
     "text": [
      "\tMDA,  2nd phase (29May2020 - 09Jun2020): finished  750 trials in 1 min  0 sec"
     ]
    },
    {
     "name": "stdout",
     "output_type": "stream",
     "text": [
      "\n"
     ]
    },
    {
     "name": "stdout",
     "output_type": "stream",
     "text": [
      "\tITA,  4th phase (22Apr2020 - 01May2020): finished  156 trials in 0 min 15 sec"
     ]
    },
    {
     "name": "stdout",
     "output_type": "stream",
     "text": [
      "\n"
     ]
    },
    {
     "name": "stdout",
     "output_type": "stream",
     "text": [
      "\tBHR,  5th phase (21Jun2020 - 28Jun2020): finished  710 trials in 1 min  0 sec"
     ]
    },
    {
     "name": "stdout",
     "output_type": "stream",
     "text": [
      "\n"
     ]
    },
    {
     "name": "stdout",
     "output_type": "stream",
     "text": [
      "\tDNK,  3rd phase (20Apr2020 - 01May2020): finished  171 trials in 0 min 10 sec"
     ]
    },
    {
     "name": "stdout",
     "output_type": "stream",
     "text": [
      "\n"
     ]
    },
    {
     "name": "stdout",
     "output_type": "stream",
     "text": [
      "\tKWT,  5th phase (22Jun2020 - 30Jun2020): finished  371 trials in 0 min 25 sec"
     ]
    },
    {
     "name": "stdout",
     "output_type": "stream",
     "text": [
      "\n"
     ]
    },
    {
     "name": "stdout",
     "output_type": "stream",
     "text": [
      "\tMDA,  4th phase (18Jun2020 - 26Jun2020): finished  664 trials in 0 min 50 sec"
     ]
    },
    {
     "name": "stdout",
     "output_type": "stream",
     "text": [
      "\n"
     ]
    },
    {
     "name": "stdout",
     "output_type": "stream",
     "text": [
      "\tKWT,  7th phase (09Jul2020 - 17Jul2020): finished  835 trials in 1 min  1 sec"
     ]
    },
    {
     "name": "stdout",
     "output_type": "stream",
     "text": [
      "\n"
     ]
    },
    {
     "name": "stdout",
     "output_type": "stream",
     "text": [
      "\tKWT,  9th phase (27Jul2020 - 05Aug2020): finished  492 trials in 0 min 30 sec"
     ]
    },
    {
     "name": "stdout",
     "output_type": "stream",
     "text": [
      "\n"
     ]
    },
    {
     "name": "stdout",
     "output_type": "stream",
     "text": [
      "\tSEN,  8th phase (20Jul2020 - 28Jul2020): finished  408 trials in 0 min 25 sec"
     ]
    },
    {
     "name": "stdout",
     "output_type": "stream",
     "text": [
      "\n"
     ]
    },
    {
     "name": "stdout",
     "output_type": "stream",
     "text": [
      "\tIRN,  1st phase (29Mar2020 - 12Apr2020): finished  864 trials in 1 min  0 sec"
     ]
    },
    {
     "name": "stdout",
     "output_type": "stream",
     "text": [
      "\n"
     ]
    },
    {
     "name": "stdout",
     "output_type": "stream",
     "text": [
      "\tDNK,  9th phase (06Aug2020 - 17Aug2020): finished  864 trials in 1 min  0 sec"
     ]
    },
    {
     "name": "stdout",
     "output_type": "stream",
     "text": [
      "\n"
     ]
    },
    {
     "name": "stdout",
     "output_type": "stream",
     "text": [
      "\tDNK,  4th phase (02May2020 - 09May2020): finished  863 trials in 1 min  0 sec"
     ]
    },
    {
     "name": "stdout",
     "output_type": "stream",
     "text": [
      "\n"
     ]
    },
    {
     "name": "stdout",
     "output_type": "stream",
     "text": [
      "\tSEN,  2nd phase (15May2020 - 29May2020): finished  878 trials in 1 min  0 sec"
     ]
    },
    {
     "name": "stdout",
     "output_type": "stream",
     "text": [
      "\n"
     ]
    },
    {
     "name": "stdout",
     "output_type": "stream",
     "text": [
      "\tARE,  2nd phase (13May2020 - 24May2020): finished  886 trials in 1 min  0 sec"
     ]
    },
    {
     "name": "stdout",
     "output_type": "stream",
     "text": [
      "\n"
     ]
    },
    {
     "name": "stdout",
     "output_type": "stream",
     "text": [
      "\tSEN,  7th phase (11Jul2020 - 19Jul2020): finished  494 trials in 0 min 30 sec"
     ]
    },
    {
     "name": "stdout",
     "output_type": "stream",
     "text": [
      "\n"
     ]
    },
    {
     "name": "stdout",
     "output_type": "stream",
     "text": [
      "\tIRN,  3rd phase (05May2020 - 21May2020): finished  785 trials in 0 min 50 sec"
     ]
    },
    {
     "name": "stdout",
     "output_type": "stream",
     "text": [
      "\n"
     ]
    },
    {
     "name": "stdout",
     "output_type": "stream",
     "text": [
      "\tAUT,  7th phase (18Jul2020 - 27Jul2020): finished  212 trials in 0 min 10 sec"
     ]
    },
    {
     "name": "stdout",
     "output_type": "stream",
     "text": [
      "\n"
     ]
    },
    {
     "name": "stdout",
     "output_type": "stream",
     "text": [
      "\tKWT,  2nd phase (24May2020 - 31May2020): finished  962 trials in 1 min  0 sec"
     ]
    },
    {
     "name": "stdout",
     "output_type": "stream",
     "text": [
      "\n"
     ]
    },
    {
     "name": "stdout",
     "output_type": "stream",
     "text": [
      "\tCZE,  1st phase (07Apr2020 - 16Apr2020): finished  968 trials in 1 min  0 sec"
     ]
    },
    {
     "name": "stdout",
     "output_type": "stream",
     "text": [
      "\n"
     ]
    },
    {
     "name": "stdout",
     "output_type": "stream",
     "text": [
      "\tCZE,  5th phase (10Jun2020 - 28Jun2020): finished  981 trials in 1 min  0 sec"
     ]
    },
    {
     "name": "stdout",
     "output_type": "stream",
     "text": [
      "\n"
     ]
    },
    {
     "name": "stdout",
     "output_type": "stream",
     "text": [
      "\tSEN,  3rd phase (30May2020 - 09Jun2020): finished  982 trials in 1 min  0 sec"
     ]
    },
    {
     "name": "stdout",
     "output_type": "stream",
     "text": [
      "\n"
     ]
    },
    {
     "name": "stdout",
     "output_type": "stream",
     "text": [
      "\tPRT,  2nd phase (18May2020 - 28May2020): finished  964 trials in 1 min  0 sec"
     ]
    },
    {
     "name": "stdout",
     "output_type": "stream",
     "text": [
      "\n"
     ]
    },
    {
     "name": "stdout",
     "output_type": "stream",
     "text": [
      "\tSEN,  6th phase (01Jul2020 - 10Jul2020): finished  937 trials in 1 min  0 sec"
     ]
    },
    {
     "name": "stdout",
     "output_type": "stream",
     "text": [
      "\n"
     ]
    },
    {
     "name": "stdout",
     "output_type": "stream",
     "text": [
      "\tBHR,  6th phase (29Jun2020 - 06Jul2020): finished  889 trials in 1 min  0 sec"
     ]
    },
    {
     "name": "stdout",
     "output_type": "stream",
     "text": [
      "\n"
     ]
    },
    {
     "name": "stdout",
     "output_type": "stream",
     "text": [
      "\tUKR,  8th phase (26Jul2020 - 08Aug2020): finished  324 trials in 0 min 15 sec"
     ]
    },
    {
     "name": "stdout",
     "output_type": "stream",
     "text": [
      "\n"
     ]
    },
    {
     "name": "stdout",
     "output_type": "stream",
     "text": [
      "\tARE,  3rd phase (25May2020 - 03Jun2020): finished  965 trials in 1 min  0 sec"
     ]
    },
    {
     "name": "stdout",
     "output_type": "stream",
     "text": [
      "\n"
     ]
    },
    {
     "name": "stdout",
     "output_type": "stream",
     "text": [
      "\tCZE,  8th phase (23Jul2020 - 01Aug2020): finished  984 trials in 1 min  0 sec"
     ]
    },
    {
     "name": "stdout",
     "output_type": "stream",
     "text": [
      "\n"
     ]
    },
    {
     "name": "stdout",
     "output_type": "stream",
     "text": [
      "\tSEN,  4th phase (10Jun2020 - 19Jun2020): finished 1038 trials in 1 min  0 sec"
     ]
    },
    {
     "name": "stdout",
     "output_type": "stream",
     "text": [
      "\n"
     ]
    },
    {
     "name": "stdout",
     "output_type": "stream",
     "text": [
      "\tPRT,  8th phase (18Jul2020 - 31Jul2020): finished  687 trials in 0 min 35 sec"
     ]
    },
    {
     "name": "stdout",
     "output_type": "stream",
     "text": [
      "\n"
     ]
    },
    {
     "name": "stdout",
     "output_type": "stream",
     "text": [
      "\tPRT,  5th phase (17Jun2020 - 25Jun2020): finished  214 trials in 0 min 10 sec"
     ]
    },
    {
     "name": "stdout",
     "output_type": "stream",
     "text": [
      "\n"
     ]
    },
    {
     "name": "stdout",
     "output_type": "stream",
     "text": [
      "\tUKR,  6th phase (08Jul2020 - 16Jul2020): finished  333 trials in 0 min 15 sec"
     ]
    },
    {
     "name": "stdout",
     "output_type": "stream",
     "text": [
      "\n"
     ]
    },
    {
     "name": "stdout",
     "output_type": "stream",
     "text": [
      "\tCZE,  3rd phase (29Apr2020 - 18May2020): finished 1083 trials in 1 min  0 sec"
     ]
    },
    {
     "name": "stdout",
     "output_type": "stream",
     "text": [
      "\n"
     ]
    },
    {
     "name": "stdout",
     "output_type": "stream",
     "text": [
      "\tITA,  9th phase (11Jul2020 - 17Aug2020): finished 1059 trials in 1 min  0 sec"
     ]
    },
    {
     "name": "stdout",
     "output_type": "stream",
     "text": [
      "\n"
     ]
    },
    {
     "name": "stdout",
     "output_type": "stream",
     "text": [
      "\tPRT,  1st phase (05May2020 - 17May2020): finished 1083 trials in 1 min  0 sec"
     ]
    },
    {
     "name": "stdout",
     "output_type": "stream",
     "text": [
      "\n"
     ]
    },
    {
     "name": "stdout",
     "output_type": "stream",
     "text": [
      "\tITA,  3rd phase (13Apr2020 - 21Apr2020): finished  203 trials in 0 min 10 sec"
     ]
    },
    {
     "name": "stdout",
     "output_type": "stream",
     "text": [
      "\n"
     ]
    },
    {
     "name": "stdout",
     "output_type": "stream",
     "text": [
      "\tARE,  8th phase (11Jul2020 - 25Jul2020): finished 1020 trials in 1 min  0 sec"
     ]
    },
    {
     "name": "stdout",
     "output_type": "stream",
     "text": [
      "\n"
     ]
    },
    {
     "name": "stdout",
     "output_type": "stream",
     "text": [
      "\tITA,  7th phase (20May2020 - 05Jun2020): finished  370 trials in 0 min 20 sec"
     ]
    },
    {
     "name": "stdout",
     "output_type": "stream",
     "text": [
      "\n"
     ]
    },
    {
     "name": "stdout",
     "output_type": "stream",
     "text": [
      "\tBHR,  1st phase (06May2020 - 25May2020): finished  994 trials in 1 min  0 sec"
     ]
    },
    {
     "name": "stdout",
     "output_type": "stream",
     "text": [
      "\n"
     ]
    },
    {
     "name": "stdout",
     "output_type": "stream",
     "text": [
      "\tCZE,  6th phase (29Jun2020 - 13Jul2020): finished  992 trials in 1 min  0 sec"
     ]
    },
    {
     "name": "stdout",
     "output_type": "stream",
     "text": [
      "\n"
     ]
    },
    {
     "name": "stdout",
     "output_type": "stream",
     "text": [
      "\tPOL,  8th phase (25Jul2020 - 02Aug2020): finished  457 trials in 0 min 25 sec"
     ]
    },
    {
     "name": "stdout",
     "output_type": "stream",
     "text": [
      "\n"
     ]
    },
    {
     "name": "stdout",
     "output_type": "stream",
     "text": [
      "\tGIN,  5th phase (19Jun2020 - 03Jul2020): finished  966 trials in 1 min  0 sec"
     ]
    },
    {
     "name": "stdout",
     "output_type": "stream",
     "text": [
      "\n"
     ]
    },
    {
     "name": "stdout",
     "output_type": "stream",
     "text": [
      "\tCAN,  3rd phase (24Apr2020 - 06May2020): finished  938 trials in 1 min  0 sec"
     ]
    },
    {
     "name": "stdout",
     "output_type": "stream",
     "text": [
      "\n"
     ]
    },
    {
     "name": "stdout",
     "output_type": "stream",
     "text": [
      "\tPOL,  1st phase (23Apr2020 - 08May2020): finished  939 trials in 1 min  0 sec"
     ]
    },
    {
     "name": "stdout",
     "output_type": "stream",
     "text": [
      "\n"
     ]
    },
    {
     "name": "stdout",
     "output_type": "stream",
     "text": [
      "\tKWT,  1st phase (11May2020 - 23May2020): finished  975 trials in 1 min  0 sec"
     ]
    },
    {
     "name": "stdout",
     "output_type": "stream",
     "text": [
      "\n"
     ]
    },
    {
     "name": "stdout",
     "output_type": "stream",
     "text": [
      "\tUKR,  4th phase (20Jun2020 - 27Jun2020): finished  256 trials in 0 min 15 sec"
     ]
    },
    {
     "name": "stdout",
     "output_type": "stream",
     "text": [
      "\n"
     ]
    },
    {
     "name": "stdout",
     "output_type": "stream",
     "text": [
      "\tUKR,  5th phase (28Jun2020 - 07Jul2020): finished  362 trials in 0 min 25 sec"
     ]
    },
    {
     "name": "stdout",
     "output_type": "stream",
     "text": [
      "\n"
     ]
    },
    {
     "name": "stdout",
     "output_type": "stream",
     "text": [
      "\tMDA,  1st phase (12May2020 - 28May2020): finished  889 trials in 1 min  0 sec"
     ]
    },
    {
     "name": "stdout",
     "output_type": "stream",
     "text": [
      "\n"
     ]
    },
    {
     "name": "stdout",
     "output_type": "stream",
     "text": [
      "\tBHR,  9th phase (24Jul2020 - 04Aug2020): finished  249 trials in 0 min 15 sec"
     ]
    },
    {
     "name": "stdout",
     "output_type": "stream",
     "text": [
      "\n"
     ]
    },
    {
     "name": "stdout",
     "output_type": "stream",
     "text": [
      "\tGIN,  1st phase (03May2020 - 11May2020): finished  880 trials in 1 min  0 sec"
     ]
    },
    {
     "name": "stdout",
     "output_type": "stream",
     "text": [
      "\n"
     ]
    },
    {
     "name": "stdout",
     "output_type": "stream",
     "text": [
      "\tDNK,  5th phase (10May2020 - 22May2020): finished  168 trials in 0 min 10 sec"
     ]
    },
    {
     "name": "stdout",
     "output_type": "stream",
     "text": [
      "\n"
     ]
    },
    {
     "name": "stdout",
     "output_type": "stream",
     "text": [
      "\tBHR,  4th phase (12Jun2020 - 20Jun2020): finished  172 trials in 0 min 10 sec"
     ]
    },
    {
     "name": "stdout",
     "output_type": "stream",
     "text": [
      "\n"
     ]
    },
    {
     "name": "stdout",
     "output_type": "stream",
     "text": [
      "\tARE,  6th phase (23Jun2020 - 02Jul2020): finished  877 trials in 1 min  0 sec"
     ]
    },
    {
     "name": "stdout",
     "output_type": "stream",
     "text": [
      "\n"
     ]
    },
    {
     "name": "stdout",
     "output_type": "stream",
     "text": [
      "\tPOL,  3rd phase (21May2020 - 04Jun2020): finished  740 trials in 0 min 50 sec"
     ]
    },
    {
     "name": "stdout",
     "output_type": "stream",
     "text": [
      "\n"
     ]
    },
    {
     "name": "stdout",
     "output_type": "stream",
     "text": [
      "\tSEN, 10th phase (09Aug2020 - 17Aug2020): finished  901 trials in 1 min  0 sec"
     ]
    },
    {
     "name": "stdout",
     "output_type": "stream",
     "text": [
      "\n"
     ]
    },
    {
     "name": "stdout",
     "output_type": "stream",
     "text": [
      "\tAUT,  5th phase (14May2020 - 28Jun2020): finished  272 trials in 0 min 15 sec"
     ]
    },
    {
     "name": "stdout",
     "output_type": "stream",
     "text": [
      "\n"
     ]
    },
    {
     "name": "stdout",
     "output_type": "stream",
     "text": [
      "\tCZE,  2nd phase (17Apr2020 - 28Apr2020): finished  897 trials in 1 min  0 sec"
     ]
    },
    {
     "name": "stdout",
     "output_type": "stream",
     "text": [
      "\n"
     ]
    },
    {
     "name": "stdout",
     "output_type": "stream",
     "text": [
      "\tIRN,  4th phase (22May2020 - 02Jun2020): finished  927 trials in 1 min  0 sec"
     ]
    },
    {
     "name": "stdout",
     "output_type": "stream",
     "text": [
      "\n"
     ]
    },
    {
     "name": "stdout",
     "output_type": "stream",
     "text": [
      "\tKWT,  8th phase (18Jul2020 - 26Jul2020): finished  184 trials in 0 min 10 sec"
     ]
    },
    {
     "name": "stdout",
     "output_type": "stream",
     "text": [
      "\n"
     ]
    },
    {
     "name": "stdout",
     "output_type": "stream",
     "text": [
      "\tUKR,  1st phase (07May2020 - 22May2020): finished  978 trials in 1 min  0 sec"
     ]
    },
    {
     "name": "stdout",
     "output_type": "stream",
     "text": [
      "\n"
     ]
    },
    {
     "name": "stdout",
     "output_type": "stream",
     "text": [
      "\tITA,  8th phase (06Jun2020 - 10Jul2020): finished  462 trials in 0 min 25 sec"
     ]
    },
    {
     "name": "stdout",
     "output_type": "stream",
     "text": [
      "\n"
     ]
    },
    {
     "name": "stdout",
     "output_type": "stream",
     "text": [
      "\tPRT,  3rd phase (29May2020 - 06Jun2020): finished  486 trials in 0 min 25 sec"
     ]
    },
    {
     "name": "stdout",
     "output_type": "stream",
     "text": [
      "\n"
     ]
    },
    {
     "name": "stdout",
     "output_type": "stream",
     "text": [
      "\tDNK,  6th phase (23May2020 - 11Jun2020): finished  210 trials in 0 min 10 sec"
     ]
    },
    {
     "name": "stdout",
     "output_type": "stream",
     "text": [
      "\n"
     ]
    },
    {
     "name": "stdout",
     "output_type": "stream",
     "text": [
      "\tSEN,  5th phase (20Jun2020 - 30Jun2020): finished  490 trials in 0 min 25 sec"
     ]
    },
    {
     "name": "stdout",
     "output_type": "stream",
     "text": [
      "\n"
     ]
    },
    {
     "name": "stdout",
     "output_type": "stream",
     "text": [
      "\tSEN,  9th phase (29Jul2020 - 08Aug2020): finished  408 trials in 0 min 20 sec"
     ]
    },
    {
     "name": "stdout",
     "output_type": "stream",
     "text": [
      "\n"
     ]
    },
    {
     "name": "stdout",
     "output_type": "stream",
     "text": [
      "\tCAN,  9th phase (25Jul2020 - 17Aug2020): finished 1024 trials in 1 min  0 sec"
     ]
    },
    {
     "name": "stdout",
     "output_type": "stream",
     "text": [
      "\n"
     ]
    },
    {
     "name": "stdout",
     "output_type": "stream",
     "text": [
      "\tAUT,  1st phase (29Mar2020 - 05Apr2020): finished  209 trials in 0 min 10 sec"
     ]
    },
    {
     "name": "stdout",
     "output_type": "stream",
     "text": [
      "\n"
     ]
    },
    {
     "name": "stdout",
     "output_type": "stream",
     "text": [
      "\tIRN,  9th phase (22Jul2020 - 02Aug2020): finished   70 trials in 0 min  5 sec"
     ]
    },
    {
     "name": "stdout",
     "output_type": "stream",
     "text": [
      "\n"
     ]
    },
    {
     "name": "stdout",
     "output_type": "stream",
     "text": [
      "\tIRN,  8th phase (10Jul2020 - 21Jul2020): finished   89 trials in 0 min  5 sec"
     ]
    },
    {
     "name": "stdout",
     "output_type": "stream",
     "text": [
      "\n"
     ]
    },
    {
     "name": "stdout",
     "output_type": "stream",
     "text": [
      "\tSEN,  1st phase (30Apr2020 - 14May2020): finished 1005 trials in 1 min  0 sec"
     ]
    },
    {
     "name": "stdout",
     "output_type": "stream",
     "text": [
      "\n"
     ]
    },
    {
     "name": "stdout",
     "output_type": "stream",
     "text": [
      "\tPRT,  4th phase (07Jun2020 - 16Jun2020): finished  761 trials in 0 min 45 sec"
     ]
    },
    {
     "name": "stdout",
     "output_type": "stream",
     "text": [
      "\n"
     ]
    },
    {
     "name": "stdout",
     "output_type": "stream",
     "text": [
      "\tMDA,  7th phase (21Jul2020 - 29Jul2020): finished  232 trials in 0 min 15 sec"
     ]
    },
    {
     "name": "stdout",
     "output_type": "stream",
     "text": [
      "\n"
     ]
    },
    {
     "name": "stdout",
     "output_type": "stream",
     "text": [
      "\tCZE,  4th phase (19May2020 - 09Jun2020): finished  664 trials in 0 min 45 sec"
     ]
    },
    {
     "name": "stdout",
     "output_type": "stream",
     "text": [
      "\n"
     ]
    },
    {
     "name": "stdout",
     "output_type": "stream",
     "text": [
      "\tIRN,  5th phase (03Jun2020 - 15Jun2020): finished  632 trials in 0 min 40 sec"
     ]
    },
    {
     "name": "stdout",
     "output_type": "stream",
     "text": [
      "\n"
     ]
    },
    {
     "name": "stdout",
     "output_type": "stream",
     "text": [
      "\tCAN,  7th phase (07Jun2020 - 29Jun2020): finished  340 trials in 0 min 20 sec"
     ]
    },
    {
     "name": "stdout",
     "output_type": "stream",
     "text": [
      "\n"
     ]
    },
    {
     "name": "stdout",
     "output_type": "stream",
     "text": [
      "\tARE,  5th phase (12Jun2020 - 22Jun2020): finished  963 trials in 1 min  0 sec"
     ]
    },
    {
     "name": "stdout",
     "output_type": "stream",
     "text": [
      "\n"
     ]
    },
    {
     "name": "stdout",
     "output_type": "stream",
     "text": [
      "\tPRT,  9th phase (01Aug2020 - 17Aug2020): finished  792 trials in 0 min 45 sec"
     ]
    },
    {
     "name": "stdout",
     "output_type": "stream",
     "text": [
      "\n"
     ]
    },
    {
     "name": "stdout",
     "output_type": "stream",
     "text": [
      "\tCZE,  7th phase (14Jul2020 - 22Jul2020): finished  984 trials in 0 min 55 sec"
     ]
    },
    {
     "name": "stdout",
     "output_type": "stream",
     "text": [
      "\n"
     ]
    },
    {
     "name": "stdout",
     "output_type": "stream",
     "text": [
      "\tCAN,  2nd phase (16Apr2020 - 23Apr2020): finished 1057 trials in 1 min  0 sec"
     ]
    },
    {
     "name": "stdout",
     "output_type": "stream",
     "text": [
      "\n"
     ]
    },
    {
     "name": "stdout",
     "output_type": "stream",
     "text": [
      "\tUKR,  7th phase (17Jul2020 - 25Jul2020): finished  746 trials in 0 min 40 sec"
     ]
    },
    {
     "name": "stdout",
     "output_type": "stream",
     "text": [
      "\n"
     ]
    },
    {
     "name": "stdout",
     "output_type": "stream",
     "text": [
      "\tAUT,  3rd phase (14Apr2020 - 23Apr2020): finished  290 trials in 0 min 15 sec"
     ]
    },
    {
     "name": "stdout",
     "output_type": "stream",
     "text": [
      "\n"
     ]
    },
    {
     "name": "stdout",
     "output_type": "stream",
     "text": [
      "\tCAN,  4th phase (07May2020 - 15May2020): finished  201 trials in 0 min 10 sec"
     ]
    },
    {
     "name": "stdout",
     "output_type": "stream",
     "text": [
      "\n"
     ]
    },
    {
     "name": "stdout",
     "output_type": "stream",
     "text": [
      "\tPRT,  7th phase (08Jul2020 - 17Jul2020): finished  209 trials in 0 min 10 sec"
     ]
    },
    {
     "name": "stdout",
     "output_type": "stream",
     "text": [
      "\n"
     ]
    },
    {
     "name": "stdout",
     "output_type": "stream",
     "text": [
      "\tARE,  1st phase (28Apr2020 - 12May2020): finished 1035 trials in 1 min  0 sec"
     ]
    },
    {
     "name": "stdout",
     "output_type": "stream",
     "text": [
      "\n"
     ]
    },
    {
     "name": "stdout",
     "output_type": "stream",
     "text": [
      "\tMDA,  5th phase (27Jun2020 - 09Jul2020): finished 1002 trials in 1 min  0 sec"
     ]
    },
    {
     "name": "stdout",
     "output_type": "stream",
     "text": [
      "\n"
     ]
    },
    {
     "name": "stdout",
     "output_type": "stream",
     "text": [
      "\tIRN,  2nd phase (13Apr2020 - 04May2020): finished  611 trials in 0 min 35 sec"
     ]
    },
    {
     "name": "stdout",
     "output_type": "stream",
     "text": [
      "\n"
     ]
    },
    {
     "name": "stdout",
     "output_type": "stream",
     "text": [
      "\tDNK,  7th phase (12Jun2020 - 12Jul2020): finished  962 trials in 1 min  0 sec"
     ]
    },
    {
     "name": "stdout",
     "output_type": "stream",
     "text": [
      "\n"
     ]
    },
    {
     "name": "stdout",
     "output_type": "stream",
     "text": [
      "\tMDA,  8th phase (30Jul2020 - 06Aug2020): finished  472 trials in 0 min 25 sec"
     ]
    },
    {
     "name": "stdout",
     "output_type": "stream",
     "text": [
      "\n"
     ]
    },
    {
     "name": "stdout",
     "output_type": "stream",
     "text": [
      "\tCAN,  1st phase (08Apr2020 - 15Apr2020): finished  997 trials in 1 min  0 sec"
     ]
    },
    {
     "name": "stdout",
     "output_type": "stream",
     "text": [
      "\n"
     ]
    },
    {
     "name": "stdout",
     "output_type": "stream",
     "text": [
      "\tMDA,  6th phase (10Jul2020 - 20Jul2020): finished  485 trials in 0 min 25 sec"
     ]
    },
    {
     "name": "stdout",
     "output_type": "stream",
     "text": [
      "\n"
     ]
    },
    {
     "name": "stdout",
     "output_type": "stream",
     "text": [
      "\tBHR,  2nd phase (26May2020 - 03Jun2020): finished 1002 trials in 1 min  0 sec"
     ]
    },
    {
     "name": "stdout",
     "output_type": "stream",
     "text": [
      "\n"
     ]
    },
    {
     "name": "stdout",
     "output_type": "stream",
     "text": [
      "\tIRN,  7th phase (28Jun2020 - 09Jul2020): finished  215 trials in 0 min 10 sec"
     ]
    },
    {
     "name": "stdout",
     "output_type": "stream",
     "text": [
      "\n"
     ]
    },
    {
     "name": "stdout",
     "output_type": "stream",
     "text": [
      "\tBHR,  7th phase (07Jul2020 - 14Jul2020): finished 1037 trials in 1 min  0 sec"
     ]
    },
    {
     "name": "stdout",
     "output_type": "stream",
     "text": [
      "\n"
     ]
    },
    {
     "name": "stdout",
     "output_type": "stream",
     "text": [
      "\tGIN,  8th phase (25Jul2020 - 05Aug2020): finished 1048 trials in 1 min  0 sec"
     ]
    },
    {
     "name": "stdout",
     "output_type": "stream",
     "text": [
      "\n"
     ]
    },
    {
     "name": "stdout",
     "output_type": "stream",
     "text": [
      "\tPOL,  7th phase (14Jul2020 - 24Jul2020): finished  494 trials in 0 min 25 sec"
     ]
    },
    {
     "name": "stdout",
     "output_type": "stream",
     "text": [
      "\n"
     ]
    },
    {
     "name": "stdout",
     "output_type": "stream",
     "text": [
      "\tITA,  2nd phase (01Apr2020 - 12Apr2020): finished  218 trials in 0 min 10 sec"
     ]
    },
    {
     "name": "stdout",
     "output_type": "stream",
     "text": [
      "\n"
     ]
    },
    {
     "name": "stdout",
     "output_type": "stream",
     "text": [
      "\tPOL,  4th phase (05Jun2020 - 16Jun2020): finished  329 trials in 0 min 15 sec"
     ]
    },
    {
     "name": "stdout",
     "output_type": "stream",
     "text": [
      "\n"
     ]
    },
    {
     "name": "stdout",
     "output_type": "stream",
     "text": [
      "\tIRN,  6th phase (16Jun2020 - 27Jun2020): finished 1051 trials in 1 min  0 sec"
     ]
    },
    {
     "name": "stdout",
     "output_type": "stream",
     "text": [
      "\n"
     ]
    },
    {
     "name": "stdout",
     "output_type": "stream",
     "text": [
      "\tITA,  6th phase (10May2020 - 19May2020): finished  433 trials in 0 min 20 sec"
     ]
    },
    {
     "name": "stdout",
     "output_type": "stream",
     "text": [
      "\n"
     ]
    },
    {
     "name": "stdout",
     "output_type": "stream",
     "text": [
      "\tGIN,  3rd phase (22May2020 - 09Jun2020): finished 1080 trials in 1 min  0 sec"
     ]
    },
    {
     "name": "stdout",
     "output_type": "stream",
     "text": [
      "\n"
     ]
    },
    {
     "name": "stdout",
     "output_type": "stream",
     "text": [
      "\tAUT,  8th phase (28Jul2020 - 06Aug2020): finished 1103 trials in 1 min  0 sec"
     ]
    },
    {
     "name": "stdout",
     "output_type": "stream",
     "text": [
      "\n"
     ]
    },
    {
     "name": "stdout",
     "output_type": "stream",
     "text": [
      "\tUKR,  3rd phase (09Jun2020 - 19Jun2020): finished 1091 trials in 1 min  0 sec"
     ]
    },
    {
     "name": "stdout",
     "output_type": "stream",
     "text": [
      "\n"
     ]
    },
    {
     "name": "stdout",
     "output_type": "stream",
     "text": [
      "\tAUT,  4th phase (24Apr2020 - 13May2020): finished  729 trials in 0 min 35 sec"
     ]
    },
    {
     "name": "stdout",
     "output_type": "stream",
     "text": [
      "\n"
     ]
    },
    {
     "name": "stdout",
     "output_type": "stream",
     "text": [
      "\tGIN,  2nd phase (12May2020 - 21May2020): finished 1159 trials in 1 min  0 sec"
     ]
    },
    {
     "name": "stdout",
     "output_type": "stream",
     "text": [
      "\n"
     ]
    },
    {
     "name": "stdout",
     "output_type": "stream",
     "text": [
      "\tIRN, 10th phase (03Aug2020 - 17Aug2020): finished  470 trials in 0 min 20 sec"
     ]
    },
    {
     "name": "stdout",
     "output_type": "stream",
     "text": [
      "\n"
     ]
    },
    {
     "name": "stdout",
     "output_type": "stream",
     "text": [
      "\tDNK,  8th phase (13Jul2020 - 05Aug2020): finished 1211 trials in 1 min  0 sec"
     ]
    },
    {
     "name": "stdout",
     "output_type": "stream",
     "text": [
      "\n"
     ]
    },
    {
     "name": "stdout",
     "output_type": "stream",
     "text": [
      "\tCAN,  8th phase (30Jun2020 - 24Jul2020): finished 1257 trials in 1 min  0 sec"
     ]
    },
    {
     "name": "stdout",
     "output_type": "stream",
     "text": [
      "\n"
     ]
    },
    {
     "name": "stdout",
     "output_type": "stream",
     "text": [
      "\tCAN,  5th phase (16May2020 - 24May2020): finished  411 trials in 0 min 15 sec"
     ]
    },
    {
     "name": "stdout",
     "output_type": "stream",
     "text": [
      "\n"
     ]
    },
    {
     "name": "stdout",
     "output_type": "stream",
     "text": [
      "\tPOL,  5th phase (17Jun2020 - 30Jun2020): finished  404 trials in 0 min 15 sec"
     ]
    },
    {
     "name": "stdout",
     "output_type": "stream",
     "text": [
      "\n"
     ]
    },
    {
     "name": "stdout",
     "output_type": "stream",
     "text": [
      "\tUKR,  2nd phase (23May2020 - 08Jun2020): finished 1248 trials in 0 min 55 sec"
     ]
    },
    {
     "name": "stdout",
     "output_type": "stream",
     "text": [
      "\n"
     ]
    },
    {
     "name": "stdout",
     "output_type": "stream",
     "text": [
      "\tPRT,  6th phase (26Jun2020 - 07Jul2020): finished  258 trials in 0 min 10 sec"
     ]
    },
    {
     "name": "stdout",
     "output_type": "stream",
     "text": [
      "\n"
     ]
    },
    {
     "name": "stdout",
     "output_type": "stream",
     "text": [
      "\tPOL,  2nd phase (09May2020 - 20May2020): finished 1300 trials in 1 min  0 sec"
     ]
    },
    {
     "name": "stdout",
     "output_type": "stream",
     "text": [
      "\n"
     ]
    },
    {
     "name": "stdout",
     "output_type": "stream",
     "text": [
      "\tARE,  7th phase (03Jul2020 - 10Jul2020): finished 1334 trials in 1 min  0 sec"
     ]
    },
    {
     "name": "stdout",
     "output_type": "stream",
     "text": [
      "\n"
     ]
    },
    {
     "name": "stdout",
     "output_type": "stream",
     "text": [
      "Completed optimization. Total: 24 min  9 sec"
     ]
    },
    {
     "name": "stdout",
     "output_type": "stream",
     "text": [
      "\n"
     ]
    }
   ],
   "source": [
    "# Parameter estimation with SIR-F model\n",
    "analyser.estimate(cs.SIRF)"
   ]
  },
  {
   "cell_type": "code",
   "execution_count": 12,
   "metadata": {
    "collapsed": false
   },
   "outputs": [
    {
     "data": {
      "text/html": [
       "<div>\n",
       "<style scoped>\n",
       "    .dataframe tbody tr th:only-of-type {\n",
       "        vertical-align: middle;\n",
       "    }\n",
       "\n",
       "    .dataframe tbody tr th {\n",
       "        vertical-align: top;\n",
       "    }\n",
       "\n",
       "    .dataframe thead th {\n",
       "        text-align: right;\n",
       "    }\n",
       "</style>\n",
       "<table border=\"1\" class=\"dataframe\">\n",
       "  <thead>\n",
       "    <tr style=\"text-align: right;\">\n",
       "      <th></th>\n",
       "      <th></th>\n",
       "      <th>Type</th>\n",
       "      <th>Start</th>\n",
       "      <th>End</th>\n",
       "      <th>Population</th>\n",
       "      <th>ODE</th>\n",
       "      <th>Rt</th>\n",
       "      <th>theta</th>\n",
       "      <th>kappa</th>\n",
       "      <th>rho</th>\n",
       "      <th>sigma</th>\n",
       "      <th>tau</th>\n",
       "      <th>1/alpha2 [day]</th>\n",
       "      <th>alpha1 [-]</th>\n",
       "      <th>1/beta [day]</th>\n",
       "      <th>1/gamma [day]</th>\n",
       "      <th>RMSLE</th>\n",
       "      <th>Trials</th>\n",
       "      <th>Runtime</th>\n",
       "    </tr>\n",
       "    <tr>\n",
       "      <th>Country</th>\n",
       "      <th>Phase</th>\n",
       "      <th></th>\n",
       "      <th></th>\n",
       "      <th></th>\n",
       "      <th></th>\n",
       "      <th></th>\n",
       "      <th></th>\n",
       "      <th></th>\n",
       "      <th></th>\n",
       "      <th></th>\n",
       "      <th></th>\n",
       "      <th></th>\n",
       "      <th></th>\n",
       "      <th></th>\n",
       "      <th></th>\n",
       "      <th></th>\n",
       "      <th></th>\n",
       "      <th></th>\n",
       "      <th></th>\n",
       "    </tr>\n",
       "  </thead>\n",
       "  <tbody>\n",
       "    <tr>\n",
       "      <th rowspan=\"10\" valign=\"top\">Iran</th>\n",
       "      <th>1st</th>\n",
       "      <td>Past</td>\n",
       "      <td>29Mar2020</td>\n",
       "      <td>12Apr2020</td>\n",
       "      <td>81800269</td>\n",
       "      <td>SIR-F</td>\n",
       "      <td>1.23</td>\n",
       "      <td>0.0546607</td>\n",
       "      <td>0.000116602</td>\n",
       "      <td>0.0214228</td>\n",
       "      <td>0.016338</td>\n",
       "      <td>360</td>\n",
       "      <td>2144</td>\n",
       "      <td>0.055</td>\n",
       "      <td>11</td>\n",
       "      <td>15</td>\n",
       "      <td>0.175598</td>\n",
       "      <td>864</td>\n",
       "      <td>1 min  0 sec</td>\n",
       "    </tr>\n",
       "    <tr>\n",
       "      <th>2nd</th>\n",
       "      <td>Past</td>\n",
       "      <td>13Apr2020</td>\n",
       "      <td>04May2020</td>\n",
       "      <td>81800269</td>\n",
       "      <td>SIR-F</td>\n",
       "      <td>0.7</td>\n",
       "      <td>0.0268142</td>\n",
       "      <td>0.000725311</td>\n",
       "      <td>0.0182223</td>\n",
       "      <td>0.0246228</td>\n",
       "      <td>360</td>\n",
       "      <td>344</td>\n",
       "      <td>0.027</td>\n",
       "      <td>13</td>\n",
       "      <td>10</td>\n",
       "      <td>0.030652</td>\n",
       "      <td>611</td>\n",
       "      <td>0 min 35 sec</td>\n",
       "    </tr>\n",
       "    <tr>\n",
       "      <th>3rd</th>\n",
       "      <td>Past</td>\n",
       "      <td>05May2020</td>\n",
       "      <td>21May2020</td>\n",
       "      <td>81800269</td>\n",
       "      <td>SIR-F</td>\n",
       "      <td>1.39</td>\n",
       "      <td>0.0016288</td>\n",
       "      <td>0.00083429</td>\n",
       "      <td>0.0278066</td>\n",
       "      <td>0.0191237</td>\n",
       "      <td>360</td>\n",
       "      <td>299</td>\n",
       "      <td>0.002</td>\n",
       "      <td>8</td>\n",
       "      <td>13</td>\n",
       "      <td>0.0191705</td>\n",
       "      <td>785</td>\n",
       "      <td>0 min 50 sec</td>\n",
       "    </tr>\n",
       "    <tr>\n",
       "      <th>4th</th>\n",
       "      <td>Past</td>\n",
       "      <td>22May2020</td>\n",
       "      <td>02Jun2020</td>\n",
       "      <td>81800269</td>\n",
       "      <td>SIR-F</td>\n",
       "      <td>1.16</td>\n",
       "      <td>3.17488e-06</td>\n",
       "      <td>0.00064937</td>\n",
       "      <td>0.0239245</td>\n",
       "      <td>0.0198914</td>\n",
       "      <td>360</td>\n",
       "      <td>384</td>\n",
       "      <td>0</td>\n",
       "      <td>10</td>\n",
       "      <td>12</td>\n",
       "      <td>0.0159305</td>\n",
       "      <td>927</td>\n",
       "      <td>1 min  0 sec</td>\n",
       "    </tr>\n",
       "    <tr>\n",
       "      <th>5th</th>\n",
       "      <td>Past</td>\n",
       "      <td>03Jun2020</td>\n",
       "      <td>15Jun2020</td>\n",
       "      <td>81800269</td>\n",
       "      <td>SIR-F</td>\n",
       "      <td>1.11</td>\n",
       "      <td>0.0171608</td>\n",
       "      <td>0.000337664</td>\n",
       "      <td>0.0201194</td>\n",
       "      <td>0.0175347</td>\n",
       "      <td>360</td>\n",
       "      <td>740</td>\n",
       "      <td>0.017</td>\n",
       "      <td>12</td>\n",
       "      <td>14</td>\n",
       "      <td>0.0194903</td>\n",
       "      <td>632</td>\n",
       "      <td>0 min 40 sec</td>\n",
       "    </tr>\n",
       "    <tr>\n",
       "      <th>6th</th>\n",
       "      <td>Past</td>\n",
       "      <td>16Jun2020</td>\n",
       "      <td>27Jun2020</td>\n",
       "      <td>81800269</td>\n",
       "      <td>SIR-F</td>\n",
       "      <td>0.96</td>\n",
       "      <td>0.000319984</td>\n",
       "      <td>0.000969646</td>\n",
       "      <td>0.0207385</td>\n",
       "      <td>0.0205161</td>\n",
       "      <td>360</td>\n",
       "      <td>257</td>\n",
       "      <td>0</td>\n",
       "      <td>12</td>\n",
       "      <td>12</td>\n",
       "      <td>0.0224358</td>\n",
       "      <td>1051</td>\n",
       "      <td>1 min  0 sec</td>\n",
       "    </tr>\n",
       "    <tr>\n",
       "      <th>7th</th>\n",
       "      <td>Past</td>\n",
       "      <td>28Jun2020</td>\n",
       "      <td>09Jul2020</td>\n",
       "      <td>81800269</td>\n",
       "      <td>SIR-F</td>\n",
       "      <td>0.92</td>\n",
       "      <td>0.0588965</td>\n",
       "      <td>7.1218e-05</td>\n",
       "      <td>0.0234549</td>\n",
       "      <td>0.0239652</td>\n",
       "      <td>360</td>\n",
       "      <td>3510</td>\n",
       "      <td>0.059</td>\n",
       "      <td>10</td>\n",
       "      <td>10</td>\n",
       "      <td>0.00769501</td>\n",
       "      <td>215</td>\n",
       "      <td>0 min 10 sec</td>\n",
       "    </tr>\n",
       "    <tr>\n",
       "      <th>8th</th>\n",
       "      <td>Past</td>\n",
       "      <td>10Jul2020</td>\n",
       "      <td>21Jul2020</td>\n",
       "      <td>81800269</td>\n",
       "      <td>SIR-F</td>\n",
       "      <td>0.87</td>\n",
       "      <td>0.0266054</td>\n",
       "      <td>0.00158046</td>\n",
       "      <td>0.024656</td>\n",
       "      <td>0.0259693</td>\n",
       "      <td>360</td>\n",
       "      <td>158</td>\n",
       "      <td>0.027</td>\n",
       "      <td>10</td>\n",
       "      <td>9</td>\n",
       "      <td>0.00909399</td>\n",
       "      <td>89</td>\n",
       "      <td>0 min  5 sec</td>\n",
       "    </tr>\n",
       "    <tr>\n",
       "      <th>9th</th>\n",
       "      <td>Past</td>\n",
       "      <td>22Jul2020</td>\n",
       "      <td>02Aug2020</td>\n",
       "      <td>81800269</td>\n",
       "      <td>SIR-F</td>\n",
       "      <td>1.12</td>\n",
       "      <td>0.0266054</td>\n",
       "      <td>0.00158046</td>\n",
       "      <td>0.0271787</td>\n",
       "      <td>0.0220143</td>\n",
       "      <td>360</td>\n",
       "      <td>158</td>\n",
       "      <td>0.027</td>\n",
       "      <td>9</td>\n",
       "      <td>11</td>\n",
       "      <td>0.00920938</td>\n",
       "      <td>70</td>\n",
       "      <td>0 min  5 sec</td>\n",
       "    </tr>\n",
       "    <tr>\n",
       "      <th>10th</th>\n",
       "      <td>Past</td>\n",
       "      <td>03Aug2020</td>\n",
       "      <td>17Aug2020</td>\n",
       "      <td>81800269</td>\n",
       "      <td>SIR-F</td>\n",
       "      <td>1.06</td>\n",
       "      <td>0.0718538</td>\n",
       "      <td>6.68675e-05</td>\n",
       "      <td>0.0233702</td>\n",
       "      <td>0.0204195</td>\n",
       "      <td>360</td>\n",
       "      <td>3738</td>\n",
       "      <td>0.072</td>\n",
       "      <td>10</td>\n",
       "      <td>12</td>\n",
       "      <td>0.0252259</td>\n",
       "      <td>470</td>\n",
       "      <td>0 min 20 sec</td>\n",
       "    </tr>\n",
       "    <tr>\n",
       "      <th rowspan=\"10\" valign=\"top\">Senegal</th>\n",
       "      <th>1st</th>\n",
       "      <td>Past</td>\n",
       "      <td>30Apr2020</td>\n",
       "      <td>14May2020</td>\n",
       "      <td>15854360</td>\n",
       "      <td>SIR-F</td>\n",
       "      <td>2.6</td>\n",
       "      <td>0.000552449</td>\n",
       "      <td>0.000250072</td>\n",
       "      <td>0.0240641</td>\n",
       "      <td>0.00900354</td>\n",
       "      <td>360</td>\n",
       "      <td>999</td>\n",
       "      <td>0.001</td>\n",
       "      <td>10</td>\n",
       "      <td>27</td>\n",
       "      <td>0.111086</td>\n",
       "      <td>1005</td>\n",
       "      <td>1 min  0 sec</td>\n",
       "    </tr>\n",
       "    <tr>\n",
       "      <th>2nd</th>\n",
       "      <td>Past</td>\n",
       "      <td>15May2020</td>\n",
       "      <td>29May2020</td>\n",
       "      <td>15854360</td>\n",
       "      <td>SIR-F</td>\n",
       "      <td>1.25</td>\n",
       "      <td>0.000436417</td>\n",
       "      <td>0.000184608</td>\n",
       "      <td>0.0128783</td>\n",
       "      <td>0.0100796</td>\n",
       "      <td>360</td>\n",
       "      <td>1354</td>\n",
       "      <td>0</td>\n",
       "      <td>19</td>\n",
       "      <td>24</td>\n",
       "      <td>0.03714</td>\n",
       "      <td>878</td>\n",
       "      <td>1 min  0 sec</td>\n",
       "    </tr>\n",
       "    <tr>\n",
       "      <th>3rd</th>\n",
       "      <td>Past</td>\n",
       "      <td>30May2020</td>\n",
       "      <td>09Jun2020</td>\n",
       "      <td>15854360</td>\n",
       "      <td>SIR-F</td>\n",
       "      <td>0.99</td>\n",
       "      <td>0.000665483</td>\n",
       "      <td>0.000111751</td>\n",
       "      <td>0.0132656</td>\n",
       "      <td>0.013307</td>\n",
       "      <td>360</td>\n",
       "      <td>2237</td>\n",
       "      <td>0.001</td>\n",
       "      <td>18</td>\n",
       "      <td>18</td>\n",
       "      <td>0.0454241</td>\n",
       "      <td>982</td>\n",
       "      <td>1 min  0 sec</td>\n",
       "    </tr>\n",
       "    <tr>\n",
       "      <th>4th</th>\n",
       "      <td>Past</td>\n",
       "      <td>10Jun2020</td>\n",
       "      <td>19Jun2020</td>\n",
       "      <td>15854360</td>\n",
       "      <td>SIR-F</td>\n",
       "      <td>1.03</td>\n",
       "      <td>0.0215852</td>\n",
       "      <td>9.6334e-05</td>\n",
       "      <td>0.0160865</td>\n",
       "      <td>0.0151289</td>\n",
       "      <td>360</td>\n",
       "      <td>2595</td>\n",
       "      <td>0.022</td>\n",
       "      <td>15</td>\n",
       "      <td>16</td>\n",
       "      <td>0.0241375</td>\n",
       "      <td>1038</td>\n",
       "      <td>1 min  0 sec</td>\n",
       "    </tr>\n",
       "    <tr>\n",
       "      <th>5th</th>\n",
       "      <td>Past</td>\n",
       "      <td>20Jun2020</td>\n",
       "      <td>30Jun2020</td>\n",
       "      <td>15854360</td>\n",
       "      <td>SIR-F</td>\n",
       "      <td>1.75</td>\n",
       "      <td>0.000647561</td>\n",
       "      <td>0.000361218</td>\n",
       "      <td>0.0124644</td>\n",
       "      <td>0.00677269</td>\n",
       "      <td>360</td>\n",
       "      <td>692</td>\n",
       "      <td>0.001</td>\n",
       "      <td>20</td>\n",
       "      <td>36</td>\n",
       "      <td>0.0159258</td>\n",
       "      <td>490</td>\n",
       "      <td>0 min 25 sec</td>\n",
       "    </tr>\n",
       "    <tr>\n",
       "      <th>6th</th>\n",
       "      <td>Past</td>\n",
       "      <td>01Jul2020</td>\n",
       "      <td>10Jul2020</td>\n",
       "      <td>15854360</td>\n",
       "      <td>SIR-F</td>\n",
       "      <td>1.29</td>\n",
       "      <td>0.0174926</td>\n",
       "      <td>0.000180792</td>\n",
       "      <td>0.0112044</td>\n",
       "      <td>0.00835563</td>\n",
       "      <td>360</td>\n",
       "      <td>1382</td>\n",
       "      <td>0.017</td>\n",
       "      <td>22</td>\n",
       "      <td>29</td>\n",
       "      <td>0.0196985</td>\n",
       "      <td>937</td>\n",
       "      <td>1 min  0 sec</td>\n",
       "    </tr>\n",
       "    <tr>\n",
       "      <th>7th</th>\n",
       "      <td>Past</td>\n",
       "      <td>11Jul2020</td>\n",
       "      <td>19Jul2020</td>\n",
       "      <td>15854360</td>\n",
       "      <td>SIR-F</td>\n",
       "      <td>1.32</td>\n",
       "      <td>0.00101266</td>\n",
       "      <td>0.000215223</td>\n",
       "      <td>0.00966879</td>\n",
       "      <td>0.00709338</td>\n",
       "      <td>360</td>\n",
       "      <td>1161</td>\n",
       "      <td>0.001</td>\n",
       "      <td>25</td>\n",
       "      <td>35</td>\n",
       "      <td>0.00996614</td>\n",
       "      <td>494</td>\n",
       "      <td>0 min 30 sec</td>\n",
       "    </tr>\n",
       "    <tr>\n",
       "      <th>8th</th>\n",
       "      <td>Past</td>\n",
       "      <td>20Jul2020</td>\n",
       "      <td>28Jul2020</td>\n",
       "      <td>15854360</td>\n",
       "      <td>SIR-F</td>\n",
       "      <td>1.63</td>\n",
       "      <td>0.0209433</td>\n",
       "      <td>8.43054e-05</td>\n",
       "      <td>0.0100962</td>\n",
       "      <td>0.00597177</td>\n",
       "      <td>360</td>\n",
       "      <td>2965</td>\n",
       "      <td>0.021</td>\n",
       "      <td>24</td>\n",
       "      <td>41</td>\n",
       "      <td>0.0109283</td>\n",
       "      <td>408</td>\n",
       "      <td>0 min 25 sec</td>\n",
       "    </tr>\n",
       "    <tr>\n",
       "      <th>9th</th>\n",
       "      <td>Past</td>\n",
       "      <td>29Jul2020</td>\n",
       "      <td>08Aug2020</td>\n",
       "      <td>15854360</td>\n",
       "      <td>SIR-F</td>\n",
       "      <td>1.62</td>\n",
       "      <td>0.018048</td>\n",
       "      <td>6.96604e-05</td>\n",
       "      <td>0.00778099</td>\n",
       "      <td>0.00465945</td>\n",
       "      <td>360</td>\n",
       "      <td>3588</td>\n",
       "      <td>0.018</td>\n",
       "      <td>32</td>\n",
       "      <td>53</td>\n",
       "      <td>0.0105616</td>\n",
       "      <td>408</td>\n",
       "      <td>0 min 20 sec</td>\n",
       "    </tr>\n",
       "    <tr>\n",
       "      <th>10th</th>\n",
       "      <td>Past</td>\n",
       "      <td>09Aug2020</td>\n",
       "      <td>17Aug2020</td>\n",
       "      <td>15854360</td>\n",
       "      <td>SIR-F</td>\n",
       "      <td>2.92</td>\n",
       "      <td>0.000454266</td>\n",
       "      <td>0.0001845</td>\n",
       "      <td>0.00913339</td>\n",
       "      <td>0.00294429</td>\n",
       "      <td>360</td>\n",
       "      <td>1355</td>\n",
       "      <td>0</td>\n",
       "      <td>27</td>\n",
       "      <td>84</td>\n",
       "      <td>0.00967632</td>\n",
       "      <td>901</td>\n",
       "      <td>1 min  0 sec</td>\n",
       "    </tr>\n",
       "    <tr>\n",
       "      <th rowspan=\"10\" valign=\"top\">Kuwait</th>\n",
       "      <th>1st</th>\n",
       "      <td>Past</td>\n",
       "      <td>11May2020</td>\n",
       "      <td>23May2020</td>\n",
       "      <td>4137309</td>\n",
       "      <td>SIR-F</td>\n",
       "      <td>3.69</td>\n",
       "      <td>0.000744295</td>\n",
       "      <td>0.000157525</td>\n",
       "      <td>0.0209335</td>\n",
       "      <td>0.00550442</td>\n",
       "      <td>360</td>\n",
       "      <td>1587</td>\n",
       "      <td>0.001</td>\n",
       "      <td>11</td>\n",
       "      <td>45</td>\n",
       "      <td>0.127975</td>\n",
       "      <td>975</td>\n",
       "      <td>1 min  0 sec</td>\n",
       "    </tr>\n",
       "    <tr>\n",
       "      <th>2nd</th>\n",
       "      <td>Past</td>\n",
       "      <td>24May2020</td>\n",
       "      <td>31May2020</td>\n",
       "      <td>4137309</td>\n",
       "      <td>SIR-F</td>\n",
       "      <td>1.2</td>\n",
       "      <td>0.000591959</td>\n",
       "      <td>0.00011369</td>\n",
       "      <td>0.0138997</td>\n",
       "      <td>0.0114994</td>\n",
       "      <td>360</td>\n",
       "      <td>2198</td>\n",
       "      <td>0.001</td>\n",
       "      <td>17</td>\n",
       "      <td>21</td>\n",
       "      <td>0.0210228</td>\n",
       "      <td>962</td>\n",
       "      <td>1 min  0 sec</td>\n",
       "    </tr>\n",
       "    <tr>\n",
       "      <th>3rd</th>\n",
       "      <td>Past</td>\n",
       "      <td>01Jun2020</td>\n",
       "      <td>09Jun2020</td>\n",
       "      <td>4137309</td>\n",
       "      <td>SIR-F</td>\n",
       "      <td>0.64</td>\n",
       "      <td>0.00396506</td>\n",
       "      <td>7.9409e-05</td>\n",
       "      <td>0.0143779</td>\n",
       "      <td>0.0223116</td>\n",
       "      <td>360</td>\n",
       "      <td>3148</td>\n",
       "      <td>0.004</td>\n",
       "      <td>17</td>\n",
       "      <td>11</td>\n",
       "      <td>0.0357433</td>\n",
       "      <td>214</td>\n",
       "      <td>0 min 15 sec</td>\n",
       "    </tr>\n",
       "    <tr>\n",
       "      <th>4th</th>\n",
       "      <td>Past</td>\n",
       "      <td>10Jun2020</td>\n",
       "      <td>21Jun2020</td>\n",
       "      <td>4137309</td>\n",
       "      <td>SIR-F</td>\n",
       "      <td>0.71</td>\n",
       "      <td>0.000966341</td>\n",
       "      <td>0.000117077</td>\n",
       "      <td>0.0156276</td>\n",
       "      <td>0.0219</td>\n",
       "      <td>360</td>\n",
       "      <td>2135</td>\n",
       "      <td>0.001</td>\n",
       "      <td>15</td>\n",
       "      <td>11</td>\n",
       "      <td>0.023374</td>\n",
       "      <td>830</td>\n",
       "      <td>1 min  0 sec</td>\n",
       "    </tr>\n",
       "    <tr>\n",
       "      <th>5th</th>\n",
       "      <td>Past</td>\n",
       "      <td>22Jun2020</td>\n",
       "      <td>30Jun2020</td>\n",
       "      <td>4137309</td>\n",
       "      <td>SIR-F</td>\n",
       "      <td>1.26</td>\n",
       "      <td>0.000437809</td>\n",
       "      <td>9.82164e-05</td>\n",
       "      <td>0.0229555</td>\n",
       "      <td>0.0181222</td>\n",
       "      <td>360</td>\n",
       "      <td>2545</td>\n",
       "      <td>0</td>\n",
       "      <td>10</td>\n",
       "      <td>13</td>\n",
       "      <td>0.0298774</td>\n",
       "      <td>371</td>\n",
       "      <td>0 min 25 sec</td>\n",
       "    </tr>\n",
       "    <tr>\n",
       "      <th>6th</th>\n",
       "      <td>Past</td>\n",
       "      <td>01Jul2020</td>\n",
       "      <td>08Jul2020</td>\n",
       "      <td>4137309</td>\n",
       "      <td>SIR-F</td>\n",
       "      <td>1.14</td>\n",
       "      <td>0.00043636</td>\n",
       "      <td>9.80207e-05</td>\n",
       "      <td>0.0202784</td>\n",
       "      <td>0.017612</td>\n",
       "      <td>360</td>\n",
       "      <td>2550</td>\n",
       "      <td>0</td>\n",
       "      <td>12</td>\n",
       "      <td>14</td>\n",
       "      <td>0.00969344</td>\n",
       "      <td>363</td>\n",
       "      <td>0 min 25 sec</td>\n",
       "    </tr>\n",
       "    <tr>\n",
       "      <th>7th</th>\n",
       "      <td>Past</td>\n",
       "      <td>09Jul2020</td>\n",
       "      <td>17Jul2020</td>\n",
       "      <td>4137309</td>\n",
       "      <td>SIR-F</td>\n",
       "      <td>0.98</td>\n",
       "      <td>0.000344103</td>\n",
       "      <td>7.91242e-05</td>\n",
       "      <td>0.0175316</td>\n",
       "      <td>0.0178521</td>\n",
       "      <td>360</td>\n",
       "      <td>3159</td>\n",
       "      <td>0</td>\n",
       "      <td>14</td>\n",
       "      <td>14</td>\n",
       "      <td>0.00949028</td>\n",
       "      <td>835</td>\n",
       "      <td>1 min  1 sec</td>\n",
       "    </tr>\n",
       "    <tr>\n",
       "      <th>8th</th>\n",
       "      <td>Past</td>\n",
       "      <td>18Jul2020</td>\n",
       "      <td>26Jul2020</td>\n",
       "      <td>4137309</td>\n",
       "      <td>SIR-F</td>\n",
       "      <td>0.95</td>\n",
       "      <td>0.000683665</td>\n",
       "      <td>6.73203e-05</td>\n",
       "      <td>0.0176686</td>\n",
       "      <td>0.0184737</td>\n",
       "      <td>360</td>\n",
       "      <td>3713</td>\n",
       "      <td>0.001</td>\n",
       "      <td>14</td>\n",
       "      <td>13</td>\n",
       "      <td>0.0147377</td>\n",
       "      <td>184</td>\n",
       "      <td>0 min 10 sec</td>\n",
       "    </tr>\n",
       "    <tr>\n",
       "      <th>9th</th>\n",
       "      <td>Past</td>\n",
       "      <td>27Jul2020</td>\n",
       "      <td>05Aug2020</td>\n",
       "      <td>4137309</td>\n",
       "      <td>SIR-F</td>\n",
       "      <td>0.86</td>\n",
       "      <td>0.000260416</td>\n",
       "      <td>7.58282e-05</td>\n",
       "      <td>0.0171235</td>\n",
       "      <td>0.0197195</td>\n",
       "      <td>360</td>\n",
       "      <td>3296</td>\n",
       "      <td>0</td>\n",
       "      <td>14</td>\n",
       "      <td>12</td>\n",
       "      <td>0.0128647</td>\n",
       "      <td>492</td>\n",
       "      <td>0 min 30 sec</td>\n",
       "    </tr>\n",
       "    <tr>\n",
       "      <th>10th</th>\n",
       "      <td>Past</td>\n",
       "      <td>06Aug2020</td>\n",
       "      <td>17Aug2020</td>\n",
       "      <td>4137309</td>\n",
       "      <td>-</td>\n",
       "      <td>-</td>\n",
       "      <td>-</td>\n",
       "      <td>-</td>\n",
       "      <td>-</td>\n",
       "      <td>-</td>\n",
       "      <td>-</td>\n",
       "      <td>-</td>\n",
       "      <td>-</td>\n",
       "      <td>-</td>\n",
       "      <td>-</td>\n",
       "      <td>-</td>\n",
       "      <td>-</td>\n",
       "      <td>-</td>\n",
       "    </tr>\n",
       "    <tr>\n",
       "      <th rowspan=\"10\" valign=\"top\">Bahrain</th>\n",
       "      <th>1st</th>\n",
       "      <td>Past</td>\n",
       "      <td>06May2020</td>\n",
       "      <td>25May2020</td>\n",
       "      <td>1569439</td>\n",
       "      <td>SIR-F</td>\n",
       "      <td>2.56</td>\n",
       "      <td>0.00168848</td>\n",
       "      <td>1.85651e-06</td>\n",
       "      <td>0.0205907</td>\n",
       "      <td>0.00801445</td>\n",
       "      <td>360</td>\n",
       "      <td>134661</td>\n",
       "      <td>0.002</td>\n",
       "      <td>12</td>\n",
       "      <td>31</td>\n",
       "      <td>0.207672</td>\n",
       "      <td>994</td>\n",
       "      <td>1 min  0 sec</td>\n",
       "    </tr>\n",
       "    <tr>\n",
       "      <th>2nd</th>\n",
       "      <td>Past</td>\n",
       "      <td>26May2020</td>\n",
       "      <td>03Jun2020</td>\n",
       "      <td>1569439</td>\n",
       "      <td>SIR-F</td>\n",
       "      <td>1.5</td>\n",
       "      <td>0.000662962</td>\n",
       "      <td>2.37576e-05</td>\n",
       "      <td>0.0229071</td>\n",
       "      <td>0.0152774</td>\n",
       "      <td>360</td>\n",
       "      <td>10522</td>\n",
       "      <td>0.001</td>\n",
       "      <td>10</td>\n",
       "      <td>16</td>\n",
       "      <td>0.04673</td>\n",
       "      <td>1002</td>\n",
       "      <td>1 min  0 sec</td>\n",
       "    </tr>\n",
       "    <tr>\n",
       "      <th>3rd</th>\n",
       "      <td>Past</td>\n",
       "      <td>04Jun2020</td>\n",
       "      <td>11Jun2020</td>\n",
       "      <td>1569439</td>\n",
       "      <td>-</td>\n",
       "      <td>-</td>\n",
       "      <td>-</td>\n",
       "      <td>-</td>\n",
       "      <td>-</td>\n",
       "      <td>-</td>\n",
       "      <td>-</td>\n",
       "      <td>-</td>\n",
       "      <td>-</td>\n",
       "      <td>-</td>\n",
       "      <td>-</td>\n",
       "      <td>-</td>\n",
       "      <td>-</td>\n",
       "      <td>-</td>\n",
       "    </tr>\n",
       "    <tr>\n",
       "      <th>4th</th>\n",
       "      <td>Past</td>\n",
       "      <td>12Jun2020</td>\n",
       "      <td>20Jun2020</td>\n",
       "      <td>1569439</td>\n",
       "      <td>SIR-F</td>\n",
       "      <td>1.1</td>\n",
       "      <td>0.00220653</td>\n",
       "      <td>9.34559e-05</td>\n",
       "      <td>0.0234495</td>\n",
       "      <td>0.0211901</td>\n",
       "      <td>360</td>\n",
       "      <td>2675</td>\n",
       "      <td>0.002</td>\n",
       "      <td>10</td>\n",
       "      <td>11</td>\n",
       "      <td>0.0266207</td>\n",
       "      <td>172</td>\n",
       "      <td>0 min 10 sec</td>\n",
       "    </tr>\n",
       "    <tr>\n",
       "      <th>5th</th>\n",
       "      <td>Past</td>\n",
       "      <td>21Jun2020</td>\n",
       "      <td>28Jun2020</td>\n",
       "      <td>1569439</td>\n",
       "      <td>SIR-F</td>\n",
       "      <td>1.06</td>\n",
       "      <td>0.000590562</td>\n",
       "      <td>0.000113702</td>\n",
       "      <td>0.0288956</td>\n",
       "      <td>0.0271091</td>\n",
       "      <td>360</td>\n",
       "      <td>2198</td>\n",
       "      <td>0.001</td>\n",
       "      <td>8</td>\n",
       "      <td>9</td>\n",
       "      <td>0.028379</td>\n",
       "      <td>710</td>\n",
       "      <td>1 min  0 sec</td>\n",
       "    </tr>\n",
       "    <tr>\n",
       "      <th>6th</th>\n",
       "      <td>Past</td>\n",
       "      <td>29Jun2020</td>\n",
       "      <td>06Jul2020</td>\n",
       "      <td>1569439</td>\n",
       "      <td>SIR-F</td>\n",
       "      <td>0.89</td>\n",
       "      <td>0.000286358</td>\n",
       "      <td>8.69037e-05</td>\n",
       "      <td>0.026945</td>\n",
       "      <td>0.0301489</td>\n",
       "      <td>360</td>\n",
       "      <td>2876</td>\n",
       "      <td>0</td>\n",
       "      <td>9</td>\n",
       "      <td>8</td>\n",
       "      <td>0.0260983</td>\n",
       "      <td>889</td>\n",
       "      <td>1 min  0 sec</td>\n",
       "    </tr>\n",
       "    <tr>\n",
       "      <th>7th</th>\n",
       "      <td>Past</td>\n",
       "      <td>07Jul2020</td>\n",
       "      <td>14Jul2020</td>\n",
       "      <td>1569439</td>\n",
       "      <td>SIR-F</td>\n",
       "      <td>0.9</td>\n",
       "      <td>0.000805679</td>\n",
       "      <td>6.76319e-05</td>\n",
       "      <td>0.0300494</td>\n",
       "      <td>0.0331213</td>\n",
       "      <td>360</td>\n",
       "      <td>3696</td>\n",
       "      <td>0.001</td>\n",
       "      <td>8</td>\n",
       "      <td>7</td>\n",
       "      <td>0.0270507</td>\n",
       "      <td>1037</td>\n",
       "      <td>1 min  0 sec</td>\n",
       "    </tr>\n",
       "    <tr>\n",
       "      <th>8th</th>\n",
       "      <td>Past</td>\n",
       "      <td>15Jul2020</td>\n",
       "      <td>23Jul2020</td>\n",
       "      <td>1569439</td>\n",
       "      <td>SIR-F</td>\n",
       "      <td>0.9</td>\n",
       "      <td>0.00212136</td>\n",
       "      <td>9.35645e-05</td>\n",
       "      <td>0.0290766</td>\n",
       "      <td>0.0323011</td>\n",
       "      <td>360</td>\n",
       "      <td>2671</td>\n",
       "      <td>0.002</td>\n",
       "      <td>8</td>\n",
       "      <td>7</td>\n",
       "      <td>0.0213416</td>\n",
       "      <td>179</td>\n",
       "      <td>0 min 10 sec</td>\n",
       "    </tr>\n",
       "    <tr>\n",
       "      <th>9th</th>\n",
       "      <td>Past</td>\n",
       "      <td>24Jul2020</td>\n",
       "      <td>04Aug2020</td>\n",
       "      <td>1569439</td>\n",
       "      <td>SIR-F</td>\n",
       "      <td>0.87</td>\n",
       "      <td>0.00200948</td>\n",
       "      <td>5.915e-05</td>\n",
       "      <td>0.0288515</td>\n",
       "      <td>0.0332112</td>\n",
       "      <td>360</td>\n",
       "      <td>4226</td>\n",
       "      <td>0.002</td>\n",
       "      <td>8</td>\n",
       "      <td>7</td>\n",
       "      <td>0.0278797</td>\n",
       "      <td>249</td>\n",
       "      <td>0 min 15 sec</td>\n",
       "    </tr>\n",
       "    <tr>\n",
       "      <th>10th</th>\n",
       "      <td>Past</td>\n",
       "      <td>05Aug2020</td>\n",
       "      <td>17Aug2020</td>\n",
       "      <td>1569439</td>\n",
       "      <td>SIR-F</td>\n",
       "      <td>1.26</td>\n",
       "      <td>0.000966338</td>\n",
       "      <td>0.000117077</td>\n",
       "      <td>0.0308154</td>\n",
       "      <td>0.0242753</td>\n",
       "      <td>360</td>\n",
       "      <td>2135</td>\n",
       "      <td>0.001</td>\n",
       "      <td>8</td>\n",
       "      <td>10</td>\n",
       "      <td>0.0200755</td>\n",
       "      <td>942</td>\n",
       "      <td>1 min  0 sec</td>\n",
       "    </tr>\n",
       "  </tbody>\n",
       "</table>\n",
       "</div>"
      ],
      "text/plain": [
       "               Type      Start        End  Population    ODE    Rt  \\\n",
       "Country Phase                                                        \n",
       "Iran    1st    Past  29Mar2020  12Apr2020    81800269  SIR-F  1.23   \n",
       "        2nd    Past  13Apr2020  04May2020    81800269  SIR-F   0.7   \n",
       "        3rd    Past  05May2020  21May2020    81800269  SIR-F  1.39   \n",
       "        4th    Past  22May2020  02Jun2020    81800269  SIR-F  1.16   \n",
       "        5th    Past  03Jun2020  15Jun2020    81800269  SIR-F  1.11   \n",
       "        6th    Past  16Jun2020  27Jun2020    81800269  SIR-F  0.96   \n",
       "        7th    Past  28Jun2020  09Jul2020    81800269  SIR-F  0.92   \n",
       "        8th    Past  10Jul2020  21Jul2020    81800269  SIR-F  0.87   \n",
       "        9th    Past  22Jul2020  02Aug2020    81800269  SIR-F  1.12   \n",
       "        10th   Past  03Aug2020  17Aug2020    81800269  SIR-F  1.06   \n",
       "Senegal 1st    Past  30Apr2020  14May2020    15854360  SIR-F   2.6   \n",
       "        2nd    Past  15May2020  29May2020    15854360  SIR-F  1.25   \n",
       "        3rd    Past  30May2020  09Jun2020    15854360  SIR-F  0.99   \n",
       "        4th    Past  10Jun2020  19Jun2020    15854360  SIR-F  1.03   \n",
       "        5th    Past  20Jun2020  30Jun2020    15854360  SIR-F  1.75   \n",
       "        6th    Past  01Jul2020  10Jul2020    15854360  SIR-F  1.29   \n",
       "        7th    Past  11Jul2020  19Jul2020    15854360  SIR-F  1.32   \n",
       "        8th    Past  20Jul2020  28Jul2020    15854360  SIR-F  1.63   \n",
       "        9th    Past  29Jul2020  08Aug2020    15854360  SIR-F  1.62   \n",
       "        10th   Past  09Aug2020  17Aug2020    15854360  SIR-F  2.92   \n",
       "Kuwait  1st    Past  11May2020  23May2020     4137309  SIR-F  3.69   \n",
       "        2nd    Past  24May2020  31May2020     4137309  SIR-F   1.2   \n",
       "        3rd    Past  01Jun2020  09Jun2020     4137309  SIR-F  0.64   \n",
       "        4th    Past  10Jun2020  21Jun2020     4137309  SIR-F  0.71   \n",
       "        5th    Past  22Jun2020  30Jun2020     4137309  SIR-F  1.26   \n",
       "        6th    Past  01Jul2020  08Jul2020     4137309  SIR-F  1.14   \n",
       "        7th    Past  09Jul2020  17Jul2020     4137309  SIR-F  0.98   \n",
       "        8th    Past  18Jul2020  26Jul2020     4137309  SIR-F  0.95   \n",
       "        9th    Past  27Jul2020  05Aug2020     4137309  SIR-F  0.86   \n",
       "        10th   Past  06Aug2020  17Aug2020     4137309      -     -   \n",
       "Bahrain 1st    Past  06May2020  25May2020     1569439  SIR-F  2.56   \n",
       "        2nd    Past  26May2020  03Jun2020     1569439  SIR-F   1.5   \n",
       "        3rd    Past  04Jun2020  11Jun2020     1569439      -     -   \n",
       "        4th    Past  12Jun2020  20Jun2020     1569439  SIR-F   1.1   \n",
       "        5th    Past  21Jun2020  28Jun2020     1569439  SIR-F  1.06   \n",
       "        6th    Past  29Jun2020  06Jul2020     1569439  SIR-F  0.89   \n",
       "        7th    Past  07Jul2020  14Jul2020     1569439  SIR-F   0.9   \n",
       "        8th    Past  15Jul2020  23Jul2020     1569439  SIR-F   0.9   \n",
       "        9th    Past  24Jul2020  04Aug2020     1569439  SIR-F  0.87   \n",
       "        10th   Past  05Aug2020  17Aug2020     1569439  SIR-F  1.26   \n",
       "\n",
       "                     theta        kappa         rho       sigma  tau  \\\n",
       "Country Phase                                                          \n",
       "Iran    1st      0.0546607  0.000116602   0.0214228    0.016338  360   \n",
       "        2nd      0.0268142  0.000725311   0.0182223   0.0246228  360   \n",
       "        3rd      0.0016288   0.00083429   0.0278066   0.0191237  360   \n",
       "        4th    3.17488e-06   0.00064937   0.0239245   0.0198914  360   \n",
       "        5th      0.0171608  0.000337664   0.0201194   0.0175347  360   \n",
       "        6th    0.000319984  0.000969646   0.0207385   0.0205161  360   \n",
       "        7th      0.0588965   7.1218e-05   0.0234549   0.0239652  360   \n",
       "        8th      0.0266054   0.00158046    0.024656   0.0259693  360   \n",
       "        9th      0.0266054   0.00158046   0.0271787   0.0220143  360   \n",
       "        10th     0.0718538  6.68675e-05   0.0233702   0.0204195  360   \n",
       "Senegal 1st    0.000552449  0.000250072   0.0240641  0.00900354  360   \n",
       "        2nd    0.000436417  0.000184608   0.0128783   0.0100796  360   \n",
       "        3rd    0.000665483  0.000111751   0.0132656    0.013307  360   \n",
       "        4th      0.0215852   9.6334e-05   0.0160865   0.0151289  360   \n",
       "        5th    0.000647561  0.000361218   0.0124644  0.00677269  360   \n",
       "        6th      0.0174926  0.000180792   0.0112044  0.00835563  360   \n",
       "        7th     0.00101266  0.000215223  0.00966879  0.00709338  360   \n",
       "        8th      0.0209433  8.43054e-05   0.0100962  0.00597177  360   \n",
       "        9th       0.018048  6.96604e-05  0.00778099  0.00465945  360   \n",
       "        10th   0.000454266    0.0001845  0.00913339  0.00294429  360   \n",
       "Kuwait  1st    0.000744295  0.000157525   0.0209335  0.00550442  360   \n",
       "        2nd    0.000591959   0.00011369   0.0138997   0.0114994  360   \n",
       "        3rd     0.00396506   7.9409e-05   0.0143779   0.0223116  360   \n",
       "        4th    0.000966341  0.000117077   0.0156276      0.0219  360   \n",
       "        5th    0.000437809  9.82164e-05   0.0229555   0.0181222  360   \n",
       "        6th     0.00043636  9.80207e-05   0.0202784    0.017612  360   \n",
       "        7th    0.000344103  7.91242e-05   0.0175316   0.0178521  360   \n",
       "        8th    0.000683665  6.73203e-05   0.0176686   0.0184737  360   \n",
       "        9th    0.000260416  7.58282e-05   0.0171235   0.0197195  360   \n",
       "        10th             -            -           -           -    -   \n",
       "Bahrain 1st     0.00168848  1.85651e-06   0.0205907  0.00801445  360   \n",
       "        2nd    0.000662962  2.37576e-05   0.0229071   0.0152774  360   \n",
       "        3rd              -            -           -           -    -   \n",
       "        4th     0.00220653  9.34559e-05   0.0234495   0.0211901  360   \n",
       "        5th    0.000590562  0.000113702   0.0288956   0.0271091  360   \n",
       "        6th    0.000286358  8.69037e-05    0.026945   0.0301489  360   \n",
       "        7th    0.000805679  6.76319e-05   0.0300494   0.0331213  360   \n",
       "        8th     0.00212136  9.35645e-05   0.0290766   0.0323011  360   \n",
       "        9th     0.00200948    5.915e-05   0.0288515   0.0332112  360   \n",
       "        10th   0.000966338  0.000117077   0.0308154   0.0242753  360   \n",
       "\n",
       "              1/alpha2 [day] alpha1 [-] 1/beta [day] 1/gamma [day]  \\\n",
       "Country Phase                                                        \n",
       "Iran    1st             2144      0.055           11            15   \n",
       "        2nd              344      0.027           13            10   \n",
       "        3rd              299      0.002            8            13   \n",
       "        4th              384          0           10            12   \n",
       "        5th              740      0.017           12            14   \n",
       "        6th              257          0           12            12   \n",
       "        7th             3510      0.059           10            10   \n",
       "        8th              158      0.027           10             9   \n",
       "        9th              158      0.027            9            11   \n",
       "        10th            3738      0.072           10            12   \n",
       "Senegal 1st              999      0.001           10            27   \n",
       "        2nd             1354          0           19            24   \n",
       "        3rd             2237      0.001           18            18   \n",
       "        4th             2595      0.022           15            16   \n",
       "        5th              692      0.001           20            36   \n",
       "        6th             1382      0.017           22            29   \n",
       "        7th             1161      0.001           25            35   \n",
       "        8th             2965      0.021           24            41   \n",
       "        9th             3588      0.018           32            53   \n",
       "        10th            1355          0           27            84   \n",
       "Kuwait  1st             1587      0.001           11            45   \n",
       "        2nd             2198      0.001           17            21   \n",
       "        3rd             3148      0.004           17            11   \n",
       "        4th             2135      0.001           15            11   \n",
       "        5th             2545          0           10            13   \n",
       "        6th             2550          0           12            14   \n",
       "        7th             3159          0           14            14   \n",
       "        8th             3713      0.001           14            13   \n",
       "        9th             3296          0           14            12   \n",
       "        10th               -          -            -             -   \n",
       "Bahrain 1st           134661      0.002           12            31   \n",
       "        2nd            10522      0.001           10            16   \n",
       "        3rd                -          -            -             -   \n",
       "        4th             2675      0.002           10            11   \n",
       "        5th             2198      0.001            8             9   \n",
       "        6th             2876          0            9             8   \n",
       "        7th             3696      0.001            8             7   \n",
       "        8th             2671      0.002            8             7   \n",
       "        9th             4226      0.002            8             7   \n",
       "        10th            2135      0.001            8            10   \n",
       "\n",
       "                    RMSLE Trials       Runtime  \n",
       "Country Phase                                   \n",
       "Iran    1st      0.175598    864  1 min  0 sec  \n",
       "        2nd      0.030652    611  0 min 35 sec  \n",
       "        3rd     0.0191705    785  0 min 50 sec  \n",
       "        4th     0.0159305    927  1 min  0 sec  \n",
       "        5th     0.0194903    632  0 min 40 sec  \n",
       "        6th     0.0224358   1051  1 min  0 sec  \n",
       "        7th    0.00769501    215  0 min 10 sec  \n",
       "        8th    0.00909399     89  0 min  5 sec  \n",
       "        9th    0.00920938     70  0 min  5 sec  \n",
       "        10th    0.0252259    470  0 min 20 sec  \n",
       "Senegal 1st      0.111086   1005  1 min  0 sec  \n",
       "        2nd       0.03714    878  1 min  0 sec  \n",
       "        3rd     0.0454241    982  1 min  0 sec  \n",
       "        4th     0.0241375   1038  1 min  0 sec  \n",
       "        5th     0.0159258    490  0 min 25 sec  \n",
       "        6th     0.0196985    937  1 min  0 sec  \n",
       "        7th    0.00996614    494  0 min 30 sec  \n",
       "        8th     0.0109283    408  0 min 25 sec  \n",
       "        9th     0.0105616    408  0 min 20 sec  \n",
       "        10th   0.00967632    901  1 min  0 sec  \n",
       "Kuwait  1st      0.127975    975  1 min  0 sec  \n",
       "        2nd     0.0210228    962  1 min  0 sec  \n",
       "        3rd     0.0357433    214  0 min 15 sec  \n",
       "        4th      0.023374    830  1 min  0 sec  \n",
       "        5th     0.0298774    371  0 min 25 sec  \n",
       "        6th    0.00969344    363  0 min 25 sec  \n",
       "        7th    0.00949028    835  1 min  1 sec  \n",
       "        8th     0.0147377    184  0 min 10 sec  \n",
       "        9th     0.0128647    492  0 min 30 sec  \n",
       "        10th            -      -             -  \n",
       "Bahrain 1st      0.207672    994  1 min  0 sec  \n",
       "        2nd       0.04673   1002  1 min  0 sec  \n",
       "        3rd             -      -             -  \n",
       "        4th     0.0266207    172  0 min 10 sec  \n",
       "        5th      0.028379    710  1 min  0 sec  \n",
       "        6th     0.0260983    889  1 min  0 sec  \n",
       "        7th     0.0270507   1037  1 min  0 sec  \n",
       "        8th     0.0213416    179  0 min 10 sec  \n",
       "        9th     0.0278797    249  0 min 15 sec  \n",
       "        10th    0.0200755    942  1 min  0 sec  "
      ]
     },
     "execution_count": 12,
     "metadata": {},
     "output_type": "execute_result"
    }
   ],
   "source": [
    "# Show summary\n",
    "analyser.summary(countries=countries_show)"
   ]
  },
  {
   "cell_type": "markdown",
   "metadata": {},
   "source": [
    "## Compare the history of parameters\n",
    "Here, compare the history of parameter values if countries."
   ]
  },
  {
   "cell_type": "code",
   "execution_count": 13,
   "metadata": {
    "collapsed": false
   },
   "outputs": [
    {
     "data": {
      "text/html": [
       "<div>\n",
       "<style scoped>\n",
       "    .dataframe tbody tr th:only-of-type {\n",
       "        vertical-align: middle;\n",
       "    }\n",
       "\n",
       "    .dataframe tbody tr th {\n",
       "        vertical-align: top;\n",
       "    }\n",
       "\n",
       "    .dataframe thead th {\n",
       "        text-align: right;\n",
       "    }\n",
       "</style>\n",
       "<table border=\"1\" class=\"dataframe\">\n",
       "  <thead>\n",
       "    <tr style=\"text-align: right;\">\n",
       "      <th></th>\n",
       "      <th>Date</th>\n",
       "      <th>Country</th>\n",
       "      <th>theta</th>\n",
       "      <th>kappa</th>\n",
       "      <th>rho</th>\n",
       "      <th>sigma</th>\n",
       "      <th>alpha1 [-]</th>\n",
       "      <th>1/alpha2 [day]</th>\n",
       "      <th>1/beta [day]</th>\n",
       "      <th>1/gamma [day]</th>\n",
       "      <th>...</th>\n",
       "      <th>Cancel_events</th>\n",
       "      <th>Gatherings_restrictions</th>\n",
       "      <th>Transport_closing</th>\n",
       "      <th>Stay_home_restrictions</th>\n",
       "      <th>Internal_movement_restrictions</th>\n",
       "      <th>International_movement_restrictions</th>\n",
       "      <th>Information_campaigns</th>\n",
       "      <th>Testing_policy</th>\n",
       "      <th>Contact_tracing</th>\n",
       "      <th>Stringency_index</th>\n",
       "    </tr>\n",
       "  </thead>\n",
       "  <tbody>\n",
       "    <tr>\n",
       "      <th>0</th>\n",
       "      <td>2020-03-29</td>\n",
       "      <td>Austria</td>\n",
       "      <td>0.0184828</td>\n",
       "      <td>0.000237264</td>\n",
       "      <td>0.0139209</td>\n",
       "      <td>0.00864381</td>\n",
       "      <td>0.018</td>\n",
       "      <td>1053</td>\n",
       "      <td>17</td>\n",
       "      <td>28</td>\n",
       "      <td>...</td>\n",
       "      <td>2</td>\n",
       "      <td>4</td>\n",
       "      <td>1</td>\n",
       "      <td>2</td>\n",
       "      <td>2</td>\n",
       "      <td>3</td>\n",
       "      <td>2</td>\n",
       "      <td>2</td>\n",
       "      <td>1</td>\n",
       "      <td>85.19</td>\n",
       "    </tr>\n",
       "    <tr>\n",
       "      <th>1</th>\n",
       "      <td>2020-03-30</td>\n",
       "      <td>Austria</td>\n",
       "      <td>0.0184828</td>\n",
       "      <td>0.000237264</td>\n",
       "      <td>0.0139209</td>\n",
       "      <td>0.00864381</td>\n",
       "      <td>0.018</td>\n",
       "      <td>1053</td>\n",
       "      <td>17</td>\n",
       "      <td>28</td>\n",
       "      <td>...</td>\n",
       "      <td>2</td>\n",
       "      <td>4</td>\n",
       "      <td>1</td>\n",
       "      <td>2</td>\n",
       "      <td>2</td>\n",
       "      <td>3</td>\n",
       "      <td>2</td>\n",
       "      <td>2</td>\n",
       "      <td>2</td>\n",
       "      <td>85.19</td>\n",
       "    </tr>\n",
       "    <tr>\n",
       "      <th>2</th>\n",
       "      <td>2020-03-31</td>\n",
       "      <td>Austria</td>\n",
       "      <td>0.0184828</td>\n",
       "      <td>0.000237264</td>\n",
       "      <td>0.0139209</td>\n",
       "      <td>0.00864381</td>\n",
       "      <td>0.018</td>\n",
       "      <td>1053</td>\n",
       "      <td>17</td>\n",
       "      <td>28</td>\n",
       "      <td>...</td>\n",
       "      <td>2</td>\n",
       "      <td>4</td>\n",
       "      <td>1</td>\n",
       "      <td>2</td>\n",
       "      <td>2</td>\n",
       "      <td>3</td>\n",
       "      <td>2</td>\n",
       "      <td>2</td>\n",
       "      <td>2</td>\n",
       "      <td>85.19</td>\n",
       "    </tr>\n",
       "    <tr>\n",
       "      <th>3</th>\n",
       "      <td>2020-04-01</td>\n",
       "      <td>Austria</td>\n",
       "      <td>0.0184828</td>\n",
       "      <td>0.000237264</td>\n",
       "      <td>0.0139209</td>\n",
       "      <td>0.00864381</td>\n",
       "      <td>0.018</td>\n",
       "      <td>1053</td>\n",
       "      <td>17</td>\n",
       "      <td>28</td>\n",
       "      <td>...</td>\n",
       "      <td>2</td>\n",
       "      <td>4</td>\n",
       "      <td>1</td>\n",
       "      <td>2</td>\n",
       "      <td>2</td>\n",
       "      <td>3</td>\n",
       "      <td>2</td>\n",
       "      <td>2</td>\n",
       "      <td>2</td>\n",
       "      <td>85.19</td>\n",
       "    </tr>\n",
       "    <tr>\n",
       "      <th>4</th>\n",
       "      <td>2020-04-02</td>\n",
       "      <td>Austria</td>\n",
       "      <td>0.0184828</td>\n",
       "      <td>0.000237264</td>\n",
       "      <td>0.0139209</td>\n",
       "      <td>0.00864381</td>\n",
       "      <td>0.018</td>\n",
       "      <td>1053</td>\n",
       "      <td>17</td>\n",
       "      <td>28</td>\n",
       "      <td>...</td>\n",
       "      <td>2</td>\n",
       "      <td>4</td>\n",
       "      <td>1</td>\n",
       "      <td>2</td>\n",
       "      <td>2</td>\n",
       "      <td>3</td>\n",
       "      <td>2</td>\n",
       "      <td>2</td>\n",
       "      <td>2</td>\n",
       "      <td>85.19</td>\n",
       "    </tr>\n",
       "  </tbody>\n",
       "</table>\n",
       "<p>5 rows × 23 columns</p>\n",
       "</div>"
      ],
      "text/plain": [
       "        Date  Country      theta        kappa        rho       sigma  \\\n",
       "0 2020-03-29  Austria  0.0184828  0.000237264  0.0139209  0.00864381   \n",
       "1 2020-03-30  Austria  0.0184828  0.000237264  0.0139209  0.00864381   \n",
       "2 2020-03-31  Austria  0.0184828  0.000237264  0.0139209  0.00864381   \n",
       "3 2020-04-01  Austria  0.0184828  0.000237264  0.0139209  0.00864381   \n",
       "4 2020-04-02  Austria  0.0184828  0.000237264  0.0139209  0.00864381   \n",
       "\n",
       "  alpha1 [-] 1/alpha2 [day] 1/beta [day] 1/gamma [day]  ... Cancel_events  \\\n",
       "0      0.018           1053           17            28  ...             2   \n",
       "1      0.018           1053           17            28  ...             2   \n",
       "2      0.018           1053           17            28  ...             2   \n",
       "3      0.018           1053           17            28  ...             2   \n",
       "4      0.018           1053           17            28  ...             2   \n",
       "\n",
       "   Gatherings_restrictions  Transport_closing  Stay_home_restrictions  \\\n",
       "0                        4                  1                       2   \n",
       "1                        4                  1                       2   \n",
       "2                        4                  1                       2   \n",
       "3                        4                  1                       2   \n",
       "4                        4                  1                       2   \n",
       "\n",
       "   Internal_movement_restrictions  International_movement_restrictions  \\\n",
       "0                               2                                    3   \n",
       "1                               2                                    3   \n",
       "2                               2                                    3   \n",
       "3                               2                                    3   \n",
       "4                               2                                    3   \n",
       "\n",
       "   Information_campaigns  Testing_policy  Contact_tracing  Stringency_index  \n",
       "0                      2               2                1             85.19  \n",
       "1                      2               2                2             85.19  \n",
       "2                      2               2                2             85.19  \n",
       "3                      2               2                2             85.19  \n",
       "4                      2               2                2             85.19  \n",
       "\n",
       "[5 rows x 23 columns]"
      ]
     },
     "execution_count": 13,
     "metadata": {},
     "output_type": "execute_result"
    }
   ],
   "source": [
    "# All parameter/day parameter/Rt/OxCGRT\n",
    "analyser.track().head()"
   ]
  },
  {
   "cell_type": "markdown",
   "metadata": {},
   "source": [
    "### $Rt$: Reprodcution number $\\mathrm{[-]}$"
   ]
  },
  {
   "cell_type": "code",
   "execution_count": 14,
   "metadata": {
    "collapsed": false
   },
   "outputs": [
    {
     "data": {
      "image/png": "[encoded data removed]",
      "text/plain": [
       "<Figure size 648x432 with 1 Axes>"
      ]
     },
     "metadata": {},
     "output_type": "display_data"
    },
    {
     "data": {
      "text/html": [
       "<div>\n",
       "<style scoped>\n",
       "    .dataframe tbody tr th:only-of-type {\n",
       "        vertical-align: middle;\n",
       "    }\n",
       "\n",
       "    .dataframe tbody tr th {\n",
       "        vertical-align: top;\n",
       "    }\n",
       "\n",
       "    .dataframe thead th {\n",
       "        text-align: right;\n",
       "    }\n",
       "</style>\n",
       "<table border=\"1\" class=\"dataframe\">\n",
       "  <thead>\n",
       "    <tr style=\"text-align: right;\">\n",
       "      <th>Country</th>\n",
       "      <th>Austria</th>\n",
       "      <th>Bahrain</th>\n",
       "      <th>Canada</th>\n",
       "      <th>Czech Republic</th>\n",
       "      <th>Denmark</th>\n",
       "      <th>Guinea</th>\n",
       "      <th>Iran</th>\n",
       "      <th>Italy</th>\n",
       "      <th>Kuwait</th>\n",
       "      <th>Moldova</th>\n",
       "      <th>Poland</th>\n",
       "      <th>Portugal</th>\n",
       "      <th>Senegal</th>\n",
       "      <th>Ukraine</th>\n",
       "      <th>United Arab Emirates</th>\n",
       "    </tr>\n",
       "    <tr>\n",
       "      <th>Date</th>\n",
       "      <th></th>\n",
       "      <th></th>\n",
       "      <th></th>\n",
       "      <th></th>\n",
       "      <th></th>\n",
       "      <th></th>\n",
       "      <th></th>\n",
       "      <th></th>\n",
       "      <th></th>\n",
       "      <th></th>\n",
       "      <th></th>\n",
       "      <th></th>\n",
       "      <th></th>\n",
       "      <th></th>\n",
       "      <th></th>\n",
       "    </tr>\n",
       "  </thead>\n",
       "  <tbody>\n",
       "    <tr>\n",
       "      <th>2020-08-13</th>\n",
       "      <td>1.5</td>\n",
       "      <td>1.26</td>\n",
       "      <td>0.88</td>\n",
       "      <td>1.47</td>\n",
       "      <td>2.48</td>\n",
       "      <td>1.09</td>\n",
       "      <td>1.06</td>\n",
       "      <td>0.99</td>\n",
       "      <td>0.86</td>\n",
       "      <td>1.34</td>\n",
       "      <td>1.83</td>\n",
       "      <td>0.85</td>\n",
       "      <td>2.92</td>\n",
       "      <td>1.76</td>\n",
       "      <td>0.88</td>\n",
       "    </tr>\n",
       "    <tr>\n",
       "      <th>2020-08-14</th>\n",
       "      <td>1.5</td>\n",
       "      <td>1.26</td>\n",
       "      <td>0.88</td>\n",
       "      <td>1.47</td>\n",
       "      <td>2.48</td>\n",
       "      <td>1.09</td>\n",
       "      <td>1.06</td>\n",
       "      <td>0.99</td>\n",
       "      <td>0.86</td>\n",
       "      <td>1.34</td>\n",
       "      <td>1.83</td>\n",
       "      <td>0.85</td>\n",
       "      <td>2.92</td>\n",
       "      <td>1.76</td>\n",
       "      <td>0.88</td>\n",
       "    </tr>\n",
       "    <tr>\n",
       "      <th>2020-08-15</th>\n",
       "      <td>1.5</td>\n",
       "      <td>1.26</td>\n",
       "      <td>0.88</td>\n",
       "      <td>1.47</td>\n",
       "      <td>2.48</td>\n",
       "      <td>1.09</td>\n",
       "      <td>1.06</td>\n",
       "      <td>0.99</td>\n",
       "      <td>0.86</td>\n",
       "      <td>1.34</td>\n",
       "      <td>1.83</td>\n",
       "      <td>0.85</td>\n",
       "      <td>2.92</td>\n",
       "      <td>1.76</td>\n",
       "      <td>0.88</td>\n",
       "    </tr>\n",
       "    <tr>\n",
       "      <th>2020-08-16</th>\n",
       "      <td>1.5</td>\n",
       "      <td>1.26</td>\n",
       "      <td>0.88</td>\n",
       "      <td>1.47</td>\n",
       "      <td>2.48</td>\n",
       "      <td>1.09</td>\n",
       "      <td>1.06</td>\n",
       "      <td>0.99</td>\n",
       "      <td>0.86</td>\n",
       "      <td>1.34</td>\n",
       "      <td>1.83</td>\n",
       "      <td>0.85</td>\n",
       "      <td>2.92</td>\n",
       "      <td>1.76</td>\n",
       "      <td>0.88</td>\n",
       "    </tr>\n",
       "    <tr>\n",
       "      <th>2020-08-17</th>\n",
       "      <td>1.5</td>\n",
       "      <td>1.26</td>\n",
       "      <td>0.88</td>\n",
       "      <td>1.47</td>\n",
       "      <td>2.48</td>\n",
       "      <td>1.09</td>\n",
       "      <td>1.06</td>\n",
       "      <td>0.99</td>\n",
       "      <td>0.86</td>\n",
       "      <td>1.34</td>\n",
       "      <td>1.83</td>\n",
       "      <td>0.85</td>\n",
       "      <td>2.92</td>\n",
       "      <td>1.76</td>\n",
       "      <td>0.88</td>\n",
       "    </tr>\n",
       "  </tbody>\n",
       "</table>\n",
       "</div>"
      ],
      "text/plain": [
       "Country     Austria  Bahrain  Canada  Czech Republic  Denmark  Guinea  Iran  \\\n",
       "Date                                                                          \n",
       "2020-08-13      1.5     1.26    0.88            1.47     2.48    1.09  1.06   \n",
       "2020-08-14      1.5     1.26    0.88            1.47     2.48    1.09  1.06   \n",
       "2020-08-15      1.5     1.26    0.88            1.47     2.48    1.09  1.06   \n",
       "2020-08-16      1.5     1.26    0.88            1.47     2.48    1.09  1.06   \n",
       "2020-08-17      1.5     1.26    0.88            1.47     2.48    1.09  1.06   \n",
       "\n",
       "Country     Italy  Kuwait  Moldova  Poland  Portugal  Senegal  Ukraine  \\\n",
       "Date                                                                     \n",
       "2020-08-13   0.99    0.86     1.34    1.83      0.85     2.92     1.76   \n",
       "2020-08-14   0.99    0.86     1.34    1.83      0.85     2.92     1.76   \n",
       "2020-08-15   0.99    0.86     1.34    1.83      0.85     2.92     1.76   \n",
       "2020-08-16   0.99    0.86     1.34    1.83      0.85     2.92     1.76   \n",
       "2020-08-17   0.99    0.86     1.34    1.83      0.85     2.92     1.76   \n",
       "\n",
       "Country     United Arab Emirates  \n",
       "Date                              \n",
       "2020-08-13                  0.88  \n",
       "2020-08-14                  0.88  \n",
       "2020-08-15                  0.88  \n",
       "2020-08-16                  0.88  \n",
       "2020-08-17                  0.88  "
      ]
     },
     "execution_count": 14,
     "metadata": {},
     "output_type": "execute_result"
    }
   ],
   "source": [
    "analyser.param_history(\"Rt\", roll_window=None).tail()"
   ]
  },
  {
   "cell_type": "markdown",
   "metadata": {},
   "source": [
    "### $\\rho$: Effective contact rate $\\mathrm{[-]}$"
   ]
  },
  {
   "cell_type": "code",
   "execution_count": 15,
   "metadata": {
    "collapsed": false
   },
   "outputs": [
    {
     "data": {
      "image/png": "[encoded data removed]",
      "text/plain": [
       "<Figure size 648x432 with 1 Axes>"
      ]
     },
     "metadata": {},
     "output_type": "display_data"
    },
    {
     "data": {
      "text/html": [
       "<div>\n",
       "<style scoped>\n",
       "    .dataframe tbody tr th:only-of-type {\n",
       "        vertical-align: middle;\n",
       "    }\n",
       "\n",
       "    .dataframe tbody tr th {\n",
       "        vertical-align: top;\n",
       "    }\n",
       "\n",
       "    .dataframe thead th {\n",
       "        text-align: right;\n",
       "    }\n",
       "</style>\n",
       "<table border=\"1\" class=\"dataframe\">\n",
       "  <thead>\n",
       "    <tr style=\"text-align: right;\">\n",
       "      <th>Country</th>\n",
       "      <th>Austria</th>\n",
       "      <th>Bahrain</th>\n",
       "      <th>Canada</th>\n",
       "      <th>Czech Republic</th>\n",
       "      <th>Denmark</th>\n",
       "      <th>Guinea</th>\n",
       "      <th>Iran</th>\n",
       "      <th>Italy</th>\n",
       "      <th>Kuwait</th>\n",
       "      <th>Moldova</th>\n",
       "      <th>Poland</th>\n",
       "      <th>Portugal</th>\n",
       "      <th>Senegal</th>\n",
       "      <th>Ukraine</th>\n",
       "      <th>United Arab Emirates</th>\n",
       "    </tr>\n",
       "    <tr>\n",
       "      <th>Date</th>\n",
       "      <th></th>\n",
       "      <th></th>\n",
       "      <th></th>\n",
       "      <th></th>\n",
       "      <th></th>\n",
       "      <th></th>\n",
       "      <th></th>\n",
       "      <th></th>\n",
       "      <th></th>\n",
       "      <th></th>\n",
       "      <th></th>\n",
       "      <th></th>\n",
       "      <th></th>\n",
       "      <th></th>\n",
       "      <th></th>\n",
       "    </tr>\n",
       "  </thead>\n",
       "  <tbody>\n",
       "    <tr>\n",
       "      <th>2020-08-13</th>\n",
       "      <td>0.024714</td>\n",
       "      <td>0.030815</td>\n",
       "      <td>0.015718</td>\n",
       "      <td>0.01109</td>\n",
       "      <td>0.026109</td>\n",
       "      <td>0.017587</td>\n",
       "      <td>0.02337</td>\n",
       "      <td>0.005344</td>\n",
       "      <td>0.017123</td>\n",
       "      <td>0.012886</td>\n",
       "      <td>0.014539</td>\n",
       "      <td>0.003195</td>\n",
       "      <td>0.009133</td>\n",
       "      <td>0.009734</td>\n",
       "      <td>0.010707</td>\n",
       "    </tr>\n",
       "    <tr>\n",
       "      <th>2020-08-14</th>\n",
       "      <td>0.024714</td>\n",
       "      <td>0.030815</td>\n",
       "      <td>0.015718</td>\n",
       "      <td>0.01109</td>\n",
       "      <td>0.026109</td>\n",
       "      <td>0.017587</td>\n",
       "      <td>0.02337</td>\n",
       "      <td>0.005344</td>\n",
       "      <td>0.017123</td>\n",
       "      <td>0.012886</td>\n",
       "      <td>0.014539</td>\n",
       "      <td>0.003195</td>\n",
       "      <td>0.009133</td>\n",
       "      <td>0.009734</td>\n",
       "      <td>0.010707</td>\n",
       "    </tr>\n",
       "    <tr>\n",
       "      <th>2020-08-15</th>\n",
       "      <td>0.024714</td>\n",
       "      <td>0.030815</td>\n",
       "      <td>0.015718</td>\n",
       "      <td>0.01109</td>\n",
       "      <td>0.026109</td>\n",
       "      <td>0.017587</td>\n",
       "      <td>0.02337</td>\n",
       "      <td>0.005344</td>\n",
       "      <td>0.017123</td>\n",
       "      <td>0.012886</td>\n",
       "      <td>0.014539</td>\n",
       "      <td>0.003195</td>\n",
       "      <td>0.009133</td>\n",
       "      <td>0.009734</td>\n",
       "      <td>0.010707</td>\n",
       "    </tr>\n",
       "    <tr>\n",
       "      <th>2020-08-16</th>\n",
       "      <td>0.024714</td>\n",
       "      <td>0.030815</td>\n",
       "      <td>0.015718</td>\n",
       "      <td>0.01109</td>\n",
       "      <td>0.026109</td>\n",
       "      <td>0.017587</td>\n",
       "      <td>0.02337</td>\n",
       "      <td>0.005344</td>\n",
       "      <td>0.017123</td>\n",
       "      <td>0.012886</td>\n",
       "      <td>0.014539</td>\n",
       "      <td>0.003195</td>\n",
       "      <td>0.009133</td>\n",
       "      <td>0.009734</td>\n",
       "      <td>0.010707</td>\n",
       "    </tr>\n",
       "    <tr>\n",
       "      <th>2020-08-17</th>\n",
       "      <td>0.024714</td>\n",
       "      <td>0.030815</td>\n",
       "      <td>0.015718</td>\n",
       "      <td>0.01109</td>\n",
       "      <td>0.026109</td>\n",
       "      <td>0.017587</td>\n",
       "      <td>0.02337</td>\n",
       "      <td>0.005344</td>\n",
       "      <td>0.017123</td>\n",
       "      <td>0.012886</td>\n",
       "      <td>0.014539</td>\n",
       "      <td>0.003195</td>\n",
       "      <td>0.009133</td>\n",
       "      <td>0.009734</td>\n",
       "      <td>0.010707</td>\n",
       "    </tr>\n",
       "  </tbody>\n",
       "</table>\n",
       "</div>"
      ],
      "text/plain": [
       "Country      Austria   Bahrain    Canada  Czech Republic   Denmark    Guinea  \\\n",
       "Date                                                                           \n",
       "2020-08-13  0.024714  0.030815  0.015718         0.01109  0.026109  0.017587   \n",
       "2020-08-14  0.024714  0.030815  0.015718         0.01109  0.026109  0.017587   \n",
       "2020-08-15  0.024714  0.030815  0.015718         0.01109  0.026109  0.017587   \n",
       "2020-08-16  0.024714  0.030815  0.015718         0.01109  0.026109  0.017587   \n",
       "2020-08-17  0.024714  0.030815  0.015718         0.01109  0.026109  0.017587   \n",
       "\n",
       "Country        Iran     Italy    Kuwait   Moldova    Poland  Portugal  \\\n",
       "Date                                                                    \n",
       "2020-08-13  0.02337  0.005344  0.017123  0.012886  0.014539  0.003195   \n",
       "2020-08-14  0.02337  0.005344  0.017123  0.012886  0.014539  0.003195   \n",
       "2020-08-15  0.02337  0.005344  0.017123  0.012886  0.014539  0.003195   \n",
       "2020-08-16  0.02337  0.005344  0.017123  0.012886  0.014539  0.003195   \n",
       "2020-08-17  0.02337  0.005344  0.017123  0.012886  0.014539  0.003195   \n",
       "\n",
       "Country      Senegal   Ukraine  United Arab Emirates  \n",
       "Date                                                  \n",
       "2020-08-13  0.009133  0.009734              0.010707  \n",
       "2020-08-14  0.009133  0.009734              0.010707  \n",
       "2020-08-15  0.009133  0.009734              0.010707  \n",
       "2020-08-16  0.009133  0.009734              0.010707  \n",
       "2020-08-17  0.009133  0.009734              0.010707  "
      ]
     },
     "execution_count": 15,
     "metadata": {},
     "output_type": "execute_result"
    }
   ],
   "source": [
    "analyser.param_history(\"rho\", roll_window=None).tail()"
   ]
  },
  {
   "cell_type": "markdown",
   "metadata": {},
   "source": [
    "### $\\sigma$: Recovery rate $\\mathrm{[-]}$"
   ]
  },
  {
   "cell_type": "code",
   "execution_count": 16,
   "metadata": {
    "collapsed": false
   },
   "outputs": [
    {
     "data": {
      "image/png": "[encoded data removed]",
      "text/plain": [
       "<Figure size 648x432 with 1 Axes>"
      ]
     },
     "metadata": {},
     "output_type": "display_data"
    },
    {
     "data": {
      "text/html": [
       "<div>\n",
       "<style scoped>\n",
       "    .dataframe tbody tr th:only-of-type {\n",
       "        vertical-align: middle;\n",
       "    }\n",
       "\n",
       "    .dataframe tbody tr th {\n",
       "        vertical-align: top;\n",
       "    }\n",
       "\n",
       "    .dataframe thead th {\n",
       "        text-align: right;\n",
       "    }\n",
       "</style>\n",
       "<table border=\"1\" class=\"dataframe\">\n",
       "  <thead>\n",
       "    <tr style=\"text-align: right;\">\n",
       "      <th>Country</th>\n",
       "      <th>Austria</th>\n",
       "      <th>Bahrain</th>\n",
       "      <th>Canada</th>\n",
       "      <th>Czech Republic</th>\n",
       "      <th>Denmark</th>\n",
       "      <th>Guinea</th>\n",
       "      <th>Iran</th>\n",
       "      <th>Italy</th>\n",
       "      <th>Kuwait</th>\n",
       "      <th>Moldova</th>\n",
       "      <th>Poland</th>\n",
       "      <th>Portugal</th>\n",
       "      <th>Senegal</th>\n",
       "      <th>Ukraine</th>\n",
       "      <th>United Arab Emirates</th>\n",
       "    </tr>\n",
       "    <tr>\n",
       "      <th>Date</th>\n",
       "      <th></th>\n",
       "      <th></th>\n",
       "      <th></th>\n",
       "      <th></th>\n",
       "      <th></th>\n",
       "      <th></th>\n",
       "      <th></th>\n",
       "      <th></th>\n",
       "      <th></th>\n",
       "      <th></th>\n",
       "      <th></th>\n",
       "      <th></th>\n",
       "      <th></th>\n",
       "      <th></th>\n",
       "      <th></th>\n",
       "    </tr>\n",
       "  </thead>\n",
       "  <tbody>\n",
       "    <tr>\n",
       "      <th>2020-08-13</th>\n",
       "      <td>0.016309</td>\n",
       "      <td>0.024275</td>\n",
       "      <td>0.017326</td>\n",
       "      <td>0.007285</td>\n",
       "      <td>0.010494</td>\n",
       "      <td>0.015966</td>\n",
       "      <td>0.020419</td>\n",
       "      <td>0.005176</td>\n",
       "      <td>0.01972</td>\n",
       "      <td>0.009337</td>\n",
       "      <td>0.007756</td>\n",
       "      <td>0.003725</td>\n",
       "      <td>0.002944</td>\n",
       "      <td>0.005376</td>\n",
       "      <td>0.01217</td>\n",
       "    </tr>\n",
       "    <tr>\n",
       "      <th>2020-08-14</th>\n",
       "      <td>0.016309</td>\n",
       "      <td>0.024275</td>\n",
       "      <td>0.017326</td>\n",
       "      <td>0.007285</td>\n",
       "      <td>0.010494</td>\n",
       "      <td>0.015966</td>\n",
       "      <td>0.020419</td>\n",
       "      <td>0.005176</td>\n",
       "      <td>0.01972</td>\n",
       "      <td>0.009337</td>\n",
       "      <td>0.007756</td>\n",
       "      <td>0.003725</td>\n",
       "      <td>0.002944</td>\n",
       "      <td>0.005376</td>\n",
       "      <td>0.01217</td>\n",
       "    </tr>\n",
       "    <tr>\n",
       "      <th>2020-08-15</th>\n",
       "      <td>0.016309</td>\n",
       "      <td>0.024275</td>\n",
       "      <td>0.017326</td>\n",
       "      <td>0.007285</td>\n",
       "      <td>0.010494</td>\n",
       "      <td>0.015966</td>\n",
       "      <td>0.020419</td>\n",
       "      <td>0.005176</td>\n",
       "      <td>0.01972</td>\n",
       "      <td>0.009337</td>\n",
       "      <td>0.007756</td>\n",
       "      <td>0.003725</td>\n",
       "      <td>0.002944</td>\n",
       "      <td>0.005376</td>\n",
       "      <td>0.01217</td>\n",
       "    </tr>\n",
       "    <tr>\n",
       "      <th>2020-08-16</th>\n",
       "      <td>0.016309</td>\n",
       "      <td>0.024275</td>\n",
       "      <td>0.017326</td>\n",
       "      <td>0.007285</td>\n",
       "      <td>0.010494</td>\n",
       "      <td>0.015966</td>\n",
       "      <td>0.020419</td>\n",
       "      <td>0.005176</td>\n",
       "      <td>0.01972</td>\n",
       "      <td>0.009337</td>\n",
       "      <td>0.007756</td>\n",
       "      <td>0.003725</td>\n",
       "      <td>0.002944</td>\n",
       "      <td>0.005376</td>\n",
       "      <td>0.01217</td>\n",
       "    </tr>\n",
       "    <tr>\n",
       "      <th>2020-08-17</th>\n",
       "      <td>0.016309</td>\n",
       "      <td>0.024275</td>\n",
       "      <td>0.017326</td>\n",
       "      <td>0.007285</td>\n",
       "      <td>0.010494</td>\n",
       "      <td>0.015966</td>\n",
       "      <td>0.020419</td>\n",
       "      <td>0.005176</td>\n",
       "      <td>0.01972</td>\n",
       "      <td>0.009337</td>\n",
       "      <td>0.007756</td>\n",
       "      <td>0.003725</td>\n",
       "      <td>0.002944</td>\n",
       "      <td>0.005376</td>\n",
       "      <td>0.01217</td>\n",
       "    </tr>\n",
       "  </tbody>\n",
       "</table>\n",
       "</div>"
      ],
      "text/plain": [
       "Country      Austria   Bahrain    Canada  Czech Republic   Denmark    Guinea  \\\n",
       "Date                                                                           \n",
       "2020-08-13  0.016309  0.024275  0.017326        0.007285  0.010494  0.015966   \n",
       "2020-08-14  0.016309  0.024275  0.017326        0.007285  0.010494  0.015966   \n",
       "2020-08-15  0.016309  0.024275  0.017326        0.007285  0.010494  0.015966   \n",
       "2020-08-16  0.016309  0.024275  0.017326        0.007285  0.010494  0.015966   \n",
       "2020-08-17  0.016309  0.024275  0.017326        0.007285  0.010494  0.015966   \n",
       "\n",
       "Country         Iran     Italy   Kuwait   Moldova    Poland  Portugal  \\\n",
       "Date                                                                    \n",
       "2020-08-13  0.020419  0.005176  0.01972  0.009337  0.007756  0.003725   \n",
       "2020-08-14  0.020419  0.005176  0.01972  0.009337  0.007756  0.003725   \n",
       "2020-08-15  0.020419  0.005176  0.01972  0.009337  0.007756  0.003725   \n",
       "2020-08-16  0.020419  0.005176  0.01972  0.009337  0.007756  0.003725   \n",
       "2020-08-17  0.020419  0.005176  0.01972  0.009337  0.007756  0.003725   \n",
       "\n",
       "Country      Senegal   Ukraine  United Arab Emirates  \n",
       "Date                                                  \n",
       "2020-08-13  0.002944  0.005376               0.01217  \n",
       "2020-08-14  0.002944  0.005376               0.01217  \n",
       "2020-08-15  0.002944  0.005376               0.01217  \n",
       "2020-08-16  0.002944  0.005376               0.01217  \n",
       "2020-08-17  0.002944  0.005376               0.01217  "
      ]
     },
     "execution_count": 16,
     "metadata": {},
     "output_type": "execute_result"
    }
   ],
   "source": [
    "analyser.param_history(\"sigma\", roll_window=None).tail()"
   ]
  },
  {
   "cell_type": "markdown",
   "metadata": {},
   "source": [
    "### $\\kappa$: Mortality rate of infected cases $\\mathrm{[-]}$"
   ]
  },
  {
   "cell_type": "code",
   "execution_count": 17,
   "metadata": {
    "collapsed": false
   },
   "outputs": [
    {
     "data": {
      "image/png": "[encoded data removed]",
      "text/plain": [
       "<Figure size 648x432 with 1 Axes>"
      ]
     },
     "metadata": {},
     "output_type": "display_data"
    },
    {
     "data": {
      "text/html": [
       "<div>\n",
       "<style scoped>\n",
       "    .dataframe tbody tr th:only-of-type {\n",
       "        vertical-align: middle;\n",
       "    }\n",
       "\n",
       "    .dataframe tbody tr th {\n",
       "        vertical-align: top;\n",
       "    }\n",
       "\n",
       "    .dataframe thead th {\n",
       "        text-align: right;\n",
       "    }\n",
       "</style>\n",
       "<table border=\"1\" class=\"dataframe\">\n",
       "  <thead>\n",
       "    <tr style=\"text-align: right;\">\n",
       "      <th>Country</th>\n",
       "      <th>Austria</th>\n",
       "      <th>Bahrain</th>\n",
       "      <th>Canada</th>\n",
       "      <th>Czech Republic</th>\n",
       "      <th>Denmark</th>\n",
       "      <th>Guinea</th>\n",
       "      <th>Iran</th>\n",
       "      <th>Italy</th>\n",
       "      <th>Kuwait</th>\n",
       "      <th>Moldova</th>\n",
       "      <th>Poland</th>\n",
       "      <th>Portugal</th>\n",
       "      <th>Senegal</th>\n",
       "      <th>Ukraine</th>\n",
       "      <th>United Arab Emirates</th>\n",
       "    </tr>\n",
       "    <tr>\n",
       "      <th>Date</th>\n",
       "      <th></th>\n",
       "      <th></th>\n",
       "      <th></th>\n",
       "      <th></th>\n",
       "      <th></th>\n",
       "      <th></th>\n",
       "      <th></th>\n",
       "      <th></th>\n",
       "      <th></th>\n",
       "      <th></th>\n",
       "      <th></th>\n",
       "      <th></th>\n",
       "      <th></th>\n",
       "      <th></th>\n",
       "      <th></th>\n",
       "    </tr>\n",
       "  </thead>\n",
       "  <tbody>\n",
       "    <tr>\n",
       "      <th>2020-08-13</th>\n",
       "      <td>0.000194</td>\n",
       "      <td>0.000117</td>\n",
       "      <td>0.00043</td>\n",
       "      <td>0.000256</td>\n",
       "      <td>0.000036</td>\n",
       "      <td>0.000148</td>\n",
       "      <td>0.000067</td>\n",
       "      <td>0.00001</td>\n",
       "      <td>0.000076</td>\n",
       "      <td>0.000294</td>\n",
       "      <td>0.000046</td>\n",
       "      <td>0.00001</td>\n",
       "      <td>0.000184</td>\n",
       "      <td>0.000168</td>\n",
       "      <td>0.00006</td>\n",
       "    </tr>\n",
       "    <tr>\n",
       "      <th>2020-08-14</th>\n",
       "      <td>0.000194</td>\n",
       "      <td>0.000117</td>\n",
       "      <td>0.00043</td>\n",
       "      <td>0.000256</td>\n",
       "      <td>0.000036</td>\n",
       "      <td>0.000148</td>\n",
       "      <td>0.000067</td>\n",
       "      <td>0.00001</td>\n",
       "      <td>0.000076</td>\n",
       "      <td>0.000294</td>\n",
       "      <td>0.000046</td>\n",
       "      <td>0.00001</td>\n",
       "      <td>0.000184</td>\n",
       "      <td>0.000168</td>\n",
       "      <td>0.00006</td>\n",
       "    </tr>\n",
       "    <tr>\n",
       "      <th>2020-08-15</th>\n",
       "      <td>0.000194</td>\n",
       "      <td>0.000117</td>\n",
       "      <td>0.00043</td>\n",
       "      <td>0.000256</td>\n",
       "      <td>0.000036</td>\n",
       "      <td>0.000148</td>\n",
       "      <td>0.000067</td>\n",
       "      <td>0.00001</td>\n",
       "      <td>0.000076</td>\n",
       "      <td>0.000294</td>\n",
       "      <td>0.000046</td>\n",
       "      <td>0.00001</td>\n",
       "      <td>0.000184</td>\n",
       "      <td>0.000168</td>\n",
       "      <td>0.00006</td>\n",
       "    </tr>\n",
       "    <tr>\n",
       "      <th>2020-08-16</th>\n",
       "      <td>0.000194</td>\n",
       "      <td>0.000117</td>\n",
       "      <td>0.00043</td>\n",
       "      <td>0.000256</td>\n",
       "      <td>0.000036</td>\n",
       "      <td>0.000148</td>\n",
       "      <td>0.000067</td>\n",
       "      <td>0.00001</td>\n",
       "      <td>0.000076</td>\n",
       "      <td>0.000294</td>\n",
       "      <td>0.000046</td>\n",
       "      <td>0.00001</td>\n",
       "      <td>0.000184</td>\n",
       "      <td>0.000168</td>\n",
       "      <td>0.00006</td>\n",
       "    </tr>\n",
       "    <tr>\n",
       "      <th>2020-08-17</th>\n",
       "      <td>0.000194</td>\n",
       "      <td>0.000117</td>\n",
       "      <td>0.00043</td>\n",
       "      <td>0.000256</td>\n",
       "      <td>0.000036</td>\n",
       "      <td>0.000148</td>\n",
       "      <td>0.000067</td>\n",
       "      <td>0.00001</td>\n",
       "      <td>0.000076</td>\n",
       "      <td>0.000294</td>\n",
       "      <td>0.000046</td>\n",
       "      <td>0.00001</td>\n",
       "      <td>0.000184</td>\n",
       "      <td>0.000168</td>\n",
       "      <td>0.00006</td>\n",
       "    </tr>\n",
       "  </tbody>\n",
       "</table>\n",
       "</div>"
      ],
      "text/plain": [
       "Country      Austria   Bahrain   Canada  Czech Republic   Denmark    Guinea  \\\n",
       "Date                                                                          \n",
       "2020-08-13  0.000194  0.000117  0.00043        0.000256  0.000036  0.000148   \n",
       "2020-08-14  0.000194  0.000117  0.00043        0.000256  0.000036  0.000148   \n",
       "2020-08-15  0.000194  0.000117  0.00043        0.000256  0.000036  0.000148   \n",
       "2020-08-16  0.000194  0.000117  0.00043        0.000256  0.000036  0.000148   \n",
       "2020-08-17  0.000194  0.000117  0.00043        0.000256  0.000036  0.000148   \n",
       "\n",
       "Country         Iran    Italy    Kuwait   Moldova    Poland  Portugal  \\\n",
       "Date                                                                    \n",
       "2020-08-13  0.000067  0.00001  0.000076  0.000294  0.000046   0.00001   \n",
       "2020-08-14  0.000067  0.00001  0.000076  0.000294  0.000046   0.00001   \n",
       "2020-08-15  0.000067  0.00001  0.000076  0.000294  0.000046   0.00001   \n",
       "2020-08-16  0.000067  0.00001  0.000076  0.000294  0.000046   0.00001   \n",
       "2020-08-17  0.000067  0.00001  0.000076  0.000294  0.000046   0.00001   \n",
       "\n",
       "Country      Senegal   Ukraine  United Arab Emirates  \n",
       "Date                                                  \n",
       "2020-08-13  0.000184  0.000168               0.00006  \n",
       "2020-08-14  0.000184  0.000168               0.00006  \n",
       "2020-08-15  0.000184  0.000168               0.00006  \n",
       "2020-08-16  0.000184  0.000168               0.00006  \n",
       "2020-08-17  0.000184  0.000168               0.00006  "
      ]
     },
     "execution_count": 17,
     "metadata": {},
     "output_type": "execute_result"
    }
   ],
   "source": [
    "analyser.param_history(\"kappa\", roll_window=None).tail()"
   ]
  },
  {
   "cell_type": "markdown",
   "metadata": {},
   "source": [
    "### $\\theta$: Mortality rate of S$^\\ast$ cases $\\mathrm{[-]}$"
   ]
  },
  {
   "cell_type": "code",
   "execution_count": 18,
   "metadata": {
    "collapsed": false
   },
   "outputs": [
    {
     "data": {
      "image/png": "[encoded data removed]",
      "text/plain": [
       "<Figure size 648x432 with 1 Axes>"
      ]
     },
     "metadata": {},
     "output_type": "display_data"
    },
    {
     "data": {
      "text/html": [
       "<div>\n",
       "<style scoped>\n",
       "    .dataframe tbody tr th:only-of-type {\n",
       "        vertical-align: middle;\n",
       "    }\n",
       "\n",
       "    .dataframe tbody tr th {\n",
       "        vertical-align: top;\n",
       "    }\n",
       "\n",
       "    .dataframe thead th {\n",
       "        text-align: right;\n",
       "    }\n",
       "</style>\n",
       "<table border=\"1\" class=\"dataframe\">\n",
       "  <thead>\n",
       "    <tr style=\"text-align: right;\">\n",
       "      <th>Country</th>\n",
       "      <th>Austria</th>\n",
       "      <th>Bahrain</th>\n",
       "      <th>Canada</th>\n",
       "      <th>Czech Republic</th>\n",
       "      <th>Denmark</th>\n",
       "      <th>Guinea</th>\n",
       "      <th>Iran</th>\n",
       "      <th>Italy</th>\n",
       "      <th>Kuwait</th>\n",
       "      <th>Moldova</th>\n",
       "      <th>Poland</th>\n",
       "      <th>Portugal</th>\n",
       "      <th>Senegal</th>\n",
       "      <th>Ukraine</th>\n",
       "      <th>United Arab Emirates</th>\n",
       "    </tr>\n",
       "    <tr>\n",
       "      <th>Date</th>\n",
       "      <th></th>\n",
       "      <th></th>\n",
       "      <th></th>\n",
       "      <th></th>\n",
       "      <th></th>\n",
       "      <th></th>\n",
       "      <th></th>\n",
       "      <th></th>\n",
       "      <th></th>\n",
       "      <th></th>\n",
       "      <th></th>\n",
       "      <th></th>\n",
       "      <th></th>\n",
       "      <th></th>\n",
       "      <th></th>\n",
       "    </tr>\n",
       "  </thead>\n",
       "  <tbody>\n",
       "    <tr>\n",
       "      <th>2020-08-13</th>\n",
       "      <td>0.001072</td>\n",
       "      <td>0.000966</td>\n",
       "      <td>0.000223</td>\n",
       "      <td>0.000415</td>\n",
       "      <td>0.000955</td>\n",
       "      <td>0.001363</td>\n",
       "      <td>0.071854</td>\n",
       "      <td>0.034478</td>\n",
       "      <td>0.00026</td>\n",
       "      <td>0.000122</td>\n",
       "      <td>0.016707</td>\n",
       "      <td>0.002203</td>\n",
       "      <td>0.000454</td>\n",
       "      <td>0.000133</td>\n",
       "      <td>0.000246</td>\n",
       "    </tr>\n",
       "    <tr>\n",
       "      <th>2020-08-14</th>\n",
       "      <td>0.001072</td>\n",
       "      <td>0.000966</td>\n",
       "      <td>0.000223</td>\n",
       "      <td>0.000415</td>\n",
       "      <td>0.000955</td>\n",
       "      <td>0.001363</td>\n",
       "      <td>0.071854</td>\n",
       "      <td>0.034478</td>\n",
       "      <td>0.00026</td>\n",
       "      <td>0.000122</td>\n",
       "      <td>0.016707</td>\n",
       "      <td>0.002203</td>\n",
       "      <td>0.000454</td>\n",
       "      <td>0.000133</td>\n",
       "      <td>0.000246</td>\n",
       "    </tr>\n",
       "    <tr>\n",
       "      <th>2020-08-15</th>\n",
       "      <td>0.001072</td>\n",
       "      <td>0.000966</td>\n",
       "      <td>0.000223</td>\n",
       "      <td>0.000415</td>\n",
       "      <td>0.000955</td>\n",
       "      <td>0.001363</td>\n",
       "      <td>0.071854</td>\n",
       "      <td>0.034478</td>\n",
       "      <td>0.00026</td>\n",
       "      <td>0.000122</td>\n",
       "      <td>0.016707</td>\n",
       "      <td>0.002203</td>\n",
       "      <td>0.000454</td>\n",
       "      <td>0.000133</td>\n",
       "      <td>0.000246</td>\n",
       "    </tr>\n",
       "    <tr>\n",
       "      <th>2020-08-16</th>\n",
       "      <td>0.001072</td>\n",
       "      <td>0.000966</td>\n",
       "      <td>0.000223</td>\n",
       "      <td>0.000415</td>\n",
       "      <td>0.000955</td>\n",
       "      <td>0.001363</td>\n",
       "      <td>0.071854</td>\n",
       "      <td>0.034478</td>\n",
       "      <td>0.00026</td>\n",
       "      <td>0.000122</td>\n",
       "      <td>0.016707</td>\n",
       "      <td>0.002203</td>\n",
       "      <td>0.000454</td>\n",
       "      <td>0.000133</td>\n",
       "      <td>0.000246</td>\n",
       "    </tr>\n",
       "    <tr>\n",
       "      <th>2020-08-17</th>\n",
       "      <td>0.001072</td>\n",
       "      <td>0.000966</td>\n",
       "      <td>0.000223</td>\n",
       "      <td>0.000415</td>\n",
       "      <td>0.000955</td>\n",
       "      <td>0.001363</td>\n",
       "      <td>0.071854</td>\n",
       "      <td>0.034478</td>\n",
       "      <td>0.00026</td>\n",
       "      <td>0.000122</td>\n",
       "      <td>0.016707</td>\n",
       "      <td>0.002203</td>\n",
       "      <td>0.000454</td>\n",
       "      <td>0.000133</td>\n",
       "      <td>0.000246</td>\n",
       "    </tr>\n",
       "  </tbody>\n",
       "</table>\n",
       "</div>"
      ],
      "text/plain": [
       "Country      Austria   Bahrain    Canada  Czech Republic   Denmark    Guinea  \\\n",
       "Date                                                                           \n",
       "2020-08-13  0.001072  0.000966  0.000223        0.000415  0.000955  0.001363   \n",
       "2020-08-14  0.001072  0.000966  0.000223        0.000415  0.000955  0.001363   \n",
       "2020-08-15  0.001072  0.000966  0.000223        0.000415  0.000955  0.001363   \n",
       "2020-08-16  0.001072  0.000966  0.000223        0.000415  0.000955  0.001363   \n",
       "2020-08-17  0.001072  0.000966  0.000223        0.000415  0.000955  0.001363   \n",
       "\n",
       "Country         Iran     Italy   Kuwait   Moldova    Poland  Portugal  \\\n",
       "Date                                                                    \n",
       "2020-08-13  0.071854  0.034478  0.00026  0.000122  0.016707  0.002203   \n",
       "2020-08-14  0.071854  0.034478  0.00026  0.000122  0.016707  0.002203   \n",
       "2020-08-15  0.071854  0.034478  0.00026  0.000122  0.016707  0.002203   \n",
       "2020-08-16  0.071854  0.034478  0.00026  0.000122  0.016707  0.002203   \n",
       "2020-08-17  0.071854  0.034478  0.00026  0.000122  0.016707  0.002203   \n",
       "\n",
       "Country      Senegal   Ukraine  United Arab Emirates  \n",
       "Date                                                  \n",
       "2020-08-13  0.000454  0.000133              0.000246  \n",
       "2020-08-14  0.000454  0.000133              0.000246  \n",
       "2020-08-15  0.000454  0.000133              0.000246  \n",
       "2020-08-16  0.000454  0.000133              0.000246  \n",
       "2020-08-17  0.000454  0.000133              0.000246  "
      ]
     },
     "execution_count": 18,
     "metadata": {},
     "output_type": "execute_result"
    }
   ],
   "source": [
    "analyser.param_history(\"theta\", roll_window=None).tail()"
   ]
  },
  {
   "cell_type": "markdown",
   "metadata": {},
   "source": [
    "## (Experimental): Relationship of OxCGRT index and parameter values\n",
    "Government responses will impact on parameter values of ODE models about 14 days later. Here, we will investigate on the relationship of [stringency index (from OxCGRT)](https://github.com/OxCGRT/covid-policy-tracker/blob/master/documentation/index_methodology.md) and reproduction number/model parameters.\n"
   ]
  },
  {
   "cell_type": "code",
   "execution_count": 19,
   "metadata": {
    "collapsed": false
   },
   "outputs": [],
   "source": [
    "%matplotlib inline\n",
    "from matplotlib import pyplot as plt\n",
    "import seaborn as sns\n",
    "import pandas as pd"
   ]
  },
  {
   "cell_type": "code",
   "execution_count": 20,
   "metadata": {
    "collapsed": false
   },
   "outputs": [
    {
     "name": "stdout",
     "output_type": "stream",
     "text": [
      "<class 'pandas.core.frame.DataFrame'>\n",
      "Int64Index: 8517 entries, 0 to 8712\n",
      "Data columns (total 19 columns):\n",
      " #   Column                               Non-Null Count  Dtype         \n",
      "---  ------                               --------------  -----         \n",
      " 0   Date                                 8517 non-null   datetime64[ns]\n",
      " 1   Country                              8517 non-null   object        \n",
      " 2   Rt                                   8517 non-null   object        \n",
      " 3   theta                                8517 non-null   object        \n",
      " 4   kappa                                8517 non-null   object        \n",
      " 5   rho                                  8517 non-null   object        \n",
      " 6   sigma                                8517 non-null   object        \n",
      " 7   School_closing                       8517 non-null   int64         \n",
      " 8   Workplace_closing                    8517 non-null   int64         \n",
      " 9   Cancel_events                        8517 non-null   int64         \n",
      " 10  Gatherings_restrictions              8517 non-null   int64         \n",
      " 11  Transport_closing                    8517 non-null   int64         \n",
      " 12  Stay_home_restrictions               8517 non-null   int64         \n",
      " 13  Internal_movement_restrictions       8517 non-null   int64         \n",
      " 14  International_movement_restrictions  8517 non-null   int64         \n",
      " 15  Information_campaigns                8517 non-null   int64         \n",
      " 16  Testing_policy                       8517 non-null   int64         \n",
      " 17  Contact_tracing                      8517 non-null   int64         \n",
      " 18  Stringency_index                     8517 non-null   float64       \n",
      "dtypes: datetime64[ns](1), float64(1), int64(11), object(6)\n",
      "memory usage: 1.3+ MB\n"
     ]
    }
   ],
   "source": [
    "df = analyser.track()\n",
    "param_cols = [\"Rt\", *cs.SIRF.PARAMETERS]\n",
    "oxcgrt_cols = oxcgrt_data.OXCGRT_VARS[:]\n",
    "cols = param_cols + oxcgrt_cols\n",
    "delay = 14\n",
    "\n",
    "for col in param_cols:\n",
    "    series = pd.to_numeric(df[col], errors=\"coerce\")\n",
    "    df[col] = df.groupby(\"Country\")[col].shift(0 - delay)\n",
    "\n",
    "df = df.dropna(how=\"any\")\n",
    "df = df.loc[:, [\"Date\", \"Country\", *cols]]\n",
    "track_df = df.copy()\n",
    "track_df.info()"
   ]
  },
  {
   "cell_type": "code",
   "execution_count": 21,
   "metadata": {
    "collapsed": false
   },
   "outputs": [
    {
     "data": {
      "text/html": [
       "<style  type=\"text/css\" >\n",
       "#T_99105456_e098_11ea_a0c1_525400fe8b87row0_col0,#T_99105456_e098_11ea_a0c1_525400fe8b87row1_col1,#T_99105456_e098_11ea_a0c1_525400fe8b87row2_col2,#T_99105456_e098_11ea_a0c1_525400fe8b87row3_col3,#T_99105456_e098_11ea_a0c1_525400fe8b87row4_col4,#T_99105456_e098_11ea_a0c1_525400fe8b87row5_col5,#T_99105456_e098_11ea_a0c1_525400fe8b87row6_col6,#T_99105456_e098_11ea_a0c1_525400fe8b87row7_col7,#T_99105456_e098_11ea_a0c1_525400fe8b87row8_col8,#T_99105456_e098_11ea_a0c1_525400fe8b87row9_col9,#T_99105456_e098_11ea_a0c1_525400fe8b87row10_col10,#T_99105456_e098_11ea_a0c1_525400fe8b87row11_col11{\n",
       "            background-color:  #023858;\n",
       "            color:  #f1f1f1;\n",
       "        }#T_99105456_e098_11ea_a0c1_525400fe8b87row0_col1,#T_99105456_e098_11ea_a0c1_525400fe8b87row1_col0{\n",
       "            background-color:  #2786bb;\n",
       "            color:  #000000;\n",
       "        }#T_99105456_e098_11ea_a0c1_525400fe8b87row0_col2,#T_99105456_e098_11ea_a0c1_525400fe8b87row2_col0{\n",
       "            background-color:  #046198;\n",
       "            color:  #f1f1f1;\n",
       "        }#T_99105456_e098_11ea_a0c1_525400fe8b87row0_col3,#T_99105456_e098_11ea_a0c1_525400fe8b87row3_col0{\n",
       "            background-color:  #4c99c5;\n",
       "            color:  #000000;\n",
       "        }#T_99105456_e098_11ea_a0c1_525400fe8b87row0_col4,#T_99105456_e098_11ea_a0c1_525400fe8b87row4_col0{\n",
       "            background-color:  #94b6d7;\n",
       "            color:  #000000;\n",
       "        }#T_99105456_e098_11ea_a0c1_525400fe8b87row0_col5,#T_99105456_e098_11ea_a0c1_525400fe8b87row5_col0{\n",
       "            background-color:  #2484ba;\n",
       "            color:  #000000;\n",
       "        }#T_99105456_e098_11ea_a0c1_525400fe8b87row0_col6,#T_99105456_e098_11ea_a0c1_525400fe8b87row6_col0{\n",
       "            background-color:  #69a5cc;\n",
       "            color:  #000000;\n",
       "        }#T_99105456_e098_11ea_a0c1_525400fe8b87row0_col7,#T_99105456_e098_11ea_a0c1_525400fe8b87row7_col0{\n",
       "            background-color:  #a7bddb;\n",
       "            color:  #000000;\n",
       "        }#T_99105456_e098_11ea_a0c1_525400fe8b87row0_col8,#T_99105456_e098_11ea_a0c1_525400fe8b87row8_col0{\n",
       "            background-color:  #c2cbe2;\n",
       "            color:  #000000;\n",
       "        }#T_99105456_e098_11ea_a0c1_525400fe8b87row0_col9,#T_99105456_e098_11ea_a0c1_525400fe8b87row4_col10,#T_99105456_e098_11ea_a0c1_525400fe8b87row9_col0,#T_99105456_e098_11ea_a0c1_525400fe8b87row10_col4{\n",
       "            background-color:  #96b6d7;\n",
       "            color:  #000000;\n",
       "        }#T_99105456_e098_11ea_a0c1_525400fe8b87row0_col10,#T_99105456_e098_11ea_a0c1_525400fe8b87row10_col0{\n",
       "            background-color:  #e6e2ef;\n",
       "            color:  #000000;\n",
       "        }#T_99105456_e098_11ea_a0c1_525400fe8b87row0_col11,#T_99105456_e098_11ea_a0c1_525400fe8b87row6_col11,#T_99105456_e098_11ea_a0c1_525400fe8b87row11_col0,#T_99105456_e098_11ea_a0c1_525400fe8b87row11_col6{\n",
       "            background-color:  #056ead;\n",
       "            color:  #f1f1f1;\n",
       "        }#T_99105456_e098_11ea_a0c1_525400fe8b87row1_col2,#T_99105456_e098_11ea_a0c1_525400fe8b87row2_col1,#T_99105456_e098_11ea_a0c1_525400fe8b87row7_col9,#T_99105456_e098_11ea_a0c1_525400fe8b87row9_col7{\n",
       "            background-color:  #2182b9;\n",
       "            color:  #000000;\n",
       "        }#T_99105456_e098_11ea_a0c1_525400fe8b87row1_col3,#T_99105456_e098_11ea_a0c1_525400fe8b87row3_col1{\n",
       "            background-color:  #1b7eb7;\n",
       "            color:  #000000;\n",
       "        }#T_99105456_e098_11ea_a0c1_525400fe8b87row1_col4,#T_99105456_e098_11ea_a0c1_525400fe8b87row4_col1{\n",
       "            background-color:  #549cc7;\n",
       "            color:  #000000;\n",
       "        }#T_99105456_e098_11ea_a0c1_525400fe8b87row1_col5,#T_99105456_e098_11ea_a0c1_525400fe8b87row5_col1{\n",
       "            background-color:  #056fae;\n",
       "            color:  #f1f1f1;\n",
       "        }#T_99105456_e098_11ea_a0c1_525400fe8b87row1_col6,#T_99105456_e098_11ea_a0c1_525400fe8b87row6_col1{\n",
       "            background-color:  #2685bb;\n",
       "            color:  #000000;\n",
       "        }#T_99105456_e098_11ea_a0c1_525400fe8b87row1_col7,#T_99105456_e098_11ea_a0c1_525400fe8b87row7_col1{\n",
       "            background-color:  #5a9ec9;\n",
       "            color:  #000000;\n",
       "        }#T_99105456_e098_11ea_a0c1_525400fe8b87row1_col8,#T_99105456_e098_11ea_a0c1_525400fe8b87row8_col1{\n",
       "            background-color:  #b8c6e0;\n",
       "            color:  #000000;\n",
       "        }#T_99105456_e098_11ea_a0c1_525400fe8b87row1_col9,#T_99105456_e098_11ea_a0c1_525400fe8b87row9_col1{\n",
       "            background-color:  #65a3cb;\n",
       "            color:  #000000;\n",
       "        }#T_99105456_e098_11ea_a0c1_525400fe8b87row1_col10,#T_99105456_e098_11ea_a0c1_525400fe8b87row10_col1{\n",
       "            background-color:  #f2ecf5;\n",
       "            color:  #000000;\n",
       "        }#T_99105456_e098_11ea_a0c1_525400fe8b87row1_col11,#T_99105456_e098_11ea_a0c1_525400fe8b87row11_col1{\n",
       "            background-color:  #045e94;\n",
       "            color:  #f1f1f1;\n",
       "        }#T_99105456_e098_11ea_a0c1_525400fe8b87row2_col3,#T_99105456_e098_11ea_a0c1_525400fe8b87row3_col2,#T_99105456_e098_11ea_a0c1_525400fe8b87row6_col9,#T_99105456_e098_11ea_a0c1_525400fe8b87row9_col6{\n",
       "            background-color:  #4496c3;\n",
       "            color:  #000000;\n",
       "        }#T_99105456_e098_11ea_a0c1_525400fe8b87row2_col4,#T_99105456_e098_11ea_a0c1_525400fe8b87row3_col8,#T_99105456_e098_11ea_a0c1_525400fe8b87row4_col2,#T_99105456_e098_11ea_a0c1_525400fe8b87row8_col3{\n",
       "            background-color:  #afc1dd;\n",
       "            color:  #000000;\n",
       "        }#T_99105456_e098_11ea_a0c1_525400fe8b87row2_col5,#T_99105456_e098_11ea_a0c1_525400fe8b87row5_col2{\n",
       "            background-color:  #2c89bd;\n",
       "            color:  #000000;\n",
       "        }#T_99105456_e098_11ea_a0c1_525400fe8b87row2_col6,#T_99105456_e098_11ea_a0c1_525400fe8b87row6_col2{\n",
       "            background-color:  #80aed2;\n",
       "            color:  #000000;\n",
       "        }#T_99105456_e098_11ea_a0c1_525400fe8b87row2_col7,#T_99105456_e098_11ea_a0c1_525400fe8b87row7_col2{\n",
       "            background-color:  #acc0dd;\n",
       "            color:  #000000;\n",
       "        }#T_99105456_e098_11ea_a0c1_525400fe8b87row2_col8,#T_99105456_e098_11ea_a0c1_525400fe8b87row8_col2{\n",
       "            background-color:  #c1cae2;\n",
       "            color:  #000000;\n",
       "        }#T_99105456_e098_11ea_a0c1_525400fe8b87row2_col9,#T_99105456_e098_11ea_a0c1_525400fe8b87row9_col2{\n",
       "            background-color:  #9ab8d8;\n",
       "            color:  #000000;\n",
       "        }#T_99105456_e098_11ea_a0c1_525400fe8b87row2_col10,#T_99105456_e098_11ea_a0c1_525400fe8b87row4_col8,#T_99105456_e098_11ea_a0c1_525400fe8b87row8_col4,#T_99105456_e098_11ea_a0c1_525400fe8b87row10_col2{\n",
       "            background-color:  #e0deed;\n",
       "            color:  #000000;\n",
       "        }#T_99105456_e098_11ea_a0c1_525400fe8b87row2_col11,#T_99105456_e098_11ea_a0c1_525400fe8b87row11_col2{\n",
       "            background-color:  #0f76b3;\n",
       "            color:  #f1f1f1;\n",
       "        }#T_99105456_e098_11ea_a0c1_525400fe8b87row3_col4,#T_99105456_e098_11ea_a0c1_525400fe8b87row4_col3{\n",
       "            background-color:  #63a2cb;\n",
       "            color:  #000000;\n",
       "        }#T_99105456_e098_11ea_a0c1_525400fe8b87row3_col5,#T_99105456_e098_11ea_a0c1_525400fe8b87row5_col3{\n",
       "            background-color:  #2d8abd;\n",
       "            color:  #000000;\n",
       "        }#T_99105456_e098_11ea_a0c1_525400fe8b87row3_col6,#T_99105456_e098_11ea_a0c1_525400fe8b87row6_col3{\n",
       "            background-color:  #3790c0;\n",
       "            color:  #000000;\n",
       "        }#T_99105456_e098_11ea_a0c1_525400fe8b87row3_col7,#T_99105456_e098_11ea_a0c1_525400fe8b87row7_col3{\n",
       "            background-color:  #1278b4;\n",
       "            color:  #f1f1f1;\n",
       "        }#T_99105456_e098_11ea_a0c1_525400fe8b87row3_col9,#T_99105456_e098_11ea_a0c1_525400fe8b87row9_col3{\n",
       "            background-color:  #348ebf;\n",
       "            color:  #000000;\n",
       "        }#T_99105456_e098_11ea_a0c1_525400fe8b87row3_col10,#T_99105456_e098_11ea_a0c1_525400fe8b87row10_col3{\n",
       "            background-color:  #f5eef6;\n",
       "            color:  #000000;\n",
       "        }#T_99105456_e098_11ea_a0c1_525400fe8b87row3_col11,#T_99105456_e098_11ea_a0c1_525400fe8b87row11_col3{\n",
       "            background-color:  #04649e;\n",
       "            color:  #f1f1f1;\n",
       "        }#T_99105456_e098_11ea_a0c1_525400fe8b87row4_col5,#T_99105456_e098_11ea_a0c1_525400fe8b87row5_col4{\n",
       "            background-color:  #1e80b8;\n",
       "            color:  #000000;\n",
       "        }#T_99105456_e098_11ea_a0c1_525400fe8b87row4_col6,#T_99105456_e098_11ea_a0c1_525400fe8b87row6_col4{\n",
       "            background-color:  #4094c3;\n",
       "            color:  #000000;\n",
       "        }#T_99105456_e098_11ea_a0c1_525400fe8b87row4_col7,#T_99105456_e098_11ea_a0c1_525400fe8b87row7_col4{\n",
       "            background-color:  #adc1dd;\n",
       "            color:  #000000;\n",
       "        }#T_99105456_e098_11ea_a0c1_525400fe8b87row4_col9,#T_99105456_e098_11ea_a0c1_525400fe8b87row9_col4{\n",
       "            background-color:  #d5d5e8;\n",
       "            color:  #000000;\n",
       "        }#T_99105456_e098_11ea_a0c1_525400fe8b87row4_col11,#T_99105456_e098_11ea_a0c1_525400fe8b87row11_col4{\n",
       "            background-color:  #056faf;\n",
       "            color:  #f1f1f1;\n",
       "        }#T_99105456_e098_11ea_a0c1_525400fe8b87row5_col6,#T_99105456_e098_11ea_a0c1_525400fe8b87row6_col5{\n",
       "            background-color:  #3991c1;\n",
       "            color:  #000000;\n",
       "        }#T_99105456_e098_11ea_a0c1_525400fe8b87row5_col7,#T_99105456_e098_11ea_a0c1_525400fe8b87row7_col5{\n",
       "            background-color:  #8bb2d4;\n",
       "            color:  #000000;\n",
       "        }#T_99105456_e098_11ea_a0c1_525400fe8b87row5_col8,#T_99105456_e098_11ea_a0c1_525400fe8b87row8_col5{\n",
       "            background-color:  #b5c4df;\n",
       "            color:  #000000;\n",
       "        }#T_99105456_e098_11ea_a0c1_525400fe8b87row5_col9,#T_99105456_e098_11ea_a0c1_525400fe8b87row5_col10,#T_99105456_e098_11ea_a0c1_525400fe8b87row9_col5,#T_99105456_e098_11ea_a0c1_525400fe8b87row10_col5{\n",
       "            background-color:  #bbc7e0;\n",
       "            color:  #000000;\n",
       "        }#T_99105456_e098_11ea_a0c1_525400fe8b87row5_col11,#T_99105456_e098_11ea_a0c1_525400fe8b87row11_col5{\n",
       "            background-color:  #045687;\n",
       "            color:  #f1f1f1;\n",
       "        }#T_99105456_e098_11ea_a0c1_525400fe8b87row6_col7,#T_99105456_e098_11ea_a0c1_525400fe8b87row7_col6{\n",
       "            background-color:  #2a88bc;\n",
       "            color:  #000000;\n",
       "        }#T_99105456_e098_11ea_a0c1_525400fe8b87row6_col8,#T_99105456_e098_11ea_a0c1_525400fe8b87row8_col6{\n",
       "            background-color:  #d0d1e6;\n",
       "            color:  #000000;\n",
       "        }#T_99105456_e098_11ea_a0c1_525400fe8b87row6_col10,#T_99105456_e098_11ea_a0c1_525400fe8b87row10_col6{\n",
       "            background-color:  #fff7fb;\n",
       "            color:  #000000;\n",
       "        }#T_99105456_e098_11ea_a0c1_525400fe8b87row7_col8,#T_99105456_e098_11ea_a0c1_525400fe8b87row8_col7{\n",
       "            background-color:  #9cb9d9;\n",
       "            color:  #000000;\n",
       "        }#T_99105456_e098_11ea_a0c1_525400fe8b87row7_col10,#T_99105456_e098_11ea_a0c1_525400fe8b87row9_col10,#T_99105456_e098_11ea_a0c1_525400fe8b87row10_col7,#T_99105456_e098_11ea_a0c1_525400fe8b87row10_col9{\n",
       "            background-color:  #f7f0f7;\n",
       "            color:  #000000;\n",
       "        }#T_99105456_e098_11ea_a0c1_525400fe8b87row7_col11,#T_99105456_e098_11ea_a0c1_525400fe8b87row11_col7{\n",
       "            background-color:  #3f93c2;\n",
       "            color:  #000000;\n",
       "        }#T_99105456_e098_11ea_a0c1_525400fe8b87row8_col9,#T_99105456_e098_11ea_a0c1_525400fe8b87row9_col8{\n",
       "            background-color:  #71a8ce;\n",
       "            color:  #000000;\n",
       "        }#T_99105456_e098_11ea_a0c1_525400fe8b87row8_col10,#T_99105456_e098_11ea_a0c1_525400fe8b87row10_col8{\n",
       "            background-color:  #8cb3d5;\n",
       "            color:  #000000;\n",
       "        }#T_99105456_e098_11ea_a0c1_525400fe8b87row8_col11,#T_99105456_e098_11ea_a0c1_525400fe8b87row11_col8{\n",
       "            background-color:  #bfc9e1;\n",
       "            color:  #000000;\n",
       "        }#T_99105456_e098_11ea_a0c1_525400fe8b87row9_col11,#T_99105456_e098_11ea_a0c1_525400fe8b87row11_col9{\n",
       "            background-color:  #83afd3;\n",
       "            color:  #000000;\n",
       "        }#T_99105456_e098_11ea_a0c1_525400fe8b87row10_col11,#T_99105456_e098_11ea_a0c1_525400fe8b87row11_col10{\n",
       "            background-color:  #e3e0ee;\n",
       "            color:  #000000;\n",
       "        }</style><table id=\"T_99105456_e098_11ea_a0c1_525400fe8b87\" ><thead>    <tr>        <th class=\"blank level0\" ></th>        <th class=\"col_heading level0 col0\" >School_closing</th>        <th class=\"col_heading level0 col1\" >Workplace_closing</th>        <th class=\"col_heading level0 col2\" >Cancel_events</th>        <th class=\"col_heading level0 col3\" >Gatherings_restrictions</th>        <th class=\"col_heading level0 col4\" >Transport_closing</th>        <th class=\"col_heading level0 col5\" >Stay_home_restrictions</th>        <th class=\"col_heading level0 col6\" >Internal_movement_restrictions</th>        <th class=\"col_heading level0 col7\" >International_movement_restrictions</th>        <th class=\"col_heading level0 col8\" >Information_campaigns</th>        <th class=\"col_heading level0 col9\" >Testing_policy</th>        <th class=\"col_heading level0 col10\" >Contact_tracing</th>        <th class=\"col_heading level0 col11\" >Stringency_index</th>    </tr></thead><tbody>\n",
       "                <tr>\n",
       "                        <th id=\"T_99105456_e098_11ea_a0c1_525400fe8b87level0_row0\" class=\"row_heading level0 row0\" >School_closing</th>\n",
       "                        <td id=\"T_99105456_e098_11ea_a0c1_525400fe8b87row0_col0\" class=\"data row0 col0\" >1.000000</td>\n",
       "                        <td id=\"T_99105456_e098_11ea_a0c1_525400fe8b87row0_col1\" class=\"data row0 col1\" >0.492525</td>\n",
       "                        <td id=\"T_99105456_e098_11ea_a0c1_525400fe8b87row0_col2\" class=\"data row0 col2\" >0.749850</td>\n",
       "                        <td id=\"T_99105456_e098_11ea_a0c1_525400fe8b87row0_col3\" class=\"data row0 col3\" >0.368488</td>\n",
       "                        <td id=\"T_99105456_e098_11ea_a0c1_525400fe8b87row0_col4\" class=\"data row0 col4\" >0.128449</td>\n",
       "                        <td id=\"T_99105456_e098_11ea_a0c1_525400fe8b87row0_col5\" class=\"data row0 col5\" >0.501809</td>\n",
       "                        <td id=\"T_99105456_e098_11ea_a0c1_525400fe8b87row0_col6\" class=\"data row0 col6\" >0.282660</td>\n",
       "                        <td id=\"T_99105456_e098_11ea_a0c1_525400fe8b87row0_col7\" class=\"data row0 col7\" >0.055911</td>\n",
       "                        <td id=\"T_99105456_e098_11ea_a0c1_525400fe8b87row0_col8\" class=\"data row0 col8\" >-0.068235</td>\n",
       "                        <td id=\"T_99105456_e098_11ea_a0c1_525400fe8b87row0_col9\" class=\"data row0 col9\" >0.123545</td>\n",
       "                        <td id=\"T_99105456_e098_11ea_a0c1_525400fe8b87row0_col10\" class=\"data row0 col10\" >-0.269975</td>\n",
       "                        <td id=\"T_99105456_e098_11ea_a0c1_525400fe8b87row0_col11\" class=\"data row0 col11\" >0.636712</td>\n",
       "            </tr>\n",
       "            <tr>\n",
       "                        <th id=\"T_99105456_e098_11ea_a0c1_525400fe8b87level0_row1\" class=\"row_heading level0 row1\" >Workplace_closing</th>\n",
       "                        <td id=\"T_99105456_e098_11ea_a0c1_525400fe8b87row1_col0\" class=\"data row1 col0\" >0.492525</td>\n",
       "                        <td id=\"T_99105456_e098_11ea_a0c1_525400fe8b87row1_col1\" class=\"data row1 col1\" >1.000000</td>\n",
       "                        <td id=\"T_99105456_e098_11ea_a0c1_525400fe8b87row1_col2\" class=\"data row1 col2\" >0.513188</td>\n",
       "                        <td id=\"T_99105456_e098_11ea_a0c1_525400fe8b87row1_col3\" class=\"data row1 col3\" >0.536411</td>\n",
       "                        <td id=\"T_99105456_e098_11ea_a0c1_525400fe8b87row1_col4\" class=\"data row1 col4\" >0.343377</td>\n",
       "                        <td id=\"T_99105456_e098_11ea_a0c1_525400fe8b87row1_col5\" class=\"data row1 col5\" >0.635574</td>\n",
       "                        <td id=\"T_99105456_e098_11ea_a0c1_525400fe8b87row1_col6\" class=\"data row1 col6\" >0.497616</td>\n",
       "                        <td id=\"T_99105456_e098_11ea_a0c1_525400fe8b87row1_col7\" class=\"data row1 col7\" >0.326914</td>\n",
       "                        <td id=\"T_99105456_e098_11ea_a0c1_525400fe8b87row1_col8\" class=\"data row1 col8\" >-0.020980</td>\n",
       "                        <td id=\"T_99105456_e098_11ea_a0c1_525400fe8b87row1_col9\" class=\"data row1 col9\" >0.294579</td>\n",
       "                        <td id=\"T_99105456_e098_11ea_a0c1_525400fe8b87row1_col10\" class=\"data row1 col10\" >-0.377196</td>\n",
       "                        <td id=\"T_99105456_e098_11ea_a0c1_525400fe8b87row1_col11\" class=\"data row1 col11\" >0.773292</td>\n",
       "            </tr>\n",
       "            <tr>\n",
       "                        <th id=\"T_99105456_e098_11ea_a0c1_525400fe8b87level0_row2\" class=\"row_heading level0 row2\" >Cancel_events</th>\n",
       "                        <td id=\"T_99105456_e098_11ea_a0c1_525400fe8b87row2_col0\" class=\"data row2 col0\" >0.749850</td>\n",
       "                        <td id=\"T_99105456_e098_11ea_a0c1_525400fe8b87row2_col1\" class=\"data row2 col1\" >0.513188</td>\n",
       "                        <td id=\"T_99105456_e098_11ea_a0c1_525400fe8b87row2_col2\" class=\"data row2 col2\" >1.000000</td>\n",
       "                        <td id=\"T_99105456_e098_11ea_a0c1_525400fe8b87row2_col3\" class=\"data row2 col3\" >0.390500</td>\n",
       "                        <td id=\"T_99105456_e098_11ea_a0c1_525400fe8b87row2_col4\" class=\"data row2 col4\" >0.023887</td>\n",
       "                        <td id=\"T_99105456_e098_11ea_a0c1_525400fe8b87row2_col5\" class=\"data row2 col5\" >0.474247</td>\n",
       "                        <td id=\"T_99105456_e098_11ea_a0c1_525400fe8b87row2_col6\" class=\"data row2 col6\" >0.202698</td>\n",
       "                        <td id=\"T_99105456_e098_11ea_a0c1_525400fe8b87row2_col7\" class=\"data row2 col7\" >0.032190</td>\n",
       "                        <td id=\"T_99105456_e098_11ea_a0c1_525400fe8b87row2_col8\" class=\"data row2 col8\" >-0.060421</td>\n",
       "                        <td id=\"T_99105456_e098_11ea_a0c1_525400fe8b87row2_col9\" class=\"data row2 col9\" >0.106031</td>\n",
       "                        <td id=\"T_99105456_e098_11ea_a0c1_525400fe8b87row2_col10\" class=\"data row2 col10\" >-0.233604</td>\n",
       "                        <td id=\"T_99105456_e098_11ea_a0c1_525400fe8b87row2_col11\" class=\"data row2 col11\" >0.585337</td>\n",
       "            </tr>\n",
       "            <tr>\n",
       "                        <th id=\"T_99105456_e098_11ea_a0c1_525400fe8b87level0_row3\" class=\"row_heading level0 row3\" >Gatherings_restrictions</th>\n",
       "                        <td id=\"T_99105456_e098_11ea_a0c1_525400fe8b87row3_col0\" class=\"data row3 col0\" >0.368488</td>\n",
       "                        <td id=\"T_99105456_e098_11ea_a0c1_525400fe8b87row3_col1\" class=\"data row3 col1\" >0.536411</td>\n",
       "                        <td id=\"T_99105456_e098_11ea_a0c1_525400fe8b87row3_col2\" class=\"data row3 col2\" >0.390500</td>\n",
       "                        <td id=\"T_99105456_e098_11ea_a0c1_525400fe8b87row3_col3\" class=\"data row3 col3\" >1.000000</td>\n",
       "                        <td id=\"T_99105456_e098_11ea_a0c1_525400fe8b87row3_col4\" class=\"data row3 col4\" >0.300138</td>\n",
       "                        <td id=\"T_99105456_e098_11ea_a0c1_525400fe8b87row3_col5\" class=\"data row3 col5\" >0.469670</td>\n",
       "                        <td id=\"T_99105456_e098_11ea_a0c1_525400fe8b87row3_col6\" class=\"data row3 col6\" >0.431994</td>\n",
       "                        <td id=\"T_99105456_e098_11ea_a0c1_525400fe8b87row3_col7\" class=\"data row3 col7\" >0.571992</td>\n",
       "                        <td id=\"T_99105456_e098_11ea_a0c1_525400fe8b87row3_col8\" class=\"data row3 col8\" >0.020072</td>\n",
       "                        <td id=\"T_99105456_e098_11ea_a0c1_525400fe8b87row3_col9\" class=\"data row3 col9\" >0.446205</td>\n",
       "                        <td id=\"T_99105456_e098_11ea_a0c1_525400fe8b87row3_col10\" class=\"data row3 col10\" >-0.399295</td>\n",
       "                        <td id=\"T_99105456_e098_11ea_a0c1_525400fe8b87row3_col11\" class=\"data row3 col11\" >0.721358</td>\n",
       "            </tr>\n",
       "            <tr>\n",
       "                        <th id=\"T_99105456_e098_11ea_a0c1_525400fe8b87level0_row4\" class=\"row_heading level0 row4\" >Transport_closing</th>\n",
       "                        <td id=\"T_99105456_e098_11ea_a0c1_525400fe8b87row4_col0\" class=\"data row4 col0\" >0.128449</td>\n",
       "                        <td id=\"T_99105456_e098_11ea_a0c1_525400fe8b87row4_col1\" class=\"data row4 col1\" >0.343377</td>\n",
       "                        <td id=\"T_99105456_e098_11ea_a0c1_525400fe8b87row4_col2\" class=\"data row4 col2\" >0.023887</td>\n",
       "                        <td id=\"T_99105456_e098_11ea_a0c1_525400fe8b87row4_col3\" class=\"data row4 col3\" >0.300138</td>\n",
       "                        <td id=\"T_99105456_e098_11ea_a0c1_525400fe8b87row4_col4\" class=\"data row4 col4\" >1.000000</td>\n",
       "                        <td id=\"T_99105456_e098_11ea_a0c1_525400fe8b87row4_col5\" class=\"data row4 col5\" >0.527585</td>\n",
       "                        <td id=\"T_99105456_e098_11ea_a0c1_525400fe8b87row4_col6\" class=\"data row4 col6\" >0.406647</td>\n",
       "                        <td id=\"T_99105456_e098_11ea_a0c1_525400fe8b87row4_col7\" class=\"data row4 col7\" >0.029508</td>\n",
       "                        <td id=\"T_99105456_e098_11ea_a0c1_525400fe8b87row4_col8\" class=\"data row4 col8\" >-0.238116</td>\n",
       "                        <td id=\"T_99105456_e098_11ea_a0c1_525400fe8b87row4_col9\" class=\"data row4 col9\" >-0.158645</td>\n",
       "                        <td id=\"T_99105456_e098_11ea_a0c1_525400fe8b87row4_col10\" class=\"data row4 col10\" >0.119279</td>\n",
       "                        <td id=\"T_99105456_e098_11ea_a0c1_525400fe8b87row4_col11\" class=\"data row4 col11\" >0.625303</td>\n",
       "            </tr>\n",
       "            <tr>\n",
       "                        <th id=\"T_99105456_e098_11ea_a0c1_525400fe8b87level0_row5\" class=\"row_heading level0 row5\" >Stay_home_restrictions</th>\n",
       "                        <td id=\"T_99105456_e098_11ea_a0c1_525400fe8b87row5_col0\" class=\"data row5 col0\" >0.501809</td>\n",
       "                        <td id=\"T_99105456_e098_11ea_a0c1_525400fe8b87row5_col1\" class=\"data row5 col1\" >0.635574</td>\n",
       "                        <td id=\"T_99105456_e098_11ea_a0c1_525400fe8b87row5_col2\" class=\"data row5 col2\" >0.474247</td>\n",
       "                        <td id=\"T_99105456_e098_11ea_a0c1_525400fe8b87row5_col3\" class=\"data row5 col3\" >0.469670</td>\n",
       "                        <td id=\"T_99105456_e098_11ea_a0c1_525400fe8b87row5_col4\" class=\"data row5 col4\" >0.527585</td>\n",
       "                        <td id=\"T_99105456_e098_11ea_a0c1_525400fe8b87row5_col5\" class=\"data row5 col5\" >1.000000</td>\n",
       "                        <td id=\"T_99105456_e098_11ea_a0c1_525400fe8b87row5_col6\" class=\"data row5 col6\" >0.426787</td>\n",
       "                        <td id=\"T_99105456_e098_11ea_a0c1_525400fe8b87row5_col7\" class=\"data row5 col7\" >0.163852</td>\n",
       "                        <td id=\"T_99105456_e098_11ea_a0c1_525400fe8b87row5_col8\" class=\"data row5 col8\" >-0.006125</td>\n",
       "                        <td id=\"T_99105456_e098_11ea_a0c1_525400fe8b87row5_col9\" class=\"data row5 col9\" >-0.032912</td>\n",
       "                        <td id=\"T_99105456_e098_11ea_a0c1_525400fe8b87row5_col10\" class=\"data row5 col10\" >-0.030710</td>\n",
       "                        <td id=\"T_99105456_e098_11ea_a0c1_525400fe8b87row5_col11\" class=\"data row5 col11\" >0.834467</td>\n",
       "            </tr>\n",
       "            <tr>\n",
       "                        <th id=\"T_99105456_e098_11ea_a0c1_525400fe8b87level0_row6\" class=\"row_heading level0 row6\" >Internal_movement_restrictions</th>\n",
       "                        <td id=\"T_99105456_e098_11ea_a0c1_525400fe8b87row6_col0\" class=\"data row6 col0\" >0.282660</td>\n",
       "                        <td id=\"T_99105456_e098_11ea_a0c1_525400fe8b87row6_col1\" class=\"data row6 col1\" >0.497616</td>\n",
       "                        <td id=\"T_99105456_e098_11ea_a0c1_525400fe8b87row6_col2\" class=\"data row6 col2\" >0.202698</td>\n",
       "                        <td id=\"T_99105456_e098_11ea_a0c1_525400fe8b87row6_col3\" class=\"data row6 col3\" >0.431994</td>\n",
       "                        <td id=\"T_99105456_e098_11ea_a0c1_525400fe8b87row6_col4\" class=\"data row6 col4\" >0.406647</td>\n",
       "                        <td id=\"T_99105456_e098_11ea_a0c1_525400fe8b87row6_col5\" class=\"data row6 col5\" >0.426787</td>\n",
       "                        <td id=\"T_99105456_e098_11ea_a0c1_525400fe8b87row6_col6\" class=\"data row6 col6\" >1.000000</td>\n",
       "                        <td id=\"T_99105456_e098_11ea_a0c1_525400fe8b87row6_col7\" class=\"data row6 col7\" >0.478710</td>\n",
       "                        <td id=\"T_99105456_e098_11ea_a0c1_525400fe8b87row6_col8\" class=\"data row6 col8\" >-0.124206</td>\n",
       "                        <td id=\"T_99105456_e098_11ea_a0c1_525400fe8b87row6_col9\" class=\"data row6 col9\" >0.392923</td>\n",
       "                        <td id=\"T_99105456_e098_11ea_a0c1_525400fe8b87row6_col10\" class=\"data row6 col10\" >-0.503226</td>\n",
       "                        <td id=\"T_99105456_e098_11ea_a0c1_525400fe8b87row6_col11\" class=\"data row6 col11\" >0.636128</td>\n",
       "            </tr>\n",
       "            <tr>\n",
       "                        <th id=\"T_99105456_e098_11ea_a0c1_525400fe8b87level0_row7\" class=\"row_heading level0 row7\" >International_movement_restrictions</th>\n",
       "                        <td id=\"T_99105456_e098_11ea_a0c1_525400fe8b87row7_col0\" class=\"data row7 col0\" >0.055911</td>\n",
       "                        <td id=\"T_99105456_e098_11ea_a0c1_525400fe8b87row7_col1\" class=\"data row7 col1\" >0.326914</td>\n",
       "                        <td id=\"T_99105456_e098_11ea_a0c1_525400fe8b87row7_col2\" class=\"data row7 col2\" >0.032190</td>\n",
       "                        <td id=\"T_99105456_e098_11ea_a0c1_525400fe8b87row7_col3\" class=\"data row7 col3\" >0.571992</td>\n",
       "                        <td id=\"T_99105456_e098_11ea_a0c1_525400fe8b87row7_col4\" class=\"data row7 col4\" >0.029508</td>\n",
       "                        <td id=\"T_99105456_e098_11ea_a0c1_525400fe8b87row7_col5\" class=\"data row7 col5\" >0.163852</td>\n",
       "                        <td id=\"T_99105456_e098_11ea_a0c1_525400fe8b87row7_col6\" class=\"data row7 col6\" >0.478710</td>\n",
       "                        <td id=\"T_99105456_e098_11ea_a0c1_525400fe8b87row7_col7\" class=\"data row7 col7\" >1.000000</td>\n",
       "                        <td id=\"T_99105456_e098_11ea_a0c1_525400fe8b87row7_col8\" class=\"data row7 col8\" >0.099833</td>\n",
       "                        <td id=\"T_99105456_e098_11ea_a0c1_525400fe8b87row7_col9\" class=\"data row7 col9\" >0.514249</td>\n",
       "                        <td id=\"T_99105456_e098_11ea_a0c1_525400fe8b87row7_col10\" class=\"data row7 col10\" >-0.422545</td>\n",
       "                        <td id=\"T_99105456_e098_11ea_a0c1_525400fe8b87row7_col11\" class=\"data row7 col11\" >0.407588</td>\n",
       "            </tr>\n",
       "            <tr>\n",
       "                        <th id=\"T_99105456_e098_11ea_a0c1_525400fe8b87level0_row8\" class=\"row_heading level0 row8\" >Information_campaigns</th>\n",
       "                        <td id=\"T_99105456_e098_11ea_a0c1_525400fe8b87row8_col0\" class=\"data row8 col0\" >-0.068235</td>\n",
       "                        <td id=\"T_99105456_e098_11ea_a0c1_525400fe8b87row8_col1\" class=\"data row8 col1\" >-0.020980</td>\n",
       "                        <td id=\"T_99105456_e098_11ea_a0c1_525400fe8b87row8_col2\" class=\"data row8 col2\" >-0.060421</td>\n",
       "                        <td id=\"T_99105456_e098_11ea_a0c1_525400fe8b87row8_col3\" class=\"data row8 col3\" >0.020072</td>\n",
       "                        <td id=\"T_99105456_e098_11ea_a0c1_525400fe8b87row8_col4\" class=\"data row8 col4\" >-0.238116</td>\n",
       "                        <td id=\"T_99105456_e098_11ea_a0c1_525400fe8b87row8_col5\" class=\"data row8 col5\" >-0.006125</td>\n",
       "                        <td id=\"T_99105456_e098_11ea_a0c1_525400fe8b87row8_col6\" class=\"data row8 col6\" >-0.124206</td>\n",
       "                        <td id=\"T_99105456_e098_11ea_a0c1_525400fe8b87row8_col7\" class=\"data row8 col7\" >0.099833</td>\n",
       "                        <td id=\"T_99105456_e098_11ea_a0c1_525400fe8b87row8_col8\" class=\"data row8 col8\" >1.000000</td>\n",
       "                        <td id=\"T_99105456_e098_11ea_a0c1_525400fe8b87row8_col9\" class=\"data row8 col9\" >0.259584</td>\n",
       "                        <td id=\"T_99105456_e098_11ea_a0c1_525400fe8b87row8_col10\" class=\"data row8 col10\" >0.160214</td>\n",
       "                        <td id=\"T_99105456_e098_11ea_a0c1_525400fe8b87row8_col11\" class=\"data row8 col11\" >-0.050598</td>\n",
       "            </tr>\n",
       "            <tr>\n",
       "                        <th id=\"T_99105456_e098_11ea_a0c1_525400fe8b87level0_row9\" class=\"row_heading level0 row9\" >Testing_policy</th>\n",
       "                        <td id=\"T_99105456_e098_11ea_a0c1_525400fe8b87row9_col0\" class=\"data row9 col0\" >0.123545</td>\n",
       "                        <td id=\"T_99105456_e098_11ea_a0c1_525400fe8b87row9_col1\" class=\"data row9 col1\" >0.294579</td>\n",
       "                        <td id=\"T_99105456_e098_11ea_a0c1_525400fe8b87row9_col2\" class=\"data row9 col2\" >0.106031</td>\n",
       "                        <td id=\"T_99105456_e098_11ea_a0c1_525400fe8b87row9_col3\" class=\"data row9 col3\" >0.446205</td>\n",
       "                        <td id=\"T_99105456_e098_11ea_a0c1_525400fe8b87row9_col4\" class=\"data row9 col4\" >-0.158645</td>\n",
       "                        <td id=\"T_99105456_e098_11ea_a0c1_525400fe8b87row9_col5\" class=\"data row9 col5\" >-0.032912</td>\n",
       "                        <td id=\"T_99105456_e098_11ea_a0c1_525400fe8b87row9_col6\" class=\"data row9 col6\" >0.392923</td>\n",
       "                        <td id=\"T_99105456_e098_11ea_a0c1_525400fe8b87row9_col7\" class=\"data row9 col7\" >0.514249</td>\n",
       "                        <td id=\"T_99105456_e098_11ea_a0c1_525400fe8b87row9_col8\" class=\"data row9 col8\" >0.259584</td>\n",
       "                        <td id=\"T_99105456_e098_11ea_a0c1_525400fe8b87row9_col9\" class=\"data row9 col9\" >1.000000</td>\n",
       "                        <td id=\"T_99105456_e098_11ea_a0c1_525400fe8b87row9_col10\" class=\"data row9 col10\" >-0.424931</td>\n",
       "                        <td id=\"T_99105456_e098_11ea_a0c1_525400fe8b87row9_col11\" class=\"data row9 col11\" >0.193722</td>\n",
       "            </tr>\n",
       "            <tr>\n",
       "                        <th id=\"T_99105456_e098_11ea_a0c1_525400fe8b87level0_row10\" class=\"row_heading level0 row10\" >Contact_tracing</th>\n",
       "                        <td id=\"T_99105456_e098_11ea_a0c1_525400fe8b87row10_col0\" class=\"data row10 col0\" >-0.269975</td>\n",
       "                        <td id=\"T_99105456_e098_11ea_a0c1_525400fe8b87row10_col1\" class=\"data row10 col1\" >-0.377196</td>\n",
       "                        <td id=\"T_99105456_e098_11ea_a0c1_525400fe8b87row10_col2\" class=\"data row10 col2\" >-0.233604</td>\n",
       "                        <td id=\"T_99105456_e098_11ea_a0c1_525400fe8b87row10_col3\" class=\"data row10 col3\" >-0.399295</td>\n",
       "                        <td id=\"T_99105456_e098_11ea_a0c1_525400fe8b87row10_col4\" class=\"data row10 col4\" >0.119279</td>\n",
       "                        <td id=\"T_99105456_e098_11ea_a0c1_525400fe8b87row10_col5\" class=\"data row10 col5\" >-0.030710</td>\n",
       "                        <td id=\"T_99105456_e098_11ea_a0c1_525400fe8b87row10_col6\" class=\"data row10 col6\" >-0.503226</td>\n",
       "                        <td id=\"T_99105456_e098_11ea_a0c1_525400fe8b87row10_col7\" class=\"data row10 col7\" >-0.422545</td>\n",
       "                        <td id=\"T_99105456_e098_11ea_a0c1_525400fe8b87row10_col8\" class=\"data row10 col8\" >0.160214</td>\n",
       "                        <td id=\"T_99105456_e098_11ea_a0c1_525400fe8b87row10_col9\" class=\"data row10 col9\" >-0.424931</td>\n",
       "                        <td id=\"T_99105456_e098_11ea_a0c1_525400fe8b87row10_col10\" class=\"data row10 col10\" >1.000000</td>\n",
       "                        <td id=\"T_99105456_e098_11ea_a0c1_525400fe8b87row10_col11\" class=\"data row10 col11\" >-0.254665</td>\n",
       "            </tr>\n",
       "            <tr>\n",
       "                        <th id=\"T_99105456_e098_11ea_a0c1_525400fe8b87level0_row11\" class=\"row_heading level0 row11\" >Stringency_index</th>\n",
       "                        <td id=\"T_99105456_e098_11ea_a0c1_525400fe8b87row11_col0\" class=\"data row11 col0\" >0.636712</td>\n",
       "                        <td id=\"T_99105456_e098_11ea_a0c1_525400fe8b87row11_col1\" class=\"data row11 col1\" >0.773292</td>\n",
       "                        <td id=\"T_99105456_e098_11ea_a0c1_525400fe8b87row11_col2\" class=\"data row11 col2\" >0.585337</td>\n",
       "                        <td id=\"T_99105456_e098_11ea_a0c1_525400fe8b87row11_col3\" class=\"data row11 col3\" >0.721358</td>\n",
       "                        <td id=\"T_99105456_e098_11ea_a0c1_525400fe8b87row11_col4\" class=\"data row11 col4\" >0.625303</td>\n",
       "                        <td id=\"T_99105456_e098_11ea_a0c1_525400fe8b87row11_col5\" class=\"data row11 col5\" >0.834467</td>\n",
       "                        <td id=\"T_99105456_e098_11ea_a0c1_525400fe8b87row11_col6\" class=\"data row11 col6\" >0.636128</td>\n",
       "                        <td id=\"T_99105456_e098_11ea_a0c1_525400fe8b87row11_col7\" class=\"data row11 col7\" >0.407588</td>\n",
       "                        <td id=\"T_99105456_e098_11ea_a0c1_525400fe8b87row11_col8\" class=\"data row11 col8\" >-0.050598</td>\n",
       "                        <td id=\"T_99105456_e098_11ea_a0c1_525400fe8b87row11_col9\" class=\"data row11 col9\" >0.193722</td>\n",
       "                        <td id=\"T_99105456_e098_11ea_a0c1_525400fe8b87row11_col10\" class=\"data row11 col10\" >-0.254665</td>\n",
       "                        <td id=\"T_99105456_e098_11ea_a0c1_525400fe8b87row11_col11\" class=\"data row11 col11\" >1.000000</td>\n",
       "            </tr>\n",
       "    </tbody></table>"
      ],
      "text/plain": [
       "<pandas.io.formats.style.Styler at 0x7fd10f6f3c10>"
      ]
     },
     "execution_count": 21,
     "metadata": {},
     "output_type": "execute_result"
    }
   ],
   "source": [
    "# Correlation\n",
    "df = track_df.copy()\n",
    "df.corr().style.background_gradient(axis=None)"
   ]
  },
  {
   "cell_type": "code",
   "execution_count": 22,
   "metadata": {
    "collapsed": false
   },
   "outputs": [
    {
     "ename": "ValueError",
     "evalue": "zero-size array to reduction operation minimum which has no identity",
     "output_type": "error",
     "traceback": [
      "\u001b[0;31m---------------------------------------------------------------------------\u001b[0m",
      "\u001b[0;31mValueError\u001b[0m                                Traceback (most recent call last)",
      "\u001b[0;32m~/.local/share/virtualenvs/covid19-sir-kT3BL-HO/lib/python3.8/site-packages/IPython/core/formatters.py\u001b[0m in \u001b[0;36m__call__\u001b[0;34m(self, obj)\u001b[0m\n\u001b[1;32m    339\u001b[0m                 \u001b[0;32mpass\u001b[0m\u001b[0;34m\u001b[0m\u001b[0;34m\u001b[0m\u001b[0m\n\u001b[1;32m    340\u001b[0m             \u001b[0;32melse\u001b[0m\u001b[0;34m:\u001b[0m\u001b[0;34m\u001b[0m\u001b[0;34m\u001b[0m\u001b[0m\n\u001b[0;32m--> 341\u001b[0;31m                 \u001b[0;32mreturn\u001b[0m \u001b[0mprinter\u001b[0m\u001b[0;34m(\u001b[0m\u001b[0mobj\u001b[0m\u001b[0;34m)\u001b[0m\u001b[0;34m\u001b[0m\u001b[0;34m\u001b[0m\u001b[0m\n\u001b[0m\u001b[1;32m    342\u001b[0m             \u001b[0;31m# Finally look for special method names\u001b[0m\u001b[0;34m\u001b[0m\u001b[0;34m\u001b[0m\u001b[0;34m\u001b[0m\u001b[0m\n\u001b[1;32m    343\u001b[0m             \u001b[0mmethod\u001b[0m \u001b[0;34m=\u001b[0m \u001b[0mget_real_method\u001b[0m\u001b[0;34m(\u001b[0m\u001b[0mobj\u001b[0m\u001b[0;34m,\u001b[0m \u001b[0mself\u001b[0m\u001b[0;34m.\u001b[0m\u001b[0mprint_method\u001b[0m\u001b[0;34m)\u001b[0m\u001b[0;34m\u001b[0m\u001b[0;34m\u001b[0m\u001b[0m\n",
      "\u001b[0;32m~/.local/share/virtualenvs/covid19-sir-kT3BL-HO/lib/python3.8/site-packages/IPython/core/pylabtools.py\u001b[0m in \u001b[0;36m<lambda>\u001b[0;34m(fig)\u001b[0m\n\u001b[1;32m    246\u001b[0m \u001b[0;34m\u001b[0m\u001b[0m\n\u001b[1;32m    247\u001b[0m     \u001b[0;32mif\u001b[0m \u001b[0;34m'png'\u001b[0m \u001b[0;32min\u001b[0m \u001b[0mformats\u001b[0m\u001b[0;34m:\u001b[0m\u001b[0;34m\u001b[0m\u001b[0;34m\u001b[0m\u001b[0m\n\u001b[0;32m--> 248\u001b[0;31m         \u001b[0mpng_formatter\u001b[0m\u001b[0;34m.\u001b[0m\u001b[0mfor_type\u001b[0m\u001b[0;34m(\u001b[0m\u001b[0mFigure\u001b[0m\u001b[0;34m,\u001b[0m \u001b[0;32mlambda\u001b[0m \u001b[0mfig\u001b[0m\u001b[0;34m:\u001b[0m \u001b[0mprint_figure\u001b[0m\u001b[0;34m(\u001b[0m\u001b[0mfig\u001b[0m\u001b[0;34m,\u001b[0m \u001b[0;34m'png'\u001b[0m\u001b[0;34m,\u001b[0m \u001b[0;34m**\u001b[0m\u001b[0mkwargs\u001b[0m\u001b[0;34m)\u001b[0m\u001b[0;34m)\u001b[0m\u001b[0;34m\u001b[0m\u001b[0;34m\u001b[0m\u001b[0m\n\u001b[0m\u001b[1;32m    249\u001b[0m     \u001b[0;32mif\u001b[0m \u001b[0;34m'retina'\u001b[0m \u001b[0;32min\u001b[0m \u001b[0mformats\u001b[0m \u001b[0;32mor\u001b[0m \u001b[0;34m'png2x'\u001b[0m \u001b[0;32min\u001b[0m \u001b[0mformats\u001b[0m\u001b[0;34m:\u001b[0m\u001b[0;34m\u001b[0m\u001b[0;34m\u001b[0m\u001b[0m\n\u001b[1;32m    250\u001b[0m         \u001b[0mpng_formatter\u001b[0m\u001b[0;34m.\u001b[0m\u001b[0mfor_type\u001b[0m\u001b[0;34m(\u001b[0m\u001b[0mFigure\u001b[0m\u001b[0;34m,\u001b[0m \u001b[0;32mlambda\u001b[0m \u001b[0mfig\u001b[0m\u001b[0;34m:\u001b[0m \u001b[0mretina_figure\u001b[0m\u001b[0;34m(\u001b[0m\u001b[0mfig\u001b[0m\u001b[0;34m,\u001b[0m \u001b[0;34m**\u001b[0m\u001b[0mkwargs\u001b[0m\u001b[0;34m)\u001b[0m\u001b[0;34m)\u001b[0m\u001b[0;34m\u001b[0m\u001b[0;34m\u001b[0m\u001b[0m\n",
      "\u001b[0;32m~/.local/share/virtualenvs/covid19-sir-kT3BL-HO/lib/python3.8/site-packages/IPython/core/pylabtools.py\u001b[0m in \u001b[0;36mprint_figure\u001b[0;34m(fig, fmt, bbox_inches, **kwargs)\u001b[0m\n\u001b[1;32m    130\u001b[0m         \u001b[0mFigureCanvasBase\u001b[0m\u001b[0;34m(\u001b[0m\u001b[0mfig\u001b[0m\u001b[0;34m)\u001b[0m\u001b[0;34m\u001b[0m\u001b[0;34m\u001b[0m\u001b[0m\n\u001b[1;32m    131\u001b[0m \u001b[0;34m\u001b[0m\u001b[0m\n\u001b[0;32m--> 132\u001b[0;31m     \u001b[0mfig\u001b[0m\u001b[0;34m.\u001b[0m\u001b[0mcanvas\u001b[0m\u001b[0;34m.\u001b[0m\u001b[0mprint_figure\u001b[0m\u001b[0;34m(\u001b[0m\u001b[0mbytes_io\u001b[0m\u001b[0;34m,\u001b[0m \u001b[0;34m**\u001b[0m\u001b[0mkw\u001b[0m\u001b[0;34m)\u001b[0m\u001b[0;34m\u001b[0m\u001b[0;34m\u001b[0m\u001b[0m\n\u001b[0m\u001b[1;32m    133\u001b[0m     \u001b[0mdata\u001b[0m \u001b[0;34m=\u001b[0m \u001b[0mbytes_io\u001b[0m\u001b[0;34m.\u001b[0m\u001b[0mgetvalue\u001b[0m\u001b[0;34m(\u001b[0m\u001b[0;34m)\u001b[0m\u001b[0;34m\u001b[0m\u001b[0;34m\u001b[0m\u001b[0m\n\u001b[1;32m    134\u001b[0m     \u001b[0;32mif\u001b[0m \u001b[0mfmt\u001b[0m \u001b[0;34m==\u001b[0m \u001b[0;34m'svg'\u001b[0m\u001b[0;34m:\u001b[0m\u001b[0;34m\u001b[0m\u001b[0;34m\u001b[0m\u001b[0m\n",
      "\u001b[0;32m~/.local/share/virtualenvs/covid19-sir-kT3BL-HO/lib/python3.8/site-packages/matplotlib/backend_bases.py\u001b[0m in \u001b[0;36mprint_figure\u001b[0;34m(self, filename, dpi, facecolor, edgecolor, orientation, format, bbox_inches, pad_inches, bbox_extra_artists, backend, **kwargs)\u001b[0m\n\u001b[1;32m   2191\u001b[0m                            else suppress())\n\u001b[1;32m   2192\u001b[0m                     \u001b[0;32mwith\u001b[0m \u001b[0mctx\u001b[0m\u001b[0;34m:\u001b[0m\u001b[0;34m\u001b[0m\u001b[0;34m\u001b[0m\u001b[0m\n\u001b[0;32m-> 2193\u001b[0;31m                         \u001b[0mself\u001b[0m\u001b[0;34m.\u001b[0m\u001b[0mfigure\u001b[0m\u001b[0;34m.\u001b[0m\u001b[0mdraw\u001b[0m\u001b[0;34m(\u001b[0m\u001b[0mrenderer\u001b[0m\u001b[0;34m)\u001b[0m\u001b[0;34m\u001b[0m\u001b[0;34m\u001b[0m\u001b[0m\n\u001b[0m\u001b[1;32m   2194\u001b[0m \u001b[0;34m\u001b[0m\u001b[0m\n\u001b[1;32m   2195\u001b[0m                     bbox_inches = self.figure.get_tightbbox(\n",
      "\u001b[0;32m~/.local/share/virtualenvs/covid19-sir-kT3BL-HO/lib/python3.8/site-packages/matplotlib/artist.py\u001b[0m in \u001b[0;36mdraw_wrapper\u001b[0;34m(artist, renderer, *args, **kwargs)\u001b[0m\n\u001b[1;32m     39\u001b[0m                 \u001b[0mrenderer\u001b[0m\u001b[0;34m.\u001b[0m\u001b[0mstart_filter\u001b[0m\u001b[0;34m(\u001b[0m\u001b[0;34m)\u001b[0m\u001b[0;34m\u001b[0m\u001b[0;34m\u001b[0m\u001b[0m\n\u001b[1;32m     40\u001b[0m \u001b[0;34m\u001b[0m\u001b[0m\n\u001b[0;32m---> 41\u001b[0;31m             \u001b[0;32mreturn\u001b[0m \u001b[0mdraw\u001b[0m\u001b[0;34m(\u001b[0m\u001b[0martist\u001b[0m\u001b[0;34m,\u001b[0m \u001b[0mrenderer\u001b[0m\u001b[0;34m,\u001b[0m \u001b[0;34m*\u001b[0m\u001b[0margs\u001b[0m\u001b[0;34m,\u001b[0m \u001b[0;34m**\u001b[0m\u001b[0mkwargs\u001b[0m\u001b[0;34m)\u001b[0m\u001b[0;34m\u001b[0m\u001b[0;34m\u001b[0m\u001b[0m\n\u001b[0m\u001b[1;32m     42\u001b[0m         \u001b[0;32mfinally\u001b[0m\u001b[0;34m:\u001b[0m\u001b[0;34m\u001b[0m\u001b[0;34m\u001b[0m\u001b[0m\n\u001b[1;32m     43\u001b[0m             \u001b[0;32mif\u001b[0m \u001b[0martist\u001b[0m\u001b[0;34m.\u001b[0m\u001b[0mget_agg_filter\u001b[0m\u001b[0;34m(\u001b[0m\u001b[0;34m)\u001b[0m \u001b[0;32mis\u001b[0m \u001b[0;32mnot\u001b[0m \u001b[0;32mNone\u001b[0m\u001b[0;34m:\u001b[0m\u001b[0;34m\u001b[0m\u001b[0;34m\u001b[0m\u001b[0m\n",
      "\u001b[0;32m~/.local/share/virtualenvs/covid19-sir-kT3BL-HO/lib/python3.8/site-packages/matplotlib/figure.py\u001b[0m in \u001b[0;36mdraw\u001b[0;34m(self, renderer)\u001b[0m\n\u001b[1;32m   1861\u001b[0m \u001b[0;34m\u001b[0m\u001b[0m\n\u001b[1;32m   1862\u001b[0m             \u001b[0mself\u001b[0m\u001b[0;34m.\u001b[0m\u001b[0mpatch\u001b[0m\u001b[0;34m.\u001b[0m\u001b[0mdraw\u001b[0m\u001b[0;34m(\u001b[0m\u001b[0mrenderer\u001b[0m\u001b[0;34m)\u001b[0m\u001b[0;34m\u001b[0m\u001b[0;34m\u001b[0m\u001b[0m\n\u001b[0;32m-> 1863\u001b[0;31m             mimage._draw_list_compositing_images(\n\u001b[0m\u001b[1;32m   1864\u001b[0m                 renderer, self, artists, self.suppressComposite)\n\u001b[1;32m   1865\u001b[0m \u001b[0;34m\u001b[0m\u001b[0m\n",
      "\u001b[0;32m~/.local/share/virtualenvs/covid19-sir-kT3BL-HO/lib/python3.8/site-packages/matplotlib/image.py\u001b[0m in \u001b[0;36m_draw_list_compositing_images\u001b[0;34m(renderer, parent, artists, suppress_composite)\u001b[0m\n\u001b[1;32m    129\u001b[0m     \u001b[0;32mif\u001b[0m \u001b[0mnot_composite\u001b[0m \u001b[0;32mor\u001b[0m \u001b[0;32mnot\u001b[0m \u001b[0mhas_images\u001b[0m\u001b[0;34m:\u001b[0m\u001b[0;34m\u001b[0m\u001b[0;34m\u001b[0m\u001b[0m\n\u001b[1;32m    130\u001b[0m         \u001b[0;32mfor\u001b[0m \u001b[0ma\u001b[0m \u001b[0;32min\u001b[0m \u001b[0martists\u001b[0m\u001b[0;34m:\u001b[0m\u001b[0;34m\u001b[0m\u001b[0;34m\u001b[0m\u001b[0m\n\u001b[0;32m--> 131\u001b[0;31m             \u001b[0ma\u001b[0m\u001b[0;34m.\u001b[0m\u001b[0mdraw\u001b[0m\u001b[0;34m(\u001b[0m\u001b[0mrenderer\u001b[0m\u001b[0;34m)\u001b[0m\u001b[0;34m\u001b[0m\u001b[0;34m\u001b[0m\u001b[0m\n\u001b[0m\u001b[1;32m    132\u001b[0m     \u001b[0;32melse\u001b[0m\u001b[0;34m:\u001b[0m\u001b[0;34m\u001b[0m\u001b[0;34m\u001b[0m\u001b[0m\n\u001b[1;32m    133\u001b[0m         \u001b[0;31m# Composite any adjacent images together\u001b[0m\u001b[0;34m\u001b[0m\u001b[0;34m\u001b[0m\u001b[0;34m\u001b[0m\u001b[0m\n",
      "\u001b[0;32m~/.local/share/virtualenvs/covid19-sir-kT3BL-HO/lib/python3.8/site-packages/matplotlib/artist.py\u001b[0m in \u001b[0;36mdraw_wrapper\u001b[0;34m(artist, renderer, *args, **kwargs)\u001b[0m\n\u001b[1;32m     39\u001b[0m                 \u001b[0mrenderer\u001b[0m\u001b[0;34m.\u001b[0m\u001b[0mstart_filter\u001b[0m\u001b[0;34m(\u001b[0m\u001b[0;34m)\u001b[0m\u001b[0;34m\u001b[0m\u001b[0;34m\u001b[0m\u001b[0m\n\u001b[1;32m     40\u001b[0m \u001b[0;34m\u001b[0m\u001b[0m\n\u001b[0;32m---> 41\u001b[0;31m             \u001b[0;32mreturn\u001b[0m \u001b[0mdraw\u001b[0m\u001b[0;34m(\u001b[0m\u001b[0martist\u001b[0m\u001b[0;34m,\u001b[0m \u001b[0mrenderer\u001b[0m\u001b[0;34m,\u001b[0m \u001b[0;34m*\u001b[0m\u001b[0margs\u001b[0m\u001b[0;34m,\u001b[0m \u001b[0;34m**\u001b[0m\u001b[0mkwargs\u001b[0m\u001b[0;34m)\u001b[0m\u001b[0;34m\u001b[0m\u001b[0;34m\u001b[0m\u001b[0m\n\u001b[0m\u001b[1;32m     42\u001b[0m         \u001b[0;32mfinally\u001b[0m\u001b[0;34m:\u001b[0m\u001b[0;34m\u001b[0m\u001b[0;34m\u001b[0m\u001b[0m\n\u001b[1;32m     43\u001b[0m             \u001b[0;32mif\u001b[0m \u001b[0martist\u001b[0m\u001b[0;34m.\u001b[0m\u001b[0mget_agg_filter\u001b[0m\u001b[0;34m(\u001b[0m\u001b[0;34m)\u001b[0m \u001b[0;32mis\u001b[0m \u001b[0;32mnot\u001b[0m \u001b[0;32mNone\u001b[0m\u001b[0;34m:\u001b[0m\u001b[0;34m\u001b[0m\u001b[0;34m\u001b[0m\u001b[0m\n",
      "\u001b[0;32m~/.local/share/virtualenvs/covid19-sir-kT3BL-HO/lib/python3.8/site-packages/matplotlib/cbook/deprecation.py\u001b[0m in \u001b[0;36mwrapper\u001b[0;34m(*inner_args, **inner_kwargs)\u001b[0m\n\u001b[1;32m    409\u001b[0m                          \u001b[0;32melse\u001b[0m \u001b[0mdeprecation_addendum\u001b[0m\u001b[0;34m,\u001b[0m\u001b[0;34m\u001b[0m\u001b[0;34m\u001b[0m\u001b[0m\n\u001b[1;32m    410\u001b[0m                 **kwargs)\n\u001b[0;32m--> 411\u001b[0;31m         \u001b[0;32mreturn\u001b[0m \u001b[0mfunc\u001b[0m\u001b[0;34m(\u001b[0m\u001b[0;34m*\u001b[0m\u001b[0minner_args\u001b[0m\u001b[0;34m,\u001b[0m \u001b[0;34m**\u001b[0m\u001b[0minner_kwargs\u001b[0m\u001b[0;34m)\u001b[0m\u001b[0;34m\u001b[0m\u001b[0;34m\u001b[0m\u001b[0m\n\u001b[0m\u001b[1;32m    412\u001b[0m \u001b[0;34m\u001b[0m\u001b[0m\n\u001b[1;32m    413\u001b[0m     \u001b[0;32mreturn\u001b[0m \u001b[0mwrapper\u001b[0m\u001b[0;34m\u001b[0m\u001b[0;34m\u001b[0m\u001b[0m\n",
      "\u001b[0;32m~/.local/share/virtualenvs/covid19-sir-kT3BL-HO/lib/python3.8/site-packages/matplotlib/axes/_base.py\u001b[0m in \u001b[0;36mdraw\u001b[0;34m(self, renderer, inframe)\u001b[0m\n\u001b[1;32m   2746\u001b[0m             \u001b[0mrenderer\u001b[0m\u001b[0;34m.\u001b[0m\u001b[0mstop_rasterizing\u001b[0m\u001b[0;34m(\u001b[0m\u001b[0;34m)\u001b[0m\u001b[0;34m\u001b[0m\u001b[0;34m\u001b[0m\u001b[0m\n\u001b[1;32m   2747\u001b[0m \u001b[0;34m\u001b[0m\u001b[0m\n\u001b[0;32m-> 2748\u001b[0;31m         \u001b[0mmimage\u001b[0m\u001b[0;34m.\u001b[0m\u001b[0m_draw_list_compositing_images\u001b[0m\u001b[0;34m(\u001b[0m\u001b[0mrenderer\u001b[0m\u001b[0;34m,\u001b[0m \u001b[0mself\u001b[0m\u001b[0;34m,\u001b[0m \u001b[0martists\u001b[0m\u001b[0;34m)\u001b[0m\u001b[0;34m\u001b[0m\u001b[0;34m\u001b[0m\u001b[0m\n\u001b[0m\u001b[1;32m   2749\u001b[0m \u001b[0;34m\u001b[0m\u001b[0m\n\u001b[1;32m   2750\u001b[0m         \u001b[0mrenderer\u001b[0m\u001b[0;34m.\u001b[0m\u001b[0mclose_group\u001b[0m\u001b[0;34m(\u001b[0m\u001b[0;34m'axes'\u001b[0m\u001b[0;34m)\u001b[0m\u001b[0;34m\u001b[0m\u001b[0;34m\u001b[0m\u001b[0m\n",
      "\u001b[0;32m~/.local/share/virtualenvs/covid19-sir-kT3BL-HO/lib/python3.8/site-packages/matplotlib/image.py\u001b[0m in \u001b[0;36m_draw_list_compositing_images\u001b[0;34m(renderer, parent, artists, suppress_composite)\u001b[0m\n\u001b[1;32m    129\u001b[0m     \u001b[0;32mif\u001b[0m \u001b[0mnot_composite\u001b[0m \u001b[0;32mor\u001b[0m \u001b[0;32mnot\u001b[0m \u001b[0mhas_images\u001b[0m\u001b[0;34m:\u001b[0m\u001b[0;34m\u001b[0m\u001b[0;34m\u001b[0m\u001b[0m\n\u001b[1;32m    130\u001b[0m         \u001b[0;32mfor\u001b[0m \u001b[0ma\u001b[0m \u001b[0;32min\u001b[0m \u001b[0martists\u001b[0m\u001b[0;34m:\u001b[0m\u001b[0;34m\u001b[0m\u001b[0;34m\u001b[0m\u001b[0m\n\u001b[0;32m--> 131\u001b[0;31m             \u001b[0ma\u001b[0m\u001b[0;34m.\u001b[0m\u001b[0mdraw\u001b[0m\u001b[0;34m(\u001b[0m\u001b[0mrenderer\u001b[0m\u001b[0;34m)\u001b[0m\u001b[0;34m\u001b[0m\u001b[0;34m\u001b[0m\u001b[0m\n\u001b[0m\u001b[1;32m    132\u001b[0m     \u001b[0;32melse\u001b[0m\u001b[0;34m:\u001b[0m\u001b[0;34m\u001b[0m\u001b[0;34m\u001b[0m\u001b[0m\n\u001b[1;32m    133\u001b[0m         \u001b[0;31m# Composite any adjacent images together\u001b[0m\u001b[0;34m\u001b[0m\u001b[0;34m\u001b[0m\u001b[0;34m\u001b[0m\u001b[0m\n",
      "\u001b[0;32m~/.local/share/virtualenvs/covid19-sir-kT3BL-HO/lib/python3.8/site-packages/matplotlib/artist.py\u001b[0m in \u001b[0;36mdraw_wrapper\u001b[0;34m(artist, renderer, *args, **kwargs)\u001b[0m\n\u001b[1;32m     39\u001b[0m                 \u001b[0mrenderer\u001b[0m\u001b[0;34m.\u001b[0m\u001b[0mstart_filter\u001b[0m\u001b[0;34m(\u001b[0m\u001b[0;34m)\u001b[0m\u001b[0;34m\u001b[0m\u001b[0;34m\u001b[0m\u001b[0m\n\u001b[1;32m     40\u001b[0m \u001b[0;34m\u001b[0m\u001b[0m\n\u001b[0;32m---> 41\u001b[0;31m             \u001b[0;32mreturn\u001b[0m \u001b[0mdraw\u001b[0m\u001b[0;34m(\u001b[0m\u001b[0martist\u001b[0m\u001b[0;34m,\u001b[0m \u001b[0mrenderer\u001b[0m\u001b[0;34m,\u001b[0m \u001b[0;34m*\u001b[0m\u001b[0margs\u001b[0m\u001b[0;34m,\u001b[0m \u001b[0;34m**\u001b[0m\u001b[0mkwargs\u001b[0m\u001b[0;34m)\u001b[0m\u001b[0;34m\u001b[0m\u001b[0;34m\u001b[0m\u001b[0m\n\u001b[0m\u001b[1;32m     42\u001b[0m         \u001b[0;32mfinally\u001b[0m\u001b[0;34m:\u001b[0m\u001b[0;34m\u001b[0m\u001b[0;34m\u001b[0m\u001b[0m\n\u001b[1;32m     43\u001b[0m             \u001b[0;32mif\u001b[0m \u001b[0martist\u001b[0m\u001b[0;34m.\u001b[0m\u001b[0mget_agg_filter\u001b[0m\u001b[0;34m(\u001b[0m\u001b[0;34m)\u001b[0m \u001b[0;32mis\u001b[0m \u001b[0;32mnot\u001b[0m \u001b[0;32mNone\u001b[0m\u001b[0;34m:\u001b[0m\u001b[0;34m\u001b[0m\u001b[0;34m\u001b[0m\u001b[0m\n",
      "\u001b[0;32m~/.local/share/virtualenvs/covid19-sir-kT3BL-HO/lib/python3.8/site-packages/matplotlib/collections.py\u001b[0m in \u001b[0;36mdraw\u001b[0;34m(self, renderer)\u001b[0m\n\u001b[1;32m    929\u001b[0m     \u001b[0;32mdef\u001b[0m \u001b[0mdraw\u001b[0m\u001b[0;34m(\u001b[0m\u001b[0mself\u001b[0m\u001b[0;34m,\u001b[0m \u001b[0mrenderer\u001b[0m\u001b[0;34m)\u001b[0m\u001b[0;34m:\u001b[0m\u001b[0;34m\u001b[0m\u001b[0;34m\u001b[0m\u001b[0m\n\u001b[1;32m    930\u001b[0m         \u001b[0mself\u001b[0m\u001b[0;34m.\u001b[0m\u001b[0mset_sizes\u001b[0m\u001b[0;34m(\u001b[0m\u001b[0mself\u001b[0m\u001b[0;34m.\u001b[0m\u001b[0m_sizes\u001b[0m\u001b[0;34m,\u001b[0m \u001b[0mself\u001b[0m\u001b[0;34m.\u001b[0m\u001b[0mfigure\u001b[0m\u001b[0;34m.\u001b[0m\u001b[0mdpi\u001b[0m\u001b[0;34m)\u001b[0m\u001b[0;34m\u001b[0m\u001b[0;34m\u001b[0m\u001b[0m\n\u001b[0;32m--> 931\u001b[0;31m         \u001b[0mCollection\u001b[0m\u001b[0;34m.\u001b[0m\u001b[0mdraw\u001b[0m\u001b[0;34m(\u001b[0m\u001b[0mself\u001b[0m\u001b[0;34m,\u001b[0m \u001b[0mrenderer\u001b[0m\u001b[0;34m)\u001b[0m\u001b[0;34m\u001b[0m\u001b[0;34m\u001b[0m\u001b[0m\n\u001b[0m\u001b[1;32m    932\u001b[0m \u001b[0;34m\u001b[0m\u001b[0m\n\u001b[1;32m    933\u001b[0m \u001b[0;34m\u001b[0m\u001b[0m\n",
      "\u001b[0;32m~/.local/share/virtualenvs/covid19-sir-kT3BL-HO/lib/python3.8/site-packages/matplotlib/artist.py\u001b[0m in \u001b[0;36mdraw_wrapper\u001b[0;34m(artist, renderer, *args, **kwargs)\u001b[0m\n\u001b[1;32m     39\u001b[0m                 \u001b[0mrenderer\u001b[0m\u001b[0;34m.\u001b[0m\u001b[0mstart_filter\u001b[0m\u001b[0;34m(\u001b[0m\u001b[0;34m)\u001b[0m\u001b[0;34m\u001b[0m\u001b[0;34m\u001b[0m\u001b[0m\n\u001b[1;32m     40\u001b[0m \u001b[0;34m\u001b[0m\u001b[0m\n\u001b[0;32m---> 41\u001b[0;31m             \u001b[0;32mreturn\u001b[0m \u001b[0mdraw\u001b[0m\u001b[0;34m(\u001b[0m\u001b[0martist\u001b[0m\u001b[0;34m,\u001b[0m \u001b[0mrenderer\u001b[0m\u001b[0;34m,\u001b[0m \u001b[0;34m*\u001b[0m\u001b[0margs\u001b[0m\u001b[0;34m,\u001b[0m \u001b[0;34m**\u001b[0m\u001b[0mkwargs\u001b[0m\u001b[0;34m)\u001b[0m\u001b[0;34m\u001b[0m\u001b[0;34m\u001b[0m\u001b[0m\n\u001b[0m\u001b[1;32m     42\u001b[0m         \u001b[0;32mfinally\u001b[0m\u001b[0;34m:\u001b[0m\u001b[0;34m\u001b[0m\u001b[0;34m\u001b[0m\u001b[0m\n\u001b[1;32m     43\u001b[0m             \u001b[0;32mif\u001b[0m \u001b[0martist\u001b[0m\u001b[0;34m.\u001b[0m\u001b[0mget_agg_filter\u001b[0m\u001b[0;34m(\u001b[0m\u001b[0;34m)\u001b[0m \u001b[0;32mis\u001b[0m \u001b[0;32mnot\u001b[0m \u001b[0;32mNone\u001b[0m\u001b[0;34m:\u001b[0m\u001b[0;34m\u001b[0m\u001b[0;34m\u001b[0m\u001b[0m\n",
      "\u001b[0;32m~/.local/share/virtualenvs/covid19-sir-kT3BL-HO/lib/python3.8/site-packages/matplotlib/collections.py\u001b[0m in \u001b[0;36mdraw\u001b[0;34m(self, renderer)\u001b[0m\n\u001b[1;32m    383\u001b[0m             \u001b[0;32melse\u001b[0m\u001b[0;34m:\u001b[0m\u001b[0;34m\u001b[0m\u001b[0;34m\u001b[0m\u001b[0m\n\u001b[1;32m    384\u001b[0m                 \u001b[0mcombined_transform\u001b[0m \u001b[0;34m=\u001b[0m \u001b[0mtransform\u001b[0m\u001b[0;34m\u001b[0m\u001b[0;34m\u001b[0m\u001b[0m\n\u001b[0;32m--> 385\u001b[0;31m             \u001b[0mextents\u001b[0m \u001b[0;34m=\u001b[0m \u001b[0mpaths\u001b[0m\u001b[0;34m[\u001b[0m\u001b[0;36m0\u001b[0m\u001b[0;34m]\u001b[0m\u001b[0;34m.\u001b[0m\u001b[0mget_extents\u001b[0m\u001b[0;34m(\u001b[0m\u001b[0mcombined_transform\u001b[0m\u001b[0;34m)\u001b[0m\u001b[0;34m\u001b[0m\u001b[0;34m\u001b[0m\u001b[0m\n\u001b[0m\u001b[1;32m    386\u001b[0m             if (extents.width < self.figure.bbox.width\n\u001b[1;32m    387\u001b[0m                     and extents.height < self.figure.bbox.height):\n",
      "\u001b[0;32m~/.local/share/virtualenvs/covid19-sir-kT3BL-HO/lib/python3.8/site-packages/matplotlib/path.py\u001b[0m in \u001b[0;36mget_extents\u001b[0;34m(self, transform, **kwargs)\u001b[0m\n\u001b[1;32m    601\u001b[0m                 \u001b[0mxys\u001b[0m\u001b[0;34m.\u001b[0m\u001b[0mappend\u001b[0m\u001b[0;34m(\u001b[0m\u001b[0mcurve\u001b[0m\u001b[0;34m(\u001b[0m\u001b[0;34m[\u001b[0m\u001b[0;36m0\u001b[0m\u001b[0;34m,\u001b[0m \u001b[0;34m*\u001b[0m\u001b[0mdzeros\u001b[0m\u001b[0;34m,\u001b[0m \u001b[0;36m1\u001b[0m\u001b[0;34m]\u001b[0m\u001b[0;34m)\u001b[0m\u001b[0;34m)\u001b[0m\u001b[0;34m\u001b[0m\u001b[0;34m\u001b[0m\u001b[0m\n\u001b[1;32m    602\u001b[0m             \u001b[0mxys\u001b[0m \u001b[0;34m=\u001b[0m \u001b[0mnp\u001b[0m\u001b[0;34m.\u001b[0m\u001b[0mconcatenate\u001b[0m\u001b[0;34m(\u001b[0m\u001b[0mxys\u001b[0m\u001b[0;34m)\u001b[0m\u001b[0;34m\u001b[0m\u001b[0;34m\u001b[0m\u001b[0m\n\u001b[0;32m--> 603\u001b[0;31m         \u001b[0;32mreturn\u001b[0m \u001b[0mBbox\u001b[0m\u001b[0;34m(\u001b[0m\u001b[0;34m[\u001b[0m\u001b[0mxys\u001b[0m\u001b[0;34m.\u001b[0m\u001b[0mmin\u001b[0m\u001b[0;34m(\u001b[0m\u001b[0maxis\u001b[0m\u001b[0;34m=\u001b[0m\u001b[0;36m0\u001b[0m\u001b[0;34m)\u001b[0m\u001b[0;34m,\u001b[0m \u001b[0mxys\u001b[0m\u001b[0;34m.\u001b[0m\u001b[0mmax\u001b[0m\u001b[0;34m(\u001b[0m\u001b[0maxis\u001b[0m\u001b[0;34m=\u001b[0m\u001b[0;36m0\u001b[0m\u001b[0;34m)\u001b[0m\u001b[0;34m]\u001b[0m\u001b[0;34m)\u001b[0m\u001b[0;34m\u001b[0m\u001b[0;34m\u001b[0m\u001b[0m\n\u001b[0m\u001b[1;32m    604\u001b[0m \u001b[0;34m\u001b[0m\u001b[0m\n\u001b[1;32m    605\u001b[0m     \u001b[0;32mdef\u001b[0m \u001b[0mintersects_path\u001b[0m\u001b[0;34m(\u001b[0m\u001b[0mself\u001b[0m\u001b[0;34m,\u001b[0m \u001b[0mother\u001b[0m\u001b[0;34m,\u001b[0m \u001b[0mfilled\u001b[0m\u001b[0;34m=\u001b[0m\u001b[0;32mTrue\u001b[0m\u001b[0;34m)\u001b[0m\u001b[0;34m:\u001b[0m\u001b[0;34m\u001b[0m\u001b[0;34m\u001b[0m\u001b[0m\n",
      "\u001b[0;32m~/.local/share/virtualenvs/covid19-sir-kT3BL-HO/lib/python3.8/site-packages/numpy/core/_methods.py\u001b[0m in \u001b[0;36m_amin\u001b[0;34m(a, axis, out, keepdims, initial, where)\u001b[0m\n\u001b[1;32m     41\u001b[0m def _amin(a, axis=None, out=None, keepdims=False,\n\u001b[1;32m     42\u001b[0m           initial=_NoValue, where=True):\n\u001b[0;32m---> 43\u001b[0;31m     \u001b[0;32mreturn\u001b[0m \u001b[0mumr_minimum\u001b[0m\u001b[0;34m(\u001b[0m\u001b[0ma\u001b[0m\u001b[0;34m,\u001b[0m \u001b[0maxis\u001b[0m\u001b[0;34m,\u001b[0m \u001b[0;32mNone\u001b[0m\u001b[0;34m,\u001b[0m \u001b[0mout\u001b[0m\u001b[0;34m,\u001b[0m \u001b[0mkeepdims\u001b[0m\u001b[0;34m,\u001b[0m \u001b[0minitial\u001b[0m\u001b[0;34m,\u001b[0m \u001b[0mwhere\u001b[0m\u001b[0;34m)\u001b[0m\u001b[0;34m\u001b[0m\u001b[0;34m\u001b[0m\u001b[0m\n\u001b[0m\u001b[1;32m     44\u001b[0m \u001b[0;34m\u001b[0m\u001b[0m\n\u001b[1;32m     45\u001b[0m def _sum(a, axis=None, dtype=None, out=None, keepdims=False,\n",
      "\u001b[0;31mValueError\u001b[0m: zero-size array to reduction operation minimum which has no identity"
     ]
    },
    {
     "data": {
      "text/plain": [
       "<Figure size 432x288 with 1 Axes>"
      ]
     },
     "metadata": {},
     "output_type": "display_data"
    }
   ],
   "source": [
    "# Scatter plot of Stringency index and Rt\n",
    "df = track_df.copy()\n",
    "sns.scatterplot(data=df, x=\"Stringency_index\", y=\"Rt\", hue=\"Country\", legend=\"brief\", marker=\"+\")\n",
    "bbox_to_anchor=(1.02, 0)\n",
    "bbox_loc=\"lower left\"\n",
    "plt.legend(bbox_to_anchor=bbox_to_anchor, loc=bbox_loc, borderaxespad=0)\n",
    "plt.title(\"Relationship of Stringency index and reproduction number\")\n",
    "plt.ylabel(\"Reproduction number\")\n",
    "plt.xlabel(\"Stringency index\")\n",
    "plt.show()"
   ]
  }
 ],
 "metadata": {
  "kernelspec": {
   "display_name": "Python 3.8.2 64-bit ('.venv': venv)",
   "name": "python_defaultSpec_1597669925034"
  },
  "language_info": {
   "codemirror_mode": {
    "name": "ipython",
    "version": 3
   },
   "file_extension": ".py",
   "mimetype": "text/x-python",
   "name": "python",
   "nbconvert_exporter": "python",
   "pygments_lexer": "ipython3",
   "version": "3.8.2-final"
  }
 },
 "nbformat": 4,
 "nbformat_minor": 4
}
