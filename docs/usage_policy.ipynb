{
 "cells": [
  {
   "cell_type": "markdown",
   "metadata": {},
   "source": [
    "# Usage (details: policy measures)\n",
    "Here, we will analyse the relationship of policy measures and parameter values of SIR-derived ODE models. Policy measures are tracked by [Oxford Covid-19 Government Response Tracker (OxCGRT)](https://github.com/OxCGRT/covid-policy-tracker)."
   ]
  },
  {
   "cell_type": "markdown",
   "metadata": {},
   "source": [
    "## Preparation"
   ]
  },
  {
   "cell_type": "code",
   "execution_count": 1,
   "metadata": {
    "collapsed": false
   },
   "outputs": [],
   "source": [
    "# Standard users\n",
    "# !pip install covsirphy\n",
    "# Developers (Note: this notebook is in example directory)\n",
    "import os\n",
    "os.chdir(\"../\")"
   ]
  },
  {
   "cell_type": "code",
   "execution_count": 2,
   "metadata": {
    "collapsed": false
   },
   "outputs": [],
   "source": [
    "from pprint import pprint"
   ]
  },
  {
   "cell_type": "code",
   "execution_count": 3,
   "metadata": {
    "collapsed": false
   },
   "outputs": [
    {
     "data": {
      "text/plain": [
       "'2.13.0'"
      ]
     },
     "execution_count": 3,
     "metadata": {},
     "output_type": "execute_result"
    }
   ],
   "source": [
    "import covsirphy as cs\n",
    "cs.__version__"
   ]
  },
  {
   "cell_type": "code",
   "execution_count": 4,
   "metadata": {
    "collapsed": false,
    "tags": []
   },
   "outputs": [
    {
     "name": "stdout",
     "output_type": "stream",
     "text": [
      "(Secondary source) Guidotti, E., Ardia, D., (2020), \"COVID-19 Data Hub\", Journal of Open Source Software 5(51):2376, doi: 10.21105/joss.02376.\n"
     ]
    }
   ],
   "source": [
    "# Standard users and developers\n",
    "data_loader = cs.DataLoader(\"input\")\n",
    "# The number of cases (JHU style)\n",
    "jhu_data = data_loader.jhu(verbose=False)\n",
    "# Population in each country\n",
    "population_data = data_loader.population(verbose=False)\n",
    "# Government Response Tracker (OxCGRT)\n",
    "oxcgrt_data = data_loader.oxcgrt(verbose=False)\n",
    "# Description/citation\n",
    "print(oxcgrt_data.citation)"
   ]
  },
  {
   "cell_type": "markdown",
   "metadata": {},
   "source": [
    "## Class for policy measure analysis\n",
    "We will `PolicyMeasures` class to find relationship of policy measures and parameter values of SIR-derived ODE models."
   ]
  },
  {
   "cell_type": "code",
   "execution_count": 5,
   "metadata": {
    "collapsed": false,
    "tags": []
   },
   "outputs": [
    {
     "name": "stderr",
     "output_type": "stream",
     "text": [
      "/home/runner/.local/share/virtualenvs/covid19-sir-kT3BL-HO/lib/python3.8/site-packages/scipy/interpolate/fitpack2.py:253: UserWarning: \n",
      "The maximal number of iterations maxit (set to 20 by the program)\n",
      "allowed for finding a smoothing spline with fp=s has been reached: s\n",
      "too small.\n",
      "There is an approximation returned but the corresponding weighted sum\n",
      "of squared residuals does not satisfy the condition abs(fp-s)/s < tol.\n",
      "  warnings.warn(message)\n"
     ]
    },
    {
     "data": {
      "text/plain": [
       "196"
      ]
     },
     "execution_count": 5,
     "metadata": {},
     "output_type": "execute_result"
    }
   ],
   "source": [
    "# Create analyser with tau value 360 [min] (can be changed)\n",
    "analyser = cs.PolicyMeasures(jhu_data, population_data, oxcgrt_data, tau=360)\n",
    "# The number of registerd countries\n",
    "len(analyser.countries)"
   ]
  },
  {
   "cell_type": "code",
   "execution_count": 6,
   "metadata": {
    "collapsed": false
   },
   "outputs": [
    {
     "data": {
      "text/plain": [
       "covsirphy.analysis.scenario.Scenario"
      ]
     },
     "execution_count": 6,
     "metadata": {},
     "output_type": "execute_result"
    }
   ],
   "source": [
    "# We can get Scenario instance for detailed scenario analysis\n",
    "type(analyser.scenario(\"Japan\"))"
   ]
  },
  {
   "cell_type": "markdown",
   "metadata": {},
   "source": [
    "## Set phases with S-R trend analysis\n",
    "We will perform S-R trend analysis to set phases in all countries. Countries which do not have **16th phases** will be un-registered for the next analysis. This number will be adjusted for your analysis."
   ]
  },
  {
   "cell_type": "code",
   "execution_count": 7,
   "metadata": {
    "collapsed": false
   },
   "outputs": [
    {
     "name": "stdout",
     "output_type": "stream",
     "text": [
      "{2: ['Solomon Islands', 'Holy See', 'Timor-Leste'],\n",
      " 3: ['Tanzania', 'Laos', 'Saint Kitts and Nevis'],\n",
      " 4: ['Saint Lucia', 'Grenada', 'Dominica', 'Brunei'],\n",
      " 5: ['Fiji', 'Equatorial Guinea'],\n",
      " 6: ['Antigua and Barbuda', 'Mauritius', 'Saint Vincent and the Grenadines'],\n",
      " 7: ['Gambia'],\n",
      " 8: ['Liechtenstein', 'Monaco', 'Kyrgyzstan', 'Northern Mariana Islands',\n",
      "     'Cambodia', 'Trinidad and Tobago', 'Vietnam', 'Seychelles', 'Bahamas',\n",
      "     'Madagascar'],\n",
      " 9: ['Malawi', 'Barbados', 'Sao Tome and Principe', 'Ghana', 'Bolivia',\n",
      "     'Suriname', 'Lesotho', 'Bermuda', 'Virgin Islands, U.S.', 'Kazakhstan',\n",
      "     'Belize', 'Zambia', 'Australia', 'Swaziland', 'Burundi', 'Zimbabwe',\n",
      "     'Republic of the Congo', 'Djibouti', 'South Africa', 'Uzbekistan',\n",
      "     'Oman'],\n",
      " 10: ['Benin', 'Jamaica', 'Syria', 'Central African Republic', 'Namibia',\n",
      "      'Mozambique', 'Philippines', 'Angola', 'Bhutan', 'Kuwait', 'Gabon',\n",
      "      'Comoros', 'Papua New Guinea', 'Ethiopia', 'Botswana', 'Libya', 'Bahrain',\n",
      "      'Chile', 'Dominican Republic', 'Maldives', 'Guyana', 'Singapore',\n",
      "      \"Cote d'Ivoire\", 'New Zealand', 'Nigeria', 'Israel', 'Guatemala',\n",
      "      'Venezuela', 'Liberia', 'Senegal', 'Honduras', 'Mongolia', 'Eritrea',\n",
      "      'Rwanda', 'Saudi Arabia', 'Algeria'],\n",
      " 11: ['Panama', 'El Salvador', 'India', 'Cape Verde', 'Paraguay', 'Yemen',\n",
      "      'Bangladesh', 'Cameroon', 'Montenegro', 'Togo', 'Guinea-Bissau',\n",
      "      'Colombia', 'Kenya', 'Taiwan', 'Peru', 'Pakistan', 'Guinea', 'Chad',\n",
      "      'Egypt', 'Brazil', 'Mexico', 'Sierra Leone', 'Guam', 'Nicaragua', 'Sudan',\n",
      "      'Puerto Rico', 'Nepal', 'Costa Rica', 'Jordan', 'Iraq', 'Ecuador'],\n",
      " 12: ['South Sudan', 'Democratic Republic of the Congo', 'Indonesia',\n",
      "      'Argentina', 'United Arab Emirates', 'Azerbaijan', 'Tajikistan', 'Kosovo',\n",
      "      'Georgia', 'Japan', 'Slovakia', 'Qatar', 'Iceland', 'Niger'],\n",
      " 13: ['Tunisia', 'Poland', 'Cuba', 'Myanmar', 'Malta', 'Burkina Faso', 'Greece',\n",
      "      'Mauritania', 'Palestine', 'Serbia', 'Armenia', 'Sri Lanka', 'Uganda',\n",
      "      'Croatia', 'Hungary', 'Slovenia', 'Russia', 'Belarus', 'Bulgaria',\n",
      "      'Andorra', 'United States', 'Moldova', 'Cyprus', 'Mali', 'Somalia',\n",
      "      'China', 'Haiti', 'Luxembourg', 'San Marino'],\n",
      " 14: ['Norway', 'Iran', 'Lithuania', 'Albania', 'Czech Republic',\n",
      "      'Bosnia and Herzegovina', 'Ireland', 'Turkey', 'North Macedonia',\n",
      "      'Afghanistan', 'Thailand', 'Malaysia', 'Spain', 'Latvia', 'Uruguay',\n",
      "      'Morocco'],\n",
      " 15: ['Sweden', 'Estonia', 'Finland', 'Switzerland', 'Lebanon', 'Italy',\n",
      "      'Germany', 'Romania', 'Canada'],\n",
      " 16: ['Belgium', 'Netherlands', 'United Kingdom', 'Denmark', 'Portugal',\n",
      "      'Austria', 'Ukraine'],\n",
      " 17: ['France']}\n"
     ]
    }
   ],
   "source": [
    "# Show the number of phases of all countries\n",
    "analyser.trend()\n",
    "pprint(analyser.phase_len(), compact=True)"
   ]
  },
  {
   "cell_type": "code",
   "execution_count": 8,
   "metadata": {
    "collapsed": false
   },
   "outputs": [
    {
     "data": {
      "text/plain": [
       "8"
      ]
     },
     "execution_count": 8,
     "metadata": {},
     "output_type": "execute_result"
    }
   ],
   "source": [
    "# Set phases with S-R trend analysis\n",
    "analyser.trend(min_len=16)\n",
    "# The number of countries\n",
    "len(analyser.countries)"
   ]
  },
  {
   "cell_type": "code",
   "execution_count": 9,
   "metadata": {
    "collapsed": false,
    "tags": []
   },
   "outputs": [
    {
     "name": "stdout",
     "output_type": "stream",
     "text": [
      "{16: ['Belgium', 'Netherlands', 'United Kingdom', 'Denmark', 'Portugal',\n",
      "      'Austria', 'Ukraine'],\n",
      " 17: ['France']}\n"
     ]
    }
   ],
   "source": [
    "phase_len_dict = analyser.phase_len()\n",
    "pprint(phase_len_dict, compact=True)"
   ]
  },
  {
   "cell_type": "code",
   "execution_count": 10,
   "metadata": {
    "collapsed": false,
    "tags": []
   },
   "outputs": [
    {
     "data": {
      "text/html": [
       "<div>\n",
       "<style scoped>\n",
       "    .dataframe tbody tr th:only-of-type {\n",
       "        vertical-align: middle;\n",
       "    }\n",
       "\n",
       "    .dataframe tbody tr th {\n",
       "        vertical-align: top;\n",
       "    }\n",
       "\n",
       "    .dataframe thead th {\n",
       "        text-align: right;\n",
       "    }\n",
       "</style>\n",
       "<table border=\"1\" class=\"dataframe\">\n",
       "  <thead>\n",
       "    <tr style=\"text-align: right;\">\n",
       "      <th></th>\n",
       "      <th></th>\n",
       "      <th>Type</th>\n",
       "      <th>Start</th>\n",
       "      <th>End</th>\n",
       "      <th>Population</th>\n",
       "    </tr>\n",
       "    <tr>\n",
       "      <th>Country</th>\n",
       "      <th>Phase</th>\n",
       "      <th></th>\n",
       "      <th></th>\n",
       "      <th></th>\n",
       "      <th></th>\n",
       "    </tr>\n",
       "  </thead>\n",
       "  <tbody>\n",
       "    <tr>\n",
       "      <th rowspan=\"17\" valign=\"top\">France</th>\n",
       "      <th>0th</th>\n",
       "      <td>Past</td>\n",
       "      <td>07Feb2020</td>\n",
       "      <td>30Mar2020</td>\n",
       "      <td>66977107</td>\n",
       "    </tr>\n",
       "    <tr>\n",
       "      <th>1st</th>\n",
       "      <td>Past</td>\n",
       "      <td>31Mar2020</td>\n",
       "      <td>22Apr2020</td>\n",
       "      <td>66977107</td>\n",
       "    </tr>\n",
       "    <tr>\n",
       "      <th>2nd</th>\n",
       "      <td>Past</td>\n",
       "      <td>23Apr2020</td>\n",
       "      <td>08Jul2020</td>\n",
       "      <td>66977107</td>\n",
       "    </tr>\n",
       "    <tr>\n",
       "      <th>3rd</th>\n",
       "      <td>Past</td>\n",
       "      <td>09Jul2020</td>\n",
       "      <td>18Aug2020</td>\n",
       "      <td>66977107</td>\n",
       "    </tr>\n",
       "    <tr>\n",
       "      <th>4th</th>\n",
       "      <td>Past</td>\n",
       "      <td>19Aug2020</td>\n",
       "      <td>02Sep2020</td>\n",
       "      <td>66977107</td>\n",
       "    </tr>\n",
       "    <tr>\n",
       "      <th>5th</th>\n",
       "      <td>Past</td>\n",
       "      <td>03Sep2020</td>\n",
       "      <td>14Sep2020</td>\n",
       "      <td>66977107</td>\n",
       "    </tr>\n",
       "    <tr>\n",
       "      <th>6th</th>\n",
       "      <td>Past</td>\n",
       "      <td>15Sep2020</td>\n",
       "      <td>22Sep2020</td>\n",
       "      <td>66977107</td>\n",
       "    </tr>\n",
       "    <tr>\n",
       "      <th>7th</th>\n",
       "      <td>Past</td>\n",
       "      <td>23Sep2020</td>\n",
       "      <td>01Oct2020</td>\n",
       "      <td>66977107</td>\n",
       "    </tr>\n",
       "    <tr>\n",
       "      <th>8th</th>\n",
       "      <td>Past</td>\n",
       "      <td>02Oct2020</td>\n",
       "      <td>08Oct2020</td>\n",
       "      <td>66977107</td>\n",
       "    </tr>\n",
       "    <tr>\n",
       "      <th>9th</th>\n",
       "      <td>Past</td>\n",
       "      <td>09Oct2020</td>\n",
       "      <td>15Oct2020</td>\n",
       "      <td>66977107</td>\n",
       "    </tr>\n",
       "    <tr>\n",
       "      <th>10th</th>\n",
       "      <td>Past</td>\n",
       "      <td>16Oct2020</td>\n",
       "      <td>21Oct2020</td>\n",
       "      <td>66977107</td>\n",
       "    </tr>\n",
       "    <tr>\n",
       "      <th>11th</th>\n",
       "      <td>Past</td>\n",
       "      <td>22Oct2020</td>\n",
       "      <td>31Oct2020</td>\n",
       "      <td>66977107</td>\n",
       "    </tr>\n",
       "    <tr>\n",
       "      <th>12th</th>\n",
       "      <td>Past</td>\n",
       "      <td>01Nov2020</td>\n",
       "      <td>10Nov2020</td>\n",
       "      <td>66977107</td>\n",
       "    </tr>\n",
       "    <tr>\n",
       "      <th>13th</th>\n",
       "      <td>Past</td>\n",
       "      <td>11Nov2020</td>\n",
       "      <td>16Nov2020</td>\n",
       "      <td>66977107</td>\n",
       "    </tr>\n",
       "    <tr>\n",
       "      <th>14th</th>\n",
       "      <td>Past</td>\n",
       "      <td>17Nov2020</td>\n",
       "      <td>24Nov2020</td>\n",
       "      <td>66977107</td>\n",
       "    </tr>\n",
       "    <tr>\n",
       "      <th>15th</th>\n",
       "      <td>Past</td>\n",
       "      <td>25Nov2020</td>\n",
       "      <td>03Dec2020</td>\n",
       "      <td>66977107</td>\n",
       "    </tr>\n",
       "    <tr>\n",
       "      <th>16th</th>\n",
       "      <td>Past</td>\n",
       "      <td>04Dec2020</td>\n",
       "      <td>13Dec2020</td>\n",
       "      <td>66977107</td>\n",
       "    </tr>\n",
       "  </tbody>\n",
       "</table>\n",
       "</div>"
      ],
      "text/plain": [
       "               Type      Start        End  Population\n",
       "Country Phase                                        \n",
       "France  0th    Past  07Feb2020  30Mar2020    66977107\n",
       "        1st    Past  31Mar2020  22Apr2020    66977107\n",
       "        2nd    Past  23Apr2020  08Jul2020    66977107\n",
       "        3rd    Past  09Jul2020  18Aug2020    66977107\n",
       "        4th    Past  19Aug2020  02Sep2020    66977107\n",
       "        5th    Past  03Sep2020  14Sep2020    66977107\n",
       "        6th    Past  15Sep2020  22Sep2020    66977107\n",
       "        7th    Past  23Sep2020  01Oct2020    66977107\n",
       "        8th    Past  02Oct2020  08Oct2020    66977107\n",
       "        9th    Past  09Oct2020  15Oct2020    66977107\n",
       "        10th   Past  16Oct2020  21Oct2020    66977107\n",
       "        11th   Past  22Oct2020  31Oct2020    66977107\n",
       "        12th   Past  01Nov2020  10Nov2020    66977107\n",
       "        13th   Past  11Nov2020  16Nov2020    66977107\n",
       "        14th   Past  17Nov2020  24Nov2020    66977107\n",
       "        15th   Past  25Nov2020  03Dec2020    66977107\n",
       "        16th   Past  04Dec2020  13Dec2020    66977107"
      ]
     },
     "execution_count": 10,
     "metadata": {},
     "output_type": "execute_result"
    }
   ],
   "source": [
    "# Here, only show the countries which have the most phases\n",
    "countries_show = max(phase_len_dict.items(), key=lambda x: x[0])[1]\n",
    "# Show summary\n",
    "analyser.summary(countries=countries_show)"
   ]
  },
  {
   "cell_type": "markdown",
   "metadata": {},
   "source": [
    "## Parameter estimation\n",
    "we will estimate the parameter values with SIR-derived ODE models in each country."
   ]
  },
  {
   "cell_type": "code",
   "execution_count": 11,
   "metadata": {
    "collapsed": false,
    "tags": []
   },
   "outputs": [
    {
     "name": "stdout",
     "output_type": "stream",
     "text": [
      "\n",
      "<SIR-F model: parameter estimation>\n",
      "Running optimization with 4 CPUs...\n"
     ]
    },
    {
     "name": "stdout",
     "output_type": "stream",
     "text": [
      "\tAUT,  4th phase (18Aug2020 - 06Sep2020): finished  237 trials in 0 min 10 sec"
     ]
    },
    {
     "name": "stdout",
     "output_type": "stream",
     "text": [
      "\n"
     ]
    },
    {
     "name": "stdout",
     "output_type": "stream",
     "text": [
      "\tGBR,  2nd phase (24Apr2020 - 11May2020): finished  230 trials in 0 min 10 sec"
     ]
    },
    {
     "name": "stdout",
     "output_type": "stream",
     "text": [
      "\n"
     ]
    },
    {
     "name": "stdout",
     "output_type": "stream",
     "text": [
      "\tPRT,  0th phase (14Mar2020 - 01Apr2020): finished  226 trials in 0 min 10 sec"
     ]
    },
    {
     "name": "stdout",
     "output_type": "stream",
     "text": [
      "\n"
     ]
    },
    {
     "name": "stderr",
     "output_type": "stream",
     "text": [
      "/home/runner/.local/share/virtualenvs/covid19-sir-kT3BL-HO/lib/python3.8/site-packages/scipy/interpolate/fitpack2.py:253: UserWarning: \n",
      "The maximal number of iterations maxit (set to 20 by the program)\n",
      "allowed for finding a smoothing spline with fp=s has been reached: s\n",
      "too small.\n",
      "There is an approximation returned but the corresponding weighted sum\n",
      "of squared residuals does not satisfy the condition abs(fp-s)/s < tol.\n",
      "  warnings.warn(message)\n"
     ]
    },
    {
     "name": "stdout",
     "output_type": "stream",
     "text": [
      "\tUKR,  0th phase (21Mar2020 - 30May2020): finished  235 trials in 0 min 10 sec"
     ]
    },
    {
     "name": "stdout",
     "output_type": "stream",
     "text": [
      "\n"
     ]
    },
    {
     "name": "stderr",
     "output_type": "stream",
     "text": [
      "/home/runner/.local/share/virtualenvs/covid19-sir-kT3BL-HO/lib/python3.8/site-packages/scipy/interpolate/fitpack2.py:253: UserWarning: \n",
      "The maximal number of iterations maxit (set to 20 by the program)\n",
      "allowed for finding a smoothing spline with fp=s has been reached: s\n",
      "too small.\n",
      "There is an approximation returned but the corresponding weighted sum\n",
      "of squared residuals does not satisfy the condition abs(fp-s)/s < tol.\n",
      "  warnings.warn(message)\n"
     ]
    },
    {
     "name": "stderr",
     "output_type": "stream",
     "text": [
      "/home/runner/.local/share/virtualenvs/covid19-sir-kT3BL-HO/lib/python3.8/site-packages/scipy/interpolate/fitpack2.py:253: UserWarning: \n",
      "The maximal number of iterations maxit (set to 20 by the program)\n",
      "allowed for finding a smoothing spline with fp=s has been reached: s\n",
      "too small.\n",
      "There is an approximation returned but the corresponding weighted sum\n",
      "of squared residuals does not satisfy the condition abs(fp-s)/s < tol.\n",
      "  warnings.warn(message)\n"
     ]
    },
    {
     "name": "stdout",
     "output_type": "stream",
     "text": [
      "\tUKR,  5th phase (17Sep2020 - 30Sep2020): finished  264 trials in 0 min 10 sec"
     ]
    },
    {
     "name": "stdout",
     "output_type": "stream",
     "text": [
      "\n"
     ]
    },
    {
     "name": "stdout",
     "output_type": "stream",
     "text": [
      "\tFRA, 16th phase (04Dec2020 - 13Dec2020): finished  275 trials in 0 min 10 sec"
     ]
    },
    {
     "name": "stdout",
     "output_type": "stream",
     "text": [
      "\n"
     ]
    },
    {
     "name": "stdout",
     "output_type": "stream",
     "text": [
      "\tFRA,  4th phase (19Aug2020 - 02Sep2020): finished  282 trials in 0 min 10 sec"
     ]
    },
    {
     "name": "stdout",
     "output_type": "stream",
     "text": [
      "\n"
     ]
    },
    {
     "name": "stdout",
     "output_type": "stream",
     "text": [
      "\tFRA, 10th phase (16Oct2020 - 21Oct2020): finished  283 trials in 0 min 10 sec"
     ]
    },
    {
     "name": "stdout",
     "output_type": "stream",
     "text": [
      "\n"
     ]
    },
    {
     "name": "stdout",
     "output_type": "stream",
     "text": [
      "\tNLD,  1st phase (01Apr2020 - 16Apr2020): finished  286 trials in 0 min 10 sec"
     ]
    },
    {
     "name": "stdout",
     "output_type": "stream",
     "text": [
      "\n"
     ]
    },
    {
     "name": "stdout",
     "output_type": "stream",
     "text": [
      "\tBEL, 13th phase (15Nov2020 - 22Nov2020): finished  249 trials in 0 min 10 sec"
     ]
    },
    {
     "name": "stdout",
     "output_type": "stream",
     "text": [
      "\n"
     ]
    },
    {
     "name": "stdout",
     "output_type": "stream",
     "text": [
      "\tUKR,  3rd phase (12Aug2020 - 31Aug2020): finished  270 trials in 0 min 10 sec"
     ]
    },
    {
     "name": "stdout",
     "output_type": "stream",
     "text": [
      "\n"
     ]
    },
    {
     "name": "stdout",
     "output_type": "stream",
     "text": [
      "\tUKR,  8th phase (22Oct2020 - 29Oct2020): finished  276 trials in 0 min 10 sec"
     ]
    },
    {
     "name": "stdout",
     "output_type": "stream",
     "text": [
      "\n"
     ]
    },
    {
     "name": "stdout",
     "output_type": "stream",
     "text": [
      "\tNLD,  6th phase (19Sep2020 - 27Sep2020): finished  290 trials in 0 min 10 sec"
     ]
    },
    {
     "name": "stdout",
     "output_type": "stream",
     "text": [
      "\n"
     ]
    },
    {
     "name": "stdout",
     "output_type": "stream",
     "text": [
      "\tDNK, 13th phase (17Nov2020 - 22Nov2020): finished  261 trials in 0 min 10 sec"
     ]
    },
    {
     "name": "stdout",
     "output_type": "stream",
     "text": [
      "\n"
     ]
    },
    {
     "name": "stderr",
     "output_type": "stream",
     "text": [
      "/home/runner/.local/share/virtualenvs/covid19-sir-kT3BL-HO/lib/python3.8/site-packages/scipy/interpolate/fitpack2.py:253: UserWarning: \n",
      "The maximal number of iterations maxit (set to 20 by the program)\n",
      "allowed for finding a smoothing spline with fp=s has been reached: s\n",
      "too small.\n",
      "There is an approximation returned but the corresponding weighted sum\n",
      "of squared residuals does not satisfy the condition abs(fp-s)/s < tol.\n",
      "  warnings.warn(message)\n"
     ]
    },
    {
     "name": "stdout",
     "output_type": "stream",
     "text": [
      "\tAUT, 13th phase (20Nov2020 - 30Nov2020): finished  265 trials in 0 min 10 sec"
     ]
    },
    {
     "name": "stdout",
     "output_type": "stream",
     "text": [
      "\n"
     ]
    },
    {
     "name": "stdout",
     "output_type": "stream",
     "text": [
      "\tBEL,  2nd phase (14Apr2020 - 07May2020): finished  282 trials in 0 min 10 sec"
     ]
    },
    {
     "name": "stdout",
     "output_type": "stream",
     "text": [
      "\n"
     ]
    },
    {
     "name": "stdout",
     "output_type": "stream",
     "text": [
      "\tFRA,  9th phase (09Oct2020 - 15Oct2020): finished  261 trials in 0 min 10 sec"
     ]
    },
    {
     "name": "stdout",
     "output_type": "stream",
     "text": [
      "\n"
     ]
    },
    {
     "name": "stdout",
     "output_type": "stream",
     "text": [
      "\tDNK,  2nd phase (03May2020 - 12Jun2020): finished  258 trials in 0 min 10 sec"
     ]
    },
    {
     "name": "stdout",
     "output_type": "stream",
     "text": [
      "\n"
     ]
    },
    {
     "name": "stdout",
     "output_type": "stream",
     "text": [
      "\tNLD, 15th phase (03Dec2020 - 13Dec2020): finished  253 trials in 0 min 10 sec"
     ]
    },
    {
     "name": "stdout",
     "output_type": "stream",
     "text": [
      "\n"
     ]
    },
    {
     "name": "stdout",
     "output_type": "stream",
     "text": [
      "\tBEL,  9th phase (13Oct2020 - 22Oct2020): finished  249 trials in 0 min 10 sec"
     ]
    },
    {
     "name": "stdout",
     "output_type": "stream",
     "text": [
      "\n"
     ]
    },
    {
     "name": "stdout",
     "output_type": "stream",
     "text": [
      "\tDNK,  5th phase (09Sep2020 - 20Sep2020): finished  253 trials in 0 min 10 sec"
     ]
    },
    {
     "name": "stdout",
     "output_type": "stream",
     "text": [
      "\n"
     ]
    },
    {
     "name": "stdout",
     "output_type": "stream",
     "text": [
      "\tAUT, 15th phase (07Dec2020 - 13Dec2020): finished  256 trials in 0 min 10 sec"
     ]
    },
    {
     "name": "stdout",
     "output_type": "stream",
     "text": [
      "\n"
     ]
    },
    {
     "name": "stdout",
     "output_type": "stream",
     "text": [
      "\tGBR,  1st phase (07Apr2020 - 23Apr2020): finished  264 trials in 0 min 10 sec"
     ]
    },
    {
     "name": "stdout",
     "output_type": "stream",
     "text": [
      "\n"
     ]
    },
    {
     "name": "stdout",
     "output_type": "stream",
     "text": [
      "\tPRT,  1st phase (02Apr2020 - 18Apr2020): finished  285 trials in 0 min 10 sec"
     ]
    },
    {
     "name": "stdout",
     "output_type": "stream",
     "text": [
      "\n"
     ]
    },
    {
     "name": "stdout",
     "output_type": "stream",
     "text": [
      "\tUKR,  2nd phase (09Jul2020 - 11Aug2020): finished  262 trials in 0 min 10 sec"
     ]
    },
    {
     "name": "stdout",
     "output_type": "stream",
     "text": [
      "\n"
     ]
    },
    {
     "name": "stdout",
     "output_type": "stream",
     "text": [
      "\tPRT,  5th phase (15Jul2020 - 25Aug2020): finished  291 trials in 0 min 10 sec"
     ]
    },
    {
     "name": "stdout",
     "output_type": "stream",
     "text": [
      "\n"
     ]
    },
    {
     "name": "stdout",
     "output_type": "stream",
     "text": [
      "\tPRT, 10th phase (22Oct2020 - 27Oct2020): finished  286 trials in 0 min 10 sec"
     ]
    },
    {
     "name": "stdout",
     "output_type": "stream",
     "text": [
      "\n"
     ]
    },
    {
     "name": "stdout",
     "output_type": "stream",
     "text": [
      "\tNLD,  3rd phase (22May2020 - 07Aug2020): finished  258 trials in 0 min 10 sec"
     ]
    },
    {
     "name": "stdout",
     "output_type": "stream",
     "text": [
      "\n"
     ]
    },
    {
     "name": "stderr",
     "output_type": "stream",
     "text": [
      "/home/runner/.local/share/virtualenvs/covid19-sir-kT3BL-HO/lib/python3.8/site-packages/scipy/interpolate/fitpack2.py:253: UserWarning: \n",
      "The maximal number of iterations maxit (set to 20 by the program)\n",
      "allowed for finding a smoothing spline with fp=s has been reached: s\n",
      "too small.\n",
      "There is an approximation returned but the corresponding weighted sum\n",
      "of squared residuals does not satisfy the condition abs(fp-s)/s < tol.\n",
      "  warnings.warn(message)\n"
     ]
    },
    {
     "name": "stdout",
     "output_type": "stream",
     "text": [
      "\tBEL,  4th phase (28Jul2020 - 22Aug2020): finished  257 trials in 0 min 10 sec"
     ]
    },
    {
     "name": "stdout",
     "output_type": "stream",
     "text": [
      "\n"
     ]
    },
    {
     "name": "stdout",
     "output_type": "stream",
     "text": [
      "\tBEL,  1st phase (31Mar2020 - 13Apr2020): finished  267 trials in 0 min 10 sec"
     ]
    },
    {
     "name": "stdout",
     "output_type": "stream",
     "text": [
      "\n"
     ]
    },
    {
     "name": "stdout",
     "output_type": "stream",
     "text": [
      "\tBEL,  6th phase (15Sep2020 - 28Sep2020): finished  274 trials in 0 min 10 sec"
     ]
    },
    {
     "name": "stdout",
     "output_type": "stream",
     "text": [
      "\n"
     ]
    },
    {
     "name": "stdout",
     "output_type": "stream",
     "text": [
      "\tFRA,  6th phase (15Sep2020 - 22Sep2020): finished  304 trials in 0 min 10 sec"
     ]
    },
    {
     "name": "stdout",
     "output_type": "stream",
     "text": [
      "\n"
     ]
    },
    {
     "name": "stdout",
     "output_type": "stream",
     "text": [
      "\tNLD, 13th phase (20Nov2020 - 25Nov2020): finished  301 trials in 0 min 10 sec"
     ]
    },
    {
     "name": "stdout",
     "output_type": "stream",
     "text": [
      "\n"
     ]
    },
    {
     "name": "stdout",
     "output_type": "stream",
     "text": [
      "\tGBR,  7th phase (03Oct2020 - 11Oct2020): finished  301 trials in 0 min 10 sec"
     ]
    },
    {
     "name": "stdout",
     "output_type": "stream",
     "text": [
      "\n"
     ]
    },
    {
     "name": "stdout",
     "output_type": "stream",
     "text": [
      "\tGBR,  5th phase (18Aug2020 - 17Sep2020): finished  263 trials in 0 min 10 sec"
     ]
    },
    {
     "name": "stdout",
     "output_type": "stream",
     "text": [
      "\n"
     ]
    },
    {
     "name": "stdout",
     "output_type": "stream",
     "text": [
      "\tUKR,  1st phase (31May2020 - 08Jul2020): finished  277 trials in 0 min 10 sec"
     ]
    },
    {
     "name": "stdout",
     "output_type": "stream",
     "text": [
      "\n"
     ]
    },
    {
     "name": "stdout",
     "output_type": "stream",
     "text": [
      "\tPRT,  4th phase (19Jun2020 - 14Jul2020): finished  318 trials in 0 min 10 sec"
     ]
    },
    {
     "name": "stdout",
     "output_type": "stream",
     "text": [
      "\n"
     ]
    },
    {
     "name": "stdout",
     "output_type": "stream",
     "text": [
      "\tGBR, 11th phase (06Nov2020 - 11Nov2020): finished  295 trials in 0 min 10 sec"
     ]
    },
    {
     "name": "stdout",
     "output_type": "stream",
     "text": [
      "\n"
     ]
    },
    {
     "name": "stdout",
     "output_type": "stream",
     "text": [
      "\tAUT,  1st phase (25Mar2020 - 08Apr2020): finished  286 trials in 0 min 10 sec"
     ]
    },
    {
     "name": "stdout",
     "output_type": "stream",
     "text": [
      "\n"
     ]
    },
    {
     "name": "stderr",
     "output_type": "stream",
     "text": [
      "/home/runner/.local/share/virtualenvs/covid19-sir-kT3BL-HO/lib/python3.8/site-packages/scipy/interpolate/fitpack2.py:253: UserWarning: \n",
      "The maximal number of iterations maxit (set to 20 by the program)\n",
      "allowed for finding a smoothing spline with fp=s has been reached: s\n",
      "too small.\n",
      "There is an approximation returned but the corresponding weighted sum\n",
      "of squared residuals does not satisfy the condition abs(fp-s)/s < tol.\n",
      "  warnings.warn(message)\n"
     ]
    },
    {
     "name": "stdout",
     "output_type": "stream",
     "text": [
      "\tAUT, 11th phase (31Oct2020 - 09Nov2020): finished  259 trials in 0 min 10 sec"
     ]
    },
    {
     "name": "stdout",
     "output_type": "stream",
     "text": [
      "\n"
     ]
    },
    {
     "name": "stdout",
     "output_type": "stream",
     "text": [
      "\tUKR, 11th phase (13Nov2020 - 18Nov2020): finished  264 trials in 0 min 10 sec"
     ]
    },
    {
     "name": "stdout",
     "output_type": "stream",
     "text": [
      "\n"
     ]
    },
    {
     "name": "stdout",
     "output_type": "stream",
     "text": [
      "\tFRA,  0th phase (07Feb2020 - 30Mar2020): finished  246 trials in 0 min 10 sec"
     ]
    },
    {
     "name": "stdout",
     "output_type": "stream",
     "text": [
      "\n"
     ]
    },
    {
     "name": "stdout",
     "output_type": "stream",
     "text": [
      "\tGBR,  8th phase (12Oct2020 - 19Oct2020): finished  301 trials in 0 min 10 sec"
     ]
    },
    {
     "name": "stdout",
     "output_type": "stream",
     "text": [
      "\n"
     ]
    },
    {
     "name": "stdout",
     "output_type": "stream",
     "text": [
      "\tGBR,  9th phase (20Oct2020 - 25Oct2020): finished  334 trials in 0 min 10 sec"
     ]
    },
    {
     "name": "stdout",
     "output_type": "stream",
     "text": [
      "\n"
     ]
    },
    {
     "name": "stdout",
     "output_type": "stream",
     "text": [
      "\tBEL,  0th phase (13Mar2020 - 30Mar2020): finished  260 trials in 0 min 10 sec"
     ]
    },
    {
     "name": "stdout",
     "output_type": "stream",
     "text": [
      "\n"
     ]
    },
    {
     "name": "stdout",
     "output_type": "stream",
     "text": [
      "\tNLD,  4th phase (08Aug2020 - 04Sep2020): finished  307 trials in 0 min 10 sec"
     ]
    },
    {
     "name": "stdout",
     "output_type": "stream",
     "text": [
      "\n"
     ]
    },
    {
     "name": "stdout",
     "output_type": "stream",
     "text": [
      "\tGBR, 15th phase (05Dec2020 - 13Dec2020): finished  280 trials in 0 min 10 sec"
     ]
    },
    {
     "name": "stdout",
     "output_type": "stream",
     "text": [
      "\n"
     ]
    },
    {
     "name": "stdout",
     "output_type": "stream",
     "text": [
      "\tNLD,  8th phase (05Oct2020 - 14Oct2020): finished  309 trials in 0 min 10 sec"
     ]
    },
    {
     "name": "stdout",
     "output_type": "stream",
     "text": [
      "\n"
     ]
    },
    {
     "name": "stdout",
     "output_type": "stream",
     "text": [
      "\tNLD,  0th phase (11Mar2020 - 31Mar2020): finished  294 trials in 0 min 10 sec"
     ]
    },
    {
     "name": "stdout",
     "output_type": "stream",
     "text": [
      "\n"
     ]
    },
    {
     "name": "stdout",
     "output_type": "stream",
     "text": [
      "\tDNK,  0th phase (19Mar2020 - 12Apr2020): finished  324 trials in 0 min 10 sec"
     ]
    },
    {
     "name": "stdout",
     "output_type": "stream",
     "text": [
      "\n"
     ]
    },
    {
     "name": "stdout",
     "output_type": "stream",
     "text": [
      "\tAUT,  7th phase (28Sep2020 - 06Oct2020): finished  333 trials in 0 min 10 sec"
     ]
    },
    {
     "name": "stdout",
     "output_type": "stream",
     "text": [
      "\n"
     ]
    },
    {
     "name": "stdout",
     "output_type": "stream",
     "text": [
      "\tPRT,  6th phase (26Aug2020 - 15Sep2020): finished  341 trials in 0 min 10 sec"
     ]
    },
    {
     "name": "stdout",
     "output_type": "stream",
     "text": [
      "\n"
     ]
    },
    {
     "name": "stderr",
     "output_type": "stream",
     "text": [
      "/home/runner/.local/share/virtualenvs/covid19-sir-kT3BL-HO/lib/python3.8/site-packages/scipy/interpolate/fitpack2.py:253: UserWarning: \n",
      "The maximal number of iterations maxit (set to 20 by the program)\n",
      "allowed for finding a smoothing spline with fp=s has been reached: s\n",
      "too small.\n",
      "There is an approximation returned but the corresponding weighted sum\n",
      "of squared residuals does not satisfy the condition abs(fp-s)/s < tol.\n",
      "  warnings.warn(message)\n"
     ]
    },
    {
     "name": "stderr",
     "output_type": "stream",
     "text": [
      "/home/runner/.local/share/virtualenvs/covid19-sir-kT3BL-HO/lib/python3.8/site-packages/scipy/interpolate/fitpack2.py:253: UserWarning: \n",
      "The maximal number of iterations maxit (set to 20 by the program)\n",
      "allowed for finding a smoothing spline with fp=s has been reached: s\n",
      "too small.\n",
      "There is an approximation returned but the corresponding weighted sum\n",
      "of squared residuals does not satisfy the condition abs(fp-s)/s < tol.\n",
      "  warnings.warn(message)\n"
     ]
    },
    {
     "name": "stdout",
     "output_type": "stream",
     "text": [
      "\tDNK,  7th phase (01Oct2020 - 12Oct2020): finished  304 trials in 0 min 10 sec"
     ]
    },
    {
     "name": "stdout",
     "output_type": "stream",
     "text": [
      "\n"
     ]
    },
    {
     "name": "stdout",
     "output_type": "stream",
     "text": [
      "\tAUT,  2nd phase (09Apr2020 - 10Jul2020): finished  307 trials in 0 min 10 sec"
     ]
    },
    {
     "name": "stdout",
     "output_type": "stream",
     "text": [
      "\n"
     ]
    },
    {
     "name": "stdout",
     "output_type": "stream",
     "text": [
      "\tFRA, 13th phase (11Nov2020 - 16Nov2020): finished  333 trials in 0 min 10 sec"
     ]
    },
    {
     "name": "stdout",
     "output_type": "stream",
     "text": [
      "\n"
     ]
    },
    {
     "name": "stderr",
     "output_type": "stream",
     "text": [
      "/home/runner/.local/share/virtualenvs/covid19-sir-kT3BL-HO/lib/python3.8/site-packages/scipy/interpolate/fitpack2.py:253: UserWarning: \n",
      "The maximal number of iterations maxit (set to 20 by the program)\n",
      "allowed for finding a smoothing spline with fp=s has been reached: s\n",
      "too small.\n",
      "There is an approximation returned but the corresponding weighted sum\n",
      "of squared residuals does not satisfy the condition abs(fp-s)/s < tol.\n",
      "  warnings.warn(message)\n"
     ]
    },
    {
     "name": "stdout",
     "output_type": "stream",
     "text": [
      "\tFRA, 14th phase (17Nov2020 - 24Nov2020): finished  335 trials in 0 min 10 sec"
     ]
    },
    {
     "name": "stdout",
     "output_type": "stream",
     "text": [
      "\n"
     ]
    },
    {
     "name": "stdout",
     "output_type": "stream",
     "text": [
      "\tBEL, 11th phase (02Nov2020 - 07Nov2020): finished  292 trials in 0 min 10 sec"
     ]
    },
    {
     "name": "stdout",
     "output_type": "stream",
     "text": [
      "\n"
     ]
    },
    {
     "name": "stdout",
     "output_type": "stream",
     "text": [
      "\tFRA, 15th phase (25Nov2020 - 03Dec2020): finished  297 trials in 0 min 10 sec"
     ]
    },
    {
     "name": "stdout",
     "output_type": "stream",
     "text": [
      "\n"
     ]
    },
    {
     "name": "stdout",
     "output_type": "stream",
     "text": [
      "\tGBR,  4th phase (12Jun2020 - 17Aug2020): finished  289 trials in 0 min 10 sec"
     ]
    },
    {
     "name": "stdout",
     "output_type": "stream",
     "text": [
      "\n"
     ]
    },
    {
     "name": "stdout",
     "output_type": "stream",
     "text": [
      "\tBEL, 10th phase (23Oct2020 - 01Nov2020): finished  293 trials in 0 min 10 sec"
     ]
    },
    {
     "name": "stdout",
     "output_type": "stream",
     "text": [
      "\n"
     ]
    },
    {
     "name": "stdout",
     "output_type": "stream",
     "text": [
      "\tUKR,  6th phase (01Oct2020 - 11Oct2020): finished  239 trials in 0 min 10 sec"
     ]
    },
    {
     "name": "stdout",
     "output_type": "stream",
     "text": [
      "\n"
     ]
    },
    {
     "name": "stdout",
     "output_type": "stream",
     "text": [
      "\tPRT,  8th phase (02Oct2020 - 13Oct2020): finished  243 trials in 0 min 10 sec"
     ]
    },
    {
     "name": "stdout",
     "output_type": "stream",
     "text": [
      "\n"
     ]
    },
    {
     "name": "stdout",
     "output_type": "stream",
     "text": [
      "\tPRT, 13th phase (13Nov2020 - 22Nov2020): finished  225 trials in 0 min 10 sec"
     ]
    },
    {
     "name": "stdout",
     "output_type": "stream",
     "text": [
      "\n"
     ]
    },
    {
     "name": "stdout",
     "output_type": "stream",
     "text": [
      "\tBEL, 14th phase (23Nov2020 - 01Dec2020): finished  222 trials in 0 min 10 sec"
     ]
    },
    {
     "name": "stdout",
     "output_type": "stream",
     "text": [
      "\n"
     ]
    },
    {
     "name": "stdout",
     "output_type": "stream",
     "text": [
      "\tNLD,  9th phase (15Oct2020 - 24Oct2020): finished  354 trials in 0 min 10 sec"
     ]
    },
    {
     "name": "stdout",
     "output_type": "stream",
     "text": [
      "\n"
     ]
    },
    {
     "name": "stdout",
     "output_type": "stream",
     "text": [
      "\tGBR, 12th phase (12Nov2020 - 17Nov2020): finished  362 trials in 0 min 10 sec"
     ]
    },
    {
     "name": "stdout",
     "output_type": "stream",
     "text": [
      "\n"
     ]
    },
    {
     "name": "stderr",
     "output_type": "stream",
     "text": [
      "/home/runner/.local/share/virtualenvs/covid19-sir-kT3BL-HO/lib/python3.8/site-packages/scipy/interpolate/fitpack2.py:253: UserWarning: \n",
      "The maximal number of iterations maxit (set to 20 by the program)\n",
      "allowed for finding a smoothing spline with fp=s has been reached: s\n",
      "too small.\n",
      "There is an approximation returned but the corresponding weighted sum\n",
      "of squared residuals does not satisfy the condition abs(fp-s)/s < tol.\n",
      "  warnings.warn(message)\n"
     ]
    },
    {
     "name": "stdout",
     "output_type": "stream",
     "text": [
      "\tGBR, 10th phase (26Oct2020 - 05Nov2020): finished  360 trials in 0 min 10 sec"
     ]
    },
    {
     "name": "stdout",
     "output_type": "stream",
     "text": [
      "\n"
     ]
    },
    {
     "name": "stdout",
     "output_type": "stream",
     "text": [
      "\tDNK,  9th phase (23Oct2020 - 29Oct2020): finished  363 trials in 0 min 10 sec"
     ]
    },
    {
     "name": "stdout",
     "output_type": "stream",
     "text": [
      "\n"
     ]
    },
    {
     "name": "stdout",
     "output_type": "stream",
     "text": [
      "\tFRA,  5th phase (03Sep2020 - 14Sep2020): finished  362 trials in 0 min 10 sec"
     ]
    },
    {
     "name": "stdout",
     "output_type": "stream",
     "text": [
      "\n"
     ]
    },
    {
     "name": "stdout",
     "output_type": "stream",
     "text": [
      "\tBEL,  3rd phase (08May2020 - 27Jul2020): finished  337 trials in 0 min 10 sec"
     ]
    },
    {
     "name": "stdout",
     "output_type": "stream",
     "text": [
      "\n"
     ]
    },
    {
     "name": "stdout",
     "output_type": "stream",
     "text": [
      "\tPRT,  3rd phase (21May2020 - 18Jun2020): finished  354 trials in 0 min 10 sec"
     ]
    },
    {
     "name": "stdout",
     "output_type": "stream",
     "text": [
      "\n"
     ]
    },
    {
     "name": "stdout",
     "output_type": "stream",
     "text": [
      "\tGBR, 13th phase (18Nov2020 - 25Nov2020): finished  360 trials in 0 min 10 sec"
     ]
    },
    {
     "name": "stdout",
     "output_type": "stream",
     "text": [
      "\n"
     ]
    },
    {
     "name": "stdout",
     "output_type": "stream",
     "text": [
      "\tDNK, 11th phase (05Nov2020 - 10Nov2020): finished  366 trials in 0 min 10 sec"
     ]
    },
    {
     "name": "stdout",
     "output_type": "stream",
     "text": [
      "\n"
     ]
    },
    {
     "name": "stdout",
     "output_type": "stream",
     "text": [
      "\tPRT,  2nd phase (19Apr2020 - 20May2020): finished  358 trials in 0 min 10 sec"
     ]
    },
    {
     "name": "stdout",
     "output_type": "stream",
     "text": [
      "\n"
     ]
    },
    {
     "name": "stdout",
     "output_type": "stream",
     "text": [
      "\tBEL, 12th phase (08Nov2020 - 14Nov2020): finished  366 trials in 0 min 10 sec"
     ]
    },
    {
     "name": "stdout",
     "output_type": "stream",
     "text": [
      "\n"
     ]
    },
    {
     "name": "stderr",
     "output_type": "stream",
     "text": [
      "/home/runner/.local/share/virtualenvs/covid19-sir-kT3BL-HO/lib/python3.8/site-packages/scipy/interpolate/fitpack2.py:253: UserWarning: \n",
      "The maximal number of iterations maxit (set to 20 by the program)\n",
      "allowed for finding a smoothing spline with fp=s has been reached: s\n",
      "too small.\n",
      "There is an approximation returned but the corresponding weighted sum\n",
      "of squared residuals does not satisfy the condition abs(fp-s)/s < tol.\n",
      "  warnings.warn(message)\n"
     ]
    },
    {
     "name": "stdout",
     "output_type": "stream",
     "text": [
      "\tUKR,  7th phase (12Oct2020 - 21Oct2020): finished  362 trials in 0 min 10 sec"
     ]
    },
    {
     "name": "stdout",
     "output_type": "stream",
     "text": [
      "\n"
     ]
    },
    {
     "name": "stderr",
     "output_type": "stream",
     "text": [
      "/home/runner/.local/share/virtualenvs/covid19-sir-kT3BL-HO/lib/python3.8/site-packages/scipy/interpolate/fitpack2.py:253: UserWarning: \n",
      "The maximal number of iterations maxit (set to 20 by the program)\n",
      "allowed for finding a smoothing spline with fp=s has been reached: s\n",
      "too small.\n",
      "There is an approximation returned but the corresponding weighted sum\n",
      "of squared residuals does not satisfy the condition abs(fp-s)/s < tol.\n",
      "  warnings.warn(message)\n"
     ]
    },
    {
     "name": "stdout",
     "output_type": "stream",
     "text": [
      "\tNLD,  7th phase (28Sep2020 - 04Oct2020): finished  367 trials in 0 min 10 sec"
     ]
    },
    {
     "name": "stdout",
     "output_type": "stream",
     "text": [
      "\n"
     ]
    },
    {
     "name": "stdout",
     "output_type": "stream",
     "text": [
      "\tFRA,  8th phase (02Oct2020 - 08Oct2020): finished  369 trials in 0 min 10 sec"
     ]
    },
    {
     "name": "stdout",
     "output_type": "stream",
     "text": [
      "\n"
     ]
    },
    {
     "name": "stdout",
     "output_type": "stream",
     "text": [
      "\tPRT,  9th phase (14Oct2020 - 21Oct2020): finished  367 trials in 0 min 10 sec"
     ]
    },
    {
     "name": "stdout",
     "output_type": "stream",
     "text": [
      "\n"
     ]
    },
    {
     "name": "stdout",
     "output_type": "stream",
     "text": [
      "\tFRA,  2nd phase (23Apr2020 - 08Jul2020): finished  341 trials in 0 min 10 sec"
     ]
    },
    {
     "name": "stdout",
     "output_type": "stream",
     "text": [
      "\n"
     ]
    },
    {
     "name": "stdout",
     "output_type": "stream",
     "text": [
      "\tUKR, 12th phase (19Nov2020 - 24Nov2020): finished  368 trials in 0 min 10 sec"
     ]
    },
    {
     "name": "stdout",
     "output_type": "stream",
     "text": [
      "\n"
     ]
    },
    {
     "name": "stdout",
     "output_type": "stream",
     "text": [
      "\tAUT,  0th phase (05Mar2020 - 24Mar2020): finished  362 trials in 0 min 10 sec"
     ]
    },
    {
     "name": "stdout",
     "output_type": "stream",
     "text": [
      "\n"
     ]
    },
    {
     "name": "stdout",
     "output_type": "stream",
     "text": [
      "\tAUT,  9th phase (15Oct2020 - 20Oct2020): finished  367 trials in 0 min 10 sec"
     ]
    },
    {
     "name": "stdout",
     "output_type": "stream",
     "text": [
      "\n"
     ]
    },
    {
     "name": "stdout",
     "output_type": "stream",
     "text": [
      "\tGBR,  0th phase (18Feb2020 - 06Apr2020): finished  351 trials in 0 min 10 sec"
     ]
    },
    {
     "name": "stdout",
     "output_type": "stream",
     "text": [
      "\n"
     ]
    },
    {
     "name": "stdout",
     "output_type": "stream",
     "text": [
      "\tUKR,  4th phase (01Sep2020 - 16Sep2020): finished  363 trials in 0 min 10 sec"
     ]
    },
    {
     "name": "stdout",
     "output_type": "stream",
     "text": [
      "\n"
     ]
    },
    {
     "name": "stdout",
     "output_type": "stream",
     "text": [
      "\tAUT, 14th phase (01Dec2020 - 06Dec2020): finished  370 trials in 0 min 10 sec"
     ]
    },
    {
     "name": "stdout",
     "output_type": "stream",
     "text": [
      "\n"
     ]
    },
    {
     "name": "stdout",
     "output_type": "stream",
     "text": [
      "\tDNK, 10th phase (30Oct2020 - 04Nov2020): finished  368 trials in 0 min 10 sec"
     ]
    },
    {
     "name": "stdout",
     "output_type": "stream",
     "text": [
      "\n"
     ]
    },
    {
     "name": "stdout",
     "output_type": "stream",
     "text": [
      "\tPRT,  7th phase (16Sep2020 - 01Oct2020): finished  362 trials in 0 min 10 sec"
     ]
    },
    {
     "name": "stdout",
     "output_type": "stream",
     "text": [
      "\n"
     ]
    },
    {
     "name": "stdout",
     "output_type": "stream",
     "text": [
      "\tBEL,  8th phase (07Oct2020 - 12Oct2020): finished  369 trials in 0 min 10 sec"
     ]
    },
    {
     "name": "stdout",
     "output_type": "stream",
     "text": [
      "\n"
     ]
    },
    {
     "name": "stdout",
     "output_type": "stream",
     "text": [
      "\tAUT,  3rd phase (11Jul2020 - 17Aug2020): finished  357 trials in 0 min 10 sec"
     ]
    },
    {
     "name": "stdout",
     "output_type": "stream",
     "text": [
      "\n"
     ]
    },
    {
     "name": "stdout",
     "output_type": "stream",
     "text": [
      "\tUKR, 10th phase (06Nov2020 - 12Nov2020): finished  366 trials in 0 min 10 sec"
     ]
    },
    {
     "name": "stdout",
     "output_type": "stream",
     "text": [
      "\n"
     ]
    },
    {
     "name": "stdout",
     "output_type": "stream",
     "text": [
      "\tNLD,  2nd phase (17Apr2020 - 21May2020): finished  353 trials in 0 min 10 sec"
     ]
    },
    {
     "name": "stdout",
     "output_type": "stream",
     "text": [
      "\n"
     ]
    },
    {
     "name": "stdout",
     "output_type": "stream",
     "text": [
      "\tDNK,  4th phase (10Aug2020 - 08Sep2020): finished  358 trials in 0 min 10 sec"
     ]
    },
    {
     "name": "stdout",
     "output_type": "stream",
     "text": [
      "\n"
     ]
    },
    {
     "name": "stdout",
     "output_type": "stream",
     "text": [
      "\tBEL,  7th phase (29Sep2020 - 06Oct2020): finished  369 trials in 0 min 10 sec"
     ]
    },
    {
     "name": "stdout",
     "output_type": "stream",
     "text": [
      "\n"
     ]
    },
    {
     "name": "stdout",
     "output_type": "stream",
     "text": [
      "\tNLD, 10th phase (25Oct2020 - 03Nov2020): finished  361 trials in 0 min 10 sec"
     ]
    },
    {
     "name": "stdout",
     "output_type": "stream",
     "text": [
      "\n"
     ]
    },
    {
     "name": "stdout",
     "output_type": "stream",
     "text": [
      "\tNLD, 12th phase (14Nov2020 - 19Nov2020): finished  359 trials in 0 min 10 sec"
     ]
    },
    {
     "name": "stdout",
     "output_type": "stream",
     "text": [
      "\n"
     ]
    },
    {
     "name": "stdout",
     "output_type": "stream",
     "text": [
      "\tAUT, 12th phase (10Nov2020 - 19Nov2020): finished  365 trials in 0 min 10 sec"
     ]
    },
    {
     "name": "stdout",
     "output_type": "stream",
     "text": [
      "\n"
     ]
    },
    {
     "name": "stdout",
     "output_type": "stream",
     "text": [
      "\tUKR, 13th phase (25Nov2020 - 30Nov2020): finished  365 trials in 0 min 10 sec"
     ]
    },
    {
     "name": "stdout",
     "output_type": "stream",
     "text": [
      "\n"
     ]
    },
    {
     "name": "stdout",
     "output_type": "stream",
     "text": [
      "\tDNK,  3rd phase (13Jun2020 - 09Aug2020): finished  347 trials in 0 min 10 sec"
     ]
    },
    {
     "name": "stdout",
     "output_type": "stream",
     "text": [
      "\n"
     ]
    },
    {
     "name": "stdout",
     "output_type": "stream",
     "text": [
      "\tAUT, 10th phase (21Oct2020 - 30Oct2020): finished  363 trials in 0 min 10 sec"
     ]
    },
    {
     "name": "stdout",
     "output_type": "stream",
     "text": [
      "\n"
     ]
    },
    {
     "name": "stdout",
     "output_type": "stream",
     "text": [
      "\tNLD, 14th phase (26Nov2020 - 02Dec2020): finished  368 trials in 0 min 10 sec"
     ]
    },
    {
     "name": "stdout",
     "output_type": "stream",
     "text": [
      "\n"
     ]
    },
    {
     "name": "stdout",
     "output_type": "stream",
     "text": [
      "\tAUT,  6th phase (17Sep2020 - 27Sep2020): finished  365 trials in 0 min 10 sec"
     ]
    },
    {
     "name": "stdout",
     "output_type": "stream",
     "text": [
      "\n"
     ]
    },
    {
     "name": "stdout",
     "output_type": "stream",
     "text": [
      "\tDNK,  6th phase (21Sep2020 - 30Sep2020): finished  365 trials in 0 min 10 sec"
     ]
    },
    {
     "name": "stdout",
     "output_type": "stream",
     "text": [
      "\n"
     ]
    },
    {
     "name": "stdout",
     "output_type": "stream",
     "text": [
      "\tGBR,  3rd phase (12May2020 - 11Jun2020): finished  355 trials in 0 min 10 sec"
     ]
    },
    {
     "name": "stdout",
     "output_type": "stream",
     "text": [
      "\n"
     ]
    },
    {
     "name": "stdout",
     "output_type": "stream",
     "text": [
      "\tPRT, 12th phase (03Nov2020 - 12Nov2020): finished  371 trials in 0 min 10 sec"
     ]
    },
    {
     "name": "stdout",
     "output_type": "stream",
     "text": [
      "\n"
     ]
    },
    {
     "name": "stdout",
     "output_type": "stream",
     "text": [
      "\tUKR,  9th phase (30Oct2020 - 05Nov2020): finished  357 trials in 0 min 10 sec"
     ]
    },
    {
     "name": "stdout",
     "output_type": "stream",
     "text": [
      "\n"
     ]
    },
    {
     "name": "stdout",
     "output_type": "stream",
     "text": [
      "\tDNK, 14th phase (23Nov2020 - 02Dec2020): finished  354 trials in 0 min 10 sec"
     ]
    },
    {
     "name": "stdout",
     "output_type": "stream",
     "text": [
      "\n"
     ]
    },
    {
     "name": "stderr",
     "output_type": "stream",
     "text": [
      "/home/runner/.local/share/virtualenvs/covid19-sir-kT3BL-HO/lib/python3.8/site-packages/scipy/interpolate/fitpack2.py:253: UserWarning: \n",
      "The maximal number of iterations maxit (set to 20 by the program)\n",
      "allowed for finding a smoothing spline with fp=s has been reached: s\n",
      "too small.\n",
      "There is an approximation returned but the corresponding weighted sum\n",
      "of squared residuals does not satisfy the condition abs(fp-s)/s < tol.\n",
      "  warnings.warn(message)\n"
     ]
    },
    {
     "name": "stdout",
     "output_type": "stream",
     "text": [
      "\tAUT,  5th phase (07Sep2020 - 16Sep2020): finished  372 trials in 0 min 10 sec"
     ]
    },
    {
     "name": "stdout",
     "output_type": "stream",
     "text": [
      "\n"
     ]
    },
    {
     "name": "stdout",
     "output_type": "stream",
     "text": [
      "\tFRA, 11th phase (22Oct2020 - 31Oct2020): finished  370 trials in 0 min 10 sec"
     ]
    },
    {
     "name": "stdout",
     "output_type": "stream",
     "text": [
      "\n"
     ]
    },
    {
     "name": "stderr",
     "output_type": "stream",
     "text": [
      "/home/runner/.local/share/virtualenvs/covid19-sir-kT3BL-HO/lib/python3.8/site-packages/scipy/interpolate/fitpack2.py:253: UserWarning: \n",
      "The maximal number of iterations maxit (set to 20 by the program)\n",
      "allowed for finding a smoothing spline with fp=s has been reached: s\n",
      "too small.\n",
      "There is an approximation returned but the corresponding weighted sum\n",
      "of squared residuals does not satisfy the condition abs(fp-s)/s < tol.\n",
      "  warnings.warn(message)\n"
     ]
    },
    {
     "name": "stdout",
     "output_type": "stream",
     "text": [
      "\tNLD,  5th phase (05Sep2020 - 18Sep2020): finished  368 trials in 0 min 10 sec"
     ]
    },
    {
     "name": "stdout",
     "output_type": "stream",
     "text": [
      "\n"
     ]
    },
    {
     "name": "stderr",
     "output_type": "stream",
     "text": [
      "/home/runner/.local/share/virtualenvs/covid19-sir-kT3BL-HO/lib/python3.8/site-packages/scipy/interpolate/fitpack2.py:253: UserWarning: \n",
      "The maximal number of iterations maxit (set to 20 by the program)\n",
      "allowed for finding a smoothing spline with fp=s has been reached: s\n",
      "too small.\n",
      "There is an approximation returned but the corresponding weighted sum\n",
      "of squared residuals does not satisfy the condition abs(fp-s)/s < tol.\n",
      "  warnings.warn(message)\n"
     ]
    },
    {
     "name": "stdout",
     "output_type": "stream",
     "text": [
      "\tFRA,  7th phase (23Sep2020 - 01Oct2020): finished  375 trials in 0 min 10 sec"
     ]
    },
    {
     "name": "stdout",
     "output_type": "stream",
     "text": [
      "\n"
     ]
    },
    {
     "name": "stdout",
     "output_type": "stream",
     "text": [
      "\tGBR,  6th phase (18Sep2020 - 02Oct2020): finished  369 trials in 0 min 10 sec"
     ]
    },
    {
     "name": "stdout",
     "output_type": "stream",
     "text": [
      "\n"
     ]
    },
    {
     "name": "stderr",
     "output_type": "stream",
     "text": [
      "/home/runner/.local/share/virtualenvs/covid19-sir-kT3BL-HO/lib/python3.8/site-packages/scipy/interpolate/fitpack2.py:253: UserWarning: \n",
      "The maximal number of iterations maxit (set to 20 by the program)\n",
      "allowed for finding a smoothing spline with fp=s has been reached: s\n",
      "too small.\n",
      "There is an approximation returned but the corresponding weighted sum\n",
      "of squared residuals does not satisfy the condition abs(fp-s)/s < tol.\n",
      "  warnings.warn(message)\n"
     ]
    },
    {
     "name": "stdout",
     "output_type": "stream",
     "text": [
      "\tFRA, 12th phase (01Nov2020 - 10Nov2020): finished  372 trials in 0 min 10 sec"
     ]
    },
    {
     "name": "stdout",
     "output_type": "stream",
     "text": [
      "\n"
     ]
    },
    {
     "name": "stdout",
     "output_type": "stream",
     "text": [
      "\tFRA,  3rd phase (09Jul2020 - 18Aug2020): finished  364 trials in 0 min 10 sec"
     ]
    },
    {
     "name": "stdout",
     "output_type": "stream",
     "text": [
      "\n"
     ]
    },
    {
     "name": "stdout",
     "output_type": "stream",
     "text": [
      "\tBEL, 15th phase (02Dec2020 - 13Dec2020): finished  372 trials in 0 min 10 sec"
     ]
    },
    {
     "name": "stdout",
     "output_type": "stream",
     "text": [
      "\n"
     ]
    },
    {
     "name": "stdout",
     "output_type": "stream",
     "text": [
      "\tDNK,  1st phase (13Apr2020 - 02May2020): finished  368 trials in 0 min 10 sec"
     ]
    },
    {
     "name": "stdout",
     "output_type": "stream",
     "text": [
      "\n"
     ]
    },
    {
     "name": "stdout",
     "output_type": "stream",
     "text": [
      "\tBEL,  5th phase (23Aug2020 - 14Sep2020): finished  371 trials in 0 min 10 sec"
     ]
    },
    {
     "name": "stdout",
     "output_type": "stream",
     "text": [
      "\n"
     ]
    },
    {
     "name": "stdout",
     "output_type": "stream",
     "text": [
      "\tAUT,  8th phase (07Oct2020 - 14Oct2020): finished  374 trials in 0 min 10 sec"
     ]
    },
    {
     "name": "stdout",
     "output_type": "stream",
     "text": [
      "\n"
     ]
    },
    {
     "name": "stdout",
     "output_type": "stream",
     "text": [
      "\tPRT, 11th phase (28Oct2020 - 02Nov2020): finished  376 trials in 0 min 10 sec"
     ]
    },
    {
     "name": "stdout",
     "output_type": "stream",
     "text": [
      "\n"
     ]
    },
    {
     "name": "stderr",
     "output_type": "stream",
     "text": [
      "/home/runner/.local/share/virtualenvs/covid19-sir-kT3BL-HO/lib/python3.8/site-packages/scipy/interpolate/fitpack2.py:253: UserWarning: \n",
      "The maximal number of iterations maxit (set to 20 by the program)\n",
      "allowed for finding a smoothing spline with fp=s has been reached: s\n",
      "too small.\n",
      "There is an approximation returned but the corresponding weighted sum\n",
      "of squared residuals does not satisfy the condition abs(fp-s)/s < tol.\n",
      "  warnings.warn(message)\n"
     ]
    },
    {
     "name": "stdout",
     "output_type": "stream",
     "text": [
      "\tNLD, 11th phase (04Nov2020 - 13Nov2020): finished  374 trials in 0 min 10 sec"
     ]
    },
    {
     "name": "stdout",
     "output_type": "stream",
     "text": [
      "\n"
     ]
    },
    {
     "name": "stdout",
     "output_type": "stream",
     "text": [
      "\tFRA,  1st phase (31Mar2020 - 22Apr2020): finished  359 trials in 0 min 10 sec"
     ]
    },
    {
     "name": "stdout",
     "output_type": "stream",
     "text": [
      "\n"
     ]
    },
    {
     "name": "stdout",
     "output_type": "stream",
     "text": [
      "\tGBR, 14th phase (26Nov2020 - 04Dec2020): finished  375 trials in 0 min 10 sec"
     ]
    },
    {
     "name": "stdout",
     "output_type": "stream",
     "text": [
      "\n"
     ]
    },
    {
     "name": "stdout",
     "output_type": "stream",
     "text": [
      "Completed optimization. Total: 5 min 46 sec\n"
     ]
    }
   ],
   "source": [
    "# Parameter estimation with SIR-F model\n",
    "analyser.estimate(cs.SIRF, timeout=10)"
   ]
  },
  {
   "cell_type": "code",
   "execution_count": 12,
   "metadata": {
    "collapsed": false
   },
   "outputs": [
    {
     "data": {
      "text/html": [
       "<div>\n",
       "<style scoped>\n",
       "    .dataframe tbody tr th:only-of-type {\n",
       "        vertical-align: middle;\n",
       "    }\n",
       "\n",
       "    .dataframe tbody tr th {\n",
       "        vertical-align: top;\n",
       "    }\n",
       "\n",
       "    .dataframe thead th {\n",
       "        text-align: right;\n",
       "    }\n",
       "</style>\n",
       "<table border=\"1\" class=\"dataframe\">\n",
       "  <thead>\n",
       "    <tr style=\"text-align: right;\">\n",
       "      <th></th>\n",
       "      <th></th>\n",
       "      <th>Type</th>\n",
       "      <th>Start</th>\n",
       "      <th>End</th>\n",
       "      <th>Population</th>\n",
       "      <th>ODE</th>\n",
       "      <th>Rt</th>\n",
       "      <th>theta</th>\n",
       "      <th>kappa</th>\n",
       "      <th>rho</th>\n",
       "      <th>sigma</th>\n",
       "      <th>tau</th>\n",
       "      <th>alpha1 [-]</th>\n",
       "      <th>1/alpha2 [day]</th>\n",
       "      <th>1/beta [day]</th>\n",
       "      <th>1/gamma [day]</th>\n",
       "      <th>RMSLE</th>\n",
       "      <th>Trials</th>\n",
       "      <th>Runtime</th>\n",
       "    </tr>\n",
       "    <tr>\n",
       "      <th>Country</th>\n",
       "      <th>Phase</th>\n",
       "      <th></th>\n",
       "      <th></th>\n",
       "      <th></th>\n",
       "      <th></th>\n",
       "      <th></th>\n",
       "      <th></th>\n",
       "      <th></th>\n",
       "      <th></th>\n",
       "      <th></th>\n",
       "      <th></th>\n",
       "      <th></th>\n",
       "      <th></th>\n",
       "      <th></th>\n",
       "      <th></th>\n",
       "      <th></th>\n",
       "      <th></th>\n",
       "      <th></th>\n",
       "      <th></th>\n",
       "    </tr>\n",
       "  </thead>\n",
       "  <tbody>\n",
       "    <tr>\n",
       "      <th rowspan=\"17\" valign=\"top\">France</th>\n",
       "      <th>0th</th>\n",
       "      <td>Past</td>\n",
       "      <td>07Feb2020</td>\n",
       "      <td>30Mar2020</td>\n",
       "      <td>66977107</td>\n",
       "      <td>SIR-F</td>\n",
       "      <td>8.95</td>\n",
       "      <td>0.001841</td>\n",
       "      <td>0.000059</td>\n",
       "      <td>0.038763</td>\n",
       "      <td>0.004265</td>\n",
       "      <td>360</td>\n",
       "      <td>0.002</td>\n",
       "      <td>4209</td>\n",
       "      <td>6</td>\n",
       "      <td>58</td>\n",
       "      <td>1.400120</td>\n",
       "      <td>246</td>\n",
       "      <td>0 min 10 sec</td>\n",
       "    </tr>\n",
       "    <tr>\n",
       "      <th>1st</th>\n",
       "      <td>Past</td>\n",
       "      <td>31Mar2020</td>\n",
       "      <td>22Apr2020</td>\n",
       "      <td>66977107</td>\n",
       "      <td>SIR-F</td>\n",
       "      <td>0.71</td>\n",
       "      <td>0.346351</td>\n",
       "      <td>0.001473</td>\n",
       "      <td>0.024343</td>\n",
       "      <td>0.021055</td>\n",
       "      <td>360</td>\n",
       "      <td>0.346</td>\n",
       "      <td>169</td>\n",
       "      <td>10</td>\n",
       "      <td>11</td>\n",
       "      <td>0.187872</td>\n",
       "      <td>359</td>\n",
       "      <td>0 min 10 sec</td>\n",
       "    </tr>\n",
       "    <tr>\n",
       "      <th>2nd</th>\n",
       "      <td>Past</td>\n",
       "      <td>23Apr2020</td>\n",
       "      <td>08Jul2020</td>\n",
       "      <td>66977107</td>\n",
       "      <td>SIR-F</td>\n",
       "      <td>0.59</td>\n",
       "      <td>0.537173</td>\n",
       "      <td>0.000080</td>\n",
       "      <td>0.016951</td>\n",
       "      <td>0.013248</td>\n",
       "      <td>360</td>\n",
       "      <td>0.537</td>\n",
       "      <td>3111</td>\n",
       "      <td>14</td>\n",
       "      <td>18</td>\n",
       "      <td>0.340536</td>\n",
       "      <td>341</td>\n",
       "      <td>0 min 10 sec</td>\n",
       "    </tr>\n",
       "    <tr>\n",
       "      <th>3rd</th>\n",
       "      <td>Past</td>\n",
       "      <td>09Jul2020</td>\n",
       "      <td>18Aug2020</td>\n",
       "      <td>66977107</td>\n",
       "      <td>SIR-F</td>\n",
       "      <td>1.46</td>\n",
       "      <td>0.000136</td>\n",
       "      <td>0.000170</td>\n",
       "      <td>0.024477</td>\n",
       "      <td>0.016613</td>\n",
       "      <td>360</td>\n",
       "      <td>0.000</td>\n",
       "      <td>1473</td>\n",
       "      <td>10</td>\n",
       "      <td>15</td>\n",
       "      <td>0.096520</td>\n",
       "      <td>364</td>\n",
       "      <td>0 min 10 sec</td>\n",
       "    </tr>\n",
       "    <tr>\n",
       "      <th>4th</th>\n",
       "      <td>Past</td>\n",
       "      <td>19Aug2020</td>\n",
       "      <td>02Sep2020</td>\n",
       "      <td>66977107</td>\n",
       "      <td>SIR-F</td>\n",
       "      <td>2.04</td>\n",
       "      <td>0.001289</td>\n",
       "      <td>0.000071</td>\n",
       "      <td>0.030650</td>\n",
       "      <td>0.014930</td>\n",
       "      <td>360</td>\n",
       "      <td>0.001</td>\n",
       "      <td>3514</td>\n",
       "      <td>8</td>\n",
       "      <td>16</td>\n",
       "      <td>0.031933</td>\n",
       "      <td>282</td>\n",
       "      <td>0 min 10 sec</td>\n",
       "    </tr>\n",
       "    <tr>\n",
       "      <th>5th</th>\n",
       "      <td>Past</td>\n",
       "      <td>03Sep2020</td>\n",
       "      <td>14Sep2020</td>\n",
       "      <td>66977107</td>\n",
       "      <td>SIR-F</td>\n",
       "      <td>1.68</td>\n",
       "      <td>0.000434</td>\n",
       "      <td>0.000098</td>\n",
       "      <td>0.026872</td>\n",
       "      <td>0.015898</td>\n",
       "      <td>360</td>\n",
       "      <td>0.000</td>\n",
       "      <td>2549</td>\n",
       "      <td>9</td>\n",
       "      <td>15</td>\n",
       "      <td>0.023819</td>\n",
       "      <td>362</td>\n",
       "      <td>0 min 10 sec</td>\n",
       "    </tr>\n",
       "    <tr>\n",
       "      <th>6th</th>\n",
       "      <td>Past</td>\n",
       "      <td>15Sep2020</td>\n",
       "      <td>22Sep2020</td>\n",
       "      <td>66977107</td>\n",
       "      <td>SIR-F</td>\n",
       "      <td>1.48</td>\n",
       "      <td>0.000864</td>\n",
       "      <td>0.000150</td>\n",
       "      <td>0.025987</td>\n",
       "      <td>0.017436</td>\n",
       "      <td>360</td>\n",
       "      <td>0.001</td>\n",
       "      <td>1666</td>\n",
       "      <td>9</td>\n",
       "      <td>14</td>\n",
       "      <td>0.019375</td>\n",
       "      <td>304</td>\n",
       "      <td>0 min 10 sec</td>\n",
       "    </tr>\n",
       "    <tr>\n",
       "      <th>7th</th>\n",
       "      <td>Past</td>\n",
       "      <td>23Sep2020</td>\n",
       "      <td>01Oct2020</td>\n",
       "      <td>66977107</td>\n",
       "      <td>SIR-F</td>\n",
       "      <td>1.36</td>\n",
       "      <td>0.001278</td>\n",
       "      <td>0.000079</td>\n",
       "      <td>0.024934</td>\n",
       "      <td>0.018240</td>\n",
       "      <td>360</td>\n",
       "      <td>0.001</td>\n",
       "      <td>3152</td>\n",
       "      <td>10</td>\n",
       "      <td>13</td>\n",
       "      <td>0.033578</td>\n",
       "      <td>375</td>\n",
       "      <td>0 min 10 sec</td>\n",
       "    </tr>\n",
       "    <tr>\n",
       "      <th>8th</th>\n",
       "      <td>Past</td>\n",
       "      <td>02Oct2020</td>\n",
       "      <td>08Oct2020</td>\n",
       "      <td>66977107</td>\n",
       "      <td>SIR-F</td>\n",
       "      <td>1.18</td>\n",
       "      <td>0.000569</td>\n",
       "      <td>0.000426</td>\n",
       "      <td>0.028723</td>\n",
       "      <td>0.023946</td>\n",
       "      <td>360</td>\n",
       "      <td>0.001</td>\n",
       "      <td>586</td>\n",
       "      <td>8</td>\n",
       "      <td>10</td>\n",
       "      <td>0.033326</td>\n",
       "      <td>369</td>\n",
       "      <td>0 min 10 sec</td>\n",
       "    </tr>\n",
       "    <tr>\n",
       "      <th>9th</th>\n",
       "      <td>Past</td>\n",
       "      <td>09Oct2020</td>\n",
       "      <td>15Oct2020</td>\n",
       "      <td>66977107</td>\n",
       "      <td>SIR-F</td>\n",
       "      <td>1.67</td>\n",
       "      <td>0.001050</td>\n",
       "      <td>0.000152</td>\n",
       "      <td>0.025168</td>\n",
       "      <td>0.014910</td>\n",
       "      <td>360</td>\n",
       "      <td>0.001</td>\n",
       "      <td>1645</td>\n",
       "      <td>9</td>\n",
       "      <td>16</td>\n",
       "      <td>0.035339</td>\n",
       "      <td>261</td>\n",
       "      <td>0 min 10 sec</td>\n",
       "    </tr>\n",
       "    <tr>\n",
       "      <th>10th</th>\n",
       "      <td>Past</td>\n",
       "      <td>16Oct2020</td>\n",
       "      <td>21Oct2020</td>\n",
       "      <td>66977107</td>\n",
       "      <td>SIR-F</td>\n",
       "      <td>1.81</td>\n",
       "      <td>0.000490</td>\n",
       "      <td>0.000096</td>\n",
       "      <td>0.027800</td>\n",
       "      <td>0.015224</td>\n",
       "      <td>360</td>\n",
       "      <td>0.000</td>\n",
       "      <td>2598</td>\n",
       "      <td>8</td>\n",
       "      <td>16</td>\n",
       "      <td>0.031750</td>\n",
       "      <td>283</td>\n",
       "      <td>0 min 10 sec</td>\n",
       "    </tr>\n",
       "    <tr>\n",
       "      <th>11th</th>\n",
       "      <td>Past</td>\n",
       "      <td>22Oct2020</td>\n",
       "      <td>31Oct2020</td>\n",
       "      <td>66977107</td>\n",
       "      <td>SIR-F</td>\n",
       "      <td>2.52</td>\n",
       "      <td>0.001843</td>\n",
       "      <td>0.000150</td>\n",
       "      <td>0.028712</td>\n",
       "      <td>0.011235</td>\n",
       "      <td>360</td>\n",
       "      <td>0.002</td>\n",
       "      <td>1666</td>\n",
       "      <td>8</td>\n",
       "      <td>22</td>\n",
       "      <td>0.044265</td>\n",
       "      <td>370</td>\n",
       "      <td>0 min 10 sec</td>\n",
       "    </tr>\n",
       "    <tr>\n",
       "      <th>12th</th>\n",
       "      <td>Past</td>\n",
       "      <td>01Nov2020</td>\n",
       "      <td>10Nov2020</td>\n",
       "      <td>66977107</td>\n",
       "      <td>SIR-F</td>\n",
       "      <td>1.37</td>\n",
       "      <td>0.000202</td>\n",
       "      <td>0.000257</td>\n",
       "      <td>0.025695</td>\n",
       "      <td>0.018538</td>\n",
       "      <td>360</td>\n",
       "      <td>0.000</td>\n",
       "      <td>974</td>\n",
       "      <td>9</td>\n",
       "      <td>13</td>\n",
       "      <td>0.026715</td>\n",
       "      <td>372</td>\n",
       "      <td>0 min 10 sec</td>\n",
       "    </tr>\n",
       "    <tr>\n",
       "      <th>13th</th>\n",
       "      <td>Past</td>\n",
       "      <td>11Nov2020</td>\n",
       "      <td>16Nov2020</td>\n",
       "      <td>66977107</td>\n",
       "      <td>SIR-F</td>\n",
       "      <td>0.65</td>\n",
       "      <td>0.001978</td>\n",
       "      <td>0.000194</td>\n",
       "      <td>0.013372</td>\n",
       "      <td>0.020379</td>\n",
       "      <td>360</td>\n",
       "      <td>0.002</td>\n",
       "      <td>1289</td>\n",
       "      <td>18</td>\n",
       "      <td>12</td>\n",
       "      <td>0.010552</td>\n",
       "      <td>333</td>\n",
       "      <td>0 min 10 sec</td>\n",
       "    </tr>\n",
       "    <tr>\n",
       "      <th>14th</th>\n",
       "      <td>Past</td>\n",
       "      <td>17Nov2020</td>\n",
       "      <td>24Nov2020</td>\n",
       "      <td>66977107</td>\n",
       "      <td>SIR-F</td>\n",
       "      <td>0.41</td>\n",
       "      <td>0.000574</td>\n",
       "      <td>0.000426</td>\n",
       "      <td>0.013244</td>\n",
       "      <td>0.031996</td>\n",
       "      <td>360</td>\n",
       "      <td>0.001</td>\n",
       "      <td>586</td>\n",
       "      <td>18</td>\n",
       "      <td>7</td>\n",
       "      <td>0.029266</td>\n",
       "      <td>335</td>\n",
       "      <td>0 min 10 sec</td>\n",
       "    </tr>\n",
       "    <tr>\n",
       "      <th>15th</th>\n",
       "      <td>Past</td>\n",
       "      <td>25Nov2020</td>\n",
       "      <td>03Dec2020</td>\n",
       "      <td>66977107</td>\n",
       "      <td>SIR-F</td>\n",
       "      <td>0.41</td>\n",
       "      <td>0.005087</td>\n",
       "      <td>0.000482</td>\n",
       "      <td>0.015334</td>\n",
       "      <td>0.036683</td>\n",
       "      <td>360</td>\n",
       "      <td>0.005</td>\n",
       "      <td>518</td>\n",
       "      <td>16</td>\n",
       "      <td>6</td>\n",
       "      <td>0.030546</td>\n",
       "      <td>297</td>\n",
       "      <td>0 min 10 sec</td>\n",
       "    </tr>\n",
       "    <tr>\n",
       "      <th>16th</th>\n",
       "      <td>Past</td>\n",
       "      <td>04Dec2020</td>\n",
       "      <td>13Dec2020</td>\n",
       "      <td>66977107</td>\n",
       "      <td>SIR-F</td>\n",
       "      <td>1.13</td>\n",
       "      <td>0.022552</td>\n",
       "      <td>0.000287</td>\n",
       "      <td>0.023494</td>\n",
       "      <td>0.020018</td>\n",
       "      <td>360</td>\n",
       "      <td>0.023</td>\n",
       "      <td>869</td>\n",
       "      <td>10</td>\n",
       "      <td>12</td>\n",
       "      <td>0.024513</td>\n",
       "      <td>275</td>\n",
       "      <td>0 min 10 sec</td>\n",
       "    </tr>\n",
       "  </tbody>\n",
       "</table>\n",
       "</div>"
      ],
      "text/plain": [
       "               Type      Start        End  Population    ODE    Rt     theta  \\\n",
       "Country Phase                                                                  \n",
       "France  0th    Past  07Feb2020  30Mar2020    66977107  SIR-F  8.95  0.001841   \n",
       "        1st    Past  31Mar2020  22Apr2020    66977107  SIR-F  0.71  0.346351   \n",
       "        2nd    Past  23Apr2020  08Jul2020    66977107  SIR-F  0.59  0.537173   \n",
       "        3rd    Past  09Jul2020  18Aug2020    66977107  SIR-F  1.46  0.000136   \n",
       "        4th    Past  19Aug2020  02Sep2020    66977107  SIR-F  2.04  0.001289   \n",
       "        5th    Past  03Sep2020  14Sep2020    66977107  SIR-F  1.68  0.000434   \n",
       "        6th    Past  15Sep2020  22Sep2020    66977107  SIR-F  1.48  0.000864   \n",
       "        7th    Past  23Sep2020  01Oct2020    66977107  SIR-F  1.36  0.001278   \n",
       "        8th    Past  02Oct2020  08Oct2020    66977107  SIR-F  1.18  0.000569   \n",
       "        9th    Past  09Oct2020  15Oct2020    66977107  SIR-F  1.67  0.001050   \n",
       "        10th   Past  16Oct2020  21Oct2020    66977107  SIR-F  1.81  0.000490   \n",
       "        11th   Past  22Oct2020  31Oct2020    66977107  SIR-F  2.52  0.001843   \n",
       "        12th   Past  01Nov2020  10Nov2020    66977107  SIR-F  1.37  0.000202   \n",
       "        13th   Past  11Nov2020  16Nov2020    66977107  SIR-F  0.65  0.001978   \n",
       "        14th   Past  17Nov2020  24Nov2020    66977107  SIR-F  0.41  0.000574   \n",
       "        15th   Past  25Nov2020  03Dec2020    66977107  SIR-F  0.41  0.005087   \n",
       "        16th   Past  04Dec2020  13Dec2020    66977107  SIR-F  1.13  0.022552   \n",
       "\n",
       "                  kappa       rho     sigma  tau  alpha1 [-]  1/alpha2 [day]  \\\n",
       "Country Phase                                                                  \n",
       "France  0th    0.000059  0.038763  0.004265  360       0.002            4209   \n",
       "        1st    0.001473  0.024343  0.021055  360       0.346             169   \n",
       "        2nd    0.000080  0.016951  0.013248  360       0.537            3111   \n",
       "        3rd    0.000170  0.024477  0.016613  360       0.000            1473   \n",
       "        4th    0.000071  0.030650  0.014930  360       0.001            3514   \n",
       "        5th    0.000098  0.026872  0.015898  360       0.000            2549   \n",
       "        6th    0.000150  0.025987  0.017436  360       0.001            1666   \n",
       "        7th    0.000079  0.024934  0.018240  360       0.001            3152   \n",
       "        8th    0.000426  0.028723  0.023946  360       0.001             586   \n",
       "        9th    0.000152  0.025168  0.014910  360       0.001            1645   \n",
       "        10th   0.000096  0.027800  0.015224  360       0.000            2598   \n",
       "        11th   0.000150  0.028712  0.011235  360       0.002            1666   \n",
       "        12th   0.000257  0.025695  0.018538  360       0.000             974   \n",
       "        13th   0.000194  0.013372  0.020379  360       0.002            1289   \n",
       "        14th   0.000426  0.013244  0.031996  360       0.001             586   \n",
       "        15th   0.000482  0.015334  0.036683  360       0.005             518   \n",
       "        16th   0.000287  0.023494  0.020018  360       0.023             869   \n",
       "\n",
       "               1/beta [day]  1/gamma [day]     RMSLE  Trials       Runtime  \n",
       "Country Phase                                                               \n",
       "France  0th               6             58  1.400120     246  0 min 10 sec  \n",
       "        1st              10             11  0.187872     359  0 min 10 sec  \n",
       "        2nd              14             18  0.340536     341  0 min 10 sec  \n",
       "        3rd              10             15  0.096520     364  0 min 10 sec  \n",
       "        4th               8             16  0.031933     282  0 min 10 sec  \n",
       "        5th               9             15  0.023819     362  0 min 10 sec  \n",
       "        6th               9             14  0.019375     304  0 min 10 sec  \n",
       "        7th              10             13  0.033578     375  0 min 10 sec  \n",
       "        8th               8             10  0.033326     369  0 min 10 sec  \n",
       "        9th               9             16  0.035339     261  0 min 10 sec  \n",
       "        10th              8             16  0.031750     283  0 min 10 sec  \n",
       "        11th              8             22  0.044265     370  0 min 10 sec  \n",
       "        12th              9             13  0.026715     372  0 min 10 sec  \n",
       "        13th             18             12  0.010552     333  0 min 10 sec  \n",
       "        14th             18              7  0.029266     335  0 min 10 sec  \n",
       "        15th             16              6  0.030546     297  0 min 10 sec  \n",
       "        16th             10             12  0.024513     275  0 min 10 sec  "
      ]
     },
     "execution_count": 12,
     "metadata": {},
     "output_type": "execute_result"
    }
   ],
   "source": [
    "# Show summary\n",
    "analyser.summary(countries=countries_show)"
   ]
  },
  {
   "cell_type": "markdown",
   "metadata": {},
   "source": [
    "## Compare the history of parameters\n",
    "Here, compare the history of parameter values if countries."
   ]
  },
  {
   "cell_type": "code",
   "execution_count": 13,
   "metadata": {
    "collapsed": false
   },
   "outputs": [
    {
     "data": {
      "text/html": [
       "<div>\n",
       "<style scoped>\n",
       "    .dataframe tbody tr th:only-of-type {\n",
       "        vertical-align: middle;\n",
       "    }\n",
       "\n",
       "    .dataframe tbody tr th {\n",
       "        vertical-align: top;\n",
       "    }\n",
       "\n",
       "    .dataframe thead th {\n",
       "        text-align: right;\n",
       "    }\n",
       "</style>\n",
       "<table border=\"1\" class=\"dataframe\">\n",
       "  <thead>\n",
       "    <tr style=\"text-align: right;\">\n",
       "      <th></th>\n",
       "      <th>Date</th>\n",
       "      <th>Country</th>\n",
       "      <th>theta</th>\n",
       "      <th>kappa</th>\n",
       "      <th>rho</th>\n",
       "      <th>sigma</th>\n",
       "      <th>alpha1 [-]</th>\n",
       "      <th>1/alpha2 [day]</th>\n",
       "      <th>1/beta [day]</th>\n",
       "      <th>1/gamma [day]</th>\n",
       "      <th>...</th>\n",
       "      <th>Cancel_events</th>\n",
       "      <th>Gatherings_restrictions</th>\n",
       "      <th>Transport_closing</th>\n",
       "      <th>Stay_home_restrictions</th>\n",
       "      <th>Internal_movement_restrictions</th>\n",
       "      <th>International_movement_restrictions</th>\n",
       "      <th>Information_campaigns</th>\n",
       "      <th>Testing_policy</th>\n",
       "      <th>Contact_tracing</th>\n",
       "      <th>Stringency_index</th>\n",
       "    </tr>\n",
       "  </thead>\n",
       "  <tbody>\n",
       "    <tr>\n",
       "      <th>0</th>\n",
       "      <td>2020-03-13</td>\n",
       "      <td>Belgium</td>\n",
       "      <td>0.0493257</td>\n",
       "      <td>0.000867256</td>\n",
       "      <td>0.0370804</td>\n",
       "      <td>0.00677782</td>\n",
       "      <td>0.049</td>\n",
       "      <td>288</td>\n",
       "      <td>6</td>\n",
       "      <td>36</td>\n",
       "      <td>...</td>\n",
       "      <td>1</td>\n",
       "      <td>0</td>\n",
       "      <td>0</td>\n",
       "      <td>0</td>\n",
       "      <td>0</td>\n",
       "      <td>1</td>\n",
       "      <td>2</td>\n",
       "      <td>1</td>\n",
       "      <td>1</td>\n",
       "      <td>23.15</td>\n",
       "    </tr>\n",
       "    <tr>\n",
       "      <th>1</th>\n",
       "      <td>2020-03-13</td>\n",
       "      <td>Belgium</td>\n",
       "      <td>0.0493257</td>\n",
       "      <td>0.000867256</td>\n",
       "      <td>0.0370804</td>\n",
       "      <td>0.00677782</td>\n",
       "      <td>0.049</td>\n",
       "      <td>288</td>\n",
       "      <td>6</td>\n",
       "      <td>36</td>\n",
       "      <td>...</td>\n",
       "      <td>1</td>\n",
       "      <td>0</td>\n",
       "      <td>0</td>\n",
       "      <td>0</td>\n",
       "      <td>0</td>\n",
       "      <td>1</td>\n",
       "      <td>2</td>\n",
       "      <td>1</td>\n",
       "      <td>1</td>\n",
       "      <td>23.15</td>\n",
       "    </tr>\n",
       "    <tr>\n",
       "      <th>2</th>\n",
       "      <td>2020-03-13</td>\n",
       "      <td>Belgium</td>\n",
       "      <td>0.0493257</td>\n",
       "      <td>0.000867256</td>\n",
       "      <td>0.0370804</td>\n",
       "      <td>0.00677782</td>\n",
       "      <td>0.049</td>\n",
       "      <td>288</td>\n",
       "      <td>6</td>\n",
       "      <td>36</td>\n",
       "      <td>...</td>\n",
       "      <td>1</td>\n",
       "      <td>0</td>\n",
       "      <td>0</td>\n",
       "      <td>0</td>\n",
       "      <td>0</td>\n",
       "      <td>1</td>\n",
       "      <td>2</td>\n",
       "      <td>1</td>\n",
       "      <td>1</td>\n",
       "      <td>23.15</td>\n",
       "    </tr>\n",
       "    <tr>\n",
       "      <th>3</th>\n",
       "      <td>2020-03-13</td>\n",
       "      <td>Belgium</td>\n",
       "      <td>0.0493257</td>\n",
       "      <td>0.000867256</td>\n",
       "      <td>0.0370804</td>\n",
       "      <td>0.00677782</td>\n",
       "      <td>0.049</td>\n",
       "      <td>288</td>\n",
       "      <td>6</td>\n",
       "      <td>36</td>\n",
       "      <td>...</td>\n",
       "      <td>1</td>\n",
       "      <td>0</td>\n",
       "      <td>0</td>\n",
       "      <td>0</td>\n",
       "      <td>0</td>\n",
       "      <td>1</td>\n",
       "      <td>2</td>\n",
       "      <td>1</td>\n",
       "      <td>1</td>\n",
       "      <td>23.15</td>\n",
       "    </tr>\n",
       "    <tr>\n",
       "      <th>4</th>\n",
       "      <td>2020-03-14</td>\n",
       "      <td>Belgium</td>\n",
       "      <td>0.0493257</td>\n",
       "      <td>0.000867256</td>\n",
       "      <td>0.0370804</td>\n",
       "      <td>0.00677782</td>\n",
       "      <td>0.049</td>\n",
       "      <td>288</td>\n",
       "      <td>6</td>\n",
       "      <td>36</td>\n",
       "      <td>...</td>\n",
       "      <td>2</td>\n",
       "      <td>0</td>\n",
       "      <td>0</td>\n",
       "      <td>0</td>\n",
       "      <td>2</td>\n",
       "      <td>1</td>\n",
       "      <td>2</td>\n",
       "      <td>1</td>\n",
       "      <td>1</td>\n",
       "      <td>50.93</td>\n",
       "    </tr>\n",
       "  </tbody>\n",
       "</table>\n",
       "<p>5 rows × 23 columns</p>\n",
       "</div>"
      ],
      "text/plain": [
       "        Date  Country      theta        kappa        rho       sigma  \\\n",
       "0 2020-03-13  Belgium  0.0493257  0.000867256  0.0370804  0.00677782   \n",
       "1 2020-03-13  Belgium  0.0493257  0.000867256  0.0370804  0.00677782   \n",
       "2 2020-03-13  Belgium  0.0493257  0.000867256  0.0370804  0.00677782   \n",
       "3 2020-03-13  Belgium  0.0493257  0.000867256  0.0370804  0.00677782   \n",
       "4 2020-03-14  Belgium  0.0493257  0.000867256  0.0370804  0.00677782   \n",
       "\n",
       "  alpha1 [-] 1/alpha2 [day] 1/beta [day] 1/gamma [day]  ... Cancel_events  \\\n",
       "0      0.049            288            6            36  ...             1   \n",
       "1      0.049            288            6            36  ...             1   \n",
       "2      0.049            288            6            36  ...             1   \n",
       "3      0.049            288            6            36  ...             1   \n",
       "4      0.049            288            6            36  ...             2   \n",
       "\n",
       "   Gatherings_restrictions  Transport_closing  Stay_home_restrictions  \\\n",
       "0                        0                  0                       0   \n",
       "1                        0                  0                       0   \n",
       "2                        0                  0                       0   \n",
       "3                        0                  0                       0   \n",
       "4                        0                  0                       0   \n",
       "\n",
       "   Internal_movement_restrictions  International_movement_restrictions  \\\n",
       "0                               0                                    1   \n",
       "1                               0                                    1   \n",
       "2                               0                                    1   \n",
       "3                               0                                    1   \n",
       "4                               2                                    1   \n",
       "\n",
       "   Information_campaigns  Testing_policy  Contact_tracing  Stringency_index  \n",
       "0                      2               1                1             23.15  \n",
       "1                      2               1                1             23.15  \n",
       "2                      2               1                1             23.15  \n",
       "3                      2               1                1             23.15  \n",
       "4                      2               1                1             50.93  \n",
       "\n",
       "[5 rows x 23 columns]"
      ]
     },
     "execution_count": 13,
     "metadata": {},
     "output_type": "execute_result"
    }
   ],
   "source": [
    "# All parameter/day parameter/Rt/OxCGRT\n",
    "analyser.track().head()"
   ]
  },
  {
   "cell_type": "markdown",
   "metadata": {},
   "source": [
    "### $Rt$: Reprodcution number $\\mathrm{[-]}$"
   ]
  },
  {
   "cell_type": "code",
   "execution_count": 14,
   "metadata": {
    "collapsed": false
   },
   "outputs": [
    {
     "data": {
      "image/png": "[encoded data removed]",
      "text/plain": [
       "<Figure size 648x432 with 1 Axes>"
      ]
     },
     "metadata": {},
     "output_type": "display_data"
    },
    {
     "data": {
      "text/html": [
       "<div>\n",
       "<style scoped>\n",
       "    .dataframe tbody tr th:only-of-type {\n",
       "        vertical-align: middle;\n",
       "    }\n",
       "\n",
       "    .dataframe tbody tr th {\n",
       "        vertical-align: top;\n",
       "    }\n",
       "\n",
       "    .dataframe thead th {\n",
       "        text-align: right;\n",
       "    }\n",
       "</style>\n",
       "<table border=\"1\" class=\"dataframe\">\n",
       "  <thead>\n",
       "    <tr style=\"text-align: right;\">\n",
       "      <th>Country</th>\n",
       "      <th>Austria</th>\n",
       "      <th>Belgium</th>\n",
       "      <th>Denmark</th>\n",
       "      <th>France</th>\n",
       "      <th>Netherlands</th>\n",
       "      <th>Portugal</th>\n",
       "      <th>Ukraine</th>\n",
       "      <th>United Kingdom</th>\n",
       "    </tr>\n",
       "    <tr>\n",
       "      <th>Date</th>\n",
       "      <th></th>\n",
       "      <th></th>\n",
       "      <th></th>\n",
       "      <th></th>\n",
       "      <th></th>\n",
       "      <th></th>\n",
       "      <th></th>\n",
       "      <th></th>\n",
       "    </tr>\n",
       "  </thead>\n",
       "  <tbody>\n",
       "    <tr>\n",
       "      <th>2020-12-09</th>\n",
       "      <td>1.41</td>\n",
       "      <td>0.98</td>\n",
       "      <td>1.14</td>\n",
       "      <td>1.13</td>\n",
       "      <td>1.62</td>\n",
       "      <td>1.18</td>\n",
       "      <td>1.72</td>\n",
       "      <td>1.3</td>\n",
       "    </tr>\n",
       "    <tr>\n",
       "      <th>2020-12-10</th>\n",
       "      <td>1.41</td>\n",
       "      <td>0.98</td>\n",
       "      <td>1.14</td>\n",
       "      <td>1.13</td>\n",
       "      <td>1.62</td>\n",
       "      <td>1.18</td>\n",
       "      <td>1.72</td>\n",
       "      <td>1.3</td>\n",
       "    </tr>\n",
       "    <tr>\n",
       "      <th>2020-12-11</th>\n",
       "      <td>1.41</td>\n",
       "      <td>0.98</td>\n",
       "      <td>1.14</td>\n",
       "      <td>1.13</td>\n",
       "      <td>1.62</td>\n",
       "      <td>1.18</td>\n",
       "      <td>1.72</td>\n",
       "      <td>1.3</td>\n",
       "    </tr>\n",
       "    <tr>\n",
       "      <th>2020-12-12</th>\n",
       "      <td>1.41</td>\n",
       "      <td>0.98</td>\n",
       "      <td>1.14</td>\n",
       "      <td>1.13</td>\n",
       "      <td>1.62</td>\n",
       "      <td>1.18</td>\n",
       "      <td>1.72</td>\n",
       "      <td>1.3</td>\n",
       "    </tr>\n",
       "    <tr>\n",
       "      <th>2020-12-13</th>\n",
       "      <td>1.41</td>\n",
       "      <td>0.98</td>\n",
       "      <td>1.14</td>\n",
       "      <td>1.13</td>\n",
       "      <td>1.62</td>\n",
       "      <td>1.18</td>\n",
       "      <td>1.72</td>\n",
       "      <td>1.3</td>\n",
       "    </tr>\n",
       "  </tbody>\n",
       "</table>\n",
       "</div>"
      ],
      "text/plain": [
       "Country     Austria  Belgium  Denmark  France  Netherlands  Portugal  Ukraine  \\\n",
       "Date                                                                            \n",
       "2020-12-09     1.41     0.98     1.14    1.13         1.62      1.18     1.72   \n",
       "2020-12-10     1.41     0.98     1.14    1.13         1.62      1.18     1.72   \n",
       "2020-12-11     1.41     0.98     1.14    1.13         1.62      1.18     1.72   \n",
       "2020-12-12     1.41     0.98     1.14    1.13         1.62      1.18     1.72   \n",
       "2020-12-13     1.41     0.98     1.14    1.13         1.62      1.18     1.72   \n",
       "\n",
       "Country     United Kingdom  \n",
       "Date                        \n",
       "2020-12-09             1.3  \n",
       "2020-12-10             1.3  \n",
       "2020-12-11             1.3  \n",
       "2020-12-12             1.3  \n",
       "2020-12-13             1.3  "
      ]
     },
     "execution_count": 14,
     "metadata": {},
     "output_type": "execute_result"
    }
   ],
   "source": [
    "analyser.history(\"Rt\", roll_window=None).tail()"
   ]
  },
  {
   "cell_type": "markdown",
   "metadata": {},
   "source": [
    "### $\\rho$: Effective contact rate $\\mathrm{[-]}$"
   ]
  },
  {
   "cell_type": "code",
   "execution_count": 15,
   "metadata": {
    "collapsed": false
   },
   "outputs": [
    {
     "data": {
      "image/png": "[encoded data removed]",
      "text/plain": [
       "<Figure size 648x432 with 1 Axes>"
      ]
     },
     "metadata": {},
     "output_type": "display_data"
    },
    {
     "data": {
      "text/html": [
       "<div>\n",
       "<style scoped>\n",
       "    .dataframe tbody tr th:only-of-type {\n",
       "        vertical-align: middle;\n",
       "    }\n",
       "\n",
       "    .dataframe tbody tr th {\n",
       "        vertical-align: top;\n",
       "    }\n",
       "\n",
       "    .dataframe thead th {\n",
       "        text-align: right;\n",
       "    }\n",
       "</style>\n",
       "<table border=\"1\" class=\"dataframe\">\n",
       "  <thead>\n",
       "    <tr style=\"text-align: right;\">\n",
       "      <th>Country</th>\n",
       "      <th>Austria</th>\n",
       "      <th>Belgium</th>\n",
       "      <th>Denmark</th>\n",
       "      <th>France</th>\n",
       "      <th>Netherlands</th>\n",
       "      <th>Portugal</th>\n",
       "      <th>Ukraine</th>\n",
       "      <th>United Kingdom</th>\n",
       "    </tr>\n",
       "    <tr>\n",
       "      <th>Date</th>\n",
       "      <th></th>\n",
       "      <th></th>\n",
       "      <th></th>\n",
       "      <th></th>\n",
       "      <th></th>\n",
       "      <th></th>\n",
       "      <th></th>\n",
       "      <th></th>\n",
       "    </tr>\n",
       "  </thead>\n",
       "  <tbody>\n",
       "    <tr>\n",
       "      <th>2020-12-09</th>\n",
       "      <td>0.007486</td>\n",
       "      <td>0.015006</td>\n",
       "      <td>0.019958</td>\n",
       "      <td>0.023494</td>\n",
       "      <td>0.028974</td>\n",
       "      <td>0.01939</td>\n",
       "      <td>0.010401</td>\n",
       "      <td>0.025211</td>\n",
       "    </tr>\n",
       "    <tr>\n",
       "      <th>2020-12-10</th>\n",
       "      <td>0.007486</td>\n",
       "      <td>0.015006</td>\n",
       "      <td>0.019958</td>\n",
       "      <td>0.023494</td>\n",
       "      <td>0.028974</td>\n",
       "      <td>0.01939</td>\n",
       "      <td>0.010401</td>\n",
       "      <td>0.025211</td>\n",
       "    </tr>\n",
       "    <tr>\n",
       "      <th>2020-12-11</th>\n",
       "      <td>0.007486</td>\n",
       "      <td>0.015006</td>\n",
       "      <td>0.019958</td>\n",
       "      <td>0.023494</td>\n",
       "      <td>0.028974</td>\n",
       "      <td>0.01939</td>\n",
       "      <td>0.010401</td>\n",
       "      <td>0.025211</td>\n",
       "    </tr>\n",
       "    <tr>\n",
       "      <th>2020-12-12</th>\n",
       "      <td>0.007486</td>\n",
       "      <td>0.015006</td>\n",
       "      <td>0.019958</td>\n",
       "      <td>0.023494</td>\n",
       "      <td>0.028974</td>\n",
       "      <td>0.01939</td>\n",
       "      <td>0.010401</td>\n",
       "      <td>0.025211</td>\n",
       "    </tr>\n",
       "    <tr>\n",
       "      <th>2020-12-13</th>\n",
       "      <td>0.007486</td>\n",
       "      <td>0.015006</td>\n",
       "      <td>0.019958</td>\n",
       "      <td>0.023494</td>\n",
       "      <td>0.028974</td>\n",
       "      <td>0.01939</td>\n",
       "      <td>0.010401</td>\n",
       "      <td>0.025211</td>\n",
       "    </tr>\n",
       "  </tbody>\n",
       "</table>\n",
       "</div>"
      ],
      "text/plain": [
       "Country      Austria   Belgium   Denmark    France  Netherlands  Portugal  \\\n",
       "Date                                                                        \n",
       "2020-12-09  0.007486  0.015006  0.019958  0.023494     0.028974   0.01939   \n",
       "2020-12-10  0.007486  0.015006  0.019958  0.023494     0.028974   0.01939   \n",
       "2020-12-11  0.007486  0.015006  0.019958  0.023494     0.028974   0.01939   \n",
       "2020-12-12  0.007486  0.015006  0.019958  0.023494     0.028974   0.01939   \n",
       "2020-12-13  0.007486  0.015006  0.019958  0.023494     0.028974   0.01939   \n",
       "\n",
       "Country      Ukraine  United Kingdom  \n",
       "Date                                  \n",
       "2020-12-09  0.010401        0.025211  \n",
       "2020-12-10  0.010401        0.025211  \n",
       "2020-12-11  0.010401        0.025211  \n",
       "2020-12-12  0.010401        0.025211  \n",
       "2020-12-13  0.010401        0.025211  "
      ]
     },
     "execution_count": 15,
     "metadata": {},
     "output_type": "execute_result"
    }
   ],
   "source": [
    "analyser.history(\"rho\", roll_window=None).tail()"
   ]
  },
  {
   "cell_type": "markdown",
   "metadata": {},
   "source": [
    "### $\\sigma$: Recovery rate $\\mathrm{[-]}$"
   ]
  },
  {
   "cell_type": "code",
   "execution_count": 16,
   "metadata": {
    "collapsed": false
   },
   "outputs": [
    {
     "data": {
      "image/png": "[encoded data removed]",
      "text/plain": [
       "<Figure size 648x432 with 1 Axes>"
      ]
     },
     "metadata": {},
     "output_type": "display_data"
    },
    {
     "data": {
      "text/html": [
       "<div>\n",
       "<style scoped>\n",
       "    .dataframe tbody tr th:only-of-type {\n",
       "        vertical-align: middle;\n",
       "    }\n",
       "\n",
       "    .dataframe tbody tr th {\n",
       "        vertical-align: top;\n",
       "    }\n",
       "\n",
       "    .dataframe thead th {\n",
       "        text-align: right;\n",
       "    }\n",
       "</style>\n",
       "<table border=\"1\" class=\"dataframe\">\n",
       "  <thead>\n",
       "    <tr style=\"text-align: right;\">\n",
       "      <th>Country</th>\n",
       "      <th>Austria</th>\n",
       "      <th>Belgium</th>\n",
       "      <th>Denmark</th>\n",
       "      <th>France</th>\n",
       "      <th>Netherlands</th>\n",
       "      <th>Portugal</th>\n",
       "      <th>Ukraine</th>\n",
       "      <th>United Kingdom</th>\n",
       "    </tr>\n",
       "    <tr>\n",
       "      <th>Date</th>\n",
       "      <th></th>\n",
       "      <th></th>\n",
       "      <th></th>\n",
       "      <th></th>\n",
       "      <th></th>\n",
       "      <th></th>\n",
       "      <th></th>\n",
       "      <th></th>\n",
       "    </tr>\n",
       "  </thead>\n",
       "  <tbody>\n",
       "    <tr>\n",
       "      <th>2020-12-09</th>\n",
       "      <td>0.005142</td>\n",
       "      <td>0.014189</td>\n",
       "      <td>0.017445</td>\n",
       "      <td>0.020018</td>\n",
       "      <td>0.017755</td>\n",
       "      <td>0.016255</td>\n",
       "      <td>0.005958</td>\n",
       "      <td>0.018236</td>\n",
       "    </tr>\n",
       "    <tr>\n",
       "      <th>2020-12-10</th>\n",
       "      <td>0.005142</td>\n",
       "      <td>0.014189</td>\n",
       "      <td>0.017445</td>\n",
       "      <td>0.020018</td>\n",
       "      <td>0.017755</td>\n",
       "      <td>0.016255</td>\n",
       "      <td>0.005958</td>\n",
       "      <td>0.018236</td>\n",
       "    </tr>\n",
       "    <tr>\n",
       "      <th>2020-12-11</th>\n",
       "      <td>0.005142</td>\n",
       "      <td>0.014189</td>\n",
       "      <td>0.017445</td>\n",
       "      <td>0.020018</td>\n",
       "      <td>0.017755</td>\n",
       "      <td>0.016255</td>\n",
       "      <td>0.005958</td>\n",
       "      <td>0.018236</td>\n",
       "    </tr>\n",
       "    <tr>\n",
       "      <th>2020-12-12</th>\n",
       "      <td>0.005142</td>\n",
       "      <td>0.014189</td>\n",
       "      <td>0.017445</td>\n",
       "      <td>0.020018</td>\n",
       "      <td>0.017755</td>\n",
       "      <td>0.016255</td>\n",
       "      <td>0.005958</td>\n",
       "      <td>0.018236</td>\n",
       "    </tr>\n",
       "    <tr>\n",
       "      <th>2020-12-13</th>\n",
       "      <td>0.005142</td>\n",
       "      <td>0.014189</td>\n",
       "      <td>0.017445</td>\n",
       "      <td>0.020018</td>\n",
       "      <td>0.017755</td>\n",
       "      <td>0.016255</td>\n",
       "      <td>0.005958</td>\n",
       "      <td>0.018236</td>\n",
       "    </tr>\n",
       "  </tbody>\n",
       "</table>\n",
       "</div>"
      ],
      "text/plain": [
       "Country      Austria   Belgium   Denmark    France  Netherlands  Portugal  \\\n",
       "Date                                                                        \n",
       "2020-12-09  0.005142  0.014189  0.017445  0.020018     0.017755  0.016255   \n",
       "2020-12-10  0.005142  0.014189  0.017445  0.020018     0.017755  0.016255   \n",
       "2020-12-11  0.005142  0.014189  0.017445  0.020018     0.017755  0.016255   \n",
       "2020-12-12  0.005142  0.014189  0.017445  0.020018     0.017755  0.016255   \n",
       "2020-12-13  0.005142  0.014189  0.017445  0.020018     0.017755  0.016255   \n",
       "\n",
       "Country      Ukraine  United Kingdom  \n",
       "Date                                  \n",
       "2020-12-09  0.005958        0.018236  \n",
       "2020-12-10  0.005958        0.018236  \n",
       "2020-12-11  0.005958        0.018236  \n",
       "2020-12-12  0.005958        0.018236  \n",
       "2020-12-13  0.005958        0.018236  "
      ]
     },
     "execution_count": 16,
     "metadata": {},
     "output_type": "execute_result"
    }
   ],
   "source": [
    "analyser.history(\"sigma\", roll_window=None).tail()"
   ]
  },
  {
   "cell_type": "markdown",
   "metadata": {},
   "source": [
    "### $\\kappa$: Mortality rate of infected cases $\\mathrm{[-]}$"
   ]
  },
  {
   "cell_type": "code",
   "execution_count": 17,
   "metadata": {
    "collapsed": false
   },
   "outputs": [
    {
     "data": {
      "image/png": "[encoded data removed]",
      "text/plain": [
       "<Figure size 648x432 with 1 Axes>"
      ]
     },
     "metadata": {},
     "output_type": "display_data"
    },
    {
     "data": {
      "text/html": [
       "<div>\n",
       "<style scoped>\n",
       "    .dataframe tbody tr th:only-of-type {\n",
       "        vertical-align: middle;\n",
       "    }\n",
       "\n",
       "    .dataframe tbody tr th {\n",
       "        vertical-align: top;\n",
       "    }\n",
       "\n",
       "    .dataframe thead th {\n",
       "        text-align: right;\n",
       "    }\n",
       "</style>\n",
       "<table border=\"1\" class=\"dataframe\">\n",
       "  <thead>\n",
       "    <tr style=\"text-align: right;\">\n",
       "      <th>Country</th>\n",
       "      <th>Austria</th>\n",
       "      <th>Belgium</th>\n",
       "      <th>Denmark</th>\n",
       "      <th>France</th>\n",
       "      <th>Netherlands</th>\n",
       "      <th>Portugal</th>\n",
       "      <th>Ukraine</th>\n",
       "      <th>United Kingdom</th>\n",
       "    </tr>\n",
       "    <tr>\n",
       "      <th>Date</th>\n",
       "      <th></th>\n",
       "      <th></th>\n",
       "      <th></th>\n",
       "      <th></th>\n",
       "      <th></th>\n",
       "      <th></th>\n",
       "      <th></th>\n",
       "      <th></th>\n",
       "    </tr>\n",
       "  </thead>\n",
       "  <tbody>\n",
       "    <tr>\n",
       "      <th>2020-12-09</th>\n",
       "      <td>0.000071</td>\n",
       "      <td>0.000553</td>\n",
       "      <td>0.000059</td>\n",
       "      <td>0.000287</td>\n",
       "      <td>0.000014</td>\n",
       "      <td>0.000229</td>\n",
       "      <td>0.000096</td>\n",
       "      <td>0.000838</td>\n",
       "    </tr>\n",
       "    <tr>\n",
       "      <th>2020-12-10</th>\n",
       "      <td>0.000071</td>\n",
       "      <td>0.000553</td>\n",
       "      <td>0.000059</td>\n",
       "      <td>0.000287</td>\n",
       "      <td>0.000014</td>\n",
       "      <td>0.000229</td>\n",
       "      <td>0.000096</td>\n",
       "      <td>0.000838</td>\n",
       "    </tr>\n",
       "    <tr>\n",
       "      <th>2020-12-11</th>\n",
       "      <td>0.000071</td>\n",
       "      <td>0.000553</td>\n",
       "      <td>0.000059</td>\n",
       "      <td>0.000287</td>\n",
       "      <td>0.000014</td>\n",
       "      <td>0.000229</td>\n",
       "      <td>0.000096</td>\n",
       "      <td>0.000838</td>\n",
       "    </tr>\n",
       "    <tr>\n",
       "      <th>2020-12-12</th>\n",
       "      <td>0.000071</td>\n",
       "      <td>0.000553</td>\n",
       "      <td>0.000059</td>\n",
       "      <td>0.000287</td>\n",
       "      <td>0.000014</td>\n",
       "      <td>0.000229</td>\n",
       "      <td>0.000096</td>\n",
       "      <td>0.000838</td>\n",
       "    </tr>\n",
       "    <tr>\n",
       "      <th>2020-12-13</th>\n",
       "      <td>0.000071</td>\n",
       "      <td>0.000553</td>\n",
       "      <td>0.000059</td>\n",
       "      <td>0.000287</td>\n",
       "      <td>0.000014</td>\n",
       "      <td>0.000229</td>\n",
       "      <td>0.000096</td>\n",
       "      <td>0.000838</td>\n",
       "    </tr>\n",
       "  </tbody>\n",
       "</table>\n",
       "</div>"
      ],
      "text/plain": [
       "Country      Austria   Belgium   Denmark    France  Netherlands  Portugal  \\\n",
       "Date                                                                        \n",
       "2020-12-09  0.000071  0.000553  0.000059  0.000287     0.000014  0.000229   \n",
       "2020-12-10  0.000071  0.000553  0.000059  0.000287     0.000014  0.000229   \n",
       "2020-12-11  0.000071  0.000553  0.000059  0.000287     0.000014  0.000229   \n",
       "2020-12-12  0.000071  0.000553  0.000059  0.000287     0.000014  0.000229   \n",
       "2020-12-13  0.000071  0.000553  0.000059  0.000287     0.000014  0.000229   \n",
       "\n",
       "Country      Ukraine  United Kingdom  \n",
       "Date                                  \n",
       "2020-12-09  0.000096        0.000838  \n",
       "2020-12-10  0.000096        0.000838  \n",
       "2020-12-11  0.000096        0.000838  \n",
       "2020-12-12  0.000096        0.000838  \n",
       "2020-12-13  0.000096        0.000838  "
      ]
     },
     "execution_count": 17,
     "metadata": {},
     "output_type": "execute_result"
    }
   ],
   "source": [
    "analyser.history(\"kappa\", roll_window=None).tail()"
   ]
  },
  {
   "cell_type": "markdown",
   "metadata": {},
   "source": [
    "### $\\theta$: Mortality rate of S$^\\ast$ cases $\\mathrm{[-]}$"
   ]
  },
  {
   "cell_type": "code",
   "execution_count": 18,
   "metadata": {
    "collapsed": false
   },
   "outputs": [
    {
     "data": {
      "image/png": "[encoded data removed]",
      "text/plain": [
       "<Figure size 648x432 with 1 Axes>"
      ]
     },
     "metadata": {},
     "output_type": "display_data"
    },
    {
     "data": {
      "text/html": [
       "<div>\n",
       "<style scoped>\n",
       "    .dataframe tbody tr th:only-of-type {\n",
       "        vertical-align: middle;\n",
       "    }\n",
       "\n",
       "    .dataframe tbody tr th {\n",
       "        vertical-align: top;\n",
       "    }\n",
       "\n",
       "    .dataframe thead th {\n",
       "        text-align: right;\n",
       "    }\n",
       "</style>\n",
       "<table border=\"1\" class=\"dataframe\">\n",
       "  <thead>\n",
       "    <tr style=\"text-align: right;\">\n",
       "      <th>Country</th>\n",
       "      <th>Austria</th>\n",
       "      <th>Belgium</th>\n",
       "      <th>Denmark</th>\n",
       "      <th>France</th>\n",
       "      <th>Netherlands</th>\n",
       "      <th>Portugal</th>\n",
       "      <th>Ukraine</th>\n",
       "      <th>United Kingdom</th>\n",
       "    </tr>\n",
       "    <tr>\n",
       "      <th>Date</th>\n",
       "      <th></th>\n",
       "      <th></th>\n",
       "      <th></th>\n",
       "      <th></th>\n",
       "      <th></th>\n",
       "      <th></th>\n",
       "      <th></th>\n",
       "      <th></th>\n",
       "    </tr>\n",
       "  </thead>\n",
       "  <tbody>\n",
       "    <tr>\n",
       "      <th>2020-12-09</th>\n",
       "      <td>0.015594</td>\n",
       "      <td>0.036571</td>\n",
       "      <td>0.002389</td>\n",
       "      <td>0.022552</td>\n",
       "      <td>0.004924</td>\n",
       "      <td>0.000121</td>\n",
       "      <td>0.000719</td>\n",
       "      <td>0.019092</td>\n",
       "    </tr>\n",
       "    <tr>\n",
       "      <th>2020-12-10</th>\n",
       "      <td>0.015594</td>\n",
       "      <td>0.036571</td>\n",
       "      <td>0.002389</td>\n",
       "      <td>0.022552</td>\n",
       "      <td>0.004924</td>\n",
       "      <td>0.000121</td>\n",
       "      <td>0.000719</td>\n",
       "      <td>0.019092</td>\n",
       "    </tr>\n",
       "    <tr>\n",
       "      <th>2020-12-11</th>\n",
       "      <td>0.015594</td>\n",
       "      <td>0.036571</td>\n",
       "      <td>0.002389</td>\n",
       "      <td>0.022552</td>\n",
       "      <td>0.004924</td>\n",
       "      <td>0.000121</td>\n",
       "      <td>0.000719</td>\n",
       "      <td>0.019092</td>\n",
       "    </tr>\n",
       "    <tr>\n",
       "      <th>2020-12-12</th>\n",
       "      <td>0.015594</td>\n",
       "      <td>0.036571</td>\n",
       "      <td>0.002389</td>\n",
       "      <td>0.022552</td>\n",
       "      <td>0.004924</td>\n",
       "      <td>0.000121</td>\n",
       "      <td>0.000719</td>\n",
       "      <td>0.019092</td>\n",
       "    </tr>\n",
       "    <tr>\n",
       "      <th>2020-12-13</th>\n",
       "      <td>0.015594</td>\n",
       "      <td>0.036571</td>\n",
       "      <td>0.002389</td>\n",
       "      <td>0.022552</td>\n",
       "      <td>0.004924</td>\n",
       "      <td>0.000121</td>\n",
       "      <td>0.000719</td>\n",
       "      <td>0.019092</td>\n",
       "    </tr>\n",
       "  </tbody>\n",
       "</table>\n",
       "</div>"
      ],
      "text/plain": [
       "Country      Austria   Belgium   Denmark    France  Netherlands  Portugal  \\\n",
       "Date                                                                        \n",
       "2020-12-09  0.015594  0.036571  0.002389  0.022552     0.004924  0.000121   \n",
       "2020-12-10  0.015594  0.036571  0.002389  0.022552     0.004924  0.000121   \n",
       "2020-12-11  0.015594  0.036571  0.002389  0.022552     0.004924  0.000121   \n",
       "2020-12-12  0.015594  0.036571  0.002389  0.022552     0.004924  0.000121   \n",
       "2020-12-13  0.015594  0.036571  0.002389  0.022552     0.004924  0.000121   \n",
       "\n",
       "Country      Ukraine  United Kingdom  \n",
       "Date                                  \n",
       "2020-12-09  0.000719        0.019092  \n",
       "2020-12-10  0.000719        0.019092  \n",
       "2020-12-11  0.000719        0.019092  \n",
       "2020-12-12  0.000719        0.019092  \n",
       "2020-12-13  0.000719        0.019092  "
      ]
     },
     "execution_count": 18,
     "metadata": {},
     "output_type": "execute_result"
    }
   ],
   "source": [
    "analyser.history(\"theta\", roll_window=None).tail()"
   ]
  },
  {
   "cell_type": "markdown",
   "metadata": {},
   "source": [
    "## (Experimental): Relationship of OxCGRT index and parameter values\n",
    "Government responses will impact on parameter values of ODE models about 14 days later. Here, we will investigate on the relationship of [stringency index (from OxCGRT)](https://github.com/OxCGRT/covid-policy-tracker/blob/master/documentation/index_methodology.md) and reproduction number/model parameters.\n"
   ]
  },
  {
   "cell_type": "code",
   "execution_count": 19,
   "metadata": {
    "collapsed": false
   },
   "outputs": [],
   "source": [
    "%matplotlib inline\n",
    "from matplotlib import pyplot as plt\n",
    "import seaborn as sns\n",
    "import pandas as pd"
   ]
  },
  {
   "cell_type": "code",
   "execution_count": 20,
   "metadata": {
    "collapsed": false
   },
   "outputs": [
    {
     "name": "stdout",
     "output_type": "stream",
     "text": [
      "<class 'pandas.core.frame.DataFrame'>\n",
      "Int64Index: 25699 entries, 0 to 25796\n",
      "Data columns (total 19 columns):\n",
      " #   Column                               Non-Null Count  Dtype         \n",
      "---  ------                               --------------  -----         \n",
      " 0   Date                                 25699 non-null  datetime64[ns]\n",
      " 1   Country                              25699 non-null  object        \n",
      " 2   Rt                                   25699 non-null  float64       \n",
      " 3   theta                                25699 non-null  float64       \n",
      " 4   kappa                                25699 non-null  float64       \n",
      " 5   rho                                  25699 non-null  float64       \n",
      " 6   sigma                                25699 non-null  float64       \n",
      " 7   School_closing                       25699 non-null  int64         \n",
      " 8   Workplace_closing                    25699 non-null  int64         \n",
      " 9   Cancel_events                        25699 non-null  int64         \n",
      " 10  Gatherings_restrictions              25699 non-null  int64         \n",
      " 11  Transport_closing                    25699 non-null  int64         \n",
      " 12  Stay_home_restrictions               25699 non-null  int64         \n",
      " 13  Internal_movement_restrictions       25699 non-null  int64         \n",
      " 14  International_movement_restrictions  25699 non-null  int64         \n",
      " 15  Information_campaigns                25699 non-null  int64         \n",
      " 16  Testing_policy                       25699 non-null  int64         \n",
      " 17  Contact_tracing                      25699 non-null  int64         \n",
      " 18  Stringency_index                     25699 non-null  float64       \n",
      "dtypes: datetime64[ns](1), float64(6), int64(11), object(1)\n",
      "memory usage: 3.9+ MB\n"
     ]
    }
   ],
   "source": [
    "df = analyser.track()\n",
    "param_cols = [\"Rt\", *cs.SIRF.PARAMETERS]\n",
    "oxcgrt_cols = oxcgrt_data.OXCGRT_VARS[:]\n",
    "cols = param_cols + oxcgrt_cols\n",
    "delay = 14\n",
    "\n",
    "for col in param_cols:\n",
    "    df[col] = pd.to_numeric(df[col], errors=\"coerce\")\n",
    "    df[col] = df.groupby(\"Country\")[col].shift(0 - delay)\n",
    "\n",
    "df = df.dropna(how=\"any\")\n",
    "df = df.loc[:, [\"Date\", \"Country\", *cols]]\n",
    "track_df = df.copy()\n",
    "track_df.info()"
   ]
  },
  {
   "cell_type": "code",
   "execution_count": 21,
   "metadata": {
    "collapsed": false
   },
   "outputs": [
    {
     "data": {
      "text/html": [
       "<style  type=\"text/css\" >\n",
       "#T_3c5c52c0_3d57_11eb_a8c2_525400801912row0_col0,#T_3c5c52c0_3d57_11eb_a8c2_525400801912row1_col1,#T_3c5c52c0_3d57_11eb_a8c2_525400801912row2_col2,#T_3c5c52c0_3d57_11eb_a8c2_525400801912row3_col3,#T_3c5c52c0_3d57_11eb_a8c2_525400801912row4_col4,#T_3c5c52c0_3d57_11eb_a8c2_525400801912row5_col5,#T_3c5c52c0_3d57_11eb_a8c2_525400801912row6_col6,#T_3c5c52c0_3d57_11eb_a8c2_525400801912row7_col7,#T_3c5c52c0_3d57_11eb_a8c2_525400801912row8_col8,#T_3c5c52c0_3d57_11eb_a8c2_525400801912row9_col9,#T_3c5c52c0_3d57_11eb_a8c2_525400801912row10_col10,#T_3c5c52c0_3d57_11eb_a8c2_525400801912row11_col11,#T_3c5c52c0_3d57_11eb_a8c2_525400801912row12_col12,#T_3c5c52c0_3d57_11eb_a8c2_525400801912row13_col13,#T_3c5c52c0_3d57_11eb_a8c2_525400801912row14_col14,#T_3c5c52c0_3d57_11eb_a8c2_525400801912row15_col15,#T_3c5c52c0_3d57_11eb_a8c2_525400801912row16_col16{\n",
       "            background-color:  #023858;\n",
       "            color:  #f1f1f1;\n",
       "        }#T_3c5c52c0_3d57_11eb_a8c2_525400801912row0_col1,#T_3c5c52c0_3d57_11eb_a8c2_525400801912row1_col0,#T_3c5c52c0_3d57_11eb_a8c2_525400801912row2_col14,#T_3c5c52c0_3d57_11eb_a8c2_525400801912row14_col2,#T_3c5c52c0_3d57_11eb_a8c2_525400801912row15_col16,#T_3c5c52c0_3d57_11eb_a8c2_525400801912row16_col15{\n",
       "            background-color:  #d0d1e6;\n",
       "            color:  #000000;\n",
       "        }#T_3c5c52c0_3d57_11eb_a8c2_525400801912row0_col2,#T_3c5c52c0_3d57_11eb_a8c2_525400801912row2_col0{\n",
       "            background-color:  #bcc7e1;\n",
       "            color:  #000000;\n",
       "        }#T_3c5c52c0_3d57_11eb_a8c2_525400801912row0_col3,#T_3c5c52c0_3d57_11eb_a8c2_525400801912row3_col0{\n",
       "            background-color:  #2a88bc;\n",
       "            color:  #000000;\n",
       "        }#T_3c5c52c0_3d57_11eb_a8c2_525400801912row0_col4,#T_3c5c52c0_3d57_11eb_a8c2_525400801912row4_col0{\n",
       "            background-color:  #f8f1f8;\n",
       "            color:  #000000;\n",
       "        }#T_3c5c52c0_3d57_11eb_a8c2_525400801912row0_col5,#T_3c5c52c0_3d57_11eb_a8c2_525400801912row5_col0,#T_3c5c52c0_3d57_11eb_a8c2_525400801912row7_col15,#T_3c5c52c0_3d57_11eb_a8c2_525400801912row15_col7{\n",
       "            background-color:  #bfc9e1;\n",
       "            color:  #000000;\n",
       "        }#T_3c5c52c0_3d57_11eb_a8c2_525400801912row0_col6,#T_3c5c52c0_3d57_11eb_a8c2_525400801912row6_col0{\n",
       "            background-color:  #c8cde4;\n",
       "            color:  #000000;\n",
       "        }#T_3c5c52c0_3d57_11eb_a8c2_525400801912row0_col7,#T_3c5c52c0_3d57_11eb_a8c2_525400801912row7_col0{\n",
       "            background-color:  #dedcec;\n",
       "            color:  #000000;\n",
       "        }#T_3c5c52c0_3d57_11eb_a8c2_525400801912row0_col8,#T_3c5c52c0_3d57_11eb_a8c2_525400801912row1_col14,#T_3c5c52c0_3d57_11eb_a8c2_525400801912row8_col0,#T_3c5c52c0_3d57_11eb_a8c2_525400801912row14_col1{\n",
       "            background-color:  #e7e3f0;\n",
       "            color:  #000000;\n",
       "        }#T_3c5c52c0_3d57_11eb_a8c2_525400801912row0_col9,#T_3c5c52c0_3d57_11eb_a8c2_525400801912row3_col11,#T_3c5c52c0_3d57_11eb_a8c2_525400801912row9_col0,#T_3c5c52c0_3d57_11eb_a8c2_525400801912row11_col3{\n",
       "            background-color:  #dddbec;\n",
       "            color:  #000000;\n",
       "        }#T_3c5c52c0_3d57_11eb_a8c2_525400801912row0_col10,#T_3c5c52c0_3d57_11eb_a8c2_525400801912row0_col13,#T_3c5c52c0_3d57_11eb_a8c2_525400801912row10_col0,#T_3c5c52c0_3d57_11eb_a8c2_525400801912row13_col0{\n",
       "            background-color:  #d1d2e6;\n",
       "            color:  #000000;\n",
       "        }#T_3c5c52c0_3d57_11eb_a8c2_525400801912row0_col11,#T_3c5c52c0_3d57_11eb_a8c2_525400801912row11_col0{\n",
       "            background-color:  #e2dfee;\n",
       "            color:  #000000;\n",
       "        }#T_3c5c52c0_3d57_11eb_a8c2_525400801912row0_col12,#T_3c5c52c0_3d57_11eb_a8c2_525400801912row12_col0{\n",
       "            background-color:  #d2d2e7;\n",
       "            color:  #000000;\n",
       "        }#T_3c5c52c0_3d57_11eb_a8c2_525400801912row0_col14,#T_3c5c52c0_3d57_11eb_a8c2_525400801912row3_col15,#T_3c5c52c0_3d57_11eb_a8c2_525400801912row14_col0,#T_3c5c52c0_3d57_11eb_a8c2_525400801912row15_col3{\n",
       "            background-color:  #e0deed;\n",
       "            color:  #000000;\n",
       "        }#T_3c5c52c0_3d57_11eb_a8c2_525400801912row0_col15,#T_3c5c52c0_3d57_11eb_a8c2_525400801912row15_col0{\n",
       "            background-color:  #d9d8ea;\n",
       "            color:  #000000;\n",
       "        }#T_3c5c52c0_3d57_11eb_a8c2_525400801912row0_col16,#T_3c5c52c0_3d57_11eb_a8c2_525400801912row16_col0{\n",
       "            background-color:  #d2d3e7;\n",
       "            color:  #000000;\n",
       "        }#T_3c5c52c0_3d57_11eb_a8c2_525400801912row1_col2,#T_3c5c52c0_3d57_11eb_a8c2_525400801912row2_col1{\n",
       "            background-color:  #b0c2de;\n",
       "            color:  #000000;\n",
       "        }#T_3c5c52c0_3d57_11eb_a8c2_525400801912row1_col3,#T_3c5c52c0_3d57_11eb_a8c2_525400801912row3_col1{\n",
       "            background-color:  #dad9ea;\n",
       "            color:  #000000;\n",
       "        }#T_3c5c52c0_3d57_11eb_a8c2_525400801912row1_col4,#T_3c5c52c0_3d57_11eb_a8c2_525400801912row4_col1{\n",
       "            background-color:  #adc1dd;\n",
       "            color:  #000000;\n",
       "        }#T_3c5c52c0_3d57_11eb_a8c2_525400801912row1_col5,#T_3c5c52c0_3d57_11eb_a8c2_525400801912row4_col7,#T_3c5c52c0_3d57_11eb_a8c2_525400801912row5_col1,#T_3c5c52c0_3d57_11eb_a8c2_525400801912row7_col4,#T_3c5c52c0_3d57_11eb_a8c2_525400801912row9_col14,#T_3c5c52c0_3d57_11eb_a8c2_525400801912row14_col9{\n",
       "            background-color:  #62a2cb;\n",
       "            color:  #000000;\n",
       "        }#T_3c5c52c0_3d57_11eb_a8c2_525400801912row1_col6,#T_3c5c52c0_3d57_11eb_a8c2_525400801912row6_col1,#T_3c5c52c0_3d57_11eb_a8c2_525400801912row6_col12,#T_3c5c52c0_3d57_11eb_a8c2_525400801912row12_col6{\n",
       "            background-color:  #75a9cf;\n",
       "            color:  #000000;\n",
       "        }#T_3c5c52c0_3d57_11eb_a8c2_525400801912row1_col7,#T_3c5c52c0_3d57_11eb_a8c2_525400801912row7_col1{\n",
       "            background-color:  #71a8ce;\n",
       "            color:  #000000;\n",
       "        }#T_3c5c52c0_3d57_11eb_a8c2_525400801912row1_col8,#T_3c5c52c0_3d57_11eb_a8c2_525400801912row8_col1{\n",
       "            background-color:  #88b1d4;\n",
       "            color:  #000000;\n",
       "        }#T_3c5c52c0_3d57_11eb_a8c2_525400801912row1_col9,#T_3c5c52c0_3d57_11eb_a8c2_525400801912row9_col1,#T_3c5c52c0_3d57_11eb_a8c2_525400801912row10_col14,#T_3c5c52c0_3d57_11eb_a8c2_525400801912row14_col10{\n",
       "            background-color:  #a1bbda;\n",
       "            color:  #000000;\n",
       "        }#T_3c5c52c0_3d57_11eb_a8c2_525400801912row1_col10,#T_3c5c52c0_3d57_11eb_a8c2_525400801912row10_col1,#T_3c5c52c0_3d57_11eb_a8c2_525400801912row11_col12,#T_3c5c52c0_3d57_11eb_a8c2_525400801912row12_col11{\n",
       "            background-color:  #8cb3d5;\n",
       "            color:  #000000;\n",
       "        }#T_3c5c52c0_3d57_11eb_a8c2_525400801912row1_col11,#T_3c5c52c0_3d57_11eb_a8c2_525400801912row9_col12,#T_3c5c52c0_3d57_11eb_a8c2_525400801912row11_col1,#T_3c5c52c0_3d57_11eb_a8c2_525400801912row12_col9{\n",
       "            background-color:  #63a2cb;\n",
       "            color:  #000000;\n",
       "        }#T_3c5c52c0_3d57_11eb_a8c2_525400801912row1_col12,#T_3c5c52c0_3d57_11eb_a8c2_525400801912row12_col1{\n",
       "            background-color:  #94b6d7;\n",
       "            color:  #000000;\n",
       "        }#T_3c5c52c0_3d57_11eb_a8c2_525400801912row1_col13,#T_3c5c52c0_3d57_11eb_a8c2_525400801912row13_col1{\n",
       "            background-color:  #9fbad9;\n",
       "            color:  #000000;\n",
       "        }#T_3c5c52c0_3d57_11eb_a8c2_525400801912row1_col15,#T_3c5c52c0_3d57_11eb_a8c2_525400801912row15_col1{\n",
       "            background-color:  #c0c9e2;\n",
       "            color:  #000000;\n",
       "        }#T_3c5c52c0_3d57_11eb_a8c2_525400801912row1_col16,#T_3c5c52c0_3d57_11eb_a8c2_525400801912row10_col12,#T_3c5c52c0_3d57_11eb_a8c2_525400801912row12_col10,#T_3c5c52c0_3d57_11eb_a8c2_525400801912row16_col1{\n",
       "            background-color:  #5c9fc9;\n",
       "            color:  #000000;\n",
       "        }#T_3c5c52c0_3d57_11eb_a8c2_525400801912row2_col3,#T_3c5c52c0_3d57_11eb_a8c2_525400801912row3_col2{\n",
       "            background-color:  #9ebad9;\n",
       "            color:  #000000;\n",
       "        }#T_3c5c52c0_3d57_11eb_a8c2_525400801912row2_col4,#T_3c5c52c0_3d57_11eb_a8c2_525400801912row4_col2{\n",
       "            background-color:  #96b6d7;\n",
       "            color:  #000000;\n",
       "        }#T_3c5c52c0_3d57_11eb_a8c2_525400801912row2_col5,#T_3c5c52c0_3d57_11eb_a8c2_525400801912row5_col2{\n",
       "            background-color:  #b3c3de;\n",
       "            color:  #000000;\n",
       "        }#T_3c5c52c0_3d57_11eb_a8c2_525400801912row2_col6,#T_3c5c52c0_3d57_11eb_a8c2_525400801912row6_col2,#T_3c5c52c0_3d57_11eb_a8c2_525400801912row11_col15,#T_3c5c52c0_3d57_11eb_a8c2_525400801912row15_col11{\n",
       "            background-color:  #a9bfdc;\n",
       "            color:  #000000;\n",
       "        }#T_3c5c52c0_3d57_11eb_a8c2_525400801912row2_col7,#T_3c5c52c0_3d57_11eb_a8c2_525400801912row7_col2{\n",
       "            background-color:  #9cb9d9;\n",
       "            color:  #000000;\n",
       "        }#T_3c5c52c0_3d57_11eb_a8c2_525400801912row2_col8,#T_3c5c52c0_3d57_11eb_a8c2_525400801912row8_col2{\n",
       "            background-color:  #d5d5e8;\n",
       "            color:  #000000;\n",
       "        }#T_3c5c52c0_3d57_11eb_a8c2_525400801912row2_col9,#T_3c5c52c0_3d57_11eb_a8c2_525400801912row9_col2{\n",
       "            background-color:  #afc1dd;\n",
       "            color:  #000000;\n",
       "        }#T_3c5c52c0_3d57_11eb_a8c2_525400801912row2_col10,#T_3c5c52c0_3d57_11eb_a8c2_525400801912row2_col11,#T_3c5c52c0_3d57_11eb_a8c2_525400801912row10_col2,#T_3c5c52c0_3d57_11eb_a8c2_525400801912row11_col2{\n",
       "            background-color:  #c9cee4;\n",
       "            color:  #000000;\n",
       "        }#T_3c5c52c0_3d57_11eb_a8c2_525400801912row2_col12,#T_3c5c52c0_3d57_11eb_a8c2_525400801912row12_col2,#T_3c5c52c0_3d57_11eb_a8c2_525400801912row14_col16,#T_3c5c52c0_3d57_11eb_a8c2_525400801912row16_col14{\n",
       "            background-color:  #b9c6e0;\n",
       "            color:  #000000;\n",
       "        }#T_3c5c52c0_3d57_11eb_a8c2_525400801912row2_col13,#T_3c5c52c0_3d57_11eb_a8c2_525400801912row5_col12,#T_3c5c52c0_3d57_11eb_a8c2_525400801912row11_col14,#T_3c5c52c0_3d57_11eb_a8c2_525400801912row12_col5,#T_3c5c52c0_3d57_11eb_a8c2_525400801912row13_col2,#T_3c5c52c0_3d57_11eb_a8c2_525400801912row14_col11{\n",
       "            background-color:  #a5bddb;\n",
       "            color:  #000000;\n",
       "        }#T_3c5c52c0_3d57_11eb_a8c2_525400801912row2_col15,#T_3c5c52c0_3d57_11eb_a8c2_525400801912row15_col2{\n",
       "            background-color:  #a2bcda;\n",
       "            color:  #000000;\n",
       "        }#T_3c5c52c0_3d57_11eb_a8c2_525400801912row2_col16,#T_3c5c52c0_3d57_11eb_a8c2_525400801912row10_col15,#T_3c5c52c0_3d57_11eb_a8c2_525400801912row15_col10,#T_3c5c52c0_3d57_11eb_a8c2_525400801912row16_col2{\n",
       "            background-color:  #c4cbe3;\n",
       "            color:  #000000;\n",
       "        }#T_3c5c52c0_3d57_11eb_a8c2_525400801912row3_col4,#T_3c5c52c0_3d57_11eb_a8c2_525400801912row4_col3{\n",
       "            background-color:  #ede7f2;\n",
       "            color:  #000000;\n",
       "        }#T_3c5c52c0_3d57_11eb_a8c2_525400801912row3_col5,#T_3c5c52c0_3d57_11eb_a8c2_525400801912row5_col3{\n",
       "            background-color:  #e8e4f0;\n",
       "            color:  #000000;\n",
       "        }#T_3c5c52c0_3d57_11eb_a8c2_525400801912row3_col6,#T_3c5c52c0_3d57_11eb_a8c2_525400801912row6_col3{\n",
       "            background-color:  #efe9f3;\n",
       "            color:  #000000;\n",
       "        }#T_3c5c52c0_3d57_11eb_a8c2_525400801912row3_col7,#T_3c5c52c0_3d57_11eb_a8c2_525400801912row7_col3{\n",
       "            background-color:  #fbf4f9;\n",
       "            color:  #000000;\n",
       "        }#T_3c5c52c0_3d57_11eb_a8c2_525400801912row3_col8,#T_3c5c52c0_3d57_11eb_a8c2_525400801912row3_col9,#T_3c5c52c0_3d57_11eb_a8c2_525400801912row8_col3,#T_3c5c52c0_3d57_11eb_a8c2_525400801912row9_col3{\n",
       "            background-color:  #fdf5fa;\n",
       "            color:  #000000;\n",
       "        }#T_3c5c52c0_3d57_11eb_a8c2_525400801912row3_col10,#T_3c5c52c0_3d57_11eb_a8c2_525400801912row10_col3{\n",
       "            background-color:  #f2ecf5;\n",
       "            color:  #000000;\n",
       "        }#T_3c5c52c0_3d57_11eb_a8c2_525400801912row3_col12,#T_3c5c52c0_3d57_11eb_a8c2_525400801912row3_col14,#T_3c5c52c0_3d57_11eb_a8c2_525400801912row12_col3,#T_3c5c52c0_3d57_11eb_a8c2_525400801912row14_col3{\n",
       "            background-color:  #fff7fb;\n",
       "            color:  #000000;\n",
       "        }#T_3c5c52c0_3d57_11eb_a8c2_525400801912row3_col13,#T_3c5c52c0_3d57_11eb_a8c2_525400801912row13_col3{\n",
       "            background-color:  #e6e2ef;\n",
       "            color:  #000000;\n",
       "        }#T_3c5c52c0_3d57_11eb_a8c2_525400801912row3_col16,#T_3c5c52c0_3d57_11eb_a8c2_525400801912row16_col3{\n",
       "            background-color:  #f7f0f7;\n",
       "            color:  #000000;\n",
       "        }#T_3c5c52c0_3d57_11eb_a8c2_525400801912row4_col5,#T_3c5c52c0_3d57_11eb_a8c2_525400801912row5_col4{\n",
       "            background-color:  #7eadd1;\n",
       "            color:  #000000;\n",
       "        }#T_3c5c52c0_3d57_11eb_a8c2_525400801912row4_col6,#T_3c5c52c0_3d57_11eb_a8c2_525400801912row6_col4{\n",
       "            background-color:  #69a5cc;\n",
       "            color:  #000000;\n",
       "        }#T_3c5c52c0_3d57_11eb_a8c2_525400801912row4_col8,#T_3c5c52c0_3d57_11eb_a8c2_525400801912row8_col4,#T_3c5c52c0_3d57_11eb_a8c2_525400801912row9_col13,#T_3c5c52c0_3d57_11eb_a8c2_525400801912row10_col11,#T_3c5c52c0_3d57_11eb_a8c2_525400801912row11_col10,#T_3c5c52c0_3d57_11eb_a8c2_525400801912row13_col9{\n",
       "            background-color:  #3f93c2;\n",
       "            color:  #000000;\n",
       "        }#T_3c5c52c0_3d57_11eb_a8c2_525400801912row4_col9,#T_3c5c52c0_3d57_11eb_a8c2_525400801912row9_col4{\n",
       "            background-color:  #81aed2;\n",
       "            color:  #000000;\n",
       "        }#T_3c5c52c0_3d57_11eb_a8c2_525400801912row4_col10,#T_3c5c52c0_3d57_11eb_a8c2_525400801912row10_col4{\n",
       "            background-color:  #83afd3;\n",
       "            color:  #000000;\n",
       "        }#T_3c5c52c0_3d57_11eb_a8c2_525400801912row4_col11,#T_3c5c52c0_3d57_11eb_a8c2_525400801912row9_col10,#T_3c5c52c0_3d57_11eb_a8c2_525400801912row10_col9,#T_3c5c52c0_3d57_11eb_a8c2_525400801912row10_col13,#T_3c5c52c0_3d57_11eb_a8c2_525400801912row11_col4,#T_3c5c52c0_3d57_11eb_a8c2_525400801912row13_col10{\n",
       "            background-color:  #529bc7;\n",
       "            color:  #000000;\n",
       "        }#T_3c5c52c0_3d57_11eb_a8c2_525400801912row4_col12,#T_3c5c52c0_3d57_11eb_a8c2_525400801912row12_col4{\n",
       "            background-color:  #8bb2d4;\n",
       "            color:  #000000;\n",
       "        }#T_3c5c52c0_3d57_11eb_a8c2_525400801912row4_col13,#T_3c5c52c0_3d57_11eb_a8c2_525400801912row4_col16,#T_3c5c52c0_3d57_11eb_a8c2_525400801912row13_col4,#T_3c5c52c0_3d57_11eb_a8c2_525400801912row16_col4{\n",
       "            background-color:  #6fa7ce;\n",
       "            color:  #000000;\n",
       "        }#T_3c5c52c0_3d57_11eb_a8c2_525400801912row4_col14,#T_3c5c52c0_3d57_11eb_a8c2_525400801912row14_col4{\n",
       "            background-color:  #9ab8d8;\n",
       "            color:  #000000;\n",
       "        }#T_3c5c52c0_3d57_11eb_a8c2_525400801912row4_col15,#T_3c5c52c0_3d57_11eb_a8c2_525400801912row7_col12,#T_3c5c52c0_3d57_11eb_a8c2_525400801912row12_col7,#T_3c5c52c0_3d57_11eb_a8c2_525400801912row15_col4{\n",
       "            background-color:  #67a4cc;\n",
       "            color:  #000000;\n",
       "        }#T_3c5c52c0_3d57_11eb_a8c2_525400801912row5_col6,#T_3c5c52c0_3d57_11eb_a8c2_525400801912row6_col5{\n",
       "            background-color:  #04629a;\n",
       "            color:  #f1f1f1;\n",
       "        }#T_3c5c52c0_3d57_11eb_a8c2_525400801912row5_col7,#T_3c5c52c0_3d57_11eb_a8c2_525400801912row7_col5{\n",
       "            background-color:  #187cb6;\n",
       "            color:  #000000;\n",
       "        }#T_3c5c52c0_3d57_11eb_a8c2_525400801912row5_col8,#T_3c5c52c0_3d57_11eb_a8c2_525400801912row7_col10,#T_3c5c52c0_3d57_11eb_a8c2_525400801912row7_col13,#T_3c5c52c0_3d57_11eb_a8c2_525400801912row8_col5,#T_3c5c52c0_3d57_11eb_a8c2_525400801912row10_col7,#T_3c5c52c0_3d57_11eb_a8c2_525400801912row13_col7{\n",
       "            background-color:  #2484ba;\n",
       "            color:  #000000;\n",
       "        }#T_3c5c52c0_3d57_11eb_a8c2_525400801912row5_col9,#T_3c5c52c0_3d57_11eb_a8c2_525400801912row6_col11,#T_3c5c52c0_3d57_11eb_a8c2_525400801912row6_col13,#T_3c5c52c0_3d57_11eb_a8c2_525400801912row9_col5,#T_3c5c52c0_3d57_11eb_a8c2_525400801912row11_col6,#T_3c5c52c0_3d57_11eb_a8c2_525400801912row13_col6{\n",
       "            background-color:  #3d93c2;\n",
       "            color:  #000000;\n",
       "        }#T_3c5c52c0_3d57_11eb_a8c2_525400801912row5_col10,#T_3c5c52c0_3d57_11eb_a8c2_525400801912row8_col9,#T_3c5c52c0_3d57_11eb_a8c2_525400801912row9_col8,#T_3c5c52c0_3d57_11eb_a8c2_525400801912row10_col5,#T_3c5c52c0_3d57_11eb_a8c2_525400801912row13_col16,#T_3c5c52c0_3d57_11eb_a8c2_525400801912row16_col13{\n",
       "            background-color:  #1c7fb8;\n",
       "            color:  #000000;\n",
       "        }#T_3c5c52c0_3d57_11eb_a8c2_525400801912row5_col11,#T_3c5c52c0_3d57_11eb_a8c2_525400801912row11_col5,#T_3c5c52c0_3d57_11eb_a8c2_525400801912row12_col15,#T_3c5c52c0_3d57_11eb_a8c2_525400801912row15_col12{\n",
       "            background-color:  #2987bc;\n",
       "            color:  #000000;\n",
       "        }#T_3c5c52c0_3d57_11eb_a8c2_525400801912row5_col13,#T_3c5c52c0_3d57_11eb_a8c2_525400801912row13_col5{\n",
       "            background-color:  #60a1ca;\n",
       "            color:  #000000;\n",
       "        }#T_3c5c52c0_3d57_11eb_a8c2_525400801912row5_col14,#T_3c5c52c0_3d57_11eb_a8c2_525400801912row14_col5{\n",
       "            background-color:  #dcdaeb;\n",
       "            color:  #000000;\n",
       "        }#T_3c5c52c0_3d57_11eb_a8c2_525400801912row5_col15,#T_3c5c52c0_3d57_11eb_a8c2_525400801912row15_col5{\n",
       "            background-color:  #d6d6e9;\n",
       "            color:  #000000;\n",
       "        }#T_3c5c52c0_3d57_11eb_a8c2_525400801912row5_col16,#T_3c5c52c0_3d57_11eb_a8c2_525400801912row16_col5{\n",
       "            background-color:  #045c90;\n",
       "            color:  #f1f1f1;\n",
       "        }#T_3c5c52c0_3d57_11eb_a8c2_525400801912row6_col7,#T_3c5c52c0_3d57_11eb_a8c2_525400801912row7_col6{\n",
       "            background-color:  #04639b;\n",
       "            color:  #f1f1f1;\n",
       "        }#T_3c5c52c0_3d57_11eb_a8c2_525400801912row6_col8,#T_3c5c52c0_3d57_11eb_a8c2_525400801912row8_col6{\n",
       "            background-color:  #0872b1;\n",
       "            color:  #f1f1f1;\n",
       "        }#T_3c5c52c0_3d57_11eb_a8c2_525400801912row6_col9,#T_3c5c52c0_3d57_11eb_a8c2_525400801912row9_col6,#T_3c5c52c0_3d57_11eb_a8c2_525400801912row12_col13,#T_3c5c52c0_3d57_11eb_a8c2_525400801912row13_col12{\n",
       "            background-color:  #4496c3;\n",
       "            color:  #000000;\n",
       "        }#T_3c5c52c0_3d57_11eb_a8c2_525400801912row6_col10,#T_3c5c52c0_3d57_11eb_a8c2_525400801912row10_col6{\n",
       "            background-color:  #0569a4;\n",
       "            color:  #f1f1f1;\n",
       "        }#T_3c5c52c0_3d57_11eb_a8c2_525400801912row6_col14,#T_3c5c52c0_3d57_11eb_a8c2_525400801912row14_col6{\n",
       "            background-color:  #d4d4e8;\n",
       "            color:  #000000;\n",
       "        }#T_3c5c52c0_3d57_11eb_a8c2_525400801912row6_col15,#T_3c5c52c0_3d57_11eb_a8c2_525400801912row15_col6{\n",
       "            background-color:  #dbdaeb;\n",
       "            color:  #000000;\n",
       "        }#T_3c5c52c0_3d57_11eb_a8c2_525400801912row6_col16,#T_3c5c52c0_3d57_11eb_a8c2_525400801912row16_col6{\n",
       "            background-color:  #034e7b;\n",
       "            color:  #f1f1f1;\n",
       "        }#T_3c5c52c0_3d57_11eb_a8c2_525400801912row7_col8,#T_3c5c52c0_3d57_11eb_a8c2_525400801912row8_col7{\n",
       "            background-color:  #056ead;\n",
       "            color:  #f1f1f1;\n",
       "        }#T_3c5c52c0_3d57_11eb_a8c2_525400801912row7_col9,#T_3c5c52c0_3d57_11eb_a8c2_525400801912row9_col7{\n",
       "            background-color:  #3991c1;\n",
       "            color:  #000000;\n",
       "        }#T_3c5c52c0_3d57_11eb_a8c2_525400801912row7_col11,#T_3c5c52c0_3d57_11eb_a8c2_525400801912row11_col7,#T_3c5c52c0_3d57_11eb_a8c2_525400801912row13_col14,#T_3c5c52c0_3d57_11eb_a8c2_525400801912row14_col13{\n",
       "            background-color:  #3b92c1;\n",
       "            color:  #000000;\n",
       "        }#T_3c5c52c0_3d57_11eb_a8c2_525400801912row7_col14,#T_3c5c52c0_3d57_11eb_a8c2_525400801912row14_col7{\n",
       "            background-color:  #a4bcda;\n",
       "            color:  #000000;\n",
       "        }#T_3c5c52c0_3d57_11eb_a8c2_525400801912row7_col16,#T_3c5c52c0_3d57_11eb_a8c2_525400801912row16_col7{\n",
       "            background-color:  #045a8d;\n",
       "            color:  #f1f1f1;\n",
       "        }#T_3c5c52c0_3d57_11eb_a8c2_525400801912row8_col10,#T_3c5c52c0_3d57_11eb_a8c2_525400801912row10_col8{\n",
       "            background-color:  #2d8abd;\n",
       "            color:  #000000;\n",
       "        }#T_3c5c52c0_3d57_11eb_a8c2_525400801912row8_col11,#T_3c5c52c0_3d57_11eb_a8c2_525400801912row11_col8{\n",
       "            background-color:  #056dac;\n",
       "            color:  #f1f1f1;\n",
       "        }#T_3c5c52c0_3d57_11eb_a8c2_525400801912row8_col12,#T_3c5c52c0_3d57_11eb_a8c2_525400801912row9_col11,#T_3c5c52c0_3d57_11eb_a8c2_525400801912row11_col9,#T_3c5c52c0_3d57_11eb_a8c2_525400801912row12_col8{\n",
       "            background-color:  #348ebf;\n",
       "            color:  #000000;\n",
       "        }#T_3c5c52c0_3d57_11eb_a8c2_525400801912row8_col13,#T_3c5c52c0_3d57_11eb_a8c2_525400801912row13_col8{\n",
       "            background-color:  #2081b9;\n",
       "            color:  #000000;\n",
       "        }#T_3c5c52c0_3d57_11eb_a8c2_525400801912row8_col14,#T_3c5c52c0_3d57_11eb_a8c2_525400801912row14_col8{\n",
       "            background-color:  #6da6cd;\n",
       "            color:  #000000;\n",
       "        }#T_3c5c52c0_3d57_11eb_a8c2_525400801912row8_col15,#T_3c5c52c0_3d57_11eb_a8c2_525400801912row15_col8{\n",
       "            background-color:  #89b1d4;\n",
       "            color:  #000000;\n",
       "        }#T_3c5c52c0_3d57_11eb_a8c2_525400801912row8_col16,#T_3c5c52c0_3d57_11eb_a8c2_525400801912row16_col8{\n",
       "            background-color:  #046198;\n",
       "            color:  #f1f1f1;\n",
       "        }#T_3c5c52c0_3d57_11eb_a8c2_525400801912row9_col15,#T_3c5c52c0_3d57_11eb_a8c2_525400801912row15_col9{\n",
       "            background-color:  #99b8d8;\n",
       "            color:  #000000;\n",
       "        }#T_3c5c52c0_3d57_11eb_a8c2_525400801912row9_col16,#T_3c5c52c0_3d57_11eb_a8c2_525400801912row16_col9{\n",
       "            background-color:  #2182b9;\n",
       "            color:  #000000;\n",
       "        }#T_3c5c52c0_3d57_11eb_a8c2_525400801912row10_col16,#T_3c5c52c0_3d57_11eb_a8c2_525400801912row16_col10{\n",
       "            background-color:  #056dab;\n",
       "            color:  #f1f1f1;\n",
       "        }#T_3c5c52c0_3d57_11eb_a8c2_525400801912row11_col13,#T_3c5c52c0_3d57_11eb_a8c2_525400801912row13_col11{\n",
       "            background-color:  #549cc7;\n",
       "            color:  #000000;\n",
       "        }#T_3c5c52c0_3d57_11eb_a8c2_525400801912row11_col16,#T_3c5c52c0_3d57_11eb_a8c2_525400801912row14_col15,#T_3c5c52c0_3d57_11eb_a8c2_525400801912row15_col14,#T_3c5c52c0_3d57_11eb_a8c2_525400801912row16_col11{\n",
       "            background-color:  #1278b4;\n",
       "            color:  #f1f1f1;\n",
       "        }#T_3c5c52c0_3d57_11eb_a8c2_525400801912row12_col14,#T_3c5c52c0_3d57_11eb_a8c2_525400801912row14_col12{\n",
       "            background-color:  #3790c0;\n",
       "            color:  #000000;\n",
       "        }#T_3c5c52c0_3d57_11eb_a8c2_525400801912row12_col16,#T_3c5c52c0_3d57_11eb_a8c2_525400801912row16_col12{\n",
       "            background-color:  #509ac6;\n",
       "            color:  #000000;\n",
       "        }#T_3c5c52c0_3d57_11eb_a8c2_525400801912row13_col15,#T_3c5c52c0_3d57_11eb_a8c2_525400801912row15_col13{\n",
       "            background-color:  #4a98c5;\n",
       "            color:  #000000;\n",
       "        }</style><table id=\"T_3c5c52c0_3d57_11eb_a8c2_525400801912\" ><thead>    <tr>        <th class=\"blank level0\" ></th>        <th class=\"col_heading level0 col0\" >Rt</th>        <th class=\"col_heading level0 col1\" >theta</th>        <th class=\"col_heading level0 col2\" >kappa</th>        <th class=\"col_heading level0 col3\" >rho</th>        <th class=\"col_heading level0 col4\" >sigma</th>        <th class=\"col_heading level0 col5\" >School_closing</th>        <th class=\"col_heading level0 col6\" >Workplace_closing</th>        <th class=\"col_heading level0 col7\" >Cancel_events</th>        <th class=\"col_heading level0 col8\" >Gatherings_restrictions</th>        <th class=\"col_heading level0 col9\" >Transport_closing</th>        <th class=\"col_heading level0 col10\" >Stay_home_restrictions</th>        <th class=\"col_heading level0 col11\" >Internal_movement_restrictions</th>        <th class=\"col_heading level0 col12\" >International_movement_restrictions</th>        <th class=\"col_heading level0 col13\" >Information_campaigns</th>        <th class=\"col_heading level0 col14\" >Testing_policy</th>        <th class=\"col_heading level0 col15\" >Contact_tracing</th>        <th class=\"col_heading level0 col16\" >Stringency_index</th>    </tr></thead><tbody>\n",
       "                <tr>\n",
       "                        <th id=\"T_3c5c52c0_3d57_11eb_a8c2_525400801912level0_row0\" class=\"row_heading level0 row0\" >Rt</th>\n",
       "                        <td id=\"T_3c5c52c0_3d57_11eb_a8c2_525400801912row0_col0\" class=\"data row0 col0\" >1.000000</td>\n",
       "                        <td id=\"T_3c5c52c0_3d57_11eb_a8c2_525400801912row0_col1\" class=\"data row0 col1\" >-0.119995</td>\n",
       "                        <td id=\"T_3c5c52c0_3d57_11eb_a8c2_525400801912row0_col2\" class=\"data row0 col2\" >-0.032551</td>\n",
       "                        <td id=\"T_3c5c52c0_3d57_11eb_a8c2_525400801912row0_col3\" class=\"data row0 col3\" >0.480522</td>\n",
       "                        <td id=\"T_3c5c52c0_3d57_11eb_a8c2_525400801912row0_col4\" class=\"data row0 col4\" >-0.424453</td>\n",
       "                        <td id=\"T_3c5c52c0_3d57_11eb_a8c2_525400801912row0_col5\" class=\"data row0 col5\" >-0.041104</td>\n",
       "                        <td id=\"T_3c5c52c0_3d57_11eb_a8c2_525400801912row0_col6\" class=\"data row0 col6\" >-0.084749</td>\n",
       "                        <td id=\"T_3c5c52c0_3d57_11eb_a8c2_525400801912row0_col7\" class=\"data row0 col7\" >-0.214328</td>\n",
       "                        <td id=\"T_3c5c52c0_3d57_11eb_a8c2_525400801912row0_col8\" class=\"data row0 col8\" >-0.273387</td>\n",
       "                        <td id=\"T_3c5c52c0_3d57_11eb_a8c2_525400801912row0_col9\" class=\"data row0 col9\" >-0.205390</td>\n",
       "                        <td id=\"T_3c5c52c0_3d57_11eb_a8c2_525400801912row0_col10\" class=\"data row0 col10\" >-0.124690</td>\n",
       "                        <td id=\"T_3c5c52c0_3d57_11eb_a8c2_525400801912row0_col11\" class=\"data row0 col11\" >-0.243093</td>\n",
       "                        <td id=\"T_3c5c52c0_3d57_11eb_a8c2_525400801912row0_col12\" class=\"data row0 col12\" >-0.131988</td>\n",
       "                        <td id=\"T_3c5c52c0_3d57_11eb_a8c2_525400801912row0_col13\" class=\"data row0 col13\" >-0.127327</td>\n",
       "                        <td id=\"T_3c5c52c0_3d57_11eb_a8c2_525400801912row0_col14\" class=\"data row0 col14\" >-0.230100</td>\n",
       "                        <td id=\"T_3c5c52c0_3d57_11eb_a8c2_525400801912row0_col15\" class=\"data row0 col15\" >-0.175725</td>\n",
       "                        <td id=\"T_3c5c52c0_3d57_11eb_a8c2_525400801912row0_col16\" class=\"data row0 col16\" >-0.136517</td>\n",
       "            </tr>\n",
       "            <tr>\n",
       "                        <th id=\"T_3c5c52c0_3d57_11eb_a8c2_525400801912level0_row1\" class=\"row_heading level0 row1\" >theta</th>\n",
       "                        <td id=\"T_3c5c52c0_3d57_11eb_a8c2_525400801912row1_col0\" class=\"data row1 col0\" >-0.119995</td>\n",
       "                        <td id=\"T_3c5c52c0_3d57_11eb_a8c2_525400801912row1_col1\" class=\"data row1 col1\" >1.000000</td>\n",
       "                        <td id=\"T_3c5c52c0_3d57_11eb_a8c2_525400801912row1_col2\" class=\"data row1 col2\" >0.021971</td>\n",
       "                        <td id=\"T_3c5c52c0_3d57_11eb_a8c2_525400801912row1_col3\" class=\"data row1 col3\" >-0.188613</td>\n",
       "                        <td id=\"T_3c5c52c0_3d57_11eb_a8c2_525400801912row1_col4\" class=\"data row1 col4\" >0.032517</td>\n",
       "                        <td id=\"T_3c5c52c0_3d57_11eb_a8c2_525400801912row1_col5\" class=\"data row1 col5\" >0.308508</td>\n",
       "                        <td id=\"T_3c5c52c0_3d57_11eb_a8c2_525400801912row1_col6\" class=\"data row1 col6\" >0.248123</td>\n",
       "                        <td id=\"T_3c5c52c0_3d57_11eb_a8c2_525400801912row1_col7\" class=\"data row1 col7\" >0.259511</td>\n",
       "                        <td id=\"T_3c5c52c0_3d57_11eb_a8c2_525400801912row1_col8\" class=\"data row1 col8\" >0.180772</td>\n",
       "                        <td id=\"T_3c5c52c0_3d57_11eb_a8c2_525400801912row1_col9\" class=\"data row1 col9\" >0.082332</td>\n",
       "                        <td id=\"T_3c5c52c0_3d57_11eb_a8c2_525400801912row1_col10\" class=\"data row1 col10\" >0.158819</td>\n",
       "                        <td id=\"T_3c5c52c0_3d57_11eb_a8c2_525400801912row1_col11\" class=\"data row1 col11\" >0.303855</td>\n",
       "                        <td id=\"T_3c5c52c0_3d57_11eb_a8c2_525400801912row1_col12\" class=\"data row1 col12\" >0.131135</td>\n",
       "                        <td id=\"T_3c5c52c0_3d57_11eb_a8c2_525400801912row1_col13\" class=\"data row1 col13\" >0.089173</td>\n",
       "                        <td id=\"T_3c5c52c0_3d57_11eb_a8c2_525400801912row1_col14\" class=\"data row1 col14\" >-0.271859</td>\n",
       "                        <td id=\"T_3c5c52c0_3d57_11eb_a8c2_525400801912row1_col15\" class=\"data row1 col15\" >-0.052175</td>\n",
       "                        <td id=\"T_3c5c52c0_3d57_11eb_a8c2_525400801912row1_col16\" class=\"data row1 col16\" >0.325601</td>\n",
       "            </tr>\n",
       "            <tr>\n",
       "                        <th id=\"T_3c5c52c0_3d57_11eb_a8c2_525400801912level0_row2\" class=\"row_heading level0 row2\" >kappa</th>\n",
       "                        <td id=\"T_3c5c52c0_3d57_11eb_a8c2_525400801912row2_col0\" class=\"data row2 col0\" >-0.032551</td>\n",
       "                        <td id=\"T_3c5c52c0_3d57_11eb_a8c2_525400801912row2_col1\" class=\"data row2 col1\" >0.021971</td>\n",
       "                        <td id=\"T_3c5c52c0_3d57_11eb_a8c2_525400801912row2_col2\" class=\"data row2 col2\" >1.000000</td>\n",
       "                        <td id=\"T_3c5c52c0_3d57_11eb_a8c2_525400801912row2_col3\" class=\"data row2 col3\" >0.096458</td>\n",
       "                        <td id=\"T_3c5c52c0_3d57_11eb_a8c2_525400801912row2_col4\" class=\"data row2 col4\" >0.124111</td>\n",
       "                        <td id=\"T_3c5c52c0_3d57_11eb_a8c2_525400801912row2_col5\" class=\"data row2 col5\" >0.007730</td>\n",
       "                        <td id=\"T_3c5c52c0_3d57_11eb_a8c2_525400801912row2_col6\" class=\"data row2 col6\" >0.047598</td>\n",
       "                        <td id=\"T_3c5c52c0_3d57_11eb_a8c2_525400801912row2_col7\" class=\"data row2 col7\" >0.103218</td>\n",
       "                        <td id=\"T_3c5c52c0_3d57_11eb_a8c2_525400801912row2_col8\" class=\"data row2 col8\" >-0.152829</td>\n",
       "                        <td id=\"T_3c5c52c0_3d57_11eb_a8c2_525400801912row2_col9\" class=\"data row2 col9\" >0.027256</td>\n",
       "                        <td id=\"T_3c5c52c0_3d57_11eb_a8c2_525400801912row2_col10\" class=\"data row2 col10\" >-0.087719</td>\n",
       "                        <td id=\"T_3c5c52c0_3d57_11eb_a8c2_525400801912row2_col11\" class=\"data row2 col11\" >-0.091639</td>\n",
       "                        <td id=\"T_3c5c52c0_3d57_11eb_a8c2_525400801912row2_col12\" class=\"data row2 col12\" >-0.020468</td>\n",
       "                        <td id=\"T_3c5c52c0_3d57_11eb_a8c2_525400801912row2_col13\" class=\"data row2 col13\" >0.064735</td>\n",
       "                        <td id=\"T_3c5c52c0_3d57_11eb_a8c2_525400801912row2_col14\" class=\"data row2 col14\" >-0.117399</td>\n",
       "                        <td id=\"T_3c5c52c0_3d57_11eb_a8c2_525400801912row2_col15\" class=\"data row2 col15\" >0.078949</td>\n",
       "                        <td id=\"T_3c5c52c0_3d57_11eb_a8c2_525400801912row2_col16\" class=\"data row2 col16\" >-0.064417</td>\n",
       "            </tr>\n",
       "            <tr>\n",
       "                        <th id=\"T_3c5c52c0_3d57_11eb_a8c2_525400801912level0_row3\" class=\"row_heading level0 row3\" >rho</th>\n",
       "                        <td id=\"T_3c5c52c0_3d57_11eb_a8c2_525400801912row3_col0\" class=\"data row3 col0\" >0.480522</td>\n",
       "                        <td id=\"T_3c5c52c0_3d57_11eb_a8c2_525400801912row3_col1\" class=\"data row3 col1\" >-0.188613</td>\n",
       "                        <td id=\"T_3c5c52c0_3d57_11eb_a8c2_525400801912row3_col2\" class=\"data row3 col2\" >0.096458</td>\n",
       "                        <td id=\"T_3c5c52c0_3d57_11eb_a8c2_525400801912row3_col3\" class=\"data row3 col3\" >1.000000</td>\n",
       "                        <td id=\"T_3c5c52c0_3d57_11eb_a8c2_525400801912row3_col4\" class=\"data row3 col4\" >-0.313956</td>\n",
       "                        <td id=\"T_3c5c52c0_3d57_11eb_a8c2_525400801912row3_col5\" class=\"data row3 col5\" >-0.281086</td>\n",
       "                        <td id=\"T_3c5c52c0_3d57_11eb_a8c2_525400801912row3_col6\" class=\"data row3 col6\" >-0.336798</td>\n",
       "                        <td id=\"T_3c5c52c0_3d57_11eb_a8c2_525400801912row3_col7\" class=\"data row3 col7\" >-0.457033</td>\n",
       "                        <td id=\"T_3c5c52c0_3d57_11eb_a8c2_525400801912row3_col8\" class=\"data row3 col8\" >-0.471377</td>\n",
       "                        <td id=\"T_3c5c52c0_3d57_11eb_a8c2_525400801912row3_col9\" class=\"data row3 col9\" >-0.476796</td>\n",
       "                        <td id=\"T_3c5c52c0_3d57_11eb_a8c2_525400801912row3_col10\" class=\"data row3 col10\" >-0.364726</td>\n",
       "                        <td id=\"T_3c5c52c0_3d57_11eb_a8c2_525400801912row3_col11\" class=\"data row3 col11\" >-0.204363</td>\n",
       "                        <td id=\"T_3c5c52c0_3d57_11eb_a8c2_525400801912row3_col12\" class=\"data row3 col12\" >-0.496445</td>\n",
       "                        <td id=\"T_3c5c52c0_3d57_11eb_a8c2_525400801912row3_col13\" class=\"data row3 col13\" >-0.265892</td>\n",
       "                        <td id=\"T_3c5c52c0_3d57_11eb_a8c2_525400801912row3_col14\" class=\"data row3 col14\" >-0.496387</td>\n",
       "                        <td id=\"T_3c5c52c0_3d57_11eb_a8c2_525400801912row3_col15\" class=\"data row3 col15\" >-0.229328</td>\n",
       "                        <td id=\"T_3c5c52c0_3d57_11eb_a8c2_525400801912row3_col16\" class=\"data row3 col16\" >-0.411751</td>\n",
       "            </tr>\n",
       "            <tr>\n",
       "                        <th id=\"T_3c5c52c0_3d57_11eb_a8c2_525400801912level0_row4\" class=\"row_heading level0 row4\" >sigma</th>\n",
       "                        <td id=\"T_3c5c52c0_3d57_11eb_a8c2_525400801912row4_col0\" class=\"data row4 col0\" >-0.424453</td>\n",
       "                        <td id=\"T_3c5c52c0_3d57_11eb_a8c2_525400801912row4_col1\" class=\"data row4 col1\" >0.032517</td>\n",
       "                        <td id=\"T_3c5c52c0_3d57_11eb_a8c2_525400801912row4_col2\" class=\"data row4 col2\" >0.124111</td>\n",
       "                        <td id=\"T_3c5c52c0_3d57_11eb_a8c2_525400801912row4_col3\" class=\"data row4 col3\" >-0.313956</td>\n",
       "                        <td id=\"T_3c5c52c0_3d57_11eb_a8c2_525400801912row4_col4\" class=\"data row4 col4\" >1.000000</td>\n",
       "                        <td id=\"T_3c5c52c0_3d57_11eb_a8c2_525400801912row4_col5\" class=\"data row4 col5\" >0.216699</td>\n",
       "                        <td id=\"T_3c5c52c0_3d57_11eb_a8c2_525400801912row4_col6\" class=\"data row4 col6\" >0.285042</td>\n",
       "                        <td id=\"T_3c5c52c0_3d57_11eb_a8c2_525400801912row4_col7\" class=\"data row4 col7\" >0.306673</td>\n",
       "                        <td id=\"T_3c5c52c0_3d57_11eb_a8c2_525400801912row4_col8\" class=\"data row4 col8\" >0.413549</td>\n",
       "                        <td id=\"T_3c5c52c0_3d57_11eb_a8c2_525400801912row4_col9\" class=\"data row4 col9\" >0.201540</td>\n",
       "                        <td id=\"T_3c5c52c0_3d57_11eb_a8c2_525400801912row4_col10\" class=\"data row4 col10\" >0.195470</td>\n",
       "                        <td id=\"T_3c5c52c0_3d57_11eb_a8c2_525400801912row4_col11\" class=\"data row4 col11\" >0.352684</td>\n",
       "                        <td id=\"T_3c5c52c0_3d57_11eb_a8c2_525400801912row4_col12\" class=\"data row4 col12\" >0.164939</td>\n",
       "                        <td id=\"T_3c5c52c0_3d57_11eb_a8c2_525400801912row4_col13\" class=\"data row4 col13\" >0.266173</td>\n",
       "                        <td id=\"T_3c5c52c0_3d57_11eb_a8c2_525400801912row4_col14\" class=\"data row4 col14\" >0.108701</td>\n",
       "                        <td id=\"T_3c5c52c0_3d57_11eb_a8c2_525400801912row4_col15\" class=\"data row4 col15\" >0.292303</td>\n",
       "                        <td id=\"T_3c5c52c0_3d57_11eb_a8c2_525400801912row4_col16\" class=\"data row4 col16\" >0.268091</td>\n",
       "            </tr>\n",
       "            <tr>\n",
       "                        <th id=\"T_3c5c52c0_3d57_11eb_a8c2_525400801912level0_row5\" class=\"row_heading level0 row5\" >School_closing</th>\n",
       "                        <td id=\"T_3c5c52c0_3d57_11eb_a8c2_525400801912row5_col0\" class=\"data row5 col0\" >-0.041104</td>\n",
       "                        <td id=\"T_3c5c52c0_3d57_11eb_a8c2_525400801912row5_col1\" class=\"data row5 col1\" >0.308508</td>\n",
       "                        <td id=\"T_3c5c52c0_3d57_11eb_a8c2_525400801912row5_col2\" class=\"data row5 col2\" >0.007730</td>\n",
       "                        <td id=\"T_3c5c52c0_3d57_11eb_a8c2_525400801912row5_col3\" class=\"data row5 col3\" >-0.281086</td>\n",
       "                        <td id=\"T_3c5c52c0_3d57_11eb_a8c2_525400801912row5_col4\" class=\"data row5 col4\" >0.216699</td>\n",
       "                        <td id=\"T_3c5c52c0_3d57_11eb_a8c2_525400801912row5_col5\" class=\"data row5 col5\" >1.000000</td>\n",
       "                        <td id=\"T_3c5c52c0_3d57_11eb_a8c2_525400801912row5_col6\" class=\"data row5 col6\" >0.742424</td>\n",
       "                        <td id=\"T_3c5c52c0_3d57_11eb_a8c2_525400801912row5_col7\" class=\"data row5 col7\" >0.554141</td>\n",
       "                        <td id=\"T_3c5c52c0_3d57_11eb_a8c2_525400801912row5_col8\" class=\"data row5 col8\" >0.508246</td>\n",
       "                        <td id=\"T_3c5c52c0_3d57_11eb_a8c2_525400801912row5_col9\" class=\"data row5 col9\" >0.418202</td>\n",
       "                        <td id=\"T_3c5c52c0_3d57_11eb_a8c2_525400801912row5_col10\" class=\"data row5 col10\" >0.537415</td>\n",
       "                        <td id=\"T_3c5c52c0_3d57_11eb_a8c2_525400801912row5_col11\" class=\"data row5 col11\" >0.490515</td>\n",
       "                        <td id=\"T_3c5c52c0_3d57_11eb_a8c2_525400801912row5_col12\" class=\"data row5 col12\" >0.068242</td>\n",
       "                        <td id=\"T_3c5c52c0_3d57_11eb_a8c2_525400801912row5_col13\" class=\"data row5 col13\" >0.313387</td>\n",
       "                        <td id=\"T_3c5c52c0_3d57_11eb_a8c2_525400801912row5_col14\" class=\"data row5 col14\" >-0.203275</td>\n",
       "                        <td id=\"T_3c5c52c0_3d57_11eb_a8c2_525400801912row5_col15\" class=\"data row5 col15\" >-0.162504</td>\n",
       "                        <td id=\"T_3c5c52c0_3d57_11eb_a8c2_525400801912row5_col16\" class=\"data row5 col16\" >0.791418</td>\n",
       "            </tr>\n",
       "            <tr>\n",
       "                        <th id=\"T_3c5c52c0_3d57_11eb_a8c2_525400801912level0_row6\" class=\"row_heading level0 row6\" >Workplace_closing</th>\n",
       "                        <td id=\"T_3c5c52c0_3d57_11eb_a8c2_525400801912row6_col0\" class=\"data row6 col0\" >-0.084749</td>\n",
       "                        <td id=\"T_3c5c52c0_3d57_11eb_a8c2_525400801912row6_col1\" class=\"data row6 col1\" >0.248123</td>\n",
       "                        <td id=\"T_3c5c52c0_3d57_11eb_a8c2_525400801912row6_col2\" class=\"data row6 col2\" >0.047598</td>\n",
       "                        <td id=\"T_3c5c52c0_3d57_11eb_a8c2_525400801912row6_col3\" class=\"data row6 col3\" >-0.336798</td>\n",
       "                        <td id=\"T_3c5c52c0_3d57_11eb_a8c2_525400801912row6_col4\" class=\"data row6 col4\" >0.285042</td>\n",
       "                        <td id=\"T_3c5c52c0_3d57_11eb_a8c2_525400801912row6_col5\" class=\"data row6 col5\" >0.742424</td>\n",
       "                        <td id=\"T_3c5c52c0_3d57_11eb_a8c2_525400801912row6_col6\" class=\"data row6 col6\" >1.000000</td>\n",
       "                        <td id=\"T_3c5c52c0_3d57_11eb_a8c2_525400801912row6_col7\" class=\"data row6 col7\" >0.735831</td>\n",
       "                        <td id=\"T_3c5c52c0_3d57_11eb_a8c2_525400801912row6_col8\" class=\"data row6 col8\" >0.612659</td>\n",
       "                        <td id=\"T_3c5c52c0_3d57_11eb_a8c2_525400801912row6_col9\" class=\"data row6 col9\" >0.393893</td>\n",
       "                        <td id=\"T_3c5c52c0_3d57_11eb_a8c2_525400801912row6_col10\" class=\"data row6 col10\" >0.685223</td>\n",
       "                        <td id=\"T_3c5c52c0_3d57_11eb_a8c2_525400801912row6_col11\" class=\"data row6 col11\" >0.415882</td>\n",
       "                        <td id=\"T_3c5c52c0_3d57_11eb_a8c2_525400801912row6_col12\" class=\"data row6 col12\" >0.247051</td>\n",
       "                        <td id=\"T_3c5c52c0_3d57_11eb_a8c2_525400801912row6_col13\" class=\"data row6 col13\" >0.419532</td>\n",
       "                        <td id=\"T_3c5c52c0_3d57_11eb_a8c2_525400801912row6_col14\" class=\"data row6 col14\" >-0.150938</td>\n",
       "                        <td id=\"T_3c5c52c0_3d57_11eb_a8c2_525400801912row6_col15\" class=\"data row6 col15\" >-0.197044</td>\n",
       "                        <td id=\"T_3c5c52c0_3d57_11eb_a8c2_525400801912row6_col16\" class=\"data row6 col16\" >0.875927</td>\n",
       "            </tr>\n",
       "            <tr>\n",
       "                        <th id=\"T_3c5c52c0_3d57_11eb_a8c2_525400801912level0_row7\" class=\"row_heading level0 row7\" >Cancel_events</th>\n",
       "                        <td id=\"T_3c5c52c0_3d57_11eb_a8c2_525400801912row7_col0\" class=\"data row7 col0\" >-0.214328</td>\n",
       "                        <td id=\"T_3c5c52c0_3d57_11eb_a8c2_525400801912row7_col1\" class=\"data row7 col1\" >0.259511</td>\n",
       "                        <td id=\"T_3c5c52c0_3d57_11eb_a8c2_525400801912row7_col2\" class=\"data row7 col2\" >0.103218</td>\n",
       "                        <td id=\"T_3c5c52c0_3d57_11eb_a8c2_525400801912row7_col3\" class=\"data row7 col3\" >-0.457033</td>\n",
       "                        <td id=\"T_3c5c52c0_3d57_11eb_a8c2_525400801912row7_col4\" class=\"data row7 col4\" >0.306673</td>\n",
       "                        <td id=\"T_3c5c52c0_3d57_11eb_a8c2_525400801912row7_col5\" class=\"data row7 col5\" >0.554141</td>\n",
       "                        <td id=\"T_3c5c52c0_3d57_11eb_a8c2_525400801912row7_col6\" class=\"data row7 col6\" >0.735831</td>\n",
       "                        <td id=\"T_3c5c52c0_3d57_11eb_a8c2_525400801912row7_col7\" class=\"data row7 col7\" >1.000000</td>\n",
       "                        <td id=\"T_3c5c52c0_3d57_11eb_a8c2_525400801912row7_col8\" class=\"data row7 col8\" >0.638413</td>\n",
       "                        <td id=\"T_3c5c52c0_3d57_11eb_a8c2_525400801912row7_col9\" class=\"data row7 col9\" >0.431009</td>\n",
       "                        <td id=\"T_3c5c52c0_3d57_11eb_a8c2_525400801912row7_col10\" class=\"data row7 col10\" >0.505768</td>\n",
       "                        <td id=\"T_3c5c52c0_3d57_11eb_a8c2_525400801912row7_col11\" class=\"data row7 col11\" >0.424751</td>\n",
       "                        <td id=\"T_3c5c52c0_3d57_11eb_a8c2_525400801912row7_col12\" class=\"data row7 col12\" >0.291158</td>\n",
       "                        <td id=\"T_3c5c52c0_3d57_11eb_a8c2_525400801912row7_col13\" class=\"data row7 col13\" >0.508701</td>\n",
       "                        <td id=\"T_3c5c52c0_3d57_11eb_a8c2_525400801912row7_col14\" class=\"data row7 col14\" >0.071789</td>\n",
       "                        <td id=\"T_3c5c52c0_3d57_11eb_a8c2_525400801912row7_col15\" class=\"data row7 col15\" >-0.043771</td>\n",
       "                        <td id=\"T_3c5c52c0_3d57_11eb_a8c2_525400801912row7_col16\" class=\"data row7 col16\" >0.807304</td>\n",
       "            </tr>\n",
       "            <tr>\n",
       "                        <th id=\"T_3c5c52c0_3d57_11eb_a8c2_525400801912level0_row8\" class=\"row_heading level0 row8\" >Gatherings_restrictions</th>\n",
       "                        <td id=\"T_3c5c52c0_3d57_11eb_a8c2_525400801912row8_col0\" class=\"data row8 col0\" >-0.273387</td>\n",
       "                        <td id=\"T_3c5c52c0_3d57_11eb_a8c2_525400801912row8_col1\" class=\"data row8 col1\" >0.180772</td>\n",
       "                        <td id=\"T_3c5c52c0_3d57_11eb_a8c2_525400801912row8_col2\" class=\"data row8 col2\" >-0.152829</td>\n",
       "                        <td id=\"T_3c5c52c0_3d57_11eb_a8c2_525400801912row8_col3\" class=\"data row8 col3\" >-0.471377</td>\n",
       "                        <td id=\"T_3c5c52c0_3d57_11eb_a8c2_525400801912row8_col4\" class=\"data row8 col4\" >0.413549</td>\n",
       "                        <td id=\"T_3c5c52c0_3d57_11eb_a8c2_525400801912row8_col5\" class=\"data row8 col5\" >0.508246</td>\n",
       "                        <td id=\"T_3c5c52c0_3d57_11eb_a8c2_525400801912row8_col6\" class=\"data row8 col6\" >0.612659</td>\n",
       "                        <td id=\"T_3c5c52c0_3d57_11eb_a8c2_525400801912row8_col7\" class=\"data row8 col7\" >0.638413</td>\n",
       "                        <td id=\"T_3c5c52c0_3d57_11eb_a8c2_525400801912row8_col8\" class=\"data row8 col8\" >1.000000</td>\n",
       "                        <td id=\"T_3c5c52c0_3d57_11eb_a8c2_525400801912row8_col9\" class=\"data row8 col9\" >0.537018</td>\n",
       "                        <td id=\"T_3c5c52c0_3d57_11eb_a8c2_525400801912row8_col10\" class=\"data row8 col10\" >0.471723</td>\n",
       "                        <td id=\"T_3c5c52c0_3d57_11eb_a8c2_525400801912row8_col11\" class=\"data row8 col11\" >0.648429</td>\n",
       "                        <td id=\"T_3c5c52c0_3d57_11eb_a8c2_525400801912row8_col12\" class=\"data row8 col12\" >0.448007</td>\n",
       "                        <td id=\"T_3c5c52c0_3d57_11eb_a8c2_525400801912row8_col13\" class=\"data row8 col13\" >0.522916</td>\n",
       "                        <td id=\"T_3c5c52c0_3d57_11eb_a8c2_525400801912row8_col14\" class=\"data row8 col14\" >0.273502</td>\n",
       "                        <td id=\"T_3c5c52c0_3d57_11eb_a8c2_525400801912row8_col15\" class=\"data row8 col15\" >0.175042</td>\n",
       "                        <td id=\"T_3c5c52c0_3d57_11eb_a8c2_525400801912row8_col16\" class=\"data row8 col16\" >0.752242</td>\n",
       "            </tr>\n",
       "            <tr>\n",
       "                        <th id=\"T_3c5c52c0_3d57_11eb_a8c2_525400801912level0_row9\" class=\"row_heading level0 row9\" >Transport_closing</th>\n",
       "                        <td id=\"T_3c5c52c0_3d57_11eb_a8c2_525400801912row9_col0\" class=\"data row9 col0\" >-0.205390</td>\n",
       "                        <td id=\"T_3c5c52c0_3d57_11eb_a8c2_525400801912row9_col1\" class=\"data row9 col1\" >0.082332</td>\n",
       "                        <td id=\"T_3c5c52c0_3d57_11eb_a8c2_525400801912row9_col2\" class=\"data row9 col2\" >0.027256</td>\n",
       "                        <td id=\"T_3c5c52c0_3d57_11eb_a8c2_525400801912row9_col3\" class=\"data row9 col3\" >-0.476796</td>\n",
       "                        <td id=\"T_3c5c52c0_3d57_11eb_a8c2_525400801912row9_col4\" class=\"data row9 col4\" >0.201540</td>\n",
       "                        <td id=\"T_3c5c52c0_3d57_11eb_a8c2_525400801912row9_col5\" class=\"data row9 col5\" >0.418202</td>\n",
       "                        <td id=\"T_3c5c52c0_3d57_11eb_a8c2_525400801912row9_col6\" class=\"data row9 col6\" >0.393893</td>\n",
       "                        <td id=\"T_3c5c52c0_3d57_11eb_a8c2_525400801912row9_col7\" class=\"data row9 col7\" >0.431009</td>\n",
       "                        <td id=\"T_3c5c52c0_3d57_11eb_a8c2_525400801912row9_col8\" class=\"data row9 col8\" >0.537018</td>\n",
       "                        <td id=\"T_3c5c52c0_3d57_11eb_a8c2_525400801912row9_col9\" class=\"data row9 col9\" >1.000000</td>\n",
       "                        <td id=\"T_3c5c52c0_3d57_11eb_a8c2_525400801912row9_col10\" class=\"data row9 col10\" >0.353620</td>\n",
       "                        <td id=\"T_3c5c52c0_3d57_11eb_a8c2_525400801912row9_col11\" class=\"data row9 col11\" >0.446618</td>\n",
       "                        <td id=\"T_3c5c52c0_3d57_11eb_a8c2_525400801912row9_col12\" class=\"data row9 col12\" >0.302269</td>\n",
       "                        <td id=\"T_3c5c52c0_3d57_11eb_a8c2_525400801912row9_col13\" class=\"data row9 col13\" >0.410736</td>\n",
       "                        <td id=\"T_3c5c52c0_3d57_11eb_a8c2_525400801912row9_col14\" class=\"data row9 col14\" >0.307610</td>\n",
       "                        <td id=\"T_3c5c52c0_3d57_11eb_a8c2_525400801912row9_col15\" class=\"data row9 col15\" >0.117249</td>\n",
       "                        <td id=\"T_3c5c52c0_3d57_11eb_a8c2_525400801912row9_col16\" class=\"data row9 col16\" >0.518086</td>\n",
       "            </tr>\n",
       "            <tr>\n",
       "                        <th id=\"T_3c5c52c0_3d57_11eb_a8c2_525400801912level0_row10\" class=\"row_heading level0 row10\" >Stay_home_restrictions</th>\n",
       "                        <td id=\"T_3c5c52c0_3d57_11eb_a8c2_525400801912row10_col0\" class=\"data row10 col0\" >-0.124690</td>\n",
       "                        <td id=\"T_3c5c52c0_3d57_11eb_a8c2_525400801912row10_col1\" class=\"data row10 col1\" >0.158819</td>\n",
       "                        <td id=\"T_3c5c52c0_3d57_11eb_a8c2_525400801912row10_col2\" class=\"data row10 col2\" >-0.087719</td>\n",
       "                        <td id=\"T_3c5c52c0_3d57_11eb_a8c2_525400801912row10_col3\" class=\"data row10 col3\" >-0.364726</td>\n",
       "                        <td id=\"T_3c5c52c0_3d57_11eb_a8c2_525400801912row10_col4\" class=\"data row10 col4\" >0.195470</td>\n",
       "                        <td id=\"T_3c5c52c0_3d57_11eb_a8c2_525400801912row10_col5\" class=\"data row10 col5\" >0.537415</td>\n",
       "                        <td id=\"T_3c5c52c0_3d57_11eb_a8c2_525400801912row10_col6\" class=\"data row10 col6\" >0.685223</td>\n",
       "                        <td id=\"T_3c5c52c0_3d57_11eb_a8c2_525400801912row10_col7\" class=\"data row10 col7\" >0.505768</td>\n",
       "                        <td id=\"T_3c5c52c0_3d57_11eb_a8c2_525400801912row10_col8\" class=\"data row10 col8\" >0.471723</td>\n",
       "                        <td id=\"T_3c5c52c0_3d57_11eb_a8c2_525400801912row10_col9\" class=\"data row10 col9\" >0.353620</td>\n",
       "                        <td id=\"T_3c5c52c0_3d57_11eb_a8c2_525400801912row10_col10\" class=\"data row10 col10\" >1.000000</td>\n",
       "                        <td id=\"T_3c5c52c0_3d57_11eb_a8c2_525400801912row10_col11\" class=\"data row10 col11\" >0.412366</td>\n",
       "                        <td id=\"T_3c5c52c0_3d57_11eb_a8c2_525400801912row10_col12\" class=\"data row10 col12\" >0.322253</td>\n",
       "                        <td id=\"T_3c5c52c0_3d57_11eb_a8c2_525400801912row10_col13\" class=\"data row10 col13\" >0.355903</td>\n",
       "                        <td id=\"T_3c5c52c0_3d57_11eb_a8c2_525400801912row10_col14\" class=\"data row10 col14\" >0.087248</td>\n",
       "                        <td id=\"T_3c5c52c0_3d57_11eb_a8c2_525400801912row10_col15\" class=\"data row10 col15\" >-0.067463</td>\n",
       "                        <td id=\"T_3c5c52c0_3d57_11eb_a8c2_525400801912row10_col16\" class=\"data row10 col16\" >0.654403</td>\n",
       "            </tr>\n",
       "            <tr>\n",
       "                        <th id=\"T_3c5c52c0_3d57_11eb_a8c2_525400801912level0_row11\" class=\"row_heading level0 row11\" >Internal_movement_restrictions</th>\n",
       "                        <td id=\"T_3c5c52c0_3d57_11eb_a8c2_525400801912row11_col0\" class=\"data row11 col0\" >-0.243093</td>\n",
       "                        <td id=\"T_3c5c52c0_3d57_11eb_a8c2_525400801912row11_col1\" class=\"data row11 col1\" >0.303855</td>\n",
       "                        <td id=\"T_3c5c52c0_3d57_11eb_a8c2_525400801912row11_col2\" class=\"data row11 col2\" >-0.091639</td>\n",
       "                        <td id=\"T_3c5c52c0_3d57_11eb_a8c2_525400801912row11_col3\" class=\"data row11 col3\" >-0.204363</td>\n",
       "                        <td id=\"T_3c5c52c0_3d57_11eb_a8c2_525400801912row11_col4\" class=\"data row11 col4\" >0.352684</td>\n",
       "                        <td id=\"T_3c5c52c0_3d57_11eb_a8c2_525400801912row11_col5\" class=\"data row11 col5\" >0.490515</td>\n",
       "                        <td id=\"T_3c5c52c0_3d57_11eb_a8c2_525400801912row11_col6\" class=\"data row11 col6\" >0.415882</td>\n",
       "                        <td id=\"T_3c5c52c0_3d57_11eb_a8c2_525400801912row11_col7\" class=\"data row11 col7\" >0.424751</td>\n",
       "                        <td id=\"T_3c5c52c0_3d57_11eb_a8c2_525400801912row11_col8\" class=\"data row11 col8\" >0.648429</td>\n",
       "                        <td id=\"T_3c5c52c0_3d57_11eb_a8c2_525400801912row11_col9\" class=\"data row11 col9\" >0.446618</td>\n",
       "                        <td id=\"T_3c5c52c0_3d57_11eb_a8c2_525400801912row11_col10\" class=\"data row11 col10\" >0.412366</td>\n",
       "                        <td id=\"T_3c5c52c0_3d57_11eb_a8c2_525400801912row11_col11\" class=\"data row11 col11\" >1.000000</td>\n",
       "                        <td id=\"T_3c5c52c0_3d57_11eb_a8c2_525400801912row11_col12\" class=\"data row11 col12\" >0.159478</td>\n",
       "                        <td id=\"T_3c5c52c0_3d57_11eb_a8c2_525400801912row11_col13\" class=\"data row11 col13\" >0.348952</td>\n",
       "                        <td id=\"T_3c5c52c0_3d57_11eb_a8c2_525400801912row11_col14\" class=\"data row11 col14\" >0.065024</td>\n",
       "                        <td id=\"T_3c5c52c0_3d57_11eb_a8c2_525400801912row11_col15\" class=\"data row11 col15\" >0.049661</td>\n",
       "                        <td id=\"T_3c5c52c0_3d57_11eb_a8c2_525400801912row11_col16\" class=\"data row11 col16\" >0.575514</td>\n",
       "            </tr>\n",
       "            <tr>\n",
       "                        <th id=\"T_3c5c52c0_3d57_11eb_a8c2_525400801912level0_row12\" class=\"row_heading level0 row12\" >International_movement_restrictions</th>\n",
       "                        <td id=\"T_3c5c52c0_3d57_11eb_a8c2_525400801912row12_col0\" class=\"data row12 col0\" >-0.131988</td>\n",
       "                        <td id=\"T_3c5c52c0_3d57_11eb_a8c2_525400801912row12_col1\" class=\"data row12 col1\" >0.131135</td>\n",
       "                        <td id=\"T_3c5c52c0_3d57_11eb_a8c2_525400801912row12_col2\" class=\"data row12 col2\" >-0.020468</td>\n",
       "                        <td id=\"T_3c5c52c0_3d57_11eb_a8c2_525400801912row12_col3\" class=\"data row12 col3\" >-0.496445</td>\n",
       "                        <td id=\"T_3c5c52c0_3d57_11eb_a8c2_525400801912row12_col4\" class=\"data row12 col4\" >0.164939</td>\n",
       "                        <td id=\"T_3c5c52c0_3d57_11eb_a8c2_525400801912row12_col5\" class=\"data row12 col5\" >0.068242</td>\n",
       "                        <td id=\"T_3c5c52c0_3d57_11eb_a8c2_525400801912row12_col6\" class=\"data row12 col6\" >0.247051</td>\n",
       "                        <td id=\"T_3c5c52c0_3d57_11eb_a8c2_525400801912row12_col7\" class=\"data row12 col7\" >0.291158</td>\n",
       "                        <td id=\"T_3c5c52c0_3d57_11eb_a8c2_525400801912row12_col8\" class=\"data row12 col8\" >0.448007</td>\n",
       "                        <td id=\"T_3c5c52c0_3d57_11eb_a8c2_525400801912row12_col9\" class=\"data row12 col9\" >0.302269</td>\n",
       "                        <td id=\"T_3c5c52c0_3d57_11eb_a8c2_525400801912row12_col10\" class=\"data row12 col10\" >0.322253</td>\n",
       "                        <td id=\"T_3c5c52c0_3d57_11eb_a8c2_525400801912row12_col11\" class=\"data row12 col11\" >0.159478</td>\n",
       "                        <td id=\"T_3c5c52c0_3d57_11eb_a8c2_525400801912row12_col12\" class=\"data row12 col12\" >1.000000</td>\n",
       "                        <td id=\"T_3c5c52c0_3d57_11eb_a8c2_525400801912row12_col13\" class=\"data row12 col13\" >0.392741</td>\n",
       "                        <td id=\"T_3c5c52c0_3d57_11eb_a8c2_525400801912row12_col14\" class=\"data row12 col14\" >0.437053</td>\n",
       "                        <td id=\"T_3c5c52c0_3d57_11eb_a8c2_525400801912row12_col15\" class=\"data row12 col15\" >0.487560</td>\n",
       "                        <td id=\"T_3c5c52c0_3d57_11eb_a8c2_525400801912row12_col16\" class=\"data row12 col16\" >0.358007</td>\n",
       "            </tr>\n",
       "            <tr>\n",
       "                        <th id=\"T_3c5c52c0_3d57_11eb_a8c2_525400801912level0_row13\" class=\"row_heading level0 row13\" >Information_campaigns</th>\n",
       "                        <td id=\"T_3c5c52c0_3d57_11eb_a8c2_525400801912row13_col0\" class=\"data row13 col0\" >-0.127327</td>\n",
       "                        <td id=\"T_3c5c52c0_3d57_11eb_a8c2_525400801912row13_col1\" class=\"data row13 col1\" >0.089173</td>\n",
       "                        <td id=\"T_3c5c52c0_3d57_11eb_a8c2_525400801912row13_col2\" class=\"data row13 col2\" >0.064735</td>\n",
       "                        <td id=\"T_3c5c52c0_3d57_11eb_a8c2_525400801912row13_col3\" class=\"data row13 col3\" >-0.265892</td>\n",
       "                        <td id=\"T_3c5c52c0_3d57_11eb_a8c2_525400801912row13_col4\" class=\"data row13 col4\" >0.266173</td>\n",
       "                        <td id=\"T_3c5c52c0_3d57_11eb_a8c2_525400801912row13_col5\" class=\"data row13 col5\" >0.313387</td>\n",
       "                        <td id=\"T_3c5c52c0_3d57_11eb_a8c2_525400801912row13_col6\" class=\"data row13 col6\" >0.419532</td>\n",
       "                        <td id=\"T_3c5c52c0_3d57_11eb_a8c2_525400801912row13_col7\" class=\"data row13 col7\" >0.508701</td>\n",
       "                        <td id=\"T_3c5c52c0_3d57_11eb_a8c2_525400801912row13_col8\" class=\"data row13 col8\" >0.522916</td>\n",
       "                        <td id=\"T_3c5c52c0_3d57_11eb_a8c2_525400801912row13_col9\" class=\"data row13 col9\" >0.410736</td>\n",
       "                        <td id=\"T_3c5c52c0_3d57_11eb_a8c2_525400801912row13_col10\" class=\"data row13 col10\" >0.355903</td>\n",
       "                        <td id=\"T_3c5c52c0_3d57_11eb_a8c2_525400801912row13_col11\" class=\"data row13 col11\" >0.348952</td>\n",
       "                        <td id=\"T_3c5c52c0_3d57_11eb_a8c2_525400801912row13_col12\" class=\"data row13 col12\" >0.392741</td>\n",
       "                        <td id=\"T_3c5c52c0_3d57_11eb_a8c2_525400801912row13_col13\" class=\"data row13 col13\" >1.000000</td>\n",
       "                        <td id=\"T_3c5c52c0_3d57_11eb_a8c2_525400801912row13_col14\" class=\"data row13 col14\" >0.427055</td>\n",
       "                        <td id=\"T_3c5c52c0_3d57_11eb_a8c2_525400801912row13_col15\" class=\"data row13 col15\" >0.376864</td>\n",
       "                        <td id=\"T_3c5c52c0_3d57_11eb_a8c2_525400801912row13_col16\" class=\"data row13 col16\" >0.537311</td>\n",
       "            </tr>\n",
       "            <tr>\n",
       "                        <th id=\"T_3c5c52c0_3d57_11eb_a8c2_525400801912level0_row14\" class=\"row_heading level0 row14\" >Testing_policy</th>\n",
       "                        <td id=\"T_3c5c52c0_3d57_11eb_a8c2_525400801912row14_col0\" class=\"data row14 col0\" >-0.230100</td>\n",
       "                        <td id=\"T_3c5c52c0_3d57_11eb_a8c2_525400801912row14_col1\" class=\"data row14 col1\" >-0.271859</td>\n",
       "                        <td id=\"T_3c5c52c0_3d57_11eb_a8c2_525400801912row14_col2\" class=\"data row14 col2\" >-0.117399</td>\n",
       "                        <td id=\"T_3c5c52c0_3d57_11eb_a8c2_525400801912row14_col3\" class=\"data row14 col3\" >-0.496387</td>\n",
       "                        <td id=\"T_3c5c52c0_3d57_11eb_a8c2_525400801912row14_col4\" class=\"data row14 col4\" >0.108701</td>\n",
       "                        <td id=\"T_3c5c52c0_3d57_11eb_a8c2_525400801912row14_col5\" class=\"data row14 col5\" >-0.203275</td>\n",
       "                        <td id=\"T_3c5c52c0_3d57_11eb_a8c2_525400801912row14_col6\" class=\"data row14 col6\" >-0.150938</td>\n",
       "                        <td id=\"T_3c5c52c0_3d57_11eb_a8c2_525400801912row14_col7\" class=\"data row14 col7\" >0.071789</td>\n",
       "                        <td id=\"T_3c5c52c0_3d57_11eb_a8c2_525400801912row14_col8\" class=\"data row14 col8\" >0.273502</td>\n",
       "                        <td id=\"T_3c5c52c0_3d57_11eb_a8c2_525400801912row14_col9\" class=\"data row14 col9\" >0.307610</td>\n",
       "                        <td id=\"T_3c5c52c0_3d57_11eb_a8c2_525400801912row14_col10\" class=\"data row14 col10\" >0.087248</td>\n",
       "                        <td id=\"T_3c5c52c0_3d57_11eb_a8c2_525400801912row14_col11\" class=\"data row14 col11\" >0.065024</td>\n",
       "                        <td id=\"T_3c5c52c0_3d57_11eb_a8c2_525400801912row14_col12\" class=\"data row14 col12\" >0.437053</td>\n",
       "                        <td id=\"T_3c5c52c0_3d57_11eb_a8c2_525400801912row14_col13\" class=\"data row14 col13\" >0.427055</td>\n",
       "                        <td id=\"T_3c5c52c0_3d57_11eb_a8c2_525400801912row14_col14\" class=\"data row14 col14\" >1.000000</td>\n",
       "                        <td id=\"T_3c5c52c0_3d57_11eb_a8c2_525400801912row14_col15\" class=\"data row14 col15\" >0.577246</td>\n",
       "                        <td id=\"T_3c5c52c0_3d57_11eb_a8c2_525400801912row14_col16\" class=\"data row14 col16\" >-0.022652</td>\n",
       "            </tr>\n",
       "            <tr>\n",
       "                        <th id=\"T_3c5c52c0_3d57_11eb_a8c2_525400801912level0_row15\" class=\"row_heading level0 row15\" >Contact_tracing</th>\n",
       "                        <td id=\"T_3c5c52c0_3d57_11eb_a8c2_525400801912row15_col0\" class=\"data row15 col0\" >-0.175725</td>\n",
       "                        <td id=\"T_3c5c52c0_3d57_11eb_a8c2_525400801912row15_col1\" class=\"data row15 col1\" >-0.052175</td>\n",
       "                        <td id=\"T_3c5c52c0_3d57_11eb_a8c2_525400801912row15_col2\" class=\"data row15 col2\" >0.078949</td>\n",
       "                        <td id=\"T_3c5c52c0_3d57_11eb_a8c2_525400801912row15_col3\" class=\"data row15 col3\" >-0.229328</td>\n",
       "                        <td id=\"T_3c5c52c0_3d57_11eb_a8c2_525400801912row15_col4\" class=\"data row15 col4\" >0.292303</td>\n",
       "                        <td id=\"T_3c5c52c0_3d57_11eb_a8c2_525400801912row15_col5\" class=\"data row15 col5\" >-0.162504</td>\n",
       "                        <td id=\"T_3c5c52c0_3d57_11eb_a8c2_525400801912row15_col6\" class=\"data row15 col6\" >-0.197044</td>\n",
       "                        <td id=\"T_3c5c52c0_3d57_11eb_a8c2_525400801912row15_col7\" class=\"data row15 col7\" >-0.043771</td>\n",
       "                        <td id=\"T_3c5c52c0_3d57_11eb_a8c2_525400801912row15_col8\" class=\"data row15 col8\" >0.175042</td>\n",
       "                        <td id=\"T_3c5c52c0_3d57_11eb_a8c2_525400801912row15_col9\" class=\"data row15 col9\" >0.117249</td>\n",
       "                        <td id=\"T_3c5c52c0_3d57_11eb_a8c2_525400801912row15_col10\" class=\"data row15 col10\" >-0.067463</td>\n",
       "                        <td id=\"T_3c5c52c0_3d57_11eb_a8c2_525400801912row15_col11\" class=\"data row15 col11\" >0.049661</td>\n",
       "                        <td id=\"T_3c5c52c0_3d57_11eb_a8c2_525400801912row15_col12\" class=\"data row15 col12\" >0.487560</td>\n",
       "                        <td id=\"T_3c5c52c0_3d57_11eb_a8c2_525400801912row15_col13\" class=\"data row15 col13\" >0.376864</td>\n",
       "                        <td id=\"T_3c5c52c0_3d57_11eb_a8c2_525400801912row15_col14\" class=\"data row15 col14\" >0.577246</td>\n",
       "                        <td id=\"T_3c5c52c0_3d57_11eb_a8c2_525400801912row15_col15\" class=\"data row15 col15\" >1.000000</td>\n",
       "                        <td id=\"T_3c5c52c0_3d57_11eb_a8c2_525400801912row15_col16\" class=\"data row15 col16\" >-0.117230</td>\n",
       "            </tr>\n",
       "            <tr>\n",
       "                        <th id=\"T_3c5c52c0_3d57_11eb_a8c2_525400801912level0_row16\" class=\"row_heading level0 row16\" >Stringency_index</th>\n",
       "                        <td id=\"T_3c5c52c0_3d57_11eb_a8c2_525400801912row16_col0\" class=\"data row16 col0\" >-0.136517</td>\n",
       "                        <td id=\"T_3c5c52c0_3d57_11eb_a8c2_525400801912row16_col1\" class=\"data row16 col1\" >0.325601</td>\n",
       "                        <td id=\"T_3c5c52c0_3d57_11eb_a8c2_525400801912row16_col2\" class=\"data row16 col2\" >-0.064417</td>\n",
       "                        <td id=\"T_3c5c52c0_3d57_11eb_a8c2_525400801912row16_col3\" class=\"data row16 col3\" >-0.411751</td>\n",
       "                        <td id=\"T_3c5c52c0_3d57_11eb_a8c2_525400801912row16_col4\" class=\"data row16 col4\" >0.268091</td>\n",
       "                        <td id=\"T_3c5c52c0_3d57_11eb_a8c2_525400801912row16_col5\" class=\"data row16 col5\" >0.791418</td>\n",
       "                        <td id=\"T_3c5c52c0_3d57_11eb_a8c2_525400801912row16_col6\" class=\"data row16 col6\" >0.875927</td>\n",
       "                        <td id=\"T_3c5c52c0_3d57_11eb_a8c2_525400801912row16_col7\" class=\"data row16 col7\" >0.807304</td>\n",
       "                        <td id=\"T_3c5c52c0_3d57_11eb_a8c2_525400801912row16_col8\" class=\"data row16 col8\" >0.752242</td>\n",
       "                        <td id=\"T_3c5c52c0_3d57_11eb_a8c2_525400801912row16_col9\" class=\"data row16 col9\" >0.518086</td>\n",
       "                        <td id=\"T_3c5c52c0_3d57_11eb_a8c2_525400801912row16_col10\" class=\"data row16 col10\" >0.654403</td>\n",
       "                        <td id=\"T_3c5c52c0_3d57_11eb_a8c2_525400801912row16_col11\" class=\"data row16 col11\" >0.575514</td>\n",
       "                        <td id=\"T_3c5c52c0_3d57_11eb_a8c2_525400801912row16_col12\" class=\"data row16 col12\" >0.358007</td>\n",
       "                        <td id=\"T_3c5c52c0_3d57_11eb_a8c2_525400801912row16_col13\" class=\"data row16 col13\" >0.537311</td>\n",
       "                        <td id=\"T_3c5c52c0_3d57_11eb_a8c2_525400801912row16_col14\" class=\"data row16 col14\" >-0.022652</td>\n",
       "                        <td id=\"T_3c5c52c0_3d57_11eb_a8c2_525400801912row16_col15\" class=\"data row16 col15\" >-0.117230</td>\n",
       "                        <td id=\"T_3c5c52c0_3d57_11eb_a8c2_525400801912row16_col16\" class=\"data row16 col16\" >1.000000</td>\n",
       "            </tr>\n",
       "    </tbody></table>"
      ],
      "text/plain": [
       "<pandas.io.formats.style.Styler at 0x7fee883de1f0>"
      ]
     },
     "execution_count": 21,
     "metadata": {},
     "output_type": "execute_result"
    }
   ],
   "source": [
    "# Correlation\n",
    "df = track_df.copy()\n",
    "df.corr().style.background_gradient(axis=None)"
   ]
  },
  {
   "cell_type": "code",
   "execution_count": 22,
   "metadata": {
    "collapsed": false
   },
   "outputs": [
    {
     "data": {
      "image/png": "[encoded data removed]",
      "text/plain": [
       "<Figure size 432x288 with 1 Axes>"
      ]
     },
     "metadata": {},
     "output_type": "display_data"
    }
   ],
   "source": [
    "# Scatter plot of Stringency index and Rt\n",
    "df = track_df.copy()\n",
    "sns.scatterplot(data=df, x=\"Stringency_index\", y=\"Rt\", hue=\"Country\", legend=\"brief\", marker=\"+\")\n",
    "bbox_to_anchor=(1.02, 0)\n",
    "bbox_loc=\"lower left\"\n",
    "plt.legend(bbox_to_anchor=bbox_to_anchor, loc=bbox_loc, borderaxespad=0)\n",
    "plt.title(\"Relationship of Stringency index and reproduction number\")\n",
    "plt.ylabel(\"Reproduction number\")\n",
    "plt.xlabel(\"Stringency index\")\n",
    "plt.show()"
   ]
  }
 ],
 "metadata": {
  "kernelspec": {
   "display_name": "Python 3.8.2 64-bit ('.venv': venv)",
   "name": "python_defaultSpec_1597669925034"
  },
  "language_info": {
   "codemirror_mode": {
    "name": "ipython",
    "version": 3
   },
   "file_extension": ".py",
   "mimetype": "text/x-python",
   "name": "python",
   "nbconvert_exporter": "python",
   "pygments_lexer": "ipython3",
   "version": "3.8.2-final"
  }
 },
 "nbformat": 4,
 "nbformat_minor": 4
}
