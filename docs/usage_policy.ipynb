{
 "cells": [
  {
   "cell_type": "markdown",
   "metadata": {},
   "source": [
    "# Usage (details: policy measures)\n",
    "Here, we will analyse the relationship of policy measures and parameter values of SIR-derived ODE models. Policy measures are tracked by [Oxford Covid-19 Government Response Tracker (OxCGRT)](https://github.com/OxCGRT/covid-policy-tracker)."
   ]
  },
  {
   "cell_type": "markdown",
   "metadata": {},
   "source": [
    "## Preparation"
   ]
  },
  {
   "cell_type": "code",
   "execution_count": 1,
   "metadata": {
    "collapsed": false
   },
   "outputs": [],
   "source": [
    "# Standard users\n",
    "# !pip install covsirphy\n",
    "# Developers (Note: this notebook is in example directory)\n",
    "import os\n",
    "os.chdir(\"../\")"
   ]
  },
  {
   "cell_type": "code",
   "execution_count": 2,
   "metadata": {
    "collapsed": false
   },
   "outputs": [],
   "source": [
    "from pprint import pprint"
   ]
  },
  {
   "cell_type": "code",
   "execution_count": 3,
   "metadata": {
    "collapsed": false
   },
   "outputs": [
    {
     "data": {
      "text/plain": [
       "'2.8.3-beta.new.224.fix.248'"
      ]
     },
     "execution_count": 3,
     "metadata": {},
     "output_type": "execute_result"
    }
   ],
   "source": [
    "import covsirphy as cs\n",
    "cs.__version__"
   ]
  },
  {
   "cell_type": "code",
   "execution_count": 4,
   "metadata": {
    "collapsed": false,
    "tags": []
   },
   "outputs": [
    {
     "name": "stdout",
     "output_type": "stream",
     "text": [
      "(Secondary source) Guidotti, E., Ardia, D., (2020), \"COVID-19 Data Hub\", Journal of Open Source Software 5(51):2376, doi: 10.21105/joss.02376.\n",
      "We can get Citation list of primary sources with DataLoader(...).covid19dh_citation\n"
     ]
    }
   ],
   "source": [
    "# Standard users and developers\n",
    "data_loader = cs.DataLoader(\"input\")\n",
    "# The number of cases (JHU style)\n",
    "jhu_data = data_loader.jhu(verbose=False)\n",
    "# Population in each country\n",
    "population_data = data_loader.population(verbose=False)\n",
    "# Government Response Tracker (OxCGRT)\n",
    "oxcgrt_data = data_loader.oxcgrt(verbose=False)\n",
    "# Description/citation\n",
    "print(oxcgrt_data.citation)"
   ]
  },
  {
   "cell_type": "markdown",
   "metadata": {},
   "source": [
    "## Class for policy measure analysis\n",
    "We will `PolicyMeasures` class to find relationship of policy measures and parameter values of SIR-derived ODE models."
   ]
  },
  {
   "cell_type": "code",
   "execution_count": 5,
   "metadata": {
    "collapsed": false,
    "tags": []
   },
   "outputs": [
    {
     "data": {
      "text/plain": [
       "184"
      ]
     },
     "execution_count": 5,
     "metadata": {},
     "output_type": "execute_result"
    }
   ],
   "source": [
    "# Create analyser with tau value 360 [min] (can be changed)\n",
    "analyser = cs.PolicyMeasures(jhu_data, population_data, oxcgrt_data, tau=360)\n",
    "# The number of registerd countries\n",
    "len(analyser.countries)"
   ]
  },
  {
   "cell_type": "code",
   "execution_count": 6,
   "metadata": {
    "collapsed": false
   },
   "outputs": [
    {
     "data": {
      "text/plain": [
       "covsirphy.analysis.scenario.Scenario"
      ]
     },
     "execution_count": 6,
     "metadata": {},
     "output_type": "execute_result"
    }
   ],
   "source": [
    "# We can get Scenario instance for detailed scenario analysis\n",
    "type(analyser.scenario(\"Japan\"))"
   ]
  },
  {
   "cell_type": "markdown",
   "metadata": {},
   "source": [
    "## Set phases with S-R trend analysis\n",
    "We will perform S-R trend analysis to set phases in all countries. Countries which do not have **12th phases** will be un-registered for the next analysis. This number will be adjusted for your analysis."
   ]
  },
  {
   "cell_type": "code",
   "execution_count": 7,
   "metadata": {
    "collapsed": false
   },
   "outputs": [
    {
     "name": "stdout",
     "output_type": "stream",
     "text": [
      "{3: ['Holy See'],\n",
      " 4: ['Tanzania', 'Hungary'],\n",
      " 5: ['Slovakia', 'Fiji', 'Papua New Guinea', 'Jordan', 'Grenada', 'Uganda',\n",
      "     'Brunei', 'Georgia', 'Myanmar'],\n",
      " 6: ['Ireland', 'Antigua and Barbuda', 'Trinidad and Tobago', 'Cambodia',\n",
      "     'Slovenia', 'Montenegro', 'Equatorial Guinea', 'Yemen', 'Mauritius',\n",
      "     'Libya', 'Tunisia', 'Jamaica', 'Andorra', 'Spain', 'Czech Republic',\n",
      "     'Belize'],\n",
      " 7: ['Zimbabwe', 'Central African Republic', 'Bahamas', 'Netherlands',\n",
      "     'Australia', 'Guinea-Bissau', 'South Sudan', 'Colombia', 'Iceland',\n",
      "     'Gambia', 'Saint Vincent and the Grenadines', 'Kazakhstan', 'Niger',\n",
      "     'Malawi', 'Seychelles', 'Paraguay', 'Dominica', 'Sao Tome and Principe',\n",
      "     'Angola'],\n",
      " 8: ['Nicaragua', 'Zambia', 'Israel', 'Namibia', 'San Marino', 'Austria',\n",
      "     'Burundi', 'Eritrea', 'Guyana', 'Malta', 'Mongolia', 'Cyprus',\n",
      "     'Liechtenstein', 'Lebanon', 'Bhutan', 'Palestine', 'Botswana',\n",
      "     'Madagascar', 'Argentina', 'Thailand', 'Nepal', 'Denmark', 'Kyrgyzstan',\n",
      "     'Croatia', 'Mozambique', 'New Zealand', 'Burkina Faso', 'Rwanda', 'Taiwan',\n",
      "     'Vietnam', 'Morocco', 'Benin', 'Monaco', 'Lesotho', 'Djibouti',\n",
      "     'Saint Lucia', 'Comoros'],\n",
      " 9: ['Ghana', 'Poland', 'Serbia', 'Tajikistan', 'Haiti', 'Romania', 'Lithuania',\n",
      "     'Kosovo', 'Kenya', 'Ecuador', 'Philippines', 'Qatar', 'Maldives',\n",
      "     'Ukraine', 'Malaysia', 'Afghanistan', 'Luxembourg', 'Suriname', 'Norway',\n",
      "     'Ethiopia', 'Barbados', 'Estonia', 'Mauritania', 'China', 'South Africa',\n",
      "     'Sudan', 'Bermuda', 'Costa Rica', 'Chad', 'Uruguay', 'Cameroon',\n",
      "     'Sri Lanka'],\n",
      " 10: ['Somalia', 'Congo', 'Syria', 'India', 'Chile', 'Albania', 'Singapore',\n",
      "      'Korea, South', 'Macedonia', 'Greece', 'Moldova', 'Sierra Leone',\n",
      "      'Swaziland', 'El Salvador', 'Venezuela', 'Pakistan', 'Belarus', 'Cuba',\n",
      "      'Gabon', 'Saudi Arabia', 'Bulgaria', 'Guatemala', 'Oman', 'Senegal',\n",
      "      'Japan', 'Indonesia', 'Finland', 'Portugal', 'Canada'],\n",
      " 11: ['Honduras', 'Switzerland', 'Peru', 'Armenia', 'Belgium', 'Bangladesh',\n",
      "      'Egypt', 'Bosnia and Herzegovina', 'Panama', 'Togo', 'Germany', 'Guinea',\n",
      "      'Uzbekistan', 'Cape Verde', 'Azerbaijan', 'Liberia', 'Mali'],\n",
      " 12: ['Italy', 'Kuwait', 'Brazil', 'Dominican Republic', 'Mexico', 'France',\n",
      "      'Algeria', 'Bahrain', 'Turkey', 'Nigeria', 'United States', 'Iran',\n",
      "      'United Arab Emirates', 'Latvia', 'Iraq'],\n",
      " 13: ['Bolivia'],\n",
      " 14: ['Russia']}\n"
     ]
    }
   ],
   "source": [
    "# Show the number of phases of all countries\n",
    "analyser.trend()\n",
    "pprint(analyser.phase_len(), compact=True)"
   ]
  },
  {
   "cell_type": "code",
   "execution_count": 8,
   "metadata": {
    "collapsed": false
   },
   "outputs": [
    {
     "data": {
      "text/plain": [
       "17"
      ]
     },
     "execution_count": 8,
     "metadata": {},
     "output_type": "execute_result"
    }
   ],
   "source": [
    "# Set phases with S-R trend analysis\n",
    "analyser.trend(min_len=12)\n",
    "# The number of countries\n",
    "len(analyser.countries)"
   ]
  },
  {
   "cell_type": "code",
   "execution_count": 9,
   "metadata": {
    "collapsed": false,
    "tags": []
   },
   "outputs": [
    {
     "name": "stdout",
     "output_type": "stream",
     "text": [
      "{12: ['Italy', 'Kuwait', 'Brazil', 'Dominican Republic', 'Mexico', 'France',\n",
      "      'Algeria', 'Bahrain', 'Turkey', 'Nigeria', 'United States', 'Iran',\n",
      "      'United Arab Emirates', 'Latvia', 'Iraq'],\n",
      " 13: ['Bolivia'],\n",
      " 14: ['Russia']}\n"
     ]
    }
   ],
   "source": [
    "phase_len_dict = analyser.phase_len()\n",
    "pprint(phase_len_dict, compact=True)"
   ]
  },
  {
   "cell_type": "code",
   "execution_count": 10,
   "metadata": {
    "collapsed": false,
    "tags": []
   },
   "outputs": [
    {
     "data": {
      "text/html": [
       "<div>\n",
       "<style scoped>\n",
       "    .dataframe tbody tr th:only-of-type {\n",
       "        vertical-align: middle;\n",
       "    }\n",
       "\n",
       "    .dataframe tbody tr th {\n",
       "        vertical-align: top;\n",
       "    }\n",
       "\n",
       "    .dataframe thead th {\n",
       "        text-align: right;\n",
       "    }\n",
       "</style>\n",
       "<table border=\"1\" class=\"dataframe\">\n",
       "  <thead>\n",
       "    <tr style=\"text-align: right;\">\n",
       "      <th></th>\n",
       "      <th></th>\n",
       "      <th>Type</th>\n",
       "      <th>Start</th>\n",
       "      <th>End</th>\n",
       "      <th>Population</th>\n",
       "    </tr>\n",
       "    <tr>\n",
       "      <th>Country</th>\n",
       "      <th>Phase</th>\n",
       "      <th></th>\n",
       "      <th></th>\n",
       "      <th></th>\n",
       "      <th></th>\n",
       "    </tr>\n",
       "  </thead>\n",
       "  <tbody>\n",
       "    <tr>\n",
       "      <th rowspan=\"14\" valign=\"top\">Russia</th>\n",
       "      <th>0th</th>\n",
       "      <td>Past</td>\n",
       "      <td>12Feb2020</td>\n",
       "      <td>07May2020</td>\n",
       "      <td>330457362</td>\n",
       "    </tr>\n",
       "    <tr>\n",
       "      <th>1st</th>\n",
       "      <td>Past</td>\n",
       "      <td>08May2020</td>\n",
       "      <td>18May2020</td>\n",
       "      <td>330457362</td>\n",
       "    </tr>\n",
       "    <tr>\n",
       "      <th>2nd</th>\n",
       "      <td>Past</td>\n",
       "      <td>19May2020</td>\n",
       "      <td>30May2020</td>\n",
       "      <td>330457362</td>\n",
       "    </tr>\n",
       "    <tr>\n",
       "      <th>3rd</th>\n",
       "      <td>Past</td>\n",
       "      <td>31May2020</td>\n",
       "      <td>10Jun2020</td>\n",
       "      <td>330457362</td>\n",
       "    </tr>\n",
       "    <tr>\n",
       "      <th>4th</th>\n",
       "      <td>Past</td>\n",
       "      <td>11Jun2020</td>\n",
       "      <td>20Jun2020</td>\n",
       "      <td>330457362</td>\n",
       "    </tr>\n",
       "    <tr>\n",
       "      <th>5th</th>\n",
       "      <td>Past</td>\n",
       "      <td>21Jun2020</td>\n",
       "      <td>03Jul2020</td>\n",
       "      <td>330457362</td>\n",
       "    </tr>\n",
       "    <tr>\n",
       "      <th>6th</th>\n",
       "      <td>Past</td>\n",
       "      <td>04Jul2020</td>\n",
       "      <td>17Jul2020</td>\n",
       "      <td>330457362</td>\n",
       "    </tr>\n",
       "    <tr>\n",
       "      <th>7th</th>\n",
       "      <td>Past</td>\n",
       "      <td>18Jul2020</td>\n",
       "      <td>01Aug2020</td>\n",
       "      <td>330457362</td>\n",
       "    </tr>\n",
       "    <tr>\n",
       "      <th>8th</th>\n",
       "      <td>Past</td>\n",
       "      <td>02Aug2020</td>\n",
       "      <td>16Aug2020</td>\n",
       "      <td>330457362</td>\n",
       "    </tr>\n",
       "    <tr>\n",
       "      <th>9th</th>\n",
       "      <td>Past</td>\n",
       "      <td>17Aug2020</td>\n",
       "      <td>02Sep2020</td>\n",
       "      <td>330457362</td>\n",
       "    </tr>\n",
       "    <tr>\n",
       "      <th>10th</th>\n",
       "      <td>Past</td>\n",
       "      <td>03Sep2020</td>\n",
       "      <td>18Sep2020</td>\n",
       "      <td>330457362</td>\n",
       "    </tr>\n",
       "    <tr>\n",
       "      <th>11th</th>\n",
       "      <td>Past</td>\n",
       "      <td>19Sep2020</td>\n",
       "      <td>01Oct2020</td>\n",
       "      <td>330457362</td>\n",
       "    </tr>\n",
       "    <tr>\n",
       "      <th>12th</th>\n",
       "      <td>Past</td>\n",
       "      <td>02Oct2020</td>\n",
       "      <td>10Oct2020</td>\n",
       "      <td>330457362</td>\n",
       "    </tr>\n",
       "    <tr>\n",
       "      <th>13th</th>\n",
       "      <td>Past</td>\n",
       "      <td>11Oct2020</td>\n",
       "      <td>19Oct2020</td>\n",
       "      <td>330457362</td>\n",
       "    </tr>\n",
       "  </tbody>\n",
       "</table>\n",
       "</div>"
      ],
      "text/plain": [
       "               Type      Start        End  Population\n",
       "Country Phase                                        \n",
       "Russia  0th    Past  12Feb2020  07May2020   330457362\n",
       "        1st    Past  08May2020  18May2020   330457362\n",
       "        2nd    Past  19May2020  30May2020   330457362\n",
       "        3rd    Past  31May2020  10Jun2020   330457362\n",
       "        4th    Past  11Jun2020  20Jun2020   330457362\n",
       "        5th    Past  21Jun2020  03Jul2020   330457362\n",
       "        6th    Past  04Jul2020  17Jul2020   330457362\n",
       "        7th    Past  18Jul2020  01Aug2020   330457362\n",
       "        8th    Past  02Aug2020  16Aug2020   330457362\n",
       "        9th    Past  17Aug2020  02Sep2020   330457362\n",
       "        10th   Past  03Sep2020  18Sep2020   330457362\n",
       "        11th   Past  19Sep2020  01Oct2020   330457362\n",
       "        12th   Past  02Oct2020  10Oct2020   330457362\n",
       "        13th   Past  11Oct2020  19Oct2020   330457362"
      ]
     },
     "execution_count": 10,
     "metadata": {},
     "output_type": "execute_result"
    }
   ],
   "source": [
    "# Here, only show the countries which have the most phases\n",
    "countries_show = max(phase_len_dict.items(), key=lambda x: x[0])[1]\n",
    "# Show summary\n",
    "analyser.summary(countries=countries_show)"
   ]
  },
  {
   "cell_type": "markdown",
   "metadata": {},
   "source": [
    "## Parameter estimation\n",
    "we will estimate the parameter values with SIR-derived ODE models in each country."
   ]
  },
  {
   "cell_type": "code",
   "execution_count": 11,
   "metadata": {
    "collapsed": false,
    "tags": []
   },
   "outputs": [
    {
     "name": "stdout",
     "output_type": "stream",
     "text": [
      "\n",
      "<SIR-F model: parameter estimation>\n",
      "Running optimization with 4 CPUs...\n"
     ]
    },
    {
     "name": "stdout",
     "output_type": "stream",
     "text": [
      "\tDOM,  5th phase (24Jul2020 - 01Aug2020): finished 1471 trials in 1 min  0 sec"
     ]
    },
    {
     "name": "stdout",
     "output_type": "stream",
     "text": [
      "\n"
     ]
    },
    {
     "name": "stdout",
     "output_type": "stream",
     "text": [
      "\tRUS,  5th phase (21Jun2020 - 03Jul2020): finished 1464 trials in 1 min  0 sec"
     ]
    },
    {
     "name": "stdout",
     "output_type": "stream",
     "text": [
      "\n"
     ]
    },
    {
     "name": "stdout",
     "output_type": "stream",
     "text": [
      "\tLVA,  4th phase (08May2020 - 15May2020): finished 1471 trials in 1 min  0 sec"
     ]
    },
    {
     "name": "stdout",
     "output_type": "stream",
     "text": [
      "\n"
     ]
    },
    {
     "name": "stdout",
     "output_type": "stream",
     "text": [
      "\tLVA,  3rd phase (30Apr2020 - 07May2020): finished 1699 trials in 1 min  0 sec"
     ]
    },
    {
     "name": "stdout",
     "output_type": "stream",
     "text": [
      "\n"
     ]
    },
    {
     "name": "stdout",
     "output_type": "stream",
     "text": [
      "\tDZA,  7th phase (02Aug2020 - 09Aug2020): finished  197 trials in 0 min  5 sec"
     ]
    },
    {
     "name": "stdout",
     "output_type": "stream",
     "text": [
      "\n"
     ]
    },
    {
     "name": "stdout",
     "output_type": "stream",
     "text": [
      "\tKWT,  8th phase (21Aug2020 - 04Sep2020): finished 1751 trials in 1 min  0 sec"
     ]
    },
    {
     "name": "stdout",
     "output_type": "stream",
     "text": [
      "\n"
     ]
    },
    {
     "name": "stdout",
     "output_type": "stream",
     "text": [
      "\tMEX,  5th phase (18Jul2020 - 29Jul2020): finished 1733 trials in 1 min  0 sec"
     ]
    },
    {
     "name": "stdout",
     "output_type": "stream",
     "text": [
      "\n"
     ]
    },
    {
     "name": "stdout",
     "output_type": "stream",
     "text": [
      "\tLVA,  9th phase (30Aug2020 - 17Sep2020): finished 1961 trials in 1 min  0 sec"
     ]
    },
    {
     "name": "stdout",
     "output_type": "stream",
     "text": [
      "\n"
     ]
    },
    {
     "name": "stdout",
     "output_type": "stream",
     "text": [
      "\tRUS,  8th phase (02Aug2020 - 16Aug2020): finished 1713 trials in 1 min  0 sec"
     ]
    },
    {
     "name": "stdout",
     "output_type": "stream",
     "text": [
      "\n"
     ]
    },
    {
     "name": "stdout",
     "output_type": "stream",
     "text": [
      "\tNGA,  8th phase (08Aug2020 - 18Aug2020): finished  392 trials in 0 min 10 sec"
     ]
    },
    {
     "name": "stdout",
     "output_type": "stream",
     "text": [
      "\n"
     ]
    },
    {
     "name": "stdout",
     "output_type": "stream",
     "text": [
      "\tIRN,  6th phase (17Jul2020 - 31Jul2020): finished  206 trials in 0 min  5 sec"
     ]
    },
    {
     "name": "stdout",
     "output_type": "stream",
     "text": [
      "\n"
     ]
    },
    {
     "name": "stdout",
     "output_type": "stream",
     "text": [
      "\tIRQ,  4th phase (07Aug2020 - 16Aug2020): finished  561 trials in 0 min 15 sec"
     ]
    },
    {
     "name": "stdout",
     "output_type": "stream",
     "text": [
      "\n"
     ]
    },
    {
     "name": "stdout",
     "output_type": "stream",
     "text": [
      "\tKWT,  4th phase (24Jun2020 - 06Jul2020): finished 1701 trials in 1 min  0 sec"
     ]
    },
    {
     "name": "stdout",
     "output_type": "stream",
     "text": [
      "\n"
     ]
    },
    {
     "name": "stdout",
     "output_type": "stream",
     "text": [
      "\tBRA,  1st phase (27May2020 - 14Jun2020): finished 1673 trials in 1 min  0 sec"
     ]
    },
    {
     "name": "stdout",
     "output_type": "stream",
     "text": [
      "\n"
     ]
    },
    {
     "name": "stdout",
     "output_type": "stream",
     "text": [
      "\tDOM,  7th phase (12Aug2020 - 20Aug2020): finished  357 trials in 0 min 10 sec"
     ]
    },
    {
     "name": "stdout",
     "output_type": "stream",
     "text": [
      "\n"
     ]
    },
    {
     "name": "stdout",
     "output_type": "stream",
     "text": [
      "\tMEX,  0th phase (03Mar2020 - 22May2020): finished 1577 trials in 1 min  0 sec"
     ]
    },
    {
     "name": "stdout",
     "output_type": "stream",
     "text": [
      "\n"
     ]
    },
    {
     "name": "stdout",
     "output_type": "stream",
     "text": [
      "\tNGA,  0th phase (18Mar2020 - 22May2020): finished 1598 trials in 1 min  0 sec"
     ]
    },
    {
     "name": "stdout",
     "output_type": "stream",
     "text": [
      "\n"
     ]
    },
    {
     "name": "stdout",
     "output_type": "stream",
     "text": [
      "\tIRQ,  3rd phase (25Jul2020 - 06Aug2020): finished  998 trials in 0 min 30 sec"
     ]
    },
    {
     "name": "stdout",
     "output_type": "stream",
     "text": [
      "\n"
     ]
    },
    {
     "name": "stdout",
     "output_type": "stream",
     "text": [
      "\tBHR,  8th phase (03Sep2020 - 13Sep2020): finished 1586 trials in 1 min  0 sec"
     ]
    },
    {
     "name": "stdout",
     "output_type": "stream",
     "text": [
      "\n"
     ]
    },
    {
     "name": "stdout",
     "output_type": "stream",
     "text": [
      "\tIRN,  3rd phase (29May2020 - 14Jun2020): finished 1538 trials in 1 min  0 sec"
     ]
    },
    {
     "name": "stdout",
     "output_type": "stream",
     "text": [
      "\n"
     ]
    },
    {
     "name": "stdout",
     "output_type": "stream",
     "text": [
      "\tRUS, 11th phase (19Sep2020 - 01Oct2020): finished 1467 trials in 1 min  0 sec"
     ]
    },
    {
     "name": "stdout",
     "output_type": "stream",
     "text": [
      "\n"
     ]
    },
    {
     "name": "stdout",
     "output_type": "stream",
     "text": [
      "\tUSA,  7th phase (08Aug2020 - 19Aug2020): finished  489 trials in 0 min 20 sec"
     ]
    },
    {
     "name": "stdout",
     "output_type": "stream",
     "text": [
      "\n"
     ]
    },
    {
     "name": "stdout",
     "output_type": "stream",
     "text": [
      "\tBRA,  0th phase (16Mar2020 - 26May2020): finished 1238 trials in 1 min  0 sec"
     ]
    },
    {
     "name": "stdout",
     "output_type": "stream",
     "text": [
      "\n"
     ]
    },
    {
     "name": "stdout",
     "output_type": "stream",
     "text": [
      "\tFRA,  0th phase (12Feb2020 - 24Mar2020): finished 1127 trials in 1 min  0 sec"
     ]
    },
    {
     "name": "stdout",
     "output_type": "stream",
     "text": [
      "\n"
     ]
    },
    {
     "name": "stdout",
     "output_type": "stream",
     "text": [
      "\tTUR,  1st phase (17Apr2020 - 26Apr2020): finished 1299 trials in 1 min  0 sec"
     ]
    },
    {
     "name": "stdout",
     "output_type": "stream",
     "text": [
      "\n"
     ]
    },
    {
     "name": "stdout",
     "output_type": "stream",
     "text": [
      "\tKWT,  7th phase (07Aug2020 - 20Aug2020): finished  280 trials in 0 min 10 sec"
     ]
    },
    {
     "name": "stdout",
     "output_type": "stream",
     "text": [
      "\n"
     ]
    },
    {
     "name": "stdout",
     "output_type": "stream",
     "text": [
      "\tIRQ,  9th phase (22Sep2020 - 29Sep2020): finished  166 trials in 0 min  5 sec"
     ]
    },
    {
     "name": "stdout",
     "output_type": "stream",
     "text": [
      "\n"
     ]
    },
    {
     "name": "stdout",
     "output_type": "stream",
     "text": [
      "\tARE,  0th phase (12Feb2020 - 30Apr2020): finished 1280 trials in 1 min  0 sec"
     ]
    },
    {
     "name": "stdout",
     "output_type": "stream",
     "text": [
      "\n"
     ]
    },
    {
     "name": "stdout",
     "output_type": "stream",
     "text": [
      "\tLVA,  2nd phase (18Apr2020 - 29Apr2020): finished 1516 trials in 1 min  0 sec"
     ]
    },
    {
     "name": "stdout",
     "output_type": "stream",
     "text": [
      "\n"
     ]
    },
    {
     "name": "stdout",
     "output_type": "stream",
     "text": [
      "\tDOM,  6th phase (02Aug2020 - 11Aug2020): finished 1288 trials in 1 min  0 sec"
     ]
    },
    {
     "name": "stdout",
     "output_type": "stream",
     "text": [
      "\n"
     ]
    },
    {
     "name": "stdout",
     "output_type": "stream",
     "text": [
      "\tKWT,  9th phase (05Sep2020 - 17Sep2020): finished 1259 trials in 1 min  0 sec"
     ]
    },
    {
     "name": "stdout",
     "output_type": "stream",
     "text": [
      "\n"
     ]
    },
    {
     "name": "stdout",
     "output_type": "stream",
     "text": [
      "\tMEX,  3rd phase (24Jun2020 - 05Jul2020): finished  446 trials in 0 min 20 sec"
     ]
    },
    {
     "name": "stdout",
     "output_type": "stream",
     "text": [
      "\n"
     ]
    },
    {
     "name": "stdout",
     "output_type": "stream",
     "text": [
      "\tBHR,  3rd phase (14Jun2020 - 25Jun2020): finished 1184 trials in 1 min  0 sec"
     ]
    },
    {
     "name": "stdout",
     "output_type": "stream",
     "text": [
      "\n"
     ]
    },
    {
     "name": "stdout",
     "output_type": "stream",
     "text": [
      "\tKWT,  3rd phase (08Jun2020 - 23Jun2020): finished 1180 trials in 1 min  0 sec"
     ]
    },
    {
     "name": "stdout",
     "output_type": "stream",
     "text": [
      "\n"
     ]
    },
    {
     "name": "stdout",
     "output_type": "stream",
     "text": [
      "\tBOL,  6th phase (01Aug2020 - 09Aug2020): finished  231 trials in 0 min 10 sec"
     ]
    },
    {
     "name": "stdout",
     "output_type": "stream",
     "text": [
      "\n"
     ]
    },
    {
     "name": "stdout",
     "output_type": "stream",
     "text": [
      "\tDOM,  3rd phase (03Jul2020 - 14Jul2020): finished 1054 trials in 1 min  0 sec"
     ]
    },
    {
     "name": "stdout",
     "output_type": "stream",
     "text": [
      "\n"
     ]
    },
    {
     "name": "stdout",
     "output_type": "stream",
     "text": [
      "\tKWT,  1st phase (13May2020 - 27May2020): finished 1042 trials in 1 min  0 sec"
     ]
    },
    {
     "name": "stdout",
     "output_type": "stream",
     "text": [
      "\n"
     ]
    },
    {
     "name": "stdout",
     "output_type": "stream",
     "text": [
      "\tITA,  4th phase (24Apr2020 - 10May2020): finished 1043 trials in 1 min  0 sec"
     ]
    },
    {
     "name": "stdout",
     "output_type": "stream",
     "text": [
      "\n"
     ]
    },
    {
     "name": "stdout",
     "output_type": "stream",
     "text": [
      "\tMEX,  7th phase (11Aug2020 - 24Aug2020): finished 1068 trials in 1 min  0 sec"
     ]
    },
    {
     "name": "stdout",
     "output_type": "stream",
     "text": [
      "\n"
     ]
    },
    {
     "name": "stdout",
     "output_type": "stream",
     "text": [
      "\tBRA,  9th phase (31Aug2020 - 10Sep2020): finished  348 trials in 0 min 15 sec"
     ]
    },
    {
     "name": "stdout",
     "output_type": "stream",
     "text": [
      "\n"
     ]
    },
    {
     "name": "stdout",
     "output_type": "stream",
     "text": [
      "\tKWT,  0th phase (08Mar2020 - 12May2020): finished  902 trials in 1 min  0 sec"
     ]
    },
    {
     "name": "stdout",
     "output_type": "stream",
     "text": [
      "\n"
     ]
    },
    {
     "name": "stdout",
     "output_type": "stream",
     "text": [
      "\tARE,  3rd phase (27May2020 - 11Jun2020): finished 1121 trials in 1 min  0 sec"
     ]
    },
    {
     "name": "stdout",
     "output_type": "stream",
     "text": [
      "\n"
     ]
    },
    {
     "name": "stdout",
     "output_type": "stream",
     "text": [
      "\tITA,  5th phase (11May2020 - 27May2020): finished  356 trials in 0 min 15 sec"
     ]
    },
    {
     "name": "stdout",
     "output_type": "stream",
     "text": [
      "\n"
     ]
    },
    {
     "name": "stdout",
     "output_type": "stream",
     "text": [
      "\tLVA, 10th phase (18Sep2020 - 25Sep2020): finished 1274 trials in 1 min  0 sec"
     ]
    },
    {
     "name": "stdout",
     "output_type": "stream",
     "text": [
      "\n"
     ]
    },
    {
     "name": "stdout",
     "output_type": "stream",
     "text": [
      "\tBOL,  9th phase (26Aug2020 - 02Sep2020): finished  241 trials in 0 min 10 sec"
     ]
    },
    {
     "name": "stdout",
     "output_type": "stream",
     "text": [
      "\n"
     ]
    },
    {
     "name": "stdout",
     "output_type": "stream",
     "text": [
      "\tMEX,  2nd phase (10Jun2020 - 23Jun2020): finished  454 trials in 0 min 20 sec"
     ]
    },
    {
     "name": "stdout",
     "output_type": "stream",
     "text": [
      "\n"
     ]
    },
    {
     "name": "stdout",
     "output_type": "stream",
     "text": [
      "\tITA,  1st phase (21Mar2020 - 28Mar2020): finished 1114 trials in 1 min  0 sec"
     ]
    },
    {
     "name": "stdout",
     "output_type": "stream",
     "text": [
      "\n"
     ]
    },
    {
     "name": "stdout",
     "output_type": "stream",
     "text": [
      "\tARE,  7th phase (19Aug2020 - 10Sep2020): finished 1064 trials in 1 min  0 sec"
     ]
    },
    {
     "name": "stdout",
     "output_type": "stream",
     "text": [
      "\n"
     ]
    },
    {
     "name": "stdout",
     "output_type": "stream",
     "text": [
      "\tARE,  4th phase (12Jun2020 - 01Jul2020): finished 1080 trials in 1 min  0 sec"
     ]
    },
    {
     "name": "stdout",
     "output_type": "stream",
     "text": [
      "\n"
     ]
    },
    {
     "name": "stdout",
     "output_type": "stream",
     "text": [
      "\tARE,  1st phase (01May2020 - 15May2020): finished 1105 trials in 1 min  0 sec"
     ]
    },
    {
     "name": "stdout",
     "output_type": "stream",
     "text": [
      "\n"
     ]
    },
    {
     "name": "stdout",
     "output_type": "stream",
     "text": [
      "\tDZA,  5th phase (17Jul2020 - 24Jul2020): finished 1146 trials in 1 min  0 sec"
     ]
    },
    {
     "name": "stdout",
     "output_type": "stream",
     "text": [
      "\n"
     ]
    },
    {
     "name": "stdout",
     "output_type": "stream",
     "text": [
      "\tITA,  6th phase (28May2020 - 21Jul2020): finished  818 trials in 0 min 40 sec"
     ]
    },
    {
     "name": "stdout",
     "output_type": "stream",
     "text": [
      "\n"
     ]
    },
    {
     "name": "stdout",
     "output_type": "stream",
     "text": [
      "\tITA,  9th phase (18Sep2020 - 29Sep2020): finished  136 trials in 0 min  5 sec"
     ]
    },
    {
     "name": "stdout",
     "output_type": "stream",
     "text": [
      "\n"
     ]
    },
    {
     "name": "stdout",
     "output_type": "stream",
     "text": [
      "\tNGA,  6th phase (18Jul2020 - 27Jul2020): finished  393 trials in 0 min 15 sec"
     ]
    },
    {
     "name": "stdout",
     "output_type": "stream",
     "text": [
      "\n"
     ]
    },
    {
     "name": "stdout",
     "output_type": "stream",
     "text": [
      "\tUSA,  5th phase (18Jul2020 - 28Jul2020): finished  274 trials in 0 min 10 sec"
     ]
    },
    {
     "name": "stdout",
     "output_type": "stream",
     "text": [
      "\n"
     ]
    },
    {
     "name": "stdout",
     "output_type": "stream",
     "text": [
      "\tDZA, 11th phase (18Sep2020 - 19Oct2020): finished  266 trials in 0 min 10 sec"
     ]
    },
    {
     "name": "stdout",
     "output_type": "stream",
     "text": [
      "\n"
     ]
    },
    {
     "name": "stdout",
     "output_type": "stream",
     "text": [
      "\tIRN, 10th phase (24Sep2020 - 06Oct2020): finished  138 trials in 0 min  5 sec"
     ]
    },
    {
     "name": "stdout",
     "output_type": "stream",
     "text": [
      "\n"
     ]
    },
    {
     "name": "stdout",
     "output_type": "stream",
     "text": [
      "\tRUS, 12th phase (02Oct2020 - 10Oct2020): finished 1207 trials in 1 min  0 sec"
     ]
    },
    {
     "name": "stdout",
     "output_type": "stream",
     "text": [
      "\n"
     ]
    },
    {
     "name": "stdout",
     "output_type": "stream",
     "text": [
      "\tIRN, 11th phase (07Oct2020 - 19Oct2020): finished 1227 trials in 1 min  0 sec"
     ]
    },
    {
     "name": "stdout",
     "output_type": "stream",
     "text": [
      "\n"
     ]
    },
    {
     "name": "stdout",
     "output_type": "stream",
     "text": [
      "\tRUS,  6th phase (04Jul2020 - 17Jul2020): finished 1262 trials in 1 min  0 sec"
     ]
    },
    {
     "name": "stdout",
     "output_type": "stream",
     "text": [
      "\n"
     ]
    },
    {
     "name": "stdout",
     "output_type": "stream",
     "text": [
      "\tLVA,  6th phase (01Jun2020 - 08Jul2020): finished 1256 trials in 1 min  0 sec"
     ]
    },
    {
     "name": "stdout",
     "output_type": "stream",
     "text": [
      "\n"
     ]
    },
    {
     "name": "stdout",
     "output_type": "stream",
     "text": [
      "\tIRN,  7th phase (01Aug2020 - 17Aug2020): finished 1280 trials in 1 min  0 sec"
     ]
    },
    {
     "name": "stdout",
     "output_type": "stream",
     "text": [
      "\n"
     ]
    },
    {
     "name": "stdout",
     "output_type": "stream",
     "text": [
      "\tDZA,  6th phase (25Jul2020 - 01Aug2020): finished  160 trials in 0 min  5 sec"
     ]
    },
    {
     "name": "stdout",
     "output_type": "stream",
     "text": [
      "\n"
     ]
    },
    {
     "name": "stdout",
     "output_type": "stream",
     "text": [
      "\tMEX, 10th phase (24Sep2020 - 04Oct2020): finished  153 trials in 0 min  5 sec"
     ]
    },
    {
     "name": "stdout",
     "output_type": "stream",
     "text": [
      "\n"
     ]
    },
    {
     "name": "stdout",
     "output_type": "stream",
     "text": [
      "\tBHR,  7th phase (12Aug2020 - 02Sep2020): finished 1276 trials in 1 min  0 sec"
     ]
    },
    {
     "name": "stdout",
     "output_type": "stream",
     "text": [
      "\n"
     ]
    },
    {
     "name": "stdout",
     "output_type": "stream",
     "text": [
      "\tBOL,  3rd phase (06Jul2020 - 14Jul2020): finished  764 trials in 0 min 30 sec"
     ]
    },
    {
     "name": "stdout",
     "output_type": "stream",
     "text": [
      "\n"
     ]
    },
    {
     "name": "stdout",
     "output_type": "stream",
     "text": [
      "\tMEX,  4th phase (06Jul2020 - 17Jul2020): finished  151 trials in 0 min  5 sec"
     ]
    },
    {
     "name": "stdout",
     "output_type": "stream",
     "text": [
      "\n"
     ]
    },
    {
     "name": "stdout",
     "output_type": "stream",
     "text": [
      "\tUSA,  9th phase (04Sep2020 - 18Sep2020): finished 1157 trials in 0 min 50 sec"
     ]
    },
    {
     "name": "stdout",
     "output_type": "stream",
     "text": [
      "\n"
     ]
    },
    {
     "name": "stdout",
     "output_type": "stream",
     "text": [
      "\tIRN,  1st phase (31Mar2020 - 03May2020): finished 1300 trials in 1 min  0 sec"
     ]
    },
    {
     "name": "stdout",
     "output_type": "stream",
     "text": [
      "\n"
     ]
    },
    {
     "name": "stdout",
     "output_type": "stream",
     "text": [
      "\tTUR,  0th phase (24Mar2020 - 16Apr2020): finished 1328 trials in 1 min  0 sec"
     ]
    },
    {
     "name": "stdout",
     "output_type": "stream",
     "text": [
      "\n"
     ]
    },
    {
     "name": "stdout",
     "output_type": "stream",
     "text": [
      "\tUSA,  6th phase (29Jul2020 - 07Aug2020): finished  419 trials in 0 min 15 sec"
     ]
    },
    {
     "name": "stdout",
     "output_type": "stream",
     "text": [
      "\n"
     ]
    },
    {
     "name": "stdout",
     "output_type": "stream",
     "text": [
      "\tIRQ,  5th phase (17Aug2020 - 26Aug2020): finished  158 trials in 0 min  5 sec"
     ]
    },
    {
     "name": "stdout",
     "output_type": "stream",
     "text": [
      "\n"
     ]
    },
    {
     "name": "stdout",
     "output_type": "stream",
     "text": [
      "\tDZA,  2nd phase (25May2020 - 24Jun2020): finished 1320 trials in 1 min  0 sec"
     ]
    },
    {
     "name": "stdout",
     "output_type": "stream",
     "text": [
      "\n"
     ]
    },
    {
     "name": "stdout",
     "output_type": "stream",
     "text": [
      "\tNGA,  3rd phase (19Jun2020 - 28Jun2020): finished 1352 trials in 1 min  0 sec"
     ]
    },
    {
     "name": "stdout",
     "output_type": "stream",
     "text": [
      "\n"
     ]
    },
    {
     "name": "stdout",
     "output_type": "stream",
     "text": [
      "\tARE,  6th phase (21Jul2020 - 18Aug2020): finished  958 trials in 0 min 40 sec"
     ]
    },
    {
     "name": "stdout",
     "output_type": "stream",
     "text": [
      "\n"
     ]
    },
    {
     "name": "stdout",
     "output_type": "stream",
     "text": [
      "\tIRN,  8th phase (18Aug2020 - 07Sep2020): finished  156 trials in 0 min  5 sec"
     ]
    },
    {
     "name": "stdout",
     "output_type": "stream",
     "text": [
      "\n"
     ]
    },
    {
     "name": "stdout",
     "output_type": "stream",
     "text": [
      "\tDZA,  4th phase (08Jul2020 - 16Jul2020): finished  785 trials in 0 min 30 sec"
     ]
    },
    {
     "name": "stdout",
     "output_type": "stream",
     "text": [
      "\n"
     ]
    },
    {
     "name": "stdout",
     "output_type": "stream",
     "text": [
      "\tTUR,  9th phase (02Sep2020 - 17Sep2020): finished  146 trials in 0 min  5 sec"
     ]
    },
    {
     "name": "stdout",
     "output_type": "stream",
     "text": [
      "\n"
     ]
    },
    {
     "name": "stdout",
     "output_type": "stream",
     "text": [
      "\tFRA,  2nd phase (06Apr2020 - 20Apr2020): finished 1390 trials in 1 min  0 sec"
     ]
    },
    {
     "name": "stdout",
     "output_type": "stream",
     "text": [
      "\n"
     ]
    },
    {
     "name": "stdout",
     "output_type": "stream",
     "text": [
      "\tARE,  2nd phase (16May2020 - 26May2020): finished 1408 trials in 1 min  0 sec"
     ]
    },
    {
     "name": "stdout",
     "output_type": "stream",
     "text": [
      "\n"
     ]
    },
    {
     "name": "stdout",
     "output_type": "stream",
     "text": [
      "\tIRQ,  1st phase (23Jun2020 - 08Jul2020): finished 1393 trials in 1 min  0 sec"
     ]
    },
    {
     "name": "stdout",
     "output_type": "stream",
     "text": [
      "\n"
     ]
    },
    {
     "name": "stdout",
     "output_type": "stream",
     "text": [
      "\tNGA,  1st phase (23May2020 - 08Jun2020): finished 1450 trials in 1 min  0 sec"
     ]
    },
    {
     "name": "stdout",
     "output_type": "stream",
     "text": [
      "\n"
     ]
    },
    {
     "name": "stdout",
     "output_type": "stream",
     "text": [
      "\tFRA,  3rd phase (21Apr2020 - 04May2020): finished 1435 trials in 1 min  0 sec"
     ]
    },
    {
     "name": "stdout",
     "output_type": "stream",
     "text": [
      "\n"
     ]
    },
    {
     "name": "stdout",
     "output_type": "stream",
     "text": [
      "\tFRA,  7th phase (10Aug2020 - 26Aug2020): finished 1142 trials in 0 min 45 sec"
     ]
    },
    {
     "name": "stdout",
     "output_type": "stream",
     "text": [
      "\n"
     ]
    },
    {
     "name": "stdout",
     "output_type": "stream",
     "text": [
      "\tRUS,  2nd phase (19May2020 - 30May2020): finished 1471 trials in 1 min  0 sec"
     ]
    },
    {
     "name": "stdout",
     "output_type": "stream",
     "text": [
      "\n"
     ]
    },
    {
     "name": "stdout",
     "output_type": "stream",
     "text": [
      "\tNGA,  4th phase (29Jun2020 - 07Jul2020): finished  177 trials in 0 min  5 sec"
     ]
    },
    {
     "name": "stdout",
     "output_type": "stream",
     "text": [
      "\n"
     ]
    },
    {
     "name": "stdout",
     "output_type": "stream",
     "text": [
      "\tKWT, 11th phase (04Oct2020 - 19Oct2020): finished 1444 trials in 1 min  0 sec"
     ]
    },
    {
     "name": "stdout",
     "output_type": "stream",
     "text": [
      "\n"
     ]
    },
    {
     "name": "stdout",
     "output_type": "stream",
     "text": [
      "\tBOL,  0th phase (01Apr2020 - 13Jun2020): finished 1405 trials in 1 min  0 sec"
     ]
    },
    {
     "name": "stdout",
     "output_type": "stream",
     "text": [
      "\n"
     ]
    },
    {
     "name": "stdout",
     "output_type": "stream",
     "text": [
      "\tDZA,  0th phase (12Mar2020 - 01May2020): finished 1423 trials in 1 min  0 sec"
     ]
    },
    {
     "name": "stdout",
     "output_type": "stream",
     "text": [
      "\n"
     ]
    },
    {
     "name": "stdout",
     "output_type": "stream",
     "text": [
      "\tIRN,  0th phase (26Feb2020 - 30Mar2020): finished 1434 trials in 1 min  0 sec"
     ]
    },
    {
     "name": "stdout",
     "output_type": "stream",
     "text": [
      "\n"
     ]
    },
    {
     "name": "stdout",
     "output_type": "stream",
     "text": [
      "\tFRA,  1st phase (25Mar2020 - 05Apr2020): finished 1439 trials in 1 min  0 sec"
     ]
    },
    {
     "name": "stdout",
     "output_type": "stream",
     "text": [
      "\n"
     ]
    },
    {
     "name": "stdout",
     "output_type": "stream",
     "text": [
      "\tTUR,  4th phase (22May2020 - 13Jun2020): finished 1436 trials in 1 min  0 sec"
     ]
    },
    {
     "name": "stdout",
     "output_type": "stream",
     "text": [
      "\n"
     ]
    },
    {
     "name": "stdout",
     "output_type": "stream",
     "text": [
      "\tRUS,  4th phase (11Jun2020 - 20Jun2020): finished 1411 trials in 1 min  0 sec"
     ]
    },
    {
     "name": "stdout",
     "output_type": "stream",
     "text": [
      "\n"
     ]
    },
    {
     "name": "stdout",
     "output_type": "stream",
     "text": [
      "\tBHR,  5th phase (08Jul2020 - 22Jul2020): finished 1395 trials in 1 min  0 sec"
     ]
    },
    {
     "name": "stdout",
     "output_type": "stream",
     "text": [
      "\n"
     ]
    },
    {
     "name": "stdout",
     "output_type": "stream",
     "text": [
      "\tBRA,  2nd phase (15Jun2020 - 26Jun2020): finished  456 trials in 0 min 15 sec"
     ]
    },
    {
     "name": "stdout",
     "output_type": "stream",
     "text": [
      "\n"
     ]
    },
    {
     "name": "stdout",
     "output_type": "stream",
     "text": [
      "\tMEX,  8th phase (25Aug2020 - 07Sep2020): finished 1478 trials in 1 min  0 sec"
     ]
    },
    {
     "name": "stdout",
     "output_type": "stream",
     "text": [
      "\n"
     ]
    },
    {
     "name": "stdout",
     "output_type": "stream",
     "text": [
      "\tMEX,  6th phase (30Jul2020 - 10Aug2020): finished 1466 trials in 1 min  0 sec"
     ]
    },
    {
     "name": "stdout",
     "output_type": "stream",
     "text": [
      "\n"
     ]
    },
    {
     "name": "stdout",
     "output_type": "stream",
     "text": [
      "\tDZA,  1st phase (02May2020 - 24May2020): finished 1468 trials in 1 min  0 sec"
     ]
    },
    {
     "name": "stdout",
     "output_type": "stream",
     "text": [
      "\n"
     ]
    },
    {
     "name": "stdout",
     "output_type": "stream",
     "text": [
      "\tLVA,  0th phase (10Mar2020 - 05Apr2020): finished 1897 trials in 1 min  0 sec"
     ]
    },
    {
     "name": "stdout",
     "output_type": "stream",
     "text": [
      "\n"
     ]
    },
    {
     "name": "stdout",
     "output_type": "stream",
     "text": [
      "\tRUS,  3rd phase (31May2020 - 10Jun2020): finished 1841 trials in 1 min  0 sec"
     ]
    },
    {
     "name": "stdout",
     "output_type": "stream",
     "text": [
      "\n"
     ]
    },
    {
     "name": "stdout",
     "output_type": "stream",
     "text": [
      "\tNGA, 11th phase (29Sep2020 - 19Oct2020): finished 1842 trials in 1 min  0 sec"
     ]
    },
    {
     "name": "stdout",
     "output_type": "stream",
     "text": [
      "\n"
     ]
    },
    {
     "name": "stdout",
     "output_type": "stream",
     "text": [
      "\tBRA, 11th phase (25Sep2020 - 19Oct2020): finished 1825 trials in 1 min  0 sec"
     ]
    },
    {
     "name": "stdout",
     "output_type": "stream",
     "text": [
      "\n"
     ]
    },
    {
     "name": "stdout",
     "output_type": "stream",
     "text": [
      "\tNGA,  5th phase (08Jul2020 - 17Jul2020): finished 1180 trials in 0 min 30 sec"
     ]
    },
    {
     "name": "stdout",
     "output_type": "stream",
     "text": [
      "\n"
     ]
    },
    {
     "name": "stdout",
     "output_type": "stream",
     "text": [
      "\tITA,  2nd phase (29Mar2020 - 10Apr2020): finished 1959 trials in 1 min  0 sec"
     ]
    },
    {
     "name": "stdout",
     "output_type": "stream",
     "text": [
      "\n"
     ]
    },
    {
     "name": "stdout",
     "output_type": "stream",
     "text": [
      "\tDZA,  9th phase (21Aug2020 - 31Aug2020): finished  253 trials in 0 min  5 sec"
     ]
    },
    {
     "name": "stdout",
     "output_type": "stream",
     "text": [
      "\n"
     ]
    },
    {
     "name": "stdout",
     "output_type": "stream",
     "text": [
      "\tIRQ,  8th phase (13Sep2020 - 21Sep2020): finished  255 trials in 0 min  5 sec"
     ]
    },
    {
     "name": "stdout",
     "output_type": "stream",
     "text": [
      "\n"
     ]
    },
    {
     "name": "stdout",
     "output_type": "stream",
     "text": [
      "\tBOL,  4th phase (15Jul2020 - 22Jul2020): finished 1993 trials in 1 min  0 sec"
     ]
    },
    {
     "name": "stdout",
     "output_type": "stream",
     "text": [
      "\n"
     ]
    },
    {
     "name": "stdout",
     "output_type": "stream",
     "text": [
      "\tBHR,  2nd phase (01Jun2020 - 13Jun2020): finished 1985 trials in 1 min  0 sec"
     ]
    },
    {
     "name": "stdout",
     "output_type": "stream",
     "text": [
      "\n"
     ]
    },
    {
     "name": "stdout",
     "output_type": "stream",
     "text": [
      "\tKWT, 10th phase (18Sep2020 - 03Oct2020): finished  252 trials in 0 min  5 sec"
     ]
    },
    {
     "name": "stdout",
     "output_type": "stream",
     "text": [
      "\n"
     ]
    },
    {
     "name": "stdout",
     "output_type": "stream",
     "text": [
      "\tLVA, 11th phase (26Sep2020 - 19Oct2020): finished  753 trials in 0 min 15 sec"
     ]
    },
    {
     "name": "stdout",
     "output_type": "stream",
     "text": [
      "\n"
     ]
    },
    {
     "name": "stdout",
     "output_type": "stream",
     "text": [
      "\tMEX,  1st phase (23May2020 - 09Jun2020): finished  250 trials in 0 min  5 sec"
     ]
    },
    {
     "name": "stdout",
     "output_type": "stream",
     "text": [
      "\n"
     ]
    },
    {
     "name": "stdout",
     "output_type": "stream",
     "text": [
      "\tUSA,  2nd phase (03Jun2020 - 24Jun2020): finished 1718 trials in 0 min 50 sec"
     ]
    },
    {
     "name": "stdout",
     "output_type": "stream",
     "text": [
      "\n"
     ]
    },
    {
     "name": "stdout",
     "output_type": "stream",
     "text": [
      "\tRUS, 13th phase (11Oct2020 - 19Oct2020): finished 1968 trials in 1 min  0 sec"
     ]
    },
    {
     "name": "stdout",
     "output_type": "stream",
     "text": [
      "\n"
     ]
    },
    {
     "name": "stdout",
     "output_type": "stream",
     "text": [
      "\tFRA,  5th phase (31May2020 - 10Jul2020): finished 1945 trials in 1 min  0 sec"
     ]
    },
    {
     "name": "stdout",
     "output_type": "stream",
     "text": [
      "\n"
     ]
    },
    {
     "name": "stdout",
     "output_type": "stream",
     "text": [
      "\tTUR,  3rd phase (07May2020 - 21May2020): finished 1966 trials in 1 min  0 sec"
     ]
    },
    {
     "name": "stdout",
     "output_type": "stream",
     "text": [
      "\n"
     ]
    },
    {
     "name": "stdout",
     "output_type": "stream",
     "text": [
      "\tBOL, 10th phase (03Sep2020 - 11Sep2020): finished  849 trials in 0 min 20 sec"
     ]
    },
    {
     "name": "stdout",
     "output_type": "stream",
     "text": [
      "\n"
     ]
    },
    {
     "name": "stdout",
     "output_type": "stream",
     "text": [
      "\tLVA,  5th phase (16May2020 - 31May2020): finished 2237 trials in 1 min  0 sec"
     ]
    },
    {
     "name": "stdout",
     "output_type": "stream",
     "text": [
      "\n"
     ]
    },
    {
     "name": "stdout",
     "output_type": "stream",
     "text": [
      "\tBRA,  5th phase (21Jul2020 - 29Jul2020): finished 1972 trials in 1 min  0 sec"
     ]
    },
    {
     "name": "stdout",
     "output_type": "stream",
     "text": [
      "\n"
     ]
    },
    {
     "name": "stdout",
     "output_type": "stream",
     "text": [
      "\tIRQ,  2nd phase (09Jul2020 - 24Jul2020): finished 1980 trials in 1 min  0 sec"
     ]
    },
    {
     "name": "stdout",
     "output_type": "stream",
     "text": [
      "\n"
     ]
    },
    {
     "name": "stdout",
     "output_type": "stream",
     "text": [
      "\tRUS, 10th phase (03Sep2020 - 18Sep2020): finished 1989 trials in 1 min  0 sec"
     ]
    },
    {
     "name": "stdout",
     "output_type": "stream",
     "text": [
      "\n"
     ]
    },
    {
     "name": "stdout",
     "output_type": "stream",
     "text": [
      "\tFRA,  4th phase (05May2020 - 30May2020): finished 1969 trials in 1 min  0 sec"
     ]
    },
    {
     "name": "stdout",
     "output_type": "stream",
     "text": [
      "\n"
     ]
    },
    {
     "name": "stdout",
     "output_type": "stream",
     "text": [
      "\tNGA,  7th phase (28Jul2020 - 07Aug2020): finished 1985 trials in 1 min  0 sec"
     ]
    },
    {
     "name": "stdout",
     "output_type": "stream",
     "text": [
      "\n"
     ]
    },
    {
     "name": "stdout",
     "output_type": "stream",
     "text": [
      "\tFRA,  6th phase (11Jul2020 - 09Aug2020): finished  442 trials in 0 min 10 sec"
     ]
    },
    {
     "name": "stdout",
     "output_type": "stream",
     "text": [
      "\n"
     ]
    },
    {
     "name": "stdout",
     "output_type": "stream",
     "text": [
      "\tRUS,  1st phase (08May2020 - 18May2020): finished 1984 trials in 1 min  0 sec"
     ]
    },
    {
     "name": "stdout",
     "output_type": "stream",
     "text": [
      "\n"
     ]
    },
    {
     "name": "stdout",
     "output_type": "stream",
     "text": [
      "\tITA, 11th phase (08Oct2020 - 19Oct2020): finished  254 trials in 0 min  5 sec"
     ]
    },
    {
     "name": "stdout",
     "output_type": "stream",
     "text": [
      "\n"
     ]
    },
    {
     "name": "stdout",
     "output_type": "stream",
     "text": [
      "\tITA,  3rd phase (11Apr2020 - 23Apr2020): finished 1984 trials in 1 min  0 sec"
     ]
    },
    {
     "name": "stdout",
     "output_type": "stream",
     "text": [
      "\n"
     ]
    },
    {
     "name": "stdout",
     "output_type": "stream",
     "text": [
      "\tIRQ,  7th phase (04Sep2020 - 12Sep2020): finished  256 trials in 0 min  5 sec"
     ]
    },
    {
     "name": "stdout",
     "output_type": "stream",
     "text": [
      "\n"
     ]
    },
    {
     "name": "stdout",
     "output_type": "stream",
     "text": [
      "\tBHR,  1st phase (07May2020 - 31May2020): finished 1959 trials in 1 min  0 sec"
     ]
    },
    {
     "name": "stdout",
     "output_type": "stream",
     "text": [
      "\n"
     ]
    },
    {
     "name": "stdout",
     "output_type": "stream",
     "text": [
      "\tITA,  7th phase (22Jul2020 - 28Aug2020): finished 1971 trials in 1 min  0 sec"
     ]
    },
    {
     "name": "stdout",
     "output_type": "stream",
     "text": [
      "\n"
     ]
    },
    {
     "name": "stdout",
     "output_type": "stream",
     "text": [
      "\tKWT,  6th phase (22Jul2020 - 06Aug2020): finished  657 trials in 0 min 15 sec"
     ]
    },
    {
     "name": "stdout",
     "output_type": "stream",
     "text": [
      "\n"
     ]
    },
    {
     "name": "stdout",
     "output_type": "stream",
     "text": [
      "\tBHR,  4th phase (26Jun2020 - 07Jul2020): finished  253 trials in 0 min  5 sec"
     ]
    },
    {
     "name": "stdout",
     "output_type": "stream",
     "text": [
      "\n"
     ]
    },
    {
     "name": "stdout",
     "output_type": "stream",
     "text": [
      "\tBRA,  6th phase (30Jul2020 - 09Aug2020): finished  669 trials in 0 min 15 sec"
     ]
    },
    {
     "name": "stdout",
     "output_type": "stream",
     "text": [
      "\n"
     ]
    },
    {
     "name": "stdout",
     "output_type": "stream",
     "text": [
      "\tARE,  9th phase (23Sep2020 - 02Oct2020): finished  669 trials in 0 min 15 sec"
     ]
    },
    {
     "name": "stdout",
     "output_type": "stream",
     "text": [
      "\n"
     ]
    },
    {
     "name": "stdout",
     "output_type": "stream",
     "text": [
      "\tTUR,  6th phase (01Jul2020 - 21Jul2020): finished  245 trials in 0 min  5 sec"
     ]
    },
    {
     "name": "stdout",
     "output_type": "stream",
     "text": [
      "\n"
     ]
    },
    {
     "name": "stdout",
     "output_type": "stream",
     "text": [
      "\tBOL,  5th phase (23Jul2020 - 31Jul2020): finished  473 trials in 0 min 10 sec"
     ]
    },
    {
     "name": "stdout",
     "output_type": "stream",
     "text": [
      "\n"
     ]
    },
    {
     "name": "stdout",
     "output_type": "stream",
     "text": [
      "\tBHR,  0th phase (06Mar2020 - 06May2020): finished 1929 trials in 1 min  0 sec"
     ]
    },
    {
     "name": "stdout",
     "output_type": "stream",
     "text": [
      "\n"
     ]
    },
    {
     "name": "stdout",
     "output_type": "stream",
     "text": [
      "\tLVA,  8th phase (07Aug2020 - 29Aug2020): finished 2236 trials in 1 min  0 sec"
     ]
    },
    {
     "name": "stdout",
     "output_type": "stream",
     "text": [
      "\n"
     ]
    },
    {
     "name": "stdout",
     "output_type": "stream",
     "text": [
      "\tBRA,  4th phase (09Jul2020 - 20Jul2020): finished  449 trials in 0 min 10 sec"
     ]
    },
    {
     "name": "stdout",
     "output_type": "stream",
     "text": [
      "\n"
     ]
    },
    {
     "name": "stdout",
     "output_type": "stream",
     "text": [
      "\tIRQ,  0th phase (09Mar2020 - 22Jun2020): finished 1883 trials in 1 min  0 sec"
     ]
    },
    {
     "name": "stdout",
     "output_type": "stream",
     "text": [
      "\n"
     ]
    },
    {
     "name": "stdout",
     "output_type": "stream",
     "text": [
      "\tTUR,  7th phase (22Jul2020 - 13Aug2020): finished  467 trials in 0 min 10 sec"
     ]
    },
    {
     "name": "stdout",
     "output_type": "stream",
     "text": [
      "\n"
     ]
    },
    {
     "name": "stdout",
     "output_type": "stream",
     "text": [
      "\tUSA,  8th phase (20Aug2020 - 03Sep2020): finished  252 trials in 0 min  5 sec"
     ]
    },
    {
     "name": "stdout",
     "output_type": "stream",
     "text": [
      "\n"
     ]
    },
    {
     "name": "stdout",
     "output_type": "stream",
     "text": [
      "\tIRN,  2nd phase (04May2020 - 28May2020): finished 1974 trials in 1 min  0 sec"
     ]
    },
    {
     "name": "stdout",
     "output_type": "stream",
     "text": [
      "\n"
     ]
    },
    {
     "name": "stdout",
     "output_type": "stream",
     "text": [
      "\tDZA, 10th phase (01Sep2020 - 17Sep2020): finished  252 trials in 0 min  5 sec"
     ]
    },
    {
     "name": "stdout",
     "output_type": "stream",
     "text": [
      "\n"
     ]
    },
    {
     "name": "stdout",
     "output_type": "stream",
     "text": [
      "\tITA,  8th phase (29Aug2020 - 17Sep2020): finished  252 trials in 0 min  5 sec"
     ]
    },
    {
     "name": "stdout",
     "output_type": "stream",
     "text": [
      "\n"
     ]
    },
    {
     "name": "stdout",
     "output_type": "stream",
     "text": [
      "\tBHR, 10th phase (23Sep2020 - 03Oct2020): finished  255 trials in 0 min  5 sec"
     ]
    },
    {
     "name": "stdout",
     "output_type": "stream",
     "text": [
      "\n"
     ]
    },
    {
     "name": "stdout",
     "output_type": "stream",
     "text": [
      "\tNGA, 10th phase (03Sep2020 - 28Sep2020): finished 1965 trials in 1 min  0 sec"
     ]
    },
    {
     "name": "stdout",
     "output_type": "stream",
     "text": [
      "\n"
     ]
    },
    {
     "name": "stdout",
     "output_type": "stream",
     "text": [
      "\tRUS,  9th phase (17Aug2020 - 02Sep2020): finished 1997 trials in 1 min  0 sec"
     ]
    },
    {
     "name": "stdout",
     "output_type": "stream",
     "text": [
      "\n"
     ]
    },
    {
     "name": "stdout",
     "output_type": "stream",
     "text": [
      "\tARE,  8th phase (11Sep2020 - 22Sep2020): finished 1020 trials in 0 min 25 sec"
     ]
    },
    {
     "name": "stdout",
     "output_type": "stream",
     "text": [
      "\n"
     ]
    },
    {
     "name": "stdout",
     "output_type": "stream",
     "text": [
      "\tDZA,  3rd phase (25Jun2020 - 07Jul2020): finished  254 trials in 0 min  5 sec"
     ]
    },
    {
     "name": "stdout",
     "output_type": "stream",
     "text": [
      "\n"
     ]
    },
    {
     "name": "stdout",
     "output_type": "stream",
     "text": [
      "\tFRA,  8th phase (27Aug2020 - 10Sep2020): finished 1330 trials in 0 min 35 sec"
     ]
    },
    {
     "name": "stdout",
     "output_type": "stream",
     "text": [
      "\n"
     ]
    },
    {
     "name": "stdout",
     "output_type": "stream",
     "text": [
      "\tRUS,  0th phase (12Feb2020 - 07May2020): finished 1920 trials in 1 min  0 sec"
     ]
    },
    {
     "name": "stdout",
     "output_type": "stream",
     "text": [
      "\n"
     ]
    },
    {
     "name": "stdout",
     "output_type": "stream",
     "text": [
      "\tTUR,  2nd phase (27Apr2020 - 06May2020): finished  332 trials in 0 min 10 sec"
     ]
    },
    {
     "name": "stdout",
     "output_type": "stream",
     "text": [
      "\n"
     ]
    },
    {
     "name": "stdout",
     "output_type": "stream",
     "text": [
      "\tIRQ,  6th phase (27Aug2020 - 03Sep2020): finished  189 trials in 0 min  5 sec"
     ]
    },
    {
     "name": "stdout",
     "output_type": "stream",
     "text": [
      "\n"
     ]
    },
    {
     "name": "stdout",
     "output_type": "stream",
     "text": [
      "\tBRA,  8th phase (20Aug2020 - 30Aug2020): finished 1741 trials in 1 min  0 sec"
     ]
    },
    {
     "name": "stdout",
     "output_type": "stream",
     "text": [
      "\n"
     ]
    },
    {
     "name": "stdout",
     "output_type": "stream",
     "text": [
      "\tDOM,  1st phase (23May2020 - 15Jun2020): finished 1648 trials in 1 min  0 sec"
     ]
    },
    {
     "name": "stdout",
     "output_type": "stream",
     "text": [
      "\n"
     ]
    },
    {
     "name": "stdout",
     "output_type": "stream",
     "text": [
      "\tBHR,  9th phase (14Sep2020 - 22Sep2020): finished  509 trials in 0 min 15 sec"
     ]
    },
    {
     "name": "stdout",
     "output_type": "stream",
     "text": [
      "\n"
     ]
    },
    {
     "name": "stdout",
     "output_type": "stream",
     "text": [
      "\tBRA, 10th phase (11Sep2020 - 24Sep2020): finished 1626 trials in 1 min  0 sec"
     ]
    },
    {
     "name": "stdout",
     "output_type": "stream",
     "text": [
      "\n"
     ]
    },
    {
     "name": "stdout",
     "output_type": "stream",
     "text": [
      "\tBOL,  2nd phase (26Jun2020 - 05Jul2020): finished  332 trials in 0 min 10 sec"
     ]
    },
    {
     "name": "stdout",
     "output_type": "stream",
     "text": [
      "\n"
     ]
    },
    {
     "name": "stdout",
     "output_type": "stream",
     "text": [
      "\tUSA, 10th phase (19Sep2020 - 02Oct2020): finished  731 trials in 0 min 25 sec"
     ]
    },
    {
     "name": "stdout",
     "output_type": "stream",
     "text": [
      "\n"
     ]
    },
    {
     "name": "stdout",
     "output_type": "stream",
     "text": [
      "\tLVA,  1st phase (06Apr2020 - 17Apr2020): finished 1673 trials in 1 min  0 sec"
     ]
    },
    {
     "name": "stdout",
     "output_type": "stream",
     "text": [
      "\n"
     ]
    },
    {
     "name": "stdout",
     "output_type": "stream",
     "text": [
      "\tTUR,  8th phase (14Aug2020 - 01Sep2020): finished  348 trials in 0 min 10 sec"
     ]
    },
    {
     "name": "stdout",
     "output_type": "stream",
     "text": [
      "\n"
     ]
    },
    {
     "name": "stdout",
     "output_type": "stream",
     "text": [
      "\tRUS,  7th phase (18Jul2020 - 01Aug2020): finished 1434 trials in 1 min  0 sec"
     ]
    },
    {
     "name": "stdout",
     "output_type": "stream",
     "text": [
      "\n"
     ]
    },
    {
     "name": "stdout",
     "output_type": "stream",
     "text": [
      "\tFRA, 11th phase (09Oct2020 - 19Oct2020): finished  947 trials in 0 min 35 sec"
     ]
    },
    {
     "name": "stdout",
     "output_type": "stream",
     "text": [
      "\n"
     ]
    },
    {
     "name": "stdout",
     "output_type": "stream",
     "text": [
      "\tUSA,  0th phase (09Feb2020 - 02May2020): finished 1398 trials in 1 min  0 sec"
     ]
    },
    {
     "name": "stdout",
     "output_type": "stream",
     "text": [
      "\n"
     ]
    },
    {
     "name": "stdout",
     "output_type": "stream",
     "text": [
      "\tNGA,  9th phase (19Aug2020 - 02Sep2020): finished  460 trials in 0 min 15 sec"
     ]
    },
    {
     "name": "stdout",
     "output_type": "stream",
     "text": [
      "\n"
     ]
    },
    {
     "name": "stdout",
     "output_type": "stream",
     "text": [
      "\tBOL,  8th phase (18Aug2020 - 25Aug2020): finished  558 trials in 0 min 20 sec"
     ]
    },
    {
     "name": "stdout",
     "output_type": "stream",
     "text": [
      "\n"
     ]
    },
    {
     "name": "stdout",
     "output_type": "stream",
     "text": [
      "\tBHR,  6th phase (23Jul2020 - 11Aug2020): finished  309 trials in 0 min 10 sec"
     ]
    },
    {
     "name": "stdout",
     "output_type": "stream",
     "text": [
      "\n"
     ]
    },
    {
     "name": "stdout",
     "output_type": "stream",
     "text": [
      "\tTUR,  5th phase (14Jun2020 - 30Jun2020): finished 1440 trials in 1 min  0 sec"
     ]
    },
    {
     "name": "stdout",
     "output_type": "stream",
     "text": [
      "\n"
     ]
    },
    {
     "name": "stdout",
     "output_type": "stream",
     "text": [
      "\tDOM,  2nd phase (16Jun2020 - 02Jul2020): finished 1477 trials in 1 min  0 sec"
     ]
    },
    {
     "name": "stdout",
     "output_type": "stream",
     "text": [
      "\n"
     ]
    },
    {
     "name": "stdout",
     "output_type": "stream",
     "text": [
      "\tDOM,  4th phase (15Jul2020 - 23Jul2020): finished  356 trials in 0 min 10 sec"
     ]
    },
    {
     "name": "stdout",
     "output_type": "stream",
     "text": [
      "\n"
     ]
    },
    {
     "name": "stdout",
     "output_type": "stream",
     "text": [
      "\tARE, 10th phase (03Oct2020 - 10Oct2020): finished  184 trials in 0 min  5 sec"
     ]
    },
    {
     "name": "stdout",
     "output_type": "stream",
     "text": [
      "\n"
     ]
    },
    {
     "name": "stdout",
     "output_type": "stream",
     "text": [
      "\tDOM,  0th phase (24Mar2020 - 22May2020): finished 1426 trials in 1 min  0 sec"
     ]
    },
    {
     "name": "stdout",
     "output_type": "stream",
     "text": [
      "\n"
     ]
    },
    {
     "name": "stdout",
     "output_type": "stream",
     "text": [
      "\tUSA, 11th phase (03Oct2020 - 19Oct2020): finished  539 trials in 0 min 15 sec"
     ]
    },
    {
     "name": "stdout",
     "output_type": "stream",
     "text": [
      "\n"
     ]
    },
    {
     "name": "stdout",
     "output_type": "stream",
     "text": [
      "\tDZA,  8th phase (10Aug2020 - 20Aug2020): finished  381 trials in 0 min 10 sec"
     ]
    },
    {
     "name": "stdout",
     "output_type": "stream",
     "text": [
      "\n"
     ]
    },
    {
     "name": "stdout",
     "output_type": "stream",
     "text": [
      "\tBRA,  3rd phase (27Jun2020 - 08Jul2020): finished 1834 trials in 1 min  0 sec"
     ]
    },
    {
     "name": "stdout",
     "output_type": "stream",
     "text": [
      "\n"
     ]
    },
    {
     "name": "stdout",
     "output_type": "stream",
     "text": [
      "\tNGA,  2nd phase (09Jun2020 - 18Jun2020): finished 1846 trials in 1 min  0 sec"
     ]
    },
    {
     "name": "stdout",
     "output_type": "stream",
     "text": [
      "\n"
     ]
    },
    {
     "name": "stdout",
     "output_type": "stream",
     "text": [
      "\tMEX, 11th phase (05Oct2020 - 19Oct2020): finished  253 trials in 0 min  5 sec"
     ]
    },
    {
     "name": "stdout",
     "output_type": "stream",
     "text": [
      "\n"
     ]
    },
    {
     "name": "stdout",
     "output_type": "stream",
     "text": [
      "\tBOL, 11th phase (12Sep2020 - 24Sep2020): finished  465 trials in 0 min 10 sec"
     ]
    },
    {
     "name": "stdout",
     "output_type": "stream",
     "text": [
      "\n"
     ]
    },
    {
     "name": "stdout",
     "output_type": "stream",
     "text": [
      "\tBRA,  7th phase (10Aug2020 - 19Aug2020): finished 1952 trials in 1 min  0 sec"
     ]
    },
    {
     "name": "stdout",
     "output_type": "stream",
     "text": [
      "\n"
     ]
    },
    {
     "name": "stdout",
     "output_type": "stream",
     "text": [
      "\tITA, 10th phase (30Sep2020 - 07Oct2020): finished  462 trials in 0 min 10 sec"
     ]
    },
    {
     "name": "stdout",
     "output_type": "stream",
     "text": [
      "\n"
     ]
    },
    {
     "name": "stdout",
     "output_type": "stream",
     "text": [
      "\tKWT,  2nd phase (28May2020 - 07Jun2020): finished 1924 trials in 1 min  0 sec"
     ]
    },
    {
     "name": "stdout",
     "output_type": "stream",
     "text": [
      "\n"
     ]
    },
    {
     "name": "stdout",
     "output_type": "stream",
     "text": [
      "\tBOL,  7th phase (10Aug2020 - 17Aug2020): finished  462 trials in 0 min 10 sec"
     ]
    },
    {
     "name": "stdout",
     "output_type": "stream",
     "text": [
      "\n"
     ]
    },
    {
     "name": "stdout",
     "output_type": "stream",
     "text": [
      "\tUSA,  1st phase (03May2020 - 02Jun2020): finished 1739 trials in 1 min  0 sec"
     ]
    },
    {
     "name": "stdout",
     "output_type": "stream",
     "text": [
      "\n"
     ]
    },
    {
     "name": "stdout",
     "output_type": "stream",
     "text": [
      "\tLVA,  7th phase (09Jul2020 - 06Aug2020): finished 1971 trials in 1 min  0 sec"
     ]
    },
    {
     "name": "stdout",
     "output_type": "stream",
     "text": [
      "\n"
     ]
    },
    {
     "name": "stdout",
     "output_type": "stream",
     "text": [
      "\tIRN,  4th phase (15Jun2020 - 30Jun2020): finished 1629 trials in 1 min  0 sec"
     ]
    },
    {
     "name": "stdout",
     "output_type": "stream",
     "text": [
      "\n"
     ]
    },
    {
     "name": "stdout",
     "output_type": "stream",
     "text": [
      "\tMEX,  9th phase (08Sep2020 - 23Sep2020): finished 1610 trials in 1 min  0 sec"
     ]
    },
    {
     "name": "stdout",
     "output_type": "stream",
     "text": [
      "\n"
     ]
    },
    {
     "name": "stdout",
     "output_type": "stream",
     "text": [
      "\tFRA, 10th phase (25Sep2020 - 08Oct2020): finished  529 trials in 0 min 15 sec"
     ]
    },
    {
     "name": "stdout",
     "output_type": "stream",
     "text": [
      "\n"
     ]
    },
    {
     "name": "stdout",
     "output_type": "stream",
     "text": [
      "\tARE,  5th phase (02Jul2020 - 20Jul2020): finished 1736 trials in 1 min  0 sec"
     ]
    },
    {
     "name": "stdout",
     "output_type": "stream",
     "text": [
      "\n"
     ]
    },
    {
     "name": "stdout",
     "output_type": "stream",
     "text": [
      "\tKWT,  5th phase (07Jul2020 - 21Jul2020): finished 1839 trials in 1 min  0 sec"
     ]
    },
    {
     "name": "stdout",
     "output_type": "stream",
     "text": [
      "\n"
     ]
    },
    {
     "name": "stdout",
     "output_type": "stream",
     "text": [
      "\tITA,  0th phase (24Feb2020 - 20Mar2020): finished 1813 trials in 1 min  0 sec"
     ]
    },
    {
     "name": "stdout",
     "output_type": "stream",
     "text": [
      "\n"
     ]
    },
    {
     "name": "stdout",
     "output_type": "stream",
     "text": [
      "\tIRN,  5th phase (01Jul2020 - 16Jul2020): finished  215 trials in 0 min  5 sec"
     ]
    },
    {
     "name": "stdout",
     "output_type": "stream",
     "text": [
      "\n"
     ]
    },
    {
     "name": "stdout",
     "output_type": "stream",
     "text": [
      "Completed optimization. Total: 37 min  9 sec\n"
     ]
    }
   ],
   "source": [
    "# Parameter estimation with SIR-F model\n",
    "analyser.estimate(cs.SIRF)"
   ]
  },
  {
   "cell_type": "code",
   "execution_count": 12,
   "metadata": {
    "collapsed": false
   },
   "outputs": [
    {
     "data": {
      "text/html": [
       "<div>\n",
       "<style scoped>\n",
       "    .dataframe tbody tr th:only-of-type {\n",
       "        vertical-align: middle;\n",
       "    }\n",
       "\n",
       "    .dataframe tbody tr th {\n",
       "        vertical-align: top;\n",
       "    }\n",
       "\n",
       "    .dataframe thead th {\n",
       "        text-align: right;\n",
       "    }\n",
       "</style>\n",
       "<table border=\"1\" class=\"dataframe\">\n",
       "  <thead>\n",
       "    <tr style=\"text-align: right;\">\n",
       "      <th></th>\n",
       "      <th></th>\n",
       "      <th>Type</th>\n",
       "      <th>Start</th>\n",
       "      <th>End</th>\n",
       "      <th>Population</th>\n",
       "      <th>ODE</th>\n",
       "      <th>Rt</th>\n",
       "      <th>theta</th>\n",
       "      <th>kappa</th>\n",
       "      <th>rho</th>\n",
       "      <th>sigma</th>\n",
       "      <th>tau</th>\n",
       "      <th>1/beta [day]</th>\n",
       "      <th>1/alpha2 [day]</th>\n",
       "      <th>1/gamma [day]</th>\n",
       "      <th>alpha1 [-]</th>\n",
       "      <th>RMSLE</th>\n",
       "      <th>Trials</th>\n",
       "      <th>Runtime</th>\n",
       "    </tr>\n",
       "    <tr>\n",
       "      <th>Country</th>\n",
       "      <th>Phase</th>\n",
       "      <th></th>\n",
       "      <th></th>\n",
       "      <th></th>\n",
       "      <th></th>\n",
       "      <th></th>\n",
       "      <th></th>\n",
       "      <th></th>\n",
       "      <th></th>\n",
       "      <th></th>\n",
       "      <th></th>\n",
       "      <th></th>\n",
       "      <th></th>\n",
       "      <th></th>\n",
       "      <th></th>\n",
       "      <th></th>\n",
       "      <th></th>\n",
       "      <th></th>\n",
       "      <th></th>\n",
       "    </tr>\n",
       "  </thead>\n",
       "  <tbody>\n",
       "    <tr>\n",
       "      <th rowspan=\"14\" valign=\"top\">Russia</th>\n",
       "      <th>0th</th>\n",
       "      <td>Past</td>\n",
       "      <td>12Feb2020</td>\n",
       "      <td>07May2020</td>\n",
       "      <td>330457362</td>\n",
       "      <td>SIR-F</td>\n",
       "      <td>0.02</td>\n",
       "      <td>0.602763</td>\n",
       "      <td>0.544883</td>\n",
       "      <td>0.033660</td>\n",
       "      <td>0.002318</td>\n",
       "      <td>360</td>\n",
       "      <td>7</td>\n",
       "      <td>0</td>\n",
       "      <td>107</td>\n",
       "      <td>0.603</td>\n",
       "      <td>19.313273</td>\n",
       "      <td>1920</td>\n",
       "      <td>1 min  0 sec</td>\n",
       "    </tr>\n",
       "    <tr>\n",
       "      <th>1st</th>\n",
       "      <td>Past</td>\n",
       "      <td>08May2020</td>\n",
       "      <td>18May2020</td>\n",
       "      <td>330457362</td>\n",
       "      <td>SIR-F</td>\n",
       "      <td>2.40</td>\n",
       "      <td>0.000593</td>\n",
       "      <td>0.000114</td>\n",
       "      <td>0.011793</td>\n",
       "      <td>0.004805</td>\n",
       "      <td>360</td>\n",
       "      <td>21</td>\n",
       "      <td>2200</td>\n",
       "      <td>52</td>\n",
       "      <td>0.001</td>\n",
       "      <td>0.090432</td>\n",
       "      <td>1984</td>\n",
       "      <td>1 min  0 sec</td>\n",
       "    </tr>\n",
       "    <tr>\n",
       "      <th>2nd</th>\n",
       "      <td>Past</td>\n",
       "      <td>19May2020</td>\n",
       "      <td>30May2020</td>\n",
       "      <td>330457362</td>\n",
       "      <td>SIR-F</td>\n",
       "      <td>1.04</td>\n",
       "      <td>0.000327</td>\n",
       "      <td>0.000113</td>\n",
       "      <td>0.006214</td>\n",
       "      <td>0.005850</td>\n",
       "      <td>360</td>\n",
       "      <td>40</td>\n",
       "      <td>2208</td>\n",
       "      <td>42</td>\n",
       "      <td>0.000</td>\n",
       "      <td>0.129970</td>\n",
       "      <td>1471</td>\n",
       "      <td>1 min  0 sec</td>\n",
       "    </tr>\n",
       "    <tr>\n",
       "      <th>3rd</th>\n",
       "      <td>Past</td>\n",
       "      <td>31May2020</td>\n",
       "      <td>10Jun2020</td>\n",
       "      <td>330457362</td>\n",
       "      <td>SIR-F</td>\n",
       "      <td>0.95</td>\n",
       "      <td>0.018133</td>\n",
       "      <td>0.000010</td>\n",
       "      <td>0.004908</td>\n",
       "      <td>0.005071</td>\n",
       "      <td>360</td>\n",
       "      <td>50</td>\n",
       "      <td>25076</td>\n",
       "      <td>49</td>\n",
       "      <td>0.018</td>\n",
       "      <td>0.090780</td>\n",
       "      <td>1841</td>\n",
       "      <td>1 min  0 sec</td>\n",
       "    </tr>\n",
       "    <tr>\n",
       "      <th>4th</th>\n",
       "      <td>Past</td>\n",
       "      <td>11Jun2020</td>\n",
       "      <td>20Jun2020</td>\n",
       "      <td>330457362</td>\n",
       "      <td>SIR-F</td>\n",
       "      <td>1.01</td>\n",
       "      <td>0.018282</td>\n",
       "      <td>0.000010</td>\n",
       "      <td>0.003841</td>\n",
       "      <td>0.003732</td>\n",
       "      <td>360</td>\n",
       "      <td>65</td>\n",
       "      <td>25086</td>\n",
       "      <td>66</td>\n",
       "      <td>0.018</td>\n",
       "      <td>0.058438</td>\n",
       "      <td>1411</td>\n",
       "      <td>1 min  0 sec</td>\n",
       "    </tr>\n",
       "    <tr>\n",
       "      <th>5th</th>\n",
       "      <td>Past</td>\n",
       "      <td>21Jun2020</td>\n",
       "      <td>03Jul2020</td>\n",
       "      <td>330457362</td>\n",
       "      <td>SIR-F</td>\n",
       "      <td>1.06</td>\n",
       "      <td>0.018343</td>\n",
       "      <td>0.000010</td>\n",
       "      <td>0.002673</td>\n",
       "      <td>0.002477</td>\n",
       "      <td>360</td>\n",
       "      <td>93</td>\n",
       "      <td>25094</td>\n",
       "      <td>100</td>\n",
       "      <td>0.018</td>\n",
       "      <td>0.069406</td>\n",
       "      <td>1464</td>\n",
       "      <td>1 min  0 sec</td>\n",
       "    </tr>\n",
       "    <tr>\n",
       "      <th>6th</th>\n",
       "      <td>Past</td>\n",
       "      <td>04Jul2020</td>\n",
       "      <td>17Jul2020</td>\n",
       "      <td>330457362</td>\n",
       "      <td>SIR-F</td>\n",
       "      <td>0.82</td>\n",
       "      <td>0.025150</td>\n",
       "      <td>0.000002</td>\n",
       "      <td>0.002209</td>\n",
       "      <td>0.002617</td>\n",
       "      <td>360</td>\n",
       "      <td>113</td>\n",
       "      <td>103465</td>\n",
       "      <td>95</td>\n",
       "      <td>0.025</td>\n",
       "      <td>0.069530</td>\n",
       "      <td>1262</td>\n",
       "      <td>1 min  0 sec</td>\n",
       "    </tr>\n",
       "    <tr>\n",
       "      <th>7th</th>\n",
       "      <td>Past</td>\n",
       "      <td>18Jul2020</td>\n",
       "      <td>01Aug2020</td>\n",
       "      <td>330457362</td>\n",
       "      <td>SIR-F</td>\n",
       "      <td>0.70</td>\n",
       "      <td>0.018690</td>\n",
       "      <td>0.000010</td>\n",
       "      <td>0.001766</td>\n",
       "      <td>0.002465</td>\n",
       "      <td>360</td>\n",
       "      <td>141</td>\n",
       "      <td>25095</td>\n",
       "      <td>101</td>\n",
       "      <td>0.019</td>\n",
       "      <td>0.071522</td>\n",
       "      <td>1434</td>\n",
       "      <td>1 min  0 sec</td>\n",
       "    </tr>\n",
       "    <tr>\n",
       "      <th>8th</th>\n",
       "      <td>Past</td>\n",
       "      <td>02Aug2020</td>\n",
       "      <td>16Aug2020</td>\n",
       "      <td>330457362</td>\n",
       "      <td>SIR-F</td>\n",
       "      <td>0.74</td>\n",
       "      <td>0.016738</td>\n",
       "      <td>0.000006</td>\n",
       "      <td>0.001409</td>\n",
       "      <td>0.001864</td>\n",
       "      <td>360</td>\n",
       "      <td>177</td>\n",
       "      <td>40976</td>\n",
       "      <td>134</td>\n",
       "      <td>0.017</td>\n",
       "      <td>0.054740</td>\n",
       "      <td>1713</td>\n",
       "      <td>1 min  0 sec</td>\n",
       "    </tr>\n",
       "    <tr>\n",
       "      <th>9th</th>\n",
       "      <td>Past</td>\n",
       "      <td>17Aug2020</td>\n",
       "      <td>02Sep2020</td>\n",
       "      <td>330457362</td>\n",
       "      <td>SIR-F</td>\n",
       "      <td>0.81</td>\n",
       "      <td>0.018083</td>\n",
       "      <td>0.000006</td>\n",
       "      <td>0.001252</td>\n",
       "      <td>0.001503</td>\n",
       "      <td>360</td>\n",
       "      <td>199</td>\n",
       "      <td>40976</td>\n",
       "      <td>166</td>\n",
       "      <td>0.018</td>\n",
       "      <td>0.051830</td>\n",
       "      <td>1997</td>\n",
       "      <td>1 min  0 sec</td>\n",
       "    </tr>\n",
       "    <tr>\n",
       "      <th>10th</th>\n",
       "      <td>Past</td>\n",
       "      <td>03Sep2020</td>\n",
       "      <td>18Sep2020</td>\n",
       "      <td>330457362</td>\n",
       "      <td>SIR-F</td>\n",
       "      <td>1.02</td>\n",
       "      <td>0.001628</td>\n",
       "      <td>0.000021</td>\n",
       "      <td>0.001279</td>\n",
       "      <td>0.001232</td>\n",
       "      <td>360</td>\n",
       "      <td>195</td>\n",
       "      <td>11747</td>\n",
       "      <td>202</td>\n",
       "      <td>0.002</td>\n",
       "      <td>0.038815</td>\n",
       "      <td>1989</td>\n",
       "      <td>1 min  0 sec</td>\n",
       "    </tr>\n",
       "    <tr>\n",
       "      <th>11th</th>\n",
       "      <td>Past</td>\n",
       "      <td>19Sep2020</td>\n",
       "      <td>01Oct2020</td>\n",
       "      <td>330457362</td>\n",
       "      <td>SIR-F</td>\n",
       "      <td>1.58</td>\n",
       "      <td>0.000859</td>\n",
       "      <td>0.000021</td>\n",
       "      <td>0.001539</td>\n",
       "      <td>0.000949</td>\n",
       "      <td>360</td>\n",
       "      <td>162</td>\n",
       "      <td>11763</td>\n",
       "      <td>263</td>\n",
       "      <td>0.001</td>\n",
       "      <td>0.022627</td>\n",
       "      <td>1467</td>\n",
       "      <td>1 min  0 sec</td>\n",
       "    </tr>\n",
       "    <tr>\n",
       "      <th>12th</th>\n",
       "      <td>Past</td>\n",
       "      <td>02Oct2020</td>\n",
       "      <td>10Oct2020</td>\n",
       "      <td>330457362</td>\n",
       "      <td>SIR-F</td>\n",
       "      <td>1.94</td>\n",
       "      <td>0.001370</td>\n",
       "      <td>0.000031</td>\n",
       "      <td>0.002344</td>\n",
       "      <td>0.001177</td>\n",
       "      <td>360</td>\n",
       "      <td>106</td>\n",
       "      <td>8002</td>\n",
       "      <td>212</td>\n",
       "      <td>0.001</td>\n",
       "      <td>0.014059</td>\n",
       "      <td>1207</td>\n",
       "      <td>1 min  0 sec</td>\n",
       "    </tr>\n",
       "    <tr>\n",
       "      <th>13th</th>\n",
       "      <td>Past</td>\n",
       "      <td>11Oct2020</td>\n",
       "      <td>19Oct2020</td>\n",
       "      <td>330457362</td>\n",
       "      <td>SIR-F</td>\n",
       "      <td>2.11</td>\n",
       "      <td>0.000019</td>\n",
       "      <td>0.000041</td>\n",
       "      <td>0.002584</td>\n",
       "      <td>0.001184</td>\n",
       "      <td>360</td>\n",
       "      <td>96</td>\n",
       "      <td>6135</td>\n",
       "      <td>211</td>\n",
       "      <td>0.000</td>\n",
       "      <td>0.007807</td>\n",
       "      <td>1968</td>\n",
       "      <td>1 min  0 sec</td>\n",
       "    </tr>\n",
       "  </tbody>\n",
       "</table>\n",
       "</div>"
      ],
      "text/plain": [
       "               Type      Start        End  Population    ODE    Rt     theta  \\\n",
       "Country Phase                                                                  \n",
       "Russia  0th    Past  12Feb2020  07May2020   330457362  SIR-F  0.02  0.602763   \n",
       "        1st    Past  08May2020  18May2020   330457362  SIR-F  2.40  0.000593   \n",
       "        2nd    Past  19May2020  30May2020   330457362  SIR-F  1.04  0.000327   \n",
       "        3rd    Past  31May2020  10Jun2020   330457362  SIR-F  0.95  0.018133   \n",
       "        4th    Past  11Jun2020  20Jun2020   330457362  SIR-F  1.01  0.018282   \n",
       "        5th    Past  21Jun2020  03Jul2020   330457362  SIR-F  1.06  0.018343   \n",
       "        6th    Past  04Jul2020  17Jul2020   330457362  SIR-F  0.82  0.025150   \n",
       "        7th    Past  18Jul2020  01Aug2020   330457362  SIR-F  0.70  0.018690   \n",
       "        8th    Past  02Aug2020  16Aug2020   330457362  SIR-F  0.74  0.016738   \n",
       "        9th    Past  17Aug2020  02Sep2020   330457362  SIR-F  0.81  0.018083   \n",
       "        10th   Past  03Sep2020  18Sep2020   330457362  SIR-F  1.02  0.001628   \n",
       "        11th   Past  19Sep2020  01Oct2020   330457362  SIR-F  1.58  0.000859   \n",
       "        12th   Past  02Oct2020  10Oct2020   330457362  SIR-F  1.94  0.001370   \n",
       "        13th   Past  11Oct2020  19Oct2020   330457362  SIR-F  2.11  0.000019   \n",
       "\n",
       "                  kappa       rho     sigma  tau  1/beta [day]  \\\n",
       "Country Phase                                                    \n",
       "Russia  0th    0.544883  0.033660  0.002318  360             7   \n",
       "        1st    0.000114  0.011793  0.004805  360            21   \n",
       "        2nd    0.000113  0.006214  0.005850  360            40   \n",
       "        3rd    0.000010  0.004908  0.005071  360            50   \n",
       "        4th    0.000010  0.003841  0.003732  360            65   \n",
       "        5th    0.000010  0.002673  0.002477  360            93   \n",
       "        6th    0.000002  0.002209  0.002617  360           113   \n",
       "        7th    0.000010  0.001766  0.002465  360           141   \n",
       "        8th    0.000006  0.001409  0.001864  360           177   \n",
       "        9th    0.000006  0.001252  0.001503  360           199   \n",
       "        10th   0.000021  0.001279  0.001232  360           195   \n",
       "        11th   0.000021  0.001539  0.000949  360           162   \n",
       "        12th   0.000031  0.002344  0.001177  360           106   \n",
       "        13th   0.000041  0.002584  0.001184  360            96   \n",
       "\n",
       "               1/alpha2 [day]  1/gamma [day]  alpha1 [-]      RMSLE  Trials  \\\n",
       "Country Phase                                                                 \n",
       "Russia  0th                 0            107       0.603  19.313273    1920   \n",
       "        1st              2200             52       0.001   0.090432    1984   \n",
       "        2nd              2208             42       0.000   0.129970    1471   \n",
       "        3rd             25076             49       0.018   0.090780    1841   \n",
       "        4th             25086             66       0.018   0.058438    1411   \n",
       "        5th             25094            100       0.018   0.069406    1464   \n",
       "        6th            103465             95       0.025   0.069530    1262   \n",
       "        7th             25095            101       0.019   0.071522    1434   \n",
       "        8th             40976            134       0.017   0.054740    1713   \n",
       "        9th             40976            166       0.018   0.051830    1997   \n",
       "        10th            11747            202       0.002   0.038815    1989   \n",
       "        11th            11763            263       0.001   0.022627    1467   \n",
       "        12th             8002            212       0.001   0.014059    1207   \n",
       "        13th             6135            211       0.000   0.007807    1968   \n",
       "\n",
       "                    Runtime  \n",
       "Country Phase                \n",
       "Russia  0th    1 min  0 sec  \n",
       "        1st    1 min  0 sec  \n",
       "        2nd    1 min  0 sec  \n",
       "        3rd    1 min  0 sec  \n",
       "        4th    1 min  0 sec  \n",
       "        5th    1 min  0 sec  \n",
       "        6th    1 min  0 sec  \n",
       "        7th    1 min  0 sec  \n",
       "        8th    1 min  0 sec  \n",
       "        9th    1 min  0 sec  \n",
       "        10th   1 min  0 sec  \n",
       "        11th   1 min  0 sec  \n",
       "        12th   1 min  0 sec  \n",
       "        13th   1 min  0 sec  "
      ]
     },
     "execution_count": 12,
     "metadata": {},
     "output_type": "execute_result"
    }
   ],
   "source": [
    "# Show summary\n",
    "analyser.summary(countries=countries_show)"
   ]
  },
  {
   "cell_type": "markdown",
   "metadata": {},
   "source": [
    "## Compare the history of parameters\n",
    "Here, compare the history of parameter values if countries."
   ]
  },
  {
   "cell_type": "code",
   "execution_count": 13,
   "metadata": {
    "collapsed": false
   },
   "outputs": [
    {
     "data": {
      "text/html": [
       "<div>\n",
       "<style scoped>\n",
       "    .dataframe tbody tr th:only-of-type {\n",
       "        vertical-align: middle;\n",
       "    }\n",
       "\n",
       "    .dataframe tbody tr th {\n",
       "        vertical-align: top;\n",
       "    }\n",
       "\n",
       "    .dataframe thead th {\n",
       "        text-align: right;\n",
       "    }\n",
       "</style>\n",
       "<table border=\"1\" class=\"dataframe\">\n",
       "  <thead>\n",
       "    <tr style=\"text-align: right;\">\n",
       "      <th></th>\n",
       "      <th>Date</th>\n",
       "      <th>Country</th>\n",
       "      <th>theta</th>\n",
       "      <th>kappa</th>\n",
       "      <th>rho</th>\n",
       "      <th>sigma</th>\n",
       "      <th>alpha1 [-]</th>\n",
       "      <th>1/alpha2 [day]</th>\n",
       "      <th>1/beta [day]</th>\n",
       "      <th>1/gamma [day]</th>\n",
       "      <th>...</th>\n",
       "      <th>Cancel_events</th>\n",
       "      <th>Gatherings_restrictions</th>\n",
       "      <th>Transport_closing</th>\n",
       "      <th>Stay_home_restrictions</th>\n",
       "      <th>Internal_movement_restrictions</th>\n",
       "      <th>International_movement_restrictions</th>\n",
       "      <th>Information_campaigns</th>\n",
       "      <th>Testing_policy</th>\n",
       "      <th>Contact_tracing</th>\n",
       "      <th>Stringency_index</th>\n",
       "    </tr>\n",
       "  </thead>\n",
       "  <tbody>\n",
       "    <tr>\n",
       "      <th>0</th>\n",
       "      <td>2020-02-24</td>\n",
       "      <td>Italy</td>\n",
       "      <td>0.0474719</td>\n",
       "      <td>0.000652002</td>\n",
       "      <td>0.0570067</td>\n",
       "      <td>0.00246747</td>\n",
       "      <td>0.047</td>\n",
       "      <td>383</td>\n",
       "      <td>4</td>\n",
       "      <td>101</td>\n",
       "      <td>...</td>\n",
       "      <td>2</td>\n",
       "      <td>4</td>\n",
       "      <td>0</td>\n",
       "      <td>2</td>\n",
       "      <td>2</td>\n",
       "      <td>3</td>\n",
       "      <td>2</td>\n",
       "      <td>1</td>\n",
       "      <td>2</td>\n",
       "      <td>69.91</td>\n",
       "    </tr>\n",
       "    <tr>\n",
       "      <th>1</th>\n",
       "      <td>2020-02-24</td>\n",
       "      <td>Italy</td>\n",
       "      <td>0.0474719</td>\n",
       "      <td>0.000652002</td>\n",
       "      <td>0.0570067</td>\n",
       "      <td>0.00246747</td>\n",
       "      <td>0.047</td>\n",
       "      <td>383</td>\n",
       "      <td>4</td>\n",
       "      <td>101</td>\n",
       "      <td>...</td>\n",
       "      <td>2</td>\n",
       "      <td>4</td>\n",
       "      <td>0</td>\n",
       "      <td>2</td>\n",
       "      <td>2</td>\n",
       "      <td>3</td>\n",
       "      <td>2</td>\n",
       "      <td>1</td>\n",
       "      <td>2</td>\n",
       "      <td>69.91</td>\n",
       "    </tr>\n",
       "    <tr>\n",
       "      <th>2</th>\n",
       "      <td>2020-02-24</td>\n",
       "      <td>Italy</td>\n",
       "      <td>0.0474719</td>\n",
       "      <td>0.000652002</td>\n",
       "      <td>0.0570067</td>\n",
       "      <td>0.00246747</td>\n",
       "      <td>0.047</td>\n",
       "      <td>383</td>\n",
       "      <td>4</td>\n",
       "      <td>101</td>\n",
       "      <td>...</td>\n",
       "      <td>2</td>\n",
       "      <td>4</td>\n",
       "      <td>0</td>\n",
       "      <td>2</td>\n",
       "      <td>2</td>\n",
       "      <td>3</td>\n",
       "      <td>2</td>\n",
       "      <td>1</td>\n",
       "      <td>2</td>\n",
       "      <td>69.91</td>\n",
       "    </tr>\n",
       "    <tr>\n",
       "      <th>3</th>\n",
       "      <td>2020-02-24</td>\n",
       "      <td>Italy</td>\n",
       "      <td>0.0474719</td>\n",
       "      <td>0.000652002</td>\n",
       "      <td>0.0570067</td>\n",
       "      <td>0.00246747</td>\n",
       "      <td>0.047</td>\n",
       "      <td>383</td>\n",
       "      <td>4</td>\n",
       "      <td>101</td>\n",
       "      <td>...</td>\n",
       "      <td>2</td>\n",
       "      <td>4</td>\n",
       "      <td>0</td>\n",
       "      <td>2</td>\n",
       "      <td>2</td>\n",
       "      <td>3</td>\n",
       "      <td>2</td>\n",
       "      <td>1</td>\n",
       "      <td>2</td>\n",
       "      <td>69.91</td>\n",
       "    </tr>\n",
       "    <tr>\n",
       "      <th>4</th>\n",
       "      <td>2020-02-24</td>\n",
       "      <td>Italy</td>\n",
       "      <td>0.0474719</td>\n",
       "      <td>0.000652002</td>\n",
       "      <td>0.0570067</td>\n",
       "      <td>0.00246747</td>\n",
       "      <td>0.047</td>\n",
       "      <td>383</td>\n",
       "      <td>4</td>\n",
       "      <td>101</td>\n",
       "      <td>...</td>\n",
       "      <td>2</td>\n",
       "      <td>4</td>\n",
       "      <td>0</td>\n",
       "      <td>2</td>\n",
       "      <td>2</td>\n",
       "      <td>3</td>\n",
       "      <td>2</td>\n",
       "      <td>1</td>\n",
       "      <td>2</td>\n",
       "      <td>69.91</td>\n",
       "    </tr>\n",
       "  </tbody>\n",
       "</table>\n",
       "<p>5 rows × 23 columns</p>\n",
       "</div>"
      ],
      "text/plain": [
       "        Date Country      theta        kappa        rho       sigma  \\\n",
       "0 2020-02-24   Italy  0.0474719  0.000652002  0.0570067  0.00246747   \n",
       "1 2020-02-24   Italy  0.0474719  0.000652002  0.0570067  0.00246747   \n",
       "2 2020-02-24   Italy  0.0474719  0.000652002  0.0570067  0.00246747   \n",
       "3 2020-02-24   Italy  0.0474719  0.000652002  0.0570067  0.00246747   \n",
       "4 2020-02-24   Italy  0.0474719  0.000652002  0.0570067  0.00246747   \n",
       "\n",
       "  alpha1 [-] 1/alpha2 [day] 1/beta [day] 1/gamma [day]  ... Cancel_events  \\\n",
       "0      0.047            383            4           101  ...             2   \n",
       "1      0.047            383            4           101  ...             2   \n",
       "2      0.047            383            4           101  ...             2   \n",
       "3      0.047            383            4           101  ...             2   \n",
       "4      0.047            383            4           101  ...             2   \n",
       "\n",
       "   Gatherings_restrictions  Transport_closing  Stay_home_restrictions  \\\n",
       "0                        4                  0                       2   \n",
       "1                        4                  0                       2   \n",
       "2                        4                  0                       2   \n",
       "3                        4                  0                       2   \n",
       "4                        4                  0                       2   \n",
       "\n",
       "   Internal_movement_restrictions  International_movement_restrictions  \\\n",
       "0                               2                                    3   \n",
       "1                               2                                    3   \n",
       "2                               2                                    3   \n",
       "3                               2                                    3   \n",
       "4                               2                                    3   \n",
       "\n",
       "   Information_campaigns  Testing_policy  Contact_tracing  Stringency_index  \n",
       "0                      2               1                2             69.91  \n",
       "1                      2               1                2             69.91  \n",
       "2                      2               1                2             69.91  \n",
       "3                      2               1                2             69.91  \n",
       "4                      2               1                2             69.91  \n",
       "\n",
       "[5 rows x 23 columns]"
      ]
     },
     "execution_count": 13,
     "metadata": {},
     "output_type": "execute_result"
    }
   ],
   "source": [
    "# All parameter/day parameter/Rt/OxCGRT\n",
    "analyser.track().head()"
   ]
  },
  {
   "cell_type": "markdown",
   "metadata": {},
   "source": [
    "### $Rt$: Reprodcution number $\\mathrm{[-]}$"
   ]
  },
  {
   "cell_type": "code",
   "execution_count": 14,
   "metadata": {
    "collapsed": false
   },
   "outputs": [
    {
     "data": {
      "image/png": "[encoded data removed]",
      "text/plain": [
       "<Figure size 648x432 with 1 Axes>"
      ]
     },
     "metadata": {},
     "output_type": "display_data"
    },
    {
     "data": {
      "text/html": [
       "<div>\n",
       "<style scoped>\n",
       "    .dataframe tbody tr th:only-of-type {\n",
       "        vertical-align: middle;\n",
       "    }\n",
       "\n",
       "    .dataframe tbody tr th {\n",
       "        vertical-align: top;\n",
       "    }\n",
       "\n",
       "    .dataframe thead th {\n",
       "        text-align: right;\n",
       "    }\n",
       "</style>\n",
       "<table border=\"1\" class=\"dataframe\">\n",
       "  <thead>\n",
       "    <tr style=\"text-align: right;\">\n",
       "      <th>Country</th>\n",
       "      <th>Algeria</th>\n",
       "      <th>Bahrain</th>\n",
       "      <th>Bolivia</th>\n",
       "      <th>Brazil</th>\n",
       "      <th>Dominican Republic</th>\n",
       "      <th>France</th>\n",
       "      <th>Iran</th>\n",
       "      <th>Iraq</th>\n",
       "      <th>Italy</th>\n",
       "      <th>Kuwait</th>\n",
       "      <th>Latvia</th>\n",
       "      <th>Mexico</th>\n",
       "      <th>Nigeria</th>\n",
       "      <th>Russia</th>\n",
       "      <th>Turkey</th>\n",
       "      <th>United Arab Emirates</th>\n",
       "      <th>United States</th>\n",
       "    </tr>\n",
       "    <tr>\n",
       "      <th>Date</th>\n",
       "      <th></th>\n",
       "      <th></th>\n",
       "      <th></th>\n",
       "      <th></th>\n",
       "      <th></th>\n",
       "      <th></th>\n",
       "      <th></th>\n",
       "      <th></th>\n",
       "      <th></th>\n",
       "      <th></th>\n",
       "      <th></th>\n",
       "      <th></th>\n",
       "      <th></th>\n",
       "      <th></th>\n",
       "      <th></th>\n",
       "      <th></th>\n",
       "      <th></th>\n",
       "    </tr>\n",
       "  </thead>\n",
       "  <tbody>\n",
       "    <tr>\n",
       "      <th>2020-10-15</th>\n",
       "      <td>1.49</td>\n",
       "      <td>0.77</td>\n",
       "      <td>0.64</td>\n",
       "      <td>1.04</td>\n",
       "      <td>0.67</td>\n",
       "      <td>34.11</td>\n",
       "      <td>1.55</td>\n",
       "      <td>1.11</td>\n",
       "      <td>4.45</td>\n",
       "      <td>1.03</td>\n",
       "      <td>278.72</td>\n",
       "      <td>1.13</td>\n",
       "      <td>0.92</td>\n",
       "      <td>2.11</td>\n",
       "      <td>1.43</td>\n",
       "      <td>0.91</td>\n",
       "      <td>2.42</td>\n",
       "    </tr>\n",
       "    <tr>\n",
       "      <th>2020-10-16</th>\n",
       "      <td>1.49</td>\n",
       "      <td>0.77</td>\n",
       "      <td>0.64</td>\n",
       "      <td>1.04</td>\n",
       "      <td>0.67</td>\n",
       "      <td>34.11</td>\n",
       "      <td>1.55</td>\n",
       "      <td>1.11</td>\n",
       "      <td>4.45</td>\n",
       "      <td>1.03</td>\n",
       "      <td>278.72</td>\n",
       "      <td>1.13</td>\n",
       "      <td>0.92</td>\n",
       "      <td>2.11</td>\n",
       "      <td>1.43</td>\n",
       "      <td>0.91</td>\n",
       "      <td>2.42</td>\n",
       "    </tr>\n",
       "    <tr>\n",
       "      <th>2020-10-17</th>\n",
       "      <td>1.49</td>\n",
       "      <td>0.77</td>\n",
       "      <td>0.64</td>\n",
       "      <td>1.04</td>\n",
       "      <td>0.67</td>\n",
       "      <td>34.11</td>\n",
       "      <td>1.55</td>\n",
       "      <td>1.11</td>\n",
       "      <td>4.45</td>\n",
       "      <td>1.03</td>\n",
       "      <td>278.72</td>\n",
       "      <td>1.13</td>\n",
       "      <td>0.92</td>\n",
       "      <td>2.11</td>\n",
       "      <td>1.43</td>\n",
       "      <td>0.91</td>\n",
       "      <td>2.42</td>\n",
       "    </tr>\n",
       "    <tr>\n",
       "      <th>2020-10-18</th>\n",
       "      <td>1.49</td>\n",
       "      <td>0.77</td>\n",
       "      <td>0.64</td>\n",
       "      <td>1.04</td>\n",
       "      <td>0.67</td>\n",
       "      <td>34.11</td>\n",
       "      <td>1.55</td>\n",
       "      <td>1.11</td>\n",
       "      <td>4.45</td>\n",
       "      <td>1.03</td>\n",
       "      <td>278.72</td>\n",
       "      <td>1.13</td>\n",
       "      <td>0.92</td>\n",
       "      <td>2.11</td>\n",
       "      <td>1.43</td>\n",
       "      <td>0.91</td>\n",
       "      <td>2.42</td>\n",
       "    </tr>\n",
       "    <tr>\n",
       "      <th>2020-10-19</th>\n",
       "      <td>1.49</td>\n",
       "      <td>0.77</td>\n",
       "      <td>0.64</td>\n",
       "      <td>1.04</td>\n",
       "      <td>0.67</td>\n",
       "      <td>34.11</td>\n",
       "      <td>1.55</td>\n",
       "      <td>1.11</td>\n",
       "      <td>4.45</td>\n",
       "      <td>1.03</td>\n",
       "      <td>278.72</td>\n",
       "      <td>1.13</td>\n",
       "      <td>0.92</td>\n",
       "      <td>2.11</td>\n",
       "      <td>1.43</td>\n",
       "      <td>0.91</td>\n",
       "      <td>2.42</td>\n",
       "    </tr>\n",
       "  </tbody>\n",
       "</table>\n",
       "</div>"
      ],
      "text/plain": [
       "Country     Algeria  Bahrain  Bolivia  Brazil  Dominican Republic  France  \\\n",
       "Date                                                                        \n",
       "2020-10-15     1.49     0.77     0.64    1.04                0.67   34.11   \n",
       "2020-10-16     1.49     0.77     0.64    1.04                0.67   34.11   \n",
       "2020-10-17     1.49     0.77     0.64    1.04                0.67   34.11   \n",
       "2020-10-18     1.49     0.77     0.64    1.04                0.67   34.11   \n",
       "2020-10-19     1.49     0.77     0.64    1.04                0.67   34.11   \n",
       "\n",
       "Country     Iran  Iraq  Italy  Kuwait  Latvia  Mexico  Nigeria  Russia  \\\n",
       "Date                                                                     \n",
       "2020-10-15  1.55  1.11   4.45    1.03  278.72    1.13     0.92    2.11   \n",
       "2020-10-16  1.55  1.11   4.45    1.03  278.72    1.13     0.92    2.11   \n",
       "2020-10-17  1.55  1.11   4.45    1.03  278.72    1.13     0.92    2.11   \n",
       "2020-10-18  1.55  1.11   4.45    1.03  278.72    1.13     0.92    2.11   \n",
       "2020-10-19  1.55  1.11   4.45    1.03  278.72    1.13     0.92    2.11   \n",
       "\n",
       "Country     Turkey  United Arab Emirates  United States  \n",
       "Date                                                     \n",
       "2020-10-15    1.43                  0.91           2.42  \n",
       "2020-10-16    1.43                  0.91           2.42  \n",
       "2020-10-17    1.43                  0.91           2.42  \n",
       "2020-10-18    1.43                  0.91           2.42  \n",
       "2020-10-19    1.43                  0.91           2.42  "
      ]
     },
     "execution_count": 14,
     "metadata": {},
     "output_type": "execute_result"
    }
   ],
   "source": [
    "analyser.param_history(\"Rt\", roll_window=None).tail()"
   ]
  },
  {
   "cell_type": "markdown",
   "metadata": {},
   "source": [
    "### $\\rho$: Effective contact rate $\\mathrm{[-]}$"
   ]
  },
  {
   "cell_type": "code",
   "execution_count": 15,
   "metadata": {
    "collapsed": false
   },
   "outputs": [
    {
     "data": {
      "image/png": "[encoded data removed]",
      "text/plain": [
       "<Figure size 648x432 with 1 Axes>"
      ]
     },
     "metadata": {},
     "output_type": "display_data"
    },
    {
     "data": {
      "text/html": [
       "<div>\n",
       "<style scoped>\n",
       "    .dataframe tbody tr th:only-of-type {\n",
       "        vertical-align: middle;\n",
       "    }\n",
       "\n",
       "    .dataframe tbody tr th {\n",
       "        vertical-align: top;\n",
       "    }\n",
       "\n",
       "    .dataframe thead th {\n",
       "        text-align: right;\n",
       "    }\n",
       "</style>\n",
       "<table border=\"1\" class=\"dataframe\">\n",
       "  <thead>\n",
       "    <tr style=\"text-align: right;\">\n",
       "      <th>Country</th>\n",
       "      <th>Algeria</th>\n",
       "      <th>Bahrain</th>\n",
       "      <th>Bolivia</th>\n",
       "      <th>Brazil</th>\n",
       "      <th>Dominican Republic</th>\n",
       "      <th>France</th>\n",
       "      <th>Iran</th>\n",
       "      <th>Iraq</th>\n",
       "      <th>Italy</th>\n",
       "      <th>Kuwait</th>\n",
       "      <th>Latvia</th>\n",
       "      <th>Mexico</th>\n",
       "      <th>Nigeria</th>\n",
       "      <th>Russia</th>\n",
       "      <th>Turkey</th>\n",
       "      <th>United Arab Emirates</th>\n",
       "      <th>United States</th>\n",
       "    </tr>\n",
       "    <tr>\n",
       "      <th>Date</th>\n",
       "      <th></th>\n",
       "      <th></th>\n",
       "      <th></th>\n",
       "      <th></th>\n",
       "      <th></th>\n",
       "      <th></th>\n",
       "      <th></th>\n",
       "      <th></th>\n",
       "      <th></th>\n",
       "      <th></th>\n",
       "      <th></th>\n",
       "      <th></th>\n",
       "      <th></th>\n",
       "      <th></th>\n",
       "      <th></th>\n",
       "      <th></th>\n",
       "      <th></th>\n",
       "    </tr>\n",
       "  </thead>\n",
       "  <tbody>\n",
       "    <tr>\n",
       "      <th>2020-10-15</th>\n",
       "      <td>0.002994</td>\n",
       "      <td>0.021558</td>\n",
       "      <td>0.003753</td>\n",
       "      <td>0.012313</td>\n",
       "      <td>0.007073</td>\n",
       "      <td>0.007973</td>\n",
       "      <td>0.016177</td>\n",
       "      <td>0.01869</td>\n",
       "      <td>0.019438</td>\n",
       "      <td>0.021903</td>\n",
       "      <td>0.008517</td>\n",
       "      <td>0.028069</td>\n",
       "      <td>0.00428</td>\n",
       "      <td>0.002584</td>\n",
       "      <td>0.017837</td>\n",
       "      <td>0.028509</td>\n",
       "      <td>0.002593</td>\n",
       "    </tr>\n",
       "    <tr>\n",
       "      <th>2020-10-16</th>\n",
       "      <td>0.002994</td>\n",
       "      <td>0.021558</td>\n",
       "      <td>0.003753</td>\n",
       "      <td>0.012313</td>\n",
       "      <td>0.007073</td>\n",
       "      <td>0.007973</td>\n",
       "      <td>0.016177</td>\n",
       "      <td>0.01869</td>\n",
       "      <td>0.019438</td>\n",
       "      <td>0.021903</td>\n",
       "      <td>0.008517</td>\n",
       "      <td>0.028069</td>\n",
       "      <td>0.00428</td>\n",
       "      <td>0.002584</td>\n",
       "      <td>0.017837</td>\n",
       "      <td>0.028509</td>\n",
       "      <td>0.002593</td>\n",
       "    </tr>\n",
       "    <tr>\n",
       "      <th>2020-10-17</th>\n",
       "      <td>0.002994</td>\n",
       "      <td>0.021558</td>\n",
       "      <td>0.003753</td>\n",
       "      <td>0.012313</td>\n",
       "      <td>0.007073</td>\n",
       "      <td>0.007973</td>\n",
       "      <td>0.016177</td>\n",
       "      <td>0.01869</td>\n",
       "      <td>0.019438</td>\n",
       "      <td>0.021903</td>\n",
       "      <td>0.008517</td>\n",
       "      <td>0.028069</td>\n",
       "      <td>0.00428</td>\n",
       "      <td>0.002584</td>\n",
       "      <td>0.017837</td>\n",
       "      <td>0.028509</td>\n",
       "      <td>0.002593</td>\n",
       "    </tr>\n",
       "    <tr>\n",
       "      <th>2020-10-18</th>\n",
       "      <td>0.002994</td>\n",
       "      <td>0.021558</td>\n",
       "      <td>0.003753</td>\n",
       "      <td>0.012313</td>\n",
       "      <td>0.007073</td>\n",
       "      <td>0.007973</td>\n",
       "      <td>0.016177</td>\n",
       "      <td>0.01869</td>\n",
       "      <td>0.019438</td>\n",
       "      <td>0.021903</td>\n",
       "      <td>0.008517</td>\n",
       "      <td>0.028069</td>\n",
       "      <td>0.00428</td>\n",
       "      <td>0.002584</td>\n",
       "      <td>0.017837</td>\n",
       "      <td>0.028509</td>\n",
       "      <td>0.002593</td>\n",
       "    </tr>\n",
       "    <tr>\n",
       "      <th>2020-10-19</th>\n",
       "      <td>0.002994</td>\n",
       "      <td>0.021558</td>\n",
       "      <td>0.003753</td>\n",
       "      <td>0.012313</td>\n",
       "      <td>0.007073</td>\n",
       "      <td>0.007973</td>\n",
       "      <td>0.016177</td>\n",
       "      <td>0.01869</td>\n",
       "      <td>0.019438</td>\n",
       "      <td>0.021903</td>\n",
       "      <td>0.008517</td>\n",
       "      <td>0.028069</td>\n",
       "      <td>0.00428</td>\n",
       "      <td>0.002584</td>\n",
       "      <td>0.017837</td>\n",
       "      <td>0.028509</td>\n",
       "      <td>0.002593</td>\n",
       "    </tr>\n",
       "  </tbody>\n",
       "</table>\n",
       "</div>"
      ],
      "text/plain": [
       "Country      Algeria   Bahrain   Bolivia    Brazil  Dominican Republic  \\\n",
       "Date                                                                     \n",
       "2020-10-15  0.002994  0.021558  0.003753  0.012313            0.007073   \n",
       "2020-10-16  0.002994  0.021558  0.003753  0.012313            0.007073   \n",
       "2020-10-17  0.002994  0.021558  0.003753  0.012313            0.007073   \n",
       "2020-10-18  0.002994  0.021558  0.003753  0.012313            0.007073   \n",
       "2020-10-19  0.002994  0.021558  0.003753  0.012313            0.007073   \n",
       "\n",
       "Country       France      Iran     Iraq     Italy    Kuwait    Latvia  \\\n",
       "Date                                                                    \n",
       "2020-10-15  0.007973  0.016177  0.01869  0.019438  0.021903  0.008517   \n",
       "2020-10-16  0.007973  0.016177  0.01869  0.019438  0.021903  0.008517   \n",
       "2020-10-17  0.007973  0.016177  0.01869  0.019438  0.021903  0.008517   \n",
       "2020-10-18  0.007973  0.016177  0.01869  0.019438  0.021903  0.008517   \n",
       "2020-10-19  0.007973  0.016177  0.01869  0.019438  0.021903  0.008517   \n",
       "\n",
       "Country       Mexico  Nigeria    Russia    Turkey  United Arab Emirates  \\\n",
       "Date                                                                      \n",
       "2020-10-15  0.028069  0.00428  0.002584  0.017837              0.028509   \n",
       "2020-10-16  0.028069  0.00428  0.002584  0.017837              0.028509   \n",
       "2020-10-17  0.028069  0.00428  0.002584  0.017837              0.028509   \n",
       "2020-10-18  0.028069  0.00428  0.002584  0.017837              0.028509   \n",
       "2020-10-19  0.028069  0.00428  0.002584  0.017837              0.028509   \n",
       "\n",
       "Country     United States  \n",
       "Date                       \n",
       "2020-10-15       0.002593  \n",
       "2020-10-16       0.002593  \n",
       "2020-10-17       0.002593  \n",
       "2020-10-18       0.002593  \n",
       "2020-10-19       0.002593  "
      ]
     },
     "execution_count": 15,
     "metadata": {},
     "output_type": "execute_result"
    }
   ],
   "source": [
    "analyser.param_history(\"rho\", roll_window=None).tail()"
   ]
  },
  {
   "cell_type": "markdown",
   "metadata": {},
   "source": [
    "### $\\sigma$: Recovery rate $\\mathrm{[-]}$"
   ]
  },
  {
   "cell_type": "code",
   "execution_count": 16,
   "metadata": {
    "collapsed": false
   },
   "outputs": [
    {
     "data": {
      "image/png": "[encoded data removed]",
      "text/plain": [
       "<Figure size 648x432 with 1 Axes>"
      ]
     },
     "metadata": {},
     "output_type": "display_data"
    },
    {
     "data": {
      "text/html": [
       "<div>\n",
       "<style scoped>\n",
       "    .dataframe tbody tr th:only-of-type {\n",
       "        vertical-align: middle;\n",
       "    }\n",
       "\n",
       "    .dataframe tbody tr th {\n",
       "        vertical-align: top;\n",
       "    }\n",
       "\n",
       "    .dataframe thead th {\n",
       "        text-align: right;\n",
       "    }\n",
       "</style>\n",
       "<table border=\"1\" class=\"dataframe\">\n",
       "  <thead>\n",
       "    <tr style=\"text-align: right;\">\n",
       "      <th>Country</th>\n",
       "      <th>Algeria</th>\n",
       "      <th>Bahrain</th>\n",
       "      <th>Bolivia</th>\n",
       "      <th>Brazil</th>\n",
       "      <th>Dominican Republic</th>\n",
       "      <th>France</th>\n",
       "      <th>Iran</th>\n",
       "      <th>Iraq</th>\n",
       "      <th>Italy</th>\n",
       "      <th>Kuwait</th>\n",
       "      <th>Latvia</th>\n",
       "      <th>Mexico</th>\n",
       "      <th>Nigeria</th>\n",
       "      <th>Russia</th>\n",
       "      <th>Turkey</th>\n",
       "      <th>United Arab Emirates</th>\n",
       "      <th>United States</th>\n",
       "    </tr>\n",
       "    <tr>\n",
       "      <th>Date</th>\n",
       "      <th></th>\n",
       "      <th></th>\n",
       "      <th></th>\n",
       "      <th></th>\n",
       "      <th></th>\n",
       "      <th></th>\n",
       "      <th></th>\n",
       "      <th></th>\n",
       "      <th></th>\n",
       "      <th></th>\n",
       "      <th></th>\n",
       "      <th></th>\n",
       "      <th></th>\n",
       "      <th></th>\n",
       "      <th></th>\n",
       "      <th></th>\n",
       "      <th></th>\n",
       "    </tr>\n",
       "  </thead>\n",
       "  <tbody>\n",
       "    <tr>\n",
       "      <th>2020-10-15</th>\n",
       "      <td>0.001903</td>\n",
       "      <td>0.027924</td>\n",
       "      <td>0.005593</td>\n",
       "      <td>0.011469</td>\n",
       "      <td>0.010392</td>\n",
       "      <td>0.00021</td>\n",
       "      <td>0.009822</td>\n",
       "      <td>0.016565</td>\n",
       "      <td>0.004273</td>\n",
       "      <td>0.021114</td>\n",
       "      <td>0.0</td>\n",
       "      <td>0.023035</td>\n",
       "      <td>0.004589</td>\n",
       "      <td>0.001184</td>\n",
       "      <td>0.011934</td>\n",
       "      <td>0.031345</td>\n",
       "      <td>0.001034</td>\n",
       "    </tr>\n",
       "    <tr>\n",
       "      <th>2020-10-16</th>\n",
       "      <td>0.001903</td>\n",
       "      <td>0.027924</td>\n",
       "      <td>0.005593</td>\n",
       "      <td>0.011469</td>\n",
       "      <td>0.010392</td>\n",
       "      <td>0.00021</td>\n",
       "      <td>0.009822</td>\n",
       "      <td>0.016565</td>\n",
       "      <td>0.004273</td>\n",
       "      <td>0.021114</td>\n",
       "      <td>0.0</td>\n",
       "      <td>0.023035</td>\n",
       "      <td>0.004589</td>\n",
       "      <td>0.001184</td>\n",
       "      <td>0.011934</td>\n",
       "      <td>0.031345</td>\n",
       "      <td>0.001034</td>\n",
       "    </tr>\n",
       "    <tr>\n",
       "      <th>2020-10-17</th>\n",
       "      <td>0.001903</td>\n",
       "      <td>0.027924</td>\n",
       "      <td>0.005593</td>\n",
       "      <td>0.011469</td>\n",
       "      <td>0.010392</td>\n",
       "      <td>0.00021</td>\n",
       "      <td>0.009822</td>\n",
       "      <td>0.016565</td>\n",
       "      <td>0.004273</td>\n",
       "      <td>0.021114</td>\n",
       "      <td>0.0</td>\n",
       "      <td>0.023035</td>\n",
       "      <td>0.004589</td>\n",
       "      <td>0.001184</td>\n",
       "      <td>0.011934</td>\n",
       "      <td>0.031345</td>\n",
       "      <td>0.001034</td>\n",
       "    </tr>\n",
       "    <tr>\n",
       "      <th>2020-10-18</th>\n",
       "      <td>0.001903</td>\n",
       "      <td>0.027924</td>\n",
       "      <td>0.005593</td>\n",
       "      <td>0.011469</td>\n",
       "      <td>0.010392</td>\n",
       "      <td>0.00021</td>\n",
       "      <td>0.009822</td>\n",
       "      <td>0.016565</td>\n",
       "      <td>0.004273</td>\n",
       "      <td>0.021114</td>\n",
       "      <td>0.0</td>\n",
       "      <td>0.023035</td>\n",
       "      <td>0.004589</td>\n",
       "      <td>0.001184</td>\n",
       "      <td>0.011934</td>\n",
       "      <td>0.031345</td>\n",
       "      <td>0.001034</td>\n",
       "    </tr>\n",
       "    <tr>\n",
       "      <th>2020-10-19</th>\n",
       "      <td>0.001903</td>\n",
       "      <td>0.027924</td>\n",
       "      <td>0.005593</td>\n",
       "      <td>0.011469</td>\n",
       "      <td>0.010392</td>\n",
       "      <td>0.00021</td>\n",
       "      <td>0.009822</td>\n",
       "      <td>0.016565</td>\n",
       "      <td>0.004273</td>\n",
       "      <td>0.021114</td>\n",
       "      <td>0.0</td>\n",
       "      <td>0.023035</td>\n",
       "      <td>0.004589</td>\n",
       "      <td>0.001184</td>\n",
       "      <td>0.011934</td>\n",
       "      <td>0.031345</td>\n",
       "      <td>0.001034</td>\n",
       "    </tr>\n",
       "  </tbody>\n",
       "</table>\n",
       "</div>"
      ],
      "text/plain": [
       "Country      Algeria   Bahrain   Bolivia    Brazil  Dominican Republic  \\\n",
       "Date                                                                     \n",
       "2020-10-15  0.001903  0.027924  0.005593  0.011469            0.010392   \n",
       "2020-10-16  0.001903  0.027924  0.005593  0.011469            0.010392   \n",
       "2020-10-17  0.001903  0.027924  0.005593  0.011469            0.010392   \n",
       "2020-10-18  0.001903  0.027924  0.005593  0.011469            0.010392   \n",
       "2020-10-19  0.001903  0.027924  0.005593  0.011469            0.010392   \n",
       "\n",
       "Country      France      Iran      Iraq     Italy    Kuwait  Latvia    Mexico  \\\n",
       "Date                                                                            \n",
       "2020-10-15  0.00021  0.009822  0.016565  0.004273  0.021114     0.0  0.023035   \n",
       "2020-10-16  0.00021  0.009822  0.016565  0.004273  0.021114     0.0  0.023035   \n",
       "2020-10-17  0.00021  0.009822  0.016565  0.004273  0.021114     0.0  0.023035   \n",
       "2020-10-18  0.00021  0.009822  0.016565  0.004273  0.021114     0.0  0.023035   \n",
       "2020-10-19  0.00021  0.009822  0.016565  0.004273  0.021114     0.0  0.023035   \n",
       "\n",
       "Country      Nigeria    Russia    Turkey  United Arab Emirates  United States  \n",
       "Date                                                                           \n",
       "2020-10-15  0.004589  0.001184  0.011934              0.031345       0.001034  \n",
       "2020-10-16  0.004589  0.001184  0.011934              0.031345       0.001034  \n",
       "2020-10-17  0.004589  0.001184  0.011934              0.031345       0.001034  \n",
       "2020-10-18  0.004589  0.001184  0.011934              0.031345       0.001034  \n",
       "2020-10-19  0.004589  0.001184  0.011934              0.031345       0.001034  "
      ]
     },
     "execution_count": 16,
     "metadata": {},
     "output_type": "execute_result"
    }
   ],
   "source": [
    "analyser.param_history(\"sigma\", roll_window=None).tail()"
   ]
  },
  {
   "cell_type": "markdown",
   "metadata": {},
   "source": [
    "### $\\kappa$: Mortality rate of infected cases $\\mathrm{[-]}$"
   ]
  },
  {
   "cell_type": "code",
   "execution_count": 17,
   "metadata": {
    "collapsed": false
   },
   "outputs": [
    {
     "data": {
      "image/png": "[encoded data removed]",
      "text/plain": [
       "<Figure size 648x432 with 1 Axes>"
      ]
     },
     "metadata": {},
     "output_type": "display_data"
    },
    {
     "data": {
      "text/html": [
       "<div>\n",
       "<style scoped>\n",
       "    .dataframe tbody tr th:only-of-type {\n",
       "        vertical-align: middle;\n",
       "    }\n",
       "\n",
       "    .dataframe tbody tr th {\n",
       "        vertical-align: top;\n",
       "    }\n",
       "\n",
       "    .dataframe thead th {\n",
       "        text-align: right;\n",
       "    }\n",
       "</style>\n",
       "<table border=\"1\" class=\"dataframe\">\n",
       "  <thead>\n",
       "    <tr style=\"text-align: right;\">\n",
       "      <th>Country</th>\n",
       "      <th>Algeria</th>\n",
       "      <th>Bahrain</th>\n",
       "      <th>Bolivia</th>\n",
       "      <th>Brazil</th>\n",
       "      <th>Dominican Republic</th>\n",
       "      <th>France</th>\n",
       "      <th>Iran</th>\n",
       "      <th>Iraq</th>\n",
       "      <th>Italy</th>\n",
       "      <th>Kuwait</th>\n",
       "      <th>Latvia</th>\n",
       "      <th>Mexico</th>\n",
       "      <th>Nigeria</th>\n",
       "      <th>Russia</th>\n",
       "      <th>Turkey</th>\n",
       "      <th>United Arab Emirates</th>\n",
       "      <th>United States</th>\n",
       "    </tr>\n",
       "    <tr>\n",
       "      <th>Date</th>\n",
       "      <th></th>\n",
       "      <th></th>\n",
       "      <th></th>\n",
       "      <th></th>\n",
       "      <th></th>\n",
       "      <th></th>\n",
       "      <th></th>\n",
       "      <th></th>\n",
       "      <th></th>\n",
       "      <th></th>\n",
       "      <th></th>\n",
       "      <th></th>\n",
       "      <th></th>\n",
       "      <th></th>\n",
       "      <th></th>\n",
       "      <th></th>\n",
       "      <th></th>\n",
       "    </tr>\n",
       "  </thead>\n",
       "  <tbody>\n",
       "    <tr>\n",
       "      <th>2020-10-15</th>\n",
       "      <td>0.000059</td>\n",
       "      <td>0.000071</td>\n",
       "      <td>0.000292</td>\n",
       "      <td>0.000183</td>\n",
       "      <td>0.000152</td>\n",
       "      <td>0.000024</td>\n",
       "      <td>0.000011</td>\n",
       "      <td>0.000054</td>\n",
       "      <td>0.000096</td>\n",
       "      <td>0.000117</td>\n",
       "      <td>0.000031</td>\n",
       "      <td>0.000841</td>\n",
       "      <td>0.00005</td>\n",
       "      <td>0.000041</td>\n",
       "      <td>0.000067</td>\n",
       "      <td>0.000002</td>\n",
       "      <td>0.000037</td>\n",
       "    </tr>\n",
       "    <tr>\n",
       "      <th>2020-10-16</th>\n",
       "      <td>0.000059</td>\n",
       "      <td>0.000071</td>\n",
       "      <td>0.000292</td>\n",
       "      <td>0.000183</td>\n",
       "      <td>0.000152</td>\n",
       "      <td>0.000024</td>\n",
       "      <td>0.000011</td>\n",
       "      <td>0.000054</td>\n",
       "      <td>0.000096</td>\n",
       "      <td>0.000117</td>\n",
       "      <td>0.000031</td>\n",
       "      <td>0.000841</td>\n",
       "      <td>0.00005</td>\n",
       "      <td>0.000041</td>\n",
       "      <td>0.000067</td>\n",
       "      <td>0.000002</td>\n",
       "      <td>0.000037</td>\n",
       "    </tr>\n",
       "    <tr>\n",
       "      <th>2020-10-17</th>\n",
       "      <td>0.000059</td>\n",
       "      <td>0.000071</td>\n",
       "      <td>0.000292</td>\n",
       "      <td>0.000183</td>\n",
       "      <td>0.000152</td>\n",
       "      <td>0.000024</td>\n",
       "      <td>0.000011</td>\n",
       "      <td>0.000054</td>\n",
       "      <td>0.000096</td>\n",
       "      <td>0.000117</td>\n",
       "      <td>0.000031</td>\n",
       "      <td>0.000841</td>\n",
       "      <td>0.00005</td>\n",
       "      <td>0.000041</td>\n",
       "      <td>0.000067</td>\n",
       "      <td>0.000002</td>\n",
       "      <td>0.000037</td>\n",
       "    </tr>\n",
       "    <tr>\n",
       "      <th>2020-10-18</th>\n",
       "      <td>0.000059</td>\n",
       "      <td>0.000071</td>\n",
       "      <td>0.000292</td>\n",
       "      <td>0.000183</td>\n",
       "      <td>0.000152</td>\n",
       "      <td>0.000024</td>\n",
       "      <td>0.000011</td>\n",
       "      <td>0.000054</td>\n",
       "      <td>0.000096</td>\n",
       "      <td>0.000117</td>\n",
       "      <td>0.000031</td>\n",
       "      <td>0.000841</td>\n",
       "      <td>0.00005</td>\n",
       "      <td>0.000041</td>\n",
       "      <td>0.000067</td>\n",
       "      <td>0.000002</td>\n",
       "      <td>0.000037</td>\n",
       "    </tr>\n",
       "    <tr>\n",
       "      <th>2020-10-19</th>\n",
       "      <td>0.000059</td>\n",
       "      <td>0.000071</td>\n",
       "      <td>0.000292</td>\n",
       "      <td>0.000183</td>\n",
       "      <td>0.000152</td>\n",
       "      <td>0.000024</td>\n",
       "      <td>0.000011</td>\n",
       "      <td>0.000054</td>\n",
       "      <td>0.000096</td>\n",
       "      <td>0.000117</td>\n",
       "      <td>0.000031</td>\n",
       "      <td>0.000841</td>\n",
       "      <td>0.00005</td>\n",
       "      <td>0.000041</td>\n",
       "      <td>0.000067</td>\n",
       "      <td>0.000002</td>\n",
       "      <td>0.000037</td>\n",
       "    </tr>\n",
       "  </tbody>\n",
       "</table>\n",
       "</div>"
      ],
      "text/plain": [
       "Country      Algeria   Bahrain   Bolivia    Brazil  Dominican Republic  \\\n",
       "Date                                                                     \n",
       "2020-10-15  0.000059  0.000071  0.000292  0.000183            0.000152   \n",
       "2020-10-16  0.000059  0.000071  0.000292  0.000183            0.000152   \n",
       "2020-10-17  0.000059  0.000071  0.000292  0.000183            0.000152   \n",
       "2020-10-18  0.000059  0.000071  0.000292  0.000183            0.000152   \n",
       "2020-10-19  0.000059  0.000071  0.000292  0.000183            0.000152   \n",
       "\n",
       "Country       France      Iran      Iraq     Italy    Kuwait    Latvia  \\\n",
       "Date                                                                     \n",
       "2020-10-15  0.000024  0.000011  0.000054  0.000096  0.000117  0.000031   \n",
       "2020-10-16  0.000024  0.000011  0.000054  0.000096  0.000117  0.000031   \n",
       "2020-10-17  0.000024  0.000011  0.000054  0.000096  0.000117  0.000031   \n",
       "2020-10-18  0.000024  0.000011  0.000054  0.000096  0.000117  0.000031   \n",
       "2020-10-19  0.000024  0.000011  0.000054  0.000096  0.000117  0.000031   \n",
       "\n",
       "Country       Mexico  Nigeria    Russia    Turkey  United Arab Emirates  \\\n",
       "Date                                                                      \n",
       "2020-10-15  0.000841  0.00005  0.000041  0.000067              0.000002   \n",
       "2020-10-16  0.000841  0.00005  0.000041  0.000067              0.000002   \n",
       "2020-10-17  0.000841  0.00005  0.000041  0.000067              0.000002   \n",
       "2020-10-18  0.000841  0.00005  0.000041  0.000067              0.000002   \n",
       "2020-10-19  0.000841  0.00005  0.000041  0.000067              0.000002   \n",
       "\n",
       "Country     United States  \n",
       "Date                       \n",
       "2020-10-15       0.000037  \n",
       "2020-10-16       0.000037  \n",
       "2020-10-17       0.000037  \n",
       "2020-10-18       0.000037  \n",
       "2020-10-19       0.000037  "
      ]
     },
     "execution_count": 17,
     "metadata": {},
     "output_type": "execute_result"
    }
   ],
   "source": [
    "analyser.param_history(\"kappa\", roll_window=None).tail()"
   ]
  },
  {
   "cell_type": "markdown",
   "metadata": {},
   "source": [
    "### $\\theta$: Mortality rate of S$^\\ast$ cases $\\mathrm{[-]}$"
   ]
  },
  {
   "cell_type": "code",
   "execution_count": 18,
   "metadata": {
    "collapsed": false
   },
   "outputs": [
    {
     "data": {
      "image/png": "[encoded data removed]",
      "text/plain": [
       "<Figure size 648x432 with 1 Axes>"
      ]
     },
     "metadata": {},
     "output_type": "display_data"
    },
    {
     "data": {
      "text/html": [
       "<div>\n",
       "<style scoped>\n",
       "    .dataframe tbody tr th:only-of-type {\n",
       "        vertical-align: middle;\n",
       "    }\n",
       "\n",
       "    .dataframe tbody tr th {\n",
       "        vertical-align: top;\n",
       "    }\n",
       "\n",
       "    .dataframe thead th {\n",
       "        text-align: right;\n",
       "    }\n",
       "</style>\n",
       "<table border=\"1\" class=\"dataframe\">\n",
       "  <thead>\n",
       "    <tr style=\"text-align: right;\">\n",
       "      <th>Country</th>\n",
       "      <th>Algeria</th>\n",
       "      <th>Bahrain</th>\n",
       "      <th>Bolivia</th>\n",
       "      <th>Brazil</th>\n",
       "      <th>Dominican Republic</th>\n",
       "      <th>France</th>\n",
       "      <th>Iran</th>\n",
       "      <th>Iraq</th>\n",
       "      <th>Italy</th>\n",
       "      <th>Kuwait</th>\n",
       "      <th>Latvia</th>\n",
       "      <th>Mexico</th>\n",
       "      <th>Nigeria</th>\n",
       "      <th>Russia</th>\n",
       "      <th>Turkey</th>\n",
       "      <th>United Arab Emirates</th>\n",
       "      <th>United States</th>\n",
       "    </tr>\n",
       "    <tr>\n",
       "      <th>Date</th>\n",
       "      <th></th>\n",
       "      <th></th>\n",
       "      <th></th>\n",
       "      <th></th>\n",
       "      <th></th>\n",
       "      <th></th>\n",
       "      <th></th>\n",
       "      <th></th>\n",
       "      <th></th>\n",
       "      <th></th>\n",
       "      <th></th>\n",
       "      <th></th>\n",
       "      <th></th>\n",
       "      <th></th>\n",
       "      <th></th>\n",
       "      <th></th>\n",
       "      <th></th>\n",
       "    </tr>\n",
       "  </thead>\n",
       "  <tbody>\n",
       "    <tr>\n",
       "      <th>2020-10-15</th>\n",
       "      <td>0.022395</td>\n",
       "      <td>0.001098</td>\n",
       "      <td>0.000126</td>\n",
       "      <td>0.015081</td>\n",
       "      <td>0.000067</td>\n",
       "      <td>0.000958</td>\n",
       "      <td>0.057058</td>\n",
       "      <td>0.013109</td>\n",
       "      <td>0.000528</td>\n",
       "      <td>0.000966</td>\n",
       "      <td>0.000459</td>\n",
       "      <td>0.042702</td>\n",
       "      <td>0.000224</td>\n",
       "      <td>0.000019</td>\n",
       "      <td>0.036001</td>\n",
       "      <td>0.001274</td>\n",
       "      <td>0.001446</td>\n",
       "    </tr>\n",
       "    <tr>\n",
       "      <th>2020-10-16</th>\n",
       "      <td>0.022395</td>\n",
       "      <td>0.001098</td>\n",
       "      <td>0.000126</td>\n",
       "      <td>0.015081</td>\n",
       "      <td>0.000067</td>\n",
       "      <td>0.000958</td>\n",
       "      <td>0.057058</td>\n",
       "      <td>0.013109</td>\n",
       "      <td>0.000528</td>\n",
       "      <td>0.000966</td>\n",
       "      <td>0.000459</td>\n",
       "      <td>0.042702</td>\n",
       "      <td>0.000224</td>\n",
       "      <td>0.000019</td>\n",
       "      <td>0.036001</td>\n",
       "      <td>0.001274</td>\n",
       "      <td>0.001446</td>\n",
       "    </tr>\n",
       "    <tr>\n",
       "      <th>2020-10-17</th>\n",
       "      <td>0.022395</td>\n",
       "      <td>0.001098</td>\n",
       "      <td>0.000126</td>\n",
       "      <td>0.015081</td>\n",
       "      <td>0.000067</td>\n",
       "      <td>0.000958</td>\n",
       "      <td>0.057058</td>\n",
       "      <td>0.013109</td>\n",
       "      <td>0.000528</td>\n",
       "      <td>0.000966</td>\n",
       "      <td>0.000459</td>\n",
       "      <td>0.042702</td>\n",
       "      <td>0.000224</td>\n",
       "      <td>0.000019</td>\n",
       "      <td>0.036001</td>\n",
       "      <td>0.001274</td>\n",
       "      <td>0.001446</td>\n",
       "    </tr>\n",
       "    <tr>\n",
       "      <th>2020-10-18</th>\n",
       "      <td>0.022395</td>\n",
       "      <td>0.001098</td>\n",
       "      <td>0.000126</td>\n",
       "      <td>0.015081</td>\n",
       "      <td>0.000067</td>\n",
       "      <td>0.000958</td>\n",
       "      <td>0.057058</td>\n",
       "      <td>0.013109</td>\n",
       "      <td>0.000528</td>\n",
       "      <td>0.000966</td>\n",
       "      <td>0.000459</td>\n",
       "      <td>0.042702</td>\n",
       "      <td>0.000224</td>\n",
       "      <td>0.000019</td>\n",
       "      <td>0.036001</td>\n",
       "      <td>0.001274</td>\n",
       "      <td>0.001446</td>\n",
       "    </tr>\n",
       "    <tr>\n",
       "      <th>2020-10-19</th>\n",
       "      <td>0.022395</td>\n",
       "      <td>0.001098</td>\n",
       "      <td>0.000126</td>\n",
       "      <td>0.015081</td>\n",
       "      <td>0.000067</td>\n",
       "      <td>0.000958</td>\n",
       "      <td>0.057058</td>\n",
       "      <td>0.013109</td>\n",
       "      <td>0.000528</td>\n",
       "      <td>0.000966</td>\n",
       "      <td>0.000459</td>\n",
       "      <td>0.042702</td>\n",
       "      <td>0.000224</td>\n",
       "      <td>0.000019</td>\n",
       "      <td>0.036001</td>\n",
       "      <td>0.001274</td>\n",
       "      <td>0.001446</td>\n",
       "    </tr>\n",
       "  </tbody>\n",
       "</table>\n",
       "</div>"
      ],
      "text/plain": [
       "Country      Algeria   Bahrain   Bolivia    Brazil  Dominican Republic  \\\n",
       "Date                                                                     \n",
       "2020-10-15  0.022395  0.001098  0.000126  0.015081            0.000067   \n",
       "2020-10-16  0.022395  0.001098  0.000126  0.015081            0.000067   \n",
       "2020-10-17  0.022395  0.001098  0.000126  0.015081            0.000067   \n",
       "2020-10-18  0.022395  0.001098  0.000126  0.015081            0.000067   \n",
       "2020-10-19  0.022395  0.001098  0.000126  0.015081            0.000067   \n",
       "\n",
       "Country       France      Iran      Iraq     Italy    Kuwait    Latvia  \\\n",
       "Date                                                                     \n",
       "2020-10-15  0.000958  0.057058  0.013109  0.000528  0.000966  0.000459   \n",
       "2020-10-16  0.000958  0.057058  0.013109  0.000528  0.000966  0.000459   \n",
       "2020-10-17  0.000958  0.057058  0.013109  0.000528  0.000966  0.000459   \n",
       "2020-10-18  0.000958  0.057058  0.013109  0.000528  0.000966  0.000459   \n",
       "2020-10-19  0.000958  0.057058  0.013109  0.000528  0.000966  0.000459   \n",
       "\n",
       "Country       Mexico   Nigeria    Russia    Turkey  United Arab Emirates  \\\n",
       "Date                                                                       \n",
       "2020-10-15  0.042702  0.000224  0.000019  0.036001              0.001274   \n",
       "2020-10-16  0.042702  0.000224  0.000019  0.036001              0.001274   \n",
       "2020-10-17  0.042702  0.000224  0.000019  0.036001              0.001274   \n",
       "2020-10-18  0.042702  0.000224  0.000019  0.036001              0.001274   \n",
       "2020-10-19  0.042702  0.000224  0.000019  0.036001              0.001274   \n",
       "\n",
       "Country     United States  \n",
       "Date                       \n",
       "2020-10-15       0.001446  \n",
       "2020-10-16       0.001446  \n",
       "2020-10-17       0.001446  \n",
       "2020-10-18       0.001446  \n",
       "2020-10-19       0.001446  "
      ]
     },
     "execution_count": 18,
     "metadata": {},
     "output_type": "execute_result"
    }
   ],
   "source": [
    "analyser.param_history(\"theta\", roll_window=None).tail()"
   ]
  },
  {
   "cell_type": "markdown",
   "metadata": {},
   "source": [
    "## (Experimental): Relationship of OxCGRT index and parameter values\n",
    "Government responses will impact on parameter values of ODE models about 14 days later. Here, we will investigate on the relationship of [stringency index (from OxCGRT)](https://github.com/OxCGRT/covid-policy-tracker/blob/master/documentation/index_methodology.md) and reproduction number/model parameters.\n"
   ]
  },
  {
   "cell_type": "code",
   "execution_count": 19,
   "metadata": {
    "collapsed": false
   },
   "outputs": [],
   "source": [
    "%matplotlib inline\n",
    "from matplotlib import pyplot as plt\n",
    "import seaborn as sns\n",
    "import pandas as pd"
   ]
  },
  {
   "cell_type": "code",
   "execution_count": 20,
   "metadata": {
    "collapsed": false
   },
   "outputs": [
    {
     "name": "stdout",
     "output_type": "stream",
     "text": [
      "<class 'pandas.core.frame.DataFrame'>\n",
      "Int64Index: 76915 entries, 0 to 77138\n",
      "Data columns (total 19 columns):\n",
      " #   Column                               Non-Null Count  Dtype         \n",
      "---  ------                               --------------  -----         \n",
      " 0   Date                                 76915 non-null  datetime64[ns]\n",
      " 1   Country                              76915 non-null  object        \n",
      " 2   Rt                                   76915 non-null  float64       \n",
      " 3   theta                                76915 non-null  float64       \n",
      " 4   kappa                                76915 non-null  float64       \n",
      " 5   rho                                  76915 non-null  float64       \n",
      " 6   sigma                                76915 non-null  float64       \n",
      " 7   School_closing                       76915 non-null  int64         \n",
      " 8   Workplace_closing                    76915 non-null  int64         \n",
      " 9   Cancel_events                        76915 non-null  int64         \n",
      " 10  Gatherings_restrictions              76915 non-null  int64         \n",
      " 11  Transport_closing                    76915 non-null  int64         \n",
      " 12  Stay_home_restrictions               76915 non-null  int64         \n",
      " 13  Internal_movement_restrictions       76915 non-null  int64         \n",
      " 14  International_movement_restrictions  76915 non-null  int64         \n",
      " 15  Information_campaigns                76915 non-null  int64         \n",
      " 16  Testing_policy                       76915 non-null  int64         \n",
      " 17  Contact_tracing                      76915 non-null  int64         \n",
      " 18  Stringency_index                     76915 non-null  float64       \n",
      "dtypes: datetime64[ns](1), float64(6), int64(11), object(1)\n",
      "memory usage: 11.7+ MB\n"
     ]
    }
   ],
   "source": [
    "df = analyser.track()\n",
    "param_cols = [\"Rt\", *cs.SIRF.PARAMETERS]\n",
    "oxcgrt_cols = oxcgrt_data.OXCGRT_VARS[:]\n",
    "cols = param_cols + oxcgrt_cols\n",
    "delay = 14\n",
    "\n",
    "for col in param_cols:\n",
    "    df[col] = pd.to_numeric(df[col], errors=\"coerce\")\n",
    "    df[col] = df.groupby(\"Country\")[col].shift(0 - delay)\n",
    "\n",
    "df = df.dropna(how=\"any\")\n",
    "df = df.loc[:, [\"Date\", \"Country\", *cols]]\n",
    "track_df = df.copy()\n",
    "track_df.info()"
   ]
  },
  {
   "cell_type": "code",
   "execution_count": 21,
   "metadata": {
    "collapsed": false
   },
   "outputs": [
    {
     "data": {
      "text/html": [
       "<style  type=\"text/css\" >\n",
       "#T_7e9d89f2_1213_11eb_a2a1_525400b97715row0_col0,#T_7e9d89f2_1213_11eb_a2a1_525400b97715row1_col1,#T_7e9d89f2_1213_11eb_a2a1_525400b97715row2_col2,#T_7e9d89f2_1213_11eb_a2a1_525400b97715row3_col3,#T_7e9d89f2_1213_11eb_a2a1_525400b97715row4_col4,#T_7e9d89f2_1213_11eb_a2a1_525400b97715row5_col5,#T_7e9d89f2_1213_11eb_a2a1_525400b97715row6_col6,#T_7e9d89f2_1213_11eb_a2a1_525400b97715row7_col7,#T_7e9d89f2_1213_11eb_a2a1_525400b97715row8_col8,#T_7e9d89f2_1213_11eb_a2a1_525400b97715row9_col9,#T_7e9d89f2_1213_11eb_a2a1_525400b97715row10_col10,#T_7e9d89f2_1213_11eb_a2a1_525400b97715row11_col11,#T_7e9d89f2_1213_11eb_a2a1_525400b97715row12_col12,#T_7e9d89f2_1213_11eb_a2a1_525400b97715row13_col13,#T_7e9d89f2_1213_11eb_a2a1_525400b97715row14_col14,#T_7e9d89f2_1213_11eb_a2a1_525400b97715row15_col15,#T_7e9d89f2_1213_11eb_a2a1_525400b97715row16_col16{\n",
       "            background-color:  #023858;\n",
       "            color:  #f1f1f1;\n",
       "        }#T_7e9d89f2_1213_11eb_a2a1_525400b97715row0_col1,#T_7e9d89f2_1213_11eb_a2a1_525400b97715row1_col0,#T_7e9d89f2_1213_11eb_a2a1_525400b97715row9_col15,#T_7e9d89f2_1213_11eb_a2a1_525400b97715row15_col9{\n",
       "            background-color:  #d9d8ea;\n",
       "            color:  #000000;\n",
       "        }#T_7e9d89f2_1213_11eb_a2a1_525400b97715row0_col2,#T_7e9d89f2_1213_11eb_a2a1_525400b97715row1_col6,#T_7e9d89f2_1213_11eb_a2a1_525400b97715row2_col0,#T_7e9d89f2_1213_11eb_a2a1_525400b97715row6_col1{\n",
       "            background-color:  #d2d2e7;\n",
       "            color:  #000000;\n",
       "        }#T_7e9d89f2_1213_11eb_a2a1_525400b97715row0_col3,#T_7e9d89f2_1213_11eb_a2a1_525400b97715row3_col0,#T_7e9d89f2_1213_11eb_a2a1_525400b97715row10_col13,#T_7e9d89f2_1213_11eb_a2a1_525400b97715row13_col10{\n",
       "            background-color:  #63a2cb;\n",
       "            color:  #000000;\n",
       "        }#T_7e9d89f2_1213_11eb_a2a1_525400b97715row0_col4,#T_7e9d89f2_1213_11eb_a2a1_525400b97715row4_col0{\n",
       "            background-color:  #dddbec;\n",
       "            color:  #000000;\n",
       "        }#T_7e9d89f2_1213_11eb_a2a1_525400b97715row0_col5,#T_7e9d89f2_1213_11eb_a2a1_525400b97715row5_col0{\n",
       "            background-color:  #e2dfee;\n",
       "            color:  #000000;\n",
       "        }#T_7e9d89f2_1213_11eb_a2a1_525400b97715row0_col6,#T_7e9d89f2_1213_11eb_a2a1_525400b97715row6_col0{\n",
       "            background-color:  #e5e1ef;\n",
       "            color:  #000000;\n",
       "        }#T_7e9d89f2_1213_11eb_a2a1_525400b97715row0_col7,#T_7e9d89f2_1213_11eb_a2a1_525400b97715row1_col5,#T_7e9d89f2_1213_11eb_a2a1_525400b97715row5_col1,#T_7e9d89f2_1213_11eb_a2a1_525400b97715row7_col0{\n",
       "            background-color:  #d5d5e8;\n",
       "            color:  #000000;\n",
       "        }#T_7e9d89f2_1213_11eb_a2a1_525400b97715row0_col8,#T_7e9d89f2_1213_11eb_a2a1_525400b97715row8_col0{\n",
       "            background-color:  #d8d7e9;\n",
       "            color:  #000000;\n",
       "        }#T_7e9d89f2_1213_11eb_a2a1_525400b97715row0_col9,#T_7e9d89f2_1213_11eb_a2a1_525400b97715row2_col6,#T_7e9d89f2_1213_11eb_a2a1_525400b97715row6_col2,#T_7e9d89f2_1213_11eb_a2a1_525400b97715row9_col0{\n",
       "            background-color:  #d4d4e8;\n",
       "            color:  #000000;\n",
       "        }#T_7e9d89f2_1213_11eb_a2a1_525400b97715row0_col10,#T_7e9d89f2_1213_11eb_a2a1_525400b97715row10_col0{\n",
       "            background-color:  #dedcec;\n",
       "            color:  #000000;\n",
       "        }#T_7e9d89f2_1213_11eb_a2a1_525400b97715row0_col11,#T_7e9d89f2_1213_11eb_a2a1_525400b97715row1_col7,#T_7e9d89f2_1213_11eb_a2a1_525400b97715row7_col1,#T_7e9d89f2_1213_11eb_a2a1_525400b97715row11_col0{\n",
       "            background-color:  #e7e3f0;\n",
       "            color:  #000000;\n",
       "        }#T_7e9d89f2_1213_11eb_a2a1_525400b97715row0_col12,#T_7e9d89f2_1213_11eb_a2a1_525400b97715row3_col7,#T_7e9d89f2_1213_11eb_a2a1_525400b97715row7_col3,#T_7e9d89f2_1213_11eb_a2a1_525400b97715row12_col0{\n",
       "            background-color:  #ced0e6;\n",
       "            color:  #000000;\n",
       "        }#T_7e9d89f2_1213_11eb_a2a1_525400b97715row0_col13,#T_7e9d89f2_1213_11eb_a2a1_525400b97715row13_col0{\n",
       "            background-color:  #e1dfed;\n",
       "            color:  #000000;\n",
       "        }#T_7e9d89f2_1213_11eb_a2a1_525400b97715row0_col14,#T_7e9d89f2_1213_11eb_a2a1_525400b97715row2_col13,#T_7e9d89f2_1213_11eb_a2a1_525400b97715row13_col2,#T_7e9d89f2_1213_11eb_a2a1_525400b97715row14_col0{\n",
       "            background-color:  #f7f0f7;\n",
       "            color:  #000000;\n",
       "        }#T_7e9d89f2_1213_11eb_a2a1_525400b97715row0_col15,#T_7e9d89f2_1213_11eb_a2a1_525400b97715row15_col0{\n",
       "            background-color:  #f1ebf4;\n",
       "            color:  #000000;\n",
       "        }#T_7e9d89f2_1213_11eb_a2a1_525400b97715row0_col16,#T_7e9d89f2_1213_11eb_a2a1_525400b97715row16_col0{\n",
       "            background-color:  #e0dded;\n",
       "            color:  #000000;\n",
       "        }#T_7e9d89f2_1213_11eb_a2a1_525400b97715row1_col2,#T_7e9d89f2_1213_11eb_a2a1_525400b97715row2_col1{\n",
       "            background-color:  #034e7b;\n",
       "            color:  #f1f1f1;\n",
       "        }#T_7e9d89f2_1213_11eb_a2a1_525400b97715row1_col3,#T_7e9d89f2_1213_11eb_a2a1_525400b97715row3_col1{\n",
       "            background-color:  #1379b5;\n",
       "            color:  #f1f1f1;\n",
       "        }#T_7e9d89f2_1213_11eb_a2a1_525400b97715row1_col4,#T_7e9d89f2_1213_11eb_a2a1_525400b97715row4_col1{\n",
       "            background-color:  #b7c5df;\n",
       "            color:  #000000;\n",
       "        }#T_7e9d89f2_1213_11eb_a2a1_525400b97715row1_col8,#T_7e9d89f2_1213_11eb_a2a1_525400b97715row2_col7,#T_7e9d89f2_1213_11eb_a2a1_525400b97715row7_col2,#T_7e9d89f2_1213_11eb_a2a1_525400b97715row8_col1{\n",
       "            background-color:  #d6d6e9;\n",
       "            color:  #000000;\n",
       "        }#T_7e9d89f2_1213_11eb_a2a1_525400b97715row1_col9,#T_7e9d89f2_1213_11eb_a2a1_525400b97715row2_col5,#T_7e9d89f2_1213_11eb_a2a1_525400b97715row3_col5,#T_7e9d89f2_1213_11eb_a2a1_525400b97715row5_col2,#T_7e9d89f2_1213_11eb_a2a1_525400b97715row5_col3,#T_7e9d89f2_1213_11eb_a2a1_525400b97715row9_col1{\n",
       "            background-color:  #d7d6e9;\n",
       "            color:  #000000;\n",
       "        }#T_7e9d89f2_1213_11eb_a2a1_525400b97715row1_col10,#T_7e9d89f2_1213_11eb_a2a1_525400b97715row10_col1{\n",
       "            background-color:  #86b0d3;\n",
       "            color:  #000000;\n",
       "        }#T_7e9d89f2_1213_11eb_a2a1_525400b97715row1_col11,#T_7e9d89f2_1213_11eb_a2a1_525400b97715row11_col1,#T_7e9d89f2_1213_11eb_a2a1_525400b97715row11_col15,#T_7e9d89f2_1213_11eb_a2a1_525400b97715row15_col11{\n",
       "            background-color:  #afc1dd;\n",
       "            color:  #000000;\n",
       "        }#T_7e9d89f2_1213_11eb_a2a1_525400b97715row1_col12,#T_7e9d89f2_1213_11eb_a2a1_525400b97715row12_col1{\n",
       "            background-color:  #b0c2de;\n",
       "            color:  #000000;\n",
       "        }#T_7e9d89f2_1213_11eb_a2a1_525400b97715row1_col13,#T_7e9d89f2_1213_11eb_a2a1_525400b97715row13_col1{\n",
       "            background-color:  #f4edf6;\n",
       "            color:  #000000;\n",
       "        }#T_7e9d89f2_1213_11eb_a2a1_525400b97715row1_col14,#T_7e9d89f2_1213_11eb_a2a1_525400b97715row14_col1{\n",
       "            background-color:  #e8e4f0;\n",
       "            color:  #000000;\n",
       "        }#T_7e9d89f2_1213_11eb_a2a1_525400b97715row1_col15,#T_7e9d89f2_1213_11eb_a2a1_525400b97715row15_col1{\n",
       "            background-color:  #bbc7e0;\n",
       "            color:  #000000;\n",
       "        }#T_7e9d89f2_1213_11eb_a2a1_525400b97715row1_col16,#T_7e9d89f2_1213_11eb_a2a1_525400b97715row4_col14,#T_7e9d89f2_1213_11eb_a2a1_525400b97715row14_col4,#T_7e9d89f2_1213_11eb_a2a1_525400b97715row16_col1{\n",
       "            background-color:  #cccfe5;\n",
       "            color:  #000000;\n",
       "        }#T_7e9d89f2_1213_11eb_a2a1_525400b97715row2_col3,#T_7e9d89f2_1213_11eb_a2a1_525400b97715row3_col2,#T_7e9d89f2_1213_11eb_a2a1_525400b97715row13_col16,#T_7e9d89f2_1213_11eb_a2a1_525400b97715row16_col13{\n",
       "            background-color:  #056aa6;\n",
       "            color:  #f1f1f1;\n",
       "        }#T_7e9d89f2_1213_11eb_a2a1_525400b97715row2_col4,#T_7e9d89f2_1213_11eb_a2a1_525400b97715row4_col2,#T_7e9d89f2_1213_11eb_a2a1_525400b97715row4_col13,#T_7e9d89f2_1213_11eb_a2a1_525400b97715row13_col4{\n",
       "            background-color:  #bcc7e1;\n",
       "            color:  #000000;\n",
       "        }#T_7e9d89f2_1213_11eb_a2a1_525400b97715row2_col8,#T_7e9d89f2_1213_11eb_a2a1_525400b97715row8_col2{\n",
       "            background-color:  #d1d2e6;\n",
       "            color:  #000000;\n",
       "        }#T_7e9d89f2_1213_11eb_a2a1_525400b97715row2_col9,#T_7e9d89f2_1213_11eb_a2a1_525400b97715row9_col2{\n",
       "            background-color:  #d0d1e6;\n",
       "            color:  #000000;\n",
       "        }#T_7e9d89f2_1213_11eb_a2a1_525400b97715row2_col10,#T_7e9d89f2_1213_11eb_a2a1_525400b97715row5_col15,#T_7e9d89f2_1213_11eb_a2a1_525400b97715row10_col2,#T_7e9d89f2_1213_11eb_a2a1_525400b97715row10_col15,#T_7e9d89f2_1213_11eb_a2a1_525400b97715row15_col5,#T_7e9d89f2_1213_11eb_a2a1_525400b97715row15_col10{\n",
       "            background-color:  #79abd0;\n",
       "            color:  #000000;\n",
       "        }#T_7e9d89f2_1213_11eb_a2a1_525400b97715row2_col11,#T_7e9d89f2_1213_11eb_a2a1_525400b97715row3_col11,#T_7e9d89f2_1213_11eb_a2a1_525400b97715row11_col2,#T_7e9d89f2_1213_11eb_a2a1_525400b97715row11_col3{\n",
       "            background-color:  #8fb4d6;\n",
       "            color:  #000000;\n",
       "        }#T_7e9d89f2_1213_11eb_a2a1_525400b97715row2_col12,#T_7e9d89f2_1213_11eb_a2a1_525400b97715row4_col9,#T_7e9d89f2_1213_11eb_a2a1_525400b97715row9_col4,#T_7e9d89f2_1213_11eb_a2a1_525400b97715row12_col2{\n",
       "            background-color:  #8cb3d5;\n",
       "            color:  #000000;\n",
       "        }#T_7e9d89f2_1213_11eb_a2a1_525400b97715row2_col14,#T_7e9d89f2_1213_11eb_a2a1_525400b97715row14_col2{\n",
       "            background-color:  #e3e0ee;\n",
       "            color:  #000000;\n",
       "        }#T_7e9d89f2_1213_11eb_a2a1_525400b97715row2_col15,#T_7e9d89f2_1213_11eb_a2a1_525400b97715row3_col8,#T_7e9d89f2_1213_11eb_a2a1_525400b97715row8_col3,#T_7e9d89f2_1213_11eb_a2a1_525400b97715row15_col2{\n",
       "            background-color:  #c5cce3;\n",
       "            color:  #000000;\n",
       "        }#T_7e9d89f2_1213_11eb_a2a1_525400b97715row2_col16,#T_7e9d89f2_1213_11eb_a2a1_525400b97715row9_col14,#T_7e9d89f2_1213_11eb_a2a1_525400b97715row14_col9,#T_7e9d89f2_1213_11eb_a2a1_525400b97715row16_col2{\n",
       "            background-color:  #c4cbe3;\n",
       "            color:  #000000;\n",
       "        }#T_7e9d89f2_1213_11eb_a2a1_525400b97715row3_col4,#T_7e9d89f2_1213_11eb_a2a1_525400b97715row4_col3{\n",
       "            background-color:  #89b1d4;\n",
       "            color:  #000000;\n",
       "        }#T_7e9d89f2_1213_11eb_a2a1_525400b97715row3_col6,#T_7e9d89f2_1213_11eb_a2a1_525400b97715row6_col3{\n",
       "            background-color:  #dbdaeb;\n",
       "            color:  #000000;\n",
       "        }#T_7e9d89f2_1213_11eb_a2a1_525400b97715row3_col9,#T_7e9d89f2_1213_11eb_a2a1_525400b97715row3_col16,#T_7e9d89f2_1213_11eb_a2a1_525400b97715row9_col3,#T_7e9d89f2_1213_11eb_a2a1_525400b97715row16_col3{\n",
       "            background-color:  #c2cbe2;\n",
       "            color:  #000000;\n",
       "        }#T_7e9d89f2_1213_11eb_a2a1_525400b97715row3_col10,#T_7e9d89f2_1213_11eb_a2a1_525400b97715row10_col3{\n",
       "            background-color:  #8eb3d5;\n",
       "            color:  #000000;\n",
       "        }#T_7e9d89f2_1213_11eb_a2a1_525400b97715row3_col12,#T_7e9d89f2_1213_11eb_a2a1_525400b97715row12_col3{\n",
       "            background-color:  #a2bcda;\n",
       "            color:  #000000;\n",
       "        }#T_7e9d89f2_1213_11eb_a2a1_525400b97715row3_col13,#T_7e9d89f2_1213_11eb_a2a1_525400b97715row13_col3{\n",
       "            background-color:  #fef6fa;\n",
       "            color:  #000000;\n",
       "        }#T_7e9d89f2_1213_11eb_a2a1_525400b97715row3_col14,#T_7e9d89f2_1213_11eb_a2a1_525400b97715row14_col3{\n",
       "            background-color:  #fff7fb;\n",
       "            color:  #000000;\n",
       "        }#T_7e9d89f2_1213_11eb_a2a1_525400b97715row3_col15,#T_7e9d89f2_1213_11eb_a2a1_525400b97715row15_col3{\n",
       "            background-color:  #efe9f3;\n",
       "            color:  #000000;\n",
       "        }#T_7e9d89f2_1213_11eb_a2a1_525400b97715row4_col5,#T_7e9d89f2_1213_11eb_a2a1_525400b97715row5_col4{\n",
       "            background-color:  #76aad0;\n",
       "            color:  #000000;\n",
       "        }#T_7e9d89f2_1213_11eb_a2a1_525400b97715row4_col6,#T_7e9d89f2_1213_11eb_a2a1_525400b97715row6_col4{\n",
       "            background-color:  #abbfdc;\n",
       "            color:  #000000;\n",
       "        }#T_7e9d89f2_1213_11eb_a2a1_525400b97715row4_col7,#T_7e9d89f2_1213_11eb_a2a1_525400b97715row4_col16,#T_7e9d89f2_1213_11eb_a2a1_525400b97715row7_col4,#T_7e9d89f2_1213_11eb_a2a1_525400b97715row16_col4{\n",
       "            background-color:  #80aed2;\n",
       "            color:  #000000;\n",
       "        }#T_7e9d89f2_1213_11eb_a2a1_525400b97715row4_col8,#T_7e9d89f2_1213_11eb_a2a1_525400b97715row8_col4{\n",
       "            background-color:  #a5bddb;\n",
       "            color:  #000000;\n",
       "        }#T_7e9d89f2_1213_11eb_a2a1_525400b97715row4_col10,#T_7e9d89f2_1213_11eb_a2a1_525400b97715row10_col4,#T_7e9d89f2_1213_11eb_a2a1_525400b97715row10_col14,#T_7e9d89f2_1213_11eb_a2a1_525400b97715row14_col10{\n",
       "            background-color:  #88b1d4;\n",
       "            color:  #000000;\n",
       "        }#T_7e9d89f2_1213_11eb_a2a1_525400b97715row4_col11,#T_7e9d89f2_1213_11eb_a2a1_525400b97715row7_col14,#T_7e9d89f2_1213_11eb_a2a1_525400b97715row7_col15,#T_7e9d89f2_1213_11eb_a2a1_525400b97715row11_col4,#T_7e9d89f2_1213_11eb_a2a1_525400b97715row14_col7,#T_7e9d89f2_1213_11eb_a2a1_525400b97715row15_col7{\n",
       "            background-color:  #75a9cf;\n",
       "            color:  #000000;\n",
       "        }#T_7e9d89f2_1213_11eb_a2a1_525400b97715row4_col12,#T_7e9d89f2_1213_11eb_a2a1_525400b97715row12_col4{\n",
       "            background-color:  #b4c4df;\n",
       "            color:  #000000;\n",
       "        }#T_7e9d89f2_1213_11eb_a2a1_525400b97715row4_col15,#T_7e9d89f2_1213_11eb_a2a1_525400b97715row15_col4{\n",
       "            background-color:  #acc0dd;\n",
       "            color:  #000000;\n",
       "        }#T_7e9d89f2_1213_11eb_a2a1_525400b97715row5_col6,#T_7e9d89f2_1213_11eb_a2a1_525400b97715row6_col5{\n",
       "            background-color:  #04649e;\n",
       "            color:  #f1f1f1;\n",
       "        }#T_7e9d89f2_1213_11eb_a2a1_525400b97715row5_col7,#T_7e9d89f2_1213_11eb_a2a1_525400b97715row7_col5{\n",
       "            background-color:  #0568a3;\n",
       "            color:  #f1f1f1;\n",
       "        }#T_7e9d89f2_1213_11eb_a2a1_525400b97715row5_col8,#T_7e9d89f2_1213_11eb_a2a1_525400b97715row8_col5{\n",
       "            background-color:  #157ab5;\n",
       "            color:  #000000;\n",
       "        }#T_7e9d89f2_1213_11eb_a2a1_525400b97715row5_col9,#T_7e9d89f2_1213_11eb_a2a1_525400b97715row9_col5{\n",
       "            background-color:  #2182b9;\n",
       "            color:  #000000;\n",
       "        }#T_7e9d89f2_1213_11eb_a2a1_525400b97715row5_col10,#T_7e9d89f2_1213_11eb_a2a1_525400b97715row6_col10,#T_7e9d89f2_1213_11eb_a2a1_525400b97715row7_col13,#T_7e9d89f2_1213_11eb_a2a1_525400b97715row8_col10,#T_7e9d89f2_1213_11eb_a2a1_525400b97715row9_col11,#T_7e9d89f2_1213_11eb_a2a1_525400b97715row10_col5,#T_7e9d89f2_1213_11eb_a2a1_525400b97715row10_col6,#T_7e9d89f2_1213_11eb_a2a1_525400b97715row10_col8,#T_7e9d89f2_1213_11eb_a2a1_525400b97715row11_col9,#T_7e9d89f2_1213_11eb_a2a1_525400b97715row13_col7{\n",
       "            background-color:  #0872b1;\n",
       "            color:  #f1f1f1;\n",
       "        }#T_7e9d89f2_1213_11eb_a2a1_525400b97715row5_col11,#T_7e9d89f2_1213_11eb_a2a1_525400b97715row11_col5,#T_7e9d89f2_1213_11eb_a2a1_525400b97715row13_col14,#T_7e9d89f2_1213_11eb_a2a1_525400b97715row14_col13{\n",
       "            background-color:  #2383ba;\n",
       "            color:  #000000;\n",
       "        }#T_7e9d89f2_1213_11eb_a2a1_525400b97715row5_col12,#T_7e9d89f2_1213_11eb_a2a1_525400b97715row12_col5{\n",
       "            background-color:  #509ac6;\n",
       "            color:  #000000;\n",
       "        }#T_7e9d89f2_1213_11eb_a2a1_525400b97715row5_col13,#T_7e9d89f2_1213_11eb_a2a1_525400b97715row7_col9,#T_7e9d89f2_1213_11eb_a2a1_525400b97715row9_col7,#T_7e9d89f2_1213_11eb_a2a1_525400b97715row13_col5{\n",
       "            background-color:  #197db7;\n",
       "            color:  #000000;\n",
       "        }#T_7e9d89f2_1213_11eb_a2a1_525400b97715row5_col14,#T_7e9d89f2_1213_11eb_a2a1_525400b97715row14_col5{\n",
       "            background-color:  #67a4cc;\n",
       "            color:  #000000;\n",
       "        }#T_7e9d89f2_1213_11eb_a2a1_525400b97715row5_col16,#T_7e9d89f2_1213_11eb_a2a1_525400b97715row16_col5{\n",
       "            background-color:  #045b8f;\n",
       "            color:  #f1f1f1;\n",
       "        }#T_7e9d89f2_1213_11eb_a2a1_525400b97715row6_col7,#T_7e9d89f2_1213_11eb_a2a1_525400b97715row7_col6{\n",
       "            background-color:  #0c74b2;\n",
       "            color:  #f1f1f1;\n",
       "        }#T_7e9d89f2_1213_11eb_a2a1_525400b97715row6_col8,#T_7e9d89f2_1213_11eb_a2a1_525400b97715row8_col6,#T_7e9d89f2_1213_11eb_a2a1_525400b97715row8_col12,#T_7e9d89f2_1213_11eb_a2a1_525400b97715row12_col8{\n",
       "            background-color:  #1077b4;\n",
       "            color:  #f1f1f1;\n",
       "        }#T_7e9d89f2_1213_11eb_a2a1_525400b97715row6_col9,#T_7e9d89f2_1213_11eb_a2a1_525400b97715row7_col10,#T_7e9d89f2_1213_11eb_a2a1_525400b97715row9_col6,#T_7e9d89f2_1213_11eb_a2a1_525400b97715row10_col7{\n",
       "            background-color:  #2786bb;\n",
       "            color:  #000000;\n",
       "        }#T_7e9d89f2_1213_11eb_a2a1_525400b97715row6_col11,#T_7e9d89f2_1213_11eb_a2a1_525400b97715row11_col6{\n",
       "            background-color:  #4094c3;\n",
       "            color:  #000000;\n",
       "        }#T_7e9d89f2_1213_11eb_a2a1_525400b97715row6_col12,#T_7e9d89f2_1213_11eb_a2a1_525400b97715row11_col12,#T_7e9d89f2_1213_11eb_a2a1_525400b97715row12_col6,#T_7e9d89f2_1213_11eb_a2a1_525400b97715row12_col11{\n",
       "            background-color:  #529bc7;\n",
       "            color:  #000000;\n",
       "        }#T_7e9d89f2_1213_11eb_a2a1_525400b97715row6_col13,#T_7e9d89f2_1213_11eb_a2a1_525400b97715row13_col6{\n",
       "            background-color:  #0569a4;\n",
       "            color:  #f1f1f1;\n",
       "        }#T_7e9d89f2_1213_11eb_a2a1_525400b97715row6_col14,#T_7e9d89f2_1213_11eb_a2a1_525400b97715row14_col6{\n",
       "            background-color:  #60a1ca;\n",
       "            color:  #000000;\n",
       "        }#T_7e9d89f2_1213_11eb_a2a1_525400b97715row6_col15,#T_7e9d89f2_1213_11eb_a2a1_525400b97715row15_col6{\n",
       "            background-color:  #549cc7;\n",
       "            color:  #000000;\n",
       "        }#T_7e9d89f2_1213_11eb_a2a1_525400b97715row6_col16,#T_7e9d89f2_1213_11eb_a2a1_525400b97715row7_col16,#T_7e9d89f2_1213_11eb_a2a1_525400b97715row16_col6,#T_7e9d89f2_1213_11eb_a2a1_525400b97715row16_col7{\n",
       "            background-color:  #045b8e;\n",
       "            color:  #f1f1f1;\n",
       "        }#T_7e9d89f2_1213_11eb_a2a1_525400b97715row7_col8,#T_7e9d89f2_1213_11eb_a2a1_525400b97715row8_col7,#T_7e9d89f2_1213_11eb_a2a1_525400b97715row11_col16,#T_7e9d89f2_1213_11eb_a2a1_525400b97715row16_col11{\n",
       "            background-color:  #056ba9;\n",
       "            color:  #f1f1f1;\n",
       "        }#T_7e9d89f2_1213_11eb_a2a1_525400b97715row7_col11,#T_7e9d89f2_1213_11eb_a2a1_525400b97715row11_col7{\n",
       "            background-color:  #1c7fb8;\n",
       "            color:  #000000;\n",
       "        }#T_7e9d89f2_1213_11eb_a2a1_525400b97715row7_col12,#T_7e9d89f2_1213_11eb_a2a1_525400b97715row12_col7{\n",
       "            background-color:  #056fae;\n",
       "            color:  #f1f1f1;\n",
       "        }#T_7e9d89f2_1213_11eb_a2a1_525400b97715row8_col9,#T_7e9d89f2_1213_11eb_a2a1_525400b97715row9_col8{\n",
       "            background-color:  #04639b;\n",
       "            color:  #f1f1f1;\n",
       "        }#T_7e9d89f2_1213_11eb_a2a1_525400b97715row8_col11,#T_7e9d89f2_1213_11eb_a2a1_525400b97715row11_col8{\n",
       "            background-color:  #056caa;\n",
       "            color:  #f1f1f1;\n",
       "        }#T_7e9d89f2_1213_11eb_a2a1_525400b97715row8_col13,#T_7e9d89f2_1213_11eb_a2a1_525400b97715row13_col8{\n",
       "            background-color:  #1b7eb7;\n",
       "            color:  #000000;\n",
       "        }#T_7e9d89f2_1213_11eb_a2a1_525400b97715row8_col14,#T_7e9d89f2_1213_11eb_a2a1_525400b97715row11_col14,#T_7e9d89f2_1213_11eb_a2a1_525400b97715row14_col8,#T_7e9d89f2_1213_11eb_a2a1_525400b97715row14_col11,#T_7e9d89f2_1213_11eb_a2a1_525400b97715row14_col16,#T_7e9d89f2_1213_11eb_a2a1_525400b97715row16_col14{\n",
       "            background-color:  #81aed2;\n",
       "            color:  #000000;\n",
       "        }#T_7e9d89f2_1213_11eb_a2a1_525400b97715row8_col15,#T_7e9d89f2_1213_11eb_a2a1_525400b97715row12_col14,#T_7e9d89f2_1213_11eb_a2a1_525400b97715row14_col12,#T_7e9d89f2_1213_11eb_a2a1_525400b97715row15_col8{\n",
       "            background-color:  #a1bbda;\n",
       "            color:  #000000;\n",
       "        }#T_7e9d89f2_1213_11eb_a2a1_525400b97715row8_col16,#T_7e9d89f2_1213_11eb_a2a1_525400b97715row16_col8{\n",
       "            background-color:  #045585;\n",
       "            color:  #f1f1f1;\n",
       "        }#T_7e9d89f2_1213_11eb_a2a1_525400b97715row9_col10,#T_7e9d89f2_1213_11eb_a2a1_525400b97715row10_col9{\n",
       "            background-color:  #167bb6;\n",
       "            color:  #000000;\n",
       "        }#T_7e9d89f2_1213_11eb_a2a1_525400b97715row9_col12,#T_7e9d89f2_1213_11eb_a2a1_525400b97715row12_col9,#T_7e9d89f2_1213_11eb_a2a1_525400b97715row13_col15,#T_7e9d89f2_1213_11eb_a2a1_525400b97715row14_col15,#T_7e9d89f2_1213_11eb_a2a1_525400b97715row15_col13,#T_7e9d89f2_1213_11eb_a2a1_525400b97715row15_col14{\n",
       "            background-color:  #1e80b8;\n",
       "            color:  #000000;\n",
       "        }#T_7e9d89f2_1213_11eb_a2a1_525400b97715row9_col13,#T_7e9d89f2_1213_11eb_a2a1_525400b97715row13_col9{\n",
       "            background-color:  #6ba5cd;\n",
       "            color:  #000000;\n",
       "        }#T_7e9d89f2_1213_11eb_a2a1_525400b97715row9_col16,#T_7e9d89f2_1213_11eb_a2a1_525400b97715row16_col9{\n",
       "            background-color:  #046198;\n",
       "            color:  #f1f1f1;\n",
       "        }#T_7e9d89f2_1213_11eb_a2a1_525400b97715row10_col11,#T_7e9d89f2_1213_11eb_a2a1_525400b97715row11_col10{\n",
       "            background-color:  #05659f;\n",
       "            color:  #f1f1f1;\n",
       "        }#T_7e9d89f2_1213_11eb_a2a1_525400b97715row10_col12,#T_7e9d89f2_1213_11eb_a2a1_525400b97715row12_col10{\n",
       "            background-color:  #3991c1;\n",
       "            color:  #000000;\n",
       "        }#T_7e9d89f2_1213_11eb_a2a1_525400b97715row10_col16,#T_7e9d89f2_1213_11eb_a2a1_525400b97715row16_col10{\n",
       "            background-color:  #045f95;\n",
       "            color:  #f1f1f1;\n",
       "        }#T_7e9d89f2_1213_11eb_a2a1_525400b97715row11_col13,#T_7e9d89f2_1213_11eb_a2a1_525400b97715row13_col11{\n",
       "            background-color:  #91b5d6;\n",
       "            color:  #000000;\n",
       "        }#T_7e9d89f2_1213_11eb_a2a1_525400b97715row12_col13,#T_7e9d89f2_1213_11eb_a2a1_525400b97715row13_col12{\n",
       "            background-color:  #3f93c2;\n",
       "            color:  #000000;\n",
       "        }#T_7e9d89f2_1213_11eb_a2a1_525400b97715row12_col15,#T_7e9d89f2_1213_11eb_a2a1_525400b97715row15_col12{\n",
       "            background-color:  #96b6d7;\n",
       "            color:  #000000;\n",
       "        }#T_7e9d89f2_1213_11eb_a2a1_525400b97715row12_col16,#T_7e9d89f2_1213_11eb_a2a1_525400b97715row16_col12{\n",
       "            background-color:  #056dab;\n",
       "            color:  #f1f1f1;\n",
       "        }#T_7e9d89f2_1213_11eb_a2a1_525400b97715row15_col16,#T_7e9d89f2_1213_11eb_a2a1_525400b97715row16_col15{\n",
       "            background-color:  #71a8ce;\n",
       "            color:  #000000;\n",
       "        }</style><table id=\"T_7e9d89f2_1213_11eb_a2a1_525400b97715\" ><thead>    <tr>        <th class=\"blank level0\" ></th>        <th class=\"col_heading level0 col0\" >Rt</th>        <th class=\"col_heading level0 col1\" >theta</th>        <th class=\"col_heading level0 col2\" >kappa</th>        <th class=\"col_heading level0 col3\" >rho</th>        <th class=\"col_heading level0 col4\" >sigma</th>        <th class=\"col_heading level0 col5\" >School_closing</th>        <th class=\"col_heading level0 col6\" >Workplace_closing</th>        <th class=\"col_heading level0 col7\" >Cancel_events</th>        <th class=\"col_heading level0 col8\" >Gatherings_restrictions</th>        <th class=\"col_heading level0 col9\" >Transport_closing</th>        <th class=\"col_heading level0 col10\" >Stay_home_restrictions</th>        <th class=\"col_heading level0 col11\" >Internal_movement_restrictions</th>        <th class=\"col_heading level0 col12\" >International_movement_restrictions</th>        <th class=\"col_heading level0 col13\" >Information_campaigns</th>        <th class=\"col_heading level0 col14\" >Testing_policy</th>        <th class=\"col_heading level0 col15\" >Contact_tracing</th>        <th class=\"col_heading level0 col16\" >Stringency_index</th>    </tr></thead><tbody>\n",
       "                <tr>\n",
       "                        <th id=\"T_7e9d89f2_1213_11eb_a2a1_525400b97715level0_row0\" class=\"row_heading level0 row0\" >Rt</th>\n",
       "                        <td id=\"T_7e9d89f2_1213_11eb_a2a1_525400b97715row0_col0\" class=\"data row0 col0\" >1.000000</td>\n",
       "                        <td id=\"T_7e9d89f2_1213_11eb_a2a1_525400b97715row0_col1\" class=\"data row0 col1\" >-0.121386</td>\n",
       "                        <td id=\"T_7e9d89f2_1213_11eb_a2a1_525400b97715row0_col2\" class=\"data row0 col2\" >-0.075218</td>\n",
       "                        <td id=\"T_7e9d89f2_1213_11eb_a2a1_525400b97715row0_col3\" class=\"data row0 col3\" >0.337322</td>\n",
       "                        <td id=\"T_7e9d89f2_1213_11eb_a2a1_525400b97715row0_col4\" class=\"data row0 col4\" >-0.146933</td>\n",
       "                        <td id=\"T_7e9d89f2_1213_11eb_a2a1_525400b97715row0_col5\" class=\"data row0 col5\" >-0.181864</td>\n",
       "                        <td id=\"T_7e9d89f2_1213_11eb_a2a1_525400b97715row0_col6\" class=\"data row0 col6\" >-0.199836</td>\n",
       "                        <td id=\"T_7e9d89f2_1213_11eb_a2a1_525400b97715row0_col7\" class=\"data row0 col7\" >-0.095567</td>\n",
       "                        <td id=\"T_7e9d89f2_1213_11eb_a2a1_525400b97715row0_col8\" class=\"data row0 col8\" >-0.114691</td>\n",
       "                        <td id=\"T_7e9d89f2_1213_11eb_a2a1_525400b97715row0_col9\" class=\"data row0 col9\" >-0.091071</td>\n",
       "                        <td id=\"T_7e9d89f2_1213_11eb_a2a1_525400b97715row0_col10\" class=\"data row0 col10\" >-0.150895</td>\n",
       "                        <td id=\"T_7e9d89f2_1213_11eb_a2a1_525400b97715row0_col11\" class=\"data row0 col11\" >-0.214521</td>\n",
       "                        <td id=\"T_7e9d89f2_1213_11eb_a2a1_525400b97715row0_col12\" class=\"data row0 col12\" >-0.059635</td>\n",
       "                        <td id=\"T_7e9d89f2_1213_11eb_a2a1_525400b97715row0_col13\" class=\"data row0 col13\" >-0.177848</td>\n",
       "                        <td id=\"T_7e9d89f2_1213_11eb_a2a1_525400b97715row0_col14\" class=\"data row0 col14\" >-0.344414</td>\n",
       "                        <td id=\"T_7e9d89f2_1213_11eb_a2a1_525400b97715row0_col15\" class=\"data row0 col15\" >-0.284993</td>\n",
       "                        <td id=\"T_7e9d89f2_1213_11eb_a2a1_525400b97715row0_col16\" class=\"data row0 col16\" >-0.162571</td>\n",
       "            </tr>\n",
       "            <tr>\n",
       "                        <th id=\"T_7e9d89f2_1213_11eb_a2a1_525400b97715level0_row1\" class=\"row_heading level0 row1\" >theta</th>\n",
       "                        <td id=\"T_7e9d89f2_1213_11eb_a2a1_525400b97715row1_col0\" class=\"data row1 col0\" >-0.121386</td>\n",
       "                        <td id=\"T_7e9d89f2_1213_11eb_a2a1_525400b97715row1_col1\" class=\"data row1 col1\" >1.000000</td>\n",
       "                        <td id=\"T_7e9d89f2_1213_11eb_a2a1_525400b97715row1_col2\" class=\"data row1 col2\" >0.882919</td>\n",
       "                        <td id=\"T_7e9d89f2_1213_11eb_a2a1_525400b97715row1_col3\" class=\"data row1 col3\" >0.591385</td>\n",
       "                        <td id=\"T_7e9d89f2_1213_11eb_a2a1_525400b97715row1_col4\" class=\"data row1 col4\" >0.038471</td>\n",
       "                        <td id=\"T_7e9d89f2_1213_11eb_a2a1_525400b97715row1_col5\" class=\"data row1 col5\" >-0.099340</td>\n",
       "                        <td id=\"T_7e9d89f2_1213_11eb_a2a1_525400b97715row1_col6\" class=\"data row1 col6\" >-0.073710</td>\n",
       "                        <td id=\"T_7e9d89f2_1213_11eb_a2a1_525400b97715row1_col7\" class=\"data row1 col7\" >-0.216170</td>\n",
       "                        <td id=\"T_7e9d89f2_1213_11eb_a2a1_525400b97715row1_col8\" class=\"data row1 col8\" >-0.102426</td>\n",
       "                        <td id=\"T_7e9d89f2_1213_11eb_a2a1_525400b97715row1_col9\" class=\"data row1 col9\" >-0.106866</td>\n",
       "                        <td id=\"T_7e9d89f2_1213_11eb_a2a1_525400b97715row1_col10\" class=\"data row1 col10\" >0.226842</td>\n",
       "                        <td id=\"T_7e9d89f2_1213_11eb_a2a1_525400b97715row1_col11\" class=\"data row1 col11\" >0.074397</td>\n",
       "                        <td id=\"T_7e9d89f2_1213_11eb_a2a1_525400b97715row1_col12\" class=\"data row1 col12\" >0.067549</td>\n",
       "                        <td id=\"T_7e9d89f2_1213_11eb_a2a1_525400b97715row1_col13\" class=\"data row1 col13\" >-0.311999</td>\n",
       "                        <td id=\"T_7e9d89f2_1213_11eb_a2a1_525400b97715row1_col14\" class=\"data row1 col14\" >-0.221116</td>\n",
       "                        <td id=\"T_7e9d89f2_1213_11eb_a2a1_525400b97715row1_col15\" class=\"data row1 col15\" >0.026366</td>\n",
       "                        <td id=\"T_7e9d89f2_1213_11eb_a2a1_525400b97715row1_col16\" class=\"data row1 col16\" >-0.046554</td>\n",
       "            </tr>\n",
       "            <tr>\n",
       "                        <th id=\"T_7e9d89f2_1213_11eb_a2a1_525400b97715level0_row2\" class=\"row_heading level0 row2\" >kappa</th>\n",
       "                        <td id=\"T_7e9d89f2_1213_11eb_a2a1_525400b97715row2_col0\" class=\"data row2 col0\" >-0.075218</td>\n",
       "                        <td id=\"T_7e9d89f2_1213_11eb_a2a1_525400b97715row2_col1\" class=\"data row2 col1\" >0.882919</td>\n",
       "                        <td id=\"T_7e9d89f2_1213_11eb_a2a1_525400b97715row2_col2\" class=\"data row2 col2\" >1.000000</td>\n",
       "                        <td id=\"T_7e9d89f2_1213_11eb_a2a1_525400b97715row2_col3\" class=\"data row2 col3\" >0.691527</td>\n",
       "                        <td id=\"T_7e9d89f2_1213_11eb_a2a1_525400b97715row2_col4\" class=\"data row2 col4\" >0.020115</td>\n",
       "                        <td id=\"T_7e9d89f2_1213_11eb_a2a1_525400b97715row2_col5\" class=\"data row2 col5\" >-0.108480</td>\n",
       "                        <td id=\"T_7e9d89f2_1213_11eb_a2a1_525400b97715row2_col6\" class=\"data row2 col6\" >-0.093665</td>\n",
       "                        <td id=\"T_7e9d89f2_1213_11eb_a2a1_525400b97715row2_col7\" class=\"data row2 col7\" >-0.105642</td>\n",
       "                        <td id=\"T_7e9d89f2_1213_11eb_a2a1_525400b97715row2_col8\" class=\"data row2 col8\" >-0.071053</td>\n",
       "                        <td id=\"T_7e9d89f2_1213_11eb_a2a1_525400b97715row2_col9\" class=\"data row2 col9\" >-0.063889</td>\n",
       "                        <td id=\"T_7e9d89f2_1213_11eb_a2a1_525400b97715row2_col10\" class=\"data row2 col10\" >0.269353</td>\n",
       "                        <td id=\"T_7e9d89f2_1213_11eb_a2a1_525400b97715row2_col11\" class=\"data row2 col11\" >0.191641</td>\n",
       "                        <td id=\"T_7e9d89f2_1213_11eb_a2a1_525400b97715row2_col12\" class=\"data row2 col12\" >0.204272</td>\n",
       "                        <td id=\"T_7e9d89f2_1213_11eb_a2a1_525400b97715row2_col13\" class=\"data row2 col13\" >-0.346724</td>\n",
       "                        <td id=\"T_7e9d89f2_1213_11eb_a2a1_525400b97715row2_col14\" class=\"data row2 col14\" >-0.188759</td>\n",
       "                        <td id=\"T_7e9d89f2_1213_11eb_a2a1_525400b97715row2_col15\" class=\"data row2 col15\" >-0.020405</td>\n",
       "                        <td id=\"T_7e9d89f2_1213_11eb_a2a1_525400b97715row2_col16\" class=\"data row2 col16\" >-0.016548</td>\n",
       "            </tr>\n",
       "            <tr>\n",
       "                        <th id=\"T_7e9d89f2_1213_11eb_a2a1_525400b97715level0_row3\" class=\"row_heading level0 row3\" >rho</th>\n",
       "                        <td id=\"T_7e9d89f2_1213_11eb_a2a1_525400b97715row3_col0\" class=\"data row3 col0\" >0.337322</td>\n",
       "                        <td id=\"T_7e9d89f2_1213_11eb_a2a1_525400b97715row3_col1\" class=\"data row3 col1\" >0.591385</td>\n",
       "                        <td id=\"T_7e9d89f2_1213_11eb_a2a1_525400b97715row3_col2\" class=\"data row3 col2\" >0.691527</td>\n",
       "                        <td id=\"T_7e9d89f2_1213_11eb_a2a1_525400b97715row3_col3\" class=\"data row3 col3\" >1.000000</td>\n",
       "                        <td id=\"T_7e9d89f2_1213_11eb_a2a1_525400b97715row3_col4\" class=\"data row3 col4\" >0.212503</td>\n",
       "                        <td id=\"T_7e9d89f2_1213_11eb_a2a1_525400b97715row3_col5\" class=\"data row3 col5\" >-0.111550</td>\n",
       "                        <td id=\"T_7e9d89f2_1213_11eb_a2a1_525400b97715row3_col6\" class=\"data row3 col6\" >-0.136621</td>\n",
       "                        <td id=\"T_7e9d89f2_1213_11eb_a2a1_525400b97715row3_col7\" class=\"data row3 col7\" >-0.057106</td>\n",
       "                        <td id=\"T_7e9d89f2_1213_11eb_a2a1_525400b97715row3_col8\" class=\"data row3 col8\" >-0.018483</td>\n",
       "                        <td id=\"T_7e9d89f2_1213_11eb_a2a1_525400b97715row3_col9\" class=\"data row3 col9\" >-0.009477</td>\n",
       "                        <td id=\"T_7e9d89f2_1213_11eb_a2a1_525400b97715row3_col10\" class=\"data row3 col10\" >0.199315</td>\n",
       "                        <td id=\"T_7e9d89f2_1213_11eb_a2a1_525400b97715row3_col11\" class=\"data row3 col11\" >0.193697</td>\n",
       "                        <td id=\"T_7e9d89f2_1213_11eb_a2a1_525400b97715row3_col12\" class=\"data row3 col12\" >0.126025</td>\n",
       "                        <td id=\"T_7e9d89f2_1213_11eb_a2a1_525400b97715row3_col13\" class=\"data row3 col13\" >-0.409155</td>\n",
       "                        <td id=\"T_7e9d89f2_1213_11eb_a2a1_525400b97715row3_col14\" class=\"data row3 col14\" >-0.422852</td>\n",
       "                        <td id=\"T_7e9d89f2_1213_11eb_a2a1_525400b97715row3_col15\" class=\"data row3 col15\" >-0.268538</td>\n",
       "                        <td id=\"T_7e9d89f2_1213_11eb_a2a1_525400b97715row3_col16\" class=\"data row3 col16\" >-0.006305</td>\n",
       "            </tr>\n",
       "            <tr>\n",
       "                        <th id=\"T_7e9d89f2_1213_11eb_a2a1_525400b97715level0_row4\" class=\"row_heading level0 row4\" >sigma</th>\n",
       "                        <td id=\"T_7e9d89f2_1213_11eb_a2a1_525400b97715row4_col0\" class=\"data row4 col0\" >-0.146933</td>\n",
       "                        <td id=\"T_7e9d89f2_1213_11eb_a2a1_525400b97715row4_col1\" class=\"data row4 col1\" >0.038471</td>\n",
       "                        <td id=\"T_7e9d89f2_1213_11eb_a2a1_525400b97715row4_col2\" class=\"data row4 col2\" >0.020115</td>\n",
       "                        <td id=\"T_7e9d89f2_1213_11eb_a2a1_525400b97715row4_col3\" class=\"data row4 col3\" >0.212503</td>\n",
       "                        <td id=\"T_7e9d89f2_1213_11eb_a2a1_525400b97715row4_col4\" class=\"data row4 col4\" >1.000000</td>\n",
       "                        <td id=\"T_7e9d89f2_1213_11eb_a2a1_525400b97715row4_col5\" class=\"data row4 col5\" >0.280700</td>\n",
       "                        <td id=\"T_7e9d89f2_1213_11eb_a2a1_525400b97715row4_col6\" class=\"data row4 col6\" >0.089926</td>\n",
       "                        <td id=\"T_7e9d89f2_1213_11eb_a2a1_525400b97715row4_col7\" class=\"data row4 col7\" >0.246153</td>\n",
       "                        <td id=\"T_7e9d89f2_1213_11eb_a2a1_525400b97715row4_col8\" class=\"data row4 col8\" >0.115844</td>\n",
       "                        <td id=\"T_7e9d89f2_1213_11eb_a2a1_525400b97715row4_col9\" class=\"data row4 col9\" >0.201018</td>\n",
       "                        <td id=\"T_7e9d89f2_1213_11eb_a2a1_525400b97715row4_col10\" class=\"data row4 col10\" >0.219170</td>\n",
       "                        <td id=\"T_7e9d89f2_1213_11eb_a2a1_525400b97715row4_col11\" class=\"data row4 col11\" >0.285930</td>\n",
       "                        <td id=\"T_7e9d89f2_1213_11eb_a2a1_525400b97715row4_col12\" class=\"data row4 col12\" >0.049835</td>\n",
       "                        <td id=\"T_7e9d89f2_1213_11eb_a2a1_525400b97715row4_col13\" class=\"data row4 col13\" >0.018088</td>\n",
       "                        <td id=\"T_7e9d89f2_1213_11eb_a2a1_525400b97715row4_col14\" class=\"data row4 col14\" >-0.050360</td>\n",
       "                        <td id=\"T_7e9d89f2_1213_11eb_a2a1_525400b97715row4_col15\" class=\"data row4 col15\" >0.083876</td>\n",
       "                        <td id=\"T_7e9d89f2_1213_11eb_a2a1_525400b97715row4_col16\" class=\"data row4 col16\" >0.245887</td>\n",
       "            </tr>\n",
       "            <tr>\n",
       "                        <th id=\"T_7e9d89f2_1213_11eb_a2a1_525400b97715level0_row5\" class=\"row_heading level0 row5\" >School_closing</th>\n",
       "                        <td id=\"T_7e9d89f2_1213_11eb_a2a1_525400b97715row5_col0\" class=\"data row5 col0\" >-0.181864</td>\n",
       "                        <td id=\"T_7e9d89f2_1213_11eb_a2a1_525400b97715row5_col1\" class=\"data row5 col1\" >-0.099340</td>\n",
       "                        <td id=\"T_7e9d89f2_1213_11eb_a2a1_525400b97715row5_col2\" class=\"data row5 col2\" >-0.108480</td>\n",
       "                        <td id=\"T_7e9d89f2_1213_11eb_a2a1_525400b97715row5_col3\" class=\"data row5 col3\" >-0.111550</td>\n",
       "                        <td id=\"T_7e9d89f2_1213_11eb_a2a1_525400b97715row5_col4\" class=\"data row5 col4\" >0.280700</td>\n",
       "                        <td id=\"T_7e9d89f2_1213_11eb_a2a1_525400b97715row5_col5\" class=\"data row5 col5\" >1.000000</td>\n",
       "                        <td id=\"T_7e9d89f2_1213_11eb_a2a1_525400b97715row5_col6\" class=\"data row5 col6\" >0.738128</td>\n",
       "                        <td id=\"T_7e9d89f2_1213_11eb_a2a1_525400b97715row5_col7\" class=\"data row5 col7\" >0.709727</td>\n",
       "                        <td id=\"T_7e9d89f2_1213_11eb_a2a1_525400b97715row5_col8\" class=\"data row5 col8\" >0.584897</td>\n",
       "                        <td id=\"T_7e9d89f2_1213_11eb_a2a1_525400b97715row5_col9\" class=\"data row5 col9\" >0.543576</td>\n",
       "                        <td id=\"T_7e9d89f2_1213_11eb_a2a1_525400b97715row5_col10\" class=\"data row5 col10\" >0.630458</td>\n",
       "                        <td id=\"T_7e9d89f2_1213_11eb_a2a1_525400b97715row5_col11\" class=\"data row5 col11\" >0.536985</td>\n",
       "                        <td id=\"T_7e9d89f2_1213_11eb_a2a1_525400b97715row5_col12\" class=\"data row5 col12\" >0.393668</td>\n",
       "                        <td id=\"T_7e9d89f2_1213_11eb_a2a1_525400b97715row5_col13\" class=\"data row5 col13\" >0.569040</td>\n",
       "                        <td id=\"T_7e9d89f2_1213_11eb_a2a1_525400b97715row5_col14\" class=\"data row5 col14\" >0.325840</td>\n",
       "                        <td id=\"T_7e9d89f2_1213_11eb_a2a1_525400b97715row5_col15\" class=\"data row5 col15\" >0.268924</td>\n",
       "                        <td id=\"T_7e9d89f2_1213_11eb_a2a1_525400b97715row5_col16\" class=\"data row5 col16\" >0.806932</td>\n",
       "            </tr>\n",
       "            <tr>\n",
       "                        <th id=\"T_7e9d89f2_1213_11eb_a2a1_525400b97715level0_row6\" class=\"row_heading level0 row6\" >Workplace_closing</th>\n",
       "                        <td id=\"T_7e9d89f2_1213_11eb_a2a1_525400b97715row6_col0\" class=\"data row6 col0\" >-0.199836</td>\n",
       "                        <td id=\"T_7e9d89f2_1213_11eb_a2a1_525400b97715row6_col1\" class=\"data row6 col1\" >-0.073710</td>\n",
       "                        <td id=\"T_7e9d89f2_1213_11eb_a2a1_525400b97715row6_col2\" class=\"data row6 col2\" >-0.093665</td>\n",
       "                        <td id=\"T_7e9d89f2_1213_11eb_a2a1_525400b97715row6_col3\" class=\"data row6 col3\" >-0.136621</td>\n",
       "                        <td id=\"T_7e9d89f2_1213_11eb_a2a1_525400b97715row6_col4\" class=\"data row6 col4\" >0.089926</td>\n",
       "                        <td id=\"T_7e9d89f2_1213_11eb_a2a1_525400b97715row6_col5\" class=\"data row6 col5\" >0.738128</td>\n",
       "                        <td id=\"T_7e9d89f2_1213_11eb_a2a1_525400b97715row6_col6\" class=\"data row6 col6\" >1.000000</td>\n",
       "                        <td id=\"T_7e9d89f2_1213_11eb_a2a1_525400b97715row6_col7\" class=\"data row6 col7\" >0.616938</td>\n",
       "                        <td id=\"T_7e9d89f2_1213_11eb_a2a1_525400b97715row6_col8\" class=\"data row6 col8\" >0.602487</td>\n",
       "                        <td id=\"T_7e9d89f2_1213_11eb_a2a1_525400b97715row6_col9\" class=\"data row6 col9\" >0.518852</td>\n",
       "                        <td id=\"T_7e9d89f2_1213_11eb_a2a1_525400b97715row6_col10\" class=\"data row6 col10\" >0.632481</td>\n",
       "                        <td id=\"T_7e9d89f2_1213_11eb_a2a1_525400b97715row6_col11\" class=\"data row6 col11\" >0.436664</td>\n",
       "                        <td id=\"T_7e9d89f2_1213_11eb_a2a1_525400b97715row6_col12\" class=\"data row6 col12\" >0.388560</td>\n",
       "                        <td id=\"T_7e9d89f2_1213_11eb_a2a1_525400b97715row6_col13\" class=\"data row6 col13\" >0.700843</td>\n",
       "                        <td id=\"T_7e9d89f2_1213_11eb_a2a1_525400b97715row6_col14\" class=\"data row6 col14\" >0.349299</td>\n",
       "                        <td id=\"T_7e9d89f2_1213_11eb_a2a1_525400b97715row6_col15\" class=\"data row6 col15\" >0.378276</td>\n",
       "                        <td id=\"T_7e9d89f2_1213_11eb_a2a1_525400b97715row6_col16\" class=\"data row6 col16\" >0.814997</td>\n",
       "            </tr>\n",
       "            <tr>\n",
       "                        <th id=\"T_7e9d89f2_1213_11eb_a2a1_525400b97715level0_row7\" class=\"row_heading level0 row7\" >Cancel_events</th>\n",
       "                        <td id=\"T_7e9d89f2_1213_11eb_a2a1_525400b97715row7_col0\" class=\"data row7 col0\" >-0.095567</td>\n",
       "                        <td id=\"T_7e9d89f2_1213_11eb_a2a1_525400b97715row7_col1\" class=\"data row7 col1\" >-0.216170</td>\n",
       "                        <td id=\"T_7e9d89f2_1213_11eb_a2a1_525400b97715row7_col2\" class=\"data row7 col2\" >-0.105642</td>\n",
       "                        <td id=\"T_7e9d89f2_1213_11eb_a2a1_525400b97715row7_col3\" class=\"data row7 col3\" >-0.057106</td>\n",
       "                        <td id=\"T_7e9d89f2_1213_11eb_a2a1_525400b97715row7_col4\" class=\"data row7 col4\" >0.246153</td>\n",
       "                        <td id=\"T_7e9d89f2_1213_11eb_a2a1_525400b97715row7_col5\" class=\"data row7 col5\" >0.709727</td>\n",
       "                        <td id=\"T_7e9d89f2_1213_11eb_a2a1_525400b97715row7_col6\" class=\"data row7 col6\" >0.616938</td>\n",
       "                        <td id=\"T_7e9d89f2_1213_11eb_a2a1_525400b97715row7_col7\" class=\"data row7 col7\" >1.000000</td>\n",
       "                        <td id=\"T_7e9d89f2_1213_11eb_a2a1_525400b97715row7_col8\" class=\"data row7 col8\" >0.682191</td>\n",
       "                        <td id=\"T_7e9d89f2_1213_11eb_a2a1_525400b97715row7_col9\" class=\"data row7 col9\" >0.568606</td>\n",
       "                        <td id=\"T_7e9d89f2_1213_11eb_a2a1_525400b97715row7_col10\" class=\"data row7 col10\" >0.521999</td>\n",
       "                        <td id=\"T_7e9d89f2_1213_11eb_a2a1_525400b97715row7_col11\" class=\"data row7 col11\" >0.559993</td>\n",
       "                        <td id=\"T_7e9d89f2_1213_11eb_a2a1_525400b97715row7_col12\" class=\"data row7 col12\" >0.652380</td>\n",
       "                        <td id=\"T_7e9d89f2_1213_11eb_a2a1_525400b97715row7_col13\" class=\"data row7 col13\" >0.628839</td>\n",
       "                        <td id=\"T_7e9d89f2_1213_11eb_a2a1_525400b97715row7_col14\" class=\"data row7 col14\" >0.285607</td>\n",
       "                        <td id=\"T_7e9d89f2_1213_11eb_a2a1_525400b97715row7_col15\" class=\"data row7 col15\" >0.287302</td>\n",
       "                        <td id=\"T_7e9d89f2_1213_11eb_a2a1_525400b97715row7_col16\" class=\"data row7 col16\" >0.815084</td>\n",
       "            </tr>\n",
       "            <tr>\n",
       "                        <th id=\"T_7e9d89f2_1213_11eb_a2a1_525400b97715level0_row8\" class=\"row_heading level0 row8\" >Gatherings_restrictions</th>\n",
       "                        <td id=\"T_7e9d89f2_1213_11eb_a2a1_525400b97715row8_col0\" class=\"data row8 col0\" >-0.114691</td>\n",
       "                        <td id=\"T_7e9d89f2_1213_11eb_a2a1_525400b97715row8_col1\" class=\"data row8 col1\" >-0.102426</td>\n",
       "                        <td id=\"T_7e9d89f2_1213_11eb_a2a1_525400b97715row8_col2\" class=\"data row8 col2\" >-0.071053</td>\n",
       "                        <td id=\"T_7e9d89f2_1213_11eb_a2a1_525400b97715row8_col3\" class=\"data row8 col3\" >-0.018483</td>\n",
       "                        <td id=\"T_7e9d89f2_1213_11eb_a2a1_525400b97715row8_col4\" class=\"data row8 col4\" >0.115844</td>\n",
       "                        <td id=\"T_7e9d89f2_1213_11eb_a2a1_525400b97715row8_col5\" class=\"data row8 col5\" >0.584897</td>\n",
       "                        <td id=\"T_7e9d89f2_1213_11eb_a2a1_525400b97715row8_col6\" class=\"data row8 col6\" >0.602487</td>\n",
       "                        <td id=\"T_7e9d89f2_1213_11eb_a2a1_525400b97715row8_col7\" class=\"data row8 col7\" >0.682191</td>\n",
       "                        <td id=\"T_7e9d89f2_1213_11eb_a2a1_525400b97715row8_col8\" class=\"data row8 col8\" >1.000000</td>\n",
       "                        <td id=\"T_7e9d89f2_1213_11eb_a2a1_525400b97715row8_col9\" class=\"data row8 col9\" >0.744693</td>\n",
       "                        <td id=\"T_7e9d89f2_1213_11eb_a2a1_525400b97715row8_col10\" class=\"data row8 col10\" >0.628746</td>\n",
       "                        <td id=\"T_7e9d89f2_1213_11eb_a2a1_525400b97715row8_col11\" class=\"data row8 col11\" >0.672737</td>\n",
       "                        <td id=\"T_7e9d89f2_1213_11eb_a2a1_525400b97715row8_col12\" class=\"data row8 col12\" >0.601312</td>\n",
       "                        <td id=\"T_7e9d89f2_1213_11eb_a2a1_525400b97715row8_col13\" class=\"data row8 col13\" >0.564464</td>\n",
       "                        <td id=\"T_7e9d89f2_1213_11eb_a2a1_525400b97715row8_col14\" class=\"data row8 col14\" >0.243519</td>\n",
       "                        <td id=\"T_7e9d89f2_1213_11eb_a2a1_525400b97715row8_col15\" class=\"data row8 col15\" >0.132866</td>\n",
       "                        <td id=\"T_7e9d89f2_1213_11eb_a2a1_525400b97715row8_col16\" class=\"data row8 col16\" >0.848238</td>\n",
       "            </tr>\n",
       "            <tr>\n",
       "                        <th id=\"T_7e9d89f2_1213_11eb_a2a1_525400b97715level0_row9\" class=\"row_heading level0 row9\" >Transport_closing</th>\n",
       "                        <td id=\"T_7e9d89f2_1213_11eb_a2a1_525400b97715row9_col0\" class=\"data row9 col0\" >-0.091071</td>\n",
       "                        <td id=\"T_7e9d89f2_1213_11eb_a2a1_525400b97715row9_col1\" class=\"data row9 col1\" >-0.106866</td>\n",
       "                        <td id=\"T_7e9d89f2_1213_11eb_a2a1_525400b97715row9_col2\" class=\"data row9 col2\" >-0.063889</td>\n",
       "                        <td id=\"T_7e9d89f2_1213_11eb_a2a1_525400b97715row9_col3\" class=\"data row9 col3\" >-0.009477</td>\n",
       "                        <td id=\"T_7e9d89f2_1213_11eb_a2a1_525400b97715row9_col4\" class=\"data row9 col4\" >0.201018</td>\n",
       "                        <td id=\"T_7e9d89f2_1213_11eb_a2a1_525400b97715row9_col5\" class=\"data row9 col5\" >0.543576</td>\n",
       "                        <td id=\"T_7e9d89f2_1213_11eb_a2a1_525400b97715row9_col6\" class=\"data row9 col6\" >0.518852</td>\n",
       "                        <td id=\"T_7e9d89f2_1213_11eb_a2a1_525400b97715row9_col7\" class=\"data row9 col7\" >0.568606</td>\n",
       "                        <td id=\"T_7e9d89f2_1213_11eb_a2a1_525400b97715row9_col8\" class=\"data row9 col8\" >0.744693</td>\n",
       "                        <td id=\"T_7e9d89f2_1213_11eb_a2a1_525400b97715row9_col9\" class=\"data row9 col9\" >1.000000</td>\n",
       "                        <td id=\"T_7e9d89f2_1213_11eb_a2a1_525400b97715row9_col10\" class=\"data row9 col10\" >0.581461</td>\n",
       "                        <td id=\"T_7e9d89f2_1213_11eb_a2a1_525400b97715row9_col11\" class=\"data row9 col11\" >0.629738</td>\n",
       "                        <td id=\"T_7e9d89f2_1213_11eb_a2a1_525400b97715row9_col12\" class=\"data row9 col12\" >0.554816</td>\n",
       "                        <td id=\"T_7e9d89f2_1213_11eb_a2a1_525400b97715row9_col13\" class=\"data row9 col13\" >0.313260</td>\n",
       "                        <td id=\"T_7e9d89f2_1213_11eb_a2a1_525400b97715row9_col14\" class=\"data row9 col14\" >-0.016662</td>\n",
       "                        <td id=\"T_7e9d89f2_1213_11eb_a2a1_525400b97715row9_col15\" class=\"data row9 col15\" >-0.124239</td>\n",
       "                        <td id=\"T_7e9d89f2_1213_11eb_a2a1_525400b97715row9_col16\" class=\"data row9 col16\" >0.761587</td>\n",
       "            </tr>\n",
       "            <tr>\n",
       "                        <th id=\"T_7e9d89f2_1213_11eb_a2a1_525400b97715level0_row10\" class=\"row_heading level0 row10\" >Stay_home_restrictions</th>\n",
       "                        <td id=\"T_7e9d89f2_1213_11eb_a2a1_525400b97715row10_col0\" class=\"data row10 col0\" >-0.150895</td>\n",
       "                        <td id=\"T_7e9d89f2_1213_11eb_a2a1_525400b97715row10_col1\" class=\"data row10 col1\" >0.226842</td>\n",
       "                        <td id=\"T_7e9d89f2_1213_11eb_a2a1_525400b97715row10_col2\" class=\"data row10 col2\" >0.269353</td>\n",
       "                        <td id=\"T_7e9d89f2_1213_11eb_a2a1_525400b97715row10_col3\" class=\"data row10 col3\" >0.199315</td>\n",
       "                        <td id=\"T_7e9d89f2_1213_11eb_a2a1_525400b97715row10_col4\" class=\"data row10 col4\" >0.219170</td>\n",
       "                        <td id=\"T_7e9d89f2_1213_11eb_a2a1_525400b97715row10_col5\" class=\"data row10 col5\" >0.630458</td>\n",
       "                        <td id=\"T_7e9d89f2_1213_11eb_a2a1_525400b97715row10_col6\" class=\"data row10 col6\" >0.632481</td>\n",
       "                        <td id=\"T_7e9d89f2_1213_11eb_a2a1_525400b97715row10_col7\" class=\"data row10 col7\" >0.521999</td>\n",
       "                        <td id=\"T_7e9d89f2_1213_11eb_a2a1_525400b97715row10_col8\" class=\"data row10 col8\" >0.628746</td>\n",
       "                        <td id=\"T_7e9d89f2_1213_11eb_a2a1_525400b97715row10_col9\" class=\"data row10 col9\" >0.581461</td>\n",
       "                        <td id=\"T_7e9d89f2_1213_11eb_a2a1_525400b97715row10_col10\" class=\"data row10 col10\" >1.000000</td>\n",
       "                        <td id=\"T_7e9d89f2_1213_11eb_a2a1_525400b97715row10_col11\" class=\"data row10 col11\" >0.728149</td>\n",
       "                        <td id=\"T_7e9d89f2_1213_11eb_a2a1_525400b97715row10_col12\" class=\"data row10 col12\" >0.458008</td>\n",
       "                        <td id=\"T_7e9d89f2_1213_11eb_a2a1_525400b97715row10_col13\" class=\"data row10 col13\" >0.333761</td>\n",
       "                        <td id=\"T_7e9d89f2_1213_11eb_a2a1_525400b97715row10_col14\" class=\"data row10 col14\" >0.217887</td>\n",
       "                        <td id=\"T_7e9d89f2_1213_11eb_a2a1_525400b97715row10_col15\" class=\"data row10 col15\" >0.266429</td>\n",
       "                        <td id=\"T_7e9d89f2_1213_11eb_a2a1_525400b97715row10_col16\" class=\"data row10 col16\" >0.781126</td>\n",
       "            </tr>\n",
       "            <tr>\n",
       "                        <th id=\"T_7e9d89f2_1213_11eb_a2a1_525400b97715level0_row11\" class=\"row_heading level0 row11\" >Internal_movement_restrictions</th>\n",
       "                        <td id=\"T_7e9d89f2_1213_11eb_a2a1_525400b97715row11_col0\" class=\"data row11 col0\" >-0.214521</td>\n",
       "                        <td id=\"T_7e9d89f2_1213_11eb_a2a1_525400b97715row11_col1\" class=\"data row11 col1\" >0.074397</td>\n",
       "                        <td id=\"T_7e9d89f2_1213_11eb_a2a1_525400b97715row11_col2\" class=\"data row11 col2\" >0.191641</td>\n",
       "                        <td id=\"T_7e9d89f2_1213_11eb_a2a1_525400b97715row11_col3\" class=\"data row11 col3\" >0.193697</td>\n",
       "                        <td id=\"T_7e9d89f2_1213_11eb_a2a1_525400b97715row11_col4\" class=\"data row11 col4\" >0.285930</td>\n",
       "                        <td id=\"T_7e9d89f2_1213_11eb_a2a1_525400b97715row11_col5\" class=\"data row11 col5\" >0.536985</td>\n",
       "                        <td id=\"T_7e9d89f2_1213_11eb_a2a1_525400b97715row11_col6\" class=\"data row11 col6\" >0.436664</td>\n",
       "                        <td id=\"T_7e9d89f2_1213_11eb_a2a1_525400b97715row11_col7\" class=\"data row11 col7\" >0.559993</td>\n",
       "                        <td id=\"T_7e9d89f2_1213_11eb_a2a1_525400b97715row11_col8\" class=\"data row11 col8\" >0.672737</td>\n",
       "                        <td id=\"T_7e9d89f2_1213_11eb_a2a1_525400b97715row11_col9\" class=\"data row11 col9\" >0.629738</td>\n",
       "                        <td id=\"T_7e9d89f2_1213_11eb_a2a1_525400b97715row11_col10\" class=\"data row11 col10\" >0.728149</td>\n",
       "                        <td id=\"T_7e9d89f2_1213_11eb_a2a1_525400b97715row11_col11\" class=\"data row11 col11\" >1.000000</td>\n",
       "                        <td id=\"T_7e9d89f2_1213_11eb_a2a1_525400b97715row11_col12\" class=\"data row11 col12\" >0.387385</td>\n",
       "                        <td id=\"T_7e9d89f2_1213_11eb_a2a1_525400b97715row11_col13\" class=\"data row11 col13\" >0.185262</td>\n",
       "                        <td id=\"T_7e9d89f2_1213_11eb_a2a1_525400b97715row11_col14\" class=\"data row11 col14\" >0.239704</td>\n",
       "                        <td id=\"T_7e9d89f2_1213_11eb_a2a1_525400b97715row11_col15\" class=\"data row11 col15\" >0.076648</td>\n",
       "                        <td id=\"T_7e9d89f2_1213_11eb_a2a1_525400b97715row11_col16\" class=\"data row11 col16\" >0.682093</td>\n",
       "            </tr>\n",
       "            <tr>\n",
       "                        <th id=\"T_7e9d89f2_1213_11eb_a2a1_525400b97715level0_row12\" class=\"row_heading level0 row12\" >International_movement_restrictions</th>\n",
       "                        <td id=\"T_7e9d89f2_1213_11eb_a2a1_525400b97715row12_col0\" class=\"data row12 col0\" >-0.059635</td>\n",
       "                        <td id=\"T_7e9d89f2_1213_11eb_a2a1_525400b97715row12_col1\" class=\"data row12 col1\" >0.067549</td>\n",
       "                        <td id=\"T_7e9d89f2_1213_11eb_a2a1_525400b97715row12_col2\" class=\"data row12 col2\" >0.204272</td>\n",
       "                        <td id=\"T_7e9d89f2_1213_11eb_a2a1_525400b97715row12_col3\" class=\"data row12 col3\" >0.126025</td>\n",
       "                        <td id=\"T_7e9d89f2_1213_11eb_a2a1_525400b97715row12_col4\" class=\"data row12 col4\" >0.049835</td>\n",
       "                        <td id=\"T_7e9d89f2_1213_11eb_a2a1_525400b97715row12_col5\" class=\"data row12 col5\" >0.393668</td>\n",
       "                        <td id=\"T_7e9d89f2_1213_11eb_a2a1_525400b97715row12_col6\" class=\"data row12 col6\" >0.388560</td>\n",
       "                        <td id=\"T_7e9d89f2_1213_11eb_a2a1_525400b97715row12_col7\" class=\"data row12 col7\" >0.652380</td>\n",
       "                        <td id=\"T_7e9d89f2_1213_11eb_a2a1_525400b97715row12_col8\" class=\"data row12 col8\" >0.601312</td>\n",
       "                        <td id=\"T_7e9d89f2_1213_11eb_a2a1_525400b97715row12_col9\" class=\"data row12 col9\" >0.554816</td>\n",
       "                        <td id=\"T_7e9d89f2_1213_11eb_a2a1_525400b97715row12_col10\" class=\"data row12 col10\" >0.458008</td>\n",
       "                        <td id=\"T_7e9d89f2_1213_11eb_a2a1_525400b97715row12_col11\" class=\"data row12 col11\" >0.387385</td>\n",
       "                        <td id=\"T_7e9d89f2_1213_11eb_a2a1_525400b97715row12_col12\" class=\"data row12 col12\" >1.000000</td>\n",
       "                        <td id=\"T_7e9d89f2_1213_11eb_a2a1_525400b97715row12_col13\" class=\"data row12 col13\" >0.439337</td>\n",
       "                        <td id=\"T_7e9d89f2_1213_11eb_a2a1_525400b97715row12_col14\" class=\"data row12 col14\" >0.128126</td>\n",
       "                        <td id=\"T_7e9d89f2_1213_11eb_a2a1_525400b97715row12_col15\" class=\"data row12 col15\" >0.168860</td>\n",
       "                        <td id=\"T_7e9d89f2_1213_11eb_a2a1_525400b97715row12_col16\" class=\"data row12 col16\" >0.671229</td>\n",
       "            </tr>\n",
       "            <tr>\n",
       "                        <th id=\"T_7e9d89f2_1213_11eb_a2a1_525400b97715level0_row13\" class=\"row_heading level0 row13\" >Information_campaigns</th>\n",
       "                        <td id=\"T_7e9d89f2_1213_11eb_a2a1_525400b97715row13_col0\" class=\"data row13 col0\" >-0.177848</td>\n",
       "                        <td id=\"T_7e9d89f2_1213_11eb_a2a1_525400b97715row13_col1\" class=\"data row13 col1\" >-0.311999</td>\n",
       "                        <td id=\"T_7e9d89f2_1213_11eb_a2a1_525400b97715row13_col2\" class=\"data row13 col2\" >-0.346724</td>\n",
       "                        <td id=\"T_7e9d89f2_1213_11eb_a2a1_525400b97715row13_col3\" class=\"data row13 col3\" >-0.409155</td>\n",
       "                        <td id=\"T_7e9d89f2_1213_11eb_a2a1_525400b97715row13_col4\" class=\"data row13 col4\" >0.018088</td>\n",
       "                        <td id=\"T_7e9d89f2_1213_11eb_a2a1_525400b97715row13_col5\" class=\"data row13 col5\" >0.569040</td>\n",
       "                        <td id=\"T_7e9d89f2_1213_11eb_a2a1_525400b97715row13_col6\" class=\"data row13 col6\" >0.700843</td>\n",
       "                        <td id=\"T_7e9d89f2_1213_11eb_a2a1_525400b97715row13_col7\" class=\"data row13 col7\" >0.628839</td>\n",
       "                        <td id=\"T_7e9d89f2_1213_11eb_a2a1_525400b97715row13_col8\" class=\"data row13 col8\" >0.564464</td>\n",
       "                        <td id=\"T_7e9d89f2_1213_11eb_a2a1_525400b97715row13_col9\" class=\"data row13 col9\" >0.313260</td>\n",
       "                        <td id=\"T_7e9d89f2_1213_11eb_a2a1_525400b97715row13_col10\" class=\"data row13 col10\" >0.333761</td>\n",
       "                        <td id=\"T_7e9d89f2_1213_11eb_a2a1_525400b97715row13_col11\" class=\"data row13 col11\" >0.185262</td>\n",
       "                        <td id=\"T_7e9d89f2_1213_11eb_a2a1_525400b97715row13_col12\" class=\"data row13 col12\" >0.439337</td>\n",
       "                        <td id=\"T_7e9d89f2_1213_11eb_a2a1_525400b97715row13_col13\" class=\"data row13 col13\" >1.000000</td>\n",
       "                        <td id=\"T_7e9d89f2_1213_11eb_a2a1_525400b97715row13_col14\" class=\"data row13 col14\" >0.535198</td>\n",
       "                        <td id=\"T_7e9d89f2_1213_11eb_a2a1_525400b97715row13_col15\" class=\"data row13 col15\" >0.551953</td>\n",
       "                        <td id=\"T_7e9d89f2_1213_11eb_a2a1_525400b97715row13_col16\" class=\"data row13 col16\" >0.690388</td>\n",
       "            </tr>\n",
       "            <tr>\n",
       "                        <th id=\"T_7e9d89f2_1213_11eb_a2a1_525400b97715level0_row14\" class=\"row_heading level0 row14\" >Testing_policy</th>\n",
       "                        <td id=\"T_7e9d89f2_1213_11eb_a2a1_525400b97715row14_col0\" class=\"data row14 col0\" >-0.344414</td>\n",
       "                        <td id=\"T_7e9d89f2_1213_11eb_a2a1_525400b97715row14_col1\" class=\"data row14 col1\" >-0.221116</td>\n",
       "                        <td id=\"T_7e9d89f2_1213_11eb_a2a1_525400b97715row14_col2\" class=\"data row14 col2\" >-0.188759</td>\n",
       "                        <td id=\"T_7e9d89f2_1213_11eb_a2a1_525400b97715row14_col3\" class=\"data row14 col3\" >-0.422852</td>\n",
       "                        <td id=\"T_7e9d89f2_1213_11eb_a2a1_525400b97715row14_col4\" class=\"data row14 col4\" >-0.050360</td>\n",
       "                        <td id=\"T_7e9d89f2_1213_11eb_a2a1_525400b97715row14_col5\" class=\"data row14 col5\" >0.325840</td>\n",
       "                        <td id=\"T_7e9d89f2_1213_11eb_a2a1_525400b97715row14_col6\" class=\"data row14 col6\" >0.349299</td>\n",
       "                        <td id=\"T_7e9d89f2_1213_11eb_a2a1_525400b97715row14_col7\" class=\"data row14 col7\" >0.285607</td>\n",
       "                        <td id=\"T_7e9d89f2_1213_11eb_a2a1_525400b97715row14_col8\" class=\"data row14 col8\" >0.243519</td>\n",
       "                        <td id=\"T_7e9d89f2_1213_11eb_a2a1_525400b97715row14_col9\" class=\"data row14 col9\" >-0.016662</td>\n",
       "                        <td id=\"T_7e9d89f2_1213_11eb_a2a1_525400b97715row14_col10\" class=\"data row14 col10\" >0.217887</td>\n",
       "                        <td id=\"T_7e9d89f2_1213_11eb_a2a1_525400b97715row14_col11\" class=\"data row14 col11\" >0.239704</td>\n",
       "                        <td id=\"T_7e9d89f2_1213_11eb_a2a1_525400b97715row14_col12\" class=\"data row14 col12\" >0.128126</td>\n",
       "                        <td id=\"T_7e9d89f2_1213_11eb_a2a1_525400b97715row14_col13\" class=\"data row14 col13\" >0.535198</td>\n",
       "                        <td id=\"T_7e9d89f2_1213_11eb_a2a1_525400b97715row14_col14\" class=\"data row14 col14\" >1.000000</td>\n",
       "                        <td id=\"T_7e9d89f2_1213_11eb_a2a1_525400b97715row14_col15\" class=\"data row14 col15\" >0.551459</td>\n",
       "                        <td id=\"T_7e9d89f2_1213_11eb_a2a1_525400b97715row14_col16\" class=\"data row14 col16\" >0.240351</td>\n",
       "            </tr>\n",
       "            <tr>\n",
       "                        <th id=\"T_7e9d89f2_1213_11eb_a2a1_525400b97715level0_row15\" class=\"row_heading level0 row15\" >Contact_tracing</th>\n",
       "                        <td id=\"T_7e9d89f2_1213_11eb_a2a1_525400b97715row15_col0\" class=\"data row15 col0\" >-0.284993</td>\n",
       "                        <td id=\"T_7e9d89f2_1213_11eb_a2a1_525400b97715row15_col1\" class=\"data row15 col1\" >0.026366</td>\n",
       "                        <td id=\"T_7e9d89f2_1213_11eb_a2a1_525400b97715row15_col2\" class=\"data row15 col2\" >-0.020405</td>\n",
       "                        <td id=\"T_7e9d89f2_1213_11eb_a2a1_525400b97715row15_col3\" class=\"data row15 col3\" >-0.268538</td>\n",
       "                        <td id=\"T_7e9d89f2_1213_11eb_a2a1_525400b97715row15_col4\" class=\"data row15 col4\" >0.083876</td>\n",
       "                        <td id=\"T_7e9d89f2_1213_11eb_a2a1_525400b97715row15_col5\" class=\"data row15 col5\" >0.268924</td>\n",
       "                        <td id=\"T_7e9d89f2_1213_11eb_a2a1_525400b97715row15_col6\" class=\"data row15 col6\" >0.378276</td>\n",
       "                        <td id=\"T_7e9d89f2_1213_11eb_a2a1_525400b97715row15_col7\" class=\"data row15 col7\" >0.287302</td>\n",
       "                        <td id=\"T_7e9d89f2_1213_11eb_a2a1_525400b97715row15_col8\" class=\"data row15 col8\" >0.132866</td>\n",
       "                        <td id=\"T_7e9d89f2_1213_11eb_a2a1_525400b97715row15_col9\" class=\"data row15 col9\" >-0.124239</td>\n",
       "                        <td id=\"T_7e9d89f2_1213_11eb_a2a1_525400b97715row15_col10\" class=\"data row15 col10\" >0.266429</td>\n",
       "                        <td id=\"T_7e9d89f2_1213_11eb_a2a1_525400b97715row15_col11\" class=\"data row15 col11\" >0.076648</td>\n",
       "                        <td id=\"T_7e9d89f2_1213_11eb_a2a1_525400b97715row15_col12\" class=\"data row15 col12\" >0.168860</td>\n",
       "                        <td id=\"T_7e9d89f2_1213_11eb_a2a1_525400b97715row15_col13\" class=\"data row15 col13\" >0.551953</td>\n",
       "                        <td id=\"T_7e9d89f2_1213_11eb_a2a1_525400b97715row15_col14\" class=\"data row15 col14\" >0.551459</td>\n",
       "                        <td id=\"T_7e9d89f2_1213_11eb_a2a1_525400b97715row15_col15\" class=\"data row15 col15\" >1.000000</td>\n",
       "                        <td id=\"T_7e9d89f2_1213_11eb_a2a1_525400b97715row15_col16\" class=\"data row15 col16\" >0.298126</td>\n",
       "            </tr>\n",
       "            <tr>\n",
       "                        <th id=\"T_7e9d89f2_1213_11eb_a2a1_525400b97715level0_row16\" class=\"row_heading level0 row16\" >Stringency_index</th>\n",
       "                        <td id=\"T_7e9d89f2_1213_11eb_a2a1_525400b97715row16_col0\" class=\"data row16 col0\" >-0.162571</td>\n",
       "                        <td id=\"T_7e9d89f2_1213_11eb_a2a1_525400b97715row16_col1\" class=\"data row16 col1\" >-0.046554</td>\n",
       "                        <td id=\"T_7e9d89f2_1213_11eb_a2a1_525400b97715row16_col2\" class=\"data row16 col2\" >-0.016548</td>\n",
       "                        <td id=\"T_7e9d89f2_1213_11eb_a2a1_525400b97715row16_col3\" class=\"data row16 col3\" >-0.006305</td>\n",
       "                        <td id=\"T_7e9d89f2_1213_11eb_a2a1_525400b97715row16_col4\" class=\"data row16 col4\" >0.245887</td>\n",
       "                        <td id=\"T_7e9d89f2_1213_11eb_a2a1_525400b97715row16_col5\" class=\"data row16 col5\" >0.806932</td>\n",
       "                        <td id=\"T_7e9d89f2_1213_11eb_a2a1_525400b97715row16_col6\" class=\"data row16 col6\" >0.814997</td>\n",
       "                        <td id=\"T_7e9d89f2_1213_11eb_a2a1_525400b97715row16_col7\" class=\"data row16 col7\" >0.815084</td>\n",
       "                        <td id=\"T_7e9d89f2_1213_11eb_a2a1_525400b97715row16_col8\" class=\"data row16 col8\" >0.848238</td>\n",
       "                        <td id=\"T_7e9d89f2_1213_11eb_a2a1_525400b97715row16_col9\" class=\"data row16 col9\" >0.761587</td>\n",
       "                        <td id=\"T_7e9d89f2_1213_11eb_a2a1_525400b97715row16_col10\" class=\"data row16 col10\" >0.781126</td>\n",
       "                        <td id=\"T_7e9d89f2_1213_11eb_a2a1_525400b97715row16_col11\" class=\"data row16 col11\" >0.682093</td>\n",
       "                        <td id=\"T_7e9d89f2_1213_11eb_a2a1_525400b97715row16_col12\" class=\"data row16 col12\" >0.671229</td>\n",
       "                        <td id=\"T_7e9d89f2_1213_11eb_a2a1_525400b97715row16_col13\" class=\"data row16 col13\" >0.690388</td>\n",
       "                        <td id=\"T_7e9d89f2_1213_11eb_a2a1_525400b97715row16_col14\" class=\"data row16 col14\" >0.240351</td>\n",
       "                        <td id=\"T_7e9d89f2_1213_11eb_a2a1_525400b97715row16_col15\" class=\"data row16 col15\" >0.298126</td>\n",
       "                        <td id=\"T_7e9d89f2_1213_11eb_a2a1_525400b97715row16_col16\" class=\"data row16 col16\" >1.000000</td>\n",
       "            </tr>\n",
       "    </tbody></table>"
      ],
      "text/plain": [
       "<pandas.io.formats.style.Styler at 0x7fa6125cdbe0>"
      ]
     },
     "execution_count": 21,
     "metadata": {},
     "output_type": "execute_result"
    }
   ],
   "source": [
    "# Correlation\n",
    "df = track_df.copy()\n",
    "df.corr().style.background_gradient(axis=None)"
   ]
  },
  {
   "cell_type": "code",
   "execution_count": 22,
   "metadata": {
    "collapsed": false
   },
   "outputs": [
    {
     "data": {
      "image/png": "[encoded data removed]",
      "text/plain": [
       "<Figure size 432x288 with 1 Axes>"
      ]
     },
     "metadata": {},
     "output_type": "display_data"
    }
   ],
   "source": [
    "# Scatter plot of Stringency index and Rt\n",
    "df = track_df.copy()\n",
    "sns.scatterplot(data=df, x=\"Stringency_index\", y=\"Rt\", hue=\"Country\", legend=\"brief\", marker=\"+\")\n",
    "bbox_to_anchor=(1.02, 0)\n",
    "bbox_loc=\"lower left\"\n",
    "plt.legend(bbox_to_anchor=bbox_to_anchor, loc=bbox_loc, borderaxespad=0)\n",
    "plt.title(\"Relationship of Stringency index and reproduction number\")\n",
    "plt.ylabel(\"Reproduction number\")\n",
    "plt.xlabel(\"Stringency index\")\n",
    "plt.show()"
   ]
  }
 ],
 "metadata": {
  "kernelspec": {
   "display_name": "Python 3.8.2 64-bit ('.venv': venv)",
   "name": "python_defaultSpec_1597669925034"
  },
  "language_info": {
   "codemirror_mode": {
    "name": "ipython",
    "version": 3
   },
   "file_extension": ".py",
   "mimetype": "text/x-python",
   "name": "python",
   "nbconvert_exporter": "python",
   "pygments_lexer": "ipython3",
   "version": "3.8.2-final"
  }
 },
 "nbformat": 4,
 "nbformat_minor": 4
}
