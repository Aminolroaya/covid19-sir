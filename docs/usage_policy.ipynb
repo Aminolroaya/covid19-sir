{
 "cells": [
  {
   "cell_type": "markdown",
   "metadata": {},
   "source": [
    "# Usage (details: policy measures)\n",
    "Here, we will analyse the relationship of policy measures and parameter values of SIR-derived ODE models. Policy measures are tracked by [Oxford Covid-19 Government Response Tracker (OxCGRT)](https://github.com/OxCGRT/covid-policy-tracker)."
   ]
  },
  {
   "cell_type": "markdown",
   "metadata": {},
   "source": [
    "## Preparation"
   ]
  },
  {
   "cell_type": "code",
   "execution_count": 1,
   "metadata": {
    "collapsed": false
   },
   "outputs": [],
   "source": [
    "# Standard users\n",
    "# !pip install covsirphy\n",
    "# Developers (Note: this notebook is in example directory)\n",
    "import os\n",
    "os.chdir(\"../\")"
   ]
  },
  {
   "cell_type": "code",
   "execution_count": 2,
   "metadata": {
    "collapsed": false
   },
   "outputs": [],
   "source": [
    "from pprint import pprint"
   ]
  },
  {
   "cell_type": "code",
   "execution_count": 3,
   "metadata": {
    "collapsed": false
   },
   "outputs": [
    {
     "data": {
      "text/plain": [
       "'2.12.0-phi.new.339.357.359.362.366.367.382.383.389.408.fix.360.373.406'"
      ]
     },
     "execution_count": 3,
     "metadata": {},
     "output_type": "execute_result"
    }
   ],
   "source": [
    "import covsirphy as cs\n",
    "cs.__version__"
   ]
  },
  {
   "cell_type": "code",
   "execution_count": 4,
   "metadata": {
    "collapsed": false,
    "tags": []
   },
   "outputs": [
    {
     "name": "stdout",
     "output_type": "stream",
     "text": [
      "(Secondary source) Guidotti, E., Ardia, D., (2020), \"COVID-19 Data Hub\", Journal of Open Source Software 5(51):2376, doi: 10.21105/joss.02376.\n"
     ]
    }
   ],
   "source": [
    "# Standard users and developers\n",
    "data_loader = cs.DataLoader(\"input\")\n",
    "# The number of cases (JHU style)\n",
    "jhu_data = data_loader.jhu(verbose=False)\n",
    "# Population in each country\n",
    "population_data = data_loader.population(verbose=False)\n",
    "# Government Response Tracker (OxCGRT)\n",
    "oxcgrt_data = data_loader.oxcgrt(verbose=False)\n",
    "# Description/citation\n",
    "print(oxcgrt_data.citation)"
   ]
  },
  {
   "cell_type": "markdown",
   "metadata": {},
   "source": [
    "## Class for policy measure analysis\n",
    "We will `PolicyMeasures` class to find relationship of policy measures and parameter values of SIR-derived ODE models."
   ]
  },
  {
   "cell_type": "code",
   "execution_count": 5,
   "metadata": {
    "collapsed": false,
    "tags": []
   },
   "outputs": [
    {
     "name": "stderr",
     "output_type": "stream",
     "text": [
      "/home/runner/.local/share/virtualenvs/covid19-sir-kT3BL-HO/lib/python3.8/site-packages/scipy/interpolate/fitpack2.py:253: UserWarning: \n",
      "The maximal number of iterations maxit (set to 20 by the program)\n",
      "allowed for finding a smoothing spline with fp=s has been reached: s\n",
      "too small.\n",
      "There is an approximation returned but the corresponding weighted sum\n",
      "of squared residuals does not satisfy the condition abs(fp-s)/s < tol.\n",
      "  warnings.warn(message)\n"
     ]
    },
    {
     "data": {
      "text/plain": [
       "196"
      ]
     },
     "execution_count": 5,
     "metadata": {},
     "output_type": "execute_result"
    }
   ],
   "source": [
    "# Create analyser with tau value 360 [min] (can be changed)\n",
    "analyser = cs.PolicyMeasures(jhu_data, population_data, oxcgrt_data, tau=360)\n",
    "# The number of registerd countries\n",
    "len(analyser.countries)"
   ]
  },
  {
   "cell_type": "code",
   "execution_count": 6,
   "metadata": {
    "collapsed": false
   },
   "outputs": [
    {
     "data": {
      "text/plain": [
       "covsirphy.analysis.scenario.Scenario"
      ]
     },
     "execution_count": 6,
     "metadata": {},
     "output_type": "execute_result"
    }
   ],
   "source": [
    "# We can get Scenario instance for detailed scenario analysis\n",
    "type(analyser.scenario(\"Japan\"))"
   ]
  },
  {
   "cell_type": "markdown",
   "metadata": {},
   "source": [
    "## Set phases with S-R trend analysis\n",
    "We will perform S-R trend analysis to set phases in all countries. Countries which do not have **16th phases** will be un-registered for the next analysis. This number will be adjusted for your analysis."
   ]
  },
  {
   "cell_type": "code",
   "execution_count": 7,
   "metadata": {
    "collapsed": false
   },
   "outputs": [
    {
     "name": "stdout",
     "output_type": "stream",
     "text": [
      "{2: ['Holy See', 'Timor-Leste', 'Solomon Islands'],\n",
      " 3: ['Laos', 'Tanzania', 'Saint Kitts and Nevis'],\n",
      " 4: ['Brunei', 'Saint Lucia', 'Grenada', 'Dominica'],\n",
      " 5: ['Equatorial Guinea', 'Fiji'],\n",
      " 6: ['Saint Vincent and the Grenadines', 'Mauritius', 'Antigua and Barbuda'],\n",
      " 7: ['Gambia'],\n",
      " 8: ['Monaco', 'Lesotho', 'Northern Mariana Islands', 'Vietnam', 'Madagascar',\n",
      "     'Kyrgyzstan', 'Liechtenstein', 'Seychelles', 'Cambodia', 'Bahamas',\n",
      "     'Trinidad and Tobago'],\n",
      " 9: ['Burundi', 'Swaziland', 'Barbados', 'Zambia', 'Virgin Islands, U.S.',\n",
      "     'Republic of the Congo', 'Bermuda', 'Oman', 'Namibia', 'Jamaica',\n",
      "     'Australia', 'Belize', 'Djibouti', 'Uzbekistan', 'Papua New Guinea',\n",
      "     'Suriname', 'Sao Tome and Principe', 'Zimbabwe', 'Ghana', 'South Africa',\n",
      "     'Bolivia', 'Malawi', 'Kazakhstan'],\n",
      " 10: ['Bahrain', 'New Zealand', 'Syria', 'Egypt', 'Nigeria', 'Kuwait', 'Kenya',\n",
      "      'Benin', 'Algeria', 'Central African Republic', 'Dominican Republic',\n",
      "      'Guyana', 'Angola', 'Rwanda', 'Bhutan', 'Israel', 'Mongolia', 'Maldives',\n",
      "      'Saudi Arabia', 'Senegal', 'Eritrea', 'Gabon', 'Libya', 'Mozambique',\n",
      "      'Venezuela', 'Honduras', 'Guatemala', 'Botswana', 'Comoros', 'Singapore',\n",
      "      \"Cote d'Ivoire\", 'Liberia', 'Ethiopia', 'Philippines', 'Chile'],\n",
      " 11: ['Cameroon', 'Guam', 'Guinea', 'Sudan', 'El Salvador', 'Panama', 'India',\n",
      "      'Brazil', 'Paraguay', 'Cape Verde', 'Costa Rica', 'Mexico', 'Pakistan',\n",
      "      'Chad', 'Iraq', 'Bangladesh', 'Ecuador', 'Taiwan', 'Peru', 'Nicaragua',\n",
      "      'Puerto Rico', 'Jordan', 'Sierra Leone', 'Colombia', 'Guinea-Bissau',\n",
      "      'Yemen'],\n",
      " 12: ['Japan', 'Montenegro', 'United Arab Emirates', 'Sri Lanka', 'South Sudan',\n",
      "      'Argentina', 'Qatar', 'Tajikistan', 'Nepal', 'Togo', 'Georgia', 'Myanmar',\n",
      "      'Kosovo', 'Indonesia', 'Uganda', 'Democratic Republic of the Congo',\n",
      "      'Iceland', 'Niger'],\n",
      " 13: ['Croatia', 'Armenia', 'Norway', 'Slovakia', 'United States', 'Mauritania',\n",
      "      'Somalia', 'Greece', 'Bulgaria', 'Luxembourg', 'San Marino', 'Hungary',\n",
      "      'Serbia', 'Palestine', 'Moldova', 'Mali', 'Uruguay', 'Burkina Faso',\n",
      "      'Russia', 'Cuba', 'Slovenia', 'Poland', 'Azerbaijan', 'Haiti', 'Cyprus',\n",
      "      'Malta', 'China'],\n",
      " 14: ['Morocco', 'Albania', 'Spain', 'Bosnia and Herzegovina', 'Belarus',\n",
      "      'Ireland', 'Turkey', 'Andorra', 'Iran', 'North Macedonia', 'Malaysia',\n",
      "      'Czech Republic', 'Tunisia', 'Sweden', 'Lithuania', 'Thailand',\n",
      "      'Afghanistan'],\n",
      " 15: ['Austria', 'Lebanon', 'Italy', 'Estonia', 'Switzerland', 'Latvia',\n",
      "      'Denmark', 'Germany', 'Ukraine', 'Finland', 'Romania'],\n",
      " 16: ['France', 'United Kingdom', 'Belgium', 'Canada', 'Netherlands',\n",
      "      'Portugal']}\n"
     ]
    }
   ],
   "source": [
    "# Show the number of phases of all countries\n",
    "analyser.trend()\n",
    "pprint(analyser.phase_len(), compact=True)"
   ]
  },
  {
   "cell_type": "code",
   "execution_count": 8,
   "metadata": {
    "collapsed": false
   },
   "outputs": [
    {
     "data": {
      "text/plain": [
       "6"
      ]
     },
     "execution_count": 8,
     "metadata": {},
     "output_type": "execute_result"
    }
   ],
   "source": [
    "# Set phases with S-R trend analysis\n",
    "analyser.trend(min_len=16)\n",
    "# The number of countries\n",
    "len(analyser.countries)"
   ]
  },
  {
   "cell_type": "code",
   "execution_count": 9,
   "metadata": {
    "collapsed": false,
    "tags": []
   },
   "outputs": [
    {
     "name": "stdout",
     "output_type": "stream",
     "text": [
      "{16: ['France', 'United Kingdom', 'Belgium', 'Canada', 'Netherlands',\n",
      "      'Portugal']}\n"
     ]
    }
   ],
   "source": [
    "phase_len_dict = analyser.phase_len()\n",
    "pprint(phase_len_dict, compact=True)"
   ]
  },
  {
   "cell_type": "code",
   "execution_count": 10,
   "metadata": {
    "collapsed": false,
    "tags": []
   },
   "outputs": [
    {
     "data": {
      "text/html": [
       "<div>\n",
       "<style scoped>\n",
       "    .dataframe tbody tr th:only-of-type {\n",
       "        vertical-align: middle;\n",
       "    }\n",
       "\n",
       "    .dataframe tbody tr th {\n",
       "        vertical-align: top;\n",
       "    }\n",
       "\n",
       "    .dataframe thead th {\n",
       "        text-align: right;\n",
       "    }\n",
       "</style>\n",
       "<table border=\"1\" class=\"dataframe\">\n",
       "  <thead>\n",
       "    <tr style=\"text-align: right;\">\n",
       "      <th></th>\n",
       "      <th></th>\n",
       "      <th>Type</th>\n",
       "      <th>Start</th>\n",
       "      <th>End</th>\n",
       "      <th>Population</th>\n",
       "    </tr>\n",
       "    <tr>\n",
       "      <th>Country</th>\n",
       "      <th>Phase</th>\n",
       "      <th></th>\n",
       "      <th></th>\n",
       "      <th></th>\n",
       "      <th></th>\n",
       "    </tr>\n",
       "  </thead>\n",
       "  <tbody>\n",
       "    <tr>\n",
       "      <th rowspan=\"5\" valign=\"top\">France</th>\n",
       "      <th>0th</th>\n",
       "      <td>Past</td>\n",
       "      <td>07Feb2020</td>\n",
       "      <td>30Mar2020</td>\n",
       "      <td>66977107</td>\n",
       "    </tr>\n",
       "    <tr>\n",
       "      <th>1st</th>\n",
       "      <td>Past</td>\n",
       "      <td>31Mar2020</td>\n",
       "      <td>22Apr2020</td>\n",
       "      <td>66977107</td>\n",
       "    </tr>\n",
       "    <tr>\n",
       "      <th>2nd</th>\n",
       "      <td>Past</td>\n",
       "      <td>23Apr2020</td>\n",
       "      <td>08Jul2020</td>\n",
       "      <td>66977107</td>\n",
       "    </tr>\n",
       "    <tr>\n",
       "      <th>3rd</th>\n",
       "      <td>Past</td>\n",
       "      <td>09Jul2020</td>\n",
       "      <td>18Aug2020</td>\n",
       "      <td>66977107</td>\n",
       "    </tr>\n",
       "    <tr>\n",
       "      <th>4th</th>\n",
       "      <td>Past</td>\n",
       "      <td>19Aug2020</td>\n",
       "      <td>02Sep2020</td>\n",
       "      <td>66977107</td>\n",
       "    </tr>\n",
       "    <tr>\n",
       "      <th>...</th>\n",
       "      <th>...</th>\n",
       "      <td>...</td>\n",
       "      <td>...</td>\n",
       "      <td>...</td>\n",
       "      <td>...</td>\n",
       "    </tr>\n",
       "    <tr>\n",
       "      <th rowspan=\"5\" valign=\"top\">Portugal</th>\n",
       "      <th>11th</th>\n",
       "      <td>Past</td>\n",
       "      <td>28Oct2020</td>\n",
       "      <td>02Nov2020</td>\n",
       "      <td>10283822</td>\n",
       "    </tr>\n",
       "    <tr>\n",
       "      <th>12th</th>\n",
       "      <td>Past</td>\n",
       "      <td>03Nov2020</td>\n",
       "      <td>12Nov2020</td>\n",
       "      <td>10283822</td>\n",
       "    </tr>\n",
       "    <tr>\n",
       "      <th>13th</th>\n",
       "      <td>Past</td>\n",
       "      <td>13Nov2020</td>\n",
       "      <td>22Nov2020</td>\n",
       "      <td>10283822</td>\n",
       "    </tr>\n",
       "    <tr>\n",
       "      <th>14th</th>\n",
       "      <td>Past</td>\n",
       "      <td>23Nov2020</td>\n",
       "      <td>03Dec2020</td>\n",
       "      <td>10283822</td>\n",
       "    </tr>\n",
       "    <tr>\n",
       "      <th>15th</th>\n",
       "      <td>Past</td>\n",
       "      <td>04Dec2020</td>\n",
       "      <td>12Dec2020</td>\n",
       "      <td>10283822</td>\n",
       "    </tr>\n",
       "  </tbody>\n",
       "</table>\n",
       "<p>96 rows × 4 columns</p>\n",
       "</div>"
      ],
      "text/plain": [
       "                Type      Start        End  Population\n",
       "Country  Phase                                        \n",
       "France   0th    Past  07Feb2020  30Mar2020    66977107\n",
       "         1st    Past  31Mar2020  22Apr2020    66977107\n",
       "         2nd    Past  23Apr2020  08Jul2020    66977107\n",
       "         3rd    Past  09Jul2020  18Aug2020    66977107\n",
       "         4th    Past  19Aug2020  02Sep2020    66977107\n",
       "...              ...        ...        ...         ...\n",
       "Portugal 11th   Past  28Oct2020  02Nov2020    10283822\n",
       "         12th   Past  03Nov2020  12Nov2020    10283822\n",
       "         13th   Past  13Nov2020  22Nov2020    10283822\n",
       "         14th   Past  23Nov2020  03Dec2020    10283822\n",
       "         15th   Past  04Dec2020  12Dec2020    10283822\n",
       "\n",
       "[96 rows x 4 columns]"
      ]
     },
     "execution_count": 10,
     "metadata": {},
     "output_type": "execute_result"
    }
   ],
   "source": [
    "# Here, only show the countries which have the most phases\n",
    "countries_show = max(phase_len_dict.items(), key=lambda x: x[0])[1]\n",
    "# Show summary\n",
    "analyser.summary(countries=countries_show)"
   ]
  },
  {
   "cell_type": "markdown",
   "metadata": {},
   "source": [
    "## Parameter estimation\n",
    "we will estimate the parameter values with SIR-derived ODE models in each country."
   ]
  },
  {
   "cell_type": "code",
   "execution_count": 11,
   "metadata": {
    "collapsed": false,
    "tags": []
   },
   "outputs": [
    {
     "name": "stdout",
     "output_type": "stream",
     "text": [
      "\n",
      "<SIR-F model: parameter estimation>\n",
      "Running optimization with 4 CPUs...\n"
     ]
    },
    {
     "name": "stderr",
     "output_type": "stream",
     "text": [
      "/home/runner/.local/share/virtualenvs/covid19-sir-kT3BL-HO/lib/python3.8/site-packages/scipy/interpolate/fitpack2.py:253: UserWarning: \n",
      "The maximal number of iterations maxit (set to 20 by the program)\n",
      "allowed for finding a smoothing spline with fp=s has been reached: s\n",
      "too small.\n",
      "There is an approximation returned but the corresponding weighted sum\n",
      "of squared residuals does not satisfy the condition abs(fp-s)/s < tol.\n",
      "  warnings.warn(message)\n"
     ]
    },
    {
     "name": "stdout",
     "output_type": "stream",
     "text": [
      "\tGBR,  0th phase (18Feb2020 - 06Apr2020): finished  321 trials in 0 min 10 sec"
     ]
    },
    {
     "name": "stdout",
     "output_type": "stream",
     "text": [
      "\n"
     ]
    },
    {
     "name": "stdout",
     "output_type": "stream",
     "text": [
      "\tNLD,  2nd phase (17Apr2020 - 22May2020): finished  324 trials in 0 min 10 sec"
     ]
    },
    {
     "name": "stdout",
     "output_type": "stream",
     "text": [
      "\n"
     ]
    },
    {
     "name": "stdout",
     "output_type": "stream",
     "text": [
      "\tFRA,  6th phase (15Sep2020 - 22Sep2020): finished  341 trials in 0 min 10 sec"
     ]
    },
    {
     "name": "stdout",
     "output_type": "stream",
     "text": [
      "\n"
     ]
    },
    {
     "name": "stdout",
     "output_type": "stream",
     "text": [
      "\tNLD,  3rd phase (23May2020 - 07Aug2020): finished  320 trials in 0 min 10 sec"
     ]
    },
    {
     "name": "stdout",
     "output_type": "stream",
     "text": [
      "\n"
     ]
    },
    {
     "name": "stdout",
     "output_type": "stream",
     "text": [
      "\tNLD,  1st phase (01Apr2020 - 16Apr2020): finished  363 trials in 0 min 10 sec"
     ]
    },
    {
     "name": "stdout",
     "output_type": "stream",
     "text": [
      "\n"
     ]
    },
    {
     "name": "stdout",
     "output_type": "stream",
     "text": [
      "\tPRT,  0th phase (14Mar2020 - 01Apr2020): finished  355 trials in 0 min 10 sec"
     ]
    },
    {
     "name": "stdout",
     "output_type": "stream",
     "text": [
      "\n"
     ]
    },
    {
     "name": "stdout",
     "output_type": "stream",
     "text": [
      "\tNLD,  8th phase (05Oct2020 - 14Oct2020): finished  362 trials in 0 min 10 sec"
     ]
    },
    {
     "name": "stdout",
     "output_type": "stream",
     "text": [
      "\n"
     ]
    },
    {
     "name": "stdout",
     "output_type": "stream",
     "text": [
      "\tNLD, 11th phase (04Nov2020 - 13Nov2020): finished  365 trials in 0 min 10 sec"
     ]
    },
    {
     "name": "stdout",
     "output_type": "stream",
     "text": [
      "\n"
     ]
    },
    {
     "name": "stderr",
     "output_type": "stream",
     "text": [
      "/home/runner/.local/share/virtualenvs/covid19-sir-kT3BL-HO/lib/python3.8/site-packages/scipy/interpolate/fitpack2.py:253: UserWarning: \n",
      "The maximal number of iterations maxit (set to 20 by the program)\n",
      "allowed for finding a smoothing spline with fp=s has been reached: s\n",
      "too small.\n",
      "There is an approximation returned but the corresponding weighted sum\n",
      "of squared residuals does not satisfy the condition abs(fp-s)/s < tol.\n",
      "  warnings.warn(message)\n"
     ]
    },
    {
     "name": "stdout",
     "output_type": "stream",
     "text": [
      "\tGBR,  4th phase (12Jun2020 - 16Aug2020): finished  346 trials in 0 min 10 sec"
     ]
    },
    {
     "name": "stdout",
     "output_type": "stream",
     "text": [
      "\n"
     ]
    },
    {
     "name": "stdout",
     "output_type": "stream",
     "text": [
      "\tCAN,  7th phase (20Sep2020 - 04Oct2020): finished  361 trials in 0 min 10 sec"
     ]
    },
    {
     "name": "stdout",
     "output_type": "stream",
     "text": [
      "\n"
     ]
    },
    {
     "name": "stdout",
     "output_type": "stream",
     "text": [
      "\tFRA, 13th phase (11Nov2020 - 23Nov2020): finished  360 trials in 0 min 10 sec"
     ]
    },
    {
     "name": "stdout",
     "output_type": "stream",
     "text": [
      "\n"
     ]
    },
    {
     "name": "stdout",
     "output_type": "stream",
     "text": [
      "\tBEL, 10th phase (23Oct2020 - 01Nov2020): finished  365 trials in 0 min 10 sec"
     ]
    },
    {
     "name": "stdout",
     "output_type": "stream",
     "text": [
      "\n"
     ]
    },
    {
     "name": "stderr",
     "output_type": "stream",
     "text": [
      "/home/runner/.local/share/virtualenvs/covid19-sir-kT3BL-HO/lib/python3.8/site-packages/scipy/interpolate/fitpack2.py:253: UserWarning: \n",
      "The maximal number of iterations maxit (set to 20 by the program)\n",
      "allowed for finding a smoothing spline with fp=s has been reached: s\n",
      "too small.\n",
      "There is an approximation returned but the corresponding weighted sum\n",
      "of squared residuals does not satisfy the condition abs(fp-s)/s < tol.\n",
      "  warnings.warn(message)\n"
     ]
    },
    {
     "name": "stdout",
     "output_type": "stream",
     "text": [
      "\tGBR, 15th phase (04Dec2020 - 12Dec2020): finished  366 trials in 0 min 10 sec"
     ]
    },
    {
     "name": "stdout",
     "output_type": "stream",
     "text": [
      "\n"
     ]
    },
    {
     "name": "stdout",
     "output_type": "stream",
     "text": [
      "\tBEL,  6th phase (15Sep2020 - 28Sep2020): finished  362 trials in 0 min 10 sec"
     ]
    },
    {
     "name": "stdout",
     "output_type": "stream",
     "text": [
      "\n"
     ]
    },
    {
     "name": "stdout",
     "output_type": "stream",
     "text": [
      "\tGBR,  8th phase (12Oct2020 - 19Oct2020): finished  365 trials in 0 min 10 sec"
     ]
    },
    {
     "name": "stdout",
     "output_type": "stream",
     "text": [
      "\n"
     ]
    },
    {
     "name": "stdout",
     "output_type": "stream",
     "text": [
      "\tFRA, 15th phase (03Dec2020 - 12Dec2020): finished  365 trials in 0 min 10 sec"
     ]
    },
    {
     "name": "stdout",
     "output_type": "stream",
     "text": [
      "\n"
     ]
    },
    {
     "name": "stdout",
     "output_type": "stream",
     "text": [
      "\tCAN,  0th phase (02Mar2020 - 07Apr2020): finished  355 trials in 0 min 10 sec"
     ]
    },
    {
     "name": "stdout",
     "output_type": "stream",
     "text": [
      "\n"
     ]
    },
    {
     "name": "stdout",
     "output_type": "stream",
     "text": [
      "\tPRT,  7th phase (16Sep2020 - 01Oct2020): finished  360 trials in 0 min 10 sec"
     ]
    },
    {
     "name": "stdout",
     "output_type": "stream",
     "text": [
      "\n"
     ]
    },
    {
     "name": "stdout",
     "output_type": "stream",
     "text": [
      "\tBEL,  2nd phase (14Apr2020 - 07May2020): finished  356 trials in 0 min 10 sec"
     ]
    },
    {
     "name": "stdout",
     "output_type": "stream",
     "text": [
      "\n"
     ]
    },
    {
     "name": "stdout",
     "output_type": "stream",
     "text": [
      "\tGBR, 14th phase (25Nov2020 - 03Dec2020): finished  366 trials in 0 min 10 sec"
     ]
    },
    {
     "name": "stdout",
     "output_type": "stream",
     "text": [
      "\n"
     ]
    },
    {
     "name": "stdout",
     "output_type": "stream",
     "text": [
      "\tBEL,  0th phase (13Mar2020 - 30Mar2020): finished  362 trials in 0 min 10 sec"
     ]
    },
    {
     "name": "stdout",
     "output_type": "stream",
     "text": [
      "\n"
     ]
    },
    {
     "name": "stdout",
     "output_type": "stream",
     "text": [
      "\tCAN, 13th phase (22Nov2020 - 28Nov2020): finished  365 trials in 0 min 10 sec"
     ]
    },
    {
     "name": "stdout",
     "output_type": "stream",
     "text": [
      "\n"
     ]
    },
    {
     "name": "stdout",
     "output_type": "stream",
     "text": [
      "\tCAN,  9th phase (18Oct2020 - 28Oct2020): finished  362 trials in 0 min 10 sec"
     ]
    },
    {
     "name": "stdout",
     "output_type": "stream",
     "text": [
      "\n"
     ]
    },
    {
     "name": "stdout",
     "output_type": "stream",
     "text": [
      "\tGBR, 13th phase (18Nov2020 - 24Nov2020): finished  365 trials in 0 min 10 sec"
     ]
    },
    {
     "name": "stdout",
     "output_type": "stream",
     "text": [
      "\n"
     ]
    },
    {
     "name": "stderr",
     "output_type": "stream",
     "text": [
      "/home/runner/.local/share/virtualenvs/covid19-sir-kT3BL-HO/lib/python3.8/site-packages/scipy/interpolate/fitpack2.py:253: UserWarning: \n",
      "The maximal number of iterations maxit (set to 20 by the program)\n",
      "allowed for finding a smoothing spline with fp=s has been reached: s\n",
      "too small.\n",
      "There is an approximation returned but the corresponding weighted sum\n",
      "of squared residuals does not satisfy the condition abs(fp-s)/s < tol.\n",
      "  warnings.warn(message)\n"
     ]
    },
    {
     "name": "stdout",
     "output_type": "stream",
     "text": [
      "\tBEL, 11th phase (02Nov2020 - 07Nov2020): finished  350 trials in 0 min 10 sec"
     ]
    },
    {
     "name": "stdout",
     "output_type": "stream",
     "text": [
      "\n"
     ]
    },
    {
     "name": "stdout",
     "output_type": "stream",
     "text": [
      "\tPRT,  6th phase (26Aug2020 - 15Sep2020): finished  341 trials in 0 min 10 sec"
     ]
    },
    {
     "name": "stdout",
     "output_type": "stream",
     "text": [
      "\n"
     ]
    },
    {
     "name": "stdout",
     "output_type": "stream",
     "text": [
      "\tCAN, 10th phase (29Oct2020 - 06Nov2020): finished  347 trials in 0 min 10 sec"
     ]
    },
    {
     "name": "stdout",
     "output_type": "stream",
     "text": [
      "\n"
     ]
    },
    {
     "name": "stderr",
     "output_type": "stream",
     "text": [
      "/home/runner/.local/share/virtualenvs/covid19-sir-kT3BL-HO/lib/python3.8/site-packages/scipy/interpolate/fitpack2.py:253: UserWarning: \n",
      "The maximal number of iterations maxit (set to 20 by the program)\n",
      "allowed for finding a smoothing spline with fp=s has been reached: s\n",
      "too small.\n",
      "There is an approximation returned but the corresponding weighted sum\n",
      "of squared residuals does not satisfy the condition abs(fp-s)/s < tol.\n",
      "  warnings.warn(message)\n"
     ]
    },
    {
     "name": "stdout",
     "output_type": "stream",
     "text": [
      "\tFRA, 12th phase (01Nov2020 - 10Nov2020): finished  346 trials in 0 min 10 sec"
     ]
    },
    {
     "name": "stdout",
     "output_type": "stream",
     "text": [
      "\n"
     ]
    },
    {
     "name": "stderr",
     "output_type": "stream",
     "text": [
      "/home/runner/.local/share/virtualenvs/covid19-sir-kT3BL-HO/lib/python3.8/site-packages/scipy/interpolate/fitpack2.py:253: UserWarning: \n",
      "The maximal number of iterations maxit (set to 20 by the program)\n",
      "allowed for finding a smoothing spline with fp=s has been reached: s\n",
      "too small.\n",
      "There is an approximation returned but the corresponding weighted sum\n",
      "of squared residuals does not satisfy the condition abs(fp-s)/s < tol.\n",
      "  warnings.warn(message)\n"
     ]
    },
    {
     "name": "stdout",
     "output_type": "stream",
     "text": [
      "\tBEL,  5th phase (23Aug2020 - 14Sep2020): finished  358 trials in 0 min 10 sec"
     ]
    },
    {
     "name": "stdout",
     "output_type": "stream",
     "text": [
      "\n"
     ]
    },
    {
     "name": "stdout",
     "output_type": "stream",
     "text": [
      "\tFRA,  4th phase (19Aug2020 - 02Sep2020): finished  358 trials in 0 min 10 sec"
     ]
    },
    {
     "name": "stdout",
     "output_type": "stream",
     "text": [
      "\n"
     ]
    },
    {
     "name": "stderr",
     "output_type": "stream",
     "text": [
      "/home/runner/.local/share/virtualenvs/covid19-sir-kT3BL-HO/lib/python3.8/site-packages/scipy/interpolate/fitpack2.py:253: UserWarning: \n",
      "The maximal number of iterations maxit (set to 20 by the program)\n",
      "allowed for finding a smoothing spline with fp=s has been reached: s\n",
      "too small.\n",
      "There is an approximation returned but the corresponding weighted sum\n",
      "of squared residuals does not satisfy the condition abs(fp-s)/s < tol.\n",
      "  warnings.warn(message)\n"
     ]
    },
    {
     "name": "stdout",
     "output_type": "stream",
     "text": [
      "\tCAN,  5th phase (14Jul2020 - 22Aug2020): finished  350 trials in 0 min 10 sec"
     ]
    },
    {
     "name": "stdout",
     "output_type": "stream",
     "text": [
      "\n"
     ]
    },
    {
     "name": "stderr",
     "output_type": "stream",
     "text": [
      "/home/runner/.local/share/virtualenvs/covid19-sir-kT3BL-HO/lib/python3.8/site-packages/scipy/interpolate/fitpack2.py:253: UserWarning: \n",
      "The maximal number of iterations maxit (set to 20 by the program)\n",
      "allowed for finding a smoothing spline with fp=s has been reached: s\n",
      "too small.\n",
      "There is an approximation returned but the corresponding weighted sum\n",
      "of squared residuals does not satisfy the condition abs(fp-s)/s < tol.\n",
      "  warnings.warn(message)\n"
     ]
    },
    {
     "name": "stdout",
     "output_type": "stream",
     "text": [
      "\tFRA,  0th phase (07Feb2020 - 30Mar2020): finished  347 trials in 0 min 10 sec"
     ]
    },
    {
     "name": "stdout",
     "output_type": "stream",
     "text": [
      "\n"
     ]
    },
    {
     "name": "stdout",
     "output_type": "stream",
     "text": [
      "\tFRA, 14th phase (24Nov2020 - 02Dec2020): finished  363 trials in 0 min 10 sec"
     ]
    },
    {
     "name": "stdout",
     "output_type": "stream",
     "text": [
      "\n"
     ]
    },
    {
     "name": "stdout",
     "output_type": "stream",
     "text": [
      "\tFRA,  9th phase (09Oct2020 - 15Oct2020): finished  363 trials in 0 min 10 sec"
     ]
    },
    {
     "name": "stdout",
     "output_type": "stream",
     "text": [
      "\n"
     ]
    },
    {
     "name": "stdout",
     "output_type": "stream",
     "text": [
      "\tPRT,  3rd phase (21May2020 - 18Jun2020): finished  347 trials in 0 min 10 sec"
     ]
    },
    {
     "name": "stdout",
     "output_type": "stream",
     "text": [
      "\n"
     ]
    },
    {
     "name": "stdout",
     "output_type": "stream",
     "text": [
      "\tNLD,  6th phase (19Sep2020 - 27Sep2020): finished  361 trials in 0 min 10 sec"
     ]
    },
    {
     "name": "stdout",
     "output_type": "stream",
     "text": [
      "\n"
     ]
    },
    {
     "name": "stderr",
     "output_type": "stream",
     "text": [
      "/home/runner/.local/share/virtualenvs/covid19-sir-kT3BL-HO/lib/python3.8/site-packages/scipy/interpolate/fitpack2.py:253: UserWarning: \n",
      "The maximal number of iterations maxit (set to 20 by the program)\n",
      "allowed for finding a smoothing spline with fp=s has been reached: s\n",
      "too small.\n",
      "There is an approximation returned but the corresponding weighted sum\n",
      "of squared residuals does not satisfy the condition abs(fp-s)/s < tol.\n",
      "  warnings.warn(message)\n"
     ]
    },
    {
     "name": "stdout",
     "output_type": "stream",
     "text": [
      "\tNLD, 10th phase (25Oct2020 - 03Nov2020): finished  361 trials in 0 min 10 sec"
     ]
    },
    {
     "name": "stdout",
     "output_type": "stream",
     "text": [
      "\n"
     ]
    },
    {
     "name": "stdout",
     "output_type": "stream",
     "text": [
      "\tPRT, 10th phase (22Oct2020 - 27Oct2020): finished  361 trials in 0 min 10 sec"
     ]
    },
    {
     "name": "stdout",
     "output_type": "stream",
     "text": [
      "\n"
     ]
    },
    {
     "name": "stdout",
     "output_type": "stream",
     "text": [
      "\tBEL, 15th phase (02Dec2020 - 12Dec2020): finished  360 trials in 0 min 10 sec"
     ]
    },
    {
     "name": "stdout",
     "output_type": "stream",
     "text": [
      "\n"
     ]
    },
    {
     "name": "stdout",
     "output_type": "stream",
     "text": [
      "\tFRA,  5th phase (03Sep2020 - 14Sep2020): finished  362 trials in 0 min 10 sec"
     ]
    },
    {
     "name": "stdout",
     "output_type": "stream",
     "text": [
      "\n"
     ]
    },
    {
     "name": "stdout",
     "output_type": "stream",
     "text": [
      "\tBEL,  9th phase (13Oct2020 - 22Oct2020): finished  365 trials in 0 min 10 sec"
     ]
    },
    {
     "name": "stdout",
     "output_type": "stream",
     "text": [
      "\n"
     ]
    },
    {
     "name": "stdout",
     "output_type": "stream",
     "text": [
      "\tCAN, 11th phase (07Nov2020 - 14Nov2020): finished  363 trials in 0 min 10 sec"
     ]
    },
    {
     "name": "stdout",
     "output_type": "stream",
     "text": [
      "\n"
     ]
    },
    {
     "name": "stdout",
     "output_type": "stream",
     "text": [
      "\tGBR, 12th phase (12Nov2020 - 17Nov2020): finished  364 trials in 0 min 10 sec"
     ]
    },
    {
     "name": "stdout",
     "output_type": "stream",
     "text": [
      "\n"
     ]
    },
    {
     "name": "stdout",
     "output_type": "stream",
     "text": [
      "\tPRT, 12th phase (03Nov2020 - 12Nov2020): finished  363 trials in 0 min 10 sec"
     ]
    },
    {
     "name": "stdout",
     "output_type": "stream",
     "text": [
      "\n"
     ]
    },
    {
     "name": "stdout",
     "output_type": "stream",
     "text": [
      "\tCAN,  6th phase (23Aug2020 - 19Sep2020): finished  337 trials in 0 min 10 sec"
     ]
    },
    {
     "name": "stdout",
     "output_type": "stream",
     "text": [
      "\n"
     ]
    },
    {
     "name": "stdout",
     "output_type": "stream",
     "text": [
      "\tPRT, 13th phase (13Nov2020 - 22Nov2020): finished  341 trials in 0 min 10 sec"
     ]
    },
    {
     "name": "stdout",
     "output_type": "stream",
     "text": [
      "\n"
     ]
    },
    {
     "name": "stdout",
     "output_type": "stream",
     "text": [
      "\tCAN,  2nd phase (22Apr2020 - 06May2020): finished  341 trials in 0 min 10 sec"
     ]
    },
    {
     "name": "stdout",
     "output_type": "stream",
     "text": [
      "\n"
     ]
    },
    {
     "name": "stdout",
     "output_type": "stream",
     "text": [
      "\tCAN, 12th phase (15Nov2020 - 21Nov2020): finished  336 trials in 0 min 10 sec"
     ]
    },
    {
     "name": "stdout",
     "output_type": "stream",
     "text": [
      "\n"
     ]
    },
    {
     "name": "stdout",
     "output_type": "stream",
     "text": [
      "\tGBR,  1st phase (07Apr2020 - 23Apr2020): finished  359 trials in 0 min 10 sec"
     ]
    },
    {
     "name": "stdout",
     "output_type": "stream",
     "text": [
      "\n"
     ]
    },
    {
     "name": "stdout",
     "output_type": "stream",
     "text": [
      "\tBEL,  8th phase (07Oct2020 - 12Oct2020): finished  360 trials in 0 min 10 sec"
     ]
    },
    {
     "name": "stdout",
     "output_type": "stream",
     "text": [
      "\n"
     ]
    },
    {
     "name": "stdout",
     "output_type": "stream",
     "text": [
      "\tNLD, 14th phase (26Nov2020 - 01Dec2020): finished  361 trials in 0 min 10 sec"
     ]
    },
    {
     "name": "stdout",
     "output_type": "stream",
     "text": [
      "\n"
     ]
    },
    {
     "name": "stdout",
     "output_type": "stream",
     "text": [
      "\tCAN,  8th phase (05Oct2020 - 17Oct2020): finished  358 trials in 0 min 10 sec"
     ]
    },
    {
     "name": "stdout",
     "output_type": "stream",
     "text": [
      "\n"
     ]
    },
    {
     "name": "stdout",
     "output_type": "stream",
     "text": [
      "\tPRT, 11th phase (28Oct2020 - 02Nov2020): finished  366 trials in 0 min 10 sec"
     ]
    },
    {
     "name": "stdout",
     "output_type": "stream",
     "text": [
      "\n"
     ]
    },
    {
     "name": "stdout",
     "output_type": "stream",
     "text": [
      "\tBEL,  3rd phase (08May2020 - 27Jul2020): finished  337 trials in 0 min 10 sec"
     ]
    },
    {
     "name": "stdout",
     "output_type": "stream",
     "text": [
      "\n"
     ]
    },
    {
     "name": "stdout",
     "output_type": "stream",
     "text": [
      "\tPRT, 14th phase (23Nov2020 - 03Dec2020): finished  360 trials in 0 min 10 sec"
     ]
    },
    {
     "name": "stdout",
     "output_type": "stream",
     "text": [
      "\n"
     ]
    },
    {
     "name": "stderr",
     "output_type": "stream",
     "text": [
      "/home/runner/.local/share/virtualenvs/covid19-sir-kT3BL-HO/lib/python3.8/site-packages/scipy/interpolate/fitpack2.py:253: UserWarning: \n",
      "The maximal number of iterations maxit (set to 20 by the program)\n",
      "allowed for finding a smoothing spline with fp=s has been reached: s\n",
      "too small.\n",
      "There is an approximation returned but the corresponding weighted sum\n",
      "of squared residuals does not satisfy the condition abs(fp-s)/s < tol.\n",
      "  warnings.warn(message)\n"
     ]
    },
    {
     "name": "stderr",
     "output_type": "stream",
     "text": [
      "/home/runner/.local/share/virtualenvs/covid19-sir-kT3BL-HO/lib/python3.8/site-packages/scipy/interpolate/fitpack2.py:253: UserWarning: \n",
      "The maximal number of iterations maxit (set to 20 by the program)\n",
      "allowed for finding a smoothing spline with fp=s has been reached: s\n",
      "too small.\n",
      "There is an approximation returned but the corresponding weighted sum\n",
      "of squared residuals does not satisfy the condition abs(fp-s)/s < tol.\n",
      "  warnings.warn(message)\n"
     ]
    },
    {
     "name": "stdout",
     "output_type": "stream",
     "text": [
      "\tNLD, 12th phase (14Nov2020 - 19Nov2020): finished  365 trials in 0 min 10 sec"
     ]
    },
    {
     "name": "stdout",
     "output_type": "stream",
     "text": [
      "\n"
     ]
    },
    {
     "name": "stdout",
     "output_type": "stream",
     "text": [
      "\tCAN,  3rd phase (07May2020 - 27May2020): finished  359 trials in 0 min 10 sec"
     ]
    },
    {
     "name": "stdout",
     "output_type": "stream",
     "text": [
      "\n"
     ]
    },
    {
     "name": "stdout",
     "output_type": "stream",
     "text": [
      "\tFRA,  8th phase (02Oct2020 - 08Oct2020): finished  364 trials in 0 min 10 sec"
     ]
    },
    {
     "name": "stdout",
     "output_type": "stream",
     "text": [
      "\n"
     ]
    },
    {
     "name": "stdout",
     "output_type": "stream",
     "text": [
      "\tFRA,  3rd phase (09Jul2020 - 18Aug2020): finished  351 trials in 0 min 10 sec"
     ]
    },
    {
     "name": "stdout",
     "output_type": "stream",
     "text": [
      "\n"
     ]
    },
    {
     "name": "stdout",
     "output_type": "stream",
     "text": [
      "\tPRT,  8th phase (02Oct2020 - 13Oct2020): finished  362 trials in 0 min 10 sec"
     ]
    },
    {
     "name": "stdout",
     "output_type": "stream",
     "text": [
      "\n"
     ]
    },
    {
     "name": "stdout",
     "output_type": "stream",
     "text": [
      "\tCAN,  4th phase (28May2020 - 13Jul2020): finished  350 trials in 0 min 10 sec"
     ]
    },
    {
     "name": "stdout",
     "output_type": "stream",
     "text": [
      "\n"
     ]
    },
    {
     "name": "stdout",
     "output_type": "stream",
     "text": [
      "\tCAN, 14th phase (29Nov2020 - 05Dec2020): finished  364 trials in 0 min 10 sec"
     ]
    },
    {
     "name": "stdout",
     "output_type": "stream",
     "text": [
      "\n"
     ]
    },
    {
     "name": "stdout",
     "output_type": "stream",
     "text": [
      "\tCAN,  1st phase (08Apr2020 - 21Apr2020): finished  359 trials in 0 min 10 sec"
     ]
    },
    {
     "name": "stdout",
     "output_type": "stream",
     "text": [
      "\n"
     ]
    },
    {
     "name": "stdout",
     "output_type": "stream",
     "text": [
      "\tGBR, 11th phase (06Nov2020 - 11Nov2020): finished  365 trials in 0 min 10 sec"
     ]
    },
    {
     "name": "stdout",
     "output_type": "stream",
     "text": [
      "\n"
     ]
    },
    {
     "name": "stdout",
     "output_type": "stream",
     "text": [
      "\tGBR,  5th phase (17Aug2020 - 17Sep2020): finished  356 trials in 0 min 10 sec"
     ]
    },
    {
     "name": "stdout",
     "output_type": "stream",
     "text": [
      "\n"
     ]
    },
    {
     "name": "stdout",
     "output_type": "stream",
     "text": [
      "\tGBR,  7th phase (03Oct2020 - 11Oct2020): finished  363 trials in 0 min 10 sec"
     ]
    },
    {
     "name": "stdout",
     "output_type": "stream",
     "text": [
      "\n"
     ]
    },
    {
     "name": "stdout",
     "output_type": "stream",
     "text": [
      "\tNLD,  5th phase (05Sep2020 - 18Sep2020): finished  360 trials in 0 min 10 sec"
     ]
    },
    {
     "name": "stdout",
     "output_type": "stream",
     "text": [
      "\n"
     ]
    },
    {
     "name": "stdout",
     "output_type": "stream",
     "text": [
      "\tBEL, 14th phase (23Nov2020 - 01Dec2020): finished  362 trials in 0 min 10 sec"
     ]
    },
    {
     "name": "stdout",
     "output_type": "stream",
     "text": [
      "\n"
     ]
    },
    {
     "name": "stderr",
     "output_type": "stream",
     "text": [
      "/home/runner/.local/share/virtualenvs/covid19-sir-kT3BL-HO/lib/python3.8/site-packages/scipy/interpolate/fitpack2.py:253: UserWarning: \n",
      "The maximal number of iterations maxit (set to 20 by the program)\n",
      "allowed for finding a smoothing spline with fp=s has been reached: s\n",
      "too small.\n",
      "There is an approximation returned but the corresponding weighted sum\n",
      "of squared residuals does not satisfy the condition abs(fp-s)/s < tol.\n",
      "  warnings.warn(message)\n"
     ]
    },
    {
     "name": "stdout",
     "output_type": "stream",
     "text": [
      "\tBEL,  1st phase (31Mar2020 - 13Apr2020): finished  361 trials in 0 min 10 sec"
     ]
    },
    {
     "name": "stdout",
     "output_type": "stream",
     "text": [
      "\n"
     ]
    },
    {
     "name": "stdout",
     "output_type": "stream",
     "text": [
      "\tCAN, 15th phase (06Dec2020 - 12Dec2020): finished  361 trials in 0 min 10 sec"
     ]
    },
    {
     "name": "stdout",
     "output_type": "stream",
     "text": [
      "\n"
     ]
    },
    {
     "name": "stdout",
     "output_type": "stream",
     "text": [
      "\tPRT,  5th phase (15Jul2020 - 25Aug2020): finished  347 trials in 0 min 10 sec"
     ]
    },
    {
     "name": "stdout",
     "output_type": "stream",
     "text": [
      "\n"
     ]
    },
    {
     "name": "stdout",
     "output_type": "stream",
     "text": [
      "\tFRA,  1st phase (31Mar2020 - 22Apr2020): finished  348 trials in 0 min 10 sec"
     ]
    },
    {
     "name": "stdout",
     "output_type": "stream",
     "text": [
      "\n"
     ]
    },
    {
     "name": "stderr",
     "output_type": "stream",
     "text": [
      "/home/runner/.local/share/virtualenvs/covid19-sir-kT3BL-HO/lib/python3.8/site-packages/scipy/interpolate/fitpack2.py:253: UserWarning: \n",
      "The maximal number of iterations maxit (set to 20 by the program)\n",
      "allowed for finding a smoothing spline with fp=s has been reached: s\n",
      "too small.\n",
      "There is an approximation returned but the corresponding weighted sum\n",
      "of squared residuals does not satisfy the condition abs(fp-s)/s < tol.\n",
      "  warnings.warn(message)\n"
     ]
    },
    {
     "name": "stdout",
     "output_type": "stream",
     "text": [
      "\tBEL,  4th phase (28Jul2020 - 22Aug2020): finished  356 trials in 0 min 10 sec"
     ]
    },
    {
     "name": "stdout",
     "output_type": "stream",
     "text": [
      "\n"
     ]
    },
    {
     "name": "stdout",
     "output_type": "stream",
     "text": [
      "\tFRA, 11th phase (22Oct2020 - 31Oct2020): finished  360 trials in 0 min 10 sec"
     ]
    },
    {
     "name": "stdout",
     "output_type": "stream",
     "text": [
      "\n"
     ]
    },
    {
     "name": "stdout",
     "output_type": "stream",
     "text": [
      "\tGBR,  2nd phase (24Apr2020 - 11May2020): finished  359 trials in 0 min 10 sec"
     ]
    },
    {
     "name": "stdout",
     "output_type": "stream",
     "text": [
      "\n"
     ]
    },
    {
     "name": "stderr",
     "output_type": "stream",
     "text": [
      "/home/runner/.local/share/virtualenvs/covid19-sir-kT3BL-HO/lib/python3.8/site-packages/scipy/interpolate/fitpack2.py:253: UserWarning: \n",
      "The maximal number of iterations maxit (set to 20 by the program)\n",
      "allowed for finding a smoothing spline with fp=s has been reached: s\n",
      "too small.\n",
      "There is an approximation returned but the corresponding weighted sum\n",
      "of squared residuals does not satisfy the condition abs(fp-s)/s < tol.\n",
      "  warnings.warn(message)\n"
     ]
    },
    {
     "name": "stdout",
     "output_type": "stream",
     "text": [
      "\tNLD,  9th phase (15Oct2020 - 24Oct2020): finished  362 trials in 0 min 10 sec"
     ]
    },
    {
     "name": "stdout",
     "output_type": "stream",
     "text": [
      "\n"
     ]
    },
    {
     "name": "stdout",
     "output_type": "stream",
     "text": [
      "\tGBR, 10th phase (26Oct2020 - 05Nov2020): finished  362 trials in 0 min 10 sec"
     ]
    },
    {
     "name": "stdout",
     "output_type": "stream",
     "text": [
      "\n"
     ]
    },
    {
     "name": "stdout",
     "output_type": "stream",
     "text": [
      "\tFRA, 10th phase (16Oct2020 - 21Oct2020): finished  364 trials in 0 min 10 sec"
     ]
    },
    {
     "name": "stdout",
     "output_type": "stream",
     "text": [
      "\n"
     ]
    },
    {
     "name": "stdout",
     "output_type": "stream",
     "text": [
      "\tNLD,  7th phase (28Sep2020 - 04Oct2020): finished  365 trials in 0 min 10 sec"
     ]
    },
    {
     "name": "stdout",
     "output_type": "stream",
     "text": [
      "\n"
     ]
    },
    {
     "name": "stdout",
     "output_type": "stream",
     "text": [
      "\tPRT,  4th phase (19Jun2020 - 14Jul2020): finished  357 trials in 0 min 10 sec"
     ]
    },
    {
     "name": "stdout",
     "output_type": "stream",
     "text": [
      "\n"
     ]
    },
    {
     "name": "stderr",
     "output_type": "stream",
     "text": [
      "/home/runner/.local/share/virtualenvs/covid19-sir-kT3BL-HO/lib/python3.8/site-packages/scipy/interpolate/fitpack2.py:253: UserWarning: \n",
      "The maximal number of iterations maxit (set to 20 by the program)\n",
      "allowed for finding a smoothing spline with fp=s has been reached: s\n",
      "too small.\n",
      "There is an approximation returned but the corresponding weighted sum\n",
      "of squared residuals does not satisfy the condition abs(fp-s)/s < tol.\n",
      "  warnings.warn(message)\n"
     ]
    },
    {
     "name": "stdout",
     "output_type": "stream",
     "text": [
      "\tBEL, 12th phase (08Nov2020 - 14Nov2020): finished  364 trials in 0 min 10 sec"
     ]
    },
    {
     "name": "stdout",
     "output_type": "stream",
     "text": [
      "\n"
     ]
    },
    {
     "name": "stdout",
     "output_type": "stream",
     "text": [
      "\tPRT,  2nd phase (19Apr2020 - 20May2020): finished  353 trials in 0 min 10 sec"
     ]
    },
    {
     "name": "stdout",
     "output_type": "stream",
     "text": [
      "\n"
     ]
    },
    {
     "name": "stdout",
     "output_type": "stream",
     "text": [
      "\tGBR,  9th phase (20Oct2020 - 25Oct2020): finished  366 trials in 0 min 10 sec"
     ]
    },
    {
     "name": "stdout",
     "output_type": "stream",
     "text": [
      "\n"
     ]
    },
    {
     "name": "stdout",
     "output_type": "stream",
     "text": [
      "\tFRA,  2nd phase (23Apr2020 - 08Jul2020): finished  341 trials in 0 min 10 sec"
     ]
    },
    {
     "name": "stdout",
     "output_type": "stream",
     "text": [
      "\n"
     ]
    },
    {
     "name": "stderr",
     "output_type": "stream",
     "text": [
      "/home/runner/.local/share/virtualenvs/covid19-sir-kT3BL-HO/lib/python3.8/site-packages/scipy/interpolate/fitpack2.py:253: UserWarning: \n",
      "The maximal number of iterations maxit (set to 20 by the program)\n",
      "allowed for finding a smoothing spline with fp=s has been reached: s\n",
      "too small.\n",
      "There is an approximation returned but the corresponding weighted sum\n",
      "of squared residuals does not satisfy the condition abs(fp-s)/s < tol.\n",
      "  warnings.warn(message)\n"
     ]
    },
    {
     "name": "stdout",
     "output_type": "stream",
     "text": [
      "\tPRT,  9th phase (14Oct2020 - 21Oct2020): finished  364 trials in 0 min 10 sec"
     ]
    },
    {
     "name": "stdout",
     "output_type": "stream",
     "text": [
      "\n"
     ]
    },
    {
     "name": "stdout",
     "output_type": "stream",
     "text": [
      "\tBEL,  7th phase (29Sep2020 - 06Oct2020): finished  363 trials in 0 min 10 sec"
     ]
    },
    {
     "name": "stdout",
     "output_type": "stream",
     "text": [
      "\n"
     ]
    },
    {
     "name": "stdout",
     "output_type": "stream",
     "text": [
      "\tFRA,  7th phase (23Sep2020 - 01Oct2020): finished  365 trials in 0 min 10 sec"
     ]
    },
    {
     "name": "stdout",
     "output_type": "stream",
     "text": [
      "\n"
     ]
    },
    {
     "name": "stdout",
     "output_type": "stream",
     "text": [
      "\tNLD, 13th phase (20Nov2020 - 25Nov2020): finished  365 trials in 0 min 10 sec"
     ]
    },
    {
     "name": "stdout",
     "output_type": "stream",
     "text": [
      "\n"
     ]
    },
    {
     "name": "stdout",
     "output_type": "stream",
     "text": [
      "\tBEL, 13th phase (15Nov2020 - 22Nov2020): finished  370 trials in 0 min 10 sec"
     ]
    },
    {
     "name": "stdout",
     "output_type": "stream",
     "text": [
      "\n"
     ]
    },
    {
     "name": "stdout",
     "output_type": "stream",
     "text": [
      "\tPRT,  1st phase (02Apr2020 - 18Apr2020): finished  362 trials in 0 min 10 sec"
     ]
    },
    {
     "name": "stdout",
     "output_type": "stream",
     "text": [
      "\n"
     ]
    },
    {
     "name": "stdout",
     "output_type": "stream",
     "text": [
      "\tGBR,  6th phase (18Sep2020 - 02Oct2020): finished  361 trials in 0 min 10 sec"
     ]
    },
    {
     "name": "stdout",
     "output_type": "stream",
     "text": [
      "\n"
     ]
    },
    {
     "name": "stdout",
     "output_type": "stream",
     "text": [
      "\tNLD,  0th phase (11Mar2020 - 31Mar2020): finished  356 trials in 0 min 10 sec"
     ]
    },
    {
     "name": "stdout",
     "output_type": "stream",
     "text": [
      "\n"
     ]
    },
    {
     "name": "stdout",
     "output_type": "stream",
     "text": [
      "\tGBR,  3rd phase (12May2020 - 11Jun2020): finished  357 trials in 0 min 10 sec"
     ]
    },
    {
     "name": "stdout",
     "output_type": "stream",
     "text": [
      "\n"
     ]
    },
    {
     "name": "stdout",
     "output_type": "stream",
     "text": [
      "\tNLD,  4th phase (08Aug2020 - 04Sep2020): finished  365 trials in 0 min 10 sec"
     ]
    },
    {
     "name": "stdout",
     "output_type": "stream",
     "text": [
      "\n"
     ]
    },
    {
     "name": "stdout",
     "output_type": "stream",
     "text": [
      "Completed optimization. Total: 4 min 18 sec\n"
     ]
    }
   ],
   "source": [
    "# Parameter estimation with SIR-F model\n",
    "analyser.estimate(cs.SIRF, timeout=10)"
   ]
  },
  {
   "cell_type": "code",
   "execution_count": 12,
   "metadata": {
    "collapsed": false
   },
   "outputs": [
    {
     "data": {
      "text/html": [
       "<div>\n",
       "<style scoped>\n",
       "    .dataframe tbody tr th:only-of-type {\n",
       "        vertical-align: middle;\n",
       "    }\n",
       "\n",
       "    .dataframe tbody tr th {\n",
       "        vertical-align: top;\n",
       "    }\n",
       "\n",
       "    .dataframe thead th {\n",
       "        text-align: right;\n",
       "    }\n",
       "</style>\n",
       "<table border=\"1\" class=\"dataframe\">\n",
       "  <thead>\n",
       "    <tr style=\"text-align: right;\">\n",
       "      <th></th>\n",
       "      <th></th>\n",
       "      <th>Type</th>\n",
       "      <th>Start</th>\n",
       "      <th>End</th>\n",
       "      <th>Population</th>\n",
       "      <th>ODE</th>\n",
       "      <th>Rt</th>\n",
       "      <th>theta</th>\n",
       "      <th>kappa</th>\n",
       "      <th>rho</th>\n",
       "      <th>sigma</th>\n",
       "      <th>tau</th>\n",
       "      <th>1/beta [day]</th>\n",
       "      <th>alpha1 [-]</th>\n",
       "      <th>1/alpha2 [day]</th>\n",
       "      <th>1/gamma [day]</th>\n",
       "      <th>RMSLE</th>\n",
       "      <th>Trials</th>\n",
       "      <th>Runtime</th>\n",
       "    </tr>\n",
       "    <tr>\n",
       "      <th>Country</th>\n",
       "      <th>Phase</th>\n",
       "      <th></th>\n",
       "      <th></th>\n",
       "      <th></th>\n",
       "      <th></th>\n",
       "      <th></th>\n",
       "      <th></th>\n",
       "      <th></th>\n",
       "      <th></th>\n",
       "      <th></th>\n",
       "      <th></th>\n",
       "      <th></th>\n",
       "      <th></th>\n",
       "      <th></th>\n",
       "      <th></th>\n",
       "      <th></th>\n",
       "      <th></th>\n",
       "      <th></th>\n",
       "      <th></th>\n",
       "    </tr>\n",
       "  </thead>\n",
       "  <tbody>\n",
       "    <tr>\n",
       "      <th rowspan=\"5\" valign=\"top\">France</th>\n",
       "      <th>0th</th>\n",
       "      <td>Past</td>\n",
       "      <td>07Feb2020</td>\n",
       "      <td>30Mar2020</td>\n",
       "      <td>66977107</td>\n",
       "      <td>SIR-F</td>\n",
       "      <td>9.73</td>\n",
       "      <td>0.00049108</td>\n",
       "      <td>9.6334e-05</td>\n",
       "      <td>0.040774</td>\n",
       "      <td>0.00409148</td>\n",
       "      <td>360</td>\n",
       "      <td>6</td>\n",
       "      <td>0</td>\n",
       "      <td>2595</td>\n",
       "      <td>61</td>\n",
       "      <td>1.30249</td>\n",
       "      <td>347</td>\n",
       "      <td>0 min 10 sec</td>\n",
       "    </tr>\n",
       "    <tr>\n",
       "      <th>1st</th>\n",
       "      <td>Past</td>\n",
       "      <td>31Mar2020</td>\n",
       "      <td>22Apr2020</td>\n",
       "      <td>66977107</td>\n",
       "      <td>SIR-F</td>\n",
       "      <td>0.71</td>\n",
       "      <td>0.346351</td>\n",
       "      <td>0.00147334</td>\n",
       "      <td>0.0243427</td>\n",
       "      <td>0.0210554</td>\n",
       "      <td>360</td>\n",
       "      <td>10</td>\n",
       "      <td>0.346</td>\n",
       "      <td>169</td>\n",
       "      <td>11</td>\n",
       "      <td>0.187872</td>\n",
       "      <td>348</td>\n",
       "      <td>0 min 10 sec</td>\n",
       "    </tr>\n",
       "    <tr>\n",
       "      <th>2nd</th>\n",
       "      <td>Past</td>\n",
       "      <td>23Apr2020</td>\n",
       "      <td>08Jul2020</td>\n",
       "      <td>66977107</td>\n",
       "      <td>SIR-F</td>\n",
       "      <td>0.59</td>\n",
       "      <td>0.537173</td>\n",
       "      <td>8.03382e-05</td>\n",
       "      <td>0.0169514</td>\n",
       "      <td>0.0132485</td>\n",
       "      <td>360</td>\n",
       "      <td>14</td>\n",
       "      <td>0.537</td>\n",
       "      <td>3111</td>\n",
       "      <td>18</td>\n",
       "      <td>0.340536</td>\n",
       "      <td>341</td>\n",
       "      <td>0 min 10 sec</td>\n",
       "    </tr>\n",
       "    <tr>\n",
       "      <th>3rd</th>\n",
       "      <td>Past</td>\n",
       "      <td>09Jul2020</td>\n",
       "      <td>18Aug2020</td>\n",
       "      <td>66977107</td>\n",
       "      <td>SIR-F</td>\n",
       "      <td>1.46</td>\n",
       "      <td>0.000136135</td>\n",
       "      <td>0.000169658</td>\n",
       "      <td>0.0244773</td>\n",
       "      <td>0.0166129</td>\n",
       "      <td>360</td>\n",
       "      <td>10</td>\n",
       "      <td>0</td>\n",
       "      <td>1473</td>\n",
       "      <td>15</td>\n",
       "      <td>0.0965198</td>\n",
       "      <td>351</td>\n",
       "      <td>0 min 10 sec</td>\n",
       "    </tr>\n",
       "    <tr>\n",
       "      <th>4th</th>\n",
       "      <td>Past</td>\n",
       "      <td>19Aug2020</td>\n",
       "      <td>02Sep2020</td>\n",
       "      <td>66977107</td>\n",
       "      <td>SIR-F</td>\n",
       "      <td>2.04</td>\n",
       "      <td>0.00128891</td>\n",
       "      <td>7.11256e-05</td>\n",
       "      <td>0.0306503</td>\n",
       "      <td>0.0149302</td>\n",
       "      <td>360</td>\n",
       "      <td>8</td>\n",
       "      <td>0.001</td>\n",
       "      <td>3514</td>\n",
       "      <td>16</td>\n",
       "      <td>0.0319334</td>\n",
       "      <td>358</td>\n",
       "      <td>0 min 10 sec</td>\n",
       "    </tr>\n",
       "    <tr>\n",
       "      <th>...</th>\n",
       "      <th>...</th>\n",
       "      <td>...</td>\n",
       "      <td>...</td>\n",
       "      <td>...</td>\n",
       "      <td>...</td>\n",
       "      <td>...</td>\n",
       "      <td>...</td>\n",
       "      <td>...</td>\n",
       "      <td>...</td>\n",
       "      <td>...</td>\n",
       "      <td>...</td>\n",
       "      <td>...</td>\n",
       "      <td>...</td>\n",
       "      <td>...</td>\n",
       "      <td>...</td>\n",
       "      <td>...</td>\n",
       "      <td>...</td>\n",
       "      <td>...</td>\n",
       "      <td>...</td>\n",
       "    </tr>\n",
       "    <tr>\n",
       "      <th rowspan=\"5\" valign=\"top\">Portugal</th>\n",
       "      <th>11th</th>\n",
       "      <td>Past</td>\n",
       "      <td>28Oct2020</td>\n",
       "      <td>02Nov2020</td>\n",
       "      <td>10283822</td>\n",
       "      <td>SIR-F</td>\n",
       "      <td>2.18</td>\n",
       "      <td>0.00013075</td>\n",
       "      <td>0.000168203</td>\n",
       "      <td>0.0171683</td>\n",
       "      <td>0.00770542</td>\n",
       "      <td>360</td>\n",
       "      <td>14</td>\n",
       "      <td>0</td>\n",
       "      <td>1486</td>\n",
       "      <td>32</td>\n",
       "      <td>0.00977216</td>\n",
       "      <td>366</td>\n",
       "      <td>0 min 10 sec</td>\n",
       "    </tr>\n",
       "    <tr>\n",
       "      <th>12th</th>\n",
       "      <td>Past</td>\n",
       "      <td>03Nov2020</td>\n",
       "      <td>12Nov2020</td>\n",
       "      <td>10283822</td>\n",
       "      <td>SIR-F</td>\n",
       "      <td>1.89</td>\n",
       "      <td>0.00129257</td>\n",
       "      <td>0.000191072</td>\n",
       "      <td>0.0191448</td>\n",
       "      <td>0.00991507</td>\n",
       "      <td>360</td>\n",
       "      <td>13</td>\n",
       "      <td>0.001</td>\n",
       "      <td>1308</td>\n",
       "      <td>25</td>\n",
       "      <td>0.0243799</td>\n",
       "      <td>363</td>\n",
       "      <td>0 min 10 sec</td>\n",
       "    </tr>\n",
       "    <tr>\n",
       "      <th>13th</th>\n",
       "      <td>Past</td>\n",
       "      <td>13Nov2020</td>\n",
       "      <td>22Nov2020</td>\n",
       "      <td>10283822</td>\n",
       "      <td>SIR-F</td>\n",
       "      <td>1.13</td>\n",
       "      <td>8.16456e-05</td>\n",
       "      <td>0.000231061</td>\n",
       "      <td>0.0182706</td>\n",
       "      <td>0.0159443</td>\n",
       "      <td>360</td>\n",
       "      <td>13</td>\n",
       "      <td>0</td>\n",
       "      <td>1081</td>\n",
       "      <td>15</td>\n",
       "      <td>0.0481644</td>\n",
       "      <td>341</td>\n",
       "      <td>0 min 10 sec</td>\n",
       "    </tr>\n",
       "    <tr>\n",
       "      <th>14th</th>\n",
       "      <td>Past</td>\n",
       "      <td>23Nov2020</td>\n",
       "      <td>03Dec2020</td>\n",
       "      <td>10283822</td>\n",
       "      <td>SIR-F</td>\n",
       "      <td>0.85</td>\n",
       "      <td>0.0180656</td>\n",
       "      <td>1.42242e-05</td>\n",
       "      <td>0.0127852</td>\n",
       "      <td>0.014771</td>\n",
       "      <td>360</td>\n",
       "      <td>19</td>\n",
       "      <td>0.018</td>\n",
       "      <td>17575</td>\n",
       "      <td>16</td>\n",
       "      <td>0.0162982</td>\n",
       "      <td>360</td>\n",
       "      <td>0 min 10 sec</td>\n",
       "    </tr>\n",
       "    <tr>\n",
       "      <th>15th</th>\n",
       "      <td>Past</td>\n",
       "      <td>04Dec2020</td>\n",
       "      <td>12Dec2020</td>\n",
       "      <td>10283822</td>\n",
       "      <td>-</td>\n",
       "      <td>-</td>\n",
       "      <td>-</td>\n",
       "      <td>-</td>\n",
       "      <td>-</td>\n",
       "      <td>-</td>\n",
       "      <td>-</td>\n",
       "      <td>-</td>\n",
       "      <td>-</td>\n",
       "      <td>-</td>\n",
       "      <td>-</td>\n",
       "      <td>-</td>\n",
       "      <td>-</td>\n",
       "      <td>-</td>\n",
       "    </tr>\n",
       "  </tbody>\n",
       "</table>\n",
       "<p>96 rows × 18 columns</p>\n",
       "</div>"
      ],
      "text/plain": [
       "                Type      Start        End  Population    ODE    Rt  \\\n",
       "Country  Phase                                                        \n",
       "France   0th    Past  07Feb2020  30Mar2020    66977107  SIR-F  9.73   \n",
       "         1st    Past  31Mar2020  22Apr2020    66977107  SIR-F  0.71   \n",
       "         2nd    Past  23Apr2020  08Jul2020    66977107  SIR-F  0.59   \n",
       "         3rd    Past  09Jul2020  18Aug2020    66977107  SIR-F  1.46   \n",
       "         4th    Past  19Aug2020  02Sep2020    66977107  SIR-F  2.04   \n",
       "...              ...        ...        ...         ...    ...   ...   \n",
       "Portugal 11th   Past  28Oct2020  02Nov2020    10283822  SIR-F  2.18   \n",
       "         12th   Past  03Nov2020  12Nov2020    10283822  SIR-F  1.89   \n",
       "         13th   Past  13Nov2020  22Nov2020    10283822  SIR-F  1.13   \n",
       "         14th   Past  23Nov2020  03Dec2020    10283822  SIR-F  0.85   \n",
       "         15th   Past  04Dec2020  12Dec2020    10283822      -     -   \n",
       "\n",
       "                      theta        kappa        rho       sigma  tau  \\\n",
       "Country  Phase                                                         \n",
       "France   0th     0.00049108   9.6334e-05   0.040774  0.00409148  360   \n",
       "         1st       0.346351   0.00147334  0.0243427   0.0210554  360   \n",
       "         2nd       0.537173  8.03382e-05  0.0169514   0.0132485  360   \n",
       "         3rd    0.000136135  0.000169658  0.0244773   0.0166129  360   \n",
       "         4th     0.00128891  7.11256e-05  0.0306503   0.0149302  360   \n",
       "...                     ...          ...        ...         ...  ...   \n",
       "Portugal 11th    0.00013075  0.000168203  0.0171683  0.00770542  360   \n",
       "         12th    0.00129257  0.000191072  0.0191448  0.00991507  360   \n",
       "         13th   8.16456e-05  0.000231061  0.0182706   0.0159443  360   \n",
       "         14th     0.0180656  1.42242e-05  0.0127852    0.014771  360   \n",
       "         15th             -            -          -           -    -   \n",
       "\n",
       "               1/beta [day] alpha1 [-] 1/alpha2 [day] 1/gamma [day]  \\\n",
       "Country  Phase                                                        \n",
       "France   0th              6          0           2595            61   \n",
       "         1st             10      0.346            169            11   \n",
       "         2nd             14      0.537           3111            18   \n",
       "         3rd             10          0           1473            15   \n",
       "         4th              8      0.001           3514            16   \n",
       "...                     ...        ...            ...           ...   \n",
       "Portugal 11th            14          0           1486            32   \n",
       "         12th            13      0.001           1308            25   \n",
       "         13th            13          0           1081            15   \n",
       "         14th            19      0.018          17575            16   \n",
       "         15th             -          -              -             -   \n",
       "\n",
       "                     RMSLE Trials       Runtime  \n",
       "Country  Phase                                   \n",
       "France   0th       1.30249    347  0 min 10 sec  \n",
       "         1st      0.187872    348  0 min 10 sec  \n",
       "         2nd      0.340536    341  0 min 10 sec  \n",
       "         3rd     0.0965198    351  0 min 10 sec  \n",
       "         4th     0.0319334    358  0 min 10 sec  \n",
       "...                    ...    ...           ...  \n",
       "Portugal 11th   0.00977216    366  0 min 10 sec  \n",
       "         12th    0.0243799    363  0 min 10 sec  \n",
       "         13th    0.0481644    341  0 min 10 sec  \n",
       "         14th    0.0162982    360  0 min 10 sec  \n",
       "         15th            -      -             -  \n",
       "\n",
       "[96 rows x 18 columns]"
      ]
     },
     "execution_count": 12,
     "metadata": {},
     "output_type": "execute_result"
    }
   ],
   "source": [
    "# Show summary\n",
    "analyser.summary(countries=countries_show)"
   ]
  },
  {
   "cell_type": "markdown",
   "metadata": {},
   "source": [
    "## Compare the history of parameters\n",
    "Here, compare the history of parameter values if countries."
   ]
  },
  {
   "cell_type": "code",
   "execution_count": 13,
   "metadata": {
    "collapsed": false
   },
   "outputs": [
    {
     "data": {
      "text/html": [
       "<div>\n",
       "<style scoped>\n",
       "    .dataframe tbody tr th:only-of-type {\n",
       "        vertical-align: middle;\n",
       "    }\n",
       "\n",
       "    .dataframe tbody tr th {\n",
       "        vertical-align: top;\n",
       "    }\n",
       "\n",
       "    .dataframe thead th {\n",
       "        text-align: right;\n",
       "    }\n",
       "</style>\n",
       "<table border=\"1\" class=\"dataframe\">\n",
       "  <thead>\n",
       "    <tr style=\"text-align: right;\">\n",
       "      <th></th>\n",
       "      <th>Date</th>\n",
       "      <th>Country</th>\n",
       "      <th>theta</th>\n",
       "      <th>kappa</th>\n",
       "      <th>rho</th>\n",
       "      <th>sigma</th>\n",
       "      <th>alpha1 [-]</th>\n",
       "      <th>1/alpha2 [day]</th>\n",
       "      <th>1/beta [day]</th>\n",
       "      <th>1/gamma [day]</th>\n",
       "      <th>...</th>\n",
       "      <th>Cancel_events</th>\n",
       "      <th>Gatherings_restrictions</th>\n",
       "      <th>Transport_closing</th>\n",
       "      <th>Stay_home_restrictions</th>\n",
       "      <th>Internal_movement_restrictions</th>\n",
       "      <th>International_movement_restrictions</th>\n",
       "      <th>Information_campaigns</th>\n",
       "      <th>Testing_policy</th>\n",
       "      <th>Contact_tracing</th>\n",
       "      <th>Stringency_index</th>\n",
       "    </tr>\n",
       "  </thead>\n",
       "  <tbody>\n",
       "    <tr>\n",
       "      <th>0</th>\n",
       "      <td>2020-02-07</td>\n",
       "      <td>France</td>\n",
       "      <td>0.00049108</td>\n",
       "      <td>9.6334e-05</td>\n",
       "      <td>0.040774</td>\n",
       "      <td>0.00409148</td>\n",
       "      <td>0</td>\n",
       "      <td>2595</td>\n",
       "      <td>6</td>\n",
       "      <td>61</td>\n",
       "      <td>...</td>\n",
       "      <td>0</td>\n",
       "      <td>0</td>\n",
       "      <td>0</td>\n",
       "      <td>0</td>\n",
       "      <td>0</td>\n",
       "      <td>1</td>\n",
       "      <td>2</td>\n",
       "      <td>2</td>\n",
       "      <td>1</td>\n",
       "      <td>11.11</td>\n",
       "    </tr>\n",
       "    <tr>\n",
       "      <th>1</th>\n",
       "      <td>2020-02-07</td>\n",
       "      <td>France</td>\n",
       "      <td>0.00049108</td>\n",
       "      <td>9.6334e-05</td>\n",
       "      <td>0.040774</td>\n",
       "      <td>0.00409148</td>\n",
       "      <td>0</td>\n",
       "      <td>2595</td>\n",
       "      <td>6</td>\n",
       "      <td>61</td>\n",
       "      <td>...</td>\n",
       "      <td>0</td>\n",
       "      <td>0</td>\n",
       "      <td>0</td>\n",
       "      <td>0</td>\n",
       "      <td>0</td>\n",
       "      <td>0</td>\n",
       "      <td>0</td>\n",
       "      <td>0</td>\n",
       "      <td>0</td>\n",
       "      <td>0.00</td>\n",
       "    </tr>\n",
       "    <tr>\n",
       "      <th>2</th>\n",
       "      <td>2020-02-07</td>\n",
       "      <td>France</td>\n",
       "      <td>0.00049108</td>\n",
       "      <td>9.6334e-05</td>\n",
       "      <td>0.040774</td>\n",
       "      <td>0.00409148</td>\n",
       "      <td>0</td>\n",
       "      <td>2595</td>\n",
       "      <td>6</td>\n",
       "      <td>61</td>\n",
       "      <td>...</td>\n",
       "      <td>0</td>\n",
       "      <td>0</td>\n",
       "      <td>0</td>\n",
       "      <td>0</td>\n",
       "      <td>0</td>\n",
       "      <td>1</td>\n",
       "      <td>0</td>\n",
       "      <td>0</td>\n",
       "      <td>0</td>\n",
       "      <td>11.11</td>\n",
       "    </tr>\n",
       "    <tr>\n",
       "      <th>3</th>\n",
       "      <td>2020-02-07</td>\n",
       "      <td>France</td>\n",
       "      <td>0.00049108</td>\n",
       "      <td>9.6334e-05</td>\n",
       "      <td>0.040774</td>\n",
       "      <td>0.00409148</td>\n",
       "      <td>0</td>\n",
       "      <td>2595</td>\n",
       "      <td>6</td>\n",
       "      <td>61</td>\n",
       "      <td>...</td>\n",
       "      <td>0</td>\n",
       "      <td>0</td>\n",
       "      <td>0</td>\n",
       "      <td>0</td>\n",
       "      <td>0</td>\n",
       "      <td>0</td>\n",
       "      <td>0</td>\n",
       "      <td>0</td>\n",
       "      <td>0</td>\n",
       "      <td>0.00</td>\n",
       "    </tr>\n",
       "    <tr>\n",
       "      <th>4</th>\n",
       "      <td>2020-02-07</td>\n",
       "      <td>France</td>\n",
       "      <td>0.00049108</td>\n",
       "      <td>9.6334e-05</td>\n",
       "      <td>0.040774</td>\n",
       "      <td>0.00409148</td>\n",
       "      <td>0</td>\n",
       "      <td>2595</td>\n",
       "      <td>6</td>\n",
       "      <td>61</td>\n",
       "      <td>...</td>\n",
       "      <td>0</td>\n",
       "      <td>0</td>\n",
       "      <td>0</td>\n",
       "      <td>0</td>\n",
       "      <td>0</td>\n",
       "      <td>0</td>\n",
       "      <td>0</td>\n",
       "      <td>0</td>\n",
       "      <td>0</td>\n",
       "      <td>0.00</td>\n",
       "    </tr>\n",
       "  </tbody>\n",
       "</table>\n",
       "<p>5 rows × 23 columns</p>\n",
       "</div>"
      ],
      "text/plain": [
       "        Date Country       theta       kappa       rho       sigma alpha1 [-]  \\\n",
       "0 2020-02-07  France  0.00049108  9.6334e-05  0.040774  0.00409148          0   \n",
       "1 2020-02-07  France  0.00049108  9.6334e-05  0.040774  0.00409148          0   \n",
       "2 2020-02-07  France  0.00049108  9.6334e-05  0.040774  0.00409148          0   \n",
       "3 2020-02-07  France  0.00049108  9.6334e-05  0.040774  0.00409148          0   \n",
       "4 2020-02-07  France  0.00049108  9.6334e-05  0.040774  0.00409148          0   \n",
       "\n",
       "  1/alpha2 [day] 1/beta [day] 1/gamma [day]  ... Cancel_events  \\\n",
       "0           2595            6            61  ...             0   \n",
       "1           2595            6            61  ...             0   \n",
       "2           2595            6            61  ...             0   \n",
       "3           2595            6            61  ...             0   \n",
       "4           2595            6            61  ...             0   \n",
       "\n",
       "   Gatherings_restrictions  Transport_closing  Stay_home_restrictions  \\\n",
       "0                        0                  0                       0   \n",
       "1                        0                  0                       0   \n",
       "2                        0                  0                       0   \n",
       "3                        0                  0                       0   \n",
       "4                        0                  0                       0   \n",
       "\n",
       "   Internal_movement_restrictions  International_movement_restrictions  \\\n",
       "0                               0                                    1   \n",
       "1                               0                                    0   \n",
       "2                               0                                    1   \n",
       "3                               0                                    0   \n",
       "4                               0                                    0   \n",
       "\n",
       "   Information_campaigns  Testing_policy  Contact_tracing  Stringency_index  \n",
       "0                      2               2                1             11.11  \n",
       "1                      0               0                0              0.00  \n",
       "2                      0               0                0             11.11  \n",
       "3                      0               0                0              0.00  \n",
       "4                      0               0                0              0.00  \n",
       "\n",
       "[5 rows x 23 columns]"
      ]
     },
     "execution_count": 13,
     "metadata": {},
     "output_type": "execute_result"
    }
   ],
   "source": [
    "# All parameter/day parameter/Rt/OxCGRT\n",
    "analyser.track().head()"
   ]
  },
  {
   "cell_type": "markdown",
   "metadata": {},
   "source": [
    "### $Rt$: Reprodcution number $\\mathrm{[-]}$"
   ]
  },
  {
   "cell_type": "code",
   "execution_count": 14,
   "metadata": {
    "collapsed": false
   },
   "outputs": [
    {
     "data": {
      "image/png": "[encoded data removed]",
      "text/plain": [
       "<Figure size 648x432 with 1 Axes>"
      ]
     },
     "metadata": {},
     "output_type": "display_data"
    },
    {
     "data": {
      "text/html": [
       "<div>\n",
       "<style scoped>\n",
       "    .dataframe tbody tr th:only-of-type {\n",
       "        vertical-align: middle;\n",
       "    }\n",
       "\n",
       "    .dataframe tbody tr th {\n",
       "        vertical-align: top;\n",
       "    }\n",
       "\n",
       "    .dataframe thead th {\n",
       "        text-align: right;\n",
       "    }\n",
       "</style>\n",
       "<table border=\"1\" class=\"dataframe\">\n",
       "  <thead>\n",
       "    <tr style=\"text-align: right;\">\n",
       "      <th>Country</th>\n",
       "      <th>Belgium</th>\n",
       "      <th>Canada</th>\n",
       "      <th>France</th>\n",
       "      <th>Netherlands</th>\n",
       "      <th>Portugal</th>\n",
       "      <th>United Kingdom</th>\n",
       "    </tr>\n",
       "    <tr>\n",
       "      <th>Date</th>\n",
       "      <th></th>\n",
       "      <th></th>\n",
       "      <th></th>\n",
       "      <th></th>\n",
       "      <th></th>\n",
       "      <th></th>\n",
       "    </tr>\n",
       "  </thead>\n",
       "  <tbody>\n",
       "    <tr>\n",
       "      <th>2020-12-08</th>\n",
       "      <td>0.91</td>\n",
       "      <td>1.25</td>\n",
       "      <td>1.03</td>\n",
       "      <td>1.06</td>\n",
       "      <td>0.85</td>\n",
       "      <td>1.13</td>\n",
       "    </tr>\n",
       "    <tr>\n",
       "      <th>2020-12-09</th>\n",
       "      <td>0.91</td>\n",
       "      <td>1.25</td>\n",
       "      <td>1.03</td>\n",
       "      <td>1.06</td>\n",
       "      <td>0.85</td>\n",
       "      <td>1.13</td>\n",
       "    </tr>\n",
       "    <tr>\n",
       "      <th>2020-12-10</th>\n",
       "      <td>0.91</td>\n",
       "      <td>1.25</td>\n",
       "      <td>1.03</td>\n",
       "      <td>1.06</td>\n",
       "      <td>0.85</td>\n",
       "      <td>1.13</td>\n",
       "    </tr>\n",
       "    <tr>\n",
       "      <th>2020-12-11</th>\n",
       "      <td>0.91</td>\n",
       "      <td>1.25</td>\n",
       "      <td>1.03</td>\n",
       "      <td>1.06</td>\n",
       "      <td>0.85</td>\n",
       "      <td>1.13</td>\n",
       "    </tr>\n",
       "    <tr>\n",
       "      <th>2020-12-12</th>\n",
       "      <td>0.91</td>\n",
       "      <td>1.25</td>\n",
       "      <td>1.03</td>\n",
       "      <td>1.06</td>\n",
       "      <td>0.85</td>\n",
       "      <td>1.13</td>\n",
       "    </tr>\n",
       "  </tbody>\n",
       "</table>\n",
       "</div>"
      ],
      "text/plain": [
       "Country     Belgium  Canada  France  Netherlands  Portugal  United Kingdom\n",
       "Date                                                                      \n",
       "2020-12-08     0.91    1.25    1.03         1.06      0.85            1.13\n",
       "2020-12-09     0.91    1.25    1.03         1.06      0.85            1.13\n",
       "2020-12-10     0.91    1.25    1.03         1.06      0.85            1.13\n",
       "2020-12-11     0.91    1.25    1.03         1.06      0.85            1.13\n",
       "2020-12-12     0.91    1.25    1.03         1.06      0.85            1.13"
      ]
     },
     "execution_count": 14,
     "metadata": {},
     "output_type": "execute_result"
    }
   ],
   "source": [
    "analyser.history(\"Rt\", roll_window=None).tail()"
   ]
  },
  {
   "cell_type": "markdown",
   "metadata": {},
   "source": [
    "### $\\rho$: Effective contact rate $\\mathrm{[-]}$"
   ]
  },
  {
   "cell_type": "code",
   "execution_count": 15,
   "metadata": {
    "collapsed": false
   },
   "outputs": [
    {
     "data": {
      "image/png": "[encoded data removed]",
      "text/plain": [
       "<Figure size 648x432 with 1 Axes>"
      ]
     },
     "metadata": {},
     "output_type": "display_data"
    },
    {
     "data": {
      "text/html": [
       "<div>\n",
       "<style scoped>\n",
       "    .dataframe tbody tr th:only-of-type {\n",
       "        vertical-align: middle;\n",
       "    }\n",
       "\n",
       "    .dataframe tbody tr th {\n",
       "        vertical-align: top;\n",
       "    }\n",
       "\n",
       "    .dataframe thead th {\n",
       "        text-align: right;\n",
       "    }\n",
       "</style>\n",
       "<table border=\"1\" class=\"dataframe\">\n",
       "  <thead>\n",
       "    <tr style=\"text-align: right;\">\n",
       "      <th>Country</th>\n",
       "      <th>Belgium</th>\n",
       "      <th>Canada</th>\n",
       "      <th>France</th>\n",
       "      <th>Netherlands</th>\n",
       "      <th>Portugal</th>\n",
       "      <th>United Kingdom</th>\n",
       "    </tr>\n",
       "    <tr>\n",
       "      <th>Date</th>\n",
       "      <th></th>\n",
       "      <th></th>\n",
       "      <th></th>\n",
       "      <th></th>\n",
       "      <th></th>\n",
       "      <th></th>\n",
       "    </tr>\n",
       "  </thead>\n",
       "  <tbody>\n",
       "    <tr>\n",
       "      <th>2020-12-08</th>\n",
       "      <td>0.012735</td>\n",
       "      <td>0.023183</td>\n",
       "      <td>0.024945</td>\n",
       "      <td>0.022033</td>\n",
       "      <td>0.012785</td>\n",
       "      <td>0.022841</td>\n",
       "    </tr>\n",
       "    <tr>\n",
       "      <th>2020-12-09</th>\n",
       "      <td>0.012735</td>\n",
       "      <td>0.023183</td>\n",
       "      <td>0.024945</td>\n",
       "      <td>0.022033</td>\n",
       "      <td>0.012785</td>\n",
       "      <td>0.022841</td>\n",
       "    </tr>\n",
       "    <tr>\n",
       "      <th>2020-12-10</th>\n",
       "      <td>0.012735</td>\n",
       "      <td>0.023183</td>\n",
       "      <td>0.024945</td>\n",
       "      <td>0.022033</td>\n",
       "      <td>0.012785</td>\n",
       "      <td>0.022841</td>\n",
       "    </tr>\n",
       "    <tr>\n",
       "      <th>2020-12-11</th>\n",
       "      <td>0.012735</td>\n",
       "      <td>0.023183</td>\n",
       "      <td>0.024945</td>\n",
       "      <td>0.022033</td>\n",
       "      <td>0.012785</td>\n",
       "      <td>0.022841</td>\n",
       "    </tr>\n",
       "    <tr>\n",
       "      <th>2020-12-12</th>\n",
       "      <td>0.012735</td>\n",
       "      <td>0.023183</td>\n",
       "      <td>0.024945</td>\n",
       "      <td>0.022033</td>\n",
       "      <td>0.012785</td>\n",
       "      <td>0.022841</td>\n",
       "    </tr>\n",
       "  </tbody>\n",
       "</table>\n",
       "</div>"
      ],
      "text/plain": [
       "Country      Belgium    Canada    France  Netherlands  Portugal  \\\n",
       "Date                                                              \n",
       "2020-12-08  0.012735  0.023183  0.024945     0.022033  0.012785   \n",
       "2020-12-09  0.012735  0.023183  0.024945     0.022033  0.012785   \n",
       "2020-12-10  0.012735  0.023183  0.024945     0.022033  0.012785   \n",
       "2020-12-11  0.012735  0.023183  0.024945     0.022033  0.012785   \n",
       "2020-12-12  0.012735  0.023183  0.024945     0.022033  0.012785   \n",
       "\n",
       "Country     United Kingdom  \n",
       "Date                        \n",
       "2020-12-08        0.022841  \n",
       "2020-12-09        0.022841  \n",
       "2020-12-10        0.022841  \n",
       "2020-12-11        0.022841  \n",
       "2020-12-12        0.022841  "
      ]
     },
     "execution_count": 15,
     "metadata": {},
     "output_type": "execute_result"
    }
   ],
   "source": [
    "analyser.history(\"rho\", roll_window=None).tail()"
   ]
  },
  {
   "cell_type": "markdown",
   "metadata": {},
   "source": [
    "### $\\sigma$: Recovery rate $\\mathrm{[-]}$"
   ]
  },
  {
   "cell_type": "code",
   "execution_count": 16,
   "metadata": {
    "collapsed": false
   },
   "outputs": [
    {
     "data": {
      "image/png": "[encoded data removed]",
      "text/plain": [
       "<Figure size 648x432 with 1 Axes>"
      ]
     },
     "metadata": {},
     "output_type": "display_data"
    },
    {
     "data": {
      "text/html": [
       "<div>\n",
       "<style scoped>\n",
       "    .dataframe tbody tr th:only-of-type {\n",
       "        vertical-align: middle;\n",
       "    }\n",
       "\n",
       "    .dataframe tbody tr th {\n",
       "        vertical-align: top;\n",
       "    }\n",
       "\n",
       "    .dataframe thead th {\n",
       "        text-align: right;\n",
       "    }\n",
       "</style>\n",
       "<table border=\"1\" class=\"dataframe\">\n",
       "  <thead>\n",
       "    <tr style=\"text-align: right;\">\n",
       "      <th>Country</th>\n",
       "      <th>Belgium</th>\n",
       "      <th>Canada</th>\n",
       "      <th>France</th>\n",
       "      <th>Netherlands</th>\n",
       "      <th>Portugal</th>\n",
       "      <th>United Kingdom</th>\n",
       "    </tr>\n",
       "    <tr>\n",
       "      <th>Date</th>\n",
       "      <th></th>\n",
       "      <th></th>\n",
       "      <th></th>\n",
       "      <th></th>\n",
       "      <th></th>\n",
       "      <th></th>\n",
       "    </tr>\n",
       "  </thead>\n",
       "  <tbody>\n",
       "    <tr>\n",
       "      <th>2020-12-08</th>\n",
       "      <td>0.013012</td>\n",
       "      <td>0.018397</td>\n",
       "      <td>0.023356</td>\n",
       "      <td>0.020582</td>\n",
       "      <td>0.014771</td>\n",
       "      <td>0.019722</td>\n",
       "    </tr>\n",
       "    <tr>\n",
       "      <th>2020-12-09</th>\n",
       "      <td>0.013012</td>\n",
       "      <td>0.018397</td>\n",
       "      <td>0.023356</td>\n",
       "      <td>0.020582</td>\n",
       "      <td>0.014771</td>\n",
       "      <td>0.019722</td>\n",
       "    </tr>\n",
       "    <tr>\n",
       "      <th>2020-12-10</th>\n",
       "      <td>0.013012</td>\n",
       "      <td>0.018397</td>\n",
       "      <td>0.023356</td>\n",
       "      <td>0.020582</td>\n",
       "      <td>0.014771</td>\n",
       "      <td>0.019722</td>\n",
       "    </tr>\n",
       "    <tr>\n",
       "      <th>2020-12-11</th>\n",
       "      <td>0.013012</td>\n",
       "      <td>0.018397</td>\n",
       "      <td>0.023356</td>\n",
       "      <td>0.020582</td>\n",
       "      <td>0.014771</td>\n",
       "      <td>0.019722</td>\n",
       "    </tr>\n",
       "    <tr>\n",
       "      <th>2020-12-12</th>\n",
       "      <td>0.013012</td>\n",
       "      <td>0.018397</td>\n",
       "      <td>0.023356</td>\n",
       "      <td>0.020582</td>\n",
       "      <td>0.014771</td>\n",
       "      <td>0.019722</td>\n",
       "    </tr>\n",
       "  </tbody>\n",
       "</table>\n",
       "</div>"
      ],
      "text/plain": [
       "Country      Belgium    Canada    France  Netherlands  Portugal  \\\n",
       "Date                                                              \n",
       "2020-12-08  0.013012  0.018397  0.023356     0.020582  0.014771   \n",
       "2020-12-09  0.013012  0.018397  0.023356     0.020582  0.014771   \n",
       "2020-12-10  0.013012  0.018397  0.023356     0.020582  0.014771   \n",
       "2020-12-11  0.013012  0.018397  0.023356     0.020582  0.014771   \n",
       "2020-12-12  0.013012  0.018397  0.023356     0.020582  0.014771   \n",
       "\n",
       "Country     United Kingdom  \n",
       "Date                        \n",
       "2020-12-08        0.019722  \n",
       "2020-12-09        0.019722  \n",
       "2020-12-10        0.019722  \n",
       "2020-12-11        0.019722  \n",
       "2020-12-12        0.019722  "
      ]
     },
     "execution_count": 16,
     "metadata": {},
     "output_type": "execute_result"
    }
   ],
   "source": [
    "analyser.history(\"sigma\", roll_window=None).tail()"
   ]
  },
  {
   "cell_type": "markdown",
   "metadata": {},
   "source": [
    "### $\\kappa$: Mortality rate of infected cases $\\mathrm{[-]}$"
   ]
  },
  {
   "cell_type": "code",
   "execution_count": 17,
   "metadata": {
    "collapsed": false
   },
   "outputs": [
    {
     "data": {
      "image/png": "[encoded data removed]",
      "text/plain": [
       "<Figure size 648x432 with 1 Axes>"
      ]
     },
     "metadata": {},
     "output_type": "display_data"
    },
    {
     "data": {
      "text/html": [
       "<div>\n",
       "<style scoped>\n",
       "    .dataframe tbody tr th:only-of-type {\n",
       "        vertical-align: middle;\n",
       "    }\n",
       "\n",
       "    .dataframe tbody tr th {\n",
       "        vertical-align: top;\n",
       "    }\n",
       "\n",
       "    .dataframe thead th {\n",
       "        text-align: right;\n",
       "    }\n",
       "</style>\n",
       "<table border=\"1\" class=\"dataframe\">\n",
       "  <thead>\n",
       "    <tr style=\"text-align: right;\">\n",
       "      <th>Country</th>\n",
       "      <th>Belgium</th>\n",
       "      <th>Canada</th>\n",
       "      <th>France</th>\n",
       "      <th>Netherlands</th>\n",
       "      <th>Portugal</th>\n",
       "      <th>United Kingdom</th>\n",
       "    </tr>\n",
       "    <tr>\n",
       "      <th>Date</th>\n",
       "      <th></th>\n",
       "      <th></th>\n",
       "      <th></th>\n",
       "      <th></th>\n",
       "      <th></th>\n",
       "      <th></th>\n",
       "    </tr>\n",
       "  </thead>\n",
       "  <tbody>\n",
       "    <tr>\n",
       "      <th>2020-12-08</th>\n",
       "      <td>0.000435</td>\n",
       "      <td>0.000079</td>\n",
       "      <td>0.000417</td>\n",
       "      <td>0.000235</td>\n",
       "      <td>0.000014</td>\n",
       "      <td>0.000554</td>\n",
       "    </tr>\n",
       "    <tr>\n",
       "      <th>2020-12-09</th>\n",
       "      <td>0.000435</td>\n",
       "      <td>0.000079</td>\n",
       "      <td>0.000417</td>\n",
       "      <td>0.000235</td>\n",
       "      <td>0.000014</td>\n",
       "      <td>0.000554</td>\n",
       "    </tr>\n",
       "    <tr>\n",
       "      <th>2020-12-10</th>\n",
       "      <td>0.000435</td>\n",
       "      <td>0.000079</td>\n",
       "      <td>0.000417</td>\n",
       "      <td>0.000235</td>\n",
       "      <td>0.000014</td>\n",
       "      <td>0.000554</td>\n",
       "    </tr>\n",
       "    <tr>\n",
       "      <th>2020-12-11</th>\n",
       "      <td>0.000435</td>\n",
       "      <td>0.000079</td>\n",
       "      <td>0.000417</td>\n",
       "      <td>0.000235</td>\n",
       "      <td>0.000014</td>\n",
       "      <td>0.000554</td>\n",
       "    </tr>\n",
       "    <tr>\n",
       "      <th>2020-12-12</th>\n",
       "      <td>0.000435</td>\n",
       "      <td>0.000079</td>\n",
       "      <td>0.000417</td>\n",
       "      <td>0.000235</td>\n",
       "      <td>0.000014</td>\n",
       "      <td>0.000554</td>\n",
       "    </tr>\n",
       "  </tbody>\n",
       "</table>\n",
       "</div>"
      ],
      "text/plain": [
       "Country      Belgium    Canada    France  Netherlands  Portugal  \\\n",
       "Date                                                              \n",
       "2020-12-08  0.000435  0.000079  0.000417     0.000235  0.000014   \n",
       "2020-12-09  0.000435  0.000079  0.000417     0.000235  0.000014   \n",
       "2020-12-10  0.000435  0.000079  0.000417     0.000235  0.000014   \n",
       "2020-12-11  0.000435  0.000079  0.000417     0.000235  0.000014   \n",
       "2020-12-12  0.000435  0.000079  0.000417     0.000235  0.000014   \n",
       "\n",
       "Country     United Kingdom  \n",
       "Date                        \n",
       "2020-12-08        0.000554  \n",
       "2020-12-09        0.000554  \n",
       "2020-12-10        0.000554  \n",
       "2020-12-11        0.000554  \n",
       "2020-12-12        0.000554  "
      ]
     },
     "execution_count": 17,
     "metadata": {},
     "output_type": "execute_result"
    }
   ],
   "source": [
    "analyser.history(\"kappa\", roll_window=None).tail()"
   ]
  },
  {
   "cell_type": "markdown",
   "metadata": {},
   "source": [
    "### $\\theta$: Mortality rate of S$^\\ast$ cases $\\mathrm{[-]}$"
   ]
  },
  {
   "cell_type": "code",
   "execution_count": 18,
   "metadata": {
    "collapsed": false
   },
   "outputs": [
    {
     "data": {
      "image/png": "[encoded data removed]",
      "text/plain": [
       "<Figure size 648x432 with 1 Axes>"
      ]
     },
     "metadata": {},
     "output_type": "display_data"
    },
    {
     "data": {
      "text/html": [
       "<div>\n",
       "<style scoped>\n",
       "    .dataframe tbody tr th:only-of-type {\n",
       "        vertical-align: middle;\n",
       "    }\n",
       "\n",
       "    .dataframe tbody tr th {\n",
       "        vertical-align: top;\n",
       "    }\n",
       "\n",
       "    .dataframe thead th {\n",
       "        text-align: right;\n",
       "    }\n",
       "</style>\n",
       "<table border=\"1\" class=\"dataframe\">\n",
       "  <thead>\n",
       "    <tr style=\"text-align: right;\">\n",
       "      <th>Country</th>\n",
       "      <th>Belgium</th>\n",
       "      <th>Canada</th>\n",
       "      <th>France</th>\n",
       "      <th>Netherlands</th>\n",
       "      <th>Portugal</th>\n",
       "      <th>United Kingdom</th>\n",
       "    </tr>\n",
       "    <tr>\n",
       "      <th>Date</th>\n",
       "      <th></th>\n",
       "      <th></th>\n",
       "      <th></th>\n",
       "      <th></th>\n",
       "      <th></th>\n",
       "      <th></th>\n",
       "    </tr>\n",
       "  </thead>\n",
       "  <tbody>\n",
       "    <tr>\n",
       "      <th>2020-12-08</th>\n",
       "      <td>0.042212</td>\n",
       "      <td>0.00038</td>\n",
       "      <td>0.019439</td>\n",
       "      <td>0.000572</td>\n",
       "      <td>0.018066</td>\n",
       "      <td>0.000597</td>\n",
       "    </tr>\n",
       "    <tr>\n",
       "      <th>2020-12-09</th>\n",
       "      <td>0.042212</td>\n",
       "      <td>0.00038</td>\n",
       "      <td>0.019439</td>\n",
       "      <td>0.000572</td>\n",
       "      <td>0.018066</td>\n",
       "      <td>0.000597</td>\n",
       "    </tr>\n",
       "    <tr>\n",
       "      <th>2020-12-10</th>\n",
       "      <td>0.042212</td>\n",
       "      <td>0.00038</td>\n",
       "      <td>0.019439</td>\n",
       "      <td>0.000572</td>\n",
       "      <td>0.018066</td>\n",
       "      <td>0.000597</td>\n",
       "    </tr>\n",
       "    <tr>\n",
       "      <th>2020-12-11</th>\n",
       "      <td>0.042212</td>\n",
       "      <td>0.00038</td>\n",
       "      <td>0.019439</td>\n",
       "      <td>0.000572</td>\n",
       "      <td>0.018066</td>\n",
       "      <td>0.000597</td>\n",
       "    </tr>\n",
       "    <tr>\n",
       "      <th>2020-12-12</th>\n",
       "      <td>0.042212</td>\n",
       "      <td>0.00038</td>\n",
       "      <td>0.019439</td>\n",
       "      <td>0.000572</td>\n",
       "      <td>0.018066</td>\n",
       "      <td>0.000597</td>\n",
       "    </tr>\n",
       "  </tbody>\n",
       "</table>\n",
       "</div>"
      ],
      "text/plain": [
       "Country      Belgium   Canada    France  Netherlands  Portugal  United Kingdom\n",
       "Date                                                                          \n",
       "2020-12-08  0.042212  0.00038  0.019439     0.000572  0.018066        0.000597\n",
       "2020-12-09  0.042212  0.00038  0.019439     0.000572  0.018066        0.000597\n",
       "2020-12-10  0.042212  0.00038  0.019439     0.000572  0.018066        0.000597\n",
       "2020-12-11  0.042212  0.00038  0.019439     0.000572  0.018066        0.000597\n",
       "2020-12-12  0.042212  0.00038  0.019439     0.000572  0.018066        0.000597"
      ]
     },
     "execution_count": 18,
     "metadata": {},
     "output_type": "execute_result"
    }
   ],
   "source": [
    "analyser.history(\"theta\", roll_window=None).tail()"
   ]
  },
  {
   "cell_type": "markdown",
   "metadata": {},
   "source": [
    "## (Experimental): Relationship of OxCGRT index and parameter values\n",
    "Government responses will impact on parameter values of ODE models about 14 days later. Here, we will investigate on the relationship of [stringency index (from OxCGRT)](https://github.com/OxCGRT/covid-policy-tracker/blob/master/documentation/index_methodology.md) and reproduction number/model parameters.\n"
   ]
  },
  {
   "cell_type": "code",
   "execution_count": 19,
   "metadata": {
    "collapsed": false
   },
   "outputs": [],
   "source": [
    "%matplotlib inline\n",
    "from matplotlib import pyplot as plt\n",
    "import seaborn as sns\n",
    "import pandas as pd"
   ]
  },
  {
   "cell_type": "code",
   "execution_count": 20,
   "metadata": {
    "collapsed": false
   },
   "outputs": [
    {
     "name": "stdout",
     "output_type": "stream",
     "text": [
      "<class 'pandas.core.frame.DataFrame'>\n",
      "Int64Index: 25739 entries, 0 to 25808\n",
      "Data columns (total 19 columns):\n",
      " #   Column                               Non-Null Count  Dtype         \n",
      "---  ------                               --------------  -----         \n",
      " 0   Date                                 25739 non-null  datetime64[ns]\n",
      " 1   Country                              25739 non-null  object        \n",
      " 2   Rt                                   25739 non-null  float64       \n",
      " 3   theta                                25739 non-null  float64       \n",
      " 4   kappa                                25739 non-null  float64       \n",
      " 5   rho                                  25739 non-null  float64       \n",
      " 6   sigma                                25739 non-null  float64       \n",
      " 7   School_closing                       25739 non-null  int64         \n",
      " 8   Workplace_closing                    25739 non-null  int64         \n",
      " 9   Cancel_events                        25739 non-null  int64         \n",
      " 10  Gatherings_restrictions              25739 non-null  int64         \n",
      " 11  Transport_closing                    25739 non-null  int64         \n",
      " 12  Stay_home_restrictions               25739 non-null  int64         \n",
      " 13  Internal_movement_restrictions       25739 non-null  int64         \n",
      " 14  International_movement_restrictions  25739 non-null  int64         \n",
      " 15  Information_campaigns                25739 non-null  int64         \n",
      " 16  Testing_policy                       25739 non-null  int64         \n",
      " 17  Contact_tracing                      25739 non-null  int64         \n",
      " 18  Stringency_index                     25739 non-null  float64       \n",
      "dtypes: datetime64[ns](1), float64(6), int64(11), object(1)\n",
      "memory usage: 3.9+ MB\n"
     ]
    }
   ],
   "source": [
    "df = analyser.track()\n",
    "param_cols = [\"Rt\", *cs.SIRF.PARAMETERS]\n",
    "oxcgrt_cols = oxcgrt_data.OXCGRT_VARS[:]\n",
    "cols = param_cols + oxcgrt_cols\n",
    "delay = 14\n",
    "\n",
    "for col in param_cols:\n",
    "    df[col] = pd.to_numeric(df[col], errors=\"coerce\")\n",
    "    df[col] = df.groupby(\"Country\")[col].shift(0 - delay)\n",
    "\n",
    "df = df.dropna(how=\"any\")\n",
    "df = df.loc[:, [\"Date\", \"Country\", *cols]]\n",
    "track_df = df.copy()\n",
    "track_df.info()"
   ]
  },
  {
   "cell_type": "code",
   "execution_count": 21,
   "metadata": {
    "collapsed": false
   },
   "outputs": [
    {
     "data": {
      "text/html": [
       "<style  type=\"text/css\" >\n",
       "#T_89e40dec_3c91_11eb_bc3b_525400c1b1ebrow0_col0,#T_89e40dec_3c91_11eb_bc3b_525400c1b1ebrow1_col1,#T_89e40dec_3c91_11eb_bc3b_525400c1b1ebrow2_col2,#T_89e40dec_3c91_11eb_bc3b_525400c1b1ebrow3_col3,#T_89e40dec_3c91_11eb_bc3b_525400c1b1ebrow4_col4,#T_89e40dec_3c91_11eb_bc3b_525400c1b1ebrow5_col5,#T_89e40dec_3c91_11eb_bc3b_525400c1b1ebrow6_col6,#T_89e40dec_3c91_11eb_bc3b_525400c1b1ebrow7_col7,#T_89e40dec_3c91_11eb_bc3b_525400c1b1ebrow8_col8,#T_89e40dec_3c91_11eb_bc3b_525400c1b1ebrow9_col9,#T_89e40dec_3c91_11eb_bc3b_525400c1b1ebrow10_col10,#T_89e40dec_3c91_11eb_bc3b_525400c1b1ebrow11_col11,#T_89e40dec_3c91_11eb_bc3b_525400c1b1ebrow12_col12,#T_89e40dec_3c91_11eb_bc3b_525400c1b1ebrow13_col13,#T_89e40dec_3c91_11eb_bc3b_525400c1b1ebrow14_col14,#T_89e40dec_3c91_11eb_bc3b_525400c1b1ebrow15_col15,#T_89e40dec_3c91_11eb_bc3b_525400c1b1ebrow16_col16{\n",
       "            background-color:  #023858;\n",
       "            color:  #f1f1f1;\n",
       "        }#T_89e40dec_3c91_11eb_bc3b_525400c1b1ebrow0_col1,#T_89e40dec_3c91_11eb_bc3b_525400c1b1ebrow0_col10,#T_89e40dec_3c91_11eb_bc3b_525400c1b1ebrow1_col0,#T_89e40dec_3c91_11eb_bc3b_525400c1b1ebrow2_col14,#T_89e40dec_3c91_11eb_bc3b_525400c1b1ebrow10_col0,#T_89e40dec_3c91_11eb_bc3b_525400c1b1ebrow10_col15,#T_89e40dec_3c91_11eb_bc3b_525400c1b1ebrow11_col14,#T_89e40dec_3c91_11eb_bc3b_525400c1b1ebrow14_col2,#T_89e40dec_3c91_11eb_bc3b_525400c1b1ebrow14_col11,#T_89e40dec_3c91_11eb_bc3b_525400c1b1ebrow15_col10{\n",
       "            background-color:  #c6cce3;\n",
       "            color:  #000000;\n",
       "        }#T_89e40dec_3c91_11eb_bc3b_525400c1b1ebrow0_col2,#T_89e40dec_3c91_11eb_bc3b_525400c1b1ebrow2_col0,#T_89e40dec_3c91_11eb_bc3b_525400c1b1ebrow2_col12,#T_89e40dec_3c91_11eb_bc3b_525400c1b1ebrow7_col12,#T_89e40dec_3c91_11eb_bc3b_525400c1b1ebrow12_col2,#T_89e40dec_3c91_11eb_bc3b_525400c1b1ebrow12_col7{\n",
       "            background-color:  #b3c3de;\n",
       "            color:  #000000;\n",
       "        }#T_89e40dec_3c91_11eb_bc3b_525400c1b1ebrow0_col3,#T_89e40dec_3c91_11eb_bc3b_525400c1b1ebrow3_col0{\n",
       "            background-color:  #2383ba;\n",
       "            color:  #000000;\n",
       "        }#T_89e40dec_3c91_11eb_bc3b_525400c1b1ebrow0_col4,#T_89e40dec_3c91_11eb_bc3b_525400c1b1ebrow3_col6,#T_89e40dec_3c91_11eb_bc3b_525400c1b1ebrow4_col0,#T_89e40dec_3c91_11eb_bc3b_525400c1b1ebrow6_col3{\n",
       "            background-color:  #f0eaf4;\n",
       "            color:  #000000;\n",
       "        }#T_89e40dec_3c91_11eb_bc3b_525400c1b1ebrow0_col5,#T_89e40dec_3c91_11eb_bc3b_525400c1b1ebrow5_col0,#T_89e40dec_3c91_11eb_bc3b_525400c1b1ebrow5_col15,#T_89e40dec_3c91_11eb_bc3b_525400c1b1ebrow9_col14,#T_89e40dec_3c91_11eb_bc3b_525400c1b1ebrow14_col9,#T_89e40dec_3c91_11eb_bc3b_525400c1b1ebrow15_col5{\n",
       "            background-color:  #bdc8e1;\n",
       "            color:  #000000;\n",
       "        }#T_89e40dec_3c91_11eb_bc3b_525400c1b1ebrow0_col6,#T_89e40dec_3c91_11eb_bc3b_525400c1b1ebrow0_col7,#T_89e40dec_3c91_11eb_bc3b_525400c1b1ebrow6_col0,#T_89e40dec_3c91_11eb_bc3b_525400c1b1ebrow7_col0{\n",
       "            background-color:  #d0d1e6;\n",
       "            color:  #000000;\n",
       "        }#T_89e40dec_3c91_11eb_bc3b_525400c1b1ebrow0_col8,#T_89e40dec_3c91_11eb_bc3b_525400c1b1ebrow8_col0{\n",
       "            background-color:  #e5e1ef;\n",
       "            color:  #000000;\n",
       "        }#T_89e40dec_3c91_11eb_bc3b_525400c1b1ebrow0_col9,#T_89e40dec_3c91_11eb_bc3b_525400c1b1ebrow0_col15,#T_89e40dec_3c91_11eb_bc3b_525400c1b1ebrow9_col0,#T_89e40dec_3c91_11eb_bc3b_525400c1b1ebrow15_col0{\n",
       "            background-color:  #d1d2e6;\n",
       "            color:  #000000;\n",
       "        }#T_89e40dec_3c91_11eb_bc3b_525400c1b1ebrow0_col11,#T_89e40dec_3c91_11eb_bc3b_525400c1b1ebrow1_col14,#T_89e40dec_3c91_11eb_bc3b_525400c1b1ebrow3_col4,#T_89e40dec_3c91_11eb_bc3b_525400c1b1ebrow4_col3,#T_89e40dec_3c91_11eb_bc3b_525400c1b1ebrow7_col14,#T_89e40dec_3c91_11eb_bc3b_525400c1b1ebrow11_col0,#T_89e40dec_3c91_11eb_bc3b_525400c1b1ebrow14_col1,#T_89e40dec_3c91_11eb_bc3b_525400c1b1ebrow14_col7{\n",
       "            background-color:  #d5d5e8;\n",
       "            color:  #000000;\n",
       "        }#T_89e40dec_3c91_11eb_bc3b_525400c1b1ebrow0_col12,#T_89e40dec_3c91_11eb_bc3b_525400c1b1ebrow12_col0{\n",
       "            background-color:  #cdd0e5;\n",
       "            color:  #000000;\n",
       "        }#T_89e40dec_3c91_11eb_bc3b_525400c1b1ebrow0_col13,#T_89e40dec_3c91_11eb_bc3b_525400c1b1ebrow0_col14,#T_89e40dec_3c91_11eb_bc3b_525400c1b1ebrow0_col16,#T_89e40dec_3c91_11eb_bc3b_525400c1b1ebrow3_col9,#T_89e40dec_3c91_11eb_bc3b_525400c1b1ebrow9_col3,#T_89e40dec_3c91_11eb_bc3b_525400c1b1ebrow13_col0,#T_89e40dec_3c91_11eb_bc3b_525400c1b1ebrow14_col0,#T_89e40dec_3c91_11eb_bc3b_525400c1b1ebrow16_col0{\n",
       "            background-color:  #d2d3e7;\n",
       "            color:  #000000;\n",
       "        }#T_89e40dec_3c91_11eb_bc3b_525400c1b1ebrow1_col2,#T_89e40dec_3c91_11eb_bc3b_525400c1b1ebrow1_col4,#T_89e40dec_3c91_11eb_bc3b_525400c1b1ebrow2_col1,#T_89e40dec_3c91_11eb_bc3b_525400c1b1ebrow4_col1{\n",
       "            background-color:  #a8bedc;\n",
       "            color:  #000000;\n",
       "        }#T_89e40dec_3c91_11eb_bc3b_525400c1b1ebrow1_col3,#T_89e40dec_3c91_11eb_bc3b_525400c1b1ebrow3_col1{\n",
       "            background-color:  #dddbec;\n",
       "            color:  #000000;\n",
       "        }#T_89e40dec_3c91_11eb_bc3b_525400c1b1ebrow1_col5,#T_89e40dec_3c91_11eb_bc3b_525400c1b1ebrow5_col1{\n",
       "            background-color:  #65a3cb;\n",
       "            color:  #000000;\n",
       "        }#T_89e40dec_3c91_11eb_bc3b_525400c1b1ebrow1_col6,#T_89e40dec_3c91_11eb_bc3b_525400c1b1ebrow6_col1{\n",
       "            background-color:  #6fa7ce;\n",
       "            color:  #000000;\n",
       "        }#T_89e40dec_3c91_11eb_bc3b_525400c1b1ebrow1_col7,#T_89e40dec_3c91_11eb_bc3b_525400c1b1ebrow7_col1{\n",
       "            background-color:  #7bacd1;\n",
       "            color:  #000000;\n",
       "        }#T_89e40dec_3c91_11eb_bc3b_525400c1b1ebrow1_col8,#T_89e40dec_3c91_11eb_bc3b_525400c1b1ebrow8_col1{\n",
       "            background-color:  #83afd3;\n",
       "            color:  #000000;\n",
       "        }#T_89e40dec_3c91_11eb_bc3b_525400c1b1ebrow1_col9,#T_89e40dec_3c91_11eb_bc3b_525400c1b1ebrow9_col1{\n",
       "            background-color:  #8eb3d5;\n",
       "            color:  #000000;\n",
       "        }#T_89e40dec_3c91_11eb_bc3b_525400c1b1ebrow1_col10,#T_89e40dec_3c91_11eb_bc3b_525400c1b1ebrow5_col12,#T_89e40dec_3c91_11eb_bc3b_525400c1b1ebrow10_col1,#T_89e40dec_3c91_11eb_bc3b_525400c1b1ebrow12_col5{\n",
       "            background-color:  #73a9cf;\n",
       "            color:  #000000;\n",
       "        }#T_89e40dec_3c91_11eb_bc3b_525400c1b1ebrow1_col11,#T_89e40dec_3c91_11eb_bc3b_525400c1b1ebrow11_col1{\n",
       "            background-color:  #71a8ce;\n",
       "            color:  #000000;\n",
       "        }#T_89e40dec_3c91_11eb_bc3b_525400c1b1ebrow1_col12,#T_89e40dec_3c91_11eb_bc3b_525400c1b1ebrow12_col1{\n",
       "            background-color:  #81aed2;\n",
       "            color:  #000000;\n",
       "        }#T_89e40dec_3c91_11eb_bc3b_525400c1b1ebrow1_col13,#T_89e40dec_3c91_11eb_bc3b_525400c1b1ebrow13_col1{\n",
       "            background-color:  #91b5d6;\n",
       "            color:  #000000;\n",
       "        }#T_89e40dec_3c91_11eb_bc3b_525400c1b1ebrow1_col15,#T_89e40dec_3c91_11eb_bc3b_525400c1b1ebrow15_col1{\n",
       "            background-color:  #afc1dd;\n",
       "            color:  #000000;\n",
       "        }#T_89e40dec_3c91_11eb_bc3b_525400c1b1ebrow1_col16,#T_89e40dec_3c91_11eb_bc3b_525400c1b1ebrow6_col11,#T_89e40dec_3c91_11eb_bc3b_525400c1b1ebrow11_col6,#T_89e40dec_3c91_11eb_bc3b_525400c1b1ebrow16_col1{\n",
       "            background-color:  #549cc7;\n",
       "            color:  #000000;\n",
       "        }#T_89e40dec_3c91_11eb_bc3b_525400c1b1ebrow2_col3,#T_89e40dec_3c91_11eb_bc3b_525400c1b1ebrow2_col7,#T_89e40dec_3c91_11eb_bc3b_525400c1b1ebrow3_col2,#T_89e40dec_3c91_11eb_bc3b_525400c1b1ebrow7_col2{\n",
       "            background-color:  #8bb2d4;\n",
       "            color:  #000000;\n",
       "        }#T_89e40dec_3c91_11eb_bc3b_525400c1b1ebrow2_col4,#T_89e40dec_3c91_11eb_bc3b_525400c1b1ebrow2_col9,#T_89e40dec_3c91_11eb_bc3b_525400c1b1ebrow4_col2,#T_89e40dec_3c91_11eb_bc3b_525400c1b1ebrow9_col2{\n",
       "            background-color:  #94b6d7;\n",
       "            color:  #000000;\n",
       "        }#T_89e40dec_3c91_11eb_bc3b_525400c1b1ebrow2_col5,#T_89e40dec_3c91_11eb_bc3b_525400c1b1ebrow5_col2{\n",
       "            background-color:  #b9c6e0;\n",
       "            color:  #000000;\n",
       "        }#T_89e40dec_3c91_11eb_bc3b_525400c1b1ebrow2_col6,#T_89e40dec_3c91_11eb_bc3b_525400c1b1ebrow6_col2,#T_89e40dec_3c91_11eb_bc3b_525400c1b1ebrow9_col15,#T_89e40dec_3c91_11eb_bc3b_525400c1b1ebrow15_col9{\n",
       "            background-color:  #a4bcda;\n",
       "            color:  #000000;\n",
       "        }#T_89e40dec_3c91_11eb_bc3b_525400c1b1ebrow2_col8,#T_89e40dec_3c91_11eb_bc3b_525400c1b1ebrow3_col7,#T_89e40dec_3c91_11eb_bc3b_525400c1b1ebrow7_col3,#T_89e40dec_3c91_11eb_bc3b_525400c1b1ebrow8_col2{\n",
       "            background-color:  #ced0e6;\n",
       "            color:  #000000;\n",
       "        }#T_89e40dec_3c91_11eb_bc3b_525400c1b1ebrow2_col10,#T_89e40dec_3c91_11eb_bc3b_525400c1b1ebrow10_col2{\n",
       "            background-color:  #b7c5df;\n",
       "            color:  #000000;\n",
       "        }#T_89e40dec_3c91_11eb_bc3b_525400c1b1ebrow2_col11,#T_89e40dec_3c91_11eb_bc3b_525400c1b1ebrow11_col2{\n",
       "            background-color:  #b4c4df;\n",
       "            color:  #000000;\n",
       "        }#T_89e40dec_3c91_11eb_bc3b_525400c1b1ebrow2_col13,#T_89e40dec_3c91_11eb_bc3b_525400c1b1ebrow5_col14,#T_89e40dec_3c91_11eb_bc3b_525400c1b1ebrow13_col2,#T_89e40dec_3c91_11eb_bc3b_525400c1b1ebrow14_col5{\n",
       "            background-color:  #9ab8d8;\n",
       "            color:  #000000;\n",
       "        }#T_89e40dec_3c91_11eb_bc3b_525400c1b1ebrow2_col15,#T_89e40dec_3c91_11eb_bc3b_525400c1b1ebrow5_col7,#T_89e40dec_3c91_11eb_bc3b_525400c1b1ebrow7_col5,#T_89e40dec_3c91_11eb_bc3b_525400c1b1ebrow15_col2{\n",
       "            background-color:  #93b5d6;\n",
       "            color:  #000000;\n",
       "        }#T_89e40dec_3c91_11eb_bc3b_525400c1b1ebrow2_col16,#T_89e40dec_3c91_11eb_bc3b_525400c1b1ebrow16_col2{\n",
       "            background-color:  #c0c9e2;\n",
       "            color:  #000000;\n",
       "        }#T_89e40dec_3c91_11eb_bc3b_525400c1b1ebrow3_col5,#T_89e40dec_3c91_11eb_bc3b_525400c1b1ebrow5_col3{\n",
       "            background-color:  #eae6f1;\n",
       "            color:  #000000;\n",
       "        }#T_89e40dec_3c91_11eb_bc3b_525400c1b1ebrow3_col8,#T_89e40dec_3c91_11eb_bc3b_525400c1b1ebrow8_col3{\n",
       "            background-color:  #f7f0f7;\n",
       "            color:  #000000;\n",
       "        }#T_89e40dec_3c91_11eb_bc3b_525400c1b1ebrow3_col10,#T_89e40dec_3c91_11eb_bc3b_525400c1b1ebrow10_col3{\n",
       "            background-color:  #e0deed;\n",
       "            color:  #000000;\n",
       "        }#T_89e40dec_3c91_11eb_bc3b_525400c1b1ebrow3_col11,#T_89e40dec_3c91_11eb_bc3b_525400c1b1ebrow11_col3{\n",
       "            background-color:  #bbc7e0;\n",
       "            color:  #000000;\n",
       "        }#T_89e40dec_3c91_11eb_bc3b_525400c1b1ebrow3_col12,#T_89e40dec_3c91_11eb_bc3b_525400c1b1ebrow12_col3{\n",
       "            background-color:  #fff7fb;\n",
       "            color:  #000000;\n",
       "        }#T_89e40dec_3c91_11eb_bc3b_525400c1b1ebrow3_col13,#T_89e40dec_3c91_11eb_bc3b_525400c1b1ebrow13_col3{\n",
       "            background-color:  #e2dfee;\n",
       "            color:  #000000;\n",
       "        }#T_89e40dec_3c91_11eb_bc3b_525400c1b1ebrow3_col14,#T_89e40dec_3c91_11eb_bc3b_525400c1b1ebrow14_col3{\n",
       "            background-color:  #fbf4f9;\n",
       "            color:  #000000;\n",
       "        }#T_89e40dec_3c91_11eb_bc3b_525400c1b1ebrow3_col15,#T_89e40dec_3c91_11eb_bc3b_525400c1b1ebrow15_col3{\n",
       "            background-color:  #c8cde4;\n",
       "            color:  #000000;\n",
       "        }#T_89e40dec_3c91_11eb_bc3b_525400c1b1ebrow3_col16,#T_89e40dec_3c91_11eb_bc3b_525400c1b1ebrow16_col3{\n",
       "            background-color:  #f5eff6;\n",
       "            color:  #000000;\n",
       "        }#T_89e40dec_3c91_11eb_bc3b_525400c1b1ebrow4_col5,#T_89e40dec_3c91_11eb_bc3b_525400c1b1ebrow5_col4{\n",
       "            background-color:  #80aed2;\n",
       "            color:  #000000;\n",
       "        }#T_89e40dec_3c91_11eb_bc3b_525400c1b1ebrow4_col6,#T_89e40dec_3c91_11eb_bc3b_525400c1b1ebrow6_col4{\n",
       "            background-color:  #5ea0ca;\n",
       "            color:  #000000;\n",
       "        }#T_89e40dec_3c91_11eb_bc3b_525400c1b1ebrow4_col7,#T_89e40dec_3c91_11eb_bc3b_525400c1b1ebrow7_col4{\n",
       "            background-color:  #3f93c2;\n",
       "            color:  #000000;\n",
       "        }#T_89e40dec_3c91_11eb_bc3b_525400c1b1ebrow4_col8,#T_89e40dec_3c91_11eb_bc3b_525400c1b1ebrow8_col4{\n",
       "            background-color:  #2786bb;\n",
       "            color:  #000000;\n",
       "        }#T_89e40dec_3c91_11eb_bc3b_525400c1b1ebrow4_col9,#T_89e40dec_3c91_11eb_bc3b_525400c1b1ebrow9_col4{\n",
       "            background-color:  #4c99c5;\n",
       "            color:  #000000;\n",
       "        }#T_89e40dec_3c91_11eb_bc3b_525400c1b1ebrow4_col10,#T_89e40dec_3c91_11eb_bc3b_525400c1b1ebrow10_col4{\n",
       "            background-color:  #69a5cc;\n",
       "            color:  #000000;\n",
       "        }#T_89e40dec_3c91_11eb_bc3b_525400c1b1ebrow4_col11,#T_89e40dec_3c91_11eb_bc3b_525400c1b1ebrow11_col4{\n",
       "            background-color:  #358fc0;\n",
       "            color:  #000000;\n",
       "        }#T_89e40dec_3c91_11eb_bc3b_525400c1b1ebrow4_col12,#T_89e40dec_3c91_11eb_bc3b_525400c1b1ebrow12_col4{\n",
       "            background-color:  #99b8d8;\n",
       "            color:  #000000;\n",
       "        }#T_89e40dec_3c91_11eb_bc3b_525400c1b1ebrow4_col13,#T_89e40dec_3c91_11eb_bc3b_525400c1b1ebrow13_col4{\n",
       "            background-color:  #62a2cb;\n",
       "            color:  #000000;\n",
       "        }#T_89e40dec_3c91_11eb_bc3b_525400c1b1ebrow4_col14,#T_89e40dec_3c91_11eb_bc3b_525400c1b1ebrow14_col4{\n",
       "            background-color:  #a9bfdc;\n",
       "            color:  #000000;\n",
       "        }#T_89e40dec_3c91_11eb_bc3b_525400c1b1ebrow4_col15,#T_89e40dec_3c91_11eb_bc3b_525400c1b1ebrow15_col4{\n",
       "            background-color:  #4697c4;\n",
       "            color:  #000000;\n",
       "        }#T_89e40dec_3c91_11eb_bc3b_525400c1b1ebrow4_col16,#T_89e40dec_3c91_11eb_bc3b_525400c1b1ebrow6_col12,#T_89e40dec_3c91_11eb_bc3b_525400c1b1ebrow8_col14,#T_89e40dec_3c91_11eb_bc3b_525400c1b1ebrow9_col13,#T_89e40dec_3c91_11eb_bc3b_525400c1b1ebrow12_col6,#T_89e40dec_3c91_11eb_bc3b_525400c1b1ebrow13_col9,#T_89e40dec_3c91_11eb_bc3b_525400c1b1ebrow14_col8,#T_89e40dec_3c91_11eb_bc3b_525400c1b1ebrow16_col4{\n",
       "            background-color:  #5a9ec9;\n",
       "            color:  #000000;\n",
       "        }#T_89e40dec_3c91_11eb_bc3b_525400c1b1ebrow5_col6,#T_89e40dec_3c91_11eb_bc3b_525400c1b1ebrow6_col5{\n",
       "            background-color:  #0566a0;\n",
       "            color:  #f1f1f1;\n",
       "        }#T_89e40dec_3c91_11eb_bc3b_525400c1b1ebrow5_col8,#T_89e40dec_3c91_11eb_bc3b_525400c1b1ebrow8_col5,#T_89e40dec_3c91_11eb_bc3b_525400c1b1ebrow12_col15,#T_89e40dec_3c91_11eb_bc3b_525400c1b1ebrow15_col12{\n",
       "            background-color:  #328dbf;\n",
       "            color:  #000000;\n",
       "        }#T_89e40dec_3c91_11eb_bc3b_525400c1b1ebrow5_col9,#T_89e40dec_3c91_11eb_bc3b_525400c1b1ebrow9_col5{\n",
       "            background-color:  #9ebad9;\n",
       "            color:  #000000;\n",
       "        }#T_89e40dec_3c91_11eb_bc3b_525400c1b1ebrow5_col10,#T_89e40dec_3c91_11eb_bc3b_525400c1b1ebrow10_col5{\n",
       "            background-color:  #2081b9;\n",
       "            color:  #000000;\n",
       "        }#T_89e40dec_3c91_11eb_bc3b_525400c1b1ebrow5_col11,#T_89e40dec_3c91_11eb_bc3b_525400c1b1ebrow11_col5{\n",
       "            background-color:  #86b0d3;\n",
       "            color:  #000000;\n",
       "        }#T_89e40dec_3c91_11eb_bc3b_525400c1b1ebrow5_col13,#T_89e40dec_3c91_11eb_bc3b_525400c1b1ebrow13_col5{\n",
       "            background-color:  #4897c4;\n",
       "            color:  #000000;\n",
       "        }#T_89e40dec_3c91_11eb_bc3b_525400c1b1ebrow5_col16,#T_89e40dec_3c91_11eb_bc3b_525400c1b1ebrow16_col5{\n",
       "            background-color:  #046096;\n",
       "            color:  #f1f1f1;\n",
       "        }#T_89e40dec_3c91_11eb_bc3b_525400c1b1ebrow6_col7,#T_89e40dec_3c91_11eb_bc3b_525400c1b1ebrow7_col6{\n",
       "            background-color:  #2f8bbe;\n",
       "            color:  #000000;\n",
       "        }#T_89e40dec_3c91_11eb_bc3b_525400c1b1ebrow6_col8,#T_89e40dec_3c91_11eb_bc3b_525400c1b1ebrow8_col6{\n",
       "            background-color:  #0c74b2;\n",
       "            color:  #f1f1f1;\n",
       "        }#T_89e40dec_3c91_11eb_bc3b_525400c1b1ebrow6_col9,#T_89e40dec_3c91_11eb_bc3b_525400c1b1ebrow9_col6,#T_89e40dec_3c91_11eb_bc3b_525400c1b1ebrow10_col12,#T_89e40dec_3c91_11eb_bc3b_525400c1b1ebrow12_col10{\n",
       "            background-color:  #60a1ca;\n",
       "            color:  #000000;\n",
       "        }#T_89e40dec_3c91_11eb_bc3b_525400c1b1ebrow6_col10,#T_89e40dec_3c91_11eb_bc3b_525400c1b1ebrow10_col6{\n",
       "            background-color:  #04649d;\n",
       "            color:  #f1f1f1;\n",
       "        }#T_89e40dec_3c91_11eb_bc3b_525400c1b1ebrow6_col13,#T_89e40dec_3c91_11eb_bc3b_525400c1b1ebrow13_col6{\n",
       "            background-color:  #2a88bc;\n",
       "            color:  #000000;\n",
       "        }#T_89e40dec_3c91_11eb_bc3b_525400c1b1ebrow6_col14,#T_89e40dec_3c91_11eb_bc3b_525400c1b1ebrow9_col12,#T_89e40dec_3c91_11eb_bc3b_525400c1b1ebrow12_col9,#T_89e40dec_3c91_11eb_bc3b_525400c1b1ebrow14_col6{\n",
       "            background-color:  #b0c2de;\n",
       "            color:  #000000;\n",
       "        }#T_89e40dec_3c91_11eb_bc3b_525400c1b1ebrow6_col15,#T_89e40dec_3c91_11eb_bc3b_525400c1b1ebrow15_col6{\n",
       "            background-color:  #cccfe5;\n",
       "            color:  #000000;\n",
       "        }#T_89e40dec_3c91_11eb_bc3b_525400c1b1ebrow6_col16,#T_89e40dec_3c91_11eb_bc3b_525400c1b1ebrow16_col6{\n",
       "            background-color:  #045280;\n",
       "            color:  #f1f1f1;\n",
       "        }#T_89e40dec_3c91_11eb_bc3b_525400c1b1ebrow7_col8,#T_89e40dec_3c91_11eb_bc3b_525400c1b1ebrow8_col7{\n",
       "            background-color:  #1379b5;\n",
       "            color:  #f1f1f1;\n",
       "        }#T_89e40dec_3c91_11eb_bc3b_525400c1b1ebrow7_col9,#T_89e40dec_3c91_11eb_bc3b_525400c1b1ebrow9_col7{\n",
       "            background-color:  #046299;\n",
       "            color:  #f1f1f1;\n",
       "        }#T_89e40dec_3c91_11eb_bc3b_525400c1b1ebrow7_col10,#T_89e40dec_3c91_11eb_bc3b_525400c1b1ebrow10_col7{\n",
       "            background-color:  #2182b9;\n",
       "            color:  #000000;\n",
       "        }#T_89e40dec_3c91_11eb_bc3b_525400c1b1ebrow7_col11,#T_89e40dec_3c91_11eb_bc3b_525400c1b1ebrow11_col7{\n",
       "            background-color:  #04649e;\n",
       "            color:  #f1f1f1;\n",
       "        }#T_89e40dec_3c91_11eb_bc3b_525400c1b1ebrow7_col13,#T_89e40dec_3c91_11eb_bc3b_525400c1b1ebrow13_col7{\n",
       "            background-color:  #4a98c5;\n",
       "            color:  #000000;\n",
       "        }#T_89e40dec_3c91_11eb_bc3b_525400c1b1ebrow7_col15,#T_89e40dec_3c91_11eb_bc3b_525400c1b1ebrow10_col14,#T_89e40dec_3c91_11eb_bc3b_525400c1b1ebrow11_col12,#T_89e40dec_3c91_11eb_bc3b_525400c1b1ebrow12_col11,#T_89e40dec_3c91_11eb_bc3b_525400c1b1ebrow14_col10,#T_89e40dec_3c91_11eb_bc3b_525400c1b1ebrow15_col7{\n",
       "            background-color:  #b1c2de;\n",
       "            color:  #000000;\n",
       "        }#T_89e40dec_3c91_11eb_bc3b_525400c1b1ebrow7_col16,#T_89e40dec_3c91_11eb_bc3b_525400c1b1ebrow16_col7{\n",
       "            background-color:  #1b7eb7;\n",
       "            color:  #000000;\n",
       "        }#T_89e40dec_3c91_11eb_bc3b_525400c1b1ebrow8_col9,#T_89e40dec_3c91_11eb_bc3b_525400c1b1ebrow9_col8,#T_89e40dec_3c91_11eb_bc3b_525400c1b1ebrow12_col14,#T_89e40dec_3c91_11eb_bc3b_525400c1b1ebrow14_col12{\n",
       "            background-color:  #0f76b3;\n",
       "            color:  #f1f1f1;\n",
       "        }#T_89e40dec_3c91_11eb_bc3b_525400c1b1ebrow8_col10,#T_89e40dec_3c91_11eb_bc3b_525400c1b1ebrow10_col8{\n",
       "            background-color:  #1077b4;\n",
       "            color:  #f1f1f1;\n",
       "        }#T_89e40dec_3c91_11eb_bc3b_525400c1b1ebrow8_col11,#T_89e40dec_3c91_11eb_bc3b_525400c1b1ebrow11_col8{\n",
       "            background-color:  #056ba7;\n",
       "            color:  #f1f1f1;\n",
       "        }#T_89e40dec_3c91_11eb_bc3b_525400c1b1ebrow8_col12,#T_89e40dec_3c91_11eb_bc3b_525400c1b1ebrow12_col8,#T_89e40dec_3c91_11eb_bc3b_525400c1b1ebrow12_col16,#T_89e40dec_3c91_11eb_bc3b_525400c1b1ebrow16_col12{\n",
       "            background-color:  #3b92c1;\n",
       "            color:  #000000;\n",
       "        }#T_89e40dec_3c91_11eb_bc3b_525400c1b1ebrow8_col13,#T_89e40dec_3c91_11eb_bc3b_525400c1b1ebrow13_col8{\n",
       "            background-color:  #0d75b3;\n",
       "            color:  #f1f1f1;\n",
       "        }#T_89e40dec_3c91_11eb_bc3b_525400c1b1ebrow8_col15,#T_89e40dec_3c91_11eb_bc3b_525400c1b1ebrow15_col8{\n",
       "            background-color:  #6ba5cd;\n",
       "            color:  #000000;\n",
       "        }#T_89e40dec_3c91_11eb_bc3b_525400c1b1ebrow8_col16,#T_89e40dec_3c91_11eb_bc3b_525400c1b1ebrow10_col16,#T_89e40dec_3c91_11eb_bc3b_525400c1b1ebrow16_col8,#T_89e40dec_3c91_11eb_bc3b_525400c1b1ebrow16_col10{\n",
       "            background-color:  #046198;\n",
       "            color:  #f1f1f1;\n",
       "        }#T_89e40dec_3c91_11eb_bc3b_525400c1b1ebrow9_col10,#T_89e40dec_3c91_11eb_bc3b_525400c1b1ebrow10_col9{\n",
       "            background-color:  #4295c3;\n",
       "            color:  #000000;\n",
       "        }#T_89e40dec_3c91_11eb_bc3b_525400c1b1ebrow9_col11,#T_89e40dec_3c91_11eb_bc3b_525400c1b1ebrow11_col9{\n",
       "            background-color:  #0567a2;\n",
       "            color:  #f1f1f1;\n",
       "        }#T_89e40dec_3c91_11eb_bc3b_525400c1b1ebrow9_col16,#T_89e40dec_3c91_11eb_bc3b_525400c1b1ebrow12_col13,#T_89e40dec_3c91_11eb_bc3b_525400c1b1ebrow13_col12,#T_89e40dec_3c91_11eb_bc3b_525400c1b1ebrow16_col9{\n",
       "            background-color:  #3991c1;\n",
       "            color:  #000000;\n",
       "        }#T_89e40dec_3c91_11eb_bc3b_525400c1b1ebrow10_col11,#T_89e40dec_3c91_11eb_bc3b_525400c1b1ebrow11_col10{\n",
       "            background-color:  #1e80b8;\n",
       "            color:  #000000;\n",
       "        }#T_89e40dec_3c91_11eb_bc3b_525400c1b1ebrow10_col13,#T_89e40dec_3c91_11eb_bc3b_525400c1b1ebrow13_col10,#T_89e40dec_3c91_11eb_bc3b_525400c1b1ebrow13_col15,#T_89e40dec_3c91_11eb_bc3b_525400c1b1ebrow15_col13{\n",
       "            background-color:  #4094c3;\n",
       "            color:  #000000;\n",
       "        }#T_89e40dec_3c91_11eb_bc3b_525400c1b1ebrow11_col13,#T_89e40dec_3c91_11eb_bc3b_525400c1b1ebrow13_col11{\n",
       "            background-color:  #5c9fc9;\n",
       "            color:  #000000;\n",
       "        }#T_89e40dec_3c91_11eb_bc3b_525400c1b1ebrow11_col15,#T_89e40dec_3c91_11eb_bc3b_525400c1b1ebrow15_col11{\n",
       "            background-color:  #97b7d7;\n",
       "            color:  #000000;\n",
       "        }#T_89e40dec_3c91_11eb_bc3b_525400c1b1ebrow11_col16,#T_89e40dec_3c91_11eb_bc3b_525400c1b1ebrow16_col11{\n",
       "            background-color:  #2987bc;\n",
       "            color:  #000000;\n",
       "        }#T_89e40dec_3c91_11eb_bc3b_525400c1b1ebrow13_col14,#T_89e40dec_3c91_11eb_bc3b_525400c1b1ebrow14_col13{\n",
       "            background-color:  #2d8abd;\n",
       "            color:  #000000;\n",
       "        }#T_89e40dec_3c91_11eb_bc3b_525400c1b1ebrow13_col16,#T_89e40dec_3c91_11eb_bc3b_525400c1b1ebrow16_col13{\n",
       "            background-color:  #0570b0;\n",
       "            color:  #f1f1f1;\n",
       "        }#T_89e40dec_3c91_11eb_bc3b_525400c1b1ebrow14_col15,#T_89e40dec_3c91_11eb_bc3b_525400c1b1ebrow15_col14{\n",
       "            background-color:  #2484ba;\n",
       "            color:  #000000;\n",
       "        }#T_89e40dec_3c91_11eb_bc3b_525400c1b1ebrow14_col16,#T_89e40dec_3c91_11eb_bc3b_525400c1b1ebrow16_col14{\n",
       "            background-color:  #8cb3d5;\n",
       "            color:  #000000;\n",
       "        }#T_89e40dec_3c91_11eb_bc3b_525400c1b1ebrow15_col16,#T_89e40dec_3c91_11eb_bc3b_525400c1b1ebrow16_col15{\n",
       "            background-color:  #b8c6e0;\n",
       "            color:  #000000;\n",
       "        }</style><table id=\"T_89e40dec_3c91_11eb_bc3b_525400c1b1eb\" ><thead>    <tr>        <th class=\"blank level0\" ></th>        <th class=\"col_heading level0 col0\" >Rt</th>        <th class=\"col_heading level0 col1\" >theta</th>        <th class=\"col_heading level0 col2\" >kappa</th>        <th class=\"col_heading level0 col3\" >rho</th>        <th class=\"col_heading level0 col4\" >sigma</th>        <th class=\"col_heading level0 col5\" >School_closing</th>        <th class=\"col_heading level0 col6\" >Workplace_closing</th>        <th class=\"col_heading level0 col7\" >Cancel_events</th>        <th class=\"col_heading level0 col8\" >Gatherings_restrictions</th>        <th class=\"col_heading level0 col9\" >Transport_closing</th>        <th class=\"col_heading level0 col10\" >Stay_home_restrictions</th>        <th class=\"col_heading level0 col11\" >Internal_movement_restrictions</th>        <th class=\"col_heading level0 col12\" >International_movement_restrictions</th>        <th class=\"col_heading level0 col13\" >Information_campaigns</th>        <th class=\"col_heading level0 col14\" >Testing_policy</th>        <th class=\"col_heading level0 col15\" >Contact_tracing</th>        <th class=\"col_heading level0 col16\" >Stringency_index</th>    </tr></thead><tbody>\n",
       "                <tr>\n",
       "                        <th id=\"T_89e40dec_3c91_11eb_bc3b_525400c1b1eblevel0_row0\" class=\"row_heading level0 row0\" >Rt</th>\n",
       "                        <td id=\"T_89e40dec_3c91_11eb_bc3b_525400c1b1ebrow0_col0\" class=\"data row0 col0\" >1.000000</td>\n",
       "                        <td id=\"T_89e40dec_3c91_11eb_bc3b_525400c1b1ebrow0_col1\" class=\"data row0 col1\" >-0.132862</td>\n",
       "                        <td id=\"T_89e40dec_3c91_11eb_bc3b_525400c1b1ebrow0_col2\" class=\"data row0 col2\" >-0.036979</td>\n",
       "                        <td id=\"T_89e40dec_3c91_11eb_bc3b_525400c1b1ebrow0_col3\" class=\"data row0 col3\" >0.487159</td>\n",
       "                        <td id=\"T_89e40dec_3c91_11eb_bc3b_525400c1b1ebrow0_col4\" class=\"data row0 col4\" >-0.413472</td>\n",
       "                        <td id=\"T_89e40dec_3c91_11eb_bc3b_525400c1b1ebrow0_col5\" class=\"data row0 col5\" >-0.087207</td>\n",
       "                        <td id=\"T_89e40dec_3c91_11eb_bc3b_525400c1b1ebrow0_col6\" class=\"data row0 col6\" >-0.171203</td>\n",
       "                        <td id=\"T_89e40dec_3c91_11eb_bc3b_525400c1b1ebrow0_col7\" class=\"data row0 col7\" >-0.176424</td>\n",
       "                        <td id=\"T_89e40dec_3c91_11eb_bc3b_525400c1b1ebrow0_col8\" class=\"data row0 col8\" >-0.320134</td>\n",
       "                        <td id=\"T_89e40dec_3c91_11eb_bc3b_525400c1b1ebrow0_col9\" class=\"data row0 col9\" >-0.177978</td>\n",
       "                        <td id=\"T_89e40dec_3c91_11eb_bc3b_525400c1b1ebrow0_col10\" class=\"data row0 col10\" >-0.133702</td>\n",
       "                        <td id=\"T_89e40dec_3c91_11eb_bc3b_525400c1b1ebrow0_col11\" class=\"data row0 col11\" >-0.213893</td>\n",
       "                        <td id=\"T_89e40dec_3c91_11eb_bc3b_525400c1b1ebrow0_col12\" class=\"data row0 col12\" >-0.161079</td>\n",
       "                        <td id=\"T_89e40dec_3c91_11eb_bc3b_525400c1b1ebrow0_col13\" class=\"data row0 col13\" >-0.190303</td>\n",
       "                        <td id=\"T_89e40dec_3c91_11eb_bc3b_525400c1b1ebrow0_col14\" class=\"data row0 col14\" >-0.194983</td>\n",
       "                        <td id=\"T_89e40dec_3c91_11eb_bc3b_525400c1b1ebrow0_col15\" class=\"data row0 col15\" >-0.180315</td>\n",
       "                        <td id=\"T_89e40dec_3c91_11eb_bc3b_525400c1b1ebrow0_col16\" class=\"data row0 col16\" >-0.195241</td>\n",
       "            </tr>\n",
       "            <tr>\n",
       "                        <th id=\"T_89e40dec_3c91_11eb_bc3b_525400c1b1eblevel0_row1\" class=\"row_heading level0 row1\" >theta</th>\n",
       "                        <td id=\"T_89e40dec_3c91_11eb_bc3b_525400c1b1ebrow1_col0\" class=\"data row1 col0\" >-0.132862</td>\n",
       "                        <td id=\"T_89e40dec_3c91_11eb_bc3b_525400c1b1ebrow1_col1\" class=\"data row1 col1\" >1.000000</td>\n",
       "                        <td id=\"T_89e40dec_3c91_11eb_bc3b_525400c1b1ebrow1_col2\" class=\"data row1 col2\" >0.012516</td>\n",
       "                        <td id=\"T_89e40dec_3c91_11eb_bc3b_525400c1b1ebrow1_col3\" class=\"data row1 col3\" >-0.263456</td>\n",
       "                        <td id=\"T_89e40dec_3c91_11eb_bc3b_525400c1b1ebrow1_col4\" class=\"data row1 col4\" >0.009967</td>\n",
       "                        <td id=\"T_89e40dec_3c91_11eb_bc3b_525400c1b1ebrow1_col5\" class=\"data row1 col5\" >0.260896</td>\n",
       "                        <td id=\"T_89e40dec_3c91_11eb_bc3b_525400c1b1ebrow1_col6\" class=\"data row1 col6\" >0.227770</td>\n",
       "                        <td id=\"T_89e40dec_3c91_11eb_bc3b_525400c1b1ebrow1_col7\" class=\"data row1 col7\" >0.185134</td>\n",
       "                        <td id=\"T_89e40dec_3c91_11eb_bc3b_525400c1b1ebrow1_col8\" class=\"data row1 col8\" >0.157063</td>\n",
       "                        <td id=\"T_89e40dec_3c91_11eb_bc3b_525400c1b1ebrow1_col9\" class=\"data row1 col9\" >0.111777</td>\n",
       "                        <td id=\"T_89e40dec_3c91_11eb_bc3b_525400c1b1ebrow1_col10\" class=\"data row1 col10\" >0.218273</td>\n",
       "                        <td id=\"T_89e40dec_3c91_11eb_bc3b_525400c1b1ebrow1_col11\" class=\"data row1 col11\" >0.227042</td>\n",
       "                        <td id=\"T_89e40dec_3c91_11eb_bc3b_525400c1b1ebrow1_col12\" class=\"data row1 col12\" >0.162360</td>\n",
       "                        <td id=\"T_89e40dec_3c91_11eb_bc3b_525400c1b1ebrow1_col13\" class=\"data row1 col13\" >0.099333</td>\n",
       "                        <td id=\"T_89e40dec_3c91_11eb_bc3b_525400c1b1ebrow1_col14\" class=\"data row1 col14\" >-0.211347</td>\n",
       "                        <td id=\"T_89e40dec_3c91_11eb_bc3b_525400c1b1ebrow1_col15\" class=\"data row1 col15\" >-0.019803</td>\n",
       "                        <td id=\"T_89e40dec_3c91_11eb_bc3b_525400c1b1ebrow1_col16\" class=\"data row1 col16\" >0.315382</td>\n",
       "            </tr>\n",
       "            <tr>\n",
       "                        <th id=\"T_89e40dec_3c91_11eb_bc3b_525400c1b1eblevel0_row2\" class=\"row_heading level0 row2\" >kappa</th>\n",
       "                        <td id=\"T_89e40dec_3c91_11eb_bc3b_525400c1b1ebrow2_col0\" class=\"data row2 col0\" >-0.036979</td>\n",
       "                        <td id=\"T_89e40dec_3c91_11eb_bc3b_525400c1b1ebrow2_col1\" class=\"data row2 col1\" >0.012516</td>\n",
       "                        <td id=\"T_89e40dec_3c91_11eb_bc3b_525400c1b1ebrow2_col2\" class=\"data row2 col2\" >1.000000</td>\n",
       "                        <td id=\"T_89e40dec_3c91_11eb_bc3b_525400c1b1ebrow2_col3\" class=\"data row2 col3\" >0.127598</td>\n",
       "                        <td id=\"T_89e40dec_3c91_11eb_bc3b_525400c1b1ebrow2_col4\" class=\"data row2 col4\" >0.092402</td>\n",
       "                        <td id=\"T_89e40dec_3c91_11eb_bc3b_525400c1b1ebrow2_col5\" class=\"data row2 col5\" >-0.067078</td>\n",
       "                        <td id=\"T_89e40dec_3c91_11eb_bc3b_525400c1b1ebrow2_col6\" class=\"data row2 col6\" >0.029483</td>\n",
       "                        <td id=\"T_89e40dec_3c91_11eb_bc3b_525400c1b1ebrow2_col7\" class=\"data row2 col7\" >0.128476</td>\n",
       "                        <td id=\"T_89e40dec_3c91_11eb_bc3b_525400c1b1ebrow2_col8\" class=\"data row2 col8\" >-0.169600</td>\n",
       "                        <td id=\"T_89e40dec_3c91_11eb_bc3b_525400c1b1ebrow2_col9\" class=\"data row2 col9\" >0.092057</td>\n",
       "                        <td id=\"T_89e40dec_3c91_11eb_bc3b_525400c1b1ebrow2_col10\" class=\"data row2 col10\" >-0.060043</td>\n",
       "                        <td id=\"T_89e40dec_3c91_11eb_bc3b_525400c1b1ebrow2_col11\" class=\"data row2 col11\" >-0.044344</td>\n",
       "                        <td id=\"T_89e40dec_3c91_11eb_bc3b_525400c1b1ebrow2_col12\" class=\"data row2 col12\" >-0.040380</td>\n",
       "                        <td id=\"T_89e40dec_3c91_11eb_bc3b_525400c1b1ebrow2_col13\" class=\"data row2 col13\" >0.062970</td>\n",
       "                        <td id=\"T_89e40dec_3c91_11eb_bc3b_525400c1b1ebrow2_col14\" class=\"data row2 col14\" >-0.131985</td>\n",
       "                        <td id=\"T_89e40dec_3c91_11eb_bc3b_525400c1b1ebrow2_col15\" class=\"data row2 col15\" >0.094199</td>\n",
       "                        <td id=\"T_89e40dec_3c91_11eb_bc3b_525400c1b1ebrow2_col16\" class=\"data row2 col16\" >-0.097954</td>\n",
       "            </tr>\n",
       "            <tr>\n",
       "                        <th id=\"T_89e40dec_3c91_11eb_bc3b_525400c1b1eblevel0_row3\" class=\"row_heading level0 row3\" >rho</th>\n",
       "                        <td id=\"T_89e40dec_3c91_11eb_bc3b_525400c1b1ebrow3_col0\" class=\"data row3 col0\" >0.487159</td>\n",
       "                        <td id=\"T_89e40dec_3c91_11eb_bc3b_525400c1b1ebrow3_col1\" class=\"data row3 col1\" >-0.263456</td>\n",
       "                        <td id=\"T_89e40dec_3c91_11eb_bc3b_525400c1b1ebrow3_col2\" class=\"data row3 col2\" >0.127598</td>\n",
       "                        <td id=\"T_89e40dec_3c91_11eb_bc3b_525400c1b1ebrow3_col3\" class=\"data row3 col3\" >1.000000</td>\n",
       "                        <td id=\"T_89e40dec_3c91_11eb_bc3b_525400c1b1ebrow3_col4\" class=\"data row3 col4\" >-0.209941</td>\n",
       "                        <td id=\"T_89e40dec_3c91_11eb_bc3b_525400c1b1ebrow3_col5\" class=\"data row3 col5\" >-0.357202</td>\n",
       "                        <td id=\"T_89e40dec_3c91_11eb_bc3b_525400c1b1ebrow3_col6\" class=\"data row3 col6\" >-0.407383</td>\n",
       "                        <td id=\"T_89e40dec_3c91_11eb_bc3b_525400c1b1ebrow3_col7\" class=\"data row3 col7\" >-0.167901</td>\n",
       "                        <td id=\"T_89e40dec_3c91_11eb_bc3b_525400c1b1ebrow3_col8\" class=\"data row3 col8\" >-0.478446</td>\n",
       "                        <td id=\"T_89e40dec_3c91_11eb_bc3b_525400c1b1ebrow3_col9\" class=\"data row3 col9\" >-0.194924</td>\n",
       "                        <td id=\"T_89e40dec_3c91_11eb_bc3b_525400c1b1ebrow3_col10\" class=\"data row3 col10\" >-0.291483</td>\n",
       "                        <td id=\"T_89e40dec_3c91_11eb_bc3b_525400c1b1ebrow3_col11\" class=\"data row3 col11\" >-0.077475</td>\n",
       "                        <td id=\"T_89e40dec_3c91_11eb_bc3b_525400c1b1ebrow3_col12\" class=\"data row3 col12\" >-0.569691</td>\n",
       "                        <td id=\"T_89e40dec_3c91_11eb_bc3b_525400c1b1ebrow3_col13\" class=\"data row3 col13\" >-0.303738</td>\n",
       "                        <td id=\"T_89e40dec_3c91_11eb_bc3b_525400c1b1ebrow3_col14\" class=\"data row3 col14\" >-0.531034</td>\n",
       "                        <td id=\"T_89e40dec_3c91_11eb_bc3b_525400c1b1ebrow3_col15\" class=\"data row3 col15\" >-0.138359</td>\n",
       "                        <td id=\"T_89e40dec_3c91_11eb_bc3b_525400c1b1ebrow3_col16\" class=\"data row3 col16\" >-0.466896</td>\n",
       "            </tr>\n",
       "            <tr>\n",
       "                        <th id=\"T_89e40dec_3c91_11eb_bc3b_525400c1b1eblevel0_row4\" class=\"row_heading level0 row4\" >sigma</th>\n",
       "                        <td id=\"T_89e40dec_3c91_11eb_bc3b_525400c1b1ebrow4_col0\" class=\"data row4 col0\" >-0.413472</td>\n",
       "                        <td id=\"T_89e40dec_3c91_11eb_bc3b_525400c1b1ebrow4_col1\" class=\"data row4 col1\" >0.009967</td>\n",
       "                        <td id=\"T_89e40dec_3c91_11eb_bc3b_525400c1b1ebrow4_col2\" class=\"data row4 col2\" >0.092402</td>\n",
       "                        <td id=\"T_89e40dec_3c91_11eb_bc3b_525400c1b1ebrow4_col3\" class=\"data row4 col3\" >-0.209941</td>\n",
       "                        <td id=\"T_89e40dec_3c91_11eb_bc3b_525400c1b1ebrow4_col4\" class=\"data row4 col4\" >1.000000</td>\n",
       "                        <td id=\"T_89e40dec_3c91_11eb_bc3b_525400c1b1ebrow4_col5\" class=\"data row4 col5\" >0.171178</td>\n",
       "                        <td id=\"T_89e40dec_3c91_11eb_bc3b_525400c1b1ebrow4_col6\" class=\"data row4 col6\" >0.287508</td>\n",
       "                        <td id=\"T_89e40dec_3c91_11eb_bc3b_525400c1b1ebrow4_col7\" class=\"data row4 col7\" >0.381341</td>\n",
       "                        <td id=\"T_89e40dec_3c91_11eb_bc3b_525400c1b1ebrow4_col8\" class=\"data row4 col8\" >0.467533</td>\n",
       "                        <td id=\"T_89e40dec_3c91_11eb_bc3b_525400c1b1ebrow4_col9\" class=\"data row4 col9\" >0.338371</td>\n",
       "                        <td id=\"T_89e40dec_3c91_11eb_bc3b_525400c1b1ebrow4_col10\" class=\"data row4 col10\" >0.246777</td>\n",
       "                        <td id=\"T_89e40dec_3c91_11eb_bc3b_525400c1b1ebrow4_col11\" class=\"data row4 col11\" >0.416400</td>\n",
       "                        <td id=\"T_89e40dec_3c91_11eb_bc3b_525400c1b1ebrow4_col12\" class=\"data row4 col12\" >0.068527</td>\n",
       "                        <td id=\"T_89e40dec_3c91_11eb_bc3b_525400c1b1ebrow4_col13\" class=\"data row4 col13\" >0.272218</td>\n",
       "                        <td id=\"T_89e40dec_3c91_11eb_bc3b_525400c1b1ebrow4_col14\" class=\"data row4 col14\" >0.001206</td>\n",
       "                        <td id=\"T_89e40dec_3c91_11eb_bc3b_525400c1b1ebrow4_col15\" class=\"data row4 col15\" >0.357245</td>\n",
       "                        <td id=\"T_89e40dec_3c91_11eb_bc3b_525400c1b1ebrow4_col16\" class=\"data row4 col16\" >0.295562</td>\n",
       "            </tr>\n",
       "            <tr>\n",
       "                        <th id=\"T_89e40dec_3c91_11eb_bc3b_525400c1b1eblevel0_row5\" class=\"row_heading level0 row5\" >School_closing</th>\n",
       "                        <td id=\"T_89e40dec_3c91_11eb_bc3b_525400c1b1ebrow5_col0\" class=\"data row5 col0\" >-0.087207</td>\n",
       "                        <td id=\"T_89e40dec_3c91_11eb_bc3b_525400c1b1ebrow5_col1\" class=\"data row5 col1\" >0.260896</td>\n",
       "                        <td id=\"T_89e40dec_3c91_11eb_bc3b_525400c1b1ebrow5_col2\" class=\"data row5 col2\" >-0.067078</td>\n",
       "                        <td id=\"T_89e40dec_3c91_11eb_bc3b_525400c1b1ebrow5_col3\" class=\"data row5 col3\" >-0.357202</td>\n",
       "                        <td id=\"T_89e40dec_3c91_11eb_bc3b_525400c1b1ebrow5_col4\" class=\"data row5 col4\" >0.171178</td>\n",
       "                        <td id=\"T_89e40dec_3c91_11eb_bc3b_525400c1b1ebrow5_col5\" class=\"data row5 col5\" >1.000000</td>\n",
       "                        <td id=\"T_89e40dec_3c91_11eb_bc3b_525400c1b1ebrow5_col6\" class=\"data row5 col6\" >0.694419</td>\n",
       "                        <td id=\"T_89e40dec_3c91_11eb_bc3b_525400c1b1ebrow5_col7\" class=\"data row5 col7\" >0.093039</td>\n",
       "                        <td id=\"T_89e40dec_3c91_11eb_bc3b_525400c1b1ebrow5_col8\" class=\"data row5 col8\" >0.426028</td>\n",
       "                        <td id=\"T_89e40dec_3c91_11eb_bc3b_525400c1b1ebrow5_col9\" class=\"data row5 col9\" >0.050903</td>\n",
       "                        <td id=\"T_89e40dec_3c91_11eb_bc3b_525400c1b1ebrow5_col10\" class=\"data row5 col10\" >0.499527</td>\n",
       "                        <td id=\"T_89e40dec_3c91_11eb_bc3b_525400c1b1ebrow5_col11\" class=\"data row5 col11\" >0.144677</td>\n",
       "                        <td id=\"T_89e40dec_3c91_11eb_bc3b_525400c1b1ebrow5_col12\" class=\"data row5 col12\" >0.220664</td>\n",
       "                        <td id=\"T_89e40dec_3c91_11eb_bc3b_525400c1b1ebrow5_col13\" class=\"data row5 col13\" >0.351172</td>\n",
       "                        <td id=\"T_89e40dec_3c91_11eb_bc3b_525400c1b1ebrow5_col14\" class=\"data row5 col14\" >0.067185</td>\n",
       "                        <td id=\"T_89e40dec_3c91_11eb_bc3b_525400c1b1ebrow5_col15\" class=\"data row5 col15\" >-0.088434</td>\n",
       "                        <td id=\"T_89e40dec_3c91_11eb_bc3b_525400c1b1ebrow5_col16\" class=\"data row5 col16\" >0.751670</td>\n",
       "            </tr>\n",
       "            <tr>\n",
       "                        <th id=\"T_89e40dec_3c91_11eb_bc3b_525400c1b1eblevel0_row6\" class=\"row_heading level0 row6\" >Workplace_closing</th>\n",
       "                        <td id=\"T_89e40dec_3c91_11eb_bc3b_525400c1b1ebrow6_col0\" class=\"data row6 col0\" >-0.171203</td>\n",
       "                        <td id=\"T_89e40dec_3c91_11eb_bc3b_525400c1b1ebrow6_col1\" class=\"data row6 col1\" >0.227770</td>\n",
       "                        <td id=\"T_89e40dec_3c91_11eb_bc3b_525400c1b1ebrow6_col2\" class=\"data row6 col2\" >0.029483</td>\n",
       "                        <td id=\"T_89e40dec_3c91_11eb_bc3b_525400c1b1ebrow6_col3\" class=\"data row6 col3\" >-0.407383</td>\n",
       "                        <td id=\"T_89e40dec_3c91_11eb_bc3b_525400c1b1ebrow6_col4\" class=\"data row6 col4\" >0.287508</td>\n",
       "                        <td id=\"T_89e40dec_3c91_11eb_bc3b_525400c1b1ebrow6_col5\" class=\"data row6 col5\" >0.694419</td>\n",
       "                        <td id=\"T_89e40dec_3c91_11eb_bc3b_525400c1b1ebrow6_col6\" class=\"data row6 col6\" >1.000000</td>\n",
       "                        <td id=\"T_89e40dec_3c91_11eb_bc3b_525400c1b1ebrow6_col7\" class=\"data row6 col7\" >0.438969</td>\n",
       "                        <td id=\"T_89e40dec_3c91_11eb_bc3b_525400c1b1ebrow6_col8\" class=\"data row6 col8\" >0.579074</td>\n",
       "                        <td id=\"T_89e40dec_3c91_11eb_bc3b_525400c1b1ebrow6_col9\" class=\"data row6 col9\" >0.281515</td>\n",
       "                        <td id=\"T_89e40dec_3c91_11eb_bc3b_525400c1b1ebrow6_col10\" class=\"data row6 col10\" >0.717641</td>\n",
       "                        <td id=\"T_89e40dec_3c91_11eb_bc3b_525400c1b1ebrow6_col11\" class=\"data row6 col11\" >0.315028</td>\n",
       "                        <td id=\"T_89e40dec_3c91_11eb_bc3b_525400c1b1ebrow6_col12\" class=\"data row6 col12\" >0.295955</td>\n",
       "                        <td id=\"T_89e40dec_3c91_11eb_bc3b_525400c1b1ebrow6_col13\" class=\"data row6 col13\" >0.455262</td>\n",
       "                        <td id=\"T_89e40dec_3c91_11eb_bc3b_525400c1b1ebrow6_col14\" class=\"data row6 col14\" >-0.024926</td>\n",
       "                        <td id=\"T_89e40dec_3c91_11eb_bc3b_525400c1b1ebrow6_col15\" class=\"data row6 col15\" >-0.158003</td>\n",
       "                        <td id=\"T_89e40dec_3c91_11eb_bc3b_525400c1b1ebrow6_col16\" class=\"data row6 col16\" >0.847844</td>\n",
       "            </tr>\n",
       "            <tr>\n",
       "                        <th id=\"T_89e40dec_3c91_11eb_bc3b_525400c1b1eblevel0_row7\" class=\"row_heading level0 row7\" >Cancel_events</th>\n",
       "                        <td id=\"T_89e40dec_3c91_11eb_bc3b_525400c1b1ebrow7_col0\" class=\"data row7 col0\" >-0.176424</td>\n",
       "                        <td id=\"T_89e40dec_3c91_11eb_bc3b_525400c1b1ebrow7_col1\" class=\"data row7 col1\" >0.185134</td>\n",
       "                        <td id=\"T_89e40dec_3c91_11eb_bc3b_525400c1b1ebrow7_col2\" class=\"data row7 col2\" >0.128476</td>\n",
       "                        <td id=\"T_89e40dec_3c91_11eb_bc3b_525400c1b1ebrow7_col3\" class=\"data row7 col3\" >-0.167901</td>\n",
       "                        <td id=\"T_89e40dec_3c91_11eb_bc3b_525400c1b1ebrow7_col4\" class=\"data row7 col4\" >0.381341</td>\n",
       "                        <td id=\"T_89e40dec_3c91_11eb_bc3b_525400c1b1ebrow7_col5\" class=\"data row7 col5\" >0.093039</td>\n",
       "                        <td id=\"T_89e40dec_3c91_11eb_bc3b_525400c1b1ebrow7_col6\" class=\"data row7 col6\" >0.438969</td>\n",
       "                        <td id=\"T_89e40dec_3c91_11eb_bc3b_525400c1b1ebrow7_col7\" class=\"data row7 col7\" >1.000000</td>\n",
       "                        <td id=\"T_89e40dec_3c91_11eb_bc3b_525400c1b1ebrow7_col8\" class=\"data row7 col8\" >0.547981</td>\n",
       "                        <td id=\"T_89e40dec_3c91_11eb_bc3b_525400c1b1ebrow7_col9\" class=\"data row7 col9\" >0.732529</td>\n",
       "                        <td id=\"T_89e40dec_3c91_11eb_bc3b_525400c1b1ebrow7_col10\" class=\"data row7 col10\" >0.491465</td>\n",
       "                        <td id=\"T_89e40dec_3c91_11eb_bc3b_525400c1b1ebrow7_col11\" class=\"data row7 col11\" >0.707666</td>\n",
       "                        <td id=\"T_89e40dec_3c91_11eb_bc3b_525400c1b1ebrow7_col12\" class=\"data row7 col12\" >-0.038932</td>\n",
       "                        <td id=\"T_89e40dec_3c91_11eb_bc3b_525400c1b1ebrow7_col13\" class=\"data row7 col13\" >0.345869</td>\n",
       "                        <td id=\"T_89e40dec_3c91_11eb_bc3b_525400c1b1ebrow7_col14\" class=\"data row7 col14\" >-0.211058</td>\n",
       "                        <td id=\"T_89e40dec_3c91_11eb_bc3b_525400c1b1ebrow7_col15\" class=\"data row7 col15\" >-0.031309</td>\n",
       "                        <td id=\"T_89e40dec_3c91_11eb_bc3b_525400c1b1ebrow7_col16\" class=\"data row7 col16\" >0.518852</td>\n",
       "            </tr>\n",
       "            <tr>\n",
       "                        <th id=\"T_89e40dec_3c91_11eb_bc3b_525400c1b1eblevel0_row8\" class=\"row_heading level0 row8\" >Gatherings_restrictions</th>\n",
       "                        <td id=\"T_89e40dec_3c91_11eb_bc3b_525400c1b1ebrow8_col0\" class=\"data row8 col0\" >-0.320134</td>\n",
       "                        <td id=\"T_89e40dec_3c91_11eb_bc3b_525400c1b1ebrow8_col1\" class=\"data row8 col1\" >0.157063</td>\n",
       "                        <td id=\"T_89e40dec_3c91_11eb_bc3b_525400c1b1ebrow8_col2\" class=\"data row8 col2\" >-0.169600</td>\n",
       "                        <td id=\"T_89e40dec_3c91_11eb_bc3b_525400c1b1ebrow8_col3\" class=\"data row8 col3\" >-0.478446</td>\n",
       "                        <td id=\"T_89e40dec_3c91_11eb_bc3b_525400c1b1ebrow8_col4\" class=\"data row8 col4\" >0.467533</td>\n",
       "                        <td id=\"T_89e40dec_3c91_11eb_bc3b_525400c1b1ebrow8_col5\" class=\"data row8 col5\" >0.426028</td>\n",
       "                        <td id=\"T_89e40dec_3c91_11eb_bc3b_525400c1b1ebrow8_col6\" class=\"data row8 col6\" >0.579074</td>\n",
       "                        <td id=\"T_89e40dec_3c91_11eb_bc3b_525400c1b1ebrow8_col7\" class=\"data row8 col7\" >0.547981</td>\n",
       "                        <td id=\"T_89e40dec_3c91_11eb_bc3b_525400c1b1ebrow8_col8\" class=\"data row8 col8\" >1.000000</td>\n",
       "                        <td id=\"T_89e40dec_3c91_11eb_bc3b_525400c1b1ebrow8_col9\" class=\"data row8 col9\" >0.568360</td>\n",
       "                        <td id=\"T_89e40dec_3c91_11eb_bc3b_525400c1b1ebrow8_col10\" class=\"data row8 col10\" >0.563015</td>\n",
       "                        <td id=\"T_89e40dec_3c91_11eb_bc3b_525400c1b1ebrow8_col11\" class=\"data row8 col11\" >0.654011</td>\n",
       "                        <td id=\"T_89e40dec_3c91_11eb_bc3b_525400c1b1ebrow8_col12\" class=\"data row8 col12\" >0.397646</td>\n",
       "                        <td id=\"T_89e40dec_3c91_11eb_bc3b_525400c1b1ebrow8_col13\" class=\"data row8 col13\" >0.572775</td>\n",
       "                        <td id=\"T_89e40dec_3c91_11eb_bc3b_525400c1b1ebrow8_col14\" class=\"data row8 col14\" >0.295447</td>\n",
       "                        <td id=\"T_89e40dec_3c91_11eb_bc3b_525400c1b1ebrow8_col15\" class=\"data row8 col15\" >0.240105</td>\n",
       "                        <td id=\"T_89e40dec_3c91_11eb_bc3b_525400c1b1ebrow8_col16\" class=\"data row8 col16\" >0.739707</td>\n",
       "            </tr>\n",
       "            <tr>\n",
       "                        <th id=\"T_89e40dec_3c91_11eb_bc3b_525400c1b1eblevel0_row9\" class=\"row_heading level0 row9\" >Transport_closing</th>\n",
       "                        <td id=\"T_89e40dec_3c91_11eb_bc3b_525400c1b1ebrow9_col0\" class=\"data row9 col0\" >-0.177978</td>\n",
       "                        <td id=\"T_89e40dec_3c91_11eb_bc3b_525400c1b1ebrow9_col1\" class=\"data row9 col1\" >0.111777</td>\n",
       "                        <td id=\"T_89e40dec_3c91_11eb_bc3b_525400c1b1ebrow9_col2\" class=\"data row9 col2\" >0.092057</td>\n",
       "                        <td id=\"T_89e40dec_3c91_11eb_bc3b_525400c1b1ebrow9_col3\" class=\"data row9 col3\" >-0.194924</td>\n",
       "                        <td id=\"T_89e40dec_3c91_11eb_bc3b_525400c1b1ebrow9_col4\" class=\"data row9 col4\" >0.338371</td>\n",
       "                        <td id=\"T_89e40dec_3c91_11eb_bc3b_525400c1b1ebrow9_col5\" class=\"data row9 col5\" >0.050903</td>\n",
       "                        <td id=\"T_89e40dec_3c91_11eb_bc3b_525400c1b1ebrow9_col6\" class=\"data row9 col6\" >0.281515</td>\n",
       "                        <td id=\"T_89e40dec_3c91_11eb_bc3b_525400c1b1ebrow9_col7\" class=\"data row9 col7\" >0.732529</td>\n",
       "                        <td id=\"T_89e40dec_3c91_11eb_bc3b_525400c1b1ebrow9_col8\" class=\"data row9 col8\" >0.568360</td>\n",
       "                        <td id=\"T_89e40dec_3c91_11eb_bc3b_525400c1b1ebrow9_col9\" class=\"data row9 col9\" >1.000000</td>\n",
       "                        <td id=\"T_89e40dec_3c91_11eb_bc3b_525400c1b1ebrow9_col10\" class=\"data row9 col10\" >0.374093</td>\n",
       "                        <td id=\"T_89e40dec_3c91_11eb_bc3b_525400c1b1ebrow9_col11\" class=\"data row9 col11\" >0.684281</td>\n",
       "                        <td id=\"T_89e40dec_3c91_11eb_bc3b_525400c1b1ebrow9_col12\" class=\"data row9 col12\" >-0.025652</td>\n",
       "                        <td id=\"T_89e40dec_3c91_11eb_bc3b_525400c1b1ebrow9_col13\" class=\"data row9 col13\" >0.295753</td>\n",
       "                        <td id=\"T_89e40dec_3c91_11eb_bc3b_525400c1b1ebrow9_col14\" class=\"data row9 col14\" >-0.086370</td>\n",
       "                        <td id=\"T_89e40dec_3c91_11eb_bc3b_525400c1b1ebrow9_col15\" class=\"data row9 col15\" >0.026676</td>\n",
       "                        <td id=\"T_89e40dec_3c91_11eb_bc3b_525400c1b1ebrow9_col16\" class=\"data row9 col16\" >0.403188</td>\n",
       "            </tr>\n",
       "            <tr>\n",
       "                        <th id=\"T_89e40dec_3c91_11eb_bc3b_525400c1b1eblevel0_row10\" class=\"row_heading level0 row10\" >Stay_home_restrictions</th>\n",
       "                        <td id=\"T_89e40dec_3c91_11eb_bc3b_525400c1b1ebrow10_col0\" class=\"data row10 col0\" >-0.133702</td>\n",
       "                        <td id=\"T_89e40dec_3c91_11eb_bc3b_525400c1b1ebrow10_col1\" class=\"data row10 col1\" >0.218273</td>\n",
       "                        <td id=\"T_89e40dec_3c91_11eb_bc3b_525400c1b1ebrow10_col2\" class=\"data row10 col2\" >-0.060043</td>\n",
       "                        <td id=\"T_89e40dec_3c91_11eb_bc3b_525400c1b1ebrow10_col3\" class=\"data row10 col3\" >-0.291483</td>\n",
       "                        <td id=\"T_89e40dec_3c91_11eb_bc3b_525400c1b1ebrow10_col4\" class=\"data row10 col4\" >0.246777</td>\n",
       "                        <td id=\"T_89e40dec_3c91_11eb_bc3b_525400c1b1ebrow10_col5\" class=\"data row10 col5\" >0.499527</td>\n",
       "                        <td id=\"T_89e40dec_3c91_11eb_bc3b_525400c1b1ebrow10_col6\" class=\"data row10 col6\" >0.717641</td>\n",
       "                        <td id=\"T_89e40dec_3c91_11eb_bc3b_525400c1b1ebrow10_col7\" class=\"data row10 col7\" >0.491465</td>\n",
       "                        <td id=\"T_89e40dec_3c91_11eb_bc3b_525400c1b1ebrow10_col8\" class=\"data row10 col8\" >0.563015</td>\n",
       "                        <td id=\"T_89e40dec_3c91_11eb_bc3b_525400c1b1ebrow10_col9\" class=\"data row10 col9\" >0.374093</td>\n",
       "                        <td id=\"T_89e40dec_3c91_11eb_bc3b_525400c1b1ebrow10_col10\" class=\"data row10 col10\" >1.000000</td>\n",
       "                        <td id=\"T_89e40dec_3c91_11eb_bc3b_525400c1b1ebrow10_col11\" class=\"data row10 col11\" >0.505327</td>\n",
       "                        <td id=\"T_89e40dec_3c91_11eb_bc3b_525400c1b1ebrow10_col12\" class=\"data row10 col12\" >0.277541</td>\n",
       "                        <td id=\"T_89e40dec_3c91_11eb_bc3b_525400c1b1ebrow10_col13\" class=\"data row10 col13\" >0.380278</td>\n",
       "                        <td id=\"T_89e40dec_3c91_11eb_bc3b_525400c1b1ebrow10_col14\" class=\"data row10 col14\" >-0.030386</td>\n",
       "                        <td id=\"T_89e40dec_3c91_11eb_bc3b_525400c1b1ebrow10_col15\" class=\"data row10 col15\" >-0.129664</td>\n",
       "                        <td id=\"T_89e40dec_3c91_11eb_bc3b_525400c1b1ebrow10_col16\" class=\"data row10 col16\" >0.740106</td>\n",
       "            </tr>\n",
       "            <tr>\n",
       "                        <th id=\"T_89e40dec_3c91_11eb_bc3b_525400c1b1eblevel0_row11\" class=\"row_heading level0 row11\" >Internal_movement_restrictions</th>\n",
       "                        <td id=\"T_89e40dec_3c91_11eb_bc3b_525400c1b1ebrow11_col0\" class=\"data row11 col0\" >-0.213893</td>\n",
       "                        <td id=\"T_89e40dec_3c91_11eb_bc3b_525400c1b1ebrow11_col1\" class=\"data row11 col1\" >0.227042</td>\n",
       "                        <td id=\"T_89e40dec_3c91_11eb_bc3b_525400c1b1ebrow11_col2\" class=\"data row11 col2\" >-0.044344</td>\n",
       "                        <td id=\"T_89e40dec_3c91_11eb_bc3b_525400c1b1ebrow11_col3\" class=\"data row11 col3\" >-0.077475</td>\n",
       "                        <td id=\"T_89e40dec_3c91_11eb_bc3b_525400c1b1ebrow11_col4\" class=\"data row11 col4\" >0.416400</td>\n",
       "                        <td id=\"T_89e40dec_3c91_11eb_bc3b_525400c1b1ebrow11_col5\" class=\"data row11 col5\" >0.144677</td>\n",
       "                        <td id=\"T_89e40dec_3c91_11eb_bc3b_525400c1b1ebrow11_col6\" class=\"data row11 col6\" >0.315028</td>\n",
       "                        <td id=\"T_89e40dec_3c91_11eb_bc3b_525400c1b1ebrow11_col7\" class=\"data row11 col7\" >0.707666</td>\n",
       "                        <td id=\"T_89e40dec_3c91_11eb_bc3b_525400c1b1ebrow11_col8\" class=\"data row11 col8\" >0.654011</td>\n",
       "                        <td id=\"T_89e40dec_3c91_11eb_bc3b_525400c1b1ebrow11_col9\" class=\"data row11 col9\" >0.684281</td>\n",
       "                        <td id=\"T_89e40dec_3c91_11eb_bc3b_525400c1b1ebrow11_col10\" class=\"data row11 col10\" >0.505327</td>\n",
       "                        <td id=\"T_89e40dec_3c91_11eb_bc3b_525400c1b1ebrow11_col11\" class=\"data row11 col11\" >1.000000</td>\n",
       "                        <td id=\"T_89e40dec_3c91_11eb_bc3b_525400c1b1ebrow11_col12\" class=\"data row11 col12\" >-0.035085</td>\n",
       "                        <td id=\"T_89e40dec_3c91_11eb_bc3b_525400c1b1ebrow11_col13\" class=\"data row11 col13\" >0.291145</td>\n",
       "                        <td id=\"T_89e40dec_3c91_11eb_bc3b_525400c1b1ebrow11_col14\" class=\"data row11 col14\" >-0.133881</td>\n",
       "                        <td id=\"T_89e40dec_3c91_11eb_bc3b_525400c1b1ebrow11_col15\" class=\"data row11 col15\" >0.078802</td>\n",
       "                        <td id=\"T_89e40dec_3c91_11eb_bc3b_525400c1b1ebrow11_col16\" class=\"data row11 col16\" >0.463957</td>\n",
       "            </tr>\n",
       "            <tr>\n",
       "                        <th id=\"T_89e40dec_3c91_11eb_bc3b_525400c1b1eblevel0_row12\" class=\"row_heading level0 row12\" >International_movement_restrictions</th>\n",
       "                        <td id=\"T_89e40dec_3c91_11eb_bc3b_525400c1b1ebrow12_col0\" class=\"data row12 col0\" >-0.161079</td>\n",
       "                        <td id=\"T_89e40dec_3c91_11eb_bc3b_525400c1b1ebrow12_col1\" class=\"data row12 col1\" >0.162360</td>\n",
       "                        <td id=\"T_89e40dec_3c91_11eb_bc3b_525400c1b1ebrow12_col2\" class=\"data row12 col2\" >-0.040380</td>\n",
       "                        <td id=\"T_89e40dec_3c91_11eb_bc3b_525400c1b1ebrow12_col3\" class=\"data row12 col3\" >-0.569691</td>\n",
       "                        <td id=\"T_89e40dec_3c91_11eb_bc3b_525400c1b1ebrow12_col4\" class=\"data row12 col4\" >0.068527</td>\n",
       "                        <td id=\"T_89e40dec_3c91_11eb_bc3b_525400c1b1ebrow12_col5\" class=\"data row12 col5\" >0.220664</td>\n",
       "                        <td id=\"T_89e40dec_3c91_11eb_bc3b_525400c1b1ebrow12_col6\" class=\"data row12 col6\" >0.295955</td>\n",
       "                        <td id=\"T_89e40dec_3c91_11eb_bc3b_525400c1b1ebrow12_col7\" class=\"data row12 col7\" >-0.038932</td>\n",
       "                        <td id=\"T_89e40dec_3c91_11eb_bc3b_525400c1b1ebrow12_col8\" class=\"data row12 col8\" >0.397646</td>\n",
       "                        <td id=\"T_89e40dec_3c91_11eb_bc3b_525400c1b1ebrow12_col9\" class=\"data row12 col9\" >-0.025652</td>\n",
       "                        <td id=\"T_89e40dec_3c91_11eb_bc3b_525400c1b1ebrow12_col10\" class=\"data row12 col10\" >0.277541</td>\n",
       "                        <td id=\"T_89e40dec_3c91_11eb_bc3b_525400c1b1ebrow12_col11\" class=\"data row12 col11\" >-0.035085</td>\n",
       "                        <td id=\"T_89e40dec_3c91_11eb_bc3b_525400c1b1ebrow12_col12\" class=\"data row12 col12\" >1.000000</td>\n",
       "                        <td id=\"T_89e40dec_3c91_11eb_bc3b_525400c1b1ebrow12_col13\" class=\"data row12 col13\" >0.403160</td>\n",
       "                        <td id=\"T_89e40dec_3c91_11eb_bc3b_525400c1b1ebrow12_col14\" class=\"data row12 col14\" >0.570045</td>\n",
       "                        <td id=\"T_89e40dec_3c91_11eb_bc3b_525400c1b1ebrow12_col15\" class=\"data row12 col15\" >0.425509</td>\n",
       "                        <td id=\"T_89e40dec_3c91_11eb_bc3b_525400c1b1ebrow12_col16\" class=\"data row12 col16\" >0.393083</td>\n",
       "            </tr>\n",
       "            <tr>\n",
       "                        <th id=\"T_89e40dec_3c91_11eb_bc3b_525400c1b1eblevel0_row13\" class=\"row_heading level0 row13\" >Information_campaigns</th>\n",
       "                        <td id=\"T_89e40dec_3c91_11eb_bc3b_525400c1b1ebrow13_col0\" class=\"data row13 col0\" >-0.190303</td>\n",
       "                        <td id=\"T_89e40dec_3c91_11eb_bc3b_525400c1b1ebrow13_col1\" class=\"data row13 col1\" >0.099333</td>\n",
       "                        <td id=\"T_89e40dec_3c91_11eb_bc3b_525400c1b1ebrow13_col2\" class=\"data row13 col2\" >0.062970</td>\n",
       "                        <td id=\"T_89e40dec_3c91_11eb_bc3b_525400c1b1ebrow13_col3\" class=\"data row13 col3\" >-0.303738</td>\n",
       "                        <td id=\"T_89e40dec_3c91_11eb_bc3b_525400c1b1ebrow13_col4\" class=\"data row13 col4\" >0.272218</td>\n",
       "                        <td id=\"T_89e40dec_3c91_11eb_bc3b_525400c1b1ebrow13_col5\" class=\"data row13 col5\" >0.351172</td>\n",
       "                        <td id=\"T_89e40dec_3c91_11eb_bc3b_525400c1b1ebrow13_col6\" class=\"data row13 col6\" >0.455262</td>\n",
       "                        <td id=\"T_89e40dec_3c91_11eb_bc3b_525400c1b1ebrow13_col7\" class=\"data row13 col7\" >0.345869</td>\n",
       "                        <td id=\"T_89e40dec_3c91_11eb_bc3b_525400c1b1ebrow13_col8\" class=\"data row13 col8\" >0.572775</td>\n",
       "                        <td id=\"T_89e40dec_3c91_11eb_bc3b_525400c1b1ebrow13_col9\" class=\"data row13 col9\" >0.295753</td>\n",
       "                        <td id=\"T_89e40dec_3c91_11eb_bc3b_525400c1b1ebrow13_col10\" class=\"data row13 col10\" >0.380278</td>\n",
       "                        <td id=\"T_89e40dec_3c91_11eb_bc3b_525400c1b1ebrow13_col11\" class=\"data row13 col11\" >0.291145</td>\n",
       "                        <td id=\"T_89e40dec_3c91_11eb_bc3b_525400c1b1ebrow13_col12\" class=\"data row13 col12\" >0.403160</td>\n",
       "                        <td id=\"T_89e40dec_3c91_11eb_bc3b_525400c1b1ebrow13_col13\" class=\"data row13 col13\" >1.000000</td>\n",
       "                        <td id=\"T_89e40dec_3c91_11eb_bc3b_525400c1b1ebrow13_col14\" class=\"data row13 col14\" >0.442815</td>\n",
       "                        <td id=\"T_89e40dec_3c91_11eb_bc3b_525400c1b1ebrow13_col15\" class=\"data row13 col15\" >0.376740</td>\n",
       "                        <td id=\"T_89e40dec_3c91_11eb_bc3b_525400c1b1ebrow13_col16\" class=\"data row13 col16\" >0.606426</td>\n",
       "            </tr>\n",
       "            <tr>\n",
       "                        <th id=\"T_89e40dec_3c91_11eb_bc3b_525400c1b1eblevel0_row14\" class=\"row_heading level0 row14\" >Testing_policy</th>\n",
       "                        <td id=\"T_89e40dec_3c91_11eb_bc3b_525400c1b1ebrow14_col0\" class=\"data row14 col0\" >-0.194983</td>\n",
       "                        <td id=\"T_89e40dec_3c91_11eb_bc3b_525400c1b1ebrow14_col1\" class=\"data row14 col1\" >-0.211347</td>\n",
       "                        <td id=\"T_89e40dec_3c91_11eb_bc3b_525400c1b1ebrow14_col2\" class=\"data row14 col2\" >-0.131985</td>\n",
       "                        <td id=\"T_89e40dec_3c91_11eb_bc3b_525400c1b1ebrow14_col3\" class=\"data row14 col3\" >-0.531034</td>\n",
       "                        <td id=\"T_89e40dec_3c91_11eb_bc3b_525400c1b1ebrow14_col4\" class=\"data row14 col4\" >0.001206</td>\n",
       "                        <td id=\"T_89e40dec_3c91_11eb_bc3b_525400c1b1ebrow14_col5\" class=\"data row14 col5\" >0.067185</td>\n",
       "                        <td id=\"T_89e40dec_3c91_11eb_bc3b_525400c1b1ebrow14_col6\" class=\"data row14 col6\" >-0.024926</td>\n",
       "                        <td id=\"T_89e40dec_3c91_11eb_bc3b_525400c1b1ebrow14_col7\" class=\"data row14 col7\" >-0.211058</td>\n",
       "                        <td id=\"T_89e40dec_3c91_11eb_bc3b_525400c1b1ebrow14_col8\" class=\"data row14 col8\" >0.295447</td>\n",
       "                        <td id=\"T_89e40dec_3c91_11eb_bc3b_525400c1b1ebrow14_col9\" class=\"data row14 col9\" >-0.086370</td>\n",
       "                        <td id=\"T_89e40dec_3c91_11eb_bc3b_525400c1b1ebrow14_col10\" class=\"data row14 col10\" >-0.030386</td>\n",
       "                        <td id=\"T_89e40dec_3c91_11eb_bc3b_525400c1b1ebrow14_col11\" class=\"data row14 col11\" >-0.133881</td>\n",
       "                        <td id=\"T_89e40dec_3c91_11eb_bc3b_525400c1b1ebrow14_col12\" class=\"data row14 col12\" >0.570045</td>\n",
       "                        <td id=\"T_89e40dec_3c91_11eb_bc3b_525400c1b1ebrow14_col13\" class=\"data row14 col13\" >0.442815</td>\n",
       "                        <td id=\"T_89e40dec_3c91_11eb_bc3b_525400c1b1ebrow14_col14\" class=\"data row14 col14\" >1.000000</td>\n",
       "                        <td id=\"T_89e40dec_3c91_11eb_bc3b_525400c1b1ebrow14_col15\" class=\"data row14 col15\" >0.482454</td>\n",
       "                        <td id=\"T_89e40dec_3c91_11eb_bc3b_525400c1b1ebrow14_col16\" class=\"data row14 col16\" >0.117067</td>\n",
       "            </tr>\n",
       "            <tr>\n",
       "                        <th id=\"T_89e40dec_3c91_11eb_bc3b_525400c1b1eblevel0_row15\" class=\"row_heading level0 row15\" >Contact_tracing</th>\n",
       "                        <td id=\"T_89e40dec_3c91_11eb_bc3b_525400c1b1ebrow15_col0\" class=\"data row15 col0\" >-0.180315</td>\n",
       "                        <td id=\"T_89e40dec_3c91_11eb_bc3b_525400c1b1ebrow15_col1\" class=\"data row15 col1\" >-0.019803</td>\n",
       "                        <td id=\"T_89e40dec_3c91_11eb_bc3b_525400c1b1ebrow15_col2\" class=\"data row15 col2\" >0.094199</td>\n",
       "                        <td id=\"T_89e40dec_3c91_11eb_bc3b_525400c1b1ebrow15_col3\" class=\"data row15 col3\" >-0.138359</td>\n",
       "                        <td id=\"T_89e40dec_3c91_11eb_bc3b_525400c1b1ebrow15_col4\" class=\"data row15 col4\" >0.357245</td>\n",
       "                        <td id=\"T_89e40dec_3c91_11eb_bc3b_525400c1b1ebrow15_col5\" class=\"data row15 col5\" >-0.088434</td>\n",
       "                        <td id=\"T_89e40dec_3c91_11eb_bc3b_525400c1b1ebrow15_col6\" class=\"data row15 col6\" >-0.158003</td>\n",
       "                        <td id=\"T_89e40dec_3c91_11eb_bc3b_525400c1b1ebrow15_col7\" class=\"data row15 col7\" >-0.031309</td>\n",
       "                        <td id=\"T_89e40dec_3c91_11eb_bc3b_525400c1b1ebrow15_col8\" class=\"data row15 col8\" >0.240105</td>\n",
       "                        <td id=\"T_89e40dec_3c91_11eb_bc3b_525400c1b1ebrow15_col9\" class=\"data row15 col9\" >0.026676</td>\n",
       "                        <td id=\"T_89e40dec_3c91_11eb_bc3b_525400c1b1ebrow15_col10\" class=\"data row15 col10\" >-0.129664</td>\n",
       "                        <td id=\"T_89e40dec_3c91_11eb_bc3b_525400c1b1ebrow15_col11\" class=\"data row15 col11\" >0.078802</td>\n",
       "                        <td id=\"T_89e40dec_3c91_11eb_bc3b_525400c1b1ebrow15_col12\" class=\"data row15 col12\" >0.425509</td>\n",
       "                        <td id=\"T_89e40dec_3c91_11eb_bc3b_525400c1b1ebrow15_col13\" class=\"data row15 col13\" >0.376740</td>\n",
       "                        <td id=\"T_89e40dec_3c91_11eb_bc3b_525400c1b1ebrow15_col14\" class=\"data row15 col14\" >0.482454</td>\n",
       "                        <td id=\"T_89e40dec_3c91_11eb_bc3b_525400c1b1ebrow15_col15\" class=\"data row15 col15\" >1.000000</td>\n",
       "                        <td id=\"T_89e40dec_3c91_11eb_bc3b_525400c1b1ebrow15_col16\" class=\"data row15 col16\" >-0.066882</td>\n",
       "            </tr>\n",
       "            <tr>\n",
       "                        <th id=\"T_89e40dec_3c91_11eb_bc3b_525400c1b1eblevel0_row16\" class=\"row_heading level0 row16\" >Stringency_index</th>\n",
       "                        <td id=\"T_89e40dec_3c91_11eb_bc3b_525400c1b1ebrow16_col0\" class=\"data row16 col0\" >-0.195241</td>\n",
       "                        <td id=\"T_89e40dec_3c91_11eb_bc3b_525400c1b1ebrow16_col1\" class=\"data row16 col1\" >0.315382</td>\n",
       "                        <td id=\"T_89e40dec_3c91_11eb_bc3b_525400c1b1ebrow16_col2\" class=\"data row16 col2\" >-0.097954</td>\n",
       "                        <td id=\"T_89e40dec_3c91_11eb_bc3b_525400c1b1ebrow16_col3\" class=\"data row16 col3\" >-0.466896</td>\n",
       "                        <td id=\"T_89e40dec_3c91_11eb_bc3b_525400c1b1ebrow16_col4\" class=\"data row16 col4\" >0.295562</td>\n",
       "                        <td id=\"T_89e40dec_3c91_11eb_bc3b_525400c1b1ebrow16_col5\" class=\"data row16 col5\" >0.751670</td>\n",
       "                        <td id=\"T_89e40dec_3c91_11eb_bc3b_525400c1b1ebrow16_col6\" class=\"data row16 col6\" >0.847844</td>\n",
       "                        <td id=\"T_89e40dec_3c91_11eb_bc3b_525400c1b1ebrow16_col7\" class=\"data row16 col7\" >0.518852</td>\n",
       "                        <td id=\"T_89e40dec_3c91_11eb_bc3b_525400c1b1ebrow16_col8\" class=\"data row16 col8\" >0.739707</td>\n",
       "                        <td id=\"T_89e40dec_3c91_11eb_bc3b_525400c1b1ebrow16_col9\" class=\"data row16 col9\" >0.403188</td>\n",
       "                        <td id=\"T_89e40dec_3c91_11eb_bc3b_525400c1b1ebrow16_col10\" class=\"data row16 col10\" >0.740106</td>\n",
       "                        <td id=\"T_89e40dec_3c91_11eb_bc3b_525400c1b1ebrow16_col11\" class=\"data row16 col11\" >0.463957</td>\n",
       "                        <td id=\"T_89e40dec_3c91_11eb_bc3b_525400c1b1ebrow16_col12\" class=\"data row16 col12\" >0.393083</td>\n",
       "                        <td id=\"T_89e40dec_3c91_11eb_bc3b_525400c1b1ebrow16_col13\" class=\"data row16 col13\" >0.606426</td>\n",
       "                        <td id=\"T_89e40dec_3c91_11eb_bc3b_525400c1b1ebrow16_col14\" class=\"data row16 col14\" >0.117067</td>\n",
       "                        <td id=\"T_89e40dec_3c91_11eb_bc3b_525400c1b1ebrow16_col15\" class=\"data row16 col15\" >-0.066882</td>\n",
       "                        <td id=\"T_89e40dec_3c91_11eb_bc3b_525400c1b1ebrow16_col16\" class=\"data row16 col16\" >1.000000</td>\n",
       "            </tr>\n",
       "    </tbody></table>"
      ],
      "text/plain": [
       "<pandas.io.formats.style.Styler at 0x7f4f26911490>"
      ]
     },
     "execution_count": 21,
     "metadata": {},
     "output_type": "execute_result"
    }
   ],
   "source": [
    "# Correlation\n",
    "df = track_df.copy()\n",
    "df.corr().style.background_gradient(axis=None)"
   ]
  },
  {
   "cell_type": "code",
   "execution_count": 22,
   "metadata": {
    "collapsed": false
   },
   "outputs": [
    {
     "data": {
      "image/png": "[encoded data removed]",
      "text/plain": [
       "<Figure size 432x288 with 1 Axes>"
      ]
     },
     "metadata": {},
     "output_type": "display_data"
    }
   ],
   "source": [
    "# Scatter plot of Stringency index and Rt\n",
    "df = track_df.copy()\n",
    "sns.scatterplot(data=df, x=\"Stringency_index\", y=\"Rt\", hue=\"Country\", legend=\"brief\", marker=\"+\")\n",
    "bbox_to_anchor=(1.02, 0)\n",
    "bbox_loc=\"lower left\"\n",
    "plt.legend(bbox_to_anchor=bbox_to_anchor, loc=bbox_loc, borderaxespad=0)\n",
    "plt.title(\"Relationship of Stringency index and reproduction number\")\n",
    "plt.ylabel(\"Reproduction number\")\n",
    "plt.xlabel(\"Stringency index\")\n",
    "plt.show()"
   ]
  }
 ],
 "metadata": {
  "kernelspec": {
   "display_name": "Python 3.8.2 64-bit ('.venv': venv)",
   "name": "python_defaultSpec_1597669925034"
  },
  "language_info": {
   "codemirror_mode": {
    "name": "ipython",
    "version": 3
   },
   "file_extension": ".py",
   "mimetype": "text/x-python",
   "name": "python",
   "nbconvert_exporter": "python",
   "pygments_lexer": "ipython3",
   "version": "3.8.2-final"
  }
 },
 "nbformat": 4,
 "nbformat_minor": 4
}
