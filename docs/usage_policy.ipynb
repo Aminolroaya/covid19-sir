{
 "cells": [
  {
   "cell_type": "markdown",
   "metadata": {},
   "source": [
    "# Usage (details: policy measures)\n",
    "Here, we will analyse the relationship of policy measures and parameter values of SIR-derived ODE models. Policy measures are tracked by [Oxford Covid-19 Government Response Tracker (OxCGRT)](https://github.com/OxCGRT/covid-policy-tracker)."
   ]
  },
  {
   "cell_type": "markdown",
   "metadata": {},
   "source": [
    "## Preparation"
   ]
  },
  {
   "cell_type": "code",
   "execution_count": 1,
   "metadata": {
    "collapsed": false
   },
   "outputs": [],
   "source": [
    "# Standard users\n",
    "# !pip install covsirphy\n",
    "# Developers (Note: this notebook is in example directory)\n",
    "import os\n",
    "os.chdir(\"../\")"
   ]
  },
  {
   "cell_type": "code",
   "execution_count": 2,
   "metadata": {
    "collapsed": false
   },
   "outputs": [],
   "source": [
    "from pprint import pprint"
   ]
  },
  {
   "cell_type": "code",
   "execution_count": 3,
   "metadata": {
    "collapsed": false
   },
   "outputs": [
    {
     "data": {
      "text/plain": [
       "'2.9.0'"
      ]
     },
     "execution_count": 3,
     "metadata": {},
     "output_type": "execute_result"
    }
   ],
   "source": [
    "import covsirphy as cs\n",
    "cs.__version__"
   ]
  },
  {
   "cell_type": "code",
   "execution_count": 4,
   "metadata": {
    "collapsed": false,
    "tags": []
   },
   "outputs": [
    {
     "name": "stdout",
     "output_type": "stream",
     "text": [
      "(Secondary source) Guidotti, E., Ardia, D., (2020), \"COVID-19 Data Hub\", Journal of Open Source Software 5(51):2376, doi: 10.21105/joss.02376.\n",
      "We can get Citation list of primary sources with DataLoader(...).covid19dh_citation\n"
     ]
    }
   ],
   "source": [
    "# Standard users and developers\n",
    "data_loader = cs.DataLoader(\"input\")\n",
    "# The number of cases (JHU style)\n",
    "jhu_data = data_loader.jhu(verbose=False)\n",
    "# Population in each country\n",
    "population_data = data_loader.population(verbose=False)\n",
    "# Government Response Tracker (OxCGRT)\n",
    "oxcgrt_data = data_loader.oxcgrt(verbose=False)\n",
    "# Description/citation\n",
    "print(oxcgrt_data.citation)"
   ]
  },
  {
   "cell_type": "markdown",
   "metadata": {},
   "source": [
    "## Class for policy measure analysis\n",
    "We will `PolicyMeasures` class to find relationship of policy measures and parameter values of SIR-derived ODE models."
   ]
  },
  {
   "cell_type": "code",
   "execution_count": 5,
   "metadata": {
    "collapsed": false,
    "tags": []
   },
   "outputs": [
    {
     "data": {
      "text/plain": [
       "185"
      ]
     },
     "execution_count": 5,
     "metadata": {},
     "output_type": "execute_result"
    }
   ],
   "source": [
    "# Create analyser with tau value 360 [min] (can be changed)\n",
    "analyser = cs.PolicyMeasures(jhu_data, population_data, oxcgrt_data, tau=360)\n",
    "# The number of registerd countries\n",
    "len(analyser.countries)"
   ]
  },
  {
   "cell_type": "code",
   "execution_count": 6,
   "metadata": {
    "collapsed": false
   },
   "outputs": [
    {
     "data": {
      "text/plain": [
       "covsirphy.analysis.scenario.Scenario"
      ]
     },
     "execution_count": 6,
     "metadata": {},
     "output_type": "execute_result"
    }
   ],
   "source": [
    "# We can get Scenario instance for detailed scenario analysis\n",
    "type(analyser.scenario(\"Japan\"))"
   ]
  },
  {
   "cell_type": "markdown",
   "metadata": {},
   "source": [
    "## Set phases with S-R trend analysis\n",
    "We will perform S-R trend analysis to set phases in all countries. Countries which do not have **12th phases** will be un-registered for the next analysis. This number will be adjusted for your analysis."
   ]
  },
  {
   "cell_type": "code",
   "execution_count": 7,
   "metadata": {
    "collapsed": false
   },
   "outputs": [
    {
     "name": "stdout",
     "output_type": "stream",
     "text": [
      "{4: ['Holy See', 'Fiji', 'Tanzania'],\n",
      " 5: ['Brunei', 'Myanmar', 'Grenada', 'Georgia', 'Slovakia', 'Tunisia',\n",
      "     'Hungary'],\n",
      " 6: ['Jordan', 'Ireland', 'Yemen', 'Liechtenstein', 'Andorra', 'Czech Republic',\n",
      "     'Slovenia', 'Papua New Guinea', 'Belize', 'Cambodia'],\n",
      " 7: ['Uganda', 'Burundi', 'Cyprus', 'Niger', 'Saint Vincent and the Grenadines',\n",
      "     'Malawi', 'Colombia', 'Zimbabwe', 'South Sudan', 'Dominica',\n",
      "     'Central African Republic', 'Antigua and Barbuda', 'Lesotho',\n",
      "     'Equatorial Guinea', 'Mongolia', 'Jamaica', 'Angola', 'Spain',\n",
      "     'Kazakhstan', 'Libya', 'Seychelles', 'Trinidad and Tobago', 'Gambia',\n",
      "     'Sao Tome and Principe', 'Lithuania', 'Montenegro'],\n",
      " 8: ['Vietnam', 'Monaco', 'Botswana', 'Djibouti', 'Croatia', 'Lebanon',\n",
      "     'Cameroon', 'Kyrgyzstan', 'Poland', 'Paraguay', 'Thailand', 'Nicaragua',\n",
      "     'Ukraine', 'Malta', 'Saint Lucia', 'Mauritius', 'San Marino', 'Guyana',\n",
      "     'Namibia', 'Austria', 'Guinea-Bissau', 'Iceland', 'Luxembourg', 'Zambia',\n",
      "     'Comoros', 'Israel', 'New Zealand', 'Netherlands', 'Madagascar', 'Rwanda',\n",
      "     'Denmark', 'Australia', 'Bahamas', 'Mozambique', 'Malaysia', 'Nepal',\n",
      "     'Morocco'],\n",
      " 9: ['Barbados', 'Gabon', 'Argentina', 'Mauritania', 'Maldives', 'Kenya',\n",
      "     'Ghana', 'Chad', 'Ethiopia', 'Tajikistan', 'Romania', 'Eritrea',\n",
      "     'Switzerland', 'Sudan', 'Bermuda', 'Qatar', 'China', 'South Africa',\n",
      "     'Suriname', 'Taiwan', 'Philippines', 'Portugal', 'Ecuador', 'Sri Lanka',\n",
      "     'Greece', 'Afghanistan', 'Benin', 'Burkina Faso', 'Serbia', 'Haiti'],\n",
      " 10: ['Bhutan', 'Guatemala', 'Chile', 'Estonia', 'Congo', 'Venezuela',\n",
      "      'El Salvador', 'Albania', 'Somalia', 'Finland', 'Sierra Leone', 'Oman',\n",
      "      'Japan', 'Syria', 'Senegal', 'Singapore', 'Uruguay', 'Indonesia',\n",
      "      'Swaziland', 'Moldova', 'Norway', 'Saudi Arabia', 'Korea, South', 'India',\n",
      "      'Palestine'],\n",
      " 11: ['Canada', 'Macedonia', 'Panama', 'Costa Rica', 'Bangladesh', 'Latvia',\n",
      "      'Cape Verde', 'Guinea', 'Bulgaria', 'Belarus', 'Kosovo', 'Azerbaijan',\n",
      "      'Germany', 'Liberia', 'Bosnia and Herzegovina', 'Pakistan', 'Cuba',\n",
      "      'Uzbekistan', 'Belgium', 'Honduras', 'Togo'],\n",
      " 12: ['Mali', 'Kuwait', 'Algeria', 'Bolivia', 'Iran', 'Bahrain',\n",
      "      'Dominican Republic', 'Armenia', 'Iraq', 'Mexico', 'United States',\n",
      "      'Italy', 'Nigeria', 'United Arab Emirates', 'Turkey', 'Egypt', 'Brazil',\n",
      "      'France', 'Peru'],\n",
      " 13: ['Russia']}\n"
     ]
    }
   ],
   "source": [
    "# Show the number of phases of all countries\n",
    "analyser.trend()\n",
    "pprint(analyser.phase_len(), compact=True)"
   ]
  },
  {
   "cell_type": "code",
   "execution_count": 8,
   "metadata": {
    "collapsed": false
   },
   "outputs": [
    {
     "data": {
      "text/plain": [
       "20"
      ]
     },
     "execution_count": 8,
     "metadata": {},
     "output_type": "execute_result"
    }
   ],
   "source": [
    "# Set phases with S-R trend analysis\n",
    "analyser.trend(min_len=12)\n",
    "# The number of countries\n",
    "len(analyser.countries)"
   ]
  },
  {
   "cell_type": "code",
   "execution_count": 9,
   "metadata": {
    "collapsed": false,
    "tags": []
   },
   "outputs": [
    {
     "name": "stdout",
     "output_type": "stream",
     "text": [
      "{12: ['Mali', 'Kuwait', 'Algeria', 'Bolivia', 'Iran', 'Bahrain',\n",
      "      'Dominican Republic', 'Armenia', 'Iraq', 'Mexico', 'United States',\n",
      "      'Italy', 'Nigeria', 'United Arab Emirates', 'Turkey', 'Egypt', 'Brazil',\n",
      "      'France', 'Peru'],\n",
      " 13: ['Russia']}\n"
     ]
    }
   ],
   "source": [
    "phase_len_dict = analyser.phase_len()\n",
    "pprint(phase_len_dict, compact=True)"
   ]
  },
  {
   "cell_type": "code",
   "execution_count": 10,
   "metadata": {
    "collapsed": false,
    "tags": []
   },
   "outputs": [
    {
     "data": {
      "text/html": [
       "<div>\n",
       "<style scoped>\n",
       "    .dataframe tbody tr th:only-of-type {\n",
       "        vertical-align: middle;\n",
       "    }\n",
       "\n",
       "    .dataframe tbody tr th {\n",
       "        vertical-align: top;\n",
       "    }\n",
       "\n",
       "    .dataframe thead th {\n",
       "        text-align: right;\n",
       "    }\n",
       "</style>\n",
       "<table border=\"1\" class=\"dataframe\">\n",
       "  <thead>\n",
       "    <tr style=\"text-align: right;\">\n",
       "      <th></th>\n",
       "      <th></th>\n",
       "      <th>Type</th>\n",
       "      <th>Start</th>\n",
       "      <th>End</th>\n",
       "      <th>Population</th>\n",
       "    </tr>\n",
       "    <tr>\n",
       "      <th>Country</th>\n",
       "      <th>Phase</th>\n",
       "      <th></th>\n",
       "      <th></th>\n",
       "      <th></th>\n",
       "      <th></th>\n",
       "    </tr>\n",
       "  </thead>\n",
       "  <tbody>\n",
       "    <tr>\n",
       "      <th rowspan=\"13\" valign=\"top\">Russia</th>\n",
       "      <th>0th</th>\n",
       "      <td>Past</td>\n",
       "      <td>12Feb2020</td>\n",
       "      <td>07May2020</td>\n",
       "      <td>330457362</td>\n",
       "    </tr>\n",
       "    <tr>\n",
       "      <th>1st</th>\n",
       "      <td>Past</td>\n",
       "      <td>08May2020</td>\n",
       "      <td>19May2020</td>\n",
       "      <td>330457362</td>\n",
       "    </tr>\n",
       "    <tr>\n",
       "      <th>2nd</th>\n",
       "      <td>Past</td>\n",
       "      <td>20May2020</td>\n",
       "      <td>30May2020</td>\n",
       "      <td>330457362</td>\n",
       "    </tr>\n",
       "    <tr>\n",
       "      <th>3rd</th>\n",
       "      <td>Past</td>\n",
       "      <td>31May2020</td>\n",
       "      <td>12Jun2020</td>\n",
       "      <td>330457362</td>\n",
       "    </tr>\n",
       "    <tr>\n",
       "      <th>4th</th>\n",
       "      <td>Past</td>\n",
       "      <td>13Jun2020</td>\n",
       "      <td>26Jun2020</td>\n",
       "      <td>330457362</td>\n",
       "    </tr>\n",
       "    <tr>\n",
       "      <th>5th</th>\n",
       "      <td>Past</td>\n",
       "      <td>27Jun2020</td>\n",
       "      <td>10Jul2020</td>\n",
       "      <td>330457362</td>\n",
       "    </tr>\n",
       "    <tr>\n",
       "      <th>6th</th>\n",
       "      <td>Past</td>\n",
       "      <td>11Jul2020</td>\n",
       "      <td>24Jul2020</td>\n",
       "      <td>330457362</td>\n",
       "    </tr>\n",
       "    <tr>\n",
       "      <th>7th</th>\n",
       "      <td>Past</td>\n",
       "      <td>25Jul2020</td>\n",
       "      <td>10Aug2020</td>\n",
       "      <td>330457362</td>\n",
       "    </tr>\n",
       "    <tr>\n",
       "      <th>8th</th>\n",
       "      <td>Past</td>\n",
       "      <td>11Aug2020</td>\n",
       "      <td>28Aug2020</td>\n",
       "      <td>330457362</td>\n",
       "    </tr>\n",
       "    <tr>\n",
       "      <th>9th</th>\n",
       "      <td>Past</td>\n",
       "      <td>29Aug2020</td>\n",
       "      <td>18Sep2020</td>\n",
       "      <td>330457362</td>\n",
       "    </tr>\n",
       "    <tr>\n",
       "      <th>10th</th>\n",
       "      <td>Past</td>\n",
       "      <td>19Sep2020</td>\n",
       "      <td>03Oct2020</td>\n",
       "      <td>330457362</td>\n",
       "    </tr>\n",
       "    <tr>\n",
       "      <th>11th</th>\n",
       "      <td>Past</td>\n",
       "      <td>04Oct2020</td>\n",
       "      <td>14Oct2020</td>\n",
       "      <td>330457362</td>\n",
       "    </tr>\n",
       "    <tr>\n",
       "      <th>12th</th>\n",
       "      <td>Past</td>\n",
       "      <td>15Oct2020</td>\n",
       "      <td>23Oct2020</td>\n",
       "      <td>330457362</td>\n",
       "    </tr>\n",
       "  </tbody>\n",
       "</table>\n",
       "</div>"
      ],
      "text/plain": [
       "               Type      Start        End  Population\n",
       "Country Phase                                        \n",
       "Russia  0th    Past  12Feb2020  07May2020   330457362\n",
       "        1st    Past  08May2020  19May2020   330457362\n",
       "        2nd    Past  20May2020  30May2020   330457362\n",
       "        3rd    Past  31May2020  12Jun2020   330457362\n",
       "        4th    Past  13Jun2020  26Jun2020   330457362\n",
       "        5th    Past  27Jun2020  10Jul2020   330457362\n",
       "        6th    Past  11Jul2020  24Jul2020   330457362\n",
       "        7th    Past  25Jul2020  10Aug2020   330457362\n",
       "        8th    Past  11Aug2020  28Aug2020   330457362\n",
       "        9th    Past  29Aug2020  18Sep2020   330457362\n",
       "        10th   Past  19Sep2020  03Oct2020   330457362\n",
       "        11th   Past  04Oct2020  14Oct2020   330457362\n",
       "        12th   Past  15Oct2020  23Oct2020   330457362"
      ]
     },
     "execution_count": 10,
     "metadata": {},
     "output_type": "execute_result"
    }
   ],
   "source": [
    "# Here, only show the countries which have the most phases\n",
    "countries_show = max(phase_len_dict.items(), key=lambda x: x[0])[1]\n",
    "# Show summary\n",
    "analyser.summary(countries=countries_show)"
   ]
  },
  {
   "cell_type": "markdown",
   "metadata": {},
   "source": [
    "## Parameter estimation\n",
    "we will estimate the parameter values with SIR-derived ODE models in each country."
   ]
  },
  {
   "cell_type": "code",
   "execution_count": 11,
   "metadata": {
    "collapsed": false,
    "tags": []
   },
   "outputs": [
    {
     "name": "stdout",
     "output_type": "stream",
     "text": [
      "\n",
      "<SIR-F model: parameter estimation>\n",
      "Running optimization with 4 CPUs...\n"
     ]
    },
    {
     "name": "stdout",
     "output_type": "stream",
     "text": [
      "\tDZA,  6th phase (28Jul2020 - 04Aug2020): finished  178 trials in 0 min  5 sec"
     ]
    },
    {
     "name": "stdout",
     "output_type": "stream",
     "text": [
      "\n"
     ]
    },
    {
     "name": "stdout",
     "output_type": "stream",
     "text": [
      "\tBRA,  9th phase (31Aug2020 - 10Sep2020): finished  166 trials in 0 min  5 sec"
     ]
    },
    {
     "name": "stdout",
     "output_type": "stream",
     "text": [
      "\n"
     ]
    },
    {
     "name": "stdout",
     "output_type": "stream",
     "text": [
      "\tMLI,  7th phase (25Jun2020 - 02Jul2020): finished  807 trials in 0 min 30 sec"
     ]
    },
    {
     "name": "stdout",
     "output_type": "stream",
     "text": [
      "\n"
     ]
    },
    {
     "name": "stdout",
     "output_type": "stream",
     "text": [
      "\tFRA,  4th phase (26Apr2020 - 26May2020): finished 1352 trials in 1 min  0 sec"
     ]
    },
    {
     "name": "stdout",
     "output_type": "stream",
     "text": [
      "\n"
     ]
    },
    {
     "name": "stdout",
     "output_type": "stream",
     "text": [
      "\tBRA,  0th phase (16Mar2020 - 26May2020): finished 1341 trials in 1 min  0 sec"
     ]
    },
    {
     "name": "stdout",
     "output_type": "stream",
     "text": [
      "\n"
     ]
    },
    {
     "name": "stdout",
     "output_type": "stream",
     "text": [
      "\tPER,  3rd phase (19Jun2020 - 10Jul2020): finished 1369 trials in 1 min  0 sec"
     ]
    },
    {
     "name": "stdout",
     "output_type": "stream",
     "text": [
      "\n"
     ]
    },
    {
     "name": "stdout",
     "output_type": "stream",
     "text": [
      "\tBHR, 10th phase (24Sep2020 - 05Oct2020): finished  448 trials in 0 min 15 sec"
     ]
    },
    {
     "name": "stdout",
     "output_type": "stream",
     "text": [
      "\n"
     ]
    },
    {
     "name": "stdout",
     "output_type": "stream",
     "text": [
      "\tIRN,  1st phase (31Mar2020 - 05May2020): finished 1402 trials in 1 min  0 sec"
     ]
    },
    {
     "name": "stdout",
     "output_type": "stream",
     "text": [
      "\n"
     ]
    },
    {
     "name": "stdout",
     "output_type": "stream",
     "text": [
      "\tDZA, 10th phase (06Sep2020 - 24Sep2020): finished  613 trials in 0 min 20 sec"
     ]
    },
    {
     "name": "stdout",
     "output_type": "stream",
     "text": [
      "\n"
     ]
    },
    {
     "name": "stdout",
     "output_type": "stream",
     "text": [
      "\tRUS,  3rd phase (31May2020 - 12Jun2020): finished 1520 trials in 1 min  0 sec"
     ]
    },
    {
     "name": "stdout",
     "output_type": "stream",
     "text": [
      "\n"
     ]
    },
    {
     "name": "stdout",
     "output_type": "stream",
     "text": [
      "\tEGY,  3rd phase (05Jun2020 - 18Jun2020): finished 1509 trials in 1 min  0 sec"
     ]
    },
    {
     "name": "stdout",
     "output_type": "stream",
     "text": [
      "\n"
     ]
    },
    {
     "name": "stdout",
     "output_type": "stream",
     "text": [
      "\tEGY,  6th phase (09Jul2020 - 20Jul2020): finished 1571 trials in 1 min  0 sec"
     ]
    },
    {
     "name": "stdout",
     "output_type": "stream",
     "text": [
      "\n"
     ]
    },
    {
     "name": "stdout",
     "output_type": "stream",
     "text": [
      "\tMEX,  4th phase (08Jul2020 - 18Jul2020): finished 1551 trials in 1 min  0 sec"
     ]
    },
    {
     "name": "stdout",
     "output_type": "stream",
     "text": [
      "\n"
     ]
    },
    {
     "name": "stdout",
     "output_type": "stream",
     "text": [
      "\tBRA,  6th phase (31Jul2020 - 10Aug2020): finished  991 trials in 0 min 35 sec"
     ]
    },
    {
     "name": "stdout",
     "output_type": "stream",
     "text": [
      "\n"
     ]
    },
    {
     "name": "stdout",
     "output_type": "stream",
     "text": [
      "\tEGY,  2nd phase (28May2020 - 04Jun2020): finished  359 trials in 0 min 10 sec"
     ]
    },
    {
     "name": "stdout",
     "output_type": "stream",
     "text": [
      "\n"
     ]
    },
    {
     "name": "stdout",
     "output_type": "stream",
     "text": [
      "\tNGA, 10th phase (03Sep2020 - 28Sep2020): finished 1481 trials in 1 min  0 sec"
     ]
    },
    {
     "name": "stdout",
     "output_type": "stream",
     "text": [
      "\n"
     ]
    },
    {
     "name": "stdout",
     "output_type": "stream",
     "text": [
      "\tUSA,  0th phase (09Feb2020 - 02May2020): finished 1296 trials in 1 min  0 sec"
     ]
    },
    {
     "name": "stdout",
     "output_type": "stream",
     "text": [
      "\n"
     ]
    },
    {
     "name": "stdout",
     "output_type": "stream",
     "text": [
      "\tKWT,  4th phase (23Jun2020 - 07Jul2020): finished 1331 trials in 1 min  0 sec"
     ]
    },
    {
     "name": "stdout",
     "output_type": "stream",
     "text": [
      "\n"
     ]
    },
    {
     "name": "stdout",
     "output_type": "stream",
     "text": [
      "\tTUR,  1st phase (17Apr2020 - 26Apr2020): finished 1286 trials in 1 min  0 sec"
     ]
    },
    {
     "name": "stdout",
     "output_type": "stream",
     "text": [
      "\n"
     ]
    },
    {
     "name": "stdout",
     "output_type": "stream",
     "text": [
      "\tPER,  9th phase (09Sep2020 - 18Sep2020): finished 1261 trials in 1 min  0 sec"
     ]
    },
    {
     "name": "stdout",
     "output_type": "stream",
     "text": [
      "\n"
     ]
    },
    {
     "name": "stdout",
     "output_type": "stream",
     "text": [
      "\tITA,  6th phase (23May2020 - 15Jul2020): finished  750 trials in 0 min 30 sec"
     ]
    },
    {
     "name": "stdout",
     "output_type": "stream",
     "text": [
      "\n"
     ]
    },
    {
     "name": "stdout",
     "output_type": "stream",
     "text": [
      "\tITA,  2nd phase (30Mar2020 - 10Apr2020): finished 1310 trials in 1 min  0 sec"
     ]
    },
    {
     "name": "stdout",
     "output_type": "stream",
     "text": [
      "\n"
     ]
    },
    {
     "name": "stdout",
     "output_type": "stream",
     "text": [
      "\tEGY,  0th phase (28Feb2020 - 12May2020): finished 1357 trials in 1 min  0 sec"
     ]
    },
    {
     "name": "stdout",
     "output_type": "stream",
     "text": [
      "\n"
     ]
    },
    {
     "name": "stdout",
     "output_type": "stream",
     "text": [
      "\tMEX,  3rd phase (25Jun2020 - 07Jul2020): finished  787 trials in 0 min 30 sec"
     ]
    },
    {
     "name": "stdout",
     "output_type": "stream",
     "text": [
      "\n"
     ]
    },
    {
     "name": "stdout",
     "output_type": "stream",
     "text": [
      "\tBHR,  7th phase (13Aug2020 - 03Sep2020): finished 1352 trials in 1 min  0 sec"
     ]
    },
    {
     "name": "stdout",
     "output_type": "stream",
     "text": [
      "\n"
     ]
    },
    {
     "name": "stdout",
     "output_type": "stream",
     "text": [
      "\tBHR,  0th phase (06Mar2020 - 06May2020): finished 1308 trials in 1 min  0 sec"
     ]
    },
    {
     "name": "stdout",
     "output_type": "stream",
     "text": [
      "\n"
     ]
    },
    {
     "name": "stdout",
     "output_type": "stream",
     "text": [
      "\tMEX,  0th phase (03Mar2020 - 23May2020): finished 1286 trials in 1 min  0 sec"
     ]
    },
    {
     "name": "stdout",
     "output_type": "stream",
     "text": [
      "\n"
     ]
    },
    {
     "name": "stdout",
     "output_type": "stream",
     "text": [
      "\tEGY,  1st phase (13May2020 - 27May2020): finished 1325 trials in 1 min  0 sec"
     ]
    },
    {
     "name": "stdout",
     "output_type": "stream",
     "text": [
      "\n"
     ]
    },
    {
     "name": "stdout",
     "output_type": "stream",
     "text": [
      "\tTUR,  6th phase (02Jul2020 - 24Jul2020): finished  155 trials in 0 min  5 sec"
     ]
    },
    {
     "name": "stdout",
     "output_type": "stream",
     "text": [
      "\n"
     ]
    },
    {
     "name": "stdout",
     "output_type": "stream",
     "text": [
      "\tARE,  6th phase (20Jul2020 - 18Aug2020): finished  755 trials in 0 min 30 sec"
     ]
    },
    {
     "name": "stdout",
     "output_type": "stream",
     "text": [
      "\n"
     ]
    },
    {
     "name": "stdout",
     "output_type": "stream",
     "text": [
      "\tIRN,  9th phase (17Sep2020 - 29Sep2020): finished  151 trials in 0 min  5 sec"
     ]
    },
    {
     "name": "stdout",
     "output_type": "stream",
     "text": [
      "\n"
     ]
    },
    {
     "name": "stdout",
     "output_type": "stream",
     "text": [
      "\tBOL,  3rd phase (06Jul2020 - 15Jul2020): finished 1321 trials in 1 min  0 sec"
     ]
    },
    {
     "name": "stdout",
     "output_type": "stream",
     "text": [
      "\n"
     ]
    },
    {
     "name": "stdout",
     "output_type": "stream",
     "text": [
      "\tITA, 10th phase (01Oct2020 - 13Oct2020): finished  157 trials in 0 min  5 sec"
     ]
    },
    {
     "name": "stdout",
     "output_type": "stream",
     "text": [
      "\n"
     ]
    },
    {
     "name": "stdout",
     "output_type": "stream",
     "text": [
      "\tNGA,  7th phase (28Jul2020 - 07Aug2020): finished 1347 trials in 1 min  0 sec"
     ]
    },
    {
     "name": "stdout",
     "output_type": "stream",
     "text": [
      "\n"
     ]
    },
    {
     "name": "stdout",
     "output_type": "stream",
     "text": [
      "\tBRA,  7th phase (11Aug2020 - 19Aug2020): finished 1384 trials in 1 min  0 sec"
     ]
    },
    {
     "name": "stdout",
     "output_type": "stream",
     "text": [
      "\n"
     ]
    },
    {
     "name": "stdout",
     "output_type": "stream",
     "text": [
      "\tIRQ,  3rd phase (25Jul2020 - 07Aug2020): finished 1358 trials in 1 min  0 sec"
     ]
    },
    {
     "name": "stdout",
     "output_type": "stream",
     "text": [
      "\n"
     ]
    },
    {
     "name": "stdout",
     "output_type": "stream",
     "text": [
      "\tMLI,  3rd phase (16May2020 - 25May2020): finished 1417 trials in 1 min  0 sec"
     ]
    },
    {
     "name": "stdout",
     "output_type": "stream",
     "text": [
      "\n"
     ]
    },
    {
     "name": "stdout",
     "output_type": "stream",
     "text": [
      "\tFRA,  0th phase (12Feb2020 - 27Mar2020): finished 1471 trials in 1 min  0 sec"
     ]
    },
    {
     "name": "stdout",
     "output_type": "stream",
     "text": [
      "\n"
     ]
    },
    {
     "name": "stdout",
     "output_type": "stream",
     "text": [
      "\tMEX,  9th phase (08Sep2020 - 24Sep2020): finished 1512 trials in 1 min  0 sec"
     ]
    },
    {
     "name": "stdout",
     "output_type": "stream",
     "text": [
      "\n"
     ]
    },
    {
     "name": "stdout",
     "output_type": "stream",
     "text": [
      "\tRUS, 12th phase (15Oct2020 - 23Oct2020): finished 1505 trials in 1 min  0 sec"
     ]
    },
    {
     "name": "stdout",
     "output_type": "stream",
     "text": [
      "\n"
     ]
    },
    {
     "name": "stdout",
     "output_type": "stream",
     "text": [
      "\tNGA,  0th phase (18Mar2020 - 21May2020): finished 1419 trials in 1 min  0 sec"
     ]
    },
    {
     "name": "stdout",
     "output_type": "stream",
     "text": [
      "\n"
     ]
    },
    {
     "name": "stdout",
     "output_type": "stream",
     "text": [
      "\tMLI,  1st phase (23Apr2020 - 03May2020): finished 1385 trials in 1 min  0 sec"
     ]
    },
    {
     "name": "stdout",
     "output_type": "stream",
     "text": [
      "\n"
     ]
    },
    {
     "name": "stdout",
     "output_type": "stream",
     "text": [
      "\tMEX,  8th phase (25Aug2020 - 07Sep2020): finished  136 trials in 0 min  5 sec"
     ]
    },
    {
     "name": "stdout",
     "output_type": "stream",
     "text": [
      "\n"
     ]
    },
    {
     "name": "stdout",
     "output_type": "stream",
     "text": [
      "\tFRA,  2nd phase (05Apr2020 - 12Apr2020): finished 1299 trials in 1 min  0 sec"
     ]
    },
    {
     "name": "stdout",
     "output_type": "stream",
     "text": [
      "\n"
     ]
    },
    {
     "name": "stdout",
     "output_type": "stream",
     "text": [
      "\tBRA,  8th phase (20Aug2020 - 30Aug2020): finished 1329 trials in 1 min  0 sec"
     ]
    },
    {
     "name": "stdout",
     "output_type": "stream",
     "text": [
      "\n"
     ]
    },
    {
     "name": "stdout",
     "output_type": "stream",
     "text": [
      "\tMLI,  2nd phase (04May2020 - 15May2020): finished 1329 trials in 1 min  0 sec"
     ]
    },
    {
     "name": "stdout",
     "output_type": "stream",
     "text": [
      "\n"
     ]
    },
    {
     "name": "stdout",
     "output_type": "stream",
     "text": [
      "\tRUS,  0th phase (12Feb2020 - 07May2020): finished 1398 trials in 1 min  0 sec"
     ]
    },
    {
     "name": "stdout",
     "output_type": "stream",
     "text": [
      "\n"
     ]
    },
    {
     "name": "stdout",
     "output_type": "stream",
     "text": [
      "\tTUR,  5th phase (14Jun2020 - 01Jul2020): finished 1402 trials in 1 min  0 sec"
     ]
    },
    {
     "name": "stdout",
     "output_type": "stream",
     "text": [
      "\n"
     ]
    },
    {
     "name": "stdout",
     "output_type": "stream",
     "text": [
      "\tITA,  8th phase (28Aug2020 - 17Sep2020): finished  159 trials in 0 min  5 sec"
     ]
    },
    {
     "name": "stdout",
     "output_type": "stream",
     "text": [
      "\n"
     ]
    },
    {
     "name": "stdout",
     "output_type": "stream",
     "text": [
      "\tARE, 11th phase (10Oct2020 - 23Oct2020): finished  259 trials in 0 min 10 sec"
     ]
    },
    {
     "name": "stdout",
     "output_type": "stream",
     "text": [
      "\n"
     ]
    },
    {
     "name": "stdout",
     "output_type": "stream",
     "text": [
      "\tPER, 10th phase (19Sep2020 - 30Sep2020): finished 1390 trials in 1 min  0 sec"
     ]
    },
    {
     "name": "stdout",
     "output_type": "stream",
     "text": [
      "\n"
     ]
    },
    {
     "name": "stdout",
     "output_type": "stream",
     "text": [
      "\tFRA,  3rd phase (13Apr2020 - 25Apr2020): finished 1323 trials in 1 min  0 sec"
     ]
    },
    {
     "name": "stdout",
     "output_type": "stream",
     "text": [
      "\n"
     ]
    },
    {
     "name": "stdout",
     "output_type": "stream",
     "text": [
      "\tNGA,  9th phase (19Aug2020 - 02Sep2020): finished  500 trials in 0 min 20 sec"
     ]
    },
    {
     "name": "stdout",
     "output_type": "stream",
     "text": [
      "\n"
     ]
    },
    {
     "name": "stdout",
     "output_type": "stream",
     "text": [
      "\tBOL,  1st phase (14Jun2020 - 25Jun2020): finished 1390 trials in 1 min  0 sec"
     ]
    },
    {
     "name": "stdout",
     "output_type": "stream",
     "text": [
      "\n"
     ]
    },
    {
     "name": "stdout",
     "output_type": "stream",
     "text": [
      "\tKWT,  2nd phase (28May2020 - 08Jun2020): finished 1395 trials in 1 min  0 sec"
     ]
    },
    {
     "name": "stdout",
     "output_type": "stream",
     "text": [
      "\n"
     ]
    },
    {
     "name": "stdout",
     "output_type": "stream",
     "text": [
      "\tTUR,  9th phase (05Sep2020 - 20Sep2020): finished  160 trials in 0 min  5 sec"
     ]
    },
    {
     "name": "stdout",
     "output_type": "stream",
     "text": [
      "\n"
     ]
    },
    {
     "name": "stdout",
     "output_type": "stream",
     "text": [
      "\tDOM,  5th phase (24Jul2020 - 01Aug2020): finished 1405 trials in 1 min  0 sec"
     ]
    },
    {
     "name": "stdout",
     "output_type": "stream",
     "text": [
      "\n"
     ]
    },
    {
     "name": "stdout",
     "output_type": "stream",
     "text": [
      "\tNGA, 11th phase (29Sep2020 - 23Oct2020): finished 1355 trials in 1 min  0 sec"
     ]
    },
    {
     "name": "stdout",
     "output_type": "stream",
     "text": [
      "\n"
     ]
    },
    {
     "name": "stdout",
     "output_type": "stream",
     "text": [
      "\tBOL, 11th phase (26Sep2020 - 23Oct2020): finished  668 trials in 0 min 25 sec"
     ]
    },
    {
     "name": "stdout",
     "output_type": "stream",
     "text": [
      "\n"
     ]
    },
    {
     "name": "stdout",
     "output_type": "stream",
     "text": [
      "\tUSA,  5th phase (21Jul2020 - 30Jul2020): finished  278 trials in 0 min 10 sec"
     ]
    },
    {
     "name": "stdout",
     "output_type": "stream",
     "text": [
      "\n"
     ]
    },
    {
     "name": "stdout",
     "output_type": "stream",
     "text": [
      "\tKWT, 11th phase (08Oct2020 - 23Oct2020): finished  821 trials in 0 min 35 sec"
     ]
    },
    {
     "name": "stdout",
     "output_type": "stream",
     "text": [
      "\n"
     ]
    },
    {
     "name": "stdout",
     "output_type": "stream",
     "text": [
      "\tBOL,  4th phase (16Jul2020 - 23Jul2020): finished  266 trials in 0 min 10 sec"
     ]
    },
    {
     "name": "stdout",
     "output_type": "stream",
     "text": [
      "\n"
     ]
    },
    {
     "name": "stdout",
     "output_type": "stream",
     "text": [
      "\tDZA, 11th phase (25Sep2020 - 23Oct2020): finished  340 trials in 0 min 15 sec"
     ]
    },
    {
     "name": "stdout",
     "output_type": "stream",
     "text": [
      "\n"
     ]
    },
    {
     "name": "stdout",
     "output_type": "stream",
     "text": [
      "\tNGA,  3rd phase (19Jun2020 - 28Jun2020): finished 1235 trials in 1 min  0 sec"
     ]
    },
    {
     "name": "stdout",
     "output_type": "stream",
     "text": [
      "\n"
     ]
    },
    {
     "name": "stdout",
     "output_type": "stream",
     "text": [
      "\tBRA,  4th phase (09Jul2020 - 21Jul2020): finished 1217 trials in 1 min  0 sec"
     ]
    },
    {
     "name": "stdout",
     "output_type": "stream",
     "text": [
      "\n"
     ]
    },
    {
     "name": "stdout",
     "output_type": "stream",
     "text": [
      "\tARE,  3rd phase (27May2020 - 11Jun2020): finished 1205 trials in 1 min  0 sec"
     ]
    },
    {
     "name": "stdout",
     "output_type": "stream",
     "text": [
      "\n"
     ]
    },
    {
     "name": "stdout",
     "output_type": "stream",
     "text": [
      "\tIRQ,  2nd phase (10Jul2020 - 24Jul2020): finished 1173 trials in 1 min  0 sec"
     ]
    },
    {
     "name": "stdout",
     "output_type": "stream",
     "text": [
      "\n"
     ]
    },
    {
     "name": "stdout",
     "output_type": "stream",
     "text": [
      "\tRUS,  4th phase (13Jun2020 - 26Jun2020): finished 1169 trials in 1 min  0 sec"
     ]
    },
    {
     "name": "stdout",
     "output_type": "stream",
     "text": [
      "\n"
     ]
    },
    {
     "name": "stdout",
     "output_type": "stream",
     "text": [
      "\tDZA,  1st phase (02May2020 - 23May2020): finished 1159 trials in 1 min  0 sec"
     ]
    },
    {
     "name": "stdout",
     "output_type": "stream",
     "text": [
      "\n"
     ]
    },
    {
     "name": "stdout",
     "output_type": "stream",
     "text": [
      "\tPER,  8th phase (29Aug2020 - 08Sep2020): finished 1170 trials in 1 min  0 sec"
     ]
    },
    {
     "name": "stdout",
     "output_type": "stream",
     "text": [
      "\n"
     ]
    },
    {
     "name": "stdout",
     "output_type": "stream",
     "text": [
      "\tBRA,  5th phase (22Jul2020 - 30Jul2020): finished 1178 trials in 1 min  0 sec"
     ]
    },
    {
     "name": "stdout",
     "output_type": "stream",
     "text": [
      "\n"
     ]
    },
    {
     "name": "stdout",
     "output_type": "stream",
     "text": [
      "\tBOL,  9th phase (03Sep2020 - 11Sep2020): finished  234 trials in 0 min 10 sec"
     ]
    },
    {
     "name": "stdout",
     "output_type": "stream",
     "text": [
      "\n"
     ]
    },
    {
     "name": "stdout",
     "output_type": "stream",
     "text": [
      "\tARE,  7th phase (19Aug2020 - 10Sep2020): finished 1176 trials in 1 min  0 sec"
     ]
    },
    {
     "name": "stdout",
     "output_type": "stream",
     "text": [
      "\n"
     ]
    },
    {
     "name": "stdout",
     "output_type": "stream",
     "text": [
      "\tUSA,  2nd phase (03Jun2020 - 24Jun2020): finished 1157 trials in 1 min  0 sec"
     ]
    },
    {
     "name": "stdout",
     "output_type": "stream",
     "text": [
      "\n"
     ]
    },
    {
     "name": "stdout",
     "output_type": "stream",
     "text": [
      "\tDZA,  8th phase (13Aug2020 - 23Aug2020): finished  322 trials in 0 min 15 sec"
     ]
    },
    {
     "name": "stdout",
     "output_type": "stream",
     "text": [
      "\n"
     ]
    },
    {
     "name": "stdout",
     "output_type": "stream",
     "text": [
      "\tIRQ, 10th phase (01Oct2020 - 11Oct2020): finished  243 trials in 0 min 10 sec"
     ]
    },
    {
     "name": "stdout",
     "output_type": "stream",
     "text": [
      "\n"
     ]
    },
    {
     "name": "stdout",
     "output_type": "stream",
     "text": [
      "\tARM,  4th phase (03Jul2020 - 10Jul2020): finished  549 trials in 0 min 25 sec"
     ]
    },
    {
     "name": "stdout",
     "output_type": "stream",
     "text": [
      "\n"
     ]
    },
    {
     "name": "stdout",
     "output_type": "stream",
     "text": [
      "\tBOL, 10th phase (12Sep2020 - 25Sep2020): finished  273 trials in 0 min 10 sec"
     ]
    },
    {
     "name": "stdout",
     "output_type": "stream",
     "text": [
      "\n"
     ]
    },
    {
     "name": "stdout",
     "output_type": "stream",
     "text": [
      "\tUSA,  1st phase (03May2020 - 02Jun2020): finished 1116 trials in 1 min  0 sec"
     ]
    },
    {
     "name": "stdout",
     "output_type": "stream",
     "text": [
      "\n"
     ]
    },
    {
     "name": "stdout",
     "output_type": "stream",
     "text": [
      "\tIRN,  4th phase (17Jun2020 - 04Jul2020): finished 1155 trials in 1 min  0 sec"
     ]
    },
    {
     "name": "stdout",
     "output_type": "stream",
     "text": [
      "\n"
     ]
    },
    {
     "name": "stdout",
     "output_type": "stream",
     "text": [
      "\tBOL,  2nd phase (26Jun2020 - 05Jul2020): finished  261 trials in 0 min 10 sec"
     ]
    },
    {
     "name": "stdout",
     "output_type": "stream",
     "text": [
      "\n"
     ]
    },
    {
     "name": "stdout",
     "output_type": "stream",
     "text": [
      "\tARM,  5th phase (11Jul2020 - 20Jul2020): finished 1183 trials in 1 min  0 sec"
     ]
    },
    {
     "name": "stdout",
     "output_type": "stream",
     "text": [
      "\n"
     ]
    },
    {
     "name": "stdout",
     "output_type": "stream",
     "text": [
      "\tRUS,  7th phase (25Jul2020 - 10Aug2020): finished 1156 trials in 1 min  0 sec"
     ]
    },
    {
     "name": "stdout",
     "output_type": "stream",
     "text": [
      "\n"
     ]
    },
    {
     "name": "stdout",
     "output_type": "stream",
     "text": [
      "\tDZA,  5th phase (19Jul2020 - 27Jul2020): finished 1085 trials in 1 min  0 sec"
     ]
    },
    {
     "name": "stdout",
     "output_type": "stream",
     "text": [
      "\n"
     ]
    },
    {
     "name": "stdout",
     "output_type": "stream",
     "text": [
      "\tBHR,  2nd phase (01Jun2020 - 13Jun2020): finished 1073 trials in 1 min  0 sec"
     ]
    },
    {
     "name": "stdout",
     "output_type": "stream",
     "text": [
      "\n"
     ]
    },
    {
     "name": "stdout",
     "output_type": "stream",
     "text": [
      "\tITA,  7th phase (16Jul2020 - 27Aug2020): finished  976 trials in 1 min  0 sec"
     ]
    },
    {
     "name": "stdout",
     "output_type": "stream",
     "text": [
      "\n"
     ]
    },
    {
     "name": "stdout",
     "output_type": "stream",
     "text": [
      "\tFRA,  8th phase (27Aug2020 - 10Sep2020): finished 1031 trials in 1 min  0 sec"
     ]
    },
    {
     "name": "stdout",
     "output_type": "stream",
     "text": [
      "\n"
     ]
    },
    {
     "name": "stdout",
     "output_type": "stream",
     "text": [
      "\tEGY,  9th phase (28Aug2020 - 10Sep2020): finished  231 trials in 0 min 10 sec"
     ]
    },
    {
     "name": "stdout",
     "output_type": "stream",
     "text": [
      "\n"
     ]
    },
    {
     "name": "stdout",
     "output_type": "stream",
     "text": [
      "\tKWT,  7th phase (09Aug2020 - 23Aug2020): finished 1047 trials in 1 min  0 sec"
     ]
    },
    {
     "name": "stdout",
     "output_type": "stream",
     "text": [
      "\n"
     ]
    },
    {
     "name": "stdout",
     "output_type": "stream",
     "text": [
      "\tUSA,  3rd phase (25Jun2020 - 09Jul2020): finished 1076 trials in 1 min  0 sec"
     ]
    },
    {
     "name": "stdout",
     "output_type": "stream",
     "text": [
      "\n"
     ]
    },
    {
     "name": "stdout",
     "output_type": "stream",
     "text": [
      "\tMLI,  0th phase (04Apr2020 - 22Apr2020): finished 1104 trials in 1 min  0 sec"
     ]
    },
    {
     "name": "stdout",
     "output_type": "stream",
     "text": [
      "\n"
     ]
    },
    {
     "name": "stdout",
     "output_type": "stream",
     "text": [
      "\tBHR,  4th phase (26Jun2020 - 07Jul2020): finished 1123 trials in 1 min  0 sec"
     ]
    },
    {
     "name": "stdout",
     "output_type": "stream",
     "text": [
      "\n"
     ]
    },
    {
     "name": "stdout",
     "output_type": "stream",
     "text": [
      "\tIRQ,  6th phase (28Aug2020 - 04Sep2020): finished  114 trials in 0 min  5 sec"
     ]
    },
    {
     "name": "stdout",
     "output_type": "stream",
     "text": [
      "\n"
     ]
    },
    {
     "name": "stdout",
     "output_type": "stream",
     "text": [
      "\tITA,  1st phase (21Mar2020 - 29Mar2020): finished 1106 trials in 1 min  0 sec"
     ]
    },
    {
     "name": "stdout",
     "output_type": "stream",
     "text": [
      "\n"
     ]
    },
    {
     "name": "stdout",
     "output_type": "stream",
     "text": [
      "\tRUS,  5th phase (27Jun2020 - 10Jul2020): finished 1089 trials in 1 min  0 sec"
     ]
    },
    {
     "name": "stdout",
     "output_type": "stream",
     "text": [
      "\n"
     ]
    },
    {
     "name": "stdout",
     "output_type": "stream",
     "text": [
      "\tDZA,  2nd phase (24May2020 - 25Jun2020): finished 1065 trials in 1 min  0 sec"
     ]
    },
    {
     "name": "stdout",
     "output_type": "stream",
     "text": [
      "\n"
     ]
    },
    {
     "name": "stdout",
     "output_type": "stream",
     "text": [
      "\tPER,  7th phase (18Aug2020 - 28Aug2020): finished 1063 trials in 1 min  0 sec"
     ]
    },
    {
     "name": "stdout",
     "output_type": "stream",
     "text": [
      "\n"
     ]
    },
    {
     "name": "stdout",
     "output_type": "stream",
     "text": [
      "\tUSA, 10th phase (29Sep2020 - 11Oct2020): finished  482 trials in 0 min 25 sec"
     ]
    },
    {
     "name": "stdout",
     "output_type": "stream",
     "text": [
      "\n"
     ]
    },
    {
     "name": "stdout",
     "output_type": "stream",
     "text": [
      "\tMEX,  5th phase (19Jul2020 - 30Jul2020): finished 1087 trials in 1 min  0 sec"
     ]
    },
    {
     "name": "stdout",
     "output_type": "stream",
     "text": [
      "\n"
     ]
    },
    {
     "name": "stdout",
     "output_type": "stream",
     "text": [
      "\tDOM,  1st phase (24May2020 - 16Jun2020): finished 1093 trials in 1 min  0 sec"
     ]
    },
    {
     "name": "stdout",
     "output_type": "stream",
     "text": [
      "\n"
     ]
    },
    {
     "name": "stdout",
     "output_type": "stream",
     "text": [
      "\tFRA, 11th phase (09Oct2020 - 23Oct2020): finished 1111 trials in 1 min  0 sec"
     ]
    },
    {
     "name": "stdout",
     "output_type": "stream",
     "text": [
      "\n"
     ]
    },
    {
     "name": "stdout",
     "output_type": "stream",
     "text": [
      "\tDOM,  3rd phase (03Jul2020 - 13Jul2020): finished 1096 trials in 1 min  0 sec"
     ]
    },
    {
     "name": "stdout",
     "output_type": "stream",
     "text": [
      "\n"
     ]
    },
    {
     "name": "stdout",
     "output_type": "stream",
     "text": [
      "\tTUR,  4th phase (22May2020 - 13Jun2020): finished 1088 trials in 1 min  0 sec"
     ]
    },
    {
     "name": "stdout",
     "output_type": "stream",
     "text": [
      "\n"
     ]
    },
    {
     "name": "stdout",
     "output_type": "stream",
     "text": [
      "\tNGA,  2nd phase (09Jun2020 - 18Jun2020): finished 1074 trials in 1 min  0 sec"
     ]
    },
    {
     "name": "stdout",
     "output_type": "stream",
     "text": [
      "\n"
     ]
    },
    {
     "name": "stdout",
     "output_type": "stream",
     "text": [
      "\tEGY,  4th phase (19Jun2020 - 26Jun2020): finished  239 trials in 0 min 10 sec"
     ]
    },
    {
     "name": "stdout",
     "output_type": "stream",
     "text": [
      "\n"
     ]
    },
    {
     "name": "stdout",
     "output_type": "stream",
     "text": [
      "\tTUR,  8th phase (17Aug2020 - 04Sep2020): finished  358 trials in 0 min 15 sec"
     ]
    },
    {
     "name": "stdout",
     "output_type": "stream",
     "text": [
      "\n"
     ]
    },
    {
     "name": "stdout",
     "output_type": "stream",
     "text": [
      "\tFRA,  6th phase (09Jul2020 - 08Aug2020): finished 1091 trials in 1 min  0 sec"
     ]
    },
    {
     "name": "stdout",
     "output_type": "stream",
     "text": [
      "\n"
     ]
    },
    {
     "name": "stdout",
     "output_type": "stream",
     "text": [
      "\tKWT,  3rd phase (09Jun2020 - 22Jun2020): finished 1121 trials in 1 min  0 sec"
     ]
    },
    {
     "name": "stdout",
     "output_type": "stream",
     "text": [
      "\n"
     ]
    },
    {
     "name": "stdout",
     "output_type": "stream",
     "text": [
      "\tIRN,  6th phase (23Jul2020 - 09Aug2020): finished  116 trials in 0 min  5 sec"
     ]
    },
    {
     "name": "stdout",
     "output_type": "stream",
     "text": [
      "\n"
     ]
    },
    {
     "name": "stdout",
     "output_type": "stream",
     "text": [
      "\tBHR, 11th phase (06Oct2020 - 23Oct2020): finished 1090 trials in 1 min  0 sec"
     ]
    },
    {
     "name": "stdout",
     "output_type": "stream",
     "text": [
      "\n"
     ]
    },
    {
     "name": "stdout",
     "output_type": "stream",
     "text": [
      "\tDOM,  2nd phase (17Jun2020 - 02Jul2020): finished 1093 trials in 1 min  0 sec"
     ]
    },
    {
     "name": "stdout",
     "output_type": "stream",
     "text": [
      "\n"
     ]
    },
    {
     "name": "stdout",
     "output_type": "stream",
     "text": [
      "\tIRQ,  7th phase (05Sep2020 - 13Sep2020): finished  217 trials in 0 min 10 sec"
     ]
    },
    {
     "name": "stdout",
     "output_type": "stream",
     "text": [
      "\n"
     ]
    },
    {
     "name": "stdout",
     "output_type": "stream",
     "text": [
      "\tIRN, 10th phase (30Sep2020 - 11Oct2020): finished  233 trials in 0 min 10 sec"
     ]
    },
    {
     "name": "stdout",
     "output_type": "stream",
     "text": [
      "\n"
     ]
    },
    {
     "name": "stdout",
     "output_type": "stream",
     "text": [
      "\tTUR, 10th phase (21Sep2020 - 07Oct2020): finished  121 trials in 0 min  5 sec"
     ]
    },
    {
     "name": "stdout",
     "output_type": "stream",
     "text": [
      "\n"
     ]
    },
    {
     "name": "stdout",
     "output_type": "stream",
     "text": [
      "\tITA,  3rd phase (11Apr2020 - 18Apr2020): finished  337 trials in 0 min 15 sec"
     ]
    },
    {
     "name": "stdout",
     "output_type": "stream",
     "text": [
      "\n"
     ]
    },
    {
     "name": "stdout",
     "output_type": "stream",
     "text": [
      "\tDZA,  4th phase (09Jul2020 - 18Jul2020): finished  223 trials in 0 min 10 sec"
     ]
    },
    {
     "name": "stdout",
     "output_type": "stream",
     "text": [
      "\n"
     ]
    },
    {
     "name": "stdout",
     "output_type": "stream",
     "text": [
      "\tIRN,  3rd phase (31May2020 - 16Jun2020): finished 1120 trials in 1 min  0 sec"
     ]
    },
    {
     "name": "stdout",
     "output_type": "stream",
     "text": [
      "\n"
     ]
    },
    {
     "name": "stdout",
     "output_type": "stream",
     "text": [
      "\tBRA,  1st phase (27May2020 - 13Jun2020): finished 1112 trials in 1 min  0 sec"
     ]
    },
    {
     "name": "stdout",
     "output_type": "stream",
     "text": [
      "\n"
     ]
    },
    {
     "name": "stdout",
     "output_type": "stream",
     "text": [
      "\tITA,  9th phase (18Sep2020 - 30Sep2020): finished  228 trials in 0 min 10 sec"
     ]
    },
    {
     "name": "stdout",
     "output_type": "stream",
     "text": [
      "\n"
     ]
    },
    {
     "name": "stdout",
     "output_type": "stream",
     "text": [
      "\tMEX,  6th phase (31Jul2020 - 11Aug2020): finished  119 trials in 0 min  5 sec"
     ]
    },
    {
     "name": "stdout",
     "output_type": "stream",
     "text": [
      "\n"
     ]
    },
    {
     "name": "stdout",
     "output_type": "stream",
     "text": [
      "\tNGA,  1st phase (22May2020 - 08Jun2020): finished 1111 trials in 1 min  0 sec"
     ]
    },
    {
     "name": "stdout",
     "output_type": "stream",
     "text": [
      "\n"
     ]
    },
    {
     "name": "stdout",
     "output_type": "stream",
     "text": [
      "\tRUS,  2nd phase (20May2020 - 30May2020): finished 1142 trials in 1 min  0 sec"
     ]
    },
    {
     "name": "stdout",
     "output_type": "stream",
     "text": [
      "\n"
     ]
    },
    {
     "name": "stdout",
     "output_type": "stream",
     "text": [
      "\tKWT,  0th phase (08Mar2020 - 13May2020): finished  889 trials in 1 min  0 sec"
     ]
    },
    {
     "name": "stdout",
     "output_type": "stream",
     "text": [
      "\n"
     ]
    },
    {
     "name": "stdout",
     "output_type": "stream",
     "text": [
      "\tIRQ,  0th phase (09Mar2020 - 23Jun2020): finished 1069 trials in 1 min  0 sec"
     ]
    },
    {
     "name": "stdout",
     "output_type": "stream",
     "text": [
      "\n"
     ]
    },
    {
     "name": "stdout",
     "output_type": "stream",
     "text": [
      "\tBHR,  9th phase (15Sep2020 - 23Sep2020): finished 1124 trials in 1 min  0 sec"
     ]
    },
    {
     "name": "stdout",
     "output_type": "stream",
     "text": [
      "\n"
     ]
    },
    {
     "name": "stdout",
     "output_type": "stream",
     "text": [
      "\tNGA,  4th phase (29Jun2020 - 08Jul2020): finished  147 trials in 0 min  5 sec"
     ]
    },
    {
     "name": "stdout",
     "output_type": "stream",
     "text": [
      "\n"
     ]
    },
    {
     "name": "stdout",
     "output_type": "stream",
     "text": [
      "\tTUR,  0th phase (24Mar2020 - 16Apr2020): finished 1131 trials in 1 min  0 sec"
     ]
    },
    {
     "name": "stdout",
     "output_type": "stream",
     "text": [
      "\n"
     ]
    },
    {
     "name": "stdout",
     "output_type": "stream",
     "text": [
      "\tEGY,  8th phase (10Aug2020 - 27Aug2020): finished  261 trials in 0 min 10 sec"
     ]
    },
    {
     "name": "stdout",
     "output_type": "stream",
     "text": [
      "\n"
     ]
    },
    {
     "name": "stdout",
     "output_type": "stream",
     "text": [
      "\tMLI,  4th phase (26May2020 - 02Jun2020): finished 1159 trials in 1 min  0 sec"
     ]
    },
    {
     "name": "stdout",
     "output_type": "stream",
     "text": [
      "\n"
     ]
    },
    {
     "name": "stdout",
     "output_type": "stream",
     "text": [
      "\tARM,  1st phase (25May2020 - 12Jun2020): finished 1154 trials in 1 min  0 sec"
     ]
    },
    {
     "name": "stdout",
     "output_type": "stream",
     "text": [
      "\n"
     ]
    },
    {
     "name": "stdout",
     "output_type": "stream",
     "text": [
      "\tARM,  6th phase (21Jul2020 - 31Jul2020): finished  273 trials in 0 min 10 sec"
     ]
    },
    {
     "name": "stdout",
     "output_type": "stream",
     "text": [
      "\n"
     ]
    },
    {
     "name": "stdout",
     "output_type": "stream",
     "text": [
      "\tDOM,  8th phase (21Aug2020 - 04Sep2020): finished  266 trials in 0 min 10 sec"
     ]
    },
    {
     "name": "stdout",
     "output_type": "stream",
     "text": [
      "\n"
     ]
    },
    {
     "name": "stdout",
     "output_type": "stream",
     "text": [
      "\tMLI, 10th phase (08Sep2020 - 01Oct2020): finished  383 trials in 0 min 15 sec"
     ]
    },
    {
     "name": "stdout",
     "output_type": "stream",
     "text": [
      "\n"
     ]
    },
    {
     "name": "stdout",
     "output_type": "stream",
     "text": [
      "\tDOM,  7th phase (12Aug2020 - 20Aug2020): finished  399 trials in 0 min 15 sec"
     ]
    },
    {
     "name": "stdout",
     "output_type": "stream",
     "text": [
      "\n"
     ]
    },
    {
     "name": "stdout",
     "output_type": "stream",
     "text": [
      "\tMLI,  9th phase (12Aug2020 - 07Sep2020): finished 1237 trials in 1 min  0 sec"
     ]
    },
    {
     "name": "stdout",
     "output_type": "stream",
     "text": [
      "\n"
     ]
    },
    {
     "name": "stdout",
     "output_type": "stream",
     "text": [
      "\tARM,  0th phase (17Mar2020 - 24May2020): finished 1201 trials in 1 min  0 sec"
     ]
    },
    {
     "name": "stdout",
     "output_type": "stream",
     "text": [
      "\n"
     ]
    },
    {
     "name": "stdout",
     "output_type": "stream",
     "text": [
      "\tEGY,  7th phase (21Jul2020 - 09Aug2020): finished 1061 trials in 0 min 50 sec"
     ]
    },
    {
     "name": "stdout",
     "output_type": "stream",
     "text": [
      "\n"
     ]
    },
    {
     "name": "stdout",
     "output_type": "stream",
     "text": [
      "\tRUS,  8th phase (11Aug2020 - 28Aug2020): finished 1242 trials in 1 min  0 sec"
     ]
    },
    {
     "name": "stdout",
     "output_type": "stream",
     "text": [
      "\n"
     ]
    },
    {
     "name": "stdout",
     "output_type": "stream",
     "text": [
      "\tARE,  8th phase (11Sep2020 - 22Sep2020): finished  989 trials in 0 min 45 sec"
     ]
    },
    {
     "name": "stdout",
     "output_type": "stream",
     "text": [
      "\n"
     ]
    },
    {
     "name": "stdout",
     "output_type": "stream",
     "text": [
      "\tUSA,  6th phase (31Jul2020 - 12Aug2020): finished  148 trials in 0 min  5 sec"
     ]
    },
    {
     "name": "stdout",
     "output_type": "stream",
     "text": [
      "\n"
     ]
    },
    {
     "name": "stdout",
     "output_type": "stream",
     "text": [
      "\tRUS,  1st phase (08May2020 - 19May2020): finished 1250 trials in 1 min  0 sec"
     ]
    },
    {
     "name": "stdout",
     "output_type": "stream",
     "text": [
      "\n"
     ]
    },
    {
     "name": "stdout",
     "output_type": "stream",
     "text": [
      "\tARE,  5th phase (01Jul2020 - 19Jul2020): finished 1237 trials in 1 min  0 sec"
     ]
    },
    {
     "name": "stdout",
     "output_type": "stream",
     "text": [
      "\n"
     ]
    },
    {
     "name": "stdout",
     "output_type": "stream",
     "text": [
      "\tUSA,  4th phase (10Jul2020 - 20Jul2020): finished  900 trials in 0 min 40 sec"
     ]
    },
    {
     "name": "stdout",
     "output_type": "stream",
     "text": [
      "\n"
     ]
    },
    {
     "name": "stdout",
     "output_type": "stream",
     "text": [
      "\tDZA,  3rd phase (26Jun2020 - 08Jul2020): finished  272 trials in 0 min 10 sec"
     ]
    },
    {
     "name": "stdout",
     "output_type": "stream",
     "text": [
      "\n"
     ]
    },
    {
     "name": "stdout",
     "output_type": "stream",
     "text": [
      "\tDOM,  4th phase (14Jul2020 - 23Jul2020): finished 1182 trials in 1 min  0 sec"
     ]
    },
    {
     "name": "stdout",
     "output_type": "stream",
     "text": [
      "\n"
     ]
    },
    {
     "name": "stdout",
     "output_type": "stream",
     "text": [
      "\tBHR,  8th phase (04Sep2020 - 14Sep2020): finished 1181 trials in 1 min  0 sec"
     ]
    },
    {
     "name": "stdout",
     "output_type": "stream",
     "text": [
      "\n"
     ]
    },
    {
     "name": "stdout",
     "output_type": "stream",
     "text": [
      "\tPER,  1st phase (10May2020 - 29May2020): finished 1192 trials in 1 min  0 sec"
     ]
    },
    {
     "name": "stdout",
     "output_type": "stream",
     "text": [
      "\n"
     ]
    },
    {
     "name": "stdout",
     "output_type": "stream",
     "text": [
      "\tBHR,  1st phase (07May2020 - 31May2020): finished 1185 trials in 1 min  0 sec"
     ]
    },
    {
     "name": "stdout",
     "output_type": "stream",
     "text": [
      "\n"
     ]
    },
    {
     "name": "stdout",
     "output_type": "stream",
     "text": [
      "\tFRA,  5th phase (27May2020 - 08Jul2020): finished  943 trials in 0 min 45 sec"
     ]
    },
    {
     "name": "stdout",
     "output_type": "stream",
     "text": [
      "\n"
     ]
    },
    {
     "name": "stdout",
     "output_type": "stream",
     "text": [
      "\tPER,  0th phase (16Mar2020 - 09May2020): finished 1189 trials in 1 min  0 sec"
     ]
    },
    {
     "name": "stdout",
     "output_type": "stream",
     "text": [
      "\n"
     ]
    },
    {
     "name": "stdout",
     "output_type": "stream",
     "text": [
      "\tDZA,  0th phase (12Mar2020 - 01May2020): finished 1205 trials in 1 min  0 sec"
     ]
    },
    {
     "name": "stdout",
     "output_type": "stream",
     "text": [
      "\n"
     ]
    },
    {
     "name": "stdout",
     "output_type": "stream",
     "text": [
      "\tTUR,  2nd phase (27Apr2020 - 06May2020): finished  245 trials in 0 min 10 sec"
     ]
    },
    {
     "name": "stdout",
     "output_type": "stream",
     "text": [
      "\n"
     ]
    },
    {
     "name": "stdout",
     "output_type": "stream",
     "text": [
      "\tBOL,  7th phase (11Aug2020 - 25Aug2020): finished 1217 trials in 1 min  0 sec"
     ]
    },
    {
     "name": "stdout",
     "output_type": "stream",
     "text": [
      "\n"
     ]
    },
    {
     "name": "stdout",
     "output_type": "stream",
     "text": [
      "\tDOM,  9th phase (05Sep2020 - 17Sep2020): finished  369 trials in 0 min 15 sec"
     ]
    },
    {
     "name": "stdout",
     "output_type": "stream",
     "text": [
      "\n"
     ]
    },
    {
     "name": "stdout",
     "output_type": "stream",
     "text": [
      "\tBOL,  5th phase (24Jul2020 - 31Jul2020): finished  670 trials in 0 min 30 sec"
     ]
    },
    {
     "name": "stdout",
     "output_type": "stream",
     "text": [
      "\n"
     ]
    },
    {
     "name": "stdout",
     "output_type": "stream",
     "text": [
      "\tKWT, 10th phase (22Sep2020 - 07Oct2020): finished  236 trials in 0 min 10 sec"
     ]
    },
    {
     "name": "stdout",
     "output_type": "stream",
     "text": [
      "\n"
     ]
    },
    {
     "name": "stdout",
     "output_type": "stream",
     "text": [
      "\tIRQ,  9th phase (22Sep2020 - 30Sep2020): finished  145 trials in 0 min  5 sec"
     ]
    },
    {
     "name": "stdout",
     "output_type": "stream",
     "text": [
      "\n"
     ]
    },
    {
     "name": "stdout",
     "output_type": "stream",
     "text": [
      "\tKWT,  8th phase (24Aug2020 - 06Sep2020): finished 1168 trials in 1 min  0 sec"
     ]
    },
    {
     "name": "stdout",
     "output_type": "stream",
     "text": [
      "\n"
     ]
    },
    {
     "name": "stdout",
     "output_type": "stream",
     "text": [
      "\tMEX,  1st phase (24May2020 - 10Jun2020): finished 1184 trials in 1 min  0 sec"
     ]
    },
    {
     "name": "stdout",
     "output_type": "stream",
     "text": [
      "\n"
     ]
    },
    {
     "name": "stdout",
     "output_type": "stream",
     "text": [
      "\tUSA,  7th phase (13Aug2020 - 27Aug2020): finished  275 trials in 0 min 10 sec"
     ]
    },
    {
     "name": "stdout",
     "output_type": "stream",
     "text": [
      "\n"
     ]
    },
    {
     "name": "stdout",
     "output_type": "stream",
     "text": [
      "\tIRN, 11th phase (12Oct2020 - 23Oct2020): finished  277 trials in 0 min 10 sec"
     ]
    },
    {
     "name": "stdout",
     "output_type": "stream",
     "text": [
      "\n"
     ]
    },
    {
     "name": "stdout",
     "output_type": "stream",
     "text": [
      "\tDZA,  9th phase (24Aug2020 - 05Sep2020): finished  280 trials in 0 min 10 sec"
     ]
    },
    {
     "name": "stdout",
     "output_type": "stream",
     "text": [
      "\n"
     ]
    },
    {
     "name": "stdout",
     "output_type": "stream",
     "text": [
      "\tARE, 10th phase (02Oct2020 - 09Oct2020): finished 1265 trials in 1 min  0 sec"
     ]
    },
    {
     "name": "stdout",
     "output_type": "stream",
     "text": [
      "\n"
     ]
    },
    {
     "name": "stdout",
     "output_type": "stream",
     "text": [
      "\tARE,  2nd phase (16May2020 - 26May2020): finished 1254 trials in 1 min  0 sec"
     ]
    },
    {
     "name": "stdout",
     "output_type": "stream",
     "text": [
      "\n"
     ]
    },
    {
     "name": "stdout",
     "output_type": "stream",
     "text": [
      "\tDZA,  7th phase (05Aug2020 - 12Aug2020): finished  258 trials in 0 min 10 sec"
     ]
    },
    {
     "name": "stdout",
     "output_type": "stream",
     "text": [
      "\n"
     ]
    },
    {
     "name": "stdout",
     "output_type": "stream",
     "text": [
      "\tKWT,  6th phase (23Jul2020 - 08Aug2020): finished  984 trials in 0 min 45 sec"
     ]
    },
    {
     "name": "stdout",
     "output_type": "stream",
     "text": [
      "\n"
     ]
    },
    {
     "name": "stdout",
     "output_type": "stream",
     "text": [
      "\tBHR,  6th phase (23Jul2020 - 12Aug2020): finished  501 trials in 0 min 20 sec"
     ]
    },
    {
     "name": "stdout",
     "output_type": "stream",
     "text": [
      "\n"
     ]
    },
    {
     "name": "stdout",
     "output_type": "stream",
     "text": [
      "\tKWT,  1st phase (14May2020 - 27May2020): finished 1244 trials in 1 min  0 sec"
     ]
    },
    {
     "name": "stdout",
     "output_type": "stream",
     "text": [
      "\n"
     ]
    },
    {
     "name": "stdout",
     "output_type": "stream",
     "text": [
      "\tARE,  9th phase (23Sep2020 - 01Oct2020): finished  263 trials in 0 min 10 sec"
     ]
    },
    {
     "name": "stdout",
     "output_type": "stream",
     "text": [
      "\n"
     ]
    },
    {
     "name": "stdout",
     "output_type": "stream",
     "text": [
      "\tBOL,  0th phase (01Apr2020 - 13Jun2020): finished 1170 trials in 1 min  0 sec"
     ]
    },
    {
     "name": "stdout",
     "output_type": "stream",
     "text": [
      "\n"
     ]
    },
    {
     "name": "stdout",
     "output_type": "stream",
     "text": [
      "\tFRA,  1st phase (28Mar2020 - 04Apr2020): finished 1198 trials in 1 min  0 sec"
     ]
    },
    {
     "name": "stdout",
     "output_type": "stream",
     "text": [
      "\n"
     ]
    },
    {
     "name": "stdout",
     "output_type": "stream",
     "text": [
      "\tARM, 11th phase (13Oct2020 - 23Oct2020): finished 1188 trials in 1 min  0 sec"
     ]
    },
    {
     "name": "stdout",
     "output_type": "stream",
     "text": [
      "\n"
     ]
    },
    {
     "name": "stdout",
     "output_type": "stream",
     "text": [
      "\tKWT,  5th phase (08Jul2020 - 22Jul2020): finished 1160 trials in 1 min  0 sec"
     ]
    },
    {
     "name": "stdout",
     "output_type": "stream",
     "text": [
      "\n"
     ]
    },
    {
     "name": "stdout",
     "output_type": "stream",
     "text": [
      "\tARM,  2nd phase (13Jun2020 - 24Jun2020): finished 1200 trials in 1 min  0 sec"
     ]
    },
    {
     "name": "stdout",
     "output_type": "stream",
     "text": [
      "\n"
     ]
    },
    {
     "name": "stdout",
     "output_type": "stream",
     "text": [
      "\tBRA, 10th phase (11Sep2020 - 24Sep2020): finished 1223 trials in 1 min  0 sec"
     ]
    },
    {
     "name": "stdout",
     "output_type": "stream",
     "text": [
      "\n"
     ]
    },
    {
     "name": "stdout",
     "output_type": "stream",
     "text": [
      "\tARM,  9th phase (16Sep2020 - 02Oct2020): finished 1216 trials in 1 min  0 sec"
     ]
    },
    {
     "name": "stdout",
     "output_type": "stream",
     "text": [
      "\n"
     ]
    },
    {
     "name": "stdout",
     "output_type": "stream",
     "text": [
      "\tUSA,  9th phase (14Sep2020 - 28Sep2020): finished  698 trials in 0 min 30 sec"
     ]
    },
    {
     "name": "stdout",
     "output_type": "stream",
     "text": [
      "\n"
     ]
    },
    {
     "name": "stdout",
     "output_type": "stream",
     "text": [
      "\tMLI,  8th phase (03Jul2020 - 11Aug2020): finished 1196 trials in 1 min  0 sec"
     ]
    },
    {
     "name": "stdout",
     "output_type": "stream",
     "text": [
      "\n"
     ]
    },
    {
     "name": "stdout",
     "output_type": "stream",
     "text": [
      "\tRUS, 10th phase (19Sep2020 - 03Oct2020): finished 1221 trials in 1 min  0 sec"
     ]
    },
    {
     "name": "stdout",
     "output_type": "stream",
     "text": [
      "\n"
     ]
    },
    {
     "name": "stdout",
     "output_type": "stream",
     "text": [
      "\tMLI,  6th phase (11Jun2020 - 24Jun2020): finished  501 trials in 0 min 20 sec"
     ]
    },
    {
     "name": "stdout",
     "output_type": "stream",
     "text": [
      "\n"
     ]
    },
    {
     "name": "stdout",
     "output_type": "stream",
     "text": [
      "\tDOM,  0th phase (24Mar2020 - 23May2020): finished 1200 trials in 1 min  0 sec"
     ]
    },
    {
     "name": "stdout",
     "output_type": "stream",
     "text": [
      "\n"
     ]
    },
    {
     "name": "stdout",
     "output_type": "stream",
     "text": [
      "\tITA,  5th phase (07May2020 - 22May2020): finished  274 trials in 0 min 10 sec"
     ]
    },
    {
     "name": "stdout",
     "output_type": "stream",
     "text": [
      "\n"
     ]
    },
    {
     "name": "stdout",
     "output_type": "stream",
     "text": [
      "\tARM, 10th phase (03Oct2020 - 12Oct2020): finished  516 trials in 0 min 20 sec"
     ]
    },
    {
     "name": "stdout",
     "output_type": "stream",
     "text": [
      "\n"
     ]
    },
    {
     "name": "stdout",
     "output_type": "stream",
     "text": [
      "\tEGY, 11th phase (28Sep2020 - 23Oct2020): finished 1234 trials in 1 min  0 sec"
     ]
    },
    {
     "name": "stdout",
     "output_type": "stream",
     "text": [
      "\n"
     ]
    },
    {
     "name": "stdout",
     "output_type": "stream",
     "text": [
      "\tIRN,  2nd phase (06May2020 - 30May2020): finished 1260 trials in 1 min  0 sec"
     ]
    },
    {
     "name": "stdout",
     "output_type": "stream",
     "text": [
      "\n"
     ]
    },
    {
     "name": "stdout",
     "output_type": "stream",
     "text": [
      "\tIRQ,  4th phase (08Aug2020 - 17Aug2020): finished  976 trials in 0 min 45 sec"
     ]
    },
    {
     "name": "stdout",
     "output_type": "stream",
     "text": [
      "\n"
     ]
    },
    {
     "name": "stdout",
     "output_type": "stream",
     "text": [
      "\tRUS,  9th phase (29Aug2020 - 18Sep2020): finished 1230 trials in 1 min  0 sec"
     ]
    },
    {
     "name": "stdout",
     "output_type": "stream",
     "text": [
      "\n"
     ]
    },
    {
     "name": "stdout",
     "output_type": "stream",
     "text": [
      "\tPER, 11th phase (01Oct2020 - 23Oct2020): finished 1200 trials in 1 min  0 sec"
     ]
    },
    {
     "name": "stdout",
     "output_type": "stream",
     "text": [
      "\n"
     ]
    },
    {
     "name": "stdout",
     "output_type": "stream",
     "text": [
      "\tFRA, 10th phase (25Sep2020 - 08Oct2020): finished  508 trials in 0 min 20 sec"
     ]
    },
    {
     "name": "stdout",
     "output_type": "stream",
     "text": [
      "\n"
     ]
    },
    {
     "name": "stdout",
     "output_type": "stream",
     "text": [
      "\tITA,  0th phase (24Feb2020 - 20Mar2020): finished 1336 trials in 1 min  0 sec"
     ]
    },
    {
     "name": "stdout",
     "output_type": "stream",
     "text": [
      "\n"
     ]
    },
    {
     "name": "stdout",
     "output_type": "stream",
     "text": [
      "\tARE,  0th phase (12Feb2020 - 01May2020): finished 1331 trials in 1 min  0 sec"
     ]
    },
    {
     "name": "stdout",
     "output_type": "stream",
     "text": [
      "\n"
     ]
    },
    {
     "name": "stdout",
     "output_type": "stream",
     "text": [
      "\tDOM,  6th phase (02Aug2020 - 11Aug2020): finished 1399 trials in 1 min  0 sec"
     ]
    },
    {
     "name": "stdout",
     "output_type": "stream",
     "text": [
      "\n"
     ]
    },
    {
     "name": "stdout",
     "output_type": "stream",
     "text": [
      "\tPER,  2nd phase (30May2020 - 18Jun2020): finished 1357 trials in 1 min  0 sec"
     ]
    },
    {
     "name": "stdout",
     "output_type": "stream",
     "text": [
      "\n"
     ]
    },
    {
     "name": "stdout",
     "output_type": "stream",
     "text": [
      "\tBRA,  2nd phase (14Jun2020 - 26Jun2020): finished 1192 trials in 0 min 50 sec"
     ]
    },
    {
     "name": "stdout",
     "output_type": "stream",
     "text": [
      "\n"
     ]
    },
    {
     "name": "stdout",
     "output_type": "stream",
     "text": [
      "\tTUR,  7th phase (25Jul2020 - 16Aug2020): finished 1387 trials in 1 min  0 sec"
     ]
    },
    {
     "name": "stdout",
     "output_type": "stream",
     "text": [
      "\n"
     ]
    },
    {
     "name": "stdout",
     "output_type": "stream",
     "text": [
      "\tARM,  7th phase (01Aug2020 - 18Aug2020): finished  312 trials in 0 min 10 sec"
     ]
    },
    {
     "name": "stdout",
     "output_type": "stream",
     "text": [
      "\n"
     ]
    },
    {
     "name": "stdout",
     "output_type": "stream",
     "text": [
      "\tUSA,  8th phase (28Aug2020 - 13Sep2020): finished  809 trials in 0 min 30 sec"
     ]
    },
    {
     "name": "stdout",
     "output_type": "stream",
     "text": [
      "\n"
     ]
    },
    {
     "name": "stdout",
     "output_type": "stream",
     "text": [
      "\tFRA,  7th phase (09Aug2020 - 26Aug2020): finished 1392 trials in 1 min  0 sec"
     ]
    },
    {
     "name": "stdout",
     "output_type": "stream",
     "text": [
      "\n"
     ]
    },
    {
     "name": "stdout",
     "output_type": "stream",
     "text": [
      "\tITA,  4th phase (19Apr2020 - 06May2020): finished 1410 trials in 1 min  0 sec"
     ]
    },
    {
     "name": "stdout",
     "output_type": "stream",
     "text": [
      "\n"
     ]
    },
    {
     "name": "stdout",
     "output_type": "stream",
     "text": [
      "\tMLI,  5th phase (03Jun2020 - 10Jun2020): finished 1417 trials in 1 min  0 sec"
     ]
    },
    {
     "name": "stdout",
     "output_type": "stream",
     "text": [
      "\n"
     ]
    },
    {
     "name": "stdout",
     "output_type": "stream",
     "text": [
      "\tARE,  4th phase (12Jun2020 - 30Jun2020): finished 1530 trials in 1 min  0 sec"
     ]
    },
    {
     "name": "stdout",
     "output_type": "stream",
     "text": [
      "\n"
     ]
    },
    {
     "name": "stdout",
     "output_type": "stream",
     "text": [
      "\tRUS,  6th phase (11Jul2020 - 24Jul2020): finished 1755 trials in 1 min  0 sec"
     ]
    },
    {
     "name": "stdout",
     "output_type": "stream",
     "text": [
      "\n"
     ]
    },
    {
     "name": "stdout",
     "output_type": "stream",
     "text": [
      "\tMEX,  7th phase (12Aug2020 - 24Aug2020): finished 1745 trials in 1 min  0 sec"
     ]
    },
    {
     "name": "stdout",
     "output_type": "stream",
     "text": [
      "\n"
     ]
    },
    {
     "name": "stdout",
     "output_type": "stream",
     "text": [
      "\tKWT,  9th phase (07Sep2020 - 21Sep2020): finished  444 trials in 0 min 10 sec"
     ]
    },
    {
     "name": "stdout",
     "output_type": "stream",
     "text": [
      "\n"
     ]
    },
    {
     "name": "stdout",
     "output_type": "stream",
     "text": [
      "\tRUS, 11th phase (04Oct2020 - 14Oct2020): finished 1886 trials in 1 min  0 sec"
     ]
    },
    {
     "name": "stdout",
     "output_type": "stream",
     "text": [
      "\n"
     ]
    },
    {
     "name": "stdout",
     "output_type": "stream",
     "text": [
      "\tARM,  8th phase (19Aug2020 - 15Sep2020): finished 1221 trials in 0 min 35 sec"
     ]
    },
    {
     "name": "stdout",
     "output_type": "stream",
     "text": [
      "\n"
     ]
    },
    {
     "name": "stdout",
     "output_type": "stream",
     "text": [
      "\tIRN,  5th phase (05Jul2020 - 22Jul2020): finished  591 trials in 0 min 15 sec"
     ]
    },
    {
     "name": "stdout",
     "output_type": "stream",
     "text": [
      "\n"
     ]
    },
    {
     "name": "stdout",
     "output_type": "stream",
     "text": [
      "\tNGA,  8th phase (08Aug2020 - 18Aug2020): finished  436 trials in 0 min 10 sec"
     ]
    },
    {
     "name": "stdout",
     "output_type": "stream",
     "text": [
      "\n"
     ]
    },
    {
     "name": "stdout",
     "output_type": "stream",
     "text": [
      "\tTUR,  3rd phase (07May2020 - 21May2020): finished 1852 trials in 1 min  0 sec"
     ]
    },
    {
     "name": "stdout",
     "output_type": "stream",
     "text": [
      "\n"
     ]
    },
    {
     "name": "stdout",
     "output_type": "stream",
     "text": [
      "\tBOL,  8th phase (26Aug2020 - 02Sep2020): finished  240 trials in 0 min  5 sec"
     ]
    },
    {
     "name": "stdout",
     "output_type": "stream",
     "text": [
      "\n"
     ]
    },
    {
     "name": "stdout",
     "output_type": "stream",
     "text": [
      "\tEGY, 10th phase (11Sep2020 - 27Sep2020): finished  227 trials in 0 min  5 sec"
     ]
    },
    {
     "name": "stdout",
     "output_type": "stream",
     "text": [
      "\n"
     ]
    },
    {
     "name": "stdout",
     "output_type": "stream",
     "text": [
      "\tITA, 11th phase (14Oct2020 - 23Oct2020): finished 1862 trials in 1 min  0 sec"
     ]
    },
    {
     "name": "stdout",
     "output_type": "stream",
     "text": [
      "\n"
     ]
    },
    {
     "name": "stdout",
     "output_type": "stream",
     "text": [
      "\tEGY,  5th phase (27Jun2020 - 08Jul2020): finished  423 trials in 0 min 10 sec"
     ]
    },
    {
     "name": "stdout",
     "output_type": "stream",
     "text": [
      "\n"
     ]
    },
    {
     "name": "stdout",
     "output_type": "stream",
     "text": [
      "\tIRN,  7th phase (10Aug2020 - 28Aug2020): finished 1834 trials in 1 min  0 sec"
     ]
    },
    {
     "name": "stdout",
     "output_type": "stream",
     "text": [
      "\n"
     ]
    },
    {
     "name": "stdout",
     "output_type": "stream",
     "text": [
      "\tIRN,  8th phase (29Aug2020 - 16Sep2020): finished 1849 trials in 1 min  0 sec"
     ]
    },
    {
     "name": "stdout",
     "output_type": "stream",
     "text": [
      "\n"
     ]
    },
    {
     "name": "stdout",
     "output_type": "stream",
     "text": [
      "\tBOL,  6th phase (01Aug2020 - 10Aug2020): finished  232 trials in 0 min  5 sec"
     ]
    },
    {
     "name": "stdout",
     "output_type": "stream",
     "text": [
      "\n"
     ]
    },
    {
     "name": "stdout",
     "output_type": "stream",
     "text": [
      "\tIRQ,  5th phase (18Aug2020 - 27Aug2020): finished  626 trials in 0 min 15 sec"
     ]
    },
    {
     "name": "stdout",
     "output_type": "stream",
     "text": [
      "\n"
     ]
    },
    {
     "name": "stdout",
     "output_type": "stream",
     "text": [
      "\tIRQ,  8th phase (14Sep2020 - 21Sep2020): finished  240 trials in 0 min  5 sec"
     ]
    },
    {
     "name": "stdout",
     "output_type": "stream",
     "text": [
      "\n"
     ]
    },
    {
     "name": "stdout",
     "output_type": "stream",
     "text": [
      "\tARE,  1st phase (02May2020 - 15May2020): finished 1849 trials in 1 min  0 sec"
     ]
    },
    {
     "name": "stdout",
     "output_type": "stream",
     "text": [
      "\n"
     ]
    },
    {
     "name": "stdout",
     "output_type": "stream",
     "text": [
      "\tIRQ,  1st phase (24Jun2020 - 09Jul2020): finished 1837 trials in 1 min  0 sec"
     ]
    },
    {
     "name": "stdout",
     "output_type": "stream",
     "text": [
      "\n"
     ]
    },
    {
     "name": "stdout",
     "output_type": "stream",
     "text": [
      "\tDOM, 10th phase (18Sep2020 - 05Oct2020): finished  225 trials in 0 min  5 sec"
     ]
    },
    {
     "name": "stdout",
     "output_type": "stream",
     "text": [
      "\n"
     ]
    },
    {
     "name": "stdout",
     "output_type": "stream",
     "text": [
      "\tMEX, 10th phase (25Sep2020 - 05Oct2020): finished 1845 trials in 1 min  0 sec"
     ]
    },
    {
     "name": "stdout",
     "output_type": "stream",
     "text": [
      "\n"
     ]
    },
    {
     "name": "stdout",
     "output_type": "stream",
     "text": [
      "\tMLI, 11th phase (02Oct2020 - 23Oct2020): finished 1673 trials in 0 min 50 sec"
     ]
    },
    {
     "name": "stdout",
     "output_type": "stream",
     "text": [
      "\n"
     ]
    },
    {
     "name": "stdout",
     "output_type": "stream",
     "text": [
      "\tPER,  4th phase (11Jul2020 - 27Jul2020): finished 1933 trials in 1 min  0 sec"
     ]
    },
    {
     "name": "stdout",
     "output_type": "stream",
     "text": [
      "\n"
     ]
    },
    {
     "name": "stdout",
     "output_type": "stream",
     "text": [
      "\tIRN,  0th phase (26Feb2020 - 30Mar2020): finished 1985 trials in 1 min  0 sec"
     ]
    },
    {
     "name": "stdout",
     "output_type": "stream",
     "text": [
      "\n"
     ]
    },
    {
     "name": "stdout",
     "output_type": "stream",
     "text": [
      "Completed optimization. Total: 44 min 36 sec\n"
     ]
    }
   ],
   "source": [
    "# Parameter estimation with SIR-F model\n",
    "analyser.estimate(cs.SIRF)"
   ]
  },
  {
   "cell_type": "code",
   "execution_count": 12,
   "metadata": {
    "collapsed": false
   },
   "outputs": [
    {
     "data": {
      "text/html": [
       "<div>\n",
       "<style scoped>\n",
       "    .dataframe tbody tr th:only-of-type {\n",
       "        vertical-align: middle;\n",
       "    }\n",
       "\n",
       "    .dataframe tbody tr th {\n",
       "        vertical-align: top;\n",
       "    }\n",
       "\n",
       "    .dataframe thead th {\n",
       "        text-align: right;\n",
       "    }\n",
       "</style>\n",
       "<table border=\"1\" class=\"dataframe\">\n",
       "  <thead>\n",
       "    <tr style=\"text-align: right;\">\n",
       "      <th></th>\n",
       "      <th></th>\n",
       "      <th>Type</th>\n",
       "      <th>Start</th>\n",
       "      <th>End</th>\n",
       "      <th>Population</th>\n",
       "      <th>ODE</th>\n",
       "      <th>Rt</th>\n",
       "      <th>theta</th>\n",
       "      <th>kappa</th>\n",
       "      <th>rho</th>\n",
       "      <th>sigma</th>\n",
       "      <th>tau</th>\n",
       "      <th>alpha1 [-]</th>\n",
       "      <th>1/beta [day]</th>\n",
       "      <th>1/gamma [day]</th>\n",
       "      <th>1/alpha2 [day]</th>\n",
       "      <th>RMSLE</th>\n",
       "      <th>Trials</th>\n",
       "      <th>Runtime</th>\n",
       "    </tr>\n",
       "    <tr>\n",
       "      <th>Country</th>\n",
       "      <th>Phase</th>\n",
       "      <th></th>\n",
       "      <th></th>\n",
       "      <th></th>\n",
       "      <th></th>\n",
       "      <th></th>\n",
       "      <th></th>\n",
       "      <th></th>\n",
       "      <th></th>\n",
       "      <th></th>\n",
       "      <th></th>\n",
       "      <th></th>\n",
       "      <th></th>\n",
       "      <th></th>\n",
       "      <th></th>\n",
       "      <th></th>\n",
       "      <th></th>\n",
       "      <th></th>\n",
       "      <th></th>\n",
       "    </tr>\n",
       "  </thead>\n",
       "  <tbody>\n",
       "    <tr>\n",
       "      <th rowspan=\"13\" valign=\"top\">Russia</th>\n",
       "      <th>0th</th>\n",
       "      <td>Past</td>\n",
       "      <td>12Feb2020</td>\n",
       "      <td>07May2020</td>\n",
       "      <td>330457362</td>\n",
       "      <td>SIR-F</td>\n",
       "      <td>0.02</td>\n",
       "      <td>0.602763</td>\n",
       "      <td>0.544883</td>\n",
       "      <td>0.033660</td>\n",
       "      <td>0.002318</td>\n",
       "      <td>360</td>\n",
       "      <td>0.603</td>\n",
       "      <td>7</td>\n",
       "      <td>107</td>\n",
       "      <td>0</td>\n",
       "      <td>19.313273</td>\n",
       "      <td>1398</td>\n",
       "      <td>1 min  0 sec</td>\n",
       "    </tr>\n",
       "    <tr>\n",
       "      <th>1st</th>\n",
       "      <td>Past</td>\n",
       "      <td>08May2020</td>\n",
       "      <td>19May2020</td>\n",
       "      <td>330457362</td>\n",
       "      <td>SIR-F</td>\n",
       "      <td>2.35</td>\n",
       "      <td>0.000966</td>\n",
       "      <td>0.000117</td>\n",
       "      <td>0.011404</td>\n",
       "      <td>0.004739</td>\n",
       "      <td>360</td>\n",
       "      <td>0.001</td>\n",
       "      <td>21</td>\n",
       "      <td>52</td>\n",
       "      <td>2135</td>\n",
       "      <td>0.106860</td>\n",
       "      <td>1250</td>\n",
       "      <td>1 min  0 sec</td>\n",
       "    </tr>\n",
       "    <tr>\n",
       "      <th>2nd</th>\n",
       "      <td>Past</td>\n",
       "      <td>20May2020</td>\n",
       "      <td>30May2020</td>\n",
       "      <td>330457362</td>\n",
       "      <td>SIR-F</td>\n",
       "      <td>1.12</td>\n",
       "      <td>0.000675</td>\n",
       "      <td>0.000112</td>\n",
       "      <td>0.006212</td>\n",
       "      <td>0.005411</td>\n",
       "      <td>360</td>\n",
       "      <td>0.001</td>\n",
       "      <td>40</td>\n",
       "      <td>46</td>\n",
       "      <td>2238</td>\n",
       "      <td>0.105674</td>\n",
       "      <td>1142</td>\n",
       "      <td>1 min  0 sec</td>\n",
       "    </tr>\n",
       "    <tr>\n",
       "      <th>3rd</th>\n",
       "      <td>Past</td>\n",
       "      <td>31May2020</td>\n",
       "      <td>12Jun2020</td>\n",
       "      <td>330457362</td>\n",
       "      <td>SIR-F</td>\n",
       "      <td>0.98</td>\n",
       "      <td>0.018630</td>\n",
       "      <td>0.000019</td>\n",
       "      <td>0.004620</td>\n",
       "      <td>0.004609</td>\n",
       "      <td>360</td>\n",
       "      <td>0.019</td>\n",
       "      <td>54</td>\n",
       "      <td>54</td>\n",
       "      <td>13296</td>\n",
       "      <td>0.112536</td>\n",
       "      <td>1520</td>\n",
       "      <td>1 min  0 sec</td>\n",
       "    </tr>\n",
       "    <tr>\n",
       "      <th>4th</th>\n",
       "      <td>Past</td>\n",
       "      <td>13Jun2020</td>\n",
       "      <td>26Jun2020</td>\n",
       "      <td>330457362</td>\n",
       "      <td>SIR-F</td>\n",
       "      <td>0.94</td>\n",
       "      <td>0.001330</td>\n",
       "      <td>0.000069</td>\n",
       "      <td>0.003437</td>\n",
       "      <td>0.003586</td>\n",
       "      <td>360</td>\n",
       "      <td>0.001</td>\n",
       "      <td>72</td>\n",
       "      <td>69</td>\n",
       "      <td>3612</td>\n",
       "      <td>0.095487</td>\n",
       "      <td>1169</td>\n",
       "      <td>1 min  0 sec</td>\n",
       "    </tr>\n",
       "    <tr>\n",
       "      <th>5th</th>\n",
       "      <td>Past</td>\n",
       "      <td>27Jun2020</td>\n",
       "      <td>10Jul2020</td>\n",
       "      <td>330457362</td>\n",
       "      <td>SIR-F</td>\n",
       "      <td>0.91</td>\n",
       "      <td>0.001361</td>\n",
       "      <td>0.000046</td>\n",
       "      <td>0.002472</td>\n",
       "      <td>0.002661</td>\n",
       "      <td>360</td>\n",
       "      <td>0.001</td>\n",
       "      <td>101</td>\n",
       "      <td>93</td>\n",
       "      <td>5459</td>\n",
       "      <td>0.071461</td>\n",
       "      <td>1089</td>\n",
       "      <td>1 min  0 sec</td>\n",
       "    </tr>\n",
       "    <tr>\n",
       "      <th>6th</th>\n",
       "      <td>Past</td>\n",
       "      <td>11Jul2020</td>\n",
       "      <td>24Jul2020</td>\n",
       "      <td>330457362</td>\n",
       "      <td>SIR-F</td>\n",
       "      <td>0.80</td>\n",
       "      <td>0.022288</td>\n",
       "      <td>0.000006</td>\n",
       "      <td>0.001971</td>\n",
       "      <td>0.002414</td>\n",
       "      <td>360</td>\n",
       "      <td>0.022</td>\n",
       "      <td>126</td>\n",
       "      <td>103</td>\n",
       "      <td>40976</td>\n",
       "      <td>0.064555</td>\n",
       "      <td>1755</td>\n",
       "      <td>1 min  0 sec</td>\n",
       "    </tr>\n",
       "    <tr>\n",
       "      <th>7th</th>\n",
       "      <td>Past</td>\n",
       "      <td>25Jul2020</td>\n",
       "      <td>10Aug2020</td>\n",
       "      <td>330457362</td>\n",
       "      <td>SIR-F</td>\n",
       "      <td>1.17</td>\n",
       "      <td>0.037997</td>\n",
       "      <td>0.000001</td>\n",
       "      <td>0.001533</td>\n",
       "      <td>0.001254</td>\n",
       "      <td>360</td>\n",
       "      <td>0.038</td>\n",
       "      <td>163</td>\n",
       "      <td>199</td>\n",
       "      <td>173585</td>\n",
       "      <td>0.070741</td>\n",
       "      <td>1156</td>\n",
       "      <td>1 min  0 sec</td>\n",
       "    </tr>\n",
       "    <tr>\n",
       "      <th>8th</th>\n",
       "      <td>Past</td>\n",
       "      <td>11Aug2020</td>\n",
       "      <td>28Aug2020</td>\n",
       "      <td>330457362</td>\n",
       "      <td>SIR-F</td>\n",
       "      <td>0.77</td>\n",
       "      <td>0.060249</td>\n",
       "      <td>0.000002</td>\n",
       "      <td>0.001278</td>\n",
       "      <td>0.001558</td>\n",
       "      <td>360</td>\n",
       "      <td>0.060</td>\n",
       "      <td>195</td>\n",
       "      <td>160</td>\n",
       "      <td>132403</td>\n",
       "      <td>0.110930</td>\n",
       "      <td>1242</td>\n",
       "      <td>1 min  0 sec</td>\n",
       "    </tr>\n",
       "    <tr>\n",
       "      <th>9th</th>\n",
       "      <td>Past</td>\n",
       "      <td>29Aug2020</td>\n",
       "      <td>18Sep2020</td>\n",
       "      <td>330457362</td>\n",
       "      <td>SIR-F</td>\n",
       "      <td>0.87</td>\n",
       "      <td>0.063760</td>\n",
       "      <td>0.000001</td>\n",
       "      <td>0.001264</td>\n",
       "      <td>0.001362</td>\n",
       "      <td>360</td>\n",
       "      <td>0.064</td>\n",
       "      <td>197</td>\n",
       "      <td>183</td>\n",
       "      <td>173725</td>\n",
       "      <td>0.143031</td>\n",
       "      <td>1230</td>\n",
       "      <td>1 min  0 sec</td>\n",
       "    </tr>\n",
       "    <tr>\n",
       "      <th>10th</th>\n",
       "      <td>Past</td>\n",
       "      <td>19Sep2020</td>\n",
       "      <td>03Oct2020</td>\n",
       "      <td>330457362</td>\n",
       "      <td>SIR-F</td>\n",
       "      <td>1.51</td>\n",
       "      <td>0.017736</td>\n",
       "      <td>0.000002</td>\n",
       "      <td>0.001666</td>\n",
       "      <td>0.001085</td>\n",
       "      <td>360</td>\n",
       "      <td>0.018</td>\n",
       "      <td>150</td>\n",
       "      <td>230</td>\n",
       "      <td>103630</td>\n",
       "      <td>0.029446</td>\n",
       "      <td>1221</td>\n",
       "      <td>1 min  0 sec</td>\n",
       "    </tr>\n",
       "    <tr>\n",
       "      <th>11th</th>\n",
       "      <td>Past</td>\n",
       "      <td>04Oct2020</td>\n",
       "      <td>14Oct2020</td>\n",
       "      <td>330457362</td>\n",
       "      <td>SIR-F</td>\n",
       "      <td>1.94</td>\n",
       "      <td>0.001376</td>\n",
       "      <td>0.000031</td>\n",
       "      <td>0.002300</td>\n",
       "      <td>0.001150</td>\n",
       "      <td>360</td>\n",
       "      <td>0.001</td>\n",
       "      <td>108</td>\n",
       "      <td>217</td>\n",
       "      <td>8002</td>\n",
       "      <td>0.020971</td>\n",
       "      <td>1886</td>\n",
       "      <td>1 min  0 sec</td>\n",
       "    </tr>\n",
       "    <tr>\n",
       "      <th>12th</th>\n",
       "      <td>Past</td>\n",
       "      <td>15Oct2020</td>\n",
       "      <td>23Oct2020</td>\n",
       "      <td>330457362</td>\n",
       "      <td>SIR-F</td>\n",
       "      <td>1.90</td>\n",
       "      <td>0.000019</td>\n",
       "      <td>0.000041</td>\n",
       "      <td>0.002872</td>\n",
       "      <td>0.001471</td>\n",
       "      <td>360</td>\n",
       "      <td>0.000</td>\n",
       "      <td>87</td>\n",
       "      <td>169</td>\n",
       "      <td>6140</td>\n",
       "      <td>0.016931</td>\n",
       "      <td>1505</td>\n",
       "      <td>1 min  0 sec</td>\n",
       "    </tr>\n",
       "  </tbody>\n",
       "</table>\n",
       "</div>"
      ],
      "text/plain": [
       "               Type      Start        End  Population    ODE    Rt     theta  \\\n",
       "Country Phase                                                                  \n",
       "Russia  0th    Past  12Feb2020  07May2020   330457362  SIR-F  0.02  0.602763   \n",
       "        1st    Past  08May2020  19May2020   330457362  SIR-F  2.35  0.000966   \n",
       "        2nd    Past  20May2020  30May2020   330457362  SIR-F  1.12  0.000675   \n",
       "        3rd    Past  31May2020  12Jun2020   330457362  SIR-F  0.98  0.018630   \n",
       "        4th    Past  13Jun2020  26Jun2020   330457362  SIR-F  0.94  0.001330   \n",
       "        5th    Past  27Jun2020  10Jul2020   330457362  SIR-F  0.91  0.001361   \n",
       "        6th    Past  11Jul2020  24Jul2020   330457362  SIR-F  0.80  0.022288   \n",
       "        7th    Past  25Jul2020  10Aug2020   330457362  SIR-F  1.17  0.037997   \n",
       "        8th    Past  11Aug2020  28Aug2020   330457362  SIR-F  0.77  0.060249   \n",
       "        9th    Past  29Aug2020  18Sep2020   330457362  SIR-F  0.87  0.063760   \n",
       "        10th   Past  19Sep2020  03Oct2020   330457362  SIR-F  1.51  0.017736   \n",
       "        11th   Past  04Oct2020  14Oct2020   330457362  SIR-F  1.94  0.001376   \n",
       "        12th   Past  15Oct2020  23Oct2020   330457362  SIR-F  1.90  0.000019   \n",
       "\n",
       "                  kappa       rho     sigma  tau  alpha1 [-]  1/beta [day]  \\\n",
       "Country Phase                                                                \n",
       "Russia  0th    0.544883  0.033660  0.002318  360       0.603             7   \n",
       "        1st    0.000117  0.011404  0.004739  360       0.001            21   \n",
       "        2nd    0.000112  0.006212  0.005411  360       0.001            40   \n",
       "        3rd    0.000019  0.004620  0.004609  360       0.019            54   \n",
       "        4th    0.000069  0.003437  0.003586  360       0.001            72   \n",
       "        5th    0.000046  0.002472  0.002661  360       0.001           101   \n",
       "        6th    0.000006  0.001971  0.002414  360       0.022           126   \n",
       "        7th    0.000001  0.001533  0.001254  360       0.038           163   \n",
       "        8th    0.000002  0.001278  0.001558  360       0.060           195   \n",
       "        9th    0.000001  0.001264  0.001362  360       0.064           197   \n",
       "        10th   0.000002  0.001666  0.001085  360       0.018           150   \n",
       "        11th   0.000031  0.002300  0.001150  360       0.001           108   \n",
       "        12th   0.000041  0.002872  0.001471  360       0.000            87   \n",
       "\n",
       "               1/gamma [day]  1/alpha2 [day]      RMSLE  Trials       Runtime  \n",
       "Country Phase                                                                  \n",
       "Russia  0th              107               0  19.313273    1398  1 min  0 sec  \n",
       "        1st               52            2135   0.106860    1250  1 min  0 sec  \n",
       "        2nd               46            2238   0.105674    1142  1 min  0 sec  \n",
       "        3rd               54           13296   0.112536    1520  1 min  0 sec  \n",
       "        4th               69            3612   0.095487    1169  1 min  0 sec  \n",
       "        5th               93            5459   0.071461    1089  1 min  0 sec  \n",
       "        6th              103           40976   0.064555    1755  1 min  0 sec  \n",
       "        7th              199          173585   0.070741    1156  1 min  0 sec  \n",
       "        8th              160          132403   0.110930    1242  1 min  0 sec  \n",
       "        9th              183          173725   0.143031    1230  1 min  0 sec  \n",
       "        10th             230          103630   0.029446    1221  1 min  0 sec  \n",
       "        11th             217            8002   0.020971    1886  1 min  0 sec  \n",
       "        12th             169            6140   0.016931    1505  1 min  0 sec  "
      ]
     },
     "execution_count": 12,
     "metadata": {},
     "output_type": "execute_result"
    }
   ],
   "source": [
    "# Show summary\n",
    "analyser.summary(countries=countries_show)"
   ]
  },
  {
   "cell_type": "markdown",
   "metadata": {},
   "source": [
    "## Compare the history of parameters\n",
    "Here, compare the history of parameter values if countries."
   ]
  },
  {
   "cell_type": "code",
   "execution_count": 13,
   "metadata": {
    "collapsed": false
   },
   "outputs": [
    {
     "data": {
      "text/html": [
       "<div>\n",
       "<style scoped>\n",
       "    .dataframe tbody tr th:only-of-type {\n",
       "        vertical-align: middle;\n",
       "    }\n",
       "\n",
       "    .dataframe tbody tr th {\n",
       "        vertical-align: top;\n",
       "    }\n",
       "\n",
       "    .dataframe thead th {\n",
       "        text-align: right;\n",
       "    }\n",
       "</style>\n",
       "<table border=\"1\" class=\"dataframe\">\n",
       "  <thead>\n",
       "    <tr style=\"text-align: right;\">\n",
       "      <th></th>\n",
       "      <th>Date</th>\n",
       "      <th>Country</th>\n",
       "      <th>theta</th>\n",
       "      <th>kappa</th>\n",
       "      <th>rho</th>\n",
       "      <th>sigma</th>\n",
       "      <th>alpha1 [-]</th>\n",
       "      <th>1/alpha2 [day]</th>\n",
       "      <th>1/beta [day]</th>\n",
       "      <th>1/gamma [day]</th>\n",
       "      <th>...</th>\n",
       "      <th>Cancel_events</th>\n",
       "      <th>Gatherings_restrictions</th>\n",
       "      <th>Transport_closing</th>\n",
       "      <th>Stay_home_restrictions</th>\n",
       "      <th>Internal_movement_restrictions</th>\n",
       "      <th>International_movement_restrictions</th>\n",
       "      <th>Information_campaigns</th>\n",
       "      <th>Testing_policy</th>\n",
       "      <th>Contact_tracing</th>\n",
       "      <th>Stringency_index</th>\n",
       "    </tr>\n",
       "  </thead>\n",
       "  <tbody>\n",
       "    <tr>\n",
       "      <th>0</th>\n",
       "      <td>2020-04-04</td>\n",
       "      <td>Mali</td>\n",
       "      <td>0.0627059</td>\n",
       "      <td>0.000823304</td>\n",
       "      <td>0.0353488</td>\n",
       "      <td>0.00959322</td>\n",
       "      <td>0.063</td>\n",
       "      <td>303</td>\n",
       "      <td>7</td>\n",
       "      <td>26</td>\n",
       "      <td>...</td>\n",
       "      <td>2</td>\n",
       "      <td>3</td>\n",
       "      <td>0</td>\n",
       "      <td>1</td>\n",
       "      <td>2</td>\n",
       "      <td>3</td>\n",
       "      <td>2</td>\n",
       "      <td>0</td>\n",
       "      <td>0</td>\n",
       "      <td>72.22</td>\n",
       "    </tr>\n",
       "    <tr>\n",
       "      <th>1</th>\n",
       "      <td>2020-04-05</td>\n",
       "      <td>Mali</td>\n",
       "      <td>0.0627059</td>\n",
       "      <td>0.000823304</td>\n",
       "      <td>0.0353488</td>\n",
       "      <td>0.00959322</td>\n",
       "      <td>0.063</td>\n",
       "      <td>303</td>\n",
       "      <td>7</td>\n",
       "      <td>26</td>\n",
       "      <td>...</td>\n",
       "      <td>2</td>\n",
       "      <td>3</td>\n",
       "      <td>0</td>\n",
       "      <td>1</td>\n",
       "      <td>2</td>\n",
       "      <td>3</td>\n",
       "      <td>2</td>\n",
       "      <td>0</td>\n",
       "      <td>0</td>\n",
       "      <td>72.22</td>\n",
       "    </tr>\n",
       "    <tr>\n",
       "      <th>2</th>\n",
       "      <td>2020-04-06</td>\n",
       "      <td>Mali</td>\n",
       "      <td>0.0627059</td>\n",
       "      <td>0.000823304</td>\n",
       "      <td>0.0353488</td>\n",
       "      <td>0.00959322</td>\n",
       "      <td>0.063</td>\n",
       "      <td>303</td>\n",
       "      <td>7</td>\n",
       "      <td>26</td>\n",
       "      <td>...</td>\n",
       "      <td>2</td>\n",
       "      <td>3</td>\n",
       "      <td>0</td>\n",
       "      <td>1</td>\n",
       "      <td>2</td>\n",
       "      <td>3</td>\n",
       "      <td>2</td>\n",
       "      <td>0</td>\n",
       "      <td>0</td>\n",
       "      <td>72.22</td>\n",
       "    </tr>\n",
       "    <tr>\n",
       "      <th>3</th>\n",
       "      <td>2020-04-07</td>\n",
       "      <td>Mali</td>\n",
       "      <td>0.0627059</td>\n",
       "      <td>0.000823304</td>\n",
       "      <td>0.0353488</td>\n",
       "      <td>0.00959322</td>\n",
       "      <td>0.063</td>\n",
       "      <td>303</td>\n",
       "      <td>7</td>\n",
       "      <td>26</td>\n",
       "      <td>...</td>\n",
       "      <td>2</td>\n",
       "      <td>3</td>\n",
       "      <td>0</td>\n",
       "      <td>1</td>\n",
       "      <td>2</td>\n",
       "      <td>3</td>\n",
       "      <td>2</td>\n",
       "      <td>0</td>\n",
       "      <td>0</td>\n",
       "      <td>72.22</td>\n",
       "    </tr>\n",
       "    <tr>\n",
       "      <th>4</th>\n",
       "      <td>2020-04-08</td>\n",
       "      <td>Mali</td>\n",
       "      <td>0.0627059</td>\n",
       "      <td>0.000823304</td>\n",
       "      <td>0.0353488</td>\n",
       "      <td>0.00959322</td>\n",
       "      <td>0.063</td>\n",
       "      <td>303</td>\n",
       "      <td>7</td>\n",
       "      <td>26</td>\n",
       "      <td>...</td>\n",
       "      <td>2</td>\n",
       "      <td>3</td>\n",
       "      <td>0</td>\n",
       "      <td>1</td>\n",
       "      <td>2</td>\n",
       "      <td>3</td>\n",
       "      <td>2</td>\n",
       "      <td>0</td>\n",
       "      <td>0</td>\n",
       "      <td>72.22</td>\n",
       "    </tr>\n",
       "  </tbody>\n",
       "</table>\n",
       "<p>5 rows × 23 columns</p>\n",
       "</div>"
      ],
      "text/plain": [
       "        Date Country      theta        kappa        rho       sigma  \\\n",
       "0 2020-04-04    Mali  0.0627059  0.000823304  0.0353488  0.00959322   \n",
       "1 2020-04-05    Mali  0.0627059  0.000823304  0.0353488  0.00959322   \n",
       "2 2020-04-06    Mali  0.0627059  0.000823304  0.0353488  0.00959322   \n",
       "3 2020-04-07    Mali  0.0627059  0.000823304  0.0353488  0.00959322   \n",
       "4 2020-04-08    Mali  0.0627059  0.000823304  0.0353488  0.00959322   \n",
       "\n",
       "  alpha1 [-] 1/alpha2 [day] 1/beta [day] 1/gamma [day]  ... Cancel_events  \\\n",
       "0      0.063            303            7            26  ...             2   \n",
       "1      0.063            303            7            26  ...             2   \n",
       "2      0.063            303            7            26  ...             2   \n",
       "3      0.063            303            7            26  ...             2   \n",
       "4      0.063            303            7            26  ...             2   \n",
       "\n",
       "   Gatherings_restrictions  Transport_closing  Stay_home_restrictions  \\\n",
       "0                        3                  0                       1   \n",
       "1                        3                  0                       1   \n",
       "2                        3                  0                       1   \n",
       "3                        3                  0                       1   \n",
       "4                        3                  0                       1   \n",
       "\n",
       "   Internal_movement_restrictions  International_movement_restrictions  \\\n",
       "0                               2                                    3   \n",
       "1                               2                                    3   \n",
       "2                               2                                    3   \n",
       "3                               2                                    3   \n",
       "4                               2                                    3   \n",
       "\n",
       "   Information_campaigns  Testing_policy  Contact_tracing  Stringency_index  \n",
       "0                      2               0                0             72.22  \n",
       "1                      2               0                0             72.22  \n",
       "2                      2               0                0             72.22  \n",
       "3                      2               0                0             72.22  \n",
       "4                      2               0                0             72.22  \n",
       "\n",
       "[5 rows x 23 columns]"
      ]
     },
     "execution_count": 13,
     "metadata": {},
     "output_type": "execute_result"
    }
   ],
   "source": [
    "# All parameter/day parameter/Rt/OxCGRT\n",
    "analyser.track().head()"
   ]
  },
  {
   "cell_type": "markdown",
   "metadata": {},
   "source": [
    "### $Rt$: Reprodcution number $\\mathrm{[-]}$"
   ]
  },
  {
   "cell_type": "code",
   "execution_count": 14,
   "metadata": {
    "collapsed": false
   },
   "outputs": [
    {
     "data": {
      "image/png": "[encoded data removed]",
      "text/plain": [
       "<Figure size 648x432 with 1 Axes>"
      ]
     },
     "metadata": {},
     "output_type": "display_data"
    },
    {
     "data": {
      "text/html": [
       "<div>\n",
       "<style scoped>\n",
       "    .dataframe tbody tr th:only-of-type {\n",
       "        vertical-align: middle;\n",
       "    }\n",
       "\n",
       "    .dataframe tbody tr th {\n",
       "        vertical-align: top;\n",
       "    }\n",
       "\n",
       "    .dataframe thead th {\n",
       "        text-align: right;\n",
       "    }\n",
       "</style>\n",
       "<table border=\"1\" class=\"dataframe\">\n",
       "  <thead>\n",
       "    <tr style=\"text-align: right;\">\n",
       "      <th>Country</th>\n",
       "      <th>Algeria</th>\n",
       "      <th>Armenia</th>\n",
       "      <th>Bahrain</th>\n",
       "      <th>Bolivia</th>\n",
       "      <th>Brazil</th>\n",
       "      <th>Dominican Republic</th>\n",
       "      <th>Egypt</th>\n",
       "      <th>France</th>\n",
       "      <th>Iran</th>\n",
       "      <th>Iraq</th>\n",
       "      <th>Italy</th>\n",
       "      <th>Kuwait</th>\n",
       "      <th>Mali</th>\n",
       "      <th>Mexico</th>\n",
       "      <th>Nigeria</th>\n",
       "      <th>Peru</th>\n",
       "      <th>Russia</th>\n",
       "      <th>Turkey</th>\n",
       "      <th>United Arab Emirates</th>\n",
       "      <th>United States</th>\n",
       "    </tr>\n",
       "    <tr>\n",
       "      <th>Date</th>\n",
       "      <th></th>\n",
       "      <th></th>\n",
       "      <th></th>\n",
       "      <th></th>\n",
       "      <th></th>\n",
       "      <th></th>\n",
       "      <th></th>\n",
       "      <th></th>\n",
       "      <th></th>\n",
       "      <th></th>\n",
       "      <th></th>\n",
       "      <th></th>\n",
       "      <th></th>\n",
       "      <th></th>\n",
       "      <th></th>\n",
       "      <th></th>\n",
       "      <th></th>\n",
       "      <th></th>\n",
       "      <th></th>\n",
       "      <th></th>\n",
       "    </tr>\n",
       "  </thead>\n",
       "  <tbody>\n",
       "    <tr>\n",
       "      <th>2020-10-19</th>\n",
       "      <td>1.47</td>\n",
       "      <td>3.91</td>\n",
       "      <td>0.83</td>\n",
       "      <td>0.54</td>\n",
       "      <td>0.95</td>\n",
       "      <td>0.8</td>\n",
       "      <td>0.56</td>\n",
       "      <td>42.39</td>\n",
       "      <td>1.27</td>\n",
       "      <td>0.88</td>\n",
       "      <td>5.73</td>\n",
       "      <td>1.08</td>\n",
       "      <td>2.25</td>\n",
       "      <td>1.08</td>\n",
       "      <td>0.8</td>\n",
       "      <td>0.61</td>\n",
       "      <td>1.9</td>\n",
       "      <td>1.14</td>\n",
       "      <td>0.79</td>\n",
       "      <td>2.29</td>\n",
       "    </tr>\n",
       "    <tr>\n",
       "      <th>2020-10-20</th>\n",
       "      <td>1.47</td>\n",
       "      <td>3.91</td>\n",
       "      <td>0.83</td>\n",
       "      <td>0.54</td>\n",
       "      <td>0.95</td>\n",
       "      <td>0.8</td>\n",
       "      <td>0.56</td>\n",
       "      <td>42.39</td>\n",
       "      <td>1.27</td>\n",
       "      <td>0.88</td>\n",
       "      <td>5.73</td>\n",
       "      <td>1.08</td>\n",
       "      <td>2.25</td>\n",
       "      <td>1.08</td>\n",
       "      <td>0.8</td>\n",
       "      <td>0.61</td>\n",
       "      <td>1.9</td>\n",
       "      <td>1.14</td>\n",
       "      <td>0.79</td>\n",
       "      <td>2.29</td>\n",
       "    </tr>\n",
       "    <tr>\n",
       "      <th>2020-10-21</th>\n",
       "      <td>1.47</td>\n",
       "      <td>3.91</td>\n",
       "      <td>0.83</td>\n",
       "      <td>0.54</td>\n",
       "      <td>0.95</td>\n",
       "      <td>0.8</td>\n",
       "      <td>0.56</td>\n",
       "      <td>42.39</td>\n",
       "      <td>1.27</td>\n",
       "      <td>0.88</td>\n",
       "      <td>5.73</td>\n",
       "      <td>1.08</td>\n",
       "      <td>2.25</td>\n",
       "      <td>1.08</td>\n",
       "      <td>0.8</td>\n",
       "      <td>0.61</td>\n",
       "      <td>1.9</td>\n",
       "      <td>1.14</td>\n",
       "      <td>0.79</td>\n",
       "      <td>2.29</td>\n",
       "    </tr>\n",
       "    <tr>\n",
       "      <th>2020-10-22</th>\n",
       "      <td>1.47</td>\n",
       "      <td>3.91</td>\n",
       "      <td>0.83</td>\n",
       "      <td>0.54</td>\n",
       "      <td>0.95</td>\n",
       "      <td>0.8</td>\n",
       "      <td>0.56</td>\n",
       "      <td>42.39</td>\n",
       "      <td>1.27</td>\n",
       "      <td>0.88</td>\n",
       "      <td>5.73</td>\n",
       "      <td>1.08</td>\n",
       "      <td>2.25</td>\n",
       "      <td>1.08</td>\n",
       "      <td>0.8</td>\n",
       "      <td>0.61</td>\n",
       "      <td>1.9</td>\n",
       "      <td>1.14</td>\n",
       "      <td>0.79</td>\n",
       "      <td>2.29</td>\n",
       "    </tr>\n",
       "    <tr>\n",
       "      <th>2020-10-23</th>\n",
       "      <td>1.47</td>\n",
       "      <td>3.91</td>\n",
       "      <td>0.83</td>\n",
       "      <td>0.54</td>\n",
       "      <td>0.95</td>\n",
       "      <td>0.8</td>\n",
       "      <td>0.56</td>\n",
       "      <td>42.39</td>\n",
       "      <td>1.27</td>\n",
       "      <td>0.88</td>\n",
       "      <td>5.73</td>\n",
       "      <td>1.08</td>\n",
       "      <td>2.25</td>\n",
       "      <td>1.08</td>\n",
       "      <td>0.8</td>\n",
       "      <td>0.61</td>\n",
       "      <td>1.9</td>\n",
       "      <td>1.14</td>\n",
       "      <td>0.79</td>\n",
       "      <td>2.29</td>\n",
       "    </tr>\n",
       "  </tbody>\n",
       "</table>\n",
       "</div>"
      ],
      "text/plain": [
       "Country     Algeria  Armenia  Bahrain  Bolivia  Brazil  Dominican Republic  \\\n",
       "Date                                                                         \n",
       "2020-10-19     1.47     3.91     0.83     0.54    0.95                 0.8   \n",
       "2020-10-20     1.47     3.91     0.83     0.54    0.95                 0.8   \n",
       "2020-10-21     1.47     3.91     0.83     0.54    0.95                 0.8   \n",
       "2020-10-22     1.47     3.91     0.83     0.54    0.95                 0.8   \n",
       "2020-10-23     1.47     3.91     0.83     0.54    0.95                 0.8   \n",
       "\n",
       "Country     Egypt  France  Iran  Iraq  Italy  Kuwait  Mali  Mexico  Nigeria  \\\n",
       "Date                                                                          \n",
       "2020-10-19   0.56   42.39  1.27  0.88   5.73    1.08  2.25    1.08      0.8   \n",
       "2020-10-20   0.56   42.39  1.27  0.88   5.73    1.08  2.25    1.08      0.8   \n",
       "2020-10-21   0.56   42.39  1.27  0.88   5.73    1.08  2.25    1.08      0.8   \n",
       "2020-10-22   0.56   42.39  1.27  0.88   5.73    1.08  2.25    1.08      0.8   \n",
       "2020-10-23   0.56   42.39  1.27  0.88   5.73    1.08  2.25    1.08      0.8   \n",
       "\n",
       "Country     Peru  Russia  Turkey  United Arab Emirates  United States  \n",
       "Date                                                                   \n",
       "2020-10-19  0.61     1.9    1.14                  0.79           2.29  \n",
       "2020-10-20  0.61     1.9    1.14                  0.79           2.29  \n",
       "2020-10-21  0.61     1.9    1.14                  0.79           2.29  \n",
       "2020-10-22  0.61     1.9    1.14                  0.79           2.29  \n",
       "2020-10-23  0.61     1.9    1.14                  0.79           2.29  "
      ]
     },
     "execution_count": 14,
     "metadata": {},
     "output_type": "execute_result"
    }
   ],
   "source": [
    "analyser.history(\"Rt\", roll_window=None).tail()"
   ]
  },
  {
   "cell_type": "markdown",
   "metadata": {},
   "source": [
    "### $\\rho$: Effective contact rate $\\mathrm{[-]}$"
   ]
  },
  {
   "cell_type": "code",
   "execution_count": 15,
   "metadata": {
    "collapsed": false
   },
   "outputs": [
    {
     "data": {
      "image/png": "[encoded data removed]",
      "text/plain": [
       "<Figure size 648x432 with 1 Axes>"
      ]
     },
     "metadata": {},
     "output_type": "display_data"
    },
    {
     "data": {
      "text/html": [
       "<div>\n",
       "<style scoped>\n",
       "    .dataframe tbody tr th:only-of-type {\n",
       "        vertical-align: middle;\n",
       "    }\n",
       "\n",
       "    .dataframe tbody tr th {\n",
       "        vertical-align: top;\n",
       "    }\n",
       "\n",
       "    .dataframe thead th {\n",
       "        text-align: right;\n",
       "    }\n",
       "</style>\n",
       "<table border=\"1\" class=\"dataframe\">\n",
       "  <thead>\n",
       "    <tr style=\"text-align: right;\">\n",
       "      <th>Country</th>\n",
       "      <th>Algeria</th>\n",
       "      <th>Armenia</th>\n",
       "      <th>Bahrain</th>\n",
       "      <th>Bolivia</th>\n",
       "      <th>Brazil</th>\n",
       "      <th>Dominican Republic</th>\n",
       "      <th>Egypt</th>\n",
       "      <th>France</th>\n",
       "      <th>Iran</th>\n",
       "      <th>Iraq</th>\n",
       "      <th>Italy</th>\n",
       "      <th>Kuwait</th>\n",
       "      <th>Mali</th>\n",
       "      <th>Mexico</th>\n",
       "      <th>Nigeria</th>\n",
       "      <th>Peru</th>\n",
       "      <th>Russia</th>\n",
       "      <th>Turkey</th>\n",
       "      <th>United Arab Emirates</th>\n",
       "      <th>United States</th>\n",
       "    </tr>\n",
       "    <tr>\n",
       "      <th>Date</th>\n",
       "      <th></th>\n",
       "      <th></th>\n",
       "      <th></th>\n",
       "      <th></th>\n",
       "      <th></th>\n",
       "      <th></th>\n",
       "      <th></th>\n",
       "      <th></th>\n",
       "      <th></th>\n",
       "      <th></th>\n",
       "      <th></th>\n",
       "      <th></th>\n",
       "      <th></th>\n",
       "      <th></th>\n",
       "      <th></th>\n",
       "      <th></th>\n",
       "      <th></th>\n",
       "      <th></th>\n",
       "      <th></th>\n",
       "      <th></th>\n",
       "    </tr>\n",
       "  </thead>\n",
       "  <tbody>\n",
       "    <tr>\n",
       "      <th>2020-10-19</th>\n",
       "      <td>0.003063</td>\n",
       "      <td>0.025669</td>\n",
       "      <td>0.024839</td>\n",
       "      <td>0.002304</td>\n",
       "      <td>0.01636</td>\n",
       "      <td>0.005403</td>\n",
       "      <td>0.034486</td>\n",
       "      <td>0.008942</td>\n",
       "      <td>0.01625</td>\n",
       "      <td>0.015498</td>\n",
       "      <td>0.022773</td>\n",
       "      <td>0.025873</td>\n",
       "      <td>0.005069</td>\n",
       "      <td>0.030271</td>\n",
       "      <td>0.004322</td>\n",
       "      <td>0.000913</td>\n",
       "      <td>0.002872</td>\n",
       "      <td>0.012722</td>\n",
       "      <td>0.040439</td>\n",
       "      <td>0.002973</td>\n",
       "    </tr>\n",
       "    <tr>\n",
       "      <th>2020-10-20</th>\n",
       "      <td>0.003063</td>\n",
       "      <td>0.025669</td>\n",
       "      <td>0.024839</td>\n",
       "      <td>0.002304</td>\n",
       "      <td>0.01636</td>\n",
       "      <td>0.005403</td>\n",
       "      <td>0.034486</td>\n",
       "      <td>0.008942</td>\n",
       "      <td>0.01625</td>\n",
       "      <td>0.015498</td>\n",
       "      <td>0.022773</td>\n",
       "      <td>0.025873</td>\n",
       "      <td>0.005069</td>\n",
       "      <td>0.030271</td>\n",
       "      <td>0.004322</td>\n",
       "      <td>0.000913</td>\n",
       "      <td>0.002872</td>\n",
       "      <td>0.012722</td>\n",
       "      <td>0.040439</td>\n",
       "      <td>0.002973</td>\n",
       "    </tr>\n",
       "    <tr>\n",
       "      <th>2020-10-21</th>\n",
       "      <td>0.003063</td>\n",
       "      <td>0.025669</td>\n",
       "      <td>0.024839</td>\n",
       "      <td>0.002304</td>\n",
       "      <td>0.01636</td>\n",
       "      <td>0.005403</td>\n",
       "      <td>0.034486</td>\n",
       "      <td>0.008942</td>\n",
       "      <td>0.01625</td>\n",
       "      <td>0.015498</td>\n",
       "      <td>0.022773</td>\n",
       "      <td>0.025873</td>\n",
       "      <td>0.005069</td>\n",
       "      <td>0.030271</td>\n",
       "      <td>0.004322</td>\n",
       "      <td>0.000913</td>\n",
       "      <td>0.002872</td>\n",
       "      <td>0.012722</td>\n",
       "      <td>0.040439</td>\n",
       "      <td>0.002973</td>\n",
       "    </tr>\n",
       "    <tr>\n",
       "      <th>2020-10-22</th>\n",
       "      <td>0.003063</td>\n",
       "      <td>0.025669</td>\n",
       "      <td>0.024839</td>\n",
       "      <td>0.002304</td>\n",
       "      <td>0.01636</td>\n",
       "      <td>0.005403</td>\n",
       "      <td>0.034486</td>\n",
       "      <td>0.008942</td>\n",
       "      <td>0.01625</td>\n",
       "      <td>0.015498</td>\n",
       "      <td>0.022773</td>\n",
       "      <td>0.025873</td>\n",
       "      <td>0.005069</td>\n",
       "      <td>0.030271</td>\n",
       "      <td>0.004322</td>\n",
       "      <td>0.000913</td>\n",
       "      <td>0.002872</td>\n",
       "      <td>0.012722</td>\n",
       "      <td>0.040439</td>\n",
       "      <td>0.002973</td>\n",
       "    </tr>\n",
       "    <tr>\n",
       "      <th>2020-10-23</th>\n",
       "      <td>0.003063</td>\n",
       "      <td>0.025669</td>\n",
       "      <td>0.024839</td>\n",
       "      <td>0.002304</td>\n",
       "      <td>0.01636</td>\n",
       "      <td>0.005403</td>\n",
       "      <td>0.034486</td>\n",
       "      <td>0.008942</td>\n",
       "      <td>0.01625</td>\n",
       "      <td>0.015498</td>\n",
       "      <td>0.022773</td>\n",
       "      <td>0.025873</td>\n",
       "      <td>0.005069</td>\n",
       "      <td>0.030271</td>\n",
       "      <td>0.004322</td>\n",
       "      <td>0.000913</td>\n",
       "      <td>0.002872</td>\n",
       "      <td>0.012722</td>\n",
       "      <td>0.040439</td>\n",
       "      <td>0.002973</td>\n",
       "    </tr>\n",
       "  </tbody>\n",
       "</table>\n",
       "</div>"
      ],
      "text/plain": [
       "Country      Algeria   Armenia   Bahrain   Bolivia   Brazil  \\\n",
       "Date                                                          \n",
       "2020-10-19  0.003063  0.025669  0.024839  0.002304  0.01636   \n",
       "2020-10-20  0.003063  0.025669  0.024839  0.002304  0.01636   \n",
       "2020-10-21  0.003063  0.025669  0.024839  0.002304  0.01636   \n",
       "2020-10-22  0.003063  0.025669  0.024839  0.002304  0.01636   \n",
       "2020-10-23  0.003063  0.025669  0.024839  0.002304  0.01636   \n",
       "\n",
       "Country     Dominican Republic     Egypt    France     Iran      Iraq  \\\n",
       "Date                                                                    \n",
       "2020-10-19            0.005403  0.034486  0.008942  0.01625  0.015498   \n",
       "2020-10-20            0.005403  0.034486  0.008942  0.01625  0.015498   \n",
       "2020-10-21            0.005403  0.034486  0.008942  0.01625  0.015498   \n",
       "2020-10-22            0.005403  0.034486  0.008942  0.01625  0.015498   \n",
       "2020-10-23            0.005403  0.034486  0.008942  0.01625  0.015498   \n",
       "\n",
       "Country        Italy    Kuwait      Mali    Mexico   Nigeria      Peru  \\\n",
       "Date                                                                     \n",
       "2020-10-19  0.022773  0.025873  0.005069  0.030271  0.004322  0.000913   \n",
       "2020-10-20  0.022773  0.025873  0.005069  0.030271  0.004322  0.000913   \n",
       "2020-10-21  0.022773  0.025873  0.005069  0.030271  0.004322  0.000913   \n",
       "2020-10-22  0.022773  0.025873  0.005069  0.030271  0.004322  0.000913   \n",
       "2020-10-23  0.022773  0.025873  0.005069  0.030271  0.004322  0.000913   \n",
       "\n",
       "Country       Russia    Turkey  United Arab Emirates  United States  \n",
       "Date                                                                 \n",
       "2020-10-19  0.002872  0.012722              0.040439       0.002973  \n",
       "2020-10-20  0.002872  0.012722              0.040439       0.002973  \n",
       "2020-10-21  0.002872  0.012722              0.040439       0.002973  \n",
       "2020-10-22  0.002872  0.012722              0.040439       0.002973  \n",
       "2020-10-23  0.002872  0.012722              0.040439       0.002973  "
      ]
     },
     "execution_count": 15,
     "metadata": {},
     "output_type": "execute_result"
    }
   ],
   "source": [
    "analyser.history(\"rho\", roll_window=None).tail()"
   ]
  },
  {
   "cell_type": "markdown",
   "metadata": {},
   "source": [
    "### $\\sigma$: Recovery rate $\\mathrm{[-]}$"
   ]
  },
  {
   "cell_type": "code",
   "execution_count": 16,
   "metadata": {
    "collapsed": false
   },
   "outputs": [
    {
     "data": {
      "image/png": "[encoded data removed]",
      "text/plain": [
       "<Figure size 648x432 with 1 Axes>"
      ]
     },
     "metadata": {},
     "output_type": "display_data"
    },
    {
     "data": {
      "text/html": [
       "<div>\n",
       "<style scoped>\n",
       "    .dataframe tbody tr th:only-of-type {\n",
       "        vertical-align: middle;\n",
       "    }\n",
       "\n",
       "    .dataframe tbody tr th {\n",
       "        vertical-align: top;\n",
       "    }\n",
       "\n",
       "    .dataframe thead th {\n",
       "        text-align: right;\n",
       "    }\n",
       "</style>\n",
       "<table border=\"1\" class=\"dataframe\">\n",
       "  <thead>\n",
       "    <tr style=\"text-align: right;\">\n",
       "      <th>Country</th>\n",
       "      <th>Algeria</th>\n",
       "      <th>Armenia</th>\n",
       "      <th>Bahrain</th>\n",
       "      <th>Bolivia</th>\n",
       "      <th>Brazil</th>\n",
       "      <th>Dominican Republic</th>\n",
       "      <th>Egypt</th>\n",
       "      <th>France</th>\n",
       "      <th>Iran</th>\n",
       "      <th>Iraq</th>\n",
       "      <th>Italy</th>\n",
       "      <th>Kuwait</th>\n",
       "      <th>Mali</th>\n",
       "      <th>Mexico</th>\n",
       "      <th>Nigeria</th>\n",
       "      <th>Peru</th>\n",
       "      <th>Russia</th>\n",
       "      <th>Turkey</th>\n",
       "      <th>United Arab Emirates</th>\n",
       "      <th>United States</th>\n",
       "    </tr>\n",
       "    <tr>\n",
       "      <th>Date</th>\n",
       "      <th></th>\n",
       "      <th></th>\n",
       "      <th></th>\n",
       "      <th></th>\n",
       "      <th></th>\n",
       "      <th></th>\n",
       "      <th></th>\n",
       "      <th></th>\n",
       "      <th></th>\n",
       "      <th></th>\n",
       "      <th></th>\n",
       "      <th></th>\n",
       "      <th></th>\n",
       "      <th></th>\n",
       "      <th></th>\n",
       "      <th></th>\n",
       "      <th></th>\n",
       "      <th></th>\n",
       "      <th></th>\n",
       "      <th></th>\n",
       "    </tr>\n",
       "  </thead>\n",
       "  <tbody>\n",
       "    <tr>\n",
       "      <th>2020-10-19</th>\n",
       "      <td>0.00198</td>\n",
       "      <td>0.006401</td>\n",
       "      <td>0.029879</td>\n",
       "      <td>0.00394</td>\n",
       "      <td>0.016818</td>\n",
       "      <td>0.006691</td>\n",
       "      <td>0.027865</td>\n",
       "      <td>0.000174</td>\n",
       "      <td>0.011815</td>\n",
       "      <td>0.017351</td>\n",
       "      <td>0.003827</td>\n",
       "      <td>0.02371</td>\n",
       "      <td>0.00224</td>\n",
       "      <td>0.0257</td>\n",
       "      <td>0.005387</td>\n",
       "      <td>0.001466</td>\n",
       "      <td>0.001471</td>\n",
       "      <td>0.010744</td>\n",
       "      <td>0.051108</td>\n",
       "      <td>0.001258</td>\n",
       "    </tr>\n",
       "    <tr>\n",
       "      <th>2020-10-20</th>\n",
       "      <td>0.00198</td>\n",
       "      <td>0.006401</td>\n",
       "      <td>0.029879</td>\n",
       "      <td>0.00394</td>\n",
       "      <td>0.016818</td>\n",
       "      <td>0.006691</td>\n",
       "      <td>0.027865</td>\n",
       "      <td>0.000174</td>\n",
       "      <td>0.011815</td>\n",
       "      <td>0.017351</td>\n",
       "      <td>0.003827</td>\n",
       "      <td>0.02371</td>\n",
       "      <td>0.00224</td>\n",
       "      <td>0.0257</td>\n",
       "      <td>0.005387</td>\n",
       "      <td>0.001466</td>\n",
       "      <td>0.001471</td>\n",
       "      <td>0.010744</td>\n",
       "      <td>0.051108</td>\n",
       "      <td>0.001258</td>\n",
       "    </tr>\n",
       "    <tr>\n",
       "      <th>2020-10-21</th>\n",
       "      <td>0.00198</td>\n",
       "      <td>0.006401</td>\n",
       "      <td>0.029879</td>\n",
       "      <td>0.00394</td>\n",
       "      <td>0.016818</td>\n",
       "      <td>0.006691</td>\n",
       "      <td>0.027865</td>\n",
       "      <td>0.000174</td>\n",
       "      <td>0.011815</td>\n",
       "      <td>0.017351</td>\n",
       "      <td>0.003827</td>\n",
       "      <td>0.02371</td>\n",
       "      <td>0.00224</td>\n",
       "      <td>0.0257</td>\n",
       "      <td>0.005387</td>\n",
       "      <td>0.001466</td>\n",
       "      <td>0.001471</td>\n",
       "      <td>0.010744</td>\n",
       "      <td>0.051108</td>\n",
       "      <td>0.001258</td>\n",
       "    </tr>\n",
       "    <tr>\n",
       "      <th>2020-10-22</th>\n",
       "      <td>0.00198</td>\n",
       "      <td>0.006401</td>\n",
       "      <td>0.029879</td>\n",
       "      <td>0.00394</td>\n",
       "      <td>0.016818</td>\n",
       "      <td>0.006691</td>\n",
       "      <td>0.027865</td>\n",
       "      <td>0.000174</td>\n",
       "      <td>0.011815</td>\n",
       "      <td>0.017351</td>\n",
       "      <td>0.003827</td>\n",
       "      <td>0.02371</td>\n",
       "      <td>0.00224</td>\n",
       "      <td>0.0257</td>\n",
       "      <td>0.005387</td>\n",
       "      <td>0.001466</td>\n",
       "      <td>0.001471</td>\n",
       "      <td>0.010744</td>\n",
       "      <td>0.051108</td>\n",
       "      <td>0.001258</td>\n",
       "    </tr>\n",
       "    <tr>\n",
       "      <th>2020-10-23</th>\n",
       "      <td>0.00198</td>\n",
       "      <td>0.006401</td>\n",
       "      <td>0.029879</td>\n",
       "      <td>0.00394</td>\n",
       "      <td>0.016818</td>\n",
       "      <td>0.006691</td>\n",
       "      <td>0.027865</td>\n",
       "      <td>0.000174</td>\n",
       "      <td>0.011815</td>\n",
       "      <td>0.017351</td>\n",
       "      <td>0.003827</td>\n",
       "      <td>0.02371</td>\n",
       "      <td>0.00224</td>\n",
       "      <td>0.0257</td>\n",
       "      <td>0.005387</td>\n",
       "      <td>0.001466</td>\n",
       "      <td>0.001471</td>\n",
       "      <td>0.010744</td>\n",
       "      <td>0.051108</td>\n",
       "      <td>0.001258</td>\n",
       "    </tr>\n",
       "  </tbody>\n",
       "</table>\n",
       "</div>"
      ],
      "text/plain": [
       "Country     Algeria   Armenia   Bahrain  Bolivia    Brazil  \\\n",
       "Date                                                         \n",
       "2020-10-19  0.00198  0.006401  0.029879  0.00394  0.016818   \n",
       "2020-10-20  0.00198  0.006401  0.029879  0.00394  0.016818   \n",
       "2020-10-21  0.00198  0.006401  0.029879  0.00394  0.016818   \n",
       "2020-10-22  0.00198  0.006401  0.029879  0.00394  0.016818   \n",
       "2020-10-23  0.00198  0.006401  0.029879  0.00394  0.016818   \n",
       "\n",
       "Country     Dominican Republic     Egypt    France      Iran      Iraq  \\\n",
       "Date                                                                     \n",
       "2020-10-19            0.006691  0.027865  0.000174  0.011815  0.017351   \n",
       "2020-10-20            0.006691  0.027865  0.000174  0.011815  0.017351   \n",
       "2020-10-21            0.006691  0.027865  0.000174  0.011815  0.017351   \n",
       "2020-10-22            0.006691  0.027865  0.000174  0.011815  0.017351   \n",
       "2020-10-23            0.006691  0.027865  0.000174  0.011815  0.017351   \n",
       "\n",
       "Country        Italy   Kuwait     Mali  Mexico   Nigeria      Peru    Russia  \\\n",
       "Date                                                                           \n",
       "2020-10-19  0.003827  0.02371  0.00224  0.0257  0.005387  0.001466  0.001471   \n",
       "2020-10-20  0.003827  0.02371  0.00224  0.0257  0.005387  0.001466  0.001471   \n",
       "2020-10-21  0.003827  0.02371  0.00224  0.0257  0.005387  0.001466  0.001471   \n",
       "2020-10-22  0.003827  0.02371  0.00224  0.0257  0.005387  0.001466  0.001471   \n",
       "2020-10-23  0.003827  0.02371  0.00224  0.0257  0.005387  0.001466  0.001471   \n",
       "\n",
       "Country       Turkey  United Arab Emirates  United States  \n",
       "Date                                                       \n",
       "2020-10-19  0.010744              0.051108       0.001258  \n",
       "2020-10-20  0.010744              0.051108       0.001258  \n",
       "2020-10-21  0.010744              0.051108       0.001258  \n",
       "2020-10-22  0.010744              0.051108       0.001258  \n",
       "2020-10-23  0.010744              0.051108       0.001258  "
      ]
     },
     "execution_count": 16,
     "metadata": {},
     "output_type": "execute_result"
    }
   ],
   "source": [
    "analyser.history(\"sigma\", roll_window=None).tail()"
   ]
  },
  {
   "cell_type": "markdown",
   "metadata": {},
   "source": [
    "### $\\kappa$: Mortality rate of infected cases $\\mathrm{[-]}$"
   ]
  },
  {
   "cell_type": "code",
   "execution_count": 17,
   "metadata": {
    "collapsed": false
   },
   "outputs": [
    {
     "data": {
      "image/png": "[encoded data removed]",
      "text/plain": [
       "<Figure size 648x432 with 1 Axes>"
      ]
     },
     "metadata": {},
     "output_type": "display_data"
    },
    {
     "data": {
      "text/html": [
       "<div>\n",
       "<style scoped>\n",
       "    .dataframe tbody tr th:only-of-type {\n",
       "        vertical-align: middle;\n",
       "    }\n",
       "\n",
       "    .dataframe tbody tr th {\n",
       "        vertical-align: top;\n",
       "    }\n",
       "\n",
       "    .dataframe thead th {\n",
       "        text-align: right;\n",
       "    }\n",
       "</style>\n",
       "<table border=\"1\" class=\"dataframe\">\n",
       "  <thead>\n",
       "    <tr style=\"text-align: right;\">\n",
       "      <th>Country</th>\n",
       "      <th>Algeria</th>\n",
       "      <th>Armenia</th>\n",
       "      <th>Bahrain</th>\n",
       "      <th>Bolivia</th>\n",
       "      <th>Brazil</th>\n",
       "      <th>Dominican Republic</th>\n",
       "      <th>Egypt</th>\n",
       "      <th>France</th>\n",
       "      <th>Iran</th>\n",
       "      <th>Iraq</th>\n",
       "      <th>Italy</th>\n",
       "      <th>Kuwait</th>\n",
       "      <th>Mali</th>\n",
       "      <th>Mexico</th>\n",
       "      <th>Nigeria</th>\n",
       "      <th>Peru</th>\n",
       "      <th>Russia</th>\n",
       "      <th>Turkey</th>\n",
       "      <th>United Arab Emirates</th>\n",
       "      <th>United States</th>\n",
       "    </tr>\n",
       "    <tr>\n",
       "      <th>Date</th>\n",
       "      <th></th>\n",
       "      <th></th>\n",
       "      <th></th>\n",
       "      <th></th>\n",
       "      <th></th>\n",
       "      <th></th>\n",
       "      <th></th>\n",
       "      <th></th>\n",
       "      <th></th>\n",
       "      <th></th>\n",
       "      <th></th>\n",
       "      <th></th>\n",
       "      <th></th>\n",
       "      <th></th>\n",
       "      <th></th>\n",
       "      <th></th>\n",
       "      <th></th>\n",
       "      <th></th>\n",
       "      <th></th>\n",
       "      <th></th>\n",
       "    </tr>\n",
       "  </thead>\n",
       "  <tbody>\n",
       "    <tr>\n",
       "      <th>2020-10-19</th>\n",
       "      <td>0.000048</td>\n",
       "      <td>0.000162</td>\n",
       "      <td>0.000172</td>\n",
       "      <td>0.000036</td>\n",
       "      <td>0.000092</td>\n",
       "      <td>0.000071</td>\n",
       "      <td>0.000024</td>\n",
       "      <td>0.000037</td>\n",
       "      <td>0.000914</td>\n",
       "      <td>0.000002</td>\n",
       "      <td>0.000148</td>\n",
       "      <td>0.000172</td>\n",
       "      <td>0.000008</td>\n",
       "      <td>0.000388</td>\n",
       "      <td>0.000021</td>\n",
       "      <td>0.00001</td>\n",
       "      <td>0.000041</td>\n",
       "      <td>0.000109</td>\n",
       "      <td>0.000079</td>\n",
       "      <td>0.000037</td>\n",
       "    </tr>\n",
       "    <tr>\n",
       "      <th>2020-10-20</th>\n",
       "      <td>0.000048</td>\n",
       "      <td>0.000162</td>\n",
       "      <td>0.000172</td>\n",
       "      <td>0.000036</td>\n",
       "      <td>0.000092</td>\n",
       "      <td>0.000071</td>\n",
       "      <td>0.000024</td>\n",
       "      <td>0.000037</td>\n",
       "      <td>0.000914</td>\n",
       "      <td>0.000002</td>\n",
       "      <td>0.000148</td>\n",
       "      <td>0.000172</td>\n",
       "      <td>0.000008</td>\n",
       "      <td>0.000388</td>\n",
       "      <td>0.000021</td>\n",
       "      <td>0.00001</td>\n",
       "      <td>0.000041</td>\n",
       "      <td>0.000109</td>\n",
       "      <td>0.000079</td>\n",
       "      <td>0.000037</td>\n",
       "    </tr>\n",
       "    <tr>\n",
       "      <th>2020-10-21</th>\n",
       "      <td>0.000048</td>\n",
       "      <td>0.000162</td>\n",
       "      <td>0.000172</td>\n",
       "      <td>0.000036</td>\n",
       "      <td>0.000092</td>\n",
       "      <td>0.000071</td>\n",
       "      <td>0.000024</td>\n",
       "      <td>0.000037</td>\n",
       "      <td>0.000914</td>\n",
       "      <td>0.000002</td>\n",
       "      <td>0.000148</td>\n",
       "      <td>0.000172</td>\n",
       "      <td>0.000008</td>\n",
       "      <td>0.000388</td>\n",
       "      <td>0.000021</td>\n",
       "      <td>0.00001</td>\n",
       "      <td>0.000041</td>\n",
       "      <td>0.000109</td>\n",
       "      <td>0.000079</td>\n",
       "      <td>0.000037</td>\n",
       "    </tr>\n",
       "    <tr>\n",
       "      <th>2020-10-22</th>\n",
       "      <td>0.000048</td>\n",
       "      <td>0.000162</td>\n",
       "      <td>0.000172</td>\n",
       "      <td>0.000036</td>\n",
       "      <td>0.000092</td>\n",
       "      <td>0.000071</td>\n",
       "      <td>0.000024</td>\n",
       "      <td>0.000037</td>\n",
       "      <td>0.000914</td>\n",
       "      <td>0.000002</td>\n",
       "      <td>0.000148</td>\n",
       "      <td>0.000172</td>\n",
       "      <td>0.000008</td>\n",
       "      <td>0.000388</td>\n",
       "      <td>0.000021</td>\n",
       "      <td>0.00001</td>\n",
       "      <td>0.000041</td>\n",
       "      <td>0.000109</td>\n",
       "      <td>0.000079</td>\n",
       "      <td>0.000037</td>\n",
       "    </tr>\n",
       "    <tr>\n",
       "      <th>2020-10-23</th>\n",
       "      <td>0.000048</td>\n",
       "      <td>0.000162</td>\n",
       "      <td>0.000172</td>\n",
       "      <td>0.000036</td>\n",
       "      <td>0.000092</td>\n",
       "      <td>0.000071</td>\n",
       "      <td>0.000024</td>\n",
       "      <td>0.000037</td>\n",
       "      <td>0.000914</td>\n",
       "      <td>0.000002</td>\n",
       "      <td>0.000148</td>\n",
       "      <td>0.000172</td>\n",
       "      <td>0.000008</td>\n",
       "      <td>0.000388</td>\n",
       "      <td>0.000021</td>\n",
       "      <td>0.00001</td>\n",
       "      <td>0.000041</td>\n",
       "      <td>0.000109</td>\n",
       "      <td>0.000079</td>\n",
       "      <td>0.000037</td>\n",
       "    </tr>\n",
       "  </tbody>\n",
       "</table>\n",
       "</div>"
      ],
      "text/plain": [
       "Country      Algeria   Armenia   Bahrain   Bolivia    Brazil  \\\n",
       "Date                                                           \n",
       "2020-10-19  0.000048  0.000162  0.000172  0.000036  0.000092   \n",
       "2020-10-20  0.000048  0.000162  0.000172  0.000036  0.000092   \n",
       "2020-10-21  0.000048  0.000162  0.000172  0.000036  0.000092   \n",
       "2020-10-22  0.000048  0.000162  0.000172  0.000036  0.000092   \n",
       "2020-10-23  0.000048  0.000162  0.000172  0.000036  0.000092   \n",
       "\n",
       "Country     Dominican Republic     Egypt    France      Iran      Iraq  \\\n",
       "Date                                                                     \n",
       "2020-10-19            0.000071  0.000024  0.000037  0.000914  0.000002   \n",
       "2020-10-20            0.000071  0.000024  0.000037  0.000914  0.000002   \n",
       "2020-10-21            0.000071  0.000024  0.000037  0.000914  0.000002   \n",
       "2020-10-22            0.000071  0.000024  0.000037  0.000914  0.000002   \n",
       "2020-10-23            0.000071  0.000024  0.000037  0.000914  0.000002   \n",
       "\n",
       "Country        Italy    Kuwait      Mali    Mexico   Nigeria     Peru  \\\n",
       "Date                                                                    \n",
       "2020-10-19  0.000148  0.000172  0.000008  0.000388  0.000021  0.00001   \n",
       "2020-10-20  0.000148  0.000172  0.000008  0.000388  0.000021  0.00001   \n",
       "2020-10-21  0.000148  0.000172  0.000008  0.000388  0.000021  0.00001   \n",
       "2020-10-22  0.000148  0.000172  0.000008  0.000388  0.000021  0.00001   \n",
       "2020-10-23  0.000148  0.000172  0.000008  0.000388  0.000021  0.00001   \n",
       "\n",
       "Country       Russia    Turkey  United Arab Emirates  United States  \n",
       "Date                                                                 \n",
       "2020-10-19  0.000041  0.000109              0.000079       0.000037  \n",
       "2020-10-20  0.000041  0.000109              0.000079       0.000037  \n",
       "2020-10-21  0.000041  0.000109              0.000079       0.000037  \n",
       "2020-10-22  0.000041  0.000109              0.000079       0.000037  \n",
       "2020-10-23  0.000041  0.000109              0.000079       0.000037  "
      ]
     },
     "execution_count": 17,
     "metadata": {},
     "output_type": "execute_result"
    }
   ],
   "source": [
    "analyser.history(\"kappa\", roll_window=None).tail()"
   ]
  },
  {
   "cell_type": "markdown",
   "metadata": {},
   "source": [
    "### $\\theta$: Mortality rate of S$^\\ast$ cases $\\mathrm{[-]}$"
   ]
  },
  {
   "cell_type": "code",
   "execution_count": 18,
   "metadata": {
    "collapsed": false
   },
   "outputs": [
    {
     "data": {
      "image/png": "[encoded data removed]",
      "text/plain": [
       "<Figure size 648x432 with 1 Axes>"
      ]
     },
     "metadata": {},
     "output_type": "display_data"
    },
    {
     "data": {
      "text/html": [
       "<div>\n",
       "<style scoped>\n",
       "    .dataframe tbody tr th:only-of-type {\n",
       "        vertical-align: middle;\n",
       "    }\n",
       "\n",
       "    .dataframe tbody tr th {\n",
       "        vertical-align: top;\n",
       "    }\n",
       "\n",
       "    .dataframe thead th {\n",
       "        text-align: right;\n",
       "    }\n",
       "</style>\n",
       "<table border=\"1\" class=\"dataframe\">\n",
       "  <thead>\n",
       "    <tr style=\"text-align: right;\">\n",
       "      <th>Country</th>\n",
       "      <th>Algeria</th>\n",
       "      <th>Armenia</th>\n",
       "      <th>Bahrain</th>\n",
       "      <th>Bolivia</th>\n",
       "      <th>Brazil</th>\n",
       "      <th>Dominican Republic</th>\n",
       "      <th>Egypt</th>\n",
       "      <th>France</th>\n",
       "      <th>Iran</th>\n",
       "      <th>Iraq</th>\n",
       "      <th>Italy</th>\n",
       "      <th>Kuwait</th>\n",
       "      <th>Mali</th>\n",
       "      <th>Mexico</th>\n",
       "      <th>Nigeria</th>\n",
       "      <th>Peru</th>\n",
       "      <th>Russia</th>\n",
       "      <th>Turkey</th>\n",
       "      <th>United Arab Emirates</th>\n",
       "      <th>United States</th>\n",
       "    </tr>\n",
       "    <tr>\n",
       "      <th>Date</th>\n",
       "      <th></th>\n",
       "      <th></th>\n",
       "      <th></th>\n",
       "      <th></th>\n",
       "      <th></th>\n",
       "      <th></th>\n",
       "      <th></th>\n",
       "      <th></th>\n",
       "      <th></th>\n",
       "      <th></th>\n",
       "      <th></th>\n",
       "      <th></th>\n",
       "      <th></th>\n",
       "      <th></th>\n",
       "      <th></th>\n",
       "      <th></th>\n",
       "      <th></th>\n",
       "      <th></th>\n",
       "      <th></th>\n",
       "      <th></th>\n",
       "    </tr>\n",
       "  </thead>\n",
       "  <tbody>\n",
       "    <tr>\n",
       "      <th>2020-10-19</th>\n",
       "      <td>0.024646</td>\n",
       "      <td>0.001122</td>\n",
       "      <td>0.001356</td>\n",
       "      <td>0.068615</td>\n",
       "      <td>0.018794</td>\n",
       "      <td>0.000931</td>\n",
       "      <td>0.545448</td>\n",
       "      <td>0.000673</td>\n",
       "      <td>0.004245</td>\n",
       "      <td>0.020028</td>\n",
       "      <td>0.000532</td>\n",
       "      <td>0.001354</td>\n",
       "      <td>0.001185</td>\n",
       "      <td>0.071104</td>\n",
       "      <td>0.000692</td>\n",
       "      <td>0.014947</td>\n",
       "      <td>0.000019</td>\n",
       "      <td>0.030618</td>\n",
       "      <td>0.000755</td>\n",
       "      <td>0.001273</td>\n",
       "    </tr>\n",
       "    <tr>\n",
       "      <th>2020-10-20</th>\n",
       "      <td>0.024646</td>\n",
       "      <td>0.001122</td>\n",
       "      <td>0.001356</td>\n",
       "      <td>0.068615</td>\n",
       "      <td>0.018794</td>\n",
       "      <td>0.000931</td>\n",
       "      <td>0.545448</td>\n",
       "      <td>0.000673</td>\n",
       "      <td>0.004245</td>\n",
       "      <td>0.020028</td>\n",
       "      <td>0.000532</td>\n",
       "      <td>0.001354</td>\n",
       "      <td>0.001185</td>\n",
       "      <td>0.071104</td>\n",
       "      <td>0.000692</td>\n",
       "      <td>0.014947</td>\n",
       "      <td>0.000019</td>\n",
       "      <td>0.030618</td>\n",
       "      <td>0.000755</td>\n",
       "      <td>0.001273</td>\n",
       "    </tr>\n",
       "    <tr>\n",
       "      <th>2020-10-21</th>\n",
       "      <td>0.024646</td>\n",
       "      <td>0.001122</td>\n",
       "      <td>0.001356</td>\n",
       "      <td>0.068615</td>\n",
       "      <td>0.018794</td>\n",
       "      <td>0.000931</td>\n",
       "      <td>0.545448</td>\n",
       "      <td>0.000673</td>\n",
       "      <td>0.004245</td>\n",
       "      <td>0.020028</td>\n",
       "      <td>0.000532</td>\n",
       "      <td>0.001354</td>\n",
       "      <td>0.001185</td>\n",
       "      <td>0.071104</td>\n",
       "      <td>0.000692</td>\n",
       "      <td>0.014947</td>\n",
       "      <td>0.000019</td>\n",
       "      <td>0.030618</td>\n",
       "      <td>0.000755</td>\n",
       "      <td>0.001273</td>\n",
       "    </tr>\n",
       "    <tr>\n",
       "      <th>2020-10-22</th>\n",
       "      <td>0.024646</td>\n",
       "      <td>0.001122</td>\n",
       "      <td>0.001356</td>\n",
       "      <td>0.068615</td>\n",
       "      <td>0.018794</td>\n",
       "      <td>0.000931</td>\n",
       "      <td>0.545448</td>\n",
       "      <td>0.000673</td>\n",
       "      <td>0.004245</td>\n",
       "      <td>0.020028</td>\n",
       "      <td>0.000532</td>\n",
       "      <td>0.001354</td>\n",
       "      <td>0.001185</td>\n",
       "      <td>0.071104</td>\n",
       "      <td>0.000692</td>\n",
       "      <td>0.014947</td>\n",
       "      <td>0.000019</td>\n",
       "      <td>0.030618</td>\n",
       "      <td>0.000755</td>\n",
       "      <td>0.001273</td>\n",
       "    </tr>\n",
       "    <tr>\n",
       "      <th>2020-10-23</th>\n",
       "      <td>0.024646</td>\n",
       "      <td>0.001122</td>\n",
       "      <td>0.001356</td>\n",
       "      <td>0.068615</td>\n",
       "      <td>0.018794</td>\n",
       "      <td>0.000931</td>\n",
       "      <td>0.545448</td>\n",
       "      <td>0.000673</td>\n",
       "      <td>0.004245</td>\n",
       "      <td>0.020028</td>\n",
       "      <td>0.000532</td>\n",
       "      <td>0.001354</td>\n",
       "      <td>0.001185</td>\n",
       "      <td>0.071104</td>\n",
       "      <td>0.000692</td>\n",
       "      <td>0.014947</td>\n",
       "      <td>0.000019</td>\n",
       "      <td>0.030618</td>\n",
       "      <td>0.000755</td>\n",
       "      <td>0.001273</td>\n",
       "    </tr>\n",
       "  </tbody>\n",
       "</table>\n",
       "</div>"
      ],
      "text/plain": [
       "Country      Algeria   Armenia   Bahrain   Bolivia    Brazil  \\\n",
       "Date                                                           \n",
       "2020-10-19  0.024646  0.001122  0.001356  0.068615  0.018794   \n",
       "2020-10-20  0.024646  0.001122  0.001356  0.068615  0.018794   \n",
       "2020-10-21  0.024646  0.001122  0.001356  0.068615  0.018794   \n",
       "2020-10-22  0.024646  0.001122  0.001356  0.068615  0.018794   \n",
       "2020-10-23  0.024646  0.001122  0.001356  0.068615  0.018794   \n",
       "\n",
       "Country     Dominican Republic     Egypt    France      Iran      Iraq  \\\n",
       "Date                                                                     \n",
       "2020-10-19            0.000931  0.545448  0.000673  0.004245  0.020028   \n",
       "2020-10-20            0.000931  0.545448  0.000673  0.004245  0.020028   \n",
       "2020-10-21            0.000931  0.545448  0.000673  0.004245  0.020028   \n",
       "2020-10-22            0.000931  0.545448  0.000673  0.004245  0.020028   \n",
       "2020-10-23            0.000931  0.545448  0.000673  0.004245  0.020028   \n",
       "\n",
       "Country        Italy    Kuwait      Mali    Mexico   Nigeria      Peru  \\\n",
       "Date                                                                     \n",
       "2020-10-19  0.000532  0.001354  0.001185  0.071104  0.000692  0.014947   \n",
       "2020-10-20  0.000532  0.001354  0.001185  0.071104  0.000692  0.014947   \n",
       "2020-10-21  0.000532  0.001354  0.001185  0.071104  0.000692  0.014947   \n",
       "2020-10-22  0.000532  0.001354  0.001185  0.071104  0.000692  0.014947   \n",
       "2020-10-23  0.000532  0.001354  0.001185  0.071104  0.000692  0.014947   \n",
       "\n",
       "Country       Russia    Turkey  United Arab Emirates  United States  \n",
       "Date                                                                 \n",
       "2020-10-19  0.000019  0.030618              0.000755       0.001273  \n",
       "2020-10-20  0.000019  0.030618              0.000755       0.001273  \n",
       "2020-10-21  0.000019  0.030618              0.000755       0.001273  \n",
       "2020-10-22  0.000019  0.030618              0.000755       0.001273  \n",
       "2020-10-23  0.000019  0.030618              0.000755       0.001273  "
      ]
     },
     "execution_count": 18,
     "metadata": {},
     "output_type": "execute_result"
    }
   ],
   "source": [
    "analyser.history(\"theta\", roll_window=None).tail()"
   ]
  },
  {
   "cell_type": "markdown",
   "metadata": {},
   "source": [
    "## (Experimental): Relationship of OxCGRT index and parameter values\n",
    "Government responses will impact on parameter values of ODE models about 14 days later. Here, we will investigate on the relationship of [stringency index (from OxCGRT)](https://github.com/OxCGRT/covid-policy-tracker/blob/master/documentation/index_methodology.md) and reproduction number/model parameters.\n"
   ]
  },
  {
   "cell_type": "code",
   "execution_count": 19,
   "metadata": {
    "collapsed": false
   },
   "outputs": [],
   "source": [
    "%matplotlib inline\n",
    "from matplotlib import pyplot as plt\n",
    "import seaborn as sns\n",
    "import pandas as pd"
   ]
  },
  {
   "cell_type": "code",
   "execution_count": 20,
   "metadata": {
    "collapsed": false
   },
   "outputs": [
    {
     "name": "stdout",
     "output_type": "stream",
     "text": [
      "<class 'pandas.core.frame.DataFrame'>\n",
      "Int64Index: 57236 entries, 0 to 57501\n",
      "Data columns (total 19 columns):\n",
      " #   Column                               Non-Null Count  Dtype         \n",
      "---  ------                               --------------  -----         \n",
      " 0   Date                                 57236 non-null  datetime64[ns]\n",
      " 1   Country                              57236 non-null  object        \n",
      " 2   Rt                                   57236 non-null  float64       \n",
      " 3   theta                                57236 non-null  float64       \n",
      " 4   kappa                                57236 non-null  float64       \n",
      " 5   rho                                  57236 non-null  float64       \n",
      " 6   sigma                                57236 non-null  float64       \n",
      " 7   School_closing                       57236 non-null  int64         \n",
      " 8   Workplace_closing                    57236 non-null  int64         \n",
      " 9   Cancel_events                        57236 non-null  int64         \n",
      " 10  Gatherings_restrictions              57236 non-null  int64         \n",
      " 11  Transport_closing                    57236 non-null  int64         \n",
      " 12  Stay_home_restrictions               57236 non-null  int64         \n",
      " 13  Internal_movement_restrictions       57236 non-null  int64         \n",
      " 14  International_movement_restrictions  57236 non-null  int64         \n",
      " 15  Information_campaigns                57236 non-null  int64         \n",
      " 16  Testing_policy                       57236 non-null  int64         \n",
      " 17  Contact_tracing                      57236 non-null  int64         \n",
      " 18  Stringency_index                     57236 non-null  float64       \n",
      "dtypes: datetime64[ns](1), float64(6), int64(11), object(1)\n",
      "memory usage: 8.7+ MB\n"
     ]
    }
   ],
   "source": [
    "df = analyser.track()\n",
    "param_cols = [\"Rt\", *cs.SIRF.PARAMETERS]\n",
    "oxcgrt_cols = oxcgrt_data.OXCGRT_VARS[:]\n",
    "cols = param_cols + oxcgrt_cols\n",
    "delay = 14\n",
    "\n",
    "for col in param_cols:\n",
    "    df[col] = pd.to_numeric(df[col], errors=\"coerce\")\n",
    "    df[col] = df.groupby(\"Country\")[col].shift(0 - delay)\n",
    "\n",
    "df = df.dropna(how=\"any\")\n",
    "df = df.loc[:, [\"Date\", \"Country\", *cols]]\n",
    "track_df = df.copy()\n",
    "track_df.info()"
   ]
  },
  {
   "cell_type": "code",
   "execution_count": 21,
   "metadata": {
    "collapsed": false
   },
   "outputs": [
    {
     "data": {
      "text/html": [
       "<style  type=\"text/css\" >\n",
       "#T_c4d77f68_154c_11eb_aaf2_5254008067a7row0_col0,#T_c4d77f68_154c_11eb_aaf2_5254008067a7row1_col1,#T_c4d77f68_154c_11eb_aaf2_5254008067a7row2_col2,#T_c4d77f68_154c_11eb_aaf2_5254008067a7row3_col3,#T_c4d77f68_154c_11eb_aaf2_5254008067a7row4_col4,#T_c4d77f68_154c_11eb_aaf2_5254008067a7row5_col5,#T_c4d77f68_154c_11eb_aaf2_5254008067a7row6_col6,#T_c4d77f68_154c_11eb_aaf2_5254008067a7row7_col7,#T_c4d77f68_154c_11eb_aaf2_5254008067a7row8_col8,#T_c4d77f68_154c_11eb_aaf2_5254008067a7row9_col9,#T_c4d77f68_154c_11eb_aaf2_5254008067a7row10_col10,#T_c4d77f68_154c_11eb_aaf2_5254008067a7row11_col11,#T_c4d77f68_154c_11eb_aaf2_5254008067a7row12_col12,#T_c4d77f68_154c_11eb_aaf2_5254008067a7row13_col13,#T_c4d77f68_154c_11eb_aaf2_5254008067a7row14_col14,#T_c4d77f68_154c_11eb_aaf2_5254008067a7row15_col15,#T_c4d77f68_154c_11eb_aaf2_5254008067a7row16_col16{\n",
       "            background-color:  #023858;\n",
       "            color:  #f1f1f1;\n",
       "        }#T_c4d77f68_154c_11eb_aaf2_5254008067a7row0_col1,#T_c4d77f68_154c_11eb_aaf2_5254008067a7row1_col0,#T_c4d77f68_154c_11eb_aaf2_5254008067a7row2_col14,#T_c4d77f68_154c_11eb_aaf2_5254008067a7row14_col2{\n",
       "            background-color:  #eae6f1;\n",
       "            color:  #000000;\n",
       "        }#T_c4d77f68_154c_11eb_aaf2_5254008067a7row0_col2,#T_c4d77f68_154c_11eb_aaf2_5254008067a7row2_col0{\n",
       "            background-color:  #e7e3f0;\n",
       "            color:  #000000;\n",
       "        }#T_c4d77f68_154c_11eb_aaf2_5254008067a7row0_col3,#T_c4d77f68_154c_11eb_aaf2_5254008067a7row3_col0{\n",
       "            background-color:  #a4bcda;\n",
       "            color:  #000000;\n",
       "        }#T_c4d77f68_154c_11eb_aaf2_5254008067a7row0_col4,#T_c4d77f68_154c_11eb_aaf2_5254008067a7row1_col5,#T_c4d77f68_154c_11eb_aaf2_5254008067a7row2_col8,#T_c4d77f68_154c_11eb_aaf2_5254008067a7row4_col0,#T_c4d77f68_154c_11eb_aaf2_5254008067a7row5_col1,#T_c4d77f68_154c_11eb_aaf2_5254008067a7row8_col2{\n",
       "            background-color:  #e1dfed;\n",
       "            color:  #000000;\n",
       "        }#T_c4d77f68_154c_11eb_aaf2_5254008067a7row0_col5,#T_c4d77f68_154c_11eb_aaf2_5254008067a7row0_col10,#T_c4d77f68_154c_11eb_aaf2_5254008067a7row5_col0,#T_c4d77f68_154c_11eb_aaf2_5254008067a7row10_col0{\n",
       "            background-color:  #d6d6e9;\n",
       "            color:  #000000;\n",
       "        }#T_c4d77f68_154c_11eb_aaf2_5254008067a7row0_col6,#T_c4d77f68_154c_11eb_aaf2_5254008067a7row6_col0{\n",
       "            background-color:  #a9bfdc;\n",
       "            color:  #000000;\n",
       "        }#T_c4d77f68_154c_11eb_aaf2_5254008067a7row0_col7,#T_c4d77f68_154c_11eb_aaf2_5254008067a7row7_col0{\n",
       "            background-color:  #dedcec;\n",
       "            color:  #000000;\n",
       "        }#T_c4d77f68_154c_11eb_aaf2_5254008067a7row0_col8,#T_c4d77f68_154c_11eb_aaf2_5254008067a7row8_col0,#T_c4d77f68_154c_11eb_aaf2_5254008067a7row9_col15,#T_c4d77f68_154c_11eb_aaf2_5254008067a7row15_col9{\n",
       "            background-color:  #abbfdc;\n",
       "            color:  #000000;\n",
       "        }#T_c4d77f68_154c_11eb_aaf2_5254008067a7row0_col9,#T_c4d77f68_154c_11eb_aaf2_5254008067a7row9_col0{\n",
       "            background-color:  #d9d8ea;\n",
       "            color:  #000000;\n",
       "        }#T_c4d77f68_154c_11eb_aaf2_5254008067a7row0_col11,#T_c4d77f68_154c_11eb_aaf2_5254008067a7row3_col16,#T_c4d77f68_154c_11eb_aaf2_5254008067a7row11_col0,#T_c4d77f68_154c_11eb_aaf2_5254008067a7row16_col3{\n",
       "            background-color:  #cdd0e5;\n",
       "            color:  #000000;\n",
       "        }#T_c4d77f68_154c_11eb_aaf2_5254008067a7row0_col12,#T_c4d77f68_154c_11eb_aaf2_5254008067a7row12_col0{\n",
       "            background-color:  #d2d3e7;\n",
       "            color:  #000000;\n",
       "        }#T_c4d77f68_154c_11eb_aaf2_5254008067a7row0_col13,#T_c4d77f68_154c_11eb_aaf2_5254008067a7row3_col12,#T_c4d77f68_154c_11eb_aaf2_5254008067a7row12_col3,#T_c4d77f68_154c_11eb_aaf2_5254008067a7row13_col0{\n",
       "            background-color:  #b7c5df;\n",
       "            color:  #000000;\n",
       "        }#T_c4d77f68_154c_11eb_aaf2_5254008067a7row0_col14,#T_c4d77f68_154c_11eb_aaf2_5254008067a7row14_col0{\n",
       "            background-color:  #c6cce3;\n",
       "            color:  #000000;\n",
       "        }#T_c4d77f68_154c_11eb_aaf2_5254008067a7row0_col15,#T_c4d77f68_154c_11eb_aaf2_5254008067a7row1_col6,#T_c4d77f68_154c_11eb_aaf2_5254008067a7row6_col1,#T_c4d77f68_154c_11eb_aaf2_5254008067a7row15_col0{\n",
       "            background-color:  #d4d4e8;\n",
       "            color:  #000000;\n",
       "        }#T_c4d77f68_154c_11eb_aaf2_5254008067a7row0_col16,#T_c4d77f68_154c_11eb_aaf2_5254008067a7row16_col0{\n",
       "            background-color:  #c8cde4;\n",
       "            color:  #000000;\n",
       "        }#T_c4d77f68_154c_11eb_aaf2_5254008067a7row1_col2,#T_c4d77f68_154c_11eb_aaf2_5254008067a7row2_col1{\n",
       "            background-color:  #023c5f;\n",
       "            color:  #f1f1f1;\n",
       "        }#T_c4d77f68_154c_11eb_aaf2_5254008067a7row1_col3,#T_c4d77f68_154c_11eb_aaf2_5254008067a7row2_col3,#T_c4d77f68_154c_11eb_aaf2_5254008067a7row3_col1,#T_c4d77f68_154c_11eb_aaf2_5254008067a7row3_col2,#T_c4d77f68_154c_11eb_aaf2_5254008067a7row8_col11,#T_c4d77f68_154c_11eb_aaf2_5254008067a7row9_col11,#T_c4d77f68_154c_11eb_aaf2_5254008067a7row11_col8,#T_c4d77f68_154c_11eb_aaf2_5254008067a7row11_col9{\n",
       "            background-color:  #0567a2;\n",
       "            color:  #f1f1f1;\n",
       "        }#T_c4d77f68_154c_11eb_aaf2_5254008067a7row1_col4,#T_c4d77f68_154c_11eb_aaf2_5254008067a7row1_col15,#T_c4d77f68_154c_11eb_aaf2_5254008067a7row4_col1,#T_c4d77f68_154c_11eb_aaf2_5254008067a7row4_col11,#T_c4d77f68_154c_11eb_aaf2_5254008067a7row11_col4,#T_c4d77f68_154c_11eb_aaf2_5254008067a7row15_col1{\n",
       "            background-color:  #c1cae2;\n",
       "            color:  #000000;\n",
       "        }#T_c4d77f68_154c_11eb_aaf2_5254008067a7row1_col7,#T_c4d77f68_154c_11eb_aaf2_5254008067a7row7_col1{\n",
       "            background-color:  #e9e5f1;\n",
       "            color:  #000000;\n",
       "        }#T_c4d77f68_154c_11eb_aaf2_5254008067a7row1_col8,#T_c4d77f68_154c_11eb_aaf2_5254008067a7row8_col1{\n",
       "            background-color:  #e3e0ee;\n",
       "            color:  #000000;\n",
       "        }#T_c4d77f68_154c_11eb_aaf2_5254008067a7row1_col9,#T_c4d77f68_154c_11eb_aaf2_5254008067a7row2_col9,#T_c4d77f68_154c_11eb_aaf2_5254008067a7row4_col14,#T_c4d77f68_154c_11eb_aaf2_5254008067a7row9_col1,#T_c4d77f68_154c_11eb_aaf2_5254008067a7row9_col2,#T_c4d77f68_154c_11eb_aaf2_5254008067a7row14_col4{\n",
       "            background-color:  #e2dfee;\n",
       "            color:  #000000;\n",
       "        }#T_c4d77f68_154c_11eb_aaf2_5254008067a7row1_col10,#T_c4d77f68_154c_11eb_aaf2_5254008067a7row9_col14,#T_c4d77f68_154c_11eb_aaf2_5254008067a7row10_col1,#T_c4d77f68_154c_11eb_aaf2_5254008067a7row14_col9{\n",
       "            background-color:  #8fb4d6;\n",
       "            color:  #000000;\n",
       "        }#T_c4d77f68_154c_11eb_aaf2_5254008067a7row1_col11,#T_c4d77f68_154c_11eb_aaf2_5254008067a7row2_col11,#T_c4d77f68_154c_11eb_aaf2_5254008067a7row11_col1,#T_c4d77f68_154c_11eb_aaf2_5254008067a7row11_col2{\n",
       "            background-color:  #bbc7e0;\n",
       "            color:  #000000;\n",
       "        }#T_c4d77f68_154c_11eb_aaf2_5254008067a7row1_col12,#T_c4d77f68_154c_11eb_aaf2_5254008067a7row4_col5,#T_c4d77f68_154c_11eb_aaf2_5254008067a7row5_col4,#T_c4d77f68_154c_11eb_aaf2_5254008067a7row12_col1{\n",
       "            background-color:  #9ab8d8;\n",
       "            color:  #000000;\n",
       "        }#T_c4d77f68_154c_11eb_aaf2_5254008067a7row1_col13,#T_c4d77f68_154c_11eb_aaf2_5254008067a7row13_col1{\n",
       "            background-color:  #f3edf5;\n",
       "            color:  #000000;\n",
       "        }#T_c4d77f68_154c_11eb_aaf2_5254008067a7row1_col14,#T_c4d77f68_154c_11eb_aaf2_5254008067a7row14_col1{\n",
       "            background-color:  #f0eaf4;\n",
       "            color:  #000000;\n",
       "        }#T_c4d77f68_154c_11eb_aaf2_5254008067a7row1_col16,#T_c4d77f68_154c_11eb_aaf2_5254008067a7row16_col1{\n",
       "            background-color:  #d2d2e7;\n",
       "            color:  #000000;\n",
       "        }#T_c4d77f68_154c_11eb_aaf2_5254008067a7row2_col4,#T_c4d77f68_154c_11eb_aaf2_5254008067a7row3_col6,#T_c4d77f68_154c_11eb_aaf2_5254008067a7row4_col2,#T_c4d77f68_154c_11eb_aaf2_5254008067a7row6_col3{\n",
       "            background-color:  #d1d2e6;\n",
       "            color:  #000000;\n",
       "        }#T_c4d77f68_154c_11eb_aaf2_5254008067a7row2_col5,#T_c4d77f68_154c_11eb_aaf2_5254008067a7row5_col2{\n",
       "            background-color:  #e6e2ef;\n",
       "            color:  #000000;\n",
       "        }#T_c4d77f68_154c_11eb_aaf2_5254008067a7row2_col6,#T_c4d77f68_154c_11eb_aaf2_5254008067a7row6_col2{\n",
       "            background-color:  #dad9ea;\n",
       "            color:  #000000;\n",
       "        }#T_c4d77f68_154c_11eb_aaf2_5254008067a7row2_col7,#T_c4d77f68_154c_11eb_aaf2_5254008067a7row7_col2{\n",
       "            background-color:  #eee9f3;\n",
       "            color:  #000000;\n",
       "        }#T_c4d77f68_154c_11eb_aaf2_5254008067a7row2_col10,#T_c4d77f68_154c_11eb_aaf2_5254008067a7row10_col2{\n",
       "            background-color:  #91b5d6;\n",
       "            color:  #000000;\n",
       "        }#T_c4d77f68_154c_11eb_aaf2_5254008067a7row2_col12,#T_c4d77f68_154c_11eb_aaf2_5254008067a7row12_col2{\n",
       "            background-color:  #94b6d7;\n",
       "            color:  #000000;\n",
       "        }#T_c4d77f68_154c_11eb_aaf2_5254008067a7row2_col13,#T_c4d77f68_154c_11eb_aaf2_5254008067a7row13_col2{\n",
       "            background-color:  #f7f0f7;\n",
       "            color:  #000000;\n",
       "        }#T_c4d77f68_154c_11eb_aaf2_5254008067a7row2_col15,#T_c4d77f68_154c_11eb_aaf2_5254008067a7row4_col6,#T_c4d77f68_154c_11eb_aaf2_5254008067a7row6_col4,#T_c4d77f68_154c_11eb_aaf2_5254008067a7row15_col2{\n",
       "            background-color:  #c4cbe3;\n",
       "            color:  #000000;\n",
       "        }#T_c4d77f68_154c_11eb_aaf2_5254008067a7row2_col16,#T_c4d77f68_154c_11eb_aaf2_5254008067a7row16_col2{\n",
       "            background-color:  #d7d6e9;\n",
       "            color:  #000000;\n",
       "        }#T_c4d77f68_154c_11eb_aaf2_5254008067a7row3_col4,#T_c4d77f68_154c_11eb_aaf2_5254008067a7row4_col3{\n",
       "            background-color:  #93b5d6;\n",
       "            color:  #000000;\n",
       "        }#T_c4d77f68_154c_11eb_aaf2_5254008067a7row3_col5,#T_c4d77f68_154c_11eb_aaf2_5254008067a7row5_col3{\n",
       "            background-color:  #dddbec;\n",
       "            color:  #000000;\n",
       "        }#T_c4d77f68_154c_11eb_aaf2_5254008067a7row3_col7,#T_c4d77f68_154c_11eb_aaf2_5254008067a7row7_col3{\n",
       "            background-color:  #f1ebf5;\n",
       "            color:  #000000;\n",
       "        }#T_c4d77f68_154c_11eb_aaf2_5254008067a7row3_col8,#T_c4d77f68_154c_11eb_aaf2_5254008067a7row8_col3{\n",
       "            background-color:  #dcdaeb;\n",
       "            color:  #000000;\n",
       "        }#T_c4d77f68_154c_11eb_aaf2_5254008067a7row3_col9,#T_c4d77f68_154c_11eb_aaf2_5254008067a7row9_col3{\n",
       "            background-color:  #e0dded;\n",
       "            color:  #000000;\n",
       "        }#T_c4d77f68_154c_11eb_aaf2_5254008067a7row3_col10,#T_c4d77f68_154c_11eb_aaf2_5254008067a7row10_col3,#T_c4d77f68_154c_11eb_aaf2_5254008067a7row10_col14,#T_c4d77f68_154c_11eb_aaf2_5254008067a7row14_col10{\n",
       "            background-color:  #8bb2d4;\n",
       "            color:  #000000;\n",
       "        }#T_c4d77f68_154c_11eb_aaf2_5254008067a7row3_col11,#T_c4d77f68_154c_11eb_aaf2_5254008067a7row11_col3{\n",
       "            background-color:  #b9c6e0;\n",
       "            color:  #000000;\n",
       "        }#T_c4d77f68_154c_11eb_aaf2_5254008067a7row3_col13,#T_c4d77f68_154c_11eb_aaf2_5254008067a7row13_col3{\n",
       "            background-color:  #f8f1f8;\n",
       "            color:  #000000;\n",
       "        }#T_c4d77f68_154c_11eb_aaf2_5254008067a7row3_col14,#T_c4d77f68_154c_11eb_aaf2_5254008067a7row14_col3{\n",
       "            background-color:  #fff7fb;\n",
       "            color:  #000000;\n",
       "        }#T_c4d77f68_154c_11eb_aaf2_5254008067a7row3_col15,#T_c4d77f68_154c_11eb_aaf2_5254008067a7row15_col3{\n",
       "            background-color:  #e5e1ef;\n",
       "            color:  #000000;\n",
       "        }#T_c4d77f68_154c_11eb_aaf2_5254008067a7row4_col7,#T_c4d77f68_154c_11eb_aaf2_5254008067a7row4_col9,#T_c4d77f68_154c_11eb_aaf2_5254008067a7row7_col4,#T_c4d77f68_154c_11eb_aaf2_5254008067a7row9_col4{\n",
       "            background-color:  #afc1dd;\n",
       "            color:  #000000;\n",
       "        }#T_c4d77f68_154c_11eb_aaf2_5254008067a7row4_col8,#T_c4d77f68_154c_11eb_aaf2_5254008067a7row8_col4{\n",
       "            background-color:  #ced0e6;\n",
       "            color:  #000000;\n",
       "        }#T_c4d77f68_154c_11eb_aaf2_5254008067a7row4_col10,#T_c4d77f68_154c_11eb_aaf2_5254008067a7row10_col4{\n",
       "            background-color:  #b4c4df;\n",
       "            color:  #000000;\n",
       "        }#T_c4d77f68_154c_11eb_aaf2_5254008067a7row4_col12,#T_c4d77f68_154c_11eb_aaf2_5254008067a7row12_col4{\n",
       "            background-color:  #d3d4e7;\n",
       "            color:  #000000;\n",
       "        }#T_c4d77f68_154c_11eb_aaf2_5254008067a7row4_col13,#T_c4d77f68_154c_11eb_aaf2_5254008067a7row13_col4{\n",
       "            background-color:  #b8c6e0;\n",
       "            color:  #000000;\n",
       "        }#T_c4d77f68_154c_11eb_aaf2_5254008067a7row4_col15,#T_c4d77f68_154c_11eb_aaf2_5254008067a7row15_col4{\n",
       "            background-color:  #b1c2de;\n",
       "            color:  #000000;\n",
       "        }#T_c4d77f68_154c_11eb_aaf2_5254008067a7row4_col16,#T_c4d77f68_154c_11eb_aaf2_5254008067a7row16_col4{\n",
       "            background-color:  #a8bedc;\n",
       "            color:  #000000;\n",
       "        }#T_c4d77f68_154c_11eb_aaf2_5254008067a7row5_col6,#T_c4d77f68_154c_11eb_aaf2_5254008067a7row6_col5{\n",
       "            background-color:  #0569a5;\n",
       "            color:  #f1f1f1;\n",
       "        }#T_c4d77f68_154c_11eb_aaf2_5254008067a7row5_col7,#T_c4d77f68_154c_11eb_aaf2_5254008067a7row7_col5,#T_c4d77f68_154c_11eb_aaf2_5254008067a7row9_col16,#T_c4d77f68_154c_11eb_aaf2_5254008067a7row13_col16,#T_c4d77f68_154c_11eb_aaf2_5254008067a7row16_col9,#T_c4d77f68_154c_11eb_aaf2_5254008067a7row16_col13{\n",
       "            background-color:  #046198;\n",
       "            color:  #f1f1f1;\n",
       "        }#T_c4d77f68_154c_11eb_aaf2_5254008067a7row5_col8,#T_c4d77f68_154c_11eb_aaf2_5254008067a7row6_col10,#T_c4d77f68_154c_11eb_aaf2_5254008067a7row8_col5,#T_c4d77f68_154c_11eb_aaf2_5254008067a7row10_col6{\n",
       "            background-color:  #0c74b2;\n",
       "            color:  #f1f1f1;\n",
       "        }#T_c4d77f68_154c_11eb_aaf2_5254008067a7row5_col9,#T_c4d77f68_154c_11eb_aaf2_5254008067a7row9_col5,#T_c4d77f68_154c_11eb_aaf2_5254008067a7row13_col15,#T_c4d77f68_154c_11eb_aaf2_5254008067a7row15_col13{\n",
       "            background-color:  #167bb6;\n",
       "            color:  #000000;\n",
       "        }#T_c4d77f68_154c_11eb_aaf2_5254008067a7row5_col10,#T_c4d77f68_154c_11eb_aaf2_5254008067a7row10_col5{\n",
       "            background-color:  #1379b5;\n",
       "            color:  #f1f1f1;\n",
       "        }#T_c4d77f68_154c_11eb_aaf2_5254008067a7row5_col11,#T_c4d77f68_154c_11eb_aaf2_5254008067a7row11_col5{\n",
       "            background-color:  #187cb6;\n",
       "            color:  #000000;\n",
       "        }#T_c4d77f68_154c_11eb_aaf2_5254008067a7row5_col12,#T_c4d77f68_154c_11eb_aaf2_5254008067a7row12_col5{\n",
       "            background-color:  #348ebf;\n",
       "            color:  #000000;\n",
       "        }#T_c4d77f68_154c_11eb_aaf2_5254008067a7row5_col13,#T_c4d77f68_154c_11eb_aaf2_5254008067a7row6_col8,#T_c4d77f68_154c_11eb_aaf2_5254008067a7row8_col6,#T_c4d77f68_154c_11eb_aaf2_5254008067a7row8_col9,#T_c4d77f68_154c_11eb_aaf2_5254008067a7row9_col8,#T_c4d77f68_154c_11eb_aaf2_5254008067a7row13_col5{\n",
       "            background-color:  #056caa;\n",
       "            color:  #f1f1f1;\n",
       "        }#T_c4d77f68_154c_11eb_aaf2_5254008067a7row5_col14,#T_c4d77f68_154c_11eb_aaf2_5254008067a7row14_col5{\n",
       "            background-color:  #4c99c5;\n",
       "            color:  #000000;\n",
       "        }#T_c4d77f68_154c_11eb_aaf2_5254008067a7row5_col15,#T_c4d77f68_154c_11eb_aaf2_5254008067a7row15_col5{\n",
       "            background-color:  #79abd0;\n",
       "            color:  #000000;\n",
       "        }#T_c4d77f68_154c_11eb_aaf2_5254008067a7row5_col16,#T_c4d77f68_154c_11eb_aaf2_5254008067a7row16_col5{\n",
       "            background-color:  #045b8e;\n",
       "            color:  #f1f1f1;\n",
       "        }#T_c4d77f68_154c_11eb_aaf2_5254008067a7row6_col7,#T_c4d77f68_154c_11eb_aaf2_5254008067a7row7_col6{\n",
       "            background-color:  #0566a0;\n",
       "            color:  #f1f1f1;\n",
       "        }#T_c4d77f68_154c_11eb_aaf2_5254008067a7row6_col9,#T_c4d77f68_154c_11eb_aaf2_5254008067a7row7_col10,#T_c4d77f68_154c_11eb_aaf2_5254008067a7row9_col6,#T_c4d77f68_154c_11eb_aaf2_5254008067a7row10_col7{\n",
       "            background-color:  #2c89bd;\n",
       "            color:  #000000;\n",
       "        }#T_c4d77f68_154c_11eb_aaf2_5254008067a7row6_col11,#T_c4d77f68_154c_11eb_aaf2_5254008067a7row11_col6{\n",
       "            background-color:  #2081b9;\n",
       "            color:  #000000;\n",
       "        }#T_c4d77f68_154c_11eb_aaf2_5254008067a7row6_col12,#T_c4d77f68_154c_11eb_aaf2_5254008067a7row12_col6{\n",
       "            background-color:  #308cbe;\n",
       "            color:  #000000;\n",
       "        }#T_c4d77f68_154c_11eb_aaf2_5254008067a7row6_col13,#T_c4d77f68_154c_11eb_aaf2_5254008067a7row13_col6{\n",
       "            background-color:  #046096;\n",
       "            color:  #f1f1f1;\n",
       "        }#T_c4d77f68_154c_11eb_aaf2_5254008067a7row6_col14,#T_c4d77f68_154c_11eb_aaf2_5254008067a7row8_col14,#T_c4d77f68_154c_11eb_aaf2_5254008067a7row14_col6,#T_c4d77f68_154c_11eb_aaf2_5254008067a7row14_col8{\n",
       "            background-color:  #3d93c2;\n",
       "            color:  #000000;\n",
       "        }#T_c4d77f68_154c_11eb_aaf2_5254008067a7row6_col15,#T_c4d77f68_154c_11eb_aaf2_5254008067a7row15_col6{\n",
       "            background-color:  #67a4cc;\n",
       "            color:  #000000;\n",
       "        }#T_c4d77f68_154c_11eb_aaf2_5254008067a7row6_col16,#T_c4d77f68_154c_11eb_aaf2_5254008067a7row16_col6{\n",
       "            background-color:  #045a8d;\n",
       "            color:  #f1f1f1;\n",
       "        }#T_c4d77f68_154c_11eb_aaf2_5254008067a7row7_col8,#T_c4d77f68_154c_11eb_aaf2_5254008067a7row8_col7{\n",
       "            background-color:  #0570b0;\n",
       "            color:  #f1f1f1;\n",
       "        }#T_c4d77f68_154c_11eb_aaf2_5254008067a7row7_col9,#T_c4d77f68_154c_11eb_aaf2_5254008067a7row9_col7,#T_c4d77f68_154c_11eb_aaf2_5254008067a7row12_col15,#T_c4d77f68_154c_11eb_aaf2_5254008067a7row15_col12{\n",
       "            background-color:  #3b92c1;\n",
       "            color:  #000000;\n",
       "        }#T_c4d77f68_154c_11eb_aaf2_5254008067a7row7_col11,#T_c4d77f68_154c_11eb_aaf2_5254008067a7row11_col7{\n",
       "            background-color:  #2f8bbe;\n",
       "            color:  #000000;\n",
       "        }#T_c4d77f68_154c_11eb_aaf2_5254008067a7row7_col12,#T_c4d77f68_154c_11eb_aaf2_5254008067a7row12_col7{\n",
       "            background-color:  #2383ba;\n",
       "            color:  #000000;\n",
       "        }#T_c4d77f68_154c_11eb_aaf2_5254008067a7row7_col13,#T_c4d77f68_154c_11eb_aaf2_5254008067a7row13_col7{\n",
       "            background-color:  #045483;\n",
       "            color:  #f1f1f1;\n",
       "        }#T_c4d77f68_154c_11eb_aaf2_5254008067a7row7_col14,#T_c4d77f68_154c_11eb_aaf2_5254008067a7row7_col15,#T_c4d77f68_154c_11eb_aaf2_5254008067a7row14_col7,#T_c4d77f68_154c_11eb_aaf2_5254008067a7row15_col7{\n",
       "            background-color:  #1b7eb7;\n",
       "            color:  #000000;\n",
       "        }#T_c4d77f68_154c_11eb_aaf2_5254008067a7row7_col16,#T_c4d77f68_154c_11eb_aaf2_5254008067a7row11_col16,#T_c4d77f68_154c_11eb_aaf2_5254008067a7row16_col7,#T_c4d77f68_154c_11eb_aaf2_5254008067a7row16_col11{\n",
       "            background-color:  #045e94;\n",
       "            color:  #f1f1f1;\n",
       "        }#T_c4d77f68_154c_11eb_aaf2_5254008067a7row8_col10,#T_c4d77f68_154c_11eb_aaf2_5254008067a7row10_col8{\n",
       "            background-color:  #056faf;\n",
       "            color:  #f1f1f1;\n",
       "        }#T_c4d77f68_154c_11eb_aaf2_5254008067a7row8_col12,#T_c4d77f68_154c_11eb_aaf2_5254008067a7row12_col8{\n",
       "            background-color:  #1e80b8;\n",
       "            color:  #000000;\n",
       "        }#T_c4d77f68_154c_11eb_aaf2_5254008067a7row8_col13,#T_c4d77f68_154c_11eb_aaf2_5254008067a7row13_col8{\n",
       "            background-color:  #056aa6;\n",
       "            color:  #f1f1f1;\n",
       "        }#T_c4d77f68_154c_11eb_aaf2_5254008067a7row8_col15,#T_c4d77f68_154c_11eb_aaf2_5254008067a7row15_col8{\n",
       "            background-color:  #75a9cf;\n",
       "            color:  #000000;\n",
       "        }#T_c4d77f68_154c_11eb_aaf2_5254008067a7row8_col16,#T_c4d77f68_154c_11eb_aaf2_5254008067a7row16_col8{\n",
       "            background-color:  #045788;\n",
       "            color:  #f1f1f1;\n",
       "        }#T_c4d77f68_154c_11eb_aaf2_5254008067a7row9_col10,#T_c4d77f68_154c_11eb_aaf2_5254008067a7row10_col9,#T_c4d77f68_154c_11eb_aaf2_5254008067a7row13_col14,#T_c4d77f68_154c_11eb_aaf2_5254008067a7row14_col13{\n",
       "            background-color:  #0d75b3;\n",
       "            color:  #f1f1f1;\n",
       "        }#T_c4d77f68_154c_11eb_aaf2_5254008067a7row9_col12,#T_c4d77f68_154c_11eb_aaf2_5254008067a7row12_col9{\n",
       "            background-color:  #2d8abd;\n",
       "            color:  #000000;\n",
       "        }#T_c4d77f68_154c_11eb_aaf2_5254008067a7row9_col13,#T_c4d77f68_154c_11eb_aaf2_5254008067a7row11_col13,#T_c4d77f68_154c_11eb_aaf2_5254008067a7row13_col9,#T_c4d77f68_154c_11eb_aaf2_5254008067a7row13_col11{\n",
       "            background-color:  #4295c3;\n",
       "            color:  #000000;\n",
       "        }#T_c4d77f68_154c_11eb_aaf2_5254008067a7row10_col11,#T_c4d77f68_154c_11eb_aaf2_5254008067a7row11_col10{\n",
       "            background-color:  #045f95;\n",
       "            color:  #f1f1f1;\n",
       "        }#T_c4d77f68_154c_11eb_aaf2_5254008067a7row10_col12,#T_c4d77f68_154c_11eb_aaf2_5254008067a7row12_col10{\n",
       "            background-color:  #197db7;\n",
       "            color:  #000000;\n",
       "        }#T_c4d77f68_154c_11eb_aaf2_5254008067a7row10_col13,#T_c4d77f68_154c_11eb_aaf2_5254008067a7row13_col10{\n",
       "            background-color:  #4a98c5;\n",
       "            color:  #000000;\n",
       "        }#T_c4d77f68_154c_11eb_aaf2_5254008067a7row10_col15,#T_c4d77f68_154c_11eb_aaf2_5254008067a7row15_col10{\n",
       "            background-color:  #7dacd1;\n",
       "            color:  #000000;\n",
       "        }#T_c4d77f68_154c_11eb_aaf2_5254008067a7row10_col16,#T_c4d77f68_154c_11eb_aaf2_5254008067a7row16_col10{\n",
       "            background-color:  #045d92;\n",
       "            color:  #f1f1f1;\n",
       "        }#T_c4d77f68_154c_11eb_aaf2_5254008067a7row11_col12,#T_c4d77f68_154c_11eb_aaf2_5254008067a7row12_col11,#T_c4d77f68_154c_11eb_aaf2_5254008067a7row12_col13,#T_c4d77f68_154c_11eb_aaf2_5254008067a7row13_col12{\n",
       "            background-color:  #2987bc;\n",
       "            color:  #000000;\n",
       "        }#T_c4d77f68_154c_11eb_aaf2_5254008067a7row11_col14,#T_c4d77f68_154c_11eb_aaf2_5254008067a7row14_col11{\n",
       "            background-color:  #81aed2;\n",
       "            color:  #000000;\n",
       "        }#T_c4d77f68_154c_11eb_aaf2_5254008067a7row11_col15,#T_c4d77f68_154c_11eb_aaf2_5254008067a7row15_col11{\n",
       "            background-color:  #96b6d7;\n",
       "            color:  #000000;\n",
       "        }#T_c4d77f68_154c_11eb_aaf2_5254008067a7row12_col14,#T_c4d77f68_154c_11eb_aaf2_5254008067a7row14_col12{\n",
       "            background-color:  #4496c3;\n",
       "            color:  #000000;\n",
       "        }#T_c4d77f68_154c_11eb_aaf2_5254008067a7row12_col16,#T_c4d77f68_154c_11eb_aaf2_5254008067a7row16_col12{\n",
       "            background-color:  #056ba7;\n",
       "            color:  #f1f1f1;\n",
       "        }#T_c4d77f68_154c_11eb_aaf2_5254008067a7row14_col15,#T_c4d77f68_154c_11eb_aaf2_5254008067a7row15_col14{\n",
       "            background-color:  #3f93c2;\n",
       "            color:  #000000;\n",
       "        }#T_c4d77f68_154c_11eb_aaf2_5254008067a7row14_col16,#T_c4d77f68_154c_11eb_aaf2_5254008067a7row16_col14{\n",
       "            background-color:  #62a2cb;\n",
       "            color:  #000000;\n",
       "        }#T_c4d77f68_154c_11eb_aaf2_5254008067a7row15_col16,#T_c4d77f68_154c_11eb_aaf2_5254008067a7row16_col15{\n",
       "            background-color:  #529bc7;\n",
       "            color:  #000000;\n",
       "        }</style><table id=\"T_c4d77f68_154c_11eb_aaf2_5254008067a7\" ><thead>    <tr>        <th class=\"blank level0\" ></th>        <th class=\"col_heading level0 col0\" >Rt</th>        <th class=\"col_heading level0 col1\" >theta</th>        <th class=\"col_heading level0 col2\" >kappa</th>        <th class=\"col_heading level0 col3\" >rho</th>        <th class=\"col_heading level0 col4\" >sigma</th>        <th class=\"col_heading level0 col5\" >School_closing</th>        <th class=\"col_heading level0 col6\" >Workplace_closing</th>        <th class=\"col_heading level0 col7\" >Cancel_events</th>        <th class=\"col_heading level0 col8\" >Gatherings_restrictions</th>        <th class=\"col_heading level0 col9\" >Transport_closing</th>        <th class=\"col_heading level0 col10\" >Stay_home_restrictions</th>        <th class=\"col_heading level0 col11\" >Internal_movement_restrictions</th>        <th class=\"col_heading level0 col12\" >International_movement_restrictions</th>        <th class=\"col_heading level0 col13\" >Information_campaigns</th>        <th class=\"col_heading level0 col14\" >Testing_policy</th>        <th class=\"col_heading level0 col15\" >Contact_tracing</th>        <th class=\"col_heading level0 col16\" >Stringency_index</th>    </tr></thead><tbody>\n",
       "                <tr>\n",
       "                        <th id=\"T_c4d77f68_154c_11eb_aaf2_5254008067a7level0_row0\" class=\"row_heading level0 row0\" >Rt</th>\n",
       "                        <td id=\"T_c4d77f68_154c_11eb_aaf2_5254008067a7row0_col0\" class=\"data row0 col0\" >1.000000</td>\n",
       "                        <td id=\"T_c4d77f68_154c_11eb_aaf2_5254008067a7row0_col1\" class=\"data row0 col1\" >-0.242362</td>\n",
       "                        <td id=\"T_c4d77f68_154c_11eb_aaf2_5254008067a7row0_col2\" class=\"data row0 col2\" >-0.220231</td>\n",
       "                        <td id=\"T_c4d77f68_154c_11eb_aaf2_5254008067a7row0_col3\" class=\"data row0 col3\" >0.113823</td>\n",
       "                        <td id=\"T_c4d77f68_154c_11eb_aaf2_5254008067a7row0_col4\" class=\"data row0 col4\" >-0.185829</td>\n",
       "                        <td id=\"T_c4d77f68_154c_11eb_aaf2_5254008067a7row0_col5\" class=\"data row0 col5\" >-0.111329</td>\n",
       "                        <td id=\"T_c4d77f68_154c_11eb_aaf2_5254008067a7row0_col6\" class=\"data row0 col6\" >0.087051</td>\n",
       "                        <td id=\"T_c4d77f68_154c_11eb_aaf2_5254008067a7row0_col7\" class=\"data row0 col7\" >-0.166027</td>\n",
       "                        <td id=\"T_c4d77f68_154c_11eb_aaf2_5254008067a7row0_col8\" class=\"data row0 col8\" >0.084783</td>\n",
       "                        <td id=\"T_c4d77f68_154c_11eb_aaf2_5254008067a7row0_col9\" class=\"data row0 col9\" >-0.136999</td>\n",
       "                        <td id=\"T_c4d77f68_154c_11eb_aaf2_5254008067a7row0_col10\" class=\"data row0 col10\" >-0.112537</td>\n",
       "                        <td id=\"T_c4d77f68_154c_11eb_aaf2_5254008067a7row0_col11\" class=\"data row0 col11\" >-0.061269</td>\n",
       "                        <td id=\"T_c4d77f68_154c_11eb_aaf2_5254008067a7row0_col12\" class=\"data row0 col12\" >-0.090050</td>\n",
       "                        <td id=\"T_c4d77f68_154c_11eb_aaf2_5254008067a7row0_col13\" class=\"data row0 col13\" >0.030355</td>\n",
       "                        <td id=\"T_c4d77f68_154c_11eb_aaf2_5254008067a7row0_col14\" class=\"data row0 col14\" >-0.035810</td>\n",
       "                        <td id=\"T_c4d77f68_154c_11eb_aaf2_5254008067a7row0_col15\" class=\"data row0 col15\" >-0.100623</td>\n",
       "                        <td id=\"T_c4d77f68_154c_11eb_aaf2_5254008067a7row0_col16\" class=\"data row0 col16\" >-0.041091</td>\n",
       "            </tr>\n",
       "            <tr>\n",
       "                        <th id=\"T_c4d77f68_154c_11eb_aaf2_5254008067a7level0_row1\" class=\"row_heading level0 row1\" >theta</th>\n",
       "                        <td id=\"T_c4d77f68_154c_11eb_aaf2_5254008067a7row1_col0\" class=\"data row1 col0\" >-0.242362</td>\n",
       "                        <td id=\"T_c4d77f68_154c_11eb_aaf2_5254008067a7row1_col1\" class=\"data row1 col1\" >1.000000</td>\n",
       "                        <td id=\"T_c4d77f68_154c_11eb_aaf2_5254008067a7row1_col2\" class=\"data row1 col2\" >0.972421</td>\n",
       "                        <td id=\"T_c4d77f68_154c_11eb_aaf2_5254008067a7row1_col3\" class=\"data row1 col3\" >0.709108</td>\n",
       "                        <td id=\"T_c4d77f68_154c_11eb_aaf2_5254008067a7row1_col4\" class=\"data row1 col4\" >-0.011893</td>\n",
       "                        <td id=\"T_c4d77f68_154c_11eb_aaf2_5254008067a7row1_col5\" class=\"data row1 col5\" >-0.183124</td>\n",
       "                        <td id=\"T_c4d77f68_154c_11eb_aaf2_5254008067a7row1_col6\" class=\"data row1 col6\" >-0.098970</td>\n",
       "                        <td id=\"T_c4d77f68_154c_11eb_aaf2_5254008067a7row1_col7\" class=\"data row1 col7\" >-0.238467</td>\n",
       "                        <td id=\"T_c4d77f68_154c_11eb_aaf2_5254008067a7row1_col8\" class=\"data row1 col8\" >-0.197673</td>\n",
       "                        <td id=\"T_c4d77f68_154c_11eb_aaf2_5254008067a7row1_col9\" class=\"data row1 col9\" >-0.193000</td>\n",
       "                        <td id=\"T_c4d77f68_154c_11eb_aaf2_5254008067a7row1_col10\" class=\"data row1 col10\" >0.184582</td>\n",
       "                        <td id=\"T_c4d77f68_154c_11eb_aaf2_5254008067a7row1_col11\" class=\"data row1 col11\" >0.013288</td>\n",
       "                        <td id=\"T_c4d77f68_154c_11eb_aaf2_5254008067a7row1_col12\" class=\"data row1 col12\" >0.146369</td>\n",
       "                        <td id=\"T_c4d77f68_154c_11eb_aaf2_5254008067a7row1_col13\" class=\"data row1 col13\" >-0.322489</td>\n",
       "                        <td id=\"T_c4d77f68_154c_11eb_aaf2_5254008067a7row1_col14\" class=\"data row1 col14\" >-0.289040</td>\n",
       "                        <td id=\"T_c4d77f68_154c_11eb_aaf2_5254008067a7row1_col15\" class=\"data row1 col15\" >-0.010176</td>\n",
       "                        <td id=\"T_c4d77f68_154c_11eb_aaf2_5254008067a7row1_col16\" class=\"data row1 col16\" >-0.082425</td>\n",
       "            </tr>\n",
       "            <tr>\n",
       "                        <th id=\"T_c4d77f68_154c_11eb_aaf2_5254008067a7level0_row2\" class=\"row_heading level0 row2\" >kappa</th>\n",
       "                        <td id=\"T_c4d77f68_154c_11eb_aaf2_5254008067a7row2_col0\" class=\"data row2 col0\" >-0.220231</td>\n",
       "                        <td id=\"T_c4d77f68_154c_11eb_aaf2_5254008067a7row2_col1\" class=\"data row2 col1\" >0.972421</td>\n",
       "                        <td id=\"T_c4d77f68_154c_11eb_aaf2_5254008067a7row2_col2\" class=\"data row2 col2\" >1.000000</td>\n",
       "                        <td id=\"T_c4d77f68_154c_11eb_aaf2_5254008067a7row2_col3\" class=\"data row2 col3\" >0.713925</td>\n",
       "                        <td id=\"T_c4d77f68_154c_11eb_aaf2_5254008067a7row2_col4\" class=\"data row2 col4\" >-0.081667</td>\n",
       "                        <td id=\"T_c4d77f68_154c_11eb_aaf2_5254008067a7row2_col5\" class=\"data row2 col5\" >-0.215126</td>\n",
       "                        <td id=\"T_c4d77f68_154c_11eb_aaf2_5254008067a7row2_col6\" class=\"data row2 col6\" >-0.142008</td>\n",
       "                        <td id=\"T_c4d77f68_154c_11eb_aaf2_5254008067a7row2_col7\" class=\"data row2 col7\" >-0.273341</td>\n",
       "                        <td id=\"T_c4d77f68_154c_11eb_aaf2_5254008067a7row2_col8\" class=\"data row2 col8\" >-0.187679</td>\n",
       "                        <td id=\"T_c4d77f68_154c_11eb_aaf2_5254008067a7row2_col9\" class=\"data row2 col9\" >-0.190540</td>\n",
       "                        <td id=\"T_c4d77f68_154c_11eb_aaf2_5254008067a7row2_col10\" class=\"data row2 col10\" >0.180288</td>\n",
       "                        <td id=\"T_c4d77f68_154c_11eb_aaf2_5254008067a7row2_col11\" class=\"data row2 col11\" >0.018378</td>\n",
       "                        <td id=\"T_c4d77f68_154c_11eb_aaf2_5254008067a7row2_col12\" class=\"data row2 col12\" >0.168964</td>\n",
       "                        <td id=\"T_c4d77f68_154c_11eb_aaf2_5254008067a7row2_col13\" class=\"data row2 col13\" >-0.352105</td>\n",
       "                        <td id=\"T_c4d77f68_154c_11eb_aaf2_5254008067a7row2_col14\" class=\"data row2 col14\" >-0.243907</td>\n",
       "                        <td id=\"T_c4d77f68_154c_11eb_aaf2_5254008067a7row2_col15\" class=\"data row2 col15\" >-0.023116</td>\n",
       "                        <td id=\"T_c4d77f68_154c_11eb_aaf2_5254008067a7row2_col16\" class=\"data row2 col16\" >-0.118430</td>\n",
       "            </tr>\n",
       "            <tr>\n",
       "                        <th id=\"T_c4d77f68_154c_11eb_aaf2_5254008067a7level0_row3\" class=\"row_heading level0 row3\" >rho</th>\n",
       "                        <td id=\"T_c4d77f68_154c_11eb_aaf2_5254008067a7row3_col0\" class=\"data row3 col0\" >0.113823</td>\n",
       "                        <td id=\"T_c4d77f68_154c_11eb_aaf2_5254008067a7row3_col1\" class=\"data row3 col1\" >0.709108</td>\n",
       "                        <td id=\"T_c4d77f68_154c_11eb_aaf2_5254008067a7row3_col2\" class=\"data row3 col2\" >0.713925</td>\n",
       "                        <td id=\"T_c4d77f68_154c_11eb_aaf2_5254008067a7row3_col3\" class=\"data row3 col3\" >1.000000</td>\n",
       "                        <td id=\"T_c4d77f68_154c_11eb_aaf2_5254008067a7row3_col4\" class=\"data row3 col4\" >0.172693</td>\n",
       "                        <td id=\"T_c4d77f68_154c_11eb_aaf2_5254008067a7row3_col5\" class=\"data row3 col5\" >-0.159476</td>\n",
       "                        <td id=\"T_c4d77f68_154c_11eb_aaf2_5254008067a7row3_col6\" class=\"data row3 col6\" >-0.078066</td>\n",
       "                        <td id=\"T_c4d77f68_154c_11eb_aaf2_5254008067a7row3_col7\" class=\"data row3 col7\" >-0.301582</td>\n",
       "                        <td id=\"T_c4d77f68_154c_11eb_aaf2_5254008067a7row3_col8\" class=\"data row3 col8\" >-0.149599</td>\n",
       "                        <td id=\"T_c4d77f68_154c_11eb_aaf2_5254008067a7row3_col9\" class=\"data row3 col9\" >-0.174014</td>\n",
       "                        <td id=\"T_c4d77f68_154c_11eb_aaf2_5254008067a7row3_col10\" class=\"data row3 col10\" >0.201092</td>\n",
       "                        <td id=\"T_c4d77f68_154c_11eb_aaf2_5254008067a7row3_col11\" class=\"data row3 col11\" >0.022946</td>\n",
       "                        <td id=\"T_c4d77f68_154c_11eb_aaf2_5254008067a7row3_col12\" class=\"data row3 col12\" >0.031419</td>\n",
       "                        <td id=\"T_c4d77f68_154c_11eb_aaf2_5254008067a7row3_col13\" class=\"data row3 col13\" >-0.365129</td>\n",
       "                        <td id=\"T_c4d77f68_154c_11eb_aaf2_5254008067a7row3_col14\" class=\"data row3 col14\" >-0.435359</td>\n",
       "                        <td id=\"T_c4d77f68_154c_11eb_aaf2_5254008067a7row3_col15\" class=\"data row3 col15\" >-0.209738</td>\n",
       "                        <td id=\"T_c4d77f68_154c_11eb_aaf2_5254008067a7row3_col16\" class=\"data row3 col16\" >-0.062983</td>\n",
       "            </tr>\n",
       "            <tr>\n",
       "                        <th id=\"T_c4d77f68_154c_11eb_aaf2_5254008067a7level0_row4\" class=\"row_heading level0 row4\" >sigma</th>\n",
       "                        <td id=\"T_c4d77f68_154c_11eb_aaf2_5254008067a7row4_col0\" class=\"data row4 col0\" >-0.185829</td>\n",
       "                        <td id=\"T_c4d77f68_154c_11eb_aaf2_5254008067a7row4_col1\" class=\"data row4 col1\" >-0.011893</td>\n",
       "                        <td id=\"T_c4d77f68_154c_11eb_aaf2_5254008067a7row4_col2\" class=\"data row4 col2\" >-0.081667</td>\n",
       "                        <td id=\"T_c4d77f68_154c_11eb_aaf2_5254008067a7row4_col3\" class=\"data row4 col3\" >0.172693</td>\n",
       "                        <td id=\"T_c4d77f68_154c_11eb_aaf2_5254008067a7row4_col4\" class=\"data row4 col4\" >1.000000</td>\n",
       "                        <td id=\"T_c4d77f68_154c_11eb_aaf2_5254008067a7row4_col5\" class=\"data row4 col5\" >0.144200</td>\n",
       "                        <td id=\"T_c4d77f68_154c_11eb_aaf2_5254008067a7row4_col6\" class=\"data row4 col6\" >-0.021114</td>\n",
       "                        <td id=\"T_c4d77f68_154c_11eb_aaf2_5254008067a7row4_col7\" class=\"data row4 col7\" >0.064712</td>\n",
       "                        <td id=\"T_c4d77f68_154c_11eb_aaf2_5254008067a7row4_col8\" class=\"data row4 col8\" >-0.065316</td>\n",
       "                        <td id=\"T_c4d77f68_154c_11eb_aaf2_5254008067a7row4_col9\" class=\"data row4 col9\" >0.063887</td>\n",
       "                        <td id=\"T_c4d77f68_154c_11eb_aaf2_5254008067a7row4_col10\" class=\"data row4 col10\" >0.045200</td>\n",
       "                        <td id=\"T_c4d77f68_154c_11eb_aaf2_5254008067a7row4_col11\" class=\"data row4 col11\" >-0.009401</td>\n",
       "                        <td id=\"T_c4d77f68_154c_11eb_aaf2_5254008067a7row4_col12\" class=\"data row4 col12\" >-0.098812</td>\n",
       "                        <td id=\"T_c4d77f68_154c_11eb_aaf2_5254008067a7row4_col13\" class=\"data row4 col13\" >0.029705</td>\n",
       "                        <td id=\"T_c4d77f68_154c_11eb_aaf2_5254008067a7row4_col14\" class=\"data row4 col14\" >-0.193953</td>\n",
       "                        <td id=\"T_c4d77f68_154c_11eb_aaf2_5254008067a7row4_col15\" class=\"data row4 col15\" >0.052951</td>\n",
       "                        <td id=\"T_c4d77f68_154c_11eb_aaf2_5254008067a7row4_col16\" class=\"data row4 col16\" >0.096310</td>\n",
       "            </tr>\n",
       "            <tr>\n",
       "                        <th id=\"T_c4d77f68_154c_11eb_aaf2_5254008067a7level0_row5\" class=\"row_heading level0 row5\" >School_closing</th>\n",
       "                        <td id=\"T_c4d77f68_154c_11eb_aaf2_5254008067a7row5_col0\" class=\"data row5 col0\" >-0.111329</td>\n",
       "                        <td id=\"T_c4d77f68_154c_11eb_aaf2_5254008067a7row5_col1\" class=\"data row5 col1\" >-0.183124</td>\n",
       "                        <td id=\"T_c4d77f68_154c_11eb_aaf2_5254008067a7row5_col2\" class=\"data row5 col2\" >-0.215126</td>\n",
       "                        <td id=\"T_c4d77f68_154c_11eb_aaf2_5254008067a7row5_col3\" class=\"data row5 col3\" >-0.159476</td>\n",
       "                        <td id=\"T_c4d77f68_154c_11eb_aaf2_5254008067a7row5_col4\" class=\"data row5 col4\" >0.144200</td>\n",
       "                        <td id=\"T_c4d77f68_154c_11eb_aaf2_5254008067a7row5_col5\" class=\"data row5 col5\" >1.000000</td>\n",
       "                        <td id=\"T_c4d77f68_154c_11eb_aaf2_5254008067a7row5_col6\" class=\"data row5 col6\" >0.697110</td>\n",
       "                        <td id=\"T_c4d77f68_154c_11eb_aaf2_5254008067a7row5_col7\" class=\"data row5 col7\" >0.763785</td>\n",
       "                        <td id=\"T_c4d77f68_154c_11eb_aaf2_5254008067a7row5_col8\" class=\"data row5 col8\" >0.614035</td>\n",
       "                        <td id=\"T_c4d77f68_154c_11eb_aaf2_5254008067a7row5_col9\" class=\"data row5 col9\" >0.576266</td>\n",
       "                        <td id=\"T_c4d77f68_154c_11eb_aaf2_5254008067a7row5_col10\" class=\"data row5 col10\" >0.590634</td>\n",
       "                        <td id=\"T_c4d77f68_154c_11eb_aaf2_5254008067a7row5_col11\" class=\"data row5 col11\" >0.570086</td>\n",
       "                        <td id=\"T_c4d77f68_154c_11eb_aaf2_5254008067a7row5_col12\" class=\"data row5 col12\" >0.468252</td>\n",
       "                        <td id=\"T_c4d77f68_154c_11eb_aaf2_5254008067a7row5_col13\" class=\"data row5 col13\" >0.674163</td>\n",
       "                        <td id=\"T_c4d77f68_154c_11eb_aaf2_5254008067a7row5_col14\" class=\"data row5 col14\" >0.399521</td>\n",
       "                        <td id=\"T_c4d77f68_154c_11eb_aaf2_5254008067a7row5_col15\" class=\"data row5 col15\" >0.263194</td>\n",
       "                        <td id=\"T_c4d77f68_154c_11eb_aaf2_5254008067a7row5_col16\" class=\"data row5 col16\" >0.812018</td>\n",
       "            </tr>\n",
       "            <tr>\n",
       "                        <th id=\"T_c4d77f68_154c_11eb_aaf2_5254008067a7level0_row6\" class=\"row_heading level0 row6\" >Workplace_closing</th>\n",
       "                        <td id=\"T_c4d77f68_154c_11eb_aaf2_5254008067a7row6_col0\" class=\"data row6 col0\" >0.087051</td>\n",
       "                        <td id=\"T_c4d77f68_154c_11eb_aaf2_5254008067a7row6_col1\" class=\"data row6 col1\" >-0.098970</td>\n",
       "                        <td id=\"T_c4d77f68_154c_11eb_aaf2_5254008067a7row6_col2\" class=\"data row6 col2\" >-0.142008</td>\n",
       "                        <td id=\"T_c4d77f68_154c_11eb_aaf2_5254008067a7row6_col3\" class=\"data row6 col3\" >-0.078066</td>\n",
       "                        <td id=\"T_c4d77f68_154c_11eb_aaf2_5254008067a7row6_col4\" class=\"data row6 col4\" >-0.021114</td>\n",
       "                        <td id=\"T_c4d77f68_154c_11eb_aaf2_5254008067a7row6_col5\" class=\"data row6 col5\" >0.697110</td>\n",
       "                        <td id=\"T_c4d77f68_154c_11eb_aaf2_5254008067a7row6_col6\" class=\"data row6 col6\" >1.000000</td>\n",
       "                        <td id=\"T_c4d77f68_154c_11eb_aaf2_5254008067a7row6_col7\" class=\"data row6 col7\" >0.722221</td>\n",
       "                        <td id=\"T_c4d77f68_154c_11eb_aaf2_5254008067a7row6_col8\" class=\"data row6 col8\" >0.671864</td>\n",
       "                        <td id=\"T_c4d77f68_154c_11eb_aaf2_5254008067a7row6_col9\" class=\"data row6 col9\" >0.496545</td>\n",
       "                        <td id=\"T_c4d77f68_154c_11eb_aaf2_5254008067a7row6_col10\" class=\"data row6 col10\" >0.616755</td>\n",
       "                        <td id=\"T_c4d77f68_154c_11eb_aaf2_5254008067a7row6_col11\" class=\"data row6 col11\" >0.544241</td>\n",
       "                        <td id=\"T_c4d77f68_154c_11eb_aaf2_5254008067a7row6_col12\" class=\"data row6 col12\" >0.481592</td>\n",
       "                        <td id=\"T_c4d77f68_154c_11eb_aaf2_5254008067a7row6_col13\" class=\"data row6 col13\" >0.773777</td>\n",
       "                        <td id=\"T_c4d77f68_154c_11eb_aaf2_5254008067a7row6_col14\" class=\"data row6 col14\" >0.440964</td>\n",
       "                        <td id=\"T_c4d77f68_154c_11eb_aaf2_5254008067a7row6_col15\" class=\"data row6 col15\" >0.317498</td>\n",
       "                        <td id=\"T_c4d77f68_154c_11eb_aaf2_5254008067a7row6_col16\" class=\"data row6 col16\" >0.818775</td>\n",
       "            </tr>\n",
       "            <tr>\n",
       "                        <th id=\"T_c4d77f68_154c_11eb_aaf2_5254008067a7level0_row7\" class=\"row_heading level0 row7\" >Cancel_events</th>\n",
       "                        <td id=\"T_c4d77f68_154c_11eb_aaf2_5254008067a7row7_col0\" class=\"data row7 col0\" >-0.166027</td>\n",
       "                        <td id=\"T_c4d77f68_154c_11eb_aaf2_5254008067a7row7_col1\" class=\"data row7 col1\" >-0.238467</td>\n",
       "                        <td id=\"T_c4d77f68_154c_11eb_aaf2_5254008067a7row7_col2\" class=\"data row7 col2\" >-0.273341</td>\n",
       "                        <td id=\"T_c4d77f68_154c_11eb_aaf2_5254008067a7row7_col3\" class=\"data row7 col3\" >-0.301582</td>\n",
       "                        <td id=\"T_c4d77f68_154c_11eb_aaf2_5254008067a7row7_col4\" class=\"data row7 col4\" >0.064712</td>\n",
       "                        <td id=\"T_c4d77f68_154c_11eb_aaf2_5254008067a7row7_col5\" class=\"data row7 col5\" >0.763785</td>\n",
       "                        <td id=\"T_c4d77f68_154c_11eb_aaf2_5254008067a7row7_col6\" class=\"data row7 col6\" >0.722221</td>\n",
       "                        <td id=\"T_c4d77f68_154c_11eb_aaf2_5254008067a7row7_col7\" class=\"data row7 col7\" >1.000000</td>\n",
       "                        <td id=\"T_c4d77f68_154c_11eb_aaf2_5254008067a7row7_col8\" class=\"data row7 col8\" >0.635955</td>\n",
       "                        <td id=\"T_c4d77f68_154c_11eb_aaf2_5254008067a7row7_col9\" class=\"data row7 col9\" >0.449877</td>\n",
       "                        <td id=\"T_c4d77f68_154c_11eb_aaf2_5254008067a7row7_col10\" class=\"data row7 col10\" >0.496523</td>\n",
       "                        <td id=\"T_c4d77f68_154c_11eb_aaf2_5254008067a7row7_col11\" class=\"data row7 col11\" >0.484772</td>\n",
       "                        <td id=\"T_c4d77f68_154c_11eb_aaf2_5254008067a7row7_col12\" class=\"data row7 col12\" >0.533768</td>\n",
       "                        <td id=\"T_c4d77f68_154c_11eb_aaf2_5254008067a7row7_col13\" class=\"data row7 col13\" >0.853825</td>\n",
       "                        <td id=\"T_c4d77f68_154c_11eb_aaf2_5254008067a7row7_col14\" class=\"data row7 col14\" >0.557200</td>\n",
       "                        <td id=\"T_c4d77f68_154c_11eb_aaf2_5254008067a7row7_col15\" class=\"data row7 col15\" >0.559285</td>\n",
       "                        <td id=\"T_c4d77f68_154c_11eb_aaf2_5254008067a7row7_col16\" class=\"data row7 col16\" >0.783631</td>\n",
       "            </tr>\n",
       "            <tr>\n",
       "                        <th id=\"T_c4d77f68_154c_11eb_aaf2_5254008067a7level0_row8\" class=\"row_heading level0 row8\" >Gatherings_restrictions</th>\n",
       "                        <td id=\"T_c4d77f68_154c_11eb_aaf2_5254008067a7row8_col0\" class=\"data row8 col0\" >0.084783</td>\n",
       "                        <td id=\"T_c4d77f68_154c_11eb_aaf2_5254008067a7row8_col1\" class=\"data row8 col1\" >-0.197673</td>\n",
       "                        <td id=\"T_c4d77f68_154c_11eb_aaf2_5254008067a7row8_col2\" class=\"data row8 col2\" >-0.187679</td>\n",
       "                        <td id=\"T_c4d77f68_154c_11eb_aaf2_5254008067a7row8_col3\" class=\"data row8 col3\" >-0.149599</td>\n",
       "                        <td id=\"T_c4d77f68_154c_11eb_aaf2_5254008067a7row8_col4\" class=\"data row8 col4\" >-0.065316</td>\n",
       "                        <td id=\"T_c4d77f68_154c_11eb_aaf2_5254008067a7row8_col5\" class=\"data row8 col5\" >0.614035</td>\n",
       "                        <td id=\"T_c4d77f68_154c_11eb_aaf2_5254008067a7row8_col6\" class=\"data row8 col6\" >0.671864</td>\n",
       "                        <td id=\"T_c4d77f68_154c_11eb_aaf2_5254008067a7row8_col7\" class=\"data row8 col7\" >0.635955</td>\n",
       "                        <td id=\"T_c4d77f68_154c_11eb_aaf2_5254008067a7row8_col8\" class=\"data row8 col8\" >1.000000</td>\n",
       "                        <td id=\"T_c4d77f68_154c_11eb_aaf2_5254008067a7row8_col9\" class=\"data row8 col9\" >0.672563</td>\n",
       "                        <td id=\"T_c4d77f68_154c_11eb_aaf2_5254008067a7row8_col10\" class=\"data row8 col10\" >0.643698</td>\n",
       "                        <td id=\"T_c4d77f68_154c_11eb_aaf2_5254008067a7row8_col11\" class=\"data row8 col11\" >0.708787</td>\n",
       "                        <td id=\"T_c4d77f68_154c_11eb_aaf2_5254008067a7row8_col12\" class=\"data row8 col12\" >0.546027</td>\n",
       "                        <td id=\"T_c4d77f68_154c_11eb_aaf2_5254008067a7row8_col13\" class=\"data row8 col13\" >0.686445</td>\n",
       "                        <td id=\"T_c4d77f68_154c_11eb_aaf2_5254008067a7row8_col14\" class=\"data row8 col14\" >0.440075</td>\n",
       "                        <td id=\"T_c4d77f68_154c_11eb_aaf2_5254008067a7row8_col15\" class=\"data row8 col15\" >0.277635</td>\n",
       "                        <td id=\"T_c4d77f68_154c_11eb_aaf2_5254008067a7row8_col16\" class=\"data row8 col16\" >0.832095</td>\n",
       "            </tr>\n",
       "            <tr>\n",
       "                        <th id=\"T_c4d77f68_154c_11eb_aaf2_5254008067a7level0_row9\" class=\"row_heading level0 row9\" >Transport_closing</th>\n",
       "                        <td id=\"T_c4d77f68_154c_11eb_aaf2_5254008067a7row9_col0\" class=\"data row9 col0\" >-0.136999</td>\n",
       "                        <td id=\"T_c4d77f68_154c_11eb_aaf2_5254008067a7row9_col1\" class=\"data row9 col1\" >-0.193000</td>\n",
       "                        <td id=\"T_c4d77f68_154c_11eb_aaf2_5254008067a7row9_col2\" class=\"data row9 col2\" >-0.190540</td>\n",
       "                        <td id=\"T_c4d77f68_154c_11eb_aaf2_5254008067a7row9_col3\" class=\"data row9 col3\" >-0.174014</td>\n",
       "                        <td id=\"T_c4d77f68_154c_11eb_aaf2_5254008067a7row9_col4\" class=\"data row9 col4\" >0.063887</td>\n",
       "                        <td id=\"T_c4d77f68_154c_11eb_aaf2_5254008067a7row9_col5\" class=\"data row9 col5\" >0.576266</td>\n",
       "                        <td id=\"T_c4d77f68_154c_11eb_aaf2_5254008067a7row9_col6\" class=\"data row9 col6\" >0.496545</td>\n",
       "                        <td id=\"T_c4d77f68_154c_11eb_aaf2_5254008067a7row9_col7\" class=\"data row9 col7\" >0.449877</td>\n",
       "                        <td id=\"T_c4d77f68_154c_11eb_aaf2_5254008067a7row9_col8\" class=\"data row9 col8\" >0.672563</td>\n",
       "                        <td id=\"T_c4d77f68_154c_11eb_aaf2_5254008067a7row9_col9\" class=\"data row9 col9\" >1.000000</td>\n",
       "                        <td id=\"T_c4d77f68_154c_11eb_aaf2_5254008067a7row9_col10\" class=\"data row9 col10\" >0.608331</td>\n",
       "                        <td id=\"T_c4d77f68_154c_11eb_aaf2_5254008067a7row9_col11\" class=\"data row9 col11\" >0.710674</td>\n",
       "                        <td id=\"T_c4d77f68_154c_11eb_aaf2_5254008067a7row9_col12\" class=\"data row9 col12\" >0.490012</td>\n",
       "                        <td id=\"T_c4d77f68_154c_11eb_aaf2_5254008067a7row9_col13\" class=\"data row9 col13\" >0.422568</td>\n",
       "                        <td id=\"T_c4d77f68_154c_11eb_aaf2_5254008067a7row9_col14\" class=\"data row9 col14\" >0.184076</td>\n",
       "                        <td id=\"T_c4d77f68_154c_11eb_aaf2_5254008067a7row9_col15\" class=\"data row9 col15\" >0.085849</td>\n",
       "                        <td id=\"T_c4d77f68_154c_11eb_aaf2_5254008067a7row9_col16\" class=\"data row9 col16\" >0.762414</td>\n",
       "            </tr>\n",
       "            <tr>\n",
       "                        <th id=\"T_c4d77f68_154c_11eb_aaf2_5254008067a7level0_row10\" class=\"row_heading level0 row10\" >Stay_home_restrictions</th>\n",
       "                        <td id=\"T_c4d77f68_154c_11eb_aaf2_5254008067a7row10_col0\" class=\"data row10 col0\" >-0.112537</td>\n",
       "                        <td id=\"T_c4d77f68_154c_11eb_aaf2_5254008067a7row10_col1\" class=\"data row10 col1\" >0.184582</td>\n",
       "                        <td id=\"T_c4d77f68_154c_11eb_aaf2_5254008067a7row10_col2\" class=\"data row10 col2\" >0.180288</td>\n",
       "                        <td id=\"T_c4d77f68_154c_11eb_aaf2_5254008067a7row10_col3\" class=\"data row10 col3\" >0.201092</td>\n",
       "                        <td id=\"T_c4d77f68_154c_11eb_aaf2_5254008067a7row10_col4\" class=\"data row10 col4\" >0.045200</td>\n",
       "                        <td id=\"T_c4d77f68_154c_11eb_aaf2_5254008067a7row10_col5\" class=\"data row10 col5\" >0.590634</td>\n",
       "                        <td id=\"T_c4d77f68_154c_11eb_aaf2_5254008067a7row10_col6\" class=\"data row10 col6\" >0.616755</td>\n",
       "                        <td id=\"T_c4d77f68_154c_11eb_aaf2_5254008067a7row10_col7\" class=\"data row10 col7\" >0.496523</td>\n",
       "                        <td id=\"T_c4d77f68_154c_11eb_aaf2_5254008067a7row10_col8\" class=\"data row10 col8\" >0.643698</td>\n",
       "                        <td id=\"T_c4d77f68_154c_11eb_aaf2_5254008067a7row10_col9\" class=\"data row10 col9\" >0.608331</td>\n",
       "                        <td id=\"T_c4d77f68_154c_11eb_aaf2_5254008067a7row10_col10\" class=\"data row10 col10\" >1.000000</td>\n",
       "                        <td id=\"T_c4d77f68_154c_11eb_aaf2_5254008067a7row10_col11\" class=\"data row10 col11\" >0.776285</td>\n",
       "                        <td id=\"T_c4d77f68_154c_11eb_aaf2_5254008067a7row10_col12\" class=\"data row10 col12\" >0.564552</td>\n",
       "                        <td id=\"T_c4d77f68_154c_11eb_aaf2_5254008067a7row10_col13\" class=\"data row10 col13\" >0.402382</td>\n",
       "                        <td id=\"T_c4d77f68_154c_11eb_aaf2_5254008067a7row10_col14\" class=\"data row10 col14\" >0.198797</td>\n",
       "                        <td id=\"T_c4d77f68_154c_11eb_aaf2_5254008067a7row10_col15\" class=\"data row10 col15\" >0.249821</td>\n",
       "                        <td id=\"T_c4d77f68_154c_11eb_aaf2_5254008067a7row10_col16\" class=\"data row10 col16\" >0.793699</td>\n",
       "            </tr>\n",
       "            <tr>\n",
       "                        <th id=\"T_c4d77f68_154c_11eb_aaf2_5254008067a7level0_row11\" class=\"row_heading level0 row11\" >Internal_movement_restrictions</th>\n",
       "                        <td id=\"T_c4d77f68_154c_11eb_aaf2_5254008067a7row11_col0\" class=\"data row11 col0\" >-0.061269</td>\n",
       "                        <td id=\"T_c4d77f68_154c_11eb_aaf2_5254008067a7row11_col1\" class=\"data row11 col1\" >0.013288</td>\n",
       "                        <td id=\"T_c4d77f68_154c_11eb_aaf2_5254008067a7row11_col2\" class=\"data row11 col2\" >0.018378</td>\n",
       "                        <td id=\"T_c4d77f68_154c_11eb_aaf2_5254008067a7row11_col3\" class=\"data row11 col3\" >0.022946</td>\n",
       "                        <td id=\"T_c4d77f68_154c_11eb_aaf2_5254008067a7row11_col4\" class=\"data row11 col4\" >-0.009401</td>\n",
       "                        <td id=\"T_c4d77f68_154c_11eb_aaf2_5254008067a7row11_col5\" class=\"data row11 col5\" >0.570086</td>\n",
       "                        <td id=\"T_c4d77f68_154c_11eb_aaf2_5254008067a7row11_col6\" class=\"data row11 col6\" >0.544241</td>\n",
       "                        <td id=\"T_c4d77f68_154c_11eb_aaf2_5254008067a7row11_col7\" class=\"data row11 col7\" >0.484772</td>\n",
       "                        <td id=\"T_c4d77f68_154c_11eb_aaf2_5254008067a7row11_col8\" class=\"data row11 col8\" >0.708787</td>\n",
       "                        <td id=\"T_c4d77f68_154c_11eb_aaf2_5254008067a7row11_col9\" class=\"data row11 col9\" >0.710674</td>\n",
       "                        <td id=\"T_c4d77f68_154c_11eb_aaf2_5254008067a7row11_col10\" class=\"data row11 col10\" >0.776285</td>\n",
       "                        <td id=\"T_c4d77f68_154c_11eb_aaf2_5254008067a7row11_col11\" class=\"data row11 col11\" >1.000000</td>\n",
       "                        <td id=\"T_c4d77f68_154c_11eb_aaf2_5254008067a7row11_col12\" class=\"data row11 col12\" >0.509627</td>\n",
       "                        <td id=\"T_c4d77f68_154c_11eb_aaf2_5254008067a7row11_col13\" class=\"data row11 col13\" >0.426737</td>\n",
       "                        <td id=\"T_c4d77f68_154c_11eb_aaf2_5254008067a7row11_col14\" class=\"data row11 col14\" >0.237095</td>\n",
       "                        <td id=\"T_c4d77f68_154c_11eb_aaf2_5254008067a7row11_col15\" class=\"data row11 col15\" >0.160773</td>\n",
       "                        <td id=\"T_c4d77f68_154c_11eb_aaf2_5254008067a7row11_col16\" class=\"data row11 col16\" >0.782448</td>\n",
       "            </tr>\n",
       "            <tr>\n",
       "                        <th id=\"T_c4d77f68_154c_11eb_aaf2_5254008067a7level0_row12\" class=\"row_heading level0 row12\" >International_movement_restrictions</th>\n",
       "                        <td id=\"T_c4d77f68_154c_11eb_aaf2_5254008067a7row12_col0\" class=\"data row12 col0\" >-0.090050</td>\n",
       "                        <td id=\"T_c4d77f68_154c_11eb_aaf2_5254008067a7row12_col1\" class=\"data row12 col1\" >0.146369</td>\n",
       "                        <td id=\"T_c4d77f68_154c_11eb_aaf2_5254008067a7row12_col2\" class=\"data row12 col2\" >0.168964</td>\n",
       "                        <td id=\"T_c4d77f68_154c_11eb_aaf2_5254008067a7row12_col3\" class=\"data row12 col3\" >0.031419</td>\n",
       "                        <td id=\"T_c4d77f68_154c_11eb_aaf2_5254008067a7row12_col4\" class=\"data row12 col4\" >-0.098812</td>\n",
       "                        <td id=\"T_c4d77f68_154c_11eb_aaf2_5254008067a7row12_col5\" class=\"data row12 col5\" >0.468252</td>\n",
       "                        <td id=\"T_c4d77f68_154c_11eb_aaf2_5254008067a7row12_col6\" class=\"data row12 col6\" >0.481592</td>\n",
       "                        <td id=\"T_c4d77f68_154c_11eb_aaf2_5254008067a7row12_col7\" class=\"data row12 col7\" >0.533768</td>\n",
       "                        <td id=\"T_c4d77f68_154c_11eb_aaf2_5254008067a7row12_col8\" class=\"data row12 col8\" >0.546027</td>\n",
       "                        <td id=\"T_c4d77f68_154c_11eb_aaf2_5254008067a7row12_col9\" class=\"data row12 col9\" >0.490012</td>\n",
       "                        <td id=\"T_c4d77f68_154c_11eb_aaf2_5254008067a7row12_col10\" class=\"data row12 col10\" >0.564552</td>\n",
       "                        <td id=\"T_c4d77f68_154c_11eb_aaf2_5254008067a7row12_col11\" class=\"data row12 col11\" >0.509627</td>\n",
       "                        <td id=\"T_c4d77f68_154c_11eb_aaf2_5254008067a7row12_col12\" class=\"data row12 col12\" >1.000000</td>\n",
       "                        <td id=\"T_c4d77f68_154c_11eb_aaf2_5254008067a7row12_col13\" class=\"data row12 col13\" >0.507272</td>\n",
       "                        <td id=\"T_c4d77f68_154c_11eb_aaf2_5254008067a7row12_col14\" class=\"data row12 col14\" >0.421228</td>\n",
       "                        <td id=\"T_c4d77f68_154c_11eb_aaf2_5254008067a7row12_col15\" class=\"data row12 col15\" >0.446309</td>\n",
       "                        <td id=\"T_c4d77f68_154c_11eb_aaf2_5254008067a7row12_col16\" class=\"data row12 col16\" >0.680554</td>\n",
       "            </tr>\n",
       "            <tr>\n",
       "                        <th id=\"T_c4d77f68_154c_11eb_aaf2_5254008067a7level0_row13\" class=\"row_heading level0 row13\" >Information_campaigns</th>\n",
       "                        <td id=\"T_c4d77f68_154c_11eb_aaf2_5254008067a7row13_col0\" class=\"data row13 col0\" >0.030355</td>\n",
       "                        <td id=\"T_c4d77f68_154c_11eb_aaf2_5254008067a7row13_col1\" class=\"data row13 col1\" >-0.322489</td>\n",
       "                        <td id=\"T_c4d77f68_154c_11eb_aaf2_5254008067a7row13_col2\" class=\"data row13 col2\" >-0.352105</td>\n",
       "                        <td id=\"T_c4d77f68_154c_11eb_aaf2_5254008067a7row13_col3\" class=\"data row13 col3\" >-0.365129</td>\n",
       "                        <td id=\"T_c4d77f68_154c_11eb_aaf2_5254008067a7row13_col4\" class=\"data row13 col4\" >0.029705</td>\n",
       "                        <td id=\"T_c4d77f68_154c_11eb_aaf2_5254008067a7row13_col5\" class=\"data row13 col5\" >0.674163</td>\n",
       "                        <td id=\"T_c4d77f68_154c_11eb_aaf2_5254008067a7row13_col6\" class=\"data row13 col6\" >0.773777</td>\n",
       "                        <td id=\"T_c4d77f68_154c_11eb_aaf2_5254008067a7row13_col7\" class=\"data row13 col7\" >0.853825</td>\n",
       "                        <td id=\"T_c4d77f68_154c_11eb_aaf2_5254008067a7row13_col8\" class=\"data row13 col8\" >0.686445</td>\n",
       "                        <td id=\"T_c4d77f68_154c_11eb_aaf2_5254008067a7row13_col9\" class=\"data row13 col9\" >0.422568</td>\n",
       "                        <td id=\"T_c4d77f68_154c_11eb_aaf2_5254008067a7row13_col10\" class=\"data row13 col10\" >0.402382</td>\n",
       "                        <td id=\"T_c4d77f68_154c_11eb_aaf2_5254008067a7row13_col11\" class=\"data row13 col11\" >0.426737</td>\n",
       "                        <td id=\"T_c4d77f68_154c_11eb_aaf2_5254008067a7row13_col12\" class=\"data row13 col12\" >0.507272</td>\n",
       "                        <td id=\"T_c4d77f68_154c_11eb_aaf2_5254008067a7row13_col13\" class=\"data row13 col13\" >1.000000</td>\n",
       "                        <td id=\"T_c4d77f68_154c_11eb_aaf2_5254008067a7row13_col14\" class=\"data row13 col14\" >0.610428</td>\n",
       "                        <td id=\"T_c4d77f68_154c_11eb_aaf2_5254008067a7row13_col15\" class=\"data row13 col15\" >0.575762</td>\n",
       "                        <td id=\"T_c4d77f68_154c_11eb_aaf2_5254008067a7row13_col16\" class=\"data row13 col16\" >0.763959</td>\n",
       "            </tr>\n",
       "            <tr>\n",
       "                        <th id=\"T_c4d77f68_154c_11eb_aaf2_5254008067a7level0_row14\" class=\"row_heading level0 row14\" >Testing_policy</th>\n",
       "                        <td id=\"T_c4d77f68_154c_11eb_aaf2_5254008067a7row14_col0\" class=\"data row14 col0\" >-0.035810</td>\n",
       "                        <td id=\"T_c4d77f68_154c_11eb_aaf2_5254008067a7row14_col1\" class=\"data row14 col1\" >-0.289040</td>\n",
       "                        <td id=\"T_c4d77f68_154c_11eb_aaf2_5254008067a7row14_col2\" class=\"data row14 col2\" >-0.243907</td>\n",
       "                        <td id=\"T_c4d77f68_154c_11eb_aaf2_5254008067a7row14_col3\" class=\"data row14 col3\" >-0.435359</td>\n",
       "                        <td id=\"T_c4d77f68_154c_11eb_aaf2_5254008067a7row14_col4\" class=\"data row14 col4\" >-0.193953</td>\n",
       "                        <td id=\"T_c4d77f68_154c_11eb_aaf2_5254008067a7row14_col5\" class=\"data row14 col5\" >0.399521</td>\n",
       "                        <td id=\"T_c4d77f68_154c_11eb_aaf2_5254008067a7row14_col6\" class=\"data row14 col6\" >0.440964</td>\n",
       "                        <td id=\"T_c4d77f68_154c_11eb_aaf2_5254008067a7row14_col7\" class=\"data row14 col7\" >0.557200</td>\n",
       "                        <td id=\"T_c4d77f68_154c_11eb_aaf2_5254008067a7row14_col8\" class=\"data row14 col8\" >0.440075</td>\n",
       "                        <td id=\"T_c4d77f68_154c_11eb_aaf2_5254008067a7row14_col9\" class=\"data row14 col9\" >0.184076</td>\n",
       "                        <td id=\"T_c4d77f68_154c_11eb_aaf2_5254008067a7row14_col10\" class=\"data row14 col10\" >0.198797</td>\n",
       "                        <td id=\"T_c4d77f68_154c_11eb_aaf2_5254008067a7row14_col11\" class=\"data row14 col11\" >0.237095</td>\n",
       "                        <td id=\"T_c4d77f68_154c_11eb_aaf2_5254008067a7row14_col12\" class=\"data row14 col12\" >0.421228</td>\n",
       "                        <td id=\"T_c4d77f68_154c_11eb_aaf2_5254008067a7row14_col13\" class=\"data row14 col13\" >0.610428</td>\n",
       "                        <td id=\"T_c4d77f68_154c_11eb_aaf2_5254008067a7row14_col14\" class=\"data row14 col14\" >1.000000</td>\n",
       "                        <td id=\"T_c4d77f68_154c_11eb_aaf2_5254008067a7row14_col15\" class=\"data row14 col15\" >0.435870</td>\n",
       "                        <td id=\"T_c4d77f68_154c_11eb_aaf2_5254008067a7row14_col16\" class=\"data row14 col16\" >0.334007</td>\n",
       "            </tr>\n",
       "            <tr>\n",
       "                        <th id=\"T_c4d77f68_154c_11eb_aaf2_5254008067a7level0_row15\" class=\"row_heading level0 row15\" >Contact_tracing</th>\n",
       "                        <td id=\"T_c4d77f68_154c_11eb_aaf2_5254008067a7row15_col0\" class=\"data row15 col0\" >-0.100623</td>\n",
       "                        <td id=\"T_c4d77f68_154c_11eb_aaf2_5254008067a7row15_col1\" class=\"data row15 col1\" >-0.010176</td>\n",
       "                        <td id=\"T_c4d77f68_154c_11eb_aaf2_5254008067a7row15_col2\" class=\"data row15 col2\" >-0.023116</td>\n",
       "                        <td id=\"T_c4d77f68_154c_11eb_aaf2_5254008067a7row15_col3\" class=\"data row15 col3\" >-0.209738</td>\n",
       "                        <td id=\"T_c4d77f68_154c_11eb_aaf2_5254008067a7row15_col4\" class=\"data row15 col4\" >0.052951</td>\n",
       "                        <td id=\"T_c4d77f68_154c_11eb_aaf2_5254008067a7row15_col5\" class=\"data row15 col5\" >0.263194</td>\n",
       "                        <td id=\"T_c4d77f68_154c_11eb_aaf2_5254008067a7row15_col6\" class=\"data row15 col6\" >0.317498</td>\n",
       "                        <td id=\"T_c4d77f68_154c_11eb_aaf2_5254008067a7row15_col7\" class=\"data row15 col7\" >0.559285</td>\n",
       "                        <td id=\"T_c4d77f68_154c_11eb_aaf2_5254008067a7row15_col8\" class=\"data row15 col8\" >0.277635</td>\n",
       "                        <td id=\"T_c4d77f68_154c_11eb_aaf2_5254008067a7row15_col9\" class=\"data row15 col9\" >0.085849</td>\n",
       "                        <td id=\"T_c4d77f68_154c_11eb_aaf2_5254008067a7row15_col10\" class=\"data row15 col10\" >0.249821</td>\n",
       "                        <td id=\"T_c4d77f68_154c_11eb_aaf2_5254008067a7row15_col11\" class=\"data row15 col11\" >0.160773</td>\n",
       "                        <td id=\"T_c4d77f68_154c_11eb_aaf2_5254008067a7row15_col12\" class=\"data row15 col12\" >0.446309</td>\n",
       "                        <td id=\"T_c4d77f68_154c_11eb_aaf2_5254008067a7row15_col13\" class=\"data row15 col13\" >0.575762</td>\n",
       "                        <td id=\"T_c4d77f68_154c_11eb_aaf2_5254008067a7row15_col14\" class=\"data row15 col14\" >0.435870</td>\n",
       "                        <td id=\"T_c4d77f68_154c_11eb_aaf2_5254008067a7row15_col15\" class=\"data row15 col15\" >1.000000</td>\n",
       "                        <td id=\"T_c4d77f68_154c_11eb_aaf2_5254008067a7row15_col16\" class=\"data row15 col16\" >0.379405</td>\n",
       "            </tr>\n",
       "            <tr>\n",
       "                        <th id=\"T_c4d77f68_154c_11eb_aaf2_5254008067a7level0_row16\" class=\"row_heading level0 row16\" >Stringency_index</th>\n",
       "                        <td id=\"T_c4d77f68_154c_11eb_aaf2_5254008067a7row16_col0\" class=\"data row16 col0\" >-0.041091</td>\n",
       "                        <td id=\"T_c4d77f68_154c_11eb_aaf2_5254008067a7row16_col1\" class=\"data row16 col1\" >-0.082425</td>\n",
       "                        <td id=\"T_c4d77f68_154c_11eb_aaf2_5254008067a7row16_col2\" class=\"data row16 col2\" >-0.118430</td>\n",
       "                        <td id=\"T_c4d77f68_154c_11eb_aaf2_5254008067a7row16_col3\" class=\"data row16 col3\" >-0.062983</td>\n",
       "                        <td id=\"T_c4d77f68_154c_11eb_aaf2_5254008067a7row16_col4\" class=\"data row16 col4\" >0.096310</td>\n",
       "                        <td id=\"T_c4d77f68_154c_11eb_aaf2_5254008067a7row16_col5\" class=\"data row16 col5\" >0.812018</td>\n",
       "                        <td id=\"T_c4d77f68_154c_11eb_aaf2_5254008067a7row16_col6\" class=\"data row16 col6\" >0.818775</td>\n",
       "                        <td id=\"T_c4d77f68_154c_11eb_aaf2_5254008067a7row16_col7\" class=\"data row16 col7\" >0.783631</td>\n",
       "                        <td id=\"T_c4d77f68_154c_11eb_aaf2_5254008067a7row16_col8\" class=\"data row16 col8\" >0.832095</td>\n",
       "                        <td id=\"T_c4d77f68_154c_11eb_aaf2_5254008067a7row16_col9\" class=\"data row16 col9\" >0.762414</td>\n",
       "                        <td id=\"T_c4d77f68_154c_11eb_aaf2_5254008067a7row16_col10\" class=\"data row16 col10\" >0.793699</td>\n",
       "                        <td id=\"T_c4d77f68_154c_11eb_aaf2_5254008067a7row16_col11\" class=\"data row16 col11\" >0.782448</td>\n",
       "                        <td id=\"T_c4d77f68_154c_11eb_aaf2_5254008067a7row16_col12\" class=\"data row16 col12\" >0.680554</td>\n",
       "                        <td id=\"T_c4d77f68_154c_11eb_aaf2_5254008067a7row16_col13\" class=\"data row16 col13\" >0.763959</td>\n",
       "                        <td id=\"T_c4d77f68_154c_11eb_aaf2_5254008067a7row16_col14\" class=\"data row16 col14\" >0.334007</td>\n",
       "                        <td id=\"T_c4d77f68_154c_11eb_aaf2_5254008067a7row16_col15\" class=\"data row16 col15\" >0.379405</td>\n",
       "                        <td id=\"T_c4d77f68_154c_11eb_aaf2_5254008067a7row16_col16\" class=\"data row16 col16\" >1.000000</td>\n",
       "            </tr>\n",
       "    </tbody></table>"
      ],
      "text/plain": [
       "<pandas.io.formats.style.Styler at 0x7f17d46c3fa0>"
      ]
     },
     "execution_count": 21,
     "metadata": {},
     "output_type": "execute_result"
    }
   ],
   "source": [
    "# Correlation\n",
    "df = track_df.copy()\n",
    "df.corr().style.background_gradient(axis=None)"
   ]
  },
  {
   "cell_type": "code",
   "execution_count": 22,
   "metadata": {
    "collapsed": false
   },
   "outputs": [
    {
     "data": {
      "image/png": "[encoded data removed]",
      "text/plain": [
       "<Figure size 432x288 with 1 Axes>"
      ]
     },
     "metadata": {},
     "output_type": "display_data"
    }
   ],
   "source": [
    "# Scatter plot of Stringency index and Rt\n",
    "df = track_df.copy()\n",
    "sns.scatterplot(data=df, x=\"Stringency_index\", y=\"Rt\", hue=\"Country\", legend=\"brief\", marker=\"+\")\n",
    "bbox_to_anchor=(1.02, 0)\n",
    "bbox_loc=\"lower left\"\n",
    "plt.legend(bbox_to_anchor=bbox_to_anchor, loc=bbox_loc, borderaxespad=0)\n",
    "plt.title(\"Relationship of Stringency index and reproduction number\")\n",
    "plt.ylabel(\"Reproduction number\")\n",
    "plt.xlabel(\"Stringency index\")\n",
    "plt.show()"
   ]
  }
 ],
 "metadata": {
  "kernelspec": {
   "display_name": "Python 3.8.2 64-bit ('.venv': venv)",
   "name": "python_defaultSpec_1597669925034"
  },
  "language_info": {
   "codemirror_mode": {
    "name": "ipython",
    "version": 3
   },
   "file_extension": ".py",
   "mimetype": "text/x-python",
   "name": "python",
   "nbconvert_exporter": "python",
   "pygments_lexer": "ipython3",
   "version": "3.8.2-final"
  }
 },
 "nbformat": 4,
 "nbformat_minor": 4
}
