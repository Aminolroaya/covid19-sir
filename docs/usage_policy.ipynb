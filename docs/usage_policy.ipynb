{
 "cells": [
  {
   "cell_type": "markdown",
   "metadata": {},
   "source": [
    "# Usage (details: policy measures)\n",
    "Here, we will analyse the relationship of policy measures and parameter values of SIR-derived ODE models. Policy measures are tracked by [Oxford Covid-19 Government Response Tracker (OxCGRT)](https://github.com/OxCGRT/covid-policy-tracker)."
   ]
  },
  {
   "cell_type": "markdown",
   "metadata": {},
   "source": [
    "## Preparation"
   ]
  },
  {
   "cell_type": "code",
   "execution_count": 1,
   "metadata": {
    "collapsed": false
   },
   "outputs": [],
   "source": [
    "# Standard users\n",
    "# !pip install covsirphy\n",
    "# Developers (Note: this notebook is in example directory)\n",
    "import os\n",
    "os.chdir(\"../\")"
   ]
  },
  {
   "cell_type": "code",
   "execution_count": 2,
   "metadata": {
    "collapsed": false
   },
   "outputs": [],
   "source": [
    "from pprint import pprint"
   ]
  },
  {
   "cell_type": "code",
   "execution_count": 3,
   "metadata": {
    "collapsed": false
   },
   "outputs": [
    {
     "data": {
      "text/plain": [
       "'2.7.0'"
      ]
     },
     "execution_count": 3,
     "metadata": {},
     "output_type": "execute_result"
    }
   ],
   "source": [
    "import covsirphy as cs\n",
    "cs.__version__"
   ]
  },
  {
   "cell_type": "code",
   "execution_count": 4,
   "metadata": {
    "collapsed": false,
    "tags": []
   },
   "outputs": [
    {
     "name": "stdout",
     "output_type": "stream",
     "text": [
      "(Secondary source) Guidotti, E., Ardia, D., (2020), \"COVID-19 Data Hub\", Working paper, doi: 10.13140/RG.2.2.11649.81763.\n",
      "We can get Citation list of primary sources with DataLoader(...).covid19dh_citation"
     ]
    },
    {
     "name": "stdout",
     "output_type": "stream",
     "text": [
      "\n"
     ]
    }
   ],
   "source": [
    "# Standard users and developers\n",
    "data_loader = cs.DataLoader(\"input\")\n",
    "# The number of cases (JHU style)\n",
    "jhu_data = data_loader.jhu(verbose=False)\n",
    "# Population in each country\n",
    "population_data = data_loader.population(verbose=False)\n",
    "# Government Response Tracker (OxCGRT)\n",
    "oxcgrt_data = data_loader.oxcgrt(verbose=False)\n",
    "# Description/citation\n",
    "print(oxcgrt_data.citation)"
   ]
  },
  {
   "cell_type": "markdown",
   "metadata": {},
   "source": [
    "## Class for policy measure analysis\n",
    "We will `PolicyMeasures` class to find relationship of policy measures and parameter values of SIR-derived ODE models."
   ]
  },
  {
   "cell_type": "code",
   "execution_count": 5,
   "metadata": {
    "collapsed": false,
    "tags": []
   },
   "outputs": [
    {
     "data": {
      "text/plain": [
       "184"
      ]
     },
     "execution_count": 5,
     "metadata": {},
     "output_type": "execute_result"
    }
   ],
   "source": [
    "# Create analyser with tau value 360 [min] (can be changed)\n",
    "analyser = cs.PolicyMeasures(jhu_data, population_data, oxcgrt_data, tau=360)\n",
    "# The number of registerd countries\n",
    "len(analyser.countries)"
   ]
  },
  {
   "cell_type": "code",
   "execution_count": 6,
   "metadata": {
    "collapsed": false
   },
   "outputs": [
    {
     "data": {
      "text/plain": [
       "covsirphy.analysis.scenario.Scenario"
      ]
     },
     "execution_count": 6,
     "metadata": {},
     "output_type": "execute_result"
    }
   ],
   "source": [
    "# We can get Scenario instance for detailed scenario analysis\n",
    "type(analyser.scenario(\"Japan\"))"
   ]
  },
  {
   "cell_type": "markdown",
   "metadata": {},
   "source": [
    "## Set phases with S-R trend analysis\n",
    "We will perform S-R trend analysis to set phases in all countries. Countries which do not have **9th phases** will be un-registered for the next analysis. This number will be adjusted for your analysis."
   ]
  },
  {
   "cell_type": "code",
   "execution_count": 7,
   "metadata": {
    "collapsed": false
   },
   "outputs": [
    {
     "name": "stdout",
     "output_type": "stream",
     "text": [
      "{"
     ]
    },
    {
     "name": "stdout",
     "output_type": "stream",
     "text": [
      "2"
     ]
    },
    {
     "name": "stdout",
     "output_type": "stream",
     "text": [
      ": "
     ]
    },
    {
     "name": "stdout",
     "output_type": "stream",
     "text": [
      "['Papua New Guinea', 'Bahamas', 'Gambia']"
     ]
    },
    {
     "name": "stdout",
     "output_type": "stream",
     "text": [
      ",\n",
      " "
     ]
    },
    {
     "name": "stdout",
     "output_type": "stream",
     "text": [
      "3"
     ]
    },
    {
     "name": "stdout",
     "output_type": "stream",
     "text": [
      ": "
     ]
    },
    {
     "name": "stdout",
     "output_type": "stream",
     "text": [
      "["
     ]
    },
    {
     "name": "stdout",
     "output_type": "stream",
     "text": [
      "'Mauritius'"
     ]
    },
    {
     "name": "stdout",
     "output_type": "stream",
     "text": [
      ", "
     ]
    },
    {
     "name": "stdout",
     "output_type": "stream",
     "text": [
      "'Antigua and Barbuda'"
     ]
    },
    {
     "name": "stdout",
     "output_type": "stream",
     "text": [
      ", "
     ]
    },
    {
     "name": "stdout",
     "output_type": "stream",
     "text": [
      "'Tanzania'"
     ]
    },
    {
     "name": "stdout",
     "output_type": "stream",
     "text": [
      ", "
     ]
    },
    {
     "name": "stdout",
     "output_type": "stream",
     "text": [
      "'Peru'"
     ]
    },
    {
     "name": "stdout",
     "output_type": "stream",
     "text": [
      ", "
     ]
    },
    {
     "name": "stdout",
     "output_type": "stream",
     "text": [
      "'Brunei'"
     ]
    },
    {
     "name": "stdout",
     "output_type": "stream",
     "text": [
      ",\n",
      "     "
     ]
    },
    {
     "name": "stdout",
     "output_type": "stream",
     "text": [
      "'Montenegro'"
     ]
    },
    {
     "name": "stdout",
     "output_type": "stream",
     "text": [
      ", "
     ]
    },
    {
     "name": "stdout",
     "output_type": "stream",
     "text": [
      "'Seychelles'"
     ]
    },
    {
     "name": "stdout",
     "output_type": "stream",
     "text": [
      ", "
     ]
    },
    {
     "name": "stdout",
     "output_type": "stream",
     "text": [
      "'Lesotho'"
     ]
    },
    {
     "name": "stdout",
     "output_type": "stream",
     "text": [
      ", "
     ]
    },
    {
     "name": "stdout",
     "output_type": "stream",
     "text": [
      "'Grenada'"
     ]
    },
    {
     "name": "stdout",
     "output_type": "stream",
     "text": [
      "]"
     ]
    },
    {
     "name": "stdout",
     "output_type": "stream",
     "text": [
      ",\n",
      " "
     ]
    },
    {
     "name": "stdout",
     "output_type": "stream",
     "text": [
      "4"
     ]
    },
    {
     "name": "stdout",
     "output_type": "stream",
     "text": [
      ": "
     ]
    },
    {
     "name": "stdout",
     "output_type": "stream",
     "text": [
      "["
     ]
    },
    {
     "name": "stdout",
     "output_type": "stream",
     "text": [
      "'Guyana'"
     ]
    },
    {
     "name": "stdout",
     "output_type": "stream",
     "text": [
      ", "
     ]
    },
    {
     "name": "stdout",
     "output_type": "stream",
     "text": [
      "'Norway'"
     ]
    },
    {
     "name": "stdout",
     "output_type": "stream",
     "text": [
      ", "
     ]
    },
    {
     "name": "stdout",
     "output_type": "stream",
     "text": [
      "'Paraguay'"
     ]
    },
    {
     "name": "stdout",
     "output_type": "stream",
     "text": [
      ", "
     ]
    },
    {
     "name": "stdout",
     "output_type": "stream",
     "text": [
      "'Zambia'"
     ]
    },
    {
     "name": "stdout",
     "output_type": "stream",
     "text": [
      ", "
     ]
    },
    {
     "name": "stdout",
     "output_type": "stream",
     "text": [
      "'Palestine'"
     ]
    },
    {
     "name": "stdout",
     "output_type": "stream",
     "text": [
      ", "
     ]
    },
    {
     "name": "stdout",
     "output_type": "stream",
     "text": [
      "'Suriname'"
     ]
    },
    {
     "name": "stdout",
     "output_type": "stream",
     "text": [
      ",\n",
      "     "
     ]
    },
    {
     "name": "stdout",
     "output_type": "stream",
     "text": [
      "'Zimbabwe'"
     ]
    },
    {
     "name": "stdout",
     "output_type": "stream",
     "text": [
      ", "
     ]
    },
    {
     "name": "stdout",
     "output_type": "stream",
     "text": [
      "'Saint Vincent and the Grenadines'"
     ]
    },
    {
     "name": "stdout",
     "output_type": "stream",
     "text": [
      ", "
     ]
    },
    {
     "name": "stdout",
     "output_type": "stream",
     "text": [
      "'Saint Lucia'"
     ]
    },
    {
     "name": "stdout",
     "output_type": "stream",
     "text": [
      ", "
     ]
    },
    {
     "name": "stdout",
     "output_type": "stream",
     "text": [
      "'Benin'"
     ]
    },
    {
     "name": "stdout",
     "output_type": "stream",
     "text": [
      ",\n",
      "     "
     ]
    },
    {
     "name": "stdout",
     "output_type": "stream",
     "text": [
      "'Malawi'"
     ]
    },
    {
     "name": "stdout",
     "output_type": "stream",
     "text": [
      ", "
     ]
    },
    {
     "name": "stdout",
     "output_type": "stream",
     "text": [
      "'Sao Tome and Principe'"
     ]
    },
    {
     "name": "stdout",
     "output_type": "stream",
     "text": [
      ", "
     ]
    },
    {
     "name": "stdout",
     "output_type": "stream",
     "text": [
      "'Iceland'"
     ]
    },
    {
     "name": "stdout",
     "output_type": "stream",
     "text": [
      ", "
     ]
    },
    {
     "name": "stdout",
     "output_type": "stream",
     "text": [
      "'Madagascar'"
     ]
    },
    {
     "name": "stdout",
     "output_type": "stream",
     "text": [
      ", "
     ]
    },
    {
     "name": "stdout",
     "output_type": "stream",
     "text": [
      "'Venezuela'"
     ]
    },
    {
     "name": "stdout",
     "output_type": "stream",
     "text": [
      ",\n",
      "     "
     ]
    },
    {
     "name": "stdout",
     "output_type": "stream",
     "text": [
      "'Guatemala'"
     ]
    },
    {
     "name": "stdout",
     "output_type": "stream",
     "text": [
      ", "
     ]
    },
    {
     "name": "stdout",
     "output_type": "stream",
     "text": [
      "'South Sudan'"
     ]
    },
    {
     "name": "stdout",
     "output_type": "stream",
     "text": [
      ", "
     ]
    },
    {
     "name": "stdout",
     "output_type": "stream",
     "text": [
      "'Ethiopia'"
     ]
    },
    {
     "name": "stdout",
     "output_type": "stream",
     "text": [
      ", "
     ]
    },
    {
     "name": "stdout",
     "output_type": "stream",
     "text": [
      "'Central African Republic'"
     ]
    },
    {
     "name": "stdout",
     "output_type": "stream",
     "text": [
      ",\n",
      "     "
     ]
    },
    {
     "name": "stdout",
     "output_type": "stream",
     "text": [
      "'Liechtenstein'"
     ]
    },
    {
     "name": "stdout",
     "output_type": "stream",
     "text": [
      ", "
     ]
    },
    {
     "name": "stdout",
     "output_type": "stream",
     "text": [
      "'Botswana'"
     ]
    },
    {
     "name": "stdout",
     "output_type": "stream",
     "text": [
      ", "
     ]
    },
    {
     "name": "stdout",
     "output_type": "stream",
     "text": [
      "'New Zealand'"
     ]
    },
    {
     "name": "stdout",
     "output_type": "stream",
     "text": [
      ", "
     ]
    },
    {
     "name": "stdout",
     "output_type": "stream",
     "text": [
      "'Eritrea'"
     ]
    },
    {
     "name": "stdout",
     "output_type": "stream",
     "text": [
      ", "
     ]
    },
    {
     "name": "stdout",
     "output_type": "stream",
     "text": [
      "'Kyrgyzstan'"
     ]
    },
    {
     "name": "stdout",
     "output_type": "stream",
     "text": [
      ",\n",
      "     "
     ]
    },
    {
     "name": "stdout",
     "output_type": "stream",
     "text": [
      "'Belize'"
     ]
    },
    {
     "name": "stdout",
     "output_type": "stream",
     "text": [
      "]"
     ]
    },
    {
     "name": "stdout",
     "output_type": "stream",
     "text": [
      ",\n",
      " "
     ]
    },
    {
     "name": "stdout",
     "output_type": "stream",
     "text": [
      "5"
     ]
    },
    {
     "name": "stdout",
     "output_type": "stream",
     "text": [
      ": "
     ]
    },
    {
     "name": "stdout",
     "output_type": "stream",
     "text": [
      "["
     ]
    },
    {
     "name": "stdout",
     "output_type": "stream",
     "text": [
      "'Haiti'"
     ]
    },
    {
     "name": "stdout",
     "output_type": "stream",
     "text": [
      ", "
     ]
    },
    {
     "name": "stdout",
     "output_type": "stream",
     "text": [
      "'Malta'"
     ]
    },
    {
     "name": "stdout",
     "output_type": "stream",
     "text": [
      ", "
     ]
    },
    {
     "name": "stdout",
     "output_type": "stream",
     "text": [
      "'Slovenia'"
     ]
    },
    {
     "name": "stdout",
     "output_type": "stream",
     "text": [
      ", "
     ]
    },
    {
     "name": "stdout",
     "output_type": "stream",
     "text": [
      "'Bosnia and Herzegovina'"
     ]
    },
    {
     "name": "stdout",
     "output_type": "stream",
     "text": [
      ", "
     ]
    },
    {
     "name": "stdout",
     "output_type": "stream",
     "text": [
      "'Slovakia'"
     ]
    },
    {
     "name": "stdout",
     "output_type": "stream",
     "text": [
      ",\n",
      "     "
     ]
    },
    {
     "name": "stdout",
     "output_type": "stream",
     "text": [
      "'Andorra'"
     ]
    },
    {
     "name": "stdout",
     "output_type": "stream",
     "text": [
      ", "
     ]
    },
    {
     "name": "stdout",
     "output_type": "stream",
     "text": [
      "'Equatorial Guinea'"
     ]
    },
    {
     "name": "stdout",
     "output_type": "stream",
     "text": [
      ", "
     ]
    },
    {
     "name": "stdout",
     "output_type": "stream",
     "text": [
      "'Cambodia'"
     ]
    },
    {
     "name": "stdout",
     "output_type": "stream",
     "text": [
      ", "
     ]
    },
    {
     "name": "stdout",
     "output_type": "stream",
     "text": [
      "'Philippines'"
     ]
    },
    {
     "name": "stdout",
     "output_type": "stream",
     "text": [
      ", "
     ]
    },
    {
     "name": "stdout",
     "output_type": "stream",
     "text": [
      "'Nicaragua'"
     ]
    },
    {
     "name": "stdout",
     "output_type": "stream",
     "text": [
      ",\n",
      "     "
     ]
    },
    {
     "name": "stdout",
     "output_type": "stream",
     "text": [
      "'Kosovo'"
     ]
    },
    {
     "name": "stdout",
     "output_type": "stream",
     "text": [
      ", "
     ]
    },
    {
     "name": "stdout",
     "output_type": "stream",
     "text": [
      "'Bermuda'"
     ]
    },
    {
     "name": "stdout",
     "output_type": "stream",
     "text": [
      ", "
     ]
    },
    {
     "name": "stdout",
     "output_type": "stream",
     "text": [
      "'Bolivia'"
     ]
    },
    {
     "name": "stdout",
     "output_type": "stream",
     "text": [
      ", "
     ]
    },
    {
     "name": "stdout",
     "output_type": "stream",
     "text": [
      "'Japan'"
     ]
    },
    {
     "name": "stdout",
     "output_type": "stream",
     "text": [
      ", "
     ]
    },
    {
     "name": "stdout",
     "output_type": "stream",
     "text": [
      "'Syria'"
     ]
    },
    {
     "name": "stdout",
     "output_type": "stream",
     "text": [
      ", "
     ]
    },
    {
     "name": "stdout",
     "output_type": "stream",
     "text": [
      "'Angola'"
     ]
    },
    {
     "name": "stdout",
     "output_type": "stream",
     "text": [
      ", "
     ]
    },
    {
     "name": "stdout",
     "output_type": "stream",
     "text": [
      "'Netherlands'"
     ]
    },
    {
     "name": "stdout",
     "output_type": "stream",
     "text": [
      ",\n",
      "     "
     ]
    },
    {
     "name": "stdout",
     "output_type": "stream",
     "text": [
      "'Colombia'"
     ]
    },
    {
     "name": "stdout",
     "output_type": "stream",
     "text": [
      ", "
     ]
    },
    {
     "name": "stdout",
     "output_type": "stream",
     "text": [
      "'Ireland'"
     ]
    },
    {
     "name": "stdout",
     "output_type": "stream",
     "text": [
      ", "
     ]
    },
    {
     "name": "stdout",
     "output_type": "stream",
     "text": [
      "'Argentina'"
     ]
    },
    {
     "name": "stdout",
     "output_type": "stream",
     "text": [
      ", "
     ]
    },
    {
     "name": "stdout",
     "output_type": "stream",
     "text": [
      "'Comoros'"
     ]
    },
    {
     "name": "stdout",
     "output_type": "stream",
     "text": [
      ", "
     ]
    },
    {
     "name": "stdout",
     "output_type": "stream",
     "text": [
      "'Niger'"
     ]
    },
    {
     "name": "stdout",
     "output_type": "stream",
     "text": [
      ", "
     ]
    },
    {
     "name": "stdout",
     "output_type": "stream",
     "text": [
      "'Croatia'"
     ]
    },
    {
     "name": "stdout",
     "output_type": "stream",
     "text": [
      ", "
     ]
    },
    {
     "name": "stdout",
     "output_type": "stream",
     "text": [
      "'Kenya'"
     ]
    },
    {
     "name": "stdout",
     "output_type": "stream",
     "text": [
      ",\n",
      "     "
     ]
    },
    {
     "name": "stdout",
     "output_type": "stream",
     "text": [
      "'Morocco'"
     ]
    },
    {
     "name": "stdout",
     "output_type": "stream",
     "text": [
      ", "
     ]
    },
    {
     "name": "stdout",
     "output_type": "stream",
     "text": [
      "'Guinea-Bissau'"
     ]
    },
    {
     "name": "stdout",
     "output_type": "stream",
     "text": [
      ", "
     ]
    },
    {
     "name": "stdout",
     "output_type": "stream",
     "text": [
      "'Lebanon'"
     ]
    },
    {
     "name": "stdout",
     "output_type": "stream",
     "text": [
      ", "
     ]
    },
    {
     "name": "stdout",
     "output_type": "stream",
     "text": [
      "'Libya'"
     ]
    },
    {
     "name": "stdout",
     "output_type": "stream",
     "text": [
      ", "
     ]
    },
    {
     "name": "stdout",
     "output_type": "stream",
     "text": [
      "'Swaziland'"
     ]
    },
    {
     "name": "stdout",
     "output_type": "stream",
     "text": [
      ", "
     ]
    },
    {
     "name": "stdout",
     "output_type": "stream",
     "text": [
      "'Costa Rica'"
     ]
    },
    {
     "name": "stdout",
     "output_type": "stream",
     "text": [
      ",\n",
      "     "
     ]
    },
    {
     "name": "stdout",
     "output_type": "stream",
     "text": [
      "'Chad'"
     ]
    },
    {
     "name": "stdout",
     "output_type": "stream",
     "text": [
      "]"
     ]
    },
    {
     "name": "stdout",
     "output_type": "stream",
     "text": [
      ",\n",
      " "
     ]
    },
    {
     "name": "stdout",
     "output_type": "stream",
     "text": [
      "6"
     ]
    },
    {
     "name": "stdout",
     "output_type": "stream",
     "text": [
      ": "
     ]
    },
    {
     "name": "stdout",
     "output_type": "stream",
     "text": [
      "["
     ]
    },
    {
     "name": "stdout",
     "output_type": "stream",
     "text": [
      "'Togo'"
     ]
    },
    {
     "name": "stdout",
     "output_type": "stream",
     "text": [
      ", "
     ]
    },
    {
     "name": "stdout",
     "output_type": "stream",
     "text": [
      "'Congo'"
     ]
    },
    {
     "name": "stdout",
     "output_type": "stream",
     "text": [
      ", "
     ]
    },
    {
     "name": "stdout",
     "output_type": "stream",
     "text": [
      "'Sudan'"
     ]
    },
    {
     "name": "stdout",
     "output_type": "stream",
     "text": [
      ", "
     ]
    },
    {
     "name": "stdout",
     "output_type": "stream",
     "text": [
      "'Uganda'"
     ]
    },
    {
     "name": "stdout",
     "output_type": "stream",
     "text": [
      ", "
     ]
    },
    {
     "name": "stdout",
     "output_type": "stream",
     "text": [
      "'Australia'"
     ]
    },
    {
     "name": "stdout",
     "output_type": "stream",
     "text": [
      ", "
     ]
    },
    {
     "name": "stdout",
     "output_type": "stream",
     "text": [
      "'Azerbaijan'"
     ]
    },
    {
     "name": "stdout",
     "output_type": "stream",
     "text": [
      ", "
     ]
    },
    {
     "name": "stdout",
     "output_type": "stream",
     "text": [
      "'Sri Lanka'"
     ]
    },
    {
     "name": "stdout",
     "output_type": "stream",
     "text": [
      ",\n",
      "     "
     ]
    },
    {
     "name": "stdout",
     "output_type": "stream",
     "text": [
      "'Mongolia'"
     ]
    },
    {
     "name": "stdout",
     "output_type": "stream",
     "text": [
      ", "
     ]
    },
    {
     "name": "stdout",
     "output_type": "stream",
     "text": [
      "'Latvia'"
     ]
    },
    {
     "name": "stdout",
     "output_type": "stream",
     "text": [
      ", "
     ]
    },
    {
     "name": "stdout",
     "output_type": "stream",
     "text": [
      "'Somalia'"
     ]
    },
    {
     "name": "stdout",
     "output_type": "stream",
     "text": [
      ", "
     ]
    },
    {
     "name": "stdout",
     "output_type": "stream",
     "text": [
      "'Honduras'"
     ]
    },
    {
     "name": "stdout",
     "output_type": "stream",
     "text": [
      ", "
     ]
    },
    {
     "name": "stdout",
     "output_type": "stream",
     "text": [
      "'Iraq'"
     ]
    },
    {
     "name": "stdout",
     "output_type": "stream",
     "text": [
      ", "
     ]
    },
    {
     "name": "stdout",
     "output_type": "stream",
     "text": [
      "'Yemen'"
     ]
    },
    {
     "name": "stdout",
     "output_type": "stream",
     "text": [
      ",\n",
      "     "
     ]
    },
    {
     "name": "stdout",
     "output_type": "stream",
     "text": [
      "'Switzerland'"
     ]
    },
    {
     "name": "stdout",
     "output_type": "stream",
     "text": [
      ", "
     ]
    },
    {
     "name": "stdout",
     "output_type": "stream",
     "text": [
      "'Oman'"
     ]
    },
    {
     "name": "stdout",
     "output_type": "stream",
     "text": [
      ", "
     ]
    },
    {
     "name": "stdout",
     "output_type": "stream",
     "text": [
      "'Albania'"
     ]
    },
    {
     "name": "stdout",
     "output_type": "stream",
     "text": [
      ", "
     ]
    },
    {
     "name": "stdout",
     "output_type": "stream",
     "text": [
      "'India'"
     ]
    },
    {
     "name": "stdout",
     "output_type": "stream",
     "text": [
      ", "
     ]
    },
    {
     "name": "stdout",
     "output_type": "stream",
     "text": [
      "'Cape Verde'"
     ]
    },
    {
     "name": "stdout",
     "output_type": "stream",
     "text": [
      ", "
     ]
    },
    {
     "name": "stdout",
     "output_type": "stream",
     "text": [
      "'Barbados'"
     ]
    },
    {
     "name": "stdout",
     "output_type": "stream",
     "text": [
      ",\n",
      "     "
     ]
    },
    {
     "name": "stdout",
     "output_type": "stream",
     "text": [
      "'Cameroon'"
     ]
    },
    {
     "name": "stdout",
     "output_type": "stream",
     "text": [
      ", "
     ]
    },
    {
     "name": "stdout",
     "output_type": "stream",
     "text": [
      "'Germany'"
     ]
    },
    {
     "name": "stdout",
     "output_type": "stream",
     "text": [
      ", "
     ]
    },
    {
     "name": "stdout",
     "output_type": "stream",
     "text": [
      "'Cyprus'"
     ]
    },
    {
     "name": "stdout",
     "output_type": "stream",
     "text": [
      ", "
     ]
    },
    {
     "name": "stdout",
     "output_type": "stream",
     "text": [
      "'Burundi'"
     ]
    },
    {
     "name": "stdout",
     "output_type": "stream",
     "text": [
      ", "
     ]
    },
    {
     "name": "stdout",
     "output_type": "stream",
     "text": [
      "'El Salvador'"
     ]
    },
    {
     "name": "stdout",
     "output_type": "stream",
     "text": [
      ", "
     ]
    },
    {
     "name": "stdout",
     "output_type": "stream",
     "text": [
      "'Mauritania'"
     ]
    },
    {
     "name": "stdout",
     "output_type": "stream",
     "text": [
      ",\n",
      "     "
     ]
    },
    {
     "name": "stdout",
     "output_type": "stream",
     "text": [
      "'Macedonia'"
     ]
    },
    {
     "name": "stdout",
     "output_type": "stream",
     "text": [
      ", "
     ]
    },
    {
     "name": "stdout",
     "output_type": "stream",
     "text": [
      "'Afghanistan'"
     ]
    },
    {
     "name": "stdout",
     "output_type": "stream",
     "text": [
      ", "
     ]
    },
    {
     "name": "stdout",
     "output_type": "stream",
     "text": [
      "'San Marino'"
     ]
    },
    {
     "name": "stdout",
     "output_type": "stream",
     "text": [
      ", "
     ]
    },
    {
     "name": "stdout",
     "output_type": "stream",
     "text": [
      "'Israel'"
     ]
    },
    {
     "name": "stdout",
     "output_type": "stream",
     "text": [
      ", "
     ]
    },
    {
     "name": "stdout",
     "output_type": "stream",
     "text": [
      "'Panama'"
     ]
    },
    {
     "name": "stdout",
     "output_type": "stream",
     "text": [
      ", "
     ]
    },
    {
     "name": "stdout",
     "output_type": "stream",
     "text": [
      "'Bulgaria'"
     ]
    },
    {
     "name": "stdout",
     "output_type": "stream",
     "text": [
      ",\n",
      "     "
     ]
    },
    {
     "name": "stdout",
     "output_type": "stream",
     "text": [
      "'Thailand'"
     ]
    },
    {
     "name": "stdout",
     "output_type": "stream",
     "text": [
      ", "
     ]
    },
    {
     "name": "stdout",
     "output_type": "stream",
     "text": [
      "'Rwanda'"
     ]
    },
    {
     "name": "stdout",
     "output_type": "stream",
     "text": [
      ", "
     ]
    },
    {
     "name": "stdout",
     "output_type": "stream",
     "text": [
      "'Spain'"
     ]
    },
    {
     "name": "stdout",
     "output_type": "stream",
     "text": [
      ", "
     ]
    },
    {
     "name": "stdout",
     "output_type": "stream",
     "text": [
      "'Kazakhstan'"
     ]
    },
    {
     "name": "stdout",
     "output_type": "stream",
     "text": [
      ", "
     ]
    },
    {
     "name": "stdout",
     "output_type": "stream",
     "text": [
      "'Trinidad and Tobago'"
     ]
    },
    {
     "name": "stdout",
     "output_type": "stream",
     "text": [
      ",\n",
      "     "
     ]
    },
    {
     "name": "stdout",
     "output_type": "stream",
     "text": [
      "'Ecuador'"
     ]
    },
    {
     "name": "stdout",
     "output_type": "stream",
     "text": [
      ", "
     ]
    },
    {
     "name": "stdout",
     "output_type": "stream",
     "text": [
      "'Taiwan'"
     ]
    },
    {
     "name": "stdout",
     "output_type": "stream",
     "text": [
      ", "
     ]
    },
    {
     "name": "stdout",
     "output_type": "stream",
     "text": [
      "'Uzbekistan'"
     ]
    },
    {
     "name": "stdout",
     "output_type": "stream",
     "text": [
      ", "
     ]
    },
    {
     "name": "stdout",
     "output_type": "stream",
     "text": [
      "'South Africa'"
     ]
    },
    {
     "name": "stdout",
     "output_type": "stream",
     "text": [
      ", "
     ]
    },
    {
     "name": "stdout",
     "output_type": "stream",
     "text": [
      "'Tajikistan'"
     ]
    },
    {
     "name": "stdout",
     "output_type": "stream",
     "text": [
      "]"
     ]
    },
    {
     "name": "stdout",
     "output_type": "stream",
     "text": [
      ",\n",
      " "
     ]
    },
    {
     "name": "stdout",
     "output_type": "stream",
     "text": [
      "7"
     ]
    },
    {
     "name": "stdout",
     "output_type": "stream",
     "text": [
      ": "
     ]
    },
    {
     "name": "stdout",
     "output_type": "stream",
     "text": [
      "["
     ]
    },
    {
     "name": "stdout",
     "output_type": "stream",
     "text": [
      "'Liberia'"
     ]
    },
    {
     "name": "stdout",
     "output_type": "stream",
     "text": [
      ", "
     ]
    },
    {
     "name": "stdout",
     "output_type": "stream",
     "text": [
      "'Nepal'"
     ]
    },
    {
     "name": "stdout",
     "output_type": "stream",
     "text": [
      ", "
     ]
    },
    {
     "name": "stdout",
     "output_type": "stream",
     "text": [
      "'Monaco'"
     ]
    },
    {
     "name": "stdout",
     "output_type": "stream",
     "text": [
      ", "
     ]
    },
    {
     "name": "stdout",
     "output_type": "stream",
     "text": [
      "'Greece'"
     ]
    },
    {
     "name": "stdout",
     "output_type": "stream",
     "text": [
      ", "
     ]
    },
    {
     "name": "stdout",
     "output_type": "stream",
     "text": [
      "'Armenia'"
     ]
    },
    {
     "name": "stdout",
     "output_type": "stream",
     "text": [
      ", "
     ]
    },
    {
     "name": "stdout",
     "output_type": "stream",
     "text": [
      "'Brazil'"
     ]
    },
    {
     "name": "stdout",
     "output_type": "stream",
     "text": [
      ",\n",
      "     "
     ]
    },
    {
     "name": "stdout",
     "output_type": "stream",
     "text": [
      "'Sierra Leone'"
     ]
    },
    {
     "name": "stdout",
     "output_type": "stream",
     "text": [
      ", "
     ]
    },
    {
     "name": "stdout",
     "output_type": "stream",
     "text": [
      "'Serbia'"
     ]
    },
    {
     "name": "stdout",
     "output_type": "stream",
     "text": [
      ", "
     ]
    },
    {
     "name": "stdout",
     "output_type": "stream",
     "text": [
      "'Egypt'"
     ]
    },
    {
     "name": "stdout",
     "output_type": "stream",
     "text": [
      ", "
     ]
    },
    {
     "name": "stdout",
     "output_type": "stream",
     "text": [
      "'Bangladesh'"
     ]
    },
    {
     "name": "stdout",
     "output_type": "stream",
     "text": [
      ", "
     ]
    },
    {
     "name": "stdout",
     "output_type": "stream",
     "text": [
      "'Belarus'"
     ]
    },
    {
     "name": "stdout",
     "output_type": "stream",
     "text": [
      ", "
     ]
    },
    {
     "name": "stdout",
     "output_type": "stream",
     "text": [
      "'Jordan'"
     ]
    },
    {
     "name": "stdout",
     "output_type": "stream",
     "text": [
      ",\n",
      "     "
     ]
    },
    {
     "name": "stdout",
     "output_type": "stream",
     "text": [
      "'Djibouti'"
     ]
    },
    {
     "name": "stdout",
     "output_type": "stream",
     "text": [
      ", "
     ]
    },
    {
     "name": "stdout",
     "output_type": "stream",
     "text": [
      "'Indonesia'"
     ]
    },
    {
     "name": "stdout",
     "output_type": "stream",
     "text": [
      ", "
     ]
    },
    {
     "name": "stdout",
     "output_type": "stream",
     "text": [
      "'Ghana'"
     ]
    },
    {
     "name": "stdout",
     "output_type": "stream",
     "text": [
      ", "
     ]
    },
    {
     "name": "stdout",
     "output_type": "stream",
     "text": [
      "'Lithuania'"
     ]
    },
    {
     "name": "stdout",
     "output_type": "stream",
     "text": [
      ", "
     ]
    },
    {
     "name": "stdout",
     "output_type": "stream",
     "text": [
      "'Gabon'"
     ]
    },
    {
     "name": "stdout",
     "output_type": "stream",
     "text": [
      ", "
     ]
    },
    {
     "name": "stdout",
     "output_type": "stream",
     "text": [
      "'Luxembourg'"
     ]
    },
    {
     "name": "stdout",
     "output_type": "stream",
     "text": [
      ",\n",
      "     "
     ]
    },
    {
     "name": "stdout",
     "output_type": "stream",
     "text": [
      "'Pakistan'"
     ]
    },
    {
     "name": "stdout",
     "output_type": "stream",
     "text": [
      ", "
     ]
    },
    {
     "name": "stdout",
     "output_type": "stream",
     "text": [
      "'Belgium'"
     ]
    },
    {
     "name": "stdout",
     "output_type": "stream",
     "text": [
      ", "
     ]
    },
    {
     "name": "stdout",
     "output_type": "stream",
     "text": [
      "'Finland'"
     ]
    },
    {
     "name": "stdout",
     "output_type": "stream",
     "text": [
      ", "
     ]
    },
    {
     "name": "stdout",
     "output_type": "stream",
     "text": [
      "'Mozambique'"
     ]
    },
    {
     "name": "stdout",
     "output_type": "stream",
     "text": [
      ", "
     ]
    },
    {
     "name": "stdout",
     "output_type": "stream",
     "text": [
      "'China'"
     ]
    },
    {
     "name": "stdout",
     "output_type": "stream",
     "text": [
      ", "
     ]
    },
    {
     "name": "stdout",
     "output_type": "stream",
     "text": [
      "'Algeria'"
     ]
    },
    {
     "name": "stdout",
     "output_type": "stream",
     "text": [
      ",\n",
      "     "
     ]
    },
    {
     "name": "stdout",
     "output_type": "stream",
     "text": [
      "'Estonia'"
     ]
    },
    {
     "name": "stdout",
     "output_type": "stream",
     "text": [
      ", "
     ]
    },
    {
     "name": "stdout",
     "output_type": "stream",
     "text": [
      "'Tunisia'"
     ]
    },
    {
     "name": "stdout",
     "output_type": "stream",
     "text": [
      ", "
     ]
    },
    {
     "name": "stdout",
     "output_type": "stream",
     "text": [
      "'Bhutan'"
     ]
    },
    {
     "name": "stdout",
     "output_type": "stream",
     "text": [
      ", "
     ]
    },
    {
     "name": "stdout",
     "output_type": "stream",
     "text": [
      "'Maldives'"
     ]
    },
    {
     "name": "stdout",
     "output_type": "stream",
     "text": [
      ", "
     ]
    },
    {
     "name": "stdout",
     "output_type": "stream",
     "text": [
      "'Myanmar'"
     ]
    },
    {
     "name": "stdout",
     "output_type": "stream",
     "text": [
      ", "
     ]
    },
    {
     "name": "stdout",
     "output_type": "stream",
     "text": [
      "'Burkina Faso'"
     ]
    },
    {
     "name": "stdout",
     "output_type": "stream",
     "text": [
      ",\n",
      "     "
     ]
    },
    {
     "name": "stdout",
     "output_type": "stream",
     "text": [
      "'Qatar'"
     ]
    },
    {
     "name": "stdout",
     "output_type": "stream",
     "text": [
      ", "
     ]
    },
    {
     "name": "stdout",
     "output_type": "stream",
     "text": [
      "'Mali'"
     ]
    },
    {
     "name": "stdout",
     "output_type": "stream",
     "text": [
      ", "
     ]
    },
    {
     "name": "stdout",
     "output_type": "stream",
     "text": [
      "'Dominican Republic'"
     ]
    },
    {
     "name": "stdout",
     "output_type": "stream",
     "text": [
      ", "
     ]
    },
    {
     "name": "stdout",
     "output_type": "stream",
     "text": [
      "'Mexico'"
     ]
    },
    {
     "name": "stdout",
     "output_type": "stream",
     "text": [
      ", "
     ]
    },
    {
     "name": "stdout",
     "output_type": "stream",
     "text": [
      "'Cuba'"
     ]
    },
    {
     "name": "stdout",
     "output_type": "stream",
     "text": [
      "]"
     ]
    },
    {
     "name": "stdout",
     "output_type": "stream",
     "text": [
      ",\n",
      " "
     ]
    },
    {
     "name": "stdout",
     "output_type": "stream",
     "text": [
      "8"
     ]
    },
    {
     "name": "stdout",
     "output_type": "stream",
     "text": [
      ": "
     ]
    },
    {
     "name": "stdout",
     "output_type": "stream",
     "text": [
      "["
     ]
    },
    {
     "name": "stdout",
     "output_type": "stream",
     "text": [
      "'Denmark'"
     ]
    },
    {
     "name": "stdout",
     "output_type": "stream",
     "text": [
      ", "
     ]
    },
    {
     "name": "stdout",
     "output_type": "stream",
     "text": [
      "'Romania'"
     ]
    },
    {
     "name": "stdout",
     "output_type": "stream",
     "text": [
      ", "
     ]
    },
    {
     "name": "stdout",
     "output_type": "stream",
     "text": [
      "'Turkey'"
     ]
    },
    {
     "name": "stdout",
     "output_type": "stream",
     "text": [
      ", "
     ]
    },
    {
     "name": "stdout",
     "output_type": "stream",
     "text": [
      "'Uruguay'"
     ]
    },
    {
     "name": "stdout",
     "output_type": "stream",
     "text": [
      ", "
     ]
    },
    {
     "name": "stdout",
     "output_type": "stream",
     "text": [
      "'Russia'"
     ]
    },
    {
     "name": "stdout",
     "output_type": "stream",
     "text": [
      ", "
     ]
    },
    {
     "name": "stdout",
     "output_type": "stream",
     "text": [
      "'Saudi Arabia'"
     ]
    },
    {
     "name": "stdout",
     "output_type": "stream",
     "text": [
      ",\n",
      "     "
     ]
    },
    {
     "name": "stdout",
     "output_type": "stream",
     "text": [
      "'Singapore'"
     ]
    },
    {
     "name": "stdout",
     "output_type": "stream",
     "text": [
      ", "
     ]
    },
    {
     "name": "stdout",
     "output_type": "stream",
     "text": [
      "'Korea, South'"
     ]
    },
    {
     "name": "stdout",
     "output_type": "stream",
     "text": [
      ", "
     ]
    },
    {
     "name": "stdout",
     "output_type": "stream",
     "text": [
      "'Vietnam'"
     ]
    },
    {
     "name": "stdout",
     "output_type": "stream",
     "text": [
      ", "
     ]
    },
    {
     "name": "stdout",
     "output_type": "stream",
     "text": [
      "'Chile'"
     ]
    },
    {
     "name": "stdout",
     "output_type": "stream",
     "text": [
      ", "
     ]
    },
    {
     "name": "stdout",
     "output_type": "stream",
     "text": [
      "'France'"
     ]
    },
    {
     "name": "stdout",
     "output_type": "stream",
     "text": [
      ", "
     ]
    },
    {
     "name": "stdout",
     "output_type": "stream",
     "text": [
      "'Nigeria'"
     ]
    },
    {
     "name": "stdout",
     "output_type": "stream",
     "text": [
      ",\n",
      "     "
     ]
    },
    {
     "name": "stdout",
     "output_type": "stream",
     "text": [
      "'United States'"
     ]
    },
    {
     "name": "stdout",
     "output_type": "stream",
     "text": [
      ", "
     ]
    },
    {
     "name": "stdout",
     "output_type": "stream",
     "text": [
      "'Georgia'"
     ]
    },
    {
     "name": "stdout",
     "output_type": "stream",
     "text": [
      ", "
     ]
    },
    {
     "name": "stdout",
     "output_type": "stream",
     "text": [
      "'Hungary'"
     ]
    },
    {
     "name": "stdout",
     "output_type": "stream",
     "text": [
      ", "
     ]
    },
    {
     "name": "stdout",
     "output_type": "stream",
     "text": [
      "'Jamaica'"
     ]
    },
    {
     "name": "stdout",
     "output_type": "stream",
     "text": [
      ", "
     ]
    },
    {
     "name": "stdout",
     "output_type": "stream",
     "text": [
      "'Malaysia'"
     ]
    },
    {
     "name": "stdout",
     "output_type": "stream",
     "text": [
      "]"
     ]
    },
    {
     "name": "stdout",
     "output_type": "stream",
     "text": [
      ",\n",
      " "
     ]
    },
    {
     "name": "stdout",
     "output_type": "stream",
     "text": [
      "9"
     ]
    },
    {
     "name": "stdout",
     "output_type": "stream",
     "text": [
      ": "
     ]
    },
    {
     "name": "stdout",
     "output_type": "stream",
     "text": [
      "["
     ]
    },
    {
     "name": "stdout",
     "output_type": "stream",
     "text": [
      "'Czech Republic'"
     ]
    },
    {
     "name": "stdout",
     "output_type": "stream",
     "text": [
      ", "
     ]
    },
    {
     "name": "stdout",
     "output_type": "stream",
     "text": [
      "'Ukraine'"
     ]
    },
    {
     "name": "stdout",
     "output_type": "stream",
     "text": [
      ", "
     ]
    },
    {
     "name": "stdout",
     "output_type": "stream",
     "text": [
      "'Canada'"
     ]
    },
    {
     "name": "stdout",
     "output_type": "stream",
     "text": [
      ", "
     ]
    },
    {
     "name": "stdout",
     "output_type": "stream",
     "text": [
      "'Italy'"
     ]
    },
    {
     "name": "stdout",
     "output_type": "stream",
     "text": [
      ", "
     ]
    },
    {
     "name": "stdout",
     "output_type": "stream",
     "text": [
      "'Moldova'"
     ]
    },
    {
     "name": "stdout",
     "output_type": "stream",
     "text": [
      ", "
     ]
    },
    {
     "name": "stdout",
     "output_type": "stream",
     "text": [
      "'Portugal'"
     ]
    },
    {
     "name": "stdout",
     "output_type": "stream",
     "text": [
      ",\n",
      "     "
     ]
    },
    {
     "name": "stdout",
     "output_type": "stream",
     "text": [
      "'Austria'"
     ]
    },
    {
     "name": "stdout",
     "output_type": "stream",
     "text": [
      ", "
     ]
    },
    {
     "name": "stdout",
     "output_type": "stream",
     "text": [
      "'United Arab Emirates'"
     ]
    },
    {
     "name": "stdout",
     "output_type": "stream",
     "text": [
      ", "
     ]
    },
    {
     "name": "stdout",
     "output_type": "stream",
     "text": [
      "'Poland'"
     ]
    },
    {
     "name": "stdout",
     "output_type": "stream",
     "text": [
      ", "
     ]
    },
    {
     "name": "stdout",
     "output_type": "stream",
     "text": [
      "'Kuwait'"
     ]
    },
    {
     "name": "stdout",
     "output_type": "stream",
     "text": [
      "]"
     ]
    },
    {
     "name": "stdout",
     "output_type": "stream",
     "text": [
      ",\n",
      " "
     ]
    },
    {
     "name": "stdout",
     "output_type": "stream",
     "text": [
      "10"
     ]
    },
    {
     "name": "stdout",
     "output_type": "stream",
     "text": [
      ": "
     ]
    },
    {
     "name": "stdout",
     "output_type": "stream",
     "text": [
      "['Senegal', 'Bahrain', 'Iran', 'Guinea']"
     ]
    },
    {
     "name": "stdout",
     "output_type": "stream",
     "text": [
      "}"
     ]
    },
    {
     "name": "stdout",
     "output_type": "stream",
     "text": [
      "\n"
     ]
    }
   ],
   "source": [
    "# Show the number of phases of all countries\n",
    "analyser.trend()\n",
    "pprint(analyser.phase_len(), compact=True)"
   ]
  },
  {
   "cell_type": "code",
   "execution_count": 8,
   "metadata": {
    "collapsed": false
   },
   "outputs": [
    {
     "data": {
      "text/plain": [
       "14"
      ]
     },
     "execution_count": 8,
     "metadata": {},
     "output_type": "execute_result"
    }
   ],
   "source": [
    "# Set phases with S-R trend analysis\n",
    "analyser.trend(min_len=9)\n",
    "# The number of countries\n",
    "len(analyser.countries)"
   ]
  },
  {
   "cell_type": "code",
   "execution_count": 9,
   "metadata": {
    "collapsed": false,
    "tags": []
   },
   "outputs": [
    {
     "name": "stdout",
     "output_type": "stream",
     "text": [
      "{"
     ]
    },
    {
     "name": "stdout",
     "output_type": "stream",
     "text": [
      "9"
     ]
    },
    {
     "name": "stdout",
     "output_type": "stream",
     "text": [
      ": "
     ]
    },
    {
     "name": "stdout",
     "output_type": "stream",
     "text": [
      "["
     ]
    },
    {
     "name": "stdout",
     "output_type": "stream",
     "text": [
      "'Czech Republic'"
     ]
    },
    {
     "name": "stdout",
     "output_type": "stream",
     "text": [
      ", "
     ]
    },
    {
     "name": "stdout",
     "output_type": "stream",
     "text": [
      "'Ukraine'"
     ]
    },
    {
     "name": "stdout",
     "output_type": "stream",
     "text": [
      ", "
     ]
    },
    {
     "name": "stdout",
     "output_type": "stream",
     "text": [
      "'Canada'"
     ]
    },
    {
     "name": "stdout",
     "output_type": "stream",
     "text": [
      ", "
     ]
    },
    {
     "name": "stdout",
     "output_type": "stream",
     "text": [
      "'Italy'"
     ]
    },
    {
     "name": "stdout",
     "output_type": "stream",
     "text": [
      ", "
     ]
    },
    {
     "name": "stdout",
     "output_type": "stream",
     "text": [
      "'Moldova'"
     ]
    },
    {
     "name": "stdout",
     "output_type": "stream",
     "text": [
      ", "
     ]
    },
    {
     "name": "stdout",
     "output_type": "stream",
     "text": [
      "'Portugal'"
     ]
    },
    {
     "name": "stdout",
     "output_type": "stream",
     "text": [
      ",\n",
      "     "
     ]
    },
    {
     "name": "stdout",
     "output_type": "stream",
     "text": [
      "'Austria'"
     ]
    },
    {
     "name": "stdout",
     "output_type": "stream",
     "text": [
      ", "
     ]
    },
    {
     "name": "stdout",
     "output_type": "stream",
     "text": [
      "'United Arab Emirates'"
     ]
    },
    {
     "name": "stdout",
     "output_type": "stream",
     "text": [
      ", "
     ]
    },
    {
     "name": "stdout",
     "output_type": "stream",
     "text": [
      "'Poland'"
     ]
    },
    {
     "name": "stdout",
     "output_type": "stream",
     "text": [
      ", "
     ]
    },
    {
     "name": "stdout",
     "output_type": "stream",
     "text": [
      "'Kuwait'"
     ]
    },
    {
     "name": "stdout",
     "output_type": "stream",
     "text": [
      "]"
     ]
    },
    {
     "name": "stdout",
     "output_type": "stream",
     "text": [
      ",\n",
      " "
     ]
    },
    {
     "name": "stdout",
     "output_type": "stream",
     "text": [
      "10"
     ]
    },
    {
     "name": "stdout",
     "output_type": "stream",
     "text": [
      ": "
     ]
    },
    {
     "name": "stdout",
     "output_type": "stream",
     "text": [
      "['Senegal', 'Bahrain', 'Iran', 'Guinea']"
     ]
    },
    {
     "name": "stdout",
     "output_type": "stream",
     "text": [
      "}"
     ]
    },
    {
     "name": "stdout",
     "output_type": "stream",
     "text": [
      "\n"
     ]
    }
   ],
   "source": [
    "phase_len_dict = analyser.phase_len()\n",
    "pprint(phase_len_dict, compact=True)"
   ]
  },
  {
   "cell_type": "code",
   "execution_count": 10,
   "metadata": {
    "collapsed": false,
    "tags": []
   },
   "outputs": [
    {
     "data": {
      "text/html": [
       "<div>\n",
       "<style scoped>\n",
       "    .dataframe tbody tr th:only-of-type {\n",
       "        vertical-align: middle;\n",
       "    }\n",
       "\n",
       "    .dataframe tbody tr th {\n",
       "        vertical-align: top;\n",
       "    }\n",
       "\n",
       "    .dataframe thead th {\n",
       "        text-align: right;\n",
       "    }\n",
       "</style>\n",
       "<table border=\"1\" class=\"dataframe\">\n",
       "  <thead>\n",
       "    <tr style=\"text-align: right;\">\n",
       "      <th></th>\n",
       "      <th></th>\n",
       "      <th>Type</th>\n",
       "      <th>Start</th>\n",
       "      <th>End</th>\n",
       "      <th>Population</th>\n",
       "    </tr>\n",
       "    <tr>\n",
       "      <th>Country</th>\n",
       "      <th>Phase</th>\n",
       "      <th></th>\n",
       "      <th></th>\n",
       "      <th></th>\n",
       "      <th></th>\n",
       "    </tr>\n",
       "  </thead>\n",
       "  <tbody>\n",
       "    <tr>\n",
       "      <th rowspan=\"10\" valign=\"top\">Senegal</th>\n",
       "      <th>1st</th>\n",
       "      <td>Past</td>\n",
       "      <td>30Apr2020</td>\n",
       "      <td>14May2020</td>\n",
       "      <td>15854360</td>\n",
       "    </tr>\n",
       "    <tr>\n",
       "      <th>2nd</th>\n",
       "      <td>Past</td>\n",
       "      <td>15May2020</td>\n",
       "      <td>29May2020</td>\n",
       "      <td>15854360</td>\n",
       "    </tr>\n",
       "    <tr>\n",
       "      <th>3rd</th>\n",
       "      <td>Past</td>\n",
       "      <td>30May2020</td>\n",
       "      <td>09Jun2020</td>\n",
       "      <td>15854360</td>\n",
       "    </tr>\n",
       "    <tr>\n",
       "      <th>4th</th>\n",
       "      <td>Past</td>\n",
       "      <td>10Jun2020</td>\n",
       "      <td>19Jun2020</td>\n",
       "      <td>15854360</td>\n",
       "    </tr>\n",
       "    <tr>\n",
       "      <th>5th</th>\n",
       "      <td>Past</td>\n",
       "      <td>20Jun2020</td>\n",
       "      <td>30Jun2020</td>\n",
       "      <td>15854360</td>\n",
       "    </tr>\n",
       "    <tr>\n",
       "      <th>6th</th>\n",
       "      <td>Past</td>\n",
       "      <td>01Jul2020</td>\n",
       "      <td>10Jul2020</td>\n",
       "      <td>15854360</td>\n",
       "    </tr>\n",
       "    <tr>\n",
       "      <th>7th</th>\n",
       "      <td>Past</td>\n",
       "      <td>11Jul2020</td>\n",
       "      <td>20Jul2020</td>\n",
       "      <td>15854360</td>\n",
       "    </tr>\n",
       "    <tr>\n",
       "      <th>8th</th>\n",
       "      <td>Past</td>\n",
       "      <td>21Jul2020</td>\n",
       "      <td>28Jul2020</td>\n",
       "      <td>15854360</td>\n",
       "    </tr>\n",
       "    <tr>\n",
       "      <th>9th</th>\n",
       "      <td>Past</td>\n",
       "      <td>29Jul2020</td>\n",
       "      <td>06Aug2020</td>\n",
       "      <td>15854360</td>\n",
       "    </tr>\n",
       "    <tr>\n",
       "      <th>10th</th>\n",
       "      <td>Past</td>\n",
       "      <td>07Aug2020</td>\n",
       "      <td>16Aug2020</td>\n",
       "      <td>15854360</td>\n",
       "    </tr>\n",
       "    <tr>\n",
       "      <th rowspan=\"10\" valign=\"top\">Bahrain</th>\n",
       "      <th>1st</th>\n",
       "      <td>Past</td>\n",
       "      <td>06May2020</td>\n",
       "      <td>25May2020</td>\n",
       "      <td>1569439</td>\n",
       "    </tr>\n",
       "    <tr>\n",
       "      <th>2nd</th>\n",
       "      <td>Past</td>\n",
       "      <td>26May2020</td>\n",
       "      <td>04Jun2020</td>\n",
       "      <td>1569439</td>\n",
       "    </tr>\n",
       "    <tr>\n",
       "      <th>3rd</th>\n",
       "      <td>Past</td>\n",
       "      <td>05Jun2020</td>\n",
       "      <td>13Jun2020</td>\n",
       "      <td>1569439</td>\n",
       "    </tr>\n",
       "    <tr>\n",
       "      <th>4th</th>\n",
       "      <td>Past</td>\n",
       "      <td>14Jun2020</td>\n",
       "      <td>21Jun2020</td>\n",
       "      <td>1569439</td>\n",
       "    </tr>\n",
       "    <tr>\n",
       "      <th>5th</th>\n",
       "      <td>Past</td>\n",
       "      <td>22Jun2020</td>\n",
       "      <td>29Jun2020</td>\n",
       "      <td>1569439</td>\n",
       "    </tr>\n",
       "    <tr>\n",
       "      <th>6th</th>\n",
       "      <td>Past</td>\n",
       "      <td>30Jun2020</td>\n",
       "      <td>07Jul2020</td>\n",
       "      <td>1569439</td>\n",
       "    </tr>\n",
       "    <tr>\n",
       "      <th>7th</th>\n",
       "      <td>Past</td>\n",
       "      <td>08Jul2020</td>\n",
       "      <td>15Jul2020</td>\n",
       "      <td>1569439</td>\n",
       "    </tr>\n",
       "    <tr>\n",
       "      <th>8th</th>\n",
       "      <td>Past</td>\n",
       "      <td>16Jul2020</td>\n",
       "      <td>25Jul2020</td>\n",
       "      <td>1569439</td>\n",
       "    </tr>\n",
       "    <tr>\n",
       "      <th>9th</th>\n",
       "      <td>Past</td>\n",
       "      <td>26Jul2020</td>\n",
       "      <td>04Aug2020</td>\n",
       "      <td>1569439</td>\n",
       "    </tr>\n",
       "    <tr>\n",
       "      <th>10th</th>\n",
       "      <td>Past</td>\n",
       "      <td>05Aug2020</td>\n",
       "      <td>16Aug2020</td>\n",
       "      <td>1569439</td>\n",
       "    </tr>\n",
       "    <tr>\n",
       "      <th rowspan=\"10\" valign=\"top\">Iran</th>\n",
       "      <th>1st</th>\n",
       "      <td>Past</td>\n",
       "      <td>28Mar2020</td>\n",
       "      <td>12Apr2020</td>\n",
       "      <td>81800269</td>\n",
       "    </tr>\n",
       "    <tr>\n",
       "      <th>2nd</th>\n",
       "      <td>Past</td>\n",
       "      <td>13Apr2020</td>\n",
       "      <td>04May2020</td>\n",
       "      <td>81800269</td>\n",
       "    </tr>\n",
       "    <tr>\n",
       "      <th>3rd</th>\n",
       "      <td>Past</td>\n",
       "      <td>05May2020</td>\n",
       "      <td>20May2020</td>\n",
       "      <td>81800269</td>\n",
       "    </tr>\n",
       "    <tr>\n",
       "      <th>4th</th>\n",
       "      <td>Past</td>\n",
       "      <td>21May2020</td>\n",
       "      <td>02Jun2020</td>\n",
       "      <td>81800269</td>\n",
       "    </tr>\n",
       "    <tr>\n",
       "      <th>5th</th>\n",
       "      <td>Past</td>\n",
       "      <td>03Jun2020</td>\n",
       "      <td>15Jun2020</td>\n",
       "      <td>81800269</td>\n",
       "    </tr>\n",
       "    <tr>\n",
       "      <th>6th</th>\n",
       "      <td>Past</td>\n",
       "      <td>16Jun2020</td>\n",
       "      <td>27Jun2020</td>\n",
       "      <td>81800269</td>\n",
       "    </tr>\n",
       "    <tr>\n",
       "      <th>7th</th>\n",
       "      <td>Past</td>\n",
       "      <td>28Jun2020</td>\n",
       "      <td>09Jul2020</td>\n",
       "      <td>81800269</td>\n",
       "    </tr>\n",
       "    <tr>\n",
       "      <th>8th</th>\n",
       "      <td>Past</td>\n",
       "      <td>10Jul2020</td>\n",
       "      <td>21Jul2020</td>\n",
       "      <td>81800269</td>\n",
       "    </tr>\n",
       "    <tr>\n",
       "      <th>9th</th>\n",
       "      <td>Past</td>\n",
       "      <td>22Jul2020</td>\n",
       "      <td>02Aug2020</td>\n",
       "      <td>81800269</td>\n",
       "    </tr>\n",
       "    <tr>\n",
       "      <th>10th</th>\n",
       "      <td>Past</td>\n",
       "      <td>03Aug2020</td>\n",
       "      <td>16Aug2020</td>\n",
       "      <td>81800269</td>\n",
       "    </tr>\n",
       "    <tr>\n",
       "      <th rowspan=\"10\" valign=\"top\">Guinea</th>\n",
       "      <th>1st</th>\n",
       "      <td>Past</td>\n",
       "      <td>02May2020</td>\n",
       "      <td>11May2020</td>\n",
       "      <td>12414318</td>\n",
       "    </tr>\n",
       "    <tr>\n",
       "      <th>2nd</th>\n",
       "      <td>Past</td>\n",
       "      <td>12May2020</td>\n",
       "      <td>19May2020</td>\n",
       "      <td>12414318</td>\n",
       "    </tr>\n",
       "    <tr>\n",
       "      <th>3rd</th>\n",
       "      <td>Past</td>\n",
       "      <td>20May2020</td>\n",
       "      <td>28May2020</td>\n",
       "      <td>12414318</td>\n",
       "    </tr>\n",
       "    <tr>\n",
       "      <th>4th</th>\n",
       "      <td>Past</td>\n",
       "      <td>29May2020</td>\n",
       "      <td>08Jun2020</td>\n",
       "      <td>12414318</td>\n",
       "    </tr>\n",
       "    <tr>\n",
       "      <th>5th</th>\n",
       "      <td>Past</td>\n",
       "      <td>09Jun2020</td>\n",
       "      <td>17Jun2020</td>\n",
       "      <td>12414318</td>\n",
       "    </tr>\n",
       "    <tr>\n",
       "      <th>6th</th>\n",
       "      <td>Past</td>\n",
       "      <td>18Jun2020</td>\n",
       "      <td>02Jul2020</td>\n",
       "      <td>12414318</td>\n",
       "    </tr>\n",
       "    <tr>\n",
       "      <th>7th</th>\n",
       "      <td>Past</td>\n",
       "      <td>03Jul2020</td>\n",
       "      <td>14Jul2020</td>\n",
       "      <td>12414318</td>\n",
       "    </tr>\n",
       "    <tr>\n",
       "      <th>8th</th>\n",
       "      <td>Past</td>\n",
       "      <td>15Jul2020</td>\n",
       "      <td>23Jul2020</td>\n",
       "      <td>12414318</td>\n",
       "    </tr>\n",
       "    <tr>\n",
       "      <th>9th</th>\n",
       "      <td>Past</td>\n",
       "      <td>24Jul2020</td>\n",
       "      <td>03Aug2020</td>\n",
       "      <td>12414318</td>\n",
       "    </tr>\n",
       "    <tr>\n",
       "      <th>10th</th>\n",
       "      <td>Past</td>\n",
       "      <td>04Aug2020</td>\n",
       "      <td>16Aug2020</td>\n",
       "      <td>12414318</td>\n",
       "    </tr>\n",
       "  </tbody>\n",
       "</table>\n",
       "</div>"
      ],
      "text/plain": [
       "               Type      Start        End  Population\n",
       "Country Phase                                        \n",
       "Senegal 1st    Past  30Apr2020  14May2020    15854360\n",
       "        2nd    Past  15May2020  29May2020    15854360\n",
       "        3rd    Past  30May2020  09Jun2020    15854360\n",
       "        4th    Past  10Jun2020  19Jun2020    15854360\n",
       "        5th    Past  20Jun2020  30Jun2020    15854360\n",
       "        6th    Past  01Jul2020  10Jul2020    15854360\n",
       "        7th    Past  11Jul2020  20Jul2020    15854360\n",
       "        8th    Past  21Jul2020  28Jul2020    15854360\n",
       "        9th    Past  29Jul2020  06Aug2020    15854360\n",
       "        10th   Past  07Aug2020  16Aug2020    15854360\n",
       "Bahrain 1st    Past  06May2020  25May2020     1569439\n",
       "        2nd    Past  26May2020  04Jun2020     1569439\n",
       "        3rd    Past  05Jun2020  13Jun2020     1569439\n",
       "        4th    Past  14Jun2020  21Jun2020     1569439\n",
       "        5th    Past  22Jun2020  29Jun2020     1569439\n",
       "        6th    Past  30Jun2020  07Jul2020     1569439\n",
       "        7th    Past  08Jul2020  15Jul2020     1569439\n",
       "        8th    Past  16Jul2020  25Jul2020     1569439\n",
       "        9th    Past  26Jul2020  04Aug2020     1569439\n",
       "        10th   Past  05Aug2020  16Aug2020     1569439\n",
       "Iran    1st    Past  28Mar2020  12Apr2020    81800269\n",
       "        2nd    Past  13Apr2020  04May2020    81800269\n",
       "        3rd    Past  05May2020  20May2020    81800269\n",
       "        4th    Past  21May2020  02Jun2020    81800269\n",
       "        5th    Past  03Jun2020  15Jun2020    81800269\n",
       "        6th    Past  16Jun2020  27Jun2020    81800269\n",
       "        7th    Past  28Jun2020  09Jul2020    81800269\n",
       "        8th    Past  10Jul2020  21Jul2020    81800269\n",
       "        9th    Past  22Jul2020  02Aug2020    81800269\n",
       "        10th   Past  03Aug2020  16Aug2020    81800269\n",
       "Guinea  1st    Past  02May2020  11May2020    12414318\n",
       "        2nd    Past  12May2020  19May2020    12414318\n",
       "        3rd    Past  20May2020  28May2020    12414318\n",
       "        4th    Past  29May2020  08Jun2020    12414318\n",
       "        5th    Past  09Jun2020  17Jun2020    12414318\n",
       "        6th    Past  18Jun2020  02Jul2020    12414318\n",
       "        7th    Past  03Jul2020  14Jul2020    12414318\n",
       "        8th    Past  15Jul2020  23Jul2020    12414318\n",
       "        9th    Past  24Jul2020  03Aug2020    12414318\n",
       "        10th   Past  04Aug2020  16Aug2020    12414318"
      ]
     },
     "execution_count": 10,
     "metadata": {},
     "output_type": "execute_result"
    }
   ],
   "source": [
    "# Here, only show the countries which have the most phases\n",
    "countries_show = max(phase_len_dict.items(), key=lambda x: x[0])[1]\n",
    "# Show summary\n",
    "analyser.summary(countries=countries_show)"
   ]
  },
  {
   "cell_type": "markdown",
   "metadata": {},
   "source": [
    "## Parameter estimation\n",
    "we will estimate the parameter values with SIR-derived ODE models in each country."
   ]
  },
  {
   "cell_type": "code",
   "execution_count": 11,
   "metadata": {
    "collapsed": false,
    "tags": []
   },
   "outputs": [
    {
     "name": "stdout",
     "output_type": "stream",
     "text": [
      "\n",
      "<SIR-F model: parameter estimation>"
     ]
    },
    {
     "name": "stdout",
     "output_type": "stream",
     "text": [
      "\n"
     ]
    },
    {
     "name": "stdout",
     "output_type": "stream",
     "text": [
      "Running optimization with 4 CPUs..."
     ]
    },
    {
     "name": "stdout",
     "output_type": "stream",
     "text": [
      "\n"
     ]
    },
    {
     "name": "stdout",
     "output_type": "stream",
     "text": [
      "\tPRT,  5th phase (17Jun2020 - 25Jun2020): finished  203 trials in 0 min 10 sec"
     ]
    },
    {
     "name": "stdout",
     "output_type": "stream",
     "text": [
      "\n"
     ]
    },
    {
     "name": "stdout",
     "output_type": "stream",
     "text": [
      "\tGIN,  7th phase (03Jul2020 - 14Jul2020): finished 1138 trials in 1 min  0 sec"
     ]
    },
    {
     "name": "stdout",
     "output_type": "stream",
     "text": [
      "\n"
     ]
    },
    {
     "name": "stdout",
     "output_type": "stream",
     "text": [
      "\tCZE,  1st phase (08Apr2020 - 16Apr2020): finished 1151 trials in 1 min  0 sec"
     ]
    },
    {
     "name": "stdout",
     "output_type": "stream",
     "text": [
      "\n"
     ]
    },
    {
     "name": "stdout",
     "output_type": "stream",
     "text": [
      "\tCAN,  9th phase (26Jul2020 - 16Aug2020): finished 1147 trials in 1 min  0 sec"
     ]
    },
    {
     "name": "stdout",
     "output_type": "stream",
     "text": [
      "\n"
     ]
    },
    {
     "name": "stdout",
     "output_type": "stream",
     "text": [
      "\tITA,  1st phase (24Mar2020 - 31Mar2020): finished  239 trials in 0 min 10 sec"
     ]
    },
    {
     "name": "stdout",
     "output_type": "stream",
     "text": [
      "\n"
     ]
    },
    {
     "name": "stdout",
     "output_type": "stream",
     "text": [
      "\tIRN,  6th phase (16Jun2020 - 27Jun2020): finished 1178 trials in 1 min  0 sec"
     ]
    },
    {
     "name": "stdout",
     "output_type": "stream",
     "text": [
      "\n"
     ]
    },
    {
     "name": "stdout",
     "output_type": "stream",
     "text": [
      "\tAUT,  6th phase (02Jul2020 - 17Jul2020): finished  354 trials in 0 min 15 sec"
     ]
    },
    {
     "name": "stdout",
     "output_type": "stream",
     "text": [
      "\n"
     ]
    },
    {
     "name": "stdout",
     "output_type": "stream",
     "text": [
      "\tKWT,  3rd phase (06Jun2020 - 15Jun2020): finished  668 trials in 0 min 30 sec"
     ]
    },
    {
     "name": "stdout",
     "output_type": "stream",
     "text": [
      "\n"
     ]
    },
    {
     "name": "stdout",
     "output_type": "stream",
     "text": [
      "\tPRT,  6th phase (26Jun2020 - 07Jul2020): finished  237 trials in 0 min 10 sec"
     ]
    },
    {
     "name": "stdout",
     "output_type": "stream",
     "text": [
      "\n"
     ]
    },
    {
     "name": "stdout",
     "output_type": "stream",
     "text": [
      "\tCZE,  9th phase (31Jul2020 - 16Aug2020): finished  555 trials in 0 min 25 sec"
     ]
    },
    {
     "name": "stdout",
     "output_type": "stream",
     "text": [
      "\n"
     ]
    },
    {
     "name": "stdout",
     "output_type": "stream",
     "text": [
      "\tCZE,  8th phase (21Jul2020 - 30Jul2020): finished 1180 trials in 1 min  0 sec"
     ]
    },
    {
     "name": "stdout",
     "output_type": "stream",
     "text": [
      "\n"
     ]
    },
    {
     "name": "stdout",
     "output_type": "stream",
     "text": [
      "\tPRT,  2nd phase (18May2020 - 28May2020): finished 1212 trials in 1 min  0 sec"
     ]
    },
    {
     "name": "stdout",
     "output_type": "stream",
     "text": [
      "\n"
     ]
    },
    {
     "name": "stdout",
     "output_type": "stream",
     "text": [
      "\tITA,  5th phase (02May2020 - 09May2020): finished  248 trials in 0 min 10 sec"
     ]
    },
    {
     "name": "stdout",
     "output_type": "stream",
     "text": [
      "\n"
     ]
    },
    {
     "name": "stdout",
     "output_type": "stream",
     "text": [
      "\tARE,  6th phase (23Jun2020 - 02Jul2020): finished 1222 trials in 1 min  0 sec"
     ]
    },
    {
     "name": "stdout",
     "output_type": "stream",
     "text": [
      "\n"
     ]
    },
    {
     "name": "stdout",
     "output_type": "stream",
     "text": [
      "\tSEN,  1st phase (30Apr2020 - 14May2020): finished 1175 trials in 1 min  0 sec"
     ]
    },
    {
     "name": "stdout",
     "output_type": "stream",
     "text": [
      "\n"
     ]
    },
    {
     "name": "stdout",
     "output_type": "stream",
     "text": [
      "\tMDA,  7th phase (20Jul2020 - 29Jul2020): finished  350 trials in 0 min 15 sec"
     ]
    },
    {
     "name": "stdout",
     "output_type": "stream",
     "text": [
      "\n"
     ]
    },
    {
     "name": "stdout",
     "output_type": "stream",
     "text": [
      "\tUKR,  7th phase (17Jul2020 - 24Jul2020): finished  251 trials in 0 min 10 sec"
     ]
    },
    {
     "name": "stdout",
     "output_type": "stream",
     "text": [
      "\n"
     ]
    },
    {
     "name": "stdout",
     "output_type": "stream",
     "text": [
      "\tBHR,  2nd phase (26May2020 - 04Jun2020): finished 1100 trials in 0 min 55 sec"
     ]
    },
    {
     "name": "stdout",
     "output_type": "stream",
     "text": [
      "\n"
     ]
    },
    {
     "name": "stdout",
     "output_type": "stream",
     "text": [
      "\tGIN,  8th phase (15Jul2020 - 23Jul2020): finished 1197 trials in 1 min  0 sec"
     ]
    },
    {
     "name": "stdout",
     "output_type": "stream",
     "text": [
      "\n"
     ]
    },
    {
     "name": "stdout",
     "output_type": "stream",
     "text": [
      "\tKWT,  6th phase (05Jul2020 - 14Jul2020): finished  461 trials in 0 min 20 sec"
     ]
    },
    {
     "name": "stdout",
     "output_type": "stream",
     "text": [
      "\n"
     ]
    },
    {
     "name": "stdout",
     "output_type": "stream",
     "text": [
      "\tITA,  4th phase (22Apr2020 - 01May2020): finished  440 trials in 0 min 20 sec"
     ]
    },
    {
     "name": "stdout",
     "output_type": "stream",
     "text": [
      "\n"
     ]
    },
    {
     "name": "stdout",
     "output_type": "stream",
     "text": [
      "\tGIN,  9th phase (24Jul2020 - 03Aug2020): finished 1173 trials in 1 min  0 sec"
     ]
    },
    {
     "name": "stdout",
     "output_type": "stream",
     "text": [
      "\n"
     ]
    },
    {
     "name": "stdout",
     "output_type": "stream",
     "text": [
      "\tPOL,  2nd phase (09May2020 - 20May2020): finished 1162 trials in 1 min  0 sec"
     ]
    },
    {
     "name": "stdout",
     "output_type": "stream",
     "text": [
      "\n"
     ]
    },
    {
     "name": "stdout",
     "output_type": "stream",
     "text": [
      "\tPRT,  1st phase (05May2020 - 17May2020): finished 1156 trials in 1 min  0 sec"
     ]
    },
    {
     "name": "stdout",
     "output_type": "stream",
     "text": [
      "\n"
     ]
    },
    {
     "name": "stdout",
     "output_type": "stream",
     "text": [
      "\tMDA,  6th phase (09Jul2020 - 19Jul2020): finished  217 trials in 0 min 10 sec"
     ]
    },
    {
     "name": "stdout",
     "output_type": "stream",
     "text": [
      "\n"
     ]
    },
    {
     "name": "stdout",
     "output_type": "stream",
     "text": [
      "\tITA,  9th phase (07Jul2020 - 16Aug2020): finished  436 trials in 0 min 20 sec"
     ]
    },
    {
     "name": "stdout",
     "output_type": "stream",
     "text": [
      "\n"
     ]
    },
    {
     "name": "stdout",
     "output_type": "stream",
     "text": [
      "\tPRT,  3rd phase (29May2020 - 06Jun2020): finished  440 trials in 0 min 20 sec"
     ]
    },
    {
     "name": "stdout",
     "output_type": "stream",
     "text": [
      "\n"
     ]
    },
    {
     "name": "stdout",
     "output_type": "stream",
     "text": [
      "\tPOL,  7th phase (14Jul2020 - 24Jul2020): finished  438 trials in 0 min 20 sec"
     ]
    },
    {
     "name": "stdout",
     "output_type": "stream",
     "text": [
      "\n"
     ]
    },
    {
     "name": "stdout",
     "output_type": "stream",
     "text": [
      "\tBHR,  9th phase (26Jul2020 - 04Aug2020): finished  324 trials in 0 min 15 sec"
     ]
    },
    {
     "name": "stdout",
     "output_type": "stream",
     "text": [
      "\n"
     ]
    },
    {
     "name": "stdout",
     "output_type": "stream",
     "text": [
      "\tUKR,  2nd phase (23May2020 - 08Jun2020): finished 1144 trials in 1 min  0 sec"
     ]
    },
    {
     "name": "stdout",
     "output_type": "stream",
     "text": [
      "\n"
     ]
    },
    {
     "name": "stdout",
     "output_type": "stream",
     "text": [
      "\tPOL,  4th phase (05Jun2020 - 16Jun2020): finished  231 trials in 0 min 10 sec"
     ]
    },
    {
     "name": "stdout",
     "output_type": "stream",
     "text": [
      "\n"
     ]
    },
    {
     "name": "stdout",
     "output_type": "stream",
     "text": [
      "\tBHR,  7th phase (08Jul2020 - 15Jul2020): finished 1185 trials in 1 min  0 sec"
     ]
    },
    {
     "name": "stdout",
     "output_type": "stream",
     "text": [
      "\n"
     ]
    },
    {
     "name": "stdout",
     "output_type": "stream",
     "text": [
      "\tPOL,  1st phase (23Apr2020 - 08May2020): finished 1159 trials in 1 min  0 sec"
     ]
    },
    {
     "name": "stdout",
     "output_type": "stream",
     "text": [
      "\n"
     ]
    },
    {
     "name": "stdout",
     "output_type": "stream",
     "text": [
      "\tBHR,  5th phase (22Jun2020 - 29Jun2020): finished 1176 trials in 1 min  0 sec"
     ]
    },
    {
     "name": "stdout",
     "output_type": "stream",
     "text": [
      "\n"
     ]
    },
    {
     "name": "stdout",
     "output_type": "stream",
     "text": [
      "\tSEN,  4th phase (10Jun2020 - 19Jun2020): finished 1162 trials in 1 min  0 sec"
     ]
    },
    {
     "name": "stdout",
     "output_type": "stream",
     "text": [
      "\n"
     ]
    },
    {
     "name": "stdout",
     "output_type": "stream",
     "text": [
      "\tGIN,  5th phase (09Jun2020 - 17Jun2020): finished  543 trials in 0 min 25 sec"
     ]
    },
    {
     "name": "stdout",
     "output_type": "stream",
     "text": [
      "\n"
     ]
    },
    {
     "name": "stdout",
     "output_type": "stream",
     "text": [
      "\tBHR,  8th phase (16Jul2020 - 25Jul2020): finished  125 trials in 0 min  5 sec"
     ]
    },
    {
     "name": "stdout",
     "output_type": "stream",
     "text": [
      "\n"
     ]
    },
    {
     "name": "stdout",
     "output_type": "stream",
     "text": [
      "\tGIN,  3rd phase (20May2020 - 28May2020): finished 1181 trials in 1 min  0 sec"
     ]
    },
    {
     "name": "stdout",
     "output_type": "stream",
     "text": [
      "\n"
     ]
    },
    {
     "name": "stdout",
     "output_type": "stream",
     "text": [
      "\tKWT,  1st phase (11May2020 - 23May2020): finished 1142 trials in 1 min  0 sec"
     ]
    },
    {
     "name": "stdout",
     "output_type": "stream",
     "text": [
      "\n"
     ]
    },
    {
     "name": "stdout",
     "output_type": "stream",
     "text": [
      "\tSEN, 10th phase (07Aug2020 - 16Aug2020): finished  544 trials in 0 min 25 sec"
     ]
    },
    {
     "name": "stdout",
     "output_type": "stream",
     "text": [
      "\n"
     ]
    },
    {
     "name": "stdout",
     "output_type": "stream",
     "text": [
      "\tCAN,  4th phase (07May2020 - 15May2020): finished  223 trials in 0 min 10 sec"
     ]
    },
    {
     "name": "stdout",
     "output_type": "stream",
     "text": [
      "\n"
     ]
    },
    {
     "name": "stdout",
     "output_type": "stream",
     "text": [
      "\tIRN,  7th phase (28Jun2020 - 09Jul2020): finished  220 trials in 0 min 10 sec"
     ]
    },
    {
     "name": "stdout",
     "output_type": "stream",
     "text": [
      "\n"
     ]
    },
    {
     "name": "stdout",
     "output_type": "stream",
     "text": [
      "\tSEN,  9th phase (29Jul2020 - 06Aug2020): finished  420 trials in 0 min 20 sec"
     ]
    },
    {
     "name": "stdout",
     "output_type": "stream",
     "text": [
      "\n"
     ]
    },
    {
     "name": "stdout",
     "output_type": "stream",
     "text": [
      "\tARE,  1st phase (28Apr2020 - 12May2020): finished 1122 trials in 1 min  0 sec"
     ]
    },
    {
     "name": "stdout",
     "output_type": "stream",
     "text": [
      "\n"
     ]
    },
    {
     "name": "stdout",
     "output_type": "stream",
     "text": [
      "\tSEN,  8th phase (21Jul2020 - 28Jul2020): finished 1114 trials in 1 min  0 sec"
     ]
    },
    {
     "name": "stdout",
     "output_type": "stream",
     "text": [
      "\n"
     ]
    },
    {
     "name": "stdout",
     "output_type": "stream",
     "text": [
      "\tUKR,  5th phase (28Jun2020 - 07Jul2020): finished  323 trials in 0 min 15 sec"
     ]
    },
    {
     "name": "stdout",
     "output_type": "stream",
     "text": [
      "\n"
     ]
    },
    {
     "name": "stdout",
     "output_type": "stream",
     "text": [
      "\tUKR,  1st phase (07May2020 - 22May2020): finished 1104 trials in 1 min  0 sec"
     ]
    },
    {
     "name": "stdout",
     "output_type": "stream",
     "text": [
      "\n"
     ]
    },
    {
     "name": "stdout",
     "output_type": "stream",
     "text": [
      "\tBHR,  1st phase (06May2020 - 25May2020): finished 1113 trials in 1 min  0 sec"
     ]
    },
    {
     "name": "stdout",
     "output_type": "stream",
     "text": [
      "\n"
     ]
    },
    {
     "name": "stdout",
     "output_type": "stream",
     "text": [
      "\tCAN,  6th phase (25May2020 - 06Jun2020): finished  248 trials in 0 min 10 sec"
     ]
    },
    {
     "name": "stdout",
     "output_type": "stream",
     "text": [
      "\n"
     ]
    },
    {
     "name": "stdout",
     "output_type": "stream",
     "text": [
      "\tCZE,  4th phase (16May2020 - 06Jun2020): finished  356 trials in 0 min 15 sec"
     ]
    },
    {
     "name": "stdout",
     "output_type": "stream",
     "text": [
      "\n"
     ]
    },
    {
     "name": "stdout",
     "output_type": "stream",
     "text": [
      "\tKWT,  2nd phase (24May2020 - 05Jun2020): finished 1130 trials in 1 min  0 sec"
     ]
    },
    {
     "name": "stdout",
     "output_type": "stream",
     "text": [
      "\n"
     ]
    },
    {
     "name": "stdout",
     "output_type": "stream",
     "text": [
      "\tIRN,  9th phase (22Jul2020 - 02Aug2020): finished  200 trials in 0 min 10 sec"
     ]
    },
    {
     "name": "stdout",
     "output_type": "stream",
     "text": [
      "\n"
     ]
    },
    {
     "name": "stdout",
     "output_type": "stream",
     "text": [
      "\tMDA,  8th phase (30Jul2020 - 06Aug2020): finished  484 trials in 0 min 20 sec"
     ]
    },
    {
     "name": "stdout",
     "output_type": "stream",
     "text": [
      "\n"
     ]
    },
    {
     "name": "stdout",
     "output_type": "stream",
     "text": [
      "\tARE,  8th phase (11Jul2020 - 25Jul2020): finished 1178 trials in 1 min  0 sec"
     ]
    },
    {
     "name": "stdout",
     "output_type": "stream",
     "text": [
      "\n"
     ]
    },
    {
     "name": "stdout",
     "output_type": "stream",
     "text": [
      "\tMDA,  2nd phase (29May2020 - 09Jun2020): finished 1194 trials in 1 min  0 sec"
     ]
    },
    {
     "name": "stdout",
     "output_type": "stream",
     "text": [
      "\n"
     ]
    },
    {
     "name": "stdout",
     "output_type": "stream",
     "text": [
      "\tITA,  3rd phase (13Apr2020 - 21Apr2020): finished  307 trials in 0 min 10 sec"
     ]
    },
    {
     "name": "stdout",
     "output_type": "stream",
     "text": [
      "\n"
     ]
    },
    {
     "name": "stdout",
     "output_type": "stream",
     "text": [
      "\tMDA,  4th phase (18Jun2020 - 26Jun2020): finished  663 trials in 0 min 20 sec"
     ]
    },
    {
     "name": "stdout",
     "output_type": "stream",
     "text": [
      "\n"
     ]
    },
    {
     "name": "stdout",
     "output_type": "stream",
     "text": [
      "\tGIN,  2nd phase (12May2020 - 19May2020): finished 1351 trials in 1 min  0 sec"
     ]
    },
    {
     "name": "stdout",
     "output_type": "stream",
     "text": [
      "\n"
     ]
    },
    {
     "name": "stdout",
     "output_type": "stream",
     "text": [
      "\tAUT,  7th phase (18Jul2020 - 28Jul2020): finished  180 trials in 0 min  5 sec"
     ]
    },
    {
     "name": "stdout",
     "output_type": "stream",
     "text": [
      "\n"
     ]
    },
    {
     "name": "stdout",
     "output_type": "stream",
     "text": [
      "\tSEN,  2nd phase (15May2020 - 29May2020): finished 1611 trials in 1 min  0 sec"
     ]
    },
    {
     "name": "stdout",
     "output_type": "stream",
     "text": [
      "\n"
     ]
    },
    {
     "name": "stdout",
     "output_type": "stream",
     "text": [
      "\tAUT,  8th phase (29Jul2020 - 07Aug2020): finished 1624 trials in 1 min  0 sec"
     ]
    },
    {
     "name": "stdout",
     "output_type": "stream",
     "text": [
      "\n"
     ]
    },
    {
     "name": "stdout",
     "output_type": "stream",
     "text": [
      "\tMDA,  3rd phase (10Jun2020 - 17Jun2020): finished  361 trials in 0 min 10 sec"
     ]
    },
    {
     "name": "stdout",
     "output_type": "stream",
     "text": [
      "\n"
     ]
    },
    {
     "name": "stdout",
     "output_type": "stream",
     "text": [
      "\tBHR,  4th phase (14Jun2020 - 21Jun2020): finished 1618 trials in 1 min  0 sec"
     ]
    },
    {
     "name": "stdout",
     "output_type": "stream",
     "text": [
      "\n"
     ]
    },
    {
     "name": "stdout",
     "output_type": "stream",
     "text": [
      "\tKWT,  5th phase (25Jun2020 - 04Jul2020): finished 1625 trials in 1 min  0 sec"
     ]
    },
    {
     "name": "stdout",
     "output_type": "stream",
     "text": [
      "\n"
     ]
    },
    {
     "name": "stdout",
     "output_type": "stream",
     "text": [
      "\tARE,  5th phase (12Jun2020 - 22Jun2020): finished 1167 trials in 0 min 40 sec"
     ]
    },
    {
     "name": "stdout",
     "output_type": "stream",
     "text": [
      "\n"
     ]
    },
    {
     "name": "stdout",
     "output_type": "stream",
     "text": [
      "\tIRN,  8th phase (10Jul2020 - 21Jul2020): finished  187 trials in 0 min  5 sec"
     ]
    },
    {
     "name": "stdout",
     "output_type": "stream",
     "text": [
      "\n"
     ]
    },
    {
     "name": "stdout",
     "output_type": "stream",
     "text": [
      "\tPOL,  3rd phase (21May2020 - 04Jun2020): finished  790 trials in 0 min 25 sec"
     ]
    },
    {
     "name": "stdout",
     "output_type": "stream",
     "text": [
      "\n"
     ]
    },
    {
     "name": "stdout",
     "output_type": "stream",
     "text": [
      "\tPRT,  4th phase (07Jun2020 - 16Jun2020): finished  923 trials in 0 min 30 sec"
     ]
    },
    {
     "name": "stdout",
     "output_type": "stream",
     "text": [
      "\n"
     ]
    },
    {
     "name": "stdout",
     "output_type": "stream",
     "text": [
      "\tSEN,  7th phase (11Jul2020 - 20Jul2020): finished  340 trials in 0 min 10 sec"
     ]
    },
    {
     "name": "stdout",
     "output_type": "stream",
     "text": [
      "\n"
     ]
    },
    {
     "name": "stdout",
     "output_type": "stream",
     "text": [
      "\tCAN,  5th phase (16May2020 - 24May2020): finished  193 trials in 0 min  5 sec"
     ]
    },
    {
     "name": "stdout",
     "output_type": "stream",
     "text": [
      "\n"
     ]
    },
    {
     "name": "stdout",
     "output_type": "stream",
     "text": [
      "\tSEN,  3rd phase (30May2020 - 09Jun2020): finished 1604 trials in 1 min  0 sec"
     ]
    },
    {
     "name": "stdout",
     "output_type": "stream",
     "text": [
      "\n"
     ]
    },
    {
     "name": "stdout",
     "output_type": "stream",
     "text": [
      "\tUKR,  9th phase (02Aug2020 - 16Aug2020): finished  650 trials in 0 min 20 sec"
     ]
    },
    {
     "name": "stdout",
     "output_type": "stream",
     "text": [
      "\n"
     ]
    },
    {
     "name": "stdout",
     "output_type": "stream",
     "text": [
      "\tSEN,  5th phase (20Jun2020 - 30Jun2020): finished  506 trials in 0 min 15 sec"
     ]
    },
    {
     "name": "stdout",
     "output_type": "stream",
     "text": [
      "\n"
     ]
    },
    {
     "name": "stdout",
     "output_type": "stream",
     "text": [
      "\tPOL,  5th phase (17Jun2020 - 30Jun2020): finished  357 trials in 0 min 10 sec"
     ]
    },
    {
     "name": "stdout",
     "output_type": "stream",
     "text": [
      "\n"
     ]
    },
    {
     "name": "stdout",
     "output_type": "stream",
     "text": [
      "\tAUT,  3rd phase (23Apr2020 - 09May2020): finished  670 trials in 0 min 20 sec"
     ]
    },
    {
     "name": "stdout",
     "output_type": "stream",
     "text": [
      "\n"
     ]
    },
    {
     "name": "stdout",
     "output_type": "stream",
     "text": [
      "\tBHR, 10th phase (05Aug2020 - 16Aug2020): finished 1622 trials in 1 min  0 sec"
     ]
    },
    {
     "name": "stdout",
     "output_type": "stream",
     "text": [
      "\n"
     ]
    },
    {
     "name": "stdout",
     "output_type": "stream",
     "text": [
      "\tIRN,  3rd phase (05May2020 - 20May2020): finished  359 trials in 0 min 10 sec"
     ]
    },
    {
     "name": "stdout",
     "output_type": "stream",
     "text": [
      "\n"
     ]
    },
    {
     "name": "stdout",
     "output_type": "stream",
     "text": [
      "\tCAN,  2nd phase (16Apr2020 - 23Apr2020): finished 1637 trials in 1 min  0 sec"
     ]
    },
    {
     "name": "stdout",
     "output_type": "stream",
     "text": [
      "\n"
     ]
    },
    {
     "name": "stdout",
     "output_type": "stream",
     "text": [
      "\tIRN,  5th phase (03Jun2020 - 15Jun2020): finished  789 trials in 0 min 25 sec"
     ]
    },
    {
     "name": "stdout",
     "output_type": "stream",
     "text": [
      "\n"
     ]
    },
    {
     "name": "stdout",
     "output_type": "stream",
     "text": [
      "\tPOL,  6th phase (01Jul2020 - 13Jul2020): finished  346 trials in 0 min 10 sec"
     ]
    },
    {
     "name": "stdout",
     "output_type": "stream",
     "text": [
      "\n"
     ]
    },
    {
     "name": "stdout",
     "output_type": "stream",
     "text": [
      "\tARE,  2nd phase (13May2020 - 24May2020): finished 1621 trials in 1 min  0 sec"
     ]
    },
    {
     "name": "stdout",
     "output_type": "stream",
     "text": [
      "\n"
     ]
    },
    {
     "name": "stdout",
     "output_type": "stream",
     "text": [
      "\tGIN, 10th phase (04Aug2020 - 16Aug2020): finished  510 trials in 0 min 15 sec"
     ]
    },
    {
     "name": "stdout",
     "output_type": "stream",
     "text": [
      "\n"
     ]
    },
    {
     "name": "stdout",
     "output_type": "stream",
     "text": [
      "\tAUT,  9th phase (08Aug2020 - 16Aug2020): finished  287 trials in 0 min 10 sec"
     ]
    },
    {
     "name": "stdout",
     "output_type": "stream",
     "text": [
      "\n"
     ]
    },
    {
     "name": "stdout",
     "output_type": "stream",
     "text": [
      "\tCZE,  5th phase (07Jun2020 - 24Jun2020): finished  186 trials in 0 min  5 sec"
     ]
    },
    {
     "name": "stdout",
     "output_type": "stream",
     "text": [
      "\n"
     ]
    },
    {
     "name": "stdout",
     "output_type": "stream",
     "text": [
      "\tMDA,  1st phase (12May2020 - 28May2020): finished 1574 trials in 1 min  0 sec"
     ]
    },
    {
     "name": "stdout",
     "output_type": "stream",
     "text": [
      "\n"
     ]
    },
    {
     "name": "stdout",
     "output_type": "stream",
     "text": [
      "\tAUT,  1st phase (29Mar2020 - 05Apr2020): finished  189 trials in 0 min  5 sec"
     ]
    },
    {
     "name": "stdout",
     "output_type": "stream",
     "text": [
      "\n"
     ]
    },
    {
     "name": "stdout",
     "output_type": "stream",
     "text": [
      "\tCZE,  3rd phase (28Apr2020 - 15May2020): finished 1577 trials in 1 min  0 sec"
     ]
    },
    {
     "name": "stdout",
     "output_type": "stream",
     "text": [
      "\n"
     ]
    },
    {
     "name": "stdout",
     "output_type": "stream",
     "text": [
      "\tITA,  6th phase (10May2020 - 19May2020): finished  357 trials in 0 min 10 sec"
     ]
    },
    {
     "name": "stdout",
     "output_type": "stream",
     "text": [
      "\n"
     ]
    },
    {
     "name": "stdout",
     "output_type": "stream",
     "text": [
      "\tGIN,  6th phase (18Jun2020 - 02Jul2020): finished 1535 trials in 1 min  0 sec"
     ]
    },
    {
     "name": "stdout",
     "output_type": "stream",
     "text": [
      "\n"
     ]
    },
    {
     "name": "stdout",
     "output_type": "stream",
     "text": [
      "\tITA,  8th phase (05Jun2020 - 06Jul2020): finished  472 trials in 0 min 20 sec"
     ]
    },
    {
     "name": "stdout",
     "output_type": "stream",
     "text": [
      "\n"
     ]
    },
    {
     "name": "stdout",
     "output_type": "stream",
     "text": [
      "\tSEN,  6th phase (01Jul2020 - 10Jul2020): finished 1300 trials in 1 min  0 sec"
     ]
    },
    {
     "name": "stdout",
     "output_type": "stream",
     "text": [
      "\n"
     ]
    },
    {
     "name": "stdout",
     "output_type": "stream",
     "text": [
      "\tCAN,  8th phase (02Jul2020 - 25Jul2020): finished 1286 trials in 1 min  0 sec"
     ]
    },
    {
     "name": "stdout",
     "output_type": "stream",
     "text": [
      "\n"
     ]
    },
    {
     "name": "stdout",
     "output_type": "stream",
     "text": [
      "\tCZE,  6th phase (25Jun2020 - 08Jul2020): finished 1276 trials in 1 min  0 sec"
     ]
    },
    {
     "name": "stdout",
     "output_type": "stream",
     "text": [
      "\n"
     ]
    },
    {
     "name": "stdout",
     "output_type": "stream",
     "text": [
      "\tIRN,  2nd phase (13Apr2020 - 04May2020): finished  554 trials in 0 min 25 sec"
     ]
    },
    {
     "name": "stdout",
     "output_type": "stream",
     "text": [
      "\n"
     ]
    },
    {
     "name": "stdout",
     "output_type": "stream",
     "text": [
      "\tUKR,  4th phase (20Jun2020 - 27Jun2020): finished  355 trials in 0 min 15 sec"
     ]
    },
    {
     "name": "stdout",
     "output_type": "stream",
     "text": [
      "\n"
     ]
    },
    {
     "name": "stdout",
     "output_type": "stream",
     "text": [
      "\tIRN, 10th phase (03Aug2020 - 16Aug2020): finished  456 trials in 0 min 20 sec"
     ]
    },
    {
     "name": "stdout",
     "output_type": "stream",
     "text": [
      "\n"
     ]
    },
    {
     "name": "stdout",
     "output_type": "stream",
     "text": [
      "\tKWT,  8th phase (24Jul2020 - 04Aug2020): finished  350 trials in 0 min 15 sec"
     ]
    },
    {
     "name": "stdout",
     "output_type": "stream",
     "text": [
      "\n"
     ]
    },
    {
     "name": "stdout",
     "output_type": "stream",
     "text": [
      "\tUKR,  8th phase (25Jul2020 - 01Aug2020): finished  280 trials in 0 min 10 sec"
     ]
    },
    {
     "name": "stdout",
     "output_type": "stream",
     "text": [
      "\n"
     ]
    },
    {
     "name": "stdout",
     "output_type": "stream",
     "text": [
      "\tUKR,  6th phase (08Jul2020 - 16Jul2020): finished  372 trials in 0 min 15 sec"
     ]
    },
    {
     "name": "stdout",
     "output_type": "stream",
     "text": [
      "\n"
     ]
    },
    {
     "name": "stdout",
     "output_type": "stream",
     "text": [
      "\tITA,  2nd phase (01Apr2020 - 12Apr2020): finished  232 trials in 0 min 10 sec"
     ]
    },
    {
     "name": "stdout",
     "output_type": "stream",
     "text": [
      "\n"
     ]
    },
    {
     "name": "stdout",
     "output_type": "stream",
     "text": [
      "\tPRT,  9th phase (30Jul2020 - 16Aug2020): finished  567 trials in 0 min 25 sec"
     ]
    },
    {
     "name": "stdout",
     "output_type": "stream",
     "text": [
      "\n"
     ]
    },
    {
     "name": "stdout",
     "output_type": "stream",
     "text": [
      "\tARE,  7th phase (03Jul2020 - 10Jul2020): finished 1207 trials in 1 min  0 sec"
     ]
    },
    {
     "name": "stdout",
     "output_type": "stream",
     "text": [
      "\n"
     ]
    },
    {
     "name": "stdout",
     "output_type": "stream",
     "text": [
      "\tPRT,  8th phase (17Jul2020 - 29Jul2020): finished  461 trials in 0 min 20 sec"
     ]
    },
    {
     "name": "stdout",
     "output_type": "stream",
     "text": [
      "\n"
     ]
    },
    {
     "name": "stdout",
     "output_type": "stream",
     "text": [
      "\tMDA,  5th phase (27Jun2020 - 08Jul2020): finished 1213 trials in 1 min  0 sec"
     ]
    },
    {
     "name": "stdout",
     "output_type": "stream",
     "text": [
      "\n"
     ]
    },
    {
     "name": "stdout",
     "output_type": "stream",
     "text": [
      "\tCZE,  2nd phase (17Apr2020 - 27Apr2020): finished  232 trials in 0 min 10 sec"
     ]
    },
    {
     "name": "stdout",
     "output_type": "stream",
     "text": [
      "\n"
     ]
    },
    {
     "name": "stdout",
     "output_type": "stream",
     "text": [
      "\tCAN,  3rd phase (24Apr2020 - 06May2020): finished  462 trials in 0 min 20 sec"
     ]
    },
    {
     "name": "stdout",
     "output_type": "stream",
     "text": [
      "\n"
     ]
    },
    {
     "name": "stdout",
     "output_type": "stream",
     "text": [
      "\tGIN,  4th phase (29May2020 - 08Jun2020): finished 1268 trials in 1 min  0 sec"
     ]
    },
    {
     "name": "stdout",
     "output_type": "stream",
     "text": [
      "\n"
     ]
    },
    {
     "name": "stdout",
     "output_type": "stream",
     "text": [
      "\tGIN,  1st phase (02May2020 - 11May2020): finished 1221 trials in 1 min  0 sec"
     ]
    },
    {
     "name": "stdout",
     "output_type": "stream",
     "text": [
      "\n"
     ]
    },
    {
     "name": "stdout",
     "output_type": "stream",
     "text": [
      "\tAUT,  4th phase (10May2020 - 29May2020): finished  275 trials in 0 min 10 sec"
     ]
    },
    {
     "name": "stdout",
     "output_type": "stream",
     "text": [
      "\n"
     ]
    },
    {
     "name": "stdout",
     "output_type": "stream",
     "text": [
      "\tBHR,  3rd phase (05Jun2020 - 13Jun2020): finished 1373 trials in 1 min  0 sec"
     ]
    },
    {
     "name": "stdout",
     "output_type": "stream",
     "text": [
      "\n"
     ]
    },
    {
     "name": "stdout",
     "output_type": "stream",
     "text": [
      "\tUKR,  3rd phase (09Jun2020 - 19Jun2020): finished 1124 trials in 0 min 45 sec"
     ]
    },
    {
     "name": "stdout",
     "output_type": "stream",
     "text": [
      "\n"
     ]
    },
    {
     "name": "stdout",
     "output_type": "stream",
     "text": [
      "\tBHR,  6th phase (30Jun2020 - 07Jul2020): finished  560 trials in 0 min 20 sec"
     ]
    },
    {
     "name": "stdout",
     "output_type": "stream",
     "text": [
      "\n"
     ]
    },
    {
     "name": "stdout",
     "output_type": "stream",
     "text": [
      "\tIRN,  4th phase (21May2020 - 02Jun2020): finished 1457 trials in 1 min  0 sec"
     ]
    },
    {
     "name": "stdout",
     "output_type": "stream",
     "text": [
      "\n"
     ]
    },
    {
     "name": "stdout",
     "output_type": "stream",
     "text": [
      "\tCAN,  7th phase (07Jun2020 - 01Jul2020): finished  281 trials in 0 min 10 sec"
     ]
    },
    {
     "name": "stdout",
     "output_type": "stream",
     "text": [
      "\n"
     ]
    },
    {
     "name": "stdout",
     "output_type": "stream",
     "text": [
      "\tITA,  7th phase (20May2020 - 04Jun2020): finished  447 trials in 0 min 15 sec"
     ]
    },
    {
     "name": "stdout",
     "output_type": "stream",
     "text": [
      "\n"
     ]
    },
    {
     "name": "stdout",
     "output_type": "stream",
     "text": [
      "\tIRN,  1st phase (28Mar2020 - 12Apr2020): finished 1448 trials in 1 min  0 sec"
     ]
    },
    {
     "name": "stdout",
     "output_type": "stream",
     "text": [
      "\n"
     ]
    },
    {
     "name": "stdout",
     "output_type": "stream",
     "text": [
      "\tKWT,  4th phase (16Jun2020 - 24Jun2020): finished 1513 trials in 1 min  0 sec"
     ]
    },
    {
     "name": "stdout",
     "output_type": "stream",
     "text": [
      "\n"
     ]
    },
    {
     "name": "stdout",
     "output_type": "stream",
     "text": [
      "\tARE,  4th phase (04Jun2020 - 11Jun2020): finished 1124 trials in 0 min 40 sec"
     ]
    },
    {
     "name": "stdout",
     "output_type": "stream",
     "text": [
      "\n"
     ]
    },
    {
     "name": "stdout",
     "output_type": "stream",
     "text": [
      "\tAUT,  5th phase (30May2020 - 01Jul2020): finished 1624 trials in 1 min  0 sec"
     ]
    },
    {
     "name": "stdout",
     "output_type": "stream",
     "text": [
      "\n"
     ]
    },
    {
     "name": "stdout",
     "output_type": "stream",
     "text": [
      "\tAUT,  2nd phase (06Apr2020 - 22Apr2020): finished 1678 trials in 1 min  0 sec"
     ]
    },
    {
     "name": "stdout",
     "output_type": "stream",
     "text": [
      "\n"
     ]
    },
    {
     "name": "stdout",
     "output_type": "stream",
     "text": [
      "\tCZE,  7th phase (09Jul2020 - 20Jul2020): finished 1699 trials in 1 min  0 sec"
     ]
    },
    {
     "name": "stdout",
     "output_type": "stream",
     "text": [
      "\n"
     ]
    },
    {
     "name": "stdout",
     "output_type": "stream",
     "text": [
      "\tARE,  3rd phase (25May2020 - 03Jun2020): finished 1171 trials in 0 min 35 sec"
     ]
    },
    {
     "name": "stdout",
     "output_type": "stream",
     "text": [
      "\n"
     ]
    },
    {
     "name": "stdout",
     "output_type": "stream",
     "text": [
      "\tCAN,  1st phase (08Apr2020 - 15Apr2020): finished 1857 trials in 1 min  0 sec"
     ]
    },
    {
     "name": "stdout",
     "output_type": "stream",
     "text": [
      "\n"
     ]
    },
    {
     "name": "stdout",
     "output_type": "stream",
     "text": [
      "Completed optimization. Total: 19 min 55 sec"
     ]
    },
    {
     "name": "stdout",
     "output_type": "stream",
     "text": [
      "\n"
     ]
    }
   ],
   "source": [
    "# Parameter estimation with SIR-F model\n",
    "analyser.estimate(cs.SIRF)"
   ]
  },
  {
   "cell_type": "code",
   "execution_count": 12,
   "metadata": {
    "collapsed": false
   },
   "outputs": [
    {
     "data": {
      "text/html": [
       "<div>\n",
       "<style scoped>\n",
       "    .dataframe tbody tr th:only-of-type {\n",
       "        vertical-align: middle;\n",
       "    }\n",
       "\n",
       "    .dataframe tbody tr th {\n",
       "        vertical-align: top;\n",
       "    }\n",
       "\n",
       "    .dataframe thead th {\n",
       "        text-align: right;\n",
       "    }\n",
       "</style>\n",
       "<table border=\"1\" class=\"dataframe\">\n",
       "  <thead>\n",
       "    <tr style=\"text-align: right;\">\n",
       "      <th></th>\n",
       "      <th></th>\n",
       "      <th>Type</th>\n",
       "      <th>Start</th>\n",
       "      <th>End</th>\n",
       "      <th>Population</th>\n",
       "      <th>ODE</th>\n",
       "      <th>Rt</th>\n",
       "      <th>theta</th>\n",
       "      <th>kappa</th>\n",
       "      <th>rho</th>\n",
       "      <th>sigma</th>\n",
       "      <th>tau</th>\n",
       "      <th>alpha1 [-]</th>\n",
       "      <th>1/beta [day]</th>\n",
       "      <th>1/gamma [day]</th>\n",
       "      <th>1/alpha2 [day]</th>\n",
       "      <th>RMSLE</th>\n",
       "      <th>Trials</th>\n",
       "      <th>Runtime</th>\n",
       "    </tr>\n",
       "    <tr>\n",
       "      <th>Country</th>\n",
       "      <th>Phase</th>\n",
       "      <th></th>\n",
       "      <th></th>\n",
       "      <th></th>\n",
       "      <th></th>\n",
       "      <th></th>\n",
       "      <th></th>\n",
       "      <th></th>\n",
       "      <th></th>\n",
       "      <th></th>\n",
       "      <th></th>\n",
       "      <th></th>\n",
       "      <th></th>\n",
       "      <th></th>\n",
       "      <th></th>\n",
       "      <th></th>\n",
       "      <th></th>\n",
       "      <th></th>\n",
       "      <th></th>\n",
       "    </tr>\n",
       "  </thead>\n",
       "  <tbody>\n",
       "    <tr>\n",
       "      <th rowspan=\"10\" valign=\"top\">Senegal</th>\n",
       "      <th>1st</th>\n",
       "      <td>Past</td>\n",
       "      <td>30Apr2020</td>\n",
       "      <td>14May2020</td>\n",
       "      <td>15854360</td>\n",
       "      <td>SIR-F</td>\n",
       "      <td>2.45</td>\n",
       "      <td>0.000828</td>\n",
       "      <td>0.000225</td>\n",
       "      <td>0.025426</td>\n",
       "      <td>0.010150</td>\n",
       "      <td>360</td>\n",
       "      <td>0.001</td>\n",
       "      <td>9</td>\n",
       "      <td>24</td>\n",
       "      <td>1110</td>\n",
       "      <td>0.102115</td>\n",
       "      <td>1175</td>\n",
       "      <td>1 min  0 sec</td>\n",
       "    </tr>\n",
       "    <tr>\n",
       "      <th>2nd</th>\n",
       "      <td>Past</td>\n",
       "      <td>15May2020</td>\n",
       "      <td>29May2020</td>\n",
       "      <td>15854360</td>\n",
       "      <td>SIR-F</td>\n",
       "      <td>1.26</td>\n",
       "      <td>0.000172</td>\n",
       "      <td>0.000165</td>\n",
       "      <td>0.012952</td>\n",
       "      <td>0.010079</td>\n",
       "      <td>360</td>\n",
       "      <td>0.000</td>\n",
       "      <td>19</td>\n",
       "      <td>24</td>\n",
       "      <td>1518</td>\n",
       "      <td>0.040043</td>\n",
       "      <td>1611</td>\n",
       "      <td>1 min  0 sec</td>\n",
       "    </tr>\n",
       "    <tr>\n",
       "      <th>3rd</th>\n",
       "      <td>Past</td>\n",
       "      <td>30May2020</td>\n",
       "      <td>09Jun2020</td>\n",
       "      <td>15854360</td>\n",
       "      <td>SIR-F</td>\n",
       "      <td>0.99</td>\n",
       "      <td>0.000665</td>\n",
       "      <td>0.000112</td>\n",
       "      <td>0.013266</td>\n",
       "      <td>0.013307</td>\n",
       "      <td>360</td>\n",
       "      <td>0.001</td>\n",
       "      <td>18</td>\n",
       "      <td>18</td>\n",
       "      <td>2237</td>\n",
       "      <td>0.045424</td>\n",
       "      <td>1604</td>\n",
       "      <td>1 min  0 sec</td>\n",
       "    </tr>\n",
       "    <tr>\n",
       "      <th>4th</th>\n",
       "      <td>Past</td>\n",
       "      <td>10Jun2020</td>\n",
       "      <td>19Jun2020</td>\n",
       "      <td>15854360</td>\n",
       "      <td>SIR-F</td>\n",
       "      <td>1.03</td>\n",
       "      <td>0.021585</td>\n",
       "      <td>0.000096</td>\n",
       "      <td>0.016086</td>\n",
       "      <td>0.015129</td>\n",
       "      <td>360</td>\n",
       "      <td>0.022</td>\n",
       "      <td>15</td>\n",
       "      <td>16</td>\n",
       "      <td>2595</td>\n",
       "      <td>0.024138</td>\n",
       "      <td>1162</td>\n",
       "      <td>1 min  0 sec</td>\n",
       "    </tr>\n",
       "    <tr>\n",
       "      <th>5th</th>\n",
       "      <td>Past</td>\n",
       "      <td>20Jun2020</td>\n",
       "      <td>30Jun2020</td>\n",
       "      <td>15854360</td>\n",
       "      <td>SIR-F</td>\n",
       "      <td>1.75</td>\n",
       "      <td>0.000648</td>\n",
       "      <td>0.000361</td>\n",
       "      <td>0.012464</td>\n",
       "      <td>0.006773</td>\n",
       "      <td>360</td>\n",
       "      <td>0.001</td>\n",
       "      <td>20</td>\n",
       "      <td>36</td>\n",
       "      <td>692</td>\n",
       "      <td>0.015926</td>\n",
       "      <td>506</td>\n",
       "      <td>0 min 15 sec</td>\n",
       "    </tr>\n",
       "    <tr>\n",
       "      <th>6th</th>\n",
       "      <td>Past</td>\n",
       "      <td>01Jul2020</td>\n",
       "      <td>10Jul2020</td>\n",
       "      <td>15854360</td>\n",
       "      <td>SIR-F</td>\n",
       "      <td>1.28</td>\n",
       "      <td>0.017688</td>\n",
       "      <td>0.000173</td>\n",
       "      <td>0.011402</td>\n",
       "      <td>0.008552</td>\n",
       "      <td>360</td>\n",
       "      <td>0.018</td>\n",
       "      <td>21</td>\n",
       "      <td>29</td>\n",
       "      <td>1443</td>\n",
       "      <td>0.019757</td>\n",
       "      <td>1300</td>\n",
       "      <td>1 min  0 sec</td>\n",
       "    </tr>\n",
       "    <tr>\n",
       "      <th>7th</th>\n",
       "      <td>Past</td>\n",
       "      <td>11Jul2020</td>\n",
       "      <td>20Jul2020</td>\n",
       "      <td>15854360</td>\n",
       "      <td>SIR-F</td>\n",
       "      <td>1.36</td>\n",
       "      <td>0.000630</td>\n",
       "      <td>0.000235</td>\n",
       "      <td>0.009430</td>\n",
       "      <td>0.006701</td>\n",
       "      <td>360</td>\n",
       "      <td>0.001</td>\n",
       "      <td>26</td>\n",
       "      <td>37</td>\n",
       "      <td>1065</td>\n",
       "      <td>0.011093</td>\n",
       "      <td>340</td>\n",
       "      <td>0 min 10 sec</td>\n",
       "    </tr>\n",
       "    <tr>\n",
       "      <th>8th</th>\n",
       "      <td>Past</td>\n",
       "      <td>21Jul2020</td>\n",
       "      <td>28Jul2020</td>\n",
       "      <td>15854360</td>\n",
       "      <td>SIR-F</td>\n",
       "      <td>1.74</td>\n",
       "      <td>0.018089</td>\n",
       "      <td>0.000070</td>\n",
       "      <td>0.011744</td>\n",
       "      <td>0.006567</td>\n",
       "      <td>360</td>\n",
       "      <td>0.018</td>\n",
       "      <td>21</td>\n",
       "      <td>38</td>\n",
       "      <td>3592</td>\n",
       "      <td>0.012512</td>\n",
       "      <td>1114</td>\n",
       "      <td>1 min  0 sec</td>\n",
       "    </tr>\n",
       "    <tr>\n",
       "      <th>9th</th>\n",
       "      <td>Past</td>\n",
       "      <td>29Jul2020</td>\n",
       "      <td>06Aug2020</td>\n",
       "      <td>15854360</td>\n",
       "      <td>SIR-F</td>\n",
       "      <td>1.64</td>\n",
       "      <td>0.001866</td>\n",
       "      <td>0.000233</td>\n",
       "      <td>0.007471</td>\n",
       "      <td>0.004304</td>\n",
       "      <td>360</td>\n",
       "      <td>0.002</td>\n",
       "      <td>33</td>\n",
       "      <td>58</td>\n",
       "      <td>1072</td>\n",
       "      <td>0.012666</td>\n",
       "      <td>420</td>\n",
       "      <td>0 min 20 sec</td>\n",
       "    </tr>\n",
       "    <tr>\n",
       "      <th>10th</th>\n",
       "      <td>Past</td>\n",
       "      <td>07Aug2020</td>\n",
       "      <td>16Aug2020</td>\n",
       "      <td>15854360</td>\n",
       "      <td>SIR-F</td>\n",
       "      <td>2.39</td>\n",
       "      <td>0.001022</td>\n",
       "      <td>0.000215</td>\n",
       "      <td>0.008737</td>\n",
       "      <td>0.003444</td>\n",
       "      <td>360</td>\n",
       "      <td>0.001</td>\n",
       "      <td>28</td>\n",
       "      <td>72</td>\n",
       "      <td>1161</td>\n",
       "      <td>0.011604</td>\n",
       "      <td>544</td>\n",
       "      <td>0 min 25 sec</td>\n",
       "    </tr>\n",
       "    <tr>\n",
       "      <th rowspan=\"10\" valign=\"top\">Bahrain</th>\n",
       "      <th>1st</th>\n",
       "      <td>Past</td>\n",
       "      <td>06May2020</td>\n",
       "      <td>25May2020</td>\n",
       "      <td>1569439</td>\n",
       "      <td>SIR-F</td>\n",
       "      <td>2.63</td>\n",
       "      <td>0.001254</td>\n",
       "      <td>0.000001</td>\n",
       "      <td>0.020811</td>\n",
       "      <td>0.007911</td>\n",
       "      <td>360</td>\n",
       "      <td>0.001</td>\n",
       "      <td>12</td>\n",
       "      <td>31</td>\n",
       "      <td>174012</td>\n",
       "      <td>0.174479</td>\n",
       "      <td>1113</td>\n",
       "      <td>1 min  0 sec</td>\n",
       "    </tr>\n",
       "    <tr>\n",
       "      <th>2nd</th>\n",
       "      <td>Past</td>\n",
       "      <td>26May2020</td>\n",
       "      <td>04Jun2020</td>\n",
       "      <td>1569439</td>\n",
       "      <td>SIR-F</td>\n",
       "      <td>1.44</td>\n",
       "      <td>0.000019</td>\n",
       "      <td>0.000041</td>\n",
       "      <td>0.022700</td>\n",
       "      <td>0.015726</td>\n",
       "      <td>360</td>\n",
       "      <td>0.000</td>\n",
       "      <td>11</td>\n",
       "      <td>15</td>\n",
       "      <td>6137</td>\n",
       "      <td>0.042331</td>\n",
       "      <td>1100</td>\n",
       "      <td>0 min 55 sec</td>\n",
       "    </tr>\n",
       "    <tr>\n",
       "      <th>3rd</th>\n",
       "      <td>Past</td>\n",
       "      <td>05Jun2020</td>\n",
       "      <td>13Jun2020</td>\n",
       "      <td>1569439</td>\n",
       "      <td>SIR-F</td>\n",
       "      <td>1.06</td>\n",
       "      <td>0.000455</td>\n",
       "      <td>0.000084</td>\n",
       "      <td>0.022557</td>\n",
       "      <td>0.021142</td>\n",
       "      <td>360</td>\n",
       "      <td>0.000</td>\n",
       "      <td>11</td>\n",
       "      <td>11</td>\n",
       "      <td>2977</td>\n",
       "      <td>0.027833</td>\n",
       "      <td>1373</td>\n",
       "      <td>1 min  0 sec</td>\n",
       "    </tr>\n",
       "    <tr>\n",
       "      <th>4th</th>\n",
       "      <td>Past</td>\n",
       "      <td>14Jun2020</td>\n",
       "      <td>21Jun2020</td>\n",
       "      <td>1569439</td>\n",
       "      <td>SIR-F</td>\n",
       "      <td>0.99</td>\n",
       "      <td>0.000636</td>\n",
       "      <td>0.000117</td>\n",
       "      <td>0.022416</td>\n",
       "      <td>0.022518</td>\n",
       "      <td>360</td>\n",
       "      <td>0.001</td>\n",
       "      <td>11</td>\n",
       "      <td>11</td>\n",
       "      <td>2143</td>\n",
       "      <td>0.032996</td>\n",
       "      <td>1618</td>\n",
       "      <td>1 min  0 sec</td>\n",
       "    </tr>\n",
       "    <tr>\n",
       "      <th>5th</th>\n",
       "      <td>Past</td>\n",
       "      <td>22Jun2020</td>\n",
       "      <td>29Jun2020</td>\n",
       "      <td>1569439</td>\n",
       "      <td>SIR-F</td>\n",
       "      <td>0.93</td>\n",
       "      <td>0.000433</td>\n",
       "      <td>0.000098</td>\n",
       "      <td>0.024508</td>\n",
       "      <td>0.026288</td>\n",
       "      <td>360</td>\n",
       "      <td>0.000</td>\n",
       "      <td>10</td>\n",
       "      <td>9</td>\n",
       "      <td>2549</td>\n",
       "      <td>0.023426</td>\n",
       "      <td>1176</td>\n",
       "      <td>1 min  0 sec</td>\n",
       "    </tr>\n",
       "    <tr>\n",
       "      <th>6th</th>\n",
       "      <td>Past</td>\n",
       "      <td>30Jun2020</td>\n",
       "      <td>07Jul2020</td>\n",
       "      <td>1569439</td>\n",
       "      <td>SIR-F</td>\n",
       "      <td>0.84</td>\n",
       "      <td>0.000252</td>\n",
       "      <td>0.000076</td>\n",
       "      <td>0.026814</td>\n",
       "      <td>0.032004</td>\n",
       "      <td>360</td>\n",
       "      <td>0.000</td>\n",
       "      <td>9</td>\n",
       "      <td>7</td>\n",
       "      <td>3296</td>\n",
       "      <td>0.019609</td>\n",
       "      <td>560</td>\n",
       "      <td>0 min 20 sec</td>\n",
       "    </tr>\n",
       "    <tr>\n",
       "      <th>7th</th>\n",
       "      <td>Past</td>\n",
       "      <td>08Jul2020</td>\n",
       "      <td>15Jul2020</td>\n",
       "      <td>1569439</td>\n",
       "      <td>SIR-F</td>\n",
       "      <td>0.86</td>\n",
       "      <td>0.000637</td>\n",
       "      <td>0.000117</td>\n",
       "      <td>0.030096</td>\n",
       "      <td>0.034677</td>\n",
       "      <td>360</td>\n",
       "      <td>0.001</td>\n",
       "      <td>8</td>\n",
       "      <td>7</td>\n",
       "      <td>2144</td>\n",
       "      <td>0.016334</td>\n",
       "      <td>1185</td>\n",
       "      <td>1 min  0 sec</td>\n",
       "    </tr>\n",
       "    <tr>\n",
       "      <th>8th</th>\n",
       "      <td>Past</td>\n",
       "      <td>16Jul2020</td>\n",
       "      <td>25Jul2020</td>\n",
       "      <td>1569439</td>\n",
       "      <td>SIR-F</td>\n",
       "      <td>0.93</td>\n",
       "      <td>0.000550</td>\n",
       "      <td>0.000109</td>\n",
       "      <td>0.029959</td>\n",
       "      <td>0.032049</td>\n",
       "      <td>360</td>\n",
       "      <td>0.001</td>\n",
       "      <td>8</td>\n",
       "      <td>7</td>\n",
       "      <td>2283</td>\n",
       "      <td>0.041333</td>\n",
       "      <td>125</td>\n",
       "      <td>0 min  5 sec</td>\n",
       "    </tr>\n",
       "    <tr>\n",
       "      <th>9th</th>\n",
       "      <td>Past</td>\n",
       "      <td>26Jul2020</td>\n",
       "      <td>04Aug2020</td>\n",
       "      <td>1569439</td>\n",
       "      <td>SIR-F</td>\n",
       "      <td>0.88</td>\n",
       "      <td>0.000348</td>\n",
       "      <td>0.000080</td>\n",
       "      <td>0.029303</td>\n",
       "      <td>0.033168</td>\n",
       "      <td>360</td>\n",
       "      <td>0.000</td>\n",
       "      <td>8</td>\n",
       "      <td>7</td>\n",
       "      <td>3123</td>\n",
       "      <td>0.028659</td>\n",
       "      <td>324</td>\n",
       "      <td>0 min 15 sec</td>\n",
       "    </tr>\n",
       "    <tr>\n",
       "      <th>10th</th>\n",
       "      <td>Past</td>\n",
       "      <td>05Aug2020</td>\n",
       "      <td>16Aug2020</td>\n",
       "      <td>1569439</td>\n",
       "      <td>SIR-F</td>\n",
       "      <td>1.26</td>\n",
       "      <td>0.002586</td>\n",
       "      <td>0.000059</td>\n",
       "      <td>0.030559</td>\n",
       "      <td>0.024147</td>\n",
       "      <td>360</td>\n",
       "      <td>0.003</td>\n",
       "      <td>8</td>\n",
       "      <td>10</td>\n",
       "      <td>4221</td>\n",
       "      <td>0.017710</td>\n",
       "      <td>1622</td>\n",
       "      <td>1 min  0 sec</td>\n",
       "    </tr>\n",
       "    <tr>\n",
       "      <th rowspan=\"10\" valign=\"top\">Iran</th>\n",
       "      <th>1st</th>\n",
       "      <td>Past</td>\n",
       "      <td>28Mar2020</td>\n",
       "      <td>12Apr2020</td>\n",
       "      <td>81800269</td>\n",
       "      <td>SIR-F</td>\n",
       "      <td>1.35</td>\n",
       "      <td>0.052383</td>\n",
       "      <td>0.000156</td>\n",
       "      <td>0.023055</td>\n",
       "      <td>0.016002</td>\n",
       "      <td>360</td>\n",
       "      <td>0.052</td>\n",
       "      <td>10</td>\n",
       "      <td>15</td>\n",
       "      <td>1599</td>\n",
       "      <td>0.195790</td>\n",
       "      <td>1448</td>\n",
       "      <td>1 min  0 sec</td>\n",
       "    </tr>\n",
       "    <tr>\n",
       "      <th>2nd</th>\n",
       "      <td>Past</td>\n",
       "      <td>13Apr2020</td>\n",
       "      <td>04May2020</td>\n",
       "      <td>81800269</td>\n",
       "      <td>SIR-F</td>\n",
       "      <td>0.70</td>\n",
       "      <td>0.028281</td>\n",
       "      <td>0.000593</td>\n",
       "      <td>0.018224</td>\n",
       "      <td>0.024618</td>\n",
       "      <td>360</td>\n",
       "      <td>0.028</td>\n",
       "      <td>13</td>\n",
       "      <td>10</td>\n",
       "      <td>421</td>\n",
       "      <td>0.029822</td>\n",
       "      <td>554</td>\n",
       "      <td>0 min 25 sec</td>\n",
       "    </tr>\n",
       "    <tr>\n",
       "      <th>3rd</th>\n",
       "      <td>Past</td>\n",
       "      <td>05May2020</td>\n",
       "      <td>20May2020</td>\n",
       "      <td>81800269</td>\n",
       "      <td>SIR-F</td>\n",
       "      <td>1.42</td>\n",
       "      <td>0.018373</td>\n",
       "      <td>0.000483</td>\n",
       "      <td>0.026592</td>\n",
       "      <td>0.017854</td>\n",
       "      <td>360</td>\n",
       "      <td>0.018</td>\n",
       "      <td>9</td>\n",
       "      <td>14</td>\n",
       "      <td>517</td>\n",
       "      <td>0.019420</td>\n",
       "      <td>359</td>\n",
       "      <td>0 min 10 sec</td>\n",
       "    </tr>\n",
       "    <tr>\n",
       "      <th>4th</th>\n",
       "      <td>Past</td>\n",
       "      <td>21May2020</td>\n",
       "      <td>02Jun2020</td>\n",
       "      <td>81800269</td>\n",
       "      <td>SIR-F</td>\n",
       "      <td>1.18</td>\n",
       "      <td>0.001078</td>\n",
       "      <td>0.000581</td>\n",
       "      <td>0.024338</td>\n",
       "      <td>0.020105</td>\n",
       "      <td>360</td>\n",
       "      <td>0.001</td>\n",
       "      <td>10</td>\n",
       "      <td>12</td>\n",
       "      <td>429</td>\n",
       "      <td>0.013418</td>\n",
       "      <td>1457</td>\n",
       "      <td>1 min  0 sec</td>\n",
       "    </tr>\n",
       "    <tr>\n",
       "      <th>5th</th>\n",
       "      <td>Past</td>\n",
       "      <td>03Jun2020</td>\n",
       "      <td>15Jun2020</td>\n",
       "      <td>81800269</td>\n",
       "      <td>SIR-F</td>\n",
       "      <td>1.10</td>\n",
       "      <td>0.016744</td>\n",
       "      <td>0.000212</td>\n",
       "      <td>0.020530</td>\n",
       "      <td>0.018062</td>\n",
       "      <td>360</td>\n",
       "      <td>0.017</td>\n",
       "      <td>12</td>\n",
       "      <td>13</td>\n",
       "      <td>1178</td>\n",
       "      <td>0.019591</td>\n",
       "      <td>789</td>\n",
       "      <td>0 min 25 sec</td>\n",
       "    </tr>\n",
       "    <tr>\n",
       "      <th>6th</th>\n",
       "      <td>Past</td>\n",
       "      <td>16Jun2020</td>\n",
       "      <td>27Jun2020</td>\n",
       "      <td>81800269</td>\n",
       "      <td>SIR-F</td>\n",
       "      <td>0.96</td>\n",
       "      <td>0.000320</td>\n",
       "      <td>0.000970</td>\n",
       "      <td>0.020738</td>\n",
       "      <td>0.020516</td>\n",
       "      <td>360</td>\n",
       "      <td>0.000</td>\n",
       "      <td>12</td>\n",
       "      <td>12</td>\n",
       "      <td>257</td>\n",
       "      <td>0.022436</td>\n",
       "      <td>1178</td>\n",
       "      <td>1 min  0 sec</td>\n",
       "    </tr>\n",
       "    <tr>\n",
       "      <th>7th</th>\n",
       "      <td>Past</td>\n",
       "      <td>28Jun2020</td>\n",
       "      <td>09Jul2020</td>\n",
       "      <td>81800269</td>\n",
       "      <td>SIR-F</td>\n",
       "      <td>0.92</td>\n",
       "      <td>0.058897</td>\n",
       "      <td>0.000071</td>\n",
       "      <td>0.023455</td>\n",
       "      <td>0.023965</td>\n",
       "      <td>360</td>\n",
       "      <td>0.059</td>\n",
       "      <td>10</td>\n",
       "      <td>10</td>\n",
       "      <td>3510</td>\n",
       "      <td>0.007695</td>\n",
       "      <td>220</td>\n",
       "      <td>0 min 10 sec</td>\n",
       "    </tr>\n",
       "    <tr>\n",
       "      <th>8th</th>\n",
       "      <td>Past</td>\n",
       "      <td>10Jul2020</td>\n",
       "      <td>21Jul2020</td>\n",
       "      <td>81800269</td>\n",
       "      <td>SIR-F</td>\n",
       "      <td>0.86</td>\n",
       "      <td>0.065878</td>\n",
       "      <td>0.000562</td>\n",
       "      <td>0.024587</td>\n",
       "      <td>0.026143</td>\n",
       "      <td>360</td>\n",
       "      <td>0.066</td>\n",
       "      <td>10</td>\n",
       "      <td>9</td>\n",
       "      <td>444</td>\n",
       "      <td>0.007631</td>\n",
       "      <td>187</td>\n",
       "      <td>0 min  5 sec</td>\n",
       "    </tr>\n",
       "    <tr>\n",
       "      <th>9th</th>\n",
       "      <td>Past</td>\n",
       "      <td>22Jul2020</td>\n",
       "      <td>02Aug2020</td>\n",
       "      <td>81800269</td>\n",
       "      <td>SIR-F</td>\n",
       "      <td>1.12</td>\n",
       "      <td>0.082387</td>\n",
       "      <td>0.000067</td>\n",
       "      <td>0.028204</td>\n",
       "      <td>0.022989</td>\n",
       "      <td>360</td>\n",
       "      <td>0.082</td>\n",
       "      <td>8</td>\n",
       "      <td>10</td>\n",
       "      <td>3708</td>\n",
       "      <td>0.008688</td>\n",
       "      <td>200</td>\n",
       "      <td>0 min 10 sec</td>\n",
       "    </tr>\n",
       "    <tr>\n",
       "      <th>10th</th>\n",
       "      <td>Past</td>\n",
       "      <td>03Aug2020</td>\n",
       "      <td>16Aug2020</td>\n",
       "      <td>81800269</td>\n",
       "      <td>SIR-F</td>\n",
       "      <td>1.05</td>\n",
       "      <td>0.046873</td>\n",
       "      <td>0.000642</td>\n",
       "      <td>0.022945</td>\n",
       "      <td>0.020183</td>\n",
       "      <td>360</td>\n",
       "      <td>0.047</td>\n",
       "      <td>10</td>\n",
       "      <td>12</td>\n",
       "      <td>389</td>\n",
       "      <td>0.023361</td>\n",
       "      <td>456</td>\n",
       "      <td>0 min 20 sec</td>\n",
       "    </tr>\n",
       "    <tr>\n",
       "      <th rowspan=\"10\" valign=\"top\">Guinea</th>\n",
       "      <th>1st</th>\n",
       "      <td>Past</td>\n",
       "      <td>02May2020</td>\n",
       "      <td>11May2020</td>\n",
       "      <td>12414318</td>\n",
       "      <td>SIR-F</td>\n",
       "      <td>1.81</td>\n",
       "      <td>0.002199</td>\n",
       "      <td>0.000079</td>\n",
       "      <td>0.012572</td>\n",
       "      <td>0.006839</td>\n",
       "      <td>360</td>\n",
       "      <td>0.002</td>\n",
       "      <td>19</td>\n",
       "      <td>36</td>\n",
       "      <td>3152</td>\n",
       "      <td>0.079455</td>\n",
       "      <td>1221</td>\n",
       "      <td>1 min  0 sec</td>\n",
       "    </tr>\n",
       "    <tr>\n",
       "      <th>2nd</th>\n",
       "      <td>Past</td>\n",
       "      <td>12May2020</td>\n",
       "      <td>19May2020</td>\n",
       "      <td>12414318</td>\n",
       "      <td>SIR-F</td>\n",
       "      <td>1.12</td>\n",
       "      <td>0.000154</td>\n",
       "      <td>0.000176</td>\n",
       "      <td>0.013064</td>\n",
       "      <td>0.011474</td>\n",
       "      <td>360</td>\n",
       "      <td>0.000</td>\n",
       "      <td>19</td>\n",
       "      <td>21</td>\n",
       "      <td>1419</td>\n",
       "      <td>0.077227</td>\n",
       "      <td>1351</td>\n",
       "      <td>1 min  0 sec</td>\n",
       "    </tr>\n",
       "    <tr>\n",
       "      <th>3rd</th>\n",
       "      <td>Past</td>\n",
       "      <td>20May2020</td>\n",
       "      <td>28May2020</td>\n",
       "      <td>12414318</td>\n",
       "      <td>SIR-F</td>\n",
       "      <td>2.15</td>\n",
       "      <td>0.000666</td>\n",
       "      <td>0.000037</td>\n",
       "      <td>0.014206</td>\n",
       "      <td>0.006554</td>\n",
       "      <td>360</td>\n",
       "      <td>0.001</td>\n",
       "      <td>17</td>\n",
       "      <td>38</td>\n",
       "      <td>6775</td>\n",
       "      <td>0.047430</td>\n",
       "      <td>1181</td>\n",
       "      <td>1 min  0 sec</td>\n",
       "    </tr>\n",
       "    <tr>\n",
       "      <th>4th</th>\n",
       "      <td>Past</td>\n",
       "      <td>29May2020</td>\n",
       "      <td>08Jun2020</td>\n",
       "      <td>12414318</td>\n",
       "      <td>SIR-F</td>\n",
       "      <td>0.67</td>\n",
       "      <td>0.000663</td>\n",
       "      <td>0.000024</td>\n",
       "      <td>0.011765</td>\n",
       "      <td>0.017434</td>\n",
       "      <td>360</td>\n",
       "      <td>0.001</td>\n",
       "      <td>21</td>\n",
       "      <td>14</td>\n",
       "      <td>10518</td>\n",
       "      <td>0.063894</td>\n",
       "      <td>1268</td>\n",
       "      <td>1 min  0 sec</td>\n",
       "    </tr>\n",
       "    <tr>\n",
       "      <th>5th</th>\n",
       "      <td>Past</td>\n",
       "      <td>09Jun2020</td>\n",
       "      <td>17Jun2020</td>\n",
       "      <td>12414318</td>\n",
       "      <td>SIR-F</td>\n",
       "      <td>0.91</td>\n",
       "      <td>0.000256</td>\n",
       "      <td>0.000076</td>\n",
       "      <td>0.008303</td>\n",
       "      <td>0.009056</td>\n",
       "      <td>360</td>\n",
       "      <td>0.000</td>\n",
       "      <td>30</td>\n",
       "      <td>27</td>\n",
       "      <td>3296</td>\n",
       "      <td>0.018590</td>\n",
       "      <td>543</td>\n",
       "      <td>0 min 25 sec</td>\n",
       "    </tr>\n",
       "    <tr>\n",
       "      <th>6th</th>\n",
       "      <td>Past</td>\n",
       "      <td>18Jun2020</td>\n",
       "      <td>02Jul2020</td>\n",
       "      <td>12414318</td>\n",
       "      <td>SIR-F</td>\n",
       "      <td>0.57</td>\n",
       "      <td>0.000502</td>\n",
       "      <td>0.000087</td>\n",
       "      <td>0.007106</td>\n",
       "      <td>0.012401</td>\n",
       "      <td>360</td>\n",
       "      <td>0.001</td>\n",
       "      <td>35</td>\n",
       "      <td>20</td>\n",
       "      <td>2872</td>\n",
       "      <td>0.054708</td>\n",
       "      <td>1535</td>\n",
       "      <td>1 min  0 sec</td>\n",
       "    </tr>\n",
       "    <tr>\n",
       "      <th>7th</th>\n",
       "      <td>Past</td>\n",
       "      <td>03Jul2020</td>\n",
       "      <td>14Jul2020</td>\n",
       "      <td>12414318</td>\n",
       "      <td>SIR-F</td>\n",
       "      <td>1.58</td>\n",
       "      <td>0.000122</td>\n",
       "      <td>0.000104</td>\n",
       "      <td>0.012511</td>\n",
       "      <td>0.007832</td>\n",
       "      <td>360</td>\n",
       "      <td>0.000</td>\n",
       "      <td>19</td>\n",
       "      <td>31</td>\n",
       "      <td>2400</td>\n",
       "      <td>0.028288</td>\n",
       "      <td>1138</td>\n",
       "      <td>1 min  0 sec</td>\n",
       "    </tr>\n",
       "    <tr>\n",
       "      <th>8th</th>\n",
       "      <td>Past</td>\n",
       "      <td>15Jul2020</td>\n",
       "      <td>23Jul2020</td>\n",
       "      <td>12414318</td>\n",
       "      <td>SIR-F</td>\n",
       "      <td>0.52</td>\n",
       "      <td>0.000515</td>\n",
       "      <td>0.000096</td>\n",
       "      <td>0.016725</td>\n",
       "      <td>0.032267</td>\n",
       "      <td>360</td>\n",
       "      <td>0.001</td>\n",
       "      <td>14</td>\n",
       "      <td>7</td>\n",
       "      <td>2593</td>\n",
       "      <td>0.041793</td>\n",
       "      <td>1197</td>\n",
       "      <td>1 min  0 sec</td>\n",
       "    </tr>\n",
       "    <tr>\n",
       "      <th>9th</th>\n",
       "      <td>Past</td>\n",
       "      <td>24Jul2020</td>\n",
       "      <td>03Aug2020</td>\n",
       "      <td>12414318</td>\n",
       "      <td>SIR-F</td>\n",
       "      <td>1.09</td>\n",
       "      <td>0.000131</td>\n",
       "      <td>0.000168</td>\n",
       "      <td>0.017826</td>\n",
       "      <td>0.016187</td>\n",
       "      <td>360</td>\n",
       "      <td>0.000</td>\n",
       "      <td>14</td>\n",
       "      <td>15</td>\n",
       "      <td>1486</td>\n",
       "      <td>0.028080</td>\n",
       "      <td>1173</td>\n",
       "      <td>1 min  0 sec</td>\n",
       "    </tr>\n",
       "    <tr>\n",
       "      <th>10th</th>\n",
       "      <td>Past</td>\n",
       "      <td>04Aug2020</td>\n",
       "      <td>16Aug2020</td>\n",
       "      <td>12414318</td>\n",
       "      <td>SIR-F</td>\n",
       "      <td>1.40</td>\n",
       "      <td>0.000665</td>\n",
       "      <td>0.000037</td>\n",
       "      <td>0.018092</td>\n",
       "      <td>0.012832</td>\n",
       "      <td>360</td>\n",
       "      <td>0.001</td>\n",
       "      <td>13</td>\n",
       "      <td>19</td>\n",
       "      <td>6769</td>\n",
       "      <td>0.027903</td>\n",
       "      <td>510</td>\n",
       "      <td>0 min 15 sec</td>\n",
       "    </tr>\n",
       "  </tbody>\n",
       "</table>\n",
       "</div>"
      ],
      "text/plain": [
       "               Type      Start        End  Population    ODE    Rt     theta  \\\n",
       "Country Phase                                                                  \n",
       "Senegal 1st    Past  30Apr2020  14May2020    15854360  SIR-F  2.45  0.000828   \n",
       "        2nd    Past  15May2020  29May2020    15854360  SIR-F  1.26  0.000172   \n",
       "        3rd    Past  30May2020  09Jun2020    15854360  SIR-F  0.99  0.000665   \n",
       "        4th    Past  10Jun2020  19Jun2020    15854360  SIR-F  1.03  0.021585   \n",
       "        5th    Past  20Jun2020  30Jun2020    15854360  SIR-F  1.75  0.000648   \n",
       "        6th    Past  01Jul2020  10Jul2020    15854360  SIR-F  1.28  0.017688   \n",
       "        7th    Past  11Jul2020  20Jul2020    15854360  SIR-F  1.36  0.000630   \n",
       "        8th    Past  21Jul2020  28Jul2020    15854360  SIR-F  1.74  0.018089   \n",
       "        9th    Past  29Jul2020  06Aug2020    15854360  SIR-F  1.64  0.001866   \n",
       "        10th   Past  07Aug2020  16Aug2020    15854360  SIR-F  2.39  0.001022   \n",
       "Bahrain 1st    Past  06May2020  25May2020     1569439  SIR-F  2.63  0.001254   \n",
       "        2nd    Past  26May2020  04Jun2020     1569439  SIR-F  1.44  0.000019   \n",
       "        3rd    Past  05Jun2020  13Jun2020     1569439  SIR-F  1.06  0.000455   \n",
       "        4th    Past  14Jun2020  21Jun2020     1569439  SIR-F  0.99  0.000636   \n",
       "        5th    Past  22Jun2020  29Jun2020     1569439  SIR-F  0.93  0.000433   \n",
       "        6th    Past  30Jun2020  07Jul2020     1569439  SIR-F  0.84  0.000252   \n",
       "        7th    Past  08Jul2020  15Jul2020     1569439  SIR-F  0.86  0.000637   \n",
       "        8th    Past  16Jul2020  25Jul2020     1569439  SIR-F  0.93  0.000550   \n",
       "        9th    Past  26Jul2020  04Aug2020     1569439  SIR-F  0.88  0.000348   \n",
       "        10th   Past  05Aug2020  16Aug2020     1569439  SIR-F  1.26  0.002586   \n",
       "Iran    1st    Past  28Mar2020  12Apr2020    81800269  SIR-F  1.35  0.052383   \n",
       "        2nd    Past  13Apr2020  04May2020    81800269  SIR-F  0.70  0.028281   \n",
       "        3rd    Past  05May2020  20May2020    81800269  SIR-F  1.42  0.018373   \n",
       "        4th    Past  21May2020  02Jun2020    81800269  SIR-F  1.18  0.001078   \n",
       "        5th    Past  03Jun2020  15Jun2020    81800269  SIR-F  1.10  0.016744   \n",
       "        6th    Past  16Jun2020  27Jun2020    81800269  SIR-F  0.96  0.000320   \n",
       "        7th    Past  28Jun2020  09Jul2020    81800269  SIR-F  0.92  0.058897   \n",
       "        8th    Past  10Jul2020  21Jul2020    81800269  SIR-F  0.86  0.065878   \n",
       "        9th    Past  22Jul2020  02Aug2020    81800269  SIR-F  1.12  0.082387   \n",
       "        10th   Past  03Aug2020  16Aug2020    81800269  SIR-F  1.05  0.046873   \n",
       "Guinea  1st    Past  02May2020  11May2020    12414318  SIR-F  1.81  0.002199   \n",
       "        2nd    Past  12May2020  19May2020    12414318  SIR-F  1.12  0.000154   \n",
       "        3rd    Past  20May2020  28May2020    12414318  SIR-F  2.15  0.000666   \n",
       "        4th    Past  29May2020  08Jun2020    12414318  SIR-F  0.67  0.000663   \n",
       "        5th    Past  09Jun2020  17Jun2020    12414318  SIR-F  0.91  0.000256   \n",
       "        6th    Past  18Jun2020  02Jul2020    12414318  SIR-F  0.57  0.000502   \n",
       "        7th    Past  03Jul2020  14Jul2020    12414318  SIR-F  1.58  0.000122   \n",
       "        8th    Past  15Jul2020  23Jul2020    12414318  SIR-F  0.52  0.000515   \n",
       "        9th    Past  24Jul2020  03Aug2020    12414318  SIR-F  1.09  0.000131   \n",
       "        10th   Past  04Aug2020  16Aug2020    12414318  SIR-F  1.40  0.000665   \n",
       "\n",
       "                  kappa       rho     sigma  tau  alpha1 [-]  1/beta [day]  \\\n",
       "Country Phase                                                                \n",
       "Senegal 1st    0.000225  0.025426  0.010150  360       0.001             9   \n",
       "        2nd    0.000165  0.012952  0.010079  360       0.000            19   \n",
       "        3rd    0.000112  0.013266  0.013307  360       0.001            18   \n",
       "        4th    0.000096  0.016086  0.015129  360       0.022            15   \n",
       "        5th    0.000361  0.012464  0.006773  360       0.001            20   \n",
       "        6th    0.000173  0.011402  0.008552  360       0.018            21   \n",
       "        7th    0.000235  0.009430  0.006701  360       0.001            26   \n",
       "        8th    0.000070  0.011744  0.006567  360       0.018            21   \n",
       "        9th    0.000233  0.007471  0.004304  360       0.002            33   \n",
       "        10th   0.000215  0.008737  0.003444  360       0.001            28   \n",
       "Bahrain 1st    0.000001  0.020811  0.007911  360       0.001            12   \n",
       "        2nd    0.000041  0.022700  0.015726  360       0.000            11   \n",
       "        3rd    0.000084  0.022557  0.021142  360       0.000            11   \n",
       "        4th    0.000117  0.022416  0.022518  360       0.001            11   \n",
       "        5th    0.000098  0.024508  0.026288  360       0.000            10   \n",
       "        6th    0.000076  0.026814  0.032004  360       0.000             9   \n",
       "        7th    0.000117  0.030096  0.034677  360       0.001             8   \n",
       "        8th    0.000109  0.029959  0.032049  360       0.001             8   \n",
       "        9th    0.000080  0.029303  0.033168  360       0.000             8   \n",
       "        10th   0.000059  0.030559  0.024147  360       0.003             8   \n",
       "Iran    1st    0.000156  0.023055  0.016002  360       0.052            10   \n",
       "        2nd    0.000593  0.018224  0.024618  360       0.028            13   \n",
       "        3rd    0.000483  0.026592  0.017854  360       0.018             9   \n",
       "        4th    0.000581  0.024338  0.020105  360       0.001            10   \n",
       "        5th    0.000212  0.020530  0.018062  360       0.017            12   \n",
       "        6th    0.000970  0.020738  0.020516  360       0.000            12   \n",
       "        7th    0.000071  0.023455  0.023965  360       0.059            10   \n",
       "        8th    0.000562  0.024587  0.026143  360       0.066            10   \n",
       "        9th    0.000067  0.028204  0.022989  360       0.082             8   \n",
       "        10th   0.000642  0.022945  0.020183  360       0.047            10   \n",
       "Guinea  1st    0.000079  0.012572  0.006839  360       0.002            19   \n",
       "        2nd    0.000176  0.013064  0.011474  360       0.000            19   \n",
       "        3rd    0.000037  0.014206  0.006554  360       0.001            17   \n",
       "        4th    0.000024  0.011765  0.017434  360       0.001            21   \n",
       "        5th    0.000076  0.008303  0.009056  360       0.000            30   \n",
       "        6th    0.000087  0.007106  0.012401  360       0.001            35   \n",
       "        7th    0.000104  0.012511  0.007832  360       0.000            19   \n",
       "        8th    0.000096  0.016725  0.032267  360       0.001            14   \n",
       "        9th    0.000168  0.017826  0.016187  360       0.000            14   \n",
       "        10th   0.000037  0.018092  0.012832  360       0.001            13   \n",
       "\n",
       "               1/gamma [day]  1/alpha2 [day]     RMSLE  Trials       Runtime  \n",
       "Country Phase                                                                 \n",
       "Senegal 1st               24            1110  0.102115    1175  1 min  0 sec  \n",
       "        2nd               24            1518  0.040043    1611  1 min  0 sec  \n",
       "        3rd               18            2237  0.045424    1604  1 min  0 sec  \n",
       "        4th               16            2595  0.024138    1162  1 min  0 sec  \n",
       "        5th               36             692  0.015926     506  0 min 15 sec  \n",
       "        6th               29            1443  0.019757    1300  1 min  0 sec  \n",
       "        7th               37            1065  0.011093     340  0 min 10 sec  \n",
       "        8th               38            3592  0.012512    1114  1 min  0 sec  \n",
       "        9th               58            1072  0.012666     420  0 min 20 sec  \n",
       "        10th              72            1161  0.011604     544  0 min 25 sec  \n",
       "Bahrain 1st               31          174012  0.174479    1113  1 min  0 sec  \n",
       "        2nd               15            6137  0.042331    1100  0 min 55 sec  \n",
       "        3rd               11            2977  0.027833    1373  1 min  0 sec  \n",
       "        4th               11            2143  0.032996    1618  1 min  0 sec  \n",
       "        5th                9            2549  0.023426    1176  1 min  0 sec  \n",
       "        6th                7            3296  0.019609     560  0 min 20 sec  \n",
       "        7th                7            2144  0.016334    1185  1 min  0 sec  \n",
       "        8th                7            2283  0.041333     125  0 min  5 sec  \n",
       "        9th                7            3123  0.028659     324  0 min 15 sec  \n",
       "        10th              10            4221  0.017710    1622  1 min  0 sec  \n",
       "Iran    1st               15            1599  0.195790    1448  1 min  0 sec  \n",
       "        2nd               10             421  0.029822     554  0 min 25 sec  \n",
       "        3rd               14             517  0.019420     359  0 min 10 sec  \n",
       "        4th               12             429  0.013418    1457  1 min  0 sec  \n",
       "        5th               13            1178  0.019591     789  0 min 25 sec  \n",
       "        6th               12             257  0.022436    1178  1 min  0 sec  \n",
       "        7th               10            3510  0.007695     220  0 min 10 sec  \n",
       "        8th                9             444  0.007631     187  0 min  5 sec  \n",
       "        9th               10            3708  0.008688     200  0 min 10 sec  \n",
       "        10th              12             389  0.023361     456  0 min 20 sec  \n",
       "Guinea  1st               36            3152  0.079455    1221  1 min  0 sec  \n",
       "        2nd               21            1419  0.077227    1351  1 min  0 sec  \n",
       "        3rd               38            6775  0.047430    1181  1 min  0 sec  \n",
       "        4th               14           10518  0.063894    1268  1 min  0 sec  \n",
       "        5th               27            3296  0.018590     543  0 min 25 sec  \n",
       "        6th               20            2872  0.054708    1535  1 min  0 sec  \n",
       "        7th               31            2400  0.028288    1138  1 min  0 sec  \n",
       "        8th                7            2593  0.041793    1197  1 min  0 sec  \n",
       "        9th               15            1486  0.028080    1173  1 min  0 sec  \n",
       "        10th              19            6769  0.027903     510  0 min 15 sec  "
      ]
     },
     "execution_count": 12,
     "metadata": {},
     "output_type": "execute_result"
    }
   ],
   "source": [
    "# Show summary\n",
    "analyser.summary(countries=countries_show)"
   ]
  },
  {
   "cell_type": "markdown",
   "metadata": {},
   "source": [
    "## Compare the history of parameters\n",
    "Here, compare the history of parameter values if countries."
   ]
  },
  {
   "cell_type": "code",
   "execution_count": 13,
   "metadata": {
    "collapsed": false
   },
   "outputs": [
    {
     "data": {
      "text/html": [
       "<div>\n",
       "<style scoped>\n",
       "    .dataframe tbody tr th:only-of-type {\n",
       "        vertical-align: middle;\n",
       "    }\n",
       "\n",
       "    .dataframe tbody tr th {\n",
       "        vertical-align: top;\n",
       "    }\n",
       "\n",
       "    .dataframe thead th {\n",
       "        text-align: right;\n",
       "    }\n",
       "</style>\n",
       "<table border=\"1\" class=\"dataframe\">\n",
       "  <thead>\n",
       "    <tr style=\"text-align: right;\">\n",
       "      <th></th>\n",
       "      <th>Date</th>\n",
       "      <th>Country</th>\n",
       "      <th>theta</th>\n",
       "      <th>kappa</th>\n",
       "      <th>rho</th>\n",
       "      <th>sigma</th>\n",
       "      <th>alpha1 [-]</th>\n",
       "      <th>1/alpha2 [day]</th>\n",
       "      <th>1/beta [day]</th>\n",
       "      <th>1/gamma [day]</th>\n",
       "      <th>...</th>\n",
       "      <th>Cancel_events</th>\n",
       "      <th>Gatherings_restrictions</th>\n",
       "      <th>Transport_closing</th>\n",
       "      <th>Stay_home_restrictions</th>\n",
       "      <th>Internal_movement_restrictions</th>\n",
       "      <th>International_movement_restrictions</th>\n",
       "      <th>Information_campaigns</th>\n",
       "      <th>Testing_policy</th>\n",
       "      <th>Contact_tracing</th>\n",
       "      <th>Stringency_index</th>\n",
       "    </tr>\n",
       "  </thead>\n",
       "  <tbody>\n",
       "    <tr>\n",
       "      <th>0</th>\n",
       "      <td>2020-04-08</td>\n",
       "      <td>Czech Republic</td>\n",
       "      <td>0.0467808</td>\n",
       "      <td>3.13272e-05</td>\n",
       "      <td>0.00768694</td>\n",
       "      <td>0.00707887</td>\n",
       "      <td>0.047</td>\n",
       "      <td>7980</td>\n",
       "      <td>32</td>\n",
       "      <td>35</td>\n",
       "      <td>...</td>\n",
       "      <td>2</td>\n",
       "      <td>4</td>\n",
       "      <td>0</td>\n",
       "      <td>2</td>\n",
       "      <td>0</td>\n",
       "      <td>4</td>\n",
       "      <td>2</td>\n",
       "      <td>2</td>\n",
       "      <td>2</td>\n",
       "      <td>74.07</td>\n",
       "    </tr>\n",
       "    <tr>\n",
       "      <th>1</th>\n",
       "      <td>2020-04-08</td>\n",
       "      <td>Czech Republic</td>\n",
       "      <td>0.0467808</td>\n",
       "      <td>3.13272e-05</td>\n",
       "      <td>0.00768694</td>\n",
       "      <td>0.00707887</td>\n",
       "      <td>0.047</td>\n",
       "      <td>7980</td>\n",
       "      <td>32</td>\n",
       "      <td>35</td>\n",
       "      <td>...</td>\n",
       "      <td>2</td>\n",
       "      <td>4</td>\n",
       "      <td>0</td>\n",
       "      <td>2</td>\n",
       "      <td>0</td>\n",
       "      <td>4</td>\n",
       "      <td>2</td>\n",
       "      <td>2</td>\n",
       "      <td>2</td>\n",
       "      <td>74.07</td>\n",
       "    </tr>\n",
       "    <tr>\n",
       "      <th>2</th>\n",
       "      <td>2020-04-08</td>\n",
       "      <td>Czech Republic</td>\n",
       "      <td>0.0467808</td>\n",
       "      <td>3.13272e-05</td>\n",
       "      <td>0.00768694</td>\n",
       "      <td>0.00707887</td>\n",
       "      <td>0.047</td>\n",
       "      <td>7980</td>\n",
       "      <td>32</td>\n",
       "      <td>35</td>\n",
       "      <td>...</td>\n",
       "      <td>2</td>\n",
       "      <td>4</td>\n",
       "      <td>0</td>\n",
       "      <td>2</td>\n",
       "      <td>0</td>\n",
       "      <td>4</td>\n",
       "      <td>2</td>\n",
       "      <td>2</td>\n",
       "      <td>2</td>\n",
       "      <td>74.07</td>\n",
       "    </tr>\n",
       "    <tr>\n",
       "      <th>3</th>\n",
       "      <td>2020-04-08</td>\n",
       "      <td>Czech Republic</td>\n",
       "      <td>0.0467808</td>\n",
       "      <td>3.13272e-05</td>\n",
       "      <td>0.00768694</td>\n",
       "      <td>0.00707887</td>\n",
       "      <td>0.047</td>\n",
       "      <td>7980</td>\n",
       "      <td>32</td>\n",
       "      <td>35</td>\n",
       "      <td>...</td>\n",
       "      <td>2</td>\n",
       "      <td>4</td>\n",
       "      <td>0</td>\n",
       "      <td>2</td>\n",
       "      <td>0</td>\n",
       "      <td>4</td>\n",
       "      <td>2</td>\n",
       "      <td>2</td>\n",
       "      <td>2</td>\n",
       "      <td>74.07</td>\n",
       "    </tr>\n",
       "    <tr>\n",
       "      <th>4</th>\n",
       "      <td>2020-04-08</td>\n",
       "      <td>Czech Republic</td>\n",
       "      <td>0.0467808</td>\n",
       "      <td>3.13272e-05</td>\n",
       "      <td>0.00768694</td>\n",
       "      <td>0.00707887</td>\n",
       "      <td>0.047</td>\n",
       "      <td>7980</td>\n",
       "      <td>32</td>\n",
       "      <td>35</td>\n",
       "      <td>...</td>\n",
       "      <td>2</td>\n",
       "      <td>4</td>\n",
       "      <td>0</td>\n",
       "      <td>2</td>\n",
       "      <td>0</td>\n",
       "      <td>4</td>\n",
       "      <td>2</td>\n",
       "      <td>2</td>\n",
       "      <td>2</td>\n",
       "      <td>74.07</td>\n",
       "    </tr>\n",
       "  </tbody>\n",
       "</table>\n",
       "<p>5 rows × 23 columns</p>\n",
       "</div>"
      ],
      "text/plain": [
       "        Date         Country      theta        kappa         rho       sigma  \\\n",
       "0 2020-04-08  Czech Republic  0.0467808  3.13272e-05  0.00768694  0.00707887   \n",
       "1 2020-04-08  Czech Republic  0.0467808  3.13272e-05  0.00768694  0.00707887   \n",
       "2 2020-04-08  Czech Republic  0.0467808  3.13272e-05  0.00768694  0.00707887   \n",
       "3 2020-04-08  Czech Republic  0.0467808  3.13272e-05  0.00768694  0.00707887   \n",
       "4 2020-04-08  Czech Republic  0.0467808  3.13272e-05  0.00768694  0.00707887   \n",
       "\n",
       "  alpha1 [-] 1/alpha2 [day] 1/beta [day] 1/gamma [day]  ... Cancel_events  \\\n",
       "0      0.047           7980           32            35  ...             2   \n",
       "1      0.047           7980           32            35  ...             2   \n",
       "2      0.047           7980           32            35  ...             2   \n",
       "3      0.047           7980           32            35  ...             2   \n",
       "4      0.047           7980           32            35  ...             2   \n",
       "\n",
       "   Gatherings_restrictions  Transport_closing  Stay_home_restrictions  \\\n",
       "0                        4                  0                       2   \n",
       "1                        4                  0                       2   \n",
       "2                        4                  0                       2   \n",
       "3                        4                  0                       2   \n",
       "4                        4                  0                       2   \n",
       "\n",
       "   Internal_movement_restrictions  International_movement_restrictions  \\\n",
       "0                               0                                    4   \n",
       "1                               0                                    4   \n",
       "2                               0                                    4   \n",
       "3                               0                                    4   \n",
       "4                               0                                    4   \n",
       "\n",
       "   Information_campaigns  Testing_policy  Contact_tracing  Stringency_index  \n",
       "0                      2               2                2             74.07  \n",
       "1                      2               2                2             74.07  \n",
       "2                      2               2                2             74.07  \n",
       "3                      2               2                2             74.07  \n",
       "4                      2               2                2             74.07  \n",
       "\n",
       "[5 rows x 23 columns]"
      ]
     },
     "execution_count": 13,
     "metadata": {},
     "output_type": "execute_result"
    }
   ],
   "source": [
    "# All parameter/day parameter/Rt/OxCGRT\n",
    "analyser.track().head()"
   ]
  },
  {
   "cell_type": "markdown",
   "metadata": {},
   "source": [
    "### $Rt$: Reprodcution number $\\mathrm{[-]}$"
   ]
  },
  {
   "cell_type": "code",
   "execution_count": 14,
   "metadata": {
    "collapsed": false
   },
   "outputs": [
    {
     "data": {
      "image/png": "[encoded data removed]",
      "text/plain": [
       "<Figure size 648x432 with 1 Axes>"
      ]
     },
     "metadata": {},
     "output_type": "display_data"
    },
    {
     "data": {
      "text/html": [
       "<div>\n",
       "<style scoped>\n",
       "    .dataframe tbody tr th:only-of-type {\n",
       "        vertical-align: middle;\n",
       "    }\n",
       "\n",
       "    .dataframe tbody tr th {\n",
       "        vertical-align: top;\n",
       "    }\n",
       "\n",
       "    .dataframe thead th {\n",
       "        text-align: right;\n",
       "    }\n",
       "</style>\n",
       "<table border=\"1\" class=\"dataframe\">\n",
       "  <thead>\n",
       "    <tr style=\"text-align: right;\">\n",
       "      <th>Country</th>\n",
       "      <th>Austria</th>\n",
       "      <th>Bahrain</th>\n",
       "      <th>Canada</th>\n",
       "      <th>Czech Republic</th>\n",
       "      <th>Guinea</th>\n",
       "      <th>Iran</th>\n",
       "      <th>Italy</th>\n",
       "      <th>Kuwait</th>\n",
       "      <th>Moldova</th>\n",
       "      <th>Poland</th>\n",
       "      <th>Portugal</th>\n",
       "      <th>Senegal</th>\n",
       "      <th>Ukraine</th>\n",
       "      <th>United Arab Emirates</th>\n",
       "    </tr>\n",
       "    <tr>\n",
       "      <th>Date</th>\n",
       "      <th></th>\n",
       "      <th></th>\n",
       "      <th></th>\n",
       "      <th></th>\n",
       "      <th></th>\n",
       "      <th></th>\n",
       "      <th></th>\n",
       "      <th></th>\n",
       "      <th></th>\n",
       "      <th></th>\n",
       "      <th></th>\n",
       "      <th></th>\n",
       "      <th></th>\n",
       "      <th></th>\n",
       "    </tr>\n",
       "  </thead>\n",
       "  <tbody>\n",
       "    <tr>\n",
       "      <th>2020-08-12</th>\n",
       "      <td>1.5</td>\n",
       "      <td>1.26</td>\n",
       "      <td>0.85</td>\n",
       "      <td>1.59</td>\n",
       "      <td>1.4</td>\n",
       "      <td>1.05</td>\n",
       "      <td>0.85</td>\n",
       "      <td>0.8</td>\n",
       "      <td>1.34</td>\n",
       "      <td>0.86</td>\n",
       "      <td>0.92</td>\n",
       "      <td>2.39</td>\n",
       "      <td>2.02</td>\n",
       "      <td>0.64</td>\n",
       "    </tr>\n",
       "    <tr>\n",
       "      <th>2020-08-13</th>\n",
       "      <td>1.5</td>\n",
       "      <td>1.26</td>\n",
       "      <td>0.85</td>\n",
       "      <td>1.59</td>\n",
       "      <td>1.4</td>\n",
       "      <td>1.05</td>\n",
       "      <td>0.85</td>\n",
       "      <td>0.8</td>\n",
       "      <td>1.34</td>\n",
       "      <td>0.86</td>\n",
       "      <td>0.92</td>\n",
       "      <td>2.39</td>\n",
       "      <td>2.02</td>\n",
       "      <td>0.64</td>\n",
       "    </tr>\n",
       "    <tr>\n",
       "      <th>2020-08-14</th>\n",
       "      <td>1.5</td>\n",
       "      <td>1.26</td>\n",
       "      <td>0.85</td>\n",
       "      <td>1.59</td>\n",
       "      <td>1.4</td>\n",
       "      <td>1.05</td>\n",
       "      <td>0.85</td>\n",
       "      <td>0.8</td>\n",
       "      <td>1.34</td>\n",
       "      <td>0.86</td>\n",
       "      <td>0.92</td>\n",
       "      <td>2.39</td>\n",
       "      <td>2.02</td>\n",
       "      <td>0.64</td>\n",
       "    </tr>\n",
       "    <tr>\n",
       "      <th>2020-08-15</th>\n",
       "      <td>1.5</td>\n",
       "      <td>1.26</td>\n",
       "      <td>0.85</td>\n",
       "      <td>1.59</td>\n",
       "      <td>1.4</td>\n",
       "      <td>1.05</td>\n",
       "      <td>0.85</td>\n",
       "      <td>0.8</td>\n",
       "      <td>1.34</td>\n",
       "      <td>0.86</td>\n",
       "      <td>0.92</td>\n",
       "      <td>2.39</td>\n",
       "      <td>2.02</td>\n",
       "      <td>0.64</td>\n",
       "    </tr>\n",
       "    <tr>\n",
       "      <th>2020-08-16</th>\n",
       "      <td>1.5</td>\n",
       "      <td>1.26</td>\n",
       "      <td>0.85</td>\n",
       "      <td>1.59</td>\n",
       "      <td>1.4</td>\n",
       "      <td>1.05</td>\n",
       "      <td>0.85</td>\n",
       "      <td>0.8</td>\n",
       "      <td>1.34</td>\n",
       "      <td>0.86</td>\n",
       "      <td>0.92</td>\n",
       "      <td>2.39</td>\n",
       "      <td>2.02</td>\n",
       "      <td>0.64</td>\n",
       "    </tr>\n",
       "  </tbody>\n",
       "</table>\n",
       "</div>"
      ],
      "text/plain": [
       "Country     Austria  Bahrain  Canada  Czech Republic  Guinea  Iran  Italy  \\\n",
       "Date                                                                        \n",
       "2020-08-12      1.5     1.26    0.85            1.59     1.4  1.05   0.85   \n",
       "2020-08-13      1.5     1.26    0.85            1.59     1.4  1.05   0.85   \n",
       "2020-08-14      1.5     1.26    0.85            1.59     1.4  1.05   0.85   \n",
       "2020-08-15      1.5     1.26    0.85            1.59     1.4  1.05   0.85   \n",
       "2020-08-16      1.5     1.26    0.85            1.59     1.4  1.05   0.85   \n",
       "\n",
       "Country     Kuwait  Moldova  Poland  Portugal  Senegal  Ukraine  \\\n",
       "Date                                                              \n",
       "2020-08-12     0.8     1.34    0.86      0.92     2.39     2.02   \n",
       "2020-08-13     0.8     1.34    0.86      0.92     2.39     2.02   \n",
       "2020-08-14     0.8     1.34    0.86      0.92     2.39     2.02   \n",
       "2020-08-15     0.8     1.34    0.86      0.92     2.39     2.02   \n",
       "2020-08-16     0.8     1.34    0.86      0.92     2.39     2.02   \n",
       "\n",
       "Country     United Arab Emirates  \n",
       "Date                              \n",
       "2020-08-12                  0.64  \n",
       "2020-08-13                  0.64  \n",
       "2020-08-14                  0.64  \n",
       "2020-08-15                  0.64  \n",
       "2020-08-16                  0.64  "
      ]
     },
     "execution_count": 14,
     "metadata": {},
     "output_type": "execute_result"
    }
   ],
   "source": [
    "analyser.param_history(\"Rt\", roll_window=None).tail()"
   ]
  },
  {
   "cell_type": "markdown",
   "metadata": {},
   "source": [
    "### $\\rho$: Effective contact rate $\\mathrm{[-]}$"
   ]
  },
  {
   "cell_type": "code",
   "execution_count": 15,
   "metadata": {
    "collapsed": false
   },
   "outputs": [
    {
     "data": {
      "image/png": "[encoded data removed]",
      "text/plain": [
       "<Figure size 648x432 with 1 Axes>"
      ]
     },
     "metadata": {},
     "output_type": "display_data"
    },
    {
     "data": {
      "text/html": [
       "<div>\n",
       "<style scoped>\n",
       "    .dataframe tbody tr th:only-of-type {\n",
       "        vertical-align: middle;\n",
       "    }\n",
       "\n",
       "    .dataframe tbody tr th {\n",
       "        vertical-align: top;\n",
       "    }\n",
       "\n",
       "    .dataframe thead th {\n",
       "        text-align: right;\n",
       "    }\n",
       "</style>\n",
       "<table border=\"1\" class=\"dataframe\">\n",
       "  <thead>\n",
       "    <tr style=\"text-align: right;\">\n",
       "      <th>Country</th>\n",
       "      <th>Austria</th>\n",
       "      <th>Bahrain</th>\n",
       "      <th>Canada</th>\n",
       "      <th>Czech Republic</th>\n",
       "      <th>Guinea</th>\n",
       "      <th>Iran</th>\n",
       "      <th>Italy</th>\n",
       "      <th>Kuwait</th>\n",
       "      <th>Moldova</th>\n",
       "      <th>Poland</th>\n",
       "      <th>Portugal</th>\n",
       "      <th>Senegal</th>\n",
       "      <th>Ukraine</th>\n",
       "      <th>United Arab Emirates</th>\n",
       "    </tr>\n",
       "    <tr>\n",
       "      <th>Date</th>\n",
       "      <th></th>\n",
       "      <th></th>\n",
       "      <th></th>\n",
       "      <th></th>\n",
       "      <th></th>\n",
       "      <th></th>\n",
       "      <th></th>\n",
       "      <th></th>\n",
       "      <th></th>\n",
       "      <th></th>\n",
       "      <th></th>\n",
       "      <th></th>\n",
       "      <th></th>\n",
       "      <th></th>\n",
       "    </tr>\n",
       "  </thead>\n",
       "  <tbody>\n",
       "    <tr>\n",
       "      <th>2020-08-12</th>\n",
       "      <td>0.0272</td>\n",
       "      <td>0.030559</td>\n",
       "      <td>0.014172</td>\n",
       "      <td>0.009044</td>\n",
       "      <td>0.018092</td>\n",
       "      <td>0.022945</td>\n",
       "      <td>0.004045</td>\n",
       "      <td>0.016778</td>\n",
       "      <td>0.012886</td>\n",
       "      <td>0.011382</td>\n",
       "      <td>0.004035</td>\n",
       "      <td>0.008737</td>\n",
       "      <td>0.009487</td>\n",
       "      <td>0.009628</td>\n",
       "    </tr>\n",
       "    <tr>\n",
       "      <th>2020-08-13</th>\n",
       "      <td>0.0272</td>\n",
       "      <td>0.030559</td>\n",
       "      <td>0.014172</td>\n",
       "      <td>0.009044</td>\n",
       "      <td>0.018092</td>\n",
       "      <td>0.022945</td>\n",
       "      <td>0.004045</td>\n",
       "      <td>0.016778</td>\n",
       "      <td>0.012886</td>\n",
       "      <td>0.011382</td>\n",
       "      <td>0.004035</td>\n",
       "      <td>0.008737</td>\n",
       "      <td>0.009487</td>\n",
       "      <td>0.009628</td>\n",
       "    </tr>\n",
       "    <tr>\n",
       "      <th>2020-08-14</th>\n",
       "      <td>0.0272</td>\n",
       "      <td>0.030559</td>\n",
       "      <td>0.014172</td>\n",
       "      <td>0.009044</td>\n",
       "      <td>0.018092</td>\n",
       "      <td>0.022945</td>\n",
       "      <td>0.004045</td>\n",
       "      <td>0.016778</td>\n",
       "      <td>0.012886</td>\n",
       "      <td>0.011382</td>\n",
       "      <td>0.004035</td>\n",
       "      <td>0.008737</td>\n",
       "      <td>0.009487</td>\n",
       "      <td>0.009628</td>\n",
       "    </tr>\n",
       "    <tr>\n",
       "      <th>2020-08-15</th>\n",
       "      <td>0.0272</td>\n",
       "      <td>0.030559</td>\n",
       "      <td>0.014172</td>\n",
       "      <td>0.009044</td>\n",
       "      <td>0.018092</td>\n",
       "      <td>0.022945</td>\n",
       "      <td>0.004045</td>\n",
       "      <td>0.016778</td>\n",
       "      <td>0.012886</td>\n",
       "      <td>0.011382</td>\n",
       "      <td>0.004035</td>\n",
       "      <td>0.008737</td>\n",
       "      <td>0.009487</td>\n",
       "      <td>0.009628</td>\n",
       "    </tr>\n",
       "    <tr>\n",
       "      <th>2020-08-16</th>\n",
       "      <td>0.0272</td>\n",
       "      <td>0.030559</td>\n",
       "      <td>0.014172</td>\n",
       "      <td>0.009044</td>\n",
       "      <td>0.018092</td>\n",
       "      <td>0.022945</td>\n",
       "      <td>0.004045</td>\n",
       "      <td>0.016778</td>\n",
       "      <td>0.012886</td>\n",
       "      <td>0.011382</td>\n",
       "      <td>0.004035</td>\n",
       "      <td>0.008737</td>\n",
       "      <td>0.009487</td>\n",
       "      <td>0.009628</td>\n",
       "    </tr>\n",
       "  </tbody>\n",
       "</table>\n",
       "</div>"
      ],
      "text/plain": [
       "Country     Austria   Bahrain    Canada  Czech Republic    Guinea      Iran  \\\n",
       "Date                                                                          \n",
       "2020-08-12   0.0272  0.030559  0.014172        0.009044  0.018092  0.022945   \n",
       "2020-08-13   0.0272  0.030559  0.014172        0.009044  0.018092  0.022945   \n",
       "2020-08-14   0.0272  0.030559  0.014172        0.009044  0.018092  0.022945   \n",
       "2020-08-15   0.0272  0.030559  0.014172        0.009044  0.018092  0.022945   \n",
       "2020-08-16   0.0272  0.030559  0.014172        0.009044  0.018092  0.022945   \n",
       "\n",
       "Country        Italy    Kuwait   Moldova    Poland  Portugal   Senegal  \\\n",
       "Date                                                                     \n",
       "2020-08-12  0.004045  0.016778  0.012886  0.011382  0.004035  0.008737   \n",
       "2020-08-13  0.004045  0.016778  0.012886  0.011382  0.004035  0.008737   \n",
       "2020-08-14  0.004045  0.016778  0.012886  0.011382  0.004035  0.008737   \n",
       "2020-08-15  0.004045  0.016778  0.012886  0.011382  0.004035  0.008737   \n",
       "2020-08-16  0.004045  0.016778  0.012886  0.011382  0.004035  0.008737   \n",
       "\n",
       "Country      Ukraine  United Arab Emirates  \n",
       "Date                                        \n",
       "2020-08-12  0.009487              0.009628  \n",
       "2020-08-13  0.009487              0.009628  \n",
       "2020-08-14  0.009487              0.009628  \n",
       "2020-08-15  0.009487              0.009628  \n",
       "2020-08-16  0.009487              0.009628  "
      ]
     },
     "execution_count": 15,
     "metadata": {},
     "output_type": "execute_result"
    }
   ],
   "source": [
    "analyser.param_history(\"rho\", roll_window=None).tail()"
   ]
  },
  {
   "cell_type": "markdown",
   "metadata": {},
   "source": [
    "### $\\sigma$: Recovery rate $\\mathrm{[-]}$"
   ]
  },
  {
   "cell_type": "code",
   "execution_count": 16,
   "metadata": {
    "collapsed": false
   },
   "outputs": [
    {
     "data": {
      "image/png": "[encoded data removed]",
      "text/plain": [
       "<Figure size 648x432 with 1 Axes>"
      ]
     },
     "metadata": {},
     "output_type": "display_data"
    },
    {
     "data": {
      "text/html": [
       "<div>\n",
       "<style scoped>\n",
       "    .dataframe tbody tr th:only-of-type {\n",
       "        vertical-align: middle;\n",
       "    }\n",
       "\n",
       "    .dataframe tbody tr th {\n",
       "        vertical-align: top;\n",
       "    }\n",
       "\n",
       "    .dataframe thead th {\n",
       "        text-align: right;\n",
       "    }\n",
       "</style>\n",
       "<table border=\"1\" class=\"dataframe\">\n",
       "  <thead>\n",
       "    <tr style=\"text-align: right;\">\n",
       "      <th>Country</th>\n",
       "      <th>Austria</th>\n",
       "      <th>Bahrain</th>\n",
       "      <th>Canada</th>\n",
       "      <th>Czech Republic</th>\n",
       "      <th>Guinea</th>\n",
       "      <th>Iran</th>\n",
       "      <th>Italy</th>\n",
       "      <th>Kuwait</th>\n",
       "      <th>Moldova</th>\n",
       "      <th>Poland</th>\n",
       "      <th>Portugal</th>\n",
       "      <th>Senegal</th>\n",
       "      <th>Ukraine</th>\n",
       "      <th>United Arab Emirates</th>\n",
       "    </tr>\n",
       "    <tr>\n",
       "      <th>Date</th>\n",
       "      <th></th>\n",
       "      <th></th>\n",
       "      <th></th>\n",
       "      <th></th>\n",
       "      <th></th>\n",
       "      <th></th>\n",
       "      <th></th>\n",
       "      <th></th>\n",
       "      <th></th>\n",
       "      <th></th>\n",
       "      <th></th>\n",
       "      <th></th>\n",
       "      <th></th>\n",
       "      <th></th>\n",
       "    </tr>\n",
       "  </thead>\n",
       "  <tbody>\n",
       "    <tr>\n",
       "      <th>2020-08-12</th>\n",
       "      <td>0.017978</td>\n",
       "      <td>0.024147</td>\n",
       "      <td>0.016335</td>\n",
       "      <td>0.005665</td>\n",
       "      <td>0.012832</td>\n",
       "      <td>0.020183</td>\n",
       "      <td>0.004636</td>\n",
       "      <td>0.020802</td>\n",
       "      <td>0.009337</td>\n",
       "      <td>0.012993</td>\n",
       "      <td>0.004317</td>\n",
       "      <td>0.003444</td>\n",
       "      <td>0.004524</td>\n",
       "      <td>0.014987</td>\n",
       "    </tr>\n",
       "    <tr>\n",
       "      <th>2020-08-13</th>\n",
       "      <td>0.017978</td>\n",
       "      <td>0.024147</td>\n",
       "      <td>0.016335</td>\n",
       "      <td>0.005665</td>\n",
       "      <td>0.012832</td>\n",
       "      <td>0.020183</td>\n",
       "      <td>0.004636</td>\n",
       "      <td>0.020802</td>\n",
       "      <td>0.009337</td>\n",
       "      <td>0.012993</td>\n",
       "      <td>0.004317</td>\n",
       "      <td>0.003444</td>\n",
       "      <td>0.004524</td>\n",
       "      <td>0.014987</td>\n",
       "    </tr>\n",
       "    <tr>\n",
       "      <th>2020-08-14</th>\n",
       "      <td>0.017978</td>\n",
       "      <td>0.024147</td>\n",
       "      <td>0.016335</td>\n",
       "      <td>0.005665</td>\n",
       "      <td>0.012832</td>\n",
       "      <td>0.020183</td>\n",
       "      <td>0.004636</td>\n",
       "      <td>0.020802</td>\n",
       "      <td>0.009337</td>\n",
       "      <td>0.012993</td>\n",
       "      <td>0.004317</td>\n",
       "      <td>0.003444</td>\n",
       "      <td>0.004524</td>\n",
       "      <td>0.014987</td>\n",
       "    </tr>\n",
       "    <tr>\n",
       "      <th>2020-08-15</th>\n",
       "      <td>0.017978</td>\n",
       "      <td>0.024147</td>\n",
       "      <td>0.016335</td>\n",
       "      <td>0.005665</td>\n",
       "      <td>0.012832</td>\n",
       "      <td>0.020183</td>\n",
       "      <td>0.004636</td>\n",
       "      <td>0.020802</td>\n",
       "      <td>0.009337</td>\n",
       "      <td>0.012993</td>\n",
       "      <td>0.004317</td>\n",
       "      <td>0.003444</td>\n",
       "      <td>0.004524</td>\n",
       "      <td>0.014987</td>\n",
       "    </tr>\n",
       "    <tr>\n",
       "      <th>2020-08-16</th>\n",
       "      <td>0.017978</td>\n",
       "      <td>0.024147</td>\n",
       "      <td>0.016335</td>\n",
       "      <td>0.005665</td>\n",
       "      <td>0.012832</td>\n",
       "      <td>0.020183</td>\n",
       "      <td>0.004636</td>\n",
       "      <td>0.020802</td>\n",
       "      <td>0.009337</td>\n",
       "      <td>0.012993</td>\n",
       "      <td>0.004317</td>\n",
       "      <td>0.003444</td>\n",
       "      <td>0.004524</td>\n",
       "      <td>0.014987</td>\n",
       "    </tr>\n",
       "  </tbody>\n",
       "</table>\n",
       "</div>"
      ],
      "text/plain": [
       "Country      Austria   Bahrain    Canada  Czech Republic    Guinea      Iran  \\\n",
       "Date                                                                           \n",
       "2020-08-12  0.017978  0.024147  0.016335        0.005665  0.012832  0.020183   \n",
       "2020-08-13  0.017978  0.024147  0.016335        0.005665  0.012832  0.020183   \n",
       "2020-08-14  0.017978  0.024147  0.016335        0.005665  0.012832  0.020183   \n",
       "2020-08-15  0.017978  0.024147  0.016335        0.005665  0.012832  0.020183   \n",
       "2020-08-16  0.017978  0.024147  0.016335        0.005665  0.012832  0.020183   \n",
       "\n",
       "Country        Italy    Kuwait   Moldova    Poland  Portugal   Senegal  \\\n",
       "Date                                                                     \n",
       "2020-08-12  0.004636  0.020802  0.009337  0.012993  0.004317  0.003444   \n",
       "2020-08-13  0.004636  0.020802  0.009337  0.012993  0.004317  0.003444   \n",
       "2020-08-14  0.004636  0.020802  0.009337  0.012993  0.004317  0.003444   \n",
       "2020-08-15  0.004636  0.020802  0.009337  0.012993  0.004317  0.003444   \n",
       "2020-08-16  0.004636  0.020802  0.009337  0.012993  0.004317  0.003444   \n",
       "\n",
       "Country      Ukraine  United Arab Emirates  \n",
       "Date                                        \n",
       "2020-08-12  0.004524              0.014987  \n",
       "2020-08-13  0.004524              0.014987  \n",
       "2020-08-14  0.004524              0.014987  \n",
       "2020-08-15  0.004524              0.014987  \n",
       "2020-08-16  0.004524              0.014987  "
      ]
     },
     "execution_count": 16,
     "metadata": {},
     "output_type": "execute_result"
    }
   ],
   "source": [
    "analyser.param_history(\"sigma\", roll_window=None).tail()"
   ]
  },
  {
   "cell_type": "markdown",
   "metadata": {},
   "source": [
    "### $\\kappa$: Mortality rate of infected cases $\\mathrm{[-]}$"
   ]
  },
  {
   "cell_type": "code",
   "execution_count": 17,
   "metadata": {
    "collapsed": false
   },
   "outputs": [
    {
     "data": {
      "image/png": "[encoded data removed]",
      "text/plain": [
       "<Figure size 648x432 with 1 Axes>"
      ]
     },
     "metadata": {},
     "output_type": "display_data"
    },
    {
     "data": {
      "text/html": [
       "<div>\n",
       "<style scoped>\n",
       "    .dataframe tbody tr th:only-of-type {\n",
       "        vertical-align: middle;\n",
       "    }\n",
       "\n",
       "    .dataframe tbody tr th {\n",
       "        vertical-align: top;\n",
       "    }\n",
       "\n",
       "    .dataframe thead th {\n",
       "        text-align: right;\n",
       "    }\n",
       "</style>\n",
       "<table border=\"1\" class=\"dataframe\">\n",
       "  <thead>\n",
       "    <tr style=\"text-align: right;\">\n",
       "      <th>Country</th>\n",
       "      <th>Austria</th>\n",
       "      <th>Bahrain</th>\n",
       "      <th>Canada</th>\n",
       "      <th>Czech Republic</th>\n",
       "      <th>Guinea</th>\n",
       "      <th>Iran</th>\n",
       "      <th>Italy</th>\n",
       "      <th>Kuwait</th>\n",
       "      <th>Moldova</th>\n",
       "      <th>Poland</th>\n",
       "      <th>Portugal</th>\n",
       "      <th>Senegal</th>\n",
       "      <th>Ukraine</th>\n",
       "      <th>United Arab Emirates</th>\n",
       "    </tr>\n",
       "    <tr>\n",
       "      <th>Date</th>\n",
       "      <th></th>\n",
       "      <th></th>\n",
       "      <th></th>\n",
       "      <th></th>\n",
       "      <th></th>\n",
       "      <th></th>\n",
       "      <th></th>\n",
       "      <th></th>\n",
       "      <th></th>\n",
       "      <th></th>\n",
       "      <th></th>\n",
       "      <th></th>\n",
       "      <th></th>\n",
       "      <th></th>\n",
       "    </tr>\n",
       "  </thead>\n",
       "  <tbody>\n",
       "    <tr>\n",
       "      <th>2020-08-12</th>\n",
       "      <td>0.000059</td>\n",
       "      <td>0.000059</td>\n",
       "      <td>0.000239</td>\n",
       "      <td>0.000037</td>\n",
       "      <td>0.000037</td>\n",
       "      <td>0.000642</td>\n",
       "      <td>0.000045</td>\n",
       "      <td>0.000098</td>\n",
       "      <td>0.000294</td>\n",
       "      <td>0.000256</td>\n",
       "      <td>0.00007</td>\n",
       "      <td>0.000215</td>\n",
       "      <td>0.000157</td>\n",
       "      <td>0.000041</td>\n",
       "    </tr>\n",
       "    <tr>\n",
       "      <th>2020-08-13</th>\n",
       "      <td>0.000059</td>\n",
       "      <td>0.000059</td>\n",
       "      <td>0.000239</td>\n",
       "      <td>0.000037</td>\n",
       "      <td>0.000037</td>\n",
       "      <td>0.000642</td>\n",
       "      <td>0.000045</td>\n",
       "      <td>0.000098</td>\n",
       "      <td>0.000294</td>\n",
       "      <td>0.000256</td>\n",
       "      <td>0.00007</td>\n",
       "      <td>0.000215</td>\n",
       "      <td>0.000157</td>\n",
       "      <td>0.000041</td>\n",
       "    </tr>\n",
       "    <tr>\n",
       "      <th>2020-08-14</th>\n",
       "      <td>0.000059</td>\n",
       "      <td>0.000059</td>\n",
       "      <td>0.000239</td>\n",
       "      <td>0.000037</td>\n",
       "      <td>0.000037</td>\n",
       "      <td>0.000642</td>\n",
       "      <td>0.000045</td>\n",
       "      <td>0.000098</td>\n",
       "      <td>0.000294</td>\n",
       "      <td>0.000256</td>\n",
       "      <td>0.00007</td>\n",
       "      <td>0.000215</td>\n",
       "      <td>0.000157</td>\n",
       "      <td>0.000041</td>\n",
       "    </tr>\n",
       "    <tr>\n",
       "      <th>2020-08-15</th>\n",
       "      <td>0.000059</td>\n",
       "      <td>0.000059</td>\n",
       "      <td>0.000239</td>\n",
       "      <td>0.000037</td>\n",
       "      <td>0.000037</td>\n",
       "      <td>0.000642</td>\n",
       "      <td>0.000045</td>\n",
       "      <td>0.000098</td>\n",
       "      <td>0.000294</td>\n",
       "      <td>0.000256</td>\n",
       "      <td>0.00007</td>\n",
       "      <td>0.000215</td>\n",
       "      <td>0.000157</td>\n",
       "      <td>0.000041</td>\n",
       "    </tr>\n",
       "    <tr>\n",
       "      <th>2020-08-16</th>\n",
       "      <td>0.000059</td>\n",
       "      <td>0.000059</td>\n",
       "      <td>0.000239</td>\n",
       "      <td>0.000037</td>\n",
       "      <td>0.000037</td>\n",
       "      <td>0.000642</td>\n",
       "      <td>0.000045</td>\n",
       "      <td>0.000098</td>\n",
       "      <td>0.000294</td>\n",
       "      <td>0.000256</td>\n",
       "      <td>0.00007</td>\n",
       "      <td>0.000215</td>\n",
       "      <td>0.000157</td>\n",
       "      <td>0.000041</td>\n",
       "    </tr>\n",
       "  </tbody>\n",
       "</table>\n",
       "</div>"
      ],
      "text/plain": [
       "Country      Austria   Bahrain    Canada  Czech Republic    Guinea      Iran  \\\n",
       "Date                                                                           \n",
       "2020-08-12  0.000059  0.000059  0.000239        0.000037  0.000037  0.000642   \n",
       "2020-08-13  0.000059  0.000059  0.000239        0.000037  0.000037  0.000642   \n",
       "2020-08-14  0.000059  0.000059  0.000239        0.000037  0.000037  0.000642   \n",
       "2020-08-15  0.000059  0.000059  0.000239        0.000037  0.000037  0.000642   \n",
       "2020-08-16  0.000059  0.000059  0.000239        0.000037  0.000037  0.000642   \n",
       "\n",
       "Country        Italy    Kuwait   Moldova    Poland  Portugal   Senegal  \\\n",
       "Date                                                                     \n",
       "2020-08-12  0.000045  0.000098  0.000294  0.000256   0.00007  0.000215   \n",
       "2020-08-13  0.000045  0.000098  0.000294  0.000256   0.00007  0.000215   \n",
       "2020-08-14  0.000045  0.000098  0.000294  0.000256   0.00007  0.000215   \n",
       "2020-08-15  0.000045  0.000098  0.000294  0.000256   0.00007  0.000215   \n",
       "2020-08-16  0.000045  0.000098  0.000294  0.000256   0.00007  0.000215   \n",
       "\n",
       "Country      Ukraine  United Arab Emirates  \n",
       "Date                                        \n",
       "2020-08-12  0.000157              0.000041  \n",
       "2020-08-13  0.000157              0.000041  \n",
       "2020-08-14  0.000157              0.000041  \n",
       "2020-08-15  0.000157              0.000041  \n",
       "2020-08-16  0.000157              0.000041  "
      ]
     },
     "execution_count": 17,
     "metadata": {},
     "output_type": "execute_result"
    }
   ],
   "source": [
    "analyser.param_history(\"kappa\", roll_window=None).tail()"
   ]
  },
  {
   "cell_type": "markdown",
   "metadata": {},
   "source": [
    "### $\\theta$: Mortality rate of S$^\\ast$ cases $\\mathrm{[-]}$"
   ]
  },
  {
   "cell_type": "code",
   "execution_count": 18,
   "metadata": {
    "collapsed": false
   },
   "outputs": [
    {
     "data": {
      "image/png": "[encoded data removed]",
      "text/plain": [
       "<Figure size 648x432 with 1 Axes>"
      ]
     },
     "metadata": {},
     "output_type": "display_data"
    },
    {
     "data": {
      "text/html": [
       "<div>\n",
       "<style scoped>\n",
       "    .dataframe tbody tr th:only-of-type {\n",
       "        vertical-align: middle;\n",
       "    }\n",
       "\n",
       "    .dataframe tbody tr th {\n",
       "        vertical-align: top;\n",
       "    }\n",
       "\n",
       "    .dataframe thead th {\n",
       "        text-align: right;\n",
       "    }\n",
       "</style>\n",
       "<table border=\"1\" class=\"dataframe\">\n",
       "  <thead>\n",
       "    <tr style=\"text-align: right;\">\n",
       "      <th>Country</th>\n",
       "      <th>Austria</th>\n",
       "      <th>Bahrain</th>\n",
       "      <th>Canada</th>\n",
       "      <th>Czech Republic</th>\n",
       "      <th>Guinea</th>\n",
       "      <th>Iran</th>\n",
       "      <th>Italy</th>\n",
       "      <th>Kuwait</th>\n",
       "      <th>Moldova</th>\n",
       "      <th>Poland</th>\n",
       "      <th>Portugal</th>\n",
       "      <th>Senegal</th>\n",
       "      <th>Ukraine</th>\n",
       "      <th>United Arab Emirates</th>\n",
       "    </tr>\n",
       "    <tr>\n",
       "      <th>Date</th>\n",
       "      <th></th>\n",
       "      <th></th>\n",
       "      <th></th>\n",
       "      <th></th>\n",
       "      <th></th>\n",
       "      <th></th>\n",
       "      <th></th>\n",
       "      <th></th>\n",
       "      <th></th>\n",
       "      <th></th>\n",
       "      <th></th>\n",
       "      <th></th>\n",
       "      <th></th>\n",
       "      <th></th>\n",
       "    </tr>\n",
       "  </thead>\n",
       "  <tbody>\n",
       "    <tr>\n",
       "      <th>2020-08-12</th>\n",
       "      <td>0.00257</td>\n",
       "      <td>0.002586</td>\n",
       "      <td>0.001385</td>\n",
       "      <td>0.000665</td>\n",
       "      <td>0.000665</td>\n",
       "      <td>0.046873</td>\n",
       "      <td>0.018436</td>\n",
       "      <td>0.000436</td>\n",
       "      <td>0.000122</td>\n",
       "      <td>0.000953</td>\n",
       "      <td>0.001757</td>\n",
       "      <td>0.001022</td>\n",
       "      <td>0.000808</td>\n",
       "      <td>0.000019</td>\n",
       "    </tr>\n",
       "    <tr>\n",
       "      <th>2020-08-13</th>\n",
       "      <td>0.00257</td>\n",
       "      <td>0.002586</td>\n",
       "      <td>0.001385</td>\n",
       "      <td>0.000665</td>\n",
       "      <td>0.000665</td>\n",
       "      <td>0.046873</td>\n",
       "      <td>0.018436</td>\n",
       "      <td>0.000436</td>\n",
       "      <td>0.000122</td>\n",
       "      <td>0.000953</td>\n",
       "      <td>0.001757</td>\n",
       "      <td>0.001022</td>\n",
       "      <td>0.000808</td>\n",
       "      <td>0.000019</td>\n",
       "    </tr>\n",
       "    <tr>\n",
       "      <th>2020-08-14</th>\n",
       "      <td>0.00257</td>\n",
       "      <td>0.002586</td>\n",
       "      <td>0.001385</td>\n",
       "      <td>0.000665</td>\n",
       "      <td>0.000665</td>\n",
       "      <td>0.046873</td>\n",
       "      <td>0.018436</td>\n",
       "      <td>0.000436</td>\n",
       "      <td>0.000122</td>\n",
       "      <td>0.000953</td>\n",
       "      <td>0.001757</td>\n",
       "      <td>0.001022</td>\n",
       "      <td>0.000808</td>\n",
       "      <td>0.000019</td>\n",
       "    </tr>\n",
       "    <tr>\n",
       "      <th>2020-08-15</th>\n",
       "      <td>0.00257</td>\n",
       "      <td>0.002586</td>\n",
       "      <td>0.001385</td>\n",
       "      <td>0.000665</td>\n",
       "      <td>0.000665</td>\n",
       "      <td>0.046873</td>\n",
       "      <td>0.018436</td>\n",
       "      <td>0.000436</td>\n",
       "      <td>0.000122</td>\n",
       "      <td>0.000953</td>\n",
       "      <td>0.001757</td>\n",
       "      <td>0.001022</td>\n",
       "      <td>0.000808</td>\n",
       "      <td>0.000019</td>\n",
       "    </tr>\n",
       "    <tr>\n",
       "      <th>2020-08-16</th>\n",
       "      <td>0.00257</td>\n",
       "      <td>0.002586</td>\n",
       "      <td>0.001385</td>\n",
       "      <td>0.000665</td>\n",
       "      <td>0.000665</td>\n",
       "      <td>0.046873</td>\n",
       "      <td>0.018436</td>\n",
       "      <td>0.000436</td>\n",
       "      <td>0.000122</td>\n",
       "      <td>0.000953</td>\n",
       "      <td>0.001757</td>\n",
       "      <td>0.001022</td>\n",
       "      <td>0.000808</td>\n",
       "      <td>0.000019</td>\n",
       "    </tr>\n",
       "  </tbody>\n",
       "</table>\n",
       "</div>"
      ],
      "text/plain": [
       "Country     Austria   Bahrain    Canada  Czech Republic    Guinea      Iran  \\\n",
       "Date                                                                          \n",
       "2020-08-12  0.00257  0.002586  0.001385        0.000665  0.000665  0.046873   \n",
       "2020-08-13  0.00257  0.002586  0.001385        0.000665  0.000665  0.046873   \n",
       "2020-08-14  0.00257  0.002586  0.001385        0.000665  0.000665  0.046873   \n",
       "2020-08-15  0.00257  0.002586  0.001385        0.000665  0.000665  0.046873   \n",
       "2020-08-16  0.00257  0.002586  0.001385        0.000665  0.000665  0.046873   \n",
       "\n",
       "Country        Italy    Kuwait   Moldova    Poland  Portugal   Senegal  \\\n",
       "Date                                                                     \n",
       "2020-08-12  0.018436  0.000436  0.000122  0.000953  0.001757  0.001022   \n",
       "2020-08-13  0.018436  0.000436  0.000122  0.000953  0.001757  0.001022   \n",
       "2020-08-14  0.018436  0.000436  0.000122  0.000953  0.001757  0.001022   \n",
       "2020-08-15  0.018436  0.000436  0.000122  0.000953  0.001757  0.001022   \n",
       "2020-08-16  0.018436  0.000436  0.000122  0.000953  0.001757  0.001022   \n",
       "\n",
       "Country      Ukraine  United Arab Emirates  \n",
       "Date                                        \n",
       "2020-08-12  0.000808              0.000019  \n",
       "2020-08-13  0.000808              0.000019  \n",
       "2020-08-14  0.000808              0.000019  \n",
       "2020-08-15  0.000808              0.000019  \n",
       "2020-08-16  0.000808              0.000019  "
      ]
     },
     "execution_count": 18,
     "metadata": {},
     "output_type": "execute_result"
    }
   ],
   "source": [
    "analyser.param_history(\"theta\", roll_window=None).tail()"
   ]
  },
  {
   "cell_type": "markdown",
   "metadata": {},
   "source": [
    "## (Experimental): Relationship of OxCGRT index and parameter values\n",
    "Government responses will impact on parameter values of ODE models about 14 days later. Here, we will investigate on the relationship of [stringency index (from OxCGRT)](https://github.com/OxCGRT/covid-policy-tracker/blob/master/documentation/index_methodology.md) and reproduction number/model parameters.\n"
   ]
  },
  {
   "cell_type": "code",
   "execution_count": 19,
   "metadata": {
    "collapsed": false
   },
   "outputs": [
    {
     "data": {
      "text/html": [
       "<style  type=\"text/css\" >\n",
       "#T_593e5e34_dfd2_11ea_a69e_525400c34df2row0_col0{\n",
       "            background-color:  #fff7fb;\n",
       "            color:  #000000;\n",
       "        }</style><table id=\"T_593e5e34_dfd2_11ea_a69e_525400c34df2\" ><thead>    <tr>        <th class=\"blank level0\" ></th>        <th class=\"col_heading level0 col0\" >Stringency_index_delay</th>    </tr></thead><tbody>\n",
       "                <tr>\n",
       "                        <th id=\"T_593e5e34_dfd2_11ea_a69e_525400c34df2level0_row0\" class=\"row_heading level0 row0\" >Stringency_index_delay</th>\n",
       "                        <td id=\"T_593e5e34_dfd2_11ea_a69e_525400c34df2row0_col0\" class=\"data row0 col0\" >1.000000</td>\n",
       "            </tr>\n",
       "    </tbody></table>"
      ],
      "text/plain": [
       "<pandas.io.formats.style.Styler at 0x7f93b978f8b0>"
      ]
     },
     "execution_count": 19,
     "metadata": {},
     "output_type": "execute_result"
    }
   ],
   "source": [
    "# Reproduction number\n",
    "df = analyser.track()\n",
    "delay = 14\n",
    "df[\"Stringency_index_delay\"] = df[\"Stringency_index\"].shift(delay)\n",
    "df = df.dropna(how=\"any\")\n",
    "df = df.loc[:, [\"Stringency_index_delay\", \"Rt\", *cs.SIRF.PARAMETERS]]\n",
    "df.corr().style.background_gradient(axis=None)"
   ]
  }
 ],
 "metadata": {
  "kernelspec": {
   "display_name": "Python 3.8.2 64-bit ('.venv': venv)",
   "name": "python_defaultSpec_1596469977201"
  },
  "language_info": {
   "codemirror_mode": {
    "name": "ipython",
    "version": 3
   },
   "file_extension": ".py",
   "mimetype": "text/x-python",
   "name": "python",
   "nbconvert_exporter": "python",
   "pygments_lexer": "ipython3",
   "version": 3
  }
 },
 "nbformat": 4,
 "nbformat_minor": 4
}
