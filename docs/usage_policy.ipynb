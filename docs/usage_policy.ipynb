{
 "cells": [
  {
   "cell_type": "markdown",
   "metadata": {},
   "source": [
    "# Usage (details: policy measures)\n",
    "Here, we will analyse the relationship of policy measures and parameter values of SIR-derived ODE models. Policy measures are tracked by [Oxford Covid-19 Government Response Tracker (OxCGRT)](https://github.com/OxCGRT/covid-policy-tracker)."
   ]
  },
  {
   "cell_type": "markdown",
   "metadata": {},
   "source": [
    "## Preparation"
   ]
  },
  {
   "cell_type": "code",
   "execution_count": 1,
   "metadata": {
    "collapsed": false
   },
   "outputs": [],
   "source": [
    "# Standard users\n",
    "# !pip install covsirphy\n",
    "# Developers (Note: this notebook is in example directory)\n",
    "import os\n",
    "os.chdir(\"../\")"
   ]
  },
  {
   "cell_type": "code",
   "execution_count": 2,
   "metadata": {
    "collapsed": false
   },
   "outputs": [],
   "source": [
    "from pprint import pprint"
   ]
  },
  {
   "cell_type": "code",
   "execution_count": 3,
   "metadata": {
    "collapsed": false
   },
   "outputs": [
    {
     "data": {
      "text/plain": [
       "'2.8.3'"
      ]
     },
     "execution_count": 3,
     "metadata": {},
     "output_type": "execute_result"
    }
   ],
   "source": [
    "import covsirphy as cs\n",
    "cs.__version__"
   ]
  },
  {
   "cell_type": "code",
   "execution_count": 4,
   "metadata": {
    "collapsed": false,
    "tags": []
   },
   "outputs": [
    {
     "name": "stdout",
     "output_type": "stream",
     "text": [
      "(Secondary source) Guidotti, E., Ardia, D., (2020), \"COVID-19 Data Hub\", Journal of Open Source Software 5(51):2376, doi: 10.21105/joss.02376.\n",
      "We can get Citation list of primary sources with DataLoader(...).covid19dh_citation"
     ]
    },
    {
     "name": "stdout",
     "output_type": "stream",
     "text": [
      "\n"
     ]
    }
   ],
   "source": [
    "# Standard users and developers\n",
    "data_loader = cs.DataLoader(\"input\")\n",
    "# The number of cases (JHU style)\n",
    "jhu_data = data_loader.jhu(verbose=False)\n",
    "# Population in each country\n",
    "population_data = data_loader.population(verbose=False)\n",
    "# Government Response Tracker (OxCGRT)\n",
    "oxcgrt_data = data_loader.oxcgrt(verbose=False)\n",
    "# Description/citation\n",
    "print(oxcgrt_data.citation)"
   ]
  },
  {
   "cell_type": "markdown",
   "metadata": {},
   "source": [
    "## Class for policy measure analysis\n",
    "We will `PolicyMeasures` class to find relationship of policy measures and parameter values of SIR-derived ODE models."
   ]
  },
  {
   "cell_type": "code",
   "execution_count": 5,
   "metadata": {
    "collapsed": false,
    "tags": []
   },
   "outputs": [
    {
     "data": {
      "text/plain": [
       "184"
      ]
     },
     "execution_count": 5,
     "metadata": {},
     "output_type": "execute_result"
    }
   ],
   "source": [
    "# Create analyser with tau value 360 [min] (can be changed)\n",
    "analyser = cs.PolicyMeasures(jhu_data, population_data, oxcgrt_data, tau=360)\n",
    "# The number of registerd countries\n",
    "len(analyser.countries)"
   ]
  },
  {
   "cell_type": "code",
   "execution_count": 6,
   "metadata": {
    "collapsed": false
   },
   "outputs": [
    {
     "data": {
      "text/plain": [
       "covsirphy.analysis.scenario.Scenario"
      ]
     },
     "execution_count": 6,
     "metadata": {},
     "output_type": "execute_result"
    }
   ],
   "source": [
    "# We can get Scenario instance for detailed scenario analysis\n",
    "type(analyser.scenario(\"Japan\"))"
   ]
  },
  {
   "cell_type": "markdown",
   "metadata": {},
   "source": [
    "## Set phases with S-R trend analysis\n",
    "We will perform S-R trend analysis to set phases in all countries. Countries which do not have **9th phases** will be un-registered for the next analysis. This number will be adjusted for your analysis."
   ]
  },
  {
   "cell_type": "code",
   "execution_count": 7,
   "metadata": {
    "collapsed": false
   },
   "outputs": [
    {
     "name": "stdout",
     "output_type": "stream",
     "text": [
      "{"
     ]
    },
    {
     "name": "stdout",
     "output_type": "stream",
     "text": [
      "3"
     ]
    },
    {
     "name": "stdout",
     "output_type": "stream",
     "text": [
      ": "
     ]
    },
    {
     "name": "stdout",
     "output_type": "stream",
     "text": [
      "['Tanzania', 'Dominica', 'Myanmar']"
     ]
    },
    {
     "name": "stdout",
     "output_type": "stream",
     "text": [
      ",\n",
      " "
     ]
    },
    {
     "name": "stdout",
     "output_type": "stream",
     "text": [
      "4"
     ]
    },
    {
     "name": "stdout",
     "output_type": "stream",
     "text": [
      ": "
     ]
    },
    {
     "name": "stdout",
     "output_type": "stream",
     "text": [
      "['Trinidad and Tobago', 'Belize']"
     ]
    },
    {
     "name": "stdout",
     "output_type": "stream",
     "text": [
      ",\n",
      " "
     ]
    },
    {
     "name": "stdout",
     "output_type": "stream",
     "text": [
      "5"
     ]
    },
    {
     "name": "stdout",
     "output_type": "stream",
     "text": [
      ": "
     ]
    },
    {
     "name": "stdout",
     "output_type": "stream",
     "text": [
      "["
     ]
    },
    {
     "name": "stdout",
     "output_type": "stream",
     "text": [
      "'Lebanon'"
     ]
    },
    {
     "name": "stdout",
     "output_type": "stream",
     "text": [
      ", "
     ]
    },
    {
     "name": "stdout",
     "output_type": "stream",
     "text": [
      "'Seychelles'"
     ]
    },
    {
     "name": "stdout",
     "output_type": "stream",
     "text": [
      ", "
     ]
    },
    {
     "name": "stdout",
     "output_type": "stream",
     "text": [
      "'Namibia'"
     ]
    },
    {
     "name": "stdout",
     "output_type": "stream",
     "text": [
      ", "
     ]
    },
    {
     "name": "stdout",
     "output_type": "stream",
     "text": [
      "'Tunisia'"
     ]
    },
    {
     "name": "stdout",
     "output_type": "stream",
     "text": [
      ", "
     ]
    },
    {
     "name": "stdout",
     "output_type": "stream",
     "text": [
      "'Brunei'"
     ]
    },
    {
     "name": "stdout",
     "output_type": "stream",
     "text": [
      ", "
     ]
    },
    {
     "name": "stdout",
     "output_type": "stream",
     "text": [
      "'Lesotho'"
     ]
    },
    {
     "name": "stdout",
     "output_type": "stream",
     "text": [
      ",\n",
      "     "
     ]
    },
    {
     "name": "stdout",
     "output_type": "stream",
     "text": [
      "'Antigua and Barbuda'"
     ]
    },
    {
     "name": "stdout",
     "output_type": "stream",
     "text": [
      ", "
     ]
    },
    {
     "name": "stdout",
     "output_type": "stream",
     "text": [
      "'Papua New Guinea'"
     ]
    },
    {
     "name": "stdout",
     "output_type": "stream",
     "text": [
      ", "
     ]
    },
    {
     "name": "stdout",
     "output_type": "stream",
     "text": [
      "'Libya'"
     ]
    },
    {
     "name": "stdout",
     "output_type": "stream",
     "text": [
      ", "
     ]
    },
    {
     "name": "stdout",
     "output_type": "stream",
     "text": [
      "'Grenada'"
     ]
    },
    {
     "name": "stdout",
     "output_type": "stream",
     "text": [
      ", "
     ]
    },
    {
     "name": "stdout",
     "output_type": "stream",
     "text": [
      "'Bahamas'"
     ]
    },
    {
     "name": "stdout",
     "output_type": "stream",
     "text": [
      ",\n",
      "     "
     ]
    },
    {
     "name": "stdout",
     "output_type": "stream",
     "text": [
      "'Fiji'"
     ]
    },
    {
     "name": "stdout",
     "output_type": "stream",
     "text": [
      ", "
     ]
    },
    {
     "name": "stdout",
     "output_type": "stream",
     "text": [
      "'Mauritius'"
     ]
    },
    {
     "name": "stdout",
     "output_type": "stream",
     "text": [
      "]"
     ]
    },
    {
     "name": "stdout",
     "output_type": "stream",
     "text": [
      ",\n",
      " "
     ]
    },
    {
     "name": "stdout",
     "output_type": "stream",
     "text": [
      "6"
     ]
    },
    {
     "name": "stdout",
     "output_type": "stream",
     "text": [
      ": "
     ]
    },
    {
     "name": "stdout",
     "output_type": "stream",
     "text": [
      "["
     ]
    },
    {
     "name": "stdout",
     "output_type": "stream",
     "text": [
      "'Monaco'"
     ]
    },
    {
     "name": "stdout",
     "output_type": "stream",
     "text": [
      ", "
     ]
    },
    {
     "name": "stdout",
     "output_type": "stream",
     "text": [
      "'Gambia'"
     ]
    },
    {
     "name": "stdout",
     "output_type": "stream",
     "text": [
      ", "
     ]
    },
    {
     "name": "stdout",
     "output_type": "stream",
     "text": [
      "'Kazakhstan'"
     ]
    },
    {
     "name": "stdout",
     "output_type": "stream",
     "text": [
      ", "
     ]
    },
    {
     "name": "stdout",
     "output_type": "stream",
     "text": [
      "'Jordan'"
     ]
    },
    {
     "name": "stdout",
     "output_type": "stream",
     "text": [
      ", "
     ]
    },
    {
     "name": "stdout",
     "output_type": "stream",
     "text": [
      "'Kyrgyzstan'"
     ]
    },
    {
     "name": "stdout",
     "output_type": "stream",
     "text": [
      ", "
     ]
    },
    {
     "name": "stdout",
     "output_type": "stream",
     "text": [
      "'Ireland'"
     ]
    },
    {
     "name": "stdout",
     "output_type": "stream",
     "text": [
      ",\n",
      "     "
     ]
    },
    {
     "name": "stdout",
     "output_type": "stream",
     "text": [
      "'Netherlands'"
     ]
    },
    {
     "name": "stdout",
     "output_type": "stream",
     "text": [
      ", "
     ]
    },
    {
     "name": "stdout",
     "output_type": "stream",
     "text": [
      "'Sao Tome and Principe'"
     ]
    },
    {
     "name": "stdout",
     "output_type": "stream",
     "text": [
      ", "
     ]
    },
    {
     "name": "stdout",
     "output_type": "stream",
     "text": [
      "'Guyana'"
     ]
    },
    {
     "name": "stdout",
     "output_type": "stream",
     "text": [
      ", "
     ]
    },
    {
     "name": "stdout",
     "output_type": "stream",
     "text": [
      "'Yemen'"
     ]
    },
    {
     "name": "stdout",
     "output_type": "stream",
     "text": [
      ", "
     ]
    },
    {
     "name": "stdout",
     "output_type": "stream",
     "text": [
      "'Rwanda'"
     ]
    },
    {
     "name": "stdout",
     "output_type": "stream",
     "text": [
      ",\n",
      "     "
     ]
    },
    {
     "name": "stdout",
     "output_type": "stream",
     "text": [
      "'Paraguay'"
     ]
    },
    {
     "name": "stdout",
     "output_type": "stream",
     "text": [
      ", "
     ]
    },
    {
     "name": "stdout",
     "output_type": "stream",
     "text": [
      "'Norway'"
     ]
    },
    {
     "name": "stdout",
     "output_type": "stream",
     "text": [
      ", "
     ]
    },
    {
     "name": "stdout",
     "output_type": "stream",
     "text": [
      "'Vietnam'"
     ]
    },
    {
     "name": "stdout",
     "output_type": "stream",
     "text": [
      ", "
     ]
    },
    {
     "name": "stdout",
     "output_type": "stream",
     "text": [
      "'Angola'"
     ]
    },
    {
     "name": "stdout",
     "output_type": "stream",
     "text": [
      ", "
     ]
    },
    {
     "name": "stdout",
     "output_type": "stream",
     "text": [
      "'Croatia'"
     ]
    },
    {
     "name": "stdout",
     "output_type": "stream",
     "text": [
      ",\n",
      "     "
     ]
    },
    {
     "name": "stdout",
     "output_type": "stream",
     "text": [
      "'Central African Republic'"
     ]
    },
    {
     "name": "stdout",
     "output_type": "stream",
     "text": [
      ", "
     ]
    },
    {
     "name": "stdout",
     "output_type": "stream",
     "text": [
      "'Malta'"
     ]
    },
    {
     "name": "stdout",
     "output_type": "stream",
     "text": [
      "]"
     ]
    },
    {
     "name": "stdout",
     "output_type": "stream",
     "text": [
      ",\n",
      " "
     ]
    },
    {
     "name": "stdout",
     "output_type": "stream",
     "text": [
      "7"
     ]
    },
    {
     "name": "stdout",
     "output_type": "stream",
     "text": [
      ": "
     ]
    },
    {
     "name": "stdout",
     "output_type": "stream",
     "text": [
      "["
     ]
    },
    {
     "name": "stdout",
     "output_type": "stream",
     "text": [
      "'Botswana'"
     ]
    },
    {
     "name": "stdout",
     "output_type": "stream",
     "text": [
      ", "
     ]
    },
    {
     "name": "stdout",
     "output_type": "stream",
     "text": [
      "'Uganda'"
     ]
    },
    {
     "name": "stdout",
     "output_type": "stream",
     "text": [
      ", "
     ]
    },
    {
     "name": "stdout",
     "output_type": "stream",
     "text": [
      "'New Zealand'"
     ]
    },
    {
     "name": "stdout",
     "output_type": "stream",
     "text": [
      ", "
     ]
    },
    {
     "name": "stdout",
     "output_type": "stream",
     "text": [
      "'Costa Rica'"
     ]
    },
    {
     "name": "stdout",
     "output_type": "stream",
     "text": [
      ", "
     ]
    },
    {
     "name": "stdout",
     "output_type": "stream",
     "text": [
      "'South Sudan'"
     ]
    },
    {
     "name": "stdout",
     "output_type": "stream",
     "text": [
      ",\n",
      "     "
     ]
    },
    {
     "name": "stdout",
     "output_type": "stream",
     "text": [
      "'Philippines'"
     ]
    },
    {
     "name": "stdout",
     "output_type": "stream",
     "text": [
      ", "
     ]
    },
    {
     "name": "stdout",
     "output_type": "stream",
     "text": [
      "'Colombia'"
     ]
    },
    {
     "name": "stdout",
     "output_type": "stream",
     "text": [
      ", "
     ]
    },
    {
     "name": "stdout",
     "output_type": "stream",
     "text": [
      "'San Marino'"
     ]
    },
    {
     "name": "stdout",
     "output_type": "stream",
     "text": [
      ", "
     ]
    },
    {
     "name": "stdout",
     "output_type": "stream",
     "text": [
      "'Comoros'"
     ]
    },
    {
     "name": "stdout",
     "output_type": "stream",
     "text": [
      ", "
     ]
    },
    {
     "name": "stdout",
     "output_type": "stream",
     "text": [
      "'Barbados'"
     ]
    },
    {
     "name": "stdout",
     "output_type": "stream",
     "text": [
      ", "
     ]
    },
    {
     "name": "stdout",
     "output_type": "stream",
     "text": [
      "'Malawi'"
     ]
    },
    {
     "name": "stdout",
     "output_type": "stream",
     "text": [
      ",\n",
      "     "
     ]
    },
    {
     "name": "stdout",
     "output_type": "stream",
     "text": [
      "'Zimbabwe'"
     ]
    },
    {
     "name": "stdout",
     "output_type": "stream",
     "text": [
      ", "
     ]
    },
    {
     "name": "stdout",
     "output_type": "stream",
     "text": [
      "'Nepal'"
     ]
    },
    {
     "name": "stdout",
     "output_type": "stream",
     "text": [
      ", "
     ]
    },
    {
     "name": "stdout",
     "output_type": "stream",
     "text": [
      "'Eritrea'"
     ]
    },
    {
     "name": "stdout",
     "output_type": "stream",
     "text": [
      ", "
     ]
    },
    {
     "name": "stdout",
     "output_type": "stream",
     "text": [
      "'Ethiopia'"
     ]
    },
    {
     "name": "stdout",
     "output_type": "stream",
     "text": [
      ", "
     ]
    },
    {
     "name": "stdout",
     "output_type": "stream",
     "text": [
      "'Saint Lucia'"
     ]
    },
    {
     "name": "stdout",
     "output_type": "stream",
     "text": [
      ", "
     ]
    },
    {
     "name": "stdout",
     "output_type": "stream",
     "text": [
      "'Taiwan'"
     ]
    },
    {
     "name": "stdout",
     "output_type": "stream",
     "text": [
      ",\n",
      "     "
     ]
    },
    {
     "name": "stdout",
     "output_type": "stream",
     "text": [
      "'Thailand'"
     ]
    },
    {
     "name": "stdout",
     "output_type": "stream",
     "text": [
      ", "
     ]
    },
    {
     "name": "stdout",
     "output_type": "stream",
     "text": [
      "'Venezuela'"
     ]
    },
    {
     "name": "stdout",
     "output_type": "stream",
     "text": [
      ", "
     ]
    },
    {
     "name": "stdout",
     "output_type": "stream",
     "text": [
      "'Jamaica'"
     ]
    },
    {
     "name": "stdout",
     "output_type": "stream",
     "text": [
      ", "
     ]
    },
    {
     "name": "stdout",
     "output_type": "stream",
     "text": [
      "'Palestine'"
     ]
    },
    {
     "name": "stdout",
     "output_type": "stream",
     "text": [
      ", "
     ]
    },
    {
     "name": "stdout",
     "output_type": "stream",
     "text": [
      "'Cambodia'"
     ]
    },
    {
     "name": "stdout",
     "output_type": "stream",
     "text": [
      ", "
     ]
    },
    {
     "name": "stdout",
     "output_type": "stream",
     "text": [
      "'Madagascar'"
     ]
    },
    {
     "name": "stdout",
     "output_type": "stream",
     "text": [
      ",\n",
      "     "
     ]
    },
    {
     "name": "stdout",
     "output_type": "stream",
     "text": [
      "'Morocco'"
     ]
    },
    {
     "name": "stdout",
     "output_type": "stream",
     "text": [
      ", "
     ]
    },
    {
     "name": "stdout",
     "output_type": "stream",
     "text": [
      "'Kosovo'"
     ]
    },
    {
     "name": "stdout",
     "output_type": "stream",
     "text": [
      ", "
     ]
    },
    {
     "name": "stdout",
     "output_type": "stream",
     "text": [
      "'Equatorial Guinea'"
     ]
    },
    {
     "name": "stdout",
     "output_type": "stream",
     "text": [
      ", "
     ]
    },
    {
     "name": "stdout",
     "output_type": "stream",
     "text": [
      "'Mongolia'"
     ]
    },
    {
     "name": "stdout",
     "output_type": "stream",
     "text": [
      ", "
     ]
    },
    {
     "name": "stdout",
     "output_type": "stream",
     "text": [
      "'Liechtenstein'"
     ]
    },
    {
     "name": "stdout",
     "output_type": "stream",
     "text": [
      ",\n",
      "     "
     ]
    },
    {
     "name": "stdout",
     "output_type": "stream",
     "text": [
      "'Zambia'"
     ]
    },
    {
     "name": "stdout",
     "output_type": "stream",
     "text": [
      ", "
     ]
    },
    {
     "name": "stdout",
     "output_type": "stream",
     "text": [
      "'Kenya'"
     ]
    },
    {
     "name": "stdout",
     "output_type": "stream",
     "text": [
      ", "
     ]
    },
    {
     "name": "stdout",
     "output_type": "stream",
     "text": [
      "'Saint Vincent and the Grenadines'"
     ]
    },
    {
     "name": "stdout",
     "output_type": "stream",
     "text": [
      ", "
     ]
    },
    {
     "name": "stdout",
     "output_type": "stream",
     "text": [
      "'Bhutan'"
     ]
    },
    {
     "name": "stdout",
     "output_type": "stream",
     "text": [
      ", "
     ]
    },
    {
     "name": "stdout",
     "output_type": "stream",
     "text": [
      "'Cyprus'"
     ]
    },
    {
     "name": "stdout",
     "output_type": "stream",
     "text": [
      ",\n",
      "     "
     ]
    },
    {
     "name": "stdout",
     "output_type": "stream",
     "text": [
      "'Iceland'"
     ]
    },
    {
     "name": "stdout",
     "output_type": "stream",
     "text": [
      ", "
     ]
    },
    {
     "name": "stdout",
     "output_type": "stream",
     "text": [
      "'Montenegro'"
     ]
    },
    {
     "name": "stdout",
     "output_type": "stream",
     "text": [
      ", "
     ]
    },
    {
     "name": "stdout",
     "output_type": "stream",
     "text": [
      "'Australia'"
     ]
    },
    {
     "name": "stdout",
     "output_type": "stream",
     "text": [
      ", "
     ]
    },
    {
     "name": "stdout",
     "output_type": "stream",
     "text": [
      "'Spain'"
     ]
    },
    {
     "name": "stdout",
     "output_type": "stream",
     "text": [
      ", "
     ]
    },
    {
     "name": "stdout",
     "output_type": "stream",
     "text": [
      "'Syria'"
     ]
    },
    {
     "name": "stdout",
     "output_type": "stream",
     "text": [
      ", "
     ]
    },
    {
     "name": "stdout",
     "output_type": "stream",
     "text": [
      "'India'"
     ]
    },
    {
     "name": "stdout",
     "output_type": "stream",
     "text": [
      ",\n",
      "     "
     ]
    },
    {
     "name": "stdout",
     "output_type": "stream",
     "text": [
      "'Slovakia'"
     ]
    },
    {
     "name": "stdout",
     "output_type": "stream",
     "text": [
      "]"
     ]
    },
    {
     "name": "stdout",
     "output_type": "stream",
     "text": [
      ",\n",
      " "
     ]
    },
    {
     "name": "stdout",
     "output_type": "stream",
     "text": [
      "8"
     ]
    },
    {
     "name": "stdout",
     "output_type": "stream",
     "text": [
      ": "
     ]
    },
    {
     "name": "stdout",
     "output_type": "stream",
     "text": [
      "["
     ]
    },
    {
     "name": "stdout",
     "output_type": "stream",
     "text": [
      "'Chad'"
     ]
    },
    {
     "name": "stdout",
     "output_type": "stream",
     "text": [
      ", "
     ]
    },
    {
     "name": "stdout",
     "output_type": "stream",
     "text": [
      "'Mozambique'"
     ]
    },
    {
     "name": "stdout",
     "output_type": "stream",
     "text": [
      ", "
     ]
    },
    {
     "name": "stdout",
     "output_type": "stream",
     "text": [
      "'Haiti'"
     ]
    },
    {
     "name": "stdout",
     "output_type": "stream",
     "text": [
      ", "
     ]
    },
    {
     "name": "stdout",
     "output_type": "stream",
     "text": [
      "'Oman'"
     ]
    },
    {
     "name": "stdout",
     "output_type": "stream",
     "text": [
      ", "
     ]
    },
    {
     "name": "stdout",
     "output_type": "stream",
     "text": [
      "'Niger'"
     ]
    },
    {
     "name": "stdout",
     "output_type": "stream",
     "text": [
      ", "
     ]
    },
    {
     "name": "stdout",
     "output_type": "stream",
     "text": [
      "'Congo'"
     ]
    },
    {
     "name": "stdout",
     "output_type": "stream",
     "text": [
      ", "
     ]
    },
    {
     "name": "stdout",
     "output_type": "stream",
     "text": [
      "'Burundi'"
     ]
    },
    {
     "name": "stdout",
     "output_type": "stream",
     "text": [
      ",\n",
      "     "
     ]
    },
    {
     "name": "stdout",
     "output_type": "stream",
     "text": [
      "'Guatemala'"
     ]
    },
    {
     "name": "stdout",
     "output_type": "stream",
     "text": [
      ", "
     ]
    },
    {
     "name": "stdout",
     "output_type": "stream",
     "text": [
      "'Uruguay'"
     ]
    },
    {
     "name": "stdout",
     "output_type": "stream",
     "text": [
      ", "
     ]
    },
    {
     "name": "stdout",
     "output_type": "stream",
     "text": [
      "'Nicaragua'"
     ]
    },
    {
     "name": "stdout",
     "output_type": "stream",
     "text": [
      ", "
     ]
    },
    {
     "name": "stdout",
     "output_type": "stream",
     "text": [
      "'Slovenia'"
     ]
    },
    {
     "name": "stdout",
     "output_type": "stream",
     "text": [
      ", "
     ]
    },
    {
     "name": "stdout",
     "output_type": "stream",
     "text": [
      "'Greece'"
     ]
    },
    {
     "name": "stdout",
     "output_type": "stream",
     "text": [
      ", "
     ]
    },
    {
     "name": "stdout",
     "output_type": "stream",
     "text": [
      "'Israel'"
     ]
    },
    {
     "name": "stdout",
     "output_type": "stream",
     "text": [
      ",\n",
      "     "
     ]
    },
    {
     "name": "stdout",
     "output_type": "stream",
     "text": [
      "'Maldives'"
     ]
    },
    {
     "name": "stdout",
     "output_type": "stream",
     "text": [
      ", "
     ]
    },
    {
     "name": "stdout",
     "output_type": "stream",
     "text": [
      "'South Africa'"
     ]
    },
    {
     "name": "stdout",
     "output_type": "stream",
     "text": [
      ", "
     ]
    },
    {
     "name": "stdout",
     "output_type": "stream",
     "text": [
      "'Ghana'"
     ]
    },
    {
     "name": "stdout",
     "output_type": "stream",
     "text": [
      ", "
     ]
    },
    {
     "name": "stdout",
     "output_type": "stream",
     "text": [
      "'Tajikistan'"
     ]
    },
    {
     "name": "stdout",
     "output_type": "stream",
     "text": [
      ", "
     ]
    },
    {
     "name": "stdout",
     "output_type": "stream",
     "text": [
      "'Sudan'"
     ]
    },
    {
     "name": "stdout",
     "output_type": "stream",
     "text": [
      ", "
     ]
    },
    {
     "name": "stdout",
     "output_type": "stream",
     "text": [
      "'Suriname'"
     ]
    },
    {
     "name": "stdout",
     "output_type": "stream",
     "text": [
      ",\n",
      "     "
     ]
    },
    {
     "name": "stdout",
     "output_type": "stream",
     "text": [
      "'Argentina'"
     ]
    },
    {
     "name": "stdout",
     "output_type": "stream",
     "text": [
      ", "
     ]
    },
    {
     "name": "stdout",
     "output_type": "stream",
     "text": [
      "'Sri Lanka'"
     ]
    },
    {
     "name": "stdout",
     "output_type": "stream",
     "text": [
      ", "
     ]
    },
    {
     "name": "stdout",
     "output_type": "stream",
     "text": [
      "'Djibouti'"
     ]
    },
    {
     "name": "stdout",
     "output_type": "stream",
     "text": [
      ", "
     ]
    },
    {
     "name": "stdout",
     "output_type": "stream",
     "text": [
      "'Afghanistan'"
     ]
    },
    {
     "name": "stdout",
     "output_type": "stream",
     "text": [
      ", "
     ]
    },
    {
     "name": "stdout",
     "output_type": "stream",
     "text": [
      "'Bermuda'"
     ]
    },
    {
     "name": "stdout",
     "output_type": "stream",
     "text": [
      ", "
     ]
    },
    {
     "name": "stdout",
     "output_type": "stream",
     "text": [
      "'Cameroon'"
     ]
    },
    {
     "name": "stdout",
     "output_type": "stream",
     "text": [
      ",\n",
      "     "
     ]
    },
    {
     "name": "stdout",
     "output_type": "stream",
     "text": [
      "'Japan'"
     ]
    },
    {
     "name": "stdout",
     "output_type": "stream",
     "text": [
      ", "
     ]
    },
    {
     "name": "stdout",
     "output_type": "stream",
     "text": [
      "'Guinea-Bissau'"
     ]
    },
    {
     "name": "stdout",
     "output_type": "stream",
     "text": [
      ", "
     ]
    },
    {
     "name": "stdout",
     "output_type": "stream",
     "text": [
      "'Luxembourg'"
     ]
    },
    {
     "name": "stdout",
     "output_type": "stream",
     "text": [
      "]"
     ]
    },
    {
     "name": "stdout",
     "output_type": "stream",
     "text": [
      ",\n",
      " "
     ]
    },
    {
     "name": "stdout",
     "output_type": "stream",
     "text": [
      "9"
     ]
    },
    {
     "name": "stdout",
     "output_type": "stream",
     "text": [
      ": "
     ]
    },
    {
     "name": "stdout",
     "output_type": "stream",
     "text": [
      "["
     ]
    },
    {
     "name": "stdout",
     "output_type": "stream",
     "text": [
      "'Germany'"
     ]
    },
    {
     "name": "stdout",
     "output_type": "stream",
     "text": [
      ", "
     ]
    },
    {
     "name": "stdout",
     "output_type": "stream",
     "text": [
      "'Czech Republic'"
     ]
    },
    {
     "name": "stdout",
     "output_type": "stream",
     "text": [
      ", "
     ]
    },
    {
     "name": "stdout",
     "output_type": "stream",
     "text": [
      "'Qatar'"
     ]
    },
    {
     "name": "stdout",
     "output_type": "stream",
     "text": [
      ", "
     ]
    },
    {
     "name": "stdout",
     "output_type": "stream",
     "text": [
      "'Armenia'"
     ]
    },
    {
     "name": "stdout",
     "output_type": "stream",
     "text": [
      ", "
     ]
    },
    {
     "name": "stdout",
     "output_type": "stream",
     "text": [
      "'Belarus'"
     ]
    },
    {
     "name": "stdout",
     "output_type": "stream",
     "text": [
      ", "
     ]
    },
    {
     "name": "stdout",
     "output_type": "stream",
     "text": [
      "'Mauritania'"
     ]
    },
    {
     "name": "stdout",
     "output_type": "stream",
     "text": [
      ",\n",
      "     "
     ]
    },
    {
     "name": "stdout",
     "output_type": "stream",
     "text": [
      "'Cape Verde'"
     ]
    },
    {
     "name": "stdout",
     "output_type": "stream",
     "text": [
      ", "
     ]
    },
    {
     "name": "stdout",
     "output_type": "stream",
     "text": [
      "'El Salvador'"
     ]
    },
    {
     "name": "stdout",
     "output_type": "stream",
     "text": [
      ", "
     ]
    },
    {
     "name": "stdout",
     "output_type": "stream",
     "text": [
      "'Azerbaijan'"
     ]
    },
    {
     "name": "stdout",
     "output_type": "stream",
     "text": [
      ", "
     ]
    },
    {
     "name": "stdout",
     "output_type": "stream",
     "text": [
      "'Ukraine'"
     ]
    },
    {
     "name": "stdout",
     "output_type": "stream",
     "text": [
      ", "
     ]
    },
    {
     "name": "stdout",
     "output_type": "stream",
     "text": [
      "'Georgia'"
     ]
    },
    {
     "name": "stdout",
     "output_type": "stream",
     "text": [
      ",\n",
      "     "
     ]
    },
    {
     "name": "stdout",
     "output_type": "stream",
     "text": [
      "'Singapore'"
     ]
    },
    {
     "name": "stdout",
     "output_type": "stream",
     "text": [
      ", "
     ]
    },
    {
     "name": "stdout",
     "output_type": "stream",
     "text": [
      "'Iraq'"
     ]
    },
    {
     "name": "stdout",
     "output_type": "stream",
     "text": [
      ", "
     ]
    },
    {
     "name": "stdout",
     "output_type": "stream",
     "text": [
      "'Chile'"
     ]
    },
    {
     "name": "stdout",
     "output_type": "stream",
     "text": [
      ", "
     ]
    },
    {
     "name": "stdout",
     "output_type": "stream",
     "text": [
      "'Austria'"
     ]
    },
    {
     "name": "stdout",
     "output_type": "stream",
     "text": [
      ", "
     ]
    },
    {
     "name": "stdout",
     "output_type": "stream",
     "text": [
      "'Bosnia and Herzegovina'"
     ]
    },
    {
     "name": "stdout",
     "output_type": "stream",
     "text": [
      ",\n",
      "     "
     ]
    },
    {
     "name": "stdout",
     "output_type": "stream",
     "text": [
      "'Liberia'"
     ]
    },
    {
     "name": "stdout",
     "output_type": "stream",
     "text": [
      ", "
     ]
    },
    {
     "name": "stdout",
     "output_type": "stream",
     "text": [
      "'Finland'"
     ]
    },
    {
     "name": "stdout",
     "output_type": "stream",
     "text": [
      ", "
     ]
    },
    {
     "name": "stdout",
     "output_type": "stream",
     "text": [
      "'Sierra Leone'"
     ]
    },
    {
     "name": "stdout",
     "output_type": "stream",
     "text": [
      ", "
     ]
    },
    {
     "name": "stdout",
     "output_type": "stream",
     "text": [
      "'Swaziland'"
     ]
    },
    {
     "name": "stdout",
     "output_type": "stream",
     "text": [
      ", "
     ]
    },
    {
     "name": "stdout",
     "output_type": "stream",
     "text": [
      "'Romania'"
     ]
    },
    {
     "name": "stdout",
     "output_type": "stream",
     "text": [
      ", "
     ]
    },
    {
     "name": "stdout",
     "output_type": "stream",
     "text": [
      "'Benin'"
     ]
    },
    {
     "name": "stdout",
     "output_type": "stream",
     "text": [
      ",\n",
      "     "
     ]
    },
    {
     "name": "stdout",
     "output_type": "stream",
     "text": [
      "'Uzbekistan'"
     ]
    },
    {
     "name": "stdout",
     "output_type": "stream",
     "text": [
      ", "
     ]
    },
    {
     "name": "stdout",
     "output_type": "stream",
     "text": [
      "'Somalia'"
     ]
    },
    {
     "name": "stdout",
     "output_type": "stream",
     "text": [
      ", "
     ]
    },
    {
     "name": "stdout",
     "output_type": "stream",
     "text": [
      "'Korea, South'"
     ]
    },
    {
     "name": "stdout",
     "output_type": "stream",
     "text": [
      ", "
     ]
    },
    {
     "name": "stdout",
     "output_type": "stream",
     "text": [
      "'Andorra'"
     ]
    },
    {
     "name": "stdout",
     "output_type": "stream",
     "text": [
      ", "
     ]
    },
    {
     "name": "stdout",
     "output_type": "stream",
     "text": [
      "'China'"
     ]
    },
    {
     "name": "stdout",
     "output_type": "stream",
     "text": [
      "]"
     ]
    },
    {
     "name": "stdout",
     "output_type": "stream",
     "text": [
      ",\n",
      " "
     ]
    },
    {
     "name": "stdout",
     "output_type": "stream",
     "text": [
      "10"
     ]
    },
    {
     "name": "stdout",
     "output_type": "stream",
     "text": [
      ": "
     ]
    },
    {
     "name": "stdout",
     "output_type": "stream",
     "text": [
      "["
     ]
    },
    {
     "name": "stdout",
     "output_type": "stream",
     "text": [
      "'Senegal'"
     ]
    },
    {
     "name": "stdout",
     "output_type": "stream",
     "text": [
      ", "
     ]
    },
    {
     "name": "stdout",
     "output_type": "stream",
     "text": [
      "'Switzerland'"
     ]
    },
    {
     "name": "stdout",
     "output_type": "stream",
     "text": [
      ", "
     ]
    },
    {
     "name": "stdout",
     "output_type": "stream",
     "text": [
      "'Albania'"
     ]
    },
    {
     "name": "stdout",
     "output_type": "stream",
     "text": [
      ", "
     ]
    },
    {
     "name": "stdout",
     "output_type": "stream",
     "text": [
      "'Panama'"
     ]
    },
    {
     "name": "stdout",
     "output_type": "stream",
     "text": [
      ", "
     ]
    },
    {
     "name": "stdout",
     "output_type": "stream",
     "text": [
      "'Saudi Arabia'"
     ]
    },
    {
     "name": "stdout",
     "output_type": "stream",
     "text": [
      ", "
     ]
    },
    {
     "name": "stdout",
     "output_type": "stream",
     "text": [
      "'Serbia'"
     ]
    },
    {
     "name": "stdout",
     "output_type": "stream",
     "text": [
      ",\n",
      "      "
     ]
    },
    {
     "name": "stdout",
     "output_type": "stream",
     "text": [
      "'Egypt'"
     ]
    },
    {
     "name": "stdout",
     "output_type": "stream",
     "text": [
      ", "
     ]
    },
    {
     "name": "stdout",
     "output_type": "stream",
     "text": [
      "'Indonesia'"
     ]
    },
    {
     "name": "stdout",
     "output_type": "stream",
     "text": [
      ", "
     ]
    },
    {
     "name": "stdout",
     "output_type": "stream",
     "text": [
      "'Ecuador'"
     ]
    },
    {
     "name": "stdout",
     "output_type": "stream",
     "text": [
      ", "
     ]
    },
    {
     "name": "stdout",
     "output_type": "stream",
     "text": [
      "'Cuba'"
     ]
    },
    {
     "name": "stdout",
     "output_type": "stream",
     "text": [
      ", "
     ]
    },
    {
     "name": "stdout",
     "output_type": "stream",
     "text": [
      "'Lithuania'"
     ]
    },
    {
     "name": "stdout",
     "output_type": "stream",
     "text": [
      ", "
     ]
    },
    {
     "name": "stdout",
     "output_type": "stream",
     "text": [
      "'Pakistan'"
     ]
    },
    {
     "name": "stdout",
     "output_type": "stream",
     "text": [
      ", "
     ]
    },
    {
     "name": "stdout",
     "output_type": "stream",
     "text": [
      "'Mali'"
     ]
    },
    {
     "name": "stdout",
     "output_type": "stream",
     "text": [
      ",\n",
      "      "
     ]
    },
    {
     "name": "stdout",
     "output_type": "stream",
     "text": [
      "'Latvia'"
     ]
    },
    {
     "name": "stdout",
     "output_type": "stream",
     "text": [
      ", "
     ]
    },
    {
     "name": "stdout",
     "output_type": "stream",
     "text": [
      "'Togo'"
     ]
    },
    {
     "name": "stdout",
     "output_type": "stream",
     "text": [
      ", "
     ]
    },
    {
     "name": "stdout",
     "output_type": "stream",
     "text": [
      "'Poland'"
     ]
    },
    {
     "name": "stdout",
     "output_type": "stream",
     "text": [
      ", "
     ]
    },
    {
     "name": "stdout",
     "output_type": "stream",
     "text": [
      "'Malaysia'"
     ]
    },
    {
     "name": "stdout",
     "output_type": "stream",
     "text": [
      ", "
     ]
    },
    {
     "name": "stdout",
     "output_type": "stream",
     "text": [
      "'Honduras'"
     ]
    },
    {
     "name": "stdout",
     "output_type": "stream",
     "text": [
      ", "
     ]
    },
    {
     "name": "stdout",
     "output_type": "stream",
     "text": [
      "'Bulgaria'"
     ]
    },
    {
     "name": "stdout",
     "output_type": "stream",
     "text": [
      ", "
     ]
    },
    {
     "name": "stdout",
     "output_type": "stream",
     "text": [
      "'Gabon'"
     ]
    },
    {
     "name": "stdout",
     "output_type": "stream",
     "text": [
      ",\n",
      "      "
     ]
    },
    {
     "name": "stdout",
     "output_type": "stream",
     "text": [
      "'Macedonia'"
     ]
    },
    {
     "name": "stdout",
     "output_type": "stream",
     "text": [
      ", "
     ]
    },
    {
     "name": "stdout",
     "output_type": "stream",
     "text": [
      "'Belgium'"
     ]
    },
    {
     "name": "stdout",
     "output_type": "stream",
     "text": [
      ", "
     ]
    },
    {
     "name": "stdout",
     "output_type": "stream",
     "text": [
      "'Canada'"
     ]
    },
    {
     "name": "stdout",
     "output_type": "stream",
     "text": [
      "]"
     ]
    },
    {
     "name": "stdout",
     "output_type": "stream",
     "text": [
      ",\n",
      " "
     ]
    },
    {
     "name": "stdout",
     "output_type": "stream",
     "text": [
      "11"
     ]
    },
    {
     "name": "stdout",
     "output_type": "stream",
     "text": [
      ": "
     ]
    },
    {
     "name": "stdout",
     "output_type": "stream",
     "text": [
      "["
     ]
    },
    {
     "name": "stdout",
     "output_type": "stream",
     "text": [
      "'Mexico'"
     ]
    },
    {
     "name": "stdout",
     "output_type": "stream",
     "text": [
      ", "
     ]
    },
    {
     "name": "stdout",
     "output_type": "stream",
     "text": [
      "'Italy'"
     ]
    },
    {
     "name": "stdout",
     "output_type": "stream",
     "text": [
      ", "
     ]
    },
    {
     "name": "stdout",
     "output_type": "stream",
     "text": [
      "'Portugal'"
     ]
    },
    {
     "name": "stdout",
     "output_type": "stream",
     "text": [
      ", "
     ]
    },
    {
     "name": "stdout",
     "output_type": "stream",
     "text": [
      "'Turkey'"
     ]
    },
    {
     "name": "stdout",
     "output_type": "stream",
     "text": [
      ", "
     ]
    },
    {
     "name": "stdout",
     "output_type": "stream",
     "text": [
      "'Dominican Republic'"
     ]
    },
    {
     "name": "stdout",
     "output_type": "stream",
     "text": [
      ",\n",
      "      "
     ]
    },
    {
     "name": "stdout",
     "output_type": "stream",
     "text": [
      "'Burkina Faso'"
     ]
    },
    {
     "name": "stdout",
     "output_type": "stream",
     "text": [
      ", "
     ]
    },
    {
     "name": "stdout",
     "output_type": "stream",
     "text": [
      "'Bangladesh'"
     ]
    },
    {
     "name": "stdout",
     "output_type": "stream",
     "text": [
      ", "
     ]
    },
    {
     "name": "stdout",
     "output_type": "stream",
     "text": [
      "'Iran'"
     ]
    },
    {
     "name": "stdout",
     "output_type": "stream",
     "text": [
      ", "
     ]
    },
    {
     "name": "stdout",
     "output_type": "stream",
     "text": [
      "'Estonia'"
     ]
    },
    {
     "name": "stdout",
     "output_type": "stream",
     "text": [
      ", "
     ]
    },
    {
     "name": "stdout",
     "output_type": "stream",
     "text": [
      "'Kuwait'"
     ]
    },
    {
     "name": "stdout",
     "output_type": "stream",
     "text": [
      ", "
     ]
    },
    {
     "name": "stdout",
     "output_type": "stream",
     "text": [
      "'Guinea'"
     ]
    },
    {
     "name": "stdout",
     "output_type": "stream",
     "text": [
      ",\n",
      "      "
     ]
    },
    {
     "name": "stdout",
     "output_type": "stream",
     "text": [
      "'Moldova'"
     ]
    },
    {
     "name": "stdout",
     "output_type": "stream",
     "text": [
      ", "
     ]
    },
    {
     "name": "stdout",
     "output_type": "stream",
     "text": [
      "'Denmark'"
     ]
    },
    {
     "name": "stdout",
     "output_type": "stream",
     "text": [
      ", "
     ]
    },
    {
     "name": "stdout",
     "output_type": "stream",
     "text": [
      "'Nigeria'"
     ]
    },
    {
     "name": "stdout",
     "output_type": "stream",
     "text": [
      ", "
     ]
    },
    {
     "name": "stdout",
     "output_type": "stream",
     "text": [
      "'Algeria'"
     ]
    },
    {
     "name": "stdout",
     "output_type": "stream",
     "text": [
      ", "
     ]
    },
    {
     "name": "stdout",
     "output_type": "stream",
     "text": [
      "'Bolivia'"
     ]
    },
    {
     "name": "stdout",
     "output_type": "stream",
     "text": [
      ", "
     ]
    },
    {
     "name": "stdout",
     "output_type": "stream",
     "text": [
      "'Peru'"
     ]
    },
    {
     "name": "stdout",
     "output_type": "stream",
     "text": [
      ", "
     ]
    },
    {
     "name": "stdout",
     "output_type": "stream",
     "text": [
      "'Brazil'"
     ]
    },
    {
     "name": "stdout",
     "output_type": "stream",
     "text": [
      "]"
     ]
    },
    {
     "name": "stdout",
     "output_type": "stream",
     "text": [
      ",\n",
      " "
     ]
    },
    {
     "name": "stdout",
     "output_type": "stream",
     "text": [
      "12"
     ]
    },
    {
     "name": "stdout",
     "output_type": "stream",
     "text": [
      ": "
     ]
    },
    {
     "name": "stdout",
     "output_type": "stream",
     "text": [
      "['United States', 'France', 'Bahrain', 'United Arab Emirates', 'Hungary']"
     ]
    },
    {
     "name": "stdout",
     "output_type": "stream",
     "text": [
      ",\n",
      " "
     ]
    },
    {
     "name": "stdout",
     "output_type": "stream",
     "text": [
      "13"
     ]
    },
    {
     "name": "stdout",
     "output_type": "stream",
     "text": [
      ": "
     ]
    },
    {
     "name": "stdout",
     "output_type": "stream",
     "text": [
      "['Russia']"
     ]
    },
    {
     "name": "stdout",
     "output_type": "stream",
     "text": [
      "}"
     ]
    },
    {
     "name": "stdout",
     "output_type": "stream",
     "text": [
      "\n"
     ]
    }
   ],
   "source": [
    "# Show the number of phases of all countries\n",
    "analyser.trend()\n",
    "pprint(analyser.phase_len(), compact=True)"
   ]
  },
  {
   "cell_type": "code",
   "execution_count": 8,
   "metadata": {
    "collapsed": false
   },
   "outputs": [
    {
     "data": {
      "text/plain": [
       "24"
      ]
     },
     "execution_count": 8,
     "metadata": {},
     "output_type": "execute_result"
    }
   ],
   "source": [
    "# Set phases with S-R trend analysis\n",
    "analyser.trend(min_len=11)\n",
    "# The number of countries\n",
    "len(analyser.countries)"
   ]
  },
  {
   "cell_type": "code",
   "execution_count": 9,
   "metadata": {
    "collapsed": false,
    "tags": []
   },
   "outputs": [
    {
     "name": "stdout",
     "output_type": "stream",
     "text": [
      "{"
     ]
    },
    {
     "name": "stdout",
     "output_type": "stream",
     "text": [
      "11"
     ]
    },
    {
     "name": "stdout",
     "output_type": "stream",
     "text": [
      ": "
     ]
    },
    {
     "name": "stdout",
     "output_type": "stream",
     "text": [
      "["
     ]
    },
    {
     "name": "stdout",
     "output_type": "stream",
     "text": [
      "'Mexico'"
     ]
    },
    {
     "name": "stdout",
     "output_type": "stream",
     "text": [
      ", "
     ]
    },
    {
     "name": "stdout",
     "output_type": "stream",
     "text": [
      "'Italy'"
     ]
    },
    {
     "name": "stdout",
     "output_type": "stream",
     "text": [
      ", "
     ]
    },
    {
     "name": "stdout",
     "output_type": "stream",
     "text": [
      "'Portugal'"
     ]
    },
    {
     "name": "stdout",
     "output_type": "stream",
     "text": [
      ", "
     ]
    },
    {
     "name": "stdout",
     "output_type": "stream",
     "text": [
      "'Turkey'"
     ]
    },
    {
     "name": "stdout",
     "output_type": "stream",
     "text": [
      ", "
     ]
    },
    {
     "name": "stdout",
     "output_type": "stream",
     "text": [
      "'Dominican Republic'"
     ]
    },
    {
     "name": "stdout",
     "output_type": "stream",
     "text": [
      ",\n",
      "      "
     ]
    },
    {
     "name": "stdout",
     "output_type": "stream",
     "text": [
      "'Burkina Faso'"
     ]
    },
    {
     "name": "stdout",
     "output_type": "stream",
     "text": [
      ", "
     ]
    },
    {
     "name": "stdout",
     "output_type": "stream",
     "text": [
      "'Bangladesh'"
     ]
    },
    {
     "name": "stdout",
     "output_type": "stream",
     "text": [
      ", "
     ]
    },
    {
     "name": "stdout",
     "output_type": "stream",
     "text": [
      "'Iran'"
     ]
    },
    {
     "name": "stdout",
     "output_type": "stream",
     "text": [
      ", "
     ]
    },
    {
     "name": "stdout",
     "output_type": "stream",
     "text": [
      "'Estonia'"
     ]
    },
    {
     "name": "stdout",
     "output_type": "stream",
     "text": [
      ", "
     ]
    },
    {
     "name": "stdout",
     "output_type": "stream",
     "text": [
      "'Kuwait'"
     ]
    },
    {
     "name": "stdout",
     "output_type": "stream",
     "text": [
      ", "
     ]
    },
    {
     "name": "stdout",
     "output_type": "stream",
     "text": [
      "'Guinea'"
     ]
    },
    {
     "name": "stdout",
     "output_type": "stream",
     "text": [
      ",\n",
      "      "
     ]
    },
    {
     "name": "stdout",
     "output_type": "stream",
     "text": [
      "'Moldova'"
     ]
    },
    {
     "name": "stdout",
     "output_type": "stream",
     "text": [
      ", "
     ]
    },
    {
     "name": "stdout",
     "output_type": "stream",
     "text": [
      "'Denmark'"
     ]
    },
    {
     "name": "stdout",
     "output_type": "stream",
     "text": [
      ", "
     ]
    },
    {
     "name": "stdout",
     "output_type": "stream",
     "text": [
      "'Nigeria'"
     ]
    },
    {
     "name": "stdout",
     "output_type": "stream",
     "text": [
      ", "
     ]
    },
    {
     "name": "stdout",
     "output_type": "stream",
     "text": [
      "'Algeria'"
     ]
    },
    {
     "name": "stdout",
     "output_type": "stream",
     "text": [
      ", "
     ]
    },
    {
     "name": "stdout",
     "output_type": "stream",
     "text": [
      "'Bolivia'"
     ]
    },
    {
     "name": "stdout",
     "output_type": "stream",
     "text": [
      ", "
     ]
    },
    {
     "name": "stdout",
     "output_type": "stream",
     "text": [
      "'Peru'"
     ]
    },
    {
     "name": "stdout",
     "output_type": "stream",
     "text": [
      ", "
     ]
    },
    {
     "name": "stdout",
     "output_type": "stream",
     "text": [
      "'Brazil'"
     ]
    },
    {
     "name": "stdout",
     "output_type": "stream",
     "text": [
      "]"
     ]
    },
    {
     "name": "stdout",
     "output_type": "stream",
     "text": [
      ",\n",
      " "
     ]
    },
    {
     "name": "stdout",
     "output_type": "stream",
     "text": [
      "12"
     ]
    },
    {
     "name": "stdout",
     "output_type": "stream",
     "text": [
      ": "
     ]
    },
    {
     "name": "stdout",
     "output_type": "stream",
     "text": [
      "['United States', 'France', 'Bahrain', 'United Arab Emirates', 'Hungary']"
     ]
    },
    {
     "name": "stdout",
     "output_type": "stream",
     "text": [
      ",\n",
      " "
     ]
    },
    {
     "name": "stdout",
     "output_type": "stream",
     "text": [
      "13"
     ]
    },
    {
     "name": "stdout",
     "output_type": "stream",
     "text": [
      ": "
     ]
    },
    {
     "name": "stdout",
     "output_type": "stream",
     "text": [
      "['Russia']"
     ]
    },
    {
     "name": "stdout",
     "output_type": "stream",
     "text": [
      "}"
     ]
    },
    {
     "name": "stdout",
     "output_type": "stream",
     "text": [
      "\n"
     ]
    }
   ],
   "source": [
    "phase_len_dict = analyser.phase_len()\n",
    "pprint(phase_len_dict, compact=True)"
   ]
  },
  {
   "cell_type": "code",
   "execution_count": 10,
   "metadata": {
    "collapsed": false,
    "tags": []
   },
   "outputs": [
    {
     "data": {
      "text/html": [
       "<div>\n",
       "<style scoped>\n",
       "    .dataframe tbody tr th:only-of-type {\n",
       "        vertical-align: middle;\n",
       "    }\n",
       "\n",
       "    .dataframe tbody tr th {\n",
       "        vertical-align: top;\n",
       "    }\n",
       "\n",
       "    .dataframe thead th {\n",
       "        text-align: right;\n",
       "    }\n",
       "</style>\n",
       "<table border=\"1\" class=\"dataframe\">\n",
       "  <thead>\n",
       "    <tr style=\"text-align: right;\">\n",
       "      <th></th>\n",
       "      <th></th>\n",
       "      <th>Type</th>\n",
       "      <th>Start</th>\n",
       "      <th>End</th>\n",
       "      <th>Population</th>\n",
       "    </tr>\n",
       "    <tr>\n",
       "      <th>Country</th>\n",
       "      <th>Phase</th>\n",
       "      <th></th>\n",
       "      <th></th>\n",
       "      <th></th>\n",
       "      <th></th>\n",
       "    </tr>\n",
       "  </thead>\n",
       "  <tbody>\n",
       "    <tr>\n",
       "      <th rowspan=\"13\" valign=\"top\">Russia</th>\n",
       "      <th>0th</th>\n",
       "      <td>Past</td>\n",
       "      <td>12Feb2020</td>\n",
       "      <td>06May2020</td>\n",
       "      <td>330457362</td>\n",
       "    </tr>\n",
       "    <tr>\n",
       "      <th>1st</th>\n",
       "      <td>Past</td>\n",
       "      <td>07May2020</td>\n",
       "      <td>15May2020</td>\n",
       "      <td>330457362</td>\n",
       "    </tr>\n",
       "    <tr>\n",
       "      <th>2nd</th>\n",
       "      <td>Past</td>\n",
       "      <td>16May2020</td>\n",
       "      <td>23May2020</td>\n",
       "      <td>330457362</td>\n",
       "    </tr>\n",
       "    <tr>\n",
       "      <th>3rd</th>\n",
       "      <td>Past</td>\n",
       "      <td>24May2020</td>\n",
       "      <td>01Jun2020</td>\n",
       "      <td>330457362</td>\n",
       "    </tr>\n",
       "    <tr>\n",
       "      <th>4th</th>\n",
       "      <td>Past</td>\n",
       "      <td>02Jun2020</td>\n",
       "      <td>11Jun2020</td>\n",
       "      <td>330457362</td>\n",
       "    </tr>\n",
       "    <tr>\n",
       "      <th>5th</th>\n",
       "      <td>Past</td>\n",
       "      <td>12Jun2020</td>\n",
       "      <td>20Jun2020</td>\n",
       "      <td>330457362</td>\n",
       "    </tr>\n",
       "    <tr>\n",
       "      <th>6th</th>\n",
       "      <td>Past</td>\n",
       "      <td>21Jun2020</td>\n",
       "      <td>30Jun2020</td>\n",
       "      <td>330457362</td>\n",
       "    </tr>\n",
       "    <tr>\n",
       "      <th>7th</th>\n",
       "      <td>Past</td>\n",
       "      <td>01Jul2020</td>\n",
       "      <td>11Jul2020</td>\n",
       "      <td>330457362</td>\n",
       "    </tr>\n",
       "    <tr>\n",
       "      <th>8th</th>\n",
       "      <td>Past</td>\n",
       "      <td>12Jul2020</td>\n",
       "      <td>24Jul2020</td>\n",
       "      <td>330457362</td>\n",
       "    </tr>\n",
       "    <tr>\n",
       "      <th>9th</th>\n",
       "      <td>Past</td>\n",
       "      <td>25Jul2020</td>\n",
       "      <td>07Aug2020</td>\n",
       "      <td>330457362</td>\n",
       "    </tr>\n",
       "    <tr>\n",
       "      <th>10th</th>\n",
       "      <td>Past</td>\n",
       "      <td>08Aug2020</td>\n",
       "      <td>21Aug2020</td>\n",
       "      <td>330457362</td>\n",
       "    </tr>\n",
       "    <tr>\n",
       "      <th>11th</th>\n",
       "      <td>Past</td>\n",
       "      <td>22Aug2020</td>\n",
       "      <td>05Sep2020</td>\n",
       "      <td>330457362</td>\n",
       "    </tr>\n",
       "    <tr>\n",
       "      <th>12th</th>\n",
       "      <td>Past</td>\n",
       "      <td>06Sep2020</td>\n",
       "      <td>20Sep2020</td>\n",
       "      <td>330457362</td>\n",
       "    </tr>\n",
       "  </tbody>\n",
       "</table>\n",
       "</div>"
      ],
      "text/plain": [
       "               Type      Start        End  Population\n",
       "Country Phase                                        \n",
       "Russia  0th    Past  12Feb2020  06May2020   330457362\n",
       "        1st    Past  07May2020  15May2020   330457362\n",
       "        2nd    Past  16May2020  23May2020   330457362\n",
       "        3rd    Past  24May2020  01Jun2020   330457362\n",
       "        4th    Past  02Jun2020  11Jun2020   330457362\n",
       "        5th    Past  12Jun2020  20Jun2020   330457362\n",
       "        6th    Past  21Jun2020  30Jun2020   330457362\n",
       "        7th    Past  01Jul2020  11Jul2020   330457362\n",
       "        8th    Past  12Jul2020  24Jul2020   330457362\n",
       "        9th    Past  25Jul2020  07Aug2020   330457362\n",
       "        10th   Past  08Aug2020  21Aug2020   330457362\n",
       "        11th   Past  22Aug2020  05Sep2020   330457362\n",
       "        12th   Past  06Sep2020  20Sep2020   330457362"
      ]
     },
     "execution_count": 10,
     "metadata": {},
     "output_type": "execute_result"
    }
   ],
   "source": [
    "# Here, only show the countries which have the most phases\n",
    "countries_show = max(phase_len_dict.items(), key=lambda x: x[0])[1]\n",
    "# Show summary\n",
    "analyser.summary(countries=countries_show)"
   ]
  },
  {
   "cell_type": "markdown",
   "metadata": {},
   "source": [
    "## Parameter estimation\n",
    "we will estimate the parameter values with SIR-derived ODE models in each country."
   ]
  },
  {
   "cell_type": "code",
   "execution_count": 11,
   "metadata": {
    "collapsed": false,
    "tags": []
   },
   "outputs": [
    {
     "name": "stdout",
     "output_type": "stream",
     "text": [
      "\n",
      "<SIR-F model: parameter estimation>"
     ]
    },
    {
     "name": "stdout",
     "output_type": "stream",
     "text": [
      "\n"
     ]
    },
    {
     "name": "stdout",
     "output_type": "stream",
     "text": [
      "Running optimization with 4 CPUs..."
     ]
    },
    {
     "name": "stdout",
     "output_type": "stream",
     "text": [
      "\n"
     ]
    },
    {
     "name": "stdout",
     "output_type": "stream",
     "text": [
      "\tITA,  3rd phase (09Apr2020 - 18Apr2020): finished  259 trials in 0 min  5 sec"
     ]
    },
    {
     "name": "stdout",
     "output_type": "stream",
     "text": [
      "\n"
     ]
    },
    {
     "name": "stdout",
     "output_type": "stream",
     "text": [
      "\tDOM,  1st phase (10May2020 - 04Jun2020): finished  253 trials in 0 min  5 sec"
     ]
    },
    {
     "name": "stdout",
     "output_type": "stream",
     "text": [
      "\n"
     ]
    },
    {
     "name": "stdout",
     "output_type": "stream",
     "text": [
      "\tTUR,  0th phase (24Mar2020 - 16Apr2020): finished 2007 trials in 1 min  0 sec"
     ]
    },
    {
     "name": "stdout",
     "output_type": "stream",
     "text": [
      "\n"
     ]
    },
    {
     "name": "stdout",
     "output_type": "stream",
     "text": [
      "\tPRT,  8th phase (11Aug2020 - 27Aug2020): finished 1994 trials in 1 min  0 sec"
     ]
    },
    {
     "name": "stdout",
     "output_type": "stream",
     "text": [
      "\n"
     ]
    },
    {
     "name": "stdout",
     "output_type": "stream",
     "text": [
      "\tUSA,  0th phase (09Feb2020 - 18Apr2020): finished 1940 trials in 1 min  0 sec"
     ]
    },
    {
     "name": "stdout",
     "output_type": "stream",
     "text": [
      "\n"
     ]
    },
    {
     "name": "stdout",
     "output_type": "stream",
     "text": [
      "\tEST,  8th phase (22Aug2020 - 03Sep2020): finished  483 trials in 0 min 10 sec"
     ]
    },
    {
     "name": "stdout",
     "output_type": "stream",
     "text": [
      "\n"
     ]
    },
    {
     "name": "stdout",
     "output_type": "stream",
     "text": [
      "\tMEX,  2nd phase (11Jun2020 - 23Jun2020): finished 2007 trials in 1 min  0 sec"
     ]
    },
    {
     "name": "stdout",
     "output_type": "stream",
     "text": [
      "\n"
     ]
    },
    {
     "name": "stdout",
     "output_type": "stream",
     "text": [
      "\tPER,  5th phase (18Jul2020 - 30Jul2020): finished 2006 trials in 1 min  0 sec"
     ]
    },
    {
     "name": "stdout",
     "output_type": "stream",
     "text": [
      "\n"
     ]
    },
    {
     "name": "stdout",
     "output_type": "stream",
     "text": [
      "\tGIN,  3rd phase (25May2020 - 07Jun2020): finished 1998 trials in 1 min  0 sec"
     ]
    },
    {
     "name": "stdout",
     "output_type": "stream",
     "text": [
      "\n"
     ]
    },
    {
     "name": "stdout",
     "output_type": "stream",
     "text": [
      "\tGIN,  9th phase (18Aug2020 - 02Sep2020): finished 2012 trials in 1 min  0 sec"
     ]
    },
    {
     "name": "stdout",
     "output_type": "stream",
     "text": [
      "\n"
     ]
    },
    {
     "name": "stdout",
     "output_type": "stream",
     "text": [
      "\tDNK, 10th phase (09Sep2020 - 20Sep2020): finished 2003 trials in 1 min  0 sec"
     ]
    },
    {
     "name": "stdout",
     "output_type": "stream",
     "text": [
      "\n"
     ]
    },
    {
     "name": "stdout",
     "output_type": "stream",
     "text": [
      "\tBRA,  9th phase (25Aug2020 - 03Sep2020): finished  481 trials in 0 min 10 sec"
     ]
    },
    {
     "name": "stdout",
     "output_type": "stream",
     "text": [
      "\n"
     ]
    },
    {
     "name": "stdout",
     "output_type": "stream",
     "text": [
      "\tARE,  5th phase (19Jun2020 - 01Jul2020): finished 1038 trials in 0 min 25 sec"
     ]
    },
    {
     "name": "stdout",
     "output_type": "stream",
     "text": [
      "\n"
     ]
    },
    {
     "name": "stdout",
     "output_type": "stream",
     "text": [
      "\tDOM,  6th phase (25Jul2020 - 01Aug2020): finished 1205 trials in 0 min 30 sec"
     ]
    },
    {
     "name": "stdout",
     "output_type": "stream",
     "text": [
      "\n"
     ]
    },
    {
     "name": "stdout",
     "output_type": "stream",
     "text": [
      "\tBFA,  7th phase (23Jul2020 - 12Aug2020): finished 2010 trials in 1 min  0 sec"
     ]
    },
    {
     "name": "stdout",
     "output_type": "stream",
     "text": [
      "\n"
     ]
    },
    {
     "name": "stdout",
     "output_type": "stream",
     "text": [
      "\tHUN,  9th phase (13Aug2020 - 25Aug2020): finished  254 trials in 0 min  5 sec"
     ]
    },
    {
     "name": "stdout",
     "output_type": "stream",
     "text": [
      "\n"
     ]
    },
    {
     "name": "stdout",
     "output_type": "stream",
     "text": [
      "\tBOL,  7th phase (10Aug2020 - 17Aug2020): finished  257 trials in 0 min  5 sec"
     ]
    },
    {
     "name": "stdout",
     "output_type": "stream",
     "text": [
      "\n"
     ]
    },
    {
     "name": "stdout",
     "output_type": "stream",
     "text": [
      "\tFRA,  4th phase (22Apr2020 - 04May2020): finished 2004 trials in 1 min  0 sec"
     ]
    },
    {
     "name": "stdout",
     "output_type": "stream",
     "text": [
      "\n"
     ]
    },
    {
     "name": "stdout",
     "output_type": "stream",
     "text": [
      "\tTUR,  3rd phase (09May2020 - 22May2020): finished 1991 trials in 1 min  0 sec"
     ]
    },
    {
     "name": "stdout",
     "output_type": "stream",
     "text": [
      "\n"
     ]
    },
    {
     "name": "stdout",
     "output_type": "stream",
     "text": [
      "\tKWT,  1st phase (13May2020 - 27May2020): finished 2001 trials in 1 min  0 sec"
     ]
    },
    {
     "name": "stdout",
     "output_type": "stream",
     "text": [
      "\n"
     ]
    },
    {
     "name": "stdout",
     "output_type": "stream",
     "text": [
      "\tBGD,  7th phase (30Jul2020 - 12Aug2020): finished 1204 trials in 0 min 30 sec"
     ]
    },
    {
     "name": "stdout",
     "output_type": "stream",
     "text": [
      "\n"
     ]
    },
    {
     "name": "stdout",
     "output_type": "stream",
     "text": [
      "\tUSA,  8th phase (05Aug2020 - 14Aug2020): finished  480 trials in 0 min 10 sec"
     ]
    },
    {
     "name": "stdout",
     "output_type": "stream",
     "text": [
      "\n"
     ]
    },
    {
     "name": "stdout",
     "output_type": "stream",
     "text": [
      "\tTUR, 10th phase (06Sep2020 - 20Sep2020): finished  256 trials in 0 min  5 sec"
     ]
    },
    {
     "name": "stdout",
     "output_type": "stream",
     "text": [
      "\n"
     ]
    },
    {
     "name": "stdout",
     "output_type": "stream",
     "text": [
      "\tEST,  7th phase (02Aug2020 - 21Aug2020): finished 2013 trials in 1 min  0 sec"
     ]
    },
    {
     "name": "stdout",
     "output_type": "stream",
     "text": [
      "\n"
     ]
    },
    {
     "name": "stdout",
     "output_type": "stream",
     "text": [
      "\tMDA,  2nd phase (09Jun2020 - 22Jun2020): finished 2010 trials in 1 min  0 sec"
     ]
    },
    {
     "name": "stdout",
     "output_type": "stream",
     "text": [
      "\n"
     ]
    },
    {
     "name": "stdout",
     "output_type": "stream",
     "text": [
      "\tBOL,  9th phase (26Aug2020 - 09Sep2020): finished 2016 trials in 1 min  0 sec"
     ]
    },
    {
     "name": "stdout",
     "output_type": "stream",
     "text": [
      "\n"
     ]
    },
    {
     "name": "stdout",
     "output_type": "stream",
     "text": [
      "\tEST,  0th phase (15Mar2020 - 07Apr2020): finished 1971 trials in 1 min  0 sec"
     ]
    },
    {
     "name": "stdout",
     "output_type": "stream",
     "text": [
      "\n"
     ]
    },
    {
     "name": "stdout",
     "output_type": "stream",
     "text": [
      "\tTUR,  6th phase (28Jun2020 - 14Jul2020): finished  450 trials in 0 min 10 sec"
     ]
    },
    {
     "name": "stdout",
     "output_type": "stream",
     "text": [
      "\n"
     ]
    },
    {
     "name": "stdout",
     "output_type": "stream",
     "text": [
      "\tBGD,  1st phase (27May2020 - 12Jun2020): finished 1963 trials in 1 min  0 sec"
     ]
    },
    {
     "name": "stdout",
     "output_type": "stream",
     "text": [
      "\n"
     ]
    },
    {
     "name": "stdout",
     "output_type": "stream",
     "text": [
      "\tIRN,  7th phase (16Jul2020 - 30Jul2020): finished 1970 trials in 1 min  0 sec"
     ]
    },
    {
     "name": "stdout",
     "output_type": "stream",
     "text": [
      "\n"
     ]
    },
    {
     "name": "stdout",
     "output_type": "stream",
     "text": [
      "\tDNK,  8th phase (15Aug2020 - 31Aug2020): finished 1965 trials in 1 min  0 sec"
     ]
    },
    {
     "name": "stdout",
     "output_type": "stream",
     "text": [
      "\n"
     ]
    },
    {
     "name": "stdout",
     "output_type": "stream",
     "text": [
      "\tBHR,  7th phase (26Jul2020 - 09Aug2020): finished  251 trials in 0 min  5 sec"
     ]
    },
    {
     "name": "stdout",
     "output_type": "stream",
     "text": [
      "\n"
     ]
    },
    {
     "name": "stdout",
     "output_type": "stream",
     "text": [
      "\tARE,  7th phase (12Jul2020 - 26Jul2020): finished  860 trials in 0 min 20 sec"
     ]
    },
    {
     "name": "stdout",
     "output_type": "stream",
     "text": [
      "\n"
     ]
    },
    {
     "name": "stdout",
     "output_type": "stream",
     "text": [
      "\tDZA,  6th phase (23Jul2020 - 05Aug2020): finished 1179 trials in 0 min 30 sec"
     ]
    },
    {
     "name": "stdout",
     "output_type": "stream",
     "text": [
      "\n"
     ]
    },
    {
     "name": "stdout",
     "output_type": "stream",
     "text": [
      "\tFRA, 11th phase (11Sep2020 - 20Sep2020): finished 1962 trials in 1 min  0 sec"
     ]
    },
    {
     "name": "stdout",
     "output_type": "stream",
     "text": [
      "\n"
     ]
    },
    {
     "name": "stdout",
     "output_type": "stream",
     "text": [
      "\tNGA,  1st phase (22May2020 - 08Jun2020): finished 1945 trials in 1 min  0 sec"
     ]
    },
    {
     "name": "stdout",
     "output_type": "stream",
     "text": [
      "\n"
     ]
    },
    {
     "name": "stdout",
     "output_type": "stream",
     "text": [
      "\tARE,  0th phase (12Feb2020 - 25Apr2020): finished 1891 trials in 1 min  0 sec"
     ]
    },
    {
     "name": "stdout",
     "output_type": "stream",
     "text": [
      "\n"
     ]
    },
    {
     "name": "stdout",
     "output_type": "stream",
     "text": [
      "\tMEX,  5th phase (17Jul2020 - 27Jul2020): finished 1953 trials in 1 min  0 sec"
     ]
    },
    {
     "name": "stdout",
     "output_type": "stream",
     "text": [
      "\n"
     ]
    },
    {
     "name": "stdout",
     "output_type": "stream",
     "text": [
      "\tDNK,  6th phase (15Jun2020 - 30Jul2020): finished 1889 trials in 1 min  0 sec"
     ]
    },
    {
     "name": "stdout",
     "output_type": "stream",
     "text": [
      "\n"
     ]
    },
    {
     "name": "stdout",
     "output_type": "stream",
     "text": [
      "\tBFA,  5th phase (21May2020 - 22Jun2020): finished 1903 trials in 1 min  0 sec"
     ]
    },
    {
     "name": "stdout",
     "output_type": "stream",
     "text": [
      "\n"
     ]
    },
    {
     "name": "stdout",
     "output_type": "stream",
     "text": [
      "\tBFA,  9th phase (24Aug2020 - 10Sep2020): finished 1923 trials in 1 min  0 sec"
     ]
    },
    {
     "name": "stdout",
     "output_type": "stream",
     "text": [
      "\n"
     ]
    },
    {
     "name": "stdout",
     "output_type": "stream",
     "text": [
      "\tGIN,  4th phase (08Jun2020 - 19Jun2020): finished 1926 trials in 1 min  0 sec"
     ]
    },
    {
     "name": "stdout",
     "output_type": "stream",
     "text": [
      "\n"
     ]
    },
    {
     "name": "stdout",
     "output_type": "stream",
     "text": [
      "\tPRT,  1st phase (29Apr2020 - 17May2020): finished 1925 trials in 1 min  0 sec"
     ]
    },
    {
     "name": "stdout",
     "output_type": "stream",
     "text": [
      "\n"
     ]
    },
    {
     "name": "stdout",
     "output_type": "stream",
     "text": [
      "\tBHR,  1st phase (08May2020 - 31May2020): finished 1926 trials in 1 min  0 sec"
     ]
    },
    {
     "name": "stdout",
     "output_type": "stream",
     "text": [
      "\n"
     ]
    },
    {
     "name": "stdout",
     "output_type": "stream",
     "text": [
      "\tNGA,  3rd phase (19Jun2020 - 26Jun2020): finished 1948 trials in 1 min  0 sec"
     ]
    },
    {
     "name": "stdout",
     "output_type": "stream",
     "text": [
      "\n"
     ]
    },
    {
     "name": "stdout",
     "output_type": "stream",
     "text": [
      "\tPRT, 10th phase (10Sep2020 - 20Sep2020): finished  826 trials in 0 min 20 sec"
     ]
    },
    {
     "name": "stdout",
     "output_type": "stream",
     "text": [
      "\n"
     ]
    },
    {
     "name": "stdout",
     "output_type": "stream",
     "text": [
      "\tNGA,  0th phase (18Mar2020 - 21May2020): finished 1893 trials in 1 min  0 sec"
     ]
    },
    {
     "name": "stdout",
     "output_type": "stream",
     "text": [
      "\n"
     ]
    },
    {
     "name": "stdout",
     "output_type": "stream",
     "text": [
      "\tUSA,  9th phase (15Aug2020 - 26Aug2020): finished  242 trials in 0 min  5 sec"
     ]
    },
    {
     "name": "stdout",
     "output_type": "stream",
     "text": [
      "\n"
     ]
    },
    {
     "name": "stdout",
     "output_type": "stream",
     "text": [
      "\tEST,  5th phase (26May2020 - 04Jun2020): finished  222 trials in 0 min  5 sec"
     ]
    },
    {
     "name": "stdout",
     "output_type": "stream",
     "text": [
      "\n"
     ]
    },
    {
     "name": "stdout",
     "output_type": "stream",
     "text": [
      "\tBGD, 10th phase (04Sep2020 - 20Sep2020): finished  649 trials in 0 min 15 sec"
     ]
    },
    {
     "name": "stdout",
     "output_type": "stream",
     "text": [
      "\n"
     ]
    },
    {
     "name": "stdout",
     "output_type": "stream",
     "text": [
      "\tBOL,  0th phase (01Apr2020 - 13Jun2020): finished 1876 trials in 1 min  0 sec"
     ]
    },
    {
     "name": "stdout",
     "output_type": "stream",
     "text": [
      "\n"
     ]
    },
    {
     "name": "stdout",
     "output_type": "stream",
     "text": [
      "\tARE,  3rd phase (21May2020 - 06Jun2020): finished 1926 trials in 1 min  0 sec"
     ]
    },
    {
     "name": "stdout",
     "output_type": "stream",
     "text": [
      "\n"
     ]
    },
    {
     "name": "stdout",
     "output_type": "stream",
     "text": [
      "\tKWT,  8th phase (10Aug2020 - 23Aug2020): finished 1146 trials in 0 min 30 sec"
     ]
    },
    {
     "name": "stdout",
     "output_type": "stream",
     "text": [
      "\n"
     ]
    },
    {
     "name": "stdout",
     "output_type": "stream",
     "text": [
      "\tDZA,  3rd phase (25Jun2020 - 06Jul2020): finished  458 trials in 0 min 10 sec"
     ]
    },
    {
     "name": "stdout",
     "output_type": "stream",
     "text": [
      "\n"
     ]
    },
    {
     "name": "stdout",
     "output_type": "stream",
     "text": [
      "\tITA, 10th phase (02Sep2020 - 20Sep2020): finished 1922 trials in 1 min  0 sec"
     ]
    },
    {
     "name": "stdout",
     "output_type": "stream",
     "text": [
      "\n"
     ]
    },
    {
     "name": "stdout",
     "output_type": "stream",
     "text": [
      "\tMDA,  6th phase (05Aug2020 - 16Aug2020): finished 1943 trials in 1 min  0 sec"
     ]
    },
    {
     "name": "stdout",
     "output_type": "stream",
     "text": [
      "\n"
     ]
    },
    {
     "name": "stdout",
     "output_type": "stream",
     "text": [
      "\tNGA, 10th phase (01Sep2020 - 20Sep2020): finished 1931 trials in 1 min  0 sec"
     ]
    },
    {
     "name": "stdout",
     "output_type": "stream",
     "text": [
      "\n"
     ]
    },
    {
     "name": "stdout",
     "output_type": "stream",
     "text": [
      "\tMEX,  9th phase (26Aug2020 - 06Sep2020): finished  241 trials in 0 min  5 sec"
     ]
    },
    {
     "name": "stdout",
     "output_type": "stream",
     "text": [
      "\n"
     ]
    },
    {
     "name": "stdout",
     "output_type": "stream",
     "text": [
      "\tBHR,  0th phase (06Mar2020 - 07May2020): finished 1895 trials in 1 min  0 sec"
     ]
    },
    {
     "name": "stdout",
     "output_type": "stream",
     "text": [
      "\n"
     ]
    },
    {
     "name": "stdout",
     "output_type": "stream",
     "text": [
      "\tDNK,  1st phase (05Apr2020 - 14Apr2020): finished 1934 trials in 1 min  0 sec"
     ]
    },
    {
     "name": "stdout",
     "output_type": "stream",
     "text": [
      "\n"
     ]
    },
    {
     "name": "stdout",
     "output_type": "stream",
     "text": [
      "\tDOM,  2nd phase (05Jun2020 - 24Jun2020): finished 1677 trials in 0 min 50 sec"
     ]
    },
    {
     "name": "stdout",
     "output_type": "stream",
     "text": [
      "\n"
     ]
    },
    {
     "name": "stdout",
     "output_type": "stream",
     "text": [
      "\tHUN,  2nd phase (22Apr2020 - 01May2020): finished 1925 trials in 1 min  0 sec"
     ]
    },
    {
     "name": "stdout",
     "output_type": "stream",
     "text": [
      "\n"
     ]
    },
    {
     "name": "stdout",
     "output_type": "stream",
     "text": [
      "\tMDA,  0th phase (17Mar2020 - 13May2020): finished 1876 trials in 1 min  0 sec"
     ]
    },
    {
     "name": "stdout",
     "output_type": "stream",
     "text": [
      "\n"
     ]
    },
    {
     "name": "stdout",
     "output_type": "stream",
     "text": [
      "\tRUS,  4th phase (02Jun2020 - 11Jun2020): finished 1935 trials in 1 min  0 sec"
     ]
    },
    {
     "name": "stdout",
     "output_type": "stream",
     "text": [
      "\n"
     ]
    },
    {
     "name": "stdout",
     "output_type": "stream",
     "text": [
      "\tBGD,  4th phase (29Jun2020 - 07Jul2020): finished 1152 trials in 0 min 30 sec"
     ]
    },
    {
     "name": "stdout",
     "output_type": "stream",
     "text": [
      "\n"
     ]
    },
    {
     "name": "stdout",
     "output_type": "stream",
     "text": [
      "\tBOL,  5th phase (23Jul2020 - 31Jul2020): finished  244 trials in 0 min  5 sec"
     ]
    },
    {
     "name": "stdout",
     "output_type": "stream",
     "text": [
      "\n"
     ]
    },
    {
     "name": "stdout",
     "output_type": "stream",
     "text": [
      "\tMEX,  3rd phase (24Jun2020 - 05Jul2020): finished  455 trials in 0 min 10 sec"
     ]
    },
    {
     "name": "stdout",
     "output_type": "stream",
     "text": [
      "\n"
     ]
    },
    {
     "name": "stdout",
     "output_type": "stream",
     "text": [
      "\tHUN,  4th phase (10May2020 - 18May2020): finished 1693 trials in 0 min 50 sec"
     ]
    },
    {
     "name": "stdout",
     "output_type": "stream",
     "text": [
      "\n"
     ]
    },
    {
     "name": "stdout",
     "output_type": "stream",
     "text": [
      "\tMEX, 10th phase (07Sep2020 - 20Sep2020): finished 1925 trials in 1 min  0 sec"
     ]
    },
    {
     "name": "stdout",
     "output_type": "stream",
     "text": [
      "\n"
     ]
    },
    {
     "name": "stdout",
     "output_type": "stream",
     "text": [
      "\tPRT,  6th phase (08Jul2020 - 21Jul2020): finished 1932 trials in 1 min  0 sec"
     ]
    },
    {
     "name": "stdout",
     "output_type": "stream",
     "text": [
      "\n"
     ]
    },
    {
     "name": "stdout",
     "output_type": "stream",
     "text": [
      "\tBOL,  6th phase (01Aug2020 - 09Aug2020): finished  237 trials in 0 min  5 sec"
     ]
    },
    {
     "name": "stdout",
     "output_type": "stream",
     "text": [
      "\n"
     ]
    },
    {
     "name": "stdout",
     "output_type": "stream",
     "text": [
      "\tMEX,  4th phase (06Jul2020 - 16Jul2020): finished  446 trials in 0 min 10 sec"
     ]
    },
    {
     "name": "stdout",
     "output_type": "stream",
     "text": [
      "\n"
     ]
    },
    {
     "name": "stdout",
     "output_type": "stream",
     "text": [
      "\tFRA,  3rd phase (13Apr2020 - 21Apr2020): finished 1924 trials in 1 min  0 sec"
     ]
    },
    {
     "name": "stdout",
     "output_type": "stream",
     "text": [
      "\n"
     ]
    },
    {
     "name": "stdout",
     "output_type": "stream",
     "text": [
      "\tBRA,  4th phase (08Jul2020 - 20Jul2020): finished  456 trials in 0 min 10 sec"
     ]
    },
    {
     "name": "stdout",
     "output_type": "stream",
     "text": [
      "\n"
     ]
    },
    {
     "name": "stdout",
     "output_type": "stream",
     "text": [
      "\tUSA,  6th phase (18Jul2020 - 26Jul2020): finished  457 trials in 0 min 10 sec"
     ]
    },
    {
     "name": "stdout",
     "output_type": "stream",
     "text": [
      "\n"
     ]
    },
    {
     "name": "stdout",
     "output_type": "stream",
     "text": [
      "\tBFA,  0th phase (21Mar2020 - 31Mar2020): finished 1931 trials in 1 min  0 sec"
     ]
    },
    {
     "name": "stdout",
     "output_type": "stream",
     "text": [
      "\n"
     ]
    },
    {
     "name": "stdout",
     "output_type": "stream",
     "text": [
      "\tARE,  2nd phase (13May2020 - 20May2020): finished 1933 trials in 1 min  0 sec"
     ]
    },
    {
     "name": "stdout",
     "output_type": "stream",
     "text": [
      "\n"
     ]
    },
    {
     "name": "stdout",
     "output_type": "stream",
     "text": [
      "\tFRA,  9th phase (10Aug2020 - 26Aug2020): finished 1138 trials in 0 min 30 sec"
     ]
    },
    {
     "name": "stdout",
     "output_type": "stream",
     "text": [
      "\n"
     ]
    },
    {
     "name": "stdout",
     "output_type": "stream",
     "text": [
      "\tDNK,  4th phase (03May2020 - 16May2020): finished  241 trials in 0 min  5 sec"
     ]
    },
    {
     "name": "stdout",
     "output_type": "stream",
     "text": [
      "\n"
     ]
    },
    {
     "name": "stdout",
     "output_type": "stream",
     "text": [
      "\tIRN,  9th phase (16Aug2020 - 02Sep2020): finished  457 trials in 0 min 10 sec"
     ]
    },
    {
     "name": "stdout",
     "output_type": "stream",
     "text": [
      "\n"
     ]
    },
    {
     "name": "stdout",
     "output_type": "stream",
     "text": [
      "\tMDA,  3rd phase (23Jun2020 - 09Jul2020): finished 1817 trials in 0 min 55 sec"
     ]
    },
    {
     "name": "stdout",
     "output_type": "stream",
     "text": [
      "\n"
     ]
    },
    {
     "name": "stdout",
     "output_type": "stream",
     "text": [
      "\tNGA,  8th phase (08Aug2020 - 18Aug2020): finished  456 trials in 0 min 10 sec"
     ]
    },
    {
     "name": "stdout",
     "output_type": "stream",
     "text": [
      "\n"
     ]
    },
    {
     "name": "stdout",
     "output_type": "stream",
     "text": [
      "\tBHR,  4th phase (25Jun2020 - 04Jul2020): finished 1000 trials in 0 min 25 sec"
     ]
    },
    {
     "name": "stdout",
     "output_type": "stream",
     "text": [
      "\n"
     ]
    },
    {
     "name": "stdout",
     "output_type": "stream",
     "text": [
      "\tDNK,  7th phase (31Jul2020 - 14Aug2020): finished  456 trials in 0 min 10 sec"
     ]
    },
    {
     "name": "stdout",
     "output_type": "stream",
     "text": [
      "\n"
     ]
    },
    {
     "name": "stdout",
     "output_type": "stream",
     "text": [
      "\tNGA,  4th phase (27Jun2020 - 11Jul2020): finished 1920 trials in 1 min  0 sec"
     ]
    },
    {
     "name": "stdout",
     "output_type": "stream",
     "text": [
      "\n"
     ]
    },
    {
     "name": "stdout",
     "output_type": "stream",
     "text": [
      "\tEST,  9th phase (04Sep2020 - 11Sep2020): finished 1946 trials in 1 min  0 sec"
     ]
    },
    {
     "name": "stdout",
     "output_type": "stream",
     "text": [
      "\n"
     ]
    },
    {
     "name": "stdout",
     "output_type": "stream",
     "text": [
      "\tKWT,  3rd phase (08Jun2020 - 21Jun2020): finished  241 trials in 0 min  5 sec"
     ]
    },
    {
     "name": "stdout",
     "output_type": "stream",
     "text": [
      "\n"
     ]
    },
    {
     "name": "stdout",
     "output_type": "stream",
     "text": [
      "\tFRA,  2nd phase (03Apr2020 - 12Apr2020): finished 1939 trials in 1 min  0 sec"
     ]
    },
    {
     "name": "stdout",
     "output_type": "stream",
     "text": [
      "\n"
     ]
    },
    {
     "name": "stdout",
     "output_type": "stream",
     "text": [
      "\tDOM,  9th phase (21Aug2020 - 04Sep2020): finished  242 trials in 0 min  5 sec"
     ]
    },
    {
     "name": "stdout",
     "output_type": "stream",
     "text": [
      "\n"
     ]
    },
    {
     "name": "stdout",
     "output_type": "stream",
     "text": [
      "\tITA,  9th phase (05Aug2020 - 01Sep2020): finished 1912 trials in 1 min  0 sec"
     ]
    },
    {
     "name": "stdout",
     "output_type": "stream",
     "text": [
      "\n"
     ]
    },
    {
     "name": "stdout",
     "output_type": "stream",
     "text": [
      "\tNGA,  7th phase (29Jul2020 - 07Aug2020): finished 1888 trials in 1 min  0 sec"
     ]
    },
    {
     "name": "stdout",
     "output_type": "stream",
     "text": [
      "\n"
     ]
    },
    {
     "name": "stdout",
     "output_type": "stream",
     "text": [
      "\tGIN,  6th phase (09Jul2020 - 23Jul2020): finished 1843 trials in 1 min  0 sec"
     ]
    },
    {
     "name": "stdout",
     "output_type": "stream",
     "text": [
      "\n"
     ]
    },
    {
     "name": "stdout",
     "output_type": "stream",
     "text": [
      "\tEST,  4th phase (15May2020 - 25May2020): finished 1724 trials in 1 min  0 sec"
     ]
    },
    {
     "name": "stdout",
     "output_type": "stream",
     "text": [
      "\n"
     ]
    },
    {
     "name": "stdout",
     "output_type": "stream",
     "text": [
      "\tRUS,  5th phase (12Jun2020 - 20Jun2020): finished 1609 trials in 1 min  0 sec"
     ]
    },
    {
     "name": "stdout",
     "output_type": "stream",
     "text": [
      "\n"
     ]
    },
    {
     "name": "stdout",
     "output_type": "stream",
     "text": [
      "\tMEX,  1st phase (23May2020 - 10Jun2020): finished  684 trials in 0 min 30 sec"
     ]
    },
    {
     "name": "stdout",
     "output_type": "stream",
     "text": [
      "\n"
     ]
    },
    {
     "name": "stdout",
     "output_type": "stream",
     "text": [
      "\tPER,  3rd phase (14Jun2020 - 29Jun2020): finished 1331 trials in 1 min  0 sec"
     ]
    },
    {
     "name": "stdout",
     "output_type": "stream",
     "text": [
      "\n"
     ]
    },
    {
     "name": "stdout",
     "output_type": "stream",
     "text": [
      "\tBGD,  0th phase (16Mar2020 - 26May2020): finished 1221 trials in 1 min  0 sec"
     ]
    },
    {
     "name": "stdout",
     "output_type": "stream",
     "text": [
      "\n"
     ]
    },
    {
     "name": "stdout",
     "output_type": "stream",
     "text": [
      "\tDOM,  7th phase (02Aug2020 - 11Aug2020): finished 1275 trials in 1 min  1 sec"
     ]
    },
    {
     "name": "stdout",
     "output_type": "stream",
     "text": [
      "\n"
     ]
    },
    {
     "name": "stdout",
     "output_type": "stream",
     "text": [
      "\tHUN,  1st phase (14Apr2020 - 21Apr2020): finished 1468 trials in 1 min  0 sec"
     ]
    },
    {
     "name": "stdout",
     "output_type": "stream",
     "text": [
      "\n"
     ]
    },
    {
     "name": "stdout",
     "output_type": "stream",
     "text": [
      "\tMEX,  6th phase (28Jul2020 - 04Aug2020): finished 1390 trials in 1 min  0 sec"
     ]
    },
    {
     "name": "stdout",
     "output_type": "stream",
     "text": [
      "\n"
     ]
    },
    {
     "name": "stdout",
     "output_type": "stream",
     "text": [
      "\tHUN,  8th phase (25Jul2020 - 12Aug2020): finished 1494 trials in 1 min  0 sec"
     ]
    },
    {
     "name": "stdout",
     "output_type": "stream",
     "text": [
      "\n"
     ]
    },
    {
     "name": "stdout",
     "output_type": "stream",
     "text": [
      "\tPER,  7th phase (11Aug2020 - 18Aug2020): finished 1656 trials in 1 min  0 sec"
     ]
    },
    {
     "name": "stdout",
     "output_type": "stream",
     "text": [
      "\n"
     ]
    },
    {
     "name": "stdout",
     "output_type": "stream",
     "text": [
      "\tUSA,  3rd phase (06Jun2020 - 24Jun2020): finished 1576 trials in 1 min  0 sec"
     ]
    },
    {
     "name": "stdout",
     "output_type": "stream",
     "text": [
      "\n"
     ]
    },
    {
     "name": "stdout",
     "output_type": "stream",
     "text": [
      "\tIRN,  0th phase (26Feb2020 - 29Mar2020): finished 1633 trials in 1 min  0 sec"
     ]
    },
    {
     "name": "stdout",
     "output_type": "stream",
     "text": [
      "\n"
     ]
    },
    {
     "name": "stdout",
     "output_type": "stream",
     "text": [
      "\tARE,  6th phase (02Jul2020 - 11Jul2020): finished 1621 trials in 1 min  0 sec"
     ]
    },
    {
     "name": "stdout",
     "output_type": "stream",
     "text": [
      "\n"
     ]
    },
    {
     "name": "stdout",
     "output_type": "stream",
     "text": [
      "\tBGD,  6th phase (19Jul2020 - 29Jul2020): finished  530 trials in 0 min 15 sec"
     ]
    },
    {
     "name": "stdout",
     "output_type": "stream",
     "text": [
      "\n"
     ]
    },
    {
     "name": "stdout",
     "output_type": "stream",
     "text": [
      "\tPRT,  0th phase (14Mar2020 - 28Apr2020): finished 1564 trials in 1 min  0 sec"
     ]
    },
    {
     "name": "stdout",
     "output_type": "stream",
     "text": [
      "\n"
     ]
    },
    {
     "name": "stdout",
     "output_type": "stream",
     "text": [
      "\tMEX,  8th phase (14Aug2020 - 25Aug2020): finished  353 trials in 0 min 10 sec"
     ]
    },
    {
     "name": "stdout",
     "output_type": "stream",
     "text": [
      "\n"
     ]
    },
    {
     "name": "stdout",
     "output_type": "stream",
     "text": [
      "\tPER,  2nd phase (29May2020 - 13Jun2020): finished 1581 trials in 1 min  0 sec"
     ]
    },
    {
     "name": "stdout",
     "output_type": "stream",
     "text": [
      "\n"
     ]
    },
    {
     "name": "stdout",
     "output_type": "stream",
     "text": [
      "\tBFA,  8th phase (13Aug2020 - 23Aug2020): finished  392 trials in 0 min 10 sec"
     ]
    },
    {
     "name": "stdout",
     "output_type": "stream",
     "text": [
      "\n"
     ]
    },
    {
     "name": "stdout",
     "output_type": "stream",
     "text": [
      "\tPRT,  4th phase (14Jun2020 - 25Jun2020): finished 1639 trials in 1 min  0 sec"
     ]
    },
    {
     "name": "stdout",
     "output_type": "stream",
     "text": [
      "\n"
     ]
    },
    {
     "name": "stdout",
     "output_type": "stream",
     "text": [
      "\tDZA,  5th phase (15Jul2020 - 22Jul2020): finished  311 trials in 0 min 10 sec"
     ]
    },
    {
     "name": "stdout",
     "output_type": "stream",
     "text": [
      "\n"
     ]
    },
    {
     "name": "stdout",
     "output_type": "stream",
     "text": [
      "\tFRA, 10th phase (27Aug2020 - 10Sep2020): finished 1337 trials in 0 min 45 sec"
     ]
    },
    {
     "name": "stdout",
     "output_type": "stream",
     "text": [
      "\n"
     ]
    },
    {
     "name": "stdout",
     "output_type": "stream",
     "text": [
      "\tGIN,  8th phase (06Aug2020 - 17Aug2020): finished  479 trials in 0 min 15 sec"
     ]
    },
    {
     "name": "stdout",
     "output_type": "stream",
     "text": [
      "\n"
     ]
    },
    {
     "name": "stdout",
     "output_type": "stream",
     "text": [
      "\tDZA,  4th phase (07Jul2020 - 14Jul2020): finished  506 trials in 0 min 15 sec"
     ]
    },
    {
     "name": "stdout",
     "output_type": "stream",
     "text": [
      "\n"
     ]
    },
    {
     "name": "stdout",
     "output_type": "stream",
     "text": [
      "\tARE,  8th phase (27Jul2020 - 17Aug2020): finished  960 trials in 0 min 30 sec"
     ]
    },
    {
     "name": "stdout",
     "output_type": "stream",
     "text": [
      "\n"
     ]
    },
    {
     "name": "stdout",
     "output_type": "stream",
     "text": [
      "\tUSA,  2nd phase (13May2020 - 05Jun2020): finished 1655 trials in 1 min  0 sec"
     ]
    },
    {
     "name": "stdout",
     "output_type": "stream",
     "text": [
      "\n"
     ]
    },
    {
     "name": "stdout",
     "output_type": "stream",
     "text": [
      "\tRUS,  7th phase (01Jul2020 - 11Jul2020): finished 1520 trials in 1 min  0 sec"
     ]
    },
    {
     "name": "stdout",
     "output_type": "stream",
     "text": [
      "\n"
     ]
    },
    {
     "name": "stdout",
     "output_type": "stream",
     "text": [
      "\tDOM,  5th phase (17Jul2020 - 24Jul2020): finished  685 trials in 0 min 20 sec"
     ]
    },
    {
     "name": "stdout",
     "output_type": "stream",
     "text": [
      "\n"
     ]
    },
    {
     "name": "stdout",
     "output_type": "stream",
     "text": [
      "\tBHR,  5th phase (05Jul2020 - 14Jul2020): finished 1478 trials in 1 min  0 sec"
     ]
    },
    {
     "name": "stdout",
     "output_type": "stream",
     "text": [
      "\n"
     ]
    },
    {
     "name": "stdout",
     "output_type": "stream",
     "text": [
      "\tRUS,  1st phase (07May2020 - 15May2020): finished 1470 trials in 1 min  0 sec"
     ]
    },
    {
     "name": "stdout",
     "output_type": "stream",
     "text": [
      "\n"
     ]
    },
    {
     "name": "stdout",
     "output_type": "stream",
     "text": [
      "\tTUR,  4th phase (23May2020 - 13Jun2020): finished  330 trials in 0 min 10 sec"
     ]
    },
    {
     "name": "stdout",
     "output_type": "stream",
     "text": [
      "\n"
     ]
    },
    {
     "name": "stdout",
     "output_type": "stream",
     "text": [
      "\tNGA,  9th phase (19Aug2020 - 31Aug2020): finished 1572 trials in 1 min  0 sec"
     ]
    },
    {
     "name": "stdout",
     "output_type": "stream",
     "text": [
      "\n"
     ]
    },
    {
     "name": "stdout",
     "output_type": "stream",
     "text": [
      "\tUSA,  1st phase (19Apr2020 - 12May2020): finished 1606 trials in 1 min  0 sec"
     ]
    },
    {
     "name": "stdout",
     "output_type": "stream",
     "text": [
      "\n"
     ]
    },
    {
     "name": "stdout",
     "output_type": "stream",
     "text": [
      "\tKWT,  4th phase (22Jun2020 - 03Jul2020): finished 1598 trials in 1 min  0 sec"
     ]
    },
    {
     "name": "stdout",
     "output_type": "stream",
     "text": [
      "\n"
     ]
    },
    {
     "name": "stdout",
     "output_type": "stream",
     "text": [
      "\tDZA,  7th phase (06Aug2020 - 13Aug2020): finished  376 trials in 0 min 10 sec"
     ]
    },
    {
     "name": "stdout",
     "output_type": "stream",
     "text": [
      "\n"
     ]
    },
    {
     "name": "stdout",
     "output_type": "stream",
     "text": [
      "\tMDA,  4th phase (10Jul2020 - 22Jul2020): finished 1520 trials in 1 min  0 sec"
     ]
    },
    {
     "name": "stdout",
     "output_type": "stream",
     "text": [
      "\n"
     ]
    },
    {
     "name": "stdout",
     "output_type": "stream",
     "text": [
      "\tARE,  9th phase (18Aug2020 - 01Sep2020): finished 1026 trials in 0 min 35 sec"
     ]
    },
    {
     "name": "stdout",
     "output_type": "stream",
     "text": [
      "\n"
     ]
    },
    {
     "name": "stdout",
     "output_type": "stream",
     "text": [
      "\tMEX,  7th phase (05Aug2020 - 13Aug2020): finished  207 trials in 0 min  5 sec"
     ]
    },
    {
     "name": "stdout",
     "output_type": "stream",
     "text": [
      "\n"
     ]
    },
    {
     "name": "stdout",
     "output_type": "stream",
     "text": [
      "\tBRA,  2nd phase (13Jun2020 - 25Jun2020): finished  374 trials in 0 min 10 sec"
     ]
    },
    {
     "name": "stdout",
     "output_type": "stream",
     "text": [
      "\n"
     ]
    },
    {
     "name": "stdout",
     "output_type": "stream",
     "text": [
      "\tHUN,  5th phase (19May2020 - 30May2020): finished 1603 trials in 1 min  0 sec"
     ]
    },
    {
     "name": "stdout",
     "output_type": "stream",
     "text": [
      "\n"
     ]
    },
    {
     "name": "stdout",
     "output_type": "stream",
     "text": [
      "\tDNK,  5th phase (17May2020 - 14Jun2020): finished  302 trials in 0 min 10 sec"
     ]
    },
    {
     "name": "stdout",
     "output_type": "stream",
     "text": [
      "\n"
     ]
    },
    {
     "name": "stdout",
     "output_type": "stream",
     "text": [
      "\tBOL,  2nd phase (26Jun2020 - 05Jul2020): finished  284 trials in 0 min 10 sec"
     ]
    },
    {
     "name": "stdout",
     "output_type": "stream",
     "text": [
      "\n"
     ]
    },
    {
     "name": "stdout",
     "output_type": "stream",
     "text": [
      "\tDOM,  0th phase (24Mar2020 - 09May2020): finished 1614 trials in 1 min  0 sec"
     ]
    },
    {
     "name": "stdout",
     "output_type": "stream",
     "text": [
      "\n"
     ]
    },
    {
     "name": "stdout",
     "output_type": "stream",
     "text": [
      "\tITA,  0th phase (24Feb2020 - 20Mar2020): finished 1611 trials in 1 min  0 sec"
     ]
    },
    {
     "name": "stdout",
     "output_type": "stream",
     "text": [
      "\n"
     ]
    },
    {
     "name": "stdout",
     "output_type": "stream",
     "text": [
      "\tDOM, 10th phase (05Sep2020 - 20Sep2020): finished  328 trials in 0 min 10 sec"
     ]
    },
    {
     "name": "stdout",
     "output_type": "stream",
     "text": [
      "\n"
     ]
    },
    {
     "name": "stdout",
     "output_type": "stream",
     "text": [
      "\tKWT,  9th phase (24Aug2020 - 06Sep2020): finished 1469 trials in 1 min  0 sec"
     ]
    },
    {
     "name": "stdout",
     "output_type": "stream",
     "text": [
      "\n"
     ]
    },
    {
     "name": "stdout",
     "output_type": "stream",
     "text": [
      "\tMDA,  7th phase (17Aug2020 - 24Aug2020): finished  201 trials in 0 min  5 sec"
     ]
    },
    {
     "name": "stdout",
     "output_type": "stream",
     "text": [
      "\n"
     ]
    },
    {
     "name": "stdout",
     "output_type": "stream",
     "text": [
      "\tKWT,  5th phase (04Jul2020 - 14Jul2020): finished  199 trials in 0 min  5 sec"
     ]
    },
    {
     "name": "stdout",
     "output_type": "stream",
     "text": [
      "\n"
     ]
    },
    {
     "name": "stdout",
     "output_type": "stream",
     "text": [
      "\tRUS,  3rd phase (24May2020 - 01Jun2020): finished 1619 trials in 1 min  0 sec"
     ]
    },
    {
     "name": "stdout",
     "output_type": "stream",
     "text": [
      "\n"
     ]
    },
    {
     "name": "stdout",
     "output_type": "stream",
     "text": [
      "\tBGD,  2nd phase (13Jun2020 - 20Jun2020): finished 1520 trials in 1 min  0 sec"
     ]
    },
    {
     "name": "stdout",
     "output_type": "stream",
     "text": [
      "\n"
     ]
    },
    {
     "name": "stdout",
     "output_type": "stream",
     "text": [
      "\tIRN,  2nd phase (18Apr2020 - 12May2020): finished  392 trials in 0 min 15 sec"
     ]
    },
    {
     "name": "stdout",
     "output_type": "stream",
     "text": [
      "\n"
     ]
    },
    {
     "name": "stdout",
     "output_type": "stream",
     "text": [
      "\tBFA,  1st phase (01Apr2020 - 09Apr2020): finished 1400 trials in 1 min  0 sec"
     ]
    },
    {
     "name": "stdout",
     "output_type": "stream",
     "text": [
      "\n"
     ]
    },
    {
     "name": "stdout",
     "output_type": "stream",
     "text": [
      "\tKWT,  6th phase (15Jul2020 - 26Jul2020): finished  382 trials in 0 min 15 sec"
     ]
    },
    {
     "name": "stdout",
     "output_type": "stream",
     "text": [
      "\n"
     ]
    },
    {
     "name": "stdout",
     "output_type": "stream",
     "text": [
      "\tBHR,  2nd phase (01Jun2020 - 13Jun2020): finished 1236 trials in 1 min  0 sec"
     ]
    },
    {
     "name": "stdout",
     "output_type": "stream",
     "text": [
      "\n"
     ]
    },
    {
     "name": "stdout",
     "output_type": "stream",
     "text": [
      "\tEST,  2nd phase (19Apr2020 - 30Apr2020): finished 1115 trials in 1 min  0 sec"
     ]
    },
    {
     "name": "stdout",
     "output_type": "stream",
     "text": [
      "\n"
     ]
    },
    {
     "name": "stdout",
     "output_type": "stream",
     "text": [
      "\tARE,  1st phase (26Apr2020 - 12May2020): finished 1162 trials in 1 min  0 sec"
     ]
    },
    {
     "name": "stdout",
     "output_type": "stream",
     "text": [
      "\n"
     ]
    },
    {
     "name": "stdout",
     "output_type": "stream",
     "text": [
      "\tRUS,  8th phase (12Jul2020 - 24Jul2020): finished 1127 trials in 1 min  0 sec"
     ]
    },
    {
     "name": "stdout",
     "output_type": "stream",
     "text": [
      "\n"
     ]
    },
    {
     "name": "stdout",
     "output_type": "stream",
     "text": [
      "\tPER,  8th phase (19Aug2020 - 27Aug2020): finished 1219 trials in 1 min  0 sec"
     ]
    },
    {
     "name": "stdout",
     "output_type": "stream",
     "text": [
      "\n"
     ]
    },
    {
     "name": "stdout",
     "output_type": "stream",
     "text": [
      "\tTUR,  5th phase (14Jun2020 - 27Jun2020): finished 1150 trials in 1 min  0 sec"
     ]
    },
    {
     "name": "stdout",
     "output_type": "stream",
     "text": [
      "\n"
     ]
    },
    {
     "name": "stdout",
     "output_type": "stream",
     "text": [
      "\tPRT,  9th phase (28Aug2020 - 09Sep2020): finished 1187 trials in 1 min  0 sec"
     ]
    },
    {
     "name": "stdout",
     "output_type": "stream",
     "text": [
      "\n"
     ]
    },
    {
     "name": "stdout",
     "output_type": "stream",
     "text": [
      "\tBRA,  8th phase (14Aug2020 - 24Aug2020): finished 1171 trials in 1 min  0 sec"
     ]
    },
    {
     "name": "stdout",
     "output_type": "stream",
     "text": [
      "\n"
     ]
    },
    {
     "name": "stdout",
     "output_type": "stream",
     "text": [
      "\tBFA,  3rd phase (20Apr2020 - 03May2020): finished 1192 trials in 1 min  0 sec"
     ]
    },
    {
     "name": "stdout",
     "output_type": "stream",
     "text": [
      "\n"
     ]
    },
    {
     "name": "stdout",
     "output_type": "stream",
     "text": [
      "\tKWT,  7th phase (27Jul2020 - 09Aug2020): finished 1027 trials in 0 min 50 sec"
     ]
    },
    {
     "name": "stdout",
     "output_type": "stream",
     "text": [
      "\n"
     ]
    },
    {
     "name": "stdout",
     "output_type": "stream",
     "text": [
      "\tUSA, 10th phase (27Aug2020 - 07Sep2020): finished  221 trials in 0 min 10 sec"
     ]
    },
    {
     "name": "stdout",
     "output_type": "stream",
     "text": [
      "\n"
     ]
    },
    {
     "name": "stdout",
     "output_type": "stream",
     "text": [
      "\tBGD,  9th phase (24Aug2020 - 03Sep2020): finished  243 trials in 0 min 10 sec"
     ]
    },
    {
     "name": "stdout",
     "output_type": "stream",
     "text": [
      "\n"
     ]
    },
    {
     "name": "stdout",
     "output_type": "stream",
     "text": [
      "\tDZA,  2nd phase (24May2020 - 24Jun2020): finished 1243 trials in 1 min  0 sec"
     ]
    },
    {
     "name": "stdout",
     "output_type": "stream",
     "text": [
      "\n"
     ]
    },
    {
     "name": "stdout",
     "output_type": "stream",
     "text": [
      "\tMDA,  8th phase (25Aug2020 - 02Sep2020): finished 1170 trials in 0 min 35 sec"
     ]
    },
    {
     "name": "stdout",
     "output_type": "stream",
     "text": [
      "\n"
     ]
    },
    {
     "name": "stdout",
     "output_type": "stream",
     "text": [
      "\tNGA,  6th phase (21Jul2020 - 28Jul2020): finished  189 trials in 0 min  5 sec"
     ]
    },
    {
     "name": "stdout",
     "output_type": "stream",
     "text": [
      "\n"
     ]
    },
    {
     "name": "stdout",
     "output_type": "stream",
     "text": [
      "\tBHR,  3rd phase (14Jun2020 - 24Jun2020): finished 1509 trials in 1 min  0 sec"
     ]
    },
    {
     "name": "stdout",
     "output_type": "stream",
     "text": [
      "\n"
     ]
    },
    {
     "name": "stdout",
     "output_type": "stream",
     "text": [
      "\tTUR,  8th phase (04Aug2020 - 21Aug2020): finished 1576 trials in 1 min  0 sec"
     ]
    },
    {
     "name": "stdout",
     "output_type": "stream",
     "text": [
      "\n"
     ]
    },
    {
     "name": "stdout",
     "output_type": "stream",
     "text": [
      "\tDZA,  1st phase (01May2020 - 23May2020): finished 1689 trials in 1 min  0 sec"
     ]
    },
    {
     "name": "stdout",
     "output_type": "stream",
     "text": [
      "\n"
     ]
    },
    {
     "name": "stdout",
     "output_type": "stream",
     "text": [
      "\tNGA,  5th phase (12Jul2020 - 20Jul2020): finished  514 trials in 0 min 15 sec"
     ]
    },
    {
     "name": "stdout",
     "output_type": "stream",
     "text": [
      "\n"
     ]
    },
    {
     "name": "stdout",
     "output_type": "stream",
     "text": [
      "\tHUN,  7th phase (27Jun2020 - 24Jul2020): finished  649 trials in 0 min 20 sec"
     ]
    },
    {
     "name": "stdout",
     "output_type": "stream",
     "text": [
      "\n"
     ]
    },
    {
     "name": "stdout",
     "output_type": "stream",
     "text": [
      "\tMEX,  0th phase (03Mar2020 - 22May2020): finished 1547 trials in 1 min  0 sec"
     ]
    },
    {
     "name": "stdout",
     "output_type": "stream",
     "text": [
      "\n"
     ]
    },
    {
     "name": "stdout",
     "output_type": "stream",
     "text": [
      "\tKWT,  0th phase (08Mar2020 - 12May2020): finished 1434 trials in 1 min  0 sec"
     ]
    },
    {
     "name": "stdout",
     "output_type": "stream",
     "text": [
      "\n"
     ]
    },
    {
     "name": "stdout",
     "output_type": "stream",
     "text": [
      "\tPRT,  5th phase (26Jun2020 - 07Jul2020): finished 1615 trials in 1 min  0 sec"
     ]
    },
    {
     "name": "stdout",
     "output_type": "stream",
     "text": [
      "\n"
     ]
    },
    {
     "name": "stdout",
     "output_type": "stream",
     "text": [
      "\tUSA,  4th phase (25Jun2020 - 07Jul2020): finished 1528 trials in 1 min  0 sec"
     ]
    },
    {
     "name": "stdout",
     "output_type": "stream",
     "text": [
      "\n"
     ]
    },
    {
     "name": "stdout",
     "output_type": "stream",
     "text": [
      "\tDNK,  9th phase (01Sep2020 - 08Sep2020): finished  164 trials in 0 min  5 sec"
     ]
    },
    {
     "name": "stdout",
     "output_type": "stream",
     "text": [
      "\n"
     ]
    },
    {
     "name": "stdout",
     "output_type": "stream",
     "text": [
      "\tUSA, 11th phase (08Sep2020 - 20Sep2020): finished  981 trials in 0 min 40 sec"
     ]
    },
    {
     "name": "stdout",
     "output_type": "stream",
     "text": [
      "\n"
     ]
    },
    {
     "name": "stdout",
     "output_type": "stream",
     "text": [
      "\tDOM,  8th phase (12Aug2020 - 20Aug2020): finished  400 trials in 0 min 15 sec"
     ]
    },
    {
     "name": "stdout",
     "output_type": "stream",
     "text": [
      "\n"
     ]
    },
    {
     "name": "stdout",
     "output_type": "stream",
     "text": [
      "\tPRT,  3rd phase (02Jun2020 - 13Jun2020): finished 1259 trials in 1 min  0 sec"
     ]
    },
    {
     "name": "stdout",
     "output_type": "stream",
     "text": [
      "\n"
     ]
    },
    {
     "name": "stdout",
     "output_type": "stream",
     "text": [
      "\tDNK,  0th phase (06Mar2020 - 04Apr2020): finished 1147 trials in 1 min  0 sec"
     ]
    },
    {
     "name": "stdout",
     "output_type": "stream",
     "text": [
      "\n"
     ]
    },
    {
     "name": "stdout",
     "output_type": "stream",
     "text": [
      "\tFRA,  1st phase (24Mar2020 - 02Apr2020): finished 1136 trials in 1 min  1 sec"
     ]
    },
    {
     "name": "stdout",
     "output_type": "stream",
     "text": [
      "\n"
     ]
    },
    {
     "name": "stdout",
     "output_type": "stream",
     "text": [
      "\tPER,  0th phase (16Mar2020 - 10May2020): finished 1093 trials in 1 min  0 sec"
     ]
    },
    {
     "name": "stdout",
     "output_type": "stream",
     "text": [
      "\n"
     ]
    },
    {
     "name": "stdout",
     "output_type": "stream",
     "text": [
      "\tUSA,  5th phase (08Jul2020 - 17Jul2020): finished  351 trials in 0 min 15 sec"
     ]
    },
    {
     "name": "stdout",
     "output_type": "stream",
     "text": [
      "\n"
     ]
    },
    {
     "name": "stdout",
     "output_type": "stream",
     "text": [
      "\tFRA,  8th phase (22Jul2020 - 09Aug2020): finished 1128 trials in 1 min  0 sec"
     ]
    },
    {
     "name": "stdout",
     "output_type": "stream",
     "text": [
      "\n"
     ]
    },
    {
     "name": "stdout",
     "output_type": "stream",
     "text": [
      "\tBFA,  6th phase (23Jun2020 - 22Jul2020): finished 1216 trials in 1 min  0 sec"
     ]
    },
    {
     "name": "stdout",
     "output_type": "stream",
     "text": [
      "\n"
     ]
    },
    {
     "name": "stdout",
     "output_type": "stream",
     "text": [
      "\tPER,  4th phase (30Jun2020 - 17Jul2020): finished 1252 trials in 1 min  0 sec"
     ]
    },
    {
     "name": "stdout",
     "output_type": "stream",
     "text": [
      "\n"
     ]
    },
    {
     "name": "stdout",
     "output_type": "stream",
     "text": [
      "\tIRN,  5th phase (17Jun2020 - 30Jun2020): finished 1277 trials in 1 min  0 sec"
     ]
    },
    {
     "name": "stdout",
     "output_type": "stream",
     "text": [
      "\n"
     ]
    },
    {
     "name": "stdout",
     "output_type": "stream",
     "text": [
      "\tHUN, 10th phase (26Aug2020 - 11Sep2020): finished 1320 trials in 1 min  0 sec"
     ]
    },
    {
     "name": "stdout",
     "output_type": "stream",
     "text": [
      "\n"
     ]
    },
    {
     "name": "stdout",
     "output_type": "stream",
     "text": [
      "\tARE, 10th phase (02Sep2020 - 09Sep2020): finished 1302 trials in 1 min  0 sec"
     ]
    },
    {
     "name": "stdout",
     "output_type": "stream",
     "text": [
      "\n"
     ]
    },
    {
     "name": "stdout",
     "output_type": "stream",
     "text": [
      "\tITA,  4th phase (19Apr2020 - 01May2020): finished  354 trials in 0 min 15 sec"
     ]
    },
    {
     "name": "stdout",
     "output_type": "stream",
     "text": [
      "\n"
     ]
    },
    {
     "name": "stdout",
     "output_type": "stream",
     "text": [
      "\tRUS, 10th phase (08Aug2020 - 21Aug2020): finished 1160 trials in 1 min  0 sec"
     ]
    },
    {
     "name": "stdout",
     "output_type": "stream",
     "text": [
      "\n"
     ]
    },
    {
     "name": "stdout",
     "output_type": "stream",
     "text": [
      "\tEST,  6th phase (05Jun2020 - 01Aug2020): finished 1109 trials in 1 min  0 sec"
     ]
    },
    {
     "name": "stdout",
     "output_type": "stream",
     "text": [
      "\n"
     ]
    },
    {
     "name": "stdout",
     "output_type": "stream",
     "text": [
      "\tBFA,  2nd phase (10Apr2020 - 19Apr2020): finished 1116 trials in 1 min  0 sec"
     ]
    },
    {
     "name": "stdout",
     "output_type": "stream",
     "text": [
      "\n"
     ]
    },
    {
     "name": "stdout",
     "output_type": "stream",
     "text": [
      "\tARE,  4th phase (07Jun2020 - 18Jun2020): finished  967 trials in 0 min 45 sec"
     ]
    },
    {
     "name": "stdout",
     "output_type": "stream",
     "text": [
      "\n"
     ]
    },
    {
     "name": "stdout",
     "output_type": "stream",
     "text": [
      "\tNGA,  2nd phase (09Jun2020 - 18Jun2020): finished 1217 trials in 1 min  0 sec"
     ]
    },
    {
     "name": "stdout",
     "output_type": "stream",
     "text": [
      "\n"
     ]
    },
    {
     "name": "stdout",
     "output_type": "stream",
     "text": [
      "\tBFA,  4th phase (04May2020 - 20May2020): finished 1257 trials in 1 min  0 sec"
     ]
    },
    {
     "name": "stdout",
     "output_type": "stream",
     "text": [
      "\n"
     ]
    },
    {
     "name": "stdout",
     "output_type": "stream",
     "text": [
      "\tMDA,  1st phase (14May2020 - 08Jun2020): finished 1306 trials in 1 min  0 sec"
     ]
    },
    {
     "name": "stdout",
     "output_type": "stream",
     "text": [
      "\n"
     ]
    },
    {
     "name": "stdout",
     "output_type": "stream",
     "text": [
      "\tBHR,  6th phase (15Jul2020 - 25Jul2020): finished  486 trials in 0 min 15 sec"
     ]
    },
    {
     "name": "stdout",
     "output_type": "stream",
     "text": [
      "\n"
     ]
    },
    {
     "name": "stdout",
     "output_type": "stream",
     "text": [
      "\tMDA,  5th phase (23Jul2020 - 04Aug2020): finished  358 trials in 0 min 10 sec"
     ]
    },
    {
     "name": "stdout",
     "output_type": "stream",
     "text": [
      "\n"
     ]
    },
    {
     "name": "stdout",
     "output_type": "stream",
     "text": [
      "\tGIN,  5th phase (20Jun2020 - 08Jul2020): finished  481 trials in 0 min 15 sec"
     ]
    },
    {
     "name": "stdout",
     "output_type": "stream",
     "text": [
      "\n"
     ]
    },
    {
     "name": "stdout",
     "output_type": "stream",
     "text": [
      "\tEST,  3rd phase (01May2020 - 14May2020): finished 1495 trials in 1 min  0 sec"
     ]
    },
    {
     "name": "stdout",
     "output_type": "stream",
     "text": [
      "\n"
     ]
    },
    {
     "name": "stdout",
     "output_type": "stream",
     "text": [
      "\tBGD,  5th phase (08Jul2020 - 18Jul2020): finished  342 trials in 0 min 10 sec"
     ]
    },
    {
     "name": "stdout",
     "output_type": "stream",
     "text": [
      "\n"
     ]
    },
    {
     "name": "stdout",
     "output_type": "stream",
     "text": [
      "\tRUS,  2nd phase (16May2020 - 23May2020): finished 1469 trials in 1 min  0 sec"
     ]
    },
    {
     "name": "stdout",
     "output_type": "stream",
     "text": [
      "\n"
     ]
    },
    {
     "name": "stdout",
     "output_type": "stream",
     "text": [
      "\tFRA,  0th phase (12Feb2020 - 23Mar2020): finished 1473 trials in 1 min  0 sec"
     ]
    },
    {
     "name": "stdout",
     "output_type": "stream",
     "text": [
      "\n"
     ]
    },
    {
     "name": "stdout",
     "output_type": "stream",
     "text": [
      "\tRUS,  9th phase (25Jul2020 - 07Aug2020): finished 1415 trials in 1 min  0 sec"
     ]
    },
    {
     "name": "stdout",
     "output_type": "stream",
     "text": [
      "\n"
     ]
    },
    {
     "name": "stdout",
     "output_type": "stream",
     "text": [
      "\tEST, 10th phase (12Sep2020 - 20Sep2020): finished 1456 trials in 1 min  0 sec"
     ]
    },
    {
     "name": "stdout",
     "output_type": "stream",
     "text": [
      "\n"
     ]
    },
    {
     "name": "stdout",
     "output_type": "stream",
     "text": [
      "\tIRN,  3rd phase (13May2020 - 31May2020): finished  149 trials in 0 min  5 sec"
     ]
    },
    {
     "name": "stdout",
     "output_type": "stream",
     "text": [
      "\n"
     ]
    },
    {
     "name": "stdout",
     "output_type": "stream",
     "text": [
      "\tIRN,  1st phase (30Mar2020 - 17Apr2020): finished 1501 trials in 1 min  0 sec"
     ]
    },
    {
     "name": "stdout",
     "output_type": "stream",
     "text": [
      "\n"
     ]
    },
    {
     "name": "stdout",
     "output_type": "stream",
     "text": [
      "\tIRN,  6th phase (01Jul2020 - 15Jul2020): finished  165 trials in 0 min  5 sec"
     ]
    },
    {
     "name": "stdout",
     "output_type": "stream",
     "text": [
      "\n"
     ]
    },
    {
     "name": "stdout",
     "output_type": "stream",
     "text": [
      "\tTUR,  9th phase (22Aug2020 - 05Sep2020): finished  345 trials in 0 min 10 sec"
     ]
    },
    {
     "name": "stdout",
     "output_type": "stream",
     "text": [
      "\n"
     ]
    },
    {
     "name": "stdout",
     "output_type": "stream",
     "text": [
      "\tDOM,  4th phase (08Jul2020 - 16Jul2020): finished 1386 trials in 1 min  0 sec"
     ]
    },
    {
     "name": "stdout",
     "output_type": "stream",
     "text": [
      "\n"
     ]
    },
    {
     "name": "stdout",
     "output_type": "stream",
     "text": [
      "\tPER,  1st phase (11May2020 - 28May2020): finished 1384 trials in 1 min  0 sec"
     ]
    },
    {
     "name": "stdout",
     "output_type": "stream",
     "text": [
      "\n"
     ]
    },
    {
     "name": "stdout",
     "output_type": "stream",
     "text": [
      "\tGIN,  0th phase (03Apr2020 - 30Apr2020): finished 1411 trials in 1 min  0 sec"
     ]
    },
    {
     "name": "stdout",
     "output_type": "stream",
     "text": [
      "\n"
     ]
    },
    {
     "name": "stdout",
     "output_type": "stream",
     "text": [
      "\tITA,  1st phase (21Mar2020 - 28Mar2020): finished 1476 trials in 1 min  0 sec"
     ]
    },
    {
     "name": "stdout",
     "output_type": "stream",
     "text": [
      "\n"
     ]
    },
    {
     "name": "stdout",
     "output_type": "stream",
     "text": [
      "\tIRN, 10th phase (03Sep2020 - 20Sep2020): finished 1400 trials in 1 min  0 sec"
     ]
    },
    {
     "name": "stdout",
     "output_type": "stream",
     "text": [
      "\n"
     ]
    },
    {
     "name": "stdout",
     "output_type": "stream",
     "text": [
      "\tTUR,  7th phase (15Jul2020 - 03Aug2020): finished  148 trials in 0 min  5 sec"
     ]
    },
    {
     "name": "stdout",
     "output_type": "stream",
     "text": [
      "\n"
     ]
    },
    {
     "name": "stdout",
     "output_type": "stream",
     "text": [
      "\tFRA,  5th phase (05May2020 - 26May2020): finished 1336 trials in 1 min  0 sec"
     ]
    },
    {
     "name": "stdout",
     "output_type": "stream",
     "text": [
      "\n"
     ]
    },
    {
     "name": "stdout",
     "output_type": "stream",
     "text": [
      "\tDZA,  0th phase (12Mar2020 - 30Apr2020): finished 1332 trials in 1 min  0 sec"
     ]
    },
    {
     "name": "stdout",
     "output_type": "stream",
     "text": [
      "\n"
     ]
    },
    {
     "name": "stdout",
     "output_type": "stream",
     "text": [
      "\tITA,  2nd phase (29Mar2020 - 08Apr2020): finished 1356 trials in 1 min  0 sec"
     ]
    },
    {
     "name": "stdout",
     "output_type": "stream",
     "text": [
      "\n"
     ]
    },
    {
     "name": "stdout",
     "output_type": "stream",
     "text": [
      "\tIRN,  8th phase (31Jul2020 - 15Aug2020): finished 1322 trials in 1 min  0 sec"
     ]
    },
    {
     "name": "stdout",
     "output_type": "stream",
     "text": [
      "\n"
     ]
    },
    {
     "name": "stdout",
     "output_type": "stream",
     "text": [
      "\tMDA,  9th phase (03Sep2020 - 10Sep2020): finished  871 trials in 0 min 35 sec"
     ]
    },
    {
     "name": "stdout",
     "output_type": "stream",
     "text": [
      "\n"
     ]
    },
    {
     "name": "stdout",
     "output_type": "stream",
     "text": [
      "\tPRT,  7th phase (22Jul2020 - 10Aug2020): finished 1340 trials in 1 min  0 sec"
     ]
    },
    {
     "name": "stdout",
     "output_type": "stream",
     "text": [
      "\n"
     ]
    },
    {
     "name": "stdout",
     "output_type": "stream",
     "text": [
      "\tHUN,  0th phase (14Mar2020 - 13Apr2020): finished 1385 trials in 1 min  0 sec"
     ]
    },
    {
     "name": "stdout",
     "output_type": "stream",
     "text": [
      "\n"
     ]
    },
    {
     "name": "stdout",
     "output_type": "stream",
     "text": [
      "\tBOL,  8th phase (18Aug2020 - 25Aug2020): finished  657 trials in 0 min 20 sec"
     ]
    },
    {
     "name": "stdout",
     "output_type": "stream",
     "text": [
      "\n"
     ]
    },
    {
     "name": "stdout",
     "output_type": "stream",
     "text": [
      "\tTUR,  2nd phase (30Apr2020 - 08May2020): finished 1155 trials in 0 min 40 sec"
     ]
    },
    {
     "name": "stdout",
     "output_type": "stream",
     "text": [
      "\n"
     ]
    },
    {
     "name": "stdout",
     "output_type": "stream",
     "text": [
      "\tGIN,  7th phase (24Jul2020 - 05Aug2020): finished  335 trials in 0 min 10 sec"
     ]
    },
    {
     "name": "stdout",
     "output_type": "stream",
     "text": [
      "\n"
     ]
    },
    {
     "name": "stdout",
     "output_type": "stream",
     "text": [
      "\tGIN,  2nd phase (12May2020 - 24May2020): finished 1554 trials in 1 min  0 sec"
     ]
    },
    {
     "name": "stdout",
     "output_type": "stream",
     "text": [
      "\n"
     ]
    },
    {
     "name": "stdout",
     "output_type": "stream",
     "text": [
      "\tBGD,  3rd phase (21Jun2020 - 28Jun2020): finished 1100 trials in 0 min 35 sec"
     ]
    },
    {
     "name": "stdout",
     "output_type": "stream",
     "text": [
      "\n"
     ]
    },
    {
     "name": "stdout",
     "output_type": "stream",
     "text": [
      "\tHUN,  3rd phase (02May2020 - 09May2020): finished 1600 trials in 1 min  0 sec"
     ]
    },
    {
     "name": "stdout",
     "output_type": "stream",
     "text": [
      "\n"
     ]
    },
    {
     "name": "stdout",
     "output_type": "stream",
     "text": [
      "\tBHR,  8th phase (10Aug2020 - 21Aug2020): finished  241 trials in 0 min  5 sec"
     ]
    },
    {
     "name": "stdout",
     "output_type": "stream",
     "text": [
      "\n"
     ]
    },
    {
     "name": "stdout",
     "output_type": "stream",
     "text": [
      "\tKWT,  2nd phase (28May2020 - 07Jun2020): finished 1716 trials in 1 min  0 sec"
     ]
    },
    {
     "name": "stdout",
     "output_type": "stream",
     "text": [
      "\n"
     ]
    },
    {
     "name": "stdout",
     "output_type": "stream",
     "text": [
      "\tUSA,  7th phase (27Jul2020 - 04Aug2020): finished  244 trials in 0 min  5 sec"
     ]
    },
    {
     "name": "stdout",
     "output_type": "stream",
     "text": [
      "\n"
     ]
    },
    {
     "name": "stdout",
     "output_type": "stream",
     "text": [
      "\tBOL,  3rd phase (06Jul2020 - 14Jul2020): finished  824 trials in 0 min 20 sec"
     ]
    },
    {
     "name": "stdout",
     "output_type": "stream",
     "text": [
      "\n"
     ]
    },
    {
     "name": "stdout",
     "output_type": "stream",
     "text": [
      "\tDNK,  2nd phase (15Apr2020 - 22Apr2020): finished  236 trials in 0 min  5 sec"
     ]
    },
    {
     "name": "stdout",
     "output_type": "stream",
     "text": [
      "\n"
     ]
    },
    {
     "name": "stdout",
     "output_type": "stream",
     "text": [
      "\tRUS,  6th phase (21Jun2020 - 30Jun2020): finished 1850 trials in 1 min  0 sec"
     ]
    },
    {
     "name": "stdout",
     "output_type": "stream",
     "text": [
      "\n"
     ]
    },
    {
     "name": "stdout",
     "output_type": "stream",
     "text": [
      "\tGIN,  1st phase (01May2020 - 11May2020): finished 1920 trials in 1 min  0 sec"
     ]
    },
    {
     "name": "stdout",
     "output_type": "stream",
     "text": [
      "\n"
     ]
    },
    {
     "name": "stdout",
     "output_type": "stream",
     "text": [
      "\tDNK,  3rd phase (23Apr2020 - 02May2020): finished 1923 trials in 1 min  0 sec"
     ]
    },
    {
     "name": "stdout",
     "output_type": "stream",
     "text": [
      "\n"
     ]
    },
    {
     "name": "stdout",
     "output_type": "stream",
     "text": [
      "\tHUN,  6th phase (31May2020 - 26Jun2020): finished 1909 trials in 1 min  0 sec"
     ]
    },
    {
     "name": "stdout",
     "output_type": "stream",
     "text": [
      "\n"
     ]
    },
    {
     "name": "stdout",
     "output_type": "stream",
     "text": [
      "\tDZA,  8th phase (14Aug2020 - 23Aug2020): finished  241 trials in 0 min  5 sec"
     ]
    },
    {
     "name": "stdout",
     "output_type": "stream",
     "text": [
      "\n"
     ]
    },
    {
     "name": "stdout",
     "output_type": "stream",
     "text": [
      "\tPER,  9th phase (28Aug2020 - 07Sep2020): finished 1922 trials in 1 min  0 sec"
     ]
    },
    {
     "name": "stdout",
     "output_type": "stream",
     "text": [
      "\n"
     ]
    },
    {
     "name": "stdout",
     "output_type": "stream",
     "text": [
      "\tITA,  8th phase (16Jun2020 - 04Aug2020): finished  792 trials in 0 min 20 sec"
     ]
    },
    {
     "name": "stdout",
     "output_type": "stream",
     "text": [
      "\n"
     ]
    },
    {
     "name": "stdout",
     "output_type": "stream",
     "text": [
      "\tITA,  7th phase (22May2020 - 15Jun2020): finished  631 trials in 0 min 15 sec"
     ]
    },
    {
     "name": "stdout",
     "output_type": "stream",
     "text": [
      "\n"
     ]
    },
    {
     "name": "stdout",
     "output_type": "stream",
     "text": [
      "\tITA,  5th phase (02May2020 - 10May2020): finished  453 trials in 0 min 10 sec"
     ]
    },
    {
     "name": "stdout",
     "output_type": "stream",
     "text": [
      "\n"
     ]
    },
    {
     "name": "stdout",
     "output_type": "stream",
     "text": [
      "\tTUR,  1st phase (17Apr2020 - 29Apr2020): finished 1906 trials in 1 min  0 sec"
     ]
    },
    {
     "name": "stdout",
     "output_type": "stream",
     "text": [
      "\n"
     ]
    },
    {
     "name": "stdout",
     "output_type": "stream",
     "text": [
      "\tPRT,  2nd phase (18May2020 - 01Jun2020): finished 1926 trials in 1 min  0 sec"
     ]
    },
    {
     "name": "stdout",
     "output_type": "stream",
     "text": [
      "\n"
     ]
    },
    {
     "name": "stdout",
     "output_type": "stream",
     "text": [
      "\tIRN,  4th phase (01Jun2020 - 16Jun2020): finished 1876 trials in 0 min 55 sec"
     ]
    },
    {
     "name": "stdout",
     "output_type": "stream",
     "text": [
      "\n"
     ]
    },
    {
     "name": "stdout",
     "output_type": "stream",
     "text": [
      "\tITA,  6th phase (11May2020 - 21May2020): finished  263 trials in 0 min  5 sec"
     ]
    },
    {
     "name": "stdout",
     "output_type": "stream",
     "text": [
      "\n"
     ]
    },
    {
     "name": "stdout",
     "output_type": "stream",
     "text": [
      "\tEST,  1st phase (08Apr2020 - 18Apr2020): finished 2027 trials in 1 min  0 sec"
     ]
    },
    {
     "name": "stdout",
     "output_type": "stream",
     "text": [
      "\n"
     ]
    },
    {
     "name": "stdout",
     "output_type": "stream",
     "text": [
      "\tPER,  6th phase (31Jul2020 - 10Aug2020): finished 2078 trials in 1 min  0 sec"
     ]
    },
    {
     "name": "stdout",
     "output_type": "stream",
     "text": [
      "\n"
     ]
    },
    {
     "name": "stdout",
     "output_type": "stream",
     "text": [
      "\tFRA,  6th phase (27May2020 - 25Jun2020): finished 2046 trials in 1 min  0 sec"
     ]
    },
    {
     "name": "stdout",
     "output_type": "stream",
     "text": [
      "\n"
     ]
    },
    {
     "name": "stdout",
     "output_type": "stream",
     "text": [
      "\tBRA,  6th phase (29Jul2020 - 05Aug2020): finished 1233 trials in 0 min 30 sec"
     ]
    },
    {
     "name": "stdout",
     "output_type": "stream",
     "text": [
      "\n"
     ]
    },
    {
     "name": "stdout",
     "output_type": "stream",
     "text": [
      "\tRUS,  0th phase (12Feb2020 - 06May2020): finished 2116 trials in 1 min  0 sec"
     ]
    },
    {
     "name": "stdout",
     "output_type": "stream",
     "text": [
      "\n"
     ]
    },
    {
     "name": "stdout",
     "output_type": "stream",
     "text": [
      "\tFRA,  7th phase (26Jun2020 - 21Jul2020): finished  514 trials in 0 min 10 sec"
     ]
    },
    {
     "name": "stdout",
     "output_type": "stream",
     "text": [
      "\n"
     ]
    },
    {
     "name": "stdout",
     "output_type": "stream",
     "text": [
      "Completed optimization. Total: 45 min 39 sec"
     ]
    },
    {
     "name": "stdout",
     "output_type": "stream",
     "text": [
      "\n"
     ]
    }
   ],
   "source": [
    "# Parameter estimation with SIR-F model\n",
    "analyser.estimate(cs.SIRF)"
   ]
  },
  {
   "cell_type": "code",
   "execution_count": 12,
   "metadata": {
    "collapsed": false
   },
   "outputs": [
    {
     "data": {
      "text/html": [
       "<div>\n",
       "<style scoped>\n",
       "    .dataframe tbody tr th:only-of-type {\n",
       "        vertical-align: middle;\n",
       "    }\n",
       "\n",
       "    .dataframe tbody tr th {\n",
       "        vertical-align: top;\n",
       "    }\n",
       "\n",
       "    .dataframe thead th {\n",
       "        text-align: right;\n",
       "    }\n",
       "</style>\n",
       "<table border=\"1\" class=\"dataframe\">\n",
       "  <thead>\n",
       "    <tr style=\"text-align: right;\">\n",
       "      <th></th>\n",
       "      <th></th>\n",
       "      <th>Type</th>\n",
       "      <th>Start</th>\n",
       "      <th>End</th>\n",
       "      <th>Population</th>\n",
       "      <th>ODE</th>\n",
       "      <th>Rt</th>\n",
       "      <th>theta</th>\n",
       "      <th>kappa</th>\n",
       "      <th>rho</th>\n",
       "      <th>sigma</th>\n",
       "      <th>tau</th>\n",
       "      <th>alpha1 [-]</th>\n",
       "      <th>1/alpha2 [day]</th>\n",
       "      <th>1/beta [day]</th>\n",
       "      <th>1/gamma [day]</th>\n",
       "      <th>RMSLE</th>\n",
       "      <th>Trials</th>\n",
       "      <th>Runtime</th>\n",
       "    </tr>\n",
       "    <tr>\n",
       "      <th>Country</th>\n",
       "      <th>Phase</th>\n",
       "      <th></th>\n",
       "      <th></th>\n",
       "      <th></th>\n",
       "      <th></th>\n",
       "      <th></th>\n",
       "      <th></th>\n",
       "      <th></th>\n",
       "      <th></th>\n",
       "      <th></th>\n",
       "      <th></th>\n",
       "      <th></th>\n",
       "      <th></th>\n",
       "      <th></th>\n",
       "      <th></th>\n",
       "      <th></th>\n",
       "      <th></th>\n",
       "      <th></th>\n",
       "      <th></th>\n",
       "    </tr>\n",
       "  </thead>\n",
       "  <tbody>\n",
       "    <tr>\n",
       "      <th rowspan=\"13\" valign=\"top\">Russia</th>\n",
       "      <th>0th</th>\n",
       "      <td>Past</td>\n",
       "      <td>12Feb2020</td>\n",
       "      <td>06May2020</td>\n",
       "      <td>330457362</td>\n",
       "      <td>SIR-F</td>\n",
       "      <td>0.02</td>\n",
       "      <td>0.602763</td>\n",
       "      <td>0.544883</td>\n",
       "      <td>0.0340813</td>\n",
       "      <td>0.00229851</td>\n",
       "      <td>360</td>\n",
       "      <td>0.603</td>\n",
       "      <td>0</td>\n",
       "      <td>7</td>\n",
       "      <td>108</td>\n",
       "      <td>18.9667</td>\n",
       "      <td>2116</td>\n",
       "      <td>1 min  0 sec</td>\n",
       "    </tr>\n",
       "    <tr>\n",
       "      <th>1st</th>\n",
       "      <td>Past</td>\n",
       "      <td>07May2020</td>\n",
       "      <td>15May2020</td>\n",
       "      <td>330457362</td>\n",
       "      <td>SIR-F</td>\n",
       "      <td>2.46</td>\n",
       "      <td>0.000638701</td>\n",
       "      <td>0.000116581</td>\n",
       "      <td>0.0130188</td>\n",
       "      <td>0.00517845</td>\n",
       "      <td>360</td>\n",
       "      <td>0.001</td>\n",
       "      <td>2144</td>\n",
       "      <td>19</td>\n",
       "      <td>48</td>\n",
       "      <td>0.0663921</td>\n",
       "      <td>1470</td>\n",
       "      <td>1 min  0 sec</td>\n",
       "    </tr>\n",
       "    <tr>\n",
       "      <th>2nd</th>\n",
       "      <td>Past</td>\n",
       "      <td>16May2020</td>\n",
       "      <td>23May2020</td>\n",
       "      <td>330457362</td>\n",
       "      <td>SIR-F</td>\n",
       "      <td>1.51</td>\n",
       "      <td>0.000440065</td>\n",
       "      <td>9.8046e-05</td>\n",
       "      <td>0.00763724</td>\n",
       "      <td>0.00494162</td>\n",
       "      <td>360</td>\n",
       "      <td>0</td>\n",
       "      <td>2549</td>\n",
       "      <td>32</td>\n",
       "      <td>50</td>\n",
       "      <td>0.0570082</td>\n",
       "      <td>1469</td>\n",
       "      <td>1 min  0 sec</td>\n",
       "    </tr>\n",
       "    <tr>\n",
       "      <th>3rd</th>\n",
       "      <td>Past</td>\n",
       "      <td>24May2020</td>\n",
       "      <td>01Jun2020</td>\n",
       "      <td>330457362</td>\n",
       "      <td>SIR-F</td>\n",
       "      <td>1.08</td>\n",
       "      <td>0.000343538</td>\n",
       "      <td>0.000113249</td>\n",
       "      <td>0.00557086</td>\n",
       "      <td>0.00505496</td>\n",
       "      <td>360</td>\n",
       "      <td>0</td>\n",
       "      <td>2207</td>\n",
       "      <td>44</td>\n",
       "      <td>49</td>\n",
       "      <td>0.0763248</td>\n",
       "      <td>1619</td>\n",
       "      <td>1 min  0 sec</td>\n",
       "    </tr>\n",
       "    <tr>\n",
       "      <th>4th</th>\n",
       "      <td>Past</td>\n",
       "      <td>02Jun2020</td>\n",
       "      <td>11Jun2020</td>\n",
       "      <td>330457362</td>\n",
       "      <td>SIR-F</td>\n",
       "      <td>0.98</td>\n",
       "      <td>0.0181654</td>\n",
       "      <td>9.96754e-06</td>\n",
       "      <td>0.00479178</td>\n",
       "      <td>0.00480376</td>\n",
       "      <td>360</td>\n",
       "      <td>0.018</td>\n",
       "      <td>25081</td>\n",
       "      <td>52</td>\n",
       "      <td>52</td>\n",
       "      <td>0.0727387</td>\n",
       "      <td>1935</td>\n",
       "      <td>1 min  0 sec</td>\n",
       "    </tr>\n",
       "    <tr>\n",
       "      <th>5th</th>\n",
       "      <td>Past</td>\n",
       "      <td>12Jun2020</td>\n",
       "      <td>20Jun2020</td>\n",
       "      <td>330457362</td>\n",
       "      <td>SIR-F</td>\n",
       "      <td>0.82</td>\n",
       "      <td>0.0218621</td>\n",
       "      <td>1.88817e-06</td>\n",
       "      <td>0.00354709</td>\n",
       "      <td>0.00424531</td>\n",
       "      <td>360</td>\n",
       "      <td>0.022</td>\n",
       "      <td>132403</td>\n",
       "      <td>70</td>\n",
       "      <td>58</td>\n",
       "      <td>0.0597586</td>\n",
       "      <td>1609</td>\n",
       "      <td>1 min  0 sec</td>\n",
       "    </tr>\n",
       "    <tr>\n",
       "      <th>6th</th>\n",
       "      <td>Past</td>\n",
       "      <td>21Jun2020</td>\n",
       "      <td>30Jun2020</td>\n",
       "      <td>330457362</td>\n",
       "      <td>SIR-F</td>\n",
       "      <td>0.9</td>\n",
       "      <td>0.021825</td>\n",
       "      <td>1.88817e-06</td>\n",
       "      <td>0.00276866</td>\n",
       "      <td>0.00301643</td>\n",
       "      <td>360</td>\n",
       "      <td>0.022</td>\n",
       "      <td>132403</td>\n",
       "      <td>90</td>\n",
       "      <td>82</td>\n",
       "      <td>0.0496409</td>\n",
       "      <td>1850</td>\n",
       "      <td>1 min  0 sec</td>\n",
       "    </tr>\n",
       "    <tr>\n",
       "      <th>7th</th>\n",
       "      <td>Past</td>\n",
       "      <td>01Jul2020</td>\n",
       "      <td>11Jul2020</td>\n",
       "      <td>330457362</td>\n",
       "      <td>SIR-F</td>\n",
       "      <td>0.79</td>\n",
       "      <td>0.000172037</td>\n",
       "      <td>5.69685e-05</td>\n",
       "      <td>0.00233996</td>\n",
       "      <td>0.00289466</td>\n",
       "      <td>360</td>\n",
       "      <td>0</td>\n",
       "      <td>4388</td>\n",
       "      <td>106</td>\n",
       "      <td>86</td>\n",
       "      <td>0.0525504</td>\n",
       "      <td>1520</td>\n",
       "      <td>1 min  0 sec</td>\n",
       "    </tr>\n",
       "    <tr>\n",
       "      <th>8th</th>\n",
       "      <td>Past</td>\n",
       "      <td>12Jul2020</td>\n",
       "      <td>24Jul2020</td>\n",
       "      <td>330457362</td>\n",
       "      <td>SIR-F</td>\n",
       "      <td>0.72</td>\n",
       "      <td>0.0176664</td>\n",
       "      <td>2.37425e-05</td>\n",
       "      <td>0.00193285</td>\n",
       "      <td>0.00263167</td>\n",
       "      <td>360</td>\n",
       "      <td>0.018</td>\n",
       "      <td>10529</td>\n",
       "      <td>129</td>\n",
       "      <td>94</td>\n",
       "      <td>0.0636468</td>\n",
       "      <td>1127</td>\n",
       "      <td>1 min  0 sec</td>\n",
       "    </tr>\n",
       "    <tr>\n",
       "      <th>9th</th>\n",
       "      <td>Past</td>\n",
       "      <td>25Jul2020</td>\n",
       "      <td>07Aug2020</td>\n",
       "      <td>330457362</td>\n",
       "      <td>SIR-F</td>\n",
       "      <td>0.78</td>\n",
       "      <td>0.0205683</td>\n",
       "      <td>3.65782e-06</td>\n",
       "      <td>0.0016005</td>\n",
       "      <td>0.0020129</td>\n",
       "      <td>360</td>\n",
       "      <td>0.021</td>\n",
       "      <td>68346</td>\n",
       "      <td>156</td>\n",
       "      <td>124</td>\n",
       "      <td>0.0522163</td>\n",
       "      <td>1415</td>\n",
       "      <td>1 min  0 sec</td>\n",
       "    </tr>\n",
       "    <tr>\n",
       "      <th>10th</th>\n",
       "      <td>Past</td>\n",
       "      <td>08Aug2020</td>\n",
       "      <td>21Aug2020</td>\n",
       "      <td>330457362</td>\n",
       "      <td>SIR-F</td>\n",
       "      <td>0.81</td>\n",
       "      <td>5.50848e-05</td>\n",
       "      <td>4.07928e-05</td>\n",
       "      <td>0.00134742</td>\n",
       "      <td>0.00161482</td>\n",
       "      <td>360</td>\n",
       "      <td>0</td>\n",
       "      <td>6128</td>\n",
       "      <td>185</td>\n",
       "      <td>154</td>\n",
       "      <td>0.0447617</td>\n",
       "      <td>1160</td>\n",
       "      <td>1 min  0 sec</td>\n",
       "    </tr>\n",
       "    <tr>\n",
       "      <th>11th</th>\n",
       "      <td>Past</td>\n",
       "      <td>22Aug2020</td>\n",
       "      <td>05Sep2020</td>\n",
       "      <td>330457362</td>\n",
       "      <td>-</td>\n",
       "      <td>-</td>\n",
       "      <td>-</td>\n",
       "      <td>-</td>\n",
       "      <td>-</td>\n",
       "      <td>-</td>\n",
       "      <td>-</td>\n",
       "      <td>-</td>\n",
       "      <td>-</td>\n",
       "      <td>-</td>\n",
       "      <td>-</td>\n",
       "      <td>-</td>\n",
       "      <td>-</td>\n",
       "      <td>-</td>\n",
       "    </tr>\n",
       "    <tr>\n",
       "      <th>12th</th>\n",
       "      <td>Past</td>\n",
       "      <td>06Sep2020</td>\n",
       "      <td>20Sep2020</td>\n",
       "      <td>330457362</td>\n",
       "      <td>-</td>\n",
       "      <td>-</td>\n",
       "      <td>-</td>\n",
       "      <td>-</td>\n",
       "      <td>-</td>\n",
       "      <td>-</td>\n",
       "      <td>-</td>\n",
       "      <td>-</td>\n",
       "      <td>-</td>\n",
       "      <td>-</td>\n",
       "      <td>-</td>\n",
       "      <td>-</td>\n",
       "      <td>-</td>\n",
       "      <td>-</td>\n",
       "    </tr>\n",
       "  </tbody>\n",
       "</table>\n",
       "</div>"
      ],
      "text/plain": [
       "               Type      Start        End  Population    ODE    Rt  \\\n",
       "Country Phase                                                        \n",
       "Russia  0th    Past  12Feb2020  06May2020   330457362  SIR-F  0.02   \n",
       "        1st    Past  07May2020  15May2020   330457362  SIR-F  2.46   \n",
       "        2nd    Past  16May2020  23May2020   330457362  SIR-F  1.51   \n",
       "        3rd    Past  24May2020  01Jun2020   330457362  SIR-F  1.08   \n",
       "        4th    Past  02Jun2020  11Jun2020   330457362  SIR-F  0.98   \n",
       "        5th    Past  12Jun2020  20Jun2020   330457362  SIR-F  0.82   \n",
       "        6th    Past  21Jun2020  30Jun2020   330457362  SIR-F   0.9   \n",
       "        7th    Past  01Jul2020  11Jul2020   330457362  SIR-F  0.79   \n",
       "        8th    Past  12Jul2020  24Jul2020   330457362  SIR-F  0.72   \n",
       "        9th    Past  25Jul2020  07Aug2020   330457362  SIR-F  0.78   \n",
       "        10th   Past  08Aug2020  21Aug2020   330457362  SIR-F  0.81   \n",
       "        11th   Past  22Aug2020  05Sep2020   330457362      -     -   \n",
       "        12th   Past  06Sep2020  20Sep2020   330457362      -     -   \n",
       "\n",
       "                     theta        kappa         rho       sigma  tau  \\\n",
       "Country Phase                                                          \n",
       "Russia  0th       0.602763     0.544883   0.0340813  0.00229851  360   \n",
       "        1st    0.000638701  0.000116581   0.0130188  0.00517845  360   \n",
       "        2nd    0.000440065   9.8046e-05  0.00763724  0.00494162  360   \n",
       "        3rd    0.000343538  0.000113249  0.00557086  0.00505496  360   \n",
       "        4th      0.0181654  9.96754e-06  0.00479178  0.00480376  360   \n",
       "        5th      0.0218621  1.88817e-06  0.00354709  0.00424531  360   \n",
       "        6th       0.021825  1.88817e-06  0.00276866  0.00301643  360   \n",
       "        7th    0.000172037  5.69685e-05  0.00233996  0.00289466  360   \n",
       "        8th      0.0176664  2.37425e-05  0.00193285  0.00263167  360   \n",
       "        9th      0.0205683  3.65782e-06   0.0016005   0.0020129  360   \n",
       "        10th   5.50848e-05  4.07928e-05  0.00134742  0.00161482  360   \n",
       "        11th             -            -           -           -    -   \n",
       "        12th             -            -           -           -    -   \n",
       "\n",
       "              alpha1 [-] 1/alpha2 [day] 1/beta [day] 1/gamma [day]      RMSLE  \\\n",
       "Country Phase                                                                   \n",
       "Russia  0th        0.603              0            7           108    18.9667   \n",
       "        1st        0.001           2144           19            48  0.0663921   \n",
       "        2nd            0           2549           32            50  0.0570082   \n",
       "        3rd            0           2207           44            49  0.0763248   \n",
       "        4th        0.018          25081           52            52  0.0727387   \n",
       "        5th        0.022         132403           70            58  0.0597586   \n",
       "        6th        0.022         132403           90            82  0.0496409   \n",
       "        7th            0           4388          106            86  0.0525504   \n",
       "        8th        0.018          10529          129            94  0.0636468   \n",
       "        9th        0.021          68346          156           124  0.0522163   \n",
       "        10th           0           6128          185           154  0.0447617   \n",
       "        11th           -              -            -             -          -   \n",
       "        12th           -              -            -             -          -   \n",
       "\n",
       "              Trials       Runtime  \n",
       "Country Phase                       \n",
       "Russia  0th     2116  1 min  0 sec  \n",
       "        1st     1470  1 min  0 sec  \n",
       "        2nd     1469  1 min  0 sec  \n",
       "        3rd     1619  1 min  0 sec  \n",
       "        4th     1935  1 min  0 sec  \n",
       "        5th     1609  1 min  0 sec  \n",
       "        6th     1850  1 min  0 sec  \n",
       "        7th     1520  1 min  0 sec  \n",
       "        8th     1127  1 min  0 sec  \n",
       "        9th     1415  1 min  0 sec  \n",
       "        10th    1160  1 min  0 sec  \n",
       "        11th       -             -  \n",
       "        12th       -             -  "
      ]
     },
     "execution_count": 12,
     "metadata": {},
     "output_type": "execute_result"
    }
   ],
   "source": [
    "# Show summary\n",
    "analyser.summary(countries=countries_show)"
   ]
  },
  {
   "cell_type": "markdown",
   "metadata": {},
   "source": [
    "## Compare the history of parameters\n",
    "Here, compare the history of parameter values if countries."
   ]
  },
  {
   "cell_type": "code",
   "execution_count": 13,
   "metadata": {
    "collapsed": false
   },
   "outputs": [
    {
     "data": {
      "text/html": [
       "<div>\n",
       "<style scoped>\n",
       "    .dataframe tbody tr th:only-of-type {\n",
       "        vertical-align: middle;\n",
       "    }\n",
       "\n",
       "    .dataframe tbody tr th {\n",
       "        vertical-align: top;\n",
       "    }\n",
       "\n",
       "    .dataframe thead th {\n",
       "        text-align: right;\n",
       "    }\n",
       "</style>\n",
       "<table border=\"1\" class=\"dataframe\">\n",
       "  <thead>\n",
       "    <tr style=\"text-align: right;\">\n",
       "      <th></th>\n",
       "      <th>Date</th>\n",
       "      <th>Country</th>\n",
       "      <th>theta</th>\n",
       "      <th>kappa</th>\n",
       "      <th>rho</th>\n",
       "      <th>sigma</th>\n",
       "      <th>alpha1 [-]</th>\n",
       "      <th>1/alpha2 [day]</th>\n",
       "      <th>1/beta [day]</th>\n",
       "      <th>1/gamma [day]</th>\n",
       "      <th>...</th>\n",
       "      <th>Cancel_events</th>\n",
       "      <th>Gatherings_restrictions</th>\n",
       "      <th>Transport_closing</th>\n",
       "      <th>Stay_home_restrictions</th>\n",
       "      <th>Internal_movement_restrictions</th>\n",
       "      <th>International_movement_restrictions</th>\n",
       "      <th>Information_campaigns</th>\n",
       "      <th>Testing_policy</th>\n",
       "      <th>Contact_tracing</th>\n",
       "      <th>Stringency_index</th>\n",
       "    </tr>\n",
       "  </thead>\n",
       "  <tbody>\n",
       "    <tr>\n",
       "      <th>0</th>\n",
       "      <td>2020-02-09</td>\n",
       "      <td>United States</td>\n",
       "      <td>0.0176952</td>\n",
       "      <td>0.00037242</td>\n",
       "      <td>0.0135994</td>\n",
       "      <td>0.00147915</td>\n",
       "      <td>0.018</td>\n",
       "      <td>671</td>\n",
       "      <td>18</td>\n",
       "      <td>169</td>\n",
       "      <td>...</td>\n",
       "      <td>0</td>\n",
       "      <td>0</td>\n",
       "      <td>0</td>\n",
       "      <td>0</td>\n",
       "      <td>0</td>\n",
       "      <td>2</td>\n",
       "      <td>0</td>\n",
       "      <td>0</td>\n",
       "      <td>1</td>\n",
       "      <td>5.56</td>\n",
       "    </tr>\n",
       "    <tr>\n",
       "      <th>1</th>\n",
       "      <td>2020-02-09</td>\n",
       "      <td>United States</td>\n",
       "      <td>0.0176952</td>\n",
       "      <td>0.00037242</td>\n",
       "      <td>0.0135994</td>\n",
       "      <td>0.00147915</td>\n",
       "      <td>0.018</td>\n",
       "      <td>671</td>\n",
       "      <td>18</td>\n",
       "      <td>169</td>\n",
       "      <td>...</td>\n",
       "      <td>0</td>\n",
       "      <td>0</td>\n",
       "      <td>0</td>\n",
       "      <td>0</td>\n",
       "      <td>0</td>\n",
       "      <td>0</td>\n",
       "      <td>0</td>\n",
       "      <td>0</td>\n",
       "      <td>0</td>\n",
       "      <td>0.00</td>\n",
       "    </tr>\n",
       "    <tr>\n",
       "      <th>2</th>\n",
       "      <td>2020-02-09</td>\n",
       "      <td>United States</td>\n",
       "      <td>0.0176952</td>\n",
       "      <td>0.00037242</td>\n",
       "      <td>0.0135994</td>\n",
       "      <td>0.00147915</td>\n",
       "      <td>0.018</td>\n",
       "      <td>671</td>\n",
       "      <td>18</td>\n",
       "      <td>169</td>\n",
       "      <td>...</td>\n",
       "      <td>0</td>\n",
       "      <td>0</td>\n",
       "      <td>0</td>\n",
       "      <td>0</td>\n",
       "      <td>0</td>\n",
       "      <td>0</td>\n",
       "      <td>0</td>\n",
       "      <td>0</td>\n",
       "      <td>0</td>\n",
       "      <td>0.00</td>\n",
       "    </tr>\n",
       "    <tr>\n",
       "      <th>3</th>\n",
       "      <td>2020-02-09</td>\n",
       "      <td>United States</td>\n",
       "      <td>0.0176952</td>\n",
       "      <td>0.00037242</td>\n",
       "      <td>0.0135994</td>\n",
       "      <td>0.00147915</td>\n",
       "      <td>0.018</td>\n",
       "      <td>671</td>\n",
       "      <td>18</td>\n",
       "      <td>169</td>\n",
       "      <td>...</td>\n",
       "      <td>0</td>\n",
       "      <td>0</td>\n",
       "      <td>0</td>\n",
       "      <td>0</td>\n",
       "      <td>0</td>\n",
       "      <td>0</td>\n",
       "      <td>0</td>\n",
       "      <td>0</td>\n",
       "      <td>0</td>\n",
       "      <td>0.00</td>\n",
       "    </tr>\n",
       "    <tr>\n",
       "      <th>4</th>\n",
       "      <td>2020-02-09</td>\n",
       "      <td>United States</td>\n",
       "      <td>0.0176952</td>\n",
       "      <td>0.00037242</td>\n",
       "      <td>0.0135994</td>\n",
       "      <td>0.00147915</td>\n",
       "      <td>0.018</td>\n",
       "      <td>671</td>\n",
       "      <td>18</td>\n",
       "      <td>169</td>\n",
       "      <td>...</td>\n",
       "      <td>0</td>\n",
       "      <td>0</td>\n",
       "      <td>0</td>\n",
       "      <td>0</td>\n",
       "      <td>0</td>\n",
       "      <td>0</td>\n",
       "      <td>0</td>\n",
       "      <td>0</td>\n",
       "      <td>0</td>\n",
       "      <td>0.00</td>\n",
       "    </tr>\n",
       "  </tbody>\n",
       "</table>\n",
       "<p>5 rows × 23 columns</p>\n",
       "</div>"
      ],
      "text/plain": [
       "        Date        Country      theta       kappa        rho       sigma  \\\n",
       "0 2020-02-09  United States  0.0176952  0.00037242  0.0135994  0.00147915   \n",
       "1 2020-02-09  United States  0.0176952  0.00037242  0.0135994  0.00147915   \n",
       "2 2020-02-09  United States  0.0176952  0.00037242  0.0135994  0.00147915   \n",
       "3 2020-02-09  United States  0.0176952  0.00037242  0.0135994  0.00147915   \n",
       "4 2020-02-09  United States  0.0176952  0.00037242  0.0135994  0.00147915   \n",
       "\n",
       "  alpha1 [-] 1/alpha2 [day] 1/beta [day] 1/gamma [day]  ... Cancel_events  \\\n",
       "0      0.018            671           18           169  ...             0   \n",
       "1      0.018            671           18           169  ...             0   \n",
       "2      0.018            671           18           169  ...             0   \n",
       "3      0.018            671           18           169  ...             0   \n",
       "4      0.018            671           18           169  ...             0   \n",
       "\n",
       "   Gatherings_restrictions  Transport_closing  Stay_home_restrictions  \\\n",
       "0                        0                  0                       0   \n",
       "1                        0                  0                       0   \n",
       "2                        0                  0                       0   \n",
       "3                        0                  0                       0   \n",
       "4                        0                  0                       0   \n",
       "\n",
       "   Internal_movement_restrictions  International_movement_restrictions  \\\n",
       "0                               0                                    2   \n",
       "1                               0                                    0   \n",
       "2                               0                                    0   \n",
       "3                               0                                    0   \n",
       "4                               0                                    0   \n",
       "\n",
       "   Information_campaigns  Testing_policy  Contact_tracing  Stringency_index  \n",
       "0                      0               0                1              5.56  \n",
       "1                      0               0                0              0.00  \n",
       "2                      0               0                0              0.00  \n",
       "3                      0               0                0              0.00  \n",
       "4                      0               0                0              0.00  \n",
       "\n",
       "[5 rows x 23 columns]"
      ]
     },
     "execution_count": 13,
     "metadata": {},
     "output_type": "execute_result"
    }
   ],
   "source": [
    "# All parameter/day parameter/Rt/OxCGRT\n",
    "analyser.track().head()"
   ]
  },
  {
   "cell_type": "markdown",
   "metadata": {},
   "source": [
    "### $Rt$: Reprodcution number $\\mathrm{[-]}$"
   ]
  },
  {
   "cell_type": "code",
   "execution_count": 14,
   "metadata": {
    "collapsed": false
   },
   "outputs": [
    {
     "data": {
      "image/png": "[encoded data removed]",
      "text/plain": [
       "<Figure size 648x432 with 1 Axes>"
      ]
     },
     "metadata": {},
     "output_type": "display_data"
    },
    {
     "data": {
      "text/html": [
       "<div>\n",
       "<style scoped>\n",
       "    .dataframe tbody tr th:only-of-type {\n",
       "        vertical-align: middle;\n",
       "    }\n",
       "\n",
       "    .dataframe tbody tr th {\n",
       "        vertical-align: top;\n",
       "    }\n",
       "\n",
       "    .dataframe thead th {\n",
       "        text-align: right;\n",
       "    }\n",
       "</style>\n",
       "<table border=\"1\" class=\"dataframe\">\n",
       "  <thead>\n",
       "    <tr style=\"text-align: right;\">\n",
       "      <th>Country</th>\n",
       "      <th>Algeria</th>\n",
       "      <th>Bahrain</th>\n",
       "      <th>Bangladesh</th>\n",
       "      <th>Bolivia</th>\n",
       "      <th>Brazil</th>\n",
       "      <th>Burkina Faso</th>\n",
       "      <th>Denmark</th>\n",
       "      <th>Dominican Republic</th>\n",
       "      <th>Estonia</th>\n",
       "      <th>France</th>\n",
       "      <th>...</th>\n",
       "      <th>Kuwait</th>\n",
       "      <th>Mexico</th>\n",
       "      <th>Moldova</th>\n",
       "      <th>Nigeria</th>\n",
       "      <th>Peru</th>\n",
       "      <th>Portugal</th>\n",
       "      <th>Russia</th>\n",
       "      <th>Turkey</th>\n",
       "      <th>United Arab Emirates</th>\n",
       "      <th>United States</th>\n",
       "    </tr>\n",
       "    <tr>\n",
       "      <th>Date</th>\n",
       "      <th></th>\n",
       "      <th></th>\n",
       "      <th></th>\n",
       "      <th></th>\n",
       "      <th></th>\n",
       "      <th></th>\n",
       "      <th></th>\n",
       "      <th></th>\n",
       "      <th></th>\n",
       "      <th></th>\n",
       "      <th></th>\n",
       "      <th></th>\n",
       "      <th></th>\n",
       "      <th></th>\n",
       "      <th></th>\n",
       "      <th></th>\n",
       "      <th></th>\n",
       "      <th></th>\n",
       "      <th></th>\n",
       "      <th></th>\n",
       "      <th></th>\n",
       "    </tr>\n",
       "  </thead>\n",
       "  <tbody>\n",
       "    <tr>\n",
       "      <th>2020-09-16</th>\n",
       "      <td>1.32</td>\n",
       "      <td>1.18</td>\n",
       "      <td>0.64</td>\n",
       "      <td>0.4</td>\n",
       "      <td>1.03</td>\n",
       "      <td>6.44</td>\n",
       "      <td>3.24</td>\n",
       "      <td>1.03</td>\n",
       "      <td>1.67</td>\n",
       "      <td>24.03</td>\n",
       "      <td>...</td>\n",
       "      <td>1.13</td>\n",
       "      <td>0.94</td>\n",
       "      <td>1.81</td>\n",
       "      <td>0.8</td>\n",
       "      <td>0.73</td>\n",
       "      <td>3.81</td>\n",
       "      <td>0.81</td>\n",
       "      <td>1.35</td>\n",
       "      <td>1.15</td>\n",
       "      <td>2.41</td>\n",
       "    </tr>\n",
       "    <tr>\n",
       "      <th>2020-09-17</th>\n",
       "      <td>1.32</td>\n",
       "      <td>1.18</td>\n",
       "      <td>0.64</td>\n",
       "      <td>0.4</td>\n",
       "      <td>1.03</td>\n",
       "      <td>6.44</td>\n",
       "      <td>3.24</td>\n",
       "      <td>1.03</td>\n",
       "      <td>1.67</td>\n",
       "      <td>24.03</td>\n",
       "      <td>...</td>\n",
       "      <td>1.13</td>\n",
       "      <td>0.94</td>\n",
       "      <td>1.81</td>\n",
       "      <td>0.8</td>\n",
       "      <td>0.73</td>\n",
       "      <td>3.81</td>\n",
       "      <td>0.81</td>\n",
       "      <td>1.35</td>\n",
       "      <td>1.15</td>\n",
       "      <td>2.41</td>\n",
       "    </tr>\n",
       "    <tr>\n",
       "      <th>2020-09-18</th>\n",
       "      <td>1.32</td>\n",
       "      <td>1.18</td>\n",
       "      <td>0.64</td>\n",
       "      <td>0.4</td>\n",
       "      <td>1.03</td>\n",
       "      <td>6.44</td>\n",
       "      <td>3.24</td>\n",
       "      <td>1.03</td>\n",
       "      <td>1.67</td>\n",
       "      <td>24.03</td>\n",
       "      <td>...</td>\n",
       "      <td>1.13</td>\n",
       "      <td>0.94</td>\n",
       "      <td>1.81</td>\n",
       "      <td>0.8</td>\n",
       "      <td>0.73</td>\n",
       "      <td>3.81</td>\n",
       "      <td>0.81</td>\n",
       "      <td>1.35</td>\n",
       "      <td>1.15</td>\n",
       "      <td>2.41</td>\n",
       "    </tr>\n",
       "    <tr>\n",
       "      <th>2020-09-19</th>\n",
       "      <td>1.32</td>\n",
       "      <td>1.18</td>\n",
       "      <td>0.64</td>\n",
       "      <td>0.4</td>\n",
       "      <td>1.03</td>\n",
       "      <td>6.44</td>\n",
       "      <td>3.24</td>\n",
       "      <td>1.03</td>\n",
       "      <td>1.67</td>\n",
       "      <td>24.03</td>\n",
       "      <td>...</td>\n",
       "      <td>1.13</td>\n",
       "      <td>0.94</td>\n",
       "      <td>1.81</td>\n",
       "      <td>0.8</td>\n",
       "      <td>0.73</td>\n",
       "      <td>3.81</td>\n",
       "      <td>0.81</td>\n",
       "      <td>1.35</td>\n",
       "      <td>1.15</td>\n",
       "      <td>2.41</td>\n",
       "    </tr>\n",
       "    <tr>\n",
       "      <th>2020-09-20</th>\n",
       "      <td>1.32</td>\n",
       "      <td>1.18</td>\n",
       "      <td>0.64</td>\n",
       "      <td>0.4</td>\n",
       "      <td>1.03</td>\n",
       "      <td>6.44</td>\n",
       "      <td>3.24</td>\n",
       "      <td>1.03</td>\n",
       "      <td>1.67</td>\n",
       "      <td>24.03</td>\n",
       "      <td>...</td>\n",
       "      <td>1.13</td>\n",
       "      <td>0.94</td>\n",
       "      <td>1.81</td>\n",
       "      <td>0.8</td>\n",
       "      <td>0.73</td>\n",
       "      <td>3.81</td>\n",
       "      <td>0.81</td>\n",
       "      <td>1.35</td>\n",
       "      <td>1.15</td>\n",
       "      <td>2.41</td>\n",
       "    </tr>\n",
       "  </tbody>\n",
       "</table>\n",
       "<p>5 rows × 24 columns</p>\n",
       "</div>"
      ],
      "text/plain": [
       "Country     Algeria  Bahrain  Bangladesh  Bolivia  Brazil  Burkina Faso  \\\n",
       "Date                                                                      \n",
       "2020-09-16     1.32     1.18        0.64      0.4    1.03          6.44   \n",
       "2020-09-17     1.32     1.18        0.64      0.4    1.03          6.44   \n",
       "2020-09-18     1.32     1.18        0.64      0.4    1.03          6.44   \n",
       "2020-09-19     1.32     1.18        0.64      0.4    1.03          6.44   \n",
       "2020-09-20     1.32     1.18        0.64      0.4    1.03          6.44   \n",
       "\n",
       "Country     Denmark  Dominican Republic  Estonia  France  ...  Kuwait  Mexico  \\\n",
       "Date                                                      ...                   \n",
       "2020-09-16     3.24                1.03     1.67   24.03  ...    1.13    0.94   \n",
       "2020-09-17     3.24                1.03     1.67   24.03  ...    1.13    0.94   \n",
       "2020-09-18     3.24                1.03     1.67   24.03  ...    1.13    0.94   \n",
       "2020-09-19     3.24                1.03     1.67   24.03  ...    1.13    0.94   \n",
       "2020-09-20     3.24                1.03     1.67   24.03  ...    1.13    0.94   \n",
       "\n",
       "Country     Moldova  Nigeria  Peru  Portugal  Russia  Turkey  \\\n",
       "Date                                                           \n",
       "2020-09-16     1.81      0.8  0.73      3.81    0.81    1.35   \n",
       "2020-09-17     1.81      0.8  0.73      3.81    0.81    1.35   \n",
       "2020-09-18     1.81      0.8  0.73      3.81    0.81    1.35   \n",
       "2020-09-19     1.81      0.8  0.73      3.81    0.81    1.35   \n",
       "2020-09-20     1.81      0.8  0.73      3.81    0.81    1.35   \n",
       "\n",
       "Country     United Arab Emirates  United States  \n",
       "Date                                             \n",
       "2020-09-16                  1.15           2.41  \n",
       "2020-09-17                  1.15           2.41  \n",
       "2020-09-18                  1.15           2.41  \n",
       "2020-09-19                  1.15           2.41  \n",
       "2020-09-20                  1.15           2.41  \n",
       "\n",
       "[5 rows x 24 columns]"
      ]
     },
     "execution_count": 14,
     "metadata": {},
     "output_type": "execute_result"
    }
   ],
   "source": [
    "analyser.param_history(\"Rt\", roll_window=None).tail()"
   ]
  },
  {
   "cell_type": "markdown",
   "metadata": {},
   "source": [
    "### $\\rho$: Effective contact rate $\\mathrm{[-]}$"
   ]
  },
  {
   "cell_type": "code",
   "execution_count": 15,
   "metadata": {
    "collapsed": false
   },
   "outputs": [
    {
     "data": {
      "image/png": "[encoded data removed]",
      "text/plain": [
       "<Figure size 648x432 with 1 Axes>"
      ]
     },
     "metadata": {},
     "output_type": "display_data"
    },
    {
     "data": {
      "text/html": [
       "<div>\n",
       "<style scoped>\n",
       "    .dataframe tbody tr th:only-of-type {\n",
       "        vertical-align: middle;\n",
       "    }\n",
       "\n",
       "    .dataframe tbody tr th {\n",
       "        vertical-align: top;\n",
       "    }\n",
       "\n",
       "    .dataframe thead th {\n",
       "        text-align: right;\n",
       "    }\n",
       "</style>\n",
       "<table border=\"1\" class=\"dataframe\">\n",
       "  <thead>\n",
       "    <tr style=\"text-align: right;\">\n",
       "      <th>Country</th>\n",
       "      <th>Algeria</th>\n",
       "      <th>Bahrain</th>\n",
       "      <th>Bangladesh</th>\n",
       "      <th>Bolivia</th>\n",
       "      <th>Brazil</th>\n",
       "      <th>Burkina Faso</th>\n",
       "      <th>Denmark</th>\n",
       "      <th>Dominican Republic</th>\n",
       "      <th>Estonia</th>\n",
       "      <th>France</th>\n",
       "      <th>...</th>\n",
       "      <th>Kuwait</th>\n",
       "      <th>Mexico</th>\n",
       "      <th>Moldova</th>\n",
       "      <th>Nigeria</th>\n",
       "      <th>Peru</th>\n",
       "      <th>Portugal</th>\n",
       "      <th>Russia</th>\n",
       "      <th>Turkey</th>\n",
       "      <th>United Arab Emirates</th>\n",
       "      <th>United States</th>\n",
       "    </tr>\n",
       "    <tr>\n",
       "      <th>Date</th>\n",
       "      <th></th>\n",
       "      <th></th>\n",
       "      <th></th>\n",
       "      <th></th>\n",
       "      <th></th>\n",
       "      <th></th>\n",
       "      <th></th>\n",
       "      <th></th>\n",
       "      <th></th>\n",
       "      <th></th>\n",
       "      <th></th>\n",
       "      <th></th>\n",
       "      <th></th>\n",
       "      <th></th>\n",
       "      <th></th>\n",
       "      <th></th>\n",
       "      <th></th>\n",
       "      <th></th>\n",
       "      <th></th>\n",
       "      <th></th>\n",
       "      <th></th>\n",
       "    </tr>\n",
       "  </thead>\n",
       "  <tbody>\n",
       "    <tr>\n",
       "      <th>2020-09-16</th>\n",
       "      <td>0.010395</td>\n",
       "      <td>0.029278</td>\n",
       "      <td>0.004435</td>\n",
       "      <td>0.004145</td>\n",
       "      <td>0.021908</td>\n",
       "      <td>0.003842</td>\n",
       "      <td>0.030062</td>\n",
       "      <td>0.006822</td>\n",
       "      <td>0.017785</td>\n",
       "      <td>0.008056</td>\n",
       "      <td>...</td>\n",
       "      <td>0.021123</td>\n",
       "      <td>0.030623</td>\n",
       "      <td>0.01149</td>\n",
       "      <td>0.003231</td>\n",
       "      <td>0.002389</td>\n",
       "      <td>0.002751</td>\n",
       "      <td>0.001347</td>\n",
       "      <td>0.016633</td>\n",
       "      <td>0.017001</td>\n",
       "      <td>0.002468</td>\n",
       "    </tr>\n",
       "    <tr>\n",
       "      <th>2020-09-17</th>\n",
       "      <td>0.010395</td>\n",
       "      <td>0.029278</td>\n",
       "      <td>0.004435</td>\n",
       "      <td>0.004145</td>\n",
       "      <td>0.021908</td>\n",
       "      <td>0.003842</td>\n",
       "      <td>0.030062</td>\n",
       "      <td>0.006822</td>\n",
       "      <td>0.017785</td>\n",
       "      <td>0.008056</td>\n",
       "      <td>...</td>\n",
       "      <td>0.021123</td>\n",
       "      <td>0.030623</td>\n",
       "      <td>0.01149</td>\n",
       "      <td>0.003231</td>\n",
       "      <td>0.002389</td>\n",
       "      <td>0.002751</td>\n",
       "      <td>0.001347</td>\n",
       "      <td>0.016633</td>\n",
       "      <td>0.017001</td>\n",
       "      <td>0.002468</td>\n",
       "    </tr>\n",
       "    <tr>\n",
       "      <th>2020-09-18</th>\n",
       "      <td>0.010395</td>\n",
       "      <td>0.029278</td>\n",
       "      <td>0.004435</td>\n",
       "      <td>0.004145</td>\n",
       "      <td>0.021908</td>\n",
       "      <td>0.003842</td>\n",
       "      <td>0.030062</td>\n",
       "      <td>0.006822</td>\n",
       "      <td>0.017785</td>\n",
       "      <td>0.008056</td>\n",
       "      <td>...</td>\n",
       "      <td>0.021123</td>\n",
       "      <td>0.030623</td>\n",
       "      <td>0.01149</td>\n",
       "      <td>0.003231</td>\n",
       "      <td>0.002389</td>\n",
       "      <td>0.002751</td>\n",
       "      <td>0.001347</td>\n",
       "      <td>0.016633</td>\n",
       "      <td>0.017001</td>\n",
       "      <td>0.002468</td>\n",
       "    </tr>\n",
       "    <tr>\n",
       "      <th>2020-09-19</th>\n",
       "      <td>0.010395</td>\n",
       "      <td>0.029278</td>\n",
       "      <td>0.004435</td>\n",
       "      <td>0.004145</td>\n",
       "      <td>0.021908</td>\n",
       "      <td>0.003842</td>\n",
       "      <td>0.030062</td>\n",
       "      <td>0.006822</td>\n",
       "      <td>0.017785</td>\n",
       "      <td>0.008056</td>\n",
       "      <td>...</td>\n",
       "      <td>0.021123</td>\n",
       "      <td>0.030623</td>\n",
       "      <td>0.01149</td>\n",
       "      <td>0.003231</td>\n",
       "      <td>0.002389</td>\n",
       "      <td>0.002751</td>\n",
       "      <td>0.001347</td>\n",
       "      <td>0.016633</td>\n",
       "      <td>0.017001</td>\n",
       "      <td>0.002468</td>\n",
       "    </tr>\n",
       "    <tr>\n",
       "      <th>2020-09-20</th>\n",
       "      <td>0.010395</td>\n",
       "      <td>0.029278</td>\n",
       "      <td>0.004435</td>\n",
       "      <td>0.004145</td>\n",
       "      <td>0.021908</td>\n",
       "      <td>0.003842</td>\n",
       "      <td>0.030062</td>\n",
       "      <td>0.006822</td>\n",
       "      <td>0.017785</td>\n",
       "      <td>0.008056</td>\n",
       "      <td>...</td>\n",
       "      <td>0.021123</td>\n",
       "      <td>0.030623</td>\n",
       "      <td>0.01149</td>\n",
       "      <td>0.003231</td>\n",
       "      <td>0.002389</td>\n",
       "      <td>0.002751</td>\n",
       "      <td>0.001347</td>\n",
       "      <td>0.016633</td>\n",
       "      <td>0.017001</td>\n",
       "      <td>0.002468</td>\n",
       "    </tr>\n",
       "  </tbody>\n",
       "</table>\n",
       "<p>5 rows × 24 columns</p>\n",
       "</div>"
      ],
      "text/plain": [
       "Country      Algeria   Bahrain  Bangladesh   Bolivia    Brazil  Burkina Faso  \\\n",
       "Date                                                                           \n",
       "2020-09-16  0.010395  0.029278    0.004435  0.004145  0.021908      0.003842   \n",
       "2020-09-17  0.010395  0.029278    0.004435  0.004145  0.021908      0.003842   \n",
       "2020-09-18  0.010395  0.029278    0.004435  0.004145  0.021908      0.003842   \n",
       "2020-09-19  0.010395  0.029278    0.004435  0.004145  0.021908      0.003842   \n",
       "2020-09-20  0.010395  0.029278    0.004435  0.004145  0.021908      0.003842   \n",
       "\n",
       "Country      Denmark  Dominican Republic   Estonia    France  ...    Kuwait  \\\n",
       "Date                                                          ...             \n",
       "2020-09-16  0.030062            0.006822  0.017785  0.008056  ...  0.021123   \n",
       "2020-09-17  0.030062            0.006822  0.017785  0.008056  ...  0.021123   \n",
       "2020-09-18  0.030062            0.006822  0.017785  0.008056  ...  0.021123   \n",
       "2020-09-19  0.030062            0.006822  0.017785  0.008056  ...  0.021123   \n",
       "2020-09-20  0.030062            0.006822  0.017785  0.008056  ...  0.021123   \n",
       "\n",
       "Country       Mexico  Moldova   Nigeria      Peru  Portugal    Russia  \\\n",
       "Date                                                                    \n",
       "2020-09-16  0.030623  0.01149  0.003231  0.002389  0.002751  0.001347   \n",
       "2020-09-17  0.030623  0.01149  0.003231  0.002389  0.002751  0.001347   \n",
       "2020-09-18  0.030623  0.01149  0.003231  0.002389  0.002751  0.001347   \n",
       "2020-09-19  0.030623  0.01149  0.003231  0.002389  0.002751  0.001347   \n",
       "2020-09-20  0.030623  0.01149  0.003231  0.002389  0.002751  0.001347   \n",
       "\n",
       "Country       Turkey  United Arab Emirates  United States  \n",
       "Date                                                       \n",
       "2020-09-16  0.016633              0.017001       0.002468  \n",
       "2020-09-17  0.016633              0.017001       0.002468  \n",
       "2020-09-18  0.016633              0.017001       0.002468  \n",
       "2020-09-19  0.016633              0.017001       0.002468  \n",
       "2020-09-20  0.016633              0.017001       0.002468  \n",
       "\n",
       "[5 rows x 24 columns]"
      ]
     },
     "execution_count": 15,
     "metadata": {},
     "output_type": "execute_result"
    }
   ],
   "source": [
    "analyser.param_history(\"rho\", roll_window=None).tail()"
   ]
  },
  {
   "cell_type": "markdown",
   "metadata": {},
   "source": [
    "### $\\sigma$: Recovery rate $\\mathrm{[-]}$"
   ]
  },
  {
   "cell_type": "code",
   "execution_count": 16,
   "metadata": {
    "collapsed": false
   },
   "outputs": [
    {
     "data": {
      "image/png": "[encoded data removed]",
      "text/plain": [
       "<Figure size 648x432 with 1 Axes>"
      ]
     },
     "metadata": {},
     "output_type": "display_data"
    },
    {
     "data": {
      "text/html": [
       "<div>\n",
       "<style scoped>\n",
       "    .dataframe tbody tr th:only-of-type {\n",
       "        vertical-align: middle;\n",
       "    }\n",
       "\n",
       "    .dataframe tbody tr th {\n",
       "        vertical-align: top;\n",
       "    }\n",
       "\n",
       "    .dataframe thead th {\n",
       "        text-align: right;\n",
       "    }\n",
       "</style>\n",
       "<table border=\"1\" class=\"dataframe\">\n",
       "  <thead>\n",
       "    <tr style=\"text-align: right;\">\n",
       "      <th>Country</th>\n",
       "      <th>Algeria</th>\n",
       "      <th>Bahrain</th>\n",
       "      <th>Bangladesh</th>\n",
       "      <th>Bolivia</th>\n",
       "      <th>Brazil</th>\n",
       "      <th>Burkina Faso</th>\n",
       "      <th>Denmark</th>\n",
       "      <th>Dominican Republic</th>\n",
       "      <th>Estonia</th>\n",
       "      <th>France</th>\n",
       "      <th>...</th>\n",
       "      <th>Kuwait</th>\n",
       "      <th>Mexico</th>\n",
       "      <th>Moldova</th>\n",
       "      <th>Nigeria</th>\n",
       "      <th>Peru</th>\n",
       "      <th>Portugal</th>\n",
       "      <th>Russia</th>\n",
       "      <th>Turkey</th>\n",
       "      <th>United Arab Emirates</th>\n",
       "      <th>United States</th>\n",
       "    </tr>\n",
       "    <tr>\n",
       "      <th>Date</th>\n",
       "      <th></th>\n",
       "      <th></th>\n",
       "      <th></th>\n",
       "      <th></th>\n",
       "      <th></th>\n",
       "      <th></th>\n",
       "      <th></th>\n",
       "      <th></th>\n",
       "      <th></th>\n",
       "      <th></th>\n",
       "      <th></th>\n",
       "      <th></th>\n",
       "      <th></th>\n",
       "      <th></th>\n",
       "      <th></th>\n",
       "      <th></th>\n",
       "      <th></th>\n",
       "      <th></th>\n",
       "      <th></th>\n",
       "      <th></th>\n",
       "      <th></th>\n",
       "    </tr>\n",
       "  </thead>\n",
       "  <tbody>\n",
       "    <tr>\n",
       "      <th>2020-09-16</th>\n",
       "      <td>0.007685</td>\n",
       "      <td>0.024641</td>\n",
       "      <td>0.006852</td>\n",
       "      <td>0.009972</td>\n",
       "      <td>0.020773</td>\n",
       "      <td>0.000546</td>\n",
       "      <td>0.009214</td>\n",
       "      <td>0.006452</td>\n",
       "      <td>0.010599</td>\n",
       "      <td>0.000295</td>\n",
       "      <td>...</td>\n",
       "      <td>0.018597</td>\n",
       "      <td>0.029372</td>\n",
       "      <td>0.006223</td>\n",
       "      <td>0.003939</td>\n",
       "      <td>0.003223</td>\n",
       "      <td>0.000709</td>\n",
       "      <td>0.001615</td>\n",
       "      <td>0.011776</td>\n",
       "      <td>0.014704</td>\n",
       "      <td>0.000997</td>\n",
       "    </tr>\n",
       "    <tr>\n",
       "      <th>2020-09-17</th>\n",
       "      <td>0.007685</td>\n",
       "      <td>0.024641</td>\n",
       "      <td>0.006852</td>\n",
       "      <td>0.009972</td>\n",
       "      <td>0.020773</td>\n",
       "      <td>0.000546</td>\n",
       "      <td>0.009214</td>\n",
       "      <td>0.006452</td>\n",
       "      <td>0.010599</td>\n",
       "      <td>0.000295</td>\n",
       "      <td>...</td>\n",
       "      <td>0.018597</td>\n",
       "      <td>0.029372</td>\n",
       "      <td>0.006223</td>\n",
       "      <td>0.003939</td>\n",
       "      <td>0.003223</td>\n",
       "      <td>0.000709</td>\n",
       "      <td>0.001615</td>\n",
       "      <td>0.011776</td>\n",
       "      <td>0.014704</td>\n",
       "      <td>0.000997</td>\n",
       "    </tr>\n",
       "    <tr>\n",
       "      <th>2020-09-18</th>\n",
       "      <td>0.007685</td>\n",
       "      <td>0.024641</td>\n",
       "      <td>0.006852</td>\n",
       "      <td>0.009972</td>\n",
       "      <td>0.020773</td>\n",
       "      <td>0.000546</td>\n",
       "      <td>0.009214</td>\n",
       "      <td>0.006452</td>\n",
       "      <td>0.010599</td>\n",
       "      <td>0.000295</td>\n",
       "      <td>...</td>\n",
       "      <td>0.018597</td>\n",
       "      <td>0.029372</td>\n",
       "      <td>0.006223</td>\n",
       "      <td>0.003939</td>\n",
       "      <td>0.003223</td>\n",
       "      <td>0.000709</td>\n",
       "      <td>0.001615</td>\n",
       "      <td>0.011776</td>\n",
       "      <td>0.014704</td>\n",
       "      <td>0.000997</td>\n",
       "    </tr>\n",
       "    <tr>\n",
       "      <th>2020-09-19</th>\n",
       "      <td>0.007685</td>\n",
       "      <td>0.024641</td>\n",
       "      <td>0.006852</td>\n",
       "      <td>0.009972</td>\n",
       "      <td>0.020773</td>\n",
       "      <td>0.000546</td>\n",
       "      <td>0.009214</td>\n",
       "      <td>0.006452</td>\n",
       "      <td>0.010599</td>\n",
       "      <td>0.000295</td>\n",
       "      <td>...</td>\n",
       "      <td>0.018597</td>\n",
       "      <td>0.029372</td>\n",
       "      <td>0.006223</td>\n",
       "      <td>0.003939</td>\n",
       "      <td>0.003223</td>\n",
       "      <td>0.000709</td>\n",
       "      <td>0.001615</td>\n",
       "      <td>0.011776</td>\n",
       "      <td>0.014704</td>\n",
       "      <td>0.000997</td>\n",
       "    </tr>\n",
       "    <tr>\n",
       "      <th>2020-09-20</th>\n",
       "      <td>0.007685</td>\n",
       "      <td>0.024641</td>\n",
       "      <td>0.006852</td>\n",
       "      <td>0.009972</td>\n",
       "      <td>0.020773</td>\n",
       "      <td>0.000546</td>\n",
       "      <td>0.009214</td>\n",
       "      <td>0.006452</td>\n",
       "      <td>0.010599</td>\n",
       "      <td>0.000295</td>\n",
       "      <td>...</td>\n",
       "      <td>0.018597</td>\n",
       "      <td>0.029372</td>\n",
       "      <td>0.006223</td>\n",
       "      <td>0.003939</td>\n",
       "      <td>0.003223</td>\n",
       "      <td>0.000709</td>\n",
       "      <td>0.001615</td>\n",
       "      <td>0.011776</td>\n",
       "      <td>0.014704</td>\n",
       "      <td>0.000997</td>\n",
       "    </tr>\n",
       "  </tbody>\n",
       "</table>\n",
       "<p>5 rows × 24 columns</p>\n",
       "</div>"
      ],
      "text/plain": [
       "Country      Algeria   Bahrain  Bangladesh   Bolivia    Brazil  Burkina Faso  \\\n",
       "Date                                                                           \n",
       "2020-09-16  0.007685  0.024641    0.006852  0.009972  0.020773      0.000546   \n",
       "2020-09-17  0.007685  0.024641    0.006852  0.009972  0.020773      0.000546   \n",
       "2020-09-18  0.007685  0.024641    0.006852  0.009972  0.020773      0.000546   \n",
       "2020-09-19  0.007685  0.024641    0.006852  0.009972  0.020773      0.000546   \n",
       "2020-09-20  0.007685  0.024641    0.006852  0.009972  0.020773      0.000546   \n",
       "\n",
       "Country      Denmark  Dominican Republic   Estonia    France  ...    Kuwait  \\\n",
       "Date                                                          ...             \n",
       "2020-09-16  0.009214            0.006452  0.010599  0.000295  ...  0.018597   \n",
       "2020-09-17  0.009214            0.006452  0.010599  0.000295  ...  0.018597   \n",
       "2020-09-18  0.009214            0.006452  0.010599  0.000295  ...  0.018597   \n",
       "2020-09-19  0.009214            0.006452  0.010599  0.000295  ...  0.018597   \n",
       "2020-09-20  0.009214            0.006452  0.010599  0.000295  ...  0.018597   \n",
       "\n",
       "Country       Mexico   Moldova   Nigeria      Peru  Portugal    Russia  \\\n",
       "Date                                                                     \n",
       "2020-09-16  0.029372  0.006223  0.003939  0.003223  0.000709  0.001615   \n",
       "2020-09-17  0.029372  0.006223  0.003939  0.003223  0.000709  0.001615   \n",
       "2020-09-18  0.029372  0.006223  0.003939  0.003223  0.000709  0.001615   \n",
       "2020-09-19  0.029372  0.006223  0.003939  0.003223  0.000709  0.001615   \n",
       "2020-09-20  0.029372  0.006223  0.003939  0.003223  0.000709  0.001615   \n",
       "\n",
       "Country       Turkey  United Arab Emirates  United States  \n",
       "Date                                                       \n",
       "2020-09-16  0.011776              0.014704       0.000997  \n",
       "2020-09-17  0.011776              0.014704       0.000997  \n",
       "2020-09-18  0.011776              0.014704       0.000997  \n",
       "2020-09-19  0.011776              0.014704       0.000997  \n",
       "2020-09-20  0.011776              0.014704       0.000997  \n",
       "\n",
       "[5 rows x 24 columns]"
      ]
     },
     "execution_count": 16,
     "metadata": {},
     "output_type": "execute_result"
    }
   ],
   "source": [
    "analyser.param_history(\"sigma\", roll_window=None).tail()"
   ]
  },
  {
   "cell_type": "markdown",
   "metadata": {},
   "source": [
    "### $\\kappa$: Mortality rate of infected cases $\\mathrm{[-]}$"
   ]
  },
  {
   "cell_type": "code",
   "execution_count": 17,
   "metadata": {
    "collapsed": false
   },
   "outputs": [
    {
     "data": {
      "image/png": "[encoded data removed]",
      "text/plain": [
       "<Figure size 648x432 with 1 Axes>"
      ]
     },
     "metadata": {},
     "output_type": "display_data"
    },
    {
     "data": {
      "text/html": [
       "<div>\n",
       "<style scoped>\n",
       "    .dataframe tbody tr th:only-of-type {\n",
       "        vertical-align: middle;\n",
       "    }\n",
       "\n",
       "    .dataframe tbody tr th {\n",
       "        vertical-align: top;\n",
       "    }\n",
       "\n",
       "    .dataframe thead th {\n",
       "        text-align: right;\n",
       "    }\n",
       "</style>\n",
       "<table border=\"1\" class=\"dataframe\">\n",
       "  <thead>\n",
       "    <tr style=\"text-align: right;\">\n",
       "      <th>Country</th>\n",
       "      <th>Algeria</th>\n",
       "      <th>Bahrain</th>\n",
       "      <th>Bangladesh</th>\n",
       "      <th>Bolivia</th>\n",
       "      <th>Brazil</th>\n",
       "      <th>Burkina Faso</th>\n",
       "      <th>Denmark</th>\n",
       "      <th>Dominican Republic</th>\n",
       "      <th>Estonia</th>\n",
       "      <th>France</th>\n",
       "      <th>...</th>\n",
       "      <th>Kuwait</th>\n",
       "      <th>Mexico</th>\n",
       "      <th>Moldova</th>\n",
       "      <th>Nigeria</th>\n",
       "      <th>Peru</th>\n",
       "      <th>Portugal</th>\n",
       "      <th>Russia</th>\n",
       "      <th>Turkey</th>\n",
       "      <th>United Arab Emirates</th>\n",
       "      <th>United States</th>\n",
       "    </tr>\n",
       "    <tr>\n",
       "      <th>Date</th>\n",
       "      <th></th>\n",
       "      <th></th>\n",
       "      <th></th>\n",
       "      <th></th>\n",
       "      <th></th>\n",
       "      <th></th>\n",
       "      <th></th>\n",
       "      <th></th>\n",
       "      <th></th>\n",
       "      <th></th>\n",
       "      <th></th>\n",
       "      <th></th>\n",
       "      <th></th>\n",
       "      <th></th>\n",
       "      <th></th>\n",
       "      <th></th>\n",
       "      <th></th>\n",
       "      <th></th>\n",
       "      <th></th>\n",
       "      <th></th>\n",
       "      <th></th>\n",
       "    </tr>\n",
       "  </thead>\n",
       "  <tbody>\n",
       "    <tr>\n",
       "      <th>2020-09-16</th>\n",
       "      <td>0.000193</td>\n",
       "      <td>0.000109</td>\n",
       "      <td>0.000076</td>\n",
       "      <td>0.000213</td>\n",
       "      <td>0.000486</td>\n",
       "      <td>0.00005</td>\n",
       "      <td>0.00006</td>\n",
       "      <td>0.000152</td>\n",
       "      <td>0.000037</td>\n",
       "      <td>0.000041</td>\n",
       "      <td>...</td>\n",
       "      <td>0.000046</td>\n",
       "      <td>0.000479</td>\n",
       "      <td>0.000002</td>\n",
       "      <td>0.000033</td>\n",
       "      <td>0.000064</td>\n",
       "      <td>0.00001</td>\n",
       "      <td>0.000041</td>\n",
       "      <td>0.000531</td>\n",
       "      <td>0.000024</td>\n",
       "      <td>0.000024</td>\n",
       "    </tr>\n",
       "    <tr>\n",
       "      <th>2020-09-17</th>\n",
       "      <td>0.000193</td>\n",
       "      <td>0.000109</td>\n",
       "      <td>0.000076</td>\n",
       "      <td>0.000213</td>\n",
       "      <td>0.000486</td>\n",
       "      <td>0.00005</td>\n",
       "      <td>0.00006</td>\n",
       "      <td>0.000152</td>\n",
       "      <td>0.000037</td>\n",
       "      <td>0.000041</td>\n",
       "      <td>...</td>\n",
       "      <td>0.000046</td>\n",
       "      <td>0.000479</td>\n",
       "      <td>0.000002</td>\n",
       "      <td>0.000033</td>\n",
       "      <td>0.000064</td>\n",
       "      <td>0.00001</td>\n",
       "      <td>0.000041</td>\n",
       "      <td>0.000531</td>\n",
       "      <td>0.000024</td>\n",
       "      <td>0.000024</td>\n",
       "    </tr>\n",
       "    <tr>\n",
       "      <th>2020-09-18</th>\n",
       "      <td>0.000193</td>\n",
       "      <td>0.000109</td>\n",
       "      <td>0.000076</td>\n",
       "      <td>0.000213</td>\n",
       "      <td>0.000486</td>\n",
       "      <td>0.00005</td>\n",
       "      <td>0.00006</td>\n",
       "      <td>0.000152</td>\n",
       "      <td>0.000037</td>\n",
       "      <td>0.000041</td>\n",
       "      <td>...</td>\n",
       "      <td>0.000046</td>\n",
       "      <td>0.000479</td>\n",
       "      <td>0.000002</td>\n",
       "      <td>0.000033</td>\n",
       "      <td>0.000064</td>\n",
       "      <td>0.00001</td>\n",
       "      <td>0.000041</td>\n",
       "      <td>0.000531</td>\n",
       "      <td>0.000024</td>\n",
       "      <td>0.000024</td>\n",
       "    </tr>\n",
       "    <tr>\n",
       "      <th>2020-09-19</th>\n",
       "      <td>0.000193</td>\n",
       "      <td>0.000109</td>\n",
       "      <td>0.000076</td>\n",
       "      <td>0.000213</td>\n",
       "      <td>0.000486</td>\n",
       "      <td>0.00005</td>\n",
       "      <td>0.00006</td>\n",
       "      <td>0.000152</td>\n",
       "      <td>0.000037</td>\n",
       "      <td>0.000041</td>\n",
       "      <td>...</td>\n",
       "      <td>0.000046</td>\n",
       "      <td>0.000479</td>\n",
       "      <td>0.000002</td>\n",
       "      <td>0.000033</td>\n",
       "      <td>0.000064</td>\n",
       "      <td>0.00001</td>\n",
       "      <td>0.000041</td>\n",
       "      <td>0.000531</td>\n",
       "      <td>0.000024</td>\n",
       "      <td>0.000024</td>\n",
       "    </tr>\n",
       "    <tr>\n",
       "      <th>2020-09-20</th>\n",
       "      <td>0.000193</td>\n",
       "      <td>0.000109</td>\n",
       "      <td>0.000076</td>\n",
       "      <td>0.000213</td>\n",
       "      <td>0.000486</td>\n",
       "      <td>0.00005</td>\n",
       "      <td>0.00006</td>\n",
       "      <td>0.000152</td>\n",
       "      <td>0.000037</td>\n",
       "      <td>0.000041</td>\n",
       "      <td>...</td>\n",
       "      <td>0.000046</td>\n",
       "      <td>0.000479</td>\n",
       "      <td>0.000002</td>\n",
       "      <td>0.000033</td>\n",
       "      <td>0.000064</td>\n",
       "      <td>0.00001</td>\n",
       "      <td>0.000041</td>\n",
       "      <td>0.000531</td>\n",
       "      <td>0.000024</td>\n",
       "      <td>0.000024</td>\n",
       "    </tr>\n",
       "  </tbody>\n",
       "</table>\n",
       "<p>5 rows × 24 columns</p>\n",
       "</div>"
      ],
      "text/plain": [
       "Country      Algeria   Bahrain  Bangladesh   Bolivia    Brazil  Burkina Faso  \\\n",
       "Date                                                                           \n",
       "2020-09-16  0.000193  0.000109    0.000076  0.000213  0.000486       0.00005   \n",
       "2020-09-17  0.000193  0.000109    0.000076  0.000213  0.000486       0.00005   \n",
       "2020-09-18  0.000193  0.000109    0.000076  0.000213  0.000486       0.00005   \n",
       "2020-09-19  0.000193  0.000109    0.000076  0.000213  0.000486       0.00005   \n",
       "2020-09-20  0.000193  0.000109    0.000076  0.000213  0.000486       0.00005   \n",
       "\n",
       "Country     Denmark  Dominican Republic   Estonia    France  ...    Kuwait  \\\n",
       "Date                                                         ...             \n",
       "2020-09-16  0.00006            0.000152  0.000037  0.000041  ...  0.000046   \n",
       "2020-09-17  0.00006            0.000152  0.000037  0.000041  ...  0.000046   \n",
       "2020-09-18  0.00006            0.000152  0.000037  0.000041  ...  0.000046   \n",
       "2020-09-19  0.00006            0.000152  0.000037  0.000041  ...  0.000046   \n",
       "2020-09-20  0.00006            0.000152  0.000037  0.000041  ...  0.000046   \n",
       "\n",
       "Country       Mexico   Moldova   Nigeria      Peru  Portugal    Russia  \\\n",
       "Date                                                                     \n",
       "2020-09-16  0.000479  0.000002  0.000033  0.000064   0.00001  0.000041   \n",
       "2020-09-17  0.000479  0.000002  0.000033  0.000064   0.00001  0.000041   \n",
       "2020-09-18  0.000479  0.000002  0.000033  0.000064   0.00001  0.000041   \n",
       "2020-09-19  0.000479  0.000002  0.000033  0.000064   0.00001  0.000041   \n",
       "2020-09-20  0.000479  0.000002  0.000033  0.000064   0.00001  0.000041   \n",
       "\n",
       "Country       Turkey  United Arab Emirates  United States  \n",
       "Date                                                       \n",
       "2020-09-16  0.000531              0.000024       0.000024  \n",
       "2020-09-17  0.000531              0.000024       0.000024  \n",
       "2020-09-18  0.000531              0.000024       0.000024  \n",
       "2020-09-19  0.000531              0.000024       0.000024  \n",
       "2020-09-20  0.000531              0.000024       0.000024  \n",
       "\n",
       "[5 rows x 24 columns]"
      ]
     },
     "execution_count": 17,
     "metadata": {},
     "output_type": "execute_result"
    }
   ],
   "source": [
    "analyser.param_history(\"kappa\", roll_window=None).tail()"
   ]
  },
  {
   "cell_type": "markdown",
   "metadata": {},
   "source": [
    "### $\\theta$: Mortality rate of S$^\\ast$ cases $\\mathrm{[-]}$"
   ]
  },
  {
   "cell_type": "code",
   "execution_count": 18,
   "metadata": {
    "collapsed": false
   },
   "outputs": [
    {
     "data": {
      "image/png": "[encoded data removed]",
      "text/plain": [
       "<Figure size 648x432 with 1 Axes>"
      ]
     },
     "metadata": {},
     "output_type": "display_data"
    },
    {
     "data": {
      "text/html": [
       "<div>\n",
       "<style scoped>\n",
       "    .dataframe tbody tr th:only-of-type {\n",
       "        vertical-align: middle;\n",
       "    }\n",
       "\n",
       "    .dataframe tbody tr th {\n",
       "        vertical-align: top;\n",
       "    }\n",
       "\n",
       "    .dataframe thead th {\n",
       "        text-align: right;\n",
       "    }\n",
       "</style>\n",
       "<table border=\"1\" class=\"dataframe\">\n",
       "  <thead>\n",
       "    <tr style=\"text-align: right;\">\n",
       "      <th>Country</th>\n",
       "      <th>Algeria</th>\n",
       "      <th>Bahrain</th>\n",
       "      <th>Bangladesh</th>\n",
       "      <th>Bolivia</th>\n",
       "      <th>Brazil</th>\n",
       "      <th>Burkina Faso</th>\n",
       "      <th>Denmark</th>\n",
       "      <th>Dominican Republic</th>\n",
       "      <th>Estonia</th>\n",
       "      <th>France</th>\n",
       "      <th>...</th>\n",
       "      <th>Kuwait</th>\n",
       "      <th>Mexico</th>\n",
       "      <th>Moldova</th>\n",
       "      <th>Nigeria</th>\n",
       "      <th>Peru</th>\n",
       "      <th>Portugal</th>\n",
       "      <th>Russia</th>\n",
       "      <th>Turkey</th>\n",
       "      <th>United Arab Emirates</th>\n",
       "      <th>United States</th>\n",
       "    </tr>\n",
       "    <tr>\n",
       "      <th>Date</th>\n",
       "      <th></th>\n",
       "      <th></th>\n",
       "      <th></th>\n",
       "      <th></th>\n",
       "      <th></th>\n",
       "      <th></th>\n",
       "      <th></th>\n",
       "      <th></th>\n",
       "      <th></th>\n",
       "      <th></th>\n",
       "      <th></th>\n",
       "      <th></th>\n",
       "      <th></th>\n",
       "      <th></th>\n",
       "      <th></th>\n",
       "      <th></th>\n",
       "      <th></th>\n",
       "      <th></th>\n",
       "      <th></th>\n",
       "      <th></th>\n",
       "      <th></th>\n",
       "    </tr>\n",
       "  </thead>\n",
       "  <tbody>\n",
       "    <tr>\n",
       "      <th>2020-09-16</th>\n",
       "      <td>0.002359</td>\n",
       "      <td>0.00055</td>\n",
       "      <td>0.000548</td>\n",
       "      <td>0.029285</td>\n",
       "      <td>0.001574</td>\n",
       "      <td>0.000233</td>\n",
       "      <td>0.000054</td>\n",
       "      <td>0.000069</td>\n",
       "      <td>0.000661</td>\n",
       "      <td>0.000019</td>\n",
       "      <td>...</td>\n",
       "      <td>0.001252</td>\n",
       "      <td>0.087233</td>\n",
       "      <td>0.017978</td>\n",
       "      <td>0.018608</td>\n",
       "      <td>0.000232</td>\n",
       "      <td>0.002253</td>\n",
       "      <td>0.000055</td>\n",
       "      <td>0.001396</td>\n",
       "      <td>0.000667</td>\n",
       "      <td>0.002788</td>\n",
       "    </tr>\n",
       "    <tr>\n",
       "      <th>2020-09-17</th>\n",
       "      <td>0.002359</td>\n",
       "      <td>0.00055</td>\n",
       "      <td>0.000548</td>\n",
       "      <td>0.029285</td>\n",
       "      <td>0.001574</td>\n",
       "      <td>0.000233</td>\n",
       "      <td>0.000054</td>\n",
       "      <td>0.000069</td>\n",
       "      <td>0.000661</td>\n",
       "      <td>0.000019</td>\n",
       "      <td>...</td>\n",
       "      <td>0.001252</td>\n",
       "      <td>0.087233</td>\n",
       "      <td>0.017978</td>\n",
       "      <td>0.018608</td>\n",
       "      <td>0.000232</td>\n",
       "      <td>0.002253</td>\n",
       "      <td>0.000055</td>\n",
       "      <td>0.001396</td>\n",
       "      <td>0.000667</td>\n",
       "      <td>0.002788</td>\n",
       "    </tr>\n",
       "    <tr>\n",
       "      <th>2020-09-18</th>\n",
       "      <td>0.002359</td>\n",
       "      <td>0.00055</td>\n",
       "      <td>0.000548</td>\n",
       "      <td>0.029285</td>\n",
       "      <td>0.001574</td>\n",
       "      <td>0.000233</td>\n",
       "      <td>0.000054</td>\n",
       "      <td>0.000069</td>\n",
       "      <td>0.000661</td>\n",
       "      <td>0.000019</td>\n",
       "      <td>...</td>\n",
       "      <td>0.001252</td>\n",
       "      <td>0.087233</td>\n",
       "      <td>0.017978</td>\n",
       "      <td>0.018608</td>\n",
       "      <td>0.000232</td>\n",
       "      <td>0.002253</td>\n",
       "      <td>0.000055</td>\n",
       "      <td>0.001396</td>\n",
       "      <td>0.000667</td>\n",
       "      <td>0.002788</td>\n",
       "    </tr>\n",
       "    <tr>\n",
       "      <th>2020-09-19</th>\n",
       "      <td>0.002359</td>\n",
       "      <td>0.00055</td>\n",
       "      <td>0.000548</td>\n",
       "      <td>0.029285</td>\n",
       "      <td>0.001574</td>\n",
       "      <td>0.000233</td>\n",
       "      <td>0.000054</td>\n",
       "      <td>0.000069</td>\n",
       "      <td>0.000661</td>\n",
       "      <td>0.000019</td>\n",
       "      <td>...</td>\n",
       "      <td>0.001252</td>\n",
       "      <td>0.087233</td>\n",
       "      <td>0.017978</td>\n",
       "      <td>0.018608</td>\n",
       "      <td>0.000232</td>\n",
       "      <td>0.002253</td>\n",
       "      <td>0.000055</td>\n",
       "      <td>0.001396</td>\n",
       "      <td>0.000667</td>\n",
       "      <td>0.002788</td>\n",
       "    </tr>\n",
       "    <tr>\n",
       "      <th>2020-09-20</th>\n",
       "      <td>0.002359</td>\n",
       "      <td>0.00055</td>\n",
       "      <td>0.000548</td>\n",
       "      <td>0.029285</td>\n",
       "      <td>0.001574</td>\n",
       "      <td>0.000233</td>\n",
       "      <td>0.000054</td>\n",
       "      <td>0.000069</td>\n",
       "      <td>0.000661</td>\n",
       "      <td>0.000019</td>\n",
       "      <td>...</td>\n",
       "      <td>0.001252</td>\n",
       "      <td>0.087233</td>\n",
       "      <td>0.017978</td>\n",
       "      <td>0.018608</td>\n",
       "      <td>0.000232</td>\n",
       "      <td>0.002253</td>\n",
       "      <td>0.000055</td>\n",
       "      <td>0.001396</td>\n",
       "      <td>0.000667</td>\n",
       "      <td>0.002788</td>\n",
       "    </tr>\n",
       "  </tbody>\n",
       "</table>\n",
       "<p>5 rows × 24 columns</p>\n",
       "</div>"
      ],
      "text/plain": [
       "Country      Algeria  Bahrain  Bangladesh   Bolivia    Brazil  Burkina Faso  \\\n",
       "Date                                                                          \n",
       "2020-09-16  0.002359  0.00055    0.000548  0.029285  0.001574      0.000233   \n",
       "2020-09-17  0.002359  0.00055    0.000548  0.029285  0.001574      0.000233   \n",
       "2020-09-18  0.002359  0.00055    0.000548  0.029285  0.001574      0.000233   \n",
       "2020-09-19  0.002359  0.00055    0.000548  0.029285  0.001574      0.000233   \n",
       "2020-09-20  0.002359  0.00055    0.000548  0.029285  0.001574      0.000233   \n",
       "\n",
       "Country      Denmark  Dominican Republic   Estonia    France  ...    Kuwait  \\\n",
       "Date                                                          ...             \n",
       "2020-09-16  0.000054            0.000069  0.000661  0.000019  ...  0.001252   \n",
       "2020-09-17  0.000054            0.000069  0.000661  0.000019  ...  0.001252   \n",
       "2020-09-18  0.000054            0.000069  0.000661  0.000019  ...  0.001252   \n",
       "2020-09-19  0.000054            0.000069  0.000661  0.000019  ...  0.001252   \n",
       "2020-09-20  0.000054            0.000069  0.000661  0.000019  ...  0.001252   \n",
       "\n",
       "Country       Mexico   Moldova   Nigeria      Peru  Portugal    Russia  \\\n",
       "Date                                                                     \n",
       "2020-09-16  0.087233  0.017978  0.018608  0.000232  0.002253  0.000055   \n",
       "2020-09-17  0.087233  0.017978  0.018608  0.000232  0.002253  0.000055   \n",
       "2020-09-18  0.087233  0.017978  0.018608  0.000232  0.002253  0.000055   \n",
       "2020-09-19  0.087233  0.017978  0.018608  0.000232  0.002253  0.000055   \n",
       "2020-09-20  0.087233  0.017978  0.018608  0.000232  0.002253  0.000055   \n",
       "\n",
       "Country       Turkey  United Arab Emirates  United States  \n",
       "Date                                                       \n",
       "2020-09-16  0.001396              0.000667       0.002788  \n",
       "2020-09-17  0.001396              0.000667       0.002788  \n",
       "2020-09-18  0.001396              0.000667       0.002788  \n",
       "2020-09-19  0.001396              0.000667       0.002788  \n",
       "2020-09-20  0.001396              0.000667       0.002788  \n",
       "\n",
       "[5 rows x 24 columns]"
      ]
     },
     "execution_count": 18,
     "metadata": {},
     "output_type": "execute_result"
    }
   ],
   "source": [
    "analyser.param_history(\"theta\", roll_window=None).tail()"
   ]
  },
  {
   "cell_type": "markdown",
   "metadata": {},
   "source": [
    "## (Experimental): Relationship of OxCGRT index and parameter values\n",
    "Government responses will impact on parameter values of ODE models about 14 days later. Here, we will investigate on the relationship of [stringency index (from OxCGRT)](https://github.com/OxCGRT/covid-policy-tracker/blob/master/documentation/index_methodology.md) and reproduction number/model parameters.\n"
   ]
  },
  {
   "cell_type": "code",
   "execution_count": 19,
   "metadata": {
    "collapsed": false
   },
   "outputs": [],
   "source": [
    "%matplotlib inline\n",
    "from matplotlib import pyplot as plt\n",
    "import seaborn as sns\n",
    "import pandas as pd"
   ]
  },
  {
   "cell_type": "code",
   "execution_count": 20,
   "metadata": {
    "collapsed": false
   },
   "outputs": [
    {
     "name": "stdout",
     "output_type": "stream",
     "text": [
      "<class 'pandas.core.frame.DataFrame'>\n",
      "Int64Index: 52035 entries, 0 to 52356\n",
      "Data columns (total 19 columns):\n",
      " #   Column                               Non-Null Count  Dtype         \n",
      "---  ------                               --------------  -----         \n",
      " 0   Date                                 52035 non-null  datetime64[ns]\n",
      " 1   Country                              52035 non-null  object        \n",
      " 2   Rt                                   52035 non-null  float64       \n",
      " 3   theta                                52035 non-null  float64       \n",
      " 4   kappa                                52035 non-null  float64       \n",
      " 5   rho                                  52035 non-null  float64       \n",
      " 6   sigma                                52035 non-null  float64       \n",
      " 7   School_closing                       52035 non-null  int64         \n",
      " 8   Workplace_closing                    52035 non-null  int64         \n",
      " 9   Cancel_events                        52035 non-null  int64         \n",
      " 10  Gatherings_restrictions              52035 non-null  int64         \n",
      " 11  Transport_closing                    52035 non-null  int64         \n",
      " 12  Stay_home_restrictions               52035 non-null  int64         \n",
      " 13  Internal_movement_restrictions       52035 non-null  int64         \n",
      " 14  International_movement_restrictions  52035 non-null  int64         \n",
      " 15  Information_campaigns                52035 non-null  int64         \n",
      " 16  Testing_policy                       52035 non-null  int64         \n",
      " 17  Contact_tracing                      52035 non-null  int64         \n",
      " 18  Stringency_index                     52035 non-null  float64       \n",
      "dtypes: datetime64[ns](1), float64(6), int64(11), object(1)\n",
      "memory usage: 7.9+ MB\n"
     ]
    }
   ],
   "source": [
    "df = analyser.track()\n",
    "param_cols = [\"Rt\", *cs.SIRF.PARAMETERS]\n",
    "oxcgrt_cols = oxcgrt_data.OXCGRT_VARS[:]\n",
    "cols = param_cols + oxcgrt_cols\n",
    "delay = 14\n",
    "\n",
    "for col in param_cols:\n",
    "    df[col] = pd.to_numeric(df[col], errors=\"coerce\")\n",
    "    df[col] = df.groupby(\"Country\")[col].shift(0 - delay)\n",
    "\n",
    "df = df.dropna(how=\"any\")\n",
    "df = df.loc[:, [\"Date\", \"Country\", *cols]]\n",
    "track_df = df.copy()\n",
    "track_df.info()"
   ]
  },
  {
   "cell_type": "code",
   "execution_count": 21,
   "metadata": {
    "collapsed": false
   },
   "outputs": [
    {
     "data": {
      "text/html": [
       "<style  type=\"text/css\" >\n",
       "#T_b022eae6_fb5a_11ea_8b4d_525400e68179row0_col0,#T_b022eae6_fb5a_11ea_8b4d_525400e68179row1_col1,#T_b022eae6_fb5a_11ea_8b4d_525400e68179row2_col2,#T_b022eae6_fb5a_11ea_8b4d_525400e68179row3_col3,#T_b022eae6_fb5a_11ea_8b4d_525400e68179row4_col4,#T_b022eae6_fb5a_11ea_8b4d_525400e68179row5_col5,#T_b022eae6_fb5a_11ea_8b4d_525400e68179row6_col6,#T_b022eae6_fb5a_11ea_8b4d_525400e68179row7_col7,#T_b022eae6_fb5a_11ea_8b4d_525400e68179row8_col8,#T_b022eae6_fb5a_11ea_8b4d_525400e68179row9_col9,#T_b022eae6_fb5a_11ea_8b4d_525400e68179row10_col10,#T_b022eae6_fb5a_11ea_8b4d_525400e68179row11_col11,#T_b022eae6_fb5a_11ea_8b4d_525400e68179row12_col12,#T_b022eae6_fb5a_11ea_8b4d_525400e68179row13_col13,#T_b022eae6_fb5a_11ea_8b4d_525400e68179row14_col14,#T_b022eae6_fb5a_11ea_8b4d_525400e68179row15_col15,#T_b022eae6_fb5a_11ea_8b4d_525400e68179row16_col16{\n",
       "            background-color:  #023858;\n",
       "            color:  #f1f1f1;\n",
       "        }#T_b022eae6_fb5a_11ea_8b4d_525400e68179row0_col1,#T_b022eae6_fb5a_11ea_8b4d_525400e68179row0_col2,#T_b022eae6_fb5a_11ea_8b4d_525400e68179row1_col0,#T_b022eae6_fb5a_11ea_8b4d_525400e68179row2_col0{\n",
       "            background-color:  #e3e0ee;\n",
       "            color:  #000000;\n",
       "        }#T_b022eae6_fb5a_11ea_8b4d_525400e68179row0_col3,#T_b022eae6_fb5a_11ea_8b4d_525400e68179row3_col0{\n",
       "            background-color:  #89b1d4;\n",
       "            color:  #000000;\n",
       "        }#T_b022eae6_fb5a_11ea_8b4d_525400e68179row0_col4,#T_b022eae6_fb5a_11ea_8b4d_525400e68179row3_col15,#T_b022eae6_fb5a_11ea_8b4d_525400e68179row4_col0,#T_b022eae6_fb5a_11ea_8b4d_525400e68179row15_col3{\n",
       "            background-color:  #e0deed;\n",
       "            color:  #000000;\n",
       "        }#T_b022eae6_fb5a_11ea_8b4d_525400e68179row0_col5,#T_b022eae6_fb5a_11ea_8b4d_525400e68179row5_col0{\n",
       "            background-color:  #c8cde4;\n",
       "            color:  #000000;\n",
       "        }#T_b022eae6_fb5a_11ea_8b4d_525400e68179row0_col6,#T_b022eae6_fb5a_11ea_8b4d_525400e68179row6_col0{\n",
       "            background-color:  #b7c5df;\n",
       "            color:  #000000;\n",
       "        }#T_b022eae6_fb5a_11ea_8b4d_525400e68179row0_col7,#T_b022eae6_fb5a_11ea_8b4d_525400e68179row1_col11,#T_b022eae6_fb5a_11ea_8b4d_525400e68179row2_col11,#T_b022eae6_fb5a_11ea_8b4d_525400e68179row7_col0,#T_b022eae6_fb5a_11ea_8b4d_525400e68179row11_col1,#T_b022eae6_fb5a_11ea_8b4d_525400e68179row11_col2{\n",
       "            background-color:  #ced0e6;\n",
       "            color:  #000000;\n",
       "        }#T_b022eae6_fb5a_11ea_8b4d_525400e68179row0_col8,#T_b022eae6_fb5a_11ea_8b4d_525400e68179row8_col0{\n",
       "            background-color:  #c9cee4;\n",
       "            color:  #000000;\n",
       "        }#T_b022eae6_fb5a_11ea_8b4d_525400e68179row0_col9,#T_b022eae6_fb5a_11ea_8b4d_525400e68179row9_col0{\n",
       "            background-color:  #d2d3e7;\n",
       "            color:  #000000;\n",
       "        }#T_b022eae6_fb5a_11ea_8b4d_525400e68179row0_col10,#T_b022eae6_fb5a_11ea_8b4d_525400e68179row0_col14,#T_b022eae6_fb5a_11ea_8b4d_525400e68179row4_col8,#T_b022eae6_fb5a_11ea_8b4d_525400e68179row8_col4,#T_b022eae6_fb5a_11ea_8b4d_525400e68179row10_col0,#T_b022eae6_fb5a_11ea_8b4d_525400e68179row14_col0{\n",
       "            background-color:  #d9d8ea;\n",
       "            color:  #000000;\n",
       "        }#T_b022eae6_fb5a_11ea_8b4d_525400e68179row0_col11,#T_b022eae6_fb5a_11ea_8b4d_525400e68179row2_col4,#T_b022eae6_fb5a_11ea_8b4d_525400e68179row4_col2,#T_b022eae6_fb5a_11ea_8b4d_525400e68179row11_col0{\n",
       "            background-color:  #d8d7e9;\n",
       "            color:  #000000;\n",
       "        }#T_b022eae6_fb5a_11ea_8b4d_525400e68179row0_col12,#T_b022eae6_fb5a_11ea_8b4d_525400e68179row12_col0{\n",
       "            background-color:  #d5d5e8;\n",
       "            color:  #000000;\n",
       "        }#T_b022eae6_fb5a_11ea_8b4d_525400e68179row0_col13,#T_b022eae6_fb5a_11ea_8b4d_525400e68179row4_col10,#T_b022eae6_fb5a_11ea_8b4d_525400e68179row10_col4,#T_b022eae6_fb5a_11ea_8b4d_525400e68179row13_col0{\n",
       "            background-color:  #c2cbe2;\n",
       "            color:  #000000;\n",
       "        }#T_b022eae6_fb5a_11ea_8b4d_525400e68179row0_col15,#T_b022eae6_fb5a_11ea_8b4d_525400e68179row15_col0{\n",
       "            background-color:  #e1dfed;\n",
       "            color:  #000000;\n",
       "        }#T_b022eae6_fb5a_11ea_8b4d_525400e68179row0_col16,#T_b022eae6_fb5a_11ea_8b4d_525400e68179row16_col0{\n",
       "            background-color:  #cccfe5;\n",
       "            color:  #000000;\n",
       "        }#T_b022eae6_fb5a_11ea_8b4d_525400e68179row1_col2,#T_b022eae6_fb5a_11ea_8b4d_525400e68179row2_col1{\n",
       "            background-color:  #023b5d;\n",
       "            color:  #f1f1f1;\n",
       "        }#T_b022eae6_fb5a_11ea_8b4d_525400e68179row1_col3,#T_b022eae6_fb5a_11ea_8b4d_525400e68179row3_col1,#T_b022eae6_fb5a_11ea_8b4d_525400e68179row5_col13,#T_b022eae6_fb5a_11ea_8b4d_525400e68179row13_col5{\n",
       "            background-color:  #0568a3;\n",
       "            color:  #f1f1f1;\n",
       "        }#T_b022eae6_fb5a_11ea_8b4d_525400e68179row1_col4,#T_b022eae6_fb5a_11ea_8b4d_525400e68179row3_col6,#T_b022eae6_fb5a_11ea_8b4d_525400e68179row4_col1,#T_b022eae6_fb5a_11ea_8b4d_525400e68179row6_col3{\n",
       "            background-color:  #d0d1e6;\n",
       "            color:  #000000;\n",
       "        }#T_b022eae6_fb5a_11ea_8b4d_525400e68179row1_col5,#T_b022eae6_fb5a_11ea_8b4d_525400e68179row5_col1{\n",
       "            background-color:  #e6e2ef;\n",
       "            color:  #000000;\n",
       "        }#T_b022eae6_fb5a_11ea_8b4d_525400e68179row1_col6,#T_b022eae6_fb5a_11ea_8b4d_525400e68179row4_col14,#T_b022eae6_fb5a_11ea_8b4d_525400e68179row6_col1,#T_b022eae6_fb5a_11ea_8b4d_525400e68179row14_col4{\n",
       "            background-color:  #d7d6e9;\n",
       "            color:  #000000;\n",
       "        }#T_b022eae6_fb5a_11ea_8b4d_525400e68179row1_col7,#T_b022eae6_fb5a_11ea_8b4d_525400e68179row1_col9,#T_b022eae6_fb5a_11ea_8b4d_525400e68179row2_col8,#T_b022eae6_fb5a_11ea_8b4d_525400e68179row2_col9,#T_b022eae6_fb5a_11ea_8b4d_525400e68179row3_col9,#T_b022eae6_fb5a_11ea_8b4d_525400e68179row7_col1,#T_b022eae6_fb5a_11ea_8b4d_525400e68179row8_col2,#T_b022eae6_fb5a_11ea_8b4d_525400e68179row9_col1,#T_b022eae6_fb5a_11ea_8b4d_525400e68179row9_col2,#T_b022eae6_fb5a_11ea_8b4d_525400e68179row9_col3{\n",
       "            background-color:  #efe9f3;\n",
       "            color:  #000000;\n",
       "        }#T_b022eae6_fb5a_11ea_8b4d_525400e68179row1_col8,#T_b022eae6_fb5a_11ea_8b4d_525400e68179row8_col1{\n",
       "            background-color:  #f0eaf4;\n",
       "            color:  #000000;\n",
       "        }#T_b022eae6_fb5a_11ea_8b4d_525400e68179row1_col10,#T_b022eae6_fb5a_11ea_8b4d_525400e68179row10_col1{\n",
       "            background-color:  #9ebad9;\n",
       "            color:  #000000;\n",
       "        }#T_b022eae6_fb5a_11ea_8b4d_525400e68179row1_col12,#T_b022eae6_fb5a_11ea_8b4d_525400e68179row12_col1{\n",
       "            background-color:  #9cb9d9;\n",
       "            color:  #000000;\n",
       "        }#T_b022eae6_fb5a_11ea_8b4d_525400e68179row1_col13,#T_b022eae6_fb5a_11ea_8b4d_525400e68179row13_col1{\n",
       "            background-color:  #f6eff7;\n",
       "            color:  #000000;\n",
       "        }#T_b022eae6_fb5a_11ea_8b4d_525400e68179row1_col14,#T_b022eae6_fb5a_11ea_8b4d_525400e68179row14_col1{\n",
       "            background-color:  #f1ebf5;\n",
       "            color:  #000000;\n",
       "        }#T_b022eae6_fb5a_11ea_8b4d_525400e68179row1_col15,#T_b022eae6_fb5a_11ea_8b4d_525400e68179row2_col15,#T_b022eae6_fb5a_11ea_8b4d_525400e68179row3_col12,#T_b022eae6_fb5a_11ea_8b4d_525400e68179row12_col3,#T_b022eae6_fb5a_11ea_8b4d_525400e68179row15_col1,#T_b022eae6_fb5a_11ea_8b4d_525400e68179row15_col2{\n",
       "            background-color:  #bdc8e1;\n",
       "            color:  #000000;\n",
       "        }#T_b022eae6_fb5a_11ea_8b4d_525400e68179row1_col16,#T_b022eae6_fb5a_11ea_8b4d_525400e68179row3_col5,#T_b022eae6_fb5a_11ea_8b4d_525400e68179row3_col16,#T_b022eae6_fb5a_11ea_8b4d_525400e68179row5_col3,#T_b022eae6_fb5a_11ea_8b4d_525400e68179row16_col1,#T_b022eae6_fb5a_11ea_8b4d_525400e68179row16_col3{\n",
       "            background-color:  #dcdaeb;\n",
       "            color:  #000000;\n",
       "        }#T_b022eae6_fb5a_11ea_8b4d_525400e68179row2_col3,#T_b022eae6_fb5a_11ea_8b4d_525400e68179row3_col2{\n",
       "            background-color:  #056aa6;\n",
       "            color:  #f1f1f1;\n",
       "        }#T_b022eae6_fb5a_11ea_8b4d_525400e68179row2_col5,#T_b022eae6_fb5a_11ea_8b4d_525400e68179row5_col2{\n",
       "            background-color:  #ece7f2;\n",
       "            color:  #000000;\n",
       "        }#T_b022eae6_fb5a_11ea_8b4d_525400e68179row2_col6,#T_b022eae6_fb5a_11ea_8b4d_525400e68179row6_col2{\n",
       "            background-color:  #dddbec;\n",
       "            color:  #000000;\n",
       "        }#T_b022eae6_fb5a_11ea_8b4d_525400e68179row2_col7,#T_b022eae6_fb5a_11ea_8b4d_525400e68179row7_col2{\n",
       "            background-color:  #f1ebf4;\n",
       "            color:  #000000;\n",
       "        }#T_b022eae6_fb5a_11ea_8b4d_525400e68179row2_col10,#T_b022eae6_fb5a_11ea_8b4d_525400e68179row4_col15,#T_b022eae6_fb5a_11ea_8b4d_525400e68179row10_col2,#T_b022eae6_fb5a_11ea_8b4d_525400e68179row15_col4{\n",
       "            background-color:  #a2bcda;\n",
       "            color:  #000000;\n",
       "        }#T_b022eae6_fb5a_11ea_8b4d_525400e68179row2_col12,#T_b022eae6_fb5a_11ea_8b4d_525400e68179row4_col5,#T_b022eae6_fb5a_11ea_8b4d_525400e68179row5_col4,#T_b022eae6_fb5a_11ea_8b4d_525400e68179row12_col2{\n",
       "            background-color:  #99b8d8;\n",
       "            color:  #000000;\n",
       "        }#T_b022eae6_fb5a_11ea_8b4d_525400e68179row2_col13,#T_b022eae6_fb5a_11ea_8b4d_525400e68179row3_col13,#T_b022eae6_fb5a_11ea_8b4d_525400e68179row13_col2,#T_b022eae6_fb5a_11ea_8b4d_525400e68179row13_col3{\n",
       "            background-color:  #f8f1f8;\n",
       "            color:  #000000;\n",
       "        }#T_b022eae6_fb5a_11ea_8b4d_525400e68179row2_col14,#T_b022eae6_fb5a_11ea_8b4d_525400e68179row14_col2{\n",
       "            background-color:  #eae6f1;\n",
       "            color:  #000000;\n",
       "        }#T_b022eae6_fb5a_11ea_8b4d_525400e68179row2_col16,#T_b022eae6_fb5a_11ea_8b4d_525400e68179row16_col2{\n",
       "            background-color:  #e2dfee;\n",
       "            color:  #000000;\n",
       "        }#T_b022eae6_fb5a_11ea_8b4d_525400e68179row3_col4,#T_b022eae6_fb5a_11ea_8b4d_525400e68179row3_col10,#T_b022eae6_fb5a_11ea_8b4d_525400e68179row4_col3,#T_b022eae6_fb5a_11ea_8b4d_525400e68179row4_col13,#T_b022eae6_fb5a_11ea_8b4d_525400e68179row10_col3,#T_b022eae6_fb5a_11ea_8b4d_525400e68179row13_col4{\n",
       "            background-color:  #a8bedc;\n",
       "            color:  #000000;\n",
       "        }#T_b022eae6_fb5a_11ea_8b4d_525400e68179row3_col7,#T_b022eae6_fb5a_11ea_8b4d_525400e68179row7_col3{\n",
       "            background-color:  #f5eff6;\n",
       "            color:  #000000;\n",
       "        }#T_b022eae6_fb5a_11ea_8b4d_525400e68179row3_col8,#T_b022eae6_fb5a_11ea_8b4d_525400e68179row8_col3{\n",
       "            background-color:  #f2ecf5;\n",
       "            color:  #000000;\n",
       "        }#T_b022eae6_fb5a_11ea_8b4d_525400e68179row3_col11,#T_b022eae6_fb5a_11ea_8b4d_525400e68179row11_col3{\n",
       "            background-color:  #dbdaeb;\n",
       "            color:  #000000;\n",
       "        }#T_b022eae6_fb5a_11ea_8b4d_525400e68179row3_col14,#T_b022eae6_fb5a_11ea_8b4d_525400e68179row14_col3{\n",
       "            background-color:  #fff7fb;\n",
       "            color:  #000000;\n",
       "        }#T_b022eae6_fb5a_11ea_8b4d_525400e68179row4_col6,#T_b022eae6_fb5a_11ea_8b4d_525400e68179row6_col4{\n",
       "            background-color:  #bcc7e1;\n",
       "            color:  #000000;\n",
       "        }#T_b022eae6_fb5a_11ea_8b4d_525400e68179row4_col7,#T_b022eae6_fb5a_11ea_8b4d_525400e68179row7_col4{\n",
       "            background-color:  #bfc9e1;\n",
       "            color:  #000000;\n",
       "        }#T_b022eae6_fb5a_11ea_8b4d_525400e68179row4_col9,#T_b022eae6_fb5a_11ea_8b4d_525400e68179row9_col4{\n",
       "            background-color:  #b8c6e0;\n",
       "            color:  #000000;\n",
       "        }#T_b022eae6_fb5a_11ea_8b4d_525400e68179row4_col11,#T_b022eae6_fb5a_11ea_8b4d_525400e68179row11_col4{\n",
       "            background-color:  #d6d6e9;\n",
       "            color:  #000000;\n",
       "        }#T_b022eae6_fb5a_11ea_8b4d_525400e68179row4_col12,#T_b022eae6_fb5a_11ea_8b4d_525400e68179row12_col4{\n",
       "            background-color:  #c5cce3;\n",
       "            color:  #000000;\n",
       "        }#T_b022eae6_fb5a_11ea_8b4d_525400e68179row4_col16,#T_b022eae6_fb5a_11ea_8b4d_525400e68179row16_col4{\n",
       "            background-color:  #adc1dd;\n",
       "            color:  #000000;\n",
       "        }#T_b022eae6_fb5a_11ea_8b4d_525400e68179row5_col6,#T_b022eae6_fb5a_11ea_8b4d_525400e68179row6_col5{\n",
       "            background-color:  #04649e;\n",
       "            color:  #f1f1f1;\n",
       "        }#T_b022eae6_fb5a_11ea_8b4d_525400e68179row5_col7,#T_b022eae6_fb5a_11ea_8b4d_525400e68179row7_col5{\n",
       "            background-color:  #05659f;\n",
       "            color:  #f1f1f1;\n",
       "        }#T_b022eae6_fb5a_11ea_8b4d_525400e68179row5_col8,#T_b022eae6_fb5a_11ea_8b4d_525400e68179row6_col11,#T_b022eae6_fb5a_11ea_8b4d_525400e68179row8_col5,#T_b022eae6_fb5a_11ea_8b4d_525400e68179row11_col6{\n",
       "            background-color:  #056fae;\n",
       "            color:  #f1f1f1;\n",
       "        }#T_b022eae6_fb5a_11ea_8b4d_525400e68179row5_col9,#T_b022eae6_fb5a_11ea_8b4d_525400e68179row9_col5,#T_b022eae6_fb5a_11ea_8b4d_525400e68179row13_col15,#T_b022eae6_fb5a_11ea_8b4d_525400e68179row15_col13{\n",
       "            background-color:  #2182b9;\n",
       "            color:  #000000;\n",
       "        }#T_b022eae6_fb5a_11ea_8b4d_525400e68179row5_col10,#T_b022eae6_fb5a_11ea_8b4d_525400e68179row6_col9,#T_b022eae6_fb5a_11ea_8b4d_525400e68179row9_col6,#T_b022eae6_fb5a_11ea_8b4d_525400e68179row10_col5{\n",
       "            background-color:  #197db7;\n",
       "            color:  #000000;\n",
       "        }#T_b022eae6_fb5a_11ea_8b4d_525400e68179row5_col11,#T_b022eae6_fb5a_11ea_8b4d_525400e68179row11_col5{\n",
       "            background-color:  #2484ba;\n",
       "            color:  #000000;\n",
       "        }#T_b022eae6_fb5a_11ea_8b4d_525400e68179row5_col12,#T_b022eae6_fb5a_11ea_8b4d_525400e68179row6_col12,#T_b022eae6_fb5a_11ea_8b4d_525400e68179row7_col9,#T_b022eae6_fb5a_11ea_8b4d_525400e68179row9_col7,#T_b022eae6_fb5a_11ea_8b4d_525400e68179row12_col5,#T_b022eae6_fb5a_11ea_8b4d_525400e68179row12_col6,#T_b022eae6_fb5a_11ea_8b4d_525400e68179row12_col15,#T_b022eae6_fb5a_11ea_8b4d_525400e68179row15_col12{\n",
       "            background-color:  #328dbf;\n",
       "            color:  #000000;\n",
       "        }#T_b022eae6_fb5a_11ea_8b4d_525400e68179row5_col14,#T_b022eae6_fb5a_11ea_8b4d_525400e68179row14_col5{\n",
       "            background-color:  #4897c4;\n",
       "            color:  #000000;\n",
       "        }#T_b022eae6_fb5a_11ea_8b4d_525400e68179row5_col15,#T_b022eae6_fb5a_11ea_8b4d_525400e68179row15_col5{\n",
       "            background-color:  #75a9cf;\n",
       "            color:  #000000;\n",
       "        }#T_b022eae6_fb5a_11ea_8b4d_525400e68179row5_col16,#T_b022eae6_fb5a_11ea_8b4d_525400e68179row8_col13,#T_b022eae6_fb5a_11ea_8b4d_525400e68179row13_col8,#T_b022eae6_fb5a_11ea_8b4d_525400e68179row16_col5{\n",
       "            background-color:  #045b8e;\n",
       "            color:  #f1f1f1;\n",
       "        }#T_b022eae6_fb5a_11ea_8b4d_525400e68179row6_col7,#T_b022eae6_fb5a_11ea_8b4d_525400e68179row7_col6{\n",
       "            background-color:  #0567a2;\n",
       "            color:  #f1f1f1;\n",
       "        }#T_b022eae6_fb5a_11ea_8b4d_525400e68179row6_col8,#T_b022eae6_fb5a_11ea_8b4d_525400e68179row8_col6{\n",
       "            background-color:  #046299;\n",
       "            color:  #f1f1f1;\n",
       "        }#T_b022eae6_fb5a_11ea_8b4d_525400e68179row6_col10,#T_b022eae6_fb5a_11ea_8b4d_525400e68179row8_col9,#T_b022eae6_fb5a_11ea_8b4d_525400e68179row9_col8,#T_b022eae6_fb5a_11ea_8b4d_525400e68179row10_col6{\n",
       "            background-color:  #056ba9;\n",
       "            color:  #f1f1f1;\n",
       "        }#T_b022eae6_fb5a_11ea_8b4d_525400e68179row6_col13,#T_b022eae6_fb5a_11ea_8b4d_525400e68179row13_col6{\n",
       "            background-color:  #046198;\n",
       "            color:  #f1f1f1;\n",
       "        }#T_b022eae6_fb5a_11ea_8b4d_525400e68179row6_col14,#T_b022eae6_fb5a_11ea_8b4d_525400e68179row11_col14,#T_b022eae6_fb5a_11ea_8b4d_525400e68179row14_col6,#T_b022eae6_fb5a_11ea_8b4d_525400e68179row14_col11,#T_b022eae6_fb5a_11ea_8b4d_525400e68179row14_col16,#T_b022eae6_fb5a_11ea_8b4d_525400e68179row16_col14{\n",
       "            background-color:  #3b92c1;\n",
       "            color:  #000000;\n",
       "        }#T_b022eae6_fb5a_11ea_8b4d_525400e68179row6_col15,#T_b022eae6_fb5a_11ea_8b4d_525400e68179row15_col6{\n",
       "            background-color:  #71a8ce;\n",
       "            color:  #000000;\n",
       "        }#T_b022eae6_fb5a_11ea_8b4d_525400e68179row6_col16,#T_b022eae6_fb5a_11ea_8b4d_525400e68179row8_col16,#T_b022eae6_fb5a_11ea_8b4d_525400e68179row16_col6,#T_b022eae6_fb5a_11ea_8b4d_525400e68179row16_col8{\n",
       "            background-color:  #045280;\n",
       "            color:  #f1f1f1;\n",
       "        }#T_b022eae6_fb5a_11ea_8b4d_525400e68179row7_col8,#T_b022eae6_fb5a_11ea_8b4d_525400e68179row8_col7{\n",
       "            background-color:  #045c90;\n",
       "            color:  #f1f1f1;\n",
       "        }#T_b022eae6_fb5a_11ea_8b4d_525400e68179row7_col10,#T_b022eae6_fb5a_11ea_8b4d_525400e68179row7_col12,#T_b022eae6_fb5a_11ea_8b4d_525400e68179row10_col7,#T_b022eae6_fb5a_11ea_8b4d_525400e68179row12_col7{\n",
       "            background-color:  #2081b9;\n",
       "            color:  #000000;\n",
       "        }#T_b022eae6_fb5a_11ea_8b4d_525400e68179row7_col11,#T_b022eae6_fb5a_11ea_8b4d_525400e68179row11_col7{\n",
       "            background-color:  #0771b1;\n",
       "            color:  #f1f1f1;\n",
       "        }#T_b022eae6_fb5a_11ea_8b4d_525400e68179row7_col13,#T_b022eae6_fb5a_11ea_8b4d_525400e68179row13_col7{\n",
       "            background-color:  #03517e;\n",
       "            color:  #f1f1f1;\n",
       "        }#T_b022eae6_fb5a_11ea_8b4d_525400e68179row7_col14,#T_b022eae6_fb5a_11ea_8b4d_525400e68179row8_col12,#T_b022eae6_fb5a_11ea_8b4d_525400e68179row9_col10,#T_b022eae6_fb5a_11ea_8b4d_525400e68179row10_col9,#T_b022eae6_fb5a_11ea_8b4d_525400e68179row12_col8,#T_b022eae6_fb5a_11ea_8b4d_525400e68179row14_col7{\n",
       "            background-color:  #1278b4;\n",
       "            color:  #f1f1f1;\n",
       "        }#T_b022eae6_fb5a_11ea_8b4d_525400e68179row7_col15,#T_b022eae6_fb5a_11ea_8b4d_525400e68179row15_col7{\n",
       "            background-color:  #187cb6;\n",
       "            color:  #000000;\n",
       "        }#T_b022eae6_fb5a_11ea_8b4d_525400e68179row7_col16,#T_b022eae6_fb5a_11ea_8b4d_525400e68179row16_col7{\n",
       "            background-color:  #045788;\n",
       "            color:  #f1f1f1;\n",
       "        }#T_b022eae6_fb5a_11ea_8b4d_525400e68179row8_col10,#T_b022eae6_fb5a_11ea_8b4d_525400e68179row10_col8{\n",
       "            background-color:  #056faf;\n",
       "            color:  #f1f1f1;\n",
       "        }#T_b022eae6_fb5a_11ea_8b4d_525400e68179row8_col11,#T_b022eae6_fb5a_11ea_8b4d_525400e68179row11_col8{\n",
       "            background-color:  #04649d;\n",
       "            color:  #f1f1f1;\n",
       "        }#T_b022eae6_fb5a_11ea_8b4d_525400e68179row8_col14,#T_b022eae6_fb5a_11ea_8b4d_525400e68179row14_col8{\n",
       "            background-color:  #0872b1;\n",
       "            color:  #f1f1f1;\n",
       "        }#T_b022eae6_fb5a_11ea_8b4d_525400e68179row8_col15,#T_b022eae6_fb5a_11ea_8b4d_525400e68179row15_col8{\n",
       "            background-color:  #529bc7;\n",
       "            color:  #000000;\n",
       "        }#T_b022eae6_fb5a_11ea_8b4d_525400e68179row9_col11,#T_b022eae6_fb5a_11ea_8b4d_525400e68179row11_col9{\n",
       "            background-color:  #056ead;\n",
       "            color:  #f1f1f1;\n",
       "        }#T_b022eae6_fb5a_11ea_8b4d_525400e68179row9_col12,#T_b022eae6_fb5a_11ea_8b4d_525400e68179row12_col9{\n",
       "            background-color:  #2383ba;\n",
       "            color:  #000000;\n",
       "        }#T_b022eae6_fb5a_11ea_8b4d_525400e68179row9_col13,#T_b022eae6_fb5a_11ea_8b4d_525400e68179row12_col13,#T_b022eae6_fb5a_11ea_8b4d_525400e68179row13_col9,#T_b022eae6_fb5a_11ea_8b4d_525400e68179row13_col12{\n",
       "            background-color:  #2987bc;\n",
       "            color:  #000000;\n",
       "        }#T_b022eae6_fb5a_11ea_8b4d_525400e68179row9_col14,#T_b022eae6_fb5a_11ea_8b4d_525400e68179row14_col9{\n",
       "            background-color:  #63a2cb;\n",
       "            color:  #000000;\n",
       "        }#T_b022eae6_fb5a_11ea_8b4d_525400e68179row9_col15,#T_b022eae6_fb5a_11ea_8b4d_525400e68179row15_col9{\n",
       "            background-color:  #97b7d7;\n",
       "            color:  #000000;\n",
       "        }#T_b022eae6_fb5a_11ea_8b4d_525400e68179row9_col16,#T_b022eae6_fb5a_11ea_8b4d_525400e68179row16_col9{\n",
       "            background-color:  #04639b;\n",
       "            color:  #f1f1f1;\n",
       "        }#T_b022eae6_fb5a_11ea_8b4d_525400e68179row10_col11,#T_b022eae6_fb5a_11ea_8b4d_525400e68179row11_col10,#T_b022eae6_fb5a_11ea_8b4d_525400e68179row11_col16,#T_b022eae6_fb5a_11ea_8b4d_525400e68179row16_col11{\n",
       "            background-color:  #046097;\n",
       "            color:  #f1f1f1;\n",
       "        }#T_b022eae6_fb5a_11ea_8b4d_525400e68179row10_col12,#T_b022eae6_fb5a_11ea_8b4d_525400e68179row12_col10,#T_b022eae6_fb5a_11ea_8b4d_525400e68179row13_col14,#T_b022eae6_fb5a_11ea_8b4d_525400e68179row14_col13{\n",
       "            background-color:  #1077b4;\n",
       "            color:  #f1f1f1;\n",
       "        }#T_b022eae6_fb5a_11ea_8b4d_525400e68179row10_col13,#T_b022eae6_fb5a_11ea_8b4d_525400e68179row13_col10{\n",
       "            background-color:  #2c89bd;\n",
       "            color:  #000000;\n",
       "        }#T_b022eae6_fb5a_11ea_8b4d_525400e68179row10_col14,#T_b022eae6_fb5a_11ea_8b4d_525400e68179row14_col10{\n",
       "            background-color:  #60a1ca;\n",
       "            color:  #000000;\n",
       "        }#T_b022eae6_fb5a_11ea_8b4d_525400e68179row10_col15,#T_b022eae6_fb5a_11ea_8b4d_525400e68179row15_col10{\n",
       "            background-color:  #4c99c5;\n",
       "            color:  #000000;\n",
       "        }#T_b022eae6_fb5a_11ea_8b4d_525400e68179row10_col16,#T_b022eae6_fb5a_11ea_8b4d_525400e68179row16_col10{\n",
       "            background-color:  #045f95;\n",
       "            color:  #f1f1f1;\n",
       "        }#T_b022eae6_fb5a_11ea_8b4d_525400e68179row11_col12,#T_b022eae6_fb5a_11ea_8b4d_525400e68179row12_col11{\n",
       "            background-color:  #1b7eb7;\n",
       "            color:  #000000;\n",
       "        }#T_b022eae6_fb5a_11ea_8b4d_525400e68179row11_col13,#T_b022eae6_fb5a_11ea_8b4d_525400e68179row13_col11{\n",
       "            background-color:  #167bb6;\n",
       "            color:  #000000;\n",
       "        }#T_b022eae6_fb5a_11ea_8b4d_525400e68179row11_col15,#T_b022eae6_fb5a_11ea_8b4d_525400e68179row15_col11{\n",
       "            background-color:  #549cc7;\n",
       "            color:  #000000;\n",
       "        }#T_b022eae6_fb5a_11ea_8b4d_525400e68179row12_col14,#T_b022eae6_fb5a_11ea_8b4d_525400e68179row14_col12{\n",
       "            background-color:  #3f93c2;\n",
       "            color:  #000000;\n",
       "        }#T_b022eae6_fb5a_11ea_8b4d_525400e68179row12_col16,#T_b022eae6_fb5a_11ea_8b4d_525400e68179row16_col12{\n",
       "            background-color:  #0569a5;\n",
       "            color:  #f1f1f1;\n",
       "        }#T_b022eae6_fb5a_11ea_8b4d_525400e68179row13_col16,#T_b022eae6_fb5a_11ea_8b4d_525400e68179row16_col13{\n",
       "            background-color:  #045687;\n",
       "            color:  #f1f1f1;\n",
       "        }#T_b022eae6_fb5a_11ea_8b4d_525400e68179row14_col15,#T_b022eae6_fb5a_11ea_8b4d_525400e68179row15_col14{\n",
       "            background-color:  #509ac6;\n",
       "            color:  #000000;\n",
       "        }#T_b022eae6_fb5a_11ea_8b4d_525400e68179row15_col16,#T_b022eae6_fb5a_11ea_8b4d_525400e68179row16_col15{\n",
       "            background-color:  #3790c0;\n",
       "            color:  #000000;\n",
       "        }</style><table id=\"T_b022eae6_fb5a_11ea_8b4d_525400e68179\" ><thead>    <tr>        <th class=\"blank level0\" ></th>        <th class=\"col_heading level0 col0\" >Rt</th>        <th class=\"col_heading level0 col1\" >theta</th>        <th class=\"col_heading level0 col2\" >kappa</th>        <th class=\"col_heading level0 col3\" >rho</th>        <th class=\"col_heading level0 col4\" >sigma</th>        <th class=\"col_heading level0 col5\" >School_closing</th>        <th class=\"col_heading level0 col6\" >Workplace_closing</th>        <th class=\"col_heading level0 col7\" >Cancel_events</th>        <th class=\"col_heading level0 col8\" >Gatherings_restrictions</th>        <th class=\"col_heading level0 col9\" >Transport_closing</th>        <th class=\"col_heading level0 col10\" >Stay_home_restrictions</th>        <th class=\"col_heading level0 col11\" >Internal_movement_restrictions</th>        <th class=\"col_heading level0 col12\" >International_movement_restrictions</th>        <th class=\"col_heading level0 col13\" >Information_campaigns</th>        <th class=\"col_heading level0 col14\" >Testing_policy</th>        <th class=\"col_heading level0 col15\" >Contact_tracing</th>        <th class=\"col_heading level0 col16\" >Stringency_index</th>    </tr></thead><tbody>\n",
       "                <tr>\n",
       "                        <th id=\"T_b022eae6_fb5a_11ea_8b4d_525400e68179level0_row0\" class=\"row_heading level0 row0\" >Rt</th>\n",
       "                        <td id=\"T_b022eae6_fb5a_11ea_8b4d_525400e68179row0_col0\" class=\"data row0 col0\" >1.000000</td>\n",
       "                        <td id=\"T_b022eae6_fb5a_11ea_8b4d_525400e68179row0_col1\" class=\"data row0 col1\" >-0.190514</td>\n",
       "                        <td id=\"T_b022eae6_fb5a_11ea_8b4d_525400e68179row0_col2\" class=\"data row0 col2\" >-0.191647</td>\n",
       "                        <td id=\"T_b022eae6_fb5a_11ea_8b4d_525400e68179row0_col3\" class=\"data row0 col3\" >0.208203</td>\n",
       "                        <td id=\"T_b022eae6_fb5a_11ea_8b4d_525400e68179row0_col4\" class=\"data row0 col4\" >-0.174051</td>\n",
       "                        <td id=\"T_b022eae6_fb5a_11ea_8b4d_525400e68179row0_col5\" class=\"data row0 col5\" >-0.035883</td>\n",
       "                        <td id=\"T_b022eae6_fb5a_11ea_8b4d_525400e68179row0_col6\" class=\"data row0 col6\" >0.033623</td>\n",
       "                        <td id=\"T_b022eae6_fb5a_11ea_8b4d_525400e68179row0_col7\" class=\"data row0 col7\" >-0.066840</td>\n",
       "                        <td id=\"T_b022eae6_fb5a_11ea_8b4d_525400e68179row0_col8\" class=\"data row0 col8\" >-0.039699</td>\n",
       "                        <td id=\"T_b022eae6_fb5a_11ea_8b4d_525400e68179row0_col9\" class=\"data row0 col9\" >-0.085924</td>\n",
       "                        <td id=\"T_b022eae6_fb5a_11ea_8b4d_525400e68179row0_col10\" class=\"data row0 col10\" >-0.130236</td>\n",
       "                        <td id=\"T_b022eae6_fb5a_11ea_8b4d_525400e68179row0_col11\" class=\"data row0 col11\" >-0.119757</td>\n",
       "                        <td id=\"T_b022eae6_fb5a_11ea_8b4d_525400e68179row0_col12\" class=\"data row0 col12\" >-0.101479</td>\n",
       "                        <td id=\"T_b022eae6_fb5a_11ea_8b4d_525400e68179row0_col13\" class=\"data row0 col13\" >-0.013811</td>\n",
       "                        <td id=\"T_b022eae6_fb5a_11ea_8b4d_525400e68179row0_col14\" class=\"data row0 col14\" >-0.128347</td>\n",
       "                        <td id=\"T_b022eae6_fb5a_11ea_8b4d_525400e68179row0_col15\" class=\"data row0 col15\" >-0.182623</td>\n",
       "                        <td id=\"T_b022eae6_fb5a_11ea_8b4d_525400e68179row0_col16\" class=\"data row0 col16\" >-0.053297</td>\n",
       "            </tr>\n",
       "            <tr>\n",
       "                        <th id=\"T_b022eae6_fb5a_11ea_8b4d_525400e68179level0_row1\" class=\"row_heading level0 row1\" >theta</th>\n",
       "                        <td id=\"T_b022eae6_fb5a_11ea_8b4d_525400e68179row1_col0\" class=\"data row1 col0\" >-0.190514</td>\n",
       "                        <td id=\"T_b022eae6_fb5a_11ea_8b4d_525400e68179row1_col1\" class=\"data row1 col1\" >1.000000</td>\n",
       "                        <td id=\"T_b022eae6_fb5a_11ea_8b4d_525400e68179row1_col2\" class=\"data row1 col2\" >0.978543</td>\n",
       "                        <td id=\"T_b022eae6_fb5a_11ea_8b4d_525400e68179row1_col3\" class=\"data row1 col3\" >0.705562</td>\n",
       "                        <td id=\"T_b022eae6_fb5a_11ea_8b4d_525400e68179row1_col4\" class=\"data row1 col4\" >-0.070418</td>\n",
       "                        <td id=\"T_b022eae6_fb5a_11ea_8b4d_525400e68179row1_col5\" class=\"data row1 col5\" >-0.211813</td>\n",
       "                        <td id=\"T_b022eae6_fb5a_11ea_8b4d_525400e68179row1_col6\" class=\"data row1 col6\" >-0.111739</td>\n",
       "                        <td id=\"T_b022eae6_fb5a_11ea_8b4d_525400e68179row1_col7\" class=\"data row1 col7\" >-0.277064</td>\n",
       "                        <td id=\"T_b022eae6_fb5a_11ea_8b4d_525400e68179row1_col8\" class=\"data row1 col8\" >-0.283561</td>\n",
       "                        <td id=\"T_b022eae6_fb5a_11ea_8b4d_525400e68179row1_col9\" class=\"data row1 col9\" >-0.275564</td>\n",
       "                        <td id=\"T_b022eae6_fb5a_11ea_8b4d_525400e68179row1_col10\" class=\"data row1 col10\" >0.137210</td>\n",
       "                        <td id=\"T_b022eae6_fb5a_11ea_8b4d_525400e68179row1_col11\" class=\"data row1 col11\" >-0.064653</td>\n",
       "                        <td id=\"T_b022eae6_fb5a_11ea_8b4d_525400e68179row1_col12\" class=\"data row1 col12\" >0.140341</td>\n",
       "                        <td id=\"T_b022eae6_fb5a_11ea_8b4d_525400e68179row1_col13\" class=\"data row1 col13\" >-0.344016</td>\n",
       "                        <td id=\"T_b022eae6_fb5a_11ea_8b4d_525400e68179row1_col14\" class=\"data row1 col14\" >-0.301546</td>\n",
       "                        <td id=\"T_b022eae6_fb5a_11ea_8b4d_525400e68179row1_col15\" class=\"data row1 col15\" >0.008528</td>\n",
       "                        <td id=\"T_b022eae6_fb5a_11ea_8b4d_525400e68179row1_col16\" class=\"data row1 col16\" >-0.147705</td>\n",
       "            </tr>\n",
       "            <tr>\n",
       "                        <th id=\"T_b022eae6_fb5a_11ea_8b4d_525400e68179level0_row2\" class=\"row_heading level0 row2\" >kappa</th>\n",
       "                        <td id=\"T_b022eae6_fb5a_11ea_8b4d_525400e68179row2_col0\" class=\"data row2 col0\" >-0.191647</td>\n",
       "                        <td id=\"T_b022eae6_fb5a_11ea_8b4d_525400e68179row2_col1\" class=\"data row2 col1\" >0.978543</td>\n",
       "                        <td id=\"T_b022eae6_fb5a_11ea_8b4d_525400e68179row2_col2\" class=\"data row2 col2\" >1.000000</td>\n",
       "                        <td id=\"T_b022eae6_fb5a_11ea_8b4d_525400e68179row2_col3\" class=\"data row2 col3\" >0.692539</td>\n",
       "                        <td id=\"T_b022eae6_fb5a_11ea_8b4d_525400e68179row2_col4\" class=\"data row2 col4\" >-0.118005</td>\n",
       "                        <td id=\"T_b022eae6_fb5a_11ea_8b4d_525400e68179row2_col5\" class=\"data row2 col5\" >-0.246729</td>\n",
       "                        <td id=\"T_b022eae6_fb5a_11ea_8b4d_525400e68179row2_col6\" class=\"data row2 col6\" >-0.151686</td>\n",
       "                        <td id=\"T_b022eae6_fb5a_11ea_8b4d_525400e68179row2_col7\" class=\"data row2 col7\" >-0.294268</td>\n",
       "                        <td id=\"T_b022eae6_fb5a_11ea_8b4d_525400e68179row2_col8\" class=\"data row2 col8\" >-0.279193</td>\n",
       "                        <td id=\"T_b022eae6_fb5a_11ea_8b4d_525400e68179row2_col9\" class=\"data row2 col9\" >-0.278745</td>\n",
       "                        <td id=\"T_b022eae6_fb5a_11ea_8b4d_525400e68179row2_col10\" class=\"data row2 col10\" >0.122093</td>\n",
       "                        <td id=\"T_b022eae6_fb5a_11ea_8b4d_525400e68179row2_col11\" class=\"data row2 col11\" >-0.063021</td>\n",
       "                        <td id=\"T_b022eae6_fb5a_11ea_8b4d_525400e68179row2_col12\" class=\"data row2 col12\" >0.154540</td>\n",
       "                        <td id=\"T_b022eae6_fb5a_11ea_8b4d_525400e68179row2_col13\" class=\"data row2 col13\" >-0.358457</td>\n",
       "                        <td id=\"T_b022eae6_fb5a_11ea_8b4d_525400e68179row2_col14\" class=\"data row2 col14\" >-0.239534</td>\n",
       "                        <td id=\"T_b022eae6_fb5a_11ea_8b4d_525400e68179row2_col15\" class=\"data row2 col15\" >0.009398</td>\n",
       "                        <td id=\"T_b022eae6_fb5a_11ea_8b4d_525400e68179row2_col16\" class=\"data row2 col16\" >-0.184553</td>\n",
       "            </tr>\n",
       "            <tr>\n",
       "                        <th id=\"T_b022eae6_fb5a_11ea_8b4d_525400e68179level0_row3\" class=\"row_heading level0 row3\" >rho</th>\n",
       "                        <td id=\"T_b022eae6_fb5a_11ea_8b4d_525400e68179row3_col0\" class=\"data row3 col0\" >0.208203</td>\n",
       "                        <td id=\"T_b022eae6_fb5a_11ea_8b4d_525400e68179row3_col1\" class=\"data row3 col1\" >0.705562</td>\n",
       "                        <td id=\"T_b022eae6_fb5a_11ea_8b4d_525400e68179row3_col2\" class=\"data row3 col2\" >0.692539</td>\n",
       "                        <td id=\"T_b022eae6_fb5a_11ea_8b4d_525400e68179row3_col3\" class=\"data row3 col3\" >1.000000</td>\n",
       "                        <td id=\"T_b022eae6_fb5a_11ea_8b4d_525400e68179row3_col4\" class=\"data row3 col4\" >0.095165</td>\n",
       "                        <td id=\"T_b022eae6_fb5a_11ea_8b4d_525400e68179row3_col5\" class=\"data row3 col5\" >-0.149902</td>\n",
       "                        <td id=\"T_b022eae6_fb5a_11ea_8b4d_525400e68179row3_col6\" class=\"data row3 col6\" >-0.068018</td>\n",
       "                        <td id=\"T_b022eae6_fb5a_11ea_8b4d_525400e68179row3_col7\" class=\"data row3 col7\" >-0.340217</td>\n",
       "                        <td id=\"T_b022eae6_fb5a_11ea_8b4d_525400e68179row3_col8\" class=\"data row3 col8\" >-0.307463</td>\n",
       "                        <td id=\"T_b022eae6_fb5a_11ea_8b4d_525400e68179row3_col9\" class=\"data row3 col9\" >-0.274552</td>\n",
       "                        <td id=\"T_b022eae6_fb5a_11ea_8b4d_525400e68179row3_col10\" class=\"data row3 col10\" >0.096042</td>\n",
       "                        <td id=\"T_b022eae6_fb5a_11ea_8b4d_525400e68179row3_col11\" class=\"data row3 col11\" >-0.144711</td>\n",
       "                        <td id=\"T_b022eae6_fb5a_11ea_8b4d_525400e68179row3_col12\" class=\"data row3 col12\" >0.010753</td>\n",
       "                        <td id=\"T_b022eae6_fb5a_11ea_8b4d_525400e68179row3_col13\" class=\"data row3 col13\" >-0.362115</td>\n",
       "                        <td id=\"T_b022eae6_fb5a_11ea_8b4d_525400e68179row3_col14\" class=\"data row3 col14\" >-0.430114</td>\n",
       "                        <td id=\"T_b022eae6_fb5a_11ea_8b4d_525400e68179row3_col15\" class=\"data row3 col15\" >-0.174446</td>\n",
       "                        <td id=\"T_b022eae6_fb5a_11ea_8b4d_525400e68179row3_col16\" class=\"data row3 col16\" >-0.149446</td>\n",
       "            </tr>\n",
       "            <tr>\n",
       "                        <th id=\"T_b022eae6_fb5a_11ea_8b4d_525400e68179level0_row4\" class=\"row_heading level0 row4\" >sigma</th>\n",
       "                        <td id=\"T_b022eae6_fb5a_11ea_8b4d_525400e68179row4_col0\" class=\"data row4 col0\" >-0.174051</td>\n",
       "                        <td id=\"T_b022eae6_fb5a_11ea_8b4d_525400e68179row4_col1\" class=\"data row4 col1\" >-0.070418</td>\n",
       "                        <td id=\"T_b022eae6_fb5a_11ea_8b4d_525400e68179row4_col2\" class=\"data row4 col2\" >-0.118005</td>\n",
       "                        <td id=\"T_b022eae6_fb5a_11ea_8b4d_525400e68179row4_col3\" class=\"data row4 col3\" >0.095165</td>\n",
       "                        <td id=\"T_b022eae6_fb5a_11ea_8b4d_525400e68179row4_col4\" class=\"data row4 col4\" >1.000000</td>\n",
       "                        <td id=\"T_b022eae6_fb5a_11ea_8b4d_525400e68179row4_col5\" class=\"data row4 col5\" >0.155492</td>\n",
       "                        <td id=\"T_b022eae6_fb5a_11ea_8b4d_525400e68179row4_col6\" class=\"data row4 col6\" >0.012357</td>\n",
       "                        <td id=\"T_b022eae6_fb5a_11ea_8b4d_525400e68179row4_col7\" class=\"data row4 col7\" >0.005503</td>\n",
       "                        <td id=\"T_b022eae6_fb5a_11ea_8b4d_525400e68179row4_col8\" class=\"data row4 col8\" >-0.126889</td>\n",
       "                        <td id=\"T_b022eae6_fb5a_11ea_8b4d_525400e68179row4_col9\" class=\"data row4 col9\" >0.029298</td>\n",
       "                        <td id=\"T_b022eae6_fb5a_11ea_8b4d_525400e68179row4_col10\" class=\"data row4 col10\" >-0.014438</td>\n",
       "                        <td id=\"T_b022eae6_fb5a_11ea_8b4d_525400e68179row4_col11\" class=\"data row4 col11\" >-0.107683</td>\n",
       "                        <td id=\"T_b022eae6_fb5a_11ea_8b4d_525400e68179row4_col12\" class=\"data row4 col12\" >-0.026088</td>\n",
       "                        <td id=\"T_b022eae6_fb5a_11ea_8b4d_525400e68179row4_col13\" class=\"data row4 col13\" >0.098902</td>\n",
       "                        <td id=\"T_b022eae6_fb5a_11ea_8b4d_525400e68179row4_col14\" class=\"data row4 col14\" >-0.114842</td>\n",
       "                        <td id=\"T_b022eae6_fb5a_11ea_8b4d_525400e68179row4_col15\" class=\"data row4 col15\" >0.122690</td>\n",
       "                        <td id=\"T_b022eae6_fb5a_11ea_8b4d_525400e68179row4_col16\" class=\"data row4 col16\" >0.074370</td>\n",
       "            </tr>\n",
       "            <tr>\n",
       "                        <th id=\"T_b022eae6_fb5a_11ea_8b4d_525400e68179level0_row5\" class=\"row_heading level0 row5\" >School_closing</th>\n",
       "                        <td id=\"T_b022eae6_fb5a_11ea_8b4d_525400e68179row5_col0\" class=\"data row5 col0\" >-0.035883</td>\n",
       "                        <td id=\"T_b022eae6_fb5a_11ea_8b4d_525400e68179row5_col1\" class=\"data row5 col1\" >-0.211813</td>\n",
       "                        <td id=\"T_b022eae6_fb5a_11ea_8b4d_525400e68179row5_col2\" class=\"data row5 col2\" >-0.246729</td>\n",
       "                        <td id=\"T_b022eae6_fb5a_11ea_8b4d_525400e68179row5_col3\" class=\"data row5 col3\" >-0.149902</td>\n",
       "                        <td id=\"T_b022eae6_fb5a_11ea_8b4d_525400e68179row5_col4\" class=\"data row5 col4\" >0.155492</td>\n",
       "                        <td id=\"T_b022eae6_fb5a_11ea_8b4d_525400e68179row5_col5\" class=\"data row5 col5\" >1.000000</td>\n",
       "                        <td id=\"T_b022eae6_fb5a_11ea_8b4d_525400e68179row5_col6\" class=\"data row5 col6\" >0.733495</td>\n",
       "                        <td id=\"T_b022eae6_fb5a_11ea_8b4d_525400e68179row5_col7\" class=\"data row5 col7\" >0.730042</td>\n",
       "                        <td id=\"T_b022eae6_fb5a_11ea_8b4d_525400e68179row5_col8\" class=\"data row5 col8\" >0.651954</td>\n",
       "                        <td id=\"T_b022eae6_fb5a_11ea_8b4d_525400e68179row5_col9\" class=\"data row5 col9\" >0.540773</td>\n",
       "                        <td id=\"T_b022eae6_fb5a_11ea_8b4d_525400e68179row5_col10\" class=\"data row5 col10\" >0.566560</td>\n",
       "                        <td id=\"T_b022eae6_fb5a_11ea_8b4d_525400e68179row5_col11\" class=\"data row5 col11\" >0.526563</td>\n",
       "                        <td id=\"T_b022eae6_fb5a_11ea_8b4d_525400e68179row5_col12\" class=\"data row5 col12\" >0.478453</td>\n",
       "                        <td id=\"T_b022eae6_fb5a_11ea_8b4d_525400e68179row5_col13\" class=\"data row5 col13\" >0.705455</td>\n",
       "                        <td id=\"T_b022eae6_fb5a_11ea_8b4d_525400e68179row5_col14\" class=\"data row5 col14\" >0.412976</td>\n",
       "                        <td id=\"T_b022eae6_fb5a_11ea_8b4d_525400e68179row5_col15\" class=\"data row5 col15\" >0.279793</td>\n",
       "                        <td id=\"T_b022eae6_fb5a_11ea_8b4d_525400e68179row5_col16\" class=\"data row5 col16\" >0.814861</td>\n",
       "            </tr>\n",
       "            <tr>\n",
       "                        <th id=\"T_b022eae6_fb5a_11ea_8b4d_525400e68179level0_row6\" class=\"row_heading level0 row6\" >Workplace_closing</th>\n",
       "                        <td id=\"T_b022eae6_fb5a_11ea_8b4d_525400e68179row6_col0\" class=\"data row6 col0\" >0.033623</td>\n",
       "                        <td id=\"T_b022eae6_fb5a_11ea_8b4d_525400e68179row6_col1\" class=\"data row6 col1\" >-0.111739</td>\n",
       "                        <td id=\"T_b022eae6_fb5a_11ea_8b4d_525400e68179row6_col2\" class=\"data row6 col2\" >-0.151686</td>\n",
       "                        <td id=\"T_b022eae6_fb5a_11ea_8b4d_525400e68179row6_col3\" class=\"data row6 col3\" >-0.068018</td>\n",
       "                        <td id=\"T_b022eae6_fb5a_11ea_8b4d_525400e68179row6_col4\" class=\"data row6 col4\" >0.012357</td>\n",
       "                        <td id=\"T_b022eae6_fb5a_11ea_8b4d_525400e68179row6_col5\" class=\"data row6 col5\" >0.733495</td>\n",
       "                        <td id=\"T_b022eae6_fb5a_11ea_8b4d_525400e68179row6_col6\" class=\"data row6 col6\" >1.000000</td>\n",
       "                        <td id=\"T_b022eae6_fb5a_11ea_8b4d_525400e68179row6_col7\" class=\"data row6 col7\" >0.711691</td>\n",
       "                        <td id=\"T_b022eae6_fb5a_11ea_8b4d_525400e68179row6_col8\" class=\"data row6 col8\" >0.756208</td>\n",
       "                        <td id=\"T_b022eae6_fb5a_11ea_8b4d_525400e68179row6_col9\" class=\"data row6 col9\" >0.566183</td>\n",
       "                        <td id=\"T_b022eae6_fb5a_11ea_8b4d_525400e68179row6_col10\" class=\"data row6 col10\" >0.677614</td>\n",
       "                        <td id=\"T_b022eae6_fb5a_11ea_8b4d_525400e68179row6_col11\" class=\"data row6 col11\" >0.649402</td>\n",
       "                        <td id=\"T_b022eae6_fb5a_11ea_8b4d_525400e68179row6_col12\" class=\"data row6 col12\" >0.477252</td>\n",
       "                        <td id=\"T_b022eae6_fb5a_11ea_8b4d_525400e68179row6_col13\" class=\"data row6 col13\" >0.763489</td>\n",
       "                        <td id=\"T_b022eae6_fb5a_11ea_8b4d_525400e68179row6_col14\" class=\"data row6 col14\" >0.448584</td>\n",
       "                        <td id=\"T_b022eae6_fb5a_11ea_8b4d_525400e68179row6_col15\" class=\"data row6 col15\" >0.294395</td>\n",
       "                        <td id=\"T_b022eae6_fb5a_11ea_8b4d_525400e68179row6_col16\" class=\"data row6 col16\" >0.864484</td>\n",
       "            </tr>\n",
       "            <tr>\n",
       "                        <th id=\"T_b022eae6_fb5a_11ea_8b4d_525400e68179level0_row7\" class=\"row_heading level0 row7\" >Cancel_events</th>\n",
       "                        <td id=\"T_b022eae6_fb5a_11ea_8b4d_525400e68179row7_col0\" class=\"data row7 col0\" >-0.066840</td>\n",
       "                        <td id=\"T_b022eae6_fb5a_11ea_8b4d_525400e68179row7_col1\" class=\"data row7 col1\" >-0.277064</td>\n",
       "                        <td id=\"T_b022eae6_fb5a_11ea_8b4d_525400e68179row7_col2\" class=\"data row7 col2\" >-0.294268</td>\n",
       "                        <td id=\"T_b022eae6_fb5a_11ea_8b4d_525400e68179row7_col3\" class=\"data row7 col3\" >-0.340217</td>\n",
       "                        <td id=\"T_b022eae6_fb5a_11ea_8b4d_525400e68179row7_col4\" class=\"data row7 col4\" >0.005503</td>\n",
       "                        <td id=\"T_b022eae6_fb5a_11ea_8b4d_525400e68179row7_col5\" class=\"data row7 col5\" >0.730042</td>\n",
       "                        <td id=\"T_b022eae6_fb5a_11ea_8b4d_525400e68179row7_col6\" class=\"data row7 col6\" >0.711691</td>\n",
       "                        <td id=\"T_b022eae6_fb5a_11ea_8b4d_525400e68179row7_col7\" class=\"data row7 col7\" >1.000000</td>\n",
       "                        <td id=\"T_b022eae6_fb5a_11ea_8b4d_525400e68179row7_col8\" class=\"data row7 col8\" >0.798945</td>\n",
       "                        <td id=\"T_b022eae6_fb5a_11ea_8b4d_525400e68179row7_col9\" class=\"data row7 col9\" >0.476226</td>\n",
       "                        <td id=\"T_b022eae6_fb5a_11ea_8b4d_525400e68179row7_col10\" class=\"data row7 col10\" >0.544345</td>\n",
       "                        <td id=\"T_b022eae6_fb5a_11ea_8b4d_525400e68179row7_col11\" class=\"data row7 col11\" >0.636186</td>\n",
       "                        <td id=\"T_b022eae6_fb5a_11ea_8b4d_525400e68179row7_col12\" class=\"data row7 col12\" >0.545734</td>\n",
       "                        <td id=\"T_b022eae6_fb5a_11ea_8b4d_525400e68179row7_col13\" class=\"data row7 col13\" >0.869447</td>\n",
       "                        <td id=\"T_b022eae6_fb5a_11ea_8b4d_525400e68179row7_col14\" class=\"data row7 col14\" >0.592635</td>\n",
       "                        <td id=\"T_b022eae6_fb5a_11ea_8b4d_525400e68179row7_col15\" class=\"data row7 col15\" >0.572522</td>\n",
       "                        <td id=\"T_b022eae6_fb5a_11ea_8b4d_525400e68179row7_col16\" class=\"data row7 col16\" >0.833655</td>\n",
       "            </tr>\n",
       "            <tr>\n",
       "                        <th id=\"T_b022eae6_fb5a_11ea_8b4d_525400e68179level0_row8\" class=\"row_heading level0 row8\" >Gatherings_restrictions</th>\n",
       "                        <td id=\"T_b022eae6_fb5a_11ea_8b4d_525400e68179row8_col0\" class=\"data row8 col0\" >-0.039699</td>\n",
       "                        <td id=\"T_b022eae6_fb5a_11ea_8b4d_525400e68179row8_col1\" class=\"data row8 col1\" >-0.283561</td>\n",
       "                        <td id=\"T_b022eae6_fb5a_11ea_8b4d_525400e68179row8_col2\" class=\"data row8 col2\" >-0.279193</td>\n",
       "                        <td id=\"T_b022eae6_fb5a_11ea_8b4d_525400e68179row8_col3\" class=\"data row8 col3\" >-0.307463</td>\n",
       "                        <td id=\"T_b022eae6_fb5a_11ea_8b4d_525400e68179row8_col4\" class=\"data row8 col4\" >-0.126889</td>\n",
       "                        <td id=\"T_b022eae6_fb5a_11ea_8b4d_525400e68179row8_col5\" class=\"data row8 col5\" >0.651954</td>\n",
       "                        <td id=\"T_b022eae6_fb5a_11ea_8b4d_525400e68179row8_col6\" class=\"data row8 col6\" >0.756208</td>\n",
       "                        <td id=\"T_b022eae6_fb5a_11ea_8b4d_525400e68179row8_col7\" class=\"data row8 col7\" >0.798945</td>\n",
       "                        <td id=\"T_b022eae6_fb5a_11ea_8b4d_525400e68179row8_col8\" class=\"data row8 col8\" >1.000000</td>\n",
       "                        <td id=\"T_b022eae6_fb5a_11ea_8b4d_525400e68179row8_col9\" class=\"data row8 col9\" >0.677888</td>\n",
       "                        <td id=\"T_b022eae6_fb5a_11ea_8b4d_525400e68179row8_col10\" class=\"data row8 col10\" >0.647706</td>\n",
       "                        <td id=\"T_b022eae6_fb5a_11ea_8b4d_525400e68179row8_col11\" class=\"data row8 col11\" >0.738388</td>\n",
       "                        <td id=\"T_b022eae6_fb5a_11ea_8b4d_525400e68179row8_col12\" class=\"data row8 col12\" >0.594409</td>\n",
       "                        <td id=\"T_b022eae6_fb5a_11ea_8b4d_525400e68179row8_col13\" class=\"data row8 col13\" >0.811450</td>\n",
       "                        <td id=\"T_b022eae6_fb5a_11ea_8b4d_525400e68179row8_col14\" class=\"data row8 col14\" >0.626758</td>\n",
       "                        <td id=\"T_b022eae6_fb5a_11ea_8b4d_525400e68179row8_col15\" class=\"data row8 col15\" >0.380665</td>\n",
       "                        <td id=\"T_b022eae6_fb5a_11ea_8b4d_525400e68179row8_col16\" class=\"data row8 col16\" >0.861065</td>\n",
       "            </tr>\n",
       "            <tr>\n",
       "                        <th id=\"T_b022eae6_fb5a_11ea_8b4d_525400e68179level0_row9\" class=\"row_heading level0 row9\" >Transport_closing</th>\n",
       "                        <td id=\"T_b022eae6_fb5a_11ea_8b4d_525400e68179row9_col0\" class=\"data row9 col0\" >-0.085924</td>\n",
       "                        <td id=\"T_b022eae6_fb5a_11ea_8b4d_525400e68179row9_col1\" class=\"data row9 col1\" >-0.275564</td>\n",
       "                        <td id=\"T_b022eae6_fb5a_11ea_8b4d_525400e68179row9_col2\" class=\"data row9 col2\" >-0.278745</td>\n",
       "                        <td id=\"T_b022eae6_fb5a_11ea_8b4d_525400e68179row9_col3\" class=\"data row9 col3\" >-0.274552</td>\n",
       "                        <td id=\"T_b022eae6_fb5a_11ea_8b4d_525400e68179row9_col4\" class=\"data row9 col4\" >0.029298</td>\n",
       "                        <td id=\"T_b022eae6_fb5a_11ea_8b4d_525400e68179row9_col5\" class=\"data row9 col5\" >0.540773</td>\n",
       "                        <td id=\"T_b022eae6_fb5a_11ea_8b4d_525400e68179row9_col6\" class=\"data row9 col6\" >0.566183</td>\n",
       "                        <td id=\"T_b022eae6_fb5a_11ea_8b4d_525400e68179row9_col7\" class=\"data row9 col7\" >0.476226</td>\n",
       "                        <td id=\"T_b022eae6_fb5a_11ea_8b4d_525400e68179row9_col8\" class=\"data row9 col8\" >0.677888</td>\n",
       "                        <td id=\"T_b022eae6_fb5a_11ea_8b4d_525400e68179row9_col9\" class=\"data row9 col9\" >1.000000</td>\n",
       "                        <td id=\"T_b022eae6_fb5a_11ea_8b4d_525400e68179row9_col10\" class=\"data row9 col10\" >0.592822</td>\n",
       "                        <td id=\"T_b022eae6_fb5a_11ea_8b4d_525400e68179row9_col11\" class=\"data row9 col11\" >0.657204</td>\n",
       "                        <td id=\"T_b022eae6_fb5a_11ea_8b4d_525400e68179row9_col12\" class=\"data row9 col12\" >0.532023</td>\n",
       "                        <td id=\"T_b022eae6_fb5a_11ea_8b4d_525400e68179row9_col13\" class=\"data row9 col13\" >0.510911</td>\n",
       "                        <td id=\"T_b022eae6_fb5a_11ea_8b4d_525400e68179row9_col14\" class=\"data row9 col14\" >0.334064</td>\n",
       "                        <td id=\"T_b022eae6_fb5a_11ea_8b4d_525400e68179row9_col15\" class=\"data row9 col15\" >0.158527</td>\n",
       "                        <td id=\"T_b022eae6_fb5a_11ea_8b4d_525400e68179row9_col16\" class=\"data row9 col16\" >0.744403</td>\n",
       "            </tr>\n",
       "            <tr>\n",
       "                        <th id=\"T_b022eae6_fb5a_11ea_8b4d_525400e68179level0_row10\" class=\"row_heading level0 row10\" >Stay_home_restrictions</th>\n",
       "                        <td id=\"T_b022eae6_fb5a_11ea_8b4d_525400e68179row10_col0\" class=\"data row10 col0\" >-0.130236</td>\n",
       "                        <td id=\"T_b022eae6_fb5a_11ea_8b4d_525400e68179row10_col1\" class=\"data row10 col1\" >0.137210</td>\n",
       "                        <td id=\"T_b022eae6_fb5a_11ea_8b4d_525400e68179row10_col2\" class=\"data row10 col2\" >0.122093</td>\n",
       "                        <td id=\"T_b022eae6_fb5a_11ea_8b4d_525400e68179row10_col3\" class=\"data row10 col3\" >0.096042</td>\n",
       "                        <td id=\"T_b022eae6_fb5a_11ea_8b4d_525400e68179row10_col4\" class=\"data row10 col4\" >-0.014438</td>\n",
       "                        <td id=\"T_b022eae6_fb5a_11ea_8b4d_525400e68179row10_col5\" class=\"data row10 col5\" >0.566560</td>\n",
       "                        <td id=\"T_b022eae6_fb5a_11ea_8b4d_525400e68179row10_col6\" class=\"data row10 col6\" >0.677614</td>\n",
       "                        <td id=\"T_b022eae6_fb5a_11ea_8b4d_525400e68179row10_col7\" class=\"data row10 col7\" >0.544345</td>\n",
       "                        <td id=\"T_b022eae6_fb5a_11ea_8b4d_525400e68179row10_col8\" class=\"data row10 col8\" >0.647706</td>\n",
       "                        <td id=\"T_b022eae6_fb5a_11ea_8b4d_525400e68179row10_col9\" class=\"data row10 col9\" >0.592822</td>\n",
       "                        <td id=\"T_b022eae6_fb5a_11ea_8b4d_525400e68179row10_col10\" class=\"data row10 col10\" >1.000000</td>\n",
       "                        <td id=\"T_b022eae6_fb5a_11ea_8b4d_525400e68179row10_col11\" class=\"data row10 col11\" >0.768932</td>\n",
       "                        <td id=\"T_b022eae6_fb5a_11ea_8b4d_525400e68179row10_col12\" class=\"data row10 col12\" >0.602871</td>\n",
       "                        <td id=\"T_b022eae6_fb5a_11ea_8b4d_525400e68179row10_col13\" class=\"data row10 col13\" >0.499344</td>\n",
       "                        <td id=\"T_b022eae6_fb5a_11ea_8b4d_525400e68179row10_col14\" class=\"data row10 col14\" >0.345401</td>\n",
       "                        <td id=\"T_b022eae6_fb5a_11ea_8b4d_525400e68179row10_col15\" class=\"data row10 col15\" >0.399901</td>\n",
       "                        <td id=\"T_b022eae6_fb5a_11ea_8b4d_525400e68179row10_col16\" class=\"data row10 col16\" >0.782115</td>\n",
       "            </tr>\n",
       "            <tr>\n",
       "                        <th id=\"T_b022eae6_fb5a_11ea_8b4d_525400e68179level0_row11\" class=\"row_heading level0 row11\" >Internal_movement_restrictions</th>\n",
       "                        <td id=\"T_b022eae6_fb5a_11ea_8b4d_525400e68179row11_col0\" class=\"data row11 col0\" >-0.119757</td>\n",
       "                        <td id=\"T_b022eae6_fb5a_11ea_8b4d_525400e68179row11_col1\" class=\"data row11 col1\" >-0.064653</td>\n",
       "                        <td id=\"T_b022eae6_fb5a_11ea_8b4d_525400e68179row11_col2\" class=\"data row11 col2\" >-0.063021</td>\n",
       "                        <td id=\"T_b022eae6_fb5a_11ea_8b4d_525400e68179row11_col3\" class=\"data row11 col3\" >-0.144711</td>\n",
       "                        <td id=\"T_b022eae6_fb5a_11ea_8b4d_525400e68179row11_col4\" class=\"data row11 col4\" >-0.107683</td>\n",
       "                        <td id=\"T_b022eae6_fb5a_11ea_8b4d_525400e68179row11_col5\" class=\"data row11 col5\" >0.526563</td>\n",
       "                        <td id=\"T_b022eae6_fb5a_11ea_8b4d_525400e68179row11_col6\" class=\"data row11 col6\" >0.649402</td>\n",
       "                        <td id=\"T_b022eae6_fb5a_11ea_8b4d_525400e68179row11_col7\" class=\"data row11 col7\" >0.636186</td>\n",
       "                        <td id=\"T_b022eae6_fb5a_11ea_8b4d_525400e68179row11_col8\" class=\"data row11 col8\" >0.738388</td>\n",
       "                        <td id=\"T_b022eae6_fb5a_11ea_8b4d_525400e68179row11_col9\" class=\"data row11 col9\" >0.657204</td>\n",
       "                        <td id=\"T_b022eae6_fb5a_11ea_8b4d_525400e68179row11_col10\" class=\"data row11 col10\" >0.768932</td>\n",
       "                        <td id=\"T_b022eae6_fb5a_11ea_8b4d_525400e68179row11_col11\" class=\"data row11 col11\" >1.000000</td>\n",
       "                        <td id=\"T_b022eae6_fb5a_11ea_8b4d_525400e68179row11_col12\" class=\"data row11 col12\" >0.562624</td>\n",
       "                        <td id=\"T_b022eae6_fb5a_11ea_8b4d_525400e68179row11_col13\" class=\"data row11 col13\" >0.578804</td>\n",
       "                        <td id=\"T_b022eae6_fb5a_11ea_8b4d_525400e68179row11_col14\" class=\"data row11 col14\" >0.450094</td>\n",
       "                        <td id=\"T_b022eae6_fb5a_11ea_8b4d_525400e68179row11_col15\" class=\"data row11 col15\" >0.378288</td>\n",
       "                        <td id=\"T_b022eae6_fb5a_11ea_8b4d_525400e68179row11_col16\" class=\"data row11 col16\" >0.769291</td>\n",
       "            </tr>\n",
       "            <tr>\n",
       "                        <th id=\"T_b022eae6_fb5a_11ea_8b4d_525400e68179level0_row12\" class=\"row_heading level0 row12\" >International_movement_restrictions</th>\n",
       "                        <td id=\"T_b022eae6_fb5a_11ea_8b4d_525400e68179row12_col0\" class=\"data row12 col0\" >-0.101479</td>\n",
       "                        <td id=\"T_b022eae6_fb5a_11ea_8b4d_525400e68179row12_col1\" class=\"data row12 col1\" >0.140341</td>\n",
       "                        <td id=\"T_b022eae6_fb5a_11ea_8b4d_525400e68179row12_col2\" class=\"data row12 col2\" >0.154540</td>\n",
       "                        <td id=\"T_b022eae6_fb5a_11ea_8b4d_525400e68179row12_col3\" class=\"data row12 col3\" >0.010753</td>\n",
       "                        <td id=\"T_b022eae6_fb5a_11ea_8b4d_525400e68179row12_col4\" class=\"data row12 col4\" >-0.026088</td>\n",
       "                        <td id=\"T_b022eae6_fb5a_11ea_8b4d_525400e68179row12_col5\" class=\"data row12 col5\" >0.478453</td>\n",
       "                        <td id=\"T_b022eae6_fb5a_11ea_8b4d_525400e68179row12_col6\" class=\"data row12 col6\" >0.477252</td>\n",
       "                        <td id=\"T_b022eae6_fb5a_11ea_8b4d_525400e68179row12_col7\" class=\"data row12 col7\" >0.545734</td>\n",
       "                        <td id=\"T_b022eae6_fb5a_11ea_8b4d_525400e68179row12_col8\" class=\"data row12 col8\" >0.594409</td>\n",
       "                        <td id=\"T_b022eae6_fb5a_11ea_8b4d_525400e68179row12_col9\" class=\"data row12 col9\" >0.532023</td>\n",
       "                        <td id=\"T_b022eae6_fb5a_11ea_8b4d_525400e68179row12_col10\" class=\"data row12 col10\" >0.602871</td>\n",
       "                        <td id=\"T_b022eae6_fb5a_11ea_8b4d_525400e68179row12_col11\" class=\"data row12 col11\" >0.562624</td>\n",
       "                        <td id=\"T_b022eae6_fb5a_11ea_8b4d_525400e68179row12_col12\" class=\"data row12 col12\" >1.000000</td>\n",
       "                        <td id=\"T_b022eae6_fb5a_11ea_8b4d_525400e68179row12_col13\" class=\"data row12 col13\" >0.510838</td>\n",
       "                        <td id=\"T_b022eae6_fb5a_11ea_8b4d_525400e68179row12_col14\" class=\"data row12 col14\" >0.436457</td>\n",
       "                        <td id=\"T_b022eae6_fb5a_11ea_8b4d_525400e68179row12_col15\" class=\"data row12 col15\" >0.477190</td>\n",
       "                        <td id=\"T_b022eae6_fb5a_11ea_8b4d_525400e68179row12_col16\" class=\"data row12 col16\" >0.693237</td>\n",
       "            </tr>\n",
       "            <tr>\n",
       "                        <th id=\"T_b022eae6_fb5a_11ea_8b4d_525400e68179level0_row13\" class=\"row_heading level0 row13\" >Information_campaigns</th>\n",
       "                        <td id=\"T_b022eae6_fb5a_11ea_8b4d_525400e68179row13_col0\" class=\"data row13 col0\" >-0.013811</td>\n",
       "                        <td id=\"T_b022eae6_fb5a_11ea_8b4d_525400e68179row13_col1\" class=\"data row13 col1\" >-0.344016</td>\n",
       "                        <td id=\"T_b022eae6_fb5a_11ea_8b4d_525400e68179row13_col2\" class=\"data row13 col2\" >-0.358457</td>\n",
       "                        <td id=\"T_b022eae6_fb5a_11ea_8b4d_525400e68179row13_col3\" class=\"data row13 col3\" >-0.362115</td>\n",
       "                        <td id=\"T_b022eae6_fb5a_11ea_8b4d_525400e68179row13_col4\" class=\"data row13 col4\" >0.098902</td>\n",
       "                        <td id=\"T_b022eae6_fb5a_11ea_8b4d_525400e68179row13_col5\" class=\"data row13 col5\" >0.705455</td>\n",
       "                        <td id=\"T_b022eae6_fb5a_11ea_8b4d_525400e68179row13_col6\" class=\"data row13 col6\" >0.763489</td>\n",
       "                        <td id=\"T_b022eae6_fb5a_11ea_8b4d_525400e68179row13_col7\" class=\"data row13 col7\" >0.869447</td>\n",
       "                        <td id=\"T_b022eae6_fb5a_11ea_8b4d_525400e68179row13_col8\" class=\"data row13 col8\" >0.811450</td>\n",
       "                        <td id=\"T_b022eae6_fb5a_11ea_8b4d_525400e68179row13_col9\" class=\"data row13 col9\" >0.510911</td>\n",
       "                        <td id=\"T_b022eae6_fb5a_11ea_8b4d_525400e68179row13_col10\" class=\"data row13 col10\" >0.499344</td>\n",
       "                        <td id=\"T_b022eae6_fb5a_11ea_8b4d_525400e68179row13_col11\" class=\"data row13 col11\" >0.578804</td>\n",
       "                        <td id=\"T_b022eae6_fb5a_11ea_8b4d_525400e68179row13_col12\" class=\"data row13 col12\" >0.510838</td>\n",
       "                        <td id=\"T_b022eae6_fb5a_11ea_8b4d_525400e68179row13_col13\" class=\"data row13 col13\" >1.000000</td>\n",
       "                        <td id=\"T_b022eae6_fb5a_11ea_8b4d_525400e68179row13_col14\" class=\"data row13 col14\" >0.601306</td>\n",
       "                        <td id=\"T_b022eae6_fb5a_11ea_8b4d_525400e68179row13_col15\" class=\"data row13 col15\" >0.536704</td>\n",
       "                        <td id=\"T_b022eae6_fb5a_11ea_8b4d_525400e68179row13_col16\" class=\"data row13 col16\" >0.839427</td>\n",
       "            </tr>\n",
       "            <tr>\n",
       "                        <th id=\"T_b022eae6_fb5a_11ea_8b4d_525400e68179level0_row14\" class=\"row_heading level0 row14\" >Testing_policy</th>\n",
       "                        <td id=\"T_b022eae6_fb5a_11ea_8b4d_525400e68179row14_col0\" class=\"data row14 col0\" >-0.128347</td>\n",
       "                        <td id=\"T_b022eae6_fb5a_11ea_8b4d_525400e68179row14_col1\" class=\"data row14 col1\" >-0.301546</td>\n",
       "                        <td id=\"T_b022eae6_fb5a_11ea_8b4d_525400e68179row14_col2\" class=\"data row14 col2\" >-0.239534</td>\n",
       "                        <td id=\"T_b022eae6_fb5a_11ea_8b4d_525400e68179row14_col3\" class=\"data row14 col3\" >-0.430114</td>\n",
       "                        <td id=\"T_b022eae6_fb5a_11ea_8b4d_525400e68179row14_col4\" class=\"data row14 col4\" >-0.114842</td>\n",
       "                        <td id=\"T_b022eae6_fb5a_11ea_8b4d_525400e68179row14_col5\" class=\"data row14 col5\" >0.412976</td>\n",
       "                        <td id=\"T_b022eae6_fb5a_11ea_8b4d_525400e68179row14_col6\" class=\"data row14 col6\" >0.448584</td>\n",
       "                        <td id=\"T_b022eae6_fb5a_11ea_8b4d_525400e68179row14_col7\" class=\"data row14 col7\" >0.592635</td>\n",
       "                        <td id=\"T_b022eae6_fb5a_11ea_8b4d_525400e68179row14_col8\" class=\"data row14 col8\" >0.626758</td>\n",
       "                        <td id=\"T_b022eae6_fb5a_11ea_8b4d_525400e68179row14_col9\" class=\"data row14 col9\" >0.334064</td>\n",
       "                        <td id=\"T_b022eae6_fb5a_11ea_8b4d_525400e68179row14_col10\" class=\"data row14 col10\" >0.345401</td>\n",
       "                        <td id=\"T_b022eae6_fb5a_11ea_8b4d_525400e68179row14_col11\" class=\"data row14 col11\" >0.450094</td>\n",
       "                        <td id=\"T_b022eae6_fb5a_11ea_8b4d_525400e68179row14_col12\" class=\"data row14 col12\" >0.436457</td>\n",
       "                        <td id=\"T_b022eae6_fb5a_11ea_8b4d_525400e68179row14_col13\" class=\"data row14 col13\" >0.601306</td>\n",
       "                        <td id=\"T_b022eae6_fb5a_11ea_8b4d_525400e68179row14_col14\" class=\"data row14 col14\" >1.000000</td>\n",
       "                        <td id=\"T_b022eae6_fb5a_11ea_8b4d_525400e68179row14_col15\" class=\"data row14 col15\" >0.389956</td>\n",
       "                        <td id=\"T_b022eae6_fb5a_11ea_8b4d_525400e68179row14_col16\" class=\"data row14 col16\" >0.446981</td>\n",
       "            </tr>\n",
       "            <tr>\n",
       "                        <th id=\"T_b022eae6_fb5a_11ea_8b4d_525400e68179level0_row15\" class=\"row_heading level0 row15\" >Contact_tracing</th>\n",
       "                        <td id=\"T_b022eae6_fb5a_11ea_8b4d_525400e68179row15_col0\" class=\"data row15 col0\" >-0.182623</td>\n",
       "                        <td id=\"T_b022eae6_fb5a_11ea_8b4d_525400e68179row15_col1\" class=\"data row15 col1\" >0.008528</td>\n",
       "                        <td id=\"T_b022eae6_fb5a_11ea_8b4d_525400e68179row15_col2\" class=\"data row15 col2\" >0.009398</td>\n",
       "                        <td id=\"T_b022eae6_fb5a_11ea_8b4d_525400e68179row15_col3\" class=\"data row15 col3\" >-0.174446</td>\n",
       "                        <td id=\"T_b022eae6_fb5a_11ea_8b4d_525400e68179row15_col4\" class=\"data row15 col4\" >0.122690</td>\n",
       "                        <td id=\"T_b022eae6_fb5a_11ea_8b4d_525400e68179row15_col5\" class=\"data row15 col5\" >0.279793</td>\n",
       "                        <td id=\"T_b022eae6_fb5a_11ea_8b4d_525400e68179row15_col6\" class=\"data row15 col6\" >0.294395</td>\n",
       "                        <td id=\"T_b022eae6_fb5a_11ea_8b4d_525400e68179row15_col7\" class=\"data row15 col7\" >0.572522</td>\n",
       "                        <td id=\"T_b022eae6_fb5a_11ea_8b4d_525400e68179row15_col8\" class=\"data row15 col8\" >0.380665</td>\n",
       "                        <td id=\"T_b022eae6_fb5a_11ea_8b4d_525400e68179row15_col9\" class=\"data row15 col9\" >0.158527</td>\n",
       "                        <td id=\"T_b022eae6_fb5a_11ea_8b4d_525400e68179row15_col10\" class=\"data row15 col10\" >0.399901</td>\n",
       "                        <td id=\"T_b022eae6_fb5a_11ea_8b4d_525400e68179row15_col11\" class=\"data row15 col11\" >0.378288</td>\n",
       "                        <td id=\"T_b022eae6_fb5a_11ea_8b4d_525400e68179row15_col12\" class=\"data row15 col12\" >0.477190</td>\n",
       "                        <td id=\"T_b022eae6_fb5a_11ea_8b4d_525400e68179row15_col13\" class=\"data row15 col13\" >0.536704</td>\n",
       "                        <td id=\"T_b022eae6_fb5a_11ea_8b4d_525400e68179row15_col14\" class=\"data row15 col14\" >0.389956</td>\n",
       "                        <td id=\"T_b022eae6_fb5a_11ea_8b4d_525400e68179row15_col15\" class=\"data row15 col15\" >1.000000</td>\n",
       "                        <td id=\"T_b022eae6_fb5a_11ea_8b4d_525400e68179row15_col16\" class=\"data row15 col16\" >0.461141</td>\n",
       "            </tr>\n",
       "            <tr>\n",
       "                        <th id=\"T_b022eae6_fb5a_11ea_8b4d_525400e68179level0_row16\" class=\"row_heading level0 row16\" >Stringency_index</th>\n",
       "                        <td id=\"T_b022eae6_fb5a_11ea_8b4d_525400e68179row16_col0\" class=\"data row16 col0\" >-0.053297</td>\n",
       "                        <td id=\"T_b022eae6_fb5a_11ea_8b4d_525400e68179row16_col1\" class=\"data row16 col1\" >-0.147705</td>\n",
       "                        <td id=\"T_b022eae6_fb5a_11ea_8b4d_525400e68179row16_col2\" class=\"data row16 col2\" >-0.184553</td>\n",
       "                        <td id=\"T_b022eae6_fb5a_11ea_8b4d_525400e68179row16_col3\" class=\"data row16 col3\" >-0.149446</td>\n",
       "                        <td id=\"T_b022eae6_fb5a_11ea_8b4d_525400e68179row16_col4\" class=\"data row16 col4\" >0.074370</td>\n",
       "                        <td id=\"T_b022eae6_fb5a_11ea_8b4d_525400e68179row16_col5\" class=\"data row16 col5\" >0.814861</td>\n",
       "                        <td id=\"T_b022eae6_fb5a_11ea_8b4d_525400e68179row16_col6\" class=\"data row16 col6\" >0.864484</td>\n",
       "                        <td id=\"T_b022eae6_fb5a_11ea_8b4d_525400e68179row16_col7\" class=\"data row16 col7\" >0.833655</td>\n",
       "                        <td id=\"T_b022eae6_fb5a_11ea_8b4d_525400e68179row16_col8\" class=\"data row16 col8\" >0.861065</td>\n",
       "                        <td id=\"T_b022eae6_fb5a_11ea_8b4d_525400e68179row16_col9\" class=\"data row16 col9\" >0.744403</td>\n",
       "                        <td id=\"T_b022eae6_fb5a_11ea_8b4d_525400e68179row16_col10\" class=\"data row16 col10\" >0.782115</td>\n",
       "                        <td id=\"T_b022eae6_fb5a_11ea_8b4d_525400e68179row16_col11\" class=\"data row16 col11\" >0.769291</td>\n",
       "                        <td id=\"T_b022eae6_fb5a_11ea_8b4d_525400e68179row16_col12\" class=\"data row16 col12\" >0.693237</td>\n",
       "                        <td id=\"T_b022eae6_fb5a_11ea_8b4d_525400e68179row16_col13\" class=\"data row16 col13\" >0.839427</td>\n",
       "                        <td id=\"T_b022eae6_fb5a_11ea_8b4d_525400e68179row16_col14\" class=\"data row16 col14\" >0.446981</td>\n",
       "                        <td id=\"T_b022eae6_fb5a_11ea_8b4d_525400e68179row16_col15\" class=\"data row16 col15\" >0.461141</td>\n",
       "                        <td id=\"T_b022eae6_fb5a_11ea_8b4d_525400e68179row16_col16\" class=\"data row16 col16\" >1.000000</td>\n",
       "            </tr>\n",
       "    </tbody></table>"
      ],
      "text/plain": [
       "<pandas.io.formats.style.Styler at 0x7f53faba74c0>"
      ]
     },
     "execution_count": 21,
     "metadata": {},
     "output_type": "execute_result"
    }
   ],
   "source": [
    "# Correlation\n",
    "df = track_df.copy()\n",
    "df.corr().style.background_gradient(axis=None)"
   ]
  },
  {
   "cell_type": "code",
   "execution_count": 22,
   "metadata": {
    "collapsed": false
   },
   "outputs": [
    {
     "data": {
      "image/png": "[encoded data removed]",
      "text/plain": [
       "<Figure size 432x288 with 1 Axes>"
      ]
     },
     "metadata": {},
     "output_type": "display_data"
    }
   ],
   "source": [
    "# Scatter plot of Stringency index and Rt\n",
    "df = track_df.copy()\n",
    "sns.scatterplot(data=df, x=\"Stringency_index\", y=\"Rt\", hue=\"Country\", legend=\"brief\", marker=\"+\")\n",
    "bbox_to_anchor=(1.02, 0)\n",
    "bbox_loc=\"lower left\"\n",
    "plt.legend(bbox_to_anchor=bbox_to_anchor, loc=bbox_loc, borderaxespad=0)\n",
    "plt.title(\"Relationship of Stringency index and reproduction number\")\n",
    "plt.ylabel(\"Reproduction number\")\n",
    "plt.xlabel(\"Stringency index\")\n",
    "plt.show()"
   ]
  }
 ],
 "metadata": {
  "kernelspec": {
   "display_name": "Python 3.8.2 64-bit ('.venv': venv)",
   "name": "python_defaultSpec_1597669925034"
  },
  "language_info": {
   "codemirror_mode": {
    "name": "ipython",
    "version": 3
   },
   "file_extension": ".py",
   "mimetype": "text/x-python",
   "name": "python",
   "nbconvert_exporter": "python",
   "pygments_lexer": "ipython3",
   "version": "3.8.2-final"
  }
 },
 "nbformat": 4,
 "nbformat_minor": 4
}
