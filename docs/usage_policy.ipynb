{
 "cells": [
  {
   "cell_type": "markdown",
   "metadata": {},
   "source": [
    "# Usage (details: policy measures)\n",
    "Here, we will analyse the relationship of policy measures and parameter values of SIR-derived ODE models. Policy measures are tracked by [Oxford Covid-19 Government Response Tracker (OxCGRT)](https://github.com/OxCGRT/covid-policy-tracker)."
   ]
  },
  {
   "cell_type": "markdown",
   "metadata": {},
   "source": [
    "## Preparation"
   ]
  },
  {
   "cell_type": "code",
   "execution_count": 1,
   "metadata": {
    "collapsed": false
   },
   "outputs": [],
   "source": [
    "# Standard users\n",
    "# !pip install covsirphy\n",
    "# Developers (Note: this notebook is in example directory)\n",
    "import os\n",
    "os.chdir(\"../\")"
   ]
  },
  {
   "cell_type": "code",
   "execution_count": 2,
   "metadata": {
    "collapsed": false
   },
   "outputs": [],
   "source": [
    "from pprint import pprint"
   ]
  },
  {
   "cell_type": "code",
   "execution_count": 3,
   "metadata": {
    "collapsed": false
   },
   "outputs": [
    {
     "data": {
      "text/plain": [
       "'2.8.2'"
      ]
     },
     "execution_count": 3,
     "metadata": {},
     "output_type": "execute_result"
    }
   ],
   "source": [
    "import covsirphy as cs\n",
    "cs.__version__"
   ]
  },
  {
   "cell_type": "code",
   "execution_count": 4,
   "metadata": {
    "collapsed": false,
    "tags": []
   },
   "outputs": [
    {
     "name": "stdout",
     "output_type": "stream",
     "text": [
      "(Secondary source) Guidotti, E., Ardia, D., (2020), \"COVID-19 Data Hub\", Journal of Open Source Software 5(51):2376, doi: 10.21105/joss.02376.\n",
      "We can get Citation list of primary sources with DataLoader(...).covid19dh_citation"
     ]
    },
    {
     "name": "stdout",
     "output_type": "stream",
     "text": [
      "\n"
     ]
    }
   ],
   "source": [
    "# Standard users and developers\n",
    "data_loader = cs.DataLoader(\"input\")\n",
    "# The number of cases (JHU style)\n",
    "jhu_data = data_loader.jhu(verbose=False)\n",
    "# Population in each country\n",
    "population_data = data_loader.population(verbose=False)\n",
    "# Government Response Tracker (OxCGRT)\n",
    "oxcgrt_data = data_loader.oxcgrt(verbose=False)\n",
    "# Description/citation\n",
    "print(oxcgrt_data.citation)"
   ]
  },
  {
   "cell_type": "markdown",
   "metadata": {},
   "source": [
    "## Class for policy measure analysis\n",
    "We will `PolicyMeasures` class to find relationship of policy measures and parameter values of SIR-derived ODE models."
   ]
  },
  {
   "cell_type": "code",
   "execution_count": 5,
   "metadata": {
    "collapsed": false,
    "tags": []
   },
   "outputs": [
    {
     "data": {
      "text/plain": [
       "184"
      ]
     },
     "execution_count": 5,
     "metadata": {},
     "output_type": "execute_result"
    }
   ],
   "source": [
    "# Create analyser with tau value 360 [min] (can be changed)\n",
    "analyser = cs.PolicyMeasures(jhu_data, population_data, oxcgrt_data, tau=360)\n",
    "# The number of registerd countries\n",
    "len(analyser.countries)"
   ]
  },
  {
   "cell_type": "code",
   "execution_count": 6,
   "metadata": {
    "collapsed": false
   },
   "outputs": [
    {
     "data": {
      "text/plain": [
       "covsirphy.analysis.scenario.Scenario"
      ]
     },
     "execution_count": 6,
     "metadata": {},
     "output_type": "execute_result"
    }
   ],
   "source": [
    "# We can get Scenario instance for detailed scenario analysis\n",
    "type(analyser.scenario(\"Japan\"))"
   ]
  },
  {
   "cell_type": "markdown",
   "metadata": {},
   "source": [
    "## Set phases with S-R trend analysis\n",
    "We will perform S-R trend analysis to set phases in all countries. Countries which do not have **9th phases** will be un-registered for the next analysis. This number will be adjusted for your analysis."
   ]
  },
  {
   "cell_type": "code",
   "execution_count": 7,
   "metadata": {
    "collapsed": false
   },
   "outputs": [
    {
     "name": "stdout",
     "output_type": "stream",
     "text": [
      "{"
     ]
    },
    {
     "name": "stdout",
     "output_type": "stream",
     "text": [
      "3"
     ]
    },
    {
     "name": "stdout",
     "output_type": "stream",
     "text": [
      ": "
     ]
    },
    {
     "name": "stdout",
     "output_type": "stream",
     "text": [
      "['Tanzania', 'Dominica']"
     ]
    },
    {
     "name": "stdout",
     "output_type": "stream",
     "text": [
      ",\n",
      " "
     ]
    },
    {
     "name": "stdout",
     "output_type": "stream",
     "text": [
      "4"
     ]
    },
    {
     "name": "stdout",
     "output_type": "stream",
     "text": [
      ": "
     ]
    },
    {
     "name": "stdout",
     "output_type": "stream",
     "text": [
      "["
     ]
    },
    {
     "name": "stdout",
     "output_type": "stream",
     "text": [
      "'Mauritius'"
     ]
    },
    {
     "name": "stdout",
     "output_type": "stream",
     "text": [
      ", "
     ]
    },
    {
     "name": "stdout",
     "output_type": "stream",
     "text": [
      "'Bahamas'"
     ]
    },
    {
     "name": "stdout",
     "output_type": "stream",
     "text": [
      ", "
     ]
    },
    {
     "name": "stdout",
     "output_type": "stream",
     "text": [
      "'Trinidad and Tobago'"
     ]
    },
    {
     "name": "stdout",
     "output_type": "stream",
     "text": [
      ", "
     ]
    },
    {
     "name": "stdout",
     "output_type": "stream",
     "text": [
      "'Belize'"
     ]
    },
    {
     "name": "stdout",
     "output_type": "stream",
     "text": [
      ", "
     ]
    },
    {
     "name": "stdout",
     "output_type": "stream",
     "text": [
      "'Brunei'"
     ]
    },
    {
     "name": "stdout",
     "output_type": "stream",
     "text": [
      ",\n",
      "     "
     ]
    },
    {
     "name": "stdout",
     "output_type": "stream",
     "text": [
      "'Seychelles'"
     ]
    },
    {
     "name": "stdout",
     "output_type": "stream",
     "text": [
      ", "
     ]
    },
    {
     "name": "stdout",
     "output_type": "stream",
     "text": [
      "'Myanmar'"
     ]
    },
    {
     "name": "stdout",
     "output_type": "stream",
     "text": [
      "]"
     ]
    },
    {
     "name": "stdout",
     "output_type": "stream",
     "text": [
      ",\n",
      " "
     ]
    },
    {
     "name": "stdout",
     "output_type": "stream",
     "text": [
      "5"
     ]
    },
    {
     "name": "stdout",
     "output_type": "stream",
     "text": [
      ": "
     ]
    },
    {
     "name": "stdout",
     "output_type": "stream",
     "text": [
      "["
     ]
    },
    {
     "name": "stdout",
     "output_type": "stream",
     "text": [
      "'Namibia'"
     ]
    },
    {
     "name": "stdout",
     "output_type": "stream",
     "text": [
      ", "
     ]
    },
    {
     "name": "stdout",
     "output_type": "stream",
     "text": [
      "'Papua New Guinea'"
     ]
    },
    {
     "name": "stdout",
     "output_type": "stream",
     "text": [
      ", "
     ]
    },
    {
     "name": "stdout",
     "output_type": "stream",
     "text": [
      "'Guyana'"
     ]
    },
    {
     "name": "stdout",
     "output_type": "stream",
     "text": [
      ", "
     ]
    },
    {
     "name": "stdout",
     "output_type": "stream",
     "text": [
      "'Antigua and Barbuda'"
     ]
    },
    {
     "name": "stdout",
     "output_type": "stream",
     "text": [
      ", "
     ]
    },
    {
     "name": "stdout",
     "output_type": "stream",
     "text": [
      "'Norway'"
     ]
    },
    {
     "name": "stdout",
     "output_type": "stream",
     "text": [
      ",\n",
      "     "
     ]
    },
    {
     "name": "stdout",
     "output_type": "stream",
     "text": [
      "'Angola'"
     ]
    },
    {
     "name": "stdout",
     "output_type": "stream",
     "text": [
      ", "
     ]
    },
    {
     "name": "stdout",
     "output_type": "stream",
     "text": [
      "'Fiji'"
     ]
    },
    {
     "name": "stdout",
     "output_type": "stream",
     "text": [
      ", "
     ]
    },
    {
     "name": "stdout",
     "output_type": "stream",
     "text": [
      "'Grenada'"
     ]
    },
    {
     "name": "stdout",
     "output_type": "stream",
     "text": [
      ", "
     ]
    },
    {
     "name": "stdout",
     "output_type": "stream",
     "text": [
      "'Botswana'"
     ]
    },
    {
     "name": "stdout",
     "output_type": "stream",
     "text": [
      "]"
     ]
    },
    {
     "name": "stdout",
     "output_type": "stream",
     "text": [
      ",\n",
      " "
     ]
    },
    {
     "name": "stdout",
     "output_type": "stream",
     "text": [
      "6"
     ]
    },
    {
     "name": "stdout",
     "output_type": "stream",
     "text": [
      ": "
     ]
    },
    {
     "name": "stdout",
     "output_type": "stream",
     "text": [
      "["
     ]
    },
    {
     "name": "stdout",
     "output_type": "stream",
     "text": [
      "'Kyrgyzstan'"
     ]
    },
    {
     "name": "stdout",
     "output_type": "stream",
     "text": [
      ", "
     ]
    },
    {
     "name": "stdout",
     "output_type": "stream",
     "text": [
      "'Ireland'"
     ]
    },
    {
     "name": "stdout",
     "output_type": "stream",
     "text": [
      ", "
     ]
    },
    {
     "name": "stdout",
     "output_type": "stream",
     "text": [
      "'Slovakia'"
     ]
    },
    {
     "name": "stdout",
     "output_type": "stream",
     "text": [
      ", "
     ]
    },
    {
     "name": "stdout",
     "output_type": "stream",
     "text": [
      "'Vietnam'"
     ]
    },
    {
     "name": "stdout",
     "output_type": "stream",
     "text": [
      ", "
     ]
    },
    {
     "name": "stdout",
     "output_type": "stream",
     "text": [
      "'Montenegro'"
     ]
    },
    {
     "name": "stdout",
     "output_type": "stream",
     "text": [
      ", "
     ]
    },
    {
     "name": "stdout",
     "output_type": "stream",
     "text": [
      "'Spain'"
     ]
    },
    {
     "name": "stdout",
     "output_type": "stream",
     "text": [
      ",\n",
      "     "
     ]
    },
    {
     "name": "stdout",
     "output_type": "stream",
     "text": [
      "'Kosovo'"
     ]
    },
    {
     "name": "stdout",
     "output_type": "stream",
     "text": [
      ", "
     ]
    },
    {
     "name": "stdout",
     "output_type": "stream",
     "text": [
      "'Uganda'"
     ]
    },
    {
     "name": "stdout",
     "output_type": "stream",
     "text": [
      ", "
     ]
    },
    {
     "name": "stdout",
     "output_type": "stream",
     "text": [
      "'Paraguay'"
     ]
    },
    {
     "name": "stdout",
     "output_type": "stream",
     "text": [
      ", "
     ]
    },
    {
     "name": "stdout",
     "output_type": "stream",
     "text": [
      "'Libya'"
     ]
    },
    {
     "name": "stdout",
     "output_type": "stream",
     "text": [
      ", "
     ]
    },
    {
     "name": "stdout",
     "output_type": "stream",
     "text": [
      "'Tunisia'"
     ]
    },
    {
     "name": "stdout",
     "output_type": "stream",
     "text": [
      ", "
     ]
    },
    {
     "name": "stdout",
     "output_type": "stream",
     "text": [
      "'Kazakhstan'"
     ]
    },
    {
     "name": "stdout",
     "output_type": "stream",
     "text": [
      ", "
     ]
    },
    {
     "name": "stdout",
     "output_type": "stream",
     "text": [
      "'Malta'"
     ]
    },
    {
     "name": "stdout",
     "output_type": "stream",
     "text": [
      ",\n",
      "     "
     ]
    },
    {
     "name": "stdout",
     "output_type": "stream",
     "text": [
      "'Iceland'"
     ]
    },
    {
     "name": "stdout",
     "output_type": "stream",
     "text": [
      ", "
     ]
    },
    {
     "name": "stdout",
     "output_type": "stream",
     "text": [
      "'Gambia'"
     ]
    },
    {
     "name": "stdout",
     "output_type": "stream",
     "text": [
      ", "
     ]
    },
    {
     "name": "stdout",
     "output_type": "stream",
     "text": [
      "'Morocco'"
     ]
    },
    {
     "name": "stdout",
     "output_type": "stream",
     "text": [
      ", "
     ]
    },
    {
     "name": "stdout",
     "output_type": "stream",
     "text": [
      "'Ethiopia'"
     ]
    },
    {
     "name": "stdout",
     "output_type": "stream",
     "text": [
      ", "
     ]
    },
    {
     "name": "stdout",
     "output_type": "stream",
     "text": [
      "'Syria'"
     ]
    },
    {
     "name": "stdout",
     "output_type": "stream",
     "text": [
      ", "
     ]
    },
    {
     "name": "stdout",
     "output_type": "stream",
     "text": [
      "'Mongolia'"
     ]
    },
    {
     "name": "stdout",
     "output_type": "stream",
     "text": [
      ",\n",
      "     "
     ]
    },
    {
     "name": "stdout",
     "output_type": "stream",
     "text": [
      "'Sao Tome and Principe'"
     ]
    },
    {
     "name": "stdout",
     "output_type": "stream",
     "text": [
      ", "
     ]
    },
    {
     "name": "stdout",
     "output_type": "stream",
     "text": [
      "'Netherlands'"
     ]
    },
    {
     "name": "stdout",
     "output_type": "stream",
     "text": [
      ", "
     ]
    },
    {
     "name": "stdout",
     "output_type": "stream",
     "text": [
      "'Eritrea'"
     ]
    },
    {
     "name": "stdout",
     "output_type": "stream",
     "text": [
      ", "
     ]
    },
    {
     "name": "stdout",
     "output_type": "stream",
     "text": [
      "'Lebanon'"
     ]
    },
    {
     "name": "stdout",
     "output_type": "stream",
     "text": [
      ",\n",
      "     "
     ]
    },
    {
     "name": "stdout",
     "output_type": "stream",
     "text": [
      "'Philippines'"
     ]
    },
    {
     "name": "stdout",
     "output_type": "stream",
     "text": [
      ", "
     ]
    },
    {
     "name": "stdout",
     "output_type": "stream",
     "text": [
      "'Equatorial Guinea'"
     ]
    },
    {
     "name": "stdout",
     "output_type": "stream",
     "text": [
      ", "
     ]
    },
    {
     "name": "stdout",
     "output_type": "stream",
     "text": [
      "'Israel'"
     ]
    },
    {
     "name": "stdout",
     "output_type": "stream",
     "text": [
      ", "
     ]
    },
    {
     "name": "stdout",
     "output_type": "stream",
     "text": [
      "'Zambia'"
     ]
    },
    {
     "name": "stdout",
     "output_type": "stream",
     "text": [
      ", "
     ]
    },
    {
     "name": "stdout",
     "output_type": "stream",
     "text": [
      "'Zimbabwe'"
     ]
    },
    {
     "name": "stdout",
     "output_type": "stream",
     "text": [
      ",\n",
      "     "
     ]
    },
    {
     "name": "stdout",
     "output_type": "stream",
     "text": [
      "'Central African Republic'"
     ]
    },
    {
     "name": "stdout",
     "output_type": "stream",
     "text": [
      ", "
     ]
    },
    {
     "name": "stdout",
     "output_type": "stream",
     "text": [
      "'Lesotho'"
     ]
    },
    {
     "name": "stdout",
     "output_type": "stream",
     "text": [
      ", "
     ]
    },
    {
     "name": "stdout",
     "output_type": "stream",
     "text": [
      "'South Sudan'"
     ]
    },
    {
     "name": "stdout",
     "output_type": "stream",
     "text": [
      ", "
     ]
    },
    {
     "name": "stdout",
     "output_type": "stream",
     "text": [
      "'Cambodia'"
     ]
    },
    {
     "name": "stdout",
     "output_type": "stream",
     "text": [
      ",\n",
      "     "
     ]
    },
    {
     "name": "stdout",
     "output_type": "stream",
     "text": [
      "'Yemen'"
     ]
    },
    {
     "name": "stdout",
     "output_type": "stream",
     "text": [
      "]"
     ]
    },
    {
     "name": "stdout",
     "output_type": "stream",
     "text": [
      ",\n",
      " "
     ]
    },
    {
     "name": "stdout",
     "output_type": "stream",
     "text": [
      "7"
     ]
    },
    {
     "name": "stdout",
     "output_type": "stream",
     "text": [
      ": "
     ]
    },
    {
     "name": "stdout",
     "output_type": "stream",
     "text": [
      "["
     ]
    },
    {
     "name": "stdout",
     "output_type": "stream",
     "text": [
      "'Saint Lucia'"
     ]
    },
    {
     "name": "stdout",
     "output_type": "stream",
     "text": [
      ", "
     ]
    },
    {
     "name": "stdout",
     "output_type": "stream",
     "text": [
      "'Argentina'"
     ]
    },
    {
     "name": "stdout",
     "output_type": "stream",
     "text": [
      ", "
     ]
    },
    {
     "name": "stdout",
     "output_type": "stream",
     "text": [
      "'Bosnia and Herzegovina'"
     ]
    },
    {
     "name": "stdout",
     "output_type": "stream",
     "text": [
      ", "
     ]
    },
    {
     "name": "stdout",
     "output_type": "stream",
     "text": [
      "'Liechtenstein'"
     ]
    },
    {
     "name": "stdout",
     "output_type": "stream",
     "text": [
      ",\n",
      "     "
     ]
    },
    {
     "name": "stdout",
     "output_type": "stream",
     "text": [
      "'Bhutan'"
     ]
    },
    {
     "name": "stdout",
     "output_type": "stream",
     "text": [
      ", "
     ]
    },
    {
     "name": "stdout",
     "output_type": "stream",
     "text": [
      "'Cameroon'"
     ]
    },
    {
     "name": "stdout",
     "output_type": "stream",
     "text": [
      ", "
     ]
    },
    {
     "name": "stdout",
     "output_type": "stream",
     "text": [
      "'Burundi'"
     ]
    },
    {
     "name": "stdout",
     "output_type": "stream",
     "text": [
      ", "
     ]
    },
    {
     "name": "stdout",
     "output_type": "stream",
     "text": [
      "'Jordan'"
     ]
    },
    {
     "name": "stdout",
     "output_type": "stream",
     "text": [
      ", "
     ]
    },
    {
     "name": "stdout",
     "output_type": "stream",
     "text": [
      "'Cyprus'"
     ]
    },
    {
     "name": "stdout",
     "output_type": "stream",
     "text": [
      ", "
     ]
    },
    {
     "name": "stdout",
     "output_type": "stream",
     "text": [
      "'Costa Rica'"
     ]
    },
    {
     "name": "stdout",
     "output_type": "stream",
     "text": [
      ",\n",
      "     "
     ]
    },
    {
     "name": "stdout",
     "output_type": "stream",
     "text": [
      "'San Marino'"
     ]
    },
    {
     "name": "stdout",
     "output_type": "stream",
     "text": [
      ", "
     ]
    },
    {
     "name": "stdout",
     "output_type": "stream",
     "text": [
      "'Malawi'"
     ]
    },
    {
     "name": "stdout",
     "output_type": "stream",
     "text": [
      ", "
     ]
    },
    {
     "name": "stdout",
     "output_type": "stream",
     "text": [
      "'Afghanistan'"
     ]
    },
    {
     "name": "stdout",
     "output_type": "stream",
     "text": [
      ", "
     ]
    },
    {
     "name": "stdout",
     "output_type": "stream",
     "text": [
      "'Venezuela'"
     ]
    },
    {
     "name": "stdout",
     "output_type": "stream",
     "text": [
      ", "
     ]
    },
    {
     "name": "stdout",
     "output_type": "stream",
     "text": [
      "'Benin'"
     ]
    },
    {
     "name": "stdout",
     "output_type": "stream",
     "text": [
      ", "
     ]
    },
    {
     "name": "stdout",
     "output_type": "stream",
     "text": [
      "'Australia'"
     ]
    },
    {
     "name": "stdout",
     "output_type": "stream",
     "text": [
      ",\n",
      "     "
     ]
    },
    {
     "name": "stdout",
     "output_type": "stream",
     "text": [
      "'Mozambique'"
     ]
    },
    {
     "name": "stdout",
     "output_type": "stream",
     "text": [
      ", "
     ]
    },
    {
     "name": "stdout",
     "output_type": "stream",
     "text": [
      "'Colombia'"
     ]
    },
    {
     "name": "stdout",
     "output_type": "stream",
     "text": [
      ", "
     ]
    },
    {
     "name": "stdout",
     "output_type": "stream",
     "text": [
      "'Barbados'"
     ]
    },
    {
     "name": "stdout",
     "output_type": "stream",
     "text": [
      ", "
     ]
    },
    {
     "name": "stdout",
     "output_type": "stream",
     "text": [
      "'Luxembourg'"
     ]
    },
    {
     "name": "stdout",
     "output_type": "stream",
     "text": [
      ", "
     ]
    },
    {
     "name": "stdout",
     "output_type": "stream",
     "text": [
      "'Taiwan'"
     ]
    },
    {
     "name": "stdout",
     "output_type": "stream",
     "text": [
      ", "
     ]
    },
    {
     "name": "stdout",
     "output_type": "stream",
     "text": [
      "'Nicaragua'"
     ]
    },
    {
     "name": "stdout",
     "output_type": "stream",
     "text": [
      ",\n",
      "     "
     ]
    },
    {
     "name": "stdout",
     "output_type": "stream",
     "text": [
      "'Madagascar'"
     ]
    },
    {
     "name": "stdout",
     "output_type": "stream",
     "text": [
      ", "
     ]
    },
    {
     "name": "stdout",
     "output_type": "stream",
     "text": [
      "'Kenya'"
     ]
    },
    {
     "name": "stdout",
     "output_type": "stream",
     "text": [
      ", "
     ]
    },
    {
     "name": "stdout",
     "output_type": "stream",
     "text": [
      "'Palestine'"
     ]
    },
    {
     "name": "stdout",
     "output_type": "stream",
     "text": [
      ", "
     ]
    },
    {
     "name": "stdout",
     "output_type": "stream",
     "text": [
      "'Suriname'"
     ]
    },
    {
     "name": "stdout",
     "output_type": "stream",
     "text": [
      ", "
     ]
    },
    {
     "name": "stdout",
     "output_type": "stream",
     "text": [
      "'Bermuda'"
     ]
    },
    {
     "name": "stdout",
     "output_type": "stream",
     "text": [
      ", "
     ]
    },
    {
     "name": "stdout",
     "output_type": "stream",
     "text": [
      "'Guatemala'"
     ]
    },
    {
     "name": "stdout",
     "output_type": "stream",
     "text": [
      ",\n",
      "     "
     ]
    },
    {
     "name": "stdout",
     "output_type": "stream",
     "text": [
      "'Japan'"
     ]
    },
    {
     "name": "stdout",
     "output_type": "stream",
     "text": [
      ", "
     ]
    },
    {
     "name": "stdout",
     "output_type": "stream",
     "text": [
      "'Maldives'"
     ]
    },
    {
     "name": "stdout",
     "output_type": "stream",
     "text": [
      ", "
     ]
    },
    {
     "name": "stdout",
     "output_type": "stream",
     "text": [
      "'Thailand'"
     ]
    },
    {
     "name": "stdout",
     "output_type": "stream",
     "text": [
      ", "
     ]
    },
    {
     "name": "stdout",
     "output_type": "stream",
     "text": [
      "'New Zealand'"
     ]
    },
    {
     "name": "stdout",
     "output_type": "stream",
     "text": [
      ",\n",
      "     "
     ]
    },
    {
     "name": "stdout",
     "output_type": "stream",
     "text": [
      "'Saint Vincent and the Grenadines'"
     ]
    },
    {
     "name": "stdout",
     "output_type": "stream",
     "text": [
      ", "
     ]
    },
    {
     "name": "stdout",
     "output_type": "stream",
     "text": [
      "'Chad'"
     ]
    },
    {
     "name": "stdout",
     "output_type": "stream",
     "text": [
      "]"
     ]
    },
    {
     "name": "stdout",
     "output_type": "stream",
     "text": [
      ",\n",
      " "
     ]
    },
    {
     "name": "stdout",
     "output_type": "stream",
     "text": [
      "8"
     ]
    },
    {
     "name": "stdout",
     "output_type": "stream",
     "text": [
      ": "
     ]
    },
    {
     "name": "stdout",
     "output_type": "stream",
     "text": [
      "["
     ]
    },
    {
     "name": "stdout",
     "output_type": "stream",
     "text": [
      "'Comoros'"
     ]
    },
    {
     "name": "stdout",
     "output_type": "stream",
     "text": [
      ", "
     ]
    },
    {
     "name": "stdout",
     "output_type": "stream",
     "text": [
      "'India'"
     ]
    },
    {
     "name": "stdout",
     "output_type": "stream",
     "text": [
      ", "
     ]
    },
    {
     "name": "stdout",
     "output_type": "stream",
     "text": [
      "'Guinea-Bissau'"
     ]
    },
    {
     "name": "stdout",
     "output_type": "stream",
     "text": [
      ", "
     ]
    },
    {
     "name": "stdout",
     "output_type": "stream",
     "text": [
      "'Sri Lanka'"
     ]
    },
    {
     "name": "stdout",
     "output_type": "stream",
     "text": [
      ", "
     ]
    },
    {
     "name": "stdout",
     "output_type": "stream",
     "text": [
      "'Tajikistan'"
     ]
    },
    {
     "name": "stdout",
     "output_type": "stream",
     "text": [
      ", "
     ]
    },
    {
     "name": "stdout",
     "output_type": "stream",
     "text": [
      "'Somalia'"
     ]
    },
    {
     "name": "stdout",
     "output_type": "stream",
     "text": [
      ",\n",
      "     "
     ]
    },
    {
     "name": "stdout",
     "output_type": "stream",
     "text": [
      "'Croatia'"
     ]
    },
    {
     "name": "stdout",
     "output_type": "stream",
     "text": [
      ", "
     ]
    },
    {
     "name": "stdout",
     "output_type": "stream",
     "text": [
      "'Iraq'"
     ]
    },
    {
     "name": "stdout",
     "output_type": "stream",
     "text": [
      ", "
     ]
    },
    {
     "name": "stdout",
     "output_type": "stream",
     "text": [
      "'Congo'"
     ]
    },
    {
     "name": "stdout",
     "output_type": "stream",
     "text": [
      ", "
     ]
    },
    {
     "name": "stdout",
     "output_type": "stream",
     "text": [
      "'Indonesia'"
     ]
    },
    {
     "name": "stdout",
     "output_type": "stream",
     "text": [
      ", "
     ]
    },
    {
     "name": "stdout",
     "output_type": "stream",
     "text": [
      "'South Africa'"
     ]
    },
    {
     "name": "stdout",
     "output_type": "stream",
     "text": [
      ", "
     ]
    },
    {
     "name": "stdout",
     "output_type": "stream",
     "text": [
      "'Ghana'"
     ]
    },
    {
     "name": "stdout",
     "output_type": "stream",
     "text": [
      ", "
     ]
    },
    {
     "name": "stdout",
     "output_type": "stream",
     "text": [
      "'Monaco'"
     ]
    },
    {
     "name": "stdout",
     "output_type": "stream",
     "text": [
      ",\n",
      "     "
     ]
    },
    {
     "name": "stdout",
     "output_type": "stream",
     "text": [
      "'Cape Verde'"
     ]
    },
    {
     "name": "stdout",
     "output_type": "stream",
     "text": [
      ", "
     ]
    },
    {
     "name": "stdout",
     "output_type": "stream",
     "text": [
      "'Swaziland'"
     ]
    },
    {
     "name": "stdout",
     "output_type": "stream",
     "text": [
      ", "
     ]
    },
    {
     "name": "stdout",
     "output_type": "stream",
     "text": [
      "'Nepal'"
     ]
    },
    {
     "name": "stdout",
     "output_type": "stream",
     "text": [
      ", "
     ]
    },
    {
     "name": "stdout",
     "output_type": "stream",
     "text": [
      "'Greece'"
     ]
    },
    {
     "name": "stdout",
     "output_type": "stream",
     "text": [
      ", "
     ]
    },
    {
     "name": "stdout",
     "output_type": "stream",
     "text": [
      "'Djibouti'"
     ]
    },
    {
     "name": "stdout",
     "output_type": "stream",
     "text": [
      ", "
     ]
    },
    {
     "name": "stdout",
     "output_type": "stream",
     "text": [
      "'Niger'"
     ]
    },
    {
     "name": "stdout",
     "output_type": "stream",
     "text": [
      ",\n",
      "     "
     ]
    },
    {
     "name": "stdout",
     "output_type": "stream",
     "text": [
      "'Ecuador'"
     ]
    },
    {
     "name": "stdout",
     "output_type": "stream",
     "text": [
      ", "
     ]
    },
    {
     "name": "stdout",
     "output_type": "stream",
     "text": [
      "'Finland'"
     ]
    },
    {
     "name": "stdout",
     "output_type": "stream",
     "text": [
      ", "
     ]
    },
    {
     "name": "stdout",
     "output_type": "stream",
     "text": [
      "'Mauritania'"
     ]
    },
    {
     "name": "stdout",
     "output_type": "stream",
     "text": [
      ", "
     ]
    },
    {
     "name": "stdout",
     "output_type": "stream",
     "text": [
      "'Rwanda'"
     ]
    },
    {
     "name": "stdout",
     "output_type": "stream",
     "text": [
      ", "
     ]
    },
    {
     "name": "stdout",
     "output_type": "stream",
     "text": [
      "'Slovenia'"
     ]
    },
    {
     "name": "stdout",
     "output_type": "stream",
     "text": [
      ", "
     ]
    },
    {
     "name": "stdout",
     "output_type": "stream",
     "text": [
      "'Oman'"
     ]
    },
    {
     "name": "stdout",
     "output_type": "stream",
     "text": [
      ",\n",
      "     "
     ]
    },
    {
     "name": "stdout",
     "output_type": "stream",
     "text": [
      "'Uzbekistan'"
     ]
    },
    {
     "name": "stdout",
     "output_type": "stream",
     "text": [
      ", "
     ]
    },
    {
     "name": "stdout",
     "output_type": "stream",
     "text": [
      "'China'"
     ]
    },
    {
     "name": "stdout",
     "output_type": "stream",
     "text": [
      "]"
     ]
    },
    {
     "name": "stdout",
     "output_type": "stream",
     "text": [
      ",\n",
      " "
     ]
    },
    {
     "name": "stdout",
     "output_type": "stream",
     "text": [
      "9"
     ]
    },
    {
     "name": "stdout",
     "output_type": "stream",
     "text": [
      ": "
     ]
    },
    {
     "name": "stdout",
     "output_type": "stream",
     "text": [
      "["
     ]
    },
    {
     "name": "stdout",
     "output_type": "stream",
     "text": [
      "'Uruguay'"
     ]
    },
    {
     "name": "stdout",
     "output_type": "stream",
     "text": [
      ", "
     ]
    },
    {
     "name": "stdout",
     "output_type": "stream",
     "text": [
      "'Sudan'"
     ]
    },
    {
     "name": "stdout",
     "output_type": "stream",
     "text": [
      ", "
     ]
    },
    {
     "name": "stdout",
     "output_type": "stream",
     "text": [
      "'Ukraine'"
     ]
    },
    {
     "name": "stdout",
     "output_type": "stream",
     "text": [
      ", "
     ]
    },
    {
     "name": "stdout",
     "output_type": "stream",
     "text": [
      "'Andorra'"
     ]
    },
    {
     "name": "stdout",
     "output_type": "stream",
     "text": [
      ", "
     ]
    },
    {
     "name": "stdout",
     "output_type": "stream",
     "text": [
      "'Albania'"
     ]
    },
    {
     "name": "stdout",
     "output_type": "stream",
     "text": [
      ", "
     ]
    },
    {
     "name": "stdout",
     "output_type": "stream",
     "text": [
      "'Cuba'"
     ]
    },
    {
     "name": "stdout",
     "output_type": "stream",
     "text": [
      ",\n",
      "     "
     ]
    },
    {
     "name": "stdout",
     "output_type": "stream",
     "text": [
      "'Sierra Leone'"
     ]
    },
    {
     "name": "stdout",
     "output_type": "stream",
     "text": [
      ", "
     ]
    },
    {
     "name": "stdout",
     "output_type": "stream",
     "text": [
      "'Brazil'"
     ]
    },
    {
     "name": "stdout",
     "output_type": "stream",
     "text": [
      ", "
     ]
    },
    {
     "name": "stdout",
     "output_type": "stream",
     "text": [
      "'Qatar'"
     ]
    },
    {
     "name": "stdout",
     "output_type": "stream",
     "text": [
      ", "
     ]
    },
    {
     "name": "stdout",
     "output_type": "stream",
     "text": [
      "'Gabon'"
     ]
    },
    {
     "name": "stdout",
     "output_type": "stream",
     "text": [
      ", "
     ]
    },
    {
     "name": "stdout",
     "output_type": "stream",
     "text": [
      "'Mali'"
     ]
    },
    {
     "name": "stdout",
     "output_type": "stream",
     "text": [
      ", "
     ]
    },
    {
     "name": "stdout",
     "output_type": "stream",
     "text": [
      "'Togo'"
     ]
    },
    {
     "name": "stdout",
     "output_type": "stream",
     "text": [
      ", "
     ]
    },
    {
     "name": "stdout",
     "output_type": "stream",
     "text": [
      "'Belgium'"
     ]
    },
    {
     "name": "stdout",
     "output_type": "stream",
     "text": [
      ",\n",
      "     "
     ]
    },
    {
     "name": "stdout",
     "output_type": "stream",
     "text": [
      "'Malaysia'"
     ]
    },
    {
     "name": "stdout",
     "output_type": "stream",
     "text": [
      ", "
     ]
    },
    {
     "name": "stdout",
     "output_type": "stream",
     "text": [
      "'Honduras'"
     ]
    },
    {
     "name": "stdout",
     "output_type": "stream",
     "text": [
      ", "
     ]
    },
    {
     "name": "stdout",
     "output_type": "stream",
     "text": [
      "'Haiti'"
     ]
    },
    {
     "name": "stdout",
     "output_type": "stream",
     "text": [
      ", "
     ]
    },
    {
     "name": "stdout",
     "output_type": "stream",
     "text": [
      "'Switzerland'"
     ]
    },
    {
     "name": "stdout",
     "output_type": "stream",
     "text": [
      ", "
     ]
    },
    {
     "name": "stdout",
     "output_type": "stream",
     "text": [
      "'Austria'"
     ]
    },
    {
     "name": "stdout",
     "output_type": "stream",
     "text": [
      ", "
     ]
    },
    {
     "name": "stdout",
     "output_type": "stream",
     "text": [
      "'Azerbaijan'"
     ]
    },
    {
     "name": "stdout",
     "output_type": "stream",
     "text": [
      ",\n",
      "     "
     ]
    },
    {
     "name": "stdout",
     "output_type": "stream",
     "text": [
      "'Pakistan'"
     ]
    },
    {
     "name": "stdout",
     "output_type": "stream",
     "text": [
      ", "
     ]
    },
    {
     "name": "stdout",
     "output_type": "stream",
     "text": [
      "'Singapore'"
     ]
    },
    {
     "name": "stdout",
     "output_type": "stream",
     "text": [
      ", "
     ]
    },
    {
     "name": "stdout",
     "output_type": "stream",
     "text": [
      "'Liberia'"
     ]
    },
    {
     "name": "stdout",
     "output_type": "stream",
     "text": [
      ", "
     ]
    },
    {
     "name": "stdout",
     "output_type": "stream",
     "text": [
      "'Belarus'"
     ]
    },
    {
     "name": "stdout",
     "output_type": "stream",
     "text": [
      ", "
     ]
    },
    {
     "name": "stdout",
     "output_type": "stream",
     "text": [
      "'Armenia'"
     ]
    },
    {
     "name": "stdout",
     "output_type": "stream",
     "text": [
      ", "
     ]
    },
    {
     "name": "stdout",
     "output_type": "stream",
     "text": [
      "'Korea, South'"
     ]
    },
    {
     "name": "stdout",
     "output_type": "stream",
     "text": [
      ",\n",
      "     "
     ]
    },
    {
     "name": "stdout",
     "output_type": "stream",
     "text": [
      "'Jamaica'"
     ]
    },
    {
     "name": "stdout",
     "output_type": "stream",
     "text": [
      ", "
     ]
    },
    {
     "name": "stdout",
     "output_type": "stream",
     "text": [
      "'Chile'"
     ]
    },
    {
     "name": "stdout",
     "output_type": "stream",
     "text": [
      ", "
     ]
    },
    {
     "name": "stdout",
     "output_type": "stream",
     "text": [
      "'Canada'"
     ]
    },
    {
     "name": "stdout",
     "output_type": "stream",
     "text": [
      ", "
     ]
    },
    {
     "name": "stdout",
     "output_type": "stream",
     "text": [
      "'Germany'"
     ]
    },
    {
     "name": "stdout",
     "output_type": "stream",
     "text": [
      ", "
     ]
    },
    {
     "name": "stdout",
     "output_type": "stream",
     "text": [
      "'Romania'"
     ]
    },
    {
     "name": "stdout",
     "output_type": "stream",
     "text": [
      ", "
     ]
    },
    {
     "name": "stdout",
     "output_type": "stream",
     "text": [
      "'El Salvador'"
     ]
    },
    {
     "name": "stdout",
     "output_type": "stream",
     "text": [
      "]"
     ]
    },
    {
     "name": "stdout",
     "output_type": "stream",
     "text": [
      ",\n",
      " "
     ]
    },
    {
     "name": "stdout",
     "output_type": "stream",
     "text": [
      "10"
     ]
    },
    {
     "name": "stdout",
     "output_type": "stream",
     "text": [
      ": "
     ]
    },
    {
     "name": "stdout",
     "output_type": "stream",
     "text": [
      "["
     ]
    },
    {
     "name": "stdout",
     "output_type": "stream",
     "text": [
      "'Senegal'"
     ]
    },
    {
     "name": "stdout",
     "output_type": "stream",
     "text": [
      ", "
     ]
    },
    {
     "name": "stdout",
     "output_type": "stream",
     "text": [
      "'Peru'"
     ]
    },
    {
     "name": "stdout",
     "output_type": "stream",
     "text": [
      ", "
     ]
    },
    {
     "name": "stdout",
     "output_type": "stream",
     "text": [
      "'Hungary'"
     ]
    },
    {
     "name": "stdout",
     "output_type": "stream",
     "text": [
      ", "
     ]
    },
    {
     "name": "stdout",
     "output_type": "stream",
     "text": [
      "'Serbia'"
     ]
    },
    {
     "name": "stdout",
     "output_type": "stream",
     "text": [
      ", "
     ]
    },
    {
     "name": "stdout",
     "output_type": "stream",
     "text": [
      "'Burkina Faso'"
     ]
    },
    {
     "name": "stdout",
     "output_type": "stream",
     "text": [
      ", "
     ]
    },
    {
     "name": "stdout",
     "output_type": "stream",
     "text": [
      "'Estonia'"
     ]
    },
    {
     "name": "stdout",
     "output_type": "stream",
     "text": [
      ",\n",
      "      "
     ]
    },
    {
     "name": "stdout",
     "output_type": "stream",
     "text": [
      "'Poland'"
     ]
    },
    {
     "name": "stdout",
     "output_type": "stream",
     "text": [
      ", "
     ]
    },
    {
     "name": "stdout",
     "output_type": "stream",
     "text": [
      "'Bulgaria'"
     ]
    },
    {
     "name": "stdout",
     "output_type": "stream",
     "text": [
      ", "
     ]
    },
    {
     "name": "stdout",
     "output_type": "stream",
     "text": [
      "'Algeria'"
     ]
    },
    {
     "name": "stdout",
     "output_type": "stream",
     "text": [
      ", "
     ]
    },
    {
     "name": "stdout",
     "output_type": "stream",
     "text": [
      "'Latvia'"
     ]
    },
    {
     "name": "stdout",
     "output_type": "stream",
     "text": [
      ", "
     ]
    },
    {
     "name": "stdout",
     "output_type": "stream",
     "text": [
      "'Turkey'"
     ]
    },
    {
     "name": "stdout",
     "output_type": "stream",
     "text": [
      ", "
     ]
    },
    {
     "name": "stdout",
     "output_type": "stream",
     "text": [
      "'Dominican Republic'"
     ]
    },
    {
     "name": "stdout",
     "output_type": "stream",
     "text": [
      ",\n",
      "      "
     ]
    },
    {
     "name": "stdout",
     "output_type": "stream",
     "text": [
      "'Portugal'"
     ]
    },
    {
     "name": "stdout",
     "output_type": "stream",
     "text": [
      ", "
     ]
    },
    {
     "name": "stdout",
     "output_type": "stream",
     "text": [
      "'Bolivia'"
     ]
    },
    {
     "name": "stdout",
     "output_type": "stream",
     "text": [
      ", "
     ]
    },
    {
     "name": "stdout",
     "output_type": "stream",
     "text": [
      "'Macedonia'"
     ]
    },
    {
     "name": "stdout",
     "output_type": "stream",
     "text": [
      ", "
     ]
    },
    {
     "name": "stdout",
     "output_type": "stream",
     "text": [
      "'Czech Republic'"
     ]
    },
    {
     "name": "stdout",
     "output_type": "stream",
     "text": [
      ", "
     ]
    },
    {
     "name": "stdout",
     "output_type": "stream",
     "text": [
      "'Lithuania'"
     ]
    },
    {
     "name": "stdout",
     "output_type": "stream",
     "text": [
      ",\n",
      "      "
     ]
    },
    {
     "name": "stdout",
     "output_type": "stream",
     "text": [
      "'Panama'"
     ]
    },
    {
     "name": "stdout",
     "output_type": "stream",
     "text": [
      ", "
     ]
    },
    {
     "name": "stdout",
     "output_type": "stream",
     "text": [
      "'Moldova'"
     ]
    },
    {
     "name": "stdout",
     "output_type": "stream",
     "text": [
      ", "
     ]
    },
    {
     "name": "stdout",
     "output_type": "stream",
     "text": [
      "'Egypt'"
     ]
    },
    {
     "name": "stdout",
     "output_type": "stream",
     "text": [
      ", "
     ]
    },
    {
     "name": "stdout",
     "output_type": "stream",
     "text": [
      "'Saudi Arabia'"
     ]
    },
    {
     "name": "stdout",
     "output_type": "stream",
     "text": [
      ", "
     ]
    },
    {
     "name": "stdout",
     "output_type": "stream",
     "text": [
      "'Denmark'"
     ]
    },
    {
     "name": "stdout",
     "output_type": "stream",
     "text": [
      "]"
     ]
    },
    {
     "name": "stdout",
     "output_type": "stream",
     "text": [
      ",\n",
      " "
     ]
    },
    {
     "name": "stdout",
     "output_type": "stream",
     "text": [
      "11"
     ]
    },
    {
     "name": "stdout",
     "output_type": "stream",
     "text": [
      ": "
     ]
    },
    {
     "name": "stdout",
     "output_type": "stream",
     "text": [
      "["
     ]
    },
    {
     "name": "stdout",
     "output_type": "stream",
     "text": [
      "'Iran'"
     ]
    },
    {
     "name": "stdout",
     "output_type": "stream",
     "text": [
      ", "
     ]
    },
    {
     "name": "stdout",
     "output_type": "stream",
     "text": [
      "'Georgia'"
     ]
    },
    {
     "name": "stdout",
     "output_type": "stream",
     "text": [
      ", "
     ]
    },
    {
     "name": "stdout",
     "output_type": "stream",
     "text": [
      "'Guinea'"
     ]
    },
    {
     "name": "stdout",
     "output_type": "stream",
     "text": [
      ", "
     ]
    },
    {
     "name": "stdout",
     "output_type": "stream",
     "text": [
      "'Bangladesh'"
     ]
    },
    {
     "name": "stdout",
     "output_type": "stream",
     "text": [
      ", "
     ]
    },
    {
     "name": "stdout",
     "output_type": "stream",
     "text": [
      "'United States'"
     ]
    },
    {
     "name": "stdout",
     "output_type": "stream",
     "text": [
      ", "
     ]
    },
    {
     "name": "stdout",
     "output_type": "stream",
     "text": [
      "'Nigeria'"
     ]
    },
    {
     "name": "stdout",
     "output_type": "stream",
     "text": [
      ",\n",
      "      "
     ]
    },
    {
     "name": "stdout",
     "output_type": "stream",
     "text": [
      "'United Arab Emirates'"
     ]
    },
    {
     "name": "stdout",
     "output_type": "stream",
     "text": [
      ", "
     ]
    },
    {
     "name": "stdout",
     "output_type": "stream",
     "text": [
      "'France'"
     ]
    },
    {
     "name": "stdout",
     "output_type": "stream",
     "text": [
      ", "
     ]
    },
    {
     "name": "stdout",
     "output_type": "stream",
     "text": [
      "'Kuwait'"
     ]
    },
    {
     "name": "stdout",
     "output_type": "stream",
     "text": [
      ", "
     ]
    },
    {
     "name": "stdout",
     "output_type": "stream",
     "text": [
      "'Italy'"
     ]
    },
    {
     "name": "stdout",
     "output_type": "stream",
     "text": [
      ", "
     ]
    },
    {
     "name": "stdout",
     "output_type": "stream",
     "text": [
      "'Mexico'"
     ]
    },
    {
     "name": "stdout",
     "output_type": "stream",
     "text": [
      ",\n",
      "      "
     ]
    },
    {
     "name": "stdout",
     "output_type": "stream",
     "text": [
      "'Bahrain'"
     ]
    },
    {
     "name": "stdout",
     "output_type": "stream",
     "text": [
      "]"
     ]
    },
    {
     "name": "stdout",
     "output_type": "stream",
     "text": [
      ",\n",
      " "
     ]
    },
    {
     "name": "stdout",
     "output_type": "stream",
     "text": [
      "12"
     ]
    },
    {
     "name": "stdout",
     "output_type": "stream",
     "text": [
      ": "
     ]
    },
    {
     "name": "stdout",
     "output_type": "stream",
     "text": [
      "['Russia']"
     ]
    },
    {
     "name": "stdout",
     "output_type": "stream",
     "text": [
      "}"
     ]
    },
    {
     "name": "stdout",
     "output_type": "stream",
     "text": [
      "\n"
     ]
    }
   ],
   "source": [
    "# Show the number of phases of all countries\n",
    "analyser.trend()\n",
    "pprint(analyser.phase_len(), compact=True)"
   ]
  },
  {
   "cell_type": "code",
   "execution_count": 8,
   "metadata": {
    "collapsed": false
   },
   "outputs": [
    {
     "data": {
      "text/plain": [
       "13"
      ]
     },
     "execution_count": 8,
     "metadata": {},
     "output_type": "execute_result"
    }
   ],
   "source": [
    "# Set phases with S-R trend analysis\n",
    "analyser.trend(min_len=11)\n",
    "# The number of countries\n",
    "len(analyser.countries)"
   ]
  },
  {
   "cell_type": "code",
   "execution_count": 9,
   "metadata": {
    "collapsed": false,
    "tags": []
   },
   "outputs": [
    {
     "name": "stdout",
     "output_type": "stream",
     "text": [
      "{"
     ]
    },
    {
     "name": "stdout",
     "output_type": "stream",
     "text": [
      "11"
     ]
    },
    {
     "name": "stdout",
     "output_type": "stream",
     "text": [
      ": "
     ]
    },
    {
     "name": "stdout",
     "output_type": "stream",
     "text": [
      "["
     ]
    },
    {
     "name": "stdout",
     "output_type": "stream",
     "text": [
      "'Iran'"
     ]
    },
    {
     "name": "stdout",
     "output_type": "stream",
     "text": [
      ", "
     ]
    },
    {
     "name": "stdout",
     "output_type": "stream",
     "text": [
      "'Georgia'"
     ]
    },
    {
     "name": "stdout",
     "output_type": "stream",
     "text": [
      ", "
     ]
    },
    {
     "name": "stdout",
     "output_type": "stream",
     "text": [
      "'Guinea'"
     ]
    },
    {
     "name": "stdout",
     "output_type": "stream",
     "text": [
      ", "
     ]
    },
    {
     "name": "stdout",
     "output_type": "stream",
     "text": [
      "'Bangladesh'"
     ]
    },
    {
     "name": "stdout",
     "output_type": "stream",
     "text": [
      ", "
     ]
    },
    {
     "name": "stdout",
     "output_type": "stream",
     "text": [
      "'United States'"
     ]
    },
    {
     "name": "stdout",
     "output_type": "stream",
     "text": [
      ", "
     ]
    },
    {
     "name": "stdout",
     "output_type": "stream",
     "text": [
      "'Nigeria'"
     ]
    },
    {
     "name": "stdout",
     "output_type": "stream",
     "text": [
      ",\n",
      "      "
     ]
    },
    {
     "name": "stdout",
     "output_type": "stream",
     "text": [
      "'United Arab Emirates'"
     ]
    },
    {
     "name": "stdout",
     "output_type": "stream",
     "text": [
      ", "
     ]
    },
    {
     "name": "stdout",
     "output_type": "stream",
     "text": [
      "'France'"
     ]
    },
    {
     "name": "stdout",
     "output_type": "stream",
     "text": [
      ", "
     ]
    },
    {
     "name": "stdout",
     "output_type": "stream",
     "text": [
      "'Kuwait'"
     ]
    },
    {
     "name": "stdout",
     "output_type": "stream",
     "text": [
      ", "
     ]
    },
    {
     "name": "stdout",
     "output_type": "stream",
     "text": [
      "'Italy'"
     ]
    },
    {
     "name": "stdout",
     "output_type": "stream",
     "text": [
      ", "
     ]
    },
    {
     "name": "stdout",
     "output_type": "stream",
     "text": [
      "'Mexico'"
     ]
    },
    {
     "name": "stdout",
     "output_type": "stream",
     "text": [
      ",\n",
      "      "
     ]
    },
    {
     "name": "stdout",
     "output_type": "stream",
     "text": [
      "'Bahrain'"
     ]
    },
    {
     "name": "stdout",
     "output_type": "stream",
     "text": [
      "]"
     ]
    },
    {
     "name": "stdout",
     "output_type": "stream",
     "text": [
      ",\n",
      " "
     ]
    },
    {
     "name": "stdout",
     "output_type": "stream",
     "text": [
      "12"
     ]
    },
    {
     "name": "stdout",
     "output_type": "stream",
     "text": [
      ": "
     ]
    },
    {
     "name": "stdout",
     "output_type": "stream",
     "text": [
      "['Russia']"
     ]
    },
    {
     "name": "stdout",
     "output_type": "stream",
     "text": [
      "}"
     ]
    },
    {
     "name": "stdout",
     "output_type": "stream",
     "text": [
      "\n"
     ]
    }
   ],
   "source": [
    "phase_len_dict = analyser.phase_len()\n",
    "pprint(phase_len_dict, compact=True)"
   ]
  },
  {
   "cell_type": "code",
   "execution_count": 10,
   "metadata": {
    "collapsed": false,
    "tags": []
   },
   "outputs": [
    {
     "data": {
      "text/html": [
       "<div>\n",
       "<style scoped>\n",
       "    .dataframe tbody tr th:only-of-type {\n",
       "        vertical-align: middle;\n",
       "    }\n",
       "\n",
       "    .dataframe tbody tr th {\n",
       "        vertical-align: top;\n",
       "    }\n",
       "\n",
       "    .dataframe thead th {\n",
       "        text-align: right;\n",
       "    }\n",
       "</style>\n",
       "<table border=\"1\" class=\"dataframe\">\n",
       "  <thead>\n",
       "    <tr style=\"text-align: right;\">\n",
       "      <th></th>\n",
       "      <th></th>\n",
       "      <th>Type</th>\n",
       "      <th>Start</th>\n",
       "      <th>End</th>\n",
       "      <th>Population</th>\n",
       "    </tr>\n",
       "    <tr>\n",
       "      <th>Country</th>\n",
       "      <th>Phase</th>\n",
       "      <th></th>\n",
       "      <th></th>\n",
       "      <th></th>\n",
       "      <th></th>\n",
       "    </tr>\n",
       "  </thead>\n",
       "  <tbody>\n",
       "    <tr>\n",
       "      <th rowspan=\"12\" valign=\"top\">Russia</th>\n",
       "      <th>0th</th>\n",
       "      <td>Past</td>\n",
       "      <td>12Feb2020</td>\n",
       "      <td>06May2020</td>\n",
       "      <td>330457362</td>\n",
       "    </tr>\n",
       "    <tr>\n",
       "      <th>1st</th>\n",
       "      <td>Past</td>\n",
       "      <td>07May2020</td>\n",
       "      <td>15May2020</td>\n",
       "      <td>330457362</td>\n",
       "    </tr>\n",
       "    <tr>\n",
       "      <th>2nd</th>\n",
       "      <td>Past</td>\n",
       "      <td>16May2020</td>\n",
       "      <td>23May2020</td>\n",
       "      <td>330457362</td>\n",
       "    </tr>\n",
       "    <tr>\n",
       "      <th>3rd</th>\n",
       "      <td>Past</td>\n",
       "      <td>24May2020</td>\n",
       "      <td>01Jun2020</td>\n",
       "      <td>330457362</td>\n",
       "    </tr>\n",
       "    <tr>\n",
       "      <th>4th</th>\n",
       "      <td>Past</td>\n",
       "      <td>02Jun2020</td>\n",
       "      <td>10Jun2020</td>\n",
       "      <td>330457362</td>\n",
       "    </tr>\n",
       "    <tr>\n",
       "      <th>5th</th>\n",
       "      <td>Past</td>\n",
       "      <td>11Jun2020</td>\n",
       "      <td>20Jun2020</td>\n",
       "      <td>330457362</td>\n",
       "    </tr>\n",
       "    <tr>\n",
       "      <th>6th</th>\n",
       "      <td>Past</td>\n",
       "      <td>21Jun2020</td>\n",
       "      <td>30Jun2020</td>\n",
       "      <td>330457362</td>\n",
       "    </tr>\n",
       "    <tr>\n",
       "      <th>7th</th>\n",
       "      <td>Past</td>\n",
       "      <td>01Jul2020</td>\n",
       "      <td>11Jul2020</td>\n",
       "      <td>330457362</td>\n",
       "    </tr>\n",
       "    <tr>\n",
       "      <th>8th</th>\n",
       "      <td>Past</td>\n",
       "      <td>12Jul2020</td>\n",
       "      <td>24Jul2020</td>\n",
       "      <td>330457362</td>\n",
       "    </tr>\n",
       "    <tr>\n",
       "      <th>9th</th>\n",
       "      <td>Past</td>\n",
       "      <td>25Jul2020</td>\n",
       "      <td>08Aug2020</td>\n",
       "      <td>330457362</td>\n",
       "    </tr>\n",
       "    <tr>\n",
       "      <th>10th</th>\n",
       "      <td>Past</td>\n",
       "      <td>09Aug2020</td>\n",
       "      <td>25Aug2020</td>\n",
       "      <td>330457362</td>\n",
       "    </tr>\n",
       "    <tr>\n",
       "      <th>11th</th>\n",
       "      <td>Past</td>\n",
       "      <td>26Aug2020</td>\n",
       "      <td>12Sep2020</td>\n",
       "      <td>330457362</td>\n",
       "    </tr>\n",
       "  </tbody>\n",
       "</table>\n",
       "</div>"
      ],
      "text/plain": [
       "               Type      Start        End  Population\n",
       "Country Phase                                        \n",
       "Russia  0th    Past  12Feb2020  06May2020   330457362\n",
       "        1st    Past  07May2020  15May2020   330457362\n",
       "        2nd    Past  16May2020  23May2020   330457362\n",
       "        3rd    Past  24May2020  01Jun2020   330457362\n",
       "        4th    Past  02Jun2020  10Jun2020   330457362\n",
       "        5th    Past  11Jun2020  20Jun2020   330457362\n",
       "        6th    Past  21Jun2020  30Jun2020   330457362\n",
       "        7th    Past  01Jul2020  11Jul2020   330457362\n",
       "        8th    Past  12Jul2020  24Jul2020   330457362\n",
       "        9th    Past  25Jul2020  08Aug2020   330457362\n",
       "        10th   Past  09Aug2020  25Aug2020   330457362\n",
       "        11th   Past  26Aug2020  12Sep2020   330457362"
      ]
     },
     "execution_count": 10,
     "metadata": {},
     "output_type": "execute_result"
    }
   ],
   "source": [
    "# Here, only show the countries which have the most phases\n",
    "countries_show = max(phase_len_dict.items(), key=lambda x: x[0])[1]\n",
    "# Show summary\n",
    "analyser.summary(countries=countries_show)"
   ]
  },
  {
   "cell_type": "markdown",
   "metadata": {},
   "source": [
    "## Parameter estimation\n",
    "we will estimate the parameter values with SIR-derived ODE models in each country."
   ]
  },
  {
   "cell_type": "code",
   "execution_count": 11,
   "metadata": {
    "collapsed": false,
    "tags": []
   },
   "outputs": [
    {
     "name": "stdout",
     "output_type": "stream",
     "text": [
      "\n",
      "<SIR-F model: parameter estimation>"
     ]
    },
    {
     "name": "stdout",
     "output_type": "stream",
     "text": [
      "\n"
     ]
    },
    {
     "name": "stdout",
     "output_type": "stream",
     "text": [
      "Running optimization with 4 CPUs..."
     ]
    },
    {
     "name": "stdout",
     "output_type": "stream",
     "text": [
      "\n"
     ]
    },
    {
     "name": "stdout",
     "output_type": "stream",
     "text": [
      "\tBGD,  3rd phase (21Jun2020 - 28Jun2020): finished 1142 trials in 0 min 35 sec"
     ]
    },
    {
     "name": "stdout",
     "output_type": "stream",
     "text": [
      "\n"
     ]
    },
    {
     "name": "stdout",
     "output_type": "stream",
     "text": [
      "\tGEO,  7th phase (23Jul2020 - 06Aug2020): finished 1769 trials in 1 min  0 sec"
     ]
    },
    {
     "name": "stdout",
     "output_type": "stream",
     "text": [
      "\n"
     ]
    },
    {
     "name": "stdout",
     "output_type": "stream",
     "text": [
      "\tMEX,  2nd phase (08Jun2020 - 20Jun2020): finished 1813 trials in 1 min  0 sec"
     ]
    },
    {
     "name": "stdout",
     "output_type": "stream",
     "text": [
      "\n"
     ]
    },
    {
     "name": "stdout",
     "output_type": "stream",
     "text": [
      "\tMEX,  4th phase (02Jul2020 - 09Jul2020): finished 1800 trials in 1 min  0 sec"
     ]
    },
    {
     "name": "stdout",
     "output_type": "stream",
     "text": [
      "\n"
     ]
    },
    {
     "name": "stdout",
     "output_type": "stream",
     "text": [
      "\tMEX,  7th phase (31Jul2020 - 09Aug2020): finished  246 trials in 0 min  5 sec"
     ]
    },
    {
     "name": "stdout",
     "output_type": "stream",
     "text": [
      "\n"
     ]
    },
    {
     "name": "stdout",
     "output_type": "stream",
     "text": [
      "\tRUS,  6th phase (21Jun2020 - 30Jun2020): finished 1908 trials in 1 min  0 sec"
     ]
    },
    {
     "name": "stdout",
     "output_type": "stream",
     "text": [
      "\n"
     ]
    },
    {
     "name": "stdout",
     "output_type": "stream",
     "text": [
      "\tUSA,  6th phase (16Jul2020 - 23Jul2020): finished  244 trials in 0 min  5 sec"
     ]
    },
    {
     "name": "stdout",
     "output_type": "stream",
     "text": [
      "\n"
     ]
    },
    {
     "name": "stdout",
     "output_type": "stream",
     "text": [
      "\tGIN,  2nd phase (13May2020 - 26May2020): finished 1842 trials in 1 min  0 sec"
     ]
    },
    {
     "name": "stdout",
     "output_type": "stream",
     "text": [
      "\n"
     ]
    },
    {
     "name": "stdout",
     "output_type": "stream",
     "text": [
      "\tRUS,  9th phase (25Jul2020 - 08Aug2020): finished 1815 trials in 1 min  0 sec"
     ]
    },
    {
     "name": "stdout",
     "output_type": "stream",
     "text": [
      "\n"
     ]
    },
    {
     "name": "stdout",
     "output_type": "stream",
     "text": [
      "\tGIN,  0th phase (03Apr2020 - 30Apr2020): finished 1779 trials in 1 min  0 sec"
     ]
    },
    {
     "name": "stdout",
     "output_type": "stream",
     "text": [
      "\n"
     ]
    },
    {
     "name": "stdout",
     "output_type": "stream",
     "text": [
      "\tBGD, 10th phase (29Aug2020 - 12Sep2020): finished  811 trials in 0 min 25 sec"
     ]
    },
    {
     "name": "stdout",
     "output_type": "stream",
     "text": [
      "\n"
     ]
    },
    {
     "name": "stdout",
     "output_type": "stream",
     "text": [
      "\tGIN,  3rd phase (27May2020 - 06Jun2020): finished 1609 trials in 1 min  0 sec"
     ]
    },
    {
     "name": "stdout",
     "output_type": "stream",
     "text": [
      "\n"
     ]
    },
    {
     "name": "stdout",
     "output_type": "stream",
     "text": [
      "\tKWT,  8th phase (09Aug2020 - 20Aug2020): finished 1631 trials in 1 min  0 sec"
     ]
    },
    {
     "name": "stdout",
     "output_type": "stream",
     "text": [
      "\n"
     ]
    },
    {
     "name": "stdout",
     "output_type": "stream",
     "text": [
      "\tIRN,  4th phase (01Jun2020 - 15Jun2020): finished 1623 trials in 1 min  0 sec"
     ]
    },
    {
     "name": "stdout",
     "output_type": "stream",
     "text": [
      "\n"
     ]
    },
    {
     "name": "stdout",
     "output_type": "stream",
     "text": [
      "\tFRA,  5th phase (06May2020 - 27May2020): finished  522 trials in 0 min 15 sec"
     ]
    },
    {
     "name": "stdout",
     "output_type": "stream",
     "text": [
      "\n"
     ]
    },
    {
     "name": "stdout",
     "output_type": "stream",
     "text": [
      "\tIRN,  8th phase (28Jul2020 - 09Aug2020): finished 1339 trials in 0 min 45 sec"
     ]
    },
    {
     "name": "stdout",
     "output_type": "stream",
     "text": [
      "\n"
     ]
    },
    {
     "name": "stdout",
     "output_type": "stream",
     "text": [
      "\tGIN,  1st phase (01May2020 - 12May2020): finished 1630 trials in 1 min  0 sec"
     ]
    },
    {
     "name": "stdout",
     "output_type": "stream",
     "text": [
      "\n"
     ]
    },
    {
     "name": "stdout",
     "output_type": "stream",
     "text": [
      "\tNGA,  5th phase (05Jul2020 - 12Jul2020): finished  369 trials in 0 min 10 sec"
     ]
    },
    {
     "name": "stdout",
     "output_type": "stream",
     "text": [
      "\n"
     ]
    },
    {
     "name": "stdout",
     "output_type": "stream",
     "text": [
      "\tBHR,  7th phase (27Jul2020 - 09Aug2020): finished  993 trials in 0 min 30 sec"
     ]
    },
    {
     "name": "stdout",
     "output_type": "stream",
     "text": [
      "\n"
     ]
    },
    {
     "name": "stdout",
     "output_type": "stream",
     "text": [
      "\tMEX,  3rd phase (21Jun2020 - 01Jul2020): finished 1787 trials in 1 min  0 sec"
     ]
    },
    {
     "name": "stdout",
     "output_type": "stream",
     "text": [
      "\n"
     ]
    },
    {
     "name": "stdout",
     "output_type": "stream",
     "text": [
      "\tGEO,  4th phase (30May2020 - 12Jun2020): finished 1850 trials in 1 min  0 sec"
     ]
    },
    {
     "name": "stdout",
     "output_type": "stream",
     "text": [
      "\n"
     ]
    },
    {
     "name": "stdout",
     "output_type": "stream",
     "text": [
      "\tRUS,  5th phase (11Jun2020 - 20Jun2020): finished 1904 trials in 1 min  0 sec"
     ]
    },
    {
     "name": "stdout",
     "output_type": "stream",
     "text": [
      "\n"
     ]
    },
    {
     "name": "stdout",
     "output_type": "stream",
     "text": [
      "\tITA,  5th phase (01May2020 - 09May2020): finished  634 trials in 0 min 15 sec"
     ]
    },
    {
     "name": "stdout",
     "output_type": "stream",
     "text": [
      "\n"
     ]
    },
    {
     "name": "stdout",
     "output_type": "stream",
     "text": [
      "\tGIN,  8th phase (06Aug2020 - 16Aug2020): finished 2001 trials in 1 min  0 sec"
     ]
    },
    {
     "name": "stdout",
     "output_type": "stream",
     "text": [
      "\n"
     ]
    },
    {
     "name": "stdout",
     "output_type": "stream",
     "text": [
      "\tFRA,  7th phase (26Jun2020 - 22Jul2020): finished  461 trials in 0 min 10 sec"
     ]
    },
    {
     "name": "stdout",
     "output_type": "stream",
     "text": [
      "\n"
     ]
    },
    {
     "name": "stdout",
     "output_type": "stream",
     "text": [
      "\tBHR,  9th phase (23Aug2020 - 03Sep2020): finished 1987 trials in 1 min  0 sec"
     ]
    },
    {
     "name": "stdout",
     "output_type": "stream",
     "text": [
      "\n"
     ]
    },
    {
     "name": "stdout",
     "output_type": "stream",
     "text": [
      "\tFRA,  4th phase (25Apr2020 - 05May2020): finished 1992 trials in 1 min  0 sec"
     ]
    },
    {
     "name": "stdout",
     "output_type": "stream",
     "text": [
      "\n"
     ]
    },
    {
     "name": "stdout",
     "output_type": "stream",
     "text": [
      "\tARE,  5th phase (19Jun2020 - 01Jul2020): finished 1030 trials in 0 min 25 sec"
     ]
    },
    {
     "name": "stdout",
     "output_type": "stream",
     "text": [
      "\n"
     ]
    },
    {
     "name": "stdout",
     "output_type": "stream",
     "text": [
      "\tFRA,  3rd phase (13Apr2020 - 24Apr2020): finished 2017 trials in 1 min  0 sec"
     ]
    },
    {
     "name": "stdout",
     "output_type": "stream",
     "text": [
      "\n"
     ]
    },
    {
     "name": "stdout",
     "output_type": "stream",
     "text": [
      "\tARE,  6th phase (02Jul2020 - 10Jul2020): finished 2016 trials in 1 min  0 sec"
     ]
    },
    {
     "name": "stdout",
     "output_type": "stream",
     "text": [
      "\n"
     ]
    },
    {
     "name": "stdout",
     "output_type": "stream",
     "text": [
      "\tITA,  9th phase (17Jul2020 - 20Aug2020): finished 1836 trials in 1 min  0 sec"
     ]
    },
    {
     "name": "stdout",
     "output_type": "stream",
     "text": [
      "\n"
     ]
    },
    {
     "name": "stdout",
     "output_type": "stream",
     "text": [
      "\tNGA,  1st phase (19May2020 - 06Jun2020): finished 1860 trials in 1 min  0 sec"
     ]
    },
    {
     "name": "stdout",
     "output_type": "stream",
     "text": [
      "\n"
     ]
    },
    {
     "name": "stdout",
     "output_type": "stream",
     "text": [
      "\tITA,  3rd phase (10Apr2020 - 18Apr2020): finished  363 trials in 0 min 15 sec"
     ]
    },
    {
     "name": "stdout",
     "output_type": "stream",
     "text": [
      "\n"
     ]
    },
    {
     "name": "stdout",
     "output_type": "stream",
     "text": [
      "\tIRN,  1st phase (30Mar2020 - 17Apr2020): finished 1484 trials in 1 min  0 sec"
     ]
    },
    {
     "name": "stdout",
     "output_type": "stream",
     "text": [
      "\n"
     ]
    },
    {
     "name": "stdout",
     "output_type": "stream",
     "text": [
      "\tUSA,  3rd phase (06Jun2020 - 23Jun2020): finished  428 trials in 0 min 15 sec"
     ]
    },
    {
     "name": "stdout",
     "output_type": "stream",
     "text": [
      "\n"
     ]
    },
    {
     "name": "stdout",
     "output_type": "stream",
     "text": [
      "\tRUS,  0th phase (12Feb2020 - 06May2020): finished 1442 trials in 1 min  0 sec"
     ]
    },
    {
     "name": "stdout",
     "output_type": "stream",
     "text": [
      "\n"
     ]
    },
    {
     "name": "stdout",
     "output_type": "stream",
     "text": [
      "\tFRA,  8th phase (23Jul2020 - 10Aug2020): finished  418 trials in 0 min 15 sec"
     ]
    },
    {
     "name": "stdout",
     "output_type": "stream",
     "text": [
      "\n"
     ]
    },
    {
     "name": "stdout",
     "output_type": "stream",
     "text": [
      "\tITA,  1st phase (21Mar2020 - 28Mar2020): finished 1321 trials in 1 min  0 sec"
     ]
    },
    {
     "name": "stdout",
     "output_type": "stream",
     "text": [
      "\n"
     ]
    },
    {
     "name": "stdout",
     "output_type": "stream",
     "text": [
      "\tITA,  6th phase (10May2020 - 19May2020): finished  177 trials in 0 min  5 sec"
     ]
    },
    {
     "name": "stdout",
     "output_type": "stream",
     "text": [
      "\n"
     ]
    },
    {
     "name": "stdout",
     "output_type": "stream",
     "text": [
      "\tUSA,  2nd phase (11May2020 - 05Jun2020): finished 1434 trials in 1 min  0 sec"
     ]
    },
    {
     "name": "stdout",
     "output_type": "stream",
     "text": [
      "\n"
     ]
    },
    {
     "name": "stdout",
     "output_type": "stream",
     "text": [
      "\tKWT,  0th phase (08Mar2020 - 14May2020): finished 1364 trials in 1 min  0 sec"
     ]
    },
    {
     "name": "stdout",
     "output_type": "stream",
     "text": [
      "\n"
     ]
    },
    {
     "name": "stdout",
     "output_type": "stream",
     "text": [
      "\tGEO,  0th phase (16Mar2020 - 12Apr2020): finished 1597 trials in 1 min  0 sec"
     ]
    },
    {
     "name": "stdout",
     "output_type": "stream",
     "text": [
      "\n"
     ]
    },
    {
     "name": "stdout",
     "output_type": "stream",
     "text": [
      "\tRUS, 10th phase (09Aug2020 - 25Aug2020): finished 1819 trials in 1 min  0 sec"
     ]
    },
    {
     "name": "stdout",
     "output_type": "stream",
     "text": [
      "\n"
     ]
    },
    {
     "name": "stdout",
     "output_type": "stream",
     "text": [
      "\tGIN, 10th phase (30Aug2020 - 12Sep2020): finished  429 trials in 0 min 10 sec"
     ]
    },
    {
     "name": "stdout",
     "output_type": "stream",
     "text": [
      "\n"
     ]
    },
    {
     "name": "stdout",
     "output_type": "stream",
     "text": [
      "\tITA, 10th phase (21Aug2020 - 12Sep2020): finished 1944 trials in 1 min  0 sec"
     ]
    },
    {
     "name": "stdout",
     "output_type": "stream",
     "text": [
      "\n"
     ]
    },
    {
     "name": "stdout",
     "output_type": "stream",
     "text": [
      "\tGEO,  9th phase (17Aug2020 - 30Aug2020): finished 1972 trials in 1 min  0 sec"
     ]
    },
    {
     "name": "stdout",
     "output_type": "stream",
     "text": [
      "\n"
     ]
    },
    {
     "name": "stdout",
     "output_type": "stream",
     "text": [
      "\tRUS,  8th phase (12Jul2020 - 24Jul2020): finished 1947 trials in 1 min  0 sec"
     ]
    },
    {
     "name": "stdout",
     "output_type": "stream",
     "text": [
      "\n"
     ]
    },
    {
     "name": "stdout",
     "output_type": "stream",
     "text": [
      "\tGEO,  2nd phase (30Apr2020 - 12May2020): finished 1821 trials in 1 min  0 sec"
     ]
    },
    {
     "name": "stdout",
     "output_type": "stream",
     "text": [
      "\n"
     ]
    },
    {
     "name": "stdout",
     "output_type": "stream",
     "text": [
      "\tRUS, 11th phase (26Aug2020 - 12Sep2020): finished 1552 trials in 0 min 50 sec"
     ]
    },
    {
     "name": "stdout",
     "output_type": "stream",
     "text": [
      "\n"
     ]
    },
    {
     "name": "stdout",
     "output_type": "stream",
     "text": [
      "\tARE,  1st phase (25Apr2020 - 12May2020): finished 1787 trials in 1 min  0 sec"
     ]
    },
    {
     "name": "stdout",
     "output_type": "stream",
     "text": [
      "\n"
     ]
    },
    {
     "name": "stdout",
     "output_type": "stream",
     "text": [
      "\tIRN,  2nd phase (18Apr2020 - 12May2020): finished  468 trials in 0 min 10 sec"
     ]
    },
    {
     "name": "stdout",
     "output_type": "stream",
     "text": [
      "\n"
     ]
    },
    {
     "name": "stdout",
     "output_type": "stream",
     "text": [
      "\tFRA,  2nd phase (03Apr2020 - 12Apr2020): finished 1790 trials in 1 min  0 sec"
     ]
    },
    {
     "name": "stdout",
     "output_type": "stream",
     "text": [
      "\n"
     ]
    },
    {
     "name": "stdout",
     "output_type": "stream",
     "text": [
      "\tGIN,  4th phase (07Jun2020 - 19Jun2020): finished 1933 trials in 1 min  0 sec"
     ]
    },
    {
     "name": "stdout",
     "output_type": "stream",
     "text": [
      "\n"
     ]
    },
    {
     "name": "stdout",
     "output_type": "stream",
     "text": [
      "\tARE,  3rd phase (28May2020 - 06Jun2020): finished 1946 trials in 1 min  0 sec"
     ]
    },
    {
     "name": "stdout",
     "output_type": "stream",
     "text": [
      "\n"
     ]
    },
    {
     "name": "stdout",
     "output_type": "stream",
     "text": [
      "\tBHR,  0th phase (06Mar2020 - 06May2020): finished 1952 trials in 1 min  0 sec"
     ]
    },
    {
     "name": "stdout",
     "output_type": "stream",
     "text": [
      "\n"
     ]
    },
    {
     "name": "stdout",
     "output_type": "stream",
     "text": [
      "\tITA,  8th phase (07Jun2020 - 16Jul2020): finished 1008 trials in 0 min 25 sec"
     ]
    },
    {
     "name": "stdout",
     "output_type": "stream",
     "text": [
      "\n"
     ]
    },
    {
     "name": "stdout",
     "output_type": "stream",
     "text": [
      "\tIRN,  5th phase (16Jun2020 - 29Jun2020): finished 2000 trials in 1 min  0 sec"
     ]
    },
    {
     "name": "stdout",
     "output_type": "stream",
     "text": [
      "\n"
     ]
    },
    {
     "name": "stdout",
     "output_type": "stream",
     "text": [
      "\tNGA,  4th phase (27Jun2020 - 04Jul2020): finished  259 trials in 0 min  5 sec"
     ]
    },
    {
     "name": "stdout",
     "output_type": "stream",
     "text": [
      "\n"
     ]
    },
    {
     "name": "stdout",
     "output_type": "stream",
     "text": [
      "\tIRN, 10th phase (25Aug2020 - 12Sep2020): finished  477 trials in 0 min 10 sec"
     ]
    },
    {
     "name": "stdout",
     "output_type": "stream",
     "text": [
      "\n"
     ]
    },
    {
     "name": "stdout",
     "output_type": "stream",
     "text": [
      "\tIRN,  0th phase (26Feb2020 - 29Mar2020): finished 2009 trials in 1 min  0 sec"
     ]
    },
    {
     "name": "stdout",
     "output_type": "stream",
     "text": [
      "\n"
     ]
    },
    {
     "name": "stdout",
     "output_type": "stream",
     "text": [
      "\tGEO,  8th phase (07Aug2020 - 16Aug2020): finished 1510 trials in 0 min 40 sec"
     ]
    },
    {
     "name": "stdout",
     "output_type": "stream",
     "text": [
      "\n"
     ]
    },
    {
     "name": "stdout",
     "output_type": "stream",
     "text": [
      "\tGIN,  5th phase (20Jun2020 - 08Jul2020): finished  253 trials in 0 min  5 sec"
     ]
    },
    {
     "name": "stdout",
     "output_type": "stream",
     "text": [
      "\n"
     ]
    },
    {
     "name": "stdout",
     "output_type": "stream",
     "text": [
      "\tGIN,  7th phase (23Jul2020 - 05Aug2020): finished 2021 trials in 1 min  0 sec"
     ]
    },
    {
     "name": "stdout",
     "output_type": "stream",
     "text": [
      "\n"
     ]
    },
    {
     "name": "stdout",
     "output_type": "stream",
     "text": [
      "\tMEX,  8th phase (10Aug2020 - 19Aug2020): finished 2033 trials in 1 min  0 sec"
     ]
    },
    {
     "name": "stdout",
     "output_type": "stream",
     "text": [
      "\n"
     ]
    },
    {
     "name": "stdout",
     "output_type": "stream",
     "text": [
      "\tFRA, 10th phase (28Aug2020 - 12Sep2020): finished 1994 trials in 1 min  0 sec"
     ]
    },
    {
     "name": "stdout",
     "output_type": "stream",
     "text": [
      "\n"
     ]
    },
    {
     "name": "stdout",
     "output_type": "stream",
     "text": [
      "\tBGD,  5th phase (07Jul2020 - 15Jul2020): finished 2014 trials in 1 min  0 sec"
     ]
    },
    {
     "name": "stdout",
     "output_type": "stream",
     "text": [
      "\n"
     ]
    },
    {
     "name": "stdout",
     "output_type": "stream",
     "text": [
      "\tGIN,  9th phase (17Aug2020 - 29Aug2020): finished 2001 trials in 1 min  0 sec"
     ]
    },
    {
     "name": "stdout",
     "output_type": "stream",
     "text": [
      "\n"
     ]
    },
    {
     "name": "stdout",
     "output_type": "stream",
     "text": [
      "\tBGD,  7th phase (26Jul2020 - 06Aug2020): finished  479 trials in 0 min 10 sec"
     ]
    },
    {
     "name": "stdout",
     "output_type": "stream",
     "text": [
      "\n"
     ]
    },
    {
     "name": "stdout",
     "output_type": "stream",
     "text": [
      "\tBHR,  8th phase (10Aug2020 - 22Aug2020): finished  255 trials in 0 min  5 sec"
     ]
    },
    {
     "name": "stdout",
     "output_type": "stream",
     "text": [
      "\n"
     ]
    },
    {
     "name": "stdout",
     "output_type": "stream",
     "text": [
      "\tNGA,  7th phase (21Jul2020 - 07Aug2020): finished 1996 trials in 1 min  0 sec"
     ]
    },
    {
     "name": "stdout",
     "output_type": "stream",
     "text": [
      "\n"
     ]
    },
    {
     "name": "stdout",
     "output_type": "stream",
     "text": [
      "\tITA,  4th phase (19Apr2020 - 30Apr2020): finished 2003 trials in 1 min  0 sec"
     ]
    },
    {
     "name": "stdout",
     "output_type": "stream",
     "text": [
      "\n"
     ]
    },
    {
     "name": "stdout",
     "output_type": "stream",
     "text": [
      "\tFRA,  1st phase (25Mar2020 - 02Apr2020): finished 2016 trials in 1 min  0 sec"
     ]
    },
    {
     "name": "stdout",
     "output_type": "stream",
     "text": [
      "\n"
     ]
    },
    {
     "name": "stdout",
     "output_type": "stream",
     "text": [
      "\tIRN,  6th phase (30Jun2020 - 12Jul2020): finished  256 trials in 0 min  5 sec"
     ]
    },
    {
     "name": "stdout",
     "output_type": "stream",
     "text": [
      "\n"
     ]
    },
    {
     "name": "stdout",
     "output_type": "stream",
     "text": [
      "\tNGA,  2nd phase (07Jun2020 - 17Jun2020): finished  252 trials in 0 min  5 sec"
     ]
    },
    {
     "name": "stdout",
     "output_type": "stream",
     "text": [
      "\n"
     ]
    },
    {
     "name": "stdout",
     "output_type": "stream",
     "text": [
      "\tRUS,  4th phase (02Jun2020 - 10Jun2020): finished 2011 trials in 1 min  0 sec"
     ]
    },
    {
     "name": "stdout",
     "output_type": "stream",
     "text": [
      "\n"
     ]
    },
    {
     "name": "stdout",
     "output_type": "stream",
     "text": [
      "\tMEX,  9th phase (20Aug2020 - 30Aug2020): finished 2017 trials in 1 min  0 sec"
     ]
    },
    {
     "name": "stdout",
     "output_type": "stream",
     "text": [
      "\n"
     ]
    },
    {
     "name": "stdout",
     "output_type": "stream",
     "text": [
      "\tGEO,  3rd phase (13May2020 - 29May2020): finished 1992 trials in 1 min  0 sec"
     ]
    },
    {
     "name": "stdout",
     "output_type": "stream",
     "text": [
      "\n"
     ]
    },
    {
     "name": "stdout",
     "output_type": "stream",
     "text": [
      "\tMEX,  1st phase (21May2020 - 07Jun2020): finished 1174 trials in 0 min 30 sec"
     ]
    },
    {
     "name": "stdout",
     "output_type": "stream",
     "text": [
      "\n"
     ]
    },
    {
     "name": "stdout",
     "output_type": "stream",
     "text": [
      "\tKWT,  4th phase (23Jun2020 - 03Jul2020): finished 2008 trials in 1 min  0 sec"
     ]
    },
    {
     "name": "stdout",
     "output_type": "stream",
     "text": [
      "\n"
     ]
    },
    {
     "name": "stdout",
     "output_type": "stream",
     "text": [
      "\tUSA,  8th phase (08Aug2020 - 17Aug2020): finished  677 trials in 0 min 15 sec"
     ]
    },
    {
     "name": "stdout",
     "output_type": "stream",
     "text": [
      "\n"
     ]
    },
    {
     "name": "stdout",
     "output_type": "stream",
     "text": [
      "\tUSA,  9th phase (18Aug2020 - 28Aug2020): finished  251 trials in 0 min  5 sec"
     ]
    },
    {
     "name": "stdout",
     "output_type": "stream",
     "text": [
      "\n"
     ]
    },
    {
     "name": "stdout",
     "output_type": "stream",
     "text": [
      "\tKWT,  7th phase (27Jul2020 - 08Aug2020): finished 1345 trials in 0 min 35 sec"
     ]
    },
    {
     "name": "stdout",
     "output_type": "stream",
     "text": [
      "\n"
     ]
    },
    {
     "name": "stdout",
     "output_type": "stream",
     "text": [
      "\tIRN,  3rd phase (13May2020 - 31May2020): finished  254 trials in 0 min  5 sec"
     ]
    },
    {
     "name": "stdout",
     "output_type": "stream",
     "text": [
      "\n"
     ]
    },
    {
     "name": "stdout",
     "output_type": "stream",
     "text": [
      "\tGEO,  5th phase (13Jun2020 - 06Jul2020): finished 1993 trials in 1 min  0 sec"
     ]
    },
    {
     "name": "stdout",
     "output_type": "stream",
     "text": [
      "\n"
     ]
    },
    {
     "name": "stdout",
     "output_type": "stream",
     "text": [
      "\tKWT,  2nd phase (28May2020 - 07Jun2020): finished 2021 trials in 1 min  0 sec"
     ]
    },
    {
     "name": "stdout",
     "output_type": "stream",
     "text": [
      "\n"
     ]
    },
    {
     "name": "stdout",
     "output_type": "stream",
     "text": [
      "\tITA,  2nd phase (29Mar2020 - 09Apr2020): finished 2018 trials in 1 min  0 sec"
     ]
    },
    {
     "name": "stdout",
     "output_type": "stream",
     "text": [
      "\n"
     ]
    },
    {
     "name": "stdout",
     "output_type": "stream",
     "text": [
      "\tARE, 10th phase (02Sep2020 - 12Sep2020): finished 2027 trials in 1 min  0 sec"
     ]
    },
    {
     "name": "stdout",
     "output_type": "stream",
     "text": [
      "\n"
     ]
    },
    {
     "name": "stdout",
     "output_type": "stream",
     "text": [
      "\tUSA,  1st phase (18Apr2020 - 10May2020): finished 2000 trials in 1 min  0 sec"
     ]
    },
    {
     "name": "stdout",
     "output_type": "stream",
     "text": [
      "\n"
     ]
    },
    {
     "name": "stdout",
     "output_type": "stream",
     "text": [
      "\tKWT,  1st phase (15May2020 - 27May2020): finished 2002 trials in 1 min  0 sec"
     ]
    },
    {
     "name": "stdout",
     "output_type": "stream",
     "text": [
      "\n"
     ]
    },
    {
     "name": "stdout",
     "output_type": "stream",
     "text": [
      "\tRUS,  1st phase (07May2020 - 15May2020): finished 1997 trials in 1 min  0 sec"
     ]
    },
    {
     "name": "stdout",
     "output_type": "stream",
     "text": [
      "\n"
     ]
    },
    {
     "name": "stdout",
     "output_type": "stream",
     "text": [
      "\tMEX,  5th phase (10Jul2020 - 18Jul2020): finished 2011 trials in 1 min  0 sec"
     ]
    },
    {
     "name": "stdout",
     "output_type": "stream",
     "text": [
      "\n"
     ]
    },
    {
     "name": "stdout",
     "output_type": "stream",
     "text": [
      "\tNGA, 10th phase (27Aug2020 - 12Sep2020): finished  473 trials in 0 min 10 sec"
     ]
    },
    {
     "name": "stdout",
     "output_type": "stream",
     "text": [
      "\n"
     ]
    },
    {
     "name": "stdout",
     "output_type": "stream",
     "text": [
      "\tKWT,  3rd phase (08Jun2020 - 22Jun2020): finished 1993 trials in 1 min  0 sec"
     ]
    },
    {
     "name": "stdout",
     "output_type": "stream",
     "text": [
      "\n"
     ]
    },
    {
     "name": "stdout",
     "output_type": "stream",
     "text": [
      "\tGEO,  6th phase (07Jul2020 - 22Jul2020): finished  478 trials in 0 min 10 sec"
     ]
    },
    {
     "name": "stdout",
     "output_type": "stream",
     "text": [
      "\n"
     ]
    },
    {
     "name": "stdout",
     "output_type": "stream",
     "text": [
      "\tARE,  0th phase (12Feb2020 - 24Apr2020): finished 1972 trials in 1 min  0 sec"
     ]
    },
    {
     "name": "stdout",
     "output_type": "stream",
     "text": [
      "\n"
     ]
    },
    {
     "name": "stdout",
     "output_type": "stream",
     "text": [
      "\tIRN,  9th phase (10Aug2020 - 24Aug2020): finished 2019 trials in 1 min  0 sec"
     ]
    },
    {
     "name": "stdout",
     "output_type": "stream",
     "text": [
      "\n"
     ]
    },
    {
     "name": "stdout",
     "output_type": "stream",
     "text": [
      "\tMEX,  6th phase (19Jul2020 - 30Jul2020): finished 2025 trials in 1 min  0 sec"
     ]
    },
    {
     "name": "stdout",
     "output_type": "stream",
     "text": [
      "\n"
     ]
    },
    {
     "name": "stdout",
     "output_type": "stream",
     "text": [
      "\tFRA,  0th phase (12Feb2020 - 24Mar2020): finished 1873 trials in 1 min  0 sec"
     ]
    },
    {
     "name": "stdout",
     "output_type": "stream",
     "text": [
      "\n"
     ]
    },
    {
     "name": "stdout",
     "output_type": "stream",
     "text": [
      "\tBGD,  9th phase (17Aug2020 - 28Aug2020): finished  255 trials in 0 min  5 sec"
     ]
    },
    {
     "name": "stdout",
     "output_type": "stream",
     "text": [
      "\n"
     ]
    },
    {
     "name": "stdout",
     "output_type": "stream",
     "text": [
      "\tBGD,  2nd phase (12Jun2020 - 20Jun2020): finished 2016 trials in 1 min  0 sec"
     ]
    },
    {
     "name": "stdout",
     "output_type": "stream",
     "text": [
      "\n"
     ]
    },
    {
     "name": "stdout",
     "output_type": "stream",
     "text": [
      "\tGIN,  6th phase (09Jul2020 - 22Jul2020): finished 1995 trials in 1 min  0 sec"
     ]
    },
    {
     "name": "stdout",
     "output_type": "stream",
     "text": [
      "\n"
     ]
    },
    {
     "name": "stdout",
     "output_type": "stream",
     "text": [
      "\tBHR,  4th phase (22Jun2020 - 07Jul2020): finished 1990 trials in 1 min  0 sec"
     ]
    },
    {
     "name": "stdout",
     "output_type": "stream",
     "text": [
      "\n"
     ]
    },
    {
     "name": "stdout",
     "output_type": "stream",
     "text": [
      "\tIRN,  7th phase (13Jul2020 - 27Jul2020): finished  250 trials in 0 min  5 sec"
     ]
    },
    {
     "name": "stdout",
     "output_type": "stream",
     "text": [
      "\n"
     ]
    },
    {
     "name": "stdout",
     "output_type": "stream",
     "text": [
      "\tBHR,  6th phase (16Jul2020 - 26Jul2020): finished 2010 trials in 1 min  0 sec"
     ]
    },
    {
     "name": "stdout",
     "output_type": "stream",
     "text": [
      "\n"
     ]
    },
    {
     "name": "stdout",
     "output_type": "stream",
     "text": [
      "\tARE,  8th phase (27Jul2020 - 17Aug2020): finished 1000 trials in 0 min 25 sec"
     ]
    },
    {
     "name": "stdout",
     "output_type": "stream",
     "text": [
      "\n"
     ]
    },
    {
     "name": "stdout",
     "output_type": "stream",
     "text": [
      "\tITA,  7th phase (20May2020 - 06Jun2020): finished  471 trials in 0 min 10 sec"
     ]
    },
    {
     "name": "stdout",
     "output_type": "stream",
     "text": [
      "\n"
     ]
    },
    {
     "name": "stdout",
     "output_type": "stream",
     "text": [
      "\tRUS,  7th phase (01Jul2020 - 11Jul2020): finished 1996 trials in 1 min  0 sec"
     ]
    },
    {
     "name": "stdout",
     "output_type": "stream",
     "text": [
      "\n"
     ]
    },
    {
     "name": "stdout",
     "output_type": "stream",
     "text": [
      "\tGEO,  1st phase (13Apr2020 - 29Apr2020): finished 1987 trials in 1 min  0 sec"
     ]
    },
    {
     "name": "stdout",
     "output_type": "stream",
     "text": [
      "\n"
     ]
    },
    {
     "name": "stdout",
     "output_type": "stream",
     "text": [
      "\tNGA,  3rd phase (18Jun2020 - 26Jun2020): finished  248 trials in 0 min  5 sec"
     ]
    },
    {
     "name": "stdout",
     "output_type": "stream",
     "text": [
      "\n"
     ]
    },
    {
     "name": "stdout",
     "output_type": "stream",
     "text": [
      "\tBGD,  0th phase (16Mar2020 - 26May2020): finished 1933 trials in 1 min  0 sec"
     ]
    },
    {
     "name": "stdout",
     "output_type": "stream",
     "text": [
      "\n"
     ]
    },
    {
     "name": "stdout",
     "output_type": "stream",
     "text": [
      "\tRUS,  3rd phase (24May2020 - 01Jun2020): finished 1984 trials in 1 min  0 sec"
     ]
    },
    {
     "name": "stdout",
     "output_type": "stream",
     "text": [
      "\n"
     ]
    },
    {
     "name": "stdout",
     "output_type": "stream",
     "text": [
      "\tNGA,  0th phase (18Mar2020 - 18May2020): finished 1945 trials in 1 min  0 sec"
     ]
    },
    {
     "name": "stdout",
     "output_type": "stream",
     "text": [
      "\n"
     ]
    },
    {
     "name": "stdout",
     "output_type": "stream",
     "text": [
      "\tKWT,  9th phase (21Aug2020 - 01Sep2020): finished  472 trials in 0 min 10 sec"
     ]
    },
    {
     "name": "stdout",
     "output_type": "stream",
     "text": [
      "\n"
     ]
    },
    {
     "name": "stdout",
     "output_type": "stream",
     "text": [
      "\tBHR,  5th phase (08Jul2020 - 15Jul2020): finished 2013 trials in 1 min  0 sec"
     ]
    },
    {
     "name": "stdout",
     "output_type": "stream",
     "text": [
      "\n"
     ]
    },
    {
     "name": "stdout",
     "output_type": "stream",
     "text": [
      "\tBHR,  3rd phase (12Jun2020 - 21Jun2020): finished 1998 trials in 1 min  0 sec"
     ]
    },
    {
     "name": "stdout",
     "output_type": "stream",
     "text": [
      "\n"
     ]
    },
    {
     "name": "stdout",
     "output_type": "stream",
     "text": [
      "\tBGD,  6th phase (16Jul2020 - 25Jul2020): finished  249 trials in 0 min  5 sec"
     ]
    },
    {
     "name": "stdout",
     "output_type": "stream",
     "text": [
      "\n"
     ]
    },
    {
     "name": "stdout",
     "output_type": "stream",
     "text": [
      "\tGEO, 10th phase (31Aug2020 - 12Sep2020): finished 2016 trials in 1 min  0 sec"
     ]
    },
    {
     "name": "stdout",
     "output_type": "stream",
     "text": [
      "\n"
     ]
    },
    {
     "name": "stdout",
     "output_type": "stream",
     "text": [
      "\tFRA,  9th phase (11Aug2020 - 27Aug2020): finished  680 trials in 0 min 15 sec"
     ]
    },
    {
     "name": "stdout",
     "output_type": "stream",
     "text": [
      "\n"
     ]
    },
    {
     "name": "stdout",
     "output_type": "stream",
     "text": [
      "\tUSA,  7th phase (24Jul2020 - 07Aug2020): finished  252 trials in 0 min  5 sec"
     ]
    },
    {
     "name": "stdout",
     "output_type": "stream",
     "text": [
      "\n"
     ]
    },
    {
     "name": "stdout",
     "output_type": "stream",
     "text": [
      "\tFRA,  6th phase (28May2020 - 25Jun2020): finished 1479 trials in 0 min 40 sec"
     ]
    },
    {
     "name": "stdout",
     "output_type": "stream",
     "text": [
      "\n"
     ]
    },
    {
     "name": "stdout",
     "output_type": "stream",
     "text": [
      "\tKWT,  6th phase (15Jul2020 - 26Jul2020): finished  445 trials in 0 min 10 sec"
     ]
    },
    {
     "name": "stdout",
     "output_type": "stream",
     "text": [
      "\n"
     ]
    },
    {
     "name": "stdout",
     "output_type": "stream",
     "text": [
      "\tARE,  7th phase (11Jul2020 - 26Jul2020): finished  251 trials in 0 min  5 sec"
     ]
    },
    {
     "name": "stdout",
     "output_type": "stream",
     "text": [
      "\n"
     ]
    },
    {
     "name": "stdout",
     "output_type": "stream",
     "text": [
      "\tUSA,  0th phase (09Feb2020 - 17Apr2020): finished 1946 trials in 1 min  0 sec"
     ]
    },
    {
     "name": "stdout",
     "output_type": "stream",
     "text": [
      "\n"
     ]
    },
    {
     "name": "stdout",
     "output_type": "stream",
     "text": [
      "\tARE,  2nd phase (13May2020 - 27May2020): finished 1995 trials in 1 min  0 sec"
     ]
    },
    {
     "name": "stdout",
     "output_type": "stream",
     "text": [
      "\n"
     ]
    },
    {
     "name": "stdout",
     "output_type": "stream",
     "text": [
      "\tBGD,  1st phase (27May2020 - 11Jun2020): finished 1990 trials in 1 min  0 sec"
     ]
    },
    {
     "name": "stdout",
     "output_type": "stream",
     "text": [
      "\n"
     ]
    },
    {
     "name": "stdout",
     "output_type": "stream",
     "text": [
      "\tARE,  4th phase (07Jun2020 - 18Jun2020): finished 1040 trials in 0 min 25 sec"
     ]
    },
    {
     "name": "stdout",
     "output_type": "stream",
     "text": [
      "\n"
     ]
    },
    {
     "name": "stdout",
     "output_type": "stream",
     "text": [
      "\tNGA,  6th phase (13Jul2020 - 20Jul2020): finished  480 trials in 0 min 10 sec"
     ]
    },
    {
     "name": "stdout",
     "output_type": "stream",
     "text": [
      "\n"
     ]
    },
    {
     "name": "stdout",
     "output_type": "stream",
     "text": [
      "\tRUS,  2nd phase (16May2020 - 23May2020): finished 2025 trials in 1 min  0 sec"
     ]
    },
    {
     "name": "stdout",
     "output_type": "stream",
     "text": [
      "\n"
     ]
    },
    {
     "name": "stdout",
     "output_type": "stream",
     "text": [
      "\tMEX,  0th phase (03Mar2020 - 20May2020): finished 1956 trials in 1 min  0 sec"
     ]
    },
    {
     "name": "stdout",
     "output_type": "stream",
     "text": [
      "\n"
     ]
    },
    {
     "name": "stdout",
     "output_type": "stream",
     "text": [
      "\tUSA,  4th phase (24Jun2020 - 06Jul2020): finished 2025 trials in 1 min  0 sec"
     ]
    },
    {
     "name": "stdout",
     "output_type": "stream",
     "text": [
      "\n"
     ]
    },
    {
     "name": "stdout",
     "output_type": "stream",
     "text": [
      "\tBHR,  1st phase (07May2020 - 31May2020): finished 2015 trials in 1 min  0 sec"
     ]
    },
    {
     "name": "stdout",
     "output_type": "stream",
     "text": [
      "\n"
     ]
    },
    {
     "name": "stdout",
     "output_type": "stream",
     "text": [
      "\tITA,  0th phase (24Feb2020 - 20Mar2020): finished 2056 trials in 1 min  0 sec"
     ]
    },
    {
     "name": "stdout",
     "output_type": "stream",
     "text": [
      "\n"
     ]
    },
    {
     "name": "stdout",
     "output_type": "stream",
     "text": [
      "\tBHR,  2nd phase (01Jun2020 - 11Jun2020): finished 2083 trials in 1 min  0 sec"
     ]
    },
    {
     "name": "stdout",
     "output_type": "stream",
     "text": [
      "\n"
     ]
    },
    {
     "name": "stdout",
     "output_type": "stream",
     "text": [
      "\tBHR, 10th phase (04Sep2020 - 12Sep2020): finished  905 trials in 0 min 20 sec"
     ]
    },
    {
     "name": "stdout",
     "output_type": "stream",
     "text": [
      "\n"
     ]
    },
    {
     "name": "stdout",
     "output_type": "stream",
     "text": [
      "\tBGD,  4th phase (29Jun2020 - 06Jul2020): finished  709 trials in 0 min 15 sec"
     ]
    },
    {
     "name": "stdout",
     "output_type": "stream",
     "text": [
      "\n"
     ]
    },
    {
     "name": "stdout",
     "output_type": "stream",
     "text": [
      "\tNGA,  9th phase (18Aug2020 - 26Aug2020): finished 1099 trials in 0 min 25 sec"
     ]
    },
    {
     "name": "stdout",
     "output_type": "stream",
     "text": [
      "\n"
     ]
    },
    {
     "name": "stdout",
     "output_type": "stream",
     "text": [
      "\tKWT,  5th phase (04Jul2020 - 14Jul2020): finished  266 trials in 0 min  5 sec"
     ]
    },
    {
     "name": "stdout",
     "output_type": "stream",
     "text": [
      "\n"
     ]
    },
    {
     "name": "stdout",
     "output_type": "stream",
     "text": [
      "\tARE,  9th phase (18Aug2020 - 01Sep2020): finished 1081 trials in 0 min 25 sec"
     ]
    },
    {
     "name": "stdout",
     "output_type": "stream",
     "text": [
      "\n"
     ]
    },
    {
     "name": "stdout",
     "output_type": "stream",
     "text": [
      "Completed optimization. Total: 25 min 59 sec"
     ]
    },
    {
     "name": "stdout",
     "output_type": "stream",
     "text": [
      "\n"
     ]
    }
   ],
   "source": [
    "# Parameter estimation with SIR-F model\n",
    "analyser.estimate(cs.SIRF)"
   ]
  },
  {
   "cell_type": "code",
   "execution_count": 12,
   "metadata": {
    "collapsed": false
   },
   "outputs": [
    {
     "data": {
      "text/html": [
       "<div>\n",
       "<style scoped>\n",
       "    .dataframe tbody tr th:only-of-type {\n",
       "        vertical-align: middle;\n",
       "    }\n",
       "\n",
       "    .dataframe tbody tr th {\n",
       "        vertical-align: top;\n",
       "    }\n",
       "\n",
       "    .dataframe thead th {\n",
       "        text-align: right;\n",
       "    }\n",
       "</style>\n",
       "<table border=\"1\" class=\"dataframe\">\n",
       "  <thead>\n",
       "    <tr style=\"text-align: right;\">\n",
       "      <th></th>\n",
       "      <th></th>\n",
       "      <th>Type</th>\n",
       "      <th>Start</th>\n",
       "      <th>End</th>\n",
       "      <th>Population</th>\n",
       "      <th>ODE</th>\n",
       "      <th>Rt</th>\n",
       "      <th>theta</th>\n",
       "      <th>kappa</th>\n",
       "      <th>rho</th>\n",
       "      <th>sigma</th>\n",
       "      <th>tau</th>\n",
       "      <th>1/beta [day]</th>\n",
       "      <th>1/gamma [day]</th>\n",
       "      <th>alpha1 [-]</th>\n",
       "      <th>1/alpha2 [day]</th>\n",
       "      <th>RMSLE</th>\n",
       "      <th>Trials</th>\n",
       "      <th>Runtime</th>\n",
       "    </tr>\n",
       "    <tr>\n",
       "      <th>Country</th>\n",
       "      <th>Phase</th>\n",
       "      <th></th>\n",
       "      <th></th>\n",
       "      <th></th>\n",
       "      <th></th>\n",
       "      <th></th>\n",
       "      <th></th>\n",
       "      <th></th>\n",
       "      <th></th>\n",
       "      <th></th>\n",
       "      <th></th>\n",
       "      <th></th>\n",
       "      <th></th>\n",
       "      <th></th>\n",
       "      <th></th>\n",
       "      <th></th>\n",
       "      <th></th>\n",
       "      <th></th>\n",
       "      <th></th>\n",
       "    </tr>\n",
       "  </thead>\n",
       "  <tbody>\n",
       "    <tr>\n",
       "      <th rowspan=\"12\" valign=\"top\">Russia</th>\n",
       "      <th>0th</th>\n",
       "      <td>Past</td>\n",
       "      <td>12Feb2020</td>\n",
       "      <td>06May2020</td>\n",
       "      <td>330457362</td>\n",
       "      <td>SIR-F</td>\n",
       "      <td>0.02</td>\n",
       "      <td>0.602763</td>\n",
       "      <td>0.544883</td>\n",
       "      <td>0.034081</td>\n",
       "      <td>0.002299</td>\n",
       "      <td>360</td>\n",
       "      <td>7</td>\n",
       "      <td>108</td>\n",
       "      <td>0.603</td>\n",
       "      <td>0</td>\n",
       "      <td>18.966727</td>\n",
       "      <td>1442</td>\n",
       "      <td>1 min  0 sec</td>\n",
       "    </tr>\n",
       "    <tr>\n",
       "      <th>1st</th>\n",
       "      <td>Past</td>\n",
       "      <td>07May2020</td>\n",
       "      <td>15May2020</td>\n",
       "      <td>330457362</td>\n",
       "      <td>SIR-F</td>\n",
       "      <td>2.46</td>\n",
       "      <td>0.000639</td>\n",
       "      <td>0.000117</td>\n",
       "      <td>0.013019</td>\n",
       "      <td>0.005178</td>\n",
       "      <td>360</td>\n",
       "      <td>19</td>\n",
       "      <td>48</td>\n",
       "      <td>0.001</td>\n",
       "      <td>2144</td>\n",
       "      <td>0.066392</td>\n",
       "      <td>1997</td>\n",
       "      <td>1 min  0 sec</td>\n",
       "    </tr>\n",
       "    <tr>\n",
       "      <th>2nd</th>\n",
       "      <td>Past</td>\n",
       "      <td>16May2020</td>\n",
       "      <td>23May2020</td>\n",
       "      <td>330457362</td>\n",
       "      <td>SIR-F</td>\n",
       "      <td>1.51</td>\n",
       "      <td>0.000440</td>\n",
       "      <td>0.000098</td>\n",
       "      <td>0.007637</td>\n",
       "      <td>0.004942</td>\n",
       "      <td>360</td>\n",
       "      <td>32</td>\n",
       "      <td>50</td>\n",
       "      <td>0.000</td>\n",
       "      <td>2549</td>\n",
       "      <td>0.057008</td>\n",
       "      <td>2025</td>\n",
       "      <td>1 min  0 sec</td>\n",
       "    </tr>\n",
       "    <tr>\n",
       "      <th>3rd</th>\n",
       "      <td>Past</td>\n",
       "      <td>24May2020</td>\n",
       "      <td>01Jun2020</td>\n",
       "      <td>330457362</td>\n",
       "      <td>SIR-F</td>\n",
       "      <td>0.96</td>\n",
       "      <td>0.019607</td>\n",
       "      <td>0.000003</td>\n",
       "      <td>0.005582</td>\n",
       "      <td>0.005677</td>\n",
       "      <td>360</td>\n",
       "      <td>44</td>\n",
       "      <td>44</td>\n",
       "      <td>0.020</td>\n",
       "      <td>83112</td>\n",
       "      <td>0.078751</td>\n",
       "      <td>1984</td>\n",
       "      <td>1 min  0 sec</td>\n",
       "    </tr>\n",
       "    <tr>\n",
       "      <th>4th</th>\n",
       "      <td>Past</td>\n",
       "      <td>02Jun2020</td>\n",
       "      <td>10Jun2020</td>\n",
       "      <td>330457362</td>\n",
       "      <td>SIR-F</td>\n",
       "      <td>0.93</td>\n",
       "      <td>0.018138</td>\n",
       "      <td>0.000010</td>\n",
       "      <td>0.004799</td>\n",
       "      <td>0.005076</td>\n",
       "      <td>360</td>\n",
       "      <td>52</td>\n",
       "      <td>49</td>\n",
       "      <td>0.018</td>\n",
       "      <td>25079</td>\n",
       "      <td>0.065719</td>\n",
       "      <td>2011</td>\n",
       "      <td>1 min  0 sec</td>\n",
       "    </tr>\n",
       "    <tr>\n",
       "      <th>5th</th>\n",
       "      <td>Past</td>\n",
       "      <td>11Jun2020</td>\n",
       "      <td>20Jun2020</td>\n",
       "      <td>330457362</td>\n",
       "      <td>SIR-F</td>\n",
       "      <td>1.01</td>\n",
       "      <td>0.018282</td>\n",
       "      <td>0.000010</td>\n",
       "      <td>0.003841</td>\n",
       "      <td>0.003732</td>\n",
       "      <td>360</td>\n",
       "      <td>65</td>\n",
       "      <td>66</td>\n",
       "      <td>0.018</td>\n",
       "      <td>25086</td>\n",
       "      <td>0.058438</td>\n",
       "      <td>1904</td>\n",
       "      <td>1 min  0 sec</td>\n",
       "    </tr>\n",
       "    <tr>\n",
       "      <th>6th</th>\n",
       "      <td>Past</td>\n",
       "      <td>21Jun2020</td>\n",
       "      <td>30Jun2020</td>\n",
       "      <td>330457362</td>\n",
       "      <td>SIR-F</td>\n",
       "      <td>0.90</td>\n",
       "      <td>0.021825</td>\n",
       "      <td>0.000002</td>\n",
       "      <td>0.002769</td>\n",
       "      <td>0.003016</td>\n",
       "      <td>360</td>\n",
       "      <td>90</td>\n",
       "      <td>82</td>\n",
       "      <td>0.022</td>\n",
       "      <td>132403</td>\n",
       "      <td>0.049641</td>\n",
       "      <td>1908</td>\n",
       "      <td>1 min  0 sec</td>\n",
       "    </tr>\n",
       "    <tr>\n",
       "      <th>7th</th>\n",
       "      <td>Past</td>\n",
       "      <td>01Jul2020</td>\n",
       "      <td>11Jul2020</td>\n",
       "      <td>330457362</td>\n",
       "      <td>SIR-F</td>\n",
       "      <td>0.84</td>\n",
       "      <td>0.000225</td>\n",
       "      <td>0.000064</td>\n",
       "      <td>0.002338</td>\n",
       "      <td>0.002736</td>\n",
       "      <td>360</td>\n",
       "      <td>106</td>\n",
       "      <td>91</td>\n",
       "      <td>0.000</td>\n",
       "      <td>3932</td>\n",
       "      <td>0.049666</td>\n",
       "      <td>1996</td>\n",
       "      <td>1 min  0 sec</td>\n",
       "    </tr>\n",
       "    <tr>\n",
       "      <th>8th</th>\n",
       "      <td>Past</td>\n",
       "      <td>12Jul2020</td>\n",
       "      <td>24Jul2020</td>\n",
       "      <td>330457362</td>\n",
       "      <td>SIR-F</td>\n",
       "      <td>0.72</td>\n",
       "      <td>0.000334</td>\n",
       "      <td>0.000050</td>\n",
       "      <td>0.001942</td>\n",
       "      <td>0.002635</td>\n",
       "      <td>360</td>\n",
       "      <td>128</td>\n",
       "      <td>94</td>\n",
       "      <td>0.000</td>\n",
       "      <td>4983</td>\n",
       "      <td>0.062564</td>\n",
       "      <td>1947</td>\n",
       "      <td>1 min  0 sec</td>\n",
       "    </tr>\n",
       "    <tr>\n",
       "      <th>9th</th>\n",
       "      <td>Past</td>\n",
       "      <td>25Jul2020</td>\n",
       "      <td>08Aug2020</td>\n",
       "      <td>330457362</td>\n",
       "      <td>SIR-F</td>\n",
       "      <td>0.77</td>\n",
       "      <td>0.019127</td>\n",
       "      <td>0.000006</td>\n",
       "      <td>0.001628</td>\n",
       "      <td>0.002071</td>\n",
       "      <td>360</td>\n",
       "      <td>153</td>\n",
       "      <td>120</td>\n",
       "      <td>0.019</td>\n",
       "      <td>40976</td>\n",
       "      <td>0.058755</td>\n",
       "      <td>1815</td>\n",
       "      <td>1 min  0 sec</td>\n",
       "    </tr>\n",
       "    <tr>\n",
       "      <th>10th</th>\n",
       "      <td>Past</td>\n",
       "      <td>09Aug2020</td>\n",
       "      <td>25Aug2020</td>\n",
       "      <td>330457362</td>\n",
       "      <td>SIR-F</td>\n",
       "      <td>0.91</td>\n",
       "      <td>0.016112</td>\n",
       "      <td>0.000011</td>\n",
       "      <td>0.001377</td>\n",
       "      <td>0.001483</td>\n",
       "      <td>360</td>\n",
       "      <td>181</td>\n",
       "      <td>168</td>\n",
       "      <td>0.016</td>\n",
       "      <td>22592</td>\n",
       "      <td>0.045031</td>\n",
       "      <td>1819</td>\n",
       "      <td>1 min  0 sec</td>\n",
       "    </tr>\n",
       "    <tr>\n",
       "      <th>11th</th>\n",
       "      <td>Past</td>\n",
       "      <td>26Aug2020</td>\n",
       "      <td>12Sep2020</td>\n",
       "      <td>330457362</td>\n",
       "      <td>SIR-F</td>\n",
       "      <td>1.00</td>\n",
       "      <td>0.016572</td>\n",
       "      <td>0.000006</td>\n",
       "      <td>0.001354</td>\n",
       "      <td>0.001330</td>\n",
       "      <td>360</td>\n",
       "      <td>184</td>\n",
       "      <td>188</td>\n",
       "      <td>0.017</td>\n",
       "      <td>40976</td>\n",
       "      <td>0.003516</td>\n",
       "      <td>1552</td>\n",
       "      <td>0 min 50 sec</td>\n",
       "    </tr>\n",
       "  </tbody>\n",
       "</table>\n",
       "</div>"
      ],
      "text/plain": [
       "               Type      Start        End  Population    ODE    Rt     theta  \\\n",
       "Country Phase                                                                  \n",
       "Russia  0th    Past  12Feb2020  06May2020   330457362  SIR-F  0.02  0.602763   \n",
       "        1st    Past  07May2020  15May2020   330457362  SIR-F  2.46  0.000639   \n",
       "        2nd    Past  16May2020  23May2020   330457362  SIR-F  1.51  0.000440   \n",
       "        3rd    Past  24May2020  01Jun2020   330457362  SIR-F  0.96  0.019607   \n",
       "        4th    Past  02Jun2020  10Jun2020   330457362  SIR-F  0.93  0.018138   \n",
       "        5th    Past  11Jun2020  20Jun2020   330457362  SIR-F  1.01  0.018282   \n",
       "        6th    Past  21Jun2020  30Jun2020   330457362  SIR-F  0.90  0.021825   \n",
       "        7th    Past  01Jul2020  11Jul2020   330457362  SIR-F  0.84  0.000225   \n",
       "        8th    Past  12Jul2020  24Jul2020   330457362  SIR-F  0.72  0.000334   \n",
       "        9th    Past  25Jul2020  08Aug2020   330457362  SIR-F  0.77  0.019127   \n",
       "        10th   Past  09Aug2020  25Aug2020   330457362  SIR-F  0.91  0.016112   \n",
       "        11th   Past  26Aug2020  12Sep2020   330457362  SIR-F  1.00  0.016572   \n",
       "\n",
       "                  kappa       rho     sigma  tau  1/beta [day]  1/gamma [day]  \\\n",
       "Country Phase                                                                   \n",
       "Russia  0th    0.544883  0.034081  0.002299  360             7            108   \n",
       "        1st    0.000117  0.013019  0.005178  360            19             48   \n",
       "        2nd    0.000098  0.007637  0.004942  360            32             50   \n",
       "        3rd    0.000003  0.005582  0.005677  360            44             44   \n",
       "        4th    0.000010  0.004799  0.005076  360            52             49   \n",
       "        5th    0.000010  0.003841  0.003732  360            65             66   \n",
       "        6th    0.000002  0.002769  0.003016  360            90             82   \n",
       "        7th    0.000064  0.002338  0.002736  360           106             91   \n",
       "        8th    0.000050  0.001942  0.002635  360           128             94   \n",
       "        9th    0.000006  0.001628  0.002071  360           153            120   \n",
       "        10th   0.000011  0.001377  0.001483  360           181            168   \n",
       "        11th   0.000006  0.001354  0.001330  360           184            188   \n",
       "\n",
       "               alpha1 [-]  1/alpha2 [day]      RMSLE  Trials       Runtime  \n",
       "Country Phase                                                               \n",
       "Russia  0th         0.603               0  18.966727    1442  1 min  0 sec  \n",
       "        1st         0.001            2144   0.066392    1997  1 min  0 sec  \n",
       "        2nd         0.000            2549   0.057008    2025  1 min  0 sec  \n",
       "        3rd         0.020           83112   0.078751    1984  1 min  0 sec  \n",
       "        4th         0.018           25079   0.065719    2011  1 min  0 sec  \n",
       "        5th         0.018           25086   0.058438    1904  1 min  0 sec  \n",
       "        6th         0.022          132403   0.049641    1908  1 min  0 sec  \n",
       "        7th         0.000            3932   0.049666    1996  1 min  0 sec  \n",
       "        8th         0.000            4983   0.062564    1947  1 min  0 sec  \n",
       "        9th         0.019           40976   0.058755    1815  1 min  0 sec  \n",
       "        10th        0.016           22592   0.045031    1819  1 min  0 sec  \n",
       "        11th        0.017           40976   0.003516    1552  0 min 50 sec  "
      ]
     },
     "execution_count": 12,
     "metadata": {},
     "output_type": "execute_result"
    }
   ],
   "source": [
    "# Show summary\n",
    "analyser.summary(countries=countries_show)"
   ]
  },
  {
   "cell_type": "markdown",
   "metadata": {},
   "source": [
    "## Compare the history of parameters\n",
    "Here, compare the history of parameter values if countries."
   ]
  },
  {
   "cell_type": "code",
   "execution_count": 13,
   "metadata": {
    "collapsed": false
   },
   "outputs": [
    {
     "data": {
      "text/html": [
       "<div>\n",
       "<style scoped>\n",
       "    .dataframe tbody tr th:only-of-type {\n",
       "        vertical-align: middle;\n",
       "    }\n",
       "\n",
       "    .dataframe tbody tr th {\n",
       "        vertical-align: top;\n",
       "    }\n",
       "\n",
       "    .dataframe thead th {\n",
       "        text-align: right;\n",
       "    }\n",
       "</style>\n",
       "<table border=\"1\" class=\"dataframe\">\n",
       "  <thead>\n",
       "    <tr style=\"text-align: right;\">\n",
       "      <th></th>\n",
       "      <th>Date</th>\n",
       "      <th>Country</th>\n",
       "      <th>theta</th>\n",
       "      <th>kappa</th>\n",
       "      <th>rho</th>\n",
       "      <th>sigma</th>\n",
       "      <th>alpha1 [-]</th>\n",
       "      <th>1/alpha2 [day]</th>\n",
       "      <th>1/beta [day]</th>\n",
       "      <th>1/gamma [day]</th>\n",
       "      <th>...</th>\n",
       "      <th>Cancel_events</th>\n",
       "      <th>Gatherings_restrictions</th>\n",
       "      <th>Transport_closing</th>\n",
       "      <th>Stay_home_restrictions</th>\n",
       "      <th>Internal_movement_restrictions</th>\n",
       "      <th>International_movement_restrictions</th>\n",
       "      <th>Information_campaigns</th>\n",
       "      <th>Testing_policy</th>\n",
       "      <th>Contact_tracing</th>\n",
       "      <th>Stringency_index</th>\n",
       "    </tr>\n",
       "  </thead>\n",
       "  <tbody>\n",
       "    <tr>\n",
       "      <th>0</th>\n",
       "      <td>2020-02-12</td>\n",
       "      <td>Russia</td>\n",
       "      <td>0.602763</td>\n",
       "      <td>0.544883</td>\n",
       "      <td>0.0340813</td>\n",
       "      <td>0.00229851</td>\n",
       "      <td>0.603</td>\n",
       "      <td>0</td>\n",
       "      <td>7</td>\n",
       "      <td>108</td>\n",
       "      <td>...</td>\n",
       "      <td>0</td>\n",
       "      <td>0</td>\n",
       "      <td>0</td>\n",
       "      <td>0</td>\n",
       "      <td>0</td>\n",
       "      <td>3</td>\n",
       "      <td>0</td>\n",
       "      <td>1</td>\n",
       "      <td>0</td>\n",
       "      <td>8.33</td>\n",
       "    </tr>\n",
       "    <tr>\n",
       "      <th>1</th>\n",
       "      <td>2020-02-12</td>\n",
       "      <td>Russia</td>\n",
       "      <td>0.602763</td>\n",
       "      <td>0.544883</td>\n",
       "      <td>0.0340813</td>\n",
       "      <td>0.00229851</td>\n",
       "      <td>0.603</td>\n",
       "      <td>0</td>\n",
       "      <td>7</td>\n",
       "      <td>108</td>\n",
       "      <td>...</td>\n",
       "      <td>0</td>\n",
       "      <td>0</td>\n",
       "      <td>0</td>\n",
       "      <td>0</td>\n",
       "      <td>0</td>\n",
       "      <td>3</td>\n",
       "      <td>0</td>\n",
       "      <td>1</td>\n",
       "      <td>0</td>\n",
       "      <td>8.33</td>\n",
       "    </tr>\n",
       "    <tr>\n",
       "      <th>2</th>\n",
       "      <td>2020-02-12</td>\n",
       "      <td>Russia</td>\n",
       "      <td>0.602763</td>\n",
       "      <td>0.544883</td>\n",
       "      <td>0.0340813</td>\n",
       "      <td>0.00229851</td>\n",
       "      <td>0.603</td>\n",
       "      <td>0</td>\n",
       "      <td>7</td>\n",
       "      <td>108</td>\n",
       "      <td>...</td>\n",
       "      <td>0</td>\n",
       "      <td>0</td>\n",
       "      <td>0</td>\n",
       "      <td>0</td>\n",
       "      <td>0</td>\n",
       "      <td>3</td>\n",
       "      <td>0</td>\n",
       "      <td>1</td>\n",
       "      <td>0</td>\n",
       "      <td>8.33</td>\n",
       "    </tr>\n",
       "    <tr>\n",
       "      <th>3</th>\n",
       "      <td>2020-02-12</td>\n",
       "      <td>Russia</td>\n",
       "      <td>0.602763</td>\n",
       "      <td>0.544883</td>\n",
       "      <td>0.0340813</td>\n",
       "      <td>0.00229851</td>\n",
       "      <td>0.603</td>\n",
       "      <td>0</td>\n",
       "      <td>7</td>\n",
       "      <td>108</td>\n",
       "      <td>...</td>\n",
       "      <td>0</td>\n",
       "      <td>0</td>\n",
       "      <td>0</td>\n",
       "      <td>0</td>\n",
       "      <td>0</td>\n",
       "      <td>3</td>\n",
       "      <td>0</td>\n",
       "      <td>1</td>\n",
       "      <td>0</td>\n",
       "      <td>8.33</td>\n",
       "    </tr>\n",
       "    <tr>\n",
       "      <th>4</th>\n",
       "      <td>2020-02-12</td>\n",
       "      <td>Russia</td>\n",
       "      <td>0.602763</td>\n",
       "      <td>0.544883</td>\n",
       "      <td>0.0340813</td>\n",
       "      <td>0.00229851</td>\n",
       "      <td>0.603</td>\n",
       "      <td>0</td>\n",
       "      <td>7</td>\n",
       "      <td>108</td>\n",
       "      <td>...</td>\n",
       "      <td>0</td>\n",
       "      <td>0</td>\n",
       "      <td>0</td>\n",
       "      <td>0</td>\n",
       "      <td>0</td>\n",
       "      <td>3</td>\n",
       "      <td>0</td>\n",
       "      <td>1</td>\n",
       "      <td>0</td>\n",
       "      <td>8.33</td>\n",
       "    </tr>\n",
       "  </tbody>\n",
       "</table>\n",
       "<p>5 rows × 23 columns</p>\n",
       "</div>"
      ],
      "text/plain": [
       "        Date Country     theta     kappa        rho       sigma alpha1 [-]  \\\n",
       "0 2020-02-12  Russia  0.602763  0.544883  0.0340813  0.00229851      0.603   \n",
       "1 2020-02-12  Russia  0.602763  0.544883  0.0340813  0.00229851      0.603   \n",
       "2 2020-02-12  Russia  0.602763  0.544883  0.0340813  0.00229851      0.603   \n",
       "3 2020-02-12  Russia  0.602763  0.544883  0.0340813  0.00229851      0.603   \n",
       "4 2020-02-12  Russia  0.602763  0.544883  0.0340813  0.00229851      0.603   \n",
       "\n",
       "  1/alpha2 [day] 1/beta [day] 1/gamma [day]  ... Cancel_events  \\\n",
       "0              0            7           108  ...             0   \n",
       "1              0            7           108  ...             0   \n",
       "2              0            7           108  ...             0   \n",
       "3              0            7           108  ...             0   \n",
       "4              0            7           108  ...             0   \n",
       "\n",
       "   Gatherings_restrictions  Transport_closing  Stay_home_restrictions  \\\n",
       "0                        0                  0                       0   \n",
       "1                        0                  0                       0   \n",
       "2                        0                  0                       0   \n",
       "3                        0                  0                       0   \n",
       "4                        0                  0                       0   \n",
       "\n",
       "   Internal_movement_restrictions  International_movement_restrictions  \\\n",
       "0                               0                                    3   \n",
       "1                               0                                    3   \n",
       "2                               0                                    3   \n",
       "3                               0                                    3   \n",
       "4                               0                                    3   \n",
       "\n",
       "   Information_campaigns  Testing_policy  Contact_tracing  Stringency_index  \n",
       "0                      0               1                0              8.33  \n",
       "1                      0               1                0              8.33  \n",
       "2                      0               1                0              8.33  \n",
       "3                      0               1                0              8.33  \n",
       "4                      0               1                0              8.33  \n",
       "\n",
       "[5 rows x 23 columns]"
      ]
     },
     "execution_count": 13,
     "metadata": {},
     "output_type": "execute_result"
    }
   ],
   "source": [
    "# All parameter/day parameter/Rt/OxCGRT\n",
    "analyser.track().head()"
   ]
  },
  {
   "cell_type": "markdown",
   "metadata": {},
   "source": [
    "### $Rt$: Reprodcution number $\\mathrm{[-]}$"
   ]
  },
  {
   "cell_type": "code",
   "execution_count": 14,
   "metadata": {
    "collapsed": false
   },
   "outputs": [
    {
     "data": {
      "image/png": "[encoded data removed]",
      "text/plain": [
       "<Figure size 648x432 with 1 Axes>"
      ]
     },
     "metadata": {},
     "output_type": "display_data"
    },
    {
     "data": {
      "text/html": [
       "<div>\n",
       "<style scoped>\n",
       "    .dataframe tbody tr th:only-of-type {\n",
       "        vertical-align: middle;\n",
       "    }\n",
       "\n",
       "    .dataframe tbody tr th {\n",
       "        vertical-align: top;\n",
       "    }\n",
       "\n",
       "    .dataframe thead th {\n",
       "        text-align: right;\n",
       "    }\n",
       "</style>\n",
       "<table border=\"1\" class=\"dataframe\">\n",
       "  <thead>\n",
       "    <tr style=\"text-align: right;\">\n",
       "      <th>Country</th>\n",
       "      <th>Bahrain</th>\n",
       "      <th>Bangladesh</th>\n",
       "      <th>France</th>\n",
       "      <th>Georgia</th>\n",
       "      <th>Guinea</th>\n",
       "      <th>Iran</th>\n",
       "      <th>Italy</th>\n",
       "      <th>Kuwait</th>\n",
       "      <th>Mexico</th>\n",
       "      <th>Nigeria</th>\n",
       "      <th>Russia</th>\n",
       "      <th>United Arab Emirates</th>\n",
       "      <th>United States</th>\n",
       "    </tr>\n",
       "    <tr>\n",
       "      <th>Date</th>\n",
       "      <th></th>\n",
       "      <th></th>\n",
       "      <th></th>\n",
       "      <th></th>\n",
       "      <th></th>\n",
       "      <th></th>\n",
       "      <th></th>\n",
       "      <th></th>\n",
       "      <th></th>\n",
       "      <th></th>\n",
       "      <th></th>\n",
       "      <th></th>\n",
       "      <th></th>\n",
       "    </tr>\n",
       "  </thead>\n",
       "  <tbody>\n",
       "    <tr>\n",
       "      <th>2020-09-08</th>\n",
       "      <td>1.95</td>\n",
       "      <td>0.65</td>\n",
       "      <td>33.31</td>\n",
       "      <td>3.37</td>\n",
       "      <td>0.68</td>\n",
       "      <td>1.08</td>\n",
       "      <td>3.96</td>\n",
       "      <td>1.09</td>\n",
       "      <td>1.01</td>\n",
       "      <td>0.68</td>\n",
       "      <td>1.0</td>\n",
       "      <td>1.12</td>\n",
       "      <td>2.08</td>\n",
       "    </tr>\n",
       "    <tr>\n",
       "      <th>2020-09-09</th>\n",
       "      <td>1.95</td>\n",
       "      <td>0.65</td>\n",
       "      <td>33.31</td>\n",
       "      <td>3.37</td>\n",
       "      <td>0.68</td>\n",
       "      <td>1.08</td>\n",
       "      <td>3.96</td>\n",
       "      <td>1.09</td>\n",
       "      <td>1.01</td>\n",
       "      <td>0.68</td>\n",
       "      <td>1.0</td>\n",
       "      <td>1.12</td>\n",
       "      <td>2.08</td>\n",
       "    </tr>\n",
       "    <tr>\n",
       "      <th>2020-09-10</th>\n",
       "      <td>1.95</td>\n",
       "      <td>0.65</td>\n",
       "      <td>33.31</td>\n",
       "      <td>3.37</td>\n",
       "      <td>0.68</td>\n",
       "      <td>1.08</td>\n",
       "      <td>3.96</td>\n",
       "      <td>1.09</td>\n",
       "      <td>1.01</td>\n",
       "      <td>0.68</td>\n",
       "      <td>1.0</td>\n",
       "      <td>1.12</td>\n",
       "      <td>2.08</td>\n",
       "    </tr>\n",
       "    <tr>\n",
       "      <th>2020-09-11</th>\n",
       "      <td>1.95</td>\n",
       "      <td>0.65</td>\n",
       "      <td>33.31</td>\n",
       "      <td>3.37</td>\n",
       "      <td>0.68</td>\n",
       "      <td>1.08</td>\n",
       "      <td>3.96</td>\n",
       "      <td>1.09</td>\n",
       "      <td>1.01</td>\n",
       "      <td>0.68</td>\n",
       "      <td>1.0</td>\n",
       "      <td>1.12</td>\n",
       "      <td>2.08</td>\n",
       "    </tr>\n",
       "    <tr>\n",
       "      <th>2020-09-12</th>\n",
       "      <td>1.95</td>\n",
       "      <td>0.65</td>\n",
       "      <td>33.31</td>\n",
       "      <td>3.37</td>\n",
       "      <td>0.68</td>\n",
       "      <td>1.08</td>\n",
       "      <td>3.96</td>\n",
       "      <td>1.09</td>\n",
       "      <td>1.01</td>\n",
       "      <td>0.68</td>\n",
       "      <td>1.0</td>\n",
       "      <td>1.12</td>\n",
       "      <td>2.08</td>\n",
       "    </tr>\n",
       "  </tbody>\n",
       "</table>\n",
       "</div>"
      ],
      "text/plain": [
       "Country     Bahrain  Bangladesh  France  Georgia  Guinea  Iran  Italy  Kuwait  \\\n",
       "Date                                                                            \n",
       "2020-09-08     1.95        0.65   33.31     3.37    0.68  1.08   3.96    1.09   \n",
       "2020-09-09     1.95        0.65   33.31     3.37    0.68  1.08   3.96    1.09   \n",
       "2020-09-10     1.95        0.65   33.31     3.37    0.68  1.08   3.96    1.09   \n",
       "2020-09-11     1.95        0.65   33.31     3.37    0.68  1.08   3.96    1.09   \n",
       "2020-09-12     1.95        0.65   33.31     3.37    0.68  1.08   3.96    1.09   \n",
       "\n",
       "Country     Mexico  Nigeria  Russia  United Arab Emirates  United States  \n",
       "Date                                                                      \n",
       "2020-09-08    1.01     0.68     1.0                  1.12           2.08  \n",
       "2020-09-09    1.01     0.68     1.0                  1.12           2.08  \n",
       "2020-09-10    1.01     0.68     1.0                  1.12           2.08  \n",
       "2020-09-11    1.01     0.68     1.0                  1.12           2.08  \n",
       "2020-09-12    1.01     0.68     1.0                  1.12           2.08  "
      ]
     },
     "execution_count": 14,
     "metadata": {},
     "output_type": "execute_result"
    }
   ],
   "source": [
    "analyser.param_history(\"Rt\", roll_window=None).tail()"
   ]
  },
  {
   "cell_type": "markdown",
   "metadata": {},
   "source": [
    "### $\\rho$: Effective contact rate $\\mathrm{[-]}$"
   ]
  },
  {
   "cell_type": "code",
   "execution_count": 15,
   "metadata": {
    "collapsed": false
   },
   "outputs": [
    {
     "data": {
      "image/png": "[encoded data removed]",
      "text/plain": [
       "<Figure size 648x432 with 1 Axes>"
      ]
     },
     "metadata": {},
     "output_type": "display_data"
    },
    {
     "data": {
      "text/html": [
       "<div>\n",
       "<style scoped>\n",
       "    .dataframe tbody tr th:only-of-type {\n",
       "        vertical-align: middle;\n",
       "    }\n",
       "\n",
       "    .dataframe tbody tr th {\n",
       "        vertical-align: top;\n",
       "    }\n",
       "\n",
       "    .dataframe thead th {\n",
       "        text-align: right;\n",
       "    }\n",
       "</style>\n",
       "<table border=\"1\" class=\"dataframe\">\n",
       "  <thead>\n",
       "    <tr style=\"text-align: right;\">\n",
       "      <th>Country</th>\n",
       "      <th>Bahrain</th>\n",
       "      <th>Bangladesh</th>\n",
       "      <th>France</th>\n",
       "      <th>Georgia</th>\n",
       "      <th>Guinea</th>\n",
       "      <th>Iran</th>\n",
       "      <th>Italy</th>\n",
       "      <th>Kuwait</th>\n",
       "      <th>Mexico</th>\n",
       "      <th>Nigeria</th>\n",
       "      <th>Russia</th>\n",
       "      <th>United Arab Emirates</th>\n",
       "      <th>United States</th>\n",
       "    </tr>\n",
       "    <tr>\n",
       "      <th>Date</th>\n",
       "      <th></th>\n",
       "      <th></th>\n",
       "      <th></th>\n",
       "      <th></th>\n",
       "      <th></th>\n",
       "      <th></th>\n",
       "      <th></th>\n",
       "      <th></th>\n",
       "      <th></th>\n",
       "      <th></th>\n",
       "      <th></th>\n",
       "      <th></th>\n",
       "      <th></th>\n",
       "    </tr>\n",
       "  </thead>\n",
       "  <tbody>\n",
       "    <tr>\n",
       "      <th>2020-09-08</th>\n",
       "      <td>0.033148</td>\n",
       "      <td>0.004991</td>\n",
       "      <td>0.008931</td>\n",
       "      <td>0.024407</td>\n",
       "      <td>0.014761</td>\n",
       "      <td>0.016397</td>\n",
       "      <td>0.013813</td>\n",
       "      <td>0.021389</td>\n",
       "      <td>0.032307</td>\n",
       "      <td>0.003511</td>\n",
       "      <td>0.001354</td>\n",
       "      <td>0.01709</td>\n",
       "      <td>0.003236</td>\n",
       "    </tr>\n",
       "    <tr>\n",
       "      <th>2020-09-09</th>\n",
       "      <td>0.033148</td>\n",
       "      <td>0.004991</td>\n",
       "      <td>0.008931</td>\n",
       "      <td>0.024407</td>\n",
       "      <td>0.014761</td>\n",
       "      <td>0.016397</td>\n",
       "      <td>0.013813</td>\n",
       "      <td>0.021389</td>\n",
       "      <td>0.032307</td>\n",
       "      <td>0.003511</td>\n",
       "      <td>0.001354</td>\n",
       "      <td>0.01709</td>\n",
       "      <td>0.003236</td>\n",
       "    </tr>\n",
       "    <tr>\n",
       "      <th>2020-09-10</th>\n",
       "      <td>0.033148</td>\n",
       "      <td>0.004991</td>\n",
       "      <td>0.008931</td>\n",
       "      <td>0.024407</td>\n",
       "      <td>0.014761</td>\n",
       "      <td>0.016397</td>\n",
       "      <td>0.013813</td>\n",
       "      <td>0.021389</td>\n",
       "      <td>0.032307</td>\n",
       "      <td>0.003511</td>\n",
       "      <td>0.001354</td>\n",
       "      <td>0.01709</td>\n",
       "      <td>0.003236</td>\n",
       "    </tr>\n",
       "    <tr>\n",
       "      <th>2020-09-11</th>\n",
       "      <td>0.033148</td>\n",
       "      <td>0.004991</td>\n",
       "      <td>0.008931</td>\n",
       "      <td>0.024407</td>\n",
       "      <td>0.014761</td>\n",
       "      <td>0.016397</td>\n",
       "      <td>0.013813</td>\n",
       "      <td>0.021389</td>\n",
       "      <td>0.032307</td>\n",
       "      <td>0.003511</td>\n",
       "      <td>0.001354</td>\n",
       "      <td>0.01709</td>\n",
       "      <td>0.003236</td>\n",
       "    </tr>\n",
       "    <tr>\n",
       "      <th>2020-09-12</th>\n",
       "      <td>0.033148</td>\n",
       "      <td>0.004991</td>\n",
       "      <td>0.008931</td>\n",
       "      <td>0.024407</td>\n",
       "      <td>0.014761</td>\n",
       "      <td>0.016397</td>\n",
       "      <td>0.013813</td>\n",
       "      <td>0.021389</td>\n",
       "      <td>0.032307</td>\n",
       "      <td>0.003511</td>\n",
       "      <td>0.001354</td>\n",
       "      <td>0.01709</td>\n",
       "      <td>0.003236</td>\n",
       "    </tr>\n",
       "  </tbody>\n",
       "</table>\n",
       "</div>"
      ],
      "text/plain": [
       "Country      Bahrain  Bangladesh    France   Georgia    Guinea      Iran  \\\n",
       "Date                                                                       \n",
       "2020-09-08  0.033148    0.004991  0.008931  0.024407  0.014761  0.016397   \n",
       "2020-09-09  0.033148    0.004991  0.008931  0.024407  0.014761  0.016397   \n",
       "2020-09-10  0.033148    0.004991  0.008931  0.024407  0.014761  0.016397   \n",
       "2020-09-11  0.033148    0.004991  0.008931  0.024407  0.014761  0.016397   \n",
       "2020-09-12  0.033148    0.004991  0.008931  0.024407  0.014761  0.016397   \n",
       "\n",
       "Country        Italy    Kuwait    Mexico   Nigeria    Russia  \\\n",
       "Date                                                           \n",
       "2020-09-08  0.013813  0.021389  0.032307  0.003511  0.001354   \n",
       "2020-09-09  0.013813  0.021389  0.032307  0.003511  0.001354   \n",
       "2020-09-10  0.013813  0.021389  0.032307  0.003511  0.001354   \n",
       "2020-09-11  0.013813  0.021389  0.032307  0.003511  0.001354   \n",
       "2020-09-12  0.013813  0.021389  0.032307  0.003511  0.001354   \n",
       "\n",
       "Country     United Arab Emirates  United States  \n",
       "Date                                             \n",
       "2020-09-08               0.01709       0.003236  \n",
       "2020-09-09               0.01709       0.003236  \n",
       "2020-09-10               0.01709       0.003236  \n",
       "2020-09-11               0.01709       0.003236  \n",
       "2020-09-12               0.01709       0.003236  "
      ]
     },
     "execution_count": 15,
     "metadata": {},
     "output_type": "execute_result"
    }
   ],
   "source": [
    "analyser.param_history(\"rho\", roll_window=None).tail()"
   ]
  },
  {
   "cell_type": "markdown",
   "metadata": {},
   "source": [
    "### $\\sigma$: Recovery rate $\\mathrm{[-]}$"
   ]
  },
  {
   "cell_type": "code",
   "execution_count": 16,
   "metadata": {
    "collapsed": false
   },
   "outputs": [
    {
     "data": {
      "image/png": "[encoded data removed]",
      "text/plain": [
       "<Figure size 648x432 with 1 Axes>"
      ]
     },
     "metadata": {},
     "output_type": "display_data"
    },
    {
     "data": {
      "text/html": [
       "<div>\n",
       "<style scoped>\n",
       "    .dataframe tbody tr th:only-of-type {\n",
       "        vertical-align: middle;\n",
       "    }\n",
       "\n",
       "    .dataframe tbody tr th {\n",
       "        vertical-align: top;\n",
       "    }\n",
       "\n",
       "    .dataframe thead th {\n",
       "        text-align: right;\n",
       "    }\n",
       "</style>\n",
       "<table border=\"1\" class=\"dataframe\">\n",
       "  <thead>\n",
       "    <tr style=\"text-align: right;\">\n",
       "      <th>Country</th>\n",
       "      <th>Bahrain</th>\n",
       "      <th>Bangladesh</th>\n",
       "      <th>France</th>\n",
       "      <th>Georgia</th>\n",
       "      <th>Guinea</th>\n",
       "      <th>Iran</th>\n",
       "      <th>Italy</th>\n",
       "      <th>Kuwait</th>\n",
       "      <th>Mexico</th>\n",
       "      <th>Nigeria</th>\n",
       "      <th>Russia</th>\n",
       "      <th>United Arab Emirates</th>\n",
       "      <th>United States</th>\n",
       "    </tr>\n",
       "    <tr>\n",
       "      <th>Date</th>\n",
       "      <th></th>\n",
       "      <th></th>\n",
       "      <th></th>\n",
       "      <th></th>\n",
       "      <th></th>\n",
       "      <th></th>\n",
       "      <th></th>\n",
       "      <th></th>\n",
       "      <th></th>\n",
       "      <th></th>\n",
       "      <th></th>\n",
       "      <th></th>\n",
       "      <th></th>\n",
       "    </tr>\n",
       "  </thead>\n",
       "  <tbody>\n",
       "    <tr>\n",
       "      <th>2020-09-08</th>\n",
       "      <td>0.016911</td>\n",
       "      <td>0.007553</td>\n",
       "      <td>0.000244</td>\n",
       "      <td>0.007226</td>\n",
       "      <td>0.021748</td>\n",
       "      <td>0.014254</td>\n",
       "      <td>0.003425</td>\n",
       "      <td>0.019476</td>\n",
       "      <td>0.029098</td>\n",
       "      <td>0.005071</td>\n",
       "      <td>0.00133</td>\n",
       "      <td>0.015212</td>\n",
       "      <td>0.001482</td>\n",
       "    </tr>\n",
       "    <tr>\n",
       "      <th>2020-09-09</th>\n",
       "      <td>0.016911</td>\n",
       "      <td>0.007553</td>\n",
       "      <td>0.000244</td>\n",
       "      <td>0.007226</td>\n",
       "      <td>0.021748</td>\n",
       "      <td>0.014254</td>\n",
       "      <td>0.003425</td>\n",
       "      <td>0.019476</td>\n",
       "      <td>0.029098</td>\n",
       "      <td>0.005071</td>\n",
       "      <td>0.00133</td>\n",
       "      <td>0.015212</td>\n",
       "      <td>0.001482</td>\n",
       "    </tr>\n",
       "    <tr>\n",
       "      <th>2020-09-10</th>\n",
       "      <td>0.016911</td>\n",
       "      <td>0.007553</td>\n",
       "      <td>0.000244</td>\n",
       "      <td>0.007226</td>\n",
       "      <td>0.021748</td>\n",
       "      <td>0.014254</td>\n",
       "      <td>0.003425</td>\n",
       "      <td>0.019476</td>\n",
       "      <td>0.029098</td>\n",
       "      <td>0.005071</td>\n",
       "      <td>0.00133</td>\n",
       "      <td>0.015212</td>\n",
       "      <td>0.001482</td>\n",
       "    </tr>\n",
       "    <tr>\n",
       "      <th>2020-09-11</th>\n",
       "      <td>0.016911</td>\n",
       "      <td>0.007553</td>\n",
       "      <td>0.000244</td>\n",
       "      <td>0.007226</td>\n",
       "      <td>0.021748</td>\n",
       "      <td>0.014254</td>\n",
       "      <td>0.003425</td>\n",
       "      <td>0.019476</td>\n",
       "      <td>0.029098</td>\n",
       "      <td>0.005071</td>\n",
       "      <td>0.00133</td>\n",
       "      <td>0.015212</td>\n",
       "      <td>0.001482</td>\n",
       "    </tr>\n",
       "    <tr>\n",
       "      <th>2020-09-12</th>\n",
       "      <td>0.016911</td>\n",
       "      <td>0.007553</td>\n",
       "      <td>0.000244</td>\n",
       "      <td>0.007226</td>\n",
       "      <td>0.021748</td>\n",
       "      <td>0.014254</td>\n",
       "      <td>0.003425</td>\n",
       "      <td>0.019476</td>\n",
       "      <td>0.029098</td>\n",
       "      <td>0.005071</td>\n",
       "      <td>0.00133</td>\n",
       "      <td>0.015212</td>\n",
       "      <td>0.001482</td>\n",
       "    </tr>\n",
       "  </tbody>\n",
       "</table>\n",
       "</div>"
      ],
      "text/plain": [
       "Country      Bahrain  Bangladesh    France   Georgia    Guinea      Iran  \\\n",
       "Date                                                                       \n",
       "2020-09-08  0.016911    0.007553  0.000244  0.007226  0.021748  0.014254   \n",
       "2020-09-09  0.016911    0.007553  0.000244  0.007226  0.021748  0.014254   \n",
       "2020-09-10  0.016911    0.007553  0.000244  0.007226  0.021748  0.014254   \n",
       "2020-09-11  0.016911    0.007553  0.000244  0.007226  0.021748  0.014254   \n",
       "2020-09-12  0.016911    0.007553  0.000244  0.007226  0.021748  0.014254   \n",
       "\n",
       "Country        Italy    Kuwait    Mexico   Nigeria   Russia  \\\n",
       "Date                                                          \n",
       "2020-09-08  0.003425  0.019476  0.029098  0.005071  0.00133   \n",
       "2020-09-09  0.003425  0.019476  0.029098  0.005071  0.00133   \n",
       "2020-09-10  0.003425  0.019476  0.029098  0.005071  0.00133   \n",
       "2020-09-11  0.003425  0.019476  0.029098  0.005071  0.00133   \n",
       "2020-09-12  0.003425  0.019476  0.029098  0.005071  0.00133   \n",
       "\n",
       "Country     United Arab Emirates  United States  \n",
       "Date                                             \n",
       "2020-09-08              0.015212       0.001482  \n",
       "2020-09-09              0.015212       0.001482  \n",
       "2020-09-10              0.015212       0.001482  \n",
       "2020-09-11              0.015212       0.001482  \n",
       "2020-09-12              0.015212       0.001482  "
      ]
     },
     "execution_count": 16,
     "metadata": {},
     "output_type": "execute_result"
    }
   ],
   "source": [
    "analyser.param_history(\"sigma\", roll_window=None).tail()"
   ]
  },
  {
   "cell_type": "markdown",
   "metadata": {},
   "source": [
    "### $\\kappa$: Mortality rate of infected cases $\\mathrm{[-]}$"
   ]
  },
  {
   "cell_type": "code",
   "execution_count": 17,
   "metadata": {
    "collapsed": false
   },
   "outputs": [
    {
     "data": {
      "image/png": "[encoded data removed]",
      "text/plain": [
       "<Figure size 648x432 with 1 Axes>"
      ]
     },
     "metadata": {},
     "output_type": "display_data"
    },
    {
     "data": {
      "text/html": [
       "<div>\n",
       "<style scoped>\n",
       "    .dataframe tbody tr th:only-of-type {\n",
       "        vertical-align: middle;\n",
       "    }\n",
       "\n",
       "    .dataframe tbody tr th {\n",
       "        vertical-align: top;\n",
       "    }\n",
       "\n",
       "    .dataframe thead th {\n",
       "        text-align: right;\n",
       "    }\n",
       "</style>\n",
       "<table border=\"1\" class=\"dataframe\">\n",
       "  <thead>\n",
       "    <tr style=\"text-align: right;\">\n",
       "      <th>Country</th>\n",
       "      <th>Bahrain</th>\n",
       "      <th>Bangladesh</th>\n",
       "      <th>France</th>\n",
       "      <th>Georgia</th>\n",
       "      <th>Guinea</th>\n",
       "      <th>Iran</th>\n",
       "      <th>Italy</th>\n",
       "      <th>Kuwait</th>\n",
       "      <th>Mexico</th>\n",
       "      <th>Nigeria</th>\n",
       "      <th>Russia</th>\n",
       "      <th>United Arab Emirates</th>\n",
       "      <th>United States</th>\n",
       "    </tr>\n",
       "    <tr>\n",
       "      <th>Date</th>\n",
       "      <th></th>\n",
       "      <th></th>\n",
       "      <th></th>\n",
       "      <th></th>\n",
       "      <th></th>\n",
       "      <th></th>\n",
       "      <th></th>\n",
       "      <th></th>\n",
       "      <th></th>\n",
       "      <th></th>\n",
       "      <th></th>\n",
       "      <th></th>\n",
       "      <th></th>\n",
       "    </tr>\n",
       "  </thead>\n",
       "  <tbody>\n",
       "    <tr>\n",
       "      <th>2020-09-08</th>\n",
       "      <td>0.000079</td>\n",
       "      <td>0.000079</td>\n",
       "      <td>0.000024</td>\n",
       "      <td>0.000002</td>\n",
       "      <td>0.000087</td>\n",
       "      <td>0.000257</td>\n",
       "      <td>0.000064</td>\n",
       "      <td>0.00008</td>\n",
       "      <td>0.001293</td>\n",
       "      <td>0.000087</td>\n",
       "      <td>0.000006</td>\n",
       "      <td>0.000001</td>\n",
       "      <td>0.000071</td>\n",
       "    </tr>\n",
       "    <tr>\n",
       "      <th>2020-09-09</th>\n",
       "      <td>0.000079</td>\n",
       "      <td>0.000079</td>\n",
       "      <td>0.000024</td>\n",
       "      <td>0.000002</td>\n",
       "      <td>0.000087</td>\n",
       "      <td>0.000257</td>\n",
       "      <td>0.000064</td>\n",
       "      <td>0.00008</td>\n",
       "      <td>0.001293</td>\n",
       "      <td>0.000087</td>\n",
       "      <td>0.000006</td>\n",
       "      <td>0.000001</td>\n",
       "      <td>0.000071</td>\n",
       "    </tr>\n",
       "    <tr>\n",
       "      <th>2020-09-10</th>\n",
       "      <td>0.000079</td>\n",
       "      <td>0.000079</td>\n",
       "      <td>0.000024</td>\n",
       "      <td>0.000002</td>\n",
       "      <td>0.000087</td>\n",
       "      <td>0.000257</td>\n",
       "      <td>0.000064</td>\n",
       "      <td>0.00008</td>\n",
       "      <td>0.001293</td>\n",
       "      <td>0.000087</td>\n",
       "      <td>0.000006</td>\n",
       "      <td>0.000001</td>\n",
       "      <td>0.000071</td>\n",
       "    </tr>\n",
       "    <tr>\n",
       "      <th>2020-09-11</th>\n",
       "      <td>0.000079</td>\n",
       "      <td>0.000079</td>\n",
       "      <td>0.000024</td>\n",
       "      <td>0.000002</td>\n",
       "      <td>0.000087</td>\n",
       "      <td>0.000257</td>\n",
       "      <td>0.000064</td>\n",
       "      <td>0.00008</td>\n",
       "      <td>0.001293</td>\n",
       "      <td>0.000087</td>\n",
       "      <td>0.000006</td>\n",
       "      <td>0.000001</td>\n",
       "      <td>0.000071</td>\n",
       "    </tr>\n",
       "    <tr>\n",
       "      <th>2020-09-12</th>\n",
       "      <td>0.000079</td>\n",
       "      <td>0.000079</td>\n",
       "      <td>0.000024</td>\n",
       "      <td>0.000002</td>\n",
       "      <td>0.000087</td>\n",
       "      <td>0.000257</td>\n",
       "      <td>0.000064</td>\n",
       "      <td>0.00008</td>\n",
       "      <td>0.001293</td>\n",
       "      <td>0.000087</td>\n",
       "      <td>0.000006</td>\n",
       "      <td>0.000001</td>\n",
       "      <td>0.000071</td>\n",
       "    </tr>\n",
       "  </tbody>\n",
       "</table>\n",
       "</div>"
      ],
      "text/plain": [
       "Country      Bahrain  Bangladesh    France   Georgia    Guinea      Iran  \\\n",
       "Date                                                                       \n",
       "2020-09-08  0.000079    0.000079  0.000024  0.000002  0.000087  0.000257   \n",
       "2020-09-09  0.000079    0.000079  0.000024  0.000002  0.000087  0.000257   \n",
       "2020-09-10  0.000079    0.000079  0.000024  0.000002  0.000087  0.000257   \n",
       "2020-09-11  0.000079    0.000079  0.000024  0.000002  0.000087  0.000257   \n",
       "2020-09-12  0.000079    0.000079  0.000024  0.000002  0.000087  0.000257   \n",
       "\n",
       "Country        Italy   Kuwait    Mexico   Nigeria    Russia  \\\n",
       "Date                                                          \n",
       "2020-09-08  0.000064  0.00008  0.001293  0.000087  0.000006   \n",
       "2020-09-09  0.000064  0.00008  0.001293  0.000087  0.000006   \n",
       "2020-09-10  0.000064  0.00008  0.001293  0.000087  0.000006   \n",
       "2020-09-11  0.000064  0.00008  0.001293  0.000087  0.000006   \n",
       "2020-09-12  0.000064  0.00008  0.001293  0.000087  0.000006   \n",
       "\n",
       "Country     United Arab Emirates  United States  \n",
       "Date                                             \n",
       "2020-09-08              0.000001       0.000071  \n",
       "2020-09-09              0.000001       0.000071  \n",
       "2020-09-10              0.000001       0.000071  \n",
       "2020-09-11              0.000001       0.000071  \n",
       "2020-09-12              0.000001       0.000071  "
      ]
     },
     "execution_count": 17,
     "metadata": {},
     "output_type": "execute_result"
    }
   ],
   "source": [
    "analyser.param_history(\"kappa\", roll_window=None).tail()"
   ]
  },
  {
   "cell_type": "markdown",
   "metadata": {},
   "source": [
    "### $\\theta$: Mortality rate of S$^\\ast$ cases $\\mathrm{[-]}$"
   ]
  },
  {
   "cell_type": "code",
   "execution_count": 18,
   "metadata": {
    "collapsed": false
   },
   "outputs": [
    {
     "data": {
      "image/png": "[encoded data removed]",
      "text/plain": [
       "<Figure size 648x432 with 1 Axes>"
      ]
     },
     "metadata": {},
     "output_type": "display_data"
    },
    {
     "data": {
      "text/html": [
       "<div>\n",
       "<style scoped>\n",
       "    .dataframe tbody tr th:only-of-type {\n",
       "        vertical-align: middle;\n",
       "    }\n",
       "\n",
       "    .dataframe tbody tr th {\n",
       "        vertical-align: top;\n",
       "    }\n",
       "\n",
       "    .dataframe thead th {\n",
       "        text-align: right;\n",
       "    }\n",
       "</style>\n",
       "<table border=\"1\" class=\"dataframe\">\n",
       "  <thead>\n",
       "    <tr style=\"text-align: right;\">\n",
       "      <th>Country</th>\n",
       "      <th>Bahrain</th>\n",
       "      <th>Bangladesh</th>\n",
       "      <th>France</th>\n",
       "      <th>Georgia</th>\n",
       "      <th>Guinea</th>\n",
       "      <th>Iran</th>\n",
       "      <th>Italy</th>\n",
       "      <th>Kuwait</th>\n",
       "      <th>Mexico</th>\n",
       "      <th>Nigeria</th>\n",
       "      <th>Russia</th>\n",
       "      <th>United Arab Emirates</th>\n",
       "      <th>United States</th>\n",
       "    </tr>\n",
       "    <tr>\n",
       "      <th>Date</th>\n",
       "      <th></th>\n",
       "      <th></th>\n",
       "      <th></th>\n",
       "      <th></th>\n",
       "      <th></th>\n",
       "      <th></th>\n",
       "      <th></th>\n",
       "      <th></th>\n",
       "      <th></th>\n",
       "      <th></th>\n",
       "      <th></th>\n",
       "      <th></th>\n",
       "      <th></th>\n",
       "    </tr>\n",
       "  </thead>\n",
       "  <tbody>\n",
       "    <tr>\n",
       "      <th>2020-09-08</th>\n",
       "      <td>0.000343</td>\n",
       "      <td>0.000348</td>\n",
       "      <td>0.000997</td>\n",
       "      <td>0.000905</td>\n",
       "      <td>0.000412</td>\n",
       "      <td>0.042052</td>\n",
       "      <td>0.000221</td>\n",
       "      <td>0.000402</td>\n",
       "      <td>0.053321</td>\n",
       "      <td>0.000519</td>\n",
       "      <td>0.016572</td>\n",
       "      <td>0.001255</td>\n",
       "      <td>0.003015</td>\n",
       "    </tr>\n",
       "    <tr>\n",
       "      <th>2020-09-09</th>\n",
       "      <td>0.000343</td>\n",
       "      <td>0.000348</td>\n",
       "      <td>0.000997</td>\n",
       "      <td>0.000905</td>\n",
       "      <td>0.000412</td>\n",
       "      <td>0.042052</td>\n",
       "      <td>0.000221</td>\n",
       "      <td>0.000402</td>\n",
       "      <td>0.053321</td>\n",
       "      <td>0.000519</td>\n",
       "      <td>0.016572</td>\n",
       "      <td>0.001255</td>\n",
       "      <td>0.003015</td>\n",
       "    </tr>\n",
       "    <tr>\n",
       "      <th>2020-09-10</th>\n",
       "      <td>0.000343</td>\n",
       "      <td>0.000348</td>\n",
       "      <td>0.000997</td>\n",
       "      <td>0.000905</td>\n",
       "      <td>0.000412</td>\n",
       "      <td>0.042052</td>\n",
       "      <td>0.000221</td>\n",
       "      <td>0.000402</td>\n",
       "      <td>0.053321</td>\n",
       "      <td>0.000519</td>\n",
       "      <td>0.016572</td>\n",
       "      <td>0.001255</td>\n",
       "      <td>0.003015</td>\n",
       "    </tr>\n",
       "    <tr>\n",
       "      <th>2020-09-11</th>\n",
       "      <td>0.000343</td>\n",
       "      <td>0.000348</td>\n",
       "      <td>0.000997</td>\n",
       "      <td>0.000905</td>\n",
       "      <td>0.000412</td>\n",
       "      <td>0.042052</td>\n",
       "      <td>0.000221</td>\n",
       "      <td>0.000402</td>\n",
       "      <td>0.053321</td>\n",
       "      <td>0.000519</td>\n",
       "      <td>0.016572</td>\n",
       "      <td>0.001255</td>\n",
       "      <td>0.003015</td>\n",
       "    </tr>\n",
       "    <tr>\n",
       "      <th>2020-09-12</th>\n",
       "      <td>0.000343</td>\n",
       "      <td>0.000348</td>\n",
       "      <td>0.000997</td>\n",
       "      <td>0.000905</td>\n",
       "      <td>0.000412</td>\n",
       "      <td>0.042052</td>\n",
       "      <td>0.000221</td>\n",
       "      <td>0.000402</td>\n",
       "      <td>0.053321</td>\n",
       "      <td>0.000519</td>\n",
       "      <td>0.016572</td>\n",
       "      <td>0.001255</td>\n",
       "      <td>0.003015</td>\n",
       "    </tr>\n",
       "  </tbody>\n",
       "</table>\n",
       "</div>"
      ],
      "text/plain": [
       "Country      Bahrain  Bangladesh    France   Georgia    Guinea      Iran  \\\n",
       "Date                                                                       \n",
       "2020-09-08  0.000343    0.000348  0.000997  0.000905  0.000412  0.042052   \n",
       "2020-09-09  0.000343    0.000348  0.000997  0.000905  0.000412  0.042052   \n",
       "2020-09-10  0.000343    0.000348  0.000997  0.000905  0.000412  0.042052   \n",
       "2020-09-11  0.000343    0.000348  0.000997  0.000905  0.000412  0.042052   \n",
       "2020-09-12  0.000343    0.000348  0.000997  0.000905  0.000412  0.042052   \n",
       "\n",
       "Country        Italy    Kuwait    Mexico   Nigeria    Russia  \\\n",
       "Date                                                           \n",
       "2020-09-08  0.000221  0.000402  0.053321  0.000519  0.016572   \n",
       "2020-09-09  0.000221  0.000402  0.053321  0.000519  0.016572   \n",
       "2020-09-10  0.000221  0.000402  0.053321  0.000519  0.016572   \n",
       "2020-09-11  0.000221  0.000402  0.053321  0.000519  0.016572   \n",
       "2020-09-12  0.000221  0.000402  0.053321  0.000519  0.016572   \n",
       "\n",
       "Country     United Arab Emirates  United States  \n",
       "Date                                             \n",
       "2020-09-08              0.001255       0.003015  \n",
       "2020-09-09              0.001255       0.003015  \n",
       "2020-09-10              0.001255       0.003015  \n",
       "2020-09-11              0.001255       0.003015  \n",
       "2020-09-12              0.001255       0.003015  "
      ]
     },
     "execution_count": 18,
     "metadata": {},
     "output_type": "execute_result"
    }
   ],
   "source": [
    "analyser.param_history(\"theta\", roll_window=None).tail()"
   ]
  },
  {
   "cell_type": "markdown",
   "metadata": {},
   "source": [
    "## (Experimental): Relationship of OxCGRT index and parameter values\n",
    "Government responses will impact on parameter values of ODE models about 14 days later. Here, we will investigate on the relationship of [stringency index (from OxCGRT)](https://github.com/OxCGRT/covid-policy-tracker/blob/master/documentation/index_methodology.md) and reproduction number/model parameters.\n"
   ]
  },
  {
   "cell_type": "code",
   "execution_count": 19,
   "metadata": {
    "collapsed": false
   },
   "outputs": [],
   "source": [
    "%matplotlib inline\n",
    "from matplotlib import pyplot as plt\n",
    "import seaborn as sns\n",
    "import pandas as pd"
   ]
  },
  {
   "cell_type": "code",
   "execution_count": 20,
   "metadata": {
    "collapsed": false
   },
   "outputs": [
    {
     "name": "stdout",
     "output_type": "stream",
     "text": [
      "<class 'pandas.core.frame.DataFrame'>\n",
      "Int64Index: 42077 entries, 0 to 42244\n",
      "Data columns (total 19 columns):\n",
      " #   Column                               Non-Null Count  Dtype         \n",
      "---  ------                               --------------  -----         \n",
      " 0   Date                                 42077 non-null  datetime64[ns]\n",
      " 1   Country                              42077 non-null  object        \n",
      " 2   Rt                                   42077 non-null  float64       \n",
      " 3   theta                                42077 non-null  float64       \n",
      " 4   kappa                                42077 non-null  float64       \n",
      " 5   rho                                  42077 non-null  float64       \n",
      " 6   sigma                                42077 non-null  float64       \n",
      " 7   School_closing                       42077 non-null  int64         \n",
      " 8   Workplace_closing                    42077 non-null  int64         \n",
      " 9   Cancel_events                        42077 non-null  int64         \n",
      " 10  Gatherings_restrictions              42077 non-null  int64         \n",
      " 11  Transport_closing                    42077 non-null  int64         \n",
      " 12  Stay_home_restrictions               42077 non-null  int64         \n",
      " 13  Internal_movement_restrictions       42077 non-null  int64         \n",
      " 14  International_movement_restrictions  42077 non-null  int64         \n",
      " 15  Information_campaigns                42077 non-null  int64         \n",
      " 16  Testing_policy                       42077 non-null  int64         \n",
      " 17  Contact_tracing                      42077 non-null  int64         \n",
      " 18  Stringency_index                     42077 non-null  float64       \n",
      "dtypes: datetime64[ns](1), float64(6), int64(11), object(1)\n",
      "memory usage: 6.4+ MB\n"
     ]
    }
   ],
   "source": [
    "df = analyser.track()\n",
    "param_cols = [\"Rt\", *cs.SIRF.PARAMETERS]\n",
    "oxcgrt_cols = oxcgrt_data.OXCGRT_VARS[:]\n",
    "cols = param_cols + oxcgrt_cols\n",
    "delay = 14\n",
    "\n",
    "for col in param_cols:\n",
    "    df[col] = pd.to_numeric(df[col], errors=\"coerce\")\n",
    "    df[col] = df.groupby(\"Country\")[col].shift(0 - delay)\n",
    "\n",
    "df = df.dropna(how=\"any\")\n",
    "df = df.loc[:, [\"Date\", \"Country\", *cols]]\n",
    "track_df = df.copy()\n",
    "track_df.info()"
   ]
  },
  {
   "cell_type": "code",
   "execution_count": 21,
   "metadata": {
    "collapsed": false
   },
   "outputs": [
    {
     "data": {
      "text/html": [
       "<style  type=\"text/css\" >\n",
       "#T_c4f6cb36_f50b_11ea_b59c_5254009d880arow0_col0,#T_c4f6cb36_f50b_11ea_b59c_5254009d880arow1_col1,#T_c4f6cb36_f50b_11ea_b59c_5254009d880arow2_col2,#T_c4f6cb36_f50b_11ea_b59c_5254009d880arow3_col3,#T_c4f6cb36_f50b_11ea_b59c_5254009d880arow4_col4,#T_c4f6cb36_f50b_11ea_b59c_5254009d880arow5_col5,#T_c4f6cb36_f50b_11ea_b59c_5254009d880arow6_col6,#T_c4f6cb36_f50b_11ea_b59c_5254009d880arow7_col7,#T_c4f6cb36_f50b_11ea_b59c_5254009d880arow8_col8,#T_c4f6cb36_f50b_11ea_b59c_5254009d880arow9_col9,#T_c4f6cb36_f50b_11ea_b59c_5254009d880arow10_col10,#T_c4f6cb36_f50b_11ea_b59c_5254009d880arow11_col11,#T_c4f6cb36_f50b_11ea_b59c_5254009d880arow12_col12,#T_c4f6cb36_f50b_11ea_b59c_5254009d880arow13_col13,#T_c4f6cb36_f50b_11ea_b59c_5254009d880arow14_col14,#T_c4f6cb36_f50b_11ea_b59c_5254009d880arow15_col15,#T_c4f6cb36_f50b_11ea_b59c_5254009d880arow16_col16{\n",
       "            background-color:  #023858;\n",
       "            color:  #f1f1f1;\n",
       "        }#T_c4f6cb36_f50b_11ea_b59c_5254009d880arow0_col1,#T_c4f6cb36_f50b_11ea_b59c_5254009d880arow1_col0,#T_c4f6cb36_f50b_11ea_b59c_5254009d880arow1_col13,#T_c4f6cb36_f50b_11ea_b59c_5254009d880arow3_col9,#T_c4f6cb36_f50b_11ea_b59c_5254009d880arow9_col3,#T_c4f6cb36_f50b_11ea_b59c_5254009d880arow13_col1{\n",
       "            background-color:  #ece7f2;\n",
       "            color:  #000000;\n",
       "        }#T_c4f6cb36_f50b_11ea_b59c_5254009d880arow0_col2,#T_c4f6cb36_f50b_11ea_b59c_5254009d880arow1_col8,#T_c4f6cb36_f50b_11ea_b59c_5254009d880arow2_col0,#T_c4f6cb36_f50b_11ea_b59c_5254009d880arow2_col14,#T_c4f6cb36_f50b_11ea_b59c_5254009d880arow8_col1,#T_c4f6cb36_f50b_11ea_b59c_5254009d880arow14_col2{\n",
       "            background-color:  #e7e3f0;\n",
       "            color:  #000000;\n",
       "        }#T_c4f6cb36_f50b_11ea_b59c_5254009d880arow0_col3,#T_c4f6cb36_f50b_11ea_b59c_5254009d880arow3_col0{\n",
       "            background-color:  #93b5d6;\n",
       "            color:  #000000;\n",
       "        }#T_c4f6cb36_f50b_11ea_b59c_5254009d880arow0_col4,#T_c4f6cb36_f50b_11ea_b59c_5254009d880arow0_col16,#T_c4f6cb36_f50b_11ea_b59c_5254009d880arow4_col0,#T_c4f6cb36_f50b_11ea_b59c_5254009d880arow16_col0{\n",
       "            background-color:  #dedcec;\n",
       "            color:  #000000;\n",
       "        }#T_c4f6cb36_f50b_11ea_b59c_5254009d880arow0_col5,#T_c4f6cb36_f50b_11ea_b59c_5254009d880arow1_col5,#T_c4f6cb36_f50b_11ea_b59c_5254009d880arow5_col0,#T_c4f6cb36_f50b_11ea_b59c_5254009d880arow5_col1{\n",
       "            background-color:  #dad9ea;\n",
       "            color:  #000000;\n",
       "        }#T_c4f6cb36_f50b_11ea_b59c_5254009d880arow0_col6,#T_c4f6cb36_f50b_11ea_b59c_5254009d880arow2_col6,#T_c4f6cb36_f50b_11ea_b59c_5254009d880arow6_col0,#T_c4f6cb36_f50b_11ea_b59c_5254009d880arow6_col2{\n",
       "            background-color:  #d2d2e7;\n",
       "            color:  #000000;\n",
       "        }#T_c4f6cb36_f50b_11ea_b59c_5254009d880arow0_col7,#T_c4f6cb36_f50b_11ea_b59c_5254009d880arow7_col0{\n",
       "            background-color:  #ced0e6;\n",
       "            color:  #000000;\n",
       "        }#T_c4f6cb36_f50b_11ea_b59c_5254009d880arow0_col8,#T_c4f6cb36_f50b_11ea_b59c_5254009d880arow4_col14,#T_c4f6cb36_f50b_11ea_b59c_5254009d880arow8_col0,#T_c4f6cb36_f50b_11ea_b59c_5254009d880arow14_col4{\n",
       "            background-color:  #c1cae2;\n",
       "            color:  #000000;\n",
       "        }#T_c4f6cb36_f50b_11ea_b59c_5254009d880arow0_col9,#T_c4f6cb36_f50b_11ea_b59c_5254009d880arow0_col14,#T_c4f6cb36_f50b_11ea_b59c_5254009d880arow9_col0,#T_c4f6cb36_f50b_11ea_b59c_5254009d880arow14_col0{\n",
       "            background-color:  #dfddec;\n",
       "            color:  #000000;\n",
       "        }#T_c4f6cb36_f50b_11ea_b59c_5254009d880arow0_col10,#T_c4f6cb36_f50b_11ea_b59c_5254009d880arow10_col0{\n",
       "            background-color:  #e0deed;\n",
       "            color:  #000000;\n",
       "        }#T_c4f6cb36_f50b_11ea_b59c_5254009d880arow0_col11,#T_c4f6cb36_f50b_11ea_b59c_5254009d880arow11_col0{\n",
       "            background-color:  #dddbec;\n",
       "            color:  #000000;\n",
       "        }#T_c4f6cb36_f50b_11ea_b59c_5254009d880arow0_col12,#T_c4f6cb36_f50b_11ea_b59c_5254009d880arow12_col0{\n",
       "            background-color:  #fff7fb;\n",
       "            color:  #000000;\n",
       "        }#T_c4f6cb36_f50b_11ea_b59c_5254009d880arow0_col13,#T_c4f6cb36_f50b_11ea_b59c_5254009d880arow1_col16,#T_c4f6cb36_f50b_11ea_b59c_5254009d880arow2_col4,#T_c4f6cb36_f50b_11ea_b59c_5254009d880arow3_col6,#T_c4f6cb36_f50b_11ea_b59c_5254009d880arow4_col2,#T_c4f6cb36_f50b_11ea_b59c_5254009d880arow6_col3,#T_c4f6cb36_f50b_11ea_b59c_5254009d880arow13_col0,#T_c4f6cb36_f50b_11ea_b59c_5254009d880arow16_col1{\n",
       "            background-color:  #cccfe5;\n",
       "            color:  #000000;\n",
       "        }#T_c4f6cb36_f50b_11ea_b59c_5254009d880arow0_col15,#T_c4f6cb36_f50b_11ea_b59c_5254009d880arow2_col5,#T_c4f6cb36_f50b_11ea_b59c_5254009d880arow5_col2,#T_c4f6cb36_f50b_11ea_b59c_5254009d880arow15_col0{\n",
       "            background-color:  #e0dded;\n",
       "            color:  #000000;\n",
       "        }#T_c4f6cb36_f50b_11ea_b59c_5254009d880arow1_col2,#T_c4f6cb36_f50b_11ea_b59c_5254009d880arow2_col1{\n",
       "            background-color:  #023d60;\n",
       "            color:  #f1f1f1;\n",
       "        }#T_c4f6cb36_f50b_11ea_b59c_5254009d880arow1_col3,#T_c4f6cb36_f50b_11ea_b59c_5254009d880arow3_col1,#T_c4f6cb36_f50b_11ea_b59c_5254009d880arow5_col7,#T_c4f6cb36_f50b_11ea_b59c_5254009d880arow7_col5{\n",
       "            background-color:  #04639b;\n",
       "            color:  #f1f1f1;\n",
       "        }#T_c4f6cb36_f50b_11ea_b59c_5254009d880arow1_col4,#T_c4f6cb36_f50b_11ea_b59c_5254009d880arow1_col11,#T_c4f6cb36_f50b_11ea_b59c_5254009d880arow4_col1,#T_c4f6cb36_f50b_11ea_b59c_5254009d880arow11_col1{\n",
       "            background-color:  #bfc9e1;\n",
       "            color:  #000000;\n",
       "        }#T_c4f6cb36_f50b_11ea_b59c_5254009d880arow1_col6,#T_c4f6cb36_f50b_11ea_b59c_5254009d880arow6_col1{\n",
       "            background-color:  #c6cce3;\n",
       "            color:  #000000;\n",
       "        }#T_c4f6cb36_f50b_11ea_b59c_5254009d880arow1_col7,#T_c4f6cb36_f50b_11ea_b59c_5254009d880arow7_col1{\n",
       "            background-color:  #e5e1ef;\n",
       "            color:  #000000;\n",
       "        }#T_c4f6cb36_f50b_11ea_b59c_5254009d880arow1_col9,#T_c4f6cb36_f50b_11ea_b59c_5254009d880arow9_col1{\n",
       "            background-color:  #e2dfee;\n",
       "            color:  #000000;\n",
       "        }#T_c4f6cb36_f50b_11ea_b59c_5254009d880arow1_col10,#T_c4f6cb36_f50b_11ea_b59c_5254009d880arow10_col1{\n",
       "            background-color:  #8fb4d6;\n",
       "            color:  #000000;\n",
       "        }#T_c4f6cb36_f50b_11ea_b59c_5254009d880arow1_col12,#T_c4f6cb36_f50b_11ea_b59c_5254009d880arow12_col1{\n",
       "            background-color:  #7bacd1;\n",
       "            color:  #000000;\n",
       "        }#T_c4f6cb36_f50b_11ea_b59c_5254009d880arow1_col14,#T_c4f6cb36_f50b_11ea_b59c_5254009d880arow3_col8,#T_c4f6cb36_f50b_11ea_b59c_5254009d880arow8_col3,#T_c4f6cb36_f50b_11ea_b59c_5254009d880arow14_col1{\n",
       "            background-color:  #eee9f3;\n",
       "            color:  #000000;\n",
       "        }#T_c4f6cb36_f50b_11ea_b59c_5254009d880arow1_col15,#T_c4f6cb36_f50b_11ea_b59c_5254009d880arow2_col15,#T_c4f6cb36_f50b_11ea_b59c_5254009d880arow15_col1,#T_c4f6cb36_f50b_11ea_b59c_5254009d880arow15_col2{\n",
       "            background-color:  #b3c3de;\n",
       "            color:  #000000;\n",
       "        }#T_c4f6cb36_f50b_11ea_b59c_5254009d880arow2_col3,#T_c4f6cb36_f50b_11ea_b59c_5254009d880arow3_col2,#T_c4f6cb36_f50b_11ea_b59c_5254009d880arow9_col11,#T_c4f6cb36_f50b_11ea_b59c_5254009d880arow11_col9{\n",
       "            background-color:  #046097;\n",
       "            color:  #f1f1f1;\n",
       "        }#T_c4f6cb36_f50b_11ea_b59c_5254009d880arow2_col7,#T_c4f6cb36_f50b_11ea_b59c_5254009d880arow7_col2{\n",
       "            background-color:  #e9e5f1;\n",
       "            color:  #000000;\n",
       "        }#T_c4f6cb36_f50b_11ea_b59c_5254009d880arow2_col8,#T_c4f6cb36_f50b_11ea_b59c_5254009d880arow8_col2{\n",
       "            background-color:  #e8e4f0;\n",
       "            color:  #000000;\n",
       "        }#T_c4f6cb36_f50b_11ea_b59c_5254009d880arow2_col9,#T_c4f6cb36_f50b_11ea_b59c_5254009d880arow9_col2{\n",
       "            background-color:  #e4e1ef;\n",
       "            color:  #000000;\n",
       "        }#T_c4f6cb36_f50b_11ea_b59c_5254009d880arow2_col10,#T_c4f6cb36_f50b_11ea_b59c_5254009d880arow4_col13,#T_c4f6cb36_f50b_11ea_b59c_5254009d880arow4_col16,#T_c4f6cb36_f50b_11ea_b59c_5254009d880arow10_col2,#T_c4f6cb36_f50b_11ea_b59c_5254009d880arow13_col4,#T_c4f6cb36_f50b_11ea_b59c_5254009d880arow16_col4{\n",
       "            background-color:  #91b5d6;\n",
       "            color:  #000000;\n",
       "        }#T_c4f6cb36_f50b_11ea_b59c_5254009d880arow2_col11,#T_c4f6cb36_f50b_11ea_b59c_5254009d880arow4_col11,#T_c4f6cb36_f50b_11ea_b59c_5254009d880arow11_col2,#T_c4f6cb36_f50b_11ea_b59c_5254009d880arow11_col4{\n",
       "            background-color:  #c2cbe2;\n",
       "            color:  #000000;\n",
       "        }#T_c4f6cb36_f50b_11ea_b59c_5254009d880arow2_col12,#T_c4f6cb36_f50b_11ea_b59c_5254009d880arow12_col2{\n",
       "            background-color:  #78abd0;\n",
       "            color:  #000000;\n",
       "        }#T_c4f6cb36_f50b_11ea_b59c_5254009d880arow2_col13,#T_c4f6cb36_f50b_11ea_b59c_5254009d880arow13_col2{\n",
       "            background-color:  #efe9f3;\n",
       "            color:  #000000;\n",
       "        }#T_c4f6cb36_f50b_11ea_b59c_5254009d880arow2_col16,#T_c4f6cb36_f50b_11ea_b59c_5254009d880arow16_col2{\n",
       "            background-color:  #d4d4e8;\n",
       "            color:  #000000;\n",
       "        }#T_c4f6cb36_f50b_11ea_b59c_5254009d880arow3_col4,#T_c4f6cb36_f50b_11ea_b59c_5254009d880arow3_col12,#T_c4f6cb36_f50b_11ea_b59c_5254009d880arow4_col3,#T_c4f6cb36_f50b_11ea_b59c_5254009d880arow12_col3{\n",
       "            background-color:  #a4bcda;\n",
       "            color:  #000000;\n",
       "        }#T_c4f6cb36_f50b_11ea_b59c_5254009d880arow3_col5,#T_c4f6cb36_f50b_11ea_b59c_5254009d880arow5_col3{\n",
       "            background-color:  #d6d6e9;\n",
       "            color:  #000000;\n",
       "        }#T_c4f6cb36_f50b_11ea_b59c_5254009d880arow3_col7,#T_c4f6cb36_f50b_11ea_b59c_5254009d880arow7_col3{\n",
       "            background-color:  #f0eaf4;\n",
       "            color:  #000000;\n",
       "        }#T_c4f6cb36_f50b_11ea_b59c_5254009d880arow3_col10,#T_c4f6cb36_f50b_11ea_b59c_5254009d880arow10_col3{\n",
       "            background-color:  #a9bfdc;\n",
       "            color:  #000000;\n",
       "        }#T_c4f6cb36_f50b_11ea_b59c_5254009d880arow3_col11,#T_c4f6cb36_f50b_11ea_b59c_5254009d880arow11_col3{\n",
       "            background-color:  #d5d5e8;\n",
       "            color:  #000000;\n",
       "        }#T_c4f6cb36_f50b_11ea_b59c_5254009d880arow3_col13,#T_c4f6cb36_f50b_11ea_b59c_5254009d880arow13_col3{\n",
       "            background-color:  #f2ecf5;\n",
       "            color:  #000000;\n",
       "        }#T_c4f6cb36_f50b_11ea_b59c_5254009d880arow3_col14,#T_c4f6cb36_f50b_11ea_b59c_5254009d880arow14_col3{\n",
       "            background-color:  #f9f2f8;\n",
       "            color:  #000000;\n",
       "        }#T_c4f6cb36_f50b_11ea_b59c_5254009d880arow3_col15,#T_c4f6cb36_f50b_11ea_b59c_5254009d880arow15_col3{\n",
       "            background-color:  #d1d2e6;\n",
       "            color:  #000000;\n",
       "        }#T_c4f6cb36_f50b_11ea_b59c_5254009d880arow3_col16,#T_c4f6cb36_f50b_11ea_b59c_5254009d880arow16_col3{\n",
       "            background-color:  #d9d8ea;\n",
       "            color:  #000000;\n",
       "        }#T_c4f6cb36_f50b_11ea_b59c_5254009d880arow4_col5,#T_c4f6cb36_f50b_11ea_b59c_5254009d880arow5_col4{\n",
       "            background-color:  #73a9cf;\n",
       "            color:  #000000;\n",
       "        }#T_c4f6cb36_f50b_11ea_b59c_5254009d880arow4_col6,#T_c4f6cb36_f50b_11ea_b59c_5254009d880arow6_col4{\n",
       "            background-color:  #9fbad9;\n",
       "            color:  #000000;\n",
       "        }#T_c4f6cb36_f50b_11ea_b59c_5254009d880arow4_col7,#T_c4f6cb36_f50b_11ea_b59c_5254009d880arow7_col4{\n",
       "            background-color:  #96b6d7;\n",
       "            color:  #000000;\n",
       "        }#T_c4f6cb36_f50b_11ea_b59c_5254009d880arow4_col8,#T_c4f6cb36_f50b_11ea_b59c_5254009d880arow8_col4{\n",
       "            background-color:  #c8cde4;\n",
       "            color:  #000000;\n",
       "        }#T_c4f6cb36_f50b_11ea_b59c_5254009d880arow4_col9,#T_c4f6cb36_f50b_11ea_b59c_5254009d880arow9_col4{\n",
       "            background-color:  #b0c2de;\n",
       "            color:  #000000;\n",
       "        }#T_c4f6cb36_f50b_11ea_b59c_5254009d880arow4_col10,#T_c4f6cb36_f50b_11ea_b59c_5254009d880arow10_col4{\n",
       "            background-color:  #afc1dd;\n",
       "            color:  #000000;\n",
       "        }#T_c4f6cb36_f50b_11ea_b59c_5254009d880arow4_col12,#T_c4f6cb36_f50b_11ea_b59c_5254009d880arow12_col4{\n",
       "            background-color:  #a2bcda;\n",
       "            color:  #000000;\n",
       "        }#T_c4f6cb36_f50b_11ea_b59c_5254009d880arow4_col15,#T_c4f6cb36_f50b_11ea_b59c_5254009d880arow15_col4{\n",
       "            background-color:  #88b1d4;\n",
       "            color:  #000000;\n",
       "        }#T_c4f6cb36_f50b_11ea_b59c_5254009d880arow5_col6,#T_c4f6cb36_f50b_11ea_b59c_5254009d880arow6_col5,#T_c4f6cb36_f50b_11ea_b59c_5254009d880arow8_col11,#T_c4f6cb36_f50b_11ea_b59c_5254009d880arow11_col8{\n",
       "            background-color:  #045f95;\n",
       "            color:  #f1f1f1;\n",
       "        }#T_c4f6cb36_f50b_11ea_b59c_5254009d880arow5_col8,#T_c4f6cb36_f50b_11ea_b59c_5254009d880arow8_col5,#T_c4f6cb36_f50b_11ea_b59c_5254009d880arow14_col16,#T_c4f6cb36_f50b_11ea_b59c_5254009d880arow16_col14{\n",
       "            background-color:  #0a73b2;\n",
       "            color:  #f1f1f1;\n",
       "        }#T_c4f6cb36_f50b_11ea_b59c_5254009d880arow5_col9,#T_c4f6cb36_f50b_11ea_b59c_5254009d880arow5_col12,#T_c4f6cb36_f50b_11ea_b59c_5254009d880arow9_col5,#T_c4f6cb36_f50b_11ea_b59c_5254009d880arow9_col13,#T_c4f6cb36_f50b_11ea_b59c_5254009d880arow12_col5,#T_c4f6cb36_f50b_11ea_b59c_5254009d880arow13_col9{\n",
       "            background-color:  #1077b4;\n",
       "            color:  #f1f1f1;\n",
       "        }#T_c4f6cb36_f50b_11ea_b59c_5254009d880arow5_col10,#T_c4f6cb36_f50b_11ea_b59c_5254009d880arow6_col14,#T_c4f6cb36_f50b_11ea_b59c_5254009d880arow10_col5,#T_c4f6cb36_f50b_11ea_b59c_5254009d880arow14_col6{\n",
       "            background-color:  #2182b9;\n",
       "            color:  #000000;\n",
       "        }#T_c4f6cb36_f50b_11ea_b59c_5254009d880arow5_col11,#T_c4f6cb36_f50b_11ea_b59c_5254009d880arow11_col5{\n",
       "            background-color:  #1e80b8;\n",
       "            color:  #000000;\n",
       "        }#T_c4f6cb36_f50b_11ea_b59c_5254009d880arow5_col13,#T_c4f6cb36_f50b_11ea_b59c_5254009d880arow6_col7,#T_c4f6cb36_f50b_11ea_b59c_5254009d880arow7_col6,#T_c4f6cb36_f50b_11ea_b59c_5254009d880arow13_col5{\n",
       "            background-color:  #04649e;\n",
       "            color:  #f1f1f1;\n",
       "        }#T_c4f6cb36_f50b_11ea_b59c_5254009d880arow5_col14,#T_c4f6cb36_f50b_11ea_b59c_5254009d880arow14_col5{\n",
       "            background-color:  #167bb6;\n",
       "            color:  #000000;\n",
       "        }#T_c4f6cb36_f50b_11ea_b59c_5254009d880arow5_col15,#T_c4f6cb36_f50b_11ea_b59c_5254009d880arow15_col5{\n",
       "            background-color:  #60a1ca;\n",
       "            color:  #000000;\n",
       "        }#T_c4f6cb36_f50b_11ea_b59c_5254009d880arow5_col16,#T_c4f6cb36_f50b_11ea_b59c_5254009d880arow16_col5{\n",
       "            background-color:  #045a8d;\n",
       "            color:  #f1f1f1;\n",
       "        }#T_c4f6cb36_f50b_11ea_b59c_5254009d880arow6_col8,#T_c4f6cb36_f50b_11ea_b59c_5254009d880arow8_col6{\n",
       "            background-color:  #046198;\n",
       "            color:  #f1f1f1;\n",
       "        }#T_c4f6cb36_f50b_11ea_b59c_5254009d880arow6_col9,#T_c4f6cb36_f50b_11ea_b59c_5254009d880arow9_col6{\n",
       "            background-color:  #0566a0;\n",
       "            color:  #f1f1f1;\n",
       "        }#T_c4f6cb36_f50b_11ea_b59c_5254009d880arow6_col10,#T_c4f6cb36_f50b_11ea_b59c_5254009d880arow10_col6{\n",
       "            background-color:  #05659f;\n",
       "            color:  #f1f1f1;\n",
       "        }#T_c4f6cb36_f50b_11ea_b59c_5254009d880arow6_col11,#T_c4f6cb36_f50b_11ea_b59c_5254009d880arow8_col14,#T_c4f6cb36_f50b_11ea_b59c_5254009d880arow11_col6,#T_c4f6cb36_f50b_11ea_b59c_5254009d880arow14_col8{\n",
       "            background-color:  #0567a2;\n",
       "            color:  #f1f1f1;\n",
       "        }#T_c4f6cb36_f50b_11ea_b59c_5254009d880arow6_col12,#T_c4f6cb36_f50b_11ea_b59c_5254009d880arow10_col14,#T_c4f6cb36_f50b_11ea_b59c_5254009d880arow12_col6,#T_c4f6cb36_f50b_11ea_b59c_5254009d880arow14_col10{\n",
       "            background-color:  #2484ba;\n",
       "            color:  #000000;\n",
       "        }#T_c4f6cb36_f50b_11ea_b59c_5254009d880arow6_col13,#T_c4f6cb36_f50b_11ea_b59c_5254009d880arow13_col6{\n",
       "            background-color:  #045e93;\n",
       "            color:  #f1f1f1;\n",
       "        }#T_c4f6cb36_f50b_11ea_b59c_5254009d880arow6_col15,#T_c4f6cb36_f50b_11ea_b59c_5254009d880arow15_col6{\n",
       "            background-color:  #509ac6;\n",
       "            color:  #000000;\n",
       "        }#T_c4f6cb36_f50b_11ea_b59c_5254009d880arow6_col16,#T_c4f6cb36_f50b_11ea_b59c_5254009d880arow7_col13,#T_c4f6cb36_f50b_11ea_b59c_5254009d880arow13_col7,#T_c4f6cb36_f50b_11ea_b59c_5254009d880arow16_col6{\n",
       "            background-color:  #034a74;\n",
       "            color:  #f1f1f1;\n",
       "        }#T_c4f6cb36_f50b_11ea_b59c_5254009d880arow7_col8,#T_c4f6cb36_f50b_11ea_b59c_5254009d880arow8_col7{\n",
       "            background-color:  #045788;\n",
       "            color:  #f1f1f1;\n",
       "        }#T_c4f6cb36_f50b_11ea_b59c_5254009d880arow7_col9,#T_c4f6cb36_f50b_11ea_b59c_5254009d880arow9_col7,#T_c4f6cb36_f50b_11ea_b59c_5254009d880arow12_col14,#T_c4f6cb36_f50b_11ea_b59c_5254009d880arow14_col12{\n",
       "            background-color:  #1b7eb7;\n",
       "            color:  #000000;\n",
       "        }#T_c4f6cb36_f50b_11ea_b59c_5254009d880arow7_col10,#T_c4f6cb36_f50b_11ea_b59c_5254009d880arow10_col7,#T_c4f6cb36_f50b_11ea_b59c_5254009d880arow13_col15,#T_c4f6cb36_f50b_11ea_b59c_5254009d880arow15_col13{\n",
       "            background-color:  #0c74b2;\n",
       "            color:  #f1f1f1;\n",
       "        }#T_c4f6cb36_f50b_11ea_b59c_5254009d880arow7_col11,#T_c4f6cb36_f50b_11ea_b59c_5254009d880arow11_col7{\n",
       "            background-color:  #056ba7;\n",
       "            color:  #f1f1f1;\n",
       "        }#T_c4f6cb36_f50b_11ea_b59c_5254009d880arow7_col12,#T_c4f6cb36_f50b_11ea_b59c_5254009d880arow12_col7{\n",
       "            background-color:  #348ebf;\n",
       "            color:  #000000;\n",
       "        }#T_c4f6cb36_f50b_11ea_b59c_5254009d880arow7_col14,#T_c4f6cb36_f50b_11ea_b59c_5254009d880arow14_col7{\n",
       "            background-color:  #056caa;\n",
       "            color:  #f1f1f1;\n",
       "        }#T_c4f6cb36_f50b_11ea_b59c_5254009d880arow7_col15,#T_c4f6cb36_f50b_11ea_b59c_5254009d880arow15_col7{\n",
       "            background-color:  #056dab;\n",
       "            color:  #f1f1f1;\n",
       "        }#T_c4f6cb36_f50b_11ea_b59c_5254009d880arow7_col16,#T_c4f6cb36_f50b_11ea_b59c_5254009d880arow8_col16,#T_c4f6cb36_f50b_11ea_b59c_5254009d880arow16_col7,#T_c4f6cb36_f50b_11ea_b59c_5254009d880arow16_col8{\n",
       "            background-color:  #034f7d;\n",
       "            color:  #f1f1f1;\n",
       "        }#T_c4f6cb36_f50b_11ea_b59c_5254009d880arow8_col9,#T_c4f6cb36_f50b_11ea_b59c_5254009d880arow9_col8{\n",
       "            background-color:  #04649d;\n",
       "            color:  #f1f1f1;\n",
       "        }#T_c4f6cb36_f50b_11ea_b59c_5254009d880arow8_col10,#T_c4f6cb36_f50b_11ea_b59c_5254009d880arow10_col8{\n",
       "            background-color:  #056aa6;\n",
       "            color:  #f1f1f1;\n",
       "        }#T_c4f6cb36_f50b_11ea_b59c_5254009d880arow8_col12,#T_c4f6cb36_f50b_11ea_b59c_5254009d880arow12_col8{\n",
       "            background-color:  #2f8bbe;\n",
       "            color:  #000000;\n",
       "        }#T_c4f6cb36_f50b_11ea_b59c_5254009d880arow8_col13,#T_c4f6cb36_f50b_11ea_b59c_5254009d880arow13_col8{\n",
       "            background-color:  #045382;\n",
       "            color:  #f1f1f1;\n",
       "        }#T_c4f6cb36_f50b_11ea_b59c_5254009d880arow8_col15,#T_c4f6cb36_f50b_11ea_b59c_5254009d880arow15_col8{\n",
       "            background-color:  #2a88bc;\n",
       "            color:  #000000;\n",
       "        }#T_c4f6cb36_f50b_11ea_b59c_5254009d880arow9_col10,#T_c4f6cb36_f50b_11ea_b59c_5254009d880arow10_col9,#T_c4f6cb36_f50b_11ea_b59c_5254009d880arow12_col16,#T_c4f6cb36_f50b_11ea_b59c_5254009d880arow16_col12{\n",
       "            background-color:  #056dac;\n",
       "            color:  #f1f1f1;\n",
       "        }#T_c4f6cb36_f50b_11ea_b59c_5254009d880arow9_col12,#T_c4f6cb36_f50b_11ea_b59c_5254009d880arow12_col9{\n",
       "            background-color:  #187cb6;\n",
       "            color:  #000000;\n",
       "        }#T_c4f6cb36_f50b_11ea_b59c_5254009d880arow9_col14,#T_c4f6cb36_f50b_11ea_b59c_5254009d880arow14_col9{\n",
       "            background-color:  #0771b1;\n",
       "            color:  #f1f1f1;\n",
       "        }#T_c4f6cb36_f50b_11ea_b59c_5254009d880arow9_col15,#T_c4f6cb36_f50b_11ea_b59c_5254009d880arow15_col9{\n",
       "            background-color:  #7dacd1;\n",
       "            color:  #000000;\n",
       "        }#T_c4f6cb36_f50b_11ea_b59c_5254009d880arow9_col16,#T_c4f6cb36_f50b_11ea_b59c_5254009d880arow16_col9{\n",
       "            background-color:  #046096;\n",
       "            color:  #f1f1f1;\n",
       "        }#T_c4f6cb36_f50b_11ea_b59c_5254009d880arow10_col11,#T_c4f6cb36_f50b_11ea_b59c_5254009d880arow11_col10{\n",
       "            background-color:  #045b8f;\n",
       "            color:  #f1f1f1;\n",
       "        }#T_c4f6cb36_f50b_11ea_b59c_5254009d880arow10_col12,#T_c4f6cb36_f50b_11ea_b59c_5254009d880arow12_col10{\n",
       "            background-color:  #0570b0;\n",
       "            color:  #f1f1f1;\n",
       "        }#T_c4f6cb36_f50b_11ea_b59c_5254009d880arow10_col13,#T_c4f6cb36_f50b_11ea_b59c_5254009d880arow11_col12,#T_c4f6cb36_f50b_11ea_b59c_5254009d880arow11_col14,#T_c4f6cb36_f50b_11ea_b59c_5254009d880arow12_col11,#T_c4f6cb36_f50b_11ea_b59c_5254009d880arow13_col10,#T_c4f6cb36_f50b_11ea_b59c_5254009d880arow14_col11,#T_c4f6cb36_f50b_11ea_b59c_5254009d880arow15_col16,#T_c4f6cb36_f50b_11ea_b59c_5254009d880arow16_col15{\n",
       "            background-color:  #1379b5;\n",
       "            color:  #f1f1f1;\n",
       "        }#T_c4f6cb36_f50b_11ea_b59c_5254009d880arow10_col15,#T_c4f6cb36_f50b_11ea_b59c_5254009d880arow15_col10{\n",
       "            background-color:  #197db7;\n",
       "            color:  #000000;\n",
       "        }#T_c4f6cb36_f50b_11ea_b59c_5254009d880arow10_col16,#T_c4f6cb36_f50b_11ea_b59c_5254009d880arow16_col10{\n",
       "            background-color:  #045c90;\n",
       "            color:  #f1f1f1;\n",
       "        }#T_c4f6cb36_f50b_11ea_b59c_5254009d880arow11_col13,#T_c4f6cb36_f50b_11ea_b59c_5254009d880arow13_col11{\n",
       "            background-color:  #056fae;\n",
       "            color:  #f1f1f1;\n",
       "        }#T_c4f6cb36_f50b_11ea_b59c_5254009d880arow11_col15,#T_c4f6cb36_f50b_11ea_b59c_5254009d880arow14_col15,#T_c4f6cb36_f50b_11ea_b59c_5254009d880arow15_col11,#T_c4f6cb36_f50b_11ea_b59c_5254009d880arow15_col14{\n",
       "            background-color:  #3b92c1;\n",
       "            color:  #000000;\n",
       "        }#T_c4f6cb36_f50b_11ea_b59c_5254009d880arow11_col16,#T_c4f6cb36_f50b_11ea_b59c_5254009d880arow16_col11{\n",
       "            background-color:  #045b8e;\n",
       "            color:  #f1f1f1;\n",
       "        }#T_c4f6cb36_f50b_11ea_b59c_5254009d880arow12_col13,#T_c4f6cb36_f50b_11ea_b59c_5254009d880arow12_col15,#T_c4f6cb36_f50b_11ea_b59c_5254009d880arow13_col12,#T_c4f6cb36_f50b_11ea_b59c_5254009d880arow15_col12{\n",
       "            background-color:  #4094c3;\n",
       "            color:  #000000;\n",
       "        }#T_c4f6cb36_f50b_11ea_b59c_5254009d880arow13_col14,#T_c4f6cb36_f50b_11ea_b59c_5254009d880arow14_col13{\n",
       "            background-color:  #056ba9;\n",
       "            color:  #f1f1f1;\n",
       "        }#T_c4f6cb36_f50b_11ea_b59c_5254009d880arow13_col16,#T_c4f6cb36_f50b_11ea_b59c_5254009d880arow16_col13{\n",
       "            background-color:  #034e7b;\n",
       "            color:  #f1f1f1;\n",
       "        }</style><table id=\"T_c4f6cb36_f50b_11ea_b59c_5254009d880a\" ><thead>    <tr>        <th class=\"blank level0\" ></th>        <th class=\"col_heading level0 col0\" >Rt</th>        <th class=\"col_heading level0 col1\" >theta</th>        <th class=\"col_heading level0 col2\" >kappa</th>        <th class=\"col_heading level0 col3\" >rho</th>        <th class=\"col_heading level0 col4\" >sigma</th>        <th class=\"col_heading level0 col5\" >School_closing</th>        <th class=\"col_heading level0 col6\" >Workplace_closing</th>        <th class=\"col_heading level0 col7\" >Cancel_events</th>        <th class=\"col_heading level0 col8\" >Gatherings_restrictions</th>        <th class=\"col_heading level0 col9\" >Transport_closing</th>        <th class=\"col_heading level0 col10\" >Stay_home_restrictions</th>        <th class=\"col_heading level0 col11\" >Internal_movement_restrictions</th>        <th class=\"col_heading level0 col12\" >International_movement_restrictions</th>        <th class=\"col_heading level0 col13\" >Information_campaigns</th>        <th class=\"col_heading level0 col14\" >Testing_policy</th>        <th class=\"col_heading level0 col15\" >Contact_tracing</th>        <th class=\"col_heading level0 col16\" >Stringency_index</th>    </tr></thead><tbody>\n",
       "                <tr>\n",
       "                        <th id=\"T_c4f6cb36_f50b_11ea_b59c_5254009d880alevel0_row0\" class=\"row_heading level0 row0\" >Rt</th>\n",
       "                        <td id=\"T_c4f6cb36_f50b_11ea_b59c_5254009d880arow0_col0\" class=\"data row0 col0\" >1.000000</td>\n",
       "                        <td id=\"T_c4f6cb36_f50b_11ea_b59c_5254009d880arow0_col1\" class=\"data row0 col1\" >-0.321110</td>\n",
       "                        <td id=\"T_c4f6cb36_f50b_11ea_b59c_5254009d880arow0_col2\" class=\"data row0 col2\" >-0.291013</td>\n",
       "                        <td id=\"T_c4f6cb36_f50b_11ea_b59c_5254009d880arow0_col3\" class=\"data row0 col3\" >0.125676</td>\n",
       "                        <td id=\"T_c4f6cb36_f50b_11ea_b59c_5254009d880arow0_col4\" class=\"data row0 col4\" >-0.224423</td>\n",
       "                        <td id=\"T_c4f6cb36_f50b_11ea_b59c_5254009d880arow0_col5\" class=\"data row0 col5\" >-0.205021</td>\n",
       "                        <td id=\"T_c4f6cb36_f50b_11ea_b59c_5254009d880arow0_col6\" class=\"data row0 col6\" >-0.141218</td>\n",
       "                        <td id=\"T_c4f6cb36_f50b_11ea_b59c_5254009d880arow0_col7\" class=\"data row0 col7\" >-0.129236</td>\n",
       "                        <td id=\"T_c4f6cb36_f50b_11ea_b59c_5254009d880arow0_col8\" class=\"data row0 col8\" >-0.064601</td>\n",
       "                        <td id=\"T_c4f6cb36_f50b_11ea_b59c_5254009d880arow0_col9\" class=\"data row0 col9\" >-0.235086</td>\n",
       "                        <td id=\"T_c4f6cb36_f50b_11ea_b59c_5254009d880arow0_col10\" class=\"data row0 col10\" >-0.245881</td>\n",
       "                        <td id=\"T_c4f6cb36_f50b_11ea_b59c_5254009d880arow0_col11\" class=\"data row0 col11\" >-0.222715</td>\n",
       "                        <td id=\"T_c4f6cb36_f50b_11ea_b59c_5254009d880arow0_col12\" class=\"data row0 col12\" >-0.513549</td>\n",
       "                        <td id=\"T_c4f6cb36_f50b_11ea_b59c_5254009d880arow0_col13\" class=\"data row0 col13\" >-0.116717</td>\n",
       "                        <td id=\"T_c4f6cb36_f50b_11ea_b59c_5254009d880arow0_col14\" class=\"data row0 col14\" >-0.233600</td>\n",
       "                        <td id=\"T_c4f6cb36_f50b_11ea_b59c_5254009d880arow0_col15\" class=\"data row0 col15\" >-0.239937</td>\n",
       "                        <td id=\"T_c4f6cb36_f50b_11ea_b59c_5254009d880arow0_col16\" class=\"data row0 col16\" >-0.227759</td>\n",
       "            </tr>\n",
       "            <tr>\n",
       "                        <th id=\"T_c4f6cb36_f50b_11ea_b59c_5254009d880alevel0_row1\" class=\"row_heading level0 row1\" >theta</th>\n",
       "                        <td id=\"T_c4f6cb36_f50b_11ea_b59c_5254009d880arow1_col0\" class=\"data row1 col0\" >-0.321110</td>\n",
       "                        <td id=\"T_c4f6cb36_f50b_11ea_b59c_5254009d880arow1_col1\" class=\"data row1 col1\" >1.000000</td>\n",
       "                        <td id=\"T_c4f6cb36_f50b_11ea_b59c_5254009d880arow1_col2\" class=\"data row1 col2\" >0.965491</td>\n",
       "                        <td id=\"T_c4f6cb36_f50b_11ea_b59c_5254009d880arow1_col3\" class=\"data row1 col3\" >0.728042</td>\n",
       "                        <td id=\"T_c4f6cb36_f50b_11ea_b59c_5254009d880arow1_col4\" class=\"data row1 col4\" >-0.057350</td>\n",
       "                        <td id=\"T_c4f6cb36_f50b_11ea_b59c_5254009d880arow1_col5\" class=\"data row1 col5\" >-0.204831</td>\n",
       "                        <td id=\"T_c4f6cb36_f50b_11ea_b59c_5254009d880arow1_col6\" class=\"data row1 col6\" >-0.088546</td>\n",
       "                        <td id=\"T_c4f6cb36_f50b_11ea_b59c_5254009d880arow1_col7\" class=\"data row1 col7\" >-0.275893</td>\n",
       "                        <td id=\"T_c4f6cb36_f50b_11ea_b59c_5254009d880arow1_col8\" class=\"data row1 col8\" >-0.289085</td>\n",
       "                        <td id=\"T_c4f6cb36_f50b_11ea_b59c_5254009d880arow1_col9\" class=\"data row1 col9\" >-0.255552</td>\n",
       "                        <td id=\"T_c4f6cb36_f50b_11ea_b59c_5254009d880arow1_col10\" class=\"data row1 col10\" >0.139723</td>\n",
       "                        <td id=\"T_c4f6cb36_f50b_11ea_b59c_5254009d880arow1_col11\" class=\"data row1 col11\" >-0.053332</td>\n",
       "                        <td id=\"T_c4f6cb36_f50b_11ea_b59c_5254009d880arow1_col12\" class=\"data row1 col12\" >0.218343</td>\n",
       "                        <td id=\"T_c4f6cb36_f50b_11ea_b59c_5254009d880arow1_col13\" class=\"data row1 col13\" >-0.322872</td>\n",
       "                        <td id=\"T_c4f6cb36_f50b_11ea_b59c_5254009d880arow1_col14\" class=\"data row1 col14\" >-0.342182</td>\n",
       "                        <td id=\"T_c4f6cb36_f50b_11ea_b59c_5254009d880arow1_col15\" class=\"data row1 col15\" >-0.003972</td>\n",
       "                        <td id=\"T_c4f6cb36_f50b_11ea_b59c_5254009d880arow1_col16\" class=\"data row1 col16\" >-0.113139</td>\n",
       "            </tr>\n",
       "            <tr>\n",
       "                        <th id=\"T_c4f6cb36_f50b_11ea_b59c_5254009d880alevel0_row2\" class=\"row_heading level0 row2\" >kappa</th>\n",
       "                        <td id=\"T_c4f6cb36_f50b_11ea_b59c_5254009d880arow2_col0\" class=\"data row2 col0\" >-0.291013</td>\n",
       "                        <td id=\"T_c4f6cb36_f50b_11ea_b59c_5254009d880arow2_col1\" class=\"data row2 col1\" >0.965491</td>\n",
       "                        <td id=\"T_c4f6cb36_f50b_11ea_b59c_5254009d880arow2_col2\" class=\"data row2 col2\" >1.000000</td>\n",
       "                        <td id=\"T_c4f6cb36_f50b_11ea_b59c_5254009d880arow2_col3\" class=\"data row2 col3\" >0.752551</td>\n",
       "                        <td id=\"T_c4f6cb36_f50b_11ea_b59c_5254009d880arow2_col4\" class=\"data row2 col4\" >-0.113159</td>\n",
       "                        <td id=\"T_c4f6cb36_f50b_11ea_b59c_5254009d880arow2_col5\" class=\"data row2 col5\" >-0.241119</td>\n",
       "                        <td id=\"T_c4f6cb36_f50b_11ea_b59c_5254009d880arow2_col6\" class=\"data row2 col6\" >-0.144875</td>\n",
       "                        <td id=\"T_c4f6cb36_f50b_11ea_b59c_5254009d880arow2_col7\" class=\"data row2 col7\" >-0.302918</td>\n",
       "                        <td id=\"T_c4f6cb36_f50b_11ea_b59c_5254009d880arow2_col8\" class=\"data row2 col8\" >-0.295945</td>\n",
       "                        <td id=\"T_c4f6cb36_f50b_11ea_b59c_5254009d880arow2_col9\" class=\"data row2 col9\" >-0.266808</td>\n",
       "                        <td id=\"T_c4f6cb36_f50b_11ea_b59c_5254009d880arow2_col10\" class=\"data row2 col10\" >0.134943</td>\n",
       "                        <td id=\"T_c4f6cb36_f50b_11ea_b59c_5254009d880arow2_col11\" class=\"data row2 col11\" >-0.071136</td>\n",
       "                        <td id=\"T_c4f6cb36_f50b_11ea_b59c_5254009d880arow2_col12\" class=\"data row2 col12\" >0.229332</td>\n",
       "                        <td id=\"T_c4f6cb36_f50b_11ea_b59c_5254009d880arow2_col13\" class=\"data row2 col13\" >-0.350126</td>\n",
       "                        <td id=\"T_c4f6cb36_f50b_11ea_b59c_5254009d880arow2_col14\" class=\"data row2 col14\" >-0.285656</td>\n",
       "                        <td id=\"T_c4f6cb36_f50b_11ea_b59c_5254009d880arow2_col15\" class=\"data row2 col15\" >-0.001510</td>\n",
       "                        <td id=\"T_c4f6cb36_f50b_11ea_b59c_5254009d880arow2_col16\" class=\"data row2 col16\" >-0.162369</td>\n",
       "            </tr>\n",
       "            <tr>\n",
       "                        <th id=\"T_c4f6cb36_f50b_11ea_b59c_5254009d880alevel0_row3\" class=\"row_heading level0 row3\" >rho</th>\n",
       "                        <td id=\"T_c4f6cb36_f50b_11ea_b59c_5254009d880arow3_col0\" class=\"data row3 col0\" >0.125676</td>\n",
       "                        <td id=\"T_c4f6cb36_f50b_11ea_b59c_5254009d880arow3_col1\" class=\"data row3 col1\" >0.728042</td>\n",
       "                        <td id=\"T_c4f6cb36_f50b_11ea_b59c_5254009d880arow3_col2\" class=\"data row3 col2\" >0.752551</td>\n",
       "                        <td id=\"T_c4f6cb36_f50b_11ea_b59c_5254009d880arow3_col3\" class=\"data row3 col3\" >1.000000</td>\n",
       "                        <td id=\"T_c4f6cb36_f50b_11ea_b59c_5254009d880arow3_col4\" class=\"data row3 col4\" >0.065382</td>\n",
       "                        <td id=\"T_c4f6cb36_f50b_11ea_b59c_5254009d880arow3_col5\" class=\"data row3 col5\" >-0.175214</td>\n",
       "                        <td id=\"T_c4f6cb36_f50b_11ea_b59c_5254009d880arow3_col6\" class=\"data row3 col6\" >-0.117045</td>\n",
       "                        <td id=\"T_c4f6cb36_f50b_11ea_b59c_5254009d880arow3_col7\" class=\"data row3 col7\" >-0.355723</td>\n",
       "                        <td id=\"T_c4f6cb36_f50b_11ea_b59c_5254009d880arow3_col8\" class=\"data row3 col8\" >-0.346619</td>\n",
       "                        <td id=\"T_c4f6cb36_f50b_11ea_b59c_5254009d880arow3_col9\" class=\"data row3 col9\" >-0.322163</td>\n",
       "                        <td id=\"T_c4f6cb36_f50b_11ea_b59c_5254009d880arow3_col10\" class=\"data row3 col10\" >0.040375</td>\n",
       "                        <td id=\"T_c4f6cb36_f50b_11ea_b59c_5254009d880arow3_col11\" class=\"data row3 col11\" >-0.165442</td>\n",
       "                        <td id=\"T_c4f6cb36_f50b_11ea_b59c_5254009d880arow3_col12\" class=\"data row3 col12\" >0.059946</td>\n",
       "                        <td id=\"T_c4f6cb36_f50b_11ea_b59c_5254009d880arow3_col13\" class=\"data row3 col13\" >-0.387339</td>\n",
       "                        <td id=\"T_c4f6cb36_f50b_11ea_b59c_5254009d880arow3_col14\" class=\"data row3 col14\" >-0.451516</td>\n",
       "                        <td id=\"T_c4f6cb36_f50b_11ea_b59c_5254009d880arow3_col15\" class=\"data row3 col15\" >-0.136352</td>\n",
       "                        <td id=\"T_c4f6cb36_f50b_11ea_b59c_5254009d880arow3_col16\" class=\"data row3 col16\" >-0.195716</td>\n",
       "            </tr>\n",
       "            <tr>\n",
       "                        <th id=\"T_c4f6cb36_f50b_11ea_b59c_5254009d880alevel0_row4\" class=\"row_heading level0 row4\" >sigma</th>\n",
       "                        <td id=\"T_c4f6cb36_f50b_11ea_b59c_5254009d880arow4_col0\" class=\"data row4 col0\" >-0.224423</td>\n",
       "                        <td id=\"T_c4f6cb36_f50b_11ea_b59c_5254009d880arow4_col1\" class=\"data row4 col1\" >-0.057350</td>\n",
       "                        <td id=\"T_c4f6cb36_f50b_11ea_b59c_5254009d880arow4_col2\" class=\"data row4 col2\" >-0.113159</td>\n",
       "                        <td id=\"T_c4f6cb36_f50b_11ea_b59c_5254009d880arow4_col3\" class=\"data row4 col3\" >0.065382</td>\n",
       "                        <td id=\"T_c4f6cb36_f50b_11ea_b59c_5254009d880arow4_col4\" class=\"data row4 col4\" >1.000000</td>\n",
       "                        <td id=\"T_c4f6cb36_f50b_11ea_b59c_5254009d880arow4_col5\" class=\"data row4 col5\" >0.246767</td>\n",
       "                        <td id=\"T_c4f6cb36_f50b_11ea_b59c_5254009d880arow4_col6\" class=\"data row4 col6\" >0.083360</td>\n",
       "                        <td id=\"T_c4f6cb36_f50b_11ea_b59c_5254009d880arow4_col7\" class=\"data row4 col7\" >0.116231</td>\n",
       "                        <td id=\"T_c4f6cb36_f50b_11ea_b59c_5254009d880arow4_col8\" class=\"data row4 col8\" >-0.098802</td>\n",
       "                        <td id=\"T_c4f6cb36_f50b_11ea_b59c_5254009d880arow4_col9\" class=\"data row4 col9\" >0.010954</td>\n",
       "                        <td id=\"T_c4f6cb36_f50b_11ea_b59c_5254009d880arow4_col10\" class=\"data row4 col10\" >0.014939</td>\n",
       "                        <td id=\"T_c4f6cb36_f50b_11ea_b59c_5254009d880arow4_col11\" class=\"data row4 col11\" >-0.070676</td>\n",
       "                        <td id=\"T_c4f6cb36_f50b_11ea_b59c_5254009d880arow4_col12\" class=\"data row4 col12\" >0.071296</td>\n",
       "                        <td id=\"T_c4f6cb36_f50b_11ea_b59c_5254009d880arow4_col13\" class=\"data row4 col13\" >0.133725</td>\n",
       "                        <td id=\"T_c4f6cb36_f50b_11ea_b59c_5254009d880arow4_col14\" class=\"data row4 col14\" >-0.068049</td>\n",
       "                        <td id=\"T_c4f6cb36_f50b_11ea_b59c_5254009d880arow4_col15\" class=\"data row4 col15\" >0.171960</td>\n",
       "                        <td id=\"T_c4f6cb36_f50b_11ea_b59c_5254009d880arow4_col16\" class=\"data row4 col16\" >0.134244</td>\n",
       "            </tr>\n",
       "            <tr>\n",
       "                        <th id=\"T_c4f6cb36_f50b_11ea_b59c_5254009d880alevel0_row5\" class=\"row_heading level0 row5\" >School_closing</th>\n",
       "                        <td id=\"T_c4f6cb36_f50b_11ea_b59c_5254009d880arow5_col0\" class=\"data row5 col0\" >-0.205021</td>\n",
       "                        <td id=\"T_c4f6cb36_f50b_11ea_b59c_5254009d880arow5_col1\" class=\"data row5 col1\" >-0.204831</td>\n",
       "                        <td id=\"T_c4f6cb36_f50b_11ea_b59c_5254009d880arow5_col2\" class=\"data row5 col2\" >-0.241119</td>\n",
       "                        <td id=\"T_c4f6cb36_f50b_11ea_b59c_5254009d880arow5_col3\" class=\"data row5 col3\" >-0.175214</td>\n",
       "                        <td id=\"T_c4f6cb36_f50b_11ea_b59c_5254009d880arow5_col4\" class=\"data row5 col4\" >0.246767</td>\n",
       "                        <td id=\"T_c4f6cb36_f50b_11ea_b59c_5254009d880arow5_col5\" class=\"data row5 col5\" >1.000000</td>\n",
       "                        <td id=\"T_c4f6cb36_f50b_11ea_b59c_5254009d880arow5_col6\" class=\"data row5 col6\" >0.764754</td>\n",
       "                        <td id=\"T_c4f6cb36_f50b_11ea_b59c_5254009d880arow5_col7\" class=\"data row5 col7\" >0.730381</td>\n",
       "                        <td id=\"T_c4f6cb36_f50b_11ea_b59c_5254009d880arow5_col8\" class=\"data row5 col8\" >0.601034</td>\n",
       "                        <td id=\"T_c4f6cb36_f50b_11ea_b59c_5254009d880arow5_col9\" class=\"data row5 col9\" >0.575316</td>\n",
       "                        <td id=\"T_c4f6cb36_f50b_11ea_b59c_5254009d880arow5_col10\" class=\"data row5 col10\" >0.514138</td>\n",
       "                        <td id=\"T_c4f6cb36_f50b_11ea_b59c_5254009d880arow5_col11\" class=\"data row5 col11\" >0.521724</td>\n",
       "                        <td id=\"T_c4f6cb36_f50b_11ea_b59c_5254009d880arow5_col12\" class=\"data row5 col12\" >0.574738</td>\n",
       "                        <td id=\"T_c4f6cb36_f50b_11ea_b59c_5254009d880arow5_col13\" class=\"data row5 col13\" >0.719335</td>\n",
       "                        <td id=\"T_c4f6cb36_f50b_11ea_b59c_5254009d880arow5_col14\" class=\"data row5 col14\" >0.553788</td>\n",
       "                        <td id=\"T_c4f6cb36_f50b_11ea_b59c_5254009d880arow5_col15\" class=\"data row5 col15\" >0.307371</td>\n",
       "                        <td id=\"T_c4f6cb36_f50b_11ea_b59c_5254009d880arow5_col16\" class=\"data row5 col16\" >0.807931</td>\n",
       "            </tr>\n",
       "            <tr>\n",
       "                        <th id=\"T_c4f6cb36_f50b_11ea_b59c_5254009d880alevel0_row6\" class=\"row_heading level0 row6\" >Workplace_closing</th>\n",
       "                        <td id=\"T_c4f6cb36_f50b_11ea_b59c_5254009d880arow6_col0\" class=\"data row6 col0\" >-0.141218</td>\n",
       "                        <td id=\"T_c4f6cb36_f50b_11ea_b59c_5254009d880arow6_col1\" class=\"data row6 col1\" >-0.088546</td>\n",
       "                        <td id=\"T_c4f6cb36_f50b_11ea_b59c_5254009d880arow6_col2\" class=\"data row6 col2\" >-0.144875</td>\n",
       "                        <td id=\"T_c4f6cb36_f50b_11ea_b59c_5254009d880arow6_col3\" class=\"data row6 col3\" >-0.117045</td>\n",
       "                        <td id=\"T_c4f6cb36_f50b_11ea_b59c_5254009d880arow6_col4\" class=\"data row6 col4\" >0.083360</td>\n",
       "                        <td id=\"T_c4f6cb36_f50b_11ea_b59c_5254009d880arow6_col5\" class=\"data row6 col5\" >0.764754</td>\n",
       "                        <td id=\"T_c4f6cb36_f50b_11ea_b59c_5254009d880arow6_col6\" class=\"data row6 col6\" >1.000000</td>\n",
       "                        <td id=\"T_c4f6cb36_f50b_11ea_b59c_5254009d880arow6_col7\" class=\"data row6 col7\" >0.719613</td>\n",
       "                        <td id=\"T_c4f6cb36_f50b_11ea_b59c_5254009d880arow6_col8\" class=\"data row6 col8\" >0.746720</td>\n",
       "                        <td id=\"T_c4f6cb36_f50b_11ea_b59c_5254009d880arow6_col9\" class=\"data row6 col9\" >0.704489</td>\n",
       "                        <td id=\"T_c4f6cb36_f50b_11ea_b59c_5254009d880arow6_col10\" class=\"data row6 col10\" >0.711801</td>\n",
       "                        <td id=\"T_c4f6cb36_f50b_11ea_b59c_5254009d880arow6_col11\" class=\"data row6 col11\" >0.696919</td>\n",
       "                        <td id=\"T_c4f6cb36_f50b_11ea_b59c_5254009d880arow6_col12\" class=\"data row6 col12\" >0.502970</td>\n",
       "                        <td id=\"T_c4f6cb36_f50b_11ea_b59c_5254009d880arow6_col13\" class=\"data row6 col13\" >0.777506</td>\n",
       "                        <td id=\"T_c4f6cb36_f50b_11ea_b59c_5254009d880arow6_col14\" class=\"data row6 col14\" >0.514533</td>\n",
       "                        <td id=\"T_c4f6cb36_f50b_11ea_b59c_5254009d880arow6_col15\" class=\"data row6 col15\" >0.350736</td>\n",
       "                        <td id=\"T_c4f6cb36_f50b_11ea_b59c_5254009d880arow6_col16\" class=\"data row6 col16\" >0.899364</td>\n",
       "            </tr>\n",
       "            <tr>\n",
       "                        <th id=\"T_c4f6cb36_f50b_11ea_b59c_5254009d880alevel0_row7\" class=\"row_heading level0 row7\" >Cancel_events</th>\n",
       "                        <td id=\"T_c4f6cb36_f50b_11ea_b59c_5254009d880arow7_col0\" class=\"data row7 col0\" >-0.129236</td>\n",
       "                        <td id=\"T_c4f6cb36_f50b_11ea_b59c_5254009d880arow7_col1\" class=\"data row7 col1\" >-0.275893</td>\n",
       "                        <td id=\"T_c4f6cb36_f50b_11ea_b59c_5254009d880arow7_col2\" class=\"data row7 col2\" >-0.302918</td>\n",
       "                        <td id=\"T_c4f6cb36_f50b_11ea_b59c_5254009d880arow7_col3\" class=\"data row7 col3\" >-0.355723</td>\n",
       "                        <td id=\"T_c4f6cb36_f50b_11ea_b59c_5254009d880arow7_col4\" class=\"data row7 col4\" >0.116231</td>\n",
       "                        <td id=\"T_c4f6cb36_f50b_11ea_b59c_5254009d880arow7_col5\" class=\"data row7 col5\" >0.730381</td>\n",
       "                        <td id=\"T_c4f6cb36_f50b_11ea_b59c_5254009d880arow7_col6\" class=\"data row7 col6\" >0.719613</td>\n",
       "                        <td id=\"T_c4f6cb36_f50b_11ea_b59c_5254009d880arow7_col7\" class=\"data row7 col7\" >1.000000</td>\n",
       "                        <td id=\"T_c4f6cb36_f50b_11ea_b59c_5254009d880arow7_col8\" class=\"data row7 col8\" >0.827772</td>\n",
       "                        <td id=\"T_c4f6cb36_f50b_11ea_b59c_5254009d880arow7_col9\" class=\"data row7 col9\" >0.534996</td>\n",
       "                        <td id=\"T_c4f6cb36_f50b_11ea_b59c_5254009d880arow7_col10\" class=\"data row7 col10\" >0.597946</td>\n",
       "                        <td id=\"T_c4f6cb36_f50b_11ea_b59c_5254009d880arow7_col11\" class=\"data row7 col11\" >0.663865</td>\n",
       "                        <td id=\"T_c4f6cb36_f50b_11ea_b59c_5254009d880arow7_col12\" class=\"data row7 col12\" >0.438940</td>\n",
       "                        <td id=\"T_c4f6cb36_f50b_11ea_b59c_5254009d880arow7_col13\" class=\"data row7 col13\" >0.897208</td>\n",
       "                        <td id=\"T_c4f6cb36_f50b_11ea_b59c_5254009d880arow7_col14\" class=\"data row7 col14\" >0.654791</td>\n",
       "                        <td id=\"T_c4f6cb36_f50b_11ea_b59c_5254009d880arow7_col15\" class=\"data row7 col15\" >0.647539</td>\n",
       "                        <td id=\"T_c4f6cb36_f50b_11ea_b59c_5254009d880arow7_col16\" class=\"data row7 col16\" >0.864406</td>\n",
       "            </tr>\n",
       "            <tr>\n",
       "                        <th id=\"T_c4f6cb36_f50b_11ea_b59c_5254009d880alevel0_row8\" class=\"row_heading level0 row8\" >Gatherings_restrictions</th>\n",
       "                        <td id=\"T_c4f6cb36_f50b_11ea_b59c_5254009d880arow8_col0\" class=\"data row8 col0\" >-0.064601</td>\n",
       "                        <td id=\"T_c4f6cb36_f50b_11ea_b59c_5254009d880arow8_col1\" class=\"data row8 col1\" >-0.289085</td>\n",
       "                        <td id=\"T_c4f6cb36_f50b_11ea_b59c_5254009d880arow8_col2\" class=\"data row8 col2\" >-0.295945</td>\n",
       "                        <td id=\"T_c4f6cb36_f50b_11ea_b59c_5254009d880arow8_col3\" class=\"data row8 col3\" >-0.346619</td>\n",
       "                        <td id=\"T_c4f6cb36_f50b_11ea_b59c_5254009d880arow8_col4\" class=\"data row8 col4\" >-0.098802</td>\n",
       "                        <td id=\"T_c4f6cb36_f50b_11ea_b59c_5254009d880arow8_col5\" class=\"data row8 col5\" >0.601034</td>\n",
       "                        <td id=\"T_c4f6cb36_f50b_11ea_b59c_5254009d880arow8_col6\" class=\"data row8 col6\" >0.746720</td>\n",
       "                        <td id=\"T_c4f6cb36_f50b_11ea_b59c_5254009d880arow8_col7\" class=\"data row8 col7\" >0.827772</td>\n",
       "                        <td id=\"T_c4f6cb36_f50b_11ea_b59c_5254009d880arow8_col8\" class=\"data row8 col8\" >1.000000</td>\n",
       "                        <td id=\"T_c4f6cb36_f50b_11ea_b59c_5254009d880arow8_col9\" class=\"data row8 col9\" >0.727360</td>\n",
       "                        <td id=\"T_c4f6cb36_f50b_11ea_b59c_5254009d880arow8_col10\" class=\"data row8 col10\" >0.670639</td>\n",
       "                        <td id=\"T_c4f6cb36_f50b_11ea_b59c_5254009d880arow8_col11\" class=\"data row8 col11\" >0.765547</td>\n",
       "                        <td id=\"T_c4f6cb36_f50b_11ea_b59c_5254009d880arow8_col12\" class=\"data row8 col12\" >0.461230</td>\n",
       "                        <td id=\"T_c4f6cb36_f50b_11ea_b59c_5254009d880arow8_col13\" class=\"data row8 col13\" >0.850425</td>\n",
       "                        <td id=\"T_c4f6cb36_f50b_11ea_b59c_5254009d880arow8_col14\" class=\"data row8 col14\" >0.695443</td>\n",
       "                        <td id=\"T_c4f6cb36_f50b_11ea_b59c_5254009d880arow8_col15\" class=\"data row8 col15\" >0.477169</td>\n",
       "                        <td id=\"T_c4f6cb36_f50b_11ea_b59c_5254009d880arow8_col16\" class=\"data row8 col16\" >0.866213</td>\n",
       "            </tr>\n",
       "            <tr>\n",
       "                        <th id=\"T_c4f6cb36_f50b_11ea_b59c_5254009d880alevel0_row9\" class=\"row_heading level0 row9\" >Transport_closing</th>\n",
       "                        <td id=\"T_c4f6cb36_f50b_11ea_b59c_5254009d880arow9_col0\" class=\"data row9 col0\" >-0.235086</td>\n",
       "                        <td id=\"T_c4f6cb36_f50b_11ea_b59c_5254009d880arow9_col1\" class=\"data row9 col1\" >-0.255552</td>\n",
       "                        <td id=\"T_c4f6cb36_f50b_11ea_b59c_5254009d880arow9_col2\" class=\"data row9 col2\" >-0.266808</td>\n",
       "                        <td id=\"T_c4f6cb36_f50b_11ea_b59c_5254009d880arow9_col3\" class=\"data row9 col3\" >-0.322163</td>\n",
       "                        <td id=\"T_c4f6cb36_f50b_11ea_b59c_5254009d880arow9_col4\" class=\"data row9 col4\" >0.010954</td>\n",
       "                        <td id=\"T_c4f6cb36_f50b_11ea_b59c_5254009d880arow9_col5\" class=\"data row9 col5\" >0.575316</td>\n",
       "                        <td id=\"T_c4f6cb36_f50b_11ea_b59c_5254009d880arow9_col6\" class=\"data row9 col6\" >0.704489</td>\n",
       "                        <td id=\"T_c4f6cb36_f50b_11ea_b59c_5254009d880arow9_col7\" class=\"data row9 col7\" >0.534996</td>\n",
       "                        <td id=\"T_c4f6cb36_f50b_11ea_b59c_5254009d880arow9_col8\" class=\"data row9 col8\" >0.727360</td>\n",
       "                        <td id=\"T_c4f6cb36_f50b_11ea_b59c_5254009d880arow9_col9\" class=\"data row9 col9\" >1.000000</td>\n",
       "                        <td id=\"T_c4f6cb36_f50b_11ea_b59c_5254009d880arow9_col10\" class=\"data row9 col10\" >0.641091</td>\n",
       "                        <td id=\"T_c4f6cb36_f50b_11ea_b59c_5254009d880arow9_col11\" class=\"data row9 col11\" >0.755184</td>\n",
       "                        <td id=\"T_c4f6cb36_f50b_11ea_b59c_5254009d880arow9_col12\" class=\"data row9 col12\" >0.547366</td>\n",
       "                        <td id=\"T_c4f6cb36_f50b_11ea_b59c_5254009d880arow9_col13\" class=\"data row9 col13\" >0.579867</td>\n",
       "                        <td id=\"T_c4f6cb36_f50b_11ea_b59c_5254009d880arow9_col14\" class=\"data row9 col14\" >0.611032</td>\n",
       "                        <td id=\"T_c4f6cb36_f50b_11ea_b59c_5254009d880arow9_col15\" class=\"data row9 col15\" >0.213224</td>\n",
       "                        <td id=\"T_c4f6cb36_f50b_11ea_b59c_5254009d880arow9_col16\" class=\"data row9 col16\" >0.762192</td>\n",
       "            </tr>\n",
       "            <tr>\n",
       "                        <th id=\"T_c4f6cb36_f50b_11ea_b59c_5254009d880alevel0_row10\" class=\"row_heading level0 row10\" >Stay_home_restrictions</th>\n",
       "                        <td id=\"T_c4f6cb36_f50b_11ea_b59c_5254009d880arow10_col0\" class=\"data row10 col0\" >-0.245881</td>\n",
       "                        <td id=\"T_c4f6cb36_f50b_11ea_b59c_5254009d880arow10_col1\" class=\"data row10 col1\" >0.139723</td>\n",
       "                        <td id=\"T_c4f6cb36_f50b_11ea_b59c_5254009d880arow10_col2\" class=\"data row10 col2\" >0.134943</td>\n",
       "                        <td id=\"T_c4f6cb36_f50b_11ea_b59c_5254009d880arow10_col3\" class=\"data row10 col3\" >0.040375</td>\n",
       "                        <td id=\"T_c4f6cb36_f50b_11ea_b59c_5254009d880arow10_col4\" class=\"data row10 col4\" >0.014939</td>\n",
       "                        <td id=\"T_c4f6cb36_f50b_11ea_b59c_5254009d880arow10_col5\" class=\"data row10 col5\" >0.514138</td>\n",
       "                        <td id=\"T_c4f6cb36_f50b_11ea_b59c_5254009d880arow10_col6\" class=\"data row10 col6\" >0.711801</td>\n",
       "                        <td id=\"T_c4f6cb36_f50b_11ea_b59c_5254009d880arow10_col7\" class=\"data row10 col7\" >0.597946</td>\n",
       "                        <td id=\"T_c4f6cb36_f50b_11ea_b59c_5254009d880arow10_col8\" class=\"data row10 col8\" >0.670639</td>\n",
       "                        <td id=\"T_c4f6cb36_f50b_11ea_b59c_5254009d880arow10_col9\" class=\"data row10 col9\" >0.641091</td>\n",
       "                        <td id=\"T_c4f6cb36_f50b_11ea_b59c_5254009d880arow10_col10\" class=\"data row10 col10\" >1.000000</td>\n",
       "                        <td id=\"T_c4f6cb36_f50b_11ea_b59c_5254009d880arow10_col11\" class=\"data row10 col11\" >0.797235</td>\n",
       "                        <td id=\"T_c4f6cb36_f50b_11ea_b59c_5254009d880arow10_col12\" class=\"data row10 col12\" >0.616764</td>\n",
       "                        <td id=\"T_c4f6cb36_f50b_11ea_b59c_5254009d880arow10_col13\" class=\"data row10 col13\" >0.567811</td>\n",
       "                        <td id=\"T_c4f6cb36_f50b_11ea_b59c_5254009d880arow10_col14\" class=\"data row10 col14\" >0.501220</td>\n",
       "                        <td id=\"T_c4f6cb36_f50b_11ea_b59c_5254009d880arow10_col15\" class=\"data row10 col15\" >0.541007</td>\n",
       "                        <td id=\"T_c4f6cb36_f50b_11ea_b59c_5254009d880arow10_col16\" class=\"data row10 col16\" >0.790672</td>\n",
       "            </tr>\n",
       "            <tr>\n",
       "                        <th id=\"T_c4f6cb36_f50b_11ea_b59c_5254009d880alevel0_row11\" class=\"row_heading level0 row11\" >Internal_movement_restrictions</th>\n",
       "                        <td id=\"T_c4f6cb36_f50b_11ea_b59c_5254009d880arow11_col0\" class=\"data row11 col0\" >-0.222715</td>\n",
       "                        <td id=\"T_c4f6cb36_f50b_11ea_b59c_5254009d880arow11_col1\" class=\"data row11 col1\" >-0.053332</td>\n",
       "                        <td id=\"T_c4f6cb36_f50b_11ea_b59c_5254009d880arow11_col2\" class=\"data row11 col2\" >-0.071136</td>\n",
       "                        <td id=\"T_c4f6cb36_f50b_11ea_b59c_5254009d880arow11_col3\" class=\"data row11 col3\" >-0.165442</td>\n",
       "                        <td id=\"T_c4f6cb36_f50b_11ea_b59c_5254009d880arow11_col4\" class=\"data row11 col4\" >-0.070676</td>\n",
       "                        <td id=\"T_c4f6cb36_f50b_11ea_b59c_5254009d880arow11_col5\" class=\"data row11 col5\" >0.521724</td>\n",
       "                        <td id=\"T_c4f6cb36_f50b_11ea_b59c_5254009d880arow11_col6\" class=\"data row11 col6\" >0.696919</td>\n",
       "                        <td id=\"T_c4f6cb36_f50b_11ea_b59c_5254009d880arow11_col7\" class=\"data row11 col7\" >0.663865</td>\n",
       "                        <td id=\"T_c4f6cb36_f50b_11ea_b59c_5254009d880arow11_col8\" class=\"data row11 col8\" >0.765547</td>\n",
       "                        <td id=\"T_c4f6cb36_f50b_11ea_b59c_5254009d880arow11_col9\" class=\"data row11 col9\" >0.755184</td>\n",
       "                        <td id=\"T_c4f6cb36_f50b_11ea_b59c_5254009d880arow11_col10\" class=\"data row11 col10\" >0.797235</td>\n",
       "                        <td id=\"T_c4f6cb36_f50b_11ea_b59c_5254009d880arow11_col11\" class=\"data row11 col11\" >1.000000</td>\n",
       "                        <td id=\"T_c4f6cb36_f50b_11ea_b59c_5254009d880arow11_col12\" class=\"data row11 col12\" >0.565804</td>\n",
       "                        <td id=\"T_c4f6cb36_f50b_11ea_b59c_5254009d880arow11_col13\" class=\"data row11 col13\" >0.627610</td>\n",
       "                        <td id=\"T_c4f6cb36_f50b_11ea_b59c_5254009d880arow11_col14\" class=\"data row11 col14\" >0.568358</td>\n",
       "                        <td id=\"T_c4f6cb36_f50b_11ea_b59c_5254009d880arow11_col15\" class=\"data row11 col15\" >0.416825</td>\n",
       "                        <td id=\"T_c4f6cb36_f50b_11ea_b59c_5254009d880arow11_col16\" class=\"data row11 col16\" >0.802325</td>\n",
       "            </tr>\n",
       "            <tr>\n",
       "                        <th id=\"T_c4f6cb36_f50b_11ea_b59c_5254009d880alevel0_row12\" class=\"row_heading level0 row12\" >International_movement_restrictions</th>\n",
       "                        <td id=\"T_c4f6cb36_f50b_11ea_b59c_5254009d880arow12_col0\" class=\"data row12 col0\" >-0.513549</td>\n",
       "                        <td id=\"T_c4f6cb36_f50b_11ea_b59c_5254009d880arow12_col1\" class=\"data row12 col1\" >0.218343</td>\n",
       "                        <td id=\"T_c4f6cb36_f50b_11ea_b59c_5254009d880arow12_col2\" class=\"data row12 col2\" >0.229332</td>\n",
       "                        <td id=\"T_c4f6cb36_f50b_11ea_b59c_5254009d880arow12_col3\" class=\"data row12 col3\" >0.059946</td>\n",
       "                        <td id=\"T_c4f6cb36_f50b_11ea_b59c_5254009d880arow12_col4\" class=\"data row12 col4\" >0.071296</td>\n",
       "                        <td id=\"T_c4f6cb36_f50b_11ea_b59c_5254009d880arow12_col5\" class=\"data row12 col5\" >0.574738</td>\n",
       "                        <td id=\"T_c4f6cb36_f50b_11ea_b59c_5254009d880arow12_col6\" class=\"data row12 col6\" >0.502970</td>\n",
       "                        <td id=\"T_c4f6cb36_f50b_11ea_b59c_5254009d880arow12_col7\" class=\"data row12 col7\" >0.438940</td>\n",
       "                        <td id=\"T_c4f6cb36_f50b_11ea_b59c_5254009d880arow12_col8\" class=\"data row12 col8\" >0.461230</td>\n",
       "                        <td id=\"T_c4f6cb36_f50b_11ea_b59c_5254009d880arow12_col9\" class=\"data row12 col9\" >0.547366</td>\n",
       "                        <td id=\"T_c4f6cb36_f50b_11ea_b59c_5254009d880arow12_col10\" class=\"data row12 col10\" >0.616764</td>\n",
       "                        <td id=\"T_c4f6cb36_f50b_11ea_b59c_5254009d880arow12_col11\" class=\"data row12 col11\" >0.565804</td>\n",
       "                        <td id=\"T_c4f6cb36_f50b_11ea_b59c_5254009d880arow12_col12\" class=\"data row12 col12\" >1.000000</td>\n",
       "                        <td id=\"T_c4f6cb36_f50b_11ea_b59c_5254009d880arow12_col13\" class=\"data row12 col13\" >0.399462</td>\n",
       "                        <td id=\"T_c4f6cb36_f50b_11ea_b59c_5254009d880arow12_col14\" class=\"data row12 col14\" >0.534718</td>\n",
       "                        <td id=\"T_c4f6cb36_f50b_11ea_b59c_5254009d880arow12_col15\" class=\"data row12 col15\" >0.397993</td>\n",
       "                        <td id=\"T_c4f6cb36_f50b_11ea_b59c_5254009d880arow12_col16\" class=\"data row12 col16\" >0.643512</td>\n",
       "            </tr>\n",
       "            <tr>\n",
       "                        <th id=\"T_c4f6cb36_f50b_11ea_b59c_5254009d880alevel0_row13\" class=\"row_heading level0 row13\" >Information_campaigns</th>\n",
       "                        <td id=\"T_c4f6cb36_f50b_11ea_b59c_5254009d880arow13_col0\" class=\"data row13 col0\" >-0.116717</td>\n",
       "                        <td id=\"T_c4f6cb36_f50b_11ea_b59c_5254009d880arow13_col1\" class=\"data row13 col1\" >-0.322872</td>\n",
       "                        <td id=\"T_c4f6cb36_f50b_11ea_b59c_5254009d880arow13_col2\" class=\"data row13 col2\" >-0.350126</td>\n",
       "                        <td id=\"T_c4f6cb36_f50b_11ea_b59c_5254009d880arow13_col3\" class=\"data row13 col3\" >-0.387339</td>\n",
       "                        <td id=\"T_c4f6cb36_f50b_11ea_b59c_5254009d880arow13_col4\" class=\"data row13 col4\" >0.133725</td>\n",
       "                        <td id=\"T_c4f6cb36_f50b_11ea_b59c_5254009d880arow13_col5\" class=\"data row13 col5\" >0.719335</td>\n",
       "                        <td id=\"T_c4f6cb36_f50b_11ea_b59c_5254009d880arow13_col6\" class=\"data row13 col6\" >0.777506</td>\n",
       "                        <td id=\"T_c4f6cb36_f50b_11ea_b59c_5254009d880arow13_col7\" class=\"data row13 col7\" >0.897208</td>\n",
       "                        <td id=\"T_c4f6cb36_f50b_11ea_b59c_5254009d880arow13_col8\" class=\"data row13 col8\" >0.850425</td>\n",
       "                        <td id=\"T_c4f6cb36_f50b_11ea_b59c_5254009d880arow13_col9\" class=\"data row13 col9\" >0.579867</td>\n",
       "                        <td id=\"T_c4f6cb36_f50b_11ea_b59c_5254009d880arow13_col10\" class=\"data row13 col10\" >0.567811</td>\n",
       "                        <td id=\"T_c4f6cb36_f50b_11ea_b59c_5254009d880arow13_col11\" class=\"data row13 col11\" >0.627610</td>\n",
       "                        <td id=\"T_c4f6cb36_f50b_11ea_b59c_5254009d880arow13_col12\" class=\"data row13 col12\" >0.399462</td>\n",
       "                        <td id=\"T_c4f6cb36_f50b_11ea_b59c_5254009d880arow13_col13\" class=\"data row13 col13\" >1.000000</td>\n",
       "                        <td id=\"T_c4f6cb36_f50b_11ea_b59c_5254009d880arow13_col14\" class=\"data row13 col14\" >0.657455</td>\n",
       "                        <td id=\"T_c4f6cb36_f50b_11ea_b59c_5254009d880arow13_col15\" class=\"data row13 col15\" >0.594069</td>\n",
       "                        <td id=\"T_c4f6cb36_f50b_11ea_b59c_5254009d880arow13_col16\" class=\"data row13 col16\" >0.874840</td>\n",
       "            </tr>\n",
       "            <tr>\n",
       "                        <th id=\"T_c4f6cb36_f50b_11ea_b59c_5254009d880alevel0_row14\" class=\"row_heading level0 row14\" >Testing_policy</th>\n",
       "                        <td id=\"T_c4f6cb36_f50b_11ea_b59c_5254009d880arow14_col0\" class=\"data row14 col0\" >-0.233600</td>\n",
       "                        <td id=\"T_c4f6cb36_f50b_11ea_b59c_5254009d880arow14_col1\" class=\"data row14 col1\" >-0.342182</td>\n",
       "                        <td id=\"T_c4f6cb36_f50b_11ea_b59c_5254009d880arow14_col2\" class=\"data row14 col2\" >-0.285656</td>\n",
       "                        <td id=\"T_c4f6cb36_f50b_11ea_b59c_5254009d880arow14_col3\" class=\"data row14 col3\" >-0.451516</td>\n",
       "                        <td id=\"T_c4f6cb36_f50b_11ea_b59c_5254009d880arow14_col4\" class=\"data row14 col4\" >-0.068049</td>\n",
       "                        <td id=\"T_c4f6cb36_f50b_11ea_b59c_5254009d880arow14_col5\" class=\"data row14 col5\" >0.553788</td>\n",
       "                        <td id=\"T_c4f6cb36_f50b_11ea_b59c_5254009d880arow14_col6\" class=\"data row14 col6\" >0.514533</td>\n",
       "                        <td id=\"T_c4f6cb36_f50b_11ea_b59c_5254009d880arow14_col7\" class=\"data row14 col7\" >0.654791</td>\n",
       "                        <td id=\"T_c4f6cb36_f50b_11ea_b59c_5254009d880arow14_col8\" class=\"data row14 col8\" >0.695443</td>\n",
       "                        <td id=\"T_c4f6cb36_f50b_11ea_b59c_5254009d880arow14_col9\" class=\"data row14 col9\" >0.611032</td>\n",
       "                        <td id=\"T_c4f6cb36_f50b_11ea_b59c_5254009d880arow14_col10\" class=\"data row14 col10\" >0.501220</td>\n",
       "                        <td id=\"T_c4f6cb36_f50b_11ea_b59c_5254009d880arow14_col11\" class=\"data row14 col11\" >0.568358</td>\n",
       "                        <td id=\"T_c4f6cb36_f50b_11ea_b59c_5254009d880arow14_col12\" class=\"data row14 col12\" >0.534718</td>\n",
       "                        <td id=\"T_c4f6cb36_f50b_11ea_b59c_5254009d880arow14_col13\" class=\"data row14 col13\" >0.657455</td>\n",
       "                        <td id=\"T_c4f6cb36_f50b_11ea_b59c_5254009d880arow14_col14\" class=\"data row14 col14\" >1.000000</td>\n",
       "                        <td id=\"T_c4f6cb36_f50b_11ea_b59c_5254009d880arow14_col15\" class=\"data row14 col15\" >0.415842</td>\n",
       "                        <td id=\"T_c4f6cb36_f50b_11ea_b59c_5254009d880arow14_col16\" class=\"data row14 col16\" >0.598867</td>\n",
       "            </tr>\n",
       "            <tr>\n",
       "                        <th id=\"T_c4f6cb36_f50b_11ea_b59c_5254009d880alevel0_row15\" class=\"row_heading level0 row15\" >Contact_tracing</th>\n",
       "                        <td id=\"T_c4f6cb36_f50b_11ea_b59c_5254009d880arow15_col0\" class=\"data row15 col0\" >-0.239937</td>\n",
       "                        <td id=\"T_c4f6cb36_f50b_11ea_b59c_5254009d880arow15_col1\" class=\"data row15 col1\" >-0.003972</td>\n",
       "                        <td id=\"T_c4f6cb36_f50b_11ea_b59c_5254009d880arow15_col2\" class=\"data row15 col2\" >-0.001510</td>\n",
       "                        <td id=\"T_c4f6cb36_f50b_11ea_b59c_5254009d880arow15_col3\" class=\"data row15 col3\" >-0.136352</td>\n",
       "                        <td id=\"T_c4f6cb36_f50b_11ea_b59c_5254009d880arow15_col4\" class=\"data row15 col4\" >0.171960</td>\n",
       "                        <td id=\"T_c4f6cb36_f50b_11ea_b59c_5254009d880arow15_col5\" class=\"data row15 col5\" >0.307371</td>\n",
       "                        <td id=\"T_c4f6cb36_f50b_11ea_b59c_5254009d880arow15_col6\" class=\"data row15 col6\" >0.350736</td>\n",
       "                        <td id=\"T_c4f6cb36_f50b_11ea_b59c_5254009d880arow15_col7\" class=\"data row15 col7\" >0.647539</td>\n",
       "                        <td id=\"T_c4f6cb36_f50b_11ea_b59c_5254009d880arow15_col8\" class=\"data row15 col8\" >0.477169</td>\n",
       "                        <td id=\"T_c4f6cb36_f50b_11ea_b59c_5254009d880arow15_col9\" class=\"data row15 col9\" >0.213224</td>\n",
       "                        <td id=\"T_c4f6cb36_f50b_11ea_b59c_5254009d880arow15_col10\" class=\"data row15 col10\" >0.541007</td>\n",
       "                        <td id=\"T_c4f6cb36_f50b_11ea_b59c_5254009d880arow15_col11\" class=\"data row15 col11\" >0.416825</td>\n",
       "                        <td id=\"T_c4f6cb36_f50b_11ea_b59c_5254009d880arow15_col12\" class=\"data row15 col12\" >0.397993</td>\n",
       "                        <td id=\"T_c4f6cb36_f50b_11ea_b59c_5254009d880arow15_col13\" class=\"data row15 col13\" >0.594069</td>\n",
       "                        <td id=\"T_c4f6cb36_f50b_11ea_b59c_5254009d880arow15_col14\" class=\"data row15 col14\" >0.415842</td>\n",
       "                        <td id=\"T_c4f6cb36_f50b_11ea_b59c_5254009d880arow15_col15\" class=\"data row15 col15\" >1.000000</td>\n",
       "                        <td id=\"T_c4f6cb36_f50b_11ea_b59c_5254009d880arow15_col16\" class=\"data row15 col16\" >0.565932</td>\n",
       "            </tr>\n",
       "            <tr>\n",
       "                        <th id=\"T_c4f6cb36_f50b_11ea_b59c_5254009d880alevel0_row16\" class=\"row_heading level0 row16\" >Stringency_index</th>\n",
       "                        <td id=\"T_c4f6cb36_f50b_11ea_b59c_5254009d880arow16_col0\" class=\"data row16 col0\" >-0.227759</td>\n",
       "                        <td id=\"T_c4f6cb36_f50b_11ea_b59c_5254009d880arow16_col1\" class=\"data row16 col1\" >-0.113139</td>\n",
       "                        <td id=\"T_c4f6cb36_f50b_11ea_b59c_5254009d880arow16_col2\" class=\"data row16 col2\" >-0.162369</td>\n",
       "                        <td id=\"T_c4f6cb36_f50b_11ea_b59c_5254009d880arow16_col3\" class=\"data row16 col3\" >-0.195716</td>\n",
       "                        <td id=\"T_c4f6cb36_f50b_11ea_b59c_5254009d880arow16_col4\" class=\"data row16 col4\" >0.134244</td>\n",
       "                        <td id=\"T_c4f6cb36_f50b_11ea_b59c_5254009d880arow16_col5\" class=\"data row16 col5\" >0.807931</td>\n",
       "                        <td id=\"T_c4f6cb36_f50b_11ea_b59c_5254009d880arow16_col6\" class=\"data row16 col6\" >0.899364</td>\n",
       "                        <td id=\"T_c4f6cb36_f50b_11ea_b59c_5254009d880arow16_col7\" class=\"data row16 col7\" >0.864406</td>\n",
       "                        <td id=\"T_c4f6cb36_f50b_11ea_b59c_5254009d880arow16_col8\" class=\"data row16 col8\" >0.866213</td>\n",
       "                        <td id=\"T_c4f6cb36_f50b_11ea_b59c_5254009d880arow16_col9\" class=\"data row16 col9\" >0.762192</td>\n",
       "                        <td id=\"T_c4f6cb36_f50b_11ea_b59c_5254009d880arow16_col10\" class=\"data row16 col10\" >0.790672</td>\n",
       "                        <td id=\"T_c4f6cb36_f50b_11ea_b59c_5254009d880arow16_col11\" class=\"data row16 col11\" >0.802325</td>\n",
       "                        <td id=\"T_c4f6cb36_f50b_11ea_b59c_5254009d880arow16_col12\" class=\"data row16 col12\" >0.643512</td>\n",
       "                        <td id=\"T_c4f6cb36_f50b_11ea_b59c_5254009d880arow16_col13\" class=\"data row16 col13\" >0.874840</td>\n",
       "                        <td id=\"T_c4f6cb36_f50b_11ea_b59c_5254009d880arow16_col14\" class=\"data row16 col14\" >0.598867</td>\n",
       "                        <td id=\"T_c4f6cb36_f50b_11ea_b59c_5254009d880arow16_col15\" class=\"data row16 col15\" >0.565932</td>\n",
       "                        <td id=\"T_c4f6cb36_f50b_11ea_b59c_5254009d880arow16_col16\" class=\"data row16 col16\" >1.000000</td>\n",
       "            </tr>\n",
       "    </tbody></table>"
      ],
      "text/plain": [
       "<pandas.io.formats.style.Styler at 0x7fda70620880>"
      ]
     },
     "execution_count": 21,
     "metadata": {},
     "output_type": "execute_result"
    }
   ],
   "source": [
    "# Correlation\n",
    "df = track_df.copy()\n",
    "df.corr().style.background_gradient(axis=None)"
   ]
  },
  {
   "cell_type": "code",
   "execution_count": 22,
   "metadata": {
    "collapsed": false
   },
   "outputs": [
    {
     "data": {
      "image/png": "[encoded data removed]",
      "text/plain": [
       "<Figure size 432x288 with 1 Axes>"
      ]
     },
     "metadata": {},
     "output_type": "display_data"
    }
   ],
   "source": [
    "# Scatter plot of Stringency index and Rt\n",
    "df = track_df.copy()\n",
    "sns.scatterplot(data=df, x=\"Stringency_index\", y=\"Rt\", hue=\"Country\", legend=\"brief\", marker=\"+\")\n",
    "bbox_to_anchor=(1.02, 0)\n",
    "bbox_loc=\"lower left\"\n",
    "plt.legend(bbox_to_anchor=bbox_to_anchor, loc=bbox_loc, borderaxespad=0)\n",
    "plt.title(\"Relationship of Stringency index and reproduction number\")\n",
    "plt.ylabel(\"Reproduction number\")\n",
    "plt.xlabel(\"Stringency index\")\n",
    "plt.show()"
   ]
  }
 ],
 "metadata": {
  "kernelspec": {
   "display_name": "Python 3.8.2 64-bit ('.venv': venv)",
   "name": "python_defaultSpec_1597669925034"
  },
  "language_info": {
   "codemirror_mode": {
    "name": "ipython",
    "version": 3
   },
   "file_extension": ".py",
   "mimetype": "text/x-python",
   "name": "python",
   "nbconvert_exporter": "python",
   "pygments_lexer": "ipython3",
   "version": "3.8.2-final"
  }
 },
 "nbformat": 4,
 "nbformat_minor": 4
}
