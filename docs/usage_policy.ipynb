{
 "cells": [
  {
   "cell_type": "markdown",
   "metadata": {},
   "source": [
    "# Usage (details: policy measures)\n",
    "Here, we will analyse the relationship of policy measures and parameter values of SIR-derived ODE models. Policy measures are tracked by [Oxford Covid-19 Government Response Tracker (OxCGRT)](https://github.com/OxCGRT/covid-policy-tracker)."
   ]
  },
  {
   "cell_type": "markdown",
   "metadata": {},
   "source": [
    "## Preparation"
   ]
  },
  {
   "cell_type": "code",
   "execution_count": 1,
   "metadata": {
    "collapsed": false
   },
   "outputs": [],
   "source": [
    "# Standard users\n",
    "# !pip install covsirphy\n",
    "# Developers (Note: this notebook is in example directory)\n",
    "import os\n",
    "os.chdir(\"../\")"
   ]
  },
  {
   "cell_type": "code",
   "execution_count": 2,
   "metadata": {
    "collapsed": false
   },
   "outputs": [],
   "source": [
    "from pprint import pprint"
   ]
  },
  {
   "cell_type": "code",
   "execution_count": 3,
   "metadata": {
    "collapsed": false
   },
   "outputs": [
    {
     "data": {
      "text/plain": [
       "'2.6.0-epsilon.new.72.fix.120.155.157.163.164.165'"
      ]
     },
     "execution_count": 3,
     "metadata": {},
     "output_type": "execute_result"
    }
   ],
   "source": [
    "import covsirphy as cs\n",
    "cs.__version__"
   ]
  },
  {
   "cell_type": "code",
   "execution_count": 4,
   "metadata": {
    "collapsed": false,
    "tags": []
   },
   "outputs": [
    {
     "name": "stdout",
     "output_type": "stream",
     "text": [
      "(Secondary source) Guidotti, E., Ardia, D., (2020), \"COVID-19 Data Hub\", Working paper, doi: 10.13140/RG.2.2.11649.81763.\n",
      "We can get Citation list of primary sources with DataLoader(...).covid19dh_citation"
     ]
    },
    {
     "name": "stdout",
     "output_type": "stream",
     "text": [
      "\n"
     ]
    }
   ],
   "source": [
    "# Standard users and developers\n",
    "data_loader = cs.DataLoader(\"input\")\n",
    "# The number of cases (JHU style)\n",
    "jhu_data = data_loader.jhu(verbose=False)\n",
    "# Population in each country\n",
    "population_data = data_loader.population(verbose=False)\n",
    "# Government Response Tracker (OxCGRT)\n",
    "oxcgrt_data = data_loader.oxcgrt(verbose=False)\n",
    "# Description/citation\n",
    "print(oxcgrt_data.citation)"
   ]
  },
  {
   "cell_type": "markdown",
   "metadata": {},
   "source": [
    "## Class for policy measure analysis\n",
    "We will `PolicyMeasures` class to find relationship of policy measures and parameter values of SIR-derived ODE models."
   ]
  },
  {
   "cell_type": "code",
   "execution_count": 5,
   "metadata": {
    "collapsed": false,
    "tags": []
   },
   "outputs": [
    {
     "data": {
      "text/plain": [
       "185"
      ]
     },
     "execution_count": 5,
     "metadata": {},
     "output_type": "execute_result"
    }
   ],
   "source": [
    "# Create analyser with tau value 360 [min] (can be changed)\n",
    "analyser = cs.PolicyMeasures(jhu_data, population_data, oxcgrt_data, tau=360)\n",
    "# The number of registerd countries\n",
    "len(analyser.countries)"
   ]
  },
  {
   "cell_type": "code",
   "execution_count": 6,
   "metadata": {
    "collapsed": false
   },
   "outputs": [
    {
     "data": {
      "text/plain": [
       "covsirphy.analysis.scenario.Scenario"
      ]
     },
     "execution_count": 6,
     "metadata": {},
     "output_type": "execute_result"
    }
   ],
   "source": [
    "# We can get Scenario instance for detailed scenario analysis\n",
    "type(analyser.scenario(\"Japan\"))"
   ]
  },
  {
   "cell_type": "markdown",
   "metadata": {},
   "source": [
    "## Set phases with S-R trend analysis\n",
    "We will perform S-R trend analysis to set phases in all countries. Countries which do not have **9th phases** will be un-registered for the next analysis. This number will be adjusted for your analysis."
   ]
  },
  {
   "cell_type": "code",
   "execution_count": 7,
   "metadata": {
    "collapsed": false
   },
   "outputs": [
    {
     "data": {
      "text/plain": [
       "6"
      ]
     },
     "execution_count": 7,
     "metadata": {},
     "output_type": "execute_result"
    }
   ],
   "source": [
    "# Set phases with S-R trend analysis\n",
    "analyser.trend(min_len=9)\n",
    "# The number of countries\n",
    "len(analyser.countries)"
   ]
  },
  {
   "cell_type": "code",
   "execution_count": 8,
   "metadata": {
    "collapsed": false,
    "tags": []
   },
   "outputs": [
    {
     "name": "stdout",
     "output_type": "stream",
     "text": [
      "{9: ['Senegal', 'Iran', 'Poland', 'Romania', 'United Arab Emirates', 'Guinea']}"
     ]
    },
    {
     "name": "stdout",
     "output_type": "stream",
     "text": [
      "\n"
     ]
    }
   ],
   "source": [
    "phase_len_dict = analyser.phase_len()\n",
    "pprint(phase_len_dict, compact=True)"
   ]
  },
  {
   "cell_type": "code",
   "execution_count": 9,
   "metadata": {
    "collapsed": false,
    "tags": []
   },
   "outputs": [
    {
     "data": {
      "text/html": [
       "<div>\n",
       "<style scoped>\n",
       "    .dataframe tbody tr th:only-of-type {\n",
       "        vertical-align: middle;\n",
       "    }\n",
       "\n",
       "    .dataframe tbody tr th {\n",
       "        vertical-align: top;\n",
       "    }\n",
       "\n",
       "    .dataframe thead th {\n",
       "        text-align: right;\n",
       "    }\n",
       "</style>\n",
       "<table border=\"1\" class=\"dataframe\">\n",
       "  <thead>\n",
       "    <tr style=\"text-align: right;\">\n",
       "      <th></th>\n",
       "      <th></th>\n",
       "      <th>Type</th>\n",
       "      <th>Start</th>\n",
       "      <th>End</th>\n",
       "      <th>Population</th>\n",
       "    </tr>\n",
       "    <tr>\n",
       "      <th>Country</th>\n",
       "      <th>Phase</th>\n",
       "      <th></th>\n",
       "      <th></th>\n",
       "      <th></th>\n",
       "      <th></th>\n",
       "    </tr>\n",
       "  </thead>\n",
       "  <tbody>\n",
       "    <tr>\n",
       "      <th rowspan=\"9\" valign=\"top\">Senegal</th>\n",
       "      <th>1st</th>\n",
       "      <td>Past</td>\n",
       "      <td>29Apr2020</td>\n",
       "      <td>10May2020</td>\n",
       "      <td>15854360</td>\n",
       "    </tr>\n",
       "    <tr>\n",
       "      <th>2nd</th>\n",
       "      <td>Past</td>\n",
       "      <td>11May2020</td>\n",
       "      <td>20May2020</td>\n",
       "      <td>15854360</td>\n",
       "    </tr>\n",
       "    <tr>\n",
       "      <th>3rd</th>\n",
       "      <td>Past</td>\n",
       "      <td>21May2020</td>\n",
       "      <td>30May2020</td>\n",
       "      <td>15854360</td>\n",
       "    </tr>\n",
       "    <tr>\n",
       "      <th>4th</th>\n",
       "      <td>Past</td>\n",
       "      <td>31May2020</td>\n",
       "      <td>08Jun2020</td>\n",
       "      <td>15854360</td>\n",
       "    </tr>\n",
       "    <tr>\n",
       "      <th>5th</th>\n",
       "      <td>Past</td>\n",
       "      <td>09Jun2020</td>\n",
       "      <td>16Jun2020</td>\n",
       "      <td>15854360</td>\n",
       "    </tr>\n",
       "    <tr>\n",
       "      <th>6th</th>\n",
       "      <td>Past</td>\n",
       "      <td>17Jun2020</td>\n",
       "      <td>25Jun2020</td>\n",
       "      <td>15854360</td>\n",
       "    </tr>\n",
       "    <tr>\n",
       "      <th>7th</th>\n",
       "      <td>Past</td>\n",
       "      <td>26Jun2020</td>\n",
       "      <td>10Jul2020</td>\n",
       "      <td>15854360</td>\n",
       "    </tr>\n",
       "    <tr>\n",
       "      <th>8th</th>\n",
       "      <td>Past</td>\n",
       "      <td>11Jul2020</td>\n",
       "      <td>22Jul2020</td>\n",
       "      <td>15854360</td>\n",
       "    </tr>\n",
       "    <tr>\n",
       "      <th>9th</th>\n",
       "      <td>Past</td>\n",
       "      <td>23Jul2020</td>\n",
       "      <td>03Aug2020</td>\n",
       "      <td>15854360</td>\n",
       "    </tr>\n",
       "    <tr>\n",
       "      <th rowspan=\"9\" valign=\"top\">Iran</th>\n",
       "      <th>1st</th>\n",
       "      <td>Past</td>\n",
       "      <td>28Mar2020</td>\n",
       "      <td>13Apr2020</td>\n",
       "      <td>81800269</td>\n",
       "    </tr>\n",
       "    <tr>\n",
       "      <th>2nd</th>\n",
       "      <td>Past</td>\n",
       "      <td>14Apr2020</td>\n",
       "      <td>06May2020</td>\n",
       "      <td>81800269</td>\n",
       "    </tr>\n",
       "    <tr>\n",
       "      <th>3rd</th>\n",
       "      <td>Past</td>\n",
       "      <td>07May2020</td>\n",
       "      <td>21May2020</td>\n",
       "      <td>81800269</td>\n",
       "    </tr>\n",
       "    <tr>\n",
       "      <th>4th</th>\n",
       "      <td>Past</td>\n",
       "      <td>22May2020</td>\n",
       "      <td>03Jun2020</td>\n",
       "      <td>81800269</td>\n",
       "    </tr>\n",
       "    <tr>\n",
       "      <th>5th</th>\n",
       "      <td>Past</td>\n",
       "      <td>04Jun2020</td>\n",
       "      <td>15Jun2020</td>\n",
       "      <td>81800269</td>\n",
       "    </tr>\n",
       "    <tr>\n",
       "      <th>6th</th>\n",
       "      <td>Past</td>\n",
       "      <td>16Jun2020</td>\n",
       "      <td>27Jun2020</td>\n",
       "      <td>81800269</td>\n",
       "    </tr>\n",
       "    <tr>\n",
       "      <th>7th</th>\n",
       "      <td>Past</td>\n",
       "      <td>28Jun2020</td>\n",
       "      <td>09Jul2020</td>\n",
       "      <td>81800269</td>\n",
       "    </tr>\n",
       "    <tr>\n",
       "      <th>8th</th>\n",
       "      <td>Past</td>\n",
       "      <td>10Jul2020</td>\n",
       "      <td>21Jul2020</td>\n",
       "      <td>81800269</td>\n",
       "    </tr>\n",
       "    <tr>\n",
       "      <th>9th</th>\n",
       "      <td>Past</td>\n",
       "      <td>22Jul2020</td>\n",
       "      <td>03Aug2020</td>\n",
       "      <td>81800269</td>\n",
       "    </tr>\n",
       "    <tr>\n",
       "      <th rowspan=\"9\" valign=\"top\">Poland</th>\n",
       "      <th>1st</th>\n",
       "      <td>Past</td>\n",
       "      <td>23Apr2020</td>\n",
       "      <td>05May2020</td>\n",
       "      <td>37974750</td>\n",
       "    </tr>\n",
       "    <tr>\n",
       "      <th>2nd</th>\n",
       "      <td>Past</td>\n",
       "      <td>06May2020</td>\n",
       "      <td>17May2020</td>\n",
       "      <td>37974750</td>\n",
       "    </tr>\n",
       "    <tr>\n",
       "      <th>3rd</th>\n",
       "      <td>Past</td>\n",
       "      <td>18May2020</td>\n",
       "      <td>25May2020</td>\n",
       "      <td>37974750</td>\n",
       "    </tr>\n",
       "    <tr>\n",
       "      <th>4th</th>\n",
       "      <td>Past</td>\n",
       "      <td>26May2020</td>\n",
       "      <td>05Jun2020</td>\n",
       "      <td>37974750</td>\n",
       "    </tr>\n",
       "    <tr>\n",
       "      <th>5th</th>\n",
       "      <td>Past</td>\n",
       "      <td>06Jun2020</td>\n",
       "      <td>15Jun2020</td>\n",
       "      <td>37974750</td>\n",
       "    </tr>\n",
       "    <tr>\n",
       "      <th>6th</th>\n",
       "      <td>Past</td>\n",
       "      <td>16Jun2020</td>\n",
       "      <td>28Jun2020</td>\n",
       "      <td>37974750</td>\n",
       "    </tr>\n",
       "    <tr>\n",
       "      <th>7th</th>\n",
       "      <td>Past</td>\n",
       "      <td>29Jun2020</td>\n",
       "      <td>10Jul2020</td>\n",
       "      <td>37974750</td>\n",
       "    </tr>\n",
       "    <tr>\n",
       "      <th>8th</th>\n",
       "      <td>Past</td>\n",
       "      <td>11Jul2020</td>\n",
       "      <td>19Jul2020</td>\n",
       "      <td>37974750</td>\n",
       "    </tr>\n",
       "    <tr>\n",
       "      <th>9th</th>\n",
       "      <td>Past</td>\n",
       "      <td>20Jul2020</td>\n",
       "      <td>03Aug2020</td>\n",
       "      <td>37974750</td>\n",
       "    </tr>\n",
       "    <tr>\n",
       "      <th rowspan=\"9\" valign=\"top\">Romania</th>\n",
       "      <th>1st</th>\n",
       "      <td>Past</td>\n",
       "      <td>15Apr2020</td>\n",
       "      <td>25Apr2020</td>\n",
       "      <td>19466145</td>\n",
       "    </tr>\n",
       "    <tr>\n",
       "      <th>2nd</th>\n",
       "      <td>Past</td>\n",
       "      <td>26Apr2020</td>\n",
       "      <td>06May2020</td>\n",
       "      <td>19466145</td>\n",
       "    </tr>\n",
       "    <tr>\n",
       "      <th>3rd</th>\n",
       "      <td>Past</td>\n",
       "      <td>07May2020</td>\n",
       "      <td>17May2020</td>\n",
       "      <td>19466145</td>\n",
       "    </tr>\n",
       "    <tr>\n",
       "      <th>4th</th>\n",
       "      <td>Past</td>\n",
       "      <td>18May2020</td>\n",
       "      <td>03Jun2020</td>\n",
       "      <td>19466145</td>\n",
       "    </tr>\n",
       "    <tr>\n",
       "      <th>5th</th>\n",
       "      <td>Past</td>\n",
       "      <td>04Jun2020</td>\n",
       "      <td>18Jun2020</td>\n",
       "      <td>19466145</td>\n",
       "    </tr>\n",
       "    <tr>\n",
       "      <th>6th</th>\n",
       "      <td>Past</td>\n",
       "      <td>19Jun2020</td>\n",
       "      <td>29Jun2020</td>\n",
       "      <td>19466145</td>\n",
       "    </tr>\n",
       "    <tr>\n",
       "      <th>7th</th>\n",
       "      <td>Past</td>\n",
       "      <td>30Jun2020</td>\n",
       "      <td>07Jul2020</td>\n",
       "      <td>19466145</td>\n",
       "    </tr>\n",
       "    <tr>\n",
       "      <th>8th</th>\n",
       "      <td>Past</td>\n",
       "      <td>08Jul2020</td>\n",
       "      <td>16Jul2020</td>\n",
       "      <td>19466145</td>\n",
       "    </tr>\n",
       "    <tr>\n",
       "      <th>9th</th>\n",
       "      <td>Past</td>\n",
       "      <td>17Jul2020</td>\n",
       "      <td>03Aug2020</td>\n",
       "      <td>19466145</td>\n",
       "    </tr>\n",
       "    <tr>\n",
       "      <th rowspan=\"9\" valign=\"top\">United Arab Emirates</th>\n",
       "      <th>1st</th>\n",
       "      <td>Past</td>\n",
       "      <td>28Apr2020</td>\n",
       "      <td>12May2020</td>\n",
       "      <td>9630959</td>\n",
       "    </tr>\n",
       "    <tr>\n",
       "      <th>2nd</th>\n",
       "      <td>Past</td>\n",
       "      <td>13May2020</td>\n",
       "      <td>25May2020</td>\n",
       "      <td>9630959</td>\n",
       "    </tr>\n",
       "    <tr>\n",
       "      <th>3rd</th>\n",
       "      <td>Past</td>\n",
       "      <td>26May2020</td>\n",
       "      <td>02Jun2020</td>\n",
       "      <td>9630959</td>\n",
       "    </tr>\n",
       "    <tr>\n",
       "      <th>4th</th>\n",
       "      <td>Past</td>\n",
       "      <td>03Jun2020</td>\n",
       "      <td>10Jun2020</td>\n",
       "      <td>9630959</td>\n",
       "    </tr>\n",
       "    <tr>\n",
       "      <th>5th</th>\n",
       "      <td>Past</td>\n",
       "      <td>11Jun2020</td>\n",
       "      <td>21Jun2020</td>\n",
       "      <td>9630959</td>\n",
       "    </tr>\n",
       "    <tr>\n",
       "      <th>6th</th>\n",
       "      <td>Past</td>\n",
       "      <td>22Jun2020</td>\n",
       "      <td>01Jul2020</td>\n",
       "      <td>9630959</td>\n",
       "    </tr>\n",
       "    <tr>\n",
       "      <th>7th</th>\n",
       "      <td>Past</td>\n",
       "      <td>02Jul2020</td>\n",
       "      <td>09Jul2020</td>\n",
       "      <td>9630959</td>\n",
       "    </tr>\n",
       "    <tr>\n",
       "      <th>8th</th>\n",
       "      <td>Past</td>\n",
       "      <td>10Jul2020</td>\n",
       "      <td>21Jul2020</td>\n",
       "      <td>9630959</td>\n",
       "    </tr>\n",
       "    <tr>\n",
       "      <th>9th</th>\n",
       "      <td>Past</td>\n",
       "      <td>22Jul2020</td>\n",
       "      <td>03Aug2020</td>\n",
       "      <td>9630959</td>\n",
       "    </tr>\n",
       "    <tr>\n",
       "      <th rowspan=\"9\" valign=\"top\">Guinea</th>\n",
       "      <th>1st</th>\n",
       "      <td>Past</td>\n",
       "      <td>01May2020</td>\n",
       "      <td>11May2020</td>\n",
       "      <td>12414318</td>\n",
       "    </tr>\n",
       "    <tr>\n",
       "      <th>2nd</th>\n",
       "      <td>Past</td>\n",
       "      <td>12May2020</td>\n",
       "      <td>19May2020</td>\n",
       "      <td>12414318</td>\n",
       "    </tr>\n",
       "    <tr>\n",
       "      <th>3rd</th>\n",
       "      <td>Past</td>\n",
       "      <td>20May2020</td>\n",
       "      <td>27May2020</td>\n",
       "      <td>12414318</td>\n",
       "    </tr>\n",
       "    <tr>\n",
       "      <th>4th</th>\n",
       "      <td>Past</td>\n",
       "      <td>28May2020</td>\n",
       "      <td>07Jun2020</td>\n",
       "      <td>12414318</td>\n",
       "    </tr>\n",
       "    <tr>\n",
       "      <th>5th</th>\n",
       "      <td>Past</td>\n",
       "      <td>08Jun2020</td>\n",
       "      <td>17Jun2020</td>\n",
       "      <td>12414318</td>\n",
       "    </tr>\n",
       "    <tr>\n",
       "      <th>6th</th>\n",
       "      <td>Past</td>\n",
       "      <td>18Jun2020</td>\n",
       "      <td>01Jul2020</td>\n",
       "      <td>12414318</td>\n",
       "    </tr>\n",
       "    <tr>\n",
       "      <th>7th</th>\n",
       "      <td>Past</td>\n",
       "      <td>02Jul2020</td>\n",
       "      <td>13Jul2020</td>\n",
       "      <td>12414318</td>\n",
       "    </tr>\n",
       "    <tr>\n",
       "      <th>8th</th>\n",
       "      <td>Past</td>\n",
       "      <td>14Jul2020</td>\n",
       "      <td>22Jul2020</td>\n",
       "      <td>12414318</td>\n",
       "    </tr>\n",
       "    <tr>\n",
       "      <th>9th</th>\n",
       "      <td>Past</td>\n",
       "      <td>23Jul2020</td>\n",
       "      <td>03Aug2020</td>\n",
       "      <td>12414318</td>\n",
       "    </tr>\n",
       "  </tbody>\n",
       "</table>\n",
       "</div>"
      ],
      "text/plain": [
       "                            Type      Start        End  Population\n",
       "Country              Phase                                        \n",
       "Senegal              1st    Past  29Apr2020  10May2020    15854360\n",
       "                     2nd    Past  11May2020  20May2020    15854360\n",
       "                     3rd    Past  21May2020  30May2020    15854360\n",
       "                     4th    Past  31May2020  08Jun2020    15854360\n",
       "                     5th    Past  09Jun2020  16Jun2020    15854360\n",
       "                     6th    Past  17Jun2020  25Jun2020    15854360\n",
       "                     7th    Past  26Jun2020  10Jul2020    15854360\n",
       "                     8th    Past  11Jul2020  22Jul2020    15854360\n",
       "                     9th    Past  23Jul2020  03Aug2020    15854360\n",
       "Iran                 1st    Past  28Mar2020  13Apr2020    81800269\n",
       "                     2nd    Past  14Apr2020  06May2020    81800269\n",
       "                     3rd    Past  07May2020  21May2020    81800269\n",
       "                     4th    Past  22May2020  03Jun2020    81800269\n",
       "                     5th    Past  04Jun2020  15Jun2020    81800269\n",
       "                     6th    Past  16Jun2020  27Jun2020    81800269\n",
       "                     7th    Past  28Jun2020  09Jul2020    81800269\n",
       "                     8th    Past  10Jul2020  21Jul2020    81800269\n",
       "                     9th    Past  22Jul2020  03Aug2020    81800269\n",
       "Poland               1st    Past  23Apr2020  05May2020    37974750\n",
       "                     2nd    Past  06May2020  17May2020    37974750\n",
       "                     3rd    Past  18May2020  25May2020    37974750\n",
       "                     4th    Past  26May2020  05Jun2020    37974750\n",
       "                     5th    Past  06Jun2020  15Jun2020    37974750\n",
       "                     6th    Past  16Jun2020  28Jun2020    37974750\n",
       "                     7th    Past  29Jun2020  10Jul2020    37974750\n",
       "                     8th    Past  11Jul2020  19Jul2020    37974750\n",
       "                     9th    Past  20Jul2020  03Aug2020    37974750\n",
       "Romania              1st    Past  15Apr2020  25Apr2020    19466145\n",
       "                     2nd    Past  26Apr2020  06May2020    19466145\n",
       "                     3rd    Past  07May2020  17May2020    19466145\n",
       "                     4th    Past  18May2020  03Jun2020    19466145\n",
       "                     5th    Past  04Jun2020  18Jun2020    19466145\n",
       "                     6th    Past  19Jun2020  29Jun2020    19466145\n",
       "                     7th    Past  30Jun2020  07Jul2020    19466145\n",
       "                     8th    Past  08Jul2020  16Jul2020    19466145\n",
       "                     9th    Past  17Jul2020  03Aug2020    19466145\n",
       "United Arab Emirates 1st    Past  28Apr2020  12May2020     9630959\n",
       "                     2nd    Past  13May2020  25May2020     9630959\n",
       "                     3rd    Past  26May2020  02Jun2020     9630959\n",
       "                     4th    Past  03Jun2020  10Jun2020     9630959\n",
       "                     5th    Past  11Jun2020  21Jun2020     9630959\n",
       "                     6th    Past  22Jun2020  01Jul2020     9630959\n",
       "                     7th    Past  02Jul2020  09Jul2020     9630959\n",
       "                     8th    Past  10Jul2020  21Jul2020     9630959\n",
       "                     9th    Past  22Jul2020  03Aug2020     9630959\n",
       "Guinea               1st    Past  01May2020  11May2020    12414318\n",
       "                     2nd    Past  12May2020  19May2020    12414318\n",
       "                     3rd    Past  20May2020  27May2020    12414318\n",
       "                     4th    Past  28May2020  07Jun2020    12414318\n",
       "                     5th    Past  08Jun2020  17Jun2020    12414318\n",
       "                     6th    Past  18Jun2020  01Jul2020    12414318\n",
       "                     7th    Past  02Jul2020  13Jul2020    12414318\n",
       "                     8th    Past  14Jul2020  22Jul2020    12414318\n",
       "                     9th    Past  23Jul2020  03Aug2020    12414318"
      ]
     },
     "execution_count": 9,
     "metadata": {},
     "output_type": "execute_result"
    }
   ],
   "source": [
    "# Here, only show the countries which have the most phases\n",
    "countries_show = max(phase_len_dict.items(), key=lambda x: x[0])[1]\n",
    "# Show summary\n",
    "analyser.summary(countries=countries_show)"
   ]
  },
  {
   "cell_type": "markdown",
   "metadata": {},
   "source": [
    "## Parameter estimation\n",
    "we will estimate the parameter values with SIR-derived ODE models in each country."
   ]
  },
  {
   "cell_type": "code",
   "execution_count": 10,
   "metadata": {
    "collapsed": false,
    "tags": []
   },
   "outputs": [
    {
     "name": "stdout",
     "output_type": "stream",
     "text": [
      "\n",
      "--------------------Senegal--------------------"
     ]
    },
    {
     "name": "stdout",
     "output_type": "stream",
     "text": [
      "\n"
     ]
    },
    {
     "name": "stdout",
     "output_type": "stream",
     "text": [
      "\n",
      "<Main scenario: parameter estimation>"
     ]
    },
    {
     "name": "stdout",
     "output_type": "stream",
     "text": [
      "\n"
     ]
    },
    {
     "name": "stdout",
     "output_type": "stream",
     "text": [
      "Running optimization with 4 CPUs..."
     ]
    },
    {
     "name": "stdout",
     "output_type": "stream",
     "text": [
      "\n"
     ]
    },
    {
     "name": "stdout",
     "output_type": "stream",
     "text": [
      "\t2nd phase with SIR-F model: finished 789 trials in 0 min 55 sec"
     ]
    },
    {
     "name": "stdout",
     "output_type": "stream",
     "text": [
      "\n"
     ]
    },
    {
     "name": "stdout",
     "output_type": "stream",
     "text": [
      "\t1st phase with SIR-F model: finished 875 trials in 1 min 0 sec"
     ]
    },
    {
     "name": "stdout",
     "output_type": "stream",
     "text": [
      "\n"
     ]
    },
    {
     "name": "stdout",
     "output_type": "stream",
     "text": [
      "\t3rd phase with SIR-F model: finished 847 trials in 1 min 0 sec"
     ]
    },
    {
     "name": "stdout",
     "output_type": "stream",
     "text": [
      "\n"
     ]
    },
    {
     "name": "stdout",
     "output_type": "stream",
     "text": [
      "\t4th phase with SIR-F model: finished 863 trials in 1 min 0 sec"
     ]
    },
    {
     "name": "stdout",
     "output_type": "stream",
     "text": [
      "\n"
     ]
    },
    {
     "name": "stdout",
     "output_type": "stream",
     "text": [
      "\t5th phase with SIR-F model: finished 877 trials in 1 min 0 sec"
     ]
    },
    {
     "name": "stdout",
     "output_type": "stream",
     "text": [
      "\n"
     ]
    },
    {
     "name": "stdout",
     "output_type": "stream",
     "text": [
      "\t7th phase with SIR-F model: finished 849 trials in 1 min 0 sec"
     ]
    },
    {
     "name": "stdout",
     "output_type": "stream",
     "text": [
      "\n"
     ]
    },
    {
     "name": "stdout",
     "output_type": "stream",
     "text": [
      "\t6th phase with SIR-F model: finished 873 trials in 1 min 1 sec"
     ]
    },
    {
     "name": "stdout",
     "output_type": "stream",
     "text": [
      "\n"
     ]
    },
    {
     "name": "stdout",
     "output_type": "stream",
     "text": [
      "\t8th phase with SIR-F model: finished 881 trials in 1 min 0 sec"
     ]
    },
    {
     "name": "stdout",
     "output_type": "stream",
     "text": [
      "\n"
     ]
    },
    {
     "name": "stdout",
     "output_type": "stream",
     "text": [
      "\t9th phase with SIR-F model: finished 514 trials in 0 min 20 sec"
     ]
    },
    {
     "name": "stdout",
     "output_type": "stream",
     "text": [
      "\n"
     ]
    },
    {
     "name": "stdout",
     "output_type": "stream",
     "text": [
      "Completed optimization. Total: 2 min 17 sec"
     ]
    },
    {
     "name": "stdout",
     "output_type": "stream",
     "text": [
      "\n"
     ]
    },
    {
     "name": "stdout",
     "output_type": "stream",
     "text": [
      "\n",
      "--------------------Iran--------------------"
     ]
    },
    {
     "name": "stdout",
     "output_type": "stream",
     "text": [
      "\n"
     ]
    },
    {
     "name": "stdout",
     "output_type": "stream",
     "text": [
      "\n",
      "<Main scenario: parameter estimation>"
     ]
    },
    {
     "name": "stdout",
     "output_type": "stream",
     "text": [
      "\n"
     ]
    },
    {
     "name": "stdout",
     "output_type": "stream",
     "text": [
      "Running optimization with 4 CPUs..."
     ]
    },
    {
     "name": "stdout",
     "output_type": "stream",
     "text": [
      "\n"
     ]
    },
    {
     "name": "stdout",
     "output_type": "stream",
     "text": [
      "\t2nd phase with SIR-F model: finished 197 trials in 0 min 10 sec"
     ]
    },
    {
     "name": "stdout",
     "output_type": "stream",
     "text": [
      "\n"
     ]
    },
    {
     "name": "stdout",
     "output_type": "stream",
     "text": [
      "\t5th phase with SIR-F model: finished 230 trials in 0 min 10 sec"
     ]
    },
    {
     "name": "stdout",
     "output_type": "stream",
     "text": [
      "\n"
     ]
    },
    {
     "name": "stdout",
     "output_type": "stream",
     "text": [
      "\t3rd phase with SIR-F model: finished 503 trials in 0 min 25 sec"
     ]
    },
    {
     "name": "stdout",
     "output_type": "stream",
     "text": [
      "\n"
     ]
    },
    {
     "name": "stdout",
     "output_type": "stream",
     "text": [
      "\t7th phase with SIR-F model: finished 468 trials in 0 min 25 sec"
     ]
    },
    {
     "name": "stdout",
     "output_type": "stream",
     "text": [
      "\n"
     ]
    },
    {
     "name": "stdout",
     "output_type": "stream",
     "text": [
      "\t8th phase with SIR-F model: finished 67 trials in 0 min 5 sec"
     ]
    },
    {
     "name": "stdout",
     "output_type": "stream",
     "text": [
      "\n"
     ]
    },
    {
     "name": "stdout",
     "output_type": "stream",
     "text": [
      "\t1st phase with SIR-F model: finished 1002 trials in 1 min 0 sec"
     ]
    },
    {
     "name": "stdout",
     "output_type": "stream",
     "text": [
      "\n"
     ]
    },
    {
     "name": "stdout",
     "output_type": "stream",
     "text": [
      "\t4th phase with SIR-F model: finished 981 trials in 1 min 0 sec"
     ]
    },
    {
     "name": "stdout",
     "output_type": "stream",
     "text": [
      "\n"
     ]
    },
    {
     "name": "stdout",
     "output_type": "stream",
     "text": [
      "\t6th phase with SIR-F model: finished 1003 trials in 1 min 0 sec"
     ]
    },
    {
     "name": "stdout",
     "output_type": "stream",
     "text": [
      "\n"
     ]
    },
    {
     "name": "stdout",
     "output_type": "stream",
     "text": [
      "\t9th phase with SIR-F model: finished 541 trials in 0 min 30 sec"
     ]
    },
    {
     "name": "stdout",
     "output_type": "stream",
     "text": [
      "\n"
     ]
    },
    {
     "name": "stdout",
     "output_type": "stream",
     "text": [
      "Completed optimization. Total: 1 min 28 sec"
     ]
    },
    {
     "name": "stdout",
     "output_type": "stream",
     "text": [
      "\n"
     ]
    },
    {
     "name": "stdout",
     "output_type": "stream",
     "text": [
      "\n",
      "--------------------Poland--------------------"
     ]
    },
    {
     "name": "stdout",
     "output_type": "stream",
     "text": [
      "\n"
     ]
    },
    {
     "name": "stdout",
     "output_type": "stream",
     "text": [
      "\n",
      "<Main scenario: parameter estimation>"
     ]
    },
    {
     "name": "stdout",
     "output_type": "stream",
     "text": [
      "\n"
     ]
    },
    {
     "name": "stdout",
     "output_type": "stream",
     "text": [
      "Running optimization with 4 CPUs..."
     ]
    },
    {
     "name": "stdout",
     "output_type": "stream",
     "text": [
      "\n"
     ]
    },
    {
     "name": "stdout",
     "output_type": "stream",
     "text": [
      "\t3rd phase with SIR-F model: finished 232 trials in 0 min 15 sec"
     ]
    },
    {
     "name": "stdout",
     "output_type": "stream",
     "text": [
      "\n"
     ]
    },
    {
     "name": "stdout",
     "output_type": "stream",
     "text": [
      "\t1st phase with SIR-F model: finished 383 trials in 0 min 25 sec"
     ]
    },
    {
     "name": "stdout",
     "output_type": "stream",
     "text": [
      "\n"
     ]
    },
    {
     "name": "stdout",
     "output_type": "stream",
     "text": [
      "\t2nd phase with SIR-F model: finished 380 trials in 0 min 25 sec"
     ]
    },
    {
     "name": "stdout",
     "output_type": "stream",
     "text": [
      "\n"
     ]
    },
    {
     "name": "stdout",
     "output_type": "stream",
     "text": [
      "\t5th phase with SIR-F model: finished 395 trials in 0 min 25 sec"
     ]
    },
    {
     "name": "stdout",
     "output_type": "stream",
     "text": [
      "\n"
     ]
    },
    {
     "name": "stdout",
     "output_type": "stream",
     "text": [
      "\t8th phase with SIR-F model: finished 172 trials in 0 min 10 sec"
     ]
    },
    {
     "name": "stdout",
     "output_type": "stream",
     "text": [
      "\n"
     ]
    },
    {
     "name": "stdout",
     "output_type": "stream",
     "text": [
      "\t4th phase with SIR-F model: finished 806 trials in 0 min 55 sec"
     ]
    },
    {
     "name": "stdout",
     "output_type": "stream",
     "text": [
      "\n"
     ]
    },
    {
     "name": "stdout",
     "output_type": "stream",
     "text": [
      "\t7th phase with SIR-F model: finished 631 trials in 0 min 40 sec"
     ]
    },
    {
     "name": "stdout",
     "output_type": "stream",
     "text": [
      "\n"
     ]
    },
    {
     "name": "stdout",
     "output_type": "stream",
     "text": [
      "\t9th phase with SIR-F model: finished 346 trials in 0 min 20 sec"
     ]
    },
    {
     "name": "stdout",
     "output_type": "stream",
     "text": [
      "\n"
     ]
    },
    {
     "name": "stdout",
     "output_type": "stream",
     "text": [
      "\t6th phase with SIR-F model: finished 987 trials in 1 min 0 sec"
     ]
    },
    {
     "name": "stdout",
     "output_type": "stream",
     "text": [
      "\n"
     ]
    },
    {
     "name": "stdout",
     "output_type": "stream",
     "text": [
      "Completed optimization. Total: 1 min 27 sec"
     ]
    },
    {
     "name": "stdout",
     "output_type": "stream",
     "text": [
      "\n"
     ]
    },
    {
     "name": "stdout",
     "output_type": "stream",
     "text": [
      "\n",
      "--------------------Romania--------------------"
     ]
    },
    {
     "name": "stdout",
     "output_type": "stream",
     "text": [
      "\n"
     ]
    },
    {
     "name": "stdout",
     "output_type": "stream",
     "text": [
      "\n",
      "<Main scenario: parameter estimation>"
     ]
    },
    {
     "name": "stdout",
     "output_type": "stream",
     "text": [
      "\n"
     ]
    },
    {
     "name": "stdout",
     "output_type": "stream",
     "text": [
      "Running optimization with 4 CPUs..."
     ]
    },
    {
     "name": "stdout",
     "output_type": "stream",
     "text": [
      "\n"
     ]
    },
    {
     "name": "stdout",
     "output_type": "stream",
     "text": [
      "\t4th phase with SIR-F model: finished 163 trials in 0 min 10 sec"
     ]
    },
    {
     "name": "stdout",
     "output_type": "stream",
     "text": [
      "\n"
     ]
    },
    {
     "name": "stdout",
     "output_type": "stream",
     "text": [
      "\t3rd phase with SIR-F model: finished 232 trials in 0 min 15 sec"
     ]
    },
    {
     "name": "stdout",
     "output_type": "stream",
     "text": [
      "\n"
     ]
    },
    {
     "name": "stdout",
     "output_type": "stream",
     "text": [
      "\t2nd phase with SIR-F model: finished 301 trials in 0 min 20 sec"
     ]
    },
    {
     "name": "stdout",
     "output_type": "stream",
     "text": [
      "\n"
     ]
    },
    {
     "name": "stdout",
     "output_type": "stream",
     "text": [
      "\t6th phase with SIR-F model: finished 165 trials in 0 min 10 sec"
     ]
    },
    {
     "name": "stdout",
     "output_type": "stream",
     "text": [
      "\n"
     ]
    },
    {
     "name": "stdout",
     "output_type": "stream",
     "text": [
      "\t8th phase with SIR-F model: finished 240 trials in 0 min 15 sec"
     ]
    },
    {
     "name": "stdout",
     "output_type": "stream",
     "text": [
      "\n"
     ]
    },
    {
     "name": "stdout",
     "output_type": "stream",
     "text": [
      "\t1st phase with SIR-F model: finished 713 trials in 0 min 50 sec"
     ]
    },
    {
     "name": "stdout",
     "output_type": "stream",
     "text": [
      "\n"
     ]
    },
    {
     "name": "stdout",
     "output_type": "stream",
     "text": [
      "\t7th phase with SIR-F model: finished 456 trials in 0 min 30 sec"
     ]
    },
    {
     "name": "stdout",
     "output_type": "stream",
     "text": [
      "\n"
     ]
    },
    {
     "name": "stdout",
     "output_type": "stream",
     "text": [
      "\t5th phase with SIR-F model: finished 860 trials in 1 min 0 sec"
     ]
    },
    {
     "name": "stdout",
     "output_type": "stream",
     "text": [
      "\n"
     ]
    },
    {
     "name": "stdout",
     "output_type": "stream",
     "text": [
      "\t9th phase with SIR-F model: finished 1191 trials in 1 min 0 sec"
     ]
    },
    {
     "name": "stdout",
     "output_type": "stream",
     "text": [
      "\n"
     ]
    },
    {
     "name": "stdout",
     "output_type": "stream",
     "text": [
      "Completed optimization. Total: 1 min 43 sec"
     ]
    },
    {
     "name": "stdout",
     "output_type": "stream",
     "text": [
      "\n"
     ]
    },
    {
     "name": "stdout",
     "output_type": "stream",
     "text": [
      "\n",
      "--------------------United Arab Emirates--------------------"
     ]
    },
    {
     "name": "stdout",
     "output_type": "stream",
     "text": [
      "\n"
     ]
    },
    {
     "name": "stdout",
     "output_type": "stream",
     "text": [
      "\n",
      "<Main scenario: parameter estimation>"
     ]
    },
    {
     "name": "stdout",
     "output_type": "stream",
     "text": [
      "\n"
     ]
    },
    {
     "name": "stdout",
     "output_type": "stream",
     "text": [
      "Running optimization with 4 CPUs..."
     ]
    },
    {
     "name": "stdout",
     "output_type": "stream",
     "text": [
      "\n"
     ]
    },
    {
     "name": "stdout",
     "output_type": "stream",
     "text": [
      "\t2nd phase with SIR-F model: finished 821 trials in 1 min 0 sec"
     ]
    },
    {
     "name": "stdout",
     "output_type": "stream",
     "text": [
      "\n"
     ]
    },
    {
     "name": "stdout",
     "output_type": "stream",
     "text": [
      "\t1st phase with SIR-F model: finished 835 trials in 1 min 0 sec"
     ]
    },
    {
     "name": "stdout",
     "output_type": "stream",
     "text": [
      "\n"
     ]
    },
    {
     "name": "stdout",
     "output_type": "stream",
     "text": [
      "\t3rd phase with SIR-F model: finished 851 trials in 1 min 0 sec"
     ]
    },
    {
     "name": "stdout",
     "output_type": "stream",
     "text": [
      "\n"
     ]
    },
    {
     "name": "stdout",
     "output_type": "stream",
     "text": [
      "\t4th phase with SIR-F model: finished 858 trials in 1 min 0 sec"
     ]
    },
    {
     "name": "stdout",
     "output_type": "stream",
     "text": [
      "\n"
     ]
    },
    {
     "name": "stdout",
     "output_type": "stream",
     "text": [
      "\t8th phase with SIR-F model: finished 253 trials in 0 min 15 sec"
     ]
    },
    {
     "name": "stdout",
     "output_type": "stream",
     "text": [
      "\n"
     ]
    },
    {
     "name": "stdout",
     "output_type": "stream",
     "text": [
      "\t5th phase with SIR-F model: finished 980 trials in 1 min 0 sec"
     ]
    },
    {
     "name": "stdout",
     "output_type": "stream",
     "text": [
      "\n"
     ]
    },
    {
     "name": "stdout",
     "output_type": "stream",
     "text": [
      "\t6th phase with SIR-F model: finished 963 trials in 1 min 0 sec"
     ]
    },
    {
     "name": "stdout",
     "output_type": "stream",
     "text": [
      "\n"
     ]
    },
    {
     "name": "stdout",
     "output_type": "stream",
     "text": [
      "\t7th phase with SIR-F model: finished 961 trials in 1 min 0 sec"
     ]
    },
    {
     "name": "stdout",
     "output_type": "stream",
     "text": [
      "\n"
     ]
    },
    {
     "name": "stdout",
     "output_type": "stream",
     "text": [
      "\t9th phase with SIR-F model: finished 955 trials in 0 min 55 sec"
     ]
    },
    {
     "name": "stdout",
     "output_type": "stream",
     "text": [
      "\n"
     ]
    },
    {
     "name": "stdout",
     "output_type": "stream",
     "text": [
      "Completed optimization. Total: 2 min 14 sec"
     ]
    },
    {
     "name": "stdout",
     "output_type": "stream",
     "text": [
      "\n"
     ]
    },
    {
     "name": "stdout",
     "output_type": "stream",
     "text": [
      "\n",
      "--------------------Guinea--------------------"
     ]
    },
    {
     "name": "stdout",
     "output_type": "stream",
     "text": [
      "\n"
     ]
    },
    {
     "name": "stdout",
     "output_type": "stream",
     "text": [
      "\n",
      "<Main scenario: parameter estimation>"
     ]
    },
    {
     "name": "stdout",
     "output_type": "stream",
     "text": [
      "\n"
     ]
    },
    {
     "name": "stdout",
     "output_type": "stream",
     "text": [
      "Running optimization with 4 CPUs..."
     ]
    },
    {
     "name": "stdout",
     "output_type": "stream",
     "text": [
      "\n"
     ]
    },
    {
     "name": "stdout",
     "output_type": "stream",
     "text": [
      "\t1st phase with SIR-F model: finished 799 trials in 1 min 0 sec"
     ]
    },
    {
     "name": "stdout",
     "output_type": "stream",
     "text": [
      "\n"
     ]
    },
    {
     "name": "stdout",
     "output_type": "stream",
     "text": [
      "\t2nd phase with SIR-F model: finished 833 trials in 1 min 0 sec"
     ]
    },
    {
     "name": "stdout",
     "output_type": "stream",
     "text": [
      "\n"
     ]
    },
    {
     "name": "stdout",
     "output_type": "stream",
     "text": [
      "\t3rd phase with SIR-F model: finished 830 trials in 1 min 0 sec"
     ]
    },
    {
     "name": "stdout",
     "output_type": "stream",
     "text": [
      "\n"
     ]
    },
    {
     "name": "stdout",
     "output_type": "stream",
     "text": [
      "\t4th phase with SIR-F model: finished 851 trials in 1 min 0 sec"
     ]
    },
    {
     "name": "stdout",
     "output_type": "stream",
     "text": [
      "\n"
     ]
    },
    {
     "name": "stdout",
     "output_type": "stream",
     "text": [
      "\t5th phase with SIR-F model: finished 886 trials in 1 min 0 sec"
     ]
    },
    {
     "name": "stdout",
     "output_type": "stream",
     "text": [
      "\n"
     ]
    },
    {
     "name": "stdout",
     "output_type": "stream",
     "text": [
      "\t6th phase with SIR-F model: finished 850 trials in 1 min 0 sec"
     ]
    },
    {
     "name": "stdout",
     "output_type": "stream",
     "text": [
      "\n"
     ]
    },
    {
     "name": "stdout",
     "output_type": "stream",
     "text": [
      "\t7th phase with SIR-F model: finished 887 trials in 1 min 0 sec"
     ]
    },
    {
     "name": "stdout",
     "output_type": "stream",
     "text": [
      "\n"
     ]
    },
    {
     "name": "stdout",
     "output_type": "stream",
     "text": [
      "\t8th phase with SIR-F model: finished 889 trials in 1 min 0 sec"
     ]
    },
    {
     "name": "stdout",
     "output_type": "stream",
     "text": [
      "\n"
     ]
    },
    {
     "name": "stdout",
     "output_type": "stream",
     "text": [
      "\t9th phase with SIR-F model: finished 1421 trials in 1 min 0 sec"
     ]
    },
    {
     "name": "stdout",
     "output_type": "stream",
     "text": [
      "\n"
     ]
    },
    {
     "name": "stdout",
     "output_type": "stream",
     "text": [
      "Completed optimization. Total: 3 min 3 sec"
     ]
    },
    {
     "name": "stdout",
     "output_type": "stream",
     "text": [
      "\n"
     ]
    }
   ],
   "source": [
    "# Parameter estimation with SIR-F model\n",
    "analyser.estimate(cs.SIRF)"
   ]
  },
  {
   "cell_type": "code",
   "execution_count": 11,
   "metadata": {
    "collapsed": false
   },
   "outputs": [
    {
     "data": {
      "text/html": [
       "<div>\n",
       "<style scoped>\n",
       "    .dataframe tbody tr th:only-of-type {\n",
       "        vertical-align: middle;\n",
       "    }\n",
       "\n",
       "    .dataframe tbody tr th {\n",
       "        vertical-align: top;\n",
       "    }\n",
       "\n",
       "    .dataframe thead th {\n",
       "        text-align: right;\n",
       "    }\n",
       "</style>\n",
       "<table border=\"1\" class=\"dataframe\">\n",
       "  <thead>\n",
       "    <tr style=\"text-align: right;\">\n",
       "      <th></th>\n",
       "      <th></th>\n",
       "      <th>Type</th>\n",
       "      <th>Start</th>\n",
       "      <th>End</th>\n",
       "      <th>Population</th>\n",
       "      <th>ODE</th>\n",
       "      <th>rho</th>\n",
       "      <th>sigma</th>\n",
       "      <th>theta</th>\n",
       "      <th>kappa</th>\n",
       "      <th>tau</th>\n",
       "      <th>Rt</th>\n",
       "      <th>alpha1 [-]</th>\n",
       "      <th>1/alpha2 [day]</th>\n",
       "      <th>1/beta [day]</th>\n",
       "      <th>1/gamma [day]</th>\n",
       "      <th>RMSLE</th>\n",
       "      <th>Trials</th>\n",
       "      <th>Runtime</th>\n",
       "    </tr>\n",
       "    <tr>\n",
       "      <th>Country</th>\n",
       "      <th>Phase</th>\n",
       "      <th></th>\n",
       "      <th></th>\n",
       "      <th></th>\n",
       "      <th></th>\n",
       "      <th></th>\n",
       "      <th></th>\n",
       "      <th></th>\n",
       "      <th></th>\n",
       "      <th></th>\n",
       "      <th></th>\n",
       "      <th></th>\n",
       "      <th></th>\n",
       "      <th></th>\n",
       "      <th></th>\n",
       "      <th></th>\n",
       "      <th></th>\n",
       "      <th></th>\n",
       "      <th></th>\n",
       "    </tr>\n",
       "  </thead>\n",
       "  <tbody>\n",
       "    <tr>\n",
       "      <th rowspan=\"9\" valign=\"top\">Senegal</th>\n",
       "      <th>1st</th>\n",
       "      <td>Past</td>\n",
       "      <td>29Apr2020</td>\n",
       "      <td>10May2020</td>\n",
       "      <td>15854360</td>\n",
       "      <td>SIR-F</td>\n",
       "      <td>0.024912</td>\n",
       "      <td>0.009826</td>\n",
       "      <td>0.000748</td>\n",
       "      <td>0.000157</td>\n",
       "      <td>360</td>\n",
       "      <td>2.49</td>\n",
       "      <td>0.001</td>\n",
       "      <td>1587</td>\n",
       "      <td>10</td>\n",
       "      <td>25</td>\n",
       "      <td>0.111542</td>\n",
       "      <td>875</td>\n",
       "      <td>1 min 0 sec</td>\n",
       "    </tr>\n",
       "    <tr>\n",
       "      <th>2nd</th>\n",
       "      <td>Past</td>\n",
       "      <td>11May2020</td>\n",
       "      <td>20May2020</td>\n",
       "      <td>15854360</td>\n",
       "      <td>SIR-F</td>\n",
       "      <td>0.017227</td>\n",
       "      <td>0.009815</td>\n",
       "      <td>0.001476</td>\n",
       "      <td>0.000237</td>\n",
       "      <td>360</td>\n",
       "      <td>1.71</td>\n",
       "      <td>0.001</td>\n",
       "      <td>1054</td>\n",
       "      <td>14</td>\n",
       "      <td>25</td>\n",
       "      <td>0.049055</td>\n",
       "      <td>789</td>\n",
       "      <td>0 min 55 sec</td>\n",
       "    </tr>\n",
       "    <tr>\n",
       "      <th>3rd</th>\n",
       "      <td>Past</td>\n",
       "      <td>21May2020</td>\n",
       "      <td>30May2020</td>\n",
       "      <td>15854360</td>\n",
       "      <td>SIR-F</td>\n",
       "      <td>0.012210</td>\n",
       "      <td>0.008277</td>\n",
       "      <td>0.000657</td>\n",
       "      <td>0.000117</td>\n",
       "      <td>360</td>\n",
       "      <td>1.45</td>\n",
       "      <td>0.001</td>\n",
       "      <td>2144</td>\n",
       "      <td>20</td>\n",
       "      <td>30</td>\n",
       "      <td>0.036096</td>\n",
       "      <td>847</td>\n",
       "      <td>1 min 0 sec</td>\n",
       "    </tr>\n",
       "    <tr>\n",
       "      <th>4th</th>\n",
       "      <td>Past</td>\n",
       "      <td>31May2020</td>\n",
       "      <td>08Jun2020</td>\n",
       "      <td>15854360</td>\n",
       "      <td>SIR-F</td>\n",
       "      <td>0.013035</td>\n",
       "      <td>0.015139</td>\n",
       "      <td>0.000633</td>\n",
       "      <td>0.000117</td>\n",
       "      <td>360</td>\n",
       "      <td>0.85</td>\n",
       "      <td>0.001</td>\n",
       "      <td>2143</td>\n",
       "      <td>19</td>\n",
       "      <td>16</td>\n",
       "      <td>0.030624</td>\n",
       "      <td>863</td>\n",
       "      <td>1 min 0 sec</td>\n",
       "    </tr>\n",
       "    <tr>\n",
       "      <th>5th</th>\n",
       "      <td>Past</td>\n",
       "      <td>09Jun2020</td>\n",
       "      <td>16Jun2020</td>\n",
       "      <td>15854360</td>\n",
       "      <td>SIR-F</td>\n",
       "      <td>0.015992</td>\n",
       "      <td>0.015314</td>\n",
       "      <td>0.016109</td>\n",
       "      <td>0.000036</td>\n",
       "      <td>360</td>\n",
       "      <td>1.02</td>\n",
       "      <td>0.016</td>\n",
       "      <td>6888</td>\n",
       "      <td>15</td>\n",
       "      <td>16</td>\n",
       "      <td>0.026990</td>\n",
       "      <td>877</td>\n",
       "      <td>1 min 0 sec</td>\n",
       "    </tr>\n",
       "    <tr>\n",
       "      <th>6th</th>\n",
       "      <td>Past</td>\n",
       "      <td>17Jun2020</td>\n",
       "      <td>25Jun2020</td>\n",
       "      <td>15854360</td>\n",
       "      <td>SIR-F</td>\n",
       "      <td>0.015184</td>\n",
       "      <td>0.009351</td>\n",
       "      <td>0.022309</td>\n",
       "      <td>0.000004</td>\n",
       "      <td>360</td>\n",
       "      <td>1.59</td>\n",
       "      <td>0.022</td>\n",
       "      <td>68241</td>\n",
       "      <td>16</td>\n",
       "      <td>26</td>\n",
       "      <td>0.016727</td>\n",
       "      <td>873</td>\n",
       "      <td>1 min 1 sec</td>\n",
       "    </tr>\n",
       "    <tr>\n",
       "      <th>7th</th>\n",
       "      <td>Past</td>\n",
       "      <td>26Jun2020</td>\n",
       "      <td>10Jul2020</td>\n",
       "      <td>15854360</td>\n",
       "      <td>SIR-F</td>\n",
       "      <td>0.011698</td>\n",
       "      <td>0.007907</td>\n",
       "      <td>0.016817</td>\n",
       "      <td>0.000170</td>\n",
       "      <td>360</td>\n",
       "      <td>1.42</td>\n",
       "      <td>0.017</td>\n",
       "      <td>1472</td>\n",
       "      <td>21</td>\n",
       "      <td>31</td>\n",
       "      <td>0.036387</td>\n",
       "      <td>849</td>\n",
       "      <td>1 min 0 sec</td>\n",
       "    </tr>\n",
       "    <tr>\n",
       "      <th>8th</th>\n",
       "      <td>Past</td>\n",
       "      <td>11Jul2020</td>\n",
       "      <td>22Jul2020</td>\n",
       "      <td>15854360</td>\n",
       "      <td>SIR-F</td>\n",
       "      <td>0.009144</td>\n",
       "      <td>0.006344</td>\n",
       "      <td>0.000630</td>\n",
       "      <td>0.000235</td>\n",
       "      <td>360</td>\n",
       "      <td>1.39</td>\n",
       "      <td>0.001</td>\n",
       "      <td>1065</td>\n",
       "      <td>27</td>\n",
       "      <td>39</td>\n",
       "      <td>0.016305</td>\n",
       "      <td>881</td>\n",
       "      <td>1 min 0 sec</td>\n",
       "    </tr>\n",
       "    <tr>\n",
       "      <th>9th</th>\n",
       "      <td>Past</td>\n",
       "      <td>23Jul2020</td>\n",
       "      <td>03Aug2020</td>\n",
       "      <td>15854360</td>\n",
       "      <td>SIR-F</td>\n",
       "      <td>0.007912</td>\n",
       "      <td>0.004888</td>\n",
       "      <td>0.001014</td>\n",
       "      <td>0.000215</td>\n",
       "      <td>360</td>\n",
       "      <td>1.55</td>\n",
       "      <td>0.001</td>\n",
       "      <td>1162</td>\n",
       "      <td>31</td>\n",
       "      <td>51</td>\n",
       "      <td>0.022924</td>\n",
       "      <td>514</td>\n",
       "      <td>0 min 20 sec</td>\n",
       "    </tr>\n",
       "    <tr>\n",
       "      <th rowspan=\"9\" valign=\"top\">Iran</th>\n",
       "      <th>1st</th>\n",
       "      <td>Past</td>\n",
       "      <td>28Mar2020</td>\n",
       "      <td>13Apr2020</td>\n",
       "      <td>81800269</td>\n",
       "      <td>SIR-F</td>\n",
       "      <td>0.021698</td>\n",
       "      <td>0.018677</td>\n",
       "      <td>0.063927</td>\n",
       "      <td>0.000121</td>\n",
       "      <td>360</td>\n",
       "      <td>1.08</td>\n",
       "      <td>0.064</td>\n",
       "      <td>2067</td>\n",
       "      <td>11</td>\n",
       "      <td>13</td>\n",
       "      <td>0.272205</td>\n",
       "      <td>1002</td>\n",
       "      <td>1 min 0 sec</td>\n",
       "    </tr>\n",
       "    <tr>\n",
       "      <th>2nd</th>\n",
       "      <td>Past</td>\n",
       "      <td>14Apr2020</td>\n",
       "      <td>06May2020</td>\n",
       "      <td>81800269</td>\n",
       "      <td>SIR-F</td>\n",
       "      <td>0.017682</td>\n",
       "      <td>0.024103</td>\n",
       "      <td>0.015629</td>\n",
       "      <td>0.000997</td>\n",
       "      <td>360</td>\n",
       "      <td>0.69</td>\n",
       "      <td>0.016</td>\n",
       "      <td>250</td>\n",
       "      <td>14</td>\n",
       "      <td>10</td>\n",
       "      <td>0.081512</td>\n",
       "      <td>197</td>\n",
       "      <td>0 min 10 sec</td>\n",
       "    </tr>\n",
       "    <tr>\n",
       "      <th>3rd</th>\n",
       "      <td>Past</td>\n",
       "      <td>07May2020</td>\n",
       "      <td>21May2020</td>\n",
       "      <td>81800269</td>\n",
       "      <td>SIR-F</td>\n",
       "      <td>0.026677</td>\n",
       "      <td>0.018013</td>\n",
       "      <td>0.019455</td>\n",
       "      <td>0.000267</td>\n",
       "      <td>360</td>\n",
       "      <td>1.43</td>\n",
       "      <td>0.019</td>\n",
       "      <td>934</td>\n",
       "      <td>9</td>\n",
       "      <td>13</td>\n",
       "      <td>0.015200</td>\n",
       "      <td>503</td>\n",
       "      <td>0 min 25 sec</td>\n",
       "    </tr>\n",
       "    <tr>\n",
       "      <th>4th</th>\n",
       "      <td>Past</td>\n",
       "      <td>22May2020</td>\n",
       "      <td>03Jun2020</td>\n",
       "      <td>81800269</td>\n",
       "      <td>SIR-F</td>\n",
       "      <td>0.024146</td>\n",
       "      <td>0.019488</td>\n",
       "      <td>0.018003</td>\n",
       "      <td>0.000173</td>\n",
       "      <td>360</td>\n",
       "      <td>1.21</td>\n",
       "      <td>0.018</td>\n",
       "      <td>1442</td>\n",
       "      <td>10</td>\n",
       "      <td>12</td>\n",
       "      <td>0.025000</td>\n",
       "      <td>981</td>\n",
       "      <td>1 min 0 sec</td>\n",
       "    </tr>\n",
       "    <tr>\n",
       "      <th>5th</th>\n",
       "      <td>Past</td>\n",
       "      <td>04Jun2020</td>\n",
       "      <td>15Jun2020</td>\n",
       "      <td>81800269</td>\n",
       "      <td>SIR-F</td>\n",
       "      <td>0.019610</td>\n",
       "      <td>0.017561</td>\n",
       "      <td>0.011608</td>\n",
       "      <td>0.000540</td>\n",
       "      <td>360</td>\n",
       "      <td>1.07</td>\n",
       "      <td>0.012</td>\n",
       "      <td>463</td>\n",
       "      <td>12</td>\n",
       "      <td>14</td>\n",
       "      <td>0.014921</td>\n",
       "      <td>230</td>\n",
       "      <td>0 min 10 sec</td>\n",
       "    </tr>\n",
       "    <tr>\n",
       "      <th>6th</th>\n",
       "      <td>Past</td>\n",
       "      <td>16Jun2020</td>\n",
       "      <td>27Jun2020</td>\n",
       "      <td>81800269</td>\n",
       "      <td>SIR-F</td>\n",
       "      <td>0.020968</td>\n",
       "      <td>0.020797</td>\n",
       "      <td>0.022060</td>\n",
       "      <td>0.000527</td>\n",
       "      <td>360</td>\n",
       "      <td>0.96</td>\n",
       "      <td>0.022</td>\n",
       "      <td>474</td>\n",
       "      <td>11</td>\n",
       "      <td>12</td>\n",
       "      <td>0.023557</td>\n",
       "      <td>1003</td>\n",
       "      <td>1 min 0 sec</td>\n",
       "    </tr>\n",
       "    <tr>\n",
       "      <th>7th</th>\n",
       "      <td>Past</td>\n",
       "      <td>28Jun2020</td>\n",
       "      <td>09Jul2020</td>\n",
       "      <td>81800269</td>\n",
       "      <td>SIR-F</td>\n",
       "      <td>0.022771</td>\n",
       "      <td>0.023657</td>\n",
       "      <td>0.057057</td>\n",
       "      <td>0.000066</td>\n",
       "      <td>360</td>\n",
       "      <td>0.91</td>\n",
       "      <td>0.057</td>\n",
       "      <td>3760</td>\n",
       "      <td>10</td>\n",
       "      <td>10</td>\n",
       "      <td>0.010533</td>\n",
       "      <td>468</td>\n",
       "      <td>0 min 25 sec</td>\n",
       "    </tr>\n",
       "    <tr>\n",
       "      <th>8th</th>\n",
       "      <td>Past</td>\n",
       "      <td>10Jul2020</td>\n",
       "      <td>21Jul2020</td>\n",
       "      <td>81800269</td>\n",
       "      <td>SIR-F</td>\n",
       "      <td>0.024874</td>\n",
       "      <td>0.026159</td>\n",
       "      <td>0.026605</td>\n",
       "      <td>0.001580</td>\n",
       "      <td>360</td>\n",
       "      <td>0.87</td>\n",
       "      <td>0.027</td>\n",
       "      <td>158</td>\n",
       "      <td>10</td>\n",
       "      <td>9</td>\n",
       "      <td>0.010587</td>\n",
       "      <td>67</td>\n",
       "      <td>0 min 5 sec</td>\n",
       "    </tr>\n",
       "    <tr>\n",
       "      <th>9th</th>\n",
       "      <td>Past</td>\n",
       "      <td>22Jul2020</td>\n",
       "      <td>03Aug2020</td>\n",
       "      <td>81800269</td>\n",
       "      <td>SIR-F</td>\n",
       "      <td>0.027360</td>\n",
       "      <td>0.022609</td>\n",
       "      <td>0.045100</td>\n",
       "      <td>0.001060</td>\n",
       "      <td>360</td>\n",
       "      <td>1.10</td>\n",
       "      <td>0.045</td>\n",
       "      <td>235</td>\n",
       "      <td>9</td>\n",
       "      <td>11</td>\n",
       "      <td>0.008034</td>\n",
       "      <td>541</td>\n",
       "      <td>0 min 30 sec</td>\n",
       "    </tr>\n",
       "    <tr>\n",
       "      <th rowspan=\"9\" valign=\"top\">Poland</th>\n",
       "      <th>1st</th>\n",
       "      <td>Past</td>\n",
       "      <td>23Apr2020</td>\n",
       "      <td>05May2020</td>\n",
       "      <td>37974750</td>\n",
       "      <td>SIR-F</td>\n",
       "      <td>0.009004</td>\n",
       "      <td>0.006333</td>\n",
       "      <td>0.000266</td>\n",
       "      <td>0.000618</td>\n",
       "      <td>360</td>\n",
       "      <td>1.29</td>\n",
       "      <td>0.000</td>\n",
       "      <td>404</td>\n",
       "      <td>27</td>\n",
       "      <td>39</td>\n",
       "      <td>0.043514</td>\n",
       "      <td>383</td>\n",
       "      <td>0 min 25 sec</td>\n",
       "    </tr>\n",
       "    <tr>\n",
       "      <th>2nd</th>\n",
       "      <td>Past</td>\n",
       "      <td>06May2020</td>\n",
       "      <td>17May2020</td>\n",
       "      <td>37974750</td>\n",
       "      <td>SIR-F</td>\n",
       "      <td>0.008593</td>\n",
       "      <td>0.006490</td>\n",
       "      <td>0.000576</td>\n",
       "      <td>0.000426</td>\n",
       "      <td>360</td>\n",
       "      <td>1.24</td>\n",
       "      <td>0.001</td>\n",
       "      <td>586</td>\n",
       "      <td>29</td>\n",
       "      <td>38</td>\n",
       "      <td>0.015778</td>\n",
       "      <td>380</td>\n",
       "      <td>0 min 25 sec</td>\n",
       "    </tr>\n",
       "    <tr>\n",
       "      <th>3rd</th>\n",
       "      <td>Past</td>\n",
       "      <td>18May2020</td>\n",
       "      <td>25May2020</td>\n",
       "      <td>37974750</td>\n",
       "      <td>SIR-F</td>\n",
       "      <td>0.009889</td>\n",
       "      <td>0.006421</td>\n",
       "      <td>0.023906</td>\n",
       "      <td>0.000014</td>\n",
       "      <td>360</td>\n",
       "      <td>1.50</td>\n",
       "      <td>0.024</td>\n",
       "      <td>17575</td>\n",
       "      <td>25</td>\n",
       "      <td>38</td>\n",
       "      <td>0.011600</td>\n",
       "      <td>232</td>\n",
       "      <td>0 min 15 sec</td>\n",
       "    </tr>\n",
       "    <tr>\n",
       "      <th>4th</th>\n",
       "      <td>Past</td>\n",
       "      <td>26May2020</td>\n",
       "      <td>05Jun2020</td>\n",
       "      <td>37974750</td>\n",
       "      <td>SIR-F</td>\n",
       "      <td>0.007740</td>\n",
       "      <td>0.005298</td>\n",
       "      <td>0.032890</td>\n",
       "      <td>0.000002</td>\n",
       "      <td>360</td>\n",
       "      <td>1.41</td>\n",
       "      <td>0.033</td>\n",
       "      <td>103525</td>\n",
       "      <td>32</td>\n",
       "      <td>47</td>\n",
       "      <td>0.011575</td>\n",
       "      <td>806</td>\n",
       "      <td>0 min 55 sec</td>\n",
       "    </tr>\n",
       "    <tr>\n",
       "      <th>5th</th>\n",
       "      <td>Past</td>\n",
       "      <td>06Jun2020</td>\n",
       "      <td>15Jun2020</td>\n",
       "      <td>37974750</td>\n",
       "      <td>SIR-F</td>\n",
       "      <td>0.007695</td>\n",
       "      <td>0.003544</td>\n",
       "      <td>0.018110</td>\n",
       "      <td>0.000084</td>\n",
       "      <td>360</td>\n",
       "      <td>2.08</td>\n",
       "      <td>0.018</td>\n",
       "      <td>2965</td>\n",
       "      <td>32</td>\n",
       "      <td>70</td>\n",
       "      <td>0.012976</td>\n",
       "      <td>395</td>\n",
       "      <td>0 min 25 sec</td>\n",
       "    </tr>\n",
       "    <tr>\n",
       "      <th>6th</th>\n",
       "      <td>Past</td>\n",
       "      <td>16Jun2020</td>\n",
       "      <td>28Jun2020</td>\n",
       "      <td>37974750</td>\n",
       "      <td>SIR-F</td>\n",
       "      <td>0.005533</td>\n",
       "      <td>0.008328</td>\n",
       "      <td>0.048732</td>\n",
       "      <td>0.000002</td>\n",
       "      <td>360</td>\n",
       "      <td>0.63</td>\n",
       "      <td>0.049</td>\n",
       "      <td>103418</td>\n",
       "      <td>45</td>\n",
       "      <td>30</td>\n",
       "      <td>0.028353</td>\n",
       "      <td>987</td>\n",
       "      <td>1 min 0 sec</td>\n",
       "    </tr>\n",
       "    <tr>\n",
       "      <th>7th</th>\n",
       "      <td>Past</td>\n",
       "      <td>29Jun2020</td>\n",
       "      <td>10Jul2020</td>\n",
       "      <td>37974750</td>\n",
       "      <td>SIR-F</td>\n",
       "      <td>0.006291</td>\n",
       "      <td>0.010240</td>\n",
       "      <td>0.000210</td>\n",
       "      <td>0.000244</td>\n",
       "      <td>360</td>\n",
       "      <td>0.60</td>\n",
       "      <td>0.000</td>\n",
       "      <td>1022</td>\n",
       "      <td>39</td>\n",
       "      <td>24</td>\n",
       "      <td>0.015918</td>\n",
       "      <td>631</td>\n",
       "      <td>0 min 40 sec</td>\n",
       "    </tr>\n",
       "    <tr>\n",
       "      <th>8th</th>\n",
       "      <td>Past</td>\n",
       "      <td>11Jul2020</td>\n",
       "      <td>19Jul2020</td>\n",
       "      <td>37974750</td>\n",
       "      <td>SIR-F</td>\n",
       "      <td>0.008539</td>\n",
       "      <td>0.012788</td>\n",
       "      <td>0.000849</td>\n",
       "      <td>0.000150</td>\n",
       "      <td>360</td>\n",
       "      <td>0.66</td>\n",
       "      <td>0.001</td>\n",
       "      <td>1670</td>\n",
       "      <td>29</td>\n",
       "      <td>19</td>\n",
       "      <td>0.011700</td>\n",
       "      <td>172</td>\n",
       "      <td>0 min 10 sec</td>\n",
       "    </tr>\n",
       "    <tr>\n",
       "      <th>9th</th>\n",
       "      <td>Past</td>\n",
       "      <td>20Jul2020</td>\n",
       "      <td>03Aug2020</td>\n",
       "      <td>37974750</td>\n",
       "      <td>SIR-F</td>\n",
       "      <td>0.012587</td>\n",
       "      <td>0.008057</td>\n",
       "      <td>0.000301</td>\n",
       "      <td>0.000230</td>\n",
       "      <td>360</td>\n",
       "      <td>1.52</td>\n",
       "      <td>0.000</td>\n",
       "      <td>1086</td>\n",
       "      <td>19</td>\n",
       "      <td>31</td>\n",
       "      <td>0.024872</td>\n",
       "      <td>346</td>\n",
       "      <td>0 min 20 sec</td>\n",
       "    </tr>\n",
       "    <tr>\n",
       "      <th rowspan=\"9\" valign=\"top\">Romania</th>\n",
       "      <th>1st</th>\n",
       "      <td>Past</td>\n",
       "      <td>15Apr2020</td>\n",
       "      <td>25Apr2020</td>\n",
       "      <td>19466145</td>\n",
       "      <td>SIR-F</td>\n",
       "      <td>0.013428</td>\n",
       "      <td>0.006223</td>\n",
       "      <td>0.003901</td>\n",
       "      <td>0.000768</td>\n",
       "      <td>360</td>\n",
       "      <td>1.91</td>\n",
       "      <td>0.004</td>\n",
       "      <td>325</td>\n",
       "      <td>18</td>\n",
       "      <td>40</td>\n",
       "      <td>0.031859</td>\n",
       "      <td>713</td>\n",
       "      <td>0 min 50 sec</td>\n",
       "    </tr>\n",
       "    <tr>\n",
       "      <th>2nd</th>\n",
       "      <td>Past</td>\n",
       "      <td>26Apr2020</td>\n",
       "      <td>06May2020</td>\n",
       "      <td>19466145</td>\n",
       "      <td>SIR-F</td>\n",
       "      <td>0.010778</td>\n",
       "      <td>0.009183</td>\n",
       "      <td>0.000535</td>\n",
       "      <td>0.000776</td>\n",
       "      <td>360</td>\n",
       "      <td>1.08</td>\n",
       "      <td>0.001</td>\n",
       "      <td>322</td>\n",
       "      <td>23</td>\n",
       "      <td>27</td>\n",
       "      <td>0.031343</td>\n",
       "      <td>301</td>\n",
       "      <td>0 min 20 sec</td>\n",
       "    </tr>\n",
       "    <tr>\n",
       "      <th>3rd</th>\n",
       "      <td>Past</td>\n",
       "      <td>07May2020</td>\n",
       "      <td>17May2020</td>\n",
       "      <td>19466145</td>\n",
       "      <td>SIR-F</td>\n",
       "      <td>0.008149</td>\n",
       "      <td>0.012244</td>\n",
       "      <td>0.053735</td>\n",
       "      <td>0.000417</td>\n",
       "      <td>360</td>\n",
       "      <td>0.61</td>\n",
       "      <td>0.054</td>\n",
       "      <td>599</td>\n",
       "      <td>30</td>\n",
       "      <td>20</td>\n",
       "      <td>0.042092</td>\n",
       "      <td>232</td>\n",
       "      <td>0 min 15 sec</td>\n",
       "    </tr>\n",
       "    <tr>\n",
       "      <th>4th</th>\n",
       "      <td>Past</td>\n",
       "      <td>18May2020</td>\n",
       "      <td>03Jun2020</td>\n",
       "      <td>19466145</td>\n",
       "      <td>SIR-F</td>\n",
       "      <td>0.007743</td>\n",
       "      <td>0.011103</td>\n",
       "      <td>0.020808</td>\n",
       "      <td>0.000400</td>\n",
       "      <td>360</td>\n",
       "      <td>0.66</td>\n",
       "      <td>0.021</td>\n",
       "      <td>624</td>\n",
       "      <td>32</td>\n",
       "      <td>22</td>\n",
       "      <td>0.021532</td>\n",
       "      <td>163</td>\n",
       "      <td>0 min 10 sec</td>\n",
       "    </tr>\n",
       "    <tr>\n",
       "      <th>5th</th>\n",
       "      <td>Past</td>\n",
       "      <td>04Jun2020</td>\n",
       "      <td>18Jun2020</td>\n",
       "      <td>19466145</td>\n",
       "      <td>SIR-F</td>\n",
       "      <td>0.011595</td>\n",
       "      <td>0.009759</td>\n",
       "      <td>0.029338</td>\n",
       "      <td>0.000211</td>\n",
       "      <td>360</td>\n",
       "      <td>1.13</td>\n",
       "      <td>0.029</td>\n",
       "      <td>1187</td>\n",
       "      <td>21</td>\n",
       "      <td>25</td>\n",
       "      <td>0.044279</td>\n",
       "      <td>860</td>\n",
       "      <td>1 min 0 sec</td>\n",
       "    </tr>\n",
       "    <tr>\n",
       "      <th>6th</th>\n",
       "      <td>Past</td>\n",
       "      <td>19Jun2020</td>\n",
       "      <td>29Jun2020</td>\n",
       "      <td>19466145</td>\n",
       "      <td>SIR-F</td>\n",
       "      <td>0.013945</td>\n",
       "      <td>0.009633</td>\n",
       "      <td>0.015844</td>\n",
       "      <td>0.000477</td>\n",
       "      <td>360</td>\n",
       "      <td>1.36</td>\n",
       "      <td>0.016</td>\n",
       "      <td>524</td>\n",
       "      <td>17</td>\n",
       "      <td>25</td>\n",
       "      <td>0.016233</td>\n",
       "      <td>165</td>\n",
       "      <td>0 min 10 sec</td>\n",
       "    </tr>\n",
       "    <tr>\n",
       "      <th>7th</th>\n",
       "      <td>Past</td>\n",
       "      <td>30Jun2020</td>\n",
       "      <td>07Jul2020</td>\n",
       "      <td>19466145</td>\n",
       "      <td>SIR-F</td>\n",
       "      <td>0.014492</td>\n",
       "      <td>0.007464</td>\n",
       "      <td>0.031172</td>\n",
       "      <td>0.000257</td>\n",
       "      <td>360</td>\n",
       "      <td>1.82</td>\n",
       "      <td>0.031</td>\n",
       "      <td>974</td>\n",
       "      <td>17</td>\n",
       "      <td>33</td>\n",
       "      <td>0.010580</td>\n",
       "      <td>456</td>\n",
       "      <td>0 min 30 sec</td>\n",
       "    </tr>\n",
       "    <tr>\n",
       "      <th>8th</th>\n",
       "      <td>Past</td>\n",
       "      <td>08Jul2020</td>\n",
       "      <td>16Jul2020</td>\n",
       "      <td>19466145</td>\n",
       "      <td>SIR-F</td>\n",
       "      <td>0.017086</td>\n",
       "      <td>0.004999</td>\n",
       "      <td>0.015973</td>\n",
       "      <td>0.000288</td>\n",
       "      <td>360</td>\n",
       "      <td>3.18</td>\n",
       "      <td>0.016</td>\n",
       "      <td>869</td>\n",
       "      <td>14</td>\n",
       "      <td>50</td>\n",
       "      <td>0.008818</td>\n",
       "      <td>240</td>\n",
       "      <td>0 min 15 sec</td>\n",
       "    </tr>\n",
       "    <tr>\n",
       "      <th>9th</th>\n",
       "      <td>Past</td>\n",
       "      <td>17Jul2020</td>\n",
       "      <td>03Aug2020</td>\n",
       "      <td>19466145</td>\n",
       "      <td>SIR-F</td>\n",
       "      <td>0.015451</td>\n",
       "      <td>0.003993</td>\n",
       "      <td>0.000942</td>\n",
       "      <td>0.000403</td>\n",
       "      <td>360</td>\n",
       "      <td>3.51</td>\n",
       "      <td>0.001</td>\n",
       "      <td>620</td>\n",
       "      <td>16</td>\n",
       "      <td>62</td>\n",
       "      <td>0.050439</td>\n",
       "      <td>1191</td>\n",
       "      <td>1 min 0 sec</td>\n",
       "    </tr>\n",
       "    <tr>\n",
       "      <th rowspan=\"9\" valign=\"top\">United Arab Emirates</th>\n",
       "      <th>1st</th>\n",
       "      <td>Past</td>\n",
       "      <td>28Apr2020</td>\n",
       "      <td>12May2020</td>\n",
       "      <td>9630959</td>\n",
       "      <td>SIR-F</td>\n",
       "      <td>0.012408</td>\n",
       "      <td>0.004821</td>\n",
       "      <td>0.000437</td>\n",
       "      <td>0.000185</td>\n",
       "      <td>360</td>\n",
       "      <td>2.48</td>\n",
       "      <td>0.000</td>\n",
       "      <td>1354</td>\n",
       "      <td>20</td>\n",
       "      <td>51</td>\n",
       "      <td>0.095428</td>\n",
       "      <td>835</td>\n",
       "      <td>1 min 0 sec</td>\n",
       "    </tr>\n",
       "    <tr>\n",
       "      <th>2nd</th>\n",
       "      <td>Past</td>\n",
       "      <td>13May2020</td>\n",
       "      <td>25May2020</td>\n",
       "      <td>9630959</td>\n",
       "      <td>SIR-F</td>\n",
       "      <td>0.014182</td>\n",
       "      <td>0.012325</td>\n",
       "      <td>0.000344</td>\n",
       "      <td>0.000079</td>\n",
       "      <td>360</td>\n",
       "      <td>1.14</td>\n",
       "      <td>0.000</td>\n",
       "      <td>3159</td>\n",
       "      <td>17</td>\n",
       "      <td>20</td>\n",
       "      <td>0.058863</td>\n",
       "      <td>821</td>\n",
       "      <td>1 min 0 sec</td>\n",
       "    </tr>\n",
       "    <tr>\n",
       "      <th>3rd</th>\n",
       "      <td>Past</td>\n",
       "      <td>26May2020</td>\n",
       "      <td>02Jun2020</td>\n",
       "      <td>9630959</td>\n",
       "      <td>SIR-F</td>\n",
       "      <td>0.010101</td>\n",
       "      <td>0.006184</td>\n",
       "      <td>0.000830</td>\n",
       "      <td>0.000037</td>\n",
       "      <td>360</td>\n",
       "      <td>1.62</td>\n",
       "      <td>0.001</td>\n",
       "      <td>6773</td>\n",
       "      <td>24</td>\n",
       "      <td>40</td>\n",
       "      <td>0.012777</td>\n",
       "      <td>851</td>\n",
       "      <td>1 min 0 sec</td>\n",
       "    </tr>\n",
       "    <tr>\n",
       "      <th>4th</th>\n",
       "      <td>Past</td>\n",
       "      <td>03Jun2020</td>\n",
       "      <td>10Jun2020</td>\n",
       "      <td>9630959</td>\n",
       "      <td>SIR-F</td>\n",
       "      <td>0.008749</td>\n",
       "      <td>0.010113</td>\n",
       "      <td>0.000673</td>\n",
       "      <td>0.000037</td>\n",
       "      <td>360</td>\n",
       "      <td>0.86</td>\n",
       "      <td>0.001</td>\n",
       "      <td>6774</td>\n",
       "      <td>28</td>\n",
       "      <td>24</td>\n",
       "      <td>0.019630</td>\n",
       "      <td>858</td>\n",
       "      <td>1 min 0 sec</td>\n",
       "    </tr>\n",
       "    <tr>\n",
       "      <th>5th</th>\n",
       "      <td>Past</td>\n",
       "      <td>11Jun2020</td>\n",
       "      <td>21Jun2020</td>\n",
       "      <td>9630959</td>\n",
       "      <td>SIR-F</td>\n",
       "      <td>0.007518</td>\n",
       "      <td>0.012943</td>\n",
       "      <td>0.000681</td>\n",
       "      <td>0.000021</td>\n",
       "      <td>360</td>\n",
       "      <td>0.58</td>\n",
       "      <td>0.001</td>\n",
       "      <td>11761</td>\n",
       "      <td>33</td>\n",
       "      <td>19</td>\n",
       "      <td>0.008633</td>\n",
       "      <td>980</td>\n",
       "      <td>1 min 0 sec</td>\n",
       "    </tr>\n",
       "    <tr>\n",
       "      <th>6th</th>\n",
       "      <td>Past</td>\n",
       "      <td>22Jun2020</td>\n",
       "      <td>01Jul2020</td>\n",
       "      <td>9630959</td>\n",
       "      <td>SIR-F</td>\n",
       "      <td>0.009541</td>\n",
       "      <td>0.012178</td>\n",
       "      <td>0.001004</td>\n",
       "      <td>0.000036</td>\n",
       "      <td>360</td>\n",
       "      <td>0.78</td>\n",
       "      <td>0.001</td>\n",
       "      <td>6889</td>\n",
       "      <td>26</td>\n",
       "      <td>20</td>\n",
       "      <td>0.017512</td>\n",
       "      <td>963</td>\n",
       "      <td>1 min 0 sec</td>\n",
       "    </tr>\n",
       "    <tr>\n",
       "      <th>7th</th>\n",
       "      <td>Past</td>\n",
       "      <td>02Jul2020</td>\n",
       "      <td>09Jul2020</td>\n",
       "      <td>9630959</td>\n",
       "      <td>SIR-F</td>\n",
       "      <td>0.014045</td>\n",
       "      <td>0.015910</td>\n",
       "      <td>0.000668</td>\n",
       "      <td>0.000037</td>\n",
       "      <td>360</td>\n",
       "      <td>0.88</td>\n",
       "      <td>0.001</td>\n",
       "      <td>6775</td>\n",
       "      <td>17</td>\n",
       "      <td>15</td>\n",
       "      <td>0.028963</td>\n",
       "      <td>961</td>\n",
       "      <td>1 min 0 sec</td>\n",
       "    </tr>\n",
       "    <tr>\n",
       "      <th>8th</th>\n",
       "      <td>Past</td>\n",
       "      <td>10Jul2020</td>\n",
       "      <td>21Jul2020</td>\n",
       "      <td>9630959</td>\n",
       "      <td>SIR-F</td>\n",
       "      <td>0.009936</td>\n",
       "      <td>0.015157</td>\n",
       "      <td>0.002116</td>\n",
       "      <td>0.000002</td>\n",
       "      <td>360</td>\n",
       "      <td>0.65</td>\n",
       "      <td>0.002</td>\n",
       "      <td>134638</td>\n",
       "      <td>25</td>\n",
       "      <td>16</td>\n",
       "      <td>0.048592</td>\n",
       "      <td>253</td>\n",
       "      <td>0 min 15 sec</td>\n",
       "    </tr>\n",
       "    <tr>\n",
       "      <th>9th</th>\n",
       "      <td>Past</td>\n",
       "      <td>22Jul2020</td>\n",
       "      <td>03Aug2020</td>\n",
       "      <td>9630959</td>\n",
       "      <td>SIR-F</td>\n",
       "      <td>0.012089</td>\n",
       "      <td>0.015414</td>\n",
       "      <td>0.000678</td>\n",
       "      <td>0.000021</td>\n",
       "      <td>360</td>\n",
       "      <td>0.78</td>\n",
       "      <td>0.001</td>\n",
       "      <td>11750</td>\n",
       "      <td>20</td>\n",
       "      <td>16</td>\n",
       "      <td>0.017305</td>\n",
       "      <td>955</td>\n",
       "      <td>0 min 55 sec</td>\n",
       "    </tr>\n",
       "    <tr>\n",
       "      <th rowspan=\"9\" valign=\"top\">Guinea</th>\n",
       "      <th>1st</th>\n",
       "      <td>Past</td>\n",
       "      <td>01May2020</td>\n",
       "      <td>11May2020</td>\n",
       "      <td>12414318</td>\n",
       "      <td>SIR-F</td>\n",
       "      <td>0.013064</td>\n",
       "      <td>0.007886</td>\n",
       "      <td>0.000634</td>\n",
       "      <td>0.000117</td>\n",
       "      <td>360</td>\n",
       "      <td>1.63</td>\n",
       "      <td>0.001</td>\n",
       "      <td>2143</td>\n",
       "      <td>19</td>\n",
       "      <td>31</td>\n",
       "      <td>0.101194</td>\n",
       "      <td>799</td>\n",
       "      <td>1 min 0 sec</td>\n",
       "    </tr>\n",
       "    <tr>\n",
       "      <th>2nd</th>\n",
       "      <td>Past</td>\n",
       "      <td>12May2020</td>\n",
       "      <td>19May2020</td>\n",
       "      <td>12414318</td>\n",
       "      <td>SIR-F</td>\n",
       "      <td>0.011357</td>\n",
       "      <td>0.013006</td>\n",
       "      <td>0.000649</td>\n",
       "      <td>0.000117</td>\n",
       "      <td>360</td>\n",
       "      <td>0.86</td>\n",
       "      <td>0.001</td>\n",
       "      <td>2143</td>\n",
       "      <td>22</td>\n",
       "      <td>19</td>\n",
       "      <td>0.098993</td>\n",
       "      <td>833</td>\n",
       "      <td>1 min 0 sec</td>\n",
       "    </tr>\n",
       "    <tr>\n",
       "      <th>3rd</th>\n",
       "      <td>Past</td>\n",
       "      <td>20May2020</td>\n",
       "      <td>27May2020</td>\n",
       "      <td>12414318</td>\n",
       "      <td>SIR-F</td>\n",
       "      <td>0.014206</td>\n",
       "      <td>0.006554</td>\n",
       "      <td>0.000666</td>\n",
       "      <td>0.000037</td>\n",
       "      <td>360</td>\n",
       "      <td>2.15</td>\n",
       "      <td>0.001</td>\n",
       "      <td>6775</td>\n",
       "      <td>17</td>\n",
       "      <td>38</td>\n",
       "      <td>0.047430</td>\n",
       "      <td>830</td>\n",
       "      <td>1 min 0 sec</td>\n",
       "    </tr>\n",
       "    <tr>\n",
       "      <th>4th</th>\n",
       "      <td>Past</td>\n",
       "      <td>28May2020</td>\n",
       "      <td>07Jun2020</td>\n",
       "      <td>12414318</td>\n",
       "      <td>SIR-F</td>\n",
       "      <td>0.008051</td>\n",
       "      <td>0.014925</td>\n",
       "      <td>0.000682</td>\n",
       "      <td>0.000037</td>\n",
       "      <td>360</td>\n",
       "      <td>0.54</td>\n",
       "      <td>0.001</td>\n",
       "      <td>6772</td>\n",
       "      <td>31</td>\n",
       "      <td>16</td>\n",
       "      <td>0.091554</td>\n",
       "      <td>851</td>\n",
       "      <td>1 min 0 sec</td>\n",
       "    </tr>\n",
       "    <tr>\n",
       "      <th>5th</th>\n",
       "      <td>Past</td>\n",
       "      <td>08Jun2020</td>\n",
       "      <td>17Jun2020</td>\n",
       "      <td>12414318</td>\n",
       "      <td>SIR-F</td>\n",
       "      <td>0.008524</td>\n",
       "      <td>0.010337</td>\n",
       "      <td>0.000613</td>\n",
       "      <td>0.000060</td>\n",
       "      <td>360</td>\n",
       "      <td>0.82</td>\n",
       "      <td>0.001</td>\n",
       "      <td>4181</td>\n",
       "      <td>29</td>\n",
       "      <td>24</td>\n",
       "      <td>0.046150</td>\n",
       "      <td>886</td>\n",
       "      <td>1 min 0 sec</td>\n",
       "    </tr>\n",
       "    <tr>\n",
       "      <th>6th</th>\n",
       "      <td>Past</td>\n",
       "      <td>18Jun2020</td>\n",
       "      <td>01Jul2020</td>\n",
       "      <td>12414318</td>\n",
       "      <td>SIR-F</td>\n",
       "      <td>0.007106</td>\n",
       "      <td>0.012401</td>\n",
       "      <td>0.000502</td>\n",
       "      <td>0.000087</td>\n",
       "      <td>360</td>\n",
       "      <td>0.57</td>\n",
       "      <td>0.001</td>\n",
       "      <td>2872</td>\n",
       "      <td>35</td>\n",
       "      <td>20</td>\n",
       "      <td>0.054708</td>\n",
       "      <td>850</td>\n",
       "      <td>1 min 0 sec</td>\n",
       "    </tr>\n",
       "    <tr>\n",
       "      <th>7th</th>\n",
       "      <td>Past</td>\n",
       "      <td>02Jul2020</td>\n",
       "      <td>13Jul2020</td>\n",
       "      <td>12414318</td>\n",
       "      <td>SIR-F</td>\n",
       "      <td>0.016469</td>\n",
       "      <td>0.012215</td>\n",
       "      <td>0.000296</td>\n",
       "      <td>0.000087</td>\n",
       "      <td>360</td>\n",
       "      <td>1.34</td>\n",
       "      <td>0.000</td>\n",
       "      <td>2876</td>\n",
       "      <td>15</td>\n",
       "      <td>20</td>\n",
       "      <td>0.028515</td>\n",
       "      <td>887</td>\n",
       "      <td>1 min 0 sec</td>\n",
       "    </tr>\n",
       "    <tr>\n",
       "      <th>8th</th>\n",
       "      <td>Past</td>\n",
       "      <td>14Jul2020</td>\n",
       "      <td>22Jul2020</td>\n",
       "      <td>12414318</td>\n",
       "      <td>SIR-F</td>\n",
       "      <td>0.016606</td>\n",
       "      <td>0.028211</td>\n",
       "      <td>0.000448</td>\n",
       "      <td>0.000098</td>\n",
       "      <td>360</td>\n",
       "      <td>0.59</td>\n",
       "      <td>0.000</td>\n",
       "      <td>2545</td>\n",
       "      <td>15</td>\n",
       "      <td>8</td>\n",
       "      <td>0.064449</td>\n",
       "      <td>889</td>\n",
       "      <td>1 min 0 sec</td>\n",
       "    </tr>\n",
       "    <tr>\n",
       "      <th>9th</th>\n",
       "      <td>Past</td>\n",
       "      <td>23Jul2020</td>\n",
       "      <td>03Aug2020</td>\n",
       "      <td>12414318</td>\n",
       "      <td>SIR-F</td>\n",
       "      <td>0.018452</td>\n",
       "      <td>0.017479</td>\n",
       "      <td>0.000281</td>\n",
       "      <td>0.000137</td>\n",
       "      <td>360</td>\n",
       "      <td>1.05</td>\n",
       "      <td>0.000</td>\n",
       "      <td>1830</td>\n",
       "      <td>13</td>\n",
       "      <td>14</td>\n",
       "      <td>0.026621</td>\n",
       "      <td>1421</td>\n",
       "      <td>1 min 0 sec</td>\n",
       "    </tr>\n",
       "  </tbody>\n",
       "</table>\n",
       "</div>"
      ],
      "text/plain": [
       "                            Type      Start        End  Population    ODE  \\\n",
       "Country              Phase                                                  \n",
       "Senegal              1st    Past  29Apr2020  10May2020    15854360  SIR-F   \n",
       "                     2nd    Past  11May2020  20May2020    15854360  SIR-F   \n",
       "                     3rd    Past  21May2020  30May2020    15854360  SIR-F   \n",
       "                     4th    Past  31May2020  08Jun2020    15854360  SIR-F   \n",
       "                     5th    Past  09Jun2020  16Jun2020    15854360  SIR-F   \n",
       "                     6th    Past  17Jun2020  25Jun2020    15854360  SIR-F   \n",
       "                     7th    Past  26Jun2020  10Jul2020    15854360  SIR-F   \n",
       "                     8th    Past  11Jul2020  22Jul2020    15854360  SIR-F   \n",
       "                     9th    Past  23Jul2020  03Aug2020    15854360  SIR-F   \n",
       "Iran                 1st    Past  28Mar2020  13Apr2020    81800269  SIR-F   \n",
       "                     2nd    Past  14Apr2020  06May2020    81800269  SIR-F   \n",
       "                     3rd    Past  07May2020  21May2020    81800269  SIR-F   \n",
       "                     4th    Past  22May2020  03Jun2020    81800269  SIR-F   \n",
       "                     5th    Past  04Jun2020  15Jun2020    81800269  SIR-F   \n",
       "                     6th    Past  16Jun2020  27Jun2020    81800269  SIR-F   \n",
       "                     7th    Past  28Jun2020  09Jul2020    81800269  SIR-F   \n",
       "                     8th    Past  10Jul2020  21Jul2020    81800269  SIR-F   \n",
       "                     9th    Past  22Jul2020  03Aug2020    81800269  SIR-F   \n",
       "Poland               1st    Past  23Apr2020  05May2020    37974750  SIR-F   \n",
       "                     2nd    Past  06May2020  17May2020    37974750  SIR-F   \n",
       "                     3rd    Past  18May2020  25May2020    37974750  SIR-F   \n",
       "                     4th    Past  26May2020  05Jun2020    37974750  SIR-F   \n",
       "                     5th    Past  06Jun2020  15Jun2020    37974750  SIR-F   \n",
       "                     6th    Past  16Jun2020  28Jun2020    37974750  SIR-F   \n",
       "                     7th    Past  29Jun2020  10Jul2020    37974750  SIR-F   \n",
       "                     8th    Past  11Jul2020  19Jul2020    37974750  SIR-F   \n",
       "                     9th    Past  20Jul2020  03Aug2020    37974750  SIR-F   \n",
       "Romania              1st    Past  15Apr2020  25Apr2020    19466145  SIR-F   \n",
       "                     2nd    Past  26Apr2020  06May2020    19466145  SIR-F   \n",
       "                     3rd    Past  07May2020  17May2020    19466145  SIR-F   \n",
       "                     4th    Past  18May2020  03Jun2020    19466145  SIR-F   \n",
       "                     5th    Past  04Jun2020  18Jun2020    19466145  SIR-F   \n",
       "                     6th    Past  19Jun2020  29Jun2020    19466145  SIR-F   \n",
       "                     7th    Past  30Jun2020  07Jul2020    19466145  SIR-F   \n",
       "                     8th    Past  08Jul2020  16Jul2020    19466145  SIR-F   \n",
       "                     9th    Past  17Jul2020  03Aug2020    19466145  SIR-F   \n",
       "United Arab Emirates 1st    Past  28Apr2020  12May2020     9630959  SIR-F   \n",
       "                     2nd    Past  13May2020  25May2020     9630959  SIR-F   \n",
       "                     3rd    Past  26May2020  02Jun2020     9630959  SIR-F   \n",
       "                     4th    Past  03Jun2020  10Jun2020     9630959  SIR-F   \n",
       "                     5th    Past  11Jun2020  21Jun2020     9630959  SIR-F   \n",
       "                     6th    Past  22Jun2020  01Jul2020     9630959  SIR-F   \n",
       "                     7th    Past  02Jul2020  09Jul2020     9630959  SIR-F   \n",
       "                     8th    Past  10Jul2020  21Jul2020     9630959  SIR-F   \n",
       "                     9th    Past  22Jul2020  03Aug2020     9630959  SIR-F   \n",
       "Guinea               1st    Past  01May2020  11May2020    12414318  SIR-F   \n",
       "                     2nd    Past  12May2020  19May2020    12414318  SIR-F   \n",
       "                     3rd    Past  20May2020  27May2020    12414318  SIR-F   \n",
       "                     4th    Past  28May2020  07Jun2020    12414318  SIR-F   \n",
       "                     5th    Past  08Jun2020  17Jun2020    12414318  SIR-F   \n",
       "                     6th    Past  18Jun2020  01Jul2020    12414318  SIR-F   \n",
       "                     7th    Past  02Jul2020  13Jul2020    12414318  SIR-F   \n",
       "                     8th    Past  14Jul2020  22Jul2020    12414318  SIR-F   \n",
       "                     9th    Past  23Jul2020  03Aug2020    12414318  SIR-F   \n",
       "\n",
       "                                 rho     sigma     theta     kappa  tau    Rt  \\\n",
       "Country              Phase                                                      \n",
       "Senegal              1st    0.024912  0.009826  0.000748  0.000157  360  2.49   \n",
       "                     2nd    0.017227  0.009815  0.001476  0.000237  360  1.71   \n",
       "                     3rd    0.012210  0.008277  0.000657  0.000117  360  1.45   \n",
       "                     4th    0.013035  0.015139  0.000633  0.000117  360  0.85   \n",
       "                     5th    0.015992  0.015314  0.016109  0.000036  360  1.02   \n",
       "                     6th    0.015184  0.009351  0.022309  0.000004  360  1.59   \n",
       "                     7th    0.011698  0.007907  0.016817  0.000170  360  1.42   \n",
       "                     8th    0.009144  0.006344  0.000630  0.000235  360  1.39   \n",
       "                     9th    0.007912  0.004888  0.001014  0.000215  360  1.55   \n",
       "Iran                 1st    0.021698  0.018677  0.063927  0.000121  360  1.08   \n",
       "                     2nd    0.017682  0.024103  0.015629  0.000997  360  0.69   \n",
       "                     3rd    0.026677  0.018013  0.019455  0.000267  360  1.43   \n",
       "                     4th    0.024146  0.019488  0.018003  0.000173  360  1.21   \n",
       "                     5th    0.019610  0.017561  0.011608  0.000540  360  1.07   \n",
       "                     6th    0.020968  0.020797  0.022060  0.000527  360  0.96   \n",
       "                     7th    0.022771  0.023657  0.057057  0.000066  360  0.91   \n",
       "                     8th    0.024874  0.026159  0.026605  0.001580  360  0.87   \n",
       "                     9th    0.027360  0.022609  0.045100  0.001060  360  1.10   \n",
       "Poland               1st    0.009004  0.006333  0.000266  0.000618  360  1.29   \n",
       "                     2nd    0.008593  0.006490  0.000576  0.000426  360  1.24   \n",
       "                     3rd    0.009889  0.006421  0.023906  0.000014  360  1.50   \n",
       "                     4th    0.007740  0.005298  0.032890  0.000002  360  1.41   \n",
       "                     5th    0.007695  0.003544  0.018110  0.000084  360  2.08   \n",
       "                     6th    0.005533  0.008328  0.048732  0.000002  360  0.63   \n",
       "                     7th    0.006291  0.010240  0.000210  0.000244  360  0.60   \n",
       "                     8th    0.008539  0.012788  0.000849  0.000150  360  0.66   \n",
       "                     9th    0.012587  0.008057  0.000301  0.000230  360  1.52   \n",
       "Romania              1st    0.013428  0.006223  0.003901  0.000768  360  1.91   \n",
       "                     2nd    0.010778  0.009183  0.000535  0.000776  360  1.08   \n",
       "                     3rd    0.008149  0.012244  0.053735  0.000417  360  0.61   \n",
       "                     4th    0.007743  0.011103  0.020808  0.000400  360  0.66   \n",
       "                     5th    0.011595  0.009759  0.029338  0.000211  360  1.13   \n",
       "                     6th    0.013945  0.009633  0.015844  0.000477  360  1.36   \n",
       "                     7th    0.014492  0.007464  0.031172  0.000257  360  1.82   \n",
       "                     8th    0.017086  0.004999  0.015973  0.000288  360  3.18   \n",
       "                     9th    0.015451  0.003993  0.000942  0.000403  360  3.51   \n",
       "United Arab Emirates 1st    0.012408  0.004821  0.000437  0.000185  360  2.48   \n",
       "                     2nd    0.014182  0.012325  0.000344  0.000079  360  1.14   \n",
       "                     3rd    0.010101  0.006184  0.000830  0.000037  360  1.62   \n",
       "                     4th    0.008749  0.010113  0.000673  0.000037  360  0.86   \n",
       "                     5th    0.007518  0.012943  0.000681  0.000021  360  0.58   \n",
       "                     6th    0.009541  0.012178  0.001004  0.000036  360  0.78   \n",
       "                     7th    0.014045  0.015910  0.000668  0.000037  360  0.88   \n",
       "                     8th    0.009936  0.015157  0.002116  0.000002  360  0.65   \n",
       "                     9th    0.012089  0.015414  0.000678  0.000021  360  0.78   \n",
       "Guinea               1st    0.013064  0.007886  0.000634  0.000117  360  1.63   \n",
       "                     2nd    0.011357  0.013006  0.000649  0.000117  360  0.86   \n",
       "                     3rd    0.014206  0.006554  0.000666  0.000037  360  2.15   \n",
       "                     4th    0.008051  0.014925  0.000682  0.000037  360  0.54   \n",
       "                     5th    0.008524  0.010337  0.000613  0.000060  360  0.82   \n",
       "                     6th    0.007106  0.012401  0.000502  0.000087  360  0.57   \n",
       "                     7th    0.016469  0.012215  0.000296  0.000087  360  1.34   \n",
       "                     8th    0.016606  0.028211  0.000448  0.000098  360  0.59   \n",
       "                     9th    0.018452  0.017479  0.000281  0.000137  360  1.05   \n",
       "\n",
       "                            alpha1 [-]  1/alpha2 [day]  1/beta [day]  \\\n",
       "Country              Phase                                             \n",
       "Senegal              1st         0.001            1587            10   \n",
       "                     2nd         0.001            1054            14   \n",
       "                     3rd         0.001            2144            20   \n",
       "                     4th         0.001            2143            19   \n",
       "                     5th         0.016            6888            15   \n",
       "                     6th         0.022           68241            16   \n",
       "                     7th         0.017            1472            21   \n",
       "                     8th         0.001            1065            27   \n",
       "                     9th         0.001            1162            31   \n",
       "Iran                 1st         0.064            2067            11   \n",
       "                     2nd         0.016             250            14   \n",
       "                     3rd         0.019             934             9   \n",
       "                     4th         0.018            1442            10   \n",
       "                     5th         0.012             463            12   \n",
       "                     6th         0.022             474            11   \n",
       "                     7th         0.057            3760            10   \n",
       "                     8th         0.027             158            10   \n",
       "                     9th         0.045             235             9   \n",
       "Poland               1st         0.000             404            27   \n",
       "                     2nd         0.001             586            29   \n",
       "                     3rd         0.024           17575            25   \n",
       "                     4th         0.033          103525            32   \n",
       "                     5th         0.018            2965            32   \n",
       "                     6th         0.049          103418            45   \n",
       "                     7th         0.000            1022            39   \n",
       "                     8th         0.001            1670            29   \n",
       "                     9th         0.000            1086            19   \n",
       "Romania              1st         0.004             325            18   \n",
       "                     2nd         0.001             322            23   \n",
       "                     3rd         0.054             599            30   \n",
       "                     4th         0.021             624            32   \n",
       "                     5th         0.029            1187            21   \n",
       "                     6th         0.016             524            17   \n",
       "                     7th         0.031             974            17   \n",
       "                     8th         0.016             869            14   \n",
       "                     9th         0.001             620            16   \n",
       "United Arab Emirates 1st         0.000            1354            20   \n",
       "                     2nd         0.000            3159            17   \n",
       "                     3rd         0.001            6773            24   \n",
       "                     4th         0.001            6774            28   \n",
       "                     5th         0.001           11761            33   \n",
       "                     6th         0.001            6889            26   \n",
       "                     7th         0.001            6775            17   \n",
       "                     8th         0.002          134638            25   \n",
       "                     9th         0.001           11750            20   \n",
       "Guinea               1st         0.001            2143            19   \n",
       "                     2nd         0.001            2143            22   \n",
       "                     3rd         0.001            6775            17   \n",
       "                     4th         0.001            6772            31   \n",
       "                     5th         0.001            4181            29   \n",
       "                     6th         0.001            2872            35   \n",
       "                     7th         0.000            2876            15   \n",
       "                     8th         0.000            2545            15   \n",
       "                     9th         0.000            1830            13   \n",
       "\n",
       "                            1/gamma [day]     RMSLE  Trials       Runtime  \n",
       "Country              Phase                                                 \n",
       "Senegal              1st               25  0.111542     875   1 min 0 sec  \n",
       "                     2nd               25  0.049055     789  0 min 55 sec  \n",
       "                     3rd               30  0.036096     847   1 min 0 sec  \n",
       "                     4th               16  0.030624     863   1 min 0 sec  \n",
       "                     5th               16  0.026990     877   1 min 0 sec  \n",
       "                     6th               26  0.016727     873   1 min 1 sec  \n",
       "                     7th               31  0.036387     849   1 min 0 sec  \n",
       "                     8th               39  0.016305     881   1 min 0 sec  \n",
       "                     9th               51  0.022924     514  0 min 20 sec  \n",
       "Iran                 1st               13  0.272205    1002   1 min 0 sec  \n",
       "                     2nd               10  0.081512     197  0 min 10 sec  \n",
       "                     3rd               13  0.015200     503  0 min 25 sec  \n",
       "                     4th               12  0.025000     981   1 min 0 sec  \n",
       "                     5th               14  0.014921     230  0 min 10 sec  \n",
       "                     6th               12  0.023557    1003   1 min 0 sec  \n",
       "                     7th               10  0.010533     468  0 min 25 sec  \n",
       "                     8th                9  0.010587      67   0 min 5 sec  \n",
       "                     9th               11  0.008034     541  0 min 30 sec  \n",
       "Poland               1st               39  0.043514     383  0 min 25 sec  \n",
       "                     2nd               38  0.015778     380  0 min 25 sec  \n",
       "                     3rd               38  0.011600     232  0 min 15 sec  \n",
       "                     4th               47  0.011575     806  0 min 55 sec  \n",
       "                     5th               70  0.012976     395  0 min 25 sec  \n",
       "                     6th               30  0.028353     987   1 min 0 sec  \n",
       "                     7th               24  0.015918     631  0 min 40 sec  \n",
       "                     8th               19  0.011700     172  0 min 10 sec  \n",
       "                     9th               31  0.024872     346  0 min 20 sec  \n",
       "Romania              1st               40  0.031859     713  0 min 50 sec  \n",
       "                     2nd               27  0.031343     301  0 min 20 sec  \n",
       "                     3rd               20  0.042092     232  0 min 15 sec  \n",
       "                     4th               22  0.021532     163  0 min 10 sec  \n",
       "                     5th               25  0.044279     860   1 min 0 sec  \n",
       "                     6th               25  0.016233     165  0 min 10 sec  \n",
       "                     7th               33  0.010580     456  0 min 30 sec  \n",
       "                     8th               50  0.008818     240  0 min 15 sec  \n",
       "                     9th               62  0.050439    1191   1 min 0 sec  \n",
       "United Arab Emirates 1st               51  0.095428     835   1 min 0 sec  \n",
       "                     2nd               20  0.058863     821   1 min 0 sec  \n",
       "                     3rd               40  0.012777     851   1 min 0 sec  \n",
       "                     4th               24  0.019630     858   1 min 0 sec  \n",
       "                     5th               19  0.008633     980   1 min 0 sec  \n",
       "                     6th               20  0.017512     963   1 min 0 sec  \n",
       "                     7th               15  0.028963     961   1 min 0 sec  \n",
       "                     8th               16  0.048592     253  0 min 15 sec  \n",
       "                     9th               16  0.017305     955  0 min 55 sec  \n",
       "Guinea               1st               31  0.101194     799   1 min 0 sec  \n",
       "                     2nd               19  0.098993     833   1 min 0 sec  \n",
       "                     3rd               38  0.047430     830   1 min 0 sec  \n",
       "                     4th               16  0.091554     851   1 min 0 sec  \n",
       "                     5th               24  0.046150     886   1 min 0 sec  \n",
       "                     6th               20  0.054708     850   1 min 0 sec  \n",
       "                     7th               20  0.028515     887   1 min 0 sec  \n",
       "                     8th                8  0.064449     889   1 min 0 sec  \n",
       "                     9th               14  0.026621    1421   1 min 0 sec  "
      ]
     },
     "execution_count": 11,
     "metadata": {},
     "output_type": "execute_result"
    }
   ],
   "source": [
    "# Show summary\n",
    "analyser.summary(countries=countries_show)"
   ]
  },
  {
   "cell_type": "markdown",
   "metadata": {},
   "source": [
    "## Compare the history of parameters\n",
    "Here, compare the history of parameter values if countries."
   ]
  },
  {
   "cell_type": "markdown",
   "metadata": {},
   "source": [
    "### $Rt$: Reprodcution number $\\mathrm{[-]}$"
   ]
  },
  {
   "cell_type": "code",
   "execution_count": 12,
   "metadata": {
    "collapsed": false
   },
   "outputs": [
    {
     "data": {
      "image/png": "[encoded data removed]",
      "text/plain": [
       "<Figure size 648x432 with 1 Axes>"
      ]
     },
     "metadata": {},
     "output_type": "display_data"
    },
    {
     "data": {
      "text/html": [
       "<div>\n",
       "<style scoped>\n",
       "    .dataframe tbody tr th:only-of-type {\n",
       "        vertical-align: middle;\n",
       "    }\n",
       "\n",
       "    .dataframe tbody tr th {\n",
       "        vertical-align: top;\n",
       "    }\n",
       "\n",
       "    .dataframe thead th {\n",
       "        text-align: right;\n",
       "    }\n",
       "</style>\n",
       "<table border=\"1\" class=\"dataframe\">\n",
       "  <thead>\n",
       "    <tr style=\"text-align: right;\">\n",
       "      <th>Country</th>\n",
       "      <th>Guinea</th>\n",
       "      <th>Iran</th>\n",
       "      <th>Poland</th>\n",
       "      <th>Romania</th>\n",
       "      <th>Senegal</th>\n",
       "      <th>United Arab Emirates</th>\n",
       "    </tr>\n",
       "    <tr>\n",
       "      <th>Date</th>\n",
       "      <th></th>\n",
       "      <th></th>\n",
       "      <th></th>\n",
       "      <th></th>\n",
       "      <th></th>\n",
       "      <th></th>\n",
       "    </tr>\n",
       "  </thead>\n",
       "  <tbody>\n",
       "    <tr>\n",
       "      <th>2020-07-30</th>\n",
       "      <td>1.05</td>\n",
       "      <td>1.1</td>\n",
       "      <td>1.52</td>\n",
       "      <td>3.51</td>\n",
       "      <td>1.55</td>\n",
       "      <td>0.78</td>\n",
       "    </tr>\n",
       "    <tr>\n",
       "      <th>2020-07-31</th>\n",
       "      <td>1.05</td>\n",
       "      <td>1.1</td>\n",
       "      <td>1.52</td>\n",
       "      <td>3.51</td>\n",
       "      <td>1.55</td>\n",
       "      <td>0.78</td>\n",
       "    </tr>\n",
       "    <tr>\n",
       "      <th>2020-08-01</th>\n",
       "      <td>1.05</td>\n",
       "      <td>1.1</td>\n",
       "      <td>1.52</td>\n",
       "      <td>3.51</td>\n",
       "      <td>1.55</td>\n",
       "      <td>0.78</td>\n",
       "    </tr>\n",
       "    <tr>\n",
       "      <th>2020-08-02</th>\n",
       "      <td>1.05</td>\n",
       "      <td>1.1</td>\n",
       "      <td>1.52</td>\n",
       "      <td>3.51</td>\n",
       "      <td>1.55</td>\n",
       "      <td>0.78</td>\n",
       "    </tr>\n",
       "    <tr>\n",
       "      <th>2020-08-03</th>\n",
       "      <td>1.05</td>\n",
       "      <td>1.1</td>\n",
       "      <td>1.52</td>\n",
       "      <td>3.51</td>\n",
       "      <td>1.55</td>\n",
       "      <td>0.78</td>\n",
       "    </tr>\n",
       "  </tbody>\n",
       "</table>\n",
       "</div>"
      ],
      "text/plain": [
       "Country     Guinea  Iran  Poland  Romania  Senegal  United Arab Emirates\n",
       "Date                                                                    \n",
       "2020-07-30    1.05   1.1    1.52     3.51     1.55                  0.78\n",
       "2020-07-31    1.05   1.1    1.52     3.51     1.55                  0.78\n",
       "2020-08-01    1.05   1.1    1.52     3.51     1.55                  0.78\n",
       "2020-08-02    1.05   1.1    1.52     3.51     1.55                  0.78\n",
       "2020-08-03    1.05   1.1    1.52     3.51     1.55                  0.78"
      ]
     },
     "execution_count": 12,
     "metadata": {},
     "output_type": "execute_result"
    }
   ],
   "source": [
    "analyser.param_history(\"Rt\", roll_window=None).tail()"
   ]
  },
  {
   "cell_type": "markdown",
   "metadata": {},
   "source": [
    "### $\\rho$: Effective contact rate $\\mathrm{[-]}$"
   ]
  },
  {
   "cell_type": "code",
   "execution_count": 13,
   "metadata": {
    "collapsed": false
   },
   "outputs": [
    {
     "data": {
      "image/png": "[encoded data removed]",
      "text/plain": [
       "<Figure size 648x432 with 1 Axes>"
      ]
     },
     "metadata": {},
     "output_type": "display_data"
    },
    {
     "data": {
      "text/html": [
       "<div>\n",
       "<style scoped>\n",
       "    .dataframe tbody tr th:only-of-type {\n",
       "        vertical-align: middle;\n",
       "    }\n",
       "\n",
       "    .dataframe tbody tr th {\n",
       "        vertical-align: top;\n",
       "    }\n",
       "\n",
       "    .dataframe thead th {\n",
       "        text-align: right;\n",
       "    }\n",
       "</style>\n",
       "<table border=\"1\" class=\"dataframe\">\n",
       "  <thead>\n",
       "    <tr style=\"text-align: right;\">\n",
       "      <th>Country</th>\n",
       "      <th>Guinea</th>\n",
       "      <th>Iran</th>\n",
       "      <th>Poland</th>\n",
       "      <th>Romania</th>\n",
       "      <th>Senegal</th>\n",
       "      <th>United Arab Emirates</th>\n",
       "    </tr>\n",
       "    <tr>\n",
       "      <th>Date</th>\n",
       "      <th></th>\n",
       "      <th></th>\n",
       "      <th></th>\n",
       "      <th></th>\n",
       "      <th></th>\n",
       "      <th></th>\n",
       "    </tr>\n",
       "  </thead>\n",
       "  <tbody>\n",
       "    <tr>\n",
       "      <th>2020-07-30</th>\n",
       "      <td>0.018452</td>\n",
       "      <td>0.02736</td>\n",
       "      <td>0.012587</td>\n",
       "      <td>0.015451</td>\n",
       "      <td>0.007912</td>\n",
       "      <td>0.012089</td>\n",
       "    </tr>\n",
       "    <tr>\n",
       "      <th>2020-07-31</th>\n",
       "      <td>0.018452</td>\n",
       "      <td>0.02736</td>\n",
       "      <td>0.012587</td>\n",
       "      <td>0.015451</td>\n",
       "      <td>0.007912</td>\n",
       "      <td>0.012089</td>\n",
       "    </tr>\n",
       "    <tr>\n",
       "      <th>2020-08-01</th>\n",
       "      <td>0.018452</td>\n",
       "      <td>0.02736</td>\n",
       "      <td>0.012587</td>\n",
       "      <td>0.015451</td>\n",
       "      <td>0.007912</td>\n",
       "      <td>0.012089</td>\n",
       "    </tr>\n",
       "    <tr>\n",
       "      <th>2020-08-02</th>\n",
       "      <td>0.018452</td>\n",
       "      <td>0.02736</td>\n",
       "      <td>0.012587</td>\n",
       "      <td>0.015451</td>\n",
       "      <td>0.007912</td>\n",
       "      <td>0.012089</td>\n",
       "    </tr>\n",
       "    <tr>\n",
       "      <th>2020-08-03</th>\n",
       "      <td>0.018452</td>\n",
       "      <td>0.02736</td>\n",
       "      <td>0.012587</td>\n",
       "      <td>0.015451</td>\n",
       "      <td>0.007912</td>\n",
       "      <td>0.012089</td>\n",
       "    </tr>\n",
       "  </tbody>\n",
       "</table>\n",
       "</div>"
      ],
      "text/plain": [
       "Country       Guinea     Iran    Poland   Romania   Senegal  \\\n",
       "Date                                                          \n",
       "2020-07-30  0.018452  0.02736  0.012587  0.015451  0.007912   \n",
       "2020-07-31  0.018452  0.02736  0.012587  0.015451  0.007912   \n",
       "2020-08-01  0.018452  0.02736  0.012587  0.015451  0.007912   \n",
       "2020-08-02  0.018452  0.02736  0.012587  0.015451  0.007912   \n",
       "2020-08-03  0.018452  0.02736  0.012587  0.015451  0.007912   \n",
       "\n",
       "Country     United Arab Emirates  \n",
       "Date                              \n",
       "2020-07-30              0.012089  \n",
       "2020-07-31              0.012089  \n",
       "2020-08-01              0.012089  \n",
       "2020-08-02              0.012089  \n",
       "2020-08-03              0.012089  "
      ]
     },
     "execution_count": 13,
     "metadata": {},
     "output_type": "execute_result"
    }
   ],
   "source": [
    "analyser.param_history(\"rho\", roll_window=None).tail()"
   ]
  },
  {
   "cell_type": "markdown",
   "metadata": {},
   "source": [
    "### $\\sigma$: Recovery rate $\\mathrm{[-]}$"
   ]
  },
  {
   "cell_type": "code",
   "execution_count": 14,
   "metadata": {
    "collapsed": false
   },
   "outputs": [
    {
     "data": {
      "image/png": "[encoded data removed]",
      "text/plain": [
       "<Figure size 648x432 with 1 Axes>"
      ]
     },
     "metadata": {},
     "output_type": "display_data"
    },
    {
     "data": {
      "text/html": [
       "<div>\n",
       "<style scoped>\n",
       "    .dataframe tbody tr th:only-of-type {\n",
       "        vertical-align: middle;\n",
       "    }\n",
       "\n",
       "    .dataframe tbody tr th {\n",
       "        vertical-align: top;\n",
       "    }\n",
       "\n",
       "    .dataframe thead th {\n",
       "        text-align: right;\n",
       "    }\n",
       "</style>\n",
       "<table border=\"1\" class=\"dataframe\">\n",
       "  <thead>\n",
       "    <tr style=\"text-align: right;\">\n",
       "      <th>Country</th>\n",
       "      <th>Guinea</th>\n",
       "      <th>Iran</th>\n",
       "      <th>Poland</th>\n",
       "      <th>Romania</th>\n",
       "      <th>Senegal</th>\n",
       "      <th>United Arab Emirates</th>\n",
       "    </tr>\n",
       "    <tr>\n",
       "      <th>Date</th>\n",
       "      <th></th>\n",
       "      <th></th>\n",
       "      <th></th>\n",
       "      <th></th>\n",
       "      <th></th>\n",
       "      <th></th>\n",
       "    </tr>\n",
       "  </thead>\n",
       "  <tbody>\n",
       "    <tr>\n",
       "      <th>2020-07-30</th>\n",
       "      <td>0.017479</td>\n",
       "      <td>0.022609</td>\n",
       "      <td>0.008057</td>\n",
       "      <td>0.003993</td>\n",
       "      <td>0.004888</td>\n",
       "      <td>0.015414</td>\n",
       "    </tr>\n",
       "    <tr>\n",
       "      <th>2020-07-31</th>\n",
       "      <td>0.017479</td>\n",
       "      <td>0.022609</td>\n",
       "      <td>0.008057</td>\n",
       "      <td>0.003993</td>\n",
       "      <td>0.004888</td>\n",
       "      <td>0.015414</td>\n",
       "    </tr>\n",
       "    <tr>\n",
       "      <th>2020-08-01</th>\n",
       "      <td>0.017479</td>\n",
       "      <td>0.022609</td>\n",
       "      <td>0.008057</td>\n",
       "      <td>0.003993</td>\n",
       "      <td>0.004888</td>\n",
       "      <td>0.015414</td>\n",
       "    </tr>\n",
       "    <tr>\n",
       "      <th>2020-08-02</th>\n",
       "      <td>0.017479</td>\n",
       "      <td>0.022609</td>\n",
       "      <td>0.008057</td>\n",
       "      <td>0.003993</td>\n",
       "      <td>0.004888</td>\n",
       "      <td>0.015414</td>\n",
       "    </tr>\n",
       "    <tr>\n",
       "      <th>2020-08-03</th>\n",
       "      <td>0.017479</td>\n",
       "      <td>0.022609</td>\n",
       "      <td>0.008057</td>\n",
       "      <td>0.003993</td>\n",
       "      <td>0.004888</td>\n",
       "      <td>0.015414</td>\n",
       "    </tr>\n",
       "  </tbody>\n",
       "</table>\n",
       "</div>"
      ],
      "text/plain": [
       "Country       Guinea      Iran    Poland   Romania   Senegal  \\\n",
       "Date                                                           \n",
       "2020-07-30  0.017479  0.022609  0.008057  0.003993  0.004888   \n",
       "2020-07-31  0.017479  0.022609  0.008057  0.003993  0.004888   \n",
       "2020-08-01  0.017479  0.022609  0.008057  0.003993  0.004888   \n",
       "2020-08-02  0.017479  0.022609  0.008057  0.003993  0.004888   \n",
       "2020-08-03  0.017479  0.022609  0.008057  0.003993  0.004888   \n",
       "\n",
       "Country     United Arab Emirates  \n",
       "Date                              \n",
       "2020-07-30              0.015414  \n",
       "2020-07-31              0.015414  \n",
       "2020-08-01              0.015414  \n",
       "2020-08-02              0.015414  \n",
       "2020-08-03              0.015414  "
      ]
     },
     "execution_count": 14,
     "metadata": {},
     "output_type": "execute_result"
    }
   ],
   "source": [
    "analyser.param_history(\"sigma\", roll_window=None).tail()"
   ]
  },
  {
   "cell_type": "markdown",
   "metadata": {},
   "source": [
    "### $\\kappa$: Mortality rate of infected cases $\\mathrm{[-]}$"
   ]
  },
  {
   "cell_type": "code",
   "execution_count": 15,
   "metadata": {
    "collapsed": false
   },
   "outputs": [
    {
     "data": {
      "image/png": "[encoded data removed]",
      "text/plain": [
       "<Figure size 648x432 with 1 Axes>"
      ]
     },
     "metadata": {},
     "output_type": "display_data"
    },
    {
     "data": {
      "text/html": [
       "<div>\n",
       "<style scoped>\n",
       "    .dataframe tbody tr th:only-of-type {\n",
       "        vertical-align: middle;\n",
       "    }\n",
       "\n",
       "    .dataframe tbody tr th {\n",
       "        vertical-align: top;\n",
       "    }\n",
       "\n",
       "    .dataframe thead th {\n",
       "        text-align: right;\n",
       "    }\n",
       "</style>\n",
       "<table border=\"1\" class=\"dataframe\">\n",
       "  <thead>\n",
       "    <tr style=\"text-align: right;\">\n",
       "      <th>Country</th>\n",
       "      <th>Guinea</th>\n",
       "      <th>Iran</th>\n",
       "      <th>Poland</th>\n",
       "      <th>Romania</th>\n",
       "      <th>Senegal</th>\n",
       "      <th>United Arab Emirates</th>\n",
       "    </tr>\n",
       "    <tr>\n",
       "      <th>Date</th>\n",
       "      <th></th>\n",
       "      <th></th>\n",
       "      <th></th>\n",
       "      <th></th>\n",
       "      <th></th>\n",
       "      <th></th>\n",
       "    </tr>\n",
       "  </thead>\n",
       "  <tbody>\n",
       "    <tr>\n",
       "      <th>2020-07-30</th>\n",
       "      <td>0.000137</td>\n",
       "      <td>0.00106</td>\n",
       "      <td>0.00023</td>\n",
       "      <td>0.000403</td>\n",
       "      <td>0.000215</td>\n",
       "      <td>0.000021</td>\n",
       "    </tr>\n",
       "    <tr>\n",
       "      <th>2020-07-31</th>\n",
       "      <td>0.000137</td>\n",
       "      <td>0.00106</td>\n",
       "      <td>0.00023</td>\n",
       "      <td>0.000403</td>\n",
       "      <td>0.000215</td>\n",
       "      <td>0.000021</td>\n",
       "    </tr>\n",
       "    <tr>\n",
       "      <th>2020-08-01</th>\n",
       "      <td>0.000137</td>\n",
       "      <td>0.00106</td>\n",
       "      <td>0.00023</td>\n",
       "      <td>0.000403</td>\n",
       "      <td>0.000215</td>\n",
       "      <td>0.000021</td>\n",
       "    </tr>\n",
       "    <tr>\n",
       "      <th>2020-08-02</th>\n",
       "      <td>0.000137</td>\n",
       "      <td>0.00106</td>\n",
       "      <td>0.00023</td>\n",
       "      <td>0.000403</td>\n",
       "      <td>0.000215</td>\n",
       "      <td>0.000021</td>\n",
       "    </tr>\n",
       "    <tr>\n",
       "      <th>2020-08-03</th>\n",
       "      <td>0.000137</td>\n",
       "      <td>0.00106</td>\n",
       "      <td>0.00023</td>\n",
       "      <td>0.000403</td>\n",
       "      <td>0.000215</td>\n",
       "      <td>0.000021</td>\n",
       "    </tr>\n",
       "  </tbody>\n",
       "</table>\n",
       "</div>"
      ],
      "text/plain": [
       "Country       Guinea     Iran   Poland   Romania   Senegal  \\\n",
       "Date                                                         \n",
       "2020-07-30  0.000137  0.00106  0.00023  0.000403  0.000215   \n",
       "2020-07-31  0.000137  0.00106  0.00023  0.000403  0.000215   \n",
       "2020-08-01  0.000137  0.00106  0.00023  0.000403  0.000215   \n",
       "2020-08-02  0.000137  0.00106  0.00023  0.000403  0.000215   \n",
       "2020-08-03  0.000137  0.00106  0.00023  0.000403  0.000215   \n",
       "\n",
       "Country     United Arab Emirates  \n",
       "Date                              \n",
       "2020-07-30              0.000021  \n",
       "2020-07-31              0.000021  \n",
       "2020-08-01              0.000021  \n",
       "2020-08-02              0.000021  \n",
       "2020-08-03              0.000021  "
      ]
     },
     "execution_count": 15,
     "metadata": {},
     "output_type": "execute_result"
    }
   ],
   "source": [
    "analyser.param_history(\"kappa\", roll_window=None).tail()"
   ]
  },
  {
   "cell_type": "markdown",
   "metadata": {},
   "source": [
    "### $\\theta$: Mortality rate of S$^\\ast$ cases $\\mathrm{[-]}$"
   ]
  },
  {
   "cell_type": "code",
   "execution_count": 16,
   "metadata": {
    "collapsed": false
   },
   "outputs": [
    {
     "data": {
      "image/png": "[encoded data removed]",
      "text/plain": [
       "<Figure size 648x432 with 1 Axes>"
      ]
     },
     "metadata": {},
     "output_type": "display_data"
    },
    {
     "data": {
      "text/html": [
       "<div>\n",
       "<style scoped>\n",
       "    .dataframe tbody tr th:only-of-type {\n",
       "        vertical-align: middle;\n",
       "    }\n",
       "\n",
       "    .dataframe tbody tr th {\n",
       "        vertical-align: top;\n",
       "    }\n",
       "\n",
       "    .dataframe thead th {\n",
       "        text-align: right;\n",
       "    }\n",
       "</style>\n",
       "<table border=\"1\" class=\"dataframe\">\n",
       "  <thead>\n",
       "    <tr style=\"text-align: right;\">\n",
       "      <th>Country</th>\n",
       "      <th>Guinea</th>\n",
       "      <th>Iran</th>\n",
       "      <th>Poland</th>\n",
       "      <th>Romania</th>\n",
       "      <th>Senegal</th>\n",
       "      <th>United Arab Emirates</th>\n",
       "    </tr>\n",
       "    <tr>\n",
       "      <th>Date</th>\n",
       "      <th></th>\n",
       "      <th></th>\n",
       "      <th></th>\n",
       "      <th></th>\n",
       "      <th></th>\n",
       "      <th></th>\n",
       "    </tr>\n",
       "  </thead>\n",
       "  <tbody>\n",
       "    <tr>\n",
       "      <th>2020-07-30</th>\n",
       "      <td>0.000281</td>\n",
       "      <td>0.0451</td>\n",
       "      <td>0.000301</td>\n",
       "      <td>0.000942</td>\n",
       "      <td>0.001014</td>\n",
       "      <td>0.000678</td>\n",
       "    </tr>\n",
       "    <tr>\n",
       "      <th>2020-07-31</th>\n",
       "      <td>0.000281</td>\n",
       "      <td>0.0451</td>\n",
       "      <td>0.000301</td>\n",
       "      <td>0.000942</td>\n",
       "      <td>0.001014</td>\n",
       "      <td>0.000678</td>\n",
       "    </tr>\n",
       "    <tr>\n",
       "      <th>2020-08-01</th>\n",
       "      <td>0.000281</td>\n",
       "      <td>0.0451</td>\n",
       "      <td>0.000301</td>\n",
       "      <td>0.000942</td>\n",
       "      <td>0.001014</td>\n",
       "      <td>0.000678</td>\n",
       "    </tr>\n",
       "    <tr>\n",
       "      <th>2020-08-02</th>\n",
       "      <td>0.000281</td>\n",
       "      <td>0.0451</td>\n",
       "      <td>0.000301</td>\n",
       "      <td>0.000942</td>\n",
       "      <td>0.001014</td>\n",
       "      <td>0.000678</td>\n",
       "    </tr>\n",
       "    <tr>\n",
       "      <th>2020-08-03</th>\n",
       "      <td>0.000281</td>\n",
       "      <td>0.0451</td>\n",
       "      <td>0.000301</td>\n",
       "      <td>0.000942</td>\n",
       "      <td>0.001014</td>\n",
       "      <td>0.000678</td>\n",
       "    </tr>\n",
       "  </tbody>\n",
       "</table>\n",
       "</div>"
      ],
      "text/plain": [
       "Country       Guinea    Iran    Poland   Romania   Senegal  \\\n",
       "Date                                                         \n",
       "2020-07-30  0.000281  0.0451  0.000301  0.000942  0.001014   \n",
       "2020-07-31  0.000281  0.0451  0.000301  0.000942  0.001014   \n",
       "2020-08-01  0.000281  0.0451  0.000301  0.000942  0.001014   \n",
       "2020-08-02  0.000281  0.0451  0.000301  0.000942  0.001014   \n",
       "2020-08-03  0.000281  0.0451  0.000301  0.000942  0.001014   \n",
       "\n",
       "Country     United Arab Emirates  \n",
       "Date                              \n",
       "2020-07-30              0.000678  \n",
       "2020-07-31              0.000678  \n",
       "2020-08-01              0.000678  \n",
       "2020-08-02              0.000678  \n",
       "2020-08-03              0.000678  "
      ]
     },
     "execution_count": 16,
     "metadata": {},
     "output_type": "execute_result"
    }
   ],
   "source": [
    "analyser.param_history(\"theta\", roll_window=None).tail()"
   ]
  }
 ],
 "metadata": {
  "kernelspec": {
   "display_name": "Python 3.8.2 64-bit ('.venv': venv)",
   "name": "python_defaultSpec_1596469977201"
  },
  "language_info": {
   "codemirror_mode": {
    "name": "ipython",
    "version": 3
   },
   "file_extension": ".py",
   "mimetype": "text/x-python",
   "name": "python",
   "nbconvert_exporter": "python",
   "pygments_lexer": "ipython3",
   "version": 3
  }
 },
 "nbformat": 4,
 "nbformat_minor": 4
}
