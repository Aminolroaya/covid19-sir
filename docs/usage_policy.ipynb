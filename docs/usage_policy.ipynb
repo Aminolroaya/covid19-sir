{
 "cells": [
  {
   "cell_type": "markdown",
   "metadata": {},
   "source": [
    "# Usage (details: policy measures)\n",
    "Here, we will analyse the relationship of policy measures and parameter values of SIR-derived ODE models. Policy measures are tracked by [Oxford Covid-19 Government Response Tracker (OxCGRT)](https://github.com/OxCGRT/covid-policy-tracker)."
   ]
  },
  {
   "cell_type": "markdown",
   "metadata": {},
   "source": [
    "## Preparation"
   ]
  },
  {
   "cell_type": "code",
   "execution_count": 1,
   "metadata": {
    "collapsed": false
   },
   "outputs": [],
   "source": [
    "# Standard users\n",
    "# !pip install covsirphy\n",
    "# Developers (Note: this notebook is in example directory)\n",
    "import os\n",
    "os.chdir(\"../\")"
   ]
  },
  {
   "cell_type": "code",
   "execution_count": 2,
   "metadata": {
    "collapsed": false
   },
   "outputs": [],
   "source": [
    "from pprint import pprint"
   ]
  },
  {
   "cell_type": "code",
   "execution_count": 3,
   "metadata": {
    "collapsed": false
   },
   "outputs": [
    {
     "data": {
      "text/plain": [
       "'2.8.1'"
      ]
     },
     "execution_count": 3,
     "metadata": {},
     "output_type": "execute_result"
    }
   ],
   "source": [
    "import covsirphy as cs\n",
    "cs.__version__"
   ]
  },
  {
   "cell_type": "code",
   "execution_count": 4,
   "metadata": {
    "collapsed": false,
    "tags": []
   },
   "outputs": [
    {
     "name": "stdout",
     "output_type": "stream",
     "text": [
      "(Secondary source) Guidotti, E., Ardia, D., (2020), \"COVID-19 Data Hub\", Journal of Open Source Software 5(51):2376, doi: 10.21105/joss.02376.\n",
      "We can get Citation list of primary sources with DataLoader(...).covid19dh_citation"
     ]
    },
    {
     "name": "stdout",
     "output_type": "stream",
     "text": [
      "\n"
     ]
    }
   ],
   "source": [
    "# Standard users and developers\n",
    "data_loader = cs.DataLoader(\"input\")\n",
    "# The number of cases (JHU style)\n",
    "jhu_data = data_loader.jhu(verbose=False)\n",
    "# Population in each country\n",
    "population_data = data_loader.population(verbose=False)\n",
    "# Government Response Tracker (OxCGRT)\n",
    "oxcgrt_data = data_loader.oxcgrt(verbose=False)\n",
    "# Description/citation\n",
    "print(oxcgrt_data.citation)"
   ]
  },
  {
   "cell_type": "markdown",
   "metadata": {},
   "source": [
    "## Class for policy measure analysis\n",
    "We will `PolicyMeasures` class to find relationship of policy measures and parameter values of SIR-derived ODE models."
   ]
  },
  {
   "cell_type": "code",
   "execution_count": 5,
   "metadata": {
    "collapsed": false,
    "tags": []
   },
   "outputs": [
    {
     "data": {
      "text/plain": [
       "184"
      ]
     },
     "execution_count": 5,
     "metadata": {},
     "output_type": "execute_result"
    }
   ],
   "source": [
    "# Create analyser with tau value 360 [min] (can be changed)\n",
    "analyser = cs.PolicyMeasures(jhu_data, population_data, oxcgrt_data, tau=360)\n",
    "# The number of registerd countries\n",
    "len(analyser.countries)"
   ]
  },
  {
   "cell_type": "code",
   "execution_count": 6,
   "metadata": {
    "collapsed": false
   },
   "outputs": [
    {
     "data": {
      "text/plain": [
       "covsirphy.analysis.scenario.Scenario"
      ]
     },
     "execution_count": 6,
     "metadata": {},
     "output_type": "execute_result"
    }
   ],
   "source": [
    "# We can get Scenario instance for detailed scenario analysis\n",
    "type(analyser.scenario(\"Japan\"))"
   ]
  },
  {
   "cell_type": "markdown",
   "metadata": {},
   "source": [
    "## Set phases with S-R trend analysis\n",
    "We will perform S-R trend analysis to set phases in all countries. Countries which do not have **9th phases** will be un-registered for the next analysis. This number will be adjusted for your analysis."
   ]
  },
  {
   "cell_type": "code",
   "execution_count": 7,
   "metadata": {
    "collapsed": false
   },
   "outputs": [
    {
     "name": "stdout",
     "output_type": "stream",
     "text": [
      "{"
     ]
    },
    {
     "name": "stdout",
     "output_type": "stream",
     "text": [
      "2"
     ]
    },
    {
     "name": "stdout",
     "output_type": "stream",
     "text": [
      ": "
     ]
    },
    {
     "name": "stdout",
     "output_type": "stream",
     "text": [
      "['Bahamas', 'Belize', 'Dominica']"
     ]
    },
    {
     "name": "stdout",
     "output_type": "stream",
     "text": [
      ",\n",
      " "
     ]
    },
    {
     "name": "stdout",
     "output_type": "stream",
     "text": [
      "3"
     ]
    },
    {
     "name": "stdout",
     "output_type": "stream",
     "text": [
      ": "
     ]
    },
    {
     "name": "stdout",
     "output_type": "stream",
     "text": [
      "["
     ]
    },
    {
     "name": "stdout",
     "output_type": "stream",
     "text": [
      "'Gambia'"
     ]
    },
    {
     "name": "stdout",
     "output_type": "stream",
     "text": [
      ", "
     ]
    },
    {
     "name": "stdout",
     "output_type": "stream",
     "text": [
      "'Antigua and Barbuda'"
     ]
    },
    {
     "name": "stdout",
     "output_type": "stream",
     "text": [
      ", "
     ]
    },
    {
     "name": "stdout",
     "output_type": "stream",
     "text": [
      "'Mauritius'"
     ]
    },
    {
     "name": "stdout",
     "output_type": "stream",
     "text": [
      ", "
     ]
    },
    {
     "name": "stdout",
     "output_type": "stream",
     "text": [
      "'Papua New Guinea'"
     ]
    },
    {
     "name": "stdout",
     "output_type": "stream",
     "text": [
      ", "
     ]
    },
    {
     "name": "stdout",
     "output_type": "stream",
     "text": [
      "'Brunei'"
     ]
    },
    {
     "name": "stdout",
     "output_type": "stream",
     "text": [
      ",\n",
      "     "
     ]
    },
    {
     "name": "stdout",
     "output_type": "stream",
     "text": [
      "'Guyana'"
     ]
    },
    {
     "name": "stdout",
     "output_type": "stream",
     "text": [
      ", "
     ]
    },
    {
     "name": "stdout",
     "output_type": "stream",
     "text": [
      "'Namibia'"
     ]
    },
    {
     "name": "stdout",
     "output_type": "stream",
     "text": [
      ", "
     ]
    },
    {
     "name": "stdout",
     "output_type": "stream",
     "text": [
      "'Tanzania'"
     ]
    },
    {
     "name": "stdout",
     "output_type": "stream",
     "text": [
      ", "
     ]
    },
    {
     "name": "stdout",
     "output_type": "stream",
     "text": [
      "'Malta'"
     ]
    },
    {
     "name": "stdout",
     "output_type": "stream",
     "text": [
      "]"
     ]
    },
    {
     "name": "stdout",
     "output_type": "stream",
     "text": [
      ",\n",
      " "
     ]
    },
    {
     "name": "stdout",
     "output_type": "stream",
     "text": [
      "4"
     ]
    },
    {
     "name": "stdout",
     "output_type": "stream",
     "text": [
      ": "
     ]
    },
    {
     "name": "stdout",
     "output_type": "stream",
     "text": [
      "["
     ]
    },
    {
     "name": "stdout",
     "output_type": "stream",
     "text": [
      "'Angola'"
     ]
    },
    {
     "name": "stdout",
     "output_type": "stream",
     "text": [
      ", "
     ]
    },
    {
     "name": "stdout",
     "output_type": "stream",
     "text": [
      "'Ireland'"
     ]
    },
    {
     "name": "stdout",
     "output_type": "stream",
     "text": [
      ", "
     ]
    },
    {
     "name": "stdout",
     "output_type": "stream",
     "text": [
      "'Lesotho'"
     ]
    },
    {
     "name": "stdout",
     "output_type": "stream",
     "text": [
      ", "
     ]
    },
    {
     "name": "stdout",
     "output_type": "stream",
     "text": [
      "'Botswana'"
     ]
    },
    {
     "name": "stdout",
     "output_type": "stream",
     "text": [
      ", "
     ]
    },
    {
     "name": "stdout",
     "output_type": "stream",
     "text": [
      "'Paraguay'"
     ]
    },
    {
     "name": "stdout",
     "output_type": "stream",
     "text": [
      ", "
     ]
    },
    {
     "name": "stdout",
     "output_type": "stream",
     "text": [
      "'Kyrgyzstan'"
     ]
    },
    {
     "name": "stdout",
     "output_type": "stream",
     "text": [
      ",\n",
      "     "
     ]
    },
    {
     "name": "stdout",
     "output_type": "stream",
     "text": [
      "'Ethiopia'"
     ]
    },
    {
     "name": "stdout",
     "output_type": "stream",
     "text": [
      ", "
     ]
    },
    {
     "name": "stdout",
     "output_type": "stream",
     "text": [
      "'Vietnam'"
     ]
    },
    {
     "name": "stdout",
     "output_type": "stream",
     "text": [
      ", "
     ]
    },
    {
     "name": "stdout",
     "output_type": "stream",
     "text": [
      "'Norway'"
     ]
    },
    {
     "name": "stdout",
     "output_type": "stream",
     "text": [
      ", "
     ]
    },
    {
     "name": "stdout",
     "output_type": "stream",
     "text": [
      "'South Sudan'"
     ]
    },
    {
     "name": "stdout",
     "output_type": "stream",
     "text": [
      ", "
     ]
    },
    {
     "name": "stdout",
     "output_type": "stream",
     "text": [
      "'Yemen'"
     ]
    },
    {
     "name": "stdout",
     "output_type": "stream",
     "text": [
      ", "
     ]
    },
    {
     "name": "stdout",
     "output_type": "stream",
     "text": [
      "'Guatemala'"
     ]
    },
    {
     "name": "stdout",
     "output_type": "stream",
     "text": [
      ",\n",
      "     "
     ]
    },
    {
     "name": "stdout",
     "output_type": "stream",
     "text": [
      "'Sao Tome and Principe'"
     ]
    },
    {
     "name": "stdout",
     "output_type": "stream",
     "text": [
      ", "
     ]
    },
    {
     "name": "stdout",
     "output_type": "stream",
     "text": [
      "'Seychelles'"
     ]
    },
    {
     "name": "stdout",
     "output_type": "stream",
     "text": [
      ", "
     ]
    },
    {
     "name": "stdout",
     "output_type": "stream",
     "text": [
      "'Lebanon'"
     ]
    },
    {
     "name": "stdout",
     "output_type": "stream",
     "text": [
      ", "
     ]
    },
    {
     "name": "stdout",
     "output_type": "stream",
     "text": [
      "'Eritrea'"
     ]
    },
    {
     "name": "stdout",
     "output_type": "stream",
     "text": [
      ", "
     ]
    },
    {
     "name": "stdout",
     "output_type": "stream",
     "text": [
      "'Morocco'"
     ]
    },
    {
     "name": "stdout",
     "output_type": "stream",
     "text": [
      ",\n",
      "     "
     ]
    },
    {
     "name": "stdout",
     "output_type": "stream",
     "text": [
      "'Zambia'"
     ]
    },
    {
     "name": "stdout",
     "output_type": "stream",
     "text": [
      ", "
     ]
    },
    {
     "name": "stdout",
     "output_type": "stream",
     "text": [
      "'Grenada'"
     ]
    },
    {
     "name": "stdout",
     "output_type": "stream",
     "text": [
      ", "
     ]
    },
    {
     "name": "stdout",
     "output_type": "stream",
     "text": [
      "'Fiji'"
     ]
    },
    {
     "name": "stdout",
     "output_type": "stream",
     "text": [
      "]"
     ]
    },
    {
     "name": "stdout",
     "output_type": "stream",
     "text": [
      ",\n",
      " "
     ]
    },
    {
     "name": "stdout",
     "output_type": "stream",
     "text": [
      "5"
     ]
    },
    {
     "name": "stdout",
     "output_type": "stream",
     "text": [
      ": "
     ]
    },
    {
     "name": "stdout",
     "output_type": "stream",
     "text": [
      "["
     ]
    },
    {
     "name": "stdout",
     "output_type": "stream",
     "text": [
      "'Chad'"
     ]
    },
    {
     "name": "stdout",
     "output_type": "stream",
     "text": [
      ", "
     ]
    },
    {
     "name": "stdout",
     "output_type": "stream",
     "text": [
      "'Saint Vincent and the Grenadines'"
     ]
    },
    {
     "name": "stdout",
     "output_type": "stream",
     "text": [
      ", "
     ]
    },
    {
     "name": "stdout",
     "output_type": "stream",
     "text": [
      "'Israel'"
     ]
    },
    {
     "name": "stdout",
     "output_type": "stream",
     "text": [
      ", "
     ]
    },
    {
     "name": "stdout",
     "output_type": "stream",
     "text": [
      "'Zimbabwe'"
     ]
    },
    {
     "name": "stdout",
     "output_type": "stream",
     "text": [
      ",\n",
      "     "
     ]
    },
    {
     "name": "stdout",
     "output_type": "stream",
     "text": [
      "'New Zealand'"
     ]
    },
    {
     "name": "stdout",
     "output_type": "stream",
     "text": [
      ", "
     ]
    },
    {
     "name": "stdout",
     "output_type": "stream",
     "text": [
      "'Australia'"
     ]
    },
    {
     "name": "stdout",
     "output_type": "stream",
     "text": [
      ", "
     ]
    },
    {
     "name": "stdout",
     "output_type": "stream",
     "text": [
      "'Palestine'"
     ]
    },
    {
     "name": "stdout",
     "output_type": "stream",
     "text": [
      ", "
     ]
    },
    {
     "name": "stdout",
     "output_type": "stream",
     "text": [
      "'San Marino'"
     ]
    },
    {
     "name": "stdout",
     "output_type": "stream",
     "text": [
      ", "
     ]
    },
    {
     "name": "stdout",
     "output_type": "stream",
     "text": [
      "'Philippines'"
     ]
    },
    {
     "name": "stdout",
     "output_type": "stream",
     "text": [
      ",\n",
      "     "
     ]
    },
    {
     "name": "stdout",
     "output_type": "stream",
     "text": [
      "'Bhutan'"
     ]
    },
    {
     "name": "stdout",
     "output_type": "stream",
     "text": [
      ", "
     ]
    },
    {
     "name": "stdout",
     "output_type": "stream",
     "text": [
      "'Thailand'"
     ]
    },
    {
     "name": "stdout",
     "output_type": "stream",
     "text": [
      ", "
     ]
    },
    {
     "name": "stdout",
     "output_type": "stream",
     "text": [
      "'Saint Lucia'"
     ]
    },
    {
     "name": "stdout",
     "output_type": "stream",
     "text": [
      ", "
     ]
    },
    {
     "name": "stdout",
     "output_type": "stream",
     "text": [
      "'Venezuela'"
     ]
    },
    {
     "name": "stdout",
     "output_type": "stream",
     "text": [
      ",\n",
      "     "
     ]
    },
    {
     "name": "stdout",
     "output_type": "stream",
     "text": [
      "'Central African Republic'"
     ]
    },
    {
     "name": "stdout",
     "output_type": "stream",
     "text": [
      ", "
     ]
    },
    {
     "name": "stdout",
     "output_type": "stream",
     "text": [
      "'Mongolia'"
     ]
    },
    {
     "name": "stdout",
     "output_type": "stream",
     "text": [
      ", "
     ]
    },
    {
     "name": "stdout",
     "output_type": "stream",
     "text": [
      "'Kazakhstan'"
     ]
    },
    {
     "name": "stdout",
     "output_type": "stream",
     "text": [
      ", "
     ]
    },
    {
     "name": "stdout",
     "output_type": "stream",
     "text": [
      "'Montenegro'"
     ]
    },
    {
     "name": "stdout",
     "output_type": "stream",
     "text": [
      ",\n",
      "     "
     ]
    },
    {
     "name": "stdout",
     "output_type": "stream",
     "text": [
      "'Madagascar'"
     ]
    },
    {
     "name": "stdout",
     "output_type": "stream",
     "text": [
      ", "
     ]
    },
    {
     "name": "stdout",
     "output_type": "stream",
     "text": [
      "'Liechtenstein'"
     ]
    },
    {
     "name": "stdout",
     "output_type": "stream",
     "text": [
      ", "
     ]
    },
    {
     "name": "stdout",
     "output_type": "stream",
     "text": [
      "'Iceland'"
     ]
    },
    {
     "name": "stdout",
     "output_type": "stream",
     "text": [
      ", "
     ]
    },
    {
     "name": "stdout",
     "output_type": "stream",
     "text": [
      "'Costa Rica'"
     ]
    },
    {
     "name": "stdout",
     "output_type": "stream",
     "text": [
      ",\n",
      "     "
     ]
    },
    {
     "name": "stdout",
     "output_type": "stream",
     "text": [
      "'Equatorial Guinea'"
     ]
    },
    {
     "name": "stdout",
     "output_type": "stream",
     "text": [
      ", "
     ]
    },
    {
     "name": "stdout",
     "output_type": "stream",
     "text": [
      "'Malawi'"
     ]
    },
    {
     "name": "stdout",
     "output_type": "stream",
     "text": [
      ", "
     ]
    },
    {
     "name": "stdout",
     "output_type": "stream",
     "text": [
      "'Libya'"
     ]
    },
    {
     "name": "stdout",
     "output_type": "stream",
     "text": [
      ", "
     ]
    },
    {
     "name": "stdout",
     "output_type": "stream",
     "text": [
      "'Syria'"
     ]
    },
    {
     "name": "stdout",
     "output_type": "stream",
     "text": [
      "]"
     ]
    },
    {
     "name": "stdout",
     "output_type": "stream",
     "text": [
      ",\n",
      " "
     ]
    },
    {
     "name": "stdout",
     "output_type": "stream",
     "text": [
      "6"
     ]
    },
    {
     "name": "stdout",
     "output_type": "stream",
     "text": [
      ": "
     ]
    },
    {
     "name": "stdout",
     "output_type": "stream",
     "text": [
      "["
     ]
    },
    {
     "name": "stdout",
     "output_type": "stream",
     "text": [
      "'Slovenia'"
     ]
    },
    {
     "name": "stdout",
     "output_type": "stream",
     "text": [
      ", "
     ]
    },
    {
     "name": "stdout",
     "output_type": "stream",
     "text": [
      "'Kosovo'"
     ]
    },
    {
     "name": "stdout",
     "output_type": "stream",
     "text": [
      ", "
     ]
    },
    {
     "name": "stdout",
     "output_type": "stream",
     "text": [
      "'Maldives'"
     ]
    },
    {
     "name": "stdout",
     "output_type": "stream",
     "text": [
      ", "
     ]
    },
    {
     "name": "stdout",
     "output_type": "stream",
     "text": [
      "'Benin'"
     ]
    },
    {
     "name": "stdout",
     "output_type": "stream",
     "text": [
      ", "
     ]
    },
    {
     "name": "stdout",
     "output_type": "stream",
     "text": [
      "'Congo'"
     ]
    },
    {
     "name": "stdout",
     "output_type": "stream",
     "text": [
      ", "
     ]
    },
    {
     "name": "stdout",
     "output_type": "stream",
     "text": [
      "'Barbados'"
     ]
    },
    {
     "name": "stdout",
     "output_type": "stream",
     "text": [
      ", "
     ]
    },
    {
     "name": "stdout",
     "output_type": "stream",
     "text": [
      "'Slovakia'"
     ]
    },
    {
     "name": "stdout",
     "output_type": "stream",
     "text": [
      ",\n",
      "     "
     ]
    },
    {
     "name": "stdout",
     "output_type": "stream",
     "text": [
      "'Luxembourg'"
     ]
    },
    {
     "name": "stdout",
     "output_type": "stream",
     "text": [
      ", "
     ]
    },
    {
     "name": "stdout",
     "output_type": "stream",
     "text": [
      "'Greece'"
     ]
    },
    {
     "name": "stdout",
     "output_type": "stream",
     "text": [
      ", "
     ]
    },
    {
     "name": "stdout",
     "output_type": "stream",
     "text": [
      "'Spain'"
     ]
    },
    {
     "name": "stdout",
     "output_type": "stream",
     "text": [
      ", "
     ]
    },
    {
     "name": "stdout",
     "output_type": "stream",
     "text": [
      "'El Salvador'"
     ]
    },
    {
     "name": "stdout",
     "output_type": "stream",
     "text": [
      ", "
     ]
    },
    {
     "name": "stdout",
     "output_type": "stream",
     "text": [
      "'Suriname'"
     ]
    },
    {
     "name": "stdout",
     "output_type": "stream",
     "text": [
      ", "
     ]
    },
    {
     "name": "stdout",
     "output_type": "stream",
     "text": [
      "'Niger'"
     ]
    },
    {
     "name": "stdout",
     "output_type": "stream",
     "text": [
      ",\n",
      "     "
     ]
    },
    {
     "name": "stdout",
     "output_type": "stream",
     "text": [
      "'Kenya'"
     ]
    },
    {
     "name": "stdout",
     "output_type": "stream",
     "text": [
      ", "
     ]
    },
    {
     "name": "stdout",
     "output_type": "stream",
     "text": [
      "'Swaziland'"
     ]
    },
    {
     "name": "stdout",
     "output_type": "stream",
     "text": [
      ", "
     ]
    },
    {
     "name": "stdout",
     "output_type": "stream",
     "text": [
      "'Cameroon'"
     ]
    },
    {
     "name": "stdout",
     "output_type": "stream",
     "text": [
      ", "
     ]
    },
    {
     "name": "stdout",
     "output_type": "stream",
     "text": [
      "'Andorra'"
     ]
    },
    {
     "name": "stdout",
     "output_type": "stream",
     "text": [
      ", "
     ]
    },
    {
     "name": "stdout",
     "output_type": "stream",
     "text": [
      "'Guinea-Bissau'"
     ]
    },
    {
     "name": "stdout",
     "output_type": "stream",
     "text": [
      ", "
     ]
    },
    {
     "name": "stdout",
     "output_type": "stream",
     "text": [
      "'Colombia'"
     ]
    },
    {
     "name": "stdout",
     "output_type": "stream",
     "text": [
      ",\n",
      "     "
     ]
    },
    {
     "name": "stdout",
     "output_type": "stream",
     "text": [
      "'Sri Lanka'"
     ]
    },
    {
     "name": "stdout",
     "output_type": "stream",
     "text": [
      ", "
     ]
    },
    {
     "name": "stdout",
     "output_type": "stream",
     "text": [
      "'Netherlands'"
     ]
    },
    {
     "name": "stdout",
     "output_type": "stream",
     "text": [
      ", "
     ]
    },
    {
     "name": "stdout",
     "output_type": "stream",
     "text": [
      "'Uzbekistan'"
     ]
    },
    {
     "name": "stdout",
     "output_type": "stream",
     "text": [
      ", "
     ]
    },
    {
     "name": "stdout",
     "output_type": "stream",
     "text": [
      "'Tajikistan'"
     ]
    },
    {
     "name": "stdout",
     "output_type": "stream",
     "text": [
      ", "
     ]
    },
    {
     "name": "stdout",
     "output_type": "stream",
     "text": [
      "'Japan'"
     ]
    },
    {
     "name": "stdout",
     "output_type": "stream",
     "text": [
      ",\n",
      "     "
     ]
    },
    {
     "name": "stdout",
     "output_type": "stream",
     "text": [
      "'Afghanistan'"
     ]
    },
    {
     "name": "stdout",
     "output_type": "stream",
     "text": [
      ", "
     ]
    },
    {
     "name": "stdout",
     "output_type": "stream",
     "text": [
      "'Taiwan'"
     ]
    },
    {
     "name": "stdout",
     "output_type": "stream",
     "text": [
      ", "
     ]
    },
    {
     "name": "stdout",
     "output_type": "stream",
     "text": [
      "'India'"
     ]
    },
    {
     "name": "stdout",
     "output_type": "stream",
     "text": [
      ", "
     ]
    },
    {
     "name": "stdout",
     "output_type": "stream",
     "text": [
      "'Rwanda'"
     ]
    },
    {
     "name": "stdout",
     "output_type": "stream",
     "text": [
      ", "
     ]
    },
    {
     "name": "stdout",
     "output_type": "stream",
     "text": [
      "'Bermuda'"
     ]
    },
    {
     "name": "stdout",
     "output_type": "stream",
     "text": [
      ", "
     ]
    },
    {
     "name": "stdout",
     "output_type": "stream",
     "text": [
      "'Mozambique'"
     ]
    },
    {
     "name": "stdout",
     "output_type": "stream",
     "text": [
      ",\n",
      "     "
     ]
    },
    {
     "name": "stdout",
     "output_type": "stream",
     "text": [
      "'Cambodia'"
     ]
    },
    {
     "name": "stdout",
     "output_type": "stream",
     "text": [
      ", "
     ]
    },
    {
     "name": "stdout",
     "output_type": "stream",
     "text": [
      "'Croatia'"
     ]
    },
    {
     "name": "stdout",
     "output_type": "stream",
     "text": [
      ", "
     ]
    },
    {
     "name": "stdout",
     "output_type": "stream",
     "text": [
      "'Comoros'"
     ]
    },
    {
     "name": "stdout",
     "output_type": "stream",
     "text": [
      ", "
     ]
    },
    {
     "name": "stdout",
     "output_type": "stream",
     "text": [
      "'Somalia'"
     ]
    },
    {
     "name": "stdout",
     "output_type": "stream",
     "text": [
      ", "
     ]
    },
    {
     "name": "stdout",
     "output_type": "stream",
     "text": [
      "'Haiti'"
     ]
    },
    {
     "name": "stdout",
     "output_type": "stream",
     "text": [
      "]"
     ]
    },
    {
     "name": "stdout",
     "output_type": "stream",
     "text": [
      ",\n",
      " "
     ]
    },
    {
     "name": "stdout",
     "output_type": "stream",
     "text": [
      "7"
     ]
    },
    {
     "name": "stdout",
     "output_type": "stream",
     "text": [
      ": "
     ]
    },
    {
     "name": "stdout",
     "output_type": "stream",
     "text": [
      "["
     ]
    },
    {
     "name": "stdout",
     "output_type": "stream",
     "text": [
      "'Finland'"
     ]
    },
    {
     "name": "stdout",
     "output_type": "stream",
     "text": [
      ", "
     ]
    },
    {
     "name": "stdout",
     "output_type": "stream",
     "text": [
      "'Latvia'"
     ]
    },
    {
     "name": "stdout",
     "output_type": "stream",
     "text": [
      ", "
     ]
    },
    {
     "name": "stdout",
     "output_type": "stream",
     "text": [
      "'Togo'"
     ]
    },
    {
     "name": "stdout",
     "output_type": "stream",
     "text": [
      ", "
     ]
    },
    {
     "name": "stdout",
     "output_type": "stream",
     "text": [
      "'South Africa'"
     ]
    },
    {
     "name": "stdout",
     "output_type": "stream",
     "text": [
      ", "
     ]
    },
    {
     "name": "stdout",
     "output_type": "stream",
     "text": [
      "'Ghana'"
     ]
    },
    {
     "name": "stdout",
     "output_type": "stream",
     "text": [
      ", "
     ]
    },
    {
     "name": "stdout",
     "output_type": "stream",
     "text": [
      "'Burundi'"
     ]
    },
    {
     "name": "stdout",
     "output_type": "stream",
     "text": [
      ", "
     ]
    },
    {
     "name": "stdout",
     "output_type": "stream",
     "text": [
      "'Jamaica'"
     ]
    },
    {
     "name": "stdout",
     "output_type": "stream",
     "text": [
      ",\n",
      "     "
     ]
    },
    {
     "name": "stdout",
     "output_type": "stream",
     "text": [
      "'Gabon'"
     ]
    },
    {
     "name": "stdout",
     "output_type": "stream",
     "text": [
      ", "
     ]
    },
    {
     "name": "stdout",
     "output_type": "stream",
     "text": [
      "'Macedonia'"
     ]
    },
    {
     "name": "stdout",
     "output_type": "stream",
     "text": [
      ", "
     ]
    },
    {
     "name": "stdout",
     "output_type": "stream",
     "text": [
      "'Panama'"
     ]
    },
    {
     "name": "stdout",
     "output_type": "stream",
     "text": [
      ", "
     ]
    },
    {
     "name": "stdout",
     "output_type": "stream",
     "text": [
      "'Cuba'"
     ]
    },
    {
     "name": "stdout",
     "output_type": "stream",
     "text": [
      ", "
     ]
    },
    {
     "name": "stdout",
     "output_type": "stream",
     "text": [
      "'Serbia'"
     ]
    },
    {
     "name": "stdout",
     "output_type": "stream",
     "text": [
      ", "
     ]
    },
    {
     "name": "stdout",
     "output_type": "stream",
     "text": [
      "'Uganda'"
     ]
    },
    {
     "name": "stdout",
     "output_type": "stream",
     "text": [
      ", "
     ]
    },
    {
     "name": "stdout",
     "output_type": "stream",
     "text": [
      "'Germany'"
     ]
    },
    {
     "name": "stdout",
     "output_type": "stream",
     "text": [
      ",\n",
      "     "
     ]
    },
    {
     "name": "stdout",
     "output_type": "stream",
     "text": [
      "'Mali'"
     ]
    },
    {
     "name": "stdout",
     "output_type": "stream",
     "text": [
      ", "
     ]
    },
    {
     "name": "stdout",
     "output_type": "stream",
     "text": [
      "'Nepal'"
     ]
    },
    {
     "name": "stdout",
     "output_type": "stream",
     "text": [
      ", "
     ]
    },
    {
     "name": "stdout",
     "output_type": "stream",
     "text": [
      "'Albania'"
     ]
    },
    {
     "name": "stdout",
     "output_type": "stream",
     "text": [
      ", "
     ]
    },
    {
     "name": "stdout",
     "output_type": "stream",
     "text": [
      "'Monaco'"
     ]
    },
    {
     "name": "stdout",
     "output_type": "stream",
     "text": [
      ", "
     ]
    },
    {
     "name": "stdout",
     "output_type": "stream",
     "text": [
      "'Argentina'"
     ]
    },
    {
     "name": "stdout",
     "output_type": "stream",
     "text": [
      ", "
     ]
    },
    {
     "name": "stdout",
     "output_type": "stream",
     "text": [
      "'Armenia'"
     ]
    },
    {
     "name": "stdout",
     "output_type": "stream",
     "text": [
      ", "
     ]
    },
    {
     "name": "stdout",
     "output_type": "stream",
     "text": [
      "'Canada'"
     ]
    },
    {
     "name": "stdout",
     "output_type": "stream",
     "text": [
      ",\n",
      "     "
     ]
    },
    {
     "name": "stdout",
     "output_type": "stream",
     "text": [
      "'Iraq'"
     ]
    },
    {
     "name": "stdout",
     "output_type": "stream",
     "text": [
      ", "
     ]
    },
    {
     "name": "stdout",
     "output_type": "stream",
     "text": [
      "'Djibouti'"
     ]
    },
    {
     "name": "stdout",
     "output_type": "stream",
     "text": [
      ", "
     ]
    },
    {
     "name": "stdout",
     "output_type": "stream",
     "text": [
      "'Sudan'"
     ]
    },
    {
     "name": "stdout",
     "output_type": "stream",
     "text": [
      ", "
     ]
    },
    {
     "name": "stdout",
     "output_type": "stream",
     "text": [
      "'Ecuador'"
     ]
    },
    {
     "name": "stdout",
     "output_type": "stream",
     "text": [
      ", "
     ]
    },
    {
     "name": "stdout",
     "output_type": "stream",
     "text": [
      "'Mauritania'"
     ]
    },
    {
     "name": "stdout",
     "output_type": "stream",
     "text": [
      ", "
     ]
    },
    {
     "name": "stdout",
     "output_type": "stream",
     "text": [
      "'Jordan'"
     ]
    },
    {
     "name": "stdout",
     "output_type": "stream",
     "text": [
      ", "
     ]
    },
    {
     "name": "stdout",
     "output_type": "stream",
     "text": [
      "'Cyprus'"
     ]
    },
    {
     "name": "stdout",
     "output_type": "stream",
     "text": [
      ",\n",
      "     "
     ]
    },
    {
     "name": "stdout",
     "output_type": "stream",
     "text": [
      "'Oman'"
     ]
    },
    {
     "name": "stdout",
     "output_type": "stream",
     "text": [
      ", "
     ]
    },
    {
     "name": "stdout",
     "output_type": "stream",
     "text": [
      "'Qatar'"
     ]
    },
    {
     "name": "stdout",
     "output_type": "stream",
     "text": [
      ", "
     ]
    },
    {
     "name": "stdout",
     "output_type": "stream",
     "text": [
      "'Bosnia and Herzegovina'"
     ]
    },
    {
     "name": "stdout",
     "output_type": "stream",
     "text": [
      ", "
     ]
    },
    {
     "name": "stdout",
     "output_type": "stream",
     "text": [
      "'China'"
     ]
    },
    {
     "name": "stdout",
     "output_type": "stream",
     "text": [
      ", "
     ]
    },
    {
     "name": "stdout",
     "output_type": "stream",
     "text": [
      "'Sierra Leone'"
     ]
    },
    {
     "name": "stdout",
     "output_type": "stream",
     "text": [
      ",\n",
      "     "
     ]
    },
    {
     "name": "stdout",
     "output_type": "stream",
     "text": [
      "'Tunisia'"
     ]
    },
    {
     "name": "stdout",
     "output_type": "stream",
     "text": [
      ", "
     ]
    },
    {
     "name": "stdout",
     "output_type": "stream",
     "text": [
      "'Pakistan'"
     ]
    },
    {
     "name": "stdout",
     "output_type": "stream",
     "text": [
      "]"
     ]
    },
    {
     "name": "stdout",
     "output_type": "stream",
     "text": [
      ",\n",
      " "
     ]
    },
    {
     "name": "stdout",
     "output_type": "stream",
     "text": [
      "8"
     ]
    },
    {
     "name": "stdout",
     "output_type": "stream",
     "text": [
      ": "
     ]
    },
    {
     "name": "stdout",
     "output_type": "stream",
     "text": [
      "["
     ]
    },
    {
     "name": "stdout",
     "output_type": "stream",
     "text": [
      "'Dominican Republic'"
     ]
    },
    {
     "name": "stdout",
     "output_type": "stream",
     "text": [
      ", "
     ]
    },
    {
     "name": "stdout",
     "output_type": "stream",
     "text": [
      "'Nigeria'"
     ]
    },
    {
     "name": "stdout",
     "output_type": "stream",
     "text": [
      ", "
     ]
    },
    {
     "name": "stdout",
     "output_type": "stream",
     "text": [
      "'Azerbaijan'"
     ]
    },
    {
     "name": "stdout",
     "output_type": "stream",
     "text": [
      ", "
     ]
    },
    {
     "name": "stdout",
     "output_type": "stream",
     "text": [
      "'Liberia'"
     ]
    },
    {
     "name": "stdout",
     "output_type": "stream",
     "text": [
      ", "
     ]
    },
    {
     "name": "stdout",
     "output_type": "stream",
     "text": [
      "'Denmark'"
     ]
    },
    {
     "name": "stdout",
     "output_type": "stream",
     "text": [
      ",\n",
      "     "
     ]
    },
    {
     "name": "stdout",
     "output_type": "stream",
     "text": [
      "'Malaysia'"
     ]
    },
    {
     "name": "stdout",
     "output_type": "stream",
     "text": [
      ", "
     ]
    },
    {
     "name": "stdout",
     "output_type": "stream",
     "text": [
      "'Estonia'"
     ]
    },
    {
     "name": "stdout",
     "output_type": "stream",
     "text": [
      ", "
     ]
    },
    {
     "name": "stdout",
     "output_type": "stream",
     "text": [
      "'Egypt'"
     ]
    },
    {
     "name": "stdout",
     "output_type": "stream",
     "text": [
      ", "
     ]
    },
    {
     "name": "stdout",
     "output_type": "stream",
     "text": [
      "'Bangladesh'"
     ]
    },
    {
     "name": "stdout",
     "output_type": "stream",
     "text": [
      ", "
     ]
    },
    {
     "name": "stdout",
     "output_type": "stream",
     "text": [
      "'Bolivia'"
     ]
    },
    {
     "name": "stdout",
     "output_type": "stream",
     "text": [
      ", "
     ]
    },
    {
     "name": "stdout",
     "output_type": "stream",
     "text": [
      "'Peru'"
     ]
    },
    {
     "name": "stdout",
     "output_type": "stream",
     "text": [
      ",\n",
      "     "
     ]
    },
    {
     "name": "stdout",
     "output_type": "stream",
     "text": [
      "'Cape Verde'"
     ]
    },
    {
     "name": "stdout",
     "output_type": "stream",
     "text": [
      ", "
     ]
    },
    {
     "name": "stdout",
     "output_type": "stream",
     "text": [
      "'Uruguay'"
     ]
    },
    {
     "name": "stdout",
     "output_type": "stream",
     "text": [
      ", "
     ]
    },
    {
     "name": "stdout",
     "output_type": "stream",
     "text": [
      "'Saudi Arabia'"
     ]
    },
    {
     "name": "stdout",
     "output_type": "stream",
     "text": [
      ", "
     ]
    },
    {
     "name": "stdout",
     "output_type": "stream",
     "text": [
      "'Bulgaria'"
     ]
    },
    {
     "name": "stdout",
     "output_type": "stream",
     "text": [
      ", "
     ]
    },
    {
     "name": "stdout",
     "output_type": "stream",
     "text": [
      "'Algeria'"
     ]
    },
    {
     "name": "stdout",
     "output_type": "stream",
     "text": [
      ", "
     ]
    },
    {
     "name": "stdout",
     "output_type": "stream",
     "text": [
      "'Belgium'"
     ]
    },
    {
     "name": "stdout",
     "output_type": "stream",
     "text": [
      ",\n",
      "     "
     ]
    },
    {
     "name": "stdout",
     "output_type": "stream",
     "text": [
      "'Singapore'"
     ]
    },
    {
     "name": "stdout",
     "output_type": "stream",
     "text": [
      ", "
     ]
    },
    {
     "name": "stdout",
     "output_type": "stream",
     "text": [
      "'Indonesia'"
     ]
    },
    {
     "name": "stdout",
     "output_type": "stream",
     "text": [
      ", "
     ]
    },
    {
     "name": "stdout",
     "output_type": "stream",
     "text": [
      "'Georgia'"
     ]
    },
    {
     "name": "stdout",
     "output_type": "stream",
     "text": [
      ", "
     ]
    },
    {
     "name": "stdout",
     "output_type": "stream",
     "text": [
      "'Switzerland'"
     ]
    },
    {
     "name": "stdout",
     "output_type": "stream",
     "text": [
      ", "
     ]
    },
    {
     "name": "stdout",
     "output_type": "stream",
     "text": [
      "'Austria'"
     ]
    },
    {
     "name": "stdout",
     "output_type": "stream",
     "text": [
      ", "
     ]
    },
    {
     "name": "stdout",
     "output_type": "stream",
     "text": [
      "'Chile'"
     ]
    },
    {
     "name": "stdout",
     "output_type": "stream",
     "text": [
      ",\n",
      "     "
     ]
    },
    {
     "name": "stdout",
     "output_type": "stream",
     "text": [
      "'Belarus'"
     ]
    },
    {
     "name": "stdout",
     "output_type": "stream",
     "text": [
      ", "
     ]
    },
    {
     "name": "stdout",
     "output_type": "stream",
     "text": [
      "'Korea, South'"
     ]
    },
    {
     "name": "stdout",
     "output_type": "stream",
     "text": [
      ", "
     ]
    },
    {
     "name": "stdout",
     "output_type": "stream",
     "text": [
      "'Lithuania'"
     ]
    },
    {
     "name": "stdout",
     "output_type": "stream",
     "text": [
      ", "
     ]
    },
    {
     "name": "stdout",
     "output_type": "stream",
     "text": [
      "'Nicaragua'"
     ]
    },
    {
     "name": "stdout",
     "output_type": "stream",
     "text": [
      "]"
     ]
    },
    {
     "name": "stdout",
     "output_type": "stream",
     "text": [
      ",\n",
      " "
     ]
    },
    {
     "name": "stdout",
     "output_type": "stream",
     "text": [
      "9"
     ]
    },
    {
     "name": "stdout",
     "output_type": "stream",
     "text": [
      ": "
     ]
    },
    {
     "name": "stdout",
     "output_type": "stream",
     "text": [
      "["
     ]
    },
    {
     "name": "stdout",
     "output_type": "stream",
     "text": [
      "'Czech Republic'"
     ]
    },
    {
     "name": "stdout",
     "output_type": "stream",
     "text": [
      ", "
     ]
    },
    {
     "name": "stdout",
     "output_type": "stream",
     "text": [
      "'Myanmar'"
     ]
    },
    {
     "name": "stdout",
     "output_type": "stream",
     "text": [
      ", "
     ]
    },
    {
     "name": "stdout",
     "output_type": "stream",
     "text": [
      "'Italy'"
     ]
    },
    {
     "name": "stdout",
     "output_type": "stream",
     "text": [
      ", "
     ]
    },
    {
     "name": "stdout",
     "output_type": "stream",
     "text": [
      "'Russia'"
     ]
    },
    {
     "name": "stdout",
     "output_type": "stream",
     "text": [
      ", "
     ]
    },
    {
     "name": "stdout",
     "output_type": "stream",
     "text": [
      "'Turkey'"
     ]
    },
    {
     "name": "stdout",
     "output_type": "stream",
     "text": [
      ", "
     ]
    },
    {
     "name": "stdout",
     "output_type": "stream",
     "text": [
      "'Mexico'"
     ]
    },
    {
     "name": "stdout",
     "output_type": "stream",
     "text": [
      ",\n",
      "     "
     ]
    },
    {
     "name": "stdout",
     "output_type": "stream",
     "text": [
      "'Honduras'"
     ]
    },
    {
     "name": "stdout",
     "output_type": "stream",
     "text": [
      ", "
     ]
    },
    {
     "name": "stdout",
     "output_type": "stream",
     "text": [
      "'Brazil'"
     ]
    },
    {
     "name": "stdout",
     "output_type": "stream",
     "text": [
      ", "
     ]
    },
    {
     "name": "stdout",
     "output_type": "stream",
     "text": [
      "'United States'"
     ]
    },
    {
     "name": "stdout",
     "output_type": "stream",
     "text": [
      ", "
     ]
    },
    {
     "name": "stdout",
     "output_type": "stream",
     "text": [
      "'Bahrain'"
     ]
    },
    {
     "name": "stdout",
     "output_type": "stream",
     "text": [
      ", "
     ]
    },
    {
     "name": "stdout",
     "output_type": "stream",
     "text": [
      "'Ukraine'"
     ]
    },
    {
     "name": "stdout",
     "output_type": "stream",
     "text": [
      ",\n",
      "     "
     ]
    },
    {
     "name": "stdout",
     "output_type": "stream",
     "text": [
      "'Burkina Faso'"
     ]
    },
    {
     "name": "stdout",
     "output_type": "stream",
     "text": [
      ", "
     ]
    },
    {
     "name": "stdout",
     "output_type": "stream",
     "text": [
      "'Portugal'"
     ]
    },
    {
     "name": "stdout",
     "output_type": "stream",
     "text": [
      ", "
     ]
    },
    {
     "name": "stdout",
     "output_type": "stream",
     "text": [
      "'France'"
     ]
    },
    {
     "name": "stdout",
     "output_type": "stream",
     "text": [
      ", "
     ]
    },
    {
     "name": "stdout",
     "output_type": "stream",
     "text": [
      "'Guinea'"
     ]
    },
    {
     "name": "stdout",
     "output_type": "stream",
     "text": [
      ", "
     ]
    },
    {
     "name": "stdout",
     "output_type": "stream",
     "text": [
      "'Romania'"
     ]
    },
    {
     "name": "stdout",
     "output_type": "stream",
     "text": [
      ", "
     ]
    },
    {
     "name": "stdout",
     "output_type": "stream",
     "text": [
      "'Moldova'"
     ]
    },
    {
     "name": "stdout",
     "output_type": "stream",
     "text": [
      ",\n",
      "     "
     ]
    },
    {
     "name": "stdout",
     "output_type": "stream",
     "text": [
      "'Hungary'"
     ]
    },
    {
     "name": "stdout",
     "output_type": "stream",
     "text": [
      ", "
     ]
    },
    {
     "name": "stdout",
     "output_type": "stream",
     "text": [
      "'Kuwait'"
     ]
    },
    {
     "name": "stdout",
     "output_type": "stream",
     "text": [
      "]"
     ]
    },
    {
     "name": "stdout",
     "output_type": "stream",
     "text": [
      ",\n",
      " "
     ]
    },
    {
     "name": "stdout",
     "output_type": "stream",
     "text": [
      "10"
     ]
    },
    {
     "name": "stdout",
     "output_type": "stream",
     "text": [
      ": "
     ]
    },
    {
     "name": "stdout",
     "output_type": "stream",
     "text": [
      "['Poland', 'Senegal', 'Iran', 'United Arab Emirates']"
     ]
    },
    {
     "name": "stdout",
     "output_type": "stream",
     "text": [
      "}"
     ]
    },
    {
     "name": "stdout",
     "output_type": "stream",
     "text": [
      "\n"
     ]
    }
   ],
   "source": [
    "# Show the number of phases of all countries\n",
    "analyser.trend()\n",
    "pprint(analyser.phase_len(), compact=True)"
   ]
  },
  {
   "cell_type": "code",
   "execution_count": 8,
   "metadata": {
    "collapsed": false
   },
   "outputs": [
    {
     "data": {
      "text/plain": [
       "23"
      ]
     },
     "execution_count": 8,
     "metadata": {},
     "output_type": "execute_result"
    }
   ],
   "source": [
    "# Set phases with S-R trend analysis\n",
    "analyser.trend(min_len=9)\n",
    "# The number of countries\n",
    "len(analyser.countries)"
   ]
  },
  {
   "cell_type": "code",
   "execution_count": 9,
   "metadata": {
    "collapsed": false,
    "tags": []
   },
   "outputs": [
    {
     "name": "stdout",
     "output_type": "stream",
     "text": [
      "{"
     ]
    },
    {
     "name": "stdout",
     "output_type": "stream",
     "text": [
      "9"
     ]
    },
    {
     "name": "stdout",
     "output_type": "stream",
     "text": [
      ": "
     ]
    },
    {
     "name": "stdout",
     "output_type": "stream",
     "text": [
      "["
     ]
    },
    {
     "name": "stdout",
     "output_type": "stream",
     "text": [
      "'Czech Republic'"
     ]
    },
    {
     "name": "stdout",
     "output_type": "stream",
     "text": [
      ", "
     ]
    },
    {
     "name": "stdout",
     "output_type": "stream",
     "text": [
      "'Myanmar'"
     ]
    },
    {
     "name": "stdout",
     "output_type": "stream",
     "text": [
      ", "
     ]
    },
    {
     "name": "stdout",
     "output_type": "stream",
     "text": [
      "'Italy'"
     ]
    },
    {
     "name": "stdout",
     "output_type": "stream",
     "text": [
      ", "
     ]
    },
    {
     "name": "stdout",
     "output_type": "stream",
     "text": [
      "'Russia'"
     ]
    },
    {
     "name": "stdout",
     "output_type": "stream",
     "text": [
      ", "
     ]
    },
    {
     "name": "stdout",
     "output_type": "stream",
     "text": [
      "'Turkey'"
     ]
    },
    {
     "name": "stdout",
     "output_type": "stream",
     "text": [
      ", "
     ]
    },
    {
     "name": "stdout",
     "output_type": "stream",
     "text": [
      "'Mexico'"
     ]
    },
    {
     "name": "stdout",
     "output_type": "stream",
     "text": [
      ",\n",
      "     "
     ]
    },
    {
     "name": "stdout",
     "output_type": "stream",
     "text": [
      "'Honduras'"
     ]
    },
    {
     "name": "stdout",
     "output_type": "stream",
     "text": [
      ", "
     ]
    },
    {
     "name": "stdout",
     "output_type": "stream",
     "text": [
      "'Brazil'"
     ]
    },
    {
     "name": "stdout",
     "output_type": "stream",
     "text": [
      ", "
     ]
    },
    {
     "name": "stdout",
     "output_type": "stream",
     "text": [
      "'United States'"
     ]
    },
    {
     "name": "stdout",
     "output_type": "stream",
     "text": [
      ", "
     ]
    },
    {
     "name": "stdout",
     "output_type": "stream",
     "text": [
      "'Bahrain'"
     ]
    },
    {
     "name": "stdout",
     "output_type": "stream",
     "text": [
      ", "
     ]
    },
    {
     "name": "stdout",
     "output_type": "stream",
     "text": [
      "'Ukraine'"
     ]
    },
    {
     "name": "stdout",
     "output_type": "stream",
     "text": [
      ",\n",
      "     "
     ]
    },
    {
     "name": "stdout",
     "output_type": "stream",
     "text": [
      "'Burkina Faso'"
     ]
    },
    {
     "name": "stdout",
     "output_type": "stream",
     "text": [
      ", "
     ]
    },
    {
     "name": "stdout",
     "output_type": "stream",
     "text": [
      "'Portugal'"
     ]
    },
    {
     "name": "stdout",
     "output_type": "stream",
     "text": [
      ", "
     ]
    },
    {
     "name": "stdout",
     "output_type": "stream",
     "text": [
      "'France'"
     ]
    },
    {
     "name": "stdout",
     "output_type": "stream",
     "text": [
      ", "
     ]
    },
    {
     "name": "stdout",
     "output_type": "stream",
     "text": [
      "'Guinea'"
     ]
    },
    {
     "name": "stdout",
     "output_type": "stream",
     "text": [
      ", "
     ]
    },
    {
     "name": "stdout",
     "output_type": "stream",
     "text": [
      "'Romania'"
     ]
    },
    {
     "name": "stdout",
     "output_type": "stream",
     "text": [
      ", "
     ]
    },
    {
     "name": "stdout",
     "output_type": "stream",
     "text": [
      "'Moldova'"
     ]
    },
    {
     "name": "stdout",
     "output_type": "stream",
     "text": [
      ",\n",
      "     "
     ]
    },
    {
     "name": "stdout",
     "output_type": "stream",
     "text": [
      "'Hungary'"
     ]
    },
    {
     "name": "stdout",
     "output_type": "stream",
     "text": [
      ", "
     ]
    },
    {
     "name": "stdout",
     "output_type": "stream",
     "text": [
      "'Kuwait'"
     ]
    },
    {
     "name": "stdout",
     "output_type": "stream",
     "text": [
      "]"
     ]
    },
    {
     "name": "stdout",
     "output_type": "stream",
     "text": [
      ",\n",
      " "
     ]
    },
    {
     "name": "stdout",
     "output_type": "stream",
     "text": [
      "10"
     ]
    },
    {
     "name": "stdout",
     "output_type": "stream",
     "text": [
      ": "
     ]
    },
    {
     "name": "stdout",
     "output_type": "stream",
     "text": [
      "['Poland', 'Senegal', 'Iran', 'United Arab Emirates']"
     ]
    },
    {
     "name": "stdout",
     "output_type": "stream",
     "text": [
      "}"
     ]
    },
    {
     "name": "stdout",
     "output_type": "stream",
     "text": [
      "\n"
     ]
    }
   ],
   "source": [
    "phase_len_dict = analyser.phase_len()\n",
    "pprint(phase_len_dict, compact=True)"
   ]
  },
  {
   "cell_type": "code",
   "execution_count": 10,
   "metadata": {
    "collapsed": false,
    "tags": []
   },
   "outputs": [
    {
     "data": {
      "text/html": [
       "<div>\n",
       "<style scoped>\n",
       "    .dataframe tbody tr th:only-of-type {\n",
       "        vertical-align: middle;\n",
       "    }\n",
       "\n",
       "    .dataframe tbody tr th {\n",
       "        vertical-align: top;\n",
       "    }\n",
       "\n",
       "    .dataframe thead th {\n",
       "        text-align: right;\n",
       "    }\n",
       "</style>\n",
       "<table border=\"1\" class=\"dataframe\">\n",
       "  <thead>\n",
       "    <tr style=\"text-align: right;\">\n",
       "      <th></th>\n",
       "      <th></th>\n",
       "      <th>Type</th>\n",
       "      <th>Start</th>\n",
       "      <th>End</th>\n",
       "      <th>Population</th>\n",
       "    </tr>\n",
       "    <tr>\n",
       "      <th>Country</th>\n",
       "      <th>Phase</th>\n",
       "      <th></th>\n",
       "      <th></th>\n",
       "      <th></th>\n",
       "      <th></th>\n",
       "    </tr>\n",
       "  </thead>\n",
       "  <tbody>\n",
       "    <tr>\n",
       "      <th rowspan=\"10\" valign=\"top\">Poland</th>\n",
       "      <th>1st</th>\n",
       "      <td>Past</td>\n",
       "      <td>24Apr2020</td>\n",
       "      <td>12May2020</td>\n",
       "      <td>37974750</td>\n",
       "    </tr>\n",
       "    <tr>\n",
       "      <th>2nd</th>\n",
       "      <td>Past</td>\n",
       "      <td>13May2020</td>\n",
       "      <td>28May2020</td>\n",
       "      <td>37974750</td>\n",
       "    </tr>\n",
       "    <tr>\n",
       "      <th>3rd</th>\n",
       "      <td>Past</td>\n",
       "      <td>29May2020</td>\n",
       "      <td>12Jun2020</td>\n",
       "      <td>37974750</td>\n",
       "    </tr>\n",
       "    <tr>\n",
       "      <th>4th</th>\n",
       "      <td>Past</td>\n",
       "      <td>13Jun2020</td>\n",
       "      <td>29Jun2020</td>\n",
       "      <td>37974750</td>\n",
       "    </tr>\n",
       "    <tr>\n",
       "      <th>5th</th>\n",
       "      <td>Past</td>\n",
       "      <td>30Jun2020</td>\n",
       "      <td>13Jul2020</td>\n",
       "      <td>37974750</td>\n",
       "    </tr>\n",
       "    <tr>\n",
       "      <th>6th</th>\n",
       "      <td>Past</td>\n",
       "      <td>14Jul2020</td>\n",
       "      <td>25Jul2020</td>\n",
       "      <td>37974750</td>\n",
       "    </tr>\n",
       "    <tr>\n",
       "      <th>7th</th>\n",
       "      <td>Past</td>\n",
       "      <td>26Jul2020</td>\n",
       "      <td>04Aug2020</td>\n",
       "      <td>37974750</td>\n",
       "    </tr>\n",
       "    <tr>\n",
       "      <th>8th</th>\n",
       "      <td>Past</td>\n",
       "      <td>05Aug2020</td>\n",
       "      <td>14Aug2020</td>\n",
       "      <td>37974750</td>\n",
       "    </tr>\n",
       "    <tr>\n",
       "      <th>9th</th>\n",
       "      <td>Past</td>\n",
       "      <td>15Aug2020</td>\n",
       "      <td>22Aug2020</td>\n",
       "      <td>37974750</td>\n",
       "    </tr>\n",
       "    <tr>\n",
       "      <th>10th</th>\n",
       "      <td>Past</td>\n",
       "      <td>23Aug2020</td>\n",
       "      <td>31Aug2020</td>\n",
       "      <td>37974750</td>\n",
       "    </tr>\n",
       "    <tr>\n",
       "      <th rowspan=\"10\" valign=\"top\">Senegal</th>\n",
       "      <th>1st</th>\n",
       "      <td>Past</td>\n",
       "      <td>03May2020</td>\n",
       "      <td>14May2020</td>\n",
       "      <td>15854360</td>\n",
       "    </tr>\n",
       "    <tr>\n",
       "      <th>2nd</th>\n",
       "      <td>Past</td>\n",
       "      <td>15May2020</td>\n",
       "      <td>29May2020</td>\n",
       "      <td>15854360</td>\n",
       "    </tr>\n",
       "    <tr>\n",
       "      <th>3rd</th>\n",
       "      <td>Past</td>\n",
       "      <td>30May2020</td>\n",
       "      <td>09Jun2020</td>\n",
       "      <td>15854360</td>\n",
       "    </tr>\n",
       "    <tr>\n",
       "      <th>4th</th>\n",
       "      <td>Past</td>\n",
       "      <td>10Jun2020</td>\n",
       "      <td>20Jun2020</td>\n",
       "      <td>15854360</td>\n",
       "    </tr>\n",
       "    <tr>\n",
       "      <th>5th</th>\n",
       "      <td>Past</td>\n",
       "      <td>21Jun2020</td>\n",
       "      <td>02Jul2020</td>\n",
       "      <td>15854360</td>\n",
       "    </tr>\n",
       "    <tr>\n",
       "      <th>6th</th>\n",
       "      <td>Past</td>\n",
       "      <td>03Jul2020</td>\n",
       "      <td>16Jul2020</td>\n",
       "      <td>15854360</td>\n",
       "    </tr>\n",
       "    <tr>\n",
       "      <th>7th</th>\n",
       "      <td>Past</td>\n",
       "      <td>17Jul2020</td>\n",
       "      <td>28Jul2020</td>\n",
       "      <td>15854360</td>\n",
       "    </tr>\n",
       "    <tr>\n",
       "      <th>8th</th>\n",
       "      <td>Past</td>\n",
       "      <td>29Jul2020</td>\n",
       "      <td>09Aug2020</td>\n",
       "      <td>15854360</td>\n",
       "    </tr>\n",
       "    <tr>\n",
       "      <th>9th</th>\n",
       "      <td>Past</td>\n",
       "      <td>10Aug2020</td>\n",
       "      <td>19Aug2020</td>\n",
       "      <td>15854360</td>\n",
       "    </tr>\n",
       "    <tr>\n",
       "      <th>10th</th>\n",
       "      <td>Past</td>\n",
       "      <td>20Aug2020</td>\n",
       "      <td>31Aug2020</td>\n",
       "      <td>15854360</td>\n",
       "    </tr>\n",
       "    <tr>\n",
       "      <th rowspan=\"10\" valign=\"top\">Iran</th>\n",
       "      <th>1st</th>\n",
       "      <td>Past</td>\n",
       "      <td>28Mar2020</td>\n",
       "      <td>16Apr2020</td>\n",
       "      <td>81800269</td>\n",
       "    </tr>\n",
       "    <tr>\n",
       "      <th>2nd</th>\n",
       "      <td>Past</td>\n",
       "      <td>17Apr2020</td>\n",
       "      <td>10May2020</td>\n",
       "      <td>81800269</td>\n",
       "    </tr>\n",
       "    <tr>\n",
       "      <th>3rd</th>\n",
       "      <td>Past</td>\n",
       "      <td>11May2020</td>\n",
       "      <td>30May2020</td>\n",
       "      <td>81800269</td>\n",
       "    </tr>\n",
       "    <tr>\n",
       "      <th>4th</th>\n",
       "      <td>Past</td>\n",
       "      <td>31May2020</td>\n",
       "      <td>12Jun2020</td>\n",
       "      <td>81800269</td>\n",
       "    </tr>\n",
       "    <tr>\n",
       "      <th>5th</th>\n",
       "      <td>Past</td>\n",
       "      <td>13Jun2020</td>\n",
       "      <td>25Jun2020</td>\n",
       "      <td>81800269</td>\n",
       "    </tr>\n",
       "    <tr>\n",
       "      <th>6th</th>\n",
       "      <td>Past</td>\n",
       "      <td>26Jun2020</td>\n",
       "      <td>06Jul2020</td>\n",
       "      <td>81800269</td>\n",
       "    </tr>\n",
       "    <tr>\n",
       "      <th>7th</th>\n",
       "      <td>Past</td>\n",
       "      <td>07Jul2020</td>\n",
       "      <td>18Jul2020</td>\n",
       "      <td>81800269</td>\n",
       "    </tr>\n",
       "    <tr>\n",
       "      <th>8th</th>\n",
       "      <td>Past</td>\n",
       "      <td>19Jul2020</td>\n",
       "      <td>31Jul2020</td>\n",
       "      <td>81800269</td>\n",
       "    </tr>\n",
       "    <tr>\n",
       "      <th>9th</th>\n",
       "      <td>Past</td>\n",
       "      <td>01Aug2020</td>\n",
       "      <td>13Aug2020</td>\n",
       "      <td>81800269</td>\n",
       "    </tr>\n",
       "    <tr>\n",
       "      <th>10th</th>\n",
       "      <td>Past</td>\n",
       "      <td>14Aug2020</td>\n",
       "      <td>31Aug2020</td>\n",
       "      <td>81800269</td>\n",
       "    </tr>\n",
       "    <tr>\n",
       "      <th rowspan=\"10\" valign=\"top\">United Arab Emirates</th>\n",
       "      <th>1st</th>\n",
       "      <td>Past</td>\n",
       "      <td>27Apr2020</td>\n",
       "      <td>12May2020</td>\n",
       "      <td>9630959</td>\n",
       "    </tr>\n",
       "    <tr>\n",
       "      <th>2nd</th>\n",
       "      <td>Past</td>\n",
       "      <td>13May2020</td>\n",
       "      <td>25May2020</td>\n",
       "      <td>9630959</td>\n",
       "    </tr>\n",
       "    <tr>\n",
       "      <th>3rd</th>\n",
       "      <td>Past</td>\n",
       "      <td>26May2020</td>\n",
       "      <td>03Jun2020</td>\n",
       "      <td>9630959</td>\n",
       "    </tr>\n",
       "    <tr>\n",
       "      <th>4th</th>\n",
       "      <td>Past</td>\n",
       "      <td>04Jun2020</td>\n",
       "      <td>11Jun2020</td>\n",
       "      <td>9630959</td>\n",
       "    </tr>\n",
       "    <tr>\n",
       "      <th>5th</th>\n",
       "      <td>Past</td>\n",
       "      <td>12Jun2020</td>\n",
       "      <td>23Jun2020</td>\n",
       "      <td>9630959</td>\n",
       "    </tr>\n",
       "    <tr>\n",
       "      <th>6th</th>\n",
       "      <td>Past</td>\n",
       "      <td>24Jun2020</td>\n",
       "      <td>02Jul2020</td>\n",
       "      <td>9630959</td>\n",
       "    </tr>\n",
       "    <tr>\n",
       "      <th>7th</th>\n",
       "      <td>Past</td>\n",
       "      <td>03Jul2020</td>\n",
       "      <td>11Jul2020</td>\n",
       "      <td>9630959</td>\n",
       "    </tr>\n",
       "    <tr>\n",
       "      <th>8th</th>\n",
       "      <td>Past</td>\n",
       "      <td>12Jul2020</td>\n",
       "      <td>25Jul2020</td>\n",
       "      <td>9630959</td>\n",
       "    </tr>\n",
       "    <tr>\n",
       "      <th>9th</th>\n",
       "      <td>Past</td>\n",
       "      <td>26Jul2020</td>\n",
       "      <td>14Aug2020</td>\n",
       "      <td>9630959</td>\n",
       "    </tr>\n",
       "    <tr>\n",
       "      <th>10th</th>\n",
       "      <td>Past</td>\n",
       "      <td>15Aug2020</td>\n",
       "      <td>31Aug2020</td>\n",
       "      <td>9630959</td>\n",
       "    </tr>\n",
       "  </tbody>\n",
       "</table>\n",
       "</div>"
      ],
      "text/plain": [
       "                            Type      Start        End  Population\n",
       "Country              Phase                                        \n",
       "Poland               1st    Past  24Apr2020  12May2020    37974750\n",
       "                     2nd    Past  13May2020  28May2020    37974750\n",
       "                     3rd    Past  29May2020  12Jun2020    37974750\n",
       "                     4th    Past  13Jun2020  29Jun2020    37974750\n",
       "                     5th    Past  30Jun2020  13Jul2020    37974750\n",
       "                     6th    Past  14Jul2020  25Jul2020    37974750\n",
       "                     7th    Past  26Jul2020  04Aug2020    37974750\n",
       "                     8th    Past  05Aug2020  14Aug2020    37974750\n",
       "                     9th    Past  15Aug2020  22Aug2020    37974750\n",
       "                     10th   Past  23Aug2020  31Aug2020    37974750\n",
       "Senegal              1st    Past  03May2020  14May2020    15854360\n",
       "                     2nd    Past  15May2020  29May2020    15854360\n",
       "                     3rd    Past  30May2020  09Jun2020    15854360\n",
       "                     4th    Past  10Jun2020  20Jun2020    15854360\n",
       "                     5th    Past  21Jun2020  02Jul2020    15854360\n",
       "                     6th    Past  03Jul2020  16Jul2020    15854360\n",
       "                     7th    Past  17Jul2020  28Jul2020    15854360\n",
       "                     8th    Past  29Jul2020  09Aug2020    15854360\n",
       "                     9th    Past  10Aug2020  19Aug2020    15854360\n",
       "                     10th   Past  20Aug2020  31Aug2020    15854360\n",
       "Iran                 1st    Past  28Mar2020  16Apr2020    81800269\n",
       "                     2nd    Past  17Apr2020  10May2020    81800269\n",
       "                     3rd    Past  11May2020  30May2020    81800269\n",
       "                     4th    Past  31May2020  12Jun2020    81800269\n",
       "                     5th    Past  13Jun2020  25Jun2020    81800269\n",
       "                     6th    Past  26Jun2020  06Jul2020    81800269\n",
       "                     7th    Past  07Jul2020  18Jul2020    81800269\n",
       "                     8th    Past  19Jul2020  31Jul2020    81800269\n",
       "                     9th    Past  01Aug2020  13Aug2020    81800269\n",
       "                     10th   Past  14Aug2020  31Aug2020    81800269\n",
       "United Arab Emirates 1st    Past  27Apr2020  12May2020     9630959\n",
       "                     2nd    Past  13May2020  25May2020     9630959\n",
       "                     3rd    Past  26May2020  03Jun2020     9630959\n",
       "                     4th    Past  04Jun2020  11Jun2020     9630959\n",
       "                     5th    Past  12Jun2020  23Jun2020     9630959\n",
       "                     6th    Past  24Jun2020  02Jul2020     9630959\n",
       "                     7th    Past  03Jul2020  11Jul2020     9630959\n",
       "                     8th    Past  12Jul2020  25Jul2020     9630959\n",
       "                     9th    Past  26Jul2020  14Aug2020     9630959\n",
       "                     10th   Past  15Aug2020  31Aug2020     9630959"
      ]
     },
     "execution_count": 10,
     "metadata": {},
     "output_type": "execute_result"
    }
   ],
   "source": [
    "# Here, only show the countries which have the most phases\n",
    "countries_show = max(phase_len_dict.items(), key=lambda x: x[0])[1]\n",
    "# Show summary\n",
    "analyser.summary(countries=countries_show)"
   ]
  },
  {
   "cell_type": "markdown",
   "metadata": {},
   "source": [
    "## Parameter estimation\n",
    "we will estimate the parameter values with SIR-derived ODE models in each country."
   ]
  },
  {
   "cell_type": "code",
   "execution_count": 11,
   "metadata": {
    "collapsed": false,
    "tags": []
   },
   "outputs": [
    {
     "name": "stdout",
     "output_type": "stream",
     "text": [
      "\n",
      "<SIR-F model: parameter estimation>"
     ]
    },
    {
     "name": "stdout",
     "output_type": "stream",
     "text": [
      "\n"
     ]
    },
    {
     "name": "stdout",
     "output_type": "stream",
     "text": [
      "Running optimization with 4 CPUs..."
     ]
    },
    {
     "name": "stdout",
     "output_type": "stream",
     "text": [
      "\n"
     ]
    },
    {
     "name": "stdout",
     "output_type": "stream",
     "text": [
      "\tBRA,  4th phase (03Jul2020 - 10Jul2020): finished  271 trials in 0 min 10 sec"
     ]
    },
    {
     "name": "stdout",
     "output_type": "stream",
     "text": [
      "\n"
     ]
    },
    {
     "name": "stdout",
     "output_type": "stream",
     "text": [
      "\tBHR,  8th phase (07Aug2020 - 17Aug2020): finished  260 trials in 0 min 10 sec"
     ]
    },
    {
     "name": "stdout",
     "output_type": "stream",
     "text": [
      "\n"
     ]
    },
    {
     "name": "stdout",
     "output_type": "stream",
     "text": [
      "\tITA,  4th phase (22Apr2020 - 01May2020): finished  137 trials in 0 min  5 sec"
     ]
    },
    {
     "name": "stdout",
     "output_type": "stream",
     "text": [
      "\n"
     ]
    },
    {
     "name": "stdout",
     "output_type": "stream",
     "text": [
      "\tMMR,  6th phase (01Jul2020 - 09Jul2020): finished  263 trials in 0 min 10 sec"
     ]
    },
    {
     "name": "stdout",
     "output_type": "stream",
     "text": [
      "\n"
     ]
    },
    {
     "name": "stdout",
     "output_type": "stream",
     "text": [
      "\tPRT,  8th phase (29Jul2020 - 13Aug2020): finished  248 trials in 0 min 10 sec"
     ]
    },
    {
     "name": "stdout",
     "output_type": "stream",
     "text": [
      "\n"
     ]
    },
    {
     "name": "stdout",
     "output_type": "stream",
     "text": [
      "\tBHR,  2nd phase (31May2020 - 11Jun2020): finished 1223 trials in 1 min  0 sec"
     ]
    },
    {
     "name": "stdout",
     "output_type": "stream",
     "text": [
      "\n"
     ]
    },
    {
     "name": "stdout",
     "output_type": "stream",
     "text": [
      "\tCZE,  3rd phase (13May2020 - 09Jun2020): finished 1204 trials in 1 min  0 sec"
     ]
    },
    {
     "name": "stdout",
     "output_type": "stream",
     "text": [
      "\n"
     ]
    },
    {
     "name": "stdout",
     "output_type": "stream",
     "text": [
      "\tCZE,  1st phase (08Apr2020 - 19Apr2020): finished 1232 trials in 1 min  0 sec"
     ]
    },
    {
     "name": "stdout",
     "output_type": "stream",
     "text": [
      "\n"
     ]
    },
    {
     "name": "stdout",
     "output_type": "stream",
     "text": [
      "\tIRN,  2nd phase (17Apr2020 - 10May2020): finished  132 trials in 0 min  5 sec"
     ]
    },
    {
     "name": "stdout",
     "output_type": "stream",
     "text": [
      "\n"
     ]
    },
    {
     "name": "stdout",
     "output_type": "stream",
     "text": [
      "\tUSA,  8th phase (09Aug2020 - 17Aug2020): finished  597 trials in 0 min 25 sec"
     ]
    },
    {
     "name": "stdout",
     "output_type": "stream",
     "text": [
      "\n"
     ]
    },
    {
     "name": "stdout",
     "output_type": "stream",
     "text": [
      "\tIRN,  5th phase (13Jun2020 - 25Jun2020): finished  267 trials in 0 min 10 sec"
     ]
    },
    {
     "name": "stdout",
     "output_type": "stream",
     "text": [
      "\n"
     ]
    },
    {
     "name": "stdout",
     "output_type": "stream",
     "text": [
      "\tMMR,  2nd phase (07May2020 - 25May2020): finished  701 trials in 0 min 30 sec"
     ]
    },
    {
     "name": "stdout",
     "output_type": "stream",
     "text": [
      "\n"
     ]
    },
    {
     "name": "stdout",
     "output_type": "stream",
     "text": [
      "\tPRT,  7th phase (16Jul2020 - 28Jul2020): finished  703 trials in 0 min 30 sec"
     ]
    },
    {
     "name": "stdout",
     "output_type": "stream",
     "text": [
      "\n"
     ]
    },
    {
     "name": "stdout",
     "output_type": "stream",
     "text": [
      "\tSEN,  1st phase (03May2020 - 14May2020): finished  481 trials in 0 min 20 sec"
     ]
    },
    {
     "name": "stdout",
     "output_type": "stream",
     "text": [
      "\n"
     ]
    },
    {
     "name": "stdout",
     "output_type": "stream",
     "text": [
      "\tIRN,  4th phase (31May2020 - 12Jun2020): finished 1197 trials in 1 min  0 sec"
     ]
    },
    {
     "name": "stdout",
     "output_type": "stream",
     "text": [
      "\n"
     ]
    },
    {
     "name": "stdout",
     "output_type": "stream",
     "text": [
      "\tPRT,  1st phase (04May2020 - 17May2020): finished 1195 trials in 1 min  0 sec"
     ]
    },
    {
     "name": "stdout",
     "output_type": "stream",
     "text": [
      "\n"
     ]
    },
    {
     "name": "stdout",
     "output_type": "stream",
     "text": [
      "\tMEX,  6th phase (15Jul2020 - 28Jul2020): finished 1211 trials in 1 min  0 sec"
     ]
    },
    {
     "name": "stdout",
     "output_type": "stream",
     "text": [
      "\n"
     ]
    },
    {
     "name": "stdout",
     "output_type": "stream",
     "text": [
      "\tHND,  5th phase (17Jul2020 - 24Jul2020): finished  256 trials in 0 min 10 sec"
     ]
    },
    {
     "name": "stdout",
     "output_type": "stream",
     "text": [
      "\n"
     ]
    },
    {
     "name": "stdout",
     "output_type": "stream",
     "text": [
      "\tBRA,  3rd phase (25Jun2020 - 02Jul2020): finished 1212 trials in 1 min  0 sec"
     ]
    },
    {
     "name": "stdout",
     "output_type": "stream",
     "text": [
      "\n"
     ]
    },
    {
     "name": "stdout",
     "output_type": "stream",
     "text": [
      "\tMDA,  7th phase (30Jul2020 - 07Aug2020): finished 1228 trials in 1 min  0 sec"
     ]
    },
    {
     "name": "stdout",
     "output_type": "stream",
     "text": [
      "\n"
     ]
    },
    {
     "name": "stdout",
     "output_type": "stream",
     "text": [
      "\tRUS,  9th phase (15Aug2020 - 31Aug2020): finished 1191 trials in 1 min  0 sec"
     ]
    },
    {
     "name": "stdout",
     "output_type": "stream",
     "text": [
      "\n"
     ]
    },
    {
     "name": "stdout",
     "output_type": "stream",
     "text": [
      "\tPOL,  6th phase (14Jul2020 - 25Jul2020): finished  224 trials in 0 min 10 sec"
     ]
    },
    {
     "name": "stdout",
     "output_type": "stream",
     "text": [
      "\n"
     ]
    },
    {
     "name": "stdout",
     "output_type": "stream",
     "text": [
      "\tCZE,  8th phase (06Aug2020 - 20Aug2020): finished 1211 trials in 1 min  0 sec"
     ]
    },
    {
     "name": "stdout",
     "output_type": "stream",
     "text": [
      "\n"
     ]
    },
    {
     "name": "stdout",
     "output_type": "stream",
     "text": [
      "\tGIN,  7th phase (23Jul2020 - 05Aug2020): finished 1198 trials in 1 min  0 sec"
     ]
    },
    {
     "name": "stdout",
     "output_type": "stream",
     "text": [
      "\n"
     ]
    },
    {
     "name": "stdout",
     "output_type": "stream",
     "text": [
      "\tUSA,  9th phase (18Aug2020 - 31Aug2020): finished 1008 trials in 0 min 50 sec"
     ]
    },
    {
     "name": "stdout",
     "output_type": "stream",
     "text": [
      "\n"
     ]
    },
    {
     "name": "stdout",
     "output_type": "stream",
     "text": [
      "\tMEX,  3rd phase (16Jun2020 - 26Jun2020): finished  554 trials in 0 min 25 sec"
     ]
    },
    {
     "name": "stdout",
     "output_type": "stream",
     "text": [
      "\n"
     ]
    },
    {
     "name": "stdout",
     "output_type": "stream",
     "text": [
      "\tUKR,  6th phase (23Jul2020 - 30Jul2020): finished  129 trials in 0 min  5 sec"
     ]
    },
    {
     "name": "stdout",
     "output_type": "stream",
     "text": [
      "\n"
     ]
    },
    {
     "name": "stdout",
     "output_type": "stream",
     "text": [
      "\tARE,  9th phase (26Jul2020 - 14Aug2020): finished  459 trials in 0 min 20 sec"
     ]
    },
    {
     "name": "stdout",
     "output_type": "stream",
     "text": [
      "\n"
     ]
    },
    {
     "name": "stdout",
     "output_type": "stream",
     "text": [
      "\tPRT,  4th phase (12Jun2020 - 23Jun2020): finished  243 trials in 0 min 10 sec"
     ]
    },
    {
     "name": "stdout",
     "output_type": "stream",
     "text": [
      "\n"
     ]
    },
    {
     "name": "stdout",
     "output_type": "stream",
     "text": [
      "\tBRA,  1st phase (28May2020 - 11Jun2020): finished 1185 trials in 1 min  0 sec"
     ]
    },
    {
     "name": "stdout",
     "output_type": "stream",
     "text": [
      "\n"
     ]
    },
    {
     "name": "stdout",
     "output_type": "stream",
     "text": [
      "\tUKR,  1st phase (07May2020 - 28May2020): finished 1160 trials in 1 min  0 sec"
     ]
    },
    {
     "name": "stdout",
     "output_type": "stream",
     "text": [
      "\n"
     ]
    },
    {
     "name": "stdout",
     "output_type": "stream",
     "text": [
      "\tKWT,  3rd phase (11Jun2020 - 23Jun2020): finished  652 trials in 0 min 30 sec"
     ]
    },
    {
     "name": "stdout",
     "output_type": "stream",
     "text": [
      "\n"
     ]
    },
    {
     "name": "stdout",
     "output_type": "stream",
     "text": [
      "\tROU,  5th phase (15Jul2020 - 23Jul2020): finished 1208 trials in 1 min  0 sec"
     ]
    },
    {
     "name": "stdout",
     "output_type": "stream",
     "text": [
      "\n"
     ]
    },
    {
     "name": "stdout",
     "output_type": "stream",
     "text": [
      "\tPRT,  2nd phase (18May2020 - 30May2020): finished 1187 trials in 1 min  0 sec"
     ]
    },
    {
     "name": "stdout",
     "output_type": "stream",
     "text": [
      "\n"
     ]
    },
    {
     "name": "stdout",
     "output_type": "stream",
     "text": [
      "\tBFA,  3rd phase (20Apr2020 - 05May2020): finished 1207 trials in 1 min  0 sec"
     ]
    },
    {
     "name": "stdout",
     "output_type": "stream",
     "text": [
      "\n"
     ]
    },
    {
     "name": "stdout",
     "output_type": "stream",
     "text": [
      "\tPRT,  6th phase (06Jul2020 - 15Jul2020): finished 1205 trials in 1 min  0 sec"
     ]
    },
    {
     "name": "stdout",
     "output_type": "stream",
     "text": [
      "\n"
     ]
    },
    {
     "name": "stdout",
     "output_type": "stream",
     "text": [
      "\tCZE,  2nd phase (20Apr2020 - 12May2020): finished 1157 trials in 1 min  0 sec"
     ]
    },
    {
     "name": "stdout",
     "output_type": "stream",
     "text": [
      "\n"
     ]
    },
    {
     "name": "stdout",
     "output_type": "stream",
     "text": [
      "\tHND,  6th phase (25Jul2020 - 02Aug2020): finished 1178 trials in 1 min  0 sec"
     ]
    },
    {
     "name": "stdout",
     "output_type": "stream",
     "text": [
      "\n"
     ]
    },
    {
     "name": "stdout",
     "output_type": "stream",
     "text": [
      "\tBFA,  1st phase (01Apr2020 - 09Apr2020): finished 1199 trials in 1 min  0 sec"
     ]
    },
    {
     "name": "stdout",
     "output_type": "stream",
     "text": [
      "\n"
     ]
    },
    {
     "name": "stdout",
     "output_type": "stream",
     "text": [
      "\tKWT,  5th phase (05Jul2020 - 15Jul2020): finished 1181 trials in 1 min  0 sec"
     ]
    },
    {
     "name": "stdout",
     "output_type": "stream",
     "text": [
      "\n"
     ]
    },
    {
     "name": "stdout",
     "output_type": "stream",
     "text": [
      "\tMDA,  4th phase (25Jun2020 - 08Jul2020): finished 1180 trials in 1 min  0 sec"
     ]
    },
    {
     "name": "stdout",
     "output_type": "stream",
     "text": [
      "\n"
     ]
    },
    {
     "name": "stdout",
     "output_type": "stream",
     "text": [
      "\tUKR,  5th phase (11Jul2020 - 22Jul2020): finished  563 trials in 0 min 25 sec"
     ]
    },
    {
     "name": "stdout",
     "output_type": "stream",
     "text": [
      "\n"
     ]
    },
    {
     "name": "stdout",
     "output_type": "stream",
     "text": [
      "\tTUR,  8th phase (31Jul2020 - 14Aug2020): finished  242 trials in 0 min 10 sec"
     ]
    },
    {
     "name": "stdout",
     "output_type": "stream",
     "text": [
      "\n"
     ]
    },
    {
     "name": "stdout",
     "output_type": "stream",
     "text": [
      "\tHND,  7th phase (03Aug2020 - 13Aug2020): finished  681 trials in 0 min 30 sec"
     ]
    },
    {
     "name": "stdout",
     "output_type": "stream",
     "text": [
      "\n"
     ]
    },
    {
     "name": "stdout",
     "output_type": "stream",
     "text": [
      "\tCZE,  4th phase (10Jun2020 - 28Jun2020): finished 1199 trials in 1 min  0 sec"
     ]
    },
    {
     "name": "stdout",
     "output_type": "stream",
     "text": [
      "\n"
     ]
    },
    {
     "name": "stdout",
     "output_type": "stream",
     "text": [
      "\tMEX,  7th phase (29Jul2020 - 11Aug2020): finished 1185 trials in 1 min  0 sec"
     ]
    },
    {
     "name": "stdout",
     "output_type": "stream",
     "text": [
      "\n"
     ]
    },
    {
     "name": "stdout",
     "output_type": "stream",
     "text": [
      "\tUSA,  5th phase (07Jul2020 - 15Jul2020): finished  331 trials in 0 min 15 sec"
     ]
    },
    {
     "name": "stdout",
     "output_type": "stream",
     "text": [
      "\n"
     ]
    },
    {
     "name": "stdout",
     "output_type": "stream",
     "text": [
      "\tFRA,  6th phase (27May2020 - 24Jun2020): finished 1170 trials in 1 min  0 sec"
     ]
    },
    {
     "name": "stdout",
     "output_type": "stream",
     "text": [
      "\n"
     ]
    },
    {
     "name": "stdout",
     "output_type": "stream",
     "text": [
      "\tSEN,  8th phase (29Jul2020 - 09Aug2020): finished  462 trials in 0 min 20 sec"
     ]
    },
    {
     "name": "stdout",
     "output_type": "stream",
     "text": [
      "\n"
     ]
    },
    {
     "name": "stdout",
     "output_type": "stream",
     "text": [
      "\tGIN,  4th phase (10Jun2020 - 19Jun2020): finished 1167 trials in 1 min  0 sec"
     ]
    },
    {
     "name": "stdout",
     "output_type": "stream",
     "text": [
      "\n"
     ]
    },
    {
     "name": "stdout",
     "output_type": "stream",
     "text": [
      "\tBFA,  4th phase (06May2020 - 20May2020): finished 1150 trials in 1 min  0 sec"
     ]
    },
    {
     "name": "stdout",
     "output_type": "stream",
     "text": [
      "\n"
     ]
    },
    {
     "name": "stdout",
     "output_type": "stream",
     "text": [
      "\tFRA,  3rd phase (13Apr2020 - 24Apr2020): finished 1158 trials in 1 min  0 sec"
     ]
    },
    {
     "name": "stdout",
     "output_type": "stream",
     "text": [
      "\n"
     ]
    },
    {
     "name": "stdout",
     "output_type": "stream",
     "text": [
      "\tITA,  2nd phase (01Apr2020 - 11Apr2020): finished 1088 trials in 0 min 55 sec"
     ]
    },
    {
     "name": "stdout",
     "output_type": "stream",
     "text": [
      "\n"
     ]
    },
    {
     "name": "stdout",
     "output_type": "stream",
     "text": [
      "\tMEX,  2nd phase (03Jun2020 - 15Jun2020): finished  365 trials in 0 min 15 sec"
     ]
    },
    {
     "name": "stdout",
     "output_type": "stream",
     "text": [
      "\n"
     ]
    },
    {
     "name": "stdout",
     "output_type": "stream",
     "text": [
      "\tMEX,  1st phase (18May2020 - 02Jun2020): finished 1167 trials in 1 min  0 sec"
     ]
    },
    {
     "name": "stdout",
     "output_type": "stream",
     "text": [
      "\n"
     ]
    },
    {
     "name": "stdout",
     "output_type": "stream",
     "text": [
      "\tPOL,  9th phase (15Aug2020 - 22Aug2020): finished  313 trials in 0 min 15 sec"
     ]
    },
    {
     "name": "stdout",
     "output_type": "stream",
     "text": [
      "\n"
     ]
    },
    {
     "name": "stdout",
     "output_type": "stream",
     "text": [
      "\tITA,  6th phase (11May2020 - 22May2020): finished  225 trials in 0 min 10 sec"
     ]
    },
    {
     "name": "stdout",
     "output_type": "stream",
     "text": [
      "\n"
     ]
    },
    {
     "name": "stdout",
     "output_type": "stream",
     "text": [
      "\tGIN,  9th phase (17Aug2020 - 31Aug2020): finished 1093 trials in 1 min  0 sec"
     ]
    },
    {
     "name": "stdout",
     "output_type": "stream",
     "text": [
      "\n"
     ]
    },
    {
     "name": "stdout",
     "output_type": "stream",
     "text": [
      "\tMEX,  5th phase (07Jul2020 - 14Jul2020): finished  241 trials in 0 min 10 sec"
     ]
    },
    {
     "name": "stdout",
     "output_type": "stream",
     "text": [
      "\n"
     ]
    },
    {
     "name": "stdout",
     "output_type": "stream",
     "text": [
      "\tPOL,  1st phase (24Apr2020 - 12May2020): finished 1092 trials in 1 min  0 sec"
     ]
    },
    {
     "name": "stdout",
     "output_type": "stream",
     "text": [
      "\n"
     ]
    },
    {
     "name": "stdout",
     "output_type": "stream",
     "text": [
      "\tBFA,  8th phase (28Jul2020 - 14Aug2020): finished 1064 trials in 1 min  0 sec"
     ]
    },
    {
     "name": "stdout",
     "output_type": "stream",
     "text": [
      "\n"
     ]
    },
    {
     "name": "stdout",
     "output_type": "stream",
     "text": [
      "\tIRN,  7th phase (07Jul2020 - 18Jul2020): finished  223 trials in 0 min 10 sec"
     ]
    },
    {
     "name": "stdout",
     "output_type": "stream",
     "text": [
      "\n"
     ]
    },
    {
     "name": "stdout",
     "output_type": "stream",
     "text": [
      "\tHUN,  6th phase (27Jun2020 - 20Jul2020): finished  501 trials in 0 min 25 sec"
     ]
    },
    {
     "name": "stdout",
     "output_type": "stream",
     "text": [
      "\n"
     ]
    },
    {
     "name": "stdout",
     "output_type": "stream",
     "text": [
      "\tUSA,  4th phase (24Jun2020 - 06Jul2020): finished 1092 trials in 1 min  0 sec"
     ]
    },
    {
     "name": "stdout",
     "output_type": "stream",
     "text": [
      "\n"
     ]
    },
    {
     "name": "stdout",
     "output_type": "stream",
     "text": [
      "\tITA,  1st phase (23Mar2020 - 31Mar2020): finished 1077 trials in 1 min  0 sec"
     ]
    },
    {
     "name": "stdout",
     "output_type": "stream",
     "text": [
      "\n"
     ]
    },
    {
     "name": "stdout",
     "output_type": "stream",
     "text": [
      "\tRUS,  4th phase (21Jun2020 - 30Jun2020): finished 1096 trials in 1 min  0 sec"
     ]
    },
    {
     "name": "stdout",
     "output_type": "stream",
     "text": [
      "\n"
     ]
    },
    {
     "name": "stdout",
     "output_type": "stream",
     "text": [
      "\tMMR,  5th phase (17Jun2020 - 30Jun2020): finished 1070 trials in 1 min  0 sec"
     ]
    },
    {
     "name": "stdout",
     "output_type": "stream",
     "text": [
      "\n"
     ]
    },
    {
     "name": "stdout",
     "output_type": "stream",
     "text": [
      "\tHND,  8th phase (14Aug2020 - 21Aug2020): finished  753 trials in 0 min 40 sec"
     ]
    },
    {
     "name": "stdout",
     "output_type": "stream",
     "text": [
      "\n"
     ]
    },
    {
     "name": "stdout",
     "output_type": "stream",
     "text": [
      "\tFRA,  5th phase (06May2020 - 26May2020): finished  401 trials in 0 min 20 sec"
     ]
    },
    {
     "name": "stdout",
     "output_type": "stream",
     "text": [
      "\n"
     ]
    },
    {
     "name": "stdout",
     "output_type": "stream",
     "text": [
      "\tUSA,  3rd phase (05Jun2020 - 23Jun2020): finished  302 trials in 0 min 15 sec"
     ]
    },
    {
     "name": "stdout",
     "output_type": "stream",
     "text": [
      "\n"
     ]
    },
    {
     "name": "stdout",
     "output_type": "stream",
     "text": [
      "\tHND,  9th phase (22Aug2020 - 31Aug2020): finished 1024 trials in 1 min  0 sec"
     ]
    },
    {
     "name": "stdout",
     "output_type": "stream",
     "text": [
      "\n"
     ]
    },
    {
     "name": "stdout",
     "output_type": "stream",
     "text": [
      "\tHUN,  7th phase (21Jul2020 - 04Aug2020): finished  205 trials in 0 min 10 sec"
     ]
    },
    {
     "name": "stdout",
     "output_type": "stream",
     "text": [
      "\n"
     ]
    },
    {
     "name": "stdout",
     "output_type": "stream",
     "text": [
      "\tFRA,  4th phase (25Apr2020 - 05May2020): finished 1017 trials in 1 min  0 sec"
     ]
    },
    {
     "name": "stdout",
     "output_type": "stream",
     "text": [
      "\n"
     ]
    },
    {
     "name": "stdout",
     "output_type": "stream",
     "text": [
      "\tIRN,  1st phase (28Mar2020 - 16Apr2020): finished 1004 trials in 1 min  0 sec"
     ]
    },
    {
     "name": "stdout",
     "output_type": "stream",
     "text": [
      "\n"
     ]
    },
    {
     "name": "stdout",
     "output_type": "stream",
     "text": [
      "\tMDA,  1st phase (10May2020 - 31May2020): finished 1024 trials in 1 min  0 sec"
     ]
    },
    {
     "name": "stdout",
     "output_type": "stream",
     "text": [
      "\n"
     ]
    },
    {
     "name": "stdout",
     "output_type": "stream",
     "text": [
      "\tTUR,  5th phase (15Jun2020 - 28Jun2020): finished 1034 trials in 1 min  0 sec"
     ]
    },
    {
     "name": "stdout",
     "output_type": "stream",
     "text": [
      "\n"
     ]
    },
    {
     "name": "stdout",
     "output_type": "stream",
     "text": [
      "\tHUN,  1st phase (14Apr2020 - 21Apr2020): finished 1012 trials in 1 min  0 sec"
     ]
    },
    {
     "name": "stdout",
     "output_type": "stream",
     "text": [
      "\n"
     ]
    },
    {
     "name": "stdout",
     "output_type": "stream",
     "text": [
      "\tBHR,  7th phase (26Jul2020 - 06Aug2020): finished  218 trials in 0 min 10 sec"
     ]
    },
    {
     "name": "stdout",
     "output_type": "stream",
     "text": [
      "\n"
     ]
    },
    {
     "name": "stdout",
     "output_type": "stream",
     "text": [
      "\tHND,  4th phase (08Jul2020 - 16Jul2020): finished  994 trials in 1 min  0 sec"
     ]
    },
    {
     "name": "stdout",
     "output_type": "stream",
     "text": [
      "\n"
     ]
    },
    {
     "name": "stdout",
     "output_type": "stream",
     "text": [
      "\tUSA,  2nd phase (13May2020 - 04Jun2020): finished  901 trials in 1 min  0 sec"
     ]
    },
    {
     "name": "stdout",
     "output_type": "stream",
     "text": [
      "\n"
     ]
    },
    {
     "name": "stdout",
     "output_type": "stream",
     "text": [
      "\tBFA,  6th phase (24Jun2020 - 13Jul2020): finished  905 trials in 1 min  2 sec"
     ]
    },
    {
     "name": "stdout",
     "output_type": "stream",
     "text": [
      "\n"
     ]
    },
    {
     "name": "stdout",
     "output_type": "stream",
     "text": [
      "\tITA,  3rd phase (12Apr2020 - 21Apr2020): finished  835 trials in 1 min  0 sec"
     ]
    },
    {
     "name": "stdout",
     "output_type": "stream",
     "text": [
      "\n"
     ]
    },
    {
     "name": "stdout",
     "output_type": "stream",
     "text": [
      "\tRUS,  2nd phase (23May2020 - 05Jun2020): finished  780 trials in 1 min  1 sec"
     ]
    },
    {
     "name": "stdout",
     "output_type": "stream",
     "text": [
      "\n"
     ]
    },
    {
     "name": "stdout",
     "output_type": "stream",
     "text": [
      "\tGIN,  1st phase (02May2020 - 12May2020): finished  776 trials in 1 min  1 sec"
     ]
    },
    {
     "name": "stdout",
     "output_type": "stream",
     "text": [
      "\n"
     ]
    },
    {
     "name": "stdout",
     "output_type": "stream",
     "text": [
      "\tARE,  7th phase (03Jul2020 - 11Jul2020): finished  769 trials in 1 min  1 sec"
     ]
    },
    {
     "name": "stdout",
     "output_type": "stream",
     "text": [
      "\n"
     ]
    },
    {
     "name": "stdout",
     "output_type": "stream",
     "text": [
      "\tTUR,  7th phase (13Jul2020 - 30Jul2020): finished   85 trials in 0 min  5 sec"
     ]
    },
    {
     "name": "stdout",
     "output_type": "stream",
     "text": [
      "\n"
     ]
    },
    {
     "name": "stdout",
     "output_type": "stream",
     "text": [
      "\tBHR,  6th phase (16Jul2020 - 25Jul2020): finished  123 trials in 0 min 10 sec"
     ]
    },
    {
     "name": "stdout",
     "output_type": "stream",
     "text": [
      "\n"
     ]
    },
    {
     "name": "stdout",
     "output_type": "stream",
     "text": [
      "\tIRN,  6th phase (26Jun2020 - 06Jul2020): finished  116 trials in 0 min 10 sec"
     ]
    },
    {
     "name": "stdout",
     "output_type": "stream",
     "text": [
      "\n"
     ]
    },
    {
     "name": "stdout",
     "output_type": "stream",
     "text": [
      "\tUKR,  3rd phase (15Jun2020 - 25Jun2020): finished  742 trials in 1 min  1 sec"
     ]
    },
    {
     "name": "stdout",
     "output_type": "stream",
     "text": [
      "\n"
     ]
    },
    {
     "name": "stdout",
     "output_type": "stream",
     "text": [
      "\tSEN,  7th phase (17Jul2020 - 28Jul2020): finished  715 trials in 1 min  1 sec"
     ]
    },
    {
     "name": "stdout",
     "output_type": "stream",
     "text": [
      "\n"
     ]
    },
    {
     "name": "stdout",
     "output_type": "stream",
     "text": [
      "\tTUR,  3rd phase (15May2020 - 27May2020): finished  272 trials in 0 min 20 sec"
     ]
    },
    {
     "name": "stdout",
     "output_type": "stream",
     "text": [
      "\n"
     ]
    },
    {
     "name": "stdout",
     "output_type": "stream",
     "text": [
      "\tFRA,  2nd phase (03Apr2020 - 12Apr2020): finished  756 trials in 1 min  0 sec"
     ]
    },
    {
     "name": "stdout",
     "output_type": "stream",
     "text": [
      "\n"
     ]
    },
    {
     "name": "stdout",
     "output_type": "stream",
     "text": [
      "\tPOL,  3rd phase (29May2020 - 12Jun2020): finished  815 trials in 1 min  0 sec"
     ]
    },
    {
     "name": "stdout",
     "output_type": "stream",
     "text": [
      "\n"
     ]
    },
    {
     "name": "stdout",
     "output_type": "stream",
     "text": [
      "\tHUN,  4th phase (17May2020 - 02Jun2020): finished  185 trials in 0 min 10 sec"
     ]
    },
    {
     "name": "stdout",
     "output_type": "stream",
     "text": [
      "\n"
     ]
    },
    {
     "name": "stdout",
     "output_type": "stream",
     "text": [
      "\tTUR,  4th phase (28May2020 - 14Jun2020): finished  830 trials in 1 min  1 sec"
     ]
    },
    {
     "name": "stdout",
     "output_type": "stream",
     "text": [
      "\n"
     ]
    },
    {
     "name": "stdout",
     "output_type": "stream",
     "text": [
      "\tGIN,  8th phase (06Aug2020 - 16Aug2020): finished  802 trials in 1 min  1 sec"
     ]
    },
    {
     "name": "stdout",
     "output_type": "stream",
     "text": [
      "\n"
     ]
    },
    {
     "name": "stdout",
     "output_type": "stream",
     "text": [
      "\tROU,  2nd phase (11May2020 - 10Jun2020): finished  668 trials in 0 min 51 sec"
     ]
    },
    {
     "name": "stdout",
     "output_type": "stream",
     "text": [
      "\n"
     ]
    },
    {
     "name": "stdout",
     "output_type": "stream",
     "text": [
      "\tARE,  6th phase (24Jun2020 - 02Jul2020): finished  455 trials in 0 min 30 sec"
     ]
    },
    {
     "name": "stdout",
     "output_type": "stream",
     "text": [
      "\n"
     ]
    },
    {
     "name": "stdout",
     "output_type": "stream",
     "text": [
      "\tGIN,  5th phase (20Jun2020 - 08Jul2020): finished  184 trials in 0 min 10 sec"
     ]
    },
    {
     "name": "stdout",
     "output_type": "stream",
     "text": [
      "\n"
     ]
    },
    {
     "name": "stdout",
     "output_type": "stream",
     "text": [
      "\tUSA,  1st phase (21Apr2020 - 12May2020): finished  766 trials in 1 min  1 sec"
     ]
    },
    {
     "name": "stdout",
     "output_type": "stream",
     "text": [
      "\n"
     ]
    },
    {
     "name": "stdout",
     "output_type": "stream",
     "text": [
      "\tPOL,  4th phase (13Jun2020 - 29Jun2020): finished  848 trials in 1 min  1 sec"
     ]
    },
    {
     "name": "stdout",
     "output_type": "stream",
     "text": [
      "\n"
     ]
    },
    {
     "name": "stdout",
     "output_type": "stream",
     "text": [
      "\tMMR,  7th phase (10Jul2020 - 09Aug2020): finished  884 trials in 1 min  0 sec"
     ]
    },
    {
     "name": "stdout",
     "output_type": "stream",
     "text": [
      "\n"
     ]
    },
    {
     "name": "stdout",
     "output_type": "stream",
     "text": [
      "\tROU,  4th phase (30Jun2020 - 14Jul2020): finished  902 trials in 1 min  0 sec"
     ]
    },
    {
     "name": "stdout",
     "output_type": "stream",
     "text": [
      "\n"
     ]
    },
    {
     "name": "stdout",
     "output_type": "stream",
     "text": [
      "\tGIN,  3rd phase (26May2020 - 09Jun2020): finished  905 trials in 1 min  0 sec"
     ]
    },
    {
     "name": "stdout",
     "output_type": "stream",
     "text": [
      "\n"
     ]
    },
    {
     "name": "stdout",
     "output_type": "stream",
     "text": [
      "\tARE,  8th phase (12Jul2020 - 25Jul2020): finished  911 trials in 1 min  0 sec"
     ]
    },
    {
     "name": "stdout",
     "output_type": "stream",
     "text": [
      "\n"
     ]
    },
    {
     "name": "stdout",
     "output_type": "stream",
     "text": [
      "\tKWT,  4th phase (24Jun2020 - 04Jul2020): finished  897 trials in 1 min  0 sec"
     ]
    },
    {
     "name": "stdout",
     "output_type": "stream",
     "text": [
      "\n"
     ]
    },
    {
     "name": "stdout",
     "output_type": "stream",
     "text": [
      "\tFRA,  7th phase (25Jun2020 - 18Jul2020): finished  415 trials in 0 min 25 sec"
     ]
    },
    {
     "name": "stdout",
     "output_type": "stream",
     "text": [
      "\n"
     ]
    },
    {
     "name": "stdout",
     "output_type": "stream",
     "text": [
      "\tBHR,  4th phase (22Jun2020 - 07Jul2020): finished  897 trials in 1 min  0 sec"
     ]
    },
    {
     "name": "stdout",
     "output_type": "stream",
     "text": [
      "\n"
     ]
    },
    {
     "name": "stdout",
     "output_type": "stream",
     "text": [
      "\tUSA,  6th phase (16Jul2020 - 23Jul2020): finished  178 trials in 0 min 10 sec"
     ]
    },
    {
     "name": "stdout",
     "output_type": "stream",
     "text": [
      "\n"
     ]
    },
    {
     "name": "stdout",
     "output_type": "stream",
     "text": [
      "\tITA,  9th phase (30Jul2020 - 31Aug2020): finished  889 trials in 1 min  0 sec"
     ]
    },
    {
     "name": "stdout",
     "output_type": "stream",
     "text": [
      "\n"
     ]
    },
    {
     "name": "stdout",
     "output_type": "stream",
     "text": [
      "\tKWT,  2nd phase (25May2020 - 10Jun2020): finished  907 trials in 1 min  0 sec"
     ]
    },
    {
     "name": "stdout",
     "output_type": "stream",
     "text": [
      "\n"
     ]
    },
    {
     "name": "stdout",
     "output_type": "stream",
     "text": [
      "\tBHR,  3rd phase (12Jun2020 - 21Jun2020): finished  891 trials in 1 min  0 sec"
     ]
    },
    {
     "name": "stdout",
     "output_type": "stream",
     "text": [
      "\n"
     ]
    },
    {
     "name": "stdout",
     "output_type": "stream",
     "text": [
      "\tBRA,  6th phase (21Jul2020 - 28Jul2020): finished  913 trials in 1 min  0 sec"
     ]
    },
    {
     "name": "stdout",
     "output_type": "stream",
     "text": [
      "\n"
     ]
    },
    {
     "name": "stdout",
     "output_type": "stream",
     "text": [
      "\tGIN,  2nd phase (13May2020 - 25May2020): finished  884 trials in 1 min  0 sec"
     ]
    },
    {
     "name": "stdout",
     "output_type": "stream",
     "text": [
      "\n"
     ]
    },
    {
     "name": "stdout",
     "output_type": "stream",
     "text": [
      "\tIRN,  9th phase (01Aug2020 - 13Aug2020): finished  182 trials in 0 min 10 sec"
     ]
    },
    {
     "name": "stdout",
     "output_type": "stream",
     "text": [
      "\n"
     ]
    },
    {
     "name": "stdout",
     "output_type": "stream",
     "text": [
      "\tMDA,  5th phase (09Jul2020 - 20Jul2020): finished  355 trials in 0 min 25 sec"
     ]
    },
    {
     "name": "stdout",
     "output_type": "stream",
     "text": [
      "\n"
     ]
    },
    {
     "name": "stdout",
     "output_type": "stream",
     "text": [
      "\tARE,  4th phase (04Jun2020 - 11Jun2020): finished  748 trials in 1 min  1 sec"
     ]
    },
    {
     "name": "stdout",
     "output_type": "stream",
     "text": [
      "\n"
     ]
    },
    {
     "name": "stdout",
     "output_type": "stream",
     "text": [
      "\tTUR,  2nd phase (30Apr2020 - 14May2020): finished  718 trials in 1 min  1 sec"
     ]
    },
    {
     "name": "stdout",
     "output_type": "stream",
     "text": [
      "\n"
     ]
    },
    {
     "name": "stdout",
     "output_type": "stream",
     "text": [
      "\tSEN,  6th phase (03Jul2020 - 16Jul2020): finished  701 trials in 1 min  1 sec"
     ]
    },
    {
     "name": "stdout",
     "output_type": "stream",
     "text": [
      "\n"
     ]
    },
    {
     "name": "stdout",
     "output_type": "stream",
     "text": [
      "\tMMR,  9th phase (20Aug2020 - 31Aug2020): finished  714 trials in 1 min  2 sec"
     ]
    },
    {
     "name": "stdout",
     "output_type": "stream",
     "text": [
      "\n"
     ]
    },
    {
     "name": "stdout",
     "output_type": "stream",
     "text": [
      "\tCZE,  6th phase (18Jul2020 - 27Jul2020): finished  523 trials in 0 min 40 sec"
     ]
    },
    {
     "name": "stdout",
     "output_type": "stream",
     "text": [
      "\n"
     ]
    },
    {
     "name": "stdout",
     "output_type": "stream",
     "text": [
      "\tMMR,  8th phase (10Aug2020 - 19Aug2020): finished  759 trials in 1 min  0 sec"
     ]
    },
    {
     "name": "stdout",
     "output_type": "stream",
     "text": [
      "\n"
     ]
    },
    {
     "name": "stdout",
     "output_type": "stream",
     "text": [
      "\tMDA,  6th phase (21Jul2020 - 29Jul2020): finished  327 trials in 0 min 25 sec"
     ]
    },
    {
     "name": "stdout",
     "output_type": "stream",
     "text": [
      "\n"
     ]
    },
    {
     "name": "stdout",
     "output_type": "stream",
     "text": [
      "\tHUN,  3rd phase (05May2020 - 16May2020): finished  769 trials in 1 min  0 sec"
     ]
    },
    {
     "name": "stdout",
     "output_type": "stream",
     "text": [
      "\n"
     ]
    },
    {
     "name": "stdout",
     "output_type": "stream",
     "text": [
      "\tPOL,  7th phase (26Jul2020 - 04Aug2020): finished  212 trials in 0 min 15 sec"
     ]
    },
    {
     "name": "stdout",
     "output_type": "stream",
     "text": [
      "\n"
     ]
    },
    {
     "name": "stdout",
     "output_type": "stream",
     "text": [
      "\tTUR,  6th phase (29Jun2020 - 12Jul2020): finished  149 trials in 0 min 10 sec"
     ]
    },
    {
     "name": "stdout",
     "output_type": "stream",
     "text": [
      "\n"
     ]
    },
    {
     "name": "stdout",
     "output_type": "stream",
     "text": [
      "\tMMR,  3rd phase (26May2020 - 05Jun2020): finished  786 trials in 1 min  1 sec"
     ]
    },
    {
     "name": "stdout",
     "output_type": "stream",
     "text": [
      "\n"
     ]
    },
    {
     "name": "stdout",
     "output_type": "stream",
     "text": [
      "\tCZE,  7th phase (28Jul2020 - 05Aug2020): finished  753 trials in 1 min  1 sec"
     ]
    },
    {
     "name": "stdout",
     "output_type": "stream",
     "text": [
      "\n"
     ]
    },
    {
     "name": "stdout",
     "output_type": "stream",
     "text": [
      "\tSEN,  5th phase (21Jun2020 - 02Jul2020): finished  750 trials in 1 min  1 sec"
     ]
    },
    {
     "name": "stdout",
     "output_type": "stream",
     "text": [
      "\n"
     ]
    },
    {
     "name": "stdout",
     "output_type": "stream",
     "text": [
      "\tCZE,  9th phase (21Aug2020 - 31Aug2020): finished  760 trials in 1 min  0 sec"
     ]
    },
    {
     "name": "stdout",
     "output_type": "stream",
     "text": [
      "\n"
     ]
    },
    {
     "name": "stdout",
     "output_type": "stream",
     "text": [
      "\tUKR,  8th phase (08Aug2020 - 15Aug2020): finished  758 trials in 0 min 50 sec"
     ]
    },
    {
     "name": "stdout",
     "output_type": "stream",
     "text": [
      "\n"
     ]
    },
    {
     "name": "stdout",
     "output_type": "stream",
     "text": [
      "\tBFA,  5th phase (21May2020 - 23Jun2020): finished  826 trials in 1 min  0 sec"
     ]
    },
    {
     "name": "stdout",
     "output_type": "stream",
     "text": [
      "\n"
     ]
    },
    {
     "name": "stdout",
     "output_type": "stream",
     "text": [
      "\tIRN,  8th phase (19Jul2020 - 31Jul2020): finished  213 trials in 0 min 10 sec"
     ]
    },
    {
     "name": "stdout",
     "output_type": "stream",
     "text": [
      "\n"
     ]
    },
    {
     "name": "stdout",
     "output_type": "stream",
     "text": [
      "\tSEN,  2nd phase (15May2020 - 29May2020): finished  893 trials in 1 min  0 sec"
     ]
    },
    {
     "name": "stdout",
     "output_type": "stream",
     "text": [
      "\n"
     ]
    },
    {
     "name": "stdout",
     "output_type": "stream",
     "text": [
      "\tBFA,  2nd phase (10Apr2020 - 19Apr2020): finished 1000 trials in 1 min  0 sec"
     ]
    },
    {
     "name": "stdout",
     "output_type": "stream",
     "text": [
      "\n"
     ]
    },
    {
     "name": "stdout",
     "output_type": "stream",
     "text": [
      "\tPRT,  9th phase (14Aug2020 - 31Aug2020): finished  531 trials in 0 min 30 sec"
     ]
    },
    {
     "name": "stdout",
     "output_type": "stream",
     "text": [
      "\n"
     ]
    },
    {
     "name": "stdout",
     "output_type": "stream",
     "text": [
      "\tITA,  7th phase (23May2020 - 12Jun2020): finished  205 trials in 0 min 10 sec"
     ]
    },
    {
     "name": "stdout",
     "output_type": "stream",
     "text": [
      "\n"
     ]
    },
    {
     "name": "stdout",
     "output_type": "stream",
     "text": [
      "\tRUS,  6th phase (11Jul2020 - 20Jul2020): finished  978 trials in 1 min  0 sec"
     ]
    },
    {
     "name": "stdout",
     "output_type": "stream",
     "text": [
      "\n"
     ]
    },
    {
     "name": "stdout",
     "output_type": "stream",
     "text": [
      "\tTUR,  1st phase (18Apr2020 - 29Apr2020): finished  917 trials in 1 min  1 sec"
     ]
    },
    {
     "name": "stdout",
     "output_type": "stream",
     "text": [
      "\n"
     ]
    },
    {
     "name": "stdout",
     "output_type": "stream",
     "text": [
      "\tPOL,  8th phase (05Aug2020 - 14Aug2020): finished  235 trials in 0 min 15 sec"
     ]
    },
    {
     "name": "stdout",
     "output_type": "stream",
     "text": [
      "\n"
     ]
    },
    {
     "name": "stdout",
     "output_type": "stream",
     "text": [
      "\tUKR,  4th phase (26Jun2020 - 10Jul2020): finished  924 trials in 1 min  0 sec"
     ]
    },
    {
     "name": "stdout",
     "output_type": "stream",
     "text": [
      "\n"
     ]
    },
    {
     "name": "stdout",
     "output_type": "stream",
     "text": [
      "\tUSA,  7th phase (24Jul2020 - 08Aug2020): finished  196 trials in 0 min 10 sec"
     ]
    },
    {
     "name": "stdout",
     "output_type": "stream",
     "text": [
      "\n"
     ]
    },
    {
     "name": "stdout",
     "output_type": "stream",
     "text": [
      "\tHUN,  5th phase (03Jun2020 - 26Jun2020): finished  198 trials in 0 min 10 sec"
     ]
    },
    {
     "name": "stdout",
     "output_type": "stream",
     "text": [
      "\n"
     ]
    },
    {
     "name": "stdout",
     "output_type": "stream",
     "text": [
      "\tHND,  2nd phase (20Jun2020 - 29Jun2020): finished  956 trials in 1 min  0 sec"
     ]
    },
    {
     "name": "stdout",
     "output_type": "stream",
     "text": [
      "\n"
     ]
    },
    {
     "name": "stdout",
     "output_type": "stream",
     "text": [
      "\tBFA,  7th phase (14Jul2020 - 27Jul2020): finished  958 trials in 1 min  0 sec"
     ]
    },
    {
     "name": "stdout",
     "output_type": "stream",
     "text": [
      "\n"
     ]
    },
    {
     "name": "stdout",
     "output_type": "stream",
     "text": [
      "\tRUS,  3rd phase (06Jun2020 - 20Jun2020): finished  961 trials in 1 min  0 sec"
     ]
    },
    {
     "name": "stdout",
     "output_type": "stream",
     "text": [
      "\n"
     ]
    },
    {
     "name": "stdout",
     "output_type": "stream",
     "text": [
      "\tRUS,  1st phase (08May2020 - 22May2020): finished  959 trials in 1 min  0 sec"
     ]
    },
    {
     "name": "stdout",
     "output_type": "stream",
     "text": [
      "\n"
     ]
    },
    {
     "name": "stdout",
     "output_type": "stream",
     "text": [
      "\tBRA,  8th phase (12Aug2020 - 19Aug2020): finished  982 trials in 1 min  0 sec"
     ]
    },
    {
     "name": "stdout",
     "output_type": "stream",
     "text": [
      "\n"
     ]
    },
    {
     "name": "stdout",
     "output_type": "stream",
     "text": [
      "\tIRN,  3rd phase (11May2020 - 30May2020): finished  940 trials in 1 min  0 sec"
     ]
    },
    {
     "name": "stdout",
     "output_type": "stream",
     "text": [
      "\n"
     ]
    },
    {
     "name": "stdout",
     "output_type": "stream",
     "text": [
      "\tRUS,  8th phase (01Aug2020 - 14Aug2020): finished  950 trials in 1 min  0 sec"
     ]
    },
    {
     "name": "stdout",
     "output_type": "stream",
     "text": [
      "\n"
     ]
    },
    {
     "name": "stdout",
     "output_type": "stream",
     "text": [
      "\tPRT,  5th phase (24Jun2020 - 05Jul2020): finished  181 trials in 0 min 10 sec"
     ]
    },
    {
     "name": "stdout",
     "output_type": "stream",
     "text": [
      "\n"
     ]
    },
    {
     "name": "stdout",
     "output_type": "stream",
     "text": [
      "\tPOL,  2nd phase (13May2020 - 28May2020): finished  357 trials in 0 min 20 sec"
     ]
    },
    {
     "name": "stdout",
     "output_type": "stream",
     "text": [
      "\n"
     ]
    },
    {
     "name": "stdout",
     "output_type": "stream",
     "text": [
      "\tROU,  6th phase (24Jul2020 - 31Jul2020): finished  578 trials in 0 min 30 sec"
     ]
    },
    {
     "name": "stdout",
     "output_type": "stream",
     "text": [
      "\n"
     ]
    },
    {
     "name": "stdout",
     "output_type": "stream",
     "text": [
      "\tRUS,  7th phase (21Jul2020 - 31Jul2020): finished  972 trials in 1 min  0 sec"
     ]
    },
    {
     "name": "stdout",
     "output_type": "stream",
     "text": [
      "\n"
     ]
    },
    {
     "name": "stdout",
     "output_type": "stream",
     "text": [
      "\tITA,  5th phase (02May2020 - 10May2020): finished  487 trials in 0 min 25 sec"
     ]
    },
    {
     "name": "stdout",
     "output_type": "stream",
     "text": [
      "\n"
     ]
    },
    {
     "name": "stdout",
     "output_type": "stream",
     "text": [
      "\tARE,  1st phase (27Apr2020 - 12May2020): finished 1005 trials in 1 min  0 sec"
     ]
    },
    {
     "name": "stdout",
     "output_type": "stream",
     "text": [
      "\n"
     ]
    },
    {
     "name": "stdout",
     "output_type": "stream",
     "text": [
      "\tFRA,  1st phase (25Mar2020 - 02Apr2020): finished  990 trials in 1 min  0 sec"
     ]
    },
    {
     "name": "stdout",
     "output_type": "stream",
     "text": [
      "\n"
     ]
    },
    {
     "name": "stdout",
     "output_type": "stream",
     "text": [
      "\tPOL,  5th phase (30Jun2020 - 13Jul2020): finished  234 trials in 0 min 10 sec"
     ]
    },
    {
     "name": "stdout",
     "output_type": "stream",
     "text": [
      "\n"
     ]
    },
    {
     "name": "stdout",
     "output_type": "stream",
     "text": [
      "\tUKR,  2nd phase (29May2020 - 14Jun2020): finished 1028 trials in 1 min  0 sec"
     ]
    },
    {
     "name": "stdout",
     "output_type": "stream",
     "text": [
      "\n"
     ]
    },
    {
     "name": "stdout",
     "output_type": "stream",
     "text": [
      "\tMDA,  2nd phase (01Jun2020 - 14Jun2020): finished 1018 trials in 1 min  0 sec"
     ]
    },
    {
     "name": "stdout",
     "output_type": "stream",
     "text": [
      "\n"
     ]
    },
    {
     "name": "stdout",
     "output_type": "stream",
     "text": [
      "\tHND,  1st phase (03Jun2020 - 19Jun2020): finished 1060 trials in 1 min  0 sec"
     ]
    },
    {
     "name": "stdout",
     "output_type": "stream",
     "text": [
      "\n"
     ]
    },
    {
     "name": "stdout",
     "output_type": "stream",
     "text": [
      "\tITA,  8th phase (13Jun2020 - 29Jul2020): finished  509 trials in 0 min 25 sec"
     ]
    },
    {
     "name": "stdout",
     "output_type": "stream",
     "text": [
      "\n"
     ]
    },
    {
     "name": "stdout",
     "output_type": "stream",
     "text": [
      "\tMEX,  8th phase (12Aug2020 - 20Aug2020): finished 1098 trials in 1 min  0 sec"
     ]
    },
    {
     "name": "stdout",
     "output_type": "stream",
     "text": [
      "\n"
     ]
    },
    {
     "name": "stdout",
     "output_type": "stream",
     "text": [
      "\tMDA,  3rd phase (15Jun2020 - 24Jun2020): finished  639 trials in 0 min 30 sec"
     ]
    },
    {
     "name": "stdout",
     "output_type": "stream",
     "text": [
      "\n"
     ]
    },
    {
     "name": "stdout",
     "output_type": "stream",
     "text": [
      "\tBHR,  5th phase (08Jul2020 - 15Jul2020): finished 1306 trials in 1 min  0 sec"
     ]
    },
    {
     "name": "stdout",
     "output_type": "stream",
     "text": [
      "\n"
     ]
    },
    {
     "name": "stdout",
     "output_type": "stream",
     "text": [
      "\tFRA,  9th phase (08Aug2020 - 31Aug2020): finished 1285 trials in 1 min  0 sec"
     ]
    },
    {
     "name": "stdout",
     "output_type": "stream",
     "text": [
      "\n"
     ]
    },
    {
     "name": "stdout",
     "output_type": "stream",
     "text": [
      "\tCZE,  5th phase (29Jun2020 - 17Jul2020): finished 1279 trials in 1 min  0 sec"
     ]
    },
    {
     "name": "stdout",
     "output_type": "stream",
     "text": [
      "\n"
     ]
    },
    {
     "name": "stdout",
     "output_type": "stream",
     "text": [
      "\tHND,  3rd phase (30Jun2020 - 07Jul2020): finished 1308 trials in 1 min  0 sec"
     ]
    },
    {
     "name": "stdout",
     "output_type": "stream",
     "text": [
      "\n"
     ]
    },
    {
     "name": "stdout",
     "output_type": "stream",
     "text": [
      "\tRUS,  5th phase (01Jul2020 - 10Jul2020): finished 1300 trials in 1 min  0 sec"
     ]
    },
    {
     "name": "stdout",
     "output_type": "stream",
     "text": [
      "\n"
     ]
    },
    {
     "name": "stdout",
     "output_type": "stream",
     "text": [
      "\tHUN,  2nd phase (22Apr2020 - 04May2020): finished 1289 trials in 1 min  0 sec"
     ]
    },
    {
     "name": "stdout",
     "output_type": "stream",
     "text": [
      "\n"
     ]
    },
    {
     "name": "stdout",
     "output_type": "stream",
     "text": [
      "\tUKR,  9th phase (16Aug2020 - 31Aug2020): finished 1302 trials in 1 min  0 sec"
     ]
    },
    {
     "name": "stdout",
     "output_type": "stream",
     "text": [
      "\n"
     ]
    },
    {
     "name": "stdout",
     "output_type": "stream",
     "text": [
      "\tSEN,  4th phase (10Jun2020 - 20Jun2020): finished 1302 trials in 1 min  0 sec"
     ]
    },
    {
     "name": "stdout",
     "output_type": "stream",
     "text": [
      "\n"
     ]
    },
    {
     "name": "stdout",
     "output_type": "stream",
     "text": [
      "\tBRA,  2nd phase (12Jun2020 - 24Jun2020): finished  407 trials in 0 min 15 sec"
     ]
    },
    {
     "name": "stdout",
     "output_type": "stream",
     "text": [
      "\n"
     ]
    },
    {
     "name": "stdout",
     "output_type": "stream",
     "text": [
      "\tROU,  3rd phase (11Jun2020 - 29Jun2020): finished 1312 trials in 1 min  0 sec"
     ]
    },
    {
     "name": "stdout",
     "output_type": "stream",
     "text": [
      "\n"
     ]
    },
    {
     "name": "stdout",
     "output_type": "stream",
     "text": [
      "\tMDA,  8th phase (08Aug2020 - 17Aug2020): finished  382 trials in 0 min 15 sec"
     ]
    },
    {
     "name": "stdout",
     "output_type": "stream",
     "text": [
      "\n"
     ]
    },
    {
     "name": "stdout",
     "output_type": "stream",
     "text": [
      "\tROU,  1st phase (22Apr2020 - 10May2020): finished 1282 trials in 1 min  0 sec"
     ]
    },
    {
     "name": "stdout",
     "output_type": "stream",
     "text": [
      "\n"
     ]
    },
    {
     "name": "stdout",
     "output_type": "stream",
     "text": [
      "\tKWT,  1st phase (12May2020 - 24May2020): finished 1293 trials in 1 min  0 sec"
     ]
    },
    {
     "name": "stdout",
     "output_type": "stream",
     "text": [
      "\n"
     ]
    },
    {
     "name": "stdout",
     "output_type": "stream",
     "text": [
      "\tGIN,  6th phase (09Jul2020 - 22Jul2020): finished 1290 trials in 1 min  0 sec"
     ]
    },
    {
     "name": "stdout",
     "output_type": "stream",
     "text": [
      "\n"
     ]
    },
    {
     "name": "stdout",
     "output_type": "stream",
     "text": [
      "\tSEN,  3rd phase (30May2020 - 09Jun2020): finished 1259 trials in 1 min  0 sec"
     ]
    },
    {
     "name": "stdout",
     "output_type": "stream",
     "text": [
      "\n"
     ]
    },
    {
     "name": "stdout",
     "output_type": "stream",
     "text": [
      "\tMMR,  4th phase (06Jun2020 - 16Jun2020): finished 1263 trials in 1 min  0 sec"
     ]
    },
    {
     "name": "stdout",
     "output_type": "stream",
     "text": [
      "\n"
     ]
    },
    {
     "name": "stdout",
     "output_type": "stream",
     "text": [
      "\tFRA,  8th phase (19Jul2020 - 07Aug2020): finished  313 trials in 0 min 10 sec"
     ]
    },
    {
     "name": "stdout",
     "output_type": "stream",
     "text": [
      "\n"
     ]
    },
    {
     "name": "stdout",
     "output_type": "stream",
     "text": [
      "\tPOL, 10th phase (23Aug2020 - 31Aug2020): finished 1338 trials in 1 min  0 sec"
     ]
    },
    {
     "name": "stdout",
     "output_type": "stream",
     "text": [
      "\n"
     ]
    },
    {
     "name": "stdout",
     "output_type": "stream",
     "text": [
      "\tUKR,  7th phase (31Jul2020 - 07Aug2020): finished  315 trials in 0 min 10 sec"
     ]
    },
    {
     "name": "stdout",
     "output_type": "stream",
     "text": [
      "\n"
     ]
    },
    {
     "name": "stdout",
     "output_type": "stream",
     "text": [
      "\tARE,  3rd phase (26May2020 - 03Jun2020): finished  941 trials in 0 min 30 sec"
     ]
    },
    {
     "name": "stdout",
     "output_type": "stream",
     "text": [
      "\n"
     ]
    },
    {
     "name": "stdout",
     "output_type": "stream",
     "text": [
      "\tMMR,  1st phase (29Apr2020 - 06May2020): finished  380 trials in 0 min 10 sec"
     ]
    },
    {
     "name": "stdout",
     "output_type": "stream",
     "text": [
      "\n"
     ]
    },
    {
     "name": "stdout",
     "output_type": "stream",
     "text": [
      "\tMEX,  4th phase (27Jun2020 - 06Jul2020): finished  375 trials in 0 min 10 sec"
     ]
    },
    {
     "name": "stdout",
     "output_type": "stream",
     "text": [
      "\n"
     ]
    },
    {
     "name": "stdout",
     "output_type": "stream",
     "text": [
      "\tBHR,  1st phase (06May2020 - 30May2020): finished 1697 trials in 1 min  0 sec"
     ]
    },
    {
     "name": "stdout",
     "output_type": "stream",
     "text": [
      "\n"
     ]
    },
    {
     "name": "stdout",
     "output_type": "stream",
     "text": [
      "Completed optimization. Total: 37 min 54 sec"
     ]
    },
    {
     "name": "stdout",
     "output_type": "stream",
     "text": [
      "\n"
     ]
    }
   ],
   "source": [
    "# Parameter estimation with SIR-F model\n",
    "analyser.estimate(cs.SIRF)"
   ]
  },
  {
   "cell_type": "code",
   "execution_count": 12,
   "metadata": {
    "collapsed": false
   },
   "outputs": [
    {
     "data": {
      "text/html": [
       "<div>\n",
       "<style scoped>\n",
       "    .dataframe tbody tr th:only-of-type {\n",
       "        vertical-align: middle;\n",
       "    }\n",
       "\n",
       "    .dataframe tbody tr th {\n",
       "        vertical-align: top;\n",
       "    }\n",
       "\n",
       "    .dataframe thead th {\n",
       "        text-align: right;\n",
       "    }\n",
       "</style>\n",
       "<table border=\"1\" class=\"dataframe\">\n",
       "  <thead>\n",
       "    <tr style=\"text-align: right;\">\n",
       "      <th></th>\n",
       "      <th></th>\n",
       "      <th>Type</th>\n",
       "      <th>Start</th>\n",
       "      <th>End</th>\n",
       "      <th>Population</th>\n",
       "      <th>ODE</th>\n",
       "      <th>Rt</th>\n",
       "      <th>theta</th>\n",
       "      <th>kappa</th>\n",
       "      <th>rho</th>\n",
       "      <th>sigma</th>\n",
       "      <th>tau</th>\n",
       "      <th>1/alpha2 [day]</th>\n",
       "      <th>1/beta [day]</th>\n",
       "      <th>1/gamma [day]</th>\n",
       "      <th>alpha1 [-]</th>\n",
       "      <th>RMSLE</th>\n",
       "      <th>Trials</th>\n",
       "      <th>Runtime</th>\n",
       "    </tr>\n",
       "    <tr>\n",
       "      <th>Country</th>\n",
       "      <th>Phase</th>\n",
       "      <th></th>\n",
       "      <th></th>\n",
       "      <th></th>\n",
       "      <th></th>\n",
       "      <th></th>\n",
       "      <th></th>\n",
       "      <th></th>\n",
       "      <th></th>\n",
       "      <th></th>\n",
       "      <th></th>\n",
       "      <th></th>\n",
       "      <th></th>\n",
       "      <th></th>\n",
       "      <th></th>\n",
       "      <th></th>\n",
       "      <th></th>\n",
       "      <th></th>\n",
       "      <th></th>\n",
       "    </tr>\n",
       "  </thead>\n",
       "  <tbody>\n",
       "    <tr>\n",
       "      <th rowspan=\"10\" valign=\"top\">Poland</th>\n",
       "      <th>1st</th>\n",
       "      <td>Past</td>\n",
       "      <td>24Apr2020</td>\n",
       "      <td>12May2020</td>\n",
       "      <td>37974750</td>\n",
       "      <td>SIR-F</td>\n",
       "      <td>1.29</td>\n",
       "      <td>5.37629e-05</td>\n",
       "      <td>0.000565455</td>\n",
       "      <td>0.00882661</td>\n",
       "      <td>0.00627312</td>\n",
       "      <td>360</td>\n",
       "      <td>442</td>\n",
       "      <td>28</td>\n",
       "      <td>39</td>\n",
       "      <td>0</td>\n",
       "      <td>0.0357077</td>\n",
       "      <td>1092</td>\n",
       "      <td>1 min  0 sec</td>\n",
       "    </tr>\n",
       "    <tr>\n",
       "      <th>2nd</th>\n",
       "      <td>Past</td>\n",
       "      <td>13May2020</td>\n",
       "      <td>28May2020</td>\n",
       "      <td>37974750</td>\n",
       "      <td>SIR-F</td>\n",
       "      <td>1.38</td>\n",
       "      <td>0.0141721</td>\n",
       "      <td>0.000162145</td>\n",
       "      <td>0.00920479</td>\n",
       "      <td>0.00639038</td>\n",
       "      <td>360</td>\n",
       "      <td>1541</td>\n",
       "      <td>27</td>\n",
       "      <td>39</td>\n",
       "      <td>0.014</td>\n",
       "      <td>0.0205571</td>\n",
       "      <td>357</td>\n",
       "      <td>0 min 20 sec</td>\n",
       "    </tr>\n",
       "    <tr>\n",
       "      <th>3rd</th>\n",
       "      <td>Past</td>\n",
       "      <td>29May2020</td>\n",
       "      <td>12Jun2020</td>\n",
       "      <td>37974750</td>\n",
       "      <td>SIR-F</td>\n",
       "      <td>1.37</td>\n",
       "      <td>0.0329975</td>\n",
       "      <td>2.43684e-05</td>\n",
       "      <td>0.00710091</td>\n",
       "      <td>0.00498468</td>\n",
       "      <td>360</td>\n",
       "      <td>10259</td>\n",
       "      <td>35</td>\n",
       "      <td>50</td>\n",
       "      <td>0.033</td>\n",
       "      <td>0.032415</td>\n",
       "      <td>815</td>\n",
       "      <td>1 min  0 sec</td>\n",
       "    </tr>\n",
       "    <tr>\n",
       "      <th>4th</th>\n",
       "      <td>Past</td>\n",
       "      <td>13Jun2020</td>\n",
       "      <td>29Jun2020</td>\n",
       "      <td>37974750</td>\n",
       "      <td>SIR-F</td>\n",
       "      <td>0.78</td>\n",
       "      <td>0.000313032</td>\n",
       "      <td>0.000256566</td>\n",
       "      <td>0.00573277</td>\n",
       "      <td>0.00711249</td>\n",
       "      <td>360</td>\n",
       "      <td>974</td>\n",
       "      <td>43</td>\n",
       "      <td>35</td>\n",
       "      <td>0</td>\n",
       "      <td>0.0576953</td>\n",
       "      <td>848</td>\n",
       "      <td>1 min  1 sec</td>\n",
       "    </tr>\n",
       "    <tr>\n",
       "      <th>5th</th>\n",
       "      <td>Past</td>\n",
       "      <td>30Jun2020</td>\n",
       "      <td>13Jul2020</td>\n",
       "      <td>37974750</td>\n",
       "      <td>SIR-F</td>\n",
       "      <td>0.77</td>\n",
       "      <td>0.0202392</td>\n",
       "      <td>7.11252e-05</td>\n",
       "      <td>0.00803131</td>\n",
       "      <td>0.0101503</td>\n",
       "      <td>360</td>\n",
       "      <td>3514</td>\n",
       "      <td>31</td>\n",
       "      <td>24</td>\n",
       "      <td>0.02</td>\n",
       "      <td>0.0567759</td>\n",
       "      <td>234</td>\n",
       "      <td>0 min 10 sec</td>\n",
       "    </tr>\n",
       "    <tr>\n",
       "      <th>6th</th>\n",
       "      <td>Past</td>\n",
       "      <td>14Jul2020</td>\n",
       "      <td>25Jul2020</td>\n",
       "      <td>37974750</td>\n",
       "      <td>SIR-F</td>\n",
       "      <td>0.93</td>\n",
       "      <td>0.00138448</td>\n",
       "      <td>0.00015031</td>\n",
       "      <td>0.011741</td>\n",
       "      <td>0.0125232</td>\n",
       "      <td>360</td>\n",
       "      <td>1663</td>\n",
       "      <td>21</td>\n",
       "      <td>19</td>\n",
       "      <td>0.001</td>\n",
       "      <td>0.0471512</td>\n",
       "      <td>224</td>\n",
       "      <td>0 min 10 sec</td>\n",
       "    </tr>\n",
       "    <tr>\n",
       "      <th>7th</th>\n",
       "      <td>Past</td>\n",
       "      <td>26Jul2020</td>\n",
       "      <td>04Aug2020</td>\n",
       "      <td>37974750</td>\n",
       "      <td>SIR-F</td>\n",
       "      <td>1.86</td>\n",
       "      <td>0.000636584</td>\n",
       "      <td>0.000150335</td>\n",
       "      <td>0.0155036</td>\n",
       "      <td>0.00819833</td>\n",
       "      <td>360</td>\n",
       "      <td>1662</td>\n",
       "      <td>16</td>\n",
       "      <td>30</td>\n",
       "      <td>0.001</td>\n",
       "      <td>0.0095054</td>\n",
       "      <td>212</td>\n",
       "      <td>0 min 15 sec</td>\n",
       "    </tr>\n",
       "    <tr>\n",
       "      <th>8th</th>\n",
       "      <td>Past</td>\n",
       "      <td>05Aug2020</td>\n",
       "      <td>14Aug2020</td>\n",
       "      <td>37974750</td>\n",
       "      <td>SIR-F</td>\n",
       "      <td>2.25</td>\n",
       "      <td>0.00204156</td>\n",
       "      <td>0.000191442</td>\n",
       "      <td>0.0135298</td>\n",
       "      <td>0.00581791</td>\n",
       "      <td>360</td>\n",
       "      <td>1305</td>\n",
       "      <td>18</td>\n",
       "      <td>42</td>\n",
       "      <td>0.002</td>\n",
       "      <td>0.0075916</td>\n",
       "      <td>235</td>\n",
       "      <td>0 min 15 sec</td>\n",
       "    </tr>\n",
       "    <tr>\n",
       "      <th>9th</th>\n",
       "      <td>Past</td>\n",
       "      <td>15Aug2020</td>\n",
       "      <td>22Aug2020</td>\n",
       "      <td>37974750</td>\n",
       "      <td>SIR-F</td>\n",
       "      <td>1.63</td>\n",
       "      <td>6.66032e-05</td>\n",
       "      <td>0.000151349</td>\n",
       "      <td>0.0114219</td>\n",
       "      <td>0.0068578</td>\n",
       "      <td>360</td>\n",
       "      <td>1651</td>\n",
       "      <td>21</td>\n",
       "      <td>36</td>\n",
       "      <td>0</td>\n",
       "      <td>0.00845035</td>\n",
       "      <td>313</td>\n",
       "      <td>0 min 15 sec</td>\n",
       "    </tr>\n",
       "    <tr>\n",
       "      <th>10th</th>\n",
       "      <td>Past</td>\n",
       "      <td>23Aug2020</td>\n",
       "      <td>31Aug2020</td>\n",
       "      <td>37974750</td>\n",
       "      <td>SIR-F</td>\n",
       "      <td>1.32</td>\n",
       "      <td>0.00116271</td>\n",
       "      <td>0.000162118</td>\n",
       "      <td>0.0101702</td>\n",
       "      <td>0.00751506</td>\n",
       "      <td>360</td>\n",
       "      <td>1542</td>\n",
       "      <td>24</td>\n",
       "      <td>33</td>\n",
       "      <td>0.001</td>\n",
       "      <td>0.00986302</td>\n",
       "      <td>1338</td>\n",
       "      <td>1 min  0 sec</td>\n",
       "    </tr>\n",
       "    <tr>\n",
       "      <th rowspan=\"10\" valign=\"top\">Senegal</th>\n",
       "      <th>1st</th>\n",
       "      <td>Past</td>\n",
       "      <td>03May2020</td>\n",
       "      <td>14May2020</td>\n",
       "      <td>15854360</td>\n",
       "      <td>SIR-F</td>\n",
       "      <td>2.07</td>\n",
       "      <td>0.000120929</td>\n",
       "      <td>0.000293668</td>\n",
       "      <td>0.0218936</td>\n",
       "      <td>0.0102821</td>\n",
       "      <td>360</td>\n",
       "      <td>851</td>\n",
       "      <td>11</td>\n",
       "      <td>24</td>\n",
       "      <td>0</td>\n",
       "      <td>0.0584217</td>\n",
       "      <td>481</td>\n",
       "      <td>0 min 20 sec</td>\n",
       "    </tr>\n",
       "    <tr>\n",
       "      <th>2nd</th>\n",
       "      <td>Past</td>\n",
       "      <td>15May2020</td>\n",
       "      <td>29May2020</td>\n",
       "      <td>15854360</td>\n",
       "      <td>SIR-F</td>\n",
       "      <td>1.39</td>\n",
       "      <td>0.00135436</td>\n",
       "      <td>0.000171596</td>\n",
       "      <td>0.0141467</td>\n",
       "      <td>0.0100062</td>\n",
       "      <td>360</td>\n",
       "      <td>1456</td>\n",
       "      <td>17</td>\n",
       "      <td>24</td>\n",
       "      <td>0.001</td>\n",
       "      <td>0.0451384</td>\n",
       "      <td>893</td>\n",
       "      <td>1 min  0 sec</td>\n",
       "    </tr>\n",
       "    <tr>\n",
       "      <th>3rd</th>\n",
       "      <td>Past</td>\n",
       "      <td>30May2020</td>\n",
       "      <td>09Jun2020</td>\n",
       "      <td>15854360</td>\n",
       "      <td>SIR-F</td>\n",
       "      <td>1.01</td>\n",
       "      <td>0.000121542</td>\n",
       "      <td>0.000104268</td>\n",
       "      <td>0.0136598</td>\n",
       "      <td>0.0134844</td>\n",
       "      <td>360</td>\n",
       "      <td>2397</td>\n",
       "      <td>18</td>\n",
       "      <td>18</td>\n",
       "      <td>0</td>\n",
       "      <td>0.0436007</td>\n",
       "      <td>1259</td>\n",
       "      <td>1 min  0 sec</td>\n",
       "    </tr>\n",
       "    <tr>\n",
       "      <th>4th</th>\n",
       "      <td>Past</td>\n",
       "      <td>10Jun2020</td>\n",
       "      <td>20Jun2020</td>\n",
       "      <td>15854360</td>\n",
       "      <td>SIR-F</td>\n",
       "      <td>1.01</td>\n",
       "      <td>0.000571012</td>\n",
       "      <td>0.000426116</td>\n",
       "      <td>0.0163502</td>\n",
       "      <td>0.0157948</td>\n",
       "      <td>360</td>\n",
       "      <td>586</td>\n",
       "      <td>15</td>\n",
       "      <td>15</td>\n",
       "      <td>0.001</td>\n",
       "      <td>0.028577</td>\n",
       "      <td>1302</td>\n",
       "      <td>1 min  0 sec</td>\n",
       "    </tr>\n",
       "    <tr>\n",
       "      <th>5th</th>\n",
       "      <td>Past</td>\n",
       "      <td>21Jun2020</td>\n",
       "      <td>02Jul2020</td>\n",
       "      <td>15854360</td>\n",
       "      <td>SIR-F</td>\n",
       "      <td>1.82</td>\n",
       "      <td>0.021597</td>\n",
       "      <td>8.43056e-05</td>\n",
       "      <td>0.0123168</td>\n",
       "      <td>0.0065474</td>\n",
       "      <td>360</td>\n",
       "      <td>2965</td>\n",
       "      <td>20</td>\n",
       "      <td>38</td>\n",
       "      <td>0.022</td>\n",
       "      <td>0.0213344</td>\n",
       "      <td>750</td>\n",
       "      <td>1 min  1 sec</td>\n",
       "    </tr>\n",
       "    <tr>\n",
       "      <th>6th</th>\n",
       "      <td>Past</td>\n",
       "      <td>03Jul2020</td>\n",
       "      <td>16Jul2020</td>\n",
       "      <td>15854360</td>\n",
       "      <td>SIR-F</td>\n",
       "      <td>1.14</td>\n",
       "      <td>0.000255872</td>\n",
       "      <td>0.000256566</td>\n",
       "      <td>0.0101218</td>\n",
       "      <td>0.0086543</td>\n",
       "      <td>360</td>\n",
       "      <td>974</td>\n",
       "      <td>24</td>\n",
       "      <td>28</td>\n",
       "      <td>0</td>\n",
       "      <td>0.0209408</td>\n",
       "      <td>701</td>\n",
       "      <td>1 min  1 sec</td>\n",
       "    </tr>\n",
       "    <tr>\n",
       "      <th>7th</th>\n",
       "      <td>Past</td>\n",
       "      <td>17Jul2020</td>\n",
       "      <td>28Jul2020</td>\n",
       "      <td>15854360</td>\n",
       "      <td>SIR-F</td>\n",
       "      <td>1.78</td>\n",
       "      <td>0.000120961</td>\n",
       "      <td>0.000292108</td>\n",
       "      <td>0.0110754</td>\n",
       "      <td>0.00591964</td>\n",
       "      <td>360</td>\n",
       "      <td>855</td>\n",
       "      <td>22</td>\n",
       "      <td>42</td>\n",
       "      <td>0</td>\n",
       "      <td>0.0139564</td>\n",
       "      <td>715</td>\n",
       "      <td>1 min  1 sec</td>\n",
       "    </tr>\n",
       "    <tr>\n",
       "      <th>8th</th>\n",
       "      <td>Past</td>\n",
       "      <td>29Jul2020</td>\n",
       "      <td>09Aug2020</td>\n",
       "      <td>15854360</td>\n",
       "      <td>SIR-F</td>\n",
       "      <td>1.75</td>\n",
       "      <td>0.0222241</td>\n",
       "      <td>4.57597e-05</td>\n",
       "      <td>0.00775807</td>\n",
       "      <td>0.004297</td>\n",
       "      <td>360</td>\n",
       "      <td>5463</td>\n",
       "      <td>32</td>\n",
       "      <td>58</td>\n",
       "      <td>0.022</td>\n",
       "      <td>0.0129505</td>\n",
       "      <td>462</td>\n",
       "      <td>0 min 20 sec</td>\n",
       "    </tr>\n",
       "    <tr>\n",
       "      <th>9th</th>\n",
       "      <td>Past</td>\n",
       "      <td>10Aug2020</td>\n",
       "      <td>19Aug2020</td>\n",
       "      <td>15854360</td>\n",
       "      <td>-</td>\n",
       "      <td>-</td>\n",
       "      <td>-</td>\n",
       "      <td>-</td>\n",
       "      <td>-</td>\n",
       "      <td>-</td>\n",
       "      <td>-</td>\n",
       "      <td>-</td>\n",
       "      <td>-</td>\n",
       "      <td>-</td>\n",
       "      <td>-</td>\n",
       "      <td>-</td>\n",
       "      <td>-</td>\n",
       "      <td>-</td>\n",
       "    </tr>\n",
       "    <tr>\n",
       "      <th>10th</th>\n",
       "      <td>Past</td>\n",
       "      <td>20Aug2020</td>\n",
       "      <td>31Aug2020</td>\n",
       "      <td>15854360</td>\n",
       "      <td>-</td>\n",
       "      <td>-</td>\n",
       "      <td>-</td>\n",
       "      <td>-</td>\n",
       "      <td>-</td>\n",
       "      <td>-</td>\n",
       "      <td>-</td>\n",
       "      <td>-</td>\n",
       "      <td>-</td>\n",
       "      <td>-</td>\n",
       "      <td>-</td>\n",
       "      <td>-</td>\n",
       "      <td>-</td>\n",
       "      <td>-</td>\n",
       "    </tr>\n",
       "    <tr>\n",
       "      <th rowspan=\"10\" valign=\"top\">Iran</th>\n",
       "      <th>1st</th>\n",
       "      <td>Past</td>\n",
       "      <td>28Mar2020</td>\n",
       "      <td>16Apr2020</td>\n",
       "      <td>81800269</td>\n",
       "      <td>SIR-F</td>\n",
       "      <td>1.11</td>\n",
       "      <td>0.0149827</td>\n",
       "      <td>0.00114014</td>\n",
       "      <td>0.0203555</td>\n",
       "      <td>0.0169871</td>\n",
       "      <td>360</td>\n",
       "      <td>219</td>\n",
       "      <td>12</td>\n",
       "      <td>14</td>\n",
       "      <td>0.015</td>\n",
       "      <td>0.28102</td>\n",
       "      <td>1004</td>\n",
       "      <td>1 min  0 sec</td>\n",
       "    </tr>\n",
       "    <tr>\n",
       "      <th>2nd</th>\n",
       "      <td>Past</td>\n",
       "      <td>17Apr2020</td>\n",
       "      <td>10May2020</td>\n",
       "      <td>81800269</td>\n",
       "      <td>SIR-F</td>\n",
       "      <td>0.73</td>\n",
       "      <td>0.0205407</td>\n",
       "      <td>0.000862225</td>\n",
       "      <td>0.0182612</td>\n",
       "      <td>0.0236975</td>\n",
       "      <td>360</td>\n",
       "      <td>289</td>\n",
       "      <td>13</td>\n",
       "      <td>10</td>\n",
       "      <td>0.021</td>\n",
       "      <td>0.112466</td>\n",
       "      <td>132</td>\n",
       "      <td>0 min  5 sec</td>\n",
       "    </tr>\n",
       "    <tr>\n",
       "      <th>3rd</th>\n",
       "      <td>Past</td>\n",
       "      <td>11May2020</td>\n",
       "      <td>30May2020</td>\n",
       "      <td>81800269</td>\n",
       "      <td>SIR-F</td>\n",
       "      <td>1.37</td>\n",
       "      <td>0.00109344</td>\n",
       "      <td>0.000738645</td>\n",
       "      <td>0.0263177</td>\n",
       "      <td>0.0184966</td>\n",
       "      <td>360</td>\n",
       "      <td>338</td>\n",
       "      <td>9</td>\n",
       "      <td>13</td>\n",
       "      <td>0.001</td>\n",
       "      <td>0.0465841</td>\n",
       "      <td>940</td>\n",
       "      <td>1 min  0 sec</td>\n",
       "    </tr>\n",
       "    <tr>\n",
       "      <th>4th</th>\n",
       "      <td>Past</td>\n",
       "      <td>31May2020</td>\n",
       "      <td>12Jun2020</td>\n",
       "      <td>81800269</td>\n",
       "      <td>SIR-F</td>\n",
       "      <td>1.25</td>\n",
       "      <td>0.0181027</td>\n",
       "      <td>0.000195663</td>\n",
       "      <td>0.0243609</td>\n",
       "      <td>0.0189083</td>\n",
       "      <td>360</td>\n",
       "      <td>1277</td>\n",
       "      <td>10</td>\n",
       "      <td>13</td>\n",
       "      <td>0.018</td>\n",
       "      <td>0.0348556</td>\n",
       "      <td>1197</td>\n",
       "      <td>1 min  0 sec</td>\n",
       "    </tr>\n",
       "    <tr>\n",
       "      <th>5th</th>\n",
       "      <td>Past</td>\n",
       "      <td>13Jun2020</td>\n",
       "      <td>25Jun2020</td>\n",
       "      <td>81800269</td>\n",
       "      <td>SIR-F</td>\n",
       "      <td>1.06</td>\n",
       "      <td>0.0313393</td>\n",
       "      <td>0.000299114</td>\n",
       "      <td>0.0205242</td>\n",
       "      <td>0.0183969</td>\n",
       "      <td>360</td>\n",
       "      <td>835</td>\n",
       "      <td>12</td>\n",
       "      <td>13</td>\n",
       "      <td>0.031</td>\n",
       "      <td>0.0236095</td>\n",
       "      <td>267</td>\n",
       "      <td>0 min 10 sec</td>\n",
       "    </tr>\n",
       "    <tr>\n",
       "      <th>6th</th>\n",
       "      <td>Past</td>\n",
       "      <td>26Jun2020</td>\n",
       "      <td>06Jul2020</td>\n",
       "      <td>81800269</td>\n",
       "      <td>SIR-F</td>\n",
       "      <td>0.94</td>\n",
       "      <td>0.0346456</td>\n",
       "      <td>0.000449601</td>\n",
       "      <td>0.0230382</td>\n",
       "      <td>0.023186</td>\n",
       "      <td>360</td>\n",
       "      <td>556</td>\n",
       "      <td>10</td>\n",
       "      <td>10</td>\n",
       "      <td>0.035</td>\n",
       "      <td>0.01817</td>\n",
       "      <td>116</td>\n",
       "      <td>0 min 10 sec</td>\n",
       "    </tr>\n",
       "    <tr>\n",
       "      <th>7th</th>\n",
       "      <td>Past</td>\n",
       "      <td>07Jul2020</td>\n",
       "      <td>18Jul2020</td>\n",
       "      <td>81800269</td>\n",
       "      <td>SIR-F</td>\n",
       "      <td>0.88</td>\n",
       "      <td>0.0581786</td>\n",
       "      <td>0.000531801</td>\n",
       "      <td>0.0246435</td>\n",
       "      <td>0.0258466</td>\n",
       "      <td>360</td>\n",
       "      <td>470</td>\n",
       "      <td>10</td>\n",
       "      <td>9</td>\n",
       "      <td>0.058</td>\n",
       "      <td>0.0203919</td>\n",
       "      <td>223</td>\n",
       "      <td>0 min 10 sec</td>\n",
       "    </tr>\n",
       "    <tr>\n",
       "      <th>8th</th>\n",
       "      <td>Past</td>\n",
       "      <td>19Jul2020</td>\n",
       "      <td>31Jul2020</td>\n",
       "      <td>81800269</td>\n",
       "      <td>SIR-F</td>\n",
       "      <td>1.09</td>\n",
       "      <td>0.000404363</td>\n",
       "      <td>0.00251871</td>\n",
       "      <td>0.0287159</td>\n",
       "      <td>0.0239064</td>\n",
       "      <td>360</td>\n",
       "      <td>99</td>\n",
       "      <td>8</td>\n",
       "      <td>10</td>\n",
       "      <td>0</td>\n",
       "      <td>0.0219693</td>\n",
       "      <td>213</td>\n",
       "      <td>0 min 10 sec</td>\n",
       "    </tr>\n",
       "    <tr>\n",
       "      <th>9th</th>\n",
       "      <td>Past</td>\n",
       "      <td>01Aug2020</td>\n",
       "      <td>13Aug2020</td>\n",
       "      <td>81800269</td>\n",
       "      <td>SIR-F</td>\n",
       "      <td>1.04</td>\n",
       "      <td>0.0371392</td>\n",
       "      <td>0.000878898</td>\n",
       "      <td>0.0261124</td>\n",
       "      <td>0.0233437</td>\n",
       "      <td>360</td>\n",
       "      <td>284</td>\n",
       "      <td>9</td>\n",
       "      <td>10</td>\n",
       "      <td>0.037</td>\n",
       "      <td>0.016984</td>\n",
       "      <td>182</td>\n",
       "      <td>0 min 10 sec</td>\n",
       "    </tr>\n",
       "    <tr>\n",
       "      <th>10th</th>\n",
       "      <td>Past</td>\n",
       "      <td>14Aug2020</td>\n",
       "      <td>31Aug2020</td>\n",
       "      <td>81800269</td>\n",
       "      <td>-</td>\n",
       "      <td>-</td>\n",
       "      <td>-</td>\n",
       "      <td>-</td>\n",
       "      <td>-</td>\n",
       "      <td>-</td>\n",
       "      <td>-</td>\n",
       "      <td>-</td>\n",
       "      <td>-</td>\n",
       "      <td>-</td>\n",
       "      <td>-</td>\n",
       "      <td>-</td>\n",
       "      <td>-</td>\n",
       "      <td>-</td>\n",
       "    </tr>\n",
       "    <tr>\n",
       "      <th rowspan=\"10\" valign=\"top\">United Arab Emirates</th>\n",
       "      <th>1st</th>\n",
       "      <td>Past</td>\n",
       "      <td>27Apr2020</td>\n",
       "      <td>12May2020</td>\n",
       "      <td>9630959</td>\n",
       "      <td>SIR-F</td>\n",
       "      <td>2.76</td>\n",
       "      <td>0.000438987</td>\n",
       "      <td>0.000184518</td>\n",
       "      <td>0.0135667</td>\n",
       "      <td>0.00472219</td>\n",
       "      <td>360</td>\n",
       "      <td>1354</td>\n",
       "      <td>18</td>\n",
       "      <td>52</td>\n",
       "      <td>0</td>\n",
       "      <td>0.0932873</td>\n",
       "      <td>1005</td>\n",
       "      <td>1 min  0 sec</td>\n",
       "    </tr>\n",
       "    <tr>\n",
       "      <th>2nd</th>\n",
       "      <td>Past</td>\n",
       "      <td>13May2020</td>\n",
       "      <td>25May2020</td>\n",
       "      <td>9630959</td>\n",
       "      <td>-</td>\n",
       "      <td>-</td>\n",
       "      <td>-</td>\n",
       "      <td>-</td>\n",
       "      <td>-</td>\n",
       "      <td>-</td>\n",
       "      <td>-</td>\n",
       "      <td>-</td>\n",
       "      <td>-</td>\n",
       "      <td>-</td>\n",
       "      <td>-</td>\n",
       "      <td>-</td>\n",
       "      <td>-</td>\n",
       "      <td>-</td>\n",
       "    </tr>\n",
       "    <tr>\n",
       "      <th>3rd</th>\n",
       "      <td>Past</td>\n",
       "      <td>26May2020</td>\n",
       "      <td>03Jun2020</td>\n",
       "      <td>9630959</td>\n",
       "      <td>SIR-F</td>\n",
       "      <td>1.66</td>\n",
       "      <td>0.000996878</td>\n",
       "      <td>2.37605e-05</td>\n",
       "      <td>0.0101173</td>\n",
       "      <td>0.0060745</td>\n",
       "      <td>360</td>\n",
       "      <td>10521</td>\n",
       "      <td>24</td>\n",
       "      <td>41</td>\n",
       "      <td>0.001</td>\n",
       "      <td>0.00948899</td>\n",
       "      <td>941</td>\n",
       "      <td>0 min 30 sec</td>\n",
       "    </tr>\n",
       "    <tr>\n",
       "      <th>4th</th>\n",
       "      <td>Past</td>\n",
       "      <td>04Jun2020</td>\n",
       "      <td>11Jun2020</td>\n",
       "      <td>9630959</td>\n",
       "      <td>SIR-F</td>\n",
       "      <td>0.73</td>\n",
       "      <td>0.0006635</td>\n",
       "      <td>3.68971e-05</td>\n",
       "      <td>0.00868831</td>\n",
       "      <td>0.0117898</td>\n",
       "      <td>360</td>\n",
       "      <td>6775</td>\n",
       "      <td>28</td>\n",
       "      <td>21</td>\n",
       "      <td>0.001</td>\n",
       "      <td>0.0190657</td>\n",
       "      <td>748</td>\n",
       "      <td>1 min  1 sec</td>\n",
       "    </tr>\n",
       "    <tr>\n",
       "      <th>5th</th>\n",
       "      <td>Past</td>\n",
       "      <td>12Jun2020</td>\n",
       "      <td>23Jun2020</td>\n",
       "      <td>9630959</td>\n",
       "      <td>-</td>\n",
       "      <td>-</td>\n",
       "      <td>-</td>\n",
       "      <td>-</td>\n",
       "      <td>-</td>\n",
       "      <td>-</td>\n",
       "      <td>-</td>\n",
       "      <td>-</td>\n",
       "      <td>-</td>\n",
       "      <td>-</td>\n",
       "      <td>-</td>\n",
       "      <td>-</td>\n",
       "      <td>-</td>\n",
       "      <td>-</td>\n",
       "    </tr>\n",
       "    <tr>\n",
       "      <th>6th</th>\n",
       "      <td>Past</td>\n",
       "      <td>24Jun2020</td>\n",
       "      <td>02Jul2020</td>\n",
       "      <td>9630959</td>\n",
       "      <td>SIR-F</td>\n",
       "      <td>0.75</td>\n",
       "      <td>0.000964064</td>\n",
       "      <td>3.68971e-05</td>\n",
       "      <td>0.00977321</td>\n",
       "      <td>0.0130379</td>\n",
       "      <td>360</td>\n",
       "      <td>6775</td>\n",
       "      <td>25</td>\n",
       "      <td>19</td>\n",
       "      <td>0.001</td>\n",
       "      <td>0.0141958</td>\n",
       "      <td>455</td>\n",
       "      <td>0 min 30 sec</td>\n",
       "    </tr>\n",
       "    <tr>\n",
       "      <th>7th</th>\n",
       "      <td>Past</td>\n",
       "      <td>03Jul2020</td>\n",
       "      <td>11Jul2020</td>\n",
       "      <td>9630959</td>\n",
       "      <td>SIR-F</td>\n",
       "      <td>0.75</td>\n",
       "      <td>0.000663328</td>\n",
       "      <td>3.68953e-05</td>\n",
       "      <td>0.0130594</td>\n",
       "      <td>0.0173605</td>\n",
       "      <td>360</td>\n",
       "      <td>6775</td>\n",
       "      <td>19</td>\n",
       "      <td>14</td>\n",
       "      <td>0.001</td>\n",
       "      <td>0.0316824</td>\n",
       "      <td>769</td>\n",
       "      <td>1 min  1 sec</td>\n",
       "    </tr>\n",
       "    <tr>\n",
       "      <th>8th</th>\n",
       "      <td>Past</td>\n",
       "      <td>12Jul2020</td>\n",
       "      <td>25Jul2020</td>\n",
       "      <td>9630959</td>\n",
       "      <td>SIR-F</td>\n",
       "      <td>0.66</td>\n",
       "      <td>0.000163186</td>\n",
       "      <td>5.96005e-05</td>\n",
       "      <td>0.00937214</td>\n",
       "      <td>0.0142402</td>\n",
       "      <td>360</td>\n",
       "      <td>4194</td>\n",
       "      <td>26</td>\n",
       "      <td>17</td>\n",
       "      <td>0</td>\n",
       "      <td>0.0702661</td>\n",
       "      <td>911</td>\n",
       "      <td>1 min  0 sec</td>\n",
       "    </tr>\n",
       "    <tr>\n",
       "      <th>9th</th>\n",
       "      <td>Past</td>\n",
       "      <td>26Jul2020</td>\n",
       "      <td>14Aug2020</td>\n",
       "      <td>9630959</td>\n",
       "      <td>SIR-F</td>\n",
       "      <td>0.88</td>\n",
       "      <td>0.000659568</td>\n",
       "      <td>3.69124e-05</td>\n",
       "      <td>0.0112223</td>\n",
       "      <td>0.0127289</td>\n",
       "      <td>360</td>\n",
       "      <td>6772</td>\n",
       "      <td>22</td>\n",
       "      <td>19</td>\n",
       "      <td>0.001</td>\n",
       "      <td>0.0251192</td>\n",
       "      <td>459</td>\n",
       "      <td>0 min 20 sec</td>\n",
       "    </tr>\n",
       "    <tr>\n",
       "      <th>10th</th>\n",
       "      <td>Past</td>\n",
       "      <td>15Aug2020</td>\n",
       "      <td>31Aug2020</td>\n",
       "      <td>9630959</td>\n",
       "      <td>-</td>\n",
       "      <td>-</td>\n",
       "      <td>-</td>\n",
       "      <td>-</td>\n",
       "      <td>-</td>\n",
       "      <td>-</td>\n",
       "      <td>-</td>\n",
       "      <td>-</td>\n",
       "      <td>-</td>\n",
       "      <td>-</td>\n",
       "      <td>-</td>\n",
       "      <td>-</td>\n",
       "      <td>-</td>\n",
       "      <td>-</td>\n",
       "    </tr>\n",
       "  </tbody>\n",
       "</table>\n",
       "</div>"
      ],
      "text/plain": [
       "                            Type      Start        End  Population    ODE  \\\n",
       "Country              Phase                                                  \n",
       "Poland               1st    Past  24Apr2020  12May2020    37974750  SIR-F   \n",
       "                     2nd    Past  13May2020  28May2020    37974750  SIR-F   \n",
       "                     3rd    Past  29May2020  12Jun2020    37974750  SIR-F   \n",
       "                     4th    Past  13Jun2020  29Jun2020    37974750  SIR-F   \n",
       "                     5th    Past  30Jun2020  13Jul2020    37974750  SIR-F   \n",
       "                     6th    Past  14Jul2020  25Jul2020    37974750  SIR-F   \n",
       "                     7th    Past  26Jul2020  04Aug2020    37974750  SIR-F   \n",
       "                     8th    Past  05Aug2020  14Aug2020    37974750  SIR-F   \n",
       "                     9th    Past  15Aug2020  22Aug2020    37974750  SIR-F   \n",
       "                     10th   Past  23Aug2020  31Aug2020    37974750  SIR-F   \n",
       "Senegal              1st    Past  03May2020  14May2020    15854360  SIR-F   \n",
       "                     2nd    Past  15May2020  29May2020    15854360  SIR-F   \n",
       "                     3rd    Past  30May2020  09Jun2020    15854360  SIR-F   \n",
       "                     4th    Past  10Jun2020  20Jun2020    15854360  SIR-F   \n",
       "                     5th    Past  21Jun2020  02Jul2020    15854360  SIR-F   \n",
       "                     6th    Past  03Jul2020  16Jul2020    15854360  SIR-F   \n",
       "                     7th    Past  17Jul2020  28Jul2020    15854360  SIR-F   \n",
       "                     8th    Past  29Jul2020  09Aug2020    15854360  SIR-F   \n",
       "                     9th    Past  10Aug2020  19Aug2020    15854360      -   \n",
       "                     10th   Past  20Aug2020  31Aug2020    15854360      -   \n",
       "Iran                 1st    Past  28Mar2020  16Apr2020    81800269  SIR-F   \n",
       "                     2nd    Past  17Apr2020  10May2020    81800269  SIR-F   \n",
       "                     3rd    Past  11May2020  30May2020    81800269  SIR-F   \n",
       "                     4th    Past  31May2020  12Jun2020    81800269  SIR-F   \n",
       "                     5th    Past  13Jun2020  25Jun2020    81800269  SIR-F   \n",
       "                     6th    Past  26Jun2020  06Jul2020    81800269  SIR-F   \n",
       "                     7th    Past  07Jul2020  18Jul2020    81800269  SIR-F   \n",
       "                     8th    Past  19Jul2020  31Jul2020    81800269  SIR-F   \n",
       "                     9th    Past  01Aug2020  13Aug2020    81800269  SIR-F   \n",
       "                     10th   Past  14Aug2020  31Aug2020    81800269      -   \n",
       "United Arab Emirates 1st    Past  27Apr2020  12May2020     9630959  SIR-F   \n",
       "                     2nd    Past  13May2020  25May2020     9630959      -   \n",
       "                     3rd    Past  26May2020  03Jun2020     9630959  SIR-F   \n",
       "                     4th    Past  04Jun2020  11Jun2020     9630959  SIR-F   \n",
       "                     5th    Past  12Jun2020  23Jun2020     9630959      -   \n",
       "                     6th    Past  24Jun2020  02Jul2020     9630959  SIR-F   \n",
       "                     7th    Past  03Jul2020  11Jul2020     9630959  SIR-F   \n",
       "                     8th    Past  12Jul2020  25Jul2020     9630959  SIR-F   \n",
       "                     9th    Past  26Jul2020  14Aug2020     9630959  SIR-F   \n",
       "                     10th   Past  15Aug2020  31Aug2020     9630959      -   \n",
       "\n",
       "                              Rt        theta        kappa         rho  \\\n",
       "Country              Phase                                               \n",
       "Poland               1st    1.29  5.37629e-05  0.000565455  0.00882661   \n",
       "                     2nd    1.38    0.0141721  0.000162145  0.00920479   \n",
       "                     3rd    1.37    0.0329975  2.43684e-05  0.00710091   \n",
       "                     4th    0.78  0.000313032  0.000256566  0.00573277   \n",
       "                     5th    0.77    0.0202392  7.11252e-05  0.00803131   \n",
       "                     6th    0.93   0.00138448   0.00015031    0.011741   \n",
       "                     7th    1.86  0.000636584  0.000150335   0.0155036   \n",
       "                     8th    2.25   0.00204156  0.000191442   0.0135298   \n",
       "                     9th    1.63  6.66032e-05  0.000151349   0.0114219   \n",
       "                     10th   1.32   0.00116271  0.000162118   0.0101702   \n",
       "Senegal              1st    2.07  0.000120929  0.000293668   0.0218936   \n",
       "                     2nd    1.39   0.00135436  0.000171596   0.0141467   \n",
       "                     3rd    1.01  0.000121542  0.000104268   0.0136598   \n",
       "                     4th    1.01  0.000571012  0.000426116   0.0163502   \n",
       "                     5th    1.82     0.021597  8.43056e-05   0.0123168   \n",
       "                     6th    1.14  0.000255872  0.000256566   0.0101218   \n",
       "                     7th    1.78  0.000120961  0.000292108   0.0110754   \n",
       "                     8th    1.75    0.0222241  4.57597e-05  0.00775807   \n",
       "                     9th       -            -            -           -   \n",
       "                     10th      -            -            -           -   \n",
       "Iran                 1st    1.11    0.0149827   0.00114014   0.0203555   \n",
       "                     2nd    0.73    0.0205407  0.000862225   0.0182612   \n",
       "                     3rd    1.37   0.00109344  0.000738645   0.0263177   \n",
       "                     4th    1.25    0.0181027  0.000195663   0.0243609   \n",
       "                     5th    1.06    0.0313393  0.000299114   0.0205242   \n",
       "                     6th    0.94    0.0346456  0.000449601   0.0230382   \n",
       "                     7th    0.88    0.0581786  0.000531801   0.0246435   \n",
       "                     8th    1.09  0.000404363   0.00251871   0.0287159   \n",
       "                     9th    1.04    0.0371392  0.000878898   0.0261124   \n",
       "                     10th      -            -            -           -   \n",
       "United Arab Emirates 1st    2.76  0.000438987  0.000184518   0.0135667   \n",
       "                     2nd       -            -            -           -   \n",
       "                     3rd    1.66  0.000996878  2.37605e-05   0.0101173   \n",
       "                     4th    0.73    0.0006635  3.68971e-05  0.00868831   \n",
       "                     5th       -            -            -           -   \n",
       "                     6th    0.75  0.000964064  3.68971e-05  0.00977321   \n",
       "                     7th    0.75  0.000663328  3.68953e-05   0.0130594   \n",
       "                     8th    0.66  0.000163186  5.96005e-05  0.00937214   \n",
       "                     9th    0.88  0.000659568  3.69124e-05   0.0112223   \n",
       "                     10th      -            -            -           -   \n",
       "\n",
       "                                 sigma  tau 1/alpha2 [day] 1/beta [day]  \\\n",
       "Country              Phase                                                \n",
       "Poland               1st    0.00627312  360            442           28   \n",
       "                     2nd    0.00639038  360           1541           27   \n",
       "                     3rd    0.00498468  360          10259           35   \n",
       "                     4th    0.00711249  360            974           43   \n",
       "                     5th     0.0101503  360           3514           31   \n",
       "                     6th     0.0125232  360           1663           21   \n",
       "                     7th    0.00819833  360           1662           16   \n",
       "                     8th    0.00581791  360           1305           18   \n",
       "                     9th     0.0068578  360           1651           21   \n",
       "                     10th   0.00751506  360           1542           24   \n",
       "Senegal              1st     0.0102821  360            851           11   \n",
       "                     2nd     0.0100062  360           1456           17   \n",
       "                     3rd     0.0134844  360           2397           18   \n",
       "                     4th     0.0157948  360            586           15   \n",
       "                     5th     0.0065474  360           2965           20   \n",
       "                     6th     0.0086543  360            974           24   \n",
       "                     7th    0.00591964  360            855           22   \n",
       "                     8th      0.004297  360           5463           32   \n",
       "                     9th             -    -              -            -   \n",
       "                     10th            -    -              -            -   \n",
       "Iran                 1st     0.0169871  360            219           12   \n",
       "                     2nd     0.0236975  360            289           13   \n",
       "                     3rd     0.0184966  360            338            9   \n",
       "                     4th     0.0189083  360           1277           10   \n",
       "                     5th     0.0183969  360            835           12   \n",
       "                     6th      0.023186  360            556           10   \n",
       "                     7th     0.0258466  360            470           10   \n",
       "                     8th     0.0239064  360             99            8   \n",
       "                     9th     0.0233437  360            284            9   \n",
       "                     10th            -    -              -            -   \n",
       "United Arab Emirates 1st    0.00472219  360           1354           18   \n",
       "                     2nd             -    -              -            -   \n",
       "                     3rd     0.0060745  360          10521           24   \n",
       "                     4th     0.0117898  360           6775           28   \n",
       "                     5th             -    -              -            -   \n",
       "                     6th     0.0130379  360           6775           25   \n",
       "                     7th     0.0173605  360           6775           19   \n",
       "                     8th     0.0142402  360           4194           26   \n",
       "                     9th     0.0127289  360           6772           22   \n",
       "                     10th            -    -              -            -   \n",
       "\n",
       "                           1/gamma [day] alpha1 [-]       RMSLE Trials  \\\n",
       "Country              Phase                                               \n",
       "Poland               1st              39          0   0.0357077   1092   \n",
       "                     2nd              39      0.014   0.0205571    357   \n",
       "                     3rd              50      0.033    0.032415    815   \n",
       "                     4th              35          0   0.0576953    848   \n",
       "                     5th              24       0.02   0.0567759    234   \n",
       "                     6th              19      0.001   0.0471512    224   \n",
       "                     7th              30      0.001   0.0095054    212   \n",
       "                     8th              42      0.002   0.0075916    235   \n",
       "                     9th              36          0  0.00845035    313   \n",
       "                     10th             33      0.001  0.00986302   1338   \n",
       "Senegal              1st              24          0   0.0584217    481   \n",
       "                     2nd              24      0.001   0.0451384    893   \n",
       "                     3rd              18          0   0.0436007   1259   \n",
       "                     4th              15      0.001    0.028577   1302   \n",
       "                     5th              38      0.022   0.0213344    750   \n",
       "                     6th              28          0   0.0209408    701   \n",
       "                     7th              42          0   0.0139564    715   \n",
       "                     8th              58      0.022   0.0129505    462   \n",
       "                     9th               -          -           -      -   \n",
       "                     10th              -          -           -      -   \n",
       "Iran                 1st              14      0.015     0.28102   1004   \n",
       "                     2nd              10      0.021    0.112466    132   \n",
       "                     3rd              13      0.001   0.0465841    940   \n",
       "                     4th              13      0.018   0.0348556   1197   \n",
       "                     5th              13      0.031   0.0236095    267   \n",
       "                     6th              10      0.035     0.01817    116   \n",
       "                     7th               9      0.058   0.0203919    223   \n",
       "                     8th              10          0   0.0219693    213   \n",
       "                     9th              10      0.037    0.016984    182   \n",
       "                     10th              -          -           -      -   \n",
       "United Arab Emirates 1st              52          0   0.0932873   1005   \n",
       "                     2nd               -          -           -      -   \n",
       "                     3rd              41      0.001  0.00948899    941   \n",
       "                     4th              21      0.001   0.0190657    748   \n",
       "                     5th               -          -           -      -   \n",
       "                     6th              19      0.001   0.0141958    455   \n",
       "                     7th              14      0.001   0.0316824    769   \n",
       "                     8th              17          0   0.0702661    911   \n",
       "                     9th              19      0.001   0.0251192    459   \n",
       "                     10th              -          -           -      -   \n",
       "\n",
       "                                 Runtime  \n",
       "Country              Phase                \n",
       "Poland               1st    1 min  0 sec  \n",
       "                     2nd    0 min 20 sec  \n",
       "                     3rd    1 min  0 sec  \n",
       "                     4th    1 min  1 sec  \n",
       "                     5th    0 min 10 sec  \n",
       "                     6th    0 min 10 sec  \n",
       "                     7th    0 min 15 sec  \n",
       "                     8th    0 min 15 sec  \n",
       "                     9th    0 min 15 sec  \n",
       "                     10th   1 min  0 sec  \n",
       "Senegal              1st    0 min 20 sec  \n",
       "                     2nd    1 min  0 sec  \n",
       "                     3rd    1 min  0 sec  \n",
       "                     4th    1 min  0 sec  \n",
       "                     5th    1 min  1 sec  \n",
       "                     6th    1 min  1 sec  \n",
       "                     7th    1 min  1 sec  \n",
       "                     8th    0 min 20 sec  \n",
       "                     9th               -  \n",
       "                     10th              -  \n",
       "Iran                 1st    1 min  0 sec  \n",
       "                     2nd    0 min  5 sec  \n",
       "                     3rd    1 min  0 sec  \n",
       "                     4th    1 min  0 sec  \n",
       "                     5th    0 min 10 sec  \n",
       "                     6th    0 min 10 sec  \n",
       "                     7th    0 min 10 sec  \n",
       "                     8th    0 min 10 sec  \n",
       "                     9th    0 min 10 sec  \n",
       "                     10th              -  \n",
       "United Arab Emirates 1st    1 min  0 sec  \n",
       "                     2nd               -  \n",
       "                     3rd    0 min 30 sec  \n",
       "                     4th    1 min  1 sec  \n",
       "                     5th               -  \n",
       "                     6th    0 min 30 sec  \n",
       "                     7th    1 min  1 sec  \n",
       "                     8th    1 min  0 sec  \n",
       "                     9th    0 min 20 sec  \n",
       "                     10th              -  "
      ]
     },
     "execution_count": 12,
     "metadata": {},
     "output_type": "execute_result"
    }
   ],
   "source": [
    "# Show summary\n",
    "analyser.summary(countries=countries_show)"
   ]
  },
  {
   "cell_type": "markdown",
   "metadata": {},
   "source": [
    "## Compare the history of parameters\n",
    "Here, compare the history of parameter values if countries."
   ]
  },
  {
   "cell_type": "code",
   "execution_count": 13,
   "metadata": {
    "collapsed": false
   },
   "outputs": [
    {
     "data": {
      "text/html": [
       "<div>\n",
       "<style scoped>\n",
       "    .dataframe tbody tr th:only-of-type {\n",
       "        vertical-align: middle;\n",
       "    }\n",
       "\n",
       "    .dataframe tbody tr th {\n",
       "        vertical-align: top;\n",
       "    }\n",
       "\n",
       "    .dataframe thead th {\n",
       "        text-align: right;\n",
       "    }\n",
       "</style>\n",
       "<table border=\"1\" class=\"dataframe\">\n",
       "  <thead>\n",
       "    <tr style=\"text-align: right;\">\n",
       "      <th></th>\n",
       "      <th>Date</th>\n",
       "      <th>Country</th>\n",
       "      <th>theta</th>\n",
       "      <th>kappa</th>\n",
       "      <th>rho</th>\n",
       "      <th>sigma</th>\n",
       "      <th>alpha1 [-]</th>\n",
       "      <th>1/alpha2 [day]</th>\n",
       "      <th>1/beta [day]</th>\n",
       "      <th>1/gamma [day]</th>\n",
       "      <th>...</th>\n",
       "      <th>Cancel_events</th>\n",
       "      <th>Gatherings_restrictions</th>\n",
       "      <th>Transport_closing</th>\n",
       "      <th>Stay_home_restrictions</th>\n",
       "      <th>Internal_movement_restrictions</th>\n",
       "      <th>International_movement_restrictions</th>\n",
       "      <th>Information_campaigns</th>\n",
       "      <th>Testing_policy</th>\n",
       "      <th>Contact_tracing</th>\n",
       "      <th>Stringency_index</th>\n",
       "    </tr>\n",
       "  </thead>\n",
       "  <tbody>\n",
       "    <tr>\n",
       "      <th>0</th>\n",
       "      <td>2020-04-08</td>\n",
       "      <td>Czech Republic</td>\n",
       "      <td>0.0326737</td>\n",
       "      <td>0.000185273</td>\n",
       "      <td>0.00640796</td>\n",
       "      <td>0.00763196</td>\n",
       "      <td>0.033</td>\n",
       "      <td>1349</td>\n",
       "      <td>39</td>\n",
       "      <td>32</td>\n",
       "      <td>...</td>\n",
       "      <td>2</td>\n",
       "      <td>4</td>\n",
       "      <td>0</td>\n",
       "      <td>2</td>\n",
       "      <td>0</td>\n",
       "      <td>4</td>\n",
       "      <td>2</td>\n",
       "      <td>2</td>\n",
       "      <td>2</td>\n",
       "      <td>74.07</td>\n",
       "    </tr>\n",
       "    <tr>\n",
       "      <th>1</th>\n",
       "      <td>2020-04-08</td>\n",
       "      <td>Czech Republic</td>\n",
       "      <td>0.0326737</td>\n",
       "      <td>0.000185273</td>\n",
       "      <td>0.00640796</td>\n",
       "      <td>0.00763196</td>\n",
       "      <td>0.033</td>\n",
       "      <td>1349</td>\n",
       "      <td>39</td>\n",
       "      <td>32</td>\n",
       "      <td>...</td>\n",
       "      <td>2</td>\n",
       "      <td>4</td>\n",
       "      <td>0</td>\n",
       "      <td>2</td>\n",
       "      <td>0</td>\n",
       "      <td>4</td>\n",
       "      <td>2</td>\n",
       "      <td>2</td>\n",
       "      <td>2</td>\n",
       "      <td>74.07</td>\n",
       "    </tr>\n",
       "    <tr>\n",
       "      <th>2</th>\n",
       "      <td>2020-04-08</td>\n",
       "      <td>Czech Republic</td>\n",
       "      <td>0.0326737</td>\n",
       "      <td>0.000185273</td>\n",
       "      <td>0.00640796</td>\n",
       "      <td>0.00763196</td>\n",
       "      <td>0.033</td>\n",
       "      <td>1349</td>\n",
       "      <td>39</td>\n",
       "      <td>32</td>\n",
       "      <td>...</td>\n",
       "      <td>2</td>\n",
       "      <td>4</td>\n",
       "      <td>0</td>\n",
       "      <td>2</td>\n",
       "      <td>0</td>\n",
       "      <td>4</td>\n",
       "      <td>2</td>\n",
       "      <td>2</td>\n",
       "      <td>2</td>\n",
       "      <td>74.07</td>\n",
       "    </tr>\n",
       "    <tr>\n",
       "      <th>3</th>\n",
       "      <td>2020-04-08</td>\n",
       "      <td>Czech Republic</td>\n",
       "      <td>0.0326737</td>\n",
       "      <td>0.000185273</td>\n",
       "      <td>0.00640796</td>\n",
       "      <td>0.00763196</td>\n",
       "      <td>0.033</td>\n",
       "      <td>1349</td>\n",
       "      <td>39</td>\n",
       "      <td>32</td>\n",
       "      <td>...</td>\n",
       "      <td>2</td>\n",
       "      <td>4</td>\n",
       "      <td>0</td>\n",
       "      <td>2</td>\n",
       "      <td>0</td>\n",
       "      <td>4</td>\n",
       "      <td>2</td>\n",
       "      <td>2</td>\n",
       "      <td>2</td>\n",
       "      <td>74.07</td>\n",
       "    </tr>\n",
       "    <tr>\n",
       "      <th>4</th>\n",
       "      <td>2020-04-08</td>\n",
       "      <td>Czech Republic</td>\n",
       "      <td>0.0326737</td>\n",
       "      <td>0.000185273</td>\n",
       "      <td>0.00640796</td>\n",
       "      <td>0.00763196</td>\n",
       "      <td>0.033</td>\n",
       "      <td>1349</td>\n",
       "      <td>39</td>\n",
       "      <td>32</td>\n",
       "      <td>...</td>\n",
       "      <td>2</td>\n",
       "      <td>4</td>\n",
       "      <td>0</td>\n",
       "      <td>2</td>\n",
       "      <td>0</td>\n",
       "      <td>4</td>\n",
       "      <td>2</td>\n",
       "      <td>2</td>\n",
       "      <td>2</td>\n",
       "      <td>74.07</td>\n",
       "    </tr>\n",
       "  </tbody>\n",
       "</table>\n",
       "<p>5 rows × 23 columns</p>\n",
       "</div>"
      ],
      "text/plain": [
       "        Date         Country      theta        kappa         rho       sigma  \\\n",
       "0 2020-04-08  Czech Republic  0.0326737  0.000185273  0.00640796  0.00763196   \n",
       "1 2020-04-08  Czech Republic  0.0326737  0.000185273  0.00640796  0.00763196   \n",
       "2 2020-04-08  Czech Republic  0.0326737  0.000185273  0.00640796  0.00763196   \n",
       "3 2020-04-08  Czech Republic  0.0326737  0.000185273  0.00640796  0.00763196   \n",
       "4 2020-04-08  Czech Republic  0.0326737  0.000185273  0.00640796  0.00763196   \n",
       "\n",
       "  alpha1 [-] 1/alpha2 [day] 1/beta [day] 1/gamma [day]  ... Cancel_events  \\\n",
       "0      0.033           1349           39            32  ...             2   \n",
       "1      0.033           1349           39            32  ...             2   \n",
       "2      0.033           1349           39            32  ...             2   \n",
       "3      0.033           1349           39            32  ...             2   \n",
       "4      0.033           1349           39            32  ...             2   \n",
       "\n",
       "   Gatherings_restrictions  Transport_closing  Stay_home_restrictions  \\\n",
       "0                        4                  0                       2   \n",
       "1                        4                  0                       2   \n",
       "2                        4                  0                       2   \n",
       "3                        4                  0                       2   \n",
       "4                        4                  0                       2   \n",
       "\n",
       "   Internal_movement_restrictions  International_movement_restrictions  \\\n",
       "0                               0                                    4   \n",
       "1                               0                                    4   \n",
       "2                               0                                    4   \n",
       "3                               0                                    4   \n",
       "4                               0                                    4   \n",
       "\n",
       "   Information_campaigns  Testing_policy  Contact_tracing  Stringency_index  \n",
       "0                      2               2                2             74.07  \n",
       "1                      2               2                2             74.07  \n",
       "2                      2               2                2             74.07  \n",
       "3                      2               2                2             74.07  \n",
       "4                      2               2                2             74.07  \n",
       "\n",
       "[5 rows x 23 columns]"
      ]
     },
     "execution_count": 13,
     "metadata": {},
     "output_type": "execute_result"
    }
   ],
   "source": [
    "# All parameter/day parameter/Rt/OxCGRT\n",
    "analyser.track().head()"
   ]
  },
  {
   "cell_type": "markdown",
   "metadata": {},
   "source": [
    "### $Rt$: Reprodcution number $\\mathrm{[-]}$"
   ]
  },
  {
   "cell_type": "code",
   "execution_count": 14,
   "metadata": {
    "collapsed": false
   },
   "outputs": [
    {
     "data": {
      "image/png": "[encoded data removed]",
      "text/plain": [
       "<Figure size 648x432 with 1 Axes>"
      ]
     },
     "metadata": {},
     "output_type": "display_data"
    },
    {
     "data": {
      "text/html": [
       "<div>\n",
       "<style scoped>\n",
       "    .dataframe tbody tr th:only-of-type {\n",
       "        vertical-align: middle;\n",
       "    }\n",
       "\n",
       "    .dataframe tbody tr th {\n",
       "        vertical-align: top;\n",
       "    }\n",
       "\n",
       "    .dataframe thead th {\n",
       "        text-align: right;\n",
       "    }\n",
       "</style>\n",
       "<table border=\"1\" class=\"dataframe\">\n",
       "  <thead>\n",
       "    <tr style=\"text-align: right;\">\n",
       "      <th>Country</th>\n",
       "      <th>Bahrain</th>\n",
       "      <th>Brazil</th>\n",
       "      <th>Burkina Faso</th>\n",
       "      <th>Czech Republic</th>\n",
       "      <th>France</th>\n",
       "      <th>Guinea</th>\n",
       "      <th>Honduras</th>\n",
       "      <th>Hungary</th>\n",
       "      <th>Iran</th>\n",
       "      <th>Italy</th>\n",
       "      <th>...</th>\n",
       "      <th>Myanmar</th>\n",
       "      <th>Poland</th>\n",
       "      <th>Portugal</th>\n",
       "      <th>Romania</th>\n",
       "      <th>Russia</th>\n",
       "      <th>Senegal</th>\n",
       "      <th>Turkey</th>\n",
       "      <th>Ukraine</th>\n",
       "      <th>United Arab Emirates</th>\n",
       "      <th>United States</th>\n",
       "    </tr>\n",
       "    <tr>\n",
       "      <th>Date</th>\n",
       "      <th></th>\n",
       "      <th></th>\n",
       "      <th></th>\n",
       "      <th></th>\n",
       "      <th></th>\n",
       "      <th></th>\n",
       "      <th></th>\n",
       "      <th></th>\n",
       "      <th></th>\n",
       "      <th></th>\n",
       "      <th></th>\n",
       "      <th></th>\n",
       "      <th></th>\n",
       "      <th></th>\n",
       "      <th></th>\n",
       "      <th></th>\n",
       "      <th></th>\n",
       "      <th></th>\n",
       "      <th></th>\n",
       "      <th></th>\n",
       "      <th></th>\n",
       "    </tr>\n",
       "  </thead>\n",
       "  <tbody>\n",
       "    <tr>\n",
       "      <th>2020-08-27</th>\n",
       "      <td>1.27</td>\n",
       "      <td>0.98</td>\n",
       "      <td>3.21</td>\n",
       "      <td>2.06</td>\n",
       "      <td>16.67</td>\n",
       "      <td>0.76</td>\n",
       "      <td>3.16</td>\n",
       "      <td>1.49</td>\n",
       "      <td>1.04</td>\n",
       "      <td>2.14</td>\n",
       "      <td>...</td>\n",
       "      <td>19.41</td>\n",
       "      <td>1.32</td>\n",
       "      <td>1.51</td>\n",
       "      <td>4.4</td>\n",
       "      <td>0.87</td>\n",
       "      <td>1.75</td>\n",
       "      <td>1.09</td>\n",
       "      <td>2.84</td>\n",
       "      <td>0.88</td>\n",
       "      <td>2.21</td>\n",
       "    </tr>\n",
       "    <tr>\n",
       "      <th>2020-08-28</th>\n",
       "      <td>1.27</td>\n",
       "      <td>0.98</td>\n",
       "      <td>3.21</td>\n",
       "      <td>2.06</td>\n",
       "      <td>16.67</td>\n",
       "      <td>0.76</td>\n",
       "      <td>3.16</td>\n",
       "      <td>1.49</td>\n",
       "      <td>1.04</td>\n",
       "      <td>2.14</td>\n",
       "      <td>...</td>\n",
       "      <td>19.41</td>\n",
       "      <td>1.32</td>\n",
       "      <td>1.51</td>\n",
       "      <td>4.4</td>\n",
       "      <td>0.87</td>\n",
       "      <td>1.75</td>\n",
       "      <td>1.09</td>\n",
       "      <td>2.84</td>\n",
       "      <td>0.88</td>\n",
       "      <td>2.21</td>\n",
       "    </tr>\n",
       "    <tr>\n",
       "      <th>2020-08-29</th>\n",
       "      <td>1.27</td>\n",
       "      <td>0.98</td>\n",
       "      <td>3.21</td>\n",
       "      <td>2.06</td>\n",
       "      <td>16.67</td>\n",
       "      <td>0.76</td>\n",
       "      <td>3.16</td>\n",
       "      <td>1.49</td>\n",
       "      <td>1.04</td>\n",
       "      <td>2.14</td>\n",
       "      <td>...</td>\n",
       "      <td>19.41</td>\n",
       "      <td>1.32</td>\n",
       "      <td>1.51</td>\n",
       "      <td>4.4</td>\n",
       "      <td>0.87</td>\n",
       "      <td>1.75</td>\n",
       "      <td>1.09</td>\n",
       "      <td>2.84</td>\n",
       "      <td>0.88</td>\n",
       "      <td>2.21</td>\n",
       "    </tr>\n",
       "    <tr>\n",
       "      <th>2020-08-30</th>\n",
       "      <td>1.27</td>\n",
       "      <td>0.98</td>\n",
       "      <td>3.21</td>\n",
       "      <td>2.06</td>\n",
       "      <td>16.67</td>\n",
       "      <td>0.76</td>\n",
       "      <td>3.16</td>\n",
       "      <td>1.49</td>\n",
       "      <td>1.04</td>\n",
       "      <td>2.14</td>\n",
       "      <td>...</td>\n",
       "      <td>19.41</td>\n",
       "      <td>1.32</td>\n",
       "      <td>1.51</td>\n",
       "      <td>4.4</td>\n",
       "      <td>0.87</td>\n",
       "      <td>1.75</td>\n",
       "      <td>1.09</td>\n",
       "      <td>2.84</td>\n",
       "      <td>0.88</td>\n",
       "      <td>2.21</td>\n",
       "    </tr>\n",
       "    <tr>\n",
       "      <th>2020-08-31</th>\n",
       "      <td>1.27</td>\n",
       "      <td>0.98</td>\n",
       "      <td>3.21</td>\n",
       "      <td>2.06</td>\n",
       "      <td>16.67</td>\n",
       "      <td>0.76</td>\n",
       "      <td>3.16</td>\n",
       "      <td>1.49</td>\n",
       "      <td>1.04</td>\n",
       "      <td>2.14</td>\n",
       "      <td>...</td>\n",
       "      <td>19.41</td>\n",
       "      <td>1.32</td>\n",
       "      <td>1.51</td>\n",
       "      <td>4.4</td>\n",
       "      <td>0.87</td>\n",
       "      <td>1.75</td>\n",
       "      <td>1.09</td>\n",
       "      <td>2.84</td>\n",
       "      <td>0.88</td>\n",
       "      <td>2.21</td>\n",
       "    </tr>\n",
       "  </tbody>\n",
       "</table>\n",
       "<p>5 rows × 23 columns</p>\n",
       "</div>"
      ],
      "text/plain": [
       "Country     Bahrain  Brazil  Burkina Faso  Czech Republic  France  Guinea  \\\n",
       "Date                                                                        \n",
       "2020-08-27     1.27    0.98          3.21            2.06   16.67    0.76   \n",
       "2020-08-28     1.27    0.98          3.21            2.06   16.67    0.76   \n",
       "2020-08-29     1.27    0.98          3.21            2.06   16.67    0.76   \n",
       "2020-08-30     1.27    0.98          3.21            2.06   16.67    0.76   \n",
       "2020-08-31     1.27    0.98          3.21            2.06   16.67    0.76   \n",
       "\n",
       "Country     Honduras  Hungary  Iran  Italy  ...  Myanmar  Poland  Portugal  \\\n",
       "Date                                        ...                              \n",
       "2020-08-27      3.16     1.49  1.04   2.14  ...    19.41    1.32      1.51   \n",
       "2020-08-28      3.16     1.49  1.04   2.14  ...    19.41    1.32      1.51   \n",
       "2020-08-29      3.16     1.49  1.04   2.14  ...    19.41    1.32      1.51   \n",
       "2020-08-30      3.16     1.49  1.04   2.14  ...    19.41    1.32      1.51   \n",
       "2020-08-31      3.16     1.49  1.04   2.14  ...    19.41    1.32      1.51   \n",
       "\n",
       "Country     Romania  Russia  Senegal  Turkey  Ukraine  United Arab Emirates  \\\n",
       "Date                                                                          \n",
       "2020-08-27      4.4    0.87     1.75    1.09     2.84                  0.88   \n",
       "2020-08-28      4.4    0.87     1.75    1.09     2.84                  0.88   \n",
       "2020-08-29      4.4    0.87     1.75    1.09     2.84                  0.88   \n",
       "2020-08-30      4.4    0.87     1.75    1.09     2.84                  0.88   \n",
       "2020-08-31      4.4    0.87     1.75    1.09     2.84                  0.88   \n",
       "\n",
       "Country     United States  \n",
       "Date                       \n",
       "2020-08-27           2.21  \n",
       "2020-08-28           2.21  \n",
       "2020-08-29           2.21  \n",
       "2020-08-30           2.21  \n",
       "2020-08-31           2.21  \n",
       "\n",
       "[5 rows x 23 columns]"
      ]
     },
     "execution_count": 14,
     "metadata": {},
     "output_type": "execute_result"
    }
   ],
   "source": [
    "analyser.param_history(\"Rt\", roll_window=None).tail()"
   ]
  },
  {
   "cell_type": "markdown",
   "metadata": {},
   "source": [
    "### $\\rho$: Effective contact rate $\\mathrm{[-]}$"
   ]
  },
  {
   "cell_type": "code",
   "execution_count": 15,
   "metadata": {
    "collapsed": false
   },
   "outputs": [
    {
     "data": {
      "image/png": "[encoded data removed]",
      "text/plain": [
       "<Figure size 648x432 with 1 Axes>"
      ]
     },
     "metadata": {},
     "output_type": "display_data"
    },
    {
     "data": {
      "text/html": [
       "<div>\n",
       "<style scoped>\n",
       "    .dataframe tbody tr th:only-of-type {\n",
       "        vertical-align: middle;\n",
       "    }\n",
       "\n",
       "    .dataframe tbody tr th {\n",
       "        vertical-align: top;\n",
       "    }\n",
       "\n",
       "    .dataframe thead th {\n",
       "        text-align: right;\n",
       "    }\n",
       "</style>\n",
       "<table border=\"1\" class=\"dataframe\">\n",
       "  <thead>\n",
       "    <tr style=\"text-align: right;\">\n",
       "      <th>Country</th>\n",
       "      <th>Bahrain</th>\n",
       "      <th>Brazil</th>\n",
       "      <th>Burkina Faso</th>\n",
       "      <th>Czech Republic</th>\n",
       "      <th>France</th>\n",
       "      <th>Guinea</th>\n",
       "      <th>Honduras</th>\n",
       "      <th>Hungary</th>\n",
       "      <th>Iran</th>\n",
       "      <th>Italy</th>\n",
       "      <th>...</th>\n",
       "      <th>Myanmar</th>\n",
       "      <th>Poland</th>\n",
       "      <th>Portugal</th>\n",
       "      <th>Romania</th>\n",
       "      <th>Russia</th>\n",
       "      <th>Senegal</th>\n",
       "      <th>Turkey</th>\n",
       "      <th>Ukraine</th>\n",
       "      <th>United Arab Emirates</th>\n",
       "      <th>United States</th>\n",
       "    </tr>\n",
       "    <tr>\n",
       "      <th>Date</th>\n",
       "      <th></th>\n",
       "      <th></th>\n",
       "      <th></th>\n",
       "      <th></th>\n",
       "      <th></th>\n",
       "      <th></th>\n",
       "      <th></th>\n",
       "      <th></th>\n",
       "      <th></th>\n",
       "      <th></th>\n",
       "      <th></th>\n",
       "      <th></th>\n",
       "      <th></th>\n",
       "      <th></th>\n",
       "      <th></th>\n",
       "      <th></th>\n",
       "      <th></th>\n",
       "      <th></th>\n",
       "      <th></th>\n",
       "      <th></th>\n",
       "      <th></th>\n",
       "    </tr>\n",
       "  </thead>\n",
       "  <tbody>\n",
       "    <tr>\n",
       "      <th>2020-08-27</th>\n",
       "      <td>0.030544</td>\n",
       "      <td>0.01783</td>\n",
       "      <td>0.006586</td>\n",
       "      <td>0.011545</td>\n",
       "      <td>0.006302</td>\n",
       "      <td>0.011598</td>\n",
       "      <td>0.003621</td>\n",
       "      <td>0.006831</td>\n",
       "      <td>0.026112</td>\n",
       "      <td>0.007846</td>\n",
       "      <td>...</td>\n",
       "      <td>0.04646</td>\n",
       "      <td>0.01017</td>\n",
       "      <td>0.004738</td>\n",
       "      <td>0.016316</td>\n",
       "      <td>0.001289</td>\n",
       "      <td>0.007758</td>\n",
       "      <td>0.026356</td>\n",
       "      <td>0.010132</td>\n",
       "      <td>0.011222</td>\n",
       "      <td>0.003068</td>\n",
       "    </tr>\n",
       "    <tr>\n",
       "      <th>2020-08-28</th>\n",
       "      <td>0.030544</td>\n",
       "      <td>0.01783</td>\n",
       "      <td>0.006586</td>\n",
       "      <td>0.011545</td>\n",
       "      <td>0.006302</td>\n",
       "      <td>0.011598</td>\n",
       "      <td>0.003621</td>\n",
       "      <td>0.006831</td>\n",
       "      <td>0.026112</td>\n",
       "      <td>0.007846</td>\n",
       "      <td>...</td>\n",
       "      <td>0.04646</td>\n",
       "      <td>0.01017</td>\n",
       "      <td>0.004738</td>\n",
       "      <td>0.016316</td>\n",
       "      <td>0.001289</td>\n",
       "      <td>0.007758</td>\n",
       "      <td>0.026356</td>\n",
       "      <td>0.010132</td>\n",
       "      <td>0.011222</td>\n",
       "      <td>0.003068</td>\n",
       "    </tr>\n",
       "    <tr>\n",
       "      <th>2020-08-29</th>\n",
       "      <td>0.030544</td>\n",
       "      <td>0.01783</td>\n",
       "      <td>0.006586</td>\n",
       "      <td>0.011545</td>\n",
       "      <td>0.006302</td>\n",
       "      <td>0.011598</td>\n",
       "      <td>0.003621</td>\n",
       "      <td>0.006831</td>\n",
       "      <td>0.026112</td>\n",
       "      <td>0.007846</td>\n",
       "      <td>...</td>\n",
       "      <td>0.04646</td>\n",
       "      <td>0.01017</td>\n",
       "      <td>0.004738</td>\n",
       "      <td>0.016316</td>\n",
       "      <td>0.001289</td>\n",
       "      <td>0.007758</td>\n",
       "      <td>0.026356</td>\n",
       "      <td>0.010132</td>\n",
       "      <td>0.011222</td>\n",
       "      <td>0.003068</td>\n",
       "    </tr>\n",
       "    <tr>\n",
       "      <th>2020-08-30</th>\n",
       "      <td>0.030544</td>\n",
       "      <td>0.01783</td>\n",
       "      <td>0.006586</td>\n",
       "      <td>0.011545</td>\n",
       "      <td>0.006302</td>\n",
       "      <td>0.011598</td>\n",
       "      <td>0.003621</td>\n",
       "      <td>0.006831</td>\n",
       "      <td>0.026112</td>\n",
       "      <td>0.007846</td>\n",
       "      <td>...</td>\n",
       "      <td>0.04646</td>\n",
       "      <td>0.01017</td>\n",
       "      <td>0.004738</td>\n",
       "      <td>0.016316</td>\n",
       "      <td>0.001289</td>\n",
       "      <td>0.007758</td>\n",
       "      <td>0.026356</td>\n",
       "      <td>0.010132</td>\n",
       "      <td>0.011222</td>\n",
       "      <td>0.003068</td>\n",
       "    </tr>\n",
       "    <tr>\n",
       "      <th>2020-08-31</th>\n",
       "      <td>0.030544</td>\n",
       "      <td>0.01783</td>\n",
       "      <td>0.006586</td>\n",
       "      <td>0.011545</td>\n",
       "      <td>0.006302</td>\n",
       "      <td>0.011598</td>\n",
       "      <td>0.003621</td>\n",
       "      <td>0.006831</td>\n",
       "      <td>0.026112</td>\n",
       "      <td>0.007846</td>\n",
       "      <td>...</td>\n",
       "      <td>0.04646</td>\n",
       "      <td>0.01017</td>\n",
       "      <td>0.004738</td>\n",
       "      <td>0.016316</td>\n",
       "      <td>0.001289</td>\n",
       "      <td>0.007758</td>\n",
       "      <td>0.026356</td>\n",
       "      <td>0.010132</td>\n",
       "      <td>0.011222</td>\n",
       "      <td>0.003068</td>\n",
       "    </tr>\n",
       "  </tbody>\n",
       "</table>\n",
       "<p>5 rows × 23 columns</p>\n",
       "</div>"
      ],
      "text/plain": [
       "Country      Bahrain   Brazil  Burkina Faso  Czech Republic    France  \\\n",
       "Date                                                                    \n",
       "2020-08-27  0.030544  0.01783      0.006586        0.011545  0.006302   \n",
       "2020-08-28  0.030544  0.01783      0.006586        0.011545  0.006302   \n",
       "2020-08-29  0.030544  0.01783      0.006586        0.011545  0.006302   \n",
       "2020-08-30  0.030544  0.01783      0.006586        0.011545  0.006302   \n",
       "2020-08-31  0.030544  0.01783      0.006586        0.011545  0.006302   \n",
       "\n",
       "Country       Guinea  Honduras   Hungary      Iran     Italy  ...  Myanmar  \\\n",
       "Date                                                          ...            \n",
       "2020-08-27  0.011598  0.003621  0.006831  0.026112  0.007846  ...  0.04646   \n",
       "2020-08-28  0.011598  0.003621  0.006831  0.026112  0.007846  ...  0.04646   \n",
       "2020-08-29  0.011598  0.003621  0.006831  0.026112  0.007846  ...  0.04646   \n",
       "2020-08-30  0.011598  0.003621  0.006831  0.026112  0.007846  ...  0.04646   \n",
       "2020-08-31  0.011598  0.003621  0.006831  0.026112  0.007846  ...  0.04646   \n",
       "\n",
       "Country      Poland  Portugal   Romania    Russia   Senegal    Turkey  \\\n",
       "Date                                                                    \n",
       "2020-08-27  0.01017  0.004738  0.016316  0.001289  0.007758  0.026356   \n",
       "2020-08-28  0.01017  0.004738  0.016316  0.001289  0.007758  0.026356   \n",
       "2020-08-29  0.01017  0.004738  0.016316  0.001289  0.007758  0.026356   \n",
       "2020-08-30  0.01017  0.004738  0.016316  0.001289  0.007758  0.026356   \n",
       "2020-08-31  0.01017  0.004738  0.016316  0.001289  0.007758  0.026356   \n",
       "\n",
       "Country      Ukraine  United Arab Emirates  United States  \n",
       "Date                                                       \n",
       "2020-08-27  0.010132              0.011222       0.003068  \n",
       "2020-08-28  0.010132              0.011222       0.003068  \n",
       "2020-08-29  0.010132              0.011222       0.003068  \n",
       "2020-08-30  0.010132              0.011222       0.003068  \n",
       "2020-08-31  0.010132              0.011222       0.003068  \n",
       "\n",
       "[5 rows x 23 columns]"
      ]
     },
     "execution_count": 15,
     "metadata": {},
     "output_type": "execute_result"
    }
   ],
   "source": [
    "analyser.param_history(\"rho\", roll_window=None).tail()"
   ]
  },
  {
   "cell_type": "markdown",
   "metadata": {},
   "source": [
    "### $\\sigma$: Recovery rate $\\mathrm{[-]}$"
   ]
  },
  {
   "cell_type": "code",
   "execution_count": 16,
   "metadata": {
    "collapsed": false
   },
   "outputs": [
    {
     "data": {
      "image/png": "[encoded data removed]",
      "text/plain": [
       "<Figure size 648x432 with 1 Axes>"
      ]
     },
     "metadata": {},
     "output_type": "display_data"
    },
    {
     "data": {
      "text/html": [
       "<div>\n",
       "<style scoped>\n",
       "    .dataframe tbody tr th:only-of-type {\n",
       "        vertical-align: middle;\n",
       "    }\n",
       "\n",
       "    .dataframe tbody tr th {\n",
       "        vertical-align: top;\n",
       "    }\n",
       "\n",
       "    .dataframe thead th {\n",
       "        text-align: right;\n",
       "    }\n",
       "</style>\n",
       "<table border=\"1\" class=\"dataframe\">\n",
       "  <thead>\n",
       "    <tr style=\"text-align: right;\">\n",
       "      <th>Country</th>\n",
       "      <th>Bahrain</th>\n",
       "      <th>Brazil</th>\n",
       "      <th>Burkina Faso</th>\n",
       "      <th>Czech Republic</th>\n",
       "      <th>France</th>\n",
       "      <th>Guinea</th>\n",
       "      <th>Honduras</th>\n",
       "      <th>Hungary</th>\n",
       "      <th>Iran</th>\n",
       "      <th>Italy</th>\n",
       "      <th>...</th>\n",
       "      <th>Myanmar</th>\n",
       "      <th>Poland</th>\n",
       "      <th>Portugal</th>\n",
       "      <th>Romania</th>\n",
       "      <th>Russia</th>\n",
       "      <th>Senegal</th>\n",
       "      <th>Turkey</th>\n",
       "      <th>Ukraine</th>\n",
       "      <th>United Arab Emirates</th>\n",
       "      <th>United States</th>\n",
       "    </tr>\n",
       "    <tr>\n",
       "      <th>Date</th>\n",
       "      <th></th>\n",
       "      <th></th>\n",
       "      <th></th>\n",
       "      <th></th>\n",
       "      <th></th>\n",
       "      <th></th>\n",
       "      <th></th>\n",
       "      <th></th>\n",
       "      <th></th>\n",
       "      <th></th>\n",
       "      <th></th>\n",
       "      <th></th>\n",
       "      <th></th>\n",
       "      <th></th>\n",
       "      <th></th>\n",
       "      <th></th>\n",
       "      <th></th>\n",
       "      <th></th>\n",
       "      <th></th>\n",
       "      <th></th>\n",
       "      <th></th>\n",
       "    </tr>\n",
       "  </thead>\n",
       "  <tbody>\n",
       "    <tr>\n",
       "      <th>2020-08-27</th>\n",
       "      <td>0.024</td>\n",
       "      <td>0.017718</td>\n",
       "      <td>0.001898</td>\n",
       "      <td>0.005492</td>\n",
       "      <td>0.000354</td>\n",
       "      <td>0.015042</td>\n",
       "      <td>0.000999</td>\n",
       "      <td>0.004513</td>\n",
       "      <td>0.023344</td>\n",
       "      <td>0.003588</td>\n",
       "      <td>...</td>\n",
       "      <td>0.002354</td>\n",
       "      <td>0.007515</td>\n",
       "      <td>0.003105</td>\n",
       "      <td>0.003259</td>\n",
       "      <td>0.001423</td>\n",
       "      <td>0.004297</td>\n",
       "      <td>0.023689</td>\n",
       "      <td>0.003412</td>\n",
       "      <td>0.012729</td>\n",
       "      <td>0.001344</td>\n",
       "    </tr>\n",
       "    <tr>\n",
       "      <th>2020-08-28</th>\n",
       "      <td>0.024</td>\n",
       "      <td>0.017718</td>\n",
       "      <td>0.001898</td>\n",
       "      <td>0.005492</td>\n",
       "      <td>0.000354</td>\n",
       "      <td>0.015042</td>\n",
       "      <td>0.000999</td>\n",
       "      <td>0.004513</td>\n",
       "      <td>0.023344</td>\n",
       "      <td>0.003588</td>\n",
       "      <td>...</td>\n",
       "      <td>0.002354</td>\n",
       "      <td>0.007515</td>\n",
       "      <td>0.003105</td>\n",
       "      <td>0.003259</td>\n",
       "      <td>0.001423</td>\n",
       "      <td>0.004297</td>\n",
       "      <td>0.023689</td>\n",
       "      <td>0.003412</td>\n",
       "      <td>0.012729</td>\n",
       "      <td>0.001344</td>\n",
       "    </tr>\n",
       "    <tr>\n",
       "      <th>2020-08-29</th>\n",
       "      <td>0.024</td>\n",
       "      <td>0.017718</td>\n",
       "      <td>0.001898</td>\n",
       "      <td>0.005492</td>\n",
       "      <td>0.000354</td>\n",
       "      <td>0.015042</td>\n",
       "      <td>0.000999</td>\n",
       "      <td>0.004513</td>\n",
       "      <td>0.023344</td>\n",
       "      <td>0.003588</td>\n",
       "      <td>...</td>\n",
       "      <td>0.002354</td>\n",
       "      <td>0.007515</td>\n",
       "      <td>0.003105</td>\n",
       "      <td>0.003259</td>\n",
       "      <td>0.001423</td>\n",
       "      <td>0.004297</td>\n",
       "      <td>0.023689</td>\n",
       "      <td>0.003412</td>\n",
       "      <td>0.012729</td>\n",
       "      <td>0.001344</td>\n",
       "    </tr>\n",
       "    <tr>\n",
       "      <th>2020-08-30</th>\n",
       "      <td>0.024</td>\n",
       "      <td>0.017718</td>\n",
       "      <td>0.001898</td>\n",
       "      <td>0.005492</td>\n",
       "      <td>0.000354</td>\n",
       "      <td>0.015042</td>\n",
       "      <td>0.000999</td>\n",
       "      <td>0.004513</td>\n",
       "      <td>0.023344</td>\n",
       "      <td>0.003588</td>\n",
       "      <td>...</td>\n",
       "      <td>0.002354</td>\n",
       "      <td>0.007515</td>\n",
       "      <td>0.003105</td>\n",
       "      <td>0.003259</td>\n",
       "      <td>0.001423</td>\n",
       "      <td>0.004297</td>\n",
       "      <td>0.023689</td>\n",
       "      <td>0.003412</td>\n",
       "      <td>0.012729</td>\n",
       "      <td>0.001344</td>\n",
       "    </tr>\n",
       "    <tr>\n",
       "      <th>2020-08-31</th>\n",
       "      <td>0.024</td>\n",
       "      <td>0.017718</td>\n",
       "      <td>0.001898</td>\n",
       "      <td>0.005492</td>\n",
       "      <td>0.000354</td>\n",
       "      <td>0.015042</td>\n",
       "      <td>0.000999</td>\n",
       "      <td>0.004513</td>\n",
       "      <td>0.023344</td>\n",
       "      <td>0.003588</td>\n",
       "      <td>...</td>\n",
       "      <td>0.002354</td>\n",
       "      <td>0.007515</td>\n",
       "      <td>0.003105</td>\n",
       "      <td>0.003259</td>\n",
       "      <td>0.001423</td>\n",
       "      <td>0.004297</td>\n",
       "      <td>0.023689</td>\n",
       "      <td>0.003412</td>\n",
       "      <td>0.012729</td>\n",
       "      <td>0.001344</td>\n",
       "    </tr>\n",
       "  </tbody>\n",
       "</table>\n",
       "<p>5 rows × 23 columns</p>\n",
       "</div>"
      ],
      "text/plain": [
       "Country     Bahrain    Brazil  Burkina Faso  Czech Republic    France  \\\n",
       "Date                                                                    \n",
       "2020-08-27    0.024  0.017718      0.001898        0.005492  0.000354   \n",
       "2020-08-28    0.024  0.017718      0.001898        0.005492  0.000354   \n",
       "2020-08-29    0.024  0.017718      0.001898        0.005492  0.000354   \n",
       "2020-08-30    0.024  0.017718      0.001898        0.005492  0.000354   \n",
       "2020-08-31    0.024  0.017718      0.001898        0.005492  0.000354   \n",
       "\n",
       "Country       Guinea  Honduras   Hungary      Iran     Italy  ...   Myanmar  \\\n",
       "Date                                                          ...             \n",
       "2020-08-27  0.015042  0.000999  0.004513  0.023344  0.003588  ...  0.002354   \n",
       "2020-08-28  0.015042  0.000999  0.004513  0.023344  0.003588  ...  0.002354   \n",
       "2020-08-29  0.015042  0.000999  0.004513  0.023344  0.003588  ...  0.002354   \n",
       "2020-08-30  0.015042  0.000999  0.004513  0.023344  0.003588  ...  0.002354   \n",
       "2020-08-31  0.015042  0.000999  0.004513  0.023344  0.003588  ...  0.002354   \n",
       "\n",
       "Country       Poland  Portugal   Romania    Russia   Senegal    Turkey  \\\n",
       "Date                                                                     \n",
       "2020-08-27  0.007515  0.003105  0.003259  0.001423  0.004297  0.023689   \n",
       "2020-08-28  0.007515  0.003105  0.003259  0.001423  0.004297  0.023689   \n",
       "2020-08-29  0.007515  0.003105  0.003259  0.001423  0.004297  0.023689   \n",
       "2020-08-30  0.007515  0.003105  0.003259  0.001423  0.004297  0.023689   \n",
       "2020-08-31  0.007515  0.003105  0.003259  0.001423  0.004297  0.023689   \n",
       "\n",
       "Country      Ukraine  United Arab Emirates  United States  \n",
       "Date                                                       \n",
       "2020-08-27  0.003412              0.012729       0.001344  \n",
       "2020-08-28  0.003412              0.012729       0.001344  \n",
       "2020-08-29  0.003412              0.012729       0.001344  \n",
       "2020-08-30  0.003412              0.012729       0.001344  \n",
       "2020-08-31  0.003412              0.012729       0.001344  \n",
       "\n",
       "[5 rows x 23 columns]"
      ]
     },
     "execution_count": 16,
     "metadata": {},
     "output_type": "execute_result"
    }
   ],
   "source": [
    "analyser.param_history(\"sigma\", roll_window=None).tail()"
   ]
  },
  {
   "cell_type": "markdown",
   "metadata": {},
   "source": [
    "### $\\kappa$: Mortality rate of infected cases $\\mathrm{[-]}$"
   ]
  },
  {
   "cell_type": "code",
   "execution_count": 17,
   "metadata": {
    "collapsed": false
   },
   "outputs": [
    {
     "data": {
      "image/png": "[encoded data removed]",
      "text/plain": [
       "<Figure size 648x432 with 1 Axes>"
      ]
     },
     "metadata": {},
     "output_type": "display_data"
    },
    {
     "data": {
      "text/html": [
       "<div>\n",
       "<style scoped>\n",
       "    .dataframe tbody tr th:only-of-type {\n",
       "        vertical-align: middle;\n",
       "    }\n",
       "\n",
       "    .dataframe tbody tr th {\n",
       "        vertical-align: top;\n",
       "    }\n",
       "\n",
       "    .dataframe thead th {\n",
       "        text-align: right;\n",
       "    }\n",
       "</style>\n",
       "<table border=\"1\" class=\"dataframe\">\n",
       "  <thead>\n",
       "    <tr style=\"text-align: right;\">\n",
       "      <th>Country</th>\n",
       "      <th>Bahrain</th>\n",
       "      <th>Brazil</th>\n",
       "      <th>Burkina Faso</th>\n",
       "      <th>Czech Republic</th>\n",
       "      <th>France</th>\n",
       "      <th>Guinea</th>\n",
       "      <th>Honduras</th>\n",
       "      <th>Hungary</th>\n",
       "      <th>Iran</th>\n",
       "      <th>Italy</th>\n",
       "      <th>...</th>\n",
       "      <th>Myanmar</th>\n",
       "      <th>Poland</th>\n",
       "      <th>Portugal</th>\n",
       "      <th>Romania</th>\n",
       "      <th>Russia</th>\n",
       "      <th>Senegal</th>\n",
       "      <th>Turkey</th>\n",
       "      <th>Ukraine</th>\n",
       "      <th>United Arab Emirates</th>\n",
       "      <th>United States</th>\n",
       "    </tr>\n",
       "    <tr>\n",
       "      <th>Date</th>\n",
       "      <th></th>\n",
       "      <th></th>\n",
       "      <th></th>\n",
       "      <th></th>\n",
       "      <th></th>\n",
       "      <th></th>\n",
       "      <th></th>\n",
       "      <th></th>\n",
       "      <th></th>\n",
       "      <th></th>\n",
       "      <th></th>\n",
       "      <th></th>\n",
       "      <th></th>\n",
       "      <th></th>\n",
       "      <th></th>\n",
       "      <th></th>\n",
       "      <th></th>\n",
       "      <th></th>\n",
       "      <th></th>\n",
       "      <th></th>\n",
       "      <th></th>\n",
       "    </tr>\n",
       "  </thead>\n",
       "  <tbody>\n",
       "    <tr>\n",
       "      <th>2020-08-27</th>\n",
       "      <td>0.000096</td>\n",
       "      <td>0.000435</td>\n",
       "      <td>0.000152</td>\n",
       "      <td>0.000113</td>\n",
       "      <td>0.000024</td>\n",
       "      <td>0.000136</td>\n",
       "      <td>0.000144</td>\n",
       "      <td>0.000071</td>\n",
       "      <td>0.000879</td>\n",
       "      <td>0.00001</td>\n",
       "      <td>...</td>\n",
       "      <td>0.000037</td>\n",
       "      <td>0.000162</td>\n",
       "      <td>0.000037</td>\n",
       "      <td>0.000449</td>\n",
       "      <td>0.000001</td>\n",
       "      <td>0.000046</td>\n",
       "      <td>0.000326</td>\n",
       "      <td>0.000148</td>\n",
       "      <td>0.000037</td>\n",
       "      <td>0.000024</td>\n",
       "    </tr>\n",
       "    <tr>\n",
       "      <th>2020-08-28</th>\n",
       "      <td>0.000096</td>\n",
       "      <td>0.000435</td>\n",
       "      <td>0.000152</td>\n",
       "      <td>0.000113</td>\n",
       "      <td>0.000024</td>\n",
       "      <td>0.000136</td>\n",
       "      <td>0.000144</td>\n",
       "      <td>0.000071</td>\n",
       "      <td>0.000879</td>\n",
       "      <td>0.00001</td>\n",
       "      <td>...</td>\n",
       "      <td>0.000037</td>\n",
       "      <td>0.000162</td>\n",
       "      <td>0.000037</td>\n",
       "      <td>0.000449</td>\n",
       "      <td>0.000001</td>\n",
       "      <td>0.000046</td>\n",
       "      <td>0.000326</td>\n",
       "      <td>0.000148</td>\n",
       "      <td>0.000037</td>\n",
       "      <td>0.000024</td>\n",
       "    </tr>\n",
       "    <tr>\n",
       "      <th>2020-08-29</th>\n",
       "      <td>0.000096</td>\n",
       "      <td>0.000435</td>\n",
       "      <td>0.000152</td>\n",
       "      <td>0.000113</td>\n",
       "      <td>0.000024</td>\n",
       "      <td>0.000136</td>\n",
       "      <td>0.000144</td>\n",
       "      <td>0.000071</td>\n",
       "      <td>0.000879</td>\n",
       "      <td>0.00001</td>\n",
       "      <td>...</td>\n",
       "      <td>0.000037</td>\n",
       "      <td>0.000162</td>\n",
       "      <td>0.000037</td>\n",
       "      <td>0.000449</td>\n",
       "      <td>0.000001</td>\n",
       "      <td>0.000046</td>\n",
       "      <td>0.000326</td>\n",
       "      <td>0.000148</td>\n",
       "      <td>0.000037</td>\n",
       "      <td>0.000024</td>\n",
       "    </tr>\n",
       "    <tr>\n",
       "      <th>2020-08-30</th>\n",
       "      <td>0.000096</td>\n",
       "      <td>0.000435</td>\n",
       "      <td>0.000152</td>\n",
       "      <td>0.000113</td>\n",
       "      <td>0.000024</td>\n",
       "      <td>0.000136</td>\n",
       "      <td>0.000144</td>\n",
       "      <td>0.000071</td>\n",
       "      <td>0.000879</td>\n",
       "      <td>0.00001</td>\n",
       "      <td>...</td>\n",
       "      <td>0.000037</td>\n",
       "      <td>0.000162</td>\n",
       "      <td>0.000037</td>\n",
       "      <td>0.000449</td>\n",
       "      <td>0.000001</td>\n",
       "      <td>0.000046</td>\n",
       "      <td>0.000326</td>\n",
       "      <td>0.000148</td>\n",
       "      <td>0.000037</td>\n",
       "      <td>0.000024</td>\n",
       "    </tr>\n",
       "    <tr>\n",
       "      <th>2020-08-31</th>\n",
       "      <td>0.000096</td>\n",
       "      <td>0.000435</td>\n",
       "      <td>0.000152</td>\n",
       "      <td>0.000113</td>\n",
       "      <td>0.000024</td>\n",
       "      <td>0.000136</td>\n",
       "      <td>0.000144</td>\n",
       "      <td>0.000071</td>\n",
       "      <td>0.000879</td>\n",
       "      <td>0.00001</td>\n",
       "      <td>...</td>\n",
       "      <td>0.000037</td>\n",
       "      <td>0.000162</td>\n",
       "      <td>0.000037</td>\n",
       "      <td>0.000449</td>\n",
       "      <td>0.000001</td>\n",
       "      <td>0.000046</td>\n",
       "      <td>0.000326</td>\n",
       "      <td>0.000148</td>\n",
       "      <td>0.000037</td>\n",
       "      <td>0.000024</td>\n",
       "    </tr>\n",
       "  </tbody>\n",
       "</table>\n",
       "<p>5 rows × 23 columns</p>\n",
       "</div>"
      ],
      "text/plain": [
       "Country      Bahrain    Brazil  Burkina Faso  Czech Republic    France  \\\n",
       "Date                                                                     \n",
       "2020-08-27  0.000096  0.000435      0.000152        0.000113  0.000024   \n",
       "2020-08-28  0.000096  0.000435      0.000152        0.000113  0.000024   \n",
       "2020-08-29  0.000096  0.000435      0.000152        0.000113  0.000024   \n",
       "2020-08-30  0.000096  0.000435      0.000152        0.000113  0.000024   \n",
       "2020-08-31  0.000096  0.000435      0.000152        0.000113  0.000024   \n",
       "\n",
       "Country       Guinea  Honduras   Hungary      Iran    Italy  ...   Myanmar  \\\n",
       "Date                                                         ...             \n",
       "2020-08-27  0.000136  0.000144  0.000071  0.000879  0.00001  ...  0.000037   \n",
       "2020-08-28  0.000136  0.000144  0.000071  0.000879  0.00001  ...  0.000037   \n",
       "2020-08-29  0.000136  0.000144  0.000071  0.000879  0.00001  ...  0.000037   \n",
       "2020-08-30  0.000136  0.000144  0.000071  0.000879  0.00001  ...  0.000037   \n",
       "2020-08-31  0.000136  0.000144  0.000071  0.000879  0.00001  ...  0.000037   \n",
       "\n",
       "Country       Poland  Portugal   Romania    Russia   Senegal    Turkey  \\\n",
       "Date                                                                     \n",
       "2020-08-27  0.000162  0.000037  0.000449  0.000001  0.000046  0.000326   \n",
       "2020-08-28  0.000162  0.000037  0.000449  0.000001  0.000046  0.000326   \n",
       "2020-08-29  0.000162  0.000037  0.000449  0.000001  0.000046  0.000326   \n",
       "2020-08-30  0.000162  0.000037  0.000449  0.000001  0.000046  0.000326   \n",
       "2020-08-31  0.000162  0.000037  0.000449  0.000001  0.000046  0.000326   \n",
       "\n",
       "Country      Ukraine  United Arab Emirates  United States  \n",
       "Date                                                       \n",
       "2020-08-27  0.000148              0.000037       0.000024  \n",
       "2020-08-28  0.000148              0.000037       0.000024  \n",
       "2020-08-29  0.000148              0.000037       0.000024  \n",
       "2020-08-30  0.000148              0.000037       0.000024  \n",
       "2020-08-31  0.000148              0.000037       0.000024  \n",
       "\n",
       "[5 rows x 23 columns]"
      ]
     },
     "execution_count": 17,
     "metadata": {},
     "output_type": "execute_result"
    }
   ],
   "source": [
    "analyser.param_history(\"kappa\", roll_window=None).tail()"
   ]
  },
  {
   "cell_type": "markdown",
   "metadata": {},
   "source": [
    "### $\\theta$: Mortality rate of S$^\\ast$ cases $\\mathrm{[-]}$"
   ]
  },
  {
   "cell_type": "code",
   "execution_count": 18,
   "metadata": {
    "collapsed": false
   },
   "outputs": [
    {
     "data": {
      "image/png": "[encoded data removed]",
      "text/plain": [
       "<Figure size 648x432 with 1 Axes>"
      ]
     },
     "metadata": {},
     "output_type": "display_data"
    },
    {
     "data": {
      "text/html": [
       "<div>\n",
       "<style scoped>\n",
       "    .dataframe tbody tr th:only-of-type {\n",
       "        vertical-align: middle;\n",
       "    }\n",
       "\n",
       "    .dataframe tbody tr th {\n",
       "        vertical-align: top;\n",
       "    }\n",
       "\n",
       "    .dataframe thead th {\n",
       "        text-align: right;\n",
       "    }\n",
       "</style>\n",
       "<table border=\"1\" class=\"dataframe\">\n",
       "  <thead>\n",
       "    <tr style=\"text-align: right;\">\n",
       "      <th>Country</th>\n",
       "      <th>Bahrain</th>\n",
       "      <th>Brazil</th>\n",
       "      <th>Burkina Faso</th>\n",
       "      <th>Czech Republic</th>\n",
       "      <th>France</th>\n",
       "      <th>Guinea</th>\n",
       "      <th>Honduras</th>\n",
       "      <th>Hungary</th>\n",
       "      <th>Iran</th>\n",
       "      <th>Italy</th>\n",
       "      <th>...</th>\n",
       "      <th>Myanmar</th>\n",
       "      <th>Poland</th>\n",
       "      <th>Portugal</th>\n",
       "      <th>Romania</th>\n",
       "      <th>Russia</th>\n",
       "      <th>Senegal</th>\n",
       "      <th>Turkey</th>\n",
       "      <th>Ukraine</th>\n",
       "      <th>United Arab Emirates</th>\n",
       "      <th>United States</th>\n",
       "    </tr>\n",
       "    <tr>\n",
       "      <th>Date</th>\n",
       "      <th></th>\n",
       "      <th></th>\n",
       "      <th></th>\n",
       "      <th></th>\n",
       "      <th></th>\n",
       "      <th></th>\n",
       "      <th></th>\n",
       "      <th></th>\n",
       "      <th></th>\n",
       "      <th></th>\n",
       "      <th></th>\n",
       "      <th></th>\n",
       "      <th></th>\n",
       "      <th></th>\n",
       "      <th></th>\n",
       "      <th></th>\n",
       "      <th></th>\n",
       "      <th></th>\n",
       "      <th></th>\n",
       "      <th></th>\n",
       "      <th></th>\n",
       "    </tr>\n",
       "  </thead>\n",
       "  <tbody>\n",
       "    <tr>\n",
       "      <th>2020-08-27</th>\n",
       "      <td>0.000538</td>\n",
       "      <td>0.001394</td>\n",
       "      <td>0.000067</td>\n",
       "      <td>0.000231</td>\n",
       "      <td>0.001015</td>\n",
       "      <td>0.001294</td>\n",
       "      <td>0.001123</td>\n",
       "      <td>0.001461</td>\n",
       "      <td>0.037139</td>\n",
       "      <td>0.019041</td>\n",
       "      <td>...</td>\n",
       "      <td>0.000658</td>\n",
       "      <td>0.001163</td>\n",
       "      <td>0.001422</td>\n",
       "      <td>0.000233</td>\n",
       "      <td>0.036474</td>\n",
       "      <td>0.022224</td>\n",
       "      <td>0.00335</td>\n",
       "      <td>0.001376</td>\n",
       "      <td>0.00066</td>\n",
       "      <td>0.015907</td>\n",
       "    </tr>\n",
       "    <tr>\n",
       "      <th>2020-08-28</th>\n",
       "      <td>0.000538</td>\n",
       "      <td>0.001394</td>\n",
       "      <td>0.000067</td>\n",
       "      <td>0.000231</td>\n",
       "      <td>0.001015</td>\n",
       "      <td>0.001294</td>\n",
       "      <td>0.001123</td>\n",
       "      <td>0.001461</td>\n",
       "      <td>0.037139</td>\n",
       "      <td>0.019041</td>\n",
       "      <td>...</td>\n",
       "      <td>0.000658</td>\n",
       "      <td>0.001163</td>\n",
       "      <td>0.001422</td>\n",
       "      <td>0.000233</td>\n",
       "      <td>0.036474</td>\n",
       "      <td>0.022224</td>\n",
       "      <td>0.00335</td>\n",
       "      <td>0.001376</td>\n",
       "      <td>0.00066</td>\n",
       "      <td>0.015907</td>\n",
       "    </tr>\n",
       "    <tr>\n",
       "      <th>2020-08-29</th>\n",
       "      <td>0.000538</td>\n",
       "      <td>0.001394</td>\n",
       "      <td>0.000067</td>\n",
       "      <td>0.000231</td>\n",
       "      <td>0.001015</td>\n",
       "      <td>0.001294</td>\n",
       "      <td>0.001123</td>\n",
       "      <td>0.001461</td>\n",
       "      <td>0.037139</td>\n",
       "      <td>0.019041</td>\n",
       "      <td>...</td>\n",
       "      <td>0.000658</td>\n",
       "      <td>0.001163</td>\n",
       "      <td>0.001422</td>\n",
       "      <td>0.000233</td>\n",
       "      <td>0.036474</td>\n",
       "      <td>0.022224</td>\n",
       "      <td>0.00335</td>\n",
       "      <td>0.001376</td>\n",
       "      <td>0.00066</td>\n",
       "      <td>0.015907</td>\n",
       "    </tr>\n",
       "    <tr>\n",
       "      <th>2020-08-30</th>\n",
       "      <td>0.000538</td>\n",
       "      <td>0.001394</td>\n",
       "      <td>0.000067</td>\n",
       "      <td>0.000231</td>\n",
       "      <td>0.001015</td>\n",
       "      <td>0.001294</td>\n",
       "      <td>0.001123</td>\n",
       "      <td>0.001461</td>\n",
       "      <td>0.037139</td>\n",
       "      <td>0.019041</td>\n",
       "      <td>...</td>\n",
       "      <td>0.000658</td>\n",
       "      <td>0.001163</td>\n",
       "      <td>0.001422</td>\n",
       "      <td>0.000233</td>\n",
       "      <td>0.036474</td>\n",
       "      <td>0.022224</td>\n",
       "      <td>0.00335</td>\n",
       "      <td>0.001376</td>\n",
       "      <td>0.00066</td>\n",
       "      <td>0.015907</td>\n",
       "    </tr>\n",
       "    <tr>\n",
       "      <th>2020-08-31</th>\n",
       "      <td>0.000538</td>\n",
       "      <td>0.001394</td>\n",
       "      <td>0.000067</td>\n",
       "      <td>0.000231</td>\n",
       "      <td>0.001015</td>\n",
       "      <td>0.001294</td>\n",
       "      <td>0.001123</td>\n",
       "      <td>0.001461</td>\n",
       "      <td>0.037139</td>\n",
       "      <td>0.019041</td>\n",
       "      <td>...</td>\n",
       "      <td>0.000658</td>\n",
       "      <td>0.001163</td>\n",
       "      <td>0.001422</td>\n",
       "      <td>0.000233</td>\n",
       "      <td>0.036474</td>\n",
       "      <td>0.022224</td>\n",
       "      <td>0.00335</td>\n",
       "      <td>0.001376</td>\n",
       "      <td>0.00066</td>\n",
       "      <td>0.015907</td>\n",
       "    </tr>\n",
       "  </tbody>\n",
       "</table>\n",
       "<p>5 rows × 23 columns</p>\n",
       "</div>"
      ],
      "text/plain": [
       "Country      Bahrain    Brazil  Burkina Faso  Czech Republic    France  \\\n",
       "Date                                                                     \n",
       "2020-08-27  0.000538  0.001394      0.000067        0.000231  0.001015   \n",
       "2020-08-28  0.000538  0.001394      0.000067        0.000231  0.001015   \n",
       "2020-08-29  0.000538  0.001394      0.000067        0.000231  0.001015   \n",
       "2020-08-30  0.000538  0.001394      0.000067        0.000231  0.001015   \n",
       "2020-08-31  0.000538  0.001394      0.000067        0.000231  0.001015   \n",
       "\n",
       "Country       Guinea  Honduras   Hungary      Iran     Italy  ...   Myanmar  \\\n",
       "Date                                                          ...             \n",
       "2020-08-27  0.001294  0.001123  0.001461  0.037139  0.019041  ...  0.000658   \n",
       "2020-08-28  0.001294  0.001123  0.001461  0.037139  0.019041  ...  0.000658   \n",
       "2020-08-29  0.001294  0.001123  0.001461  0.037139  0.019041  ...  0.000658   \n",
       "2020-08-30  0.001294  0.001123  0.001461  0.037139  0.019041  ...  0.000658   \n",
       "2020-08-31  0.001294  0.001123  0.001461  0.037139  0.019041  ...  0.000658   \n",
       "\n",
       "Country       Poland  Portugal   Romania    Russia   Senegal   Turkey  \\\n",
       "Date                                                                    \n",
       "2020-08-27  0.001163  0.001422  0.000233  0.036474  0.022224  0.00335   \n",
       "2020-08-28  0.001163  0.001422  0.000233  0.036474  0.022224  0.00335   \n",
       "2020-08-29  0.001163  0.001422  0.000233  0.036474  0.022224  0.00335   \n",
       "2020-08-30  0.001163  0.001422  0.000233  0.036474  0.022224  0.00335   \n",
       "2020-08-31  0.001163  0.001422  0.000233  0.036474  0.022224  0.00335   \n",
       "\n",
       "Country      Ukraine  United Arab Emirates  United States  \n",
       "Date                                                       \n",
       "2020-08-27  0.001376               0.00066       0.015907  \n",
       "2020-08-28  0.001376               0.00066       0.015907  \n",
       "2020-08-29  0.001376               0.00066       0.015907  \n",
       "2020-08-30  0.001376               0.00066       0.015907  \n",
       "2020-08-31  0.001376               0.00066       0.015907  \n",
       "\n",
       "[5 rows x 23 columns]"
      ]
     },
     "execution_count": 18,
     "metadata": {},
     "output_type": "execute_result"
    }
   ],
   "source": [
    "analyser.param_history(\"theta\", roll_window=None).tail()"
   ]
  },
  {
   "cell_type": "markdown",
   "metadata": {},
   "source": [
    "## (Experimental): Relationship of OxCGRT index and parameter values\n",
    "Government responses will impact on parameter values of ODE models about 14 days later. Here, we will investigate on the relationship of [stringency index (from OxCGRT)](https://github.com/OxCGRT/covid-policy-tracker/blob/master/documentation/index_methodology.md) and reproduction number/model parameters.\n"
   ]
  },
  {
   "cell_type": "code",
   "execution_count": 19,
   "metadata": {
    "collapsed": false
   },
   "outputs": [],
   "source": [
    "%matplotlib inline\n",
    "from matplotlib import pyplot as plt\n",
    "import seaborn as sns\n",
    "import pandas as pd"
   ]
  },
  {
   "cell_type": "code",
   "execution_count": 20,
   "metadata": {
    "collapsed": false
   },
   "outputs": [
    {
     "name": "stdout",
     "output_type": "stream",
     "text": [
      "<class 'pandas.core.frame.DataFrame'>\n",
      "Int64Index: 29205 entries, 0 to 29512\n",
      "Data columns (total 19 columns):\n",
      " #   Column                               Non-Null Count  Dtype         \n",
      "---  ------                               --------------  -----         \n",
      " 0   Date                                 29205 non-null  datetime64[ns]\n",
      " 1   Country                              29205 non-null  object        \n",
      " 2   Rt                                   29205 non-null  float64       \n",
      " 3   theta                                29205 non-null  float64       \n",
      " 4   kappa                                29205 non-null  float64       \n",
      " 5   rho                                  29205 non-null  float64       \n",
      " 6   sigma                                29205 non-null  float64       \n",
      " 7   School_closing                       29205 non-null  int64         \n",
      " 8   Workplace_closing                    29205 non-null  int64         \n",
      " 9   Cancel_events                        29205 non-null  int64         \n",
      " 10  Gatherings_restrictions              29205 non-null  int64         \n",
      " 11  Transport_closing                    29205 non-null  int64         \n",
      " 12  Stay_home_restrictions               29205 non-null  int64         \n",
      " 13  Internal_movement_restrictions       29205 non-null  int64         \n",
      " 14  International_movement_restrictions  29205 non-null  int64         \n",
      " 15  Information_campaigns                29205 non-null  int64         \n",
      " 16  Testing_policy                       29205 non-null  int64         \n",
      " 17  Contact_tracing                      29205 non-null  int64         \n",
      " 18  Stringency_index                     29205 non-null  float64       \n",
      "dtypes: datetime64[ns](1), float64(6), int64(11), object(1)\n",
      "memory usage: 4.5+ MB\n"
     ]
    }
   ],
   "source": [
    "df = analyser.track()\n",
    "param_cols = [\"Rt\", *cs.SIRF.PARAMETERS]\n",
    "oxcgrt_cols = oxcgrt_data.OXCGRT_VARS[:]\n",
    "cols = param_cols + oxcgrt_cols\n",
    "delay = 14\n",
    "\n",
    "for col in param_cols:\n",
    "    df[col] = pd.to_numeric(df[col], errors=\"coerce\")\n",
    "    df[col] = df.groupby(\"Country\")[col].shift(0 - delay)\n",
    "\n",
    "df = df.dropna(how=\"any\")\n",
    "df = df.loc[:, [\"Date\", \"Country\", *cols]]\n",
    "track_df = df.copy()\n",
    "track_df.info()"
   ]
  },
  {
   "cell_type": "code",
   "execution_count": 21,
   "metadata": {
    "collapsed": false
   },
   "outputs": [
    {
     "data": {
      "text/html": [
       "<style  type=\"text/css\" >\n",
       "#T_66d16690_eb9e_11ea_b014_5254001ffb06row0_col0,#T_66d16690_eb9e_11ea_b014_5254001ffb06row1_col1,#T_66d16690_eb9e_11ea_b014_5254001ffb06row2_col2,#T_66d16690_eb9e_11ea_b014_5254001ffb06row3_col3,#T_66d16690_eb9e_11ea_b014_5254001ffb06row4_col4,#T_66d16690_eb9e_11ea_b014_5254001ffb06row5_col5,#T_66d16690_eb9e_11ea_b014_5254001ffb06row6_col6,#T_66d16690_eb9e_11ea_b014_5254001ffb06row7_col7,#T_66d16690_eb9e_11ea_b014_5254001ffb06row8_col8,#T_66d16690_eb9e_11ea_b014_5254001ffb06row9_col9,#T_66d16690_eb9e_11ea_b014_5254001ffb06row10_col10,#T_66d16690_eb9e_11ea_b014_5254001ffb06row11_col11,#T_66d16690_eb9e_11ea_b014_5254001ffb06row12_col12,#T_66d16690_eb9e_11ea_b014_5254001ffb06row13_col13,#T_66d16690_eb9e_11ea_b014_5254001ffb06row14_col14,#T_66d16690_eb9e_11ea_b014_5254001ffb06row15_col15,#T_66d16690_eb9e_11ea_b014_5254001ffb06row16_col16{\n",
       "            background-color:  #023858;\n",
       "            color:  #f1f1f1;\n",
       "        }#T_66d16690_eb9e_11ea_b014_5254001ffb06row0_col1,#T_66d16690_eb9e_11ea_b014_5254001ffb06row1_col0,#T_66d16690_eb9e_11ea_b014_5254001ffb06row3_col15,#T_66d16690_eb9e_11ea_b014_5254001ffb06row15_col3{\n",
       "            background-color:  #d7d6e9;\n",
       "            color:  #000000;\n",
       "        }#T_66d16690_eb9e_11ea_b014_5254001ffb06row0_col2,#T_66d16690_eb9e_11ea_b014_5254001ffb06row0_col11,#T_66d16690_eb9e_11ea_b014_5254001ffb06row2_col0,#T_66d16690_eb9e_11ea_b014_5254001ffb06row6_col13,#T_66d16690_eb9e_11ea_b014_5254001ffb06row11_col0,#T_66d16690_eb9e_11ea_b014_5254001ffb06row13_col6{\n",
       "            background-color:  #b0c2de;\n",
       "            color:  #000000;\n",
       "        }#T_66d16690_eb9e_11ea_b014_5254001ffb06row0_col3,#T_66d16690_eb9e_11ea_b014_5254001ffb06row3_col0,#T_66d16690_eb9e_11ea_b014_5254001ffb06row11_col12,#T_66d16690_eb9e_11ea_b014_5254001ffb06row12_col11{\n",
       "            background-color:  #88b1d4;\n",
       "            color:  #000000;\n",
       "        }#T_66d16690_eb9e_11ea_b014_5254001ffb06row0_col4,#T_66d16690_eb9e_11ea_b014_5254001ffb06row4_col0{\n",
       "            background-color:  #e2dfee;\n",
       "            color:  #000000;\n",
       "        }#T_66d16690_eb9e_11ea_b014_5254001ffb06row0_col5,#T_66d16690_eb9e_11ea_b014_5254001ffb06row5_col0{\n",
       "            background-color:  #e5e1ef;\n",
       "            color:  #000000;\n",
       "        }#T_66d16690_eb9e_11ea_b014_5254001ffb06row0_col6,#T_66d16690_eb9e_11ea_b014_5254001ffb06row1_col11,#T_66d16690_eb9e_11ea_b014_5254001ffb06row6_col0,#T_66d16690_eb9e_11ea_b014_5254001ffb06row11_col1{\n",
       "            background-color:  #c2cbe2;\n",
       "            color:  #000000;\n",
       "        }#T_66d16690_eb9e_11ea_b014_5254001ffb06row0_col7,#T_66d16690_eb9e_11ea_b014_5254001ffb06row1_col3,#T_66d16690_eb9e_11ea_b014_5254001ffb06row3_col1,#T_66d16690_eb9e_11ea_b014_5254001ffb06row7_col0{\n",
       "            background-color:  #a2bcda;\n",
       "            color:  #000000;\n",
       "        }#T_66d16690_eb9e_11ea_b014_5254001ffb06row0_col8,#T_66d16690_eb9e_11ea_b014_5254001ffb06row2_col9,#T_66d16690_eb9e_11ea_b014_5254001ffb06row2_col10,#T_66d16690_eb9e_11ea_b014_5254001ffb06row8_col0,#T_66d16690_eb9e_11ea_b014_5254001ffb06row9_col2,#T_66d16690_eb9e_11ea_b014_5254001ffb06row10_col2{\n",
       "            background-color:  #86b0d3;\n",
       "            color:  #000000;\n",
       "        }#T_66d16690_eb9e_11ea_b014_5254001ffb06row0_col9,#T_66d16690_eb9e_11ea_b014_5254001ffb06row9_col0{\n",
       "            background-color:  #c8cde4;\n",
       "            color:  #000000;\n",
       "        }#T_66d16690_eb9e_11ea_b014_5254001ffb06row0_col10,#T_66d16690_eb9e_11ea_b014_5254001ffb06row10_col0{\n",
       "            background-color:  #bbc7e0;\n",
       "            color:  #000000;\n",
       "        }#T_66d16690_eb9e_11ea_b014_5254001ffb06row0_col12,#T_66d16690_eb9e_11ea_b014_5254001ffb06row12_col0{\n",
       "            background-color:  #dbdaeb;\n",
       "            color:  #000000;\n",
       "        }#T_66d16690_eb9e_11ea_b014_5254001ffb06row0_col13,#T_66d16690_eb9e_11ea_b014_5254001ffb06row1_col13,#T_66d16690_eb9e_11ea_b014_5254001ffb06row2_col7,#T_66d16690_eb9e_11ea_b014_5254001ffb06row3_col9,#T_66d16690_eb9e_11ea_b014_5254001ffb06row7_col2,#T_66d16690_eb9e_11ea_b014_5254001ffb06row9_col3,#T_66d16690_eb9e_11ea_b014_5254001ffb06row13_col0,#T_66d16690_eb9e_11ea_b014_5254001ffb06row13_col1{\n",
       "            background-color:  #abbfdc;\n",
       "            color:  #000000;\n",
       "        }#T_66d16690_eb9e_11ea_b014_5254001ffb06row0_col14,#T_66d16690_eb9e_11ea_b014_5254001ffb06row14_col0{\n",
       "            background-color:  #ced0e6;\n",
       "            color:  #000000;\n",
       "        }#T_66d16690_eb9e_11ea_b014_5254001ffb06row0_col15,#T_66d16690_eb9e_11ea_b014_5254001ffb06row15_col0{\n",
       "            background-color:  #d6d6e9;\n",
       "            color:  #000000;\n",
       "        }#T_66d16690_eb9e_11ea_b014_5254001ffb06row0_col16,#T_66d16690_eb9e_11ea_b014_5254001ffb06row16_col0{\n",
       "            background-color:  #c5cce3;\n",
       "            color:  #000000;\n",
       "        }#T_66d16690_eb9e_11ea_b014_5254001ffb06row1_col2,#T_66d16690_eb9e_11ea_b014_5254001ffb06row2_col1{\n",
       "            background-color:  #62a2cb;\n",
       "            color:  #000000;\n",
       "        }#T_66d16690_eb9e_11ea_b014_5254001ffb06row1_col4,#T_66d16690_eb9e_11ea_b014_5254001ffb06row4_col1,#T_66d16690_eb9e_11ea_b014_5254001ffb06row10_col12,#T_66d16690_eb9e_11ea_b014_5254001ffb06row12_col10{\n",
       "            background-color:  #79abd0;\n",
       "            color:  #000000;\n",
       "        }#T_66d16690_eb9e_11ea_b014_5254001ffb06row1_col5,#T_66d16690_eb9e_11ea_b014_5254001ffb06row2_col5,#T_66d16690_eb9e_11ea_b014_5254001ffb06row5_col1,#T_66d16690_eb9e_11ea_b014_5254001ffb06row5_col2{\n",
       "            background-color:  #76aad0;\n",
       "            color:  #000000;\n",
       "        }#T_66d16690_eb9e_11ea_b014_5254001ffb06row1_col6,#T_66d16690_eb9e_11ea_b014_5254001ffb06row6_col1{\n",
       "            background-color:  #5c9fc9;\n",
       "            color:  #000000;\n",
       "        }#T_66d16690_eb9e_11ea_b014_5254001ffb06row1_col7,#T_66d16690_eb9e_11ea_b014_5254001ffb06row7_col1{\n",
       "            background-color:  #8fb4d6;\n",
       "            color:  #000000;\n",
       "        }#T_66d16690_eb9e_11ea_b014_5254001ffb06row1_col8,#T_66d16690_eb9e_11ea_b014_5254001ffb06row2_col15,#T_66d16690_eb9e_11ea_b014_5254001ffb06row8_col1,#T_66d16690_eb9e_11ea_b014_5254001ffb06row15_col2{\n",
       "            background-color:  #d9d8ea;\n",
       "            color:  #000000;\n",
       "        }#T_66d16690_eb9e_11ea_b014_5254001ffb06row1_col9,#T_66d16690_eb9e_11ea_b014_5254001ffb06row9_col1,#T_66d16690_eb9e_11ea_b014_5254001ffb06row10_col15,#T_66d16690_eb9e_11ea_b014_5254001ffb06row15_col10{\n",
       "            background-color:  #c0c9e2;\n",
       "            color:  #000000;\n",
       "        }#T_66d16690_eb9e_11ea_b014_5254001ffb06row1_col10,#T_66d16690_eb9e_11ea_b014_5254001ffb06row10_col1,#T_66d16690_eb9e_11ea_b014_5254001ffb06row11_col13,#T_66d16690_eb9e_11ea_b014_5254001ffb06row13_col11{\n",
       "            background-color:  #b7c5df;\n",
       "            color:  #000000;\n",
       "        }#T_66d16690_eb9e_11ea_b014_5254001ffb06row1_col12,#T_66d16690_eb9e_11ea_b014_5254001ffb06row12_col1{\n",
       "            background-color:  #bdc8e1;\n",
       "            color:  #000000;\n",
       "        }#T_66d16690_eb9e_11ea_b014_5254001ffb06row1_col14,#T_66d16690_eb9e_11ea_b014_5254001ffb06row14_col1{\n",
       "            background-color:  #fff7fb;\n",
       "            color:  #000000;\n",
       "        }#T_66d16690_eb9e_11ea_b014_5254001ffb06row1_col15,#T_66d16690_eb9e_11ea_b014_5254001ffb06row15_col1{\n",
       "            background-color:  #c1cae2;\n",
       "            color:  #000000;\n",
       "        }#T_66d16690_eb9e_11ea_b014_5254001ffb06row1_col16,#T_66d16690_eb9e_11ea_b014_5254001ffb06row9_col12,#T_66d16690_eb9e_11ea_b014_5254001ffb06row12_col9,#T_66d16690_eb9e_11ea_b014_5254001ffb06row16_col1{\n",
       "            background-color:  #73a9cf;\n",
       "            color:  #000000;\n",
       "        }#T_66d16690_eb9e_11ea_b014_5254001ffb06row2_col3,#T_66d16690_eb9e_11ea_b014_5254001ffb06row3_col2,#T_66d16690_eb9e_11ea_b014_5254001ffb06row3_col4,#T_66d16690_eb9e_11ea_b014_5254001ffb06row4_col3,#T_66d16690_eb9e_11ea_b014_5254001ffb06row8_col11,#T_66d16690_eb9e_11ea_b014_5254001ffb06row11_col8{\n",
       "            background-color:  #0570b0;\n",
       "            color:  #f1f1f1;\n",
       "        }#T_66d16690_eb9e_11ea_b014_5254001ffb06row2_col4,#T_66d16690_eb9e_11ea_b014_5254001ffb06row4_col2{\n",
       "            background-color:  #549cc7;\n",
       "            color:  #000000;\n",
       "        }#T_66d16690_eb9e_11ea_b014_5254001ffb06row2_col6,#T_66d16690_eb9e_11ea_b014_5254001ffb06row6_col2{\n",
       "            background-color:  #4897c4;\n",
       "            color:  #000000;\n",
       "        }#T_66d16690_eb9e_11ea_b014_5254001ffb06row2_col8,#T_66d16690_eb9e_11ea_b014_5254001ffb06row8_col2,#T_66d16690_eb9e_11ea_b014_5254001ffb06row14_col15,#T_66d16690_eb9e_11ea_b014_5254001ffb06row15_col14{\n",
       "            background-color:  #acc0dd;\n",
       "            color:  #000000;\n",
       "        }#T_66d16690_eb9e_11ea_b014_5254001ffb06row2_col11,#T_66d16690_eb9e_11ea_b014_5254001ffb06row11_col2{\n",
       "            background-color:  #97b7d7;\n",
       "            color:  #000000;\n",
       "        }#T_66d16690_eb9e_11ea_b014_5254001ffb06row2_col12,#T_66d16690_eb9e_11ea_b014_5254001ffb06row4_col15,#T_66d16690_eb9e_11ea_b014_5254001ffb06row12_col2,#T_66d16690_eb9e_11ea_b014_5254001ffb06row13_col14,#T_66d16690_eb9e_11ea_b014_5254001ffb06row14_col13,#T_66d16690_eb9e_11ea_b014_5254001ffb06row15_col4{\n",
       "            background-color:  #8eb3d5;\n",
       "            color:  #000000;\n",
       "        }#T_66d16690_eb9e_11ea_b014_5254001ffb06row2_col13,#T_66d16690_eb9e_11ea_b014_5254001ffb06row13_col2{\n",
       "            background-color:  #c9cee4;\n",
       "            color:  #000000;\n",
       "        }#T_66d16690_eb9e_11ea_b014_5254001ffb06row2_col14,#T_66d16690_eb9e_11ea_b014_5254001ffb06row4_col14,#T_66d16690_eb9e_11ea_b014_5254001ffb06row14_col2,#T_66d16690_eb9e_11ea_b014_5254001ffb06row14_col4{\n",
       "            background-color:  #f0eaf4;\n",
       "            color:  #000000;\n",
       "        }#T_66d16690_eb9e_11ea_b014_5254001ffb06row2_col16,#T_66d16690_eb9e_11ea_b014_5254001ffb06row16_col2{\n",
       "            background-color:  #4e9ac6;\n",
       "            color:  #000000;\n",
       "        }#T_66d16690_eb9e_11ea_b014_5254001ffb06row3_col5,#T_66d16690_eb9e_11ea_b014_5254001ffb06row5_col3{\n",
       "            background-color:  #84b0d3;\n",
       "            color:  #000000;\n",
       "        }#T_66d16690_eb9e_11ea_b014_5254001ffb06row3_col6,#T_66d16690_eb9e_11ea_b014_5254001ffb06row6_col3{\n",
       "            background-color:  #99b8d8;\n",
       "            color:  #000000;\n",
       "        }#T_66d16690_eb9e_11ea_b014_5254001ffb06row3_col7,#T_66d16690_eb9e_11ea_b014_5254001ffb06row7_col3,#T_66d16690_eb9e_11ea_b014_5254001ffb06row7_col15,#T_66d16690_eb9e_11ea_b014_5254001ffb06row15_col7{\n",
       "            background-color:  #d2d3e7;\n",
       "            color:  #000000;\n",
       "        }#T_66d16690_eb9e_11ea_b014_5254001ffb06row3_col8,#T_66d16690_eb9e_11ea_b014_5254001ffb06row8_col3,#T_66d16690_eb9e_11ea_b014_5254001ffb06row12_col15,#T_66d16690_eb9e_11ea_b014_5254001ffb06row15_col12{\n",
       "            background-color:  #d2d2e7;\n",
       "            color:  #000000;\n",
       "        }#T_66d16690_eb9e_11ea_b014_5254001ffb06row3_col10,#T_66d16690_eb9e_11ea_b014_5254001ffb06row10_col3,#T_66d16690_eb9e_11ea_b014_5254001ffb06row14_col16,#T_66d16690_eb9e_11ea_b014_5254001ffb06row16_col14{\n",
       "            background-color:  #a9bfdc;\n",
       "            color:  #000000;\n",
       "        }#T_66d16690_eb9e_11ea_b014_5254001ffb06row3_col11,#T_66d16690_eb9e_11ea_b014_5254001ffb06row4_col16,#T_66d16690_eb9e_11ea_b014_5254001ffb06row11_col3,#T_66d16690_eb9e_11ea_b014_5254001ffb06row16_col4{\n",
       "            background-color:  #b9c6e0;\n",
       "            color:  #000000;\n",
       "        }#T_66d16690_eb9e_11ea_b014_5254001ffb06row3_col12,#T_66d16690_eb9e_11ea_b014_5254001ffb06row7_col14,#T_66d16690_eb9e_11ea_b014_5254001ffb06row12_col3,#T_66d16690_eb9e_11ea_b014_5254001ffb06row14_col7{\n",
       "            background-color:  #7dacd1;\n",
       "            color:  #000000;\n",
       "        }#T_66d16690_eb9e_11ea_b014_5254001ffb06row3_col13,#T_66d16690_eb9e_11ea_b014_5254001ffb06row13_col3{\n",
       "            background-color:  #cacee5;\n",
       "            color:  #000000;\n",
       "        }#T_66d16690_eb9e_11ea_b014_5254001ffb06row3_col14,#T_66d16690_eb9e_11ea_b014_5254001ffb06row14_col3{\n",
       "            background-color:  #ede8f3;\n",
       "            color:  #000000;\n",
       "        }#T_66d16690_eb9e_11ea_b014_5254001ffb06row3_col16,#T_66d16690_eb9e_11ea_b014_5254001ffb06row4_col12,#T_66d16690_eb9e_11ea_b014_5254001ffb06row12_col4,#T_66d16690_eb9e_11ea_b014_5254001ffb06row16_col3{\n",
       "            background-color:  #8bb2d4;\n",
       "            color:  #000000;\n",
       "        }#T_66d16690_eb9e_11ea_b014_5254001ffb06row4_col5,#T_66d16690_eb9e_11ea_b014_5254001ffb06row5_col4{\n",
       "            background-color:  #83afd3;\n",
       "            color:  #000000;\n",
       "        }#T_66d16690_eb9e_11ea_b014_5254001ffb06row4_col6,#T_66d16690_eb9e_11ea_b014_5254001ffb06row6_col4{\n",
       "            background-color:  #c4cbe3;\n",
       "            color:  #000000;\n",
       "        }#T_66d16690_eb9e_11ea_b014_5254001ffb06row4_col7,#T_66d16690_eb9e_11ea_b014_5254001ffb06row4_col9,#T_66d16690_eb9e_11ea_b014_5254001ffb06row7_col4,#T_66d16690_eb9e_11ea_b014_5254001ffb06row9_col4{\n",
       "            background-color:  #d4d4e8;\n",
       "            color:  #000000;\n",
       "        }#T_66d16690_eb9e_11ea_b014_5254001ffb06row4_col8,#T_66d16690_eb9e_11ea_b014_5254001ffb06row8_col4{\n",
       "            background-color:  #fbf3f9;\n",
       "            color:  #000000;\n",
       "        }#T_66d16690_eb9e_11ea_b014_5254001ffb06row4_col10,#T_66d16690_eb9e_11ea_b014_5254001ffb06row10_col4{\n",
       "            background-color:  #cdd0e5;\n",
       "            color:  #000000;\n",
       "        }#T_66d16690_eb9e_11ea_b014_5254001ffb06row4_col11,#T_66d16690_eb9e_11ea_b014_5254001ffb06row9_col15,#T_66d16690_eb9e_11ea_b014_5254001ffb06row11_col4,#T_66d16690_eb9e_11ea_b014_5254001ffb06row15_col9,#T_66d16690_eb9e_11ea_b014_5254001ffb06row15_col16,#T_66d16690_eb9e_11ea_b014_5254001ffb06row16_col15{\n",
       "            background-color:  #e9e5f1;\n",
       "            color:  #000000;\n",
       "        }#T_66d16690_eb9e_11ea_b014_5254001ffb06row4_col13,#T_66d16690_eb9e_11ea_b014_5254001ffb06row13_col4{\n",
       "            background-color:  #d1d2e6;\n",
       "            color:  #000000;\n",
       "        }#T_66d16690_eb9e_11ea_b014_5254001ffb06row5_col6,#T_66d16690_eb9e_11ea_b014_5254001ffb06row6_col5{\n",
       "            background-color:  #0872b1;\n",
       "            color:  #f1f1f1;\n",
       "        }#T_66d16690_eb9e_11ea_b014_5254001ffb06row5_col7,#T_66d16690_eb9e_11ea_b014_5254001ffb06row7_col5,#T_66d16690_eb9e_11ea_b014_5254001ffb06row10_col14,#T_66d16690_eb9e_11ea_b014_5254001ffb06row14_col10{\n",
       "            background-color:  #529bc7;\n",
       "            color:  #000000;\n",
       "        }#T_66d16690_eb9e_11ea_b014_5254001ffb06row5_col8,#T_66d16690_eb9e_11ea_b014_5254001ffb06row8_col5{\n",
       "            background-color:  #96b6d7;\n",
       "            color:  #000000;\n",
       "        }#T_66d16690_eb9e_11ea_b014_5254001ffb06row5_col9,#T_66d16690_eb9e_11ea_b014_5254001ffb06row9_col5{\n",
       "            background-color:  #3991c1;\n",
       "            color:  #000000;\n",
       "        }#T_66d16690_eb9e_11ea_b014_5254001ffb06row5_col10,#T_66d16690_eb9e_11ea_b014_5254001ffb06row7_col9,#T_66d16690_eb9e_11ea_b014_5254001ffb06row9_col7,#T_66d16690_eb9e_11ea_b014_5254001ffb06row10_col5{\n",
       "            background-color:  #4c99c5;\n",
       "            color:  #000000;\n",
       "        }#T_66d16690_eb9e_11ea_b014_5254001ffb06row5_col11,#T_66d16690_eb9e_11ea_b014_5254001ffb06row11_col5{\n",
       "            background-color:  #6ba5cd;\n",
       "            color:  #000000;\n",
       "        }#T_66d16690_eb9e_11ea_b014_5254001ffb06row5_col12,#T_66d16690_eb9e_11ea_b014_5254001ffb06row12_col5{\n",
       "            background-color:  #2685bb;\n",
       "            color:  #000000;\n",
       "        }#T_66d16690_eb9e_11ea_b014_5254001ffb06row5_col13,#T_66d16690_eb9e_11ea_b014_5254001ffb06row13_col5{\n",
       "            background-color:  #b8c6e0;\n",
       "            color:  #000000;\n",
       "        }#T_66d16690_eb9e_11ea_b014_5254001ffb06row5_col14,#T_66d16690_eb9e_11ea_b014_5254001ffb06row14_col5{\n",
       "            background-color:  #8cb3d5;\n",
       "            color:  #000000;\n",
       "        }#T_66d16690_eb9e_11ea_b014_5254001ffb06row5_col15,#T_66d16690_eb9e_11ea_b014_5254001ffb06row15_col5{\n",
       "            background-color:  #f7f0f7;\n",
       "            color:  #000000;\n",
       "        }#T_66d16690_eb9e_11ea_b014_5254001ffb06row5_col16,#T_66d16690_eb9e_11ea_b014_5254001ffb06row16_col5{\n",
       "            background-color:  #056dac;\n",
       "            color:  #f1f1f1;\n",
       "        }#T_66d16690_eb9e_11ea_b014_5254001ffb06row6_col7,#T_66d16690_eb9e_11ea_b014_5254001ffb06row7_col6{\n",
       "            background-color:  #358fc0;\n",
       "            color:  #000000;\n",
       "        }#T_66d16690_eb9e_11ea_b014_5254001ffb06row6_col8,#T_66d16690_eb9e_11ea_b014_5254001ffb06row8_col6,#T_66d16690_eb9e_11ea_b014_5254001ffb06row8_col14,#T_66d16690_eb9e_11ea_b014_5254001ffb06row14_col8{\n",
       "            background-color:  #3f93c2;\n",
       "            color:  #000000;\n",
       "        }#T_66d16690_eb9e_11ea_b014_5254001ffb06row6_col9,#T_66d16690_eb9e_11ea_b014_5254001ffb06row9_col6{\n",
       "            background-color:  #1278b4;\n",
       "            color:  #f1f1f1;\n",
       "        }#T_66d16690_eb9e_11ea_b014_5254001ffb06row6_col10,#T_66d16690_eb9e_11ea_b014_5254001ffb06row7_col16,#T_66d16690_eb9e_11ea_b014_5254001ffb06row10_col6,#T_66d16690_eb9e_11ea_b014_5254001ffb06row16_col7{\n",
       "            background-color:  #167bb6;\n",
       "            color:  #000000;\n",
       "        }#T_66d16690_eb9e_11ea_b014_5254001ffb06row6_col11,#T_66d16690_eb9e_11ea_b014_5254001ffb06row11_col6{\n",
       "            background-color:  #2987bc;\n",
       "            color:  #000000;\n",
       "        }#T_66d16690_eb9e_11ea_b014_5254001ffb06row6_col12,#T_66d16690_eb9e_11ea_b014_5254001ffb06row12_col6{\n",
       "            background-color:  #75a9cf;\n",
       "            color:  #000000;\n",
       "        }#T_66d16690_eb9e_11ea_b014_5254001ffb06row6_col14,#T_66d16690_eb9e_11ea_b014_5254001ffb06row14_col6{\n",
       "            background-color:  #a5bddb;\n",
       "            color:  #000000;\n",
       "        }#T_66d16690_eb9e_11ea_b014_5254001ffb06row6_col15,#T_66d16690_eb9e_11ea_b014_5254001ffb06row15_col6{\n",
       "            background-color:  #faf2f8;\n",
       "            color:  #000000;\n",
       "        }#T_66d16690_eb9e_11ea_b014_5254001ffb06row6_col16,#T_66d16690_eb9e_11ea_b014_5254001ffb06row16_col6{\n",
       "            background-color:  #045f95;\n",
       "            color:  #f1f1f1;\n",
       "        }#T_66d16690_eb9e_11ea_b014_5254001ffb06row7_col8,#T_66d16690_eb9e_11ea_b014_5254001ffb06row8_col7{\n",
       "            background-color:  #187cb6;\n",
       "            color:  #000000;\n",
       "        }#T_66d16690_eb9e_11ea_b014_5254001ffb06row7_col10,#T_66d16690_eb9e_11ea_b014_5254001ffb06row10_col7{\n",
       "            background-color:  #2484ba;\n",
       "            color:  #000000;\n",
       "        }#T_66d16690_eb9e_11ea_b014_5254001ffb06row7_col11,#T_66d16690_eb9e_11ea_b014_5254001ffb06row11_col7{\n",
       "            background-color:  #4a98c5;\n",
       "            color:  #000000;\n",
       "        }#T_66d16690_eb9e_11ea_b014_5254001ffb06row7_col12,#T_66d16690_eb9e_11ea_b014_5254001ffb06row7_col13,#T_66d16690_eb9e_11ea_b014_5254001ffb06row12_col7,#T_66d16690_eb9e_11ea_b014_5254001ffb06row13_col7{\n",
       "            background-color:  #b3c3de;\n",
       "            color:  #000000;\n",
       "        }#T_66d16690_eb9e_11ea_b014_5254001ffb06row8_col9,#T_66d16690_eb9e_11ea_b014_5254001ffb06row9_col8{\n",
       "            background-color:  #0c74b2;\n",
       "            color:  #f1f1f1;\n",
       "        }#T_66d16690_eb9e_11ea_b014_5254001ffb06row8_col10,#T_66d16690_eb9e_11ea_b014_5254001ffb06row10_col8{\n",
       "            background-color:  #0d75b3;\n",
       "            color:  #f1f1f1;\n",
       "        }#T_66d16690_eb9e_11ea_b014_5254001ffb06row8_col12,#T_66d16690_eb9e_11ea_b014_5254001ffb06row8_col13,#T_66d16690_eb9e_11ea_b014_5254001ffb06row12_col8,#T_66d16690_eb9e_11ea_b014_5254001ffb06row12_col14,#T_66d16690_eb9e_11ea_b014_5254001ffb06row13_col8,#T_66d16690_eb9e_11ea_b014_5254001ffb06row14_col12{\n",
       "            background-color:  #9fbad9;\n",
       "            color:  #000000;\n",
       "        }#T_66d16690_eb9e_11ea_b014_5254001ffb06row8_col15,#T_66d16690_eb9e_11ea_b014_5254001ffb06row15_col8{\n",
       "            background-color:  #e0deed;\n",
       "            color:  #000000;\n",
       "        }#T_66d16690_eb9e_11ea_b014_5254001ffb06row8_col16,#T_66d16690_eb9e_11ea_b014_5254001ffb06row16_col8{\n",
       "            background-color:  #0f76b3;\n",
       "            color:  #f1f1f1;\n",
       "        }#T_66d16690_eb9e_11ea_b014_5254001ffb06row9_col10,#T_66d16690_eb9e_11ea_b014_5254001ffb06row10_col9{\n",
       "            background-color:  #056ead;\n",
       "            color:  #f1f1f1;\n",
       "        }#T_66d16690_eb9e_11ea_b014_5254001ffb06row9_col11,#T_66d16690_eb9e_11ea_b014_5254001ffb06row11_col9{\n",
       "            background-color:  #04598c;\n",
       "            color:  #f1f1f1;\n",
       "        }#T_66d16690_eb9e_11ea_b014_5254001ffb06row9_col13,#T_66d16690_eb9e_11ea_b014_5254001ffb06row13_col9{\n",
       "            background-color:  #c6cce3;\n",
       "            color:  #000000;\n",
       "        }#T_66d16690_eb9e_11ea_b014_5254001ffb06row9_col14,#T_66d16690_eb9e_11ea_b014_5254001ffb06row14_col9{\n",
       "            background-color:  #569dc8;\n",
       "            color:  #000000;\n",
       "        }#T_66d16690_eb9e_11ea_b014_5254001ffb06row9_col16,#T_66d16690_eb9e_11ea_b014_5254001ffb06row16_col9{\n",
       "            background-color:  #046097;\n",
       "            color:  #f1f1f1;\n",
       "        }#T_66d16690_eb9e_11ea_b014_5254001ffb06row10_col11,#T_66d16690_eb9e_11ea_b014_5254001ffb06row11_col10{\n",
       "            background-color:  #056caa;\n",
       "            color:  #f1f1f1;\n",
       "        }#T_66d16690_eb9e_11ea_b014_5254001ffb06row10_col13,#T_66d16690_eb9e_11ea_b014_5254001ffb06row13_col10{\n",
       "            background-color:  #a4bcda;\n",
       "            color:  #000000;\n",
       "        }#T_66d16690_eb9e_11ea_b014_5254001ffb06row10_col16,#T_66d16690_eb9e_11ea_b014_5254001ffb06row16_col10{\n",
       "            background-color:  #04639b;\n",
       "            color:  #f1f1f1;\n",
       "        }#T_66d16690_eb9e_11ea_b014_5254001ffb06row11_col14,#T_66d16690_eb9e_11ea_b014_5254001ffb06row14_col11{\n",
       "            background-color:  #3b92c1;\n",
       "            color:  #000000;\n",
       "        }#T_66d16690_eb9e_11ea_b014_5254001ffb06row11_col15,#T_66d16690_eb9e_11ea_b014_5254001ffb06row15_col11{\n",
       "            background-color:  #ebe6f2;\n",
       "            color:  #000000;\n",
       "        }#T_66d16690_eb9e_11ea_b014_5254001ffb06row11_col16,#T_66d16690_eb9e_11ea_b014_5254001ffb06row16_col11{\n",
       "            background-color:  #056dab;\n",
       "            color:  #f1f1f1;\n",
       "        }#T_66d16690_eb9e_11ea_b014_5254001ffb06row12_col13,#T_66d16690_eb9e_11ea_b014_5254001ffb06row13_col12{\n",
       "            background-color:  #a8bedc;\n",
       "            color:  #000000;\n",
       "        }#T_66d16690_eb9e_11ea_b014_5254001ffb06row12_col16,#T_66d16690_eb9e_11ea_b014_5254001ffb06row16_col12{\n",
       "            background-color:  #2383ba;\n",
       "            color:  #000000;\n",
       "        }#T_66d16690_eb9e_11ea_b014_5254001ffb06row13_col15,#T_66d16690_eb9e_11ea_b014_5254001ffb06row15_col13{\n",
       "            background-color:  #a1bbda;\n",
       "            color:  #000000;\n",
       "        }#T_66d16690_eb9e_11ea_b014_5254001ffb06row13_col16,#T_66d16690_eb9e_11ea_b014_5254001ffb06row16_col13{\n",
       "            background-color:  #b1c2de;\n",
       "            color:  #000000;\n",
       "        }</style><table id=\"T_66d16690_eb9e_11ea_b014_5254001ffb06\" ><thead>    <tr>        <th class=\"blank level0\" ></th>        <th class=\"col_heading level0 col0\" >Rt</th>        <th class=\"col_heading level0 col1\" >theta</th>        <th class=\"col_heading level0 col2\" >kappa</th>        <th class=\"col_heading level0 col3\" >rho</th>        <th class=\"col_heading level0 col4\" >sigma</th>        <th class=\"col_heading level0 col5\" >School_closing</th>        <th class=\"col_heading level0 col6\" >Workplace_closing</th>        <th class=\"col_heading level0 col7\" >Cancel_events</th>        <th class=\"col_heading level0 col8\" >Gatherings_restrictions</th>        <th class=\"col_heading level0 col9\" >Transport_closing</th>        <th class=\"col_heading level0 col10\" >Stay_home_restrictions</th>        <th class=\"col_heading level0 col11\" >Internal_movement_restrictions</th>        <th class=\"col_heading level0 col12\" >International_movement_restrictions</th>        <th class=\"col_heading level0 col13\" >Information_campaigns</th>        <th class=\"col_heading level0 col14\" >Testing_policy</th>        <th class=\"col_heading level0 col15\" >Contact_tracing</th>        <th class=\"col_heading level0 col16\" >Stringency_index</th>    </tr></thead><tbody>\n",
       "                <tr>\n",
       "                        <th id=\"T_66d16690_eb9e_11ea_b014_5254001ffb06level0_row0\" class=\"row_heading level0 row0\" >Rt</th>\n",
       "                        <td id=\"T_66d16690_eb9e_11ea_b014_5254001ffb06row0_col0\" class=\"data row0 col0\" >1.000000</td>\n",
       "                        <td id=\"T_66d16690_eb9e_11ea_b014_5254001ffb06row0_col1\" class=\"data row0 col1\" >-0.193218</td>\n",
       "                        <td id=\"T_66d16690_eb9e_11ea_b014_5254001ffb06row0_col2\" class=\"data row0 col2\" >-0.003453</td>\n",
       "                        <td id=\"T_66d16690_eb9e_11ea_b014_5254001ffb06row0_col3\" class=\"data row0 col3\" >0.160108</td>\n",
       "                        <td id=\"T_66d16690_eb9e_11ea_b014_5254001ffb06row0_col4\" class=\"data row0 col4\" >-0.273068</td>\n",
       "                        <td id=\"T_66d16690_eb9e_11ea_b014_5254001ffb06row0_col5\" class=\"data row0 col5\" >-0.293292</td>\n",
       "                        <td id=\"T_66d16690_eb9e_11ea_b014_5254001ffb06row0_col6\" class=\"data row0 col6\" >-0.086262</td>\n",
       "                        <td id=\"T_66d16690_eb9e_11ea_b014_5254001ffb06row0_col7\" class=\"data row0 col7\" >0.053188</td>\n",
       "                        <td id=\"T_66d16690_eb9e_11ea_b014_5254001ffb06row0_col8\" class=\"data row0 col8\" >0.166421</td>\n",
       "                        <td id=\"T_66d16690_eb9e_11ea_b014_5254001ffb06row0_col9\" class=\"data row0 col9\" >-0.113998</td>\n",
       "                        <td id=\"T_66d16690_eb9e_11ea_b014_5254001ffb06row0_col10\" class=\"data row0 col10\" >-0.049364</td>\n",
       "                        <td id=\"T_66d16690_eb9e_11ea_b014_5254001ffb06row0_col11\" class=\"data row0 col11\" >-0.003957</td>\n",
       "                        <td id=\"T_66d16690_eb9e_11ea_b014_5254001ffb06row0_col12\" class=\"data row0 col12\" >-0.223769</td>\n",
       "                        <td id=\"T_66d16690_eb9e_11ea_b014_5254001ffb06row0_col13\" class=\"data row0 col13\" >0.019890</td>\n",
       "                        <td id=\"T_66d16690_eb9e_11ea_b014_5254001ffb06row0_col14\" class=\"data row0 col14\" >-0.143003</td>\n",
       "                        <td id=\"T_66d16690_eb9e_11ea_b014_5254001ffb06row0_col15\" class=\"data row0 col15\" >-0.189075</td>\n",
       "                        <td id=\"T_66d16690_eb9e_11ea_b014_5254001ffb06row0_col16\" class=\"data row0 col16\" >-0.101301</td>\n",
       "            </tr>\n",
       "            <tr>\n",
       "                        <th id=\"T_66d16690_eb9e_11ea_b014_5254001ffb06level0_row1\" class=\"row_heading level0 row1\" >theta</th>\n",
       "                        <td id=\"T_66d16690_eb9e_11ea_b014_5254001ffb06row1_col0\" class=\"data row1 col0\" >-0.193218</td>\n",
       "                        <td id=\"T_66d16690_eb9e_11ea_b014_5254001ffb06row1_col1\" class=\"data row1 col1\" >1.000000</td>\n",
       "                        <td id=\"T_66d16690_eb9e_11ea_b014_5254001ffb06row1_col2\" class=\"data row1 col2\" >0.290460</td>\n",
       "                        <td id=\"T_66d16690_eb9e_11ea_b014_5254001ffb06row1_col3\" class=\"data row1 col3\" >0.052954</td>\n",
       "                        <td id=\"T_66d16690_eb9e_11ea_b014_5254001ffb06row1_col4\" class=\"data row1 col4\" >0.212514</td>\n",
       "                        <td id=\"T_66d16690_eb9e_11ea_b014_5254001ffb06row1_col5\" class=\"data row1 col5\" >0.223513</td>\n",
       "                        <td id=\"T_66d16690_eb9e_11ea_b014_5254001ffb06row1_col6\" class=\"data row1 col6\" >0.305704</td>\n",
       "                        <td id=\"T_66d16690_eb9e_11ea_b014_5254001ffb06row1_col7\" class=\"data row1 col7\" >0.126920</td>\n",
       "                        <td id=\"T_66d16690_eb9e_11ea_b014_5254001ffb06row1_col8\" class=\"data row1 col8\" >-0.211511</td>\n",
       "                        <td id=\"T_66d16690_eb9e_11ea_b014_5254001ffb06row1_col9\" class=\"data row1 col9\" >-0.078652</td>\n",
       "                        <td id=\"T_66d16690_eb9e_11ea_b014_5254001ffb06row1_col10\" class=\"data row1 col10\" >-0.034682</td>\n",
       "                        <td id=\"T_66d16690_eb9e_11ea_b014_5254001ffb06row1_col11\" class=\"data row1 col11\" >-0.090094</td>\n",
       "                        <td id=\"T_66d16690_eb9e_11ea_b014_5254001ffb06row1_col12\" class=\"data row1 col12\" >-0.061418</td>\n",
       "                        <td id=\"T_66d16690_eb9e_11ea_b014_5254001ffb06row1_col13\" class=\"data row1 col13\" >0.021669</td>\n",
       "                        <td id=\"T_66d16690_eb9e_11ea_b014_5254001ffb06row1_col14\" class=\"data row1 col14\" >-0.534749</td>\n",
       "                        <td id=\"T_66d16690_eb9e_11ea_b014_5254001ffb06row1_col15\" class=\"data row1 col15\" >-0.084969</td>\n",
       "                        <td id=\"T_66d16690_eb9e_11ea_b014_5254001ffb06row1_col16\" class=\"data row1 col16\" >0.236094</td>\n",
       "            </tr>\n",
       "            <tr>\n",
       "                        <th id=\"T_66d16690_eb9e_11ea_b014_5254001ffb06level0_row2\" class=\"row_heading level0 row2\" >kappa</th>\n",
       "                        <td id=\"T_66d16690_eb9e_11ea_b014_5254001ffb06row2_col0\" class=\"data row2 col0\" >-0.003453</td>\n",
       "                        <td id=\"T_66d16690_eb9e_11ea_b014_5254001ffb06row2_col1\" class=\"data row2 col1\" >0.290460</td>\n",
       "                        <td id=\"T_66d16690_eb9e_11ea_b014_5254001ffb06row2_col2\" class=\"data row2 col2\" >1.000000</td>\n",
       "                        <td id=\"T_66d16690_eb9e_11ea_b014_5254001ffb06row2_col3\" class=\"data row2 col3\" >0.611974</td>\n",
       "                        <td id=\"T_66d16690_eb9e_11ea_b014_5254001ffb06row2_col4\" class=\"data row2 col4\" >0.333021</td>\n",
       "                        <td id=\"T_66d16690_eb9e_11ea_b014_5254001ffb06row2_col5\" class=\"data row2 col5\" >0.221016</td>\n",
       "                        <td id=\"T_66d16690_eb9e_11ea_b014_5254001ffb06row2_col6\" class=\"data row2 col6\" >0.370443</td>\n",
       "                        <td id=\"T_66d16690_eb9e_11ea_b014_5254001ffb06row2_col7\" class=\"data row2 col7\" >0.018369</td>\n",
       "                        <td id=\"T_66d16690_eb9e_11ea_b014_5254001ffb06row2_col8\" class=\"data row2 col8\" >0.013068</td>\n",
       "                        <td id=\"T_66d16690_eb9e_11ea_b014_5254001ffb06row2_col9\" class=\"data row2 col9\" >0.163328</td>\n",
       "                        <td id=\"T_66d16690_eb9e_11ea_b014_5254001ffb06row2_col10\" class=\"data row2 col10\" >0.160800</td>\n",
       "                        <td id=\"T_66d16690_eb9e_11ea_b014_5254001ffb06row2_col11\" class=\"data row2 col11\" >0.095619</td>\n",
       "                        <td id=\"T_66d16690_eb9e_11ea_b014_5254001ffb06row2_col12\" class=\"data row2 col12\" >0.132916</td>\n",
       "                        <td id=\"T_66d16690_eb9e_11ea_b014_5254001ffb06row2_col13\" class=\"data row2 col13\" >-0.120997</td>\n",
       "                        <td id=\"T_66d16690_eb9e_11ea_b014_5254001ffb06row2_col14\" class=\"data row2 col14\" >-0.373487</td>\n",
       "                        <td id=\"T_66d16690_eb9e_11ea_b014_5254001ffb06row2_col15\" class=\"data row2 col15\" >-0.213594</td>\n",
       "                        <td id=\"T_66d16690_eb9e_11ea_b014_5254001ffb06row2_col16\" class=\"data row2 col16\" >0.352282</td>\n",
       "            </tr>\n",
       "            <tr>\n",
       "                        <th id=\"T_66d16690_eb9e_11ea_b014_5254001ffb06level0_row3\" class=\"row_heading level0 row3\" >rho</th>\n",
       "                        <td id=\"T_66d16690_eb9e_11ea_b014_5254001ffb06row3_col0\" class=\"data row3 col0\" >0.160108</td>\n",
       "                        <td id=\"T_66d16690_eb9e_11ea_b014_5254001ffb06row3_col1\" class=\"data row3 col1\" >0.052954</td>\n",
       "                        <td id=\"T_66d16690_eb9e_11ea_b014_5254001ffb06row3_col2\" class=\"data row3 col2\" >0.611974</td>\n",
       "                        <td id=\"T_66d16690_eb9e_11ea_b014_5254001ffb06row3_col3\" class=\"data row3 col3\" >1.000000</td>\n",
       "                        <td id=\"T_66d16690_eb9e_11ea_b014_5254001ffb06row3_col4\" class=\"data row3 col4\" >0.612288</td>\n",
       "                        <td id=\"T_66d16690_eb9e_11ea_b014_5254001ffb06row3_col5\" class=\"data row3 col5\" >0.170655</td>\n",
       "                        <td id=\"T_66d16690_eb9e_11ea_b014_5254001ffb06row3_col6\" class=\"data row3 col6\" >0.093245</td>\n",
       "                        <td id=\"T_66d16690_eb9e_11ea_b014_5254001ffb06row3_col7\" class=\"data row3 col7\" >-0.164816</td>\n",
       "                        <td id=\"T_66d16690_eb9e_11ea_b014_5254001ffb06row3_col8\" class=\"data row3 col8\" >-0.157719</td>\n",
       "                        <td id=\"T_66d16690_eb9e_11ea_b014_5254001ffb06row3_col9\" class=\"data row3 col9\" >0.021380</td>\n",
       "                        <td id=\"T_66d16690_eb9e_11ea_b014_5254001ffb06row3_col10\" class=\"data row3 col10\" >0.027856</td>\n",
       "                        <td id=\"T_66d16690_eb9e_11ea_b014_5254001ffb06row3_col11\" class=\"data row3 col11\" >-0.044211</td>\n",
       "                        <td id=\"T_66d16690_eb9e_11ea_b014_5254001ffb06row3_col12\" class=\"data row3 col12\" >0.202350</td>\n",
       "                        <td id=\"T_66d16690_eb9e_11ea_b014_5254001ffb06row3_col13\" class=\"data row3 col13\" >-0.124486</td>\n",
       "                        <td id=\"T_66d16690_eb9e_11ea_b014_5254001ffb06row3_col14\" class=\"data row3 col14\" >-0.349464</td>\n",
       "                        <td id=\"T_66d16690_eb9e_11ea_b014_5254001ffb06row3_col15\" class=\"data row3 col15\" >-0.194178</td>\n",
       "                        <td id=\"T_66d16690_eb9e_11ea_b014_5254001ffb06row3_col16\" class=\"data row3 col16\" >0.144503</td>\n",
       "            </tr>\n",
       "            <tr>\n",
       "                        <th id=\"T_66d16690_eb9e_11ea_b014_5254001ffb06level0_row4\" class=\"row_heading level0 row4\" >sigma</th>\n",
       "                        <td id=\"T_66d16690_eb9e_11ea_b014_5254001ffb06row4_col0\" class=\"data row4 col0\" >-0.273068</td>\n",
       "                        <td id=\"T_66d16690_eb9e_11ea_b014_5254001ffb06row4_col1\" class=\"data row4 col1\" >0.212514</td>\n",
       "                        <td id=\"T_66d16690_eb9e_11ea_b014_5254001ffb06row4_col2\" class=\"data row4 col2\" >0.333021</td>\n",
       "                        <td id=\"T_66d16690_eb9e_11ea_b014_5254001ffb06row4_col3\" class=\"data row4 col3\" >0.612288</td>\n",
       "                        <td id=\"T_66d16690_eb9e_11ea_b014_5254001ffb06row4_col4\" class=\"data row4 col4\" >1.000000</td>\n",
       "                        <td id=\"T_66d16690_eb9e_11ea_b014_5254001ffb06row4_col5\" class=\"data row4 col5\" >0.172805</td>\n",
       "                        <td id=\"T_66d16690_eb9e_11ea_b014_5254001ffb06row4_col6\" class=\"data row4 col6\" >-0.096115</td>\n",
       "                        <td id=\"T_66d16690_eb9e_11ea_b014_5254001ffb06row4_col7\" class=\"data row4 col7\" >-0.175650</td>\n",
       "                        <td id=\"T_66d16690_eb9e_11ea_b014_5254001ffb06row4_col8\" class=\"data row4 col8\" >-0.487696</td>\n",
       "                        <td id=\"T_66d16690_eb9e_11ea_b014_5254001ffb06row4_col9\" class=\"data row4 col9\" >-0.177777</td>\n",
       "                        <td id=\"T_66d16690_eb9e_11ea_b014_5254001ffb06row4_col10\" class=\"data row4 col10\" >-0.138315</td>\n",
       "                        <td id=\"T_66d16690_eb9e_11ea_b014_5254001ffb06row4_col11\" class=\"data row4 col11\" >-0.320498</td>\n",
       "                        <td id=\"T_66d16690_eb9e_11ea_b014_5254001ffb06row4_col12\" class=\"data row4 col12\" >0.148616</td>\n",
       "                        <td id=\"T_66d16690_eb9e_11ea_b014_5254001ffb06row4_col13\" class=\"data row4 col13\" >-0.155822</td>\n",
       "                        <td id=\"T_66d16690_eb9e_11ea_b014_5254001ffb06row4_col14\" class=\"data row4 col14\" >-0.375454</td>\n",
       "                        <td id=\"T_66d16690_eb9e_11ea_b014_5254001ffb06row4_col15\" class=\"data row4 col15\" >0.131575</td>\n",
       "                        <td id=\"T_66d16690_eb9e_11ea_b014_5254001ffb06row4_col16\" class=\"data row4 col16\" >-0.046976</td>\n",
       "            </tr>\n",
       "            <tr>\n",
       "                        <th id=\"T_66d16690_eb9e_11ea_b014_5254001ffb06level0_row5\" class=\"row_heading level0 row5\" >School_closing</th>\n",
       "                        <td id=\"T_66d16690_eb9e_11ea_b014_5254001ffb06row5_col0\" class=\"data row5 col0\" >-0.293292</td>\n",
       "                        <td id=\"T_66d16690_eb9e_11ea_b014_5254001ffb06row5_col1\" class=\"data row5 col1\" >0.223513</td>\n",
       "                        <td id=\"T_66d16690_eb9e_11ea_b014_5254001ffb06row5_col2\" class=\"data row5 col2\" >0.221016</td>\n",
       "                        <td id=\"T_66d16690_eb9e_11ea_b014_5254001ffb06row5_col3\" class=\"data row5 col3\" >0.170655</td>\n",
       "                        <td id=\"T_66d16690_eb9e_11ea_b014_5254001ffb06row5_col4\" class=\"data row5 col4\" >0.172805</td>\n",
       "                        <td id=\"T_66d16690_eb9e_11ea_b014_5254001ffb06row5_col5\" class=\"data row5 col5\" >1.000000</td>\n",
       "                        <td id=\"T_66d16690_eb9e_11ea_b014_5254001ffb06row5_col6\" class=\"data row5 col6\" >0.601139</td>\n",
       "                        <td id=\"T_66d16690_eb9e_11ea_b014_5254001ffb06row5_col7\" class=\"data row5 col7\" >0.340259</td>\n",
       "                        <td id=\"T_66d16690_eb9e_11ea_b014_5254001ffb06row5_col8\" class=\"data row5 col8\" >0.103227</td>\n",
       "                        <td id=\"T_66d16690_eb9e_11ea_b014_5254001ffb06row5_col9\" class=\"data row5 col9\" >0.417135</td>\n",
       "                        <td id=\"T_66d16690_eb9e_11ea_b014_5254001ffb06row5_col10\" class=\"data row5 col10\" >0.356016</td>\n",
       "                        <td id=\"T_66d16690_eb9e_11ea_b014_5254001ffb06row5_col11\" class=\"data row5 col11\" >0.257145</td>\n",
       "                        <td id=\"T_66d16690_eb9e_11ea_b014_5254001ffb06row5_col12\" class=\"data row5 col12\" >0.490395</td>\n",
       "                        <td id=\"T_66d16690_eb9e_11ea_b014_5254001ffb06row5_col13\" class=\"data row5 col13\" >-0.040343</td>\n",
       "                        <td id=\"T_66d16690_eb9e_11ea_b014_5254001ffb06row5_col14\" class=\"data row5 col14\" >0.138685</td>\n",
       "                        <td id=\"T_66d16690_eb9e_11ea_b014_5254001ffb06row5_col15\" class=\"data row5 col15\" >-0.448496</td>\n",
       "                        <td id=\"T_66d16690_eb9e_11ea_b014_5254001ffb06row5_col16\" class=\"data row5 col16\" >0.639479</td>\n",
       "            </tr>\n",
       "            <tr>\n",
       "                        <th id=\"T_66d16690_eb9e_11ea_b014_5254001ffb06level0_row6\" class=\"row_heading level0 row6\" >Workplace_closing</th>\n",
       "                        <td id=\"T_66d16690_eb9e_11ea_b014_5254001ffb06row6_col0\" class=\"data row6 col0\" >-0.086262</td>\n",
       "                        <td id=\"T_66d16690_eb9e_11ea_b014_5254001ffb06row6_col1\" class=\"data row6 col1\" >0.305704</td>\n",
       "                        <td id=\"T_66d16690_eb9e_11ea_b014_5254001ffb06row6_col2\" class=\"data row6 col2\" >0.370443</td>\n",
       "                        <td id=\"T_66d16690_eb9e_11ea_b014_5254001ffb06row6_col3\" class=\"data row6 col3\" >0.093245</td>\n",
       "                        <td id=\"T_66d16690_eb9e_11ea_b014_5254001ffb06row6_col4\" class=\"data row6 col4\" >-0.096115</td>\n",
       "                        <td id=\"T_66d16690_eb9e_11ea_b014_5254001ffb06row6_col5\" class=\"data row6 col5\" >0.601139</td>\n",
       "                        <td id=\"T_66d16690_eb9e_11ea_b014_5254001ffb06row6_col6\" class=\"data row6 col6\" >1.000000</td>\n",
       "                        <td id=\"T_66d16690_eb9e_11ea_b014_5254001ffb06row6_col7\" class=\"data row6 col7\" >0.426650</td>\n",
       "                        <td id=\"T_66d16690_eb9e_11ea_b014_5254001ffb06row6_col8\" class=\"data row6 col8\" >0.399855</td>\n",
       "                        <td id=\"T_66d16690_eb9e_11ea_b014_5254001ffb06row6_col9\" class=\"data row6 col9\" >0.564744</td>\n",
       "                        <td id=\"T_66d16690_eb9e_11ea_b014_5254001ffb06row6_col10\" class=\"data row6 col10\" >0.549393</td>\n",
       "                        <td id=\"T_66d16690_eb9e_11ea_b014_5254001ffb06row6_col11\" class=\"data row6 col11\" >0.474723</td>\n",
       "                        <td id=\"T_66d16690_eb9e_11ea_b014_5254001ffb06row6_col12\" class=\"data row6 col12\" >0.227161</td>\n",
       "                        <td id=\"T_66d16690_eb9e_11ea_b014_5254001ffb06row6_col13\" class=\"data row6 col13\" >-0.004421</td>\n",
       "                        <td id=\"T_66d16690_eb9e_11ea_b014_5254001ffb06row6_col14\" class=\"data row6 col14\" >0.045831</td>\n",
       "                        <td id=\"T_66d16690_eb9e_11ea_b014_5254001ffb06row6_col15\" class=\"data row6 col15\" >-0.480155</td>\n",
       "                        <td id=\"T_66d16690_eb9e_11ea_b014_5254001ffb06row6_col16\" class=\"data row6 col16\" >0.763735</td>\n",
       "            </tr>\n",
       "            <tr>\n",
       "                        <th id=\"T_66d16690_eb9e_11ea_b014_5254001ffb06level0_row7\" class=\"row_heading level0 row7\" >Cancel_events</th>\n",
       "                        <td id=\"T_66d16690_eb9e_11ea_b014_5254001ffb06row7_col0\" class=\"data row7 col0\" >0.053188</td>\n",
       "                        <td id=\"T_66d16690_eb9e_11ea_b014_5254001ffb06row7_col1\" class=\"data row7 col1\" >0.126920</td>\n",
       "                        <td id=\"T_66d16690_eb9e_11ea_b014_5254001ffb06row7_col2\" class=\"data row7 col2\" >0.018369</td>\n",
       "                        <td id=\"T_66d16690_eb9e_11ea_b014_5254001ffb06row7_col3\" class=\"data row7 col3\" >-0.164816</td>\n",
       "                        <td id=\"T_66d16690_eb9e_11ea_b014_5254001ffb06row7_col4\" class=\"data row7 col4\" >-0.175650</td>\n",
       "                        <td id=\"T_66d16690_eb9e_11ea_b014_5254001ffb06row7_col5\" class=\"data row7 col5\" >0.340259</td>\n",
       "                        <td id=\"T_66d16690_eb9e_11ea_b014_5254001ffb06row7_col6\" class=\"data row7 col6\" >0.426650</td>\n",
       "                        <td id=\"T_66d16690_eb9e_11ea_b014_5254001ffb06row7_col7\" class=\"data row7 col7\" >1.000000</td>\n",
       "                        <td id=\"T_66d16690_eb9e_11ea_b014_5254001ffb06row7_col8\" class=\"data row7 col8\" >0.542583</td>\n",
       "                        <td id=\"T_66d16690_eb9e_11ea_b014_5254001ffb06row7_col9\" class=\"data row7 col9\" >0.355201</td>\n",
       "                        <td id=\"T_66d16690_eb9e_11ea_b014_5254001ffb06row7_col10\" class=\"data row7 col10\" >0.492722</td>\n",
       "                        <td id=\"T_66d16690_eb9e_11ea_b014_5254001ffb06row7_col11\" class=\"data row7 col11\" >0.359711</td>\n",
       "                        <td id=\"T_66d16690_eb9e_11ea_b014_5254001ffb06row7_col12\" class=\"data row7 col12\" >-0.018802</td>\n",
       "                        <td id=\"T_66d16690_eb9e_11ea_b014_5254001ffb06row7_col13\" class=\"data row7 col13\" >-0.016105</td>\n",
       "                        <td id=\"T_66d16690_eb9e_11ea_b014_5254001ffb06row7_col14\" class=\"data row7 col14\" >0.201653</td>\n",
       "                        <td id=\"T_66d16690_eb9e_11ea_b014_5254001ffb06row7_col15\" class=\"data row7 col15\" >-0.165155</td>\n",
       "                        <td id=\"T_66d16690_eb9e_11ea_b014_5254001ffb06row7_col16\" class=\"data row7 col16\" >0.548951</td>\n",
       "            </tr>\n",
       "            <tr>\n",
       "                        <th id=\"T_66d16690_eb9e_11ea_b014_5254001ffb06level0_row8\" class=\"row_heading level0 row8\" >Gatherings_restrictions</th>\n",
       "                        <td id=\"T_66d16690_eb9e_11ea_b014_5254001ffb06row8_col0\" class=\"data row8 col0\" >0.166421</td>\n",
       "                        <td id=\"T_66d16690_eb9e_11ea_b014_5254001ffb06row8_col1\" class=\"data row8 col1\" >-0.211511</td>\n",
       "                        <td id=\"T_66d16690_eb9e_11ea_b014_5254001ffb06row8_col2\" class=\"data row8 col2\" >0.013068</td>\n",
       "                        <td id=\"T_66d16690_eb9e_11ea_b014_5254001ffb06row8_col3\" class=\"data row8 col3\" >-0.157719</td>\n",
       "                        <td id=\"T_66d16690_eb9e_11ea_b014_5254001ffb06row8_col4\" class=\"data row8 col4\" >-0.487696</td>\n",
       "                        <td id=\"T_66d16690_eb9e_11ea_b014_5254001ffb06row8_col5\" class=\"data row8 col5\" >0.103227</td>\n",
       "                        <td id=\"T_66d16690_eb9e_11ea_b014_5254001ffb06row8_col6\" class=\"data row8 col6\" >0.399855</td>\n",
       "                        <td id=\"T_66d16690_eb9e_11ea_b014_5254001ffb06row8_col7\" class=\"data row8 col7\" >0.542583</td>\n",
       "                        <td id=\"T_66d16690_eb9e_11ea_b014_5254001ffb06row8_col8\" class=\"data row8 col8\" >1.000000</td>\n",
       "                        <td id=\"T_66d16690_eb9e_11ea_b014_5254001ffb06row8_col9\" class=\"data row8 col9\" >0.590693</td>\n",
       "                        <td id=\"T_66d16690_eb9e_11ea_b014_5254001ffb06row8_col10\" class=\"data row8 col10\" >0.581457</td>\n",
       "                        <td id=\"T_66d16690_eb9e_11ea_b014_5254001ffb06row8_col11\" class=\"data row8 col11\" >0.612502</td>\n",
       "                        <td id=\"T_66d16690_eb9e_11ea_b014_5254001ffb06row8_col12\" class=\"data row8 col12\" >0.067916</td>\n",
       "                        <td id=\"T_66d16690_eb9e_11ea_b014_5254001ffb06row8_col13\" class=\"data row8 col13\" >0.065219</td>\n",
       "                        <td id=\"T_66d16690_eb9e_11ea_b014_5254001ffb06row8_col14\" class=\"data row8 col14\" >0.398819</td>\n",
       "                        <td id=\"T_66d16690_eb9e_11ea_b014_5254001ffb06row8_col15\" class=\"data row8 col15\" >-0.264178</td>\n",
       "                        <td id=\"T_66d16690_eb9e_11ea_b014_5254001ffb06row8_col16\" class=\"data row8 col16\" >0.577143</td>\n",
       "            </tr>\n",
       "            <tr>\n",
       "                        <th id=\"T_66d16690_eb9e_11ea_b014_5254001ffb06level0_row9\" class=\"row_heading level0 row9\" >Transport_closing</th>\n",
       "                        <td id=\"T_66d16690_eb9e_11ea_b014_5254001ffb06row9_col0\" class=\"data row9 col0\" >-0.113998</td>\n",
       "                        <td id=\"T_66d16690_eb9e_11ea_b014_5254001ffb06row9_col1\" class=\"data row9 col1\" >-0.078652</td>\n",
       "                        <td id=\"T_66d16690_eb9e_11ea_b014_5254001ffb06row9_col2\" class=\"data row9 col2\" >0.163328</td>\n",
       "                        <td id=\"T_66d16690_eb9e_11ea_b014_5254001ffb06row9_col3\" class=\"data row9 col3\" >0.021380</td>\n",
       "                        <td id=\"T_66d16690_eb9e_11ea_b014_5254001ffb06row9_col4\" class=\"data row9 col4\" >-0.177777</td>\n",
       "                        <td id=\"T_66d16690_eb9e_11ea_b014_5254001ffb06row9_col5\" class=\"data row9 col5\" >0.417135</td>\n",
       "                        <td id=\"T_66d16690_eb9e_11ea_b014_5254001ffb06row9_col6\" class=\"data row9 col6\" >0.564744</td>\n",
       "                        <td id=\"T_66d16690_eb9e_11ea_b014_5254001ffb06row9_col7\" class=\"data row9 col7\" >0.355201</td>\n",
       "                        <td id=\"T_66d16690_eb9e_11ea_b014_5254001ffb06row9_col8\" class=\"data row9 col8\" >0.590693</td>\n",
       "                        <td id=\"T_66d16690_eb9e_11ea_b014_5254001ffb06row9_col9\" class=\"data row9 col9\" >1.000000</td>\n",
       "                        <td id=\"T_66d16690_eb9e_11ea_b014_5254001ffb06row9_col10\" class=\"data row9 col10\" >0.630306</td>\n",
       "                        <td id=\"T_66d16690_eb9e_11ea_b014_5254001ffb06row9_col11\" class=\"data row9 col11\" >0.813517</td>\n",
       "                        <td id=\"T_66d16690_eb9e_11ea_b014_5254001ffb06row9_col12\" class=\"data row9 col12\" >0.235435</td>\n",
       "                        <td id=\"T_66d16690_eb9e_11ea_b014_5254001ffb06row9_col13\" class=\"data row9 col13\" >-0.103279</td>\n",
       "                        <td id=\"T_66d16690_eb9e_11ea_b014_5254001ffb06row9_col14\" class=\"data row9 col14\" >0.325688</td>\n",
       "                        <td id=\"T_66d16690_eb9e_11ea_b014_5254001ffb06row9_col15\" class=\"data row9 col15\" >-0.324480</td>\n",
       "                        <td id=\"T_66d16690_eb9e_11ea_b014_5254001ffb06row9_col16\" class=\"data row9 col16\" >0.749091</td>\n",
       "            </tr>\n",
       "            <tr>\n",
       "                        <th id=\"T_66d16690_eb9e_11ea_b014_5254001ffb06level0_row10\" class=\"row_heading level0 row10\" >Stay_home_restrictions</th>\n",
       "                        <td id=\"T_66d16690_eb9e_11ea_b014_5254001ffb06row10_col0\" class=\"data row10 col0\" >-0.049364</td>\n",
       "                        <td id=\"T_66d16690_eb9e_11ea_b014_5254001ffb06row10_col1\" class=\"data row10 col1\" >-0.034682</td>\n",
       "                        <td id=\"T_66d16690_eb9e_11ea_b014_5254001ffb06row10_col2\" class=\"data row10 col2\" >0.160800</td>\n",
       "                        <td id=\"T_66d16690_eb9e_11ea_b014_5254001ffb06row10_col3\" class=\"data row10 col3\" >0.027856</td>\n",
       "                        <td id=\"T_66d16690_eb9e_11ea_b014_5254001ffb06row10_col4\" class=\"data row10 col4\" >-0.138315</td>\n",
       "                        <td id=\"T_66d16690_eb9e_11ea_b014_5254001ffb06row10_col5\" class=\"data row10 col5\" >0.356016</td>\n",
       "                        <td id=\"T_66d16690_eb9e_11ea_b014_5254001ffb06row10_col6\" class=\"data row10 col6\" >0.549393</td>\n",
       "                        <td id=\"T_66d16690_eb9e_11ea_b014_5254001ffb06row10_col7\" class=\"data row10 col7\" >0.492722</td>\n",
       "                        <td id=\"T_66d16690_eb9e_11ea_b014_5254001ffb06row10_col8\" class=\"data row10 col8\" >0.581457</td>\n",
       "                        <td id=\"T_66d16690_eb9e_11ea_b014_5254001ffb06row10_col9\" class=\"data row10 col9\" >0.630306</td>\n",
       "                        <td id=\"T_66d16690_eb9e_11ea_b014_5254001ffb06row10_col10\" class=\"data row10 col10\" >1.000000</td>\n",
       "                        <td id=\"T_66d16690_eb9e_11ea_b014_5254001ffb06row10_col11\" class=\"data row10 col11\" >0.646683</td>\n",
       "                        <td id=\"T_66d16690_eb9e_11ea_b014_5254001ffb06row10_col12\" class=\"data row10 col12\" >0.214229</td>\n",
       "                        <td id=\"T_66d16690_eb9e_11ea_b014_5254001ffb06row10_col13\" class=\"data row10 col13\" >0.050842</td>\n",
       "                        <td id=\"T_66d16690_eb9e_11ea_b014_5254001ffb06row10_col14\" class=\"data row10 col14\" >0.336393</td>\n",
       "                        <td id=\"T_66d16690_eb9e_11ea_b014_5254001ffb06row10_col15\" class=\"data row10 col15\" >-0.073903</td>\n",
       "                        <td id=\"T_66d16690_eb9e_11ea_b014_5254001ffb06row10_col16\" class=\"data row10 col16\" >0.727966</td>\n",
       "            </tr>\n",
       "            <tr>\n",
       "                        <th id=\"T_66d16690_eb9e_11ea_b014_5254001ffb06level0_row11\" class=\"row_heading level0 row11\" >Internal_movement_restrictions</th>\n",
       "                        <td id=\"T_66d16690_eb9e_11ea_b014_5254001ffb06row11_col0\" class=\"data row11 col0\" >-0.003957</td>\n",
       "                        <td id=\"T_66d16690_eb9e_11ea_b014_5254001ffb06row11_col1\" class=\"data row11 col1\" >-0.090094</td>\n",
       "                        <td id=\"T_66d16690_eb9e_11ea_b014_5254001ffb06row11_col2\" class=\"data row11 col2\" >0.095619</td>\n",
       "                        <td id=\"T_66d16690_eb9e_11ea_b014_5254001ffb06row11_col3\" class=\"data row11 col3\" >-0.044211</td>\n",
       "                        <td id=\"T_66d16690_eb9e_11ea_b014_5254001ffb06row11_col4\" class=\"data row11 col4\" >-0.320498</td>\n",
       "                        <td id=\"T_66d16690_eb9e_11ea_b014_5254001ffb06row11_col5\" class=\"data row11 col5\" >0.257145</td>\n",
       "                        <td id=\"T_66d16690_eb9e_11ea_b014_5254001ffb06row11_col6\" class=\"data row11 col6\" >0.474723</td>\n",
       "                        <td id=\"T_66d16690_eb9e_11ea_b014_5254001ffb06row11_col7\" class=\"data row11 col7\" >0.359711</td>\n",
       "                        <td id=\"T_66d16690_eb9e_11ea_b014_5254001ffb06row11_col8\" class=\"data row11 col8\" >0.612502</td>\n",
       "                        <td id=\"T_66d16690_eb9e_11ea_b014_5254001ffb06row11_col9\" class=\"data row11 col9\" >0.813517</td>\n",
       "                        <td id=\"T_66d16690_eb9e_11ea_b014_5254001ffb06row11_col10\" class=\"data row11 col10\" >0.646683</td>\n",
       "                        <td id=\"T_66d16690_eb9e_11ea_b014_5254001ffb06row11_col11\" class=\"data row11 col11\" >1.000000</td>\n",
       "                        <td id=\"T_66d16690_eb9e_11ea_b014_5254001ffb06row11_col12\" class=\"data row11 col12\" >0.159290</td>\n",
       "                        <td id=\"T_66d16690_eb9e_11ea_b014_5254001ffb06row11_col13\" class=\"data row11 col13\" >-0.032546</td>\n",
       "                        <td id=\"T_66d16690_eb9e_11ea_b014_5254001ffb06row11_col14\" class=\"data row11 col14\" >0.412172</td>\n",
       "                        <td id=\"T_66d16690_eb9e_11ea_b014_5254001ffb06row11_col15\" class=\"data row11 col15\" >-0.336074</td>\n",
       "                        <td id=\"T_66d16690_eb9e_11ea_b014_5254001ffb06row11_col16\" class=\"data row11 col16\" >0.645046</td>\n",
       "            </tr>\n",
       "            <tr>\n",
       "                        <th id=\"T_66d16690_eb9e_11ea_b014_5254001ffb06level0_row12\" class=\"row_heading level0 row12\" >International_movement_restrictions</th>\n",
       "                        <td id=\"T_66d16690_eb9e_11ea_b014_5254001ffb06row12_col0\" class=\"data row12 col0\" >-0.223769</td>\n",
       "                        <td id=\"T_66d16690_eb9e_11ea_b014_5254001ffb06row12_col1\" class=\"data row12 col1\" >-0.061418</td>\n",
       "                        <td id=\"T_66d16690_eb9e_11ea_b014_5254001ffb06row12_col2\" class=\"data row12 col2\" >0.132916</td>\n",
       "                        <td id=\"T_66d16690_eb9e_11ea_b014_5254001ffb06row12_col3\" class=\"data row12 col3\" >0.202350</td>\n",
       "                        <td id=\"T_66d16690_eb9e_11ea_b014_5254001ffb06row12_col4\" class=\"data row12 col4\" >0.148616</td>\n",
       "                        <td id=\"T_66d16690_eb9e_11ea_b014_5254001ffb06row12_col5\" class=\"data row12 col5\" >0.490395</td>\n",
       "                        <td id=\"T_66d16690_eb9e_11ea_b014_5254001ffb06row12_col6\" class=\"data row12 col6\" >0.227161</td>\n",
       "                        <td id=\"T_66d16690_eb9e_11ea_b014_5254001ffb06row12_col7\" class=\"data row12 col7\" >-0.018802</td>\n",
       "                        <td id=\"T_66d16690_eb9e_11ea_b014_5254001ffb06row12_col8\" class=\"data row12 col8\" >0.067916</td>\n",
       "                        <td id=\"T_66d16690_eb9e_11ea_b014_5254001ffb06row12_col9\" class=\"data row12 col9\" >0.235435</td>\n",
       "                        <td id=\"T_66d16690_eb9e_11ea_b014_5254001ffb06row12_col10\" class=\"data row12 col10\" >0.214229</td>\n",
       "                        <td id=\"T_66d16690_eb9e_11ea_b014_5254001ffb06row12_col11\" class=\"data row12 col11\" >0.159290</td>\n",
       "                        <td id=\"T_66d16690_eb9e_11ea_b014_5254001ffb06row12_col12\" class=\"data row12 col12\" >1.000000</td>\n",
       "                        <td id=\"T_66d16690_eb9e_11ea_b014_5254001ffb06row12_col13\" class=\"data row12 col13\" >0.029705</td>\n",
       "                        <td id=\"T_66d16690_eb9e_11ea_b014_5254001ffb06row12_col14\" class=\"data row12 col14\" >0.064850</td>\n",
       "                        <td id=\"T_66d16690_eb9e_11ea_b014_5254001ffb06row12_col15\" class=\"data row12 col15\" >-0.157846</td>\n",
       "                        <td id=\"T_66d16690_eb9e_11ea_b014_5254001ffb06row12_col16\" class=\"data row12 col16\" >0.498188</td>\n",
       "            </tr>\n",
       "            <tr>\n",
       "                        <th id=\"T_66d16690_eb9e_11ea_b014_5254001ffb06level0_row13\" class=\"row_heading level0 row13\" >Information_campaigns</th>\n",
       "                        <td id=\"T_66d16690_eb9e_11ea_b014_5254001ffb06row13_col0\" class=\"data row13 col0\" >0.019890</td>\n",
       "                        <td id=\"T_66d16690_eb9e_11ea_b014_5254001ffb06row13_col1\" class=\"data row13 col1\" >0.021669</td>\n",
       "                        <td id=\"T_66d16690_eb9e_11ea_b014_5254001ffb06row13_col2\" class=\"data row13 col2\" >-0.120997</td>\n",
       "                        <td id=\"T_66d16690_eb9e_11ea_b014_5254001ffb06row13_col3\" class=\"data row13 col3\" >-0.124486</td>\n",
       "                        <td id=\"T_66d16690_eb9e_11ea_b014_5254001ffb06row13_col4\" class=\"data row13 col4\" >-0.155822</td>\n",
       "                        <td id=\"T_66d16690_eb9e_11ea_b014_5254001ffb06row13_col5\" class=\"data row13 col5\" >-0.040343</td>\n",
       "                        <td id=\"T_66d16690_eb9e_11ea_b014_5254001ffb06row13_col6\" class=\"data row13 col6\" >-0.004421</td>\n",
       "                        <td id=\"T_66d16690_eb9e_11ea_b014_5254001ffb06row13_col7\" class=\"data row13 col7\" >-0.016105</td>\n",
       "                        <td id=\"T_66d16690_eb9e_11ea_b014_5254001ffb06row13_col8\" class=\"data row13 col8\" >0.065219</td>\n",
       "                        <td id=\"T_66d16690_eb9e_11ea_b014_5254001ffb06row13_col9\" class=\"data row13 col9\" >-0.103279</td>\n",
       "                        <td id=\"T_66d16690_eb9e_11ea_b014_5254001ffb06row13_col10\" class=\"data row13 col10\" >0.050842</td>\n",
       "                        <td id=\"T_66d16690_eb9e_11ea_b014_5254001ffb06row13_col11\" class=\"data row13 col11\" >-0.032546</td>\n",
       "                        <td id=\"T_66d16690_eb9e_11ea_b014_5254001ffb06row13_col12\" class=\"data row13 col12\" >0.029705</td>\n",
       "                        <td id=\"T_66d16690_eb9e_11ea_b014_5254001ffb06row13_col13\" class=\"data row13 col13\" >1.000000</td>\n",
       "                        <td id=\"T_66d16690_eb9e_11ea_b014_5254001ffb06row13_col14\" class=\"data row13 col14\" >0.135462</td>\n",
       "                        <td id=\"T_66d16690_eb9e_11ea_b014_5254001ffb06row13_col15\" class=\"data row13 col15\" >0.064041</td>\n",
       "                        <td id=\"T_66d16690_eb9e_11ea_b014_5254001ffb06row13_col16\" class=\"data row13 col16\" >-0.008549</td>\n",
       "            </tr>\n",
       "            <tr>\n",
       "                        <th id=\"T_66d16690_eb9e_11ea_b014_5254001ffb06level0_row14\" class=\"row_heading level0 row14\" >Testing_policy</th>\n",
       "                        <td id=\"T_66d16690_eb9e_11ea_b014_5254001ffb06row14_col0\" class=\"data row14 col0\" >-0.143003</td>\n",
       "                        <td id=\"T_66d16690_eb9e_11ea_b014_5254001ffb06row14_col1\" class=\"data row14 col1\" >-0.534749</td>\n",
       "                        <td id=\"T_66d16690_eb9e_11ea_b014_5254001ffb06row14_col2\" class=\"data row14 col2\" >-0.373487</td>\n",
       "                        <td id=\"T_66d16690_eb9e_11ea_b014_5254001ffb06row14_col3\" class=\"data row14 col3\" >-0.349464</td>\n",
       "                        <td id=\"T_66d16690_eb9e_11ea_b014_5254001ffb06row14_col4\" class=\"data row14 col4\" >-0.375454</td>\n",
       "                        <td id=\"T_66d16690_eb9e_11ea_b014_5254001ffb06row14_col5\" class=\"data row14 col5\" >0.138685</td>\n",
       "                        <td id=\"T_66d16690_eb9e_11ea_b014_5254001ffb06row14_col6\" class=\"data row14 col6\" >0.045831</td>\n",
       "                        <td id=\"T_66d16690_eb9e_11ea_b014_5254001ffb06row14_col7\" class=\"data row14 col7\" >0.201653</td>\n",
       "                        <td id=\"T_66d16690_eb9e_11ea_b014_5254001ffb06row14_col8\" class=\"data row14 col8\" >0.398819</td>\n",
       "                        <td id=\"T_66d16690_eb9e_11ea_b014_5254001ffb06row14_col9\" class=\"data row14 col9\" >0.325688</td>\n",
       "                        <td id=\"T_66d16690_eb9e_11ea_b014_5254001ffb06row14_col10\" class=\"data row14 col10\" >0.336393</td>\n",
       "                        <td id=\"T_66d16690_eb9e_11ea_b014_5254001ffb06row14_col11\" class=\"data row14 col11\" >0.412172</td>\n",
       "                        <td id=\"T_66d16690_eb9e_11ea_b014_5254001ffb06row14_col12\" class=\"data row14 col12\" >0.064850</td>\n",
       "                        <td id=\"T_66d16690_eb9e_11ea_b014_5254001ffb06row14_col13\" class=\"data row14 col13\" >0.135462</td>\n",
       "                        <td id=\"T_66d16690_eb9e_11ea_b014_5254001ffb06row14_col14\" class=\"data row14 col14\" >1.000000</td>\n",
       "                        <td id=\"T_66d16690_eb9e_11ea_b014_5254001ffb06row14_col15\" class=\"data row14 col15\" >0.011692</td>\n",
       "                        <td id=\"T_66d16690_eb9e_11ea_b014_5254001ffb06row14_col16\" class=\"data row14 col16\" >0.024091</td>\n",
       "            </tr>\n",
       "            <tr>\n",
       "                        <th id=\"T_66d16690_eb9e_11ea_b014_5254001ffb06level0_row15\" class=\"row_heading level0 row15\" >Contact_tracing</th>\n",
       "                        <td id=\"T_66d16690_eb9e_11ea_b014_5254001ffb06row15_col0\" class=\"data row15 col0\" >-0.189075</td>\n",
       "                        <td id=\"T_66d16690_eb9e_11ea_b014_5254001ffb06row15_col1\" class=\"data row15 col1\" >-0.084969</td>\n",
       "                        <td id=\"T_66d16690_eb9e_11ea_b014_5254001ffb06row15_col2\" class=\"data row15 col2\" >-0.213594</td>\n",
       "                        <td id=\"T_66d16690_eb9e_11ea_b014_5254001ffb06row15_col3\" class=\"data row15 col3\" >-0.194178</td>\n",
       "                        <td id=\"T_66d16690_eb9e_11ea_b014_5254001ffb06row15_col4\" class=\"data row15 col4\" >0.131575</td>\n",
       "                        <td id=\"T_66d16690_eb9e_11ea_b014_5254001ffb06row15_col5\" class=\"data row15 col5\" >-0.448496</td>\n",
       "                        <td id=\"T_66d16690_eb9e_11ea_b014_5254001ffb06row15_col6\" class=\"data row15 col6\" >-0.480155</td>\n",
       "                        <td id=\"T_66d16690_eb9e_11ea_b014_5254001ffb06row15_col7\" class=\"data row15 col7\" >-0.165155</td>\n",
       "                        <td id=\"T_66d16690_eb9e_11ea_b014_5254001ffb06row15_col8\" class=\"data row15 col8\" >-0.264178</td>\n",
       "                        <td id=\"T_66d16690_eb9e_11ea_b014_5254001ffb06row15_col9\" class=\"data row15 col9\" >-0.324480</td>\n",
       "                        <td id=\"T_66d16690_eb9e_11ea_b014_5254001ffb06row15_col10\" class=\"data row15 col10\" >-0.073903</td>\n",
       "                        <td id=\"T_66d16690_eb9e_11ea_b014_5254001ffb06row15_col11\" class=\"data row15 col11\" >-0.336074</td>\n",
       "                        <td id=\"T_66d16690_eb9e_11ea_b014_5254001ffb06row15_col12\" class=\"data row15 col12\" >-0.157846</td>\n",
       "                        <td id=\"T_66d16690_eb9e_11ea_b014_5254001ffb06row15_col13\" class=\"data row15 col13\" >0.064041</td>\n",
       "                        <td id=\"T_66d16690_eb9e_11ea_b014_5254001ffb06row15_col14\" class=\"data row15 col14\" >0.011692</td>\n",
       "                        <td id=\"T_66d16690_eb9e_11ea_b014_5254001ffb06row15_col15\" class=\"data row15 col15\" >1.000000</td>\n",
       "                        <td id=\"T_66d16690_eb9e_11ea_b014_5254001ffb06row15_col16\" class=\"data row15 col16\" >-0.321465</td>\n",
       "            </tr>\n",
       "            <tr>\n",
       "                        <th id=\"T_66d16690_eb9e_11ea_b014_5254001ffb06level0_row16\" class=\"row_heading level0 row16\" >Stringency_index</th>\n",
       "                        <td id=\"T_66d16690_eb9e_11ea_b014_5254001ffb06row16_col0\" class=\"data row16 col0\" >-0.101301</td>\n",
       "                        <td id=\"T_66d16690_eb9e_11ea_b014_5254001ffb06row16_col1\" class=\"data row16 col1\" >0.236094</td>\n",
       "                        <td id=\"T_66d16690_eb9e_11ea_b014_5254001ffb06row16_col2\" class=\"data row16 col2\" >0.352282</td>\n",
       "                        <td id=\"T_66d16690_eb9e_11ea_b014_5254001ffb06row16_col3\" class=\"data row16 col3\" >0.144503</td>\n",
       "                        <td id=\"T_66d16690_eb9e_11ea_b014_5254001ffb06row16_col4\" class=\"data row16 col4\" >-0.046976</td>\n",
       "                        <td id=\"T_66d16690_eb9e_11ea_b014_5254001ffb06row16_col5\" class=\"data row16 col5\" >0.639479</td>\n",
       "                        <td id=\"T_66d16690_eb9e_11ea_b014_5254001ffb06row16_col6\" class=\"data row16 col6\" >0.763735</td>\n",
       "                        <td id=\"T_66d16690_eb9e_11ea_b014_5254001ffb06row16_col7\" class=\"data row16 col7\" >0.548951</td>\n",
       "                        <td id=\"T_66d16690_eb9e_11ea_b014_5254001ffb06row16_col8\" class=\"data row16 col8\" >0.577143</td>\n",
       "                        <td id=\"T_66d16690_eb9e_11ea_b014_5254001ffb06row16_col9\" class=\"data row16 col9\" >0.749091</td>\n",
       "                        <td id=\"T_66d16690_eb9e_11ea_b014_5254001ffb06row16_col10\" class=\"data row16 col10\" >0.727966</td>\n",
       "                        <td id=\"T_66d16690_eb9e_11ea_b014_5254001ffb06row16_col11\" class=\"data row16 col11\" >0.645046</td>\n",
       "                        <td id=\"T_66d16690_eb9e_11ea_b014_5254001ffb06row16_col12\" class=\"data row16 col12\" >0.498188</td>\n",
       "                        <td id=\"T_66d16690_eb9e_11ea_b014_5254001ffb06row16_col13\" class=\"data row16 col13\" >-0.008549</td>\n",
       "                        <td id=\"T_66d16690_eb9e_11ea_b014_5254001ffb06row16_col14\" class=\"data row16 col14\" >0.024091</td>\n",
       "                        <td id=\"T_66d16690_eb9e_11ea_b014_5254001ffb06row16_col15\" class=\"data row16 col15\" >-0.321465</td>\n",
       "                        <td id=\"T_66d16690_eb9e_11ea_b014_5254001ffb06row16_col16\" class=\"data row16 col16\" >1.000000</td>\n",
       "            </tr>\n",
       "    </tbody></table>"
      ],
      "text/plain": [
       "<pandas.io.formats.style.Styler at 0x7f0a3d34e9d0>"
      ]
     },
     "execution_count": 21,
     "metadata": {},
     "output_type": "execute_result"
    }
   ],
   "source": [
    "# Correlation\n",
    "df = track_df.copy()\n",
    "df.corr().style.background_gradient(axis=None)"
   ]
  },
  {
   "cell_type": "code",
   "execution_count": 22,
   "metadata": {
    "collapsed": false
   },
   "outputs": [
    {
     "data": {
      "image/png": "[encoded data removed]",
      "text/plain": [
       "<Figure size 432x288 with 1 Axes>"
      ]
     },
     "metadata": {},
     "output_type": "display_data"
    }
   ],
   "source": [
    "# Scatter plot of Stringency index and Rt\n",
    "df = track_df.copy()\n",
    "sns.scatterplot(data=df, x=\"Stringency_index\", y=\"Rt\", hue=\"Country\", legend=\"brief\", marker=\"+\")\n",
    "bbox_to_anchor=(1.02, 0)\n",
    "bbox_loc=\"lower left\"\n",
    "plt.legend(bbox_to_anchor=bbox_to_anchor, loc=bbox_loc, borderaxespad=0)\n",
    "plt.title(\"Relationship of Stringency index and reproduction number\")\n",
    "plt.ylabel(\"Reproduction number\")\n",
    "plt.xlabel(\"Stringency index\")\n",
    "plt.show()"
   ]
  }
 ],
 "metadata": {
  "kernelspec": {
   "display_name": "Python 3.8.2 64-bit ('.venv': venv)",
   "name": "python_defaultSpec_1597669925034"
  },
  "language_info": {
   "codemirror_mode": {
    "name": "ipython",
    "version": 3
   },
   "file_extension": ".py",
   "mimetype": "text/x-python",
   "name": "python",
   "nbconvert_exporter": "python",
   "pygments_lexer": "ipython3",
   "version": "3.8.2-final"
  }
 },
 "nbformat": 4,
 "nbformat_minor": 4
}
