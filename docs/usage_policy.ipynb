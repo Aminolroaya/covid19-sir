{
 "cells": [
  {
   "cell_type": "markdown",
   "metadata": {},
   "source": [
    "# Usage (details: policy measures)\n",
    "Here, we will analyse the relationship of policy measures and parameter values of SIR-derived ODE models. Policy measures are tracked by [Oxford Covid-19 Government Response Tracker (OxCGRT)](https://github.com/OxCGRT/covid-policy-tracker)."
   ]
  },
  {
   "cell_type": "markdown",
   "metadata": {},
   "source": [
    "## Preparation"
   ]
  },
  {
   "cell_type": "code",
   "execution_count": 1,
   "metadata": {
    "collapsed": false
   },
   "outputs": [],
   "source": [
    "# Standard users\n",
    "# !pip install covsirphy\n",
    "# Developers (Note: this notebook is in example directory)\n",
    "import os\n",
    "os.chdir(\"../\")"
   ]
  },
  {
   "cell_type": "code",
   "execution_count": 2,
   "metadata": {
    "collapsed": false
   },
   "outputs": [],
   "source": [
    "from pprint import pprint"
   ]
  },
  {
   "cell_type": "code",
   "execution_count": 3,
   "metadata": {
    "collapsed": false
   },
   "outputs": [
    {
     "data": {
      "text/plain": [
       "'2.8.3'"
      ]
     },
     "execution_count": 3,
     "metadata": {},
     "output_type": "execute_result"
    }
   ],
   "source": [
    "import covsirphy as cs\n",
    "cs.__version__"
   ]
  },
  {
   "cell_type": "code",
   "execution_count": 4,
   "metadata": {
    "collapsed": false,
    "tags": []
   },
   "outputs": [
    {
     "name": "stdout",
     "output_type": "stream",
     "text": [
      "(Secondary source) Guidotti, E., Ardia, D., (2020), \"COVID-19 Data Hub\", Journal of Open Source Software 5(51):2376, doi: 10.21105/joss.02376.\n",
      "We can get Citation list of primary sources with DataLoader(...).covid19dh_citation"
     ]
    },
    {
     "name": "stdout",
     "output_type": "stream",
     "text": [
      "\n"
     ]
    }
   ],
   "source": [
    "# Standard users and developers\n",
    "data_loader = cs.DataLoader(\"input\")\n",
    "# The number of cases (JHU style)\n",
    "jhu_data = data_loader.jhu(verbose=False)\n",
    "# Population in each country\n",
    "population_data = data_loader.population(verbose=False)\n",
    "# Government Response Tracker (OxCGRT)\n",
    "oxcgrt_data = data_loader.oxcgrt(verbose=False)\n",
    "# Description/citation\n",
    "print(oxcgrt_data.citation)"
   ]
  },
  {
   "cell_type": "markdown",
   "metadata": {},
   "source": [
    "## Class for policy measure analysis\n",
    "We will `PolicyMeasures` class to find relationship of policy measures and parameter values of SIR-derived ODE models."
   ]
  },
  {
   "cell_type": "code",
   "execution_count": 5,
   "metadata": {
    "collapsed": false,
    "tags": []
   },
   "outputs": [
    {
     "data": {
      "text/plain": [
       "184"
      ]
     },
     "execution_count": 5,
     "metadata": {},
     "output_type": "execute_result"
    }
   ],
   "source": [
    "# Create analyser with tau value 360 [min] (can be changed)\n",
    "analyser = cs.PolicyMeasures(jhu_data, population_data, oxcgrt_data, tau=360)\n",
    "# The number of registerd countries\n",
    "len(analyser.countries)"
   ]
  },
  {
   "cell_type": "code",
   "execution_count": 6,
   "metadata": {
    "collapsed": false
   },
   "outputs": [
    {
     "data": {
      "text/plain": [
       "covsirphy.analysis.scenario.Scenario"
      ]
     },
     "execution_count": 6,
     "metadata": {},
     "output_type": "execute_result"
    }
   ],
   "source": [
    "# We can get Scenario instance for detailed scenario analysis\n",
    "type(analyser.scenario(\"Japan\"))"
   ]
  },
  {
   "cell_type": "markdown",
   "metadata": {},
   "source": [
    "## Set phases with S-R trend analysis\n",
    "We will perform S-R trend analysis to set phases in all countries. Countries which do not have **12th phases** will be un-registered for the next analysis. This number will be adjusted for your analysis."
   ]
  },
  {
   "cell_type": "code",
   "execution_count": 7,
   "metadata": {
    "collapsed": false
   },
   "outputs": [
    {
     "name": "stdout",
     "output_type": "stream",
     "text": [
      "{"
     ]
    },
    {
     "name": "stdout",
     "output_type": "stream",
     "text": [
      "4"
     ]
    },
    {
     "name": "stdout",
     "output_type": "stream",
     "text": [
      ": "
     ]
    },
    {
     "name": "stdout",
     "output_type": "stream",
     "text": [
      "['Georgia', 'Fiji', 'Myanmar', 'Tanzania']"
     ]
    },
    {
     "name": "stdout",
     "output_type": "stream",
     "text": [
      ",\n",
      " "
     ]
    },
    {
     "name": "stdout",
     "output_type": "stream",
     "text": [
      "5"
     ]
    },
    {
     "name": "stdout",
     "output_type": "stream",
     "text": [
      ": "
     ]
    },
    {
     "name": "stdout",
     "output_type": "stream",
     "text": [
      "["
     ]
    },
    {
     "name": "stdout",
     "output_type": "stream",
     "text": [
      "'Hungary'"
     ]
    },
    {
     "name": "stdout",
     "output_type": "stream",
     "text": [
      ", "
     ]
    },
    {
     "name": "stdout",
     "output_type": "stream",
     "text": [
      "'Jordan'"
     ]
    },
    {
     "name": "stdout",
     "output_type": "stream",
     "text": [
      ", "
     ]
    },
    {
     "name": "stdout",
     "output_type": "stream",
     "text": [
      "'Papua New Guinea'"
     ]
    },
    {
     "name": "stdout",
     "output_type": "stream",
     "text": [
      ", "
     ]
    },
    {
     "name": "stdout",
     "output_type": "stream",
     "text": [
      "'Brunei'"
     ]
    },
    {
     "name": "stdout",
     "output_type": "stream",
     "text": [
      ", "
     ]
    },
    {
     "name": "stdout",
     "output_type": "stream",
     "text": [
      "'Dominica'"
     ]
    },
    {
     "name": "stdout",
     "output_type": "stream",
     "text": [
      ",\n",
      "     "
     ]
    },
    {
     "name": "stdout",
     "output_type": "stream",
     "text": [
      "'Antigua and Barbuda'"
     ]
    },
    {
     "name": "stdout",
     "output_type": "stream",
     "text": [
      ", "
     ]
    },
    {
     "name": "stdout",
     "output_type": "stream",
     "text": [
      "'Seychelles'"
     ]
    },
    {
     "name": "stdout",
     "output_type": "stream",
     "text": [
      ", "
     ]
    },
    {
     "name": "stdout",
     "output_type": "stream",
     "text": [
      "'Tunisia'"
     ]
    },
    {
     "name": "stdout",
     "output_type": "stream",
     "text": [
      ", "
     ]
    },
    {
     "name": "stdout",
     "output_type": "stream",
     "text": [
      "'Grenada'"
     ]
    },
    {
     "name": "stdout",
     "output_type": "stream",
     "text": [
      "]"
     ]
    },
    {
     "name": "stdout",
     "output_type": "stream",
     "text": [
      ",\n",
      " "
     ]
    },
    {
     "name": "stdout",
     "output_type": "stream",
     "text": [
      "6"
     ]
    },
    {
     "name": "stdout",
     "output_type": "stream",
     "text": [
      ": "
     ]
    },
    {
     "name": "stdout",
     "output_type": "stream",
     "text": [
      "["
     ]
    },
    {
     "name": "stdout",
     "output_type": "stream",
     "text": [
      "'Spain'"
     ]
    },
    {
     "name": "stdout",
     "output_type": "stream",
     "text": [
      ", "
     ]
    },
    {
     "name": "stdout",
     "output_type": "stream",
     "text": [
      "'Guyana'"
     ]
    },
    {
     "name": "stdout",
     "output_type": "stream",
     "text": [
      ", "
     ]
    },
    {
     "name": "stdout",
     "output_type": "stream",
     "text": [
      "'Gambia'"
     ]
    },
    {
     "name": "stdout",
     "output_type": "stream",
     "text": [
      ", "
     ]
    },
    {
     "name": "stdout",
     "output_type": "stream",
     "text": [
      "'Kosovo'"
     ]
    },
    {
     "name": "stdout",
     "output_type": "stream",
     "text": [
      ", "
     ]
    },
    {
     "name": "stdout",
     "output_type": "stream",
     "text": [
      "'Libya'"
     ]
    },
    {
     "name": "stdout",
     "output_type": "stream",
     "text": [
      ", "
     ]
    },
    {
     "name": "stdout",
     "output_type": "stream",
     "text": [
      "'Lesotho'"
     ]
    },
    {
     "name": "stdout",
     "output_type": "stream",
     "text": [
      ", "
     ]
    },
    {
     "name": "stdout",
     "output_type": "stream",
     "text": [
      "'Mauritius'"
     ]
    },
    {
     "name": "stdout",
     "output_type": "stream",
     "text": [
      ",\n",
      "     "
     ]
    },
    {
     "name": "stdout",
     "output_type": "stream",
     "text": [
      "'Yemen'"
     ]
    },
    {
     "name": "stdout",
     "output_type": "stream",
     "text": [
      ", "
     ]
    },
    {
     "name": "stdout",
     "output_type": "stream",
     "text": [
      "'Belize'"
     ]
    },
    {
     "name": "stdout",
     "output_type": "stream",
     "text": [
      ", "
     ]
    },
    {
     "name": "stdout",
     "output_type": "stream",
     "text": [
      "'Burundi'"
     ]
    },
    {
     "name": "stdout",
     "output_type": "stream",
     "text": [
      ", "
     ]
    },
    {
     "name": "stdout",
     "output_type": "stream",
     "text": [
      "'Trinidad and Tobago'"
     ]
    },
    {
     "name": "stdout",
     "output_type": "stream",
     "text": [
      ", "
     ]
    },
    {
     "name": "stdout",
     "output_type": "stream",
     "text": [
      "'Andorra'"
     ]
    },
    {
     "name": "stdout",
     "output_type": "stream",
     "text": [
      ", "
     ]
    },
    {
     "name": "stdout",
     "output_type": "stream",
     "text": [
      "'Uganda'"
     ]
    },
    {
     "name": "stdout",
     "output_type": "stream",
     "text": [
      ",\n",
      "     "
     ]
    },
    {
     "name": "stdout",
     "output_type": "stream",
     "text": [
      "'Ireland'"
     ]
    },
    {
     "name": "stdout",
     "output_type": "stream",
     "text": [
      ", "
     ]
    },
    {
     "name": "stdout",
     "output_type": "stream",
     "text": [
      "'Kyrgyzstan'"
     ]
    },
    {
     "name": "stdout",
     "output_type": "stream",
     "text": [
      ", "
     ]
    },
    {
     "name": "stdout",
     "output_type": "stream",
     "text": [
      "'Jamaica'"
     ]
    },
    {
     "name": "stdout",
     "output_type": "stream",
     "text": [
      ", "
     ]
    },
    {
     "name": "stdout",
     "output_type": "stream",
     "text": [
      "'Equatorial Guinea'"
     ]
    },
    {
     "name": "stdout",
     "output_type": "stream",
     "text": [
      ",\n",
      "     "
     ]
    },
    {
     "name": "stdout",
     "output_type": "stream",
     "text": [
      "'Czech Republic'"
     ]
    },
    {
     "name": "stdout",
     "output_type": "stream",
     "text": [
      "]"
     ]
    },
    {
     "name": "stdout",
     "output_type": "stream",
     "text": [
      ",\n",
      " "
     ]
    },
    {
     "name": "stdout",
     "output_type": "stream",
     "text": [
      "7"
     ]
    },
    {
     "name": "stdout",
     "output_type": "stream",
     "text": [
      ": "
     ]
    },
    {
     "name": "stdout",
     "output_type": "stream",
     "text": [
      "["
     ]
    },
    {
     "name": "stdout",
     "output_type": "stream",
     "text": [
      "'Saint Vincent and the Grenadines'"
     ]
    },
    {
     "name": "stdout",
     "output_type": "stream",
     "text": [
      ", "
     ]
    },
    {
     "name": "stdout",
     "output_type": "stream",
     "text": [
      "'Cyprus'"
     ]
    },
    {
     "name": "stdout",
     "output_type": "stream",
     "text": [
      ", "
     ]
    },
    {
     "name": "stdout",
     "output_type": "stream",
     "text": [
      "'Cambodia'"
     ]
    },
    {
     "name": "stdout",
     "output_type": "stream",
     "text": [
      ", "
     ]
    },
    {
     "name": "stdout",
     "output_type": "stream",
     "text": [
      "'Monaco'"
     ]
    },
    {
     "name": "stdout",
     "output_type": "stream",
     "text": [
      ",\n",
      "     "
     ]
    },
    {
     "name": "stdout",
     "output_type": "stream",
     "text": [
      "'Mozambique'"
     ]
    },
    {
     "name": "stdout",
     "output_type": "stream",
     "text": [
      ", "
     ]
    },
    {
     "name": "stdout",
     "output_type": "stream",
     "text": [
      "'Rwanda'"
     ]
    },
    {
     "name": "stdout",
     "output_type": "stream",
     "text": [
      ", "
     ]
    },
    {
     "name": "stdout",
     "output_type": "stream",
     "text": [
      "'Eritrea'"
     ]
    },
    {
     "name": "stdout",
     "output_type": "stream",
     "text": [
      ", "
     ]
    },
    {
     "name": "stdout",
     "output_type": "stream",
     "text": [
      "'Colombia'"
     ]
    },
    {
     "name": "stdout",
     "output_type": "stream",
     "text": [
      ", "
     ]
    },
    {
     "name": "stdout",
     "output_type": "stream",
     "text": [
      "'Bahamas'"
     ]
    },
    {
     "name": "stdout",
     "output_type": "stream",
     "text": [
      ", "
     ]
    },
    {
     "name": "stdout",
     "output_type": "stream",
     "text": [
      "'Botswana'"
     ]
    },
    {
     "name": "stdout",
     "output_type": "stream",
     "text": [
      ",\n",
      "     "
     ]
    },
    {
     "name": "stdout",
     "output_type": "stream",
     "text": [
      "'Israel'"
     ]
    },
    {
     "name": "stdout",
     "output_type": "stream",
     "text": [
      ", "
     ]
    },
    {
     "name": "stdout",
     "output_type": "stream",
     "text": [
      "'Namibia'"
     ]
    },
    {
     "name": "stdout",
     "output_type": "stream",
     "text": [
      ", "
     ]
    },
    {
     "name": "stdout",
     "output_type": "stream",
     "text": [
      "'Netherlands'"
     ]
    },
    {
     "name": "stdout",
     "output_type": "stream",
     "text": [
      ", "
     ]
    },
    {
     "name": "stdout",
     "output_type": "stream",
     "text": [
      "'Guinea-Bissau'"
     ]
    },
    {
     "name": "stdout",
     "output_type": "stream",
     "text": [
      ", "
     ]
    },
    {
     "name": "stdout",
     "output_type": "stream",
     "text": [
      "'Vietnam'"
     ]
    },
    {
     "name": "stdout",
     "output_type": "stream",
     "text": [
      ",\n",
      "     "
     ]
    },
    {
     "name": "stdout",
     "output_type": "stream",
     "text": [
      "'South Sudan'"
     ]
    },
    {
     "name": "stdout",
     "output_type": "stream",
     "text": [
      ", "
     ]
    },
    {
     "name": "stdout",
     "output_type": "stream",
     "text": [
      "'Comoros'"
     ]
    },
    {
     "name": "stdout",
     "output_type": "stream",
     "text": [
      ", "
     ]
    },
    {
     "name": "stdout",
     "output_type": "stream",
     "text": [
      "'Angola'"
     ]
    },
    {
     "name": "stdout",
     "output_type": "stream",
     "text": [
      ", "
     ]
    },
    {
     "name": "stdout",
     "output_type": "stream",
     "text": [
      "'Paraguay'"
     ]
    },
    {
     "name": "stdout",
     "output_type": "stream",
     "text": [
      ", "
     ]
    },
    {
     "name": "stdout",
     "output_type": "stream",
     "text": [
      "'New Zealand'"
     ]
    },
    {
     "name": "stdout",
     "output_type": "stream",
     "text": [
      ", "
     ]
    },
    {
     "name": "stdout",
     "output_type": "stream",
     "text": [
      "'Slovenia'"
     ]
    },
    {
     "name": "stdout",
     "output_type": "stream",
     "text": [
      ",\n",
      "     "
     ]
    },
    {
     "name": "stdout",
     "output_type": "stream",
     "text": [
      "'Australia'"
     ]
    },
    {
     "name": "stdout",
     "output_type": "stream",
     "text": [
      ", "
     ]
    },
    {
     "name": "stdout",
     "output_type": "stream",
     "text": [
      "'Nepal'"
     ]
    },
    {
     "name": "stdout",
     "output_type": "stream",
     "text": [
      ", "
     ]
    },
    {
     "name": "stdout",
     "output_type": "stream",
     "text": [
      "'Lebanon'"
     ]
    },
    {
     "name": "stdout",
     "output_type": "stream",
     "text": [
      ", "
     ]
    },
    {
     "name": "stdout",
     "output_type": "stream",
     "text": [
      "'Central African Republic'"
     ]
    },
    {
     "name": "stdout",
     "output_type": "stream",
     "text": [
      ", "
     ]
    },
    {
     "name": "stdout",
     "output_type": "stream",
     "text": [
      "'Iceland'"
     ]
    },
    {
     "name": "stdout",
     "output_type": "stream",
     "text": [
      ",\n",
      "     "
     ]
    },
    {
     "name": "stdout",
     "output_type": "stream",
     "text": [
      "'Mongolia'"
     ]
    },
    {
     "name": "stdout",
     "output_type": "stream",
     "text": [
      ", "
     ]
    },
    {
     "name": "stdout",
     "output_type": "stream",
     "text": [
      "'Sao Tome and Principe'"
     ]
    },
    {
     "name": "stdout",
     "output_type": "stream",
     "text": [
      ", "
     ]
    },
    {
     "name": "stdout",
     "output_type": "stream",
     "text": [
      "'Slovakia'"
     ]
    },
    {
     "name": "stdout",
     "output_type": "stream",
     "text": [
      ", "
     ]
    },
    {
     "name": "stdout",
     "output_type": "stream",
     "text": [
      "'Malawi'"
     ]
    },
    {
     "name": "stdout",
     "output_type": "stream",
     "text": [
      ", "
     ]
    },
    {
     "name": "stdout",
     "output_type": "stream",
     "text": [
      "'Kazakhstan'"
     ]
    },
    {
     "name": "stdout",
     "output_type": "stream",
     "text": [
      ",\n",
      "     "
     ]
    },
    {
     "name": "stdout",
     "output_type": "stream",
     "text": [
      "'Croatia'"
     ]
    },
    {
     "name": "stdout",
     "output_type": "stream",
     "text": [
      ", "
     ]
    },
    {
     "name": "stdout",
     "output_type": "stream",
     "text": [
      "'Montenegro'"
     ]
    },
    {
     "name": "stdout",
     "output_type": "stream",
     "text": [
      ", "
     ]
    },
    {
     "name": "stdout",
     "output_type": "stream",
     "text": [
      "'Palestine'"
     ]
    },
    {
     "name": "stdout",
     "output_type": "stream",
     "text": [
      ", "
     ]
    },
    {
     "name": "stdout",
     "output_type": "stream",
     "text": [
      "'Luxembourg'"
     ]
    },
    {
     "name": "stdout",
     "output_type": "stream",
     "text": [
      ", "
     ]
    },
    {
     "name": "stdout",
     "output_type": "stream",
     "text": [
      "'Ethiopia'"
     ]
    },
    {
     "name": "stdout",
     "output_type": "stream",
     "text": [
      ",\n",
      "     "
     ]
    },
    {
     "name": "stdout",
     "output_type": "stream",
     "text": [
      "'San Marino'"
     ]
    },
    {
     "name": "stdout",
     "output_type": "stream",
     "text": [
      ", "
     ]
    },
    {
     "name": "stdout",
     "output_type": "stream",
     "text": [
      "'Afghanistan'"
     ]
    },
    {
     "name": "stdout",
     "output_type": "stream",
     "text": [
      "]"
     ]
    },
    {
     "name": "stdout",
     "output_type": "stream",
     "text": [
      ",\n",
      " "
     ]
    },
    {
     "name": "stdout",
     "output_type": "stream",
     "text": [
      "8"
     ]
    },
    {
     "name": "stdout",
     "output_type": "stream",
     "text": [
      ": "
     ]
    },
    {
     "name": "stdout",
     "output_type": "stream",
     "text": [
      "["
     ]
    },
    {
     "name": "stdout",
     "output_type": "stream",
     "text": [
      "'Denmark'"
     ]
    },
    {
     "name": "stdout",
     "output_type": "stream",
     "text": [
      ", "
     ]
    },
    {
     "name": "stdout",
     "output_type": "stream",
     "text": [
      "'Suriname'"
     ]
    },
    {
     "name": "stdout",
     "output_type": "stream",
     "text": [
      ", "
     ]
    },
    {
     "name": "stdout",
     "output_type": "stream",
     "text": [
      "'Norway'"
     ]
    },
    {
     "name": "stdout",
     "output_type": "stream",
     "text": [
      ", "
     ]
    },
    {
     "name": "stdout",
     "output_type": "stream",
     "text": [
      "'Liechtenstein'"
     ]
    },
    {
     "name": "stdout",
     "output_type": "stream",
     "text": [
      ", "
     ]
    },
    {
     "name": "stdout",
     "output_type": "stream",
     "text": [
      "'Morocco'"
     ]
    },
    {
     "name": "stdout",
     "output_type": "stream",
     "text": [
      ", "
     ]
    },
    {
     "name": "stdout",
     "output_type": "stream",
     "text": [
      "'Costa Rica'"
     ]
    },
    {
     "name": "stdout",
     "output_type": "stream",
     "text": [
      ",\n",
      "     "
     ]
    },
    {
     "name": "stdout",
     "output_type": "stream",
     "text": [
      "'Saint Lucia'"
     ]
    },
    {
     "name": "stdout",
     "output_type": "stream",
     "text": [
      ", "
     ]
    },
    {
     "name": "stdout",
     "output_type": "stream",
     "text": [
      "'Djibouti'"
     ]
    },
    {
     "name": "stdout",
     "output_type": "stream",
     "text": [
      ", "
     ]
    },
    {
     "name": "stdout",
     "output_type": "stream",
     "text": [
      "'Chad'"
     ]
    },
    {
     "name": "stdout",
     "output_type": "stream",
     "text": [
      ", "
     ]
    },
    {
     "name": "stdout",
     "output_type": "stream",
     "text": [
      "'Malta'"
     ]
    },
    {
     "name": "stdout",
     "output_type": "stream",
     "text": [
      ", "
     ]
    },
    {
     "name": "stdout",
     "output_type": "stream",
     "text": [
      "'Bhutan'"
     ]
    },
    {
     "name": "stdout",
     "output_type": "stream",
     "text": [
      ", "
     ]
    },
    {
     "name": "stdout",
     "output_type": "stream",
     "text": [
      "'Maldives'"
     ]
    },
    {
     "name": "stdout",
     "output_type": "stream",
     "text": [
      ", "
     ]
    },
    {
     "name": "stdout",
     "output_type": "stream",
     "text": [
      "'Niger'"
     ]
    },
    {
     "name": "stdout",
     "output_type": "stream",
     "text": [
      ",\n",
      "     "
     ]
    },
    {
     "name": "stdout",
     "output_type": "stream",
     "text": [
      "'Zimbabwe'"
     ]
    },
    {
     "name": "stdout",
     "output_type": "stream",
     "text": [
      ", "
     ]
    },
    {
     "name": "stdout",
     "output_type": "stream",
     "text": [
      "'Madagascar'"
     ]
    },
    {
     "name": "stdout",
     "output_type": "stream",
     "text": [
      ", "
     ]
    },
    {
     "name": "stdout",
     "output_type": "stream",
     "text": [
      "'Nicaragua'"
     ]
    },
    {
     "name": "stdout",
     "output_type": "stream",
     "text": [
      ", "
     ]
    },
    {
     "name": "stdout",
     "output_type": "stream",
     "text": [
      "'Sudan'"
     ]
    },
    {
     "name": "stdout",
     "output_type": "stream",
     "text": [
      ", "
     ]
    },
    {
     "name": "stdout",
     "output_type": "stream",
     "text": [
      "'Philippines'"
     ]
    },
    {
     "name": "stdout",
     "output_type": "stream",
     "text": [
      ", "
     ]
    },
    {
     "name": "stdout",
     "output_type": "stream",
     "text": [
      "'Thailand'"
     ]
    },
    {
     "name": "stdout",
     "output_type": "stream",
     "text": [
      ",\n",
      "     "
     ]
    },
    {
     "name": "stdout",
     "output_type": "stream",
     "text": [
      "'Syria'"
     ]
    },
    {
     "name": "stdout",
     "output_type": "stream",
     "text": [
      ", "
     ]
    },
    {
     "name": "stdout",
     "output_type": "stream",
     "text": [
      "'Argentina'"
     ]
    },
    {
     "name": "stdout",
     "output_type": "stream",
     "text": [
      ", "
     ]
    },
    {
     "name": "stdout",
     "output_type": "stream",
     "text": [
      "'Zambia'"
     ]
    },
    {
     "name": "stdout",
     "output_type": "stream",
     "text": [
      ", "
     ]
    },
    {
     "name": "stdout",
     "output_type": "stream",
     "text": [
      "'Kenya'"
     ]
    },
    {
     "name": "stdout",
     "output_type": "stream",
     "text": [
      ", "
     ]
    },
    {
     "name": "stdout",
     "output_type": "stream",
     "text": [
      "'Barbados'"
     ]
    },
    {
     "name": "stdout",
     "output_type": "stream",
     "text": [
      ", "
     ]
    },
    {
     "name": "stdout",
     "output_type": "stream",
     "text": [
      "'Guatemala'"
     ]
    },
    {
     "name": "stdout",
     "output_type": "stream",
     "text": [
      "]"
     ]
    },
    {
     "name": "stdout",
     "output_type": "stream",
     "text": [
      ",\n",
      " "
     ]
    },
    {
     "name": "stdout",
     "output_type": "stream",
     "text": [
      "9"
     ]
    },
    {
     "name": "stdout",
     "output_type": "stream",
     "text": [
      ": "
     ]
    },
    {
     "name": "stdout",
     "output_type": "stream",
     "text": [
      "["
     ]
    },
    {
     "name": "stdout",
     "output_type": "stream",
     "text": [
      "'Sierra Leone'"
     ]
    },
    {
     "name": "stdout",
     "output_type": "stream",
     "text": [
      ", "
     ]
    },
    {
     "name": "stdout",
     "output_type": "stream",
     "text": [
      "'Haiti'"
     ]
    },
    {
     "name": "stdout",
     "output_type": "stream",
     "text": [
      ", "
     ]
    },
    {
     "name": "stdout",
     "output_type": "stream",
     "text": [
      "'Oman'"
     ]
    },
    {
     "name": "stdout",
     "output_type": "stream",
     "text": [
      ", "
     ]
    },
    {
     "name": "stdout",
     "output_type": "stream",
     "text": [
      "'Congo'"
     ]
    },
    {
     "name": "stdout",
     "output_type": "stream",
     "text": [
      ", "
     ]
    },
    {
     "name": "stdout",
     "output_type": "stream",
     "text": [
      "'Uruguay'"
     ]
    },
    {
     "name": "stdout",
     "output_type": "stream",
     "text": [
      ", "
     ]
    },
    {
     "name": "stdout",
     "output_type": "stream",
     "text": [
      "'Cameroon'"
     ]
    },
    {
     "name": "stdout",
     "output_type": "stream",
     "text": [
      ", "
     ]
    },
    {
     "name": "stdout",
     "output_type": "stream",
     "text": [
      "'Liberia'"
     ]
    },
    {
     "name": "stdout",
     "output_type": "stream",
     "text": [
      ",\n",
      "     "
     ]
    },
    {
     "name": "stdout",
     "output_type": "stream",
     "text": [
      "'India'"
     ]
    },
    {
     "name": "stdout",
     "output_type": "stream",
     "text": [
      ", "
     ]
    },
    {
     "name": "stdout",
     "output_type": "stream",
     "text": [
      "'South Africa'"
     ]
    },
    {
     "name": "stdout",
     "output_type": "stream",
     "text": [
      ", "
     ]
    },
    {
     "name": "stdout",
     "output_type": "stream",
     "text": [
      "'Taiwan'"
     ]
    },
    {
     "name": "stdout",
     "output_type": "stream",
     "text": [
      ", "
     ]
    },
    {
     "name": "stdout",
     "output_type": "stream",
     "text": [
      "'Ukraine'"
     ]
    },
    {
     "name": "stdout",
     "output_type": "stream",
     "text": [
      ", "
     ]
    },
    {
     "name": "stdout",
     "output_type": "stream",
     "text": [
      "'Japan'"
     ]
    },
    {
     "name": "stdout",
     "output_type": "stream",
     "text": [
      ", "
     ]
    },
    {
     "name": "stdout",
     "output_type": "stream",
     "text": [
      "'Qatar'"
     ]
    },
    {
     "name": "stdout",
     "output_type": "stream",
     "text": [
      ", "
     ]
    },
    {
     "name": "stdout",
     "output_type": "stream",
     "text": [
      "'Gabon'"
     ]
    },
    {
     "name": "stdout",
     "output_type": "stream",
     "text": [
      ",\n",
      "     "
     ]
    },
    {
     "name": "stdout",
     "output_type": "stream",
     "text": [
      "'Venezuela'"
     ]
    },
    {
     "name": "stdout",
     "output_type": "stream",
     "text": [
      ", "
     ]
    },
    {
     "name": "stdout",
     "output_type": "stream",
     "text": [
      "'Lithuania'"
     ]
    },
    {
     "name": "stdout",
     "output_type": "stream",
     "text": [
      ", "
     ]
    },
    {
     "name": "stdout",
     "output_type": "stream",
     "text": [
      "'Greece'"
     ]
    },
    {
     "name": "stdout",
     "output_type": "stream",
     "text": [
      ", "
     ]
    },
    {
     "name": "stdout",
     "output_type": "stream",
     "text": [
      "'Tajikistan'"
     ]
    },
    {
     "name": "stdout",
     "output_type": "stream",
     "text": [
      ", "
     ]
    },
    {
     "name": "stdout",
     "output_type": "stream",
     "text": [
      "'Ghana'"
     ]
    },
    {
     "name": "stdout",
     "output_type": "stream",
     "text": [
      ", "
     ]
    },
    {
     "name": "stdout",
     "output_type": "stream",
     "text": [
      "'Korea, South'"
     ]
    },
    {
     "name": "stdout",
     "output_type": "stream",
     "text": [
      ",\n",
      "     "
     ]
    },
    {
     "name": "stdout",
     "output_type": "stream",
     "text": [
      "'Austria'"
     ]
    },
    {
     "name": "stdout",
     "output_type": "stream",
     "text": [
      ", "
     ]
    },
    {
     "name": "stdout",
     "output_type": "stream",
     "text": [
      "'Serbia'"
     ]
    },
    {
     "name": "stdout",
     "output_type": "stream",
     "text": [
      ", "
     ]
    },
    {
     "name": "stdout",
     "output_type": "stream",
     "text": [
      "'Bermuda'"
     ]
    },
    {
     "name": "stdout",
     "output_type": "stream",
     "text": [
      ", "
     ]
    },
    {
     "name": "stdout",
     "output_type": "stream",
     "text": [
      "'Benin'"
     ]
    },
    {
     "name": "stdout",
     "output_type": "stream",
     "text": [
      ", "
     ]
    },
    {
     "name": "stdout",
     "output_type": "stream",
     "text": [
      "'Mauritania'"
     ]
    },
    {
     "name": "stdout",
     "output_type": "stream",
     "text": [
      ", "
     ]
    },
    {
     "name": "stdout",
     "output_type": "stream",
     "text": [
      "'Ecuador'"
     ]
    },
    {
     "name": "stdout",
     "output_type": "stream",
     "text": [
      ", "
     ]
    },
    {
     "name": "stdout",
     "output_type": "stream",
     "text": [
      "'China'"
     ]
    },
    {
     "name": "stdout",
     "output_type": "stream",
     "text": [
      ",\n",
      "     "
     ]
    },
    {
     "name": "stdout",
     "output_type": "stream",
     "text": [
      "'Sri Lanka'"
     ]
    },
    {
     "name": "stdout",
     "output_type": "stream",
     "text": [
      ", "
     ]
    },
    {
     "name": "stdout",
     "output_type": "stream",
     "text": [
      "'Indonesia'"
     ]
    },
    {
     "name": "stdout",
     "output_type": "stream",
     "text": [
      "]"
     ]
    },
    {
     "name": "stdout",
     "output_type": "stream",
     "text": [
      ",\n",
      " "
     ]
    },
    {
     "name": "stdout",
     "output_type": "stream",
     "text": [
      "10"
     ]
    },
    {
     "name": "stdout",
     "output_type": "stream",
     "text": [
      ": "
     ]
    },
    {
     "name": "stdout",
     "output_type": "stream",
     "text": [
      "["
     ]
    },
    {
     "name": "stdout",
     "output_type": "stream",
     "text": [
      "'El Salvador'"
     ]
    },
    {
     "name": "stdout",
     "output_type": "stream",
     "text": [
      ", "
     ]
    },
    {
     "name": "stdout",
     "output_type": "stream",
     "text": [
      "'Switzerland'"
     ]
    },
    {
     "name": "stdout",
     "output_type": "stream",
     "text": [
      ", "
     ]
    },
    {
     "name": "stdout",
     "output_type": "stream",
     "text": [
      "'Guinea'"
     ]
    },
    {
     "name": "stdout",
     "output_type": "stream",
     "text": [
      ", "
     ]
    },
    {
     "name": "stdout",
     "output_type": "stream",
     "text": [
      "'Singapore'"
     ]
    },
    {
     "name": "stdout",
     "output_type": "stream",
     "text": [
      ", "
     ]
    },
    {
     "name": "stdout",
     "output_type": "stream",
     "text": [
      "'Pakistan'"
     ]
    },
    {
     "name": "stdout",
     "output_type": "stream",
     "text": [
      ",\n",
      "      "
     ]
    },
    {
     "name": "stdout",
     "output_type": "stream",
     "text": [
      "'Uzbekistan'"
     ]
    },
    {
     "name": "stdout",
     "output_type": "stream",
     "text": [
      ", "
     ]
    },
    {
     "name": "stdout",
     "output_type": "stream",
     "text": [
      "'Swaziland'"
     ]
    },
    {
     "name": "stdout",
     "output_type": "stream",
     "text": [
      ", "
     ]
    },
    {
     "name": "stdout",
     "output_type": "stream",
     "text": [
      "'Azerbaijan'"
     ]
    },
    {
     "name": "stdout",
     "output_type": "stream",
     "text": [
      ", "
     ]
    },
    {
     "name": "stdout",
     "output_type": "stream",
     "text": [
      "'Iraq'"
     ]
    },
    {
     "name": "stdout",
     "output_type": "stream",
     "text": [
      ", "
     ]
    },
    {
     "name": "stdout",
     "output_type": "stream",
     "text": [
      "'Mali'"
     ]
    },
    {
     "name": "stdout",
     "output_type": "stream",
     "text": [
      ", "
     ]
    },
    {
     "name": "stdout",
     "output_type": "stream",
     "text": [
      "'Somalia'"
     ]
    },
    {
     "name": "stdout",
     "output_type": "stream",
     "text": [
      ",\n",
      "      "
     ]
    },
    {
     "name": "stdout",
     "output_type": "stream",
     "text": [
      "'Chile'"
     ]
    },
    {
     "name": "stdout",
     "output_type": "stream",
     "text": [
      ", "
     ]
    },
    {
     "name": "stdout",
     "output_type": "stream",
     "text": [
      "'Germany'"
     ]
    },
    {
     "name": "stdout",
     "output_type": "stream",
     "text": [
      ", "
     ]
    },
    {
     "name": "stdout",
     "output_type": "stream",
     "text": [
      "'Finland'"
     ]
    },
    {
     "name": "stdout",
     "output_type": "stream",
     "text": [
      ", "
     ]
    },
    {
     "name": "stdout",
     "output_type": "stream",
     "text": [
      "'Estonia'"
     ]
    },
    {
     "name": "stdout",
     "output_type": "stream",
     "text": [
      ", "
     ]
    },
    {
     "name": "stdout",
     "output_type": "stream",
     "text": [
      "'Honduras'"
     ]
    },
    {
     "name": "stdout",
     "output_type": "stream",
     "text": [
      ", "
     ]
    },
    {
     "name": "stdout",
     "output_type": "stream",
     "text": [
      "'Poland'"
     ]
    },
    {
     "name": "stdout",
     "output_type": "stream",
     "text": [
      ", "
     ]
    },
    {
     "name": "stdout",
     "output_type": "stream",
     "text": [
      "'Romania'"
     ]
    },
    {
     "name": "stdout",
     "output_type": "stream",
     "text": [
      ",\n",
      "      "
     ]
    },
    {
     "name": "stdout",
     "output_type": "stream",
     "text": [
      "'Cuba'"
     ]
    },
    {
     "name": "stdout",
     "output_type": "stream",
     "text": [
      ", "
     ]
    },
    {
     "name": "stdout",
     "output_type": "stream",
     "text": [
      "'Moldova'"
     ]
    },
    {
     "name": "stdout",
     "output_type": "stream",
     "text": [
      ", "
     ]
    },
    {
     "name": "stdout",
     "output_type": "stream",
     "text": [
      "'Albania'"
     ]
    },
    {
     "name": "stdout",
     "output_type": "stream",
     "text": [
      ", "
     ]
    },
    {
     "name": "stdout",
     "output_type": "stream",
     "text": [
      "'Senegal'"
     ]
    },
    {
     "name": "stdout",
     "output_type": "stream",
     "text": [
      ", "
     ]
    },
    {
     "name": "stdout",
     "output_type": "stream",
     "text": [
      "'Cape Verde'"
     ]
    },
    {
     "name": "stdout",
     "output_type": "stream",
     "text": [
      ", "
     ]
    },
    {
     "name": "stdout",
     "output_type": "stream",
     "text": [
      "'Belarus'"
     ]
    },
    {
     "name": "stdout",
     "output_type": "stream",
     "text": [
      "]"
     ]
    },
    {
     "name": "stdout",
     "output_type": "stream",
     "text": [
      ",\n",
      " "
     ]
    },
    {
     "name": "stdout",
     "output_type": "stream",
     "text": [
      "11"
     ]
    },
    {
     "name": "stdout",
     "output_type": "stream",
     "text": [
      ": "
     ]
    },
    {
     "name": "stdout",
     "output_type": "stream",
     "text": [
      "["
     ]
    },
    {
     "name": "stdout",
     "output_type": "stream",
     "text": [
      "'Canada'"
     ]
    },
    {
     "name": "stdout",
     "output_type": "stream",
     "text": [
      ", "
     ]
    },
    {
     "name": "stdout",
     "output_type": "stream",
     "text": [
      "'Algeria'"
     ]
    },
    {
     "name": "stdout",
     "output_type": "stream",
     "text": [
      ", "
     ]
    },
    {
     "name": "stdout",
     "output_type": "stream",
     "text": [
      "'Panama'"
     ]
    },
    {
     "name": "stdout",
     "output_type": "stream",
     "text": [
      ", "
     ]
    },
    {
     "name": "stdout",
     "output_type": "stream",
     "text": [
      "'Saudi Arabia'"
     ]
    },
    {
     "name": "stdout",
     "output_type": "stream",
     "text": [
      ", "
     ]
    },
    {
     "name": "stdout",
     "output_type": "stream",
     "text": [
      "'Togo'"
     ]
    },
    {
     "name": "stdout",
     "output_type": "stream",
     "text": [
      ", "
     ]
    },
    {
     "name": "stdout",
     "output_type": "stream",
     "text": [
      "'Egypt'"
     ]
    },
    {
     "name": "stdout",
     "output_type": "stream",
     "text": [
      ",\n",
      "      "
     ]
    },
    {
     "name": "stdout",
     "output_type": "stream",
     "text": [
      "'Malaysia'"
     ]
    },
    {
     "name": "stdout",
     "output_type": "stream",
     "text": [
      ", "
     ]
    },
    {
     "name": "stdout",
     "output_type": "stream",
     "text": [
      "'Mexico'"
     ]
    },
    {
     "name": "stdout",
     "output_type": "stream",
     "text": [
      ", "
     ]
    },
    {
     "name": "stdout",
     "output_type": "stream",
     "text": [
      "'Kuwait'"
     ]
    },
    {
     "name": "stdout",
     "output_type": "stream",
     "text": [
      ", "
     ]
    },
    {
     "name": "stdout",
     "output_type": "stream",
     "text": [
      "'Nigeria'"
     ]
    },
    {
     "name": "stdout",
     "output_type": "stream",
     "text": [
      ", "
     ]
    },
    {
     "name": "stdout",
     "output_type": "stream",
     "text": [
      "'Bulgaria'"
     ]
    },
    {
     "name": "stdout",
     "output_type": "stream",
     "text": [
      ", "
     ]
    },
    {
     "name": "stdout",
     "output_type": "stream",
     "text": [
      "'Belgium'"
     ]
    },
    {
     "name": "stdout",
     "output_type": "stream",
     "text": [
      ",\n",
      "      "
     ]
    },
    {
     "name": "stdout",
     "output_type": "stream",
     "text": [
      "'United Arab Emirates'"
     ]
    },
    {
     "name": "stdout",
     "output_type": "stream",
     "text": [
      ", "
     ]
    },
    {
     "name": "stdout",
     "output_type": "stream",
     "text": [
      "'Bangladesh'"
     ]
    },
    {
     "name": "stdout",
     "output_type": "stream",
     "text": [
      ", "
     ]
    },
    {
     "name": "stdout",
     "output_type": "stream",
     "text": [
      "'Dominican Republic'"
     ]
    },
    {
     "name": "stdout",
     "output_type": "stream",
     "text": [
      ", "
     ]
    },
    {
     "name": "stdout",
     "output_type": "stream",
     "text": [
      "'Armenia'"
     ]
    },
    {
     "name": "stdout",
     "output_type": "stream",
     "text": [
      ",\n",
      "      "
     ]
    },
    {
     "name": "stdout",
     "output_type": "stream",
     "text": [
      "'Bosnia and Herzegovina'"
     ]
    },
    {
     "name": "stdout",
     "output_type": "stream",
     "text": [
      ", "
     ]
    },
    {
     "name": "stdout",
     "output_type": "stream",
     "text": [
      "'Peru'"
     ]
    },
    {
     "name": "stdout",
     "output_type": "stream",
     "text": [
      "]"
     ]
    },
    {
     "name": "stdout",
     "output_type": "stream",
     "text": [
      ",\n",
      " "
     ]
    },
    {
     "name": "stdout",
     "output_type": "stream",
     "text": [
      "12"
     ]
    },
    {
     "name": "stdout",
     "output_type": "stream",
     "text": [
      ": "
     ]
    },
    {
     "name": "stdout",
     "output_type": "stream",
     "text": [
      "["
     ]
    },
    {
     "name": "stdout",
     "output_type": "stream",
     "text": [
      "'Burkina Faso'"
     ]
    },
    {
     "name": "stdout",
     "output_type": "stream",
     "text": [
      ", "
     ]
    },
    {
     "name": "stdout",
     "output_type": "stream",
     "text": [
      "'Bahrain'"
     ]
    },
    {
     "name": "stdout",
     "output_type": "stream",
     "text": [
      ", "
     ]
    },
    {
     "name": "stdout",
     "output_type": "stream",
     "text": [
      "'Iran'"
     ]
    },
    {
     "name": "stdout",
     "output_type": "stream",
     "text": [
      ", "
     ]
    },
    {
     "name": "stdout",
     "output_type": "stream",
     "text": [
      "'Portugal'"
     ]
    },
    {
     "name": "stdout",
     "output_type": "stream",
     "text": [
      ", "
     ]
    },
    {
     "name": "stdout",
     "output_type": "stream",
     "text": [
      "'Bolivia'"
     ]
    },
    {
     "name": "stdout",
     "output_type": "stream",
     "text": [
      ", "
     ]
    },
    {
     "name": "stdout",
     "output_type": "stream",
     "text": [
      "'Turkey'"
     ]
    },
    {
     "name": "stdout",
     "output_type": "stream",
     "text": [
      ",\n",
      "      "
     ]
    },
    {
     "name": "stdout",
     "output_type": "stream",
     "text": [
      "'France'"
     ]
    },
    {
     "name": "stdout",
     "output_type": "stream",
     "text": [
      ", "
     ]
    },
    {
     "name": "stdout",
     "output_type": "stream",
     "text": [
      "'Latvia'"
     ]
    },
    {
     "name": "stdout",
     "output_type": "stream",
     "text": [
      ", "
     ]
    },
    {
     "name": "stdout",
     "output_type": "stream",
     "text": [
      "'Italy'"
     ]
    },
    {
     "name": "stdout",
     "output_type": "stream",
     "text": [
      ", "
     ]
    },
    {
     "name": "stdout",
     "output_type": "stream",
     "text": [
      "'Brazil'"
     ]
    },
    {
     "name": "stdout",
     "output_type": "stream",
     "text": [
      ", "
     ]
    },
    {
     "name": "stdout",
     "output_type": "stream",
     "text": [
      "'United States'"
     ]
    },
    {
     "name": "stdout",
     "output_type": "stream",
     "text": [
      ", "
     ]
    },
    {
     "name": "stdout",
     "output_type": "stream",
     "text": [
      "'Macedonia'"
     ]
    },
    {
     "name": "stdout",
     "output_type": "stream",
     "text": [
      "]"
     ]
    },
    {
     "name": "stdout",
     "output_type": "stream",
     "text": [
      ",\n",
      " "
     ]
    },
    {
     "name": "stdout",
     "output_type": "stream",
     "text": [
      "13"
     ]
    },
    {
     "name": "stdout",
     "output_type": "stream",
     "text": [
      ": "
     ]
    },
    {
     "name": "stdout",
     "output_type": "stream",
     "text": [
      "['Russia']"
     ]
    },
    {
     "name": "stdout",
     "output_type": "stream",
     "text": [
      "}"
     ]
    },
    {
     "name": "stdout",
     "output_type": "stream",
     "text": [
      "\n"
     ]
    }
   ],
   "source": [
    "# Show the number of phases of all countries\n",
    "analyser.trend()\n",
    "pprint(analyser.phase_len(), compact=True)"
   ]
  },
  {
   "cell_type": "code",
   "execution_count": 8,
   "metadata": {
    "collapsed": false
   },
   "outputs": [
    {
     "data": {
      "text/plain": [
       "13"
      ]
     },
     "execution_count": 8,
     "metadata": {},
     "output_type": "execute_result"
    }
   ],
   "source": [
    "# Set phases with S-R trend analysis\n",
    "analyser.trend(min_len=12)\n",
    "# The number of countries\n",
    "len(analyser.countries)"
   ]
  },
  {
   "cell_type": "code",
   "execution_count": 9,
   "metadata": {
    "collapsed": false,
    "tags": []
   },
   "outputs": [
    {
     "name": "stdout",
     "output_type": "stream",
     "text": [
      "{"
     ]
    },
    {
     "name": "stdout",
     "output_type": "stream",
     "text": [
      "12"
     ]
    },
    {
     "name": "stdout",
     "output_type": "stream",
     "text": [
      ": "
     ]
    },
    {
     "name": "stdout",
     "output_type": "stream",
     "text": [
      "["
     ]
    },
    {
     "name": "stdout",
     "output_type": "stream",
     "text": [
      "'Burkina Faso'"
     ]
    },
    {
     "name": "stdout",
     "output_type": "stream",
     "text": [
      ", "
     ]
    },
    {
     "name": "stdout",
     "output_type": "stream",
     "text": [
      "'Bahrain'"
     ]
    },
    {
     "name": "stdout",
     "output_type": "stream",
     "text": [
      ", "
     ]
    },
    {
     "name": "stdout",
     "output_type": "stream",
     "text": [
      "'Iran'"
     ]
    },
    {
     "name": "stdout",
     "output_type": "stream",
     "text": [
      ", "
     ]
    },
    {
     "name": "stdout",
     "output_type": "stream",
     "text": [
      "'Portugal'"
     ]
    },
    {
     "name": "stdout",
     "output_type": "stream",
     "text": [
      ", "
     ]
    },
    {
     "name": "stdout",
     "output_type": "stream",
     "text": [
      "'Bolivia'"
     ]
    },
    {
     "name": "stdout",
     "output_type": "stream",
     "text": [
      ", "
     ]
    },
    {
     "name": "stdout",
     "output_type": "stream",
     "text": [
      "'Turkey'"
     ]
    },
    {
     "name": "stdout",
     "output_type": "stream",
     "text": [
      ",\n",
      "      "
     ]
    },
    {
     "name": "stdout",
     "output_type": "stream",
     "text": [
      "'France'"
     ]
    },
    {
     "name": "stdout",
     "output_type": "stream",
     "text": [
      ", "
     ]
    },
    {
     "name": "stdout",
     "output_type": "stream",
     "text": [
      "'Latvia'"
     ]
    },
    {
     "name": "stdout",
     "output_type": "stream",
     "text": [
      ", "
     ]
    },
    {
     "name": "stdout",
     "output_type": "stream",
     "text": [
      "'Italy'"
     ]
    },
    {
     "name": "stdout",
     "output_type": "stream",
     "text": [
      ", "
     ]
    },
    {
     "name": "stdout",
     "output_type": "stream",
     "text": [
      "'Brazil'"
     ]
    },
    {
     "name": "stdout",
     "output_type": "stream",
     "text": [
      ", "
     ]
    },
    {
     "name": "stdout",
     "output_type": "stream",
     "text": [
      "'United States'"
     ]
    },
    {
     "name": "stdout",
     "output_type": "stream",
     "text": [
      ", "
     ]
    },
    {
     "name": "stdout",
     "output_type": "stream",
     "text": [
      "'Macedonia'"
     ]
    },
    {
     "name": "stdout",
     "output_type": "stream",
     "text": [
      "]"
     ]
    },
    {
     "name": "stdout",
     "output_type": "stream",
     "text": [
      ",\n",
      " "
     ]
    },
    {
     "name": "stdout",
     "output_type": "stream",
     "text": [
      "13"
     ]
    },
    {
     "name": "stdout",
     "output_type": "stream",
     "text": [
      ": "
     ]
    },
    {
     "name": "stdout",
     "output_type": "stream",
     "text": [
      "['Russia']"
     ]
    },
    {
     "name": "stdout",
     "output_type": "stream",
     "text": [
      "}"
     ]
    },
    {
     "name": "stdout",
     "output_type": "stream",
     "text": [
      "\n"
     ]
    }
   ],
   "source": [
    "phase_len_dict = analyser.phase_len()\n",
    "pprint(phase_len_dict, compact=True)"
   ]
  },
  {
   "cell_type": "code",
   "execution_count": 10,
   "metadata": {
    "collapsed": false,
    "tags": []
   },
   "outputs": [
    {
     "data": {
      "text/html": [
       "<div>\n",
       "<style scoped>\n",
       "    .dataframe tbody tr th:only-of-type {\n",
       "        vertical-align: middle;\n",
       "    }\n",
       "\n",
       "    .dataframe tbody tr th {\n",
       "        vertical-align: top;\n",
       "    }\n",
       "\n",
       "    .dataframe thead th {\n",
       "        text-align: right;\n",
       "    }\n",
       "</style>\n",
       "<table border=\"1\" class=\"dataframe\">\n",
       "  <thead>\n",
       "    <tr style=\"text-align: right;\">\n",
       "      <th></th>\n",
       "      <th></th>\n",
       "      <th>Type</th>\n",
       "      <th>Start</th>\n",
       "      <th>End</th>\n",
       "      <th>Population</th>\n",
       "    </tr>\n",
       "    <tr>\n",
       "      <th>Country</th>\n",
       "      <th>Phase</th>\n",
       "      <th></th>\n",
       "      <th></th>\n",
       "      <th></th>\n",
       "      <th></th>\n",
       "    </tr>\n",
       "  </thead>\n",
       "  <tbody>\n",
       "    <tr>\n",
       "      <th rowspan=\"13\" valign=\"top\">Russia</th>\n",
       "      <th>0th</th>\n",
       "      <td>Past</td>\n",
       "      <td>12Feb2020</td>\n",
       "      <td>06May2020</td>\n",
       "      <td>330457362</td>\n",
       "    </tr>\n",
       "    <tr>\n",
       "      <th>1st</th>\n",
       "      <td>Past</td>\n",
       "      <td>07May2020</td>\n",
       "      <td>16May2020</td>\n",
       "      <td>330457362</td>\n",
       "    </tr>\n",
       "    <tr>\n",
       "      <th>2nd</th>\n",
       "      <td>Past</td>\n",
       "      <td>17May2020</td>\n",
       "      <td>27May2020</td>\n",
       "      <td>330457362</td>\n",
       "    </tr>\n",
       "    <tr>\n",
       "      <th>3rd</th>\n",
       "      <td>Past</td>\n",
       "      <td>28May2020</td>\n",
       "      <td>05Jun2020</td>\n",
       "      <td>330457362</td>\n",
       "    </tr>\n",
       "    <tr>\n",
       "      <th>4th</th>\n",
       "      <td>Past</td>\n",
       "      <td>06Jun2020</td>\n",
       "      <td>15Jun2020</td>\n",
       "      <td>330457362</td>\n",
       "    </tr>\n",
       "    <tr>\n",
       "      <th>5th</th>\n",
       "      <td>Past</td>\n",
       "      <td>16Jun2020</td>\n",
       "      <td>27Jun2020</td>\n",
       "      <td>330457362</td>\n",
       "    </tr>\n",
       "    <tr>\n",
       "      <th>6th</th>\n",
       "      <td>Past</td>\n",
       "      <td>28Jun2020</td>\n",
       "      <td>10Jul2020</td>\n",
       "      <td>330457362</td>\n",
       "    </tr>\n",
       "    <tr>\n",
       "      <th>7th</th>\n",
       "      <td>Past</td>\n",
       "      <td>11Jul2020</td>\n",
       "      <td>24Jul2020</td>\n",
       "      <td>330457362</td>\n",
       "    </tr>\n",
       "    <tr>\n",
       "      <th>8th</th>\n",
       "      <td>Past</td>\n",
       "      <td>25Jul2020</td>\n",
       "      <td>08Aug2020</td>\n",
       "      <td>330457362</td>\n",
       "    </tr>\n",
       "    <tr>\n",
       "      <th>9th</th>\n",
       "      <td>Past</td>\n",
       "      <td>09Aug2020</td>\n",
       "      <td>25Aug2020</td>\n",
       "      <td>330457362</td>\n",
       "    </tr>\n",
       "    <tr>\n",
       "      <th>10th</th>\n",
       "      <td>Past</td>\n",
       "      <td>26Aug2020</td>\n",
       "      <td>11Sep2020</td>\n",
       "      <td>330457362</td>\n",
       "    </tr>\n",
       "    <tr>\n",
       "      <th>11th</th>\n",
       "      <td>Past</td>\n",
       "      <td>12Sep2020</td>\n",
       "      <td>25Sep2020</td>\n",
       "      <td>330457362</td>\n",
       "    </tr>\n",
       "    <tr>\n",
       "      <th>12th</th>\n",
       "      <td>Past</td>\n",
       "      <td>26Sep2020</td>\n",
       "      <td>07Oct2020</td>\n",
       "      <td>330457362</td>\n",
       "    </tr>\n",
       "  </tbody>\n",
       "</table>\n",
       "</div>"
      ],
      "text/plain": [
       "               Type      Start        End  Population\n",
       "Country Phase                                        \n",
       "Russia  0th    Past  12Feb2020  06May2020   330457362\n",
       "        1st    Past  07May2020  16May2020   330457362\n",
       "        2nd    Past  17May2020  27May2020   330457362\n",
       "        3rd    Past  28May2020  05Jun2020   330457362\n",
       "        4th    Past  06Jun2020  15Jun2020   330457362\n",
       "        5th    Past  16Jun2020  27Jun2020   330457362\n",
       "        6th    Past  28Jun2020  10Jul2020   330457362\n",
       "        7th    Past  11Jul2020  24Jul2020   330457362\n",
       "        8th    Past  25Jul2020  08Aug2020   330457362\n",
       "        9th    Past  09Aug2020  25Aug2020   330457362\n",
       "        10th   Past  26Aug2020  11Sep2020   330457362\n",
       "        11th   Past  12Sep2020  25Sep2020   330457362\n",
       "        12th   Past  26Sep2020  07Oct2020   330457362"
      ]
     },
     "execution_count": 10,
     "metadata": {},
     "output_type": "execute_result"
    }
   ],
   "source": [
    "# Here, only show the countries which have the most phases\n",
    "countries_show = max(phase_len_dict.items(), key=lambda x: x[0])[1]\n",
    "# Show summary\n",
    "analyser.summary(countries=countries_show)"
   ]
  },
  {
   "cell_type": "markdown",
   "metadata": {},
   "source": [
    "## Parameter estimation\n",
    "we will estimate the parameter values with SIR-derived ODE models in each country."
   ]
  },
  {
   "cell_type": "code",
   "execution_count": 11,
   "metadata": {
    "collapsed": false,
    "tags": []
   },
   "outputs": [
    {
     "name": "stdout",
     "output_type": "stream",
     "text": [
      "\n",
      "<SIR-F model: parameter estimation>"
     ]
    },
    {
     "name": "stdout",
     "output_type": "stream",
     "text": [
      "\n"
     ]
    },
    {
     "name": "stdout",
     "output_type": "stream",
     "text": [
      "Running optimization with 4 CPUs..."
     ]
    },
    {
     "name": "stdout",
     "output_type": "stream",
     "text": [
      "\n"
     ]
    },
    {
     "name": "stdout",
     "output_type": "stream",
     "text": [
      "\tMKD,  4th phase (17Jul2020 - 26Jul2020): finished  423 trials in 0 min 10 sec"
     ]
    },
    {
     "name": "stdout",
     "output_type": "stream",
     "text": [
      "\n"
     ]
    },
    {
     "name": "stdout",
     "output_type": "stream",
     "text": [
      "\tPRT, 10th phase (19Sep2020 - 27Sep2020): finished 1749 trials in 1 min  0 sec"
     ]
    },
    {
     "name": "stdout",
     "output_type": "stream",
     "text": [
      "\n"
     ]
    },
    {
     "name": "stdout",
     "output_type": "stream",
     "text": [
      "\tMKD,  1st phase (08Jun2020 - 24Jun2020): finished 1732 trials in 1 min  0 sec"
     ]
    },
    {
     "name": "stdout",
     "output_type": "stream",
     "text": [
      "\n"
     ]
    },
    {
     "name": "stdout",
     "output_type": "stream",
     "text": [
      "\tBFA,  1st phase (01Apr2020 - 08Apr2020): finished 1782 trials in 1 min  0 sec"
     ]
    },
    {
     "name": "stdout",
     "output_type": "stream",
     "text": [
      "\n"
     ]
    },
    {
     "name": "stdout",
     "output_type": "stream",
     "text": [
      "\tLVA,  6th phase (01Jun2020 - 09Jul2020): finished 1727 trials in 1 min  0 sec"
     ]
    },
    {
     "name": "stdout",
     "output_type": "stream",
     "text": [
      "\n"
     ]
    },
    {
     "name": "stdout",
     "output_type": "stream",
     "text": [
      "\tITA,  5th phase (01May2020 - 10May2020): finished  574 trials in 0 min 15 sec"
     ]
    },
    {
     "name": "stdout",
     "output_type": "stream",
     "text": [
      "\n"
     ]
    },
    {
     "name": "stdout",
     "output_type": "stream",
     "text": [
      "\tUSA,  8th phase (08Aug2020 - 20Aug2020): finished  554 trials in 0 min 15 sec"
     ]
    },
    {
     "name": "stdout",
     "output_type": "stream",
     "text": [
      "\n"
     ]
    },
    {
     "name": "stdout",
     "output_type": "stream",
     "text": [
      "\tBRA, 10th phase (10Sep2020 - 22Sep2020): finished 1662 trials in 1 min  0 sec"
     ]
    },
    {
     "name": "stdout",
     "output_type": "stream",
     "text": [
      "\n"
     ]
    },
    {
     "name": "stdout",
     "output_type": "stream",
     "text": [
      "\tPRT,  4th phase (13Jun2020 - 25Jun2020): finished 1733 trials in 1 min  0 sec"
     ]
    },
    {
     "name": "stdout",
     "output_type": "stream",
     "text": [
      "\n"
     ]
    },
    {
     "name": "stdout",
     "output_type": "stream",
     "text": [
      "\tIRN,  0th phase (26Feb2020 - 29Mar2020): finished 1685 trials in 1 min  0 sec"
     ]
    },
    {
     "name": "stdout",
     "output_type": "stream",
     "text": [
      "\n"
     ]
    },
    {
     "name": "stdout",
     "output_type": "stream",
     "text": [
      "\tFRA,  6th phase (29Jun2020 - 27Jul2020): finished 1695 trials in 1 min  0 sec"
     ]
    },
    {
     "name": "stdout",
     "output_type": "stream",
     "text": [
      "\n"
     ]
    },
    {
     "name": "stdout",
     "output_type": "stream",
     "text": [
      "\tBOL,  9th phase (26Aug2020 - 02Sep2020): finished  213 trials in 0 min  5 sec"
     ]
    },
    {
     "name": "stdout",
     "output_type": "stream",
     "text": [
      "\n"
     ]
    },
    {
     "name": "stdout",
     "output_type": "stream",
     "text": [
      "\tFRA,  0th phase (12Feb2020 - 24Mar2020): finished 1432 trials in 1 min  0 sec"
     ]
    },
    {
     "name": "stdout",
     "output_type": "stream",
     "text": [
      "\n"
     ]
    },
    {
     "name": "stdout",
     "output_type": "stream",
     "text": [
      "\tITA,  9th phase (25Aug2020 - 11Sep2020): finished 1582 trials in 1 min  0 sec"
     ]
    },
    {
     "name": "stdout",
     "output_type": "stream",
     "text": [
      "\n"
     ]
    },
    {
     "name": "stdout",
     "output_type": "stream",
     "text": [
      "\tBOL,  0th phase (01Apr2020 - 13Jun2020): finished 1481 trials in 1 min  0 sec"
     ]
    },
    {
     "name": "stdout",
     "output_type": "stream",
     "text": [
      "\n"
     ]
    },
    {
     "name": "stdout",
     "output_type": "stream",
     "text": [
      "\tBRA,  1st phase (28May2020 - 14Jun2020): finished 1419 trials in 1 min  0 sec"
     ]
    },
    {
     "name": "stdout",
     "output_type": "stream",
     "text": [
      "\n"
     ]
    },
    {
     "name": "stdout",
     "output_type": "stream",
     "text": [
      "\tIRN,  1st phase (30Mar2020 - 17Apr2020): finished 1428 trials in 1 min  0 sec"
     ]
    },
    {
     "name": "stdout",
     "output_type": "stream",
     "text": [
      "\n"
     ]
    },
    {
     "name": "stdout",
     "output_type": "stream",
     "text": [
      "\tFRA, 11th phase (29Sep2020 - 07Oct2020): finished 1423 trials in 1 min  0 sec"
     ]
    },
    {
     "name": "stdout",
     "output_type": "stream",
     "text": [
      "\n"
     ]
    },
    {
     "name": "stdout",
     "output_type": "stream",
     "text": [
      "\tIRN,  7th phase (17Jul2020 - 31Jul2020): finished  179 trials in 0 min  5 sec"
     ]
    },
    {
     "name": "stdout",
     "output_type": "stream",
     "text": [
      "\n"
     ]
    },
    {
     "name": "stdout",
     "output_type": "stream",
     "text": [
      "\tITA,  1st phase (21Mar2020 - 28Mar2020): finished 1459 trials in 1 min  0 sec"
     ]
    },
    {
     "name": "stdout",
     "output_type": "stream",
     "text": [
      "\n"
     ]
    },
    {
     "name": "stdout",
     "output_type": "stream",
     "text": [
      "\tBFA,  5th phase (25May2020 - 01Jul2020): finished 1479 trials in 1 min  0 sec"
     ]
    },
    {
     "name": "stdout",
     "output_type": "stream",
     "text": [
      "\n"
     ]
    },
    {
     "name": "stdout",
     "output_type": "stream",
     "text": [
      "\tIRN,  6th phase (02Jul2020 - 16Jul2020): finished  186 trials in 0 min  5 sec"
     ]
    },
    {
     "name": "stdout",
     "output_type": "stream",
     "text": [
      "\n"
     ]
    },
    {
     "name": "stdout",
     "output_type": "stream",
     "text": [
      "\tITA, 11th phase (26Sep2020 - 07Oct2020): finished 1019 trials in 0 min 35 sec"
     ]
    },
    {
     "name": "stdout",
     "output_type": "stream",
     "text": [
      "\n"
     ]
    },
    {
     "name": "stdout",
     "output_type": "stream",
     "text": [
      "\tBOL,  6th phase (01Aug2020 - 09Aug2020): finished  193 trials in 0 min  5 sec"
     ]
    },
    {
     "name": "stdout",
     "output_type": "stream",
     "text": [
      "\n"
     ]
    },
    {
     "name": "stdout",
     "output_type": "stream",
     "text": [
      "\tPRT,  5th phase (26Jun2020 - 08Jul2020): finished 1549 trials in 1 min  0 sec"
     ]
    },
    {
     "name": "stdout",
     "output_type": "stream",
     "text": [
      "\n"
     ]
    },
    {
     "name": "stdout",
     "output_type": "stream",
     "text": [
      "\tRUS,  0th phase (12Feb2020 - 06May2020): finished 1533 trials in 1 min  0 sec"
     ]
    },
    {
     "name": "stdout",
     "output_type": "stream",
     "text": [
      "\n"
     ]
    },
    {
     "name": "stdout",
     "output_type": "stream",
     "text": [
      "\tFRA,  1st phase (25Mar2020 - 04Apr2020): finished 1546 trials in 1 min  0 sec"
     ]
    },
    {
     "name": "stdout",
     "output_type": "stream",
     "text": [
      "\n"
     ]
    },
    {
     "name": "stdout",
     "output_type": "stream",
     "text": [
      "\tBFA, 10th phase (19Sep2020 - 26Sep2020): finished 1550 trials in 1 min  0 sec"
     ]
    },
    {
     "name": "stdout",
     "output_type": "stream",
     "text": [
      "\n"
     ]
    },
    {
     "name": "stdout",
     "output_type": "stream",
     "text": [
      "\tUSA, 11th phase (20Sep2020 - 07Oct2020): finished 1110 trials in 0 min 40 sec"
     ]
    },
    {
     "name": "stdout",
     "output_type": "stream",
     "text": [
      "\n"
     ]
    },
    {
     "name": "stdout",
     "output_type": "stream",
     "text": [
      "\tBOL, 10th phase (03Sep2020 - 20Sep2020): finished 1519 trials in 1 min  0 sec"
     ]
    },
    {
     "name": "stdout",
     "output_type": "stream",
     "text": [
      "\n"
     ]
    },
    {
     "name": "stdout",
     "output_type": "stream",
     "text": [
      "\tBOL,  2nd phase (26Jun2020 - 05Jul2020): finished  347 trials in 0 min 10 sec"
     ]
    },
    {
     "name": "stdout",
     "output_type": "stream",
     "text": [
      "\n"
     ]
    },
    {
     "name": "stdout",
     "output_type": "stream",
     "text": [
      "\tBHR,  6th phase (19Jul2020 - 03Aug2020): finished  327 trials in 0 min 10 sec"
     ]
    },
    {
     "name": "stdout",
     "output_type": "stream",
     "text": [
      "\n"
     ]
    },
    {
     "name": "stdout",
     "output_type": "stream",
     "text": [
      "\tLVA,  0th phase (10Mar2020 - 07Apr2020): finished 1729 trials in 1 min  0 sec"
     ]
    },
    {
     "name": "stdout",
     "output_type": "stream",
     "text": [
      "\n"
     ]
    },
    {
     "name": "stdout",
     "output_type": "stream",
     "text": [
      "\tTUR,  9th phase (23Aug2020 - 06Sep2020): finished  339 trials in 0 min 10 sec"
     ]
    },
    {
     "name": "stdout",
     "output_type": "stream",
     "text": [
      "\n"
     ]
    },
    {
     "name": "stdout",
     "output_type": "stream",
     "text": [
      "\tLVA,  8th phase (06Aug2020 - 28Aug2020): finished 1753 trials in 1 min  0 sec"
     ]
    },
    {
     "name": "stdout",
     "output_type": "stream",
     "text": [
      "\n"
     ]
    },
    {
     "name": "stdout",
     "output_type": "stream",
     "text": [
      "\tLVA,  3rd phase (30Apr2020 - 07May2020): finished 1781 trials in 1 min  0 sec"
     ]
    },
    {
     "name": "stdout",
     "output_type": "stream",
     "text": [
      "\n"
     ]
    },
    {
     "name": "stdout",
     "output_type": "stream",
     "text": [
      "\tBRA,  2nd phase (15Jun2020 - 26Jun2020): finished  492 trials in 0 min 15 sec"
     ]
    },
    {
     "name": "stdout",
     "output_type": "stream",
     "text": [
      "\n"
     ]
    },
    {
     "name": "stdout",
     "output_type": "stream",
     "text": [
      "\tUSA,  3rd phase (06Jun2020 - 24Jun2020): finished 1050 trials in 0 min 35 sec"
     ]
    },
    {
     "name": "stdout",
     "output_type": "stream",
     "text": [
      "\n"
     ]
    },
    {
     "name": "stdout",
     "output_type": "stream",
     "text": [
      "\tIRN,  4th phase (01Jun2020 - 16Jun2020): finished 1543 trials in 1 min  0 sec"
     ]
    },
    {
     "name": "stdout",
     "output_type": "stream",
     "text": [
      "\n"
     ]
    },
    {
     "name": "stdout",
     "output_type": "stream",
     "text": [
      "\tBHR,  8th phase (19Aug2020 - 04Sep2020): finished 1567 trials in 1 min  0 sec"
     ]
    },
    {
     "name": "stdout",
     "output_type": "stream",
     "text": [
      "\n"
     ]
    },
    {
     "name": "stdout",
     "output_type": "stream",
     "text": [
      "\tFRA,  7th phase (28Jul2020 - 17Aug2020): finished  524 trials in 0 min 15 sec"
     ]
    },
    {
     "name": "stdout",
     "output_type": "stream",
     "text": [
      "\n"
     ]
    },
    {
     "name": "stdout",
     "output_type": "stream",
     "text": [
      "\tBHR,  2nd phase (02Jun2020 - 13Jun2020): finished 1596 trials in 1 min  0 sec"
     ]
    },
    {
     "name": "stdout",
     "output_type": "stream",
     "text": [
      "\n"
     ]
    },
    {
     "name": "stdout",
     "output_type": "stream",
     "text": [
      "\tLVA, 10th phase (09Sep2020 - 24Sep2020): finished 1740 trials in 1 min  0 sec"
     ]
    },
    {
     "name": "stdout",
     "output_type": "stream",
     "text": [
      "\n"
     ]
    },
    {
     "name": "stdout",
     "output_type": "stream",
     "text": [
      "\tPRT,  2nd phase (15May2020 - 30May2020): finished 1573 trials in 1 min  0 sec"
     ]
    },
    {
     "name": "stdout",
     "output_type": "stream",
     "text": [
      "\n"
     ]
    },
    {
     "name": "stdout",
     "output_type": "stream",
     "text": [
      "\tITA,  4th phase (19Apr2020 - 30Apr2020): finished  351 trials in 0 min 10 sec"
     ]
    },
    {
     "name": "stdout",
     "output_type": "stream",
     "text": [
      "\n"
     ]
    },
    {
     "name": "stdout",
     "output_type": "stream",
     "text": [
      "\tUSA,  4th phase (25Jun2020 - 07Jul2020): finished 1573 trials in 1 min  0 sec"
     ]
    },
    {
     "name": "stdout",
     "output_type": "stream",
     "text": [
      "\n"
     ]
    },
    {
     "name": "stdout",
     "output_type": "stream",
     "text": [
      "\tRUS,  8th phase (25Jul2020 - 08Aug2020): finished 1565 trials in 1 min  0 sec"
     ]
    },
    {
     "name": "stdout",
     "output_type": "stream",
     "text": [
      "\n"
     ]
    },
    {
     "name": "stdout",
     "output_type": "stream",
     "text": [
      "\tITA,  6th phase (11May2020 - 26May2020): finished  361 trials in 0 min 10 sec"
     ]
    },
    {
     "name": "stdout",
     "output_type": "stream",
     "text": [
      "\n"
     ]
    },
    {
     "name": "stdout",
     "output_type": "stream",
     "text": [
      "\tITA, 10th phase (12Sep2020 - 25Sep2020): finished  172 trials in 0 min  5 sec"
     ]
    },
    {
     "name": "stdout",
     "output_type": "stream",
     "text": [
      "\n"
     ]
    },
    {
     "name": "stdout",
     "output_type": "stream",
     "text": [
      "\tBHR,  7th phase (04Aug2020 - 18Aug2020): finished 1564 trials in 1 min  0 sec"
     ]
    },
    {
     "name": "stdout",
     "output_type": "stream",
     "text": [
      "\n"
     ]
    },
    {
     "name": "stdout",
     "output_type": "stream",
     "text": [
      "\tMKD,  0th phase (13Mar2020 - 07Jun2020): finished 1509 trials in 1 min  0 sec"
     ]
    },
    {
     "name": "stdout",
     "output_type": "stream",
     "text": [
      "\n"
     ]
    },
    {
     "name": "stdout",
     "output_type": "stream",
     "text": [
      "\tUSA,  1st phase (20Apr2020 - 10May2020): finished 1561 trials in 1 min  0 sec"
     ]
    },
    {
     "name": "stdout",
     "output_type": "stream",
     "text": [
      "\n"
     ]
    },
    {
     "name": "stdout",
     "output_type": "stream",
     "text": [
      "\tIRN,  8th phase (01Aug2020 - 17Aug2020): finished 1568 trials in 1 min  0 sec"
     ]
    },
    {
     "name": "stdout",
     "output_type": "stream",
     "text": [
      "\n"
     ]
    },
    {
     "name": "stdout",
     "output_type": "stream",
     "text": [
      "\tFRA,  9th phase (03Sep2020 - 15Sep2020): finished 1037 trials in 0 min 35 sec"
     ]
    },
    {
     "name": "stdout",
     "output_type": "stream",
     "text": [
      "\n"
     ]
    },
    {
     "name": "stdout",
     "output_type": "stream",
     "text": [
      "\tIRN,  9th phase (18Aug2020 - 07Sep2020): finished  187 trials in 0 min  5 sec"
     ]
    },
    {
     "name": "stdout",
     "output_type": "stream",
     "text": [
      "\n"
     ]
    },
    {
     "name": "stdout",
     "output_type": "stream",
     "text": [
      "\tBFA,  9th phase (11Sep2020 - 18Sep2020): finished 1606 trials in 1 min  0 sec"
     ]
    },
    {
     "name": "stdout",
     "output_type": "stream",
     "text": [
      "\n"
     ]
    },
    {
     "name": "stdout",
     "output_type": "stream",
     "text": [
      "\tLVA,  7th phase (10Jul2020 - 05Aug2020): finished 1807 trials in 1 min  0 sec"
     ]
    },
    {
     "name": "stdout",
     "output_type": "stream",
     "text": [
      "\n"
     ]
    },
    {
     "name": "stdout",
     "output_type": "stream",
     "text": [
      "\tTUR,  7th phase (16Jul2020 - 04Aug2020): finished  168 trials in 0 min  5 sec"
     ]
    },
    {
     "name": "stdout",
     "output_type": "stream",
     "text": [
      "\n"
     ]
    },
    {
     "name": "stdout",
     "output_type": "stream",
     "text": [
      "\tTUR,  3rd phase (09May2020 - 22May2020): finished 1587 trials in 1 min  0 sec"
     ]
    },
    {
     "name": "stdout",
     "output_type": "stream",
     "text": [
      "\n"
     ]
    },
    {
     "name": "stdout",
     "output_type": "stream",
     "text": [
      "\tPRT,  3rd phase (31May2020 - 12Jun2020): finished 1596 trials in 1 min  0 sec"
     ]
    },
    {
     "name": "stdout",
     "output_type": "stream",
     "text": [
      "\n"
     ]
    },
    {
     "name": "stdout",
     "output_type": "stream",
     "text": [
      "\tRUS, 10th phase (26Aug2020 - 11Sep2020): finished 1533 trials in 1 min  0 sec"
     ]
    },
    {
     "name": "stdout",
     "output_type": "stream",
     "text": [
      "\n"
     ]
    },
    {
     "name": "stdout",
     "output_type": "stream",
     "text": [
      "\tIRN, 10th phase (08Sep2020 - 22Sep2020): finished 1551 trials in 1 min  0 sec"
     ]
    },
    {
     "name": "stdout",
     "output_type": "stream",
     "text": [
      "\n"
     ]
    },
    {
     "name": "stdout",
     "output_type": "stream",
     "text": [
      "\tBRA,  9th phase (30Aug2020 - 09Sep2020): finished  177 trials in 0 min  5 sec"
     ]
    },
    {
     "name": "stdout",
     "output_type": "stream",
     "text": [
      "\n"
     ]
    },
    {
     "name": "stdout",
     "output_type": "stream",
     "text": [
      "\tBFA,  0th phase (21Mar2020 - 31Mar2020): finished 1485 trials in 1 min  0 sec"
     ]
    },
    {
     "name": "stdout",
     "output_type": "stream",
     "text": [
      "\n"
     ]
    },
    {
     "name": "stdout",
     "output_type": "stream",
     "text": [
      "\tBHR,  4th phase (26Jun2020 - 06Jul2020): finished 1464 trials in 1 min  0 sec"
     ]
    },
    {
     "name": "stdout",
     "output_type": "stream",
     "text": [
      "\n"
     ]
    },
    {
     "name": "stdout",
     "output_type": "stream",
     "text": [
      "\tITA,  7th phase (27May2020 - 14Jul2020): finished  586 trials in 0 min 20 sec"
     ]
    },
    {
     "name": "stdout",
     "output_type": "stream",
     "text": [
      "\n"
     ]
    },
    {
     "name": "stdout",
     "output_type": "stream",
     "text": [
      "\tMKD, 10th phase (17Sep2020 - 28Sep2020): finished  165 trials in 0 min  5 sec"
     ]
    },
    {
     "name": "stdout",
     "output_type": "stream",
     "text": [
      "\n"
     ]
    },
    {
     "name": "stdout",
     "output_type": "stream",
     "text": [
      "\tRUS,  6th phase (28Jun2020 - 10Jul2020): finished 1448 trials in 1 min  0 sec"
     ]
    },
    {
     "name": "stdout",
     "output_type": "stream",
     "text": [
      "\n"
     ]
    },
    {
     "name": "stdout",
     "output_type": "stream",
     "text": [
      "\tBFA,  8th phase (20Aug2020 - 10Sep2020): finished 1381 trials in 1 min  0 sec"
     ]
    },
    {
     "name": "stdout",
     "output_type": "stream",
     "text": [
      "\n"
     ]
    },
    {
     "name": "stdout",
     "output_type": "stream",
     "text": [
      "\tFRA,  4th phase (05May2020 - 26May2020): finished 1355 trials in 1 min  0 sec"
     ]
    },
    {
     "name": "stdout",
     "output_type": "stream",
     "text": [
      "\n"
     ]
    },
    {
     "name": "stdout",
     "output_type": "stream",
     "text": [
      "\tRUS,  4th phase (06Jun2020 - 15Jun2020): finished 1349 trials in 1 min  0 sec"
     ]
    },
    {
     "name": "stdout",
     "output_type": "stream",
     "text": [
      "\n"
     ]
    },
    {
     "name": "stdout",
     "output_type": "stream",
     "text": [
      "\tIRN,  5th phase (17Jun2020 - 01Jul2020): finished 1328 trials in 1 min  0 sec"
     ]
    },
    {
     "name": "stdout",
     "output_type": "stream",
     "text": [
      "\n"
     ]
    },
    {
     "name": "stdout",
     "output_type": "stream",
     "text": [
      "\tMKD,  6th phase (06Aug2020 - 14Aug2020): finished 1394 trials in 1 min  0 sec"
     ]
    },
    {
     "name": "stdout",
     "output_type": "stream",
     "text": [
      "\n"
     ]
    },
    {
     "name": "stdout",
     "output_type": "stream",
     "text": [
      "\tUSA,  7th phase (28Jul2020 - 07Aug2020): finished  327 trials in 0 min 10 sec"
     ]
    },
    {
     "name": "stdout",
     "output_type": "stream",
     "text": [
      "\n"
     ]
    },
    {
     "name": "stdout",
     "output_type": "stream",
     "text": [
      "\tBHR,  5th phase (07Jul2020 - 18Jul2020): finished 1429 trials in 1 min  0 sec"
     ]
    },
    {
     "name": "stdout",
     "output_type": "stream",
     "text": [
      "\n"
     ]
    },
    {
     "name": "stdout",
     "output_type": "stream",
     "text": [
      "\tITA,  2nd phase (29Mar2020 - 08Apr2020): finished 1461 trials in 1 min  0 sec"
     ]
    },
    {
     "name": "stdout",
     "output_type": "stream",
     "text": [
      "\n"
     ]
    },
    {
     "name": "stdout",
     "output_type": "stream",
     "text": [
      "\tFRA,  8th phase (18Aug2020 - 02Sep2020): finished  845 trials in 0 min 30 sec"
     ]
    },
    {
     "name": "stdout",
     "output_type": "stream",
     "text": [
      "\n"
     ]
    },
    {
     "name": "stdout",
     "output_type": "stream",
     "text": [
      "\tRUS,  7th phase (11Jul2020 - 24Jul2020): finished 1451 trials in 1 min  0 sec"
     ]
    },
    {
     "name": "stdout",
     "output_type": "stream",
     "text": [
      "\n"
     ]
    },
    {
     "name": "stdout",
     "output_type": "stream",
     "text": [
      "\tUSA,  5th phase (08Jul2020 - 18Jul2020): finished  329 trials in 0 min 10 sec"
     ]
    },
    {
     "name": "stdout",
     "output_type": "stream",
     "text": [
      "\n"
     ]
    },
    {
     "name": "stdout",
     "output_type": "stream",
     "text": [
      "\tMKD,  3rd phase (08Jul2020 - 16Jul2020): finished  473 trials in 0 min 15 sec"
     ]
    },
    {
     "name": "stdout",
     "output_type": "stream",
     "text": [
      "\n"
     ]
    },
    {
     "name": "stdout",
     "output_type": "stream",
     "text": [
      "\tFRA,  2nd phase (05Apr2020 - 20Apr2020): finished 1477 trials in 1 min  0 sec"
     ]
    },
    {
     "name": "stdout",
     "output_type": "stream",
     "text": [
      "\n"
     ]
    },
    {
     "name": "stdout",
     "output_type": "stream",
     "text": [
      "\tBHR,  1st phase (06May2020 - 01Jun2020): finished 1455 trials in 1 min  0 sec"
     ]
    },
    {
     "name": "stdout",
     "output_type": "stream",
     "text": [
      "\n"
     ]
    },
    {
     "name": "stdout",
     "output_type": "stream",
     "text": [
      "\tRUS,  1st phase (07May2020 - 16May2020): finished 1443 trials in 1 min  0 sec"
     ]
    },
    {
     "name": "stdout",
     "output_type": "stream",
     "text": [
      "\n"
     ]
    },
    {
     "name": "stdout",
     "output_type": "stream",
     "text": [
      "\tMKD,  5th phase (27Jul2020 - 05Aug2020): finished 1175 trials in 0 min 45 sec"
     ]
    },
    {
     "name": "stdout",
     "output_type": "stream",
     "text": [
      "\n"
     ]
    },
    {
     "name": "stdout",
     "output_type": "stream",
     "text": [
      "\tBOL,  8th phase (18Aug2020 - 25Aug2020): finished  572 trials in 0 min 20 sec"
     ]
    },
    {
     "name": "stdout",
     "output_type": "stream",
     "text": [
      "\n"
     ]
    },
    {
     "name": "stdout",
     "output_type": "stream",
     "text": [
      "\tBRA,  8th phase (20Aug2020 - 29Aug2020): finished 1474 trials in 1 min  0 sec"
     ]
    },
    {
     "name": "stdout",
     "output_type": "stream",
     "text": [
      "\n"
     ]
    },
    {
     "name": "stdout",
     "output_type": "stream",
     "text": [
      "\tMKD,  9th phase (04Sep2020 - 16Sep2020): finished  167 trials in 0 min  5 sec"
     ]
    },
    {
     "name": "stdout",
     "output_type": "stream",
     "text": [
      "\n"
     ]
    },
    {
     "name": "stdout",
     "output_type": "stream",
     "text": [
      "\tTUR,  4th phase (23May2020 - 12Jun2020): finished 1438 trials in 1 min  0 sec"
     ]
    },
    {
     "name": "stdout",
     "output_type": "stream",
     "text": [
      "\n"
     ]
    },
    {
     "name": "stdout",
     "output_type": "stream",
     "text": [
      "\tBFA,  6th phase (02Jul2020 - 27Jul2020): finished 1478 trials in 1 min  0 sec"
     ]
    },
    {
     "name": "stdout",
     "output_type": "stream",
     "text": [
      "\n"
     ]
    },
    {
     "name": "stdout",
     "output_type": "stream",
     "text": [
      "\tBFA, 11th phase (27Sep2020 - 07Oct2020): finished 1077 trials in 0 min 40 sec"
     ]
    },
    {
     "name": "stdout",
     "output_type": "stream",
     "text": [
      "\n"
     ]
    },
    {
     "name": "stdout",
     "output_type": "stream",
     "text": [
      "\tBHR, 10th phase (16Sep2020 - 24Sep2020): finished 1475 trials in 1 min  0 sec"
     ]
    },
    {
     "name": "stdout",
     "output_type": "stream",
     "text": [
      "\n"
     ]
    },
    {
     "name": "stdout",
     "output_type": "stream",
     "text": [
      "\tRUS,  5th phase (16Jun2020 - 27Jun2020): finished 1475 trials in 1 min  0 sec"
     ]
    },
    {
     "name": "stdout",
     "output_type": "stream",
     "text": [
      "\n"
     ]
    },
    {
     "name": "stdout",
     "output_type": "stream",
     "text": [
      "\tPRT,  1st phase (29Apr2020 - 14May2020): finished 1464 trials in 1 min  0 sec"
     ]
    },
    {
     "name": "stdout",
     "output_type": "stream",
     "text": [
      "\n"
     ]
    },
    {
     "name": "stdout",
     "output_type": "stream",
     "text": [
      "\tBFA,  3rd phase (20Apr2020 - 04May2020): finished 1458 trials in 1 min  0 sec"
     ]
    },
    {
     "name": "stdout",
     "output_type": "stream",
     "text": [
      "\n"
     ]
    },
    {
     "name": "stdout",
     "output_type": "stream",
     "text": [
      "\tUSA,  0th phase (09Feb2020 - 19Apr2020): finished 1402 trials in 1 min  0 sec"
     ]
    },
    {
     "name": "stdout",
     "output_type": "stream",
     "text": [
      "\n"
     ]
    },
    {
     "name": "stdout",
     "output_type": "stream",
     "text": [
      "\tBOL, 11th phase (21Sep2020 - 07Oct2020): finished  168 trials in 0 min  5 sec"
     ]
    },
    {
     "name": "stdout",
     "output_type": "stream",
     "text": [
      "\n"
     ]
    },
    {
     "name": "stdout",
     "output_type": "stream",
     "text": [
      "\tUSA,  9th phase (21Aug2020 - 03Sep2020): finished  732 trials in 0 min 25 sec"
     ]
    },
    {
     "name": "stdout",
     "output_type": "stream",
     "text": [
      "\n"
     ]
    },
    {
     "name": "stdout",
     "output_type": "stream",
     "text": [
      "\tBHR,  3rd phase (14Jun2020 - 25Jun2020): finished 1476 trials in 1 min  0 sec"
     ]
    },
    {
     "name": "stdout",
     "output_type": "stream",
     "text": [
      "\n"
     ]
    },
    {
     "name": "stdout",
     "output_type": "stream",
     "text": [
      "\tBHR,  0th phase (06Mar2020 - 05May2020): finished 1382 trials in 1 min  0 sec"
     ]
    },
    {
     "name": "stdout",
     "output_type": "stream",
     "text": [
      "\n"
     ]
    },
    {
     "name": "stdout",
     "output_type": "stream",
     "text": [
      "\tUSA,  6th phase (19Jul2020 - 27Jul2020): finished  339 trials in 0 min 10 sec"
     ]
    },
    {
     "name": "stdout",
     "output_type": "stream",
     "text": [
      "\n"
     ]
    },
    {
     "name": "stdout",
     "output_type": "stream",
     "text": [
      "\tIRN, 11th phase (23Sep2020 - 07Oct2020): finished 1443 trials in 1 min  0 sec"
     ]
    },
    {
     "name": "stdout",
     "output_type": "stream",
     "text": [
      "\n"
     ]
    },
    {
     "name": "stdout",
     "output_type": "stream",
     "text": [
      "\tITA,  0th phase (24Feb2020 - 20Mar2020): finished 1454 trials in 1 min  0 sec"
     ]
    },
    {
     "name": "stdout",
     "output_type": "stream",
     "text": [
      "\n"
     ]
    },
    {
     "name": "stdout",
     "output_type": "stream",
     "text": [
      "\tLVA,  2nd phase (19Apr2020 - 29Apr2020): finished 1446 trials in 1 min  0 sec"
     ]
    },
    {
     "name": "stdout",
     "output_type": "stream",
     "text": [
      "\n"
     ]
    },
    {
     "name": "stdout",
     "output_type": "stream",
     "text": [
      "\tMKD,  7th phase (15Aug2020 - 23Aug2020): finished 1465 trials in 1 min  0 sec"
     ]
    },
    {
     "name": "stdout",
     "output_type": "stream",
     "text": [
      "\n"
     ]
    },
    {
     "name": "stdout",
     "output_type": "stream",
     "text": [
      "\tPRT,  7th phase (25Jul2020 - 18Aug2020): finished 1463 trials in 1 min  0 sec"
     ]
    },
    {
     "name": "stdout",
     "output_type": "stream",
     "text": [
      "\n"
     ]
    },
    {
     "name": "stdout",
     "output_type": "stream",
     "text": [
      "\tRUS,  2nd phase (17May2020 - 27May2020): finished 1422 trials in 1 min  0 sec"
     ]
    },
    {
     "name": "stdout",
     "output_type": "stream",
     "text": [
      "\n"
     ]
    },
    {
     "name": "stdout",
     "output_type": "stream",
     "text": [
      "\tLVA,  1st phase (08Apr2020 - 18Apr2020): finished 1415 trials in 1 min  0 sec"
     ]
    },
    {
     "name": "stdout",
     "output_type": "stream",
     "text": [
      "\n"
     ]
    },
    {
     "name": "stdout",
     "output_type": "stream",
     "text": [
      "\tITA,  8th phase (15Jul2020 - 24Aug2020): finished 1391 trials in 1 min  0 sec"
     ]
    },
    {
     "name": "stdout",
     "output_type": "stream",
     "text": [
      "\n"
     ]
    },
    {
     "name": "stdout",
     "output_type": "stream",
     "text": [
      "\tBOL,  3rd phase (06Jul2020 - 15Jul2020): finished 1397 trials in 1 min  0 sec"
     ]
    },
    {
     "name": "stdout",
     "output_type": "stream",
     "text": [
      "\n"
     ]
    },
    {
     "name": "stdout",
     "output_type": "stream",
     "text": [
      "\tBOL,  5th phase (24Jul2020 - 31Jul2020): finished  694 trials in 0 min 25 sec"
     ]
    },
    {
     "name": "stdout",
     "output_type": "stream",
     "text": [
      "\n"
     ]
    },
    {
     "name": "stdout",
     "output_type": "stream",
     "text": [
      "\tBRA,  4th phase (09Jul2020 - 21Jul2020): finished 1404 trials in 1 min  0 sec"
     ]
    },
    {
     "name": "stdout",
     "output_type": "stream",
     "text": [
      "\n"
     ]
    },
    {
     "name": "stdout",
     "output_type": "stream",
     "text": [
      "\tPRT,  6th phase (09Jul2020 - 24Jul2020): finished 1380 trials in 1 min  0 sec"
     ]
    },
    {
     "name": "stdout",
     "output_type": "stream",
     "text": [
      "\n"
     ]
    },
    {
     "name": "stdout",
     "output_type": "stream",
     "text": [
      "\tTUR,  1st phase (17Apr2020 - 29Apr2020): finished 1377 trials in 1 min  0 sec"
     ]
    },
    {
     "name": "stdout",
     "output_type": "stream",
     "text": [
      "\n"
     ]
    },
    {
     "name": "stdout",
     "output_type": "stream",
     "text": [
      "\tFRA,  5th phase (27May2020 - 28Jun2020): finished  975 trials in 0 min 40 sec"
     ]
    },
    {
     "name": "stdout",
     "output_type": "stream",
     "text": [
      "\n"
     ]
    },
    {
     "name": "stdout",
     "output_type": "stream",
     "text": [
      "\tBRA,  3rd phase (27Jun2020 - 08Jul2020): finished 1388 trials in 1 min  0 sec"
     ]
    },
    {
     "name": "stdout",
     "output_type": "stream",
     "text": [
      "\n"
     ]
    },
    {
     "name": "stdout",
     "output_type": "stream",
     "text": [
      "\tBFA,  4th phase (05May2020 - 24May2020): finished 1385 trials in 1 min  0 sec"
     ]
    },
    {
     "name": "stdout",
     "output_type": "stream",
     "text": [
      "\n"
     ]
    },
    {
     "name": "stdout",
     "output_type": "stream",
     "text": [
      "\tBHR, 11th phase (25Sep2020 - 07Oct2020): finished  427 trials in 0 min 15 sec"
     ]
    },
    {
     "name": "stdout",
     "output_type": "stream",
     "text": [
      "\n"
     ]
    },
    {
     "name": "stdout",
     "output_type": "stream",
     "text": [
      "\tIRN,  2nd phase (18Apr2020 - 14May2020): finished  414 trials in 0 min 15 sec"
     ]
    },
    {
     "name": "stdout",
     "output_type": "stream",
     "text": [
      "\n"
     ]
    },
    {
     "name": "stdout",
     "output_type": "stream",
     "text": [
      "\tTUR,  5th phase (13Jun2020 - 27Jun2020): finished 1377 trials in 1 min  0 sec"
     ]
    },
    {
     "name": "stdout",
     "output_type": "stream",
     "text": [
      "\n"
     ]
    },
    {
     "name": "stdout",
     "output_type": "stream",
     "text": [
      "\tMKD,  8th phase (24Aug2020 - 03Sep2020): finished 1371 trials in 1 min  0 sec"
     ]
    },
    {
     "name": "stdout",
     "output_type": "stream",
     "text": [
      "\n"
     ]
    },
    {
     "name": "stdout",
     "output_type": "stream",
     "text": [
      "\tTUR,  0th phase (24Mar2020 - 16Apr2020): finished 1433 trials in 1 min  0 sec"
     ]
    },
    {
     "name": "stdout",
     "output_type": "stream",
     "text": [
      "\n"
     ]
    },
    {
     "name": "stdout",
     "output_type": "stream",
     "text": [
      "\tPRT,  0th phase (14Mar2020 - 28Apr2020): finished 1439 trials in 1 min  0 sec"
     ]
    },
    {
     "name": "stdout",
     "output_type": "stream",
     "text": [
      "\n"
     ]
    },
    {
     "name": "stdout",
     "output_type": "stream",
     "text": [
      "\tPRT, 11th phase (28Sep2020 - 07Oct2020): finished 1456 trials in 1 min  0 sec"
     ]
    },
    {
     "name": "stdout",
     "output_type": "stream",
     "text": [
      "\n"
     ]
    },
    {
     "name": "stdout",
     "output_type": "stream",
     "text": [
      "\tUSA,  2nd phase (11May2020 - 05Jun2020): finished 1452 trials in 1 min  0 sec"
     ]
    },
    {
     "name": "stdout",
     "output_type": "stream",
     "text": [
      "\n"
     ]
    },
    {
     "name": "stdout",
     "output_type": "stream",
     "text": [
      "\tLVA,  4th phase (08May2020 - 15May2020): finished 1415 trials in 1 min  0 sec"
     ]
    },
    {
     "name": "stdout",
     "output_type": "stream",
     "text": [
      "\n"
     ]
    },
    {
     "name": "stdout",
     "output_type": "stream",
     "text": [
      "\tLVA,  9th phase (29Aug2020 - 08Sep2020): finished 1628 trials in 1 min  0 sec"
     ]
    },
    {
     "name": "stdout",
     "output_type": "stream",
     "text": [
      "\n"
     ]
    },
    {
     "name": "stdout",
     "output_type": "stream",
     "text": [
      "\tBRA,  5th phase (22Jul2020 - 30Jul2020): finished 1380 trials in 1 min  0 sec"
     ]
    },
    {
     "name": "stdout",
     "output_type": "stream",
     "text": [
      "\n"
     ]
    },
    {
     "name": "stdout",
     "output_type": "stream",
     "text": [
      "\tBRA,  0th phase (16Mar2020 - 27May2020): finished 1322 trials in 1 min  0 sec"
     ]
    },
    {
     "name": "stdout",
     "output_type": "stream",
     "text": [
      "\n"
     ]
    },
    {
     "name": "stdout",
     "output_type": "stream",
     "text": [
      "\tBOL,  4th phase (16Jul2020 - 23Jul2020): finished  324 trials in 0 min 10 sec"
     ]
    },
    {
     "name": "stdout",
     "output_type": "stream",
     "text": [
      "\n"
     ]
    },
    {
     "name": "stdout",
     "output_type": "stream",
     "text": [
      "\tUSA, 10th phase (04Sep2020 - 19Sep2020): finished  914 trials in 0 min 35 sec"
     ]
    },
    {
     "name": "stdout",
     "output_type": "stream",
     "text": [
      "\n"
     ]
    },
    {
     "name": "stdout",
     "output_type": "stream",
     "text": [
      "\tPRT,  8th phase (19Aug2020 - 07Sep2020): finished 1406 trials in 1 min  0 sec"
     ]
    },
    {
     "name": "stdout",
     "output_type": "stream",
     "text": [
      "\n"
     ]
    },
    {
     "name": "stdout",
     "output_type": "stream",
     "text": [
      "\tFRA,  3rd phase (21Apr2020 - 04May2020): finished 1400 trials in 1 min  0 sec"
     ]
    },
    {
     "name": "stdout",
     "output_type": "stream",
     "text": [
      "\n"
     ]
    },
    {
     "name": "stdout",
     "output_type": "stream",
     "text": [
      "\tFRA, 10th phase (16Sep2020 - 28Sep2020): finished 1429 trials in 1 min  0 sec"
     ]
    },
    {
     "name": "stdout",
     "output_type": "stream",
     "text": [
      "\n"
     ]
    },
    {
     "name": "stdout",
     "output_type": "stream",
     "text": [
      "\tPRT,  9th phase (08Sep2020 - 18Sep2020): finished 1388 trials in 1 min  0 sec"
     ]
    },
    {
     "name": "stdout",
     "output_type": "stream",
     "text": [
      "\n"
     ]
    },
    {
     "name": "stdout",
     "output_type": "stream",
     "text": [
      "\tBHR,  9th phase (05Sep2020 - 15Sep2020): finished  279 trials in 0 min 10 sec"
     ]
    },
    {
     "name": "stdout",
     "output_type": "stream",
     "text": [
      "\n"
     ]
    },
    {
     "name": "stdout",
     "output_type": "stream",
     "text": [
      "\tLVA,  5th phase (16May2020 - 31May2020): finished 1580 trials in 1 min  0 sec"
     ]
    },
    {
     "name": "stdout",
     "output_type": "stream",
     "text": [
      "\n"
     ]
    },
    {
     "name": "stdout",
     "output_type": "stream",
     "text": [
      "\tBFA,  7th phase (28Jul2020 - 19Aug2020): finished  567 trials in 0 min 20 sec"
     ]
    },
    {
     "name": "stdout",
     "output_type": "stream",
     "text": [
      "\n"
     ]
    },
    {
     "name": "stdout",
     "output_type": "stream",
     "text": [
      "\tBRA,  7th phase (11Aug2020 - 19Aug2020): finished 1375 trials in 1 min  0 sec"
     ]
    },
    {
     "name": "stdout",
     "output_type": "stream",
     "text": [
      "\n"
     ]
    },
    {
     "name": "stdout",
     "output_type": "stream",
     "text": [
      "\tRUS,  9th phase (09Aug2020 - 25Aug2020): finished 1319 trials in 1 min  0 sec"
     ]
    },
    {
     "name": "stdout",
     "output_type": "stream",
     "text": [
      "\n"
     ]
    },
    {
     "name": "stdout",
     "output_type": "stream",
     "text": [
      "\tTUR,  6th phase (28Jun2020 - 15Jul2020): finished  552 trials in 0 min 20 sec"
     ]
    },
    {
     "name": "stdout",
     "output_type": "stream",
     "text": [
      "\n"
     ]
    },
    {
     "name": "stdout",
     "output_type": "stream",
     "text": [
      "\tBFA,  2nd phase (09Apr2020 - 19Apr2020): finished 1330 trials in 1 min  0 sec"
     ]
    },
    {
     "name": "stdout",
     "output_type": "stream",
     "text": [
      "\n"
     ]
    },
    {
     "name": "stdout",
     "output_type": "stream",
     "text": [
      "\tRUS,  3rd phase (28May2020 - 05Jun2020): finished 1329 trials in 1 min  0 sec"
     ]
    },
    {
     "name": "stdout",
     "output_type": "stream",
     "text": [
      "\n"
     ]
    },
    {
     "name": "stdout",
     "output_type": "stream",
     "text": [
      "\tBOL,  7th phase (10Aug2020 - 17Aug2020): finished  347 trials in 0 min 10 sec"
     ]
    },
    {
     "name": "stdout",
     "output_type": "stream",
     "text": [
      "\n"
     ]
    },
    {
     "name": "stdout",
     "output_type": "stream",
     "text": [
      "\tITA,  3rd phase (09Apr2020 - 18Apr2020): finished  344 trials in 0 min 10 sec"
     ]
    },
    {
     "name": "stdout",
     "output_type": "stream",
     "text": [
      "\n"
     ]
    },
    {
     "name": "stdout",
     "output_type": "stream",
     "text": [
      "\tIRN,  3rd phase (15May2020 - 31May2020): finished  196 trials in 0 min  5 sec"
     ]
    },
    {
     "name": "stdout",
     "output_type": "stream",
     "text": [
      "\n"
     ]
    },
    {
     "name": "stdout",
     "output_type": "stream",
     "text": [
      "\tTUR, 10th phase (07Sep2020 - 20Sep2020): finished  190 trials in 0 min  5 sec"
     ]
    },
    {
     "name": "stdout",
     "output_type": "stream",
     "text": [
      "\n"
     ]
    },
    {
     "name": "stdout",
     "output_type": "stream",
     "text": [
      "\tTUR,  8th phase (05Aug2020 - 22Aug2020): finished  367 trials in 0 min 10 sec"
     ]
    },
    {
     "name": "stdout",
     "output_type": "stream",
     "text": [
      "\n"
     ]
    },
    {
     "name": "stdout",
     "output_type": "stream",
     "text": [
      "\tTUR,  2nd phase (30Apr2020 - 08May2020): finished 1150 trials in 0 min 35 sec"
     ]
    },
    {
     "name": "stdout",
     "output_type": "stream",
     "text": [
      "\n"
     ]
    },
    {
     "name": "stdout",
     "output_type": "stream",
     "text": [
      "\tBRA,  6th phase (31Jul2020 - 10Aug2020): finished 1001 trials in 0 min 30 sec"
     ]
    },
    {
     "name": "stdout",
     "output_type": "stream",
     "text": [
      "\n"
     ]
    },
    {
     "name": "stdout",
     "output_type": "stream",
     "text": [
      "Completed optimization. Total: 29 min 25 sec"
     ]
    },
    {
     "name": "stdout",
     "output_type": "stream",
     "text": [
      "\n"
     ]
    }
   ],
   "source": [
    "# Parameter estimation with SIR-F model\n",
    "analyser.estimate(cs.SIRF)"
   ]
  },
  {
   "cell_type": "code",
   "execution_count": 12,
   "metadata": {
    "collapsed": false
   },
   "outputs": [
    {
     "data": {
      "text/html": [
       "<div>\n",
       "<style scoped>\n",
       "    .dataframe tbody tr th:only-of-type {\n",
       "        vertical-align: middle;\n",
       "    }\n",
       "\n",
       "    .dataframe tbody tr th {\n",
       "        vertical-align: top;\n",
       "    }\n",
       "\n",
       "    .dataframe thead th {\n",
       "        text-align: right;\n",
       "    }\n",
       "</style>\n",
       "<table border=\"1\" class=\"dataframe\">\n",
       "  <thead>\n",
       "    <tr style=\"text-align: right;\">\n",
       "      <th></th>\n",
       "      <th></th>\n",
       "      <th>Type</th>\n",
       "      <th>Start</th>\n",
       "      <th>End</th>\n",
       "      <th>Population</th>\n",
       "      <th>ODE</th>\n",
       "      <th>Rt</th>\n",
       "      <th>theta</th>\n",
       "      <th>kappa</th>\n",
       "      <th>rho</th>\n",
       "      <th>sigma</th>\n",
       "      <th>tau</th>\n",
       "      <th>1/gamma [day]</th>\n",
       "      <th>alpha1 [-]</th>\n",
       "      <th>1/alpha2 [day]</th>\n",
       "      <th>1/beta [day]</th>\n",
       "      <th>RMSLE</th>\n",
       "      <th>Trials</th>\n",
       "      <th>Runtime</th>\n",
       "    </tr>\n",
       "    <tr>\n",
       "      <th>Country</th>\n",
       "      <th>Phase</th>\n",
       "      <th></th>\n",
       "      <th></th>\n",
       "      <th></th>\n",
       "      <th></th>\n",
       "      <th></th>\n",
       "      <th></th>\n",
       "      <th></th>\n",
       "      <th></th>\n",
       "      <th></th>\n",
       "      <th></th>\n",
       "      <th></th>\n",
       "      <th></th>\n",
       "      <th></th>\n",
       "      <th></th>\n",
       "      <th></th>\n",
       "      <th></th>\n",
       "      <th></th>\n",
       "      <th></th>\n",
       "    </tr>\n",
       "  </thead>\n",
       "  <tbody>\n",
       "    <tr>\n",
       "      <th rowspan=\"13\" valign=\"top\">Russia</th>\n",
       "      <th>0th</th>\n",
       "      <td>Past</td>\n",
       "      <td>12Feb2020</td>\n",
       "      <td>06May2020</td>\n",
       "      <td>330457362</td>\n",
       "      <td>SIR-F</td>\n",
       "      <td>0.02</td>\n",
       "      <td>0.602763</td>\n",
       "      <td>0.544883</td>\n",
       "      <td>0.0340813</td>\n",
       "      <td>0.00229851</td>\n",
       "      <td>360</td>\n",
       "      <td>108</td>\n",
       "      <td>0.603</td>\n",
       "      <td>0</td>\n",
       "      <td>7</td>\n",
       "      <td>18.9667</td>\n",
       "      <td>1533</td>\n",
       "      <td>1 min  0 sec</td>\n",
       "    </tr>\n",
       "    <tr>\n",
       "      <th>1st</th>\n",
       "      <td>Past</td>\n",
       "      <td>07May2020</td>\n",
       "      <td>16May2020</td>\n",
       "      <td>330457362</td>\n",
       "      <td>SIR-F</td>\n",
       "      <td>2.51</td>\n",
       "      <td>0.000729031</td>\n",
       "      <td>0.000119717</td>\n",
       "      <td>0.0129583</td>\n",
       "      <td>0.00504465</td>\n",
       "      <td>360</td>\n",
       "      <td>49</td>\n",
       "      <td>0.001</td>\n",
       "      <td>2088</td>\n",
       "      <td>19</td>\n",
       "      <td>0.0742295</td>\n",
       "      <td>1443</td>\n",
       "      <td>1 min  0 sec</td>\n",
       "    </tr>\n",
       "    <tr>\n",
       "      <th>2nd</th>\n",
       "      <td>Past</td>\n",
       "      <td>17May2020</td>\n",
       "      <td>27May2020</td>\n",
       "      <td>330457362</td>\n",
       "      <td>SIR-F</td>\n",
       "      <td>1.15</td>\n",
       "      <td>0.000245149</td>\n",
       "      <td>0.000113228</td>\n",
       "      <td>0.00683065</td>\n",
       "      <td>0.00582833</td>\n",
       "      <td>360</td>\n",
       "      <td>42</td>\n",
       "      <td>0</td>\n",
       "      <td>2207</td>\n",
       "      <td>36</td>\n",
       "      <td>0.108726</td>\n",
       "      <td>1422</td>\n",
       "      <td>1 min  0 sec</td>\n",
       "    </tr>\n",
       "    <tr>\n",
       "      <th>3rd</th>\n",
       "      <td>Past</td>\n",
       "      <td>28May2020</td>\n",
       "      <td>05Jun2020</td>\n",
       "      <td>330457362</td>\n",
       "      <td>SIR-F</td>\n",
       "      <td>1.1</td>\n",
       "      <td>0.000596242</td>\n",
       "      <td>0.000113634</td>\n",
       "      <td>0.0051706</td>\n",
       "      <td>0.00457356</td>\n",
       "      <td>360</td>\n",
       "      <td>54</td>\n",
       "      <td>0.001</td>\n",
       "      <td>2200</td>\n",
       "      <td>48</td>\n",
       "      <td>0.0627844</td>\n",
       "      <td>1329</td>\n",
       "      <td>1 min  0 sec</td>\n",
       "    </tr>\n",
       "    <tr>\n",
       "      <th>4th</th>\n",
       "      <td>Past</td>\n",
       "      <td>06Jun2020</td>\n",
       "      <td>15Jun2020</td>\n",
       "      <td>330457362</td>\n",
       "      <td>SIR-F</td>\n",
       "      <td>1.28</td>\n",
       "      <td>0.000786892</td>\n",
       "      <td>7.74638e-05</td>\n",
       "      <td>0.00439562</td>\n",
       "      <td>0.00335729</td>\n",
       "      <td>360</td>\n",
       "      <td>74</td>\n",
       "      <td>0.001</td>\n",
       "      <td>3227</td>\n",
       "      <td>56</td>\n",
       "      <td>0.0548609</td>\n",
       "      <td>1349</td>\n",
       "      <td>1 min  0 sec</td>\n",
       "    </tr>\n",
       "    <tr>\n",
       "      <th>5th</th>\n",
       "      <td>Past</td>\n",
       "      <td>16Jun2020</td>\n",
       "      <td>27Jun2020</td>\n",
       "      <td>330457362</td>\n",
       "      <td>SIR-F</td>\n",
       "      <td>0.8</td>\n",
       "      <td>0.000390937</td>\n",
       "      <td>7.58064e-05</td>\n",
       "      <td>0.00341093</td>\n",
       "      <td>0.00418775</td>\n",
       "      <td>360</td>\n",
       "      <td>59</td>\n",
       "      <td>0</td>\n",
       "      <td>3297</td>\n",
       "      <td>73</td>\n",
       "      <td>0.081878</td>\n",
       "      <td>1475</td>\n",
       "      <td>1 min  0 sec</td>\n",
       "    </tr>\n",
       "    <tr>\n",
       "      <th>6th</th>\n",
       "      <td>Past</td>\n",
       "      <td>28Jun2020</td>\n",
       "      <td>10Jul2020</td>\n",
       "      <td>330457362</td>\n",
       "      <td>SIR-F</td>\n",
       "      <td>0.95</td>\n",
       "      <td>0.0219693</td>\n",
       "      <td>9.9669e-06</td>\n",
       "      <td>0.0024934</td>\n",
       "      <td>0.00255958</td>\n",
       "      <td>360</td>\n",
       "      <td>97</td>\n",
       "      <td>0.022</td>\n",
       "      <td>25083</td>\n",
       "      <td>100</td>\n",
       "      <td>0.0595978</td>\n",
       "      <td>1448</td>\n",
       "      <td>1 min  0 sec</td>\n",
       "    </tr>\n",
       "    <tr>\n",
       "      <th>7th</th>\n",
       "      <td>Past</td>\n",
       "      <td>11Jul2020</td>\n",
       "      <td>24Jul2020</td>\n",
       "      <td>330457362</td>\n",
       "      <td>SIR-F</td>\n",
       "      <td>0.87</td>\n",
       "      <td>0.0176565</td>\n",
       "      <td>1.87992e-05</td>\n",
       "      <td>0.00209159</td>\n",
       "      <td>0.00234437</td>\n",
       "      <td>360</td>\n",
       "      <td>106</td>\n",
       "      <td>0.018</td>\n",
       "      <td>13298</td>\n",
       "      <td>119</td>\n",
       "      <td>0.0606394</td>\n",
       "      <td>1451</td>\n",
       "      <td>1 min  0 sec</td>\n",
       "    </tr>\n",
       "    <tr>\n",
       "      <th>8th</th>\n",
       "      <td>Past</td>\n",
       "      <td>25Jul2020</td>\n",
       "      <td>08Aug2020</td>\n",
       "      <td>330457362</td>\n",
       "      <td>SIR-F</td>\n",
       "      <td>0.77</td>\n",
       "      <td>0.0191266</td>\n",
       "      <td>6.10111e-06</td>\n",
       "      <td>0.00162793</td>\n",
       "      <td>0.00207102</td>\n",
       "      <td>360</td>\n",
       "      <td>120</td>\n",
       "      <td>0.019</td>\n",
       "      <td>40976</td>\n",
       "      <td>153</td>\n",
       "      <td>0.058755</td>\n",
       "      <td>1565</td>\n",
       "      <td>1 min  0 sec</td>\n",
       "    </tr>\n",
       "    <tr>\n",
       "      <th>9th</th>\n",
       "      <td>Past</td>\n",
       "      <td>09Aug2020</td>\n",
       "      <td>25Aug2020</td>\n",
       "      <td>330457362</td>\n",
       "      <td>SIR-F</td>\n",
       "      <td>0.88</td>\n",
       "      <td>0.00689034</td>\n",
       "      <td>4.95955e-05</td>\n",
       "      <td>0.00131997</td>\n",
       "      <td>0.00143376</td>\n",
       "      <td>360</td>\n",
       "      <td>174</td>\n",
       "      <td>0.007</td>\n",
       "      <td>5040</td>\n",
       "      <td>189</td>\n",
       "      <td>0.0732087</td>\n",
       "      <td>1319</td>\n",
       "      <td>1 min  0 sec</td>\n",
       "    </tr>\n",
       "    <tr>\n",
       "      <th>10th</th>\n",
       "      <td>Past</td>\n",
       "      <td>26Aug2020</td>\n",
       "      <td>11Sep2020</td>\n",
       "      <td>330457362</td>\n",
       "      <td>SIR-F</td>\n",
       "      <td>0.89</td>\n",
       "      <td>0.000891504</td>\n",
       "      <td>2.12576e-05</td>\n",
       "      <td>0.00124912</td>\n",
       "      <td>0.00138666</td>\n",
       "      <td>360</td>\n",
       "      <td>180</td>\n",
       "      <td>0.001</td>\n",
       "      <td>11760</td>\n",
       "      <td>200</td>\n",
       "      <td>0.0481596</td>\n",
       "      <td>1533</td>\n",
       "      <td>1 min  0 sec</td>\n",
       "    </tr>\n",
       "    <tr>\n",
       "      <th>11th</th>\n",
       "      <td>Past</td>\n",
       "      <td>12Sep2020</td>\n",
       "      <td>25Sep2020</td>\n",
       "      <td>330457362</td>\n",
       "      <td>-</td>\n",
       "      <td>-</td>\n",
       "      <td>-</td>\n",
       "      <td>-</td>\n",
       "      <td>-</td>\n",
       "      <td>-</td>\n",
       "      <td>-</td>\n",
       "      <td>-</td>\n",
       "      <td>-</td>\n",
       "      <td>-</td>\n",
       "      <td>-</td>\n",
       "      <td>-</td>\n",
       "      <td>-</td>\n",
       "      <td>-</td>\n",
       "    </tr>\n",
       "    <tr>\n",
       "      <th>12th</th>\n",
       "      <td>Past</td>\n",
       "      <td>26Sep2020</td>\n",
       "      <td>07Oct2020</td>\n",
       "      <td>330457362</td>\n",
       "      <td>-</td>\n",
       "      <td>-</td>\n",
       "      <td>-</td>\n",
       "      <td>-</td>\n",
       "      <td>-</td>\n",
       "      <td>-</td>\n",
       "      <td>-</td>\n",
       "      <td>-</td>\n",
       "      <td>-</td>\n",
       "      <td>-</td>\n",
       "      <td>-</td>\n",
       "      <td>-</td>\n",
       "      <td>-</td>\n",
       "      <td>-</td>\n",
       "    </tr>\n",
       "  </tbody>\n",
       "</table>\n",
       "</div>"
      ],
      "text/plain": [
       "               Type      Start        End  Population    ODE    Rt  \\\n",
       "Country Phase                                                        \n",
       "Russia  0th    Past  12Feb2020  06May2020   330457362  SIR-F  0.02   \n",
       "        1st    Past  07May2020  16May2020   330457362  SIR-F  2.51   \n",
       "        2nd    Past  17May2020  27May2020   330457362  SIR-F  1.15   \n",
       "        3rd    Past  28May2020  05Jun2020   330457362  SIR-F   1.1   \n",
       "        4th    Past  06Jun2020  15Jun2020   330457362  SIR-F  1.28   \n",
       "        5th    Past  16Jun2020  27Jun2020   330457362  SIR-F   0.8   \n",
       "        6th    Past  28Jun2020  10Jul2020   330457362  SIR-F  0.95   \n",
       "        7th    Past  11Jul2020  24Jul2020   330457362  SIR-F  0.87   \n",
       "        8th    Past  25Jul2020  08Aug2020   330457362  SIR-F  0.77   \n",
       "        9th    Past  09Aug2020  25Aug2020   330457362  SIR-F  0.88   \n",
       "        10th   Past  26Aug2020  11Sep2020   330457362  SIR-F  0.89   \n",
       "        11th   Past  12Sep2020  25Sep2020   330457362      -     -   \n",
       "        12th   Past  26Sep2020  07Oct2020   330457362      -     -   \n",
       "\n",
       "                     theta        kappa         rho       sigma  tau  \\\n",
       "Country Phase                                                          \n",
       "Russia  0th       0.602763     0.544883   0.0340813  0.00229851  360   \n",
       "        1st    0.000729031  0.000119717   0.0129583  0.00504465  360   \n",
       "        2nd    0.000245149  0.000113228  0.00683065  0.00582833  360   \n",
       "        3rd    0.000596242  0.000113634   0.0051706  0.00457356  360   \n",
       "        4th    0.000786892  7.74638e-05  0.00439562  0.00335729  360   \n",
       "        5th    0.000390937  7.58064e-05  0.00341093  0.00418775  360   \n",
       "        6th      0.0219693   9.9669e-06   0.0024934  0.00255958  360   \n",
       "        7th      0.0176565  1.87992e-05  0.00209159  0.00234437  360   \n",
       "        8th      0.0191266  6.10111e-06  0.00162793  0.00207102  360   \n",
       "        9th     0.00689034  4.95955e-05  0.00131997  0.00143376  360   \n",
       "        10th   0.000891504  2.12576e-05  0.00124912  0.00138666  360   \n",
       "        11th             -            -           -           -    -   \n",
       "        12th             -            -           -           -    -   \n",
       "\n",
       "              1/gamma [day] alpha1 [-] 1/alpha2 [day] 1/beta [day]      RMSLE  \\\n",
       "Country Phase                                                                   \n",
       "Russia  0th             108      0.603              0            7    18.9667   \n",
       "        1st              49      0.001           2088           19  0.0742295   \n",
       "        2nd              42          0           2207           36   0.108726   \n",
       "        3rd              54      0.001           2200           48  0.0627844   \n",
       "        4th              74      0.001           3227           56  0.0548609   \n",
       "        5th              59          0           3297           73   0.081878   \n",
       "        6th              97      0.022          25083          100  0.0595978   \n",
       "        7th             106      0.018          13298          119  0.0606394   \n",
       "        8th             120      0.019          40976          153   0.058755   \n",
       "        9th             174      0.007           5040          189  0.0732087   \n",
       "        10th            180      0.001          11760          200  0.0481596   \n",
       "        11th              -          -              -            -          -   \n",
       "        12th              -          -              -            -          -   \n",
       "\n",
       "              Trials       Runtime  \n",
       "Country Phase                       \n",
       "Russia  0th     1533  1 min  0 sec  \n",
       "        1st     1443  1 min  0 sec  \n",
       "        2nd     1422  1 min  0 sec  \n",
       "        3rd     1329  1 min  0 sec  \n",
       "        4th     1349  1 min  0 sec  \n",
       "        5th     1475  1 min  0 sec  \n",
       "        6th     1448  1 min  0 sec  \n",
       "        7th     1451  1 min  0 sec  \n",
       "        8th     1565  1 min  0 sec  \n",
       "        9th     1319  1 min  0 sec  \n",
       "        10th    1533  1 min  0 sec  \n",
       "        11th       -             -  \n",
       "        12th       -             -  "
      ]
     },
     "execution_count": 12,
     "metadata": {},
     "output_type": "execute_result"
    }
   ],
   "source": [
    "# Show summary\n",
    "analyser.summary(countries=countries_show)"
   ]
  },
  {
   "cell_type": "markdown",
   "metadata": {},
   "source": [
    "## Compare the history of parameters\n",
    "Here, compare the history of parameter values if countries."
   ]
  },
  {
   "cell_type": "code",
   "execution_count": 13,
   "metadata": {
    "collapsed": false
   },
   "outputs": [
    {
     "data": {
      "text/html": [
       "<div>\n",
       "<style scoped>\n",
       "    .dataframe tbody tr th:only-of-type {\n",
       "        vertical-align: middle;\n",
       "    }\n",
       "\n",
       "    .dataframe tbody tr th {\n",
       "        vertical-align: top;\n",
       "    }\n",
       "\n",
       "    .dataframe thead th {\n",
       "        text-align: right;\n",
       "    }\n",
       "</style>\n",
       "<table border=\"1\" class=\"dataframe\">\n",
       "  <thead>\n",
       "    <tr style=\"text-align: right;\">\n",
       "      <th></th>\n",
       "      <th>Date</th>\n",
       "      <th>Country</th>\n",
       "      <th>theta</th>\n",
       "      <th>kappa</th>\n",
       "      <th>rho</th>\n",
       "      <th>sigma</th>\n",
       "      <th>alpha1 [-]</th>\n",
       "      <th>1/alpha2 [day]</th>\n",
       "      <th>1/beta [day]</th>\n",
       "      <th>1/gamma [day]</th>\n",
       "      <th>...</th>\n",
       "      <th>Cancel_events</th>\n",
       "      <th>Gatherings_restrictions</th>\n",
       "      <th>Transport_closing</th>\n",
       "      <th>Stay_home_restrictions</th>\n",
       "      <th>Internal_movement_restrictions</th>\n",
       "      <th>International_movement_restrictions</th>\n",
       "      <th>Information_campaigns</th>\n",
       "      <th>Testing_policy</th>\n",
       "      <th>Contact_tracing</th>\n",
       "      <th>Stringency_index</th>\n",
       "    </tr>\n",
       "  </thead>\n",
       "  <tbody>\n",
       "    <tr>\n",
       "      <th>0</th>\n",
       "      <td>2020-03-21</td>\n",
       "      <td>Burkina Faso</td>\n",
       "      <td>0.0490537</td>\n",
       "      <td>0.00077981</td>\n",
       "      <td>0.0418</td>\n",
       "      <td>0.00320672</td>\n",
       "      <td>0.049</td>\n",
       "      <td>320</td>\n",
       "      <td>5</td>\n",
       "      <td>77</td>\n",
       "      <td>...</td>\n",
       "      <td>2</td>\n",
       "      <td>1</td>\n",
       "      <td>0</td>\n",
       "      <td>2</td>\n",
       "      <td>2</td>\n",
       "      <td>4</td>\n",
       "      <td>2</td>\n",
       "      <td>1</td>\n",
       "      <td>2</td>\n",
       "      <td>73.15</td>\n",
       "    </tr>\n",
       "    <tr>\n",
       "      <th>1</th>\n",
       "      <td>2020-03-22</td>\n",
       "      <td>Burkina Faso</td>\n",
       "      <td>0.0490537</td>\n",
       "      <td>0.00077981</td>\n",
       "      <td>0.0418</td>\n",
       "      <td>0.00320672</td>\n",
       "      <td>0.049</td>\n",
       "      <td>320</td>\n",
       "      <td>5</td>\n",
       "      <td>77</td>\n",
       "      <td>...</td>\n",
       "      <td>2</td>\n",
       "      <td>1</td>\n",
       "      <td>0</td>\n",
       "      <td>2</td>\n",
       "      <td>2</td>\n",
       "      <td>4</td>\n",
       "      <td>2</td>\n",
       "      <td>1</td>\n",
       "      <td>2</td>\n",
       "      <td>73.15</td>\n",
       "    </tr>\n",
       "    <tr>\n",
       "      <th>2</th>\n",
       "      <td>2020-03-23</td>\n",
       "      <td>Burkina Faso</td>\n",
       "      <td>0.0490537</td>\n",
       "      <td>0.00077981</td>\n",
       "      <td>0.0418</td>\n",
       "      <td>0.00320672</td>\n",
       "      <td>0.049</td>\n",
       "      <td>320</td>\n",
       "      <td>5</td>\n",
       "      <td>77</td>\n",
       "      <td>...</td>\n",
       "      <td>2</td>\n",
       "      <td>1</td>\n",
       "      <td>2</td>\n",
       "      <td>2</td>\n",
       "      <td>2</td>\n",
       "      <td>4</td>\n",
       "      <td>2</td>\n",
       "      <td>1</td>\n",
       "      <td>2</td>\n",
       "      <td>84.26</td>\n",
       "    </tr>\n",
       "    <tr>\n",
       "      <th>3</th>\n",
       "      <td>2020-03-24</td>\n",
       "      <td>Burkina Faso</td>\n",
       "      <td>0.0490537</td>\n",
       "      <td>0.00077981</td>\n",
       "      <td>0.0418</td>\n",
       "      <td>0.00320672</td>\n",
       "      <td>0.049</td>\n",
       "      <td>320</td>\n",
       "      <td>5</td>\n",
       "      <td>77</td>\n",
       "      <td>...</td>\n",
       "      <td>2</td>\n",
       "      <td>1</td>\n",
       "      <td>2</td>\n",
       "      <td>2</td>\n",
       "      <td>2</td>\n",
       "      <td>4</td>\n",
       "      <td>2</td>\n",
       "      <td>1</td>\n",
       "      <td>2</td>\n",
       "      <td>84.26</td>\n",
       "    </tr>\n",
       "    <tr>\n",
       "      <th>4</th>\n",
       "      <td>2020-03-25</td>\n",
       "      <td>Burkina Faso</td>\n",
       "      <td>0.0490537</td>\n",
       "      <td>0.00077981</td>\n",
       "      <td>0.0418</td>\n",
       "      <td>0.00320672</td>\n",
       "      <td>0.049</td>\n",
       "      <td>320</td>\n",
       "      <td>5</td>\n",
       "      <td>77</td>\n",
       "      <td>...</td>\n",
       "      <td>2</td>\n",
       "      <td>1</td>\n",
       "      <td>2</td>\n",
       "      <td>2</td>\n",
       "      <td>2</td>\n",
       "      <td>4</td>\n",
       "      <td>2</td>\n",
       "      <td>1</td>\n",
       "      <td>2</td>\n",
       "      <td>84.26</td>\n",
       "    </tr>\n",
       "  </tbody>\n",
       "</table>\n",
       "<p>5 rows × 23 columns</p>\n",
       "</div>"
      ],
      "text/plain": [
       "        Date       Country      theta       kappa     rho       sigma  \\\n",
       "0 2020-03-21  Burkina Faso  0.0490537  0.00077981  0.0418  0.00320672   \n",
       "1 2020-03-22  Burkina Faso  0.0490537  0.00077981  0.0418  0.00320672   \n",
       "2 2020-03-23  Burkina Faso  0.0490537  0.00077981  0.0418  0.00320672   \n",
       "3 2020-03-24  Burkina Faso  0.0490537  0.00077981  0.0418  0.00320672   \n",
       "4 2020-03-25  Burkina Faso  0.0490537  0.00077981  0.0418  0.00320672   \n",
       "\n",
       "  alpha1 [-] 1/alpha2 [day] 1/beta [day] 1/gamma [day]  ... Cancel_events  \\\n",
       "0      0.049            320            5            77  ...             2   \n",
       "1      0.049            320            5            77  ...             2   \n",
       "2      0.049            320            5            77  ...             2   \n",
       "3      0.049            320            5            77  ...             2   \n",
       "4      0.049            320            5            77  ...             2   \n",
       "\n",
       "   Gatherings_restrictions  Transport_closing  Stay_home_restrictions  \\\n",
       "0                        1                  0                       2   \n",
       "1                        1                  0                       2   \n",
       "2                        1                  2                       2   \n",
       "3                        1                  2                       2   \n",
       "4                        1                  2                       2   \n",
       "\n",
       "   Internal_movement_restrictions  International_movement_restrictions  \\\n",
       "0                               2                                    4   \n",
       "1                               2                                    4   \n",
       "2                               2                                    4   \n",
       "3                               2                                    4   \n",
       "4                               2                                    4   \n",
       "\n",
       "   Information_campaigns  Testing_policy  Contact_tracing  Stringency_index  \n",
       "0                      2               1                2             73.15  \n",
       "1                      2               1                2             73.15  \n",
       "2                      2               1                2             84.26  \n",
       "3                      2               1                2             84.26  \n",
       "4                      2               1                2             84.26  \n",
       "\n",
       "[5 rows x 23 columns]"
      ]
     },
     "execution_count": 13,
     "metadata": {},
     "output_type": "execute_result"
    }
   ],
   "source": [
    "# All parameter/day parameter/Rt/OxCGRT\n",
    "analyser.track().head()"
   ]
  },
  {
   "cell_type": "markdown",
   "metadata": {},
   "source": [
    "### $Rt$: Reprodcution number $\\mathrm{[-]}$"
   ]
  },
  {
   "cell_type": "code",
   "execution_count": 14,
   "metadata": {
    "collapsed": false
   },
   "outputs": [
    {
     "data": {
      "image/png": "[encoded data removed]",
      "text/plain": [
       "<Figure size 648x432 with 1 Axes>"
      ]
     },
     "metadata": {},
     "output_type": "display_data"
    },
    {
     "data": {
      "text/html": [
       "<div>\n",
       "<style scoped>\n",
       "    .dataframe tbody tr th:only-of-type {\n",
       "        vertical-align: middle;\n",
       "    }\n",
       "\n",
       "    .dataframe tbody tr th {\n",
       "        vertical-align: top;\n",
       "    }\n",
       "\n",
       "    .dataframe thead th {\n",
       "        text-align: right;\n",
       "    }\n",
       "</style>\n",
       "<table border=\"1\" class=\"dataframe\">\n",
       "  <thead>\n",
       "    <tr style=\"text-align: right;\">\n",
       "      <th>Country</th>\n",
       "      <th>Bahrain</th>\n",
       "      <th>Bolivia</th>\n",
       "      <th>Brazil</th>\n",
       "      <th>Burkina Faso</th>\n",
       "      <th>France</th>\n",
       "      <th>Iran</th>\n",
       "      <th>Italy</th>\n",
       "      <th>Latvia</th>\n",
       "      <th>Macedonia</th>\n",
       "      <th>Portugal</th>\n",
       "      <th>Russia</th>\n",
       "      <th>Turkey</th>\n",
       "      <th>United States</th>\n",
       "    </tr>\n",
       "    <tr>\n",
       "      <th>Date</th>\n",
       "      <th></th>\n",
       "      <th></th>\n",
       "      <th></th>\n",
       "      <th></th>\n",
       "      <th></th>\n",
       "      <th></th>\n",
       "      <th></th>\n",
       "      <th></th>\n",
       "      <th></th>\n",
       "      <th></th>\n",
       "      <th></th>\n",
       "      <th></th>\n",
       "      <th></th>\n",
       "    </tr>\n",
       "  </thead>\n",
       "  <tbody>\n",
       "    <tr>\n",
       "      <th>2020-10-03</th>\n",
       "      <td>0.8</td>\n",
       "      <td>0.74</td>\n",
       "      <td>0.98</td>\n",
       "      <td>1.11</td>\n",
       "      <td>26.25</td>\n",
       "      <td>1.53</td>\n",
       "      <td>1.86</td>\n",
       "      <td>71.23</td>\n",
       "      <td>1.34</td>\n",
       "      <td>2.11</td>\n",
       "      <td>0.89</td>\n",
       "      <td>1.33</td>\n",
       "      <td>2.32</td>\n",
       "    </tr>\n",
       "    <tr>\n",
       "      <th>2020-10-04</th>\n",
       "      <td>0.8</td>\n",
       "      <td>0.74</td>\n",
       "      <td>0.98</td>\n",
       "      <td>1.11</td>\n",
       "      <td>26.25</td>\n",
       "      <td>1.53</td>\n",
       "      <td>1.86</td>\n",
       "      <td>71.23</td>\n",
       "      <td>1.34</td>\n",
       "      <td>2.11</td>\n",
       "      <td>0.89</td>\n",
       "      <td>1.33</td>\n",
       "      <td>2.32</td>\n",
       "    </tr>\n",
       "    <tr>\n",
       "      <th>2020-10-05</th>\n",
       "      <td>0.8</td>\n",
       "      <td>0.74</td>\n",
       "      <td>0.98</td>\n",
       "      <td>1.11</td>\n",
       "      <td>26.25</td>\n",
       "      <td>1.53</td>\n",
       "      <td>1.86</td>\n",
       "      <td>71.23</td>\n",
       "      <td>1.34</td>\n",
       "      <td>2.11</td>\n",
       "      <td>0.89</td>\n",
       "      <td>1.33</td>\n",
       "      <td>2.32</td>\n",
       "    </tr>\n",
       "    <tr>\n",
       "      <th>2020-10-06</th>\n",
       "      <td>0.8</td>\n",
       "      <td>0.74</td>\n",
       "      <td>0.98</td>\n",
       "      <td>1.11</td>\n",
       "      <td>26.25</td>\n",
       "      <td>1.53</td>\n",
       "      <td>1.86</td>\n",
       "      <td>71.23</td>\n",
       "      <td>1.34</td>\n",
       "      <td>2.11</td>\n",
       "      <td>0.89</td>\n",
       "      <td>1.33</td>\n",
       "      <td>2.32</td>\n",
       "    </tr>\n",
       "    <tr>\n",
       "      <th>2020-10-07</th>\n",
       "      <td>0.8</td>\n",
       "      <td>0.74</td>\n",
       "      <td>0.98</td>\n",
       "      <td>1.11</td>\n",
       "      <td>26.25</td>\n",
       "      <td>1.53</td>\n",
       "      <td>1.86</td>\n",
       "      <td>71.23</td>\n",
       "      <td>1.34</td>\n",
       "      <td>2.11</td>\n",
       "      <td>0.89</td>\n",
       "      <td>1.33</td>\n",
       "      <td>2.32</td>\n",
       "    </tr>\n",
       "  </tbody>\n",
       "</table>\n",
       "</div>"
      ],
      "text/plain": [
       "Country     Bahrain  Bolivia  Brazil  Burkina Faso  France  Iran  Italy  \\\n",
       "Date                                                                      \n",
       "2020-10-03      0.8     0.74    0.98          1.11   26.25  1.53   1.86   \n",
       "2020-10-04      0.8     0.74    0.98          1.11   26.25  1.53   1.86   \n",
       "2020-10-05      0.8     0.74    0.98          1.11   26.25  1.53   1.86   \n",
       "2020-10-06      0.8     0.74    0.98          1.11   26.25  1.53   1.86   \n",
       "2020-10-07      0.8     0.74    0.98          1.11   26.25  1.53   1.86   \n",
       "\n",
       "Country     Latvia  Macedonia  Portugal  Russia  Turkey  United States  \n",
       "Date                                                                    \n",
       "2020-10-03   71.23       1.34      2.11    0.89    1.33           2.32  \n",
       "2020-10-04   71.23       1.34      2.11    0.89    1.33           2.32  \n",
       "2020-10-05   71.23       1.34      2.11    0.89    1.33           2.32  \n",
       "2020-10-06   71.23       1.34      2.11    0.89    1.33           2.32  \n",
       "2020-10-07   71.23       1.34      2.11    0.89    1.33           2.32  "
      ]
     },
     "execution_count": 14,
     "metadata": {},
     "output_type": "execute_result"
    }
   ],
   "source": [
    "analyser.param_history(\"Rt\", roll_window=None).tail()"
   ]
  },
  {
   "cell_type": "markdown",
   "metadata": {},
   "source": [
    "### $\\rho$: Effective contact rate $\\mathrm{[-]}$"
   ]
  },
  {
   "cell_type": "code",
   "execution_count": 15,
   "metadata": {
    "collapsed": false
   },
   "outputs": [
    {
     "data": {
      "image/png": "[encoded data removed]",
      "text/plain": [
       "<Figure size 648x432 with 1 Axes>"
      ]
     },
     "metadata": {},
     "output_type": "display_data"
    },
    {
     "data": {
      "text/html": [
       "<div>\n",
       "<style scoped>\n",
       "    .dataframe tbody tr th:only-of-type {\n",
       "        vertical-align: middle;\n",
       "    }\n",
       "\n",
       "    .dataframe tbody tr th {\n",
       "        vertical-align: top;\n",
       "    }\n",
       "\n",
       "    .dataframe thead th {\n",
       "        text-align: right;\n",
       "    }\n",
       "</style>\n",
       "<table border=\"1\" class=\"dataframe\">\n",
       "  <thead>\n",
       "    <tr style=\"text-align: right;\">\n",
       "      <th>Country</th>\n",
       "      <th>Bahrain</th>\n",
       "      <th>Bolivia</th>\n",
       "      <th>Brazil</th>\n",
       "      <th>Burkina Faso</th>\n",
       "      <th>France</th>\n",
       "      <th>Iran</th>\n",
       "      <th>Italy</th>\n",
       "      <th>Latvia</th>\n",
       "      <th>Macedonia</th>\n",
       "      <th>Portugal</th>\n",
       "      <th>Russia</th>\n",
       "      <th>Turkey</th>\n",
       "      <th>United States</th>\n",
       "    </tr>\n",
       "    <tr>\n",
       "      <th>Date</th>\n",
       "      <th></th>\n",
       "      <th></th>\n",
       "      <th></th>\n",
       "      <th></th>\n",
       "      <th></th>\n",
       "      <th></th>\n",
       "      <th></th>\n",
       "      <th></th>\n",
       "      <th></th>\n",
       "      <th></th>\n",
       "      <th></th>\n",
       "      <th></th>\n",
       "      <th></th>\n",
       "    </tr>\n",
       "  </thead>\n",
       "  <tbody>\n",
       "    <tr>\n",
       "      <th>2020-10-03</th>\n",
       "      <td>0.0235</td>\n",
       "      <td>0.003447</td>\n",
       "      <td>0.016389</td>\n",
       "      <td>0.007238</td>\n",
       "      <td>0.006665</td>\n",
       "      <td>0.018536</td>\n",
       "      <td>0.010238</td>\n",
       "      <td>0.001032</td>\n",
       "      <td>0.016837</td>\n",
       "      <td>0.002511</td>\n",
       "      <td>0.001249</td>\n",
       "      <td>0.016527</td>\n",
       "      <td>0.002551</td>\n",
       "    </tr>\n",
       "    <tr>\n",
       "      <th>2020-10-04</th>\n",
       "      <td>0.0235</td>\n",
       "      <td>0.003447</td>\n",
       "      <td>0.016389</td>\n",
       "      <td>0.007238</td>\n",
       "      <td>0.006665</td>\n",
       "      <td>0.018536</td>\n",
       "      <td>0.010238</td>\n",
       "      <td>0.001032</td>\n",
       "      <td>0.016837</td>\n",
       "      <td>0.002511</td>\n",
       "      <td>0.001249</td>\n",
       "      <td>0.016527</td>\n",
       "      <td>0.002551</td>\n",
       "    </tr>\n",
       "    <tr>\n",
       "      <th>2020-10-05</th>\n",
       "      <td>0.0235</td>\n",
       "      <td>0.003447</td>\n",
       "      <td>0.016389</td>\n",
       "      <td>0.007238</td>\n",
       "      <td>0.006665</td>\n",
       "      <td>0.018536</td>\n",
       "      <td>0.010238</td>\n",
       "      <td>0.001032</td>\n",
       "      <td>0.016837</td>\n",
       "      <td>0.002511</td>\n",
       "      <td>0.001249</td>\n",
       "      <td>0.016527</td>\n",
       "      <td>0.002551</td>\n",
       "    </tr>\n",
       "    <tr>\n",
       "      <th>2020-10-06</th>\n",
       "      <td>0.0235</td>\n",
       "      <td>0.003447</td>\n",
       "      <td>0.016389</td>\n",
       "      <td>0.007238</td>\n",
       "      <td>0.006665</td>\n",
       "      <td>0.018536</td>\n",
       "      <td>0.010238</td>\n",
       "      <td>0.001032</td>\n",
       "      <td>0.016837</td>\n",
       "      <td>0.002511</td>\n",
       "      <td>0.001249</td>\n",
       "      <td>0.016527</td>\n",
       "      <td>0.002551</td>\n",
       "    </tr>\n",
       "    <tr>\n",
       "      <th>2020-10-07</th>\n",
       "      <td>0.0235</td>\n",
       "      <td>0.003447</td>\n",
       "      <td>0.016389</td>\n",
       "      <td>0.007238</td>\n",
       "      <td>0.006665</td>\n",
       "      <td>0.018536</td>\n",
       "      <td>0.010238</td>\n",
       "      <td>0.001032</td>\n",
       "      <td>0.016837</td>\n",
       "      <td>0.002511</td>\n",
       "      <td>0.001249</td>\n",
       "      <td>0.016527</td>\n",
       "      <td>0.002551</td>\n",
       "    </tr>\n",
       "  </tbody>\n",
       "</table>\n",
       "</div>"
      ],
      "text/plain": [
       "Country     Bahrain   Bolivia    Brazil  Burkina Faso    France      Iran  \\\n",
       "Date                                                                        \n",
       "2020-10-03   0.0235  0.003447  0.016389      0.007238  0.006665  0.018536   \n",
       "2020-10-04   0.0235  0.003447  0.016389      0.007238  0.006665  0.018536   \n",
       "2020-10-05   0.0235  0.003447  0.016389      0.007238  0.006665  0.018536   \n",
       "2020-10-06   0.0235  0.003447  0.016389      0.007238  0.006665  0.018536   \n",
       "2020-10-07   0.0235  0.003447  0.016389      0.007238  0.006665  0.018536   \n",
       "\n",
       "Country        Italy    Latvia  Macedonia  Portugal    Russia    Turkey  \\\n",
       "Date                                                                      \n",
       "2020-10-03  0.010238  0.001032   0.016837  0.002511  0.001249  0.016527   \n",
       "2020-10-04  0.010238  0.001032   0.016837  0.002511  0.001249  0.016527   \n",
       "2020-10-05  0.010238  0.001032   0.016837  0.002511  0.001249  0.016527   \n",
       "2020-10-06  0.010238  0.001032   0.016837  0.002511  0.001249  0.016527   \n",
       "2020-10-07  0.010238  0.001032   0.016837  0.002511  0.001249  0.016527   \n",
       "\n",
       "Country     United States  \n",
       "Date                       \n",
       "2020-10-03       0.002551  \n",
       "2020-10-04       0.002551  \n",
       "2020-10-05       0.002551  \n",
       "2020-10-06       0.002551  \n",
       "2020-10-07       0.002551  "
      ]
     },
     "execution_count": 15,
     "metadata": {},
     "output_type": "execute_result"
    }
   ],
   "source": [
    "analyser.param_history(\"rho\", roll_window=None).tail()"
   ]
  },
  {
   "cell_type": "markdown",
   "metadata": {},
   "source": [
    "### $\\sigma$: Recovery rate $\\mathrm{[-]}$"
   ]
  },
  {
   "cell_type": "code",
   "execution_count": 16,
   "metadata": {
    "collapsed": false
   },
   "outputs": [
    {
     "data": {
      "image/png": "[encoded data removed]",
      "text/plain": [
       "<Figure size 648x432 with 1 Axes>"
      ]
     },
     "metadata": {},
     "output_type": "display_data"
    },
    {
     "data": {
      "text/html": [
       "<div>\n",
       "<style scoped>\n",
       "    .dataframe tbody tr th:only-of-type {\n",
       "        vertical-align: middle;\n",
       "    }\n",
       "\n",
       "    .dataframe tbody tr th {\n",
       "        vertical-align: top;\n",
       "    }\n",
       "\n",
       "    .dataframe thead th {\n",
       "        text-align: right;\n",
       "    }\n",
       "</style>\n",
       "<table border=\"1\" class=\"dataframe\">\n",
       "  <thead>\n",
       "    <tr style=\"text-align: right;\">\n",
       "      <th>Country</th>\n",
       "      <th>Bahrain</th>\n",
       "      <th>Bolivia</th>\n",
       "      <th>Brazil</th>\n",
       "      <th>Burkina Faso</th>\n",
       "      <th>France</th>\n",
       "      <th>Iran</th>\n",
       "      <th>Italy</th>\n",
       "      <th>Latvia</th>\n",
       "      <th>Macedonia</th>\n",
       "      <th>Portugal</th>\n",
       "      <th>Russia</th>\n",
       "      <th>Turkey</th>\n",
       "      <th>United States</th>\n",
       "    </tr>\n",
       "    <tr>\n",
       "      <th>Date</th>\n",
       "      <th></th>\n",
       "      <th></th>\n",
       "      <th></th>\n",
       "      <th></th>\n",
       "      <th></th>\n",
       "      <th></th>\n",
       "      <th></th>\n",
       "      <th></th>\n",
       "      <th></th>\n",
       "      <th></th>\n",
       "      <th></th>\n",
       "      <th></th>\n",
       "      <th></th>\n",
       "    </tr>\n",
       "  </thead>\n",
       "  <tbody>\n",
       "    <tr>\n",
       "      <th>2020-10-03</th>\n",
       "      <td>0.02922</td>\n",
       "      <td>0.004388</td>\n",
       "      <td>0.016287</td>\n",
       "      <td>0.006361</td>\n",
       "      <td>0.00023</td>\n",
       "      <td>0.011325</td>\n",
       "      <td>0.005419</td>\n",
       "      <td>0.0</td>\n",
       "      <td>0.011988</td>\n",
       "      <td>0.001174</td>\n",
       "      <td>0.001387</td>\n",
       "      <td>0.011844</td>\n",
       "      <td>0.001061</td>\n",
       "    </tr>\n",
       "    <tr>\n",
       "      <th>2020-10-04</th>\n",
       "      <td>0.02922</td>\n",
       "      <td>0.004388</td>\n",
       "      <td>0.016287</td>\n",
       "      <td>0.006361</td>\n",
       "      <td>0.00023</td>\n",
       "      <td>0.011325</td>\n",
       "      <td>0.005419</td>\n",
       "      <td>0.0</td>\n",
       "      <td>0.011988</td>\n",
       "      <td>0.001174</td>\n",
       "      <td>0.001387</td>\n",
       "      <td>0.011844</td>\n",
       "      <td>0.001061</td>\n",
       "    </tr>\n",
       "    <tr>\n",
       "      <th>2020-10-05</th>\n",
       "      <td>0.02922</td>\n",
       "      <td>0.004388</td>\n",
       "      <td>0.016287</td>\n",
       "      <td>0.006361</td>\n",
       "      <td>0.00023</td>\n",
       "      <td>0.011325</td>\n",
       "      <td>0.005419</td>\n",
       "      <td>0.0</td>\n",
       "      <td>0.011988</td>\n",
       "      <td>0.001174</td>\n",
       "      <td>0.001387</td>\n",
       "      <td>0.011844</td>\n",
       "      <td>0.001061</td>\n",
       "    </tr>\n",
       "    <tr>\n",
       "      <th>2020-10-06</th>\n",
       "      <td>0.02922</td>\n",
       "      <td>0.004388</td>\n",
       "      <td>0.016287</td>\n",
       "      <td>0.006361</td>\n",
       "      <td>0.00023</td>\n",
       "      <td>0.011325</td>\n",
       "      <td>0.005419</td>\n",
       "      <td>0.0</td>\n",
       "      <td>0.011988</td>\n",
       "      <td>0.001174</td>\n",
       "      <td>0.001387</td>\n",
       "      <td>0.011844</td>\n",
       "      <td>0.001061</td>\n",
       "    </tr>\n",
       "    <tr>\n",
       "      <th>2020-10-07</th>\n",
       "      <td>0.02922</td>\n",
       "      <td>0.004388</td>\n",
       "      <td>0.016287</td>\n",
       "      <td>0.006361</td>\n",
       "      <td>0.00023</td>\n",
       "      <td>0.011325</td>\n",
       "      <td>0.005419</td>\n",
       "      <td>0.0</td>\n",
       "      <td>0.011988</td>\n",
       "      <td>0.001174</td>\n",
       "      <td>0.001387</td>\n",
       "      <td>0.011844</td>\n",
       "      <td>0.001061</td>\n",
       "    </tr>\n",
       "  </tbody>\n",
       "</table>\n",
       "</div>"
      ],
      "text/plain": [
       "Country     Bahrain   Bolivia    Brazil  Burkina Faso   France      Iran  \\\n",
       "Date                                                                       \n",
       "2020-10-03  0.02922  0.004388  0.016287      0.006361  0.00023  0.011325   \n",
       "2020-10-04  0.02922  0.004388  0.016287      0.006361  0.00023  0.011325   \n",
       "2020-10-05  0.02922  0.004388  0.016287      0.006361  0.00023  0.011325   \n",
       "2020-10-06  0.02922  0.004388  0.016287      0.006361  0.00023  0.011325   \n",
       "2020-10-07  0.02922  0.004388  0.016287      0.006361  0.00023  0.011325   \n",
       "\n",
       "Country        Italy  Latvia  Macedonia  Portugal    Russia    Turkey  \\\n",
       "Date                                                                    \n",
       "2020-10-03  0.005419     0.0   0.011988  0.001174  0.001387  0.011844   \n",
       "2020-10-04  0.005419     0.0   0.011988  0.001174  0.001387  0.011844   \n",
       "2020-10-05  0.005419     0.0   0.011988  0.001174  0.001387  0.011844   \n",
       "2020-10-06  0.005419     0.0   0.011988  0.001174  0.001387  0.011844   \n",
       "2020-10-07  0.005419     0.0   0.011988  0.001174  0.001387  0.011844   \n",
       "\n",
       "Country     United States  \n",
       "Date                       \n",
       "2020-10-03       0.001061  \n",
       "2020-10-04       0.001061  \n",
       "2020-10-05       0.001061  \n",
       "2020-10-06       0.001061  \n",
       "2020-10-07       0.001061  "
      ]
     },
     "execution_count": 16,
     "metadata": {},
     "output_type": "execute_result"
    }
   ],
   "source": [
    "analyser.param_history(\"sigma\", roll_window=None).tail()"
   ]
  },
  {
   "cell_type": "markdown",
   "metadata": {},
   "source": [
    "### $\\kappa$: Mortality rate of infected cases $\\mathrm{[-]}$"
   ]
  },
  {
   "cell_type": "code",
   "execution_count": 17,
   "metadata": {
    "collapsed": false
   },
   "outputs": [
    {
     "data": {
      "image/png": "[encoded data removed]",
      "text/plain": [
       "<Figure size 648x432 with 1 Axes>"
      ]
     },
     "metadata": {},
     "output_type": "display_data"
    },
    {
     "data": {
      "text/html": [
       "<div>\n",
       "<style scoped>\n",
       "    .dataframe tbody tr th:only-of-type {\n",
       "        vertical-align: middle;\n",
       "    }\n",
       "\n",
       "    .dataframe tbody tr th {\n",
       "        vertical-align: top;\n",
       "    }\n",
       "\n",
       "    .dataframe thead th {\n",
       "        text-align: right;\n",
       "    }\n",
       "</style>\n",
       "<table border=\"1\" class=\"dataframe\">\n",
       "  <thead>\n",
       "    <tr style=\"text-align: right;\">\n",
       "      <th>Country</th>\n",
       "      <th>Bahrain</th>\n",
       "      <th>Bolivia</th>\n",
       "      <th>Brazil</th>\n",
       "      <th>Burkina Faso</th>\n",
       "      <th>France</th>\n",
       "      <th>Iran</th>\n",
       "      <th>Italy</th>\n",
       "      <th>Latvia</th>\n",
       "      <th>Macedonia</th>\n",
       "      <th>Portugal</th>\n",
       "      <th>Russia</th>\n",
       "      <th>Turkey</th>\n",
       "      <th>United States</th>\n",
       "    </tr>\n",
       "    <tr>\n",
       "      <th>Date</th>\n",
       "      <th></th>\n",
       "      <th></th>\n",
       "      <th></th>\n",
       "      <th></th>\n",
       "      <th></th>\n",
       "      <th></th>\n",
       "      <th></th>\n",
       "      <th></th>\n",
       "      <th></th>\n",
       "      <th></th>\n",
       "      <th></th>\n",
       "      <th></th>\n",
       "      <th></th>\n",
       "    </tr>\n",
       "  </thead>\n",
       "  <tbody>\n",
       "    <tr>\n",
       "      <th>2020-10-03</th>\n",
       "      <td>0.000098</td>\n",
       "      <td>0.000079</td>\n",
       "      <td>0.000041</td>\n",
       "      <td>0.000136</td>\n",
       "      <td>0.000024</td>\n",
       "      <td>0.000382</td>\n",
       "      <td>0.000084</td>\n",
       "      <td>0.000014</td>\n",
       "      <td>0.000463</td>\n",
       "      <td>0.00001</td>\n",
       "      <td>0.000021</td>\n",
       "      <td>0.000516</td>\n",
       "      <td>0.000041</td>\n",
       "    </tr>\n",
       "    <tr>\n",
       "      <th>2020-10-04</th>\n",
       "      <td>0.000098</td>\n",
       "      <td>0.000079</td>\n",
       "      <td>0.000041</td>\n",
       "      <td>0.000136</td>\n",
       "      <td>0.000024</td>\n",
       "      <td>0.000382</td>\n",
       "      <td>0.000084</td>\n",
       "      <td>0.000014</td>\n",
       "      <td>0.000463</td>\n",
       "      <td>0.00001</td>\n",
       "      <td>0.000021</td>\n",
       "      <td>0.000516</td>\n",
       "      <td>0.000041</td>\n",
       "    </tr>\n",
       "    <tr>\n",
       "      <th>2020-10-05</th>\n",
       "      <td>0.000098</td>\n",
       "      <td>0.000079</td>\n",
       "      <td>0.000041</td>\n",
       "      <td>0.000136</td>\n",
       "      <td>0.000024</td>\n",
       "      <td>0.000382</td>\n",
       "      <td>0.000084</td>\n",
       "      <td>0.000014</td>\n",
       "      <td>0.000463</td>\n",
       "      <td>0.00001</td>\n",
       "      <td>0.000021</td>\n",
       "      <td>0.000516</td>\n",
       "      <td>0.000041</td>\n",
       "    </tr>\n",
       "    <tr>\n",
       "      <th>2020-10-06</th>\n",
       "      <td>0.000098</td>\n",
       "      <td>0.000079</td>\n",
       "      <td>0.000041</td>\n",
       "      <td>0.000136</td>\n",
       "      <td>0.000024</td>\n",
       "      <td>0.000382</td>\n",
       "      <td>0.000084</td>\n",
       "      <td>0.000014</td>\n",
       "      <td>0.000463</td>\n",
       "      <td>0.00001</td>\n",
       "      <td>0.000021</td>\n",
       "      <td>0.000516</td>\n",
       "      <td>0.000041</td>\n",
       "    </tr>\n",
       "    <tr>\n",
       "      <th>2020-10-07</th>\n",
       "      <td>0.000098</td>\n",
       "      <td>0.000079</td>\n",
       "      <td>0.000041</td>\n",
       "      <td>0.000136</td>\n",
       "      <td>0.000024</td>\n",
       "      <td>0.000382</td>\n",
       "      <td>0.000084</td>\n",
       "      <td>0.000014</td>\n",
       "      <td>0.000463</td>\n",
       "      <td>0.00001</td>\n",
       "      <td>0.000021</td>\n",
       "      <td>0.000516</td>\n",
       "      <td>0.000041</td>\n",
       "    </tr>\n",
       "  </tbody>\n",
       "</table>\n",
       "</div>"
      ],
      "text/plain": [
       "Country      Bahrain   Bolivia    Brazil  Burkina Faso    France      Iran  \\\n",
       "Date                                                                         \n",
       "2020-10-03  0.000098  0.000079  0.000041      0.000136  0.000024  0.000382   \n",
       "2020-10-04  0.000098  0.000079  0.000041      0.000136  0.000024  0.000382   \n",
       "2020-10-05  0.000098  0.000079  0.000041      0.000136  0.000024  0.000382   \n",
       "2020-10-06  0.000098  0.000079  0.000041      0.000136  0.000024  0.000382   \n",
       "2020-10-07  0.000098  0.000079  0.000041      0.000136  0.000024  0.000382   \n",
       "\n",
       "Country        Italy    Latvia  Macedonia  Portugal    Russia    Turkey  \\\n",
       "Date                                                                      \n",
       "2020-10-03  0.000084  0.000014   0.000463   0.00001  0.000021  0.000516   \n",
       "2020-10-04  0.000084  0.000014   0.000463   0.00001  0.000021  0.000516   \n",
       "2020-10-05  0.000084  0.000014   0.000463   0.00001  0.000021  0.000516   \n",
       "2020-10-06  0.000084  0.000014   0.000463   0.00001  0.000021  0.000516   \n",
       "2020-10-07  0.000084  0.000014   0.000463   0.00001  0.000021  0.000516   \n",
       "\n",
       "Country     United States  \n",
       "Date                       \n",
       "2020-10-03       0.000041  \n",
       "2020-10-04       0.000041  \n",
       "2020-10-05       0.000041  \n",
       "2020-10-06       0.000041  \n",
       "2020-10-07       0.000041  "
      ]
     },
     "execution_count": 17,
     "metadata": {},
     "output_type": "execute_result"
    }
   ],
   "source": [
    "analyser.param_history(\"kappa\", roll_window=None).tail()"
   ]
  },
  {
   "cell_type": "markdown",
   "metadata": {},
   "source": [
    "### $\\theta$: Mortality rate of S$^\\ast$ cases $\\mathrm{[-]}$"
   ]
  },
  {
   "cell_type": "code",
   "execution_count": 18,
   "metadata": {
    "collapsed": false
   },
   "outputs": [
    {
     "data": {
      "image/png": "[encoded data removed]",
      "text/plain": [
       "<Figure size 648x432 with 1 Axes>"
      ]
     },
     "metadata": {},
     "output_type": "display_data"
    },
    {
     "data": {
      "text/html": [
       "<div>\n",
       "<style scoped>\n",
       "    .dataframe tbody tr th:only-of-type {\n",
       "        vertical-align: middle;\n",
       "    }\n",
       "\n",
       "    .dataframe tbody tr th {\n",
       "        vertical-align: top;\n",
       "    }\n",
       "\n",
       "    .dataframe thead th {\n",
       "        text-align: right;\n",
       "    }\n",
       "</style>\n",
       "<table border=\"1\" class=\"dataframe\">\n",
       "  <thead>\n",
       "    <tr style=\"text-align: right;\">\n",
       "      <th>Country</th>\n",
       "      <th>Bahrain</th>\n",
       "      <th>Bolivia</th>\n",
       "      <th>Brazil</th>\n",
       "      <th>Burkina Faso</th>\n",
       "      <th>France</th>\n",
       "      <th>Iran</th>\n",
       "      <th>Italy</th>\n",
       "      <th>Latvia</th>\n",
       "      <th>Macedonia</th>\n",
       "      <th>Portugal</th>\n",
       "      <th>Russia</th>\n",
       "      <th>Turkey</th>\n",
       "      <th>United States</th>\n",
       "    </tr>\n",
       "    <tr>\n",
       "      <th>Date</th>\n",
       "      <th></th>\n",
       "      <th></th>\n",
       "      <th></th>\n",
       "      <th></th>\n",
       "      <th></th>\n",
       "      <th></th>\n",
       "      <th></th>\n",
       "      <th></th>\n",
       "      <th></th>\n",
       "      <th></th>\n",
       "      <th></th>\n",
       "      <th></th>\n",
       "      <th></th>\n",
       "    </tr>\n",
       "  </thead>\n",
       "  <tbody>\n",
       "    <tr>\n",
       "      <th>2020-10-03</th>\n",
       "      <td>0.000434</td>\n",
       "      <td>0.047186</td>\n",
       "      <td>0.023302</td>\n",
       "      <td>0.001302</td>\n",
       "      <td>0.001091</td>\n",
       "      <td>0.033343</td>\n",
       "      <td>0.000703</td>\n",
       "      <td>0.000098</td>\n",
       "      <td>0.01037</td>\n",
       "      <td>0.004954</td>\n",
       "      <td>0.000892</td>\n",
       "      <td>0.004787</td>\n",
       "      <td>0.000019</td>\n",
       "    </tr>\n",
       "    <tr>\n",
       "      <th>2020-10-04</th>\n",
       "      <td>0.000434</td>\n",
       "      <td>0.047186</td>\n",
       "      <td>0.023302</td>\n",
       "      <td>0.001302</td>\n",
       "      <td>0.001091</td>\n",
       "      <td>0.033343</td>\n",
       "      <td>0.000703</td>\n",
       "      <td>0.000098</td>\n",
       "      <td>0.01037</td>\n",
       "      <td>0.004954</td>\n",
       "      <td>0.000892</td>\n",
       "      <td>0.004787</td>\n",
       "      <td>0.000019</td>\n",
       "    </tr>\n",
       "    <tr>\n",
       "      <th>2020-10-05</th>\n",
       "      <td>0.000434</td>\n",
       "      <td>0.047186</td>\n",
       "      <td>0.023302</td>\n",
       "      <td>0.001302</td>\n",
       "      <td>0.001091</td>\n",
       "      <td>0.033343</td>\n",
       "      <td>0.000703</td>\n",
       "      <td>0.000098</td>\n",
       "      <td>0.01037</td>\n",
       "      <td>0.004954</td>\n",
       "      <td>0.000892</td>\n",
       "      <td>0.004787</td>\n",
       "      <td>0.000019</td>\n",
       "    </tr>\n",
       "    <tr>\n",
       "      <th>2020-10-06</th>\n",
       "      <td>0.000434</td>\n",
       "      <td>0.047186</td>\n",
       "      <td>0.023302</td>\n",
       "      <td>0.001302</td>\n",
       "      <td>0.001091</td>\n",
       "      <td>0.033343</td>\n",
       "      <td>0.000703</td>\n",
       "      <td>0.000098</td>\n",
       "      <td>0.01037</td>\n",
       "      <td>0.004954</td>\n",
       "      <td>0.000892</td>\n",
       "      <td>0.004787</td>\n",
       "      <td>0.000019</td>\n",
       "    </tr>\n",
       "    <tr>\n",
       "      <th>2020-10-07</th>\n",
       "      <td>0.000434</td>\n",
       "      <td>0.047186</td>\n",
       "      <td>0.023302</td>\n",
       "      <td>0.001302</td>\n",
       "      <td>0.001091</td>\n",
       "      <td>0.033343</td>\n",
       "      <td>0.000703</td>\n",
       "      <td>0.000098</td>\n",
       "      <td>0.01037</td>\n",
       "      <td>0.004954</td>\n",
       "      <td>0.000892</td>\n",
       "      <td>0.004787</td>\n",
       "      <td>0.000019</td>\n",
       "    </tr>\n",
       "  </tbody>\n",
       "</table>\n",
       "</div>"
      ],
      "text/plain": [
       "Country      Bahrain   Bolivia    Brazil  Burkina Faso    France      Iran  \\\n",
       "Date                                                                         \n",
       "2020-10-03  0.000434  0.047186  0.023302      0.001302  0.001091  0.033343   \n",
       "2020-10-04  0.000434  0.047186  0.023302      0.001302  0.001091  0.033343   \n",
       "2020-10-05  0.000434  0.047186  0.023302      0.001302  0.001091  0.033343   \n",
       "2020-10-06  0.000434  0.047186  0.023302      0.001302  0.001091  0.033343   \n",
       "2020-10-07  0.000434  0.047186  0.023302      0.001302  0.001091  0.033343   \n",
       "\n",
       "Country        Italy    Latvia  Macedonia  Portugal    Russia    Turkey  \\\n",
       "Date                                                                      \n",
       "2020-10-03  0.000703  0.000098    0.01037  0.004954  0.000892  0.004787   \n",
       "2020-10-04  0.000703  0.000098    0.01037  0.004954  0.000892  0.004787   \n",
       "2020-10-05  0.000703  0.000098    0.01037  0.004954  0.000892  0.004787   \n",
       "2020-10-06  0.000703  0.000098    0.01037  0.004954  0.000892  0.004787   \n",
       "2020-10-07  0.000703  0.000098    0.01037  0.004954  0.000892  0.004787   \n",
       "\n",
       "Country     United States  \n",
       "Date                       \n",
       "2020-10-03       0.000019  \n",
       "2020-10-04       0.000019  \n",
       "2020-10-05       0.000019  \n",
       "2020-10-06       0.000019  \n",
       "2020-10-07       0.000019  "
      ]
     },
     "execution_count": 18,
     "metadata": {},
     "output_type": "execute_result"
    }
   ],
   "source": [
    "analyser.param_history(\"theta\", roll_window=None).tail()"
   ]
  },
  {
   "cell_type": "markdown",
   "metadata": {},
   "source": [
    "## (Experimental): Relationship of OxCGRT index and parameter values\n",
    "Government responses will impact on parameter values of ODE models about 14 days later. Here, we will investigate on the relationship of [stringency index (from OxCGRT)](https://github.com/OxCGRT/covid-policy-tracker/blob/master/documentation/index_methodology.md) and reproduction number/model parameters.\n"
   ]
  },
  {
   "cell_type": "code",
   "execution_count": 19,
   "metadata": {
    "collapsed": false
   },
   "outputs": [],
   "source": [
    "%matplotlib inline\n",
    "from matplotlib import pyplot as plt\n",
    "import seaborn as sns\n",
    "import pandas as pd"
   ]
  },
  {
   "cell_type": "code",
   "execution_count": 20,
   "metadata": {
    "collapsed": false
   },
   "outputs": [
    {
     "name": "stdout",
     "output_type": "stream",
     "text": [
      "<class 'pandas.core.frame.DataFrame'>\n",
      "Int64Index: 73684 entries, 0 to 73851\n",
      "Data columns (total 19 columns):\n",
      " #   Column                               Non-Null Count  Dtype         \n",
      "---  ------                               --------------  -----         \n",
      " 0   Date                                 73684 non-null  datetime64[ns]\n",
      " 1   Country                              73684 non-null  object        \n",
      " 2   Rt                                   73684 non-null  float64       \n",
      " 3   theta                                73684 non-null  float64       \n",
      " 4   kappa                                73684 non-null  float64       \n",
      " 5   rho                                  73684 non-null  float64       \n",
      " 6   sigma                                73684 non-null  float64       \n",
      " 7   School_closing                       73684 non-null  int64         \n",
      " 8   Workplace_closing                    73684 non-null  int64         \n",
      " 9   Cancel_events                        73684 non-null  int64         \n",
      " 10  Gatherings_restrictions              73684 non-null  int64         \n",
      " 11  Transport_closing                    73684 non-null  int64         \n",
      " 12  Stay_home_restrictions               73684 non-null  int64         \n",
      " 13  Internal_movement_restrictions       73684 non-null  int64         \n",
      " 14  International_movement_restrictions  73684 non-null  int64         \n",
      " 15  Information_campaigns                73684 non-null  int64         \n",
      " 16  Testing_policy                       73684 non-null  int64         \n",
      " 17  Contact_tracing                      73684 non-null  int64         \n",
      " 18  Stringency_index                     73684 non-null  float64       \n",
      "dtypes: datetime64[ns](1), float64(6), int64(11), object(1)\n",
      "memory usage: 11.2+ MB\n"
     ]
    }
   ],
   "source": [
    "df = analyser.track()\n",
    "param_cols = [\"Rt\", *cs.SIRF.PARAMETERS]\n",
    "oxcgrt_cols = oxcgrt_data.OXCGRT_VARS[:]\n",
    "cols = param_cols + oxcgrt_cols\n",
    "delay = 14\n",
    "\n",
    "for col in param_cols:\n",
    "    df[col] = pd.to_numeric(df[col], errors=\"coerce\")\n",
    "    df[col] = df.groupby(\"Country\")[col].shift(0 - delay)\n",
    "\n",
    "df = df.dropna(how=\"any\")\n",
    "df = df.loc[:, [\"Date\", \"Country\", *cols]]\n",
    "track_df = df.copy()\n",
    "track_df.info()"
   ]
  },
  {
   "cell_type": "code",
   "execution_count": 21,
   "metadata": {
    "collapsed": false
   },
   "outputs": [
    {
     "data": {
      "text/html": [
       "<style  type=\"text/css\" >\n",
       "#T_bfa2168e_0895_11eb_a431_525400224925row0_col0,#T_bfa2168e_0895_11eb_a431_525400224925row1_col1,#T_bfa2168e_0895_11eb_a431_525400224925row2_col2,#T_bfa2168e_0895_11eb_a431_525400224925row3_col3,#T_bfa2168e_0895_11eb_a431_525400224925row4_col4,#T_bfa2168e_0895_11eb_a431_525400224925row5_col5,#T_bfa2168e_0895_11eb_a431_525400224925row6_col6,#T_bfa2168e_0895_11eb_a431_525400224925row7_col7,#T_bfa2168e_0895_11eb_a431_525400224925row8_col8,#T_bfa2168e_0895_11eb_a431_525400224925row9_col9,#T_bfa2168e_0895_11eb_a431_525400224925row10_col10,#T_bfa2168e_0895_11eb_a431_525400224925row11_col11,#T_bfa2168e_0895_11eb_a431_525400224925row12_col12,#T_bfa2168e_0895_11eb_a431_525400224925row13_col13,#T_bfa2168e_0895_11eb_a431_525400224925row14_col14,#T_bfa2168e_0895_11eb_a431_525400224925row15_col15,#T_bfa2168e_0895_11eb_a431_525400224925row16_col16{\n",
       "            background-color:  #023858;\n",
       "            color:  #f1f1f1;\n",
       "        }#T_bfa2168e_0895_11eb_a431_525400224925row0_col1,#T_bfa2168e_0895_11eb_a431_525400224925row1_col0{\n",
       "            background-color:  #e1dfed;\n",
       "            color:  #000000;\n",
       "        }#T_bfa2168e_0895_11eb_a431_525400224925row0_col2,#T_bfa2168e_0895_11eb_a431_525400224925row2_col0{\n",
       "            background-color:  #dfddec;\n",
       "            color:  #000000;\n",
       "        }#T_bfa2168e_0895_11eb_a431_525400224925row0_col3,#T_bfa2168e_0895_11eb_a431_525400224925row3_col0,#T_bfa2168e_0895_11eb_a431_525400224925row11_col13,#T_bfa2168e_0895_11eb_a431_525400224925row13_col11{\n",
       "            background-color:  #8cb3d5;\n",
       "            color:  #000000;\n",
       "        }#T_bfa2168e_0895_11eb_a431_525400224925row0_col4,#T_bfa2168e_0895_11eb_a431_525400224925row4_col0{\n",
       "            background-color:  #f4eef6;\n",
       "            color:  #000000;\n",
       "        }#T_bfa2168e_0895_11eb_a431_525400224925row0_col5,#T_bfa2168e_0895_11eb_a431_525400224925row0_col14,#T_bfa2168e_0895_11eb_a431_525400224925row5_col0,#T_bfa2168e_0895_11eb_a431_525400224925row14_col0{\n",
       "            background-color:  #eee8f3;\n",
       "            color:  #000000;\n",
       "        }#T_bfa2168e_0895_11eb_a431_525400224925row0_col6,#T_bfa2168e_0895_11eb_a431_525400224925row6_col0{\n",
       "            background-color:  #e6e2ef;\n",
       "            color:  #000000;\n",
       "        }#T_bfa2168e_0895_11eb_a431_525400224925row0_col7,#T_bfa2168e_0895_11eb_a431_525400224925row0_col9,#T_bfa2168e_0895_11eb_a431_525400224925row7_col0,#T_bfa2168e_0895_11eb_a431_525400224925row9_col0{\n",
       "            background-color:  #ede8f3;\n",
       "            color:  #000000;\n",
       "        }#T_bfa2168e_0895_11eb_a431_525400224925row0_col8,#T_bfa2168e_0895_11eb_a431_525400224925row8_col0{\n",
       "            background-color:  #e8e4f0;\n",
       "            color:  #000000;\n",
       "        }#T_bfa2168e_0895_11eb_a431_525400224925row0_col10,#T_bfa2168e_0895_11eb_a431_525400224925row10_col0{\n",
       "            background-color:  #ebe6f2;\n",
       "            color:  #000000;\n",
       "        }#T_bfa2168e_0895_11eb_a431_525400224925row0_col11,#T_bfa2168e_0895_11eb_a431_525400224925row11_col0{\n",
       "            background-color:  #fbf4f9;\n",
       "            color:  #000000;\n",
       "        }#T_bfa2168e_0895_11eb_a431_525400224925row0_col12,#T_bfa2168e_0895_11eb_a431_525400224925row12_col0{\n",
       "            background-color:  #e7e3f0;\n",
       "            color:  #000000;\n",
       "        }#T_bfa2168e_0895_11eb_a431_525400224925row0_col13,#T_bfa2168e_0895_11eb_a431_525400224925row1_col6,#T_bfa2168e_0895_11eb_a431_525400224925row6_col1,#T_bfa2168e_0895_11eb_a431_525400224925row13_col0{\n",
       "            background-color:  #d8d7e9;\n",
       "            color:  #000000;\n",
       "        }#T_bfa2168e_0895_11eb_a431_525400224925row0_col15,#T_bfa2168e_0895_11eb_a431_525400224925row2_col14,#T_bfa2168e_0895_11eb_a431_525400224925row14_col2,#T_bfa2168e_0895_11eb_a431_525400224925row15_col0{\n",
       "            background-color:  #e2dfee;\n",
       "            color:  #000000;\n",
       "        }#T_bfa2168e_0895_11eb_a431_525400224925row0_col16,#T_bfa2168e_0895_11eb_a431_525400224925row16_col0{\n",
       "            background-color:  #eee9f3;\n",
       "            color:  #000000;\n",
       "        }#T_bfa2168e_0895_11eb_a431_525400224925row1_col2,#T_bfa2168e_0895_11eb_a431_525400224925row2_col1{\n",
       "            background-color:  #023f64;\n",
       "            color:  #f1f1f1;\n",
       "        }#T_bfa2168e_0895_11eb_a431_525400224925row1_col3,#T_bfa2168e_0895_11eb_a431_525400224925row3_col1,#T_bfa2168e_0895_11eb_a431_525400224925row11_col16,#T_bfa2168e_0895_11eb_a431_525400224925row16_col11{\n",
       "            background-color:  #056dab;\n",
       "            color:  #f1f1f1;\n",
       "        }#T_bfa2168e_0895_11eb_a431_525400224925row1_col4,#T_bfa2168e_0895_11eb_a431_525400224925row4_col1,#T_bfa2168e_0895_11eb_a431_525400224925row11_col15,#T_bfa2168e_0895_11eb_a431_525400224925row15_col11{\n",
       "            background-color:  #b4c4df;\n",
       "            color:  #000000;\n",
       "        }#T_bfa2168e_0895_11eb_a431_525400224925row1_col5,#T_bfa2168e_0895_11eb_a431_525400224925row2_col5,#T_bfa2168e_0895_11eb_a431_525400224925row2_col6,#T_bfa2168e_0895_11eb_a431_525400224925row5_col1,#T_bfa2168e_0895_11eb_a431_525400224925row5_col2,#T_bfa2168e_0895_11eb_a431_525400224925row6_col2{\n",
       "            background-color:  #d9d8ea;\n",
       "            color:  #000000;\n",
       "        }#T_bfa2168e_0895_11eb_a431_525400224925row1_col7,#T_bfa2168e_0895_11eb_a431_525400224925row7_col1{\n",
       "            background-color:  #e0deed;\n",
       "            color:  #000000;\n",
       "        }#T_bfa2168e_0895_11eb_a431_525400224925row1_col8,#T_bfa2168e_0895_11eb_a431_525400224925row8_col1{\n",
       "            background-color:  #d3d4e7;\n",
       "            color:  #000000;\n",
       "        }#T_bfa2168e_0895_11eb_a431_525400224925row1_col9,#T_bfa2168e_0895_11eb_a431_525400224925row9_col1{\n",
       "            background-color:  #d5d5e8;\n",
       "            color:  #000000;\n",
       "        }#T_bfa2168e_0895_11eb_a431_525400224925row1_col10,#T_bfa2168e_0895_11eb_a431_525400224925row10_col1{\n",
       "            background-color:  #80aed2;\n",
       "            color:  #000000;\n",
       "        }#T_bfa2168e_0895_11eb_a431_525400224925row1_col11,#T_bfa2168e_0895_11eb_a431_525400224925row11_col1,#T_bfa2168e_0895_11eb_a431_525400224925row12_col14,#T_bfa2168e_0895_11eb_a431_525400224925row14_col12{\n",
       "            background-color:  #9ebad9;\n",
       "            color:  #000000;\n",
       "        }#T_bfa2168e_0895_11eb_a431_525400224925row1_col12,#T_bfa2168e_0895_11eb_a431_525400224925row3_col12,#T_bfa2168e_0895_11eb_a431_525400224925row4_col12,#T_bfa2168e_0895_11eb_a431_525400224925row12_col1,#T_bfa2168e_0895_11eb_a431_525400224925row12_col3,#T_bfa2168e_0895_11eb_a431_525400224925row12_col4{\n",
       "            background-color:  #a1bbda;\n",
       "            color:  #000000;\n",
       "        }#T_bfa2168e_0895_11eb_a431_525400224925row1_col13,#T_bfa2168e_0895_11eb_a431_525400224925row2_col13,#T_bfa2168e_0895_11eb_a431_525400224925row13_col1,#T_bfa2168e_0895_11eb_a431_525400224925row13_col2{\n",
       "            background-color:  #f6eff7;\n",
       "            color:  #000000;\n",
       "        }#T_bfa2168e_0895_11eb_a431_525400224925row1_col14,#T_bfa2168e_0895_11eb_a431_525400224925row14_col1{\n",
       "            background-color:  #eae6f1;\n",
       "            color:  #000000;\n",
       "        }#T_bfa2168e_0895_11eb_a431_525400224925row1_col15,#T_bfa2168e_0895_11eb_a431_525400224925row15_col1{\n",
       "            background-color:  #c0c9e2;\n",
       "            color:  #000000;\n",
       "        }#T_bfa2168e_0895_11eb_a431_525400224925row1_col16,#T_bfa2168e_0895_11eb_a431_525400224925row16_col1{\n",
       "            background-color:  #c8cde4;\n",
       "            color:  #000000;\n",
       "        }#T_bfa2168e_0895_11eb_a431_525400224925row2_col3,#T_bfa2168e_0895_11eb_a431_525400224925row3_col2,#T_bfa2168e_0895_11eb_a431_525400224925row12_col16,#T_bfa2168e_0895_11eb_a431_525400224925row16_col12{\n",
       "            background-color:  #0569a4;\n",
       "            color:  #f1f1f1;\n",
       "        }#T_bfa2168e_0895_11eb_a431_525400224925row2_col4,#T_bfa2168e_0895_11eb_a431_525400224925row4_col2,#T_bfa2168e_0895_11eb_a431_525400224925row9_col14,#T_bfa2168e_0895_11eb_a431_525400224925row14_col9{\n",
       "            background-color:  #b7c5df;\n",
       "            color:  #000000;\n",
       "        }#T_bfa2168e_0895_11eb_a431_525400224925row2_col7,#T_bfa2168e_0895_11eb_a431_525400224925row7_col2{\n",
       "            background-color:  #d6d6e9;\n",
       "            color:  #000000;\n",
       "        }#T_bfa2168e_0895_11eb_a431_525400224925row2_col8,#T_bfa2168e_0895_11eb_a431_525400224925row8_col2{\n",
       "            background-color:  #d0d1e6;\n",
       "            color:  #000000;\n",
       "        }#T_bfa2168e_0895_11eb_a431_525400224925row2_col9,#T_bfa2168e_0895_11eb_a431_525400224925row9_col2{\n",
       "            background-color:  #d1d2e6;\n",
       "            color:  #000000;\n",
       "        }#T_bfa2168e_0895_11eb_a431_525400224925row2_col10,#T_bfa2168e_0895_11eb_a431_525400224925row7_col15,#T_bfa2168e_0895_11eb_a431_525400224925row8_col14,#T_bfa2168e_0895_11eb_a431_525400224925row10_col2,#T_bfa2168e_0895_11eb_a431_525400224925row14_col8,#T_bfa2168e_0895_11eb_a431_525400224925row15_col7{\n",
       "            background-color:  #7bacd1;\n",
       "            color:  #000000;\n",
       "        }#T_bfa2168e_0895_11eb_a431_525400224925row2_col11,#T_bfa2168e_0895_11eb_a431_525400224925row11_col2{\n",
       "            background-color:  #8eb3d5;\n",
       "            color:  #000000;\n",
       "        }#T_bfa2168e_0895_11eb_a431_525400224925row2_col12,#T_bfa2168e_0895_11eb_a431_525400224925row3_col11,#T_bfa2168e_0895_11eb_a431_525400224925row11_col3,#T_bfa2168e_0895_11eb_a431_525400224925row12_col2{\n",
       "            background-color:  #89b1d4;\n",
       "            color:  #000000;\n",
       "        }#T_bfa2168e_0895_11eb_a431_525400224925row2_col15,#T_bfa2168e_0895_11eb_a431_525400224925row3_col16,#T_bfa2168e_0895_11eb_a431_525400224925row15_col2,#T_bfa2168e_0895_11eb_a431_525400224925row16_col3{\n",
       "            background-color:  #c2cbe2;\n",
       "            color:  #000000;\n",
       "        }#T_bfa2168e_0895_11eb_a431_525400224925row2_col16,#T_bfa2168e_0895_11eb_a431_525400224925row16_col2{\n",
       "            background-color:  #c5cce3;\n",
       "            color:  #000000;\n",
       "        }#T_bfa2168e_0895_11eb_a431_525400224925row3_col4,#T_bfa2168e_0895_11eb_a431_525400224925row4_col3{\n",
       "            background-color:  #9cb9d9;\n",
       "            color:  #000000;\n",
       "        }#T_bfa2168e_0895_11eb_a431_525400224925row3_col5,#T_bfa2168e_0895_11eb_a431_525400224925row5_col3{\n",
       "            background-color:  #d4d4e8;\n",
       "            color:  #000000;\n",
       "        }#T_bfa2168e_0895_11eb_a431_525400224925row3_col6,#T_bfa2168e_0895_11eb_a431_525400224925row6_col3{\n",
       "            background-color:  #dddbec;\n",
       "            color:  #000000;\n",
       "        }#T_bfa2168e_0895_11eb_a431_525400224925row3_col7,#T_bfa2168e_0895_11eb_a431_525400224925row7_col3{\n",
       "            background-color:  #cdd0e5;\n",
       "            color:  #000000;\n",
       "        }#T_bfa2168e_0895_11eb_a431_525400224925row3_col8,#T_bfa2168e_0895_11eb_a431_525400224925row8_col3{\n",
       "            background-color:  #c1cae2;\n",
       "            color:  #000000;\n",
       "        }#T_bfa2168e_0895_11eb_a431_525400224925row3_col9,#T_bfa2168e_0895_11eb_a431_525400224925row9_col3{\n",
       "            background-color:  #c4cbe3;\n",
       "            color:  #000000;\n",
       "        }#T_bfa2168e_0895_11eb_a431_525400224925row3_col10,#T_bfa2168e_0895_11eb_a431_525400224925row10_col3{\n",
       "            background-color:  #8bb2d4;\n",
       "            color:  #000000;\n",
       "        }#T_bfa2168e_0895_11eb_a431_525400224925row3_col13,#T_bfa2168e_0895_11eb_a431_525400224925row3_col14,#T_bfa2168e_0895_11eb_a431_525400224925row13_col3,#T_bfa2168e_0895_11eb_a431_525400224925row14_col3{\n",
       "            background-color:  #fff7fb;\n",
       "            color:  #000000;\n",
       "        }#T_bfa2168e_0895_11eb_a431_525400224925row3_col15,#T_bfa2168e_0895_11eb_a431_525400224925row15_col3{\n",
       "            background-color:  #f0eaf4;\n",
       "            color:  #000000;\n",
       "        }#T_bfa2168e_0895_11eb_a431_525400224925row4_col5,#T_bfa2168e_0895_11eb_a431_525400224925row5_col4,#T_bfa2168e_0895_11eb_a431_525400224925row10_col14,#T_bfa2168e_0895_11eb_a431_525400224925row11_col14,#T_bfa2168e_0895_11eb_a431_525400224925row14_col10,#T_bfa2168e_0895_11eb_a431_525400224925row14_col11{\n",
       "            background-color:  #76aad0;\n",
       "            color:  #000000;\n",
       "        }#T_bfa2168e_0895_11eb_a431_525400224925row4_col6,#T_bfa2168e_0895_11eb_a431_525400224925row6_col4{\n",
       "            background-color:  #acc0dd;\n",
       "            color:  #000000;\n",
       "        }#T_bfa2168e_0895_11eb_a431_525400224925row4_col7,#T_bfa2168e_0895_11eb_a431_525400224925row7_col4,#T_bfa2168e_0895_11eb_a431_525400224925row14_col16,#T_bfa2168e_0895_11eb_a431_525400224925row16_col14{\n",
       "            background-color:  #6da6cd;\n",
       "            color:  #000000;\n",
       "        }#T_bfa2168e_0895_11eb_a431_525400224925row4_col8,#T_bfa2168e_0895_11eb_a431_525400224925row8_col4{\n",
       "            background-color:  #a2bcda;\n",
       "            color:  #000000;\n",
       "        }#T_bfa2168e_0895_11eb_a431_525400224925row4_col9,#T_bfa2168e_0895_11eb_a431_525400224925row9_col4,#T_bfa2168e_0895_11eb_a431_525400224925row12_col15,#T_bfa2168e_0895_11eb_a431_525400224925row15_col12{\n",
       "            background-color:  #8fb4d6;\n",
       "            color:  #000000;\n",
       "        }#T_bfa2168e_0895_11eb_a431_525400224925row4_col10,#T_bfa2168e_0895_11eb_a431_525400224925row10_col4{\n",
       "            background-color:  #86b0d3;\n",
       "            color:  #000000;\n",
       "        }#T_bfa2168e_0895_11eb_a431_525400224925row4_col11,#T_bfa2168e_0895_11eb_a431_525400224925row11_col4{\n",
       "            background-color:  #71a8ce;\n",
       "            color:  #000000;\n",
       "        }#T_bfa2168e_0895_11eb_a431_525400224925row4_col13,#T_bfa2168e_0895_11eb_a431_525400224925row13_col4{\n",
       "            background-color:  #bcc7e1;\n",
       "            color:  #000000;\n",
       "        }#T_bfa2168e_0895_11eb_a431_525400224925row4_col14,#T_bfa2168e_0895_11eb_a431_525400224925row14_col4{\n",
       "            background-color:  #cacee5;\n",
       "            color:  #000000;\n",
       "        }#T_bfa2168e_0895_11eb_a431_525400224925row4_col15,#T_bfa2168e_0895_11eb_a431_525400224925row15_col4{\n",
       "            background-color:  #adc1dd;\n",
       "            color:  #000000;\n",
       "        }#T_bfa2168e_0895_11eb_a431_525400224925row4_col16,#T_bfa2168e_0895_11eb_a431_525400224925row16_col4{\n",
       "            background-color:  #7eadd1;\n",
       "            color:  #000000;\n",
       "        }#T_bfa2168e_0895_11eb_a431_525400224925row5_col6,#T_bfa2168e_0895_11eb_a431_525400224925row6_col5{\n",
       "            background-color:  #0567a1;\n",
       "            color:  #f1f1f1;\n",
       "        }#T_bfa2168e_0895_11eb_a431_525400224925row5_col7,#T_bfa2168e_0895_11eb_a431_525400224925row7_col5{\n",
       "            background-color:  #0568a3;\n",
       "            color:  #f1f1f1;\n",
       "        }#T_bfa2168e_0895_11eb_a431_525400224925row5_col8,#T_bfa2168e_0895_11eb_a431_525400224925row5_col10,#T_bfa2168e_0895_11eb_a431_525400224925row8_col5,#T_bfa2168e_0895_11eb_a431_525400224925row8_col12,#T_bfa2168e_0895_11eb_a431_525400224925row10_col5,#T_bfa2168e_0895_11eb_a431_525400224925row12_col8{\n",
       "            background-color:  #1077b4;\n",
       "            color:  #f1f1f1;\n",
       "        }#T_bfa2168e_0895_11eb_a431_525400224925row5_col9,#T_bfa2168e_0895_11eb_a431_525400224925row9_col5{\n",
       "            background-color:  #2182b9;\n",
       "            color:  #000000;\n",
       "        }#T_bfa2168e_0895_11eb_a431_525400224925row5_col11,#T_bfa2168e_0895_11eb_a431_525400224925row6_col9,#T_bfa2168e_0895_11eb_a431_525400224925row9_col6,#T_bfa2168e_0895_11eb_a431_525400224925row11_col5{\n",
       "            background-color:  #2786bb;\n",
       "            color:  #000000;\n",
       "        }#T_bfa2168e_0895_11eb_a431_525400224925row5_col12,#T_bfa2168e_0895_11eb_a431_525400224925row6_col14,#T_bfa2168e_0895_11eb_a431_525400224925row12_col5,#T_bfa2168e_0895_11eb_a431_525400224925row12_col13,#T_bfa2168e_0895_11eb_a431_525400224925row13_col12,#T_bfa2168e_0895_11eb_a431_525400224925row14_col6{\n",
       "            background-color:  #3b92c1;\n",
       "            color:  #000000;\n",
       "        }#T_bfa2168e_0895_11eb_a431_525400224925row5_col13,#T_bfa2168e_0895_11eb_a431_525400224925row13_col5{\n",
       "            background-color:  #0771b1;\n",
       "            color:  #f1f1f1;\n",
       "        }#T_bfa2168e_0895_11eb_a431_525400224925row5_col14,#T_bfa2168e_0895_11eb_a431_525400224925row11_col12,#T_bfa2168e_0895_11eb_a431_525400224925row12_col11,#T_bfa2168e_0895_11eb_a431_525400224925row14_col5{\n",
       "            background-color:  #4897c4;\n",
       "            color:  #000000;\n",
       "        }#T_bfa2168e_0895_11eb_a431_525400224925row5_col15,#T_bfa2168e_0895_11eb_a431_525400224925row15_col5{\n",
       "            background-color:  #84b0d3;\n",
       "            color:  #000000;\n",
       "        }#T_bfa2168e_0895_11eb_a431_525400224925row5_col16,#T_bfa2168e_0895_11eb_a431_525400224925row16_col5{\n",
       "            background-color:  #045b8f;\n",
       "            color:  #f1f1f1;\n",
       "        }#T_bfa2168e_0895_11eb_a431_525400224925row6_col7,#T_bfa2168e_0895_11eb_a431_525400224925row7_col6,#T_bfa2168e_0895_11eb_a431_525400224925row9_col11,#T_bfa2168e_0895_11eb_a431_525400224925row11_col9{\n",
       "            background-color:  #0c74b2;\n",
       "            color:  #f1f1f1;\n",
       "        }#T_bfa2168e_0895_11eb_a431_525400224925row6_col8,#T_bfa2168e_0895_11eb_a431_525400224925row8_col6{\n",
       "            background-color:  #0d75b3;\n",
       "            color:  #f1f1f1;\n",
       "        }#T_bfa2168e_0895_11eb_a431_525400224925row6_col10,#T_bfa2168e_0895_11eb_a431_525400224925row10_col6{\n",
       "            background-color:  #0f76b3;\n",
       "            color:  #f1f1f1;\n",
       "        }#T_bfa2168e_0895_11eb_a431_525400224925row6_col11,#T_bfa2168e_0895_11eb_a431_525400224925row11_col6{\n",
       "            background-color:  #4697c4;\n",
       "            color:  #000000;\n",
       "        }#T_bfa2168e_0895_11eb_a431_525400224925row6_col12,#T_bfa2168e_0895_11eb_a431_525400224925row12_col6{\n",
       "            background-color:  #4094c3;\n",
       "            color:  #000000;\n",
       "        }#T_bfa2168e_0895_11eb_a431_525400224925row6_col13,#T_bfa2168e_0895_11eb_a431_525400224925row13_col6{\n",
       "            background-color:  #045e94;\n",
       "            color:  #f1f1f1;\n",
       "        }#T_bfa2168e_0895_11eb_a431_525400224925row6_col15,#T_bfa2168e_0895_11eb_a431_525400224925row15_col6{\n",
       "            background-color:  #5a9ec9;\n",
       "            color:  #000000;\n",
       "        }#T_bfa2168e_0895_11eb_a431_525400224925row6_col16,#T_bfa2168e_0895_11eb_a431_525400224925row7_col16,#T_bfa2168e_0895_11eb_a431_525400224925row16_col6,#T_bfa2168e_0895_11eb_a431_525400224925row16_col7{\n",
       "            background-color:  #045a8d;\n",
       "            color:  #f1f1f1;\n",
       "        }#T_bfa2168e_0895_11eb_a431_525400224925row7_col8,#T_bfa2168e_0895_11eb_a431_525400224925row8_col7,#T_bfa2168e_0895_11eb_a431_525400224925row8_col11,#T_bfa2168e_0895_11eb_a431_525400224925row11_col8{\n",
       "            background-color:  #056ba9;\n",
       "            color:  #f1f1f1;\n",
       "        }#T_bfa2168e_0895_11eb_a431_525400224925row7_col9,#T_bfa2168e_0895_11eb_a431_525400224925row9_col7,#T_bfa2168e_0895_11eb_a431_525400224925row9_col10,#T_bfa2168e_0895_11eb_a431_525400224925row10_col9{\n",
       "            background-color:  #167bb6;\n",
       "            color:  #000000;\n",
       "        }#T_bfa2168e_0895_11eb_a431_525400224925row7_col10,#T_bfa2168e_0895_11eb_a431_525400224925row10_col7{\n",
       "            background-color:  #2987bc;\n",
       "            color:  #000000;\n",
       "        }#T_bfa2168e_0895_11eb_a431_525400224925row7_col11,#T_bfa2168e_0895_11eb_a431_525400224925row8_col13,#T_bfa2168e_0895_11eb_a431_525400224925row11_col7,#T_bfa2168e_0895_11eb_a431_525400224925row13_col8{\n",
       "            background-color:  #1b7eb7;\n",
       "            color:  #000000;\n",
       "        }#T_bfa2168e_0895_11eb_a431_525400224925row7_col12,#T_bfa2168e_0895_11eb_a431_525400224925row12_col7{\n",
       "            background-color:  #056caa;\n",
       "            color:  #f1f1f1;\n",
       "        }#T_bfa2168e_0895_11eb_a431_525400224925row7_col13,#T_bfa2168e_0895_11eb_a431_525400224925row13_col7{\n",
       "            background-color:  #056fae;\n",
       "            color:  #f1f1f1;\n",
       "        }#T_bfa2168e_0895_11eb_a431_525400224925row7_col14,#T_bfa2168e_0895_11eb_a431_525400224925row14_col7{\n",
       "            background-color:  #65a3cb;\n",
       "            color:  #000000;\n",
       "        }#T_bfa2168e_0895_11eb_a431_525400224925row8_col9,#T_bfa2168e_0895_11eb_a431_525400224925row9_col8{\n",
       "            background-color:  #045f95;\n",
       "            color:  #f1f1f1;\n",
       "        }#T_bfa2168e_0895_11eb_a431_525400224925row8_col10,#T_bfa2168e_0895_11eb_a431_525400224925row10_col8{\n",
       "            background-color:  #0570b0;\n",
       "            color:  #f1f1f1;\n",
       "        }#T_bfa2168e_0895_11eb_a431_525400224925row8_col15,#T_bfa2168e_0895_11eb_a431_525400224925row15_col8{\n",
       "            background-color:  #a9bfdc;\n",
       "            color:  #000000;\n",
       "        }#T_bfa2168e_0895_11eb_a431_525400224925row8_col16,#T_bfa2168e_0895_11eb_a431_525400224925row16_col8{\n",
       "            background-color:  #045382;\n",
       "            color:  #f1f1f1;\n",
       "        }#T_bfa2168e_0895_11eb_a431_525400224925row9_col12,#T_bfa2168e_0895_11eb_a431_525400224925row12_col9{\n",
       "            background-color:  #1379b5;\n",
       "            color:  #f1f1f1;\n",
       "        }#T_bfa2168e_0895_11eb_a431_525400224925row9_col13,#T_bfa2168e_0895_11eb_a431_525400224925row13_col9{\n",
       "            background-color:  #62a2cb;\n",
       "            color:  #000000;\n",
       "        }#T_bfa2168e_0895_11eb_a431_525400224925row9_col15,#T_bfa2168e_0895_11eb_a431_525400224925row15_col9{\n",
       "            background-color:  #dedcec;\n",
       "            color:  #000000;\n",
       "        }#T_bfa2168e_0895_11eb_a431_525400224925row9_col16,#T_bfa2168e_0895_11eb_a431_525400224925row16_col9{\n",
       "            background-color:  #046198;\n",
       "            color:  #f1f1f1;\n",
       "        }#T_bfa2168e_0895_11eb_a431_525400224925row10_col11,#T_bfa2168e_0895_11eb_a431_525400224925row11_col10{\n",
       "            background-color:  #05659f;\n",
       "            color:  #f1f1f1;\n",
       "        }#T_bfa2168e_0895_11eb_a431_525400224925row10_col12,#T_bfa2168e_0895_11eb_a431_525400224925row12_col10{\n",
       "            background-color:  #2f8bbe;\n",
       "            color:  #000000;\n",
       "        }#T_bfa2168e_0895_11eb_a431_525400224925row10_col13,#T_bfa2168e_0895_11eb_a431_525400224925row13_col10{\n",
       "            background-color:  #589ec8;\n",
       "            color:  #000000;\n",
       "        }#T_bfa2168e_0895_11eb_a431_525400224925row10_col15,#T_bfa2168e_0895_11eb_a431_525400224925row15_col10{\n",
       "            background-color:  #79abd0;\n",
       "            color:  #000000;\n",
       "        }#T_bfa2168e_0895_11eb_a431_525400224925row10_col16,#T_bfa2168e_0895_11eb_a431_525400224925row16_col10{\n",
       "            background-color:  #046096;\n",
       "            color:  #f1f1f1;\n",
       "        }#T_bfa2168e_0895_11eb_a431_525400224925row13_col14,#T_bfa2168e_0895_11eb_a431_525400224925row14_col13{\n",
       "            background-color:  #2081b9;\n",
       "            color:  #000000;\n",
       "        }#T_bfa2168e_0895_11eb_a431_525400224925row13_col15,#T_bfa2168e_0895_11eb_a431_525400224925row15_col13{\n",
       "            background-color:  #197db7;\n",
       "            color:  #000000;\n",
       "        }#T_bfa2168e_0895_11eb_a431_525400224925row13_col16,#T_bfa2168e_0895_11eb_a431_525400224925row16_col13{\n",
       "            background-color:  #0566a0;\n",
       "            color:  #f1f1f1;\n",
       "        }#T_bfa2168e_0895_11eb_a431_525400224925row14_col15,#T_bfa2168e_0895_11eb_a431_525400224925row15_col14{\n",
       "            background-color:  #1e80b8;\n",
       "            color:  #000000;\n",
       "        }#T_bfa2168e_0895_11eb_a431_525400224925row15_col16,#T_bfa2168e_0895_11eb_a431_525400224925row16_col15{\n",
       "            background-color:  #75a9cf;\n",
       "            color:  #000000;\n",
       "        }</style><table id=\"T_bfa2168e_0895_11eb_a431_525400224925\" ><thead>    <tr>        <th class=\"blank level0\" ></th>        <th class=\"col_heading level0 col0\" >Rt</th>        <th class=\"col_heading level0 col1\" >theta</th>        <th class=\"col_heading level0 col2\" >kappa</th>        <th class=\"col_heading level0 col3\" >rho</th>        <th class=\"col_heading level0 col4\" >sigma</th>        <th class=\"col_heading level0 col5\" >School_closing</th>        <th class=\"col_heading level0 col6\" >Workplace_closing</th>        <th class=\"col_heading level0 col7\" >Cancel_events</th>        <th class=\"col_heading level0 col8\" >Gatherings_restrictions</th>        <th class=\"col_heading level0 col9\" >Transport_closing</th>        <th class=\"col_heading level0 col10\" >Stay_home_restrictions</th>        <th class=\"col_heading level0 col11\" >Internal_movement_restrictions</th>        <th class=\"col_heading level0 col12\" >International_movement_restrictions</th>        <th class=\"col_heading level0 col13\" >Information_campaigns</th>        <th class=\"col_heading level0 col14\" >Testing_policy</th>        <th class=\"col_heading level0 col15\" >Contact_tracing</th>        <th class=\"col_heading level0 col16\" >Stringency_index</th>    </tr></thead><tbody>\n",
       "                <tr>\n",
       "                        <th id=\"T_bfa2168e_0895_11eb_a431_525400224925level0_row0\" class=\"row_heading level0 row0\" >Rt</th>\n",
       "                        <td id=\"T_bfa2168e_0895_11eb_a431_525400224925row0_col0\" class=\"data row0 col0\" >1.000000</td>\n",
       "                        <td id=\"T_bfa2168e_0895_11eb_a431_525400224925row0_col1\" class=\"data row0 col1\" >-0.178796</td>\n",
       "                        <td id=\"T_bfa2168e_0895_11eb_a431_525400224925row0_col2\" class=\"data row0 col2\" >-0.165439</td>\n",
       "                        <td id=\"T_bfa2168e_0895_11eb_a431_525400224925row0_col3\" class=\"data row0 col3\" >0.197789</td>\n",
       "                        <td id=\"T_bfa2168e_0895_11eb_a431_525400224925row0_col4\" class=\"data row0 col4\" >-0.328369</td>\n",
       "                        <td id=\"T_bfa2168e_0895_11eb_a431_525400224925row0_col5\" class=\"data row0 col5\" >-0.266884</td>\n",
       "                        <td id=\"T_bfa2168e_0895_11eb_a431_525400224925row0_col6\" class=\"data row0 col6\" >-0.209481</td>\n",
       "                        <td id=\"T_bfa2168e_0895_11eb_a431_525400224925row0_col7\" class=\"data row0 col7\" >-0.260647</td>\n",
       "                        <td id=\"T_bfa2168e_0895_11eb_a431_525400224925row0_col8\" class=\"data row0 col8\" >-0.225462</td>\n",
       "                        <td id=\"T_bfa2168e_0895_11eb_a431_525400224925row0_col9\" class=\"data row0 col9\" >-0.260093</td>\n",
       "                        <td id=\"T_bfa2168e_0895_11eb_a431_525400224925row0_col10\" class=\"data row0 col10\" >-0.244760</td>\n",
       "                        <td id=\"T_bfa2168e_0895_11eb_a431_525400224925row0_col11\" class=\"data row0 col11\" >-0.394272</td>\n",
       "                        <td id=\"T_bfa2168e_0895_11eb_a431_525400224925row0_col12\" class=\"data row0 col12\" >-0.221172</td>\n",
       "                        <td id=\"T_bfa2168e_0895_11eb_a431_525400224925row0_col13\" class=\"data row0 col13\" >-0.122239</td>\n",
       "                        <td id=\"T_bfa2168e_0895_11eb_a431_525400224925row0_col14\" class=\"data row0 col14\" >-0.263548</td>\n",
       "                        <td id=\"T_bfa2168e_0895_11eb_a431_525400224925row0_col15\" class=\"data row0 col15\" >-0.188933</td>\n",
       "                        <td id=\"T_bfa2168e_0895_11eb_a431_525400224925row0_col16\" class=\"data row0 col16\" >-0.268740</td>\n",
       "            </tr>\n",
       "            <tr>\n",
       "                        <th id=\"T_bfa2168e_0895_11eb_a431_525400224925level0_row1\" class=\"row_heading level0 row1\" >theta</th>\n",
       "                        <td id=\"T_bfa2168e_0895_11eb_a431_525400224925row1_col0\" class=\"data row1 col0\" >-0.178796</td>\n",
       "                        <td id=\"T_bfa2168e_0895_11eb_a431_525400224925row1_col1\" class=\"data row1 col1\" >1.000000</td>\n",
       "                        <td id=\"T_bfa2168e_0895_11eb_a431_525400224925row1_col2\" class=\"data row1 col2\" >0.960272</td>\n",
       "                        <td id=\"T_bfa2168e_0895_11eb_a431_525400224925row1_col3\" class=\"data row1 col3\" >0.669663</td>\n",
       "                        <td id=\"T_bfa2168e_0895_11eb_a431_525400224925row1_col4\" class=\"data row1 col4\" >0.044763</td>\n",
       "                        <td id=\"T_bfa2168e_0895_11eb_a431_525400224925row1_col5\" class=\"data row1 col5\" >-0.128085</td>\n",
       "                        <td id=\"T_bfa2168e_0895_11eb_a431_525400224925row1_col6\" class=\"data row1 col6\" >-0.118721</td>\n",
       "                        <td id=\"T_bfa2168e_0895_11eb_a431_525400224925row1_col7\" class=\"data row1 col7\" >-0.178611</td>\n",
       "                        <td id=\"T_bfa2168e_0895_11eb_a431_525400224925row1_col8\" class=\"data row1 col8\" >-0.089406</td>\n",
       "                        <td id=\"T_bfa2168e_0895_11eb_a431_525400224925row1_col9\" class=\"data row1 col9\" >-0.103799</td>\n",
       "                        <td id=\"T_bfa2168e_0895_11eb_a431_525400224925row1_col10\" class=\"data row1 col10\" >0.243954</td>\n",
       "                        <td id=\"T_bfa2168e_0895_11eb_a431_525400224925row1_col11\" class=\"data row1 col11\" >0.138513</td>\n",
       "                        <td id=\"T_bfa2168e_0895_11eb_a431_525400224925row1_col12\" class=\"data row1 col12\" >0.126033</td>\n",
       "                        <td id=\"T_bfa2168e_0895_11eb_a431_525400224925row1_col13\" class=\"data row1 col13\" >-0.341266</td>\n",
       "                        <td id=\"T_bfa2168e_0895_11eb_a431_525400224925row1_col14\" class=\"data row1 col14\" >-0.239868</td>\n",
       "                        <td id=\"T_bfa2168e_0895_11eb_a431_525400224925row1_col15\" class=\"data row1 col15\" >-0.004679</td>\n",
       "                        <td id=\"T_bfa2168e_0895_11eb_a431_525400224925row1_col16\" class=\"data row1 col16\" >-0.038411</td>\n",
       "            </tr>\n",
       "            <tr>\n",
       "                        <th id=\"T_bfa2168e_0895_11eb_a431_525400224925level0_row2\" class=\"row_heading level0 row2\" >kappa</th>\n",
       "                        <td id=\"T_bfa2168e_0895_11eb_a431_525400224925row2_col0\" class=\"data row2 col0\" >-0.165439</td>\n",
       "                        <td id=\"T_bfa2168e_0895_11eb_a431_525400224925row2_col1\" class=\"data row2 col1\" >0.960272</td>\n",
       "                        <td id=\"T_bfa2168e_0895_11eb_a431_525400224925row2_col2\" class=\"data row2 col2\" >1.000000</td>\n",
       "                        <td id=\"T_bfa2168e_0895_11eb_a431_525400224925row2_col3\" class=\"data row2 col3\" >0.698999</td>\n",
       "                        <td id=\"T_bfa2168e_0895_11eb_a431_525400224925row2_col4\" class=\"data row2 col4\" >0.038029</td>\n",
       "                        <td id=\"T_bfa2168e_0895_11eb_a431_525400224925row2_col5\" class=\"data row2 col5\" >-0.131233</td>\n",
       "                        <td id=\"T_bfa2168e_0895_11eb_a431_525400224925row2_col6\" class=\"data row2 col6\" >-0.126769</td>\n",
       "                        <td id=\"T_bfa2168e_0895_11eb_a431_525400224925row2_col7\" class=\"data row2 col7\" >-0.111636</td>\n",
       "                        <td id=\"T_bfa2168e_0895_11eb_a431_525400224925row2_col8\" class=\"data row2 col8\" >-0.069823</td>\n",
       "                        <td id=\"T_bfa2168e_0895_11eb_a431_525400224925row2_col9\" class=\"data row2 col9\" >-0.074192</td>\n",
       "                        <td id=\"T_bfa2168e_0895_11eb_a431_525400224925row2_col10\" class=\"data row2 col10\" >0.258672</td>\n",
       "                        <td id=\"T_bfa2168e_0895_11eb_a431_525400224925row2_col11\" class=\"data row2 col11\" >0.191682</td>\n",
       "                        <td id=\"T_bfa2168e_0895_11eb_a431_525400224925row2_col12\" class=\"data row2 col12\" >0.210298</td>\n",
       "                        <td id=\"T_bfa2168e_0895_11eb_a431_525400224925row2_col13\" class=\"data row2 col13\" >-0.340877</td>\n",
       "                        <td id=\"T_bfa2168e_0895_11eb_a431_525400224925row2_col14\" class=\"data row2 col14\" >-0.189112</td>\n",
       "                        <td id=\"T_bfa2168e_0895_11eb_a431_525400224925row2_col15\" class=\"data row2 col15\" >-0.016478</td>\n",
       "                        <td id=\"T_bfa2168e_0895_11eb_a431_525400224925row2_col16\" class=\"data row2 col16\" >-0.027635</td>\n",
       "            </tr>\n",
       "            <tr>\n",
       "                        <th id=\"T_bfa2168e_0895_11eb_a431_525400224925level0_row3\" class=\"row_heading level0 row3\" >rho</th>\n",
       "                        <td id=\"T_bfa2168e_0895_11eb_a431_525400224925row3_col0\" class=\"data row3 col0\" >0.197789</td>\n",
       "                        <td id=\"T_bfa2168e_0895_11eb_a431_525400224925row3_col1\" class=\"data row3 col1\" >0.669663</td>\n",
       "                        <td id=\"T_bfa2168e_0895_11eb_a431_525400224925row3_col2\" class=\"data row3 col2\" >0.698999</td>\n",
       "                        <td id=\"T_bfa2168e_0895_11eb_a431_525400224925row3_col3\" class=\"data row3 col3\" >1.000000</td>\n",
       "                        <td id=\"T_bfa2168e_0895_11eb_a431_525400224925row3_col4\" class=\"data row3 col4\" >0.143516</td>\n",
       "                        <td id=\"T_bfa2168e_0895_11eb_a431_525400224925row3_col5\" class=\"data row3 col5\" >-0.097524</td>\n",
       "                        <td id=\"T_bfa2168e_0895_11eb_a431_525400224925row3_col6\" class=\"data row3 col6\" >-0.152360</td>\n",
       "                        <td id=\"T_bfa2168e_0895_11eb_a431_525400224925row3_col7\" class=\"data row3 col7\" >-0.059308</td>\n",
       "                        <td id=\"T_bfa2168e_0895_11eb_a431_525400224925row3_col8\" class=\"data row3 col8\" >-0.009590</td>\n",
       "                        <td id=\"T_bfa2168e_0895_11eb_a431_525400224925row3_col9\" class=\"data row3 col9\" >-0.020647</td>\n",
       "                        <td id=\"T_bfa2168e_0895_11eb_a431_525400224925row3_col10\" class=\"data row3 col10\" >0.205297</td>\n",
       "                        <td id=\"T_bfa2168e_0895_11eb_a431_525400224925row3_col11\" class=\"data row3 col11\" >0.207440</td>\n",
       "                        <td id=\"T_bfa2168e_0895_11eb_a431_525400224925row3_col12\" class=\"data row3 col12\" >0.126271</td>\n",
       "                        <td id=\"T_bfa2168e_0895_11eb_a431_525400224925row3_col13\" class=\"data row3 col13\" >-0.430105</td>\n",
       "                        <td id=\"T_bfa2168e_0895_11eb_a431_525400224925row3_col14\" class=\"data row3 col14\" >-0.425750</td>\n",
       "                        <td id=\"T_bfa2168e_0895_11eb_a431_525400224925row3_col15\" class=\"data row3 col15\" >-0.281694</td>\n",
       "                        <td id=\"T_bfa2168e_0895_11eb_a431_525400224925row3_col16\" class=\"data row3 col16\" >-0.016446</td>\n",
       "            </tr>\n",
       "            <tr>\n",
       "                        <th id=\"T_bfa2168e_0895_11eb_a431_525400224925level0_row4\" class=\"row_heading level0 row4\" >sigma</th>\n",
       "                        <td id=\"T_bfa2168e_0895_11eb_a431_525400224925row4_col0\" class=\"data row4 col0\" >-0.328369</td>\n",
       "                        <td id=\"T_bfa2168e_0895_11eb_a431_525400224925row4_col1\" class=\"data row4 col1\" >0.044763</td>\n",
       "                        <td id=\"T_bfa2168e_0895_11eb_a431_525400224925row4_col2\" class=\"data row4 col2\" >0.038029</td>\n",
       "                        <td id=\"T_bfa2168e_0895_11eb_a431_525400224925row4_col3\" class=\"data row4 col3\" >0.143516</td>\n",
       "                        <td id=\"T_bfa2168e_0895_11eb_a431_525400224925row4_col4\" class=\"data row4 col4\" >1.000000</td>\n",
       "                        <td id=\"T_bfa2168e_0895_11eb_a431_525400224925row4_col5\" class=\"data row4 col5\" >0.274672</td>\n",
       "                        <td id=\"T_bfa2168e_0895_11eb_a431_525400224925row4_col6\" class=\"data row4 col6\" >0.083609</td>\n",
       "                        <td id=\"T_bfa2168e_0895_11eb_a431_525400224925row4_col7\" class=\"data row4 col7\" >0.305995</td>\n",
       "                        <td id=\"T_bfa2168e_0895_11eb_a431_525400224925row4_col8\" class=\"data row4 col8\" >0.122562</td>\n",
       "                        <td id=\"T_bfa2168e_0895_11eb_a431_525400224925row4_col9\" class=\"data row4 col9\" >0.189927</td>\n",
       "                        <td id=\"T_bfa2168e_0895_11eb_a431_525400224925row4_col10\" class=\"data row4 col10\" >0.222914</td>\n",
       "                        <td id=\"T_bfa2168e_0895_11eb_a431_525400224925row4_col11\" class=\"data row4 col11\" >0.294506</td>\n",
       "                        <td id=\"T_bfa2168e_0895_11eb_a431_525400224925row4_col12\" class=\"data row4 col12\" >0.126564</td>\n",
       "                        <td id=\"T_bfa2168e_0895_11eb_a431_525400224925row4_col13\" class=\"data row4 col13\" >0.015196</td>\n",
       "                        <td id=\"T_bfa2168e_0895_11eb_a431_525400224925row4_col14\" class=\"data row4 col14\" >-0.046738</td>\n",
       "                        <td id=\"T_bfa2168e_0895_11eb_a431_525400224925row4_col15\" class=\"data row4 col15\" >0.077765</td>\n",
       "                        <td id=\"T_bfa2168e_0895_11eb_a431_525400224925row4_col16\" class=\"data row4 col16\" >0.249751</td>\n",
       "            </tr>\n",
       "            <tr>\n",
       "                        <th id=\"T_bfa2168e_0895_11eb_a431_525400224925level0_row5\" class=\"row_heading level0 row5\" >School_closing</th>\n",
       "                        <td id=\"T_bfa2168e_0895_11eb_a431_525400224925row5_col0\" class=\"data row5 col0\" >-0.266884</td>\n",
       "                        <td id=\"T_bfa2168e_0895_11eb_a431_525400224925row5_col1\" class=\"data row5 col1\" >-0.128085</td>\n",
       "                        <td id=\"T_bfa2168e_0895_11eb_a431_525400224925row5_col2\" class=\"data row5 col2\" >-0.131233</td>\n",
       "                        <td id=\"T_bfa2168e_0895_11eb_a431_525400224925row5_col3\" class=\"data row5 col3\" >-0.097524</td>\n",
       "                        <td id=\"T_bfa2168e_0895_11eb_a431_525400224925row5_col4\" class=\"data row5 col4\" >0.274672</td>\n",
       "                        <td id=\"T_bfa2168e_0895_11eb_a431_525400224925row5_col5\" class=\"data row5 col5\" >1.000000</td>\n",
       "                        <td id=\"T_bfa2168e_0895_11eb_a431_525400224925row5_col6\" class=\"data row5 col6\" >0.716619</td>\n",
       "                        <td id=\"T_bfa2168e_0895_11eb_a431_525400224925row5_col7\" class=\"data row5 col7\" >0.709476</td>\n",
       "                        <td id=\"T_bfa2168e_0895_11eb_a431_525400224925row5_col8\" class=\"data row5 col8\" >0.601929</td>\n",
       "                        <td id=\"T_bfa2168e_0895_11eb_a431_525400224925row5_col9\" class=\"data row5 col9\" >0.537946</td>\n",
       "                        <td id=\"T_bfa2168e_0895_11eb_a431_525400224925row5_col10\" class=\"data row5 col10\" >0.603336</td>\n",
       "                        <td id=\"T_bfa2168e_0895_11eb_a431_525400224925row5_col11\" class=\"data row5 col11\" >0.517930</td>\n",
       "                        <td id=\"T_bfa2168e_0895_11eb_a431_525400224925row5_col12\" class=\"data row5 col12\" >0.450222</td>\n",
       "                        <td id=\"T_bfa2168e_0895_11eb_a431_525400224925row5_col13\" class=\"data row5 col13\" >0.634004</td>\n",
       "                        <td id=\"T_bfa2168e_0895_11eb_a431_525400224925row5_col14\" class=\"data row5 col14\" >0.408844</td>\n",
       "                        <td id=\"T_bfa2168e_0895_11eb_a431_525400224925row5_col15\" class=\"data row5 col15\" >0.227508</td>\n",
       "                        <td id=\"T_bfa2168e_0895_11eb_a431_525400224925row5_col16\" class=\"data row5 col16\" >0.809084</td>\n",
       "            </tr>\n",
       "            <tr>\n",
       "                        <th id=\"T_bfa2168e_0895_11eb_a431_525400224925level0_row6\" class=\"row_heading level0 row6\" >Workplace_closing</th>\n",
       "                        <td id=\"T_bfa2168e_0895_11eb_a431_525400224925row6_col0\" class=\"data row6 col0\" >-0.209481</td>\n",
       "                        <td id=\"T_bfa2168e_0895_11eb_a431_525400224925row6_col1\" class=\"data row6 col1\" >-0.118721</td>\n",
       "                        <td id=\"T_bfa2168e_0895_11eb_a431_525400224925row6_col2\" class=\"data row6 col2\" >-0.126769</td>\n",
       "                        <td id=\"T_bfa2168e_0895_11eb_a431_525400224925row6_col3\" class=\"data row6 col3\" >-0.152360</td>\n",
       "                        <td id=\"T_bfa2168e_0895_11eb_a431_525400224925row6_col4\" class=\"data row6 col4\" >0.083609</td>\n",
       "                        <td id=\"T_bfa2168e_0895_11eb_a431_525400224925row6_col5\" class=\"data row6 col5\" >0.716619</td>\n",
       "                        <td id=\"T_bfa2168e_0895_11eb_a431_525400224925row6_col6\" class=\"data row6 col6\" >1.000000</td>\n",
       "                        <td id=\"T_bfa2168e_0895_11eb_a431_525400224925row6_col7\" class=\"data row6 col7\" >0.614890</td>\n",
       "                        <td id=\"T_bfa2168e_0895_11eb_a431_525400224925row6_col8\" class=\"data row6 col8\" >0.612908</td>\n",
       "                        <td id=\"T_bfa2168e_0895_11eb_a431_525400224925row6_col9\" class=\"data row6 col9\" >0.517898</td>\n",
       "                        <td id=\"T_bfa2168e_0895_11eb_a431_525400224925row6_col10\" class=\"data row6 col10\" >0.605567</td>\n",
       "                        <td id=\"T_bfa2168e_0895_11eb_a431_525400224925row6_col11\" class=\"data row6 col11\" >0.418351</td>\n",
       "                        <td id=\"T_bfa2168e_0895_11eb_a431_525400224925row6_col12\" class=\"data row6 col12\" >0.431506</td>\n",
       "                        <td id=\"T_bfa2168e_0895_11eb_a431_525400224925row6_col13\" class=\"data row6 col13\" >0.784678</td>\n",
       "                        <td id=\"T_bfa2168e_0895_11eb_a431_525400224925row6_col14\" class=\"data row6 col14\" >0.451858</td>\n",
       "                        <td id=\"T_bfa2168e_0895_11eb_a431_525400224925row6_col15\" class=\"data row6 col15\" >0.362875</td>\n",
       "                        <td id=\"T_bfa2168e_0895_11eb_a431_525400224925row6_col16\" class=\"data row6 col16\" >0.819455</td>\n",
       "            </tr>\n",
       "            <tr>\n",
       "                        <th id=\"T_bfa2168e_0895_11eb_a431_525400224925level0_row7\" class=\"row_heading level0 row7\" >Cancel_events</th>\n",
       "                        <td id=\"T_bfa2168e_0895_11eb_a431_525400224925row7_col0\" class=\"data row7 col0\" >-0.260647</td>\n",
       "                        <td id=\"T_bfa2168e_0895_11eb_a431_525400224925row7_col1\" class=\"data row7 col1\" >-0.178611</td>\n",
       "                        <td id=\"T_bfa2168e_0895_11eb_a431_525400224925row7_col2\" class=\"data row7 col2\" >-0.111636</td>\n",
       "                        <td id=\"T_bfa2168e_0895_11eb_a431_525400224925row7_col3\" class=\"data row7 col3\" >-0.059308</td>\n",
       "                        <td id=\"T_bfa2168e_0895_11eb_a431_525400224925row7_col4\" class=\"data row7 col4\" >0.305995</td>\n",
       "                        <td id=\"T_bfa2168e_0895_11eb_a431_525400224925row7_col5\" class=\"data row7 col5\" >0.709476</td>\n",
       "                        <td id=\"T_bfa2168e_0895_11eb_a431_525400224925row7_col6\" class=\"data row7 col6\" >0.614890</td>\n",
       "                        <td id=\"T_bfa2168e_0895_11eb_a431_525400224925row7_col7\" class=\"data row7 col7\" >1.000000</td>\n",
       "                        <td id=\"T_bfa2168e_0895_11eb_a431_525400224925row7_col8\" class=\"data row7 col8\" >0.679007</td>\n",
       "                        <td id=\"T_bfa2168e_0895_11eb_a431_525400224925row7_col9\" class=\"data row7 col9\" >0.580105</td>\n",
       "                        <td id=\"T_bfa2168e_0895_11eb_a431_525400224925row7_col10\" class=\"data row7 col10\" >0.511429</td>\n",
       "                        <td id=\"T_bfa2168e_0895_11eb_a431_525400224925row7_col11\" class=\"data row7 col11\" >0.562463</td>\n",
       "                        <td id=\"T_bfa2168e_0895_11eb_a431_525400224925row7_col12\" class=\"data row7 col12\" >0.672828</td>\n",
       "                        <td id=\"T_bfa2168e_0895_11eb_a431_525400224925row7_col13\" class=\"data row7 col13\" >0.649732</td>\n",
       "                        <td id=\"T_bfa2168e_0895_11eb_a431_525400224925row7_col14\" class=\"data row7 col14\" >0.324728</td>\n",
       "                        <td id=\"T_bfa2168e_0895_11eb_a431_525400224925row7_col15\" class=\"data row7 col15\" >0.262027</td>\n",
       "                        <td id=\"T_bfa2168e_0895_11eb_a431_525400224925row7_col16\" class=\"data row7 col16\" >0.817749</td>\n",
       "            </tr>\n",
       "            <tr>\n",
       "                        <th id=\"T_bfa2168e_0895_11eb_a431_525400224925level0_row8\" class=\"row_heading level0 row8\" >Gatherings_restrictions</th>\n",
       "                        <td id=\"T_bfa2168e_0895_11eb_a431_525400224925row8_col0\" class=\"data row8 col0\" >-0.225462</td>\n",
       "                        <td id=\"T_bfa2168e_0895_11eb_a431_525400224925row8_col1\" class=\"data row8 col1\" >-0.089406</td>\n",
       "                        <td id=\"T_bfa2168e_0895_11eb_a431_525400224925row8_col2\" class=\"data row8 col2\" >-0.069823</td>\n",
       "                        <td id=\"T_bfa2168e_0895_11eb_a431_525400224925row8_col3\" class=\"data row8 col3\" >-0.009590</td>\n",
       "                        <td id=\"T_bfa2168e_0895_11eb_a431_525400224925row8_col4\" class=\"data row8 col4\" >0.122562</td>\n",
       "                        <td id=\"T_bfa2168e_0895_11eb_a431_525400224925row8_col5\" class=\"data row8 col5\" >0.601929</td>\n",
       "                        <td id=\"T_bfa2168e_0895_11eb_a431_525400224925row8_col6\" class=\"data row8 col6\" >0.612908</td>\n",
       "                        <td id=\"T_bfa2168e_0895_11eb_a431_525400224925row8_col7\" class=\"data row8 col7\" >0.679007</td>\n",
       "                        <td id=\"T_bfa2168e_0895_11eb_a431_525400224925row8_col8\" class=\"data row8 col8\" >1.000000</td>\n",
       "                        <td id=\"T_bfa2168e_0895_11eb_a431_525400224925row8_col9\" class=\"data row8 col9\" >0.779078</td>\n",
       "                        <td id=\"T_bfa2168e_0895_11eb_a431_525400224925row8_col10\" class=\"data row8 col10\" >0.639735</td>\n",
       "                        <td id=\"T_bfa2168e_0895_11eb_a431_525400224925row8_col11\" class=\"data row8 col11\" >0.679287</td>\n",
       "                        <td id=\"T_bfa2168e_0895_11eb_a431_525400224925row8_col12\" class=\"data row8 col12\" >0.599844</td>\n",
       "                        <td id=\"T_bfa2168e_0895_11eb_a431_525400224925row8_col13\" class=\"data row8 col13\" >0.560642</td>\n",
       "                        <td id=\"T_bfa2168e_0895_11eb_a431_525400224925row8_col14\" class=\"data row8 col14\" >0.257362</td>\n",
       "                        <td id=\"T_bfa2168e_0895_11eb_a431_525400224925row8_col15\" class=\"data row8 col15\" >0.093756</td>\n",
       "                        <td id=\"T_bfa2168e_0895_11eb_a431_525400224925row8_col16\" class=\"data row8 col16\" >0.859896</td>\n",
       "            </tr>\n",
       "            <tr>\n",
       "                        <th id=\"T_bfa2168e_0895_11eb_a431_525400224925level0_row9\" class=\"row_heading level0 row9\" >Transport_closing</th>\n",
       "                        <td id=\"T_bfa2168e_0895_11eb_a431_525400224925row9_col0\" class=\"data row9 col0\" >-0.260093</td>\n",
       "                        <td id=\"T_bfa2168e_0895_11eb_a431_525400224925row9_col1\" class=\"data row9 col1\" >-0.103799</td>\n",
       "                        <td id=\"T_bfa2168e_0895_11eb_a431_525400224925row9_col2\" class=\"data row9 col2\" >-0.074192</td>\n",
       "                        <td id=\"T_bfa2168e_0895_11eb_a431_525400224925row9_col3\" class=\"data row9 col3\" >-0.020647</td>\n",
       "                        <td id=\"T_bfa2168e_0895_11eb_a431_525400224925row9_col4\" class=\"data row9 col4\" >0.189927</td>\n",
       "                        <td id=\"T_bfa2168e_0895_11eb_a431_525400224925row9_col5\" class=\"data row9 col5\" >0.537946</td>\n",
       "                        <td id=\"T_bfa2168e_0895_11eb_a431_525400224925row9_col6\" class=\"data row9 col6\" >0.517898</td>\n",
       "                        <td id=\"T_bfa2168e_0895_11eb_a431_525400224925row9_col7\" class=\"data row9 col7\" >0.580105</td>\n",
       "                        <td id=\"T_bfa2168e_0895_11eb_a431_525400224925row9_col8\" class=\"data row9 col8\" >0.779078</td>\n",
       "                        <td id=\"T_bfa2168e_0895_11eb_a431_525400224925row9_col9\" class=\"data row9 col9\" >1.000000</td>\n",
       "                        <td id=\"T_bfa2168e_0895_11eb_a431_525400224925row9_col10\" class=\"data row9 col10\" >0.578208</td>\n",
       "                        <td id=\"T_bfa2168e_0895_11eb_a431_525400224925row9_col11\" class=\"data row9 col11\" >0.618893</td>\n",
       "                        <td id=\"T_bfa2168e_0895_11eb_a431_525400224925row9_col12\" class=\"data row9 col12\" >0.590278</td>\n",
       "                        <td id=\"T_bfa2168e_0895_11eb_a431_525400224925row9_col13\" class=\"data row9 col13\" >0.338054</td>\n",
       "                        <td id=\"T_bfa2168e_0895_11eb_a431_525400224925row9_col14\" class=\"data row9 col14\" >0.037340</td>\n",
       "                        <td id=\"T_bfa2168e_0895_11eb_a431_525400224925row9_col15\" class=\"data row9 col15\" >-0.159041</td>\n",
       "                        <td id=\"T_bfa2168e_0895_11eb_a431_525400224925row9_col16\" class=\"data row9 col16\" >0.761477</td>\n",
       "            </tr>\n",
       "            <tr>\n",
       "                        <th id=\"T_bfa2168e_0895_11eb_a431_525400224925level0_row10\" class=\"row_heading level0 row10\" >Stay_home_restrictions</th>\n",
       "                        <td id=\"T_bfa2168e_0895_11eb_a431_525400224925row10_col0\" class=\"data row10 col0\" >-0.244760</td>\n",
       "                        <td id=\"T_bfa2168e_0895_11eb_a431_525400224925row10_col1\" class=\"data row10 col1\" >0.243954</td>\n",
       "                        <td id=\"T_bfa2168e_0895_11eb_a431_525400224925row10_col2\" class=\"data row10 col2\" >0.258672</td>\n",
       "                        <td id=\"T_bfa2168e_0895_11eb_a431_525400224925row10_col3\" class=\"data row10 col3\" >0.205297</td>\n",
       "                        <td id=\"T_bfa2168e_0895_11eb_a431_525400224925row10_col4\" class=\"data row10 col4\" >0.222914</td>\n",
       "                        <td id=\"T_bfa2168e_0895_11eb_a431_525400224925row10_col5\" class=\"data row10 col5\" >0.603336</td>\n",
       "                        <td id=\"T_bfa2168e_0895_11eb_a431_525400224925row10_col6\" class=\"data row10 col6\" >0.605567</td>\n",
       "                        <td id=\"T_bfa2168e_0895_11eb_a431_525400224925row10_col7\" class=\"data row10 col7\" >0.511429</td>\n",
       "                        <td id=\"T_bfa2168e_0895_11eb_a431_525400224925row10_col8\" class=\"data row10 col8\" >0.639735</td>\n",
       "                        <td id=\"T_bfa2168e_0895_11eb_a431_525400224925row10_col9\" class=\"data row10 col9\" >0.578208</td>\n",
       "                        <td id=\"T_bfa2168e_0895_11eb_a431_525400224925row10_col10\" class=\"data row10 col10\" >1.000000</td>\n",
       "                        <td id=\"T_bfa2168e_0895_11eb_a431_525400224925row10_col11\" class=\"data row10 col11\" >0.730644</td>\n",
       "                        <td id=\"T_bfa2168e_0895_11eb_a431_525400224925row10_col12\" class=\"data row10 col12\" >0.491065</td>\n",
       "                        <td id=\"T_bfa2168e_0895_11eb_a431_525400224925row10_col13\" class=\"data row10 col13\" >0.367883</td>\n",
       "                        <td id=\"T_bfa2168e_0895_11eb_a431_525400224925row10_col14\" class=\"data row10 col14\" >0.279239</td>\n",
       "                        <td id=\"T_bfa2168e_0895_11eb_a431_525400224925row10_col15\" class=\"data row10 col15\" >0.264556</td>\n",
       "                        <td id=\"T_bfa2168e_0895_11eb_a431_525400224925row10_col16\" class=\"data row10 col16\" >0.773792</td>\n",
       "            </tr>\n",
       "            <tr>\n",
       "                        <th id=\"T_bfa2168e_0895_11eb_a431_525400224925level0_row11\" class=\"row_heading level0 row11\" >Internal_movement_restrictions</th>\n",
       "                        <td id=\"T_bfa2168e_0895_11eb_a431_525400224925row11_col0\" class=\"data row11 col0\" >-0.394272</td>\n",
       "                        <td id=\"T_bfa2168e_0895_11eb_a431_525400224925row11_col1\" class=\"data row11 col1\" >0.138513</td>\n",
       "                        <td id=\"T_bfa2168e_0895_11eb_a431_525400224925row11_col2\" class=\"data row11 col2\" >0.191682</td>\n",
       "                        <td id=\"T_bfa2168e_0895_11eb_a431_525400224925row11_col3\" class=\"data row11 col3\" >0.207440</td>\n",
       "                        <td id=\"T_bfa2168e_0895_11eb_a431_525400224925row11_col4\" class=\"data row11 col4\" >0.294506</td>\n",
       "                        <td id=\"T_bfa2168e_0895_11eb_a431_525400224925row11_col5\" class=\"data row11 col5\" >0.517930</td>\n",
       "                        <td id=\"T_bfa2168e_0895_11eb_a431_525400224925row11_col6\" class=\"data row11 col6\" >0.418351</td>\n",
       "                        <td id=\"T_bfa2168e_0895_11eb_a431_525400224925row11_col7\" class=\"data row11 col7\" >0.562463</td>\n",
       "                        <td id=\"T_bfa2168e_0895_11eb_a431_525400224925row11_col8\" class=\"data row11 col8\" >0.679287</td>\n",
       "                        <td id=\"T_bfa2168e_0895_11eb_a431_525400224925row11_col9\" class=\"data row11 col9\" >0.618893</td>\n",
       "                        <td id=\"T_bfa2168e_0895_11eb_a431_525400224925row11_col10\" class=\"data row11 col10\" >0.730644</td>\n",
       "                        <td id=\"T_bfa2168e_0895_11eb_a431_525400224925row11_col11\" class=\"data row11 col11\" >1.000000</td>\n",
       "                        <td id=\"T_bfa2168e_0895_11eb_a431_525400224925row11_col12\" class=\"data row11 col12\" >0.410832</td>\n",
       "                        <td id=\"T_bfa2168e_0895_11eb_a431_525400224925row11_col13\" class=\"data row11 col13\" >0.197084</td>\n",
       "                        <td id=\"T_bfa2168e_0895_11eb_a431_525400224925row11_col14\" class=\"data row11 col14\" >0.276646</td>\n",
       "                        <td id=\"T_bfa2168e_0895_11eb_a431_525400224925row11_col15\" class=\"data row11 col15\" >0.047833</td>\n",
       "                        <td id=\"T_bfa2168e_0895_11eb_a431_525400224925row11_col16\" class=\"data row11 col16\" >0.670001</td>\n",
       "            </tr>\n",
       "            <tr>\n",
       "                        <th id=\"T_bfa2168e_0895_11eb_a431_525400224925level0_row12\" class=\"row_heading level0 row12\" >International_movement_restrictions</th>\n",
       "                        <td id=\"T_bfa2168e_0895_11eb_a431_525400224925row12_col0\" class=\"data row12 col0\" >-0.221172</td>\n",
       "                        <td id=\"T_bfa2168e_0895_11eb_a431_525400224925row12_col1\" class=\"data row12 col1\" >0.126033</td>\n",
       "                        <td id=\"T_bfa2168e_0895_11eb_a431_525400224925row12_col2\" class=\"data row12 col2\" >0.210298</td>\n",
       "                        <td id=\"T_bfa2168e_0895_11eb_a431_525400224925row12_col3\" class=\"data row12 col3\" >0.126271</td>\n",
       "                        <td id=\"T_bfa2168e_0895_11eb_a431_525400224925row12_col4\" class=\"data row12 col4\" >0.126564</td>\n",
       "                        <td id=\"T_bfa2168e_0895_11eb_a431_525400224925row12_col5\" class=\"data row12 col5\" >0.450222</td>\n",
       "                        <td id=\"T_bfa2168e_0895_11eb_a431_525400224925row12_col6\" class=\"data row12 col6\" >0.431506</td>\n",
       "                        <td id=\"T_bfa2168e_0895_11eb_a431_525400224925row12_col7\" class=\"data row12 col7\" >0.672828</td>\n",
       "                        <td id=\"T_bfa2168e_0895_11eb_a431_525400224925row12_col8\" class=\"data row12 col8\" >0.599844</td>\n",
       "                        <td id=\"T_bfa2168e_0895_11eb_a431_525400224925row12_col9\" class=\"data row12 col9\" >0.590278</td>\n",
       "                        <td id=\"T_bfa2168e_0895_11eb_a431_525400224925row12_col10\" class=\"data row12 col10\" >0.491065</td>\n",
       "                        <td id=\"T_bfa2168e_0895_11eb_a431_525400224925row12_col11\" class=\"data row12 col11\" >0.410832</td>\n",
       "                        <td id=\"T_bfa2168e_0895_11eb_a431_525400224925row12_col12\" class=\"data row12 col12\" >1.000000</td>\n",
       "                        <td id=\"T_bfa2168e_0895_11eb_a431_525400224925row12_col13\" class=\"data row12 col13\" >0.451733</td>\n",
       "                        <td id=\"T_bfa2168e_0895_11eb_a431_525400224925row12_col14\" class=\"data row12 col14\" >0.137638</td>\n",
       "                        <td id=\"T_bfa2168e_0895_11eb_a431_525400224925row12_col15\" class=\"data row12 col15\" >0.187446</td>\n",
       "                        <td id=\"T_bfa2168e_0895_11eb_a431_525400224925row12_col16\" class=\"data row12 col16\" >0.699238</td>\n",
       "            </tr>\n",
       "            <tr>\n",
       "                        <th id=\"T_bfa2168e_0895_11eb_a431_525400224925level0_row13\" class=\"row_heading level0 row13\" >Information_campaigns</th>\n",
       "                        <td id=\"T_bfa2168e_0895_11eb_a431_525400224925row13_col0\" class=\"data row13 col0\" >-0.122239</td>\n",
       "                        <td id=\"T_bfa2168e_0895_11eb_a431_525400224925row13_col1\" class=\"data row13 col1\" >-0.341266</td>\n",
       "                        <td id=\"T_bfa2168e_0895_11eb_a431_525400224925row13_col2\" class=\"data row13 col2\" >-0.340877</td>\n",
       "                        <td id=\"T_bfa2168e_0895_11eb_a431_525400224925row13_col3\" class=\"data row13 col3\" >-0.430105</td>\n",
       "                        <td id=\"T_bfa2168e_0895_11eb_a431_525400224925row13_col4\" class=\"data row13 col4\" >0.015196</td>\n",
       "                        <td id=\"T_bfa2168e_0895_11eb_a431_525400224925row13_col5\" class=\"data row13 col5\" >0.634004</td>\n",
       "                        <td id=\"T_bfa2168e_0895_11eb_a431_525400224925row13_col6\" class=\"data row13 col6\" >0.784678</td>\n",
       "                        <td id=\"T_bfa2168e_0895_11eb_a431_525400224925row13_col7\" class=\"data row13 col7\" >0.649732</td>\n",
       "                        <td id=\"T_bfa2168e_0895_11eb_a431_525400224925row13_col8\" class=\"data row13 col8\" >0.560642</td>\n",
       "                        <td id=\"T_bfa2168e_0895_11eb_a431_525400224925row13_col9\" class=\"data row13 col9\" >0.338054</td>\n",
       "                        <td id=\"T_bfa2168e_0895_11eb_a431_525400224925row13_col10\" class=\"data row13 col10\" >0.367883</td>\n",
       "                        <td id=\"T_bfa2168e_0895_11eb_a431_525400224925row13_col11\" class=\"data row13 col11\" >0.197084</td>\n",
       "                        <td id=\"T_bfa2168e_0895_11eb_a431_525400224925row13_col12\" class=\"data row13 col12\" >0.451733</td>\n",
       "                        <td id=\"T_bfa2168e_0895_11eb_a431_525400224925row13_col13\" class=\"data row13 col13\" >1.000000</td>\n",
       "                        <td id=\"T_bfa2168e_0895_11eb_a431_525400224925row13_col14\" class=\"data row13 col14\" >0.546824</td>\n",
       "                        <td id=\"T_bfa2168e_0895_11eb_a431_525400224925row13_col15\" class=\"data row13 col15\" >0.566362</td>\n",
       "                        <td id=\"T_bfa2168e_0895_11eb_a431_525400224925row13_col16\" class=\"data row13 col16\" >0.722239</td>\n",
       "            </tr>\n",
       "            <tr>\n",
       "                        <th id=\"T_bfa2168e_0895_11eb_a431_525400224925level0_row14\" class=\"row_heading level0 row14\" >Testing_policy</th>\n",
       "                        <td id=\"T_bfa2168e_0895_11eb_a431_525400224925row14_col0\" class=\"data row14 col0\" >-0.263548</td>\n",
       "                        <td id=\"T_bfa2168e_0895_11eb_a431_525400224925row14_col1\" class=\"data row14 col1\" >-0.239868</td>\n",
       "                        <td id=\"T_bfa2168e_0895_11eb_a431_525400224925row14_col2\" class=\"data row14 col2\" >-0.189112</td>\n",
       "                        <td id=\"T_bfa2168e_0895_11eb_a431_525400224925row14_col3\" class=\"data row14 col3\" >-0.425750</td>\n",
       "                        <td id=\"T_bfa2168e_0895_11eb_a431_525400224925row14_col4\" class=\"data row14 col4\" >-0.046738</td>\n",
       "                        <td id=\"T_bfa2168e_0895_11eb_a431_525400224925row14_col5\" class=\"data row14 col5\" >0.408844</td>\n",
       "                        <td id=\"T_bfa2168e_0895_11eb_a431_525400224925row14_col6\" class=\"data row14 col6\" >0.451858</td>\n",
       "                        <td id=\"T_bfa2168e_0895_11eb_a431_525400224925row14_col7\" class=\"data row14 col7\" >0.324728</td>\n",
       "                        <td id=\"T_bfa2168e_0895_11eb_a431_525400224925row14_col8\" class=\"data row14 col8\" >0.257362</td>\n",
       "                        <td id=\"T_bfa2168e_0895_11eb_a431_525400224925row14_col9\" class=\"data row14 col9\" >0.037340</td>\n",
       "                        <td id=\"T_bfa2168e_0895_11eb_a431_525400224925row14_col10\" class=\"data row14 col10\" >0.279239</td>\n",
       "                        <td id=\"T_bfa2168e_0895_11eb_a431_525400224925row14_col11\" class=\"data row14 col11\" >0.276646</td>\n",
       "                        <td id=\"T_bfa2168e_0895_11eb_a431_525400224925row14_col12\" class=\"data row14 col12\" >0.137638</td>\n",
       "                        <td id=\"T_bfa2168e_0895_11eb_a431_525400224925row14_col13\" class=\"data row14 col13\" >0.546824</td>\n",
       "                        <td id=\"T_bfa2168e_0895_11eb_a431_525400224925row14_col14\" class=\"data row14 col14\" >1.000000</td>\n",
       "                        <td id=\"T_bfa2168e_0895_11eb_a431_525400224925row14_col15\" class=\"data row14 col15\" >0.551360</td>\n",
       "                        <td id=\"T_bfa2168e_0895_11eb_a431_525400224925row14_col16\" class=\"data row14 col16\" >0.302078</td>\n",
       "            </tr>\n",
       "            <tr>\n",
       "                        <th id=\"T_bfa2168e_0895_11eb_a431_525400224925level0_row15\" class=\"row_heading level0 row15\" >Contact_tracing</th>\n",
       "                        <td id=\"T_bfa2168e_0895_11eb_a431_525400224925row15_col0\" class=\"data row15 col0\" >-0.188933</td>\n",
       "                        <td id=\"T_bfa2168e_0895_11eb_a431_525400224925row15_col1\" class=\"data row15 col1\" >-0.004679</td>\n",
       "                        <td id=\"T_bfa2168e_0895_11eb_a431_525400224925row15_col2\" class=\"data row15 col2\" >-0.016478</td>\n",
       "                        <td id=\"T_bfa2168e_0895_11eb_a431_525400224925row15_col3\" class=\"data row15 col3\" >-0.281694</td>\n",
       "                        <td id=\"T_bfa2168e_0895_11eb_a431_525400224925row15_col4\" class=\"data row15 col4\" >0.077765</td>\n",
       "                        <td id=\"T_bfa2168e_0895_11eb_a431_525400224925row15_col5\" class=\"data row15 col5\" >0.227508</td>\n",
       "                        <td id=\"T_bfa2168e_0895_11eb_a431_525400224925row15_col6\" class=\"data row15 col6\" >0.362875</td>\n",
       "                        <td id=\"T_bfa2168e_0895_11eb_a431_525400224925row15_col7\" class=\"data row15 col7\" >0.262027</td>\n",
       "                        <td id=\"T_bfa2168e_0895_11eb_a431_525400224925row15_col8\" class=\"data row15 col8\" >0.093756</td>\n",
       "                        <td id=\"T_bfa2168e_0895_11eb_a431_525400224925row15_col9\" class=\"data row15 col9\" >-0.159041</td>\n",
       "                        <td id=\"T_bfa2168e_0895_11eb_a431_525400224925row15_col10\" class=\"data row15 col10\" >0.264556</td>\n",
       "                        <td id=\"T_bfa2168e_0895_11eb_a431_525400224925row15_col11\" class=\"data row15 col11\" >0.047833</td>\n",
       "                        <td id=\"T_bfa2168e_0895_11eb_a431_525400224925row15_col12\" class=\"data row15 col12\" >0.187446</td>\n",
       "                        <td id=\"T_bfa2168e_0895_11eb_a431_525400224925row15_col13\" class=\"data row15 col13\" >0.566362</td>\n",
       "                        <td id=\"T_bfa2168e_0895_11eb_a431_525400224925row15_col14\" class=\"data row15 col14\" >0.551360</td>\n",
       "                        <td id=\"T_bfa2168e_0895_11eb_a431_525400224925row15_col15\" class=\"data row15 col15\" >1.000000</td>\n",
       "                        <td id=\"T_bfa2168e_0895_11eb_a431_525400224925row15_col16\" class=\"data row15 col16\" >0.281925</td>\n",
       "            </tr>\n",
       "            <tr>\n",
       "                        <th id=\"T_bfa2168e_0895_11eb_a431_525400224925level0_row16\" class=\"row_heading level0 row16\" >Stringency_index</th>\n",
       "                        <td id=\"T_bfa2168e_0895_11eb_a431_525400224925row16_col0\" class=\"data row16 col0\" >-0.268740</td>\n",
       "                        <td id=\"T_bfa2168e_0895_11eb_a431_525400224925row16_col1\" class=\"data row16 col1\" >-0.038411</td>\n",
       "                        <td id=\"T_bfa2168e_0895_11eb_a431_525400224925row16_col2\" class=\"data row16 col2\" >-0.027635</td>\n",
       "                        <td id=\"T_bfa2168e_0895_11eb_a431_525400224925row16_col3\" class=\"data row16 col3\" >-0.016446</td>\n",
       "                        <td id=\"T_bfa2168e_0895_11eb_a431_525400224925row16_col4\" class=\"data row16 col4\" >0.249751</td>\n",
       "                        <td id=\"T_bfa2168e_0895_11eb_a431_525400224925row16_col5\" class=\"data row16 col5\" >0.809084</td>\n",
       "                        <td id=\"T_bfa2168e_0895_11eb_a431_525400224925row16_col6\" class=\"data row16 col6\" >0.819455</td>\n",
       "                        <td id=\"T_bfa2168e_0895_11eb_a431_525400224925row16_col7\" class=\"data row16 col7\" >0.817749</td>\n",
       "                        <td id=\"T_bfa2168e_0895_11eb_a431_525400224925row16_col8\" class=\"data row16 col8\" >0.859896</td>\n",
       "                        <td id=\"T_bfa2168e_0895_11eb_a431_525400224925row16_col9\" class=\"data row16 col9\" >0.761477</td>\n",
       "                        <td id=\"T_bfa2168e_0895_11eb_a431_525400224925row16_col10\" class=\"data row16 col10\" >0.773792</td>\n",
       "                        <td id=\"T_bfa2168e_0895_11eb_a431_525400224925row16_col11\" class=\"data row16 col11\" >0.670001</td>\n",
       "                        <td id=\"T_bfa2168e_0895_11eb_a431_525400224925row16_col12\" class=\"data row16 col12\" >0.699238</td>\n",
       "                        <td id=\"T_bfa2168e_0895_11eb_a431_525400224925row16_col13\" class=\"data row16 col13\" >0.722239</td>\n",
       "                        <td id=\"T_bfa2168e_0895_11eb_a431_525400224925row16_col14\" class=\"data row16 col14\" >0.302078</td>\n",
       "                        <td id=\"T_bfa2168e_0895_11eb_a431_525400224925row16_col15\" class=\"data row16 col15\" >0.281925</td>\n",
       "                        <td id=\"T_bfa2168e_0895_11eb_a431_525400224925row16_col16\" class=\"data row16 col16\" >1.000000</td>\n",
       "            </tr>\n",
       "    </tbody></table>"
      ],
      "text/plain": [
       "<pandas.io.formats.style.Styler at 0x7f781fdbbd30>"
      ]
     },
     "execution_count": 21,
     "metadata": {},
     "output_type": "execute_result"
    }
   ],
   "source": [
    "# Correlation\n",
    "df = track_df.copy()\n",
    "df.corr().style.background_gradient(axis=None)"
   ]
  },
  {
   "cell_type": "code",
   "execution_count": 22,
   "metadata": {
    "collapsed": false
   },
   "outputs": [
    {
     "data": {
      "image/png": "[encoded data removed]",
      "text/plain": [
       "<Figure size 432x288 with 1 Axes>"
      ]
     },
     "metadata": {},
     "output_type": "display_data"
    }
   ],
   "source": [
    "# Scatter plot of Stringency index and Rt\n",
    "df = track_df.copy()\n",
    "sns.scatterplot(data=df, x=\"Stringency_index\", y=\"Rt\", hue=\"Country\", legend=\"brief\", marker=\"+\")\n",
    "bbox_to_anchor=(1.02, 0)\n",
    "bbox_loc=\"lower left\"\n",
    "plt.legend(bbox_to_anchor=bbox_to_anchor, loc=bbox_loc, borderaxespad=0)\n",
    "plt.title(\"Relationship of Stringency index and reproduction number\")\n",
    "plt.ylabel(\"Reproduction number\")\n",
    "plt.xlabel(\"Stringency index\")\n",
    "plt.show()"
   ]
  }
 ],
 "metadata": {
  "kernelspec": {
   "display_name": "Python 3.8.2 64-bit ('.venv': venv)",
   "name": "python_defaultSpec_1597669925034"
  },
  "language_info": {
   "codemirror_mode": {
    "name": "ipython",
    "version": 3
   },
   "file_extension": ".py",
   "mimetype": "text/x-python",
   "name": "python",
   "nbconvert_exporter": "python",
   "pygments_lexer": "ipython3",
   "version": "3.8.2-final"
  }
 },
 "nbformat": 4,
 "nbformat_minor": 4
}
