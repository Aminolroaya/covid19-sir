{
 "cells": [
  {
   "cell_type": "markdown",
   "metadata": {},
   "source": [
    "# Usage (details: policy measures)\n",
    "Here, we will analyse the relationship of policy measures and parameter values of SIR-derived ODE models. Policy measures are tracked by [Oxford Covid-19 Government Response Tracker (OxCGRT)](https://github.com/OxCGRT/covid-policy-tracker)."
   ]
  },
  {
   "cell_type": "markdown",
   "metadata": {},
   "source": [
    "## Preparation"
   ]
  },
  {
   "cell_type": "code",
   "execution_count": 1,
   "metadata": {
    "collapsed": false
   },
   "outputs": [],
   "source": [
    "# Standard users\n",
    "# !pip install covsirphy\n",
    "# Developers (Note: this notebook is in example directory)\n",
    "import os\n",
    "os.chdir(\"../\")"
   ]
  },
  {
   "cell_type": "code",
   "execution_count": 2,
   "metadata": {
    "collapsed": false
   },
   "outputs": [],
   "source": [
    "from pprint import pprint"
   ]
  },
  {
   "cell_type": "code",
   "execution_count": 3,
   "metadata": {
    "collapsed": false
   },
   "outputs": [
    {
     "data": {
      "text/plain": [
       "'2.8.3'"
      ]
     },
     "execution_count": 3,
     "metadata": {},
     "output_type": "execute_result"
    }
   ],
   "source": [
    "import covsirphy as cs\n",
    "cs.__version__"
   ]
  },
  {
   "cell_type": "code",
   "execution_count": 4,
   "metadata": {
    "collapsed": false,
    "tags": []
   },
   "outputs": [
    {
     "name": "stdout",
     "output_type": "stream",
     "text": [
      "(Secondary source) Guidotti, E., Ardia, D., (2020), \"COVID-19 Data Hub\", Journal of Open Source Software 5(51):2376, doi: 10.21105/joss.02376.\n",
      "We can get Citation list of primary sources with DataLoader(...).covid19dh_citation"
     ]
    },
    {
     "name": "stdout",
     "output_type": "stream",
     "text": [
      "\n"
     ]
    }
   ],
   "source": [
    "# Standard users and developers\n",
    "data_loader = cs.DataLoader(\"input\")\n",
    "# The number of cases (JHU style)\n",
    "jhu_data = data_loader.jhu(verbose=False)\n",
    "# Population in each country\n",
    "population_data = data_loader.population(verbose=False)\n",
    "# Government Response Tracker (OxCGRT)\n",
    "oxcgrt_data = data_loader.oxcgrt(verbose=False)\n",
    "# Description/citation\n",
    "print(oxcgrt_data.citation)"
   ]
  },
  {
   "cell_type": "markdown",
   "metadata": {},
   "source": [
    "## Class for policy measure analysis\n",
    "We will `PolicyMeasures` class to find relationship of policy measures and parameter values of SIR-derived ODE models."
   ]
  },
  {
   "cell_type": "code",
   "execution_count": 5,
   "metadata": {
    "collapsed": false,
    "tags": []
   },
   "outputs": [
    {
     "data": {
      "text/plain": [
       "184"
      ]
     },
     "execution_count": 5,
     "metadata": {},
     "output_type": "execute_result"
    }
   ],
   "source": [
    "# Create analyser with tau value 360 [min] (can be changed)\n",
    "analyser = cs.PolicyMeasures(jhu_data, population_data, oxcgrt_data, tau=360)\n",
    "# The number of registerd countries\n",
    "len(analyser.countries)"
   ]
  },
  {
   "cell_type": "code",
   "execution_count": 6,
   "metadata": {
    "collapsed": false
   },
   "outputs": [
    {
     "data": {
      "text/plain": [
       "covsirphy.analysis.scenario.Scenario"
      ]
     },
     "execution_count": 6,
     "metadata": {},
     "output_type": "execute_result"
    }
   ],
   "source": [
    "# We can get Scenario instance for detailed scenario analysis\n",
    "type(analyser.scenario(\"Japan\"))"
   ]
  },
  {
   "cell_type": "markdown",
   "metadata": {},
   "source": [
    "## Set phases with S-R trend analysis\n",
    "We will perform S-R trend analysis to set phases in all countries. Countries which do not have **12th phases** will be un-registered for the next analysis. This number will be adjusted for your analysis."
   ]
  },
  {
   "cell_type": "code",
   "execution_count": 7,
   "metadata": {
    "collapsed": false
   },
   "outputs": [
    {
     "name": "stdout",
     "output_type": "stream",
     "text": [
      "{"
     ]
    },
    {
     "name": "stdout",
     "output_type": "stream",
     "text": [
      "4"
     ]
    },
    {
     "name": "stdout",
     "output_type": "stream",
     "text": [
      ": "
     ]
    },
    {
     "name": "stdout",
     "output_type": "stream",
     "text": [
      "['Tanzania', 'Myanmar']"
     ]
    },
    {
     "name": "stdout",
     "output_type": "stream",
     "text": [
      ",\n",
      " "
     ]
    },
    {
     "name": "stdout",
     "output_type": "stream",
     "text": [
      "5"
     ]
    },
    {
     "name": "stdout",
     "output_type": "stream",
     "text": [
      ": "
     ]
    },
    {
     "name": "stdout",
     "output_type": "stream",
     "text": [
      "["
     ]
    },
    {
     "name": "stdout",
     "output_type": "stream",
     "text": [
      "'Tunisia'"
     ]
    },
    {
     "name": "stdout",
     "output_type": "stream",
     "text": [
      ", "
     ]
    },
    {
     "name": "stdout",
     "output_type": "stream",
     "text": [
      "'Trinidad and Tobago'"
     ]
    },
    {
     "name": "stdout",
     "output_type": "stream",
     "text": [
      ", "
     ]
    },
    {
     "name": "stdout",
     "output_type": "stream",
     "text": [
      "'Grenada'"
     ]
    },
    {
     "name": "stdout",
     "output_type": "stream",
     "text": [
      ", "
     ]
    },
    {
     "name": "stdout",
     "output_type": "stream",
     "text": [
      "'Libya'"
     ]
    },
    {
     "name": "stdout",
     "output_type": "stream",
     "text": [
      ", "
     ]
    },
    {
     "name": "stdout",
     "output_type": "stream",
     "text": [
      "'Jordan'"
     ]
    },
    {
     "name": "stdout",
     "output_type": "stream",
     "text": [
      ", "
     ]
    },
    {
     "name": "stdout",
     "output_type": "stream",
     "text": [
      "'Fiji'"
     ]
    },
    {
     "name": "stdout",
     "output_type": "stream",
     "text": [
      ",\n",
      "     "
     ]
    },
    {
     "name": "stdout",
     "output_type": "stream",
     "text": [
      "'Antigua and Barbuda'"
     ]
    },
    {
     "name": "stdout",
     "output_type": "stream",
     "text": [
      ", "
     ]
    },
    {
     "name": "stdout",
     "output_type": "stream",
     "text": [
      "'Papua New Guinea'"
     ]
    },
    {
     "name": "stdout",
     "output_type": "stream",
     "text": [
      ", "
     ]
    },
    {
     "name": "stdout",
     "output_type": "stream",
     "text": [
      "'Belize'"
     ]
    },
    {
     "name": "stdout",
     "output_type": "stream",
     "text": [
      ", "
     ]
    },
    {
     "name": "stdout",
     "output_type": "stream",
     "text": [
      "'Hungary'"
     ]
    },
    {
     "name": "stdout",
     "output_type": "stream",
     "text": [
      ", "
     ]
    },
    {
     "name": "stdout",
     "output_type": "stream",
     "text": [
      "'Brunei'"
     ]
    },
    {
     "name": "stdout",
     "output_type": "stream",
     "text": [
      ",\n",
      "     "
     ]
    },
    {
     "name": "stdout",
     "output_type": "stream",
     "text": [
      "'Georgia'"
     ]
    },
    {
     "name": "stdout",
     "output_type": "stream",
     "text": [
      ", "
     ]
    },
    {
     "name": "stdout",
     "output_type": "stream",
     "text": [
      "'Dominica'"
     ]
    },
    {
     "name": "stdout",
     "output_type": "stream",
     "text": [
      "]"
     ]
    },
    {
     "name": "stdout",
     "output_type": "stream",
     "text": [
      ",\n",
      " "
     ]
    },
    {
     "name": "stdout",
     "output_type": "stream",
     "text": [
      "6"
     ]
    },
    {
     "name": "stdout",
     "output_type": "stream",
     "text": [
      ": "
     ]
    },
    {
     "name": "stdout",
     "output_type": "stream",
     "text": [
      "["
     ]
    },
    {
     "name": "stdout",
     "output_type": "stream",
     "text": [
      "'Mauritius'"
     ]
    },
    {
     "name": "stdout",
     "output_type": "stream",
     "text": [
      ", "
     ]
    },
    {
     "name": "stdout",
     "output_type": "stream",
     "text": [
      "'Yemen'"
     ]
    },
    {
     "name": "stdout",
     "output_type": "stream",
     "text": [
      ", "
     ]
    },
    {
     "name": "stdout",
     "output_type": "stream",
     "text": [
      "'Ireland'"
     ]
    },
    {
     "name": "stdout",
     "output_type": "stream",
     "text": [
      ", "
     ]
    },
    {
     "name": "stdout",
     "output_type": "stream",
     "text": [
      "'Cambodia'"
     ]
    },
    {
     "name": "stdout",
     "output_type": "stream",
     "text": [
      ", "
     ]
    },
    {
     "name": "stdout",
     "output_type": "stream",
     "text": [
      "'Seychelles'"
     ]
    },
    {
     "name": "stdout",
     "output_type": "stream",
     "text": [
      ", "
     ]
    },
    {
     "name": "stdout",
     "output_type": "stream",
     "text": [
      "'Uganda'"
     ]
    },
    {
     "name": "stdout",
     "output_type": "stream",
     "text": [
      ",\n",
      "     "
     ]
    },
    {
     "name": "stdout",
     "output_type": "stream",
     "text": [
      "'Jamaica'"
     ]
    },
    {
     "name": "stdout",
     "output_type": "stream",
     "text": [
      ", "
     ]
    },
    {
     "name": "stdout",
     "output_type": "stream",
     "text": [
      "'Comoros'"
     ]
    },
    {
     "name": "stdout",
     "output_type": "stream",
     "text": [
      ", "
     ]
    },
    {
     "name": "stdout",
     "output_type": "stream",
     "text": [
      "'Andorra'"
     ]
    },
    {
     "name": "stdout",
     "output_type": "stream",
     "text": [
      ", "
     ]
    },
    {
     "name": "stdout",
     "output_type": "stream",
     "text": [
      "'Equatorial Guinea'"
     ]
    },
    {
     "name": "stdout",
     "output_type": "stream",
     "text": [
      ", "
     ]
    },
    {
     "name": "stdout",
     "output_type": "stream",
     "text": [
      "'Guinea-Bissau'"
     ]
    },
    {
     "name": "stdout",
     "output_type": "stream",
     "text": [
      ",\n",
      "     "
     ]
    },
    {
     "name": "stdout",
     "output_type": "stream",
     "text": [
      "'Lesotho'"
     ]
    },
    {
     "name": "stdout",
     "output_type": "stream",
     "text": [
      ", "
     ]
    },
    {
     "name": "stdout",
     "output_type": "stream",
     "text": [
      "'Slovakia'"
     ]
    },
    {
     "name": "stdout",
     "output_type": "stream",
     "text": [
      ", "
     ]
    },
    {
     "name": "stdout",
     "output_type": "stream",
     "text": [
      "'Czech Republic'"
     ]
    },
    {
     "name": "stdout",
     "output_type": "stream",
     "text": [
      ", "
     ]
    },
    {
     "name": "stdout",
     "output_type": "stream",
     "text": [
      "'Slovenia'"
     ]
    },
    {
     "name": "stdout",
     "output_type": "stream",
     "text": [
      ", "
     ]
    },
    {
     "name": "stdout",
     "output_type": "stream",
     "text": [
      "'Cyprus'"
     ]
    },
    {
     "name": "stdout",
     "output_type": "stream",
     "text": [
      "]"
     ]
    },
    {
     "name": "stdout",
     "output_type": "stream",
     "text": [
      ",\n",
      " "
     ]
    },
    {
     "name": "stdout",
     "output_type": "stream",
     "text": [
      "7"
     ]
    },
    {
     "name": "stdout",
     "output_type": "stream",
     "text": [
      ": "
     ]
    },
    {
     "name": "stdout",
     "output_type": "stream",
     "text": [
      "["
     ]
    },
    {
     "name": "stdout",
     "output_type": "stream",
     "text": [
      "'Paraguay'"
     ]
    },
    {
     "name": "stdout",
     "output_type": "stream",
     "text": [
      ", "
     ]
    },
    {
     "name": "stdout",
     "output_type": "stream",
     "text": [
      "'Vietnam'"
     ]
    },
    {
     "name": "stdout",
     "output_type": "stream",
     "text": [
      ", "
     ]
    },
    {
     "name": "stdout",
     "output_type": "stream",
     "text": [
      "'Central African Republic'"
     ]
    },
    {
     "name": "stdout",
     "output_type": "stream",
     "text": [
      ", "
     ]
    },
    {
     "name": "stdout",
     "output_type": "stream",
     "text": [
      "'Mongolia'"
     ]
    },
    {
     "name": "stdout",
     "output_type": "stream",
     "text": [
      ",\n",
      "     "
     ]
    },
    {
     "name": "stdout",
     "output_type": "stream",
     "text": [
      "'Mozambique'"
     ]
    },
    {
     "name": "stdout",
     "output_type": "stream",
     "text": [
      ", "
     ]
    },
    {
     "name": "stdout",
     "output_type": "stream",
     "text": [
      "'South Sudan'"
     ]
    },
    {
     "name": "stdout",
     "output_type": "stream",
     "text": [
      ", "
     ]
    },
    {
     "name": "stdout",
     "output_type": "stream",
     "text": [
      "'Lebanon'"
     ]
    },
    {
     "name": "stdout",
     "output_type": "stream",
     "text": [
      ", "
     ]
    },
    {
     "name": "stdout",
     "output_type": "stream",
     "text": [
      "'Burundi'"
     ]
    },
    {
     "name": "stdout",
     "output_type": "stream",
     "text": [
      ", "
     ]
    },
    {
     "name": "stdout",
     "output_type": "stream",
     "text": [
      "'Kyrgyzstan'"
     ]
    },
    {
     "name": "stdout",
     "output_type": "stream",
     "text": [
      ",\n",
      "     "
     ]
    },
    {
     "name": "stdout",
     "output_type": "stream",
     "text": [
      "'Australia'"
     ]
    },
    {
     "name": "stdout",
     "output_type": "stream",
     "text": [
      ", "
     ]
    },
    {
     "name": "stdout",
     "output_type": "stream",
     "text": [
      "'Colombia'"
     ]
    },
    {
     "name": "stdout",
     "output_type": "stream",
     "text": [
      ", "
     ]
    },
    {
     "name": "stdout",
     "output_type": "stream",
     "text": [
      "'Guyana'"
     ]
    },
    {
     "name": "stdout",
     "output_type": "stream",
     "text": [
      ", "
     ]
    },
    {
     "name": "stdout",
     "output_type": "stream",
     "text": [
      "'Sao Tome and Principe'"
     ]
    },
    {
     "name": "stdout",
     "output_type": "stream",
     "text": [
      ", "
     ]
    },
    {
     "name": "stdout",
     "output_type": "stream",
     "text": [
      "'Spain'"
     ]
    },
    {
     "name": "stdout",
     "output_type": "stream",
     "text": [
      ",\n",
      "     "
     ]
    },
    {
     "name": "stdout",
     "output_type": "stream",
     "text": [
      "'Afghanistan'"
     ]
    },
    {
     "name": "stdout",
     "output_type": "stream",
     "text": [
      ", "
     ]
    },
    {
     "name": "stdout",
     "output_type": "stream",
     "text": [
      "'San Marino'"
     ]
    },
    {
     "name": "stdout",
     "output_type": "stream",
     "text": [
      ", "
     ]
    },
    {
     "name": "stdout",
     "output_type": "stream",
     "text": [
      "'Monaco'"
     ]
    },
    {
     "name": "stdout",
     "output_type": "stream",
     "text": [
      ", "
     ]
    },
    {
     "name": "stdout",
     "output_type": "stream",
     "text": [
      "'Angola'"
     ]
    },
    {
     "name": "stdout",
     "output_type": "stream",
     "text": [
      ", "
     ]
    },
    {
     "name": "stdout",
     "output_type": "stream",
     "text": [
      "'Montenegro'"
     ]
    },
    {
     "name": "stdout",
     "output_type": "stream",
     "text": [
      ",\n",
      "     "
     ]
    },
    {
     "name": "stdout",
     "output_type": "stream",
     "text": [
      "'Kazakhstan'"
     ]
    },
    {
     "name": "stdout",
     "output_type": "stream",
     "text": [
      ", "
     ]
    },
    {
     "name": "stdout",
     "output_type": "stream",
     "text": [
      "'Namibia'"
     ]
    },
    {
     "name": "stdout",
     "output_type": "stream",
     "text": [
      ", "
     ]
    },
    {
     "name": "stdout",
     "output_type": "stream",
     "text": [
      "'Netherlands'"
     ]
    },
    {
     "name": "stdout",
     "output_type": "stream",
     "text": [
      ", "
     ]
    },
    {
     "name": "stdout",
     "output_type": "stream",
     "text": [
      "'New Zealand'"
     ]
    },
    {
     "name": "stdout",
     "output_type": "stream",
     "text": [
      ", "
     ]
    },
    {
     "name": "stdout",
     "output_type": "stream",
     "text": [
      "'Gambia'"
     ]
    },
    {
     "name": "stdout",
     "output_type": "stream",
     "text": [
      ", "
     ]
    },
    {
     "name": "stdout",
     "output_type": "stream",
     "text": [
      "'Malawi'"
     ]
    },
    {
     "name": "stdout",
     "output_type": "stream",
     "text": [
      ",\n",
      "     "
     ]
    },
    {
     "name": "stdout",
     "output_type": "stream",
     "text": [
      "'Saint Vincent and the Grenadines'"
     ]
    },
    {
     "name": "stdout",
     "output_type": "stream",
     "text": [
      ", "
     ]
    },
    {
     "name": "stdout",
     "output_type": "stream",
     "text": [
      "'Bahamas'"
     ]
    },
    {
     "name": "stdout",
     "output_type": "stream",
     "text": [
      "]"
     ]
    },
    {
     "name": "stdout",
     "output_type": "stream",
     "text": [
      ",\n",
      " "
     ]
    },
    {
     "name": "stdout",
     "output_type": "stream",
     "text": [
      "8"
     ]
    },
    {
     "name": "stdout",
     "output_type": "stream",
     "text": [
      ": "
     ]
    },
    {
     "name": "stdout",
     "output_type": "stream",
     "text": [
      "["
     ]
    },
    {
     "name": "stdout",
     "output_type": "stream",
     "text": [
      "'Thailand'"
     ]
    },
    {
     "name": "stdout",
     "output_type": "stream",
     "text": [
      ", "
     ]
    },
    {
     "name": "stdout",
     "output_type": "stream",
     "text": [
      "'Argentina'"
     ]
    },
    {
     "name": "stdout",
     "output_type": "stream",
     "text": [
      ", "
     ]
    },
    {
     "name": "stdout",
     "output_type": "stream",
     "text": [
      "'Djibouti'"
     ]
    },
    {
     "name": "stdout",
     "output_type": "stream",
     "text": [
      ", "
     ]
    },
    {
     "name": "stdout",
     "output_type": "stream",
     "text": [
      "'Nepal'"
     ]
    },
    {
     "name": "stdout",
     "output_type": "stream",
     "text": [
      ", "
     ]
    },
    {
     "name": "stdout",
     "output_type": "stream",
     "text": [
      "'Ukraine'"
     ]
    },
    {
     "name": "stdout",
     "output_type": "stream",
     "text": [
      ", "
     ]
    },
    {
     "name": "stdout",
     "output_type": "stream",
     "text": [
      "'Saint Lucia'"
     ]
    },
    {
     "name": "stdout",
     "output_type": "stream",
     "text": [
      ",\n",
      "     "
     ]
    },
    {
     "name": "stdout",
     "output_type": "stream",
     "text": [
      "'Morocco'"
     ]
    },
    {
     "name": "stdout",
     "output_type": "stream",
     "text": [
      ", "
     ]
    },
    {
     "name": "stdout",
     "output_type": "stream",
     "text": [
      "'Liechtenstein'"
     ]
    },
    {
     "name": "stdout",
     "output_type": "stream",
     "text": [
      ", "
     ]
    },
    {
     "name": "stdout",
     "output_type": "stream",
     "text": [
      "'Niger'"
     ]
    },
    {
     "name": "stdout",
     "output_type": "stream",
     "text": [
      ", "
     ]
    },
    {
     "name": "stdout",
     "output_type": "stream",
     "text": [
      "'Barbados'"
     ]
    },
    {
     "name": "stdout",
     "output_type": "stream",
     "text": [
      ", "
     ]
    },
    {
     "name": "stdout",
     "output_type": "stream",
     "text": [
      "'Ecuador'"
     ]
    },
    {
     "name": "stdout",
     "output_type": "stream",
     "text": [
      ", "
     ]
    },
    {
     "name": "stdout",
     "output_type": "stream",
     "text": [
      "'Eritrea'"
     ]
    },
    {
     "name": "stdout",
     "output_type": "stream",
     "text": [
      ",\n",
      "     "
     ]
    },
    {
     "name": "stdout",
     "output_type": "stream",
     "text": [
      "'Costa Rica'"
     ]
    },
    {
     "name": "stdout",
     "output_type": "stream",
     "text": [
      ", "
     ]
    },
    {
     "name": "stdout",
     "output_type": "stream",
     "text": [
      "'Norway'"
     ]
    },
    {
     "name": "stdout",
     "output_type": "stream",
     "text": [
      ", "
     ]
    },
    {
     "name": "stdout",
     "output_type": "stream",
     "text": [
      "'Suriname'"
     ]
    },
    {
     "name": "stdout",
     "output_type": "stream",
     "text": [
      ", "
     ]
    },
    {
     "name": "stdout",
     "output_type": "stream",
     "text": [
      "'Zambia'"
     ]
    },
    {
     "name": "stdout",
     "output_type": "stream",
     "text": [
      ", "
     ]
    },
    {
     "name": "stdout",
     "output_type": "stream",
     "text": [
      "'Lithuania'"
     ]
    },
    {
     "name": "stdout",
     "output_type": "stream",
     "text": [
      ", "
     ]
    },
    {
     "name": "stdout",
     "output_type": "stream",
     "text": [
      "'Madagascar'"
     ]
    },
    {
     "name": "stdout",
     "output_type": "stream",
     "text": [
      ",\n",
      "     "
     ]
    },
    {
     "name": "stdout",
     "output_type": "stream",
     "text": [
      "'Austria'"
     ]
    },
    {
     "name": "stdout",
     "output_type": "stream",
     "text": [
      ", "
     ]
    },
    {
     "name": "stdout",
     "output_type": "stream",
     "text": [
      "'Ethiopia'"
     ]
    },
    {
     "name": "stdout",
     "output_type": "stream",
     "text": [
      ", "
     ]
    },
    {
     "name": "stdout",
     "output_type": "stream",
     "text": [
      "'Rwanda'"
     ]
    },
    {
     "name": "stdout",
     "output_type": "stream",
     "text": [
      ", "
     ]
    },
    {
     "name": "stdout",
     "output_type": "stream",
     "text": [
      "'Nicaragua'"
     ]
    },
    {
     "name": "stdout",
     "output_type": "stream",
     "text": [
      ", "
     ]
    },
    {
     "name": "stdout",
     "output_type": "stream",
     "text": [
      "'Malta'"
     ]
    },
    {
     "name": "stdout",
     "output_type": "stream",
     "text": [
      ", "
     ]
    },
    {
     "name": "stdout",
     "output_type": "stream",
     "text": [
      "'Denmark'"
     ]
    },
    {
     "name": "stdout",
     "output_type": "stream",
     "text": [
      ",\n",
      "     "
     ]
    },
    {
     "name": "stdout",
     "output_type": "stream",
     "text": [
      "'Croatia'"
     ]
    },
    {
     "name": "stdout",
     "output_type": "stream",
     "text": [
      ", "
     ]
    },
    {
     "name": "stdout",
     "output_type": "stream",
     "text": [
      "'Israel'"
     ]
    },
    {
     "name": "stdout",
     "output_type": "stream",
     "text": [
      ", "
     ]
    },
    {
     "name": "stdout",
     "output_type": "stream",
     "text": [
      "'Zimbabwe'"
     ]
    },
    {
     "name": "stdout",
     "output_type": "stream",
     "text": [
      ", "
     ]
    },
    {
     "name": "stdout",
     "output_type": "stream",
     "text": [
      "'Palestine'"
     ]
    },
    {
     "name": "stdout",
     "output_type": "stream",
     "text": [
      ", "
     ]
    },
    {
     "name": "stdout",
     "output_type": "stream",
     "text": [
      "'Iceland'"
     ]
    },
    {
     "name": "stdout",
     "output_type": "stream",
     "text": [
      ", "
     ]
    },
    {
     "name": "stdout",
     "output_type": "stream",
     "text": [
      "'Sudan'"
     ]
    },
    {
     "name": "stdout",
     "output_type": "stream",
     "text": [
      ", "
     ]
    },
    {
     "name": "stdout",
     "output_type": "stream",
     "text": [
      "'Kenya'"
     ]
    },
    {
     "name": "stdout",
     "output_type": "stream",
     "text": [
      ",\n",
      "     "
     ]
    },
    {
     "name": "stdout",
     "output_type": "stream",
     "text": [
      "'Botswana'"
     ]
    },
    {
     "name": "stdout",
     "output_type": "stream",
     "text": [
      "]"
     ]
    },
    {
     "name": "stdout",
     "output_type": "stream",
     "text": [
      ",\n",
      " "
     ]
    },
    {
     "name": "stdout",
     "output_type": "stream",
     "text": [
      "9"
     ]
    },
    {
     "name": "stdout",
     "output_type": "stream",
     "text": [
      ": "
     ]
    },
    {
     "name": "stdout",
     "output_type": "stream",
     "text": [
      "["
     ]
    },
    {
     "name": "stdout",
     "output_type": "stream",
     "text": [
      "'China'"
     ]
    },
    {
     "name": "stdout",
     "output_type": "stream",
     "text": [
      ", "
     ]
    },
    {
     "name": "stdout",
     "output_type": "stream",
     "text": [
      "'Greece'"
     ]
    },
    {
     "name": "stdout",
     "output_type": "stream",
     "text": [
      ", "
     ]
    },
    {
     "name": "stdout",
     "output_type": "stream",
     "text": [
      "'Mauritania'"
     ]
    },
    {
     "name": "stdout",
     "output_type": "stream",
     "text": [
      ", "
     ]
    },
    {
     "name": "stdout",
     "output_type": "stream",
     "text": [
      "'Haiti'"
     ]
    },
    {
     "name": "stdout",
     "output_type": "stream",
     "text": [
      ", "
     ]
    },
    {
     "name": "stdout",
     "output_type": "stream",
     "text": [
      "'Taiwan'"
     ]
    },
    {
     "name": "stdout",
     "output_type": "stream",
     "text": [
      ", "
     ]
    },
    {
     "name": "stdout",
     "output_type": "stream",
     "text": [
      "'Korea, South'"
     ]
    },
    {
     "name": "stdout",
     "output_type": "stream",
     "text": [
      ",\n",
      "     "
     ]
    },
    {
     "name": "stdout",
     "output_type": "stream",
     "text": [
      "'Japan'"
     ]
    },
    {
     "name": "stdout",
     "output_type": "stream",
     "text": [
      ", "
     ]
    },
    {
     "name": "stdout",
     "output_type": "stream",
     "text": [
      "'Romania'"
     ]
    },
    {
     "name": "stdout",
     "output_type": "stream",
     "text": [
      ", "
     ]
    },
    {
     "name": "stdout",
     "output_type": "stream",
     "text": [
      "'Gabon'"
     ]
    },
    {
     "name": "stdout",
     "output_type": "stream",
     "text": [
      ", "
     ]
    },
    {
     "name": "stdout",
     "output_type": "stream",
     "text": [
      "'Syria'"
     ]
    },
    {
     "name": "stdout",
     "output_type": "stream",
     "text": [
      ", "
     ]
    },
    {
     "name": "stdout",
     "output_type": "stream",
     "text": [
      "'Bhutan'"
     ]
    },
    {
     "name": "stdout",
     "output_type": "stream",
     "text": [
      ", "
     ]
    },
    {
     "name": "stdout",
     "output_type": "stream",
     "text": [
      "'Poland'"
     ]
    },
    {
     "name": "stdout",
     "output_type": "stream",
     "text": [
      ", "
     ]
    },
    {
     "name": "stdout",
     "output_type": "stream",
     "text": [
      "'Chad'"
     ]
    },
    {
     "name": "stdout",
     "output_type": "stream",
     "text": [
      ",\n",
      "     "
     ]
    },
    {
     "name": "stdout",
     "output_type": "stream",
     "text": [
      "'Burkina Faso'"
     ]
    },
    {
     "name": "stdout",
     "output_type": "stream",
     "text": [
      ", "
     ]
    },
    {
     "name": "stdout",
     "output_type": "stream",
     "text": [
      "'Ghana'"
     ]
    },
    {
     "name": "stdout",
     "output_type": "stream",
     "text": [
      ", "
     ]
    },
    {
     "name": "stdout",
     "output_type": "stream",
     "text": [
      "'India'"
     ]
    },
    {
     "name": "stdout",
     "output_type": "stream",
     "text": [
      ", "
     ]
    },
    {
     "name": "stdout",
     "output_type": "stream",
     "text": [
      "'Cameroon'"
     ]
    },
    {
     "name": "stdout",
     "output_type": "stream",
     "text": [
      ", "
     ]
    },
    {
     "name": "stdout",
     "output_type": "stream",
     "text": [
      "'Kosovo'"
     ]
    },
    {
     "name": "stdout",
     "output_type": "stream",
     "text": [
      ", "
     ]
    },
    {
     "name": "stdout",
     "output_type": "stream",
     "text": [
      "'Serbia'"
     ]
    },
    {
     "name": "stdout",
     "output_type": "stream",
     "text": [
      ", "
     ]
    },
    {
     "name": "stdout",
     "output_type": "stream",
     "text": [
      "'Qatar'"
     ]
    },
    {
     "name": "stdout",
     "output_type": "stream",
     "text": [
      ",\n",
      "     "
     ]
    },
    {
     "name": "stdout",
     "output_type": "stream",
     "text": [
      "'Bermuda'"
     ]
    },
    {
     "name": "stdout",
     "output_type": "stream",
     "text": [
      ", "
     ]
    },
    {
     "name": "stdout",
     "output_type": "stream",
     "text": [
      "'Tajikistan'"
     ]
    },
    {
     "name": "stdout",
     "output_type": "stream",
     "text": [
      ", "
     ]
    },
    {
     "name": "stdout",
     "output_type": "stream",
     "text": [
      "'Somalia'"
     ]
    },
    {
     "name": "stdout",
     "output_type": "stream",
     "text": [
      ", "
     ]
    },
    {
     "name": "stdout",
     "output_type": "stream",
     "text": [
      "'Maldives'"
     ]
    },
    {
     "name": "stdout",
     "output_type": "stream",
     "text": [
      ", "
     ]
    },
    {
     "name": "stdout",
     "output_type": "stream",
     "text": [
      "'Liberia'"
     ]
    },
    {
     "name": "stdout",
     "output_type": "stream",
     "text": [
      ", "
     ]
    },
    {
     "name": "stdout",
     "output_type": "stream",
     "text": [
      "'Philippines'"
     ]
    },
    {
     "name": "stdout",
     "output_type": "stream",
     "text": [
      ",\n",
      "     "
     ]
    },
    {
     "name": "stdout",
     "output_type": "stream",
     "text": [
      "'Sri Lanka'"
     ]
    },
    {
     "name": "stdout",
     "output_type": "stream",
     "text": [
      ", "
     ]
    },
    {
     "name": "stdout",
     "output_type": "stream",
     "text": [
      "'Benin'"
     ]
    },
    {
     "name": "stdout",
     "output_type": "stream",
     "text": [
      ", "
     ]
    },
    {
     "name": "stdout",
     "output_type": "stream",
     "text": [
      "'Uruguay'"
     ]
    },
    {
     "name": "stdout",
     "output_type": "stream",
     "text": [
      ", "
     ]
    },
    {
     "name": "stdout",
     "output_type": "stream",
     "text": [
      "'South Africa'"
     ]
    },
    {
     "name": "stdout",
     "output_type": "stream",
     "text": [
      ", "
     ]
    },
    {
     "name": "stdout",
     "output_type": "stream",
     "text": [
      "'Finland'"
     ]
    },
    {
     "name": "stdout",
     "output_type": "stream",
     "text": [
      "]"
     ]
    },
    {
     "name": "stdout",
     "output_type": "stream",
     "text": [
      ",\n",
      " "
     ]
    },
    {
     "name": "stdout",
     "output_type": "stream",
     "text": [
      "10"
     ]
    },
    {
     "name": "stdout",
     "output_type": "stream",
     "text": [
      ": "
     ]
    },
    {
     "name": "stdout",
     "output_type": "stream",
     "text": [
      "["
     ]
    },
    {
     "name": "stdout",
     "output_type": "stream",
     "text": [
      "'Swaziland'"
     ]
    },
    {
     "name": "stdout",
     "output_type": "stream",
     "text": [
      ", "
     ]
    },
    {
     "name": "stdout",
     "output_type": "stream",
     "text": [
      "'Saudi Arabia'"
     ]
    },
    {
     "name": "stdout",
     "output_type": "stream",
     "text": [
      ", "
     ]
    },
    {
     "name": "stdout",
     "output_type": "stream",
     "text": [
      "'Singapore'"
     ]
    },
    {
     "name": "stdout",
     "output_type": "stream",
     "text": [
      ", "
     ]
    },
    {
     "name": "stdout",
     "output_type": "stream",
     "text": [
      "'Cape Verde'"
     ]
    },
    {
     "name": "stdout",
     "output_type": "stream",
     "text": [
      ", "
     ]
    },
    {
     "name": "stdout",
     "output_type": "stream",
     "text": [
      "'Belarus'"
     ]
    },
    {
     "name": "stdout",
     "output_type": "stream",
     "text": [
      ", "
     ]
    },
    {
     "name": "stdout",
     "output_type": "stream",
     "text": [
      "'Mali'"
     ]
    },
    {
     "name": "stdout",
     "output_type": "stream",
     "text": [
      ",\n",
      "      "
     ]
    },
    {
     "name": "stdout",
     "output_type": "stream",
     "text": [
      "'El Salvador'"
     ]
    },
    {
     "name": "stdout",
     "output_type": "stream",
     "text": [
      ", "
     ]
    },
    {
     "name": "stdout",
     "output_type": "stream",
     "text": [
      "'Germany'"
     ]
    },
    {
     "name": "stdout",
     "output_type": "stream",
     "text": [
      ", "
     ]
    },
    {
     "name": "stdout",
     "output_type": "stream",
     "text": [
      "'Estonia'"
     ]
    },
    {
     "name": "stdout",
     "output_type": "stream",
     "text": [
      ", "
     ]
    },
    {
     "name": "stdout",
     "output_type": "stream",
     "text": [
      "'Canada'"
     ]
    },
    {
     "name": "stdout",
     "output_type": "stream",
     "text": [
      ", "
     ]
    },
    {
     "name": "stdout",
     "output_type": "stream",
     "text": [
      "'Venezuela'"
     ]
    },
    {
     "name": "stdout",
     "output_type": "stream",
     "text": [
      ",\n",
      "      "
     ]
    },
    {
     "name": "stdout",
     "output_type": "stream",
     "text": [
      "'Sierra Leone'"
     ]
    },
    {
     "name": "stdout",
     "output_type": "stream",
     "text": [
      ", "
     ]
    },
    {
     "name": "stdout",
     "output_type": "stream",
     "text": [
      "'Chile'"
     ]
    },
    {
     "name": "stdout",
     "output_type": "stream",
     "text": [
      ", "
     ]
    },
    {
     "name": "stdout",
     "output_type": "stream",
     "text": [
      "'Portugal'"
     ]
    },
    {
     "name": "stdout",
     "output_type": "stream",
     "text": [
      ", "
     ]
    },
    {
     "name": "stdout",
     "output_type": "stream",
     "text": [
      "'Bulgaria'"
     ]
    },
    {
     "name": "stdout",
     "output_type": "stream",
     "text": [
      ", "
     ]
    },
    {
     "name": "stdout",
     "output_type": "stream",
     "text": [
      "'Pakistan'"
     ]
    },
    {
     "name": "stdout",
     "output_type": "stream",
     "text": [
      ", "
     ]
    },
    {
     "name": "stdout",
     "output_type": "stream",
     "text": [
      "'Oman'"
     ]
    },
    {
     "name": "stdout",
     "output_type": "stream",
     "text": [
      ",\n",
      "      "
     ]
    },
    {
     "name": "stdout",
     "output_type": "stream",
     "text": [
      "'Luxembourg'"
     ]
    },
    {
     "name": "stdout",
     "output_type": "stream",
     "text": [
      ", "
     ]
    },
    {
     "name": "stdout",
     "output_type": "stream",
     "text": [
      "'Cuba'"
     ]
    },
    {
     "name": "stdout",
     "output_type": "stream",
     "text": [
      ", "
     ]
    },
    {
     "name": "stdout",
     "output_type": "stream",
     "text": [
      "'Senegal'"
     ]
    },
    {
     "name": "stdout",
     "output_type": "stream",
     "text": [
      ", "
     ]
    },
    {
     "name": "stdout",
     "output_type": "stream",
     "text": [
      "'Congo'"
     ]
    },
    {
     "name": "stdout",
     "output_type": "stream",
     "text": [
      ", "
     ]
    },
    {
     "name": "stdout",
     "output_type": "stream",
     "text": [
      "'Guatemala'"
     ]
    },
    {
     "name": "stdout",
     "output_type": "stream",
     "text": [
      ", "
     ]
    },
    {
     "name": "stdout",
     "output_type": "stream",
     "text": [
      "'Indonesia'"
     ]
    },
    {
     "name": "stdout",
     "output_type": "stream",
     "text": [
      ",\n",
      "      "
     ]
    },
    {
     "name": "stdout",
     "output_type": "stream",
     "text": [
      "'Malaysia'"
     ]
    },
    {
     "name": "stdout",
     "output_type": "stream",
     "text": [
      ", "
     ]
    },
    {
     "name": "stdout",
     "output_type": "stream",
     "text": [
      "'Albania'"
     ]
    },
    {
     "name": "stdout",
     "output_type": "stream",
     "text": [
      ", "
     ]
    },
    {
     "name": "stdout",
     "output_type": "stream",
     "text": [
      "'Uzbekistan'"
     ]
    },
    {
     "name": "stdout",
     "output_type": "stream",
     "text": [
      ", "
     ]
    },
    {
     "name": "stdout",
     "output_type": "stream",
     "text": [
      "'Azerbaijan'"
     ]
    },
    {
     "name": "stdout",
     "output_type": "stream",
     "text": [
      "]"
     ]
    },
    {
     "name": "stdout",
     "output_type": "stream",
     "text": [
      ",\n",
      " "
     ]
    },
    {
     "name": "stdout",
     "output_type": "stream",
     "text": [
      "11"
     ]
    },
    {
     "name": "stdout",
     "output_type": "stream",
     "text": [
      ": "
     ]
    },
    {
     "name": "stdout",
     "output_type": "stream",
     "text": [
      "["
     ]
    },
    {
     "name": "stdout",
     "output_type": "stream",
     "text": [
      "'Belgium'"
     ]
    },
    {
     "name": "stdout",
     "output_type": "stream",
     "text": [
      ", "
     ]
    },
    {
     "name": "stdout",
     "output_type": "stream",
     "text": [
      "'Bosnia and Herzegovina'"
     ]
    },
    {
     "name": "stdout",
     "output_type": "stream",
     "text": [
      ", "
     ]
    },
    {
     "name": "stdout",
     "output_type": "stream",
     "text": [
      "'Nigeria'"
     ]
    },
    {
     "name": "stdout",
     "output_type": "stream",
     "text": [
      ", "
     ]
    },
    {
     "name": "stdout",
     "output_type": "stream",
     "text": [
      "'Panama'"
     ]
    },
    {
     "name": "stdout",
     "output_type": "stream",
     "text": [
      ", "
     ]
    },
    {
     "name": "stdout",
     "output_type": "stream",
     "text": [
      "'Armenia'"
     ]
    },
    {
     "name": "stdout",
     "output_type": "stream",
     "text": [
      ",\n",
      "      "
     ]
    },
    {
     "name": "stdout",
     "output_type": "stream",
     "text": [
      "'Switzerland'"
     ]
    },
    {
     "name": "stdout",
     "output_type": "stream",
     "text": [
      ", "
     ]
    },
    {
     "name": "stdout",
     "output_type": "stream",
     "text": [
      "'Mexico'"
     ]
    },
    {
     "name": "stdout",
     "output_type": "stream",
     "text": [
      ", "
     ]
    },
    {
     "name": "stdout",
     "output_type": "stream",
     "text": [
      "'Peru'"
     ]
    },
    {
     "name": "stdout",
     "output_type": "stream",
     "text": [
      ", "
     ]
    },
    {
     "name": "stdout",
     "output_type": "stream",
     "text": [
      "'Macedonia'"
     ]
    },
    {
     "name": "stdout",
     "output_type": "stream",
     "text": [
      ", "
     ]
    },
    {
     "name": "stdout",
     "output_type": "stream",
     "text": [
      "'Algeria'"
     ]
    },
    {
     "name": "stdout",
     "output_type": "stream",
     "text": [
      ", "
     ]
    },
    {
     "name": "stdout",
     "output_type": "stream",
     "text": [
      "'Honduras'"
     ]
    },
    {
     "name": "stdout",
     "output_type": "stream",
     "text": [
      ",\n",
      "      "
     ]
    },
    {
     "name": "stdout",
     "output_type": "stream",
     "text": [
      "'Guinea'"
     ]
    },
    {
     "name": "stdout",
     "output_type": "stream",
     "text": [
      ", "
     ]
    },
    {
     "name": "stdout",
     "output_type": "stream",
     "text": [
      "'France'"
     ]
    },
    {
     "name": "stdout",
     "output_type": "stream",
     "text": [
      ", "
     ]
    },
    {
     "name": "stdout",
     "output_type": "stream",
     "text": [
      "'Dominican Republic'"
     ]
    },
    {
     "name": "stdout",
     "output_type": "stream",
     "text": [
      ", "
     ]
    },
    {
     "name": "stdout",
     "output_type": "stream",
     "text": [
      "'Bangladesh'"
     ]
    },
    {
     "name": "stdout",
     "output_type": "stream",
     "text": [
      ", "
     ]
    },
    {
     "name": "stdout",
     "output_type": "stream",
     "text": [
      "'Egypt'"
     ]
    },
    {
     "name": "stdout",
     "output_type": "stream",
     "text": [
      ", "
     ]
    },
    {
     "name": "stdout",
     "output_type": "stream",
     "text": [
      "'Togo'"
     ]
    },
    {
     "name": "stdout",
     "output_type": "stream",
     "text": [
      ",\n",
      "      "
     ]
    },
    {
     "name": "stdout",
     "output_type": "stream",
     "text": [
      "'Iraq'"
     ]
    },
    {
     "name": "stdout",
     "output_type": "stream",
     "text": [
      ", "
     ]
    },
    {
     "name": "stdout",
     "output_type": "stream",
     "text": [
      "'Moldova'"
     ]
    },
    {
     "name": "stdout",
     "output_type": "stream",
     "text": [
      "]"
     ]
    },
    {
     "name": "stdout",
     "output_type": "stream",
     "text": [
      ",\n",
      " "
     ]
    },
    {
     "name": "stdout",
     "output_type": "stream",
     "text": [
      "12"
     ]
    },
    {
     "name": "stdout",
     "output_type": "stream",
     "text": [
      ": "
     ]
    },
    {
     "name": "stdout",
     "output_type": "stream",
     "text": [
      "["
     ]
    },
    {
     "name": "stdout",
     "output_type": "stream",
     "text": [
      "'Bolivia'"
     ]
    },
    {
     "name": "stdout",
     "output_type": "stream",
     "text": [
      ", "
     ]
    },
    {
     "name": "stdout",
     "output_type": "stream",
     "text": [
      "'United States'"
     ]
    },
    {
     "name": "stdout",
     "output_type": "stream",
     "text": [
      ", "
     ]
    },
    {
     "name": "stdout",
     "output_type": "stream",
     "text": [
      "'United Arab Emirates'"
     ]
    },
    {
     "name": "stdout",
     "output_type": "stream",
     "text": [
      ", "
     ]
    },
    {
     "name": "stdout",
     "output_type": "stream",
     "text": [
      "'Turkey'"
     ]
    },
    {
     "name": "stdout",
     "output_type": "stream",
     "text": [
      ", "
     ]
    },
    {
     "name": "stdout",
     "output_type": "stream",
     "text": [
      "'Italy'"
     ]
    },
    {
     "name": "stdout",
     "output_type": "stream",
     "text": [
      ",\n",
      "      "
     ]
    },
    {
     "name": "stdout",
     "output_type": "stream",
     "text": [
      "'Brazil'"
     ]
    },
    {
     "name": "stdout",
     "output_type": "stream",
     "text": [
      ", "
     ]
    },
    {
     "name": "stdout",
     "output_type": "stream",
     "text": [
      "'Iran'"
     ]
    },
    {
     "name": "stdout",
     "output_type": "stream",
     "text": [
      ", "
     ]
    },
    {
     "name": "stdout",
     "output_type": "stream",
     "text": [
      "'Latvia'"
     ]
    },
    {
     "name": "stdout",
     "output_type": "stream",
     "text": [
      ", "
     ]
    },
    {
     "name": "stdout",
     "output_type": "stream",
     "text": [
      "'Bahrain'"
     ]
    },
    {
     "name": "stdout",
     "output_type": "stream",
     "text": [
      ", "
     ]
    },
    {
     "name": "stdout",
     "output_type": "stream",
     "text": [
      "'Kuwait'"
     ]
    },
    {
     "name": "stdout",
     "output_type": "stream",
     "text": [
      "]"
     ]
    },
    {
     "name": "stdout",
     "output_type": "stream",
     "text": [
      ",\n",
      " "
     ]
    },
    {
     "name": "stdout",
     "output_type": "stream",
     "text": [
      "13"
     ]
    },
    {
     "name": "stdout",
     "output_type": "stream",
     "text": [
      ": "
     ]
    },
    {
     "name": "stdout",
     "output_type": "stream",
     "text": [
      "['Russia']"
     ]
    },
    {
     "name": "stdout",
     "output_type": "stream",
     "text": [
      "}"
     ]
    },
    {
     "name": "stdout",
     "output_type": "stream",
     "text": [
      "\n"
     ]
    }
   ],
   "source": [
    "# Show the number of phases of all countries\n",
    "analyser.trend()\n",
    "pprint(analyser.phase_len(), compact=True)"
   ]
  },
  {
   "cell_type": "code",
   "execution_count": 8,
   "metadata": {
    "collapsed": false
   },
   "outputs": [
    {
     "data": {
      "text/plain": [
       "11"
      ]
     },
     "execution_count": 8,
     "metadata": {},
     "output_type": "execute_result"
    }
   ],
   "source": [
    "# Set phases with S-R trend analysis\n",
    "analyser.trend(min_len=12)\n",
    "# The number of countries\n",
    "len(analyser.countries)"
   ]
  },
  {
   "cell_type": "code",
   "execution_count": 9,
   "metadata": {
    "collapsed": false,
    "tags": []
   },
   "outputs": [
    {
     "name": "stdout",
     "output_type": "stream",
     "text": [
      "{"
     ]
    },
    {
     "name": "stdout",
     "output_type": "stream",
     "text": [
      "12"
     ]
    },
    {
     "name": "stdout",
     "output_type": "stream",
     "text": [
      ": "
     ]
    },
    {
     "name": "stdout",
     "output_type": "stream",
     "text": [
      "["
     ]
    },
    {
     "name": "stdout",
     "output_type": "stream",
     "text": [
      "'Bolivia'"
     ]
    },
    {
     "name": "stdout",
     "output_type": "stream",
     "text": [
      ", "
     ]
    },
    {
     "name": "stdout",
     "output_type": "stream",
     "text": [
      "'United States'"
     ]
    },
    {
     "name": "stdout",
     "output_type": "stream",
     "text": [
      ", "
     ]
    },
    {
     "name": "stdout",
     "output_type": "stream",
     "text": [
      "'United Arab Emirates'"
     ]
    },
    {
     "name": "stdout",
     "output_type": "stream",
     "text": [
      ", "
     ]
    },
    {
     "name": "stdout",
     "output_type": "stream",
     "text": [
      "'Turkey'"
     ]
    },
    {
     "name": "stdout",
     "output_type": "stream",
     "text": [
      ", "
     ]
    },
    {
     "name": "stdout",
     "output_type": "stream",
     "text": [
      "'Italy'"
     ]
    },
    {
     "name": "stdout",
     "output_type": "stream",
     "text": [
      ",\n",
      "      "
     ]
    },
    {
     "name": "stdout",
     "output_type": "stream",
     "text": [
      "'Brazil'"
     ]
    },
    {
     "name": "stdout",
     "output_type": "stream",
     "text": [
      ", "
     ]
    },
    {
     "name": "stdout",
     "output_type": "stream",
     "text": [
      "'Iran'"
     ]
    },
    {
     "name": "stdout",
     "output_type": "stream",
     "text": [
      ", "
     ]
    },
    {
     "name": "stdout",
     "output_type": "stream",
     "text": [
      "'Latvia'"
     ]
    },
    {
     "name": "stdout",
     "output_type": "stream",
     "text": [
      ", "
     ]
    },
    {
     "name": "stdout",
     "output_type": "stream",
     "text": [
      "'Bahrain'"
     ]
    },
    {
     "name": "stdout",
     "output_type": "stream",
     "text": [
      ", "
     ]
    },
    {
     "name": "stdout",
     "output_type": "stream",
     "text": [
      "'Kuwait'"
     ]
    },
    {
     "name": "stdout",
     "output_type": "stream",
     "text": [
      "]"
     ]
    },
    {
     "name": "stdout",
     "output_type": "stream",
     "text": [
      ",\n",
      " "
     ]
    },
    {
     "name": "stdout",
     "output_type": "stream",
     "text": [
      "13"
     ]
    },
    {
     "name": "stdout",
     "output_type": "stream",
     "text": [
      ": "
     ]
    },
    {
     "name": "stdout",
     "output_type": "stream",
     "text": [
      "['Russia']"
     ]
    },
    {
     "name": "stdout",
     "output_type": "stream",
     "text": [
      "}"
     ]
    },
    {
     "name": "stdout",
     "output_type": "stream",
     "text": [
      "\n"
     ]
    }
   ],
   "source": [
    "phase_len_dict = analyser.phase_len()\n",
    "pprint(phase_len_dict, compact=True)"
   ]
  },
  {
   "cell_type": "code",
   "execution_count": 10,
   "metadata": {
    "collapsed": false,
    "tags": []
   },
   "outputs": [
    {
     "data": {
      "text/html": [
       "<div>\n",
       "<style scoped>\n",
       "    .dataframe tbody tr th:only-of-type {\n",
       "        vertical-align: middle;\n",
       "    }\n",
       "\n",
       "    .dataframe tbody tr th {\n",
       "        vertical-align: top;\n",
       "    }\n",
       "\n",
       "    .dataframe thead th {\n",
       "        text-align: right;\n",
       "    }\n",
       "</style>\n",
       "<table border=\"1\" class=\"dataframe\">\n",
       "  <thead>\n",
       "    <tr style=\"text-align: right;\">\n",
       "      <th></th>\n",
       "      <th></th>\n",
       "      <th>Type</th>\n",
       "      <th>Start</th>\n",
       "      <th>End</th>\n",
       "      <th>Population</th>\n",
       "    </tr>\n",
       "    <tr>\n",
       "      <th>Country</th>\n",
       "      <th>Phase</th>\n",
       "      <th></th>\n",
       "      <th></th>\n",
       "      <th></th>\n",
       "      <th></th>\n",
       "    </tr>\n",
       "  </thead>\n",
       "  <tbody>\n",
       "    <tr>\n",
       "      <th rowspan=\"13\" valign=\"top\">Russia</th>\n",
       "      <th>0th</th>\n",
       "      <td>Past</td>\n",
       "      <td>12Feb2020</td>\n",
       "      <td>06May2020</td>\n",
       "      <td>330457362</td>\n",
       "    </tr>\n",
       "    <tr>\n",
       "      <th>1st</th>\n",
       "      <td>Past</td>\n",
       "      <td>07May2020</td>\n",
       "      <td>18May2020</td>\n",
       "      <td>330457362</td>\n",
       "    </tr>\n",
       "    <tr>\n",
       "      <th>2nd</th>\n",
       "      <td>Past</td>\n",
       "      <td>19May2020</td>\n",
       "      <td>29May2020</td>\n",
       "      <td>330457362</td>\n",
       "    </tr>\n",
       "    <tr>\n",
       "      <th>3rd</th>\n",
       "      <td>Past</td>\n",
       "      <td>30May2020</td>\n",
       "      <td>10Jun2020</td>\n",
       "      <td>330457362</td>\n",
       "    </tr>\n",
       "    <tr>\n",
       "      <th>4th</th>\n",
       "      <td>Past</td>\n",
       "      <td>11Jun2020</td>\n",
       "      <td>21Jun2020</td>\n",
       "      <td>330457362</td>\n",
       "    </tr>\n",
       "    <tr>\n",
       "      <th>5th</th>\n",
       "      <td>Past</td>\n",
       "      <td>22Jun2020</td>\n",
       "      <td>03Jul2020</td>\n",
       "      <td>330457362</td>\n",
       "    </tr>\n",
       "    <tr>\n",
       "      <th>6th</th>\n",
       "      <td>Past</td>\n",
       "      <td>04Jul2020</td>\n",
       "      <td>17Jul2020</td>\n",
       "      <td>330457362</td>\n",
       "    </tr>\n",
       "    <tr>\n",
       "      <th>7th</th>\n",
       "      <td>Past</td>\n",
       "      <td>18Jul2020</td>\n",
       "      <td>31Jul2020</td>\n",
       "      <td>330457362</td>\n",
       "    </tr>\n",
       "    <tr>\n",
       "      <th>8th</th>\n",
       "      <td>Past</td>\n",
       "      <td>01Aug2020</td>\n",
       "      <td>15Aug2020</td>\n",
       "      <td>330457362</td>\n",
       "    </tr>\n",
       "    <tr>\n",
       "      <th>9th</th>\n",
       "      <td>Past</td>\n",
       "      <td>16Aug2020</td>\n",
       "      <td>02Sep2020</td>\n",
       "      <td>330457362</td>\n",
       "    </tr>\n",
       "    <tr>\n",
       "      <th>10th</th>\n",
       "      <td>Past</td>\n",
       "      <td>03Sep2020</td>\n",
       "      <td>18Sep2020</td>\n",
       "      <td>330457362</td>\n",
       "    </tr>\n",
       "    <tr>\n",
       "      <th>11th</th>\n",
       "      <td>Past</td>\n",
       "      <td>19Sep2020</td>\n",
       "      <td>30Sep2020</td>\n",
       "      <td>330457362</td>\n",
       "    </tr>\n",
       "    <tr>\n",
       "      <th>12th</th>\n",
       "      <td>Past</td>\n",
       "      <td>01Oct2020</td>\n",
       "      <td>11Oct2020</td>\n",
       "      <td>330457362</td>\n",
       "    </tr>\n",
       "  </tbody>\n",
       "</table>\n",
       "</div>"
      ],
      "text/plain": [
       "               Type      Start        End  Population\n",
       "Country Phase                                        \n",
       "Russia  0th    Past  12Feb2020  06May2020   330457362\n",
       "        1st    Past  07May2020  18May2020   330457362\n",
       "        2nd    Past  19May2020  29May2020   330457362\n",
       "        3rd    Past  30May2020  10Jun2020   330457362\n",
       "        4th    Past  11Jun2020  21Jun2020   330457362\n",
       "        5th    Past  22Jun2020  03Jul2020   330457362\n",
       "        6th    Past  04Jul2020  17Jul2020   330457362\n",
       "        7th    Past  18Jul2020  31Jul2020   330457362\n",
       "        8th    Past  01Aug2020  15Aug2020   330457362\n",
       "        9th    Past  16Aug2020  02Sep2020   330457362\n",
       "        10th   Past  03Sep2020  18Sep2020   330457362\n",
       "        11th   Past  19Sep2020  30Sep2020   330457362\n",
       "        12th   Past  01Oct2020  11Oct2020   330457362"
      ]
     },
     "execution_count": 10,
     "metadata": {},
     "output_type": "execute_result"
    }
   ],
   "source": [
    "# Here, only show the countries which have the most phases\n",
    "countries_show = max(phase_len_dict.items(), key=lambda x: x[0])[1]\n",
    "# Show summary\n",
    "analyser.summary(countries=countries_show)"
   ]
  },
  {
   "cell_type": "markdown",
   "metadata": {},
   "source": [
    "## Parameter estimation\n",
    "we will estimate the parameter values with SIR-derived ODE models in each country."
   ]
  },
  {
   "cell_type": "code",
   "execution_count": 11,
   "metadata": {
    "collapsed": false,
    "tags": []
   },
   "outputs": [
    {
     "name": "stdout",
     "output_type": "stream",
     "text": [
      "\n",
      "<SIR-F model: parameter estimation>"
     ]
    },
    {
     "name": "stdout",
     "output_type": "stream",
     "text": [
      "\n"
     ]
    },
    {
     "name": "stdout",
     "output_type": "stream",
     "text": [
      "Running optimization with 4 CPUs..."
     ]
    },
    {
     "name": "stdout",
     "output_type": "stream",
     "text": [
      "\n"
     ]
    },
    {
     "name": "stdout",
     "output_type": "stream",
     "text": [
      "\tITA,  4th phase (24Apr2020 - 11May2020): finished 1433 trials in 1 min  0 sec"
     ]
    },
    {
     "name": "stdout",
     "output_type": "stream",
     "text": [
      "\n"
     ]
    },
    {
     "name": "stdout",
     "output_type": "stream",
     "text": [
      "\tARE,  1st phase (30Apr2020 - 14May2020): finished 1424 trials in 1 min  0 sec"
     ]
    },
    {
     "name": "stdout",
     "output_type": "stream",
     "text": [
      "\n"
     ]
    },
    {
     "name": "stdout",
     "output_type": "stream",
     "text": [
      "\tBHR,  4th phase (25Jun2020 - 07Jul2020): finished 1429 trials in 1 min  0 sec"
     ]
    },
    {
     "name": "stdout",
     "output_type": "stream",
     "text": [
      "\n"
     ]
    },
    {
     "name": "stdout",
     "output_type": "stream",
     "text": [
      "\tKWT,  5th phase (07Jul2020 - 20Jul2020): finished 1428 trials in 1 min  0 sec"
     ]
    },
    {
     "name": "stdout",
     "output_type": "stream",
     "text": [
      "\n"
     ]
    },
    {
     "name": "stdout",
     "output_type": "stream",
     "text": [
      "\tIRN, 10th phase (14Sep2020 - 27Sep2020): finished  165 trials in 0 min  5 sec"
     ]
    },
    {
     "name": "stdout",
     "output_type": "stream",
     "text": [
      "\n"
     ]
    },
    {
     "name": "stdout",
     "output_type": "stream",
     "text": [
      "\tUSA,  6th phase (29Jul2020 - 07Aug2020): finished  457 trials in 0 min 15 sec"
     ]
    },
    {
     "name": "stdout",
     "output_type": "stream",
     "text": [
      "\n"
     ]
    },
    {
     "name": "stdout",
     "output_type": "stream",
     "text": [
      "\tRUS,  2nd phase (19May2020 - 29May2020): finished 1607 trials in 1 min  0 sec"
     ]
    },
    {
     "name": "stdout",
     "output_type": "stream",
     "text": [
      "\n"
     ]
    },
    {
     "name": "stdout",
     "output_type": "stream",
     "text": [
      "\tBOL,  7th phase (11Aug2020 - 25Aug2020): finished 1613 trials in 1 min  0 sec"
     ]
    },
    {
     "name": "stdout",
     "output_type": "stream",
     "text": [
      "\n"
     ]
    },
    {
     "name": "stdout",
     "output_type": "stream",
     "text": [
      "\tITA,  7th phase (15Jul2020 - 25Aug2020): finished 1600 trials in 1 min  0 sec"
     ]
    },
    {
     "name": "stdout",
     "output_type": "stream",
     "text": [
      "\n"
     ]
    },
    {
     "name": "stdout",
     "output_type": "stream",
     "text": [
      "\tIRN,  3rd phase (15May2020 - 01Jun2020): finished  160 trials in 0 min  5 sec"
     ]
    },
    {
     "name": "stdout",
     "output_type": "stream",
     "text": [
      "\n"
     ]
    },
    {
     "name": "stdout",
     "output_type": "stream",
     "text": [
      "\tARE, 10th phase (23Sep2020 - 01Oct2020): finished  313 trials in 0 min 10 sec"
     ]
    },
    {
     "name": "stdout",
     "output_type": "stream",
     "text": [
      "\n"
     ]
    },
    {
     "name": "stdout",
     "output_type": "stream",
     "text": [
      "\tIRN,  5th phase (18Jun2020 - 03Jul2020): finished  161 trials in 0 min  5 sec"
     ]
    },
    {
     "name": "stdout",
     "output_type": "stream",
     "text": [
      "\n"
     ]
    },
    {
     "name": "stdout",
     "output_type": "stream",
     "text": [
      "\tBHR,  3rd phase (14Jun2020 - 24Jun2020): finished 1627 trials in 1 min  0 sec"
     ]
    },
    {
     "name": "stdout",
     "output_type": "stream",
     "text": [
      "\n"
     ]
    },
    {
     "name": "stdout",
     "output_type": "stream",
     "text": [
      "\tTUR,  8th phase (05Aug2020 - 22Aug2020): finished  309 trials in 0 min 10 sec"
     ]
    },
    {
     "name": "stdout",
     "output_type": "stream",
     "text": [
      "\n"
     ]
    },
    {
     "name": "stdout",
     "output_type": "stream",
     "text": [
      "\tBRA, 11th phase (24Sep2020 - 11Oct2020): finished  549 trials in 0 min 20 sec"
     ]
    },
    {
     "name": "stdout",
     "output_type": "stream",
     "text": [
      "\n"
     ]
    },
    {
     "name": "stdout",
     "output_type": "stream",
     "text": [
      "\tLVA,  9th phase (29Aug2020 - 10Sep2020): finished 1421 trials in 1 min  0 sec"
     ]
    },
    {
     "name": "stdout",
     "output_type": "stream",
     "text": [
      "\n"
     ]
    },
    {
     "name": "stdout",
     "output_type": "stream",
     "text": [
      "\tIRN,  0th phase (26Feb2020 - 29Mar2020): finished 1403 trials in 1 min  0 sec"
     ]
    },
    {
     "name": "stdout",
     "output_type": "stream",
     "text": [
      "\n"
     ]
    },
    {
     "name": "stdout",
     "output_type": "stream",
     "text": [
      "\tBRA,  3rd phase (27Jun2020 - 08Jul2020): finished 1417 trials in 1 min  0 sec"
     ]
    },
    {
     "name": "stdout",
     "output_type": "stream",
     "text": [
      "\n"
     ]
    },
    {
     "name": "stdout",
     "output_type": "stream",
     "text": [
      "\tUSA,  2nd phase (03Jun2020 - 23Jun2020): finished  571 trials in 0 min 20 sec"
     ]
    },
    {
     "name": "stdout",
     "output_type": "stream",
     "text": [
      "\n"
     ]
    },
    {
     "name": "stdout",
     "output_type": "stream",
     "text": [
      "\tBRA, 10th phase (11Sep2020 - 23Sep2020): finished  162 trials in 0 min  5 sec"
     ]
    },
    {
     "name": "stdout",
     "output_type": "stream",
     "text": [
      "\n"
     ]
    },
    {
     "name": "stdout",
     "output_type": "stream",
     "text": [
      "\tBOL,  3rd phase (06Jul2020 - 15Jul2020): finished 1441 trials in 1 min  0 sec"
     ]
    },
    {
     "name": "stdout",
     "output_type": "stream",
     "text": [
      "\n"
     ]
    },
    {
     "name": "stdout",
     "output_type": "stream",
     "text": [
      "\tBRA,  6th phase (31Jul2020 - 10Aug2020): finished 1043 trials in 0 min 40 sec"
     ]
    },
    {
     "name": "stdout",
     "output_type": "stream",
     "text": [
      "\n"
     ]
    },
    {
     "name": "stdout",
     "output_type": "stream",
     "text": [
      "\tARE, 11th phase (02Oct2020 - 11Oct2020): finished 1444 trials in 1 min  0 sec"
     ]
    },
    {
     "name": "stdout",
     "output_type": "stream",
     "text": [
      "\n"
     ]
    },
    {
     "name": "stdout",
     "output_type": "stream",
     "text": [
      "\tLVA,  0th phase (10Mar2020 - 06Apr2020): finished 1631 trials in 1 min  0 sec"
     ]
    },
    {
     "name": "stdout",
     "output_type": "stream",
     "text": [
      "\n"
     ]
    },
    {
     "name": "stdout",
     "output_type": "stream",
     "text": [
      "\tIRN,  6th phase (04Jul2020 - 19Jul2020): finished  161 trials in 0 min  5 sec"
     ]
    },
    {
     "name": "stdout",
     "output_type": "stream",
     "text": [
      "\n"
     ]
    },
    {
     "name": "stdout",
     "output_type": "stream",
     "text": [
      "\tBHR,  0th phase (06Mar2020 - 06May2020): finished 1363 trials in 1 min  0 sec"
     ]
    },
    {
     "name": "stdout",
     "output_type": "stream",
     "text": [
      "\n"
     ]
    },
    {
     "name": "stdout",
     "output_type": "stream",
     "text": [
      "\tIRN,  7th phase (20Jul2020 - 04Aug2020): finished  163 trials in 0 min  5 sec"
     ]
    },
    {
     "name": "stdout",
     "output_type": "stream",
     "text": [
      "\n"
     ]
    },
    {
     "name": "stdout",
     "output_type": "stream",
     "text": [
      "\tBRA,  5th phase (21Jul2020 - 30Jul2020): finished 1430 trials in 1 min  0 sec"
     ]
    },
    {
     "name": "stdout",
     "output_type": "stream",
     "text": [
      "\n"
     ]
    },
    {
     "name": "stdout",
     "output_type": "stream",
     "text": [
      "\tITA,  2nd phase (29Mar2020 - 10Apr2020): finished 1425 trials in 1 min  0 sec"
     ]
    },
    {
     "name": "stdout",
     "output_type": "stream",
     "text": [
      "\n"
     ]
    },
    {
     "name": "stdout",
     "output_type": "stream",
     "text": [
      "\tRUS,  5th phase (22Jun2020 - 03Jul2020): finished 1425 trials in 1 min  0 sec"
     ]
    },
    {
     "name": "stdout",
     "output_type": "stream",
     "text": [
      "\n"
     ]
    },
    {
     "name": "stdout",
     "output_type": "stream",
     "text": [
      "\tUSA,  1st phase (04May2020 - 02Jun2020): finished 1427 trials in 1 min  0 sec"
     ]
    },
    {
     "name": "stdout",
     "output_type": "stream",
     "text": [
      "\n"
     ]
    },
    {
     "name": "stdout",
     "output_type": "stream",
     "text": [
      "\tRUS,  4th phase (11Jun2020 - 21Jun2020): finished 1449 trials in 1 min  0 sec"
     ]
    },
    {
     "name": "stdout",
     "output_type": "stream",
     "text": [
      "\n"
     ]
    },
    {
     "name": "stdout",
     "output_type": "stream",
     "text": [
      "\tKWT,  7th phase (04Aug2020 - 17Aug2020): finished  312 trials in 0 min 10 sec"
     ]
    },
    {
     "name": "stdout",
     "output_type": "stream",
     "text": [
      "\n"
     ]
    },
    {
     "name": "stdout",
     "output_type": "stream",
     "text": [
      "\tARE,  6th phase (04Jul2020 - 23Jul2020): finished 1434 trials in 1 min  0 sec"
     ]
    },
    {
     "name": "stdout",
     "output_type": "stream",
     "text": [
      "\n"
     ]
    },
    {
     "name": "stdout",
     "output_type": "stream",
     "text": [
      "\tITA,  8th phase (26Aug2020 - 12Sep2020): finished  312 trials in 0 min 10 sec"
     ]
    },
    {
     "name": "stdout",
     "output_type": "stream",
     "text": [
      "\n"
     ]
    },
    {
     "name": "stdout",
     "output_type": "stream",
     "text": [
      "\tBHR,  6th phase (20Jul2020 - 05Aug2020): finished  161 trials in 0 min  5 sec"
     ]
    },
    {
     "name": "stdout",
     "output_type": "stream",
     "text": [
      "\n"
     ]
    },
    {
     "name": "stdout",
     "output_type": "stream",
     "text": [
      "\tBHR,  9th phase (06Sep2020 - 16Sep2020): finished 1445 trials in 1 min  0 sec"
     ]
    },
    {
     "name": "stdout",
     "output_type": "stream",
     "text": [
      "\n"
     ]
    },
    {
     "name": "stdout",
     "output_type": "stream",
     "text": [
      "\tRUS,  3rd phase (30May2020 - 10Jun2020): finished 1407 trials in 1 min  0 sec"
     ]
    },
    {
     "name": "stdout",
     "output_type": "stream",
     "text": [
      "\n"
     ]
    },
    {
     "name": "stdout",
     "output_type": "stream",
     "text": [
      "\tTUR,  9th phase (23Aug2020 - 07Sep2020): finished  307 trials in 0 min 10 sec"
     ]
    },
    {
     "name": "stdout",
     "output_type": "stream",
     "text": [
      "\n"
     ]
    },
    {
     "name": "stdout",
     "output_type": "stream",
     "text": [
      "\tUSA, 10th phase (17Sep2020 - 28Sep2020): finished  811 trials in 0 min 30 sec"
     ]
    },
    {
     "name": "stdout",
     "output_type": "stream",
     "text": [
      "\n"
     ]
    },
    {
     "name": "stdout",
     "output_type": "stream",
     "text": [
      "\tLVA,  2nd phase (19Apr2020 - 29Apr2020): finished 1404 trials in 1 min  0 sec"
     ]
    },
    {
     "name": "stdout",
     "output_type": "stream",
     "text": [
      "\n"
     ]
    },
    {
     "name": "stdout",
     "output_type": "stream",
     "text": [
      "\tLVA,  7th phase (09Jul2020 - 05Aug2020): finished 1594 trials in 1 min  0 sec"
     ]
    },
    {
     "name": "stdout",
     "output_type": "stream",
     "text": [
      "\n"
     ]
    },
    {
     "name": "stdout",
     "output_type": "stream",
     "text": [
      "\tUSA, 11th phase (29Sep2020 - 11Oct2020): finished  687 trials in 0 min 25 sec"
     ]
    },
    {
     "name": "stdout",
     "output_type": "stream",
     "text": [
      "\n"
     ]
    },
    {
     "name": "stdout",
     "output_type": "stream",
     "text": [
      "\tBHR,  7th phase (06Aug2020 - 21Aug2020): finished 1423 trials in 1 min  0 sec"
     ]
    },
    {
     "name": "stdout",
     "output_type": "stream",
     "text": [
      "\n"
     ]
    },
    {
     "name": "stdout",
     "output_type": "stream",
     "text": [
      "\tRUS, 10th phase (03Sep2020 - 18Sep2020): finished 1424 trials in 1 min  0 sec"
     ]
    },
    {
     "name": "stdout",
     "output_type": "stream",
     "text": [
      "\n"
     ]
    },
    {
     "name": "stdout",
     "output_type": "stream",
     "text": [
      "\tKWT, 10th phase (13Sep2020 - 24Sep2020): finished 1440 trials in 1 min  0 sec"
     ]
    },
    {
     "name": "stdout",
     "output_type": "stream",
     "text": [
      "\n"
     ]
    },
    {
     "name": "stdout",
     "output_type": "stream",
     "text": [
      "\tITA,  6th phase (28May2020 - 14Jul2020): finished  554 trials in 0 min 20 sec"
     ]
    },
    {
     "name": "stdout",
     "output_type": "stream",
     "text": [
      "\n"
     ]
    },
    {
     "name": "stdout",
     "output_type": "stream",
     "text": [
      "\tUSA,  0th phase (09Feb2020 - 03May2020): finished 1355 trials in 1 min  0 sec"
     ]
    },
    {
     "name": "stdout",
     "output_type": "stream",
     "text": [
      "\n"
     ]
    },
    {
     "name": "stdout",
     "output_type": "stream",
     "text": [
      "\tTUR,  3rd phase (09May2020 - 22May2020): finished 1424 trials in 1 min  0 sec"
     ]
    },
    {
     "name": "stdout",
     "output_type": "stream",
     "text": [
      "\n"
     ]
    },
    {
     "name": "stdout",
     "output_type": "stream",
     "text": [
      "\tBOL,  8th phase (26Aug2020 - 02Sep2020): finished  315 trials in 0 min 10 sec"
     ]
    },
    {
     "name": "stdout",
     "output_type": "stream",
     "text": [
      "\n"
     ]
    },
    {
     "name": "stdout",
     "output_type": "stream",
     "text": [
      "\tLVA,  1st phase (07Apr2020 - 18Apr2020): finished 1637 trials in 1 min  0 sec"
     ]
    },
    {
     "name": "stdout",
     "output_type": "stream",
     "text": [
      "\n"
     ]
    },
    {
     "name": "stdout",
     "output_type": "stream",
     "text": [
      "\tBHR,  8th phase (22Aug2020 - 05Sep2020): finished 1426 trials in 1 min  0 sec"
     ]
    },
    {
     "name": "stdout",
     "output_type": "stream",
     "text": [
      "\n"
     ]
    },
    {
     "name": "stdout",
     "output_type": "stream",
     "text": [
      "\tBRA,  7th phase (11Aug2020 - 19Aug2020): finished 1450 trials in 1 min  0 sec"
     ]
    },
    {
     "name": "stdout",
     "output_type": "stream",
     "text": [
      "\n"
     ]
    },
    {
     "name": "stdout",
     "output_type": "stream",
     "text": [
      "\tRUS,  9th phase (16Aug2020 - 02Sep2020): finished 1442 trials in 1 min  0 sec"
     ]
    },
    {
     "name": "stdout",
     "output_type": "stream",
     "text": [
      "\n"
     ]
    },
    {
     "name": "stdout",
     "output_type": "stream",
     "text": [
      "\tTUR,  0th phase (24Mar2020 - 16Apr2020): finished 1444 trials in 1 min  0 sec"
     ]
    },
    {
     "name": "stdout",
     "output_type": "stream",
     "text": [
      "\n"
     ]
    },
    {
     "name": "stdout",
     "output_type": "stream",
     "text": [
      "\tRUS,  6th phase (04Jul2020 - 17Jul2020): finished 1449 trials in 1 min  0 sec"
     ]
    },
    {
     "name": "stdout",
     "output_type": "stream",
     "text": [
      "\n"
     ]
    },
    {
     "name": "stdout",
     "output_type": "stream",
     "text": [
      "\tBOL,  9th phase (03Sep2020 - 10Sep2020): finished  586 trials in 0 min 20 sec"
     ]
    },
    {
     "name": "stdout",
     "output_type": "stream",
     "text": [
      "\n"
     ]
    },
    {
     "name": "stdout",
     "output_type": "stream",
     "text": [
      "\tRUS,  8th phase (01Aug2020 - 15Aug2020): finished 1435 trials in 1 min  0 sec"
     ]
    },
    {
     "name": "stdout",
     "output_type": "stream",
     "text": [
      "\n"
     ]
    },
    {
     "name": "stdout",
     "output_type": "stream",
     "text": [
      "\tRUS, 12th phase (01Oct2020 - 11Oct2020): finished 1140 trials in 0 min 45 sec"
     ]
    },
    {
     "name": "stdout",
     "output_type": "stream",
     "text": [
      "\n"
     ]
    },
    {
     "name": "stdout",
     "output_type": "stream",
     "text": [
      "\tITA, 11th phase (03Oct2020 - 11Oct2020): finished  317 trials in 0 min 10 sec"
     ]
    },
    {
     "name": "stdout",
     "output_type": "stream",
     "text": [
      "\n"
     ]
    },
    {
     "name": "stdout",
     "output_type": "stream",
     "text": [
      "\tBRA,  8th phase (20Aug2020 - 30Aug2020): finished 1439 trials in 1 min  0 sec"
     ]
    },
    {
     "name": "stdout",
     "output_type": "stream",
     "text": [
      "\n"
     ]
    },
    {
     "name": "stdout",
     "output_type": "stream",
     "text": [
      "\tBHR,  2nd phase (01Jun2020 - 13Jun2020): finished 1429 trials in 1 min  0 sec"
     ]
    },
    {
     "name": "stdout",
     "output_type": "stream",
     "text": [
      "\n"
     ]
    },
    {
     "name": "stdout",
     "output_type": "stream",
     "text": [
      "\tARE,  4th phase (06Jun2020 - 20Jun2020): finished 1043 trials in 0 min 40 sec"
     ]
    },
    {
     "name": "stdout",
     "output_type": "stream",
     "text": [
      "\n"
     ]
    },
    {
     "name": "stdout",
     "output_type": "stream",
     "text": [
      "\tLVA,  8th phase (06Aug2020 - 28Aug2020): finished 1625 trials in 1 min  0 sec"
     ]
    },
    {
     "name": "stdout",
     "output_type": "stream",
     "text": [
      "\n"
     ]
    },
    {
     "name": "stdout",
     "output_type": "stream",
     "text": [
      "\tITA,  1st phase (21Mar2020 - 28Mar2020): finished 1447 trials in 1 min  0 sec"
     ]
    },
    {
     "name": "stdout",
     "output_type": "stream",
     "text": [
      "\n"
     ]
    },
    {
     "name": "stdout",
     "output_type": "stream",
     "text": [
      "\tARE,  2nd phase (15May2020 - 24May2020): finished 1449 trials in 1 min  0 sec"
     ]
    },
    {
     "name": "stdout",
     "output_type": "stream",
     "text": [
      "\n"
     ]
    },
    {
     "name": "stdout",
     "output_type": "stream",
     "text": [
      "\tKWT,  2nd phase (28May2020 - 07Jun2020): finished 1430 trials in 1 min  0 sec"
     ]
    },
    {
     "name": "stdout",
     "output_type": "stream",
     "text": [
      "\n"
     ]
    },
    {
     "name": "stdout",
     "output_type": "stream",
     "text": [
      "\tKWT,  6th phase (21Jul2020 - 03Aug2020): finished  579 trials in 0 min 20 sec"
     ]
    },
    {
     "name": "stdout",
     "output_type": "stream",
     "text": [
      "\n"
     ]
    },
    {
     "name": "stdout",
     "output_type": "stream",
     "text": [
      "\tITA,  3rd phase (11Apr2020 - 23Apr2020): finished 1423 trials in 1 min  0 sec"
     ]
    },
    {
     "name": "stdout",
     "output_type": "stream",
     "text": [
      "\n"
     ]
    },
    {
     "name": "stdout",
     "output_type": "stream",
     "text": [
      "\tKWT,  1st phase (13May2020 - 27May2020): finished 1423 trials in 1 min  0 sec"
     ]
    },
    {
     "name": "stdout",
     "output_type": "stream",
     "text": [
      "\n"
     ]
    },
    {
     "name": "stdout",
     "output_type": "stream",
     "text": [
      "\tRUS,  1st phase (07May2020 - 18May2020): finished 1431 trials in 1 min  0 sec"
     ]
    },
    {
     "name": "stdout",
     "output_type": "stream",
     "text": [
      "\n"
     ]
    },
    {
     "name": "stdout",
     "output_type": "stream",
     "text": [
      "\tBOL,  4th phase (16Jul2020 - 23Jul2020): finished  318 trials in 0 min 10 sec"
     ]
    },
    {
     "name": "stdout",
     "output_type": "stream",
     "text": [
      "\n"
     ]
    },
    {
     "name": "stdout",
     "output_type": "stream",
     "text": [
      "\tITA,  0th phase (24Feb2020 - 20Mar2020): finished 1431 trials in 1 min  0 sec"
     ]
    },
    {
     "name": "stdout",
     "output_type": "stream",
     "text": [
      "\n"
     ]
    },
    {
     "name": "stdout",
     "output_type": "stream",
     "text": [
      "\tLVA,  5th phase (16May2020 - 29May2020): finished 1441 trials in 1 min  0 sec"
     ]
    },
    {
     "name": "stdout",
     "output_type": "stream",
     "text": [
      "\n"
     ]
    },
    {
     "name": "stdout",
     "output_type": "stream",
     "text": [
      "\tBHR, 11th phase (27Sep2020 - 11Oct2020): finished  310 trials in 0 min 10 sec"
     ]
    },
    {
     "name": "stdout",
     "output_type": "stream",
     "text": [
      "\n"
     ]
    },
    {
     "name": "stdout",
     "output_type": "stream",
     "text": [
      "\tKWT,  4th phase (23Jun2020 - 06Jul2020): finished 1449 trials in 1 min  0 sec"
     ]
    },
    {
     "name": "stdout",
     "output_type": "stream",
     "text": [
      "\n"
     ]
    },
    {
     "name": "stdout",
     "output_type": "stream",
     "text": [
      "\tARE,  5th phase (21Jun2020 - 03Jul2020): finished  288 trials in 0 min 10 sec"
     ]
    },
    {
     "name": "stdout",
     "output_type": "stream",
     "text": [
      "\n"
     ]
    },
    {
     "name": "stdout",
     "output_type": "stream",
     "text": [
      "\tITA, 10th phase (24Sep2020 - 02Oct2020): finished  291 trials in 0 min 10 sec"
     ]
    },
    {
     "name": "stdout",
     "output_type": "stream",
     "text": [
      "\n"
     ]
    },
    {
     "name": "stdout",
     "output_type": "stream",
     "text": [
      "\tLVA, 11th phase (25Sep2020 - 11Oct2020): finished 1688 trials in 1 min  0 sec"
     ]
    },
    {
     "name": "stdout",
     "output_type": "stream",
     "text": [
      "\n"
     ]
    },
    {
     "name": "stdout",
     "output_type": "stream",
     "text": [
      "\tUSA,  8th phase (20Aug2020 - 02Sep2020): finished  545 trials in 0 min 15 sec"
     ]
    },
    {
     "name": "stdout",
     "output_type": "stream",
     "text": [
      "\n"
     ]
    },
    {
     "name": "stdout",
     "output_type": "stream",
     "text": [
      "\tIRN, 11th phase (28Sep2020 - 11Oct2020): finished  256 trials in 0 min  5 sec"
     ]
    },
    {
     "name": "stdout",
     "output_type": "stream",
     "text": [
      "\n"
     ]
    },
    {
     "name": "stdout",
     "output_type": "stream",
     "text": [
      "\tARE,  8th phase (21Aug2020 - 10Sep2020): finished 1779 trials in 1 min  0 sec"
     ]
    },
    {
     "name": "stdout",
     "output_type": "stream",
     "text": [
      "\n"
     ]
    },
    {
     "name": "stdout",
     "output_type": "stream",
     "text": [
      "\tLVA,  3rd phase (30Apr2020 - 07May2020): finished 2077 trials in 1 min  0 sec"
     ]
    },
    {
     "name": "stdout",
     "output_type": "stream",
     "text": [
      "\n"
     ]
    },
    {
     "name": "stdout",
     "output_type": "stream",
     "text": [
      "\tTUR, 10th phase (08Sep2020 - 22Sep2020): finished  217 trials in 0 min  5 sec"
     ]
    },
    {
     "name": "stdout",
     "output_type": "stream",
     "text": [
      "\n"
     ]
    },
    {
     "name": "stdout",
     "output_type": "stream",
     "text": [
      "\tBHR,  5th phase (08Jul2020 - 19Jul2020): finished 1766 trials in 1 min  0 sec"
     ]
    },
    {
     "name": "stdout",
     "output_type": "stream",
     "text": [
      "\n"
     ]
    },
    {
     "name": "stdout",
     "output_type": "stream",
     "text": [
      "\tIRN,  1st phase (30Mar2020 - 18Apr2020): finished 1735 trials in 1 min  0 sec"
     ]
    },
    {
     "name": "stdout",
     "output_type": "stream",
     "text": [
      "\n"
     ]
    },
    {
     "name": "stdout",
     "output_type": "stream",
     "text": [
      "\tBOL,  5th phase (24Jul2020 - 31Jul2020): finished  584 trials in 0 min 15 sec"
     ]
    },
    {
     "name": "stdout",
     "output_type": "stream",
     "text": [
      "\n"
     ]
    },
    {
     "name": "stdout",
     "output_type": "stream",
     "text": [
      "\tIRN,  2nd phase (19Apr2020 - 14May2020): finished  564 trials in 0 min 15 sec"
     ]
    },
    {
     "name": "stdout",
     "output_type": "stream",
     "text": [
      "\n"
     ]
    },
    {
     "name": "stdout",
     "output_type": "stream",
     "text": [
      "\tUSA,  4th phase (08Jul2020 - 17Jul2020): finished  403 trials in 0 min 10 sec"
     ]
    },
    {
     "name": "stdout",
     "output_type": "stream",
     "text": [
      "\n"
     ]
    },
    {
     "name": "stdout",
     "output_type": "stream",
     "text": [
      "\tBRA,  4th phase (09Jul2020 - 20Jul2020): finished  401 trials in 0 min 10 sec"
     ]
    },
    {
     "name": "stdout",
     "output_type": "stream",
     "text": [
      "\n"
     ]
    },
    {
     "name": "stdout",
     "output_type": "stream",
     "text": [
      "\tTUR,  6th phase (28Jun2020 - 15Jul2020): finished  545 trials in 0 min 15 sec"
     ]
    },
    {
     "name": "stdout",
     "output_type": "stream",
     "text": [
      "\n"
     ]
    },
    {
     "name": "stdout",
     "output_type": "stream",
     "text": [
      "\tBRA,  1st phase (28May2020 - 14Jun2020): finished 1711 trials in 1 min  0 sec"
     ]
    },
    {
     "name": "stdout",
     "output_type": "stream",
     "text": [
      "\n"
     ]
    },
    {
     "name": "stdout",
     "output_type": "stream",
     "text": [
      "\tBOL,  1st phase (14Jun2020 - 25Jun2020): finished 1721 trials in 1 min  0 sec"
     ]
    },
    {
     "name": "stdout",
     "output_type": "stream",
     "text": [
      "\n"
     ]
    },
    {
     "name": "stdout",
     "output_type": "stream",
     "text": [
      "\tBHR, 10th phase (17Sep2020 - 26Sep2020): finished  212 trials in 0 min  5 sec"
     ]
    },
    {
     "name": "stdout",
     "output_type": "stream",
     "text": [
      "\n"
     ]
    },
    {
     "name": "stdout",
     "output_type": "stream",
     "text": [
      "\tRUS, 11th phase (19Sep2020 - 30Sep2020): finished 1731 trials in 1 min  0 sec"
     ]
    },
    {
     "name": "stdout",
     "output_type": "stream",
     "text": [
      "\n"
     ]
    },
    {
     "name": "stdout",
     "output_type": "stream",
     "text": [
      "\tITA,  9th phase (13Sep2020 - 23Sep2020): finished  212 trials in 0 min  5 sec"
     ]
    },
    {
     "name": "stdout",
     "output_type": "stream",
     "text": [
      "\n"
     ]
    },
    {
     "name": "stdout",
     "output_type": "stream",
     "text": [
      "\tITA,  5th phase (12May2020 - 27May2020): finished  400 trials in 0 min 10 sec"
     ]
    },
    {
     "name": "stdout",
     "output_type": "stream",
     "text": [
      "\n"
     ]
    },
    {
     "name": "stdout",
     "output_type": "stream",
     "text": [
      "\tBOL,  2nd phase (26Jun2020 - 05Jul2020): finished  381 trials in 0 min 10 sec"
     ]
    },
    {
     "name": "stdout",
     "output_type": "stream",
     "text": [
      "\n"
     ]
    },
    {
     "name": "stdout",
     "output_type": "stream",
     "text": [
      "\tTUR,  1st phase (17Apr2020 - 29Apr2020): finished 1705 trials in 1 min  0 sec"
     ]
    },
    {
     "name": "stdout",
     "output_type": "stream",
     "text": [
      "\n"
     ]
    },
    {
     "name": "stdout",
     "output_type": "stream",
     "text": [
      "\tUSA,  5th phase (18Jul2020 - 28Jul2020): finished  203 trials in 0 min  5 sec"
     ]
    },
    {
     "name": "stdout",
     "output_type": "stream",
     "text": [
      "\n"
     ]
    },
    {
     "name": "stdout",
     "output_type": "stream",
     "text": [
      "\tARE,  0th phase (12Feb2020 - 29Apr2020): finished 1654 trials in 1 min  0 sec"
     ]
    },
    {
     "name": "stdout",
     "output_type": "stream",
     "text": [
      "\n"
     ]
    },
    {
     "name": "stdout",
     "output_type": "stream",
     "text": [
      "\tKWT,  9th phase (02Sep2020 - 12Sep2020): finished 1725 trials in 1 min  0 sec"
     ]
    },
    {
     "name": "stdout",
     "output_type": "stream",
     "text": [
      "\n"
     ]
    },
    {
     "name": "stdout",
     "output_type": "stream",
     "text": [
      "\tBOL, 11th phase (23Sep2020 - 11Oct2020): finished  191 trials in 0 min  5 sec"
     ]
    },
    {
     "name": "stdout",
     "output_type": "stream",
     "text": [
      "\n"
     ]
    },
    {
     "name": "stdout",
     "output_type": "stream",
     "text": [
      "\tIRN,  9th phase (23Aug2020 - 13Sep2020): finished  191 trials in 0 min  5 sec"
     ]
    },
    {
     "name": "stdout",
     "output_type": "stream",
     "text": [
      "\n"
     ]
    },
    {
     "name": "stdout",
     "output_type": "stream",
     "text": [
      "\tARE,  7th phase (24Jul2020 - 20Aug2020): finished 1678 trials in 1 min  0 sec"
     ]
    },
    {
     "name": "stdout",
     "output_type": "stream",
     "text": [
      "\n"
     ]
    },
    {
     "name": "stdout",
     "output_type": "stream",
     "text": [
      "\tTUR,  2nd phase (30Apr2020 - 08May2020): finished 1105 trials in 0 min 35 sec"
     ]
    },
    {
     "name": "stdout",
     "output_type": "stream",
     "text": [
      "\n"
     ]
    },
    {
     "name": "stdout",
     "output_type": "stream",
     "text": [
      "\tBOL,  0th phase (01Apr2020 - 13Jun2020): finished 1628 trials in 1 min  0 sec"
     ]
    },
    {
     "name": "stdout",
     "output_type": "stream",
     "text": [
      "\n"
     ]
    },
    {
     "name": "stdout",
     "output_type": "stream",
     "text": [
      "\tLVA,  4th phase (08May2020 - 15May2020): finished 1684 trials in 1 min  0 sec"
     ]
    },
    {
     "name": "stdout",
     "output_type": "stream",
     "text": [
      "\n"
     ]
    },
    {
     "name": "stdout",
     "output_type": "stream",
     "text": [
      "\tKWT,  8th phase (18Aug2020 - 01Sep2020): finished  544 trials in 0 min 15 sec"
     ]
    },
    {
     "name": "stdout",
     "output_type": "stream",
     "text": [
      "\n"
     ]
    },
    {
     "name": "stdout",
     "output_type": "stream",
     "text": [
      "\tBRA,  0th phase (16Mar2020 - 27May2020): finished 1611 trials in 1 min  0 sec"
     ]
    },
    {
     "name": "stdout",
     "output_type": "stream",
     "text": [
      "\n"
     ]
    },
    {
     "name": "stdout",
     "output_type": "stream",
     "text": [
      "\tARE,  3rd phase (25May2020 - 05Jun2020): finished 1668 trials in 1 min  0 sec"
     ]
    },
    {
     "name": "stdout",
     "output_type": "stream",
     "text": [
      "\n"
     ]
    },
    {
     "name": "stdout",
     "output_type": "stream",
     "text": [
      "\tLVA,  6th phase (30May2020 - 08Jul2020): finished 1644 trials in 1 min  0 sec"
     ]
    },
    {
     "name": "stdout",
     "output_type": "stream",
     "text": [
      "\n"
     ]
    },
    {
     "name": "stdout",
     "output_type": "stream",
     "text": [
      "\tKWT,  3rd phase (08Jun2020 - 22Jun2020): finished 1666 trials in 1 min  0 sec"
     ]
    },
    {
     "name": "stdout",
     "output_type": "stream",
     "text": [
      "\n"
     ]
    },
    {
     "name": "stdout",
     "output_type": "stream",
     "text": [
      "\tBRA,  9th phase (31Aug2020 - 10Sep2020): finished  190 trials in 0 min  5 sec"
     ]
    },
    {
     "name": "stdout",
     "output_type": "stream",
     "text": [
      "\n"
     ]
    },
    {
     "name": "stdout",
     "output_type": "stream",
     "text": [
      "\tIRN,  4th phase (02Jun2020 - 17Jun2020): finished  815 trials in 0 min 25 sec"
     ]
    },
    {
     "name": "stdout",
     "output_type": "stream",
     "text": [
      "\n"
     ]
    },
    {
     "name": "stdout",
     "output_type": "stream",
     "text": [
      "\tBRA,  2nd phase (15Jun2020 - 26Jun2020): finished  520 trials in 0 min 15 sec"
     ]
    },
    {
     "name": "stdout",
     "output_type": "stream",
     "text": [
      "\n"
     ]
    },
    {
     "name": "stdout",
     "output_type": "stream",
     "text": [
      "\tKWT,  0th phase (08Mar2020 - 12May2020): finished 1465 trials in 1 min  0 sec"
     ]
    },
    {
     "name": "stdout",
     "output_type": "stream",
     "text": [
      "\n"
     ]
    },
    {
     "name": "stdout",
     "output_type": "stream",
     "text": [
      "\tUSA,  9th phase (03Sep2020 - 16Sep2020): finished  952 trials in 0 min 30 sec"
     ]
    },
    {
     "name": "stdout",
     "output_type": "stream",
     "text": [
      "\n"
     ]
    },
    {
     "name": "stdout",
     "output_type": "stream",
     "text": [
      "\tBOL,  6th phase (01Aug2020 - 10Aug2020): finished  206 trials in 0 min  5 sec"
     ]
    },
    {
     "name": "stdout",
     "output_type": "stream",
     "text": [
      "\n"
     ]
    },
    {
     "name": "stdout",
     "output_type": "stream",
     "text": [
      "\tTUR,  7th phase (16Jul2020 - 04Aug2020): finished  379 trials in 0 min 10 sec"
     ]
    },
    {
     "name": "stdout",
     "output_type": "stream",
     "text": [
      "\n"
     ]
    },
    {
     "name": "stdout",
     "output_type": "stream",
     "text": [
      "\tTUR,  5th phase (13Jun2020 - 27Jun2020): finished 1701 trials in 1 min  0 sec"
     ]
    },
    {
     "name": "stdout",
     "output_type": "stream",
     "text": [
      "\n"
     ]
    },
    {
     "name": "stdout",
     "output_type": "stream",
     "text": [
      "\tTUR,  4th phase (23May2020 - 12Jun2020): finished 1711 trials in 1 min  0 sec"
     ]
    },
    {
     "name": "stdout",
     "output_type": "stream",
     "text": [
      "\n"
     ]
    },
    {
     "name": "stdout",
     "output_type": "stream",
     "text": [
      "\tUSA,  7th phase (08Aug2020 - 19Aug2020): finished  566 trials in 0 min 15 sec"
     ]
    },
    {
     "name": "stdout",
     "output_type": "stream",
     "text": [
      "\n"
     ]
    },
    {
     "name": "stdout",
     "output_type": "stream",
     "text": [
      "\tUSA,  3rd phase (24Jun2020 - 07Jul2020): finished 1723 trials in 1 min  0 sec"
     ]
    },
    {
     "name": "stdout",
     "output_type": "stream",
     "text": [
      "\n"
     ]
    },
    {
     "name": "stdout",
     "output_type": "stream",
     "text": [
      "\tRUS,  0th phase (12Feb2020 - 06May2020): finished 1816 trials in 1 min  0 sec"
     ]
    },
    {
     "name": "stdout",
     "output_type": "stream",
     "text": [
      "\n"
     ]
    },
    {
     "name": "stdout",
     "output_type": "stream",
     "text": [
      "\tRUS,  7th phase (18Jul2020 - 31Jul2020): finished 1802 trials in 1 min  0 sec"
     ]
    },
    {
     "name": "stdout",
     "output_type": "stream",
     "text": [
      "\n"
     ]
    },
    {
     "name": "stdout",
     "output_type": "stream",
     "text": [
      "\tBOL, 10th phase (11Sep2020 - 22Sep2020): finished  223 trials in 0 min  5 sec"
     ]
    },
    {
     "name": "stdout",
     "output_type": "stream",
     "text": [
      "\n"
     ]
    },
    {
     "name": "stdout",
     "output_type": "stream",
     "text": [
      "\tLVA, 10th phase (11Sep2020 - 24Sep2020): finished  915 trials in 0 min 20 sec"
     ]
    },
    {
     "name": "stdout",
     "output_type": "stream",
     "text": [
      "\n"
     ]
    },
    {
     "name": "stdout",
     "output_type": "stream",
     "text": [
      "\tBHR,  1st phase (07May2020 - 31May2020): finished 1762 trials in 1 min  0 sec"
     ]
    },
    {
     "name": "stdout",
     "output_type": "stream",
     "text": [
      "\n"
     ]
    },
    {
     "name": "stdout",
     "output_type": "stream",
     "text": [
      "Completed optimization. Total: 23 min 45 sec"
     ]
    },
    {
     "name": "stdout",
     "output_type": "stream",
     "text": [
      "\n"
     ]
    }
   ],
   "source": [
    "# Parameter estimation with SIR-F model\n",
    "analyser.estimate(cs.SIRF)"
   ]
  },
  {
   "cell_type": "code",
   "execution_count": 12,
   "metadata": {
    "collapsed": false
   },
   "outputs": [
    {
     "data": {
      "text/html": [
       "<div>\n",
       "<style scoped>\n",
       "    .dataframe tbody tr th:only-of-type {\n",
       "        vertical-align: middle;\n",
       "    }\n",
       "\n",
       "    .dataframe tbody tr th {\n",
       "        vertical-align: top;\n",
       "    }\n",
       "\n",
       "    .dataframe thead th {\n",
       "        text-align: right;\n",
       "    }\n",
       "</style>\n",
       "<table border=\"1\" class=\"dataframe\">\n",
       "  <thead>\n",
       "    <tr style=\"text-align: right;\">\n",
       "      <th></th>\n",
       "      <th></th>\n",
       "      <th>Type</th>\n",
       "      <th>Start</th>\n",
       "      <th>End</th>\n",
       "      <th>Population</th>\n",
       "      <th>ODE</th>\n",
       "      <th>Rt</th>\n",
       "      <th>theta</th>\n",
       "      <th>kappa</th>\n",
       "      <th>rho</th>\n",
       "      <th>sigma</th>\n",
       "      <th>tau</th>\n",
       "      <th>alpha1 [-]</th>\n",
       "      <th>1/gamma [day]</th>\n",
       "      <th>1/beta [day]</th>\n",
       "      <th>1/alpha2 [day]</th>\n",
       "      <th>RMSLE</th>\n",
       "      <th>Trials</th>\n",
       "      <th>Runtime</th>\n",
       "    </tr>\n",
       "    <tr>\n",
       "      <th>Country</th>\n",
       "      <th>Phase</th>\n",
       "      <th></th>\n",
       "      <th></th>\n",
       "      <th></th>\n",
       "      <th></th>\n",
       "      <th></th>\n",
       "      <th></th>\n",
       "      <th></th>\n",
       "      <th></th>\n",
       "      <th></th>\n",
       "      <th></th>\n",
       "      <th></th>\n",
       "      <th></th>\n",
       "      <th></th>\n",
       "      <th></th>\n",
       "      <th></th>\n",
       "      <th></th>\n",
       "      <th></th>\n",
       "      <th></th>\n",
       "    </tr>\n",
       "  </thead>\n",
       "  <tbody>\n",
       "    <tr>\n",
       "      <th rowspan=\"13\" valign=\"top\">Russia</th>\n",
       "      <th>0th</th>\n",
       "      <td>Past</td>\n",
       "      <td>12Feb2020</td>\n",
       "      <td>06May2020</td>\n",
       "      <td>330457362</td>\n",
       "      <td>SIR-F</td>\n",
       "      <td>0.02</td>\n",
       "      <td>0.602763</td>\n",
       "      <td>0.544883</td>\n",
       "      <td>0.034081</td>\n",
       "      <td>0.002299</td>\n",
       "      <td>360</td>\n",
       "      <td>0.603</td>\n",
       "      <td>108</td>\n",
       "      <td>7</td>\n",
       "      <td>0</td>\n",
       "      <td>18.966727</td>\n",
       "      <td>1816</td>\n",
       "      <td>1 min  0 sec</td>\n",
       "    </tr>\n",
       "    <tr>\n",
       "      <th>1st</th>\n",
       "      <td>Past</td>\n",
       "      <td>07May2020</td>\n",
       "      <td>18May2020</td>\n",
       "      <td>330457362</td>\n",
       "      <td>SIR-F</td>\n",
       "      <td>2.85</td>\n",
       "      <td>0.001806</td>\n",
       "      <td>0.000093</td>\n",
       "      <td>0.013110</td>\n",
       "      <td>0.004495</td>\n",
       "      <td>360</td>\n",
       "      <td>0.002</td>\n",
       "      <td>55</td>\n",
       "      <td>19</td>\n",
       "      <td>2675</td>\n",
       "      <td>0.087751</td>\n",
       "      <td>1431</td>\n",
       "      <td>1 min  0 sec</td>\n",
       "    </tr>\n",
       "    <tr>\n",
       "      <th>2nd</th>\n",
       "      <td>Past</td>\n",
       "      <td>19May2020</td>\n",
       "      <td>29May2020</td>\n",
       "      <td>330457362</td>\n",
       "      <td>SIR-F</td>\n",
       "      <td>1.03</td>\n",
       "      <td>0.000337</td>\n",
       "      <td>0.000113</td>\n",
       "      <td>0.006707</td>\n",
       "      <td>0.006392</td>\n",
       "      <td>360</td>\n",
       "      <td>0.000</td>\n",
       "      <td>39</td>\n",
       "      <td>37</td>\n",
       "      <td>2208</td>\n",
       "      <td>0.111343</td>\n",
       "      <td>1607</td>\n",
       "      <td>1 min  0 sec</td>\n",
       "    </tr>\n",
       "    <tr>\n",
       "      <th>3rd</th>\n",
       "      <td>Past</td>\n",
       "      <td>30May2020</td>\n",
       "      <td>10Jun2020</td>\n",
       "      <td>330457362</td>\n",
       "      <td>SIR-F</td>\n",
       "      <td>1.03</td>\n",
       "      <td>0.018709</td>\n",
       "      <td>0.000011</td>\n",
       "      <td>0.004809</td>\n",
       "      <td>0.004563</td>\n",
       "      <td>360</td>\n",
       "      <td>0.019</td>\n",
       "      <td>54</td>\n",
       "      <td>51</td>\n",
       "      <td>22593</td>\n",
       "      <td>0.098037</td>\n",
       "      <td>1407</td>\n",
       "      <td>1 min  0 sec</td>\n",
       "    </tr>\n",
       "    <tr>\n",
       "      <th>4th</th>\n",
       "      <td>Past</td>\n",
       "      <td>11Jun2020</td>\n",
       "      <td>21Jun2020</td>\n",
       "      <td>330457362</td>\n",
       "      <td>SIR-F</td>\n",
       "      <td>1.18</td>\n",
       "      <td>0.018272</td>\n",
       "      <td>0.000010</td>\n",
       "      <td>0.003824</td>\n",
       "      <td>0.003168</td>\n",
       "      <td>360</td>\n",
       "      <td>0.018</td>\n",
       "      <td>78</td>\n",
       "      <td>65</td>\n",
       "      <td>25081</td>\n",
       "      <td>0.059786</td>\n",
       "      <td>1449</td>\n",
       "      <td>1 min  0 sec</td>\n",
       "    </tr>\n",
       "    <tr>\n",
       "      <th>5th</th>\n",
       "      <td>Past</td>\n",
       "      <td>22Jun2020</td>\n",
       "      <td>03Jul2020</td>\n",
       "      <td>330457362</td>\n",
       "      <td>SIR-F</td>\n",
       "      <td>1.03</td>\n",
       "      <td>0.018470</td>\n",
       "      <td>0.000004</td>\n",
       "      <td>0.002736</td>\n",
       "      <td>0.002599</td>\n",
       "      <td>360</td>\n",
       "      <td>0.018</td>\n",
       "      <td>96</td>\n",
       "      <td>91</td>\n",
       "      <td>68316</td>\n",
       "      <td>0.062681</td>\n",
       "      <td>1425</td>\n",
       "      <td>1 min  0 sec</td>\n",
       "    </tr>\n",
       "    <tr>\n",
       "      <th>6th</th>\n",
       "      <td>Past</td>\n",
       "      <td>04Jul2020</td>\n",
       "      <td>17Jul2020</td>\n",
       "      <td>330457362</td>\n",
       "      <td>SIR-F</td>\n",
       "      <td>0.82</td>\n",
       "      <td>0.025150</td>\n",
       "      <td>0.000002</td>\n",
       "      <td>0.002209</td>\n",
       "      <td>0.002617</td>\n",
       "      <td>360</td>\n",
       "      <td>0.025</td>\n",
       "      <td>95</td>\n",
       "      <td>113</td>\n",
       "      <td>103465</td>\n",
       "      <td>0.069530</td>\n",
       "      <td>1449</td>\n",
       "      <td>1 min  0 sec</td>\n",
       "    </tr>\n",
       "    <tr>\n",
       "      <th>7th</th>\n",
       "      <td>Past</td>\n",
       "      <td>18Jul2020</td>\n",
       "      <td>31Jul2020</td>\n",
       "      <td>330457362</td>\n",
       "      <td>SIR-F</td>\n",
       "      <td>0.76</td>\n",
       "      <td>0.016778</td>\n",
       "      <td>0.000010</td>\n",
       "      <td>0.001845</td>\n",
       "      <td>0.002373</td>\n",
       "      <td>360</td>\n",
       "      <td>0.017</td>\n",
       "      <td>105</td>\n",
       "      <td>135</td>\n",
       "      <td>25378</td>\n",
       "      <td>0.060159</td>\n",
       "      <td>1802</td>\n",
       "      <td>1 min  0 sec</td>\n",
       "    </tr>\n",
       "    <tr>\n",
       "      <th>8th</th>\n",
       "      <td>Past</td>\n",
       "      <td>01Aug2020</td>\n",
       "      <td>15Aug2020</td>\n",
       "      <td>330457362</td>\n",
       "      <td>SIR-F</td>\n",
       "      <td>0.73</td>\n",
       "      <td>0.016638</td>\n",
       "      <td>0.000011</td>\n",
       "      <td>0.001426</td>\n",
       "      <td>0.001913</td>\n",
       "      <td>360</td>\n",
       "      <td>0.017</td>\n",
       "      <td>130</td>\n",
       "      <td>175</td>\n",
       "      <td>22598</td>\n",
       "      <td>0.056319</td>\n",
       "      <td>1435</td>\n",
       "      <td>1 min  0 sec</td>\n",
       "    </tr>\n",
       "    <tr>\n",
       "      <th>9th</th>\n",
       "      <td>Past</td>\n",
       "      <td>16Aug2020</td>\n",
       "      <td>02Sep2020</td>\n",
       "      <td>330457362</td>\n",
       "      <td>SIR-F</td>\n",
       "      <td>0.87</td>\n",
       "      <td>0.019479</td>\n",
       "      <td>0.000002</td>\n",
       "      <td>0.001273</td>\n",
       "      <td>0.001426</td>\n",
       "      <td>360</td>\n",
       "      <td>0.019</td>\n",
       "      <td>175</td>\n",
       "      <td>196</td>\n",
       "      <td>132403</td>\n",
       "      <td>0.053140</td>\n",
       "      <td>1442</td>\n",
       "      <td>1 min  0 sec</td>\n",
       "    </tr>\n",
       "    <tr>\n",
       "      <th>10th</th>\n",
       "      <td>Past</td>\n",
       "      <td>03Sep2020</td>\n",
       "      <td>18Sep2020</td>\n",
       "      <td>330457362</td>\n",
       "      <td>SIR-F</td>\n",
       "      <td>1.02</td>\n",
       "      <td>0.001628</td>\n",
       "      <td>0.000021</td>\n",
       "      <td>0.001279</td>\n",
       "      <td>0.001232</td>\n",
       "      <td>360</td>\n",
       "      <td>0.002</td>\n",
       "      <td>202</td>\n",
       "      <td>195</td>\n",
       "      <td>11747</td>\n",
       "      <td>0.038815</td>\n",
       "      <td>1424</td>\n",
       "      <td>1 min  0 sec</td>\n",
       "    </tr>\n",
       "    <tr>\n",
       "      <th>11th</th>\n",
       "      <td>Past</td>\n",
       "      <td>19Sep2020</td>\n",
       "      <td>30Sep2020</td>\n",
       "      <td>330457362</td>\n",
       "      <td>SIR-F</td>\n",
       "      <td>1.91</td>\n",
       "      <td>0.000964</td>\n",
       "      <td>0.000021</td>\n",
       "      <td>0.001508</td>\n",
       "      <td>0.000766</td>\n",
       "      <td>360</td>\n",
       "      <td>0.001</td>\n",
       "      <td>326</td>\n",
       "      <td>165</td>\n",
       "      <td>11761</td>\n",
       "      <td>0.017508</td>\n",
       "      <td>1731</td>\n",
       "      <td>1 min  0 sec</td>\n",
       "    </tr>\n",
       "    <tr>\n",
       "      <th>12th</th>\n",
       "      <td>Past</td>\n",
       "      <td>01Oct2020</td>\n",
       "      <td>11Oct2020</td>\n",
       "      <td>330457362</td>\n",
       "      <td>SIR-F</td>\n",
       "      <td>1.70</td>\n",
       "      <td>0.002424</td>\n",
       "      <td>0.000031</td>\n",
       "      <td>0.002296</td>\n",
       "      <td>0.001314</td>\n",
       "      <td>360</td>\n",
       "      <td>0.002</td>\n",
       "      <td>190</td>\n",
       "      <td>108</td>\n",
       "      <td>8003</td>\n",
       "      <td>0.011734</td>\n",
       "      <td>1140</td>\n",
       "      <td>0 min 45 sec</td>\n",
       "    </tr>\n",
       "  </tbody>\n",
       "</table>\n",
       "</div>"
      ],
      "text/plain": [
       "               Type      Start        End  Population    ODE    Rt     theta  \\\n",
       "Country Phase                                                                  \n",
       "Russia  0th    Past  12Feb2020  06May2020   330457362  SIR-F  0.02  0.602763   \n",
       "        1st    Past  07May2020  18May2020   330457362  SIR-F  2.85  0.001806   \n",
       "        2nd    Past  19May2020  29May2020   330457362  SIR-F  1.03  0.000337   \n",
       "        3rd    Past  30May2020  10Jun2020   330457362  SIR-F  1.03  0.018709   \n",
       "        4th    Past  11Jun2020  21Jun2020   330457362  SIR-F  1.18  0.018272   \n",
       "        5th    Past  22Jun2020  03Jul2020   330457362  SIR-F  1.03  0.018470   \n",
       "        6th    Past  04Jul2020  17Jul2020   330457362  SIR-F  0.82  0.025150   \n",
       "        7th    Past  18Jul2020  31Jul2020   330457362  SIR-F  0.76  0.016778   \n",
       "        8th    Past  01Aug2020  15Aug2020   330457362  SIR-F  0.73  0.016638   \n",
       "        9th    Past  16Aug2020  02Sep2020   330457362  SIR-F  0.87  0.019479   \n",
       "        10th   Past  03Sep2020  18Sep2020   330457362  SIR-F  1.02  0.001628   \n",
       "        11th   Past  19Sep2020  30Sep2020   330457362  SIR-F  1.91  0.000964   \n",
       "        12th   Past  01Oct2020  11Oct2020   330457362  SIR-F  1.70  0.002424   \n",
       "\n",
       "                  kappa       rho     sigma  tau  alpha1 [-]  1/gamma [day]  \\\n",
       "Country Phase                                                                 \n",
       "Russia  0th    0.544883  0.034081  0.002299  360       0.603            108   \n",
       "        1st    0.000093  0.013110  0.004495  360       0.002             55   \n",
       "        2nd    0.000113  0.006707  0.006392  360       0.000             39   \n",
       "        3rd    0.000011  0.004809  0.004563  360       0.019             54   \n",
       "        4th    0.000010  0.003824  0.003168  360       0.018             78   \n",
       "        5th    0.000004  0.002736  0.002599  360       0.018             96   \n",
       "        6th    0.000002  0.002209  0.002617  360       0.025             95   \n",
       "        7th    0.000010  0.001845  0.002373  360       0.017            105   \n",
       "        8th    0.000011  0.001426  0.001913  360       0.017            130   \n",
       "        9th    0.000002  0.001273  0.001426  360       0.019            175   \n",
       "        10th   0.000021  0.001279  0.001232  360       0.002            202   \n",
       "        11th   0.000021  0.001508  0.000766  360       0.001            326   \n",
       "        12th   0.000031  0.002296  0.001314  360       0.002            190   \n",
       "\n",
       "               1/beta [day]  1/alpha2 [day]      RMSLE  Trials       Runtime  \n",
       "Country Phase                                                                 \n",
       "Russia  0th               7               0  18.966727    1816  1 min  0 sec  \n",
       "        1st              19            2675   0.087751    1431  1 min  0 sec  \n",
       "        2nd              37            2208   0.111343    1607  1 min  0 sec  \n",
       "        3rd              51           22593   0.098037    1407  1 min  0 sec  \n",
       "        4th              65           25081   0.059786    1449  1 min  0 sec  \n",
       "        5th              91           68316   0.062681    1425  1 min  0 sec  \n",
       "        6th             113          103465   0.069530    1449  1 min  0 sec  \n",
       "        7th             135           25378   0.060159    1802  1 min  0 sec  \n",
       "        8th             175           22598   0.056319    1435  1 min  0 sec  \n",
       "        9th             196          132403   0.053140    1442  1 min  0 sec  \n",
       "        10th            195           11747   0.038815    1424  1 min  0 sec  \n",
       "        11th            165           11761   0.017508    1731  1 min  0 sec  \n",
       "        12th            108            8003   0.011734    1140  0 min 45 sec  "
      ]
     },
     "execution_count": 12,
     "metadata": {},
     "output_type": "execute_result"
    }
   ],
   "source": [
    "# Show summary\n",
    "analyser.summary(countries=countries_show)"
   ]
  },
  {
   "cell_type": "markdown",
   "metadata": {},
   "source": [
    "## Compare the history of parameters\n",
    "Here, compare the history of parameter values if countries."
   ]
  },
  {
   "cell_type": "code",
   "execution_count": 13,
   "metadata": {
    "collapsed": false
   },
   "outputs": [
    {
     "data": {
      "text/html": [
       "<div>\n",
       "<style scoped>\n",
       "    .dataframe tbody tr th:only-of-type {\n",
       "        vertical-align: middle;\n",
       "    }\n",
       "\n",
       "    .dataframe tbody tr th {\n",
       "        vertical-align: top;\n",
       "    }\n",
       "\n",
       "    .dataframe thead th {\n",
       "        text-align: right;\n",
       "    }\n",
       "</style>\n",
       "<table border=\"1\" class=\"dataframe\">\n",
       "  <thead>\n",
       "    <tr style=\"text-align: right;\">\n",
       "      <th></th>\n",
       "      <th>Date</th>\n",
       "      <th>Country</th>\n",
       "      <th>theta</th>\n",
       "      <th>kappa</th>\n",
       "      <th>rho</th>\n",
       "      <th>sigma</th>\n",
       "      <th>alpha1 [-]</th>\n",
       "      <th>1/alpha2 [day]</th>\n",
       "      <th>1/beta [day]</th>\n",
       "      <th>1/gamma [day]</th>\n",
       "      <th>...</th>\n",
       "      <th>Cancel_events</th>\n",
       "      <th>Gatherings_restrictions</th>\n",
       "      <th>Transport_closing</th>\n",
       "      <th>Stay_home_restrictions</th>\n",
       "      <th>Internal_movement_restrictions</th>\n",
       "      <th>International_movement_restrictions</th>\n",
       "      <th>Information_campaigns</th>\n",
       "      <th>Testing_policy</th>\n",
       "      <th>Contact_tracing</th>\n",
       "      <th>Stringency_index</th>\n",
       "    </tr>\n",
       "  </thead>\n",
       "  <tbody>\n",
       "    <tr>\n",
       "      <th>0</th>\n",
       "      <td>2020-04-01</td>\n",
       "      <td>Bolivia</td>\n",
       "      <td>0.000948141</td>\n",
       "      <td>0.000812912</td>\n",
       "      <td>0.0205924</td>\n",
       "      <td>0.0016109</td>\n",
       "      <td>0.001</td>\n",
       "      <td>307</td>\n",
       "      <td>12</td>\n",
       "      <td>155</td>\n",
       "      <td>...</td>\n",
       "      <td>2</td>\n",
       "      <td>4</td>\n",
       "      <td>2</td>\n",
       "      <td>2</td>\n",
       "      <td>2</td>\n",
       "      <td>4</td>\n",
       "      <td>2</td>\n",
       "      <td>0</td>\n",
       "      <td>0</td>\n",
       "      <td>96.3</td>\n",
       "    </tr>\n",
       "    <tr>\n",
       "      <th>1</th>\n",
       "      <td>2020-04-02</td>\n",
       "      <td>Bolivia</td>\n",
       "      <td>0.000948141</td>\n",
       "      <td>0.000812912</td>\n",
       "      <td>0.0205924</td>\n",
       "      <td>0.0016109</td>\n",
       "      <td>0.001</td>\n",
       "      <td>307</td>\n",
       "      <td>12</td>\n",
       "      <td>155</td>\n",
       "      <td>...</td>\n",
       "      <td>2</td>\n",
       "      <td>4</td>\n",
       "      <td>2</td>\n",
       "      <td>2</td>\n",
       "      <td>2</td>\n",
       "      <td>4</td>\n",
       "      <td>2</td>\n",
       "      <td>0</td>\n",
       "      <td>0</td>\n",
       "      <td>96.3</td>\n",
       "    </tr>\n",
       "    <tr>\n",
       "      <th>2</th>\n",
       "      <td>2020-04-03</td>\n",
       "      <td>Bolivia</td>\n",
       "      <td>0.000948141</td>\n",
       "      <td>0.000812912</td>\n",
       "      <td>0.0205924</td>\n",
       "      <td>0.0016109</td>\n",
       "      <td>0.001</td>\n",
       "      <td>307</td>\n",
       "      <td>12</td>\n",
       "      <td>155</td>\n",
       "      <td>...</td>\n",
       "      <td>2</td>\n",
       "      <td>4</td>\n",
       "      <td>2</td>\n",
       "      <td>2</td>\n",
       "      <td>2</td>\n",
       "      <td>4</td>\n",
       "      <td>2</td>\n",
       "      <td>0</td>\n",
       "      <td>0</td>\n",
       "      <td>96.3</td>\n",
       "    </tr>\n",
       "    <tr>\n",
       "      <th>3</th>\n",
       "      <td>2020-04-04</td>\n",
       "      <td>Bolivia</td>\n",
       "      <td>0.000948141</td>\n",
       "      <td>0.000812912</td>\n",
       "      <td>0.0205924</td>\n",
       "      <td>0.0016109</td>\n",
       "      <td>0.001</td>\n",
       "      <td>307</td>\n",
       "      <td>12</td>\n",
       "      <td>155</td>\n",
       "      <td>...</td>\n",
       "      <td>2</td>\n",
       "      <td>4</td>\n",
       "      <td>2</td>\n",
       "      <td>2</td>\n",
       "      <td>2</td>\n",
       "      <td>4</td>\n",
       "      <td>2</td>\n",
       "      <td>0</td>\n",
       "      <td>0</td>\n",
       "      <td>96.3</td>\n",
       "    </tr>\n",
       "    <tr>\n",
       "      <th>4</th>\n",
       "      <td>2020-04-05</td>\n",
       "      <td>Bolivia</td>\n",
       "      <td>0.000948141</td>\n",
       "      <td>0.000812912</td>\n",
       "      <td>0.0205924</td>\n",
       "      <td>0.0016109</td>\n",
       "      <td>0.001</td>\n",
       "      <td>307</td>\n",
       "      <td>12</td>\n",
       "      <td>155</td>\n",
       "      <td>...</td>\n",
       "      <td>2</td>\n",
       "      <td>4</td>\n",
       "      <td>2</td>\n",
       "      <td>2</td>\n",
       "      <td>2</td>\n",
       "      <td>4</td>\n",
       "      <td>2</td>\n",
       "      <td>0</td>\n",
       "      <td>0</td>\n",
       "      <td>96.3</td>\n",
       "    </tr>\n",
       "  </tbody>\n",
       "</table>\n",
       "<p>5 rows × 23 columns</p>\n",
       "</div>"
      ],
      "text/plain": [
       "        Date  Country        theta        kappa        rho      sigma  \\\n",
       "0 2020-04-01  Bolivia  0.000948141  0.000812912  0.0205924  0.0016109   \n",
       "1 2020-04-02  Bolivia  0.000948141  0.000812912  0.0205924  0.0016109   \n",
       "2 2020-04-03  Bolivia  0.000948141  0.000812912  0.0205924  0.0016109   \n",
       "3 2020-04-04  Bolivia  0.000948141  0.000812912  0.0205924  0.0016109   \n",
       "4 2020-04-05  Bolivia  0.000948141  0.000812912  0.0205924  0.0016109   \n",
       "\n",
       "  alpha1 [-] 1/alpha2 [day] 1/beta [day] 1/gamma [day]  ... Cancel_events  \\\n",
       "0      0.001            307           12           155  ...             2   \n",
       "1      0.001            307           12           155  ...             2   \n",
       "2      0.001            307           12           155  ...             2   \n",
       "3      0.001            307           12           155  ...             2   \n",
       "4      0.001            307           12           155  ...             2   \n",
       "\n",
       "   Gatherings_restrictions  Transport_closing  Stay_home_restrictions  \\\n",
       "0                        4                  2                       2   \n",
       "1                        4                  2                       2   \n",
       "2                        4                  2                       2   \n",
       "3                        4                  2                       2   \n",
       "4                        4                  2                       2   \n",
       "\n",
       "   Internal_movement_restrictions  International_movement_restrictions  \\\n",
       "0                               2                                    4   \n",
       "1                               2                                    4   \n",
       "2                               2                                    4   \n",
       "3                               2                                    4   \n",
       "4                               2                                    4   \n",
       "\n",
       "   Information_campaigns  Testing_policy  Contact_tracing  Stringency_index  \n",
       "0                      2               0                0              96.3  \n",
       "1                      2               0                0              96.3  \n",
       "2                      2               0                0              96.3  \n",
       "3                      2               0                0              96.3  \n",
       "4                      2               0                0              96.3  \n",
       "\n",
       "[5 rows x 23 columns]"
      ]
     },
     "execution_count": 13,
     "metadata": {},
     "output_type": "execute_result"
    }
   ],
   "source": [
    "# All parameter/day parameter/Rt/OxCGRT\n",
    "analyser.track().head()"
   ]
  },
  {
   "cell_type": "markdown",
   "metadata": {},
   "source": [
    "### $Rt$: Reprodcution number $\\mathrm{[-]}$"
   ]
  },
  {
   "cell_type": "code",
   "execution_count": 14,
   "metadata": {
    "collapsed": false
   },
   "outputs": [
    {
     "data": {
      "image/png": "[encoded data removed]",
      "text/plain": [
       "<Figure size 648x432 with 1 Axes>"
      ]
     },
     "metadata": {},
     "output_type": "display_data"
    },
    {
     "data": {
      "text/html": [
       "<div>\n",
       "<style scoped>\n",
       "    .dataframe tbody tr th:only-of-type {\n",
       "        vertical-align: middle;\n",
       "    }\n",
       "\n",
       "    .dataframe tbody tr th {\n",
       "        vertical-align: top;\n",
       "    }\n",
       "\n",
       "    .dataframe thead th {\n",
       "        text-align: right;\n",
       "    }\n",
       "</style>\n",
       "<table border=\"1\" class=\"dataframe\">\n",
       "  <thead>\n",
       "    <tr style=\"text-align: right;\">\n",
       "      <th>Country</th>\n",
       "      <th>Bahrain</th>\n",
       "      <th>Bolivia</th>\n",
       "      <th>Brazil</th>\n",
       "      <th>Iran</th>\n",
       "      <th>Italy</th>\n",
       "      <th>Kuwait</th>\n",
       "      <th>Latvia</th>\n",
       "      <th>Russia</th>\n",
       "      <th>Turkey</th>\n",
       "      <th>United Arab Emirates</th>\n",
       "      <th>United States</th>\n",
       "    </tr>\n",
       "    <tr>\n",
       "      <th>Date</th>\n",
       "      <th></th>\n",
       "      <th></th>\n",
       "      <th></th>\n",
       "      <th></th>\n",
       "      <th></th>\n",
       "      <th></th>\n",
       "      <th></th>\n",
       "      <th></th>\n",
       "      <th></th>\n",
       "      <th></th>\n",
       "      <th></th>\n",
       "    </tr>\n",
       "  </thead>\n",
       "  <tbody>\n",
       "    <tr>\n",
       "      <th>2020-10-07</th>\n",
       "      <td>0.81</td>\n",
       "      <td>0.62</td>\n",
       "      <td>0.96</td>\n",
       "      <td>1.53</td>\n",
       "      <td>3.28</td>\n",
       "      <td>0.91</td>\n",
       "      <td>311.38</td>\n",
       "      <td>1.7</td>\n",
       "      <td>1.33</td>\n",
       "      <td>0.94</td>\n",
       "      <td>2.05</td>\n",
       "    </tr>\n",
       "    <tr>\n",
       "      <th>2020-10-08</th>\n",
       "      <td>0.81</td>\n",
       "      <td>0.62</td>\n",
       "      <td>0.96</td>\n",
       "      <td>1.53</td>\n",
       "      <td>3.28</td>\n",
       "      <td>0.91</td>\n",
       "      <td>311.38</td>\n",
       "      <td>1.7</td>\n",
       "      <td>1.33</td>\n",
       "      <td>0.94</td>\n",
       "      <td>2.05</td>\n",
       "    </tr>\n",
       "    <tr>\n",
       "      <th>2020-10-09</th>\n",
       "      <td>0.81</td>\n",
       "      <td>0.62</td>\n",
       "      <td>0.96</td>\n",
       "      <td>1.53</td>\n",
       "      <td>3.28</td>\n",
       "      <td>0.91</td>\n",
       "      <td>311.38</td>\n",
       "      <td>1.7</td>\n",
       "      <td>1.33</td>\n",
       "      <td>0.94</td>\n",
       "      <td>2.05</td>\n",
       "    </tr>\n",
       "    <tr>\n",
       "      <th>2020-10-10</th>\n",
       "      <td>0.81</td>\n",
       "      <td>0.62</td>\n",
       "      <td>0.96</td>\n",
       "      <td>1.53</td>\n",
       "      <td>3.28</td>\n",
       "      <td>0.91</td>\n",
       "      <td>311.38</td>\n",
       "      <td>1.7</td>\n",
       "      <td>1.33</td>\n",
       "      <td>0.94</td>\n",
       "      <td>2.05</td>\n",
       "    </tr>\n",
       "    <tr>\n",
       "      <th>2020-10-11</th>\n",
       "      <td>0.81</td>\n",
       "      <td>0.62</td>\n",
       "      <td>0.96</td>\n",
       "      <td>1.53</td>\n",
       "      <td>3.28</td>\n",
       "      <td>0.91</td>\n",
       "      <td>311.38</td>\n",
       "      <td>1.7</td>\n",
       "      <td>1.33</td>\n",
       "      <td>0.94</td>\n",
       "      <td>2.05</td>\n",
       "    </tr>\n",
       "  </tbody>\n",
       "</table>\n",
       "</div>"
      ],
      "text/plain": [
       "Country     Bahrain  Bolivia  Brazil  Iran  Italy  Kuwait  Latvia  Russia  \\\n",
       "Date                                                                        \n",
       "2020-10-07     0.81     0.62    0.96  1.53   3.28    0.91  311.38     1.7   \n",
       "2020-10-08     0.81     0.62    0.96  1.53   3.28    0.91  311.38     1.7   \n",
       "2020-10-09     0.81     0.62    0.96  1.53   3.28    0.91  311.38     1.7   \n",
       "2020-10-10     0.81     0.62    0.96  1.53   3.28    0.91  311.38     1.7   \n",
       "2020-10-11     0.81     0.62    0.96  1.53   3.28    0.91  311.38     1.7   \n",
       "\n",
       "Country     Turkey  United Arab Emirates  United States  \n",
       "Date                                                     \n",
       "2020-10-07    1.33                  0.94           2.05  \n",
       "2020-10-08    1.33                  0.94           2.05  \n",
       "2020-10-09    1.33                  0.94           2.05  \n",
       "2020-10-10    1.33                  0.94           2.05  \n",
       "2020-10-11    1.33                  0.94           2.05  "
      ]
     },
     "execution_count": 14,
     "metadata": {},
     "output_type": "execute_result"
    }
   ],
   "source": [
    "analyser.param_history(\"Rt\", roll_window=None).tail()"
   ]
  },
  {
   "cell_type": "markdown",
   "metadata": {},
   "source": [
    "### $\\rho$: Effective contact rate $\\mathrm{[-]}$"
   ]
  },
  {
   "cell_type": "code",
   "execution_count": 15,
   "metadata": {
    "collapsed": false
   },
   "outputs": [
    {
     "data": {
      "image/png": "[encoded data removed]",
      "text/plain": [
       "<Figure size 648x432 with 1 Axes>"
      ]
     },
     "metadata": {},
     "output_type": "display_data"
    },
    {
     "data": {
      "text/html": [
       "<div>\n",
       "<style scoped>\n",
       "    .dataframe tbody tr th:only-of-type {\n",
       "        vertical-align: middle;\n",
       "    }\n",
       "\n",
       "    .dataframe tbody tr th {\n",
       "        vertical-align: top;\n",
       "    }\n",
       "\n",
       "    .dataframe thead th {\n",
       "        text-align: right;\n",
       "    }\n",
       "</style>\n",
       "<table border=\"1\" class=\"dataframe\">\n",
       "  <thead>\n",
       "    <tr style=\"text-align: right;\">\n",
       "      <th>Country</th>\n",
       "      <th>Bahrain</th>\n",
       "      <th>Bolivia</th>\n",
       "      <th>Brazil</th>\n",
       "      <th>Iran</th>\n",
       "      <th>Italy</th>\n",
       "      <th>Kuwait</th>\n",
       "      <th>Latvia</th>\n",
       "      <th>Russia</th>\n",
       "      <th>Turkey</th>\n",
       "      <th>United Arab Emirates</th>\n",
       "      <th>United States</th>\n",
       "    </tr>\n",
       "    <tr>\n",
       "      <th>Date</th>\n",
       "      <th></th>\n",
       "      <th></th>\n",
       "      <th></th>\n",
       "      <th></th>\n",
       "      <th></th>\n",
       "      <th></th>\n",
       "      <th></th>\n",
       "      <th></th>\n",
       "      <th></th>\n",
       "      <th></th>\n",
       "      <th></th>\n",
       "    </tr>\n",
       "  </thead>\n",
       "  <tbody>\n",
       "    <tr>\n",
       "      <th>2020-10-07</th>\n",
       "      <td>0.023548</td>\n",
       "      <td>0.002563</td>\n",
       "      <td>0.015734</td>\n",
       "      <td>0.01772</td>\n",
       "      <td>0.013159</td>\n",
       "      <td>0.018885</td>\n",
       "      <td>0.007769</td>\n",
       "      <td>0.002296</td>\n",
       "      <td>0.016479</td>\n",
       "      <td>0.027642</td>\n",
       "      <td>0.002817</td>\n",
       "    </tr>\n",
       "    <tr>\n",
       "      <th>2020-10-08</th>\n",
       "      <td>0.023548</td>\n",
       "      <td>0.002563</td>\n",
       "      <td>0.015734</td>\n",
       "      <td>0.01772</td>\n",
       "      <td>0.013159</td>\n",
       "      <td>0.018885</td>\n",
       "      <td>0.007769</td>\n",
       "      <td>0.002296</td>\n",
       "      <td>0.016479</td>\n",
       "      <td>0.027642</td>\n",
       "      <td>0.002817</td>\n",
       "    </tr>\n",
       "    <tr>\n",
       "      <th>2020-10-09</th>\n",
       "      <td>0.023548</td>\n",
       "      <td>0.002563</td>\n",
       "      <td>0.015734</td>\n",
       "      <td>0.01772</td>\n",
       "      <td>0.013159</td>\n",
       "      <td>0.018885</td>\n",
       "      <td>0.007769</td>\n",
       "      <td>0.002296</td>\n",
       "      <td>0.016479</td>\n",
       "      <td>0.027642</td>\n",
       "      <td>0.002817</td>\n",
       "    </tr>\n",
       "    <tr>\n",
       "      <th>2020-10-10</th>\n",
       "      <td>0.023548</td>\n",
       "      <td>0.002563</td>\n",
       "      <td>0.015734</td>\n",
       "      <td>0.01772</td>\n",
       "      <td>0.013159</td>\n",
       "      <td>0.018885</td>\n",
       "      <td>0.007769</td>\n",
       "      <td>0.002296</td>\n",
       "      <td>0.016479</td>\n",
       "      <td>0.027642</td>\n",
       "      <td>0.002817</td>\n",
       "    </tr>\n",
       "    <tr>\n",
       "      <th>2020-10-11</th>\n",
       "      <td>0.023548</td>\n",
       "      <td>0.002563</td>\n",
       "      <td>0.015734</td>\n",
       "      <td>0.01772</td>\n",
       "      <td>0.013159</td>\n",
       "      <td>0.018885</td>\n",
       "      <td>0.007769</td>\n",
       "      <td>0.002296</td>\n",
       "      <td>0.016479</td>\n",
       "      <td>0.027642</td>\n",
       "      <td>0.002817</td>\n",
       "    </tr>\n",
       "  </tbody>\n",
       "</table>\n",
       "</div>"
      ],
      "text/plain": [
       "Country      Bahrain   Bolivia    Brazil     Iran     Italy    Kuwait  \\\n",
       "Date                                                                    \n",
       "2020-10-07  0.023548  0.002563  0.015734  0.01772  0.013159  0.018885   \n",
       "2020-10-08  0.023548  0.002563  0.015734  0.01772  0.013159  0.018885   \n",
       "2020-10-09  0.023548  0.002563  0.015734  0.01772  0.013159  0.018885   \n",
       "2020-10-10  0.023548  0.002563  0.015734  0.01772  0.013159  0.018885   \n",
       "2020-10-11  0.023548  0.002563  0.015734  0.01772  0.013159  0.018885   \n",
       "\n",
       "Country       Latvia    Russia    Turkey  United Arab Emirates  United States  \n",
       "Date                                                                           \n",
       "2020-10-07  0.007769  0.002296  0.016479              0.027642       0.002817  \n",
       "2020-10-08  0.007769  0.002296  0.016479              0.027642       0.002817  \n",
       "2020-10-09  0.007769  0.002296  0.016479              0.027642       0.002817  \n",
       "2020-10-10  0.007769  0.002296  0.016479              0.027642       0.002817  \n",
       "2020-10-11  0.007769  0.002296  0.016479              0.027642       0.002817  "
      ]
     },
     "execution_count": 15,
     "metadata": {},
     "output_type": "execute_result"
    }
   ],
   "source": [
    "analyser.param_history(\"rho\", roll_window=None).tail()"
   ]
  },
  {
   "cell_type": "markdown",
   "metadata": {},
   "source": [
    "### $\\sigma$: Recovery rate $\\mathrm{[-]}$"
   ]
  },
  {
   "cell_type": "code",
   "execution_count": 16,
   "metadata": {
    "collapsed": false
   },
   "outputs": [
    {
     "data": {
      "image/png": "[encoded data removed]",
      "text/plain": [
       "<Figure size 648x432 with 1 Axes>"
      ]
     },
     "metadata": {},
     "output_type": "display_data"
    },
    {
     "data": {
      "text/html": [
       "<div>\n",
       "<style scoped>\n",
       "    .dataframe tbody tr th:only-of-type {\n",
       "        vertical-align: middle;\n",
       "    }\n",
       "\n",
       "    .dataframe tbody tr th {\n",
       "        vertical-align: top;\n",
       "    }\n",
       "\n",
       "    .dataframe thead th {\n",
       "        text-align: right;\n",
       "    }\n",
       "</style>\n",
       "<table border=\"1\" class=\"dataframe\">\n",
       "  <thead>\n",
       "    <tr style=\"text-align: right;\">\n",
       "      <th>Country</th>\n",
       "      <th>Bahrain</th>\n",
       "      <th>Bolivia</th>\n",
       "      <th>Brazil</th>\n",
       "      <th>Iran</th>\n",
       "      <th>Italy</th>\n",
       "      <th>Kuwait</th>\n",
       "      <th>Latvia</th>\n",
       "      <th>Russia</th>\n",
       "      <th>Turkey</th>\n",
       "      <th>United Arab Emirates</th>\n",
       "      <th>United States</th>\n",
       "    </tr>\n",
       "    <tr>\n",
       "      <th>Date</th>\n",
       "      <th></th>\n",
       "      <th></th>\n",
       "      <th></th>\n",
       "      <th></th>\n",
       "      <th></th>\n",
       "      <th></th>\n",
       "      <th></th>\n",
       "      <th></th>\n",
       "      <th></th>\n",
       "      <th></th>\n",
       "      <th></th>\n",
       "    </tr>\n",
       "  </thead>\n",
       "  <tbody>\n",
       "    <tr>\n",
       "      <th>2020-10-07</th>\n",
       "      <td>0.028786</td>\n",
       "      <td>0.00376</td>\n",
       "      <td>0.015857</td>\n",
       "      <td>0.010838</td>\n",
       "      <td>0.003941</td>\n",
       "      <td>0.020585</td>\n",
       "      <td>0.0</td>\n",
       "      <td>0.001314</td>\n",
       "      <td>0.01181</td>\n",
       "      <td>0.029244</td>\n",
       "      <td>0.001343</td>\n",
       "    </tr>\n",
       "    <tr>\n",
       "      <th>2020-10-08</th>\n",
       "      <td>0.028786</td>\n",
       "      <td>0.00376</td>\n",
       "      <td>0.015857</td>\n",
       "      <td>0.010838</td>\n",
       "      <td>0.003941</td>\n",
       "      <td>0.020585</td>\n",
       "      <td>0.0</td>\n",
       "      <td>0.001314</td>\n",
       "      <td>0.01181</td>\n",
       "      <td>0.029244</td>\n",
       "      <td>0.001343</td>\n",
       "    </tr>\n",
       "    <tr>\n",
       "      <th>2020-10-09</th>\n",
       "      <td>0.028786</td>\n",
       "      <td>0.00376</td>\n",
       "      <td>0.015857</td>\n",
       "      <td>0.010838</td>\n",
       "      <td>0.003941</td>\n",
       "      <td>0.020585</td>\n",
       "      <td>0.0</td>\n",
       "      <td>0.001314</td>\n",
       "      <td>0.01181</td>\n",
       "      <td>0.029244</td>\n",
       "      <td>0.001343</td>\n",
       "    </tr>\n",
       "    <tr>\n",
       "      <th>2020-10-10</th>\n",
       "      <td>0.028786</td>\n",
       "      <td>0.00376</td>\n",
       "      <td>0.015857</td>\n",
       "      <td>0.010838</td>\n",
       "      <td>0.003941</td>\n",
       "      <td>0.020585</td>\n",
       "      <td>0.0</td>\n",
       "      <td>0.001314</td>\n",
       "      <td>0.01181</td>\n",
       "      <td>0.029244</td>\n",
       "      <td>0.001343</td>\n",
       "    </tr>\n",
       "    <tr>\n",
       "      <th>2020-10-11</th>\n",
       "      <td>0.028786</td>\n",
       "      <td>0.00376</td>\n",
       "      <td>0.015857</td>\n",
       "      <td>0.010838</td>\n",
       "      <td>0.003941</td>\n",
       "      <td>0.020585</td>\n",
       "      <td>0.0</td>\n",
       "      <td>0.001314</td>\n",
       "      <td>0.01181</td>\n",
       "      <td>0.029244</td>\n",
       "      <td>0.001343</td>\n",
       "    </tr>\n",
       "  </tbody>\n",
       "</table>\n",
       "</div>"
      ],
      "text/plain": [
       "Country      Bahrain  Bolivia    Brazil      Iran     Italy    Kuwait  Latvia  \\\n",
       "Date                                                                            \n",
       "2020-10-07  0.028786  0.00376  0.015857  0.010838  0.003941  0.020585     0.0   \n",
       "2020-10-08  0.028786  0.00376  0.015857  0.010838  0.003941  0.020585     0.0   \n",
       "2020-10-09  0.028786  0.00376  0.015857  0.010838  0.003941  0.020585     0.0   \n",
       "2020-10-10  0.028786  0.00376  0.015857  0.010838  0.003941  0.020585     0.0   \n",
       "2020-10-11  0.028786  0.00376  0.015857  0.010838  0.003941  0.020585     0.0   \n",
       "\n",
       "Country       Russia   Turkey  United Arab Emirates  United States  \n",
       "Date                                                                \n",
       "2020-10-07  0.001314  0.01181              0.029244       0.001343  \n",
       "2020-10-08  0.001314  0.01181              0.029244       0.001343  \n",
       "2020-10-09  0.001314  0.01181              0.029244       0.001343  \n",
       "2020-10-10  0.001314  0.01181              0.029244       0.001343  \n",
       "2020-10-11  0.001314  0.01181              0.029244       0.001343  "
      ]
     },
     "execution_count": 16,
     "metadata": {},
     "output_type": "execute_result"
    }
   ],
   "source": [
    "analyser.param_history(\"sigma\", roll_window=None).tail()"
   ]
  },
  {
   "cell_type": "markdown",
   "metadata": {},
   "source": [
    "### $\\kappa$: Mortality rate of infected cases $\\mathrm{[-]}$"
   ]
  },
  {
   "cell_type": "code",
   "execution_count": 17,
   "metadata": {
    "collapsed": false
   },
   "outputs": [
    {
     "data": {
      "image/png": "[encoded data removed]",
      "text/plain": [
       "<Figure size 648x432 with 1 Axes>"
      ]
     },
     "metadata": {},
     "output_type": "display_data"
    },
    {
     "data": {
      "text/html": [
       "<div>\n",
       "<style scoped>\n",
       "    .dataframe tbody tr th:only-of-type {\n",
       "        vertical-align: middle;\n",
       "    }\n",
       "\n",
       "    .dataframe tbody tr th {\n",
       "        vertical-align: top;\n",
       "    }\n",
       "\n",
       "    .dataframe thead th {\n",
       "        text-align: right;\n",
       "    }\n",
       "</style>\n",
       "<table border=\"1\" class=\"dataframe\">\n",
       "  <thead>\n",
       "    <tr style=\"text-align: right;\">\n",
       "      <th>Country</th>\n",
       "      <th>Bahrain</th>\n",
       "      <th>Bolivia</th>\n",
       "      <th>Brazil</th>\n",
       "      <th>Iran</th>\n",
       "      <th>Italy</th>\n",
       "      <th>Kuwait</th>\n",
       "      <th>Latvia</th>\n",
       "      <th>Russia</th>\n",
       "      <th>Turkey</th>\n",
       "      <th>United Arab Emirates</th>\n",
       "      <th>United States</th>\n",
       "    </tr>\n",
       "    <tr>\n",
       "      <th>Date</th>\n",
       "      <th></th>\n",
       "      <th></th>\n",
       "      <th></th>\n",
       "      <th></th>\n",
       "      <th></th>\n",
       "      <th></th>\n",
       "      <th></th>\n",
       "      <th></th>\n",
       "      <th></th>\n",
       "      <th></th>\n",
       "      <th></th>\n",
       "    </tr>\n",
       "  </thead>\n",
       "  <tbody>\n",
       "    <tr>\n",
       "      <th>2020-10-07</th>\n",
       "      <td>0.000096</td>\n",
       "      <td>0.000014</td>\n",
       "      <td>0.00045</td>\n",
       "      <td>0.000236</td>\n",
       "      <td>0.000071</td>\n",
       "      <td>0.000072</td>\n",
       "      <td>0.000025</td>\n",
       "      <td>0.000031</td>\n",
       "      <td>0.000516</td>\n",
       "      <td>0.000031</td>\n",
       "      <td>0.000002</td>\n",
       "    </tr>\n",
       "    <tr>\n",
       "      <th>2020-10-08</th>\n",
       "      <td>0.000096</td>\n",
       "      <td>0.000014</td>\n",
       "      <td>0.00045</td>\n",
       "      <td>0.000236</td>\n",
       "      <td>0.000071</td>\n",
       "      <td>0.000072</td>\n",
       "      <td>0.000025</td>\n",
       "      <td>0.000031</td>\n",
       "      <td>0.000516</td>\n",
       "      <td>0.000031</td>\n",
       "      <td>0.000002</td>\n",
       "    </tr>\n",
       "    <tr>\n",
       "      <th>2020-10-09</th>\n",
       "      <td>0.000096</td>\n",
       "      <td>0.000014</td>\n",
       "      <td>0.00045</td>\n",
       "      <td>0.000236</td>\n",
       "      <td>0.000071</td>\n",
       "      <td>0.000072</td>\n",
       "      <td>0.000025</td>\n",
       "      <td>0.000031</td>\n",
       "      <td>0.000516</td>\n",
       "      <td>0.000031</td>\n",
       "      <td>0.000002</td>\n",
       "    </tr>\n",
       "    <tr>\n",
       "      <th>2020-10-10</th>\n",
       "      <td>0.000096</td>\n",
       "      <td>0.000014</td>\n",
       "      <td>0.00045</td>\n",
       "      <td>0.000236</td>\n",
       "      <td>0.000071</td>\n",
       "      <td>0.000072</td>\n",
       "      <td>0.000025</td>\n",
       "      <td>0.000031</td>\n",
       "      <td>0.000516</td>\n",
       "      <td>0.000031</td>\n",
       "      <td>0.000002</td>\n",
       "    </tr>\n",
       "    <tr>\n",
       "      <th>2020-10-11</th>\n",
       "      <td>0.000096</td>\n",
       "      <td>0.000014</td>\n",
       "      <td>0.00045</td>\n",
       "      <td>0.000236</td>\n",
       "      <td>0.000071</td>\n",
       "      <td>0.000072</td>\n",
       "      <td>0.000025</td>\n",
       "      <td>0.000031</td>\n",
       "      <td>0.000516</td>\n",
       "      <td>0.000031</td>\n",
       "      <td>0.000002</td>\n",
       "    </tr>\n",
       "  </tbody>\n",
       "</table>\n",
       "</div>"
      ],
      "text/plain": [
       "Country      Bahrain   Bolivia   Brazil      Iran     Italy    Kuwait  \\\n",
       "Date                                                                    \n",
       "2020-10-07  0.000096  0.000014  0.00045  0.000236  0.000071  0.000072   \n",
       "2020-10-08  0.000096  0.000014  0.00045  0.000236  0.000071  0.000072   \n",
       "2020-10-09  0.000096  0.000014  0.00045  0.000236  0.000071  0.000072   \n",
       "2020-10-10  0.000096  0.000014  0.00045  0.000236  0.000071  0.000072   \n",
       "2020-10-11  0.000096  0.000014  0.00045  0.000236  0.000071  0.000072   \n",
       "\n",
       "Country       Latvia    Russia    Turkey  United Arab Emirates  United States  \n",
       "Date                                                                           \n",
       "2020-10-07  0.000025  0.000031  0.000516              0.000031       0.000002  \n",
       "2020-10-08  0.000025  0.000031  0.000516              0.000031       0.000002  \n",
       "2020-10-09  0.000025  0.000031  0.000516              0.000031       0.000002  \n",
       "2020-10-10  0.000025  0.000031  0.000516              0.000031       0.000002  \n",
       "2020-10-11  0.000025  0.000031  0.000516              0.000031       0.000002  "
      ]
     },
     "execution_count": 17,
     "metadata": {},
     "output_type": "execute_result"
    }
   ],
   "source": [
    "analyser.param_history(\"kappa\", roll_window=None).tail()"
   ]
  },
  {
   "cell_type": "markdown",
   "metadata": {},
   "source": [
    "### $\\theta$: Mortality rate of S$^\\ast$ cases $\\mathrm{[-]}$"
   ]
  },
  {
   "cell_type": "code",
   "execution_count": 18,
   "metadata": {
    "collapsed": false
   },
   "outputs": [
    {
     "data": {
      "image/png": "[encoded data removed]",
      "text/plain": [
       "<Figure size 648x432 with 1 Axes>"
      ]
     },
     "metadata": {},
     "output_type": "display_data"
    },
    {
     "data": {
      "text/html": [
       "<div>\n",
       "<style scoped>\n",
       "    .dataframe tbody tr th:only-of-type {\n",
       "        vertical-align: middle;\n",
       "    }\n",
       "\n",
       "    .dataframe tbody tr th {\n",
       "        vertical-align: top;\n",
       "    }\n",
       "\n",
       "    .dataframe thead th {\n",
       "        text-align: right;\n",
       "    }\n",
       "</style>\n",
       "<table border=\"1\" class=\"dataframe\">\n",
       "  <thead>\n",
       "    <tr style=\"text-align: right;\">\n",
       "      <th>Country</th>\n",
       "      <th>Bahrain</th>\n",
       "      <th>Bolivia</th>\n",
       "      <th>Brazil</th>\n",
       "      <th>Iran</th>\n",
       "      <th>Italy</th>\n",
       "      <th>Kuwait</th>\n",
       "      <th>Latvia</th>\n",
       "      <th>Russia</th>\n",
       "      <th>Turkey</th>\n",
       "      <th>United Arab Emirates</th>\n",
       "      <th>United States</th>\n",
       "    </tr>\n",
       "    <tr>\n",
       "      <th>Date</th>\n",
       "      <th></th>\n",
       "      <th></th>\n",
       "      <th></th>\n",
       "      <th></th>\n",
       "      <th></th>\n",
       "      <th></th>\n",
       "      <th></th>\n",
       "      <th></th>\n",
       "      <th></th>\n",
       "      <th></th>\n",
       "      <th></th>\n",
       "    </tr>\n",
       "  </thead>\n",
       "  <tbody>\n",
       "    <tr>\n",
       "      <th>2020-10-07</th>\n",
       "      <td>0.000514</td>\n",
       "      <td>0.084087</td>\n",
       "      <td>0.000234</td>\n",
       "      <td>0.041204</td>\n",
       "      <td>0.000928</td>\n",
       "      <td>0.000629</td>\n",
       "      <td>0.001247</td>\n",
       "      <td>0.002424</td>\n",
       "      <td>0.004787</td>\n",
       "      <td>0.000938</td>\n",
       "      <td>0.02152</td>\n",
       "    </tr>\n",
       "    <tr>\n",
       "      <th>2020-10-08</th>\n",
       "      <td>0.000514</td>\n",
       "      <td>0.084087</td>\n",
       "      <td>0.000234</td>\n",
       "      <td>0.041204</td>\n",
       "      <td>0.000928</td>\n",
       "      <td>0.000629</td>\n",
       "      <td>0.001247</td>\n",
       "      <td>0.002424</td>\n",
       "      <td>0.004787</td>\n",
       "      <td>0.000938</td>\n",
       "      <td>0.02152</td>\n",
       "    </tr>\n",
       "    <tr>\n",
       "      <th>2020-10-09</th>\n",
       "      <td>0.000514</td>\n",
       "      <td>0.084087</td>\n",
       "      <td>0.000234</td>\n",
       "      <td>0.041204</td>\n",
       "      <td>0.000928</td>\n",
       "      <td>0.000629</td>\n",
       "      <td>0.001247</td>\n",
       "      <td>0.002424</td>\n",
       "      <td>0.004787</td>\n",
       "      <td>0.000938</td>\n",
       "      <td>0.02152</td>\n",
       "    </tr>\n",
       "    <tr>\n",
       "      <th>2020-10-10</th>\n",
       "      <td>0.000514</td>\n",
       "      <td>0.084087</td>\n",
       "      <td>0.000234</td>\n",
       "      <td>0.041204</td>\n",
       "      <td>0.000928</td>\n",
       "      <td>0.000629</td>\n",
       "      <td>0.001247</td>\n",
       "      <td>0.002424</td>\n",
       "      <td>0.004787</td>\n",
       "      <td>0.000938</td>\n",
       "      <td>0.02152</td>\n",
       "    </tr>\n",
       "    <tr>\n",
       "      <th>2020-10-11</th>\n",
       "      <td>0.000514</td>\n",
       "      <td>0.084087</td>\n",
       "      <td>0.000234</td>\n",
       "      <td>0.041204</td>\n",
       "      <td>0.000928</td>\n",
       "      <td>0.000629</td>\n",
       "      <td>0.001247</td>\n",
       "      <td>0.002424</td>\n",
       "      <td>0.004787</td>\n",
       "      <td>0.000938</td>\n",
       "      <td>0.02152</td>\n",
       "    </tr>\n",
       "  </tbody>\n",
       "</table>\n",
       "</div>"
      ],
      "text/plain": [
       "Country      Bahrain   Bolivia    Brazil      Iran     Italy    Kuwait  \\\n",
       "Date                                                                     \n",
       "2020-10-07  0.000514  0.084087  0.000234  0.041204  0.000928  0.000629   \n",
       "2020-10-08  0.000514  0.084087  0.000234  0.041204  0.000928  0.000629   \n",
       "2020-10-09  0.000514  0.084087  0.000234  0.041204  0.000928  0.000629   \n",
       "2020-10-10  0.000514  0.084087  0.000234  0.041204  0.000928  0.000629   \n",
       "2020-10-11  0.000514  0.084087  0.000234  0.041204  0.000928  0.000629   \n",
       "\n",
       "Country       Latvia    Russia    Turkey  United Arab Emirates  United States  \n",
       "Date                                                                           \n",
       "2020-10-07  0.001247  0.002424  0.004787              0.000938        0.02152  \n",
       "2020-10-08  0.001247  0.002424  0.004787              0.000938        0.02152  \n",
       "2020-10-09  0.001247  0.002424  0.004787              0.000938        0.02152  \n",
       "2020-10-10  0.001247  0.002424  0.004787              0.000938        0.02152  \n",
       "2020-10-11  0.001247  0.002424  0.004787              0.000938        0.02152  "
      ]
     },
     "execution_count": 18,
     "metadata": {},
     "output_type": "execute_result"
    }
   ],
   "source": [
    "analyser.param_history(\"theta\", roll_window=None).tail()"
   ]
  },
  {
   "cell_type": "markdown",
   "metadata": {},
   "source": [
    "## (Experimental): Relationship of OxCGRT index and parameter values\n",
    "Government responses will impact on parameter values of ODE models about 14 days later. Here, we will investigate on the relationship of [stringency index (from OxCGRT)](https://github.com/OxCGRT/covid-policy-tracker/blob/master/documentation/index_methodology.md) and reproduction number/model parameters.\n"
   ]
  },
  {
   "cell_type": "code",
   "execution_count": 19,
   "metadata": {
    "collapsed": false
   },
   "outputs": [],
   "source": [
    "%matplotlib inline\n",
    "from matplotlib import pyplot as plt\n",
    "import seaborn as sns\n",
    "import pandas as pd"
   ]
  },
  {
   "cell_type": "code",
   "execution_count": 20,
   "metadata": {
    "collapsed": false
   },
   "outputs": [
    {
     "name": "stdout",
     "output_type": "stream",
     "text": [
      "<class 'pandas.core.frame.DataFrame'>\n",
      "Int64Index: 67284 entries, 0 to 67423\n",
      "Data columns (total 19 columns):\n",
      " #   Column                               Non-Null Count  Dtype         \n",
      "---  ------                               --------------  -----         \n",
      " 0   Date                                 67284 non-null  datetime64[ns]\n",
      " 1   Country                              67284 non-null  object        \n",
      " 2   Rt                                   67284 non-null  float64       \n",
      " 3   theta                                67284 non-null  float64       \n",
      " 4   kappa                                67284 non-null  float64       \n",
      " 5   rho                                  67284 non-null  float64       \n",
      " 6   sigma                                67284 non-null  float64       \n",
      " 7   School_closing                       67284 non-null  int64         \n",
      " 8   Workplace_closing                    67284 non-null  int64         \n",
      " 9   Cancel_events                        67284 non-null  int64         \n",
      " 10  Gatherings_restrictions              67284 non-null  int64         \n",
      " 11  Transport_closing                    67284 non-null  int64         \n",
      " 12  Stay_home_restrictions               67284 non-null  int64         \n",
      " 13  Internal_movement_restrictions       67284 non-null  int64         \n",
      " 14  International_movement_restrictions  67284 non-null  int64         \n",
      " 15  Information_campaigns                67284 non-null  int64         \n",
      " 16  Testing_policy                       67284 non-null  int64         \n",
      " 17  Contact_tracing                      67284 non-null  int64         \n",
      " 18  Stringency_index                     67284 non-null  float64       \n",
      "dtypes: datetime64[ns](1), float64(6), int64(11), object(1)\n",
      "memory usage: 10.3+ MB\n"
     ]
    }
   ],
   "source": [
    "df = analyser.track()\n",
    "param_cols = [\"Rt\", *cs.SIRF.PARAMETERS]\n",
    "oxcgrt_cols = oxcgrt_data.OXCGRT_VARS[:]\n",
    "cols = param_cols + oxcgrt_cols\n",
    "delay = 14\n",
    "\n",
    "for col in param_cols:\n",
    "    df[col] = pd.to_numeric(df[col], errors=\"coerce\")\n",
    "    df[col] = df.groupby(\"Country\")[col].shift(0 - delay)\n",
    "\n",
    "df = df.dropna(how=\"any\")\n",
    "df = df.loc[:, [\"Date\", \"Country\", *cols]]\n",
    "track_df = df.copy()\n",
    "track_df.info()"
   ]
  },
  {
   "cell_type": "code",
   "execution_count": 21,
   "metadata": {
    "collapsed": false
   },
   "outputs": [
    {
     "data": {
      "text/html": [
       "<style  type=\"text/css\" >\n",
       "#T_590bcace_0baf_11eb_ac84_525400f2e32erow0_col0,#T_590bcace_0baf_11eb_ac84_525400f2e32erow1_col1,#T_590bcace_0baf_11eb_ac84_525400f2e32erow2_col2,#T_590bcace_0baf_11eb_ac84_525400f2e32erow3_col3,#T_590bcace_0baf_11eb_ac84_525400f2e32erow4_col4,#T_590bcace_0baf_11eb_ac84_525400f2e32erow5_col5,#T_590bcace_0baf_11eb_ac84_525400f2e32erow6_col6,#T_590bcace_0baf_11eb_ac84_525400f2e32erow7_col7,#T_590bcace_0baf_11eb_ac84_525400f2e32erow8_col8,#T_590bcace_0baf_11eb_ac84_525400f2e32erow9_col9,#T_590bcace_0baf_11eb_ac84_525400f2e32erow10_col10,#T_590bcace_0baf_11eb_ac84_525400f2e32erow11_col11,#T_590bcace_0baf_11eb_ac84_525400f2e32erow12_col12,#T_590bcace_0baf_11eb_ac84_525400f2e32erow13_col13,#T_590bcace_0baf_11eb_ac84_525400f2e32erow14_col14,#T_590bcace_0baf_11eb_ac84_525400f2e32erow15_col15,#T_590bcace_0baf_11eb_ac84_525400f2e32erow16_col16{\n",
       "            background-color:  #023858;\n",
       "            color:  #f1f1f1;\n",
       "        }#T_590bcace_0baf_11eb_ac84_525400f2e32erow0_col1,#T_590bcace_0baf_11eb_ac84_525400f2e32erow1_col0{\n",
       "            background-color:  #e0deed;\n",
       "            color:  #000000;\n",
       "        }#T_590bcace_0baf_11eb_ac84_525400f2e32erow0_col2,#T_590bcace_0baf_11eb_ac84_525400f2e32erow2_col0{\n",
       "            background-color:  #dbdaeb;\n",
       "            color:  #000000;\n",
       "        }#T_590bcace_0baf_11eb_ac84_525400f2e32erow0_col3,#T_590bcace_0baf_11eb_ac84_525400f2e32erow3_col0{\n",
       "            background-color:  #76aad0;\n",
       "            color:  #000000;\n",
       "        }#T_590bcace_0baf_11eb_ac84_525400f2e32erow0_col4,#T_590bcace_0baf_11eb_ac84_525400f2e32erow4_col0{\n",
       "            background-color:  #f0eaf4;\n",
       "            color:  #000000;\n",
       "        }#T_590bcace_0baf_11eb_ac84_525400f2e32erow0_col5,#T_590bcace_0baf_11eb_ac84_525400f2e32erow5_col0{\n",
       "            background-color:  #f5eff6;\n",
       "            color:  #000000;\n",
       "        }#T_590bcace_0baf_11eb_ac84_525400f2e32erow0_col6,#T_590bcace_0baf_11eb_ac84_525400f2e32erow0_col8,#T_590bcace_0baf_11eb_ac84_525400f2e32erow6_col0,#T_590bcace_0baf_11eb_ac84_525400f2e32erow8_col0{\n",
       "            background-color:  #dfddec;\n",
       "            color:  #000000;\n",
       "        }#T_590bcace_0baf_11eb_ac84_525400f2e32erow0_col7,#T_590bcace_0baf_11eb_ac84_525400f2e32erow7_col0{\n",
       "            background-color:  #e9e5f1;\n",
       "            color:  #000000;\n",
       "        }#T_590bcace_0baf_11eb_ac84_525400f2e32erow0_col9,#T_590bcace_0baf_11eb_ac84_525400f2e32erow9_col0{\n",
       "            background-color:  #ede7f2;\n",
       "            color:  #000000;\n",
       "        }#T_590bcace_0baf_11eb_ac84_525400f2e32erow0_col10,#T_590bcace_0baf_11eb_ac84_525400f2e32erow1_col14,#T_590bcace_0baf_11eb_ac84_525400f2e32erow2_col14,#T_590bcace_0baf_11eb_ac84_525400f2e32erow10_col0,#T_590bcace_0baf_11eb_ac84_525400f2e32erow14_col1,#T_590bcace_0baf_11eb_ac84_525400f2e32erow14_col2{\n",
       "            background-color:  #e7e3f0;\n",
       "            color:  #000000;\n",
       "        }#T_590bcace_0baf_11eb_ac84_525400f2e32erow0_col11,#T_590bcace_0baf_11eb_ac84_525400f2e32erow2_col13,#T_590bcace_0baf_11eb_ac84_525400f2e32erow11_col0,#T_590bcace_0baf_11eb_ac84_525400f2e32erow13_col2{\n",
       "            background-color:  #f7f0f7;\n",
       "            color:  #000000;\n",
       "        }#T_590bcace_0baf_11eb_ac84_525400f2e32erow0_col12,#T_590bcace_0baf_11eb_ac84_525400f2e32erow12_col0{\n",
       "            background-color:  #e5e1ef;\n",
       "            color:  #000000;\n",
       "        }#T_590bcace_0baf_11eb_ac84_525400f2e32erow0_col13,#T_590bcace_0baf_11eb_ac84_525400f2e32erow2_col9,#T_590bcace_0baf_11eb_ac84_525400f2e32erow9_col2,#T_590bcace_0baf_11eb_ac84_525400f2e32erow13_col0{\n",
       "            background-color:  #d0d1e6;\n",
       "            color:  #000000;\n",
       "        }#T_590bcace_0baf_11eb_ac84_525400f2e32erow0_col14,#T_590bcace_0baf_11eb_ac84_525400f2e32erow14_col0{\n",
       "            background-color:  #e4e1ef;\n",
       "            color:  #000000;\n",
       "        }#T_590bcace_0baf_11eb_ac84_525400f2e32erow0_col15,#T_590bcace_0baf_11eb_ac84_525400f2e32erow15_col0{\n",
       "            background-color:  #d9d8ea;\n",
       "            color:  #000000;\n",
       "        }#T_590bcace_0baf_11eb_ac84_525400f2e32erow0_col16,#T_590bcace_0baf_11eb_ac84_525400f2e32erow3_col15,#T_590bcace_0baf_11eb_ac84_525400f2e32erow15_col3,#T_590bcace_0baf_11eb_ac84_525400f2e32erow16_col0{\n",
       "            background-color:  #ebe6f2;\n",
       "            color:  #000000;\n",
       "        }#T_590bcace_0baf_11eb_ac84_525400f2e32erow1_col2,#T_590bcace_0baf_11eb_ac84_525400f2e32erow2_col1{\n",
       "            background-color:  #023b5d;\n",
       "            color:  #f1f1f1;\n",
       "        }#T_590bcace_0baf_11eb_ac84_525400f2e32erow1_col3,#T_590bcace_0baf_11eb_ac84_525400f2e32erow3_col1{\n",
       "            background-color:  #056dac;\n",
       "            color:  #f1f1f1;\n",
       "        }#T_590bcace_0baf_11eb_ac84_525400f2e32erow1_col4,#T_590bcace_0baf_11eb_ac84_525400f2e32erow4_col1{\n",
       "            background-color:  #b0c2de;\n",
       "            color:  #000000;\n",
       "        }#T_590bcace_0baf_11eb_ac84_525400f2e32erow1_col5,#T_590bcace_0baf_11eb_ac84_525400f2e32erow1_col7,#T_590bcace_0baf_11eb_ac84_525400f2e32erow2_col6,#T_590bcace_0baf_11eb_ac84_525400f2e32erow5_col1,#T_590bcace_0baf_11eb_ac84_525400f2e32erow6_col2,#T_590bcace_0baf_11eb_ac84_525400f2e32erow7_col1{\n",
       "            background-color:  #dad9ea;\n",
       "            color:  #000000;\n",
       "        }#T_590bcace_0baf_11eb_ac84_525400f2e32erow1_col6,#T_590bcace_0baf_11eb_ac84_525400f2e32erow2_col7,#T_590bcace_0baf_11eb_ac84_525400f2e32erow6_col1,#T_590bcace_0baf_11eb_ac84_525400f2e32erow7_col2{\n",
       "            background-color:  #d6d6e9;\n",
       "            color:  #000000;\n",
       "        }#T_590bcace_0baf_11eb_ac84_525400f2e32erow1_col8,#T_590bcace_0baf_11eb_ac84_525400f2e32erow8_col1{\n",
       "            background-color:  #cdd0e5;\n",
       "            color:  #000000;\n",
       "        }#T_590bcace_0baf_11eb_ac84_525400f2e32erow1_col9,#T_590bcace_0baf_11eb_ac84_525400f2e32erow9_col1{\n",
       "            background-color:  #d4d4e8;\n",
       "            color:  #000000;\n",
       "        }#T_590bcace_0baf_11eb_ac84_525400f2e32erow1_col10,#T_590bcace_0baf_11eb_ac84_525400f2e32erow7_col15,#T_590bcace_0baf_11eb_ac84_525400f2e32erow8_col14,#T_590bcace_0baf_11eb_ac84_525400f2e32erow10_col1,#T_590bcace_0baf_11eb_ac84_525400f2e32erow14_col8,#T_590bcace_0baf_11eb_ac84_525400f2e32erow15_col7{\n",
       "            background-color:  #79abd0;\n",
       "            color:  #000000;\n",
       "        }#T_590bcace_0baf_11eb_ac84_525400f2e32erow1_col11,#T_590bcace_0baf_11eb_ac84_525400f2e32erow11_col1{\n",
       "            background-color:  #91b5d6;\n",
       "            color:  #000000;\n",
       "        }#T_590bcace_0baf_11eb_ac84_525400f2e32erow1_col12,#T_590bcace_0baf_11eb_ac84_525400f2e32erow12_col1{\n",
       "            background-color:  #93b5d6;\n",
       "            color:  #000000;\n",
       "        }#T_590bcace_0baf_11eb_ac84_525400f2e32erow1_col13,#T_590bcace_0baf_11eb_ac84_525400f2e32erow13_col1{\n",
       "            background-color:  #f5eef6;\n",
       "            color:  #000000;\n",
       "        }#T_590bcace_0baf_11eb_ac84_525400f2e32erow1_col15,#T_590bcace_0baf_11eb_ac84_525400f2e32erow15_col1{\n",
       "            background-color:  #bcc7e1;\n",
       "            color:  #000000;\n",
       "        }#T_590bcace_0baf_11eb_ac84_525400f2e32erow1_col16,#T_590bcace_0baf_11eb_ac84_525400f2e32erow3_col16,#T_590bcace_0baf_11eb_ac84_525400f2e32erow4_col14,#T_590bcace_0baf_11eb_ac84_525400f2e32erow14_col4,#T_590bcace_0baf_11eb_ac84_525400f2e32erow16_col1,#T_590bcace_0baf_11eb_ac84_525400f2e32erow16_col3{\n",
       "            background-color:  #c2cbe2;\n",
       "            color:  #000000;\n",
       "        }#T_590bcace_0baf_11eb_ac84_525400f2e32erow2_col3,#T_590bcace_0baf_11eb_ac84_525400f2e32erow3_col2,#T_590bcace_0baf_11eb_ac84_525400f2e32erow5_col6,#T_590bcace_0baf_11eb_ac84_525400f2e32erow6_col5{\n",
       "            background-color:  #0569a4;\n",
       "            color:  #f1f1f1;\n",
       "        }#T_590bcace_0baf_11eb_ac84_525400f2e32erow2_col4,#T_590bcace_0baf_11eb_ac84_525400f2e32erow4_col2,#T_590bcace_0baf_11eb_ac84_525400f2e32erow11_col15,#T_590bcace_0baf_11eb_ac84_525400f2e32erow15_col11{\n",
       "            background-color:  #b7c5df;\n",
       "            color:  #000000;\n",
       "        }#T_590bcace_0baf_11eb_ac84_525400f2e32erow2_col5,#T_590bcace_0baf_11eb_ac84_525400f2e32erow5_col2{\n",
       "            background-color:  #dedcec;\n",
       "            color:  #000000;\n",
       "        }#T_590bcace_0baf_11eb_ac84_525400f2e32erow2_col8,#T_590bcace_0baf_11eb_ac84_525400f2e32erow3_col7,#T_590bcace_0baf_11eb_ac84_525400f2e32erow7_col3,#T_590bcace_0baf_11eb_ac84_525400f2e32erow8_col2{\n",
       "            background-color:  #cacee5;\n",
       "            color:  #000000;\n",
       "        }#T_590bcace_0baf_11eb_ac84_525400f2e32erow2_col10,#T_590bcace_0baf_11eb_ac84_525400f2e32erow4_col5,#T_590bcace_0baf_11eb_ac84_525400f2e32erow5_col4,#T_590bcace_0baf_11eb_ac84_525400f2e32erow5_col15,#T_590bcace_0baf_11eb_ac84_525400f2e32erow10_col2,#T_590bcace_0baf_11eb_ac84_525400f2e32erow15_col5{\n",
       "            background-color:  #78abd0;\n",
       "            color:  #000000;\n",
       "        }#T_590bcace_0baf_11eb_ac84_525400f2e32erow2_col11,#T_590bcace_0baf_11eb_ac84_525400f2e32erow2_col12,#T_590bcace_0baf_11eb_ac84_525400f2e32erow11_col2,#T_590bcace_0baf_11eb_ac84_525400f2e32erow12_col2{\n",
       "            background-color:  #86b0d3;\n",
       "            color:  #000000;\n",
       "        }#T_590bcace_0baf_11eb_ac84_525400f2e32erow2_col15,#T_590bcace_0baf_11eb_ac84_525400f2e32erow3_col9,#T_590bcace_0baf_11eb_ac84_525400f2e32erow9_col3,#T_590bcace_0baf_11eb_ac84_525400f2e32erow15_col2{\n",
       "            background-color:  #c6cce3;\n",
       "            color:  #000000;\n",
       "        }#T_590bcace_0baf_11eb_ac84_525400f2e32erow2_col16,#T_590bcace_0baf_11eb_ac84_525400f2e32erow16_col2{\n",
       "            background-color:  #c4cbe3;\n",
       "            color:  #000000;\n",
       "        }#T_590bcace_0baf_11eb_ac84_525400f2e32erow3_col4,#T_590bcace_0baf_11eb_ac84_525400f2e32erow4_col3{\n",
       "            background-color:  #a1bbda;\n",
       "            color:  #000000;\n",
       "        }#T_590bcace_0baf_11eb_ac84_525400f2e32erow3_col5,#T_590bcace_0baf_11eb_ac84_525400f2e32erow5_col3,#T_590bcace_0baf_11eb_ac84_525400f2e32erow9_col15,#T_590bcace_0baf_11eb_ac84_525400f2e32erow15_col9{\n",
       "            background-color:  #dddbec;\n",
       "            color:  #000000;\n",
       "        }#T_590bcace_0baf_11eb_ac84_525400f2e32erow3_col6,#T_590bcace_0baf_11eb_ac84_525400f2e32erow6_col3{\n",
       "            background-color:  #e0dded;\n",
       "            color:  #000000;\n",
       "        }#T_590bcace_0baf_11eb_ac84_525400f2e32erow3_col8,#T_590bcace_0baf_11eb_ac84_525400f2e32erow8_col3{\n",
       "            background-color:  #bfc9e1;\n",
       "            color:  #000000;\n",
       "        }#T_590bcace_0baf_11eb_ac84_525400f2e32erow3_col10,#T_590bcace_0baf_11eb_ac84_525400f2e32erow10_col3{\n",
       "            background-color:  #8bb2d4;\n",
       "            color:  #000000;\n",
       "        }#T_590bcace_0baf_11eb_ac84_525400f2e32erow3_col11,#T_590bcace_0baf_11eb_ac84_525400f2e32erow4_col9,#T_590bcace_0baf_11eb_ac84_525400f2e32erow9_col4,#T_590bcace_0baf_11eb_ac84_525400f2e32erow11_col3{\n",
       "            background-color:  #8cb3d5;\n",
       "            color:  #000000;\n",
       "        }#T_590bcace_0baf_11eb_ac84_525400f2e32erow3_col12,#T_590bcace_0baf_11eb_ac84_525400f2e32erow12_col3{\n",
       "            background-color:  #96b6d7;\n",
       "            color:  #000000;\n",
       "        }#T_590bcace_0baf_11eb_ac84_525400f2e32erow3_col13,#T_590bcace_0baf_11eb_ac84_525400f2e32erow13_col3{\n",
       "            background-color:  #fdf5fa;\n",
       "            color:  #000000;\n",
       "        }#T_590bcace_0baf_11eb_ac84_525400f2e32erow3_col14,#T_590bcace_0baf_11eb_ac84_525400f2e32erow14_col3{\n",
       "            background-color:  #fff7fb;\n",
       "            color:  #000000;\n",
       "        }#T_590bcace_0baf_11eb_ac84_525400f2e32erow4_col6,#T_590bcace_0baf_11eb_ac84_525400f2e32erow6_col4{\n",
       "            background-color:  #b8c6e0;\n",
       "            color:  #000000;\n",
       "        }#T_590bcace_0baf_11eb_ac84_525400f2e32erow4_col7,#T_590bcace_0baf_11eb_ac84_525400f2e32erow4_col11,#T_590bcace_0baf_11eb_ac84_525400f2e32erow7_col4,#T_590bcace_0baf_11eb_ac84_525400f2e32erow11_col4{\n",
       "            background-color:  #71a8ce;\n",
       "            color:  #000000;\n",
       "        }#T_590bcace_0baf_11eb_ac84_525400f2e32erow4_col8,#T_590bcace_0baf_11eb_ac84_525400f2e32erow8_col4{\n",
       "            background-color:  #9fbad9;\n",
       "            color:  #000000;\n",
       "        }#T_590bcace_0baf_11eb_ac84_525400f2e32erow4_col10,#T_590bcace_0baf_11eb_ac84_525400f2e32erow10_col4{\n",
       "            background-color:  #8fb4d6;\n",
       "            color:  #000000;\n",
       "        }#T_590bcace_0baf_11eb_ac84_525400f2e32erow4_col12,#T_590bcace_0baf_11eb_ac84_525400f2e32erow12_col4{\n",
       "            background-color:  #a4bcda;\n",
       "            color:  #000000;\n",
       "        }#T_590bcace_0baf_11eb_ac84_525400f2e32erow4_col13,#T_590bcace_0baf_11eb_ac84_525400f2e32erow13_col4{\n",
       "            background-color:  #bbc7e0;\n",
       "            color:  #000000;\n",
       "        }#T_590bcace_0baf_11eb_ac84_525400f2e32erow4_col15,#T_590bcace_0baf_11eb_ac84_525400f2e32erow12_col15,#T_590bcace_0baf_11eb_ac84_525400f2e32erow15_col4,#T_590bcace_0baf_11eb_ac84_525400f2e32erow15_col12{\n",
       "            background-color:  #a2bcda;\n",
       "            color:  #000000;\n",
       "        }#T_590bcace_0baf_11eb_ac84_525400f2e32erow4_col16,#T_590bcace_0baf_11eb_ac84_525400f2e32erow16_col4{\n",
       "            background-color:  #80aed2;\n",
       "            color:  #000000;\n",
       "        }#T_590bcace_0baf_11eb_ac84_525400f2e32erow5_col7,#T_590bcace_0baf_11eb_ac84_525400f2e32erow7_col5{\n",
       "            background-color:  #04649e;\n",
       "            color:  #f1f1f1;\n",
       "        }#T_590bcace_0baf_11eb_ac84_525400f2e32erow5_col8,#T_590bcace_0baf_11eb_ac84_525400f2e32erow8_col5{\n",
       "            background-color:  #0570b0;\n",
       "            color:  #f1f1f1;\n",
       "        }#T_590bcace_0baf_11eb_ac84_525400f2e32erow5_col9,#T_590bcace_0baf_11eb_ac84_525400f2e32erow9_col5{\n",
       "            background-color:  #2685bb;\n",
       "            color:  #000000;\n",
       "        }#T_590bcace_0baf_11eb_ac84_525400f2e32erow5_col10,#T_590bcace_0baf_11eb_ac84_525400f2e32erow5_col11,#T_590bcace_0baf_11eb_ac84_525400f2e32erow10_col5,#T_590bcace_0baf_11eb_ac84_525400f2e32erow11_col5,#T_590bcace_0baf_11eb_ac84_525400f2e32erow13_col14,#T_590bcace_0baf_11eb_ac84_525400f2e32erow14_col13{\n",
       "            background-color:  #1c7fb8;\n",
       "            color:  #000000;\n",
       "        }#T_590bcace_0baf_11eb_ac84_525400f2e32erow5_col12,#T_590bcace_0baf_11eb_ac84_525400f2e32erow12_col5{\n",
       "            background-color:  #3790c0;\n",
       "            color:  #000000;\n",
       "        }#T_590bcace_0baf_11eb_ac84_525400f2e32erow5_col13,#T_590bcace_0baf_11eb_ac84_525400f2e32erow7_col12,#T_590bcace_0baf_11eb_ac84_525400f2e32erow8_col10,#T_590bcace_0baf_11eb_ac84_525400f2e32erow10_col8,#T_590bcace_0baf_11eb_ac84_525400f2e32erow12_col7,#T_590bcace_0baf_11eb_ac84_525400f2e32erow13_col5{\n",
       "            background-color:  #056caa;\n",
       "            color:  #f1f1f1;\n",
       "        }#T_590bcace_0baf_11eb_ac84_525400f2e32erow5_col14,#T_590bcace_0baf_11eb_ac84_525400f2e32erow14_col5{\n",
       "            background-color:  #308cbe;\n",
       "            color:  #000000;\n",
       "        }#T_590bcace_0baf_11eb_ac84_525400f2e32erow5_col16,#T_590bcace_0baf_11eb_ac84_525400f2e32erow6_col13,#T_590bcace_0baf_11eb_ac84_525400f2e32erow7_col16,#T_590bcace_0baf_11eb_ac84_525400f2e32erow13_col6,#T_590bcace_0baf_11eb_ac84_525400f2e32erow16_col5,#T_590bcace_0baf_11eb_ac84_525400f2e32erow16_col7{\n",
       "            background-color:  #045b8e;\n",
       "            color:  #f1f1f1;\n",
       "        }#T_590bcace_0baf_11eb_ac84_525400f2e32erow6_col7,#T_590bcace_0baf_11eb_ac84_525400f2e32erow7_col6{\n",
       "            background-color:  #0f76b3;\n",
       "            color:  #f1f1f1;\n",
       "        }#T_590bcace_0baf_11eb_ac84_525400f2e32erow6_col8,#T_590bcace_0baf_11eb_ac84_525400f2e32erow8_col6,#T_590bcace_0baf_11eb_ac84_525400f2e32erow9_col12,#T_590bcace_0baf_11eb_ac84_525400f2e32erow12_col9{\n",
       "            background-color:  #0d75b3;\n",
       "            color:  #f1f1f1;\n",
       "        }#T_590bcace_0baf_11eb_ac84_525400f2e32erow6_col9,#T_590bcace_0baf_11eb_ac84_525400f2e32erow9_col6{\n",
       "            background-color:  #328dbf;\n",
       "            color:  #000000;\n",
       "        }#T_590bcace_0baf_11eb_ac84_525400f2e32erow6_col10,#T_590bcace_0baf_11eb_ac84_525400f2e32erow10_col6{\n",
       "            background-color:  #157ab5;\n",
       "            color:  #000000;\n",
       "        }#T_590bcace_0baf_11eb_ac84_525400f2e32erow6_col11,#T_590bcace_0baf_11eb_ac84_525400f2e32erow11_col6{\n",
       "            background-color:  #509ac6;\n",
       "            color:  #000000;\n",
       "        }#T_590bcace_0baf_11eb_ac84_525400f2e32erow6_col12,#T_590bcace_0baf_11eb_ac84_525400f2e32erow12_col6{\n",
       "            background-color:  #4a98c5;\n",
       "            color:  #000000;\n",
       "        }#T_590bcace_0baf_11eb_ac84_525400f2e32erow6_col14,#T_590bcace_0baf_11eb_ac84_525400f2e32erow14_col6{\n",
       "            background-color:  #2786bb;\n",
       "            color:  #000000;\n",
       "        }#T_590bcace_0baf_11eb_ac84_525400f2e32erow6_col15,#T_590bcace_0baf_11eb_ac84_525400f2e32erow11_col12,#T_590bcace_0baf_11eb_ac84_525400f2e32erow12_col11,#T_590bcace_0baf_11eb_ac84_525400f2e32erow15_col6{\n",
       "            background-color:  #4897c4;\n",
       "            color:  #000000;\n",
       "        }#T_590bcace_0baf_11eb_ac84_525400f2e32erow6_col16,#T_590bcace_0baf_11eb_ac84_525400f2e32erow8_col9,#T_590bcace_0baf_11eb_ac84_525400f2e32erow9_col8,#T_590bcace_0baf_11eb_ac84_525400f2e32erow16_col6{\n",
       "            background-color:  #045c90;\n",
       "            color:  #f1f1f1;\n",
       "        }#T_590bcace_0baf_11eb_ac84_525400f2e32erow7_col8,#T_590bcace_0baf_11eb_ac84_525400f2e32erow8_col7{\n",
       "            background-color:  #056ead;\n",
       "            color:  #f1f1f1;\n",
       "        }#T_590bcace_0baf_11eb_ac84_525400f2e32erow7_col9,#T_590bcace_0baf_11eb_ac84_525400f2e32erow7_col11,#T_590bcace_0baf_11eb_ac84_525400f2e32erow9_col7,#T_590bcace_0baf_11eb_ac84_525400f2e32erow11_col7{\n",
       "            background-color:  #197db7;\n",
       "            color:  #000000;\n",
       "        }#T_590bcace_0baf_11eb_ac84_525400f2e32erow7_col10,#T_590bcace_0baf_11eb_ac84_525400f2e32erow10_col7,#T_590bcace_0baf_11eb_ac84_525400f2e32erow10_col12,#T_590bcace_0baf_11eb_ac84_525400f2e32erow12_col10{\n",
       "            background-color:  #2c89bd;\n",
       "            color:  #000000;\n",
       "        }#T_590bcace_0baf_11eb_ac84_525400f2e32erow7_col13,#T_590bcace_0baf_11eb_ac84_525400f2e32erow13_col7{\n",
       "            background-color:  #0771b1;\n",
       "            color:  #f1f1f1;\n",
       "        }#T_590bcace_0baf_11eb_ac84_525400f2e32erow7_col14,#T_590bcace_0baf_11eb_ac84_525400f2e32erow14_col7{\n",
       "            background-color:  #62a2cb;\n",
       "            color:  #000000;\n",
       "        }#T_590bcace_0baf_11eb_ac84_525400f2e32erow8_col11,#T_590bcace_0baf_11eb_ac84_525400f2e32erow11_col8{\n",
       "            background-color:  #056ba7;\n",
       "            color:  #f1f1f1;\n",
       "        }#T_590bcace_0baf_11eb_ac84_525400f2e32erow8_col12,#T_590bcace_0baf_11eb_ac84_525400f2e32erow12_col8{\n",
       "            background-color:  #1278b4;\n",
       "            color:  #f1f1f1;\n",
       "        }#T_590bcace_0baf_11eb_ac84_525400f2e32erow8_col13,#T_590bcace_0baf_11eb_ac84_525400f2e32erow13_col8{\n",
       "            background-color:  #2383ba;\n",
       "            color:  #000000;\n",
       "        }#T_590bcace_0baf_11eb_ac84_525400f2e32erow8_col15,#T_590bcace_0baf_11eb_ac84_525400f2e32erow15_col8{\n",
       "            background-color:  #a9bfdc;\n",
       "            color:  #000000;\n",
       "        }#T_590bcace_0baf_11eb_ac84_525400f2e32erow8_col16,#T_590bcace_0baf_11eb_ac84_525400f2e32erow16_col8{\n",
       "            background-color:  #034f7d;\n",
       "            color:  #f1f1f1;\n",
       "        }#T_590bcace_0baf_11eb_ac84_525400f2e32erow9_col10,#T_590bcace_0baf_11eb_ac84_525400f2e32erow10_col9{\n",
       "            background-color:  #2081b9;\n",
       "            color:  #000000;\n",
       "        }#T_590bcace_0baf_11eb_ac84_525400f2e32erow9_col11,#T_590bcace_0baf_11eb_ac84_525400f2e32erow11_col9{\n",
       "            background-color:  #0872b1;\n",
       "            color:  #f1f1f1;\n",
       "        }#T_590bcace_0baf_11eb_ac84_525400f2e32erow9_col13,#T_590bcace_0baf_11eb_ac84_525400f2e32erow10_col14,#T_590bcace_0baf_11eb_ac84_525400f2e32erow11_col14,#T_590bcace_0baf_11eb_ac84_525400f2e32erow13_col9,#T_590bcace_0baf_11eb_ac84_525400f2e32erow14_col10,#T_590bcace_0baf_11eb_ac84_525400f2e32erow14_col11{\n",
       "            background-color:  #63a2cb;\n",
       "            color:  #000000;\n",
       "        }#T_590bcace_0baf_11eb_ac84_525400f2e32erow9_col14,#T_590bcace_0baf_11eb_ac84_525400f2e32erow14_col9{\n",
       "            background-color:  #b3c3de;\n",
       "            color:  #000000;\n",
       "        }#T_590bcace_0baf_11eb_ac84_525400f2e32erow9_col16,#T_590bcace_0baf_11eb_ac84_525400f2e32erow16_col9{\n",
       "            background-color:  #046299;\n",
       "            color:  #f1f1f1;\n",
       "        }#T_590bcace_0baf_11eb_ac84_525400f2e32erow10_col11,#T_590bcace_0baf_11eb_ac84_525400f2e32erow11_col10{\n",
       "            background-color:  #046198;\n",
       "            color:  #f1f1f1;\n",
       "        }#T_590bcace_0baf_11eb_ac84_525400f2e32erow10_col13,#T_590bcace_0baf_11eb_ac84_525400f2e32erow13_col10{\n",
       "            background-color:  #569dc8;\n",
       "            color:  #000000;\n",
       "        }#T_590bcace_0baf_11eb_ac84_525400f2e32erow10_col15,#T_590bcace_0baf_11eb_ac84_525400f2e32erow15_col10{\n",
       "            background-color:  #67a4cc;\n",
       "            color:  #000000;\n",
       "        }#T_590bcace_0baf_11eb_ac84_525400f2e32erow10_col16,#T_590bcace_0baf_11eb_ac84_525400f2e32erow16_col10{\n",
       "            background-color:  #046096;\n",
       "            color:  #f1f1f1;\n",
       "        }#T_590bcace_0baf_11eb_ac84_525400f2e32erow11_col13,#T_590bcace_0baf_11eb_ac84_525400f2e32erow13_col11{\n",
       "            background-color:  #94b6d7;\n",
       "            color:  #000000;\n",
       "        }#T_590bcace_0baf_11eb_ac84_525400f2e32erow11_col16,#T_590bcace_0baf_11eb_ac84_525400f2e32erow16_col11{\n",
       "            background-color:  #056dab;\n",
       "            color:  #f1f1f1;\n",
       "        }#T_590bcace_0baf_11eb_ac84_525400f2e32erow12_col13,#T_590bcace_0baf_11eb_ac84_525400f2e32erow13_col12{\n",
       "            background-color:  #4e9ac6;\n",
       "            color:  #000000;\n",
       "        }#T_590bcace_0baf_11eb_ac84_525400f2e32erow12_col14,#T_590bcace_0baf_11eb_ac84_525400f2e32erow14_col12{\n",
       "            background-color:  #acc0dd;\n",
       "            color:  #000000;\n",
       "        }#T_590bcace_0baf_11eb_ac84_525400f2e32erow12_col16,#T_590bcace_0baf_11eb_ac84_525400f2e32erow16_col12{\n",
       "            background-color:  #0568a3;\n",
       "            color:  #f1f1f1;\n",
       "        }#T_590bcace_0baf_11eb_ac84_525400f2e32erow13_col15,#T_590bcace_0baf_11eb_ac84_525400f2e32erow15_col13{\n",
       "            background-color:  #1b7eb7;\n",
       "            color:  #000000;\n",
       "        }#T_590bcace_0baf_11eb_ac84_525400f2e32erow13_col16,#T_590bcace_0baf_11eb_ac84_525400f2e32erow16_col13{\n",
       "            background-color:  #0566a0;\n",
       "            color:  #f1f1f1;\n",
       "        }#T_590bcace_0baf_11eb_ac84_525400f2e32erow14_col15,#T_590bcace_0baf_11eb_ac84_525400f2e32erow15_col14{\n",
       "            background-color:  #2182b9;\n",
       "            color:  #000000;\n",
       "        }#T_590bcace_0baf_11eb_ac84_525400f2e32erow14_col16,#T_590bcace_0baf_11eb_ac84_525400f2e32erow16_col14{\n",
       "            background-color:  #5ea0ca;\n",
       "            color:  #000000;\n",
       "        }#T_590bcace_0baf_11eb_ac84_525400f2e32erow15_col16,#T_590bcace_0baf_11eb_ac84_525400f2e32erow16_col15{\n",
       "            background-color:  #69a5cc;\n",
       "            color:  #000000;\n",
       "        }</style><table id=\"T_590bcace_0baf_11eb_ac84_525400f2e32e\" ><thead>    <tr>        <th class=\"blank level0\" ></th>        <th class=\"col_heading level0 col0\" >Rt</th>        <th class=\"col_heading level0 col1\" >theta</th>        <th class=\"col_heading level0 col2\" >kappa</th>        <th class=\"col_heading level0 col3\" >rho</th>        <th class=\"col_heading level0 col4\" >sigma</th>        <th class=\"col_heading level0 col5\" >School_closing</th>        <th class=\"col_heading level0 col6\" >Workplace_closing</th>        <th class=\"col_heading level0 col7\" >Cancel_events</th>        <th class=\"col_heading level0 col8\" >Gatherings_restrictions</th>        <th class=\"col_heading level0 col9\" >Transport_closing</th>        <th class=\"col_heading level0 col10\" >Stay_home_restrictions</th>        <th class=\"col_heading level0 col11\" >Internal_movement_restrictions</th>        <th class=\"col_heading level0 col12\" >International_movement_restrictions</th>        <th class=\"col_heading level0 col13\" >Information_campaigns</th>        <th class=\"col_heading level0 col14\" >Testing_policy</th>        <th class=\"col_heading level0 col15\" >Contact_tracing</th>        <th class=\"col_heading level0 col16\" >Stringency_index</th>    </tr></thead><tbody>\n",
       "                <tr>\n",
       "                        <th id=\"T_590bcace_0baf_11eb_ac84_525400f2e32elevel0_row0\" class=\"row_heading level0 row0\" >Rt</th>\n",
       "                        <td id=\"T_590bcace_0baf_11eb_ac84_525400f2e32erow0_col0\" class=\"data row0 col0\" >1.000000</td>\n",
       "                        <td id=\"T_590bcace_0baf_11eb_ac84_525400f2e32erow0_col1\" class=\"data row0 col1\" >-0.184346</td>\n",
       "                        <td id=\"T_590bcace_0baf_11eb_ac84_525400f2e32erow0_col2\" class=\"data row0 col2\" >-0.149745</td>\n",
       "                        <td id=\"T_590bcace_0baf_11eb_ac84_525400f2e32erow0_col3\" class=\"data row0 col3\" >0.269915</td>\n",
       "                        <td id=\"T_590bcace_0baf_11eb_ac84_525400f2e32erow0_col4\" class=\"data row0 col4\" >-0.293188</td>\n",
       "                        <td id=\"T_590bcace_0baf_11eb_ac84_525400f2e32erow0_col5\" class=\"data row0 col5\" >-0.343891</td>\n",
       "                        <td id=\"T_590bcace_0baf_11eb_ac84_525400f2e32erow0_col6\" class=\"data row0 col6\" >-0.171356</td>\n",
       "                        <td id=\"T_590bcace_0baf_11eb_ac84_525400f2e32erow0_col7\" class=\"data row0 col7\" >-0.240393</td>\n",
       "                        <td id=\"T_590bcace_0baf_11eb_ac84_525400f2e32erow0_col8\" class=\"data row0 col8\" >-0.174466</td>\n",
       "                        <td id=\"T_590bcace_0baf_11eb_ac84_525400f2e32erow0_col9\" class=\"data row0 col9\" >-0.262072</td>\n",
       "                        <td id=\"T_590bcace_0baf_11eb_ac84_525400f2e32erow0_col10\" class=\"data row0 col10\" >-0.222277</td>\n",
       "                        <td id=\"T_590bcace_0baf_11eb_ac84_525400f2e32erow0_col11\" class=\"data row0 col11\" >-0.361323</td>\n",
       "                        <td id=\"T_590bcace_0baf_11eb_ac84_525400f2e32erow0_col12\" class=\"data row0 col12\" >-0.208718</td>\n",
       "                        <td id=\"T_590bcace_0baf_11eb_ac84_525400f2e32erow0_col13\" class=\"data row0 col13\" >-0.078485</td>\n",
       "                        <td id=\"T_590bcace_0baf_11eb_ac84_525400f2e32erow0_col14\" class=\"data row0 col14\" >-0.207271</td>\n",
       "                        <td id=\"T_590bcace_0baf_11eb_ac84_525400f2e32erow0_col15\" class=\"data row0 col15\" >-0.130815</td>\n",
       "                        <td id=\"T_590bcace_0baf_11eb_ac84_525400f2e32erow0_col16\" class=\"data row0 col16\" >-0.250314</td>\n",
       "            </tr>\n",
       "            <tr>\n",
       "                        <th id=\"T_590bcace_0baf_11eb_ac84_525400f2e32elevel0_row1\" class=\"row_heading level0 row1\" >theta</th>\n",
       "                        <td id=\"T_590bcace_0baf_11eb_ac84_525400f2e32erow1_col0\" class=\"data row1 col0\" >-0.184346</td>\n",
       "                        <td id=\"T_590bcace_0baf_11eb_ac84_525400f2e32erow1_col1\" class=\"data row1 col1\" >1.000000</td>\n",
       "                        <td id=\"T_590bcace_0baf_11eb_ac84_525400f2e32erow1_col2\" class=\"data row1 col2\" >0.979854</td>\n",
       "                        <td id=\"T_590bcace_0baf_11eb_ac84_525400f2e32erow1_col3\" class=\"data row1 col3\" >0.657260</td>\n",
       "                        <td id=\"T_590bcace_0baf_11eb_ac84_525400f2e32erow1_col4\" class=\"data row1 col4\" >0.059704</td>\n",
       "                        <td id=\"T_590bcace_0baf_11eb_ac84_525400f2e32erow1_col5\" class=\"data row1 col5\" >-0.145238</td>\n",
       "                        <td id=\"T_590bcace_0baf_11eb_ac84_525400f2e32erow1_col6\" class=\"data row1 col6\" >-0.116593</td>\n",
       "                        <td id=\"T_590bcace_0baf_11eb_ac84_525400f2e32erow1_col7\" class=\"data row1 col7\" >-0.143619</td>\n",
       "                        <td id=\"T_590bcace_0baf_11eb_ac84_525400f2e32erow1_col8\" class=\"data row1 col8\" >-0.065692</td>\n",
       "                        <td id=\"T_590bcace_0baf_11eb_ac84_525400f2e32erow1_col9\" class=\"data row1 col9\" >-0.106691</td>\n",
       "                        <td id=\"T_590bcace_0baf_11eb_ac84_525400f2e32erow1_col10\" class=\"data row1 col10\" >0.261627</td>\n",
       "                        <td id=\"T_590bcace_0baf_11eb_ac84_525400f2e32erow1_col11\" class=\"data row1 col11\" >0.177056</td>\n",
       "                        <td id=\"T_590bcace_0baf_11eb_ac84_525400f2e32erow1_col12\" class=\"data row1 col12\" >0.169300</td>\n",
       "                        <td id=\"T_590bcace_0baf_11eb_ac84_525400f2e32erow1_col13\" class=\"data row1 col13\" >-0.341199</td>\n",
       "                        <td id=\"T_590bcace_0baf_11eb_ac84_525400f2e32erow1_col14\" class=\"data row1 col14\" >-0.226259</td>\n",
       "                        <td id=\"T_590bcace_0baf_11eb_ac84_525400f2e32erow1_col15\" class=\"data row1 col15\" >0.010364</td>\n",
       "                        <td id=\"T_590bcace_0baf_11eb_ac84_525400f2e32erow1_col16\" class=\"data row1 col16\" >-0.021736</td>\n",
       "            </tr>\n",
       "            <tr>\n",
       "                        <th id=\"T_590bcace_0baf_11eb_ac84_525400f2e32elevel0_row2\" class=\"row_heading level0 row2\" >kappa</th>\n",
       "                        <td id=\"T_590bcace_0baf_11eb_ac84_525400f2e32erow2_col0\" class=\"data row2 col0\" >-0.149745</td>\n",
       "                        <td id=\"T_590bcace_0baf_11eb_ac84_525400f2e32erow2_col1\" class=\"data row2 col1\" >0.979854</td>\n",
       "                        <td id=\"T_590bcace_0baf_11eb_ac84_525400f2e32erow2_col2\" class=\"data row2 col2\" >1.000000</td>\n",
       "                        <td id=\"T_590bcace_0baf_11eb_ac84_525400f2e32erow2_col3\" class=\"data row2 col3\" >0.698189</td>\n",
       "                        <td id=\"T_590bcace_0baf_11eb_ac84_525400f2e32erow2_col4\" class=\"data row2 col4\" >0.032755</td>\n",
       "                        <td id=\"T_590bcace_0baf_11eb_ac84_525400f2e32erow2_col5\" class=\"data row2 col5\" >-0.164324</td>\n",
       "                        <td id=\"T_590bcace_0baf_11eb_ac84_525400f2e32erow2_col6\" class=\"data row2 col6\" >-0.141087</td>\n",
       "                        <td id=\"T_590bcace_0baf_11eb_ac84_525400f2e32erow2_col7\" class=\"data row2 col7\" >-0.117486</td>\n",
       "                        <td id=\"T_590bcace_0baf_11eb_ac84_525400f2e32erow2_col8\" class=\"data row2 col8\" >-0.054269</td>\n",
       "                        <td id=\"T_590bcace_0baf_11eb_ac84_525400f2e32erow2_col9\" class=\"data row2 col9\" >-0.074933</td>\n",
       "                        <td id=\"T_590bcace_0baf_11eb_ac84_525400f2e32erow2_col10\" class=\"data row2 col10\" >0.266050</td>\n",
       "                        <td id=\"T_590bcace_0baf_11eb_ac84_525400f2e32erow2_col11\" class=\"data row2 col11\" >0.213741</td>\n",
       "                        <td id=\"T_590bcace_0baf_11eb_ac84_525400f2e32erow2_col12\" class=\"data row2 col12\" >0.214793</td>\n",
       "                        <td id=\"T_590bcace_0baf_11eb_ac84_525400f2e32erow2_col13\" class=\"data row2 col13\" >-0.364477</td>\n",
       "                        <td id=\"T_590bcace_0baf_11eb_ac84_525400f2e32erow2_col14\" class=\"data row2 col14\" >-0.226614</td>\n",
       "                        <td id=\"T_590bcace_0baf_11eb_ac84_525400f2e32erow2_col15\" class=\"data row2 col15\" >-0.038013</td>\n",
       "                        <td id=\"T_590bcace_0baf_11eb_ac84_525400f2e32erow2_col16\" class=\"data row2 col16\" >-0.023438</td>\n",
       "            </tr>\n",
       "            <tr>\n",
       "                        <th id=\"T_590bcace_0baf_11eb_ac84_525400f2e32elevel0_row3\" class=\"row_heading level0 row3\" >rho</th>\n",
       "                        <td id=\"T_590bcace_0baf_11eb_ac84_525400f2e32erow3_col0\" class=\"data row3 col0\" >0.269915</td>\n",
       "                        <td id=\"T_590bcace_0baf_11eb_ac84_525400f2e32erow3_col1\" class=\"data row3 col1\" >0.657260</td>\n",
       "                        <td id=\"T_590bcace_0baf_11eb_ac84_525400f2e32erow3_col2\" class=\"data row3 col2\" >0.698189</td>\n",
       "                        <td id=\"T_590bcace_0baf_11eb_ac84_525400f2e32erow3_col3\" class=\"data row3 col3\" >1.000000</td>\n",
       "                        <td id=\"T_590bcace_0baf_11eb_ac84_525400f2e32erow3_col4\" class=\"data row3 col4\" >0.121790</td>\n",
       "                        <td id=\"T_590bcace_0baf_11eb_ac84_525400f2e32erow3_col5\" class=\"data row3 col5\" >-0.161977</td>\n",
       "                        <td id=\"T_590bcace_0baf_11eb_ac84_525400f2e32erow3_col6\" class=\"data row3 col6\" >-0.177419</td>\n",
       "                        <td id=\"T_590bcace_0baf_11eb_ac84_525400f2e32erow3_col7\" class=\"data row3 col7\" >-0.052841</td>\n",
       "                        <td id=\"T_590bcace_0baf_11eb_ac84_525400f2e32erow3_col8\" class=\"data row3 col8\" >-0.001854</td>\n",
       "                        <td id=\"T_590bcace_0baf_11eb_ac84_525400f2e32erow3_col9\" class=\"data row3 col9\" >-0.034623</td>\n",
       "                        <td id=\"T_590bcace_0baf_11eb_ac84_525400f2e32erow3_col10\" class=\"data row3 col10\" >0.200367</td>\n",
       "                        <td id=\"T_590bcace_0baf_11eb_ac84_525400f2e32erow3_col11\" class=\"data row3 col11\" >0.191955</td>\n",
       "                        <td id=\"T_590bcace_0baf_11eb_ac84_525400f2e32erow3_col12\" class=\"data row3 col12\" >0.160842</td>\n",
       "                        <td id=\"T_590bcace_0baf_11eb_ac84_525400f2e32erow3_col13\" class=\"data row3 col13\" >-0.418689</td>\n",
       "                        <td id=\"T_590bcace_0baf_11eb_ac84_525400f2e32erow3_col14\" class=\"data row3 col14\" >-0.438851</td>\n",
       "                        <td id=\"T_590bcace_0baf_11eb_ac84_525400f2e32erow3_col15\" class=\"data row3 col15\" >-0.249464</td>\n",
       "                        <td id=\"T_590bcace_0baf_11eb_ac84_525400f2e32erow3_col16\" class=\"data row3 col16\" >-0.018639</td>\n",
       "            </tr>\n",
       "            <tr>\n",
       "                        <th id=\"T_590bcace_0baf_11eb_ac84_525400f2e32elevel0_row4\" class=\"row_heading level0 row4\" >sigma</th>\n",
       "                        <td id=\"T_590bcace_0baf_11eb_ac84_525400f2e32erow4_col0\" class=\"data row4 col0\" >-0.293188</td>\n",
       "                        <td id=\"T_590bcace_0baf_11eb_ac84_525400f2e32erow4_col1\" class=\"data row4 col1\" >0.059704</td>\n",
       "                        <td id=\"T_590bcace_0baf_11eb_ac84_525400f2e32erow4_col2\" class=\"data row4 col2\" >0.032755</td>\n",
       "                        <td id=\"T_590bcace_0baf_11eb_ac84_525400f2e32erow4_col3\" class=\"data row4 col3\" >0.121790</td>\n",
       "                        <td id=\"T_590bcace_0baf_11eb_ac84_525400f2e32erow4_col4\" class=\"data row4 col4\" >1.000000</td>\n",
       "                        <td id=\"T_590bcace_0baf_11eb_ac84_525400f2e32erow4_col5\" class=\"data row4 col5\" >0.266963</td>\n",
       "                        <td id=\"T_590bcace_0baf_11eb_ac84_525400f2e32erow4_col6\" class=\"data row4 col6\" >0.026300</td>\n",
       "                        <td id=\"T_590bcace_0baf_11eb_ac84_525400f2e32erow4_col7\" class=\"data row4 col7\" >0.286391</td>\n",
       "                        <td id=\"T_590bcace_0baf_11eb_ac84_525400f2e32erow4_col8\" class=\"data row4 col8\" >0.125109</td>\n",
       "                        <td id=\"T_590bcace_0baf_11eb_ac84_525400f2e32erow4_col9\" class=\"data row4 col9\" >0.191413</td>\n",
       "                        <td id=\"T_590bcace_0baf_11eb_ac84_525400f2e32erow4_col10\" class=\"data row4 col10\" >0.179462</td>\n",
       "                        <td id=\"T_590bcace_0baf_11eb_ac84_525400f2e32erow4_col11\" class=\"data row4 col11\" >0.286630</td>\n",
       "                        <td id=\"T_590bcace_0baf_11eb_ac84_525400f2e32erow4_col12\" class=\"data row4 col12\" >0.111519</td>\n",
       "                        <td id=\"T_590bcace_0baf_11eb_ac84_525400f2e32erow4_col13\" class=\"data row4 col13\" >0.013653</td>\n",
       "                        <td id=\"T_590bcace_0baf_11eb_ac84_525400f2e32erow4_col14\" class=\"data row4 col14\" >-0.021235</td>\n",
       "                        <td id=\"T_590bcace_0baf_11eb_ac84_525400f2e32erow4_col15\" class=\"data row4 col15\" >0.116823</td>\n",
       "                        <td id=\"T_590bcace_0baf_11eb_ac84_525400f2e32erow4_col16\" class=\"data row4 col16\" >0.236111</td>\n",
       "            </tr>\n",
       "            <tr>\n",
       "                        <th id=\"T_590bcace_0baf_11eb_ac84_525400f2e32elevel0_row5\" class=\"row_heading level0 row5\" >School_closing</th>\n",
       "                        <td id=\"T_590bcace_0baf_11eb_ac84_525400f2e32erow5_col0\" class=\"data row5 col0\" >-0.343891</td>\n",
       "                        <td id=\"T_590bcace_0baf_11eb_ac84_525400f2e32erow5_col1\" class=\"data row5 col1\" >-0.145238</td>\n",
       "                        <td id=\"T_590bcace_0baf_11eb_ac84_525400f2e32erow5_col2\" class=\"data row5 col2\" >-0.164324</td>\n",
       "                        <td id=\"T_590bcace_0baf_11eb_ac84_525400f2e32erow5_col3\" class=\"data row5 col3\" >-0.161977</td>\n",
       "                        <td id=\"T_590bcace_0baf_11eb_ac84_525400f2e32erow5_col4\" class=\"data row5 col4\" >0.266963</td>\n",
       "                        <td id=\"T_590bcace_0baf_11eb_ac84_525400f2e32erow5_col5\" class=\"data row5 col5\" >1.000000</td>\n",
       "                        <td id=\"T_590bcace_0baf_11eb_ac84_525400f2e32erow5_col6\" class=\"data row5 col6\" >0.699933</td>\n",
       "                        <td id=\"T_590bcace_0baf_11eb_ac84_525400f2e32erow5_col7\" class=\"data row5 col7\" >0.730653</td>\n",
       "                        <td id=\"T_590bcace_0baf_11eb_ac84_525400f2e32erow5_col8\" class=\"data row5 col8\" >0.635680</td>\n",
       "                        <td id=\"T_590bcace_0baf_11eb_ac84_525400f2e32erow5_col9\" class=\"data row5 col9\" >0.520495</td>\n",
       "                        <td id=\"T_590bcace_0baf_11eb_ac84_525400f2e32erow5_col10\" class=\"data row5 col10\" >0.553363</td>\n",
       "                        <td id=\"T_590bcace_0baf_11eb_ac84_525400f2e32erow5_col11\" class=\"data row5 col11\" >0.553402</td>\n",
       "                        <td id=\"T_590bcace_0baf_11eb_ac84_525400f2e32erow5_col12\" class=\"data row5 col12\" >0.455169</td>\n",
       "                        <td id=\"T_590bcace_0baf_11eb_ac84_525400f2e32erow5_col13\" class=\"data row5 col13\" >0.668767</td>\n",
       "                        <td id=\"T_590bcace_0baf_11eb_ac84_525400f2e32erow5_col14\" class=\"data row5 col14\" >0.480439</td>\n",
       "                        <td id=\"T_590bcace_0baf_11eb_ac84_525400f2e32erow5_col15\" class=\"data row5 col15\" >0.267214</td>\n",
       "                        <td id=\"T_590bcace_0baf_11eb_ac84_525400f2e32erow5_col16\" class=\"data row5 col16\" >0.812643</td>\n",
       "            </tr>\n",
       "            <tr>\n",
       "                        <th id=\"T_590bcace_0baf_11eb_ac84_525400f2e32elevel0_row6\" class=\"row_heading level0 row6\" >Workplace_closing</th>\n",
       "                        <td id=\"T_590bcace_0baf_11eb_ac84_525400f2e32erow6_col0\" class=\"data row6 col0\" >-0.171356</td>\n",
       "                        <td id=\"T_590bcace_0baf_11eb_ac84_525400f2e32erow6_col1\" class=\"data row6 col1\" >-0.116593</td>\n",
       "                        <td id=\"T_590bcace_0baf_11eb_ac84_525400f2e32erow6_col2\" class=\"data row6 col2\" >-0.141087</td>\n",
       "                        <td id=\"T_590bcace_0baf_11eb_ac84_525400f2e32erow6_col3\" class=\"data row6 col3\" >-0.177419</td>\n",
       "                        <td id=\"T_590bcace_0baf_11eb_ac84_525400f2e32erow6_col4\" class=\"data row6 col4\" >0.026300</td>\n",
       "                        <td id=\"T_590bcace_0baf_11eb_ac84_525400f2e32erow6_col5\" class=\"data row6 col5\" >0.699933</td>\n",
       "                        <td id=\"T_590bcace_0baf_11eb_ac84_525400f2e32erow6_col6\" class=\"data row6 col6\" >1.000000</td>\n",
       "                        <td id=\"T_590bcace_0baf_11eb_ac84_525400f2e32erow6_col7\" class=\"data row6 col7\" >0.605780</td>\n",
       "                        <td id=\"T_590bcace_0baf_11eb_ac84_525400f2e32erow6_col8\" class=\"data row6 col8\" >0.606639</td>\n",
       "                        <td id=\"T_590bcace_0baf_11eb_ac84_525400f2e32erow6_col9\" class=\"data row6 col9\" >0.472790</td>\n",
       "                        <td id=\"T_590bcace_0baf_11eb_ac84_525400f2e32erow6_col10\" class=\"data row6 col10\" >0.580387</td>\n",
       "                        <td id=\"T_590bcace_0baf_11eb_ac84_525400f2e32erow6_col11\" class=\"data row6 col11\" >0.382931</td>\n",
       "                        <td id=\"T_590bcace_0baf_11eb_ac84_525400f2e32erow6_col12\" class=\"data row6 col12\" >0.400036</td>\n",
       "                        <td id=\"T_590bcace_0baf_11eb_ac84_525400f2e32erow6_col13\" class=\"data row6 col13\" >0.814014</td>\n",
       "                        <td id=\"T_590bcace_0baf_11eb_ac84_525400f2e32erow6_col14\" class=\"data row6 col14\" >0.516242</td>\n",
       "                        <td id=\"T_590bcace_0baf_11eb_ac84_525400f2e32erow6_col15\" class=\"data row6 col15\" >0.405949</td>\n",
       "                        <td id=\"T_590bcace_0baf_11eb_ac84_525400f2e32erow6_col16\" class=\"data row6 col16\" >0.798591</td>\n",
       "            </tr>\n",
       "            <tr>\n",
       "                        <th id=\"T_590bcace_0baf_11eb_ac84_525400f2e32elevel0_row7\" class=\"row_heading level0 row7\" >Cancel_events</th>\n",
       "                        <td id=\"T_590bcace_0baf_11eb_ac84_525400f2e32erow7_col0\" class=\"data row7 col0\" >-0.240393</td>\n",
       "                        <td id=\"T_590bcace_0baf_11eb_ac84_525400f2e32erow7_col1\" class=\"data row7 col1\" >-0.143619</td>\n",
       "                        <td id=\"T_590bcace_0baf_11eb_ac84_525400f2e32erow7_col2\" class=\"data row7 col2\" >-0.117486</td>\n",
       "                        <td id=\"T_590bcace_0baf_11eb_ac84_525400f2e32erow7_col3\" class=\"data row7 col3\" >-0.052841</td>\n",
       "                        <td id=\"T_590bcace_0baf_11eb_ac84_525400f2e32erow7_col4\" class=\"data row7 col4\" >0.286391</td>\n",
       "                        <td id=\"T_590bcace_0baf_11eb_ac84_525400f2e32erow7_col5\" class=\"data row7 col5\" >0.730653</td>\n",
       "                        <td id=\"T_590bcace_0baf_11eb_ac84_525400f2e32erow7_col6\" class=\"data row7 col6\" >0.605780</td>\n",
       "                        <td id=\"T_590bcace_0baf_11eb_ac84_525400f2e32erow7_col7\" class=\"data row7 col7\" >1.000000</td>\n",
       "                        <td id=\"T_590bcace_0baf_11eb_ac84_525400f2e32erow7_col8\" class=\"data row7 col8\" >0.651896</td>\n",
       "                        <td id=\"T_590bcace_0baf_11eb_ac84_525400f2e32erow7_col9\" class=\"data row7 col9\" >0.563125</td>\n",
       "                        <td id=\"T_590bcace_0baf_11eb_ac84_525400f2e32erow7_col10\" class=\"data row7 col10\" >0.497619</td>\n",
       "                        <td id=\"T_590bcace_0baf_11eb_ac84_525400f2e32erow7_col11\" class=\"data row7 col11\" >0.562690</td>\n",
       "                        <td id=\"T_590bcace_0baf_11eb_ac84_525400f2e32erow7_col12\" class=\"data row7 col12\" >0.671674</td>\n",
       "                        <td id=\"T_590bcace_0baf_11eb_ac84_525400f2e32erow7_col13\" class=\"data row7 col13\" >0.630884</td>\n",
       "                        <td id=\"T_590bcace_0baf_11eb_ac84_525400f2e32erow7_col14\" class=\"data row7 col14\" >0.334621</td>\n",
       "                        <td id=\"T_590bcace_0baf_11eb_ac84_525400f2e32erow7_col15\" class=\"data row7 col15\" >0.261258</td>\n",
       "                        <td id=\"T_590bcace_0baf_11eb_ac84_525400f2e32erow7_col16\" class=\"data row7 col16\" >0.811368</td>\n",
       "            </tr>\n",
       "            <tr>\n",
       "                        <th id=\"T_590bcace_0baf_11eb_ac84_525400f2e32elevel0_row8\" class=\"row_heading level0 row8\" >Gatherings_restrictions</th>\n",
       "                        <td id=\"T_590bcace_0baf_11eb_ac84_525400f2e32erow8_col0\" class=\"data row8 col0\" >-0.174466</td>\n",
       "                        <td id=\"T_590bcace_0baf_11eb_ac84_525400f2e32erow8_col1\" class=\"data row8 col1\" >-0.065692</td>\n",
       "                        <td id=\"T_590bcace_0baf_11eb_ac84_525400f2e32erow8_col2\" class=\"data row8 col2\" >-0.054269</td>\n",
       "                        <td id=\"T_590bcace_0baf_11eb_ac84_525400f2e32erow8_col3\" class=\"data row8 col3\" >-0.001854</td>\n",
       "                        <td id=\"T_590bcace_0baf_11eb_ac84_525400f2e32erow8_col4\" class=\"data row8 col4\" >0.125109</td>\n",
       "                        <td id=\"T_590bcace_0baf_11eb_ac84_525400f2e32erow8_col5\" class=\"data row8 col5\" >0.635680</td>\n",
       "                        <td id=\"T_590bcace_0baf_11eb_ac84_525400f2e32erow8_col6\" class=\"data row8 col6\" >0.606639</td>\n",
       "                        <td id=\"T_590bcace_0baf_11eb_ac84_525400f2e32erow8_col7\" class=\"data row8 col7\" >0.651896</td>\n",
       "                        <td id=\"T_590bcace_0baf_11eb_ac84_525400f2e32erow8_col8\" class=\"data row8 col8\" >1.000000</td>\n",
       "                        <td id=\"T_590bcace_0baf_11eb_ac84_525400f2e32erow8_col9\" class=\"data row8 col9\" >0.801551</td>\n",
       "                        <td id=\"T_590bcace_0baf_11eb_ac84_525400f2e32erow8_col10\" class=\"data row8 col10\" >0.673120</td>\n",
       "                        <td id=\"T_590bcace_0baf_11eb_ac84_525400f2e32erow8_col11\" class=\"data row8 col11\" >0.684089</td>\n",
       "                        <td id=\"T_590bcace_0baf_11eb_ac84_525400f2e32erow8_col12\" class=\"data row8 col12\" >0.593324</td>\n",
       "                        <td id=\"T_590bcace_0baf_11eb_ac84_525400f2e32erow8_col13\" class=\"data row8 col13\" >0.528503</td>\n",
       "                        <td id=\"T_590bcace_0baf_11eb_ac84_525400f2e32erow8_col14\" class=\"data row8 col14\" >0.259631</td>\n",
       "                        <td id=\"T_590bcace_0baf_11eb_ac84_525400f2e32erow8_col15\" class=\"data row8 col15\" >0.084011</td>\n",
       "                        <td id=\"T_590bcace_0baf_11eb_ac84_525400f2e32erow8_col16\" class=\"data row8 col16\" >0.873137</td>\n",
       "            </tr>\n",
       "            <tr>\n",
       "                        <th id=\"T_590bcace_0baf_11eb_ac84_525400f2e32elevel0_row9\" class=\"row_heading level0 row9\" >Transport_closing</th>\n",
       "                        <td id=\"T_590bcace_0baf_11eb_ac84_525400f2e32erow9_col0\" class=\"data row9 col0\" >-0.262072</td>\n",
       "                        <td id=\"T_590bcace_0baf_11eb_ac84_525400f2e32erow9_col1\" class=\"data row9 col1\" >-0.106691</td>\n",
       "                        <td id=\"T_590bcace_0baf_11eb_ac84_525400f2e32erow9_col2\" class=\"data row9 col2\" >-0.074933</td>\n",
       "                        <td id=\"T_590bcace_0baf_11eb_ac84_525400f2e32erow9_col3\" class=\"data row9 col3\" >-0.034623</td>\n",
       "                        <td id=\"T_590bcace_0baf_11eb_ac84_525400f2e32erow9_col4\" class=\"data row9 col4\" >0.191413</td>\n",
       "                        <td id=\"T_590bcace_0baf_11eb_ac84_525400f2e32erow9_col5\" class=\"data row9 col5\" >0.520495</td>\n",
       "                        <td id=\"T_590bcace_0baf_11eb_ac84_525400f2e32erow9_col6\" class=\"data row9 col6\" >0.472790</td>\n",
       "                        <td id=\"T_590bcace_0baf_11eb_ac84_525400f2e32erow9_col7\" class=\"data row9 col7\" >0.563125</td>\n",
       "                        <td id=\"T_590bcace_0baf_11eb_ac84_525400f2e32erow9_col8\" class=\"data row9 col8\" >0.801551</td>\n",
       "                        <td id=\"T_590bcace_0baf_11eb_ac84_525400f2e32erow9_col9\" class=\"data row9 col9\" >1.000000</td>\n",
       "                        <td id=\"T_590bcace_0baf_11eb_ac84_525400f2e32erow9_col10\" class=\"data row9 col10\" >0.544540</td>\n",
       "                        <td id=\"T_590bcace_0baf_11eb_ac84_525400f2e32erow9_col11\" class=\"data row9 col11\" >0.624363</td>\n",
       "                        <td id=\"T_590bcace_0baf_11eb_ac84_525400f2e32erow9_col12\" class=\"data row9 col12\" >0.606824</td>\n",
       "                        <td id=\"T_590bcace_0baf_11eb_ac84_525400f2e32erow9_col13\" class=\"data row9 col13\" >0.327484</td>\n",
       "                        <td id=\"T_590bcace_0baf_11eb_ac84_525400f2e32erow9_col14\" class=\"data row9 col14\" >0.048483</td>\n",
       "                        <td id=\"T_590bcace_0baf_11eb_ac84_525400f2e32erow9_col15\" class=\"data row9 col15\" >-0.159497</td>\n",
       "                        <td id=\"T_590bcace_0baf_11eb_ac84_525400f2e32erow9_col16\" class=\"data row9 col16\" >0.754446</td>\n",
       "            </tr>\n",
       "            <tr>\n",
       "                        <th id=\"T_590bcace_0baf_11eb_ac84_525400f2e32elevel0_row10\" class=\"row_heading level0 row10\" >Stay_home_restrictions</th>\n",
       "                        <td id=\"T_590bcace_0baf_11eb_ac84_525400f2e32erow10_col0\" class=\"data row10 col0\" >-0.222277</td>\n",
       "                        <td id=\"T_590bcace_0baf_11eb_ac84_525400f2e32erow10_col1\" class=\"data row10 col1\" >0.261627</td>\n",
       "                        <td id=\"T_590bcace_0baf_11eb_ac84_525400f2e32erow10_col2\" class=\"data row10 col2\" >0.266050</td>\n",
       "                        <td id=\"T_590bcace_0baf_11eb_ac84_525400f2e32erow10_col3\" class=\"data row10 col3\" >0.200367</td>\n",
       "                        <td id=\"T_590bcace_0baf_11eb_ac84_525400f2e32erow10_col4\" class=\"data row10 col4\" >0.179462</td>\n",
       "                        <td id=\"T_590bcace_0baf_11eb_ac84_525400f2e32erow10_col5\" class=\"data row10 col5\" >0.553363</td>\n",
       "                        <td id=\"T_590bcace_0baf_11eb_ac84_525400f2e32erow10_col6\" class=\"data row10 col6\" >0.580387</td>\n",
       "                        <td id=\"T_590bcace_0baf_11eb_ac84_525400f2e32erow10_col7\" class=\"data row10 col7\" >0.497619</td>\n",
       "                        <td id=\"T_590bcace_0baf_11eb_ac84_525400f2e32erow10_col8\" class=\"data row10 col8\" >0.673120</td>\n",
       "                        <td id=\"T_590bcace_0baf_11eb_ac84_525400f2e32erow10_col9\" class=\"data row10 col9\" >0.544540</td>\n",
       "                        <td id=\"T_590bcace_0baf_11eb_ac84_525400f2e32erow10_col10\" class=\"data row10 col10\" >1.000000</td>\n",
       "                        <td id=\"T_590bcace_0baf_11eb_ac84_525400f2e32erow10_col11\" class=\"data row10 col11\" >0.760892</td>\n",
       "                        <td id=\"T_590bcace_0baf_11eb_ac84_525400f2e32erow10_col12\" class=\"data row10 col12\" >0.494508</td>\n",
       "                        <td id=\"T_590bcace_0baf_11eb_ac84_525400f2e32erow10_col13\" class=\"data row10 col13\" >0.370451</td>\n",
       "                        <td id=\"T_590bcace_0baf_11eb_ac84_525400f2e32erow10_col14\" class=\"data row10 col14\" >0.330238</td>\n",
       "                        <td id=\"T_590bcace_0baf_11eb_ac84_525400f2e32erow10_col15\" class=\"data row10 col15\" >0.314412</td>\n",
       "                        <td id=\"T_590bcace_0baf_11eb_ac84_525400f2e32erow10_col16\" class=\"data row10 col16\" >0.772216</td>\n",
       "            </tr>\n",
       "            <tr>\n",
       "                        <th id=\"T_590bcace_0baf_11eb_ac84_525400f2e32elevel0_row11\" class=\"row_heading level0 row11\" >Internal_movement_restrictions</th>\n",
       "                        <td id=\"T_590bcace_0baf_11eb_ac84_525400f2e32erow11_col0\" class=\"data row11 col0\" >-0.361323</td>\n",
       "                        <td id=\"T_590bcace_0baf_11eb_ac84_525400f2e32erow11_col1\" class=\"data row11 col1\" >0.177056</td>\n",
       "                        <td id=\"T_590bcace_0baf_11eb_ac84_525400f2e32erow11_col2\" class=\"data row11 col2\" >0.213741</td>\n",
       "                        <td id=\"T_590bcace_0baf_11eb_ac84_525400f2e32erow11_col3\" class=\"data row11 col3\" >0.191955</td>\n",
       "                        <td id=\"T_590bcace_0baf_11eb_ac84_525400f2e32erow11_col4\" class=\"data row11 col4\" >0.286630</td>\n",
       "                        <td id=\"T_590bcace_0baf_11eb_ac84_525400f2e32erow11_col5\" class=\"data row11 col5\" >0.553402</td>\n",
       "                        <td id=\"T_590bcace_0baf_11eb_ac84_525400f2e32erow11_col6\" class=\"data row11 col6\" >0.382931</td>\n",
       "                        <td id=\"T_590bcace_0baf_11eb_ac84_525400f2e32erow11_col7\" class=\"data row11 col7\" >0.562690</td>\n",
       "                        <td id=\"T_590bcace_0baf_11eb_ac84_525400f2e32erow11_col8\" class=\"data row11 col8\" >0.684089</td>\n",
       "                        <td id=\"T_590bcace_0baf_11eb_ac84_525400f2e32erow11_col9\" class=\"data row11 col9\" >0.624363</td>\n",
       "                        <td id=\"T_590bcace_0baf_11eb_ac84_525400f2e32erow11_col10\" class=\"data row11 col10\" >0.760892</td>\n",
       "                        <td id=\"T_590bcace_0baf_11eb_ac84_525400f2e32erow11_col11\" class=\"data row11 col11\" >1.000000</td>\n",
       "                        <td id=\"T_590bcace_0baf_11eb_ac84_525400f2e32erow11_col12\" class=\"data row11 col12\" >0.408118</td>\n",
       "                        <td id=\"T_590bcace_0baf_11eb_ac84_525400f2e32erow11_col13\" class=\"data row11 col13\" >0.166418</td>\n",
       "                        <td id=\"T_590bcace_0baf_11eb_ac84_525400f2e32erow11_col14\" class=\"data row11 col14\" >0.330898</td>\n",
       "                        <td id=\"T_590bcace_0baf_11eb_ac84_525400f2e32erow11_col15\" class=\"data row11 col15\" >0.033013</td>\n",
       "                        <td id=\"T_590bcace_0baf_11eb_ac84_525400f2e32erow11_col16\" class=\"data row11 col16\" >0.667040</td>\n",
       "            </tr>\n",
       "            <tr>\n",
       "                        <th id=\"T_590bcace_0baf_11eb_ac84_525400f2e32elevel0_row12\" class=\"row_heading level0 row12\" >International_movement_restrictions</th>\n",
       "                        <td id=\"T_590bcace_0baf_11eb_ac84_525400f2e32erow12_col0\" class=\"data row12 col0\" >-0.208718</td>\n",
       "                        <td id=\"T_590bcace_0baf_11eb_ac84_525400f2e32erow12_col1\" class=\"data row12 col1\" >0.169300</td>\n",
       "                        <td id=\"T_590bcace_0baf_11eb_ac84_525400f2e32erow12_col2\" class=\"data row12 col2\" >0.214793</td>\n",
       "                        <td id=\"T_590bcace_0baf_11eb_ac84_525400f2e32erow12_col3\" class=\"data row12 col3\" >0.160842</td>\n",
       "                        <td id=\"T_590bcace_0baf_11eb_ac84_525400f2e32erow12_col4\" class=\"data row12 col4\" >0.111519</td>\n",
       "                        <td id=\"T_590bcace_0baf_11eb_ac84_525400f2e32erow12_col5\" class=\"data row12 col5\" >0.455169</td>\n",
       "                        <td id=\"T_590bcace_0baf_11eb_ac84_525400f2e32erow12_col6\" class=\"data row12 col6\" >0.400036</td>\n",
       "                        <td id=\"T_590bcace_0baf_11eb_ac84_525400f2e32erow12_col7\" class=\"data row12 col7\" >0.671674</td>\n",
       "                        <td id=\"T_590bcace_0baf_11eb_ac84_525400f2e32erow12_col8\" class=\"data row12 col8\" >0.593324</td>\n",
       "                        <td id=\"T_590bcace_0baf_11eb_ac84_525400f2e32erow12_col9\" class=\"data row12 col9\" >0.606824</td>\n",
       "                        <td id=\"T_590bcace_0baf_11eb_ac84_525400f2e32erow12_col10\" class=\"data row12 col10\" >0.494508</td>\n",
       "                        <td id=\"T_590bcace_0baf_11eb_ac84_525400f2e32erow12_col11\" class=\"data row12 col11\" >0.408118</td>\n",
       "                        <td id=\"T_590bcace_0baf_11eb_ac84_525400f2e32erow12_col12\" class=\"data row12 col12\" >1.000000</td>\n",
       "                        <td id=\"T_590bcace_0baf_11eb_ac84_525400f2e32erow12_col13\" class=\"data row12 col13\" >0.391206</td>\n",
       "                        <td id=\"T_590bcace_0baf_11eb_ac84_525400f2e32erow12_col14\" class=\"data row12 col14\" >0.075314</td>\n",
       "                        <td id=\"T_590bcace_0baf_11eb_ac84_525400f2e32erow12_col15\" class=\"data row12 col15\" >0.114774</td>\n",
       "                        <td id=\"T_590bcace_0baf_11eb_ac84_525400f2e32erow12_col16\" class=\"data row12 col16\" >0.705999</td>\n",
       "            </tr>\n",
       "            <tr>\n",
       "                        <th id=\"T_590bcace_0baf_11eb_ac84_525400f2e32elevel0_row13\" class=\"row_heading level0 row13\" >Information_campaigns</th>\n",
       "                        <td id=\"T_590bcace_0baf_11eb_ac84_525400f2e32erow13_col0\" class=\"data row13 col0\" >-0.078485</td>\n",
       "                        <td id=\"T_590bcace_0baf_11eb_ac84_525400f2e32erow13_col1\" class=\"data row13 col1\" >-0.341199</td>\n",
       "                        <td id=\"T_590bcace_0baf_11eb_ac84_525400f2e32erow13_col2\" class=\"data row13 col2\" >-0.364477</td>\n",
       "                        <td id=\"T_590bcace_0baf_11eb_ac84_525400f2e32erow13_col3\" class=\"data row13 col3\" >-0.418689</td>\n",
       "                        <td id=\"T_590bcace_0baf_11eb_ac84_525400f2e32erow13_col4\" class=\"data row13 col4\" >0.013653</td>\n",
       "                        <td id=\"T_590bcace_0baf_11eb_ac84_525400f2e32erow13_col5\" class=\"data row13 col5\" >0.668767</td>\n",
       "                        <td id=\"T_590bcace_0baf_11eb_ac84_525400f2e32erow13_col6\" class=\"data row13 col6\" >0.814014</td>\n",
       "                        <td id=\"T_590bcace_0baf_11eb_ac84_525400f2e32erow13_col7\" class=\"data row13 col7\" >0.630884</td>\n",
       "                        <td id=\"T_590bcace_0baf_11eb_ac84_525400f2e32erow13_col8\" class=\"data row13 col8\" >0.528503</td>\n",
       "                        <td id=\"T_590bcace_0baf_11eb_ac84_525400f2e32erow13_col9\" class=\"data row13 col9\" >0.327484</td>\n",
       "                        <td id=\"T_590bcace_0baf_11eb_ac84_525400f2e32erow13_col10\" class=\"data row13 col10\" >0.370451</td>\n",
       "                        <td id=\"T_590bcace_0baf_11eb_ac84_525400f2e32erow13_col11\" class=\"data row13 col11\" >0.166418</td>\n",
       "                        <td id=\"T_590bcace_0baf_11eb_ac84_525400f2e32erow13_col12\" class=\"data row13 col12\" >0.391206</td>\n",
       "                        <td id=\"T_590bcace_0baf_11eb_ac84_525400f2e32erow13_col13\" class=\"data row13 col13\" >1.000000</td>\n",
       "                        <td id=\"T_590bcace_0baf_11eb_ac84_525400f2e32erow13_col14\" class=\"data row13 col14\" >0.550761</td>\n",
       "                        <td id=\"T_590bcace_0baf_11eb_ac84_525400f2e32erow13_col15\" class=\"data row13 col15\" >0.560827</td>\n",
       "                        <td id=\"T_590bcace_0baf_11eb_ac84_525400f2e32erow13_col16\" class=\"data row13 col16\" >0.723356</td>\n",
       "            </tr>\n",
       "            <tr>\n",
       "                        <th id=\"T_590bcace_0baf_11eb_ac84_525400f2e32elevel0_row14\" class=\"row_heading level0 row14\" >Testing_policy</th>\n",
       "                        <td id=\"T_590bcace_0baf_11eb_ac84_525400f2e32erow14_col0\" class=\"data row14 col0\" >-0.207271</td>\n",
       "                        <td id=\"T_590bcace_0baf_11eb_ac84_525400f2e32erow14_col1\" class=\"data row14 col1\" >-0.226259</td>\n",
       "                        <td id=\"T_590bcace_0baf_11eb_ac84_525400f2e32erow14_col2\" class=\"data row14 col2\" >-0.226614</td>\n",
       "                        <td id=\"T_590bcace_0baf_11eb_ac84_525400f2e32erow14_col3\" class=\"data row14 col3\" >-0.438851</td>\n",
       "                        <td id=\"T_590bcace_0baf_11eb_ac84_525400f2e32erow14_col4\" class=\"data row14 col4\" >-0.021235</td>\n",
       "                        <td id=\"T_590bcace_0baf_11eb_ac84_525400f2e32erow14_col5\" class=\"data row14 col5\" >0.480439</td>\n",
       "                        <td id=\"T_590bcace_0baf_11eb_ac84_525400f2e32erow14_col6\" class=\"data row14 col6\" >0.516242</td>\n",
       "                        <td id=\"T_590bcace_0baf_11eb_ac84_525400f2e32erow14_col7\" class=\"data row14 col7\" >0.334621</td>\n",
       "                        <td id=\"T_590bcace_0baf_11eb_ac84_525400f2e32erow14_col8\" class=\"data row14 col8\" >0.259631</td>\n",
       "                        <td id=\"T_590bcace_0baf_11eb_ac84_525400f2e32erow14_col9\" class=\"data row14 col9\" >0.048483</td>\n",
       "                        <td id=\"T_590bcace_0baf_11eb_ac84_525400f2e32erow14_col10\" class=\"data row14 col10\" >0.330238</td>\n",
       "                        <td id=\"T_590bcace_0baf_11eb_ac84_525400f2e32erow14_col11\" class=\"data row14 col11\" >0.330898</td>\n",
       "                        <td id=\"T_590bcace_0baf_11eb_ac84_525400f2e32erow14_col12\" class=\"data row14 col12\" >0.075314</td>\n",
       "                        <td id=\"T_590bcace_0baf_11eb_ac84_525400f2e32erow14_col13\" class=\"data row14 col13\" >0.550761</td>\n",
       "                        <td id=\"T_590bcace_0baf_11eb_ac84_525400f2e32erow14_col14\" class=\"data row14 col14\" >1.000000</td>\n",
       "                        <td id=\"T_590bcace_0baf_11eb_ac84_525400f2e32erow14_col15\" class=\"data row14 col15\" >0.533675</td>\n",
       "                        <td id=\"T_590bcace_0baf_11eb_ac84_525400f2e32erow14_col16\" class=\"data row14 col16\" >0.347446</td>\n",
       "            </tr>\n",
       "            <tr>\n",
       "                        <th id=\"T_590bcace_0baf_11eb_ac84_525400f2e32elevel0_row15\" class=\"row_heading level0 row15\" >Contact_tracing</th>\n",
       "                        <td id=\"T_590bcace_0baf_11eb_ac84_525400f2e32erow15_col0\" class=\"data row15 col0\" >-0.130815</td>\n",
       "                        <td id=\"T_590bcace_0baf_11eb_ac84_525400f2e32erow15_col1\" class=\"data row15 col1\" >0.010364</td>\n",
       "                        <td id=\"T_590bcace_0baf_11eb_ac84_525400f2e32erow15_col2\" class=\"data row15 col2\" >-0.038013</td>\n",
       "                        <td id=\"T_590bcace_0baf_11eb_ac84_525400f2e32erow15_col3\" class=\"data row15 col3\" >-0.249464</td>\n",
       "                        <td id=\"T_590bcace_0baf_11eb_ac84_525400f2e32erow15_col4\" class=\"data row15 col4\" >0.116823</td>\n",
       "                        <td id=\"T_590bcace_0baf_11eb_ac84_525400f2e32erow15_col5\" class=\"data row15 col5\" >0.267214</td>\n",
       "                        <td id=\"T_590bcace_0baf_11eb_ac84_525400f2e32erow15_col6\" class=\"data row15 col6\" >0.405949</td>\n",
       "                        <td id=\"T_590bcace_0baf_11eb_ac84_525400f2e32erow15_col7\" class=\"data row15 col7\" >0.261258</td>\n",
       "                        <td id=\"T_590bcace_0baf_11eb_ac84_525400f2e32erow15_col8\" class=\"data row15 col8\" >0.084011</td>\n",
       "                        <td id=\"T_590bcace_0baf_11eb_ac84_525400f2e32erow15_col9\" class=\"data row15 col9\" >-0.159497</td>\n",
       "                        <td id=\"T_590bcace_0baf_11eb_ac84_525400f2e32erow15_col10\" class=\"data row15 col10\" >0.314412</td>\n",
       "                        <td id=\"T_590bcace_0baf_11eb_ac84_525400f2e32erow15_col11\" class=\"data row15 col11\" >0.033013</td>\n",
       "                        <td id=\"T_590bcace_0baf_11eb_ac84_525400f2e32erow15_col12\" class=\"data row15 col12\" >0.114774</td>\n",
       "                        <td id=\"T_590bcace_0baf_11eb_ac84_525400f2e32erow15_col13\" class=\"data row15 col13\" >0.560827</td>\n",
       "                        <td id=\"T_590bcace_0baf_11eb_ac84_525400f2e32erow15_col14\" class=\"data row15 col14\" >0.533675</td>\n",
       "                        <td id=\"T_590bcace_0baf_11eb_ac84_525400f2e32erow15_col15\" class=\"data row15 col15\" >1.000000</td>\n",
       "                        <td id=\"T_590bcace_0baf_11eb_ac84_525400f2e32erow15_col16\" class=\"data row15 col16\" >0.313587</td>\n",
       "            </tr>\n",
       "            <tr>\n",
       "                        <th id=\"T_590bcace_0baf_11eb_ac84_525400f2e32elevel0_row16\" class=\"row_heading level0 row16\" >Stringency_index</th>\n",
       "                        <td id=\"T_590bcace_0baf_11eb_ac84_525400f2e32erow16_col0\" class=\"data row16 col0\" >-0.250314</td>\n",
       "                        <td id=\"T_590bcace_0baf_11eb_ac84_525400f2e32erow16_col1\" class=\"data row16 col1\" >-0.021736</td>\n",
       "                        <td id=\"T_590bcace_0baf_11eb_ac84_525400f2e32erow16_col2\" class=\"data row16 col2\" >-0.023438</td>\n",
       "                        <td id=\"T_590bcace_0baf_11eb_ac84_525400f2e32erow16_col3\" class=\"data row16 col3\" >-0.018639</td>\n",
       "                        <td id=\"T_590bcace_0baf_11eb_ac84_525400f2e32erow16_col4\" class=\"data row16 col4\" >0.236111</td>\n",
       "                        <td id=\"T_590bcace_0baf_11eb_ac84_525400f2e32erow16_col5\" class=\"data row16 col5\" >0.812643</td>\n",
       "                        <td id=\"T_590bcace_0baf_11eb_ac84_525400f2e32erow16_col6\" class=\"data row16 col6\" >0.798591</td>\n",
       "                        <td id=\"T_590bcace_0baf_11eb_ac84_525400f2e32erow16_col7\" class=\"data row16 col7\" >0.811368</td>\n",
       "                        <td id=\"T_590bcace_0baf_11eb_ac84_525400f2e32erow16_col8\" class=\"data row16 col8\" >0.873137</td>\n",
       "                        <td id=\"T_590bcace_0baf_11eb_ac84_525400f2e32erow16_col9\" class=\"data row16 col9\" >0.754446</td>\n",
       "                        <td id=\"T_590bcace_0baf_11eb_ac84_525400f2e32erow16_col10\" class=\"data row16 col10\" >0.772216</td>\n",
       "                        <td id=\"T_590bcace_0baf_11eb_ac84_525400f2e32erow16_col11\" class=\"data row16 col11\" >0.667040</td>\n",
       "                        <td id=\"T_590bcace_0baf_11eb_ac84_525400f2e32erow16_col12\" class=\"data row16 col12\" >0.705999</td>\n",
       "                        <td id=\"T_590bcace_0baf_11eb_ac84_525400f2e32erow16_col13\" class=\"data row16 col13\" >0.723356</td>\n",
       "                        <td id=\"T_590bcace_0baf_11eb_ac84_525400f2e32erow16_col14\" class=\"data row16 col14\" >0.347446</td>\n",
       "                        <td id=\"T_590bcace_0baf_11eb_ac84_525400f2e32erow16_col15\" class=\"data row16 col15\" >0.313587</td>\n",
       "                        <td id=\"T_590bcace_0baf_11eb_ac84_525400f2e32erow16_col16\" class=\"data row16 col16\" >1.000000</td>\n",
       "            </tr>\n",
       "    </tbody></table>"
      ],
      "text/plain": [
       "<pandas.io.formats.style.Styler at 0x7fde0e790fd0>"
      ]
     },
     "execution_count": 21,
     "metadata": {},
     "output_type": "execute_result"
    }
   ],
   "source": [
    "# Correlation\n",
    "df = track_df.copy()\n",
    "df.corr().style.background_gradient(axis=None)"
   ]
  },
  {
   "cell_type": "code",
   "execution_count": 22,
   "metadata": {
    "collapsed": false
   },
   "outputs": [
    {
     "data": {
      "image/png": "[encoded data removed]",
      "text/plain": [
       "<Figure size 432x288 with 1 Axes>"
      ]
     },
     "metadata": {},
     "output_type": "display_data"
    }
   ],
   "source": [
    "# Scatter plot of Stringency index and Rt\n",
    "df = track_df.copy()\n",
    "sns.scatterplot(data=df, x=\"Stringency_index\", y=\"Rt\", hue=\"Country\", legend=\"brief\", marker=\"+\")\n",
    "bbox_to_anchor=(1.02, 0)\n",
    "bbox_loc=\"lower left\"\n",
    "plt.legend(bbox_to_anchor=bbox_to_anchor, loc=bbox_loc, borderaxespad=0)\n",
    "plt.title(\"Relationship of Stringency index and reproduction number\")\n",
    "plt.ylabel(\"Reproduction number\")\n",
    "plt.xlabel(\"Stringency index\")\n",
    "plt.show()"
   ]
  }
 ],
 "metadata": {
  "kernelspec": {
   "display_name": "Python 3.8.2 64-bit ('.venv': venv)",
   "name": "python_defaultSpec_1597669925034"
  },
  "language_info": {
   "codemirror_mode": {
    "name": "ipython",
    "version": 3
   },
   "file_extension": ".py",
   "mimetype": "text/x-python",
   "name": "python",
   "nbconvert_exporter": "python",
   "pygments_lexer": "ipython3",
   "version": "3.8.2-final"
  }
 },
 "nbformat": 4,
 "nbformat_minor": 4
}
