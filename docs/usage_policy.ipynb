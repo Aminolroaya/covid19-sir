{
 "cells": [
  {
   "cell_type": "markdown",
   "metadata": {},
   "source": [
    "# Usage (details: policy measures)\n",
    "Here, we will analyse the relationship of policy measures and parameter values of SIR-derived ODE models. Policy measures are tracked by [Oxford Covid-19 Government Response Tracker (OxCGRT)](https://github.com/OxCGRT/covid-policy-tracker)."
   ]
  },
  {
   "cell_type": "markdown",
   "metadata": {},
   "source": [
    "## Preparation"
   ]
  },
  {
   "cell_type": "code",
   "execution_count": 1,
   "metadata": {
    "collapsed": false
   },
   "outputs": [],
   "source": [
    "# Standard users\n",
    "# !pip install covsirphy\n",
    "# Developers (Note: this notebook is in example directory)\n",
    "import os\n",
    "os.chdir(\"../\")"
   ]
  },
  {
   "cell_type": "code",
   "execution_count": 2,
   "metadata": {
    "collapsed": false
   },
   "outputs": [],
   "source": [
    "from pprint import pprint"
   ]
  },
  {
   "cell_type": "code",
   "execution_count": 3,
   "metadata": {
    "collapsed": false
   },
   "outputs": [
    {
     "data": {
      "text/plain": [
       "'2.7.3-alpha.new.202.203.206'"
      ]
     },
     "execution_count": 3,
     "metadata": {},
     "output_type": "execute_result"
    }
   ],
   "source": [
    "import covsirphy as cs\n",
    "cs.__version__"
   ]
  },
  {
   "cell_type": "code",
   "execution_count": 4,
   "metadata": {
    "collapsed": false,
    "tags": []
   },
   "outputs": [
    {
     "name": "stdout",
     "output_type": "stream",
     "text": [
      "(Secondary source) Guidotti, E., Ardia, D., (2020), \"COVID-19 Data Hub\", Working paper, doi: 10.13140/RG.2.2.11649.81763.\n",
      "We can get Citation list of primary sources with DataLoader(...).covid19dh_citation"
     ]
    },
    {
     "name": "stdout",
     "output_type": "stream",
     "text": [
      "\n"
     ]
    }
   ],
   "source": [
    "# Standard users and developers\n",
    "data_loader = cs.DataLoader(\"input\")\n",
    "# The number of cases (JHU style)\n",
    "jhu_data = data_loader.jhu(verbose=False)\n",
    "# Population in each country\n",
    "population_data = data_loader.population(verbose=False)\n",
    "# Government Response Tracker (OxCGRT)\n",
    "oxcgrt_data = data_loader.oxcgrt(verbose=False)\n",
    "# Description/citation\n",
    "print(oxcgrt_data.citation)"
   ]
  },
  {
   "cell_type": "markdown",
   "metadata": {},
   "source": [
    "## Class for policy measure analysis\n",
    "We will `PolicyMeasures` class to find relationship of policy measures and parameter values of SIR-derived ODE models."
   ]
  },
  {
   "cell_type": "code",
   "execution_count": 5,
   "metadata": {
    "collapsed": false,
    "tags": []
   },
   "outputs": [
    {
     "data": {
      "text/plain": [
       "184"
      ]
     },
     "execution_count": 5,
     "metadata": {},
     "output_type": "execute_result"
    }
   ],
   "source": [
    "# Create analyser with tau value 360 [min] (can be changed)\n",
    "analyser = cs.PolicyMeasures(jhu_data, population_data, oxcgrt_data, tau=360)\n",
    "# The number of registerd countries\n",
    "len(analyser.countries)"
   ]
  },
  {
   "cell_type": "code",
   "execution_count": 6,
   "metadata": {
    "collapsed": false
   },
   "outputs": [
    {
     "data": {
      "text/plain": [
       "covsirphy.analysis.scenario.Scenario"
      ]
     },
     "execution_count": 6,
     "metadata": {},
     "output_type": "execute_result"
    }
   ],
   "source": [
    "# We can get Scenario instance for detailed scenario analysis\n",
    "type(analyser.scenario(\"Japan\"))"
   ]
  },
  {
   "cell_type": "markdown",
   "metadata": {},
   "source": [
    "## Set phases with S-R trend analysis\n",
    "We will perform S-R trend analysis to set phases in all countries. Countries which do not have **9th phases** will be un-registered for the next analysis. This number will be adjusted for your analysis."
   ]
  },
  {
   "cell_type": "code",
   "execution_count": 7,
   "metadata": {
    "collapsed": false
   },
   "outputs": [
    {
     "name": "stdout",
     "output_type": "stream",
     "text": [
      "{"
     ]
    },
    {
     "name": "stdout",
     "output_type": "stream",
     "text": [
      "2"
     ]
    },
    {
     "name": "stdout",
     "output_type": "stream",
     "text": [
      ": "
     ]
    },
    {
     "name": "stdout",
     "output_type": "stream",
     "text": [
      "['Papua New Guinea', 'Seychelles', 'Namibia', 'Belize']"
     ]
    },
    {
     "name": "stdout",
     "output_type": "stream",
     "text": [
      ",\n",
      " "
     ]
    },
    {
     "name": "stdout",
     "output_type": "stream",
     "text": [
      "3"
     ]
    },
    {
     "name": "stdout",
     "output_type": "stream",
     "text": [
      ": "
     ]
    },
    {
     "name": "stdout",
     "output_type": "stream",
     "text": [
      "["
     ]
    },
    {
     "name": "stdout",
     "output_type": "stream",
     "text": [
      "'Brunei'"
     ]
    },
    {
     "name": "stdout",
     "output_type": "stream",
     "text": [
      ", "
     ]
    },
    {
     "name": "stdout",
     "output_type": "stream",
     "text": [
      "'Zimbabwe'"
     ]
    },
    {
     "name": "stdout",
     "output_type": "stream",
     "text": [
      ", "
     ]
    },
    {
     "name": "stdout",
     "output_type": "stream",
     "text": [
      "'Mauritius'"
     ]
    },
    {
     "name": "stdout",
     "output_type": "stream",
     "text": [
      ", "
     ]
    },
    {
     "name": "stdout",
     "output_type": "stream",
     "text": [
      "'Lesotho'"
     ]
    },
    {
     "name": "stdout",
     "output_type": "stream",
     "text": [
      ", "
     ]
    },
    {
     "name": "stdout",
     "output_type": "stream",
     "text": [
      "'Tanzania'"
     ]
    },
    {
     "name": "stdout",
     "output_type": "stream",
     "text": [
      ", "
     ]
    },
    {
     "name": "stdout",
     "output_type": "stream",
     "text": [
      "'Bahamas'"
     ]
    },
    {
     "name": "stdout",
     "output_type": "stream",
     "text": [
      ",\n",
      "     "
     ]
    },
    {
     "name": "stdout",
     "output_type": "stream",
     "text": [
      "'Trinidad and Tobago'"
     ]
    },
    {
     "name": "stdout",
     "output_type": "stream",
     "text": [
      ", "
     ]
    },
    {
     "name": "stdout",
     "output_type": "stream",
     "text": [
      "'Antigua and Barbuda'"
     ]
    },
    {
     "name": "stdout",
     "output_type": "stream",
     "text": [
      ", "
     ]
    },
    {
     "name": "stdout",
     "output_type": "stream",
     "text": [
      "'Fiji'"
     ]
    },
    {
     "name": "stdout",
     "output_type": "stream",
     "text": [
      ", "
     ]
    },
    {
     "name": "stdout",
     "output_type": "stream",
     "text": [
      "'Gambia'"
     ]
    },
    {
     "name": "stdout",
     "output_type": "stream",
     "text": [
      "]"
     ]
    },
    {
     "name": "stdout",
     "output_type": "stream",
     "text": [
      ",\n",
      " "
     ]
    },
    {
     "name": "stdout",
     "output_type": "stream",
     "text": [
      "4"
     ]
    },
    {
     "name": "stdout",
     "output_type": "stream",
     "text": [
      ": "
     ]
    },
    {
     "name": "stdout",
     "output_type": "stream",
     "text": [
      "["
     ]
    },
    {
     "name": "stdout",
     "output_type": "stream",
     "text": [
      "'Montenegro'"
     ]
    },
    {
     "name": "stdout",
     "output_type": "stream",
     "text": [
      ", "
     ]
    },
    {
     "name": "stdout",
     "output_type": "stream",
     "text": [
      "'Yemen'"
     ]
    },
    {
     "name": "stdout",
     "output_type": "stream",
     "text": [
      ", "
     ]
    },
    {
     "name": "stdout",
     "output_type": "stream",
     "text": [
      "'Botswana'"
     ]
    },
    {
     "name": "stdout",
     "output_type": "stream",
     "text": [
      ", "
     ]
    },
    {
     "name": "stdout",
     "output_type": "stream",
     "text": [
      "'New Zealand'"
     ]
    },
    {
     "name": "stdout",
     "output_type": "stream",
     "text": [
      ",\n",
      "     "
     ]
    },
    {
     "name": "stdout",
     "output_type": "stream",
     "text": [
      "'Central African Republic'"
     ]
    },
    {
     "name": "stdout",
     "output_type": "stream",
     "text": [
      ", "
     ]
    },
    {
     "name": "stdout",
     "output_type": "stream",
     "text": [
      "'South Sudan'"
     ]
    },
    {
     "name": "stdout",
     "output_type": "stream",
     "text": [
      ", "
     ]
    },
    {
     "name": "stdout",
     "output_type": "stream",
     "text": [
      "'Saint Lucia'"
     ]
    },
    {
     "name": "stdout",
     "output_type": "stream",
     "text": [
      ",\n",
      "     "
     ]
    },
    {
     "name": "stdout",
     "output_type": "stream",
     "text": [
      "'Equatorial Guinea'"
     ]
    },
    {
     "name": "stdout",
     "output_type": "stream",
     "text": [
      ", "
     ]
    },
    {
     "name": "stdout",
     "output_type": "stream",
     "text": [
      "'Eritrea'"
     ]
    },
    {
     "name": "stdout",
     "output_type": "stream",
     "text": [
      ", "
     ]
    },
    {
     "name": "stdout",
     "output_type": "stream",
     "text": [
      "'Zambia'"
     ]
    },
    {
     "name": "stdout",
     "output_type": "stream",
     "text": [
      ", "
     ]
    },
    {
     "name": "stdout",
     "output_type": "stream",
     "text": [
      "'Vietnam'"
     ]
    },
    {
     "name": "stdout",
     "output_type": "stream",
     "text": [
      ", "
     ]
    },
    {
     "name": "stdout",
     "output_type": "stream",
     "text": [
      "'Libya'"
     ]
    },
    {
     "name": "stdout",
     "output_type": "stream",
     "text": [
      ", "
     ]
    },
    {
     "name": "stdout",
     "output_type": "stream",
     "text": [
      "'Kyrgyzstan'"
     ]
    },
    {
     "name": "stdout",
     "output_type": "stream",
     "text": [
      ",\n",
      "     "
     ]
    },
    {
     "name": "stdout",
     "output_type": "stream",
     "text": [
      "'Sao Tome and Principe'"
     ]
    },
    {
     "name": "stdout",
     "output_type": "stream",
     "text": [
      ", "
     ]
    },
    {
     "name": "stdout",
     "output_type": "stream",
     "text": [
      "'Ireland'"
     ]
    },
    {
     "name": "stdout",
     "output_type": "stream",
     "text": [
      ", "
     ]
    },
    {
     "name": "stdout",
     "output_type": "stream",
     "text": [
      "'Malta'"
     ]
    },
    {
     "name": "stdout",
     "output_type": "stream",
     "text": [
      ", "
     ]
    },
    {
     "name": "stdout",
     "output_type": "stream",
     "text": [
      "'Norway'"
     ]
    },
    {
     "name": "stdout",
     "output_type": "stream",
     "text": [
      ", "
     ]
    },
    {
     "name": "stdout",
     "output_type": "stream",
     "text": [
      "'Angola'"
     ]
    },
    {
     "name": "stdout",
     "output_type": "stream",
     "text": [
      ",\n",
      "     "
     ]
    },
    {
     "name": "stdout",
     "output_type": "stream",
     "text": [
      "'Palestine'"
     ]
    },
    {
     "name": "stdout",
     "output_type": "stream",
     "text": [
      ", "
     ]
    },
    {
     "name": "stdout",
     "output_type": "stream",
     "text": [
      "'Grenada'"
     ]
    },
    {
     "name": "stdout",
     "output_type": "stream",
     "text": [
      "]"
     ]
    },
    {
     "name": "stdout",
     "output_type": "stream",
     "text": [
      ",\n",
      " "
     ]
    },
    {
     "name": "stdout",
     "output_type": "stream",
     "text": [
      "5"
     ]
    },
    {
     "name": "stdout",
     "output_type": "stream",
     "text": [
      ": "
     ]
    },
    {
     "name": "stdout",
     "output_type": "stream",
     "text": [
      "["
     ]
    },
    {
     "name": "stdout",
     "output_type": "stream",
     "text": [
      "'Guyana'"
     ]
    },
    {
     "name": "stdout",
     "output_type": "stream",
     "text": [
      ", "
     ]
    },
    {
     "name": "stdout",
     "output_type": "stream",
     "text": [
      "'Philippines'"
     ]
    },
    {
     "name": "stdout",
     "output_type": "stream",
     "text": [
      ", "
     ]
    },
    {
     "name": "stdout",
     "output_type": "stream",
     "text": [
      "'Iceland'"
     ]
    },
    {
     "name": "stdout",
     "output_type": "stream",
     "text": [
      ", "
     ]
    },
    {
     "name": "stdout",
     "output_type": "stream",
     "text": [
      "'Australia'"
     ]
    },
    {
     "name": "stdout",
     "output_type": "stream",
     "text": [
      ",\n",
      "     "
     ]
    },
    {
     "name": "stdout",
     "output_type": "stream",
     "text": [
      "'Saint Vincent and the Grenadines'"
     ]
    },
    {
     "name": "stdout",
     "output_type": "stream",
     "text": [
      ", "
     ]
    },
    {
     "name": "stdout",
     "output_type": "stream",
     "text": [
      "'Syria'"
     ]
    },
    {
     "name": "stdout",
     "output_type": "stream",
     "text": [
      ", "
     ]
    },
    {
     "name": "stdout",
     "output_type": "stream",
     "text": [
      "'Venezuela'"
     ]
    },
    {
     "name": "stdout",
     "output_type": "stream",
     "text": [
      ", "
     ]
    },
    {
     "name": "stdout",
     "output_type": "stream",
     "text": [
      "'Madagascar'"
     ]
    },
    {
     "name": "stdout",
     "output_type": "stream",
     "text": [
      ",\n",
      "     "
     ]
    },
    {
     "name": "stdout",
     "output_type": "stream",
     "text": [
      "'Morocco'"
     ]
    },
    {
     "name": "stdout",
     "output_type": "stream",
     "text": [
      ", "
     ]
    },
    {
     "name": "stdout",
     "output_type": "stream",
     "text": [
      "'Suriname'"
     ]
    },
    {
     "name": "stdout",
     "output_type": "stream",
     "text": [
      ", "
     ]
    },
    {
     "name": "stdout",
     "output_type": "stream",
     "text": [
      "'Chad'"
     ]
    },
    {
     "name": "stdout",
     "output_type": "stream",
     "text": [
      ", "
     ]
    },
    {
     "name": "stdout",
     "output_type": "stream",
     "text": [
      "'Lebanon'"
     ]
    },
    {
     "name": "stdout",
     "output_type": "stream",
     "text": [
      ", "
     ]
    },
    {
     "name": "stdout",
     "output_type": "stream",
     "text": [
      "'Japan'"
     ]
    },
    {
     "name": "stdout",
     "output_type": "stream",
     "text": [
      ", "
     ]
    },
    {
     "name": "stdout",
     "output_type": "stream",
     "text": [
      "'Ethiopia'"
     ]
    },
    {
     "name": "stdout",
     "output_type": "stream",
     "text": [
      ", "
     ]
    },
    {
     "name": "stdout",
     "output_type": "stream",
     "text": [
      "'Guatemala'"
     ]
    },
    {
     "name": "stdout",
     "output_type": "stream",
     "text": [
      ",\n",
      "     "
     ]
    },
    {
     "name": "stdout",
     "output_type": "stream",
     "text": [
      "'Comoros'"
     ]
    },
    {
     "name": "stdout",
     "output_type": "stream",
     "text": [
      ", "
     ]
    },
    {
     "name": "stdout",
     "output_type": "stream",
     "text": [
      "'San Marino'"
     ]
    },
    {
     "name": "stdout",
     "output_type": "stream",
     "text": [
      ", "
     ]
    },
    {
     "name": "stdout",
     "output_type": "stream",
     "text": [
      "'Israel'"
     ]
    },
    {
     "name": "stdout",
     "output_type": "stream",
     "text": [
      ", "
     ]
    },
    {
     "name": "stdout",
     "output_type": "stream",
     "text": [
      "'Paraguay'"
     ]
    },
    {
     "name": "stdout",
     "output_type": "stream",
     "text": [
      ", "
     ]
    },
    {
     "name": "stdout",
     "output_type": "stream",
     "text": [
      "'Mongolia'"
     ]
    },
    {
     "name": "stdout",
     "output_type": "stream",
     "text": [
      ", "
     ]
    },
    {
     "name": "stdout",
     "output_type": "stream",
     "text": [
      "'Costa Rica'"
     ]
    },
    {
     "name": "stdout",
     "output_type": "stream",
     "text": [
      ",\n",
      "     "
     ]
    },
    {
     "name": "stdout",
     "output_type": "stream",
     "text": [
      "'Liechtenstein'"
     ]
    },
    {
     "name": "stdout",
     "output_type": "stream",
     "text": [
      ", "
     ]
    },
    {
     "name": "stdout",
     "output_type": "stream",
     "text": [
      "'Kosovo'"
     ]
    },
    {
     "name": "stdout",
     "output_type": "stream",
     "text": [
      ", "
     ]
    },
    {
     "name": "stdout",
     "output_type": "stream",
     "text": [
      "'Maldives'"
     ]
    },
    {
     "name": "stdout",
     "output_type": "stream",
     "text": [
      ", "
     ]
    },
    {
     "name": "stdout",
     "output_type": "stream",
     "text": [
      "'Kazakhstan'"
     ]
    },
    {
     "name": "stdout",
     "output_type": "stream",
     "text": [
      ", "
     ]
    },
    {
     "name": "stdout",
     "output_type": "stream",
     "text": [
      "'Malawi'"
     ]
    },
    {
     "name": "stdout",
     "output_type": "stream",
     "text": [
      "]"
     ]
    },
    {
     "name": "stdout",
     "output_type": "stream",
     "text": [
      ",\n",
      " "
     ]
    },
    {
     "name": "stdout",
     "output_type": "stream",
     "text": [
      "6"
     ]
    },
    {
     "name": "stdout",
     "output_type": "stream",
     "text": [
      ": "
     ]
    },
    {
     "name": "stdout",
     "output_type": "stream",
     "text": [
      "["
     ]
    },
    {
     "name": "stdout",
     "output_type": "stream",
     "text": [
      "'Mozambique'"
     ]
    },
    {
     "name": "stdout",
     "output_type": "stream",
     "text": [
      ", "
     ]
    },
    {
     "name": "stdout",
     "output_type": "stream",
     "text": [
      "'India'"
     ]
    },
    {
     "name": "stdout",
     "output_type": "stream",
     "text": [
      ", "
     ]
    },
    {
     "name": "stdout",
     "output_type": "stream",
     "text": [
      "'Oman'"
     ]
    },
    {
     "name": "stdout",
     "output_type": "stream",
     "text": [
      ", "
     ]
    },
    {
     "name": "stdout",
     "output_type": "stream",
     "text": [
      "'Benin'"
     ]
    },
    {
     "name": "stdout",
     "output_type": "stream",
     "text": [
      ", "
     ]
    },
    {
     "name": "stdout",
     "output_type": "stream",
     "text": [
      "'Cambodia'"
     ]
    },
    {
     "name": "stdout",
     "output_type": "stream",
     "text": [
      ", "
     ]
    },
    {
     "name": "stdout",
     "output_type": "stream",
     "text": [
      "'Slovakia'"
     ]
    },
    {
     "name": "stdout",
     "output_type": "stream",
     "text": [
      ", "
     ]
    },
    {
     "name": "stdout",
     "output_type": "stream",
     "text": [
      "'Cameroon'"
     ]
    },
    {
     "name": "stdout",
     "output_type": "stream",
     "text": [
      ",\n",
      "     "
     ]
    },
    {
     "name": "stdout",
     "output_type": "stream",
     "text": [
      "'Andorra'"
     ]
    },
    {
     "name": "stdout",
     "output_type": "stream",
     "text": [
      ", "
     ]
    },
    {
     "name": "stdout",
     "output_type": "stream",
     "text": [
      "'Cuba'"
     ]
    },
    {
     "name": "stdout",
     "output_type": "stream",
     "text": [
      ", "
     ]
    },
    {
     "name": "stdout",
     "output_type": "stream",
     "text": [
      "'Colombia'"
     ]
    },
    {
     "name": "stdout",
     "output_type": "stream",
     "text": [
      ", "
     ]
    },
    {
     "name": "stdout",
     "output_type": "stream",
     "text": [
      "'Bosnia and Herzegovina'"
     ]
    },
    {
     "name": "stdout",
     "output_type": "stream",
     "text": [
      ", "
     ]
    },
    {
     "name": "stdout",
     "output_type": "stream",
     "text": [
      "'Burundi'"
     ]
    },
    {
     "name": "stdout",
     "output_type": "stream",
     "text": [
      ",\n",
      "     "
     ]
    },
    {
     "name": "stdout",
     "output_type": "stream",
     "text": [
      "'Croatia'"
     ]
    },
    {
     "name": "stdout",
     "output_type": "stream",
     "text": [
      ", "
     ]
    },
    {
     "name": "stdout",
     "output_type": "stream",
     "text": [
      "'Thailand'"
     ]
    },
    {
     "name": "stdout",
     "output_type": "stream",
     "text": [
      ", "
     ]
    },
    {
     "name": "stdout",
     "output_type": "stream",
     "text": [
      "'Luxembourg'"
     ]
    },
    {
     "name": "stdout",
     "output_type": "stream",
     "text": [
      ", "
     ]
    },
    {
     "name": "stdout",
     "output_type": "stream",
     "text": [
      "'Greece'"
     ]
    },
    {
     "name": "stdout",
     "output_type": "stream",
     "text": [
      ", "
     ]
    },
    {
     "name": "stdout",
     "output_type": "stream",
     "text": [
      "'Bermuda'"
     ]
    },
    {
     "name": "stdout",
     "output_type": "stream",
     "text": [
      ", "
     ]
    },
    {
     "name": "stdout",
     "output_type": "stream",
     "text": [
      "'Swaziland'"
     ]
    },
    {
     "name": "stdout",
     "output_type": "stream",
     "text": [
      ",\n",
      "     "
     ]
    },
    {
     "name": "stdout",
     "output_type": "stream",
     "text": [
      "'Honduras'"
     ]
    },
    {
     "name": "stdout",
     "output_type": "stream",
     "text": [
      ", "
     ]
    },
    {
     "name": "stdout",
     "output_type": "stream",
     "text": [
      "'Somalia'"
     ]
    },
    {
     "name": "stdout",
     "output_type": "stream",
     "text": [
      ", "
     ]
    },
    {
     "name": "stdout",
     "output_type": "stream",
     "text": [
      "'Kenya'"
     ]
    },
    {
     "name": "stdout",
     "output_type": "stream",
     "text": [
      ", "
     ]
    },
    {
     "name": "stdout",
     "output_type": "stream",
     "text": [
      "'Argentina'"
     ]
    },
    {
     "name": "stdout",
     "output_type": "stream",
     "text": [
      ", "
     ]
    },
    {
     "name": "stdout",
     "output_type": "stream",
     "text": [
      "'Guinea-Bissau'"
     ]
    },
    {
     "name": "stdout",
     "output_type": "stream",
     "text": [
      ", "
     ]
    },
    {
     "name": "stdout",
     "output_type": "stream",
     "text": [
      "'Bhutan'"
     ]
    },
    {
     "name": "stdout",
     "output_type": "stream",
     "text": [
      ",\n",
      "     "
     ]
    },
    {
     "name": "stdout",
     "output_type": "stream",
     "text": [
      "'Uzbekistan'"
     ]
    },
    {
     "name": "stdout",
     "output_type": "stream",
     "text": [
      ", "
     ]
    },
    {
     "name": "stdout",
     "output_type": "stream",
     "text": [
      "'Spain'"
     ]
    },
    {
     "name": "stdout",
     "output_type": "stream",
     "text": [
      ", "
     ]
    },
    {
     "name": "stdout",
     "output_type": "stream",
     "text": [
      "'Congo'"
     ]
    },
    {
     "name": "stdout",
     "output_type": "stream",
     "text": [
      ", "
     ]
    },
    {
     "name": "stdout",
     "output_type": "stream",
     "text": [
      "'Sri Lanka'"
     ]
    },
    {
     "name": "stdout",
     "output_type": "stream",
     "text": [
      ", "
     ]
    },
    {
     "name": "stdout",
     "output_type": "stream",
     "text": [
      "'Nepal'"
     ]
    },
    {
     "name": "stdout",
     "output_type": "stream",
     "text": [
      ", "
     ]
    },
    {
     "name": "stdout",
     "output_type": "stream",
     "text": [
      "'Qatar'"
     ]
    },
    {
     "name": "stdout",
     "output_type": "stream",
     "text": [
      ", "
     ]
    },
    {
     "name": "stdout",
     "output_type": "stream",
     "text": [
      "'Cyprus'"
     ]
    },
    {
     "name": "stdout",
     "output_type": "stream",
     "text": [
      ",\n",
      "     "
     ]
    },
    {
     "name": "stdout",
     "output_type": "stream",
     "text": [
      "'Uganda'"
     ]
    },
    {
     "name": "stdout",
     "output_type": "stream",
     "text": [
      ", "
     ]
    },
    {
     "name": "stdout",
     "output_type": "stream",
     "text": [
      "'Taiwan'"
     ]
    },
    {
     "name": "stdout",
     "output_type": "stream",
     "text": [
      ", "
     ]
    },
    {
     "name": "stdout",
     "output_type": "stream",
     "text": [
      "'Haiti'"
     ]
    },
    {
     "name": "stdout",
     "output_type": "stream",
     "text": [
      ", "
     ]
    },
    {
     "name": "stdout",
     "output_type": "stream",
     "text": [
      "'Tajikistan'"
     ]
    },
    {
     "name": "stdout",
     "output_type": "stream",
     "text": [
      ", "
     ]
    },
    {
     "name": "stdout",
     "output_type": "stream",
     "text": [
      "'Afghanistan'"
     ]
    },
    {
     "name": "stdout",
     "output_type": "stream",
     "text": [
      "]"
     ]
    },
    {
     "name": "stdout",
     "output_type": "stream",
     "text": [
      ",\n",
      " "
     ]
    },
    {
     "name": "stdout",
     "output_type": "stream",
     "text": [
      "7"
     ]
    },
    {
     "name": "stdout",
     "output_type": "stream",
     "text": [
      ": "
     ]
    },
    {
     "name": "stdout",
     "output_type": "stream",
     "text": [
      "["
     ]
    },
    {
     "name": "stdout",
     "output_type": "stream",
     "text": [
      "'Bulgaria'"
     ]
    },
    {
     "name": "stdout",
     "output_type": "stream",
     "text": [
      ", "
     ]
    },
    {
     "name": "stdout",
     "output_type": "stream",
     "text": [
      "'Egypt'"
     ]
    },
    {
     "name": "stdout",
     "output_type": "stream",
     "text": [
      ", "
     ]
    },
    {
     "name": "stdout",
     "output_type": "stream",
     "text": [
      "'El Salvador'"
     ]
    },
    {
     "name": "stdout",
     "output_type": "stream",
     "text": [
      ", "
     ]
    },
    {
     "name": "stdout",
     "output_type": "stream",
     "text": [
      "'Macedonia'"
     ]
    },
    {
     "name": "stdout",
     "output_type": "stream",
     "text": [
      ", "
     ]
    },
    {
     "name": "stdout",
     "output_type": "stream",
     "text": [
      "'Mauritania'"
     ]
    },
    {
     "name": "stdout",
     "output_type": "stream",
     "text": [
      ", "
     ]
    },
    {
     "name": "stdout",
     "output_type": "stream",
     "text": [
      "'Ghana'"
     ]
    },
    {
     "name": "stdout",
     "output_type": "stream",
     "text": [
      ",\n",
      "     "
     ]
    },
    {
     "name": "stdout",
     "output_type": "stream",
     "text": [
      "'Gabon'"
     ]
    },
    {
     "name": "stdout",
     "output_type": "stream",
     "text": [
      ", "
     ]
    },
    {
     "name": "stdout",
     "output_type": "stream",
     "text": [
      "'Monaco'"
     ]
    },
    {
     "name": "stdout",
     "output_type": "stream",
     "text": [
      ", "
     ]
    },
    {
     "name": "stdout",
     "output_type": "stream",
     "text": [
      "'Germany'"
     ]
    },
    {
     "name": "stdout",
     "output_type": "stream",
     "text": [
      ", "
     ]
    },
    {
     "name": "stdout",
     "output_type": "stream",
     "text": [
      "'Iraq'"
     ]
    },
    {
     "name": "stdout",
     "output_type": "stream",
     "text": [
      ", "
     ]
    },
    {
     "name": "stdout",
     "output_type": "stream",
     "text": [
      "'Sudan'"
     ]
    },
    {
     "name": "stdout",
     "output_type": "stream",
     "text": [
      ", "
     ]
    },
    {
     "name": "stdout",
     "output_type": "stream",
     "text": [
      "'Cape Verde'"
     ]
    },
    {
     "name": "stdout",
     "output_type": "stream",
     "text": [
      ", "
     ]
    },
    {
     "name": "stdout",
     "output_type": "stream",
     "text": [
      "'Slovenia'"
     ]
    },
    {
     "name": "stdout",
     "output_type": "stream",
     "text": [
      ",\n",
      "     "
     ]
    },
    {
     "name": "stdout",
     "output_type": "stream",
     "text": [
      "'Armenia'"
     ]
    },
    {
     "name": "stdout",
     "output_type": "stream",
     "text": [
      ", "
     ]
    },
    {
     "name": "stdout",
     "output_type": "stream",
     "text": [
      "'Azerbaijan'"
     ]
    },
    {
     "name": "stdout",
     "output_type": "stream",
     "text": [
      ", "
     ]
    },
    {
     "name": "stdout",
     "output_type": "stream",
     "text": [
      "'China'"
     ]
    },
    {
     "name": "stdout",
     "output_type": "stream",
     "text": [
      ", "
     ]
    },
    {
     "name": "stdout",
     "output_type": "stream",
     "text": [
      "'Uruguay'"
     ]
    },
    {
     "name": "stdout",
     "output_type": "stream",
     "text": [
      ", "
     ]
    },
    {
     "name": "stdout",
     "output_type": "stream",
     "text": [
      "'Belarus'"
     ]
    },
    {
     "name": "stdout",
     "output_type": "stream",
     "text": [
      ", "
     ]
    },
    {
     "name": "stdout",
     "output_type": "stream",
     "text": [
      "'Jordan'"
     ]
    },
    {
     "name": "stdout",
     "output_type": "stream",
     "text": [
      ",\n",
      "     "
     ]
    },
    {
     "name": "stdout",
     "output_type": "stream",
     "text": [
      "'Switzerland'"
     ]
    },
    {
     "name": "stdout",
     "output_type": "stream",
     "text": [
      ", "
     ]
    },
    {
     "name": "stdout",
     "output_type": "stream",
     "text": [
      "'Barbados'"
     ]
    },
    {
     "name": "stdout",
     "output_type": "stream",
     "text": [
      ", "
     ]
    },
    {
     "name": "stdout",
     "output_type": "stream",
     "text": [
      "'South Africa'"
     ]
    },
    {
     "name": "stdout",
     "output_type": "stream",
     "text": [
      ", "
     ]
    },
    {
     "name": "stdout",
     "output_type": "stream",
     "text": [
      "'Jamaica'"
     ]
    },
    {
     "name": "stdout",
     "output_type": "stream",
     "text": [
      ", "
     ]
    },
    {
     "name": "stdout",
     "output_type": "stream",
     "text": [
      "'Serbia'"
     ]
    },
    {
     "name": "stdout",
     "output_type": "stream",
     "text": [
      ",\n",
      "     "
     ]
    },
    {
     "name": "stdout",
     "output_type": "stream",
     "text": [
      "'Sierra Leone'"
     ]
    },
    {
     "name": "stdout",
     "output_type": "stream",
     "text": [
      ", "
     ]
    },
    {
     "name": "stdout",
     "output_type": "stream",
     "text": [
      "'Ecuador'"
     ]
    },
    {
     "name": "stdout",
     "output_type": "stream",
     "text": [
      ", "
     ]
    },
    {
     "name": "stdout",
     "output_type": "stream",
     "text": [
      "'Burkina Faso'"
     ]
    },
    {
     "name": "stdout",
     "output_type": "stream",
     "text": [
      ", "
     ]
    },
    {
     "name": "stdout",
     "output_type": "stream",
     "text": [
      "'Panama'"
     ]
    },
    {
     "name": "stdout",
     "output_type": "stream",
     "text": [
      ", "
     ]
    },
    {
     "name": "stdout",
     "output_type": "stream",
     "text": [
      "'Niger'"
     ]
    },
    {
     "name": "stdout",
     "output_type": "stream",
     "text": [
      ", "
     ]
    },
    {
     "name": "stdout",
     "output_type": "stream",
     "text": [
      "'Togo'"
     ]
    },
    {
     "name": "stdout",
     "output_type": "stream",
     "text": [
      ",\n",
      "     "
     ]
    },
    {
     "name": "stdout",
     "output_type": "stream",
     "text": [
      "'Pakistan'"
     ]
    },
    {
     "name": "stdout",
     "output_type": "stream",
     "text": [
      ", "
     ]
    },
    {
     "name": "stdout",
     "output_type": "stream",
     "text": [
      "'Djibouti'"
     ]
    },
    {
     "name": "stdout",
     "output_type": "stream",
     "text": [
      ", "
     ]
    },
    {
     "name": "stdout",
     "output_type": "stream",
     "text": [
      "'Latvia'"
     ]
    },
    {
     "name": "stdout",
     "output_type": "stream",
     "text": [
      ", "
     ]
    },
    {
     "name": "stdout",
     "output_type": "stream",
     "text": [
      "'Dominican Republic'"
     ]
    },
    {
     "name": "stdout",
     "output_type": "stream",
     "text": [
      ", "
     ]
    },
    {
     "name": "stdout",
     "output_type": "stream",
     "text": [
      "'Rwanda'"
     ]
    },
    {
     "name": "stdout",
     "output_type": "stream",
     "text": [
      ",\n",
      "     "
     ]
    },
    {
     "name": "stdout",
     "output_type": "stream",
     "text": [
      "'Indonesia'"
     ]
    },
    {
     "name": "stdout",
     "output_type": "stream",
     "text": [
      ", "
     ]
    },
    {
     "name": "stdout",
     "output_type": "stream",
     "text": [
      "'Canada'"
     ]
    },
    {
     "name": "stdout",
     "output_type": "stream",
     "text": [
      ", "
     ]
    },
    {
     "name": "stdout",
     "output_type": "stream",
     "text": [
      "'Chile'"
     ]
    },
    {
     "name": "stdout",
     "output_type": "stream",
     "text": [
      ", "
     ]
    },
    {
     "name": "stdout",
     "output_type": "stream",
     "text": [
      "'Netherlands'"
     ]
    },
    {
     "name": "stdout",
     "output_type": "stream",
     "text": [
      ", "
     ]
    },
    {
     "name": "stdout",
     "output_type": "stream",
     "text": [
      "'Albania'"
     ]
    },
    {
     "name": "stdout",
     "output_type": "stream",
     "text": [
      ", "
     ]
    },
    {
     "name": "stdout",
     "output_type": "stream",
     "text": [
      "'Finland'"
     ]
    },
    {
     "name": "stdout",
     "output_type": "stream",
     "text": [
      "]"
     ]
    },
    {
     "name": "stdout",
     "output_type": "stream",
     "text": [
      ",\n",
      " "
     ]
    },
    {
     "name": "stdout",
     "output_type": "stream",
     "text": [
      "8"
     ]
    },
    {
     "name": "stdout",
     "output_type": "stream",
     "text": [
      ": "
     ]
    },
    {
     "name": "stdout",
     "output_type": "stream",
     "text": [
      "["
     ]
    },
    {
     "name": "stdout",
     "output_type": "stream",
     "text": [
      "'Saudi Arabia'"
     ]
    },
    {
     "name": "stdout",
     "output_type": "stream",
     "text": [
      ", "
     ]
    },
    {
     "name": "stdout",
     "output_type": "stream",
     "text": [
      "'Hungary'"
     ]
    },
    {
     "name": "stdout",
     "output_type": "stream",
     "text": [
      ", "
     ]
    },
    {
     "name": "stdout",
     "output_type": "stream",
     "text": [
      "'Malaysia'"
     ]
    },
    {
     "name": "stdout",
     "output_type": "stream",
     "text": [
      ", "
     ]
    },
    {
     "name": "stdout",
     "output_type": "stream",
     "text": [
      "'Belgium'"
     ]
    },
    {
     "name": "stdout",
     "output_type": "stream",
     "text": [
      ", "
     ]
    },
    {
     "name": "stdout",
     "output_type": "stream",
     "text": [
      "'Denmark'"
     ]
    },
    {
     "name": "stdout",
     "output_type": "stream",
     "text": [
      ", "
     ]
    },
    {
     "name": "stdout",
     "output_type": "stream",
     "text": [
      "'Algeria'"
     ]
    },
    {
     "name": "stdout",
     "output_type": "stream",
     "text": [
      ",\n",
      "     "
     ]
    },
    {
     "name": "stdout",
     "output_type": "stream",
     "text": [
      "'Liberia'"
     ]
    },
    {
     "name": "stdout",
     "output_type": "stream",
     "text": [
      ", "
     ]
    },
    {
     "name": "stdout",
     "output_type": "stream",
     "text": [
      "'Bolivia'"
     ]
    },
    {
     "name": "stdout",
     "output_type": "stream",
     "text": [
      ", "
     ]
    },
    {
     "name": "stdout",
     "output_type": "stream",
     "text": [
      "'Tunisia'"
     ]
    },
    {
     "name": "stdout",
     "output_type": "stream",
     "text": [
      ", "
     ]
    },
    {
     "name": "stdout",
     "output_type": "stream",
     "text": [
      "'Brazil'"
     ]
    },
    {
     "name": "stdout",
     "output_type": "stream",
     "text": [
      ", "
     ]
    },
    {
     "name": "stdout",
     "output_type": "stream",
     "text": [
      "'Singapore'"
     ]
    },
    {
     "name": "stdout",
     "output_type": "stream",
     "text": [
      ", "
     ]
    },
    {
     "name": "stdout",
     "output_type": "stream",
     "text": [
      "'Estonia'"
     ]
    },
    {
     "name": "stdout",
     "output_type": "stream",
     "text": [
      ",\n",
      "     "
     ]
    },
    {
     "name": "stdout",
     "output_type": "stream",
     "text": [
      "'Austria'"
     ]
    },
    {
     "name": "stdout",
     "output_type": "stream",
     "text": [
      ", "
     ]
    },
    {
     "name": "stdout",
     "output_type": "stream",
     "text": [
      "'Ukraine'"
     ]
    },
    {
     "name": "stdout",
     "output_type": "stream",
     "text": [
      ", "
     ]
    },
    {
     "name": "stdout",
     "output_type": "stream",
     "text": [
      "'Romania'"
     ]
    },
    {
     "name": "stdout",
     "output_type": "stream",
     "text": [
      ", "
     ]
    },
    {
     "name": "stdout",
     "output_type": "stream",
     "text": [
      "'Lithuania'"
     ]
    },
    {
     "name": "stdout",
     "output_type": "stream",
     "text": [
      ", "
     ]
    },
    {
     "name": "stdout",
     "output_type": "stream",
     "text": [
      "'Nicaragua'"
     ]
    },
    {
     "name": "stdout",
     "output_type": "stream",
     "text": [
      "]"
     ]
    },
    {
     "name": "stdout",
     "output_type": "stream",
     "text": [
      ",\n",
      " "
     ]
    },
    {
     "name": "stdout",
     "output_type": "stream",
     "text": [
      "9"
     ]
    },
    {
     "name": "stdout",
     "output_type": "stream",
     "text": [
      ": "
     ]
    },
    {
     "name": "stdout",
     "output_type": "stream",
     "text": [
      "["
     ]
    },
    {
     "name": "stdout",
     "output_type": "stream",
     "text": [
      "'Kuwait'"
     ]
    },
    {
     "name": "stdout",
     "output_type": "stream",
     "text": [
      ", "
     ]
    },
    {
     "name": "stdout",
     "output_type": "stream",
     "text": [
      "'Czech Republic'"
     ]
    },
    {
     "name": "stdout",
     "output_type": "stream",
     "text": [
      ", "
     ]
    },
    {
     "name": "stdout",
     "output_type": "stream",
     "text": [
      "'Nigeria'"
     ]
    },
    {
     "name": "stdout",
     "output_type": "stream",
     "text": [
      ", "
     ]
    },
    {
     "name": "stdout",
     "output_type": "stream",
     "text": [
      "'Turkey'"
     ]
    },
    {
     "name": "stdout",
     "output_type": "stream",
     "text": [
      ", "
     ]
    },
    {
     "name": "stdout",
     "output_type": "stream",
     "text": [
      "'Portugal'"
     ]
    },
    {
     "name": "stdout",
     "output_type": "stream",
     "text": [
      ", "
     ]
    },
    {
     "name": "stdout",
     "output_type": "stream",
     "text": [
      "'Georgia'"
     ]
    },
    {
     "name": "stdout",
     "output_type": "stream",
     "text": [
      ",\n",
      "     "
     ]
    },
    {
     "name": "stdout",
     "output_type": "stream",
     "text": [
      "'Peru'"
     ]
    },
    {
     "name": "stdout",
     "output_type": "stream",
     "text": [
      ", "
     ]
    },
    {
     "name": "stdout",
     "output_type": "stream",
     "text": [
      "'Russia'"
     ]
    },
    {
     "name": "stdout",
     "output_type": "stream",
     "text": [
      ", "
     ]
    },
    {
     "name": "stdout",
     "output_type": "stream",
     "text": [
      "'France'"
     ]
    },
    {
     "name": "stdout",
     "output_type": "stream",
     "text": [
      ", "
     ]
    },
    {
     "name": "stdout",
     "output_type": "stream",
     "text": [
      "'Mexico'"
     ]
    },
    {
     "name": "stdout",
     "output_type": "stream",
     "text": [
      ", "
     ]
    },
    {
     "name": "stdout",
     "output_type": "stream",
     "text": [
      "'Myanmar'"
     ]
    },
    {
     "name": "stdout",
     "output_type": "stream",
     "text": [
      ", "
     ]
    },
    {
     "name": "stdout",
     "output_type": "stream",
     "text": [
      "'Italy'"
     ]
    },
    {
     "name": "stdout",
     "output_type": "stream",
     "text": [
      ", "
     ]
    },
    {
     "name": "stdout",
     "output_type": "stream",
     "text": [
      "'Bangladesh'"
     ]
    },
    {
     "name": "stdout",
     "output_type": "stream",
     "text": [
      ",\n",
      "     "
     ]
    },
    {
     "name": "stdout",
     "output_type": "stream",
     "text": [
      "'Mali'"
     ]
    },
    {
     "name": "stdout",
     "output_type": "stream",
     "text": [
      ", "
     ]
    },
    {
     "name": "stdout",
     "output_type": "stream",
     "text": [
      "'Moldova'"
     ]
    },
    {
     "name": "stdout",
     "output_type": "stream",
     "text": [
      ", "
     ]
    },
    {
     "name": "stdout",
     "output_type": "stream",
     "text": [
      "'United States'"
     ]
    },
    {
     "name": "stdout",
     "output_type": "stream",
     "text": [
      "]"
     ]
    },
    {
     "name": "stdout",
     "output_type": "stream",
     "text": [
      ",\n",
      " "
     ]
    },
    {
     "name": "stdout",
     "output_type": "stream",
     "text": [
      "10"
     ]
    },
    {
     "name": "stdout",
     "output_type": "stream",
     "text": [
      ": "
     ]
    },
    {
     "name": "stdout",
     "output_type": "stream",
     "text": [
      "["
     ]
    },
    {
     "name": "stdout",
     "output_type": "stream",
     "text": [
      "'Korea, South'"
     ]
    },
    {
     "name": "stdout",
     "output_type": "stream",
     "text": [
      ", "
     ]
    },
    {
     "name": "stdout",
     "output_type": "stream",
     "text": [
      "'Senegal'"
     ]
    },
    {
     "name": "stdout",
     "output_type": "stream",
     "text": [
      ", "
     ]
    },
    {
     "name": "stdout",
     "output_type": "stream",
     "text": [
      "'Poland'"
     ]
    },
    {
     "name": "stdout",
     "output_type": "stream",
     "text": [
      ", "
     ]
    },
    {
     "name": "stdout",
     "output_type": "stream",
     "text": [
      "'United Arab Emirates'"
     ]
    },
    {
     "name": "stdout",
     "output_type": "stream",
     "text": [
      ", "
     ]
    },
    {
     "name": "stdout",
     "output_type": "stream",
     "text": [
      "'Guinea'"
     ]
    },
    {
     "name": "stdout",
     "output_type": "stream",
     "text": [
      ",\n",
      "      "
     ]
    },
    {
     "name": "stdout",
     "output_type": "stream",
     "text": [
      "'Iran'"
     ]
    },
    {
     "name": "stdout",
     "output_type": "stream",
     "text": [
      ", "
     ]
    },
    {
     "name": "stdout",
     "output_type": "stream",
     "text": [
      "'Bahrain'"
     ]
    },
    {
     "name": "stdout",
     "output_type": "stream",
     "text": [
      "]"
     ]
    },
    {
     "name": "stdout",
     "output_type": "stream",
     "text": [
      "}"
     ]
    },
    {
     "name": "stdout",
     "output_type": "stream",
     "text": [
      "\n"
     ]
    }
   ],
   "source": [
    "# Show the number of phases of all countries\n",
    "analyser.trend()\n",
    "pprint(analyser.phase_len(), compact=True)"
   ]
  },
  {
   "cell_type": "code",
   "execution_count": 8,
   "metadata": {
    "collapsed": false
   },
   "outputs": [
    {
     "data": {
      "text/plain": [
       "23"
      ]
     },
     "execution_count": 8,
     "metadata": {},
     "output_type": "execute_result"
    }
   ],
   "source": [
    "# Set phases with S-R trend analysis\n",
    "analyser.trend(min_len=9)\n",
    "# The number of countries\n",
    "len(analyser.countries)"
   ]
  },
  {
   "cell_type": "code",
   "execution_count": 9,
   "metadata": {
    "collapsed": false,
    "tags": []
   },
   "outputs": [
    {
     "name": "stdout",
     "output_type": "stream",
     "text": [
      "{"
     ]
    },
    {
     "name": "stdout",
     "output_type": "stream",
     "text": [
      "9"
     ]
    },
    {
     "name": "stdout",
     "output_type": "stream",
     "text": [
      ": "
     ]
    },
    {
     "name": "stdout",
     "output_type": "stream",
     "text": [
      "["
     ]
    },
    {
     "name": "stdout",
     "output_type": "stream",
     "text": [
      "'Kuwait'"
     ]
    },
    {
     "name": "stdout",
     "output_type": "stream",
     "text": [
      ", "
     ]
    },
    {
     "name": "stdout",
     "output_type": "stream",
     "text": [
      "'Czech Republic'"
     ]
    },
    {
     "name": "stdout",
     "output_type": "stream",
     "text": [
      ", "
     ]
    },
    {
     "name": "stdout",
     "output_type": "stream",
     "text": [
      "'Nigeria'"
     ]
    },
    {
     "name": "stdout",
     "output_type": "stream",
     "text": [
      ", "
     ]
    },
    {
     "name": "stdout",
     "output_type": "stream",
     "text": [
      "'Turkey'"
     ]
    },
    {
     "name": "stdout",
     "output_type": "stream",
     "text": [
      ", "
     ]
    },
    {
     "name": "stdout",
     "output_type": "stream",
     "text": [
      "'Portugal'"
     ]
    },
    {
     "name": "stdout",
     "output_type": "stream",
     "text": [
      ", "
     ]
    },
    {
     "name": "stdout",
     "output_type": "stream",
     "text": [
      "'Georgia'"
     ]
    },
    {
     "name": "stdout",
     "output_type": "stream",
     "text": [
      ",\n",
      "     "
     ]
    },
    {
     "name": "stdout",
     "output_type": "stream",
     "text": [
      "'Peru'"
     ]
    },
    {
     "name": "stdout",
     "output_type": "stream",
     "text": [
      ", "
     ]
    },
    {
     "name": "stdout",
     "output_type": "stream",
     "text": [
      "'Russia'"
     ]
    },
    {
     "name": "stdout",
     "output_type": "stream",
     "text": [
      ", "
     ]
    },
    {
     "name": "stdout",
     "output_type": "stream",
     "text": [
      "'France'"
     ]
    },
    {
     "name": "stdout",
     "output_type": "stream",
     "text": [
      ", "
     ]
    },
    {
     "name": "stdout",
     "output_type": "stream",
     "text": [
      "'Mexico'"
     ]
    },
    {
     "name": "stdout",
     "output_type": "stream",
     "text": [
      ", "
     ]
    },
    {
     "name": "stdout",
     "output_type": "stream",
     "text": [
      "'Myanmar'"
     ]
    },
    {
     "name": "stdout",
     "output_type": "stream",
     "text": [
      ", "
     ]
    },
    {
     "name": "stdout",
     "output_type": "stream",
     "text": [
      "'Italy'"
     ]
    },
    {
     "name": "stdout",
     "output_type": "stream",
     "text": [
      ", "
     ]
    },
    {
     "name": "stdout",
     "output_type": "stream",
     "text": [
      "'Bangladesh'"
     ]
    },
    {
     "name": "stdout",
     "output_type": "stream",
     "text": [
      ",\n",
      "     "
     ]
    },
    {
     "name": "stdout",
     "output_type": "stream",
     "text": [
      "'Mali'"
     ]
    },
    {
     "name": "stdout",
     "output_type": "stream",
     "text": [
      ", "
     ]
    },
    {
     "name": "stdout",
     "output_type": "stream",
     "text": [
      "'Moldova'"
     ]
    },
    {
     "name": "stdout",
     "output_type": "stream",
     "text": [
      ", "
     ]
    },
    {
     "name": "stdout",
     "output_type": "stream",
     "text": [
      "'United States'"
     ]
    },
    {
     "name": "stdout",
     "output_type": "stream",
     "text": [
      "]"
     ]
    },
    {
     "name": "stdout",
     "output_type": "stream",
     "text": [
      ",\n",
      " "
     ]
    },
    {
     "name": "stdout",
     "output_type": "stream",
     "text": [
      "10"
     ]
    },
    {
     "name": "stdout",
     "output_type": "stream",
     "text": [
      ": "
     ]
    },
    {
     "name": "stdout",
     "output_type": "stream",
     "text": [
      "["
     ]
    },
    {
     "name": "stdout",
     "output_type": "stream",
     "text": [
      "'Korea, South'"
     ]
    },
    {
     "name": "stdout",
     "output_type": "stream",
     "text": [
      ", "
     ]
    },
    {
     "name": "stdout",
     "output_type": "stream",
     "text": [
      "'Senegal'"
     ]
    },
    {
     "name": "stdout",
     "output_type": "stream",
     "text": [
      ", "
     ]
    },
    {
     "name": "stdout",
     "output_type": "stream",
     "text": [
      "'Poland'"
     ]
    },
    {
     "name": "stdout",
     "output_type": "stream",
     "text": [
      ", "
     ]
    },
    {
     "name": "stdout",
     "output_type": "stream",
     "text": [
      "'United Arab Emirates'"
     ]
    },
    {
     "name": "stdout",
     "output_type": "stream",
     "text": [
      ", "
     ]
    },
    {
     "name": "stdout",
     "output_type": "stream",
     "text": [
      "'Guinea'"
     ]
    },
    {
     "name": "stdout",
     "output_type": "stream",
     "text": [
      ",\n",
      "      "
     ]
    },
    {
     "name": "stdout",
     "output_type": "stream",
     "text": [
      "'Iran'"
     ]
    },
    {
     "name": "stdout",
     "output_type": "stream",
     "text": [
      ", "
     ]
    },
    {
     "name": "stdout",
     "output_type": "stream",
     "text": [
      "'Bahrain'"
     ]
    },
    {
     "name": "stdout",
     "output_type": "stream",
     "text": [
      "]"
     ]
    },
    {
     "name": "stdout",
     "output_type": "stream",
     "text": [
      "}"
     ]
    },
    {
     "name": "stdout",
     "output_type": "stream",
     "text": [
      "\n"
     ]
    }
   ],
   "source": [
    "phase_len_dict = analyser.phase_len()\n",
    "pprint(phase_len_dict, compact=True)"
   ]
  },
  {
   "cell_type": "code",
   "execution_count": 10,
   "metadata": {
    "collapsed": false,
    "tags": []
   },
   "outputs": [
    {
     "data": {
      "text/html": [
       "<div>\n",
       "<style scoped>\n",
       "    .dataframe tbody tr th:only-of-type {\n",
       "        vertical-align: middle;\n",
       "    }\n",
       "\n",
       "    .dataframe tbody tr th {\n",
       "        vertical-align: top;\n",
       "    }\n",
       "\n",
       "    .dataframe thead th {\n",
       "        text-align: right;\n",
       "    }\n",
       "</style>\n",
       "<table border=\"1\" class=\"dataframe\">\n",
       "  <thead>\n",
       "    <tr style=\"text-align: right;\">\n",
       "      <th></th>\n",
       "      <th></th>\n",
       "      <th>Type</th>\n",
       "      <th>Start</th>\n",
       "      <th>End</th>\n",
       "      <th>Population</th>\n",
       "    </tr>\n",
       "    <tr>\n",
       "      <th>Country</th>\n",
       "      <th>Phase</th>\n",
       "      <th></th>\n",
       "      <th></th>\n",
       "      <th></th>\n",
       "      <th></th>\n",
       "    </tr>\n",
       "  </thead>\n",
       "  <tbody>\n",
       "    <tr>\n",
       "      <th rowspan=\"5\" valign=\"top\">Korea, South</th>\n",
       "      <th>1st</th>\n",
       "      <td>Past</td>\n",
       "      <td>15Mar2020</td>\n",
       "      <td>25Mar2020</td>\n",
       "      <td>51606633</td>\n",
       "    </tr>\n",
       "    <tr>\n",
       "      <th>2nd</th>\n",
       "      <td>Past</td>\n",
       "      <td>26Mar2020</td>\n",
       "      <td>06Apr2020</td>\n",
       "      <td>51606633</td>\n",
       "    </tr>\n",
       "    <tr>\n",
       "      <th>3rd</th>\n",
       "      <td>Past</td>\n",
       "      <td>07Apr2020</td>\n",
       "      <td>29Apr2020</td>\n",
       "      <td>51606633</td>\n",
       "    </tr>\n",
       "    <tr>\n",
       "      <th>4th</th>\n",
       "      <td>Past</td>\n",
       "      <td>30Apr2020</td>\n",
       "      <td>23May2020</td>\n",
       "      <td>51606633</td>\n",
       "    </tr>\n",
       "    <tr>\n",
       "      <th>5th</th>\n",
       "      <td>Past</td>\n",
       "      <td>24May2020</td>\n",
       "      <td>16Jun2020</td>\n",
       "      <td>51606633</td>\n",
       "    </tr>\n",
       "    <tr>\n",
       "      <th>...</th>\n",
       "      <th>...</th>\n",
       "      <td>...</td>\n",
       "      <td>...</td>\n",
       "      <td>...</td>\n",
       "      <td>...</td>\n",
       "    </tr>\n",
       "    <tr>\n",
       "      <th rowspan=\"5\" valign=\"top\">Bahrain</th>\n",
       "      <th>6th</th>\n",
       "      <td>Past</td>\n",
       "      <td>07Jul2020</td>\n",
       "      <td>14Jul2020</td>\n",
       "      <td>1569439</td>\n",
       "    </tr>\n",
       "    <tr>\n",
       "      <th>7th</th>\n",
       "      <td>Past</td>\n",
       "      <td>15Jul2020</td>\n",
       "      <td>24Jul2020</td>\n",
       "      <td>1569439</td>\n",
       "    </tr>\n",
       "    <tr>\n",
       "      <th>8th</th>\n",
       "      <td>Past</td>\n",
       "      <td>25Jul2020</td>\n",
       "      <td>04Aug2020</td>\n",
       "      <td>1569439</td>\n",
       "    </tr>\n",
       "    <tr>\n",
       "      <th>9th</th>\n",
       "      <td>Past</td>\n",
       "      <td>05Aug2020</td>\n",
       "      <td>15Aug2020</td>\n",
       "      <td>1569439</td>\n",
       "    </tr>\n",
       "    <tr>\n",
       "      <th>10th</th>\n",
       "      <td>Past</td>\n",
       "      <td>16Aug2020</td>\n",
       "      <td>27Aug2020</td>\n",
       "      <td>1569439</td>\n",
       "    </tr>\n",
       "  </tbody>\n",
       "</table>\n",
       "<p>70 rows × 4 columns</p>\n",
       "</div>"
      ],
      "text/plain": [
       "                    Type      Start        End  Population\n",
       "Country      Phase                                        \n",
       "Korea, South 1st    Past  15Mar2020  25Mar2020    51606633\n",
       "             2nd    Past  26Mar2020  06Apr2020    51606633\n",
       "             3rd    Past  07Apr2020  29Apr2020    51606633\n",
       "             4th    Past  30Apr2020  23May2020    51606633\n",
       "             5th    Past  24May2020  16Jun2020    51606633\n",
       "...                  ...        ...        ...         ...\n",
       "Bahrain      6th    Past  07Jul2020  14Jul2020     1569439\n",
       "             7th    Past  15Jul2020  24Jul2020     1569439\n",
       "             8th    Past  25Jul2020  04Aug2020     1569439\n",
       "             9th    Past  05Aug2020  15Aug2020     1569439\n",
       "             10th   Past  16Aug2020  27Aug2020     1569439\n",
       "\n",
       "[70 rows x 4 columns]"
      ]
     },
     "execution_count": 10,
     "metadata": {},
     "output_type": "execute_result"
    }
   ],
   "source": [
    "# Here, only show the countries which have the most phases\n",
    "countries_show = max(phase_len_dict.items(), key=lambda x: x[0])[1]\n",
    "# Show summary\n",
    "analyser.summary(countries=countries_show)"
   ]
  },
  {
   "cell_type": "markdown",
   "metadata": {},
   "source": [
    "## Parameter estimation\n",
    "we will estimate the parameter values with SIR-derived ODE models in each country."
   ]
  },
  {
   "cell_type": "code",
   "execution_count": 11,
   "metadata": {
    "collapsed": false,
    "tags": []
   },
   "outputs": [
    {
     "name": "stdout",
     "output_type": "stream",
     "text": [
      "\n",
      "<SIR-F model: parameter estimation>"
     ]
    },
    {
     "name": "stdout",
     "output_type": "stream",
     "text": [
      "\n"
     ]
    },
    {
     "name": "stdout",
     "output_type": "stream",
     "text": [
      "Running optimization with 4 CPUs..."
     ]
    },
    {
     "name": "stdout",
     "output_type": "stream",
     "text": [
      "\n"
     ]
    },
    {
     "name": "stdout",
     "output_type": "stream",
     "text": [
      "\tIRN,  9th phase (29Jul2020 - 11Aug2020): finished  157 trials in 0 min  5 sec"
     ]
    },
    {
     "name": "stdout",
     "output_type": "stream",
     "text": [
      "\n"
     ]
    },
    {
     "name": "stdout",
     "output_type": "stream",
     "text": [
      "\tIRN,  7th phase (05Jul2020 - 16Jul2020): finished  157 trials in 0 min  5 sec"
     ]
    },
    {
     "name": "stdout",
     "output_type": "stream",
     "text": [
      "\n"
     ]
    },
    {
     "name": "stdout",
     "output_type": "stream",
     "text": [
      "\tMDA,  2nd phase (03Jun2020 - 15Jun2020): finished 1395 trials in 1 min  0 sec"
     ]
    },
    {
     "name": "stdout",
     "output_type": "stream",
     "text": [
      "\n"
     ]
    },
    {
     "name": "stdout",
     "output_type": "stream",
     "text": [
      "\tRUS,  3rd phase (31May2020 - 14Jun2020): finished 1377 trials in 1 min  0 sec"
     ]
    },
    {
     "name": "stdout",
     "output_type": "stream",
     "text": [
      "\n"
     ]
    },
    {
     "name": "stdout",
     "output_type": "stream",
     "text": [
      "\tSEN,  7th phase (11Jul2020 - 21Jul2020): finished 1397 trials in 1 min  0 sec"
     ]
    },
    {
     "name": "stdout",
     "output_type": "stream",
     "text": [
      "\n"
     ]
    },
    {
     "name": "stdout",
     "output_type": "stream",
     "text": [
      "\tRUS,  4th phase (15Jun2020 - 23Jun2020): finished 1399 trials in 1 min  0 sec"
     ]
    },
    {
     "name": "stdout",
     "output_type": "stream",
     "text": [
      "\n"
     ]
    },
    {
     "name": "stdout",
     "output_type": "stream",
     "text": [
      "\tARE,  9th phase (25Jul2020 - 09Aug2020): finished  564 trials in 0 min 20 sec"
     ]
    },
    {
     "name": "stdout",
     "output_type": "stream",
     "text": [
      "\n"
     ]
    },
    {
     "name": "stdout",
     "output_type": "stream",
     "text": [
      "\tKOR,  5th phase (24May2020 - 16Jun2020): finished  797 trials in 0 min 30 sec"
     ]
    },
    {
     "name": "stdout",
     "output_type": "stream",
     "text": [
      "\n"
     ]
    },
    {
     "name": "stdout",
     "output_type": "stream",
     "text": [
      "\tBGD,  4th phase (29Jun2020 - 06Jul2020): finished  692 trials in 0 min 25 sec"
     ]
    },
    {
     "name": "stdout",
     "output_type": "stream",
     "text": [
      "\n"
     ]
    },
    {
     "name": "stdout",
     "output_type": "stream",
     "text": [
      "\tUSA,  3rd phase (05Jun2020 - 25Jun2020): finished 1410 trials in 1 min  0 sec"
     ]
    },
    {
     "name": "stdout",
     "output_type": "stream",
     "text": [
      "\n"
     ]
    },
    {
     "name": "stdout",
     "output_type": "stream",
     "text": [
      "\tCZE,  2nd phase (20Apr2020 - 12May2020): finished 1384 trials in 1 min  0 sec"
     ]
    },
    {
     "name": "stdout",
     "output_type": "stream",
     "text": [
      "\n"
     ]
    },
    {
     "name": "stdout",
     "output_type": "stream",
     "text": [
      "\tPER,  7th phase (29Jul2020 - 05Aug2020): finished 1398 trials in 1 min  0 sec"
     ]
    },
    {
     "name": "stdout",
     "output_type": "stream",
     "text": [
      "\n"
     ]
    },
    {
     "name": "stdout",
     "output_type": "stream",
     "text": [
      "\tGIN,  7th phase (15Jul2020 - 24Jul2020): finished 1405 trials in 1 min  0 sec"
     ]
    },
    {
     "name": "stdout",
     "output_type": "stream",
     "text": [
      "\n"
     ]
    },
    {
     "name": "stdout",
     "output_type": "stream",
     "text": [
      "\tARE,  8th phase (11Jul2020 - 24Jul2020): finished  990 trials in 0 min 40 sec"
     ]
    },
    {
     "name": "stdout",
     "output_type": "stream",
     "text": [
      "\n"
     ]
    },
    {
     "name": "stdout",
     "output_type": "stream",
     "text": [
      "\tBGD,  8th phase (05Aug2020 - 15Aug2020): finished  302 trials in 0 min 10 sec"
     ]
    },
    {
     "name": "stdout",
     "output_type": "stream",
     "text": [
      "\n"
     ]
    },
    {
     "name": "stdout",
     "output_type": "stream",
     "text": [
      "\tFRA,  7th phase (20Jun2020 - 12Jul2020): finished  558 trials in 0 min 20 sec"
     ]
    },
    {
     "name": "stdout",
     "output_type": "stream",
     "text": [
      "\n"
     ]
    },
    {
     "name": "stdout",
     "output_type": "stream",
     "text": [
      "\tMLI,  4th phase (25May2020 - 01Jun2020): finished  571 trials in 0 min 20 sec"
     ]
    },
    {
     "name": "stdout",
     "output_type": "stream",
     "text": [
      "\n"
     ]
    },
    {
     "name": "stdout",
     "output_type": "stream",
     "text": [
      "\tARE,  7th phase (03Jul2020 - 10Jul2020): finished 1409 trials in 1 min  0 sec"
     ]
    },
    {
     "name": "stdout",
     "output_type": "stream",
     "text": [
      "\n"
     ]
    },
    {
     "name": "stdout",
     "output_type": "stream",
     "text": [
      "\tIRN,  1st phase (29Mar2020 - 16Apr2020): finished 1403 trials in 1 min  0 sec"
     ]
    },
    {
     "name": "stdout",
     "output_type": "stream",
     "text": [
      "\n"
     ]
    },
    {
     "name": "stdout",
     "output_type": "stream",
     "text": [
      "\tPOL,  8th phase (28Jul2020 - 07Aug2020): finished  435 trials in 0 min 15 sec"
     ]
    },
    {
     "name": "stdout",
     "output_type": "stream",
     "text": [
      "\n"
     ]
    },
    {
     "name": "stdout",
     "output_type": "stream",
     "text": [
      "\tCZE,  1st phase (08Apr2020 - 19Apr2020): finished 1411 trials in 1 min  0 sec"
     ]
    },
    {
     "name": "stdout",
     "output_type": "stream",
     "text": [
      "\n"
     ]
    },
    {
     "name": "stdout",
     "output_type": "stream",
     "text": [
      "\tMLI,  2nd phase (03May2020 - 14May2020): finished 1404 trials in 1 min  0 sec"
     ]
    },
    {
     "name": "stdout",
     "output_type": "stream",
     "text": [
      "\n"
     ]
    },
    {
     "name": "stdout",
     "output_type": "stream",
     "text": [
      "\tMMR,  9th phase (16Aug2020 - 27Aug2020): finished 1158 trials in 1 min  0 sec"
     ]
    },
    {
     "name": "stdout",
     "output_type": "stream",
     "text": [
      "\n"
     ]
    },
    {
     "name": "stdout",
     "output_type": "stream",
     "text": [
      "\tSEN, 10th phase (13Aug2020 - 27Aug2020): finished 1131 trials in 1 min  0 sec"
     ]
    },
    {
     "name": "stdout",
     "output_type": "stream",
     "text": [
      "\n"
     ]
    },
    {
     "name": "stdout",
     "output_type": "stream",
     "text": [
      "\tKWT,  2nd phase (25May2020 - 09Jun2020): finished 1120 trials in 1 min  0 sec"
     ]
    },
    {
     "name": "stdout",
     "output_type": "stream",
     "text": [
      "\n"
     ]
    },
    {
     "name": "stdout",
     "output_type": "stream",
     "text": [
      "\tCZE,  9th phase (19Aug2020 - 27Aug2020): finished 1020 trials in 1 min  0 sec"
     ]
    },
    {
     "name": "stdout",
     "output_type": "stream",
     "text": [
      "\n"
     ]
    },
    {
     "name": "stdout",
     "output_type": "stream",
     "text": [
      "\tKWT,  9th phase (15Aug2020 - 27Aug2020): finished  536 trials in 0 min 30 sec"
     ]
    },
    {
     "name": "stdout",
     "output_type": "stream",
     "text": [
      "\n"
     ]
    },
    {
     "name": "stdout",
     "output_type": "stream",
     "text": [
      "\tNGA,  8th phase (08Aug2020 - 17Aug2020): finished  967 trials in 1 min  0 sec"
     ]
    },
    {
     "name": "stdout",
     "output_type": "stream",
     "text": [
      "\n"
     ]
    },
    {
     "name": "stdout",
     "output_type": "stream",
     "text": [
      "\tARE,  1st phase (27Apr2020 - 12May2020): finished  966 trials in 1 min  0 sec"
     ]
    },
    {
     "name": "stdout",
     "output_type": "stream",
     "text": [
      "\n"
     ]
    },
    {
     "name": "stdout",
     "output_type": "stream",
     "text": [
      "\tFRA,  8th phase (13Jul2020 - 01Aug2020): finished  525 trials in 0 min 30 sec"
     ]
    },
    {
     "name": "stdout",
     "output_type": "stream",
     "text": [
      "\n"
     ]
    },
    {
     "name": "stdout",
     "output_type": "stream",
     "text": [
      "\tITA,  3rd phase (12Apr2020 - 20Apr2020): finished  191 trials in 0 min 10 sec"
     ]
    },
    {
     "name": "stdout",
     "output_type": "stream",
     "text": [
      "\n"
     ]
    },
    {
     "name": "stdout",
     "output_type": "stream",
     "text": [
      "\tITA,  4th phase (21Apr2020 - 01May2020): finished  106 trials in 0 min  5 sec"
     ]
    },
    {
     "name": "stdout",
     "output_type": "stream",
     "text": [
      "\n"
     ]
    },
    {
     "name": "stdout",
     "output_type": "stream",
     "text": [
      "\tMMR,  3rd phase (26May2020 - 05Jun2020): finished  957 trials in 1 min  0 sec"
     ]
    },
    {
     "name": "stdout",
     "output_type": "stream",
     "text": [
      "\n"
     ]
    },
    {
     "name": "stdout",
     "output_type": "stream",
     "text": [
      "\tGIN,  9th phase (06Aug2020 - 16Aug2020): finished  914 trials in 1 min  0 sec"
     ]
    },
    {
     "name": "stdout",
     "output_type": "stream",
     "text": [
      "\n"
     ]
    },
    {
     "name": "stdout",
     "output_type": "stream",
     "text": [
      "\tMLI,  3rd phase (15May2020 - 24May2020): finished  901 trials in 1 min  0 sec"
     ]
    },
    {
     "name": "stdout",
     "output_type": "stream",
     "text": [
      "\n"
     ]
    },
    {
     "name": "stdout",
     "output_type": "stream",
     "text": [
      "\tFRA,  6th phase (27May2020 - 19Jun2020): finished  879 trials in 1 min  0 sec"
     ]
    },
    {
     "name": "stdout",
     "output_type": "stream",
     "text": [
      "\n"
     ]
    },
    {
     "name": "stdout",
     "output_type": "stream",
     "text": [
      "\tRUS,  1st phase (08May2020 - 22May2020): finished  845 trials in 1 min  0 sec"
     ]
    },
    {
     "name": "stdout",
     "output_type": "stream",
     "text": [
      "\n"
     ]
    },
    {
     "name": "stdout",
     "output_type": "stream",
     "text": [
      "\tKWT,  6th phase (14Jul2020 - 23Jul2020): finished  341 trials in 0 min 30 sec"
     ]
    },
    {
     "name": "stdout",
     "output_type": "stream",
     "text": [
      "\n"
     ]
    },
    {
     "name": "stdout",
     "output_type": "stream",
     "text": [
      "\tKOR,  4th phase (30Apr2020 - 23May2020): finished  305 trials in 0 min 25 sec"
     ]
    },
    {
     "name": "stdout",
     "output_type": "stream",
     "text": [
      "\n"
     ]
    },
    {
     "name": "stdout",
     "output_type": "stream",
     "text": [
      "\tARE,  5th phase (12Jun2020 - 22Jun2020): finished  758 trials in 1 min  1 sec"
     ]
    },
    {
     "name": "stdout",
     "output_type": "stream",
     "text": [
      "\n"
     ]
    },
    {
     "name": "stdout",
     "output_type": "stream",
     "text": [
      "\tPRT,  1st phase (04May2020 - 17May2020): finished  766 trials in 1 min  0 sec"
     ]
    },
    {
     "name": "stdout",
     "output_type": "stream",
     "text": [
      "\n"
     ]
    },
    {
     "name": "stdout",
     "output_type": "stream",
     "text": [
      "\tTUR,  9th phase (14Aug2020 - 27Aug2020): finished  198 trials in 0 min 10 sec"
     ]
    },
    {
     "name": "stdout",
     "output_type": "stream",
     "text": [
      "\n"
     ]
    },
    {
     "name": "stdout",
     "output_type": "stream",
     "text": [
      "\tITA,  5th phase (02May2020 - 10May2020): finished  457 trials in 0 min 25 sec"
     ]
    },
    {
     "name": "stdout",
     "output_type": "stream",
     "text": [
      "\n"
     ]
    },
    {
     "name": "stdout",
     "output_type": "stream",
     "text": [
      "\tCZE,  7th phase (27Jul2020 - 04Aug2020): finished  917 trials in 1 min  1 sec"
     ]
    },
    {
     "name": "stdout",
     "output_type": "stream",
     "text": [
      "\n"
     ]
    },
    {
     "name": "stdout",
     "output_type": "stream",
     "text": [
      "\tGIN,  2nd phase (13May2020 - 22May2020): finished  939 trials in 1 min  1 sec"
     ]
    },
    {
     "name": "stdout",
     "output_type": "stream",
     "text": [
      "\n"
     ]
    },
    {
     "name": "stdout",
     "output_type": "stream",
     "text": [
      "\tKWT,  3rd phase (10Jun2020 - 22Jun2020): finished  651 trials in 0 min 40 sec"
     ]
    },
    {
     "name": "stdout",
     "output_type": "stream",
     "text": [
      "\n"
     ]
    },
    {
     "name": "stdout",
     "output_type": "stream",
     "text": [
      "\tBHR,  2nd phase (31May2020 - 10Jun2020): finished  954 trials in 1 min  1 sec"
     ]
    },
    {
     "name": "stdout",
     "output_type": "stream",
     "text": [
      "\n"
     ]
    },
    {
     "name": "stdout",
     "output_type": "stream",
     "text": [
      "\tTUR,  3rd phase (16May2020 - 28May2020): finished  186 trials in 0 min 10 sec"
     ]
    },
    {
     "name": "stdout",
     "output_type": "stream",
     "text": [
      "\n"
     ]
    },
    {
     "name": "stdout",
     "output_type": "stream",
     "text": [
      "\tKWT,  5th phase (04Jul2020 - 13Jul2020): finished  186 trials in 0 min 10 sec"
     ]
    },
    {
     "name": "stdout",
     "output_type": "stream",
     "text": [
      "\n"
     ]
    },
    {
     "name": "stdout",
     "output_type": "stream",
     "text": [
      "\tMEX,  5th phase (09Jul2020 - 16Jul2020): finished  936 trials in 1 min  0 sec"
     ]
    },
    {
     "name": "stdout",
     "output_type": "stream",
     "text": [
      "\n"
     ]
    },
    {
     "name": "stdout",
     "output_type": "stream",
     "text": [
      "\tMMR,  4th phase (06Jun2020 - 14Jun2020): finished  929 trials in 1 min  0 sec"
     ]
    },
    {
     "name": "stdout",
     "output_type": "stream",
     "text": [
      "\n"
     ]
    },
    {
     "name": "stdout",
     "output_type": "stream",
     "text": [
      "\tPRT,  6th phase (03Jul2020 - 11Jul2020): finished  490 trials in 0 min 30 sec"
     ]
    },
    {
     "name": "stdout",
     "output_type": "stream",
     "text": [
      "\n"
     ]
    },
    {
     "name": "stdout",
     "output_type": "stream",
     "text": [
      "\tSEN,  1st phase (01May2020 - 14May2020): finished  883 trials in 1 min  0 sec"
     ]
    },
    {
     "name": "stdout",
     "output_type": "stream",
     "text": [
      "\n"
     ]
    },
    {
     "name": "stdout",
     "output_type": "stream",
     "text": [
      "\tMMR,  2nd phase (15May2020 - 25May2020): finished  469 trials in 0 min 30 sec"
     ]
    },
    {
     "name": "stdout",
     "output_type": "stream",
     "text": [
      "\n"
     ]
    },
    {
     "name": "stdout",
     "output_type": "stream",
     "text": [
      "\tRUS,  5th phase (24Jun2020 - 04Jul2020): finished  863 trials in 1 min  0 sec"
     ]
    },
    {
     "name": "stdout",
     "output_type": "stream",
     "text": [
      "\n"
     ]
    },
    {
     "name": "stdout",
     "output_type": "stream",
     "text": [
      "\tPOL,  4th phase (05Jun2020 - 16Jun2020): finished  874 trials in 1 min  0 sec"
     ]
    },
    {
     "name": "stdout",
     "output_type": "stream",
     "text": [
      "\n"
     ]
    },
    {
     "name": "stdout",
     "output_type": "stream",
     "text": [
      "\tKOR,  9th phase (04Aug2020 - 16Aug2020): finished  872 trials in 1 min  0 sec"
     ]
    },
    {
     "name": "stdout",
     "output_type": "stream",
     "text": [
      "\n"
     ]
    },
    {
     "name": "stdout",
     "output_type": "stream",
     "text": [
      "\tKOR,  3rd phase (07Apr2020 - 29Apr2020): finished  899 trials in 1 min  0 sec"
     ]
    },
    {
     "name": "stdout",
     "output_type": "stream",
     "text": [
      "\n"
     ]
    },
    {
     "name": "stdout",
     "output_type": "stream",
     "text": [
      "\tGEO,  6th phase (07Jul2020 - 20Jul2020): finished  909 trials in 1 min  0 sec"
     ]
    },
    {
     "name": "stdout",
     "output_type": "stream",
     "text": [
      "\n"
     ]
    },
    {
     "name": "stdout",
     "output_type": "stream",
     "text": [
      "\tPOL,  3rd phase (22May2020 - 04Jun2020): finished  348 trials in 0 min 20 sec"
     ]
    },
    {
     "name": "stdout",
     "output_type": "stream",
     "text": [
      "\n"
     ]
    },
    {
     "name": "stdout",
     "output_type": "stream",
     "text": [
      "\tPER,  5th phase (07Jul2020 - 18Jul2020): finished  915 trials in 1 min  0 sec"
     ]
    },
    {
     "name": "stdout",
     "output_type": "stream",
     "text": [
      "\n"
     ]
    },
    {
     "name": "stdout",
     "output_type": "stream",
     "text": [
      "\tMMR,  8th phase (25Jul2020 - 15Aug2020): finished  653 trials in 0 min 40 sec"
     ]
    },
    {
     "name": "stdout",
     "output_type": "stream",
     "text": [
      "\n"
     ]
    },
    {
     "name": "stdout",
     "output_type": "stream",
     "text": [
      "\tKOR,  1st phase (15Mar2020 - 25Mar2020): finished  926 trials in 1 min  0 sec"
     ]
    },
    {
     "name": "stdout",
     "output_type": "stream",
     "text": [
      "\n"
     ]
    },
    {
     "name": "stdout",
     "output_type": "stream",
     "text": [
      "\tPOL,  7th phase (16Jul2020 - 27Jul2020): finished  922 trials in 1 min  0 sec"
     ]
    },
    {
     "name": "stdout",
     "output_type": "stream",
     "text": [
      "\n"
     ]
    },
    {
     "name": "stdout",
     "output_type": "stream",
     "text": [
      "\tARE,  4th phase (04Jun2020 - 11Jun2020): finished  925 trials in 1 min  0 sec"
     ]
    },
    {
     "name": "stdout",
     "output_type": "stream",
     "text": [
      "\n"
     ]
    },
    {
     "name": "stdout",
     "output_type": "stream",
     "text": [
      "\tCZE,  3rd phase (13May2020 - 09Jun2020): finished  928 trials in 1 min  0 sec"
     ]
    },
    {
     "name": "stdout",
     "output_type": "stream",
     "text": [
      "\n"
     ]
    },
    {
     "name": "stdout",
     "output_type": "stream",
     "text": [
      "\tMEX,  2nd phase (08Jun2020 - 19Jun2020): finished  884 trials in 0 min 55 sec"
     ]
    },
    {
     "name": "stdout",
     "output_type": "stream",
     "text": [
      "\n"
     ]
    },
    {
     "name": "stdout",
     "output_type": "stream",
     "text": [
      "\tMLI,  9th phase (01Aug2020 - 27Aug2020): finished  949 trials in 1 min  0 sec"
     ]
    },
    {
     "name": "stdout",
     "output_type": "stream",
     "text": [
      "\n"
     ]
    },
    {
     "name": "stdout",
     "output_type": "stream",
     "text": [
      "\tUSA,  6th phase (16Jul2020 - 23Jul2020): finished  189 trials in 0 min 10 sec"
     ]
    },
    {
     "name": "stdout",
     "output_type": "stream",
     "text": [
      "\n"
     ]
    },
    {
     "name": "stdout",
     "output_type": "stream",
     "text": [
      "\tGIN,  1st phase (02May2020 - 12May2020): finished  955 trials in 1 min  0 sec"
     ]
    },
    {
     "name": "stdout",
     "output_type": "stream",
     "text": [
      "\n"
     ]
    },
    {
     "name": "stdout",
     "output_type": "stream",
     "text": [
      "\tFRA,  4th phase (25Apr2020 - 05May2020): finished  943 trials in 1 min  0 sec"
     ]
    },
    {
     "name": "stdout",
     "output_type": "stream",
     "text": [
      "\n"
     ]
    },
    {
     "name": "stdout",
     "output_type": "stream",
     "text": [
      "\tPOL,  1st phase (24Apr2020 - 08May2020): finished  934 trials in 1 min  0 sec"
     ]
    },
    {
     "name": "stdout",
     "output_type": "stream",
     "text": [
      "\n"
     ]
    },
    {
     "name": "stdout",
     "output_type": "stream",
     "text": [
      "\tKWT,  1st phase (12May2020 - 24May2020): finished  929 trials in 1 min  0 sec"
     ]
    },
    {
     "name": "stdout",
     "output_type": "stream",
     "text": [
      "\n"
     ]
    },
    {
     "name": "stdout",
     "output_type": "stream",
     "text": [
      "\tNGA,  9th phase (18Aug2020 - 27Aug2020): finished  944 trials in 1 min  0 sec"
     ]
    },
    {
     "name": "stdout",
     "output_type": "stream",
     "text": [
      "\n"
     ]
    },
    {
     "name": "stdout",
     "output_type": "stream",
     "text": [
      "\tPOL,  2nd phase (09May2020 - 21May2020): finished  362 trials in 0 min 20 sec"
     ]
    },
    {
     "name": "stdout",
     "output_type": "stream",
     "text": [
      "\n"
     ]
    },
    {
     "name": "stdout",
     "output_type": "stream",
     "text": [
      "\tMMR,  7th phase (09Jul2020 - 24Jul2020): finished  920 trials in 1 min  0 sec"
     ]
    },
    {
     "name": "stdout",
     "output_type": "stream",
     "text": [
      "\n"
     ]
    },
    {
     "name": "stdout",
     "output_type": "stream",
     "text": [
      "\tGEO,  8th phase (06Aug2020 - 14Aug2020): finished  936 trials in 1 min  0 sec"
     ]
    },
    {
     "name": "stdout",
     "output_type": "stream",
     "text": [
      "\n"
     ]
    },
    {
     "name": "stdout",
     "output_type": "stream",
     "text": [
      "\tMMR,  6th phase (28Jun2020 - 08Jul2020): finished  935 trials in 1 min  0 sec"
     ]
    },
    {
     "name": "stdout",
     "output_type": "stream",
     "text": [
      "\n"
     ]
    },
    {
     "name": "stdout",
     "output_type": "stream",
     "text": [
      "\tTUR,  1st phase (18Apr2020 - 29Apr2020): finished  948 trials in 1 min  0 sec"
     ]
    },
    {
     "name": "stdout",
     "output_type": "stream",
     "text": [
      "\n"
     ]
    },
    {
     "name": "stdout",
     "output_type": "stream",
     "text": [
      "\tPER,  2nd phase (29May2020 - 10Jun2020): finished  943 trials in 1 min  0 sec"
     ]
    },
    {
     "name": "stdout",
     "output_type": "stream",
     "text": [
      "\n"
     ]
    },
    {
     "name": "stdout",
     "output_type": "stream",
     "text": [
      "\tPRT,  3rd phase (01Jun2020 - 12Jun2020): finished  518 trials in 0 min 30 sec"
     ]
    },
    {
     "name": "stdout",
     "output_type": "stream",
     "text": [
      "\n"
     ]
    },
    {
     "name": "stdout",
     "output_type": "stream",
     "text": [
      "\tRUS,  9th phase (10Aug2020 - 27Aug2020): finished  950 trials in 1 min  0 sec"
     ]
    },
    {
     "name": "stdout",
     "output_type": "stream",
     "text": [
      "\n"
     ]
    },
    {
     "name": "stdout",
     "output_type": "stream",
     "text": [
      "\tIRN, 10th phase (12Aug2020 - 27Aug2020): finished  364 trials in 0 min 20 sec"
     ]
    },
    {
     "name": "stdout",
     "output_type": "stream",
     "text": [
      "\n"
     ]
    },
    {
     "name": "stdout",
     "output_type": "stream",
     "text": [
      "\tRUS,  8th phase (28Jul2020 - 09Aug2020): finished  951 trials in 1 min  0 sec"
     ]
    },
    {
     "name": "stdout",
     "output_type": "stream",
     "text": [
      "\n"
     ]
    },
    {
     "name": "stdout",
     "output_type": "stream",
     "text": [
      "\tFRA,  1st phase (25Mar2020 - 02Apr2020): finished  970 trials in 1 min  0 sec"
     ]
    },
    {
     "name": "stdout",
     "output_type": "stream",
     "text": [
      "\n"
     ]
    },
    {
     "name": "stdout",
     "output_type": "stream",
     "text": [
      "\tFRA,  3rd phase (12Apr2020 - 24Apr2020): finished  953 trials in 1 min  0 sec"
     ]
    },
    {
     "name": "stdout",
     "output_type": "stream",
     "text": [
      "\n"
     ]
    },
    {
     "name": "stdout",
     "output_type": "stream",
     "text": [
      "\tUSA,  7th phase (24Jul2020 - 07Aug2020): finished  192 trials in 0 min 10 sec"
     ]
    },
    {
     "name": "stdout",
     "output_type": "stream",
     "text": [
      "\n"
     ]
    },
    {
     "name": "stdout",
     "output_type": "stream",
     "text": [
      "\tNGA,  3rd phase (20Jun2020 - 27Jun2020): finished  600 trials in 0 min 35 sec"
     ]
    },
    {
     "name": "stdout",
     "output_type": "stream",
     "text": [
      "\n"
     ]
    },
    {
     "name": "stdout",
     "output_type": "stream",
     "text": [
      "\tNGA,  2nd phase (09Jun2020 - 19Jun2020): finished  438 trials in 0 min 25 sec"
     ]
    },
    {
     "name": "stdout",
     "output_type": "stream",
     "text": [
      "\n"
     ]
    },
    {
     "name": "stdout",
     "output_type": "stream",
     "text": [
      "\tGEO,  3rd phase (14May2020 - 29May2020): finished  946 trials in 1 min  0 sec"
     ]
    },
    {
     "name": "stdout",
     "output_type": "stream",
     "text": [
      "\n"
     ]
    },
    {
     "name": "stdout",
     "output_type": "stream",
     "text": [
      "\tPER,  6th phase (19Jul2020 - 28Jul2020): finished  934 trials in 1 min  0 sec"
     ]
    },
    {
     "name": "stdout",
     "output_type": "stream",
     "text": [
      "\n"
     ]
    },
    {
     "name": "stdout",
     "output_type": "stream",
     "text": [
      "\tBGD,  1st phase (27May2020 - 11Jun2020): finished  916 trials in 1 min  0 sec"
     ]
    },
    {
     "name": "stdout",
     "output_type": "stream",
     "text": [
      "\n"
     ]
    },
    {
     "name": "stdout",
     "output_type": "stream",
     "text": [
      "\tMEX,  6th phase (17Jul2020 - 28Jul2020): finished  930 trials in 1 min  0 sec"
     ]
    },
    {
     "name": "stdout",
     "output_type": "stream",
     "text": [
      "\n"
     ]
    },
    {
     "name": "stdout",
     "output_type": "stream",
     "text": [
      "\tBGD,  5th phase (07Jul2020 - 14Jul2020): finished  933 trials in 1 min  0 sec"
     ]
    },
    {
     "name": "stdout",
     "output_type": "stream",
     "text": [
      "\n"
     ]
    },
    {
     "name": "stdout",
     "output_type": "stream",
     "text": [
      "\tKOR,  7th phase (03Jul2020 - 20Jul2020): finished  911 trials in 1 min  0 sec"
     ]
    },
    {
     "name": "stdout",
     "output_type": "stream",
     "text": [
      "\n"
     ]
    },
    {
     "name": "stdout",
     "output_type": "stream",
     "text": [
      "\tNGA,  1st phase (24May2020 - 08Jun2020): finished  808 trials in 0 min 50 sec"
     ]
    },
    {
     "name": "stdout",
     "output_type": "stream",
     "text": [
      "\n"
     ]
    },
    {
     "name": "stdout",
     "output_type": "stream",
     "text": [
      "\tBHR,  3rd phase (11Jun2020 - 20Jun2020): finished  811 trials in 0 min 50 sec"
     ]
    },
    {
     "name": "stdout",
     "output_type": "stream",
     "text": [
      "\n"
     ]
    },
    {
     "name": "stdout",
     "output_type": "stream",
     "text": [
      "\tPRT,  5th phase (23Jun2020 - 02Jul2020): finished  198 trials in 0 min 10 sec"
     ]
    },
    {
     "name": "stdout",
     "output_type": "stream",
     "text": [
      "\n"
     ]
    },
    {
     "name": "stdout",
     "output_type": "stream",
     "text": [
      "\tMLI,  5th phase (02Jun2020 - 09Jun2020): finished  834 trials in 0 min 50 sec"
     ]
    },
    {
     "name": "stdout",
     "output_type": "stream",
     "text": [
      "\n"
     ]
    },
    {
     "name": "stdout",
     "output_type": "stream",
     "text": [
      "\tCZE,  4th phase (10Jun2020 - 27Jun2020): finished  944 trials in 1 min  0 sec"
     ]
    },
    {
     "name": "stdout",
     "output_type": "stream",
     "text": [
      "\n"
     ]
    },
    {
     "name": "stdout",
     "output_type": "stream",
     "text": [
      "\tMEX,  1st phase (21May2020 - 07Jun2020): finished  185 trials in 0 min 10 sec"
     ]
    },
    {
     "name": "stdout",
     "output_type": "stream",
     "text": [
      "\n"
     ]
    },
    {
     "name": "stdout",
     "output_type": "stream",
     "text": [
      "\tMEX,  4th phase (01Jul2020 - 08Jul2020): finished  202 trials in 0 min 10 sec"
     ]
    },
    {
     "name": "stdout",
     "output_type": "stream",
     "text": [
      "\n"
     ]
    },
    {
     "name": "stdout",
     "output_type": "stream",
     "text": [
      "\tTUR,  4th phase (29May2020 - 13Jun2020): finished  184 trials in 0 min 10 sec"
     ]
    },
    {
     "name": "stdout",
     "output_type": "stream",
     "text": [
      "\n"
     ]
    },
    {
     "name": "stdout",
     "output_type": "stream",
     "text": [
      "\tSEN,  6th phase (02Jul2020 - 10Jul2020): finished  951 trials in 1 min  0 sec"
     ]
    },
    {
     "name": "stdout",
     "output_type": "stream",
     "text": [
      "\n"
     ]
    },
    {
     "name": "stdout",
     "output_type": "stream",
     "text": [
      "\tMDA,  5th phase (09Jul2020 - 20Jul2020): finished  358 trials in 0 min 20 sec"
     ]
    },
    {
     "name": "stdout",
     "output_type": "stream",
     "text": [
      "\n"
     ]
    },
    {
     "name": "stdout",
     "output_type": "stream",
     "text": [
      "\tITA,  7th phase (21May2020 - 08Jun2020): finished  274 trials in 0 min 15 sec"
     ]
    },
    {
     "name": "stdout",
     "output_type": "stream",
     "text": [
      "\n"
     ]
    },
    {
     "name": "stdout",
     "output_type": "stream",
     "text": [
      "\tMLI,  6th phase (10Jun2020 - 24Jun2020): finished  966 trials in 1 min  0 sec"
     ]
    },
    {
     "name": "stdout",
     "output_type": "stream",
     "text": [
      "\n"
     ]
    },
    {
     "name": "stdout",
     "output_type": "stream",
     "text": [
      "\tNGA,  5th phase (13Jul2020 - 20Jul2020): finished  364 trials in 0 min 20 sec"
     ]
    },
    {
     "name": "stdout",
     "output_type": "stream",
     "text": [
      "\n"
     ]
    },
    {
     "name": "stdout",
     "output_type": "stream",
     "text": [
      "\tPER,  4th phase (23Jun2020 - 06Jul2020): finished  954 trials in 1 min  0 sec"
     ]
    },
    {
     "name": "stdout",
     "output_type": "stream",
     "text": [
      "\n"
     ]
    },
    {
     "name": "stdout",
     "output_type": "stream",
     "text": [
      "\tARE,  2nd phase (13May2020 - 25May2020): finished  976 trials in 1 min  0 sec"
     ]
    },
    {
     "name": "stdout",
     "output_type": "stream",
     "text": [
      "\n"
     ]
    },
    {
     "name": "stdout",
     "output_type": "stream",
     "text": [
      "\tARE,  3rd phase (26May2020 - 03Jun2020): finished  957 trials in 1 min  0 sec"
     ]
    },
    {
     "name": "stdout",
     "output_type": "stream",
     "text": [
      "\n"
     ]
    },
    {
     "name": "stdout",
     "output_type": "stream",
     "text": [
      "\tTUR,  6th phase (27Jun2020 - 11Jul2020): finished  284 trials in 0 min 15 sec"
     ]
    },
    {
     "name": "stdout",
     "output_type": "stream",
     "text": [
      "\n"
     ]
    },
    {
     "name": "stdout",
     "output_type": "stream",
     "text": [
      "\tNGA,  6th phase (21Jul2020 - 29Jul2020): finished  947 trials in 1 min  0 sec"
     ]
    },
    {
     "name": "stdout",
     "output_type": "stream",
     "text": [
      "\n"
     ]
    },
    {
     "name": "stdout",
     "output_type": "stream",
     "text": [
      "\tMLI,  8th phase (04Jul2020 - 31Jul2020): finished  937 trials in 1 min  0 sec"
     ]
    },
    {
     "name": "stdout",
     "output_type": "stream",
     "text": [
      "\n"
     ]
    },
    {
     "name": "stdout",
     "output_type": "stream",
     "text": [
      "\tNGA,  4th phase (28Jun2020 - 12Jul2020): finished  593 trials in 0 min 35 sec"
     ]
    },
    {
     "name": "stdout",
     "output_type": "stream",
     "text": [
      "\n"
     ]
    },
    {
     "name": "stdout",
     "output_type": "stream",
     "text": [
      "\tGIN,  6th phase (02Jul2020 - 14Jul2020): finished  942 trials in 1 min  0 sec"
     ]
    },
    {
     "name": "stdout",
     "output_type": "stream",
     "text": [
      "\n"
     ]
    },
    {
     "name": "stdout",
     "output_type": "stream",
     "text": [
      "\tGIN,  5th phase (16Jun2020 - 01Jul2020): finished  949 trials in 1 min  0 sec"
     ]
    },
    {
     "name": "stdout",
     "output_type": "stream",
     "text": [
      "\n"
     ]
    },
    {
     "name": "stdout",
     "output_type": "stream",
     "text": [
      "\tFRA,  9th phase (02Aug2020 - 27Aug2020): finished  568 trials in 0 min 35 sec"
     ]
    },
    {
     "name": "stdout",
     "output_type": "stream",
     "text": [
      "\n"
     ]
    },
    {
     "name": "stdout",
     "output_type": "stream",
     "text": [
      "\tMMR,  5th phase (15Jun2020 - 27Jun2020): finished  943 trials in 1 min  0 sec"
     ]
    },
    {
     "name": "stdout",
     "output_type": "stream",
     "text": [
      "\n"
     ]
    },
    {
     "name": "stdout",
     "output_type": "stream",
     "text": [
      "\tMEX,  3rd phase (20Jun2020 - 30Jun2020): finished  955 trials in 1 min  0 sec"
     ]
    },
    {
     "name": "stdout",
     "output_type": "stream",
     "text": [
      "\n"
     ]
    },
    {
     "name": "stdout",
     "output_type": "stream",
     "text": [
      "\tPER,  3rd phase (11Jun2020 - 22Jun2020): finished  934 trials in 1 min  0 sec"
     ]
    },
    {
     "name": "stdout",
     "output_type": "stream",
     "text": [
      "\n"
     ]
    },
    {
     "name": "stdout",
     "output_type": "stream",
     "text": [
      "\tKOR,  2nd phase (26Mar2020 - 06Apr2020): finished  521 trials in 0 min 30 sec"
     ]
    },
    {
     "name": "stdout",
     "output_type": "stream",
     "text": [
      "\n"
     ]
    },
    {
     "name": "stdout",
     "output_type": "stream",
     "text": [
      "\tGIN,  4th phase (31May2020 - 15Jun2020): finished  928 trials in 1 min  0 sec"
     ]
    },
    {
     "name": "stdout",
     "output_type": "stream",
     "text": [
      "\n"
     ]
    },
    {
     "name": "stdout",
     "output_type": "stream",
     "text": [
      "\tPRT,  2nd phase (18May2020 - 31May2020): finished  931 trials in 1 min  0 sec"
     ]
    },
    {
     "name": "stdout",
     "output_type": "stream",
     "text": [
      "\n"
     ]
    },
    {
     "name": "stdout",
     "output_type": "stream",
     "text": [
      "\tPER,  1st phase (11May2020 - 28May2020): finished  946 trials in 1 min  0 sec"
     ]
    },
    {
     "name": "stdout",
     "output_type": "stream",
     "text": [
      "\n"
     ]
    },
    {
     "name": "stdout",
     "output_type": "stream",
     "text": [
      "\tTUR,  2nd phase (30Apr2020 - 15May2020): finished  511 trials in 0 min 30 sec"
     ]
    },
    {
     "name": "stdout",
     "output_type": "stream",
     "text": [
      "\n"
     ]
    },
    {
     "name": "stdout",
     "output_type": "stream",
     "text": [
      "\tKWT,  4th phase (23Jun2020 - 03Jul2020): finished  949 trials in 1 min  0 sec"
     ]
    },
    {
     "name": "stdout",
     "output_type": "stream",
     "text": [
      "\n"
     ]
    },
    {
     "name": "stdout",
     "output_type": "stream",
     "text": [
      "\tBGD,  3rd phase (21Jun2020 - 28Jun2020): finished  957 trials in 1 min  0 sec"
     ]
    },
    {
     "name": "stdout",
     "output_type": "stream",
     "text": [
      "\n"
     ]
    },
    {
     "name": "stdout",
     "output_type": "stream",
     "text": [
      "\tRUS,  6th phase (05Jul2020 - 15Jul2020): finished  950 trials in 1 min  0 sec"
     ]
    },
    {
     "name": "stdout",
     "output_type": "stream",
     "text": [
      "\n"
     ]
    },
    {
     "name": "stdout",
     "output_type": "stream",
     "text": [
      "\tUSA,  5th phase (08Jul2020 - 15Jul2020): finished  378 trials in 0 min 20 sec"
     ]
    },
    {
     "name": "stdout",
     "output_type": "stream",
     "text": [
      "\n"
     ]
    },
    {
     "name": "stdout",
     "output_type": "stream",
     "text": [
      "\tITA,  1st phase (23Mar2020 - 31Mar2020): finished  961 trials in 1 min  0 sec"
     ]
    },
    {
     "name": "stdout",
     "output_type": "stream",
     "text": [
      "\n"
     ]
    },
    {
     "name": "stdout",
     "output_type": "stream",
     "text": [
      "\tBHR,  1st phase (06May2020 - 30May2020): finished  946 trials in 1 min  0 sec"
     ]
    },
    {
     "name": "stdout",
     "output_type": "stream",
     "text": [
      "\n"
     ]
    },
    {
     "name": "stdout",
     "output_type": "stream",
     "text": [
      "\tUSA,  8th phase (08Aug2020 - 15Aug2020): finished  479 trials in 0 min 30 sec"
     ]
    },
    {
     "name": "stdout",
     "output_type": "stream",
     "text": [
      "\n"
     ]
    },
    {
     "name": "stdout",
     "output_type": "stream",
     "text": [
      "\tGEO,  7th phase (21Jul2020 - 05Aug2020): finished  866 trials in 1 min  0 sec"
     ]
    },
    {
     "name": "stdout",
     "output_type": "stream",
     "text": [
      "\n"
     ]
    },
    {
     "name": "stdout",
     "output_type": "stream",
     "text": [
      "\tSEN,  2nd phase (15May2020 - 27May2020): finished  873 trials in 1 min  0 sec"
     ]
    },
    {
     "name": "stdout",
     "output_type": "stream",
     "text": [
      "\n"
     ]
    },
    {
     "name": "stdout",
     "output_type": "stream",
     "text": [
      "\tGEO,  2nd phase (24Apr2020 - 13May2020): finished  878 trials in 1 min  0 sec"
     ]
    },
    {
     "name": "stdout",
     "output_type": "stream",
     "text": [
      "\n"
     ]
    },
    {
     "name": "stdout",
     "output_type": "stream",
     "text": [
      "\tPOL,  9th phase (08Aug2020 - 16Aug2020): finished  223 trials in 0 min 10 sec"
     ]
    },
    {
     "name": "stdout",
     "output_type": "stream",
     "text": [
      "\n"
     ]
    },
    {
     "name": "stdout",
     "output_type": "stream",
     "text": [
      "\tCZE,  5th phase (28Jun2020 - 16Jul2020): finished  925 trials in 1 min  1 sec"
     ]
    },
    {
     "name": "stdout",
     "output_type": "stream",
     "text": [
      "\n"
     ]
    },
    {
     "name": "stdout",
     "output_type": "stream",
     "text": [
      "\tPRT,  4th phase (13Jun2020 - 22Jun2020): finished  343 trials in 0 min 25 sec"
     ]
    },
    {
     "name": "stdout",
     "output_type": "stream",
     "text": [
      "\n"
     ]
    },
    {
     "name": "stdout",
     "output_type": "stream",
     "text": [
      "\tSEN,  3rd phase (28May2020 - 08Jun2020): finished  851 trials in 1 min  1 sec"
     ]
    },
    {
     "name": "stdout",
     "output_type": "stream",
     "text": [
      "\n"
     ]
    },
    {
     "name": "stdout",
     "output_type": "stream",
     "text": [
      "\tUSA,  1st phase (20Apr2020 - 11May2020): finished  829 trials in 1 min  0 sec"
     ]
    },
    {
     "name": "stdout",
     "output_type": "stream",
     "text": [
      "\n"
     ]
    },
    {
     "name": "stdout",
     "output_type": "stream",
     "text": [
      "\tTUR,  7th phase (12Jul2020 - 29Jul2020): finished   66 trials in 0 min  5 sec"
     ]
    },
    {
     "name": "stdout",
     "output_type": "stream",
     "text": [
      "\n"
     ]
    },
    {
     "name": "stdout",
     "output_type": "stream",
     "text": [
      "\tNGA,  7th phase (30Jul2020 - 07Aug2020): finished  775 trials in 1 min  1 sec"
     ]
    },
    {
     "name": "stdout",
     "output_type": "stream",
     "text": [
      "\n"
     ]
    },
    {
     "name": "stdout",
     "output_type": "stream",
     "text": [
      "\tMLI,  7th phase (25Jun2020 - 03Jul2020): finished  333 trials in 0 min 20 sec"
     ]
    },
    {
     "name": "stdout",
     "output_type": "stream",
     "text": [
      "\n"
     ]
    },
    {
     "name": "stdout",
     "output_type": "stream",
     "text": [
      "\tPRT,  9th phase (11Aug2020 - 27Aug2020): finished  884 trials in 1 min  1 sec"
     ]
    },
    {
     "name": "stdout",
     "output_type": "stream",
     "text": [
      "\n"
     ]
    },
    {
     "name": "stdout",
     "output_type": "stream",
     "text": [
      "\tSEN,  5th phase (20Jun2020 - 01Jul2020): finished  827 trials in 0 min 50 sec"
     ]
    },
    {
     "name": "stdout",
     "output_type": "stream",
     "text": [
      "\n"
     ]
    },
    {
     "name": "stdout",
     "output_type": "stream",
     "text": [
      "\tSEN,  9th phase (02Aug2020 - 12Aug2020): finished  955 trials in 1 min  0 sec"
     ]
    },
    {
     "name": "stdout",
     "output_type": "stream",
     "text": [
      "\n"
     ]
    },
    {
     "name": "stdout",
     "output_type": "stream",
     "text": [
      "\tIRN,  6th phase (23Jun2020 - 04Jul2020): finished  125 trials in 0 min  5 sec"
     ]
    },
    {
     "name": "stdout",
     "output_type": "stream",
     "text": [
      "\n"
     ]
    },
    {
     "name": "stdout",
     "output_type": "stream",
     "text": [
      "\tMMR,  1st phase (29Apr2020 - 14May2020): finished 1075 trials in 1 min  0 sec"
     ]
    },
    {
     "name": "stdout",
     "output_type": "stream",
     "text": [
      "\n"
     ]
    },
    {
     "name": "stdout",
     "output_type": "stream",
     "text": [
      "\tRUS,  2nd phase (23May2020 - 30May2020): finished  972 trials in 1 min  0 sec"
     ]
    },
    {
     "name": "stdout",
     "output_type": "stream",
     "text": [
      "\n"
     ]
    },
    {
     "name": "stdout",
     "output_type": "stream",
     "text": [
      "\tGEO,  5th phase (11Jun2020 - 06Jul2020): finished  921 trials in 1 min  0 sec"
     ]
    },
    {
     "name": "stdout",
     "output_type": "stream",
     "text": [
      "\n"
     ]
    },
    {
     "name": "stdout",
     "output_type": "stream",
     "text": [
      "\tMDA,  4th phase (26Jun2020 - 08Jul2020): finished  936 trials in 1 min  0 sec"
     ]
    },
    {
     "name": "stdout",
     "output_type": "stream",
     "text": [
      "\n"
     ]
    },
    {
     "name": "stdout",
     "output_type": "stream",
     "text": [
      "\tFRA,  5th phase (06May2020 - 26May2020): finished  409 trials in 0 min 25 sec"
     ]
    },
    {
     "name": "stdout",
     "output_type": "stream",
     "text": [
      "\n"
     ]
    },
    {
     "name": "stdout",
     "output_type": "stream",
     "text": [
      "\tITA,  8th phase (09Jun2020 - 20Jul2020): finished  536 trials in 0 min 35 sec"
     ]
    },
    {
     "name": "stdout",
     "output_type": "stream",
     "text": [
      "\n"
     ]
    },
    {
     "name": "stdout",
     "output_type": "stream",
     "text": [
      "\tITA,  9th phase (21Jul2020 - 27Aug2020): finished  880 trials in 1 min  0 sec"
     ]
    },
    {
     "name": "stdout",
     "output_type": "stream",
     "text": [
      "\n"
     ]
    },
    {
     "name": "stdout",
     "output_type": "stream",
     "text": [
      "\tBGD,  7th phase (25Jul2020 - 04Aug2020): finished  287 trials in 0 min 15 sec"
     ]
    },
    {
     "name": "stdout",
     "output_type": "stream",
     "text": [
      "\n"
     ]
    },
    {
     "name": "stdout",
     "output_type": "stream",
     "text": [
      "\tPOL,  6th phase (01Jul2020 - 15Jul2020): finished  255 trials in 0 min 15 sec"
     ]
    },
    {
     "name": "stdout",
     "output_type": "stream",
     "text": [
      "\n"
     ]
    },
    {
     "name": "stdout",
     "output_type": "stream",
     "text": [
      "\tGEO,  1st phase (12Apr2020 - 23Apr2020): finished  935 trials in 1 min  1 sec"
     ]
    },
    {
     "name": "stdout",
     "output_type": "stream",
     "text": [
      "\n"
     ]
    },
    {
     "name": "stdout",
     "output_type": "stream",
     "text": [
      "\tPRT,  7th phase (12Jul2020 - 23Jul2020): finished  207 trials in 0 min 10 sec"
     ]
    },
    {
     "name": "stdout",
     "output_type": "stream",
     "text": [
      "\n"
     ]
    },
    {
     "name": "stdout",
     "output_type": "stream",
     "text": [
      "\tGIN,  8th phase (25Jul2020 - 05Aug2020): finished  598 trials in 0 min 35 sec"
     ]
    },
    {
     "name": "stdout",
     "output_type": "stream",
     "text": [
      "\n"
     ]
    },
    {
     "name": "stdout",
     "output_type": "stream",
     "text": [
      "\tMLI,  1st phase (25Apr2020 - 02May2020): finished 1143 trials in 1 min  0 sec"
     ]
    },
    {
     "name": "stdout",
     "output_type": "stream",
     "text": [
      "\n"
     ]
    },
    {
     "name": "stdout",
     "output_type": "stream",
     "text": [
      "\tPRT,  8th phase (24Jul2020 - 10Aug2020): finished  616 trials in 0 min 20 sec"
     ]
    },
    {
     "name": "stdout",
     "output_type": "stream",
     "text": [
      "\n"
     ]
    },
    {
     "name": "stdout",
     "output_type": "stream",
     "text": [
      "\tPER,  8th phase (06Aug2020 - 18Aug2020): finished 1438 trials in 1 min  0 sec"
     ]
    },
    {
     "name": "stdout",
     "output_type": "stream",
     "text": [
      "\n"
     ]
    },
    {
     "name": "stdout",
     "output_type": "stream",
     "text": [
      "\tKWT,  7th phase (24Jul2020 - 03Aug2020): finished  175 trials in 0 min  5 sec"
     ]
    },
    {
     "name": "stdout",
     "output_type": "stream",
     "text": [
      "\n"
     ]
    },
    {
     "name": "stdout",
     "output_type": "stream",
     "text": [
      "\tKOR,  8th phase (21Jul2020 - 03Aug2020): finished 1512 trials in 1 min  0 sec"
     ]
    },
    {
     "name": "stdout",
     "output_type": "stream",
     "text": [
      "\n"
     ]
    },
    {
     "name": "stdout",
     "output_type": "stream",
     "text": [
      "\tGEO,  4th phase (30May2020 - 10Jun2020): finished 1536 trials in 1 min  0 sec"
     ]
    },
    {
     "name": "stdout",
     "output_type": "stream",
     "text": [
      "\n"
     ]
    },
    {
     "name": "stdout",
     "output_type": "stream",
     "text": [
      "\tKOR, 10th phase (17Aug2020 - 27Aug2020): finished 1533 trials in 1 min  0 sec"
     ]
    },
    {
     "name": "stdout",
     "output_type": "stream",
     "text": [
      "\n"
     ]
    },
    {
     "name": "stdout",
     "output_type": "stream",
     "text": [
      "\tCZE,  8th phase (05Aug2020 - 18Aug2020): finished 1534 trials in 1 min  0 sec"
     ]
    },
    {
     "name": "stdout",
     "output_type": "stream",
     "text": [
      "\n"
     ]
    },
    {
     "name": "stdout",
     "output_type": "stream",
     "text": [
      "\tSEN,  8th phase (22Jul2020 - 01Aug2020): finished 1002 trials in 0 min 35 sec"
     ]
    },
    {
     "name": "stdout",
     "output_type": "stream",
     "text": [
      "\n"
     ]
    },
    {
     "name": "stdout",
     "output_type": "stream",
     "text": [
      "\tUSA,  4th phase (26Jun2020 - 07Jul2020): finished 1542 trials in 1 min  0 sec"
     ]
    },
    {
     "name": "stdout",
     "output_type": "stream",
     "text": [
      "\n"
     ]
    },
    {
     "name": "stdout",
     "output_type": "stream",
     "text": [
      "\tPOL,  5th phase (17Jun2020 - 30Jun2020): finished  173 trials in 0 min  5 sec"
     ]
    },
    {
     "name": "stdout",
     "output_type": "stream",
     "text": [
      "\n"
     ]
    },
    {
     "name": "stdout",
     "output_type": "stream",
     "text": [
      "\tIRN,  2nd phase (17Apr2020 - 10May2020): finished  170 trials in 0 min  5 sec"
     ]
    },
    {
     "name": "stdout",
     "output_type": "stream",
     "text": [
      "\n"
     ]
    },
    {
     "name": "stdout",
     "output_type": "stream",
     "text": [
      "\tTUR,  5th phase (14Jun2020 - 26Jun2020): finished 1536 trials in 1 min  0 sec"
     ]
    },
    {
     "name": "stdout",
     "output_type": "stream",
     "text": [
      "\n"
     ]
    },
    {
     "name": "stdout",
     "output_type": "stream",
     "text": [
      "\tITA,  2nd phase (01Apr2020 - 11Apr2020): finished 1109 trials in 0 min 40 sec"
     ]
    },
    {
     "name": "stdout",
     "output_type": "stream",
     "text": [
      "\n"
     ]
    },
    {
     "name": "stdout",
     "output_type": "stream",
     "text": [
      "\tCZE,  6th phase (17Jul2020 - 26Jul2020): finished 1538 trials in 1 min  0 sec"
     ]
    },
    {
     "name": "stdout",
     "output_type": "stream",
     "text": [
      "\n"
     ]
    },
    {
     "name": "stdout",
     "output_type": "stream",
     "text": [
      "\tFRA,  2nd phase (03Apr2020 - 11Apr2020): finished 1533 trials in 1 min  0 sec"
     ]
    },
    {
     "name": "stdout",
     "output_type": "stream",
     "text": [
      "\n"
     ]
    },
    {
     "name": "stdout",
     "output_type": "stream",
     "text": [
      "\tKWT,  8th phase (04Aug2020 - 14Aug2020): finished  482 trials in 0 min 15 sec"
     ]
    },
    {
     "name": "stdout",
     "output_type": "stream",
     "text": [
      "\n"
     ]
    },
    {
     "name": "stdout",
     "output_type": "stream",
     "text": [
      "\tMDA,  1st phase (09May2020 - 02Jun2020): finished 1558 trials in 1 min  0 sec"
     ]
    },
    {
     "name": "stdout",
     "output_type": "stream",
     "text": [
      "\n"
     ]
    },
    {
     "name": "stdout",
     "output_type": "stream",
     "text": [
      "\tITA,  6th phase (11May2020 - 20May2020): finished  202 trials in 0 min  5 sec"
     ]
    },
    {
     "name": "stdout",
     "output_type": "stream",
     "text": [
      "\n"
     ]
    },
    {
     "name": "stdout",
     "output_type": "stream",
     "text": [
      "\tMDA,  3rd phase (16Jun2020 - 25Jun2020): finished  384 trials in 0 min 10 sec"
     ]
    },
    {
     "name": "stdout",
     "output_type": "stream",
     "text": [
      "\n"
     ]
    },
    {
     "name": "stdout",
     "output_type": "stream",
     "text": [
      "\tUSA,  2nd phase (12May2020 - 04Jun2020): finished 1642 trials in 1 min  0 sec"
     ]
    },
    {
     "name": "stdout",
     "output_type": "stream",
     "text": [
      "\n"
     ]
    },
    {
     "name": "stdout",
     "output_type": "stream",
     "text": [
      "\tBGD,  2nd phase (12Jun2020 - 20Jun2020): finished 1717 trials in 1 min  0 sec"
     ]
    },
    {
     "name": "stdout",
     "output_type": "stream",
     "text": [
      "\n"
     ]
    },
    {
     "name": "stdout",
     "output_type": "stream",
     "text": [
      "\tKOR,  6th phase (17Jun2020 - 02Jul2020): finished 1713 trials in 1 min  0 sec"
     ]
    },
    {
     "name": "stdout",
     "output_type": "stream",
     "text": [
      "\n"
     ]
    },
    {
     "name": "stdout",
     "output_type": "stream",
     "text": [
      "\tTUR,  8th phase (30Jul2020 - 13Aug2020): finished  555 trials in 0 min 15 sec"
     ]
    },
    {
     "name": "stdout",
     "output_type": "stream",
     "text": [
      "\n"
     ]
    },
    {
     "name": "stdout",
     "output_type": "stream",
     "text": [
      "Completed optimization. Total: 37 min 21 sec"
     ]
    },
    {
     "name": "stdout",
     "output_type": "stream",
     "text": [
      "\n"
     ]
    }
   ],
   "source": [
    "# Parameter estimation with SIR-F model\n",
    "analyser.estimate(cs.SIRF)"
   ]
  },
  {
   "cell_type": "code",
   "execution_count": 12,
   "metadata": {
    "collapsed": false
   },
   "outputs": [
    {
     "data": {
      "text/html": [
       "<div>\n",
       "<style scoped>\n",
       "    .dataframe tbody tr th:only-of-type {\n",
       "        vertical-align: middle;\n",
       "    }\n",
       "\n",
       "    .dataframe tbody tr th {\n",
       "        vertical-align: top;\n",
       "    }\n",
       "\n",
       "    .dataframe thead th {\n",
       "        text-align: right;\n",
       "    }\n",
       "</style>\n",
       "<table border=\"1\" class=\"dataframe\">\n",
       "  <thead>\n",
       "    <tr style=\"text-align: right;\">\n",
       "      <th></th>\n",
       "      <th></th>\n",
       "      <th>Type</th>\n",
       "      <th>Start</th>\n",
       "      <th>End</th>\n",
       "      <th>Population</th>\n",
       "      <th>ODE</th>\n",
       "      <th>Rt</th>\n",
       "      <th>theta</th>\n",
       "      <th>kappa</th>\n",
       "      <th>rho</th>\n",
       "      <th>sigma</th>\n",
       "      <th>tau</th>\n",
       "      <th>1/gamma [day]</th>\n",
       "      <th>1/beta [day]</th>\n",
       "      <th>alpha1 [-]</th>\n",
       "      <th>1/alpha2 [day]</th>\n",
       "      <th>RMSLE</th>\n",
       "      <th>Trials</th>\n",
       "      <th>Runtime</th>\n",
       "    </tr>\n",
       "    <tr>\n",
       "      <th>Country</th>\n",
       "      <th>Phase</th>\n",
       "      <th></th>\n",
       "      <th></th>\n",
       "      <th></th>\n",
       "      <th></th>\n",
       "      <th></th>\n",
       "      <th></th>\n",
       "      <th></th>\n",
       "      <th></th>\n",
       "      <th></th>\n",
       "      <th></th>\n",
       "      <th></th>\n",
       "      <th></th>\n",
       "      <th></th>\n",
       "      <th></th>\n",
       "      <th></th>\n",
       "      <th></th>\n",
       "      <th></th>\n",
       "      <th></th>\n",
       "    </tr>\n",
       "  </thead>\n",
       "  <tbody>\n",
       "    <tr>\n",
       "      <th rowspan=\"5\" valign=\"top\">Korea, South</th>\n",
       "      <th>1st</th>\n",
       "      <td>Past</td>\n",
       "      <td>15Mar2020</td>\n",
       "      <td>25Mar2020</td>\n",
       "      <td>51606633</td>\n",
       "      <td>SIR-F</td>\n",
       "      <td>0.3</td>\n",
       "      <td>0.0355164</td>\n",
       "      <td>4.58288e-05</td>\n",
       "      <td>0.00384544</td>\n",
       "      <td>0.0121758</td>\n",
       "      <td>360</td>\n",
       "      <td>20</td>\n",
       "      <td>65</td>\n",
       "      <td>0.036</td>\n",
       "      <td>5455</td>\n",
       "      <td>0.163799</td>\n",
       "      <td>926</td>\n",
       "      <td>1 min  0 sec</td>\n",
       "    </tr>\n",
       "    <tr>\n",
       "      <th>2nd</th>\n",
       "      <td>Past</td>\n",
       "      <td>26Mar2020</td>\n",
       "      <td>06Apr2020</td>\n",
       "      <td>51606633</td>\n",
       "      <td>SIR-F</td>\n",
       "      <td>0.44</td>\n",
       "      <td>0.000126864</td>\n",
       "      <td>0.000292351</td>\n",
       "      <td>0.00571777</td>\n",
       "      <td>0.0127472</td>\n",
       "      <td>360</td>\n",
       "      <td>19</td>\n",
       "      <td>43</td>\n",
       "      <td>0</td>\n",
       "      <td>855</td>\n",
       "      <td>0.0290512</td>\n",
       "      <td>521</td>\n",
       "      <td>0 min 30 sec</td>\n",
       "    </tr>\n",
       "    <tr>\n",
       "      <th>3rd</th>\n",
       "      <td>Past</td>\n",
       "      <td>07Apr2020</td>\n",
       "      <td>29Apr2020</td>\n",
       "      <td>51606633</td>\n",
       "      <td>SIR-F</td>\n",
       "      <td>0.12</td>\n",
       "      <td>0.190796</td>\n",
       "      <td>3.66355e-06</td>\n",
       "      <td>0.00148135</td>\n",
       "      <td>0.00975935</td>\n",
       "      <td>360</td>\n",
       "      <td>25</td>\n",
       "      <td>168</td>\n",
       "      <td>0.191</td>\n",
       "      <td>68239</td>\n",
       "      <td>0.0509398</td>\n",
       "      <td>899</td>\n",
       "      <td>1 min  0 sec</td>\n",
       "    </tr>\n",
       "    <tr>\n",
       "      <th>4th</th>\n",
       "      <td>Past</td>\n",
       "      <td>30Apr2020</td>\n",
       "      <td>23May2020</td>\n",
       "      <td>51606633</td>\n",
       "      <td>SIR-F</td>\n",
       "      <td>0.33</td>\n",
       "      <td>0.0064892</td>\n",
       "      <td>0.000162239</td>\n",
       "      <td>0.00450393</td>\n",
       "      <td>0.0134568</td>\n",
       "      <td>360</td>\n",
       "      <td>18</td>\n",
       "      <td>55</td>\n",
       "      <td>0.006</td>\n",
       "      <td>1540</td>\n",
       "      <td>0.0762359</td>\n",
       "      <td>305</td>\n",
       "      <td>0 min 25 sec</td>\n",
       "    </tr>\n",
       "    <tr>\n",
       "      <th>5th</th>\n",
       "      <td>Past</td>\n",
       "      <td>24May2020</td>\n",
       "      <td>16Jun2020</td>\n",
       "      <td>51606633</td>\n",
       "      <td>SIR-F</td>\n",
       "      <td>1.74</td>\n",
       "      <td>0.00161292</td>\n",
       "      <td>0.000122199</td>\n",
       "      <td>0.0126021</td>\n",
       "      <td>0.00711507</td>\n",
       "      <td>360</td>\n",
       "      <td>35</td>\n",
       "      <td>19</td>\n",
       "      <td>0.002</td>\n",
       "      <td>2045</td>\n",
       "      <td>0.0266636</td>\n",
       "      <td>797</td>\n",
       "      <td>0 min 30 sec</td>\n",
       "    </tr>\n",
       "    <tr>\n",
       "      <th>...</th>\n",
       "      <th>...</th>\n",
       "      <td>...</td>\n",
       "      <td>...</td>\n",
       "      <td>...</td>\n",
       "      <td>...</td>\n",
       "      <td>...</td>\n",
       "      <td>...</td>\n",
       "      <td>...</td>\n",
       "      <td>...</td>\n",
       "      <td>...</td>\n",
       "      <td>...</td>\n",
       "      <td>...</td>\n",
       "      <td>...</td>\n",
       "      <td>...</td>\n",
       "      <td>...</td>\n",
       "      <td>...</td>\n",
       "      <td>...</td>\n",
       "      <td>...</td>\n",
       "      <td>...</td>\n",
       "    </tr>\n",
       "    <tr>\n",
       "      <th rowspan=\"5\" valign=\"top\">Bahrain</th>\n",
       "      <th>6th</th>\n",
       "      <td>Past</td>\n",
       "      <td>07Jul2020</td>\n",
       "      <td>14Jul2020</td>\n",
       "      <td>1569439</td>\n",
       "      <td>-</td>\n",
       "      <td>-</td>\n",
       "      <td>-</td>\n",
       "      <td>-</td>\n",
       "      <td>-</td>\n",
       "      <td>-</td>\n",
       "      <td>-</td>\n",
       "      <td>-</td>\n",
       "      <td>-</td>\n",
       "      <td>-</td>\n",
       "      <td>-</td>\n",
       "      <td>-</td>\n",
       "      <td>-</td>\n",
       "      <td>-</td>\n",
       "    </tr>\n",
       "    <tr>\n",
       "      <th>7th</th>\n",
       "      <td>Past</td>\n",
       "      <td>15Jul2020</td>\n",
       "      <td>24Jul2020</td>\n",
       "      <td>1569439</td>\n",
       "      <td>-</td>\n",
       "      <td>-</td>\n",
       "      <td>-</td>\n",
       "      <td>-</td>\n",
       "      <td>-</td>\n",
       "      <td>-</td>\n",
       "      <td>-</td>\n",
       "      <td>-</td>\n",
       "      <td>-</td>\n",
       "      <td>-</td>\n",
       "      <td>-</td>\n",
       "      <td>-</td>\n",
       "      <td>-</td>\n",
       "      <td>-</td>\n",
       "    </tr>\n",
       "    <tr>\n",
       "      <th>8th</th>\n",
       "      <td>Past</td>\n",
       "      <td>25Jul2020</td>\n",
       "      <td>04Aug2020</td>\n",
       "      <td>1569439</td>\n",
       "      <td>-</td>\n",
       "      <td>-</td>\n",
       "      <td>-</td>\n",
       "      <td>-</td>\n",
       "      <td>-</td>\n",
       "      <td>-</td>\n",
       "      <td>-</td>\n",
       "      <td>-</td>\n",
       "      <td>-</td>\n",
       "      <td>-</td>\n",
       "      <td>-</td>\n",
       "      <td>-</td>\n",
       "      <td>-</td>\n",
       "      <td>-</td>\n",
       "    </tr>\n",
       "    <tr>\n",
       "      <th>9th</th>\n",
       "      <td>Past</td>\n",
       "      <td>05Aug2020</td>\n",
       "      <td>15Aug2020</td>\n",
       "      <td>1569439</td>\n",
       "      <td>-</td>\n",
       "      <td>-</td>\n",
       "      <td>-</td>\n",
       "      <td>-</td>\n",
       "      <td>-</td>\n",
       "      <td>-</td>\n",
       "      <td>-</td>\n",
       "      <td>-</td>\n",
       "      <td>-</td>\n",
       "      <td>-</td>\n",
       "      <td>-</td>\n",
       "      <td>-</td>\n",
       "      <td>-</td>\n",
       "      <td>-</td>\n",
       "    </tr>\n",
       "    <tr>\n",
       "      <th>10th</th>\n",
       "      <td>Past</td>\n",
       "      <td>16Aug2020</td>\n",
       "      <td>27Aug2020</td>\n",
       "      <td>1569439</td>\n",
       "      <td>-</td>\n",
       "      <td>-</td>\n",
       "      <td>-</td>\n",
       "      <td>-</td>\n",
       "      <td>-</td>\n",
       "      <td>-</td>\n",
       "      <td>-</td>\n",
       "      <td>-</td>\n",
       "      <td>-</td>\n",
       "      <td>-</td>\n",
       "      <td>-</td>\n",
       "      <td>-</td>\n",
       "      <td>-</td>\n",
       "      <td>-</td>\n",
       "    </tr>\n",
       "  </tbody>\n",
       "</table>\n",
       "<p>70 rows × 18 columns</p>\n",
       "</div>"
      ],
      "text/plain": [
       "                    Type      Start        End  Population    ODE    Rt  \\\n",
       "Country      Phase                                                        \n",
       "Korea, South 1st    Past  15Mar2020  25Mar2020    51606633  SIR-F   0.3   \n",
       "             2nd    Past  26Mar2020  06Apr2020    51606633  SIR-F  0.44   \n",
       "             3rd    Past  07Apr2020  29Apr2020    51606633  SIR-F  0.12   \n",
       "             4th    Past  30Apr2020  23May2020    51606633  SIR-F  0.33   \n",
       "             5th    Past  24May2020  16Jun2020    51606633  SIR-F  1.74   \n",
       "...                  ...        ...        ...         ...    ...   ...   \n",
       "Bahrain      6th    Past  07Jul2020  14Jul2020     1569439      -     -   \n",
       "             7th    Past  15Jul2020  24Jul2020     1569439      -     -   \n",
       "             8th    Past  25Jul2020  04Aug2020     1569439      -     -   \n",
       "             9th    Past  05Aug2020  15Aug2020     1569439      -     -   \n",
       "             10th   Past  16Aug2020  27Aug2020     1569439      -     -   \n",
       "\n",
       "                          theta        kappa         rho       sigma  tau  \\\n",
       "Country      Phase                                                          \n",
       "Korea, South 1st      0.0355164  4.58288e-05  0.00384544   0.0121758  360   \n",
       "             2nd    0.000126864  0.000292351  0.00571777   0.0127472  360   \n",
       "             3rd       0.190796  3.66355e-06  0.00148135  0.00975935  360   \n",
       "             4th      0.0064892  0.000162239  0.00450393   0.0134568  360   \n",
       "             5th     0.00161292  0.000122199   0.0126021  0.00711507  360   \n",
       "...                         ...          ...         ...         ...  ...   \n",
       "Bahrain      6th              -            -           -           -    -   \n",
       "             7th              -            -           -           -    -   \n",
       "             8th              -            -           -           -    -   \n",
       "             9th              -            -           -           -    -   \n",
       "             10th             -            -           -           -    -   \n",
       "\n",
       "                   1/gamma [day] 1/beta [day] alpha1 [-] 1/alpha2 [day]  \\\n",
       "Country      Phase                                                        \n",
       "Korea, South 1st              20           65      0.036           5455   \n",
       "             2nd              19           43          0            855   \n",
       "             3rd              25          168      0.191          68239   \n",
       "             4th              18           55      0.006           1540   \n",
       "             5th              35           19      0.002           2045   \n",
       "...                          ...          ...        ...            ...   \n",
       "Bahrain      6th               -            -          -              -   \n",
       "             7th               -            -          -              -   \n",
       "             8th               -            -          -              -   \n",
       "             9th               -            -          -              -   \n",
       "             10th              -            -          -              -   \n",
       "\n",
       "                        RMSLE Trials       Runtime  \n",
       "Country      Phase                                  \n",
       "Korea, South 1st     0.163799    926  1 min  0 sec  \n",
       "             2nd    0.0290512    521  0 min 30 sec  \n",
       "             3rd    0.0509398    899  1 min  0 sec  \n",
       "             4th    0.0762359    305  0 min 25 sec  \n",
       "             5th    0.0266636    797  0 min 30 sec  \n",
       "...                       ...    ...           ...  \n",
       "Bahrain      6th            -      -             -  \n",
       "             7th            -      -             -  \n",
       "             8th            -      -             -  \n",
       "             9th            -      -             -  \n",
       "             10th           -      -             -  \n",
       "\n",
       "[70 rows x 18 columns]"
      ]
     },
     "execution_count": 12,
     "metadata": {},
     "output_type": "execute_result"
    }
   ],
   "source": [
    "# Show summary\n",
    "analyser.summary(countries=countries_show)"
   ]
  },
  {
   "cell_type": "markdown",
   "metadata": {},
   "source": [
    "## Compare the history of parameters\n",
    "Here, compare the history of parameter values if countries."
   ]
  },
  {
   "cell_type": "code",
   "execution_count": 13,
   "metadata": {
    "collapsed": false
   },
   "outputs": [
    {
     "data": {
      "text/html": [
       "<div>\n",
       "<style scoped>\n",
       "    .dataframe tbody tr th:only-of-type {\n",
       "        vertical-align: middle;\n",
       "    }\n",
       "\n",
       "    .dataframe tbody tr th {\n",
       "        vertical-align: top;\n",
       "    }\n",
       "\n",
       "    .dataframe thead th {\n",
       "        text-align: right;\n",
       "    }\n",
       "</style>\n",
       "<table border=\"1\" class=\"dataframe\">\n",
       "  <thead>\n",
       "    <tr style=\"text-align: right;\">\n",
       "      <th></th>\n",
       "      <th>Date</th>\n",
       "      <th>Country</th>\n",
       "      <th>theta</th>\n",
       "      <th>kappa</th>\n",
       "      <th>rho</th>\n",
       "      <th>sigma</th>\n",
       "      <th>alpha1 [-]</th>\n",
       "      <th>1/alpha2 [day]</th>\n",
       "      <th>1/beta [day]</th>\n",
       "      <th>1/gamma [day]</th>\n",
       "      <th>...</th>\n",
       "      <th>Cancel_events</th>\n",
       "      <th>Gatherings_restrictions</th>\n",
       "      <th>Transport_closing</th>\n",
       "      <th>Stay_home_restrictions</th>\n",
       "      <th>Internal_movement_restrictions</th>\n",
       "      <th>International_movement_restrictions</th>\n",
       "      <th>Information_campaigns</th>\n",
       "      <th>Testing_policy</th>\n",
       "      <th>Contact_tracing</th>\n",
       "      <th>Stringency_index</th>\n",
       "    </tr>\n",
       "  </thead>\n",
       "  <tbody>\n",
       "    <tr>\n",
       "      <th>0</th>\n",
       "      <td>2020-05-12</td>\n",
       "      <td>Kuwait</td>\n",
       "      <td>0.000749778</td>\n",
       "      <td>0.000157435</td>\n",
       "      <td>0.0198463</td>\n",
       "      <td>0.00542485</td>\n",
       "      <td>0.001</td>\n",
       "      <td>1587</td>\n",
       "      <td>12</td>\n",
       "      <td>46</td>\n",
       "      <td>...</td>\n",
       "      <td>2</td>\n",
       "      <td>4</td>\n",
       "      <td>2</td>\n",
       "      <td>3</td>\n",
       "      <td>2</td>\n",
       "      <td>4</td>\n",
       "      <td>2</td>\n",
       "      <td>2</td>\n",
       "      <td>2</td>\n",
       "      <td>100.0</td>\n",
       "    </tr>\n",
       "    <tr>\n",
       "      <th>1</th>\n",
       "      <td>2020-05-13</td>\n",
       "      <td>Kuwait</td>\n",
       "      <td>0.000749778</td>\n",
       "      <td>0.000157435</td>\n",
       "      <td>0.0198463</td>\n",
       "      <td>0.00542485</td>\n",
       "      <td>0.001</td>\n",
       "      <td>1587</td>\n",
       "      <td>12</td>\n",
       "      <td>46</td>\n",
       "      <td>...</td>\n",
       "      <td>2</td>\n",
       "      <td>4</td>\n",
       "      <td>2</td>\n",
       "      <td>3</td>\n",
       "      <td>2</td>\n",
       "      <td>4</td>\n",
       "      <td>2</td>\n",
       "      <td>2</td>\n",
       "      <td>2</td>\n",
       "      <td>100.0</td>\n",
       "    </tr>\n",
       "    <tr>\n",
       "      <th>2</th>\n",
       "      <td>2020-05-14</td>\n",
       "      <td>Kuwait</td>\n",
       "      <td>0.000749778</td>\n",
       "      <td>0.000157435</td>\n",
       "      <td>0.0198463</td>\n",
       "      <td>0.00542485</td>\n",
       "      <td>0.001</td>\n",
       "      <td>1587</td>\n",
       "      <td>12</td>\n",
       "      <td>46</td>\n",
       "      <td>...</td>\n",
       "      <td>2</td>\n",
       "      <td>4</td>\n",
       "      <td>2</td>\n",
       "      <td>3</td>\n",
       "      <td>2</td>\n",
       "      <td>4</td>\n",
       "      <td>2</td>\n",
       "      <td>2</td>\n",
       "      <td>2</td>\n",
       "      <td>100.0</td>\n",
       "    </tr>\n",
       "    <tr>\n",
       "      <th>3</th>\n",
       "      <td>2020-05-15</td>\n",
       "      <td>Kuwait</td>\n",
       "      <td>0.000749778</td>\n",
       "      <td>0.000157435</td>\n",
       "      <td>0.0198463</td>\n",
       "      <td>0.00542485</td>\n",
       "      <td>0.001</td>\n",
       "      <td>1587</td>\n",
       "      <td>12</td>\n",
       "      <td>46</td>\n",
       "      <td>...</td>\n",
       "      <td>2</td>\n",
       "      <td>4</td>\n",
       "      <td>2</td>\n",
       "      <td>3</td>\n",
       "      <td>2</td>\n",
       "      <td>4</td>\n",
       "      <td>2</td>\n",
       "      <td>2</td>\n",
       "      <td>2</td>\n",
       "      <td>100.0</td>\n",
       "    </tr>\n",
       "    <tr>\n",
       "      <th>4</th>\n",
       "      <td>2020-05-16</td>\n",
       "      <td>Kuwait</td>\n",
       "      <td>0.000749778</td>\n",
       "      <td>0.000157435</td>\n",
       "      <td>0.0198463</td>\n",
       "      <td>0.00542485</td>\n",
       "      <td>0.001</td>\n",
       "      <td>1587</td>\n",
       "      <td>12</td>\n",
       "      <td>46</td>\n",
       "      <td>...</td>\n",
       "      <td>2</td>\n",
       "      <td>4</td>\n",
       "      <td>2</td>\n",
       "      <td>3</td>\n",
       "      <td>2</td>\n",
       "      <td>4</td>\n",
       "      <td>2</td>\n",
       "      <td>2</td>\n",
       "      <td>2</td>\n",
       "      <td>100.0</td>\n",
       "    </tr>\n",
       "  </tbody>\n",
       "</table>\n",
       "<p>5 rows × 23 columns</p>\n",
       "</div>"
      ],
      "text/plain": [
       "        Date Country        theta        kappa        rho       sigma  \\\n",
       "0 2020-05-12  Kuwait  0.000749778  0.000157435  0.0198463  0.00542485   \n",
       "1 2020-05-13  Kuwait  0.000749778  0.000157435  0.0198463  0.00542485   \n",
       "2 2020-05-14  Kuwait  0.000749778  0.000157435  0.0198463  0.00542485   \n",
       "3 2020-05-15  Kuwait  0.000749778  0.000157435  0.0198463  0.00542485   \n",
       "4 2020-05-16  Kuwait  0.000749778  0.000157435  0.0198463  0.00542485   \n",
       "\n",
       "  alpha1 [-] 1/alpha2 [day] 1/beta [day] 1/gamma [day]  ... Cancel_events  \\\n",
       "0      0.001           1587           12            46  ...             2   \n",
       "1      0.001           1587           12            46  ...             2   \n",
       "2      0.001           1587           12            46  ...             2   \n",
       "3      0.001           1587           12            46  ...             2   \n",
       "4      0.001           1587           12            46  ...             2   \n",
       "\n",
       "   Gatherings_restrictions  Transport_closing  Stay_home_restrictions  \\\n",
       "0                        4                  2                       3   \n",
       "1                        4                  2                       3   \n",
       "2                        4                  2                       3   \n",
       "3                        4                  2                       3   \n",
       "4                        4                  2                       3   \n",
       "\n",
       "   Internal_movement_restrictions  International_movement_restrictions  \\\n",
       "0                               2                                    4   \n",
       "1                               2                                    4   \n",
       "2                               2                                    4   \n",
       "3                               2                                    4   \n",
       "4                               2                                    4   \n",
       "\n",
       "   Information_campaigns  Testing_policy  Contact_tracing  Stringency_index  \n",
       "0                      2               2                2             100.0  \n",
       "1                      2               2                2             100.0  \n",
       "2                      2               2                2             100.0  \n",
       "3                      2               2                2             100.0  \n",
       "4                      2               2                2             100.0  \n",
       "\n",
       "[5 rows x 23 columns]"
      ]
     },
     "execution_count": 13,
     "metadata": {},
     "output_type": "execute_result"
    }
   ],
   "source": [
    "# All parameter/day parameter/Rt/OxCGRT\n",
    "analyser.track().head()"
   ]
  },
  {
   "cell_type": "markdown",
   "metadata": {},
   "source": [
    "### $Rt$: Reprodcution number $\\mathrm{[-]}$"
   ]
  },
  {
   "cell_type": "code",
   "execution_count": 14,
   "metadata": {
    "collapsed": false
   },
   "outputs": [
    {
     "data": {
      "image/png": "[encoded data removed]",
      "text/plain": [
       "<Figure size 648x432 with 1 Axes>"
      ]
     },
     "metadata": {},
     "output_type": "display_data"
    },
    {
     "data": {
      "text/html": [
       "<div>\n",
       "<style scoped>\n",
       "    .dataframe tbody tr th:only-of-type {\n",
       "        vertical-align: middle;\n",
       "    }\n",
       "\n",
       "    .dataframe tbody tr th {\n",
       "        vertical-align: top;\n",
       "    }\n",
       "\n",
       "    .dataframe thead th {\n",
       "        text-align: right;\n",
       "    }\n",
       "</style>\n",
       "<table border=\"1\" class=\"dataframe\">\n",
       "  <thead>\n",
       "    <tr style=\"text-align: right;\">\n",
       "      <th>Country</th>\n",
       "      <th>Bahrain</th>\n",
       "      <th>Bangladesh</th>\n",
       "      <th>Czech Republic</th>\n",
       "      <th>France</th>\n",
       "      <th>Georgia</th>\n",
       "      <th>Guinea</th>\n",
       "      <th>Iran</th>\n",
       "      <th>Italy</th>\n",
       "      <th>Korea, South</th>\n",
       "      <th>Kuwait</th>\n",
       "      <th>...</th>\n",
       "      <th>Myanmar</th>\n",
       "      <th>Nigeria</th>\n",
       "      <th>Peru</th>\n",
       "      <th>Poland</th>\n",
       "      <th>Portugal</th>\n",
       "      <th>Russia</th>\n",
       "      <th>Senegal</th>\n",
       "      <th>Turkey</th>\n",
       "      <th>United Arab Emirates</th>\n",
       "      <th>United States</th>\n",
       "    </tr>\n",
       "    <tr>\n",
       "      <th>Date</th>\n",
       "      <th></th>\n",
       "      <th></th>\n",
       "      <th></th>\n",
       "      <th></th>\n",
       "      <th></th>\n",
       "      <th></th>\n",
       "      <th></th>\n",
       "      <th></th>\n",
       "      <th></th>\n",
       "      <th></th>\n",
       "      <th></th>\n",
       "      <th></th>\n",
       "      <th></th>\n",
       "      <th></th>\n",
       "      <th></th>\n",
       "      <th></th>\n",
       "      <th></th>\n",
       "      <th></th>\n",
       "      <th></th>\n",
       "      <th></th>\n",
       "      <th></th>\n",
       "    </tr>\n",
       "  </thead>\n",
       "  <tbody>\n",
       "    <tr>\n",
       "      <th>2020-08-23</th>\n",
       "      <td>1.15</td>\n",
       "      <td>1.59</td>\n",
       "      <td>2.67</td>\n",
       "      <td>13.54</td>\n",
       "      <td>0.93</td>\n",
       "      <td>1.54</td>\n",
       "      <td>1.18</td>\n",
       "      <td>1.45</td>\n",
       "      <td>6.56</td>\n",
       "      <td>1.04</td>\n",
       "      <td>...</td>\n",
       "      <td>11.67</td>\n",
       "      <td>1.08</td>\n",
       "      <td>1.64</td>\n",
       "      <td>1.95</td>\n",
       "      <td>1.01</td>\n",
       "      <td>0.8</td>\n",
       "      <td>1.38</td>\n",
       "      <td>1.39</td>\n",
       "      <td>0.84</td>\n",
       "      <td>2.23</td>\n",
       "    </tr>\n",
       "    <tr>\n",
       "      <th>2020-08-24</th>\n",
       "      <td>1.15</td>\n",
       "      <td>1.59</td>\n",
       "      <td>2.67</td>\n",
       "      <td>13.54</td>\n",
       "      <td>0.93</td>\n",
       "      <td>1.54</td>\n",
       "      <td>1.18</td>\n",
       "      <td>1.45</td>\n",
       "      <td>6.56</td>\n",
       "      <td>1.04</td>\n",
       "      <td>...</td>\n",
       "      <td>11.67</td>\n",
       "      <td>1.08</td>\n",
       "      <td>1.64</td>\n",
       "      <td>1.95</td>\n",
       "      <td>1.01</td>\n",
       "      <td>0.8</td>\n",
       "      <td>1.38</td>\n",
       "      <td>1.39</td>\n",
       "      <td>0.84</td>\n",
       "      <td>2.23</td>\n",
       "    </tr>\n",
       "    <tr>\n",
       "      <th>2020-08-25</th>\n",
       "      <td>1.15</td>\n",
       "      <td>1.59</td>\n",
       "      <td>2.67</td>\n",
       "      <td>13.54</td>\n",
       "      <td>0.93</td>\n",
       "      <td>1.54</td>\n",
       "      <td>1.18</td>\n",
       "      <td>1.45</td>\n",
       "      <td>6.56</td>\n",
       "      <td>1.04</td>\n",
       "      <td>...</td>\n",
       "      <td>11.67</td>\n",
       "      <td>1.08</td>\n",
       "      <td>1.64</td>\n",
       "      <td>1.95</td>\n",
       "      <td>1.01</td>\n",
       "      <td>0.8</td>\n",
       "      <td>1.38</td>\n",
       "      <td>1.39</td>\n",
       "      <td>0.84</td>\n",
       "      <td>2.23</td>\n",
       "    </tr>\n",
       "    <tr>\n",
       "      <th>2020-08-26</th>\n",
       "      <td>1.15</td>\n",
       "      <td>1.59</td>\n",
       "      <td>2.67</td>\n",
       "      <td>13.54</td>\n",
       "      <td>0.93</td>\n",
       "      <td>1.54</td>\n",
       "      <td>1.18</td>\n",
       "      <td>1.45</td>\n",
       "      <td>6.56</td>\n",
       "      <td>1.04</td>\n",
       "      <td>...</td>\n",
       "      <td>11.67</td>\n",
       "      <td>1.08</td>\n",
       "      <td>1.64</td>\n",
       "      <td>1.95</td>\n",
       "      <td>1.01</td>\n",
       "      <td>0.8</td>\n",
       "      <td>1.38</td>\n",
       "      <td>1.39</td>\n",
       "      <td>0.84</td>\n",
       "      <td>2.23</td>\n",
       "    </tr>\n",
       "    <tr>\n",
       "      <th>2020-08-27</th>\n",
       "      <td>1.15</td>\n",
       "      <td>1.59</td>\n",
       "      <td>2.67</td>\n",
       "      <td>13.54</td>\n",
       "      <td>0.93</td>\n",
       "      <td>1.54</td>\n",
       "      <td>1.18</td>\n",
       "      <td>1.45</td>\n",
       "      <td>6.56</td>\n",
       "      <td>1.04</td>\n",
       "      <td>...</td>\n",
       "      <td>11.67</td>\n",
       "      <td>1.08</td>\n",
       "      <td>1.64</td>\n",
       "      <td>1.95</td>\n",
       "      <td>1.01</td>\n",
       "      <td>0.8</td>\n",
       "      <td>1.38</td>\n",
       "      <td>1.39</td>\n",
       "      <td>0.84</td>\n",
       "      <td>2.23</td>\n",
       "    </tr>\n",
       "  </tbody>\n",
       "</table>\n",
       "<p>5 rows × 23 columns</p>\n",
       "</div>"
      ],
      "text/plain": [
       "Country     Bahrain  Bangladesh  Czech Republic  France  Georgia  Guinea  \\\n",
       "Date                                                                       \n",
       "2020-08-23     1.15        1.59            2.67   13.54     0.93    1.54   \n",
       "2020-08-24     1.15        1.59            2.67   13.54     0.93    1.54   \n",
       "2020-08-25     1.15        1.59            2.67   13.54     0.93    1.54   \n",
       "2020-08-26     1.15        1.59            2.67   13.54     0.93    1.54   \n",
       "2020-08-27     1.15        1.59            2.67   13.54     0.93    1.54   \n",
       "\n",
       "Country     Iran  Italy  Korea, South  Kuwait  ...  Myanmar  Nigeria  Peru  \\\n",
       "Date                                           ...                           \n",
       "2020-08-23  1.18   1.45          6.56    1.04  ...    11.67     1.08  1.64   \n",
       "2020-08-24  1.18   1.45          6.56    1.04  ...    11.67     1.08  1.64   \n",
       "2020-08-25  1.18   1.45          6.56    1.04  ...    11.67     1.08  1.64   \n",
       "2020-08-26  1.18   1.45          6.56    1.04  ...    11.67     1.08  1.64   \n",
       "2020-08-27  1.18   1.45          6.56    1.04  ...    11.67     1.08  1.64   \n",
       "\n",
       "Country     Poland  Portugal  Russia  Senegal  Turkey  United Arab Emirates  \\\n",
       "Date                                                                          \n",
       "2020-08-23    1.95      1.01     0.8     1.38    1.39                  0.84   \n",
       "2020-08-24    1.95      1.01     0.8     1.38    1.39                  0.84   \n",
       "2020-08-25    1.95      1.01     0.8     1.38    1.39                  0.84   \n",
       "2020-08-26    1.95      1.01     0.8     1.38    1.39                  0.84   \n",
       "2020-08-27    1.95      1.01     0.8     1.38    1.39                  0.84   \n",
       "\n",
       "Country     United States  \n",
       "Date                       \n",
       "2020-08-23           2.23  \n",
       "2020-08-24           2.23  \n",
       "2020-08-25           2.23  \n",
       "2020-08-26           2.23  \n",
       "2020-08-27           2.23  \n",
       "\n",
       "[5 rows x 23 columns]"
      ]
     },
     "execution_count": 14,
     "metadata": {},
     "output_type": "execute_result"
    }
   ],
   "source": [
    "analyser.param_history(\"Rt\", roll_window=None).tail()"
   ]
  },
  {
   "cell_type": "markdown",
   "metadata": {},
   "source": [
    "### $\\rho$: Effective contact rate $\\mathrm{[-]}$"
   ]
  },
  {
   "cell_type": "code",
   "execution_count": 15,
   "metadata": {
    "collapsed": false
   },
   "outputs": [
    {
     "data": {
      "image/png": "[encoded data removed]",
      "text/plain": [
       "<Figure size 648x432 with 1 Axes>"
      ]
     },
     "metadata": {},
     "output_type": "display_data"
    },
    {
     "data": {
      "text/html": [
       "<div>\n",
       "<style scoped>\n",
       "    .dataframe tbody tr th:only-of-type {\n",
       "        vertical-align: middle;\n",
       "    }\n",
       "\n",
       "    .dataframe tbody tr th {\n",
       "        vertical-align: top;\n",
       "    }\n",
       "\n",
       "    .dataframe thead th {\n",
       "        text-align: right;\n",
       "    }\n",
       "</style>\n",
       "<table border=\"1\" class=\"dataframe\">\n",
       "  <thead>\n",
       "    <tr style=\"text-align: right;\">\n",
       "      <th>Country</th>\n",
       "      <th>Bahrain</th>\n",
       "      <th>Bangladesh</th>\n",
       "      <th>Czech Republic</th>\n",
       "      <th>France</th>\n",
       "      <th>Georgia</th>\n",
       "      <th>Guinea</th>\n",
       "      <th>Iran</th>\n",
       "      <th>Italy</th>\n",
       "      <th>Korea, South</th>\n",
       "      <th>Kuwait</th>\n",
       "      <th>...</th>\n",
       "      <th>Myanmar</th>\n",
       "      <th>Nigeria</th>\n",
       "      <th>Peru</th>\n",
       "      <th>Poland</th>\n",
       "      <th>Portugal</th>\n",
       "      <th>Russia</th>\n",
       "      <th>Senegal</th>\n",
       "      <th>Turkey</th>\n",
       "      <th>United Arab Emirates</th>\n",
       "      <th>United States</th>\n",
       "    </tr>\n",
       "    <tr>\n",
       "      <th>Date</th>\n",
       "      <th></th>\n",
       "      <th></th>\n",
       "      <th></th>\n",
       "      <th></th>\n",
       "      <th></th>\n",
       "      <th></th>\n",
       "      <th></th>\n",
       "      <th></th>\n",
       "      <th></th>\n",
       "      <th></th>\n",
       "      <th></th>\n",
       "      <th></th>\n",
       "      <th></th>\n",
       "      <th></th>\n",
       "      <th></th>\n",
       "      <th></th>\n",
       "      <th></th>\n",
       "      <th></th>\n",
       "      <th></th>\n",
       "      <th></th>\n",
       "      <th></th>\n",
       "    </tr>\n",
       "  </thead>\n",
       "  <tbody>\n",
       "    <tr>\n",
       "      <th>2020-08-23</th>\n",
       "      <td>0.023801</td>\n",
       "      <td>0.006655</td>\n",
       "      <td>0.011752</td>\n",
       "      <td>0.005948</td>\n",
       "      <td>0.009929</td>\n",
       "      <td>0.018883</td>\n",
       "      <td>0.020405</td>\n",
       "      <td>0.006048</td>\n",
       "      <td>0.029969</td>\n",
       "      <td>0.020847</td>\n",
       "      <td>...</td>\n",
       "      <td>0.037083</td>\n",
       "      <td>0.006473</td>\n",
       "      <td>0.004794</td>\n",
       "      <td>0.01254</td>\n",
       "      <td>0.00338</td>\n",
       "      <td>0.001291</td>\n",
       "      <td>0.006175</td>\n",
       "      <td>0.023778</td>\n",
       "      <td>0.010816</td>\n",
       "      <td>0.003771</td>\n",
       "    </tr>\n",
       "    <tr>\n",
       "      <th>2020-08-24</th>\n",
       "      <td>0.023801</td>\n",
       "      <td>0.006655</td>\n",
       "      <td>0.011752</td>\n",
       "      <td>0.005948</td>\n",
       "      <td>0.009929</td>\n",
       "      <td>0.018883</td>\n",
       "      <td>0.020405</td>\n",
       "      <td>0.006048</td>\n",
       "      <td>0.029969</td>\n",
       "      <td>0.020847</td>\n",
       "      <td>...</td>\n",
       "      <td>0.037083</td>\n",
       "      <td>0.006473</td>\n",
       "      <td>0.004794</td>\n",
       "      <td>0.01254</td>\n",
       "      <td>0.00338</td>\n",
       "      <td>0.001291</td>\n",
       "      <td>0.006175</td>\n",
       "      <td>0.023778</td>\n",
       "      <td>0.010816</td>\n",
       "      <td>0.003771</td>\n",
       "    </tr>\n",
       "    <tr>\n",
       "      <th>2020-08-25</th>\n",
       "      <td>0.023801</td>\n",
       "      <td>0.006655</td>\n",
       "      <td>0.011752</td>\n",
       "      <td>0.005948</td>\n",
       "      <td>0.009929</td>\n",
       "      <td>0.018883</td>\n",
       "      <td>0.020405</td>\n",
       "      <td>0.006048</td>\n",
       "      <td>0.029969</td>\n",
       "      <td>0.020847</td>\n",
       "      <td>...</td>\n",
       "      <td>0.037083</td>\n",
       "      <td>0.006473</td>\n",
       "      <td>0.004794</td>\n",
       "      <td>0.01254</td>\n",
       "      <td>0.00338</td>\n",
       "      <td>0.001291</td>\n",
       "      <td>0.006175</td>\n",
       "      <td>0.023778</td>\n",
       "      <td>0.010816</td>\n",
       "      <td>0.003771</td>\n",
       "    </tr>\n",
       "    <tr>\n",
       "      <th>2020-08-26</th>\n",
       "      <td>0.023801</td>\n",
       "      <td>0.006655</td>\n",
       "      <td>0.011752</td>\n",
       "      <td>0.005948</td>\n",
       "      <td>0.009929</td>\n",
       "      <td>0.018883</td>\n",
       "      <td>0.020405</td>\n",
       "      <td>0.006048</td>\n",
       "      <td>0.029969</td>\n",
       "      <td>0.020847</td>\n",
       "      <td>...</td>\n",
       "      <td>0.037083</td>\n",
       "      <td>0.006473</td>\n",
       "      <td>0.004794</td>\n",
       "      <td>0.01254</td>\n",
       "      <td>0.00338</td>\n",
       "      <td>0.001291</td>\n",
       "      <td>0.006175</td>\n",
       "      <td>0.023778</td>\n",
       "      <td>0.010816</td>\n",
       "      <td>0.003771</td>\n",
       "    </tr>\n",
       "    <tr>\n",
       "      <th>2020-08-27</th>\n",
       "      <td>0.023801</td>\n",
       "      <td>0.006655</td>\n",
       "      <td>0.011752</td>\n",
       "      <td>0.005948</td>\n",
       "      <td>0.009929</td>\n",
       "      <td>0.018883</td>\n",
       "      <td>0.020405</td>\n",
       "      <td>0.006048</td>\n",
       "      <td>0.029969</td>\n",
       "      <td>0.020847</td>\n",
       "      <td>...</td>\n",
       "      <td>0.037083</td>\n",
       "      <td>0.006473</td>\n",
       "      <td>0.004794</td>\n",
       "      <td>0.01254</td>\n",
       "      <td>0.00338</td>\n",
       "      <td>0.001291</td>\n",
       "      <td>0.006175</td>\n",
       "      <td>0.023778</td>\n",
       "      <td>0.010816</td>\n",
       "      <td>0.003771</td>\n",
       "    </tr>\n",
       "  </tbody>\n",
       "</table>\n",
       "<p>5 rows × 23 columns</p>\n",
       "</div>"
      ],
      "text/plain": [
       "Country      Bahrain  Bangladesh  Czech Republic    France   Georgia  \\\n",
       "Date                                                                   \n",
       "2020-08-23  0.023801    0.006655        0.011752  0.005948  0.009929   \n",
       "2020-08-24  0.023801    0.006655        0.011752  0.005948  0.009929   \n",
       "2020-08-25  0.023801    0.006655        0.011752  0.005948  0.009929   \n",
       "2020-08-26  0.023801    0.006655        0.011752  0.005948  0.009929   \n",
       "2020-08-27  0.023801    0.006655        0.011752  0.005948  0.009929   \n",
       "\n",
       "Country       Guinea      Iran     Italy  Korea, South    Kuwait  ...  \\\n",
       "Date                                                              ...   \n",
       "2020-08-23  0.018883  0.020405  0.006048      0.029969  0.020847  ...   \n",
       "2020-08-24  0.018883  0.020405  0.006048      0.029969  0.020847  ...   \n",
       "2020-08-25  0.018883  0.020405  0.006048      0.029969  0.020847  ...   \n",
       "2020-08-26  0.018883  0.020405  0.006048      0.029969  0.020847  ...   \n",
       "2020-08-27  0.018883  0.020405  0.006048      0.029969  0.020847  ...   \n",
       "\n",
       "Country      Myanmar   Nigeria      Peru   Poland  Portugal    Russia  \\\n",
       "Date                                                                    \n",
       "2020-08-23  0.037083  0.006473  0.004794  0.01254   0.00338  0.001291   \n",
       "2020-08-24  0.037083  0.006473  0.004794  0.01254   0.00338  0.001291   \n",
       "2020-08-25  0.037083  0.006473  0.004794  0.01254   0.00338  0.001291   \n",
       "2020-08-26  0.037083  0.006473  0.004794  0.01254   0.00338  0.001291   \n",
       "2020-08-27  0.037083  0.006473  0.004794  0.01254   0.00338  0.001291   \n",
       "\n",
       "Country      Senegal    Turkey  United Arab Emirates  United States  \n",
       "Date                                                                 \n",
       "2020-08-23  0.006175  0.023778              0.010816       0.003771  \n",
       "2020-08-24  0.006175  0.023778              0.010816       0.003771  \n",
       "2020-08-25  0.006175  0.023778              0.010816       0.003771  \n",
       "2020-08-26  0.006175  0.023778              0.010816       0.003771  \n",
       "2020-08-27  0.006175  0.023778              0.010816       0.003771  \n",
       "\n",
       "[5 rows x 23 columns]"
      ]
     },
     "execution_count": 15,
     "metadata": {},
     "output_type": "execute_result"
    }
   ],
   "source": [
    "analyser.param_history(\"rho\", roll_window=None).tail()"
   ]
  },
  {
   "cell_type": "markdown",
   "metadata": {},
   "source": [
    "### $\\sigma$: Recovery rate $\\mathrm{[-]}$"
   ]
  },
  {
   "cell_type": "code",
   "execution_count": 16,
   "metadata": {
    "collapsed": false
   },
   "outputs": [
    {
     "data": {
      "image/png": "[encoded data removed]",
      "text/plain": [
       "<Figure size 648x432 with 1 Axes>"
      ]
     },
     "metadata": {},
     "output_type": "display_data"
    },
    {
     "data": {
      "text/html": [
       "<div>\n",
       "<style scoped>\n",
       "    .dataframe tbody tr th:only-of-type {\n",
       "        vertical-align: middle;\n",
       "    }\n",
       "\n",
       "    .dataframe tbody tr th {\n",
       "        vertical-align: top;\n",
       "    }\n",
       "\n",
       "    .dataframe thead th {\n",
       "        text-align: right;\n",
       "    }\n",
       "</style>\n",
       "<table border=\"1\" class=\"dataframe\">\n",
       "  <thead>\n",
       "    <tr style=\"text-align: right;\">\n",
       "      <th>Country</th>\n",
       "      <th>Bahrain</th>\n",
       "      <th>Bangladesh</th>\n",
       "      <th>Czech Republic</th>\n",
       "      <th>France</th>\n",
       "      <th>Georgia</th>\n",
       "      <th>Guinea</th>\n",
       "      <th>Iran</th>\n",
       "      <th>Italy</th>\n",
       "      <th>Korea, South</th>\n",
       "      <th>Kuwait</th>\n",
       "      <th>...</th>\n",
       "      <th>Myanmar</th>\n",
       "      <th>Nigeria</th>\n",
       "      <th>Peru</th>\n",
       "      <th>Poland</th>\n",
       "      <th>Portugal</th>\n",
       "      <th>Russia</th>\n",
       "      <th>Senegal</th>\n",
       "      <th>Turkey</th>\n",
       "      <th>United Arab Emirates</th>\n",
       "      <th>United States</th>\n",
       "    </tr>\n",
       "    <tr>\n",
       "      <th>Date</th>\n",
       "      <th></th>\n",
       "      <th></th>\n",
       "      <th></th>\n",
       "      <th></th>\n",
       "      <th></th>\n",
       "      <th></th>\n",
       "      <th></th>\n",
       "      <th></th>\n",
       "      <th></th>\n",
       "      <th></th>\n",
       "      <th></th>\n",
       "      <th></th>\n",
       "      <th></th>\n",
       "      <th></th>\n",
       "      <th></th>\n",
       "      <th></th>\n",
       "      <th></th>\n",
       "      <th></th>\n",
       "      <th></th>\n",
       "      <th></th>\n",
       "      <th></th>\n",
       "    </tr>\n",
       "  </thead>\n",
       "  <tbody>\n",
       "    <tr>\n",
       "      <th>2020-08-23</th>\n",
       "      <td>0.020497</td>\n",
       "      <td>0.004097</td>\n",
       "      <td>0.004327</td>\n",
       "      <td>0.000414</td>\n",
       "      <td>0.010611</td>\n",
       "      <td>0.012257</td>\n",
       "      <td>0.016069</td>\n",
       "      <td>0.00402</td>\n",
       "      <td>0.004508</td>\n",
       "      <td>0.019877</td>\n",
       "      <td>...</td>\n",
       "      <td>0.003139</td>\n",
       "      <td>0.005908</td>\n",
       "      <td>0.00269</td>\n",
       "      <td>0.006288</td>\n",
       "      <td>0.003272</td>\n",
       "      <td>0.001567</td>\n",
       "      <td>0.004332</td>\n",
       "      <td>0.016817</td>\n",
       "      <td>0.012857</td>\n",
       "      <td>0.001623</td>\n",
       "    </tr>\n",
       "    <tr>\n",
       "      <th>2020-08-24</th>\n",
       "      <td>0.020497</td>\n",
       "      <td>0.004097</td>\n",
       "      <td>0.004327</td>\n",
       "      <td>0.000414</td>\n",
       "      <td>0.010611</td>\n",
       "      <td>0.012257</td>\n",
       "      <td>0.016069</td>\n",
       "      <td>0.00402</td>\n",
       "      <td>0.004508</td>\n",
       "      <td>0.019877</td>\n",
       "      <td>...</td>\n",
       "      <td>0.003139</td>\n",
       "      <td>0.005908</td>\n",
       "      <td>0.00269</td>\n",
       "      <td>0.006288</td>\n",
       "      <td>0.003272</td>\n",
       "      <td>0.001567</td>\n",
       "      <td>0.004332</td>\n",
       "      <td>0.016817</td>\n",
       "      <td>0.012857</td>\n",
       "      <td>0.001623</td>\n",
       "    </tr>\n",
       "    <tr>\n",
       "      <th>2020-08-25</th>\n",
       "      <td>0.020497</td>\n",
       "      <td>0.004097</td>\n",
       "      <td>0.004327</td>\n",
       "      <td>0.000414</td>\n",
       "      <td>0.010611</td>\n",
       "      <td>0.012257</td>\n",
       "      <td>0.016069</td>\n",
       "      <td>0.00402</td>\n",
       "      <td>0.004508</td>\n",
       "      <td>0.019877</td>\n",
       "      <td>...</td>\n",
       "      <td>0.003139</td>\n",
       "      <td>0.005908</td>\n",
       "      <td>0.00269</td>\n",
       "      <td>0.006288</td>\n",
       "      <td>0.003272</td>\n",
       "      <td>0.001567</td>\n",
       "      <td>0.004332</td>\n",
       "      <td>0.016817</td>\n",
       "      <td>0.012857</td>\n",
       "      <td>0.001623</td>\n",
       "    </tr>\n",
       "    <tr>\n",
       "      <th>2020-08-26</th>\n",
       "      <td>0.020497</td>\n",
       "      <td>0.004097</td>\n",
       "      <td>0.004327</td>\n",
       "      <td>0.000414</td>\n",
       "      <td>0.010611</td>\n",
       "      <td>0.012257</td>\n",
       "      <td>0.016069</td>\n",
       "      <td>0.00402</td>\n",
       "      <td>0.004508</td>\n",
       "      <td>0.019877</td>\n",
       "      <td>...</td>\n",
       "      <td>0.003139</td>\n",
       "      <td>0.005908</td>\n",
       "      <td>0.00269</td>\n",
       "      <td>0.006288</td>\n",
       "      <td>0.003272</td>\n",
       "      <td>0.001567</td>\n",
       "      <td>0.004332</td>\n",
       "      <td>0.016817</td>\n",
       "      <td>0.012857</td>\n",
       "      <td>0.001623</td>\n",
       "    </tr>\n",
       "    <tr>\n",
       "      <th>2020-08-27</th>\n",
       "      <td>0.020497</td>\n",
       "      <td>0.004097</td>\n",
       "      <td>0.004327</td>\n",
       "      <td>0.000414</td>\n",
       "      <td>0.010611</td>\n",
       "      <td>0.012257</td>\n",
       "      <td>0.016069</td>\n",
       "      <td>0.00402</td>\n",
       "      <td>0.004508</td>\n",
       "      <td>0.019877</td>\n",
       "      <td>...</td>\n",
       "      <td>0.003139</td>\n",
       "      <td>0.005908</td>\n",
       "      <td>0.00269</td>\n",
       "      <td>0.006288</td>\n",
       "      <td>0.003272</td>\n",
       "      <td>0.001567</td>\n",
       "      <td>0.004332</td>\n",
       "      <td>0.016817</td>\n",
       "      <td>0.012857</td>\n",
       "      <td>0.001623</td>\n",
       "    </tr>\n",
       "  </tbody>\n",
       "</table>\n",
       "<p>5 rows × 23 columns</p>\n",
       "</div>"
      ],
      "text/plain": [
       "Country      Bahrain  Bangladesh  Czech Republic    France   Georgia  \\\n",
       "Date                                                                   \n",
       "2020-08-23  0.020497    0.004097        0.004327  0.000414  0.010611   \n",
       "2020-08-24  0.020497    0.004097        0.004327  0.000414  0.010611   \n",
       "2020-08-25  0.020497    0.004097        0.004327  0.000414  0.010611   \n",
       "2020-08-26  0.020497    0.004097        0.004327  0.000414  0.010611   \n",
       "2020-08-27  0.020497    0.004097        0.004327  0.000414  0.010611   \n",
       "\n",
       "Country       Guinea      Iran    Italy  Korea, South    Kuwait  ...  \\\n",
       "Date                                                             ...   \n",
       "2020-08-23  0.012257  0.016069  0.00402      0.004508  0.019877  ...   \n",
       "2020-08-24  0.012257  0.016069  0.00402      0.004508  0.019877  ...   \n",
       "2020-08-25  0.012257  0.016069  0.00402      0.004508  0.019877  ...   \n",
       "2020-08-26  0.012257  0.016069  0.00402      0.004508  0.019877  ...   \n",
       "2020-08-27  0.012257  0.016069  0.00402      0.004508  0.019877  ...   \n",
       "\n",
       "Country      Myanmar   Nigeria     Peru    Poland  Portugal    Russia  \\\n",
       "Date                                                                    \n",
       "2020-08-23  0.003139  0.005908  0.00269  0.006288  0.003272  0.001567   \n",
       "2020-08-24  0.003139  0.005908  0.00269  0.006288  0.003272  0.001567   \n",
       "2020-08-25  0.003139  0.005908  0.00269  0.006288  0.003272  0.001567   \n",
       "2020-08-26  0.003139  0.005908  0.00269  0.006288  0.003272  0.001567   \n",
       "2020-08-27  0.003139  0.005908  0.00269  0.006288  0.003272  0.001567   \n",
       "\n",
       "Country      Senegal    Turkey  United Arab Emirates  United States  \n",
       "Date                                                                 \n",
       "2020-08-23  0.004332  0.016817              0.012857       0.001623  \n",
       "2020-08-24  0.004332  0.016817              0.012857       0.001623  \n",
       "2020-08-25  0.004332  0.016817              0.012857       0.001623  \n",
       "2020-08-26  0.004332  0.016817              0.012857       0.001623  \n",
       "2020-08-27  0.004332  0.016817              0.012857       0.001623  \n",
       "\n",
       "[5 rows x 23 columns]"
      ]
     },
     "execution_count": 16,
     "metadata": {},
     "output_type": "execute_result"
    }
   ],
   "source": [
    "analyser.param_history(\"sigma\", roll_window=None).tail()"
   ]
  },
  {
   "cell_type": "markdown",
   "metadata": {},
   "source": [
    "### $\\kappa$: Mortality rate of infected cases $\\mathrm{[-]}$"
   ]
  },
  {
   "cell_type": "code",
   "execution_count": 17,
   "metadata": {
    "collapsed": false
   },
   "outputs": [
    {
     "data": {
      "image/png": "[encoded data removed]",
      "text/plain": [
       "<Figure size 648x432 with 1 Axes>"
      ]
     },
     "metadata": {},
     "output_type": "display_data"
    },
    {
     "data": {
      "text/html": [
       "<div>\n",
       "<style scoped>\n",
       "    .dataframe tbody tr th:only-of-type {\n",
       "        vertical-align: middle;\n",
       "    }\n",
       "\n",
       "    .dataframe tbody tr th {\n",
       "        vertical-align: top;\n",
       "    }\n",
       "\n",
       "    .dataframe thead th {\n",
       "        text-align: right;\n",
       "    }\n",
       "</style>\n",
       "<table border=\"1\" class=\"dataframe\">\n",
       "  <thead>\n",
       "    <tr style=\"text-align: right;\">\n",
       "      <th>Country</th>\n",
       "      <th>Bahrain</th>\n",
       "      <th>Bangladesh</th>\n",
       "      <th>Czech Republic</th>\n",
       "      <th>France</th>\n",
       "      <th>Georgia</th>\n",
       "      <th>Guinea</th>\n",
       "      <th>Iran</th>\n",
       "      <th>Italy</th>\n",
       "      <th>Korea, South</th>\n",
       "      <th>Kuwait</th>\n",
       "      <th>...</th>\n",
       "      <th>Myanmar</th>\n",
       "      <th>Nigeria</th>\n",
       "      <th>Peru</th>\n",
       "      <th>Poland</th>\n",
       "      <th>Portugal</th>\n",
       "      <th>Russia</th>\n",
       "      <th>Senegal</th>\n",
       "      <th>Turkey</th>\n",
       "      <th>United Arab Emirates</th>\n",
       "      <th>United States</th>\n",
       "    </tr>\n",
       "    <tr>\n",
       "      <th>Date</th>\n",
       "      <th></th>\n",
       "      <th></th>\n",
       "      <th></th>\n",
       "      <th></th>\n",
       "      <th></th>\n",
       "      <th></th>\n",
       "      <th></th>\n",
       "      <th></th>\n",
       "      <th></th>\n",
       "      <th></th>\n",
       "      <th></th>\n",
       "      <th></th>\n",
       "      <th></th>\n",
       "      <th></th>\n",
       "      <th></th>\n",
       "      <th></th>\n",
       "      <th></th>\n",
       "      <th></th>\n",
       "      <th></th>\n",
       "      <th></th>\n",
       "      <th></th>\n",
       "    </tr>\n",
       "  </thead>\n",
       "  <tbody>\n",
       "    <tr>\n",
       "      <th>2020-08-23</th>\n",
       "      <td>0.000117</td>\n",
       "      <td>0.000071</td>\n",
       "      <td>0.000079</td>\n",
       "      <td>0.000024</td>\n",
       "      <td>0.00006</td>\n",
       "      <td>0.000002</td>\n",
       "      <td>0.000231</td>\n",
       "      <td>0.000004</td>\n",
       "      <td>0.000057</td>\n",
       "      <td>0.000076</td>\n",
       "      <td>...</td>\n",
       "      <td>0.000037</td>\n",
       "      <td>0.000079</td>\n",
       "      <td>0.00018</td>\n",
       "      <td>0.00015</td>\n",
       "      <td>0.000019</td>\n",
       "      <td>0.000004</td>\n",
       "      <td>0.000144</td>\n",
       "      <td>0.000301</td>\n",
       "      <td>0.000037</td>\n",
       "      <td>0.00004</td>\n",
       "    </tr>\n",
       "    <tr>\n",
       "      <th>2020-08-24</th>\n",
       "      <td>0.000117</td>\n",
       "      <td>0.000071</td>\n",
       "      <td>0.000079</td>\n",
       "      <td>0.000024</td>\n",
       "      <td>0.00006</td>\n",
       "      <td>0.000002</td>\n",
       "      <td>0.000231</td>\n",
       "      <td>0.000004</td>\n",
       "      <td>0.000057</td>\n",
       "      <td>0.000076</td>\n",
       "      <td>...</td>\n",
       "      <td>0.000037</td>\n",
       "      <td>0.000079</td>\n",
       "      <td>0.00018</td>\n",
       "      <td>0.00015</td>\n",
       "      <td>0.000019</td>\n",
       "      <td>0.000004</td>\n",
       "      <td>0.000144</td>\n",
       "      <td>0.000301</td>\n",
       "      <td>0.000037</td>\n",
       "      <td>0.00004</td>\n",
       "    </tr>\n",
       "    <tr>\n",
       "      <th>2020-08-25</th>\n",
       "      <td>0.000117</td>\n",
       "      <td>0.000071</td>\n",
       "      <td>0.000079</td>\n",
       "      <td>0.000024</td>\n",
       "      <td>0.00006</td>\n",
       "      <td>0.000002</td>\n",
       "      <td>0.000231</td>\n",
       "      <td>0.000004</td>\n",
       "      <td>0.000057</td>\n",
       "      <td>0.000076</td>\n",
       "      <td>...</td>\n",
       "      <td>0.000037</td>\n",
       "      <td>0.000079</td>\n",
       "      <td>0.00018</td>\n",
       "      <td>0.00015</td>\n",
       "      <td>0.000019</td>\n",
       "      <td>0.000004</td>\n",
       "      <td>0.000144</td>\n",
       "      <td>0.000301</td>\n",
       "      <td>0.000037</td>\n",
       "      <td>0.00004</td>\n",
       "    </tr>\n",
       "    <tr>\n",
       "      <th>2020-08-26</th>\n",
       "      <td>0.000117</td>\n",
       "      <td>0.000071</td>\n",
       "      <td>0.000079</td>\n",
       "      <td>0.000024</td>\n",
       "      <td>0.00006</td>\n",
       "      <td>0.000002</td>\n",
       "      <td>0.000231</td>\n",
       "      <td>0.000004</td>\n",
       "      <td>0.000057</td>\n",
       "      <td>0.000076</td>\n",
       "      <td>...</td>\n",
       "      <td>0.000037</td>\n",
       "      <td>0.000079</td>\n",
       "      <td>0.00018</td>\n",
       "      <td>0.00015</td>\n",
       "      <td>0.000019</td>\n",
       "      <td>0.000004</td>\n",
       "      <td>0.000144</td>\n",
       "      <td>0.000301</td>\n",
       "      <td>0.000037</td>\n",
       "      <td>0.00004</td>\n",
       "    </tr>\n",
       "    <tr>\n",
       "      <th>2020-08-27</th>\n",
       "      <td>0.000117</td>\n",
       "      <td>0.000071</td>\n",
       "      <td>0.000079</td>\n",
       "      <td>0.000024</td>\n",
       "      <td>0.00006</td>\n",
       "      <td>0.000002</td>\n",
       "      <td>0.000231</td>\n",
       "      <td>0.000004</td>\n",
       "      <td>0.000057</td>\n",
       "      <td>0.000076</td>\n",
       "      <td>...</td>\n",
       "      <td>0.000037</td>\n",
       "      <td>0.000079</td>\n",
       "      <td>0.00018</td>\n",
       "      <td>0.00015</td>\n",
       "      <td>0.000019</td>\n",
       "      <td>0.000004</td>\n",
       "      <td>0.000144</td>\n",
       "      <td>0.000301</td>\n",
       "      <td>0.000037</td>\n",
       "      <td>0.00004</td>\n",
       "    </tr>\n",
       "  </tbody>\n",
       "</table>\n",
       "<p>5 rows × 23 columns</p>\n",
       "</div>"
      ],
      "text/plain": [
       "Country      Bahrain  Bangladesh  Czech Republic    France  Georgia    Guinea  \\\n",
       "Date                                                                            \n",
       "2020-08-23  0.000117    0.000071        0.000079  0.000024  0.00006  0.000002   \n",
       "2020-08-24  0.000117    0.000071        0.000079  0.000024  0.00006  0.000002   \n",
       "2020-08-25  0.000117    0.000071        0.000079  0.000024  0.00006  0.000002   \n",
       "2020-08-26  0.000117    0.000071        0.000079  0.000024  0.00006  0.000002   \n",
       "2020-08-27  0.000117    0.000071        0.000079  0.000024  0.00006  0.000002   \n",
       "\n",
       "Country         Iran     Italy  Korea, South    Kuwait  ...   Myanmar  \\\n",
       "Date                                                    ...             \n",
       "2020-08-23  0.000231  0.000004      0.000057  0.000076  ...  0.000037   \n",
       "2020-08-24  0.000231  0.000004      0.000057  0.000076  ...  0.000037   \n",
       "2020-08-25  0.000231  0.000004      0.000057  0.000076  ...  0.000037   \n",
       "2020-08-26  0.000231  0.000004      0.000057  0.000076  ...  0.000037   \n",
       "2020-08-27  0.000231  0.000004      0.000057  0.000076  ...  0.000037   \n",
       "\n",
       "Country      Nigeria     Peru   Poland  Portugal    Russia   Senegal  \\\n",
       "Date                                                                   \n",
       "2020-08-23  0.000079  0.00018  0.00015  0.000019  0.000004  0.000144   \n",
       "2020-08-24  0.000079  0.00018  0.00015  0.000019  0.000004  0.000144   \n",
       "2020-08-25  0.000079  0.00018  0.00015  0.000019  0.000004  0.000144   \n",
       "2020-08-26  0.000079  0.00018  0.00015  0.000019  0.000004  0.000144   \n",
       "2020-08-27  0.000079  0.00018  0.00015  0.000019  0.000004  0.000144   \n",
       "\n",
       "Country       Turkey  United Arab Emirates  United States  \n",
       "Date                                                       \n",
       "2020-08-23  0.000301              0.000037        0.00004  \n",
       "2020-08-24  0.000301              0.000037        0.00004  \n",
       "2020-08-25  0.000301              0.000037        0.00004  \n",
       "2020-08-26  0.000301              0.000037        0.00004  \n",
       "2020-08-27  0.000301              0.000037        0.00004  \n",
       "\n",
       "[5 rows x 23 columns]"
      ]
     },
     "execution_count": 17,
     "metadata": {},
     "output_type": "execute_result"
    }
   ],
   "source": [
    "analyser.param_history(\"kappa\", roll_window=None).tail()"
   ]
  },
  {
   "cell_type": "markdown",
   "metadata": {},
   "source": [
    "### $\\theta$: Mortality rate of S$^\\ast$ cases $\\mathrm{[-]}$"
   ]
  },
  {
   "cell_type": "code",
   "execution_count": 18,
   "metadata": {
    "collapsed": false
   },
   "outputs": [
    {
     "data": {
      "image/png": "[encoded data removed]",
      "text/plain": [
       "<Figure size 648x432 with 1 Axes>"
      ]
     },
     "metadata": {},
     "output_type": "display_data"
    },
    {
     "data": {
      "text/html": [
       "<div>\n",
       "<style scoped>\n",
       "    .dataframe tbody tr th:only-of-type {\n",
       "        vertical-align: middle;\n",
       "    }\n",
       "\n",
       "    .dataframe tbody tr th {\n",
       "        vertical-align: top;\n",
       "    }\n",
       "\n",
       "    .dataframe thead th {\n",
       "        text-align: right;\n",
       "    }\n",
       "</style>\n",
       "<table border=\"1\" class=\"dataframe\">\n",
       "  <thead>\n",
       "    <tr style=\"text-align: right;\">\n",
       "      <th>Country</th>\n",
       "      <th>Bahrain</th>\n",
       "      <th>Bangladesh</th>\n",
       "      <th>Czech Republic</th>\n",
       "      <th>France</th>\n",
       "      <th>Georgia</th>\n",
       "      <th>Guinea</th>\n",
       "      <th>Iran</th>\n",
       "      <th>Italy</th>\n",
       "      <th>Korea, South</th>\n",
       "      <th>Kuwait</th>\n",
       "      <th>...</th>\n",
       "      <th>Myanmar</th>\n",
       "      <th>Nigeria</th>\n",
       "      <th>Peru</th>\n",
       "      <th>Poland</th>\n",
       "      <th>Portugal</th>\n",
       "      <th>Russia</th>\n",
       "      <th>Senegal</th>\n",
       "      <th>Turkey</th>\n",
       "      <th>United Arab Emirates</th>\n",
       "      <th>United States</th>\n",
       "    </tr>\n",
       "    <tr>\n",
       "      <th>Date</th>\n",
       "      <th></th>\n",
       "      <th></th>\n",
       "      <th></th>\n",
       "      <th></th>\n",
       "      <th></th>\n",
       "      <th></th>\n",
       "      <th></th>\n",
       "      <th></th>\n",
       "      <th></th>\n",
       "      <th></th>\n",
       "      <th></th>\n",
       "      <th></th>\n",
       "      <th></th>\n",
       "      <th></th>\n",
       "      <th></th>\n",
       "      <th></th>\n",
       "      <th></th>\n",
       "      <th></th>\n",
       "      <th></th>\n",
       "      <th></th>\n",
       "      <th></th>\n",
       "    </tr>\n",
       "  </thead>\n",
       "  <tbody>\n",
       "    <tr>\n",
       "      <th>2020-08-23</th>\n",
       "      <td>0.000634</td>\n",
       "      <td>0.001153</td>\n",
       "      <td>0.000345</td>\n",
       "      <td>0.002406</td>\n",
       "      <td>0.000228</td>\n",
       "      <td>0.001235</td>\n",
       "      <td>0.054502</td>\n",
       "      <td>0.034645</td>\n",
       "      <td>0.000164</td>\n",
       "      <td>0.000252</td>\n",
       "      <td>...</td>\n",
       "      <td>0.000659</td>\n",
       "      <td>0.000345</td>\n",
       "      <td>0.017411</td>\n",
       "      <td>0.001015</td>\n",
       "      <td>0.01978</td>\n",
       "      <td>0.03223</td>\n",
       "      <td>0.001149</td>\n",
       "      <td>0.002586</td>\n",
       "      <td>0.000679</td>\n",
       "      <td>0.0183</td>\n",
       "    </tr>\n",
       "    <tr>\n",
       "      <th>2020-08-24</th>\n",
       "      <td>0.000634</td>\n",
       "      <td>0.001153</td>\n",
       "      <td>0.000345</td>\n",
       "      <td>0.002406</td>\n",
       "      <td>0.000228</td>\n",
       "      <td>0.001235</td>\n",
       "      <td>0.054502</td>\n",
       "      <td>0.034645</td>\n",
       "      <td>0.000164</td>\n",
       "      <td>0.000252</td>\n",
       "      <td>...</td>\n",
       "      <td>0.000659</td>\n",
       "      <td>0.000345</td>\n",
       "      <td>0.017411</td>\n",
       "      <td>0.001015</td>\n",
       "      <td>0.01978</td>\n",
       "      <td>0.03223</td>\n",
       "      <td>0.001149</td>\n",
       "      <td>0.002586</td>\n",
       "      <td>0.000679</td>\n",
       "      <td>0.0183</td>\n",
       "    </tr>\n",
       "    <tr>\n",
       "      <th>2020-08-25</th>\n",
       "      <td>0.000634</td>\n",
       "      <td>0.001153</td>\n",
       "      <td>0.000345</td>\n",
       "      <td>0.002406</td>\n",
       "      <td>0.000228</td>\n",
       "      <td>0.001235</td>\n",
       "      <td>0.054502</td>\n",
       "      <td>0.034645</td>\n",
       "      <td>0.000164</td>\n",
       "      <td>0.000252</td>\n",
       "      <td>...</td>\n",
       "      <td>0.000659</td>\n",
       "      <td>0.000345</td>\n",
       "      <td>0.017411</td>\n",
       "      <td>0.001015</td>\n",
       "      <td>0.01978</td>\n",
       "      <td>0.03223</td>\n",
       "      <td>0.001149</td>\n",
       "      <td>0.002586</td>\n",
       "      <td>0.000679</td>\n",
       "      <td>0.0183</td>\n",
       "    </tr>\n",
       "    <tr>\n",
       "      <th>2020-08-26</th>\n",
       "      <td>0.000634</td>\n",
       "      <td>0.001153</td>\n",
       "      <td>0.000345</td>\n",
       "      <td>0.002406</td>\n",
       "      <td>0.000228</td>\n",
       "      <td>0.001235</td>\n",
       "      <td>0.054502</td>\n",
       "      <td>0.034645</td>\n",
       "      <td>0.000164</td>\n",
       "      <td>0.000252</td>\n",
       "      <td>...</td>\n",
       "      <td>0.000659</td>\n",
       "      <td>0.000345</td>\n",
       "      <td>0.017411</td>\n",
       "      <td>0.001015</td>\n",
       "      <td>0.01978</td>\n",
       "      <td>0.03223</td>\n",
       "      <td>0.001149</td>\n",
       "      <td>0.002586</td>\n",
       "      <td>0.000679</td>\n",
       "      <td>0.0183</td>\n",
       "    </tr>\n",
       "    <tr>\n",
       "      <th>2020-08-27</th>\n",
       "      <td>0.000634</td>\n",
       "      <td>0.001153</td>\n",
       "      <td>0.000345</td>\n",
       "      <td>0.002406</td>\n",
       "      <td>0.000228</td>\n",
       "      <td>0.001235</td>\n",
       "      <td>0.054502</td>\n",
       "      <td>0.034645</td>\n",
       "      <td>0.000164</td>\n",
       "      <td>0.000252</td>\n",
       "      <td>...</td>\n",
       "      <td>0.000659</td>\n",
       "      <td>0.000345</td>\n",
       "      <td>0.017411</td>\n",
       "      <td>0.001015</td>\n",
       "      <td>0.01978</td>\n",
       "      <td>0.03223</td>\n",
       "      <td>0.001149</td>\n",
       "      <td>0.002586</td>\n",
       "      <td>0.000679</td>\n",
       "      <td>0.0183</td>\n",
       "    </tr>\n",
       "  </tbody>\n",
       "</table>\n",
       "<p>5 rows × 23 columns</p>\n",
       "</div>"
      ],
      "text/plain": [
       "Country      Bahrain  Bangladesh  Czech Republic    France   Georgia  \\\n",
       "Date                                                                   \n",
       "2020-08-23  0.000634    0.001153        0.000345  0.002406  0.000228   \n",
       "2020-08-24  0.000634    0.001153        0.000345  0.002406  0.000228   \n",
       "2020-08-25  0.000634    0.001153        0.000345  0.002406  0.000228   \n",
       "2020-08-26  0.000634    0.001153        0.000345  0.002406  0.000228   \n",
       "2020-08-27  0.000634    0.001153        0.000345  0.002406  0.000228   \n",
       "\n",
       "Country       Guinea      Iran     Italy  Korea, South    Kuwait  ...  \\\n",
       "Date                                                              ...   \n",
       "2020-08-23  0.001235  0.054502  0.034645      0.000164  0.000252  ...   \n",
       "2020-08-24  0.001235  0.054502  0.034645      0.000164  0.000252  ...   \n",
       "2020-08-25  0.001235  0.054502  0.034645      0.000164  0.000252  ...   \n",
       "2020-08-26  0.001235  0.054502  0.034645      0.000164  0.000252  ...   \n",
       "2020-08-27  0.001235  0.054502  0.034645      0.000164  0.000252  ...   \n",
       "\n",
       "Country      Myanmar   Nigeria      Peru    Poland  Portugal   Russia  \\\n",
       "Date                                                                    \n",
       "2020-08-23  0.000659  0.000345  0.017411  0.001015   0.01978  0.03223   \n",
       "2020-08-24  0.000659  0.000345  0.017411  0.001015   0.01978  0.03223   \n",
       "2020-08-25  0.000659  0.000345  0.017411  0.001015   0.01978  0.03223   \n",
       "2020-08-26  0.000659  0.000345  0.017411  0.001015   0.01978  0.03223   \n",
       "2020-08-27  0.000659  0.000345  0.017411  0.001015   0.01978  0.03223   \n",
       "\n",
       "Country      Senegal    Turkey  United Arab Emirates  United States  \n",
       "Date                                                                 \n",
       "2020-08-23  0.001149  0.002586              0.000679         0.0183  \n",
       "2020-08-24  0.001149  0.002586              0.000679         0.0183  \n",
       "2020-08-25  0.001149  0.002586              0.000679         0.0183  \n",
       "2020-08-26  0.001149  0.002586              0.000679         0.0183  \n",
       "2020-08-27  0.001149  0.002586              0.000679         0.0183  \n",
       "\n",
       "[5 rows x 23 columns]"
      ]
     },
     "execution_count": 18,
     "metadata": {},
     "output_type": "execute_result"
    }
   ],
   "source": [
    "analyser.param_history(\"theta\", roll_window=None).tail()"
   ]
  },
  {
   "cell_type": "markdown",
   "metadata": {},
   "source": [
    "## (Experimental): Relationship of OxCGRT index and parameter values\n",
    "Government responses will impact on parameter values of ODE models about 14 days later. Here, we will investigate on the relationship of [stringency index (from OxCGRT)](https://github.com/OxCGRT/covid-policy-tracker/blob/master/documentation/index_methodology.md) and reproduction number/model parameters.\n"
   ]
  },
  {
   "cell_type": "code",
   "execution_count": 19,
   "metadata": {
    "collapsed": false
   },
   "outputs": [],
   "source": [
    "%matplotlib inline\n",
    "from matplotlib import pyplot as plt\n",
    "import seaborn as sns\n",
    "import pandas as pd"
   ]
  },
  {
   "cell_type": "code",
   "execution_count": 20,
   "metadata": {
    "collapsed": false
   },
   "outputs": [
    {
     "name": "stdout",
     "output_type": "stream",
     "text": [
      "<class 'pandas.core.frame.DataFrame'>\n",
      "Int64Index: 31117 entries, 0 to 31424\n",
      "Data columns (total 19 columns):\n",
      " #   Column                               Non-Null Count  Dtype         \n",
      "---  ------                               --------------  -----         \n",
      " 0   Date                                 31117 non-null  datetime64[ns]\n",
      " 1   Country                              31117 non-null  object        \n",
      " 2   Rt                                   31117 non-null  float64       \n",
      " 3   theta                                31117 non-null  float64       \n",
      " 4   kappa                                31117 non-null  float64       \n",
      " 5   rho                                  31117 non-null  float64       \n",
      " 6   sigma                                31117 non-null  float64       \n",
      " 7   School_closing                       31117 non-null  int64         \n",
      " 8   Workplace_closing                    31117 non-null  int64         \n",
      " 9   Cancel_events                        31117 non-null  int64         \n",
      " 10  Gatherings_restrictions              31117 non-null  int64         \n",
      " 11  Transport_closing                    31117 non-null  int64         \n",
      " 12  Stay_home_restrictions               31117 non-null  int64         \n",
      " 13  Internal_movement_restrictions       31117 non-null  int64         \n",
      " 14  International_movement_restrictions  31117 non-null  int64         \n",
      " 15  Information_campaigns                31117 non-null  int64         \n",
      " 16  Testing_policy                       31117 non-null  int64         \n",
      " 17  Contact_tracing                      31117 non-null  int64         \n",
      " 18  Stringency_index                     31117 non-null  float64       \n",
      "dtypes: datetime64[ns](1), float64(6), int64(11), object(1)\n",
      "memory usage: 4.7+ MB\n"
     ]
    }
   ],
   "source": [
    "df = analyser.track()\n",
    "param_cols = [\"Rt\", *cs.SIRF.PARAMETERS]\n",
    "oxcgrt_cols = oxcgrt_data.OXCGRT_VARS[:]\n",
    "cols = param_cols + oxcgrt_cols\n",
    "delay = 14\n",
    "\n",
    "for col in param_cols:\n",
    "    df[col] = pd.to_numeric(df[col], errors=\"coerce\")\n",
    "    df[col] = df.groupby(\"Country\")[col].shift(0 - delay)\n",
    "\n",
    "df = df.dropna(how=\"any\")\n",
    "df = df.loc[:, [\"Date\", \"Country\", *cols]]\n",
    "track_df = df.copy()\n",
    "track_df.info()"
   ]
  },
  {
   "cell_type": "code",
   "execution_count": 21,
   "metadata": {
    "collapsed": false
   },
   "outputs": [
    {
     "data": {
      "text/html": [
       "<style  type=\"text/css\" >\n",
       "#T_201c7fca_e872_11ea_9610_52540079f68erow0_col0,#T_201c7fca_e872_11ea_9610_52540079f68erow1_col1,#T_201c7fca_e872_11ea_9610_52540079f68erow2_col2,#T_201c7fca_e872_11ea_9610_52540079f68erow3_col3,#T_201c7fca_e872_11ea_9610_52540079f68erow4_col4,#T_201c7fca_e872_11ea_9610_52540079f68erow5_col5,#T_201c7fca_e872_11ea_9610_52540079f68erow6_col6,#T_201c7fca_e872_11ea_9610_52540079f68erow7_col7,#T_201c7fca_e872_11ea_9610_52540079f68erow8_col8,#T_201c7fca_e872_11ea_9610_52540079f68erow9_col9,#T_201c7fca_e872_11ea_9610_52540079f68erow10_col10,#T_201c7fca_e872_11ea_9610_52540079f68erow11_col11,#T_201c7fca_e872_11ea_9610_52540079f68erow12_col12,#T_201c7fca_e872_11ea_9610_52540079f68erow13_col13,#T_201c7fca_e872_11ea_9610_52540079f68erow14_col14,#T_201c7fca_e872_11ea_9610_52540079f68erow15_col15,#T_201c7fca_e872_11ea_9610_52540079f68erow16_col16{\n",
       "            background-color:  #023858;\n",
       "            color:  #f1f1f1;\n",
       "        }#T_201c7fca_e872_11ea_9610_52540079f68erow0_col1,#T_201c7fca_e872_11ea_9610_52540079f68erow1_col0,#T_201c7fca_e872_11ea_9610_52540079f68erow4_col7,#T_201c7fca_e872_11ea_9610_52540079f68erow7_col4{\n",
       "            background-color:  #d8d7e9;\n",
       "            color:  #000000;\n",
       "        }#T_201c7fca_e872_11ea_9610_52540079f68erow0_col2,#T_201c7fca_e872_11ea_9610_52540079f68erow2_col0,#T_201c7fca_e872_11ea_9610_52540079f68erow3_col11,#T_201c7fca_e872_11ea_9610_52540079f68erow7_col13,#T_201c7fca_e872_11ea_9610_52540079f68erow11_col3,#T_201c7fca_e872_11ea_9610_52540079f68erow13_col7{\n",
       "            background-color:  #b4c4df;\n",
       "            color:  #000000;\n",
       "        }#T_201c7fca_e872_11ea_9610_52540079f68erow0_col3,#T_201c7fca_e872_11ea_9610_52540079f68erow0_col8,#T_201c7fca_e872_11ea_9610_52540079f68erow3_col0,#T_201c7fca_e872_11ea_9610_52540079f68erow3_col12,#T_201c7fca_e872_11ea_9610_52540079f68erow8_col0,#T_201c7fca_e872_11ea_9610_52540079f68erow12_col3{\n",
       "            background-color:  #83afd3;\n",
       "            color:  #000000;\n",
       "        }#T_201c7fca_e872_11ea_9610_52540079f68erow0_col4,#T_201c7fca_e872_11ea_9610_52540079f68erow3_col14,#T_201c7fca_e872_11ea_9610_52540079f68erow4_col0,#T_201c7fca_e872_11ea_9610_52540079f68erow14_col3,#T_201c7fca_e872_11ea_9610_52540079f68erow15_col16,#T_201c7fca_e872_11ea_9610_52540079f68erow16_col15{\n",
       "            background-color:  #e7e3f0;\n",
       "            color:  #000000;\n",
       "        }#T_201c7fca_e872_11ea_9610_52540079f68erow0_col5,#T_201c7fca_e872_11ea_9610_52540079f68erow5_col0{\n",
       "            background-color:  #e6e2ef;\n",
       "            color:  #000000;\n",
       "        }#T_201c7fca_e872_11ea_9610_52540079f68erow0_col6,#T_201c7fca_e872_11ea_9610_52540079f68erow6_col0{\n",
       "            background-color:  #bdc8e1;\n",
       "            color:  #000000;\n",
       "        }#T_201c7fca_e872_11ea_9610_52540079f68erow0_col7,#T_201c7fca_e872_11ea_9610_52540079f68erow6_col14,#T_201c7fca_e872_11ea_9610_52540079f68erow7_col0,#T_201c7fca_e872_11ea_9610_52540079f68erow14_col6{\n",
       "            background-color:  #a7bddb;\n",
       "            color:  #000000;\n",
       "        }#T_201c7fca_e872_11ea_9610_52540079f68erow0_col9,#T_201c7fca_e872_11ea_9610_52540079f68erow0_col16,#T_201c7fca_e872_11ea_9610_52540079f68erow9_col0,#T_201c7fca_e872_11ea_9610_52540079f68erow16_col0{\n",
       "            background-color:  #c6cce3;\n",
       "            color:  #000000;\n",
       "        }#T_201c7fca_e872_11ea_9610_52540079f68erow0_col10,#T_201c7fca_e872_11ea_9610_52540079f68erow10_col0,#T_201c7fca_e872_11ea_9610_52540079f68erow14_col15,#T_201c7fca_e872_11ea_9610_52540079f68erow15_col14{\n",
       "            background-color:  #b5c4df;\n",
       "            color:  #000000;\n",
       "        }#T_201c7fca_e872_11ea_9610_52540079f68erow0_col11,#T_201c7fca_e872_11ea_9610_52540079f68erow0_col13,#T_201c7fca_e872_11ea_9610_52540079f68erow1_col13,#T_201c7fca_e872_11ea_9610_52540079f68erow11_col0,#T_201c7fca_e872_11ea_9610_52540079f68erow13_col0,#T_201c7fca_e872_11ea_9610_52540079f68erow13_col1{\n",
       "            background-color:  #acc0dd;\n",
       "            color:  #000000;\n",
       "        }#T_201c7fca_e872_11ea_9610_52540079f68erow0_col12,#T_201c7fca_e872_11ea_9610_52540079f68erow12_col0{\n",
       "            background-color:  #dddbec;\n",
       "            color:  #000000;\n",
       "        }#T_201c7fca_e872_11ea_9610_52540079f68erow0_col14,#T_201c7fca_e872_11ea_9610_52540079f68erow1_col11,#T_201c7fca_e872_11ea_9610_52540079f68erow4_col16,#T_201c7fca_e872_11ea_9610_52540079f68erow9_col13,#T_201c7fca_e872_11ea_9610_52540079f68erow11_col1,#T_201c7fca_e872_11ea_9610_52540079f68erow13_col9,#T_201c7fca_e872_11ea_9610_52540079f68erow14_col0,#T_201c7fca_e872_11ea_9610_52540079f68erow16_col4{\n",
       "            background-color:  #c2cbe2;\n",
       "            color:  #000000;\n",
       "        }#T_201c7fca_e872_11ea_9610_52540079f68erow0_col15,#T_201c7fca_e872_11ea_9610_52540079f68erow15_col0{\n",
       "            background-color:  #dfddec;\n",
       "            color:  #000000;\n",
       "        }#T_201c7fca_e872_11ea_9610_52540079f68erow1_col2,#T_201c7fca_e872_11ea_9610_52540079f68erow2_col1,#T_201c7fca_e872_11ea_9610_52540079f68erow11_col14,#T_201c7fca_e872_11ea_9610_52540079f68erow14_col11{\n",
       "            background-color:  #5c9fc9;\n",
       "            color:  #000000;\n",
       "        }#T_201c7fca_e872_11ea_9610_52540079f68erow1_col3,#T_201c7fca_e872_11ea_9610_52540079f68erow3_col1,#T_201c7fca_e872_11ea_9610_52540079f68erow10_col13,#T_201c7fca_e872_11ea_9610_52540079f68erow13_col10{\n",
       "            background-color:  #a4bcda;\n",
       "            color:  #000000;\n",
       "        }#T_201c7fca_e872_11ea_9610_52540079f68erow1_col4,#T_201c7fca_e872_11ea_9610_52540079f68erow1_col16,#T_201c7fca_e872_11ea_9610_52540079f68erow4_col1,#T_201c7fca_e872_11ea_9610_52540079f68erow6_col12,#T_201c7fca_e872_11ea_9610_52540079f68erow12_col6,#T_201c7fca_e872_11ea_9610_52540079f68erow16_col1{\n",
       "            background-color:  #7eadd1;\n",
       "            color:  #000000;\n",
       "        }#T_201c7fca_e872_11ea_9610_52540079f68erow1_col5,#T_201c7fca_e872_11ea_9610_52540079f68erow5_col1{\n",
       "            background-color:  #8cb3d5;\n",
       "            color:  #000000;\n",
       "        }#T_201c7fca_e872_11ea_9610_52540079f68erow1_col6,#T_201c7fca_e872_11ea_9610_52540079f68erow5_col11,#T_201c7fca_e872_11ea_9610_52540079f68erow6_col1,#T_201c7fca_e872_11ea_9610_52540079f68erow11_col5{\n",
       "            background-color:  #6da6cd;\n",
       "            color:  #000000;\n",
       "        }#T_201c7fca_e872_11ea_9610_52540079f68erow1_col7,#T_201c7fca_e872_11ea_9610_52540079f68erow3_col6,#T_201c7fca_e872_11ea_9610_52540079f68erow6_col3,#T_201c7fca_e872_11ea_9610_52540079f68erow7_col1{\n",
       "            background-color:  #93b5d6;\n",
       "            color:  #000000;\n",
       "        }#T_201c7fca_e872_11ea_9610_52540079f68erow1_col8,#T_201c7fca_e872_11ea_9610_52540079f68erow3_col13,#T_201c7fca_e872_11ea_9610_52540079f68erow8_col1,#T_201c7fca_e872_11ea_9610_52540079f68erow13_col3{\n",
       "            background-color:  #c9cee4;\n",
       "            color:  #000000;\n",
       "        }#T_201c7fca_e872_11ea_9610_52540079f68erow1_col9,#T_201c7fca_e872_11ea_9610_52540079f68erow9_col1{\n",
       "            background-color:  #bfc9e1;\n",
       "            color:  #000000;\n",
       "        }#T_201c7fca_e872_11ea_9610_52540079f68erow1_col10,#T_201c7fca_e872_11ea_9610_52540079f68erow10_col1{\n",
       "            background-color:  #c4cbe3;\n",
       "            color:  #000000;\n",
       "        }#T_201c7fca_e872_11ea_9610_52540079f68erow1_col12,#T_201c7fca_e872_11ea_9610_52540079f68erow3_col8,#T_201c7fca_e872_11ea_9610_52540079f68erow8_col3,#T_201c7fca_e872_11ea_9610_52540079f68erow12_col1{\n",
       "            background-color:  #cacee5;\n",
       "            color:  #000000;\n",
       "        }#T_201c7fca_e872_11ea_9610_52540079f68erow1_col14,#T_201c7fca_e872_11ea_9610_52540079f68erow6_col15,#T_201c7fca_e872_11ea_9610_52540079f68erow14_col1,#T_201c7fca_e872_11ea_9610_52540079f68erow15_col6{\n",
       "            background-color:  #fbf3f9;\n",
       "            color:  #000000;\n",
       "        }#T_201c7fca_e872_11ea_9610_52540079f68erow1_col15,#T_201c7fca_e872_11ea_9610_52540079f68erow15_col1{\n",
       "            background-color:  #bcc7e1;\n",
       "            color:  #000000;\n",
       "        }#T_201c7fca_e872_11ea_9610_52540079f68erow2_col3,#T_201c7fca_e872_11ea_9610_52540079f68erow3_col2,#T_201c7fca_e872_11ea_9610_52540079f68erow5_col16,#T_201c7fca_e872_11ea_9610_52540079f68erow9_col10,#T_201c7fca_e872_11ea_9610_52540079f68erow10_col9,#T_201c7fca_e872_11ea_9610_52540079f68erow16_col5{\n",
       "            background-color:  #056ead;\n",
       "            color:  #f1f1f1;\n",
       "        }#T_201c7fca_e872_11ea_9610_52540079f68erow2_col4,#T_201c7fca_e872_11ea_9610_52540079f68erow2_col16,#T_201c7fca_e872_11ea_9610_52540079f68erow4_col2,#T_201c7fca_e872_11ea_9610_52540079f68erow16_col2{\n",
       "            background-color:  #4697c4;\n",
       "            color:  #000000;\n",
       "        }#T_201c7fca_e872_11ea_9610_52540079f68erow2_col5,#T_201c7fca_e872_11ea_9610_52540079f68erow5_col2{\n",
       "            background-color:  #60a1ca;\n",
       "            color:  #000000;\n",
       "        }#T_201c7fca_e872_11ea_9610_52540079f68erow2_col6,#T_201c7fca_e872_11ea_9610_52540079f68erow6_col2{\n",
       "            background-color:  #2d8abd;\n",
       "            color:  #000000;\n",
       "        }#T_201c7fca_e872_11ea_9610_52540079f68erow2_col7,#T_201c7fca_e872_11ea_9610_52540079f68erow7_col2{\n",
       "            background-color:  #9ebad9;\n",
       "            color:  #000000;\n",
       "        }#T_201c7fca_e872_11ea_9610_52540079f68erow2_col8,#T_201c7fca_e872_11ea_9610_52540079f68erow7_col12,#T_201c7fca_e872_11ea_9610_52540079f68erow8_col2,#T_201c7fca_e872_11ea_9610_52540079f68erow12_col7{\n",
       "            background-color:  #b3c3de;\n",
       "            color:  #000000;\n",
       "        }#T_201c7fca_e872_11ea_9610_52540079f68erow2_col9,#T_201c7fca_e872_11ea_9610_52540079f68erow9_col2{\n",
       "            background-color:  #88b1d4;\n",
       "            color:  #000000;\n",
       "        }#T_201c7fca_e872_11ea_9610_52540079f68erow2_col10,#T_201c7fca_e872_11ea_9610_52540079f68erow2_col12,#T_201c7fca_e872_11ea_9610_52540079f68erow10_col2,#T_201c7fca_e872_11ea_9610_52540079f68erow12_col2{\n",
       "            background-color:  #8eb3d5;\n",
       "            color:  #000000;\n",
       "        }#T_201c7fca_e872_11ea_9610_52540079f68erow2_col11,#T_201c7fca_e872_11ea_9610_52540079f68erow8_col12,#T_201c7fca_e872_11ea_9610_52540079f68erow11_col2,#T_201c7fca_e872_11ea_9610_52540079f68erow12_col8{\n",
       "            background-color:  #96b6d7;\n",
       "            color:  #000000;\n",
       "        }#T_201c7fca_e872_11ea_9610_52540079f68erow2_col13,#T_201c7fca_e872_11ea_9610_52540079f68erow3_col7,#T_201c7fca_e872_11ea_9610_52540079f68erow7_col3,#T_201c7fca_e872_11ea_9610_52540079f68erow13_col2{\n",
       "            background-color:  #d2d2e7;\n",
       "            color:  #000000;\n",
       "        }#T_201c7fca_e872_11ea_9610_52540079f68erow2_col14,#T_201c7fca_e872_11ea_9610_52540079f68erow14_col2{\n",
       "            background-color:  #f2ecf5;\n",
       "            color:  #000000;\n",
       "        }#T_201c7fca_e872_11ea_9610_52540079f68erow2_col15,#T_201c7fca_e872_11ea_9610_52540079f68erow15_col2{\n",
       "            background-color:  #e4e1ef;\n",
       "            color:  #000000;\n",
       "        }#T_201c7fca_e872_11ea_9610_52540079f68erow3_col4,#T_201c7fca_e872_11ea_9610_52540079f68erow4_col3{\n",
       "            background-color:  #1379b5;\n",
       "            color:  #f1f1f1;\n",
       "        }#T_201c7fca_e872_11ea_9610_52540079f68erow3_col5,#T_201c7fca_e872_11ea_9610_52540079f68erow5_col3{\n",
       "            background-color:  #81aed2;\n",
       "            color:  #000000;\n",
       "        }#T_201c7fca_e872_11ea_9610_52540079f68erow3_col9,#T_201c7fca_e872_11ea_9610_52540079f68erow9_col3,#T_201c7fca_e872_11ea_9610_52540079f68erow12_col13,#T_201c7fca_e872_11ea_9610_52540079f68erow13_col12{\n",
       "            background-color:  #a9bfdc;\n",
       "            color:  #000000;\n",
       "        }#T_201c7fca_e872_11ea_9610_52540079f68erow3_col10,#T_201c7fca_e872_11ea_9610_52540079f68erow5_col14,#T_201c7fca_e872_11ea_9610_52540079f68erow10_col3,#T_201c7fca_e872_11ea_9610_52540079f68erow14_col5{\n",
       "            background-color:  #a8bedc;\n",
       "            color:  #000000;\n",
       "        }#T_201c7fca_e872_11ea_9610_52540079f68erow3_col15,#T_201c7fca_e872_11ea_9610_52540079f68erow4_col10,#T_201c7fca_e872_11ea_9610_52540079f68erow10_col4,#T_201c7fca_e872_11ea_9610_52540079f68erow15_col3{\n",
       "            background-color:  #dcdaeb;\n",
       "            color:  #000000;\n",
       "        }#T_201c7fca_e872_11ea_9610_52540079f68erow3_col16,#T_201c7fca_e872_11ea_9610_52540079f68erow16_col3{\n",
       "            background-color:  #86b0d3;\n",
       "            color:  #000000;\n",
       "        }#T_201c7fca_e872_11ea_9610_52540079f68erow4_col5,#T_201c7fca_e872_11ea_9610_52540079f68erow5_col4{\n",
       "            background-color:  #84b0d3;\n",
       "            color:  #000000;\n",
       "        }#T_201c7fca_e872_11ea_9610_52540079f68erow4_col6,#T_201c7fca_e872_11ea_9610_52540079f68erow6_col4,#T_201c7fca_e872_11ea_9610_52540079f68erow12_col15,#T_201c7fca_e872_11ea_9610_52540079f68erow15_col12{\n",
       "            background-color:  #c8cde4;\n",
       "            color:  #000000;\n",
       "        }#T_201c7fca_e872_11ea_9610_52540079f68erow4_col8,#T_201c7fca_e872_11ea_9610_52540079f68erow8_col4{\n",
       "            background-color:  #fff7fb;\n",
       "            color:  #000000;\n",
       "        }#T_201c7fca_e872_11ea_9610_52540079f68erow4_col9,#T_201c7fca_e872_11ea_9610_52540079f68erow9_col4,#T_201c7fca_e872_11ea_9610_52540079f68erow10_col15,#T_201c7fca_e872_11ea_9610_52540079f68erow15_col10{\n",
       "            background-color:  #dad9ea;\n",
       "            color:  #000000;\n",
       "        }#T_201c7fca_e872_11ea_9610_52540079f68erow4_col11,#T_201c7fca_e872_11ea_9610_52540079f68erow11_col4{\n",
       "            background-color:  #efe9f3;\n",
       "            color:  #000000;\n",
       "        }#T_201c7fca_e872_11ea_9610_52540079f68erow4_col12,#T_201c7fca_e872_11ea_9610_52540079f68erow12_col4{\n",
       "            background-color:  #9cb9d9;\n",
       "            color:  #000000;\n",
       "        }#T_201c7fca_e872_11ea_9610_52540079f68erow4_col13,#T_201c7fca_e872_11ea_9610_52540079f68erow13_col4{\n",
       "            background-color:  #d6d6e9;\n",
       "            color:  #000000;\n",
       "        }#T_201c7fca_e872_11ea_9610_52540079f68erow4_col14,#T_201c7fca_e872_11ea_9610_52540079f68erow11_col15,#T_201c7fca_e872_11ea_9610_52540079f68erow14_col4,#T_201c7fca_e872_11ea_9610_52540079f68erow15_col11{\n",
       "            background-color:  #ece7f2;\n",
       "            color:  #000000;\n",
       "        }#T_201c7fca_e872_11ea_9610_52540079f68erow4_col15,#T_201c7fca_e872_11ea_9610_52540079f68erow15_col4{\n",
       "            background-color:  #8bb2d4;\n",
       "            color:  #000000;\n",
       "        }#T_201c7fca_e872_11ea_9610_52540079f68erow5_col6,#T_201c7fca_e872_11ea_9610_52540079f68erow6_col5,#T_201c7fca_e872_11ea_9610_52540079f68erow7_col10,#T_201c7fca_e872_11ea_9610_52540079f68erow10_col7{\n",
       "            background-color:  #187cb6;\n",
       "            color:  #000000;\n",
       "        }#T_201c7fca_e872_11ea_9610_52540079f68erow5_col7,#T_201c7fca_e872_11ea_9610_52540079f68erow7_col5{\n",
       "            background-color:  #549cc7;\n",
       "            color:  #000000;\n",
       "        }#T_201c7fca_e872_11ea_9610_52540079f68erow5_col8,#T_201c7fca_e872_11ea_9610_52540079f68erow8_col5{\n",
       "            background-color:  #97b7d7;\n",
       "            color:  #000000;\n",
       "        }#T_201c7fca_e872_11ea_9610_52540079f68erow5_col9,#T_201c7fca_e872_11ea_9610_52540079f68erow9_col5{\n",
       "            background-color:  #3991c1;\n",
       "            color:  #000000;\n",
       "        }#T_201c7fca_e872_11ea_9610_52540079f68erow5_col10,#T_201c7fca_e872_11ea_9610_52540079f68erow10_col5{\n",
       "            background-color:  #348ebf;\n",
       "            color:  #000000;\n",
       "        }#T_201c7fca_e872_11ea_9610_52540079f68erow5_col12,#T_201c7fca_e872_11ea_9610_52540079f68erow12_col5{\n",
       "            background-color:  #1e80b8;\n",
       "            color:  #000000;\n",
       "        }#T_201c7fca_e872_11ea_9610_52540079f68erow5_col13,#T_201c7fca_e872_11ea_9610_52540079f68erow13_col5{\n",
       "            background-color:  #b9c6e0;\n",
       "            color:  #000000;\n",
       "        }#T_201c7fca_e872_11ea_9610_52540079f68erow5_col15,#T_201c7fca_e872_11ea_9610_52540079f68erow15_col5{\n",
       "            background-color:  #f4edf6;\n",
       "            color:  #000000;\n",
       "        }#T_201c7fca_e872_11ea_9610_52540079f68erow6_col7,#T_201c7fca_e872_11ea_9610_52540079f68erow6_col8,#T_201c7fca_e872_11ea_9610_52540079f68erow7_col6,#T_201c7fca_e872_11ea_9610_52540079f68erow8_col6{\n",
       "            background-color:  #4094c3;\n",
       "            color:  #000000;\n",
       "        }#T_201c7fca_e872_11ea_9610_52540079f68erow6_col9,#T_201c7fca_e872_11ea_9610_52540079f68erow9_col6{\n",
       "            background-color:  #2f8bbe;\n",
       "            color:  #000000;\n",
       "        }#T_201c7fca_e872_11ea_9610_52540079f68erow6_col10,#T_201c7fca_e872_11ea_9610_52540079f68erow10_col6{\n",
       "            background-color:  #1278b4;\n",
       "            color:  #f1f1f1;\n",
       "        }#T_201c7fca_e872_11ea_9610_52540079f68erow6_col11,#T_201c7fca_e872_11ea_9610_52540079f68erow11_col6{\n",
       "            background-color:  #2786bb;\n",
       "            color:  #000000;\n",
       "        }#T_201c7fca_e872_11ea_9610_52540079f68erow6_col13,#T_201c7fca_e872_11ea_9610_52540079f68erow13_col6,#T_201c7fca_e872_11ea_9610_52540079f68erow13_col16,#T_201c7fca_e872_11ea_9610_52540079f68erow16_col13{\n",
       "            background-color:  #b1c2de;\n",
       "            color:  #000000;\n",
       "        }#T_201c7fca_e872_11ea_9610_52540079f68erow6_col16,#T_201c7fca_e872_11ea_9610_52540079f68erow16_col6{\n",
       "            background-color:  #0568a3;\n",
       "            color:  #f1f1f1;\n",
       "        }#T_201c7fca_e872_11ea_9610_52540079f68erow7_col8,#T_201c7fca_e872_11ea_9610_52540079f68erow7_col16,#T_201c7fca_e872_11ea_9610_52540079f68erow8_col7,#T_201c7fca_e872_11ea_9610_52540079f68erow16_col7{\n",
       "            background-color:  #1b7eb7;\n",
       "            color:  #000000;\n",
       "        }#T_201c7fca_e872_11ea_9610_52540079f68erow7_col9,#T_201c7fca_e872_11ea_9610_52540079f68erow9_col7{\n",
       "            background-color:  #4c99c5;\n",
       "            color:  #000000;\n",
       "        }#T_201c7fca_e872_11ea_9610_52540079f68erow7_col11,#T_201c7fca_e872_11ea_9610_52540079f68erow11_col7{\n",
       "            background-color:  #4496c3;\n",
       "            color:  #000000;\n",
       "        }#T_201c7fca_e872_11ea_9610_52540079f68erow7_col14,#T_201c7fca_e872_11ea_9610_52540079f68erow14_col7{\n",
       "            background-color:  #8fb4d6;\n",
       "            color:  #000000;\n",
       "        }#T_201c7fca_e872_11ea_9610_52540079f68erow7_col15,#T_201c7fca_e872_11ea_9610_52540079f68erow15_col7{\n",
       "            background-color:  #d4d4e8;\n",
       "            color:  #000000;\n",
       "        }#T_201c7fca_e872_11ea_9610_52540079f68erow8_col9,#T_201c7fca_e872_11ea_9610_52540079f68erow9_col8{\n",
       "            background-color:  #1077b4;\n",
       "            color:  #f1f1f1;\n",
       "        }#T_201c7fca_e872_11ea_9610_52540079f68erow8_col10,#T_201c7fca_e872_11ea_9610_52540079f68erow10_col8{\n",
       "            background-color:  #056caa;\n",
       "            color:  #f1f1f1;\n",
       "        }#T_201c7fca_e872_11ea_9610_52540079f68erow8_col11,#T_201c7fca_e872_11ea_9610_52540079f68erow11_col8{\n",
       "            background-color:  #056fae;\n",
       "            color:  #f1f1f1;\n",
       "        }#T_201c7fca_e872_11ea_9610_52540079f68erow8_col13,#T_201c7fca_e872_11ea_9610_52540079f68erow13_col8{\n",
       "            background-color:  #a1bbda;\n",
       "            color:  #000000;\n",
       "        }#T_201c7fca_e872_11ea_9610_52540079f68erow8_col14,#T_201c7fca_e872_11ea_9610_52540079f68erow14_col8{\n",
       "            background-color:  #62a2cb;\n",
       "            color:  #000000;\n",
       "        }#T_201c7fca_e872_11ea_9610_52540079f68erow8_col15,#T_201c7fca_e872_11ea_9610_52540079f68erow15_col8{\n",
       "            background-color:  #e0dded;\n",
       "            color:  #000000;\n",
       "        }#T_201c7fca_e872_11ea_9610_52540079f68erow8_col16,#T_201c7fca_e872_11ea_9610_52540079f68erow16_col8{\n",
       "            background-color:  #0f76b3;\n",
       "            color:  #f1f1f1;\n",
       "        }#T_201c7fca_e872_11ea_9610_52540079f68erow9_col11,#T_201c7fca_e872_11ea_9610_52540079f68erow11_col9{\n",
       "            background-color:  #046097;\n",
       "            color:  #f1f1f1;\n",
       "        }#T_201c7fca_e872_11ea_9610_52540079f68erow9_col12,#T_201c7fca_e872_11ea_9610_52540079f68erow12_col9{\n",
       "            background-color:  #509ac6;\n",
       "            color:  #000000;\n",
       "        }#T_201c7fca_e872_11ea_9610_52540079f68erow9_col14,#T_201c7fca_e872_11ea_9610_52540079f68erow14_col9{\n",
       "            background-color:  #9fbad9;\n",
       "            color:  #000000;\n",
       "        }#T_201c7fca_e872_11ea_9610_52540079f68erow9_col15,#T_201c7fca_e872_11ea_9610_52540079f68erow15_col9{\n",
       "            background-color:  #e0deed;\n",
       "            color:  #000000;\n",
       "        }#T_201c7fca_e872_11ea_9610_52540079f68erow9_col16,#T_201c7fca_e872_11ea_9610_52540079f68erow16_col9{\n",
       "            background-color:  #045b8f;\n",
       "            color:  #f1f1f1;\n",
       "        }#T_201c7fca_e872_11ea_9610_52540079f68erow10_col11,#T_201c7fca_e872_11ea_9610_52540079f68erow11_col10{\n",
       "            background-color:  #04629a;\n",
       "            color:  #f1f1f1;\n",
       "        }#T_201c7fca_e872_11ea_9610_52540079f68erow10_col12,#T_201c7fca_e872_11ea_9610_52540079f68erow12_col10{\n",
       "            background-color:  #6ba5cd;\n",
       "            color:  #000000;\n",
       "        }#T_201c7fca_e872_11ea_9610_52540079f68erow10_col14,#T_201c7fca_e872_11ea_9610_52540079f68erow14_col10{\n",
       "            background-color:  #4a98c5;\n",
       "            color:  #000000;\n",
       "        }#T_201c7fca_e872_11ea_9610_52540079f68erow10_col16,#T_201c7fca_e872_11ea_9610_52540079f68erow16_col10{\n",
       "            background-color:  #04639b;\n",
       "            color:  #f1f1f1;\n",
       "        }#T_201c7fca_e872_11ea_9610_52540079f68erow11_col12,#T_201c7fca_e872_11ea_9610_52540079f68erow12_col11{\n",
       "            background-color:  #7dacd1;\n",
       "            color:  #000000;\n",
       "        }#T_201c7fca_e872_11ea_9610_52540079f68erow11_col13,#T_201c7fca_e872_11ea_9610_52540079f68erow13_col11{\n",
       "            background-color:  #b8c6e0;\n",
       "            color:  #000000;\n",
       "        }#T_201c7fca_e872_11ea_9610_52540079f68erow11_col16,#T_201c7fca_e872_11ea_9610_52540079f68erow16_col11{\n",
       "            background-color:  #056ba9;\n",
       "            color:  #f1f1f1;\n",
       "        }#T_201c7fca_e872_11ea_9610_52540079f68erow12_col14,#T_201c7fca_e872_11ea_9610_52540079f68erow14_col12{\n",
       "            background-color:  #bbc7e0;\n",
       "            color:  #000000;\n",
       "        }#T_201c7fca_e872_11ea_9610_52540079f68erow12_col16,#T_201c7fca_e872_11ea_9610_52540079f68erow16_col12{\n",
       "            background-color:  #167bb6;\n",
       "            color:  #000000;\n",
       "        }#T_201c7fca_e872_11ea_9610_52540079f68erow13_col14,#T_201c7fca_e872_11ea_9610_52540079f68erow14_col13{\n",
       "            background-color:  #94b6d7;\n",
       "            color:  #000000;\n",
       "        }#T_201c7fca_e872_11ea_9610_52540079f68erow13_col15,#T_201c7fca_e872_11ea_9610_52540079f68erow15_col13{\n",
       "            background-color:  #a2bcda;\n",
       "            color:  #000000;\n",
       "        }#T_201c7fca_e872_11ea_9610_52540079f68erow14_col16,#T_201c7fca_e872_11ea_9610_52540079f68erow16_col14{\n",
       "            background-color:  #cccfe5;\n",
       "            color:  #000000;\n",
       "        }</style><table id=\"T_201c7fca_e872_11ea_9610_52540079f68e\" ><thead>    <tr>        <th class=\"blank level0\" ></th>        <th class=\"col_heading level0 col0\" >Rt</th>        <th class=\"col_heading level0 col1\" >theta</th>        <th class=\"col_heading level0 col2\" >kappa</th>        <th class=\"col_heading level0 col3\" >rho</th>        <th class=\"col_heading level0 col4\" >sigma</th>        <th class=\"col_heading level0 col5\" >School_closing</th>        <th class=\"col_heading level0 col6\" >Workplace_closing</th>        <th class=\"col_heading level0 col7\" >Cancel_events</th>        <th class=\"col_heading level0 col8\" >Gatherings_restrictions</th>        <th class=\"col_heading level0 col9\" >Transport_closing</th>        <th class=\"col_heading level0 col10\" >Stay_home_restrictions</th>        <th class=\"col_heading level0 col11\" >Internal_movement_restrictions</th>        <th class=\"col_heading level0 col12\" >International_movement_restrictions</th>        <th class=\"col_heading level0 col13\" >Information_campaigns</th>        <th class=\"col_heading level0 col14\" >Testing_policy</th>        <th class=\"col_heading level0 col15\" >Contact_tracing</th>        <th class=\"col_heading level0 col16\" >Stringency_index</th>    </tr></thead><tbody>\n",
       "                <tr>\n",
       "                        <th id=\"T_201c7fca_e872_11ea_9610_52540079f68elevel0_row0\" class=\"row_heading level0 row0\" >Rt</th>\n",
       "                        <td id=\"T_201c7fca_e872_11ea_9610_52540079f68erow0_col0\" class=\"data row0 col0\" >1.000000</td>\n",
       "                        <td id=\"T_201c7fca_e872_11ea_9610_52540079f68erow0_col1\" class=\"data row0 col1\" >-0.191378</td>\n",
       "                        <td id=\"T_201c7fca_e872_11ea_9610_52540079f68erow0_col2\" class=\"data row0 col2\" >-0.009946</td>\n",
       "                        <td id=\"T_201c7fca_e872_11ea_9610_52540079f68erow0_col3\" class=\"data row0 col3\" >0.184813</td>\n",
       "                        <td id=\"T_201c7fca_e872_11ea_9610_52540079f68erow0_col4\" class=\"data row0 col4\" >-0.295963</td>\n",
       "                        <td id=\"T_201c7fca_e872_11ea_9610_52540079f68erow0_col5\" class=\"data row0 col5\" >-0.285152</td>\n",
       "                        <td id=\"T_201c7fca_e872_11ea_9610_52540079f68erow0_col6\" class=\"data row0 col6\" >-0.053836</td>\n",
       "                        <td id=\"T_201c7fca_e872_11ea_9610_52540079f68erow0_col7\" class=\"data row0 col7\" >0.048962</td>\n",
       "                        <td id=\"T_201c7fca_e872_11ea_9610_52540079f68erow0_col8\" class=\"data row0 col8\" >0.183010</td>\n",
       "                        <td id=\"T_201c7fca_e872_11ea_9610_52540079f68erow0_col9\" class=\"data row0 col9\" >-0.096608</td>\n",
       "                        <td id=\"T_201c7fca_e872_11ea_9610_52540079f68erow0_col10\" class=\"data row0 col10\" >-0.016893</td>\n",
       "                        <td id=\"T_201c7fca_e872_11ea_9610_52540079f68erow0_col11\" class=\"data row0 col11\" >0.025468</td>\n",
       "                        <td id=\"T_201c7fca_e872_11ea_9610_52540079f68erow0_col12\" class=\"data row0 col12\" >-0.223633</td>\n",
       "                        <td id=\"T_201c7fca_e872_11ea_9610_52540079f68erow0_col13\" class=\"data row0 col13\" >0.024559</td>\n",
       "                        <td id=\"T_201c7fca_e872_11ea_9610_52540079f68erow0_col14\" class=\"data row0 col14\" >-0.078726</td>\n",
       "                        <td id=\"T_201c7fca_e872_11ea_9610_52540079f68erow0_col15\" class=\"data row0 col15\" >-0.239418</td>\n",
       "                        <td id=\"T_201c7fca_e872_11ea_9610_52540079f68erow0_col16\" class=\"data row0 col16\" >-0.096688</td>\n",
       "            </tr>\n",
       "            <tr>\n",
       "                        <th id=\"T_201c7fca_e872_11ea_9610_52540079f68elevel0_row1\" class=\"row_heading level0 row1\" >theta</th>\n",
       "                        <td id=\"T_201c7fca_e872_11ea_9610_52540079f68erow1_col0\" class=\"data row1 col0\" >-0.191378</td>\n",
       "                        <td id=\"T_201c7fca_e872_11ea_9610_52540079f68erow1_col1\" class=\"data row1 col1\" >1.000000</td>\n",
       "                        <td id=\"T_201c7fca_e872_11ea_9610_52540079f68erow1_col2\" class=\"data row1 col2\" >0.315196</td>\n",
       "                        <td id=\"T_201c7fca_e872_11ea_9610_52540079f68erow1_col3\" class=\"data row1 col3\" >0.059699</td>\n",
       "                        <td id=\"T_201c7fca_e872_11ea_9610_52540079f68erow1_col4\" class=\"data row1 col4\" >0.200120</td>\n",
       "                        <td id=\"T_201c7fca_e872_11ea_9610_52540079f68erow1_col5\" class=\"data row1 col5\" >0.146895</td>\n",
       "                        <td id=\"T_201c7fca_e872_11ea_9610_52540079f68erow1_col6\" class=\"data row1 col6\" >0.263189</td>\n",
       "                        <td id=\"T_201c7fca_e872_11ea_9610_52540079f68erow1_col7\" class=\"data row1 col7\" >0.121845</td>\n",
       "                        <td id=\"T_201c7fca_e872_11ea_9610_52540079f68erow1_col8\" class=\"data row1 col8\" >-0.107224</td>\n",
       "                        <td id=\"T_201c7fca_e872_11ea_9610_52540079f68erow1_col9\" class=\"data row1 col9\" >-0.062396</td>\n",
       "                        <td id=\"T_201c7fca_e872_11ea_9610_52540079f68erow1_col10\" class=\"data row1 col10\" >-0.083891</td>\n",
       "                        <td id=\"T_201c7fca_e872_11ea_9610_52540079f68erow1_col11\" class=\"data row1 col11\" >-0.077698</td>\n",
       "                        <td id=\"T_201c7fca_e872_11ea_9610_52540079f68erow1_col12\" class=\"data row1 col12\" >-0.111681</td>\n",
       "                        <td id=\"T_201c7fca_e872_11ea_9610_52540079f68erow1_col13\" class=\"data row1 col13\" >0.021800</td>\n",
       "                        <td id=\"T_201c7fca_e872_11ea_9610_52540079f68erow1_col14\" class=\"data row1 col14\" >-0.475737</td>\n",
       "                        <td id=\"T_201c7fca_e872_11ea_9610_52540079f68erow1_col15\" class=\"data row1 col15\" >-0.047517</td>\n",
       "                        <td id=\"T_201c7fca_e872_11ea_9610_52540079f68erow1_col16\" class=\"data row1 col16\" >0.198745</td>\n",
       "            </tr>\n",
       "            <tr>\n",
       "                        <th id=\"T_201c7fca_e872_11ea_9610_52540079f68elevel0_row2\" class=\"row_heading level0 row2\" >kappa</th>\n",
       "                        <td id=\"T_201c7fca_e872_11ea_9610_52540079f68erow2_col0\" class=\"data row2 col0\" >-0.009946</td>\n",
       "                        <td id=\"T_201c7fca_e872_11ea_9610_52540079f68erow2_col1\" class=\"data row2 col1\" >0.315196</td>\n",
       "                        <td id=\"T_201c7fca_e872_11ea_9610_52540079f68erow2_col2\" class=\"data row2 col2\" >1.000000</td>\n",
       "                        <td id=\"T_201c7fca_e872_11ea_9610_52540079f68erow2_col3\" class=\"data row2 col3\" >0.633527</td>\n",
       "                        <td id=\"T_201c7fca_e872_11ea_9610_52540079f68erow2_col4\" class=\"data row2 col4\" >0.377353</td>\n",
       "                        <td id=\"T_201c7fca_e872_11ea_9610_52540079f68erow2_col5\" class=\"data row2 col5\" >0.300775</td>\n",
       "                        <td id=\"T_201c7fca_e872_11ea_9610_52540079f68erow2_col6\" class=\"data row2 col6\" >0.461011</td>\n",
       "                        <td id=\"T_201c7fca_e872_11ea_9610_52540079f68erow2_col7\" class=\"data row2 col7\" >0.084320</td>\n",
       "                        <td id=\"T_201c7fca_e872_11ea_9610_52540079f68erow2_col8\" class=\"data row2 col8\" >-0.005977</td>\n",
       "                        <td id=\"T_201c7fca_e872_11ea_9610_52540079f68erow2_col9\" class=\"data row2 col9\" >0.164434</td>\n",
       "                        <td id=\"T_201c7fca_e872_11ea_9610_52540079f68erow2_col10\" class=\"data row2 col10\" >0.138991</td>\n",
       "                        <td id=\"T_201c7fca_e872_11ea_9610_52540079f68erow2_col11\" class=\"data row2 col11\" >0.113489</td>\n",
       "                        <td id=\"T_201c7fca_e872_11ea_9610_52540079f68erow2_col12\" class=\"data row2 col12\" >0.140995</td>\n",
       "                        <td id=\"T_201c7fca_e872_11ea_9610_52540079f68erow2_col13\" class=\"data row2 col13\" >-0.149141</td>\n",
       "                        <td id=\"T_201c7fca_e872_11ea_9610_52540079f68erow2_col14\" class=\"data row2 col14\" >-0.392606</td>\n",
       "                        <td id=\"T_201c7fca_e872_11ea_9610_52540079f68erow2_col15\" class=\"data row2 col15\" >-0.273809</td>\n",
       "                        <td id=\"T_201c7fca_e872_11ea_9610_52540079f68erow2_col16\" class=\"data row2 col16\" >0.379622</td>\n",
       "            </tr>\n",
       "            <tr>\n",
       "                        <th id=\"T_201c7fca_e872_11ea_9610_52540079f68elevel0_row3\" class=\"row_heading level0 row3\" >rho</th>\n",
       "                        <td id=\"T_201c7fca_e872_11ea_9610_52540079f68erow3_col0\" class=\"data row3 col0\" >0.184813</td>\n",
       "                        <td id=\"T_201c7fca_e872_11ea_9610_52540079f68erow3_col1\" class=\"data row3 col1\" >0.059699</td>\n",
       "                        <td id=\"T_201c7fca_e872_11ea_9610_52540079f68erow3_col2\" class=\"data row3 col2\" >0.633527</td>\n",
       "                        <td id=\"T_201c7fca_e872_11ea_9610_52540079f68erow3_col3\" class=\"data row3 col3\" >1.000000</td>\n",
       "                        <td id=\"T_201c7fca_e872_11ea_9610_52540079f68erow3_col4\" class=\"data row3 col4\" >0.563327</td>\n",
       "                        <td id=\"T_201c7fca_e872_11ea_9610_52540079f68erow3_col5\" class=\"data row3 col5\" >0.191219</td>\n",
       "                        <td id=\"T_201c7fca_e872_11ea_9610_52540079f68erow3_col6\" class=\"data row3 col6\" >0.125308</td>\n",
       "                        <td id=\"T_201c7fca_e872_11ea_9610_52540079f68erow3_col7\" class=\"data row3 col7\" >-0.151403</td>\n",
       "                        <td id=\"T_201c7fca_e872_11ea_9610_52540079f68erow3_col8\" class=\"data row3 col8\" >-0.115584</td>\n",
       "                        <td id=\"T_201c7fca_e872_11ea_9610_52540079f68erow3_col9\" class=\"data row3 col9\" >0.036477</td>\n",
       "                        <td id=\"T_201c7fca_e872_11ea_9610_52540079f68erow3_col10\" class=\"data row3 col10\" >0.039921</td>\n",
       "                        <td id=\"T_201c7fca_e872_11ea_9610_52540079f68erow3_col11\" class=\"data row3 col11\" >-0.009829</td>\n",
       "                        <td id=\"T_201c7fca_e872_11ea_9610_52540079f68erow3_col12\" class=\"data row3 col12\" >0.183834</td>\n",
       "                        <td id=\"T_201c7fca_e872_11ea_9610_52540079f68erow3_col13\" class=\"data row3 col13\" >-0.106171</td>\n",
       "                        <td id=\"T_201c7fca_e872_11ea_9610_52540079f68erow3_col14\" class=\"data row3 col14\" >-0.290336</td>\n",
       "                        <td id=\"T_201c7fca_e872_11ea_9610_52540079f68erow3_col15\" class=\"data row3 col15\" >-0.217484</td>\n",
       "                        <td id=\"T_201c7fca_e872_11ea_9610_52540079f68erow3_col16\" class=\"data row3 col16\" >0.168853</td>\n",
       "            </tr>\n",
       "            <tr>\n",
       "                        <th id=\"T_201c7fca_e872_11ea_9610_52540079f68elevel0_row4\" class=\"row_heading level0 row4\" >sigma</th>\n",
       "                        <td id=\"T_201c7fca_e872_11ea_9610_52540079f68erow4_col0\" class=\"data row4 col0\" >-0.295963</td>\n",
       "                        <td id=\"T_201c7fca_e872_11ea_9610_52540079f68erow4_col1\" class=\"data row4 col1\" >0.200120</td>\n",
       "                        <td id=\"T_201c7fca_e872_11ea_9610_52540079f68erow4_col2\" class=\"data row4 col2\" >0.377353</td>\n",
       "                        <td id=\"T_201c7fca_e872_11ea_9610_52540079f68erow4_col3\" class=\"data row4 col3\" >0.563327</td>\n",
       "                        <td id=\"T_201c7fca_e872_11ea_9610_52540079f68erow4_col4\" class=\"data row4 col4\" >1.000000</td>\n",
       "                        <td id=\"T_201c7fca_e872_11ea_9610_52540079f68erow4_col5\" class=\"data row4 col5\" >0.177360</td>\n",
       "                        <td id=\"T_201c7fca_e872_11ea_9610_52540079f68erow4_col6\" class=\"data row4 col6\" >-0.099601</td>\n",
       "                        <td id=\"T_201c7fca_e872_11ea_9610_52540079f68erow4_col7\" class=\"data row4 col7\" >-0.191244</td>\n",
       "                        <td id=\"T_201c7fca_e872_11ea_9610_52540079f68erow4_col8\" class=\"data row4 col8\" >-0.520242</td>\n",
       "                        <td id=\"T_201c7fca_e872_11ea_9610_52540079f68erow4_col9\" class=\"data row4 col9\" >-0.209277</td>\n",
       "                        <td id=\"T_201c7fca_e872_11ea_9610_52540079f68erow4_col10\" class=\"data row4 col10\" >-0.221852</td>\n",
       "                        <td id=\"T_201c7fca_e872_11ea_9610_52540079f68erow4_col11\" class=\"data row4 col11\" >-0.359218</td>\n",
       "                        <td id=\"T_201c7fca_e872_11ea_9610_52540079f68erow4_col12\" class=\"data row4 col12\" >0.090892</td>\n",
       "                        <td id=\"T_201c7fca_e872_11ea_9610_52540079f68erow4_col13\" class=\"data row4 col13\" >-0.177574</td>\n",
       "                        <td id=\"T_201c7fca_e872_11ea_9610_52540079f68erow4_col14\" class=\"data row4 col14\" >-0.329157</td>\n",
       "                        <td id=\"T_201c7fca_e872_11ea_9610_52540079f68erow4_col15\" class=\"data row4 col15\" >0.152428</td>\n",
       "                        <td id=\"T_201c7fca_e872_11ea_9610_52540079f68erow4_col16\" class=\"data row4 col16\" >-0.080687</td>\n",
       "            </tr>\n",
       "            <tr>\n",
       "                        <th id=\"T_201c7fca_e872_11ea_9610_52540079f68elevel0_row5\" class=\"row_heading level0 row5\" >School_closing</th>\n",
       "                        <td id=\"T_201c7fca_e872_11ea_9610_52540079f68erow5_col0\" class=\"data row5 col0\" >-0.285152</td>\n",
       "                        <td id=\"T_201c7fca_e872_11ea_9610_52540079f68erow5_col1\" class=\"data row5 col1\" >0.146895</td>\n",
       "                        <td id=\"T_201c7fca_e872_11ea_9610_52540079f68erow5_col2\" class=\"data row5 col2\" >0.300775</td>\n",
       "                        <td id=\"T_201c7fca_e872_11ea_9610_52540079f68erow5_col3\" class=\"data row5 col3\" >0.191219</td>\n",
       "                        <td id=\"T_201c7fca_e872_11ea_9610_52540079f68erow5_col4\" class=\"data row5 col4\" >0.177360</td>\n",
       "                        <td id=\"T_201c7fca_e872_11ea_9610_52540079f68erow5_col5\" class=\"data row5 col5\" >1.000000</td>\n",
       "                        <td id=\"T_201c7fca_e872_11ea_9610_52540079f68erow5_col6\" class=\"data row5 col6\" >0.546578</td>\n",
       "                        <td id=\"T_201c7fca_e872_11ea_9610_52540079f68erow5_col7\" class=\"data row5 col7\" >0.338759</td>\n",
       "                        <td id=\"T_201c7fca_e872_11ea_9610_52540079f68erow5_col8\" class=\"data row5 col8\" >0.108877</td>\n",
       "                        <td id=\"T_201c7fca_e872_11ea_9610_52540079f68erow5_col9\" class=\"data row5 col9\" >0.421654</td>\n",
       "                        <td id=\"T_201c7fca_e872_11ea_9610_52540079f68erow5_col10\" class=\"data row5 col10\" >0.438064</td>\n",
       "                        <td id=\"T_201c7fca_e872_11ea_9610_52540079f68erow5_col11\" class=\"data row5 col11\" >0.261841</td>\n",
       "                        <td id=\"T_201c7fca_e872_11ea_9610_52540079f68erow5_col12\" class=\"data row5 col12\" >0.521047</td>\n",
       "                        <td id=\"T_201c7fca_e872_11ea_9610_52540079f68erow5_col13\" class=\"data row5 col13\" >-0.035554</td>\n",
       "                        <td id=\"T_201c7fca_e872_11ea_9610_52540079f68erow5_col14\" class=\"data row5 col14\" >0.038462</td>\n",
       "                        <td id=\"T_201c7fca_e872_11ea_9610_52540079f68erow5_col15\" class=\"data row5 col15\" >-0.406359</td>\n",
       "                        <td id=\"T_201c7fca_e872_11ea_9610_52540079f68erow5_col16\" class=\"data row5 col16\" >0.637559</td>\n",
       "            </tr>\n",
       "            <tr>\n",
       "                        <th id=\"T_201c7fca_e872_11ea_9610_52540079f68elevel0_row6\" class=\"row_heading level0 row6\" >Workplace_closing</th>\n",
       "                        <td id=\"T_201c7fca_e872_11ea_9610_52540079f68erow6_col0\" class=\"data row6 col0\" >-0.053836</td>\n",
       "                        <td id=\"T_201c7fca_e872_11ea_9610_52540079f68erow6_col1\" class=\"data row6 col1\" >0.263189</td>\n",
       "                        <td id=\"T_201c7fca_e872_11ea_9610_52540079f68erow6_col2\" class=\"data row6 col2\" >0.461011</td>\n",
       "                        <td id=\"T_201c7fca_e872_11ea_9610_52540079f68erow6_col3\" class=\"data row6 col3\" >0.125308</td>\n",
       "                        <td id=\"T_201c7fca_e872_11ea_9610_52540079f68erow6_col4\" class=\"data row6 col4\" >-0.099601</td>\n",
       "                        <td id=\"T_201c7fca_e872_11ea_9610_52540079f68erow6_col5\" class=\"data row6 col5\" >0.546578</td>\n",
       "                        <td id=\"T_201c7fca_e872_11ea_9610_52540079f68erow6_col6\" class=\"data row6 col6\" >1.000000</td>\n",
       "                        <td id=\"T_201c7fca_e872_11ea_9610_52540079f68erow6_col7\" class=\"data row6 col7\" >0.396085</td>\n",
       "                        <td id=\"T_201c7fca_e872_11ea_9610_52540079f68erow6_col8\" class=\"data row6 col8\" >0.398259</td>\n",
       "                        <td id=\"T_201c7fca_e872_11ea_9610_52540079f68erow6_col9\" class=\"data row6 col9\" >0.457583</td>\n",
       "                        <td id=\"T_201c7fca_e872_11ea_9610_52540079f68erow6_col10\" class=\"data row6 col10\" >0.570640</td>\n",
       "                        <td id=\"T_201c7fca_e872_11ea_9610_52540079f68erow6_col11\" class=\"data row6 col11\" >0.485718</td>\n",
       "                        <td id=\"T_201c7fca_e872_11ea_9610_52540079f68erow6_col12\" class=\"data row6 col12\" >0.200398</td>\n",
       "                        <td id=\"T_201c7fca_e872_11ea_9610_52540079f68erow6_col13\" class=\"data row6 col13\" >-0.003537</td>\n",
       "                        <td id=\"T_201c7fca_e872_11ea_9610_52540079f68erow6_col14\" class=\"data row6 col14\" >0.044805</td>\n",
       "                        <td id=\"T_201c7fca_e872_11ea_9610_52540079f68erow6_col15\" class=\"data row6 col15\" >-0.476008</td>\n",
       "                        <td id=\"T_201c7fca_e872_11ea_9610_52540079f68erow6_col16\" class=\"data row6 col16\" >0.686952</td>\n",
       "            </tr>\n",
       "            <tr>\n",
       "                        <th id=\"T_201c7fca_e872_11ea_9610_52540079f68elevel0_row7\" class=\"row_heading level0 row7\" >Cancel_events</th>\n",
       "                        <td id=\"T_201c7fca_e872_11ea_9610_52540079f68erow7_col0\" class=\"data row7 col0\" >0.048962</td>\n",
       "                        <td id=\"T_201c7fca_e872_11ea_9610_52540079f68erow7_col1\" class=\"data row7 col1\" >0.121845</td>\n",
       "                        <td id=\"T_201c7fca_e872_11ea_9610_52540079f68erow7_col2\" class=\"data row7 col2\" >0.084320</td>\n",
       "                        <td id=\"T_201c7fca_e872_11ea_9610_52540079f68erow7_col3\" class=\"data row7 col3\" >-0.151403</td>\n",
       "                        <td id=\"T_201c7fca_e872_11ea_9610_52540079f68erow7_col4\" class=\"data row7 col4\" >-0.191244</td>\n",
       "                        <td id=\"T_201c7fca_e872_11ea_9610_52540079f68erow7_col5\" class=\"data row7 col5\" >0.338759</td>\n",
       "                        <td id=\"T_201c7fca_e872_11ea_9610_52540079f68erow7_col6\" class=\"data row7 col6\" >0.396085</td>\n",
       "                        <td id=\"T_201c7fca_e872_11ea_9610_52540079f68erow7_col7\" class=\"data row7 col7\" >1.000000</td>\n",
       "                        <td id=\"T_201c7fca_e872_11ea_9610_52540079f68erow7_col8\" class=\"data row7 col8\" >0.533490</td>\n",
       "                        <td id=\"T_201c7fca_e872_11ea_9610_52540079f68erow7_col9\" class=\"data row7 col9\" >0.359182</td>\n",
       "                        <td id=\"T_201c7fca_e872_11ea_9610_52540079f68erow7_col10\" class=\"data row7 col10\" >0.546686</td>\n",
       "                        <td id=\"T_201c7fca_e872_11ea_9610_52540079f68erow7_col11\" class=\"data row7 col11\" >0.382717</td>\n",
       "                        <td id=\"T_201c7fca_e872_11ea_9610_52540079f68erow7_col12\" class=\"data row7 col12\" >-0.004720</td>\n",
       "                        <td id=\"T_201c7fca_e872_11ea_9610_52540079f68erow7_col13\" class=\"data row7 col13\" >-0.014579</td>\n",
       "                        <td id=\"T_201c7fca_e872_11ea_9610_52540079f68erow7_col14\" class=\"data row7 col14\" >0.133611</td>\n",
       "                        <td id=\"T_201c7fca_e872_11ea_9610_52540079f68erow7_col15\" class=\"data row7 col15\" >-0.166429</td>\n",
       "                        <td id=\"T_201c7fca_e872_11ea_9610_52540079f68erow7_col16\" class=\"data row7 col16\" >0.532328</td>\n",
       "            </tr>\n",
       "            <tr>\n",
       "                        <th id=\"T_201c7fca_e872_11ea_9610_52540079f68elevel0_row8\" class=\"row_heading level0 row8\" >Gatherings_restrictions</th>\n",
       "                        <td id=\"T_201c7fca_e872_11ea_9610_52540079f68erow8_col0\" class=\"data row8 col0\" >0.183010</td>\n",
       "                        <td id=\"T_201c7fca_e872_11ea_9610_52540079f68erow8_col1\" class=\"data row8 col1\" >-0.107224</td>\n",
       "                        <td id=\"T_201c7fca_e872_11ea_9610_52540079f68erow8_col2\" class=\"data row8 col2\" >-0.005977</td>\n",
       "                        <td id=\"T_201c7fca_e872_11ea_9610_52540079f68erow8_col3\" class=\"data row8 col3\" >-0.115584</td>\n",
       "                        <td id=\"T_201c7fca_e872_11ea_9610_52540079f68erow8_col4\" class=\"data row8 col4\" >-0.520242</td>\n",
       "                        <td id=\"T_201c7fca_e872_11ea_9610_52540079f68erow8_col5\" class=\"data row8 col5\" >0.108877</td>\n",
       "                        <td id=\"T_201c7fca_e872_11ea_9610_52540079f68erow8_col6\" class=\"data row8 col6\" >0.398259</td>\n",
       "                        <td id=\"T_201c7fca_e872_11ea_9610_52540079f68erow8_col7\" class=\"data row8 col7\" >0.533490</td>\n",
       "                        <td id=\"T_201c7fca_e872_11ea_9610_52540079f68erow8_col8\" class=\"data row8 col8\" >1.000000</td>\n",
       "                        <td id=\"T_201c7fca_e872_11ea_9610_52540079f68erow8_col9\" class=\"data row8 col9\" >0.575475</td>\n",
       "                        <td id=\"T_201c7fca_e872_11ea_9610_52540079f68erow8_col10\" class=\"data row8 col10\" >0.653442</td>\n",
       "                        <td id=\"T_201c7fca_e872_11ea_9610_52540079f68erow8_col11\" class=\"data row8 col11\" >0.629742</td>\n",
       "                        <td id=\"T_201c7fca_e872_11ea_9610_52540079f68erow8_col12\" class=\"data row8 col12\" >0.113250</td>\n",
       "                        <td id=\"T_201c7fca_e872_11ea_9610_52540079f68erow8_col13\" class=\"data row8 col13\" >0.068103</td>\n",
       "                        <td id=\"T_201c7fca_e872_11ea_9610_52540079f68erow8_col14\" class=\"data row8 col14\" >0.294713</td>\n",
       "                        <td id=\"T_201c7fca_e872_11ea_9610_52540079f68erow8_col15\" class=\"data row8 col15\" >-0.246727</td>\n",
       "                        <td id=\"T_201c7fca_e872_11ea_9610_52540079f68erow8_col16\" class=\"data row8 col16\" >0.583631</td>\n",
       "            </tr>\n",
       "            <tr>\n",
       "                        <th id=\"T_201c7fca_e872_11ea_9610_52540079f68elevel0_row9\" class=\"row_heading level0 row9\" >Transport_closing</th>\n",
       "                        <td id=\"T_201c7fca_e872_11ea_9610_52540079f68erow9_col0\" class=\"data row9 col0\" >-0.096608</td>\n",
       "                        <td id=\"T_201c7fca_e872_11ea_9610_52540079f68erow9_col1\" class=\"data row9 col1\" >-0.062396</td>\n",
       "                        <td id=\"T_201c7fca_e872_11ea_9610_52540079f68erow9_col2\" class=\"data row9 col2\" >0.164434</td>\n",
       "                        <td id=\"T_201c7fca_e872_11ea_9610_52540079f68erow9_col3\" class=\"data row9 col3\" >0.036477</td>\n",
       "                        <td id=\"T_201c7fca_e872_11ea_9610_52540079f68erow9_col4\" class=\"data row9 col4\" >-0.209277</td>\n",
       "                        <td id=\"T_201c7fca_e872_11ea_9610_52540079f68erow9_col5\" class=\"data row9 col5\" >0.421654</td>\n",
       "                        <td id=\"T_201c7fca_e872_11ea_9610_52540079f68erow9_col6\" class=\"data row9 col6\" >0.457583</td>\n",
       "                        <td id=\"T_201c7fca_e872_11ea_9610_52540079f68erow9_col7\" class=\"data row9 col7\" >0.359182</td>\n",
       "                        <td id=\"T_201c7fca_e872_11ea_9610_52540079f68erow9_col8\" class=\"data row9 col8\" >0.575475</td>\n",
       "                        <td id=\"T_201c7fca_e872_11ea_9610_52540079f68erow9_col9\" class=\"data row9 col9\" >1.000000</td>\n",
       "                        <td id=\"T_201c7fca_e872_11ea_9610_52540079f68erow9_col10\" class=\"data row9 col10\" >0.634693</td>\n",
       "                        <td id=\"T_201c7fca_e872_11ea_9610_52540079f68erow9_col11\" class=\"data row9 col11\" >0.750614</td>\n",
       "                        <td id=\"T_201c7fca_e872_11ea_9610_52540079f68erow9_col12\" class=\"data row9 col12\" >0.350625</td>\n",
       "                        <td id=\"T_201c7fca_e872_11ea_9610_52540079f68erow9_col13\" class=\"data row9 col13\" >-0.079456</td>\n",
       "                        <td id=\"T_201c7fca_e872_11ea_9610_52540079f68erow9_col14\" class=\"data row9 col14\" >0.073769</td>\n",
       "                        <td id=\"T_201c7fca_e872_11ea_9610_52540079f68erow9_col15\" class=\"data row9 col15\" >-0.249798</td>\n",
       "                        <td id=\"T_201c7fca_e872_11ea_9610_52540079f68erow9_col16\" class=\"data row9 col16\" >0.792568</td>\n",
       "            </tr>\n",
       "            <tr>\n",
       "                        <th id=\"T_201c7fca_e872_11ea_9610_52540079f68elevel0_row10\" class=\"row_heading level0 row10\" >Stay_home_restrictions</th>\n",
       "                        <td id=\"T_201c7fca_e872_11ea_9610_52540079f68erow10_col0\" class=\"data row10 col0\" >-0.016893</td>\n",
       "                        <td id=\"T_201c7fca_e872_11ea_9610_52540079f68erow10_col1\" class=\"data row10 col1\" >-0.083891</td>\n",
       "                        <td id=\"T_201c7fca_e872_11ea_9610_52540079f68erow10_col2\" class=\"data row10 col2\" >0.138991</td>\n",
       "                        <td id=\"T_201c7fca_e872_11ea_9610_52540079f68erow10_col3\" class=\"data row10 col3\" >0.039921</td>\n",
       "                        <td id=\"T_201c7fca_e872_11ea_9610_52540079f68erow10_col4\" class=\"data row10 col4\" >-0.221852</td>\n",
       "                        <td id=\"T_201c7fca_e872_11ea_9610_52540079f68erow10_col5\" class=\"data row10 col5\" >0.438064</td>\n",
       "                        <td id=\"T_201c7fca_e872_11ea_9610_52540079f68erow10_col6\" class=\"data row10 col6\" >0.570640</td>\n",
       "                        <td id=\"T_201c7fca_e872_11ea_9610_52540079f68erow10_col7\" class=\"data row10 col7\" >0.546686</td>\n",
       "                        <td id=\"T_201c7fca_e872_11ea_9610_52540079f68erow10_col8\" class=\"data row10 col8\" >0.653442</td>\n",
       "                        <td id=\"T_201c7fca_e872_11ea_9610_52540079f68erow10_col9\" class=\"data row10 col9\" >0.634693</td>\n",
       "                        <td id=\"T_201c7fca_e872_11ea_9610_52540079f68erow10_col10\" class=\"data row10 col10\" >1.000000</td>\n",
       "                        <td id=\"T_201c7fca_e872_11ea_9610_52540079f68erow10_col11\" class=\"data row10 col11\" >0.734890</td>\n",
       "                        <td id=\"T_201c7fca_e872_11ea_9610_52540079f68erow10_col12\" class=\"data row10 col12\" >0.265989</td>\n",
       "                        <td id=\"T_201c7fca_e872_11ea_9610_52540079f68erow10_col13\" class=\"data row10 col13\" >0.061366</td>\n",
       "                        <td id=\"T_201c7fca_e872_11ea_9610_52540079f68erow10_col14\" class=\"data row10 col14\" >0.365398</td>\n",
       "                        <td id=\"T_201c7fca_e872_11ea_9610_52540079f68erow10_col15\" class=\"data row10 col15\" >-0.210758</td>\n",
       "                        <td id=\"T_201c7fca_e872_11ea_9610_52540079f68erow10_col16\" class=\"data row10 col16\" >0.728848</td>\n",
       "            </tr>\n",
       "            <tr>\n",
       "                        <th id=\"T_201c7fca_e872_11ea_9610_52540079f68elevel0_row11\" class=\"row_heading level0 row11\" >Internal_movement_restrictions</th>\n",
       "                        <td id=\"T_201c7fca_e872_11ea_9610_52540079f68erow11_col0\" class=\"data row11 col0\" >0.025468</td>\n",
       "                        <td id=\"T_201c7fca_e872_11ea_9610_52540079f68erow11_col1\" class=\"data row11 col1\" >-0.077698</td>\n",
       "                        <td id=\"T_201c7fca_e872_11ea_9610_52540079f68erow11_col2\" class=\"data row11 col2\" >0.113489</td>\n",
       "                        <td id=\"T_201c7fca_e872_11ea_9610_52540079f68erow11_col3\" class=\"data row11 col3\" >-0.009829</td>\n",
       "                        <td id=\"T_201c7fca_e872_11ea_9610_52540079f68erow11_col4\" class=\"data row11 col4\" >-0.359218</td>\n",
       "                        <td id=\"T_201c7fca_e872_11ea_9610_52540079f68erow11_col5\" class=\"data row11 col5\" >0.261841</td>\n",
       "                        <td id=\"T_201c7fca_e872_11ea_9610_52540079f68erow11_col6\" class=\"data row11 col6\" >0.485718</td>\n",
       "                        <td id=\"T_201c7fca_e872_11ea_9610_52540079f68erow11_col7\" class=\"data row11 col7\" >0.382717</td>\n",
       "                        <td id=\"T_201c7fca_e872_11ea_9610_52540079f68erow11_col8\" class=\"data row11 col8\" >0.629742</td>\n",
       "                        <td id=\"T_201c7fca_e872_11ea_9610_52540079f68erow11_col9\" class=\"data row11 col9\" >0.750614</td>\n",
       "                        <td id=\"T_201c7fca_e872_11ea_9610_52540079f68erow11_col10\" class=\"data row11 col10\" >0.734890</td>\n",
       "                        <td id=\"T_201c7fca_e872_11ea_9610_52540079f68erow11_col11\" class=\"data row11 col11\" >1.000000</td>\n",
       "                        <td id=\"T_201c7fca_e872_11ea_9610_52540079f68erow11_col12\" class=\"data row11 col12\" >0.205872</td>\n",
       "                        <td id=\"T_201c7fca_e872_11ea_9610_52540079f68erow11_col13\" class=\"data row11 col13\" >-0.029820</td>\n",
       "                        <td id=\"T_201c7fca_e872_11ea_9610_52540079f68erow11_col14\" class=\"data row11 col14\" >0.316167</td>\n",
       "                        <td id=\"T_201c7fca_e872_11ea_9610_52540079f68erow11_col15\" class=\"data row11 col15\" >-0.325005</td>\n",
       "                        <td id=\"T_201c7fca_e872_11ea_9610_52540079f68erow11_col16\" class=\"data row11 col16\" >0.657756</td>\n",
       "            </tr>\n",
       "            <tr>\n",
       "                        <th id=\"T_201c7fca_e872_11ea_9610_52540079f68elevel0_row12\" class=\"row_heading level0 row12\" >International_movement_restrictions</th>\n",
       "                        <td id=\"T_201c7fca_e872_11ea_9610_52540079f68erow12_col0\" class=\"data row12 col0\" >-0.223633</td>\n",
       "                        <td id=\"T_201c7fca_e872_11ea_9610_52540079f68erow12_col1\" class=\"data row12 col1\" >-0.111681</td>\n",
       "                        <td id=\"T_201c7fca_e872_11ea_9610_52540079f68erow12_col2\" class=\"data row12 col2\" >0.140995</td>\n",
       "                        <td id=\"T_201c7fca_e872_11ea_9610_52540079f68erow12_col3\" class=\"data row12 col3\" >0.183834</td>\n",
       "                        <td id=\"T_201c7fca_e872_11ea_9610_52540079f68erow12_col4\" class=\"data row12 col4\" >0.090892</td>\n",
       "                        <td id=\"T_201c7fca_e872_11ea_9610_52540079f68erow12_col5\" class=\"data row12 col5\" >0.521047</td>\n",
       "                        <td id=\"T_201c7fca_e872_11ea_9610_52540079f68erow12_col6\" class=\"data row12 col6\" >0.200398</td>\n",
       "                        <td id=\"T_201c7fca_e872_11ea_9610_52540079f68erow12_col7\" class=\"data row12 col7\" >-0.004720</td>\n",
       "                        <td id=\"T_201c7fca_e872_11ea_9610_52540079f68erow12_col8\" class=\"data row12 col8\" >0.113250</td>\n",
       "                        <td id=\"T_201c7fca_e872_11ea_9610_52540079f68erow12_col9\" class=\"data row12 col9\" >0.350625</td>\n",
       "                        <td id=\"T_201c7fca_e872_11ea_9610_52540079f68erow12_col10\" class=\"data row12 col10\" >0.265989</td>\n",
       "                        <td id=\"T_201c7fca_e872_11ea_9610_52540079f68erow12_col11\" class=\"data row12 col11\" >0.205872</td>\n",
       "                        <td id=\"T_201c7fca_e872_11ea_9610_52540079f68erow12_col12\" class=\"data row12 col12\" >1.000000</td>\n",
       "                        <td id=\"T_201c7fca_e872_11ea_9610_52540079f68erow12_col13\" class=\"data row12 col13\" >0.034782</td>\n",
       "                        <td id=\"T_201c7fca_e872_11ea_9610_52540079f68erow12_col14\" class=\"data row12 col14\" >-0.040662</td>\n",
       "                        <td id=\"T_201c7fca_e872_11ea_9610_52540079f68erow12_col15\" class=\"data row12 col15\" >-0.102861</td>\n",
       "                        <td id=\"T_201c7fca_e872_11ea_9610_52540079f68erow12_col16\" class=\"data row12 col16\" >0.551960</td>\n",
       "            </tr>\n",
       "            <tr>\n",
       "                        <th id=\"T_201c7fca_e872_11ea_9610_52540079f68elevel0_row13\" class=\"row_heading level0 row13\" >Information_campaigns</th>\n",
       "                        <td id=\"T_201c7fca_e872_11ea_9610_52540079f68erow13_col0\" class=\"data row13 col0\" >0.024559</td>\n",
       "                        <td id=\"T_201c7fca_e872_11ea_9610_52540079f68erow13_col1\" class=\"data row13 col1\" >0.021800</td>\n",
       "                        <td id=\"T_201c7fca_e872_11ea_9610_52540079f68erow13_col2\" class=\"data row13 col2\" >-0.149141</td>\n",
       "                        <td id=\"T_201c7fca_e872_11ea_9610_52540079f68erow13_col3\" class=\"data row13 col3\" >-0.106171</td>\n",
       "                        <td id=\"T_201c7fca_e872_11ea_9610_52540079f68erow13_col4\" class=\"data row13 col4\" >-0.177574</td>\n",
       "                        <td id=\"T_201c7fca_e872_11ea_9610_52540079f68erow13_col5\" class=\"data row13 col5\" >-0.035554</td>\n",
       "                        <td id=\"T_201c7fca_e872_11ea_9610_52540079f68erow13_col6\" class=\"data row13 col6\" >-0.003537</td>\n",
       "                        <td id=\"T_201c7fca_e872_11ea_9610_52540079f68erow13_col7\" class=\"data row13 col7\" >-0.014579</td>\n",
       "                        <td id=\"T_201c7fca_e872_11ea_9610_52540079f68erow13_col8\" class=\"data row13 col8\" >0.068103</td>\n",
       "                        <td id=\"T_201c7fca_e872_11ea_9610_52540079f68erow13_col9\" class=\"data row13 col9\" >-0.079456</td>\n",
       "                        <td id=\"T_201c7fca_e872_11ea_9610_52540079f68erow13_col10\" class=\"data row13 col10\" >0.061366</td>\n",
       "                        <td id=\"T_201c7fca_e872_11ea_9610_52540079f68erow13_col11\" class=\"data row13 col11\" >-0.029820</td>\n",
       "                        <td id=\"T_201c7fca_e872_11ea_9610_52540079f68erow13_col12\" class=\"data row13 col12\" >0.034782</td>\n",
       "                        <td id=\"T_201c7fca_e872_11ea_9610_52540079f68erow13_col13\" class=\"data row13 col13\" >1.000000</td>\n",
       "                        <td id=\"T_201c7fca_e872_11ea_9610_52540079f68erow13_col14\" class=\"data row13 col14\" >0.119607</td>\n",
       "                        <td id=\"T_201c7fca_e872_11ea_9610_52540079f68erow13_col15\" class=\"data row13 col15\" >0.062823</td>\n",
       "                        <td id=\"T_201c7fca_e872_11ea_9610_52540079f68erow13_col16\" class=\"data row13 col16\" >-0.000221</td>\n",
       "            </tr>\n",
       "            <tr>\n",
       "                        <th id=\"T_201c7fca_e872_11ea_9610_52540079f68elevel0_row14\" class=\"row_heading level0 row14\" >Testing_policy</th>\n",
       "                        <td id=\"T_201c7fca_e872_11ea_9610_52540079f68erow14_col0\" class=\"data row14 col0\" >-0.078726</td>\n",
       "                        <td id=\"T_201c7fca_e872_11ea_9610_52540079f68erow14_col1\" class=\"data row14 col1\" >-0.475737</td>\n",
       "                        <td id=\"T_201c7fca_e872_11ea_9610_52540079f68erow14_col2\" class=\"data row14 col2\" >-0.392606</td>\n",
       "                        <td id=\"T_201c7fca_e872_11ea_9610_52540079f68erow14_col3\" class=\"data row14 col3\" >-0.290336</td>\n",
       "                        <td id=\"T_201c7fca_e872_11ea_9610_52540079f68erow14_col4\" class=\"data row14 col4\" >-0.329157</td>\n",
       "                        <td id=\"T_201c7fca_e872_11ea_9610_52540079f68erow14_col5\" class=\"data row14 col5\" >0.038462</td>\n",
       "                        <td id=\"T_201c7fca_e872_11ea_9610_52540079f68erow14_col6\" class=\"data row14 col6\" >0.044805</td>\n",
       "                        <td id=\"T_201c7fca_e872_11ea_9610_52540079f68erow14_col7\" class=\"data row14 col7\" >0.133611</td>\n",
       "                        <td id=\"T_201c7fca_e872_11ea_9610_52540079f68erow14_col8\" class=\"data row14 col8\" >0.294713</td>\n",
       "                        <td id=\"T_201c7fca_e872_11ea_9610_52540079f68erow14_col9\" class=\"data row14 col9\" >0.073769</td>\n",
       "                        <td id=\"T_201c7fca_e872_11ea_9610_52540079f68erow14_col10\" class=\"data row14 col10\" >0.365398</td>\n",
       "                        <td id=\"T_201c7fca_e872_11ea_9610_52540079f68erow14_col11\" class=\"data row14 col11\" >0.316167</td>\n",
       "                        <td id=\"T_201c7fca_e872_11ea_9610_52540079f68erow14_col12\" class=\"data row14 col12\" >-0.040662</td>\n",
       "                        <td id=\"T_201c7fca_e872_11ea_9610_52540079f68erow14_col13\" class=\"data row14 col13\" >0.119607</td>\n",
       "                        <td id=\"T_201c7fca_e872_11ea_9610_52540079f68erow14_col14\" class=\"data row14 col14\" >1.000000</td>\n",
       "                        <td id=\"T_201c7fca_e872_11ea_9610_52540079f68erow14_col15\" class=\"data row14 col15\" >-0.018821</td>\n",
       "                        <td id=\"T_201c7fca_e872_11ea_9610_52540079f68erow14_col16\" class=\"data row14 col16\" >-0.119100</td>\n",
       "            </tr>\n",
       "            <tr>\n",
       "                        <th id=\"T_201c7fca_e872_11ea_9610_52540079f68elevel0_row15\" class=\"row_heading level0 row15\" >Contact_tracing</th>\n",
       "                        <td id=\"T_201c7fca_e872_11ea_9610_52540079f68erow15_col0\" class=\"data row15 col0\" >-0.239418</td>\n",
       "                        <td id=\"T_201c7fca_e872_11ea_9610_52540079f68erow15_col1\" class=\"data row15 col1\" >-0.047517</td>\n",
       "                        <td id=\"T_201c7fca_e872_11ea_9610_52540079f68erow15_col2\" class=\"data row15 col2\" >-0.273809</td>\n",
       "                        <td id=\"T_201c7fca_e872_11ea_9610_52540079f68erow15_col3\" class=\"data row15 col3\" >-0.217484</td>\n",
       "                        <td id=\"T_201c7fca_e872_11ea_9610_52540079f68erow15_col4\" class=\"data row15 col4\" >0.152428</td>\n",
       "                        <td id=\"T_201c7fca_e872_11ea_9610_52540079f68erow15_col5\" class=\"data row15 col5\" >-0.406359</td>\n",
       "                        <td id=\"T_201c7fca_e872_11ea_9610_52540079f68erow15_col6\" class=\"data row15 col6\" >-0.476008</td>\n",
       "                        <td id=\"T_201c7fca_e872_11ea_9610_52540079f68erow15_col7\" class=\"data row15 col7\" >-0.166429</td>\n",
       "                        <td id=\"T_201c7fca_e872_11ea_9610_52540079f68erow15_col8\" class=\"data row15 col8\" >-0.246727</td>\n",
       "                        <td id=\"T_201c7fca_e872_11ea_9610_52540079f68erow15_col9\" class=\"data row15 col9\" >-0.249798</td>\n",
       "                        <td id=\"T_201c7fca_e872_11ea_9610_52540079f68erow15_col10\" class=\"data row15 col10\" >-0.210758</td>\n",
       "                        <td id=\"T_201c7fca_e872_11ea_9610_52540079f68erow15_col11\" class=\"data row15 col11\" >-0.325005</td>\n",
       "                        <td id=\"T_201c7fca_e872_11ea_9610_52540079f68erow15_col12\" class=\"data row15 col12\" >-0.102861</td>\n",
       "                        <td id=\"T_201c7fca_e872_11ea_9610_52540079f68erow15_col13\" class=\"data row15 col13\" >0.062823</td>\n",
       "                        <td id=\"T_201c7fca_e872_11ea_9610_52540079f68erow15_col14\" class=\"data row15 col14\" >-0.018821</td>\n",
       "                        <td id=\"T_201c7fca_e872_11ea_9610_52540079f68erow15_col15\" class=\"data row15 col15\" >1.000000</td>\n",
       "                        <td id=\"T_201c7fca_e872_11ea_9610_52540079f68erow15_col16\" class=\"data row15 col16\" >-0.294428</td>\n",
       "            </tr>\n",
       "            <tr>\n",
       "                        <th id=\"T_201c7fca_e872_11ea_9610_52540079f68elevel0_row16\" class=\"row_heading level0 row16\" >Stringency_index</th>\n",
       "                        <td id=\"T_201c7fca_e872_11ea_9610_52540079f68erow16_col0\" class=\"data row16 col0\" >-0.096688</td>\n",
       "                        <td id=\"T_201c7fca_e872_11ea_9610_52540079f68erow16_col1\" class=\"data row16 col1\" >0.198745</td>\n",
       "                        <td id=\"T_201c7fca_e872_11ea_9610_52540079f68erow16_col2\" class=\"data row16 col2\" >0.379622</td>\n",
       "                        <td id=\"T_201c7fca_e872_11ea_9610_52540079f68erow16_col3\" class=\"data row16 col3\" >0.168853</td>\n",
       "                        <td id=\"T_201c7fca_e872_11ea_9610_52540079f68erow16_col4\" class=\"data row16 col4\" >-0.080687</td>\n",
       "                        <td id=\"T_201c7fca_e872_11ea_9610_52540079f68erow16_col5\" class=\"data row16 col5\" >0.637559</td>\n",
       "                        <td id=\"T_201c7fca_e872_11ea_9610_52540079f68erow16_col6\" class=\"data row16 col6\" >0.686952</td>\n",
       "                        <td id=\"T_201c7fca_e872_11ea_9610_52540079f68erow16_col7\" class=\"data row16 col7\" >0.532328</td>\n",
       "                        <td id=\"T_201c7fca_e872_11ea_9610_52540079f68erow16_col8\" class=\"data row16 col8\" >0.583631</td>\n",
       "                        <td id=\"T_201c7fca_e872_11ea_9610_52540079f68erow16_col9\" class=\"data row16 col9\" >0.792568</td>\n",
       "                        <td id=\"T_201c7fca_e872_11ea_9610_52540079f68erow16_col10\" class=\"data row16 col10\" >0.728848</td>\n",
       "                        <td id=\"T_201c7fca_e872_11ea_9610_52540079f68erow16_col11\" class=\"data row16 col11\" >0.657756</td>\n",
       "                        <td id=\"T_201c7fca_e872_11ea_9610_52540079f68erow16_col12\" class=\"data row16 col12\" >0.551960</td>\n",
       "                        <td id=\"T_201c7fca_e872_11ea_9610_52540079f68erow16_col13\" class=\"data row16 col13\" >-0.000221</td>\n",
       "                        <td id=\"T_201c7fca_e872_11ea_9610_52540079f68erow16_col14\" class=\"data row16 col14\" >-0.119100</td>\n",
       "                        <td id=\"T_201c7fca_e872_11ea_9610_52540079f68erow16_col15\" class=\"data row16 col15\" >-0.294428</td>\n",
       "                        <td id=\"T_201c7fca_e872_11ea_9610_52540079f68erow16_col16\" class=\"data row16 col16\" >1.000000</td>\n",
       "            </tr>\n",
       "    </tbody></table>"
      ],
      "text/plain": [
       "<pandas.io.formats.style.Styler at 0x7fa448820b80>"
      ]
     },
     "execution_count": 21,
     "metadata": {},
     "output_type": "execute_result"
    }
   ],
   "source": [
    "# Correlation\n",
    "df = track_df.copy()\n",
    "df.corr().style.background_gradient(axis=None)"
   ]
  },
  {
   "cell_type": "code",
   "execution_count": 22,
   "metadata": {
    "collapsed": false
   },
   "outputs": [
    {
     "data": {
      "image/png": "[encoded data removed]",
      "text/plain": [
       "<Figure size 432x288 with 1 Axes>"
      ]
     },
     "metadata": {},
     "output_type": "display_data"
    }
   ],
   "source": [
    "# Scatter plot of Stringency index and Rt\n",
    "df = track_df.copy()\n",
    "sns.scatterplot(data=df, x=\"Stringency_index\", y=\"Rt\", hue=\"Country\", legend=\"brief\", marker=\"+\")\n",
    "bbox_to_anchor=(1.02, 0)\n",
    "bbox_loc=\"lower left\"\n",
    "plt.legend(bbox_to_anchor=bbox_to_anchor, loc=bbox_loc, borderaxespad=0)\n",
    "plt.title(\"Relationship of Stringency index and reproduction number\")\n",
    "plt.ylabel(\"Reproduction number\")\n",
    "plt.xlabel(\"Stringency index\")\n",
    "plt.show()"
   ]
  }
 ],
 "metadata": {
  "kernelspec": {
   "display_name": "Python 3.8.2 64-bit ('.venv': venv)",
   "name": "python_defaultSpec_1597669925034"
  },
  "language_info": {
   "codemirror_mode": {
    "name": "ipython",
    "version": 3
   },
   "file_extension": ".py",
   "mimetype": "text/x-python",
   "name": "python",
   "nbconvert_exporter": "python",
   "pygments_lexer": "ipython3",
   "version": "3.8.2-final"
  }
 },
 "nbformat": 4,
 "nbformat_minor": 4
}
