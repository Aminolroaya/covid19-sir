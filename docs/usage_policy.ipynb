{
 "cells": [
  {
   "cell_type": "markdown",
   "metadata": {},
   "source": [
    "# Usage (details: policy measures)\n",
    "Here, we will analyse the relationship of policy measures and parameter values of SIR-derived ODE models. Policy measures are tracked by [Oxford Covid-19 Government Response Tracker (OxCGRT)](https://github.com/OxCGRT/covid-policy-tracker)."
   ]
  },
  {
   "cell_type": "markdown",
   "metadata": {},
   "source": [
    "## Preparation"
   ]
  },
  {
   "cell_type": "code",
   "execution_count": 1,
   "metadata": {
    "collapsed": false
   },
   "outputs": [],
   "source": [
    "# Standard users\n",
    "# !pip install covsirphy\n",
    "# Developers (Note: this notebook is in example directory)\n",
    "import os\n",
    "os.chdir(\"../\")"
   ]
  },
  {
   "cell_type": "code",
   "execution_count": 2,
   "metadata": {
    "collapsed": false
   },
   "outputs": [],
   "source": [
    "from pprint import pprint"
   ]
  },
  {
   "cell_type": "code",
   "execution_count": 3,
   "metadata": {
    "collapsed": false
   },
   "outputs": [
    {
     "data": {
      "text/plain": [
       "'2.8.3'"
      ]
     },
     "execution_count": 3,
     "metadata": {},
     "output_type": "execute_result"
    }
   ],
   "source": [
    "import covsirphy as cs\n",
    "cs.__version__"
   ]
  },
  {
   "cell_type": "code",
   "execution_count": 4,
   "metadata": {
    "collapsed": false,
    "tags": []
   },
   "outputs": [
    {
     "name": "stdout",
     "output_type": "stream",
     "text": [
      "(Secondary source) Guidotti, E., Ardia, D., (2020), \"COVID-19 Data Hub\", Journal of Open Source Software 5(51):2376, doi: 10.21105/joss.02376.\n",
      "We can get Citation list of primary sources with DataLoader(...).covid19dh_citation"
     ]
    },
    {
     "name": "stdout",
     "output_type": "stream",
     "text": [
      "\n"
     ]
    }
   ],
   "source": [
    "# Standard users and developers\n",
    "data_loader = cs.DataLoader(\"input\")\n",
    "# The number of cases (JHU style)\n",
    "jhu_data = data_loader.jhu(verbose=False)\n",
    "# Population in each country\n",
    "population_data = data_loader.population(verbose=False)\n",
    "# Government Response Tracker (OxCGRT)\n",
    "oxcgrt_data = data_loader.oxcgrt(verbose=False)\n",
    "# Description/citation\n",
    "print(oxcgrt_data.citation)"
   ]
  },
  {
   "cell_type": "markdown",
   "metadata": {},
   "source": [
    "## Class for policy measure analysis\n",
    "We will `PolicyMeasures` class to find relationship of policy measures and parameter values of SIR-derived ODE models."
   ]
  },
  {
   "cell_type": "code",
   "execution_count": 5,
   "metadata": {
    "collapsed": false,
    "tags": []
   },
   "outputs": [
    {
     "data": {
      "text/plain": [
       "184"
      ]
     },
     "execution_count": 5,
     "metadata": {},
     "output_type": "execute_result"
    }
   ],
   "source": [
    "# Create analyser with tau value 360 [min] (can be changed)\n",
    "analyser = cs.PolicyMeasures(jhu_data, population_data, oxcgrt_data, tau=360)\n",
    "# The number of registerd countries\n",
    "len(analyser.countries)"
   ]
  },
  {
   "cell_type": "code",
   "execution_count": 6,
   "metadata": {
    "collapsed": false
   },
   "outputs": [
    {
     "data": {
      "text/plain": [
       "covsirphy.analysis.scenario.Scenario"
      ]
     },
     "execution_count": 6,
     "metadata": {},
     "output_type": "execute_result"
    }
   ],
   "source": [
    "# We can get Scenario instance for detailed scenario analysis\n",
    "type(analyser.scenario(\"Japan\"))"
   ]
  },
  {
   "cell_type": "markdown",
   "metadata": {},
   "source": [
    "## Set phases with S-R trend analysis\n",
    "We will perform S-R trend analysis to set phases in all countries. Countries which do not have **9th phases** will be un-registered for the next analysis. This number will be adjusted for your analysis."
   ]
  },
  {
   "cell_type": "code",
   "execution_count": 7,
   "metadata": {
    "collapsed": false
   },
   "outputs": [
    {
     "name": "stdout",
     "output_type": "stream",
     "text": [
      "{"
     ]
    },
    {
     "name": "stdout",
     "output_type": "stream",
     "text": [
      "3"
     ]
    },
    {
     "name": "stdout",
     "output_type": "stream",
     "text": [
      ": "
     ]
    },
    {
     "name": "stdout",
     "output_type": "stream",
     "text": [
      "['Myanmar', 'Dominica', 'Tanzania']"
     ]
    },
    {
     "name": "stdout",
     "output_type": "stream",
     "text": [
      ",\n",
      " "
     ]
    },
    {
     "name": "stdout",
     "output_type": "stream",
     "text": [
      "4"
     ]
    },
    {
     "name": "stdout",
     "output_type": "stream",
     "text": [
      ": "
     ]
    },
    {
     "name": "stdout",
     "output_type": "stream",
     "text": [
      "['Trinidad and Tobago', 'Antigua and Barbuda', 'Belize', 'Fiji']"
     ]
    },
    {
     "name": "stdout",
     "output_type": "stream",
     "text": [
      ",\n",
      " "
     ]
    },
    {
     "name": "stdout",
     "output_type": "stream",
     "text": [
      "5"
     ]
    },
    {
     "name": "stdout",
     "output_type": "stream",
     "text": [
      ": "
     ]
    },
    {
     "name": "stdout",
     "output_type": "stream",
     "text": [
      "["
     ]
    },
    {
     "name": "stdout",
     "output_type": "stream",
     "text": [
      "'Grenada'"
     ]
    },
    {
     "name": "stdout",
     "output_type": "stream",
     "text": [
      ", "
     ]
    },
    {
     "name": "stdout",
     "output_type": "stream",
     "text": [
      "'Tunisia'"
     ]
    },
    {
     "name": "stdout",
     "output_type": "stream",
     "text": [
      ", "
     ]
    },
    {
     "name": "stdout",
     "output_type": "stream",
     "text": [
      "'Seychelles'"
     ]
    },
    {
     "name": "stdout",
     "output_type": "stream",
     "text": [
      ", "
     ]
    },
    {
     "name": "stdout",
     "output_type": "stream",
     "text": [
      "'Lesotho'"
     ]
    },
    {
     "name": "stdout",
     "output_type": "stream",
     "text": [
      ", "
     ]
    },
    {
     "name": "stdout",
     "output_type": "stream",
     "text": [
      "'Mauritius'"
     ]
    },
    {
     "name": "stdout",
     "output_type": "stream",
     "text": [
      ", "
     ]
    },
    {
     "name": "stdout",
     "output_type": "stream",
     "text": [
      "'Libya'"
     ]
    },
    {
     "name": "stdout",
     "output_type": "stream",
     "text": [
      ",\n",
      "     "
     ]
    },
    {
     "name": "stdout",
     "output_type": "stream",
     "text": [
      "'Bahamas'"
     ]
    },
    {
     "name": "stdout",
     "output_type": "stream",
     "text": [
      ", "
     ]
    },
    {
     "name": "stdout",
     "output_type": "stream",
     "text": [
      "'Brunei'"
     ]
    },
    {
     "name": "stdout",
     "output_type": "stream",
     "text": [
      ", "
     ]
    },
    {
     "name": "stdout",
     "output_type": "stream",
     "text": [
      "'Uganda'"
     ]
    },
    {
     "name": "stdout",
     "output_type": "stream",
     "text": [
      ", "
     ]
    },
    {
     "name": "stdout",
     "output_type": "stream",
     "text": [
      "'Papua New Guinea'"
     ]
    },
    {
     "name": "stdout",
     "output_type": "stream",
     "text": [
      ", "
     ]
    },
    {
     "name": "stdout",
     "output_type": "stream",
     "text": [
      "'Namibia'"
     ]
    },
    {
     "name": "stdout",
     "output_type": "stream",
     "text": [
      "]"
     ]
    },
    {
     "name": "stdout",
     "output_type": "stream",
     "text": [
      ",\n",
      " "
     ]
    },
    {
     "name": "stdout",
     "output_type": "stream",
     "text": [
      "6"
     ]
    },
    {
     "name": "stdout",
     "output_type": "stream",
     "text": [
      ": "
     ]
    },
    {
     "name": "stdout",
     "output_type": "stream",
     "text": [
      "["
     ]
    },
    {
     "name": "stdout",
     "output_type": "stream",
     "text": [
      "'Cambodia'"
     ]
    },
    {
     "name": "stdout",
     "output_type": "stream",
     "text": [
      ", "
     ]
    },
    {
     "name": "stdout",
     "output_type": "stream",
     "text": [
      "'Venezuela'"
     ]
    },
    {
     "name": "stdout",
     "output_type": "stream",
     "text": [
      ", "
     ]
    },
    {
     "name": "stdout",
     "output_type": "stream",
     "text": [
      "'Croatia'"
     ]
    },
    {
     "name": "stdout",
     "output_type": "stream",
     "text": [
      ", "
     ]
    },
    {
     "name": "stdout",
     "output_type": "stream",
     "text": [
      "'Guyana'"
     ]
    },
    {
     "name": "stdout",
     "output_type": "stream",
     "text": [
      ", "
     ]
    },
    {
     "name": "stdout",
     "output_type": "stream",
     "text": [
      "'Paraguay'"
     ]
    },
    {
     "name": "stdout",
     "output_type": "stream",
     "text": [
      ", "
     ]
    },
    {
     "name": "stdout",
     "output_type": "stream",
     "text": [
      "'Monaco'"
     ]
    },
    {
     "name": "stdout",
     "output_type": "stream",
     "text": [
      ",\n",
      "     "
     ]
    },
    {
     "name": "stdout",
     "output_type": "stream",
     "text": [
      "'Kyrgyzstan'"
     ]
    },
    {
     "name": "stdout",
     "output_type": "stream",
     "text": [
      ", "
     ]
    },
    {
     "name": "stdout",
     "output_type": "stream",
     "text": [
      "'Ireland'"
     ]
    },
    {
     "name": "stdout",
     "output_type": "stream",
     "text": [
      ", "
     ]
    },
    {
     "name": "stdout",
     "output_type": "stream",
     "text": [
      "'Yemen'"
     ]
    },
    {
     "name": "stdout",
     "output_type": "stream",
     "text": [
      ", "
     ]
    },
    {
     "name": "stdout",
     "output_type": "stream",
     "text": [
      "'Lebanon'"
     ]
    },
    {
     "name": "stdout",
     "output_type": "stream",
     "text": [
      ", "
     ]
    },
    {
     "name": "stdout",
     "output_type": "stream",
     "text": [
      "'Rwanda'"
     ]
    },
    {
     "name": "stdout",
     "output_type": "stream",
     "text": [
      ",\n",
      "     "
     ]
    },
    {
     "name": "stdout",
     "output_type": "stream",
     "text": [
      "'Central African Republic'"
     ]
    },
    {
     "name": "stdout",
     "output_type": "stream",
     "text": [
      ", "
     ]
    },
    {
     "name": "stdout",
     "output_type": "stream",
     "text": [
      "'Jordan'"
     ]
    },
    {
     "name": "stdout",
     "output_type": "stream",
     "text": [
      ", "
     ]
    },
    {
     "name": "stdout",
     "output_type": "stream",
     "text": [
      "'Gambia'"
     ]
    },
    {
     "name": "stdout",
     "output_type": "stream",
     "text": [
      ", "
     ]
    },
    {
     "name": "stdout",
     "output_type": "stream",
     "text": [
      "'Jamaica'"
     ]
    },
    {
     "name": "stdout",
     "output_type": "stream",
     "text": [
      ", "
     ]
    },
    {
     "name": "stdout",
     "output_type": "stream",
     "text": [
      "'Netherlands'"
     ]
    },
    {
     "name": "stdout",
     "output_type": "stream",
     "text": [
      ",\n",
      "     "
     ]
    },
    {
     "name": "stdout",
     "output_type": "stream",
     "text": [
      "'Sao Tome and Principe'"
     ]
    },
    {
     "name": "stdout",
     "output_type": "stream",
     "text": [
      ", "
     ]
    },
    {
     "name": "stdout",
     "output_type": "stream",
     "text": [
      "'Equatorial Guinea'"
     ]
    },
    {
     "name": "stdout",
     "output_type": "stream",
     "text": [
      ", "
     ]
    },
    {
     "name": "stdout",
     "output_type": "stream",
     "text": [
      "'Vietnam'"
     ]
    },
    {
     "name": "stdout",
     "output_type": "stream",
     "text": [
      ", "
     ]
    },
    {
     "name": "stdout",
     "output_type": "stream",
     "text": [
      "'Syria'"
     ]
    },
    {
     "name": "stdout",
     "output_type": "stream",
     "text": [
      ",\n",
      "     "
     ]
    },
    {
     "name": "stdout",
     "output_type": "stream",
     "text": [
      "'Kosovo'"
     ]
    },
    {
     "name": "stdout",
     "output_type": "stream",
     "text": [
      "]"
     ]
    },
    {
     "name": "stdout",
     "output_type": "stream",
     "text": [
      ",\n",
      " "
     ]
    },
    {
     "name": "stdout",
     "output_type": "stream",
     "text": [
      "7"
     ]
    },
    {
     "name": "stdout",
     "output_type": "stream",
     "text": [
      ": "
     ]
    },
    {
     "name": "stdout",
     "output_type": "stream",
     "text": [
      "["
     ]
    },
    {
     "name": "stdout",
     "output_type": "stream",
     "text": [
      "'Liechtenstein'"
     ]
    },
    {
     "name": "stdout",
     "output_type": "stream",
     "text": [
      ", "
     ]
    },
    {
     "name": "stdout",
     "output_type": "stream",
     "text": [
      "'Kazakhstan'"
     ]
    },
    {
     "name": "stdout",
     "output_type": "stream",
     "text": [
      ", "
     ]
    },
    {
     "name": "stdout",
     "output_type": "stream",
     "text": [
      "'Morocco'"
     ]
    },
    {
     "name": "stdout",
     "output_type": "stream",
     "text": [
      ", "
     ]
    },
    {
     "name": "stdout",
     "output_type": "stream",
     "text": [
      "'Spain'"
     ]
    },
    {
     "name": "stdout",
     "output_type": "stream",
     "text": [
      ", "
     ]
    },
    {
     "name": "stdout",
     "output_type": "stream",
     "text": [
      "'Eritrea'"
     ]
    },
    {
     "name": "stdout",
     "output_type": "stream",
     "text": [
      ",\n",
      "     "
     ]
    },
    {
     "name": "stdout",
     "output_type": "stream",
     "text": [
      "'Saint Lucia'"
     ]
    },
    {
     "name": "stdout",
     "output_type": "stream",
     "text": [
      ", "
     ]
    },
    {
     "name": "stdout",
     "output_type": "stream",
     "text": [
      "'Malawi'"
     ]
    },
    {
     "name": "stdout",
     "output_type": "stream",
     "text": [
      ", "
     ]
    },
    {
     "name": "stdout",
     "output_type": "stream",
     "text": [
      "'Iceland'"
     ]
    },
    {
     "name": "stdout",
     "output_type": "stream",
     "text": [
      ", "
     ]
    },
    {
     "name": "stdout",
     "output_type": "stream",
     "text": [
      "'Comoros'"
     ]
    },
    {
     "name": "stdout",
     "output_type": "stream",
     "text": [
      ", "
     ]
    },
    {
     "name": "stdout",
     "output_type": "stream",
     "text": [
      "'Botswana'"
     ]
    },
    {
     "name": "stdout",
     "output_type": "stream",
     "text": [
      ", "
     ]
    },
    {
     "name": "stdout",
     "output_type": "stream",
     "text": [
      "'Malta'"
     ]
    },
    {
     "name": "stdout",
     "output_type": "stream",
     "text": [
      ",\n",
      "     "
     ]
    },
    {
     "name": "stdout",
     "output_type": "stream",
     "text": [
      "'Kenya'"
     ]
    },
    {
     "name": "stdout",
     "output_type": "stream",
     "text": [
      ", "
     ]
    },
    {
     "name": "stdout",
     "output_type": "stream",
     "text": [
      "'Bhutan'"
     ]
    },
    {
     "name": "stdout",
     "output_type": "stream",
     "text": [
      ", "
     ]
    },
    {
     "name": "stdout",
     "output_type": "stream",
     "text": [
      "'Cyprus'"
     ]
    },
    {
     "name": "stdout",
     "output_type": "stream",
     "text": [
      ", "
     ]
    },
    {
     "name": "stdout",
     "output_type": "stream",
     "text": [
      "'Ethiopia'"
     ]
    },
    {
     "name": "stdout",
     "output_type": "stream",
     "text": [
      ", "
     ]
    },
    {
     "name": "stdout",
     "output_type": "stream",
     "text": [
      "'Colombia'"
     ]
    },
    {
     "name": "stdout",
     "output_type": "stream",
     "text": [
      ", "
     ]
    },
    {
     "name": "stdout",
     "output_type": "stream",
     "text": [
      "'San Marino'"
     ]
    },
    {
     "name": "stdout",
     "output_type": "stream",
     "text": [
      ",\n",
      "     "
     ]
    },
    {
     "name": "stdout",
     "output_type": "stream",
     "text": [
      "'Barbados'"
     ]
    },
    {
     "name": "stdout",
     "output_type": "stream",
     "text": [
      ", "
     ]
    },
    {
     "name": "stdout",
     "output_type": "stream",
     "text": [
      "'Mongolia'"
     ]
    },
    {
     "name": "stdout",
     "output_type": "stream",
     "text": [
      ", "
     ]
    },
    {
     "name": "stdout",
     "output_type": "stream",
     "text": [
      "'Bosnia and Herzegovina'"
     ]
    },
    {
     "name": "stdout",
     "output_type": "stream",
     "text": [
      ", "
     ]
    },
    {
     "name": "stdout",
     "output_type": "stream",
     "text": [
      "'South Sudan'"
     ]
    },
    {
     "name": "stdout",
     "output_type": "stream",
     "text": [
      ", "
     ]
    },
    {
     "name": "stdout",
     "output_type": "stream",
     "text": [
      "'Nepal'"
     ]
    },
    {
     "name": "stdout",
     "output_type": "stream",
     "text": [
      ",\n",
      "     "
     ]
    },
    {
     "name": "stdout",
     "output_type": "stream",
     "text": [
      "'Zimbabwe'"
     ]
    },
    {
     "name": "stdout",
     "output_type": "stream",
     "text": [
      ", "
     ]
    },
    {
     "name": "stdout",
     "output_type": "stream",
     "text": [
      "'Norway'"
     ]
    },
    {
     "name": "stdout",
     "output_type": "stream",
     "text": [
      ", "
     ]
    },
    {
     "name": "stdout",
     "output_type": "stream",
     "text": [
      "'Palestine'"
     ]
    },
    {
     "name": "stdout",
     "output_type": "stream",
     "text": [
      ", "
     ]
    },
    {
     "name": "stdout",
     "output_type": "stream",
     "text": [
      "'Saint Vincent and the Grenadines'"
     ]
    },
    {
     "name": "stdout",
     "output_type": "stream",
     "text": [
      ",\n",
      "     "
     ]
    },
    {
     "name": "stdout",
     "output_type": "stream",
     "text": [
      "'Afghanistan'"
     ]
    },
    {
     "name": "stdout",
     "output_type": "stream",
     "text": [
      ", "
     ]
    },
    {
     "name": "stdout",
     "output_type": "stream",
     "text": [
      "'New Zealand'"
     ]
    },
    {
     "name": "stdout",
     "output_type": "stream",
     "text": [
      ", "
     ]
    },
    {
     "name": "stdout",
     "output_type": "stream",
     "text": [
      "'Thailand'"
     ]
    },
    {
     "name": "stdout",
     "output_type": "stream",
     "text": [
      ", "
     ]
    },
    {
     "name": "stdout",
     "output_type": "stream",
     "text": [
      "'Zambia'"
     ]
    },
    {
     "name": "stdout",
     "output_type": "stream",
     "text": [
      ", "
     ]
    },
    {
     "name": "stdout",
     "output_type": "stream",
     "text": [
      "'Argentina'"
     ]
    },
    {
     "name": "stdout",
     "output_type": "stream",
     "text": [
      ",\n",
      "     "
     ]
    },
    {
     "name": "stdout",
     "output_type": "stream",
     "text": [
      "'Philippines'"
     ]
    },
    {
     "name": "stdout",
     "output_type": "stream",
     "text": [
      ", "
     ]
    },
    {
     "name": "stdout",
     "output_type": "stream",
     "text": [
      "'Madagascar'"
     ]
    },
    {
     "name": "stdout",
     "output_type": "stream",
     "text": [
      ", "
     ]
    },
    {
     "name": "stdout",
     "output_type": "stream",
     "text": [
      "'Australia'"
     ]
    },
    {
     "name": "stdout",
     "output_type": "stream",
     "text": [
      ", "
     ]
    },
    {
     "name": "stdout",
     "output_type": "stream",
     "text": [
      "'Costa Rica'"
     ]
    },
    {
     "name": "stdout",
     "output_type": "stream",
     "text": [
      "]"
     ]
    },
    {
     "name": "stdout",
     "output_type": "stream",
     "text": [
      ",\n",
      " "
     ]
    },
    {
     "name": "stdout",
     "output_type": "stream",
     "text": [
      "8"
     ]
    },
    {
     "name": "stdout",
     "output_type": "stream",
     "text": [
      ": "
     ]
    },
    {
     "name": "stdout",
     "output_type": "stream",
     "text": [
      "["
     ]
    },
    {
     "name": "stdout",
     "output_type": "stream",
     "text": [
      "'Tajikistan'"
     ]
    },
    {
     "name": "stdout",
     "output_type": "stream",
     "text": [
      ", "
     ]
    },
    {
     "name": "stdout",
     "output_type": "stream",
     "text": [
      "'Congo'"
     ]
    },
    {
     "name": "stdout",
     "output_type": "stream",
     "text": [
      ", "
     ]
    },
    {
     "name": "stdout",
     "output_type": "stream",
     "text": [
      "'Niger'"
     ]
    },
    {
     "name": "stdout",
     "output_type": "stream",
     "text": [
      ", "
     ]
    },
    {
     "name": "stdout",
     "output_type": "stream",
     "text": [
      "'Sri Lanka'"
     ]
    },
    {
     "name": "stdout",
     "output_type": "stream",
     "text": [
      ", "
     ]
    },
    {
     "name": "stdout",
     "output_type": "stream",
     "text": [
      "'Romania'"
     ]
    },
    {
     "name": "stdout",
     "output_type": "stream",
     "text": [
      ", "
     ]
    },
    {
     "name": "stdout",
     "output_type": "stream",
     "text": [
      "'Suriname'"
     ]
    },
    {
     "name": "stdout",
     "output_type": "stream",
     "text": [
      ",\n",
      "     "
     ]
    },
    {
     "name": "stdout",
     "output_type": "stream",
     "text": [
      "'Sudan'"
     ]
    },
    {
     "name": "stdout",
     "output_type": "stream",
     "text": [
      ", "
     ]
    },
    {
     "name": "stdout",
     "output_type": "stream",
     "text": [
      "'Angola'"
     ]
    },
    {
     "name": "stdout",
     "output_type": "stream",
     "text": [
      ", "
     ]
    },
    {
     "name": "stdout",
     "output_type": "stream",
     "text": [
      "'Benin'"
     ]
    },
    {
     "name": "stdout",
     "output_type": "stream",
     "text": [
      ", "
     ]
    },
    {
     "name": "stdout",
     "output_type": "stream",
     "text": [
      "'Greece'"
     ]
    },
    {
     "name": "stdout",
     "output_type": "stream",
     "text": [
      ", "
     ]
    },
    {
     "name": "stdout",
     "output_type": "stream",
     "text": [
      "'Israel'"
     ]
    },
    {
     "name": "stdout",
     "output_type": "stream",
     "text": [
      ", "
     ]
    },
    {
     "name": "stdout",
     "output_type": "stream",
     "text": [
      "'Mozambique'"
     ]
    },
    {
     "name": "stdout",
     "output_type": "stream",
     "text": [
      ", "
     ]
    },
    {
     "name": "stdout",
     "output_type": "stream",
     "text": [
      "'Taiwan'"
     ]
    },
    {
     "name": "stdout",
     "output_type": "stream",
     "text": [
      ",\n",
      "     "
     ]
    },
    {
     "name": "stdout",
     "output_type": "stream",
     "text": [
      "'Albania'"
     ]
    },
    {
     "name": "stdout",
     "output_type": "stream",
     "text": [
      ", "
     ]
    },
    {
     "name": "stdout",
     "output_type": "stream",
     "text": [
      "'Uruguay'"
     ]
    },
    {
     "name": "stdout",
     "output_type": "stream",
     "text": [
      ", "
     ]
    },
    {
     "name": "stdout",
     "output_type": "stream",
     "text": [
      "'Slovakia'"
     ]
    },
    {
     "name": "stdout",
     "output_type": "stream",
     "text": [
      ", "
     ]
    },
    {
     "name": "stdout",
     "output_type": "stream",
     "text": [
      "'Guatemala'"
     ]
    },
    {
     "name": "stdout",
     "output_type": "stream",
     "text": [
      ", "
     ]
    },
    {
     "name": "stdout",
     "output_type": "stream",
     "text": [
      "'Bermuda'"
     ]
    },
    {
     "name": "stdout",
     "output_type": "stream",
     "text": [
      ", "
     ]
    },
    {
     "name": "stdout",
     "output_type": "stream",
     "text": [
      "'South Africa'"
     ]
    },
    {
     "name": "stdout",
     "output_type": "stream",
     "text": [
      ",\n",
      "     "
     ]
    },
    {
     "name": "stdout",
     "output_type": "stream",
     "text": [
      "'Djibouti'"
     ]
    },
    {
     "name": "stdout",
     "output_type": "stream",
     "text": [
      ", "
     ]
    },
    {
     "name": "stdout",
     "output_type": "stream",
     "text": [
      "'Japan'"
     ]
    },
    {
     "name": "stdout",
     "output_type": "stream",
     "text": [
      ", "
     ]
    },
    {
     "name": "stdout",
     "output_type": "stream",
     "text": [
      "'Maldives'"
     ]
    },
    {
     "name": "stdout",
     "output_type": "stream",
     "text": [
      ", "
     ]
    },
    {
     "name": "stdout",
     "output_type": "stream",
     "text": [
      "'Luxembourg'"
     ]
    },
    {
     "name": "stdout",
     "output_type": "stream",
     "text": [
      ", "
     ]
    },
    {
     "name": "stdout",
     "output_type": "stream",
     "text": [
      "'Sierra Leone'"
     ]
    },
    {
     "name": "stdout",
     "output_type": "stream",
     "text": [
      ", "
     ]
    },
    {
     "name": "stdout",
     "output_type": "stream",
     "text": [
      "'Ghana'"
     ]
    },
    {
     "name": "stdout",
     "output_type": "stream",
     "text": [
      ",\n",
      "     "
     ]
    },
    {
     "name": "stdout",
     "output_type": "stream",
     "text": [
      "'Somalia'"
     ]
    },
    {
     "name": "stdout",
     "output_type": "stream",
     "text": [
      ", "
     ]
    },
    {
     "name": "stdout",
     "output_type": "stream",
     "text": [
      "'India'"
     ]
    },
    {
     "name": "stdout",
     "output_type": "stream",
     "text": [
      ", "
     ]
    },
    {
     "name": "stdout",
     "output_type": "stream",
     "text": [
      "'Burundi'"
     ]
    },
    {
     "name": "stdout",
     "output_type": "stream",
     "text": [
      ", "
     ]
    },
    {
     "name": "stdout",
     "output_type": "stream",
     "text": [
      "'Nicaragua'"
     ]
    },
    {
     "name": "stdout",
     "output_type": "stream",
     "text": [
      ", "
     ]
    },
    {
     "name": "stdout",
     "output_type": "stream",
     "text": [
      "'Chad'"
     ]
    },
    {
     "name": "stdout",
     "output_type": "stream",
     "text": [
      ", "
     ]
    },
    {
     "name": "stdout",
     "output_type": "stream",
     "text": [
      "'Oman'"
     ]
    },
    {
     "name": "stdout",
     "output_type": "stream",
     "text": [
      ", "
     ]
    },
    {
     "name": "stdout",
     "output_type": "stream",
     "text": [
      "'Slovenia'"
     ]
    },
    {
     "name": "stdout",
     "output_type": "stream",
     "text": [
      ",\n",
      "     "
     ]
    },
    {
     "name": "stdout",
     "output_type": "stream",
     "text": [
      "'Montenegro'"
     ]
    },
    {
     "name": "stdout",
     "output_type": "stream",
     "text": [
      "]"
     ]
    },
    {
     "name": "stdout",
     "output_type": "stream",
     "text": [
      ",\n",
      " "
     ]
    },
    {
     "name": "stdout",
     "output_type": "stream",
     "text": [
      "9"
     ]
    },
    {
     "name": "stdout",
     "output_type": "stream",
     "text": [
      ": "
     ]
    },
    {
     "name": "stdout",
     "output_type": "stream",
     "text": [
      "["
     ]
    },
    {
     "name": "stdout",
     "output_type": "stream",
     "text": [
      "'Germany'"
     ]
    },
    {
     "name": "stdout",
     "output_type": "stream",
     "text": [
      ", "
     ]
    },
    {
     "name": "stdout",
     "output_type": "stream",
     "text": [
      "'China'"
     ]
    },
    {
     "name": "stdout",
     "output_type": "stream",
     "text": [
      ", "
     ]
    },
    {
     "name": "stdout",
     "output_type": "stream",
     "text": [
      "'Belarus'"
     ]
    },
    {
     "name": "stdout",
     "output_type": "stream",
     "text": [
      ", "
     ]
    },
    {
     "name": "stdout",
     "output_type": "stream",
     "text": [
      "'Finland'"
     ]
    },
    {
     "name": "stdout",
     "output_type": "stream",
     "text": [
      ", "
     ]
    },
    {
     "name": "stdout",
     "output_type": "stream",
     "text": [
      "'Korea, South'"
     ]
    },
    {
     "name": "stdout",
     "output_type": "stream",
     "text": [
      ", "
     ]
    },
    {
     "name": "stdout",
     "output_type": "stream",
     "text": [
      "'Pakistan'"
     ]
    },
    {
     "name": "stdout",
     "output_type": "stream",
     "text": [
      ",\n",
      "     "
     ]
    },
    {
     "name": "stdout",
     "output_type": "stream",
     "text": [
      "'Egypt'"
     ]
    },
    {
     "name": "stdout",
     "output_type": "stream",
     "text": [
      ", "
     ]
    },
    {
     "name": "stdout",
     "output_type": "stream",
     "text": [
      "'Iraq'"
     ]
    },
    {
     "name": "stdout",
     "output_type": "stream",
     "text": [
      ", "
     ]
    },
    {
     "name": "stdout",
     "output_type": "stream",
     "text": [
      "'Mauritania'"
     ]
    },
    {
     "name": "stdout",
     "output_type": "stream",
     "text": [
      ", "
     ]
    },
    {
     "name": "stdout",
     "output_type": "stream",
     "text": [
      "'Guinea-Bissau'"
     ]
    },
    {
     "name": "stdout",
     "output_type": "stream",
     "text": [
      ", "
     ]
    },
    {
     "name": "stdout",
     "output_type": "stream",
     "text": [
      "'Georgia'"
     ]
    },
    {
     "name": "stdout",
     "output_type": "stream",
     "text": [
      ", "
     ]
    },
    {
     "name": "stdout",
     "output_type": "stream",
     "text": [
      "'Andorra'"
     ]
    },
    {
     "name": "stdout",
     "output_type": "stream",
     "text": [
      ",\n",
      "     "
     ]
    },
    {
     "name": "stdout",
     "output_type": "stream",
     "text": [
      "'Azerbaijan'"
     ]
    },
    {
     "name": "stdout",
     "output_type": "stream",
     "text": [
      ", "
     ]
    },
    {
     "name": "stdout",
     "output_type": "stream",
     "text": [
      "'Haiti'"
     ]
    },
    {
     "name": "stdout",
     "output_type": "stream",
     "text": [
      ", "
     ]
    },
    {
     "name": "stdout",
     "output_type": "stream",
     "text": [
      "'Czech Republic'"
     ]
    },
    {
     "name": "stdout",
     "output_type": "stream",
     "text": [
      ", "
     ]
    },
    {
     "name": "stdout",
     "output_type": "stream",
     "text": [
      "'Swaziland'"
     ]
    },
    {
     "name": "stdout",
     "output_type": "stream",
     "text": [
      ", "
     ]
    },
    {
     "name": "stdout",
     "output_type": "stream",
     "text": [
      "'Cape Verde'"
     ]
    },
    {
     "name": "stdout",
     "output_type": "stream",
     "text": [
      ",\n",
      "     "
     ]
    },
    {
     "name": "stdout",
     "output_type": "stream",
     "text": [
      "'Cameroon'"
     ]
    },
    {
     "name": "stdout",
     "output_type": "stream",
     "text": [
      ", "
     ]
    },
    {
     "name": "stdout",
     "output_type": "stream",
     "text": [
      "'Uzbekistan'"
     ]
    },
    {
     "name": "stdout",
     "output_type": "stream",
     "text": [
      ", "
     ]
    },
    {
     "name": "stdout",
     "output_type": "stream",
     "text": [
      "'Qatar'"
     ]
    },
    {
     "name": "stdout",
     "output_type": "stream",
     "text": [
      ", "
     ]
    },
    {
     "name": "stdout",
     "output_type": "stream",
     "text": [
      "'Singapore'"
     ]
    },
    {
     "name": "stdout",
     "output_type": "stream",
     "text": [
      ", "
     ]
    },
    {
     "name": "stdout",
     "output_type": "stream",
     "text": [
      "'El Salvador'"
     ]
    },
    {
     "name": "stdout",
     "output_type": "stream",
     "text": [
      "]"
     ]
    },
    {
     "name": "stdout",
     "output_type": "stream",
     "text": [
      ",\n",
      " "
     ]
    },
    {
     "name": "stdout",
     "output_type": "stream",
     "text": [
      "10"
     ]
    },
    {
     "name": "stdout",
     "output_type": "stream",
     "text": [
      ": "
     ]
    },
    {
     "name": "stdout",
     "output_type": "stream",
     "text": [
      "["
     ]
    },
    {
     "name": "stdout",
     "output_type": "stream",
     "text": [
      "'Ukraine'"
     ]
    },
    {
     "name": "stdout",
     "output_type": "stream",
     "text": [
      ", "
     ]
    },
    {
     "name": "stdout",
     "output_type": "stream",
     "text": [
      "'Belgium'"
     ]
    },
    {
     "name": "stdout",
     "output_type": "stream",
     "text": [
      ", "
     ]
    },
    {
     "name": "stdout",
     "output_type": "stream",
     "text": [
      "'Dominican Republic'"
     ]
    },
    {
     "name": "stdout",
     "output_type": "stream",
     "text": [
      ", "
     ]
    },
    {
     "name": "stdout",
     "output_type": "stream",
     "text": [
      "'Bulgaria'"
     ]
    },
    {
     "name": "stdout",
     "output_type": "stream",
     "text": [
      ", "
     ]
    },
    {
     "name": "stdout",
     "output_type": "stream",
     "text": [
      "'Indonesia'"
     ]
    },
    {
     "name": "stdout",
     "output_type": "stream",
     "text": [
      ",\n",
      "      "
     ]
    },
    {
     "name": "stdout",
     "output_type": "stream",
     "text": [
      "'Poland'"
     ]
    },
    {
     "name": "stdout",
     "output_type": "stream",
     "text": [
      ", "
     ]
    },
    {
     "name": "stdout",
     "output_type": "stream",
     "text": [
      "'Serbia'"
     ]
    },
    {
     "name": "stdout",
     "output_type": "stream",
     "text": [
      ", "
     ]
    },
    {
     "name": "stdout",
     "output_type": "stream",
     "text": [
      "'Chile'"
     ]
    },
    {
     "name": "stdout",
     "output_type": "stream",
     "text": [
      ", "
     ]
    },
    {
     "name": "stdout",
     "output_type": "stream",
     "text": [
      "'Armenia'"
     ]
    },
    {
     "name": "stdout",
     "output_type": "stream",
     "text": [
      ", "
     ]
    },
    {
     "name": "stdout",
     "output_type": "stream",
     "text": [
      "'Togo'"
     ]
    },
    {
     "name": "stdout",
     "output_type": "stream",
     "text": [
      ", "
     ]
    },
    {
     "name": "stdout",
     "output_type": "stream",
     "text": [
      "'Lithuania'"
     ]
    },
    {
     "name": "stdout",
     "output_type": "stream",
     "text": [
      ", "
     ]
    },
    {
     "name": "stdout",
     "output_type": "stream",
     "text": [
      "'Algeria'"
     ]
    },
    {
     "name": "stdout",
     "output_type": "stream",
     "text": [
      ",\n",
      "      "
     ]
    },
    {
     "name": "stdout",
     "output_type": "stream",
     "text": [
      "'Malaysia'"
     ]
    },
    {
     "name": "stdout",
     "output_type": "stream",
     "text": [
      ", "
     ]
    },
    {
     "name": "stdout",
     "output_type": "stream",
     "text": [
      "'Saudi Arabia'"
     ]
    },
    {
     "name": "stdout",
     "output_type": "stream",
     "text": [
      ", "
     ]
    },
    {
     "name": "stdout",
     "output_type": "stream",
     "text": [
      "'Liberia'"
     ]
    },
    {
     "name": "stdout",
     "output_type": "stream",
     "text": [
      ", "
     ]
    },
    {
     "name": "stdout",
     "output_type": "stream",
     "text": [
      "'Canada'"
     ]
    },
    {
     "name": "stdout",
     "output_type": "stream",
     "text": [
      ", "
     ]
    },
    {
     "name": "stdout",
     "output_type": "stream",
     "text": [
      "'Switzerland'"
     ]
    },
    {
     "name": "stdout",
     "output_type": "stream",
     "text": [
      ", "
     ]
    },
    {
     "name": "stdout",
     "output_type": "stream",
     "text": [
      "'Panama'"
     ]
    },
    {
     "name": "stdout",
     "output_type": "stream",
     "text": [
      ",\n",
      "      "
     ]
    },
    {
     "name": "stdout",
     "output_type": "stream",
     "text": [
      "'Austria'"
     ]
    },
    {
     "name": "stdout",
     "output_type": "stream",
     "text": [
      ", "
     ]
    },
    {
     "name": "stdout",
     "output_type": "stream",
     "text": [
      "'Ecuador'"
     ]
    },
    {
     "name": "stdout",
     "output_type": "stream",
     "text": [
      ", "
     ]
    },
    {
     "name": "stdout",
     "output_type": "stream",
     "text": [
      "'Mali'"
     ]
    },
    {
     "name": "stdout",
     "output_type": "stream",
     "text": [
      ", "
     ]
    },
    {
     "name": "stdout",
     "output_type": "stream",
     "text": [
      "'Senegal'"
     ]
    },
    {
     "name": "stdout",
     "output_type": "stream",
     "text": [
      ", "
     ]
    },
    {
     "name": "stdout",
     "output_type": "stream",
     "text": [
      "'Latvia'"
     ]
    },
    {
     "name": "stdout",
     "output_type": "stream",
     "text": [
      ", "
     ]
    },
    {
     "name": "stdout",
     "output_type": "stream",
     "text": [
      "'Cuba'"
     ]
    },
    {
     "name": "stdout",
     "output_type": "stream",
     "text": [
      ", "
     ]
    },
    {
     "name": "stdout",
     "output_type": "stream",
     "text": [
      "'Gabon'"
     ]
    },
    {
     "name": "stdout",
     "output_type": "stream",
     "text": [
      "]"
     ]
    },
    {
     "name": "stdout",
     "output_type": "stream",
     "text": [
      ",\n",
      " "
     ]
    },
    {
     "name": "stdout",
     "output_type": "stream",
     "text": [
      "11"
     ]
    },
    {
     "name": "stdout",
     "output_type": "stream",
     "text": [
      ": "
     ]
    },
    {
     "name": "stdout",
     "output_type": "stream",
     "text": [
      "["
     ]
    },
    {
     "name": "stdout",
     "output_type": "stream",
     "text": [
      "'Honduras'"
     ]
    },
    {
     "name": "stdout",
     "output_type": "stream",
     "text": [
      ", "
     ]
    },
    {
     "name": "stdout",
     "output_type": "stream",
     "text": [
      "'Bangladesh'"
     ]
    },
    {
     "name": "stdout",
     "output_type": "stream",
     "text": [
      ", "
     ]
    },
    {
     "name": "stdout",
     "output_type": "stream",
     "text": [
      "'Macedonia'"
     ]
    },
    {
     "name": "stdout",
     "output_type": "stream",
     "text": [
      ", "
     ]
    },
    {
     "name": "stdout",
     "output_type": "stream",
     "text": [
      "'Turkey'"
     ]
    },
    {
     "name": "stdout",
     "output_type": "stream",
     "text": [
      ", "
     ]
    },
    {
     "name": "stdout",
     "output_type": "stream",
     "text": [
      "'Iran'"
     ]
    },
    {
     "name": "stdout",
     "output_type": "stream",
     "text": [
      ", "
     ]
    },
    {
     "name": "stdout",
     "output_type": "stream",
     "text": [
      "'Portugal'"
     ]
    },
    {
     "name": "stdout",
     "output_type": "stream",
     "text": [
      ",\n",
      "      "
     ]
    },
    {
     "name": "stdout",
     "output_type": "stream",
     "text": [
      "'Kuwait'"
     ]
    },
    {
     "name": "stdout",
     "output_type": "stream",
     "text": [
      ", "
     ]
    },
    {
     "name": "stdout",
     "output_type": "stream",
     "text": [
      "'Estonia'"
     ]
    },
    {
     "name": "stdout",
     "output_type": "stream",
     "text": [
      ", "
     ]
    },
    {
     "name": "stdout",
     "output_type": "stream",
     "text": [
      "'Moldova'"
     ]
    },
    {
     "name": "stdout",
     "output_type": "stream",
     "text": [
      ", "
     ]
    },
    {
     "name": "stdout",
     "output_type": "stream",
     "text": [
      "'Nigeria'"
     ]
    },
    {
     "name": "stdout",
     "output_type": "stream",
     "text": [
      ", "
     ]
    },
    {
     "name": "stdout",
     "output_type": "stream",
     "text": [
      "'Mexico'"
     ]
    },
    {
     "name": "stdout",
     "output_type": "stream",
     "text": [
      ", "
     ]
    },
    {
     "name": "stdout",
     "output_type": "stream",
     "text": [
      "'Denmark'"
     ]
    },
    {
     "name": "stdout",
     "output_type": "stream",
     "text": [
      ", "
     ]
    },
    {
     "name": "stdout",
     "output_type": "stream",
     "text": [
      "'France'"
     ]
    },
    {
     "name": "stdout",
     "output_type": "stream",
     "text": [
      ",\n",
      "      "
     ]
    },
    {
     "name": "stdout",
     "output_type": "stream",
     "text": [
      "'Brazil'"
     ]
    },
    {
     "name": "stdout",
     "output_type": "stream",
     "text": [
      ", "
     ]
    },
    {
     "name": "stdout",
     "output_type": "stream",
     "text": [
      "'Italy'"
     ]
    },
    {
     "name": "stdout",
     "output_type": "stream",
     "text": [
      ", "
     ]
    },
    {
     "name": "stdout",
     "output_type": "stream",
     "text": [
      "'Peru'"
     ]
    },
    {
     "name": "stdout",
     "output_type": "stream",
     "text": [
      ", "
     ]
    },
    {
     "name": "stdout",
     "output_type": "stream",
     "text": [
      "'Guinea'"
     ]
    },
    {
     "name": "stdout",
     "output_type": "stream",
     "text": [
      ", "
     ]
    },
    {
     "name": "stdout",
     "output_type": "stream",
     "text": [
      "'Bolivia'"
     ]
    },
    {
     "name": "stdout",
     "output_type": "stream",
     "text": [
      ", "
     ]
    },
    {
     "name": "stdout",
     "output_type": "stream",
     "text": [
      "'Burkina Faso'"
     ]
    },
    {
     "name": "stdout",
     "output_type": "stream",
     "text": [
      "]"
     ]
    },
    {
     "name": "stdout",
     "output_type": "stream",
     "text": [
      ",\n",
      " "
     ]
    },
    {
     "name": "stdout",
     "output_type": "stream",
     "text": [
      "12"
     ]
    },
    {
     "name": "stdout",
     "output_type": "stream",
     "text": [
      ": "
     ]
    },
    {
     "name": "stdout",
     "output_type": "stream",
     "text": [
      "['Hungary', 'United Arab Emirates', 'Bahrain', 'United States']"
     ]
    },
    {
     "name": "stdout",
     "output_type": "stream",
     "text": [
      ",\n",
      " "
     ]
    },
    {
     "name": "stdout",
     "output_type": "stream",
     "text": [
      "13"
     ]
    },
    {
     "name": "stdout",
     "output_type": "stream",
     "text": [
      ": "
     ]
    },
    {
     "name": "stdout",
     "output_type": "stream",
     "text": [
      "['Russia']"
     ]
    },
    {
     "name": "stdout",
     "output_type": "stream",
     "text": [
      "}"
     ]
    },
    {
     "name": "stdout",
     "output_type": "stream",
     "text": [
      "\n"
     ]
    }
   ],
   "source": [
    "# Show the number of phases of all countries\n",
    "analyser.trend()\n",
    "pprint(analyser.phase_len(), compact=True)"
   ]
  },
  {
   "cell_type": "code",
   "execution_count": 8,
   "metadata": {
    "collapsed": false
   },
   "outputs": [
    {
     "data": {
      "text/plain": [
       "24"
      ]
     },
     "execution_count": 8,
     "metadata": {},
     "output_type": "execute_result"
    }
   ],
   "source": [
    "# Set phases with S-R trend analysis\n",
    "analyser.trend(min_len=11)\n",
    "# The number of countries\n",
    "len(analyser.countries)"
   ]
  },
  {
   "cell_type": "code",
   "execution_count": 9,
   "metadata": {
    "collapsed": false,
    "tags": []
   },
   "outputs": [
    {
     "name": "stdout",
     "output_type": "stream",
     "text": [
      "{"
     ]
    },
    {
     "name": "stdout",
     "output_type": "stream",
     "text": [
      "11"
     ]
    },
    {
     "name": "stdout",
     "output_type": "stream",
     "text": [
      ": "
     ]
    },
    {
     "name": "stdout",
     "output_type": "stream",
     "text": [
      "["
     ]
    },
    {
     "name": "stdout",
     "output_type": "stream",
     "text": [
      "'Honduras'"
     ]
    },
    {
     "name": "stdout",
     "output_type": "stream",
     "text": [
      ", "
     ]
    },
    {
     "name": "stdout",
     "output_type": "stream",
     "text": [
      "'Bangladesh'"
     ]
    },
    {
     "name": "stdout",
     "output_type": "stream",
     "text": [
      ", "
     ]
    },
    {
     "name": "stdout",
     "output_type": "stream",
     "text": [
      "'Macedonia'"
     ]
    },
    {
     "name": "stdout",
     "output_type": "stream",
     "text": [
      ", "
     ]
    },
    {
     "name": "stdout",
     "output_type": "stream",
     "text": [
      "'Turkey'"
     ]
    },
    {
     "name": "stdout",
     "output_type": "stream",
     "text": [
      ", "
     ]
    },
    {
     "name": "stdout",
     "output_type": "stream",
     "text": [
      "'Iran'"
     ]
    },
    {
     "name": "stdout",
     "output_type": "stream",
     "text": [
      ", "
     ]
    },
    {
     "name": "stdout",
     "output_type": "stream",
     "text": [
      "'Portugal'"
     ]
    },
    {
     "name": "stdout",
     "output_type": "stream",
     "text": [
      ",\n",
      "      "
     ]
    },
    {
     "name": "stdout",
     "output_type": "stream",
     "text": [
      "'Kuwait'"
     ]
    },
    {
     "name": "stdout",
     "output_type": "stream",
     "text": [
      ", "
     ]
    },
    {
     "name": "stdout",
     "output_type": "stream",
     "text": [
      "'Estonia'"
     ]
    },
    {
     "name": "stdout",
     "output_type": "stream",
     "text": [
      ", "
     ]
    },
    {
     "name": "stdout",
     "output_type": "stream",
     "text": [
      "'Moldova'"
     ]
    },
    {
     "name": "stdout",
     "output_type": "stream",
     "text": [
      ", "
     ]
    },
    {
     "name": "stdout",
     "output_type": "stream",
     "text": [
      "'Nigeria'"
     ]
    },
    {
     "name": "stdout",
     "output_type": "stream",
     "text": [
      ", "
     ]
    },
    {
     "name": "stdout",
     "output_type": "stream",
     "text": [
      "'Mexico'"
     ]
    },
    {
     "name": "stdout",
     "output_type": "stream",
     "text": [
      ", "
     ]
    },
    {
     "name": "stdout",
     "output_type": "stream",
     "text": [
      "'Denmark'"
     ]
    },
    {
     "name": "stdout",
     "output_type": "stream",
     "text": [
      ", "
     ]
    },
    {
     "name": "stdout",
     "output_type": "stream",
     "text": [
      "'France'"
     ]
    },
    {
     "name": "stdout",
     "output_type": "stream",
     "text": [
      ",\n",
      "      "
     ]
    },
    {
     "name": "stdout",
     "output_type": "stream",
     "text": [
      "'Brazil'"
     ]
    },
    {
     "name": "stdout",
     "output_type": "stream",
     "text": [
      ", "
     ]
    },
    {
     "name": "stdout",
     "output_type": "stream",
     "text": [
      "'Italy'"
     ]
    },
    {
     "name": "stdout",
     "output_type": "stream",
     "text": [
      ", "
     ]
    },
    {
     "name": "stdout",
     "output_type": "stream",
     "text": [
      "'Peru'"
     ]
    },
    {
     "name": "stdout",
     "output_type": "stream",
     "text": [
      ", "
     ]
    },
    {
     "name": "stdout",
     "output_type": "stream",
     "text": [
      "'Guinea'"
     ]
    },
    {
     "name": "stdout",
     "output_type": "stream",
     "text": [
      ", "
     ]
    },
    {
     "name": "stdout",
     "output_type": "stream",
     "text": [
      "'Bolivia'"
     ]
    },
    {
     "name": "stdout",
     "output_type": "stream",
     "text": [
      ", "
     ]
    },
    {
     "name": "stdout",
     "output_type": "stream",
     "text": [
      "'Burkina Faso'"
     ]
    },
    {
     "name": "stdout",
     "output_type": "stream",
     "text": [
      "]"
     ]
    },
    {
     "name": "stdout",
     "output_type": "stream",
     "text": [
      ",\n",
      " "
     ]
    },
    {
     "name": "stdout",
     "output_type": "stream",
     "text": [
      "12"
     ]
    },
    {
     "name": "stdout",
     "output_type": "stream",
     "text": [
      ": "
     ]
    },
    {
     "name": "stdout",
     "output_type": "stream",
     "text": [
      "['Hungary', 'United Arab Emirates', 'Bahrain', 'United States']"
     ]
    },
    {
     "name": "stdout",
     "output_type": "stream",
     "text": [
      ",\n",
      " "
     ]
    },
    {
     "name": "stdout",
     "output_type": "stream",
     "text": [
      "13"
     ]
    },
    {
     "name": "stdout",
     "output_type": "stream",
     "text": [
      ": "
     ]
    },
    {
     "name": "stdout",
     "output_type": "stream",
     "text": [
      "['Russia']"
     ]
    },
    {
     "name": "stdout",
     "output_type": "stream",
     "text": [
      "}"
     ]
    },
    {
     "name": "stdout",
     "output_type": "stream",
     "text": [
      "\n"
     ]
    }
   ],
   "source": [
    "phase_len_dict = analyser.phase_len()\n",
    "pprint(phase_len_dict, compact=True)"
   ]
  },
  {
   "cell_type": "code",
   "execution_count": 10,
   "metadata": {
    "collapsed": false,
    "tags": []
   },
   "outputs": [
    {
     "data": {
      "text/html": [
       "<div>\n",
       "<style scoped>\n",
       "    .dataframe tbody tr th:only-of-type {\n",
       "        vertical-align: middle;\n",
       "    }\n",
       "\n",
       "    .dataframe tbody tr th {\n",
       "        vertical-align: top;\n",
       "    }\n",
       "\n",
       "    .dataframe thead th {\n",
       "        text-align: right;\n",
       "    }\n",
       "</style>\n",
       "<table border=\"1\" class=\"dataframe\">\n",
       "  <thead>\n",
       "    <tr style=\"text-align: right;\">\n",
       "      <th></th>\n",
       "      <th></th>\n",
       "      <th>Type</th>\n",
       "      <th>Start</th>\n",
       "      <th>End</th>\n",
       "      <th>Population</th>\n",
       "    </tr>\n",
       "    <tr>\n",
       "      <th>Country</th>\n",
       "      <th>Phase</th>\n",
       "      <th></th>\n",
       "      <th></th>\n",
       "      <th></th>\n",
       "      <th></th>\n",
       "    </tr>\n",
       "  </thead>\n",
       "  <tbody>\n",
       "    <tr>\n",
       "      <th rowspan=\"13\" valign=\"top\">Russia</th>\n",
       "      <th>0th</th>\n",
       "      <td>Past</td>\n",
       "      <td>12Feb2020</td>\n",
       "      <td>06May2020</td>\n",
       "      <td>330457362</td>\n",
       "    </tr>\n",
       "    <tr>\n",
       "      <th>1st</th>\n",
       "      <td>Past</td>\n",
       "      <td>07May2020</td>\n",
       "      <td>15May2020</td>\n",
       "      <td>330457362</td>\n",
       "    </tr>\n",
       "    <tr>\n",
       "      <th>2nd</th>\n",
       "      <td>Past</td>\n",
       "      <td>16May2020</td>\n",
       "      <td>23May2020</td>\n",
       "      <td>330457362</td>\n",
       "    </tr>\n",
       "    <tr>\n",
       "      <th>3rd</th>\n",
       "      <td>Past</td>\n",
       "      <td>24May2020</td>\n",
       "      <td>01Jun2020</td>\n",
       "      <td>330457362</td>\n",
       "    </tr>\n",
       "    <tr>\n",
       "      <th>4th</th>\n",
       "      <td>Past</td>\n",
       "      <td>02Jun2020</td>\n",
       "      <td>11Jun2020</td>\n",
       "      <td>330457362</td>\n",
       "    </tr>\n",
       "    <tr>\n",
       "      <th>5th</th>\n",
       "      <td>Past</td>\n",
       "      <td>12Jun2020</td>\n",
       "      <td>20Jun2020</td>\n",
       "      <td>330457362</td>\n",
       "    </tr>\n",
       "    <tr>\n",
       "      <th>6th</th>\n",
       "      <td>Past</td>\n",
       "      <td>21Jun2020</td>\n",
       "      <td>30Jun2020</td>\n",
       "      <td>330457362</td>\n",
       "    </tr>\n",
       "    <tr>\n",
       "      <th>7th</th>\n",
       "      <td>Past</td>\n",
       "      <td>01Jul2020</td>\n",
       "      <td>12Jul2020</td>\n",
       "      <td>330457362</td>\n",
       "    </tr>\n",
       "    <tr>\n",
       "      <th>8th</th>\n",
       "      <td>Past</td>\n",
       "      <td>13Jul2020</td>\n",
       "      <td>24Jul2020</td>\n",
       "      <td>330457362</td>\n",
       "    </tr>\n",
       "    <tr>\n",
       "      <th>9th</th>\n",
       "      <td>Past</td>\n",
       "      <td>25Jul2020</td>\n",
       "      <td>07Aug2020</td>\n",
       "      <td>330457362</td>\n",
       "    </tr>\n",
       "    <tr>\n",
       "      <th>10th</th>\n",
       "      <td>Past</td>\n",
       "      <td>08Aug2020</td>\n",
       "      <td>22Aug2020</td>\n",
       "      <td>330457362</td>\n",
       "    </tr>\n",
       "    <tr>\n",
       "      <th>11th</th>\n",
       "      <td>Past</td>\n",
       "      <td>23Aug2020</td>\n",
       "      <td>04Sep2020</td>\n",
       "      <td>330457362</td>\n",
       "    </tr>\n",
       "    <tr>\n",
       "      <th>12th</th>\n",
       "      <td>Past</td>\n",
       "      <td>05Sep2020</td>\n",
       "      <td>21Sep2020</td>\n",
       "      <td>330457362</td>\n",
       "    </tr>\n",
       "  </tbody>\n",
       "</table>\n",
       "</div>"
      ],
      "text/plain": [
       "               Type      Start        End  Population\n",
       "Country Phase                                        \n",
       "Russia  0th    Past  12Feb2020  06May2020   330457362\n",
       "        1st    Past  07May2020  15May2020   330457362\n",
       "        2nd    Past  16May2020  23May2020   330457362\n",
       "        3rd    Past  24May2020  01Jun2020   330457362\n",
       "        4th    Past  02Jun2020  11Jun2020   330457362\n",
       "        5th    Past  12Jun2020  20Jun2020   330457362\n",
       "        6th    Past  21Jun2020  30Jun2020   330457362\n",
       "        7th    Past  01Jul2020  12Jul2020   330457362\n",
       "        8th    Past  13Jul2020  24Jul2020   330457362\n",
       "        9th    Past  25Jul2020  07Aug2020   330457362\n",
       "        10th   Past  08Aug2020  22Aug2020   330457362\n",
       "        11th   Past  23Aug2020  04Sep2020   330457362\n",
       "        12th   Past  05Sep2020  21Sep2020   330457362"
      ]
     },
     "execution_count": 10,
     "metadata": {},
     "output_type": "execute_result"
    }
   ],
   "source": [
    "# Here, only show the countries which have the most phases\n",
    "countries_show = max(phase_len_dict.items(), key=lambda x: x[0])[1]\n",
    "# Show summary\n",
    "analyser.summary(countries=countries_show)"
   ]
  },
  {
   "cell_type": "markdown",
   "metadata": {},
   "source": [
    "## Parameter estimation\n",
    "we will estimate the parameter values with SIR-derived ODE models in each country."
   ]
  },
  {
   "cell_type": "code",
   "execution_count": 11,
   "metadata": {
    "collapsed": false,
    "tags": []
   },
   "outputs": [
    {
     "name": "stdout",
     "output_type": "stream",
     "text": [
      "\n",
      "<SIR-F model: parameter estimation>"
     ]
    },
    {
     "name": "stdout",
     "output_type": "stream",
     "text": [
      "\n"
     ]
    },
    {
     "name": "stdout",
     "output_type": "stream",
     "text": [
      "Running optimization with 4 CPUs..."
     ]
    },
    {
     "name": "stdout",
     "output_type": "stream",
     "text": [
      "\n"
     ]
    },
    {
     "name": "stdout",
     "output_type": "stream",
     "text": [
      "\tBOL,  7th phase (10Aug2020 - 17Aug2020): finished  357 trials in 0 min 10 sec"
     ]
    },
    {
     "name": "stdout",
     "output_type": "stream",
     "text": [
      "\n"
     ]
    },
    {
     "name": "stdout",
     "output_type": "stream",
     "text": [
      "\tBOL,  8th phase (18Aug2020 - 25Aug2020): finished  633 trials in 0 min 20 sec"
     ]
    },
    {
     "name": "stdout",
     "output_type": "stream",
     "text": [
      "\n"
     ]
    },
    {
     "name": "stdout",
     "output_type": "stream",
     "text": [
      "\tGIN,  3rd phase (24May2020 - 06Jun2020): finished 1282 trials in 1 min  0 sec"
     ]
    },
    {
     "name": "stdout",
     "output_type": "stream",
     "text": [
      "\n"
     ]
    },
    {
     "name": "stdout",
     "output_type": "stream",
     "text": [
      "\tGIN,  8th phase (06Aug2020 - 16Aug2020): finished 1240 trials in 1 min  0 sec"
     ]
    },
    {
     "name": "stdout",
     "output_type": "stream",
     "text": [
      "\n"
     ]
    },
    {
     "name": "stdout",
     "output_type": "stream",
     "text": [
      "\tPRT,  8th phase (11Aug2020 - 27Aug2020): finished 1198 trials in 1 min  0 sec"
     ]
    },
    {
     "name": "stdout",
     "output_type": "stream",
     "text": [
      "\n"
     ]
    },
    {
     "name": "stdout",
     "output_type": "stream",
     "text": [
      "\tITA,  3rd phase (09Apr2020 - 18Apr2020): finished  293 trials in 0 min 10 sec"
     ]
    },
    {
     "name": "stdout",
     "output_type": "stream",
     "text": [
      "\n"
     ]
    },
    {
     "name": "stdout",
     "output_type": "stream",
     "text": [
      "\tBHR,  8th phase (09Aug2020 - 21Aug2020): finished  153 trials in 0 min  5 sec"
     ]
    },
    {
     "name": "stdout",
     "output_type": "stream",
     "text": [
      "\n"
     ]
    },
    {
     "name": "stdout",
     "output_type": "stream",
     "text": [
      "\tGIN,  0th phase (03Apr2020 - 30Apr2020): finished 1200 trials in 1 min  0 sec"
     ]
    },
    {
     "name": "stdout",
     "output_type": "stream",
     "text": [
      "\n"
     ]
    },
    {
     "name": "stdout",
     "output_type": "stream",
     "text": [
      "\tMKD,  9th phase (02Sep2020 - 10Sep2020): finished  268 trials in 0 min 10 sec"
     ]
    },
    {
     "name": "stdout",
     "output_type": "stream",
     "text": [
      "\n"
     ]
    },
    {
     "name": "stdout",
     "output_type": "stream",
     "text": [
      "\tIRN,  2nd phase (18Apr2020 - 12May2020): finished  424 trials in 0 min 20 sec"
     ]
    },
    {
     "name": "stdout",
     "output_type": "stream",
     "text": [
      "\n"
     ]
    },
    {
     "name": "stdout",
     "output_type": "stream",
     "text": [
      "\tMKD,  5th phase (27Jul2020 - 05Aug2020): finished 1184 trials in 1 min  0 sec"
     ]
    },
    {
     "name": "stdout",
     "output_type": "stream",
     "text": [
      "\n"
     ]
    },
    {
     "name": "stdout",
     "output_type": "stream",
     "text": [
      "\tBRA,  6th phase (29Jul2020 - 11Aug2020): finished  919 trials in 0 min 45 sec"
     ]
    },
    {
     "name": "stdout",
     "output_type": "stream",
     "text": [
      "\n"
     ]
    },
    {
     "name": "stdout",
     "output_type": "stream",
     "text": [
      "\tGIN,  5th phase (20Jun2020 - 08Jul2020): finished  261 trials in 0 min 10 sec"
     ]
    },
    {
     "name": "stdout",
     "output_type": "stream",
     "text": [
      "\n"
     ]
    },
    {
     "name": "stdout",
     "output_type": "stream",
     "text": [
      "\tNGA,  0th phase (18Mar2020 - 21May2020): finished 1151 trials in 1 min  0 sec"
     ]
    },
    {
     "name": "stdout",
     "output_type": "stream",
     "text": [
      "\n"
     ]
    },
    {
     "name": "stdout",
     "output_type": "stream",
     "text": [
      "\tTUR, 10th phase (06Sep2020 - 21Sep2020): finished  141 trials in 0 min  5 sec"
     ]
    },
    {
     "name": "stdout",
     "output_type": "stream",
     "text": [
      "\n"
     ]
    },
    {
     "name": "stdout",
     "output_type": "stream",
     "text": [
      "\tDNK,  4th phase (04May2020 - 16May2020): finished  138 trials in 0 min  5 sec"
     ]
    },
    {
     "name": "stdout",
     "output_type": "stream",
     "text": [
      "\n"
     ]
    },
    {
     "name": "stdout",
     "output_type": "stream",
     "text": [
      "\tMDA,  2nd phase (09Jun2020 - 22Jun2020): finished 1260 trials in 1 min  0 sec"
     ]
    },
    {
     "name": "stdout",
     "output_type": "stream",
     "text": [
      "\n"
     ]
    },
    {
     "name": "stdout",
     "output_type": "stream",
     "text": [
      "\tDNK,  8th phase (15Aug2020 - 01Sep2020): finished 1245 trials in 1 min  0 sec"
     ]
    },
    {
     "name": "stdout",
     "output_type": "stream",
     "text": [
      "\n"
     ]
    },
    {
     "name": "stdout",
     "output_type": "stream",
     "text": [
      "\tTUR,  2nd phase (30Apr2020 - 08May2020): finished 1076 trials in 0 min 50 sec"
     ]
    },
    {
     "name": "stdout",
     "output_type": "stream",
     "text": [
      "\n"
     ]
    },
    {
     "name": "stdout",
     "output_type": "stream",
     "text": [
      "\tKWT,  7th phase (28Jul2020 - 10Aug2020): finished 1146 trials in 0 min 55 sec"
     ]
    },
    {
     "name": "stdout",
     "output_type": "stream",
     "text": [
      "\n"
     ]
    },
    {
     "name": "stdout",
     "output_type": "stream",
     "text": [
      "\tHUN,  5th phase (18May2020 - 29May2020): finished 1188 trials in 1 min  0 sec"
     ]
    },
    {
     "name": "stdout",
     "output_type": "stream",
     "text": [
      "\n"
     ]
    },
    {
     "name": "stdout",
     "output_type": "stream",
     "text": [
      "\tEST,  7th phase (15Jul2020 - 17Aug2020): finished 1190 trials in 1 min  0 sec"
     ]
    },
    {
     "name": "stdout",
     "output_type": "stream",
     "text": [
      "\n"
     ]
    },
    {
     "name": "stdout",
     "output_type": "stream",
     "text": [
      "\tIRN,  5th phase (17Jun2020 - 01Jul2020): finished 1186 trials in 1 min  0 sec"
     ]
    },
    {
     "name": "stdout",
     "output_type": "stream",
     "text": [
      "\n"
     ]
    },
    {
     "name": "stdout",
     "output_type": "stream",
     "text": [
      "\tBFA, 10th phase (12Sep2020 - 21Sep2020): finished 1205 trials in 1 min  0 sec"
     ]
    },
    {
     "name": "stdout",
     "output_type": "stream",
     "text": [
      "\n"
     ]
    },
    {
     "name": "stdout",
     "output_type": "stream",
     "text": [
      "\tTUR,  9th phase (21Aug2020 - 05Sep2020): finished  936 trials in 0 min 45 sec"
     ]
    },
    {
     "name": "stdout",
     "output_type": "stream",
     "text": [
      "\n"
     ]
    },
    {
     "name": "stdout",
     "output_type": "stream",
     "text": [
      "\tNGA,  9th phase (18Aug2020 - 31Aug2020): finished 1168 trials in 1 min  0 sec"
     ]
    },
    {
     "name": "stdout",
     "output_type": "stream",
     "text": [
      "\n"
     ]
    },
    {
     "name": "stdout",
     "output_type": "stream",
     "text": [
      "\tKWT,  2nd phase (28May2020 - 07Jun2020): finished 1167 trials in 1 min  0 sec"
     ]
    },
    {
     "name": "stdout",
     "output_type": "stream",
     "text": [
      "\n"
     ]
    },
    {
     "name": "stdout",
     "output_type": "stream",
     "text": [
      "\tNGA,  8th phase (08Aug2020 - 17Aug2020): finished 1182 trials in 1 min  0 sec"
     ]
    },
    {
     "name": "stdout",
     "output_type": "stream",
     "text": [
      "\n"
     ]
    },
    {
     "name": "stdout",
     "output_type": "stream",
     "text": [
      "\tBGD,  0th phase (16Mar2020 - 26May2020): finished 1110 trials in 1 min  0 sec"
     ]
    },
    {
     "name": "stdout",
     "output_type": "stream",
     "text": [
      "\n"
     ]
    },
    {
     "name": "stdout",
     "output_type": "stream",
     "text": [
      "\tITA,  8th phase (24Jun2020 - 15Aug2020): finished  430 trials in 0 min 20 sec"
     ]
    },
    {
     "name": "stdout",
     "output_type": "stream",
     "text": [
      "\n"
     ]
    },
    {
     "name": "stdout",
     "output_type": "stream",
     "text": [
      "\tPRT,  4th phase (14Jun2020 - 25Jun2020): finished 1183 trials in 1 min  0 sec"
     ]
    },
    {
     "name": "stdout",
     "output_type": "stream",
     "text": [
      "\n"
     ]
    },
    {
     "name": "stdout",
     "output_type": "stream",
     "text": [
      "\tDNK,  0th phase (06Mar2020 - 04Apr2020): finished 1169 trials in 1 min  0 sec"
     ]
    },
    {
     "name": "stdout",
     "output_type": "stream",
     "text": [
      "\n"
     ]
    },
    {
     "name": "stdout",
     "output_type": "stream",
     "text": [
      "\tEST,  3rd phase (01May2020 - 13May2020): finished 1173 trials in 1 min  0 sec"
     ]
    },
    {
     "name": "stdout",
     "output_type": "stream",
     "text": [
      "\n"
     ]
    },
    {
     "name": "stdout",
     "output_type": "stream",
     "text": [
      "\tARE,  5th phase (20Jun2020 - 01Jul2020): finished  711 trials in 0 min 30 sec"
     ]
    },
    {
     "name": "stdout",
     "output_type": "stream",
     "text": [
      "\n"
     ]
    },
    {
     "name": "stdout",
     "output_type": "stream",
     "text": [
      "\tBGD, 10th phase (05Sep2020 - 21Sep2020): finished  455 trials in 0 min 20 sec"
     ]
    },
    {
     "name": "stdout",
     "output_type": "stream",
     "text": [
      "\n"
     ]
    },
    {
     "name": "stdout",
     "output_type": "stream",
     "text": [
      "\tMEX,  4th phase (07Jul2020 - 17Jul2020): finished 1067 trials in 0 min 55 sec"
     ]
    },
    {
     "name": "stdout",
     "output_type": "stream",
     "text": [
      "\n"
     ]
    },
    {
     "name": "stdout",
     "output_type": "stream",
     "text": [
      "\tBRA, 10th phase (09Sep2020 - 21Sep2020): finished 1064 trials in 1 min  0 sec"
     ]
    },
    {
     "name": "stdout",
     "output_type": "stream",
     "text": [
      "\n"
     ]
    },
    {
     "name": "stdout",
     "output_type": "stream",
     "text": [
      "\tHUN,  9th phase (14Aug2020 - 26Aug2020): finished 1095 trials in 1 min  0 sec"
     ]
    },
    {
     "name": "stdout",
     "output_type": "stream",
     "text": [
      "\n"
     ]
    },
    {
     "name": "stdout",
     "output_type": "stream",
     "text": [
      "\tPRT,  9th phase (28Aug2020 - 09Sep2020): finished 1068 trials in 1 min  0 sec"
     ]
    },
    {
     "name": "stdout",
     "output_type": "stream",
     "text": [
      "\n"
     ]
    },
    {
     "name": "stdout",
     "output_type": "stream",
     "text": [
      "\tARE,  3rd phase (21May2020 - 07Jun2020): finished 1090 trials in 1 min  0 sec"
     ]
    },
    {
     "name": "stdout",
     "output_type": "stream",
     "text": [
      "\n"
     ]
    },
    {
     "name": "stdout",
     "output_type": "stream",
     "text": [
      "\tBFA,  9th phase (03Sep2020 - 11Sep2020): finished 1131 trials in 1 min  0 sec"
     ]
    },
    {
     "name": "stdout",
     "output_type": "stream",
     "text": [
      "\n"
     ]
    },
    {
     "name": "stdout",
     "output_type": "stream",
     "text": [
      "\tITA,  9th phase (16Aug2020 - 08Sep2020): finished 1131 trials in 1 min  0 sec"
     ]
    },
    {
     "name": "stdout",
     "output_type": "stream",
     "text": [
      "\n"
     ]
    },
    {
     "name": "stdout",
     "output_type": "stream",
     "text": [
      "\tMKD, 10th phase (11Sep2020 - 21Sep2020): finished 1144 trials in 1 min  0 sec"
     ]
    },
    {
     "name": "stdout",
     "output_type": "stream",
     "text": [
      "\n"
     ]
    },
    {
     "name": "stdout",
     "output_type": "stream",
     "text": [
      "\tUSA,  2nd phase (13May2020 - 05Jun2020): finished 1170 trials in 1 min  0 sec"
     ]
    },
    {
     "name": "stdout",
     "output_type": "stream",
     "text": [
      "\n"
     ]
    },
    {
     "name": "stdout",
     "output_type": "stream",
     "text": [
      "\tRUS,  2nd phase (16May2020 - 23May2020): finished 1226 trials in 1 min  0 sec"
     ]
    },
    {
     "name": "stdout",
     "output_type": "stream",
     "text": [
      "\n"
     ]
    },
    {
     "name": "stdout",
     "output_type": "stream",
     "text": [
      "\tBFA,  3rd phase (20Apr2020 - 04May2020): finished 1228 trials in 1 min  0 sec"
     ]
    },
    {
     "name": "stdout",
     "output_type": "stream",
     "text": [
      "\n"
     ]
    },
    {
     "name": "stdout",
     "output_type": "stream",
     "text": [
      "\tDNK,  2nd phase (15Apr2020 - 23Apr2020): finished  377 trials in 0 min 15 sec"
     ]
    },
    {
     "name": "stdout",
     "output_type": "stream",
     "text": [
      "\n"
     ]
    },
    {
     "name": "stdout",
     "output_type": "stream",
     "text": [
      "\tKWT,  4th phase (23Jun2020 - 04Jul2020): finished 1250 trials in 1 min  0 sec"
     ]
    },
    {
     "name": "stdout",
     "output_type": "stream",
     "text": [
      "\n"
     ]
    },
    {
     "name": "stdout",
     "output_type": "stream",
     "text": [
      "\tGIN,  2nd phase (13May2020 - 23May2020): finished 1268 trials in 1 min  0 sec"
     ]
    },
    {
     "name": "stdout",
     "output_type": "stream",
     "text": [
      "\n"
     ]
    },
    {
     "name": "stdout",
     "output_type": "stream",
     "text": [
      "\tRUS,  8th phase (13Jul2020 - 24Jul2020): finished 1278 trials in 1 min  0 sec"
     ]
    },
    {
     "name": "stdout",
     "output_type": "stream",
     "text": [
      "\n"
     ]
    },
    {
     "name": "stdout",
     "output_type": "stream",
     "text": [
      "\tPRT, 10th phase (10Sep2020 - 21Sep2020): finished 1297 trials in 1 min  0 sec"
     ]
    },
    {
     "name": "stdout",
     "output_type": "stream",
     "text": [
      "\n"
     ]
    },
    {
     "name": "stdout",
     "output_type": "stream",
     "text": [
      "\tUSA,  5th phase (08Jul2020 - 17Jul2020): finished  410 trials in 0 min 15 sec"
     ]
    },
    {
     "name": "stdout",
     "output_type": "stream",
     "text": [
      "\n"
     ]
    },
    {
     "name": "stdout",
     "output_type": "stream",
     "text": [
      "\tPRT,  1st phase (28Apr2020 - 17May2020): finished 1291 trials in 1 min  0 sec"
     ]
    },
    {
     "name": "stdout",
     "output_type": "stream",
     "text": [
      "\n"
     ]
    },
    {
     "name": "stdout",
     "output_type": "stream",
     "text": [
      "\tGIN,  4th phase (07Jun2020 - 19Jun2020): finished 1270 trials in 1 min  0 sec"
     ]
    },
    {
     "name": "stdout",
     "output_type": "stream",
     "text": [
      "\n"
     ]
    },
    {
     "name": "stdout",
     "output_type": "stream",
     "text": [
      "\tEST,  0th phase (15Mar2020 - 07Apr2020): finished 1188 trials in 1 min  0 sec"
     ]
    },
    {
     "name": "stdout",
     "output_type": "stream",
     "text": [
      "\n"
     ]
    },
    {
     "name": "stdout",
     "output_type": "stream",
     "text": [
      "\tTUR,  8th phase (03Aug2020 - 20Aug2020): finished 1196 trials in 1 min  0 sec"
     ]
    },
    {
     "name": "stdout",
     "output_type": "stream",
     "text": [
      "\n"
     ]
    },
    {
     "name": "stdout",
     "output_type": "stream",
     "text": [
      "\tIRN,  4th phase (01Jun2020 - 16Jun2020): finished 1217 trials in 1 min  0 sec"
     ]
    },
    {
     "name": "stdout",
     "output_type": "stream",
     "text": [
      "\n"
     ]
    },
    {
     "name": "stdout",
     "output_type": "stream",
     "text": [
      "\tHUN,  7th phase (26Jun2020 - 23Jul2020): finished  307 trials in 0 min 10 sec"
     ]
    },
    {
     "name": "stdout",
     "output_type": "stream",
     "text": [
      "\n"
     ]
    },
    {
     "name": "stdout",
     "output_type": "stream",
     "text": [
      "\tBOL,  6th phase (01Aug2020 - 09Aug2020): finished  160 trials in 0 min  5 sec"
     ]
    },
    {
     "name": "stdout",
     "output_type": "stream",
     "text": [
      "\n"
     ]
    },
    {
     "name": "stdout",
     "output_type": "stream",
     "text": [
      "\tPER,  1st phase (11May2020 - 28May2020): finished 1254 trials in 1 min  0 sec"
     ]
    },
    {
     "name": "stdout",
     "output_type": "stream",
     "text": [
      "\n"
     ]
    },
    {
     "name": "stdout",
     "output_type": "stream",
     "text": [
      "\tKWT,  9th phase (25Aug2020 - 06Sep2020): finished  515 trials in 0 min 20 sec"
     ]
    },
    {
     "name": "stdout",
     "output_type": "stream",
     "text": [
      "\n"
     ]
    },
    {
     "name": "stdout",
     "output_type": "stream",
     "text": [
      "\tMEX,  6th phase (28Jul2020 - 04Aug2020): finished 1322 trials in 1 min  0 sec"
     ]
    },
    {
     "name": "stdout",
     "output_type": "stream",
     "text": [
      "\n"
     ]
    },
    {
     "name": "stdout",
     "output_type": "stream",
     "text": [
      "\tBGD,  3rd phase (21Jun2020 - 28Jun2020): finished 1080 trials in 0 min 50 sec"
     ]
    },
    {
     "name": "stdout",
     "output_type": "stream",
     "text": [
      "\n"
     ]
    },
    {
     "name": "stdout",
     "output_type": "stream",
     "text": [
      "\tFRA,  3rd phase (13Apr2020 - 21Apr2020): finished 1278 trials in 1 min  0 sec"
     ]
    },
    {
     "name": "stdout",
     "output_type": "stream",
     "text": [
      "\n"
     ]
    },
    {
     "name": "stdout",
     "output_type": "stream",
     "text": [
      "\tPER,  8th phase (20Aug2020 - 28Aug2020): finished 1206 trials in 1 min  0 sec"
     ]
    },
    {
     "name": "stdout",
     "output_type": "stream",
     "text": [
      "\n"
     ]
    },
    {
     "name": "stdout",
     "output_type": "stream",
     "text": [
      "\tRUS,  7th phase (01Jul2020 - 12Jul2020): finished 1210 trials in 1 min  0 sec"
     ]
    },
    {
     "name": "stdout",
     "output_type": "stream",
     "text": [
      "\n"
     ]
    },
    {
     "name": "stdout",
     "output_type": "stream",
     "text": [
      "\tMDA,  6th phase (04Aug2020 - 15Aug2020): finished 1210 trials in 1 min  0 sec"
     ]
    },
    {
     "name": "stdout",
     "output_type": "stream",
     "text": [
      "\n"
     ]
    },
    {
     "name": "stdout",
     "output_type": "stream",
     "text": [
      "\tPER,  2nd phase (29May2020 - 13Jun2020): finished 1190 trials in 1 min  0 sec"
     ]
    },
    {
     "name": "stdout",
     "output_type": "stream",
     "text": [
      "\n"
     ]
    },
    {
     "name": "stdout",
     "output_type": "stream",
     "text": [
      "\tEST,  6th phase (04Jun2020 - 14Jul2020): finished 1204 trials in 1 min  0 sec"
     ]
    },
    {
     "name": "stdout",
     "output_type": "stream",
     "text": [
      "\n"
     ]
    },
    {
     "name": "stdout",
     "output_type": "stream",
     "text": [
      "\tPRT,  3rd phase (02Jun2020 - 13Jun2020): finished 1251 trials in 1 min  0 sec"
     ]
    },
    {
     "name": "stdout",
     "output_type": "stream",
     "text": [
      "\n"
     ]
    },
    {
     "name": "stdout",
     "output_type": "stream",
     "text": [
      "\tRUS,  3rd phase (24May2020 - 01Jun2020): finished 1270 trials in 1 min  0 sec"
     ]
    },
    {
     "name": "stdout",
     "output_type": "stream",
     "text": [
      "\n"
     ]
    },
    {
     "name": "stdout",
     "output_type": "stream",
     "text": [
      "\tFRA,  0th phase (12Feb2020 - 23Mar2020): finished 1231 trials in 1 min  0 sec"
     ]
    },
    {
     "name": "stdout",
     "output_type": "stream",
     "text": [
      "\n"
     ]
    },
    {
     "name": "stdout",
     "output_type": "stream",
     "text": [
      "\tBOL,  5th phase (23Jul2020 - 31Jul2020): finished  151 trials in 0 min  5 sec"
     ]
    },
    {
     "name": "stdout",
     "output_type": "stream",
     "text": [
      "\n"
     ]
    },
    {
     "name": "stdout",
     "output_type": "stream",
     "text": [
      "\tARE,  9th phase (18Aug2020 - 01Sep2020): finished 1026 trials in 0 min 45 sec"
     ]
    },
    {
     "name": "stdout",
     "output_type": "stream",
     "text": [
      "\n"
     ]
    },
    {
     "name": "stdout",
     "output_type": "stream",
     "text": [
      "\tHND,  4th phase (16Jul2020 - 23Jul2020): finished 1296 trials in 1 min  0 sec"
     ]
    },
    {
     "name": "stdout",
     "output_type": "stream",
     "text": [
      "\n"
     ]
    },
    {
     "name": "stdout",
     "output_type": "stream",
     "text": [
      "\tHND,  9th phase (05Sep2020 - 12Sep2020): finished 1312 trials in 1 min  0 sec"
     ]
    },
    {
     "name": "stdout",
     "output_type": "stream",
     "text": [
      "\n"
     ]
    },
    {
     "name": "stdout",
     "output_type": "stream",
     "text": [
      "\tITA,  5th phase (01May2020 - 10May2020): finished  441 trials in 0 min 15 sec"
     ]
    },
    {
     "name": "stdout",
     "output_type": "stream",
     "text": [
      "\n"
     ]
    },
    {
     "name": "stdout",
     "output_type": "stream",
     "text": [
      "\tMKD,  6th phase (06Aug2020 - 13Aug2020): finished 1310 trials in 1 min  0 sec"
     ]
    },
    {
     "name": "stdout",
     "output_type": "stream",
     "text": [
      "\n"
     ]
    },
    {
     "name": "stdout",
     "output_type": "stream",
     "text": [
      "\tMDA,  3rd phase (23Jun2020 - 08Jul2020): finished 1322 trials in 1 min  0 sec"
     ]
    },
    {
     "name": "stdout",
     "output_type": "stream",
     "text": [
      "\n"
     ]
    },
    {
     "name": "stdout",
     "output_type": "stream",
     "text": [
      "\tRUS,  5th phase (12Jun2020 - 20Jun2020): finished 1381 trials in 1 min  0 sec"
     ]
    },
    {
     "name": "stdout",
     "output_type": "stream",
     "text": [
      "\n"
     ]
    },
    {
     "name": "stdout",
     "output_type": "stream",
     "text": [
      "\tNGA,  2nd phase (09Jun2020 - 18Jun2020): finished 1374 trials in 1 min  0 sec"
     ]
    },
    {
     "name": "stdout",
     "output_type": "stream",
     "text": [
      "\n"
     ]
    },
    {
     "name": "stdout",
     "output_type": "stream",
     "text": [
      "\tIRN,  7th phase (16Jul2020 - 30Jul2020): finished 1347 trials in 1 min  0 sec"
     ]
    },
    {
     "name": "stdout",
     "output_type": "stream",
     "text": [
      "\n"
     ]
    },
    {
     "name": "stdout",
     "output_type": "stream",
     "text": [
      "\tKWT, 10th phase (07Sep2020 - 21Sep2020): finished  420 trials in 0 min 15 sec"
     ]
    },
    {
     "name": "stdout",
     "output_type": "stream",
     "text": [
      "\n"
     ]
    },
    {
     "name": "stdout",
     "output_type": "stream",
     "text": [
      "\tEST,  4th phase (14May2020 - 24May2020): finished 1378 trials in 1 min  0 sec"
     ]
    },
    {
     "name": "stdout",
     "output_type": "stream",
     "text": [
      "\n"
     ]
    },
    {
     "name": "stdout",
     "output_type": "stream",
     "text": [
      "\tHND,  0th phase (28Mar2020 - 07Jun2020): finished 1324 trials in 1 min  0 sec"
     ]
    },
    {
     "name": "stdout",
     "output_type": "stream",
     "text": [
      "\n"
     ]
    },
    {
     "name": "stdout",
     "output_type": "stream",
     "text": [
      "\tPRT,  0th phase (14Mar2020 - 27Apr2020): finished 1326 trials in 1 min  0 sec"
     ]
    },
    {
     "name": "stdout",
     "output_type": "stream",
     "text": [
      "\n"
     ]
    },
    {
     "name": "stdout",
     "output_type": "stream",
     "text": [
      "\tMDA,  5th phase (23Jul2020 - 03Aug2020): finished  421 trials in 0 min 15 sec"
     ]
    },
    {
     "name": "stdout",
     "output_type": "stream",
     "text": [
      "\n"
     ]
    },
    {
     "name": "stdout",
     "output_type": "stream",
     "text": [
      "\tEST,  8th phase (18Aug2020 - 27Aug2020): finished 1368 trials in 1 min  0 sec"
     ]
    },
    {
     "name": "stdout",
     "output_type": "stream",
     "text": [
      "\n"
     ]
    },
    {
     "name": "stdout",
     "output_type": "stream",
     "text": [
      "\tBGD,  1st phase (27May2020 - 12Jun2020): finished 1381 trials in 1 min  0 sec"
     ]
    },
    {
     "name": "stdout",
     "output_type": "stream",
     "text": [
      "\n"
     ]
    },
    {
     "name": "stdout",
     "output_type": "stream",
     "text": [
      "\tDNK,  7th phase (31Jul2020 - 14Aug2020): finished  554 trials in 0 min 20 sec"
     ]
    },
    {
     "name": "stdout",
     "output_type": "stream",
     "text": [
      "\n"
     ]
    },
    {
     "name": "stdout",
     "output_type": "stream",
     "text": [
      "\tUSA, 10th phase (27Aug2020 - 07Sep2020): finished  159 trials in 0 min  5 sec"
     ]
    },
    {
     "name": "stdout",
     "output_type": "stream",
     "text": [
      "\n"
     ]
    },
    {
     "name": "stdout",
     "output_type": "stream",
     "text": [
      "\tMKD,  3rd phase (07Jul2020 - 16Jul2020): finished  426 trials in 0 min 15 sec"
     ]
    },
    {
     "name": "stdout",
     "output_type": "stream",
     "text": [
      "\n"
     ]
    },
    {
     "name": "stdout",
     "output_type": "stream",
     "text": [
      "\tBHR,  9th phase (22Aug2020 - 03Sep2020): finished  582 trials in 0 min 20 sec"
     ]
    },
    {
     "name": "stdout",
     "output_type": "stream",
     "text": [
      "\n"
     ]
    },
    {
     "name": "stdout",
     "output_type": "stream",
     "text": [
      "\tBHR,  0th phase (06Mar2020 - 07May2020): finished 1321 trials in 1 min  0 sec"
     ]
    },
    {
     "name": "stdout",
     "output_type": "stream",
     "text": [
      "\n"
     ]
    },
    {
     "name": "stdout",
     "output_type": "stream",
     "text": [
      "\tPRT,  7th phase (23Jul2020 - 10Aug2020): finished 1334 trials in 1 min  0 sec"
     ]
    },
    {
     "name": "stdout",
     "output_type": "stream",
     "text": [
      "\n"
     ]
    },
    {
     "name": "stdout",
     "output_type": "stream",
     "text": [
      "\tBHR,  6th phase (16Jul2020 - 26Jul2020): finished 1374 trials in 1 min  0 sec"
     ]
    },
    {
     "name": "stdout",
     "output_type": "stream",
     "text": [
      "\n"
     ]
    },
    {
     "name": "stdout",
     "output_type": "stream",
     "text": [
      "\tGIN, 10th phase (03Sep2020 - 21Sep2020): finished 1362 trials in 1 min  0 sec"
     ]
    },
    {
     "name": "stdout",
     "output_type": "stream",
     "text": [
      "\n"
     ]
    },
    {
     "name": "stdout",
     "output_type": "stream",
     "text": [
      "\tRUS, 11th phase (23Aug2020 - 04Sep2020): finished 1165 trials in 0 min 50 sec"
     ]
    },
    {
     "name": "stdout",
     "output_type": "stream",
     "text": [
      "\n"
     ]
    },
    {
     "name": "stdout",
     "output_type": "stream",
     "text": [
      "\tRUS,  6th phase (21Jun2020 - 30Jun2020): finished 1372 trials in 1 min  0 sec"
     ]
    },
    {
     "name": "stdout",
     "output_type": "stream",
     "text": [
      "\n"
     ]
    },
    {
     "name": "stdout",
     "output_type": "stream",
     "text": [
      "\tBFA,  1st phase (01Apr2020 - 09Apr2020): finished 1346 trials in 1 min  0 sec"
     ]
    },
    {
     "name": "stdout",
     "output_type": "stream",
     "text": [
      "\tHND,  8th phase (22Aug2020 - 04Sep2020): finished 1344 trials in 1 min  0 sec"
     ]
    },
    {
     "name": "stdout",
     "output_type": "stream",
     "text": [
      "\n"
     ]
    },
    {
     "name": "stdout",
     "output_type": "stream",
     "text": [
      "\n"
     ]
    },
    {
     "name": "stdout",
     "output_type": "stream",
     "text": [
      "\tBRA,  7th phase (12Aug2020 - 20Aug2020): finished 1367 trials in 1 min  0 sec"
     ]
    },
    {
     "name": "stdout",
     "output_type": "stream",
     "text": [
      "\n"
     ]
    },
    {
     "name": "stdout",
     "output_type": "stream",
     "text": [
      "\tBHR,  7th phase (27Jul2020 - 08Aug2020): finished  301 trials in 0 min 10 sec"
     ]
    },
    {
     "name": "stdout",
     "output_type": "stream",
     "text": [
      "\n"
     ]
    },
    {
     "name": "stdout",
     "output_type": "stream",
     "text": [
      "\tHUN,  1st phase (14Apr2020 - 21Apr2020): finished 1362 trials in 1 min  0 sec"
     ]
    },
    {
     "name": "stdout",
     "output_type": "stream",
     "text": [
      "\n"
     ]
    },
    {
     "name": "stdout",
     "output_type": "stream",
     "text": [
      "\tHUN,  6th phase (30May2020 - 25Jun2020): finished 1338 trials in 1 min  0 sec"
     ]
    },
    {
     "name": "stdout",
     "output_type": "stream",
     "text": [
      "\n"
     ]
    },
    {
     "name": "stdout",
     "output_type": "stream",
     "text": [
      "\tHUN, 10th phase (27Aug2020 - 12Sep2020): finished 1338 trials in 1 min  0 sec"
     ]
    },
    {
     "name": "stdout",
     "output_type": "stream",
     "text": [
      "\n"
     ]
    },
    {
     "name": "stdout",
     "output_type": "stream",
     "text": [
      "\tBOL,  9th phase (26Aug2020 - 09Sep2020): finished 1258 trials in 1 min  0 sec"
     ]
    },
    {
     "name": "stdout",
     "output_type": "stream",
     "text": [
      "\n"
     ]
    },
    {
     "name": "stdout",
     "output_type": "stream",
     "text": [
      "\tDNK,  6th phase (15Jun2020 - 30Jul2020): finished 1226 trials in 1 min  0 sec"
     ]
    },
    {
     "name": "stdout",
     "output_type": "stream",
     "text": [
      "\n"
     ]
    },
    {
     "name": "stdout",
     "output_type": "stream",
     "text": [
      "\tFRA,  2nd phase (03Apr2020 - 12Apr2020): finished 1240 trials in 1 min  0 sec"
     ]
    },
    {
     "name": "stdout",
     "output_type": "stream",
     "text": [
      "\n"
     ]
    },
    {
     "name": "stdout",
     "output_type": "stream",
     "text": [
      "\tBFA,  2nd phase (10Apr2020 - 19Apr2020): finished 1237 trials in 1 min  0 sec"
     ]
    },
    {
     "name": "stdout",
     "output_type": "stream",
     "text": [
      "\n"
     ]
    },
    {
     "name": "stdout",
     "output_type": "stream",
     "text": [
      "\tKWT,  6th phase (15Jul2020 - 27Jul2020): finished  294 trials in 0 min 10 sec"
     ]
    },
    {
     "name": "stdout",
     "output_type": "stream",
     "text": [
      "\n"
     ]
    },
    {
     "name": "stdout",
     "output_type": "stream",
     "text": [
      "\tARE,  7th phase (11Jul2020 - 26Jul2020): finished  283 trials in 0 min 10 sec"
     ]
    },
    {
     "name": "stdout",
     "output_type": "stream",
     "text": [
      "\n"
     ]
    },
    {
     "name": "stdout",
     "output_type": "stream",
     "text": [
      "\tMEX,  9th phase (26Aug2020 - 06Sep2020): finished  242 trials in 0 min 10 sec"
     ]
    },
    {
     "name": "stdout",
     "output_type": "stream",
     "text": [
      "\n"
     ]
    },
    {
     "name": "stdout",
     "output_type": "stream",
     "text": [
      "\tNGA,  4th phase (27Jun2020 - 11Jul2020): finished 1263 trials in 1 min  0 sec"
     ]
    },
    {
     "name": "stdout",
     "output_type": "stream",
     "text": [
      "\n"
     ]
    },
    {
     "name": "stdout",
     "output_type": "stream",
     "text": [
      "\tBHR,  5th phase (06Jul2020 - 15Jul2020): finished 1229 trials in 1 min  0 sec"
     ]
    },
    {
     "name": "stdout",
     "output_type": "stream",
     "text": [
      "\n"
     ]
    },
    {
     "name": "stdout",
     "output_type": "stream",
     "text": [
      "\tBRA,  2nd phase (13Jun2020 - 25Jun2020): finished  340 trials in 0 min 15 sec"
     ]
    },
    {
     "name": "stdout",
     "output_type": "stream",
     "text": [
      "\n"
     ]
    },
    {
     "name": "stdout",
     "output_type": "stream",
     "text": [
      "\tDNK,  3rd phase (24Apr2020 - 03May2020): finished 1050 trials in 1 min  0 sec"
     ]
    },
    {
     "name": "stdout",
     "output_type": "stream",
     "text": [
      "\n"
     ]
    },
    {
     "name": "stdout",
     "output_type": "stream",
     "text": [
      "\tMEX,  0th phase (03Mar2020 - 22May2020): finished  991 trials in 1 min  0 sec"
     ]
    },
    {
     "name": "stdout",
     "output_type": "stream",
     "text": [
      "\n"
     ]
    },
    {
     "name": "stdout",
     "output_type": "stream",
     "text": [
      "\tBGD,  6th phase (19Jul2020 - 30Jul2020): finished 1005 trials in 1 min  0 sec"
     ]
    },
    {
     "name": "stdout",
     "output_type": "stream",
     "text": [
      "\n"
     ]
    },
    {
     "name": "stdout",
     "output_type": "stream",
     "text": [
      "\tITA,  2nd phase (29Mar2020 - 08Apr2020): finished 1017 trials in 1 min  0 sec"
     ]
    },
    {
     "name": "stdout",
     "output_type": "stream",
     "text": [
      "\n"
     ]
    },
    {
     "name": "stdout",
     "output_type": "stream",
     "text": [
      "\tTUR,  0th phase (24Mar2020 - 16Apr2020): finished 1129 trials in 1 min  0 sec"
     ]
    },
    {
     "name": "stdout",
     "output_type": "stream",
     "text": [
      "\n"
     ]
    },
    {
     "name": "stdout",
     "output_type": "stream",
     "text": [
      "\tHUN,  2nd phase (22Apr2020 - 01May2020): finished 1142 trials in 1 min  0 sec"
     ]
    },
    {
     "name": "stdout",
     "output_type": "stream",
     "text": [
      "\n"
     ]
    },
    {
     "name": "stdout",
     "output_type": "stream",
     "text": [
      "\tITA,  7th phase (23May2020 - 23Jun2020): finished  333 trials in 0 min 15 sec"
     ]
    },
    {
     "name": "stdout",
     "output_type": "stream",
     "text": [
      "\n"
     ]
    },
    {
     "name": "stdout",
     "output_type": "stream",
     "text": [
      "\tBGD,  5th phase (08Jul2020 - 18Jul2020): finished  364 trials in 0 min 15 sec"
     ]
    },
    {
     "name": "stdout",
     "output_type": "stream",
     "text": [
      "\n"
     ]
    },
    {
     "name": "stdout",
     "output_type": "stream",
     "text": [
      "\tPER,  5th phase (18Jul2020 - 31Jul2020): finished 1168 trials in 1 min  0 sec"
     ]
    },
    {
     "name": "stdout",
     "output_type": "stream",
     "text": [
      "\n"
     ]
    },
    {
     "name": "stdout",
     "output_type": "stream",
     "text": [
      "\tMKD,  0th phase (13Mar2020 - 01Jun2020): finished 1109 trials in 1 min  0 sec"
     ]
    },
    {
     "name": "stdout",
     "output_type": "stream",
     "text": [
      "\n"
     ]
    },
    {
     "name": "stdout",
     "output_type": "stream",
     "text": [
      "\tHND,  6th phase (03Aug2020 - 13Aug2020): finished  756 trials in 0 min 35 sec"
     ]
    },
    {
     "name": "stdout",
     "output_type": "stream",
     "text": [
      "\n"
     ]
    },
    {
     "name": "stdout",
     "output_type": "stream",
     "text": [
      "\tNGA,  5th phase (12Jul2020 - 20Jul2020): finished  566 trials in 0 min 25 sec"
     ]
    },
    {
     "name": "stdout",
     "output_type": "stream",
     "text": [
      "\n"
     ]
    },
    {
     "name": "stdout",
     "output_type": "stream",
     "text": [
      "\tMEX,  1st phase (23May2020 - 10Jun2020): finished  756 trials in 0 min 35 sec"
     ]
    },
    {
     "name": "stdout",
     "output_type": "stream",
     "text": [
      "\n"
     ]
    },
    {
     "name": "stdout",
     "output_type": "stream",
     "text": [
      "\tEST,  1st phase (08Apr2020 - 18Apr2020): finished 1177 trials in 1 min  0 sec"
     ]
    },
    {
     "name": "stdout",
     "output_type": "stream",
     "text": [
      "\n"
     ]
    },
    {
     "name": "stdout",
     "output_type": "stream",
     "text": [
      "\tHUN,  3rd phase (02May2020 - 09May2020): finished 1186 trials in 1 min  0 sec"
     ]
    },
    {
     "name": "stdout",
     "output_type": "stream",
     "text": [
      "\n"
     ]
    },
    {
     "name": "stdout",
     "output_type": "stream",
     "text": [
      "\tKWT,  1st phase (13May2020 - 27May2020): finished 1158 trials in 1 min  0 sec"
     ]
    },
    {
     "name": "stdout",
     "output_type": "stream",
     "text": [
      "\n"
     ]
    },
    {
     "name": "stdout",
     "output_type": "stream",
     "text": [
      "\tGIN,  9th phase (17Aug2020 - 02Sep2020): finished 1127 trials in 1 min  0 sec"
     ]
    },
    {
     "name": "stdout",
     "output_type": "stream",
     "text": [
      "\n"
     ]
    },
    {
     "name": "stdout",
     "output_type": "stream",
     "text": [
      "\tHUN,  8th phase (24Jul2020 - 13Aug2020): finished  260 trials in 0 min 10 sec"
     ]
    },
    {
     "name": "stdout",
     "output_type": "stream",
     "text": [
      "\n"
     ]
    },
    {
     "name": "stdout",
     "output_type": "stream",
     "text": [
      "\tRUS, 10th phase (08Aug2020 - 22Aug2020): finished 1159 trials in 1 min  0 sec"
     ]
    },
    {
     "name": "stdout",
     "output_type": "stream",
     "text": [
      "\n"
     ]
    },
    {
     "name": "stdout",
     "output_type": "stream",
     "text": [
      "\tMKD,  8th phase (23Aug2020 - 01Sep2020): finished 1169 trials in 1 min  0 sec"
     ]
    },
    {
     "name": "stdout",
     "output_type": "stream",
     "text": [
      "\n"
     ]
    },
    {
     "name": "stdout",
     "output_type": "stream",
     "text": [
      "\tFRA,  1st phase (24Mar2020 - 02Apr2020): finished 1240 trials in 1 min  0 sec"
     ]
    },
    {
     "name": "stdout",
     "output_type": "stream",
     "text": [
      "\n"
     ]
    },
    {
     "name": "stdout",
     "output_type": "stream",
     "text": [
      "\tBFA,  6th phase (25Jun2020 - 25Jul2020): finished 1215 trials in 1 min  0 sec"
     ]
    },
    {
     "name": "stdout",
     "output_type": "stream",
     "text": [
      "\n"
     ]
    },
    {
     "name": "stdout",
     "output_type": "stream",
     "text": [
      "\tARE,  2nd phase (13May2020 - 20May2020): finished 1225 trials in 1 min  0 sec"
     ]
    },
    {
     "name": "stdout",
     "output_type": "stream",
     "text": [
      "\n"
     ]
    },
    {
     "name": "stdout",
     "output_type": "stream",
     "text": [
      "\tBHR,  1st phase (08May2020 - 01Jun2020): finished 1229 trials in 1 min  0 sec"
     ]
    },
    {
     "name": "stdout",
     "output_type": "stream",
     "text": [
      "\n"
     ]
    },
    {
     "name": "stdout",
     "output_type": "stream",
     "text": [
      "\tARE,  4th phase (08Jun2020 - 19Jun2020): finished 1076 trials in 0 min 50 sec"
     ]
    },
    {
     "name": "stdout",
     "output_type": "stream",
     "text": [
      "\n"
     ]
    },
    {
     "name": "stdout",
     "output_type": "stream",
     "text": [
      "\tIRN,  6th phase (02Jul2020 - 15Jul2020): finished  138 trials in 0 min  5 sec"
     ]
    },
    {
     "name": "stdout",
     "output_type": "stream",
     "text": [
      "\n"
     ]
    },
    {
     "name": "stdout",
     "output_type": "stream",
     "text": [
      "\tTUR,  3rd phase (09May2020 - 22May2020): finished 1212 trials in 1 min  0 sec"
     ]
    },
    {
     "name": "stdout",
     "output_type": "stream",
     "text": [
      "\n"
     ]
    },
    {
     "name": "stdout",
     "output_type": "stream",
     "text": [
      "\tMKD,  1st phase (02Jun2020 - 24Jun2020): finished 1202 trials in 1 min  0 sec"
     ]
    },
    {
     "name": "stdout",
     "output_type": "stream",
     "text": [
      "\n"
     ]
    },
    {
     "name": "stdout",
     "output_type": "stream",
     "text": [
      "\tTUR,  1st phase (17Apr2020 - 29Apr2020): finished 1177 trials in 1 min  0 sec"
     ]
    },
    {
     "name": "stdout",
     "output_type": "stream",
     "text": [
      "\n"
     ]
    },
    {
     "name": "stdout",
     "output_type": "stream",
     "text": [
      "\tGIN,  1st phase (01May2020 - 12May2020): finished 1128 trials in 1 min  0 sec"
     ]
    },
    {
     "name": "stdout",
     "output_type": "stream",
     "text": [
      "\n"
     ]
    },
    {
     "name": "stdout",
     "output_type": "stream",
     "text": [
      "\tPER,  9th phase (29Aug2020 - 08Sep2020): finished 1132 trials in 1 min  0 sec"
     ]
    },
    {
     "name": "stdout",
     "output_type": "stream",
     "text": [
      "\n"
     ]
    },
    {
     "name": "stdout",
     "output_type": "stream",
     "text": [
      "\tBOL,  0th phase (01Apr2020 - 13Jun2020): finished 1094 trials in 1 min  0 sec"
     ]
    },
    {
     "name": "stdout",
     "output_type": "stream",
     "text": [
      "\n"
     ]
    },
    {
     "name": "stdout",
     "output_type": "stream",
     "text": [
      "\tPRT,  5th phase (26Jun2020 - 08Jul2020): finished 1155 trials in 1 min  0 sec"
     ]
    },
    {
     "name": "stdout",
     "output_type": "stream",
     "text": [
      "\n"
     ]
    },
    {
     "name": "stdout",
     "output_type": "stream",
     "text": [
      "\tBFA,  5th phase (20May2020 - 24Jun2020): finished 1203 trials in 1 min  0 sec"
     ]
    },
    {
     "name": "stdout",
     "output_type": "stream",
     "text": [
      "\n"
     ]
    },
    {
     "name": "stdout",
     "output_type": "stream",
     "text": [
      "\tBGD,  4th phase (29Jun2020 - 07Jul2020): finished 1121 trials in 0 min 55 sec"
     ]
    },
    {
     "name": "stdout",
     "output_type": "stream",
     "text": [
      "\n"
     ]
    },
    {
     "name": "stdout",
     "output_type": "stream",
     "text": [
      "\tPER,  4th phase (01Jul2020 - 17Jul2020): finished 1202 trials in 1 min  0 sec"
     ]
    },
    {
     "name": "stdout",
     "output_type": "stream",
     "text": [
      "\n"
     ]
    },
    {
     "name": "stdout",
     "output_type": "stream",
     "text": [
      "\tUSA,  3rd phase (06Jun2020 - 24Jun2020): finished 1178 trials in 1 min  0 sec"
     ]
    },
    {
     "name": "stdout",
     "output_type": "stream",
     "text": [
      "\n"
     ]
    },
    {
     "name": "stdout",
     "output_type": "stream",
     "text": [
      "\tUSA,  9th phase (15Aug2020 - 26Aug2020): finished  259 trials in 0 min 10 sec"
     ]
    },
    {
     "name": "stdout",
     "output_type": "stream",
     "text": [
      "\n"
     ]
    },
    {
     "name": "stdout",
     "output_type": "stream",
     "text": [
      "\tRUS,  0th phase (12Feb2020 - 06May2020): finished 1200 trials in 1 min  0 sec"
     ]
    },
    {
     "name": "stdout",
     "output_type": "stream",
     "text": [
      "\n"
     ]
    },
    {
     "name": "stdout",
     "output_type": "stream",
     "text": [
      "\tFRA,  7th phase (24Jun2020 - 24Jul2020): finished 1203 trials in 1 min  0 sec"
     ]
    },
    {
     "name": "stdout",
     "output_type": "stream",
     "text": [
      "\n"
     ]
    },
    {
     "name": "stdout",
     "output_type": "stream",
     "text": [
      "\tBOL,  4th phase (15Jul2020 - 22Jul2020): finished 1223 trials in 1 min  0 sec"
     ]
    },
    {
     "name": "stdout",
     "output_type": "stream",
     "text": [
      "\n"
     ]
    },
    {
     "name": "stdout",
     "output_type": "stream",
     "text": [
      "\tTUR,  5th phase (14Jun2020 - 27Jun2020): finished 1109 trials in 1 min  0 sec"
     ]
    },
    {
     "name": "stdout",
     "output_type": "stream",
     "text": [
      "\n"
     ]
    },
    {
     "name": "stdout",
     "output_type": "stream",
     "text": [
      "\tBHR,  3rd phase (14Jun2020 - 24Jun2020): finished 1104 trials in 1 min  0 sec"
     ]
    },
    {
     "name": "stdout",
     "output_type": "stream",
     "text": [
      "\n"
     ]
    },
    {
     "name": "stdout",
     "output_type": "stream",
     "text": [
      "\tFRA,  6th phase (27May2020 - 23Jun2020): finished 1053 trials in 1 min  0 sec"
     ]
    },
    {
     "name": "stdout",
     "output_type": "stream",
     "text": [
      "\n"
     ]
    },
    {
     "name": "stdout",
     "output_type": "stream",
     "text": [
      "\tHND, 10th phase (13Sep2020 - 21Sep2020): finished 1079 trials in 1 min  0 sec"
     ]
    },
    {
     "name": "stdout",
     "output_type": "stream",
     "text": [
      "\n"
     ]
    },
    {
     "name": "stdout",
     "output_type": "stream",
     "text": [
      "\tBHR,  4th phase (25Jun2020 - 05Jul2020): finished  849 trials in 0 min 40 sec"
     ]
    },
    {
     "name": "stdout",
     "output_type": "stream",
     "text": [
      "\n"
     ]
    },
    {
     "name": "stdout",
     "output_type": "stream",
     "text": [
      "\tIRN,  9th phase (17Aug2020 - 04Sep2020): finished  475 trials in 0 min 20 sec"
     ]
    },
    {
     "name": "stdout",
     "output_type": "stream",
     "text": [
      "\n"
     ]
    },
    {
     "name": "stdout",
     "output_type": "stream",
     "text": [
      "\tBRA,  8th phase (21Aug2020 - 29Aug2020): finished  222 trials in 0 min 10 sec"
     ]
    },
    {
     "name": "stdout",
     "output_type": "stream",
     "text": [
      "\n"
     ]
    },
    {
     "name": "stdout",
     "output_type": "stream",
     "text": [
      "\tRUS,  4th phase (02Jun2020 - 11Jun2020): finished 1182 trials in 1 min  0 sec"
     ]
    },
    {
     "name": "stdout",
     "output_type": "stream",
     "text": [
      "\n"
     ]
    },
    {
     "name": "stdout",
     "output_type": "stream",
     "text": [
      "\tPER,  3rd phase (14Jun2020 - 30Jun2020): finished 1142 trials in 1 min  0 sec"
     ]
    },
    {
     "name": "stdout",
     "output_type": "stream",
     "text": [
      "\n"
     ]
    },
    {
     "name": "stdout",
     "output_type": "stream",
     "text": [
      "\tARE,  1st phase (26Apr2020 - 12May2020): finished 1115 trials in 1 min  0 sec"
     ]
    },
    {
     "name": "stdout",
     "output_type": "stream",
     "text": [
      "\n"
     ]
    },
    {
     "name": "stdout",
     "output_type": "stream",
     "text": [
      "\tBFA,  0th phase (21Mar2020 - 31Mar2020): finished 1194 trials in 1 min  0 sec"
     ]
    },
    {
     "name": "stdout",
     "output_type": "stream",
     "text": [
      "\n"
     ]
    },
    {
     "name": "stdout",
     "output_type": "stream",
     "text": [
      "\tRUS,  1st phase (07May2020 - 15May2020): finished 1183 trials in 1 min  0 sec"
     ]
    },
    {
     "name": "stdout",
     "output_type": "stream",
     "text": [
      "\n"
     ]
    },
    {
     "name": "stdout",
     "output_type": "stream",
     "text": [
      "\tBOL,  3rd phase (06Jul2020 - 14Jul2020): finished  814 trials in 0 min 35 sec"
     ]
    },
    {
     "name": "stdout",
     "output_type": "stream",
     "text": [
      "\n"
     ]
    },
    {
     "name": "stdout",
     "output_type": "stream",
     "text": [
      "\tHND,  2nd phase (25Jun2020 - 04Jul2020): finished 1104 trials in 0 min 50 sec"
     ]
    },
    {
     "name": "stdout",
     "output_type": "stream",
     "text": [
      "\n"
     ]
    },
    {
     "name": "stdout",
     "output_type": "stream",
     "text": [
      "\tKWT,  0th phase (08Mar2020 - 12May2020): finished 1088 trials in 1 min  0 sec"
     ]
    },
    {
     "name": "stdout",
     "output_type": "stream",
     "text": [
      "\n"
     ]
    },
    {
     "name": "stdout",
     "output_type": "stream",
     "text": [
      "\tMKD,  4th phase (17Jul2020 - 26Jul2020): finished  432 trials in 0 min 15 sec"
     ]
    },
    {
     "name": "stdout",
     "output_type": "stream",
     "text": [
      "\n"
     ]
    },
    {
     "name": "stdout",
     "output_type": "stream",
     "text": [
      "\tIRN,  8th phase (31Jul2020 - 16Aug2020): finished  570 trials in 0 min 20 sec"
     ]
    },
    {
     "name": "stdout",
     "output_type": "stream",
     "text": [
      "\n"
     ]
    },
    {
     "name": "stdout",
     "output_type": "stream",
     "text": [
      "\tNGA,  6th phase (21Jul2020 - 28Jul2020): finished  164 trials in 0 min  5 sec"
     ]
    },
    {
     "name": "stdout",
     "output_type": "stream",
     "text": [
      "\n"
     ]
    },
    {
     "name": "stdout",
     "output_type": "stream",
     "text": [
      "\tDNK,  1st phase (05Apr2020 - 14Apr2020): finished 1324 trials in 1 min  0 sec"
     ]
    },
    {
     "name": "stdout",
     "output_type": "stream",
     "text": [
      "\n"
     ]
    },
    {
     "name": "stdout",
     "output_type": "stream",
     "text": [
      "\tUSA,  6th phase (18Jul2020 - 26Jul2020): finished  423 trials in 0 min 15 sec"
     ]
    },
    {
     "name": "stdout",
     "output_type": "stream",
     "text": [
      "\n"
     ]
    },
    {
     "name": "stdout",
     "output_type": "stream",
     "text": [
      "\tBGD,  7th phase (31Jul2020 - 12Aug2020): finished  539 trials in 0 min 20 sec"
     ]
    },
    {
     "name": "stdout",
     "output_type": "stream",
     "text": [
      "\n"
     ]
    },
    {
     "name": "stdout",
     "output_type": "stream",
     "text": [
      "\tDNK,  5th phase (17May2020 - 14Jun2020): finished  285 trials in 0 min 10 sec"
     ]
    },
    {
     "name": "stdout",
     "output_type": "stream",
     "text": [
      "\n"
     ]
    },
    {
     "name": "stdout",
     "output_type": "stream",
     "text": [
      "\tBGD,  2nd phase (13Jun2020 - 20Jun2020): finished 1336 trials in 1 min  0 sec"
     ]
    },
    {
     "name": "stdout",
     "output_type": "stream",
     "text": [
      "\n"
     ]
    },
    {
     "name": "stdout",
     "output_type": "stream",
     "text": [
      "\tKWT,  8th phase (11Aug2020 - 24Aug2020): finished  465 trials in 0 min 20 sec"
     ]
    },
    {
     "name": "stdout",
     "output_type": "stream",
     "text": [
      "\n"
     ]
    },
    {
     "name": "stdout",
     "output_type": "stream",
     "text": [
      "\tNGA,  7th phase (29Jul2020 - 07Aug2020): finished 1211 trials in 1 min  0 sec"
     ]
    },
    {
     "name": "stdout",
     "output_type": "stream",
     "text": [
      "\n"
     ]
    },
    {
     "name": "stdout",
     "output_type": "stream",
     "text": [
      "\tFRA,  4th phase (22Apr2020 - 04May2020): finished 1221 trials in 1 min  0 sec"
     ]
    },
    {
     "name": "stdout",
     "output_type": "stream",
     "text": [
      "\n"
     ]
    },
    {
     "name": "stdout",
     "output_type": "stream",
     "text": [
      "\tMKD,  2nd phase (25Jun2020 - 06Jul2020): finished 1194 trials in 1 min  0 sec"
     ]
    },
    {
     "name": "stdout",
     "output_type": "stream",
     "text": [
      "\n"
     ]
    },
    {
     "name": "stdout",
     "output_type": "stream",
     "text": [
      "\tGIN,  7th phase (24Jul2020 - 05Aug2020): finished  420 trials in 0 min 15 sec"
     ]
    },
    {
     "name": "stdout",
     "output_type": "stream",
     "text": [
      "\n"
     ]
    },
    {
     "name": "stdout",
     "output_type": "stream",
     "text": [
      "\tBOL,  2nd phase (26Jun2020 - 05Jul2020): finished  233 trials in 0 min 10 sec"
     ]
    },
    {
     "name": "stdout",
     "output_type": "stream",
     "text": [
      "\n"
     ]
    },
    {
     "name": "stdout",
     "output_type": "stream",
     "text": [
      "\tKWT,  3rd phase (08Jun2020 - 22Jun2020): finished 1249 trials in 1 min  0 sec"
     ]
    },
    {
     "name": "stdout",
     "output_type": "stream",
     "text": [
      "\n"
     ]
    },
    {
     "name": "stdout",
     "output_type": "stream",
     "text": [
      "\tBFA,  4th phase (05May2020 - 19May2020): finished 1302 trials in 1 min  0 sec"
     ]
    },
    {
     "name": "stdout",
     "output_type": "stream",
     "text": [
      "\n"
     ]
    },
    {
     "name": "stdout",
     "output_type": "stream",
     "text": [
      "\tBHR, 10th phase (04Sep2020 - 12Sep2020): finished 1272 trials in 1 min  0 sec"
     ]
    },
    {
     "name": "stdout",
     "output_type": "stream",
     "text": [
      "\n"
     ]
    },
    {
     "name": "stdout",
     "output_type": "stream",
     "text": [
      "\tNGA, 10th phase (01Sep2020 - 21Sep2020): finished 1302 trials in 1 min  0 sec"
     ]
    },
    {
     "name": "stdout",
     "output_type": "stream",
     "text": [
      "\n"
     ]
    },
    {
     "name": "stdout",
     "output_type": "stream",
     "text": [
      "\tGIN,  6th phase (09Jul2020 - 23Jul2020): finished 1328 trials in 1 min  0 sec"
     ]
    },
    {
     "name": "stdout",
     "output_type": "stream",
     "text": [
      "\n"
     ]
    },
    {
     "name": "stdout",
     "output_type": "stream",
     "text": [
      "\tRUS,  9th phase (25Jul2020 - 07Aug2020): finished 1316 trials in 1 min  0 sec"
     ]
    },
    {
     "name": "stdout",
     "output_type": "stream",
     "text": [
      "\n"
     ]
    },
    {
     "name": "stdout",
     "output_type": "stream",
     "text": [
      "\tPRT,  2nd phase (18May2020 - 01Jun2020): finished 1325 trials in 1 min  0 sec"
     ]
    },
    {
     "name": "stdout",
     "output_type": "stream",
     "text": [
      "\n"
     ]
    },
    {
     "name": "stdout",
     "output_type": "stream",
     "text": [
      "\tFRA,  9th phase (14Aug2020 - 31Aug2020): finished  505 trials in 0 min 20 sec"
     ]
    },
    {
     "name": "stdout",
     "output_type": "stream",
     "text": [
      "\n"
     ]
    },
    {
     "name": "stdout",
     "output_type": "stream",
     "text": [
      "\tUSA,  8th phase (06Aug2020 - 14Aug2020): finished  247 trials in 0 min 10 sec"
     ]
    },
    {
     "name": "stdout",
     "output_type": "stream",
     "text": [
      "\n"
     ]
    },
    {
     "name": "stdout",
     "output_type": "stream",
     "text": [
      "\tBGD,  8th phase (13Aug2020 - 24Aug2020): finished 1248 trials in 1 min  0 sec"
     ]
    },
    {
     "name": "stdout",
     "output_type": "stream",
     "text": [
      "\n"
     ]
    },
    {
     "name": "stdout",
     "output_type": "stream",
     "text": [
      "\tHND,  7th phase (14Aug2020 - 21Aug2020): finished  756 trials in 0 min 35 sec"
     ]
    },
    {
     "name": "stdout",
     "output_type": "stream",
     "text": [
      "\n"
     ]
    },
    {
     "name": "stdout",
     "output_type": "stream",
     "text": [
      "\tTUR,  4th phase (23May2020 - 13Jun2020): finished  216 trials in 0 min 10 sec"
     ]
    },
    {
     "name": "stdout",
     "output_type": "stream",
     "text": [
      "\n"
     ]
    },
    {
     "name": "stdout",
     "output_type": "stream",
     "text": [
      "\tHND,  3rd phase (05Jul2020 - 15Jul2020): finished 1218 trials in 1 min  0 sec"
     ]
    },
    {
     "name": "stdout",
     "output_type": "stream",
     "text": [
      "\n"
     ]
    },
    {
     "name": "stdout",
     "output_type": "stream",
     "text": [
      "\tFRA,  5th phase (05May2020 - 26May2020): finished 1237 trials in 1 min  0 sec"
     ]
    },
    {
     "name": "stdout",
     "output_type": "stream",
     "text": [
      "\n"
     ]
    },
    {
     "name": "stdout",
     "output_type": "stream",
     "text": [
      "\tHND,  1st phase (08Jun2020 - 24Jun2020): finished 1301 trials in 1 min  0 sec"
     ]
    },
    {
     "name": "stdout",
     "output_type": "stream",
     "text": [
      "\n"
     ]
    },
    {
     "name": "stdout",
     "output_type": "stream",
     "text": [
      "\tHND,  5th phase (24Jul2020 - 02Aug2020): finished 1329 trials in 1 min  0 sec"
     ]
    },
    {
     "name": "stdout",
     "output_type": "stream",
     "text": [
      "\n"
     ]
    },
    {
     "name": "stdout",
     "output_type": "stream",
     "text": [
      "\tEST,  5th phase (25May2020 - 03Jun2020): finished  145 trials in 0 min  5 sec"
     ]
    },
    {
     "name": "stdout",
     "output_type": "stream",
     "text": [
      "\n"
     ]
    },
    {
     "name": "stdout",
     "output_type": "stream",
     "text": [
      "\tHUN,  4th phase (10May2020 - 17May2020): finished  152 trials in 0 min  5 sec"
     ]
    },
    {
     "name": "stdout",
     "output_type": "stream",
     "text": [
      "\n"
     ]
    },
    {
     "name": "stdout",
     "output_type": "stream",
     "text": [
      "\tIRN,  0th phase (26Feb2020 - 29Mar2020): finished 1308 trials in 1 min  0 sec"
     ]
    },
    {
     "name": "stdout",
     "output_type": "stream",
     "text": [
      "\n"
     ]
    },
    {
     "name": "stdout",
     "output_type": "stream",
     "text": [
      "\tEST,  2nd phase (19Apr2020 - 30Apr2020): finished 1315 trials in 1 min  0 sec"
     ]
    },
    {
     "name": "stdout",
     "output_type": "stream",
     "text": [
      "\n"
     ]
    },
    {
     "name": "stdout",
     "output_type": "stream",
     "text": [
      "\tNGA,  3rd phase (19Jun2020 - 26Jun2020): finished 1310 trials in 1 min  0 sec"
     ]
    },
    {
     "name": "stdout",
     "output_type": "stream",
     "text": [
      "\n"
     ]
    },
    {
     "name": "stdout",
     "output_type": "stream",
     "text": [
      "\tMEX,  5th phase (18Jul2020 - 27Jul2020): finished 1320 trials in 1 min  0 sec"
     ]
    },
    {
     "name": "stdout",
     "output_type": "stream",
     "text": [
      "\n"
     ]
    },
    {
     "name": "stdout",
     "output_type": "stream",
     "text": [
      "\tUSA,  0th phase (09Feb2020 - 18Apr2020): finished 1272 trials in 1 min  0 sec"
     ]
    },
    {
     "name": "stdout",
     "output_type": "stream",
     "text": [
      "\n"
     ]
    },
    {
     "name": "stdout",
     "output_type": "stream",
     "text": [
      "\tMEX,  7th phase (05Aug2020 - 14Aug2020): finished 1324 trials in 1 min  0 sec"
     ]
    },
    {
     "name": "stdout",
     "output_type": "stream",
     "text": [
      "\n"
     ]
    },
    {
     "name": "stdout",
     "output_type": "stream",
     "text": [
      "\tMEX,  2nd phase (11Jun2020 - 23Jun2020): finished 1307 trials in 1 min  0 sec"
     ]
    },
    {
     "name": "stdout",
     "output_type": "stream",
     "text": [
      "\n"
     ]
    },
    {
     "name": "stdout",
     "output_type": "stream",
     "text": [
      "\tTUR,  7th phase (14Jul2020 - 02Aug2020): finished  250 trials in 0 min 10 sec"
     ]
    },
    {
     "name": "stdout",
     "output_type": "stream",
     "text": [
      "\n"
     ]
    },
    {
     "name": "stdout",
     "output_type": "stream",
     "text": [
      "\tARE,  0th phase (12Feb2020 - 25Apr2020): finished 1243 trials in 1 min  0 sec"
     ]
    },
    {
     "name": "stdout",
     "output_type": "stream",
     "text": [
      "\n"
     ]
    },
    {
     "name": "stdout",
     "output_type": "stream",
     "text": [
      "\tUSA,  1st phase (19Apr2020 - 12May2020): finished 1301 trials in 1 min  1 sec"
     ]
    },
    {
     "name": "stdout",
     "output_type": "stream",
     "text": [
      "\n"
     ]
    },
    {
     "name": "stdout",
     "output_type": "stream",
     "text": [
      "\tKWT,  5th phase (05Jul2020 - 14Jul2020): finished  271 trials in 0 min 10 sec"
     ]
    },
    {
     "name": "stdout",
     "output_type": "stream",
     "text": [
      "\n"
     ]
    },
    {
     "name": "stdout",
     "output_type": "stream",
     "text": [
      "\tHUN,  0th phase (14Mar2020 - 13Apr2020): finished 1245 trials in 1 min  0 sec"
     ]
    },
    {
     "name": "stdout",
     "output_type": "stream",
     "text": [
      "\n"
     ]
    },
    {
     "name": "stdout",
     "output_type": "stream",
     "text": [
      "\tMKD,  7th phase (14Aug2020 - 22Aug2020): finished 1267 trials in 1 min  0 sec"
     ]
    },
    {
     "name": "stdout",
     "output_type": "stream",
     "text": [
      "\n"
     ]
    },
    {
     "name": "stdout",
     "output_type": "stream",
     "text": [
      "\tTUR,  6th phase (28Jun2020 - 13Jul2020): finished  295 trials in 0 min 10 sec"
     ]
    },
    {
     "name": "stdout",
     "output_type": "stream",
     "text": [
      "\n"
     ]
    },
    {
     "name": "stdout",
     "output_type": "stream",
     "text": [
      "\tUSA,  4th phase (25Jun2020 - 07Jul2020): finished 1257 trials in 1 min  0 sec"
     ]
    },
    {
     "name": "stdout",
     "output_type": "stream",
     "text": [
      "\n"
     ]
    },
    {
     "name": "stdout",
     "output_type": "stream",
     "text": [
      "\tPER,  6th phase (01Aug2020 - 10Aug2020): finished 1341 trials in 1 min  0 sec"
     ]
    },
    {
     "name": "stdout",
     "output_type": "stream",
     "text": [
      "\n"
     ]
    },
    {
     "name": "stdout",
     "output_type": "stream",
     "text": [
      "\tMEX,  3rd phase (24Jun2020 - 06Jul2020): finished 1360 trials in 1 min  0 sec"
     ]
    },
    {
     "name": "stdout",
     "output_type": "stream",
     "text": [
      "\n"
     ]
    },
    {
     "name": "stdout",
     "output_type": "stream",
     "text": [
      "\tIRN,  3rd phase (13May2020 - 31May2020): finished  181 trials in 0 min  5 sec"
     ]
    },
    {
     "name": "stdout",
     "output_type": "stream",
     "text": [
      "\n"
     ]
    },
    {
     "name": "stdout",
     "output_type": "stream",
     "text": [
      "\tFRA,  8th phase (25Jul2020 - 13Aug2020): finished  293 trials in 0 min 10 sec"
     ]
    },
    {
     "name": "stdout",
     "output_type": "stream",
     "text": [
      "\n"
     ]
    },
    {
     "name": "stdout",
     "output_type": "stream",
     "text": [
      "\tUSA, 11th phase (08Sep2020 - 21Sep2020): finished  664 trials in 0 min 25 sec"
     ]
    },
    {
     "name": "stdout",
     "output_type": "stream",
     "text": [
      "\n"
     ]
    },
    {
     "name": "stdout",
     "output_type": "stream",
     "text": [
      "\tBRA,  9th phase (30Aug2020 - 08Sep2020): finished 1431 trials in 1 min  0 sec"
     ]
    },
    {
     "name": "stdout",
     "output_type": "stream",
     "text": [
      "\n"
     ]
    },
    {
     "name": "stdout",
     "output_type": "stream",
     "text": [
      "\tITA,  0th phase (24Feb2020 - 20Mar2020): finished 1438 trials in 1 min  0 sec"
     ]
    },
    {
     "name": "stdout",
     "output_type": "stream",
     "text": [
      "\n"
     ]
    },
    {
     "name": "stdout",
     "output_type": "stream",
     "text": [
      "\tPRT,  6th phase (09Jul2020 - 22Jul2020): finished 1418 trials in 1 min  0 sec"
     ]
    },
    {
     "name": "stdout",
     "output_type": "stream",
     "text": [
      "\n"
     ]
    },
    {
     "name": "stdout",
     "output_type": "stream",
     "text": [
      "\tITA,  6th phase (11May2020 - 22May2020): finished  175 trials in 0 min  5 sec"
     ]
    },
    {
     "name": "stdout",
     "output_type": "stream",
     "text": [
      "\n"
     ]
    },
    {
     "name": "stdout",
     "output_type": "stream",
     "text": [
      "\tBGD,  9th phase (25Aug2020 - 04Sep2020): finished  449 trials in 0 min 15 sec"
     ]
    },
    {
     "name": "stdout",
     "output_type": "stream",
     "text": [
      "\n"
     ]
    },
    {
     "name": "stdout",
     "output_type": "stream",
     "text": [
      "\tMDA,  8th phase (25Aug2020 - 02Sep2020): finished 1137 trials in 0 min 40 sec"
     ]
    },
    {
     "name": "stdout",
     "output_type": "stream",
     "text": [
      "\n"
     ]
    },
    {
     "name": "stdout",
     "output_type": "stream",
     "text": [
      "\tIRN,  1st phase (30Mar2020 - 17Apr2020): finished 1526 trials in 1 min  0 sec"
     ]
    },
    {
     "name": "stdout",
     "output_type": "stream",
     "text": [
      "\n"
     ]
    },
    {
     "name": "stdout",
     "output_type": "stream",
     "text": [
      "\tMDA,  7th phase (16Aug2020 - 24Aug2020): finished 1579 trials in 1 min  0 sec"
     ]
    },
    {
     "name": "stdout",
     "output_type": "stream",
     "text": [
      "\n"
     ]
    },
    {
     "name": "stdout",
     "output_type": "stream",
     "text": [
      "\tBRA,  3rd phase (26Jun2020 - 07Jul2020): finished 1546 trials in 1 min  0 sec"
     ]
    },
    {
     "name": "stdout",
     "output_type": "stream",
     "text": [
      "\n"
     ]
    },
    {
     "name": "stdout",
     "output_type": "stream",
     "text": [
      "\tBFA,  8th phase (15Aug2020 - 02Sep2020): finished  330 trials in 0 min 10 sec"
     ]
    },
    {
     "name": "stdout",
     "output_type": "stream",
     "text": [
      "\n"
     ]
    },
    {
     "name": "stdout",
     "output_type": "stream",
     "text": [
      "\tEST,  9th phase (28Aug2020 - 04Sep2020): finished  177 trials in 0 min  5 sec"
     ]
    },
    {
     "name": "stdout",
     "output_type": "stream",
     "text": [
      "\n"
     ]
    },
    {
     "name": "stdout",
     "output_type": "stream",
     "text": [
      "\tITA,  1st phase (21Mar2020 - 28Mar2020): finished 1539 trials in 1 min  0 sec"
     ]
    },
    {
     "name": "stdout",
     "output_type": "stream",
     "text": [
      "\n"
     ]
    },
    {
     "name": "stdout",
     "output_type": "stream",
     "text": [
      "\tMEX,  8th phase (15Aug2020 - 25Aug2020): finished  192 trials in 0 min  5 sec"
     ]
    },
    {
     "name": "stdout",
     "output_type": "stream",
     "text": [
      "\n"
     ]
    },
    {
     "name": "stdout",
     "output_type": "stream",
     "text": [
      "\tBRA,  4th phase (08Jul2020 - 20Jul2020): finished  363 trials in 0 min 10 sec"
     ]
    },
    {
     "name": "stdout",
     "output_type": "stream",
     "text": [
      "\n"
     ]
    },
    {
     "name": "stdout",
     "output_type": "stream",
     "text": [
      "\tMDA,  0th phase (17Mar2020 - 12May2020): finished 1492 trials in 1 min  0 sec"
     ]
    },
    {
     "name": "stdout",
     "output_type": "stream",
     "text": [
      "\n"
     ]
    },
    {
     "name": "stdout",
     "output_type": "stream",
     "text": [
      "\tMDA,  1st phase (13May2020 - 08Jun2020): finished  995 trials in 0 min 35 sec"
     ]
    },
    {
     "name": "stdout",
     "output_type": "stream",
     "text": [
      "\n"
     ]
    },
    {
     "name": "stdout",
     "output_type": "stream",
     "text": [
      "\tNGA,  1st phase (22May2020 - 08Jun2020): finished 1548 trials in 1 min  0 sec"
     ]
    },
    {
     "name": "stdout",
     "output_type": "stream",
     "text": [
      "\n"
     ]
    },
    {
     "name": "stdout",
     "output_type": "stream",
     "text": [
      "\tARE,  6th phase (02Jul2020 - 10Jul2020): finished 1570 trials in 1 min  0 sec"
     ]
    },
    {
     "name": "stdout",
     "output_type": "stream",
     "text": [
      "\n"
     ]
    },
    {
     "name": "stdout",
     "output_type": "stream",
     "text": [
      "\tBFA,  7th phase (26Jul2020 - 14Aug2020): finished  872 trials in 0 min 30 sec"
     ]
    },
    {
     "name": "stdout",
     "output_type": "stream",
     "text": [
      "\n"
     ]
    },
    {
     "name": "stdout",
     "output_type": "stream",
     "text": [
      "\tPER,  0th phase (16Mar2020 - 10May2020): finished 1499 trials in 1 min  0 sec"
     ]
    },
    {
     "name": "stdout",
     "output_type": "stream",
     "text": [
      "\n"
     ]
    },
    {
     "name": "stdout",
     "output_type": "stream",
     "text": [
      "\tPER,  7th phase (11Aug2020 - 19Aug2020): finished 1544 trials in 1 min  0 sec"
     ]
    },
    {
     "name": "stdout",
     "output_type": "stream",
     "text": [
      "\n"
     ]
    },
    {
     "name": "stdout",
     "output_type": "stream",
     "text": [
      "\tMDA,  9th phase (03Sep2020 - 10Sep2020): finished  825 trials in 0 min 25 sec"
     ]
    },
    {
     "name": "stdout",
     "output_type": "stream",
     "text": [
      "\n"
     ]
    },
    {
     "name": "stdout",
     "output_type": "stream",
     "text": [
      "\tARE,  8th phase (27Jul2020 - 17Aug2020): finished  995 trials in 0 min 30 sec"
     ]
    },
    {
     "name": "stdout",
     "output_type": "stream",
     "text": [
      "\n"
     ]
    },
    {
     "name": "stdout",
     "output_type": "stream",
     "text": [
      "Completed optimization. Total: 49 min 40 sec"
     ]
    },
    {
     "name": "stdout",
     "output_type": "stream",
     "text": [
      "\n"
     ]
    }
   ],
   "source": [
    "# Parameter estimation with SIR-F model\n",
    "analyser.estimate(cs.SIRF)"
   ]
  },
  {
   "cell_type": "code",
   "execution_count": 12,
   "metadata": {
    "collapsed": false
   },
   "outputs": [
    {
     "data": {
      "text/html": [
       "<div>\n",
       "<style scoped>\n",
       "    .dataframe tbody tr th:only-of-type {\n",
       "        vertical-align: middle;\n",
       "    }\n",
       "\n",
       "    .dataframe tbody tr th {\n",
       "        vertical-align: top;\n",
       "    }\n",
       "\n",
       "    .dataframe thead th {\n",
       "        text-align: right;\n",
       "    }\n",
       "</style>\n",
       "<table border=\"1\" class=\"dataframe\">\n",
       "  <thead>\n",
       "    <tr style=\"text-align: right;\">\n",
       "      <th></th>\n",
       "      <th></th>\n",
       "      <th>Type</th>\n",
       "      <th>Start</th>\n",
       "      <th>End</th>\n",
       "      <th>Population</th>\n",
       "      <th>ODE</th>\n",
       "      <th>Rt</th>\n",
       "      <th>theta</th>\n",
       "      <th>kappa</th>\n",
       "      <th>rho</th>\n",
       "      <th>sigma</th>\n",
       "      <th>tau</th>\n",
       "      <th>1/alpha2 [day]</th>\n",
       "      <th>alpha1 [-]</th>\n",
       "      <th>1/beta [day]</th>\n",
       "      <th>1/gamma [day]</th>\n",
       "      <th>RMSLE</th>\n",
       "      <th>Trials</th>\n",
       "      <th>Runtime</th>\n",
       "    </tr>\n",
       "    <tr>\n",
       "      <th>Country</th>\n",
       "      <th>Phase</th>\n",
       "      <th></th>\n",
       "      <th></th>\n",
       "      <th></th>\n",
       "      <th></th>\n",
       "      <th></th>\n",
       "      <th></th>\n",
       "      <th></th>\n",
       "      <th></th>\n",
       "      <th></th>\n",
       "      <th></th>\n",
       "      <th></th>\n",
       "      <th></th>\n",
       "      <th></th>\n",
       "      <th></th>\n",
       "      <th></th>\n",
       "      <th></th>\n",
       "      <th></th>\n",
       "      <th></th>\n",
       "    </tr>\n",
       "  </thead>\n",
       "  <tbody>\n",
       "    <tr>\n",
       "      <th rowspan=\"13\" valign=\"top\">Russia</th>\n",
       "      <th>0th</th>\n",
       "      <td>Past</td>\n",
       "      <td>12Feb2020</td>\n",
       "      <td>06May2020</td>\n",
       "      <td>330457362</td>\n",
       "      <td>SIR-F</td>\n",
       "      <td>0.02</td>\n",
       "      <td>0.602763</td>\n",
       "      <td>0.544883</td>\n",
       "      <td>0.0340813</td>\n",
       "      <td>0.00229851</td>\n",
       "      <td>360</td>\n",
       "      <td>0</td>\n",
       "      <td>0.603</td>\n",
       "      <td>7</td>\n",
       "      <td>108</td>\n",
       "      <td>18.9667</td>\n",
       "      <td>1200</td>\n",
       "      <td>1 min  0 sec</td>\n",
       "    </tr>\n",
       "    <tr>\n",
       "      <th>1st</th>\n",
       "      <td>Past</td>\n",
       "      <td>07May2020</td>\n",
       "      <td>15May2020</td>\n",
       "      <td>330457362</td>\n",
       "      <td>SIR-F</td>\n",
       "      <td>2.46</td>\n",
       "      <td>0.000638701</td>\n",
       "      <td>0.000116581</td>\n",
       "      <td>0.0130188</td>\n",
       "      <td>0.00517845</td>\n",
       "      <td>360</td>\n",
       "      <td>2144</td>\n",
       "      <td>0.001</td>\n",
       "      <td>19</td>\n",
       "      <td>48</td>\n",
       "      <td>0.0663921</td>\n",
       "      <td>1183</td>\n",
       "      <td>1 min  0 sec</td>\n",
       "    </tr>\n",
       "    <tr>\n",
       "      <th>2nd</th>\n",
       "      <td>Past</td>\n",
       "      <td>16May2020</td>\n",
       "      <td>23May2020</td>\n",
       "      <td>330457362</td>\n",
       "      <td>SIR-F</td>\n",
       "      <td>1.51</td>\n",
       "      <td>0.000440065</td>\n",
       "      <td>9.8046e-05</td>\n",
       "      <td>0.00763724</td>\n",
       "      <td>0.00494162</td>\n",
       "      <td>360</td>\n",
       "      <td>2549</td>\n",
       "      <td>0</td>\n",
       "      <td>32</td>\n",
       "      <td>50</td>\n",
       "      <td>0.0570082</td>\n",
       "      <td>1226</td>\n",
       "      <td>1 min  0 sec</td>\n",
       "    </tr>\n",
       "    <tr>\n",
       "      <th>3rd</th>\n",
       "      <td>Past</td>\n",
       "      <td>24May2020</td>\n",
       "      <td>01Jun2020</td>\n",
       "      <td>330457362</td>\n",
       "      <td>SIR-F</td>\n",
       "      <td>1.08</td>\n",
       "      <td>0.000343538</td>\n",
       "      <td>0.000113249</td>\n",
       "      <td>0.00557086</td>\n",
       "      <td>0.00505496</td>\n",
       "      <td>360</td>\n",
       "      <td>2207</td>\n",
       "      <td>0</td>\n",
       "      <td>44</td>\n",
       "      <td>49</td>\n",
       "      <td>0.0763248</td>\n",
       "      <td>1270</td>\n",
       "      <td>1 min  0 sec</td>\n",
       "    </tr>\n",
       "    <tr>\n",
       "      <th>4th</th>\n",
       "      <td>Past</td>\n",
       "      <td>02Jun2020</td>\n",
       "      <td>11Jun2020</td>\n",
       "      <td>330457362</td>\n",
       "      <td>SIR-F</td>\n",
       "      <td>0.97</td>\n",
       "      <td>0.000544411</td>\n",
       "      <td>9.44583e-05</td>\n",
       "      <td>0.00479535</td>\n",
       "      <td>0.00483491</td>\n",
       "      <td>360</td>\n",
       "      <td>2646</td>\n",
       "      <td>0.001</td>\n",
       "      <td>52</td>\n",
       "      <td>51</td>\n",
       "      <td>0.0731581</td>\n",
       "      <td>1182</td>\n",
       "      <td>1 min  0 sec</td>\n",
       "    </tr>\n",
       "    <tr>\n",
       "      <th>5th</th>\n",
       "      <td>Past</td>\n",
       "      <td>12Jun2020</td>\n",
       "      <td>20Jun2020</td>\n",
       "      <td>330457362</td>\n",
       "      <td>SIR-F</td>\n",
       "      <td>0.82</td>\n",
       "      <td>0.0218621</td>\n",
       "      <td>1.88817e-06</td>\n",
       "      <td>0.00354709</td>\n",
       "      <td>0.00424531</td>\n",
       "      <td>360</td>\n",
       "      <td>132403</td>\n",
       "      <td>0.022</td>\n",
       "      <td>70</td>\n",
       "      <td>58</td>\n",
       "      <td>0.0597586</td>\n",
       "      <td>1381</td>\n",
       "      <td>1 min  0 sec</td>\n",
       "    </tr>\n",
       "    <tr>\n",
       "      <th>6th</th>\n",
       "      <td>Past</td>\n",
       "      <td>21Jun2020</td>\n",
       "      <td>30Jun2020</td>\n",
       "      <td>330457362</td>\n",
       "      <td>SIR-F</td>\n",
       "      <td>0.9</td>\n",
       "      <td>0.021825</td>\n",
       "      <td>1.88817e-06</td>\n",
       "      <td>0.00276866</td>\n",
       "      <td>0.00301643</td>\n",
       "      <td>360</td>\n",
       "      <td>132403</td>\n",
       "      <td>0.022</td>\n",
       "      <td>90</td>\n",
       "      <td>82</td>\n",
       "      <td>0.0496409</td>\n",
       "      <td>1372</td>\n",
       "      <td>1 min  0 sec</td>\n",
       "    </tr>\n",
       "    <tr>\n",
       "      <th>7th</th>\n",
       "      <td>Past</td>\n",
       "      <td>01Jul2020</td>\n",
       "      <td>12Jul2020</td>\n",
       "      <td>330457362</td>\n",
       "      <td>SIR-F</td>\n",
       "      <td>0.91</td>\n",
       "      <td>0.00155965</td>\n",
       "      <td>6.92055e-05</td>\n",
       "      <td>0.00243233</td>\n",
       "      <td>0.00260801</td>\n",
       "      <td>360</td>\n",
       "      <td>3612</td>\n",
       "      <td>0.002</td>\n",
       "      <td>102</td>\n",
       "      <td>95</td>\n",
       "      <td>0.0540541</td>\n",
       "      <td>1210</td>\n",
       "      <td>1 min  0 sec</td>\n",
       "    </tr>\n",
       "    <tr>\n",
       "      <th>8th</th>\n",
       "      <td>Past</td>\n",
       "      <td>13Jul2020</td>\n",
       "      <td>24Jul2020</td>\n",
       "      <td>330457362</td>\n",
       "      <td>SIR-F</td>\n",
       "      <td>0.68</td>\n",
       "      <td>1.96758e-05</td>\n",
       "      <td>4.07333e-05</td>\n",
       "      <td>0.00191564</td>\n",
       "      <td>0.0027832</td>\n",
       "      <td>360</td>\n",
       "      <td>6137</td>\n",
       "      <td>0</td>\n",
       "      <td>130</td>\n",
       "      <td>89</td>\n",
       "      <td>0.0590419</td>\n",
       "      <td>1278</td>\n",
       "      <td>1 min  0 sec</td>\n",
       "    </tr>\n",
       "    <tr>\n",
       "      <th>9th</th>\n",
       "      <td>Past</td>\n",
       "      <td>25Jul2020</td>\n",
       "      <td>07Aug2020</td>\n",
       "      <td>330457362</td>\n",
       "      <td>SIR-F</td>\n",
       "      <td>0.78</td>\n",
       "      <td>0.0205683</td>\n",
       "      <td>3.65782e-06</td>\n",
       "      <td>0.0016005</td>\n",
       "      <td>0.0020129</td>\n",
       "      <td>360</td>\n",
       "      <td>68346</td>\n",
       "      <td>0.021</td>\n",
       "      <td>156</td>\n",
       "      <td>124</td>\n",
       "      <td>0.0522163</td>\n",
       "      <td>1316</td>\n",
       "      <td>1 min  0 sec</td>\n",
       "    </tr>\n",
       "    <tr>\n",
       "      <th>10th</th>\n",
       "      <td>Past</td>\n",
       "      <td>08Aug2020</td>\n",
       "      <td>22Aug2020</td>\n",
       "      <td>330457362</td>\n",
       "      <td>SIR-F</td>\n",
       "      <td>0.73</td>\n",
       "      <td>4.66566e-05</td>\n",
       "      <td>4.09311e-05</td>\n",
       "      <td>0.00130861</td>\n",
       "      <td>0.00174042</td>\n",
       "      <td>360</td>\n",
       "      <td>6107</td>\n",
       "      <td>0</td>\n",
       "      <td>191</td>\n",
       "      <td>143</td>\n",
       "      <td>0.053408</td>\n",
       "      <td>1159</td>\n",
       "      <td>1 min  0 sec</td>\n",
       "    </tr>\n",
       "    <tr>\n",
       "      <th>11th</th>\n",
       "      <td>Past</td>\n",
       "      <td>23Aug2020</td>\n",
       "      <td>04Sep2020</td>\n",
       "      <td>330457362</td>\n",
       "      <td>SIR-F</td>\n",
       "      <td>0.79</td>\n",
       "      <td>0.00226497</td>\n",
       "      <td>3.1287e-05</td>\n",
       "      <td>0.00125593</td>\n",
       "      <td>0.00154782</td>\n",
       "      <td>360</td>\n",
       "      <td>7990</td>\n",
       "      <td>0.002</td>\n",
       "      <td>199</td>\n",
       "      <td>161</td>\n",
       "      <td>0.0119786</td>\n",
       "      <td>1165</td>\n",
       "      <td>0 min 50 sec</td>\n",
       "    </tr>\n",
       "    <tr>\n",
       "      <th>12th</th>\n",
       "      <td>Past</td>\n",
       "      <td>05Sep2020</td>\n",
       "      <td>21Sep2020</td>\n",
       "      <td>330457362</td>\n",
       "      <td>-</td>\n",
       "      <td>-</td>\n",
       "      <td>-</td>\n",
       "      <td>-</td>\n",
       "      <td>-</td>\n",
       "      <td>-</td>\n",
       "      <td>-</td>\n",
       "      <td>-</td>\n",
       "      <td>-</td>\n",
       "      <td>-</td>\n",
       "      <td>-</td>\n",
       "      <td>-</td>\n",
       "      <td>-</td>\n",
       "      <td>-</td>\n",
       "    </tr>\n",
       "  </tbody>\n",
       "</table>\n",
       "</div>"
      ],
      "text/plain": [
       "               Type      Start        End  Population    ODE    Rt  \\\n",
       "Country Phase                                                        \n",
       "Russia  0th    Past  12Feb2020  06May2020   330457362  SIR-F  0.02   \n",
       "        1st    Past  07May2020  15May2020   330457362  SIR-F  2.46   \n",
       "        2nd    Past  16May2020  23May2020   330457362  SIR-F  1.51   \n",
       "        3rd    Past  24May2020  01Jun2020   330457362  SIR-F  1.08   \n",
       "        4th    Past  02Jun2020  11Jun2020   330457362  SIR-F  0.97   \n",
       "        5th    Past  12Jun2020  20Jun2020   330457362  SIR-F  0.82   \n",
       "        6th    Past  21Jun2020  30Jun2020   330457362  SIR-F   0.9   \n",
       "        7th    Past  01Jul2020  12Jul2020   330457362  SIR-F  0.91   \n",
       "        8th    Past  13Jul2020  24Jul2020   330457362  SIR-F  0.68   \n",
       "        9th    Past  25Jul2020  07Aug2020   330457362  SIR-F  0.78   \n",
       "        10th   Past  08Aug2020  22Aug2020   330457362  SIR-F  0.73   \n",
       "        11th   Past  23Aug2020  04Sep2020   330457362  SIR-F  0.79   \n",
       "        12th   Past  05Sep2020  21Sep2020   330457362      -     -   \n",
       "\n",
       "                     theta        kappa         rho       sigma  tau  \\\n",
       "Country Phase                                                          \n",
       "Russia  0th       0.602763     0.544883   0.0340813  0.00229851  360   \n",
       "        1st    0.000638701  0.000116581   0.0130188  0.00517845  360   \n",
       "        2nd    0.000440065   9.8046e-05  0.00763724  0.00494162  360   \n",
       "        3rd    0.000343538  0.000113249  0.00557086  0.00505496  360   \n",
       "        4th    0.000544411  9.44583e-05  0.00479535  0.00483491  360   \n",
       "        5th      0.0218621  1.88817e-06  0.00354709  0.00424531  360   \n",
       "        6th       0.021825  1.88817e-06  0.00276866  0.00301643  360   \n",
       "        7th     0.00155965  6.92055e-05  0.00243233  0.00260801  360   \n",
       "        8th    1.96758e-05  4.07333e-05  0.00191564   0.0027832  360   \n",
       "        9th      0.0205683  3.65782e-06   0.0016005   0.0020129  360   \n",
       "        10th   4.66566e-05  4.09311e-05  0.00130861  0.00174042  360   \n",
       "        11th    0.00226497   3.1287e-05  0.00125593  0.00154782  360   \n",
       "        12th             -            -           -           -    -   \n",
       "\n",
       "              1/alpha2 [day] alpha1 [-] 1/beta [day] 1/gamma [day]      RMSLE  \\\n",
       "Country Phase                                                                   \n",
       "Russia  0th                0      0.603            7           108    18.9667   \n",
       "        1st             2144      0.001           19            48  0.0663921   \n",
       "        2nd             2549          0           32            50  0.0570082   \n",
       "        3rd             2207          0           44            49  0.0763248   \n",
       "        4th             2646      0.001           52            51  0.0731581   \n",
       "        5th           132403      0.022           70            58  0.0597586   \n",
       "        6th           132403      0.022           90            82  0.0496409   \n",
       "        7th             3612      0.002          102            95  0.0540541   \n",
       "        8th             6137          0          130            89  0.0590419   \n",
       "        9th            68346      0.021          156           124  0.0522163   \n",
       "        10th            6107          0          191           143   0.053408   \n",
       "        11th            7990      0.002          199           161  0.0119786   \n",
       "        12th               -          -            -             -          -   \n",
       "\n",
       "              Trials       Runtime  \n",
       "Country Phase                       \n",
       "Russia  0th     1200  1 min  0 sec  \n",
       "        1st     1183  1 min  0 sec  \n",
       "        2nd     1226  1 min  0 sec  \n",
       "        3rd     1270  1 min  0 sec  \n",
       "        4th     1182  1 min  0 sec  \n",
       "        5th     1381  1 min  0 sec  \n",
       "        6th     1372  1 min  0 sec  \n",
       "        7th     1210  1 min  0 sec  \n",
       "        8th     1278  1 min  0 sec  \n",
       "        9th     1316  1 min  0 sec  \n",
       "        10th    1159  1 min  0 sec  \n",
       "        11th    1165  0 min 50 sec  \n",
       "        12th       -             -  "
      ]
     },
     "execution_count": 12,
     "metadata": {},
     "output_type": "execute_result"
    }
   ],
   "source": [
    "# Show summary\n",
    "analyser.summary(countries=countries_show)"
   ]
  },
  {
   "cell_type": "markdown",
   "metadata": {},
   "source": [
    "## Compare the history of parameters\n",
    "Here, compare the history of parameter values if countries."
   ]
  },
  {
   "cell_type": "code",
   "execution_count": 13,
   "metadata": {
    "collapsed": false
   },
   "outputs": [
    {
     "data": {
      "text/html": [
       "<div>\n",
       "<style scoped>\n",
       "    .dataframe tbody tr th:only-of-type {\n",
       "        vertical-align: middle;\n",
       "    }\n",
       "\n",
       "    .dataframe tbody tr th {\n",
       "        vertical-align: top;\n",
       "    }\n",
       "\n",
       "    .dataframe thead th {\n",
       "        text-align: right;\n",
       "    }\n",
       "</style>\n",
       "<table border=\"1\" class=\"dataframe\">\n",
       "  <thead>\n",
       "    <tr style=\"text-align: right;\">\n",
       "      <th></th>\n",
       "      <th>Date</th>\n",
       "      <th>Country</th>\n",
       "      <th>theta</th>\n",
       "      <th>kappa</th>\n",
       "      <th>rho</th>\n",
       "      <th>sigma</th>\n",
       "      <th>alpha1 [-]</th>\n",
       "      <th>1/alpha2 [day]</th>\n",
       "      <th>1/beta [day]</th>\n",
       "      <th>1/gamma [day]</th>\n",
       "      <th>...</th>\n",
       "      <th>Cancel_events</th>\n",
       "      <th>Gatherings_restrictions</th>\n",
       "      <th>Transport_closing</th>\n",
       "      <th>Stay_home_restrictions</th>\n",
       "      <th>Internal_movement_restrictions</th>\n",
       "      <th>International_movement_restrictions</th>\n",
       "      <th>Information_campaigns</th>\n",
       "      <th>Testing_policy</th>\n",
       "      <th>Contact_tracing</th>\n",
       "      <th>Stringency_index</th>\n",
       "    </tr>\n",
       "  </thead>\n",
       "  <tbody>\n",
       "    <tr>\n",
       "      <th>0</th>\n",
       "      <td>2020-03-28</td>\n",
       "      <td>Honduras</td>\n",
       "      <td>0.0205317</td>\n",
       "      <td>0.000570602</td>\n",
       "      <td>0.0178358</td>\n",
       "      <td>0.00124714</td>\n",
       "      <td>0.021</td>\n",
       "      <td>438</td>\n",
       "      <td>14</td>\n",
       "      <td>200</td>\n",
       "      <td>...</td>\n",
       "      <td>2</td>\n",
       "      <td>4</td>\n",
       "      <td>2</td>\n",
       "      <td>3</td>\n",
       "      <td>2</td>\n",
       "      <td>4</td>\n",
       "      <td>2</td>\n",
       "      <td>1</td>\n",
       "      <td>1</td>\n",
       "      <td>100.0</td>\n",
       "    </tr>\n",
       "    <tr>\n",
       "      <th>1</th>\n",
       "      <td>2020-03-29</td>\n",
       "      <td>Honduras</td>\n",
       "      <td>0.0205317</td>\n",
       "      <td>0.000570602</td>\n",
       "      <td>0.0178358</td>\n",
       "      <td>0.00124714</td>\n",
       "      <td>0.021</td>\n",
       "      <td>438</td>\n",
       "      <td>14</td>\n",
       "      <td>200</td>\n",
       "      <td>...</td>\n",
       "      <td>2</td>\n",
       "      <td>4</td>\n",
       "      <td>2</td>\n",
       "      <td>3</td>\n",
       "      <td>2</td>\n",
       "      <td>4</td>\n",
       "      <td>2</td>\n",
       "      <td>1</td>\n",
       "      <td>1</td>\n",
       "      <td>100.0</td>\n",
       "    </tr>\n",
       "    <tr>\n",
       "      <th>2</th>\n",
       "      <td>2020-03-30</td>\n",
       "      <td>Honduras</td>\n",
       "      <td>0.0205317</td>\n",
       "      <td>0.000570602</td>\n",
       "      <td>0.0178358</td>\n",
       "      <td>0.00124714</td>\n",
       "      <td>0.021</td>\n",
       "      <td>438</td>\n",
       "      <td>14</td>\n",
       "      <td>200</td>\n",
       "      <td>...</td>\n",
       "      <td>2</td>\n",
       "      <td>4</td>\n",
       "      <td>2</td>\n",
       "      <td>3</td>\n",
       "      <td>2</td>\n",
       "      <td>4</td>\n",
       "      <td>2</td>\n",
       "      <td>1</td>\n",
       "      <td>1</td>\n",
       "      <td>100.0</td>\n",
       "    </tr>\n",
       "    <tr>\n",
       "      <th>3</th>\n",
       "      <td>2020-03-31</td>\n",
       "      <td>Honduras</td>\n",
       "      <td>0.0205317</td>\n",
       "      <td>0.000570602</td>\n",
       "      <td>0.0178358</td>\n",
       "      <td>0.00124714</td>\n",
       "      <td>0.021</td>\n",
       "      <td>438</td>\n",
       "      <td>14</td>\n",
       "      <td>200</td>\n",
       "      <td>...</td>\n",
       "      <td>2</td>\n",
       "      <td>4</td>\n",
       "      <td>2</td>\n",
       "      <td>3</td>\n",
       "      <td>2</td>\n",
       "      <td>4</td>\n",
       "      <td>2</td>\n",
       "      <td>1</td>\n",
       "      <td>1</td>\n",
       "      <td>100.0</td>\n",
       "    </tr>\n",
       "    <tr>\n",
       "      <th>4</th>\n",
       "      <td>2020-04-01</td>\n",
       "      <td>Honduras</td>\n",
       "      <td>0.0205317</td>\n",
       "      <td>0.000570602</td>\n",
       "      <td>0.0178358</td>\n",
       "      <td>0.00124714</td>\n",
       "      <td>0.021</td>\n",
       "      <td>438</td>\n",
       "      <td>14</td>\n",
       "      <td>200</td>\n",
       "      <td>...</td>\n",
       "      <td>2</td>\n",
       "      <td>4</td>\n",
       "      <td>2</td>\n",
       "      <td>3</td>\n",
       "      <td>2</td>\n",
       "      <td>4</td>\n",
       "      <td>2</td>\n",
       "      <td>1</td>\n",
       "      <td>1</td>\n",
       "      <td>100.0</td>\n",
       "    </tr>\n",
       "  </tbody>\n",
       "</table>\n",
       "<p>5 rows × 23 columns</p>\n",
       "</div>"
      ],
      "text/plain": [
       "        Date   Country      theta        kappa        rho       sigma  \\\n",
       "0 2020-03-28  Honduras  0.0205317  0.000570602  0.0178358  0.00124714   \n",
       "1 2020-03-29  Honduras  0.0205317  0.000570602  0.0178358  0.00124714   \n",
       "2 2020-03-30  Honduras  0.0205317  0.000570602  0.0178358  0.00124714   \n",
       "3 2020-03-31  Honduras  0.0205317  0.000570602  0.0178358  0.00124714   \n",
       "4 2020-04-01  Honduras  0.0205317  0.000570602  0.0178358  0.00124714   \n",
       "\n",
       "  alpha1 [-] 1/alpha2 [day] 1/beta [day] 1/gamma [day]  ... Cancel_events  \\\n",
       "0      0.021            438           14           200  ...             2   \n",
       "1      0.021            438           14           200  ...             2   \n",
       "2      0.021            438           14           200  ...             2   \n",
       "3      0.021            438           14           200  ...             2   \n",
       "4      0.021            438           14           200  ...             2   \n",
       "\n",
       "   Gatherings_restrictions  Transport_closing  Stay_home_restrictions  \\\n",
       "0                        4                  2                       3   \n",
       "1                        4                  2                       3   \n",
       "2                        4                  2                       3   \n",
       "3                        4                  2                       3   \n",
       "4                        4                  2                       3   \n",
       "\n",
       "   Internal_movement_restrictions  International_movement_restrictions  \\\n",
       "0                               2                                    4   \n",
       "1                               2                                    4   \n",
       "2                               2                                    4   \n",
       "3                               2                                    4   \n",
       "4                               2                                    4   \n",
       "\n",
       "   Information_campaigns  Testing_policy  Contact_tracing  Stringency_index  \n",
       "0                      2               1                1             100.0  \n",
       "1                      2               1                1             100.0  \n",
       "2                      2               1                1             100.0  \n",
       "3                      2               1                1             100.0  \n",
       "4                      2               1                1             100.0  \n",
       "\n",
       "[5 rows x 23 columns]"
      ]
     },
     "execution_count": 13,
     "metadata": {},
     "output_type": "execute_result"
    }
   ],
   "source": [
    "# All parameter/day parameter/Rt/OxCGRT\n",
    "analyser.track().head()"
   ]
  },
  {
   "cell_type": "markdown",
   "metadata": {},
   "source": [
    "### $Rt$: Reprodcution number $\\mathrm{[-]}$"
   ]
  },
  {
   "cell_type": "code",
   "execution_count": 14,
   "metadata": {
    "collapsed": false
   },
   "outputs": [
    {
     "data": {
      "image/png": "[encoded data removed]",
      "text/plain": [
       "<Figure size 648x432 with 1 Axes>"
      ]
     },
     "metadata": {},
     "output_type": "display_data"
    },
    {
     "data": {
      "text/html": [
       "<div>\n",
       "<style scoped>\n",
       "    .dataframe tbody tr th:only-of-type {\n",
       "        vertical-align: middle;\n",
       "    }\n",
       "\n",
       "    .dataframe tbody tr th {\n",
       "        vertical-align: top;\n",
       "    }\n",
       "\n",
       "    .dataframe thead th {\n",
       "        text-align: right;\n",
       "    }\n",
       "</style>\n",
       "<table border=\"1\" class=\"dataframe\">\n",
       "  <thead>\n",
       "    <tr style=\"text-align: right;\">\n",
       "      <th>Country</th>\n",
       "      <th>Bahrain</th>\n",
       "      <th>Bangladesh</th>\n",
       "      <th>Bolivia</th>\n",
       "      <th>Brazil</th>\n",
       "      <th>Burkina Faso</th>\n",
       "      <th>Denmark</th>\n",
       "      <th>Estonia</th>\n",
       "      <th>France</th>\n",
       "      <th>Guinea</th>\n",
       "      <th>Honduras</th>\n",
       "      <th>...</th>\n",
       "      <th>Macedonia</th>\n",
       "      <th>Mexico</th>\n",
       "      <th>Moldova</th>\n",
       "      <th>Nigeria</th>\n",
       "      <th>Peru</th>\n",
       "      <th>Portugal</th>\n",
       "      <th>Russia</th>\n",
       "      <th>Turkey</th>\n",
       "      <th>United Arab Emirates</th>\n",
       "      <th>United States</th>\n",
       "    </tr>\n",
       "    <tr>\n",
       "      <th>Date</th>\n",
       "      <th></th>\n",
       "      <th></th>\n",
       "      <th></th>\n",
       "      <th></th>\n",
       "      <th></th>\n",
       "      <th></th>\n",
       "      <th></th>\n",
       "      <th></th>\n",
       "      <th></th>\n",
       "      <th></th>\n",
       "      <th></th>\n",
       "      <th></th>\n",
       "      <th></th>\n",
       "      <th></th>\n",
       "      <th></th>\n",
       "      <th></th>\n",
       "      <th></th>\n",
       "      <th></th>\n",
       "      <th></th>\n",
       "      <th></th>\n",
       "      <th></th>\n",
       "    </tr>\n",
       "  </thead>\n",
       "  <tbody>\n",
       "    <tr>\n",
       "      <th>2020-09-17</th>\n",
       "      <td>1.86</td>\n",
       "      <td>0.66</td>\n",
       "      <td>0.36</td>\n",
       "      <td>0.99</td>\n",
       "      <td>4.51</td>\n",
       "      <td>0.78</td>\n",
       "      <td>1.29</td>\n",
       "      <td>21.44</td>\n",
       "      <td>0.68</td>\n",
       "      <td>0.83</td>\n",
       "      <td>...</td>\n",
       "      <td>1.18</td>\n",
       "      <td>1.08</td>\n",
       "      <td>1.81</td>\n",
       "      <td>0.72</td>\n",
       "      <td>0.66</td>\n",
       "      <td>3.12</td>\n",
       "      <td>0.79</td>\n",
       "      <td>1.34</td>\n",
       "      <td>1.66</td>\n",
       "      <td>2.11</td>\n",
       "    </tr>\n",
       "    <tr>\n",
       "      <th>2020-09-18</th>\n",
       "      <td>1.86</td>\n",
       "      <td>0.66</td>\n",
       "      <td>0.36</td>\n",
       "      <td>0.99</td>\n",
       "      <td>4.51</td>\n",
       "      <td>0.78</td>\n",
       "      <td>1.29</td>\n",
       "      <td>21.44</td>\n",
       "      <td>0.68</td>\n",
       "      <td>0.83</td>\n",
       "      <td>...</td>\n",
       "      <td>1.18</td>\n",
       "      <td>1.08</td>\n",
       "      <td>1.81</td>\n",
       "      <td>0.72</td>\n",
       "      <td>0.66</td>\n",
       "      <td>3.12</td>\n",
       "      <td>0.79</td>\n",
       "      <td>1.34</td>\n",
       "      <td>1.66</td>\n",
       "      <td>2.11</td>\n",
       "    </tr>\n",
       "    <tr>\n",
       "      <th>2020-09-19</th>\n",
       "      <td>1.86</td>\n",
       "      <td>0.66</td>\n",
       "      <td>0.36</td>\n",
       "      <td>0.99</td>\n",
       "      <td>4.51</td>\n",
       "      <td>0.78</td>\n",
       "      <td>1.29</td>\n",
       "      <td>21.44</td>\n",
       "      <td>0.68</td>\n",
       "      <td>0.83</td>\n",
       "      <td>...</td>\n",
       "      <td>1.18</td>\n",
       "      <td>1.08</td>\n",
       "      <td>1.81</td>\n",
       "      <td>0.72</td>\n",
       "      <td>0.66</td>\n",
       "      <td>3.12</td>\n",
       "      <td>0.79</td>\n",
       "      <td>1.34</td>\n",
       "      <td>1.66</td>\n",
       "      <td>2.11</td>\n",
       "    </tr>\n",
       "    <tr>\n",
       "      <th>2020-09-20</th>\n",
       "      <td>1.86</td>\n",
       "      <td>0.66</td>\n",
       "      <td>0.36</td>\n",
       "      <td>0.99</td>\n",
       "      <td>4.51</td>\n",
       "      <td>0.78</td>\n",
       "      <td>1.29</td>\n",
       "      <td>21.44</td>\n",
       "      <td>0.68</td>\n",
       "      <td>0.83</td>\n",
       "      <td>...</td>\n",
       "      <td>1.18</td>\n",
       "      <td>1.08</td>\n",
       "      <td>1.81</td>\n",
       "      <td>0.72</td>\n",
       "      <td>0.66</td>\n",
       "      <td>3.12</td>\n",
       "      <td>0.79</td>\n",
       "      <td>1.34</td>\n",
       "      <td>1.66</td>\n",
       "      <td>2.11</td>\n",
       "    </tr>\n",
       "    <tr>\n",
       "      <th>2020-09-21</th>\n",
       "      <td>1.86</td>\n",
       "      <td>0.66</td>\n",
       "      <td>0.36</td>\n",
       "      <td>0.99</td>\n",
       "      <td>4.51</td>\n",
       "      <td>0.78</td>\n",
       "      <td>1.29</td>\n",
       "      <td>21.44</td>\n",
       "      <td>0.68</td>\n",
       "      <td>0.83</td>\n",
       "      <td>...</td>\n",
       "      <td>1.18</td>\n",
       "      <td>1.08</td>\n",
       "      <td>1.81</td>\n",
       "      <td>0.72</td>\n",
       "      <td>0.66</td>\n",
       "      <td>3.12</td>\n",
       "      <td>0.79</td>\n",
       "      <td>1.34</td>\n",
       "      <td>1.66</td>\n",
       "      <td>2.11</td>\n",
       "    </tr>\n",
       "  </tbody>\n",
       "</table>\n",
       "<p>5 rows × 24 columns</p>\n",
       "</div>"
      ],
      "text/plain": [
       "Country     Bahrain  Bangladesh  Bolivia  Brazil  Burkina Faso  Denmark  \\\n",
       "Date                                                                      \n",
       "2020-09-17     1.86        0.66     0.36    0.99          4.51     0.78   \n",
       "2020-09-18     1.86        0.66     0.36    0.99          4.51     0.78   \n",
       "2020-09-19     1.86        0.66     0.36    0.99          4.51     0.78   \n",
       "2020-09-20     1.86        0.66     0.36    0.99          4.51     0.78   \n",
       "2020-09-21     1.86        0.66     0.36    0.99          4.51     0.78   \n",
       "\n",
       "Country     Estonia  France  Guinea  Honduras  ...  Macedonia  Mexico  \\\n",
       "Date                                           ...                      \n",
       "2020-09-17     1.29   21.44    0.68      0.83  ...       1.18    1.08   \n",
       "2020-09-18     1.29   21.44    0.68      0.83  ...       1.18    1.08   \n",
       "2020-09-19     1.29   21.44    0.68      0.83  ...       1.18    1.08   \n",
       "2020-09-20     1.29   21.44    0.68      0.83  ...       1.18    1.08   \n",
       "2020-09-21     1.29   21.44    0.68      0.83  ...       1.18    1.08   \n",
       "\n",
       "Country     Moldova  Nigeria  Peru  Portugal  Russia  Turkey  \\\n",
       "Date                                                           \n",
       "2020-09-17     1.81     0.72  0.66      3.12    0.79    1.34   \n",
       "2020-09-18     1.81     0.72  0.66      3.12    0.79    1.34   \n",
       "2020-09-19     1.81     0.72  0.66      3.12    0.79    1.34   \n",
       "2020-09-20     1.81     0.72  0.66      3.12    0.79    1.34   \n",
       "2020-09-21     1.81     0.72  0.66      3.12    0.79    1.34   \n",
       "\n",
       "Country     United Arab Emirates  United States  \n",
       "Date                                             \n",
       "2020-09-17                  1.66           2.11  \n",
       "2020-09-18                  1.66           2.11  \n",
       "2020-09-19                  1.66           2.11  \n",
       "2020-09-20                  1.66           2.11  \n",
       "2020-09-21                  1.66           2.11  \n",
       "\n",
       "[5 rows x 24 columns]"
      ]
     },
     "execution_count": 14,
     "metadata": {},
     "output_type": "execute_result"
    }
   ],
   "source": [
    "analyser.param_history(\"Rt\", roll_window=None).tail()"
   ]
  },
  {
   "cell_type": "markdown",
   "metadata": {},
   "source": [
    "### $\\rho$: Effective contact rate $\\mathrm{[-]}$"
   ]
  },
  {
   "cell_type": "code",
   "execution_count": 15,
   "metadata": {
    "collapsed": false
   },
   "outputs": [
    {
     "data": {
      "image/png": "[encoded data removed]",
      "text/plain": [
       "<Figure size 648x432 with 1 Axes>"
      ]
     },
     "metadata": {},
     "output_type": "display_data"
    },
    {
     "data": {
      "text/html": [
       "<div>\n",
       "<style scoped>\n",
       "    .dataframe tbody tr th:only-of-type {\n",
       "        vertical-align: middle;\n",
       "    }\n",
       "\n",
       "    .dataframe tbody tr th {\n",
       "        vertical-align: top;\n",
       "    }\n",
       "\n",
       "    .dataframe thead th {\n",
       "        text-align: right;\n",
       "    }\n",
       "</style>\n",
       "<table border=\"1\" class=\"dataframe\">\n",
       "  <thead>\n",
       "    <tr style=\"text-align: right;\">\n",
       "      <th>Country</th>\n",
       "      <th>Bahrain</th>\n",
       "      <th>Bangladesh</th>\n",
       "      <th>Bolivia</th>\n",
       "      <th>Brazil</th>\n",
       "      <th>Burkina Faso</th>\n",
       "      <th>Denmark</th>\n",
       "      <th>Estonia</th>\n",
       "      <th>France</th>\n",
       "      <th>Guinea</th>\n",
       "      <th>Honduras</th>\n",
       "      <th>...</th>\n",
       "      <th>Macedonia</th>\n",
       "      <th>Mexico</th>\n",
       "      <th>Moldova</th>\n",
       "      <th>Nigeria</th>\n",
       "      <th>Peru</th>\n",
       "      <th>Portugal</th>\n",
       "      <th>Russia</th>\n",
       "      <th>Turkey</th>\n",
       "      <th>United Arab Emirates</th>\n",
       "      <th>United States</th>\n",
       "    </tr>\n",
       "    <tr>\n",
       "      <th>Date</th>\n",
       "      <th></th>\n",
       "      <th></th>\n",
       "      <th></th>\n",
       "      <th></th>\n",
       "      <th></th>\n",
       "      <th></th>\n",
       "      <th></th>\n",
       "      <th></th>\n",
       "      <th></th>\n",
       "      <th></th>\n",
       "      <th></th>\n",
       "      <th></th>\n",
       "      <th></th>\n",
       "      <th></th>\n",
       "      <th></th>\n",
       "      <th></th>\n",
       "      <th></th>\n",
       "      <th></th>\n",
       "      <th></th>\n",
       "      <th></th>\n",
       "      <th></th>\n",
       "    </tr>\n",
       "  </thead>\n",
       "  <tbody>\n",
       "    <tr>\n",
       "      <th>2020-09-17</th>\n",
       "      <td>0.034042</td>\n",
       "      <td>0.004488</td>\n",
       "      <td>0.003869</td>\n",
       "      <td>0.019046</td>\n",
       "      <td>0.008657</td>\n",
       "      <td>0.016966</td>\n",
       "      <td>0.022846</td>\n",
       "      <td>0.008271</td>\n",
       "      <td>0.009566</td>\n",
       "      <td>0.002817</td>\n",
       "      <td>...</td>\n",
       "      <td>0.016315</td>\n",
       "      <td>0.035447</td>\n",
       "      <td>0.01149</td>\n",
       "      <td>0.003318</td>\n",
       "      <td>0.002221</td>\n",
       "      <td>0.002217</td>\n",
       "      <td>0.001256</td>\n",
       "      <td>0.016523</td>\n",
       "      <td>0.014157</td>\n",
       "      <td>0.002737</td>\n",
       "    </tr>\n",
       "    <tr>\n",
       "      <th>2020-09-18</th>\n",
       "      <td>0.034042</td>\n",
       "      <td>0.004488</td>\n",
       "      <td>0.003869</td>\n",
       "      <td>0.019046</td>\n",
       "      <td>0.008657</td>\n",
       "      <td>0.016966</td>\n",
       "      <td>0.022846</td>\n",
       "      <td>0.008271</td>\n",
       "      <td>0.009566</td>\n",
       "      <td>0.002817</td>\n",
       "      <td>...</td>\n",
       "      <td>0.016315</td>\n",
       "      <td>0.035447</td>\n",
       "      <td>0.01149</td>\n",
       "      <td>0.003318</td>\n",
       "      <td>0.002221</td>\n",
       "      <td>0.002217</td>\n",
       "      <td>0.001256</td>\n",
       "      <td>0.016523</td>\n",
       "      <td>0.014157</td>\n",
       "      <td>0.002737</td>\n",
       "    </tr>\n",
       "    <tr>\n",
       "      <th>2020-09-19</th>\n",
       "      <td>0.034042</td>\n",
       "      <td>0.004488</td>\n",
       "      <td>0.003869</td>\n",
       "      <td>0.019046</td>\n",
       "      <td>0.008657</td>\n",
       "      <td>0.016966</td>\n",
       "      <td>0.022846</td>\n",
       "      <td>0.008271</td>\n",
       "      <td>0.009566</td>\n",
       "      <td>0.002817</td>\n",
       "      <td>...</td>\n",
       "      <td>0.016315</td>\n",
       "      <td>0.035447</td>\n",
       "      <td>0.01149</td>\n",
       "      <td>0.003318</td>\n",
       "      <td>0.002221</td>\n",
       "      <td>0.002217</td>\n",
       "      <td>0.001256</td>\n",
       "      <td>0.016523</td>\n",
       "      <td>0.014157</td>\n",
       "      <td>0.002737</td>\n",
       "    </tr>\n",
       "    <tr>\n",
       "      <th>2020-09-20</th>\n",
       "      <td>0.034042</td>\n",
       "      <td>0.004488</td>\n",
       "      <td>0.003869</td>\n",
       "      <td>0.019046</td>\n",
       "      <td>0.008657</td>\n",
       "      <td>0.016966</td>\n",
       "      <td>0.022846</td>\n",
       "      <td>0.008271</td>\n",
       "      <td>0.009566</td>\n",
       "      <td>0.002817</td>\n",
       "      <td>...</td>\n",
       "      <td>0.016315</td>\n",
       "      <td>0.035447</td>\n",
       "      <td>0.01149</td>\n",
       "      <td>0.003318</td>\n",
       "      <td>0.002221</td>\n",
       "      <td>0.002217</td>\n",
       "      <td>0.001256</td>\n",
       "      <td>0.016523</td>\n",
       "      <td>0.014157</td>\n",
       "      <td>0.002737</td>\n",
       "    </tr>\n",
       "    <tr>\n",
       "      <th>2020-09-21</th>\n",
       "      <td>0.034042</td>\n",
       "      <td>0.004488</td>\n",
       "      <td>0.003869</td>\n",
       "      <td>0.019046</td>\n",
       "      <td>0.008657</td>\n",
       "      <td>0.016966</td>\n",
       "      <td>0.022846</td>\n",
       "      <td>0.008271</td>\n",
       "      <td>0.009566</td>\n",
       "      <td>0.002817</td>\n",
       "      <td>...</td>\n",
       "      <td>0.016315</td>\n",
       "      <td>0.035447</td>\n",
       "      <td>0.01149</td>\n",
       "      <td>0.003318</td>\n",
       "      <td>0.002221</td>\n",
       "      <td>0.002217</td>\n",
       "      <td>0.001256</td>\n",
       "      <td>0.016523</td>\n",
       "      <td>0.014157</td>\n",
       "      <td>0.002737</td>\n",
       "    </tr>\n",
       "  </tbody>\n",
       "</table>\n",
       "<p>5 rows × 24 columns</p>\n",
       "</div>"
      ],
      "text/plain": [
       "Country      Bahrain  Bangladesh   Bolivia    Brazil  Burkina Faso   Denmark  \\\n",
       "Date                                                                           \n",
       "2020-09-17  0.034042    0.004488  0.003869  0.019046      0.008657  0.016966   \n",
       "2020-09-18  0.034042    0.004488  0.003869  0.019046      0.008657  0.016966   \n",
       "2020-09-19  0.034042    0.004488  0.003869  0.019046      0.008657  0.016966   \n",
       "2020-09-20  0.034042    0.004488  0.003869  0.019046      0.008657  0.016966   \n",
       "2020-09-21  0.034042    0.004488  0.003869  0.019046      0.008657  0.016966   \n",
       "\n",
       "Country      Estonia    France    Guinea  Honduras  ...  Macedonia    Mexico  \\\n",
       "Date                                                ...                        \n",
       "2020-09-17  0.022846  0.008271  0.009566  0.002817  ...   0.016315  0.035447   \n",
       "2020-09-18  0.022846  0.008271  0.009566  0.002817  ...   0.016315  0.035447   \n",
       "2020-09-19  0.022846  0.008271  0.009566  0.002817  ...   0.016315  0.035447   \n",
       "2020-09-20  0.022846  0.008271  0.009566  0.002817  ...   0.016315  0.035447   \n",
       "2020-09-21  0.022846  0.008271  0.009566  0.002817  ...   0.016315  0.035447   \n",
       "\n",
       "Country     Moldova   Nigeria      Peru  Portugal    Russia    Turkey  \\\n",
       "Date                                                                    \n",
       "2020-09-17  0.01149  0.003318  0.002221  0.002217  0.001256  0.016523   \n",
       "2020-09-18  0.01149  0.003318  0.002221  0.002217  0.001256  0.016523   \n",
       "2020-09-19  0.01149  0.003318  0.002221  0.002217  0.001256  0.016523   \n",
       "2020-09-20  0.01149  0.003318  0.002221  0.002217  0.001256  0.016523   \n",
       "2020-09-21  0.01149  0.003318  0.002221  0.002217  0.001256  0.016523   \n",
       "\n",
       "Country     United Arab Emirates  United States  \n",
       "Date                                             \n",
       "2020-09-17              0.014157       0.002737  \n",
       "2020-09-18              0.014157       0.002737  \n",
       "2020-09-19              0.014157       0.002737  \n",
       "2020-09-20              0.014157       0.002737  \n",
       "2020-09-21              0.014157       0.002737  \n",
       "\n",
       "[5 rows x 24 columns]"
      ]
     },
     "execution_count": 15,
     "metadata": {},
     "output_type": "execute_result"
    }
   ],
   "source": [
    "analyser.param_history(\"rho\", roll_window=None).tail()"
   ]
  },
  {
   "cell_type": "markdown",
   "metadata": {},
   "source": [
    "### $\\sigma$: Recovery rate $\\mathrm{[-]}$"
   ]
  },
  {
   "cell_type": "code",
   "execution_count": 16,
   "metadata": {
    "collapsed": false
   },
   "outputs": [
    {
     "data": {
      "image/png": "[encoded data removed]",
      "text/plain": [
       "<Figure size 648x432 with 1 Axes>"
      ]
     },
     "metadata": {},
     "output_type": "display_data"
    },
    {
     "data": {
      "text/html": [
       "<div>\n",
       "<style scoped>\n",
       "    .dataframe tbody tr th:only-of-type {\n",
       "        vertical-align: middle;\n",
       "    }\n",
       "\n",
       "    .dataframe tbody tr th {\n",
       "        vertical-align: top;\n",
       "    }\n",
       "\n",
       "    .dataframe thead th {\n",
       "        text-align: right;\n",
       "    }\n",
       "</style>\n",
       "<table border=\"1\" class=\"dataframe\">\n",
       "  <thead>\n",
       "    <tr style=\"text-align: right;\">\n",
       "      <th>Country</th>\n",
       "      <th>Bahrain</th>\n",
       "      <th>Bangladesh</th>\n",
       "      <th>Bolivia</th>\n",
       "      <th>Brazil</th>\n",
       "      <th>Burkina Faso</th>\n",
       "      <th>Denmark</th>\n",
       "      <th>Estonia</th>\n",
       "      <th>France</th>\n",
       "      <th>Guinea</th>\n",
       "      <th>Honduras</th>\n",
       "      <th>...</th>\n",
       "      <th>Macedonia</th>\n",
       "      <th>Mexico</th>\n",
       "      <th>Moldova</th>\n",
       "      <th>Nigeria</th>\n",
       "      <th>Peru</th>\n",
       "      <th>Portugal</th>\n",
       "      <th>Russia</th>\n",
       "      <th>Turkey</th>\n",
       "      <th>United Arab Emirates</th>\n",
       "      <th>United States</th>\n",
       "    </tr>\n",
       "    <tr>\n",
       "      <th>Date</th>\n",
       "      <th></th>\n",
       "      <th></th>\n",
       "      <th></th>\n",
       "      <th></th>\n",
       "      <th></th>\n",
       "      <th></th>\n",
       "      <th></th>\n",
       "      <th></th>\n",
       "      <th></th>\n",
       "      <th></th>\n",
       "      <th></th>\n",
       "      <th></th>\n",
       "      <th></th>\n",
       "      <th></th>\n",
       "      <th></th>\n",
       "      <th></th>\n",
       "      <th></th>\n",
       "      <th></th>\n",
       "      <th></th>\n",
       "      <th></th>\n",
       "      <th></th>\n",
       "    </tr>\n",
       "  </thead>\n",
       "  <tbody>\n",
       "    <tr>\n",
       "      <th>2020-09-17</th>\n",
       "      <td>0.018239</td>\n",
       "      <td>0.006665</td>\n",
       "      <td>0.009938</td>\n",
       "      <td>0.01877</td>\n",
       "      <td>0.001885</td>\n",
       "      <td>0.021624</td>\n",
       "      <td>0.017645</td>\n",
       "      <td>0.000349</td>\n",
       "      <td>0.014072</td>\n",
       "      <td>0.003321</td>\n",
       "      <td>...</td>\n",
       "      <td>0.013207</td>\n",
       "      <td>0.029769</td>\n",
       "      <td>0.006223</td>\n",
       "      <td>0.004504</td>\n",
       "      <td>0.003266</td>\n",
       "      <td>0.000707</td>\n",
       "      <td>0.001548</td>\n",
       "      <td>0.01179</td>\n",
       "      <td>0.008498</td>\n",
       "      <td>0.001269</td>\n",
       "    </tr>\n",
       "    <tr>\n",
       "      <th>2020-09-18</th>\n",
       "      <td>0.018239</td>\n",
       "      <td>0.006665</td>\n",
       "      <td>0.009938</td>\n",
       "      <td>0.01877</td>\n",
       "      <td>0.001885</td>\n",
       "      <td>0.021624</td>\n",
       "      <td>0.017645</td>\n",
       "      <td>0.000349</td>\n",
       "      <td>0.014072</td>\n",
       "      <td>0.003321</td>\n",
       "      <td>...</td>\n",
       "      <td>0.013207</td>\n",
       "      <td>0.029769</td>\n",
       "      <td>0.006223</td>\n",
       "      <td>0.004504</td>\n",
       "      <td>0.003266</td>\n",
       "      <td>0.000707</td>\n",
       "      <td>0.001548</td>\n",
       "      <td>0.01179</td>\n",
       "      <td>0.008498</td>\n",
       "      <td>0.001269</td>\n",
       "    </tr>\n",
       "    <tr>\n",
       "      <th>2020-09-19</th>\n",
       "      <td>0.018239</td>\n",
       "      <td>0.006665</td>\n",
       "      <td>0.009938</td>\n",
       "      <td>0.01877</td>\n",
       "      <td>0.001885</td>\n",
       "      <td>0.021624</td>\n",
       "      <td>0.017645</td>\n",
       "      <td>0.000349</td>\n",
       "      <td>0.014072</td>\n",
       "      <td>0.003321</td>\n",
       "      <td>...</td>\n",
       "      <td>0.013207</td>\n",
       "      <td>0.029769</td>\n",
       "      <td>0.006223</td>\n",
       "      <td>0.004504</td>\n",
       "      <td>0.003266</td>\n",
       "      <td>0.000707</td>\n",
       "      <td>0.001548</td>\n",
       "      <td>0.01179</td>\n",
       "      <td>0.008498</td>\n",
       "      <td>0.001269</td>\n",
       "    </tr>\n",
       "    <tr>\n",
       "      <th>2020-09-20</th>\n",
       "      <td>0.018239</td>\n",
       "      <td>0.006665</td>\n",
       "      <td>0.009938</td>\n",
       "      <td>0.01877</td>\n",
       "      <td>0.001885</td>\n",
       "      <td>0.021624</td>\n",
       "      <td>0.017645</td>\n",
       "      <td>0.000349</td>\n",
       "      <td>0.014072</td>\n",
       "      <td>0.003321</td>\n",
       "      <td>...</td>\n",
       "      <td>0.013207</td>\n",
       "      <td>0.029769</td>\n",
       "      <td>0.006223</td>\n",
       "      <td>0.004504</td>\n",
       "      <td>0.003266</td>\n",
       "      <td>0.000707</td>\n",
       "      <td>0.001548</td>\n",
       "      <td>0.01179</td>\n",
       "      <td>0.008498</td>\n",
       "      <td>0.001269</td>\n",
       "    </tr>\n",
       "    <tr>\n",
       "      <th>2020-09-21</th>\n",
       "      <td>0.018239</td>\n",
       "      <td>0.006665</td>\n",
       "      <td>0.009938</td>\n",
       "      <td>0.01877</td>\n",
       "      <td>0.001885</td>\n",
       "      <td>0.021624</td>\n",
       "      <td>0.017645</td>\n",
       "      <td>0.000349</td>\n",
       "      <td>0.014072</td>\n",
       "      <td>0.003321</td>\n",
       "      <td>...</td>\n",
       "      <td>0.013207</td>\n",
       "      <td>0.029769</td>\n",
       "      <td>0.006223</td>\n",
       "      <td>0.004504</td>\n",
       "      <td>0.003266</td>\n",
       "      <td>0.000707</td>\n",
       "      <td>0.001548</td>\n",
       "      <td>0.01179</td>\n",
       "      <td>0.008498</td>\n",
       "      <td>0.001269</td>\n",
       "    </tr>\n",
       "  </tbody>\n",
       "</table>\n",
       "<p>5 rows × 24 columns</p>\n",
       "</div>"
      ],
      "text/plain": [
       "Country      Bahrain  Bangladesh   Bolivia   Brazil  Burkina Faso   Denmark  \\\n",
       "Date                                                                          \n",
       "2020-09-17  0.018239    0.006665  0.009938  0.01877      0.001885  0.021624   \n",
       "2020-09-18  0.018239    0.006665  0.009938  0.01877      0.001885  0.021624   \n",
       "2020-09-19  0.018239    0.006665  0.009938  0.01877      0.001885  0.021624   \n",
       "2020-09-20  0.018239    0.006665  0.009938  0.01877      0.001885  0.021624   \n",
       "2020-09-21  0.018239    0.006665  0.009938  0.01877      0.001885  0.021624   \n",
       "\n",
       "Country      Estonia    France    Guinea  Honduras  ...  Macedonia    Mexico  \\\n",
       "Date                                                ...                        \n",
       "2020-09-17  0.017645  0.000349  0.014072  0.003321  ...   0.013207  0.029769   \n",
       "2020-09-18  0.017645  0.000349  0.014072  0.003321  ...   0.013207  0.029769   \n",
       "2020-09-19  0.017645  0.000349  0.014072  0.003321  ...   0.013207  0.029769   \n",
       "2020-09-20  0.017645  0.000349  0.014072  0.003321  ...   0.013207  0.029769   \n",
       "2020-09-21  0.017645  0.000349  0.014072  0.003321  ...   0.013207  0.029769   \n",
       "\n",
       "Country      Moldova   Nigeria      Peru  Portugal    Russia   Turkey  \\\n",
       "Date                                                                    \n",
       "2020-09-17  0.006223  0.004504  0.003266  0.000707  0.001548  0.01179   \n",
       "2020-09-18  0.006223  0.004504  0.003266  0.000707  0.001548  0.01179   \n",
       "2020-09-19  0.006223  0.004504  0.003266  0.000707  0.001548  0.01179   \n",
       "2020-09-20  0.006223  0.004504  0.003266  0.000707  0.001548  0.01179   \n",
       "2020-09-21  0.006223  0.004504  0.003266  0.000707  0.001548  0.01179   \n",
       "\n",
       "Country     United Arab Emirates  United States  \n",
       "Date                                             \n",
       "2020-09-17              0.008498       0.001269  \n",
       "2020-09-18              0.008498       0.001269  \n",
       "2020-09-19              0.008498       0.001269  \n",
       "2020-09-20              0.008498       0.001269  \n",
       "2020-09-21              0.008498       0.001269  \n",
       "\n",
       "[5 rows x 24 columns]"
      ]
     },
     "execution_count": 16,
     "metadata": {},
     "output_type": "execute_result"
    }
   ],
   "source": [
    "analyser.param_history(\"sigma\", roll_window=None).tail()"
   ]
  },
  {
   "cell_type": "markdown",
   "metadata": {},
   "source": [
    "### $\\kappa$: Mortality rate of infected cases $\\mathrm{[-]}$"
   ]
  },
  {
   "cell_type": "code",
   "execution_count": 17,
   "metadata": {
    "collapsed": false
   },
   "outputs": [
    {
     "data": {
      "image/png": "[encoded data removed]",
      "text/plain": [
       "<Figure size 648x432 with 1 Axes>"
      ]
     },
     "metadata": {},
     "output_type": "display_data"
    },
    {
     "data": {
      "text/html": [
       "<div>\n",
       "<style scoped>\n",
       "    .dataframe tbody tr th:only-of-type {\n",
       "        vertical-align: middle;\n",
       "    }\n",
       "\n",
       "    .dataframe tbody tr th {\n",
       "        vertical-align: top;\n",
       "    }\n",
       "\n",
       "    .dataframe thead th {\n",
       "        text-align: right;\n",
       "    }\n",
       "</style>\n",
       "<table border=\"1\" class=\"dataframe\">\n",
       "  <thead>\n",
       "    <tr style=\"text-align: right;\">\n",
       "      <th>Country</th>\n",
       "      <th>Bahrain</th>\n",
       "      <th>Bangladesh</th>\n",
       "      <th>Bolivia</th>\n",
       "      <th>Brazil</th>\n",
       "      <th>Burkina Faso</th>\n",
       "      <th>Denmark</th>\n",
       "      <th>Estonia</th>\n",
       "      <th>France</th>\n",
       "      <th>Guinea</th>\n",
       "      <th>Honduras</th>\n",
       "      <th>...</th>\n",
       "      <th>Macedonia</th>\n",
       "      <th>Mexico</th>\n",
       "      <th>Moldova</th>\n",
       "      <th>Nigeria</th>\n",
       "      <th>Peru</th>\n",
       "      <th>Portugal</th>\n",
       "      <th>Russia</th>\n",
       "      <th>Turkey</th>\n",
       "      <th>United Arab Emirates</th>\n",
       "      <th>United States</th>\n",
       "    </tr>\n",
       "    <tr>\n",
       "      <th>Date</th>\n",
       "      <th></th>\n",
       "      <th></th>\n",
       "      <th></th>\n",
       "      <th></th>\n",
       "      <th></th>\n",
       "      <th></th>\n",
       "      <th></th>\n",
       "      <th></th>\n",
       "      <th></th>\n",
       "      <th></th>\n",
       "      <th></th>\n",
       "      <th></th>\n",
       "      <th></th>\n",
       "      <th></th>\n",
       "      <th></th>\n",
       "      <th></th>\n",
       "      <th></th>\n",
       "      <th></th>\n",
       "      <th></th>\n",
       "      <th></th>\n",
       "      <th></th>\n",
       "    </tr>\n",
       "  </thead>\n",
       "  <tbody>\n",
       "    <tr>\n",
       "      <th>2020-09-17</th>\n",
       "      <td>0.000077</td>\n",
       "      <td>0.000087</td>\n",
       "      <td>0.000156</td>\n",
       "      <td>0.000425</td>\n",
       "      <td>0.000031</td>\n",
       "      <td>0.000041</td>\n",
       "      <td>0.000079</td>\n",
       "      <td>0.000037</td>\n",
       "      <td>0.000069</td>\n",
       "      <td>0.000069</td>\n",
       "      <td>...</td>\n",
       "      <td>0.000172</td>\n",
       "      <td>0.001072</td>\n",
       "      <td>0.000002</td>\n",
       "      <td>0.000104</td>\n",
       "      <td>0.000036</td>\n",
       "      <td>0.000001</td>\n",
       "      <td>0.000031</td>\n",
       "      <td>0.000516</td>\n",
       "      <td>0.000021</td>\n",
       "      <td>0.000002</td>\n",
       "    </tr>\n",
       "    <tr>\n",
       "      <th>2020-09-18</th>\n",
       "      <td>0.000077</td>\n",
       "      <td>0.000087</td>\n",
       "      <td>0.000156</td>\n",
       "      <td>0.000425</td>\n",
       "      <td>0.000031</td>\n",
       "      <td>0.000041</td>\n",
       "      <td>0.000079</td>\n",
       "      <td>0.000037</td>\n",
       "      <td>0.000069</td>\n",
       "      <td>0.000069</td>\n",
       "      <td>...</td>\n",
       "      <td>0.000172</td>\n",
       "      <td>0.001072</td>\n",
       "      <td>0.000002</td>\n",
       "      <td>0.000104</td>\n",
       "      <td>0.000036</td>\n",
       "      <td>0.000001</td>\n",
       "      <td>0.000031</td>\n",
       "      <td>0.000516</td>\n",
       "      <td>0.000021</td>\n",
       "      <td>0.000002</td>\n",
       "    </tr>\n",
       "    <tr>\n",
       "      <th>2020-09-19</th>\n",
       "      <td>0.000077</td>\n",
       "      <td>0.000087</td>\n",
       "      <td>0.000156</td>\n",
       "      <td>0.000425</td>\n",
       "      <td>0.000031</td>\n",
       "      <td>0.000041</td>\n",
       "      <td>0.000079</td>\n",
       "      <td>0.000037</td>\n",
       "      <td>0.000069</td>\n",
       "      <td>0.000069</td>\n",
       "      <td>...</td>\n",
       "      <td>0.000172</td>\n",
       "      <td>0.001072</td>\n",
       "      <td>0.000002</td>\n",
       "      <td>0.000104</td>\n",
       "      <td>0.000036</td>\n",
       "      <td>0.000001</td>\n",
       "      <td>0.000031</td>\n",
       "      <td>0.000516</td>\n",
       "      <td>0.000021</td>\n",
       "      <td>0.000002</td>\n",
       "    </tr>\n",
       "    <tr>\n",
       "      <th>2020-09-20</th>\n",
       "      <td>0.000077</td>\n",
       "      <td>0.000087</td>\n",
       "      <td>0.000156</td>\n",
       "      <td>0.000425</td>\n",
       "      <td>0.000031</td>\n",
       "      <td>0.000041</td>\n",
       "      <td>0.000079</td>\n",
       "      <td>0.000037</td>\n",
       "      <td>0.000069</td>\n",
       "      <td>0.000069</td>\n",
       "      <td>...</td>\n",
       "      <td>0.000172</td>\n",
       "      <td>0.001072</td>\n",
       "      <td>0.000002</td>\n",
       "      <td>0.000104</td>\n",
       "      <td>0.000036</td>\n",
       "      <td>0.000001</td>\n",
       "      <td>0.000031</td>\n",
       "      <td>0.000516</td>\n",
       "      <td>0.000021</td>\n",
       "      <td>0.000002</td>\n",
       "    </tr>\n",
       "    <tr>\n",
       "      <th>2020-09-21</th>\n",
       "      <td>0.000077</td>\n",
       "      <td>0.000087</td>\n",
       "      <td>0.000156</td>\n",
       "      <td>0.000425</td>\n",
       "      <td>0.000031</td>\n",
       "      <td>0.000041</td>\n",
       "      <td>0.000079</td>\n",
       "      <td>0.000037</td>\n",
       "      <td>0.000069</td>\n",
       "      <td>0.000069</td>\n",
       "      <td>...</td>\n",
       "      <td>0.000172</td>\n",
       "      <td>0.001072</td>\n",
       "      <td>0.000002</td>\n",
       "      <td>0.000104</td>\n",
       "      <td>0.000036</td>\n",
       "      <td>0.000001</td>\n",
       "      <td>0.000031</td>\n",
       "      <td>0.000516</td>\n",
       "      <td>0.000021</td>\n",
       "      <td>0.000002</td>\n",
       "    </tr>\n",
       "  </tbody>\n",
       "</table>\n",
       "<p>5 rows × 24 columns</p>\n",
       "</div>"
      ],
      "text/plain": [
       "Country      Bahrain  Bangladesh   Bolivia    Brazil  Burkina Faso   Denmark  \\\n",
       "Date                                                                           \n",
       "2020-09-17  0.000077    0.000087  0.000156  0.000425      0.000031  0.000041   \n",
       "2020-09-18  0.000077    0.000087  0.000156  0.000425      0.000031  0.000041   \n",
       "2020-09-19  0.000077    0.000087  0.000156  0.000425      0.000031  0.000041   \n",
       "2020-09-20  0.000077    0.000087  0.000156  0.000425      0.000031  0.000041   \n",
       "2020-09-21  0.000077    0.000087  0.000156  0.000425      0.000031  0.000041   \n",
       "\n",
       "Country      Estonia    France    Guinea  Honduras  ...  Macedonia    Mexico  \\\n",
       "Date                                                ...                        \n",
       "2020-09-17  0.000079  0.000037  0.000069  0.000069  ...   0.000172  0.001072   \n",
       "2020-09-18  0.000079  0.000037  0.000069  0.000069  ...   0.000172  0.001072   \n",
       "2020-09-19  0.000079  0.000037  0.000069  0.000069  ...   0.000172  0.001072   \n",
       "2020-09-20  0.000079  0.000037  0.000069  0.000069  ...   0.000172  0.001072   \n",
       "2020-09-21  0.000079  0.000037  0.000069  0.000069  ...   0.000172  0.001072   \n",
       "\n",
       "Country      Moldova   Nigeria      Peru  Portugal    Russia    Turkey  \\\n",
       "Date                                                                     \n",
       "2020-09-17  0.000002  0.000104  0.000036  0.000001  0.000031  0.000516   \n",
       "2020-09-18  0.000002  0.000104  0.000036  0.000001  0.000031  0.000516   \n",
       "2020-09-19  0.000002  0.000104  0.000036  0.000001  0.000031  0.000516   \n",
       "2020-09-20  0.000002  0.000104  0.000036  0.000001  0.000031  0.000516   \n",
       "2020-09-21  0.000002  0.000104  0.000036  0.000001  0.000031  0.000516   \n",
       "\n",
       "Country     United Arab Emirates  United States  \n",
       "Date                                             \n",
       "2020-09-17              0.000021       0.000002  \n",
       "2020-09-18              0.000021       0.000002  \n",
       "2020-09-19              0.000021       0.000002  \n",
       "2020-09-20              0.000021       0.000002  \n",
       "2020-09-21              0.000021       0.000002  \n",
       "\n",
       "[5 rows x 24 columns]"
      ]
     },
     "execution_count": 17,
     "metadata": {},
     "output_type": "execute_result"
    }
   ],
   "source": [
    "analyser.param_history(\"kappa\", roll_window=None).tail()"
   ]
  },
  {
   "cell_type": "markdown",
   "metadata": {},
   "source": [
    "### $\\theta$: Mortality rate of S$^\\ast$ cases $\\mathrm{[-]}$"
   ]
  },
  {
   "cell_type": "code",
   "execution_count": 18,
   "metadata": {
    "collapsed": false
   },
   "outputs": [
    {
     "data": {
      "image/png": "[encoded data removed]",
      "text/plain": [
       "<Figure size 648x432 with 1 Axes>"
      ]
     },
     "metadata": {},
     "output_type": "display_data"
    },
    {
     "data": {
      "text/html": [
       "<div>\n",
       "<style scoped>\n",
       "    .dataframe tbody tr th:only-of-type {\n",
       "        vertical-align: middle;\n",
       "    }\n",
       "\n",
       "    .dataframe tbody tr th {\n",
       "        vertical-align: top;\n",
       "    }\n",
       "\n",
       "    .dataframe thead th {\n",
       "        text-align: right;\n",
       "    }\n",
       "</style>\n",
       "<table border=\"1\" class=\"dataframe\">\n",
       "  <thead>\n",
       "    <tr style=\"text-align: right;\">\n",
       "      <th>Country</th>\n",
       "      <th>Bahrain</th>\n",
       "      <th>Bangladesh</th>\n",
       "      <th>Bolivia</th>\n",
       "      <th>Brazil</th>\n",
       "      <th>Burkina Faso</th>\n",
       "      <th>Denmark</th>\n",
       "      <th>Estonia</th>\n",
       "      <th>France</th>\n",
       "      <th>Guinea</th>\n",
       "      <th>Honduras</th>\n",
       "      <th>...</th>\n",
       "      <th>Macedonia</th>\n",
       "      <th>Mexico</th>\n",
       "      <th>Moldova</th>\n",
       "      <th>Nigeria</th>\n",
       "      <th>Peru</th>\n",
       "      <th>Portugal</th>\n",
       "      <th>Russia</th>\n",
       "      <th>Turkey</th>\n",
       "      <th>United Arab Emirates</th>\n",
       "      <th>United States</th>\n",
       "    </tr>\n",
       "    <tr>\n",
       "      <th>Date</th>\n",
       "      <th></th>\n",
       "      <th></th>\n",
       "      <th></th>\n",
       "      <th></th>\n",
       "      <th></th>\n",
       "      <th></th>\n",
       "      <th></th>\n",
       "      <th></th>\n",
       "      <th></th>\n",
       "      <th></th>\n",
       "      <th></th>\n",
       "      <th></th>\n",
       "      <th></th>\n",
       "      <th></th>\n",
       "      <th></th>\n",
       "      <th></th>\n",
       "      <th></th>\n",
       "      <th></th>\n",
       "      <th></th>\n",
       "      <th></th>\n",
       "      <th></th>\n",
       "    </tr>\n",
       "  </thead>\n",
       "  <tbody>\n",
       "    <tr>\n",
       "      <th>2020-09-17</th>\n",
       "      <td>0.000771</td>\n",
       "      <td>0.00048</td>\n",
       "      <td>0.048458</td>\n",
       "      <td>0.000222</td>\n",
       "      <td>0.000938</td>\n",
       "      <td>0.000019</td>\n",
       "      <td>0.000807</td>\n",
       "      <td>0.000684</td>\n",
       "      <td>0.001058</td>\n",
       "      <td>0.001573</td>\n",
       "      <td>...</td>\n",
       "      <td>0.031817</td>\n",
       "      <td>0.058955</td>\n",
       "      <td>0.017978</td>\n",
       "      <td>0.000191</td>\n",
       "      <td>0.013719</td>\n",
       "      <td>0.002496</td>\n",
       "      <td>0.002265</td>\n",
       "      <td>0.004787</td>\n",
       "      <td>0.000679</td>\n",
       "      <td>0.018944</td>\n",
       "    </tr>\n",
       "    <tr>\n",
       "      <th>2020-09-18</th>\n",
       "      <td>0.000771</td>\n",
       "      <td>0.00048</td>\n",
       "      <td>0.048458</td>\n",
       "      <td>0.000222</td>\n",
       "      <td>0.000938</td>\n",
       "      <td>0.000019</td>\n",
       "      <td>0.000807</td>\n",
       "      <td>0.000684</td>\n",
       "      <td>0.001058</td>\n",
       "      <td>0.001573</td>\n",
       "      <td>...</td>\n",
       "      <td>0.031817</td>\n",
       "      <td>0.058955</td>\n",
       "      <td>0.017978</td>\n",
       "      <td>0.000191</td>\n",
       "      <td>0.013719</td>\n",
       "      <td>0.002496</td>\n",
       "      <td>0.002265</td>\n",
       "      <td>0.004787</td>\n",
       "      <td>0.000679</td>\n",
       "      <td>0.018944</td>\n",
       "    </tr>\n",
       "    <tr>\n",
       "      <th>2020-09-19</th>\n",
       "      <td>0.000771</td>\n",
       "      <td>0.00048</td>\n",
       "      <td>0.048458</td>\n",
       "      <td>0.000222</td>\n",
       "      <td>0.000938</td>\n",
       "      <td>0.000019</td>\n",
       "      <td>0.000807</td>\n",
       "      <td>0.000684</td>\n",
       "      <td>0.001058</td>\n",
       "      <td>0.001573</td>\n",
       "      <td>...</td>\n",
       "      <td>0.031817</td>\n",
       "      <td>0.058955</td>\n",
       "      <td>0.017978</td>\n",
       "      <td>0.000191</td>\n",
       "      <td>0.013719</td>\n",
       "      <td>0.002496</td>\n",
       "      <td>0.002265</td>\n",
       "      <td>0.004787</td>\n",
       "      <td>0.000679</td>\n",
       "      <td>0.018944</td>\n",
       "    </tr>\n",
       "    <tr>\n",
       "      <th>2020-09-20</th>\n",
       "      <td>0.000771</td>\n",
       "      <td>0.00048</td>\n",
       "      <td>0.048458</td>\n",
       "      <td>0.000222</td>\n",
       "      <td>0.000938</td>\n",
       "      <td>0.000019</td>\n",
       "      <td>0.000807</td>\n",
       "      <td>0.000684</td>\n",
       "      <td>0.001058</td>\n",
       "      <td>0.001573</td>\n",
       "      <td>...</td>\n",
       "      <td>0.031817</td>\n",
       "      <td>0.058955</td>\n",
       "      <td>0.017978</td>\n",
       "      <td>0.000191</td>\n",
       "      <td>0.013719</td>\n",
       "      <td>0.002496</td>\n",
       "      <td>0.002265</td>\n",
       "      <td>0.004787</td>\n",
       "      <td>0.000679</td>\n",
       "      <td>0.018944</td>\n",
       "    </tr>\n",
       "    <tr>\n",
       "      <th>2020-09-21</th>\n",
       "      <td>0.000771</td>\n",
       "      <td>0.00048</td>\n",
       "      <td>0.048458</td>\n",
       "      <td>0.000222</td>\n",
       "      <td>0.000938</td>\n",
       "      <td>0.000019</td>\n",
       "      <td>0.000807</td>\n",
       "      <td>0.000684</td>\n",
       "      <td>0.001058</td>\n",
       "      <td>0.001573</td>\n",
       "      <td>...</td>\n",
       "      <td>0.031817</td>\n",
       "      <td>0.058955</td>\n",
       "      <td>0.017978</td>\n",
       "      <td>0.000191</td>\n",
       "      <td>0.013719</td>\n",
       "      <td>0.002496</td>\n",
       "      <td>0.002265</td>\n",
       "      <td>0.004787</td>\n",
       "      <td>0.000679</td>\n",
       "      <td>0.018944</td>\n",
       "    </tr>\n",
       "  </tbody>\n",
       "</table>\n",
       "<p>5 rows × 24 columns</p>\n",
       "</div>"
      ],
      "text/plain": [
       "Country      Bahrain  Bangladesh   Bolivia    Brazil  Burkina Faso   Denmark  \\\n",
       "Date                                                                           \n",
       "2020-09-17  0.000771     0.00048  0.048458  0.000222      0.000938  0.000019   \n",
       "2020-09-18  0.000771     0.00048  0.048458  0.000222      0.000938  0.000019   \n",
       "2020-09-19  0.000771     0.00048  0.048458  0.000222      0.000938  0.000019   \n",
       "2020-09-20  0.000771     0.00048  0.048458  0.000222      0.000938  0.000019   \n",
       "2020-09-21  0.000771     0.00048  0.048458  0.000222      0.000938  0.000019   \n",
       "\n",
       "Country      Estonia    France    Guinea  Honduras  ...  Macedonia    Mexico  \\\n",
       "Date                                                ...                        \n",
       "2020-09-17  0.000807  0.000684  0.001058  0.001573  ...   0.031817  0.058955   \n",
       "2020-09-18  0.000807  0.000684  0.001058  0.001573  ...   0.031817  0.058955   \n",
       "2020-09-19  0.000807  0.000684  0.001058  0.001573  ...   0.031817  0.058955   \n",
       "2020-09-20  0.000807  0.000684  0.001058  0.001573  ...   0.031817  0.058955   \n",
       "2020-09-21  0.000807  0.000684  0.001058  0.001573  ...   0.031817  0.058955   \n",
       "\n",
       "Country      Moldova   Nigeria      Peru  Portugal    Russia    Turkey  \\\n",
       "Date                                                                     \n",
       "2020-09-17  0.017978  0.000191  0.013719  0.002496  0.002265  0.004787   \n",
       "2020-09-18  0.017978  0.000191  0.013719  0.002496  0.002265  0.004787   \n",
       "2020-09-19  0.017978  0.000191  0.013719  0.002496  0.002265  0.004787   \n",
       "2020-09-20  0.017978  0.000191  0.013719  0.002496  0.002265  0.004787   \n",
       "2020-09-21  0.017978  0.000191  0.013719  0.002496  0.002265  0.004787   \n",
       "\n",
       "Country     United Arab Emirates  United States  \n",
       "Date                                             \n",
       "2020-09-17              0.000679       0.018944  \n",
       "2020-09-18              0.000679       0.018944  \n",
       "2020-09-19              0.000679       0.018944  \n",
       "2020-09-20              0.000679       0.018944  \n",
       "2020-09-21              0.000679       0.018944  \n",
       "\n",
       "[5 rows x 24 columns]"
      ]
     },
     "execution_count": 18,
     "metadata": {},
     "output_type": "execute_result"
    }
   ],
   "source": [
    "analyser.param_history(\"theta\", roll_window=None).tail()"
   ]
  },
  {
   "cell_type": "markdown",
   "metadata": {},
   "source": [
    "## (Experimental): Relationship of OxCGRT index and parameter values\n",
    "Government responses will impact on parameter values of ODE models about 14 days later. Here, we will investigate on the relationship of [stringency index (from OxCGRT)](https://github.com/OxCGRT/covid-policy-tracker/blob/master/documentation/index_methodology.md) and reproduction number/model parameters.\n"
   ]
  },
  {
   "cell_type": "code",
   "execution_count": 19,
   "metadata": {
    "collapsed": false
   },
   "outputs": [],
   "source": [
    "%matplotlib inline\n",
    "from matplotlib import pyplot as plt\n",
    "import seaborn as sns\n",
    "import pandas as pd"
   ]
  },
  {
   "cell_type": "code",
   "execution_count": 20,
   "metadata": {
    "collapsed": false
   },
   "outputs": [
    {
     "name": "stdout",
     "output_type": "stream",
     "text": [
      "<class 'pandas.core.frame.DataFrame'>\n",
      "Int64Index: 52274 entries, 0 to 52595\n",
      "Data columns (total 19 columns):\n",
      " #   Column                               Non-Null Count  Dtype         \n",
      "---  ------                               --------------  -----         \n",
      " 0   Date                                 52274 non-null  datetime64[ns]\n",
      " 1   Country                              52274 non-null  object        \n",
      " 2   Rt                                   52274 non-null  float64       \n",
      " 3   theta                                52274 non-null  float64       \n",
      " 4   kappa                                52274 non-null  float64       \n",
      " 5   rho                                  52274 non-null  float64       \n",
      " 6   sigma                                52274 non-null  float64       \n",
      " 7   School_closing                       52274 non-null  int64         \n",
      " 8   Workplace_closing                    52274 non-null  int64         \n",
      " 9   Cancel_events                        52274 non-null  int64         \n",
      " 10  Gatherings_restrictions              52274 non-null  int64         \n",
      " 11  Transport_closing                    52274 non-null  int64         \n",
      " 12  Stay_home_restrictions               52274 non-null  int64         \n",
      " 13  Internal_movement_restrictions       52274 non-null  int64         \n",
      " 14  International_movement_restrictions  52274 non-null  int64         \n",
      " 15  Information_campaigns                52274 non-null  int64         \n",
      " 16  Testing_policy                       52274 non-null  int64         \n",
      " 17  Contact_tracing                      52274 non-null  int64         \n",
      " 18  Stringency_index                     52274 non-null  float64       \n",
      "dtypes: datetime64[ns](1), float64(6), int64(11), object(1)\n",
      "memory usage: 8.0+ MB\n"
     ]
    }
   ],
   "source": [
    "df = analyser.track()\n",
    "param_cols = [\"Rt\", *cs.SIRF.PARAMETERS]\n",
    "oxcgrt_cols = oxcgrt_data.OXCGRT_VARS[:]\n",
    "cols = param_cols + oxcgrt_cols\n",
    "delay = 14\n",
    "\n",
    "for col in param_cols:\n",
    "    df[col] = pd.to_numeric(df[col], errors=\"coerce\")\n",
    "    df[col] = df.groupby(\"Country\")[col].shift(0 - delay)\n",
    "\n",
    "df = df.dropna(how=\"any\")\n",
    "df = df.loc[:, [\"Date\", \"Country\", *cols]]\n",
    "track_df = df.copy()\n",
    "track_df.info()"
   ]
  },
  {
   "cell_type": "code",
   "execution_count": 21,
   "metadata": {
    "collapsed": false
   },
   "outputs": [
    {
     "data": {
      "text/html": [
       "<style  type=\"text/css\" >\n",
       "#T_e5740538_fc20_11ea_9ec7_5254009c52d5row0_col0,#T_e5740538_fc20_11ea_9ec7_5254009c52d5row1_col1,#T_e5740538_fc20_11ea_9ec7_5254009c52d5row2_col2,#T_e5740538_fc20_11ea_9ec7_5254009c52d5row3_col3,#T_e5740538_fc20_11ea_9ec7_5254009c52d5row4_col4,#T_e5740538_fc20_11ea_9ec7_5254009c52d5row5_col5,#T_e5740538_fc20_11ea_9ec7_5254009c52d5row6_col6,#T_e5740538_fc20_11ea_9ec7_5254009c52d5row7_col7,#T_e5740538_fc20_11ea_9ec7_5254009c52d5row8_col8,#T_e5740538_fc20_11ea_9ec7_5254009c52d5row9_col9,#T_e5740538_fc20_11ea_9ec7_5254009c52d5row10_col10,#T_e5740538_fc20_11ea_9ec7_5254009c52d5row11_col11,#T_e5740538_fc20_11ea_9ec7_5254009c52d5row12_col12,#T_e5740538_fc20_11ea_9ec7_5254009c52d5row13_col13,#T_e5740538_fc20_11ea_9ec7_5254009c52d5row14_col14,#T_e5740538_fc20_11ea_9ec7_5254009c52d5row15_col15,#T_e5740538_fc20_11ea_9ec7_5254009c52d5row16_col16{\n",
       "            background-color:  #023858;\n",
       "            color:  #f1f1f1;\n",
       "        }#T_e5740538_fc20_11ea_9ec7_5254009c52d5row0_col1,#T_e5740538_fc20_11ea_9ec7_5254009c52d5row0_col4,#T_e5740538_fc20_11ea_9ec7_5254009c52d5row1_col0,#T_e5740538_fc20_11ea_9ec7_5254009c52d5row4_col0{\n",
       "            background-color:  #e3e0ee;\n",
       "            color:  #000000;\n",
       "        }#T_e5740538_fc20_11ea_9ec7_5254009c52d5row0_col2,#T_e5740538_fc20_11ea_9ec7_5254009c52d5row2_col0{\n",
       "            background-color:  #e6e2ef;\n",
       "            color:  #000000;\n",
       "        }#T_e5740538_fc20_11ea_9ec7_5254009c52d5row0_col3,#T_e5740538_fc20_11ea_9ec7_5254009c52d5row3_col0{\n",
       "            background-color:  #8bb2d4;\n",
       "            color:  #000000;\n",
       "        }#T_e5740538_fc20_11ea_9ec7_5254009c52d5row0_col5,#T_e5740538_fc20_11ea_9ec7_5254009c52d5row5_col0{\n",
       "            background-color:  #ced0e6;\n",
       "            color:  #000000;\n",
       "        }#T_e5740538_fc20_11ea_9ec7_5254009c52d5row0_col6,#T_e5740538_fc20_11ea_9ec7_5254009c52d5row2_col15,#T_e5740538_fc20_11ea_9ec7_5254009c52d5row3_col12,#T_e5740538_fc20_11ea_9ec7_5254009c52d5row6_col0,#T_e5740538_fc20_11ea_9ec7_5254009c52d5row12_col3,#T_e5740538_fc20_11ea_9ec7_5254009c52d5row15_col2{\n",
       "            background-color:  #bfc9e1;\n",
       "            color:  #000000;\n",
       "        }#T_e5740538_fc20_11ea_9ec7_5254009c52d5row0_col7,#T_e5740538_fc20_11ea_9ec7_5254009c52d5row2_col4,#T_e5740538_fc20_11ea_9ec7_5254009c52d5row4_col2,#T_e5740538_fc20_11ea_9ec7_5254009c52d5row7_col0{\n",
       "            background-color:  #d7d6e9;\n",
       "            color:  #000000;\n",
       "        }#T_e5740538_fc20_11ea_9ec7_5254009c52d5row0_col8,#T_e5740538_fc20_11ea_9ec7_5254009c52d5row8_col0{\n",
       "            background-color:  #d2d2e7;\n",
       "            color:  #000000;\n",
       "        }#T_e5740538_fc20_11ea_9ec7_5254009c52d5row0_col9,#T_e5740538_fc20_11ea_9ec7_5254009c52d5row9_col0{\n",
       "            background-color:  #d8d7e9;\n",
       "            color:  #000000;\n",
       "        }#T_e5740538_fc20_11ea_9ec7_5254009c52d5row0_col10,#T_e5740538_fc20_11ea_9ec7_5254009c52d5row0_col12,#T_e5740538_fc20_11ea_9ec7_5254009c52d5row2_col6,#T_e5740538_fc20_11ea_9ec7_5254009c52d5row3_col5,#T_e5740538_fc20_11ea_9ec7_5254009c52d5row3_col16,#T_e5740538_fc20_11ea_9ec7_5254009c52d5row5_col3,#T_e5740538_fc20_11ea_9ec7_5254009c52d5row6_col2,#T_e5740538_fc20_11ea_9ec7_5254009c52d5row10_col0,#T_e5740538_fc20_11ea_9ec7_5254009c52d5row12_col0,#T_e5740538_fc20_11ea_9ec7_5254009c52d5row16_col3{\n",
       "            background-color:  #dddbec;\n",
       "            color:  #000000;\n",
       "        }#T_e5740538_fc20_11ea_9ec7_5254009c52d5row0_col11,#T_e5740538_fc20_11ea_9ec7_5254009c52d5row1_col16,#T_e5740538_fc20_11ea_9ec7_5254009c52d5row11_col0,#T_e5740538_fc20_11ea_9ec7_5254009c52d5row16_col1{\n",
       "            background-color:  #dfddec;\n",
       "            color:  #000000;\n",
       "        }#T_e5740538_fc20_11ea_9ec7_5254009c52d5row0_col13,#T_e5740538_fc20_11ea_9ec7_5254009c52d5row13_col0{\n",
       "            background-color:  #cdd0e5;\n",
       "            color:  #000000;\n",
       "        }#T_e5740538_fc20_11ea_9ec7_5254009c52d5row0_col14,#T_e5740538_fc20_11ea_9ec7_5254009c52d5row14_col0{\n",
       "            background-color:  #dedcec;\n",
       "            color:  #000000;\n",
       "        }#T_e5740538_fc20_11ea_9ec7_5254009c52d5row0_col15,#T_e5740538_fc20_11ea_9ec7_5254009c52d5row15_col0{\n",
       "            background-color:  #e9e5f1;\n",
       "            color:  #000000;\n",
       "        }#T_e5740538_fc20_11ea_9ec7_5254009c52d5row0_col16,#T_e5740538_fc20_11ea_9ec7_5254009c52d5row16_col0{\n",
       "            background-color:  #d4d4e8;\n",
       "            color:  #000000;\n",
       "        }#T_e5740538_fc20_11ea_9ec7_5254009c52d5row1_col2,#T_e5740538_fc20_11ea_9ec7_5254009c52d5row2_col1{\n",
       "            background-color:  #023b5d;\n",
       "            color:  #f1f1f1;\n",
       "        }#T_e5740538_fc20_11ea_9ec7_5254009c52d5row1_col3,#T_e5740538_fc20_11ea_9ec7_5254009c52d5row3_col1{\n",
       "            background-color:  #0566a0;\n",
       "            color:  #f1f1f1;\n",
       "        }#T_e5740538_fc20_11ea_9ec7_5254009c52d5row1_col4,#T_e5740538_fc20_11ea_9ec7_5254009c52d5row4_col1{\n",
       "            background-color:  #d2d3e7;\n",
       "            color:  #000000;\n",
       "        }#T_e5740538_fc20_11ea_9ec7_5254009c52d5row1_col5,#T_e5740538_fc20_11ea_9ec7_5254009c52d5row5_col1{\n",
       "            background-color:  #e8e4f0;\n",
       "            color:  #000000;\n",
       "        }#T_e5740538_fc20_11ea_9ec7_5254009c52d5row1_col6,#T_e5740538_fc20_11ea_9ec7_5254009c52d5row4_col8,#T_e5740538_fc20_11ea_9ec7_5254009c52d5row6_col1,#T_e5740538_fc20_11ea_9ec7_5254009c52d5row8_col4{\n",
       "            background-color:  #d9d8ea;\n",
       "            color:  #000000;\n",
       "        }#T_e5740538_fc20_11ea_9ec7_5254009c52d5row1_col7,#T_e5740538_fc20_11ea_9ec7_5254009c52d5row1_col8,#T_e5740538_fc20_11ea_9ec7_5254009c52d5row2_col7,#T_e5740538_fc20_11ea_9ec7_5254009c52d5row3_col9,#T_e5740538_fc20_11ea_9ec7_5254009c52d5row7_col1,#T_e5740538_fc20_11ea_9ec7_5254009c52d5row7_col2,#T_e5740538_fc20_11ea_9ec7_5254009c52d5row8_col1,#T_e5740538_fc20_11ea_9ec7_5254009c52d5row9_col3{\n",
       "            background-color:  #f1ebf4;\n",
       "            color:  #000000;\n",
       "        }#T_e5740538_fc20_11ea_9ec7_5254009c52d5row1_col9,#T_e5740538_fc20_11ea_9ec7_5254009c52d5row2_col8,#T_e5740538_fc20_11ea_9ec7_5254009c52d5row2_col9,#T_e5740538_fc20_11ea_9ec7_5254009c52d5row8_col2,#T_e5740538_fc20_11ea_9ec7_5254009c52d5row9_col1,#T_e5740538_fc20_11ea_9ec7_5254009c52d5row9_col2{\n",
       "            background-color:  #f0eaf4;\n",
       "            color:  #000000;\n",
       "        }#T_e5740538_fc20_11ea_9ec7_5254009c52d5row1_col10,#T_e5740538_fc20_11ea_9ec7_5254009c52d5row4_col15,#T_e5740538_fc20_11ea_9ec7_5254009c52d5row10_col1,#T_e5740538_fc20_11ea_9ec7_5254009c52d5row15_col4{\n",
       "            background-color:  #a1bbda;\n",
       "            color:  #000000;\n",
       "        }#T_e5740538_fc20_11ea_9ec7_5254009c52d5row1_col11,#T_e5740538_fc20_11ea_9ec7_5254009c52d5row11_col1{\n",
       "            background-color:  #d1d2e6;\n",
       "            color:  #000000;\n",
       "        }#T_e5740538_fc20_11ea_9ec7_5254009c52d5row1_col12,#T_e5740538_fc20_11ea_9ec7_5254009c52d5row4_col5,#T_e5740538_fc20_11ea_9ec7_5254009c52d5row5_col4,#T_e5740538_fc20_11ea_9ec7_5254009c52d5row12_col1{\n",
       "            background-color:  #9fbad9;\n",
       "            color:  #000000;\n",
       "        }#T_e5740538_fc20_11ea_9ec7_5254009c52d5row1_col13,#T_e5740538_fc20_11ea_9ec7_5254009c52d5row2_col13,#T_e5740538_fc20_11ea_9ec7_5254009c52d5row3_col13,#T_e5740538_fc20_11ea_9ec7_5254009c52d5row13_col1,#T_e5740538_fc20_11ea_9ec7_5254009c52d5row13_col2,#T_e5740538_fc20_11ea_9ec7_5254009c52d5row13_col3{\n",
       "            background-color:  #f8f1f8;\n",
       "            color:  #000000;\n",
       "        }#T_e5740538_fc20_11ea_9ec7_5254009c52d5row1_col14,#T_e5740538_fc20_11ea_9ec7_5254009c52d5row3_col8,#T_e5740538_fc20_11ea_9ec7_5254009c52d5row8_col3,#T_e5740538_fc20_11ea_9ec7_5254009c52d5row14_col1{\n",
       "            background-color:  #f3edf5;\n",
       "            color:  #000000;\n",
       "        }#T_e5740538_fc20_11ea_9ec7_5254009c52d5row1_col15,#T_e5740538_fc20_11ea_9ec7_5254009c52d5row15_col1{\n",
       "            background-color:  #c4cbe3;\n",
       "            color:  #000000;\n",
       "        }#T_e5740538_fc20_11ea_9ec7_5254009c52d5row2_col3,#T_e5740538_fc20_11ea_9ec7_5254009c52d5row3_col2{\n",
       "            background-color:  #0569a5;\n",
       "            color:  #f1f1f1;\n",
       "        }#T_e5740538_fc20_11ea_9ec7_5254009c52d5row2_col5,#T_e5740538_fc20_11ea_9ec7_5254009c52d5row5_col2{\n",
       "            background-color:  #ece7f2;\n",
       "            color:  #000000;\n",
       "        }#T_e5740538_fc20_11ea_9ec7_5254009c52d5row2_col10,#T_e5740538_fc20_11ea_9ec7_5254009c52d5row10_col2{\n",
       "            background-color:  #a2bcda;\n",
       "            color:  #000000;\n",
       "        }#T_e5740538_fc20_11ea_9ec7_5254009c52d5row2_col11,#T_e5740538_fc20_11ea_9ec7_5254009c52d5row3_col6,#T_e5740538_fc20_11ea_9ec7_5254009c52d5row6_col3,#T_e5740538_fc20_11ea_9ec7_5254009c52d5row11_col2{\n",
       "            background-color:  #d0d1e6;\n",
       "            color:  #000000;\n",
       "        }#T_e5740538_fc20_11ea_9ec7_5254009c52d5row2_col12,#T_e5740538_fc20_11ea_9ec7_5254009c52d5row12_col2{\n",
       "            background-color:  #99b8d8;\n",
       "            color:  #000000;\n",
       "        }#T_e5740538_fc20_11ea_9ec7_5254009c52d5row2_col14,#T_e5740538_fc20_11ea_9ec7_5254009c52d5row14_col2{\n",
       "            background-color:  #ebe6f2;\n",
       "            color:  #000000;\n",
       "        }#T_e5740538_fc20_11ea_9ec7_5254009c52d5row2_col16,#T_e5740538_fc20_11ea_9ec7_5254009c52d5row16_col2{\n",
       "            background-color:  #e2dfee;\n",
       "            color:  #000000;\n",
       "        }#T_e5740538_fc20_11ea_9ec7_5254009c52d5row3_col4,#T_e5740538_fc20_11ea_9ec7_5254009c52d5row3_col10,#T_e5740538_fc20_11ea_9ec7_5254009c52d5row4_col3,#T_e5740538_fc20_11ea_9ec7_5254009c52d5row4_col13,#T_e5740538_fc20_11ea_9ec7_5254009c52d5row10_col3,#T_e5740538_fc20_11ea_9ec7_5254009c52d5row13_col4{\n",
       "            background-color:  #a9bfdc;\n",
       "            color:  #000000;\n",
       "        }#T_e5740538_fc20_11ea_9ec7_5254009c52d5row3_col7,#T_e5740538_fc20_11ea_9ec7_5254009c52d5row7_col3{\n",
       "            background-color:  #f6eff7;\n",
       "            color:  #000000;\n",
       "        }#T_e5740538_fc20_11ea_9ec7_5254009c52d5row3_col11,#T_e5740538_fc20_11ea_9ec7_5254009c52d5row11_col3{\n",
       "            background-color:  #dcdaeb;\n",
       "            color:  #000000;\n",
       "        }#T_e5740538_fc20_11ea_9ec7_5254009c52d5row3_col14,#T_e5740538_fc20_11ea_9ec7_5254009c52d5row14_col3{\n",
       "            background-color:  #fff7fb;\n",
       "            color:  #000000;\n",
       "        }#T_e5740538_fc20_11ea_9ec7_5254009c52d5row3_col15,#T_e5740538_fc20_11ea_9ec7_5254009c52d5row15_col3{\n",
       "            background-color:  #e0dded;\n",
       "            color:  #000000;\n",
       "        }#T_e5740538_fc20_11ea_9ec7_5254009c52d5row4_col6,#T_e5740538_fc20_11ea_9ec7_5254009c52d5row6_col4{\n",
       "            background-color:  #bdc8e1;\n",
       "            color:  #000000;\n",
       "        }#T_e5740538_fc20_11ea_9ec7_5254009c52d5row4_col7,#T_e5740538_fc20_11ea_9ec7_5254009c52d5row7_col4{\n",
       "            background-color:  #c1cae2;\n",
       "            color:  #000000;\n",
       "        }#T_e5740538_fc20_11ea_9ec7_5254009c52d5row4_col9,#T_e5740538_fc20_11ea_9ec7_5254009c52d5row9_col4{\n",
       "            background-color:  #b8c6e0;\n",
       "            color:  #000000;\n",
       "        }#T_e5740538_fc20_11ea_9ec7_5254009c52d5row4_col10,#T_e5740538_fc20_11ea_9ec7_5254009c52d5row10_col4{\n",
       "            background-color:  #c2cbe2;\n",
       "            color:  #000000;\n",
       "        }#T_e5740538_fc20_11ea_9ec7_5254009c52d5row4_col11,#T_e5740538_fc20_11ea_9ec7_5254009c52d5row11_col4{\n",
       "            background-color:  #d3d4e7;\n",
       "            color:  #000000;\n",
       "        }#T_e5740538_fc20_11ea_9ec7_5254009c52d5row4_col12,#T_e5740538_fc20_11ea_9ec7_5254009c52d5row12_col4{\n",
       "            background-color:  #c5cce3;\n",
       "            color:  #000000;\n",
       "        }#T_e5740538_fc20_11ea_9ec7_5254009c52d5row4_col14,#T_e5740538_fc20_11ea_9ec7_5254009c52d5row14_col4{\n",
       "            background-color:  #d5d5e8;\n",
       "            color:  #000000;\n",
       "        }#T_e5740538_fc20_11ea_9ec7_5254009c52d5row4_col16,#T_e5740538_fc20_11ea_9ec7_5254009c52d5row16_col4{\n",
       "            background-color:  #b0c2de;\n",
       "            color:  #000000;\n",
       "        }#T_e5740538_fc20_11ea_9ec7_5254009c52d5row5_col6,#T_e5740538_fc20_11ea_9ec7_5254009c52d5row5_col7,#T_e5740538_fc20_11ea_9ec7_5254009c52d5row6_col5,#T_e5740538_fc20_11ea_9ec7_5254009c52d5row7_col5{\n",
       "            background-color:  #04649e;\n",
       "            color:  #f1f1f1;\n",
       "        }#T_e5740538_fc20_11ea_9ec7_5254009c52d5row5_col8,#T_e5740538_fc20_11ea_9ec7_5254009c52d5row8_col5{\n",
       "            background-color:  #056ead;\n",
       "            color:  #f1f1f1;\n",
       "        }#T_e5740538_fc20_11ea_9ec7_5254009c52d5row5_col9,#T_e5740538_fc20_11ea_9ec7_5254009c52d5row7_col10,#T_e5740538_fc20_11ea_9ec7_5254009c52d5row9_col5,#T_e5740538_fc20_11ea_9ec7_5254009c52d5row10_col7,#T_e5740538_fc20_11ea_9ec7_5254009c52d5row13_col15,#T_e5740538_fc20_11ea_9ec7_5254009c52d5row15_col13{\n",
       "            background-color:  #2081b9;\n",
       "            color:  #000000;\n",
       "        }#T_e5740538_fc20_11ea_9ec7_5254009c52d5row5_col10,#T_e5740538_fc20_11ea_9ec7_5254009c52d5row6_col9,#T_e5740538_fc20_11ea_9ec7_5254009c52d5row9_col6,#T_e5740538_fc20_11ea_9ec7_5254009c52d5row10_col5{\n",
       "            background-color:  #197db7;\n",
       "            color:  #000000;\n",
       "        }#T_e5740538_fc20_11ea_9ec7_5254009c52d5row5_col11,#T_e5740538_fc20_11ea_9ec7_5254009c52d5row9_col12,#T_e5740538_fc20_11ea_9ec7_5254009c52d5row11_col5,#T_e5740538_fc20_11ea_9ec7_5254009c52d5row12_col9{\n",
       "            background-color:  #2383ba;\n",
       "            color:  #000000;\n",
       "        }#T_e5740538_fc20_11ea_9ec7_5254009c52d5row5_col12,#T_e5740538_fc20_11ea_9ec7_5254009c52d5row6_col12,#T_e5740538_fc20_11ea_9ec7_5254009c52d5row12_col5,#T_e5740538_fc20_11ea_9ec7_5254009c52d5row12_col6,#T_e5740538_fc20_11ea_9ec7_5254009c52d5row12_col15,#T_e5740538_fc20_11ea_9ec7_5254009c52d5row15_col12{\n",
       "            background-color:  #2f8bbe;\n",
       "            color:  #000000;\n",
       "        }#T_e5740538_fc20_11ea_9ec7_5254009c52d5row5_col13,#T_e5740538_fc20_11ea_9ec7_5254009c52d5row13_col5{\n",
       "            background-color:  #0567a2;\n",
       "            color:  #f1f1f1;\n",
       "        }#T_e5740538_fc20_11ea_9ec7_5254009c52d5row5_col14,#T_e5740538_fc20_11ea_9ec7_5254009c52d5row14_col5{\n",
       "            background-color:  #4496c3;\n",
       "            color:  #000000;\n",
       "        }#T_e5740538_fc20_11ea_9ec7_5254009c52d5row5_col15,#T_e5740538_fc20_11ea_9ec7_5254009c52d5row15_col5{\n",
       "            background-color:  #73a9cf;\n",
       "            color:  #000000;\n",
       "        }#T_e5740538_fc20_11ea_9ec7_5254009c52d5row5_col16,#T_e5740538_fc20_11ea_9ec7_5254009c52d5row16_col5{\n",
       "            background-color:  #045a8d;\n",
       "            color:  #f1f1f1;\n",
       "        }#T_e5740538_fc20_11ea_9ec7_5254009c52d5row6_col7,#T_e5740538_fc20_11ea_9ec7_5254009c52d5row7_col6{\n",
       "            background-color:  #0567a1;\n",
       "            color:  #f1f1f1;\n",
       "        }#T_e5740538_fc20_11ea_9ec7_5254009c52d5row6_col8,#T_e5740538_fc20_11ea_9ec7_5254009c52d5row8_col6{\n",
       "            background-color:  #046299;\n",
       "            color:  #f1f1f1;\n",
       "        }#T_e5740538_fc20_11ea_9ec7_5254009c52d5row6_col10,#T_e5740538_fc20_11ea_9ec7_5254009c52d5row10_col6{\n",
       "            background-color:  #056ba9;\n",
       "            color:  #f1f1f1;\n",
       "        }#T_e5740538_fc20_11ea_9ec7_5254009c52d5row6_col11,#T_e5740538_fc20_11ea_9ec7_5254009c52d5row8_col10,#T_e5740538_fc20_11ea_9ec7_5254009c52d5row10_col8,#T_e5740538_fc20_11ea_9ec7_5254009c52d5row11_col6{\n",
       "            background-color:  #056fae;\n",
       "            color:  #f1f1f1;\n",
       "        }#T_e5740538_fc20_11ea_9ec7_5254009c52d5row6_col13,#T_e5740538_fc20_11ea_9ec7_5254009c52d5row13_col6{\n",
       "            background-color:  #046097;\n",
       "            color:  #f1f1f1;\n",
       "        }#T_e5740538_fc20_11ea_9ec7_5254009c52d5row6_col14,#T_e5740538_fc20_11ea_9ec7_5254009c52d5row14_col6{\n",
       "            background-color:  #3991c1;\n",
       "            color:  #000000;\n",
       "        }#T_e5740538_fc20_11ea_9ec7_5254009c52d5row6_col15,#T_e5740538_fc20_11ea_9ec7_5254009c52d5row15_col6{\n",
       "            background-color:  #6da6cd;\n",
       "            color:  #000000;\n",
       "        }#T_e5740538_fc20_11ea_9ec7_5254009c52d5row6_col16,#T_e5740538_fc20_11ea_9ec7_5254009c52d5row8_col16,#T_e5740538_fc20_11ea_9ec7_5254009c52d5row16_col6,#T_e5740538_fc20_11ea_9ec7_5254009c52d5row16_col8{\n",
       "            background-color:  #045280;\n",
       "            color:  #f1f1f1;\n",
       "        }#T_e5740538_fc20_11ea_9ec7_5254009c52d5row7_col8,#T_e5740538_fc20_11ea_9ec7_5254009c52d5row8_col7{\n",
       "            background-color:  #045c90;\n",
       "            color:  #f1f1f1;\n",
       "        }#T_e5740538_fc20_11ea_9ec7_5254009c52d5row7_col9,#T_e5740538_fc20_11ea_9ec7_5254009c52d5row9_col7{\n",
       "            background-color:  #308cbe;\n",
       "            color:  #000000;\n",
       "        }#T_e5740538_fc20_11ea_9ec7_5254009c52d5row7_col11,#T_e5740538_fc20_11ea_9ec7_5254009c52d5row11_col7{\n",
       "            background-color:  #056faf;\n",
       "            color:  #f1f1f1;\n",
       "        }#T_e5740538_fc20_11ea_9ec7_5254009c52d5row7_col12,#T_e5740538_fc20_11ea_9ec7_5254009c52d5row12_col7{\n",
       "            background-color:  #1b7eb7;\n",
       "            color:  #000000;\n",
       "        }#T_e5740538_fc20_11ea_9ec7_5254009c52d5row7_col13,#T_e5740538_fc20_11ea_9ec7_5254009c52d5row13_col7{\n",
       "            background-color:  #034f7d;\n",
       "            color:  #f1f1f1;\n",
       "        }#T_e5740538_fc20_11ea_9ec7_5254009c52d5row7_col14,#T_e5740538_fc20_11ea_9ec7_5254009c52d5row9_col10,#T_e5740538_fc20_11ea_9ec7_5254009c52d5row10_col9,#T_e5740538_fc20_11ea_9ec7_5254009c52d5row14_col7{\n",
       "            background-color:  #1077b4;\n",
       "            color:  #f1f1f1;\n",
       "        }#T_e5740538_fc20_11ea_9ec7_5254009c52d5row7_col15,#T_e5740538_fc20_11ea_9ec7_5254009c52d5row11_col13,#T_e5740538_fc20_11ea_9ec7_5254009c52d5row13_col11,#T_e5740538_fc20_11ea_9ec7_5254009c52d5row15_col7{\n",
       "            background-color:  #157ab5;\n",
       "            color:  #000000;\n",
       "        }#T_e5740538_fc20_11ea_9ec7_5254009c52d5row7_col16,#T_e5740538_fc20_11ea_9ec7_5254009c52d5row16_col7{\n",
       "            background-color:  #045788;\n",
       "            color:  #f1f1f1;\n",
       "        }#T_e5740538_fc20_11ea_9ec7_5254009c52d5row8_col9,#T_e5740538_fc20_11ea_9ec7_5254009c52d5row9_col8{\n",
       "            background-color:  #056ba7;\n",
       "            color:  #f1f1f1;\n",
       "        }#T_e5740538_fc20_11ea_9ec7_5254009c52d5row8_col11,#T_e5740538_fc20_11ea_9ec7_5254009c52d5row9_col16,#T_e5740538_fc20_11ea_9ec7_5254009c52d5row11_col8,#T_e5740538_fc20_11ea_9ec7_5254009c52d5row16_col9{\n",
       "            background-color:  #04639b;\n",
       "            color:  #f1f1f1;\n",
       "        }#T_e5740538_fc20_11ea_9ec7_5254009c52d5row8_col12,#T_e5740538_fc20_11ea_9ec7_5254009c52d5row10_col12,#T_e5740538_fc20_11ea_9ec7_5254009c52d5row12_col8,#T_e5740538_fc20_11ea_9ec7_5254009c52d5row12_col10,#T_e5740538_fc20_11ea_9ec7_5254009c52d5row13_col14,#T_e5740538_fc20_11ea_9ec7_5254009c52d5row14_col13{\n",
       "            background-color:  #0f76b3;\n",
       "            color:  #f1f1f1;\n",
       "        }#T_e5740538_fc20_11ea_9ec7_5254009c52d5row8_col13,#T_e5740538_fc20_11ea_9ec7_5254009c52d5row13_col8{\n",
       "            background-color:  #045b8e;\n",
       "            color:  #f1f1f1;\n",
       "        }#T_e5740538_fc20_11ea_9ec7_5254009c52d5row8_col14,#T_e5740538_fc20_11ea_9ec7_5254009c52d5row14_col8{\n",
       "            background-color:  #0872b1;\n",
       "            color:  #f1f1f1;\n",
       "        }#T_e5740538_fc20_11ea_9ec7_5254009c52d5row8_col15,#T_e5740538_fc20_11ea_9ec7_5254009c52d5row15_col8{\n",
       "            background-color:  #509ac6;\n",
       "            color:  #000000;\n",
       "        }#T_e5740538_fc20_11ea_9ec7_5254009c52d5row9_col11,#T_e5740538_fc20_11ea_9ec7_5254009c52d5row11_col9{\n",
       "            background-color:  #056dab;\n",
       "            color:  #f1f1f1;\n",
       "        }#T_e5740538_fc20_11ea_9ec7_5254009c52d5row9_col13,#T_e5740538_fc20_11ea_9ec7_5254009c52d5row13_col9{\n",
       "            background-color:  #2786bb;\n",
       "            color:  #000000;\n",
       "        }#T_e5740538_fc20_11ea_9ec7_5254009c52d5row9_col14,#T_e5740538_fc20_11ea_9ec7_5254009c52d5row14_col9{\n",
       "            background-color:  #63a2cb;\n",
       "            color:  #000000;\n",
       "        }#T_e5740538_fc20_11ea_9ec7_5254009c52d5row9_col15,#T_e5740538_fc20_11ea_9ec7_5254009c52d5row15_col9{\n",
       "            background-color:  #96b6d7;\n",
       "            color:  #000000;\n",
       "        }#T_e5740538_fc20_11ea_9ec7_5254009c52d5row10_col11,#T_e5740538_fc20_11ea_9ec7_5254009c52d5row11_col10,#T_e5740538_fc20_11ea_9ec7_5254009c52d5row11_col16,#T_e5740538_fc20_11ea_9ec7_5254009c52d5row16_col11{\n",
       "            background-color:  #046096;\n",
       "            color:  #f1f1f1;\n",
       "        }#T_e5740538_fc20_11ea_9ec7_5254009c52d5row10_col13,#T_e5740538_fc20_11ea_9ec7_5254009c52d5row13_col10{\n",
       "            background-color:  #2a88bc;\n",
       "            color:  #000000;\n",
       "        }#T_e5740538_fc20_11ea_9ec7_5254009c52d5row10_col14,#T_e5740538_fc20_11ea_9ec7_5254009c52d5row14_col10{\n",
       "            background-color:  #60a1ca;\n",
       "            color:  #000000;\n",
       "        }#T_e5740538_fc20_11ea_9ec7_5254009c52d5row10_col15,#T_e5740538_fc20_11ea_9ec7_5254009c52d5row15_col10{\n",
       "            background-color:  #4a98c5;\n",
       "            color:  #000000;\n",
       "        }#T_e5740538_fc20_11ea_9ec7_5254009c52d5row10_col16,#T_e5740538_fc20_11ea_9ec7_5254009c52d5row16_col10{\n",
       "            background-color:  #045e94;\n",
       "            color:  #f1f1f1;\n",
       "        }#T_e5740538_fc20_11ea_9ec7_5254009c52d5row11_col12,#T_e5740538_fc20_11ea_9ec7_5254009c52d5row12_col11{\n",
       "            background-color:  #187cb6;\n",
       "            color:  #000000;\n",
       "        }#T_e5740538_fc20_11ea_9ec7_5254009c52d5row11_col14,#T_e5740538_fc20_11ea_9ec7_5254009c52d5row12_col14,#T_e5740538_fc20_11ea_9ec7_5254009c52d5row14_col11,#T_e5740538_fc20_11ea_9ec7_5254009c52d5row14_col12,#T_e5740538_fc20_11ea_9ec7_5254009c52d5row14_col16,#T_e5740538_fc20_11ea_9ec7_5254009c52d5row16_col14{\n",
       "            background-color:  #3b92c1;\n",
       "            color:  #000000;\n",
       "        }#T_e5740538_fc20_11ea_9ec7_5254009c52d5row11_col15,#T_e5740538_fc20_11ea_9ec7_5254009c52d5row15_col11{\n",
       "            background-color:  #529bc7;\n",
       "            color:  #000000;\n",
       "        }#T_e5740538_fc20_11ea_9ec7_5254009c52d5row12_col13,#T_e5740538_fc20_11ea_9ec7_5254009c52d5row13_col12{\n",
       "            background-color:  #2685bb;\n",
       "            color:  #000000;\n",
       "        }#T_e5740538_fc20_11ea_9ec7_5254009c52d5row12_col16,#T_e5740538_fc20_11ea_9ec7_5254009c52d5row16_col12{\n",
       "            background-color:  #0569a4;\n",
       "            color:  #f1f1f1;\n",
       "        }#T_e5740538_fc20_11ea_9ec7_5254009c52d5row13_col16,#T_e5740538_fc20_11ea_9ec7_5254009c52d5row16_col13{\n",
       "            background-color:  #045687;\n",
       "            color:  #f1f1f1;\n",
       "        }#T_e5740538_fc20_11ea_9ec7_5254009c52d5row14_col15,#T_e5740538_fc20_11ea_9ec7_5254009c52d5row15_col14{\n",
       "            background-color:  #4e9ac6;\n",
       "            color:  #000000;\n",
       "        }#T_e5740538_fc20_11ea_9ec7_5254009c52d5row15_col16,#T_e5740538_fc20_11ea_9ec7_5254009c52d5row16_col15{\n",
       "            background-color:  #348ebf;\n",
       "            color:  #000000;\n",
       "        }</style><table id=\"T_e5740538_fc20_11ea_9ec7_5254009c52d5\" ><thead>    <tr>        <th class=\"blank level0\" ></th>        <th class=\"col_heading level0 col0\" >Rt</th>        <th class=\"col_heading level0 col1\" >theta</th>        <th class=\"col_heading level0 col2\" >kappa</th>        <th class=\"col_heading level0 col3\" >rho</th>        <th class=\"col_heading level0 col4\" >sigma</th>        <th class=\"col_heading level0 col5\" >School_closing</th>        <th class=\"col_heading level0 col6\" >Workplace_closing</th>        <th class=\"col_heading level0 col7\" >Cancel_events</th>        <th class=\"col_heading level0 col8\" >Gatherings_restrictions</th>        <th class=\"col_heading level0 col9\" >Transport_closing</th>        <th class=\"col_heading level0 col10\" >Stay_home_restrictions</th>        <th class=\"col_heading level0 col11\" >Internal_movement_restrictions</th>        <th class=\"col_heading level0 col12\" >International_movement_restrictions</th>        <th class=\"col_heading level0 col13\" >Information_campaigns</th>        <th class=\"col_heading level0 col14\" >Testing_policy</th>        <th class=\"col_heading level0 col15\" >Contact_tracing</th>        <th class=\"col_heading level0 col16\" >Stringency_index</th>    </tr></thead><tbody>\n",
       "                <tr>\n",
       "                        <th id=\"T_e5740538_fc20_11ea_9ec7_5254009c52d5level0_row0\" class=\"row_heading level0 row0\" >Rt</th>\n",
       "                        <td id=\"T_e5740538_fc20_11ea_9ec7_5254009c52d5row0_col0\" class=\"data row0 col0\" >1.000000</td>\n",
       "                        <td id=\"T_e5740538_fc20_11ea_9ec7_5254009c52d5row0_col1\" class=\"data row0 col1\" >-0.187141</td>\n",
       "                        <td id=\"T_e5740538_fc20_11ea_9ec7_5254009c52d5row0_col2\" class=\"data row0 col2\" >-0.201923</td>\n",
       "                        <td id=\"T_e5740538_fc20_11ea_9ec7_5254009c52d5row0_col3\" class=\"data row0 col3\" >0.210792</td>\n",
       "                        <td id=\"T_e5740538_fc20_11ea_9ec7_5254009c52d5row0_col4\" class=\"data row0 col4\" >-0.187544</td>\n",
       "                        <td id=\"T_e5740538_fc20_11ea_9ec7_5254009c52d5row0_col5\" class=\"data row0 col5\" >-0.055105</td>\n",
       "                        <td id=\"T_e5740538_fc20_11ea_9ec7_5254009c52d5row0_col6\" class=\"data row0 col6\" >0.007929</td>\n",
       "                        <td id=\"T_e5740538_fc20_11ea_9ec7_5254009c52d5row0_col7\" class=\"data row0 col7\" >-0.105940</td>\n",
       "                        <td id=\"T_e5740538_fc20_11ea_9ec7_5254009c52d5row0_col8\" class=\"data row0 col8\" >-0.073938</td>\n",
       "                        <td id=\"T_e5740538_fc20_11ea_9ec7_5254009c52d5row0_col9\" class=\"data row0 col9\" >-0.112681</td>\n",
       "                        <td id=\"T_e5740538_fc20_11ea_9ec7_5254009c52d5row0_col10\" class=\"data row0 col10\" >-0.144483</td>\n",
       "                        <td id=\"T_e5740538_fc20_11ea_9ec7_5254009c52d5row0_col11\" class=\"data row0 col11\" >-0.154857</td>\n",
       "                        <td id=\"T_e5740538_fc20_11ea_9ec7_5254009c52d5row0_col12\" class=\"data row0 col12\" >-0.144288</td>\n",
       "                        <td id=\"T_e5740538_fc20_11ea_9ec7_5254009c52d5row0_col13\" class=\"data row0 col13\" >-0.053776</td>\n",
       "                        <td id=\"T_e5740538_fc20_11ea_9ec7_5254009c52d5row0_col14\" class=\"data row0 col14\" >-0.148766</td>\n",
       "                        <td id=\"T_e5740538_fc20_11ea_9ec7_5254009c52d5row0_col15\" class=\"data row0 col15\" >-0.224735</td>\n",
       "                        <td id=\"T_e5740538_fc20_11ea_9ec7_5254009c52d5row0_col16\" class=\"data row0 col16\" >-0.088259</td>\n",
       "            </tr>\n",
       "            <tr>\n",
       "                        <th id=\"T_e5740538_fc20_11ea_9ec7_5254009c52d5level0_row1\" class=\"row_heading level0 row1\" >theta</th>\n",
       "                        <td id=\"T_e5740538_fc20_11ea_9ec7_5254009c52d5row1_col0\" class=\"data row1 col0\" >-0.187141</td>\n",
       "                        <td id=\"T_e5740538_fc20_11ea_9ec7_5254009c52d5row1_col1\" class=\"data row1 col1\" >1.000000</td>\n",
       "                        <td id=\"T_e5740538_fc20_11ea_9ec7_5254009c52d5row1_col2\" class=\"data row1 col2\" >0.979059</td>\n",
       "                        <td id=\"T_e5740538_fc20_11ea_9ec7_5254009c52d5row1_col3\" class=\"data row1 col3\" >0.725527</td>\n",
       "                        <td id=\"T_e5740538_fc20_11ea_9ec7_5254009c52d5row1_col4\" class=\"data row1 col4\" >-0.078086</td>\n",
       "                        <td id=\"T_e5740538_fc20_11ea_9ec7_5254009c52d5row1_col5\" class=\"data row1 col5\" >-0.219948</td>\n",
       "                        <td id=\"T_e5740538_fc20_11ea_9ec7_5254009c52d5row1_col6\" class=\"data row1 col6\" >-0.118009</td>\n",
       "                        <td id=\"T_e5740538_fc20_11ea_9ec7_5254009c52d5row1_col7\" class=\"data row1 col7\" >-0.286714</td>\n",
       "                        <td id=\"T_e5740538_fc20_11ea_9ec7_5254009c52d5row1_col8\" class=\"data row1 col8\" >-0.286267</td>\n",
       "                        <td id=\"T_e5740538_fc20_11ea_9ec7_5254009c52d5row1_col9\" class=\"data row1 col9\" >-0.271844</td>\n",
       "                        <td id=\"T_e5740538_fc20_11ea_9ec7_5254009c52d5row1_col10\" class=\"data row1 col10\" >0.132837</td>\n",
       "                        <td id=\"T_e5740538_fc20_11ea_9ec7_5254009c52d5row1_col11\" class=\"data row1 col11\" >-0.070799</td>\n",
       "                        <td id=\"T_e5740538_fc20_11ea_9ec7_5254009c52d5row1_col12\" class=\"data row1 col12\" >0.135730</td>\n",
       "                        <td id=\"T_e5740538_fc20_11ea_9ec7_5254009c52d5row1_col13\" class=\"data row1 col13\" >-0.353241</td>\n",
       "                        <td id=\"T_e5740538_fc20_11ea_9ec7_5254009c52d5row1_col14\" class=\"data row1 col14\" >-0.304943</td>\n",
       "                        <td id=\"T_e5740538_fc20_11ea_9ec7_5254009c52d5row1_col15\" class=\"data row1 col15\" >-0.013176</td>\n",
       "                        <td id=\"T_e5740538_fc20_11ea_9ec7_5254009c52d5row1_col16\" class=\"data row1 col16\" >-0.155724</td>\n",
       "            </tr>\n",
       "            <tr>\n",
       "                        <th id=\"T_e5740538_fc20_11ea_9ec7_5254009c52d5level0_row2\" class=\"row_heading level0 row2\" >kappa</th>\n",
       "                        <td id=\"T_e5740538_fc20_11ea_9ec7_5254009c52d5row2_col0\" class=\"data row2 col0\" >-0.201923</td>\n",
       "                        <td id=\"T_e5740538_fc20_11ea_9ec7_5254009c52d5row2_col1\" class=\"data row2 col1\" >0.979059</td>\n",
       "                        <td id=\"T_e5740538_fc20_11ea_9ec7_5254009c52d5row2_col2\" class=\"data row2 col2\" >1.000000</td>\n",
       "                        <td id=\"T_e5740538_fc20_11ea_9ec7_5254009c52d5row2_col3\" class=\"data row2 col3\" >0.699420</td>\n",
       "                        <td id=\"T_e5740538_fc20_11ea_9ec7_5254009c52d5row2_col4\" class=\"data row2 col4\" >-0.106903</td>\n",
       "                        <td id=\"T_e5740538_fc20_11ea_9ec7_5254009c52d5row2_col5\" class=\"data row2 col5\" >-0.240239</td>\n",
       "                        <td id=\"T_e5740538_fc20_11ea_9ec7_5254009c52d5row2_col6\" class=\"data row2 col6\" >-0.147468</td>\n",
       "                        <td id=\"T_e5740538_fc20_11ea_9ec7_5254009c52d5row2_col7\" class=\"data row2 col7\" >-0.285684</td>\n",
       "                        <td id=\"T_e5740538_fc20_11ea_9ec7_5254009c52d5row2_col8\" class=\"data row2 col8\" >-0.274505</td>\n",
       "                        <td id=\"T_e5740538_fc20_11ea_9ec7_5254009c52d5row2_col9\" class=\"data row2 col9\" >-0.276521</td>\n",
       "                        <td id=\"T_e5740538_fc20_11ea_9ec7_5254009c52d5row2_col10\" class=\"data row2 col10\" >0.123421</td>\n",
       "                        <td id=\"T_e5740538_fc20_11ea_9ec7_5254009c52d5row2_col11\" class=\"data row2 col11\" >-0.060623</td>\n",
       "                        <td id=\"T_e5740538_fc20_11ea_9ec7_5254009c52d5row2_col12\" class=\"data row2 col12\" >0.157114</td>\n",
       "                        <td id=\"T_e5740538_fc20_11ea_9ec7_5254009c52d5row2_col13\" class=\"data row2 col13\" >-0.350104</td>\n",
       "                        <td id=\"T_e5740538_fc20_11ea_9ec7_5254009c52d5row2_col14\" class=\"data row2 col14\" >-0.234764</td>\n",
       "                        <td id=\"T_e5740538_fc20_11ea_9ec7_5254009c52d5row2_col15\" class=\"data row2 col15\" >0.010638</td>\n",
       "                        <td id=\"T_e5740538_fc20_11ea_9ec7_5254009c52d5row2_col16\" class=\"data row2 col16\" >-0.177864</td>\n",
       "            </tr>\n",
       "            <tr>\n",
       "                        <th id=\"T_e5740538_fc20_11ea_9ec7_5254009c52d5level0_row3\" class=\"row_heading level0 row3\" >rho</th>\n",
       "                        <td id=\"T_e5740538_fc20_11ea_9ec7_5254009c52d5row3_col0\" class=\"data row3 col0\" >0.210792</td>\n",
       "                        <td id=\"T_e5740538_fc20_11ea_9ec7_5254009c52d5row3_col1\" class=\"data row3 col1\" >0.725527</td>\n",
       "                        <td id=\"T_e5740538_fc20_11ea_9ec7_5254009c52d5row3_col2\" class=\"data row3 col2\" >0.699420</td>\n",
       "                        <td id=\"T_e5740538_fc20_11ea_9ec7_5254009c52d5row3_col3\" class=\"data row3 col3\" >1.000000</td>\n",
       "                        <td id=\"T_e5740538_fc20_11ea_9ec7_5254009c52d5row3_col4\" class=\"data row3 col4\" >0.096773</td>\n",
       "                        <td id=\"T_e5740538_fc20_11ea_9ec7_5254009c52d5row3_col5\" class=\"data row3 col5\" >-0.147631</td>\n",
       "                        <td id=\"T_e5740538_fc20_11ea_9ec7_5254009c52d5row3_col6\" class=\"data row3 col6\" >-0.064855</td>\n",
       "                        <td id=\"T_e5740538_fc20_11ea_9ec7_5254009c52d5row3_col7\" class=\"data row3 col7\" >-0.336002</td>\n",
       "                        <td id=\"T_e5740538_fc20_11ea_9ec7_5254009c52d5row3_col8\" class=\"data row3 col8\" >-0.306044</td>\n",
       "                        <td id=\"T_e5740538_fc20_11ea_9ec7_5254009c52d5row3_col9\" class=\"data row3 col9\" >-0.282585</td>\n",
       "                        <td id=\"T_e5740538_fc20_11ea_9ec7_5254009c52d5row3_col10\" class=\"data row3 col10\" >0.096012</td>\n",
       "                        <td id=\"T_e5740538_fc20_11ea_9ec7_5254009c52d5row3_col11\" class=\"data row3 col11\" >-0.142508</td>\n",
       "                        <td id=\"T_e5740538_fc20_11ea_9ec7_5254009c52d5row3_col12\" class=\"data row3 col12\" >0.007819</td>\n",
       "                        <td id=\"T_e5740538_fc20_11ea_9ec7_5254009c52d5row3_col13\" class=\"data row3 col13\" >-0.358964</td>\n",
       "                        <td id=\"T_e5740538_fc20_11ea_9ec7_5254009c52d5row3_col14\" class=\"data row3 col14\" >-0.420651</td>\n",
       "                        <td id=\"T_e5740538_fc20_11ea_9ec7_5254009c52d5row3_col15\" class=\"data row3 col15\" >-0.163996</td>\n",
       "                        <td id=\"T_e5740538_fc20_11ea_9ec7_5254009c52d5row3_col16\" class=\"data row3 col16\" >-0.147708</td>\n",
       "            </tr>\n",
       "            <tr>\n",
       "                        <th id=\"T_e5740538_fc20_11ea_9ec7_5254009c52d5level0_row4\" class=\"row_heading level0 row4\" >sigma</th>\n",
       "                        <td id=\"T_e5740538_fc20_11ea_9ec7_5254009c52d5row4_col0\" class=\"data row4 col0\" >-0.187544</td>\n",
       "                        <td id=\"T_e5740538_fc20_11ea_9ec7_5254009c52d5row4_col1\" class=\"data row4 col1\" >-0.078086</td>\n",
       "                        <td id=\"T_e5740538_fc20_11ea_9ec7_5254009c52d5row4_col2\" class=\"data row4 col2\" >-0.106903</td>\n",
       "                        <td id=\"T_e5740538_fc20_11ea_9ec7_5254009c52d5row4_col3\" class=\"data row4 col3\" >0.096773</td>\n",
       "                        <td id=\"T_e5740538_fc20_11ea_9ec7_5254009c52d5row4_col4\" class=\"data row4 col4\" >1.000000</td>\n",
       "                        <td id=\"T_e5740538_fc20_11ea_9ec7_5254009c52d5row4_col5\" class=\"data row4 col5\" >0.139481</td>\n",
       "                        <td id=\"T_e5740538_fc20_11ea_9ec7_5254009c52d5row4_col6\" class=\"data row4 col6\" >0.015445</td>\n",
       "                        <td id=\"T_e5740538_fc20_11ea_9ec7_5254009c52d5row4_col7\" class=\"data row4 col7\" >-0.001117</td>\n",
       "                        <td id=\"T_e5740538_fc20_11ea_9ec7_5254009c52d5row4_col8\" class=\"data row4 col8\" >-0.117578</td>\n",
       "                        <td id=\"T_e5740538_fc20_11ea_9ec7_5254009c52d5row4_col9\" class=\"data row4 col9\" >0.038784</td>\n",
       "                        <td id=\"T_e5740538_fc20_11ea_9ec7_5254009c52d5row4_col10\" class=\"data row4 col10\" >-0.009210</td>\n",
       "                        <td id=\"T_e5740538_fc20_11ea_9ec7_5254009c52d5row4_col11\" class=\"data row4 col11\" >-0.083437</td>\n",
       "                        <td id=\"T_e5740538_fc20_11ea_9ec7_5254009c52d5row4_col12\" class=\"data row4 col12\" >-0.020804</td>\n",
       "                        <td id=\"T_e5740538_fc20_11ea_9ec7_5254009c52d5row4_col13\" class=\"data row4 col13\" >0.095716</td>\n",
       "                        <td id=\"T_e5740538_fc20_11ea_9ec7_5254009c52d5row4_col14\" class=\"data row4 col14\" >-0.095486</td>\n",
       "                        <td id=\"T_e5740538_fc20_11ea_9ec7_5254009c52d5row4_col15\" class=\"data row4 col15\" >0.132531</td>\n",
       "                        <td id=\"T_e5740538_fc20_11ea_9ec7_5254009c52d5row4_col16\" class=\"data row4 col16\" >0.072186</td>\n",
       "            </tr>\n",
       "            <tr>\n",
       "                        <th id=\"T_e5740538_fc20_11ea_9ec7_5254009c52d5level0_row5\" class=\"row_heading level0 row5\" >School_closing</th>\n",
       "                        <td id=\"T_e5740538_fc20_11ea_9ec7_5254009c52d5row5_col0\" class=\"data row5 col0\" >-0.055105</td>\n",
       "                        <td id=\"T_e5740538_fc20_11ea_9ec7_5254009c52d5row5_col1\" class=\"data row5 col1\" >-0.219948</td>\n",
       "                        <td id=\"T_e5740538_fc20_11ea_9ec7_5254009c52d5row5_col2\" class=\"data row5 col2\" >-0.240239</td>\n",
       "                        <td id=\"T_e5740538_fc20_11ea_9ec7_5254009c52d5row5_col3\" class=\"data row5 col3\" >-0.147631</td>\n",
       "                        <td id=\"T_e5740538_fc20_11ea_9ec7_5254009c52d5row5_col4\" class=\"data row5 col4\" >0.139481</td>\n",
       "                        <td id=\"T_e5740538_fc20_11ea_9ec7_5254009c52d5row5_col5\" class=\"data row5 col5\" >1.000000</td>\n",
       "                        <td id=\"T_e5740538_fc20_11ea_9ec7_5254009c52d5row5_col6\" class=\"data row5 col6\" >0.738557</td>\n",
       "                        <td id=\"T_e5740538_fc20_11ea_9ec7_5254009c52d5row5_col7\" class=\"data row5 col7\" >0.735698</td>\n",
       "                        <td id=\"T_e5740538_fc20_11ea_9ec7_5254009c52d5row5_col8\" class=\"data row5 col8\" >0.660390</td>\n",
       "                        <td id=\"T_e5740538_fc20_11ea_9ec7_5254009c52d5row5_col9\" class=\"data row5 col9\" >0.547463</td>\n",
       "                        <td id=\"T_e5740538_fc20_11ea_9ec7_5254009c52d5row5_col10\" class=\"data row5 col10\" >0.571535</td>\n",
       "                        <td id=\"T_e5740538_fc20_11ea_9ec7_5254009c52d5row5_col11\" class=\"data row5 col11\" >0.537261</td>\n",
       "                        <td id=\"T_e5740538_fc20_11ea_9ec7_5254009c52d5row5_col12\" class=\"data row5 col12\" >0.491307</td>\n",
       "                        <td id=\"T_e5740538_fc20_11ea_9ec7_5254009c52d5row5_col13\" class=\"data row5 col13\" >0.711749</td>\n",
       "                        <td id=\"T_e5740538_fc20_11ea_9ec7_5254009c52d5row5_col14\" class=\"data row5 col14\" >0.424368</td>\n",
       "                        <td id=\"T_e5740538_fc20_11ea_9ec7_5254009c52d5row5_col15\" class=\"data row5 col15\" >0.295211</td>\n",
       "                        <td id=\"T_e5740538_fc20_11ea_9ec7_5254009c52d5row5_col16\" class=\"data row5 col16\" >0.818038</td>\n",
       "            </tr>\n",
       "            <tr>\n",
       "                        <th id=\"T_e5740538_fc20_11ea_9ec7_5254009c52d5level0_row6\" class=\"row_heading level0 row6\" >Workplace_closing</th>\n",
       "                        <td id=\"T_e5740538_fc20_11ea_9ec7_5254009c52d5row6_col0\" class=\"data row6 col0\" >0.007929</td>\n",
       "                        <td id=\"T_e5740538_fc20_11ea_9ec7_5254009c52d5row6_col1\" class=\"data row6 col1\" >-0.118009</td>\n",
       "                        <td id=\"T_e5740538_fc20_11ea_9ec7_5254009c52d5row6_col2\" class=\"data row6 col2\" >-0.147468</td>\n",
       "                        <td id=\"T_e5740538_fc20_11ea_9ec7_5254009c52d5row6_col3\" class=\"data row6 col3\" >-0.064855</td>\n",
       "                        <td id=\"T_e5740538_fc20_11ea_9ec7_5254009c52d5row6_col4\" class=\"data row6 col4\" >0.015445</td>\n",
       "                        <td id=\"T_e5740538_fc20_11ea_9ec7_5254009c52d5row6_col5\" class=\"data row6 col5\" >0.738557</td>\n",
       "                        <td id=\"T_e5740538_fc20_11ea_9ec7_5254009c52d5row6_col6\" class=\"data row6 col6\" >1.000000</td>\n",
       "                        <td id=\"T_e5740538_fc20_11ea_9ec7_5254009c52d5row6_col7\" class=\"data row6 col7\" >0.717981</td>\n",
       "                        <td id=\"T_e5740538_fc20_11ea_9ec7_5254009c52d5row6_col8\" class=\"data row6 col8\" >0.760864</td>\n",
       "                        <td id=\"T_e5740538_fc20_11ea_9ec7_5254009c52d5row6_col9\" class=\"data row6 col9\" >0.569845</td>\n",
       "                        <td id=\"T_e5740538_fc20_11ea_9ec7_5254009c52d5row6_col10\" class=\"data row6 col10\" >0.680360</td>\n",
       "                        <td id=\"T_e5740538_fc20_11ea_9ec7_5254009c52d5row6_col11\" class=\"data row6 col11\" >0.655489</td>\n",
       "                        <td id=\"T_e5740538_fc20_11ea_9ec7_5254009c52d5row6_col12\" class=\"data row6 col12\" >0.489770</td>\n",
       "                        <td id=\"T_e5740538_fc20_11ea_9ec7_5254009c52d5row6_col13\" class=\"data row6 col13\" >0.768314</td>\n",
       "                        <td id=\"T_e5740538_fc20_11ea_9ec7_5254009c52d5row6_col14\" class=\"data row6 col14\" >0.456383</td>\n",
       "                        <td id=\"T_e5740538_fc20_11ea_9ec7_5254009c52d5row6_col15\" class=\"data row6 col15\" >0.307194</td>\n",
       "                        <td id=\"T_e5740538_fc20_11ea_9ec7_5254009c52d5row6_col16\" class=\"data row6 col16\" >0.865785</td>\n",
       "            </tr>\n",
       "            <tr>\n",
       "                        <th id=\"T_e5740538_fc20_11ea_9ec7_5254009c52d5level0_row7\" class=\"row_heading level0 row7\" >Cancel_events</th>\n",
       "                        <td id=\"T_e5740538_fc20_11ea_9ec7_5254009c52d5row7_col0\" class=\"data row7 col0\" >-0.105940</td>\n",
       "                        <td id=\"T_e5740538_fc20_11ea_9ec7_5254009c52d5row7_col1\" class=\"data row7 col1\" >-0.286714</td>\n",
       "                        <td id=\"T_e5740538_fc20_11ea_9ec7_5254009c52d5row7_col2\" class=\"data row7 col2\" >-0.285684</td>\n",
       "                        <td id=\"T_e5740538_fc20_11ea_9ec7_5254009c52d5row7_col3\" class=\"data row7 col3\" >-0.336002</td>\n",
       "                        <td id=\"T_e5740538_fc20_11ea_9ec7_5254009c52d5row7_col4\" class=\"data row7 col4\" >-0.001117</td>\n",
       "                        <td id=\"T_e5740538_fc20_11ea_9ec7_5254009c52d5row7_col5\" class=\"data row7 col5\" >0.735698</td>\n",
       "                        <td id=\"T_e5740538_fc20_11ea_9ec7_5254009c52d5row7_col6\" class=\"data row7 col6\" >0.717981</td>\n",
       "                        <td id=\"T_e5740538_fc20_11ea_9ec7_5254009c52d5row7_col7\" class=\"data row7 col7\" >1.000000</td>\n",
       "                        <td id=\"T_e5740538_fc20_11ea_9ec7_5254009c52d5row7_col8\" class=\"data row7 col8\" >0.805426</td>\n",
       "                        <td id=\"T_e5740538_fc20_11ea_9ec7_5254009c52d5row7_col9\" class=\"data row7 col9\" >0.484911</td>\n",
       "                        <td id=\"T_e5740538_fc20_11ea_9ec7_5254009c52d5row7_col10\" class=\"data row7 col10\" >0.550300</td>\n",
       "                        <td id=\"T_e5740538_fc20_11ea_9ec7_5254009c52d5row7_col11\" class=\"data row7 col11\" >0.646025</td>\n",
       "                        <td id=\"T_e5740538_fc20_11ea_9ec7_5254009c52d5row7_col12\" class=\"data row7 col12\" >0.562364</td>\n",
       "                        <td id=\"T_e5740538_fc20_11ea_9ec7_5254009c52d5row7_col13\" class=\"data row7 col13\" >0.874219</td>\n",
       "                        <td id=\"T_e5740538_fc20_11ea_9ec7_5254009c52d5row7_col14\" class=\"data row7 col14\" >0.602598</td>\n",
       "                        <td id=\"T_e5740538_fc20_11ea_9ec7_5254009c52d5row7_col15\" class=\"data row7 col15\" >0.586301</td>\n",
       "                        <td id=\"T_e5740538_fc20_11ea_9ec7_5254009c52d5row7_col16\" class=\"data row7 col16\" >0.838028</td>\n",
       "            </tr>\n",
       "            <tr>\n",
       "                        <th id=\"T_e5740538_fc20_11ea_9ec7_5254009c52d5level0_row8\" class=\"row_heading level0 row8\" >Gatherings_restrictions</th>\n",
       "                        <td id=\"T_e5740538_fc20_11ea_9ec7_5254009c52d5row8_col0\" class=\"data row8 col0\" >-0.073938</td>\n",
       "                        <td id=\"T_e5740538_fc20_11ea_9ec7_5254009c52d5row8_col1\" class=\"data row8 col1\" >-0.286267</td>\n",
       "                        <td id=\"T_e5740538_fc20_11ea_9ec7_5254009c52d5row8_col2\" class=\"data row8 col2\" >-0.274505</td>\n",
       "                        <td id=\"T_e5740538_fc20_11ea_9ec7_5254009c52d5row8_col3\" class=\"data row8 col3\" >-0.306044</td>\n",
       "                        <td id=\"T_e5740538_fc20_11ea_9ec7_5254009c52d5row8_col4\" class=\"data row8 col4\" >-0.117578</td>\n",
       "                        <td id=\"T_e5740538_fc20_11ea_9ec7_5254009c52d5row8_col5\" class=\"data row8 col5\" >0.660390</td>\n",
       "                        <td id=\"T_e5740538_fc20_11ea_9ec7_5254009c52d5row8_col6\" class=\"data row8 col6\" >0.760864</td>\n",
       "                        <td id=\"T_e5740538_fc20_11ea_9ec7_5254009c52d5row8_col7\" class=\"data row8 col7\" >0.805426</td>\n",
       "                        <td id=\"T_e5740538_fc20_11ea_9ec7_5254009c52d5row8_col8\" class=\"data row8 col8\" >1.000000</td>\n",
       "                        <td id=\"T_e5740538_fc20_11ea_9ec7_5254009c52d5row8_col9\" class=\"data row8 col9\" >0.686125</td>\n",
       "                        <td id=\"T_e5740538_fc20_11ea_9ec7_5254009c52d5row8_col10\" class=\"data row8 col10\" >0.653111</td>\n",
       "                        <td id=\"T_e5740538_fc20_11ea_9ec7_5254009c52d5row8_col11\" class=\"data row8 col11\" >0.745686</td>\n",
       "                        <td id=\"T_e5740538_fc20_11ea_9ec7_5254009c52d5row8_col12\" class=\"data row8 col12\" >0.606864</td>\n",
       "                        <td id=\"T_e5740538_fc20_11ea_9ec7_5254009c52d5row8_col13\" class=\"data row8 col13\" >0.816379</td>\n",
       "                        <td id=\"T_e5740538_fc20_11ea_9ec7_5254009c52d5row8_col14\" class=\"data row8 col14\" >0.631234</td>\n",
       "                        <td id=\"T_e5740538_fc20_11ea_9ec7_5254009c52d5row8_col15\" class=\"data row8 col15\" >0.389873</td>\n",
       "                        <td id=\"T_e5740538_fc20_11ea_9ec7_5254009c52d5row8_col16\" class=\"data row8 col16\" >0.865557</td>\n",
       "            </tr>\n",
       "            <tr>\n",
       "                        <th id=\"T_e5740538_fc20_11ea_9ec7_5254009c52d5level0_row9\" class=\"row_heading level0 row9\" >Transport_closing</th>\n",
       "                        <td id=\"T_e5740538_fc20_11ea_9ec7_5254009c52d5row9_col0\" class=\"data row9 col0\" >-0.112681</td>\n",
       "                        <td id=\"T_e5740538_fc20_11ea_9ec7_5254009c52d5row9_col1\" class=\"data row9 col1\" >-0.271844</td>\n",
       "                        <td id=\"T_e5740538_fc20_11ea_9ec7_5254009c52d5row9_col2\" class=\"data row9 col2\" >-0.276521</td>\n",
       "                        <td id=\"T_e5740538_fc20_11ea_9ec7_5254009c52d5row9_col3\" class=\"data row9 col3\" >-0.282585</td>\n",
       "                        <td id=\"T_e5740538_fc20_11ea_9ec7_5254009c52d5row9_col4\" class=\"data row9 col4\" >0.038784</td>\n",
       "                        <td id=\"T_e5740538_fc20_11ea_9ec7_5254009c52d5row9_col5\" class=\"data row9 col5\" >0.547463</td>\n",
       "                        <td id=\"T_e5740538_fc20_11ea_9ec7_5254009c52d5row9_col6\" class=\"data row9 col6\" >0.569845</td>\n",
       "                        <td id=\"T_e5740538_fc20_11ea_9ec7_5254009c52d5row9_col7\" class=\"data row9 col7\" >0.484911</td>\n",
       "                        <td id=\"T_e5740538_fc20_11ea_9ec7_5254009c52d5row9_col8\" class=\"data row9 col8\" >0.686125</td>\n",
       "                        <td id=\"T_e5740538_fc20_11ea_9ec7_5254009c52d5row9_col9\" class=\"data row9 col9\" >1.000000</td>\n",
       "                        <td id=\"T_e5740538_fc20_11ea_9ec7_5254009c52d5row9_col10\" class=\"data row9 col10\" >0.602466</td>\n",
       "                        <td id=\"T_e5740538_fc20_11ea_9ec7_5254009c52d5row9_col11\" class=\"data row9 col11\" >0.668097</td>\n",
       "                        <td id=\"T_e5740538_fc20_11ea_9ec7_5254009c52d5row9_col12\" class=\"data row9 col12\" >0.537544</td>\n",
       "                        <td id=\"T_e5740538_fc20_11ea_9ec7_5254009c52d5row9_col13\" class=\"data row9 col13\" >0.518350</td>\n",
       "                        <td id=\"T_e5740538_fc20_11ea_9ec7_5254009c52d5row9_col14\" class=\"data row9 col14\" >0.336622</td>\n",
       "                        <td id=\"T_e5740538_fc20_11ea_9ec7_5254009c52d5row9_col15\" class=\"data row9 col15\" >0.170885</td>\n",
       "                        <td id=\"T_e5740538_fc20_11ea_9ec7_5254009c52d5row9_col16\" class=\"data row9 col16\" >0.749792</td>\n",
       "            </tr>\n",
       "            <tr>\n",
       "                        <th id=\"T_e5740538_fc20_11ea_9ec7_5254009c52d5level0_row10\" class=\"row_heading level0 row10\" >Stay_home_restrictions</th>\n",
       "                        <td id=\"T_e5740538_fc20_11ea_9ec7_5254009c52d5row10_col0\" class=\"data row10 col0\" >-0.144483</td>\n",
       "                        <td id=\"T_e5740538_fc20_11ea_9ec7_5254009c52d5row10_col1\" class=\"data row10 col1\" >0.132837</td>\n",
       "                        <td id=\"T_e5740538_fc20_11ea_9ec7_5254009c52d5row10_col2\" class=\"data row10 col2\" >0.123421</td>\n",
       "                        <td id=\"T_e5740538_fc20_11ea_9ec7_5254009c52d5row10_col3\" class=\"data row10 col3\" >0.096012</td>\n",
       "                        <td id=\"T_e5740538_fc20_11ea_9ec7_5254009c52d5row10_col4\" class=\"data row10 col4\" >-0.009210</td>\n",
       "                        <td id=\"T_e5740538_fc20_11ea_9ec7_5254009c52d5row10_col5\" class=\"data row10 col5\" >0.571535</td>\n",
       "                        <td id=\"T_e5740538_fc20_11ea_9ec7_5254009c52d5row10_col6\" class=\"data row10 col6\" >0.680360</td>\n",
       "                        <td id=\"T_e5740538_fc20_11ea_9ec7_5254009c52d5row10_col7\" class=\"data row10 col7\" >0.550300</td>\n",
       "                        <td id=\"T_e5740538_fc20_11ea_9ec7_5254009c52d5row10_col8\" class=\"data row10 col8\" >0.653111</td>\n",
       "                        <td id=\"T_e5740538_fc20_11ea_9ec7_5254009c52d5row10_col9\" class=\"data row10 col9\" >0.602466</td>\n",
       "                        <td id=\"T_e5740538_fc20_11ea_9ec7_5254009c52d5row10_col10\" class=\"data row10 col10\" >1.000000</td>\n",
       "                        <td id=\"T_e5740538_fc20_11ea_9ec7_5254009c52d5row10_col11\" class=\"data row10 col11\" >0.775398</td>\n",
       "                        <td id=\"T_e5740538_fc20_11ea_9ec7_5254009c52d5row10_col12\" class=\"data row10 col12\" >0.608449</td>\n",
       "                        <td id=\"T_e5740538_fc20_11ea_9ec7_5254009c52d5row10_col13\" class=\"data row10 col13\" >0.506103</td>\n",
       "                        <td id=\"T_e5740538_fc20_11ea_9ec7_5254009c52d5row10_col14\" class=\"data row10 col14\" >0.348968</td>\n",
       "                        <td id=\"T_e5740538_fc20_11ea_9ec7_5254009c52d5row10_col15\" class=\"data row10 col15\" >0.407568</td>\n",
       "                        <td id=\"T_e5740538_fc20_11ea_9ec7_5254009c52d5row10_col16\" class=\"data row10 col16\" >0.785551</td>\n",
       "            </tr>\n",
       "            <tr>\n",
       "                        <th id=\"T_e5740538_fc20_11ea_9ec7_5254009c52d5level0_row11\" class=\"row_heading level0 row11\" >Internal_movement_restrictions</th>\n",
       "                        <td id=\"T_e5740538_fc20_11ea_9ec7_5254009c52d5row11_col0\" class=\"data row11 col0\" >-0.154857</td>\n",
       "                        <td id=\"T_e5740538_fc20_11ea_9ec7_5254009c52d5row11_col1\" class=\"data row11 col1\" >-0.070799</td>\n",
       "                        <td id=\"T_e5740538_fc20_11ea_9ec7_5254009c52d5row11_col2\" class=\"data row11 col2\" >-0.060623</td>\n",
       "                        <td id=\"T_e5740538_fc20_11ea_9ec7_5254009c52d5row11_col3\" class=\"data row11 col3\" >-0.142508</td>\n",
       "                        <td id=\"T_e5740538_fc20_11ea_9ec7_5254009c52d5row11_col4\" class=\"data row11 col4\" >-0.083437</td>\n",
       "                        <td id=\"T_e5740538_fc20_11ea_9ec7_5254009c52d5row11_col5\" class=\"data row11 col5\" >0.537261</td>\n",
       "                        <td id=\"T_e5740538_fc20_11ea_9ec7_5254009c52d5row11_col6\" class=\"data row11 col6\" >0.655489</td>\n",
       "                        <td id=\"T_e5740538_fc20_11ea_9ec7_5254009c52d5row11_col7\" class=\"data row11 col7\" >0.646025</td>\n",
       "                        <td id=\"T_e5740538_fc20_11ea_9ec7_5254009c52d5row11_col8\" class=\"data row11 col8\" >0.745686</td>\n",
       "                        <td id=\"T_e5740538_fc20_11ea_9ec7_5254009c52d5row11_col9\" class=\"data row11 col9\" >0.668097</td>\n",
       "                        <td id=\"T_e5740538_fc20_11ea_9ec7_5254009c52d5row11_col10\" class=\"data row11 col10\" >0.775398</td>\n",
       "                        <td id=\"T_e5740538_fc20_11ea_9ec7_5254009c52d5row11_col11\" class=\"data row11 col11\" >1.000000</td>\n",
       "                        <td id=\"T_e5740538_fc20_11ea_9ec7_5254009c52d5row11_col12\" class=\"data row11 col12\" >0.576530</td>\n",
       "                        <td id=\"T_e5740538_fc20_11ea_9ec7_5254009c52d5row11_col13\" class=\"data row11 col13\" >0.588750</td>\n",
       "                        <td id=\"T_e5740538_fc20_11ea_9ec7_5254009c52d5row11_col14\" class=\"data row11 col14\" >0.455310</td>\n",
       "                        <td id=\"T_e5740538_fc20_11ea_9ec7_5254009c52d5row11_col15\" class=\"data row11 col15\" >0.384178</td>\n",
       "                        <td id=\"T_e5740538_fc20_11ea_9ec7_5254009c52d5row11_col16\" class=\"data row11 col16\" >0.775727</td>\n",
       "            </tr>\n",
       "            <tr>\n",
       "                        <th id=\"T_e5740538_fc20_11ea_9ec7_5254009c52d5level0_row12\" class=\"row_heading level0 row12\" >International_movement_restrictions</th>\n",
       "                        <td id=\"T_e5740538_fc20_11ea_9ec7_5254009c52d5row12_col0\" class=\"data row12 col0\" >-0.144288</td>\n",
       "                        <td id=\"T_e5740538_fc20_11ea_9ec7_5254009c52d5row12_col1\" class=\"data row12 col1\" >0.135730</td>\n",
       "                        <td id=\"T_e5740538_fc20_11ea_9ec7_5254009c52d5row12_col2\" class=\"data row12 col2\" >0.157114</td>\n",
       "                        <td id=\"T_e5740538_fc20_11ea_9ec7_5254009c52d5row12_col3\" class=\"data row12 col3\" >0.007819</td>\n",
       "                        <td id=\"T_e5740538_fc20_11ea_9ec7_5254009c52d5row12_col4\" class=\"data row12 col4\" >-0.020804</td>\n",
       "                        <td id=\"T_e5740538_fc20_11ea_9ec7_5254009c52d5row12_col5\" class=\"data row12 col5\" >0.491307</td>\n",
       "                        <td id=\"T_e5740538_fc20_11ea_9ec7_5254009c52d5row12_col6\" class=\"data row12 col6\" >0.489770</td>\n",
       "                        <td id=\"T_e5740538_fc20_11ea_9ec7_5254009c52d5row12_col7\" class=\"data row12 col7\" >0.562364</td>\n",
       "                        <td id=\"T_e5740538_fc20_11ea_9ec7_5254009c52d5row12_col8\" class=\"data row12 col8\" >0.606864</td>\n",
       "                        <td id=\"T_e5740538_fc20_11ea_9ec7_5254009c52d5row12_col9\" class=\"data row12 col9\" >0.537544</td>\n",
       "                        <td id=\"T_e5740538_fc20_11ea_9ec7_5254009c52d5row12_col10\" class=\"data row12 col10\" >0.608449</td>\n",
       "                        <td id=\"T_e5740538_fc20_11ea_9ec7_5254009c52d5row12_col11\" class=\"data row12 col11\" >0.576530</td>\n",
       "                        <td id=\"T_e5740538_fc20_11ea_9ec7_5254009c52d5row12_col12\" class=\"data row12 col12\" >1.000000</td>\n",
       "                        <td id=\"T_e5740538_fc20_11ea_9ec7_5254009c52d5row12_col13\" class=\"data row12 col13\" >0.527290</td>\n",
       "                        <td id=\"T_e5740538_fc20_11ea_9ec7_5254009c52d5row12_col14\" class=\"data row12 col14\" >0.454112</td>\n",
       "                        <td id=\"T_e5740538_fc20_11ea_9ec7_5254009c52d5row12_col15\" class=\"data row12 col15\" >0.494164</td>\n",
       "                        <td id=\"T_e5740538_fc20_11ea_9ec7_5254009c52d5row12_col16\" class=\"data row12 col16\" >0.703312</td>\n",
       "            </tr>\n",
       "            <tr>\n",
       "                        <th id=\"T_e5740538_fc20_11ea_9ec7_5254009c52d5level0_row13\" class=\"row_heading level0 row13\" >Information_campaigns</th>\n",
       "                        <td id=\"T_e5740538_fc20_11ea_9ec7_5254009c52d5row13_col0\" class=\"data row13 col0\" >-0.053776</td>\n",
       "                        <td id=\"T_e5740538_fc20_11ea_9ec7_5254009c52d5row13_col1\" class=\"data row13 col1\" >-0.353241</td>\n",
       "                        <td id=\"T_e5740538_fc20_11ea_9ec7_5254009c52d5row13_col2\" class=\"data row13 col2\" >-0.350104</td>\n",
       "                        <td id=\"T_e5740538_fc20_11ea_9ec7_5254009c52d5row13_col3\" class=\"data row13 col3\" >-0.358964</td>\n",
       "                        <td id=\"T_e5740538_fc20_11ea_9ec7_5254009c52d5row13_col4\" class=\"data row13 col4\" >0.095716</td>\n",
       "                        <td id=\"T_e5740538_fc20_11ea_9ec7_5254009c52d5row13_col5\" class=\"data row13 col5\" >0.711749</td>\n",
       "                        <td id=\"T_e5740538_fc20_11ea_9ec7_5254009c52d5row13_col6\" class=\"data row13 col6\" >0.768314</td>\n",
       "                        <td id=\"T_e5740538_fc20_11ea_9ec7_5254009c52d5row13_col7\" class=\"data row13 col7\" >0.874219</td>\n",
       "                        <td id=\"T_e5740538_fc20_11ea_9ec7_5254009c52d5row13_col8\" class=\"data row13 col8\" >0.816379</td>\n",
       "                        <td id=\"T_e5740538_fc20_11ea_9ec7_5254009c52d5row13_col9\" class=\"data row13 col9\" >0.518350</td>\n",
       "                        <td id=\"T_e5740538_fc20_11ea_9ec7_5254009c52d5row13_col10\" class=\"data row13 col10\" >0.506103</td>\n",
       "                        <td id=\"T_e5740538_fc20_11ea_9ec7_5254009c52d5row13_col11\" class=\"data row13 col11\" >0.588750</td>\n",
       "                        <td id=\"T_e5740538_fc20_11ea_9ec7_5254009c52d5row13_col12\" class=\"data row13 col12\" >0.527290</td>\n",
       "                        <td id=\"T_e5740538_fc20_11ea_9ec7_5254009c52d5row13_col13\" class=\"data row13 col13\" >1.000000</td>\n",
       "                        <td id=\"T_e5740538_fc20_11ea_9ec7_5254009c52d5row13_col14\" class=\"data row13 col14\" >0.610066</td>\n",
       "                        <td id=\"T_e5740538_fc20_11ea_9ec7_5254009c52d5row13_col15\" class=\"data row13 col15\" >0.548142</td>\n",
       "                        <td id=\"T_e5740538_fc20_11ea_9ec7_5254009c52d5row13_col16\" class=\"data row13 col16\" >0.843064</td>\n",
       "            </tr>\n",
       "            <tr>\n",
       "                        <th id=\"T_e5740538_fc20_11ea_9ec7_5254009c52d5level0_row14\" class=\"row_heading level0 row14\" >Testing_policy</th>\n",
       "                        <td id=\"T_e5740538_fc20_11ea_9ec7_5254009c52d5row14_col0\" class=\"data row14 col0\" >-0.148766</td>\n",
       "                        <td id=\"T_e5740538_fc20_11ea_9ec7_5254009c52d5row14_col1\" class=\"data row14 col1\" >-0.304943</td>\n",
       "                        <td id=\"T_e5740538_fc20_11ea_9ec7_5254009c52d5row14_col2\" class=\"data row14 col2\" >-0.234764</td>\n",
       "                        <td id=\"T_e5740538_fc20_11ea_9ec7_5254009c52d5row14_col3\" class=\"data row14 col3\" >-0.420651</td>\n",
       "                        <td id=\"T_e5740538_fc20_11ea_9ec7_5254009c52d5row14_col4\" class=\"data row14 col4\" >-0.095486</td>\n",
       "                        <td id=\"T_e5740538_fc20_11ea_9ec7_5254009c52d5row14_col5\" class=\"data row14 col5\" >0.424368</td>\n",
       "                        <td id=\"T_e5740538_fc20_11ea_9ec7_5254009c52d5row14_col6\" class=\"data row14 col6\" >0.456383</td>\n",
       "                        <td id=\"T_e5740538_fc20_11ea_9ec7_5254009c52d5row14_col7\" class=\"data row14 col7\" >0.602598</td>\n",
       "                        <td id=\"T_e5740538_fc20_11ea_9ec7_5254009c52d5row14_col8\" class=\"data row14 col8\" >0.631234</td>\n",
       "                        <td id=\"T_e5740538_fc20_11ea_9ec7_5254009c52d5row14_col9\" class=\"data row14 col9\" >0.336622</td>\n",
       "                        <td id=\"T_e5740538_fc20_11ea_9ec7_5254009c52d5row14_col10\" class=\"data row14 col10\" >0.348968</td>\n",
       "                        <td id=\"T_e5740538_fc20_11ea_9ec7_5254009c52d5row14_col11\" class=\"data row14 col11\" >0.455310</td>\n",
       "                        <td id=\"T_e5740538_fc20_11ea_9ec7_5254009c52d5row14_col12\" class=\"data row14 col12\" >0.454112</td>\n",
       "                        <td id=\"T_e5740538_fc20_11ea_9ec7_5254009c52d5row14_col13\" class=\"data row14 col13\" >0.610066</td>\n",
       "                        <td id=\"T_e5740538_fc20_11ea_9ec7_5254009c52d5row14_col14\" class=\"data row14 col14\" >1.000000</td>\n",
       "                        <td id=\"T_e5740538_fc20_11ea_9ec7_5254009c52d5row14_col15\" class=\"data row14 col15\" >0.400340</td>\n",
       "                        <td id=\"T_e5740538_fc20_11ea_9ec7_5254009c52d5row14_col16\" class=\"data row14 col16\" >0.455386</td>\n",
       "            </tr>\n",
       "            <tr>\n",
       "                        <th id=\"T_e5740538_fc20_11ea_9ec7_5254009c52d5level0_row15\" class=\"row_heading level0 row15\" >Contact_tracing</th>\n",
       "                        <td id=\"T_e5740538_fc20_11ea_9ec7_5254009c52d5row15_col0\" class=\"data row15 col0\" >-0.224735</td>\n",
       "                        <td id=\"T_e5740538_fc20_11ea_9ec7_5254009c52d5row15_col1\" class=\"data row15 col1\" >-0.013176</td>\n",
       "                        <td id=\"T_e5740538_fc20_11ea_9ec7_5254009c52d5row15_col2\" class=\"data row15 col2\" >0.010638</td>\n",
       "                        <td id=\"T_e5740538_fc20_11ea_9ec7_5254009c52d5row15_col3\" class=\"data row15 col3\" >-0.163996</td>\n",
       "                        <td id=\"T_e5740538_fc20_11ea_9ec7_5254009c52d5row15_col4\" class=\"data row15 col4\" >0.132531</td>\n",
       "                        <td id=\"T_e5740538_fc20_11ea_9ec7_5254009c52d5row15_col5\" class=\"data row15 col5\" >0.295211</td>\n",
       "                        <td id=\"T_e5740538_fc20_11ea_9ec7_5254009c52d5row15_col6\" class=\"data row15 col6\" >0.307194</td>\n",
       "                        <td id=\"T_e5740538_fc20_11ea_9ec7_5254009c52d5row15_col7\" class=\"data row15 col7\" >0.586301</td>\n",
       "                        <td id=\"T_e5740538_fc20_11ea_9ec7_5254009c52d5row15_col8\" class=\"data row15 col8\" >0.389873</td>\n",
       "                        <td id=\"T_e5740538_fc20_11ea_9ec7_5254009c52d5row15_col9\" class=\"data row15 col9\" >0.170885</td>\n",
       "                        <td id=\"T_e5740538_fc20_11ea_9ec7_5254009c52d5row15_col10\" class=\"data row15 col10\" >0.407568</td>\n",
       "                        <td id=\"T_e5740538_fc20_11ea_9ec7_5254009c52d5row15_col11\" class=\"data row15 col11\" >0.384178</td>\n",
       "                        <td id=\"T_e5740538_fc20_11ea_9ec7_5254009c52d5row15_col12\" class=\"data row15 col12\" >0.494164</td>\n",
       "                        <td id=\"T_e5740538_fc20_11ea_9ec7_5254009c52d5row15_col13\" class=\"data row15 col13\" >0.548142</td>\n",
       "                        <td id=\"T_e5740538_fc20_11ea_9ec7_5254009c52d5row15_col14\" class=\"data row15 col14\" >0.400340</td>\n",
       "                        <td id=\"T_e5740538_fc20_11ea_9ec7_5254009c52d5row15_col15\" class=\"data row15 col15\" >1.000000</td>\n",
       "                        <td id=\"T_e5740538_fc20_11ea_9ec7_5254009c52d5row15_col16\" class=\"data row15 col16\" >0.473453</td>\n",
       "            </tr>\n",
       "            <tr>\n",
       "                        <th id=\"T_e5740538_fc20_11ea_9ec7_5254009c52d5level0_row16\" class=\"row_heading level0 row16\" >Stringency_index</th>\n",
       "                        <td id=\"T_e5740538_fc20_11ea_9ec7_5254009c52d5row16_col0\" class=\"data row16 col0\" >-0.088259</td>\n",
       "                        <td id=\"T_e5740538_fc20_11ea_9ec7_5254009c52d5row16_col1\" class=\"data row16 col1\" >-0.155724</td>\n",
       "                        <td id=\"T_e5740538_fc20_11ea_9ec7_5254009c52d5row16_col2\" class=\"data row16 col2\" >-0.177864</td>\n",
       "                        <td id=\"T_e5740538_fc20_11ea_9ec7_5254009c52d5row16_col3\" class=\"data row16 col3\" >-0.147708</td>\n",
       "                        <td id=\"T_e5740538_fc20_11ea_9ec7_5254009c52d5row16_col4\" class=\"data row16 col4\" >0.072186</td>\n",
       "                        <td id=\"T_e5740538_fc20_11ea_9ec7_5254009c52d5row16_col5\" class=\"data row16 col5\" >0.818038</td>\n",
       "                        <td id=\"T_e5740538_fc20_11ea_9ec7_5254009c52d5row16_col6\" class=\"data row16 col6\" >0.865785</td>\n",
       "                        <td id=\"T_e5740538_fc20_11ea_9ec7_5254009c52d5row16_col7\" class=\"data row16 col7\" >0.838028</td>\n",
       "                        <td id=\"T_e5740538_fc20_11ea_9ec7_5254009c52d5row16_col8\" class=\"data row16 col8\" >0.865557</td>\n",
       "                        <td id=\"T_e5740538_fc20_11ea_9ec7_5254009c52d5row16_col9\" class=\"data row16 col9\" >0.749792</td>\n",
       "                        <td id=\"T_e5740538_fc20_11ea_9ec7_5254009c52d5row16_col10\" class=\"data row16 col10\" >0.785551</td>\n",
       "                        <td id=\"T_e5740538_fc20_11ea_9ec7_5254009c52d5row16_col11\" class=\"data row16 col11\" >0.775727</td>\n",
       "                        <td id=\"T_e5740538_fc20_11ea_9ec7_5254009c52d5row16_col12\" class=\"data row16 col12\" >0.703312</td>\n",
       "                        <td id=\"T_e5740538_fc20_11ea_9ec7_5254009c52d5row16_col13\" class=\"data row16 col13\" >0.843064</td>\n",
       "                        <td id=\"T_e5740538_fc20_11ea_9ec7_5254009c52d5row16_col14\" class=\"data row16 col14\" >0.455386</td>\n",
       "                        <td id=\"T_e5740538_fc20_11ea_9ec7_5254009c52d5row16_col15\" class=\"data row16 col15\" >0.473453</td>\n",
       "                        <td id=\"T_e5740538_fc20_11ea_9ec7_5254009c52d5row16_col16\" class=\"data row16 col16\" >1.000000</td>\n",
       "            </tr>\n",
       "    </tbody></table>"
      ],
      "text/plain": [
       "<pandas.io.formats.style.Styler at 0x7f5ac29b9040>"
      ]
     },
     "execution_count": 21,
     "metadata": {},
     "output_type": "execute_result"
    }
   ],
   "source": [
    "# Correlation\n",
    "df = track_df.copy()\n",
    "df.corr().style.background_gradient(axis=None)"
   ]
  },
  {
   "cell_type": "code",
   "execution_count": 22,
   "metadata": {
    "collapsed": false
   },
   "outputs": [
    {
     "data": {
      "image/png": "[encoded data removed]",
      "text/plain": [
       "<Figure size 432x288 with 1 Axes>"
      ]
     },
     "metadata": {},
     "output_type": "display_data"
    }
   ],
   "source": [
    "# Scatter plot of Stringency index and Rt\n",
    "df = track_df.copy()\n",
    "sns.scatterplot(data=df, x=\"Stringency_index\", y=\"Rt\", hue=\"Country\", legend=\"brief\", marker=\"+\")\n",
    "bbox_to_anchor=(1.02, 0)\n",
    "bbox_loc=\"lower left\"\n",
    "plt.legend(bbox_to_anchor=bbox_to_anchor, loc=bbox_loc, borderaxespad=0)\n",
    "plt.title(\"Relationship of Stringency index and reproduction number\")\n",
    "plt.ylabel(\"Reproduction number\")\n",
    "plt.xlabel(\"Stringency index\")\n",
    "plt.show()"
   ]
  }
 ],
 "metadata": {
  "kernelspec": {
   "display_name": "Python 3.8.2 64-bit ('.venv': venv)",
   "name": "python_defaultSpec_1597669925034"
  },
  "language_info": {
   "codemirror_mode": {
    "name": "ipython",
    "version": 3
   },
   "file_extension": ".py",
   "mimetype": "text/x-python",
   "name": "python",
   "nbconvert_exporter": "python",
   "pygments_lexer": "ipython3",
   "version": "3.8.2-final"
  }
 },
 "nbformat": 4,
 "nbformat_minor": 4
}
