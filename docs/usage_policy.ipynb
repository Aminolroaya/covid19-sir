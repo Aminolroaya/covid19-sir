{
 "cells": [
  {
   "cell_type": "markdown",
   "metadata": {},
   "source": [
    "# Usage (details: policy measures)\n",
    "Here, we will analyse the relationship of policy measures and parameter values of SIR-derived ODE models. Policy measures are tracked by [Oxford Covid-19 Government Response Tracker (OxCGRT)](https://github.com/OxCGRT/covid-policy-tracker)."
   ]
  },
  {
   "cell_type": "markdown",
   "metadata": {},
   "source": [
    "## Preparation"
   ]
  },
  {
   "cell_type": "code",
   "execution_count": 1,
   "metadata": {
    "collapsed": false
   },
   "outputs": [],
   "source": [
    "# Standard users\n",
    "# !pip install covsirphy\n",
    "# Developers (Note: this notebook is in example directory)\n",
    "import os\n",
    "os.chdir(\"../\")"
   ]
  },
  {
   "cell_type": "code",
   "execution_count": 2,
   "metadata": {
    "collapsed": false
   },
   "outputs": [],
   "source": [
    "from pprint import pprint"
   ]
  },
  {
   "cell_type": "code",
   "execution_count": 3,
   "metadata": {
    "collapsed": false
   },
   "outputs": [
    {
     "data": {
      "text/plain": [
       "'2.11.0'"
      ]
     },
     "execution_count": 3,
     "metadata": {},
     "output_type": "execute_result"
    }
   ],
   "source": [
    "import covsirphy as cs\n",
    "cs.__version__"
   ]
  },
  {
   "cell_type": "code",
   "execution_count": 4,
   "metadata": {
    "collapsed": false,
    "tags": []
   },
   "outputs": [
    {
     "name": "stdout",
     "output_type": "stream",
     "text": [
      "(Secondary source) Guidotti, E., Ardia, D., (2020), \"COVID-19 Data Hub\", Journal of Open Source Software 5(51):2376, doi: 10.21105/joss.02376.\n"
     ]
    }
   ],
   "source": [
    "# Standard users and developers\n",
    "data_loader = cs.DataLoader(\"input\")\n",
    "# The number of cases (JHU style)\n",
    "jhu_data = data_loader.jhu(verbose=False)\n",
    "# Population in each country\n",
    "population_data = data_loader.population(verbose=False)\n",
    "# Government Response Tracker (OxCGRT)\n",
    "oxcgrt_data = data_loader.oxcgrt(verbose=False)\n",
    "# Description/citation\n",
    "print(oxcgrt_data.citation)"
   ]
  },
  {
   "cell_type": "markdown",
   "metadata": {},
   "source": [
    "## Class for policy measure analysis\n",
    "We will `PolicyMeasures` class to find relationship of policy measures and parameter values of SIR-derived ODE models."
   ]
  },
  {
   "cell_type": "code",
   "execution_count": 5,
   "metadata": {
    "collapsed": false,
    "tags": []
   },
   "outputs": [
    {
     "data": {
      "text/plain": [
       "185"
      ]
     },
     "execution_count": 5,
     "metadata": {},
     "output_type": "execute_result"
    }
   ],
   "source": [
    "# Create analyser with tau value 360 [min] (can be changed)\n",
    "analyser = cs.PolicyMeasures(jhu_data, population_data, oxcgrt_data, tau=360)\n",
    "# The number of registerd countries\n",
    "len(analyser.countries)"
   ]
  },
  {
   "cell_type": "code",
   "execution_count": 6,
   "metadata": {
    "collapsed": false
   },
   "outputs": [
    {
     "data": {
      "text/plain": [
       "covsirphy.analysis.scenario.Scenario"
      ]
     },
     "execution_count": 6,
     "metadata": {},
     "output_type": "execute_result"
    }
   ],
   "source": [
    "# We can get Scenario instance for detailed scenario analysis\n",
    "type(analyser.scenario(\"Japan\"))"
   ]
  },
  {
   "cell_type": "markdown",
   "metadata": {},
   "source": [
    "## Set phases with S-R trend analysis\n",
    "We will perform S-R trend analysis to set phases in all countries. Countries which do not have **15th phases** will be un-registered for the next analysis. This number will be adjusted for your analysis."
   ]
  },
  {
   "cell_type": "code",
   "execution_count": 7,
   "metadata": {
    "collapsed": false
   },
   "outputs": [
    {
     "name": "stdout",
     "output_type": "stream",
     "text": [
      "{2: ['Tanzania', 'Timor-Leste'],\n",
      " 3: ['Fiji', 'Grenada'],\n",
      " 4: ['Saint Lucia', 'Dominica'],\n",
      " 5: ['Antigua and Barbuda', 'Equatorial Guinea', 'Brunei',\n",
      "     'Saint Vincent and the Grenadines'],\n",
      " 6: ['Seychelles', 'Cambodia'],\n",
      " 7: ['Kyrgyzstan', 'Kazakhstan', 'Gambia', 'Trinidad and Tobago'],\n",
      " 8: ['Namibia', 'Eritrea', 'Bhutan', 'Madagascar', 'Malawi', 'Liechtenstein',\n",
      "     'South Africa', 'Ghana', 'Bermuda', 'Zimbabwe', 'Bahamas', 'Belize',\n",
      "     'Mongolia', 'Lesotho', 'Botswana', 'Sao Tome and Principe', 'Mauritius',\n",
      "     'Papua New Guinea'],\n",
      " 9: ['Myanmar', 'Bolivia', 'Vietnam', 'Honduras', 'Saudi Arabia', 'Sudan',\n",
      "     'New Zealand', 'Zambia', 'Burundi', 'Guatemala', 'Monaco', 'Egypt',\n",
      "     'Chile', 'Barbados', 'Oman', 'Djibouti', 'Suriname', 'Haiti', 'Singapore',\n",
      "     'Senegal', 'Comoros', 'Benin', 'Rwanda', 'Taiwan', 'Yemen', 'Uzbekistan',\n",
      "     'Liberia', 'Australia', 'Swaziland'],\n",
      " 10: ['Azerbaijan', 'Cameroon', 'Ethiopia', 'Panama', 'Philippines',\n",
      "      'Palestine', 'Maldives', 'Guyana', 'Peru', 'Pakistan', 'Venezuela',\n",
      "      'Brazil', 'Colombia', 'Dominican Republic', 'Central African Republic',\n",
      "      'Bangladesh', 'Mexico', 'Syria', 'Kosovo', 'Gabon', 'El Salvador',\n",
      "      'Bahrain', 'Nicaragua', 'Guinea-Bissau', 'Nigeria'],\n",
      " 11: ['Ecuador', 'India', 'Qatar', 'Cape Verde', 'Jamaica', 'Iraq',\n",
      "      'San Marino', 'South Sudan', 'Guinea', 'Mozambique', 'Niger',\n",
      "      'Tajikistan', 'Angola', 'Chad', 'Kenya', 'Algeria', 'Jordan',\n",
      "      'Korea, South', 'Afghanistan', 'Paraguay', 'Serbia', 'Cuba', 'Tunisia',\n",
      "      'Congo', 'Sierra Leone', 'Kuwait', 'Togo', 'Montenegro', 'Uganda', 'Mali',\n",
      "      'Libya'],\n",
      " 12: ['Bosnia and Herzegovina', 'Georgia', 'Bulgaria', 'Nepal', 'Thailand',\n",
      "      'Moldova', 'North Macedonia', 'Costa Rica', 'China', 'Slovakia',\n",
      "      'United States', 'Slovenia', 'Mauritania', 'Israel', 'Croatia', 'Belarus',\n",
      "      'Russia', 'Armenia', 'Cyprus', 'Argentina', 'Sri Lanka', 'Albania',\n",
      "      'Japan'],\n",
      " 13: ['Norway', 'United Arab Emirates', 'Latvia', 'Andorra', 'Burkina Faso',\n",
      "      'Lebanon', 'Greece', 'Morocco', 'Poland', 'Luxembourg', 'Malta', 'Iran',\n",
      "      'Turkey', 'Indonesia', 'Hungary', 'Uruguay'],\n",
      " 14: ['Somalia', 'Romania', 'Italy', 'Iceland', 'Ukraine', 'Switzerland',\n",
      "      'Portugal', 'Germany', 'Ireland', 'Czech Republic', 'Malaysia', 'Denmark',\n",
      "      'Lithuania', 'Canada'],\n",
      " 15: ['Belgium', 'Spain', 'Estonia', 'France', 'Austria'],\n",
      " 16: ['Finland']}\n"
     ]
    }
   ],
   "source": [
    "# Show the number of phases of all countries\n",
    "analyser.trend()\n",
    "pprint(analyser.phase_len(), compact=True)"
   ]
  },
  {
   "cell_type": "code",
   "execution_count": 8,
   "metadata": {
    "collapsed": false
   },
   "outputs": [
    {
     "data": {
      "text/plain": [
       "6"
      ]
     },
     "execution_count": 8,
     "metadata": {},
     "output_type": "execute_result"
    }
   ],
   "source": [
    "# Set phases with S-R trend analysis\n",
    "analyser.trend(min_len=15)\n",
    "# The number of countries\n",
    "len(analyser.countries)"
   ]
  },
  {
   "cell_type": "code",
   "execution_count": 9,
   "metadata": {
    "collapsed": false,
    "tags": []
   },
   "outputs": [
    {
     "name": "stdout",
     "output_type": "stream",
     "text": [
      "{15: ['Belgium', 'Spain', 'Estonia', 'France', 'Austria'], 16: ['Finland']}\n"
     ]
    }
   ],
   "source": [
    "phase_len_dict = analyser.phase_len()\n",
    "pprint(phase_len_dict, compact=True)"
   ]
  },
  {
   "cell_type": "code",
   "execution_count": 10,
   "metadata": {
    "collapsed": false,
    "tags": []
   },
   "outputs": [
    {
     "data": {
      "text/html": [
       "<div>\n",
       "<style scoped>\n",
       "    .dataframe tbody tr th:only-of-type {\n",
       "        vertical-align: middle;\n",
       "    }\n",
       "\n",
       "    .dataframe tbody tr th {\n",
       "        vertical-align: top;\n",
       "    }\n",
       "\n",
       "    .dataframe thead th {\n",
       "        text-align: right;\n",
       "    }\n",
       "</style>\n",
       "<table border=\"1\" class=\"dataframe\">\n",
       "  <thead>\n",
       "    <tr style=\"text-align: right;\">\n",
       "      <th></th>\n",
       "      <th></th>\n",
       "      <th>Type</th>\n",
       "      <th>Start</th>\n",
       "      <th>End</th>\n",
       "      <th>Population</th>\n",
       "    </tr>\n",
       "    <tr>\n",
       "      <th>Country</th>\n",
       "      <th>Phase</th>\n",
       "      <th></th>\n",
       "      <th></th>\n",
       "      <th></th>\n",
       "      <th></th>\n",
       "    </tr>\n",
       "  </thead>\n",
       "  <tbody>\n",
       "    <tr>\n",
       "      <th rowspan=\"16\" valign=\"top\">Finland</th>\n",
       "      <th>0th</th>\n",
       "      <td>Past</td>\n",
       "      <td>12Feb2020</td>\n",
       "      <td>25Mar2020</td>\n",
       "      <td>5515525</td>\n",
       "    </tr>\n",
       "    <tr>\n",
       "      <th>1st</th>\n",
       "      <td>Past</td>\n",
       "      <td>26Mar2020</td>\n",
       "      <td>06Apr2020</td>\n",
       "      <td>5515525</td>\n",
       "    </tr>\n",
       "    <tr>\n",
       "      <th>2nd</th>\n",
       "      <td>Past</td>\n",
       "      <td>07Apr2020</td>\n",
       "      <td>16Apr2020</td>\n",
       "      <td>5515525</td>\n",
       "    </tr>\n",
       "    <tr>\n",
       "      <th>3rd</th>\n",
       "      <td>Past</td>\n",
       "      <td>17Apr2020</td>\n",
       "      <td>27Apr2020</td>\n",
       "      <td>5515525</td>\n",
       "    </tr>\n",
       "    <tr>\n",
       "      <th>4th</th>\n",
       "      <td>Past</td>\n",
       "      <td>28Apr2020</td>\n",
       "      <td>07May2020</td>\n",
       "      <td>5515525</td>\n",
       "    </tr>\n",
       "    <tr>\n",
       "      <th>5th</th>\n",
       "      <td>Past</td>\n",
       "      <td>08May2020</td>\n",
       "      <td>28May2020</td>\n",
       "      <td>5515525</td>\n",
       "    </tr>\n",
       "    <tr>\n",
       "      <th>6th</th>\n",
       "      <td>Past</td>\n",
       "      <td>29May2020</td>\n",
       "      <td>09Aug2020</td>\n",
       "      <td>5515525</td>\n",
       "    </tr>\n",
       "    <tr>\n",
       "      <th>7th</th>\n",
       "      <td>Past</td>\n",
       "      <td>10Aug2020</td>\n",
       "      <td>07Sep2020</td>\n",
       "      <td>5515525</td>\n",
       "    </tr>\n",
       "    <tr>\n",
       "      <th>8th</th>\n",
       "      <td>Past</td>\n",
       "      <td>08Sep2020</td>\n",
       "      <td>23Sep2020</td>\n",
       "      <td>5515525</td>\n",
       "    </tr>\n",
       "    <tr>\n",
       "      <th>9th</th>\n",
       "      <td>Past</td>\n",
       "      <td>24Sep2020</td>\n",
       "      <td>04Oct2020</td>\n",
       "      <td>5515525</td>\n",
       "    </tr>\n",
       "    <tr>\n",
       "      <th>10th</th>\n",
       "      <td>Past</td>\n",
       "      <td>05Oct2020</td>\n",
       "      <td>11Oct2020</td>\n",
       "      <td>5515525</td>\n",
       "    </tr>\n",
       "    <tr>\n",
       "      <th>11th</th>\n",
       "      <td>Past</td>\n",
       "      <td>12Oct2020</td>\n",
       "      <td>19Oct2020</td>\n",
       "      <td>5515525</td>\n",
       "    </tr>\n",
       "    <tr>\n",
       "      <th>12th</th>\n",
       "      <td>Past</td>\n",
       "      <td>20Oct2020</td>\n",
       "      <td>27Oct2020</td>\n",
       "      <td>5515525</td>\n",
       "    </tr>\n",
       "    <tr>\n",
       "      <th>13th</th>\n",
       "      <td>Past</td>\n",
       "      <td>28Oct2020</td>\n",
       "      <td>02Nov2020</td>\n",
       "      <td>5515525</td>\n",
       "    </tr>\n",
       "    <tr>\n",
       "      <th>14th</th>\n",
       "      <td>Past</td>\n",
       "      <td>03Nov2020</td>\n",
       "      <td>08Nov2020</td>\n",
       "      <td>5515525</td>\n",
       "    </tr>\n",
       "    <tr>\n",
       "      <th>15th</th>\n",
       "      <td>Past</td>\n",
       "      <td>09Nov2020</td>\n",
       "      <td>15Nov2020</td>\n",
       "      <td>5515525</td>\n",
       "    </tr>\n",
       "  </tbody>\n",
       "</table>\n",
       "</div>"
      ],
      "text/plain": [
       "               Type      Start        End  Population\n",
       "Country Phase                                        \n",
       "Finland 0th    Past  12Feb2020  25Mar2020     5515525\n",
       "        1st    Past  26Mar2020  06Apr2020     5515525\n",
       "        2nd    Past  07Apr2020  16Apr2020     5515525\n",
       "        3rd    Past  17Apr2020  27Apr2020     5515525\n",
       "        4th    Past  28Apr2020  07May2020     5515525\n",
       "        5th    Past  08May2020  28May2020     5515525\n",
       "        6th    Past  29May2020  09Aug2020     5515525\n",
       "        7th    Past  10Aug2020  07Sep2020     5515525\n",
       "        8th    Past  08Sep2020  23Sep2020     5515525\n",
       "        9th    Past  24Sep2020  04Oct2020     5515525\n",
       "        10th   Past  05Oct2020  11Oct2020     5515525\n",
       "        11th   Past  12Oct2020  19Oct2020     5515525\n",
       "        12th   Past  20Oct2020  27Oct2020     5515525\n",
       "        13th   Past  28Oct2020  02Nov2020     5515525\n",
       "        14th   Past  03Nov2020  08Nov2020     5515525\n",
       "        15th   Past  09Nov2020  15Nov2020     5515525"
      ]
     },
     "execution_count": 10,
     "metadata": {},
     "output_type": "execute_result"
    }
   ],
   "source": [
    "# Here, only show the countries which have the most phases\n",
    "countries_show = max(phase_len_dict.items(), key=lambda x: x[0])[1]\n",
    "# Show summary\n",
    "analyser.summary(countries=countries_show)"
   ]
  },
  {
   "cell_type": "markdown",
   "metadata": {},
   "source": [
    "## Parameter estimation\n",
    "we will estimate the parameter values with SIR-derived ODE models in each country."
   ]
  },
  {
   "cell_type": "code",
   "execution_count": 11,
   "metadata": {
    "collapsed": false,
    "tags": []
   },
   "outputs": [
    {
     "name": "stdout",
     "output_type": "stream",
     "text": [
      "\n",
      "<SIR-F model: parameter estimation>\n",
      "Running optimization with 4 CPUs...\n"
     ]
    },
    {
     "name": "stdout",
     "output_type": "stream",
     "text": [
      "\tESP, 11th phase (14Oct2020 - 20Oct2020): finished  408 trials in 0 min 10 sec"
     ]
    },
    {
     "name": "stdout",
     "output_type": "stream",
     "text": [
      "\n"
     ]
    },
    {
     "name": "stdout",
     "output_type": "stream",
     "text": [
      "\tESP,  3rd phase (16Apr2020 - 20Jul2020): finished  372 trials in 0 min 10 sec"
     ]
    },
    {
     "name": "stdout",
     "output_type": "stream",
     "text": [
      "\n"
     ]
    },
    {
     "name": "stdout",
     "output_type": "stream",
     "text": [
      "\tFRA, 12th phase (15Oct2020 - 24Oct2020): finished  367 trials in 0 min 10 sec"
     ]
    },
    {
     "name": "stdout",
     "output_type": "stream",
     "text": [
      "\n"
     ]
    },
    {
     "name": "stdout",
     "output_type": "stream",
     "text": [
      "\tESP,  4th phase (21Jul2020 - 10Aug2020): finished  399 trials in 0 min 10 sec"
     ]
    },
    {
     "name": "stdout",
     "output_type": "stream",
     "text": [
      "\n"
     ]
    },
    {
     "name": "stdout",
     "output_type": "stream",
     "text": [
      "\tBEL, 11th phase (13Oct2020 - 22Oct2020): finished  373 trials in 0 min 10 sec"
     ]
    },
    {
     "name": "stdout",
     "output_type": "stream",
     "text": [
      "\n"
     ]
    },
    {
     "name": "stdout",
     "output_type": "stream",
     "text": [
      "\tAUT,  8th phase (15Sep2020 - 22Sep2020): finished  372 trials in 0 min 10 sec"
     ]
    },
    {
     "name": "stdout",
     "output_type": "stream",
     "text": [
      "\n"
     ]
    },
    {
     "name": "stdout",
     "output_type": "stream",
     "text": [
      "\tBEL, 13th phase (02Nov2020 - 07Nov2020): finished  374 trials in 0 min 10 sec"
     ]
    },
    {
     "name": "stdout",
     "output_type": "stream",
     "text": [
      "\n"
     ]
    },
    {
     "name": "stdout",
     "output_type": "stream",
     "text": [
      "\tFRA,  9th phase (24Sep2020 - 01Oct2020): finished  373 trials in 0 min 10 sec"
     ]
    },
    {
     "name": "stdout",
     "output_type": "stream",
     "text": [
      "\n"
     ]
    },
    {
     "name": "stdout",
     "output_type": "stream",
     "text": [
      "\tESP,  8th phase (14Sep2020 - 23Sep2020): finished  411 trials in 0 min 10 sec"
     ]
    },
    {
     "name": "stdout",
     "output_type": "stream",
     "text": [
      "\n"
     ]
    },
    {
     "name": "stdout",
     "output_type": "stream",
     "text": [
      "\tBEL,  3rd phase (20Apr2020 - 14May2020): finished  365 trials in 0 min 10 sec"
     ]
    },
    {
     "name": "stdout",
     "output_type": "stream",
     "text": [
      "\n"
     ]
    },
    {
     "name": "stdout",
     "output_type": "stream",
     "text": [
      "\tEST,  6th phase (05Aug2020 - 27Aug2020): finished  368 trials in 0 min 10 sec"
     ]
    },
    {
     "name": "stdout",
     "output_type": "stream",
     "text": [
      "\n"
     ]
    },
    {
     "name": "stdout",
     "output_type": "stream",
     "text": [
      "\tFRA,  4th phase (28Jul2020 - 19Aug2020): finished  365 trials in 0 min 10 sec"
     ]
    },
    {
     "name": "stdout",
     "output_type": "stream",
     "text": [
      "\n"
     ]
    },
    {
     "name": "stdout",
     "output_type": "stream",
     "text": [
      "\tFRA,  6th phase (01Sep2020 - 08Sep2020): finished  374 trials in 0 min 10 sec"
     ]
    },
    {
     "name": "stdout",
     "output_type": "stream",
     "text": [
      "\n"
     ]
    },
    {
     "name": "stdout",
     "output_type": "stream",
     "text": [
      "\tEST,  3rd phase (14Apr2020 - 27Apr2020): finished  370 trials in 0 min 10 sec"
     ]
    },
    {
     "name": "stdout",
     "output_type": "stream",
     "text": [
      "\n"
     ]
    },
    {
     "name": "stdout",
     "output_type": "stream",
     "text": [
      "\tEST,  9th phase (22Sep2020 - 29Sep2020): finished  374 trials in 0 min 10 sec"
     ]
    },
    {
     "name": "stdout",
     "output_type": "stream",
     "text": [
      "\n"
     ]
    },
    {
     "name": "stdout",
     "output_type": "stream",
     "text": [
      "\tFIN,  0th phase (12Feb2020 - 25Mar2020): finished  403 trials in 0 min 10 sec"
     ]
    },
    {
     "name": "stdout",
     "output_type": "stream",
     "text": [
      "\n"
     ]
    },
    {
     "name": "stdout",
     "output_type": "stream",
     "text": [
      "\tFIN,  3rd phase (17Apr2020 - 27Apr2020): finished  410 trials in 0 min 10 sec"
     ]
    },
    {
     "name": "stdout",
     "output_type": "stream",
     "text": [
      "\n"
     ]
    },
    {
     "name": "stdout",
     "output_type": "stream",
     "text": [
      "\tEST,  4th phase (28Apr2020 - 02Jun2020): finished  359 trials in 0 min 10 sec"
     ]
    },
    {
     "name": "stdout",
     "output_type": "stream",
     "text": [
      "\n"
     ]
    },
    {
     "name": "stdout",
     "output_type": "stream",
     "text": [
      "\tEST, 13th phase (30Oct2020 - 04Nov2020): finished  374 trials in 0 min 10 sec"
     ]
    },
    {
     "name": "stdout",
     "output_type": "stream",
     "text": [
      "\n"
     ]
    },
    {
     "name": "stdout",
     "output_type": "stream",
     "text": [
      "\tESP, 13th phase (28Oct2020 - 03Nov2020): finished  410 trials in 0 min 10 sec"
     ]
    },
    {
     "name": "stdout",
     "output_type": "stream",
     "text": [
      "\n"
     ]
    },
    {
     "name": "stdout",
     "output_type": "stream",
     "text": [
      "\tBEL, 10th phase (07Oct2020 - 12Oct2020): finished  373 trials in 0 min 10 sec"
     ]
    },
    {
     "name": "stdout",
     "output_type": "stream",
     "text": [
      "\n"
     ]
    },
    {
     "name": "stdout",
     "output_type": "stream",
     "text": [
      "\tEST, 11th phase (08Oct2020 - 20Oct2020): finished  365 trials in 0 min 10 sec"
     ]
    },
    {
     "name": "stdout",
     "output_type": "stream",
     "text": [
      "\n"
     ]
    },
    {
     "name": "stdout",
     "output_type": "stream",
     "text": [
      "\tBEL,  6th phase (17Aug2020 - 08Sep2020): finished  362 trials in 0 min 10 sec"
     ]
    },
    {
     "name": "stdout",
     "output_type": "stream",
     "text": [
      "\n"
     ]
    },
    {
     "name": "stdout",
     "output_type": "stream",
     "text": [
      "\tFRA,  7th phase (09Sep2020 - 16Sep2020): finished  367 trials in 0 min 10 sec"
     ]
    },
    {
     "name": "stdout",
     "output_type": "stream",
     "text": [
      "\n"
     ]
    },
    {
     "name": "stdout",
     "output_type": "stream",
     "text": [
      "\tEST, 14th phase (05Nov2020 - 15Nov2020): finished  368 trials in 0 min 10 sec"
     ]
    },
    {
     "name": "stdout",
     "output_type": "stream",
     "text": [
      "\n"
     ]
    },
    {
     "name": "stdout",
     "output_type": "stream",
     "text": [
      "\tESP,  2nd phase (28Mar2020 - 15Apr2020): finished  366 trials in 0 min 10 sec"
     ]
    },
    {
     "name": "stdout",
     "output_type": "stream",
     "text": [
      "\n"
     ]
    },
    {
     "name": "stdout",
     "output_type": "stream",
     "text": [
      "\tEST,  5th phase (03Jun2020 - 04Aug2020): finished  350 trials in 0 min 10 sec"
     ]
    },
    {
     "name": "stdout",
     "output_type": "stream",
     "text": [
      "\n"
     ]
    },
    {
     "name": "stdout",
     "output_type": "stream",
     "text": [
      "\tBEL,  5th phase (27Jul2020 - 16Aug2020): finished  367 trials in 0 min 10 sec"
     ]
    },
    {
     "name": "stdout",
     "output_type": "stream",
     "text": [
      "\n"
     ]
    },
    {
     "name": "stdout",
     "output_type": "stream",
     "text": [
      "\tFRA,  5th phase (20Aug2020 - 31Aug2020): finished  368 trials in 0 min 10 sec"
     ]
    },
    {
     "name": "stdout",
     "output_type": "stream",
     "text": [
      "\n"
     ]
    },
    {
     "name": "stdout",
     "output_type": "stream",
     "text": [
      "\tEST,  8th phase (11Sep2020 - 21Sep2020): finished  372 trials in 0 min 10 sec"
     ]
    },
    {
     "name": "stdout",
     "output_type": "stream",
     "text": [
      "\n"
     ]
    },
    {
     "name": "stdout",
     "output_type": "stream",
     "text": [
      "\tAUT, 11th phase (08Oct2020 - 14Oct2020): finished  372 trials in 0 min 10 sec"
     ]
    },
    {
     "name": "stdout",
     "output_type": "stream",
     "text": [
      "\n"
     ]
    },
    {
     "name": "stdout",
     "output_type": "stream",
     "text": [
      "\tEST, 12th phase (21Oct2020 - 29Oct2020): finished  372 trials in 0 min 10 sec"
     ]
    },
    {
     "name": "stdout",
     "output_type": "stream",
     "text": [
      "\n"
     ]
    },
    {
     "name": "stdout",
     "output_type": "stream",
     "text": [
      "\tBEL,  1st phase (30Mar2020 - 07Apr2020): finished  342 trials in 0 min 10 sec"
     ]
    },
    {
     "name": "stdout",
     "output_type": "stream",
     "text": [
      "\n"
     ]
    },
    {
     "name": "stdout",
     "output_type": "stream",
     "text": [
      "\tEST,  0th phase (15Mar2020 - 26Mar2020): finished  378 trials in 0 min 10 sec"
     ]
    },
    {
     "name": "stdout",
     "output_type": "stream",
     "text": [
      "\n"
     ]
    },
    {
     "name": "stdout",
     "output_type": "stream",
     "text": [
      "\tAUT,  0th phase (05Mar2020 - 21Mar2020): finished  348 trials in 0 min 10 sec"
     ]
    },
    {
     "name": "stdout",
     "output_type": "stream",
     "text": [
      "\n"
     ]
    },
    {
     "name": "stdout",
     "output_type": "stream",
     "text": [
      "\tBEL, 14th phase (08Nov2020 - 15Nov2020): finished  352 trials in 0 min 10 sec"
     ]
    },
    {
     "name": "stdout",
     "output_type": "stream",
     "text": [
      "\n"
     ]
    },
    {
     "name": "stdout",
     "output_type": "stream",
     "text": [
      "\tEST, 10th phase (30Sep2020 - 07Oct2020): finished  372 trials in 0 min 10 sec"
     ]
    },
    {
     "name": "stdout",
     "output_type": "stream",
     "text": [
      "\n"
     ]
    },
    {
     "name": "stdout",
     "output_type": "stream",
     "text": [
      "\tESP,  7th phase (03Sep2020 - 13Sep2020): finished  410 trials in 0 min 10 sec"
     ]
    },
    {
     "name": "stdout",
     "output_type": "stream",
     "text": [
      "\n"
     ]
    },
    {
     "name": "stdout",
     "output_type": "stream",
     "text": [
      "\tFIN, 10th phase (05Oct2020 - 11Oct2020): finished  412 trials in 0 min 10 sec"
     ]
    },
    {
     "name": "stdout",
     "output_type": "stream",
     "text": [
      "\n"
     ]
    },
    {
     "name": "stdout",
     "output_type": "stream",
     "text": [
      "\tAUT,  9th phase (23Sep2020 - 30Sep2020): finished  374 trials in 0 min 10 sec"
     ]
    },
    {
     "name": "stdout",
     "output_type": "stream",
     "text": [
      "\n"
     ]
    },
    {
     "name": "stdout",
     "output_type": "stream",
     "text": [
      "\tFIN,  8th phase (08Sep2020 - 23Sep2020): finished  405 trials in 0 min 10 sec"
     ]
    },
    {
     "name": "stdout",
     "output_type": "stream",
     "text": [
      "\n"
     ]
    },
    {
     "name": "stdout",
     "output_type": "stream",
     "text": [
      "\tFIN,  4th phase (28Apr2020 - 07May2020): finished  411 trials in 0 min 10 sec"
     ]
    },
    {
     "name": "stdout",
     "output_type": "stream",
     "text": [
      "\n"
     ]
    },
    {
     "name": "stdout",
     "output_type": "stream",
     "text": [
      "\tBEL,  8th phase (21Sep2020 - 29Sep2020): finished  370 trials in 0 min 10 sec"
     ]
    },
    {
     "name": "stdout",
     "output_type": "stream",
     "text": [
      "\n"
     ]
    },
    {
     "name": "stdout",
     "output_type": "stream",
     "text": [
      "\tBEL,  9th phase (30Sep2020 - 06Oct2020): finished  374 trials in 0 min 10 sec"
     ]
    },
    {
     "name": "stdout",
     "output_type": "stream",
     "text": [
      "\n"
     ]
    },
    {
     "name": "stdout",
     "output_type": "stream",
     "text": [
      "\tESP,  9th phase (24Sep2020 - 04Oct2020): finished  407 trials in 0 min 10 sec"
     ]
    },
    {
     "name": "stdout",
     "output_type": "stream",
     "text": [
      "\n"
     ]
    },
    {
     "name": "stdout",
     "output_type": "stream",
     "text": [
      "\tFRA,  8th phase (17Sep2020 - 23Sep2020): finished  371 trials in 0 min 10 sec"
     ]
    },
    {
     "name": "stdout",
     "output_type": "stream",
     "text": [
      "\n"
     ]
    },
    {
     "name": "stdout",
     "output_type": "stream",
     "text": [
      "\tBEL, 12th phase (23Oct2020 - 01Nov2020): finished  368 trials in 0 min 10 sec"
     ]
    },
    {
     "name": "stdout",
     "output_type": "stream",
     "text": [
      "\n"
     ]
    },
    {
     "name": "stdout",
     "output_type": "stream",
     "text": [
      "\tFIN, 13th phase (28Oct2020 - 02Nov2020): finished  405 trials in 0 min 10 sec"
     ]
    },
    {
     "name": "stdout",
     "output_type": "stream",
     "text": [
      "\n"
     ]
    },
    {
     "name": "stdout",
     "output_type": "stream",
     "text": [
      "\tESP,  1st phase (17Mar2020 - 27Mar2020): finished  368 trials in 0 min 10 sec"
     ]
    },
    {
     "name": "stdout",
     "output_type": "stream",
     "text": [
      "\n"
     ]
    },
    {
     "name": "stdout",
     "output_type": "stream",
     "text": [
      "\tAUT, 12th phase (15Oct2020 - 20Oct2020): finished  372 trials in 0 min 10 sec"
     ]
    },
    {
     "name": "stdout",
     "output_type": "stream",
     "text": [
      "\n"
     ]
    },
    {
     "name": "stdout",
     "output_type": "stream",
     "text": [
      "\tFIN,  1st phase (26Mar2020 - 06Apr2020): finished  405 trials in 0 min 10 sec"
     ]
    },
    {
     "name": "stdout",
     "output_type": "stream",
     "text": [
      "\n"
     ]
    },
    {
     "name": "stdout",
     "output_type": "stream",
     "text": [
      "\tFRA,  0th phase (12Feb2020 - 29Mar2020): finished  355 trials in 0 min 10 sec"
     ]
    },
    {
     "name": "stdout",
     "output_type": "stream",
     "text": [
      "\n"
     ]
    },
    {
     "name": "stdout",
     "output_type": "stream",
     "text": [
      "\tAUT, 13th phase (21Oct2020 - 30Oct2020): finished  371 trials in 0 min 10 sec"
     ]
    },
    {
     "name": "stdout",
     "output_type": "stream",
     "text": [
      "\n"
     ]
    },
    {
     "name": "stdout",
     "output_type": "stream",
     "text": [
      "\tBEL,  7th phase (09Sep2020 - 20Sep2020): finished  371 trials in 0 min 10 sec"
     ]
    },
    {
     "name": "stdout",
     "output_type": "stream",
     "text": [
      "\n"
     ]
    },
    {
     "name": "stdout",
     "output_type": "stream",
     "text": [
      "\tFRA,  3rd phase (27May2020 - 27Jul2020): finished  352 trials in 0 min 10 sec"
     ]
    },
    {
     "name": "stdout",
     "output_type": "stream",
     "text": [
      "\n"
     ]
    },
    {
     "name": "stdout",
     "output_type": "stream",
     "text": [
      "\tFIN, 14th phase (03Nov2020 - 08Nov2020): finished  411 trials in 0 min 10 sec"
     ]
    },
    {
     "name": "stdout",
     "output_type": "stream",
     "text": [
      "\n"
     ]
    },
    {
     "name": "stdout",
     "output_type": "stream",
     "text": [
      "\tFRA, 10th phase (02Oct2020 - 08Oct2020): finished  372 trials in 0 min 10 sec"
     ]
    },
    {
     "name": "stdout",
     "output_type": "stream",
     "text": [
      "\n"
     ]
    },
    {
     "name": "stdout",
     "output_type": "stream",
     "text": [
      "\tAUT,  1st phase (22Mar2020 - 29Mar2020): finished  373 trials in 0 min 10 sec"
     ]
    },
    {
     "name": "stdout",
     "output_type": "stream",
     "text": [
      "\n"
     ]
    },
    {
     "name": "stdout",
     "output_type": "stream",
     "text": [
      "\tFRA,  1st phase (30Mar2020 - 13Apr2020): finished  367 trials in 0 min 10 sec"
     ]
    },
    {
     "name": "stdout",
     "output_type": "stream",
     "text": [
      "\n"
     ]
    },
    {
     "name": "stdout",
     "output_type": "stream",
     "text": [
      "\tFRA, 13th phase (25Oct2020 - 03Nov2020): finished  367 trials in 0 min 10 sec"
     ]
    },
    {
     "name": "stdout",
     "output_type": "stream",
     "text": [
      "\n"
     ]
    },
    {
     "name": "stdout",
     "output_type": "stream",
     "text": [
      "\tAUT, 10th phase (01Oct2020 - 07Oct2020): finished  373 trials in 0 min 10 sec"
     ]
    },
    {
     "name": "stdout",
     "output_type": "stream",
     "text": [
      "\n"
     ]
    },
    {
     "name": "stdout",
     "output_type": "stream",
     "text": [
      "\tBEL,  0th phase (17Feb2020 - 29Mar2020): finished  405 trials in 0 min 10 sec"
     ]
    },
    {
     "name": "stdout",
     "output_type": "stream",
     "text": [
      "\n"
     ]
    },
    {
     "name": "stdout",
     "output_type": "stream",
     "text": [
      "\tFIN,  5th phase (08May2020 - 28May2020): finished  403 trials in 0 min 10 sec"
     ]
    },
    {
     "name": "stdout",
     "output_type": "stream",
     "text": [
      "\n"
     ]
    },
    {
     "name": "stdout",
     "output_type": "stream",
     "text": [
      "\tESP, 10th phase (05Oct2020 - 13Oct2020): finished  407 trials in 0 min 10 sec"
     ]
    },
    {
     "name": "stdout",
     "output_type": "stream",
     "text": [
      "\n"
     ]
    },
    {
     "name": "stdout",
     "output_type": "stream",
     "text": [
      "\tEST,  1st phase (27Mar2020 - 02Apr2020): finished  371 trials in 0 min 10 sec"
     ]
    },
    {
     "name": "stdout",
     "output_type": "stream",
     "text": [
      "\n"
     ]
    },
    {
     "name": "stdout",
     "output_type": "stream",
     "text": [
      "\tESP, 14th phase (04Nov2020 - 15Nov2020): finished  409 trials in 0 min 10 sec"
     ]
    },
    {
     "name": "stdout",
     "output_type": "stream",
     "text": [
      "\n"
     ]
    },
    {
     "name": "stdout",
     "output_type": "stream",
     "text": [
      "\tFIN, 15th phase (09Nov2020 - 15Nov2020): finished  409 trials in 0 min 10 sec"
     ]
    },
    {
     "name": "stdout",
     "output_type": "stream",
     "text": [
      "\n"
     ]
    },
    {
     "name": "stdout",
     "output_type": "stream",
     "text": [
      "\tAUT,  7th phase (06Sep2020 - 14Sep2020): finished  368 trials in 0 min 10 sec"
     ]
    },
    {
     "name": "stdout",
     "output_type": "stream",
     "text": [
      "\n"
     ]
    },
    {
     "name": "stdout",
     "output_type": "stream",
     "text": [
      "\tEST,  7th phase (28Aug2020 - 10Sep2020): finished  368 trials in 0 min 10 sec"
     ]
    },
    {
     "name": "stdout",
     "output_type": "stream",
     "text": [
      "\n"
     ]
    },
    {
     "name": "stdout",
     "output_type": "stream",
     "text": [
      "\tFIN,  2nd phase (07Apr2020 - 16Apr2020): finished  407 trials in 0 min 10 sec"
     ]
    },
    {
     "name": "stdout",
     "output_type": "stream",
     "text": [
      "\n"
     ]
    },
    {
     "name": "stdout",
     "output_type": "stream",
     "text": [
      "\tAUT,  6th phase (20Aug2020 - 05Sep2020): finished  362 trials in 0 min 10 sec"
     ]
    },
    {
     "name": "stdout",
     "output_type": "stream",
     "text": [
      "\n"
     ]
    },
    {
     "name": "stdout",
     "output_type": "stream",
     "text": [
      "\tFIN,  7th phase (10Aug2020 - 07Sep2020): finished  391 trials in 0 min 10 sec"
     ]
    },
    {
     "name": "stdout",
     "output_type": "stream",
     "text": [
      "\n"
     ]
    },
    {
     "name": "stdout",
     "output_type": "stream",
     "text": [
      "\tEST,  2nd phase (03Apr2020 - 13Apr2020): finished  371 trials in 0 min 10 sec"
     ]
    },
    {
     "name": "stdout",
     "output_type": "stream",
     "text": [
      "\n"
     ]
    },
    {
     "name": "stdout",
     "output_type": "stream",
     "text": [
      "\tESP,  6th phase (24Aug2020 - 02Sep2020): finished  417 trials in 0 min 10 sec"
     ]
    },
    {
     "name": "stdout",
     "output_type": "stream",
     "text": [
      "\n"
     ]
    },
    {
     "name": "stdout",
     "output_type": "stream",
     "text": [
      "\tESP, 12th phase (21Oct2020 - 27Oct2020): finished  419 trials in 0 min 10 sec"
     ]
    },
    {
     "name": "stdout",
     "output_type": "stream",
     "text": [
      "\n"
     ]
    },
    {
     "name": "stdout",
     "output_type": "stream",
     "text": [
      "\tAUT, 14th phase (31Oct2020 - 15Nov2020): finished  374 trials in 0 min 10 sec"
     ]
    },
    {
     "name": "stdout",
     "output_type": "stream",
     "text": [
      "\n"
     ]
    },
    {
     "name": "stdout",
     "output_type": "stream",
     "text": [
      "\tAUT,  4th phase (29Jun2020 - 27Jul2020): finished  374 trials in 0 min 10 sec"
     ]
    },
    {
     "name": "stdout",
     "output_type": "stream",
     "text": [
      "\n"
     ]
    },
    {
     "name": "stdout",
     "output_type": "stream",
     "text": [
      "\tFIN,  6th phase (29May2020 - 09Aug2020): finished  391 trials in 0 min 10 sec"
     ]
    },
    {
     "name": "stdout",
     "output_type": "stream",
     "text": [
      "\n"
     ]
    },
    {
     "name": "stdout",
     "output_type": "stream",
     "text": [
      "\tFRA, 11th phase (09Oct2020 - 14Oct2020): finished  361 trials in 0 min 10 sec"
     ]
    },
    {
     "name": "stdout",
     "output_type": "stream",
     "text": [
      "\n"
     ]
    },
    {
     "name": "stdout",
     "output_type": "stream",
     "text": [
      "\tFIN, 12th phase (20Oct2020 - 27Oct2020): finished  395 trials in 0 min 10 sec"
     ]
    },
    {
     "name": "stdout",
     "output_type": "stream",
     "text": [
      "\n"
     ]
    },
    {
     "name": "stdout",
     "output_type": "stream",
     "text": [
      "\tBEL,  4th phase (15May2020 - 26Jul2020): finished  334 trials in 0 min 10 sec"
     ]
    },
    {
     "name": "stdout",
     "output_type": "stream",
     "text": [
      "\n"
     ]
    },
    {
     "name": "stdout",
     "output_type": "stream",
     "text": [
      "\tFIN, 11th phase (12Oct2020 - 19Oct2020): finished  428 trials in 0 min 10 sec"
     ]
    },
    {
     "name": "stdout",
     "output_type": "stream",
     "text": [
      "\n"
     ]
    },
    {
     "name": "stdout",
     "output_type": "stream",
     "text": [
      "\tBEL,  2nd phase (08Apr2020 - 19Apr2020): finished  383 trials in 0 min 10 sec"
     ]
    },
    {
     "name": "stdout",
     "output_type": "stream",
     "text": [
      "\n"
     ]
    },
    {
     "name": "stdout",
     "output_type": "stream",
     "text": [
      "\tAUT,  3rd phase (14Apr2020 - 28Jun2020): finished  359 trials in 0 min 10 sec"
     ]
    },
    {
     "name": "stdout",
     "output_type": "stream",
     "text": [
      "\n"
     ]
    },
    {
     "name": "stdout",
     "output_type": "stream",
     "text": [
      "\tFRA,  2nd phase (14Apr2020 - 26May2020): finished  370 trials in 0 min 10 sec"
     ]
    },
    {
     "name": "stdout",
     "output_type": "stream",
     "text": [
      "\n"
     ]
    },
    {
     "name": "stdout",
     "output_type": "stream",
     "text": [
      "\tESP,  0th phase (15Feb2020 - 16Mar2020): finished  412 trials in 0 min 10 sec"
     ]
    },
    {
     "name": "stdout",
     "output_type": "stream",
     "text": [
      "\n"
     ]
    },
    {
     "name": "stdout",
     "output_type": "stream",
     "text": [
      "\tESP,  5th phase (11Aug2020 - 23Aug2020): finished  422 trials in 0 min 10 sec"
     ]
    },
    {
     "name": "stdout",
     "output_type": "stream",
     "text": [
      "\n"
     ]
    },
    {
     "name": "stdout",
     "output_type": "stream",
     "text": [
      "Completed optimization. Total: 4 min  8 sec\n"
     ]
    }
   ],
   "source": [
    "# Parameter estimation with SIR-F model\n",
    "analyser.estimate(cs.SIRF, timeout=10)"
   ]
  },
  {
   "cell_type": "code",
   "execution_count": 12,
   "metadata": {
    "collapsed": false
   },
   "outputs": [
    {
     "data": {
      "text/html": [
       "<div>\n",
       "<style scoped>\n",
       "    .dataframe tbody tr th:only-of-type {\n",
       "        vertical-align: middle;\n",
       "    }\n",
       "\n",
       "    .dataframe tbody tr th {\n",
       "        vertical-align: top;\n",
       "    }\n",
       "\n",
       "    .dataframe thead th {\n",
       "        text-align: right;\n",
       "    }\n",
       "</style>\n",
       "<table border=\"1\" class=\"dataframe\">\n",
       "  <thead>\n",
       "    <tr style=\"text-align: right;\">\n",
       "      <th></th>\n",
       "      <th></th>\n",
       "      <th>Type</th>\n",
       "      <th>Start</th>\n",
       "      <th>End</th>\n",
       "      <th>Population</th>\n",
       "      <th>ODE</th>\n",
       "      <th>Rt</th>\n",
       "      <th>theta</th>\n",
       "      <th>kappa</th>\n",
       "      <th>rho</th>\n",
       "      <th>sigma</th>\n",
       "      <th>tau</th>\n",
       "      <th>RMSLE</th>\n",
       "      <th>Trials</th>\n",
       "      <th>Runtime</th>\n",
       "    </tr>\n",
       "    <tr>\n",
       "      <th>Country</th>\n",
       "      <th>Phase</th>\n",
       "      <th></th>\n",
       "      <th></th>\n",
       "      <th></th>\n",
       "      <th></th>\n",
       "      <th></th>\n",
       "      <th></th>\n",
       "      <th></th>\n",
       "      <th></th>\n",
       "      <th></th>\n",
       "      <th></th>\n",
       "      <th></th>\n",
       "      <th></th>\n",
       "      <th></th>\n",
       "      <th></th>\n",
       "    </tr>\n",
       "  </thead>\n",
       "  <tbody>\n",
       "    <tr>\n",
       "      <th rowspan=\"16\" valign=\"top\">Finland</th>\n",
       "      <th>0th</th>\n",
       "      <td>Past</td>\n",
       "      <td>12Feb2020</td>\n",
       "      <td>25Mar2020</td>\n",
       "      <td>5515525</td>\n",
       "      <td>SIR-F</td>\n",
       "      <td>0.02</td>\n",
       "      <td>0.715189</td>\n",
       "      <td>0.602763</td>\n",
       "      <td>0.0444314</td>\n",
       "      <td>0</td>\n",
       "      <td>360</td>\n",
       "      <td>2.17194</td>\n",
       "      <td>403</td>\n",
       "      <td>0 min 10 sec</td>\n",
       "    </tr>\n",
       "    <tr>\n",
       "      <th>1st</th>\n",
       "      <td>Past</td>\n",
       "      <td>26Mar2020</td>\n",
       "      <td>06Apr2020</td>\n",
       "      <td>5515525</td>\n",
       "      <td>SIR-F</td>\n",
       "      <td>97.32</td>\n",
       "      <td>0.0140837</td>\n",
       "      <td>0.0001735</td>\n",
       "      <td>0.0171265</td>\n",
       "      <td>0</td>\n",
       "      <td>360</td>\n",
       "      <td>1.23583</td>\n",
       "      <td>405</td>\n",
       "      <td>0 min 10 sec</td>\n",
       "    </tr>\n",
       "    <tr>\n",
       "      <th>2nd</th>\n",
       "      <td>Past</td>\n",
       "      <td>07Apr2020</td>\n",
       "      <td>16Apr2020</td>\n",
       "      <td>5515525</td>\n",
       "      <td>SIR-F</td>\n",
       "      <td>22.98</td>\n",
       "      <td>0.00109922</td>\n",
       "      <td>0.000455896</td>\n",
       "      <td>0.0104886</td>\n",
       "      <td>0</td>\n",
       "      <td>360</td>\n",
       "      <td>0.335568</td>\n",
       "      <td>407</td>\n",
       "      <td>0 min 10 sec</td>\n",
       "    </tr>\n",
       "    <tr>\n",
       "      <th>3rd</th>\n",
       "      <td>Past</td>\n",
       "      <td>17Apr2020</td>\n",
       "      <td>27Apr2020</td>\n",
       "      <td>5515525</td>\n",
       "      <td>SIR-F</td>\n",
       "      <td>22.25</td>\n",
       "      <td>0.0778253</td>\n",
       "      <td>0.000548561</td>\n",
       "      <td>0.0132327</td>\n",
       "      <td>0</td>\n",
       "      <td>360</td>\n",
       "      <td>0.192577</td>\n",
       "      <td>410</td>\n",
       "      <td>0 min 10 sec</td>\n",
       "    </tr>\n",
       "    <tr>\n",
       "      <th>4th</th>\n",
       "      <td>Past</td>\n",
       "      <td>28Apr2020</td>\n",
       "      <td>07May2020</td>\n",
       "      <td>5515525</td>\n",
       "      <td>SIR-F</td>\n",
       "      <td>17.8</td>\n",
       "      <td>0.0188441</td>\n",
       "      <td>0.000704355</td>\n",
       "      <td>0.0127794</td>\n",
       "      <td>0</td>\n",
       "      <td>360</td>\n",
       "      <td>0.1588</td>\n",
       "      <td>411</td>\n",
       "      <td>0 min 10 sec</td>\n",
       "    </tr>\n",
       "    <tr>\n",
       "      <th>5th</th>\n",
       "      <td>Past</td>\n",
       "      <td>08May2020</td>\n",
       "      <td>28May2020</td>\n",
       "      <td>5515525</td>\n",
       "      <td>SIR-F</td>\n",
       "      <td>24.09</td>\n",
       "      <td>0.0709875</td>\n",
       "      <td>0.000223391</td>\n",
       "      <td>0.00579215</td>\n",
       "      <td>0</td>\n",
       "      <td>360</td>\n",
       "      <td>0.269002</td>\n",
       "      <td>403</td>\n",
       "      <td>0 min 10 sec</td>\n",
       "    </tr>\n",
       "    <tr>\n",
       "      <th>6th</th>\n",
       "      <td>Past</td>\n",
       "      <td>29May2020</td>\n",
       "      <td>09Aug2020</td>\n",
       "      <td>5515525</td>\n",
       "      <td>SIR-F</td>\n",
       "      <td>0.29</td>\n",
       "      <td>0.280176</td>\n",
       "      <td>0.0140633</td>\n",
       "      <td>0.0056927</td>\n",
       "      <td>0</td>\n",
       "      <td>360</td>\n",
       "      <td>0.857613</td>\n",
       "      <td>391</td>\n",
       "      <td>0 min 10 sec</td>\n",
       "    </tr>\n",
       "    <tr>\n",
       "      <th>7th</th>\n",
       "      <td>Past</td>\n",
       "      <td>10Aug2020</td>\n",
       "      <td>07Sep2020</td>\n",
       "      <td>5515525</td>\n",
       "      <td>SIR-F</td>\n",
       "      <td>7.98</td>\n",
       "      <td>0.0303412</td>\n",
       "      <td>0.00138425</td>\n",
       "      <td>0.0113849</td>\n",
       "      <td>0</td>\n",
       "      <td>360</td>\n",
       "      <td>0.125973</td>\n",
       "      <td>391</td>\n",
       "      <td>0 min 10 sec</td>\n",
       "    </tr>\n",
       "    <tr>\n",
       "      <th>8th</th>\n",
       "      <td>Past</td>\n",
       "      <td>08Sep2020</td>\n",
       "      <td>23Sep2020</td>\n",
       "      <td>5515525</td>\n",
       "      <td>SIR-F</td>\n",
       "      <td>115.84</td>\n",
       "      <td>0.11061</td>\n",
       "      <td>0.00013006</td>\n",
       "      <td>0.0169406</td>\n",
       "      <td>0</td>\n",
       "      <td>360</td>\n",
       "      <td>0.183304</td>\n",
       "      <td>405</td>\n",
       "      <td>0 min 10 sec</td>\n",
       "    </tr>\n",
       "    <tr>\n",
       "      <th>9th</th>\n",
       "      <td>Past</td>\n",
       "      <td>24Sep2020</td>\n",
       "      <td>04Oct2020</td>\n",
       "      <td>5515525</td>\n",
       "      <td>-</td>\n",
       "      <td>-</td>\n",
       "      <td>-</td>\n",
       "      <td>-</td>\n",
       "      <td>-</td>\n",
       "      <td>-</td>\n",
       "      <td>-</td>\n",
       "      <td>-</td>\n",
       "      <td>-</td>\n",
       "      <td>-</td>\n",
       "    </tr>\n",
       "    <tr>\n",
       "      <th>10th</th>\n",
       "      <td>Past</td>\n",
       "      <td>05Oct2020</td>\n",
       "      <td>11Oct2020</td>\n",
       "      <td>5515525</td>\n",
       "      <td>SIR-F</td>\n",
       "      <td>166.28</td>\n",
       "      <td>0.000308903</td>\n",
       "      <td>0.000105769</td>\n",
       "      <td>0.0175927</td>\n",
       "      <td>0</td>\n",
       "      <td>360</td>\n",
       "      <td>0.057728</td>\n",
       "      <td>412</td>\n",
       "      <td>0 min 10 sec</td>\n",
       "    </tr>\n",
       "    <tr>\n",
       "      <th>11th</th>\n",
       "      <td>Past</td>\n",
       "      <td>12Oct2020</td>\n",
       "      <td>19Oct2020</td>\n",
       "      <td>5515525</td>\n",
       "      <td>SIR-F</td>\n",
       "      <td>162.97</td>\n",
       "      <td>0.0173899</td>\n",
       "      <td>6.16916e-05</td>\n",
       "      <td>0.0102318</td>\n",
       "      <td>0</td>\n",
       "      <td>360</td>\n",
       "      <td>0.0572553</td>\n",
       "      <td>428</td>\n",
       "      <td>0 min 10 sec</td>\n",
       "    </tr>\n",
       "    <tr>\n",
       "      <th>12th</th>\n",
       "      <td>Past</td>\n",
       "      <td>20Oct2020</td>\n",
       "      <td>27Oct2020</td>\n",
       "      <td>5515525</td>\n",
       "      <td>SIR-F</td>\n",
       "      <td>380.26</td>\n",
       "      <td>0.00174698</td>\n",
       "      <td>2.97769e-05</td>\n",
       "      <td>0.0113427</td>\n",
       "      <td>0</td>\n",
       "      <td>360</td>\n",
       "      <td>0.0980706</td>\n",
       "      <td>395</td>\n",
       "      <td>0 min 10 sec</td>\n",
       "    </tr>\n",
       "    <tr>\n",
       "      <th>13th</th>\n",
       "      <td>Past</td>\n",
       "      <td>28Oct2020</td>\n",
       "      <td>02Nov2020</td>\n",
       "      <td>5515525</td>\n",
       "      <td>SIR-F</td>\n",
       "      <td>392.55</td>\n",
       "      <td>0.00127015</td>\n",
       "      <td>2.9785e-05</td>\n",
       "      <td>0.0117069</td>\n",
       "      <td>0</td>\n",
       "      <td>360</td>\n",
       "      <td>0.015608</td>\n",
       "      <td>405</td>\n",
       "      <td>0 min 10 sec</td>\n",
       "    </tr>\n",
       "    <tr>\n",
       "      <th>14th</th>\n",
       "      <td>Past</td>\n",
       "      <td>03Nov2020</td>\n",
       "      <td>08Nov2020</td>\n",
       "      <td>5515525</td>\n",
       "      <td>SIR-F</td>\n",
       "      <td>1232.16</td>\n",
       "      <td>0.0143306</td>\n",
       "      <td>1.0102e-05</td>\n",
       "      <td>0.0126283</td>\n",
       "      <td>0</td>\n",
       "      <td>360</td>\n",
       "      <td>0.173863</td>\n",
       "      <td>411</td>\n",
       "      <td>0 min 10 sec</td>\n",
       "    </tr>\n",
       "    <tr>\n",
       "      <th>15th</th>\n",
       "      <td>Past</td>\n",
       "      <td>09Nov2020</td>\n",
       "      <td>15Nov2020</td>\n",
       "      <td>5515525</td>\n",
       "      <td>SIR-F</td>\n",
       "      <td>195.87</td>\n",
       "      <td>0.000565395</td>\n",
       "      <td>6.46522e-05</td>\n",
       "      <td>0.0126707</td>\n",
       "      <td>0</td>\n",
       "      <td>360</td>\n",
       "      <td>0.149632</td>\n",
       "      <td>409</td>\n",
       "      <td>0 min 10 sec</td>\n",
       "    </tr>\n",
       "  </tbody>\n",
       "</table>\n",
       "</div>"
      ],
      "text/plain": [
       "               Type      Start        End  Population    ODE       Rt  \\\n",
       "Country Phase                                                           \n",
       "Finland 0th    Past  12Feb2020  25Mar2020     5515525  SIR-F     0.02   \n",
       "        1st    Past  26Mar2020  06Apr2020     5515525  SIR-F    97.32   \n",
       "        2nd    Past  07Apr2020  16Apr2020     5515525  SIR-F    22.98   \n",
       "        3rd    Past  17Apr2020  27Apr2020     5515525  SIR-F    22.25   \n",
       "        4th    Past  28Apr2020  07May2020     5515525  SIR-F     17.8   \n",
       "        5th    Past  08May2020  28May2020     5515525  SIR-F    24.09   \n",
       "        6th    Past  29May2020  09Aug2020     5515525  SIR-F     0.29   \n",
       "        7th    Past  10Aug2020  07Sep2020     5515525  SIR-F     7.98   \n",
       "        8th    Past  08Sep2020  23Sep2020     5515525  SIR-F   115.84   \n",
       "        9th    Past  24Sep2020  04Oct2020     5515525      -        -   \n",
       "        10th   Past  05Oct2020  11Oct2020     5515525  SIR-F   166.28   \n",
       "        11th   Past  12Oct2020  19Oct2020     5515525  SIR-F   162.97   \n",
       "        12th   Past  20Oct2020  27Oct2020     5515525  SIR-F   380.26   \n",
       "        13th   Past  28Oct2020  02Nov2020     5515525  SIR-F   392.55   \n",
       "        14th   Past  03Nov2020  08Nov2020     5515525  SIR-F  1232.16   \n",
       "        15th   Past  09Nov2020  15Nov2020     5515525  SIR-F   195.87   \n",
       "\n",
       "                     theta        kappa         rho sigma  tau      RMSLE  \\\n",
       "Country Phase                                                               \n",
       "Finland 0th       0.715189     0.602763   0.0444314     0  360    2.17194   \n",
       "        1st      0.0140837    0.0001735   0.0171265     0  360    1.23583   \n",
       "        2nd     0.00109922  0.000455896   0.0104886     0  360   0.335568   \n",
       "        3rd      0.0778253  0.000548561   0.0132327     0  360   0.192577   \n",
       "        4th      0.0188441  0.000704355   0.0127794     0  360     0.1588   \n",
       "        5th      0.0709875  0.000223391  0.00579215     0  360   0.269002   \n",
       "        6th       0.280176    0.0140633   0.0056927     0  360   0.857613   \n",
       "        7th      0.0303412   0.00138425   0.0113849     0  360   0.125973   \n",
       "        8th        0.11061   0.00013006   0.0169406     0  360   0.183304   \n",
       "        9th              -            -           -     -    -          -   \n",
       "        10th   0.000308903  0.000105769   0.0175927     0  360   0.057728   \n",
       "        11th     0.0173899  6.16916e-05   0.0102318     0  360  0.0572553   \n",
       "        12th    0.00174698  2.97769e-05   0.0113427     0  360  0.0980706   \n",
       "        13th    0.00127015   2.9785e-05   0.0117069     0  360   0.015608   \n",
       "        14th     0.0143306   1.0102e-05   0.0126283     0  360   0.173863   \n",
       "        15th   0.000565395  6.46522e-05   0.0126707     0  360   0.149632   \n",
       "\n",
       "              Trials       Runtime  \n",
       "Country Phase                       \n",
       "Finland 0th      403  0 min 10 sec  \n",
       "        1st      405  0 min 10 sec  \n",
       "        2nd      407  0 min 10 sec  \n",
       "        3rd      410  0 min 10 sec  \n",
       "        4th      411  0 min 10 sec  \n",
       "        5th      403  0 min 10 sec  \n",
       "        6th      391  0 min 10 sec  \n",
       "        7th      391  0 min 10 sec  \n",
       "        8th      405  0 min 10 sec  \n",
       "        9th        -             -  \n",
       "        10th     412  0 min 10 sec  \n",
       "        11th     428  0 min 10 sec  \n",
       "        12th     395  0 min 10 sec  \n",
       "        13th     405  0 min 10 sec  \n",
       "        14th     411  0 min 10 sec  \n",
       "        15th     409  0 min 10 sec  "
      ]
     },
     "execution_count": 12,
     "metadata": {},
     "output_type": "execute_result"
    }
   ],
   "source": [
    "# Show summary\n",
    "analyser.summary(countries=countries_show)"
   ]
  },
  {
   "cell_type": "markdown",
   "metadata": {},
   "source": [
    "## Compare the history of parameters\n",
    "Here, compare the history of parameter values if countries."
   ]
  },
  {
   "cell_type": "code",
   "execution_count": 13,
   "metadata": {
    "collapsed": false
   },
   "outputs": [
    {
     "data": {
      "text/html": [
       "<div>\n",
       "<style scoped>\n",
       "    .dataframe tbody tr th:only-of-type {\n",
       "        vertical-align: middle;\n",
       "    }\n",
       "\n",
       "    .dataframe tbody tr th {\n",
       "        vertical-align: top;\n",
       "    }\n",
       "\n",
       "    .dataframe thead th {\n",
       "        text-align: right;\n",
       "    }\n",
       "</style>\n",
       "<table border=\"1\" class=\"dataframe\">\n",
       "  <thead>\n",
       "    <tr style=\"text-align: right;\">\n",
       "      <th></th>\n",
       "      <th>Date</th>\n",
       "      <th>Country</th>\n",
       "      <th>theta</th>\n",
       "      <th>kappa</th>\n",
       "      <th>rho</th>\n",
       "      <th>sigma</th>\n",
       "      <th>alpha1 [-]</th>\n",
       "      <th>1/alpha2 [day]</th>\n",
       "      <th>1/beta [day]</th>\n",
       "      <th>1/gamma [day]</th>\n",
       "      <th>...</th>\n",
       "      <th>Cancel_events</th>\n",
       "      <th>Gatherings_restrictions</th>\n",
       "      <th>Transport_closing</th>\n",
       "      <th>Stay_home_restrictions</th>\n",
       "      <th>Internal_movement_restrictions</th>\n",
       "      <th>International_movement_restrictions</th>\n",
       "      <th>Information_campaigns</th>\n",
       "      <th>Testing_policy</th>\n",
       "      <th>Contact_tracing</th>\n",
       "      <th>Stringency_index</th>\n",
       "    </tr>\n",
       "  </thead>\n",
       "  <tbody>\n",
       "    <tr>\n",
       "      <th>0</th>\n",
       "      <td>2020-02-17</td>\n",
       "      <td>Belgium</td>\n",
       "      <td>0.715189</td>\n",
       "      <td>0.602763</td>\n",
       "      <td>0.046098</td>\n",
       "      <td>0</td>\n",
       "      <td>-</td>\n",
       "      <td>-</td>\n",
       "      <td>-</td>\n",
       "      <td>-</td>\n",
       "      <td>...</td>\n",
       "      <td>0</td>\n",
       "      <td>0</td>\n",
       "      <td>0</td>\n",
       "      <td>0</td>\n",
       "      <td>0</td>\n",
       "      <td>0</td>\n",
       "      <td>2</td>\n",
       "      <td>0</td>\n",
       "      <td>0</td>\n",
       "      <td>11.11</td>\n",
       "    </tr>\n",
       "    <tr>\n",
       "      <th>1</th>\n",
       "      <td>2020-02-17</td>\n",
       "      <td>Belgium</td>\n",
       "      <td>0.715189</td>\n",
       "      <td>0.602763</td>\n",
       "      <td>0.046098</td>\n",
       "      <td>0</td>\n",
       "      <td>-</td>\n",
       "      <td>-</td>\n",
       "      <td>-</td>\n",
       "      <td>-</td>\n",
       "      <td>...</td>\n",
       "      <td>0</td>\n",
       "      <td>0</td>\n",
       "      <td>0</td>\n",
       "      <td>0</td>\n",
       "      <td>0</td>\n",
       "      <td>0</td>\n",
       "      <td>0</td>\n",
       "      <td>0</td>\n",
       "      <td>0</td>\n",
       "      <td>0.00</td>\n",
       "    </tr>\n",
       "    <tr>\n",
       "      <th>2</th>\n",
       "      <td>2020-02-17</td>\n",
       "      <td>Belgium</td>\n",
       "      <td>0.715189</td>\n",
       "      <td>0.602763</td>\n",
       "      <td>0.046098</td>\n",
       "      <td>0</td>\n",
       "      <td>-</td>\n",
       "      <td>-</td>\n",
       "      <td>-</td>\n",
       "      <td>-</td>\n",
       "      <td>...</td>\n",
       "      <td>0</td>\n",
       "      <td>0</td>\n",
       "      <td>0</td>\n",
       "      <td>0</td>\n",
       "      <td>0</td>\n",
       "      <td>0</td>\n",
       "      <td>0</td>\n",
       "      <td>0</td>\n",
       "      <td>0</td>\n",
       "      <td>0.00</td>\n",
       "    </tr>\n",
       "    <tr>\n",
       "      <th>3</th>\n",
       "      <td>2020-02-17</td>\n",
       "      <td>Belgium</td>\n",
       "      <td>0.715189</td>\n",
       "      <td>0.602763</td>\n",
       "      <td>0.046098</td>\n",
       "      <td>0</td>\n",
       "      <td>-</td>\n",
       "      <td>-</td>\n",
       "      <td>-</td>\n",
       "      <td>-</td>\n",
       "      <td>...</td>\n",
       "      <td>0</td>\n",
       "      <td>0</td>\n",
       "      <td>0</td>\n",
       "      <td>0</td>\n",
       "      <td>0</td>\n",
       "      <td>0</td>\n",
       "      <td>0</td>\n",
       "      <td>0</td>\n",
       "      <td>0</td>\n",
       "      <td>0.00</td>\n",
       "    </tr>\n",
       "    <tr>\n",
       "      <th>4</th>\n",
       "      <td>2020-02-18</td>\n",
       "      <td>Belgium</td>\n",
       "      <td>0.715189</td>\n",
       "      <td>0.602763</td>\n",
       "      <td>0.046098</td>\n",
       "      <td>0</td>\n",
       "      <td>-</td>\n",
       "      <td>-</td>\n",
       "      <td>-</td>\n",
       "      <td>-</td>\n",
       "      <td>...</td>\n",
       "      <td>0</td>\n",
       "      <td>0</td>\n",
       "      <td>0</td>\n",
       "      <td>0</td>\n",
       "      <td>0</td>\n",
       "      <td>0</td>\n",
       "      <td>2</td>\n",
       "      <td>0</td>\n",
       "      <td>0</td>\n",
       "      <td>11.11</td>\n",
       "    </tr>\n",
       "  </tbody>\n",
       "</table>\n",
       "<p>5 rows × 23 columns</p>\n",
       "</div>"
      ],
      "text/plain": [
       "        Date  Country     theta     kappa       rho sigma alpha1 [-]  \\\n",
       "0 2020-02-17  Belgium  0.715189  0.602763  0.046098     0          -   \n",
       "1 2020-02-17  Belgium  0.715189  0.602763  0.046098     0          -   \n",
       "2 2020-02-17  Belgium  0.715189  0.602763  0.046098     0          -   \n",
       "3 2020-02-17  Belgium  0.715189  0.602763  0.046098     0          -   \n",
       "4 2020-02-18  Belgium  0.715189  0.602763  0.046098     0          -   \n",
       "\n",
       "  1/alpha2 [day] 1/beta [day] 1/gamma [day]  ... Cancel_events  \\\n",
       "0              -            -             -  ...             0   \n",
       "1              -            -             -  ...             0   \n",
       "2              -            -             -  ...             0   \n",
       "3              -            -             -  ...             0   \n",
       "4              -            -             -  ...             0   \n",
       "\n",
       "   Gatherings_restrictions  Transport_closing  Stay_home_restrictions  \\\n",
       "0                        0                  0                       0   \n",
       "1                        0                  0                       0   \n",
       "2                        0                  0                       0   \n",
       "3                        0                  0                       0   \n",
       "4                        0                  0                       0   \n",
       "\n",
       "   Internal_movement_restrictions  International_movement_restrictions  \\\n",
       "0                               0                                    0   \n",
       "1                               0                                    0   \n",
       "2                               0                                    0   \n",
       "3                               0                                    0   \n",
       "4                               0                                    0   \n",
       "\n",
       "   Information_campaigns  Testing_policy  Contact_tracing  Stringency_index  \n",
       "0                      2               0                0             11.11  \n",
       "1                      0               0                0              0.00  \n",
       "2                      0               0                0              0.00  \n",
       "3                      0               0                0              0.00  \n",
       "4                      2               0                0             11.11  \n",
       "\n",
       "[5 rows x 23 columns]"
      ]
     },
     "execution_count": 13,
     "metadata": {},
     "output_type": "execute_result"
    }
   ],
   "source": [
    "# All parameter/day parameter/Rt/OxCGRT\n",
    "analyser.track().head()"
   ]
  },
  {
   "cell_type": "markdown",
   "metadata": {},
   "source": [
    "### $Rt$: Reprodcution number $\\mathrm{[-]}$"
   ]
  },
  {
   "cell_type": "code",
   "execution_count": 14,
   "metadata": {
    "collapsed": false
   },
   "outputs": [
    {
     "data": {
      "image/png": "[encoded data removed]",
      "text/plain": [
       "<Figure size 648x432 with 1 Axes>"
      ]
     },
     "metadata": {},
     "output_type": "display_data"
    },
    {
     "data": {
      "text/html": [
       "<div>\n",
       "<style scoped>\n",
       "    .dataframe tbody tr th:only-of-type {\n",
       "        vertical-align: middle;\n",
       "    }\n",
       "\n",
       "    .dataframe tbody tr th {\n",
       "        vertical-align: top;\n",
       "    }\n",
       "\n",
       "    .dataframe thead th {\n",
       "        text-align: right;\n",
       "    }\n",
       "</style>\n",
       "<table border=\"1\" class=\"dataframe\">\n",
       "  <thead>\n",
       "    <tr style=\"text-align: right;\">\n",
       "      <th>Country</th>\n",
       "      <th>Austria</th>\n",
       "      <th>Belgium</th>\n",
       "      <th>Estonia</th>\n",
       "      <th>Finland</th>\n",
       "      <th>France</th>\n",
       "      <th>Spain</th>\n",
       "    </tr>\n",
       "    <tr>\n",
       "      <th>Date</th>\n",
       "      <th></th>\n",
       "      <th></th>\n",
       "      <th></th>\n",
       "      <th></th>\n",
       "      <th></th>\n",
       "      <th></th>\n",
       "    </tr>\n",
       "  </thead>\n",
       "  <tbody>\n",
       "    <tr>\n",
       "      <th>2020-11-11</th>\n",
       "      <td>2.64</td>\n",
       "      <td>5.26</td>\n",
       "      <td>3.39</td>\n",
       "      <td>195.87</td>\n",
       "      <td>26.82</td>\n",
       "      <td>8.77</td>\n",
       "    </tr>\n",
       "    <tr>\n",
       "      <th>2020-11-12</th>\n",
       "      <td>2.64</td>\n",
       "      <td>5.26</td>\n",
       "      <td>3.39</td>\n",
       "      <td>195.87</td>\n",
       "      <td>26.82</td>\n",
       "      <td>8.77</td>\n",
       "    </tr>\n",
       "    <tr>\n",
       "      <th>2020-11-13</th>\n",
       "      <td>2.64</td>\n",
       "      <td>5.26</td>\n",
       "      <td>3.39</td>\n",
       "      <td>195.87</td>\n",
       "      <td>26.82</td>\n",
       "      <td>8.77</td>\n",
       "    </tr>\n",
       "    <tr>\n",
       "      <th>2020-11-14</th>\n",
       "      <td>2.64</td>\n",
       "      <td>5.26</td>\n",
       "      <td>3.39</td>\n",
       "      <td>195.87</td>\n",
       "      <td>26.82</td>\n",
       "      <td>8.77</td>\n",
       "    </tr>\n",
       "    <tr>\n",
       "      <th>2020-11-15</th>\n",
       "      <td>2.64</td>\n",
       "      <td>5.26</td>\n",
       "      <td>3.39</td>\n",
       "      <td>195.87</td>\n",
       "      <td>26.82</td>\n",
       "      <td>8.77</td>\n",
       "    </tr>\n",
       "  </tbody>\n",
       "</table>\n",
       "</div>"
      ],
      "text/plain": [
       "Country     Austria  Belgium  Estonia  Finland  France  Spain\n",
       "Date                                                         \n",
       "2020-11-11     2.64     5.26     3.39   195.87   26.82   8.77\n",
       "2020-11-12     2.64     5.26     3.39   195.87   26.82   8.77\n",
       "2020-11-13     2.64     5.26     3.39   195.87   26.82   8.77\n",
       "2020-11-14     2.64     5.26     3.39   195.87   26.82   8.77\n",
       "2020-11-15     2.64     5.26     3.39   195.87   26.82   8.77"
      ]
     },
     "execution_count": 14,
     "metadata": {},
     "output_type": "execute_result"
    }
   ],
   "source": [
    "analyser.history(\"Rt\", roll_window=None).tail()"
   ]
  },
  {
   "cell_type": "markdown",
   "metadata": {},
   "source": [
    "### $\\rho$: Effective contact rate $\\mathrm{[-]}$"
   ]
  },
  {
   "cell_type": "code",
   "execution_count": 15,
   "metadata": {
    "collapsed": false
   },
   "outputs": [
    {
     "data": {
      "image/png": "[encoded data removed]",
      "text/plain": [
       "<Figure size 648x432 with 1 Axes>"
      ]
     },
     "metadata": {},
     "output_type": "display_data"
    },
    {
     "data": {
      "text/html": [
       "<div>\n",
       "<style scoped>\n",
       "    .dataframe tbody tr th:only-of-type {\n",
       "        vertical-align: middle;\n",
       "    }\n",
       "\n",
       "    .dataframe tbody tr th {\n",
       "        vertical-align: top;\n",
       "    }\n",
       "\n",
       "    .dataframe thead th {\n",
       "        text-align: right;\n",
       "    }\n",
       "</style>\n",
       "<table border=\"1\" class=\"dataframe\">\n",
       "  <thead>\n",
       "    <tr style=\"text-align: right;\">\n",
       "      <th>Country</th>\n",
       "      <th>Austria</th>\n",
       "      <th>Belgium</th>\n",
       "      <th>Estonia</th>\n",
       "      <th>Finland</th>\n",
       "      <th>France</th>\n",
       "      <th>Spain</th>\n",
       "    </tr>\n",
       "    <tr>\n",
       "      <th>Date</th>\n",
       "      <th></th>\n",
       "      <th></th>\n",
       "      <th></th>\n",
       "      <th></th>\n",
       "      <th></th>\n",
       "      <th></th>\n",
       "    </tr>\n",
       "  </thead>\n",
       "  <tbody>\n",
       "    <tr>\n",
       "      <th>2020-11-11</th>\n",
       "      <td>0.019079</td>\n",
       "      <td>0.000953</td>\n",
       "      <td>0.020263</td>\n",
       "      <td>0.012671</td>\n",
       "      <td>0.009277</td>\n",
       "      <td>0.000669</td>\n",
       "    </tr>\n",
       "    <tr>\n",
       "      <th>2020-11-12</th>\n",
       "      <td>0.019079</td>\n",
       "      <td>0.000953</td>\n",
       "      <td>0.020263</td>\n",
       "      <td>0.012671</td>\n",
       "      <td>0.009277</td>\n",
       "      <td>0.000669</td>\n",
       "    </tr>\n",
       "    <tr>\n",
       "      <th>2020-11-13</th>\n",
       "      <td>0.019079</td>\n",
       "      <td>0.000953</td>\n",
       "      <td>0.020263</td>\n",
       "      <td>0.012671</td>\n",
       "      <td>0.009277</td>\n",
       "      <td>0.000669</td>\n",
       "    </tr>\n",
       "    <tr>\n",
       "      <th>2020-11-14</th>\n",
       "      <td>0.019079</td>\n",
       "      <td>0.000953</td>\n",
       "      <td>0.020263</td>\n",
       "      <td>0.012671</td>\n",
       "      <td>0.009277</td>\n",
       "      <td>0.000669</td>\n",
       "    </tr>\n",
       "    <tr>\n",
       "      <th>2020-11-15</th>\n",
       "      <td>0.019079</td>\n",
       "      <td>0.000953</td>\n",
       "      <td>0.020263</td>\n",
       "      <td>0.012671</td>\n",
       "      <td>0.009277</td>\n",
       "      <td>0.000669</td>\n",
       "    </tr>\n",
       "  </tbody>\n",
       "</table>\n",
       "</div>"
      ],
      "text/plain": [
       "Country      Austria   Belgium   Estonia   Finland    France     Spain\n",
       "Date                                                                  \n",
       "2020-11-11  0.019079  0.000953  0.020263  0.012671  0.009277  0.000669\n",
       "2020-11-12  0.019079  0.000953  0.020263  0.012671  0.009277  0.000669\n",
       "2020-11-13  0.019079  0.000953  0.020263  0.012671  0.009277  0.000669\n",
       "2020-11-14  0.019079  0.000953  0.020263  0.012671  0.009277  0.000669\n",
       "2020-11-15  0.019079  0.000953  0.020263  0.012671  0.009277  0.000669"
      ]
     },
     "execution_count": 15,
     "metadata": {},
     "output_type": "execute_result"
    }
   ],
   "source": [
    "analyser.history(\"rho\", roll_window=None).tail()"
   ]
  },
  {
   "cell_type": "markdown",
   "metadata": {},
   "source": [
    "### $\\sigma$: Recovery rate $\\mathrm{[-]}$"
   ]
  },
  {
   "cell_type": "code",
   "execution_count": 16,
   "metadata": {
    "collapsed": false
   },
   "outputs": [
    {
     "data": {
      "image/png": "[encoded data removed]",
      "text/plain": [
       "<Figure size 648x432 with 1 Axes>"
      ]
     },
     "metadata": {},
     "output_type": "display_data"
    },
    {
     "data": {
      "text/html": [
       "<div>\n",
       "<style scoped>\n",
       "    .dataframe tbody tr th:only-of-type {\n",
       "        vertical-align: middle;\n",
       "    }\n",
       "\n",
       "    .dataframe tbody tr th {\n",
       "        vertical-align: top;\n",
       "    }\n",
       "\n",
       "    .dataframe thead th {\n",
       "        text-align: right;\n",
       "    }\n",
       "</style>\n",
       "<table border=\"1\" class=\"dataframe\">\n",
       "  <thead>\n",
       "    <tr style=\"text-align: right;\">\n",
       "      <th>Country</th>\n",
       "      <th>Austria</th>\n",
       "      <th>Belgium</th>\n",
       "      <th>Estonia</th>\n",
       "      <th>Finland</th>\n",
       "      <th>France</th>\n",
       "      <th>Spain</th>\n",
       "    </tr>\n",
       "    <tr>\n",
       "      <th>Date</th>\n",
       "      <th></th>\n",
       "      <th></th>\n",
       "      <th></th>\n",
       "      <th></th>\n",
       "      <th></th>\n",
       "      <th></th>\n",
       "    </tr>\n",
       "  </thead>\n",
       "  <tbody>\n",
       "    <tr>\n",
       "      <th>2020-11-11</th>\n",
       "      <td>0.00712</td>\n",
       "      <td>0.000091</td>\n",
       "      <td>0.005899</td>\n",
       "      <td>0.0</td>\n",
       "      <td>0.000266</td>\n",
       "      <td>0.0</td>\n",
       "    </tr>\n",
       "    <tr>\n",
       "      <th>2020-11-12</th>\n",
       "      <td>0.00712</td>\n",
       "      <td>0.000091</td>\n",
       "      <td>0.005899</td>\n",
       "      <td>0.0</td>\n",
       "      <td>0.000266</td>\n",
       "      <td>0.0</td>\n",
       "    </tr>\n",
       "    <tr>\n",
       "      <th>2020-11-13</th>\n",
       "      <td>0.00712</td>\n",
       "      <td>0.000091</td>\n",
       "      <td>0.005899</td>\n",
       "      <td>0.0</td>\n",
       "      <td>0.000266</td>\n",
       "      <td>0.0</td>\n",
       "    </tr>\n",
       "    <tr>\n",
       "      <th>2020-11-14</th>\n",
       "      <td>0.00712</td>\n",
       "      <td>0.000091</td>\n",
       "      <td>0.005899</td>\n",
       "      <td>0.0</td>\n",
       "      <td>0.000266</td>\n",
       "      <td>0.0</td>\n",
       "    </tr>\n",
       "    <tr>\n",
       "      <th>2020-11-15</th>\n",
       "      <td>0.00712</td>\n",
       "      <td>0.000091</td>\n",
       "      <td>0.005899</td>\n",
       "      <td>0.0</td>\n",
       "      <td>0.000266</td>\n",
       "      <td>0.0</td>\n",
       "    </tr>\n",
       "  </tbody>\n",
       "</table>\n",
       "</div>"
      ],
      "text/plain": [
       "Country     Austria   Belgium   Estonia  Finland    France  Spain\n",
       "Date                                                             \n",
       "2020-11-11  0.00712  0.000091  0.005899      0.0  0.000266    0.0\n",
       "2020-11-12  0.00712  0.000091  0.005899      0.0  0.000266    0.0\n",
       "2020-11-13  0.00712  0.000091  0.005899      0.0  0.000266    0.0\n",
       "2020-11-14  0.00712  0.000091  0.005899      0.0  0.000266    0.0\n",
       "2020-11-15  0.00712  0.000091  0.005899      0.0  0.000266    0.0"
      ]
     },
     "execution_count": 16,
     "metadata": {},
     "output_type": "execute_result"
    }
   ],
   "source": [
    "analyser.history(\"sigma\", roll_window=None).tail()"
   ]
  },
  {
   "cell_type": "markdown",
   "metadata": {},
   "source": [
    "### $\\kappa$: Mortality rate of infected cases $\\mathrm{[-]}$"
   ]
  },
  {
   "cell_type": "code",
   "execution_count": 17,
   "metadata": {
    "collapsed": false
   },
   "outputs": [
    {
     "data": {
      "image/png": "[encoded data removed]",
      "text/plain": [
       "<Figure size 648x432 with 1 Axes>"
      ]
     },
     "metadata": {},
     "output_type": "display_data"
    },
    {
     "data": {
      "text/html": [
       "<div>\n",
       "<style scoped>\n",
       "    .dataframe tbody tr th:only-of-type {\n",
       "        vertical-align: middle;\n",
       "    }\n",
       "\n",
       "    .dataframe tbody tr th {\n",
       "        vertical-align: top;\n",
       "    }\n",
       "\n",
       "    .dataframe thead th {\n",
       "        text-align: right;\n",
       "    }\n",
       "</style>\n",
       "<table border=\"1\" class=\"dataframe\">\n",
       "  <thead>\n",
       "    <tr style=\"text-align: right;\">\n",
       "      <th>Country</th>\n",
       "      <th>Austria</th>\n",
       "      <th>Belgium</th>\n",
       "      <th>Estonia</th>\n",
       "      <th>Finland</th>\n",
       "      <th>France</th>\n",
       "      <th>Spain</th>\n",
       "    </tr>\n",
       "    <tr>\n",
       "      <th>Date</th>\n",
       "      <th></th>\n",
       "      <th></th>\n",
       "      <th></th>\n",
       "      <th></th>\n",
       "      <th></th>\n",
       "      <th></th>\n",
       "    </tr>\n",
       "  </thead>\n",
       "  <tbody>\n",
       "    <tr>\n",
       "      <th>2020-11-11</th>\n",
       "      <td>0.000098</td>\n",
       "      <td>0.00007</td>\n",
       "      <td>0.000079</td>\n",
       "      <td>0.000065</td>\n",
       "      <td>0.000079</td>\n",
       "      <td>0.000066</td>\n",
       "    </tr>\n",
       "    <tr>\n",
       "      <th>2020-11-12</th>\n",
       "      <td>0.000098</td>\n",
       "      <td>0.00007</td>\n",
       "      <td>0.000079</td>\n",
       "      <td>0.000065</td>\n",
       "      <td>0.000079</td>\n",
       "      <td>0.000066</td>\n",
       "    </tr>\n",
       "    <tr>\n",
       "      <th>2020-11-13</th>\n",
       "      <td>0.000098</td>\n",
       "      <td>0.00007</td>\n",
       "      <td>0.000079</td>\n",
       "      <td>0.000065</td>\n",
       "      <td>0.000079</td>\n",
       "      <td>0.000066</td>\n",
       "    </tr>\n",
       "    <tr>\n",
       "      <th>2020-11-14</th>\n",
       "      <td>0.000098</td>\n",
       "      <td>0.00007</td>\n",
       "      <td>0.000079</td>\n",
       "      <td>0.000065</td>\n",
       "      <td>0.000079</td>\n",
       "      <td>0.000066</td>\n",
       "    </tr>\n",
       "    <tr>\n",
       "      <th>2020-11-15</th>\n",
       "      <td>0.000098</td>\n",
       "      <td>0.00007</td>\n",
       "      <td>0.000079</td>\n",
       "      <td>0.000065</td>\n",
       "      <td>0.000079</td>\n",
       "      <td>0.000066</td>\n",
       "    </tr>\n",
       "  </tbody>\n",
       "</table>\n",
       "</div>"
      ],
      "text/plain": [
       "Country      Austria  Belgium   Estonia   Finland    France     Spain\n",
       "Date                                                                 \n",
       "2020-11-11  0.000098  0.00007  0.000079  0.000065  0.000079  0.000066\n",
       "2020-11-12  0.000098  0.00007  0.000079  0.000065  0.000079  0.000066\n",
       "2020-11-13  0.000098  0.00007  0.000079  0.000065  0.000079  0.000066\n",
       "2020-11-14  0.000098  0.00007  0.000079  0.000065  0.000079  0.000066\n",
       "2020-11-15  0.000098  0.00007  0.000079  0.000065  0.000079  0.000066"
      ]
     },
     "execution_count": 17,
     "metadata": {},
     "output_type": "execute_result"
    }
   ],
   "source": [
    "analyser.history(\"kappa\", roll_window=None).tail()"
   ]
  },
  {
   "cell_type": "markdown",
   "metadata": {},
   "source": [
    "### $\\theta$: Mortality rate of S$^\\ast$ cases $\\mathrm{[-]}$"
   ]
  },
  {
   "cell_type": "code",
   "execution_count": 18,
   "metadata": {
    "collapsed": false
   },
   "outputs": [
    {
     "data": {
      "image/png": "[encoded data removed]",
      "text/plain": [
       "<Figure size 648x432 with 1 Axes>"
      ]
     },
     "metadata": {},
     "output_type": "display_data"
    },
    {
     "data": {
      "text/html": [
       "<div>\n",
       "<style scoped>\n",
       "    .dataframe tbody tr th:only-of-type {\n",
       "        vertical-align: middle;\n",
       "    }\n",
       "\n",
       "    .dataframe tbody tr th {\n",
       "        vertical-align: top;\n",
       "    }\n",
       "\n",
       "    .dataframe thead th {\n",
       "        text-align: right;\n",
       "    }\n",
       "</style>\n",
       "<table border=\"1\" class=\"dataframe\">\n",
       "  <thead>\n",
       "    <tr style=\"text-align: right;\">\n",
       "      <th>Country</th>\n",
       "      <th>Austria</th>\n",
       "      <th>Belgium</th>\n",
       "      <th>Estonia</th>\n",
       "      <th>Finland</th>\n",
       "      <th>France</th>\n",
       "      <th>Spain</th>\n",
       "    </tr>\n",
       "    <tr>\n",
       "      <th>Date</th>\n",
       "      <th></th>\n",
       "      <th></th>\n",
       "      <th></th>\n",
       "      <th></th>\n",
       "      <th></th>\n",
       "      <th></th>\n",
       "    </tr>\n",
       "  </thead>\n",
       "  <tbody>\n",
       "    <tr>\n",
       "      <th>2020-11-11</th>\n",
       "      <td>0.000436</td>\n",
       "      <td>0.112948</td>\n",
       "      <td>0.000885</td>\n",
       "      <td>0.000565</td>\n",
       "      <td>0.000892</td>\n",
       "      <td>0.136321</td>\n",
       "    </tr>\n",
       "    <tr>\n",
       "      <th>2020-11-12</th>\n",
       "      <td>0.000436</td>\n",
       "      <td>0.112948</td>\n",
       "      <td>0.000885</td>\n",
       "      <td>0.000565</td>\n",
       "      <td>0.000892</td>\n",
       "      <td>0.136321</td>\n",
       "    </tr>\n",
       "    <tr>\n",
       "      <th>2020-11-13</th>\n",
       "      <td>0.000436</td>\n",
       "      <td>0.112948</td>\n",
       "      <td>0.000885</td>\n",
       "      <td>0.000565</td>\n",
       "      <td>0.000892</td>\n",
       "      <td>0.136321</td>\n",
       "    </tr>\n",
       "    <tr>\n",
       "      <th>2020-11-14</th>\n",
       "      <td>0.000436</td>\n",
       "      <td>0.112948</td>\n",
       "      <td>0.000885</td>\n",
       "      <td>0.000565</td>\n",
       "      <td>0.000892</td>\n",
       "      <td>0.136321</td>\n",
       "    </tr>\n",
       "    <tr>\n",
       "      <th>2020-11-15</th>\n",
       "      <td>0.000436</td>\n",
       "      <td>0.112948</td>\n",
       "      <td>0.000885</td>\n",
       "      <td>0.000565</td>\n",
       "      <td>0.000892</td>\n",
       "      <td>0.136321</td>\n",
       "    </tr>\n",
       "  </tbody>\n",
       "</table>\n",
       "</div>"
      ],
      "text/plain": [
       "Country      Austria   Belgium   Estonia   Finland    France     Spain\n",
       "Date                                                                  \n",
       "2020-11-11  0.000436  0.112948  0.000885  0.000565  0.000892  0.136321\n",
       "2020-11-12  0.000436  0.112948  0.000885  0.000565  0.000892  0.136321\n",
       "2020-11-13  0.000436  0.112948  0.000885  0.000565  0.000892  0.136321\n",
       "2020-11-14  0.000436  0.112948  0.000885  0.000565  0.000892  0.136321\n",
       "2020-11-15  0.000436  0.112948  0.000885  0.000565  0.000892  0.136321"
      ]
     },
     "execution_count": 18,
     "metadata": {},
     "output_type": "execute_result"
    }
   ],
   "source": [
    "analyser.history(\"theta\", roll_window=None).tail()"
   ]
  },
  {
   "cell_type": "markdown",
   "metadata": {},
   "source": [
    "## (Experimental): Relationship of OxCGRT index and parameter values\n",
    "Government responses will impact on parameter values of ODE models about 14 days later. Here, we will investigate on the relationship of [stringency index (from OxCGRT)](https://github.com/OxCGRT/covid-policy-tracker/blob/master/documentation/index_methodology.md) and reproduction number/model parameters.\n"
   ]
  },
  {
   "cell_type": "code",
   "execution_count": 19,
   "metadata": {
    "collapsed": false
   },
   "outputs": [],
   "source": [
    "%matplotlib inline\n",
    "from matplotlib import pyplot as plt\n",
    "import seaborn as sns\n",
    "import pandas as pd"
   ]
  },
  {
   "cell_type": "code",
   "execution_count": 20,
   "metadata": {
    "collapsed": false
   },
   "outputs": [
    {
     "name": "stdout",
     "output_type": "stream",
     "text": [
      "<class 'pandas.core.frame.DataFrame'>\n",
      "Int64Index: 16542 entries, 0 to 16611\n",
      "Data columns (total 19 columns):\n",
      " #   Column                               Non-Null Count  Dtype         \n",
      "---  ------                               --------------  -----         \n",
      " 0   Date                                 16542 non-null  datetime64[ns]\n",
      " 1   Country                              16542 non-null  object        \n",
      " 2   Rt                                   16542 non-null  float64       \n",
      " 3   theta                                16542 non-null  float64       \n",
      " 4   kappa                                16542 non-null  float64       \n",
      " 5   rho                                  16542 non-null  float64       \n",
      " 6   sigma                                16542 non-null  float64       \n",
      " 7   School_closing                       16542 non-null  int64         \n",
      " 8   Workplace_closing                    16542 non-null  int64         \n",
      " 9   Cancel_events                        16542 non-null  int64         \n",
      " 10  Gatherings_restrictions              16542 non-null  int64         \n",
      " 11  Transport_closing                    16542 non-null  int64         \n",
      " 12  Stay_home_restrictions               16542 non-null  int64         \n",
      " 13  Internal_movement_restrictions       16542 non-null  int64         \n",
      " 14  International_movement_restrictions  16542 non-null  int64         \n",
      " 15  Information_campaigns                16542 non-null  int64         \n",
      " 16  Testing_policy                       16542 non-null  int64         \n",
      " 17  Contact_tracing                      16542 non-null  int64         \n",
      " 18  Stringency_index                     16542 non-null  float64       \n",
      "dtypes: datetime64[ns](1), float64(6), int64(11), object(1)\n",
      "memory usage: 2.5+ MB\n"
     ]
    }
   ],
   "source": [
    "df = analyser.track()\n",
    "param_cols = [\"Rt\", *cs.SIRF.PARAMETERS]\n",
    "oxcgrt_cols = oxcgrt_data.OXCGRT_VARS[:]\n",
    "cols = param_cols + oxcgrt_cols\n",
    "delay = 14\n",
    "\n",
    "for col in param_cols:\n",
    "    df[col] = pd.to_numeric(df[col], errors=\"coerce\")\n",
    "    df[col] = df.groupby(\"Country\")[col].shift(0 - delay)\n",
    "\n",
    "df = df.dropna(how=\"any\")\n",
    "df = df.loc[:, [\"Date\", \"Country\", *cols]]\n",
    "track_df = df.copy()\n",
    "track_df.info()"
   ]
  },
  {
   "cell_type": "code",
   "execution_count": 21,
   "metadata": {
    "collapsed": false
   },
   "outputs": [
    {
     "data": {
      "text/html": [
       "<style  type=\"text/css\" >\n",
       "#T_e4c21e60_272a_11eb_bfbd_525400a08725row0_col0,#T_e4c21e60_272a_11eb_bfbd_525400a08725row1_col1,#T_e4c21e60_272a_11eb_bfbd_525400a08725row2_col2,#T_e4c21e60_272a_11eb_bfbd_525400a08725row3_col3,#T_e4c21e60_272a_11eb_bfbd_525400a08725row4_col4,#T_e4c21e60_272a_11eb_bfbd_525400a08725row5_col5,#T_e4c21e60_272a_11eb_bfbd_525400a08725row6_col6,#T_e4c21e60_272a_11eb_bfbd_525400a08725row7_col7,#T_e4c21e60_272a_11eb_bfbd_525400a08725row8_col8,#T_e4c21e60_272a_11eb_bfbd_525400a08725row9_col9,#T_e4c21e60_272a_11eb_bfbd_525400a08725row10_col10,#T_e4c21e60_272a_11eb_bfbd_525400a08725row11_col11,#T_e4c21e60_272a_11eb_bfbd_525400a08725row12_col12,#T_e4c21e60_272a_11eb_bfbd_525400a08725row13_col13,#T_e4c21e60_272a_11eb_bfbd_525400a08725row14_col14,#T_e4c21e60_272a_11eb_bfbd_525400a08725row15_col15,#T_e4c21e60_272a_11eb_bfbd_525400a08725row16_col16{\n",
       "            background-color:  #023858;\n",
       "            color:  #f1f1f1;\n",
       "        }#T_e4c21e60_272a_11eb_bfbd_525400a08725row0_col1,#T_e4c21e60_272a_11eb_bfbd_525400a08725row1_col0{\n",
       "            background-color:  #b5c4df;\n",
       "            color:  #000000;\n",
       "        }#T_e4c21e60_272a_11eb_bfbd_525400a08725row0_col2,#T_e4c21e60_272a_11eb_bfbd_525400a08725row2_col0{\n",
       "            background-color:  #9ab8d8;\n",
       "            color:  #000000;\n",
       "        }#T_e4c21e60_272a_11eb_bfbd_525400a08725row0_col3,#T_e4c21e60_272a_11eb_bfbd_525400a08725row3_col0,#T_e4c21e60_272a_11eb_bfbd_525400a08725row5_col13,#T_e4c21e60_272a_11eb_bfbd_525400a08725row10_col13,#T_e4c21e60_272a_11eb_bfbd_525400a08725row13_col5,#T_e4c21e60_272a_11eb_bfbd_525400a08725row13_col10{\n",
       "            background-color:  #348ebf;\n",
       "            color:  #000000;\n",
       "        }#T_e4c21e60_272a_11eb_bfbd_525400a08725row0_col4,#T_e4c21e60_272a_11eb_bfbd_525400a08725row2_col12,#T_e4c21e60_272a_11eb_bfbd_525400a08725row2_col16,#T_e4c21e60_272a_11eb_bfbd_525400a08725row4_col0,#T_e4c21e60_272a_11eb_bfbd_525400a08725row12_col2,#T_e4c21e60_272a_11eb_bfbd_525400a08725row16_col2{\n",
       "            background-color:  #b4c4df;\n",
       "            color:  #000000;\n",
       "        }#T_e4c21e60_272a_11eb_bfbd_525400a08725row0_col5,#T_e4c21e60_272a_11eb_bfbd_525400a08725row5_col0{\n",
       "            background-color:  #d8d7e9;\n",
       "            color:  #000000;\n",
       "        }#T_e4c21e60_272a_11eb_bfbd_525400a08725row0_col6,#T_e4c21e60_272a_11eb_bfbd_525400a08725row0_col10,#T_e4c21e60_272a_11eb_bfbd_525400a08725row6_col0,#T_e4c21e60_272a_11eb_bfbd_525400a08725row10_col0{\n",
       "            background-color:  #d7d6e9;\n",
       "            color:  #000000;\n",
       "        }#T_e4c21e60_272a_11eb_bfbd_525400a08725row0_col7,#T_e4c21e60_272a_11eb_bfbd_525400a08725row3_col10,#T_e4c21e60_272a_11eb_bfbd_525400a08725row7_col0,#T_e4c21e60_272a_11eb_bfbd_525400a08725row10_col3{\n",
       "            background-color:  #d9d8ea;\n",
       "            color:  #000000;\n",
       "        }#T_e4c21e60_272a_11eb_bfbd_525400a08725row0_col8,#T_e4c21e60_272a_11eb_bfbd_525400a08725row8_col0{\n",
       "            background-color:  #e6e2ef;\n",
       "            color:  #000000;\n",
       "        }#T_e4c21e60_272a_11eb_bfbd_525400a08725row0_col9,#T_e4c21e60_272a_11eb_bfbd_525400a08725row0_col11,#T_e4c21e60_272a_11eb_bfbd_525400a08725row0_col16,#T_e4c21e60_272a_11eb_bfbd_525400a08725row9_col0,#T_e4c21e60_272a_11eb_bfbd_525400a08725row11_col0,#T_e4c21e60_272a_11eb_bfbd_525400a08725row16_col0{\n",
       "            background-color:  #d6d6e9;\n",
       "            color:  #000000;\n",
       "        }#T_e4c21e60_272a_11eb_bfbd_525400a08725row0_col12,#T_e4c21e60_272a_11eb_bfbd_525400a08725row12_col0{\n",
       "            background-color:  #e1dfed;\n",
       "            color:  #000000;\n",
       "        }#T_e4c21e60_272a_11eb_bfbd_525400a08725row0_col13,#T_e4c21e60_272a_11eb_bfbd_525400a08725row13_col0{\n",
       "            background-color:  #8bb2d4;\n",
       "            color:  #000000;\n",
       "        }#T_e4c21e60_272a_11eb_bfbd_525400a08725row0_col14,#T_e4c21e60_272a_11eb_bfbd_525400a08725row14_col0{\n",
       "            background-color:  #bdc8e1;\n",
       "            color:  #000000;\n",
       "        }#T_e4c21e60_272a_11eb_bfbd_525400a08725row0_col15,#T_e4c21e60_272a_11eb_bfbd_525400a08725row4_col7,#T_e4c21e60_272a_11eb_bfbd_525400a08725row7_col4,#T_e4c21e60_272a_11eb_bfbd_525400a08725row15_col0{\n",
       "            background-color:  #9fbad9;\n",
       "            color:  #000000;\n",
       "        }#T_e4c21e60_272a_11eb_bfbd_525400a08725row1_col2,#T_e4c21e60_272a_11eb_bfbd_525400a08725row2_col1{\n",
       "            background-color:  #04629a;\n",
       "            color:  #f1f1f1;\n",
       "        }#T_e4c21e60_272a_11eb_bfbd_525400a08725row1_col3,#T_e4c21e60_272a_11eb_bfbd_525400a08725row3_col1,#T_e4c21e60_272a_11eb_bfbd_525400a08725row4_col5,#T_e4c21e60_272a_11eb_bfbd_525400a08725row5_col4{\n",
       "            background-color:  #a7bddb;\n",
       "            color:  #000000;\n",
       "        }#T_e4c21e60_272a_11eb_bfbd_525400a08725row1_col4,#T_e4c21e60_272a_11eb_bfbd_525400a08725row4_col1,#T_e4c21e60_272a_11eb_bfbd_525400a08725row4_col12,#T_e4c21e60_272a_11eb_bfbd_525400a08725row12_col4{\n",
       "            background-color:  #b0c2de;\n",
       "            color:  #000000;\n",
       "        }#T_e4c21e60_272a_11eb_bfbd_525400a08725row1_col5,#T_e4c21e60_272a_11eb_bfbd_525400a08725row5_col1{\n",
       "            background-color:  #6ba5cd;\n",
       "            color:  #000000;\n",
       "        }#T_e4c21e60_272a_11eb_bfbd_525400a08725row1_col6,#T_e4c21e60_272a_11eb_bfbd_525400a08725row6_col1{\n",
       "            background-color:  #71a8ce;\n",
       "            color:  #000000;\n",
       "        }#T_e4c21e60_272a_11eb_bfbd_525400a08725row1_col7,#T_e4c21e60_272a_11eb_bfbd_525400a08725row7_col1{\n",
       "            background-color:  #75a9cf;\n",
       "            color:  #000000;\n",
       "        }#T_e4c21e60_272a_11eb_bfbd_525400a08725row1_col8,#T_e4c21e60_272a_11eb_bfbd_525400a08725row8_col1{\n",
       "            background-color:  #88b1d4;\n",
       "            color:  #000000;\n",
       "        }#T_e4c21e60_272a_11eb_bfbd_525400a08725row1_col9,#T_e4c21e60_272a_11eb_bfbd_525400a08725row2_col10,#T_e4c21e60_272a_11eb_bfbd_525400a08725row9_col1,#T_e4c21e60_272a_11eb_bfbd_525400a08725row10_col2{\n",
       "            background-color:  #b3c3de;\n",
       "            color:  #000000;\n",
       "        }#T_e4c21e60_272a_11eb_bfbd_525400a08725row1_col10,#T_e4c21e60_272a_11eb_bfbd_525400a08725row10_col1{\n",
       "            background-color:  #84b0d3;\n",
       "            color:  #000000;\n",
       "        }#T_e4c21e60_272a_11eb_bfbd_525400a08725row1_col11,#T_e4c21e60_272a_11eb_bfbd_525400a08725row11_col1{\n",
       "            background-color:  #76aad0;\n",
       "            color:  #000000;\n",
       "        }#T_e4c21e60_272a_11eb_bfbd_525400a08725row1_col12,#T_e4c21e60_272a_11eb_bfbd_525400a08725row4_col9,#T_e4c21e60_272a_11eb_bfbd_525400a08725row9_col4,#T_e4c21e60_272a_11eb_bfbd_525400a08725row12_col1{\n",
       "            background-color:  #7eadd1;\n",
       "            color:  #000000;\n",
       "        }#T_e4c21e60_272a_11eb_bfbd_525400a08725row1_col13,#T_e4c21e60_272a_11eb_bfbd_525400a08725row13_col1{\n",
       "            background-color:  #97b7d7;\n",
       "            color:  #000000;\n",
       "        }#T_e4c21e60_272a_11eb_bfbd_525400a08725row1_col14,#T_e4c21e60_272a_11eb_bfbd_525400a08725row14_col1{\n",
       "            background-color:  #d2d3e7;\n",
       "            color:  #000000;\n",
       "        }#T_e4c21e60_272a_11eb_bfbd_525400a08725row1_col15,#T_e4c21e60_272a_11eb_bfbd_525400a08725row2_col15,#T_e4c21e60_272a_11eb_bfbd_525400a08725row15_col1,#T_e4c21e60_272a_11eb_bfbd_525400a08725row15_col2{\n",
       "            background-color:  #a8bedc;\n",
       "            color:  #000000;\n",
       "        }#T_e4c21e60_272a_11eb_bfbd_525400a08725row1_col16,#T_e4c21e60_272a_11eb_bfbd_525400a08725row16_col1{\n",
       "            background-color:  #73a9cf;\n",
       "            color:  #000000;\n",
       "        }#T_e4c21e60_272a_11eb_bfbd_525400a08725row2_col3,#T_e4c21e60_272a_11eb_bfbd_525400a08725row3_col2,#T_e4c21e60_272a_11eb_bfbd_525400a08725row12_col14,#T_e4c21e60_272a_11eb_bfbd_525400a08725row14_col12{\n",
       "            background-color:  #5c9fc9;\n",
       "            color:  #000000;\n",
       "        }#T_e4c21e60_272a_11eb_bfbd_525400a08725row2_col4,#T_e4c21e60_272a_11eb_bfbd_525400a08725row4_col2{\n",
       "            background-color:  #a2bcda;\n",
       "            color:  #000000;\n",
       "        }#T_e4c21e60_272a_11eb_bfbd_525400a08725row2_col5,#T_e4c21e60_272a_11eb_bfbd_525400a08725row5_col2{\n",
       "            background-color:  #b1c2de;\n",
       "            color:  #000000;\n",
       "        }#T_e4c21e60_272a_11eb_bfbd_525400a08725row2_col6,#T_e4c21e60_272a_11eb_bfbd_525400a08725row2_col13,#T_e4c21e60_272a_11eb_bfbd_525400a08725row6_col2,#T_e4c21e60_272a_11eb_bfbd_525400a08725row13_col2{\n",
       "            background-color:  #afc1dd;\n",
       "            color:  #000000;\n",
       "        }#T_e4c21e60_272a_11eb_bfbd_525400a08725row2_col7,#T_e4c21e60_272a_11eb_bfbd_525400a08725row2_col14,#T_e4c21e60_272a_11eb_bfbd_525400a08725row6_col14,#T_e4c21e60_272a_11eb_bfbd_525400a08725row6_col15,#T_e4c21e60_272a_11eb_bfbd_525400a08725row7_col2,#T_e4c21e60_272a_11eb_bfbd_525400a08725row14_col2,#T_e4c21e60_272a_11eb_bfbd_525400a08725row14_col6,#T_e4c21e60_272a_11eb_bfbd_525400a08725row15_col6{\n",
       "            background-color:  #b7c5df;\n",
       "            color:  #000000;\n",
       "        }#T_e4c21e60_272a_11eb_bfbd_525400a08725row2_col8,#T_e4c21e60_272a_11eb_bfbd_525400a08725row8_col2{\n",
       "            background-color:  #bcc7e1;\n",
       "            color:  #000000;\n",
       "        }#T_e4c21e60_272a_11eb_bfbd_525400a08725row2_col9,#T_e4c21e60_272a_11eb_bfbd_525400a08725row4_col11,#T_e4c21e60_272a_11eb_bfbd_525400a08725row9_col2,#T_e4c21e60_272a_11eb_bfbd_525400a08725row11_col4{\n",
       "            background-color:  #bfc9e1;\n",
       "            color:  #000000;\n",
       "        }#T_e4c21e60_272a_11eb_bfbd_525400a08725row2_col11,#T_e4c21e60_272a_11eb_bfbd_525400a08725row11_col2,#T_e4c21e60_272a_11eb_bfbd_525400a08725row14_col16,#T_e4c21e60_272a_11eb_bfbd_525400a08725row16_col14{\n",
       "            background-color:  #acc0dd;\n",
       "            color:  #000000;\n",
       "        }#T_e4c21e60_272a_11eb_bfbd_525400a08725row3_col4,#T_e4c21e60_272a_11eb_bfbd_525400a08725row4_col3{\n",
       "            background-color:  #5ea0ca;\n",
       "            color:  #000000;\n",
       "        }#T_e4c21e60_272a_11eb_bfbd_525400a08725row3_col5,#T_e4c21e60_272a_11eb_bfbd_525400a08725row5_col3{\n",
       "            background-color:  #ebe6f2;\n",
       "            color:  #000000;\n",
       "        }#T_e4c21e60_272a_11eb_bfbd_525400a08725row3_col6,#T_e4c21e60_272a_11eb_bfbd_525400a08725row6_col3{\n",
       "            background-color:  #eee9f3;\n",
       "            color:  #000000;\n",
       "        }#T_e4c21e60_272a_11eb_bfbd_525400a08725row3_col7,#T_e4c21e60_272a_11eb_bfbd_525400a08725row7_col3{\n",
       "            background-color:  #f0eaf4;\n",
       "            color:  #000000;\n",
       "        }#T_e4c21e60_272a_11eb_bfbd_525400a08725row3_col8,#T_e4c21e60_272a_11eb_bfbd_525400a08725row8_col3{\n",
       "            background-color:  #fbf3f9;\n",
       "            color:  #000000;\n",
       "        }#T_e4c21e60_272a_11eb_bfbd_525400a08725row3_col9,#T_e4c21e60_272a_11eb_bfbd_525400a08725row9_col3{\n",
       "            background-color:  #e5e1ef;\n",
       "            color:  #000000;\n",
       "        }#T_e4c21e60_272a_11eb_bfbd_525400a08725row3_col11,#T_e4c21e60_272a_11eb_bfbd_525400a08725row11_col3{\n",
       "            background-color:  #ece7f2;\n",
       "            color:  #000000;\n",
       "        }#T_e4c21e60_272a_11eb_bfbd_525400a08725row3_col12,#T_e4c21e60_272a_11eb_bfbd_525400a08725row12_col3{\n",
       "            background-color:  #fff7fb;\n",
       "            color:  #000000;\n",
       "        }#T_e4c21e60_272a_11eb_bfbd_525400a08725row3_col13,#T_e4c21e60_272a_11eb_bfbd_525400a08725row13_col3{\n",
       "            background-color:  #e7e3f0;\n",
       "            color:  #000000;\n",
       "        }#T_e4c21e60_272a_11eb_bfbd_525400a08725row3_col14,#T_e4c21e60_272a_11eb_bfbd_525400a08725row14_col3{\n",
       "            background-color:  #d2d2e7;\n",
       "            color:  #000000;\n",
       "        }#T_e4c21e60_272a_11eb_bfbd_525400a08725row3_col15,#T_e4c21e60_272a_11eb_bfbd_525400a08725row15_col3{\n",
       "            background-color:  #c8cde4;\n",
       "            color:  #000000;\n",
       "        }#T_e4c21e60_272a_11eb_bfbd_525400a08725row3_col16,#T_e4c21e60_272a_11eb_bfbd_525400a08725row16_col3{\n",
       "            background-color:  #ede8f3;\n",
       "            color:  #000000;\n",
       "        }#T_e4c21e60_272a_11eb_bfbd_525400a08725row4_col6,#T_e4c21e60_272a_11eb_bfbd_525400a08725row6_col4{\n",
       "            background-color:  #abbfdc;\n",
       "            color:  #000000;\n",
       "        }#T_e4c21e60_272a_11eb_bfbd_525400a08725row4_col8,#T_e4c21e60_272a_11eb_bfbd_525400a08725row8_col4{\n",
       "            background-color:  #a5bddb;\n",
       "            color:  #000000;\n",
       "        }#T_e4c21e60_272a_11eb_bfbd_525400a08725row4_col10,#T_e4c21e60_272a_11eb_bfbd_525400a08725row10_col4{\n",
       "            background-color:  #549cc7;\n",
       "            color:  #000000;\n",
       "        }#T_e4c21e60_272a_11eb_bfbd_525400a08725row4_col13,#T_e4c21e60_272a_11eb_bfbd_525400a08725row13_col4{\n",
       "            background-color:  #8fb4d6;\n",
       "            color:  #000000;\n",
       "        }#T_e4c21e60_272a_11eb_bfbd_525400a08725row4_col14,#T_e4c21e60_272a_11eb_bfbd_525400a08725row14_col4{\n",
       "            background-color:  #509ac6;\n",
       "            color:  #000000;\n",
       "        }#T_e4c21e60_272a_11eb_bfbd_525400a08725row4_col15,#T_e4c21e60_272a_11eb_bfbd_525400a08725row15_col4{\n",
       "            background-color:  #529bc7;\n",
       "            color:  #000000;\n",
       "        }#T_e4c21e60_272a_11eb_bfbd_525400a08725row4_col16,#T_e4c21e60_272a_11eb_bfbd_525400a08725row16_col4{\n",
       "            background-color:  #a9bfdc;\n",
       "            color:  #000000;\n",
       "        }#T_e4c21e60_272a_11eb_bfbd_525400a08725row5_col6,#T_e4c21e60_272a_11eb_bfbd_525400a08725row6_col5{\n",
       "            background-color:  #034c78;\n",
       "            color:  #f1f1f1;\n",
       "        }#T_e4c21e60_272a_11eb_bfbd_525400a08725row5_col7,#T_e4c21e60_272a_11eb_bfbd_525400a08725row7_col5,#T_e4c21e60_272a_11eb_bfbd_525400a08725row8_col11,#T_e4c21e60_272a_11eb_bfbd_525400a08725row11_col8{\n",
       "            background-color:  #046097;\n",
       "            color:  #f1f1f1;\n",
       "        }#T_e4c21e60_272a_11eb_bfbd_525400a08725row5_col8,#T_e4c21e60_272a_11eb_bfbd_525400a08725row8_col5,#T_e4c21e60_272a_11eb_bfbd_525400a08725row10_col12,#T_e4c21e60_272a_11eb_bfbd_525400a08725row11_col16,#T_e4c21e60_272a_11eb_bfbd_525400a08725row12_col10,#T_e4c21e60_272a_11eb_bfbd_525400a08725row12_col13,#T_e4c21e60_272a_11eb_bfbd_525400a08725row13_col12,#T_e4c21e60_272a_11eb_bfbd_525400a08725row16_col11{\n",
       "            background-color:  #0771b1;\n",
       "            color:  #f1f1f1;\n",
       "        }#T_e4c21e60_272a_11eb_bfbd_525400a08725row5_col9,#T_e4c21e60_272a_11eb_bfbd_525400a08725row8_col13,#T_e4c21e60_272a_11eb_bfbd_525400a08725row9_col5,#T_e4c21e60_272a_11eb_bfbd_525400a08725row13_col8{\n",
       "            background-color:  #1c7fb8;\n",
       "            color:  #000000;\n",
       "        }#T_e4c21e60_272a_11eb_bfbd_525400a08725row5_col10,#T_e4c21e60_272a_11eb_bfbd_525400a08725row6_col10,#T_e4c21e60_272a_11eb_bfbd_525400a08725row6_col12,#T_e4c21e60_272a_11eb_bfbd_525400a08725row10_col5,#T_e4c21e60_272a_11eb_bfbd_525400a08725row10_col6,#T_e4c21e60_272a_11eb_bfbd_525400a08725row12_col6{\n",
       "            background-color:  #04649e;\n",
       "            color:  #f1f1f1;\n",
       "        }#T_e4c21e60_272a_11eb_bfbd_525400a08725row5_col11,#T_e4c21e60_272a_11eb_bfbd_525400a08725row11_col5{\n",
       "            background-color:  #2685bb;\n",
       "            color:  #000000;\n",
       "        }#T_e4c21e60_272a_11eb_bfbd_525400a08725row5_col12,#T_e4c21e60_272a_11eb_bfbd_525400a08725row12_col5{\n",
       "            background-color:  #0566a0;\n",
       "            color:  #f1f1f1;\n",
       "        }#T_e4c21e60_272a_11eb_bfbd_525400a08725row5_col14,#T_e4c21e60_272a_11eb_bfbd_525400a08725row14_col5{\n",
       "            background-color:  #c9cee4;\n",
       "            color:  #000000;\n",
       "        }#T_e4c21e60_272a_11eb_bfbd_525400a08725row5_col15,#T_e4c21e60_272a_11eb_bfbd_525400a08725row15_col5{\n",
       "            background-color:  #c1cae2;\n",
       "            color:  #000000;\n",
       "        }#T_e4c21e60_272a_11eb_bfbd_525400a08725row5_col16,#T_e4c21e60_272a_11eb_bfbd_525400a08725row16_col5{\n",
       "            background-color:  #034b76;\n",
       "            color:  #f1f1f1;\n",
       "        }#T_e4c21e60_272a_11eb_bfbd_525400a08725row6_col7,#T_e4c21e60_272a_11eb_bfbd_525400a08725row7_col6{\n",
       "            background-color:  #04598c;\n",
       "            color:  #f1f1f1;\n",
       "        }#T_e4c21e60_272a_11eb_bfbd_525400a08725row6_col8,#T_e4c21e60_272a_11eb_bfbd_525400a08725row8_col6{\n",
       "            background-color:  #056ba9;\n",
       "            color:  #f1f1f1;\n",
       "        }#T_e4c21e60_272a_11eb_bfbd_525400a08725row6_col9,#T_e4c21e60_272a_11eb_bfbd_525400a08725row9_col6,#T_e4c21e60_272a_11eb_bfbd_525400a08725row11_col12,#T_e4c21e60_272a_11eb_bfbd_525400a08725row12_col11,#T_e4c21e60_272a_11eb_bfbd_525400a08725row13_col15,#T_e4c21e60_272a_11eb_bfbd_525400a08725row15_col13{\n",
       "            background-color:  #197db7;\n",
       "            color:  #000000;\n",
       "        }#T_e4c21e60_272a_11eb_bfbd_525400a08725row6_col11,#T_e4c21e60_272a_11eb_bfbd_525400a08725row11_col6{\n",
       "            background-color:  #328dbf;\n",
       "            color:  #000000;\n",
       "        }#T_e4c21e60_272a_11eb_bfbd_525400a08725row6_col13,#T_e4c21e60_272a_11eb_bfbd_525400a08725row7_col11,#T_e4c21e60_272a_11eb_bfbd_525400a08725row8_col15,#T_e4c21e60_272a_11eb_bfbd_525400a08725row9_col13,#T_e4c21e60_272a_11eb_bfbd_525400a08725row11_col7,#T_e4c21e60_272a_11eb_bfbd_525400a08725row13_col6,#T_e4c21e60_272a_11eb_bfbd_525400a08725row13_col9,#T_e4c21e60_272a_11eb_bfbd_525400a08725row15_col8{\n",
       "            background-color:  #308cbe;\n",
       "            color:  #000000;\n",
       "        }#T_e4c21e60_272a_11eb_bfbd_525400a08725row6_col16,#T_e4c21e60_272a_11eb_bfbd_525400a08725row16_col6{\n",
       "            background-color:  #034e7b;\n",
       "            color:  #f1f1f1;\n",
       "        }#T_e4c21e60_272a_11eb_bfbd_525400a08725row7_col8,#T_e4c21e60_272a_11eb_bfbd_525400a08725row8_col7,#T_e4c21e60_272a_11eb_bfbd_525400a08725row8_col9,#T_e4c21e60_272a_11eb_bfbd_525400a08725row9_col8,#T_e4c21e60_272a_11eb_bfbd_525400a08725row9_col16,#T_e4c21e60_272a_11eb_bfbd_525400a08725row16_col9{\n",
       "            background-color:  #0a73b2;\n",
       "            color:  #f1f1f1;\n",
       "        }#T_e4c21e60_272a_11eb_bfbd_525400a08725row7_col9,#T_e4c21e60_272a_11eb_bfbd_525400a08725row9_col7,#T_e4c21e60_272a_11eb_bfbd_525400a08725row9_col11,#T_e4c21e60_272a_11eb_bfbd_525400a08725row11_col9,#T_e4c21e60_272a_11eb_bfbd_525400a08725row13_col14,#T_e4c21e60_272a_11eb_bfbd_525400a08725row14_col13{\n",
       "            background-color:  #2081b9;\n",
       "            color:  #000000;\n",
       "        }#T_e4c21e60_272a_11eb_bfbd_525400a08725row7_col10,#T_e4c21e60_272a_11eb_bfbd_525400a08725row10_col7{\n",
       "            background-color:  #056faf;\n",
       "            color:  #f1f1f1;\n",
       "        }#T_e4c21e60_272a_11eb_bfbd_525400a08725row7_col12,#T_e4c21e60_272a_11eb_bfbd_525400a08725row12_col7{\n",
       "            background-color:  #0567a1;\n",
       "            color:  #f1f1f1;\n",
       "        }#T_e4c21e60_272a_11eb_bfbd_525400a08725row7_col13,#T_e4c21e60_272a_11eb_bfbd_525400a08725row13_col7{\n",
       "            background-color:  #1379b5;\n",
       "            color:  #f1f1f1;\n",
       "        }#T_e4c21e60_272a_11eb_bfbd_525400a08725row7_col14,#T_e4c21e60_272a_11eb_bfbd_525400a08725row14_col7,#T_e4c21e60_272a_11eb_bfbd_525400a08725row15_col16,#T_e4c21e60_272a_11eb_bfbd_525400a08725row16_col15{\n",
       "            background-color:  #91b5d6;\n",
       "            color:  #000000;\n",
       "        }#T_e4c21e60_272a_11eb_bfbd_525400a08725row7_col15,#T_e4c21e60_272a_11eb_bfbd_525400a08725row10_col14,#T_e4c21e60_272a_11eb_bfbd_525400a08725row14_col10,#T_e4c21e60_272a_11eb_bfbd_525400a08725row15_col7{\n",
       "            background-color:  #8cb3d5;\n",
       "            color:  #000000;\n",
       "        }#T_e4c21e60_272a_11eb_bfbd_525400a08725row7_col16,#T_e4c21e60_272a_11eb_bfbd_525400a08725row16_col7{\n",
       "            background-color:  #045382;\n",
       "            color:  #f1f1f1;\n",
       "        }#T_e4c21e60_272a_11eb_bfbd_525400a08725row8_col10,#T_e4c21e60_272a_11eb_bfbd_525400a08725row10_col8{\n",
       "            background-color:  #056fae;\n",
       "            color:  #f1f1f1;\n",
       "        }#T_e4c21e60_272a_11eb_bfbd_525400a08725row8_col12,#T_e4c21e60_272a_11eb_bfbd_525400a08725row12_col8{\n",
       "            background-color:  #04639b;\n",
       "            color:  #f1f1f1;\n",
       "        }#T_e4c21e60_272a_11eb_bfbd_525400a08725row8_col14,#T_e4c21e60_272a_11eb_bfbd_525400a08725row14_col8{\n",
       "            background-color:  #3f93c2;\n",
       "            color:  #000000;\n",
       "        }#T_e4c21e60_272a_11eb_bfbd_525400a08725row8_col16,#T_e4c21e60_272a_11eb_bfbd_525400a08725row16_col8{\n",
       "            background-color:  #046299;\n",
       "            color:  #f1f1f1;\n",
       "        }#T_e4c21e60_272a_11eb_bfbd_525400a08725row9_col10,#T_e4c21e60_272a_11eb_bfbd_525400a08725row10_col9,#T_e4c21e60_272a_11eb_bfbd_525400a08725row10_col11,#T_e4c21e60_272a_11eb_bfbd_525400a08725row11_col10,#T_e4c21e60_272a_11eb_bfbd_525400a08725row13_col16,#T_e4c21e60_272a_11eb_bfbd_525400a08725row16_col13{\n",
       "            background-color:  #1278b4;\n",
       "            color:  #f1f1f1;\n",
       "        }#T_e4c21e60_272a_11eb_bfbd_525400a08725row9_col12,#T_e4c21e60_272a_11eb_bfbd_525400a08725row12_col9{\n",
       "            background-color:  #0872b1;\n",
       "            color:  #f1f1f1;\n",
       "        }#T_e4c21e60_272a_11eb_bfbd_525400a08725row9_col14,#T_e4c21e60_272a_11eb_bfbd_525400a08725row14_col9{\n",
       "            background-color:  #4697c4;\n",
       "            color:  #000000;\n",
       "        }#T_e4c21e60_272a_11eb_bfbd_525400a08725row9_col15,#T_e4c21e60_272a_11eb_bfbd_525400a08725row15_col9{\n",
       "            background-color:  #589ec8;\n",
       "            color:  #000000;\n",
       "        }#T_e4c21e60_272a_11eb_bfbd_525400a08725row10_col15,#T_e4c21e60_272a_11eb_bfbd_525400a08725row15_col10{\n",
       "            background-color:  #69a5cc;\n",
       "            color:  #000000;\n",
       "        }#T_e4c21e60_272a_11eb_bfbd_525400a08725row10_col16,#T_e4c21e60_272a_11eb_bfbd_525400a08725row12_col16,#T_e4c21e60_272a_11eb_bfbd_525400a08725row16_col10,#T_e4c21e60_272a_11eb_bfbd_525400a08725row16_col12{\n",
       "            background-color:  #046096;\n",
       "            color:  #f1f1f1;\n",
       "        }#T_e4c21e60_272a_11eb_bfbd_525400a08725row11_col13,#T_e4c21e60_272a_11eb_bfbd_525400a08725row11_col15,#T_e4c21e60_272a_11eb_bfbd_525400a08725row13_col11,#T_e4c21e60_272a_11eb_bfbd_525400a08725row15_col11{\n",
       "            background-color:  #358fc0;\n",
       "            color:  #000000;\n",
       "        }#T_e4c21e60_272a_11eb_bfbd_525400a08725row11_col14,#T_e4c21e60_272a_11eb_bfbd_525400a08725row14_col11{\n",
       "            background-color:  #62a2cb;\n",
       "            color:  #000000;\n",
       "        }#T_e4c21e60_272a_11eb_bfbd_525400a08725row12_col15,#T_e4c21e60_272a_11eb_bfbd_525400a08725row15_col12{\n",
       "            background-color:  #65a3cb;\n",
       "            color:  #000000;\n",
       "        }#T_e4c21e60_272a_11eb_bfbd_525400a08725row14_col15,#T_e4c21e60_272a_11eb_bfbd_525400a08725row15_col14{\n",
       "            background-color:  #045e94;\n",
       "            color:  #f1f1f1;\n",
       "        }</style><table id=\"T_e4c21e60_272a_11eb_bfbd_525400a08725\" ><thead>    <tr>        <th class=\"blank level0\" ></th>        <th class=\"col_heading level0 col0\" >Rt</th>        <th class=\"col_heading level0 col1\" >theta</th>        <th class=\"col_heading level0 col2\" >kappa</th>        <th class=\"col_heading level0 col3\" >rho</th>        <th class=\"col_heading level0 col4\" >sigma</th>        <th class=\"col_heading level0 col5\" >School_closing</th>        <th class=\"col_heading level0 col6\" >Workplace_closing</th>        <th class=\"col_heading level0 col7\" >Cancel_events</th>        <th class=\"col_heading level0 col8\" >Gatherings_restrictions</th>        <th class=\"col_heading level0 col9\" >Transport_closing</th>        <th class=\"col_heading level0 col10\" >Stay_home_restrictions</th>        <th class=\"col_heading level0 col11\" >Internal_movement_restrictions</th>        <th class=\"col_heading level0 col12\" >International_movement_restrictions</th>        <th class=\"col_heading level0 col13\" >Information_campaigns</th>        <th class=\"col_heading level0 col14\" >Testing_policy</th>        <th class=\"col_heading level0 col15\" >Contact_tracing</th>        <th class=\"col_heading level0 col16\" >Stringency_index</th>    </tr></thead><tbody>\n",
       "                <tr>\n",
       "                        <th id=\"T_e4c21e60_272a_11eb_bfbd_525400a08725level0_row0\" class=\"row_heading level0 row0\" >Rt</th>\n",
       "                        <td id=\"T_e4c21e60_272a_11eb_bfbd_525400a08725row0_col0\" class=\"data row0 col0\" >1.000000</td>\n",
       "                        <td id=\"T_e4c21e60_272a_11eb_bfbd_525400a08725row0_col1\" class=\"data row0 col1\" >-0.159375</td>\n",
       "                        <td id=\"T_e4c21e60_272a_11eb_bfbd_525400a08725row0_col2\" class=\"data row0 col2\" >-0.029217</td>\n",
       "                        <td id=\"T_e4c21e60_272a_11eb_bfbd_525400a08725row0_col3\" class=\"data row0 col3\" >0.365055</td>\n",
       "                        <td id=\"T_e4c21e60_272a_11eb_bfbd_525400a08725row0_col4\" class=\"data row0 col4\" >-0.149288</td>\n",
       "                        <td id=\"T_e4c21e60_272a_11eb_bfbd_525400a08725row0_col5\" class=\"data row0 col5\" >-0.355304</td>\n",
       "                        <td id=\"T_e4c21e60_272a_11eb_bfbd_525400a08725row0_col6\" class=\"data row0 col6\" >-0.344259</td>\n",
       "                        <td id=\"T_e4c21e60_272a_11eb_bfbd_525400a08725row0_col7\" class=\"data row0 col7\" >-0.363359</td>\n",
       "                        <td id=\"T_e4c21e60_272a_11eb_bfbd_525400a08725row0_col8\" class=\"data row0 col8\" >-0.461379</td>\n",
       "                        <td id=\"T_e4c21e60_272a_11eb_bfbd_525400a08725row0_col9\" class=\"data row0 col9\" >-0.338230</td>\n",
       "                        <td id=\"T_e4c21e60_272a_11eb_bfbd_525400a08725row0_col10\" class=\"data row0 col10\" >-0.342709</td>\n",
       "                        <td id=\"T_e4c21e60_272a_11eb_bfbd_525400a08725row0_col11\" class=\"data row0 col11\" >-0.337308</td>\n",
       "                        <td id=\"T_e4c21e60_272a_11eb_bfbd_525400a08725row0_col12\" class=\"data row0 col12\" >-0.428579</td>\n",
       "                        <td id=\"T_e4c21e60_272a_11eb_bfbd_525400a08725row0_col13\" class=\"data row0 col13\" >0.039744</td>\n",
       "                        <td id=\"T_e4c21e60_272a_11eb_bfbd_525400a08725row0_col14\" class=\"data row0 col14\" >-0.199553</td>\n",
       "                        <td id=\"T_e4c21e60_272a_11eb_bfbd_525400a08725row0_col15\" class=\"data row0 col15\" >-0.045577</td>\n",
       "                        <td id=\"T_e4c21e60_272a_11eb_bfbd_525400a08725row0_col16\" class=\"data row0 col16\" >-0.341597</td>\n",
       "            </tr>\n",
       "            <tr>\n",
       "                        <th id=\"T_e4c21e60_272a_11eb_bfbd_525400a08725level0_row1\" class=\"row_heading level0 row1\" >theta</th>\n",
       "                        <td id=\"T_e4c21e60_272a_11eb_bfbd_525400a08725row1_col0\" class=\"data row1 col0\" >-0.159375</td>\n",
       "                        <td id=\"T_e4c21e60_272a_11eb_bfbd_525400a08725row1_col1\" class=\"data row1 col1\" >1.000000</td>\n",
       "                        <td id=\"T_e4c21e60_272a_11eb_bfbd_525400a08725row1_col2\" class=\"data row1 col2\" >0.697486</td>\n",
       "                        <td id=\"T_e4c21e60_272a_11eb_bfbd_525400a08725row1_col3\" class=\"data row1 col3\" >-0.084539</td>\n",
       "                        <td id=\"T_e4c21e60_272a_11eb_bfbd_525400a08725row1_col4\" class=\"data row1 col4\" >-0.131541</td>\n",
       "                        <td id=\"T_e4c21e60_272a_11eb_bfbd_525400a08725row1_col5\" class=\"data row1 col5\" >0.164272</td>\n",
       "                        <td id=\"T_e4c21e60_272a_11eb_bfbd_525400a08725row1_col6\" class=\"data row1 col6\" >0.145961</td>\n",
       "                        <td id=\"T_e4c21e60_272a_11eb_bfbd_525400a08725row1_col7\" class=\"data row1 col7\" >0.133804</td>\n",
       "                        <td id=\"T_e4c21e60_272a_11eb_bfbd_525400a08725row1_col8\" class=\"data row1 col8\" >0.050976</td>\n",
       "                        <td id=\"T_e4c21e60_272a_11eb_bfbd_525400a08725row1_col9\" class=\"data row1 col9\" >-0.143355</td>\n",
       "                        <td id=\"T_e4c21e60_272a_11eb_bfbd_525400a08725row1_col10\" class=\"data row1 col10\" >0.062874</td>\n",
       "                        <td id=\"T_e4c21e60_272a_11eb_bfbd_525400a08725row1_col11\" class=\"data row1 col11\" >0.127250</td>\n",
       "                        <td id=\"T_e4c21e60_272a_11eb_bfbd_525400a08725row1_col12\" class=\"data row1 col12\" >0.093013</td>\n",
       "                        <td id=\"T_e4c21e60_272a_11eb_bfbd_525400a08725row1_col13\" class=\"data row1 col13\" >-0.013703</td>\n",
       "                        <td id=\"T_e4c21e60_272a_11eb_bfbd_525400a08725row1_col14\" class=\"data row1 col14\" >-0.313534</td>\n",
       "                        <td id=\"T_e4c21e60_272a_11eb_bfbd_525400a08725row1_col15\" class=\"data row1 col15\" >-0.091416</td>\n",
       "                        <td id=\"T_e4c21e60_272a_11eb_bfbd_525400a08725row1_col16\" class=\"data row1 col16\" >0.139607</td>\n",
       "            </tr>\n",
       "            <tr>\n",
       "                        <th id=\"T_e4c21e60_272a_11eb_bfbd_525400a08725level0_row2\" class=\"row_heading level0 row2\" >kappa</th>\n",
       "                        <td id=\"T_e4c21e60_272a_11eb_bfbd_525400a08725row2_col0\" class=\"data row2 col0\" >-0.029217</td>\n",
       "                        <td id=\"T_e4c21e60_272a_11eb_bfbd_525400a08725row2_col1\" class=\"data row2 col1\" >0.697486</td>\n",
       "                        <td id=\"T_e4c21e60_272a_11eb_bfbd_525400a08725row2_col2\" class=\"data row2 col2\" >1.000000</td>\n",
       "                        <td id=\"T_e4c21e60_272a_11eb_bfbd_525400a08725row2_col3\" class=\"data row2 col3\" >0.223137</td>\n",
       "                        <td id=\"T_e4c21e60_272a_11eb_bfbd_525400a08725row2_col4\" class=\"data row2 col4\" >-0.061132</td>\n",
       "                        <td id=\"T_e4c21e60_272a_11eb_bfbd_525400a08725row2_col5\" class=\"data row2 col5\" >-0.134570</td>\n",
       "                        <td id=\"T_e4c21e60_272a_11eb_bfbd_525400a08725row2_col6\" class=\"data row2 col6\" >-0.122053</td>\n",
       "                        <td id=\"T_e4c21e60_272a_11eb_bfbd_525400a08725row2_col7\" class=\"data row2 col7\" >-0.163653</td>\n",
       "                        <td id=\"T_e4c21e60_272a_11eb_bfbd_525400a08725row2_col8\" class=\"data row2 col8\" >-0.190963</td>\n",
       "                        <td id=\"T_e4c21e60_272a_11eb_bfbd_525400a08725row2_col9\" class=\"data row2 col9\" >-0.203934</td>\n",
       "                        <td id=\"T_e4c21e60_272a_11eb_bfbd_525400a08725row2_col10\" class=\"data row2 col10\" >-0.140743</td>\n",
       "                        <td id=\"T_e4c21e60_272a_11eb_bfbd_525400a08725row2_col11\" class=\"data row2 col11\" >-0.110329</td>\n",
       "                        <td id=\"T_e4c21e60_272a_11eb_bfbd_525400a08725row2_col12\" class=\"data row2 col12\" >-0.150812</td>\n",
       "                        <td id=\"T_e4c21e60_272a_11eb_bfbd_525400a08725row2_col13\" class=\"data row2 col13\" >-0.121169</td>\n",
       "                        <td id=\"T_e4c21e60_272a_11eb_bfbd_525400a08725row2_col14\" class=\"data row2 col14\" >-0.161740</td>\n",
       "                        <td id=\"T_e4c21e60_272a_11eb_bfbd_525400a08725row2_col15\" class=\"data row2 col15\" >-0.086278</td>\n",
       "                        <td id=\"T_e4c21e60_272a_11eb_bfbd_525400a08725row2_col16\" class=\"data row2 col16\" >-0.151556</td>\n",
       "            </tr>\n",
       "            <tr>\n",
       "                        <th id=\"T_e4c21e60_272a_11eb_bfbd_525400a08725level0_row3\" class=\"row_heading level0 row3\" >rho</th>\n",
       "                        <td id=\"T_e4c21e60_272a_11eb_bfbd_525400a08725row3_col0\" class=\"data row3 col0\" >0.365055</td>\n",
       "                        <td id=\"T_e4c21e60_272a_11eb_bfbd_525400a08725row3_col1\" class=\"data row3 col1\" >-0.084539</td>\n",
       "                        <td id=\"T_e4c21e60_272a_11eb_bfbd_525400a08725row3_col2\" class=\"data row3 col2\" >0.223137</td>\n",
       "                        <td id=\"T_e4c21e60_272a_11eb_bfbd_525400a08725row3_col3\" class=\"data row3 col3\" >1.000000</td>\n",
       "                        <td id=\"T_e4c21e60_272a_11eb_bfbd_525400a08725row3_col4\" class=\"data row3 col4\" >0.212550</td>\n",
       "                        <td id=\"T_e4c21e60_272a_11eb_bfbd_525400a08725row3_col5\" class=\"data row3 col5\" >-0.500644</td>\n",
       "                        <td id=\"T_e4c21e60_272a_11eb_bfbd_525400a08725row3_col6\" class=\"data row3 col6\" >-0.535146</td>\n",
       "                        <td id=\"T_e4c21e60_272a_11eb_bfbd_525400a08725row3_col7\" class=\"data row3 col7\" >-0.545901</td>\n",
       "                        <td id=\"T_e4c21e60_272a_11eb_bfbd_525400a08725row3_col8\" class=\"data row3 col8\" >-0.675347</td>\n",
       "                        <td id=\"T_e4c21e60_272a_11eb_bfbd_525400a08725row3_col9\" class=\"data row3 col9\" >-0.455499</td>\n",
       "                        <td id=\"T_e4c21e60_272a_11eb_bfbd_525400a08725row3_col10\" class=\"data row3 col10\" >-0.356293</td>\n",
       "                        <td id=\"T_e4c21e60_272a_11eb_bfbd_525400a08725row3_col11\" class=\"data row3 col11\" >-0.509983</td>\n",
       "                        <td id=\"T_e4c21e60_272a_11eb_bfbd_525400a08725row3_col12\" class=\"data row3 col12\" >-0.726285</td>\n",
       "                        <td id=\"T_e4c21e60_272a_11eb_bfbd_525400a08725row3_col13\" class=\"data row3 col13\" >-0.471294</td>\n",
       "                        <td id=\"T_e4c21e60_272a_11eb_bfbd_525400a08725row3_col14\" class=\"data row3 col14\" >-0.303421</td>\n",
       "                        <td id=\"T_e4c21e60_272a_11eb_bfbd_525400a08725row3_col15\" class=\"data row3 col15\" >-0.250895</td>\n",
       "                        <td id=\"T_e4c21e60_272a_11eb_bfbd_525400a08725row3_col16\" class=\"data row3 col16\" >-0.519110</td>\n",
       "            </tr>\n",
       "            <tr>\n",
       "                        <th id=\"T_e4c21e60_272a_11eb_bfbd_525400a08725level0_row4\" class=\"row_heading level0 row4\" >sigma</th>\n",
       "                        <td id=\"T_e4c21e60_272a_11eb_bfbd_525400a08725row4_col0\" class=\"data row4 col0\" >-0.149288</td>\n",
       "                        <td id=\"T_e4c21e60_272a_11eb_bfbd_525400a08725row4_col1\" class=\"data row4 col1\" >-0.131541</td>\n",
       "                        <td id=\"T_e4c21e60_272a_11eb_bfbd_525400a08725row4_col2\" class=\"data row4 col2\" >-0.061132</td>\n",
       "                        <td id=\"T_e4c21e60_272a_11eb_bfbd_525400a08725row4_col3\" class=\"data row4 col3\" >0.212550</td>\n",
       "                        <td id=\"T_e4c21e60_272a_11eb_bfbd_525400a08725row4_col4\" class=\"data row4 col4\" >1.000000</td>\n",
       "                        <td id=\"T_e4c21e60_272a_11eb_bfbd_525400a08725row4_col5\" class=\"data row4 col5\" >-0.083906</td>\n",
       "                        <td id=\"T_e4c21e60_272a_11eb_bfbd_525400a08725row4_col6\" class=\"data row4 col6\" >-0.105656</td>\n",
       "                        <td id=\"T_e4c21e60_272a_11eb_bfbd_525400a08725row4_col7\" class=\"data row4 col7\" >-0.047832</td>\n",
       "                        <td id=\"T_e4c21e60_272a_11eb_bfbd_525400a08725row4_col8\" class=\"data row4 col8\" >-0.075552</td>\n",
       "                        <td id=\"T_e4c21e60_272a_11eb_bfbd_525400a08725row4_col9\" class=\"data row4 col9\" >0.093532</td>\n",
       "                        <td id=\"T_e4c21e60_272a_11eb_bfbd_525400a08725row4_col10\" class=\"data row4 col10\" >0.248160</td>\n",
       "                        <td id=\"T_e4c21e60_272a_11eb_bfbd_525400a08725row4_col11\" class=\"data row4 col11\" >-0.202201</td>\n",
       "                        <td id=\"T_e4c21e60_272a_11eb_bfbd_525400a08725row4_col12\" class=\"data row4 col12\" >-0.126183</td>\n",
       "                        <td id=\"T_e4c21e60_272a_11eb_bfbd_525400a08725row4_col13\" class=\"data row4 col13\" >0.018710</td>\n",
       "                        <td id=\"T_e4c21e60_272a_11eb_bfbd_525400a08725row4_col14\" class=\"data row4 col14\" >0.261669</td>\n",
       "                        <td id=\"T_e4c21e60_272a_11eb_bfbd_525400a08725row4_col15\" class=\"data row4 col15\" >0.255084</td>\n",
       "                        <td id=\"T_e4c21e60_272a_11eb_bfbd_525400a08725row4_col16\" class=\"data row4 col16\" >-0.098425</td>\n",
       "            </tr>\n",
       "            <tr>\n",
       "                        <th id=\"T_e4c21e60_272a_11eb_bfbd_525400a08725level0_row5\" class=\"row_heading level0 row5\" >School_closing</th>\n",
       "                        <td id=\"T_e4c21e60_272a_11eb_bfbd_525400a08725row5_col0\" class=\"data row5 col0\" >-0.355304</td>\n",
       "                        <td id=\"T_e4c21e60_272a_11eb_bfbd_525400a08725row5_col1\" class=\"data row5 col1\" >0.164272</td>\n",
       "                        <td id=\"T_e4c21e60_272a_11eb_bfbd_525400a08725row5_col2\" class=\"data row5 col2\" >-0.134570</td>\n",
       "                        <td id=\"T_e4c21e60_272a_11eb_bfbd_525400a08725row5_col3\" class=\"data row5 col3\" >-0.500644</td>\n",
       "                        <td id=\"T_e4c21e60_272a_11eb_bfbd_525400a08725row5_col4\" class=\"data row5 col4\" >-0.083906</td>\n",
       "                        <td id=\"T_e4c21e60_272a_11eb_bfbd_525400a08725row5_col5\" class=\"data row5 col5\" >1.000000</td>\n",
       "                        <td id=\"T_e4c21e60_272a_11eb_bfbd_525400a08725row5_col6\" class=\"data row5 col6\" >0.869931</td>\n",
       "                        <td id=\"T_e4c21e60_272a_11eb_bfbd_525400a08725row5_col7\" class=\"data row5 col7\" >0.718019</td>\n",
       "                        <td id=\"T_e4c21e60_272a_11eb_bfbd_525400a08725row5_col8\" class=\"data row5 col8\" >0.560200</td>\n",
       "                        <td id=\"T_e4c21e60_272a_11eb_bfbd_525400a08725row5_col9\" class=\"data row5 col9\" >0.464858</td>\n",
       "                        <td id=\"T_e4c21e60_272a_11eb_bfbd_525400a08725row5_col10\" class=\"data row5 col10\" >0.680207</td>\n",
       "                        <td id=\"T_e4c21e60_272a_11eb_bfbd_525400a08725row5_col11\" class=\"data row5 col11\" >0.424301</td>\n",
       "                        <td id=\"T_e4c21e60_272a_11eb_bfbd_525400a08725row5_col12\" class=\"data row5 col12\" >0.668257</td>\n",
       "                        <td id=\"T_e4c21e60_272a_11eb_bfbd_525400a08725row5_col13\" class=\"data row5 col13\" >0.366035</td>\n",
       "                        <td id=\"T_e4c21e60_272a_11eb_bfbd_525400a08725row5_col14\" class=\"data row5 col14\" >-0.260206</td>\n",
       "                        <td id=\"T_e4c21e60_272a_11eb_bfbd_525400a08725row5_col15\" class=\"data row5 col15\" >-0.219852</td>\n",
       "                        <td id=\"T_e4c21e60_272a_11eb_bfbd_525400a08725row5_col16\" class=\"data row5 col16\" >0.874853</td>\n",
       "            </tr>\n",
       "            <tr>\n",
       "                        <th id=\"T_e4c21e60_272a_11eb_bfbd_525400a08725level0_row6\" class=\"row_heading level0 row6\" >Workplace_closing</th>\n",
       "                        <td id=\"T_e4c21e60_272a_11eb_bfbd_525400a08725row6_col0\" class=\"data row6 col0\" >-0.344259</td>\n",
       "                        <td id=\"T_e4c21e60_272a_11eb_bfbd_525400a08725row6_col1\" class=\"data row6 col1\" >0.145961</td>\n",
       "                        <td id=\"T_e4c21e60_272a_11eb_bfbd_525400a08725row6_col2\" class=\"data row6 col2\" >-0.122053</td>\n",
       "                        <td id=\"T_e4c21e60_272a_11eb_bfbd_525400a08725row6_col3\" class=\"data row6 col3\" >-0.535146</td>\n",
       "                        <td id=\"T_e4c21e60_272a_11eb_bfbd_525400a08725row6_col4\" class=\"data row6 col4\" >-0.105656</td>\n",
       "                        <td id=\"T_e4c21e60_272a_11eb_bfbd_525400a08725row6_col5\" class=\"data row6 col5\" >0.869931</td>\n",
       "                        <td id=\"T_e4c21e60_272a_11eb_bfbd_525400a08725row6_col6\" class=\"data row6 col6\" >1.000000</td>\n",
       "                        <td id=\"T_e4c21e60_272a_11eb_bfbd_525400a08725row6_col7\" class=\"data row6 col7\" >0.788697</td>\n",
       "                        <td id=\"T_e4c21e60_272a_11eb_bfbd_525400a08725row6_col8\" class=\"data row6 col8\" >0.609076</td>\n",
       "                        <td id=\"T_e4c21e60_272a_11eb_bfbd_525400a08725row6_col9\" class=\"data row6 col9\" >0.479308</td>\n",
       "                        <td id=\"T_e4c21e60_272a_11eb_bfbd_525400a08725row6_col10\" class=\"data row6 col10\" >0.680609</td>\n",
       "                        <td id=\"T_e4c21e60_272a_11eb_bfbd_525400a08725row6_col11\" class=\"data row6 col11\" >0.372119</td>\n",
       "                        <td id=\"T_e4c21e60_272a_11eb_bfbd_525400a08725row6_col12\" class=\"data row6 col12\" >0.676811</td>\n",
       "                        <td id=\"T_e4c21e60_272a_11eb_bfbd_525400a08725row6_col13\" class=\"data row6 col13\" >0.375365</td>\n",
       "                        <td id=\"T_e4c21e60_272a_11eb_bfbd_525400a08725row6_col14\" class=\"data row6 col14\" >-0.161346</td>\n",
       "                        <td id=\"T_e4c21e60_272a_11eb_bfbd_525400a08725row6_col15\" class=\"data row6 col15\" >-0.163120</td>\n",
       "                        <td id=\"T_e4c21e60_272a_11eb_bfbd_525400a08725row6_col16\" class=\"data row6 col16\" >0.853001</td>\n",
       "            </tr>\n",
       "            <tr>\n",
       "                        <th id=\"T_e4c21e60_272a_11eb_bfbd_525400a08725level0_row7\" class=\"row_heading level0 row7\" >Cancel_events</th>\n",
       "                        <td id=\"T_e4c21e60_272a_11eb_bfbd_525400a08725row7_col0\" class=\"data row7 col0\" >-0.363359</td>\n",
       "                        <td id=\"T_e4c21e60_272a_11eb_bfbd_525400a08725row7_col1\" class=\"data row7 col1\" >0.133804</td>\n",
       "                        <td id=\"T_e4c21e60_272a_11eb_bfbd_525400a08725row7_col2\" class=\"data row7 col2\" >-0.163653</td>\n",
       "                        <td id=\"T_e4c21e60_272a_11eb_bfbd_525400a08725row7_col3\" class=\"data row7 col3\" >-0.545901</td>\n",
       "                        <td id=\"T_e4c21e60_272a_11eb_bfbd_525400a08725row7_col4\" class=\"data row7 col4\" >-0.047832</td>\n",
       "                        <td id=\"T_e4c21e60_272a_11eb_bfbd_525400a08725row7_col5\" class=\"data row7 col5\" >0.718019</td>\n",
       "                        <td id=\"T_e4c21e60_272a_11eb_bfbd_525400a08725row7_col6\" class=\"data row7 col6\" >0.788697</td>\n",
       "                        <td id=\"T_e4c21e60_272a_11eb_bfbd_525400a08725row7_col7\" class=\"data row7 col7\" >1.000000</td>\n",
       "                        <td id=\"T_e4c21e60_272a_11eb_bfbd_525400a08725row7_col8\" class=\"data row7 col8\" >0.544683</td>\n",
       "                        <td id=\"T_e4c21e60_272a_11eb_bfbd_525400a08725row7_col9\" class=\"data row7 col9\" >0.450803</td>\n",
       "                        <td id=\"T_e4c21e60_272a_11eb_bfbd_525400a08725row7_col10\" class=\"data row7 col10\" >0.569844</td>\n",
       "                        <td id=\"T_e4c21e60_272a_11eb_bfbd_525400a08725row7_col11\" class=\"data row7 col11\" >0.375386</td>\n",
       "                        <td id=\"T_e4c21e60_272a_11eb_bfbd_525400a08725row7_col12\" class=\"data row7 col12\" >0.658398</td>\n",
       "                        <td id=\"T_e4c21e60_272a_11eb_bfbd_525400a08725row7_col13\" class=\"data row7 col13\" >0.502291</td>\n",
       "                        <td id=\"T_e4c21e60_272a_11eb_bfbd_525400a08725row7_col14\" class=\"data row7 col14\" >0.009373</td>\n",
       "                        <td id=\"T_e4c21e60_272a_11eb_bfbd_525400a08725row7_col15\" class=\"data row7 col15\" >0.033707</td>\n",
       "                        <td id=\"T_e4c21e60_272a_11eb_bfbd_525400a08725row7_col16\" class=\"data row7 col16\" >0.826543</td>\n",
       "            </tr>\n",
       "            <tr>\n",
       "                        <th id=\"T_e4c21e60_272a_11eb_bfbd_525400a08725level0_row8\" class=\"row_heading level0 row8\" >Gatherings_restrictions</th>\n",
       "                        <td id=\"T_e4c21e60_272a_11eb_bfbd_525400a08725row8_col0\" class=\"data row8 col0\" >-0.461379</td>\n",
       "                        <td id=\"T_e4c21e60_272a_11eb_bfbd_525400a08725row8_col1\" class=\"data row8 col1\" >0.050976</td>\n",
       "                        <td id=\"T_e4c21e60_272a_11eb_bfbd_525400a08725row8_col2\" class=\"data row8 col2\" >-0.190963</td>\n",
       "                        <td id=\"T_e4c21e60_272a_11eb_bfbd_525400a08725row8_col3\" class=\"data row8 col3\" >-0.675347</td>\n",
       "                        <td id=\"T_e4c21e60_272a_11eb_bfbd_525400a08725row8_col4\" class=\"data row8 col4\" >-0.075552</td>\n",
       "                        <td id=\"T_e4c21e60_272a_11eb_bfbd_525400a08725row8_col5\" class=\"data row8 col5\" >0.560200</td>\n",
       "                        <td id=\"T_e4c21e60_272a_11eb_bfbd_525400a08725row8_col6\" class=\"data row8 col6\" >0.609076</td>\n",
       "                        <td id=\"T_e4c21e60_272a_11eb_bfbd_525400a08725row8_col7\" class=\"data row8 col7\" >0.544683</td>\n",
       "                        <td id=\"T_e4c21e60_272a_11eb_bfbd_525400a08725row8_col8\" class=\"data row8 col8\" >1.000000</td>\n",
       "                        <td id=\"T_e4c21e60_272a_11eb_bfbd_525400a08725row8_col9\" class=\"data row8 col9\" >0.544018</td>\n",
       "                        <td id=\"T_e4c21e60_272a_11eb_bfbd_525400a08725row8_col10\" class=\"data row8 col10\" >0.575418</td>\n",
       "                        <td id=\"T_e4c21e60_272a_11eb_bfbd_525400a08725row8_col11\" class=\"data row8 col11\" >0.719815</td>\n",
       "                        <td id=\"T_e4c21e60_272a_11eb_bfbd_525400a08725row8_col12\" class=\"data row8 col12\" >0.693106</td>\n",
       "                        <td id=\"T_e4c21e60_272a_11eb_bfbd_525400a08725row8_col13\" class=\"data row8 col13\" >0.464096</td>\n",
       "                        <td id=\"T_e4c21e60_272a_11eb_bfbd_525400a08725row8_col14\" class=\"data row8 col14\" >0.320749</td>\n",
       "                        <td id=\"T_e4c21e60_272a_11eb_bfbd_525400a08725row8_col15\" class=\"data row8 col15\" >0.377706</td>\n",
       "                        <td id=\"T_e4c21e60_272a_11eb_bfbd_525400a08725row8_col16\" class=\"data row8 col16\" >0.709334</td>\n",
       "            </tr>\n",
       "            <tr>\n",
       "                        <th id=\"T_e4c21e60_272a_11eb_bfbd_525400a08725level0_row9\" class=\"row_heading level0 row9\" >Transport_closing</th>\n",
       "                        <td id=\"T_e4c21e60_272a_11eb_bfbd_525400a08725row9_col0\" class=\"data row9 col0\" >-0.338230</td>\n",
       "                        <td id=\"T_e4c21e60_272a_11eb_bfbd_525400a08725row9_col1\" class=\"data row9 col1\" >-0.143355</td>\n",
       "                        <td id=\"T_e4c21e60_272a_11eb_bfbd_525400a08725row9_col2\" class=\"data row9 col2\" >-0.203934</td>\n",
       "                        <td id=\"T_e4c21e60_272a_11eb_bfbd_525400a08725row9_col3\" class=\"data row9 col3\" >-0.455499</td>\n",
       "                        <td id=\"T_e4c21e60_272a_11eb_bfbd_525400a08725row9_col4\" class=\"data row9 col4\" >0.093532</td>\n",
       "                        <td id=\"T_e4c21e60_272a_11eb_bfbd_525400a08725row9_col5\" class=\"data row9 col5\" >0.464858</td>\n",
       "                        <td id=\"T_e4c21e60_272a_11eb_bfbd_525400a08725row9_col6\" class=\"data row9 col6\" >0.479308</td>\n",
       "                        <td id=\"T_e4c21e60_272a_11eb_bfbd_525400a08725row9_col7\" class=\"data row9 col7\" >0.450803</td>\n",
       "                        <td id=\"T_e4c21e60_272a_11eb_bfbd_525400a08725row9_col8\" class=\"data row9 col8\" >0.544018</td>\n",
       "                        <td id=\"T_e4c21e60_272a_11eb_bfbd_525400a08725row9_col9\" class=\"data row9 col9\" >1.000000</td>\n",
       "                        <td id=\"T_e4c21e60_272a_11eb_bfbd_525400a08725row9_col10\" class=\"data row9 col10\" >0.511889</td>\n",
       "                        <td id=\"T_e4c21e60_272a_11eb_bfbd_525400a08725row9_col11\" class=\"data row9 col11\" >0.448379</td>\n",
       "                        <td id=\"T_e4c21e60_272a_11eb_bfbd_525400a08725row9_col12\" class=\"data row9 col12\" >0.553778</td>\n",
       "                        <td id=\"T_e4c21e60_272a_11eb_bfbd_525400a08725row9_col13\" class=\"data row9 col13\" >0.377113</td>\n",
       "                        <td id=\"T_e4c21e60_272a_11eb_bfbd_525400a08725row9_col14\" class=\"data row9 col14\" >0.292647</td>\n",
       "                        <td id=\"T_e4c21e60_272a_11eb_bfbd_525400a08725row9_col15\" class=\"data row9 col15\" >0.236995</td>\n",
       "                        <td id=\"T_e4c21e60_272a_11eb_bfbd_525400a08725row9_col16\" class=\"data row9 col16\" >0.544991</td>\n",
       "            </tr>\n",
       "            <tr>\n",
       "                        <th id=\"T_e4c21e60_272a_11eb_bfbd_525400a08725level0_row10\" class=\"row_heading level0 row10\" >Stay_home_restrictions</th>\n",
       "                        <td id=\"T_e4c21e60_272a_11eb_bfbd_525400a08725row10_col0\" class=\"data row10 col0\" >-0.342709</td>\n",
       "                        <td id=\"T_e4c21e60_272a_11eb_bfbd_525400a08725row10_col1\" class=\"data row10 col1\" >0.062874</td>\n",
       "                        <td id=\"T_e4c21e60_272a_11eb_bfbd_525400a08725row10_col2\" class=\"data row10 col2\" >-0.140743</td>\n",
       "                        <td id=\"T_e4c21e60_272a_11eb_bfbd_525400a08725row10_col3\" class=\"data row10 col3\" >-0.356293</td>\n",
       "                        <td id=\"T_e4c21e60_272a_11eb_bfbd_525400a08725row10_col4\" class=\"data row10 col4\" >0.248160</td>\n",
       "                        <td id=\"T_e4c21e60_272a_11eb_bfbd_525400a08725row10_col5\" class=\"data row10 col5\" >0.680207</td>\n",
       "                        <td id=\"T_e4c21e60_272a_11eb_bfbd_525400a08725row10_col6\" class=\"data row10 col6\" >0.680609</td>\n",
       "                        <td id=\"T_e4c21e60_272a_11eb_bfbd_525400a08725row10_col7\" class=\"data row10 col7\" >0.569844</td>\n",
       "                        <td id=\"T_e4c21e60_272a_11eb_bfbd_525400a08725row10_col8\" class=\"data row10 col8\" >0.575418</td>\n",
       "                        <td id=\"T_e4c21e60_272a_11eb_bfbd_525400a08725row10_col9\" class=\"data row10 col9\" >0.511889</td>\n",
       "                        <td id=\"T_e4c21e60_272a_11eb_bfbd_525400a08725row10_col10\" class=\"data row10 col10\" >1.000000</td>\n",
       "                        <td id=\"T_e4c21e60_272a_11eb_bfbd_525400a08725row10_col11\" class=\"data row10 col11\" >0.512716</td>\n",
       "                        <td id=\"T_e4c21e60_272a_11eb_bfbd_525400a08725row10_col12\" class=\"data row10 col12\" >0.560279</td>\n",
       "                        <td id=\"T_e4c21e60_272a_11eb_bfbd_525400a08725row10_col13\" class=\"data row10 col13\" >0.363730</td>\n",
       "                        <td id=\"T_e4c21e60_272a_11eb_bfbd_525400a08725row10_col14\" class=\"data row10 col14\" >0.032410</td>\n",
       "                        <td id=\"T_e4c21e60_272a_11eb_bfbd_525400a08725row10_col15\" class=\"data row10 col15\" >0.171818</td>\n",
       "                        <td id=\"T_e4c21e60_272a_11eb_bfbd_525400a08725row10_col16\" class=\"data row10 col16\" >0.724401</td>\n",
       "            </tr>\n",
       "            <tr>\n",
       "                        <th id=\"T_e4c21e60_272a_11eb_bfbd_525400a08725level0_row11\" class=\"row_heading level0 row11\" >Internal_movement_restrictions</th>\n",
       "                        <td id=\"T_e4c21e60_272a_11eb_bfbd_525400a08725row11_col0\" class=\"data row11 col0\" >-0.337308</td>\n",
       "                        <td id=\"T_e4c21e60_272a_11eb_bfbd_525400a08725row11_col1\" class=\"data row11 col1\" >0.127250</td>\n",
       "                        <td id=\"T_e4c21e60_272a_11eb_bfbd_525400a08725row11_col2\" class=\"data row11 col2\" >-0.110329</td>\n",
       "                        <td id=\"T_e4c21e60_272a_11eb_bfbd_525400a08725row11_col3\" class=\"data row11 col3\" >-0.509983</td>\n",
       "                        <td id=\"T_e4c21e60_272a_11eb_bfbd_525400a08725row11_col4\" class=\"data row11 col4\" >-0.202201</td>\n",
       "                        <td id=\"T_e4c21e60_272a_11eb_bfbd_525400a08725row11_col5\" class=\"data row11 col5\" >0.424301</td>\n",
       "                        <td id=\"T_e4c21e60_272a_11eb_bfbd_525400a08725row11_col6\" class=\"data row11 col6\" >0.372119</td>\n",
       "                        <td id=\"T_e4c21e60_272a_11eb_bfbd_525400a08725row11_col7\" class=\"data row11 col7\" >0.375386</td>\n",
       "                        <td id=\"T_e4c21e60_272a_11eb_bfbd_525400a08725row11_col8\" class=\"data row11 col8\" >0.719815</td>\n",
       "                        <td id=\"T_e4c21e60_272a_11eb_bfbd_525400a08725row11_col9\" class=\"data row11 col9\" >0.448379</td>\n",
       "                        <td id=\"T_e4c21e60_272a_11eb_bfbd_525400a08725row11_col10\" class=\"data row11 col10\" >0.512716</td>\n",
       "                        <td id=\"T_e4c21e60_272a_11eb_bfbd_525400a08725row11_col11\" class=\"data row11 col11\" >1.000000</td>\n",
       "                        <td id=\"T_e4c21e60_272a_11eb_bfbd_525400a08725row11_col12\" class=\"data row11 col12\" >0.478368</td>\n",
       "                        <td id=\"T_e4c21e60_272a_11eb_bfbd_525400a08725row11_col13\" class=\"data row11 col13\" >0.352881</td>\n",
       "                        <td id=\"T_e4c21e60_272a_11eb_bfbd_525400a08725row11_col14\" class=\"data row11 col14\" >0.198622</td>\n",
       "                        <td id=\"T_e4c21e60_272a_11eb_bfbd_525400a08725row11_col15\" class=\"data row11 col15\" >0.356733</td>\n",
       "                        <td id=\"T_e4c21e60_272a_11eb_bfbd_525400a08725row11_col16\" class=\"data row11 col16\" >0.555037</td>\n",
       "            </tr>\n",
       "            <tr>\n",
       "                        <th id=\"T_e4c21e60_272a_11eb_bfbd_525400a08725level0_row12\" class=\"row_heading level0 row12\" >International_movement_restrictions</th>\n",
       "                        <td id=\"T_e4c21e60_272a_11eb_bfbd_525400a08725row12_col0\" class=\"data row12 col0\" >-0.428579</td>\n",
       "                        <td id=\"T_e4c21e60_272a_11eb_bfbd_525400a08725row12_col1\" class=\"data row12 col1\" >0.093013</td>\n",
       "                        <td id=\"T_e4c21e60_272a_11eb_bfbd_525400a08725row12_col2\" class=\"data row12 col2\" >-0.150812</td>\n",
       "                        <td id=\"T_e4c21e60_272a_11eb_bfbd_525400a08725row12_col3\" class=\"data row12 col3\" >-0.726285</td>\n",
       "                        <td id=\"T_e4c21e60_272a_11eb_bfbd_525400a08725row12_col4\" class=\"data row12 col4\" >-0.126183</td>\n",
       "                        <td id=\"T_e4c21e60_272a_11eb_bfbd_525400a08725row12_col5\" class=\"data row12 col5\" >0.668257</td>\n",
       "                        <td id=\"T_e4c21e60_272a_11eb_bfbd_525400a08725row12_col6\" class=\"data row12 col6\" >0.676811</td>\n",
       "                        <td id=\"T_e4c21e60_272a_11eb_bfbd_525400a08725row12_col7\" class=\"data row12 col7\" >0.658398</td>\n",
       "                        <td id=\"T_e4c21e60_272a_11eb_bfbd_525400a08725row12_col8\" class=\"data row12 col8\" >0.693106</td>\n",
       "                        <td id=\"T_e4c21e60_272a_11eb_bfbd_525400a08725row12_col9\" class=\"data row12 col9\" >0.553778</td>\n",
       "                        <td id=\"T_e4c21e60_272a_11eb_bfbd_525400a08725row12_col10\" class=\"data row12 col10\" >0.560279</td>\n",
       "                        <td id=\"T_e4c21e60_272a_11eb_bfbd_525400a08725row12_col11\" class=\"data row12 col11\" >0.478368</td>\n",
       "                        <td id=\"T_e4c21e60_272a_11eb_bfbd_525400a08725row12_col12\" class=\"data row12 col12\" >1.000000</td>\n",
       "                        <td id=\"T_e4c21e60_272a_11eb_bfbd_525400a08725row12_col13\" class=\"data row12 col13\" >0.555406</td>\n",
       "                        <td id=\"T_e4c21e60_272a_11eb_bfbd_525400a08725row12_col14\" class=\"data row12 col14\" >0.219332</td>\n",
       "                        <td id=\"T_e4c21e60_272a_11eb_bfbd_525400a08725row12_col15\" class=\"data row12 col15\" >0.189426</td>\n",
       "                        <td id=\"T_e4c21e60_272a_11eb_bfbd_525400a08725row12_col16\" class=\"data row12 col16\" >0.725671</td>\n",
       "            </tr>\n",
       "            <tr>\n",
       "                        <th id=\"T_e4c21e60_272a_11eb_bfbd_525400a08725level0_row13\" class=\"row_heading level0 row13\" >Information_campaigns</th>\n",
       "                        <td id=\"T_e4c21e60_272a_11eb_bfbd_525400a08725row13_col0\" class=\"data row13 col0\" >0.039744</td>\n",
       "                        <td id=\"T_e4c21e60_272a_11eb_bfbd_525400a08725row13_col1\" class=\"data row13 col1\" >-0.013703</td>\n",
       "                        <td id=\"T_e4c21e60_272a_11eb_bfbd_525400a08725row13_col2\" class=\"data row13 col2\" >-0.121169</td>\n",
       "                        <td id=\"T_e4c21e60_272a_11eb_bfbd_525400a08725row13_col3\" class=\"data row13 col3\" >-0.471294</td>\n",
       "                        <td id=\"T_e4c21e60_272a_11eb_bfbd_525400a08725row13_col4\" class=\"data row13 col4\" >0.018710</td>\n",
       "                        <td id=\"T_e4c21e60_272a_11eb_bfbd_525400a08725row13_col5\" class=\"data row13 col5\" >0.366035</td>\n",
       "                        <td id=\"T_e4c21e60_272a_11eb_bfbd_525400a08725row13_col6\" class=\"data row13 col6\" >0.375365</td>\n",
       "                        <td id=\"T_e4c21e60_272a_11eb_bfbd_525400a08725row13_col7\" class=\"data row13 col7\" >0.502291</td>\n",
       "                        <td id=\"T_e4c21e60_272a_11eb_bfbd_525400a08725row13_col8\" class=\"data row13 col8\" >0.464096</td>\n",
       "                        <td id=\"T_e4c21e60_272a_11eb_bfbd_525400a08725row13_col9\" class=\"data row13 col9\" >0.377113</td>\n",
       "                        <td id=\"T_e4c21e60_272a_11eb_bfbd_525400a08725row13_col10\" class=\"data row13 col10\" >0.363730</td>\n",
       "                        <td id=\"T_e4c21e60_272a_11eb_bfbd_525400a08725row13_col11\" class=\"data row13 col11\" >0.352881</td>\n",
       "                        <td id=\"T_e4c21e60_272a_11eb_bfbd_525400a08725row13_col12\" class=\"data row13 col12\" >0.555406</td>\n",
       "                        <td id=\"T_e4c21e60_272a_11eb_bfbd_525400a08725row13_col13\" class=\"data row13 col13\" >1.000000</td>\n",
       "                        <td id=\"T_e4c21e60_272a_11eb_bfbd_525400a08725row13_col14\" class=\"data row13 col14\" >0.453514</td>\n",
       "                        <td id=\"T_e4c21e60_272a_11eb_bfbd_525400a08725row13_col15\" class=\"data row13 col15\" >0.475294</td>\n",
       "                        <td id=\"T_e4c21e60_272a_11eb_bfbd_525400a08725row13_col16\" class=\"data row13 col16\" >0.513162</td>\n",
       "            </tr>\n",
       "            <tr>\n",
       "                        <th id=\"T_e4c21e60_272a_11eb_bfbd_525400a08725level0_row14\" class=\"row_heading level0 row14\" >Testing_policy</th>\n",
       "                        <td id=\"T_e4c21e60_272a_11eb_bfbd_525400a08725row14_col0\" class=\"data row14 col0\" >-0.199553</td>\n",
       "                        <td id=\"T_e4c21e60_272a_11eb_bfbd_525400a08725row14_col1\" class=\"data row14 col1\" >-0.313534</td>\n",
       "                        <td id=\"T_e4c21e60_272a_11eb_bfbd_525400a08725row14_col2\" class=\"data row14 col2\" >-0.161740</td>\n",
       "                        <td id=\"T_e4c21e60_272a_11eb_bfbd_525400a08725row14_col3\" class=\"data row14 col3\" >-0.303421</td>\n",
       "                        <td id=\"T_e4c21e60_272a_11eb_bfbd_525400a08725row14_col4\" class=\"data row14 col4\" >0.261669</td>\n",
       "                        <td id=\"T_e4c21e60_272a_11eb_bfbd_525400a08725row14_col5\" class=\"data row14 col5\" >-0.260206</td>\n",
       "                        <td id=\"T_e4c21e60_272a_11eb_bfbd_525400a08725row14_col6\" class=\"data row14 col6\" >-0.161346</td>\n",
       "                        <td id=\"T_e4c21e60_272a_11eb_bfbd_525400a08725row14_col7\" class=\"data row14 col7\" >0.009373</td>\n",
       "                        <td id=\"T_e4c21e60_272a_11eb_bfbd_525400a08725row14_col8\" class=\"data row14 col8\" >0.320749</td>\n",
       "                        <td id=\"T_e4c21e60_272a_11eb_bfbd_525400a08725row14_col9\" class=\"data row14 col9\" >0.292647</td>\n",
       "                        <td id=\"T_e4c21e60_272a_11eb_bfbd_525400a08725row14_col10\" class=\"data row14 col10\" >0.032410</td>\n",
       "                        <td id=\"T_e4c21e60_272a_11eb_bfbd_525400a08725row14_col11\" class=\"data row14 col11\" >0.198622</td>\n",
       "                        <td id=\"T_e4c21e60_272a_11eb_bfbd_525400a08725row14_col12\" class=\"data row14 col12\" >0.219332</td>\n",
       "                        <td id=\"T_e4c21e60_272a_11eb_bfbd_525400a08725row14_col13\" class=\"data row14 col13\" >0.453514</td>\n",
       "                        <td id=\"T_e4c21e60_272a_11eb_bfbd_525400a08725row14_col14\" class=\"data row14 col14\" >1.000000</td>\n",
       "                        <td id=\"T_e4c21e60_272a_11eb_bfbd_525400a08725row14_col15\" class=\"data row14 col15\" >0.743626</td>\n",
       "                        <td id=\"T_e4c21e60_272a_11eb_bfbd_525400a08725row14_col16\" class=\"data row14 col16\" >-0.105983</td>\n",
       "            </tr>\n",
       "            <tr>\n",
       "                        <th id=\"T_e4c21e60_272a_11eb_bfbd_525400a08725level0_row15\" class=\"row_heading level0 row15\" >Contact_tracing</th>\n",
       "                        <td id=\"T_e4c21e60_272a_11eb_bfbd_525400a08725row15_col0\" class=\"data row15 col0\" >-0.045577</td>\n",
       "                        <td id=\"T_e4c21e60_272a_11eb_bfbd_525400a08725row15_col1\" class=\"data row15 col1\" >-0.091416</td>\n",
       "                        <td id=\"T_e4c21e60_272a_11eb_bfbd_525400a08725row15_col2\" class=\"data row15 col2\" >-0.086278</td>\n",
       "                        <td id=\"T_e4c21e60_272a_11eb_bfbd_525400a08725row15_col3\" class=\"data row15 col3\" >-0.250895</td>\n",
       "                        <td id=\"T_e4c21e60_272a_11eb_bfbd_525400a08725row15_col4\" class=\"data row15 col4\" >0.255084</td>\n",
       "                        <td id=\"T_e4c21e60_272a_11eb_bfbd_525400a08725row15_col5\" class=\"data row15 col5\" >-0.219852</td>\n",
       "                        <td id=\"T_e4c21e60_272a_11eb_bfbd_525400a08725row15_col6\" class=\"data row15 col6\" >-0.163120</td>\n",
       "                        <td id=\"T_e4c21e60_272a_11eb_bfbd_525400a08725row15_col7\" class=\"data row15 col7\" >0.033707</td>\n",
       "                        <td id=\"T_e4c21e60_272a_11eb_bfbd_525400a08725row15_col8\" class=\"data row15 col8\" >0.377706</td>\n",
       "                        <td id=\"T_e4c21e60_272a_11eb_bfbd_525400a08725row15_col9\" class=\"data row15 col9\" >0.236995</td>\n",
       "                        <td id=\"T_e4c21e60_272a_11eb_bfbd_525400a08725row15_col10\" class=\"data row15 col10\" >0.171818</td>\n",
       "                        <td id=\"T_e4c21e60_272a_11eb_bfbd_525400a08725row15_col11\" class=\"data row15 col11\" >0.356733</td>\n",
       "                        <td id=\"T_e4c21e60_272a_11eb_bfbd_525400a08725row15_col12\" class=\"data row15 col12\" >0.189426</td>\n",
       "                        <td id=\"T_e4c21e60_272a_11eb_bfbd_525400a08725row15_col13\" class=\"data row15 col13\" >0.475294</td>\n",
       "                        <td id=\"T_e4c21e60_272a_11eb_bfbd_525400a08725row15_col14\" class=\"data row15 col14\" >0.743626</td>\n",
       "                        <td id=\"T_e4c21e60_272a_11eb_bfbd_525400a08725row15_col15\" class=\"data row15 col15\" >1.000000</td>\n",
       "                        <td id=\"T_e4c21e60_272a_11eb_bfbd_525400a08725row15_col16\" class=\"data row15 col16\" >0.008930</td>\n",
       "            </tr>\n",
       "            <tr>\n",
       "                        <th id=\"T_e4c21e60_272a_11eb_bfbd_525400a08725level0_row16\" class=\"row_heading level0 row16\" >Stringency_index</th>\n",
       "                        <td id=\"T_e4c21e60_272a_11eb_bfbd_525400a08725row16_col0\" class=\"data row16 col0\" >-0.341597</td>\n",
       "                        <td id=\"T_e4c21e60_272a_11eb_bfbd_525400a08725row16_col1\" class=\"data row16 col1\" >0.139607</td>\n",
       "                        <td id=\"T_e4c21e60_272a_11eb_bfbd_525400a08725row16_col2\" class=\"data row16 col2\" >-0.151556</td>\n",
       "                        <td id=\"T_e4c21e60_272a_11eb_bfbd_525400a08725row16_col3\" class=\"data row16 col3\" >-0.519110</td>\n",
       "                        <td id=\"T_e4c21e60_272a_11eb_bfbd_525400a08725row16_col4\" class=\"data row16 col4\" >-0.098425</td>\n",
       "                        <td id=\"T_e4c21e60_272a_11eb_bfbd_525400a08725row16_col5\" class=\"data row16 col5\" >0.874853</td>\n",
       "                        <td id=\"T_e4c21e60_272a_11eb_bfbd_525400a08725row16_col6\" class=\"data row16 col6\" >0.853001</td>\n",
       "                        <td id=\"T_e4c21e60_272a_11eb_bfbd_525400a08725row16_col7\" class=\"data row16 col7\" >0.826543</td>\n",
       "                        <td id=\"T_e4c21e60_272a_11eb_bfbd_525400a08725row16_col8\" class=\"data row16 col8\" >0.709334</td>\n",
       "                        <td id=\"T_e4c21e60_272a_11eb_bfbd_525400a08725row16_col9\" class=\"data row16 col9\" >0.544991</td>\n",
       "                        <td id=\"T_e4c21e60_272a_11eb_bfbd_525400a08725row16_col10\" class=\"data row16 col10\" >0.724401</td>\n",
       "                        <td id=\"T_e4c21e60_272a_11eb_bfbd_525400a08725row16_col11\" class=\"data row16 col11\" >0.555037</td>\n",
       "                        <td id=\"T_e4c21e60_272a_11eb_bfbd_525400a08725row16_col12\" class=\"data row16 col12\" >0.725671</td>\n",
       "                        <td id=\"T_e4c21e60_272a_11eb_bfbd_525400a08725row16_col13\" class=\"data row16 col13\" >0.513162</td>\n",
       "                        <td id=\"T_e4c21e60_272a_11eb_bfbd_525400a08725row16_col14\" class=\"data row16 col14\" >-0.105983</td>\n",
       "                        <td id=\"T_e4c21e60_272a_11eb_bfbd_525400a08725row16_col15\" class=\"data row16 col15\" >0.008930</td>\n",
       "                        <td id=\"T_e4c21e60_272a_11eb_bfbd_525400a08725row16_col16\" class=\"data row16 col16\" >1.000000</td>\n",
       "            </tr>\n",
       "    </tbody></table>"
      ],
      "text/plain": [
       "<pandas.io.formats.style.Styler at 0x7f6a34316ee0>"
      ]
     },
     "execution_count": 21,
     "metadata": {},
     "output_type": "execute_result"
    }
   ],
   "source": [
    "# Correlation\n",
    "df = track_df.copy()\n",
    "df.corr().style.background_gradient(axis=None)"
   ]
  },
  {
   "cell_type": "code",
   "execution_count": 22,
   "metadata": {
    "collapsed": false
   },
   "outputs": [
    {
     "data": {
      "image/png": "[encoded data removed]",
      "text/plain": [
       "<Figure size 432x288 with 1 Axes>"
      ]
     },
     "metadata": {},
     "output_type": "display_data"
    }
   ],
   "source": [
    "# Scatter plot of Stringency index and Rt\n",
    "df = track_df.copy()\n",
    "sns.scatterplot(data=df, x=\"Stringency_index\", y=\"Rt\", hue=\"Country\", legend=\"brief\", marker=\"+\")\n",
    "bbox_to_anchor=(1.02, 0)\n",
    "bbox_loc=\"lower left\"\n",
    "plt.legend(bbox_to_anchor=bbox_to_anchor, loc=bbox_loc, borderaxespad=0)\n",
    "plt.title(\"Relationship of Stringency index and reproduction number\")\n",
    "plt.ylabel(\"Reproduction number\")\n",
    "plt.xlabel(\"Stringency index\")\n",
    "plt.show()"
   ]
  }
 ],
 "metadata": {
  "kernelspec": {
   "display_name": "Python 3.8.2 64-bit ('.venv': venv)",
   "name": "python_defaultSpec_1597669925034"
  },
  "language_info": {
   "codemirror_mode": {
    "name": "ipython",
    "version": 3
   },
   "file_extension": ".py",
   "mimetype": "text/x-python",
   "name": "python",
   "nbconvert_exporter": "python",
   "pygments_lexer": "ipython3",
   "version": "3.8.2-final"
  }
 },
 "nbformat": 4,
 "nbformat_minor": 4
}
