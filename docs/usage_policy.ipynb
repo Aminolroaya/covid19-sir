{
 "cells": [
  {
   "cell_type": "markdown",
   "metadata": {},
   "source": [
    "# Usage (details: policy measures)\n",
    "Here, we will analyse the relationship of policy measures and parameter values of SIR-derived ODE models. Policy measures are tracked by [Oxford Covid-19 Government Response Tracker (OxCGRT)](https://github.com/OxCGRT/covid-policy-tracker)."
   ]
  },
  {
   "cell_type": "markdown",
   "metadata": {},
   "source": [
    "## Preparation"
   ]
  },
  {
   "cell_type": "code",
   "execution_count": 1,
   "metadata": {
    "collapsed": false
   },
   "outputs": [],
   "source": [
    "# Standard users\n",
    "# !pip install covsirphy\n",
    "# Developers (Note: this notebook is in example directory)\n",
    "import os\n",
    "os.chdir(\"../\")"
   ]
  },
  {
   "cell_type": "code",
   "execution_count": 2,
   "metadata": {
    "collapsed": false
   },
   "outputs": [],
   "source": [
    "from pprint import pprint"
   ]
  },
  {
   "cell_type": "code",
   "execution_count": 3,
   "metadata": {
    "collapsed": false
   },
   "outputs": [
    {
     "data": {
      "text/plain": [
       "'2.7.1'"
      ]
     },
     "execution_count": 3,
     "metadata": {},
     "output_type": "execute_result"
    }
   ],
   "source": [
    "import covsirphy as cs\n",
    "cs.__version__"
   ]
  },
  {
   "cell_type": "code",
   "execution_count": 4,
   "metadata": {
    "collapsed": false,
    "tags": []
   },
   "outputs": [
    {
     "name": "stdout",
     "output_type": "stream",
     "text": [
      "(Secondary source) Guidotti, E., Ardia, D., (2020), \"COVID-19 Data Hub\", Working paper, doi: 10.13140/RG.2.2.11649.81763.\n",
      "We can get Citation list of primary sources with DataLoader(...).covid19dh_citation"
     ]
    },
    {
     "name": "stdout",
     "output_type": "stream",
     "text": [
      "\n"
     ]
    }
   ],
   "source": [
    "# Standard users and developers\n",
    "data_loader = cs.DataLoader(\"input\")\n",
    "# The number of cases (JHU style)\n",
    "jhu_data = data_loader.jhu(verbose=False)\n",
    "# Population in each country\n",
    "population_data = data_loader.population(verbose=False)\n",
    "# Government Response Tracker (OxCGRT)\n",
    "oxcgrt_data = data_loader.oxcgrt(verbose=False)\n",
    "# Description/citation\n",
    "print(oxcgrt_data.citation)"
   ]
  },
  {
   "cell_type": "markdown",
   "metadata": {},
   "source": [
    "## Class for policy measure analysis\n",
    "We will `PolicyMeasures` class to find relationship of policy measures and parameter values of SIR-derived ODE models."
   ]
  },
  {
   "cell_type": "code",
   "execution_count": 5,
   "metadata": {
    "collapsed": false,
    "tags": []
   },
   "outputs": [
    {
     "data": {
      "text/plain": [
       "184"
      ]
     },
     "execution_count": 5,
     "metadata": {},
     "output_type": "execute_result"
    }
   ],
   "source": [
    "# Create analyser with tau value 360 [min] (can be changed)\n",
    "analyser = cs.PolicyMeasures(jhu_data, population_data, oxcgrt_data, tau=360)\n",
    "# The number of registerd countries\n",
    "len(analyser.countries)"
   ]
  },
  {
   "cell_type": "code",
   "execution_count": 6,
   "metadata": {
    "collapsed": false
   },
   "outputs": [
    {
     "data": {
      "text/plain": [
       "covsirphy.analysis.scenario.Scenario"
      ]
     },
     "execution_count": 6,
     "metadata": {},
     "output_type": "execute_result"
    }
   ],
   "source": [
    "# We can get Scenario instance for detailed scenario analysis\n",
    "type(analyser.scenario(\"Japan\"))"
   ]
  },
  {
   "cell_type": "markdown",
   "metadata": {},
   "source": [
    "## Set phases with S-R trend analysis\n",
    "We will perform S-R trend analysis to set phases in all countries. Countries which do not have **9th phases** will be un-registered for the next analysis. This number will be adjusted for your analysis."
   ]
  },
  {
   "cell_type": "code",
   "execution_count": 7,
   "metadata": {
    "collapsed": false
   },
   "outputs": [
    {
     "name": "stdout",
     "output_type": "stream",
     "text": [
      "{"
     ]
    },
    {
     "name": "stdout",
     "output_type": "stream",
     "text": [
      "2"
     ]
    },
    {
     "name": "stdout",
     "output_type": "stream",
     "text": [
      ": "
     ]
    },
    {
     "name": "stdout",
     "output_type": "stream",
     "text": [
      "['Papua New Guinea', 'Namibia', 'Bahamas']"
     ]
    },
    {
     "name": "stdout",
     "output_type": "stream",
     "text": [
      ",\n",
      " "
     ]
    },
    {
     "name": "stdout",
     "output_type": "stream",
     "text": [
      "3"
     ]
    },
    {
     "name": "stdout",
     "output_type": "stream",
     "text": [
      ": "
     ]
    },
    {
     "name": "stdout",
     "output_type": "stream",
     "text": [
      "["
     ]
    },
    {
     "name": "stdout",
     "output_type": "stream",
     "text": [
      "'Eritrea'"
     ]
    },
    {
     "name": "stdout",
     "output_type": "stream",
     "text": [
      ", "
     ]
    },
    {
     "name": "stdout",
     "output_type": "stream",
     "text": [
      "'Seychelles'"
     ]
    },
    {
     "name": "stdout",
     "output_type": "stream",
     "text": [
      ", "
     ]
    },
    {
     "name": "stdout",
     "output_type": "stream",
     "text": [
      "'Lesotho'"
     ]
    },
    {
     "name": "stdout",
     "output_type": "stream",
     "text": [
      ", "
     ]
    },
    {
     "name": "stdout",
     "output_type": "stream",
     "text": [
      "'Zimbabwe'"
     ]
    },
    {
     "name": "stdout",
     "output_type": "stream",
     "text": [
      ", "
     ]
    },
    {
     "name": "stdout",
     "output_type": "stream",
     "text": [
      "'Gambia'"
     ]
    },
    {
     "name": "stdout",
     "output_type": "stream",
     "text": [
      ",\n",
      "     "
     ]
    },
    {
     "name": "stdout",
     "output_type": "stream",
     "text": [
      "'Antigua and Barbuda'"
     ]
    },
    {
     "name": "stdout",
     "output_type": "stream",
     "text": [
      ", "
     ]
    },
    {
     "name": "stdout",
     "output_type": "stream",
     "text": [
      "'Tanzania'"
     ]
    },
    {
     "name": "stdout",
     "output_type": "stream",
     "text": [
      ", "
     ]
    },
    {
     "name": "stdout",
     "output_type": "stream",
     "text": [
      "'Mauritius'"
     ]
    },
    {
     "name": "stdout",
     "output_type": "stream",
     "text": [
      ", "
     ]
    },
    {
     "name": "stdout",
     "output_type": "stream",
     "text": [
      "'Brunei'"
     ]
    },
    {
     "name": "stdout",
     "output_type": "stream",
     "text": [
      "]"
     ]
    },
    {
     "name": "stdout",
     "output_type": "stream",
     "text": [
      ",\n",
      " "
     ]
    },
    {
     "name": "stdout",
     "output_type": "stream",
     "text": [
      "4"
     ]
    },
    {
     "name": "stdout",
     "output_type": "stream",
     "text": [
      ": "
     ]
    },
    {
     "name": "stdout",
     "output_type": "stream",
     "text": [
      "["
     ]
    },
    {
     "name": "stdout",
     "output_type": "stream",
     "text": [
      "'Botswana'"
     ]
    },
    {
     "name": "stdout",
     "output_type": "stream",
     "text": [
      ", "
     ]
    },
    {
     "name": "stdout",
     "output_type": "stream",
     "text": [
      "'Grenada'"
     ]
    },
    {
     "name": "stdout",
     "output_type": "stream",
     "text": [
      ", "
     ]
    },
    {
     "name": "stdout",
     "output_type": "stream",
     "text": [
      "'New Zealand'"
     ]
    },
    {
     "name": "stdout",
     "output_type": "stream",
     "text": [
      ", "
     ]
    },
    {
     "name": "stdout",
     "output_type": "stream",
     "text": [
      "'Ireland'"
     ]
    },
    {
     "name": "stdout",
     "output_type": "stream",
     "text": [
      ", "
     ]
    },
    {
     "name": "stdout",
     "output_type": "stream",
     "text": [
      "'Guyana'"
     ]
    },
    {
     "name": "stdout",
     "output_type": "stream",
     "text": [
      ", "
     ]
    },
    {
     "name": "stdout",
     "output_type": "stream",
     "text": [
      "'Venezuela'"
     ]
    },
    {
     "name": "stdout",
     "output_type": "stream",
     "text": [
      ",\n",
      "     "
     ]
    },
    {
     "name": "stdout",
     "output_type": "stream",
     "text": [
      "'Guatemala'"
     ]
    },
    {
     "name": "stdout",
     "output_type": "stream",
     "text": [
      ", "
     ]
    },
    {
     "name": "stdout",
     "output_type": "stream",
     "text": [
      "'Belize'"
     ]
    },
    {
     "name": "stdout",
     "output_type": "stream",
     "text": [
      ", "
     ]
    },
    {
     "name": "stdout",
     "output_type": "stream",
     "text": [
      "'Iceland'"
     ]
    },
    {
     "name": "stdout",
     "output_type": "stream",
     "text": [
      ", "
     ]
    },
    {
     "name": "stdout",
     "output_type": "stream",
     "text": [
      "'Palestine'"
     ]
    },
    {
     "name": "stdout",
     "output_type": "stream",
     "text": [
      ", "
     ]
    },
    {
     "name": "stdout",
     "output_type": "stream",
     "text": [
      "'Norway'"
     ]
    },
    {
     "name": "stdout",
     "output_type": "stream",
     "text": [
      ", "
     ]
    },
    {
     "name": "stdout",
     "output_type": "stream",
     "text": [
      "'Kyrgyzstan'"
     ]
    },
    {
     "name": "stdout",
     "output_type": "stream",
     "text": [
      ",\n",
      "     "
     ]
    },
    {
     "name": "stdout",
     "output_type": "stream",
     "text": [
      "'Zambia'"
     ]
    },
    {
     "name": "stdout",
     "output_type": "stream",
     "text": [
      ", "
     ]
    },
    {
     "name": "stdout",
     "output_type": "stream",
     "text": [
      "'South Sudan'"
     ]
    },
    {
     "name": "stdout",
     "output_type": "stream",
     "text": [
      ", "
     ]
    },
    {
     "name": "stdout",
     "output_type": "stream",
     "text": [
      "'Montenegro'"
     ]
    },
    {
     "name": "stdout",
     "output_type": "stream",
     "text": [
      ", "
     ]
    },
    {
     "name": "stdout",
     "output_type": "stream",
     "text": [
      "'Sao Tome and Principe'"
     ]
    },
    {
     "name": "stdout",
     "output_type": "stream",
     "text": [
      "]"
     ]
    },
    {
     "name": "stdout",
     "output_type": "stream",
     "text": [
      ",\n",
      " "
     ]
    },
    {
     "name": "stdout",
     "output_type": "stream",
     "text": [
      "5"
     ]
    },
    {
     "name": "stdout",
     "output_type": "stream",
     "text": [
      ": "
     ]
    },
    {
     "name": "stdout",
     "output_type": "stream",
     "text": [
      "["
     ]
    },
    {
     "name": "stdout",
     "output_type": "stream",
     "text": [
      "'Haiti'"
     ]
    },
    {
     "name": "stdout",
     "output_type": "stream",
     "text": [
      ", "
     ]
    },
    {
     "name": "stdout",
     "output_type": "stream",
     "text": [
      "'San Marino'"
     ]
    },
    {
     "name": "stdout",
     "output_type": "stream",
     "text": [
      ", "
     ]
    },
    {
     "name": "stdout",
     "output_type": "stream",
     "text": [
      "'Vietnam'"
     ]
    },
    {
     "name": "stdout",
     "output_type": "stream",
     "text": [
      ", "
     ]
    },
    {
     "name": "stdout",
     "output_type": "stream",
     "text": [
      "'Angola'"
     ]
    },
    {
     "name": "stdout",
     "output_type": "stream",
     "text": [
      ", "
     ]
    },
    {
     "name": "stdout",
     "output_type": "stream",
     "text": [
      "'Bermuda'"
     ]
    },
    {
     "name": "stdout",
     "output_type": "stream",
     "text": [
      ", "
     ]
    },
    {
     "name": "stdout",
     "output_type": "stream",
     "text": [
      "'Costa Rica'"
     ]
    },
    {
     "name": "stdout",
     "output_type": "stream",
     "text": [
      ",\n",
      "     "
     ]
    },
    {
     "name": "stdout",
     "output_type": "stream",
     "text": [
      "'Ethiopia'"
     ]
    },
    {
     "name": "stdout",
     "output_type": "stream",
     "text": [
      ", "
     ]
    },
    {
     "name": "stdout",
     "output_type": "stream",
     "text": [
      "'Suriname'"
     ]
    },
    {
     "name": "stdout",
     "output_type": "stream",
     "text": [
      ", "
     ]
    },
    {
     "name": "stdout",
     "output_type": "stream",
     "text": [
      "'Libya'"
     ]
    },
    {
     "name": "stdout",
     "output_type": "stream",
     "text": [
      ", "
     ]
    },
    {
     "name": "stdout",
     "output_type": "stream",
     "text": [
      "'Spain'"
     ]
    },
    {
     "name": "stdout",
     "output_type": "stream",
     "text": [
      ", "
     ]
    },
    {
     "name": "stdout",
     "output_type": "stream",
     "text": [
      "'Chad'"
     ]
    },
    {
     "name": "stdout",
     "output_type": "stream",
     "text": [
      ", "
     ]
    },
    {
     "name": "stdout",
     "output_type": "stream",
     "text": [
      "'Australia'"
     ]
    },
    {
     "name": "stdout",
     "output_type": "stream",
     "text": [
      ",\n",
      "     "
     ]
    },
    {
     "name": "stdout",
     "output_type": "stream",
     "text": [
      "'Philippines'"
     ]
    },
    {
     "name": "stdout",
     "output_type": "stream",
     "text": [
      ", "
     ]
    },
    {
     "name": "stdout",
     "output_type": "stream",
     "text": [
      "'Maldives'"
     ]
    },
    {
     "name": "stdout",
     "output_type": "stream",
     "text": [
      ", "
     ]
    },
    {
     "name": "stdout",
     "output_type": "stream",
     "text": [
      "'Guinea-Bissau'"
     ]
    },
    {
     "name": "stdout",
     "output_type": "stream",
     "text": [
      ", "
     ]
    },
    {
     "name": "stdout",
     "output_type": "stream",
     "text": [
      "'Equatorial Guinea'"
     ]
    },
    {
     "name": "stdout",
     "output_type": "stream",
     "text": [
      ", "
     ]
    },
    {
     "name": "stdout",
     "output_type": "stream",
     "text": [
      "'Comoros'"
     ]
    },
    {
     "name": "stdout",
     "output_type": "stream",
     "text": [
      ",\n",
      "     "
     ]
    },
    {
     "name": "stdout",
     "output_type": "stream",
     "text": [
      "'Madagascar'"
     ]
    },
    {
     "name": "stdout",
     "output_type": "stream",
     "text": [
      ", "
     ]
    },
    {
     "name": "stdout",
     "output_type": "stream",
     "text": [
      "'Lebanon'"
     ]
    },
    {
     "name": "stdout",
     "output_type": "stream",
     "text": [
      ", "
     ]
    },
    {
     "name": "stdout",
     "output_type": "stream",
     "text": [
      "'Saint Lucia'"
     ]
    },
    {
     "name": "stdout",
     "output_type": "stream",
     "text": [
      ", "
     ]
    },
    {
     "name": "stdout",
     "output_type": "stream",
     "text": [
      "'Saint Vincent and the Grenadines'"
     ]
    },
    {
     "name": "stdout",
     "output_type": "stream",
     "text": [
      ",\n",
      "     "
     ]
    },
    {
     "name": "stdout",
     "output_type": "stream",
     "text": [
      "'Malawi'"
     ]
    },
    {
     "name": "stdout",
     "output_type": "stream",
     "text": [
      ", "
     ]
    },
    {
     "name": "stdout",
     "output_type": "stream",
     "text": [
      "'Cambodia'"
     ]
    },
    {
     "name": "stdout",
     "output_type": "stream",
     "text": [
      ", "
     ]
    },
    {
     "name": "stdout",
     "output_type": "stream",
     "text": [
      "'Central African Republic'"
     ]
    },
    {
     "name": "stdout",
     "output_type": "stream",
     "text": [
      ", "
     ]
    },
    {
     "name": "stdout",
     "output_type": "stream",
     "text": [
      "'Bosnia and Herzegovina'"
     ]
    },
    {
     "name": "stdout",
     "output_type": "stream",
     "text": [
      ",\n",
      "     "
     ]
    },
    {
     "name": "stdout",
     "output_type": "stream",
     "text": [
      "'Paraguay'"
     ]
    },
    {
     "name": "stdout",
     "output_type": "stream",
     "text": [
      ", "
     ]
    },
    {
     "name": "stdout",
     "output_type": "stream",
     "text": [
      "'Swaziland'"
     ]
    },
    {
     "name": "stdout",
     "output_type": "stream",
     "text": [
      ", "
     ]
    },
    {
     "name": "stdout",
     "output_type": "stream",
     "text": [
      "'Liechtenstein'"
     ]
    },
    {
     "name": "stdout",
     "output_type": "stream",
     "text": [
      ", "
     ]
    },
    {
     "name": "stdout",
     "output_type": "stream",
     "text": [
      "'Syria'"
     ]
    },
    {
     "name": "stdout",
     "output_type": "stream",
     "text": [
      ", "
     ]
    },
    {
     "name": "stdout",
     "output_type": "stream",
     "text": [
      "'Morocco'"
     ]
    },
    {
     "name": "stdout",
     "output_type": "stream",
     "text": [
      "]"
     ]
    },
    {
     "name": "stdout",
     "output_type": "stream",
     "text": [
      ",\n",
      " "
     ]
    },
    {
     "name": "stdout",
     "output_type": "stream",
     "text": [
      "6"
     ]
    },
    {
     "name": "stdout",
     "output_type": "stream",
     "text": [
      ": "
     ]
    },
    {
     "name": "stdout",
     "output_type": "stream",
     "text": [
      "["
     ]
    },
    {
     "name": "stdout",
     "output_type": "stream",
     "text": [
      "'Cameroon'"
     ]
    },
    {
     "name": "stdout",
     "output_type": "stream",
     "text": [
      ", "
     ]
    },
    {
     "name": "stdout",
     "output_type": "stream",
     "text": [
      "'Kenya'"
     ]
    },
    {
     "name": "stdout",
     "output_type": "stream",
     "text": [
      ", "
     ]
    },
    {
     "name": "stdout",
     "output_type": "stream",
     "text": [
      "'Kazakhstan'"
     ]
    },
    {
     "name": "stdout",
     "output_type": "stream",
     "text": [
      ", "
     ]
    },
    {
     "name": "stdout",
     "output_type": "stream",
     "text": [
      "'India'"
     ]
    },
    {
     "name": "stdout",
     "output_type": "stream",
     "text": [
      ", "
     ]
    },
    {
     "name": "stdout",
     "output_type": "stream",
     "text": [
      "'Andorra'"
     ]
    },
    {
     "name": "stdout",
     "output_type": "stream",
     "text": [
      ", "
     ]
    },
    {
     "name": "stdout",
     "output_type": "stream",
     "text": [
      "'Uzbekistan'"
     ]
    },
    {
     "name": "stdout",
     "output_type": "stream",
     "text": [
      ",\n",
      "     "
     ]
    },
    {
     "name": "stdout",
     "output_type": "stream",
     "text": [
      "'Rwanda'"
     ]
    },
    {
     "name": "stdout",
     "output_type": "stream",
     "text": [
      ", "
     ]
    },
    {
     "name": "stdout",
     "output_type": "stream",
     "text": [
      "'Thailand'"
     ]
    },
    {
     "name": "stdout",
     "output_type": "stream",
     "text": [
      ", "
     ]
    },
    {
     "name": "stdout",
     "output_type": "stream",
     "text": [
      "'Tajikistan'"
     ]
    },
    {
     "name": "stdout",
     "output_type": "stream",
     "text": [
      ", "
     ]
    },
    {
     "name": "stdout",
     "output_type": "stream",
     "text": [
      "'Macedonia'"
     ]
    },
    {
     "name": "stdout",
     "output_type": "stream",
     "text": [
      ", "
     ]
    },
    {
     "name": "stdout",
     "output_type": "stream",
     "text": [
      "'Croatia'"
     ]
    },
    {
     "name": "stdout",
     "output_type": "stream",
     "text": [
      ", "
     ]
    },
    {
     "name": "stdout",
     "output_type": "stream",
     "text": [
      "'Burundi'"
     ]
    },
    {
     "name": "stdout",
     "output_type": "stream",
     "text": [
      ",\n",
      "     "
     ]
    },
    {
     "name": "stdout",
     "output_type": "stream",
     "text": [
      "'Uganda'"
     ]
    },
    {
     "name": "stdout",
     "output_type": "stream",
     "text": [
      ", "
     ]
    },
    {
     "name": "stdout",
     "output_type": "stream",
     "text": [
      "'Cuba'"
     ]
    },
    {
     "name": "stdout",
     "output_type": "stream",
     "text": [
      ", "
     ]
    },
    {
     "name": "stdout",
     "output_type": "stream",
     "text": [
      "'Argentina'"
     ]
    },
    {
     "name": "stdout",
     "output_type": "stream",
     "text": [
      ", "
     ]
    },
    {
     "name": "stdout",
     "output_type": "stream",
     "text": [
      "'Slovakia'"
     ]
    },
    {
     "name": "stdout",
     "output_type": "stream",
     "text": [
      ", "
     ]
    },
    {
     "name": "stdout",
     "output_type": "stream",
     "text": [
      "'Niger'"
     ]
    },
    {
     "name": "stdout",
     "output_type": "stream",
     "text": [
      ", "
     ]
    },
    {
     "name": "stdout",
     "output_type": "stream",
     "text": [
      "'Kosovo'"
     ]
    },
    {
     "name": "stdout",
     "output_type": "stream",
     "text": [
      ", "
     ]
    },
    {
     "name": "stdout",
     "output_type": "stream",
     "text": [
      "'Mongolia'"
     ]
    },
    {
     "name": "stdout",
     "output_type": "stream",
     "text": [
      ",\n",
      "     "
     ]
    },
    {
     "name": "stdout",
     "output_type": "stream",
     "text": [
      "'Ecuador'"
     ]
    },
    {
     "name": "stdout",
     "output_type": "stream",
     "text": [
      ", "
     ]
    },
    {
     "name": "stdout",
     "output_type": "stream",
     "text": [
      "'Malta'"
     ]
    },
    {
     "name": "stdout",
     "output_type": "stream",
     "text": [
      ", "
     ]
    },
    {
     "name": "stdout",
     "output_type": "stream",
     "text": [
      "'Congo'"
     ]
    },
    {
     "name": "stdout",
     "output_type": "stream",
     "text": [
      ", "
     ]
    },
    {
     "name": "stdout",
     "output_type": "stream",
     "text": [
      "'Japan'"
     ]
    },
    {
     "name": "stdout",
     "output_type": "stream",
     "text": [
      ", "
     ]
    },
    {
     "name": "stdout",
     "output_type": "stream",
     "text": [
      "'Sri Lanka'"
     ]
    },
    {
     "name": "stdout",
     "output_type": "stream",
     "text": [
      ", "
     ]
    },
    {
     "name": "stdout",
     "output_type": "stream",
     "text": [
      "'Oman'"
     ]
    },
    {
     "name": "stdout",
     "output_type": "stream",
     "text": [
      ", "
     ]
    },
    {
     "name": "stdout",
     "output_type": "stream",
     "text": [
      "'Colombia'"
     ]
    },
    {
     "name": "stdout",
     "output_type": "stream",
     "text": [
      ",\n",
      "     "
     ]
    },
    {
     "name": "stdout",
     "output_type": "stream",
     "text": [
      "'Mozambique'"
     ]
    },
    {
     "name": "stdout",
     "output_type": "stream",
     "text": [
      ", "
     ]
    },
    {
     "name": "stdout",
     "output_type": "stream",
     "text": [
      "'Yemen'"
     ]
    },
    {
     "name": "stdout",
     "output_type": "stream",
     "text": [
      ", "
     ]
    },
    {
     "name": "stdout",
     "output_type": "stream",
     "text": [
      "'Afghanistan'"
     ]
    },
    {
     "name": "stdout",
     "output_type": "stream",
     "text": [
      ", "
     ]
    },
    {
     "name": "stdout",
     "output_type": "stream",
     "text": [
      "'Bolivia'"
     ]
    },
    {
     "name": "stdout",
     "output_type": "stream",
     "text": [
      ", "
     ]
    },
    {
     "name": "stdout",
     "output_type": "stream",
     "text": [
      "'Taiwan'"
     ]
    },
    {
     "name": "stdout",
     "output_type": "stream",
     "text": [
      ", "
     ]
    },
    {
     "name": "stdout",
     "output_type": "stream",
     "text": [
      "'Luxembourg'"
     ]
    },
    {
     "name": "stdout",
     "output_type": "stream",
     "text": [
      ",\n",
      "     "
     ]
    },
    {
     "name": "stdout",
     "output_type": "stream",
     "text": [
      "'Trinidad and Tobago'"
     ]
    },
    {
     "name": "stdout",
     "output_type": "stream",
     "text": [
      ", "
     ]
    },
    {
     "name": "stdout",
     "output_type": "stream",
     "text": [
      "'Iraq'"
     ]
    },
    {
     "name": "stdout",
     "output_type": "stream",
     "text": [
      ", "
     ]
    },
    {
     "name": "stdout",
     "output_type": "stream",
     "text": [
      "'Slovenia'"
     ]
    },
    {
     "name": "stdout",
     "output_type": "stream",
     "text": [
      ", "
     ]
    },
    {
     "name": "stdout",
     "output_type": "stream",
     "text": [
      "'South Africa'"
     ]
    },
    {
     "name": "stdout",
     "output_type": "stream",
     "text": [
      ", "
     ]
    },
    {
     "name": "stdout",
     "output_type": "stream",
     "text": [
      "'Panama'"
     ]
    },
    {
     "name": "stdout",
     "output_type": "stream",
     "text": [
      ",\n",
      "     "
     ]
    },
    {
     "name": "stdout",
     "output_type": "stream",
     "text": [
      "'Netherlands'"
     ]
    },
    {
     "name": "stdout",
     "output_type": "stream",
     "text": [
      ", "
     ]
    },
    {
     "name": "stdout",
     "output_type": "stream",
     "text": [
      "'Mauritania'"
     ]
    },
    {
     "name": "stdout",
     "output_type": "stream",
     "text": [
      ", "
     ]
    },
    {
     "name": "stdout",
     "output_type": "stream",
     "text": [
      "'Israel'"
     ]
    },
    {
     "name": "stdout",
     "output_type": "stream",
     "text": [
      "]"
     ]
    },
    {
     "name": "stdout",
     "output_type": "stream",
     "text": [
      ",\n",
      " "
     ]
    },
    {
     "name": "stdout",
     "output_type": "stream",
     "text": [
      "7"
     ]
    },
    {
     "name": "stdout",
     "output_type": "stream",
     "text": [
      ": "
     ]
    },
    {
     "name": "stdout",
     "output_type": "stream",
     "text": [
      "["
     ]
    },
    {
     "name": "stdout",
     "output_type": "stream",
     "text": [
      "'Chile'"
     ]
    },
    {
     "name": "stdout",
     "output_type": "stream",
     "text": [
      ", "
     ]
    },
    {
     "name": "stdout",
     "output_type": "stream",
     "text": [
      "'Germany'"
     ]
    },
    {
     "name": "stdout",
     "output_type": "stream",
     "text": [
      ", "
     ]
    },
    {
     "name": "stdout",
     "output_type": "stream",
     "text": [
      "'Burkina Faso'"
     ]
    },
    {
     "name": "stdout",
     "output_type": "stream",
     "text": [
      ", "
     ]
    },
    {
     "name": "stdout",
     "output_type": "stream",
     "text": [
      "'Finland'"
     ]
    },
    {
     "name": "stdout",
     "output_type": "stream",
     "text": [
      ", "
     ]
    },
    {
     "name": "stdout",
     "output_type": "stream",
     "text": [
      "'Albania'"
     ]
    },
    {
     "name": "stdout",
     "output_type": "stream",
     "text": [
      ", "
     ]
    },
    {
     "name": "stdout",
     "output_type": "stream",
     "text": [
      "'Ghana'"
     ]
    },
    {
     "name": "stdout",
     "output_type": "stream",
     "text": [
      ", "
     ]
    },
    {
     "name": "stdout",
     "output_type": "stream",
     "text": [
      "'China'"
     ]
    },
    {
     "name": "stdout",
     "output_type": "stream",
     "text": [
      ",\n",
      "     "
     ]
    },
    {
     "name": "stdout",
     "output_type": "stream",
     "text": [
      "'Greece'"
     ]
    },
    {
     "name": "stdout",
     "output_type": "stream",
     "text": [
      ", "
     ]
    },
    {
     "name": "stdout",
     "output_type": "stream",
     "text": [
      "'Sierra Leone'"
     ]
    },
    {
     "name": "stdout",
     "output_type": "stream",
     "text": [
      ", "
     ]
    },
    {
     "name": "stdout",
     "output_type": "stream",
     "text": [
      "'Tunisia'"
     ]
    },
    {
     "name": "stdout",
     "output_type": "stream",
     "text": [
      ", "
     ]
    },
    {
     "name": "stdout",
     "output_type": "stream",
     "text": [
      "'Armenia'"
     ]
    },
    {
     "name": "stdout",
     "output_type": "stream",
     "text": [
      ", "
     ]
    },
    {
     "name": "stdout",
     "output_type": "stream",
     "text": [
      "'Monaco'"
     ]
    },
    {
     "name": "stdout",
     "output_type": "stream",
     "text": [
      ", "
     ]
    },
    {
     "name": "stdout",
     "output_type": "stream",
     "text": [
      "'Brazil'"
     ]
    },
    {
     "name": "stdout",
     "output_type": "stream",
     "text": [
      ",\n",
      "     "
     ]
    },
    {
     "name": "stdout",
     "output_type": "stream",
     "text": [
      "'Bulgaria'"
     ]
    },
    {
     "name": "stdout",
     "output_type": "stream",
     "text": [
      ", "
     ]
    },
    {
     "name": "stdout",
     "output_type": "stream",
     "text": [
      "'Somalia'"
     ]
    },
    {
     "name": "stdout",
     "output_type": "stream",
     "text": [
      ", "
     ]
    },
    {
     "name": "stdout",
     "output_type": "stream",
     "text": [
      "'Uruguay'"
     ]
    },
    {
     "name": "stdout",
     "output_type": "stream",
     "text": [
      ", "
     ]
    },
    {
     "name": "stdout",
     "output_type": "stream",
     "text": [
      "'Canada'"
     ]
    },
    {
     "name": "stdout",
     "output_type": "stream",
     "text": [
      ", "
     ]
    },
    {
     "name": "stdout",
     "output_type": "stream",
     "text": [
      "'Djibouti'"
     ]
    },
    {
     "name": "stdout",
     "output_type": "stream",
     "text": [
      ", "
     ]
    },
    {
     "name": "stdout",
     "output_type": "stream",
     "text": [
      "'Nicaragua'"
     ]
    },
    {
     "name": "stdout",
     "output_type": "stream",
     "text": [
      ",\n",
      "     "
     ]
    },
    {
     "name": "stdout",
     "output_type": "stream",
     "text": [
      "'Azerbaijan'"
     ]
    },
    {
     "name": "stdout",
     "output_type": "stream",
     "text": [
      ", "
     ]
    },
    {
     "name": "stdout",
     "output_type": "stream",
     "text": [
      "'Pakistan'"
     ]
    },
    {
     "name": "stdout",
     "output_type": "stream",
     "text": [
      ", "
     ]
    },
    {
     "name": "stdout",
     "output_type": "stream",
     "text": [
      "'Cape Verde'"
     ]
    },
    {
     "name": "stdout",
     "output_type": "stream",
     "text": [
      ", "
     ]
    },
    {
     "name": "stdout",
     "output_type": "stream",
     "text": [
      "'Belarus'"
     ]
    },
    {
     "name": "stdout",
     "output_type": "stream",
     "text": [
      ", "
     ]
    },
    {
     "name": "stdout",
     "output_type": "stream",
     "text": [
      "'Jordan'"
     ]
    },
    {
     "name": "stdout",
     "output_type": "stream",
     "text": [
      ", "
     ]
    },
    {
     "name": "stdout",
     "output_type": "stream",
     "text": [
      "'Sudan'"
     ]
    },
    {
     "name": "stdout",
     "output_type": "stream",
     "text": [
      ",\n",
      "     "
     ]
    },
    {
     "name": "stdout",
     "output_type": "stream",
     "text": [
      "'Latvia'"
     ]
    },
    {
     "name": "stdout",
     "output_type": "stream",
     "text": [
      ", "
     ]
    },
    {
     "name": "stdout",
     "output_type": "stream",
     "text": [
      "'Bhutan'"
     ]
    },
    {
     "name": "stdout",
     "output_type": "stream",
     "text": [
      ", "
     ]
    },
    {
     "name": "stdout",
     "output_type": "stream",
     "text": [
      "'Algeria'"
     ]
    },
    {
     "name": "stdout",
     "output_type": "stream",
     "text": [
      ", "
     ]
    },
    {
     "name": "stdout",
     "output_type": "stream",
     "text": [
      "'Gabon'"
     ]
    },
    {
     "name": "stdout",
     "output_type": "stream",
     "text": [
      ", "
     ]
    },
    {
     "name": "stdout",
     "output_type": "stream",
     "text": [
      "'Serbia'"
     ]
    },
    {
     "name": "stdout",
     "output_type": "stream",
     "text": [
      ", "
     ]
    },
    {
     "name": "stdout",
     "output_type": "stream",
     "text": [
      "'Qatar'"
     ]
    },
    {
     "name": "stdout",
     "output_type": "stream",
     "text": [
      ", "
     ]
    },
    {
     "name": "stdout",
     "output_type": "stream",
     "text": [
      "'Cyprus'"
     ]
    },
    {
     "name": "stdout",
     "output_type": "stream",
     "text": [
      ",\n",
      "     "
     ]
    },
    {
     "name": "stdout",
     "output_type": "stream",
     "text": [
      "'Nepal'"
     ]
    },
    {
     "name": "stdout",
     "output_type": "stream",
     "text": [
      ", "
     ]
    },
    {
     "name": "stdout",
     "output_type": "stream",
     "text": [
      "'Estonia'"
     ]
    },
    {
     "name": "stdout",
     "output_type": "stream",
     "text": [
      ", "
     ]
    },
    {
     "name": "stdout",
     "output_type": "stream",
     "text": [
      "'Egypt'"
     ]
    },
    {
     "name": "stdout",
     "output_type": "stream",
     "text": [
      ", "
     ]
    },
    {
     "name": "stdout",
     "output_type": "stream",
     "text": [
      "'Honduras'"
     ]
    },
    {
     "name": "stdout",
     "output_type": "stream",
     "text": [
      ", "
     ]
    },
    {
     "name": "stdout",
     "output_type": "stream",
     "text": [
      "'Benin'"
     ]
    },
    {
     "name": "stdout",
     "output_type": "stream",
     "text": [
      ", "
     ]
    },
    {
     "name": "stdout",
     "output_type": "stream",
     "text": [
      "'El Salvador'"
     ]
    },
    {
     "name": "stdout",
     "output_type": "stream",
     "text": [
      ",\n",
      "     "
     ]
    },
    {
     "name": "stdout",
     "output_type": "stream",
     "text": [
      "'Indonesia'"
     ]
    },
    {
     "name": "stdout",
     "output_type": "stream",
     "text": [
      ", "
     ]
    },
    {
     "name": "stdout",
     "output_type": "stream",
     "text": [
      "'Barbados'"
     ]
    },
    {
     "name": "stdout",
     "output_type": "stream",
     "text": [
      "]"
     ]
    },
    {
     "name": "stdout",
     "output_type": "stream",
     "text": [
      ",\n",
      " "
     ]
    },
    {
     "name": "stdout",
     "output_type": "stream",
     "text": [
      "8"
     ]
    },
    {
     "name": "stdout",
     "output_type": "stream",
     "text": [
      ": "
     ]
    },
    {
     "name": "stdout",
     "output_type": "stream",
     "text": [
      "["
     ]
    },
    {
     "name": "stdout",
     "output_type": "stream",
     "text": [
      "'Dominican Republic'"
     ]
    },
    {
     "name": "stdout",
     "output_type": "stream",
     "text": [
      ", "
     ]
    },
    {
     "name": "stdout",
     "output_type": "stream",
     "text": [
      "'Jamaica'"
     ]
    },
    {
     "name": "stdout",
     "output_type": "stream",
     "text": [
      ", "
     ]
    },
    {
     "name": "stdout",
     "output_type": "stream",
     "text": [
      "'Georgia'"
     ]
    },
    {
     "name": "stdout",
     "output_type": "stream",
     "text": [
      ", "
     ]
    },
    {
     "name": "stdout",
     "output_type": "stream",
     "text": [
      "'France'"
     ]
    },
    {
     "name": "stdout",
     "output_type": "stream",
     "text": [
      ", "
     ]
    },
    {
     "name": "stdout",
     "output_type": "stream",
     "text": [
      "'Hungary'"
     ]
    },
    {
     "name": "stdout",
     "output_type": "stream",
     "text": [
      ", "
     ]
    },
    {
     "name": "stdout",
     "output_type": "stream",
     "text": [
      "'Belgium'"
     ]
    },
    {
     "name": "stdout",
     "output_type": "stream",
     "text": [
      ",\n",
      "     "
     ]
    },
    {
     "name": "stdout",
     "output_type": "stream",
     "text": [
      "'Peru'"
     ]
    },
    {
     "name": "stdout",
     "output_type": "stream",
     "text": [
      ", "
     ]
    },
    {
     "name": "stdout",
     "output_type": "stream",
     "text": [
      "'Denmark'"
     ]
    },
    {
     "name": "stdout",
     "output_type": "stream",
     "text": [
      ", "
     ]
    },
    {
     "name": "stdout",
     "output_type": "stream",
     "text": [
      "'Mali'"
     ]
    },
    {
     "name": "stdout",
     "output_type": "stream",
     "text": [
      ", "
     ]
    },
    {
     "name": "stdout",
     "output_type": "stream",
     "text": [
      "'Malaysia'"
     ]
    },
    {
     "name": "stdout",
     "output_type": "stream",
     "text": [
      ", "
     ]
    },
    {
     "name": "stdout",
     "output_type": "stream",
     "text": [
      "'Myanmar'"
     ]
    },
    {
     "name": "stdout",
     "output_type": "stream",
     "text": [
      ", "
     ]
    },
    {
     "name": "stdout",
     "output_type": "stream",
     "text": [
      "'Togo'"
     ]
    },
    {
     "name": "stdout",
     "output_type": "stream",
     "text": [
      ", "
     ]
    },
    {
     "name": "stdout",
     "output_type": "stream",
     "text": [
      "'Singapore'"
     ]
    },
    {
     "name": "stdout",
     "output_type": "stream",
     "text": [
      ",\n",
      "     "
     ]
    },
    {
     "name": "stdout",
     "output_type": "stream",
     "text": [
      "'Turkey'"
     ]
    },
    {
     "name": "stdout",
     "output_type": "stream",
     "text": [
      ", "
     ]
    },
    {
     "name": "stdout",
     "output_type": "stream",
     "text": [
      "'Bangladesh'"
     ]
    },
    {
     "name": "stdout",
     "output_type": "stream",
     "text": [
      ", "
     ]
    },
    {
     "name": "stdout",
     "output_type": "stream",
     "text": [
      "'Ukraine'"
     ]
    },
    {
     "name": "stdout",
     "output_type": "stream",
     "text": [
      ", "
     ]
    },
    {
     "name": "stdout",
     "output_type": "stream",
     "text": [
      "'Romania'"
     ]
    },
    {
     "name": "stdout",
     "output_type": "stream",
     "text": [
      ", "
     ]
    },
    {
     "name": "stdout",
     "output_type": "stream",
     "text": [
      "'Switzerland'"
     ]
    },
    {
     "name": "stdout",
     "output_type": "stream",
     "text": [
      ",\n",
      "     "
     ]
    },
    {
     "name": "stdout",
     "output_type": "stream",
     "text": [
      "'United States'"
     ]
    },
    {
     "name": "stdout",
     "output_type": "stream",
     "text": [
      ", "
     ]
    },
    {
     "name": "stdout",
     "output_type": "stream",
     "text": [
      "'Nigeria'"
     ]
    },
    {
     "name": "stdout",
     "output_type": "stream",
     "text": [
      ", "
     ]
    },
    {
     "name": "stdout",
     "output_type": "stream",
     "text": [
      "'Liberia'"
     ]
    },
    {
     "name": "stdout",
     "output_type": "stream",
     "text": [
      ", "
     ]
    },
    {
     "name": "stdout",
     "output_type": "stream",
     "text": [
      "'Mexico'"
     ]
    },
    {
     "name": "stdout",
     "output_type": "stream",
     "text": [
      ", "
     ]
    },
    {
     "name": "stdout",
     "output_type": "stream",
     "text": [
      "'Lithuania'"
     ]
    },
    {
     "name": "stdout",
     "output_type": "stream",
     "text": [
      "]"
     ]
    },
    {
     "name": "stdout",
     "output_type": "stream",
     "text": [
      ",\n",
      " "
     ]
    },
    {
     "name": "stdout",
     "output_type": "stream",
     "text": [
      "9"
     ]
    },
    {
     "name": "stdout",
     "output_type": "stream",
     "text": [
      ": "
     ]
    },
    {
     "name": "stdout",
     "output_type": "stream",
     "text": [
      "["
     ]
    },
    {
     "name": "stdout",
     "output_type": "stream",
     "text": [
      "'Italy'"
     ]
    },
    {
     "name": "stdout",
     "output_type": "stream",
     "text": [
      ", "
     ]
    },
    {
     "name": "stdout",
     "output_type": "stream",
     "text": [
      "'United Arab Emirates'"
     ]
    },
    {
     "name": "stdout",
     "output_type": "stream",
     "text": [
      ", "
     ]
    },
    {
     "name": "stdout",
     "output_type": "stream",
     "text": [
      "'Korea, South'"
     ]
    },
    {
     "name": "stdout",
     "output_type": "stream",
     "text": [
      ", "
     ]
    },
    {
     "name": "stdout",
     "output_type": "stream",
     "text": [
      "'Russia'"
     ]
    },
    {
     "name": "stdout",
     "output_type": "stream",
     "text": [
      ", "
     ]
    },
    {
     "name": "stdout",
     "output_type": "stream",
     "text": [
      "'Bahrain'"
     ]
    },
    {
     "name": "stdout",
     "output_type": "stream",
     "text": [
      ",\n",
      "     "
     ]
    },
    {
     "name": "stdout",
     "output_type": "stream",
     "text": [
      "'Austria'"
     ]
    },
    {
     "name": "stdout",
     "output_type": "stream",
     "text": [
      ", "
     ]
    },
    {
     "name": "stdout",
     "output_type": "stream",
     "text": [
      "'Moldova'"
     ]
    },
    {
     "name": "stdout",
     "output_type": "stream",
     "text": [
      ", "
     ]
    },
    {
     "name": "stdout",
     "output_type": "stream",
     "text": [
      "'Czech Republic'"
     ]
    },
    {
     "name": "stdout",
     "output_type": "stream",
     "text": [
      ", "
     ]
    },
    {
     "name": "stdout",
     "output_type": "stream",
     "text": [
      "'Kuwait'"
     ]
    },
    {
     "name": "stdout",
     "output_type": "stream",
     "text": [
      ", "
     ]
    },
    {
     "name": "stdout",
     "output_type": "stream",
     "text": [
      "'Portugal'"
     ]
    },
    {
     "name": "stdout",
     "output_type": "stream",
     "text": [
      ",\n",
      "     "
     ]
    },
    {
     "name": "stdout",
     "output_type": "stream",
     "text": [
      "'Saudi Arabia'"
     ]
    },
    {
     "name": "stdout",
     "output_type": "stream",
     "text": [
      "]"
     ]
    },
    {
     "name": "stdout",
     "output_type": "stream",
     "text": [
      ",\n",
      " "
     ]
    },
    {
     "name": "stdout",
     "output_type": "stream",
     "text": [
      "10"
     ]
    },
    {
     "name": "stdout",
     "output_type": "stream",
     "text": [
      ": "
     ]
    },
    {
     "name": "stdout",
     "output_type": "stream",
     "text": [
      "['Poland', 'Senegal', 'Iran', 'Guinea']"
     ]
    },
    {
     "name": "stdout",
     "output_type": "stream",
     "text": [
      "}"
     ]
    },
    {
     "name": "stdout",
     "output_type": "stream",
     "text": [
      "\n"
     ]
    }
   ],
   "source": [
    "# Show the number of phases of all countries\n",
    "analyser.trend()\n",
    "pprint(analyser.phase_len(), compact=True)"
   ]
  },
  {
   "cell_type": "code",
   "execution_count": 8,
   "metadata": {
    "collapsed": false
   },
   "outputs": [
    {
     "data": {
      "text/plain": [
       "15"
      ]
     },
     "execution_count": 8,
     "metadata": {},
     "output_type": "execute_result"
    }
   ],
   "source": [
    "# Set phases with S-R trend analysis\n",
    "analyser.trend(min_len=9)\n",
    "# The number of countries\n",
    "len(analyser.countries)"
   ]
  },
  {
   "cell_type": "code",
   "execution_count": 9,
   "metadata": {
    "collapsed": false,
    "tags": []
   },
   "outputs": [
    {
     "name": "stdout",
     "output_type": "stream",
     "text": [
      "{"
     ]
    },
    {
     "name": "stdout",
     "output_type": "stream",
     "text": [
      "9"
     ]
    },
    {
     "name": "stdout",
     "output_type": "stream",
     "text": [
      ": "
     ]
    },
    {
     "name": "stdout",
     "output_type": "stream",
     "text": [
      "["
     ]
    },
    {
     "name": "stdout",
     "output_type": "stream",
     "text": [
      "'Italy'"
     ]
    },
    {
     "name": "stdout",
     "output_type": "stream",
     "text": [
      ", "
     ]
    },
    {
     "name": "stdout",
     "output_type": "stream",
     "text": [
      "'United Arab Emirates'"
     ]
    },
    {
     "name": "stdout",
     "output_type": "stream",
     "text": [
      ", "
     ]
    },
    {
     "name": "stdout",
     "output_type": "stream",
     "text": [
      "'Korea, South'"
     ]
    },
    {
     "name": "stdout",
     "output_type": "stream",
     "text": [
      ", "
     ]
    },
    {
     "name": "stdout",
     "output_type": "stream",
     "text": [
      "'Russia'"
     ]
    },
    {
     "name": "stdout",
     "output_type": "stream",
     "text": [
      ", "
     ]
    },
    {
     "name": "stdout",
     "output_type": "stream",
     "text": [
      "'Bahrain'"
     ]
    },
    {
     "name": "stdout",
     "output_type": "stream",
     "text": [
      ",\n",
      "     "
     ]
    },
    {
     "name": "stdout",
     "output_type": "stream",
     "text": [
      "'Austria'"
     ]
    },
    {
     "name": "stdout",
     "output_type": "stream",
     "text": [
      ", "
     ]
    },
    {
     "name": "stdout",
     "output_type": "stream",
     "text": [
      "'Moldova'"
     ]
    },
    {
     "name": "stdout",
     "output_type": "stream",
     "text": [
      ", "
     ]
    },
    {
     "name": "stdout",
     "output_type": "stream",
     "text": [
      "'Czech Republic'"
     ]
    },
    {
     "name": "stdout",
     "output_type": "stream",
     "text": [
      ", "
     ]
    },
    {
     "name": "stdout",
     "output_type": "stream",
     "text": [
      "'Kuwait'"
     ]
    },
    {
     "name": "stdout",
     "output_type": "stream",
     "text": [
      ", "
     ]
    },
    {
     "name": "stdout",
     "output_type": "stream",
     "text": [
      "'Portugal'"
     ]
    },
    {
     "name": "stdout",
     "output_type": "stream",
     "text": [
      ",\n",
      "     "
     ]
    },
    {
     "name": "stdout",
     "output_type": "stream",
     "text": [
      "'Saudi Arabia'"
     ]
    },
    {
     "name": "stdout",
     "output_type": "stream",
     "text": [
      "]"
     ]
    },
    {
     "name": "stdout",
     "output_type": "stream",
     "text": [
      ",\n",
      " "
     ]
    },
    {
     "name": "stdout",
     "output_type": "stream",
     "text": [
      "10"
     ]
    },
    {
     "name": "stdout",
     "output_type": "stream",
     "text": [
      ": "
     ]
    },
    {
     "name": "stdout",
     "output_type": "stream",
     "text": [
      "['Poland', 'Senegal', 'Iran', 'Guinea']"
     ]
    },
    {
     "name": "stdout",
     "output_type": "stream",
     "text": [
      "}"
     ]
    },
    {
     "name": "stdout",
     "output_type": "stream",
     "text": [
      "\n"
     ]
    }
   ],
   "source": [
    "phase_len_dict = analyser.phase_len()\n",
    "pprint(phase_len_dict, compact=True)"
   ]
  },
  {
   "cell_type": "code",
   "execution_count": 10,
   "metadata": {
    "collapsed": false,
    "tags": []
   },
   "outputs": [
    {
     "data": {
      "text/html": [
       "<div>\n",
       "<style scoped>\n",
       "    .dataframe tbody tr th:only-of-type {\n",
       "        vertical-align: middle;\n",
       "    }\n",
       "\n",
       "    .dataframe tbody tr th {\n",
       "        vertical-align: top;\n",
       "    }\n",
       "\n",
       "    .dataframe thead th {\n",
       "        text-align: right;\n",
       "    }\n",
       "</style>\n",
       "<table border=\"1\" class=\"dataframe\">\n",
       "  <thead>\n",
       "    <tr style=\"text-align: right;\">\n",
       "      <th></th>\n",
       "      <th></th>\n",
       "      <th>Type</th>\n",
       "      <th>Start</th>\n",
       "      <th>End</th>\n",
       "      <th>Population</th>\n",
       "    </tr>\n",
       "    <tr>\n",
       "      <th>Country</th>\n",
       "      <th>Phase</th>\n",
       "      <th></th>\n",
       "      <th></th>\n",
       "      <th></th>\n",
       "      <th></th>\n",
       "    </tr>\n",
       "  </thead>\n",
       "  <tbody>\n",
       "    <tr>\n",
       "      <th rowspan=\"10\" valign=\"top\">Poland</th>\n",
       "      <th>1st</th>\n",
       "      <td>Past</td>\n",
       "      <td>23Apr2020</td>\n",
       "      <td>08May2020</td>\n",
       "      <td>37974750</td>\n",
       "    </tr>\n",
       "    <tr>\n",
       "      <th>2nd</th>\n",
       "      <td>Past</td>\n",
       "      <td>09May2020</td>\n",
       "      <td>20May2020</td>\n",
       "      <td>37974750</td>\n",
       "    </tr>\n",
       "    <tr>\n",
       "      <th>3rd</th>\n",
       "      <td>Past</td>\n",
       "      <td>21May2020</td>\n",
       "      <td>05Jun2020</td>\n",
       "      <td>37974750</td>\n",
       "    </tr>\n",
       "    <tr>\n",
       "      <th>4th</th>\n",
       "      <td>Past</td>\n",
       "      <td>06Jun2020</td>\n",
       "      <td>16Jun2020</td>\n",
       "      <td>37974750</td>\n",
       "    </tr>\n",
       "    <tr>\n",
       "      <th>5th</th>\n",
       "      <td>Past</td>\n",
       "      <td>17Jun2020</td>\n",
       "      <td>30Jun2020</td>\n",
       "      <td>37974750</td>\n",
       "    </tr>\n",
       "    <tr>\n",
       "      <th>6th</th>\n",
       "      <td>Past</td>\n",
       "      <td>01Jul2020</td>\n",
       "      <td>14Jul2020</td>\n",
       "      <td>37974750</td>\n",
       "    </tr>\n",
       "    <tr>\n",
       "      <th>7th</th>\n",
       "      <td>Past</td>\n",
       "      <td>15Jul2020</td>\n",
       "      <td>24Jul2020</td>\n",
       "      <td>37974750</td>\n",
       "    </tr>\n",
       "    <tr>\n",
       "      <th>8th</th>\n",
       "      <td>Past</td>\n",
       "      <td>25Jul2020</td>\n",
       "      <td>03Aug2020</td>\n",
       "      <td>37974750</td>\n",
       "    </tr>\n",
       "    <tr>\n",
       "      <th>9th</th>\n",
       "      <td>Past</td>\n",
       "      <td>04Aug2020</td>\n",
       "      <td>11Aug2020</td>\n",
       "      <td>37974750</td>\n",
       "    </tr>\n",
       "    <tr>\n",
       "      <th>10th</th>\n",
       "      <td>Past</td>\n",
       "      <td>12Aug2020</td>\n",
       "      <td>21Aug2020</td>\n",
       "      <td>37974750</td>\n",
       "    </tr>\n",
       "    <tr>\n",
       "      <th rowspan=\"10\" valign=\"top\">Senegal</th>\n",
       "      <th>1st</th>\n",
       "      <td>Past</td>\n",
       "      <td>30Apr2020</td>\n",
       "      <td>13May2020</td>\n",
       "      <td>15854360</td>\n",
       "    </tr>\n",
       "    <tr>\n",
       "      <th>2nd</th>\n",
       "      <td>Past</td>\n",
       "      <td>14May2020</td>\n",
       "      <td>27May2020</td>\n",
       "      <td>15854360</td>\n",
       "    </tr>\n",
       "    <tr>\n",
       "      <th>3rd</th>\n",
       "      <td>Past</td>\n",
       "      <td>28May2020</td>\n",
       "      <td>09Jun2020</td>\n",
       "      <td>15854360</td>\n",
       "    </tr>\n",
       "    <tr>\n",
       "      <th>4th</th>\n",
       "      <td>Past</td>\n",
       "      <td>10Jun2020</td>\n",
       "      <td>19Jun2020</td>\n",
       "      <td>15854360</td>\n",
       "    </tr>\n",
       "    <tr>\n",
       "      <th>5th</th>\n",
       "      <td>Past</td>\n",
       "      <td>20Jun2020</td>\n",
       "      <td>30Jun2020</td>\n",
       "      <td>15854360</td>\n",
       "    </tr>\n",
       "    <tr>\n",
       "      <th>6th</th>\n",
       "      <td>Past</td>\n",
       "      <td>01Jul2020</td>\n",
       "      <td>10Jul2020</td>\n",
       "      <td>15854360</td>\n",
       "    </tr>\n",
       "    <tr>\n",
       "      <th>7th</th>\n",
       "      <td>Past</td>\n",
       "      <td>11Jul2020</td>\n",
       "      <td>20Jul2020</td>\n",
       "      <td>15854360</td>\n",
       "    </tr>\n",
       "    <tr>\n",
       "      <th>8th</th>\n",
       "      <td>Past</td>\n",
       "      <td>21Jul2020</td>\n",
       "      <td>29Jul2020</td>\n",
       "      <td>15854360</td>\n",
       "    </tr>\n",
       "    <tr>\n",
       "      <th>9th</th>\n",
       "      <td>Past</td>\n",
       "      <td>30Jul2020</td>\n",
       "      <td>09Aug2020</td>\n",
       "      <td>15854360</td>\n",
       "    </tr>\n",
       "    <tr>\n",
       "      <th>10th</th>\n",
       "      <td>Past</td>\n",
       "      <td>10Aug2020</td>\n",
       "      <td>21Aug2020</td>\n",
       "      <td>15854360</td>\n",
       "    </tr>\n",
       "    <tr>\n",
       "      <th rowspan=\"10\" valign=\"top\">Iran</th>\n",
       "      <th>1st</th>\n",
       "      <td>Past</td>\n",
       "      <td>28Mar2020</td>\n",
       "      <td>12Apr2020</td>\n",
       "      <td>81800269</td>\n",
       "    </tr>\n",
       "    <tr>\n",
       "      <th>2nd</th>\n",
       "      <td>Past</td>\n",
       "      <td>13Apr2020</td>\n",
       "      <td>04May2020</td>\n",
       "      <td>81800269</td>\n",
       "    </tr>\n",
       "    <tr>\n",
       "      <th>3rd</th>\n",
       "      <td>Past</td>\n",
       "      <td>05May2020</td>\n",
       "      <td>20May2020</td>\n",
       "      <td>81800269</td>\n",
       "    </tr>\n",
       "    <tr>\n",
       "      <th>4th</th>\n",
       "      <td>Past</td>\n",
       "      <td>21May2020</td>\n",
       "      <td>02Jun2020</td>\n",
       "      <td>81800269</td>\n",
       "    </tr>\n",
       "    <tr>\n",
       "      <th>5th</th>\n",
       "      <td>Past</td>\n",
       "      <td>03Jun2020</td>\n",
       "      <td>15Jun2020</td>\n",
       "      <td>81800269</td>\n",
       "    </tr>\n",
       "    <tr>\n",
       "      <th>6th</th>\n",
       "      <td>Past</td>\n",
       "      <td>16Jun2020</td>\n",
       "      <td>28Jun2020</td>\n",
       "      <td>81800269</td>\n",
       "    </tr>\n",
       "    <tr>\n",
       "      <th>7th</th>\n",
       "      <td>Past</td>\n",
       "      <td>29Jun2020</td>\n",
       "      <td>10Jul2020</td>\n",
       "      <td>81800269</td>\n",
       "    </tr>\n",
       "    <tr>\n",
       "      <th>8th</th>\n",
       "      <td>Past</td>\n",
       "      <td>11Jul2020</td>\n",
       "      <td>23Jul2020</td>\n",
       "      <td>81800269</td>\n",
       "    </tr>\n",
       "    <tr>\n",
       "      <th>9th</th>\n",
       "      <td>Past</td>\n",
       "      <td>24Jul2020</td>\n",
       "      <td>05Aug2020</td>\n",
       "      <td>81800269</td>\n",
       "    </tr>\n",
       "    <tr>\n",
       "      <th>10th</th>\n",
       "      <td>Past</td>\n",
       "      <td>06Aug2020</td>\n",
       "      <td>21Aug2020</td>\n",
       "      <td>81800269</td>\n",
       "    </tr>\n",
       "    <tr>\n",
       "      <th rowspan=\"10\" valign=\"top\">Guinea</th>\n",
       "      <th>1st</th>\n",
       "      <td>Past</td>\n",
       "      <td>02May2020</td>\n",
       "      <td>11May2020</td>\n",
       "      <td>12414318</td>\n",
       "    </tr>\n",
       "    <tr>\n",
       "      <th>2nd</th>\n",
       "      <td>Past</td>\n",
       "      <td>12May2020</td>\n",
       "      <td>21May2020</td>\n",
       "      <td>12414318</td>\n",
       "    </tr>\n",
       "    <tr>\n",
       "      <th>3rd</th>\n",
       "      <td>Past</td>\n",
       "      <td>22May2020</td>\n",
       "      <td>29May2020</td>\n",
       "      <td>12414318</td>\n",
       "    </tr>\n",
       "    <tr>\n",
       "      <th>4th</th>\n",
       "      <td>Past</td>\n",
       "      <td>30May2020</td>\n",
       "      <td>10Jun2020</td>\n",
       "      <td>12414318</td>\n",
       "    </tr>\n",
       "    <tr>\n",
       "      <th>5th</th>\n",
       "      <td>Past</td>\n",
       "      <td>11Jun2020</td>\n",
       "      <td>20Jun2020</td>\n",
       "      <td>12414318</td>\n",
       "    </tr>\n",
       "    <tr>\n",
       "      <th>6th</th>\n",
       "      <td>Past</td>\n",
       "      <td>21Jun2020</td>\n",
       "      <td>08Jul2020</td>\n",
       "      <td>12414318</td>\n",
       "    </tr>\n",
       "    <tr>\n",
       "      <th>7th</th>\n",
       "      <td>Past</td>\n",
       "      <td>09Jul2020</td>\n",
       "      <td>20Jul2020</td>\n",
       "      <td>12414318</td>\n",
       "    </tr>\n",
       "    <tr>\n",
       "      <th>8th</th>\n",
       "      <td>Past</td>\n",
       "      <td>21Jul2020</td>\n",
       "      <td>01Aug2020</td>\n",
       "      <td>12414318</td>\n",
       "    </tr>\n",
       "    <tr>\n",
       "      <th>9th</th>\n",
       "      <td>Past</td>\n",
       "      <td>02Aug2020</td>\n",
       "      <td>10Aug2020</td>\n",
       "      <td>12414318</td>\n",
       "    </tr>\n",
       "    <tr>\n",
       "      <th>10th</th>\n",
       "      <td>Past</td>\n",
       "      <td>11Aug2020</td>\n",
       "      <td>21Aug2020</td>\n",
       "      <td>12414318</td>\n",
       "    </tr>\n",
       "  </tbody>\n",
       "</table>\n",
       "</div>"
      ],
      "text/plain": [
       "               Type      Start        End  Population\n",
       "Country Phase                                        \n",
       "Poland  1st    Past  23Apr2020  08May2020    37974750\n",
       "        2nd    Past  09May2020  20May2020    37974750\n",
       "        3rd    Past  21May2020  05Jun2020    37974750\n",
       "        4th    Past  06Jun2020  16Jun2020    37974750\n",
       "        5th    Past  17Jun2020  30Jun2020    37974750\n",
       "        6th    Past  01Jul2020  14Jul2020    37974750\n",
       "        7th    Past  15Jul2020  24Jul2020    37974750\n",
       "        8th    Past  25Jul2020  03Aug2020    37974750\n",
       "        9th    Past  04Aug2020  11Aug2020    37974750\n",
       "        10th   Past  12Aug2020  21Aug2020    37974750\n",
       "Senegal 1st    Past  30Apr2020  13May2020    15854360\n",
       "        2nd    Past  14May2020  27May2020    15854360\n",
       "        3rd    Past  28May2020  09Jun2020    15854360\n",
       "        4th    Past  10Jun2020  19Jun2020    15854360\n",
       "        5th    Past  20Jun2020  30Jun2020    15854360\n",
       "        6th    Past  01Jul2020  10Jul2020    15854360\n",
       "        7th    Past  11Jul2020  20Jul2020    15854360\n",
       "        8th    Past  21Jul2020  29Jul2020    15854360\n",
       "        9th    Past  30Jul2020  09Aug2020    15854360\n",
       "        10th   Past  10Aug2020  21Aug2020    15854360\n",
       "Iran    1st    Past  28Mar2020  12Apr2020    81800269\n",
       "        2nd    Past  13Apr2020  04May2020    81800269\n",
       "        3rd    Past  05May2020  20May2020    81800269\n",
       "        4th    Past  21May2020  02Jun2020    81800269\n",
       "        5th    Past  03Jun2020  15Jun2020    81800269\n",
       "        6th    Past  16Jun2020  28Jun2020    81800269\n",
       "        7th    Past  29Jun2020  10Jul2020    81800269\n",
       "        8th    Past  11Jul2020  23Jul2020    81800269\n",
       "        9th    Past  24Jul2020  05Aug2020    81800269\n",
       "        10th   Past  06Aug2020  21Aug2020    81800269\n",
       "Guinea  1st    Past  02May2020  11May2020    12414318\n",
       "        2nd    Past  12May2020  21May2020    12414318\n",
       "        3rd    Past  22May2020  29May2020    12414318\n",
       "        4th    Past  30May2020  10Jun2020    12414318\n",
       "        5th    Past  11Jun2020  20Jun2020    12414318\n",
       "        6th    Past  21Jun2020  08Jul2020    12414318\n",
       "        7th    Past  09Jul2020  20Jul2020    12414318\n",
       "        8th    Past  21Jul2020  01Aug2020    12414318\n",
       "        9th    Past  02Aug2020  10Aug2020    12414318\n",
       "        10th   Past  11Aug2020  21Aug2020    12414318"
      ]
     },
     "execution_count": 10,
     "metadata": {},
     "output_type": "execute_result"
    }
   ],
   "source": [
    "# Here, only show the countries which have the most phases\n",
    "countries_show = max(phase_len_dict.items(), key=lambda x: x[0])[1]\n",
    "# Show summary\n",
    "analyser.summary(countries=countries_show)"
   ]
  },
  {
   "cell_type": "markdown",
   "metadata": {},
   "source": [
    "## Parameter estimation\n",
    "we will estimate the parameter values with SIR-derived ODE models in each country."
   ]
  },
  {
   "cell_type": "code",
   "execution_count": 11,
   "metadata": {
    "collapsed": false,
    "tags": []
   },
   "outputs": [
    {
     "name": "stdout",
     "output_type": "stream",
     "text": [
      "\n",
      "<SIR-F model: parameter estimation>"
     ]
    },
    {
     "name": "stdout",
     "output_type": "stream",
     "text": [
      "\n"
     ]
    },
    {
     "name": "stdout",
     "output_type": "stream",
     "text": [
      "Running optimization with 4 CPUs..."
     ]
    },
    {
     "name": "stdout",
     "output_type": "stream",
     "text": [
      "\n"
     ]
    },
    {
     "name": "stdout",
     "output_type": "stream",
     "text": [
      "\tSEN,  5th phase (20Jun2020 - 30Jun2020): finished  212 trials in 0 min  5 sec"
     ]
    },
    {
     "name": "stdout",
     "output_type": "stream",
     "text": [
      "\n"
     ]
    },
    {
     "name": "stdout",
     "output_type": "stream",
     "text": [
      "\tSAU,  5th phase (26Jun2020 - 03Jul2020): finished  713 trials in 0 min 20 sec"
     ]
    },
    {
     "name": "stdout",
     "output_type": "stream",
     "text": [
      "\n"
     ]
    },
    {
     "name": "stdout",
     "output_type": "stream",
     "text": [
      "\tKOR,  6th phase (21Jun2020 - 05Jul2020): finished 1710 trials in 1 min  0 sec"
     ]
    },
    {
     "name": "stdout",
     "output_type": "stream",
     "text": [
      "\n"
     ]
    },
    {
     "name": "stdout",
     "output_type": "stream",
     "text": [
      "\tAUT,  1st phase (29Mar2020 - 05Apr2020): finished 1700 trials in 1 min  0 sec"
     ]
    },
    {
     "name": "stdout",
     "output_type": "stream",
     "text": [
      "\n"
     ]
    },
    {
     "name": "stdout",
     "output_type": "stream",
     "text": [
      "\tPRT,  9th phase (04Aug2020 - 21Aug2020): finished 1703 trials in 1 min  0 sec"
     ]
    },
    {
     "name": "stdout",
     "output_type": "stream",
     "text": [
      "\n"
     ]
    },
    {
     "name": "stdout",
     "output_type": "stream",
     "text": [
      "\tIRN,  7th phase (29Jun2020 - 10Jul2020): finished  215 trials in 0 min  5 sec"
     ]
    },
    {
     "name": "stdout",
     "output_type": "stream",
     "text": [
      "\n"
     ]
    },
    {
     "name": "stdout",
     "output_type": "stream",
     "text": [
      "\tITA,  1st phase (24Mar2020 - 31Mar2020): finished 1711 trials in 1 min  0 sec"
     ]
    },
    {
     "name": "stdout",
     "output_type": "stream",
     "text": [
      "\n"
     ]
    },
    {
     "name": "stdout",
     "output_type": "stream",
     "text": [
      "\tGIN,  3rd phase (22May2020 - 29May2020): finished 1708 trials in 1 min  0 sec"
     ]
    },
    {
     "name": "stdout",
     "output_type": "stream",
     "text": [
      "\n"
     ]
    },
    {
     "name": "stdout",
     "output_type": "stream",
     "text": [
      "\tBHR,  9th phase (08Aug2020 - 21Aug2020): finished 1673 trials in 1 min  0 sec"
     ]
    },
    {
     "name": "stdout",
     "output_type": "stream",
     "text": [
      "\n"
     ]
    },
    {
     "name": "stdout",
     "output_type": "stream",
     "text": [
      "\tCZE,  5th phase (26Jun2020 - 17Jul2020): finished 1680 trials in 1 min  0 sec"
     ]
    },
    {
     "name": "stdout",
     "output_type": "stream",
     "text": [
      "\n"
     ]
    },
    {
     "name": "stdout",
     "output_type": "stream",
     "text": [
      "\tSAU,  8th phase (22Jul2020 - 03Aug2020): finished  193 trials in 0 min  5 sec"
     ]
    },
    {
     "name": "stdout",
     "output_type": "stream",
     "text": [
      "\n"
     ]
    },
    {
     "name": "stdout",
     "output_type": "stream",
     "text": [
      "\tRUS,  1st phase (08May2020 - 22May2020): finished 1669 trials in 1 min  0 sec"
     ]
    },
    {
     "name": "stdout",
     "output_type": "stream",
     "text": [
      "\n"
     ]
    },
    {
     "name": "stdout",
     "output_type": "stream",
     "text": [
      "\tKOR,  5th phase (26May2020 - 20Jun2020): finished  198 trials in 0 min  5 sec"
     ]
    },
    {
     "name": "stdout",
     "output_type": "stream",
     "text": [
      "\n"
     ]
    },
    {
     "name": "stdout",
     "output_type": "stream",
     "text": [
      "\tBHR,  7th phase (15Jul2020 - 25Jul2020): finished  637 trials in 0 min 20 sec"
     ]
    },
    {
     "name": "stdout",
     "output_type": "stream",
     "text": [
      "\n"
     ]
    },
    {
     "name": "stdout",
     "output_type": "stream",
     "text": [
      "\tBHR,  2nd phase (27May2020 - 04Jun2020): finished 1041 trials in 0 min 35 sec"
     ]
    },
    {
     "name": "stdout",
     "output_type": "stream",
     "text": [
      "\n"
     ]
    },
    {
     "name": "stdout",
     "output_type": "stream",
     "text": [
      "\tMDA,  7th phase (21Jul2020 - 28Jul2020): finished  363 trials in 0 min 10 sec"
     ]
    },
    {
     "name": "stdout",
     "output_type": "stream",
     "text": [
      "\n"
     ]
    },
    {
     "name": "stdout",
     "output_type": "stream",
     "text": [
      "\tKWT,  3rd phase (10Jun2020 - 21Jun2020): finished  193 trials in 0 min  5 sec"
     ]
    },
    {
     "name": "stdout",
     "output_type": "stream",
     "text": [
      "\n"
     ]
    },
    {
     "name": "stdout",
     "output_type": "stream",
     "text": [
      "\tBHR,  1st phase (06May2020 - 26May2020): finished 1618 trials in 1 min  0 sec"
     ]
    },
    {
     "name": "stdout",
     "output_type": "stream",
     "text": [
      "\n"
     ]
    },
    {
     "name": "stdout",
     "output_type": "stream",
     "text": [
      "\tITA,  8th phase (07Jun2020 - 13Jul2020): finished  196 trials in 0 min  5 sec"
     ]
    },
    {
     "name": "stdout",
     "output_type": "stream",
     "text": [
      "\n"
     ]
    },
    {
     "name": "stdout",
     "output_type": "stream",
     "text": [
      "\tKWT,  1st phase (11May2020 - 24May2020): finished 1673 trials in 1 min  0 sec"
     ]
    },
    {
     "name": "stdout",
     "output_type": "stream",
     "text": [
      "\n"
     ]
    },
    {
     "name": "stdout",
     "output_type": "stream",
     "text": [
      "\tIRN,  3rd phase (05May2020 - 20May2020): finished 1240 trials in 0 min 40 sec"
     ]
    },
    {
     "name": "stdout",
     "output_type": "stream",
     "text": [
      "\n"
     ]
    },
    {
     "name": "stdout",
     "output_type": "stream",
     "text": [
      "\tCZE,  4th phase (04Jun2020 - 25Jun2020): finished 1675 trials in 1 min  0 sec"
     ]
    },
    {
     "name": "stdout",
     "output_type": "stream",
     "text": [
      "\n"
     ]
    },
    {
     "name": "stdout",
     "output_type": "stream",
     "text": [
      "\tARE,  5th phase (12Jun2020 - 22Jun2020): finished  943 trials in 0 min 30 sec"
     ]
    },
    {
     "name": "stdout",
     "output_type": "stream",
     "text": [
      "\n"
     ]
    },
    {
     "name": "stdout",
     "output_type": "stream",
     "text": [
      "\tGIN,  8th phase (21Jul2020 - 01Aug2020): finished 1102 trials in 0 min 35 sec"
     ]
    },
    {
     "name": "stdout",
     "output_type": "stream",
     "text": [
      "\n"
     ]
    },
    {
     "name": "stdout",
     "output_type": "stream",
     "text": [
      "\tAUT,  5th phase (15May2020 - 29Jun2020): finished 1632 trials in 1 min  0 sec"
     ]
    },
    {
     "name": "stdout",
     "output_type": "stream",
     "text": [
      "\n"
     ]
    },
    {
     "name": "stdout",
     "output_type": "stream",
     "text": [
      "\tGIN,  5th phase (11Jun2020 - 20Jun2020): finished 1452 trials in 1 min  0 sec"
     ]
    },
    {
     "name": "stdout",
     "output_type": "stream",
     "text": [
      "\n"
     ]
    },
    {
     "name": "stdout",
     "output_type": "stream",
     "text": [
      "\tARE,  7th phase (03Jul2020 - 12Jul2020): finished 1375 trials in 1 min  0 sec"
     ]
    },
    {
     "name": "stdout",
     "output_type": "stream",
     "text": [
      "\n"
     ]
    },
    {
     "name": "stdout",
     "output_type": "stream",
     "text": [
      "\tSEN,  4th phase (10Jun2020 - 19Jun2020): finished 1345 trials in 1 min  0 sec"
     ]
    },
    {
     "name": "stdout",
     "output_type": "stream",
     "text": [
      "\n"
     ]
    },
    {
     "name": "stdout",
     "output_type": "stream",
     "text": [
      "\tARE,  9th phase (27Jul2020 - 21Aug2020): finished 1284 trials in 1 min  0 sec"
     ]
    },
    {
     "name": "stdout",
     "output_type": "stream",
     "text": [
      "\n"
     ]
    },
    {
     "name": "stdout",
     "output_type": "stream",
     "text": [
      "\tGIN, 10th phase (11Aug2020 - 21Aug2020): finished  692 trials in 0 min 30 sec"
     ]
    },
    {
     "name": "stdout",
     "output_type": "stream",
     "text": [
      "\n"
     ]
    },
    {
     "name": "stdout",
     "output_type": "stream",
     "text": [
      "\tAUT,  3rd phase (14Apr2020 - 23Apr2020): finished  481 trials in 0 min 20 sec"
     ]
    },
    {
     "name": "stdout",
     "output_type": "stream",
     "text": [
      "\n"
     ]
    },
    {
     "name": "stdout",
     "output_type": "stream",
     "text": [
      "\tMDA,  6th phase (10Jul2020 - 20Jul2020): finished  439 trials in 0 min 15 sec"
     ]
    },
    {
     "name": "stdout",
     "output_type": "stream",
     "text": [
      "\n"
     ]
    },
    {
     "name": "stdout",
     "output_type": "stream",
     "text": [
      "\tPOL,  8th phase (25Jul2020 - 03Aug2020): finished  876 trials in 0 min 35 sec"
     ]
    },
    {
     "name": "stdout",
     "output_type": "stream",
     "text": [
      "\n"
     ]
    },
    {
     "name": "stdout",
     "output_type": "stream",
     "text": [
      "\tCZE,  2nd phase (20Apr2020 - 10May2020): finished  956 trials in 0 min 40 sec"
     ]
    },
    {
     "name": "stdout",
     "output_type": "stream",
     "text": [
      "\n"
     ]
    },
    {
     "name": "stdout",
     "output_type": "stream",
     "text": [
      "\tPRT,  3rd phase (28May2020 - 05Jun2020): finished  663 trials in 0 min 25 sec"
     ]
    },
    {
     "name": "stdout",
     "output_type": "stream",
     "text": [
      "\n"
     ]
    },
    {
     "name": "stdout",
     "output_type": "stream",
     "text": [
      "\tAUT,  2nd phase (06Apr2020 - 13Apr2020): finished  157 trials in 0 min  5 sec"
     ]
    },
    {
     "name": "stdout",
     "output_type": "stream",
     "text": [
      "\n"
     ]
    },
    {
     "name": "stdout",
     "output_type": "stream",
     "text": [
      "\tSAU,  1st phase (10May2020 - 21May2020): finished 1367 trials in 1 min  0 sec"
     ]
    },
    {
     "name": "stdout",
     "output_type": "stream",
     "text": [
      "\n"
     ]
    },
    {
     "name": "stdout",
     "output_type": "stream",
     "text": [
      "\tGIN,  4th phase (30May2020 - 10Jun2020): finished 1358 trials in 1 min  0 sec"
     ]
    },
    {
     "name": "stdout",
     "output_type": "stream",
     "text": [
      "\n"
     ]
    },
    {
     "name": "stdout",
     "output_type": "stream",
     "text": [
      "\tPRT,  2nd phase (18May2020 - 27May2020): finished 1352 trials in 1 min  0 sec"
     ]
    },
    {
     "name": "stdout",
     "output_type": "stream",
     "text": [
      "\n"
     ]
    },
    {
     "name": "stdout",
     "output_type": "stream",
     "text": [
      "\tSEN,  8th phase (21Jul2020 - 29Jul2020): finished  425 trials in 0 min 15 sec"
     ]
    },
    {
     "name": "stdout",
     "output_type": "stream",
     "text": [
      "\n"
     ]
    },
    {
     "name": "stdout",
     "output_type": "stream",
     "text": [
      "\tITA,  3rd phase (13Apr2020 - 21Apr2020): finished 1368 trials in 1 min  0 sec"
     ]
    },
    {
     "name": "stdout",
     "output_type": "stream",
     "text": [
      "\n"
     ]
    },
    {
     "name": "stdout",
     "output_type": "stream",
     "text": [
      "\tPRT,  7th phase (08Jul2020 - 18Jul2020): finished 1363 trials in 1 min  0 sec"
     ]
    },
    {
     "name": "stdout",
     "output_type": "stream",
     "text": [
      "\n"
     ]
    },
    {
     "name": "stdout",
     "output_type": "stream",
     "text": [
      "\tCZE,  7th phase (28Jul2020 - 04Aug2020): finished 1308 trials in 1 min  0 sec"
     ]
    },
    {
     "name": "stdout",
     "output_type": "stream",
     "text": [
      "\n"
     ]
    },
    {
     "name": "stdout",
     "output_type": "stream",
     "text": [
      "\tPRT,  1st phase (05May2020 - 17May2020): finished 1277 trials in 1 min  0 sec"
     ]
    },
    {
     "name": "stdout",
     "output_type": "stream",
     "text": [
      "\n"
     ]
    },
    {
     "name": "stdout",
     "output_type": "stream",
     "text": [
      "\tPOL,  7th phase (15Jul2020 - 24Jul2020): finished  242 trials in 0 min 10 sec"
     ]
    },
    {
     "name": "stdout",
     "output_type": "stream",
     "text": [
      "\n"
     ]
    },
    {
     "name": "stdout",
     "output_type": "stream",
     "text": [
      "\tIRN,  5th phase (03Jun2020 - 15Jun2020): finished  494 trials in 0 min 20 sec"
     ]
    },
    {
     "name": "stdout",
     "output_type": "stream",
     "text": [
      "\n"
     ]
    },
    {
     "name": "stdout",
     "output_type": "stream",
     "text": [
      "\tGIN,  7th phase (09Jul2020 - 20Jul2020): finished 1226 trials in 1 min  0 sec"
     ]
    },
    {
     "name": "stdout",
     "output_type": "stream",
     "text": [
      "\n"
     ]
    },
    {
     "name": "stdout",
     "output_type": "stream",
     "text": [
      "\tITA,  7th phase (20May2020 - 06Jun2020): finished  328 trials in 0 min 15 sec"
     ]
    },
    {
     "name": "stdout",
     "output_type": "stream",
     "text": [
      "\n"
     ]
    },
    {
     "name": "stdout",
     "output_type": "stream",
     "text": [
      "\tPOL,  3rd phase (21May2020 - 05Jun2020): finished 1218 trials in 1 min  0 sec"
     ]
    },
    {
     "name": "stdout",
     "output_type": "stream",
     "text": [
      "\n"
     ]
    },
    {
     "name": "stdout",
     "output_type": "stream",
     "text": [
      "\tBHR,  5th phase (22Jun2020 - 06Jul2020): finished 1394 trials in 1 min  0 sec"
     ]
    },
    {
     "name": "stdout",
     "output_type": "stream",
     "text": [
      "\n"
     ]
    },
    {
     "name": "stdout",
     "output_type": "stream",
     "text": [
      "\tRUS,  5th phase (24Jun2020 - 03Jul2020): finished 1468 trials in 1 min  0 sec"
     ]
    },
    {
     "name": "stdout",
     "output_type": "stream",
     "text": [
      "\n"
     ]
    },
    {
     "name": "stdout",
     "output_type": "stream",
     "text": [
      "\tSAU,  4th phase (17Jun2020 - 25Jun2020): finished 1504 trials in 1 min  0 sec"
     ]
    },
    {
     "name": "stdout",
     "output_type": "stream",
     "text": [
      "\n"
     ]
    },
    {
     "name": "stdout",
     "output_type": "stream",
     "text": [
      "\tBHR,  6th phase (07Jul2020 - 14Jul2020): finished 1497 trials in 1 min  0 sec"
     ]
    },
    {
     "name": "stdout",
     "output_type": "stream",
     "text": [
      "\n"
     ]
    },
    {
     "name": "stdout",
     "output_type": "stream",
     "text": [
      "\tPOL,  5th phase (17Jun2020 - 30Jun2020): finished  319 trials in 0 min 10 sec"
     ]
    },
    {
     "name": "stdout",
     "output_type": "stream",
     "text": [
      "\n"
     ]
    },
    {
     "name": "stdout",
     "output_type": "stream",
     "text": [
      "\tRUS,  7th phase (14Jul2020 - 24Jul2020): finished 1449 trials in 1 min  0 sec"
     ]
    },
    {
     "name": "stdout",
     "output_type": "stream",
     "text": [
      "\n"
     ]
    },
    {
     "name": "stdout",
     "output_type": "stream",
     "text": [
      "\tKWT,  4th phase (22Jun2020 - 30Jun2020): finished  548 trials in 0 min 20 sec"
     ]
    },
    {
     "name": "stdout",
     "output_type": "stream",
     "text": [
      "\n"
     ]
    },
    {
     "name": "stdout",
     "output_type": "stream",
     "text": [
      "\tARE,  2nd phase (13May2020 - 24May2020): finished 1410 trials in 1 min  0 sec"
     ]
    },
    {
     "name": "stdout",
     "output_type": "stream",
     "text": [
      "\n"
     ]
    },
    {
     "name": "stdout",
     "output_type": "stream",
     "text": [
      "\tSEN,  3rd phase (28May2020 - 09Jun2020): finished 1411 trials in 1 min  0 sec"
     ]
    },
    {
     "name": "stdout",
     "output_type": "stream",
     "text": [
      "\n"
     ]
    },
    {
     "name": "stdout",
     "output_type": "stream",
     "text": [
      "\tKOR,  4th phase (08May2020 - 25May2020): finished  271 trials in 0 min 10 sec"
     ]
    },
    {
     "name": "stdout",
     "output_type": "stream",
     "text": [
      "\n"
     ]
    },
    {
     "name": "stdout",
     "output_type": "stream",
     "text": [
      "\tMDA,  5th phase (28Jun2020 - 09Jul2020): finished 1404 trials in 1 min  0 sec"
     ]
    },
    {
     "name": "stdout",
     "output_type": "stream",
     "text": [
      "\n"
     ]
    },
    {
     "name": "stdout",
     "output_type": "stream",
     "text": [
      "\tPOL,  6th phase (01Jul2020 - 14Jul2020): finished  275 trials in 0 min 10 sec"
     ]
    },
    {
     "name": "stdout",
     "output_type": "stream",
     "text": [
      "\n"
     ]
    },
    {
     "name": "stdout",
     "output_type": "stream",
     "text": [
      "\tCZE,  3rd phase (11May2020 - 03Jun2020): finished 1309 trials in 1 min  0 sec"
     ]
    },
    {
     "name": "stdout",
     "output_type": "stream",
     "text": [
      "\n"
     ]
    },
    {
     "name": "stdout",
     "output_type": "stream",
     "text": [
      "\tAUT,  8th phase (29Jul2020 - 11Aug2020): finished 1321 trials in 1 min  0 sec"
     ]
    },
    {
     "name": "stdout",
     "output_type": "stream",
     "text": [
      "\n"
     ]
    },
    {
     "name": "stdout",
     "output_type": "stream",
     "text": [
      "\tIRN,  9th phase (24Jul2020 - 05Aug2020): finished  159 trials in 0 min  5 sec"
     ]
    },
    {
     "name": "stdout",
     "output_type": "stream",
     "text": [
      "\n"
     ]
    },
    {
     "name": "stdout",
     "output_type": "stream",
     "text": [
      "\tSEN, 10th phase (10Aug2020 - 21Aug2020): finished 1346 trials in 1 min  0 sec"
     ]
    },
    {
     "name": "stdout",
     "output_type": "stream",
     "text": [
      "\n"
     ]
    },
    {
     "name": "stdout",
     "output_type": "stream",
     "text": [
      "\tITA,  6th phase (09May2020 - 19May2020): finished  293 trials in 0 min 10 sec"
     ]
    },
    {
     "name": "stdout",
     "output_type": "stream",
     "text": [
      "\n"
     ]
    },
    {
     "name": "stdout",
     "output_type": "stream",
     "text": [
      "\tCZE,  8th phase (05Aug2020 - 12Aug2020): finished  575 trials in 0 min 20 sec"
     ]
    },
    {
     "name": "stdout",
     "output_type": "stream",
     "text": [
      "\n"
     ]
    },
    {
     "name": "stdout",
     "output_type": "stream",
     "text": [
      "\tCZE,  6th phase (18Jul2020 - 27Jul2020): finished 1342 trials in 1 min  0 sec"
     ]
    },
    {
     "name": "stdout",
     "output_type": "stream",
     "text": [
      "\n"
     ]
    },
    {
     "name": "stdout",
     "output_type": "stream",
     "text": [
      "\tBHR,  8th phase (26Jul2020 - 07Aug2020): finished  160 trials in 0 min  5 sec"
     ]
    },
    {
     "name": "stdout",
     "output_type": "stream",
     "text": [
      "\n"
     ]
    },
    {
     "name": "stdout",
     "output_type": "stream",
     "text": [
      "\tKOR,  7th phase (06Jul2020 - 21Jul2020): finished  276 trials in 0 min 10 sec"
     ]
    },
    {
     "name": "stdout",
     "output_type": "stream",
     "text": [
      "\n"
     ]
    },
    {
     "name": "stdout",
     "output_type": "stream",
     "text": [
      "\tKOR,  9th phase (07Aug2020 - 21Aug2020): finished 1328 trials in 1 min  0 sec"
     ]
    },
    {
     "name": "stdout",
     "output_type": "stream",
     "text": [
      "\n"
     ]
    },
    {
     "name": "stdout",
     "output_type": "stream",
     "text": [
      "\tSAU,  6th phase (04Jul2020 - 11Jul2020): finished  290 trials in 0 min 10 sec"
     ]
    },
    {
     "name": "stdout",
     "output_type": "stream",
     "text": [
      "\n"
     ]
    },
    {
     "name": "stdout",
     "output_type": "stream",
     "text": [
      "\tRUS,  8th phase (25Jul2020 - 06Aug2020): finished 1300 trials in 1 min  0 sec"
     ]
    },
    {
     "name": "stdout",
     "output_type": "stream",
     "text": [
      "\n"
     ]
    },
    {
     "name": "stdout",
     "output_type": "stream",
     "text": [
      "\tRUS,  6th phase (04Jul2020 - 13Jul2020): finished 1318 trials in 1 min  0 sec"
     ]
    },
    {
     "name": "stdout",
     "output_type": "stream",
     "text": [
      "\n"
     ]
    },
    {
     "name": "stdout",
     "output_type": "stream",
     "text": [
      "\tKOR,  1st phase (15Mar2020 - 25Mar2020): finished 1310 trials in 1 min  0 sec"
     ]
    },
    {
     "name": "stdout",
     "output_type": "stream",
     "text": [
      "\n"
     ]
    },
    {
     "name": "stdout",
     "output_type": "stream",
     "text": [
      "\tPOL,  2nd phase (09May2020 - 20May2020): finished  404 trials in 0 min 15 sec"
     ]
    },
    {
     "name": "stdout",
     "output_type": "stream",
     "text": [
      "\n"
     ]
    },
    {
     "name": "stdout",
     "output_type": "stream",
     "text": [
      "\tMDA,  4th phase (18Jun2020 - 27Jun2020): finished  953 trials in 0 min 40 sec"
     ]
    },
    {
     "name": "stdout",
     "output_type": "stream",
     "text": [
      "\n"
     ]
    },
    {
     "name": "stdout",
     "output_type": "stream",
     "text": [
      "\tARE,  4th phase (03Jun2020 - 11Jun2020): finished 1322 trials in 1 min  0 sec"
     ]
    },
    {
     "name": "stdout",
     "output_type": "stream",
     "text": [
      "\n"
     ]
    },
    {
     "name": "stdout",
     "output_type": "stream",
     "text": [
      "\tSEN,  6th phase (01Jul2020 - 10Jul2020): finished 1331 trials in 1 min  0 sec"
     ]
    },
    {
     "name": "stdout",
     "output_type": "stream",
     "text": [
      "\n"
     ]
    },
    {
     "name": "stdout",
     "output_type": "stream",
     "text": [
      "\tGIN,  6th phase (21Jun2020 - 08Jul2020): finished 1302 trials in 1 min  0 sec"
     ]
    },
    {
     "name": "stdout",
     "output_type": "stream",
     "text": [
      "\n"
     ]
    },
    {
     "name": "stdout",
     "output_type": "stream",
     "text": [
      "\tAUT,  4th phase (24Apr2020 - 14May2020): finished  152 trials in 0 min  5 sec"
     ]
    },
    {
     "name": "stdout",
     "output_type": "stream",
     "text": [
      "\n"
     ]
    },
    {
     "name": "stdout",
     "output_type": "stream",
     "text": [
      "\tIRN,  2nd phase (13Apr2020 - 04May2020): finished  147 trials in 0 min  5 sec"
     ]
    },
    {
     "name": "stdout",
     "output_type": "stream",
     "text": [
      "\n"
     ]
    },
    {
     "name": "stdout",
     "output_type": "stream",
     "text": [
      "\tPRT,  6th phase (27Jun2020 - 07Jul2020): finished  423 trials in 0 min 15 sec"
     ]
    },
    {
     "name": "stdout",
     "output_type": "stream",
     "text": [
      "\n"
     ]
    },
    {
     "name": "stdout",
     "output_type": "stream",
     "text": [
      "\tPOL, 10th phase (12Aug2020 - 21Aug2020): finished  158 trials in 0 min  5 sec"
     ]
    },
    {
     "name": "stdout",
     "output_type": "stream",
     "text": [
      "\n"
     ]
    },
    {
     "name": "stdout",
     "output_type": "stream",
     "text": [
      "\tSAU,  2nd phase (22May2020 - 05Jun2020): finished 1367 trials in 1 min  0 sec"
     ]
    },
    {
     "name": "stdout",
     "output_type": "stream",
     "text": [
      "\n"
     ]
    },
    {
     "name": "stdout",
     "output_type": "stream",
     "text": [
      "\tITA,  4th phase (22Apr2020 - 30Apr2020): finished  164 trials in 0 min  5 sec"
     ]
    },
    {
     "name": "stdout",
     "output_type": "stream",
     "text": [
      "\n"
     ]
    },
    {
     "name": "stdout",
     "output_type": "stream",
     "text": [
      "\tKOR,  8th phase (22Jul2020 - 06Aug2020): finished 1367 trials in 1 min  0 sec"
     ]
    },
    {
     "name": "stdout",
     "output_type": "stream",
     "text": [
      "\n"
     ]
    },
    {
     "name": "stdout",
     "output_type": "stream",
     "text": [
      "\tITA,  2nd phase (01Apr2020 - 12Apr2020): finished  995 trials in 0 min 40 sec"
     ]
    },
    {
     "name": "stdout",
     "output_type": "stream",
     "text": [
      "\n"
     ]
    },
    {
     "name": "stdout",
     "output_type": "stream",
     "text": [
      "\tMDA,  1st phase (12May2020 - 28May2020): finished 1367 trials in 1 min  0 sec"
     ]
    },
    {
     "name": "stdout",
     "output_type": "stream",
     "text": [
      "\n"
     ]
    },
    {
     "name": "stdout",
     "output_type": "stream",
     "text": [
      "\tARE,  8th phase (13Jul2020 - 26Jul2020): finished  946 trials in 0 min 40 sec"
     ]
    },
    {
     "name": "stdout",
     "output_type": "stream",
     "text": [
      "\n"
     ]
    },
    {
     "name": "stdout",
     "output_type": "stream",
     "text": [
      "\tRUS,  3rd phase (31May2020 - 13Jun2020): finished 1324 trials in 1 min  0 sec"
     ]
    },
    {
     "name": "stdout",
     "output_type": "stream",
     "text": [
      "\n"
     ]
    },
    {
     "name": "stdout",
     "output_type": "stream",
     "text": [
      "\tSEN,  7th phase (11Jul2020 - 20Jul2020): finished 1315 trials in 1 min  0 sec"
     ]
    },
    {
     "name": "stdout",
     "output_type": "stream",
     "text": [
      "\n"
     ]
    },
    {
     "name": "stdout",
     "output_type": "stream",
     "text": [
      "\tKOR,  3rd phase (07Apr2020 - 07May2020): finished 1132 trials in 0 min 50 sec"
     ]
    },
    {
     "name": "stdout",
     "output_type": "stream",
     "text": [
      "\n"
     ]
    },
    {
     "name": "stdout",
     "output_type": "stream",
     "text": [
      "\tARE,  1st phase (27Apr2020 - 12May2020): finished 1320 trials in 1 min  0 sec"
     ]
    },
    {
     "name": "stdout",
     "output_type": "stream",
     "text": [
      "\n"
     ]
    },
    {
     "name": "stdout",
     "output_type": "stream",
     "text": [
      "\tGIN,  9th phase (02Aug2020 - 10Aug2020): finished  761 trials in 0 min 30 sec"
     ]
    },
    {
     "name": "stdout",
     "output_type": "stream",
     "text": [
      "\n"
     ]
    },
    {
     "name": "stdout",
     "output_type": "stream",
     "text": [
      "\tARE,  3rd phase (25May2020 - 02Jun2020): finished  546 trials in 0 min 20 sec"
     ]
    },
    {
     "name": "stdout",
     "output_type": "stream",
     "text": [
      "\n"
     ]
    },
    {
     "name": "stdout",
     "output_type": "stream",
     "text": [
      "\tKWT,  2nd phase (25May2020 - 09Jun2020): finished 1315 trials in 1 min  0 sec"
     ]
    },
    {
     "name": "stdout",
     "output_type": "stream",
     "text": [
      "\n"
     ]
    },
    {
     "name": "stdout",
     "output_type": "stream",
     "text": [
      "\tGIN,  1st phase (02May2020 - 11May2020): finished 1258 trials in 1 min  0 sec"
     ]
    },
    {
     "name": "stdout",
     "output_type": "stream",
     "text": [
      "\n"
     ]
    },
    {
     "name": "stdout",
     "output_type": "stream",
     "text": [
      "\tBHR,  4th phase (13Jun2020 - 21Jun2020): finished 1220 trials in 1 min  0 sec"
     ]
    },
    {
     "name": "stdout",
     "output_type": "stream",
     "text": [
      "\n"
     ]
    },
    {
     "name": "stdout",
     "output_type": "stream",
     "text": [
      "\tPOL,  4th phase (06Jun2020 - 16Jun2020): finished  530 trials in 0 min 25 sec"
     ]
    },
    {
     "name": "stdout",
     "output_type": "stream",
     "text": [
      "\n"
     ]
    },
    {
     "name": "stdout",
     "output_type": "stream",
     "text": [
      "\tPRT,  8th phase (19Jul2020 - 03Aug2020): finished  367 trials in 0 min 15 sec"
     ]
    },
    {
     "name": "stdout",
     "output_type": "stream",
     "text": [
      "\n"
     ]
    },
    {
     "name": "stdout",
     "output_type": "stream",
     "text": [
      "\tGIN,  2nd phase (12May2020 - 21May2020): finished 1193 trials in 1 min  0 sec"
     ]
    },
    {
     "name": "stdout",
     "output_type": "stream",
     "text": [
      "\n"
     ]
    },
    {
     "name": "stdout",
     "output_type": "stream",
     "text": [
      "\tBHR,  3rd phase (05Jun2020 - 12Jun2020): finished 1294 trials in 1 min  0 sec"
     ]
    },
    {
     "name": "stdout",
     "output_type": "stream",
     "text": [
      "\n"
     ]
    },
    {
     "name": "stdout",
     "output_type": "stream",
     "text": [
      "\tSEN,  2nd phase (14May2020 - 27May2020): finished 1289 trials in 1 min  0 sec"
     ]
    },
    {
     "name": "stdout",
     "output_type": "stream",
     "text": [
      "\n"
     ]
    },
    {
     "name": "stdout",
     "output_type": "stream",
     "text": [
      "\tPOL,  9th phase (04Aug2020 - 11Aug2020): finished  154 trials in 0 min  5 sec"
     ]
    },
    {
     "name": "stdout",
     "output_type": "stream",
     "text": [
      "\n"
     ]
    },
    {
     "name": "stdout",
     "output_type": "stream",
     "text": [
      "\tIRN,  4th phase (21May2020 - 02Jun2020): finished  265 trials in 0 min 10 sec"
     ]
    },
    {
     "name": "stdout",
     "output_type": "stream",
     "text": [
      "\n"
     ]
    },
    {
     "name": "stdout",
     "output_type": "stream",
     "text": [
      "\tITA,  9th phase (14Jul2020 - 21Aug2020): finished 1294 trials in 1 min  0 sec"
     ]
    },
    {
     "name": "stdout",
     "output_type": "stream",
     "text": [
      "\n"
     ]
    },
    {
     "name": "stdout",
     "output_type": "stream",
     "text": [
      "\tMDA,  8th phase (29Jul2020 - 06Aug2020): finished  409 trials in 0 min 15 sec"
     ]
    },
    {
     "name": "stdout",
     "output_type": "stream",
     "text": [
      "\n"
     ]
    },
    {
     "name": "stdout",
     "output_type": "stream",
     "text": [
      "\tAUT,  6th phase (30Jun2020 - 17Jul2020): finished 1303 trials in 1 min  0 sec"
     ]
    },
    {
     "name": "stdout",
     "output_type": "stream",
     "text": [
      "\n"
     ]
    },
    {
     "name": "stdout",
     "output_type": "stream",
     "text": [
      "\tPRT,  5th phase (17Jun2020 - 26Jun2020): finished  521 trials in 0 min 20 sec"
     ]
    },
    {
     "name": "stdout",
     "output_type": "stream",
     "text": [
      "\n"
     ]
    },
    {
     "name": "stdout",
     "output_type": "stream",
     "text": [
      "\tPOL,  1st phase (23Apr2020 - 08May2020): finished  144 trials in 0 min  5 sec"
     ]
    },
    {
     "name": "stdout",
     "output_type": "stream",
     "text": [
      "\n"
     ]
    },
    {
     "name": "stdout",
     "output_type": "stream",
     "text": [
      "\tKOR,  2nd phase (26Mar2020 - 06Apr2020): finished  515 trials in 0 min 20 sec"
     ]
    },
    {
     "name": "stdout",
     "output_type": "stream",
     "text": [
      "\n"
     ]
    },
    {
     "name": "stdout",
     "output_type": "stream",
     "text": [
      "\tIRN,  6th phase (16Jun2020 - 28Jun2020): finished 1322 trials in 1 min  0 sec"
     ]
    },
    {
     "name": "stdout",
     "output_type": "stream",
     "text": [
      "\n"
     ]
    },
    {
     "name": "stdout",
     "output_type": "stream",
     "text": [
      "\tIRN,  1st phase (28Mar2020 - 12Apr2020): finished 1293 trials in 1 min  0 sec"
     ]
    },
    {
     "name": "stdout",
     "output_type": "stream",
     "text": [
      "\n"
     ]
    },
    {
     "name": "stdout",
     "output_type": "stream",
     "text": [
      "\tSEN,  9th phase (30Jul2020 - 09Aug2020): finished 1314 trials in 1 min  0 sec"
     ]
    },
    {
     "name": "stdout",
     "output_type": "stream",
     "text": [
      "\n"
     ]
    },
    {
     "name": "stdout",
     "output_type": "stream",
     "text": [
      "\tIRN, 10th phase (06Aug2020 - 21Aug2020): finished 1298 trials in 1 min  0 sec"
     ]
    },
    {
     "name": "stdout",
     "output_type": "stream",
     "text": [
      "\n"
     ]
    },
    {
     "name": "stdout",
     "output_type": "stream",
     "text": [
      "\tRUS,  2nd phase (23May2020 - 30May2020): finished 1315 trials in 1 min  0 sec"
     ]
    },
    {
     "name": "stdout",
     "output_type": "stream",
     "text": [
      "\n"
     ]
    },
    {
     "name": "stdout",
     "output_type": "stream",
     "text": [
      "\tMDA,  3rd phase (10Jun2020 - 17Jun2020): finished  376 trials in 0 min 15 sec"
     ]
    },
    {
     "name": "stdout",
     "output_type": "stream",
     "text": [
      "\n"
     ]
    },
    {
     "name": "stdout",
     "output_type": "stream",
     "text": [
      "\tCZE,  9th phase (13Aug2020 - 21Aug2020): finished 1304 trials in 1 min  0 sec"
     ]
    },
    {
     "name": "stdout",
     "output_type": "stream",
     "text": [
      "\n"
     ]
    },
    {
     "name": "stdout",
     "output_type": "stream",
     "text": [
      "\tSEN,  1st phase (30Apr2020 - 13May2020): finished 1299 trials in 1 min  0 sec"
     ]
    },
    {
     "name": "stdout",
     "output_type": "stream",
     "text": [
      "\n"
     ]
    },
    {
     "name": "stdout",
     "output_type": "stream",
     "text": [
      "\tIRN,  8th phase (11Jul2020 - 23Jul2020): finished  163 trials in 0 min  5 sec"
     ]
    },
    {
     "name": "stdout",
     "output_type": "stream",
     "text": [
      "\n"
     ]
    },
    {
     "name": "stdout",
     "output_type": "stream",
     "text": [
      "\tITA,  5th phase (01May2020 - 08May2020): finished  615 trials in 0 min 25 sec"
     ]
    },
    {
     "name": "stdout",
     "output_type": "stream",
     "text": [
      "\n"
     ]
    },
    {
     "name": "stdout",
     "output_type": "stream",
     "text": [
      "\tMDA,  2nd phase (29May2020 - 09Jun2020): finished 1347 trials in 1 min  0 sec"
     ]
    },
    {
     "name": "stdout",
     "output_type": "stream",
     "text": [
      "\n"
     ]
    },
    {
     "name": "stdout",
     "output_type": "stream",
     "text": [
      "\tSAU,  7th phase (12Jul2020 - 21Jul2020): finished  286 trials in 0 min 10 sec"
     ]
    },
    {
     "name": "stdout",
     "output_type": "stream",
     "text": [
      "\n"
     ]
    },
    {
     "name": "stdout",
     "output_type": "stream",
     "text": [
      "\tCZE,  1st phase (08Apr2020 - 19Apr2020): finished 1391 trials in 1 min  0 sec"
     ]
    },
    {
     "name": "stdout",
     "output_type": "stream",
     "text": [
      "\n"
     ]
    },
    {
     "name": "stdout",
     "output_type": "stream",
     "text": [
      "\tARE,  6th phase (23Jun2020 - 02Jul2020): finished  527 trials in 0 min 20 sec"
     ]
    },
    {
     "name": "stdout",
     "output_type": "stream",
     "text": [
      "\n"
     ]
    },
    {
     "name": "stdout",
     "output_type": "stream",
     "text": [
      "\tRUS,  4th phase (14Jun2020 - 23Jun2020): finished 1462 trials in 1 min  0 sec"
     ]
    },
    {
     "name": "stdout",
     "output_type": "stream",
     "text": [
      "\n"
     ]
    },
    {
     "name": "stdout",
     "output_type": "stream",
     "text": [
      "\tAUT,  7th phase (18Jul2020 - 28Jul2020): finished  774 trials in 0 min 30 sec"
     ]
    },
    {
     "name": "stdout",
     "output_type": "stream",
     "text": [
      "\n"
     ]
    },
    {
     "name": "stdout",
     "output_type": "stream",
     "text": [
      "Completed optimization. Total: 24 min 20 sec"
     ]
    },
    {
     "name": "stdout",
     "output_type": "stream",
     "text": [
      "\n"
     ]
    }
   ],
   "source": [
    "# Parameter estimation with SIR-F model\n",
    "analyser.estimate(cs.SIRF)"
   ]
  },
  {
   "cell_type": "code",
   "execution_count": 12,
   "metadata": {
    "collapsed": false
   },
   "outputs": [
    {
     "data": {
      "text/html": [
       "<div>\n",
       "<style scoped>\n",
       "    .dataframe tbody tr th:only-of-type {\n",
       "        vertical-align: middle;\n",
       "    }\n",
       "\n",
       "    .dataframe tbody tr th {\n",
       "        vertical-align: top;\n",
       "    }\n",
       "\n",
       "    .dataframe thead th {\n",
       "        text-align: right;\n",
       "    }\n",
       "</style>\n",
       "<table border=\"1\" class=\"dataframe\">\n",
       "  <thead>\n",
       "    <tr style=\"text-align: right;\">\n",
       "      <th></th>\n",
       "      <th></th>\n",
       "      <th>Type</th>\n",
       "      <th>Start</th>\n",
       "      <th>End</th>\n",
       "      <th>Population</th>\n",
       "      <th>ODE</th>\n",
       "      <th>Rt</th>\n",
       "      <th>theta</th>\n",
       "      <th>kappa</th>\n",
       "      <th>rho</th>\n",
       "      <th>sigma</th>\n",
       "      <th>tau</th>\n",
       "      <th>alpha1 [-]</th>\n",
       "      <th>1/gamma [day]</th>\n",
       "      <th>1/alpha2 [day]</th>\n",
       "      <th>1/beta [day]</th>\n",
       "      <th>RMSLE</th>\n",
       "      <th>Trials</th>\n",
       "      <th>Runtime</th>\n",
       "    </tr>\n",
       "    <tr>\n",
       "      <th>Country</th>\n",
       "      <th>Phase</th>\n",
       "      <th></th>\n",
       "      <th></th>\n",
       "      <th></th>\n",
       "      <th></th>\n",
       "      <th></th>\n",
       "      <th></th>\n",
       "      <th></th>\n",
       "      <th></th>\n",
       "      <th></th>\n",
       "      <th></th>\n",
       "      <th></th>\n",
       "      <th></th>\n",
       "      <th></th>\n",
       "      <th></th>\n",
       "      <th></th>\n",
       "      <th></th>\n",
       "      <th></th>\n",
       "      <th></th>\n",
       "    </tr>\n",
       "  </thead>\n",
       "  <tbody>\n",
       "    <tr>\n",
       "      <th rowspan=\"10\" valign=\"top\">Poland</th>\n",
       "      <th>1st</th>\n",
       "      <td>Past</td>\n",
       "      <td>23Apr2020</td>\n",
       "      <td>08May2020</td>\n",
       "      <td>37974750</td>\n",
       "      <td>SIR-F</td>\n",
       "      <td>1.31</td>\n",
       "      <td>0.049548</td>\n",
       "      <td>0.000149</td>\n",
       "      <td>0.009202</td>\n",
       "      <td>0.006540</td>\n",
       "      <td>360</td>\n",
       "      <td>0.050</td>\n",
       "      <td>38</td>\n",
       "      <td>1683</td>\n",
       "      <td>27</td>\n",
       "      <td>0.050175</td>\n",
       "      <td>144</td>\n",
       "      <td>0 min  5 sec</td>\n",
       "    </tr>\n",
       "    <tr>\n",
       "      <th>2nd</th>\n",
       "      <td>Past</td>\n",
       "      <td>09May2020</td>\n",
       "      <td>20May2020</td>\n",
       "      <td>37974750</td>\n",
       "      <td>SIR-F</td>\n",
       "      <td>1.37</td>\n",
       "      <td>0.000571</td>\n",
       "      <td>0.000426</td>\n",
       "      <td>0.009513</td>\n",
       "      <td>0.006517</td>\n",
       "      <td>360</td>\n",
       "      <td>0.001</td>\n",
       "      <td>38</td>\n",
       "      <td>586</td>\n",
       "      <td>26</td>\n",
       "      <td>0.013759</td>\n",
       "      <td>404</td>\n",
       "      <td>0 min 15 sec</td>\n",
       "    </tr>\n",
       "    <tr>\n",
       "      <th>3rd</th>\n",
       "      <td>Past</td>\n",
       "      <td>21May2020</td>\n",
       "      <td>05Jun2020</td>\n",
       "      <td>37974750</td>\n",
       "      <td>SIR-F</td>\n",
       "      <td>1.29</td>\n",
       "      <td>0.018945</td>\n",
       "      <td>0.000068</td>\n",
       "      <td>0.007563</td>\n",
       "      <td>0.005664</td>\n",
       "      <td>360</td>\n",
       "      <td>0.019</td>\n",
       "      <td>44</td>\n",
       "      <td>3667</td>\n",
       "      <td>33</td>\n",
       "      <td>0.022679</td>\n",
       "      <td>1218</td>\n",
       "      <td>1 min  0 sec</td>\n",
       "    </tr>\n",
       "    <tr>\n",
       "      <th>4th</th>\n",
       "      <td>Past</td>\n",
       "      <td>06Jun2020</td>\n",
       "      <td>16Jun2020</td>\n",
       "      <td>37974750</td>\n",
       "      <td>SIR-F</td>\n",
       "      <td>1.86</td>\n",
       "      <td>0.001010</td>\n",
       "      <td>0.000215</td>\n",
       "      <td>0.007448</td>\n",
       "      <td>0.003781</td>\n",
       "      <td>360</td>\n",
       "      <td>0.001</td>\n",
       "      <td>66</td>\n",
       "      <td>1161</td>\n",
       "      <td>33</td>\n",
       "      <td>0.017667</td>\n",
       "      <td>530</td>\n",
       "      <td>0 min 25 sec</td>\n",
       "    </tr>\n",
       "    <tr>\n",
       "      <th>5th</th>\n",
       "      <td>Past</td>\n",
       "      <td>17Jun2020</td>\n",
       "      <td>30Jun2020</td>\n",
       "      <td>37974750</td>\n",
       "      <td>SIR-F</td>\n",
       "      <td>0.51</td>\n",
       "      <td>0.018084</td>\n",
       "      <td>0.000213</td>\n",
       "      <td>0.005391</td>\n",
       "      <td>0.010089</td>\n",
       "      <td>360</td>\n",
       "      <td>0.018</td>\n",
       "      <td>24</td>\n",
       "      <td>1175</td>\n",
       "      <td>46</td>\n",
       "      <td>0.039239</td>\n",
       "      <td>319</td>\n",
       "      <td>0 min 10 sec</td>\n",
       "    </tr>\n",
       "    <tr>\n",
       "      <th>6th</th>\n",
       "      <td>Past</td>\n",
       "      <td>01Jul2020</td>\n",
       "      <td>14Jul2020</td>\n",
       "      <td>37974750</td>\n",
       "      <td>SIR-F</td>\n",
       "      <td>0.73</td>\n",
       "      <td>0.015882</td>\n",
       "      <td>0.000071</td>\n",
       "      <td>0.007545</td>\n",
       "      <td>0.010065</td>\n",
       "      <td>360</td>\n",
       "      <td>0.016</td>\n",
       "      <td>24</td>\n",
       "      <td>3515</td>\n",
       "      <td>33</td>\n",
       "      <td>0.051679</td>\n",
       "      <td>275</td>\n",
       "      <td>0 min 10 sec</td>\n",
       "    </tr>\n",
       "    <tr>\n",
       "      <th>7th</th>\n",
       "      <td>Past</td>\n",
       "      <td>15Jul2020</td>\n",
       "      <td>24Jul2020</td>\n",
       "      <td>37974750</td>\n",
       "      <td>SIR-F</td>\n",
       "      <td>0.91</td>\n",
       "      <td>0.001384</td>\n",
       "      <td>0.000150</td>\n",
       "      <td>0.011552</td>\n",
       "      <td>0.012489</td>\n",
       "      <td>360</td>\n",
       "      <td>0.001</td>\n",
       "      <td>20</td>\n",
       "      <td>1663</td>\n",
       "      <td>21</td>\n",
       "      <td>0.015904</td>\n",
       "      <td>242</td>\n",
       "      <td>0 min 10 sec</td>\n",
       "    </tr>\n",
       "    <tr>\n",
       "      <th>8th</th>\n",
       "      <td>Past</td>\n",
       "      <td>25Jul2020</td>\n",
       "      <td>03Aug2020</td>\n",
       "      <td>37974750</td>\n",
       "      <td>SIR-F</td>\n",
       "      <td>1.86</td>\n",
       "      <td>0.017772</td>\n",
       "      <td>0.000002</td>\n",
       "      <td>0.014823</td>\n",
       "      <td>0.007836</td>\n",
       "      <td>360</td>\n",
       "      <td>0.018</td>\n",
       "      <td>31</td>\n",
       "      <td>103449</td>\n",
       "      <td>16</td>\n",
       "      <td>0.008487</td>\n",
       "      <td>876</td>\n",
       "      <td>0 min 35 sec</td>\n",
       "    </tr>\n",
       "    <tr>\n",
       "      <th>9th</th>\n",
       "      <td>Past</td>\n",
       "      <td>04Aug2020</td>\n",
       "      <td>11Aug2020</td>\n",
       "      <td>37974750</td>\n",
       "      <td>SIR-F</td>\n",
       "      <td>2.36</td>\n",
       "      <td>0.003965</td>\n",
       "      <td>0.000079</td>\n",
       "      <td>0.013563</td>\n",
       "      <td>0.005641</td>\n",
       "      <td>360</td>\n",
       "      <td>0.004</td>\n",
       "      <td>44</td>\n",
       "      <td>3148</td>\n",
       "      <td>18</td>\n",
       "      <td>0.010499</td>\n",
       "      <td>154</td>\n",
       "      <td>0 min  5 sec</td>\n",
       "    </tr>\n",
       "    <tr>\n",
       "      <th>10th</th>\n",
       "      <td>Past</td>\n",
       "      <td>12Aug2020</td>\n",
       "      <td>21Aug2020</td>\n",
       "      <td>37974750</td>\n",
       "      <td>SIR-F</td>\n",
       "      <td>1.86</td>\n",
       "      <td>0.002884</td>\n",
       "      <td>0.000079</td>\n",
       "      <td>0.011540</td>\n",
       "      <td>0.006109</td>\n",
       "      <td>360</td>\n",
       "      <td>0.003</td>\n",
       "      <td>40</td>\n",
       "      <td>3152</td>\n",
       "      <td>21</td>\n",
       "      <td>0.012183</td>\n",
       "      <td>158</td>\n",
       "      <td>0 min  5 sec</td>\n",
       "    </tr>\n",
       "    <tr>\n",
       "      <th rowspan=\"10\" valign=\"top\">Senegal</th>\n",
       "      <th>1st</th>\n",
       "      <td>Past</td>\n",
       "      <td>30Apr2020</td>\n",
       "      <td>13May2020</td>\n",
       "      <td>15854360</td>\n",
       "      <td>SIR-F</td>\n",
       "      <td>2.48</td>\n",
       "      <td>0.000139</td>\n",
       "      <td>0.000245</td>\n",
       "      <td>0.025814</td>\n",
       "      <td>0.010144</td>\n",
       "      <td>360</td>\n",
       "      <td>0.000</td>\n",
       "      <td>24</td>\n",
       "      <td>1021</td>\n",
       "      <td>9</td>\n",
       "      <td>0.100237</td>\n",
       "      <td>1299</td>\n",
       "      <td>1 min  0 sec</td>\n",
       "    </tr>\n",
       "    <tr>\n",
       "      <th>2nd</th>\n",
       "      <td>Past</td>\n",
       "      <td>14May2020</td>\n",
       "      <td>27May2020</td>\n",
       "      <td>15854360</td>\n",
       "      <td>SIR-F</td>\n",
       "      <td>1.43</td>\n",
       "      <td>0.000248</td>\n",
       "      <td>0.000188</td>\n",
       "      <td>0.014473</td>\n",
       "      <td>0.009899</td>\n",
       "      <td>360</td>\n",
       "      <td>0.000</td>\n",
       "      <td>25</td>\n",
       "      <td>1329</td>\n",
       "      <td>17</td>\n",
       "      <td>0.041212</td>\n",
       "      <td>1289</td>\n",
       "      <td>1 min  0 sec</td>\n",
       "    </tr>\n",
       "    <tr>\n",
       "      <th>3rd</th>\n",
       "      <td>Past</td>\n",
       "      <td>28May2020</td>\n",
       "      <td>09Jun2020</td>\n",
       "      <td>15854360</td>\n",
       "      <td>SIR-F</td>\n",
       "      <td>1.09</td>\n",
       "      <td>0.000722</td>\n",
       "      <td>0.000120</td>\n",
       "      <td>0.013190</td>\n",
       "      <td>0.011943</td>\n",
       "      <td>360</td>\n",
       "      <td>0.001</td>\n",
       "      <td>20</td>\n",
       "      <td>2087</td>\n",
       "      <td>18</td>\n",
       "      <td>0.066111</td>\n",
       "      <td>1411</td>\n",
       "      <td>1 min  0 sec</td>\n",
       "    </tr>\n",
       "    <tr>\n",
       "      <th>4th</th>\n",
       "      <td>Past</td>\n",
       "      <td>10Jun2020</td>\n",
       "      <td>19Jun2020</td>\n",
       "      <td>15854360</td>\n",
       "      <td>SIR-F</td>\n",
       "      <td>0.97</td>\n",
       "      <td>0.016606</td>\n",
       "      <td>0.000181</td>\n",
       "      <td>0.015427</td>\n",
       "      <td>0.015495</td>\n",
       "      <td>360</td>\n",
       "      <td>0.017</td>\n",
       "      <td>16</td>\n",
       "      <td>1381</td>\n",
       "      <td>16</td>\n",
       "      <td>0.023541</td>\n",
       "      <td>1345</td>\n",
       "      <td>1 min  0 sec</td>\n",
       "    </tr>\n",
       "    <tr>\n",
       "      <th>5th</th>\n",
       "      <td>Past</td>\n",
       "      <td>20Jun2020</td>\n",
       "      <td>30Jun2020</td>\n",
       "      <td>15854360</td>\n",
       "      <td>SIR-F</td>\n",
       "      <td>1.61</td>\n",
       "      <td>0.003842</td>\n",
       "      <td>0.000301</td>\n",
       "      <td>0.013349</td>\n",
       "      <td>0.007936</td>\n",
       "      <td>360</td>\n",
       "      <td>0.004</td>\n",
       "      <td>31</td>\n",
       "      <td>830</td>\n",
       "      <td>18</td>\n",
       "      <td>0.015534</td>\n",
       "      <td>212</td>\n",
       "      <td>0 min  5 sec</td>\n",
       "    </tr>\n",
       "    <tr>\n",
       "      <th>6th</th>\n",
       "      <td>Past</td>\n",
       "      <td>01Jul2020</td>\n",
       "      <td>10Jul2020</td>\n",
       "      <td>15854360</td>\n",
       "      <td>SIR-F</td>\n",
       "      <td>1.34</td>\n",
       "      <td>0.017920</td>\n",
       "      <td>0.000181</td>\n",
       "      <td>0.011334</td>\n",
       "      <td>0.008120</td>\n",
       "      <td>360</td>\n",
       "      <td>0.018</td>\n",
       "      <td>30</td>\n",
       "      <td>1379</td>\n",
       "      <td>22</td>\n",
       "      <td>0.019018</td>\n",
       "      <td>1331</td>\n",
       "      <td>1 min  0 sec</td>\n",
       "    </tr>\n",
       "    <tr>\n",
       "      <th>7th</th>\n",
       "      <td>Past</td>\n",
       "      <td>11Jul2020</td>\n",
       "      <td>20Jul2020</td>\n",
       "      <td>15854360</td>\n",
       "      <td>SIR-F</td>\n",
       "      <td>1.34</td>\n",
       "      <td>0.000622</td>\n",
       "      <td>0.000261</td>\n",
       "      <td>0.008758</td>\n",
       "      <td>0.006247</td>\n",
       "      <td>360</td>\n",
       "      <td>0.001</td>\n",
       "      <td>40</td>\n",
       "      <td>956</td>\n",
       "      <td>28</td>\n",
       "      <td>0.012561</td>\n",
       "      <td>1315</td>\n",
       "      <td>1 min  0 sec</td>\n",
       "    </tr>\n",
       "    <tr>\n",
       "      <th>8th</th>\n",
       "      <td>Past</td>\n",
       "      <td>21Jul2020</td>\n",
       "      <td>29Jul2020</td>\n",
       "      <td>15854360</td>\n",
       "      <td>SIR-F</td>\n",
       "      <td>1.67</td>\n",
       "      <td>0.000658</td>\n",
       "      <td>0.000284</td>\n",
       "      <td>0.010548</td>\n",
       "      <td>0.006021</td>\n",
       "      <td>360</td>\n",
       "      <td>0.001</td>\n",
       "      <td>41</td>\n",
       "      <td>880</td>\n",
       "      <td>23</td>\n",
       "      <td>0.012915</td>\n",
       "      <td>425</td>\n",
       "      <td>0 min 15 sec</td>\n",
       "    </tr>\n",
       "    <tr>\n",
       "      <th>9th</th>\n",
       "      <td>Past</td>\n",
       "      <td>30Jul2020</td>\n",
       "      <td>09Aug2020</td>\n",
       "      <td>15854360</td>\n",
       "      <td>SIR-F</td>\n",
       "      <td>1.54</td>\n",
       "      <td>0.000248</td>\n",
       "      <td>0.000188</td>\n",
       "      <td>0.006592</td>\n",
       "      <td>0.004100</td>\n",
       "      <td>360</td>\n",
       "      <td>0.000</td>\n",
       "      <td>60</td>\n",
       "      <td>1331</td>\n",
       "      <td>37</td>\n",
       "      <td>0.012067</td>\n",
       "      <td>1314</td>\n",
       "      <td>1 min  0 sec</td>\n",
       "    </tr>\n",
       "    <tr>\n",
       "      <th>10th</th>\n",
       "      <td>Past</td>\n",
       "      <td>10Aug2020</td>\n",
       "      <td>21Aug2020</td>\n",
       "      <td>15854360</td>\n",
       "      <td>SIR-F</td>\n",
       "      <td>1.70</td>\n",
       "      <td>0.000237</td>\n",
       "      <td>0.000176</td>\n",
       "      <td>0.006304</td>\n",
       "      <td>0.003541</td>\n",
       "      <td>360</td>\n",
       "      <td>0.000</td>\n",
       "      <td>70</td>\n",
       "      <td>1422</td>\n",
       "      <td>39</td>\n",
       "      <td>0.037833</td>\n",
       "      <td>1346</td>\n",
       "      <td>1 min  0 sec</td>\n",
       "    </tr>\n",
       "    <tr>\n",
       "      <th rowspan=\"10\" valign=\"top\">Iran</th>\n",
       "      <th>1st</th>\n",
       "      <td>Past</td>\n",
       "      <td>28Mar2020</td>\n",
       "      <td>12Apr2020</td>\n",
       "      <td>81800269</td>\n",
       "      <td>SIR-F</td>\n",
       "      <td>1.46</td>\n",
       "      <td>0.023701</td>\n",
       "      <td>0.000826</td>\n",
       "      <td>0.022262</td>\n",
       "      <td>0.014109</td>\n",
       "      <td>360</td>\n",
       "      <td>0.024</td>\n",
       "      <td>17</td>\n",
       "      <td>302</td>\n",
       "      <td>11</td>\n",
       "      <td>0.194289</td>\n",
       "      <td>1293</td>\n",
       "      <td>1 min  0 sec</td>\n",
       "    </tr>\n",
       "    <tr>\n",
       "      <th>2nd</th>\n",
       "      <td>Past</td>\n",
       "      <td>13Apr2020</td>\n",
       "      <td>04May2020</td>\n",
       "      <td>81800269</td>\n",
       "      <td>SIR-F</td>\n",
       "      <td>0.69</td>\n",
       "      <td>0.035473</td>\n",
       "      <td>0.000559</td>\n",
       "      <td>0.018323</td>\n",
       "      <td>0.024933</td>\n",
       "      <td>360</td>\n",
       "      <td>0.035</td>\n",
       "      <td>10</td>\n",
       "      <td>447</td>\n",
       "      <td>13</td>\n",
       "      <td>0.036447</td>\n",
       "      <td>147</td>\n",
       "      <td>0 min  5 sec</td>\n",
       "    </tr>\n",
       "    <tr>\n",
       "      <th>3rd</th>\n",
       "      <td>Past</td>\n",
       "      <td>05May2020</td>\n",
       "      <td>20May2020</td>\n",
       "      <td>81800269</td>\n",
       "      <td>SIR-F</td>\n",
       "      <td>1.40</td>\n",
       "      <td>0.020055</td>\n",
       "      <td>0.000329</td>\n",
       "      <td>0.026857</td>\n",
       "      <td>0.018518</td>\n",
       "      <td>360</td>\n",
       "      <td>0.020</td>\n",
       "      <td>13</td>\n",
       "      <td>759</td>\n",
       "      <td>9</td>\n",
       "      <td>0.016251</td>\n",
       "      <td>1240</td>\n",
       "      <td>0 min 40 sec</td>\n",
       "    </tr>\n",
       "    <tr>\n",
       "      <th>4th</th>\n",
       "      <td>Past</td>\n",
       "      <td>21May2020</td>\n",
       "      <td>02Jun2020</td>\n",
       "      <td>81800269</td>\n",
       "      <td>SIR-F</td>\n",
       "      <td>1.22</td>\n",
       "      <td>0.012365</td>\n",
       "      <td>0.000299</td>\n",
       "      <td>0.025205</td>\n",
       "      <td>0.020155</td>\n",
       "      <td>360</td>\n",
       "      <td>0.012</td>\n",
       "      <td>12</td>\n",
       "      <td>835</td>\n",
       "      <td>9</td>\n",
       "      <td>0.022335</td>\n",
       "      <td>265</td>\n",
       "      <td>0 min 10 sec</td>\n",
       "    </tr>\n",
       "    <tr>\n",
       "      <th>5th</th>\n",
       "      <td>Past</td>\n",
       "      <td>03Jun2020</td>\n",
       "      <td>15Jun2020</td>\n",
       "      <td>81800269</td>\n",
       "      <td>SIR-F</td>\n",
       "      <td>1.10</td>\n",
       "      <td>0.000175</td>\n",
       "      <td>0.000614</td>\n",
       "      <td>0.020487</td>\n",
       "      <td>0.018029</td>\n",
       "      <td>360</td>\n",
       "      <td>0.000</td>\n",
       "      <td>13</td>\n",
       "      <td>406</td>\n",
       "      <td>12</td>\n",
       "      <td>0.019116</td>\n",
       "      <td>494</td>\n",
       "      <td>0 min 20 sec</td>\n",
       "    </tr>\n",
       "    <tr>\n",
       "      <th>6th</th>\n",
       "      <td>Past</td>\n",
       "      <td>16Jun2020</td>\n",
       "      <td>28Jun2020</td>\n",
       "      <td>81800269</td>\n",
       "      <td>SIR-F</td>\n",
       "      <td>0.97</td>\n",
       "      <td>0.000834</td>\n",
       "      <td>0.000928</td>\n",
       "      <td>0.020627</td>\n",
       "      <td>0.020429</td>\n",
       "      <td>360</td>\n",
       "      <td>0.001</td>\n",
       "      <td>12</td>\n",
       "      <td>269</td>\n",
       "      <td>12</td>\n",
       "      <td>0.023018</td>\n",
       "      <td>1322</td>\n",
       "      <td>1 min  0 sec</td>\n",
       "    </tr>\n",
       "    <tr>\n",
       "      <th>7th</th>\n",
       "      <td>Past</td>\n",
       "      <td>29Jun2020</td>\n",
       "      <td>10Jul2020</td>\n",
       "      <td>81800269</td>\n",
       "      <td>SIR-F</td>\n",
       "      <td>0.92</td>\n",
       "      <td>0.023852</td>\n",
       "      <td>0.000918</td>\n",
       "      <td>0.022565</td>\n",
       "      <td>0.023043</td>\n",
       "      <td>360</td>\n",
       "      <td>0.024</td>\n",
       "      <td>10</td>\n",
       "      <td>272</td>\n",
       "      <td>11</td>\n",
       "      <td>0.010229</td>\n",
       "      <td>215</td>\n",
       "      <td>0 min  5 sec</td>\n",
       "    </tr>\n",
       "    <tr>\n",
       "      <th>8th</th>\n",
       "      <td>Past</td>\n",
       "      <td>11Jul2020</td>\n",
       "      <td>23Jul2020</td>\n",
       "      <td>81800269</td>\n",
       "      <td>SIR-F</td>\n",
       "      <td>0.89</td>\n",
       "      <td>0.026605</td>\n",
       "      <td>0.001580</td>\n",
       "      <td>0.025405</td>\n",
       "      <td>0.026164</td>\n",
       "      <td>360</td>\n",
       "      <td>0.027</td>\n",
       "      <td>9</td>\n",
       "      <td>158</td>\n",
       "      <td>9</td>\n",
       "      <td>0.012727</td>\n",
       "      <td>163</td>\n",
       "      <td>0 min  5 sec</td>\n",
       "    </tr>\n",
       "    <tr>\n",
       "      <th>9th</th>\n",
       "      <td>Past</td>\n",
       "      <td>24Jul2020</td>\n",
       "      <td>05Aug2020</td>\n",
       "      <td>81800269</td>\n",
       "      <td>SIR-F</td>\n",
       "      <td>1.11</td>\n",
       "      <td>0.082387</td>\n",
       "      <td>0.000067</td>\n",
       "      <td>0.027607</td>\n",
       "      <td>0.022655</td>\n",
       "      <td>360</td>\n",
       "      <td>0.082</td>\n",
       "      <td>11</td>\n",
       "      <td>3708</td>\n",
       "      <td>9</td>\n",
       "      <td>0.006625</td>\n",
       "      <td>159</td>\n",
       "      <td>0 min  5 sec</td>\n",
       "    </tr>\n",
       "    <tr>\n",
       "      <th>10th</th>\n",
       "      <td>Past</td>\n",
       "      <td>06Aug2020</td>\n",
       "      <td>21Aug2020</td>\n",
       "      <td>81800269</td>\n",
       "      <td>SIR-F</td>\n",
       "      <td>1.08</td>\n",
       "      <td>0.016576</td>\n",
       "      <td>0.001258</td>\n",
       "      <td>0.022517</td>\n",
       "      <td>0.019225</td>\n",
       "      <td>360</td>\n",
       "      <td>0.017</td>\n",
       "      <td>13</td>\n",
       "      <td>198</td>\n",
       "      <td>11</td>\n",
       "      <td>0.031101</td>\n",
       "      <td>1298</td>\n",
       "      <td>1 min  0 sec</td>\n",
       "    </tr>\n",
       "    <tr>\n",
       "      <th rowspan=\"10\" valign=\"top\">Guinea</th>\n",
       "      <th>1st</th>\n",
       "      <td>Past</td>\n",
       "      <td>02May2020</td>\n",
       "      <td>11May2020</td>\n",
       "      <td>12414318</td>\n",
       "      <td>SIR-F</td>\n",
       "      <td>1.79</td>\n",
       "      <td>0.000437</td>\n",
       "      <td>0.000098</td>\n",
       "      <td>0.012660</td>\n",
       "      <td>0.006991</td>\n",
       "      <td>360</td>\n",
       "      <td>0.000</td>\n",
       "      <td>35</td>\n",
       "      <td>2549</td>\n",
       "      <td>19</td>\n",
       "      <td>0.073806</td>\n",
       "      <td>1258</td>\n",
       "      <td>1 min  0 sec</td>\n",
       "    </tr>\n",
       "    <tr>\n",
       "      <th>2nd</th>\n",
       "      <td>Past</td>\n",
       "      <td>12May2020</td>\n",
       "      <td>21May2020</td>\n",
       "      <td>12414318</td>\n",
       "      <td>SIR-F</td>\n",
       "      <td>0.84</td>\n",
       "      <td>0.000066</td>\n",
       "      <td>0.000152</td>\n",
       "      <td>0.011202</td>\n",
       "      <td>0.013112</td>\n",
       "      <td>360</td>\n",
       "      <td>0.000</td>\n",
       "      <td>19</td>\n",
       "      <td>1648</td>\n",
       "      <td>22</td>\n",
       "      <td>0.085383</td>\n",
       "      <td>1193</td>\n",
       "      <td>1 min  0 sec</td>\n",
       "    </tr>\n",
       "    <tr>\n",
       "      <th>3rd</th>\n",
       "      <td>Past</td>\n",
       "      <td>22May2020</td>\n",
       "      <td>29May2020</td>\n",
       "      <td>12414318</td>\n",
       "      <td>SIR-F</td>\n",
       "      <td>1.65</td>\n",
       "      <td>0.001062</td>\n",
       "      <td>0.000069</td>\n",
       "      <td>0.008403</td>\n",
       "      <td>0.005014</td>\n",
       "      <td>360</td>\n",
       "      <td>0.001</td>\n",
       "      <td>49</td>\n",
       "      <td>3612</td>\n",
       "      <td>29</td>\n",
       "      <td>0.040857</td>\n",
       "      <td>1708</td>\n",
       "      <td>1 min  0 sec</td>\n",
       "    </tr>\n",
       "    <tr>\n",
       "      <th>4th</th>\n",
       "      <td>Past</td>\n",
       "      <td>30May2020</td>\n",
       "      <td>10Jun2020</td>\n",
       "      <td>12414318</td>\n",
       "      <td>SIR-F</td>\n",
       "      <td>0.73</td>\n",
       "      <td>0.001257</td>\n",
       "      <td>0.000001</td>\n",
       "      <td>0.011084</td>\n",
       "      <td>0.015073</td>\n",
       "      <td>360</td>\n",
       "      <td>0.001</td>\n",
       "      <td>16</td>\n",
       "      <td>173911</td>\n",
       "      <td>22</td>\n",
       "      <td>0.076837</td>\n",
       "      <td>1358</td>\n",
       "      <td>1 min  0 sec</td>\n",
       "    </tr>\n",
       "    <tr>\n",
       "      <th>5th</th>\n",
       "      <td>Past</td>\n",
       "      <td>11Jun2020</td>\n",
       "      <td>20Jun2020</td>\n",
       "      <td>12414318</td>\n",
       "      <td>SIR-F</td>\n",
       "      <td>0.90</td>\n",
       "      <td>0.000539</td>\n",
       "      <td>0.000094</td>\n",
       "      <td>0.011083</td>\n",
       "      <td>0.012248</td>\n",
       "      <td>360</td>\n",
       "      <td>0.001</td>\n",
       "      <td>20</td>\n",
       "      <td>2646</td>\n",
       "      <td>22</td>\n",
       "      <td>0.029403</td>\n",
       "      <td>1452</td>\n",
       "      <td>1 min  0 sec</td>\n",
       "    </tr>\n",
       "    <tr>\n",
       "      <th>6th</th>\n",
       "      <td>Past</td>\n",
       "      <td>21Jun2020</td>\n",
       "      <td>08Jul2020</td>\n",
       "      <td>12414318</td>\n",
       "      <td>SIR-F</td>\n",
       "      <td>0.62</td>\n",
       "      <td>0.000673</td>\n",
       "      <td>0.000112</td>\n",
       "      <td>0.006966</td>\n",
       "      <td>0.011127</td>\n",
       "      <td>360</td>\n",
       "      <td>0.001</td>\n",
       "      <td>22</td>\n",
       "      <td>2238</td>\n",
       "      <td>35</td>\n",
       "      <td>0.073699</td>\n",
       "      <td>1302</td>\n",
       "      <td>1 min  0 sec</td>\n",
       "    </tr>\n",
       "    <tr>\n",
       "      <th>7th</th>\n",
       "      <td>Past</td>\n",
       "      <td>09Jul2020</td>\n",
       "      <td>20Jul2020</td>\n",
       "      <td>12414318</td>\n",
       "      <td>SIR-F</td>\n",
       "      <td>1.03</td>\n",
       "      <td>0.001059</td>\n",
       "      <td>0.000069</td>\n",
       "      <td>0.013754</td>\n",
       "      <td>0.013267</td>\n",
       "      <td>360</td>\n",
       "      <td>0.001</td>\n",
       "      <td>18</td>\n",
       "      <td>3610</td>\n",
       "      <td>18</td>\n",
       "      <td>0.071485</td>\n",
       "      <td>1226</td>\n",
       "      <td>1 min  0 sec</td>\n",
       "    </tr>\n",
       "    <tr>\n",
       "      <th>8th</th>\n",
       "      <td>Past</td>\n",
       "      <td>21Jul2020</td>\n",
       "      <td>01Aug2020</td>\n",
       "      <td>12414318</td>\n",
       "      <td>SIR-F</td>\n",
       "      <td>0.85</td>\n",
       "      <td>0.000281</td>\n",
       "      <td>0.000137</td>\n",
       "      <td>0.019357</td>\n",
       "      <td>0.022578</td>\n",
       "      <td>360</td>\n",
       "      <td>0.000</td>\n",
       "      <td>11</td>\n",
       "      <td>1829</td>\n",
       "      <td>12</td>\n",
       "      <td>0.041031</td>\n",
       "      <td>1102</td>\n",
       "      <td>0 min 35 sec</td>\n",
       "    </tr>\n",
       "    <tr>\n",
       "      <th>9th</th>\n",
       "      <td>Past</td>\n",
       "      <td>02Aug2020</td>\n",
       "      <td>10Aug2020</td>\n",
       "      <td>12414318</td>\n",
       "      <td>SIR-F</td>\n",
       "      <td>1.47</td>\n",
       "      <td>0.000966</td>\n",
       "      <td>0.000117</td>\n",
       "      <td>0.023884</td>\n",
       "      <td>0.016167</td>\n",
       "      <td>360</td>\n",
       "      <td>0.001</td>\n",
       "      <td>15</td>\n",
       "      <td>2133</td>\n",
       "      <td>10</td>\n",
       "      <td>0.022895</td>\n",
       "      <td>761</td>\n",
       "      <td>0 min 30 sec</td>\n",
       "    </tr>\n",
       "    <tr>\n",
       "      <th>10th</th>\n",
       "      <td>Past</td>\n",
       "      <td>11Aug2020</td>\n",
       "      <td>21Aug2020</td>\n",
       "      <td>12414318</td>\n",
       "      <td>SIR-F</td>\n",
       "      <td>1.46</td>\n",
       "      <td>0.000947</td>\n",
       "      <td>0.000036</td>\n",
       "      <td>0.019539</td>\n",
       "      <td>0.013345</td>\n",
       "      <td>360</td>\n",
       "      <td>0.001</td>\n",
       "      <td>18</td>\n",
       "      <td>6887</td>\n",
       "      <td>12</td>\n",
       "      <td>0.018008</td>\n",
       "      <td>692</td>\n",
       "      <td>0 min 30 sec</td>\n",
       "    </tr>\n",
       "  </tbody>\n",
       "</table>\n",
       "</div>"
      ],
      "text/plain": [
       "               Type      Start        End  Population    ODE    Rt     theta  \\\n",
       "Country Phase                                                                  \n",
       "Poland  1st    Past  23Apr2020  08May2020    37974750  SIR-F  1.31  0.049548   \n",
       "        2nd    Past  09May2020  20May2020    37974750  SIR-F  1.37  0.000571   \n",
       "        3rd    Past  21May2020  05Jun2020    37974750  SIR-F  1.29  0.018945   \n",
       "        4th    Past  06Jun2020  16Jun2020    37974750  SIR-F  1.86  0.001010   \n",
       "        5th    Past  17Jun2020  30Jun2020    37974750  SIR-F  0.51  0.018084   \n",
       "        6th    Past  01Jul2020  14Jul2020    37974750  SIR-F  0.73  0.015882   \n",
       "        7th    Past  15Jul2020  24Jul2020    37974750  SIR-F  0.91  0.001384   \n",
       "        8th    Past  25Jul2020  03Aug2020    37974750  SIR-F  1.86  0.017772   \n",
       "        9th    Past  04Aug2020  11Aug2020    37974750  SIR-F  2.36  0.003965   \n",
       "        10th   Past  12Aug2020  21Aug2020    37974750  SIR-F  1.86  0.002884   \n",
       "Senegal 1st    Past  30Apr2020  13May2020    15854360  SIR-F  2.48  0.000139   \n",
       "        2nd    Past  14May2020  27May2020    15854360  SIR-F  1.43  0.000248   \n",
       "        3rd    Past  28May2020  09Jun2020    15854360  SIR-F  1.09  0.000722   \n",
       "        4th    Past  10Jun2020  19Jun2020    15854360  SIR-F  0.97  0.016606   \n",
       "        5th    Past  20Jun2020  30Jun2020    15854360  SIR-F  1.61  0.003842   \n",
       "        6th    Past  01Jul2020  10Jul2020    15854360  SIR-F  1.34  0.017920   \n",
       "        7th    Past  11Jul2020  20Jul2020    15854360  SIR-F  1.34  0.000622   \n",
       "        8th    Past  21Jul2020  29Jul2020    15854360  SIR-F  1.67  0.000658   \n",
       "        9th    Past  30Jul2020  09Aug2020    15854360  SIR-F  1.54  0.000248   \n",
       "        10th   Past  10Aug2020  21Aug2020    15854360  SIR-F  1.70  0.000237   \n",
       "Iran    1st    Past  28Mar2020  12Apr2020    81800269  SIR-F  1.46  0.023701   \n",
       "        2nd    Past  13Apr2020  04May2020    81800269  SIR-F  0.69  0.035473   \n",
       "        3rd    Past  05May2020  20May2020    81800269  SIR-F  1.40  0.020055   \n",
       "        4th    Past  21May2020  02Jun2020    81800269  SIR-F  1.22  0.012365   \n",
       "        5th    Past  03Jun2020  15Jun2020    81800269  SIR-F  1.10  0.000175   \n",
       "        6th    Past  16Jun2020  28Jun2020    81800269  SIR-F  0.97  0.000834   \n",
       "        7th    Past  29Jun2020  10Jul2020    81800269  SIR-F  0.92  0.023852   \n",
       "        8th    Past  11Jul2020  23Jul2020    81800269  SIR-F  0.89  0.026605   \n",
       "        9th    Past  24Jul2020  05Aug2020    81800269  SIR-F  1.11  0.082387   \n",
       "        10th   Past  06Aug2020  21Aug2020    81800269  SIR-F  1.08  0.016576   \n",
       "Guinea  1st    Past  02May2020  11May2020    12414318  SIR-F  1.79  0.000437   \n",
       "        2nd    Past  12May2020  21May2020    12414318  SIR-F  0.84  0.000066   \n",
       "        3rd    Past  22May2020  29May2020    12414318  SIR-F  1.65  0.001062   \n",
       "        4th    Past  30May2020  10Jun2020    12414318  SIR-F  0.73  0.001257   \n",
       "        5th    Past  11Jun2020  20Jun2020    12414318  SIR-F  0.90  0.000539   \n",
       "        6th    Past  21Jun2020  08Jul2020    12414318  SIR-F  0.62  0.000673   \n",
       "        7th    Past  09Jul2020  20Jul2020    12414318  SIR-F  1.03  0.001059   \n",
       "        8th    Past  21Jul2020  01Aug2020    12414318  SIR-F  0.85  0.000281   \n",
       "        9th    Past  02Aug2020  10Aug2020    12414318  SIR-F  1.47  0.000966   \n",
       "        10th   Past  11Aug2020  21Aug2020    12414318  SIR-F  1.46  0.000947   \n",
       "\n",
       "                  kappa       rho     sigma  tau  alpha1 [-]  1/gamma [day]  \\\n",
       "Country Phase                                                                 \n",
       "Poland  1st    0.000149  0.009202  0.006540  360       0.050             38   \n",
       "        2nd    0.000426  0.009513  0.006517  360       0.001             38   \n",
       "        3rd    0.000068  0.007563  0.005664  360       0.019             44   \n",
       "        4th    0.000215  0.007448  0.003781  360       0.001             66   \n",
       "        5th    0.000213  0.005391  0.010089  360       0.018             24   \n",
       "        6th    0.000071  0.007545  0.010065  360       0.016             24   \n",
       "        7th    0.000150  0.011552  0.012489  360       0.001             20   \n",
       "        8th    0.000002  0.014823  0.007836  360       0.018             31   \n",
       "        9th    0.000079  0.013563  0.005641  360       0.004             44   \n",
       "        10th   0.000079  0.011540  0.006109  360       0.003             40   \n",
       "Senegal 1st    0.000245  0.025814  0.010144  360       0.000             24   \n",
       "        2nd    0.000188  0.014473  0.009899  360       0.000             25   \n",
       "        3rd    0.000120  0.013190  0.011943  360       0.001             20   \n",
       "        4th    0.000181  0.015427  0.015495  360       0.017             16   \n",
       "        5th    0.000301  0.013349  0.007936  360       0.004             31   \n",
       "        6th    0.000181  0.011334  0.008120  360       0.018             30   \n",
       "        7th    0.000261  0.008758  0.006247  360       0.001             40   \n",
       "        8th    0.000284  0.010548  0.006021  360       0.001             41   \n",
       "        9th    0.000188  0.006592  0.004100  360       0.000             60   \n",
       "        10th   0.000176  0.006304  0.003541  360       0.000             70   \n",
       "Iran    1st    0.000826  0.022262  0.014109  360       0.024             17   \n",
       "        2nd    0.000559  0.018323  0.024933  360       0.035             10   \n",
       "        3rd    0.000329  0.026857  0.018518  360       0.020             13   \n",
       "        4th    0.000299  0.025205  0.020155  360       0.012             12   \n",
       "        5th    0.000614  0.020487  0.018029  360       0.000             13   \n",
       "        6th    0.000928  0.020627  0.020429  360       0.001             12   \n",
       "        7th    0.000918  0.022565  0.023043  360       0.024             10   \n",
       "        8th    0.001580  0.025405  0.026164  360       0.027              9   \n",
       "        9th    0.000067  0.027607  0.022655  360       0.082             11   \n",
       "        10th   0.001258  0.022517  0.019225  360       0.017             13   \n",
       "Guinea  1st    0.000098  0.012660  0.006991  360       0.000             35   \n",
       "        2nd    0.000152  0.011202  0.013112  360       0.000             19   \n",
       "        3rd    0.000069  0.008403  0.005014  360       0.001             49   \n",
       "        4th    0.000001  0.011084  0.015073  360       0.001             16   \n",
       "        5th    0.000094  0.011083  0.012248  360       0.001             20   \n",
       "        6th    0.000112  0.006966  0.011127  360       0.001             22   \n",
       "        7th    0.000069  0.013754  0.013267  360       0.001             18   \n",
       "        8th    0.000137  0.019357  0.022578  360       0.000             11   \n",
       "        9th    0.000117  0.023884  0.016167  360       0.001             15   \n",
       "        10th   0.000036  0.019539  0.013345  360       0.001             18   \n",
       "\n",
       "               1/alpha2 [day]  1/beta [day]     RMSLE  Trials       Runtime  \n",
       "Country Phase                                                                \n",
       "Poland  1st              1683            27  0.050175     144  0 min  5 sec  \n",
       "        2nd               586            26  0.013759     404  0 min 15 sec  \n",
       "        3rd              3667            33  0.022679    1218  1 min  0 sec  \n",
       "        4th              1161            33  0.017667     530  0 min 25 sec  \n",
       "        5th              1175            46  0.039239     319  0 min 10 sec  \n",
       "        6th              3515            33  0.051679     275  0 min 10 sec  \n",
       "        7th              1663            21  0.015904     242  0 min 10 sec  \n",
       "        8th            103449            16  0.008487     876  0 min 35 sec  \n",
       "        9th              3148            18  0.010499     154  0 min  5 sec  \n",
       "        10th             3152            21  0.012183     158  0 min  5 sec  \n",
       "Senegal 1st              1021             9  0.100237    1299  1 min  0 sec  \n",
       "        2nd              1329            17  0.041212    1289  1 min  0 sec  \n",
       "        3rd              2087            18  0.066111    1411  1 min  0 sec  \n",
       "        4th              1381            16  0.023541    1345  1 min  0 sec  \n",
       "        5th               830            18  0.015534     212  0 min  5 sec  \n",
       "        6th              1379            22  0.019018    1331  1 min  0 sec  \n",
       "        7th               956            28  0.012561    1315  1 min  0 sec  \n",
       "        8th               880            23  0.012915     425  0 min 15 sec  \n",
       "        9th              1331            37  0.012067    1314  1 min  0 sec  \n",
       "        10th             1422            39  0.037833    1346  1 min  0 sec  \n",
       "Iran    1st               302            11  0.194289    1293  1 min  0 sec  \n",
       "        2nd               447            13  0.036447     147  0 min  5 sec  \n",
       "        3rd               759             9  0.016251    1240  0 min 40 sec  \n",
       "        4th               835             9  0.022335     265  0 min 10 sec  \n",
       "        5th               406            12  0.019116     494  0 min 20 sec  \n",
       "        6th               269            12  0.023018    1322  1 min  0 sec  \n",
       "        7th               272            11  0.010229     215  0 min  5 sec  \n",
       "        8th               158             9  0.012727     163  0 min  5 sec  \n",
       "        9th              3708             9  0.006625     159  0 min  5 sec  \n",
       "        10th              198            11  0.031101    1298  1 min  0 sec  \n",
       "Guinea  1st              2549            19  0.073806    1258  1 min  0 sec  \n",
       "        2nd              1648            22  0.085383    1193  1 min  0 sec  \n",
       "        3rd              3612            29  0.040857    1708  1 min  0 sec  \n",
       "        4th            173911            22  0.076837    1358  1 min  0 sec  \n",
       "        5th              2646            22  0.029403    1452  1 min  0 sec  \n",
       "        6th              2238            35  0.073699    1302  1 min  0 sec  \n",
       "        7th              3610            18  0.071485    1226  1 min  0 sec  \n",
       "        8th              1829            12  0.041031    1102  0 min 35 sec  \n",
       "        9th              2133            10  0.022895     761  0 min 30 sec  \n",
       "        10th             6887            12  0.018008     692  0 min 30 sec  "
      ]
     },
     "execution_count": 12,
     "metadata": {},
     "output_type": "execute_result"
    }
   ],
   "source": [
    "# Show summary\n",
    "analyser.summary(countries=countries_show)"
   ]
  },
  {
   "cell_type": "markdown",
   "metadata": {},
   "source": [
    "## Compare the history of parameters\n",
    "Here, compare the history of parameter values if countries."
   ]
  },
  {
   "cell_type": "code",
   "execution_count": 13,
   "metadata": {
    "collapsed": false
   },
   "outputs": [
    {
     "data": {
      "text/html": [
       "<div>\n",
       "<style scoped>\n",
       "    .dataframe tbody tr th:only-of-type {\n",
       "        vertical-align: middle;\n",
       "    }\n",
       "\n",
       "    .dataframe tbody tr th {\n",
       "        vertical-align: top;\n",
       "    }\n",
       "\n",
       "    .dataframe thead th {\n",
       "        text-align: right;\n",
       "    }\n",
       "</style>\n",
       "<table border=\"1\" class=\"dataframe\">\n",
       "  <thead>\n",
       "    <tr style=\"text-align: right;\">\n",
       "      <th></th>\n",
       "      <th>Date</th>\n",
       "      <th>Country</th>\n",
       "      <th>theta</th>\n",
       "      <th>kappa</th>\n",
       "      <th>rho</th>\n",
       "      <th>sigma</th>\n",
       "      <th>alpha1 [-]</th>\n",
       "      <th>1/alpha2 [day]</th>\n",
       "      <th>1/beta [day]</th>\n",
       "      <th>1/gamma [day]</th>\n",
       "      <th>...</th>\n",
       "      <th>Cancel_events</th>\n",
       "      <th>Gatherings_restrictions</th>\n",
       "      <th>Transport_closing</th>\n",
       "      <th>Stay_home_restrictions</th>\n",
       "      <th>Internal_movement_restrictions</th>\n",
       "      <th>International_movement_restrictions</th>\n",
       "      <th>Information_campaigns</th>\n",
       "      <th>Testing_policy</th>\n",
       "      <th>Contact_tracing</th>\n",
       "      <th>Stringency_index</th>\n",
       "    </tr>\n",
       "  </thead>\n",
       "  <tbody>\n",
       "    <tr>\n",
       "      <th>0</th>\n",
       "      <td>2020-03-24</td>\n",
       "      <td>Italy</td>\n",
       "      <td>0.133671</td>\n",
       "      <td>0.000106814</td>\n",
       "      <td>0.0224956</td>\n",
       "      <td>0.0039055</td>\n",
       "      <td>0.134</td>\n",
       "      <td>2340</td>\n",
       "      <td>11</td>\n",
       "      <td>64</td>\n",
       "      <td>...</td>\n",
       "      <td>2</td>\n",
       "      <td>4</td>\n",
       "      <td>1</td>\n",
       "      <td>3</td>\n",
       "      <td>2</td>\n",
       "      <td>3</td>\n",
       "      <td>2</td>\n",
       "      <td>2</td>\n",
       "      <td>2</td>\n",
       "      <td>91.67</td>\n",
       "    </tr>\n",
       "    <tr>\n",
       "      <th>1</th>\n",
       "      <td>2020-03-24</td>\n",
       "      <td>Italy</td>\n",
       "      <td>0.133671</td>\n",
       "      <td>0.000106814</td>\n",
       "      <td>0.0224956</td>\n",
       "      <td>0.0039055</td>\n",
       "      <td>0.134</td>\n",
       "      <td>2340</td>\n",
       "      <td>11</td>\n",
       "      <td>64</td>\n",
       "      <td>...</td>\n",
       "      <td>2</td>\n",
       "      <td>4</td>\n",
       "      <td>1</td>\n",
       "      <td>3</td>\n",
       "      <td>2</td>\n",
       "      <td>3</td>\n",
       "      <td>2</td>\n",
       "      <td>2</td>\n",
       "      <td>2</td>\n",
       "      <td>91.67</td>\n",
       "    </tr>\n",
       "    <tr>\n",
       "      <th>2</th>\n",
       "      <td>2020-03-24</td>\n",
       "      <td>Italy</td>\n",
       "      <td>0.133671</td>\n",
       "      <td>0.000106814</td>\n",
       "      <td>0.0224956</td>\n",
       "      <td>0.0039055</td>\n",
       "      <td>0.134</td>\n",
       "      <td>2340</td>\n",
       "      <td>11</td>\n",
       "      <td>64</td>\n",
       "      <td>...</td>\n",
       "      <td>2</td>\n",
       "      <td>4</td>\n",
       "      <td>1</td>\n",
       "      <td>3</td>\n",
       "      <td>2</td>\n",
       "      <td>3</td>\n",
       "      <td>2</td>\n",
       "      <td>2</td>\n",
       "      <td>2</td>\n",
       "      <td>91.67</td>\n",
       "    </tr>\n",
       "    <tr>\n",
       "      <th>3</th>\n",
       "      <td>2020-03-24</td>\n",
       "      <td>Italy</td>\n",
       "      <td>0.133671</td>\n",
       "      <td>0.000106814</td>\n",
       "      <td>0.0224956</td>\n",
       "      <td>0.0039055</td>\n",
       "      <td>0.134</td>\n",
       "      <td>2340</td>\n",
       "      <td>11</td>\n",
       "      <td>64</td>\n",
       "      <td>...</td>\n",
       "      <td>2</td>\n",
       "      <td>4</td>\n",
       "      <td>1</td>\n",
       "      <td>3</td>\n",
       "      <td>2</td>\n",
       "      <td>3</td>\n",
       "      <td>2</td>\n",
       "      <td>2</td>\n",
       "      <td>2</td>\n",
       "      <td>91.67</td>\n",
       "    </tr>\n",
       "    <tr>\n",
       "      <th>4</th>\n",
       "      <td>2020-03-24</td>\n",
       "      <td>Italy</td>\n",
       "      <td>0.133671</td>\n",
       "      <td>0.000106814</td>\n",
       "      <td>0.0224956</td>\n",
       "      <td>0.0039055</td>\n",
       "      <td>0.134</td>\n",
       "      <td>2340</td>\n",
       "      <td>11</td>\n",
       "      <td>64</td>\n",
       "      <td>...</td>\n",
       "      <td>2</td>\n",
       "      <td>4</td>\n",
       "      <td>1</td>\n",
       "      <td>3</td>\n",
       "      <td>2</td>\n",
       "      <td>3</td>\n",
       "      <td>2</td>\n",
       "      <td>2</td>\n",
       "      <td>2</td>\n",
       "      <td>91.67</td>\n",
       "    </tr>\n",
       "  </tbody>\n",
       "</table>\n",
       "<p>5 rows × 23 columns</p>\n",
       "</div>"
      ],
      "text/plain": [
       "        Date Country     theta        kappa        rho      sigma alpha1 [-]  \\\n",
       "0 2020-03-24   Italy  0.133671  0.000106814  0.0224956  0.0039055      0.134   \n",
       "1 2020-03-24   Italy  0.133671  0.000106814  0.0224956  0.0039055      0.134   \n",
       "2 2020-03-24   Italy  0.133671  0.000106814  0.0224956  0.0039055      0.134   \n",
       "3 2020-03-24   Italy  0.133671  0.000106814  0.0224956  0.0039055      0.134   \n",
       "4 2020-03-24   Italy  0.133671  0.000106814  0.0224956  0.0039055      0.134   \n",
       "\n",
       "  1/alpha2 [day] 1/beta [day] 1/gamma [day]  ... Cancel_events  \\\n",
       "0           2340           11            64  ...             2   \n",
       "1           2340           11            64  ...             2   \n",
       "2           2340           11            64  ...             2   \n",
       "3           2340           11            64  ...             2   \n",
       "4           2340           11            64  ...             2   \n",
       "\n",
       "   Gatherings_restrictions  Transport_closing  Stay_home_restrictions  \\\n",
       "0                        4                  1                       3   \n",
       "1                        4                  1                       3   \n",
       "2                        4                  1                       3   \n",
       "3                        4                  1                       3   \n",
       "4                        4                  1                       3   \n",
       "\n",
       "   Internal_movement_restrictions  International_movement_restrictions  \\\n",
       "0                               2                                    3   \n",
       "1                               2                                    3   \n",
       "2                               2                                    3   \n",
       "3                               2                                    3   \n",
       "4                               2                                    3   \n",
       "\n",
       "   Information_campaigns  Testing_policy  Contact_tracing  Stringency_index  \n",
       "0                      2               2                2             91.67  \n",
       "1                      2               2                2             91.67  \n",
       "2                      2               2                2             91.67  \n",
       "3                      2               2                2             91.67  \n",
       "4                      2               2                2             91.67  \n",
       "\n",
       "[5 rows x 23 columns]"
      ]
     },
     "execution_count": 13,
     "metadata": {},
     "output_type": "execute_result"
    }
   ],
   "source": [
    "# All parameter/day parameter/Rt/OxCGRT\n",
    "analyser.track().head()"
   ]
  },
  {
   "cell_type": "markdown",
   "metadata": {},
   "source": [
    "### $Rt$: Reprodcution number $\\mathrm{[-]}$"
   ]
  },
  {
   "cell_type": "code",
   "execution_count": 14,
   "metadata": {
    "collapsed": false
   },
   "outputs": [
    {
     "data": {
      "image/png": "[encoded data removed]",
      "text/plain": [
       "<Figure size 648x432 with 1 Axes>"
      ]
     },
     "metadata": {},
     "output_type": "display_data"
    },
    {
     "data": {
      "text/html": [
       "<div>\n",
       "<style scoped>\n",
       "    .dataframe tbody tr th:only-of-type {\n",
       "        vertical-align: middle;\n",
       "    }\n",
       "\n",
       "    .dataframe tbody tr th {\n",
       "        vertical-align: top;\n",
       "    }\n",
       "\n",
       "    .dataframe thead th {\n",
       "        text-align: right;\n",
       "    }\n",
       "</style>\n",
       "<table border=\"1\" class=\"dataframe\">\n",
       "  <thead>\n",
       "    <tr style=\"text-align: right;\">\n",
       "      <th>Country</th>\n",
       "      <th>Austria</th>\n",
       "      <th>Bahrain</th>\n",
       "      <th>Czech Republic</th>\n",
       "      <th>Guinea</th>\n",
       "      <th>Iran</th>\n",
       "      <th>Italy</th>\n",
       "      <th>Korea, South</th>\n",
       "      <th>Kuwait</th>\n",
       "      <th>Moldova</th>\n",
       "      <th>Poland</th>\n",
       "      <th>Portugal</th>\n",
       "      <th>Russia</th>\n",
       "      <th>Saudi Arabia</th>\n",
       "      <th>Senegal</th>\n",
       "      <th>United Arab Emirates</th>\n",
       "    </tr>\n",
       "    <tr>\n",
       "      <th>Date</th>\n",
       "      <th></th>\n",
       "      <th></th>\n",
       "      <th></th>\n",
       "      <th></th>\n",
       "      <th></th>\n",
       "      <th></th>\n",
       "      <th></th>\n",
       "      <th></th>\n",
       "      <th></th>\n",
       "      <th></th>\n",
       "      <th></th>\n",
       "      <th></th>\n",
       "      <th></th>\n",
       "      <th></th>\n",
       "      <th></th>\n",
       "    </tr>\n",
       "  </thead>\n",
       "  <tbody>\n",
       "    <tr>\n",
       "      <th>2020-08-17</th>\n",
       "      <td>0.86</td>\n",
       "      <td>1.21</td>\n",
       "      <td>0.73</td>\n",
       "      <td>1.46</td>\n",
       "      <td>1.08</td>\n",
       "      <td>1.05</td>\n",
       "      <td>3.19</td>\n",
       "      <td>1.29</td>\n",
       "      <td>1.47</td>\n",
       "      <td>1.86</td>\n",
       "      <td>1.0</td>\n",
       "      <td>0.86</td>\n",
       "      <td>0.68</td>\n",
       "      <td>1.7</td>\n",
       "      <td>1.02</td>\n",
       "    </tr>\n",
       "    <tr>\n",
       "      <th>2020-08-18</th>\n",
       "      <td>0.86</td>\n",
       "      <td>1.21</td>\n",
       "      <td>0.73</td>\n",
       "      <td>1.46</td>\n",
       "      <td>1.08</td>\n",
       "      <td>1.05</td>\n",
       "      <td>3.19</td>\n",
       "      <td>1.29</td>\n",
       "      <td>1.47</td>\n",
       "      <td>1.86</td>\n",
       "      <td>1.0</td>\n",
       "      <td>0.86</td>\n",
       "      <td>0.68</td>\n",
       "      <td>1.7</td>\n",
       "      <td>1.02</td>\n",
       "    </tr>\n",
       "    <tr>\n",
       "      <th>2020-08-19</th>\n",
       "      <td>0.86</td>\n",
       "      <td>1.21</td>\n",
       "      <td>0.73</td>\n",
       "      <td>1.46</td>\n",
       "      <td>1.08</td>\n",
       "      <td>1.05</td>\n",
       "      <td>3.19</td>\n",
       "      <td>1.29</td>\n",
       "      <td>1.47</td>\n",
       "      <td>1.86</td>\n",
       "      <td>1.0</td>\n",
       "      <td>0.86</td>\n",
       "      <td>0.68</td>\n",
       "      <td>1.7</td>\n",
       "      <td>1.02</td>\n",
       "    </tr>\n",
       "    <tr>\n",
       "      <th>2020-08-20</th>\n",
       "      <td>0.86</td>\n",
       "      <td>1.21</td>\n",
       "      <td>0.73</td>\n",
       "      <td>1.46</td>\n",
       "      <td>1.08</td>\n",
       "      <td>1.05</td>\n",
       "      <td>3.19</td>\n",
       "      <td>1.29</td>\n",
       "      <td>1.47</td>\n",
       "      <td>1.86</td>\n",
       "      <td>1.0</td>\n",
       "      <td>0.86</td>\n",
       "      <td>0.68</td>\n",
       "      <td>1.7</td>\n",
       "      <td>1.02</td>\n",
       "    </tr>\n",
       "    <tr>\n",
       "      <th>2020-08-21</th>\n",
       "      <td>0.86</td>\n",
       "      <td>1.21</td>\n",
       "      <td>0.73</td>\n",
       "      <td>1.46</td>\n",
       "      <td>1.08</td>\n",
       "      <td>1.05</td>\n",
       "      <td>3.19</td>\n",
       "      <td>1.29</td>\n",
       "      <td>1.47</td>\n",
       "      <td>1.86</td>\n",
       "      <td>1.0</td>\n",
       "      <td>0.86</td>\n",
       "      <td>0.68</td>\n",
       "      <td>1.7</td>\n",
       "      <td>1.02</td>\n",
       "    </tr>\n",
       "  </tbody>\n",
       "</table>\n",
       "</div>"
      ],
      "text/plain": [
       "Country     Austria  Bahrain  Czech Republic  Guinea  Iran  Italy  \\\n",
       "Date                                                                \n",
       "2020-08-17     0.86     1.21            0.73    1.46  1.08   1.05   \n",
       "2020-08-18     0.86     1.21            0.73    1.46  1.08   1.05   \n",
       "2020-08-19     0.86     1.21            0.73    1.46  1.08   1.05   \n",
       "2020-08-20     0.86     1.21            0.73    1.46  1.08   1.05   \n",
       "2020-08-21     0.86     1.21            0.73    1.46  1.08   1.05   \n",
       "\n",
       "Country     Korea, South  Kuwait  Moldova  Poland  Portugal  Russia  \\\n",
       "Date                                                                  \n",
       "2020-08-17          3.19    1.29     1.47    1.86       1.0    0.86   \n",
       "2020-08-18          3.19    1.29     1.47    1.86       1.0    0.86   \n",
       "2020-08-19          3.19    1.29     1.47    1.86       1.0    0.86   \n",
       "2020-08-20          3.19    1.29     1.47    1.86       1.0    0.86   \n",
       "2020-08-21          3.19    1.29     1.47    1.86       1.0    0.86   \n",
       "\n",
       "Country     Saudi Arabia  Senegal  United Arab Emirates  \n",
       "Date                                                     \n",
       "2020-08-17          0.68      1.7                  1.02  \n",
       "2020-08-18          0.68      1.7                  1.02  \n",
       "2020-08-19          0.68      1.7                  1.02  \n",
       "2020-08-20          0.68      1.7                  1.02  \n",
       "2020-08-21          0.68      1.7                  1.02  "
      ]
     },
     "execution_count": 14,
     "metadata": {},
     "output_type": "execute_result"
    }
   ],
   "source": [
    "analyser.param_history(\"Rt\", roll_window=None).tail()"
   ]
  },
  {
   "cell_type": "markdown",
   "metadata": {},
   "source": [
    "### $\\rho$: Effective contact rate $\\mathrm{[-]}$"
   ]
  },
  {
   "cell_type": "code",
   "execution_count": 15,
   "metadata": {
    "collapsed": false
   },
   "outputs": [
    {
     "data": {
      "image/png": "[encoded data removed]",
      "text/plain": [
       "<Figure size 648x432 with 1 Axes>"
      ]
     },
     "metadata": {},
     "output_type": "display_data"
    },
    {
     "data": {
      "text/html": [
       "<div>\n",
       "<style scoped>\n",
       "    .dataframe tbody tr th:only-of-type {\n",
       "        vertical-align: middle;\n",
       "    }\n",
       "\n",
       "    .dataframe tbody tr th {\n",
       "        vertical-align: top;\n",
       "    }\n",
       "\n",
       "    .dataframe thead th {\n",
       "        text-align: right;\n",
       "    }\n",
       "</style>\n",
       "<table border=\"1\" class=\"dataframe\">\n",
       "  <thead>\n",
       "    <tr style=\"text-align: right;\">\n",
       "      <th>Country</th>\n",
       "      <th>Austria</th>\n",
       "      <th>Bahrain</th>\n",
       "      <th>Czech Republic</th>\n",
       "      <th>Guinea</th>\n",
       "      <th>Iran</th>\n",
       "      <th>Italy</th>\n",
       "      <th>Korea, South</th>\n",
       "      <th>Kuwait</th>\n",
       "      <th>Moldova</th>\n",
       "      <th>Poland</th>\n",
       "      <th>Portugal</th>\n",
       "      <th>Russia</th>\n",
       "      <th>Saudi Arabia</th>\n",
       "      <th>Senegal</th>\n",
       "      <th>United Arab Emirates</th>\n",
       "    </tr>\n",
       "    <tr>\n",
       "      <th>Date</th>\n",
       "      <th></th>\n",
       "      <th></th>\n",
       "      <th></th>\n",
       "      <th></th>\n",
       "      <th></th>\n",
       "      <th></th>\n",
       "      <th></th>\n",
       "      <th></th>\n",
       "      <th></th>\n",
       "      <th></th>\n",
       "      <th></th>\n",
       "      <th></th>\n",
       "      <th></th>\n",
       "      <th></th>\n",
       "      <th></th>\n",
       "    </tr>\n",
       "  </thead>\n",
       "  <tbody>\n",
       "    <tr>\n",
       "      <th>2020-08-17</th>\n",
       "      <td>0.018365</td>\n",
       "      <td>0.029378</td>\n",
       "      <td>0.008952</td>\n",
       "      <td>0.019539</td>\n",
       "      <td>0.022517</td>\n",
       "      <td>0.005503</td>\n",
       "      <td>0.029262</td>\n",
       "      <td>0.022037</td>\n",
       "      <td>0.012819</td>\n",
       "      <td>0.01154</td>\n",
       "      <td>0.003354</td>\n",
       "      <td>0.001592</td>\n",
       "      <td>0.011447</td>\n",
       "      <td>0.006304</td>\n",
       "      <td>0.010068</td>\n",
       "    </tr>\n",
       "    <tr>\n",
       "      <th>2020-08-18</th>\n",
       "      <td>0.018365</td>\n",
       "      <td>0.029378</td>\n",
       "      <td>0.008952</td>\n",
       "      <td>0.019539</td>\n",
       "      <td>0.022517</td>\n",
       "      <td>0.005503</td>\n",
       "      <td>0.029262</td>\n",
       "      <td>0.022037</td>\n",
       "      <td>0.012819</td>\n",
       "      <td>0.01154</td>\n",
       "      <td>0.003354</td>\n",
       "      <td>0.001592</td>\n",
       "      <td>0.011447</td>\n",
       "      <td>0.006304</td>\n",
       "      <td>0.010068</td>\n",
       "    </tr>\n",
       "    <tr>\n",
       "      <th>2020-08-19</th>\n",
       "      <td>0.018365</td>\n",
       "      <td>0.029378</td>\n",
       "      <td>0.008952</td>\n",
       "      <td>0.019539</td>\n",
       "      <td>0.022517</td>\n",
       "      <td>0.005503</td>\n",
       "      <td>0.029262</td>\n",
       "      <td>0.022037</td>\n",
       "      <td>0.012819</td>\n",
       "      <td>0.01154</td>\n",
       "      <td>0.003354</td>\n",
       "      <td>0.001592</td>\n",
       "      <td>0.011447</td>\n",
       "      <td>0.006304</td>\n",
       "      <td>0.010068</td>\n",
       "    </tr>\n",
       "    <tr>\n",
       "      <th>2020-08-20</th>\n",
       "      <td>0.018365</td>\n",
       "      <td>0.029378</td>\n",
       "      <td>0.008952</td>\n",
       "      <td>0.019539</td>\n",
       "      <td>0.022517</td>\n",
       "      <td>0.005503</td>\n",
       "      <td>0.029262</td>\n",
       "      <td>0.022037</td>\n",
       "      <td>0.012819</td>\n",
       "      <td>0.01154</td>\n",
       "      <td>0.003354</td>\n",
       "      <td>0.001592</td>\n",
       "      <td>0.011447</td>\n",
       "      <td>0.006304</td>\n",
       "      <td>0.010068</td>\n",
       "    </tr>\n",
       "    <tr>\n",
       "      <th>2020-08-21</th>\n",
       "      <td>0.018365</td>\n",
       "      <td>0.029378</td>\n",
       "      <td>0.008952</td>\n",
       "      <td>0.019539</td>\n",
       "      <td>0.022517</td>\n",
       "      <td>0.005503</td>\n",
       "      <td>0.029262</td>\n",
       "      <td>0.022037</td>\n",
       "      <td>0.012819</td>\n",
       "      <td>0.01154</td>\n",
       "      <td>0.003354</td>\n",
       "      <td>0.001592</td>\n",
       "      <td>0.011447</td>\n",
       "      <td>0.006304</td>\n",
       "      <td>0.010068</td>\n",
       "    </tr>\n",
       "  </tbody>\n",
       "</table>\n",
       "</div>"
      ],
      "text/plain": [
       "Country      Austria   Bahrain  Czech Republic    Guinea      Iran     Italy  \\\n",
       "Date                                                                           \n",
       "2020-08-17  0.018365  0.029378        0.008952  0.019539  0.022517  0.005503   \n",
       "2020-08-18  0.018365  0.029378        0.008952  0.019539  0.022517  0.005503   \n",
       "2020-08-19  0.018365  0.029378        0.008952  0.019539  0.022517  0.005503   \n",
       "2020-08-20  0.018365  0.029378        0.008952  0.019539  0.022517  0.005503   \n",
       "2020-08-21  0.018365  0.029378        0.008952  0.019539  0.022517  0.005503   \n",
       "\n",
       "Country     Korea, South    Kuwait   Moldova   Poland  Portugal    Russia  \\\n",
       "Date                                                                        \n",
       "2020-08-17      0.029262  0.022037  0.012819  0.01154  0.003354  0.001592   \n",
       "2020-08-18      0.029262  0.022037  0.012819  0.01154  0.003354  0.001592   \n",
       "2020-08-19      0.029262  0.022037  0.012819  0.01154  0.003354  0.001592   \n",
       "2020-08-20      0.029262  0.022037  0.012819  0.01154  0.003354  0.001592   \n",
       "2020-08-21      0.029262  0.022037  0.012819  0.01154  0.003354  0.001592   \n",
       "\n",
       "Country     Saudi Arabia   Senegal  United Arab Emirates  \n",
       "Date                                                      \n",
       "2020-08-17      0.011447  0.006304              0.010068  \n",
       "2020-08-18      0.011447  0.006304              0.010068  \n",
       "2020-08-19      0.011447  0.006304              0.010068  \n",
       "2020-08-20      0.011447  0.006304              0.010068  \n",
       "2020-08-21      0.011447  0.006304              0.010068  "
      ]
     },
     "execution_count": 15,
     "metadata": {},
     "output_type": "execute_result"
    }
   ],
   "source": [
    "analyser.param_history(\"rho\", roll_window=None).tail()"
   ]
  },
  {
   "cell_type": "markdown",
   "metadata": {},
   "source": [
    "### $\\sigma$: Recovery rate $\\mathrm{[-]}$"
   ]
  },
  {
   "cell_type": "code",
   "execution_count": 16,
   "metadata": {
    "collapsed": false
   },
   "outputs": [
    {
     "data": {
      "image/png": "[encoded data removed]",
      "text/plain": [
       "<Figure size 648x432 with 1 Axes>"
      ]
     },
     "metadata": {},
     "output_type": "display_data"
    },
    {
     "data": {
      "text/html": [
       "<div>\n",
       "<style scoped>\n",
       "    .dataframe tbody tr th:only-of-type {\n",
       "        vertical-align: middle;\n",
       "    }\n",
       "\n",
       "    .dataframe tbody tr th {\n",
       "        vertical-align: top;\n",
       "    }\n",
       "\n",
       "    .dataframe thead th {\n",
       "        text-align: right;\n",
       "    }\n",
       "</style>\n",
       "<table border=\"1\" class=\"dataframe\">\n",
       "  <thead>\n",
       "    <tr style=\"text-align: right;\">\n",
       "      <th>Country</th>\n",
       "      <th>Austria</th>\n",
       "      <th>Bahrain</th>\n",
       "      <th>Czech Republic</th>\n",
       "      <th>Guinea</th>\n",
       "      <th>Iran</th>\n",
       "      <th>Italy</th>\n",
       "      <th>Korea, South</th>\n",
       "      <th>Kuwait</th>\n",
       "      <th>Moldova</th>\n",
       "      <th>Poland</th>\n",
       "      <th>Portugal</th>\n",
       "      <th>Russia</th>\n",
       "      <th>Saudi Arabia</th>\n",
       "      <th>Senegal</th>\n",
       "      <th>United Arab Emirates</th>\n",
       "    </tr>\n",
       "    <tr>\n",
       "      <th>Date</th>\n",
       "      <th></th>\n",
       "      <th></th>\n",
       "      <th></th>\n",
       "      <th></th>\n",
       "      <th></th>\n",
       "      <th></th>\n",
       "      <th></th>\n",
       "      <th></th>\n",
       "      <th></th>\n",
       "      <th></th>\n",
       "      <th></th>\n",
       "      <th></th>\n",
       "      <th></th>\n",
       "      <th></th>\n",
       "      <th></th>\n",
       "    </tr>\n",
       "  </thead>\n",
       "  <tbody>\n",
       "    <tr>\n",
       "      <th>2020-08-17</th>\n",
       "      <td>0.021211</td>\n",
       "      <td>0.02415</td>\n",
       "      <td>0.012224</td>\n",
       "      <td>0.013345</td>\n",
       "      <td>0.019225</td>\n",
       "      <td>0.005091</td>\n",
       "      <td>0.009104</td>\n",
       "      <td>0.016978</td>\n",
       "      <td>0.008483</td>\n",
       "      <td>0.006109</td>\n",
       "      <td>0.003284</td>\n",
       "      <td>0.001796</td>\n",
       "      <td>0.016622</td>\n",
       "      <td>0.003541</td>\n",
       "      <td>0.009829</td>\n",
       "    </tr>\n",
       "    <tr>\n",
       "      <th>2020-08-18</th>\n",
       "      <td>0.021211</td>\n",
       "      <td>0.02415</td>\n",
       "      <td>0.012224</td>\n",
       "      <td>0.013345</td>\n",
       "      <td>0.019225</td>\n",
       "      <td>0.005091</td>\n",
       "      <td>0.009104</td>\n",
       "      <td>0.016978</td>\n",
       "      <td>0.008483</td>\n",
       "      <td>0.006109</td>\n",
       "      <td>0.003284</td>\n",
       "      <td>0.001796</td>\n",
       "      <td>0.016622</td>\n",
       "      <td>0.003541</td>\n",
       "      <td>0.009829</td>\n",
       "    </tr>\n",
       "    <tr>\n",
       "      <th>2020-08-19</th>\n",
       "      <td>0.021211</td>\n",
       "      <td>0.02415</td>\n",
       "      <td>0.012224</td>\n",
       "      <td>0.013345</td>\n",
       "      <td>0.019225</td>\n",
       "      <td>0.005091</td>\n",
       "      <td>0.009104</td>\n",
       "      <td>0.016978</td>\n",
       "      <td>0.008483</td>\n",
       "      <td>0.006109</td>\n",
       "      <td>0.003284</td>\n",
       "      <td>0.001796</td>\n",
       "      <td>0.016622</td>\n",
       "      <td>0.003541</td>\n",
       "      <td>0.009829</td>\n",
       "    </tr>\n",
       "    <tr>\n",
       "      <th>2020-08-20</th>\n",
       "      <td>0.021211</td>\n",
       "      <td>0.02415</td>\n",
       "      <td>0.012224</td>\n",
       "      <td>0.013345</td>\n",
       "      <td>0.019225</td>\n",
       "      <td>0.005091</td>\n",
       "      <td>0.009104</td>\n",
       "      <td>0.016978</td>\n",
       "      <td>0.008483</td>\n",
       "      <td>0.006109</td>\n",
       "      <td>0.003284</td>\n",
       "      <td>0.001796</td>\n",
       "      <td>0.016622</td>\n",
       "      <td>0.003541</td>\n",
       "      <td>0.009829</td>\n",
       "    </tr>\n",
       "    <tr>\n",
       "      <th>2020-08-21</th>\n",
       "      <td>0.021211</td>\n",
       "      <td>0.02415</td>\n",
       "      <td>0.012224</td>\n",
       "      <td>0.013345</td>\n",
       "      <td>0.019225</td>\n",
       "      <td>0.005091</td>\n",
       "      <td>0.009104</td>\n",
       "      <td>0.016978</td>\n",
       "      <td>0.008483</td>\n",
       "      <td>0.006109</td>\n",
       "      <td>0.003284</td>\n",
       "      <td>0.001796</td>\n",
       "      <td>0.016622</td>\n",
       "      <td>0.003541</td>\n",
       "      <td>0.009829</td>\n",
       "    </tr>\n",
       "  </tbody>\n",
       "</table>\n",
       "</div>"
      ],
      "text/plain": [
       "Country      Austria  Bahrain  Czech Republic    Guinea      Iran     Italy  \\\n",
       "Date                                                                          \n",
       "2020-08-17  0.021211  0.02415        0.012224  0.013345  0.019225  0.005091   \n",
       "2020-08-18  0.021211  0.02415        0.012224  0.013345  0.019225  0.005091   \n",
       "2020-08-19  0.021211  0.02415        0.012224  0.013345  0.019225  0.005091   \n",
       "2020-08-20  0.021211  0.02415        0.012224  0.013345  0.019225  0.005091   \n",
       "2020-08-21  0.021211  0.02415        0.012224  0.013345  0.019225  0.005091   \n",
       "\n",
       "Country     Korea, South    Kuwait   Moldova    Poland  Portugal    Russia  \\\n",
       "Date                                                                         \n",
       "2020-08-17      0.009104  0.016978  0.008483  0.006109  0.003284  0.001796   \n",
       "2020-08-18      0.009104  0.016978  0.008483  0.006109  0.003284  0.001796   \n",
       "2020-08-19      0.009104  0.016978  0.008483  0.006109  0.003284  0.001796   \n",
       "2020-08-20      0.009104  0.016978  0.008483  0.006109  0.003284  0.001796   \n",
       "2020-08-21      0.009104  0.016978  0.008483  0.006109  0.003284  0.001796   \n",
       "\n",
       "Country     Saudi Arabia   Senegal  United Arab Emirates  \n",
       "Date                                                      \n",
       "2020-08-17      0.016622  0.003541              0.009829  \n",
       "2020-08-18      0.016622  0.003541              0.009829  \n",
       "2020-08-19      0.016622  0.003541              0.009829  \n",
       "2020-08-20      0.016622  0.003541              0.009829  \n",
       "2020-08-21      0.016622  0.003541              0.009829  "
      ]
     },
     "execution_count": 16,
     "metadata": {},
     "output_type": "execute_result"
    }
   ],
   "source": [
    "analyser.param_history(\"sigma\", roll_window=None).tail()"
   ]
  },
  {
   "cell_type": "markdown",
   "metadata": {},
   "source": [
    "### $\\kappa$: Mortality rate of infected cases $\\mathrm{[-]}$"
   ]
  },
  {
   "cell_type": "code",
   "execution_count": 17,
   "metadata": {
    "collapsed": false
   },
   "outputs": [
    {
     "data": {
      "image/png": "[encoded data removed]",
      "text/plain": [
       "<Figure size 648x432 with 1 Axes>"
      ]
     },
     "metadata": {},
     "output_type": "display_data"
    },
    {
     "data": {
      "text/html": [
       "<div>\n",
       "<style scoped>\n",
       "    .dataframe tbody tr th:only-of-type {\n",
       "        vertical-align: middle;\n",
       "    }\n",
       "\n",
       "    .dataframe tbody tr th {\n",
       "        vertical-align: top;\n",
       "    }\n",
       "\n",
       "    .dataframe thead th {\n",
       "        text-align: right;\n",
       "    }\n",
       "</style>\n",
       "<table border=\"1\" class=\"dataframe\">\n",
       "  <thead>\n",
       "    <tr style=\"text-align: right;\">\n",
       "      <th>Country</th>\n",
       "      <th>Austria</th>\n",
       "      <th>Bahrain</th>\n",
       "      <th>Czech Republic</th>\n",
       "      <th>Guinea</th>\n",
       "      <th>Iran</th>\n",
       "      <th>Italy</th>\n",
       "      <th>Korea, South</th>\n",
       "      <th>Kuwait</th>\n",
       "      <th>Moldova</th>\n",
       "      <th>Poland</th>\n",
       "      <th>Portugal</th>\n",
       "      <th>Russia</th>\n",
       "      <th>Saudi Arabia</th>\n",
       "      <th>Senegal</th>\n",
       "      <th>United Arab Emirates</th>\n",
       "    </tr>\n",
       "    <tr>\n",
       "      <th>Date</th>\n",
       "      <th></th>\n",
       "      <th></th>\n",
       "      <th></th>\n",
       "      <th></th>\n",
       "      <th></th>\n",
       "      <th></th>\n",
       "      <th></th>\n",
       "      <th></th>\n",
       "      <th></th>\n",
       "      <th></th>\n",
       "      <th></th>\n",
       "      <th></th>\n",
       "      <th></th>\n",
       "      <th></th>\n",
       "      <th></th>\n",
       "    </tr>\n",
       "  </thead>\n",
       "  <tbody>\n",
       "    <tr>\n",
       "      <th>2020-08-17</th>\n",
       "      <td>0.000079</td>\n",
       "      <td>0.000014</td>\n",
       "      <td>0.000085</td>\n",
       "      <td>0.000036</td>\n",
       "      <td>0.001258</td>\n",
       "      <td>0.000156</td>\n",
       "      <td>0.00006</td>\n",
       "      <td>0.000076</td>\n",
       "      <td>0.000005</td>\n",
       "      <td>0.000079</td>\n",
       "      <td>0.000057</td>\n",
       "      <td>0.00005</td>\n",
       "      <td>0.00015</td>\n",
       "      <td>0.000176</td>\n",
       "      <td>0.000031</td>\n",
       "    </tr>\n",
       "    <tr>\n",
       "      <th>2020-08-18</th>\n",
       "      <td>0.000079</td>\n",
       "      <td>0.000014</td>\n",
       "      <td>0.000085</td>\n",
       "      <td>0.000036</td>\n",
       "      <td>0.001258</td>\n",
       "      <td>0.000156</td>\n",
       "      <td>0.00006</td>\n",
       "      <td>0.000076</td>\n",
       "      <td>0.000005</td>\n",
       "      <td>0.000079</td>\n",
       "      <td>0.000057</td>\n",
       "      <td>0.00005</td>\n",
       "      <td>0.00015</td>\n",
       "      <td>0.000176</td>\n",
       "      <td>0.000031</td>\n",
       "    </tr>\n",
       "    <tr>\n",
       "      <th>2020-08-19</th>\n",
       "      <td>0.000079</td>\n",
       "      <td>0.000014</td>\n",
       "      <td>0.000085</td>\n",
       "      <td>0.000036</td>\n",
       "      <td>0.001258</td>\n",
       "      <td>0.000156</td>\n",
       "      <td>0.00006</td>\n",
       "      <td>0.000076</td>\n",
       "      <td>0.000005</td>\n",
       "      <td>0.000079</td>\n",
       "      <td>0.000057</td>\n",
       "      <td>0.00005</td>\n",
       "      <td>0.00015</td>\n",
       "      <td>0.000176</td>\n",
       "      <td>0.000031</td>\n",
       "    </tr>\n",
       "    <tr>\n",
       "      <th>2020-08-20</th>\n",
       "      <td>0.000079</td>\n",
       "      <td>0.000014</td>\n",
       "      <td>0.000085</td>\n",
       "      <td>0.000036</td>\n",
       "      <td>0.001258</td>\n",
       "      <td>0.000156</td>\n",
       "      <td>0.00006</td>\n",
       "      <td>0.000076</td>\n",
       "      <td>0.000005</td>\n",
       "      <td>0.000079</td>\n",
       "      <td>0.000057</td>\n",
       "      <td>0.00005</td>\n",
       "      <td>0.00015</td>\n",
       "      <td>0.000176</td>\n",
       "      <td>0.000031</td>\n",
       "    </tr>\n",
       "    <tr>\n",
       "      <th>2020-08-21</th>\n",
       "      <td>0.000079</td>\n",
       "      <td>0.000014</td>\n",
       "      <td>0.000085</td>\n",
       "      <td>0.000036</td>\n",
       "      <td>0.001258</td>\n",
       "      <td>0.000156</td>\n",
       "      <td>0.00006</td>\n",
       "      <td>0.000076</td>\n",
       "      <td>0.000005</td>\n",
       "      <td>0.000079</td>\n",
       "      <td>0.000057</td>\n",
       "      <td>0.00005</td>\n",
       "      <td>0.00015</td>\n",
       "      <td>0.000176</td>\n",
       "      <td>0.000031</td>\n",
       "    </tr>\n",
       "  </tbody>\n",
       "</table>\n",
       "</div>"
      ],
      "text/plain": [
       "Country      Austria   Bahrain  Czech Republic    Guinea      Iran     Italy  \\\n",
       "Date                                                                           \n",
       "2020-08-17  0.000079  0.000014        0.000085  0.000036  0.001258  0.000156   \n",
       "2020-08-18  0.000079  0.000014        0.000085  0.000036  0.001258  0.000156   \n",
       "2020-08-19  0.000079  0.000014        0.000085  0.000036  0.001258  0.000156   \n",
       "2020-08-20  0.000079  0.000014        0.000085  0.000036  0.001258  0.000156   \n",
       "2020-08-21  0.000079  0.000014        0.000085  0.000036  0.001258  0.000156   \n",
       "\n",
       "Country     Korea, South    Kuwait   Moldova    Poland  Portugal   Russia  \\\n",
       "Date                                                                        \n",
       "2020-08-17       0.00006  0.000076  0.000005  0.000079  0.000057  0.00005   \n",
       "2020-08-18       0.00006  0.000076  0.000005  0.000079  0.000057  0.00005   \n",
       "2020-08-19       0.00006  0.000076  0.000005  0.000079  0.000057  0.00005   \n",
       "2020-08-20       0.00006  0.000076  0.000005  0.000079  0.000057  0.00005   \n",
       "2020-08-21       0.00006  0.000076  0.000005  0.000079  0.000057  0.00005   \n",
       "\n",
       "Country     Saudi Arabia   Senegal  United Arab Emirates  \n",
       "Date                                                      \n",
       "2020-08-17       0.00015  0.000176              0.000031  \n",
       "2020-08-18       0.00015  0.000176              0.000031  \n",
       "2020-08-19       0.00015  0.000176              0.000031  \n",
       "2020-08-20       0.00015  0.000176              0.000031  \n",
       "2020-08-21       0.00015  0.000176              0.000031  "
      ]
     },
     "execution_count": 17,
     "metadata": {},
     "output_type": "execute_result"
    }
   ],
   "source": [
    "analyser.param_history(\"kappa\", roll_window=None).tail()"
   ]
  },
  {
   "cell_type": "markdown",
   "metadata": {},
   "source": [
    "### $\\theta$: Mortality rate of S$^\\ast$ cases $\\mathrm{[-]}$"
   ]
  },
  {
   "cell_type": "code",
   "execution_count": 18,
   "metadata": {
    "collapsed": false
   },
   "outputs": [
    {
     "data": {
      "image/png": "[encoded data removed]",
      "text/plain": [
       "<Figure size 648x432 with 1 Axes>"
      ]
     },
     "metadata": {},
     "output_type": "display_data"
    },
    {
     "data": {
      "text/html": [
       "<div>\n",
       "<style scoped>\n",
       "    .dataframe tbody tr th:only-of-type {\n",
       "        vertical-align: middle;\n",
       "    }\n",
       "\n",
       "    .dataframe tbody tr th {\n",
       "        vertical-align: top;\n",
       "    }\n",
       "\n",
       "    .dataframe thead th {\n",
       "        text-align: right;\n",
       "    }\n",
       "</style>\n",
       "<table border=\"1\" class=\"dataframe\">\n",
       "  <thead>\n",
       "    <tr style=\"text-align: right;\">\n",
       "      <th>Country</th>\n",
       "      <th>Austria</th>\n",
       "      <th>Bahrain</th>\n",
       "      <th>Czech Republic</th>\n",
       "      <th>Guinea</th>\n",
       "      <th>Iran</th>\n",
       "      <th>Italy</th>\n",
       "      <th>Korea, South</th>\n",
       "      <th>Kuwait</th>\n",
       "      <th>Moldova</th>\n",
       "      <th>Poland</th>\n",
       "      <th>Portugal</th>\n",
       "      <th>Russia</th>\n",
       "      <th>Saudi Arabia</th>\n",
       "      <th>Senegal</th>\n",
       "      <th>United Arab Emirates</th>\n",
       "    </tr>\n",
       "    <tr>\n",
       "      <th>Date</th>\n",
       "      <th></th>\n",
       "      <th></th>\n",
       "      <th></th>\n",
       "      <th></th>\n",
       "      <th></th>\n",
       "      <th></th>\n",
       "      <th></th>\n",
       "      <th></th>\n",
       "      <th></th>\n",
       "      <th></th>\n",
       "      <th></th>\n",
       "      <th></th>\n",
       "      <th></th>\n",
       "      <th></th>\n",
       "      <th></th>\n",
       "    </tr>\n",
       "  </thead>\n",
       "  <tbody>\n",
       "    <tr>\n",
       "      <th>2020-08-17</th>\n",
       "      <td>0.000344</td>\n",
       "      <td>0.00344</td>\n",
       "      <td>0.000824</td>\n",
       "      <td>0.000947</td>\n",
       "      <td>0.016576</td>\n",
       "      <td>0.000929</td>\n",
       "      <td>0.000158</td>\n",
       "      <td>0.000252</td>\n",
       "      <td>0.029896</td>\n",
       "      <td>0.002884</td>\n",
       "      <td>0.000166</td>\n",
       "      <td>0.001147</td>\n",
       "      <td>0.001384</td>\n",
       "      <td>0.000237</td>\n",
       "      <td>0.000938</td>\n",
       "    </tr>\n",
       "    <tr>\n",
       "      <th>2020-08-18</th>\n",
       "      <td>0.000344</td>\n",
       "      <td>0.00344</td>\n",
       "      <td>0.000824</td>\n",
       "      <td>0.000947</td>\n",
       "      <td>0.016576</td>\n",
       "      <td>0.000929</td>\n",
       "      <td>0.000158</td>\n",
       "      <td>0.000252</td>\n",
       "      <td>0.029896</td>\n",
       "      <td>0.002884</td>\n",
       "      <td>0.000166</td>\n",
       "      <td>0.001147</td>\n",
       "      <td>0.001384</td>\n",
       "      <td>0.000237</td>\n",
       "      <td>0.000938</td>\n",
       "    </tr>\n",
       "    <tr>\n",
       "      <th>2020-08-19</th>\n",
       "      <td>0.000344</td>\n",
       "      <td>0.00344</td>\n",
       "      <td>0.000824</td>\n",
       "      <td>0.000947</td>\n",
       "      <td>0.016576</td>\n",
       "      <td>0.000929</td>\n",
       "      <td>0.000158</td>\n",
       "      <td>0.000252</td>\n",
       "      <td>0.029896</td>\n",
       "      <td>0.002884</td>\n",
       "      <td>0.000166</td>\n",
       "      <td>0.001147</td>\n",
       "      <td>0.001384</td>\n",
       "      <td>0.000237</td>\n",
       "      <td>0.000938</td>\n",
       "    </tr>\n",
       "    <tr>\n",
       "      <th>2020-08-20</th>\n",
       "      <td>0.000344</td>\n",
       "      <td>0.00344</td>\n",
       "      <td>0.000824</td>\n",
       "      <td>0.000947</td>\n",
       "      <td>0.016576</td>\n",
       "      <td>0.000929</td>\n",
       "      <td>0.000158</td>\n",
       "      <td>0.000252</td>\n",
       "      <td>0.029896</td>\n",
       "      <td>0.002884</td>\n",
       "      <td>0.000166</td>\n",
       "      <td>0.001147</td>\n",
       "      <td>0.001384</td>\n",
       "      <td>0.000237</td>\n",
       "      <td>0.000938</td>\n",
       "    </tr>\n",
       "    <tr>\n",
       "      <th>2020-08-21</th>\n",
       "      <td>0.000344</td>\n",
       "      <td>0.00344</td>\n",
       "      <td>0.000824</td>\n",
       "      <td>0.000947</td>\n",
       "      <td>0.016576</td>\n",
       "      <td>0.000929</td>\n",
       "      <td>0.000158</td>\n",
       "      <td>0.000252</td>\n",
       "      <td>0.029896</td>\n",
       "      <td>0.002884</td>\n",
       "      <td>0.000166</td>\n",
       "      <td>0.001147</td>\n",
       "      <td>0.001384</td>\n",
       "      <td>0.000237</td>\n",
       "      <td>0.000938</td>\n",
       "    </tr>\n",
       "  </tbody>\n",
       "</table>\n",
       "</div>"
      ],
      "text/plain": [
       "Country      Austria  Bahrain  Czech Republic    Guinea      Iran     Italy  \\\n",
       "Date                                                                          \n",
       "2020-08-17  0.000344  0.00344        0.000824  0.000947  0.016576  0.000929   \n",
       "2020-08-18  0.000344  0.00344        0.000824  0.000947  0.016576  0.000929   \n",
       "2020-08-19  0.000344  0.00344        0.000824  0.000947  0.016576  0.000929   \n",
       "2020-08-20  0.000344  0.00344        0.000824  0.000947  0.016576  0.000929   \n",
       "2020-08-21  0.000344  0.00344        0.000824  0.000947  0.016576  0.000929   \n",
       "\n",
       "Country     Korea, South    Kuwait   Moldova    Poland  Portugal    Russia  \\\n",
       "Date                                                                         \n",
       "2020-08-17      0.000158  0.000252  0.029896  0.002884  0.000166  0.001147   \n",
       "2020-08-18      0.000158  0.000252  0.029896  0.002884  0.000166  0.001147   \n",
       "2020-08-19      0.000158  0.000252  0.029896  0.002884  0.000166  0.001147   \n",
       "2020-08-20      0.000158  0.000252  0.029896  0.002884  0.000166  0.001147   \n",
       "2020-08-21      0.000158  0.000252  0.029896  0.002884  0.000166  0.001147   \n",
       "\n",
       "Country     Saudi Arabia   Senegal  United Arab Emirates  \n",
       "Date                                                      \n",
       "2020-08-17      0.001384  0.000237              0.000938  \n",
       "2020-08-18      0.001384  0.000237              0.000938  \n",
       "2020-08-19      0.001384  0.000237              0.000938  \n",
       "2020-08-20      0.001384  0.000237              0.000938  \n",
       "2020-08-21      0.001384  0.000237              0.000938  "
      ]
     },
     "execution_count": 18,
     "metadata": {},
     "output_type": "execute_result"
    }
   ],
   "source": [
    "analyser.param_history(\"theta\", roll_window=None).tail()"
   ]
  },
  {
   "cell_type": "markdown",
   "metadata": {},
   "source": [
    "## (Experimental): Relationship of OxCGRT index and parameter values\n",
    "Government responses will impact on parameter values of ODE models about 14 days later. Here, we will investigate on the relationship of [stringency index (from OxCGRT)](https://github.com/OxCGRT/covid-policy-tracker/blob/master/documentation/index_methodology.md) and reproduction number/model parameters.\n"
   ]
  },
  {
   "cell_type": "code",
   "execution_count": 19,
   "metadata": {
    "collapsed": false
   },
   "outputs": [],
   "source": [
    "%matplotlib inline\n",
    "from matplotlib import pyplot as plt\n",
    "import seaborn as sns\n",
    "import pandas as pd"
   ]
  },
  {
   "cell_type": "code",
   "execution_count": 20,
   "metadata": {
    "collapsed": false
   },
   "outputs": [
    {
     "name": "stdout",
     "output_type": "stream",
     "text": [
      "<class 'pandas.core.frame.DataFrame'>\n",
      "Int64Index: 15711 entries, 0 to 15906\n",
      "Data columns (total 19 columns):\n",
      " #   Column                               Non-Null Count  Dtype         \n",
      "---  ------                               --------------  -----         \n",
      " 0   Date                                 15711 non-null  datetime64[ns]\n",
      " 1   Country                              15711 non-null  object        \n",
      " 2   Rt                                   15711 non-null  float64       \n",
      " 3   theta                                15711 non-null  float64       \n",
      " 4   kappa                                15711 non-null  float64       \n",
      " 5   rho                                  15711 non-null  float64       \n",
      " 6   sigma                                15711 non-null  float64       \n",
      " 7   School_closing                       15711 non-null  int64         \n",
      " 8   Workplace_closing                    15711 non-null  int64         \n",
      " 9   Cancel_events                        15711 non-null  int64         \n",
      " 10  Gatherings_restrictions              15711 non-null  int64         \n",
      " 11  Transport_closing                    15711 non-null  int64         \n",
      " 12  Stay_home_restrictions               15711 non-null  int64         \n",
      " 13  Internal_movement_restrictions       15711 non-null  int64         \n",
      " 14  International_movement_restrictions  15711 non-null  int64         \n",
      " 15  Information_campaigns                15711 non-null  int64         \n",
      " 16  Testing_policy                       15711 non-null  int64         \n",
      " 17  Contact_tracing                      15711 non-null  int64         \n",
      " 18  Stringency_index                     15711 non-null  float64       \n",
      "dtypes: datetime64[ns](1), float64(6), int64(11), object(1)\n",
      "memory usage: 2.4+ MB\n"
     ]
    }
   ],
   "source": [
    "df = analyser.track()\n",
    "param_cols = [\"Rt\", *cs.SIRF.PARAMETERS]\n",
    "oxcgrt_cols = oxcgrt_data.OXCGRT_VARS[:]\n",
    "cols = param_cols + oxcgrt_cols\n",
    "delay = 14\n",
    "\n",
    "for col in param_cols:\n",
    "    df[col] = pd.to_numeric(df[col], errors=\"coerce\")\n",
    "    df[col] = df.groupby(\"Country\")[col].shift(0 - delay)\n",
    "\n",
    "df = df.dropna(how=\"any\")\n",
    "df = df.loc[:, [\"Date\", \"Country\", *cols]]\n",
    "track_df = df.copy()\n",
    "track_df.info()"
   ]
  },
  {
   "cell_type": "code",
   "execution_count": 21,
   "metadata": {
    "collapsed": false
   },
   "outputs": [
    {
     "data": {
      "text/html": [
       "<style  type=\"text/css\" >\n",
       "#T_e808a17a_e3b9_11ea_9c20_525400cc64d1row0_col0,#T_e808a17a_e3b9_11ea_9c20_525400cc64d1row1_col1,#T_e808a17a_e3b9_11ea_9c20_525400cc64d1row2_col2,#T_e808a17a_e3b9_11ea_9c20_525400cc64d1row3_col3,#T_e808a17a_e3b9_11ea_9c20_525400cc64d1row4_col4,#T_e808a17a_e3b9_11ea_9c20_525400cc64d1row5_col5,#T_e808a17a_e3b9_11ea_9c20_525400cc64d1row6_col6,#T_e808a17a_e3b9_11ea_9c20_525400cc64d1row7_col7,#T_e808a17a_e3b9_11ea_9c20_525400cc64d1row8_col8,#T_e808a17a_e3b9_11ea_9c20_525400cc64d1row9_col9,#T_e808a17a_e3b9_11ea_9c20_525400cc64d1row10_col10,#T_e808a17a_e3b9_11ea_9c20_525400cc64d1row11_col11,#T_e808a17a_e3b9_11ea_9c20_525400cc64d1row12_col12,#T_e808a17a_e3b9_11ea_9c20_525400cc64d1row13_col13,#T_e808a17a_e3b9_11ea_9c20_525400cc64d1row14_col14,#T_e808a17a_e3b9_11ea_9c20_525400cc64d1row15_col15,#T_e808a17a_e3b9_11ea_9c20_525400cc64d1row16_col16{\n",
       "            background-color:  #023858;\n",
       "            color:  #f1f1f1;\n",
       "        }#T_e808a17a_e3b9_11ea_9c20_525400cc64d1row0_col1,#T_e808a17a_e3b9_11ea_9c20_525400cc64d1row1_col0{\n",
       "            background-color:  #acc0dd;\n",
       "            color:  #000000;\n",
       "        }#T_e808a17a_e3b9_11ea_9c20_525400cc64d1row0_col2,#T_e808a17a_e3b9_11ea_9c20_525400cc64d1row2_col0,#T_e808a17a_e3b9_11ea_9c20_525400cc64d1row5_col15,#T_e808a17a_e3b9_11ea_9c20_525400cc64d1row11_col13,#T_e808a17a_e3b9_11ea_9c20_525400cc64d1row13_col11,#T_e808a17a_e3b9_11ea_9c20_525400cc64d1row15_col5{\n",
       "            background-color:  #c1cae2;\n",
       "            color:  #000000;\n",
       "        }#T_e808a17a_e3b9_11ea_9c20_525400cc64d1row0_col3,#T_e808a17a_e3b9_11ea_9c20_525400cc64d1row3_col0{\n",
       "            background-color:  #0570b0;\n",
       "            color:  #f1f1f1;\n",
       "        }#T_e808a17a_e3b9_11ea_9c20_525400cc64d1row0_col4,#T_e808a17a_e3b9_11ea_9c20_525400cc64d1row3_col13,#T_e808a17a_e3b9_11ea_9c20_525400cc64d1row4_col0,#T_e808a17a_e3b9_11ea_9c20_525400cc64d1row13_col3{\n",
       "            background-color:  #dddbec;\n",
       "            color:  #000000;\n",
       "        }#T_e808a17a_e3b9_11ea_9c20_525400cc64d1row0_col5,#T_e808a17a_e3b9_11ea_9c20_525400cc64d1row1_col9,#T_e808a17a_e3b9_11ea_9c20_525400cc64d1row1_col10,#T_e808a17a_e3b9_11ea_9c20_525400cc64d1row1_col12,#T_e808a17a_e3b9_11ea_9c20_525400cc64d1row3_col9,#T_e808a17a_e3b9_11ea_9c20_525400cc64d1row5_col0,#T_e808a17a_e3b9_11ea_9c20_525400cc64d1row9_col1,#T_e808a17a_e3b9_11ea_9c20_525400cc64d1row9_col3,#T_e808a17a_e3b9_11ea_9c20_525400cc64d1row10_col1,#T_e808a17a_e3b9_11ea_9c20_525400cc64d1row12_col1{\n",
       "            background-color:  #b5c4df;\n",
       "            color:  #000000;\n",
       "        }#T_e808a17a_e3b9_11ea_9c20_525400cc64d1row0_col6,#T_e808a17a_e3b9_11ea_9c20_525400cc64d1row6_col0{\n",
       "            background-color:  #8fb4d6;\n",
       "            color:  #000000;\n",
       "        }#T_e808a17a_e3b9_11ea_9c20_525400cc64d1row0_col7,#T_e808a17a_e3b9_11ea_9c20_525400cc64d1row4_col15,#T_e808a17a_e3b9_11ea_9c20_525400cc64d1row7_col0,#T_e808a17a_e3b9_11ea_9c20_525400cc64d1row15_col4{\n",
       "            background-color:  #dad9ea;\n",
       "            color:  #000000;\n",
       "        }#T_e808a17a_e3b9_11ea_9c20_525400cc64d1row0_col8,#T_e808a17a_e3b9_11ea_9c20_525400cc64d1row8_col0{\n",
       "            background-color:  #8bb2d4;\n",
       "            color:  #000000;\n",
       "        }#T_e808a17a_e3b9_11ea_9c20_525400cc64d1row0_col9,#T_e808a17a_e3b9_11ea_9c20_525400cc64d1row9_col0{\n",
       "            background-color:  #83afd3;\n",
       "            color:  #000000;\n",
       "        }#T_e808a17a_e3b9_11ea_9c20_525400cc64d1row0_col10,#T_e808a17a_e3b9_11ea_9c20_525400cc64d1row0_col12,#T_e808a17a_e3b9_11ea_9c20_525400cc64d1row10_col0,#T_e808a17a_e3b9_11ea_9c20_525400cc64d1row12_col0{\n",
       "            background-color:  #71a8ce;\n",
       "            color:  #000000;\n",
       "        }#T_e808a17a_e3b9_11ea_9c20_525400cc64d1row0_col11,#T_e808a17a_e3b9_11ea_9c20_525400cc64d1row11_col0{\n",
       "            background-color:  #81aed2;\n",
       "            color:  #000000;\n",
       "        }#T_e808a17a_e3b9_11ea_9c20_525400cc64d1row0_col13,#T_e808a17a_e3b9_11ea_9c20_525400cc64d1row2_col9,#T_e808a17a_e3b9_11ea_9c20_525400cc64d1row3_col10,#T_e808a17a_e3b9_11ea_9c20_525400cc64d1row7_col13,#T_e808a17a_e3b9_11ea_9c20_525400cc64d1row9_col2,#T_e808a17a_e3b9_11ea_9c20_525400cc64d1row9_col15,#T_e808a17a_e3b9_11ea_9c20_525400cc64d1row10_col3,#T_e808a17a_e3b9_11ea_9c20_525400cc64d1row13_col0,#T_e808a17a_e3b9_11ea_9c20_525400cc64d1row13_col7,#T_e808a17a_e3b9_11ea_9c20_525400cc64d1row15_col9{\n",
       "            background-color:  #bbc7e0;\n",
       "            color:  #000000;\n",
       "        }#T_e808a17a_e3b9_11ea_9c20_525400cc64d1row0_col14,#T_e808a17a_e3b9_11ea_9c20_525400cc64d1row1_col15,#T_e808a17a_e3b9_11ea_9c20_525400cc64d1row14_col0,#T_e808a17a_e3b9_11ea_9c20_525400cc64d1row15_col1{\n",
       "            background-color:  #b0c2de;\n",
       "            color:  #000000;\n",
       "        }#T_e808a17a_e3b9_11ea_9c20_525400cc64d1row0_col15,#T_e808a17a_e3b9_11ea_9c20_525400cc64d1row11_col15,#T_e808a17a_e3b9_11ea_9c20_525400cc64d1row15_col0,#T_e808a17a_e3b9_11ea_9c20_525400cc64d1row15_col11{\n",
       "            background-color:  #b9c6e0;\n",
       "            color:  #000000;\n",
       "        }#T_e808a17a_e3b9_11ea_9c20_525400cc64d1row0_col16,#T_e808a17a_e3b9_11ea_9c20_525400cc64d1row3_col12,#T_e808a17a_e3b9_11ea_9c20_525400cc64d1row12_col3,#T_e808a17a_e3b9_11ea_9c20_525400cc64d1row13_col14,#T_e808a17a_e3b9_11ea_9c20_525400cc64d1row14_col13,#T_e808a17a_e3b9_11ea_9c20_525400cc64d1row16_col0{\n",
       "            background-color:  #75a9cf;\n",
       "            color:  #000000;\n",
       "        }#T_e808a17a_e3b9_11ea_9c20_525400cc64d1row1_col2,#T_e808a17a_e3b9_11ea_9c20_525400cc64d1row2_col1{\n",
       "            background-color:  #96b6d7;\n",
       "            color:  #000000;\n",
       "        }#T_e808a17a_e3b9_11ea_9c20_525400cc64d1row1_col3,#T_e808a17a_e3b9_11ea_9c20_525400cc64d1row3_col1{\n",
       "            background-color:  #a2bcda;\n",
       "            color:  #000000;\n",
       "        }#T_e808a17a_e3b9_11ea_9c20_525400cc64d1row1_col4,#T_e808a17a_e3b9_11ea_9c20_525400cc64d1row4_col1,#T_e808a17a_e3b9_11ea_9c20_525400cc64d1row5_col9,#T_e808a17a_e3b9_11ea_9c20_525400cc64d1row9_col5{\n",
       "            background-color:  #8eb3d5;\n",
       "            color:  #000000;\n",
       "        }#T_e808a17a_e3b9_11ea_9c20_525400cc64d1row1_col5,#T_e808a17a_e3b9_11ea_9c20_525400cc64d1row5_col1{\n",
       "            background-color:  #6da6cd;\n",
       "            color:  #000000;\n",
       "        }#T_e808a17a_e3b9_11ea_9c20_525400cc64d1row1_col6,#T_e808a17a_e3b9_11ea_9c20_525400cc64d1row6_col1{\n",
       "            background-color:  #69a5cc;\n",
       "            color:  #000000;\n",
       "        }#T_e808a17a_e3b9_11ea_9c20_525400cc64d1row1_col7,#T_e808a17a_e3b9_11ea_9c20_525400cc64d1row3_col16,#T_e808a17a_e3b9_11ea_9c20_525400cc64d1row7_col1,#T_e808a17a_e3b9_11ea_9c20_525400cc64d1row16_col3{\n",
       "            background-color:  #9ab8d8;\n",
       "            color:  #000000;\n",
       "        }#T_e808a17a_e3b9_11ea_9c20_525400cc64d1row1_col8,#T_e808a17a_e3b9_11ea_9c20_525400cc64d1row4_col13,#T_e808a17a_e3b9_11ea_9c20_525400cc64d1row8_col1,#T_e808a17a_e3b9_11ea_9c20_525400cc64d1row13_col4{\n",
       "            background-color:  #d9d8ea;\n",
       "            color:  #000000;\n",
       "        }#T_e808a17a_e3b9_11ea_9c20_525400cc64d1row1_col11,#T_e808a17a_e3b9_11ea_9c20_525400cc64d1row11_col1{\n",
       "            background-color:  #a8bedc;\n",
       "            color:  #000000;\n",
       "        }#T_e808a17a_e3b9_11ea_9c20_525400cc64d1row1_col13,#T_e808a17a_e3b9_11ea_9c20_525400cc64d1row13_col1{\n",
       "            background-color:  #b4c4df;\n",
       "            color:  #000000;\n",
       "        }#T_e808a17a_e3b9_11ea_9c20_525400cc64d1row1_col14,#T_e808a17a_e3b9_11ea_9c20_525400cc64d1row14_col1{\n",
       "            background-color:  #f5eef6;\n",
       "            color:  #000000;\n",
       "        }#T_e808a17a_e3b9_11ea_9c20_525400cc64d1row1_col16,#T_e808a17a_e3b9_11ea_9c20_525400cc64d1row16_col1{\n",
       "            background-color:  #73a9cf;\n",
       "            color:  #000000;\n",
       "        }#T_e808a17a_e3b9_11ea_9c20_525400cc64d1row2_col3,#T_e808a17a_e3b9_11ea_9c20_525400cc64d1row3_col2,#T_e808a17a_e3b9_11ea_9c20_525400cc64d1row14_col15,#T_e808a17a_e3b9_11ea_9c20_525400cc64d1row15_col14{\n",
       "            background-color:  #6ba5cd;\n",
       "            color:  #000000;\n",
       "        }#T_e808a17a_e3b9_11ea_9c20_525400cc64d1row2_col4,#T_e808a17a_e3b9_11ea_9c20_525400cc64d1row4_col2,#T_e808a17a_e3b9_11ea_9c20_525400cc64d1row7_col9,#T_e808a17a_e3b9_11ea_9c20_525400cc64d1row9_col7{\n",
       "            background-color:  #3f93c2;\n",
       "            color:  #000000;\n",
       "        }#T_e808a17a_e3b9_11ea_9c20_525400cc64d1row2_col5,#T_e808a17a_e3b9_11ea_9c20_525400cc64d1row5_col2{\n",
       "            background-color:  #62a2cb;\n",
       "            color:  #000000;\n",
       "        }#T_e808a17a_e3b9_11ea_9c20_525400cc64d1row2_col6,#T_e808a17a_e3b9_11ea_9c20_525400cc64d1row6_col2{\n",
       "            background-color:  #86b0d3;\n",
       "            color:  #000000;\n",
       "        }#T_e808a17a_e3b9_11ea_9c20_525400cc64d1row2_col7,#T_e808a17a_e3b9_11ea_9c20_525400cc64d1row4_col12,#T_e808a17a_e3b9_11ea_9c20_525400cc64d1row7_col2,#T_e808a17a_e3b9_11ea_9c20_525400cc64d1row12_col4{\n",
       "            background-color:  #a4bcda;\n",
       "            color:  #000000;\n",
       "        }#T_e808a17a_e3b9_11ea_9c20_525400cc64d1row2_col8,#T_e808a17a_e3b9_11ea_9c20_525400cc64d1row8_col2{\n",
       "            background-color:  #d7d6e9;\n",
       "            color:  #000000;\n",
       "        }#T_e808a17a_e3b9_11ea_9c20_525400cc64d1row2_col10,#T_e808a17a_e3b9_11ea_9c20_525400cc64d1row3_col11,#T_e808a17a_e3b9_11ea_9c20_525400cc64d1row5_col13,#T_e808a17a_e3b9_11ea_9c20_525400cc64d1row10_col2,#T_e808a17a_e3b9_11ea_9c20_525400cc64d1row11_col3,#T_e808a17a_e3b9_11ea_9c20_525400cc64d1row13_col5{\n",
       "            background-color:  #c5cce3;\n",
       "            color:  #000000;\n",
       "        }#T_e808a17a_e3b9_11ea_9c20_525400cc64d1row2_col11,#T_e808a17a_e3b9_11ea_9c20_525400cc64d1row11_col2{\n",
       "            background-color:  #dcdaeb;\n",
       "            color:  #000000;\n",
       "        }#T_e808a17a_e3b9_11ea_9c20_525400cc64d1row2_col12,#T_e808a17a_e3b9_11ea_9c20_525400cc64d1row12_col2{\n",
       "            background-color:  #c2cbe2;\n",
       "            color:  #000000;\n",
       "        }#T_e808a17a_e3b9_11ea_9c20_525400cc64d1row2_col13,#T_e808a17a_e3b9_11ea_9c20_525400cc64d1row13_col2{\n",
       "            background-color:  #d3d4e7;\n",
       "            color:  #000000;\n",
       "        }#T_e808a17a_e3b9_11ea_9c20_525400cc64d1row2_col14,#T_e808a17a_e3b9_11ea_9c20_525400cc64d1row14_col2{\n",
       "            background-color:  #fbf4f9;\n",
       "            color:  #000000;\n",
       "        }#T_e808a17a_e3b9_11ea_9c20_525400cc64d1row2_col15,#T_e808a17a_e3b9_11ea_9c20_525400cc64d1row15_col2{\n",
       "            background-color:  #cdd0e5;\n",
       "            color:  #000000;\n",
       "        }#T_e808a17a_e3b9_11ea_9c20_525400cc64d1row2_col16,#T_e808a17a_e3b9_11ea_9c20_525400cc64d1row12_col14,#T_e808a17a_e3b9_11ea_9c20_525400cc64d1row14_col12,#T_e808a17a_e3b9_11ea_9c20_525400cc64d1row16_col2{\n",
       "            background-color:  #9cb9d9;\n",
       "            color:  #000000;\n",
       "        }#T_e808a17a_e3b9_11ea_9c20_525400cc64d1row3_col4,#T_e808a17a_e3b9_11ea_9c20_525400cc64d1row4_col3,#T_e808a17a_e3b9_11ea_9c20_525400cc64d1row5_col16,#T_e808a17a_e3b9_11ea_9c20_525400cc64d1row16_col5{\n",
       "            background-color:  #1278b4;\n",
       "            color:  #f1f1f1;\n",
       "        }#T_e808a17a_e3b9_11ea_9c20_525400cc64d1row3_col5,#T_e808a17a_e3b9_11ea_9c20_525400cc64d1row5_col3,#T_e808a17a_e3b9_11ea_9c20_525400cc64d1row8_col12,#T_e808a17a_e3b9_11ea_9c20_525400cc64d1row12_col8{\n",
       "            background-color:  #8cb3d5;\n",
       "            color:  #000000;\n",
       "        }#T_e808a17a_e3b9_11ea_9c20_525400cc64d1row3_col6,#T_e808a17a_e3b9_11ea_9c20_525400cc64d1row6_col3{\n",
       "            background-color:  #afc1dd;\n",
       "            color:  #000000;\n",
       "        }#T_e808a17a_e3b9_11ea_9c20_525400cc64d1row3_col7,#T_e808a17a_e3b9_11ea_9c20_525400cc64d1row7_col3{\n",
       "            background-color:  #e0dded;\n",
       "            color:  #000000;\n",
       "        }#T_e808a17a_e3b9_11ea_9c20_525400cc64d1row3_col8,#T_e808a17a_e3b9_11ea_9c20_525400cc64d1row8_col3{\n",
       "            background-color:  #d2d2e7;\n",
       "            color:  #000000;\n",
       "        }#T_e808a17a_e3b9_11ea_9c20_525400cc64d1row3_col14,#T_e808a17a_e3b9_11ea_9c20_525400cc64d1row14_col3{\n",
       "            background-color:  #eae6f1;\n",
       "            color:  #000000;\n",
       "        }#T_e808a17a_e3b9_11ea_9c20_525400cc64d1row3_col15,#T_e808a17a_e3b9_11ea_9c20_525400cc64d1row15_col3{\n",
       "            background-color:  #dbdaeb;\n",
       "            color:  #000000;\n",
       "        }#T_e808a17a_e3b9_11ea_9c20_525400cc64d1row4_col5,#T_e808a17a_e3b9_11ea_9c20_525400cc64d1row5_col4,#T_e808a17a_e3b9_11ea_9c20_525400cc64d1row10_col12,#T_e808a17a_e3b9_11ea_9c20_525400cc64d1row12_col10{\n",
       "            background-color:  #7bacd1;\n",
       "            color:  #000000;\n",
       "        }#T_e808a17a_e3b9_11ea_9c20_525400cc64d1row4_col6,#T_e808a17a_e3b9_11ea_9c20_525400cc64d1row6_col4{\n",
       "            background-color:  #cccfe5;\n",
       "            color:  #000000;\n",
       "        }#T_e808a17a_e3b9_11ea_9c20_525400cc64d1row4_col7,#T_e808a17a_e3b9_11ea_9c20_525400cc64d1row7_col4{\n",
       "            background-color:  #ced0e6;\n",
       "            color:  #000000;\n",
       "        }#T_e808a17a_e3b9_11ea_9c20_525400cc64d1row4_col8,#T_e808a17a_e3b9_11ea_9c20_525400cc64d1row8_col4{\n",
       "            background-color:  #f9f2f8;\n",
       "            color:  #000000;\n",
       "        }#T_e808a17a_e3b9_11ea_9c20_525400cc64d1row4_col9,#T_e808a17a_e3b9_11ea_9c20_525400cc64d1row9_col4{\n",
       "            background-color:  #eee9f3;\n",
       "            color:  #000000;\n",
       "        }#T_e808a17a_e3b9_11ea_9c20_525400cc64d1row4_col10,#T_e808a17a_e3b9_11ea_9c20_525400cc64d1row10_col4{\n",
       "            background-color:  #f0eaf4;\n",
       "            color:  #000000;\n",
       "        }#T_e808a17a_e3b9_11ea_9c20_525400cc64d1row4_col11,#T_e808a17a_e3b9_11ea_9c20_525400cc64d1row11_col4{\n",
       "            background-color:  #f7f0f7;\n",
       "            color:  #000000;\n",
       "        }#T_e808a17a_e3b9_11ea_9c20_525400cc64d1row4_col14,#T_e808a17a_e3b9_11ea_9c20_525400cc64d1row14_col4{\n",
       "            background-color:  #fff7fb;\n",
       "            color:  #000000;\n",
       "        }#T_e808a17a_e3b9_11ea_9c20_525400cc64d1row4_col16,#T_e808a17a_e3b9_11ea_9c20_525400cc64d1row16_col4{\n",
       "            background-color:  #d4d4e8;\n",
       "            color:  #000000;\n",
       "        }#T_e808a17a_e3b9_11ea_9c20_525400cc64d1row5_col6,#T_e808a17a_e3b9_11ea_9c20_525400cc64d1row6_col5,#T_e808a17a_e3b9_11ea_9c20_525400cc64d1row7_col11,#T_e808a17a_e3b9_11ea_9c20_525400cc64d1row11_col7,#T_e808a17a_e3b9_11ea_9c20_525400cc64d1row14_col16,#T_e808a17a_e3b9_11ea_9c20_525400cc64d1row16_col14{\n",
       "            background-color:  #4c99c5;\n",
       "            color:  #000000;\n",
       "        }#T_e808a17a_e3b9_11ea_9c20_525400cc64d1row5_col7,#T_e808a17a_e3b9_11ea_9c20_525400cc64d1row7_col5{\n",
       "            background-color:  #1c7fb8;\n",
       "            color:  #000000;\n",
       "        }#T_e808a17a_e3b9_11ea_9c20_525400cc64d1row5_col8,#T_e808a17a_e3b9_11ea_9c20_525400cc64d1row8_col5{\n",
       "            background-color:  #94b6d7;\n",
       "            color:  #000000;\n",
       "        }#T_e808a17a_e3b9_11ea_9c20_525400cc64d1row5_col10,#T_e808a17a_e3b9_11ea_9c20_525400cc64d1row10_col5{\n",
       "            background-color:  #4e9ac6;\n",
       "            color:  #000000;\n",
       "        }#T_e808a17a_e3b9_11ea_9c20_525400cc64d1row5_col11,#T_e808a17a_e3b9_11ea_9c20_525400cc64d1row11_col5,#T_e808a17a_e3b9_11ea_9c20_525400cc64d1row12_col13,#T_e808a17a_e3b9_11ea_9c20_525400cc64d1row12_col15,#T_e808a17a_e3b9_11ea_9c20_525400cc64d1row13_col12,#T_e808a17a_e3b9_11ea_9c20_525400cc64d1row15_col12{\n",
       "            background-color:  #abbfdc;\n",
       "            color:  #000000;\n",
       "        }#T_e808a17a_e3b9_11ea_9c20_525400cc64d1row5_col12,#T_e808a17a_e3b9_11ea_9c20_525400cc64d1row12_col5{\n",
       "            background-color:  #60a1ca;\n",
       "            color:  #000000;\n",
       "        }#T_e808a17a_e3b9_11ea_9c20_525400cc64d1row5_col14,#T_e808a17a_e3b9_11ea_9c20_525400cc64d1row14_col5{\n",
       "            background-color:  #c4cbe3;\n",
       "            color:  #000000;\n",
       "        }#T_e808a17a_e3b9_11ea_9c20_525400cc64d1row6_col7,#T_e808a17a_e3b9_11ea_9c20_525400cc64d1row7_col6{\n",
       "            background-color:  #1b7eb7;\n",
       "            color:  #000000;\n",
       "        }#T_e808a17a_e3b9_11ea_9c20_525400cc64d1row6_col8,#T_e808a17a_e3b9_11ea_9c20_525400cc64d1row8_col6{\n",
       "            background-color:  #2f8bbe;\n",
       "            color:  #000000;\n",
       "        }#T_e808a17a_e3b9_11ea_9c20_525400cc64d1row6_col9,#T_e808a17a_e3b9_11ea_9c20_525400cc64d1row9_col6{\n",
       "            background-color:  #187cb6;\n",
       "            color:  #000000;\n",
       "        }#T_e808a17a_e3b9_11ea_9c20_525400cc64d1row6_col10,#T_e808a17a_e3b9_11ea_9c20_525400cc64d1row10_col6{\n",
       "            background-color:  #056fae;\n",
       "            color:  #f1f1f1;\n",
       "        }#T_e808a17a_e3b9_11ea_9c20_525400cc64d1row6_col11,#T_e808a17a_e3b9_11ea_9c20_525400cc64d1row11_col6{\n",
       "            background-color:  #3b92c1;\n",
       "            color:  #000000;\n",
       "        }#T_e808a17a_e3b9_11ea_9c20_525400cc64d1row6_col12,#T_e808a17a_e3b9_11ea_9c20_525400cc64d1row10_col13,#T_e808a17a_e3b9_11ea_9c20_525400cc64d1row10_col15,#T_e808a17a_e3b9_11ea_9c20_525400cc64d1row12_col6,#T_e808a17a_e3b9_11ea_9c20_525400cc64d1row13_col10,#T_e808a17a_e3b9_11ea_9c20_525400cc64d1row15_col10{\n",
       "            background-color:  #a5bddb;\n",
       "            color:  #000000;\n",
       "        }#T_e808a17a_e3b9_11ea_9c20_525400cc64d1row6_col13,#T_e808a17a_e3b9_11ea_9c20_525400cc64d1row7_col15,#T_e808a17a_e3b9_11ea_9c20_525400cc64d1row13_col6,#T_e808a17a_e3b9_11ea_9c20_525400cc64d1row15_col7{\n",
       "            background-color:  #bcc7e1;\n",
       "            color:  #000000;\n",
       "        }#T_e808a17a_e3b9_11ea_9c20_525400cc64d1row6_col14,#T_e808a17a_e3b9_11ea_9c20_525400cc64d1row14_col6{\n",
       "            background-color:  #84b0d3;\n",
       "            color:  #000000;\n",
       "        }#T_e808a17a_e3b9_11ea_9c20_525400cc64d1row6_col15,#T_e808a17a_e3b9_11ea_9c20_525400cc64d1row7_col12,#T_e808a17a_e3b9_11ea_9c20_525400cc64d1row12_col7,#T_e808a17a_e3b9_11ea_9c20_525400cc64d1row13_col16,#T_e808a17a_e3b9_11ea_9c20_525400cc64d1row15_col6,#T_e808a17a_e3b9_11ea_9c20_525400cc64d1row15_col16,#T_e808a17a_e3b9_11ea_9c20_525400cc64d1row16_col13,#T_e808a17a_e3b9_11ea_9c20_525400cc64d1row16_col15{\n",
       "            background-color:  #b8c6e0;\n",
       "            color:  #000000;\n",
       "        }#T_e808a17a_e3b9_11ea_9c20_525400cc64d1row6_col16,#T_e808a17a_e3b9_11ea_9c20_525400cc64d1row16_col6{\n",
       "            background-color:  #04629a;\n",
       "            color:  #f1f1f1;\n",
       "        }#T_e808a17a_e3b9_11ea_9c20_525400cc64d1row7_col8,#T_e808a17a_e3b9_11ea_9c20_525400cc64d1row8_col7{\n",
       "            background-color:  #2484ba;\n",
       "            color:  #000000;\n",
       "        }#T_e808a17a_e3b9_11ea_9c20_525400cc64d1row7_col10,#T_e808a17a_e3b9_11ea_9c20_525400cc64d1row10_col7{\n",
       "            background-color:  #1077b4;\n",
       "            color:  #f1f1f1;\n",
       "        }#T_e808a17a_e3b9_11ea_9c20_525400cc64d1row7_col14,#T_e808a17a_e3b9_11ea_9c20_525400cc64d1row14_col7{\n",
       "            background-color:  #5c9fc9;\n",
       "            color:  #000000;\n",
       "        }#T_e808a17a_e3b9_11ea_9c20_525400cc64d1row7_col16,#T_e808a17a_e3b9_11ea_9c20_525400cc64d1row16_col7{\n",
       "            background-color:  #056dac;\n",
       "            color:  #f1f1f1;\n",
       "        }#T_e808a17a_e3b9_11ea_9c20_525400cc64d1row8_col9,#T_e808a17a_e3b9_11ea_9c20_525400cc64d1row9_col8{\n",
       "            background-color:  #0566a0;\n",
       "            color:  #f1f1f1;\n",
       "        }#T_e808a17a_e3b9_11ea_9c20_525400cc64d1row8_col10,#T_e808a17a_e3b9_11ea_9c20_525400cc64d1row10_col8{\n",
       "            background-color:  #04649e;\n",
       "            color:  #f1f1f1;\n",
       "        }#T_e808a17a_e3b9_11ea_9c20_525400cc64d1row8_col11,#T_e808a17a_e3b9_11ea_9c20_525400cc64d1row11_col8{\n",
       "            background-color:  #056faf;\n",
       "            color:  #f1f1f1;\n",
       "        }#T_e808a17a_e3b9_11ea_9c20_525400cc64d1row8_col13,#T_e808a17a_e3b9_11ea_9c20_525400cc64d1row8_col15,#T_e808a17a_e3b9_11ea_9c20_525400cc64d1row13_col8,#T_e808a17a_e3b9_11ea_9c20_525400cc64d1row15_col8{\n",
       "            background-color:  #a7bddb;\n",
       "            color:  #000000;\n",
       "        }#T_e808a17a_e3b9_11ea_9c20_525400cc64d1row8_col14,#T_e808a17a_e3b9_11ea_9c20_525400cc64d1row14_col8{\n",
       "            background-color:  #056ba7;\n",
       "            color:  #f1f1f1;\n",
       "        }#T_e808a17a_e3b9_11ea_9c20_525400cc64d1row8_col16,#T_e808a17a_e3b9_11ea_9c20_525400cc64d1row16_col8{\n",
       "            background-color:  #0567a1;\n",
       "            color:  #f1f1f1;\n",
       "        }#T_e808a17a_e3b9_11ea_9c20_525400cc64d1row9_col10,#T_e808a17a_e3b9_11ea_9c20_525400cc64d1row10_col9{\n",
       "            background-color:  #0567a2;\n",
       "            color:  #f1f1f1;\n",
       "        }#T_e808a17a_e3b9_11ea_9c20_525400cc64d1row9_col11,#T_e808a17a_e3b9_11ea_9c20_525400cc64d1row11_col9{\n",
       "            background-color:  #04598c;\n",
       "            color:  #f1f1f1;\n",
       "        }#T_e808a17a_e3b9_11ea_9c20_525400cc64d1row9_col12,#T_e808a17a_e3b9_11ea_9c20_525400cc64d1row11_col12,#T_e808a17a_e3b9_11ea_9c20_525400cc64d1row12_col9,#T_e808a17a_e3b9_11ea_9c20_525400cc64d1row12_col11{\n",
       "            background-color:  #97b7d7;\n",
       "            color:  #000000;\n",
       "        }#T_e808a17a_e3b9_11ea_9c20_525400cc64d1row9_col13,#T_e808a17a_e3b9_11ea_9c20_525400cc64d1row13_col9{\n",
       "            background-color:  #d2d3e7;\n",
       "            color:  #000000;\n",
       "        }#T_e808a17a_e3b9_11ea_9c20_525400cc64d1row9_col14,#T_e808a17a_e3b9_11ea_9c20_525400cc64d1row14_col9{\n",
       "            background-color:  #197db7;\n",
       "            color:  #000000;\n",
       "        }#T_e808a17a_e3b9_11ea_9c20_525400cc64d1row9_col16,#T_e808a17a_e3b9_11ea_9c20_525400cc64d1row16_col9{\n",
       "            background-color:  #046097;\n",
       "            color:  #f1f1f1;\n",
       "        }#T_e808a17a_e3b9_11ea_9c20_525400cc64d1row10_col11,#T_e808a17a_e3b9_11ea_9c20_525400cc64d1row11_col10{\n",
       "            background-color:  #04639b;\n",
       "            color:  #f1f1f1;\n",
       "        }#T_e808a17a_e3b9_11ea_9c20_525400cc64d1row10_col14,#T_e808a17a_e3b9_11ea_9c20_525400cc64d1row14_col10{\n",
       "            background-color:  #0a73b2;\n",
       "            color:  #f1f1f1;\n",
       "        }#T_e808a17a_e3b9_11ea_9c20_525400cc64d1row10_col16,#T_e808a17a_e3b9_11ea_9c20_525400cc64d1row16_col10{\n",
       "            background-color:  #04588a;\n",
       "            color:  #f1f1f1;\n",
       "        }#T_e808a17a_e3b9_11ea_9c20_525400cc64d1row11_col14,#T_e808a17a_e3b9_11ea_9c20_525400cc64d1row11_col16,#T_e808a17a_e3b9_11ea_9c20_525400cc64d1row14_col11,#T_e808a17a_e3b9_11ea_9c20_525400cc64d1row16_col11{\n",
       "            background-color:  #056dab;\n",
       "            color:  #f1f1f1;\n",
       "        }#T_e808a17a_e3b9_11ea_9c20_525400cc64d1row12_col16,#T_e808a17a_e3b9_11ea_9c20_525400cc64d1row16_col12{\n",
       "            background-color:  #358fc0;\n",
       "            color:  #000000;\n",
       "        }#T_e808a17a_e3b9_11ea_9c20_525400cc64d1row13_col15,#T_e808a17a_e3b9_11ea_9c20_525400cc64d1row15_col13{\n",
       "            background-color:  #4697c4;\n",
       "            color:  #000000;\n",
       "        }</style><table id=\"T_e808a17a_e3b9_11ea_9c20_525400cc64d1\" ><thead>    <tr>        <th class=\"blank level0\" ></th>        <th class=\"col_heading level0 col0\" >Rt</th>        <th class=\"col_heading level0 col1\" >theta</th>        <th class=\"col_heading level0 col2\" >kappa</th>        <th class=\"col_heading level0 col3\" >rho</th>        <th class=\"col_heading level0 col4\" >sigma</th>        <th class=\"col_heading level0 col5\" >School_closing</th>        <th class=\"col_heading level0 col6\" >Workplace_closing</th>        <th class=\"col_heading level0 col7\" >Cancel_events</th>        <th class=\"col_heading level0 col8\" >Gatherings_restrictions</th>        <th class=\"col_heading level0 col9\" >Transport_closing</th>        <th class=\"col_heading level0 col10\" >Stay_home_restrictions</th>        <th class=\"col_heading level0 col11\" >Internal_movement_restrictions</th>        <th class=\"col_heading level0 col12\" >International_movement_restrictions</th>        <th class=\"col_heading level0 col13\" >Information_campaigns</th>        <th class=\"col_heading level0 col14\" >Testing_policy</th>        <th class=\"col_heading level0 col15\" >Contact_tracing</th>        <th class=\"col_heading level0 col16\" >Stringency_index</th>    </tr></thead><tbody>\n",
       "                <tr>\n",
       "                        <th id=\"T_e808a17a_e3b9_11ea_9c20_525400cc64d1level0_row0\" class=\"row_heading level0 row0\" >Rt</th>\n",
       "                        <td id=\"T_e808a17a_e3b9_11ea_9c20_525400cc64d1row0_col0\" class=\"data row0 col0\" >1.000000</td>\n",
       "                        <td id=\"T_e808a17a_e3b9_11ea_9c20_525400cc64d1row0_col1\" class=\"data row0 col1\" >0.036508</td>\n",
       "                        <td id=\"T_e808a17a_e3b9_11ea_9c20_525400cc64d1row0_col2\" class=\"data row0 col2\" >-0.053888</td>\n",
       "                        <td id=\"T_e808a17a_e3b9_11ea_9c20_525400cc64d1row0_col3\" class=\"data row0 col3\" >0.624787</td>\n",
       "                        <td id=\"T_e808a17a_e3b9_11ea_9c20_525400cc64d1row0_col4\" class=\"data row0 col4\" >-0.210043</td>\n",
       "                        <td id=\"T_e808a17a_e3b9_11ea_9c20_525400cc64d1row0_col5\" class=\"data row0 col5\" >-0.001064</td>\n",
       "                        <td id=\"T_e808a17a_e3b9_11ea_9c20_525400cc64d1row0_col6\" class=\"data row0 col6\" >0.150548</td>\n",
       "                        <td id=\"T_e808a17a_e3b9_11ea_9c20_525400cc64d1row0_col7\" class=\"data row0 col7\" >-0.188403</td>\n",
       "                        <td id=\"T_e808a17a_e3b9_11ea_9c20_525400cc64d1row0_col8\" class=\"data row0 col8\" >0.164692</td>\n",
       "                        <td id=\"T_e808a17a_e3b9_11ea_9c20_525400cc64d1row0_col9\" class=\"data row0 col9\" >0.193541</td>\n",
       "                        <td id=\"T_e808a17a_e3b9_11ea_9c20_525400cc64d1row0_col10\" class=\"data row0 col10\" >0.259868</td>\n",
       "                        <td id=\"T_e808a17a_e3b9_11ea_9c20_525400cc64d1row0_col11\" class=\"data row0 col11\" >0.203291</td>\n",
       "                        <td id=\"T_e808a17a_e3b9_11ea_9c20_525400cc64d1row0_col12\" class=\"data row0 col12\" >0.257432</td>\n",
       "                        <td id=\"T_e808a17a_e3b9_11ea_9c20_525400cc64d1row0_col13\" class=\"data row0 col13\" >-0.026874</td>\n",
       "                        <td id=\"T_e808a17a_e3b9_11ea_9c20_525400cc64d1row0_col14\" class=\"data row0 col14\" >0.021359</td>\n",
       "                        <td id=\"T_e808a17a_e3b9_11ea_9c20_525400cc64d1row0_col15\" class=\"data row0 col15\" >-0.019098</td>\n",
       "                        <td id=\"T_e808a17a_e3b9_11ea_9c20_525400cc64d1row0_col16\" class=\"data row0 col16\" >0.246576</td>\n",
       "            </tr>\n",
       "            <tr>\n",
       "                        <th id=\"T_e808a17a_e3b9_11ea_9c20_525400cc64d1level0_row1\" class=\"row_heading level0 row1\" >theta</th>\n",
       "                        <td id=\"T_e808a17a_e3b9_11ea_9c20_525400cc64d1row1_col0\" class=\"data row1 col0\" >0.036508</td>\n",
       "                        <td id=\"T_e808a17a_e3b9_11ea_9c20_525400cc64d1row1_col1\" class=\"data row1 col1\" >1.000000</td>\n",
       "                        <td id=\"T_e808a17a_e3b9_11ea_9c20_525400cc64d1row1_col2\" class=\"data row1 col2\" >0.125489</td>\n",
       "                        <td id=\"T_e808a17a_e3b9_11ea_9c20_525400cc64d1row1_col3\" class=\"data row1 col3\" >0.077621</td>\n",
       "                        <td id=\"T_e808a17a_e3b9_11ea_9c20_525400cc64d1row1_col4\" class=\"data row1 col4\" >0.153454</td>\n",
       "                        <td id=\"T_e808a17a_e3b9_11ea_9c20_525400cc64d1row1_col5\" class=\"data row1 col5\" >0.272649</td>\n",
       "                        <td id=\"T_e808a17a_e3b9_11ea_9c20_525400cc64d1row1_col6\" class=\"data row1 col6\" >0.281358</td>\n",
       "                        <td id=\"T_e808a17a_e3b9_11ea_9c20_525400cc64d1row1_col7\" class=\"data row1 col7\" >0.107444</td>\n",
       "                        <td id=\"T_e808a17a_e3b9_11ea_9c20_525400cc64d1row1_col8\" class=\"data row1 col8\" >-0.183806</td>\n",
       "                        <td id=\"T_e808a17a_e3b9_11ea_9c20_525400cc64d1row1_col9\" class=\"data row1 col9\" >-0.005763</td>\n",
       "                        <td id=\"T_e808a17a_e3b9_11ea_9c20_525400cc64d1row1_col10\" class=\"data row1 col10\" >-0.002206</td>\n",
       "                        <td id=\"T_e808a17a_e3b9_11ea_9c20_525400cc64d1row1_col11\" class=\"data row1 col11\" >0.055234</td>\n",
       "                        <td id=\"T_e808a17a_e3b9_11ea_9c20_525400cc64d1row1_col12\" class=\"data row1 col12\" >-0.001327</td>\n",
       "                        <td id=\"T_e808a17a_e3b9_11ea_9c20_525400cc64d1row1_col13\" class=\"data row1 col13\" >0.003779</td>\n",
       "                        <td id=\"T_e808a17a_e3b9_11ea_9c20_525400cc64d1row1_col14\" class=\"data row1 col14\" >-0.398060</td>\n",
       "                        <td id=\"T_e808a17a_e3b9_11ea_9c20_525400cc64d1row1_col15\" class=\"data row1 col15\" >0.020764</td>\n",
       "                        <td id=\"T_e808a17a_e3b9_11ea_9c20_525400cc64d1row1_col16\" class=\"data row1 col16\" >0.252032</td>\n",
       "            </tr>\n",
       "            <tr>\n",
       "                        <th id=\"T_e808a17a_e3b9_11ea_9c20_525400cc64d1level0_row2\" class=\"row_heading level0 row2\" >kappa</th>\n",
       "                        <td id=\"T_e808a17a_e3b9_11ea_9c20_525400cc64d1row2_col0\" class=\"data row2 col0\" >-0.053888</td>\n",
       "                        <td id=\"T_e808a17a_e3b9_11ea_9c20_525400cc64d1row2_col1\" class=\"data row2 col1\" >0.125489</td>\n",
       "                        <td id=\"T_e808a17a_e3b9_11ea_9c20_525400cc64d1row2_col2\" class=\"data row2 col2\" >1.000000</td>\n",
       "                        <td id=\"T_e808a17a_e3b9_11ea_9c20_525400cc64d1row2_col3\" class=\"data row2 col3\" >0.278798</td>\n",
       "                        <td id=\"T_e808a17a_e3b9_11ea_9c20_525400cc64d1row2_col4\" class=\"data row2 col4\" >0.410622</td>\n",
       "                        <td id=\"T_e808a17a_e3b9_11ea_9c20_525400cc64d1row2_col5\" class=\"data row2 col5\" >0.307017</td>\n",
       "                        <td id=\"T_e808a17a_e3b9_11ea_9c20_525400cc64d1row2_col6\" class=\"data row2 col6\" >0.181327</td>\n",
       "                        <td id=\"T_e808a17a_e3b9_11ea_9c20_525400cc64d1row2_col7\" class=\"data row2 col7\" >0.073562</td>\n",
       "                        <td id=\"T_e808a17a_e3b9_11ea_9c20_525400cc64d1row2_col8\" class=\"data row2 col8\" >-0.167357</td>\n",
       "                        <td id=\"T_e808a17a_e3b9_11ea_9c20_525400cc64d1row2_col9\" class=\"data row2 col9\" >-0.027318</td>\n",
       "                        <td id=\"T_e808a17a_e3b9_11ea_9c20_525400cc64d1row2_col10\" class=\"data row2 col10\" >-0.074451</td>\n",
       "                        <td id=\"T_e808a17a_e3b9_11ea_9c20_525400cc64d1row2_col11\" class=\"data row2 col11\" >-0.202267</td>\n",
       "                        <td id=\"T_e808a17a_e3b9_11ea_9c20_525400cc64d1row2_col12\" class=\"data row2 col12\" >-0.060877</td>\n",
       "                        <td id=\"T_e808a17a_e3b9_11ea_9c20_525400cc64d1row2_col13\" class=\"data row2 col13\" >-0.143539</td>\n",
       "                        <td id=\"T_e808a17a_e3b9_11ea_9c20_525400cc64d1row2_col14\" class=\"data row2 col14\" >-0.459701</td>\n",
       "                        <td id=\"T_e808a17a_e3b9_11ea_9c20_525400cc64d1row2_col15\" class=\"data row2 col15\" >-0.111368</td>\n",
       "                        <td id=\"T_e808a17a_e3b9_11ea_9c20_525400cc64d1row2_col16\" class=\"data row2 col16\" >0.102870</td>\n",
       "            </tr>\n",
       "            <tr>\n",
       "                        <th id=\"T_e808a17a_e3b9_11ea_9c20_525400cc64d1level0_row3\" class=\"row_heading level0 row3\" >rho</th>\n",
       "                        <td id=\"T_e808a17a_e3b9_11ea_9c20_525400cc64d1row3_col0\" class=\"data row3 col0\" >0.624787</td>\n",
       "                        <td id=\"T_e808a17a_e3b9_11ea_9c20_525400cc64d1row3_col1\" class=\"data row3 col1\" >0.077621</td>\n",
       "                        <td id=\"T_e808a17a_e3b9_11ea_9c20_525400cc64d1row3_col2\" class=\"data row3 col2\" >0.278798</td>\n",
       "                        <td id=\"T_e808a17a_e3b9_11ea_9c20_525400cc64d1row3_col3\" class=\"data row3 col3\" >1.000000</td>\n",
       "                        <td id=\"T_e808a17a_e3b9_11ea_9c20_525400cc64d1row3_col4\" class=\"data row3 col4\" >0.577955</td>\n",
       "                        <td id=\"T_e808a17a_e3b9_11ea_9c20_525400cc64d1row3_col5\" class=\"data row3 col5\" >0.162167</td>\n",
       "                        <td id=\"T_e808a17a_e3b9_11ea_9c20_525400cc64d1row3_col6\" class=\"data row3 col6\" >0.023874</td>\n",
       "                        <td id=\"T_e808a17a_e3b9_11ea_9c20_525400cc64d1row3_col7\" class=\"data row3 col7\" >-0.229109</td>\n",
       "                        <td id=\"T_e808a17a_e3b9_11ea_9c20_525400cc64d1row3_col8\" class=\"data row3 col8\" >-0.134863</td>\n",
       "                        <td id=\"T_e808a17a_e3b9_11ea_9c20_525400cc64d1row3_col9\" class=\"data row3 col9\" >-0.004753</td>\n",
       "                        <td id=\"T_e808a17a_e3b9_11ea_9c20_525400cc64d1row3_col10\" class=\"data row3 col10\" >-0.029256</td>\n",
       "                        <td id=\"T_e808a17a_e3b9_11ea_9c20_525400cc64d1row3_col11\" class=\"data row3 col11\" >-0.073277</td>\n",
       "                        <td id=\"T_e808a17a_e3b9_11ea_9c20_525400cc64d1row3_col12\" class=\"data row3 col12\" >0.249467</td>\n",
       "                        <td id=\"T_e808a17a_e3b9_11ea_9c20_525400cc64d1row3_col13\" class=\"data row3 col13\" >-0.208132</td>\n",
       "                        <td id=\"T_e808a17a_e3b9_11ea_9c20_525400cc64d1row3_col14\" class=\"data row3 col14\" >-0.296650</td>\n",
       "                        <td id=\"T_e808a17a_e3b9_11ea_9c20_525400cc64d1row3_col15\" class=\"data row3 col15\" >-0.199667</td>\n",
       "                        <td id=\"T_e808a17a_e3b9_11ea_9c20_525400cc64d1row3_col16\" class=\"data row3 col16\" >0.105188</td>\n",
       "            </tr>\n",
       "            <tr>\n",
       "                        <th id=\"T_e808a17a_e3b9_11ea_9c20_525400cc64d1level0_row4\" class=\"row_heading level0 row4\" >sigma</th>\n",
       "                        <td id=\"T_e808a17a_e3b9_11ea_9c20_525400cc64d1row4_col0\" class=\"data row4 col0\" >-0.210043</td>\n",
       "                        <td id=\"T_e808a17a_e3b9_11ea_9c20_525400cc64d1row4_col1\" class=\"data row4 col1\" >0.153454</td>\n",
       "                        <td id=\"T_e808a17a_e3b9_11ea_9c20_525400cc64d1row4_col2\" class=\"data row4 col2\" >0.410622</td>\n",
       "                        <td id=\"T_e808a17a_e3b9_11ea_9c20_525400cc64d1row4_col3\" class=\"data row4 col3\" >0.577955</td>\n",
       "                        <td id=\"T_e808a17a_e3b9_11ea_9c20_525400cc64d1row4_col4\" class=\"data row4 col4\" >1.000000</td>\n",
       "                        <td id=\"T_e808a17a_e3b9_11ea_9c20_525400cc64d1row4_col5\" class=\"data row4 col5\" >0.225875</td>\n",
       "                        <td id=\"T_e808a17a_e3b9_11ea_9c20_525400cc64d1row4_col6\" class=\"data row4 col6\" >-0.100529</td>\n",
       "                        <td id=\"T_e808a17a_e3b9_11ea_9c20_525400cc64d1row4_col7\" class=\"data row4 col7\" >-0.116318</td>\n",
       "                        <td id=\"T_e808a17a_e3b9_11ea_9c20_525400cc64d1row4_col8\" class=\"data row4 col8\" >-0.436128</td>\n",
       "                        <td id=\"T_e808a17a_e3b9_11ea_9c20_525400cc64d1row4_col9\" class=\"data row4 col9\" >-0.333350</td>\n",
       "                        <td id=\"T_e808a17a_e3b9_11ea_9c20_525400cc64d1row4_col10\" class=\"data row4 col10\" >-0.341359</td>\n",
       "                        <td id=\"T_e808a17a_e3b9_11ea_9c20_525400cc64d1row4_col11\" class=\"data row4 col11\" >-0.412922</td>\n",
       "                        <td id=\"T_e808a17a_e3b9_11ea_9c20_525400cc64d1row4_col12\" class=\"data row4 col12\" >0.070089</td>\n",
       "                        <td id=\"T_e808a17a_e3b9_11ea_9c20_525400cc64d1row4_col13\" class=\"data row4 col13\" >-0.182419</td>\n",
       "                        <td id=\"T_e808a17a_e3b9_11ea_9c20_525400cc64d1row4_col14\" class=\"data row4 col14\" >-0.498483</td>\n",
       "                        <td id=\"T_e808a17a_e3b9_11ea_9c20_525400cc64d1row4_col15\" class=\"data row4 col15\" >-0.191820</td>\n",
       "                        <td id=\"T_e808a17a_e3b9_11ea_9c20_525400cc64d1row4_col16\" class=\"data row4 col16\" >-0.151143</td>\n",
       "            </tr>\n",
       "            <tr>\n",
       "                        <th id=\"T_e808a17a_e3b9_11ea_9c20_525400cc64d1level0_row5\" class=\"row_heading level0 row5\" >School_closing</th>\n",
       "                        <td id=\"T_e808a17a_e3b9_11ea_9c20_525400cc64d1row5_col0\" class=\"data row5 col0\" >-0.001064</td>\n",
       "                        <td id=\"T_e808a17a_e3b9_11ea_9c20_525400cc64d1row5_col1\" class=\"data row5 col1\" >0.272649</td>\n",
       "                        <td id=\"T_e808a17a_e3b9_11ea_9c20_525400cc64d1row5_col2\" class=\"data row5 col2\" >0.307017</td>\n",
       "                        <td id=\"T_e808a17a_e3b9_11ea_9c20_525400cc64d1row5_col3\" class=\"data row5 col3\" >0.162167</td>\n",
       "                        <td id=\"T_e808a17a_e3b9_11ea_9c20_525400cc64d1row5_col4\" class=\"data row5 col4\" >0.225875</td>\n",
       "                        <td id=\"T_e808a17a_e3b9_11ea_9c20_525400cc64d1row5_col5\" class=\"data row5 col5\" >1.000000</td>\n",
       "                        <td id=\"T_e808a17a_e3b9_11ea_9c20_525400cc64d1row5_col6\" class=\"data row5 col6\" >0.371087</td>\n",
       "                        <td id=\"T_e808a17a_e3b9_11ea_9c20_525400cc64d1row5_col7\" class=\"data row5 col7\" >0.536529</td>\n",
       "                        <td id=\"T_e808a17a_e3b9_11ea_9c20_525400cc64d1row5_col8\" class=\"data row5 col8\" >0.133674</td>\n",
       "                        <td id=\"T_e808a17a_e3b9_11ea_9c20_525400cc64d1row5_col9\" class=\"data row5 col9\" >0.153629</td>\n",
       "                        <td id=\"T_e808a17a_e3b9_11ea_9c20_525400cc64d1row5_col10\" class=\"data row5 col10\" >0.363307</td>\n",
       "                        <td id=\"T_e808a17a_e3b9_11ea_9c20_525400cc64d1row5_col11\" class=\"data row5 col11\" >0.045726</td>\n",
       "                        <td id=\"T_e808a17a_e3b9_11ea_9c20_525400cc64d1row5_col12\" class=\"data row5 col12\" >0.312800</td>\n",
       "                        <td id=\"T_e808a17a_e3b9_11ea_9c20_525400cc64d1row5_col13\" class=\"data row5 col13\" >-0.072898</td>\n",
       "                        <td id=\"T_e808a17a_e3b9_11ea_9c20_525400cc64d1row5_col14\" class=\"data row5 col14\" >-0.068069</td>\n",
       "                        <td id=\"T_e808a17a_e3b9_11ea_9c20_525400cc64d1row5_col15\" class=\"data row5 col15\" >-0.055231</td>\n",
       "                        <td id=\"T_e808a17a_e3b9_11ea_9c20_525400cc64d1row5_col16\" class=\"data row5 col16\" >0.577661</td>\n",
       "            </tr>\n",
       "            <tr>\n",
       "                        <th id=\"T_e808a17a_e3b9_11ea_9c20_525400cc64d1level0_row6\" class=\"row_heading level0 row6\" >Workplace_closing</th>\n",
       "                        <td id=\"T_e808a17a_e3b9_11ea_9c20_525400cc64d1row6_col0\" class=\"data row6 col0\" >0.150548</td>\n",
       "                        <td id=\"T_e808a17a_e3b9_11ea_9c20_525400cc64d1row6_col1\" class=\"data row6 col1\" >0.281358</td>\n",
       "                        <td id=\"T_e808a17a_e3b9_11ea_9c20_525400cc64d1row6_col2\" class=\"data row6 col2\" >0.181327</td>\n",
       "                        <td id=\"T_e808a17a_e3b9_11ea_9c20_525400cc64d1row6_col3\" class=\"data row6 col3\" >0.023874</td>\n",
       "                        <td id=\"T_e808a17a_e3b9_11ea_9c20_525400cc64d1row6_col4\" class=\"data row6 col4\" >-0.100529</td>\n",
       "                        <td id=\"T_e808a17a_e3b9_11ea_9c20_525400cc64d1row6_col5\" class=\"data row6 col5\" >0.371087</td>\n",
       "                        <td id=\"T_e808a17a_e3b9_11ea_9c20_525400cc64d1row6_col6\" class=\"data row6 col6\" >1.000000</td>\n",
       "                        <td id=\"T_e808a17a_e3b9_11ea_9c20_525400cc64d1row6_col7\" class=\"data row6 col7\" >0.542277</td>\n",
       "                        <td id=\"T_e808a17a_e3b9_11ea_9c20_525400cc64d1row6_col8\" class=\"data row6 col8\" >0.462177</td>\n",
       "                        <td id=\"T_e808a17a_e3b9_11ea_9c20_525400cc64d1row6_col9\" class=\"data row6 col9\" >0.554246</td>\n",
       "                        <td id=\"T_e808a17a_e3b9_11ea_9c20_525400cc64d1row6_col10\" class=\"data row6 col10\" >0.632477</td>\n",
       "                        <td id=\"T_e808a17a_e3b9_11ea_9c20_525400cc64d1row6_col11\" class=\"data row6 col11\" >0.420582</td>\n",
       "                        <td id=\"T_e808a17a_e3b9_11ea_9c20_525400cc64d1row6_col12\" class=\"data row6 col12\" >0.067177</td>\n",
       "                        <td id=\"T_e808a17a_e3b9_11ea_9c20_525400cc64d1row6_col13\" class=\"data row6 col13\" >-0.031383</td>\n",
       "                        <td id=\"T_e808a17a_e3b9_11ea_9c20_525400cc64d1row6_col14\" class=\"data row6 col14\" >0.189256</td>\n",
       "                        <td id=\"T_e808a17a_e3b9_11ea_9c20_525400cc64d1row6_col15\" class=\"data row6 col15\" >-0.012915</td>\n",
       "                        <td id=\"T_e808a17a_e3b9_11ea_9c20_525400cc64d1row6_col16\" class=\"data row6 col16\" >0.738847</td>\n",
       "            </tr>\n",
       "            <tr>\n",
       "                        <th id=\"T_e808a17a_e3b9_11ea_9c20_525400cc64d1level0_row7\" class=\"row_heading level0 row7\" >Cancel_events</th>\n",
       "                        <td id=\"T_e808a17a_e3b9_11ea_9c20_525400cc64d1row7_col0\" class=\"data row7 col0\" >-0.188403</td>\n",
       "                        <td id=\"T_e808a17a_e3b9_11ea_9c20_525400cc64d1row7_col1\" class=\"data row7 col1\" >0.107444</td>\n",
       "                        <td id=\"T_e808a17a_e3b9_11ea_9c20_525400cc64d1row7_col2\" class=\"data row7 col2\" >0.073562</td>\n",
       "                        <td id=\"T_e808a17a_e3b9_11ea_9c20_525400cc64d1row7_col3\" class=\"data row7 col3\" >-0.229109</td>\n",
       "                        <td id=\"T_e808a17a_e3b9_11ea_9c20_525400cc64d1row7_col4\" class=\"data row7 col4\" >-0.116318</td>\n",
       "                        <td id=\"T_e808a17a_e3b9_11ea_9c20_525400cc64d1row7_col5\" class=\"data row7 col5\" >0.536529</td>\n",
       "                        <td id=\"T_e808a17a_e3b9_11ea_9c20_525400cc64d1row7_col6\" class=\"data row7 col6\" >0.542277</td>\n",
       "                        <td id=\"T_e808a17a_e3b9_11ea_9c20_525400cc64d1row7_col7\" class=\"data row7 col7\" >1.000000</td>\n",
       "                        <td id=\"T_e808a17a_e3b9_11ea_9c20_525400cc64d1row7_col8\" class=\"data row7 col8\" >0.508196</td>\n",
       "                        <td id=\"T_e808a17a_e3b9_11ea_9c20_525400cc64d1row7_col9\" class=\"data row7 col9\" >0.412921</td>\n",
       "                        <td id=\"T_e808a17a_e3b9_11ea_9c20_525400cc64d1row7_col10\" class=\"data row7 col10\" >0.584203</td>\n",
       "                        <td id=\"T_e808a17a_e3b9_11ea_9c20_525400cc64d1row7_col11\" class=\"data row7 col11\" >0.371061</td>\n",
       "                        <td id=\"T_e808a17a_e3b9_11ea_9c20_525400cc64d1row7_col12\" class=\"data row7 col12\" >-0.017883</td>\n",
       "                        <td id=\"T_e808a17a_e3b9_11ea_9c20_525400cc64d1row7_col13\" class=\"data row7 col13\" >-0.028239</td>\n",
       "                        <td id=\"T_e808a17a_e3b9_11ea_9c20_525400cc64d1row7_col14\" class=\"data row7 col14\" >0.321669</td>\n",
       "                        <td id=\"T_e808a17a_e3b9_11ea_9c20_525400cc64d1row7_col15\" class=\"data row7 col15\" >-0.035331</td>\n",
       "                        <td id=\"T_e808a17a_e3b9_11ea_9c20_525400cc64d1row7_col16\" class=\"data row7 col16\" >0.645705</td>\n",
       "            </tr>\n",
       "            <tr>\n",
       "                        <th id=\"T_e808a17a_e3b9_11ea_9c20_525400cc64d1level0_row8\" class=\"row_heading level0 row8\" >Gatherings_restrictions</th>\n",
       "                        <td id=\"T_e808a17a_e3b9_11ea_9c20_525400cc64d1row8_col0\" class=\"data row8 col0\" >0.164692</td>\n",
       "                        <td id=\"T_e808a17a_e3b9_11ea_9c20_525400cc64d1row8_col1\" class=\"data row8 col1\" >-0.183806</td>\n",
       "                        <td id=\"T_e808a17a_e3b9_11ea_9c20_525400cc64d1row8_col2\" class=\"data row8 col2\" >-0.167357</td>\n",
       "                        <td id=\"T_e808a17a_e3b9_11ea_9c20_525400cc64d1row8_col3\" class=\"data row8 col3\" >-0.134863</td>\n",
       "                        <td id=\"T_e808a17a_e3b9_11ea_9c20_525400cc64d1row8_col4\" class=\"data row8 col4\" >-0.436128</td>\n",
       "                        <td id=\"T_e808a17a_e3b9_11ea_9c20_525400cc64d1row8_col5\" class=\"data row8 col5\" >0.133674</td>\n",
       "                        <td id=\"T_e808a17a_e3b9_11ea_9c20_525400cc64d1row8_col6\" class=\"data row8 col6\" >0.462177</td>\n",
       "                        <td id=\"T_e808a17a_e3b9_11ea_9c20_525400cc64d1row8_col7\" class=\"data row8 col7\" >0.508196</td>\n",
       "                        <td id=\"T_e808a17a_e3b9_11ea_9c20_525400cc64d1row8_col8\" class=\"data row8 col8\" >1.000000</td>\n",
       "                        <td id=\"T_e808a17a_e3b9_11ea_9c20_525400cc64d1row8_col9\" class=\"data row8 col9\" >0.708174</td>\n",
       "                        <td id=\"T_e808a17a_e3b9_11ea_9c20_525400cc64d1row8_col10\" class=\"data row8 col10\" >0.723703</td>\n",
       "                        <td id=\"T_e808a17a_e3b9_11ea_9c20_525400cc64d1row8_col11\" class=\"data row8 col11\" >0.625570</td>\n",
       "                        <td id=\"T_e808a17a_e3b9_11ea_9c20_525400cc64d1row8_col12\" class=\"data row8 col12\" >0.157468</td>\n",
       "                        <td id=\"T_e808a17a_e3b9_11ea_9c20_525400cc64d1row8_col13\" class=\"data row8 col13\" >0.059622</td>\n",
       "                        <td id=\"T_e808a17a_e3b9_11ea_9c20_525400cc64d1row8_col14\" class=\"data row8 col14\" >0.669883</td>\n",
       "                        <td id=\"T_e808a17a_e3b9_11ea_9c20_525400cc64d1row8_col15\" class=\"data row8 col15\" >0.061900</td>\n",
       "                        <td id=\"T_e808a17a_e3b9_11ea_9c20_525400cc64d1row8_col16\" class=\"data row8 col16\" >0.703196</td>\n",
       "            </tr>\n",
       "            <tr>\n",
       "                        <th id=\"T_e808a17a_e3b9_11ea_9c20_525400cc64d1level0_row9\" class=\"row_heading level0 row9\" >Transport_closing</th>\n",
       "                        <td id=\"T_e808a17a_e3b9_11ea_9c20_525400cc64d1row9_col0\" class=\"data row9 col0\" >0.193541</td>\n",
       "                        <td id=\"T_e808a17a_e3b9_11ea_9c20_525400cc64d1row9_col1\" class=\"data row9 col1\" >-0.005763</td>\n",
       "                        <td id=\"T_e808a17a_e3b9_11ea_9c20_525400cc64d1row9_col2\" class=\"data row9 col2\" >-0.027318</td>\n",
       "                        <td id=\"T_e808a17a_e3b9_11ea_9c20_525400cc64d1row9_col3\" class=\"data row9 col3\" >-0.004753</td>\n",
       "                        <td id=\"T_e808a17a_e3b9_11ea_9c20_525400cc64d1row9_col4\" class=\"data row9 col4\" >-0.333350</td>\n",
       "                        <td id=\"T_e808a17a_e3b9_11ea_9c20_525400cc64d1row9_col5\" class=\"data row9 col5\" >0.153629</td>\n",
       "                        <td id=\"T_e808a17a_e3b9_11ea_9c20_525400cc64d1row9_col6\" class=\"data row9 col6\" >0.554246</td>\n",
       "                        <td id=\"T_e808a17a_e3b9_11ea_9c20_525400cc64d1row9_col7\" class=\"data row9 col7\" >0.412921</td>\n",
       "                        <td id=\"T_e808a17a_e3b9_11ea_9c20_525400cc64d1row9_col8\" class=\"data row9 col8\" >0.708174</td>\n",
       "                        <td id=\"T_e808a17a_e3b9_11ea_9c20_525400cc64d1row9_col9\" class=\"data row9 col9\" >1.000000</td>\n",
       "                        <td id=\"T_e808a17a_e3b9_11ea_9c20_525400cc64d1row9_col10\" class=\"data row9 col10\" >0.698564</td>\n",
       "                        <td id=\"T_e808a17a_e3b9_11ea_9c20_525400cc64d1row9_col11\" class=\"data row9 col11\" >0.813710</td>\n",
       "                        <td id=\"T_e808a17a_e3b9_11ea_9c20_525400cc64d1row9_col12\" class=\"data row9 col12\" >0.118969</td>\n",
       "                        <td id=\"T_e808a17a_e3b9_11ea_9c20_525400cc64d1row9_col13\" class=\"data row9 col13\" >-0.136139</td>\n",
       "                        <td id=\"T_e808a17a_e3b9_11ea_9c20_525400cc64d1row9_col14\" class=\"data row9 col14\" >0.545835</td>\n",
       "                        <td id=\"T_e808a17a_e3b9_11ea_9c20_525400cc64d1row9_col15\" class=\"data row9 col15\" >-0.030114</td>\n",
       "                        <td id=\"T_e808a17a_e3b9_11ea_9c20_525400cc64d1row9_col16\" class=\"data row9 col16\" >0.754160</td>\n",
       "            </tr>\n",
       "            <tr>\n",
       "                        <th id=\"T_e808a17a_e3b9_11ea_9c20_525400cc64d1level0_row10\" class=\"row_heading level0 row10\" >Stay_home_restrictions</th>\n",
       "                        <td id=\"T_e808a17a_e3b9_11ea_9c20_525400cc64d1row10_col0\" class=\"data row10 col0\" >0.259868</td>\n",
       "                        <td id=\"T_e808a17a_e3b9_11ea_9c20_525400cc64d1row10_col1\" class=\"data row10 col1\" >-0.002206</td>\n",
       "                        <td id=\"T_e808a17a_e3b9_11ea_9c20_525400cc64d1row10_col2\" class=\"data row10 col2\" >-0.074451</td>\n",
       "                        <td id=\"T_e808a17a_e3b9_11ea_9c20_525400cc64d1row10_col3\" class=\"data row10 col3\" >-0.029256</td>\n",
       "                        <td id=\"T_e808a17a_e3b9_11ea_9c20_525400cc64d1row10_col4\" class=\"data row10 col4\" >-0.341359</td>\n",
       "                        <td id=\"T_e808a17a_e3b9_11ea_9c20_525400cc64d1row10_col5\" class=\"data row10 col5\" >0.363307</td>\n",
       "                        <td id=\"T_e808a17a_e3b9_11ea_9c20_525400cc64d1row10_col6\" class=\"data row10 col6\" >0.632477</td>\n",
       "                        <td id=\"T_e808a17a_e3b9_11ea_9c20_525400cc64d1row10_col7\" class=\"data row10 col7\" >0.584203</td>\n",
       "                        <td id=\"T_e808a17a_e3b9_11ea_9c20_525400cc64d1row10_col8\" class=\"data row10 col8\" >0.723703</td>\n",
       "                        <td id=\"T_e808a17a_e3b9_11ea_9c20_525400cc64d1row10_col9\" class=\"data row10 col9\" >0.698564</td>\n",
       "                        <td id=\"T_e808a17a_e3b9_11ea_9c20_525400cc64d1row10_col10\" class=\"data row10 col10\" >1.000000</td>\n",
       "                        <td id=\"T_e808a17a_e3b9_11ea_9c20_525400cc64d1row10_col11\" class=\"data row10 col11\" >0.735103</td>\n",
       "                        <td id=\"T_e808a17a_e3b9_11ea_9c20_525400cc64d1row10_col12\" class=\"data row10 col12\" >0.222415</td>\n",
       "                        <td id=\"T_e808a17a_e3b9_11ea_9c20_525400cc64d1row10_col13\" class=\"data row10 col13\" >0.063698</td>\n",
       "                        <td id=\"T_e808a17a_e3b9_11ea_9c20_525400cc64d1row10_col14\" class=\"data row10 col14\" >0.606562</td>\n",
       "                        <td id=\"T_e808a17a_e3b9_11ea_9c20_525400cc64d1row10_col15\" class=\"data row10 col15\" >0.065802</td>\n",
       "                        <td id=\"T_e808a17a_e3b9_11ea_9c20_525400cc64d1row10_col16\" class=\"data row10 col16\" >0.823970</td>\n",
       "            </tr>\n",
       "            <tr>\n",
       "                        <th id=\"T_e808a17a_e3b9_11ea_9c20_525400cc64d1level0_row11\" class=\"row_heading level0 row11\" >Internal_movement_restrictions</th>\n",
       "                        <td id=\"T_e808a17a_e3b9_11ea_9c20_525400cc64d1row11_col0\" class=\"data row11 col0\" >0.203291</td>\n",
       "                        <td id=\"T_e808a17a_e3b9_11ea_9c20_525400cc64d1row11_col1\" class=\"data row11 col1\" >0.055234</td>\n",
       "                        <td id=\"T_e808a17a_e3b9_11ea_9c20_525400cc64d1row11_col2\" class=\"data row11 col2\" >-0.202267</td>\n",
       "                        <td id=\"T_e808a17a_e3b9_11ea_9c20_525400cc64d1row11_col3\" class=\"data row11 col3\" >-0.073277</td>\n",
       "                        <td id=\"T_e808a17a_e3b9_11ea_9c20_525400cc64d1row11_col4\" class=\"data row11 col4\" >-0.412922</td>\n",
       "                        <td id=\"T_e808a17a_e3b9_11ea_9c20_525400cc64d1row11_col5\" class=\"data row11 col5\" >0.045726</td>\n",
       "                        <td id=\"T_e808a17a_e3b9_11ea_9c20_525400cc64d1row11_col6\" class=\"data row11 col6\" >0.420582</td>\n",
       "                        <td id=\"T_e808a17a_e3b9_11ea_9c20_525400cc64d1row11_col7\" class=\"data row11 col7\" >0.371061</td>\n",
       "                        <td id=\"T_e808a17a_e3b9_11ea_9c20_525400cc64d1row11_col8\" class=\"data row11 col8\" >0.625570</td>\n",
       "                        <td id=\"T_e808a17a_e3b9_11ea_9c20_525400cc64d1row11_col9\" class=\"data row11 col9\" >0.813710</td>\n",
       "                        <td id=\"T_e808a17a_e3b9_11ea_9c20_525400cc64d1row11_col10\" class=\"data row11 col10\" >0.735103</td>\n",
       "                        <td id=\"T_e808a17a_e3b9_11ea_9c20_525400cc64d1row11_col11\" class=\"data row11 col11\" >1.000000</td>\n",
       "                        <td id=\"T_e808a17a_e3b9_11ea_9c20_525400cc64d1row11_col12\" class=\"data row11 col12\" >0.117017</td>\n",
       "                        <td id=\"T_e808a17a_e3b9_11ea_9c20_525400cc64d1row11_col13\" class=\"data row11 col13\" >-0.054484</td>\n",
       "                        <td id=\"T_e808a17a_e3b9_11ea_9c20_525400cc64d1row11_col14\" class=\"data row11 col14\" >0.651310</td>\n",
       "                        <td id=\"T_e808a17a_e3b9_11ea_9c20_525400cc64d1row11_col15\" class=\"data row11 col15\" >-0.021140</td>\n",
       "                        <td id=\"T_e808a17a_e3b9_11ea_9c20_525400cc64d1row11_col16\" class=\"data row11 col16\" >0.652527</td>\n",
       "            </tr>\n",
       "            <tr>\n",
       "                        <th id=\"T_e808a17a_e3b9_11ea_9c20_525400cc64d1level0_row12\" class=\"row_heading level0 row12\" >International_movement_restrictions</th>\n",
       "                        <td id=\"T_e808a17a_e3b9_11ea_9c20_525400cc64d1row12_col0\" class=\"data row12 col0\" >0.257432</td>\n",
       "                        <td id=\"T_e808a17a_e3b9_11ea_9c20_525400cc64d1row12_col1\" class=\"data row12 col1\" >-0.001327</td>\n",
       "                        <td id=\"T_e808a17a_e3b9_11ea_9c20_525400cc64d1row12_col2\" class=\"data row12 col2\" >-0.060877</td>\n",
       "                        <td id=\"T_e808a17a_e3b9_11ea_9c20_525400cc64d1row12_col3\" class=\"data row12 col3\" >0.249467</td>\n",
       "                        <td id=\"T_e808a17a_e3b9_11ea_9c20_525400cc64d1row12_col4\" class=\"data row12 col4\" >0.070089</td>\n",
       "                        <td id=\"T_e808a17a_e3b9_11ea_9c20_525400cc64d1row12_col5\" class=\"data row12 col5\" >0.312800</td>\n",
       "                        <td id=\"T_e808a17a_e3b9_11ea_9c20_525400cc64d1row12_col6\" class=\"data row12 col6\" >0.067177</td>\n",
       "                        <td id=\"T_e808a17a_e3b9_11ea_9c20_525400cc64d1row12_col7\" class=\"data row12 col7\" >-0.017883</td>\n",
       "                        <td id=\"T_e808a17a_e3b9_11ea_9c20_525400cc64d1row12_col8\" class=\"data row12 col8\" >0.157468</td>\n",
       "                        <td id=\"T_e808a17a_e3b9_11ea_9c20_525400cc64d1row12_col9\" class=\"data row12 col9\" >0.118969</td>\n",
       "                        <td id=\"T_e808a17a_e3b9_11ea_9c20_525400cc64d1row12_col10\" class=\"data row12 col10\" >0.222415</td>\n",
       "                        <td id=\"T_e808a17a_e3b9_11ea_9c20_525400cc64d1row12_col11\" class=\"data row12 col11\" >0.117017</td>\n",
       "                        <td id=\"T_e808a17a_e3b9_11ea_9c20_525400cc64d1row12_col12\" class=\"data row12 col12\" >1.000000</td>\n",
       "                        <td id=\"T_e808a17a_e3b9_11ea_9c20_525400cc64d1row12_col13\" class=\"data row12 col13\" >0.045162</td>\n",
       "                        <td id=\"T_e808a17a_e3b9_11ea_9c20_525400cc64d1row12_col14\" class=\"data row12 col14\" >0.099562</td>\n",
       "                        <td id=\"T_e808a17a_e3b9_11ea_9c20_525400cc64d1row12_col15\" class=\"data row12 col15\" >0.043941</td>\n",
       "                        <td id=\"T_e808a17a_e3b9_11ea_9c20_525400cc64d1row12_col16\" class=\"data row12 col16\" >0.442737</td>\n",
       "            </tr>\n",
       "            <tr>\n",
       "                        <th id=\"T_e808a17a_e3b9_11ea_9c20_525400cc64d1level0_row13\" class=\"row_heading level0 row13\" >Information_campaigns</th>\n",
       "                        <td id=\"T_e808a17a_e3b9_11ea_9c20_525400cc64d1row13_col0\" class=\"data row13 col0\" >-0.026874</td>\n",
       "                        <td id=\"T_e808a17a_e3b9_11ea_9c20_525400cc64d1row13_col1\" class=\"data row13 col1\" >0.003779</td>\n",
       "                        <td id=\"T_e808a17a_e3b9_11ea_9c20_525400cc64d1row13_col2\" class=\"data row13 col2\" >-0.143539</td>\n",
       "                        <td id=\"T_e808a17a_e3b9_11ea_9c20_525400cc64d1row13_col3\" class=\"data row13 col3\" >-0.208132</td>\n",
       "                        <td id=\"T_e808a17a_e3b9_11ea_9c20_525400cc64d1row13_col4\" class=\"data row13 col4\" >-0.182419</td>\n",
       "                        <td id=\"T_e808a17a_e3b9_11ea_9c20_525400cc64d1row13_col5\" class=\"data row13 col5\" >-0.072898</td>\n",
       "                        <td id=\"T_e808a17a_e3b9_11ea_9c20_525400cc64d1row13_col6\" class=\"data row13 col6\" >-0.031383</td>\n",
       "                        <td id=\"T_e808a17a_e3b9_11ea_9c20_525400cc64d1row13_col7\" class=\"data row13 col7\" >-0.028239</td>\n",
       "                        <td id=\"T_e808a17a_e3b9_11ea_9c20_525400cc64d1row13_col8\" class=\"data row13 col8\" >0.059622</td>\n",
       "                        <td id=\"T_e808a17a_e3b9_11ea_9c20_525400cc64d1row13_col9\" class=\"data row13 col9\" >-0.136139</td>\n",
       "                        <td id=\"T_e808a17a_e3b9_11ea_9c20_525400cc64d1row13_col10\" class=\"data row13 col10\" >0.063698</td>\n",
       "                        <td id=\"T_e808a17a_e3b9_11ea_9c20_525400cc64d1row13_col11\" class=\"data row13 col11\" >-0.054484</td>\n",
       "                        <td id=\"T_e808a17a_e3b9_11ea_9c20_525400cc64d1row13_col12\" class=\"data row13 col12\" >0.045162</td>\n",
       "                        <td id=\"T_e808a17a_e3b9_11ea_9c20_525400cc64d1row13_col13\" class=\"data row13 col13\" >1.000000</td>\n",
       "                        <td id=\"T_e808a17a_e3b9_11ea_9c20_525400cc64d1row13_col14\" class=\"data row13 col14\" >0.247671</td>\n",
       "                        <td id=\"T_e808a17a_e3b9_11ea_9c20_525400cc64d1row13_col15\" class=\"data row13 col15\" >0.388134</td>\n",
       "                        <td id=\"T_e808a17a_e3b9_11ea_9c20_525400cc64d1row13_col16\" class=\"data row13 col16\" >-0.018084</td>\n",
       "            </tr>\n",
       "            <tr>\n",
       "                        <th id=\"T_e808a17a_e3b9_11ea_9c20_525400cc64d1level0_row14\" class=\"row_heading level0 row14\" >Testing_policy</th>\n",
       "                        <td id=\"T_e808a17a_e3b9_11ea_9c20_525400cc64d1row14_col0\" class=\"data row14 col0\" >0.021359</td>\n",
       "                        <td id=\"T_e808a17a_e3b9_11ea_9c20_525400cc64d1row14_col1\" class=\"data row14 col1\" >-0.398060</td>\n",
       "                        <td id=\"T_e808a17a_e3b9_11ea_9c20_525400cc64d1row14_col2\" class=\"data row14 col2\" >-0.459701</td>\n",
       "                        <td id=\"T_e808a17a_e3b9_11ea_9c20_525400cc64d1row14_col3\" class=\"data row14 col3\" >-0.296650</td>\n",
       "                        <td id=\"T_e808a17a_e3b9_11ea_9c20_525400cc64d1row14_col4\" class=\"data row14 col4\" >-0.498483</td>\n",
       "                        <td id=\"T_e808a17a_e3b9_11ea_9c20_525400cc64d1row14_col5\" class=\"data row14 col5\" >-0.068069</td>\n",
       "                        <td id=\"T_e808a17a_e3b9_11ea_9c20_525400cc64d1row14_col6\" class=\"data row14 col6\" >0.189256</td>\n",
       "                        <td id=\"T_e808a17a_e3b9_11ea_9c20_525400cc64d1row14_col7\" class=\"data row14 col7\" >0.321669</td>\n",
       "                        <td id=\"T_e808a17a_e3b9_11ea_9c20_525400cc64d1row14_col8\" class=\"data row14 col8\" >0.669883</td>\n",
       "                        <td id=\"T_e808a17a_e3b9_11ea_9c20_525400cc64d1row14_col9\" class=\"data row14 col9\" >0.545835</td>\n",
       "                        <td id=\"T_e808a17a_e3b9_11ea_9c20_525400cc64d1row14_col10\" class=\"data row14 col10\" >0.606562</td>\n",
       "                        <td id=\"T_e808a17a_e3b9_11ea_9c20_525400cc64d1row14_col11\" class=\"data row14 col11\" >0.651310</td>\n",
       "                        <td id=\"T_e808a17a_e3b9_11ea_9c20_525400cc64d1row14_col12\" class=\"data row14 col12\" >0.099562</td>\n",
       "                        <td id=\"T_e808a17a_e3b9_11ea_9c20_525400cc64d1row14_col13\" class=\"data row14 col13\" >0.247671</td>\n",
       "                        <td id=\"T_e808a17a_e3b9_11ea_9c20_525400cc64d1row14_col14\" class=\"data row14 col14\" >1.000000</td>\n",
       "                        <td id=\"T_e808a17a_e3b9_11ea_9c20_525400cc64d1row14_col15\" class=\"data row14 col15\" >0.275329</td>\n",
       "                        <td id=\"T_e808a17a_e3b9_11ea_9c20_525400cc64d1row14_col16\" class=\"data row14 col16\" >0.368419</td>\n",
       "            </tr>\n",
       "            <tr>\n",
       "                        <th id=\"T_e808a17a_e3b9_11ea_9c20_525400cc64d1level0_row15\" class=\"row_heading level0 row15\" >Contact_tracing</th>\n",
       "                        <td id=\"T_e808a17a_e3b9_11ea_9c20_525400cc64d1row15_col0\" class=\"data row15 col0\" >-0.019098</td>\n",
       "                        <td id=\"T_e808a17a_e3b9_11ea_9c20_525400cc64d1row15_col1\" class=\"data row15 col1\" >0.020764</td>\n",
       "                        <td id=\"T_e808a17a_e3b9_11ea_9c20_525400cc64d1row15_col2\" class=\"data row15 col2\" >-0.111368</td>\n",
       "                        <td id=\"T_e808a17a_e3b9_11ea_9c20_525400cc64d1row15_col3\" class=\"data row15 col3\" >-0.199667</td>\n",
       "                        <td id=\"T_e808a17a_e3b9_11ea_9c20_525400cc64d1row15_col4\" class=\"data row15 col4\" >-0.191820</td>\n",
       "                        <td id=\"T_e808a17a_e3b9_11ea_9c20_525400cc64d1row15_col5\" class=\"data row15 col5\" >-0.055231</td>\n",
       "                        <td id=\"T_e808a17a_e3b9_11ea_9c20_525400cc64d1row15_col6\" class=\"data row15 col6\" >-0.012915</td>\n",
       "                        <td id=\"T_e808a17a_e3b9_11ea_9c20_525400cc64d1row15_col7\" class=\"data row15 col7\" >-0.035331</td>\n",
       "                        <td id=\"T_e808a17a_e3b9_11ea_9c20_525400cc64d1row15_col8\" class=\"data row15 col8\" >0.061900</td>\n",
       "                        <td id=\"T_e808a17a_e3b9_11ea_9c20_525400cc64d1row15_col9\" class=\"data row15 col9\" >-0.030114</td>\n",
       "                        <td id=\"T_e808a17a_e3b9_11ea_9c20_525400cc64d1row15_col10\" class=\"data row15 col10\" >0.065802</td>\n",
       "                        <td id=\"T_e808a17a_e3b9_11ea_9c20_525400cc64d1row15_col11\" class=\"data row15 col11\" >-0.021140</td>\n",
       "                        <td id=\"T_e808a17a_e3b9_11ea_9c20_525400cc64d1row15_col12\" class=\"data row15 col12\" >0.043941</td>\n",
       "                        <td id=\"T_e808a17a_e3b9_11ea_9c20_525400cc64d1row15_col13\" class=\"data row15 col13\" >0.388134</td>\n",
       "                        <td id=\"T_e808a17a_e3b9_11ea_9c20_525400cc64d1row15_col14\" class=\"data row15 col14\" >0.275329</td>\n",
       "                        <td id=\"T_e808a17a_e3b9_11ea_9c20_525400cc64d1row15_col15\" class=\"data row15 col15\" >1.000000</td>\n",
       "                        <td id=\"T_e808a17a_e3b9_11ea_9c20_525400cc64d1row15_col16\" class=\"data row15 col16\" >-0.017062</td>\n",
       "            </tr>\n",
       "            <tr>\n",
       "                        <th id=\"T_e808a17a_e3b9_11ea_9c20_525400cc64d1level0_row16\" class=\"row_heading level0 row16\" >Stringency_index</th>\n",
       "                        <td id=\"T_e808a17a_e3b9_11ea_9c20_525400cc64d1row16_col0\" class=\"data row16 col0\" >0.246576</td>\n",
       "                        <td id=\"T_e808a17a_e3b9_11ea_9c20_525400cc64d1row16_col1\" class=\"data row16 col1\" >0.252032</td>\n",
       "                        <td id=\"T_e808a17a_e3b9_11ea_9c20_525400cc64d1row16_col2\" class=\"data row16 col2\" >0.102870</td>\n",
       "                        <td id=\"T_e808a17a_e3b9_11ea_9c20_525400cc64d1row16_col3\" class=\"data row16 col3\" >0.105188</td>\n",
       "                        <td id=\"T_e808a17a_e3b9_11ea_9c20_525400cc64d1row16_col4\" class=\"data row16 col4\" >-0.151143</td>\n",
       "                        <td id=\"T_e808a17a_e3b9_11ea_9c20_525400cc64d1row16_col5\" class=\"data row16 col5\" >0.577661</td>\n",
       "                        <td id=\"T_e808a17a_e3b9_11ea_9c20_525400cc64d1row16_col6\" class=\"data row16 col6\" >0.738847</td>\n",
       "                        <td id=\"T_e808a17a_e3b9_11ea_9c20_525400cc64d1row16_col7\" class=\"data row16 col7\" >0.645705</td>\n",
       "                        <td id=\"T_e808a17a_e3b9_11ea_9c20_525400cc64d1row16_col8\" class=\"data row16 col8\" >0.703196</td>\n",
       "                        <td id=\"T_e808a17a_e3b9_11ea_9c20_525400cc64d1row16_col9\" class=\"data row16 col9\" >0.754160</td>\n",
       "                        <td id=\"T_e808a17a_e3b9_11ea_9c20_525400cc64d1row16_col10\" class=\"data row16 col10\" >0.823970</td>\n",
       "                        <td id=\"T_e808a17a_e3b9_11ea_9c20_525400cc64d1row16_col11\" class=\"data row16 col11\" >0.652527</td>\n",
       "                        <td id=\"T_e808a17a_e3b9_11ea_9c20_525400cc64d1row16_col12\" class=\"data row16 col12\" >0.442737</td>\n",
       "                        <td id=\"T_e808a17a_e3b9_11ea_9c20_525400cc64d1row16_col13\" class=\"data row16 col13\" >-0.018084</td>\n",
       "                        <td id=\"T_e808a17a_e3b9_11ea_9c20_525400cc64d1row16_col14\" class=\"data row16 col14\" >0.368419</td>\n",
       "                        <td id=\"T_e808a17a_e3b9_11ea_9c20_525400cc64d1row16_col15\" class=\"data row16 col15\" >-0.017062</td>\n",
       "                        <td id=\"T_e808a17a_e3b9_11ea_9c20_525400cc64d1row16_col16\" class=\"data row16 col16\" >1.000000</td>\n",
       "            </tr>\n",
       "    </tbody></table>"
      ],
      "text/plain": [
       "<pandas.io.formats.style.Styler at 0x7f4da4e7efa0>"
      ]
     },
     "execution_count": 21,
     "metadata": {},
     "output_type": "execute_result"
    }
   ],
   "source": [
    "# Correlation\n",
    "df = track_df.copy()\n",
    "df.corr().style.background_gradient(axis=None)"
   ]
  },
  {
   "cell_type": "code",
   "execution_count": 22,
   "metadata": {
    "collapsed": false
   },
   "outputs": [
    {
     "data": {
      "image/png": "[encoded data removed]",
      "text/plain": [
       "<Figure size 432x288 with 1 Axes>"
      ]
     },
     "metadata": {},
     "output_type": "display_data"
    }
   ],
   "source": [
    "# Scatter plot of Stringency index and Rt\n",
    "df = track_df.copy()\n",
    "sns.scatterplot(data=df, x=\"Stringency_index\", y=\"Rt\", hue=\"Country\", legend=\"brief\", marker=\"+\")\n",
    "bbox_to_anchor=(1.02, 0)\n",
    "bbox_loc=\"lower left\"\n",
    "plt.legend(bbox_to_anchor=bbox_to_anchor, loc=bbox_loc, borderaxespad=0)\n",
    "plt.title(\"Relationship of Stringency index and reproduction number\")\n",
    "plt.ylabel(\"Reproduction number\")\n",
    "plt.xlabel(\"Stringency index\")\n",
    "plt.show()"
   ]
  }
 ],
 "metadata": {
  "kernelspec": {
   "display_name": "Python 3.8.2 64-bit ('.venv': venv)",
   "name": "python_defaultSpec_1597669925034"
  },
  "language_info": {
   "codemirror_mode": {
    "name": "ipython",
    "version": 3
   },
   "file_extension": ".py",
   "mimetype": "text/x-python",
   "name": "python",
   "nbconvert_exporter": "python",
   "pygments_lexer": "ipython3",
   "version": "3.8.2-final"
  }
 },
 "nbformat": 4,
 "nbformat_minor": 4
}
