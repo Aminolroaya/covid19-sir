{
 "cells": [
  {
   "cell_type": "markdown",
   "metadata": {},
   "source": [
    "# Usage (details: policy measures)\n",
    "Here, we will analyse the relationship of policy measures and parameter values of SIR-derived ODE models. Policy measures are tracked by [Oxford Covid-19 Government Response Tracker (OxCGRT)](https://github.com/OxCGRT/covid-policy-tracker)."
   ]
  },
  {
   "cell_type": "markdown",
   "metadata": {},
   "source": [
    "## Preparation"
   ]
  },
  {
   "cell_type": "code",
   "execution_count": 1,
   "metadata": {
    "collapsed": false
   },
   "outputs": [],
   "source": [
    "# Standard users\n",
    "# !pip install covsirphy\n",
    "# Developers (Note: this notebook is in example directory)\n",
    "import os\n",
    "os.chdir(\"../\")"
   ]
  },
  {
   "cell_type": "code",
   "execution_count": 2,
   "metadata": {
    "collapsed": false
   },
   "outputs": [],
   "source": [
    "from pprint import pprint"
   ]
  },
  {
   "cell_type": "code",
   "execution_count": 3,
   "metadata": {
    "collapsed": false
   },
   "outputs": [
    {
     "data": {
      "text/plain": [
       "'2.8.3-alpha.new.224'"
      ]
     },
     "execution_count": 3,
     "metadata": {},
     "output_type": "execute_result"
    }
   ],
   "source": [
    "import covsirphy as cs\n",
    "cs.__version__"
   ]
  },
  {
   "cell_type": "code",
   "execution_count": 4,
   "metadata": {
    "collapsed": false,
    "tags": []
   },
   "outputs": [
    {
     "name": "stdout",
     "output_type": "stream",
     "text": [
      "(Secondary source) Guidotti, E., Ardia, D., (2020), \"COVID-19 Data Hub\", Journal of Open Source Software 5(51):2376, doi: 10.21105/joss.02376.\n",
      "We can get Citation list of primary sources with DataLoader(...).covid19dh_citation"
     ]
    },
    {
     "name": "stdout",
     "output_type": "stream",
     "text": [
      "\n"
     ]
    }
   ],
   "source": [
    "# Standard users and developers\n",
    "data_loader = cs.DataLoader(\"input\")\n",
    "# The number of cases (JHU style)\n",
    "jhu_data = data_loader.jhu(verbose=False)\n",
    "# Population in each country\n",
    "population_data = data_loader.population(verbose=False)\n",
    "# Government Response Tracker (OxCGRT)\n",
    "oxcgrt_data = data_loader.oxcgrt(verbose=False)\n",
    "# Description/citation\n",
    "print(oxcgrt_data.citation)"
   ]
  },
  {
   "cell_type": "markdown",
   "metadata": {},
   "source": [
    "## Class for policy measure analysis\n",
    "We will `PolicyMeasures` class to find relationship of policy measures and parameter values of SIR-derived ODE models."
   ]
  },
  {
   "cell_type": "code",
   "execution_count": 5,
   "metadata": {
    "collapsed": false,
    "tags": []
   },
   "outputs": [
    {
     "data": {
      "text/plain": [
       "184"
      ]
     },
     "execution_count": 5,
     "metadata": {},
     "output_type": "execute_result"
    }
   ],
   "source": [
    "# Create analyser with tau value 360 [min] (can be changed)\n",
    "analyser = cs.PolicyMeasures(jhu_data, population_data, oxcgrt_data, tau=360)\n",
    "# The number of registerd countries\n",
    "len(analyser.countries)"
   ]
  },
  {
   "cell_type": "code",
   "execution_count": 6,
   "metadata": {
    "collapsed": false
   },
   "outputs": [
    {
     "data": {
      "text/plain": [
       "covsirphy.analysis.scenario.Scenario"
      ]
     },
     "execution_count": 6,
     "metadata": {},
     "output_type": "execute_result"
    }
   ],
   "source": [
    "# We can get Scenario instance for detailed scenario analysis\n",
    "type(analyser.scenario(\"Japan\"))"
   ]
  },
  {
   "cell_type": "markdown",
   "metadata": {},
   "source": [
    "## Set phases with S-R trend analysis\n",
    "We will perform S-R trend analysis to set phases in all countries. Countries which do not have **12th phases** will be un-registered for the next analysis. This number will be adjusted for your analysis."
   ]
  },
  {
   "cell_type": "code",
   "execution_count": 7,
   "metadata": {
    "collapsed": false
   },
   "outputs": [
    {
     "name": "stdout",
     "output_type": "stream",
     "text": [
      "{"
     ]
    },
    {
     "name": "stdout",
     "output_type": "stream",
     "text": [
      "3"
     ]
    },
    {
     "name": "stdout",
     "output_type": "stream",
     "text": [
      ": "
     ]
    },
    {
     "name": "stdout",
     "output_type": "stream",
     "text": [
      "['Holy See']"
     ]
    },
    {
     "name": "stdout",
     "output_type": "stream",
     "text": [
      ",\n",
      " "
     ]
    },
    {
     "name": "stdout",
     "output_type": "stream",
     "text": [
      "4"
     ]
    },
    {
     "name": "stdout",
     "output_type": "stream",
     "text": [
      ": "
     ]
    },
    {
     "name": "stdout",
     "output_type": "stream",
     "text": [
      "['Myanmar', 'Hungary', 'Tanzania']"
     ]
    },
    {
     "name": "stdout",
     "output_type": "stream",
     "text": [
      ",\n",
      " "
     ]
    },
    {
     "name": "stdout",
     "output_type": "stream",
     "text": [
      "5"
     ]
    },
    {
     "name": "stdout",
     "output_type": "stream",
     "text": [
      ": "
     ]
    },
    {
     "name": "stdout",
     "output_type": "stream",
     "text": [
      "["
     ]
    },
    {
     "name": "stdout",
     "output_type": "stream",
     "text": [
      "'Papua New Guinea'"
     ]
    },
    {
     "name": "stdout",
     "output_type": "stream",
     "text": [
      ", "
     ]
    },
    {
     "name": "stdout",
     "output_type": "stream",
     "text": [
      "'Jordan'"
     ]
    },
    {
     "name": "stdout",
     "output_type": "stream",
     "text": [
      ", "
     ]
    },
    {
     "name": "stdout",
     "output_type": "stream",
     "text": [
      "'Antigua and Barbuda'"
     ]
    },
    {
     "name": "stdout",
     "output_type": "stream",
     "text": [
      ", "
     ]
    },
    {
     "name": "stdout",
     "output_type": "stream",
     "text": [
      "'Georgia'"
     ]
    },
    {
     "name": "stdout",
     "output_type": "stream",
     "text": [
      ", "
     ]
    },
    {
     "name": "stdout",
     "output_type": "stream",
     "text": [
      "'Grenada'"
     ]
    },
    {
     "name": "stdout",
     "output_type": "stream",
     "text": [
      ",\n",
      "     "
     ]
    },
    {
     "name": "stdout",
     "output_type": "stream",
     "text": [
      "'Brunei'"
     ]
    },
    {
     "name": "stdout",
     "output_type": "stream",
     "text": [
      ", "
     ]
    },
    {
     "name": "stdout",
     "output_type": "stream",
     "text": [
      "'Fiji'"
     ]
    },
    {
     "name": "stdout",
     "output_type": "stream",
     "text": [
      "]"
     ]
    },
    {
     "name": "stdout",
     "output_type": "stream",
     "text": [
      ",\n",
      " "
     ]
    },
    {
     "name": "stdout",
     "output_type": "stream",
     "text": [
      "6"
     ]
    },
    {
     "name": "stdout",
     "output_type": "stream",
     "text": [
      ": "
     ]
    },
    {
     "name": "stdout",
     "output_type": "stream",
     "text": [
      "["
     ]
    },
    {
     "name": "stdout",
     "output_type": "stream",
     "text": [
      "'Seychelles'"
     ]
    },
    {
     "name": "stdout",
     "output_type": "stream",
     "text": [
      ", "
     ]
    },
    {
     "name": "stdout",
     "output_type": "stream",
     "text": [
      "'Equatorial Guinea'"
     ]
    },
    {
     "name": "stdout",
     "output_type": "stream",
     "text": [
      ", "
     ]
    },
    {
     "name": "stdout",
     "output_type": "stream",
     "text": [
      "'Libya'"
     ]
    },
    {
     "name": "stdout",
     "output_type": "stream",
     "text": [
      ", "
     ]
    },
    {
     "name": "stdout",
     "output_type": "stream",
     "text": [
      "'Yemen'"
     ]
    },
    {
     "name": "stdout",
     "output_type": "stream",
     "text": [
      ", "
     ]
    },
    {
     "name": "stdout",
     "output_type": "stream",
     "text": [
      "'Cambodia'"
     ]
    },
    {
     "name": "stdout",
     "output_type": "stream",
     "text": [
      ", "
     ]
    },
    {
     "name": "stdout",
     "output_type": "stream",
     "text": [
      "'Belize'"
     ]
    },
    {
     "name": "stdout",
     "output_type": "stream",
     "text": [
      ",\n",
      "     "
     ]
    },
    {
     "name": "stdout",
     "output_type": "stream",
     "text": [
      "'Ireland'"
     ]
    },
    {
     "name": "stdout",
     "output_type": "stream",
     "text": [
      ", "
     ]
    },
    {
     "name": "stdout",
     "output_type": "stream",
     "text": [
      "'Burundi'"
     ]
    },
    {
     "name": "stdout",
     "output_type": "stream",
     "text": [
      ", "
     ]
    },
    {
     "name": "stdout",
     "output_type": "stream",
     "text": [
      "'Jamaica'"
     ]
    },
    {
     "name": "stdout",
     "output_type": "stream",
     "text": [
      ", "
     ]
    },
    {
     "name": "stdout",
     "output_type": "stream",
     "text": [
      "'Spain'"
     ]
    },
    {
     "name": "stdout",
     "output_type": "stream",
     "text": [
      ", "
     ]
    },
    {
     "name": "stdout",
     "output_type": "stream",
     "text": [
      "'Tunisia'"
     ]
    },
    {
     "name": "stdout",
     "output_type": "stream",
     "text": [
      ", "
     ]
    },
    {
     "name": "stdout",
     "output_type": "stream",
     "text": [
      "'Slovenia'"
     ]
    },
    {
     "name": "stdout",
     "output_type": "stream",
     "text": [
      ", "
     ]
    },
    {
     "name": "stdout",
     "output_type": "stream",
     "text": [
      "'Uganda'"
     ]
    },
    {
     "name": "stdout",
     "output_type": "stream",
     "text": [
      ",\n",
      "     "
     ]
    },
    {
     "name": "stdout",
     "output_type": "stream",
     "text": [
      "'Czech Republic'"
     ]
    },
    {
     "name": "stdout",
     "output_type": "stream",
     "text": [
      ", "
     ]
    },
    {
     "name": "stdout",
     "output_type": "stream",
     "text": [
      "'Dominica'"
     ]
    },
    {
     "name": "stdout",
     "output_type": "stream",
     "text": [
      ", "
     ]
    },
    {
     "name": "stdout",
     "output_type": "stream",
     "text": [
      "'Slovakia'"
     ]
    },
    {
     "name": "stdout",
     "output_type": "stream",
     "text": [
      "]"
     ]
    },
    {
     "name": "stdout",
     "output_type": "stream",
     "text": [
      ",\n",
      " "
     ]
    },
    {
     "name": "stdout",
     "output_type": "stream",
     "text": [
      "7"
     ]
    },
    {
     "name": "stdout",
     "output_type": "stream",
     "text": [
      ": "
     ]
    },
    {
     "name": "stdout",
     "output_type": "stream",
     "text": [
      "["
     ]
    },
    {
     "name": "stdout",
     "output_type": "stream",
     "text": [
      "'Israel'"
     ]
    },
    {
     "name": "stdout",
     "output_type": "stream",
     "text": [
      ", "
     ]
    },
    {
     "name": "stdout",
     "output_type": "stream",
     "text": [
      "'Paraguay'"
     ]
    },
    {
     "name": "stdout",
     "output_type": "stream",
     "text": [
      ", "
     ]
    },
    {
     "name": "stdout",
     "output_type": "stream",
     "text": [
      "'Australia'"
     ]
    },
    {
     "name": "stdout",
     "output_type": "stream",
     "text": [
      ", "
     ]
    },
    {
     "name": "stdout",
     "output_type": "stream",
     "text": [
      "'South Sudan'"
     ]
    },
    {
     "name": "stdout",
     "output_type": "stream",
     "text": [
      ", "
     ]
    },
    {
     "name": "stdout",
     "output_type": "stream",
     "text": [
      "'Mauritius'"
     ]
    },
    {
     "name": "stdout",
     "output_type": "stream",
     "text": [
      ",\n",
      "     "
     ]
    },
    {
     "name": "stdout",
     "output_type": "stream",
     "text": [
      "'San Marino'"
     ]
    },
    {
     "name": "stdout",
     "output_type": "stream",
     "text": [
      ", "
     ]
    },
    {
     "name": "stdout",
     "output_type": "stream",
     "text": [
      "'Trinidad and Tobago'"
     ]
    },
    {
     "name": "stdout",
     "output_type": "stream",
     "text": [
      ", "
     ]
    },
    {
     "name": "stdout",
     "output_type": "stream",
     "text": [
      "'Zimbabwe'"
     ]
    },
    {
     "name": "stdout",
     "output_type": "stream",
     "text": [
      ",\n",
      "     "
     ]
    },
    {
     "name": "stdout",
     "output_type": "stream",
     "text": [
      "'Saint Vincent and the Grenadines'"
     ]
    },
    {
     "name": "stdout",
     "output_type": "stream",
     "text": [
      ", "
     ]
    },
    {
     "name": "stdout",
     "output_type": "stream",
     "text": [
      "'Afghanistan'"
     ]
    },
    {
     "name": "stdout",
     "output_type": "stream",
     "text": [
      ", "
     ]
    },
    {
     "name": "stdout",
     "output_type": "stream",
     "text": [
      "'Andorra'"
     ]
    },
    {
     "name": "stdout",
     "output_type": "stream",
     "text": [
      ",\n",
      "     "
     ]
    },
    {
     "name": "stdout",
     "output_type": "stream",
     "text": [
      "'Guinea-Bissau'"
     ]
    },
    {
     "name": "stdout",
     "output_type": "stream",
     "text": [
      ", "
     ]
    },
    {
     "name": "stdout",
     "output_type": "stream",
     "text": [
      "'Malawi'"
     ]
    },
    {
     "name": "stdout",
     "output_type": "stream",
     "text": [
      ", "
     ]
    },
    {
     "name": "stdout",
     "output_type": "stream",
     "text": [
      "'Kazakhstan'"
     ]
    },
    {
     "name": "stdout",
     "output_type": "stream",
     "text": [
      ", "
     ]
    },
    {
     "name": "stdout",
     "output_type": "stream",
     "text": [
      "'Bahamas'"
     ]
    },
    {
     "name": "stdout",
     "output_type": "stream",
     "text": [
      ", "
     ]
    },
    {
     "name": "stdout",
     "output_type": "stream",
     "text": [
      "'Colombia'"
     ]
    },
    {
     "name": "stdout",
     "output_type": "stream",
     "text": [
      ", "
     ]
    },
    {
     "name": "stdout",
     "output_type": "stream",
     "text": [
      "'Botswana'"
     ]
    },
    {
     "name": "stdout",
     "output_type": "stream",
     "text": [
      ",\n",
      "     "
     ]
    },
    {
     "name": "stdout",
     "output_type": "stream",
     "text": [
      "'New Zealand'"
     ]
    },
    {
     "name": "stdout",
     "output_type": "stream",
     "text": [
      ", "
     ]
    },
    {
     "name": "stdout",
     "output_type": "stream",
     "text": [
      "'Namibia'"
     ]
    },
    {
     "name": "stdout",
     "output_type": "stream",
     "text": [
      ", "
     ]
    },
    {
     "name": "stdout",
     "output_type": "stream",
     "text": [
      "'Nepal'"
     ]
    },
    {
     "name": "stdout",
     "output_type": "stream",
     "text": [
      ", "
     ]
    },
    {
     "name": "stdout",
     "output_type": "stream",
     "text": [
      "'Malta'"
     ]
    },
    {
     "name": "stdout",
     "output_type": "stream",
     "text": [
      ", "
     ]
    },
    {
     "name": "stdout",
     "output_type": "stream",
     "text": [
      "'Lesotho'"
     ]
    },
    {
     "name": "stdout",
     "output_type": "stream",
     "text": [
      ", "
     ]
    },
    {
     "name": "stdout",
     "output_type": "stream",
     "text": [
      "'Lebanon'"
     ]
    },
    {
     "name": "stdout",
     "output_type": "stream",
     "text": [
      ",\n",
      "     "
     ]
    },
    {
     "name": "stdout",
     "output_type": "stream",
     "text": [
      "'Central African Republic'"
     ]
    },
    {
     "name": "stdout",
     "output_type": "stream",
     "text": [
      ", "
     ]
    },
    {
     "name": "stdout",
     "output_type": "stream",
     "text": [
      "'Montenegro'"
     ]
    },
    {
     "name": "stdout",
     "output_type": "stream",
     "text": [
      ", "
     ]
    },
    {
     "name": "stdout",
     "output_type": "stream",
     "text": [
      "'Gambia'"
     ]
    },
    {
     "name": "stdout",
     "output_type": "stream",
     "text": [
      ",\n",
      "     "
     ]
    },
    {
     "name": "stdout",
     "output_type": "stream",
     "text": [
      "'Sao Tome and Principe'"
     ]
    },
    {
     "name": "stdout",
     "output_type": "stream",
     "text": [
      ", "
     ]
    },
    {
     "name": "stdout",
     "output_type": "stream",
     "text": [
      "'Guyana'"
     ]
    },
    {
     "name": "stdout",
     "output_type": "stream",
     "text": [
      ", "
     ]
    },
    {
     "name": "stdout",
     "output_type": "stream",
     "text": [
      "'Netherlands'"
     ]
    },
    {
     "name": "stdout",
     "output_type": "stream",
     "text": [
      "]"
     ]
    },
    {
     "name": "stdout",
     "output_type": "stream",
     "text": [
      ",\n",
      " "
     ]
    },
    {
     "name": "stdout",
     "output_type": "stream",
     "text": [
      "8"
     ]
    },
    {
     "name": "stdout",
     "output_type": "stream",
     "text": [
      ": "
     ]
    },
    {
     "name": "stdout",
     "output_type": "stream",
     "text": [
      "["
     ]
    },
    {
     "name": "stdout",
     "output_type": "stream",
     "text": [
      "'Madagascar'"
     ]
    },
    {
     "name": "stdout",
     "output_type": "stream",
     "text": [
      ", "
     ]
    },
    {
     "name": "stdout",
     "output_type": "stream",
     "text": [
      "'Ethiopia'"
     ]
    },
    {
     "name": "stdout",
     "output_type": "stream",
     "text": [
      ", "
     ]
    },
    {
     "name": "stdout",
     "output_type": "stream",
     "text": [
      "'Kenya'"
     ]
    },
    {
     "name": "stdout",
     "output_type": "stream",
     "text": [
      ", "
     ]
    },
    {
     "name": "stdout",
     "output_type": "stream",
     "text": [
      "'Luxembourg'"
     ]
    },
    {
     "name": "stdout",
     "output_type": "stream",
     "text": [
      ", "
     ]
    },
    {
     "name": "stdout",
     "output_type": "stream",
     "text": [
      "'Vietnam'"
     ]
    },
    {
     "name": "stdout",
     "output_type": "stream",
     "text": [
      ",\n",
      "     "
     ]
    },
    {
     "name": "stdout",
     "output_type": "stream",
     "text": [
      "'Liechtenstein'"
     ]
    },
    {
     "name": "stdout",
     "output_type": "stream",
     "text": [
      ", "
     ]
    },
    {
     "name": "stdout",
     "output_type": "stream",
     "text": [
      "'Croatia'"
     ]
    },
    {
     "name": "stdout",
     "output_type": "stream",
     "text": [
      ", "
     ]
    },
    {
     "name": "stdout",
     "output_type": "stream",
     "text": [
      "'Cyprus'"
     ]
    },
    {
     "name": "stdout",
     "output_type": "stream",
     "text": [
      ", "
     ]
    },
    {
     "name": "stdout",
     "output_type": "stream",
     "text": [
      "'Morocco'"
     ]
    },
    {
     "name": "stdout",
     "output_type": "stream",
     "text": [
      ", "
     ]
    },
    {
     "name": "stdout",
     "output_type": "stream",
     "text": [
      "'Iceland'"
     ]
    },
    {
     "name": "stdout",
     "output_type": "stream",
     "text": [
      ", "
     ]
    },
    {
     "name": "stdout",
     "output_type": "stream",
     "text": [
      "'Eritrea'"
     ]
    },
    {
     "name": "stdout",
     "output_type": "stream",
     "text": [
      ",\n",
      "     "
     ]
    },
    {
     "name": "stdout",
     "output_type": "stream",
     "text": [
      "'Zambia'"
     ]
    },
    {
     "name": "stdout",
     "output_type": "stream",
     "text": [
      ", "
     ]
    },
    {
     "name": "stdout",
     "output_type": "stream",
     "text": [
      "'Saint Lucia'"
     ]
    },
    {
     "name": "stdout",
     "output_type": "stream",
     "text": [
      ", "
     ]
    },
    {
     "name": "stdout",
     "output_type": "stream",
     "text": [
      "'Thailand'"
     ]
    },
    {
     "name": "stdout",
     "output_type": "stream",
     "text": [
      ", "
     ]
    },
    {
     "name": "stdout",
     "output_type": "stream",
     "text": [
      "'Djibouti'"
     ]
    },
    {
     "name": "stdout",
     "output_type": "stream",
     "text": [
      ", "
     ]
    },
    {
     "name": "stdout",
     "output_type": "stream",
     "text": [
      "'Comoros'"
     ]
    },
    {
     "name": "stdout",
     "output_type": "stream",
     "text": [
      ", "
     ]
    },
    {
     "name": "stdout",
     "output_type": "stream",
     "text": [
      "'Kyrgyzstan'"
     ]
    },
    {
     "name": "stdout",
     "output_type": "stream",
     "text": [
      ",\n",
      "     "
     ]
    },
    {
     "name": "stdout",
     "output_type": "stream",
     "text": [
      "'Niger'"
     ]
    },
    {
     "name": "stdout",
     "output_type": "stream",
     "text": [
      ", "
     ]
    },
    {
     "name": "stdout",
     "output_type": "stream",
     "text": [
      "'Angola'"
     ]
    },
    {
     "name": "stdout",
     "output_type": "stream",
     "text": [
      ", "
     ]
    },
    {
     "name": "stdout",
     "output_type": "stream",
     "text": [
      "'Argentina'"
     ]
    },
    {
     "name": "stdout",
     "output_type": "stream",
     "text": [
      ", "
     ]
    },
    {
     "name": "stdout",
     "output_type": "stream",
     "text": [
      "'Mozambique'"
     ]
    },
    {
     "name": "stdout",
     "output_type": "stream",
     "text": [
      ", "
     ]
    },
    {
     "name": "stdout",
     "output_type": "stream",
     "text": [
      "'Sudan'"
     ]
    },
    {
     "name": "stdout",
     "output_type": "stream",
     "text": [
      ", "
     ]
    },
    {
     "name": "stdout",
     "output_type": "stream",
     "text": [
      "'Monaco'"
     ]
    },
    {
     "name": "stdout",
     "output_type": "stream",
     "text": [
      ",\n",
      "     "
     ]
    },
    {
     "name": "stdout",
     "output_type": "stream",
     "text": [
      "'Palestine'"
     ]
    },
    {
     "name": "stdout",
     "output_type": "stream",
     "text": [
      ", "
     ]
    },
    {
     "name": "stdout",
     "output_type": "stream",
     "text": [
      "'Lithuania'"
     ]
    },
    {
     "name": "stdout",
     "output_type": "stream",
     "text": [
      ", "
     ]
    },
    {
     "name": "stdout",
     "output_type": "stream",
     "text": [
      "'Rwanda'"
     ]
    },
    {
     "name": "stdout",
     "output_type": "stream",
     "text": [
      ", "
     ]
    },
    {
     "name": "stdout",
     "output_type": "stream",
     "text": [
      "'Sri Lanka'"
     ]
    },
    {
     "name": "stdout",
     "output_type": "stream",
     "text": [
      ", "
     ]
    },
    {
     "name": "stdout",
     "output_type": "stream",
     "text": [
      "'Austria'"
     ]
    },
    {
     "name": "stdout",
     "output_type": "stream",
     "text": [
      ", "
     ]
    },
    {
     "name": "stdout",
     "output_type": "stream",
     "text": [
      "'Nicaragua'"
     ]
    },
    {
     "name": "stdout",
     "output_type": "stream",
     "text": [
      ",\n",
      "     "
     ]
    },
    {
     "name": "stdout",
     "output_type": "stream",
     "text": [
      "'Denmark'"
     ]
    },
    {
     "name": "stdout",
     "output_type": "stream",
     "text": [
      "]"
     ]
    },
    {
     "name": "stdout",
     "output_type": "stream",
     "text": [
      ",\n",
      " "
     ]
    },
    {
     "name": "stdout",
     "output_type": "stream",
     "text": [
      "9"
     ]
    },
    {
     "name": "stdout",
     "output_type": "stream",
     "text": [
      ": "
     ]
    },
    {
     "name": "stdout",
     "output_type": "stream",
     "text": [
      "["
     ]
    },
    {
     "name": "stdout",
     "output_type": "stream",
     "text": [
      "'Ukraine'"
     ]
    },
    {
     "name": "stdout",
     "output_type": "stream",
     "text": [
      ", "
     ]
    },
    {
     "name": "stdout",
     "output_type": "stream",
     "text": [
      "'Benin'"
     ]
    },
    {
     "name": "stdout",
     "output_type": "stream",
     "text": [
      ", "
     ]
    },
    {
     "name": "stdout",
     "output_type": "stream",
     "text": [
      "'Barbados'"
     ]
    },
    {
     "name": "stdout",
     "output_type": "stream",
     "text": [
      ", "
     ]
    },
    {
     "name": "stdout",
     "output_type": "stream",
     "text": [
      "'Norway'"
     ]
    },
    {
     "name": "stdout",
     "output_type": "stream",
     "text": [
      ", "
     ]
    },
    {
     "name": "stdout",
     "output_type": "stream",
     "text": [
      "'Japan'"
     ]
    },
    {
     "name": "stdout",
     "output_type": "stream",
     "text": [
      ", "
     ]
    },
    {
     "name": "stdout",
     "output_type": "stream",
     "text": [
      "'Korea, South'"
     ]
    },
    {
     "name": "stdout",
     "output_type": "stream",
     "text": [
      ",\n",
      "     "
     ]
    },
    {
     "name": "stdout",
     "output_type": "stream",
     "text": [
      "'Poland'"
     ]
    },
    {
     "name": "stdout",
     "output_type": "stream",
     "text": [
      ", "
     ]
    },
    {
     "name": "stdout",
     "output_type": "stream",
     "text": [
      "'Costa Rica'"
     ]
    },
    {
     "name": "stdout",
     "output_type": "stream",
     "text": [
      ", "
     ]
    },
    {
     "name": "stdout",
     "output_type": "stream",
     "text": [
      "'Mauritania'"
     ]
    },
    {
     "name": "stdout",
     "output_type": "stream",
     "text": [
      ", "
     ]
    },
    {
     "name": "stdout",
     "output_type": "stream",
     "text": [
      "'Cameroon'"
     ]
    },
    {
     "name": "stdout",
     "output_type": "stream",
     "text": [
      ", "
     ]
    },
    {
     "name": "stdout",
     "output_type": "stream",
     "text": [
      "'Taiwan'"
     ]
    },
    {
     "name": "stdout",
     "output_type": "stream",
     "text": [
      ", "
     ]
    },
    {
     "name": "stdout",
     "output_type": "stream",
     "text": [
      "'China'"
     ]
    },
    {
     "name": "stdout",
     "output_type": "stream",
     "text": [
      ",\n",
      "     "
     ]
    },
    {
     "name": "stdout",
     "output_type": "stream",
     "text": [
      "'Ghana'"
     ]
    },
    {
     "name": "stdout",
     "output_type": "stream",
     "text": [
      ", "
     ]
    },
    {
     "name": "stdout",
     "output_type": "stream",
     "text": [
      "'Greece'"
     ]
    },
    {
     "name": "stdout",
     "output_type": "stream",
     "text": [
      ", "
     ]
    },
    {
     "name": "stdout",
     "output_type": "stream",
     "text": [
      "'Bhutan'"
     ]
    },
    {
     "name": "stdout",
     "output_type": "stream",
     "text": [
      ", "
     ]
    },
    {
     "name": "stdout",
     "output_type": "stream",
     "text": [
      "'Chad'"
     ]
    },
    {
     "name": "stdout",
     "output_type": "stream",
     "text": [
      ", "
     ]
    },
    {
     "name": "stdout",
     "output_type": "stream",
     "text": [
      "'Philippines'"
     ]
    },
    {
     "name": "stdout",
     "output_type": "stream",
     "text": [
      ", "
     ]
    },
    {
     "name": "stdout",
     "output_type": "stream",
     "text": [
      "'Liberia'"
     ]
    },
    {
     "name": "stdout",
     "output_type": "stream",
     "text": [
      ", "
     ]
    },
    {
     "name": "stdout",
     "output_type": "stream",
     "text": [
      "'India'"
     ]
    },
    {
     "name": "stdout",
     "output_type": "stream",
     "text": [
      ",\n",
      "     "
     ]
    },
    {
     "name": "stdout",
     "output_type": "stream",
     "text": [
      "'Syria'"
     ]
    },
    {
     "name": "stdout",
     "output_type": "stream",
     "text": [
      ", "
     ]
    },
    {
     "name": "stdout",
     "output_type": "stream",
     "text": [
      "'Haiti'"
     ]
    },
    {
     "name": "stdout",
     "output_type": "stream",
     "text": [
      ", "
     ]
    },
    {
     "name": "stdout",
     "output_type": "stream",
     "text": [
      "'Malaysia'"
     ]
    },
    {
     "name": "stdout",
     "output_type": "stream",
     "text": [
      ", "
     ]
    },
    {
     "name": "stdout",
     "output_type": "stream",
     "text": [
      "'Maldives'"
     ]
    },
    {
     "name": "stdout",
     "output_type": "stream",
     "text": [
      ", "
     ]
    },
    {
     "name": "stdout",
     "output_type": "stream",
     "text": [
      "'Bermuda'"
     ]
    },
    {
     "name": "stdout",
     "output_type": "stream",
     "text": [
      ", "
     ]
    },
    {
     "name": "stdout",
     "output_type": "stream",
     "text": [
      "'Qatar'"
     ]
    },
    {
     "name": "stdout",
     "output_type": "stream",
     "text": [
      ", "
     ]
    },
    {
     "name": "stdout",
     "output_type": "stream",
     "text": [
      "'Tajikistan'"
     ]
    },
    {
     "name": "stdout",
     "output_type": "stream",
     "text": [
      ",\n",
      "     "
     ]
    },
    {
     "name": "stdout",
     "output_type": "stream",
     "text": [
      "'Suriname'"
     ]
    },
    {
     "name": "stdout",
     "output_type": "stream",
     "text": [
      ", "
     ]
    },
    {
     "name": "stdout",
     "output_type": "stream",
     "text": [
      "'Mongolia'"
     ]
    },
    {
     "name": "stdout",
     "output_type": "stream",
     "text": [
      ", "
     ]
    },
    {
     "name": "stdout",
     "output_type": "stream",
     "text": [
      "'Ecuador'"
     ]
    },
    {
     "name": "stdout",
     "output_type": "stream",
     "text": [
      ", "
     ]
    },
    {
     "name": "stdout",
     "output_type": "stream",
     "text": [
      "'El Salvador'"
     ]
    },
    {
     "name": "stdout",
     "output_type": "stream",
     "text": [
      ", "
     ]
    },
    {
     "name": "stdout",
     "output_type": "stream",
     "text": [
      "'South Africa'"
     ]
    },
    {
     "name": "stdout",
     "output_type": "stream",
     "text": [
      "]"
     ]
    },
    {
     "name": "stdout",
     "output_type": "stream",
     "text": [
      ",\n",
      " "
     ]
    },
    {
     "name": "stdout",
     "output_type": "stream",
     "text": [
      "10"
     ]
    },
    {
     "name": "stdout",
     "output_type": "stream",
     "text": [
      ": "
     ]
    },
    {
     "name": "stdout",
     "output_type": "stream",
     "text": [
      "["
     ]
    },
    {
     "name": "stdout",
     "output_type": "stream",
     "text": [
      "'Belarus'"
     ]
    },
    {
     "name": "stdout",
     "output_type": "stream",
     "text": [
      ", "
     ]
    },
    {
     "name": "stdout",
     "output_type": "stream",
     "text": [
      "'Belgium'"
     ]
    },
    {
     "name": "stdout",
     "output_type": "stream",
     "text": [
      ", "
     ]
    },
    {
     "name": "stdout",
     "output_type": "stream",
     "text": [
      "'Gabon'"
     ]
    },
    {
     "name": "stdout",
     "output_type": "stream",
     "text": [
      ", "
     ]
    },
    {
     "name": "stdout",
     "output_type": "stream",
     "text": [
      "'Saudi Arabia'"
     ]
    },
    {
     "name": "stdout",
     "output_type": "stream",
     "text": [
      ", "
     ]
    },
    {
     "name": "stdout",
     "output_type": "stream",
     "text": [
      "'Albania'"
     ]
    },
    {
     "name": "stdout",
     "output_type": "stream",
     "text": [
      ", "
     ]
    },
    {
     "name": "stdout",
     "output_type": "stream",
     "text": [
      "'Mali'"
     ]
    },
    {
     "name": "stdout",
     "output_type": "stream",
     "text": [
      ", "
     ]
    },
    {
     "name": "stdout",
     "output_type": "stream",
     "text": [
      "'Cuba'"
     ]
    },
    {
     "name": "stdout",
     "output_type": "stream",
     "text": [
      ",\n",
      "      "
     ]
    },
    {
     "name": "stdout",
     "output_type": "stream",
     "text": [
      "'Romania'"
     ]
    },
    {
     "name": "stdout",
     "output_type": "stream",
     "text": [
      ", "
     ]
    },
    {
     "name": "stdout",
     "output_type": "stream",
     "text": [
      "'Kosovo'"
     ]
    },
    {
     "name": "stdout",
     "output_type": "stream",
     "text": [
      ", "
     ]
    },
    {
     "name": "stdout",
     "output_type": "stream",
     "text": [
      "'Chile'"
     ]
    },
    {
     "name": "stdout",
     "output_type": "stream",
     "text": [
      ", "
     ]
    },
    {
     "name": "stdout",
     "output_type": "stream",
     "text": [
      "'Somalia'"
     ]
    },
    {
     "name": "stdout",
     "output_type": "stream",
     "text": [
      ", "
     ]
    },
    {
     "name": "stdout",
     "output_type": "stream",
     "text": [
      "'Singapore'"
     ]
    },
    {
     "name": "stdout",
     "output_type": "stream",
     "text": [
      ", "
     ]
    },
    {
     "name": "stdout",
     "output_type": "stream",
     "text": [
      "'Pakistan'"
     ]
    },
    {
     "name": "stdout",
     "output_type": "stream",
     "text": [
      ",\n",
      "      "
     ]
    },
    {
     "name": "stdout",
     "output_type": "stream",
     "text": [
      "'Serbia'"
     ]
    },
    {
     "name": "stdout",
     "output_type": "stream",
     "text": [
      ", "
     ]
    },
    {
     "name": "stdout",
     "output_type": "stream",
     "text": [
      "'Senegal'"
     ]
    },
    {
     "name": "stdout",
     "output_type": "stream",
     "text": [
      ", "
     ]
    },
    {
     "name": "stdout",
     "output_type": "stream",
     "text": [
      "'Azerbaijan'"
     ]
    },
    {
     "name": "stdout",
     "output_type": "stream",
     "text": [
      ", "
     ]
    },
    {
     "name": "stdout",
     "output_type": "stream",
     "text": [
      "'Burkina Faso'"
     ]
    },
    {
     "name": "stdout",
     "output_type": "stream",
     "text": [
      ", "
     ]
    },
    {
     "name": "stdout",
     "output_type": "stream",
     "text": [
      "'Finland'"
     ]
    },
    {
     "name": "stdout",
     "output_type": "stream",
     "text": [
      ", "
     ]
    },
    {
     "name": "stdout",
     "output_type": "stream",
     "text": [
      "'Congo'"
     ]
    },
    {
     "name": "stdout",
     "output_type": "stream",
     "text": [
      ",\n",
      "      "
     ]
    },
    {
     "name": "stdout",
     "output_type": "stream",
     "text": [
      "'Cape Verde'"
     ]
    },
    {
     "name": "stdout",
     "output_type": "stream",
     "text": [
      ", "
     ]
    },
    {
     "name": "stdout",
     "output_type": "stream",
     "text": [
      "'Germany'"
     ]
    },
    {
     "name": "stdout",
     "output_type": "stream",
     "text": [
      ", "
     ]
    },
    {
     "name": "stdout",
     "output_type": "stream",
     "text": [
      "'Portugal'"
     ]
    },
    {
     "name": "stdout",
     "output_type": "stream",
     "text": [
      ", "
     ]
    },
    {
     "name": "stdout",
     "output_type": "stream",
     "text": [
      "'Sierra Leone'"
     ]
    },
    {
     "name": "stdout",
     "output_type": "stream",
     "text": [
      ", "
     ]
    },
    {
     "name": "stdout",
     "output_type": "stream",
     "text": [
      "'Guatemala'"
     ]
    },
    {
     "name": "stdout",
     "output_type": "stream",
     "text": [
      ",\n",
      "      "
     ]
    },
    {
     "name": "stdout",
     "output_type": "stream",
     "text": [
      "'Estonia'"
     ]
    },
    {
     "name": "stdout",
     "output_type": "stream",
     "text": [
      ", "
     ]
    },
    {
     "name": "stdout",
     "output_type": "stream",
     "text": [
      "'Swaziland'"
     ]
    },
    {
     "name": "stdout",
     "output_type": "stream",
     "text": [
      ", "
     ]
    },
    {
     "name": "stdout",
     "output_type": "stream",
     "text": [
      "'Venezuela'"
     ]
    },
    {
     "name": "stdout",
     "output_type": "stream",
     "text": [
      ", "
     ]
    },
    {
     "name": "stdout",
     "output_type": "stream",
     "text": [
      "'Uzbekistan'"
     ]
    },
    {
     "name": "stdout",
     "output_type": "stream",
     "text": [
      ", "
     ]
    },
    {
     "name": "stdout",
     "output_type": "stream",
     "text": [
      "'Indonesia'"
     ]
    },
    {
     "name": "stdout",
     "output_type": "stream",
     "text": [
      ", "
     ]
    },
    {
     "name": "stdout",
     "output_type": "stream",
     "text": [
      "'Canada'"
     ]
    },
    {
     "name": "stdout",
     "output_type": "stream",
     "text": [
      ",\n",
      "      "
     ]
    },
    {
     "name": "stdout",
     "output_type": "stream",
     "text": [
      "'Uruguay'"
     ]
    },
    {
     "name": "stdout",
     "output_type": "stream",
     "text": [
      ", "
     ]
    },
    {
     "name": "stdout",
     "output_type": "stream",
     "text": [
      "'Oman'"
     ]
    },
    {
     "name": "stdout",
     "output_type": "stream",
     "text": [
      "]"
     ]
    },
    {
     "name": "stdout",
     "output_type": "stream",
     "text": [
      ",\n",
      " "
     ]
    },
    {
     "name": "stdout",
     "output_type": "stream",
     "text": [
      "11"
     ]
    },
    {
     "name": "stdout",
     "output_type": "stream",
     "text": [
      ": "
     ]
    },
    {
     "name": "stdout",
     "output_type": "stream",
     "text": [
      "["
     ]
    },
    {
     "name": "stdout",
     "output_type": "stream",
     "text": [
      "'Togo'"
     ]
    },
    {
     "name": "stdout",
     "output_type": "stream",
     "text": [
      ", "
     ]
    },
    {
     "name": "stdout",
     "output_type": "stream",
     "text": [
      "'United Arab Emirates'"
     ]
    },
    {
     "name": "stdout",
     "output_type": "stream",
     "text": [
      ", "
     ]
    },
    {
     "name": "stdout",
     "output_type": "stream",
     "text": [
      "'Switzerland'"
     ]
    },
    {
     "name": "stdout",
     "output_type": "stream",
     "text": [
      ", "
     ]
    },
    {
     "name": "stdout",
     "output_type": "stream",
     "text": [
      "'Guinea'"
     ]
    },
    {
     "name": "stdout",
     "output_type": "stream",
     "text": [
      ", "
     ]
    },
    {
     "name": "stdout",
     "output_type": "stream",
     "text": [
      "'Latvia'"
     ]
    },
    {
     "name": "stdout",
     "output_type": "stream",
     "text": [
      ",\n",
      "      "
     ]
    },
    {
     "name": "stdout",
     "output_type": "stream",
     "text": [
      "'Italy'"
     ]
    },
    {
     "name": "stdout",
     "output_type": "stream",
     "text": [
      ", "
     ]
    },
    {
     "name": "stdout",
     "output_type": "stream",
     "text": [
      "'Honduras'"
     ]
    },
    {
     "name": "stdout",
     "output_type": "stream",
     "text": [
      ", "
     ]
    },
    {
     "name": "stdout",
     "output_type": "stream",
     "text": [
      "'Macedonia'"
     ]
    },
    {
     "name": "stdout",
     "output_type": "stream",
     "text": [
      ", "
     ]
    },
    {
     "name": "stdout",
     "output_type": "stream",
     "text": [
      "'Peru'"
     ]
    },
    {
     "name": "stdout",
     "output_type": "stream",
     "text": [
      ", "
     ]
    },
    {
     "name": "stdout",
     "output_type": "stream",
     "text": [
      "'Moldova'"
     ]
    },
    {
     "name": "stdout",
     "output_type": "stream",
     "text": [
      ", "
     ]
    },
    {
     "name": "stdout",
     "output_type": "stream",
     "text": [
      "'Bangladesh'"
     ]
    },
    {
     "name": "stdout",
     "output_type": "stream",
     "text": [
      ",\n",
      "      "
     ]
    },
    {
     "name": "stdout",
     "output_type": "stream",
     "text": [
      "'Bulgaria'"
     ]
    },
    {
     "name": "stdout",
     "output_type": "stream",
     "text": [
      ", "
     ]
    },
    {
     "name": "stdout",
     "output_type": "stream",
     "text": [
      "'Panama'"
     ]
    },
    {
     "name": "stdout",
     "output_type": "stream",
     "text": [
      ", "
     ]
    },
    {
     "name": "stdout",
     "output_type": "stream",
     "text": [
      "'Algeria'"
     ]
    },
    {
     "name": "stdout",
     "output_type": "stream",
     "text": [
      ", "
     ]
    },
    {
     "name": "stdout",
     "output_type": "stream",
     "text": [
      "'Iraq'"
     ]
    },
    {
     "name": "stdout",
     "output_type": "stream",
     "text": [
      ", "
     ]
    },
    {
     "name": "stdout",
     "output_type": "stream",
     "text": [
      "'Egypt'"
     ]
    },
    {
     "name": "stdout",
     "output_type": "stream",
     "text": [
      "]"
     ]
    },
    {
     "name": "stdout",
     "output_type": "stream",
     "text": [
      ",\n",
      " "
     ]
    },
    {
     "name": "stdout",
     "output_type": "stream",
     "text": [
      "12"
     ]
    },
    {
     "name": "stdout",
     "output_type": "stream",
     "text": [
      ": "
     ]
    },
    {
     "name": "stdout",
     "output_type": "stream",
     "text": [
      "["
     ]
    },
    {
     "name": "stdout",
     "output_type": "stream",
     "text": [
      "'Armenia'"
     ]
    },
    {
     "name": "stdout",
     "output_type": "stream",
     "text": [
      ", "
     ]
    },
    {
     "name": "stdout",
     "output_type": "stream",
     "text": [
      "'Brazil'"
     ]
    },
    {
     "name": "stdout",
     "output_type": "stream",
     "text": [
      ", "
     ]
    },
    {
     "name": "stdout",
     "output_type": "stream",
     "text": [
      "'Bosnia and Herzegovina'"
     ]
    },
    {
     "name": "stdout",
     "output_type": "stream",
     "text": [
      ", "
     ]
    },
    {
     "name": "stdout",
     "output_type": "stream",
     "text": [
      "'Nigeria'"
     ]
    },
    {
     "name": "stdout",
     "output_type": "stream",
     "text": [
      ", "
     ]
    },
    {
     "name": "stdout",
     "output_type": "stream",
     "text": [
      "'Mexico'"
     ]
    },
    {
     "name": "stdout",
     "output_type": "stream",
     "text": [
      ",\n",
      "      "
     ]
    },
    {
     "name": "stdout",
     "output_type": "stream",
     "text": [
      "'Kuwait'"
     ]
    },
    {
     "name": "stdout",
     "output_type": "stream",
     "text": [
      ", "
     ]
    },
    {
     "name": "stdout",
     "output_type": "stream",
     "text": [
      "'Dominican Republic'"
     ]
    },
    {
     "name": "stdout",
     "output_type": "stream",
     "text": [
      ", "
     ]
    },
    {
     "name": "stdout",
     "output_type": "stream",
     "text": [
      "'Bahrain'"
     ]
    },
    {
     "name": "stdout",
     "output_type": "stream",
     "text": [
      ", "
     ]
    },
    {
     "name": "stdout",
     "output_type": "stream",
     "text": [
      "'United States'"
     ]
    },
    {
     "name": "stdout",
     "output_type": "stream",
     "text": [
      ", "
     ]
    },
    {
     "name": "stdout",
     "output_type": "stream",
     "text": [
      "'France'"
     ]
    },
    {
     "name": "stdout",
     "output_type": "stream",
     "text": [
      ",\n",
      "      "
     ]
    },
    {
     "name": "stdout",
     "output_type": "stream",
     "text": [
      "'Turkey'"
     ]
    },
    {
     "name": "stdout",
     "output_type": "stream",
     "text": [
      "]"
     ]
    },
    {
     "name": "stdout",
     "output_type": "stream",
     "text": [
      ",\n",
      " "
     ]
    },
    {
     "name": "stdout",
     "output_type": "stream",
     "text": [
      "13"
     ]
    },
    {
     "name": "stdout",
     "output_type": "stream",
     "text": [
      ": "
     ]
    },
    {
     "name": "stdout",
     "output_type": "stream",
     "text": [
      "['Russia', 'Iran', 'Bolivia']"
     ]
    },
    {
     "name": "stdout",
     "output_type": "stream",
     "text": [
      "}"
     ]
    },
    {
     "name": "stdout",
     "output_type": "stream",
     "text": [
      "\n"
     ]
    }
   ],
   "source": [
    "# Show the number of phases of all countries\n",
    "analyser.trend()\n",
    "pprint(analyser.phase_len(), compact=True)"
   ]
  },
  {
   "cell_type": "code",
   "execution_count": 8,
   "metadata": {
    "collapsed": false
   },
   "outputs": [
    {
     "data": {
      "text/plain": [
       "14"
      ]
     },
     "execution_count": 8,
     "metadata": {},
     "output_type": "execute_result"
    }
   ],
   "source": [
    "# Set phases with S-R trend analysis\n",
    "analyser.trend(min_len=12)\n",
    "# The number of countries\n",
    "len(analyser.countries)"
   ]
  },
  {
   "cell_type": "code",
   "execution_count": 9,
   "metadata": {
    "collapsed": false,
    "tags": []
   },
   "outputs": [
    {
     "name": "stdout",
     "output_type": "stream",
     "text": [
      "{"
     ]
    },
    {
     "name": "stdout",
     "output_type": "stream",
     "text": [
      "12"
     ]
    },
    {
     "name": "stdout",
     "output_type": "stream",
     "text": [
      ": "
     ]
    },
    {
     "name": "stdout",
     "output_type": "stream",
     "text": [
      "["
     ]
    },
    {
     "name": "stdout",
     "output_type": "stream",
     "text": [
      "'Armenia'"
     ]
    },
    {
     "name": "stdout",
     "output_type": "stream",
     "text": [
      ", "
     ]
    },
    {
     "name": "stdout",
     "output_type": "stream",
     "text": [
      "'Brazil'"
     ]
    },
    {
     "name": "stdout",
     "output_type": "stream",
     "text": [
      ", "
     ]
    },
    {
     "name": "stdout",
     "output_type": "stream",
     "text": [
      "'Bosnia and Herzegovina'"
     ]
    },
    {
     "name": "stdout",
     "output_type": "stream",
     "text": [
      ", "
     ]
    },
    {
     "name": "stdout",
     "output_type": "stream",
     "text": [
      "'Nigeria'"
     ]
    },
    {
     "name": "stdout",
     "output_type": "stream",
     "text": [
      ", "
     ]
    },
    {
     "name": "stdout",
     "output_type": "stream",
     "text": [
      "'Mexico'"
     ]
    },
    {
     "name": "stdout",
     "output_type": "stream",
     "text": [
      ",\n",
      "      "
     ]
    },
    {
     "name": "stdout",
     "output_type": "stream",
     "text": [
      "'Kuwait'"
     ]
    },
    {
     "name": "stdout",
     "output_type": "stream",
     "text": [
      ", "
     ]
    },
    {
     "name": "stdout",
     "output_type": "stream",
     "text": [
      "'Dominican Republic'"
     ]
    },
    {
     "name": "stdout",
     "output_type": "stream",
     "text": [
      ", "
     ]
    },
    {
     "name": "stdout",
     "output_type": "stream",
     "text": [
      "'Bahrain'"
     ]
    },
    {
     "name": "stdout",
     "output_type": "stream",
     "text": [
      ", "
     ]
    },
    {
     "name": "stdout",
     "output_type": "stream",
     "text": [
      "'United States'"
     ]
    },
    {
     "name": "stdout",
     "output_type": "stream",
     "text": [
      ", "
     ]
    },
    {
     "name": "stdout",
     "output_type": "stream",
     "text": [
      "'France'"
     ]
    },
    {
     "name": "stdout",
     "output_type": "stream",
     "text": [
      ",\n",
      "      "
     ]
    },
    {
     "name": "stdout",
     "output_type": "stream",
     "text": [
      "'Turkey'"
     ]
    },
    {
     "name": "stdout",
     "output_type": "stream",
     "text": [
      "]"
     ]
    },
    {
     "name": "stdout",
     "output_type": "stream",
     "text": [
      ",\n",
      " "
     ]
    },
    {
     "name": "stdout",
     "output_type": "stream",
     "text": [
      "13"
     ]
    },
    {
     "name": "stdout",
     "output_type": "stream",
     "text": [
      ": "
     ]
    },
    {
     "name": "stdout",
     "output_type": "stream",
     "text": [
      "['Russia', 'Iran', 'Bolivia']"
     ]
    },
    {
     "name": "stdout",
     "output_type": "stream",
     "text": [
      "}"
     ]
    },
    {
     "name": "stdout",
     "output_type": "stream",
     "text": [
      "\n"
     ]
    }
   ],
   "source": [
    "phase_len_dict = analyser.phase_len()\n",
    "pprint(phase_len_dict, compact=True)"
   ]
  },
  {
   "cell_type": "code",
   "execution_count": 10,
   "metadata": {
    "collapsed": false,
    "tags": []
   },
   "outputs": [
    {
     "data": {
      "text/html": [
       "<div>\n",
       "<style scoped>\n",
       "    .dataframe tbody tr th:only-of-type {\n",
       "        vertical-align: middle;\n",
       "    }\n",
       "\n",
       "    .dataframe tbody tr th {\n",
       "        vertical-align: top;\n",
       "    }\n",
       "\n",
       "    .dataframe thead th {\n",
       "        text-align: right;\n",
       "    }\n",
       "</style>\n",
       "<table border=\"1\" class=\"dataframe\">\n",
       "  <thead>\n",
       "    <tr style=\"text-align: right;\">\n",
       "      <th></th>\n",
       "      <th></th>\n",
       "      <th>Type</th>\n",
       "      <th>Start</th>\n",
       "      <th>End</th>\n",
       "      <th>Population</th>\n",
       "    </tr>\n",
       "    <tr>\n",
       "      <th>Country</th>\n",
       "      <th>Phase</th>\n",
       "      <th></th>\n",
       "      <th></th>\n",
       "      <th></th>\n",
       "      <th></th>\n",
       "    </tr>\n",
       "  </thead>\n",
       "  <tbody>\n",
       "    <tr>\n",
       "      <th rowspan=\"13\" valign=\"top\">Russia</th>\n",
       "      <th>0th</th>\n",
       "      <td>Past</td>\n",
       "      <td>12Feb2020</td>\n",
       "      <td>06May2020</td>\n",
       "      <td>330457362</td>\n",
       "    </tr>\n",
       "    <tr>\n",
       "      <th>1st</th>\n",
       "      <td>Past</td>\n",
       "      <td>07May2020</td>\n",
       "      <td>18May2020</td>\n",
       "      <td>330457362</td>\n",
       "    </tr>\n",
       "    <tr>\n",
       "      <th>2nd</th>\n",
       "      <td>Past</td>\n",
       "      <td>19May2020</td>\n",
       "      <td>29May2020</td>\n",
       "      <td>330457362</td>\n",
       "    </tr>\n",
       "    <tr>\n",
       "      <th>3rd</th>\n",
       "      <td>Past</td>\n",
       "      <td>30May2020</td>\n",
       "      <td>09Jun2020</td>\n",
       "      <td>330457362</td>\n",
       "    </tr>\n",
       "    <tr>\n",
       "      <th>4th</th>\n",
       "      <td>Past</td>\n",
       "      <td>10Jun2020</td>\n",
       "      <td>20Jun2020</td>\n",
       "      <td>330457362</td>\n",
       "    </tr>\n",
       "    <tr>\n",
       "      <th>5th</th>\n",
       "      <td>Past</td>\n",
       "      <td>21Jun2020</td>\n",
       "      <td>03Jul2020</td>\n",
       "      <td>330457362</td>\n",
       "    </tr>\n",
       "    <tr>\n",
       "      <th>6th</th>\n",
       "      <td>Past</td>\n",
       "      <td>04Jul2020</td>\n",
       "      <td>17Jul2020</td>\n",
       "      <td>330457362</td>\n",
       "    </tr>\n",
       "    <tr>\n",
       "      <th>7th</th>\n",
       "      <td>Past</td>\n",
       "      <td>18Jul2020</td>\n",
       "      <td>31Jul2020</td>\n",
       "      <td>330457362</td>\n",
       "    </tr>\n",
       "    <tr>\n",
       "      <th>8th</th>\n",
       "      <td>Past</td>\n",
       "      <td>01Aug2020</td>\n",
       "      <td>16Aug2020</td>\n",
       "      <td>330457362</td>\n",
       "    </tr>\n",
       "    <tr>\n",
       "      <th>9th</th>\n",
       "      <td>Past</td>\n",
       "      <td>17Aug2020</td>\n",
       "      <td>02Sep2020</td>\n",
       "      <td>330457362</td>\n",
       "    </tr>\n",
       "    <tr>\n",
       "      <th>10th</th>\n",
       "      <td>Past</td>\n",
       "      <td>03Sep2020</td>\n",
       "      <td>19Sep2020</td>\n",
       "      <td>330457362</td>\n",
       "    </tr>\n",
       "    <tr>\n",
       "      <th>11th</th>\n",
       "      <td>Past</td>\n",
       "      <td>20Sep2020</td>\n",
       "      <td>02Oct2020</td>\n",
       "      <td>330457362</td>\n",
       "    </tr>\n",
       "    <tr>\n",
       "      <th>12th</th>\n",
       "      <td>Past</td>\n",
       "      <td>03Oct2020</td>\n",
       "      <td>14Oct2020</td>\n",
       "      <td>330457362</td>\n",
       "    </tr>\n",
       "    <tr>\n",
       "      <th rowspan=\"13\" valign=\"top\">Iran</th>\n",
       "      <th>0th</th>\n",
       "      <td>Past</td>\n",
       "      <td>26Feb2020</td>\n",
       "      <td>29Mar2020</td>\n",
       "      <td>81800269</td>\n",
       "    </tr>\n",
       "    <tr>\n",
       "      <th>1st</th>\n",
       "      <td>Past</td>\n",
       "      <td>30Mar2020</td>\n",
       "      <td>17Apr2020</td>\n",
       "      <td>81800269</td>\n",
       "    </tr>\n",
       "    <tr>\n",
       "      <th>2nd</th>\n",
       "      <td>Past</td>\n",
       "      <td>18Apr2020</td>\n",
       "      <td>13May2020</td>\n",
       "      <td>81800269</td>\n",
       "    </tr>\n",
       "    <tr>\n",
       "      <th>3rd</th>\n",
       "      <td>Past</td>\n",
       "      <td>14May2020</td>\n",
       "      <td>31May2020</td>\n",
       "      <td>81800269</td>\n",
       "    </tr>\n",
       "    <tr>\n",
       "      <th>4th</th>\n",
       "      <td>Past</td>\n",
       "      <td>01Jun2020</td>\n",
       "      <td>16Jun2020</td>\n",
       "      <td>81800269</td>\n",
       "    </tr>\n",
       "    <tr>\n",
       "      <th>5th</th>\n",
       "      <td>Past</td>\n",
       "      <td>17Jun2020</td>\n",
       "      <td>01Jul2020</td>\n",
       "      <td>81800269</td>\n",
       "    </tr>\n",
       "    <tr>\n",
       "      <th>6th</th>\n",
       "      <td>Past</td>\n",
       "      <td>02Jul2020</td>\n",
       "      <td>16Jul2020</td>\n",
       "      <td>81800269</td>\n",
       "    </tr>\n",
       "    <tr>\n",
       "      <th>7th</th>\n",
       "      <td>Past</td>\n",
       "      <td>17Jul2020</td>\n",
       "      <td>31Jul2020</td>\n",
       "      <td>81800269</td>\n",
       "    </tr>\n",
       "    <tr>\n",
       "      <th>8th</th>\n",
       "      <td>Past</td>\n",
       "      <td>01Aug2020</td>\n",
       "      <td>16Aug2020</td>\n",
       "      <td>81800269</td>\n",
       "    </tr>\n",
       "    <tr>\n",
       "      <th>9th</th>\n",
       "      <td>Past</td>\n",
       "      <td>17Aug2020</td>\n",
       "      <td>05Sep2020</td>\n",
       "      <td>81800269</td>\n",
       "    </tr>\n",
       "    <tr>\n",
       "      <th>10th</th>\n",
       "      <td>Past</td>\n",
       "      <td>06Sep2020</td>\n",
       "      <td>20Sep2020</td>\n",
       "      <td>81800269</td>\n",
       "    </tr>\n",
       "    <tr>\n",
       "      <th>11th</th>\n",
       "      <td>Past</td>\n",
       "      <td>21Sep2020</td>\n",
       "      <td>02Oct2020</td>\n",
       "      <td>81800269</td>\n",
       "    </tr>\n",
       "    <tr>\n",
       "      <th>12th</th>\n",
       "      <td>Past</td>\n",
       "      <td>03Oct2020</td>\n",
       "      <td>14Oct2020</td>\n",
       "      <td>81800269</td>\n",
       "    </tr>\n",
       "    <tr>\n",
       "      <th rowspan=\"13\" valign=\"top\">Bolivia</th>\n",
       "      <th>0th</th>\n",
       "      <td>Past</td>\n",
       "      <td>01Apr2020</td>\n",
       "      <td>13Jun2020</td>\n",
       "      <td>11353142</td>\n",
       "    </tr>\n",
       "    <tr>\n",
       "      <th>1st</th>\n",
       "      <td>Past</td>\n",
       "      <td>14Jun2020</td>\n",
       "      <td>25Jun2020</td>\n",
       "      <td>11353142</td>\n",
       "    </tr>\n",
       "    <tr>\n",
       "      <th>2nd</th>\n",
       "      <td>Past</td>\n",
       "      <td>26Jun2020</td>\n",
       "      <td>05Jul2020</td>\n",
       "      <td>11353142</td>\n",
       "    </tr>\n",
       "    <tr>\n",
       "      <th>3rd</th>\n",
       "      <td>Past</td>\n",
       "      <td>06Jul2020</td>\n",
       "      <td>14Jul2020</td>\n",
       "      <td>11353142</td>\n",
       "    </tr>\n",
       "    <tr>\n",
       "      <th>4th</th>\n",
       "      <td>Past</td>\n",
       "      <td>15Jul2020</td>\n",
       "      <td>22Jul2020</td>\n",
       "      <td>11353142</td>\n",
       "    </tr>\n",
       "    <tr>\n",
       "      <th>5th</th>\n",
       "      <td>Past</td>\n",
       "      <td>23Jul2020</td>\n",
       "      <td>31Jul2020</td>\n",
       "      <td>11353142</td>\n",
       "    </tr>\n",
       "    <tr>\n",
       "      <th>6th</th>\n",
       "      <td>Past</td>\n",
       "      <td>01Aug2020</td>\n",
       "      <td>09Aug2020</td>\n",
       "      <td>11353142</td>\n",
       "    </tr>\n",
       "    <tr>\n",
       "      <th>7th</th>\n",
       "      <td>Past</td>\n",
       "      <td>10Aug2020</td>\n",
       "      <td>17Aug2020</td>\n",
       "      <td>11353142</td>\n",
       "    </tr>\n",
       "    <tr>\n",
       "      <th>8th</th>\n",
       "      <td>Past</td>\n",
       "      <td>18Aug2020</td>\n",
       "      <td>25Aug2020</td>\n",
       "      <td>11353142</td>\n",
       "    </tr>\n",
       "    <tr>\n",
       "      <th>9th</th>\n",
       "      <td>Past</td>\n",
       "      <td>26Aug2020</td>\n",
       "      <td>02Sep2020</td>\n",
       "      <td>11353142</td>\n",
       "    </tr>\n",
       "    <tr>\n",
       "      <th>10th</th>\n",
       "      <td>Past</td>\n",
       "      <td>03Sep2020</td>\n",
       "      <td>10Sep2020</td>\n",
       "      <td>11353142</td>\n",
       "    </tr>\n",
       "    <tr>\n",
       "      <th>11th</th>\n",
       "      <td>Past</td>\n",
       "      <td>11Sep2020</td>\n",
       "      <td>22Sep2020</td>\n",
       "      <td>11353142</td>\n",
       "    </tr>\n",
       "    <tr>\n",
       "      <th>12th</th>\n",
       "      <td>Past</td>\n",
       "      <td>23Sep2020</td>\n",
       "      <td>14Oct2020</td>\n",
       "      <td>11353142</td>\n",
       "    </tr>\n",
       "  </tbody>\n",
       "</table>\n",
       "</div>"
      ],
      "text/plain": [
       "               Type      Start        End  Population\n",
       "Country Phase                                        \n",
       "Russia  0th    Past  12Feb2020  06May2020   330457362\n",
       "        1st    Past  07May2020  18May2020   330457362\n",
       "        2nd    Past  19May2020  29May2020   330457362\n",
       "        3rd    Past  30May2020  09Jun2020   330457362\n",
       "        4th    Past  10Jun2020  20Jun2020   330457362\n",
       "        5th    Past  21Jun2020  03Jul2020   330457362\n",
       "        6th    Past  04Jul2020  17Jul2020   330457362\n",
       "        7th    Past  18Jul2020  31Jul2020   330457362\n",
       "        8th    Past  01Aug2020  16Aug2020   330457362\n",
       "        9th    Past  17Aug2020  02Sep2020   330457362\n",
       "        10th   Past  03Sep2020  19Sep2020   330457362\n",
       "        11th   Past  20Sep2020  02Oct2020   330457362\n",
       "        12th   Past  03Oct2020  14Oct2020   330457362\n",
       "Iran    0th    Past  26Feb2020  29Mar2020    81800269\n",
       "        1st    Past  30Mar2020  17Apr2020    81800269\n",
       "        2nd    Past  18Apr2020  13May2020    81800269\n",
       "        3rd    Past  14May2020  31May2020    81800269\n",
       "        4th    Past  01Jun2020  16Jun2020    81800269\n",
       "        5th    Past  17Jun2020  01Jul2020    81800269\n",
       "        6th    Past  02Jul2020  16Jul2020    81800269\n",
       "        7th    Past  17Jul2020  31Jul2020    81800269\n",
       "        8th    Past  01Aug2020  16Aug2020    81800269\n",
       "        9th    Past  17Aug2020  05Sep2020    81800269\n",
       "        10th   Past  06Sep2020  20Sep2020    81800269\n",
       "        11th   Past  21Sep2020  02Oct2020    81800269\n",
       "        12th   Past  03Oct2020  14Oct2020    81800269\n",
       "Bolivia 0th    Past  01Apr2020  13Jun2020    11353142\n",
       "        1st    Past  14Jun2020  25Jun2020    11353142\n",
       "        2nd    Past  26Jun2020  05Jul2020    11353142\n",
       "        3rd    Past  06Jul2020  14Jul2020    11353142\n",
       "        4th    Past  15Jul2020  22Jul2020    11353142\n",
       "        5th    Past  23Jul2020  31Jul2020    11353142\n",
       "        6th    Past  01Aug2020  09Aug2020    11353142\n",
       "        7th    Past  10Aug2020  17Aug2020    11353142\n",
       "        8th    Past  18Aug2020  25Aug2020    11353142\n",
       "        9th    Past  26Aug2020  02Sep2020    11353142\n",
       "        10th   Past  03Sep2020  10Sep2020    11353142\n",
       "        11th   Past  11Sep2020  22Sep2020    11353142\n",
       "        12th   Past  23Sep2020  14Oct2020    11353142"
      ]
     },
     "execution_count": 10,
     "metadata": {},
     "output_type": "execute_result"
    }
   ],
   "source": [
    "# Here, only show the countries which have the most phases\n",
    "countries_show = max(phase_len_dict.items(), key=lambda x: x[0])[1]\n",
    "# Show summary\n",
    "analyser.summary(countries=countries_show)"
   ]
  },
  {
   "cell_type": "markdown",
   "metadata": {},
   "source": [
    "## Parameter estimation\n",
    "we will estimate the parameter values with SIR-derived ODE models in each country."
   ]
  },
  {
   "cell_type": "code",
   "execution_count": 11,
   "metadata": {
    "collapsed": false,
    "tags": []
   },
   "outputs": [
    {
     "name": "stdout",
     "output_type": "stream",
     "text": [
      "\n",
      "<SIR-F model: parameter estimation>"
     ]
    },
    {
     "name": "stdout",
     "output_type": "stream",
     "text": [
      "\n"
     ]
    },
    {
     "name": "stdout",
     "output_type": "stream",
     "text": [
      "Running optimization with 4 CPUs..."
     ]
    },
    {
     "name": "stdout",
     "output_type": "stream",
     "text": [
      "\n"
     ]
    },
    {
     "name": "stdout",
     "output_type": "stream",
     "text": [
      "\tTUR,  2nd phase (30Apr2020 - 08May2020): finished 1191 trials in 0 min 35 sec"
     ]
    },
    {
     "name": "stdout",
     "output_type": "stream",
     "text": [
      "\n"
     ]
    },
    {
     "name": "stdout",
     "output_type": "stream",
     "text": [
      "\tBIH, 10th phase (26Sep2020 - 05Oct2020): finished  209 trials in 0 min  5 sec"
     ]
    },
    {
     "name": "stdout",
     "output_type": "stream",
     "text": [
      "\n"
     ]
    },
    {
     "name": "stdout",
     "output_type": "stream",
     "text": [
      "\tKWT, 11th phase (28Sep2020 - 14Oct2020): finished  209 trials in 0 min  5 sec"
     ]
    },
    {
     "name": "stdout",
     "output_type": "stream",
     "text": [
      "\n"
     ]
    },
    {
     "name": "stdout",
     "output_type": "stream",
     "text": [
      "\tARM,  2nd phase (29May2020 - 12Jun2020): finished 1767 trials in 1 min  0 sec"
     ]
    },
    {
     "name": "stdout",
     "output_type": "stream",
     "text": [
      "\n"
     ]
    },
    {
     "name": "stdout",
     "output_type": "stream",
     "text": [
      "\tBRA, 11th phase (25Sep2020 - 14Oct2020): finished 1728 trials in 1 min  0 sec"
     ]
    },
    {
     "name": "stdout",
     "output_type": "stream",
     "text": [
      "\n"
     ]
    },
    {
     "name": "stdout",
     "output_type": "stream",
     "text": [
      "\tDOM,  1st phase (23May2020 - 14Jun2020): finished 1762 trials in 1 min  0 sec"
     ]
    },
    {
     "name": "stdout",
     "output_type": "stream",
     "text": [
      "\n"
     ]
    },
    {
     "name": "stdout",
     "output_type": "stream",
     "text": [
      "\tFRA,  9th phase (10Sep2020 - 17Sep2020): finished  735 trials in 0 min 20 sec"
     ]
    },
    {
     "name": "stdout",
     "output_type": "stream",
     "text": [
      "\n"
     ]
    },
    {
     "name": "stdout",
     "output_type": "stream",
     "text": [
      "\tBOL,  4th phase (15Jul2020 - 22Jul2020): finished 1676 trials in 1 min  0 sec"
     ]
    },
    {
     "name": "stdout",
     "output_type": "stream",
     "text": [
      "\n"
     ]
    },
    {
     "name": "stdout",
     "output_type": "stream",
     "text": [
      "\tBHR,  5th phase (07Jul2020 - 19Jul2020): finished 1663 trials in 1 min  0 sec"
     ]
    },
    {
     "name": "stdout",
     "output_type": "stream",
     "text": [
      "\n"
     ]
    },
    {
     "name": "stdout",
     "output_type": "stream",
     "text": [
      "\tNGA,  7th phase (21Jul2020 - 07Aug2020): finished 1583 trials in 1 min  0 sec"
     ]
    },
    {
     "name": "stdout",
     "output_type": "stream",
     "text": [
      "\n"
     ]
    },
    {
     "name": "stdout",
     "output_type": "stream",
     "text": [
      "\tFRA,  5th phase (29May2020 - 08Jul2020): finished 1552 trials in 1 min  0 sec"
     ]
    },
    {
     "name": "stdout",
     "output_type": "stream",
     "text": [
      "\n"
     ]
    },
    {
     "name": "stdout",
     "output_type": "stream",
     "text": [
      "\tDOM,  4th phase (14Jul2020 - 23Jul2020): finished 1571 trials in 1 min  0 sec"
     ]
    },
    {
     "name": "stdout",
     "output_type": "stream",
     "text": [
      "\n"
     ]
    },
    {
     "name": "stdout",
     "output_type": "stream",
     "text": [
      "\tBRA,  6th phase (31Jul2020 - 10Aug2020): finished 1018 trials in 0 min 35 sec"
     ]
    },
    {
     "name": "stdout",
     "output_type": "stream",
     "text": [
      "\n"
     ]
    },
    {
     "name": "stdout",
     "output_type": "stream",
     "text": [
      "\tRUS,  4th phase (10Jun2020 - 20Jun2020): finished 1595 trials in 1 min  0 sec"
     ]
    },
    {
     "name": "stdout",
     "output_type": "stream",
     "text": [
      "\n"
     ]
    },
    {
     "name": "stdout",
     "output_type": "stream",
     "text": [
      "\tBHR,  8th phase (22Aug2020 - 05Sep2020): finished 1574 trials in 1 min  0 sec"
     ]
    },
    {
     "name": "stdout",
     "output_type": "stream",
     "text": [
      "\n"
     ]
    },
    {
     "name": "stdout",
     "output_type": "stream",
     "text": [
      "\tTUR,  9th phase (27Aug2020 - 11Sep2020): finished  206 trials in 0 min  5 sec"
     ]
    },
    {
     "name": "stdout",
     "output_type": "stream",
     "text": [
      "\n"
     ]
    },
    {
     "name": "stdout",
     "output_type": "stream",
     "text": [
      "\tIRN,  2nd phase (18Apr2020 - 13May2020): finished  366 trials in 0 min 10 sec"
     ]
    },
    {
     "name": "stdout",
     "output_type": "stream",
     "text": [
      "\n"
     ]
    },
    {
     "name": "stdout",
     "output_type": "stream",
     "text": [
      "\tBRA,  5th phase (22Jul2020 - 30Jul2020): finished 1649 trials in 1 min  0 sec"
     ]
    },
    {
     "name": "stdout",
     "output_type": "stream",
     "text": [
      "\n"
     ]
    },
    {
     "name": "stdout",
     "output_type": "stream",
     "text": [
      "\tNGA, 11th phase (23Sep2020 - 14Oct2020): finished 1361 trials in 0 min 45 sec"
     ]
    },
    {
     "name": "stdout",
     "output_type": "stream",
     "text": [
      "\n"
     ]
    },
    {
     "name": "stdout",
     "output_type": "stream",
     "text": [
      "\tIRN,  4th phase (01Jun2020 - 16Jun2020): finished 1696 trials in 1 min  0 sec"
     ]
    },
    {
     "name": "stdout",
     "output_type": "stream",
     "text": [
      "\n"
     ]
    },
    {
     "name": "stdout",
     "output_type": "stream",
     "text": [
      "\tBHR,  7th phase (06Aug2020 - 21Aug2020): finished 1673 trials in 1 min  0 sec"
     ]
    },
    {
     "name": "stdout",
     "output_type": "stream",
     "text": [
      "\n"
     ]
    },
    {
     "name": "stdout",
     "output_type": "stream",
     "text": [
      "\tARM,  8th phase (01Aug2020 - 18Aug2020): finished  278 trials in 0 min 10 sec"
     ]
    },
    {
     "name": "stdout",
     "output_type": "stream",
     "text": [
      "\n"
     ]
    },
    {
     "name": "stdout",
     "output_type": "stream",
     "text": [
      "\tBHR,  2nd phase (01Jun2020 - 13Jun2020): finished 1277 trials in 1 min  0 sec"
     ]
    },
    {
     "name": "stdout",
     "output_type": "stream",
     "text": [
      "\n"
     ]
    },
    {
     "name": "stdout",
     "output_type": "stream",
     "text": [
      "\tMEX, 11th phase (04Oct2020 - 14Oct2020): finished 1224 trials in 1 min  0 sec"
     ]
    },
    {
     "name": "stdout",
     "output_type": "stream",
     "text": [
      "\n"
     ]
    },
    {
     "name": "stdout",
     "output_type": "stream",
     "text": [
      "\tMEX, 10th phase (23Sep2020 - 03Oct2020): finished  164 trials in 0 min  5 sec"
     ]
    },
    {
     "name": "stdout",
     "output_type": "stream",
     "text": [
      "\n"
     ]
    },
    {
     "name": "stdout",
     "output_type": "stream",
     "text": [
      "\tUSA,  0th phase (09Feb2020 - 04May2020): finished 1155 trials in 1 min  0 sec"
     ]
    },
    {
     "name": "stdout",
     "output_type": "stream",
     "text": [
      "\n"
     ]
    },
    {
     "name": "stdout",
     "output_type": "stream",
     "text": [
      "\tUSA,  2nd phase (04Jun2020 - 24Jun2020): finished 1191 trials in 1 min  0 sec"
     ]
    },
    {
     "name": "stdout",
     "output_type": "stream",
     "text": [
      "\n"
     ]
    },
    {
     "name": "stdout",
     "output_type": "stream",
     "text": [
      "\tMEX,  5th phase (19Jul2020 - 31Jul2020): finished 1331 trials in 1 min  0 sec"
     ]
    },
    {
     "name": "stdout",
     "output_type": "stream",
     "text": [
      "\n"
     ]
    },
    {
     "name": "stdout",
     "output_type": "stream",
     "text": [
      "\tBIH,  3rd phase (24Jul2020 - 01Aug2020): finished 1374 trials in 1 min  0 sec"
     ]
    },
    {
     "name": "stdout",
     "output_type": "stream",
     "text": [
      "\n"
     ]
    },
    {
     "name": "stdout",
     "output_type": "stream",
     "text": [
      "\tKWT,  9th phase (02Sep2020 - 13Sep2020): finished 1379 trials in 1 min  0 sec"
     ]
    },
    {
     "name": "stdout",
     "output_type": "stream",
     "text": [
      "\n"
     ]
    },
    {
     "name": "stdout",
     "output_type": "stream",
     "text": [
      "\tTUR, 11th phase (26Sep2020 - 14Oct2020): finished  146 trials in 0 min  5 sec"
     ]
    },
    {
     "name": "stdout",
     "output_type": "stream",
     "text": [
      "\n"
     ]
    },
    {
     "name": "stdout",
     "output_type": "stream",
     "text": [
      "\tBOL,  7th phase (10Aug2020 - 17Aug2020): finished  272 trials in 0 min 10 sec"
     ]
    },
    {
     "name": "stdout",
     "output_type": "stream",
     "text": [
      "\n"
     ]
    },
    {
     "name": "stdout",
     "output_type": "stream",
     "text": [
      "\tMEX,  7th phase (12Aug2020 - 24Aug2020): finished 1371 trials in 1 min  0 sec"
     ]
    },
    {
     "name": "stdout",
     "output_type": "stream",
     "text": [
      "\n"
     ]
    },
    {
     "name": "stdout",
     "output_type": "stream",
     "text": [
      "\tBOL,  3rd phase (06Jul2020 - 14Jul2020): finished  765 trials in 0 min 30 sec"
     ]
    },
    {
     "name": "stdout",
     "output_type": "stream",
     "text": [
      "\n"
     ]
    },
    {
     "name": "stdout",
     "output_type": "stream",
     "text": [
      "\tUSA,  4th phase (08Jul2020 - 17Jul2020): finished  422 trials in 0 min 15 sec"
     ]
    },
    {
     "name": "stdout",
     "output_type": "stream",
     "text": [
      "\n"
     ]
    },
    {
     "name": "stdout",
     "output_type": "stream",
     "text": [
      "\tMEX,  4th phase (08Jul2020 - 18Jul2020): finished 1313 trials in 1 min  0 sec"
     ]
    },
    {
     "name": "stdout",
     "output_type": "stream",
     "text": [
      "\n"
     ]
    },
    {
     "name": "stdout",
     "output_type": "stream",
     "text": [
      "\tFRA,  0th phase (12Feb2020 - 24Mar2020): finished 1128 trials in 1 min  0 sec"
     ]
    },
    {
     "name": "stdout",
     "output_type": "stream",
     "text": [
      "\n"
     ]
    },
    {
     "name": "stdout",
     "output_type": "stream",
     "text": [
      "\tKWT,  1st phase (13May2020 - 27May2020): finished 1292 trials in 1 min  0 sec"
     ]
    },
    {
     "name": "stdout",
     "output_type": "stream",
     "text": [
      "\n"
     ]
    },
    {
     "name": "stdout",
     "output_type": "stream",
     "text": [
      "\tFRA,  4th phase (05May2020 - 28May2020): finished 1276 trials in 1 min  0 sec"
     ]
    },
    {
     "name": "stdout",
     "output_type": "stream",
     "text": [
      "\n"
     ]
    },
    {
     "name": "stdout",
     "output_type": "stream",
     "text": [
      "\tBIH,  1st phase (21Jun2020 - 14Jul2020): finished 1300 trials in 1 min  0 sec"
     ]
    },
    {
     "name": "stdout",
     "output_type": "stream",
     "text": [
      "\n"
     ]
    },
    {
     "name": "stdout",
     "output_type": "stream",
     "text": [
      "\tRUS,  6th phase (04Jul2020 - 17Jul2020): finished 1295 trials in 1 min  0 sec"
     ]
    },
    {
     "name": "stdout",
     "output_type": "stream",
     "text": [
      "\n"
     ]
    },
    {
     "name": "stdout",
     "output_type": "stream",
     "text": [
      "\tNGA,  2nd phase (07Jun2020 - 17Jun2020): finished  277 trials in 0 min 10 sec"
     ]
    },
    {
     "name": "stdout",
     "output_type": "stream",
     "text": [
      "\n"
     ]
    },
    {
     "name": "stdout",
     "output_type": "stream",
     "text": [
      "\tRUS,  0th phase (12Feb2020 - 06May2020): finished 1309 trials in 1 min  0 sec"
     ]
    },
    {
     "name": "stdout",
     "output_type": "stream",
     "text": [
      "\n"
     ]
    },
    {
     "name": "stdout",
     "output_type": "stream",
     "text": [
      "\tBRA,  1st phase (27May2020 - 13Jun2020): finished 1296 trials in 1 min  0 sec"
     ]
    },
    {
     "name": "stdout",
     "output_type": "stream",
     "text": [
      "\n"
     ]
    },
    {
     "name": "stdout",
     "output_type": "stream",
     "text": [
      "\tKWT, 10th phase (14Sep2020 - 27Sep2020): finished  278 trials in 0 min 10 sec"
     ]
    },
    {
     "name": "stdout",
     "output_type": "stream",
     "text": [
      "\n"
     ]
    },
    {
     "name": "stdout",
     "output_type": "stream",
     "text": [
      "\tBRA,  3rd phase (27Jun2020 - 08Jul2020): finished 1373 trials in 1 min  0 sec"
     ]
    },
    {
     "name": "stdout",
     "output_type": "stream",
     "text": [
      "\n"
     ]
    },
    {
     "name": "stdout",
     "output_type": "stream",
     "text": [
      "\tRUS,  8th phase (01Aug2020 - 16Aug2020): finished 1374 trials in 1 min  0 sec"
     ]
    },
    {
     "name": "stdout",
     "output_type": "stream",
     "text": [
      "\n"
     ]
    },
    {
     "name": "stdout",
     "output_type": "stream",
     "text": [
      "\tIRN,  6th phase (02Jul2020 - 16Jul2020): finished  184 trials in 0 min  5 sec"
     ]
    },
    {
     "name": "stdout",
     "output_type": "stream",
     "text": [
      "\n"
     ]
    },
    {
     "name": "stdout",
     "output_type": "stream",
     "text": [
      "\tMEX,  0th phase (03Mar2020 - 23May2020): finished 1321 trials in 1 min  0 sec"
     ]
    },
    {
     "name": "stdout",
     "output_type": "stream",
     "text": [
      "\n"
     ]
    },
    {
     "name": "stdout",
     "output_type": "stream",
     "text": [
      "\tNGA,  5th phase (05Jul2020 - 12Jul2020): finished  344 trials in 0 min 10 sec"
     ]
    },
    {
     "name": "stdout",
     "output_type": "stream",
     "text": [
      "\n"
     ]
    },
    {
     "name": "stdout",
     "output_type": "stream",
     "text": [
      "\tNGA,  8th phase (08Aug2020 - 17Aug2020): finished 1519 trials in 1 min  0 sec"
     ]
    },
    {
     "name": "stdout",
     "output_type": "stream",
     "text": [
      "\n"
     ]
    },
    {
     "name": "stdout",
     "output_type": "stream",
     "text": [
      "\tNGA, 10th phase (02Sep2020 - 22Sep2020): finished 1485 trials in 1 min  0 sec"
     ]
    },
    {
     "name": "stdout",
     "output_type": "stream",
     "text": [
      "\n"
     ]
    },
    {
     "name": "stdout",
     "output_type": "stream",
     "text": [
      "\tTUR,  3rd phase (09May2020 - 22May2020): finished 1489 trials in 1 min  0 sec"
     ]
    },
    {
     "name": "stdout",
     "output_type": "stream",
     "text": [
      "\n"
     ]
    },
    {
     "name": "stdout",
     "output_type": "stream",
     "text": [
      "\tTUR, 10th phase (12Sep2020 - 25Sep2020): finished  171 trials in 0 min  5 sec"
     ]
    },
    {
     "name": "stdout",
     "output_type": "stream",
     "text": [
      "\n"
     ]
    },
    {
     "name": "stdout",
     "output_type": "stream",
     "text": [
      "\tBRA,  8th phase (20Aug2020 - 29Aug2020): finished 1495 trials in 1 min  0 sec"
     ]
    },
    {
     "name": "stdout",
     "output_type": "stream",
     "text": [
      "\n"
     ]
    },
    {
     "name": "stdout",
     "output_type": "stream",
     "text": [
      "\tUSA,  6th phase (28Jul2020 - 07Aug2020): finished  334 trials in 0 min 10 sec"
     ]
    },
    {
     "name": "stdout",
     "output_type": "stream",
     "text": [
      "\n"
     ]
    },
    {
     "name": "stdout",
     "output_type": "stream",
     "text": [
      "\tDOM,  8th phase (21Aug2020 - 02Sep2020): finished  338 trials in 0 min 10 sec"
     ]
    },
    {
     "name": "stdout",
     "output_type": "stream",
     "text": [
      "\n"
     ]
    },
    {
     "name": "stdout",
     "output_type": "stream",
     "text": [
      "\tARM, 11th phase (03Oct2020 - 14Oct2020): finished  165 trials in 0 min  5 sec"
     ]
    },
    {
     "name": "stdout",
     "output_type": "stream",
     "text": [
      "\n"
     ]
    },
    {
     "name": "stdout",
     "output_type": "stream",
     "text": [
      "\tARM,  5th phase (04Jul2020 - 11Jul2020): finished 1475 trials in 1 min  0 sec"
     ]
    },
    {
     "name": "stdout",
     "output_type": "stream",
     "text": [
      "\n"
     ]
    },
    {
     "name": "stdout",
     "output_type": "stream",
     "text": [
      "\tFRA,  7th phase (06Aug2020 - 25Aug2020): finished  842 trials in 0 min 30 sec"
     ]
    },
    {
     "name": "stdout",
     "output_type": "stream",
     "text": [
      "\n"
     ]
    },
    {
     "name": "stdout",
     "output_type": "stream",
     "text": [
      "\tMEX,  2nd phase (11Jun2020 - 24Jun2020): finished 1471 trials in 1 min  0 sec"
     ]
    },
    {
     "name": "stdout",
     "output_type": "stream",
     "text": [
      "\n"
     ]
    },
    {
     "name": "stdout",
     "output_type": "stream",
     "text": [
      "\tARM,  0th phase (17Mar2020 - 09May2020): finished 1472 trials in 1 min  0 sec"
     ]
    },
    {
     "name": "stdout",
     "output_type": "stream",
     "text": [
      "\n"
     ]
    },
    {
     "name": "stdout",
     "output_type": "stream",
     "text": [
      "\tFRA,  2nd phase (05Apr2020 - 20Apr2020): finished 1504 trials in 1 min  0 sec"
     ]
    },
    {
     "name": "stdout",
     "output_type": "stream",
     "text": [
      "\n"
     ]
    },
    {
     "name": "stdout",
     "output_type": "stream",
     "text": [
      "\tKWT,  5th phase (07Jul2020 - 20Jul2020): finished 1481 trials in 1 min  0 sec"
     ]
    },
    {
     "name": "stdout",
     "output_type": "stream",
     "text": [
      "\n"
     ]
    },
    {
     "name": "stdout",
     "output_type": "stream",
     "text": [
      "\tBRA,  0th phase (16Mar2020 - 26May2020): finished 1415 trials in 1 min  0 sec"
     ]
    },
    {
     "name": "stdout",
     "output_type": "stream",
     "text": [
      "\n"
     ]
    },
    {
     "name": "stdout",
     "output_type": "stream",
     "text": [
      "\tKWT,  0th phase (08Mar2020 - 12May2020): finished 1304 trials in 1 min  0 sec"
     ]
    },
    {
     "name": "stdout",
     "output_type": "stream",
     "text": [
      "\n"
     ]
    },
    {
     "name": "stdout",
     "output_type": "stream",
     "text": [
      "\tIRN,  0th phase (26Feb2020 - 29Mar2020): finished 1498 trials in 1 min  0 sec"
     ]
    },
    {
     "name": "stdout",
     "output_type": "stream",
     "text": [
      "\n"
     ]
    },
    {
     "name": "stdout",
     "output_type": "stream",
     "text": [
      "\tUSA,  9th phase (03Sep2020 - 16Sep2020): finished  891 trials in 0 min 25 sec"
     ]
    },
    {
     "name": "stdout",
     "output_type": "stream",
     "text": [
      "\n"
     ]
    },
    {
     "name": "stdout",
     "output_type": "stream",
     "text": [
      "\tKWT,  7th phase (05Aug2020 - 17Aug2020): finished  219 trials in 0 min  5 sec"
     ]
    },
    {
     "name": "stdout",
     "output_type": "stream",
     "text": [
      "\n"
     ]
    },
    {
     "name": "stdout",
     "output_type": "stream",
     "text": [
      "\tTUR,  8th phase (09Aug2020 - 26Aug2020): finished 1594 trials in 1 min  0 sec"
     ]
    },
    {
     "name": "stdout",
     "output_type": "stream",
     "text": [
      "\n"
     ]
    },
    {
     "name": "stdout",
     "output_type": "stream",
     "text": [
      "\tRUS, 11th phase (20Sep2020 - 02Oct2020): finished 1627 trials in 1 min  0 sec"
     ]
    },
    {
     "name": "stdout",
     "output_type": "stream",
     "text": [
      "\n"
     ]
    },
    {
     "name": "stdout",
     "output_type": "stream",
     "text": [
      "\tBHR,  4th phase (26Jun2020 - 06Jul2020): finished 1533 trials in 1 min  0 sec"
     ]
    },
    {
     "name": "stdout",
     "output_type": "stream",
     "text": [
      "\n"
     ]
    },
    {
     "name": "stdout",
     "output_type": "stream",
     "text": [
      "\tDOM,  6th phase (02Aug2020 - 11Aug2020): finished 1360 trials in 1 min  0 sec"
     ]
    },
    {
     "name": "stdout",
     "output_type": "stream",
     "text": [
      "\n"
     ]
    },
    {
     "name": "stdout",
     "output_type": "stream",
     "text": [
      "\tIRN, 10th phase (06Sep2020 - 20Sep2020): finished 1382 trials in 1 min  0 sec"
     ]
    },
    {
     "name": "stdout",
     "output_type": "stream",
     "text": [
      "\n"
     ]
    },
    {
     "name": "stdout",
     "output_type": "stream",
     "text": [
      "\tKWT,  2nd phase (28May2020 - 07Jun2020): finished 1323 trials in 1 min  0 sec"
     ]
    },
    {
     "name": "stdout",
     "output_type": "stream",
     "text": [
      "\n"
     ]
    },
    {
     "name": "stdout",
     "output_type": "stream",
     "text": [
      "\tKWT,  3rd phase (08Jun2020 - 22Jun2020): finished 1343 trials in 1 min  0 sec"
     ]
    },
    {
     "name": "stdout",
     "output_type": "stream",
     "text": [
      "\n"
     ]
    },
    {
     "name": "stdout",
     "output_type": "stream",
     "text": [
      "\tBOL,  0th phase (01Apr2020 - 13Jun2020): finished 1331 trials in 1 min  0 sec"
     ]
    },
    {
     "name": "stdout",
     "output_type": "stream",
     "text": [
      "\n"
     ]
    },
    {
     "name": "stdout",
     "output_type": "stream",
     "text": [
      "\tBOL,  1st phase (14Jun2020 - 25Jun2020): finished 1386 trials in 1 min  0 sec"
     ]
    },
    {
     "name": "stdout",
     "output_type": "stream",
     "text": [
      "\n"
     ]
    },
    {
     "name": "stdout",
     "output_type": "stream",
     "text": [
      "\tRUS,  1st phase (07May2020 - 18May2020): finished 1345 trials in 1 min  0 sec"
     ]
    },
    {
     "name": "stdout",
     "output_type": "stream",
     "text": [
      "\n"
     ]
    },
    {
     "name": "stdout",
     "output_type": "stream",
     "text": [
      "\tARM,  6th phase (12Jul2020 - 21Jul2020): finished  266 trials in 0 min 10 sec"
     ]
    },
    {
     "name": "stdout",
     "output_type": "stream",
     "text": [
      "\n"
     ]
    },
    {
     "name": "stdout",
     "output_type": "stream",
     "text": [
      "\tFRA, 10th phase (18Sep2020 - 30Sep2020): finished 1113 trials in 0 min 50 sec"
     ]
    },
    {
     "name": "stdout",
     "output_type": "stream",
     "text": [
      "\n"
     ]
    },
    {
     "name": "stdout",
     "output_type": "stream",
     "text": [
      "\tRUS, 10th phase (03Sep2020 - 19Sep2020): finished 1260 trials in 1 min  0 sec"
     ]
    },
    {
     "name": "stdout",
     "output_type": "stream",
     "text": [
      "\n"
     ]
    },
    {
     "name": "stdout",
     "output_type": "stream",
     "text": [
      "\tTUR,  5th phase (14Jun2020 - 28Jun2020): finished 1275 trials in 1 min  0 sec"
     ]
    },
    {
     "name": "stdout",
     "output_type": "stream",
     "text": [
      "\n"
     ]
    },
    {
     "name": "stdout",
     "output_type": "stream",
     "text": [
      "\tBIH,  6th phase (20Aug2020 - 27Aug2020): finished 1320 trials in 1 min  0 sec"
     ]
    },
    {
     "name": "stdout",
     "output_type": "stream",
     "text": [
      "\n"
     ]
    },
    {
     "name": "stdout",
     "output_type": "stream",
     "text": [
      "\tTUR,  4th phase (23May2020 - 13Jun2020): finished  309 trials in 0 min 10 sec"
     ]
    },
    {
     "name": "stdout",
     "output_type": "stream",
     "text": [
      "\n"
     ]
    },
    {
     "name": "stdout",
     "output_type": "stream",
     "text": [
      "\tIRN, 11th phase (21Sep2020 - 02Oct2020): finished  307 trials in 0 min 10 sec"
     ]
    },
    {
     "name": "stdout",
     "output_type": "stream",
     "text": [
      "\n"
     ]
    },
    {
     "name": "stdout",
     "output_type": "stream",
     "text": [
      "\tBIH,  9th phase (17Sep2020 - 25Sep2020): finished 1359 trials in 1 min  0 sec"
     ]
    },
    {
     "name": "stdout",
     "output_type": "stream",
     "text": [
      "\n"
     ]
    },
    {
     "name": "stdout",
     "output_type": "stream",
     "text": [
      "\tDOM,  2nd phase (15Jun2020 - 01Jul2020): finished  291 trials in 0 min 10 sec"
     ]
    },
    {
     "name": "stdout",
     "output_type": "stream",
     "text": [
      "\n"
     ]
    },
    {
     "name": "stdout",
     "output_type": "stream",
     "text": [
      "\tKWT,  6th phase (21Jul2020 - 04Aug2020): finished  166 trials in 0 min  5 sec"
     ]
    },
    {
     "name": "stdout",
     "output_type": "stream",
     "text": [
      "\n"
     ]
    },
    {
     "name": "stdout",
     "output_type": "stream",
     "text": [
      "\tARM,  9th phase (19Aug2020 - 15Sep2020): finished  531 trials in 0 min 20 sec"
     ]
    },
    {
     "name": "stdout",
     "output_type": "stream",
     "text": [
      "\n"
     ]
    },
    {
     "name": "stdout",
     "output_type": "stream",
     "text": [
      "\tUSA,  1st phase (05May2020 - 03Jun2020): finished 1377 trials in 1 min  0 sec"
     ]
    },
    {
     "name": "stdout",
     "output_type": "stream",
     "text": [
      "\n"
     ]
    },
    {
     "name": "stdout",
     "output_type": "stream",
     "text": [
      "\tNGA,  3rd phase (18Jun2020 - 26Jun2020): finished  308 trials in 0 min 10 sec"
     ]
    },
    {
     "name": "stdout",
     "output_type": "stream",
     "text": [
      "\n"
     ]
    },
    {
     "name": "stdout",
     "output_type": "stream",
     "text": [
      "\tDOM,  0th phase (24Mar2020 - 22May2020): finished 1324 trials in 1 min  0 sec"
     ]
    },
    {
     "name": "stdout",
     "output_type": "stream",
     "text": [
      "\n"
     ]
    },
    {
     "name": "stdout",
     "output_type": "stream",
     "text": [
      "\tIRN,  3rd phase (14May2020 - 31May2020): finished  310 trials in 0 min 10 sec"
     ]
    },
    {
     "name": "stdout",
     "output_type": "stream",
     "text": [
      "\n"
     ]
    },
    {
     "name": "stdout",
     "output_type": "stream",
     "text": [
      "\tIRN,  5th phase (17Jun2020 - 01Jul2020): finished 1413 trials in 1 min  0 sec"
     ]
    },
    {
     "name": "stdout",
     "output_type": "stream",
     "text": [
      "\n"
     ]
    },
    {
     "name": "stdout",
     "output_type": "stream",
     "text": [
      "\tUSA,  8th phase (20Aug2020 - 02Sep2020): finished  174 trials in 0 min  5 sec"
     ]
    },
    {
     "name": "stdout",
     "output_type": "stream",
     "text": [
      "\n"
     ]
    },
    {
     "name": "stdout",
     "output_type": "stream",
     "text": [
      "\tARM,  4th phase (21Jun2020 - 03Jul2020): finished 1449 trials in 1 min  0 sec"
     ]
    },
    {
     "name": "stdout",
     "output_type": "stream",
     "text": [
      "\n"
     ]
    },
    {
     "name": "stdout",
     "output_type": "stream",
     "text": [
      "\tFRA,  6th phase (09Jul2020 - 05Aug2020): finished 1387 trials in 1 min  0 sec"
     ]
    },
    {
     "name": "stdout",
     "output_type": "stream",
     "text": [
      "\n"
     ]
    },
    {
     "name": "stdout",
     "output_type": "stream",
     "text": [
      "\tKWT,  4th phase (23Jun2020 - 06Jul2020): finished 1420 trials in 1 min  0 sec"
     ]
    },
    {
     "name": "stdout",
     "output_type": "stream",
     "text": [
      "\n"
     ]
    },
    {
     "name": "stdout",
     "output_type": "stream",
     "text": [
      "\tBOL,  5th phase (23Jul2020 - 31Jul2020): finished  220 trials in 0 min  5 sec"
     ]
    },
    {
     "name": "stdout",
     "output_type": "stream",
     "text": [
      "\n"
     ]
    },
    {
     "name": "stdout",
     "output_type": "stream",
     "text": [
      "\tARM,  7th phase (22Jul2020 - 31Jul2020): finished  220 trials in 0 min  5 sec"
     ]
    },
    {
     "name": "stdout",
     "output_type": "stream",
     "text": [
      "\n"
     ]
    },
    {
     "name": "stdout",
     "output_type": "stream",
     "text": [
      "\tNGA,  0th phase (18Mar2020 - 18May2020): finished 1421 trials in 1 min  0 sec"
     ]
    },
    {
     "name": "stdout",
     "output_type": "stream",
     "text": [
      "\n"
     ]
    },
    {
     "name": "stdout",
     "output_type": "stream",
     "text": [
      "\tFRA,  8th phase (26Aug2020 - 09Sep2020): finished 1733 trials in 1 min  0 sec"
     ]
    },
    {
     "name": "stdout",
     "output_type": "stream",
     "text": [
      "\n"
     ]
    },
    {
     "name": "stdout",
     "output_type": "stream",
     "text": [
      "\tTUR,  0th phase (24Mar2020 - 16Apr2020): finished 1768 trials in 1 min  0 sec"
     ]
    },
    {
     "name": "stdout",
     "output_type": "stream",
     "text": [
      "\n"
     ]
    },
    {
     "name": "stdout",
     "output_type": "stream",
     "text": [
      "\tBOL,  6th phase (01Aug2020 - 09Aug2020): finished  219 trials in 0 min  5 sec"
     ]
    },
    {
     "name": "stdout",
     "output_type": "stream",
     "text": [
      "\n"
     ]
    },
    {
     "name": "stdout",
     "output_type": "stream",
     "text": [
      "\tTUR,  6th phase (29Jun2020 - 17Jul2020): finished  216 trials in 0 min  5 sec"
     ]
    },
    {
     "name": "stdout",
     "output_type": "stream",
     "text": [
      "\n"
     ]
    },
    {
     "name": "stdout",
     "output_type": "stream",
     "text": [
      "\tMEX,  1st phase (24May2020 - 10Jun2020): finished 1790 trials in 1 min  0 sec"
     ]
    },
    {
     "name": "stdout",
     "output_type": "stream",
     "text": [
      "\n"
     ]
    },
    {
     "name": "stdout",
     "output_type": "stream",
     "text": [
      "\tIRN,  9th phase (17Aug2020 - 05Sep2020): finished 1786 trials in 1 min  0 sec"
     ]
    },
    {
     "name": "stdout",
     "output_type": "stream",
     "text": [
      "\n"
     ]
    },
    {
     "name": "stdout",
     "output_type": "stream",
     "text": [
      "\tUSA,  5th phase (18Jul2020 - 27Jul2020): finished  415 trials in 0 min 10 sec"
     ]
    },
    {
     "name": "stdout",
     "output_type": "stream",
     "text": [
      "\n"
     ]
    },
    {
     "name": "stdout",
     "output_type": "stream",
     "text": [
      "\tRUS,  9th phase (17Aug2020 - 02Sep2020): finished 1794 trials in 1 min  0 sec"
     ]
    },
    {
     "name": "stdout",
     "output_type": "stream",
     "text": [
      "\n"
     ]
    },
    {
     "name": "stdout",
     "output_type": "stream",
     "text": [
      "\tBIH,  0th phase (17Mar2020 - 20Jun2020): finished 1731 trials in 1 min  0 sec"
     ]
    },
    {
     "name": "stdout",
     "output_type": "stream",
     "text": [
      "\n"
     ]
    },
    {
     "name": "stdout",
     "output_type": "stream",
     "text": [
      "\tDOM,  9th phase (03Sep2020 - 15Sep2020): finished 1788 trials in 1 min  0 sec"
     ]
    },
    {
     "name": "stdout",
     "output_type": "stream",
     "text": [
      "\n"
     ]
    },
    {
     "name": "stdout",
     "output_type": "stream",
     "text": [
      "\tBHR, 10th phase (17Sep2020 - 27Sep2020): finished  220 trials in 0 min  5 sec"
     ]
    },
    {
     "name": "stdout",
     "output_type": "stream",
     "text": [
      "\n"
     ]
    },
    {
     "name": "stdout",
     "output_type": "stream",
     "text": [
      "\tMEX,  9th phase (08Sep2020 - 22Sep2020): finished 1787 trials in 1 min  0 sec"
     ]
    },
    {
     "name": "stdout",
     "output_type": "stream",
     "text": [
      "\n"
     ]
    },
    {
     "name": "stdout",
     "output_type": "stream",
     "text": [
      "\tBOL, 10th phase (03Sep2020 - 10Sep2020): finished  596 trials in 0 min 15 sec"
     ]
    },
    {
     "name": "stdout",
     "output_type": "stream",
     "text": [
      "\n"
     ]
    },
    {
     "name": "stdout",
     "output_type": "stream",
     "text": [
      "\tBOL, 11th phase (11Sep2020 - 22Sep2020): finished  220 trials in 0 min  5 sec"
     ]
    },
    {
     "name": "stdout",
     "output_type": "stream",
     "text": [
      "\n"
     ]
    },
    {
     "name": "stdout",
     "output_type": "stream",
     "text": [
      "\tUSA, 10th phase (17Sep2020 - 30Sep2020): finished 1188 trials in 0 min 35 sec"
     ]
    },
    {
     "name": "stdout",
     "output_type": "stream",
     "text": [
      "\n"
     ]
    },
    {
     "name": "stdout",
     "output_type": "stream",
     "text": [
      "\tBRA,  7th phase (11Aug2020 - 19Aug2020): finished 1809 trials in 1 min  0 sec"
     ]
    },
    {
     "name": "stdout",
     "output_type": "stream",
     "text": [
      "\n"
     ]
    },
    {
     "name": "stdout",
     "output_type": "stream",
     "text": [
      "\tTUR,  7th phase (18Jul2020 - 08Aug2020): finished  217 trials in 0 min  5 sec"
     ]
    },
    {
     "name": "stdout",
     "output_type": "stream",
     "text": [
      "\n"
     ]
    },
    {
     "name": "stdout",
     "output_type": "stream",
     "text": [
      "\tTUR,  1st phase (17Apr2020 - 29Apr2020): finished 1807 trials in 1 min  0 sec"
     ]
    },
    {
     "name": "stdout",
     "output_type": "stream",
     "text": [
      "\n"
     ]
    },
    {
     "name": "stdout",
     "output_type": "stream",
     "text": [
      "\tMEX,  3rd phase (25Jun2020 - 07Jul2020): finished  758 trials in 0 min 20 sec"
     ]
    },
    {
     "name": "stdout",
     "output_type": "stream",
     "text": [
      "\n"
     ]
    },
    {
     "name": "stdout",
     "output_type": "stream",
     "text": [
      "\tUSA,  7th phase (08Aug2020 - 19Aug2020): finished  588 trials in 0 min 15 sec"
     ]
    },
    {
     "name": "stdout",
     "output_type": "stream",
     "text": [
      "\n"
     ]
    },
    {
     "name": "stdout",
     "output_type": "stream",
     "text": [
      "\tBRA,  2nd phase (14Jun2020 - 26Jun2020): finished 1208 trials in 0 min 35 sec"
     ]
    },
    {
     "name": "stdout",
     "output_type": "stream",
     "text": [
      "\n"
     ]
    },
    {
     "name": "stdout",
     "output_type": "stream",
     "text": [
      "\tMEX,  8th phase (25Aug2020 - 07Sep2020): finished 1664 trials in 1 min  0 sec"
     ]
    },
    {
     "name": "stdout",
     "output_type": "stream",
     "text": [
      "\n"
     ]
    },
    {
     "name": "stdout",
     "output_type": "stream",
     "text": [
      "\tIRN,  1st phase (30Mar2020 - 17Apr2020): finished 1639 trials in 1 min  0 sec"
     ]
    },
    {
     "name": "stdout",
     "output_type": "stream",
     "text": [
      "\n"
     ]
    },
    {
     "name": "stdout",
     "output_type": "stream",
     "text": [
      "\tBIH,  2nd phase (15Jul2020 - 23Jul2020): finished 1236 trials in 0 min 45 sec"
     ]
    },
    {
     "name": "stdout",
     "output_type": "stream",
     "text": [
      "\n"
     ]
    },
    {
     "name": "stdout",
     "output_type": "stream",
     "text": [
      "\tNGA,  6th phase (13Jul2020 - 20Jul2020): finished  332 trials in 0 min 15 sec"
     ]
    },
    {
     "name": "stdout",
     "output_type": "stream",
     "text": [
      "\n"
     ]
    },
    {
     "name": "stdout",
     "output_type": "stream",
     "text": [
      "\tRUS,  7th phase (18Jul2020 - 31Jul2020): finished 1346 trials in 1 min  0 sec"
     ]
    },
    {
     "name": "stdout",
     "output_type": "stream",
     "text": [
      "\n"
     ]
    },
    {
     "name": "stdout",
     "output_type": "stream",
     "text": [
      "\tBOL,  9th phase (26Aug2020 - 02Sep2020): finished  282 trials in 0 min 10 sec"
     ]
    },
    {
     "name": "stdout",
     "output_type": "stream",
     "text": [
      "\n"
     ]
    },
    {
     "name": "stdout",
     "output_type": "stream",
     "text": [
      "\tBRA,  4th phase (09Jul2020 - 21Jul2020): finished 1182 trials in 1 min  0 sec"
     ]
    },
    {
     "name": "stdout",
     "output_type": "stream",
     "text": [
      "\n"
     ]
    },
    {
     "name": "stdout",
     "output_type": "stream",
     "text": [
      "\tARM,  1st phase (10May2020 - 28May2020): finished 1208 trials in 1 min  0 sec"
     ]
    },
    {
     "name": "stdout",
     "output_type": "stream",
     "text": [
      "\n"
     ]
    },
    {
     "name": "stdout",
     "output_type": "stream",
     "text": [
      "\tBIH,  4th phase (02Aug2020 - 10Aug2020): finished 1258 trials in 1 min  0 sec"
     ]
    },
    {
     "name": "stdout",
     "output_type": "stream",
     "text": [
      "\n"
     ]
    },
    {
     "name": "stdout",
     "output_type": "stream",
     "text": [
      "\tBRA,  9th phase (30Aug2020 - 10Sep2020): finished  150 trials in 0 min  5 sec"
     ]
    },
    {
     "name": "stdout",
     "output_type": "stream",
     "text": [
      "\n"
     ]
    },
    {
     "name": "stdout",
     "output_type": "stream",
     "text": [
      "\tFRA,  1st phase (25Mar2020 - 04Apr2020): finished 1313 trials in 1 min  0 sec"
     ]
    },
    {
     "name": "stdout",
     "output_type": "stream",
     "text": [
      "\n"
     ]
    },
    {
     "name": "stdout",
     "output_type": "stream",
     "text": [
      "\tARM, 10th phase (16Sep2020 - 02Oct2020): finished 1386 trials in 1 min  0 sec"
     ]
    },
    {
     "name": "stdout",
     "output_type": "stream",
     "text": [
      "\n"
     ]
    },
    {
     "name": "stdout",
     "output_type": "stream",
     "text": [
      "\tBOL,  2nd phase (26Jun2020 - 05Jul2020): finished  266 trials in 0 min 10 sec"
     ]
    },
    {
     "name": "stdout",
     "output_type": "stream",
     "text": [
      "\n"
     ]
    },
    {
     "name": "stdout",
     "output_type": "stream",
     "text": [
      "\tNGA,  9th phase (18Aug2020 - 01Sep2020): finished 1372 trials in 1 min  0 sec"
     ]
    },
    {
     "name": "stdout",
     "output_type": "stream",
     "text": [
      "\n"
     ]
    },
    {
     "name": "stdout",
     "output_type": "stream",
     "text": [
      "\tBHR,  6th phase (20Jul2020 - 05Aug2020): finished  163 trials in 0 min  5 sec"
     ]
    },
    {
     "name": "stdout",
     "output_type": "stream",
     "text": [
      "\n"
     ]
    },
    {
     "name": "stdout",
     "output_type": "stream",
     "text": [
      "\tNGA,  4th phase (27Jun2020 - 04Jul2020): finished  208 trials in 0 min  5 sec"
     ]
    },
    {
     "name": "stdout",
     "output_type": "stream",
     "text": [
      "\n"
     ]
    },
    {
     "name": "stdout",
     "output_type": "stream",
     "text": [
      "\tBRA, 10th phase (11Sep2020 - 24Sep2020): finished 1457 trials in 1 min  0 sec"
     ]
    },
    {
     "name": "stdout",
     "output_type": "stream",
     "text": [
      "\n"
     ]
    },
    {
     "name": "stdout",
     "output_type": "stream",
     "text": [
      "\tBIH, 11th phase (06Oct2020 - 14Oct2020): finished 1505 trials in 1 min  0 sec"
     ]
    },
    {
     "name": "stdout",
     "output_type": "stream",
     "text": [
      "\n"
     ]
    },
    {
     "name": "stdout",
     "output_type": "stream",
     "text": [
      "\tIRN,  7th phase (17Jul2020 - 31Jul2020): finished  181 trials in 0 min  5 sec"
     ]
    },
    {
     "name": "stdout",
     "output_type": "stream",
     "text": [
      "\n"
     ]
    },
    {
     "name": "stdout",
     "output_type": "stream",
     "text": [
      "\tARM,  3rd phase (13Jun2020 - 20Jun2020): finished 1449 trials in 1 min  0 sec"
     ]
    },
    {
     "name": "stdout",
     "output_type": "stream",
     "text": [
      "\n"
     ]
    },
    {
     "name": "stdout",
     "output_type": "stream",
     "text": [
      "\tNGA,  1st phase (19May2020 - 06Jun2020): finished 1444 trials in 1 min  0 sec"
     ]
    },
    {
     "name": "stdout",
     "output_type": "stream",
     "text": [
      "\n"
     ]
    },
    {
     "name": "stdout",
     "output_type": "stream",
     "text": [
      "\tDOM,  7th phase (12Aug2020 - 20Aug2020): finished  320 trials in 0 min 10 sec"
     ]
    },
    {
     "name": "stdout",
     "output_type": "stream",
     "text": [
      "\n"
     ]
    },
    {
     "name": "stdout",
     "output_type": "stream",
     "text": [
      "\tBIH,  8th phase (08Sep2020 - 16Sep2020): finished 1466 trials in 1 min  0 sec"
     ]
    },
    {
     "name": "stdout",
     "output_type": "stream",
     "text": [
      "\n"
     ]
    },
    {
     "name": "stdout",
     "output_type": "stream",
     "text": [
      "\tBHR,  1st phase (07May2020 - 31May2020): finished 1430 trials in 1 min  0 sec"
     ]
    },
    {
     "name": "stdout",
     "output_type": "stream",
     "text": [
      "\n"
     ]
    },
    {
     "name": "stdout",
     "output_type": "stream",
     "text": [
      "\tBHR,  9th phase (06Sep2020 - 16Sep2020): finished 1449 trials in 1 min  0 sec"
     ]
    },
    {
     "name": "stdout",
     "output_type": "stream",
     "text": [
      "\n"
     ]
    },
    {
     "name": "stdout",
     "output_type": "stream",
     "text": [
      "\tBOL,  8th phase (18Aug2020 - 25Aug2020): finished  639 trials in 0 min 25 sec"
     ]
    },
    {
     "name": "stdout",
     "output_type": "stream",
     "text": [
      "\n"
     ]
    },
    {
     "name": "stdout",
     "output_type": "stream",
     "text": [
      "\tRUS,  2nd phase (19May2020 - 29May2020): finished 1420 trials in 1 min  0 sec"
     ]
    },
    {
     "name": "stdout",
     "output_type": "stream",
     "text": [
      "\n"
     ]
    },
    {
     "name": "stdout",
     "output_type": "stream",
     "text": [
      "\tBIH,  7th phase (28Aug2020 - 07Sep2020): finished  472 trials in 0 min 15 sec"
     ]
    },
    {
     "name": "stdout",
     "output_type": "stream",
     "text": [
      "\n"
     ]
    },
    {
     "name": "stdout",
     "output_type": "stream",
     "text": [
      "\tFRA,  3rd phase (21Apr2020 - 04May2020): finished 1464 trials in 1 min  0 sec"
     ]
    },
    {
     "name": "stdout",
     "output_type": "stream",
     "text": [
      "\n"
     ]
    },
    {
     "name": "stdout",
     "output_type": "stream",
     "text": [
      "\tMEX,  6th phase (01Aug2020 - 11Aug2020): finished  361 trials in 0 min 10 sec"
     ]
    },
    {
     "name": "stdout",
     "output_type": "stream",
     "text": [
      "\n"
     ]
    },
    {
     "name": "stdout",
     "output_type": "stream",
     "text": [
      "\tBHR,  0th phase (06Mar2020 - 06May2020): finished 1570 trials in 1 min  0 sec"
     ]
    },
    {
     "name": "stdout",
     "output_type": "stream",
     "text": [
      "\n"
     ]
    },
    {
     "name": "stdout",
     "output_type": "stream",
     "text": [
      "\tDOM, 10th phase (16Sep2020 - 30Sep2020): finished  334 trials in 0 min 10 sec"
     ]
    },
    {
     "name": "stdout",
     "output_type": "stream",
     "text": [
      "\n"
     ]
    },
    {
     "name": "stdout",
     "output_type": "stream",
     "text": [
      "\tDOM, 11th phase (01Oct2020 - 14Oct2020): finished  336 trials in 0 min 10 sec"
     ]
    },
    {
     "name": "stdout",
     "output_type": "stream",
     "text": [
      "\n"
     ]
    },
    {
     "name": "stdout",
     "output_type": "stream",
     "text": [
      "\tRUS,  3rd phase (30May2020 - 09Jun2020): finished 1590 trials in 1 min  0 sec"
     ]
    },
    {
     "name": "stdout",
     "output_type": "stream",
     "text": [
      "\n"
     ]
    },
    {
     "name": "stdout",
     "output_type": "stream",
     "text": [
      "\tDOM,  3rd phase (02Jul2020 - 13Jul2020): finished 1649 trials in 1 min  0 sec"
     ]
    },
    {
     "name": "stdout",
     "output_type": "stream",
     "text": [
      "\n"
     ]
    },
    {
     "name": "stdout",
     "output_type": "stream",
     "text": [
      "Completed optimization. Total: 30 min 40 sec"
     ]
    },
    {
     "name": "stdout",
     "output_type": "stream",
     "text": [
      "\n"
     ]
    }
   ],
   "source": [
    "# Parameter estimation with SIR-F model\n",
    "analyser.estimate(cs.SIRF)"
   ]
  },
  {
   "cell_type": "code",
   "execution_count": 12,
   "metadata": {
    "collapsed": false
   },
   "outputs": [
    {
     "data": {
      "text/html": [
       "<div>\n",
       "<style scoped>\n",
       "    .dataframe tbody tr th:only-of-type {\n",
       "        vertical-align: middle;\n",
       "    }\n",
       "\n",
       "    .dataframe tbody tr th {\n",
       "        vertical-align: top;\n",
       "    }\n",
       "\n",
       "    .dataframe thead th {\n",
       "        text-align: right;\n",
       "    }\n",
       "</style>\n",
       "<table border=\"1\" class=\"dataframe\">\n",
       "  <thead>\n",
       "    <tr style=\"text-align: right;\">\n",
       "      <th></th>\n",
       "      <th></th>\n",
       "      <th>Type</th>\n",
       "      <th>Start</th>\n",
       "      <th>End</th>\n",
       "      <th>Population</th>\n",
       "      <th>ODE</th>\n",
       "      <th>Rt</th>\n",
       "      <th>theta</th>\n",
       "      <th>kappa</th>\n",
       "      <th>rho</th>\n",
       "      <th>sigma</th>\n",
       "      <th>tau</th>\n",
       "      <th>1/alpha2 [day]</th>\n",
       "      <th>1/beta [day]</th>\n",
       "      <th>1/gamma [day]</th>\n",
       "      <th>alpha1 [-]</th>\n",
       "      <th>RMSLE</th>\n",
       "      <th>Trials</th>\n",
       "      <th>Runtime</th>\n",
       "    </tr>\n",
       "    <tr>\n",
       "      <th>Country</th>\n",
       "      <th>Phase</th>\n",
       "      <th></th>\n",
       "      <th></th>\n",
       "      <th></th>\n",
       "      <th></th>\n",
       "      <th></th>\n",
       "      <th></th>\n",
       "      <th></th>\n",
       "      <th></th>\n",
       "      <th></th>\n",
       "      <th></th>\n",
       "      <th></th>\n",
       "      <th></th>\n",
       "      <th></th>\n",
       "      <th></th>\n",
       "      <th></th>\n",
       "      <th></th>\n",
       "      <th></th>\n",
       "      <th></th>\n",
       "    </tr>\n",
       "  </thead>\n",
       "  <tbody>\n",
       "    <tr>\n",
       "      <th rowspan=\"13\" valign=\"top\">Russia</th>\n",
       "      <th>0th</th>\n",
       "      <td>Past</td>\n",
       "      <td>12Feb2020</td>\n",
       "      <td>06May2020</td>\n",
       "      <td>330457362</td>\n",
       "      <td>SIR-F</td>\n",
       "      <td>0.02</td>\n",
       "      <td>0.602763</td>\n",
       "      <td>0.544883</td>\n",
       "      <td>0.0340813</td>\n",
       "      <td>0.00229851</td>\n",
       "      <td>360</td>\n",
       "      <td>0</td>\n",
       "      <td>7</td>\n",
       "      <td>108</td>\n",
       "      <td>0.603</td>\n",
       "      <td>18.9667</td>\n",
       "      <td>1309</td>\n",
       "      <td>1 min  0 sec</td>\n",
       "    </tr>\n",
       "    <tr>\n",
       "      <th>1st</th>\n",
       "      <td>Past</td>\n",
       "      <td>07May2020</td>\n",
       "      <td>18May2020</td>\n",
       "      <td>330457362</td>\n",
       "      <td>SIR-F</td>\n",
       "      <td>2.85</td>\n",
       "      <td>0.00180556</td>\n",
       "      <td>9.34529e-05</td>\n",
       "      <td>0.0131099</td>\n",
       "      <td>0.00449542</td>\n",
       "      <td>360</td>\n",
       "      <td>2675</td>\n",
       "      <td>19</td>\n",
       "      <td>55</td>\n",
       "      <td>0.002</td>\n",
       "      <td>0.0877508</td>\n",
       "      <td>1345</td>\n",
       "      <td>1 min  0 sec</td>\n",
       "    </tr>\n",
       "    <tr>\n",
       "      <th>2nd</th>\n",
       "      <td>Past</td>\n",
       "      <td>19May2020</td>\n",
       "      <td>29May2020</td>\n",
       "      <td>330457362</td>\n",
       "      <td>SIR-F</td>\n",
       "      <td>1.03</td>\n",
       "      <td>0.000336749</td>\n",
       "      <td>0.000113213</td>\n",
       "      <td>0.00670743</td>\n",
       "      <td>0.00639185</td>\n",
       "      <td>360</td>\n",
       "      <td>2208</td>\n",
       "      <td>37</td>\n",
       "      <td>39</td>\n",
       "      <td>0</td>\n",
       "      <td>0.111343</td>\n",
       "      <td>1420</td>\n",
       "      <td>1 min  0 sec</td>\n",
       "    </tr>\n",
       "    <tr>\n",
       "      <th>3rd</th>\n",
       "      <td>Past</td>\n",
       "      <td>30May2020</td>\n",
       "      <td>09Jun2020</td>\n",
       "      <td>330457362</td>\n",
       "      <td>SIR-F</td>\n",
       "      <td>1.01</td>\n",
       "      <td>0.000448924</td>\n",
       "      <td>9.80633e-05</td>\n",
       "      <td>0.00484494</td>\n",
       "      <td>0.00469437</td>\n",
       "      <td>360</td>\n",
       "      <td>2549</td>\n",
       "      <td>51</td>\n",
       "      <td>53</td>\n",
       "      <td>0</td>\n",
       "      <td>0.0880587</td>\n",
       "      <td>1590</td>\n",
       "      <td>1 min  0 sec</td>\n",
       "    </tr>\n",
       "    <tr>\n",
       "      <th>4th</th>\n",
       "      <td>Past</td>\n",
       "      <td>10Jun2020</td>\n",
       "      <td>20Jun2020</td>\n",
       "      <td>330457362</td>\n",
       "      <td>SIR-F</td>\n",
       "      <td>1.02</td>\n",
       "      <td>0.000869198</td>\n",
       "      <td>7.16857e-05</td>\n",
       "      <td>0.00415179</td>\n",
       "      <td>0.00399612</td>\n",
       "      <td>360</td>\n",
       "      <td>3487</td>\n",
       "      <td>60</td>\n",
       "      <td>62</td>\n",
       "      <td>0.001</td>\n",
       "      <td>0.0684194</td>\n",
       "      <td>1595</td>\n",
       "      <td>1 min  0 sec</td>\n",
       "    </tr>\n",
       "    <tr>\n",
       "      <th>5th</th>\n",
       "      <td>Past</td>\n",
       "      <td>21Jun2020</td>\n",
       "      <td>03Jul2020</td>\n",
       "      <td>330457362</td>\n",
       "      <td>-</td>\n",
       "      <td>-</td>\n",
       "      <td>-</td>\n",
       "      <td>-</td>\n",
       "      <td>-</td>\n",
       "      <td>-</td>\n",
       "      <td>-</td>\n",
       "      <td>-</td>\n",
       "      <td>-</td>\n",
       "      <td>-</td>\n",
       "      <td>-</td>\n",
       "      <td>-</td>\n",
       "      <td>-</td>\n",
       "      <td>-</td>\n",
       "    </tr>\n",
       "    <tr>\n",
       "      <th>6th</th>\n",
       "      <td>Past</td>\n",
       "      <td>04Jul2020</td>\n",
       "      <td>17Jul2020</td>\n",
       "      <td>330457362</td>\n",
       "      <td>SIR-F</td>\n",
       "      <td>0.82</td>\n",
       "      <td>0.0251503</td>\n",
       "      <td>2.41627e-06</td>\n",
       "      <td>0.00220911</td>\n",
       "      <td>0.00261711</td>\n",
       "      <td>360</td>\n",
       "      <td>103465</td>\n",
       "      <td>113</td>\n",
       "      <td>95</td>\n",
       "      <td>0.025</td>\n",
       "      <td>0.06953</td>\n",
       "      <td>1295</td>\n",
       "      <td>1 min  0 sec</td>\n",
       "    </tr>\n",
       "    <tr>\n",
       "      <th>7th</th>\n",
       "      <td>Past</td>\n",
       "      <td>18Jul2020</td>\n",
       "      <td>31Jul2020</td>\n",
       "      <td>330457362</td>\n",
       "      <td>SIR-F</td>\n",
       "      <td>0.76</td>\n",
       "      <td>3.08038e-05</td>\n",
       "      <td>4.07714e-05</td>\n",
       "      <td>0.00183396</td>\n",
       "      <td>0.00237691</td>\n",
       "      <td>360</td>\n",
       "      <td>6131</td>\n",
       "      <td>136</td>\n",
       "      <td>105</td>\n",
       "      <td>0</td>\n",
       "      <td>0.060525</td>\n",
       "      <td>1346</td>\n",
       "      <td>1 min  0 sec</td>\n",
       "    </tr>\n",
       "    <tr>\n",
       "      <th>8th</th>\n",
       "      <td>Past</td>\n",
       "      <td>01Aug2020</td>\n",
       "      <td>16Aug2020</td>\n",
       "      <td>330457362</td>\n",
       "      <td>SIR-F</td>\n",
       "      <td>1.13</td>\n",
       "      <td>0.0223907</td>\n",
       "      <td>1.88817e-06</td>\n",
       "      <td>0.00143307</td>\n",
       "      <td>0.00124059</td>\n",
       "      <td>360</td>\n",
       "      <td>132403</td>\n",
       "      <td>174</td>\n",
       "      <td>201</td>\n",
       "      <td>0.022</td>\n",
       "      <td>0.0444488</td>\n",
       "      <td>1374</td>\n",
       "      <td>1 min  0 sec</td>\n",
       "    </tr>\n",
       "    <tr>\n",
       "      <th>9th</th>\n",
       "      <td>Past</td>\n",
       "      <td>17Aug2020</td>\n",
       "      <td>02Sep2020</td>\n",
       "      <td>330457362</td>\n",
       "      <td>SIR-F</td>\n",
       "      <td>0.81</td>\n",
       "      <td>0.0180826</td>\n",
       "      <td>6.10105e-06</td>\n",
       "      <td>0.00125223</td>\n",
       "      <td>0.00150289</td>\n",
       "      <td>360</td>\n",
       "      <td>40976</td>\n",
       "      <td>199</td>\n",
       "      <td>166</td>\n",
       "      <td>0.018</td>\n",
       "      <td>0.0518301</td>\n",
       "      <td>1794</td>\n",
       "      <td>1 min  0 sec</td>\n",
       "    </tr>\n",
       "    <tr>\n",
       "      <th>10th</th>\n",
       "      <td>Past</td>\n",
       "      <td>03Sep2020</td>\n",
       "      <td>19Sep2020</td>\n",
       "      <td>330457362</td>\n",
       "      <td>SIR-F</td>\n",
       "      <td>0.99</td>\n",
       "      <td>0.00423189</td>\n",
       "      <td>2.37659e-05</td>\n",
       "      <td>0.00127485</td>\n",
       "      <td>0.00125617</td>\n",
       "      <td>360</td>\n",
       "      <td>10519</td>\n",
       "      <td>196</td>\n",
       "      <td>199</td>\n",
       "      <td>0.004</td>\n",
       "      <td>0.043957</td>\n",
       "      <td>1260</td>\n",
       "      <td>1 min  0 sec</td>\n",
       "    </tr>\n",
       "    <tr>\n",
       "      <th>11th</th>\n",
       "      <td>Past</td>\n",
       "      <td>20Sep2020</td>\n",
       "      <td>02Oct2020</td>\n",
       "      <td>330457362</td>\n",
       "      <td>SIR-F</td>\n",
       "      <td>1.42</td>\n",
       "      <td>0.00240359</td>\n",
       "      <td>2.37659e-05</td>\n",
       "      <td>0.00173015</td>\n",
       "      <td>0.00118781</td>\n",
       "      <td>360</td>\n",
       "      <td>10519</td>\n",
       "      <td>144</td>\n",
       "      <td>210</td>\n",
       "      <td>0.002</td>\n",
       "      <td>0.0240811</td>\n",
       "      <td>1627</td>\n",
       "      <td>1 min  0 sec</td>\n",
       "    </tr>\n",
       "    <tr>\n",
       "      <th>12th</th>\n",
       "      <td>Past</td>\n",
       "      <td>03Oct2020</td>\n",
       "      <td>14Oct2020</td>\n",
       "      <td>330457362</td>\n",
       "      <td>-</td>\n",
       "      <td>-</td>\n",
       "      <td>-</td>\n",
       "      <td>-</td>\n",
       "      <td>-</td>\n",
       "      <td>-</td>\n",
       "      <td>-</td>\n",
       "      <td>-</td>\n",
       "      <td>-</td>\n",
       "      <td>-</td>\n",
       "      <td>-</td>\n",
       "      <td>-</td>\n",
       "      <td>-</td>\n",
       "      <td>-</td>\n",
       "    </tr>\n",
       "    <tr>\n",
       "      <th rowspan=\"13\" valign=\"top\">Iran</th>\n",
       "      <th>0th</th>\n",
       "      <td>Past</td>\n",
       "      <td>26Feb2020</td>\n",
       "      <td>29Mar2020</td>\n",
       "      <td>81800269</td>\n",
       "      <td>SIR-F</td>\n",
       "      <td>5.51</td>\n",
       "      <td>0.26389</td>\n",
       "      <td>0.000317872</td>\n",
       "      <td>0.0519398</td>\n",
       "      <td>0.00661935</td>\n",
       "      <td>360</td>\n",
       "      <td>786</td>\n",
       "      <td>4</td>\n",
       "      <td>37</td>\n",
       "      <td>0.264</td>\n",
       "      <td>4.40492</td>\n",
       "      <td>1498</td>\n",
       "      <td>1 min  0 sec</td>\n",
       "    </tr>\n",
       "    <tr>\n",
       "      <th>1st</th>\n",
       "      <td>Past</td>\n",
       "      <td>30Mar2020</td>\n",
       "      <td>17Apr2020</td>\n",
       "      <td>81800269</td>\n",
       "      <td>SIR-F</td>\n",
       "      <td>0.93</td>\n",
       "      <td>0.0435436</td>\n",
       "      <td>0.000554585</td>\n",
       "      <td>0.0187575</td>\n",
       "      <td>0.0186352</td>\n",
       "      <td>360</td>\n",
       "      <td>450</td>\n",
       "      <td>13</td>\n",
       "      <td>13</td>\n",
       "      <td>0.044</td>\n",
       "      <td>0.228236</td>\n",
       "      <td>1639</td>\n",
       "      <td>1 min  0 sec</td>\n",
       "    </tr>\n",
       "    <tr>\n",
       "      <th>2nd</th>\n",
       "      <td>Past</td>\n",
       "      <td>18Apr2020</td>\n",
       "      <td>13May2020</td>\n",
       "      <td>81800269</td>\n",
       "      <td>SIR-F</td>\n",
       "      <td>0.76</td>\n",
       "      <td>0.0510292</td>\n",
       "      <td>0.000230876</td>\n",
       "      <td>0.0183548</td>\n",
       "      <td>0.0228134</td>\n",
       "      <td>360</td>\n",
       "      <td>1082</td>\n",
       "      <td>13</td>\n",
       "      <td>10</td>\n",
       "      <td>0.051</td>\n",
       "      <td>0.154746</td>\n",
       "      <td>366</td>\n",
       "      <td>0 min 10 sec</td>\n",
       "    </tr>\n",
       "    <tr>\n",
       "      <th>3rd</th>\n",
       "      <td>Past</td>\n",
       "      <td>14May2020</td>\n",
       "      <td>31May2020</td>\n",
       "      <td>81800269</td>\n",
       "      <td>SIR-F</td>\n",
       "      <td>1.29</td>\n",
       "      <td>0.0202279</td>\n",
       "      <td>0.000161943</td>\n",
       "      <td>0.0258941</td>\n",
       "      <td>0.0194998</td>\n",
       "      <td>360</td>\n",
       "      <td>1543</td>\n",
       "      <td>9</td>\n",
       "      <td>12</td>\n",
       "      <td>0.02</td>\n",
       "      <td>0.0359039</td>\n",
       "      <td>310</td>\n",
       "      <td>0 min 10 sec</td>\n",
       "    </tr>\n",
       "    <tr>\n",
       "      <th>4th</th>\n",
       "      <td>Past</td>\n",
       "      <td>01Jun2020</td>\n",
       "      <td>16Jun2020</td>\n",
       "      <td>81800269</td>\n",
       "      <td>SIR-F</td>\n",
       "      <td>1.16</td>\n",
       "      <td>0.000198369</td>\n",
       "      <td>0.000543673</td>\n",
       "      <td>0.0208544</td>\n",
       "      <td>0.0173761</td>\n",
       "      <td>360</td>\n",
       "      <td>459</td>\n",
       "      <td>11</td>\n",
       "      <td>14</td>\n",
       "      <td>0</td>\n",
       "      <td>0.0425015</td>\n",
       "      <td>1696</td>\n",
       "      <td>1 min  0 sec</td>\n",
       "    </tr>\n",
       "    <tr>\n",
       "      <th>5th</th>\n",
       "      <td>Past</td>\n",
       "      <td>17Jun2020</td>\n",
       "      <td>01Jul2020</td>\n",
       "      <td>81800269</td>\n",
       "      <td>SIR-F</td>\n",
       "      <td>0.92</td>\n",
       "      <td>0.0205016</td>\n",
       "      <td>0.00056814</td>\n",
       "      <td>0.0216041</td>\n",
       "      <td>0.0223468</td>\n",
       "      <td>360</td>\n",
       "      <td>440</td>\n",
       "      <td>11</td>\n",
       "      <td>11</td>\n",
       "      <td>0.021</td>\n",
       "      <td>0.0243886</td>\n",
       "      <td>1413</td>\n",
       "      <td>1 min  0 sec</td>\n",
       "    </tr>\n",
       "    <tr>\n",
       "      <th>6th</th>\n",
       "      <td>Past</td>\n",
       "      <td>02Jul2020</td>\n",
       "      <td>16Jul2020</td>\n",
       "      <td>81800269</td>\n",
       "      <td>SIR-F</td>\n",
       "      <td>0.92</td>\n",
       "      <td>0.0488173</td>\n",
       "      <td>0.000520343</td>\n",
       "      <td>0.0239541</td>\n",
       "      <td>0.0243726</td>\n",
       "      <td>360</td>\n",
       "      <td>480</td>\n",
       "      <td>10</td>\n",
       "      <td>10</td>\n",
       "      <td>0.049</td>\n",
       "      <td>0.0275718</td>\n",
       "      <td>184</td>\n",
       "      <td>0 min  5 sec</td>\n",
       "    </tr>\n",
       "    <tr>\n",
       "      <th>7th</th>\n",
       "      <td>Past</td>\n",
       "      <td>17Jul2020</td>\n",
       "      <td>31Jul2020</td>\n",
       "      <td>81800269</td>\n",
       "      <td>SIR-F</td>\n",
       "      <td>1.03</td>\n",
       "      <td>0.0619831</td>\n",
       "      <td>0.000541706</td>\n",
       "      <td>0.0280073</td>\n",
       "      <td>0.024905</td>\n",
       "      <td>360</td>\n",
       "      <td>461</td>\n",
       "      <td>8</td>\n",
       "      <td>10</td>\n",
       "      <td>0.062</td>\n",
       "      <td>0.0362487</td>\n",
       "      <td>181</td>\n",
       "      <td>0 min  5 sec</td>\n",
       "    </tr>\n",
       "    <tr>\n",
       "      <th>8th</th>\n",
       "      <td>Past</td>\n",
       "      <td>01Aug2020</td>\n",
       "      <td>16Aug2020</td>\n",
       "      <td>81800269</td>\n",
       "      <td>-</td>\n",
       "      <td>-</td>\n",
       "      <td>-</td>\n",
       "      <td>-</td>\n",
       "      <td>-</td>\n",
       "      <td>-</td>\n",
       "      <td>-</td>\n",
       "      <td>-</td>\n",
       "      <td>-</td>\n",
       "      <td>-</td>\n",
       "      <td>-</td>\n",
       "      <td>-</td>\n",
       "      <td>-</td>\n",
       "      <td>-</td>\n",
       "    </tr>\n",
       "    <tr>\n",
       "      <th>9th</th>\n",
       "      <td>Past</td>\n",
       "      <td>17Aug2020</td>\n",
       "      <td>05Sep2020</td>\n",
       "      <td>81800269</td>\n",
       "      <td>SIR-F</td>\n",
       "      <td>1.16</td>\n",
       "      <td>0.0157596</td>\n",
       "      <td>0.000811479</td>\n",
       "      <td>0.0187141</td>\n",
       "      <td>0.0150575</td>\n",
       "      <td>360</td>\n",
       "      <td>308</td>\n",
       "      <td>13</td>\n",
       "      <td>16</td>\n",
       "      <td>0.016</td>\n",
       "      <td>0.026711</td>\n",
       "      <td>1786</td>\n",
       "      <td>1 min  0 sec</td>\n",
       "    </tr>\n",
       "    <tr>\n",
       "      <th>10th</th>\n",
       "      <td>Past</td>\n",
       "      <td>06Sep2020</td>\n",
       "      <td>20Sep2020</td>\n",
       "      <td>81800269</td>\n",
       "      <td>SIR-F</td>\n",
       "      <td>1.23</td>\n",
       "      <td>0.0424004</td>\n",
       "      <td>0.000254692</td>\n",
       "      <td>0.0185714</td>\n",
       "      <td>0.0141917</td>\n",
       "      <td>360</td>\n",
       "      <td>981</td>\n",
       "      <td>13</td>\n",
       "      <td>17</td>\n",
       "      <td>0.042</td>\n",
       "      <td>0.0161624</td>\n",
       "      <td>1382</td>\n",
       "      <td>1 min  0 sec</td>\n",
       "    </tr>\n",
       "    <tr>\n",
       "      <th>11th</th>\n",
       "      <td>Past</td>\n",
       "      <td>21Sep2020</td>\n",
       "      <td>02Oct2020</td>\n",
       "      <td>81800269</td>\n",
       "      <td>SIR-F</td>\n",
       "      <td>1.56</td>\n",
       "      <td>0.0415689</td>\n",
       "      <td>0.000191606</td>\n",
       "      <td>0.0199783</td>\n",
       "      <td>0.0120794</td>\n",
       "      <td>360</td>\n",
       "      <td>1304</td>\n",
       "      <td>12</td>\n",
       "      <td>20</td>\n",
       "      <td>0.042</td>\n",
       "      <td>0.00708018</td>\n",
       "      <td>307</td>\n",
       "      <td>0 min 10 sec</td>\n",
       "    </tr>\n",
       "    <tr>\n",
       "      <th>12th</th>\n",
       "      <td>Past</td>\n",
       "      <td>03Oct2020</td>\n",
       "      <td>14Oct2020</td>\n",
       "      <td>81800269</td>\n",
       "      <td>-</td>\n",
       "      <td>-</td>\n",
       "      <td>-</td>\n",
       "      <td>-</td>\n",
       "      <td>-</td>\n",
       "      <td>-</td>\n",
       "      <td>-</td>\n",
       "      <td>-</td>\n",
       "      <td>-</td>\n",
       "      <td>-</td>\n",
       "      <td>-</td>\n",
       "      <td>-</td>\n",
       "      <td>-</td>\n",
       "      <td>-</td>\n",
       "    </tr>\n",
       "    <tr>\n",
       "      <th rowspan=\"13\" valign=\"top\">Bolivia</th>\n",
       "      <th>0th</th>\n",
       "      <td>Past</td>\n",
       "      <td>01Apr2020</td>\n",
       "      <td>13Jun2020</td>\n",
       "      <td>11353142</td>\n",
       "      <td>SIR-F</td>\n",
       "      <td>8.49</td>\n",
       "      <td>0.000948141</td>\n",
       "      <td>0.000812912</td>\n",
       "      <td>0.0205924</td>\n",
       "      <td>0.0016109</td>\n",
       "      <td>360</td>\n",
       "      <td>307</td>\n",
       "      <td>12</td>\n",
       "      <td>155</td>\n",
       "      <td>0.001</td>\n",
       "      <td>1.34483</td>\n",
       "      <td>1331</td>\n",
       "      <td>1 min  0 sec</td>\n",
       "    </tr>\n",
       "    <tr>\n",
       "      <th>1st</th>\n",
       "      <td>Past</td>\n",
       "      <td>14Jun2020</td>\n",
       "      <td>25Jun2020</td>\n",
       "      <td>11353142</td>\n",
       "      <td>SIR-F</td>\n",
       "      <td>2.27</td>\n",
       "      <td>0.00154827</td>\n",
       "      <td>0.000386086</td>\n",
       "      <td>0.0129202</td>\n",
       "      <td>0.00528692</td>\n",
       "      <td>360</td>\n",
       "      <td>647</td>\n",
       "      <td>19</td>\n",
       "      <td>47</td>\n",
       "      <td>0.002</td>\n",
       "      <td>0.029437</td>\n",
       "      <td>1386</td>\n",
       "      <td>1 min  0 sec</td>\n",
       "    </tr>\n",
       "    <tr>\n",
       "      <th>2nd</th>\n",
       "      <td>Past</td>\n",
       "      <td>26Jun2020</td>\n",
       "      <td>05Jul2020</td>\n",
       "      <td>11353142</td>\n",
       "      <td>SIR-F</td>\n",
       "      <td>2.45</td>\n",
       "      <td>0.0442298</td>\n",
       "      <td>5.9237e-05</td>\n",
       "      <td>0.0121482</td>\n",
       "      <td>0.00467916</td>\n",
       "      <td>360</td>\n",
       "      <td>4220</td>\n",
       "      <td>20</td>\n",
       "      <td>53</td>\n",
       "      <td>0.044</td>\n",
       "      <td>0.0138183</td>\n",
       "      <td>266</td>\n",
       "      <td>0 min 10 sec</td>\n",
       "    </tr>\n",
       "    <tr>\n",
       "      <th>3rd</th>\n",
       "      <td>Past</td>\n",
       "      <td>06Jul2020</td>\n",
       "      <td>14Jul2020</td>\n",
       "      <td>11353142</td>\n",
       "      <td>SIR-F</td>\n",
       "      <td>2.51</td>\n",
       "      <td>0.0345145</td>\n",
       "      <td>9.00744e-05</td>\n",
       "      <td>0.0110139</td>\n",
       "      <td>0.00414742</td>\n",
       "      <td>360</td>\n",
       "      <td>2775</td>\n",
       "      <td>22</td>\n",
       "      <td>60</td>\n",
       "      <td>0.035</td>\n",
       "      <td>0.00577738</td>\n",
       "      <td>765</td>\n",
       "      <td>0 min 30 sec</td>\n",
       "    </tr>\n",
       "    <tr>\n",
       "      <th>4th</th>\n",
       "      <td>Past</td>\n",
       "      <td>15Jul2020</td>\n",
       "      <td>22Jul2020</td>\n",
       "      <td>11353142</td>\n",
       "      <td>SIR-F</td>\n",
       "      <td>3.86</td>\n",
       "      <td>0.0196212</td>\n",
       "      <td>0.000151525</td>\n",
       "      <td>0.011453</td>\n",
       "      <td>0.00275406</td>\n",
       "      <td>360</td>\n",
       "      <td>1649</td>\n",
       "      <td>21</td>\n",
       "      <td>90</td>\n",
       "      <td>0.02</td>\n",
       "      <td>0.0180349</td>\n",
       "      <td>1676</td>\n",
       "      <td>1 min  0 sec</td>\n",
       "    </tr>\n",
       "    <tr>\n",
       "      <th>5th</th>\n",
       "      <td>Past</td>\n",
       "      <td>23Jul2020</td>\n",
       "      <td>31Jul2020</td>\n",
       "      <td>11353142</td>\n",
       "      <td>SIR-F</td>\n",
       "      <td>2.99</td>\n",
       "      <td>0.0441036</td>\n",
       "      <td>6.73522e-05</td>\n",
       "      <td>0.00773212</td>\n",
       "      <td>0.0024017</td>\n",
       "      <td>360</td>\n",
       "      <td>3711</td>\n",
       "      <td>32</td>\n",
       "      <td>104</td>\n",
       "      <td>0.044</td>\n",
       "      <td>0.0106322</td>\n",
       "      <td>220</td>\n",
       "      <td>0 min  5 sec</td>\n",
       "    </tr>\n",
       "    <tr>\n",
       "      <th>6th</th>\n",
       "      <td>Past</td>\n",
       "      <td>01Aug2020</td>\n",
       "      <td>09Aug2020</td>\n",
       "      <td>11353142</td>\n",
       "      <td>SIR-F</td>\n",
       "      <td>1.86</td>\n",
       "      <td>0.0395045</td>\n",
       "      <td>5.43309e-05</td>\n",
       "      <td>0.00668422</td>\n",
       "      <td>0.00339681</td>\n",
       "      <td>360</td>\n",
       "      <td>4601</td>\n",
       "      <td>37</td>\n",
       "      <td>73</td>\n",
       "      <td>0.04</td>\n",
       "      <td>0.0168803</td>\n",
       "      <td>219</td>\n",
       "      <td>0 min  5 sec</td>\n",
       "    </tr>\n",
       "    <tr>\n",
       "      <th>7th</th>\n",
       "      <td>Past</td>\n",
       "      <td>10Aug2020</td>\n",
       "      <td>17Aug2020</td>\n",
       "      <td>11353142</td>\n",
       "      <td>SIR-F</td>\n",
       "      <td>1.24</td>\n",
       "      <td>0.0182708</td>\n",
       "      <td>0.000162119</td>\n",
       "      <td>0.0053463</td>\n",
       "      <td>0.00405872</td>\n",
       "      <td>360</td>\n",
       "      <td>1542</td>\n",
       "      <td>46</td>\n",
       "      <td>61</td>\n",
       "      <td>0.018</td>\n",
       "      <td>0.0107285</td>\n",
       "      <td>272</td>\n",
       "      <td>0 min 10 sec</td>\n",
       "    </tr>\n",
       "    <tr>\n",
       "      <th>8th</th>\n",
       "      <td>Past</td>\n",
       "      <td>18Aug2020</td>\n",
       "      <td>25Aug2020</td>\n",
       "      <td>11353142</td>\n",
       "      <td>SIR-F</td>\n",
       "      <td>0.68</td>\n",
       "      <td>0.000655388</td>\n",
       "      <td>0.000255941</td>\n",
       "      <td>0.00427375</td>\n",
       "      <td>0.00604148</td>\n",
       "      <td>360</td>\n",
       "      <td>976</td>\n",
       "      <td>58</td>\n",
       "      <td>41</td>\n",
       "      <td>0.001</td>\n",
       "      <td>0.0159968</td>\n",
       "      <td>639</td>\n",
       "      <td>0 min 25 sec</td>\n",
       "    </tr>\n",
       "    <tr>\n",
       "      <th>9th</th>\n",
       "      <td>Past</td>\n",
       "      <td>26Aug2020</td>\n",
       "      <td>02Sep2020</td>\n",
       "      <td>11353142</td>\n",
       "      <td>SIR-F</td>\n",
       "      <td>0.43</td>\n",
       "      <td>0.0190286</td>\n",
       "      <td>0.000237102</td>\n",
       "      <td>0.00414627</td>\n",
       "      <td>0.00927628</td>\n",
       "      <td>360</td>\n",
       "      <td>1054</td>\n",
       "      <td>60</td>\n",
       "      <td>26</td>\n",
       "      <td>0.019</td>\n",
       "      <td>0.00403593</td>\n",
       "      <td>282</td>\n",
       "      <td>0 min 10 sec</td>\n",
       "    </tr>\n",
       "    <tr>\n",
       "      <th>10th</th>\n",
       "      <td>Past</td>\n",
       "      <td>03Sep2020</td>\n",
       "      <td>10Sep2020</td>\n",
       "      <td>11353142</td>\n",
       "      <td>SIR-F</td>\n",
       "      <td>0.31</td>\n",
       "      <td>0.182304</td>\n",
       "      <td>0.000845634</td>\n",
       "      <td>0.00466165</td>\n",
       "      <td>0.0113175</td>\n",
       "      <td>360</td>\n",
       "      <td>295</td>\n",
       "      <td>53</td>\n",
       "      <td>22</td>\n",
       "      <td>0.182</td>\n",
       "      <td>0.0437697</td>\n",
       "      <td>596</td>\n",
       "      <td>0 min 15 sec</td>\n",
       "    </tr>\n",
       "    <tr>\n",
       "      <th>11th</th>\n",
       "      <td>Past</td>\n",
       "      <td>11Sep2020</td>\n",
       "      <td>22Sep2020</td>\n",
       "      <td>11353142</td>\n",
       "      <td>SIR-F</td>\n",
       "      <td>0.62</td>\n",
       "      <td>0.0135897</td>\n",
       "      <td>0.000298341</td>\n",
       "      <td>0.00395598</td>\n",
       "      <td>0.00598132</td>\n",
       "      <td>360</td>\n",
       "      <td>837</td>\n",
       "      <td>63</td>\n",
       "      <td>41</td>\n",
       "      <td>0.014</td>\n",
       "      <td>0.0143605</td>\n",
       "      <td>220</td>\n",
       "      <td>0 min  5 sec</td>\n",
       "    </tr>\n",
       "    <tr>\n",
       "      <th>12th</th>\n",
       "      <td>Past</td>\n",
       "      <td>23Sep2020</td>\n",
       "      <td>14Oct2020</td>\n",
       "      <td>11353142</td>\n",
       "      <td>-</td>\n",
       "      <td>-</td>\n",
       "      <td>-</td>\n",
       "      <td>-</td>\n",
       "      <td>-</td>\n",
       "      <td>-</td>\n",
       "      <td>-</td>\n",
       "      <td>-</td>\n",
       "      <td>-</td>\n",
       "      <td>-</td>\n",
       "      <td>-</td>\n",
       "      <td>-</td>\n",
       "      <td>-</td>\n",
       "      <td>-</td>\n",
       "    </tr>\n",
       "  </tbody>\n",
       "</table>\n",
       "</div>"
      ],
      "text/plain": [
       "               Type      Start        End  Population    ODE    Rt  \\\n",
       "Country Phase                                                        \n",
       "Russia  0th    Past  12Feb2020  06May2020   330457362  SIR-F  0.02   \n",
       "        1st    Past  07May2020  18May2020   330457362  SIR-F  2.85   \n",
       "        2nd    Past  19May2020  29May2020   330457362  SIR-F  1.03   \n",
       "        3rd    Past  30May2020  09Jun2020   330457362  SIR-F  1.01   \n",
       "        4th    Past  10Jun2020  20Jun2020   330457362  SIR-F  1.02   \n",
       "        5th    Past  21Jun2020  03Jul2020   330457362      -     -   \n",
       "        6th    Past  04Jul2020  17Jul2020   330457362  SIR-F  0.82   \n",
       "        7th    Past  18Jul2020  31Jul2020   330457362  SIR-F  0.76   \n",
       "        8th    Past  01Aug2020  16Aug2020   330457362  SIR-F  1.13   \n",
       "        9th    Past  17Aug2020  02Sep2020   330457362  SIR-F  0.81   \n",
       "        10th   Past  03Sep2020  19Sep2020   330457362  SIR-F  0.99   \n",
       "        11th   Past  20Sep2020  02Oct2020   330457362  SIR-F  1.42   \n",
       "        12th   Past  03Oct2020  14Oct2020   330457362      -     -   \n",
       "Iran    0th    Past  26Feb2020  29Mar2020    81800269  SIR-F  5.51   \n",
       "        1st    Past  30Mar2020  17Apr2020    81800269  SIR-F  0.93   \n",
       "        2nd    Past  18Apr2020  13May2020    81800269  SIR-F  0.76   \n",
       "        3rd    Past  14May2020  31May2020    81800269  SIR-F  1.29   \n",
       "        4th    Past  01Jun2020  16Jun2020    81800269  SIR-F  1.16   \n",
       "        5th    Past  17Jun2020  01Jul2020    81800269  SIR-F  0.92   \n",
       "        6th    Past  02Jul2020  16Jul2020    81800269  SIR-F  0.92   \n",
       "        7th    Past  17Jul2020  31Jul2020    81800269  SIR-F  1.03   \n",
       "        8th    Past  01Aug2020  16Aug2020    81800269      -     -   \n",
       "        9th    Past  17Aug2020  05Sep2020    81800269  SIR-F  1.16   \n",
       "        10th   Past  06Sep2020  20Sep2020    81800269  SIR-F  1.23   \n",
       "        11th   Past  21Sep2020  02Oct2020    81800269  SIR-F  1.56   \n",
       "        12th   Past  03Oct2020  14Oct2020    81800269      -     -   \n",
       "Bolivia 0th    Past  01Apr2020  13Jun2020    11353142  SIR-F  8.49   \n",
       "        1st    Past  14Jun2020  25Jun2020    11353142  SIR-F  2.27   \n",
       "        2nd    Past  26Jun2020  05Jul2020    11353142  SIR-F  2.45   \n",
       "        3rd    Past  06Jul2020  14Jul2020    11353142  SIR-F  2.51   \n",
       "        4th    Past  15Jul2020  22Jul2020    11353142  SIR-F  3.86   \n",
       "        5th    Past  23Jul2020  31Jul2020    11353142  SIR-F  2.99   \n",
       "        6th    Past  01Aug2020  09Aug2020    11353142  SIR-F  1.86   \n",
       "        7th    Past  10Aug2020  17Aug2020    11353142  SIR-F  1.24   \n",
       "        8th    Past  18Aug2020  25Aug2020    11353142  SIR-F  0.68   \n",
       "        9th    Past  26Aug2020  02Sep2020    11353142  SIR-F  0.43   \n",
       "        10th   Past  03Sep2020  10Sep2020    11353142  SIR-F  0.31   \n",
       "        11th   Past  11Sep2020  22Sep2020    11353142  SIR-F  0.62   \n",
       "        12th   Past  23Sep2020  14Oct2020    11353142      -     -   \n",
       "\n",
       "                     theta        kappa         rho       sigma  tau  \\\n",
       "Country Phase                                                          \n",
       "Russia  0th       0.602763     0.544883   0.0340813  0.00229851  360   \n",
       "        1st     0.00180556  9.34529e-05   0.0131099  0.00449542  360   \n",
       "        2nd    0.000336749  0.000113213  0.00670743  0.00639185  360   \n",
       "        3rd    0.000448924  9.80633e-05  0.00484494  0.00469437  360   \n",
       "        4th    0.000869198  7.16857e-05  0.00415179  0.00399612  360   \n",
       "        5th              -            -           -           -    -   \n",
       "        6th      0.0251503  2.41627e-06  0.00220911  0.00261711  360   \n",
       "        7th    3.08038e-05  4.07714e-05  0.00183396  0.00237691  360   \n",
       "        8th      0.0223907  1.88817e-06  0.00143307  0.00124059  360   \n",
       "        9th      0.0180826  6.10105e-06  0.00125223  0.00150289  360   \n",
       "        10th    0.00423189  2.37659e-05  0.00127485  0.00125617  360   \n",
       "        11th    0.00240359  2.37659e-05  0.00173015  0.00118781  360   \n",
       "        12th             -            -           -           -    -   \n",
       "Iran    0th        0.26389  0.000317872   0.0519398  0.00661935  360   \n",
       "        1st      0.0435436  0.000554585   0.0187575   0.0186352  360   \n",
       "        2nd      0.0510292  0.000230876   0.0183548   0.0228134  360   \n",
       "        3rd      0.0202279  0.000161943   0.0258941   0.0194998  360   \n",
       "        4th    0.000198369  0.000543673   0.0208544   0.0173761  360   \n",
       "        5th      0.0205016   0.00056814   0.0216041   0.0223468  360   \n",
       "        6th      0.0488173  0.000520343   0.0239541   0.0243726  360   \n",
       "        7th      0.0619831  0.000541706   0.0280073    0.024905  360   \n",
       "        8th              -            -           -           -    -   \n",
       "        9th      0.0157596  0.000811479   0.0187141   0.0150575  360   \n",
       "        10th     0.0424004  0.000254692   0.0185714   0.0141917  360   \n",
       "        11th     0.0415689  0.000191606   0.0199783   0.0120794  360   \n",
       "        12th             -            -           -           -    -   \n",
       "Bolivia 0th    0.000948141  0.000812912   0.0205924   0.0016109  360   \n",
       "        1st     0.00154827  0.000386086   0.0129202  0.00528692  360   \n",
       "        2nd      0.0442298   5.9237e-05   0.0121482  0.00467916  360   \n",
       "        3rd      0.0345145  9.00744e-05   0.0110139  0.00414742  360   \n",
       "        4th      0.0196212  0.000151525    0.011453  0.00275406  360   \n",
       "        5th      0.0441036  6.73522e-05  0.00773212   0.0024017  360   \n",
       "        6th      0.0395045  5.43309e-05  0.00668422  0.00339681  360   \n",
       "        7th      0.0182708  0.000162119   0.0053463  0.00405872  360   \n",
       "        8th    0.000655388  0.000255941  0.00427375  0.00604148  360   \n",
       "        9th      0.0190286  0.000237102  0.00414627  0.00927628  360   \n",
       "        10th      0.182304  0.000845634  0.00466165   0.0113175  360   \n",
       "        11th     0.0135897  0.000298341  0.00395598  0.00598132  360   \n",
       "        12th             -            -           -           -    -   \n",
       "\n",
       "              1/alpha2 [day] 1/beta [day] 1/gamma [day] alpha1 [-]  \\\n",
       "Country Phase                                                        \n",
       "Russia  0th                0            7           108      0.603   \n",
       "        1st             2675           19            55      0.002   \n",
       "        2nd             2208           37            39          0   \n",
       "        3rd             2549           51            53          0   \n",
       "        4th             3487           60            62      0.001   \n",
       "        5th                -            -             -          -   \n",
       "        6th           103465          113            95      0.025   \n",
       "        7th             6131          136           105          0   \n",
       "        8th           132403          174           201      0.022   \n",
       "        9th            40976          199           166      0.018   \n",
       "        10th           10519          196           199      0.004   \n",
       "        11th           10519          144           210      0.002   \n",
       "        12th               -            -             -          -   \n",
       "Iran    0th              786            4            37      0.264   \n",
       "        1st              450           13            13      0.044   \n",
       "        2nd             1082           13            10      0.051   \n",
       "        3rd             1543            9            12       0.02   \n",
       "        4th              459           11            14          0   \n",
       "        5th              440           11            11      0.021   \n",
       "        6th              480           10            10      0.049   \n",
       "        7th              461            8            10      0.062   \n",
       "        8th                -            -             -          -   \n",
       "        9th              308           13            16      0.016   \n",
       "        10th             981           13            17      0.042   \n",
       "        11th            1304           12            20      0.042   \n",
       "        12th               -            -             -          -   \n",
       "Bolivia 0th              307           12           155      0.001   \n",
       "        1st              647           19            47      0.002   \n",
       "        2nd             4220           20            53      0.044   \n",
       "        3rd             2775           22            60      0.035   \n",
       "        4th             1649           21            90       0.02   \n",
       "        5th             3711           32           104      0.044   \n",
       "        6th             4601           37            73       0.04   \n",
       "        7th             1542           46            61      0.018   \n",
       "        8th              976           58            41      0.001   \n",
       "        9th             1054           60            26      0.019   \n",
       "        10th             295           53            22      0.182   \n",
       "        11th             837           63            41      0.014   \n",
       "        12th               -            -             -          -   \n",
       "\n",
       "                    RMSLE Trials       Runtime  \n",
       "Country Phase                                   \n",
       "Russia  0th       18.9667   1309  1 min  0 sec  \n",
       "        1st     0.0877508   1345  1 min  0 sec  \n",
       "        2nd      0.111343   1420  1 min  0 sec  \n",
       "        3rd     0.0880587   1590  1 min  0 sec  \n",
       "        4th     0.0684194   1595  1 min  0 sec  \n",
       "        5th             -      -             -  \n",
       "        6th       0.06953   1295  1 min  0 sec  \n",
       "        7th      0.060525   1346  1 min  0 sec  \n",
       "        8th     0.0444488   1374  1 min  0 sec  \n",
       "        9th     0.0518301   1794  1 min  0 sec  \n",
       "        10th     0.043957   1260  1 min  0 sec  \n",
       "        11th    0.0240811   1627  1 min  0 sec  \n",
       "        12th            -      -             -  \n",
       "Iran    0th       4.40492   1498  1 min  0 sec  \n",
       "        1st      0.228236   1639  1 min  0 sec  \n",
       "        2nd      0.154746    366  0 min 10 sec  \n",
       "        3rd     0.0359039    310  0 min 10 sec  \n",
       "        4th     0.0425015   1696  1 min  0 sec  \n",
       "        5th     0.0243886   1413  1 min  0 sec  \n",
       "        6th     0.0275718    184  0 min  5 sec  \n",
       "        7th     0.0362487    181  0 min  5 sec  \n",
       "        8th             -      -             -  \n",
       "        9th      0.026711   1786  1 min  0 sec  \n",
       "        10th    0.0161624   1382  1 min  0 sec  \n",
       "        11th   0.00708018    307  0 min 10 sec  \n",
       "        12th            -      -             -  \n",
       "Bolivia 0th       1.34483   1331  1 min  0 sec  \n",
       "        1st      0.029437   1386  1 min  0 sec  \n",
       "        2nd     0.0138183    266  0 min 10 sec  \n",
       "        3rd    0.00577738    765  0 min 30 sec  \n",
       "        4th     0.0180349   1676  1 min  0 sec  \n",
       "        5th     0.0106322    220  0 min  5 sec  \n",
       "        6th     0.0168803    219  0 min  5 sec  \n",
       "        7th     0.0107285    272  0 min 10 sec  \n",
       "        8th     0.0159968    639  0 min 25 sec  \n",
       "        9th    0.00403593    282  0 min 10 sec  \n",
       "        10th    0.0437697    596  0 min 15 sec  \n",
       "        11th    0.0143605    220  0 min  5 sec  \n",
       "        12th            -      -             -  "
      ]
     },
     "execution_count": 12,
     "metadata": {},
     "output_type": "execute_result"
    }
   ],
   "source": [
    "# Show summary\n",
    "analyser.summary(countries=countries_show)"
   ]
  },
  {
   "cell_type": "markdown",
   "metadata": {},
   "source": [
    "## Compare the history of parameters\n",
    "Here, compare the history of parameter values if countries."
   ]
  },
  {
   "cell_type": "code",
   "execution_count": 13,
   "metadata": {
    "collapsed": false
   },
   "outputs": [
    {
     "data": {
      "text/html": [
       "<div>\n",
       "<style scoped>\n",
       "    .dataframe tbody tr th:only-of-type {\n",
       "        vertical-align: middle;\n",
       "    }\n",
       "\n",
       "    .dataframe tbody tr th {\n",
       "        vertical-align: top;\n",
       "    }\n",
       "\n",
       "    .dataframe thead th {\n",
       "        text-align: right;\n",
       "    }\n",
       "</style>\n",
       "<table border=\"1\" class=\"dataframe\">\n",
       "  <thead>\n",
       "    <tr style=\"text-align: right;\">\n",
       "      <th></th>\n",
       "      <th>Date</th>\n",
       "      <th>Country</th>\n",
       "      <th>theta</th>\n",
       "      <th>kappa</th>\n",
       "      <th>rho</th>\n",
       "      <th>sigma</th>\n",
       "      <th>alpha1 [-]</th>\n",
       "      <th>1/alpha2 [day]</th>\n",
       "      <th>1/beta [day]</th>\n",
       "      <th>1/gamma [day]</th>\n",
       "      <th>...</th>\n",
       "      <th>Cancel_events</th>\n",
       "      <th>Gatherings_restrictions</th>\n",
       "      <th>Transport_closing</th>\n",
       "      <th>Stay_home_restrictions</th>\n",
       "      <th>Internal_movement_restrictions</th>\n",
       "      <th>International_movement_restrictions</th>\n",
       "      <th>Information_campaigns</th>\n",
       "      <th>Testing_policy</th>\n",
       "      <th>Contact_tracing</th>\n",
       "      <th>Stringency_index</th>\n",
       "    </tr>\n",
       "  </thead>\n",
       "  <tbody>\n",
       "    <tr>\n",
       "      <th>0</th>\n",
       "      <td>2020-03-17</td>\n",
       "      <td>Armenia</td>\n",
       "      <td>0.0183104</td>\n",
       "      <td>0.000116704</td>\n",
       "      <td>0.0195852</td>\n",
       "      <td>0.00374435</td>\n",
       "      <td>0.018</td>\n",
       "      <td>2142</td>\n",
       "      <td>12</td>\n",
       "      <td>66</td>\n",
       "      <td>...</td>\n",
       "      <td>0</td>\n",
       "      <td>0</td>\n",
       "      <td>0</td>\n",
       "      <td>0</td>\n",
       "      <td>0</td>\n",
       "      <td>0</td>\n",
       "      <td>0</td>\n",
       "      <td>0</td>\n",
       "      <td>0</td>\n",
       "      <td>0.0</td>\n",
       "    </tr>\n",
       "    <tr>\n",
       "      <th>1</th>\n",
       "      <td>2020-03-18</td>\n",
       "      <td>Armenia</td>\n",
       "      <td>0.0183104</td>\n",
       "      <td>0.000116704</td>\n",
       "      <td>0.0195852</td>\n",
       "      <td>0.00374435</td>\n",
       "      <td>0.018</td>\n",
       "      <td>2142</td>\n",
       "      <td>12</td>\n",
       "      <td>66</td>\n",
       "      <td>...</td>\n",
       "      <td>0</td>\n",
       "      <td>0</td>\n",
       "      <td>0</td>\n",
       "      <td>0</td>\n",
       "      <td>0</td>\n",
       "      <td>0</td>\n",
       "      <td>0</td>\n",
       "      <td>0</td>\n",
       "      <td>0</td>\n",
       "      <td>0.0</td>\n",
       "    </tr>\n",
       "    <tr>\n",
       "      <th>2</th>\n",
       "      <td>2020-03-19</td>\n",
       "      <td>Armenia</td>\n",
       "      <td>0.0183104</td>\n",
       "      <td>0.000116704</td>\n",
       "      <td>0.0195852</td>\n",
       "      <td>0.00374435</td>\n",
       "      <td>0.018</td>\n",
       "      <td>2142</td>\n",
       "      <td>12</td>\n",
       "      <td>66</td>\n",
       "      <td>...</td>\n",
       "      <td>0</td>\n",
       "      <td>0</td>\n",
       "      <td>0</td>\n",
       "      <td>0</td>\n",
       "      <td>0</td>\n",
       "      <td>0</td>\n",
       "      <td>0</td>\n",
       "      <td>0</td>\n",
       "      <td>0</td>\n",
       "      <td>0.0</td>\n",
       "    </tr>\n",
       "    <tr>\n",
       "      <th>3</th>\n",
       "      <td>2020-03-20</td>\n",
       "      <td>Armenia</td>\n",
       "      <td>0.0183104</td>\n",
       "      <td>0.000116704</td>\n",
       "      <td>0.0195852</td>\n",
       "      <td>0.00374435</td>\n",
       "      <td>0.018</td>\n",
       "      <td>2142</td>\n",
       "      <td>12</td>\n",
       "      <td>66</td>\n",
       "      <td>...</td>\n",
       "      <td>0</td>\n",
       "      <td>0</td>\n",
       "      <td>0</td>\n",
       "      <td>0</td>\n",
       "      <td>0</td>\n",
       "      <td>0</td>\n",
       "      <td>0</td>\n",
       "      <td>0</td>\n",
       "      <td>0</td>\n",
       "      <td>0.0</td>\n",
       "    </tr>\n",
       "    <tr>\n",
       "      <th>4</th>\n",
       "      <td>2020-03-21</td>\n",
       "      <td>Armenia</td>\n",
       "      <td>0.0183104</td>\n",
       "      <td>0.000116704</td>\n",
       "      <td>0.0195852</td>\n",
       "      <td>0.00374435</td>\n",
       "      <td>0.018</td>\n",
       "      <td>2142</td>\n",
       "      <td>12</td>\n",
       "      <td>66</td>\n",
       "      <td>...</td>\n",
       "      <td>0</td>\n",
       "      <td>0</td>\n",
       "      <td>0</td>\n",
       "      <td>0</td>\n",
       "      <td>0</td>\n",
       "      <td>0</td>\n",
       "      <td>0</td>\n",
       "      <td>0</td>\n",
       "      <td>0</td>\n",
       "      <td>0.0</td>\n",
       "    </tr>\n",
       "  </tbody>\n",
       "</table>\n",
       "<p>5 rows × 23 columns</p>\n",
       "</div>"
      ],
      "text/plain": [
       "        Date  Country      theta        kappa        rho       sigma  \\\n",
       "0 2020-03-17  Armenia  0.0183104  0.000116704  0.0195852  0.00374435   \n",
       "1 2020-03-18  Armenia  0.0183104  0.000116704  0.0195852  0.00374435   \n",
       "2 2020-03-19  Armenia  0.0183104  0.000116704  0.0195852  0.00374435   \n",
       "3 2020-03-20  Armenia  0.0183104  0.000116704  0.0195852  0.00374435   \n",
       "4 2020-03-21  Armenia  0.0183104  0.000116704  0.0195852  0.00374435   \n",
       "\n",
       "  alpha1 [-] 1/alpha2 [day] 1/beta [day] 1/gamma [day]  ... Cancel_events  \\\n",
       "0      0.018           2142           12            66  ...             0   \n",
       "1      0.018           2142           12            66  ...             0   \n",
       "2      0.018           2142           12            66  ...             0   \n",
       "3      0.018           2142           12            66  ...             0   \n",
       "4      0.018           2142           12            66  ...             0   \n",
       "\n",
       "   Gatherings_restrictions  Transport_closing  Stay_home_restrictions  \\\n",
       "0                        0                  0                       0   \n",
       "1                        0                  0                       0   \n",
       "2                        0                  0                       0   \n",
       "3                        0                  0                       0   \n",
       "4                        0                  0                       0   \n",
       "\n",
       "   Internal_movement_restrictions  International_movement_restrictions  \\\n",
       "0                               0                                    0   \n",
       "1                               0                                    0   \n",
       "2                               0                                    0   \n",
       "3                               0                                    0   \n",
       "4                               0                                    0   \n",
       "\n",
       "   Information_campaigns  Testing_policy  Contact_tracing  Stringency_index  \n",
       "0                      0               0                0               0.0  \n",
       "1                      0               0                0               0.0  \n",
       "2                      0               0                0               0.0  \n",
       "3                      0               0                0               0.0  \n",
       "4                      0               0                0               0.0  \n",
       "\n",
       "[5 rows x 23 columns]"
      ]
     },
     "execution_count": 13,
     "metadata": {},
     "output_type": "execute_result"
    }
   ],
   "source": [
    "# All parameter/day parameter/Rt/OxCGRT\n",
    "analyser.track().head()"
   ]
  },
  {
   "cell_type": "markdown",
   "metadata": {},
   "source": [
    "### $Rt$: Reprodcution number $\\mathrm{[-]}$"
   ]
  },
  {
   "cell_type": "code",
   "execution_count": 14,
   "metadata": {
    "collapsed": false
   },
   "outputs": [
    {
     "data": {
      "image/png": "[encoded data removed]",
      "text/plain": [
       "<Figure size 648x432 with 1 Axes>"
      ]
     },
     "metadata": {},
     "output_type": "display_data"
    },
    {
     "data": {
      "text/html": [
       "<div>\n",
       "<style scoped>\n",
       "    .dataframe tbody tr th:only-of-type {\n",
       "        vertical-align: middle;\n",
       "    }\n",
       "\n",
       "    .dataframe tbody tr th {\n",
       "        vertical-align: top;\n",
       "    }\n",
       "\n",
       "    .dataframe thead th {\n",
       "        text-align: right;\n",
       "    }\n",
       "</style>\n",
       "<table border=\"1\" class=\"dataframe\">\n",
       "  <thead>\n",
       "    <tr style=\"text-align: right;\">\n",
       "      <th>Country</th>\n",
       "      <th>Armenia</th>\n",
       "      <th>Bahrain</th>\n",
       "      <th>Bolivia</th>\n",
       "      <th>Bosnia and Herzegovina</th>\n",
       "      <th>Brazil</th>\n",
       "      <th>Dominican Republic</th>\n",
       "      <th>France</th>\n",
       "      <th>Iran</th>\n",
       "      <th>Kuwait</th>\n",
       "      <th>Mexico</th>\n",
       "      <th>Nigeria</th>\n",
       "      <th>Russia</th>\n",
       "      <th>Turkey</th>\n",
       "      <th>United States</th>\n",
       "    </tr>\n",
       "    <tr>\n",
       "      <th>Date</th>\n",
       "      <th></th>\n",
       "      <th></th>\n",
       "      <th></th>\n",
       "      <th></th>\n",
       "      <th></th>\n",
       "      <th></th>\n",
       "      <th></th>\n",
       "      <th></th>\n",
       "      <th></th>\n",
       "      <th></th>\n",
       "      <th></th>\n",
       "      <th></th>\n",
       "      <th></th>\n",
       "      <th></th>\n",
       "    </tr>\n",
       "  </thead>\n",
       "  <tbody>\n",
       "    <tr>\n",
       "      <th>2020-10-10</th>\n",
       "      <td>2.86</td>\n",
       "      <td>0.98</td>\n",
       "      <td>0.62</td>\n",
       "      <td>1.53</td>\n",
       "      <td>0.95</td>\n",
       "      <td>0.78</td>\n",
       "      <td>22.97</td>\n",
       "      <td>1.56</td>\n",
       "      <td>0.96</td>\n",
       "      <td>1.01</td>\n",
       "      <td>0.93</td>\n",
       "      <td>1.42</td>\n",
       "      <td>1.11</td>\n",
       "      <td>1.6</td>\n",
       "    </tr>\n",
       "    <tr>\n",
       "      <th>2020-10-11</th>\n",
       "      <td>2.86</td>\n",
       "      <td>0.98</td>\n",
       "      <td>0.62</td>\n",
       "      <td>1.53</td>\n",
       "      <td>0.95</td>\n",
       "      <td>0.78</td>\n",
       "      <td>22.97</td>\n",
       "      <td>1.56</td>\n",
       "      <td>0.96</td>\n",
       "      <td>1.01</td>\n",
       "      <td>0.93</td>\n",
       "      <td>1.42</td>\n",
       "      <td>1.11</td>\n",
       "      <td>1.6</td>\n",
       "    </tr>\n",
       "    <tr>\n",
       "      <th>2020-10-12</th>\n",
       "      <td>2.86</td>\n",
       "      <td>0.98</td>\n",
       "      <td>0.62</td>\n",
       "      <td>1.53</td>\n",
       "      <td>0.95</td>\n",
       "      <td>0.78</td>\n",
       "      <td>22.97</td>\n",
       "      <td>1.56</td>\n",
       "      <td>0.96</td>\n",
       "      <td>1.01</td>\n",
       "      <td>0.93</td>\n",
       "      <td>1.42</td>\n",
       "      <td>1.11</td>\n",
       "      <td>1.6</td>\n",
       "    </tr>\n",
       "    <tr>\n",
       "      <th>2020-10-13</th>\n",
       "      <td>2.86</td>\n",
       "      <td>0.98</td>\n",
       "      <td>0.62</td>\n",
       "      <td>1.53</td>\n",
       "      <td>0.95</td>\n",
       "      <td>0.78</td>\n",
       "      <td>22.97</td>\n",
       "      <td>1.56</td>\n",
       "      <td>0.96</td>\n",
       "      <td>1.01</td>\n",
       "      <td>0.93</td>\n",
       "      <td>1.42</td>\n",
       "      <td>1.11</td>\n",
       "      <td>1.6</td>\n",
       "    </tr>\n",
       "    <tr>\n",
       "      <th>2020-10-14</th>\n",
       "      <td>2.86</td>\n",
       "      <td>0.98</td>\n",
       "      <td>0.62</td>\n",
       "      <td>1.53</td>\n",
       "      <td>0.95</td>\n",
       "      <td>0.78</td>\n",
       "      <td>22.97</td>\n",
       "      <td>1.56</td>\n",
       "      <td>0.96</td>\n",
       "      <td>1.01</td>\n",
       "      <td>0.93</td>\n",
       "      <td>1.42</td>\n",
       "      <td>1.11</td>\n",
       "      <td>1.6</td>\n",
       "    </tr>\n",
       "  </tbody>\n",
       "</table>\n",
       "</div>"
      ],
      "text/plain": [
       "Country     Armenia  Bahrain  Bolivia  Bosnia and Herzegovina  Brazil  \\\n",
       "Date                                                                    \n",
       "2020-10-10     2.86     0.98     0.62                    1.53    0.95   \n",
       "2020-10-11     2.86     0.98     0.62                    1.53    0.95   \n",
       "2020-10-12     2.86     0.98     0.62                    1.53    0.95   \n",
       "2020-10-13     2.86     0.98     0.62                    1.53    0.95   \n",
       "2020-10-14     2.86     0.98     0.62                    1.53    0.95   \n",
       "\n",
       "Country     Dominican Republic  France  Iran  Kuwait  Mexico  Nigeria  Russia  \\\n",
       "Date                                                                            \n",
       "2020-10-10                0.78   22.97  1.56    0.96    1.01     0.93    1.42   \n",
       "2020-10-11                0.78   22.97  1.56    0.96    1.01     0.93    1.42   \n",
       "2020-10-12                0.78   22.97  1.56    0.96    1.01     0.93    1.42   \n",
       "2020-10-13                0.78   22.97  1.56    0.96    1.01     0.93    1.42   \n",
       "2020-10-14                0.78   22.97  1.56    0.96    1.01     0.93    1.42   \n",
       "\n",
       "Country     Turkey  United States  \n",
       "Date                               \n",
       "2020-10-10    1.11            1.6  \n",
       "2020-10-11    1.11            1.6  \n",
       "2020-10-12    1.11            1.6  \n",
       "2020-10-13    1.11            1.6  \n",
       "2020-10-14    1.11            1.6  "
      ]
     },
     "execution_count": 14,
     "metadata": {},
     "output_type": "execute_result"
    }
   ],
   "source": [
    "analyser.param_history(\"Rt\", roll_window=None).tail()"
   ]
  },
  {
   "cell_type": "markdown",
   "metadata": {},
   "source": [
    "### $\\rho$: Effective contact rate $\\mathrm{[-]}$"
   ]
  },
  {
   "cell_type": "code",
   "execution_count": 15,
   "metadata": {
    "collapsed": false
   },
   "outputs": [
    {
     "data": {
      "image/png": "[encoded data removed]",
      "text/plain": [
       "<Figure size 648x432 with 1 Axes>"
      ]
     },
     "metadata": {},
     "output_type": "display_data"
    },
    {
     "data": {
      "text/html": [
       "<div>\n",
       "<style scoped>\n",
       "    .dataframe tbody tr th:only-of-type {\n",
       "        vertical-align: middle;\n",
       "    }\n",
       "\n",
       "    .dataframe tbody tr th {\n",
       "        vertical-align: top;\n",
       "    }\n",
       "\n",
       "    .dataframe thead th {\n",
       "        text-align: right;\n",
       "    }\n",
       "</style>\n",
       "<table border=\"1\" class=\"dataframe\">\n",
       "  <thead>\n",
       "    <tr style=\"text-align: right;\">\n",
       "      <th>Country</th>\n",
       "      <th>Armenia</th>\n",
       "      <th>Bahrain</th>\n",
       "      <th>Bolivia</th>\n",
       "      <th>Bosnia and Herzegovina</th>\n",
       "      <th>Brazil</th>\n",
       "      <th>Dominican Republic</th>\n",
       "      <th>France</th>\n",
       "      <th>Iran</th>\n",
       "      <th>Kuwait</th>\n",
       "      <th>Mexico</th>\n",
       "      <th>Nigeria</th>\n",
       "      <th>Russia</th>\n",
       "      <th>Turkey</th>\n",
       "      <th>United States</th>\n",
       "    </tr>\n",
       "    <tr>\n",
       "      <th>Date</th>\n",
       "      <th></th>\n",
       "      <th></th>\n",
       "      <th></th>\n",
       "      <th></th>\n",
       "      <th></th>\n",
       "      <th></th>\n",
       "      <th></th>\n",
       "      <th></th>\n",
       "      <th></th>\n",
       "      <th></th>\n",
       "      <th></th>\n",
       "      <th></th>\n",
       "      <th></th>\n",
       "      <th></th>\n",
       "    </tr>\n",
       "  </thead>\n",
       "  <tbody>\n",
       "    <tr>\n",
       "      <th>2020-10-10</th>\n",
       "      <td>0.01745</td>\n",
       "      <td>0.025089</td>\n",
       "      <td>0.003956</td>\n",
       "      <td>0.016311</td>\n",
       "      <td>0.013634</td>\n",
       "      <td>0.004928</td>\n",
       "      <td>0.008041</td>\n",
       "      <td>0.019978</td>\n",
       "      <td>0.019412</td>\n",
       "      <td>0.031008</td>\n",
       "      <td>0.004286</td>\n",
       "      <td>0.00173</td>\n",
       "      <td>0.012455</td>\n",
       "      <td>0.002609</td>\n",
       "    </tr>\n",
       "    <tr>\n",
       "      <th>2020-10-11</th>\n",
       "      <td>0.01745</td>\n",
       "      <td>0.025089</td>\n",
       "      <td>0.003956</td>\n",
       "      <td>0.016311</td>\n",
       "      <td>0.013634</td>\n",
       "      <td>0.004928</td>\n",
       "      <td>0.008041</td>\n",
       "      <td>0.019978</td>\n",
       "      <td>0.019412</td>\n",
       "      <td>0.031008</td>\n",
       "      <td>0.004286</td>\n",
       "      <td>0.00173</td>\n",
       "      <td>0.012455</td>\n",
       "      <td>0.002609</td>\n",
       "    </tr>\n",
       "    <tr>\n",
       "      <th>2020-10-12</th>\n",
       "      <td>0.01745</td>\n",
       "      <td>0.025089</td>\n",
       "      <td>0.003956</td>\n",
       "      <td>0.016311</td>\n",
       "      <td>0.013634</td>\n",
       "      <td>0.004928</td>\n",
       "      <td>0.008041</td>\n",
       "      <td>0.019978</td>\n",
       "      <td>0.019412</td>\n",
       "      <td>0.031008</td>\n",
       "      <td>0.004286</td>\n",
       "      <td>0.00173</td>\n",
       "      <td>0.012455</td>\n",
       "      <td>0.002609</td>\n",
       "    </tr>\n",
       "    <tr>\n",
       "      <th>2020-10-13</th>\n",
       "      <td>0.01745</td>\n",
       "      <td>0.025089</td>\n",
       "      <td>0.003956</td>\n",
       "      <td>0.016311</td>\n",
       "      <td>0.013634</td>\n",
       "      <td>0.004928</td>\n",
       "      <td>0.008041</td>\n",
       "      <td>0.019978</td>\n",
       "      <td>0.019412</td>\n",
       "      <td>0.031008</td>\n",
       "      <td>0.004286</td>\n",
       "      <td>0.00173</td>\n",
       "      <td>0.012455</td>\n",
       "      <td>0.002609</td>\n",
       "    </tr>\n",
       "    <tr>\n",
       "      <th>2020-10-14</th>\n",
       "      <td>0.01745</td>\n",
       "      <td>0.025089</td>\n",
       "      <td>0.003956</td>\n",
       "      <td>0.016311</td>\n",
       "      <td>0.013634</td>\n",
       "      <td>0.004928</td>\n",
       "      <td>0.008041</td>\n",
       "      <td>0.019978</td>\n",
       "      <td>0.019412</td>\n",
       "      <td>0.031008</td>\n",
       "      <td>0.004286</td>\n",
       "      <td>0.00173</td>\n",
       "      <td>0.012455</td>\n",
       "      <td>0.002609</td>\n",
       "    </tr>\n",
       "  </tbody>\n",
       "</table>\n",
       "</div>"
      ],
      "text/plain": [
       "Country     Armenia   Bahrain   Bolivia  Bosnia and Herzegovina    Brazil  \\\n",
       "Date                                                                        \n",
       "2020-10-10  0.01745  0.025089  0.003956                0.016311  0.013634   \n",
       "2020-10-11  0.01745  0.025089  0.003956                0.016311  0.013634   \n",
       "2020-10-12  0.01745  0.025089  0.003956                0.016311  0.013634   \n",
       "2020-10-13  0.01745  0.025089  0.003956                0.016311  0.013634   \n",
       "2020-10-14  0.01745  0.025089  0.003956                0.016311  0.013634   \n",
       "\n",
       "Country     Dominican Republic    France      Iran    Kuwait    Mexico  \\\n",
       "Date                                                                     \n",
       "2020-10-10            0.004928  0.008041  0.019978  0.019412  0.031008   \n",
       "2020-10-11            0.004928  0.008041  0.019978  0.019412  0.031008   \n",
       "2020-10-12            0.004928  0.008041  0.019978  0.019412  0.031008   \n",
       "2020-10-13            0.004928  0.008041  0.019978  0.019412  0.031008   \n",
       "2020-10-14            0.004928  0.008041  0.019978  0.019412  0.031008   \n",
       "\n",
       "Country      Nigeria   Russia    Turkey  United States  \n",
       "Date                                                    \n",
       "2020-10-10  0.004286  0.00173  0.012455       0.002609  \n",
       "2020-10-11  0.004286  0.00173  0.012455       0.002609  \n",
       "2020-10-12  0.004286  0.00173  0.012455       0.002609  \n",
       "2020-10-13  0.004286  0.00173  0.012455       0.002609  \n",
       "2020-10-14  0.004286  0.00173  0.012455       0.002609  "
      ]
     },
     "execution_count": 15,
     "metadata": {},
     "output_type": "execute_result"
    }
   ],
   "source": [
    "analyser.param_history(\"rho\", roll_window=None).tail()"
   ]
  },
  {
   "cell_type": "markdown",
   "metadata": {},
   "source": [
    "### $\\sigma$: Recovery rate $\\mathrm{[-]}$"
   ]
  },
  {
   "cell_type": "code",
   "execution_count": 16,
   "metadata": {
    "collapsed": false
   },
   "outputs": [
    {
     "data": {
      "image/png": "[encoded data removed]",
      "text/plain": [
       "<Figure size 648x432 with 1 Axes>"
      ]
     },
     "metadata": {},
     "output_type": "display_data"
    },
    {
     "data": {
      "text/html": [
       "<div>\n",
       "<style scoped>\n",
       "    .dataframe tbody tr th:only-of-type {\n",
       "        vertical-align: middle;\n",
       "    }\n",
       "\n",
       "    .dataframe tbody tr th {\n",
       "        vertical-align: top;\n",
       "    }\n",
       "\n",
       "    .dataframe thead th {\n",
       "        text-align: right;\n",
       "    }\n",
       "</style>\n",
       "<table border=\"1\" class=\"dataframe\">\n",
       "  <thead>\n",
       "    <tr style=\"text-align: right;\">\n",
       "      <th>Country</th>\n",
       "      <th>Armenia</th>\n",
       "      <th>Bahrain</th>\n",
       "      <th>Bolivia</th>\n",
       "      <th>Bosnia and Herzegovina</th>\n",
       "      <th>Brazil</th>\n",
       "      <th>Dominican Republic</th>\n",
       "      <th>France</th>\n",
       "      <th>Iran</th>\n",
       "      <th>Kuwait</th>\n",
       "      <th>Mexico</th>\n",
       "      <th>Nigeria</th>\n",
       "      <th>Russia</th>\n",
       "      <th>Turkey</th>\n",
       "      <th>United States</th>\n",
       "    </tr>\n",
       "    <tr>\n",
       "      <th>Date</th>\n",
       "      <th></th>\n",
       "      <th></th>\n",
       "      <th></th>\n",
       "      <th></th>\n",
       "      <th></th>\n",
       "      <th></th>\n",
       "      <th></th>\n",
       "      <th></th>\n",
       "      <th></th>\n",
       "      <th></th>\n",
       "      <th></th>\n",
       "      <th></th>\n",
       "      <th></th>\n",
       "      <th></th>\n",
       "    </tr>\n",
       "  </thead>\n",
       "  <tbody>\n",
       "    <tr>\n",
       "      <th>2020-10-10</th>\n",
       "      <td>0.005954</td>\n",
       "      <td>0.025396</td>\n",
       "      <td>0.005981</td>\n",
       "      <td>0.010448</td>\n",
       "      <td>0.013885</td>\n",
       "      <td>0.00623</td>\n",
       "      <td>0.000309</td>\n",
       "      <td>0.012079</td>\n",
       "      <td>0.020125</td>\n",
       "      <td>0.026841</td>\n",
       "      <td>0.004612</td>\n",
       "      <td>0.001188</td>\n",
       "      <td>0.010809</td>\n",
       "      <td>0.001593</td>\n",
       "    </tr>\n",
       "    <tr>\n",
       "      <th>2020-10-11</th>\n",
       "      <td>0.005954</td>\n",
       "      <td>0.025396</td>\n",
       "      <td>0.005981</td>\n",
       "      <td>0.010448</td>\n",
       "      <td>0.013885</td>\n",
       "      <td>0.00623</td>\n",
       "      <td>0.000309</td>\n",
       "      <td>0.012079</td>\n",
       "      <td>0.020125</td>\n",
       "      <td>0.026841</td>\n",
       "      <td>0.004612</td>\n",
       "      <td>0.001188</td>\n",
       "      <td>0.010809</td>\n",
       "      <td>0.001593</td>\n",
       "    </tr>\n",
       "    <tr>\n",
       "      <th>2020-10-12</th>\n",
       "      <td>0.005954</td>\n",
       "      <td>0.025396</td>\n",
       "      <td>0.005981</td>\n",
       "      <td>0.010448</td>\n",
       "      <td>0.013885</td>\n",
       "      <td>0.00623</td>\n",
       "      <td>0.000309</td>\n",
       "      <td>0.012079</td>\n",
       "      <td>0.020125</td>\n",
       "      <td>0.026841</td>\n",
       "      <td>0.004612</td>\n",
       "      <td>0.001188</td>\n",
       "      <td>0.010809</td>\n",
       "      <td>0.001593</td>\n",
       "    </tr>\n",
       "    <tr>\n",
       "      <th>2020-10-13</th>\n",
       "      <td>0.005954</td>\n",
       "      <td>0.025396</td>\n",
       "      <td>0.005981</td>\n",
       "      <td>0.010448</td>\n",
       "      <td>0.013885</td>\n",
       "      <td>0.00623</td>\n",
       "      <td>0.000309</td>\n",
       "      <td>0.012079</td>\n",
       "      <td>0.020125</td>\n",
       "      <td>0.026841</td>\n",
       "      <td>0.004612</td>\n",
       "      <td>0.001188</td>\n",
       "      <td>0.010809</td>\n",
       "      <td>0.001593</td>\n",
       "    </tr>\n",
       "    <tr>\n",
       "      <th>2020-10-14</th>\n",
       "      <td>0.005954</td>\n",
       "      <td>0.025396</td>\n",
       "      <td>0.005981</td>\n",
       "      <td>0.010448</td>\n",
       "      <td>0.013885</td>\n",
       "      <td>0.00623</td>\n",
       "      <td>0.000309</td>\n",
       "      <td>0.012079</td>\n",
       "      <td>0.020125</td>\n",
       "      <td>0.026841</td>\n",
       "      <td>0.004612</td>\n",
       "      <td>0.001188</td>\n",
       "      <td>0.010809</td>\n",
       "      <td>0.001593</td>\n",
       "    </tr>\n",
       "  </tbody>\n",
       "</table>\n",
       "</div>"
      ],
      "text/plain": [
       "Country      Armenia   Bahrain   Bolivia  Bosnia and Herzegovina    Brazil  \\\n",
       "Date                                                                         \n",
       "2020-10-10  0.005954  0.025396  0.005981                0.010448  0.013885   \n",
       "2020-10-11  0.005954  0.025396  0.005981                0.010448  0.013885   \n",
       "2020-10-12  0.005954  0.025396  0.005981                0.010448  0.013885   \n",
       "2020-10-13  0.005954  0.025396  0.005981                0.010448  0.013885   \n",
       "2020-10-14  0.005954  0.025396  0.005981                0.010448  0.013885   \n",
       "\n",
       "Country     Dominican Republic    France      Iran    Kuwait    Mexico  \\\n",
       "Date                                                                     \n",
       "2020-10-10             0.00623  0.000309  0.012079  0.020125  0.026841   \n",
       "2020-10-11             0.00623  0.000309  0.012079  0.020125  0.026841   \n",
       "2020-10-12             0.00623  0.000309  0.012079  0.020125  0.026841   \n",
       "2020-10-13             0.00623  0.000309  0.012079  0.020125  0.026841   \n",
       "2020-10-14             0.00623  0.000309  0.012079  0.020125  0.026841   \n",
       "\n",
       "Country      Nigeria    Russia    Turkey  United States  \n",
       "Date                                                     \n",
       "2020-10-10  0.004612  0.001188  0.010809       0.001593  \n",
       "2020-10-11  0.004612  0.001188  0.010809       0.001593  \n",
       "2020-10-12  0.004612  0.001188  0.010809       0.001593  \n",
       "2020-10-13  0.004612  0.001188  0.010809       0.001593  \n",
       "2020-10-14  0.004612  0.001188  0.010809       0.001593  "
      ]
     },
     "execution_count": 16,
     "metadata": {},
     "output_type": "execute_result"
    }
   ],
   "source": [
    "analyser.param_history(\"sigma\", roll_window=None).tail()"
   ]
  },
  {
   "cell_type": "markdown",
   "metadata": {},
   "source": [
    "### $\\kappa$: Mortality rate of infected cases $\\mathrm{[-]}$"
   ]
  },
  {
   "cell_type": "code",
   "execution_count": 17,
   "metadata": {
    "collapsed": false
   },
   "outputs": [
    {
     "data": {
      "image/png": "[encoded data removed]",
      "text/plain": [
       "<Figure size 648x432 with 1 Axes>"
      ]
     },
     "metadata": {},
     "output_type": "display_data"
    },
    {
     "data": {
      "text/html": [
       "<div>\n",
       "<style scoped>\n",
       "    .dataframe tbody tr th:only-of-type {\n",
       "        vertical-align: middle;\n",
       "    }\n",
       "\n",
       "    .dataframe tbody tr th {\n",
       "        vertical-align: top;\n",
       "    }\n",
       "\n",
       "    .dataframe thead th {\n",
       "        text-align: right;\n",
       "    }\n",
       "</style>\n",
       "<table border=\"1\" class=\"dataframe\">\n",
       "  <thead>\n",
       "    <tr style=\"text-align: right;\">\n",
       "      <th>Country</th>\n",
       "      <th>Armenia</th>\n",
       "      <th>Bahrain</th>\n",
       "      <th>Bolivia</th>\n",
       "      <th>Bosnia and Herzegovina</th>\n",
       "      <th>Brazil</th>\n",
       "      <th>Dominican Republic</th>\n",
       "      <th>France</th>\n",
       "      <th>Iran</th>\n",
       "      <th>Kuwait</th>\n",
       "      <th>Mexico</th>\n",
       "      <th>Nigeria</th>\n",
       "      <th>Russia</th>\n",
       "      <th>Turkey</th>\n",
       "      <th>United States</th>\n",
       "    </tr>\n",
       "    <tr>\n",
       "      <th>Date</th>\n",
       "      <th></th>\n",
       "      <th></th>\n",
       "      <th></th>\n",
       "      <th></th>\n",
       "      <th></th>\n",
       "      <th></th>\n",
       "      <th></th>\n",
       "      <th></th>\n",
       "      <th></th>\n",
       "      <th></th>\n",
       "      <th></th>\n",
       "      <th></th>\n",
       "      <th></th>\n",
       "      <th></th>\n",
       "    </tr>\n",
       "  </thead>\n",
       "  <tbody>\n",
       "    <tr>\n",
       "      <th>2020-10-10</th>\n",
       "      <td>0.00015</td>\n",
       "      <td>0.000071</td>\n",
       "      <td>0.000298</td>\n",
       "      <td>0.000196</td>\n",
       "      <td>0.000111</td>\n",
       "      <td>0.000098</td>\n",
       "      <td>0.000041</td>\n",
       "      <td>0.000192</td>\n",
       "      <td>0.000093</td>\n",
       "      <td>0.000558</td>\n",
       "      <td>0.00001</td>\n",
       "      <td>0.000024</td>\n",
       "      <td>0.000109</td>\n",
       "      <td>0.000041</td>\n",
       "    </tr>\n",
       "    <tr>\n",
       "      <th>2020-10-11</th>\n",
       "      <td>0.00015</td>\n",
       "      <td>0.000071</td>\n",
       "      <td>0.000298</td>\n",
       "      <td>0.000196</td>\n",
       "      <td>0.000111</td>\n",
       "      <td>0.000098</td>\n",
       "      <td>0.000041</td>\n",
       "      <td>0.000192</td>\n",
       "      <td>0.000093</td>\n",
       "      <td>0.000558</td>\n",
       "      <td>0.00001</td>\n",
       "      <td>0.000024</td>\n",
       "      <td>0.000109</td>\n",
       "      <td>0.000041</td>\n",
       "    </tr>\n",
       "    <tr>\n",
       "      <th>2020-10-12</th>\n",
       "      <td>0.00015</td>\n",
       "      <td>0.000071</td>\n",
       "      <td>0.000298</td>\n",
       "      <td>0.000196</td>\n",
       "      <td>0.000111</td>\n",
       "      <td>0.000098</td>\n",
       "      <td>0.000041</td>\n",
       "      <td>0.000192</td>\n",
       "      <td>0.000093</td>\n",
       "      <td>0.000558</td>\n",
       "      <td>0.00001</td>\n",
       "      <td>0.000024</td>\n",
       "      <td>0.000109</td>\n",
       "      <td>0.000041</td>\n",
       "    </tr>\n",
       "    <tr>\n",
       "      <th>2020-10-13</th>\n",
       "      <td>0.00015</td>\n",
       "      <td>0.000071</td>\n",
       "      <td>0.000298</td>\n",
       "      <td>0.000196</td>\n",
       "      <td>0.000111</td>\n",
       "      <td>0.000098</td>\n",
       "      <td>0.000041</td>\n",
       "      <td>0.000192</td>\n",
       "      <td>0.000093</td>\n",
       "      <td>0.000558</td>\n",
       "      <td>0.00001</td>\n",
       "      <td>0.000024</td>\n",
       "      <td>0.000109</td>\n",
       "      <td>0.000041</td>\n",
       "    </tr>\n",
       "    <tr>\n",
       "      <th>2020-10-14</th>\n",
       "      <td>0.00015</td>\n",
       "      <td>0.000071</td>\n",
       "      <td>0.000298</td>\n",
       "      <td>0.000196</td>\n",
       "      <td>0.000111</td>\n",
       "      <td>0.000098</td>\n",
       "      <td>0.000041</td>\n",
       "      <td>0.000192</td>\n",
       "      <td>0.000093</td>\n",
       "      <td>0.000558</td>\n",
       "      <td>0.00001</td>\n",
       "      <td>0.000024</td>\n",
       "      <td>0.000109</td>\n",
       "      <td>0.000041</td>\n",
       "    </tr>\n",
       "  </tbody>\n",
       "</table>\n",
       "</div>"
      ],
      "text/plain": [
       "Country     Armenia   Bahrain   Bolivia  Bosnia and Herzegovina    Brazil  \\\n",
       "Date                                                                        \n",
       "2020-10-10  0.00015  0.000071  0.000298                0.000196  0.000111   \n",
       "2020-10-11  0.00015  0.000071  0.000298                0.000196  0.000111   \n",
       "2020-10-12  0.00015  0.000071  0.000298                0.000196  0.000111   \n",
       "2020-10-13  0.00015  0.000071  0.000298                0.000196  0.000111   \n",
       "2020-10-14  0.00015  0.000071  0.000298                0.000196  0.000111   \n",
       "\n",
       "Country     Dominican Republic    France      Iran    Kuwait    Mexico  \\\n",
       "Date                                                                     \n",
       "2020-10-10            0.000098  0.000041  0.000192  0.000093  0.000558   \n",
       "2020-10-11            0.000098  0.000041  0.000192  0.000093  0.000558   \n",
       "2020-10-12            0.000098  0.000041  0.000192  0.000093  0.000558   \n",
       "2020-10-13            0.000098  0.000041  0.000192  0.000093  0.000558   \n",
       "2020-10-14            0.000098  0.000041  0.000192  0.000093  0.000558   \n",
       "\n",
       "Country     Nigeria    Russia    Turkey  United States  \n",
       "Date                                                    \n",
       "2020-10-10  0.00001  0.000024  0.000109       0.000041  \n",
       "2020-10-11  0.00001  0.000024  0.000109       0.000041  \n",
       "2020-10-12  0.00001  0.000024  0.000109       0.000041  \n",
       "2020-10-13  0.00001  0.000024  0.000109       0.000041  \n",
       "2020-10-14  0.00001  0.000024  0.000109       0.000041  "
      ]
     },
     "execution_count": 17,
     "metadata": {},
     "output_type": "execute_result"
    }
   ],
   "source": [
    "analyser.param_history(\"kappa\", roll_window=None).tail()"
   ]
  },
  {
   "cell_type": "markdown",
   "metadata": {},
   "source": [
    "### $\\theta$: Mortality rate of S$^\\ast$ cases $\\mathrm{[-]}$"
   ]
  },
  {
   "cell_type": "code",
   "execution_count": 18,
   "metadata": {
    "collapsed": false
   },
   "outputs": [
    {
     "data": {
      "image/png": "[encoded data removed]",
      "text/plain": [
       "<Figure size 648x432 with 1 Axes>"
      ]
     },
     "metadata": {},
     "output_type": "display_data"
    },
    {
     "data": {
      "text/html": [
       "<div>\n",
       "<style scoped>\n",
       "    .dataframe tbody tr th:only-of-type {\n",
       "        vertical-align: middle;\n",
       "    }\n",
       "\n",
       "    .dataframe tbody tr th {\n",
       "        vertical-align: top;\n",
       "    }\n",
       "\n",
       "    .dataframe thead th {\n",
       "        text-align: right;\n",
       "    }\n",
       "</style>\n",
       "<table border=\"1\" class=\"dataframe\">\n",
       "  <thead>\n",
       "    <tr style=\"text-align: right;\">\n",
       "      <th>Country</th>\n",
       "      <th>Armenia</th>\n",
       "      <th>Bahrain</th>\n",
       "      <th>Bolivia</th>\n",
       "      <th>Bosnia and Herzegovina</th>\n",
       "      <th>Brazil</th>\n",
       "      <th>Dominican Republic</th>\n",
       "      <th>France</th>\n",
       "      <th>Iran</th>\n",
       "      <th>Kuwait</th>\n",
       "      <th>Mexico</th>\n",
       "      <th>Nigeria</th>\n",
       "      <th>Russia</th>\n",
       "      <th>Turkey</th>\n",
       "      <th>United States</th>\n",
       "    </tr>\n",
       "    <tr>\n",
       "      <th>Date</th>\n",
       "      <th></th>\n",
       "      <th></th>\n",
       "      <th></th>\n",
       "      <th></th>\n",
       "      <th></th>\n",
       "      <th></th>\n",
       "      <th></th>\n",
       "      <th></th>\n",
       "      <th></th>\n",
       "      <th></th>\n",
       "      <th></th>\n",
       "      <th></th>\n",
       "      <th></th>\n",
       "      <th></th>\n",
       "    </tr>\n",
       "  </thead>\n",
       "  <tbody>\n",
       "    <tr>\n",
       "      <th>2020-10-10</th>\n",
       "      <td>0.00108</td>\n",
       "      <td>0.000898</td>\n",
       "      <td>0.01359</td>\n",
       "      <td>0.000553</td>\n",
       "      <td>0.02031</td>\n",
       "      <td>0.000528</td>\n",
       "      <td>0.000019</td>\n",
       "      <td>0.041569</td>\n",
       "      <td>0.002473</td>\n",
       "      <td>0.110507</td>\n",
       "      <td>0.00146</td>\n",
       "      <td>0.002404</td>\n",
       "      <td>0.030618</td>\n",
       "      <td>0.000019</td>\n",
       "    </tr>\n",
       "    <tr>\n",
       "      <th>2020-10-11</th>\n",
       "      <td>0.00108</td>\n",
       "      <td>0.000898</td>\n",
       "      <td>0.01359</td>\n",
       "      <td>0.000553</td>\n",
       "      <td>0.02031</td>\n",
       "      <td>0.000528</td>\n",
       "      <td>0.000019</td>\n",
       "      <td>0.041569</td>\n",
       "      <td>0.002473</td>\n",
       "      <td>0.110507</td>\n",
       "      <td>0.00146</td>\n",
       "      <td>0.002404</td>\n",
       "      <td>0.030618</td>\n",
       "      <td>0.000019</td>\n",
       "    </tr>\n",
       "    <tr>\n",
       "      <th>2020-10-12</th>\n",
       "      <td>0.00108</td>\n",
       "      <td>0.000898</td>\n",
       "      <td>0.01359</td>\n",
       "      <td>0.000553</td>\n",
       "      <td>0.02031</td>\n",
       "      <td>0.000528</td>\n",
       "      <td>0.000019</td>\n",
       "      <td>0.041569</td>\n",
       "      <td>0.002473</td>\n",
       "      <td>0.110507</td>\n",
       "      <td>0.00146</td>\n",
       "      <td>0.002404</td>\n",
       "      <td>0.030618</td>\n",
       "      <td>0.000019</td>\n",
       "    </tr>\n",
       "    <tr>\n",
       "      <th>2020-10-13</th>\n",
       "      <td>0.00108</td>\n",
       "      <td>0.000898</td>\n",
       "      <td>0.01359</td>\n",
       "      <td>0.000553</td>\n",
       "      <td>0.02031</td>\n",
       "      <td>0.000528</td>\n",
       "      <td>0.000019</td>\n",
       "      <td>0.041569</td>\n",
       "      <td>0.002473</td>\n",
       "      <td>0.110507</td>\n",
       "      <td>0.00146</td>\n",
       "      <td>0.002404</td>\n",
       "      <td>0.030618</td>\n",
       "      <td>0.000019</td>\n",
       "    </tr>\n",
       "    <tr>\n",
       "      <th>2020-10-14</th>\n",
       "      <td>0.00108</td>\n",
       "      <td>0.000898</td>\n",
       "      <td>0.01359</td>\n",
       "      <td>0.000553</td>\n",
       "      <td>0.02031</td>\n",
       "      <td>0.000528</td>\n",
       "      <td>0.000019</td>\n",
       "      <td>0.041569</td>\n",
       "      <td>0.002473</td>\n",
       "      <td>0.110507</td>\n",
       "      <td>0.00146</td>\n",
       "      <td>0.002404</td>\n",
       "      <td>0.030618</td>\n",
       "      <td>0.000019</td>\n",
       "    </tr>\n",
       "  </tbody>\n",
       "</table>\n",
       "</div>"
      ],
      "text/plain": [
       "Country     Armenia   Bahrain  Bolivia  Bosnia and Herzegovina   Brazil  \\\n",
       "Date                                                                      \n",
       "2020-10-10  0.00108  0.000898  0.01359                0.000553  0.02031   \n",
       "2020-10-11  0.00108  0.000898  0.01359                0.000553  0.02031   \n",
       "2020-10-12  0.00108  0.000898  0.01359                0.000553  0.02031   \n",
       "2020-10-13  0.00108  0.000898  0.01359                0.000553  0.02031   \n",
       "2020-10-14  0.00108  0.000898  0.01359                0.000553  0.02031   \n",
       "\n",
       "Country     Dominican Republic    France      Iran    Kuwait    Mexico  \\\n",
       "Date                                                                     \n",
       "2020-10-10            0.000528  0.000019  0.041569  0.002473  0.110507   \n",
       "2020-10-11            0.000528  0.000019  0.041569  0.002473  0.110507   \n",
       "2020-10-12            0.000528  0.000019  0.041569  0.002473  0.110507   \n",
       "2020-10-13            0.000528  0.000019  0.041569  0.002473  0.110507   \n",
       "2020-10-14            0.000528  0.000019  0.041569  0.002473  0.110507   \n",
       "\n",
       "Country     Nigeria    Russia    Turkey  United States  \n",
       "Date                                                    \n",
       "2020-10-10  0.00146  0.002404  0.030618       0.000019  \n",
       "2020-10-11  0.00146  0.002404  0.030618       0.000019  \n",
       "2020-10-12  0.00146  0.002404  0.030618       0.000019  \n",
       "2020-10-13  0.00146  0.002404  0.030618       0.000019  \n",
       "2020-10-14  0.00146  0.002404  0.030618       0.000019  "
      ]
     },
     "execution_count": 18,
     "metadata": {},
     "output_type": "execute_result"
    }
   ],
   "source": [
    "analyser.param_history(\"theta\", roll_window=None).tail()"
   ]
  },
  {
   "cell_type": "markdown",
   "metadata": {},
   "source": [
    "## (Experimental): Relationship of OxCGRT index and parameter values\n",
    "Government responses will impact on parameter values of ODE models about 14 days later. Here, we will investigate on the relationship of [stringency index (from OxCGRT)](https://github.com/OxCGRT/covid-policy-tracker/blob/master/documentation/index_methodology.md) and reproduction number/model parameters.\n"
   ]
  },
  {
   "cell_type": "code",
   "execution_count": 19,
   "metadata": {
    "collapsed": false
   },
   "outputs": [],
   "source": [
    "%matplotlib inline\n",
    "from matplotlib import pyplot as plt\n",
    "import seaborn as sns\n",
    "import pandas as pd"
   ]
  },
  {
   "cell_type": "code",
   "execution_count": 20,
   "metadata": {
    "collapsed": false
   },
   "outputs": [
    {
     "name": "stdout",
     "output_type": "stream",
     "text": [
      "<class 'pandas.core.frame.DataFrame'>\n",
      "Int64Index: 43660 entries, 0 to 43841\n",
      "Data columns (total 19 columns):\n",
      " #   Column                               Non-Null Count  Dtype         \n",
      "---  ------                               --------------  -----         \n",
      " 0   Date                                 43660 non-null  datetime64[ns]\n",
      " 1   Country                              43660 non-null  object        \n",
      " 2   Rt                                   43660 non-null  float64       \n",
      " 3   theta                                43660 non-null  float64       \n",
      " 4   kappa                                43660 non-null  float64       \n",
      " 5   rho                                  43660 non-null  float64       \n",
      " 6   sigma                                43660 non-null  float64       \n",
      " 7   School_closing                       43660 non-null  int64         \n",
      " 8   Workplace_closing                    43660 non-null  int64         \n",
      " 9   Cancel_events                        43660 non-null  int64         \n",
      " 10  Gatherings_restrictions              43660 non-null  int64         \n",
      " 11  Transport_closing                    43660 non-null  int64         \n",
      " 12  Stay_home_restrictions               43660 non-null  int64         \n",
      " 13  Internal_movement_restrictions       43660 non-null  int64         \n",
      " 14  International_movement_restrictions  43660 non-null  int64         \n",
      " 15  Information_campaigns                43660 non-null  int64         \n",
      " 16  Testing_policy                       43660 non-null  int64         \n",
      " 17  Contact_tracing                      43660 non-null  int64         \n",
      " 18  Stringency_index                     43660 non-null  float64       \n",
      "dtypes: datetime64[ns](1), float64(6), int64(11), object(1)\n",
      "memory usage: 6.7+ MB\n"
     ]
    }
   ],
   "source": [
    "df = analyser.track()\n",
    "param_cols = [\"Rt\", *cs.SIRF.PARAMETERS]\n",
    "oxcgrt_cols = oxcgrt_data.OXCGRT_VARS[:]\n",
    "cols = param_cols + oxcgrt_cols\n",
    "delay = 14\n",
    "\n",
    "for col in param_cols:\n",
    "    df[col] = pd.to_numeric(df[col], errors=\"coerce\")\n",
    "    df[col] = df.groupby(\"Country\")[col].shift(0 - delay)\n",
    "\n",
    "df = df.dropna(how=\"any\")\n",
    "df = df.loc[:, [\"Date\", \"Country\", *cols]]\n",
    "track_df = df.copy()\n",
    "track_df.info()"
   ]
  },
  {
   "cell_type": "code",
   "execution_count": 21,
   "metadata": {
    "collapsed": false
   },
   "outputs": [
    {
     "data": {
      "text/html": [
       "<style  type=\"text/css\" >\n",
       "#T_2341ebb2_0e39_11eb_aee1_525400b9fb0erow0_col0,#T_2341ebb2_0e39_11eb_aee1_525400b9fb0erow1_col1,#T_2341ebb2_0e39_11eb_aee1_525400b9fb0erow2_col2,#T_2341ebb2_0e39_11eb_aee1_525400b9fb0erow3_col3,#T_2341ebb2_0e39_11eb_aee1_525400b9fb0erow4_col4,#T_2341ebb2_0e39_11eb_aee1_525400b9fb0erow5_col5,#T_2341ebb2_0e39_11eb_aee1_525400b9fb0erow6_col6,#T_2341ebb2_0e39_11eb_aee1_525400b9fb0erow7_col7,#T_2341ebb2_0e39_11eb_aee1_525400b9fb0erow8_col8,#T_2341ebb2_0e39_11eb_aee1_525400b9fb0erow9_col9,#T_2341ebb2_0e39_11eb_aee1_525400b9fb0erow10_col10,#T_2341ebb2_0e39_11eb_aee1_525400b9fb0erow11_col11,#T_2341ebb2_0e39_11eb_aee1_525400b9fb0erow12_col12,#T_2341ebb2_0e39_11eb_aee1_525400b9fb0erow13_col13,#T_2341ebb2_0e39_11eb_aee1_525400b9fb0erow14_col14,#T_2341ebb2_0e39_11eb_aee1_525400b9fb0erow15_col15,#T_2341ebb2_0e39_11eb_aee1_525400b9fb0erow16_col16{\n",
       "            background-color:  #023858;\n",
       "            color:  #f1f1f1;\n",
       "        }#T_2341ebb2_0e39_11eb_aee1_525400b9fb0erow0_col1,#T_2341ebb2_0e39_11eb_aee1_525400b9fb0erow1_col0{\n",
       "            background-color:  #e8e4f0;\n",
       "            color:  #000000;\n",
       "        }#T_2341ebb2_0e39_11eb_aee1_525400b9fb0erow0_col2,#T_2341ebb2_0e39_11eb_aee1_525400b9fb0erow2_col0{\n",
       "            background-color:  #e7e3f0;\n",
       "            color:  #000000;\n",
       "        }#T_2341ebb2_0e39_11eb_aee1_525400b9fb0erow0_col3,#T_2341ebb2_0e39_11eb_aee1_525400b9fb0erow1_col16,#T_2341ebb2_0e39_11eb_aee1_525400b9fb0erow3_col0,#T_2341ebb2_0e39_11eb_aee1_525400b9fb0erow4_col14,#T_2341ebb2_0e39_11eb_aee1_525400b9fb0erow14_col4,#T_2341ebb2_0e39_11eb_aee1_525400b9fb0erow16_col1{\n",
       "            background-color:  #d2d2e7;\n",
       "            color:  #000000;\n",
       "        }#T_2341ebb2_0e39_11eb_aee1_525400b9fb0erow0_col4,#T_2341ebb2_0e39_11eb_aee1_525400b9fb0erow1_col6,#T_2341ebb2_0e39_11eb_aee1_525400b9fb0erow3_col5,#T_2341ebb2_0e39_11eb_aee1_525400b9fb0erow4_col0,#T_2341ebb2_0e39_11eb_aee1_525400b9fb0erow5_col3,#T_2341ebb2_0e39_11eb_aee1_525400b9fb0erow6_col1{\n",
       "            background-color:  #d9d8ea;\n",
       "            color:  #000000;\n",
       "        }#T_2341ebb2_0e39_11eb_aee1_525400b9fb0erow0_col5,#T_2341ebb2_0e39_11eb_aee1_525400b9fb0erow0_col15,#T_2341ebb2_0e39_11eb_aee1_525400b9fb0erow3_col16,#T_2341ebb2_0e39_11eb_aee1_525400b9fb0erow5_col0,#T_2341ebb2_0e39_11eb_aee1_525400b9fb0erow15_col0,#T_2341ebb2_0e39_11eb_aee1_525400b9fb0erow16_col3{\n",
       "            background-color:  #cdd0e5;\n",
       "            color:  #000000;\n",
       "        }#T_2341ebb2_0e39_11eb_aee1_525400b9fb0erow0_col6,#T_2341ebb2_0e39_11eb_aee1_525400b9fb0erow0_col8,#T_2341ebb2_0e39_11eb_aee1_525400b9fb0erow3_col12,#T_2341ebb2_0e39_11eb_aee1_525400b9fb0erow4_col6,#T_2341ebb2_0e39_11eb_aee1_525400b9fb0erow6_col0,#T_2341ebb2_0e39_11eb_aee1_525400b9fb0erow6_col4,#T_2341ebb2_0e39_11eb_aee1_525400b9fb0erow8_col0,#T_2341ebb2_0e39_11eb_aee1_525400b9fb0erow12_col3{\n",
       "            background-color:  #abbfdc;\n",
       "            color:  #000000;\n",
       "        }#T_2341ebb2_0e39_11eb_aee1_525400b9fb0erow0_col7,#T_2341ebb2_0e39_11eb_aee1_525400b9fb0erow7_col0{\n",
       "            background-color:  #d8d7e9;\n",
       "            color:  #000000;\n",
       "        }#T_2341ebb2_0e39_11eb_aee1_525400b9fb0erow0_col9,#T_2341ebb2_0e39_11eb_aee1_525400b9fb0erow9_col0{\n",
       "            background-color:  #d2d3e7;\n",
       "            color:  #000000;\n",
       "        }#T_2341ebb2_0e39_11eb_aee1_525400b9fb0erow0_col10,#T_2341ebb2_0e39_11eb_aee1_525400b9fb0erow10_col0{\n",
       "            background-color:  #e2dfee;\n",
       "            color:  #000000;\n",
       "        }#T_2341ebb2_0e39_11eb_aee1_525400b9fb0erow0_col11,#T_2341ebb2_0e39_11eb_aee1_525400b9fb0erow1_col15,#T_2341ebb2_0e39_11eb_aee1_525400b9fb0erow11_col0,#T_2341ebb2_0e39_11eb_aee1_525400b9fb0erow15_col1{\n",
       "            background-color:  #c5cce3;\n",
       "            color:  #000000;\n",
       "        }#T_2341ebb2_0e39_11eb_aee1_525400b9fb0erow0_col12,#T_2341ebb2_0e39_11eb_aee1_525400b9fb0erow12_col0{\n",
       "            background-color:  #d6d6e9;\n",
       "            color:  #000000;\n",
       "        }#T_2341ebb2_0e39_11eb_aee1_525400b9fb0erow0_col13,#T_2341ebb2_0e39_11eb_aee1_525400b9fb0erow13_col0{\n",
       "            background-color:  #adc1dd;\n",
       "            color:  #000000;\n",
       "        }#T_2341ebb2_0e39_11eb_aee1_525400b9fb0erow0_col14,#T_2341ebb2_0e39_11eb_aee1_525400b9fb0erow3_col11,#T_2341ebb2_0e39_11eb_aee1_525400b9fb0erow11_col3,#T_2341ebb2_0e39_11eb_aee1_525400b9fb0erow14_col0{\n",
       "            background-color:  #b8c6e0;\n",
       "            color:  #000000;\n",
       "        }#T_2341ebb2_0e39_11eb_aee1_525400b9fb0erow0_col16,#T_2341ebb2_0e39_11eb_aee1_525400b9fb0erow16_col0{\n",
       "            background-color:  #c9cee4;\n",
       "            color:  #000000;\n",
       "        }#T_2341ebb2_0e39_11eb_aee1_525400b9fb0erow1_col2,#T_2341ebb2_0e39_11eb_aee1_525400b9fb0erow2_col1{\n",
       "            background-color:  #023e62;\n",
       "            color:  #f1f1f1;\n",
       "        }#T_2341ebb2_0e39_11eb_aee1_525400b9fb0erow1_col3,#T_2341ebb2_0e39_11eb_aee1_525400b9fb0erow3_col1{\n",
       "            background-color:  #034973;\n",
       "            color:  #f1f1f1;\n",
       "        }#T_2341ebb2_0e39_11eb_aee1_525400b9fb0erow1_col4,#T_2341ebb2_0e39_11eb_aee1_525400b9fb0erow1_col11,#T_2341ebb2_0e39_11eb_aee1_525400b9fb0erow4_col1,#T_2341ebb2_0e39_11eb_aee1_525400b9fb0erow11_col1{\n",
       "            background-color:  #bdc8e1;\n",
       "            color:  #000000;\n",
       "        }#T_2341ebb2_0e39_11eb_aee1_525400b9fb0erow1_col5,#T_2341ebb2_0e39_11eb_aee1_525400b9fb0erow2_col9,#T_2341ebb2_0e39_11eb_aee1_525400b9fb0erow5_col1,#T_2341ebb2_0e39_11eb_aee1_525400b9fb0erow9_col2{\n",
       "            background-color:  #e1dfed;\n",
       "            color:  #000000;\n",
       "        }#T_2341ebb2_0e39_11eb_aee1_525400b9fb0erow1_col7,#T_2341ebb2_0e39_11eb_aee1_525400b9fb0erow7_col1{\n",
       "            background-color:  #ede7f2;\n",
       "            color:  #000000;\n",
       "        }#T_2341ebb2_0e39_11eb_aee1_525400b9fb0erow1_col8,#T_2341ebb2_0e39_11eb_aee1_525400b9fb0erow8_col1{\n",
       "            background-color:  #e0dded;\n",
       "            color:  #000000;\n",
       "        }#T_2341ebb2_0e39_11eb_aee1_525400b9fb0erow1_col9,#T_2341ebb2_0e39_11eb_aee1_525400b9fb0erow9_col1{\n",
       "            background-color:  #e5e1ef;\n",
       "            color:  #000000;\n",
       "        }#T_2341ebb2_0e39_11eb_aee1_525400b9fb0erow1_col10,#T_2341ebb2_0e39_11eb_aee1_525400b9fb0erow10_col1{\n",
       "            background-color:  #89b1d4;\n",
       "            color:  #000000;\n",
       "        }#T_2341ebb2_0e39_11eb_aee1_525400b9fb0erow1_col12,#T_2341ebb2_0e39_11eb_aee1_525400b9fb0erow12_col1{\n",
       "            background-color:  #9ebad9;\n",
       "            color:  #000000;\n",
       "        }#T_2341ebb2_0e39_11eb_aee1_525400b9fb0erow1_col13,#T_2341ebb2_0e39_11eb_aee1_525400b9fb0erow13_col1{\n",
       "            background-color:  #f4eef6;\n",
       "            color:  #000000;\n",
       "        }#T_2341ebb2_0e39_11eb_aee1_525400b9fb0erow1_col14,#T_2341ebb2_0e39_11eb_aee1_525400b9fb0erow14_col1{\n",
       "            background-color:  #f9f2f8;\n",
       "            color:  #000000;\n",
       "        }#T_2341ebb2_0e39_11eb_aee1_525400b9fb0erow2_col3,#T_2341ebb2_0e39_11eb_aee1_525400b9fb0erow3_col2{\n",
       "            background-color:  #034f7d;\n",
       "            color:  #f1f1f1;\n",
       "        }#T_2341ebb2_0e39_11eb_aee1_525400b9fb0erow2_col4,#T_2341ebb2_0e39_11eb_aee1_525400b9fb0erow4_col2{\n",
       "            background-color:  #c1cae2;\n",
       "            color:  #000000;\n",
       "        }#T_2341ebb2_0e39_11eb_aee1_525400b9fb0erow2_col5,#T_2341ebb2_0e39_11eb_aee1_525400b9fb0erow5_col2{\n",
       "            background-color:  #dedcec;\n",
       "            color:  #000000;\n",
       "        }#T_2341ebb2_0e39_11eb_aee1_525400b9fb0erow2_col6,#T_2341ebb2_0e39_11eb_aee1_525400b9fb0erow6_col2{\n",
       "            background-color:  #d4d4e8;\n",
       "            color:  #000000;\n",
       "        }#T_2341ebb2_0e39_11eb_aee1_525400b9fb0erow2_col7,#T_2341ebb2_0e39_11eb_aee1_525400b9fb0erow7_col2{\n",
       "            background-color:  #e6e2ef;\n",
       "            color:  #000000;\n",
       "        }#T_2341ebb2_0e39_11eb_aee1_525400b9fb0erow2_col8,#T_2341ebb2_0e39_11eb_aee1_525400b9fb0erow8_col2{\n",
       "            background-color:  #dcdaeb;\n",
       "            color:  #000000;\n",
       "        }#T_2341ebb2_0e39_11eb_aee1_525400b9fb0erow2_col10,#T_2341ebb2_0e39_11eb_aee1_525400b9fb0erow2_col12,#T_2341ebb2_0e39_11eb_aee1_525400b9fb0erow10_col2,#T_2341ebb2_0e39_11eb_aee1_525400b9fb0erow12_col2{\n",
       "            background-color:  #80aed2;\n",
       "            color:  #000000;\n",
       "        }#T_2341ebb2_0e39_11eb_aee1_525400b9fb0erow2_col11,#T_2341ebb2_0e39_11eb_aee1_525400b9fb0erow11_col2{\n",
       "            background-color:  #b5c4df;\n",
       "            color:  #000000;\n",
       "        }#T_2341ebb2_0e39_11eb_aee1_525400b9fb0erow2_col13,#T_2341ebb2_0e39_11eb_aee1_525400b9fb0erow13_col2{\n",
       "            background-color:  #f0eaf4;\n",
       "            color:  #000000;\n",
       "        }#T_2341ebb2_0e39_11eb_aee1_525400b9fb0erow2_col14,#T_2341ebb2_0e39_11eb_aee1_525400b9fb0erow14_col2{\n",
       "            background-color:  #eee8f3;\n",
       "            color:  #000000;\n",
       "        }#T_2341ebb2_0e39_11eb_aee1_525400b9fb0erow2_col15,#T_2341ebb2_0e39_11eb_aee1_525400b9fb0erow4_col12,#T_2341ebb2_0e39_11eb_aee1_525400b9fb0erow4_col15,#T_2341ebb2_0e39_11eb_aee1_525400b9fb0erow12_col4,#T_2341ebb2_0e39_11eb_aee1_525400b9fb0erow15_col2,#T_2341ebb2_0e39_11eb_aee1_525400b9fb0erow15_col4{\n",
       "            background-color:  #b0c2de;\n",
       "            color:  #000000;\n",
       "        }#T_2341ebb2_0e39_11eb_aee1_525400b9fb0erow2_col16,#T_2341ebb2_0e39_11eb_aee1_525400b9fb0erow16_col2{\n",
       "            background-color:  #cccfe5;\n",
       "            color:  #000000;\n",
       "        }#T_2341ebb2_0e39_11eb_aee1_525400b9fb0erow3_col4,#T_2341ebb2_0e39_11eb_aee1_525400b9fb0erow4_col3,#T_2341ebb2_0e39_11eb_aee1_525400b9fb0erow5_col15,#T_2341ebb2_0e39_11eb_aee1_525400b9fb0erow15_col5{\n",
       "            background-color:  #79abd0;\n",
       "            color:  #000000;\n",
       "        }#T_2341ebb2_0e39_11eb_aee1_525400b9fb0erow3_col6,#T_2341ebb2_0e39_11eb_aee1_525400b9fb0erow6_col3{\n",
       "            background-color:  #d7d6e9;\n",
       "            color:  #000000;\n",
       "        }#T_2341ebb2_0e39_11eb_aee1_525400b9fb0erow3_col7,#T_2341ebb2_0e39_11eb_aee1_525400b9fb0erow7_col3{\n",
       "            background-color:  #efe9f3;\n",
       "            color:  #000000;\n",
       "        }#T_2341ebb2_0e39_11eb_aee1_525400b9fb0erow3_col8,#T_2341ebb2_0e39_11eb_aee1_525400b9fb0erow8_col3{\n",
       "            background-color:  #dfddec;\n",
       "            color:  #000000;\n",
       "        }#T_2341ebb2_0e39_11eb_aee1_525400b9fb0erow3_col9,#T_2341ebb2_0e39_11eb_aee1_525400b9fb0erow9_col3{\n",
       "            background-color:  #dddbec;\n",
       "            color:  #000000;\n",
       "        }#T_2341ebb2_0e39_11eb_aee1_525400b9fb0erow3_col10,#T_2341ebb2_0e39_11eb_aee1_525400b9fb0erow10_col3{\n",
       "            background-color:  #83afd3;\n",
       "            color:  #000000;\n",
       "        }#T_2341ebb2_0e39_11eb_aee1_525400b9fb0erow3_col13,#T_2341ebb2_0e39_11eb_aee1_525400b9fb0erow13_col3{\n",
       "            background-color:  #f6eff7;\n",
       "            color:  #000000;\n",
       "        }#T_2341ebb2_0e39_11eb_aee1_525400b9fb0erow3_col14,#T_2341ebb2_0e39_11eb_aee1_525400b9fb0erow14_col3{\n",
       "            background-color:  #fff7fb;\n",
       "            color:  #000000;\n",
       "        }#T_2341ebb2_0e39_11eb_aee1_525400b9fb0erow3_col15,#T_2341ebb2_0e39_11eb_aee1_525400b9fb0erow15_col3{\n",
       "            background-color:  #d5d5e8;\n",
       "            color:  #000000;\n",
       "        }#T_2341ebb2_0e39_11eb_aee1_525400b9fb0erow4_col5,#T_2341ebb2_0e39_11eb_aee1_525400b9fb0erow5_col4{\n",
       "            background-color:  #8cb3d5;\n",
       "            color:  #000000;\n",
       "        }#T_2341ebb2_0e39_11eb_aee1_525400b9fb0erow4_col7,#T_2341ebb2_0e39_11eb_aee1_525400b9fb0erow7_col4{\n",
       "            background-color:  #a2bcda;\n",
       "            color:  #000000;\n",
       "        }#T_2341ebb2_0e39_11eb_aee1_525400b9fb0erow4_col8,#T_2341ebb2_0e39_11eb_aee1_525400b9fb0erow4_col13,#T_2341ebb2_0e39_11eb_aee1_525400b9fb0erow8_col4,#T_2341ebb2_0e39_11eb_aee1_525400b9fb0erow13_col4{\n",
       "            background-color:  #afc1dd;\n",
       "            color:  #000000;\n",
       "        }#T_2341ebb2_0e39_11eb_aee1_525400b9fb0erow4_col9,#T_2341ebb2_0e39_11eb_aee1_525400b9fb0erow9_col4{\n",
       "            background-color:  #84b0d3;\n",
       "            color:  #000000;\n",
       "        }#T_2341ebb2_0e39_11eb_aee1_525400b9fb0erow4_col10,#T_2341ebb2_0e39_11eb_aee1_525400b9fb0erow10_col4{\n",
       "            background-color:  #88b1d4;\n",
       "            color:  #000000;\n",
       "        }#T_2341ebb2_0e39_11eb_aee1_525400b9fb0erow4_col11,#T_2341ebb2_0e39_11eb_aee1_525400b9fb0erow11_col4{\n",
       "            background-color:  #96b6d7;\n",
       "            color:  #000000;\n",
       "        }#T_2341ebb2_0e39_11eb_aee1_525400b9fb0erow4_col16,#T_2341ebb2_0e39_11eb_aee1_525400b9fb0erow16_col4{\n",
       "            background-color:  #8eb3d5;\n",
       "            color:  #000000;\n",
       "        }#T_2341ebb2_0e39_11eb_aee1_525400b9fb0erow5_col6,#T_2341ebb2_0e39_11eb_aee1_525400b9fb0erow6_col5,#T_2341ebb2_0e39_11eb_aee1_525400b9fb0erow8_col11,#T_2341ebb2_0e39_11eb_aee1_525400b9fb0erow9_col11,#T_2341ebb2_0e39_11eb_aee1_525400b9fb0erow11_col8,#T_2341ebb2_0e39_11eb_aee1_525400b9fb0erow11_col9{\n",
       "            background-color:  #046097;\n",
       "            color:  #f1f1f1;\n",
       "        }#T_2341ebb2_0e39_11eb_aee1_525400b9fb0erow5_col7,#T_2341ebb2_0e39_11eb_aee1_525400b9fb0erow6_col13,#T_2341ebb2_0e39_11eb_aee1_525400b9fb0erow7_col5,#T_2341ebb2_0e39_11eb_aee1_525400b9fb0erow9_col16,#T_2341ebb2_0e39_11eb_aee1_525400b9fb0erow13_col6,#T_2341ebb2_0e39_11eb_aee1_525400b9fb0erow16_col9{\n",
       "            background-color:  #045b8e;\n",
       "            color:  #f1f1f1;\n",
       "        }#T_2341ebb2_0e39_11eb_aee1_525400b9fb0erow5_col8,#T_2341ebb2_0e39_11eb_aee1_525400b9fb0erow8_col5{\n",
       "            background-color:  #056ba7;\n",
       "            color:  #f1f1f1;\n",
       "        }#T_2341ebb2_0e39_11eb_aee1_525400b9fb0erow5_col9,#T_2341ebb2_0e39_11eb_aee1_525400b9fb0erow9_col5{\n",
       "            background-color:  #0567a2;\n",
       "            color:  #f1f1f1;\n",
       "        }#T_2341ebb2_0e39_11eb_aee1_525400b9fb0erow5_col10,#T_2341ebb2_0e39_11eb_aee1_525400b9fb0erow10_col5{\n",
       "            background-color:  #0872b1;\n",
       "            color:  #f1f1f1;\n",
       "        }#T_2341ebb2_0e39_11eb_aee1_525400b9fb0erow5_col11,#T_2341ebb2_0e39_11eb_aee1_525400b9fb0erow6_col10,#T_2341ebb2_0e39_11eb_aee1_525400b9fb0erow10_col6,#T_2341ebb2_0e39_11eb_aee1_525400b9fb0erow11_col5{\n",
       "            background-color:  #0570b0;\n",
       "            color:  #f1f1f1;\n",
       "        }#T_2341ebb2_0e39_11eb_aee1_525400b9fb0erow5_col12,#T_2341ebb2_0e39_11eb_aee1_525400b9fb0erow12_col5{\n",
       "            background-color:  #2685bb;\n",
       "            color:  #000000;\n",
       "        }#T_2341ebb2_0e39_11eb_aee1_525400b9fb0erow5_col13,#T_2341ebb2_0e39_11eb_aee1_525400b9fb0erow6_col8,#T_2341ebb2_0e39_11eb_aee1_525400b9fb0erow8_col6,#T_2341ebb2_0e39_11eb_aee1_525400b9fb0erow13_col5{\n",
       "            background-color:  #0567a1;\n",
       "            color:  #f1f1f1;\n",
       "        }#T_2341ebb2_0e39_11eb_aee1_525400b9fb0erow5_col14,#T_2341ebb2_0e39_11eb_aee1_525400b9fb0erow11_col13,#T_2341ebb2_0e39_11eb_aee1_525400b9fb0erow13_col11,#T_2341ebb2_0e39_11eb_aee1_525400b9fb0erow14_col5,#T_2341ebb2_0e39_11eb_aee1_525400b9fb0erow14_col15,#T_2341ebb2_0e39_11eb_aee1_525400b9fb0erow15_col14{\n",
       "            background-color:  #2182b9;\n",
       "            color:  #000000;\n",
       "        }#T_2341ebb2_0e39_11eb_aee1_525400b9fb0erow5_col16,#T_2341ebb2_0e39_11eb_aee1_525400b9fb0erow16_col5{\n",
       "            background-color:  #045483;\n",
       "            color:  #f1f1f1;\n",
       "        }#T_2341ebb2_0e39_11eb_aee1_525400b9fb0erow6_col7,#T_2341ebb2_0e39_11eb_aee1_525400b9fb0erow7_col6{\n",
       "            background-color:  #046299;\n",
       "            color:  #f1f1f1;\n",
       "        }#T_2341ebb2_0e39_11eb_aee1_525400b9fb0erow6_col9,#T_2341ebb2_0e39_11eb_aee1_525400b9fb0erow9_col6{\n",
       "            background-color:  #056caa;\n",
       "            color:  #f1f1f1;\n",
       "        }#T_2341ebb2_0e39_11eb_aee1_525400b9fb0erow6_col11,#T_2341ebb2_0e39_11eb_aee1_525400b9fb0erow7_col9,#T_2341ebb2_0e39_11eb_aee1_525400b9fb0erow9_col7,#T_2341ebb2_0e39_11eb_aee1_525400b9fb0erow11_col6{\n",
       "            background-color:  #0d75b3;\n",
       "            color:  #f1f1f1;\n",
       "        }#T_2341ebb2_0e39_11eb_aee1_525400b9fb0erow6_col12,#T_2341ebb2_0e39_11eb_aee1_525400b9fb0erow6_col14,#T_2341ebb2_0e39_11eb_aee1_525400b9fb0erow12_col6,#T_2341ebb2_0e39_11eb_aee1_525400b9fb0erow14_col6{\n",
       "            background-color:  #2383ba;\n",
       "            color:  #000000;\n",
       "        }#T_2341ebb2_0e39_11eb_aee1_525400b9fb0erow6_col15,#T_2341ebb2_0e39_11eb_aee1_525400b9fb0erow15_col6{\n",
       "            background-color:  #569dc8;\n",
       "            color:  #000000;\n",
       "        }#T_2341ebb2_0e39_11eb_aee1_525400b9fb0erow6_col16,#T_2341ebb2_0e39_11eb_aee1_525400b9fb0erow8_col16,#T_2341ebb2_0e39_11eb_aee1_525400b9fb0erow16_col6,#T_2341ebb2_0e39_11eb_aee1_525400b9fb0erow16_col8{\n",
       "            background-color:  #03517e;\n",
       "            color:  #f1f1f1;\n",
       "        }#T_2341ebb2_0e39_11eb_aee1_525400b9fb0erow7_col8,#T_2341ebb2_0e39_11eb_aee1_525400b9fb0erow8_col7{\n",
       "            background-color:  #0569a5;\n",
       "            color:  #f1f1f1;\n",
       "        }#T_2341ebb2_0e39_11eb_aee1_525400b9fb0erow7_col10,#T_2341ebb2_0e39_11eb_aee1_525400b9fb0erow9_col13,#T_2341ebb2_0e39_11eb_aee1_525400b9fb0erow10_col7,#T_2341ebb2_0e39_11eb_aee1_525400b9fb0erow12_col13,#T_2341ebb2_0e39_11eb_aee1_525400b9fb0erow13_col9,#T_2341ebb2_0e39_11eb_aee1_525400b9fb0erow13_col12{\n",
       "            background-color:  #187cb6;\n",
       "            color:  #000000;\n",
       "        }#T_2341ebb2_0e39_11eb_aee1_525400b9fb0erow7_col11,#T_2341ebb2_0e39_11eb_aee1_525400b9fb0erow7_col12,#T_2341ebb2_0e39_11eb_aee1_525400b9fb0erow11_col7,#T_2341ebb2_0e39_11eb_aee1_525400b9fb0erow12_col7,#T_2341ebb2_0e39_11eb_aee1_525400b9fb0erow12_col15,#T_2341ebb2_0e39_11eb_aee1_525400b9fb0erow15_col12{\n",
       "            background-color:  #1077b4;\n",
       "            color:  #f1f1f1;\n",
       "        }#T_2341ebb2_0e39_11eb_aee1_525400b9fb0erow7_col13,#T_2341ebb2_0e39_11eb_aee1_525400b9fb0erow13_col7{\n",
       "            background-color:  #045382;\n",
       "            color:  #f1f1f1;\n",
       "        }#T_2341ebb2_0e39_11eb_aee1_525400b9fb0erow7_col14,#T_2341ebb2_0e39_11eb_aee1_525400b9fb0erow8_col10,#T_2341ebb2_0e39_11eb_aee1_525400b9fb0erow10_col8,#T_2341ebb2_0e39_11eb_aee1_525400b9fb0erow14_col7{\n",
       "            background-color:  #056ead;\n",
       "            color:  #f1f1f1;\n",
       "        }#T_2341ebb2_0e39_11eb_aee1_525400b9fb0erow7_col15,#T_2341ebb2_0e39_11eb_aee1_525400b9fb0erow15_col7{\n",
       "            background-color:  #167bb6;\n",
       "            color:  #000000;\n",
       "        }#T_2341ebb2_0e39_11eb_aee1_525400b9fb0erow7_col16,#T_2341ebb2_0e39_11eb_aee1_525400b9fb0erow16_col7{\n",
       "            background-color:  #045687;\n",
       "            color:  #f1f1f1;\n",
       "        }#T_2341ebb2_0e39_11eb_aee1_525400b9fb0erow8_col9,#T_2341ebb2_0e39_11eb_aee1_525400b9fb0erow9_col8{\n",
       "            background-color:  #046096;\n",
       "            color:  #f1f1f1;\n",
       "        }#T_2341ebb2_0e39_11eb_aee1_525400b9fb0erow8_col12,#T_2341ebb2_0e39_11eb_aee1_525400b9fb0erow12_col8{\n",
       "            background-color:  #1e80b8;\n",
       "            color:  #000000;\n",
       "        }#T_2341ebb2_0e39_11eb_aee1_525400b9fb0erow8_col13,#T_2341ebb2_0e39_11eb_aee1_525400b9fb0erow13_col8{\n",
       "            background-color:  #04639b;\n",
       "            color:  #f1f1f1;\n",
       "        }#T_2341ebb2_0e39_11eb_aee1_525400b9fb0erow8_col14,#T_2341ebb2_0e39_11eb_aee1_525400b9fb0erow14_col8{\n",
       "            background-color:  #2081b9;\n",
       "            color:  #000000;\n",
       "        }#T_2341ebb2_0e39_11eb_aee1_525400b9fb0erow8_col15,#T_2341ebb2_0e39_11eb_aee1_525400b9fb0erow15_col8{\n",
       "            background-color:  #5ea0ca;\n",
       "            color:  #000000;\n",
       "        }#T_2341ebb2_0e39_11eb_aee1_525400b9fb0erow9_col10,#T_2341ebb2_0e39_11eb_aee1_525400b9fb0erow10_col9{\n",
       "            background-color:  #056dac;\n",
       "            color:  #f1f1f1;\n",
       "        }#T_2341ebb2_0e39_11eb_aee1_525400b9fb0erow9_col12,#T_2341ebb2_0e39_11eb_aee1_525400b9fb0erow12_col9{\n",
       "            background-color:  #3790c0;\n",
       "            color:  #000000;\n",
       "        }#T_2341ebb2_0e39_11eb_aee1_525400b9fb0erow9_col14,#T_2341ebb2_0e39_11eb_aee1_525400b9fb0erow14_col9{\n",
       "            background-color:  #4295c3;\n",
       "            color:  #000000;\n",
       "        }#T_2341ebb2_0e39_11eb_aee1_525400b9fb0erow9_col15,#T_2341ebb2_0e39_11eb_aee1_525400b9fb0erow15_col9{\n",
       "            background-color:  #9ab8d8;\n",
       "            color:  #000000;\n",
       "        }#T_2341ebb2_0e39_11eb_aee1_525400b9fb0erow10_col11,#T_2341ebb2_0e39_11eb_aee1_525400b9fb0erow11_col10{\n",
       "            background-color:  #045e93;\n",
       "            color:  #f1f1f1;\n",
       "        }#T_2341ebb2_0e39_11eb_aee1_525400b9fb0erow10_col12,#T_2341ebb2_0e39_11eb_aee1_525400b9fb0erow12_col10{\n",
       "            background-color:  #1379b5;\n",
       "            color:  #f1f1f1;\n",
       "        }#T_2341ebb2_0e39_11eb_aee1_525400b9fb0erow10_col13,#T_2341ebb2_0e39_11eb_aee1_525400b9fb0erow13_col10{\n",
       "            background-color:  #358fc0;\n",
       "            color:  #000000;\n",
       "        }#T_2341ebb2_0e39_11eb_aee1_525400b9fb0erow10_col14,#T_2341ebb2_0e39_11eb_aee1_525400b9fb0erow14_col10{\n",
       "            background-color:  #6ba5cd;\n",
       "            color:  #000000;\n",
       "        }#T_2341ebb2_0e39_11eb_aee1_525400b9fb0erow10_col15,#T_2341ebb2_0e39_11eb_aee1_525400b9fb0erow15_col10{\n",
       "            background-color:  #549cc7;\n",
       "            color:  #000000;\n",
       "        }#T_2341ebb2_0e39_11eb_aee1_525400b9fb0erow10_col16,#T_2341ebb2_0e39_11eb_aee1_525400b9fb0erow16_col10{\n",
       "            background-color:  #045c90;\n",
       "            color:  #f1f1f1;\n",
       "        }#T_2341ebb2_0e39_11eb_aee1_525400b9fb0erow11_col12,#T_2341ebb2_0e39_11eb_aee1_525400b9fb0erow12_col11{\n",
       "            background-color:  #2c89bd;\n",
       "            color:  #000000;\n",
       "        }#T_2341ebb2_0e39_11eb_aee1_525400b9fb0erow11_col14,#T_2341ebb2_0e39_11eb_aee1_525400b9fb0erow14_col11{\n",
       "            background-color:  #60a1ca;\n",
       "            color:  #000000;\n",
       "        }#T_2341ebb2_0e39_11eb_aee1_525400b9fb0erow11_col15,#T_2341ebb2_0e39_11eb_aee1_525400b9fb0erow15_col11{\n",
       "            background-color:  #75a9cf;\n",
       "            color:  #000000;\n",
       "        }#T_2341ebb2_0e39_11eb_aee1_525400b9fb0erow11_col16,#T_2341ebb2_0e39_11eb_aee1_525400b9fb0erow13_col16,#T_2341ebb2_0e39_11eb_aee1_525400b9fb0erow16_col11,#T_2341ebb2_0e39_11eb_aee1_525400b9fb0erow16_col13{\n",
       "            background-color:  #04598c;\n",
       "            color:  #f1f1f1;\n",
       "        }#T_2341ebb2_0e39_11eb_aee1_525400b9fb0erow12_col14,#T_2341ebb2_0e39_11eb_aee1_525400b9fb0erow14_col12{\n",
       "            background-color:  #1278b4;\n",
       "            color:  #f1f1f1;\n",
       "        }#T_2341ebb2_0e39_11eb_aee1_525400b9fb0erow12_col16,#T_2341ebb2_0e39_11eb_aee1_525400b9fb0erow16_col12{\n",
       "            background-color:  #056ba9;\n",
       "            color:  #f1f1f1;\n",
       "        }#T_2341ebb2_0e39_11eb_aee1_525400b9fb0erow13_col14,#T_2341ebb2_0e39_11eb_aee1_525400b9fb0erow14_col13{\n",
       "            background-color:  #0568a3;\n",
       "            color:  #f1f1f1;\n",
       "        }#T_2341ebb2_0e39_11eb_aee1_525400b9fb0erow13_col15,#T_2341ebb2_0e39_11eb_aee1_525400b9fb0erow15_col13{\n",
       "            background-color:  #157ab5;\n",
       "            color:  #000000;\n",
       "        }#T_2341ebb2_0e39_11eb_aee1_525400b9fb0erow14_col16,#T_2341ebb2_0e39_11eb_aee1_525400b9fb0erow16_col14{\n",
       "            background-color:  #2987bc;\n",
       "            color:  #000000;\n",
       "        }#T_2341ebb2_0e39_11eb_aee1_525400b9fb0erow15_col16,#T_2341ebb2_0e39_11eb_aee1_525400b9fb0erow16_col15{\n",
       "            background-color:  #3991c1;\n",
       "            color:  #000000;\n",
       "        }</style><table id=\"T_2341ebb2_0e39_11eb_aee1_525400b9fb0e\" ><thead>    <tr>        <th class=\"blank level0\" ></th>        <th class=\"col_heading level0 col0\" >Rt</th>        <th class=\"col_heading level0 col1\" >theta</th>        <th class=\"col_heading level0 col2\" >kappa</th>        <th class=\"col_heading level0 col3\" >rho</th>        <th class=\"col_heading level0 col4\" >sigma</th>        <th class=\"col_heading level0 col5\" >School_closing</th>        <th class=\"col_heading level0 col6\" >Workplace_closing</th>        <th class=\"col_heading level0 col7\" >Cancel_events</th>        <th class=\"col_heading level0 col8\" >Gatherings_restrictions</th>        <th class=\"col_heading level0 col9\" >Transport_closing</th>        <th class=\"col_heading level0 col10\" >Stay_home_restrictions</th>        <th class=\"col_heading level0 col11\" >Internal_movement_restrictions</th>        <th class=\"col_heading level0 col12\" >International_movement_restrictions</th>        <th class=\"col_heading level0 col13\" >Information_campaigns</th>        <th class=\"col_heading level0 col14\" >Testing_policy</th>        <th class=\"col_heading level0 col15\" >Contact_tracing</th>        <th class=\"col_heading level0 col16\" >Stringency_index</th>    </tr></thead><tbody>\n",
       "                <tr>\n",
       "                        <th id=\"T_2341ebb2_0e39_11eb_aee1_525400b9fb0elevel0_row0\" class=\"row_heading level0 row0\" >Rt</th>\n",
       "                        <td id=\"T_2341ebb2_0e39_11eb_aee1_525400b9fb0erow0_col0\" class=\"data row0 col0\" >1.000000</td>\n",
       "                        <td id=\"T_2341ebb2_0e39_11eb_aee1_525400b9fb0erow0_col1\" class=\"data row0 col1\" >-0.280337</td>\n",
       "                        <td id=\"T_2341ebb2_0e39_11eb_aee1_525400b9fb0erow0_col2\" class=\"data row0 col2\" >-0.277567</td>\n",
       "                        <td id=\"T_2341ebb2_0e39_11eb_aee1_525400b9fb0erow0_col3\" class=\"data row0 col3\" >-0.130979</td>\n",
       "                        <td id=\"T_2341ebb2_0e39_11eb_aee1_525400b9fb0erow0_col4\" class=\"data row0 col4\" >-0.183739</td>\n",
       "                        <td id=\"T_2341ebb2_0e39_11eb_aee1_525400b9fb0erow0_col5\" class=\"data row0 col5\" >-0.108645</td>\n",
       "                        <td id=\"T_2341ebb2_0e39_11eb_aee1_525400b9fb0erow0_col6\" class=\"data row0 col6\" >0.044849</td>\n",
       "                        <td id=\"T_2341ebb2_0e39_11eb_aee1_525400b9fb0erow0_col7\" class=\"data row0 col7\" >-0.173099</td>\n",
       "                        <td id=\"T_2341ebb2_0e39_11eb_aee1_525400b9fb0erow0_col8\" class=\"data row0 col8\" >0.043775</td>\n",
       "                        <td id=\"T_2341ebb2_0e39_11eb_aee1_525400b9fb0erow0_col9\" class=\"data row0 col9\" >-0.136219</td>\n",
       "                        <td id=\"T_2341ebb2_0e39_11eb_aee1_525400b9fb0erow0_col10\" class=\"data row0 col10\" >-0.243121</td>\n",
       "                        <td id=\"T_2341ebb2_0e39_11eb_aee1_525400b9fb0erow0_col11\" class=\"data row0 col11\" >-0.069739</td>\n",
       "                        <td id=\"T_2341ebb2_0e39_11eb_aee1_525400b9fb0erow0_col12\" class=\"data row0 col12\" >-0.157359</td>\n",
       "                        <td id=\"T_2341ebb2_0e39_11eb_aee1_525400b9fb0erow0_col13\" class=\"data row0 col13\" >0.032488</td>\n",
       "                        <td id=\"T_2341ebb2_0e39_11eb_aee1_525400b9fb0erow0_col14\" class=\"data row0 col14\" >-0.014732</td>\n",
       "                        <td id=\"T_2341ebb2_0e39_11eb_aee1_525400b9fb0erow0_col15\" class=\"data row0 col15\" >-0.109117</td>\n",
       "                        <td id=\"T_2341ebb2_0e39_11eb_aee1_525400b9fb0erow0_col16\" class=\"data row0 col16\" >-0.086681</td>\n",
       "            </tr>\n",
       "            <tr>\n",
       "                        <th id=\"T_2341ebb2_0e39_11eb_aee1_525400b9fb0elevel0_row1\" class=\"row_heading level0 row1\" >theta</th>\n",
       "                        <td id=\"T_2341ebb2_0e39_11eb_aee1_525400b9fb0erow1_col0\" class=\"data row1 col0\" >-0.280337</td>\n",
       "                        <td id=\"T_2341ebb2_0e39_11eb_aee1_525400b9fb0erow1_col1\" class=\"data row1 col1\" >1.000000</td>\n",
       "                        <td id=\"T_2341ebb2_0e39_11eb_aee1_525400b9fb0erow1_col2\" class=\"data row1 col2\" >0.961210</td>\n",
       "                        <td id=\"T_2341ebb2_0e39_11eb_aee1_525400b9fb0erow1_col3\" class=\"data row1 col3\" >0.902362</td>\n",
       "                        <td id=\"T_2341ebb2_0e39_11eb_aee1_525400b9fb0erow1_col4\" class=\"data row1 col4\" >-0.039122</td>\n",
       "                        <td id=\"T_2341ebb2_0e39_11eb_aee1_525400b9fb0erow1_col5\" class=\"data row1 col5\" >-0.237298</td>\n",
       "                        <td id=\"T_2341ebb2_0e39_11eb_aee1_525400b9fb0erow1_col6\" class=\"data row1 col6\" >-0.177048</td>\n",
       "                        <td id=\"T_2341ebb2_0e39_11eb_aee1_525400b9fb0erow1_col7\" class=\"data row1 col7\" >-0.310200</td>\n",
       "                        <td id=\"T_2341ebb2_0e39_11eb_aee1_525400b9fb0erow1_col8\" class=\"data row1 col8\" >-0.223554</td>\n",
       "                        <td id=\"T_2341ebb2_0e39_11eb_aee1_525400b9fb0erow1_col9\" class=\"data row1 col9\" >-0.256049</td>\n",
       "                        <td id=\"T_2341ebb2_0e39_11eb_aee1_525400b9fb0erow1_col10\" class=\"data row1 col10\" >0.170989</td>\n",
       "                        <td id=\"T_2341ebb2_0e39_11eb_aee1_525400b9fb0erow1_col11\" class=\"data row1 col11\" >-0.036988</td>\n",
       "                        <td id=\"T_2341ebb2_0e39_11eb_aee1_525400b9fb0erow1_col12\" class=\"data row1 col12\" >0.100489</td>\n",
       "                        <td id=\"T_2341ebb2_0e39_11eb_aee1_525400b9fb0erow1_col13\" class=\"data row1 col13\" >-0.388446</td>\n",
       "                        <td id=\"T_2341ebb2_0e39_11eb_aee1_525400b9fb0erow1_col14\" class=\"data row1 col14\" >-0.436143</td>\n",
       "                        <td id=\"T_2341ebb2_0e39_11eb_aee1_525400b9fb0erow1_col15\" class=\"data row1 col15\" >-0.071769</td>\n",
       "                        <td id=\"T_2341ebb2_0e39_11eb_aee1_525400b9fb0erow1_col16\" class=\"data row1 col16\" >-0.129493</td>\n",
       "            </tr>\n",
       "            <tr>\n",
       "                        <th id=\"T_2341ebb2_0e39_11eb_aee1_525400b9fb0elevel0_row2\" class=\"row_heading level0 row2\" >kappa</th>\n",
       "                        <td id=\"T_2341ebb2_0e39_11eb_aee1_525400b9fb0erow2_col0\" class=\"data row2 col0\" >-0.277567</td>\n",
       "                        <td id=\"T_2341ebb2_0e39_11eb_aee1_525400b9fb0erow2_col1\" class=\"data row2 col1\" >0.961210</td>\n",
       "                        <td id=\"T_2341ebb2_0e39_11eb_aee1_525400b9fb0erow2_col2\" class=\"data row2 col2\" >1.000000</td>\n",
       "                        <td id=\"T_2341ebb2_0e39_11eb_aee1_525400b9fb0erow2_col3\" class=\"data row2 col3\" >0.867919</td>\n",
       "                        <td id=\"T_2341ebb2_0e39_11eb_aee1_525400b9fb0erow2_col4\" class=\"data row2 col4\" >-0.051469</td>\n",
       "                        <td id=\"T_2341ebb2_0e39_11eb_aee1_525400b9fb0erow2_col5\" class=\"data row2 col5\" >-0.211876</td>\n",
       "                        <td id=\"T_2341ebb2_0e39_11eb_aee1_525400b9fb0erow2_col6\" class=\"data row2 col6\" >-0.146910</td>\n",
       "                        <td id=\"T_2341ebb2_0e39_11eb_aee1_525400b9fb0erow2_col7\" class=\"data row2 col7\" >-0.262781</td>\n",
       "                        <td id=\"T_2341ebb2_0e39_11eb_aee1_525400b9fb0erow2_col8\" class=\"data row2 col8\" >-0.199926</td>\n",
       "                        <td id=\"T_2341ebb2_0e39_11eb_aee1_525400b9fb0erow2_col9\" class=\"data row2 col9\" >-0.237315</td>\n",
       "                        <td id=\"T_2341ebb2_0e39_11eb_aee1_525400b9fb0erow2_col10\" class=\"data row2 col10\" >0.207760</td>\n",
       "                        <td id=\"T_2341ebb2_0e39_11eb_aee1_525400b9fb0erow2_col11\" class=\"data row2 col11\" >-0.003417</td>\n",
       "                        <td id=\"T_2341ebb2_0e39_11eb_aee1_525400b9fb0erow2_col12\" class=\"data row2 col12\" >0.208210</td>\n",
       "                        <td id=\"T_2341ebb2_0e39_11eb_aee1_525400b9fb0erow2_col13\" class=\"data row2 col13\" >-0.342432</td>\n",
       "                        <td id=\"T_2341ebb2_0e39_11eb_aee1_525400b9fb0erow2_col14\" class=\"data row2 col14\" >-0.323805</td>\n",
       "                        <td id=\"T_2341ebb2_0e39_11eb_aee1_525400b9fb0erow2_col15\" class=\"data row2 col15\" >0.021933</td>\n",
       "                        <td id=\"T_2341ebb2_0e39_11eb_aee1_525400b9fb0erow2_col16\" class=\"data row2 col16\" >-0.098249</td>\n",
       "            </tr>\n",
       "            <tr>\n",
       "                        <th id=\"T_2341ebb2_0e39_11eb_aee1_525400b9fb0elevel0_row3\" class=\"row_heading level0 row3\" >rho</th>\n",
       "                        <td id=\"T_2341ebb2_0e39_11eb_aee1_525400b9fb0erow3_col0\" class=\"data row3 col0\" >-0.130979</td>\n",
       "                        <td id=\"T_2341ebb2_0e39_11eb_aee1_525400b9fb0erow3_col1\" class=\"data row3 col1\" >0.902362</td>\n",
       "                        <td id=\"T_2341ebb2_0e39_11eb_aee1_525400b9fb0erow3_col2\" class=\"data row3 col2\" >0.867919</td>\n",
       "                        <td id=\"T_2341ebb2_0e39_11eb_aee1_525400b9fb0erow3_col3\" class=\"data row3 col3\" >1.000000</td>\n",
       "                        <td id=\"T_2341ebb2_0e39_11eb_aee1_525400b9fb0erow3_col4\" class=\"data row3 col4\" >0.231718</td>\n",
       "                        <td id=\"T_2341ebb2_0e39_11eb_aee1_525400b9fb0erow3_col5\" class=\"data row3 col5\" >-0.176441</td>\n",
       "                        <td id=\"T_2341ebb2_0e39_11eb_aee1_525400b9fb0erow3_col6\" class=\"data row3 col6\" >-0.162487</td>\n",
       "                        <td id=\"T_2341ebb2_0e39_11eb_aee1_525400b9fb0erow3_col7\" class=\"data row3 col7\" >-0.333550</td>\n",
       "                        <td id=\"T_2341ebb2_0e39_11eb_aee1_525400b9fb0erow3_col8\" class=\"data row3 col8\" >-0.217854</td>\n",
       "                        <td id=\"T_2341ebb2_0e39_11eb_aee1_525400b9fb0erow3_col9\" class=\"data row3 col9\" >-0.203658</td>\n",
       "                        <td id=\"T_2341ebb2_0e39_11eb_aee1_525400b9fb0erow3_col10\" class=\"data row3 col10\" >0.197809</td>\n",
       "                        <td id=\"T_2341ebb2_0e39_11eb_aee1_525400b9fb0erow3_col11\" class=\"data row3 col11\" >-0.013535</td>\n",
       "                        <td id=\"T_2341ebb2_0e39_11eb_aee1_525400b9fb0erow3_col12\" class=\"data row3 col12\" >0.046649</td>\n",
       "                        <td id=\"T_2341ebb2_0e39_11eb_aee1_525400b9fb0erow3_col13\" class=\"data row3 col13\" >-0.407302</td>\n",
       "                        <td id=\"T_2341ebb2_0e39_11eb_aee1_525400b9fb0erow3_col14\" class=\"data row3 col14\" >-0.495111</td>\n",
       "                        <td id=\"T_2341ebb2_0e39_11eb_aee1_525400b9fb0erow3_col15\" class=\"data row3 col15\" >-0.156040</td>\n",
       "                        <td id=\"T_2341ebb2_0e39_11eb_aee1_525400b9fb0erow3_col16\" class=\"data row3 col16\" >-0.106445</td>\n",
       "            </tr>\n",
       "            <tr>\n",
       "                        <th id=\"T_2341ebb2_0e39_11eb_aee1_525400b9fb0elevel0_row4\" class=\"row_heading level0 row4\" >sigma</th>\n",
       "                        <td id=\"T_2341ebb2_0e39_11eb_aee1_525400b9fb0erow4_col0\" class=\"data row4 col0\" >-0.183739</td>\n",
       "                        <td id=\"T_2341ebb2_0e39_11eb_aee1_525400b9fb0erow4_col1\" class=\"data row4 col1\" >-0.039122</td>\n",
       "                        <td id=\"T_2341ebb2_0e39_11eb_aee1_525400b9fb0erow4_col2\" class=\"data row4 col2\" >-0.051469</td>\n",
       "                        <td id=\"T_2341ebb2_0e39_11eb_aee1_525400b9fb0erow4_col3\" class=\"data row4 col3\" >0.231718</td>\n",
       "                        <td id=\"T_2341ebb2_0e39_11eb_aee1_525400b9fb0erow4_col4\" class=\"data row4 col4\" >1.000000</td>\n",
       "                        <td id=\"T_2341ebb2_0e39_11eb_aee1_525400b9fb0erow4_col5\" class=\"data row4 col5\" >0.164290</td>\n",
       "                        <td id=\"T_2341ebb2_0e39_11eb_aee1_525400b9fb0erow4_col6\" class=\"data row4 col6\" >0.042488</td>\n",
       "                        <td id=\"T_2341ebb2_0e39_11eb_aee1_525400b9fb0erow4_col7\" class=\"data row4 col7\" >0.079918</td>\n",
       "                        <td id=\"T_2341ebb2_0e39_11eb_aee1_525400b9fb0erow4_col8\" class=\"data row4 col8\" >0.028023</td>\n",
       "                        <td id=\"T_2341ebb2_0e39_11eb_aee1_525400b9fb0erow4_col9\" class=\"data row4 col9\" >0.192098</td>\n",
       "                        <td id=\"T_2341ebb2_0e39_11eb_aee1_525400b9fb0erow4_col10\" class=\"data row4 col10\" >0.178852</td>\n",
       "                        <td id=\"T_2341ebb2_0e39_11eb_aee1_525400b9fb0erow4_col11\" class=\"data row4 col11\" >0.124931</td>\n",
       "                        <td id=\"T_2341ebb2_0e39_11eb_aee1_525400b9fb0erow4_col12\" class=\"data row4 col12\" >0.021541</td>\n",
       "                        <td id=\"T_2341ebb2_0e39_11eb_aee1_525400b9fb0erow4_col13\" class=\"data row4 col13\" >0.025808</td>\n",
       "                        <td id=\"T_2341ebb2_0e39_11eb_aee1_525400b9fb0erow4_col14\" class=\"data row4 col14\" >-0.128711</td>\n",
       "                        <td id=\"T_2341ebb2_0e39_11eb_aee1_525400b9fb0erow4_col15\" class=\"data row4 col15\" >0.023434</td>\n",
       "                        <td id=\"T_2341ebb2_0e39_11eb_aee1_525400b9fb0erow4_col16\" class=\"data row4 col16\" >0.158259</td>\n",
       "            </tr>\n",
       "            <tr>\n",
       "                        <th id=\"T_2341ebb2_0e39_11eb_aee1_525400b9fb0elevel0_row5\" class=\"row_heading level0 row5\" >School_closing</th>\n",
       "                        <td id=\"T_2341ebb2_0e39_11eb_aee1_525400b9fb0erow5_col0\" class=\"data row5 col0\" >-0.108645</td>\n",
       "                        <td id=\"T_2341ebb2_0e39_11eb_aee1_525400b9fb0erow5_col1\" class=\"data row5 col1\" >-0.237298</td>\n",
       "                        <td id=\"T_2341ebb2_0e39_11eb_aee1_525400b9fb0erow5_col2\" class=\"data row5 col2\" >-0.211876</td>\n",
       "                        <td id=\"T_2341ebb2_0e39_11eb_aee1_525400b9fb0erow5_col3\" class=\"data row5 col3\" >-0.176441</td>\n",
       "                        <td id=\"T_2341ebb2_0e39_11eb_aee1_525400b9fb0erow5_col4\" class=\"data row5 col4\" >0.164290</td>\n",
       "                        <td id=\"T_2341ebb2_0e39_11eb_aee1_525400b9fb0erow5_col5\" class=\"data row5 col5\" >1.000000</td>\n",
       "                        <td id=\"T_2341ebb2_0e39_11eb_aee1_525400b9fb0erow5_col6\" class=\"data row5 col6\" >0.760221</td>\n",
       "                        <td id=\"T_2341ebb2_0e39_11eb_aee1_525400b9fb0erow5_col7\" class=\"data row5 col7\" >0.804928</td>\n",
       "                        <td id=\"T_2341ebb2_0e39_11eb_aee1_525400b9fb0erow5_col8\" class=\"data row5 col8\" >0.672399</td>\n",
       "                        <td id=\"T_2341ebb2_0e39_11eb_aee1_525400b9fb0erow5_col9\" class=\"data row5 col9\" >0.701811</td>\n",
       "                        <td id=\"T_2341ebb2_0e39_11eb_aee1_525400b9fb0erow5_col10\" class=\"data row5 col10\" >0.611266</td>\n",
       "                        <td id=\"T_2341ebb2_0e39_11eb_aee1_525400b9fb0erow5_col11\" class=\"data row5 col11\" >0.622458</td>\n",
       "                        <td id=\"T_2341ebb2_0e39_11eb_aee1_525400b9fb0erow5_col12\" class=\"data row5 col12\" >0.500552</td>\n",
       "                        <td id=\"T_2341ebb2_0e39_11eb_aee1_525400b9fb0erow5_col13\" class=\"data row5 col13\" >0.707005</td>\n",
       "                        <td id=\"T_2341ebb2_0e39_11eb_aee1_525400b9fb0erow5_col14\" class=\"data row5 col14\" >0.520312</td>\n",
       "                        <td id=\"T_2341ebb2_0e39_11eb_aee1_525400b9fb0erow5_col15\" class=\"data row5 col15\" >0.232595</td>\n",
       "                        <td id=\"T_2341ebb2_0e39_11eb_aee1_525400b9fb0erow5_col16\" class=\"data row5 col16\" >0.844192</td>\n",
       "            </tr>\n",
       "            <tr>\n",
       "                        <th id=\"T_2341ebb2_0e39_11eb_aee1_525400b9fb0elevel0_row6\" class=\"row_heading level0 row6\" >Workplace_closing</th>\n",
       "                        <td id=\"T_2341ebb2_0e39_11eb_aee1_525400b9fb0erow6_col0\" class=\"data row6 col0\" >0.044849</td>\n",
       "                        <td id=\"T_2341ebb2_0e39_11eb_aee1_525400b9fb0erow6_col1\" class=\"data row6 col1\" >-0.177048</td>\n",
       "                        <td id=\"T_2341ebb2_0e39_11eb_aee1_525400b9fb0erow6_col2\" class=\"data row6 col2\" >-0.146910</td>\n",
       "                        <td id=\"T_2341ebb2_0e39_11eb_aee1_525400b9fb0erow6_col3\" class=\"data row6 col3\" >-0.162487</td>\n",
       "                        <td id=\"T_2341ebb2_0e39_11eb_aee1_525400b9fb0erow6_col4\" class=\"data row6 col4\" >0.042488</td>\n",
       "                        <td id=\"T_2341ebb2_0e39_11eb_aee1_525400b9fb0erow6_col5\" class=\"data row6 col5\" >0.760221</td>\n",
       "                        <td id=\"T_2341ebb2_0e39_11eb_aee1_525400b9fb0erow6_col6\" class=\"data row6 col6\" >1.000000</td>\n",
       "                        <td id=\"T_2341ebb2_0e39_11eb_aee1_525400b9fb0erow6_col7\" class=\"data row6 col7\" >0.748601</td>\n",
       "                        <td id=\"T_2341ebb2_0e39_11eb_aee1_525400b9fb0erow6_col8\" class=\"data row6 col8\" >0.707562</td>\n",
       "                        <td id=\"T_2341ebb2_0e39_11eb_aee1_525400b9fb0erow6_col9\" class=\"data row6 col9\" >0.660634</td>\n",
       "                        <td id=\"T_2341ebb2_0e39_11eb_aee1_525400b9fb0erow6_col10\" class=\"data row6 col10\" >0.621502</td>\n",
       "                        <td id=\"T_2341ebb2_0e39_11eb_aee1_525400b9fb0erow6_col11\" class=\"data row6 col11\" >0.596315</td>\n",
       "                        <td id=\"T_2341ebb2_0e39_11eb_aee1_525400b9fb0erow6_col12\" class=\"data row6 col12\" >0.512740</td>\n",
       "                        <td id=\"T_2341ebb2_0e39_11eb_aee1_525400b9fb0erow6_col13\" class=\"data row6 col13\" >0.806157</td>\n",
       "                        <td id=\"T_2341ebb2_0e39_11eb_aee1_525400b9fb0erow6_col14\" class=\"data row6 col14\" >0.513635</td>\n",
       "                        <td id=\"T_2341ebb2_0e39_11eb_aee1_525400b9fb0erow6_col15\" class=\"data row6 col15\" >0.345020</td>\n",
       "                        <td id=\"T_2341ebb2_0e39_11eb_aee1_525400b9fb0erow6_col16\" class=\"data row6 col16\" >0.865648</td>\n",
       "            </tr>\n",
       "            <tr>\n",
       "                        <th id=\"T_2341ebb2_0e39_11eb_aee1_525400b9fb0elevel0_row7\" class=\"row_heading level0 row7\" >Cancel_events</th>\n",
       "                        <td id=\"T_2341ebb2_0e39_11eb_aee1_525400b9fb0erow7_col0\" class=\"data row7 col0\" >-0.173099</td>\n",
       "                        <td id=\"T_2341ebb2_0e39_11eb_aee1_525400b9fb0erow7_col1\" class=\"data row7 col1\" >-0.310200</td>\n",
       "                        <td id=\"T_2341ebb2_0e39_11eb_aee1_525400b9fb0erow7_col2\" class=\"data row7 col2\" >-0.262781</td>\n",
       "                        <td id=\"T_2341ebb2_0e39_11eb_aee1_525400b9fb0erow7_col3\" class=\"data row7 col3\" >-0.333550</td>\n",
       "                        <td id=\"T_2341ebb2_0e39_11eb_aee1_525400b9fb0erow7_col4\" class=\"data row7 col4\" >0.079918</td>\n",
       "                        <td id=\"T_2341ebb2_0e39_11eb_aee1_525400b9fb0erow7_col5\" class=\"data row7 col5\" >0.804928</td>\n",
       "                        <td id=\"T_2341ebb2_0e39_11eb_aee1_525400b9fb0erow7_col6\" class=\"data row7 col6\" >0.748601</td>\n",
       "                        <td id=\"T_2341ebb2_0e39_11eb_aee1_525400b9fb0erow7_col7\" class=\"data row7 col7\" >1.000000</td>\n",
       "                        <td id=\"T_2341ebb2_0e39_11eb_aee1_525400b9fb0erow7_col8\" class=\"data row7 col8\" >0.683567</td>\n",
       "                        <td id=\"T_2341ebb2_0e39_11eb_aee1_525400b9fb0erow7_col9\" class=\"data row7 col9\" >0.591277</td>\n",
       "                        <td id=\"T_2341ebb2_0e39_11eb_aee1_525400b9fb0erow7_col10\" class=\"data row7 col10\" >0.551989</td>\n",
       "                        <td id=\"T_2341ebb2_0e39_11eb_aee1_525400b9fb0erow7_col11\" class=\"data row7 col11\" >0.580200</td>\n",
       "                        <td id=\"T_2341ebb2_0e39_11eb_aee1_525400b9fb0erow7_col12\" class=\"data row7 col12\" >0.580883</td>\n",
       "                        <td id=\"T_2341ebb2_0e39_11eb_aee1_525400b9fb0erow7_col13\" class=\"data row7 col13\" >0.852576</td>\n",
       "                        <td id=\"T_2341ebb2_0e39_11eb_aee1_525400b9fb0erow7_col14\" class=\"data row7 col14\" >0.641225</td>\n",
       "                        <td id=\"T_2341ebb2_0e39_11eb_aee1_525400b9fb0erow7_col15\" class=\"data row7 col15\" >0.559558</td>\n",
       "                        <td id=\"T_2341ebb2_0e39_11eb_aee1_525400b9fb0erow7_col16\" class=\"data row7 col16\" >0.835476</td>\n",
       "            </tr>\n",
       "            <tr>\n",
       "                        <th id=\"T_2341ebb2_0e39_11eb_aee1_525400b9fb0elevel0_row8\" class=\"row_heading level0 row8\" >Gatherings_restrictions</th>\n",
       "                        <td id=\"T_2341ebb2_0e39_11eb_aee1_525400b9fb0erow8_col0\" class=\"data row8 col0\" >0.043775</td>\n",
       "                        <td id=\"T_2341ebb2_0e39_11eb_aee1_525400b9fb0erow8_col1\" class=\"data row8 col1\" >-0.223554</td>\n",
       "                        <td id=\"T_2341ebb2_0e39_11eb_aee1_525400b9fb0erow8_col2\" class=\"data row8 col2\" >-0.199926</td>\n",
       "                        <td id=\"T_2341ebb2_0e39_11eb_aee1_525400b9fb0erow8_col3\" class=\"data row8 col3\" >-0.217854</td>\n",
       "                        <td id=\"T_2341ebb2_0e39_11eb_aee1_525400b9fb0erow8_col4\" class=\"data row8 col4\" >0.028023</td>\n",
       "                        <td id=\"T_2341ebb2_0e39_11eb_aee1_525400b9fb0erow8_col5\" class=\"data row8 col5\" >0.672399</td>\n",
       "                        <td id=\"T_2341ebb2_0e39_11eb_aee1_525400b9fb0erow8_col6\" class=\"data row8 col6\" >0.707562</td>\n",
       "                        <td id=\"T_2341ebb2_0e39_11eb_aee1_525400b9fb0erow8_col7\" class=\"data row8 col7\" >0.683567</td>\n",
       "                        <td id=\"T_2341ebb2_0e39_11eb_aee1_525400b9fb0erow8_col8\" class=\"data row8 col8\" >1.000000</td>\n",
       "                        <td id=\"T_2341ebb2_0e39_11eb_aee1_525400b9fb0erow8_col9\" class=\"data row8 col9\" >0.761723</td>\n",
       "                        <td id=\"T_2341ebb2_0e39_11eb_aee1_525400b9fb0erow8_col10\" class=\"data row8 col10\" >0.637905</td>\n",
       "                        <td id=\"T_2341ebb2_0e39_11eb_aee1_525400b9fb0erow8_col11\" class=\"data row8 col11\" >0.757169</td>\n",
       "                        <td id=\"T_2341ebb2_0e39_11eb_aee1_525400b9fb0erow8_col12\" class=\"data row8 col12\" >0.531513</td>\n",
       "                        <td id=\"T_2341ebb2_0e39_11eb_aee1_525400b9fb0erow8_col13\" class=\"data row8 col13\" >0.732357</td>\n",
       "                        <td id=\"T_2341ebb2_0e39_11eb_aee1_525400b9fb0erow8_col14\" class=\"data row8 col14\" >0.522842</td>\n",
       "                        <td id=\"T_2341ebb2_0e39_11eb_aee1_525400b9fb0erow8_col15\" class=\"data row8 col15\" >0.321558</td>\n",
       "                        <td id=\"T_2341ebb2_0e39_11eb_aee1_525400b9fb0erow8_col16\" class=\"data row8 col16\" >0.864531</td>\n",
       "            </tr>\n",
       "            <tr>\n",
       "                        <th id=\"T_2341ebb2_0e39_11eb_aee1_525400b9fb0elevel0_row9\" class=\"row_heading level0 row9\" >Transport_closing</th>\n",
       "                        <td id=\"T_2341ebb2_0e39_11eb_aee1_525400b9fb0erow9_col0\" class=\"data row9 col0\" >-0.136219</td>\n",
       "                        <td id=\"T_2341ebb2_0e39_11eb_aee1_525400b9fb0erow9_col1\" class=\"data row9 col1\" >-0.256049</td>\n",
       "                        <td id=\"T_2341ebb2_0e39_11eb_aee1_525400b9fb0erow9_col2\" class=\"data row9 col2\" >-0.237315</td>\n",
       "                        <td id=\"T_2341ebb2_0e39_11eb_aee1_525400b9fb0erow9_col3\" class=\"data row9 col3\" >-0.203658</td>\n",
       "                        <td id=\"T_2341ebb2_0e39_11eb_aee1_525400b9fb0erow9_col4\" class=\"data row9 col4\" >0.192098</td>\n",
       "                        <td id=\"T_2341ebb2_0e39_11eb_aee1_525400b9fb0erow9_col5\" class=\"data row9 col5\" >0.701811</td>\n",
       "                        <td id=\"T_2341ebb2_0e39_11eb_aee1_525400b9fb0erow9_col6\" class=\"data row9 col6\" >0.660634</td>\n",
       "                        <td id=\"T_2341ebb2_0e39_11eb_aee1_525400b9fb0erow9_col7\" class=\"data row9 col7\" >0.591277</td>\n",
       "                        <td id=\"T_2341ebb2_0e39_11eb_aee1_525400b9fb0erow9_col8\" class=\"data row9 col8\" >0.761723</td>\n",
       "                        <td id=\"T_2341ebb2_0e39_11eb_aee1_525400b9fb0erow9_col9\" class=\"data row9 col9\" >1.000000</td>\n",
       "                        <td id=\"T_2341ebb2_0e39_11eb_aee1_525400b9fb0erow9_col10\" class=\"data row9 col10\" >0.645957</td>\n",
       "                        <td id=\"T_2341ebb2_0e39_11eb_aee1_525400b9fb0erow9_col11\" class=\"data row9 col11\" >0.755633</td>\n",
       "                        <td id=\"T_2341ebb2_0e39_11eb_aee1_525400b9fb0erow9_col12\" class=\"data row9 col12\" >0.433524</td>\n",
       "                        <td id=\"T_2341ebb2_0e39_11eb_aee1_525400b9fb0erow9_col13\" class=\"data row9 col13\" >0.551376</td>\n",
       "                        <td id=\"T_2341ebb2_0e39_11eb_aee1_525400b9fb0erow9_col14\" class=\"data row9 col14\" >0.401814</td>\n",
       "                        <td id=\"T_2341ebb2_0e39_11eb_aee1_525400b9fb0erow9_col15\" class=\"data row9 col15\" >0.111848</td>\n",
       "                        <td id=\"T_2341ebb2_0e39_11eb_aee1_525400b9fb0erow9_col16\" class=\"data row9 col16\" >0.804492</td>\n",
       "            </tr>\n",
       "            <tr>\n",
       "                        <th id=\"T_2341ebb2_0e39_11eb_aee1_525400b9fb0elevel0_row10\" class=\"row_heading level0 row10\" >Stay_home_restrictions</th>\n",
       "                        <td id=\"T_2341ebb2_0e39_11eb_aee1_525400b9fb0erow10_col0\" class=\"data row10 col0\" >-0.243121</td>\n",
       "                        <td id=\"T_2341ebb2_0e39_11eb_aee1_525400b9fb0erow10_col1\" class=\"data row10 col1\" >0.170989</td>\n",
       "                        <td id=\"T_2341ebb2_0e39_11eb_aee1_525400b9fb0erow10_col2\" class=\"data row10 col2\" >0.207760</td>\n",
       "                        <td id=\"T_2341ebb2_0e39_11eb_aee1_525400b9fb0erow10_col3\" class=\"data row10 col3\" >0.197809</td>\n",
       "                        <td id=\"T_2341ebb2_0e39_11eb_aee1_525400b9fb0erow10_col4\" class=\"data row10 col4\" >0.178852</td>\n",
       "                        <td id=\"T_2341ebb2_0e39_11eb_aee1_525400b9fb0erow10_col5\" class=\"data row10 col5\" >0.611266</td>\n",
       "                        <td id=\"T_2341ebb2_0e39_11eb_aee1_525400b9fb0erow10_col6\" class=\"data row10 col6\" >0.621502</td>\n",
       "                        <td id=\"T_2341ebb2_0e39_11eb_aee1_525400b9fb0erow10_col7\" class=\"data row10 col7\" >0.551989</td>\n",
       "                        <td id=\"T_2341ebb2_0e39_11eb_aee1_525400b9fb0erow10_col8\" class=\"data row10 col8\" >0.637905</td>\n",
       "                        <td id=\"T_2341ebb2_0e39_11eb_aee1_525400b9fb0erow10_col9\" class=\"data row10 col9\" >0.645957</td>\n",
       "                        <td id=\"T_2341ebb2_0e39_11eb_aee1_525400b9fb0erow10_col10\" class=\"data row10 col10\" >1.000000</td>\n",
       "                        <td id=\"T_2341ebb2_0e39_11eb_aee1_525400b9fb0erow10_col11\" class=\"data row10 col11\" >0.780045</td>\n",
       "                        <td id=\"T_2341ebb2_0e39_11eb_aee1_525400b9fb0erow10_col12\" class=\"data row10 col12\" >0.569679</td>\n",
       "                        <td id=\"T_2341ebb2_0e39_11eb_aee1_525400b9fb0erow10_col13\" class=\"data row10 col13\" >0.441979</td>\n",
       "                        <td id=\"T_2341ebb2_0e39_11eb_aee1_525400b9fb0erow10_col14\" class=\"data row10 col14\" >0.276670</td>\n",
       "                        <td id=\"T_2341ebb2_0e39_11eb_aee1_525400b9fb0erow10_col15\" class=\"data row10 col15\" >0.350087</td>\n",
       "                        <td id=\"T_2341ebb2_0e39_11eb_aee1_525400b9fb0erow10_col16\" class=\"data row10 col16\" >0.793250</td>\n",
       "            </tr>\n",
       "            <tr>\n",
       "                        <th id=\"T_2341ebb2_0e39_11eb_aee1_525400b9fb0elevel0_row11\" class=\"row_heading level0 row11\" >Internal_movement_restrictions</th>\n",
       "                        <td id=\"T_2341ebb2_0e39_11eb_aee1_525400b9fb0erow11_col0\" class=\"data row11 col0\" >-0.069739</td>\n",
       "                        <td id=\"T_2341ebb2_0e39_11eb_aee1_525400b9fb0erow11_col1\" class=\"data row11 col1\" >-0.036988</td>\n",
       "                        <td id=\"T_2341ebb2_0e39_11eb_aee1_525400b9fb0erow11_col2\" class=\"data row11 col2\" >-0.003417</td>\n",
       "                        <td id=\"T_2341ebb2_0e39_11eb_aee1_525400b9fb0erow11_col3\" class=\"data row11 col3\" >-0.013535</td>\n",
       "                        <td id=\"T_2341ebb2_0e39_11eb_aee1_525400b9fb0erow11_col4\" class=\"data row11 col4\" >0.124931</td>\n",
       "                        <td id=\"T_2341ebb2_0e39_11eb_aee1_525400b9fb0erow11_col5\" class=\"data row11 col5\" >0.622458</td>\n",
       "                        <td id=\"T_2341ebb2_0e39_11eb_aee1_525400b9fb0erow11_col6\" class=\"data row11 col6\" >0.596315</td>\n",
       "                        <td id=\"T_2341ebb2_0e39_11eb_aee1_525400b9fb0erow11_col7\" class=\"data row11 col7\" >0.580200</td>\n",
       "                        <td id=\"T_2341ebb2_0e39_11eb_aee1_525400b9fb0erow11_col8\" class=\"data row11 col8\" >0.757169</td>\n",
       "                        <td id=\"T_2341ebb2_0e39_11eb_aee1_525400b9fb0erow11_col9\" class=\"data row11 col9\" >0.755633</td>\n",
       "                        <td id=\"T_2341ebb2_0e39_11eb_aee1_525400b9fb0erow11_col10\" class=\"data row11 col10\" >0.780045</td>\n",
       "                        <td id=\"T_2341ebb2_0e39_11eb_aee1_525400b9fb0erow11_col11\" class=\"data row11 col11\" >1.000000</td>\n",
       "                        <td id=\"T_2341ebb2_0e39_11eb_aee1_525400b9fb0erow11_col12\" class=\"data row11 col12\" >0.478633</td>\n",
       "                        <td id=\"T_2341ebb2_0e39_11eb_aee1_525400b9fb0erow11_col13\" class=\"data row11 col13\" >0.519079</td>\n",
       "                        <td id=\"T_2341ebb2_0e39_11eb_aee1_525400b9fb0erow11_col14\" class=\"data row11 col14\" >0.311679</td>\n",
       "                        <td id=\"T_2341ebb2_0e39_11eb_aee1_525400b9fb0erow11_col15\" class=\"data row11 col15\" >0.250536</td>\n",
       "                        <td id=\"T_2341ebb2_0e39_11eb_aee1_525400b9fb0erow11_col16\" class=\"data row11 col16\" >0.816306</td>\n",
       "            </tr>\n",
       "            <tr>\n",
       "                        <th id=\"T_2341ebb2_0e39_11eb_aee1_525400b9fb0elevel0_row12\" class=\"row_heading level0 row12\" >International_movement_restrictions</th>\n",
       "                        <td id=\"T_2341ebb2_0e39_11eb_aee1_525400b9fb0erow12_col0\" class=\"data row12 col0\" >-0.157359</td>\n",
       "                        <td id=\"T_2341ebb2_0e39_11eb_aee1_525400b9fb0erow12_col1\" class=\"data row12 col1\" >0.100489</td>\n",
       "                        <td id=\"T_2341ebb2_0e39_11eb_aee1_525400b9fb0erow12_col2\" class=\"data row12 col2\" >0.208210</td>\n",
       "                        <td id=\"T_2341ebb2_0e39_11eb_aee1_525400b9fb0erow12_col3\" class=\"data row12 col3\" >0.046649</td>\n",
       "                        <td id=\"T_2341ebb2_0e39_11eb_aee1_525400b9fb0erow12_col4\" class=\"data row12 col4\" >0.021541</td>\n",
       "                        <td id=\"T_2341ebb2_0e39_11eb_aee1_525400b9fb0erow12_col5\" class=\"data row12 col5\" >0.500552</td>\n",
       "                        <td id=\"T_2341ebb2_0e39_11eb_aee1_525400b9fb0erow12_col6\" class=\"data row12 col6\" >0.512740</td>\n",
       "                        <td id=\"T_2341ebb2_0e39_11eb_aee1_525400b9fb0erow12_col7\" class=\"data row12 col7\" >0.580883</td>\n",
       "                        <td id=\"T_2341ebb2_0e39_11eb_aee1_525400b9fb0erow12_col8\" class=\"data row12 col8\" >0.531513</td>\n",
       "                        <td id=\"T_2341ebb2_0e39_11eb_aee1_525400b9fb0erow12_col9\" class=\"data row12 col9\" >0.433524</td>\n",
       "                        <td id=\"T_2341ebb2_0e39_11eb_aee1_525400b9fb0erow12_col10\" class=\"data row12 col10\" >0.569679</td>\n",
       "                        <td id=\"T_2341ebb2_0e39_11eb_aee1_525400b9fb0erow12_col11\" class=\"data row12 col11\" >0.478633</td>\n",
       "                        <td id=\"T_2341ebb2_0e39_11eb_aee1_525400b9fb0erow12_col12\" class=\"data row12 col12\" >1.000000</td>\n",
       "                        <td id=\"T_2341ebb2_0e39_11eb_aee1_525400b9fb0erow12_col13\" class=\"data row12 col13\" >0.552886</td>\n",
       "                        <td id=\"T_2341ebb2_0e39_11eb_aee1_525400b9fb0erow12_col14\" class=\"data row12 col14\" >0.576431</td>\n",
       "                        <td id=\"T_2341ebb2_0e39_11eb_aee1_525400b9fb0erow12_col15\" class=\"data row12 col15\" >0.584165</td>\n",
       "                        <td id=\"T_2341ebb2_0e39_11eb_aee1_525400b9fb0erow12_col16\" class=\"data row12 col16\" >0.666131</td>\n",
       "            </tr>\n",
       "            <tr>\n",
       "                        <th id=\"T_2341ebb2_0e39_11eb_aee1_525400b9fb0elevel0_row13\" class=\"row_heading level0 row13\" >Information_campaigns</th>\n",
       "                        <td id=\"T_2341ebb2_0e39_11eb_aee1_525400b9fb0erow13_col0\" class=\"data row13 col0\" >0.032488</td>\n",
       "                        <td id=\"T_2341ebb2_0e39_11eb_aee1_525400b9fb0erow13_col1\" class=\"data row13 col1\" >-0.388446</td>\n",
       "                        <td id=\"T_2341ebb2_0e39_11eb_aee1_525400b9fb0erow13_col2\" class=\"data row13 col2\" >-0.342432</td>\n",
       "                        <td id=\"T_2341ebb2_0e39_11eb_aee1_525400b9fb0erow13_col3\" class=\"data row13 col3\" >-0.407302</td>\n",
       "                        <td id=\"T_2341ebb2_0e39_11eb_aee1_525400b9fb0erow13_col4\" class=\"data row13 col4\" >0.025808</td>\n",
       "                        <td id=\"T_2341ebb2_0e39_11eb_aee1_525400b9fb0erow13_col5\" class=\"data row13 col5\" >0.707005</td>\n",
       "                        <td id=\"T_2341ebb2_0e39_11eb_aee1_525400b9fb0erow13_col6\" class=\"data row13 col6\" >0.806157</td>\n",
       "                        <td id=\"T_2341ebb2_0e39_11eb_aee1_525400b9fb0erow13_col7\" class=\"data row13 col7\" >0.852576</td>\n",
       "                        <td id=\"T_2341ebb2_0e39_11eb_aee1_525400b9fb0erow13_col8\" class=\"data row13 col8\" >0.732357</td>\n",
       "                        <td id=\"T_2341ebb2_0e39_11eb_aee1_525400b9fb0erow13_col9\" class=\"data row13 col9\" >0.551376</td>\n",
       "                        <td id=\"T_2341ebb2_0e39_11eb_aee1_525400b9fb0erow13_col10\" class=\"data row13 col10\" >0.441979</td>\n",
       "                        <td id=\"T_2341ebb2_0e39_11eb_aee1_525400b9fb0erow13_col11\" class=\"data row13 col11\" >0.519079</td>\n",
       "                        <td id=\"T_2341ebb2_0e39_11eb_aee1_525400b9fb0erow13_col12\" class=\"data row13 col12\" >0.552886</td>\n",
       "                        <td id=\"T_2341ebb2_0e39_11eb_aee1_525400b9fb0erow13_col13\" class=\"data row13 col13\" >1.000000</td>\n",
       "                        <td id=\"T_2341ebb2_0e39_11eb_aee1_525400b9fb0erow13_col14\" class=\"data row13 col14\" >0.690852</td>\n",
       "                        <td id=\"T_2341ebb2_0e39_11eb_aee1_525400b9fb0erow13_col15\" class=\"data row13 col15\" >0.567223</td>\n",
       "                        <td id=\"T_2341ebb2_0e39_11eb_aee1_525400b9fb0erow13_col16\" class=\"data row13 col16\" >0.814228</td>\n",
       "            </tr>\n",
       "            <tr>\n",
       "                        <th id=\"T_2341ebb2_0e39_11eb_aee1_525400b9fb0elevel0_row14\" class=\"row_heading level0 row14\" >Testing_policy</th>\n",
       "                        <td id=\"T_2341ebb2_0e39_11eb_aee1_525400b9fb0erow14_col0\" class=\"data row14 col0\" >-0.014732</td>\n",
       "                        <td id=\"T_2341ebb2_0e39_11eb_aee1_525400b9fb0erow14_col1\" class=\"data row14 col1\" >-0.436143</td>\n",
       "                        <td id=\"T_2341ebb2_0e39_11eb_aee1_525400b9fb0erow14_col2\" class=\"data row14 col2\" >-0.323805</td>\n",
       "                        <td id=\"T_2341ebb2_0e39_11eb_aee1_525400b9fb0erow14_col3\" class=\"data row14 col3\" >-0.495111</td>\n",
       "                        <td id=\"T_2341ebb2_0e39_11eb_aee1_525400b9fb0erow14_col4\" class=\"data row14 col4\" >-0.128711</td>\n",
       "                        <td id=\"T_2341ebb2_0e39_11eb_aee1_525400b9fb0erow14_col5\" class=\"data row14 col5\" >0.520312</td>\n",
       "                        <td id=\"T_2341ebb2_0e39_11eb_aee1_525400b9fb0erow14_col6\" class=\"data row14 col6\" >0.513635</td>\n",
       "                        <td id=\"T_2341ebb2_0e39_11eb_aee1_525400b9fb0erow14_col7\" class=\"data row14 col7\" >0.641225</td>\n",
       "                        <td id=\"T_2341ebb2_0e39_11eb_aee1_525400b9fb0erow14_col8\" class=\"data row14 col8\" >0.522842</td>\n",
       "                        <td id=\"T_2341ebb2_0e39_11eb_aee1_525400b9fb0erow14_col9\" class=\"data row14 col9\" >0.401814</td>\n",
       "                        <td id=\"T_2341ebb2_0e39_11eb_aee1_525400b9fb0erow14_col10\" class=\"data row14 col10\" >0.276670</td>\n",
       "                        <td id=\"T_2341ebb2_0e39_11eb_aee1_525400b9fb0erow14_col11\" class=\"data row14 col11\" >0.311679</td>\n",
       "                        <td id=\"T_2341ebb2_0e39_11eb_aee1_525400b9fb0erow14_col12\" class=\"data row14 col12\" >0.576431</td>\n",
       "                        <td id=\"T_2341ebb2_0e39_11eb_aee1_525400b9fb0erow14_col13\" class=\"data row14 col13\" >0.690852</td>\n",
       "                        <td id=\"T_2341ebb2_0e39_11eb_aee1_525400b9fb0erow14_col14\" class=\"data row14 col14\" >1.000000</td>\n",
       "                        <td id=\"T_2341ebb2_0e39_11eb_aee1_525400b9fb0erow14_col15\" class=\"data row14 col15\" >0.518275</td>\n",
       "                        <td id=\"T_2341ebb2_0e39_11eb_aee1_525400b9fb0erow14_col16\" class=\"data row14 col16\" >0.489364</td>\n",
       "            </tr>\n",
       "            <tr>\n",
       "                        <th id=\"T_2341ebb2_0e39_11eb_aee1_525400b9fb0elevel0_row15\" class=\"row_heading level0 row15\" >Contact_tracing</th>\n",
       "                        <td id=\"T_2341ebb2_0e39_11eb_aee1_525400b9fb0erow15_col0\" class=\"data row15 col0\" >-0.109117</td>\n",
       "                        <td id=\"T_2341ebb2_0e39_11eb_aee1_525400b9fb0erow15_col1\" class=\"data row15 col1\" >-0.071769</td>\n",
       "                        <td id=\"T_2341ebb2_0e39_11eb_aee1_525400b9fb0erow15_col2\" class=\"data row15 col2\" >0.021933</td>\n",
       "                        <td id=\"T_2341ebb2_0e39_11eb_aee1_525400b9fb0erow15_col3\" class=\"data row15 col3\" >-0.156040</td>\n",
       "                        <td id=\"T_2341ebb2_0e39_11eb_aee1_525400b9fb0erow15_col4\" class=\"data row15 col4\" >0.023434</td>\n",
       "                        <td id=\"T_2341ebb2_0e39_11eb_aee1_525400b9fb0erow15_col5\" class=\"data row15 col5\" >0.232595</td>\n",
       "                        <td id=\"T_2341ebb2_0e39_11eb_aee1_525400b9fb0erow15_col6\" class=\"data row15 col6\" >0.345020</td>\n",
       "                        <td id=\"T_2341ebb2_0e39_11eb_aee1_525400b9fb0erow15_col7\" class=\"data row15 col7\" >0.559558</td>\n",
       "                        <td id=\"T_2341ebb2_0e39_11eb_aee1_525400b9fb0erow15_col8\" class=\"data row15 col8\" >0.321558</td>\n",
       "                        <td id=\"T_2341ebb2_0e39_11eb_aee1_525400b9fb0erow15_col9\" class=\"data row15 col9\" >0.111848</td>\n",
       "                        <td id=\"T_2341ebb2_0e39_11eb_aee1_525400b9fb0erow15_col10\" class=\"data row15 col10\" >0.350087</td>\n",
       "                        <td id=\"T_2341ebb2_0e39_11eb_aee1_525400b9fb0erow15_col11\" class=\"data row15 col11\" >0.250536</td>\n",
       "                        <td id=\"T_2341ebb2_0e39_11eb_aee1_525400b9fb0erow15_col12\" class=\"data row15 col12\" >0.584165</td>\n",
       "                        <td id=\"T_2341ebb2_0e39_11eb_aee1_525400b9fb0erow15_col13\" class=\"data row15 col13\" >0.567223</td>\n",
       "                        <td id=\"T_2341ebb2_0e39_11eb_aee1_525400b9fb0erow15_col14\" class=\"data row15 col14\" >0.518275</td>\n",
       "                        <td id=\"T_2341ebb2_0e39_11eb_aee1_525400b9fb0erow15_col15\" class=\"data row15 col15\" >1.000000</td>\n",
       "                        <td id=\"T_2341ebb2_0e39_11eb_aee1_525400b9fb0erow15_col16\" class=\"data row15 col16\" >0.432008</td>\n",
       "            </tr>\n",
       "            <tr>\n",
       "                        <th id=\"T_2341ebb2_0e39_11eb_aee1_525400b9fb0elevel0_row16\" class=\"row_heading level0 row16\" >Stringency_index</th>\n",
       "                        <td id=\"T_2341ebb2_0e39_11eb_aee1_525400b9fb0erow16_col0\" class=\"data row16 col0\" >-0.086681</td>\n",
       "                        <td id=\"T_2341ebb2_0e39_11eb_aee1_525400b9fb0erow16_col1\" class=\"data row16 col1\" >-0.129493</td>\n",
       "                        <td id=\"T_2341ebb2_0e39_11eb_aee1_525400b9fb0erow16_col2\" class=\"data row16 col2\" >-0.098249</td>\n",
       "                        <td id=\"T_2341ebb2_0e39_11eb_aee1_525400b9fb0erow16_col3\" class=\"data row16 col3\" >-0.106445</td>\n",
       "                        <td id=\"T_2341ebb2_0e39_11eb_aee1_525400b9fb0erow16_col4\" class=\"data row16 col4\" >0.158259</td>\n",
       "                        <td id=\"T_2341ebb2_0e39_11eb_aee1_525400b9fb0erow16_col5\" class=\"data row16 col5\" >0.844192</td>\n",
       "                        <td id=\"T_2341ebb2_0e39_11eb_aee1_525400b9fb0erow16_col6\" class=\"data row16 col6\" >0.865648</td>\n",
       "                        <td id=\"T_2341ebb2_0e39_11eb_aee1_525400b9fb0erow16_col7\" class=\"data row16 col7\" >0.835476</td>\n",
       "                        <td id=\"T_2341ebb2_0e39_11eb_aee1_525400b9fb0erow16_col8\" class=\"data row16 col8\" >0.864531</td>\n",
       "                        <td id=\"T_2341ebb2_0e39_11eb_aee1_525400b9fb0erow16_col9\" class=\"data row16 col9\" >0.804492</td>\n",
       "                        <td id=\"T_2341ebb2_0e39_11eb_aee1_525400b9fb0erow16_col10\" class=\"data row16 col10\" >0.793250</td>\n",
       "                        <td id=\"T_2341ebb2_0e39_11eb_aee1_525400b9fb0erow16_col11\" class=\"data row16 col11\" >0.816306</td>\n",
       "                        <td id=\"T_2341ebb2_0e39_11eb_aee1_525400b9fb0erow16_col12\" class=\"data row16 col12\" >0.666131</td>\n",
       "                        <td id=\"T_2341ebb2_0e39_11eb_aee1_525400b9fb0erow16_col13\" class=\"data row16 col13\" >0.814228</td>\n",
       "                        <td id=\"T_2341ebb2_0e39_11eb_aee1_525400b9fb0erow16_col14\" class=\"data row16 col14\" >0.489364</td>\n",
       "                        <td id=\"T_2341ebb2_0e39_11eb_aee1_525400b9fb0erow16_col15\" class=\"data row16 col15\" >0.432008</td>\n",
       "                        <td id=\"T_2341ebb2_0e39_11eb_aee1_525400b9fb0erow16_col16\" class=\"data row16 col16\" >1.000000</td>\n",
       "            </tr>\n",
       "    </tbody></table>"
      ],
      "text/plain": [
       "<pandas.io.formats.style.Styler at 0x7f6a6a286790>"
      ]
     },
     "execution_count": 21,
     "metadata": {},
     "output_type": "execute_result"
    }
   ],
   "source": [
    "# Correlation\n",
    "df = track_df.copy()\n",
    "df.corr().style.background_gradient(axis=None)"
   ]
  },
  {
   "cell_type": "code",
   "execution_count": 22,
   "metadata": {
    "collapsed": false
   },
   "outputs": [
    {
     "data": {
      "image/png": "[encoded data removed]",
      "text/plain": [
       "<Figure size 432x288 with 1 Axes>"
      ]
     },
     "metadata": {},
     "output_type": "display_data"
    }
   ],
   "source": [
    "# Scatter plot of Stringency index and Rt\n",
    "df = track_df.copy()\n",
    "sns.scatterplot(data=df, x=\"Stringency_index\", y=\"Rt\", hue=\"Country\", legend=\"brief\", marker=\"+\")\n",
    "bbox_to_anchor=(1.02, 0)\n",
    "bbox_loc=\"lower left\"\n",
    "plt.legend(bbox_to_anchor=bbox_to_anchor, loc=bbox_loc, borderaxespad=0)\n",
    "plt.title(\"Relationship of Stringency index and reproduction number\")\n",
    "plt.ylabel(\"Reproduction number\")\n",
    "plt.xlabel(\"Stringency index\")\n",
    "plt.show()"
   ]
  }
 ],
 "metadata": {
  "kernelspec": {
   "display_name": "Python 3.8.2 64-bit ('.venv': venv)",
   "name": "python_defaultSpec_1597669925034"
  },
  "language_info": {
   "codemirror_mode": {
    "name": "ipython",
    "version": 3
   },
   "file_extension": ".py",
   "mimetype": "text/x-python",
   "name": "python",
   "nbconvert_exporter": "python",
   "pygments_lexer": "ipython3",
   "version": "3.8.2-final"
  }
 },
 "nbformat": 4,
 "nbformat_minor": 4
}
