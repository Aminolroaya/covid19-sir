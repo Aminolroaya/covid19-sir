{
 "cells": [
  {
   "cell_type": "markdown",
   "metadata": {},
   "source": [
    "# Usage (details: policy measures)\n",
    "Here, we will analyse the relationship of policy measures and parameter values of SIR-derived ODE models. Policy measures are tracked by [Oxford Covid-19 Government Response Tracker (OxCGRT)](https://github.com/OxCGRT/covid-policy-tracker)."
   ]
  },
  {
   "cell_type": "markdown",
   "metadata": {},
   "source": [
    "## Preparation"
   ]
  },
  {
   "cell_type": "code",
   "execution_count": 1,
   "metadata": {
    "collapsed": false
   },
   "outputs": [],
   "source": [
    "# Standard users\n",
    "# !pip install covsirphy\n",
    "# Developers (Note: this notebook is in example directory)\n",
    "import os\n",
    "os.chdir(\"../\")"
   ]
  },
  {
   "cell_type": "code",
   "execution_count": 2,
   "metadata": {
    "collapsed": false
   },
   "outputs": [],
   "source": [
    "from pprint import pprint"
   ]
  },
  {
   "cell_type": "code",
   "execution_count": 3,
   "metadata": {
    "collapsed": false
   },
   "outputs": [
    {
     "data": {
      "text/plain": [
       "'2.12.0-tau-fu3.new.339.357.359.362.366.367.382.383.fix.360.373'"
      ]
     },
     "execution_count": 3,
     "metadata": {},
     "output_type": "execute_result"
    }
   ],
   "source": [
    "import covsirphy as cs\n",
    "cs.__version__"
   ]
  },
  {
   "cell_type": "code",
   "execution_count": 4,
   "metadata": {
    "collapsed": false,
    "tags": []
   },
   "outputs": [
    {
     "name": "stdout",
     "output_type": "stream",
     "text": [
      "(Secondary source) Guidotti, E., Ardia, D., (2020), \"COVID-19 Data Hub\", Journal of Open Source Software 5(51):2376, doi: 10.21105/joss.02376.\n"
     ]
    }
   ],
   "source": [
    "# Standard users and developers\n",
    "data_loader = cs.DataLoader(\"input\")\n",
    "# The number of cases (JHU style)\n",
    "jhu_data = data_loader.jhu(verbose=False)\n",
    "# Population in each country\n",
    "population_data = data_loader.population(verbose=False)\n",
    "# Government Response Tracker (OxCGRT)\n",
    "oxcgrt_data = data_loader.oxcgrt(verbose=False)\n",
    "# Description/citation\n",
    "print(oxcgrt_data.citation)"
   ]
  },
  {
   "cell_type": "markdown",
   "metadata": {},
   "source": [
    "## Class for policy measure analysis\n",
    "We will `PolicyMeasures` class to find relationship of policy measures and parameter values of SIR-derived ODE models."
   ]
  },
  {
   "cell_type": "code",
   "execution_count": 5,
   "metadata": {
    "collapsed": false,
    "tags": []
   },
   "outputs": [
    {
     "name": "stderr",
     "output_type": "stream",
     "text": [
      "/home/runner/.local/share/virtualenvs/covid19-sir-kT3BL-HO/lib/python3.8/site-packages/scipy/interpolate/fitpack2.py:253: UserWarning: \n",
      "The maximal number of iterations maxit (set to 20 by the program)\n",
      "allowed for finding a smoothing spline with fp=s has been reached: s\n",
      "too small.\n",
      "There is an approximation returned but the corresponding weighted sum\n",
      "of squared residuals does not satisfy the condition abs(fp-s)/s < tol.\n",
      "  warnings.warn(message)\n"
     ]
    },
    {
     "data": {
      "text/plain": [
       "196"
      ]
     },
     "execution_count": 5,
     "metadata": {},
     "output_type": "execute_result"
    }
   ],
   "source": [
    "# Create analyser with tau value 360 [min] (can be changed)\n",
    "analyser = cs.PolicyMeasures(jhu_data, population_data, oxcgrt_data, tau=360)\n",
    "# The number of registerd countries\n",
    "len(analyser.countries)"
   ]
  },
  {
   "cell_type": "code",
   "execution_count": 6,
   "metadata": {
    "collapsed": false
   },
   "outputs": [
    {
     "data": {
      "text/plain": [
       "covsirphy.analysis.scenario.Scenario"
      ]
     },
     "execution_count": 6,
     "metadata": {},
     "output_type": "execute_result"
    }
   ],
   "source": [
    "# We can get Scenario instance for detailed scenario analysis\n",
    "type(analyser.scenario(\"Japan\"))"
   ]
  },
  {
   "cell_type": "markdown",
   "metadata": {},
   "source": [
    "## Set phases with S-R trend analysis\n",
    "We will perform S-R trend analysis to set phases in all countries. Countries which do not have **16th phases** will be un-registered for the next analysis. This number will be adjusted for your analysis."
   ]
  },
  {
   "cell_type": "code",
   "execution_count": 7,
   "metadata": {
    "collapsed": false
   },
   "outputs": [
    {
     "name": "stdout",
     "output_type": "stream",
     "text": [
      "{2: ['Solomon Islands', 'Holy See', 'Timor-Leste'],\n",
      " 3: ['Tanzania', 'Laos', 'Saint Kitts and Nevis'],\n",
      " 4: ['Saint Lucia', 'Brunei', 'Dominica', 'Grenada'],\n",
      " 5: ['Equatorial Guinea', 'Fiji'],\n",
      " 6: ['Saint Vincent and the Grenadines', 'Mauritius', 'Antigua and Barbuda'],\n",
      " 7: ['Northern Mariana Islands', 'Gambia'],\n",
      " 8: ['Bahamas', 'Cambodia', 'Kyrgyzstan', 'Trinidad and Tobago', 'Lesotho',\n",
      "     'Madagascar', 'Seychelles', 'Monaco', 'Vietnam'],\n",
      " 9: ['Kazakhstan', 'Jamaica', 'Swaziland', 'Burundi', 'Malawi', 'Bolivia',\n",
      "     'Namibia', 'Papua New Guinea', 'Australia', 'Republic of the Congo',\n",
      "     'Djibouti', 'Uzbekistan', 'Senegal', 'Virgin Islands, U.S.', 'Zambia',\n",
      "     'Sao Tome and Principe', 'Liechtenstein', 'Zimbabwe', 'Oman', 'Ghana',\n",
      "     'Suriname', 'Barbados', 'South Africa'],\n",
      " 10: ['Philippines', 'Algeria', 'Guatemala', 'Guyana', 'Israel', 'Guam',\n",
      "      'Singapore', 'Rwanda', 'Liberia', 'Bahrain', 'Syria', 'El Salvador',\n",
      "      \"Cote d'Ivoire\", 'Venezuela', 'Nigeria', 'Brazil', 'Comoros',\n",
      "      'New Zealand', 'Chile', 'Kuwait', 'Mozambique', 'Ethiopia', 'Angola',\n",
      "      'Gabon', 'Bermuda', 'Honduras', 'Egypt', 'Saudi Arabia', 'Libya',\n",
      "      'Bhutan', 'Kenya', 'Belize', 'Eritrea', 'Dominican Republic', 'Benin',\n",
      "      'Mongolia', 'Central African Republic', 'Maldives'],\n",
      " 11: ['Bangladesh', 'Sudan', 'Guinea', 'Mexico', 'India', 'Cape Verde',\n",
      "      'Panama', 'Taiwan', 'Cameroon', 'Yemen', 'Guinea-Bissau', 'Peru',\n",
      "      'Ecuador', 'Pakistan', 'Costa Rica', 'Sierra Leone', 'Botswana',\n",
      "      'Puerto Rico', 'Iraq', 'Nicaragua', 'Chad', 'Colombia', 'Paraguay'],\n",
      " 12: ['South Sudan', 'Sri Lanka', 'Argentina', 'Georgia', 'Slovenia',\n",
      "      'Democratic Republic of the Congo', 'United Arab Emirates', 'Uganda',\n",
      "      'Burkina Faso', 'Japan', 'Togo', 'Palestine', 'Haiti', 'Azerbaijan',\n",
      "      'Jordan', 'Qatar', 'Nepal', 'Niger', 'Tajikistan', 'Montenegro',\n",
      "      'Indonesia', 'Kosovo', 'Iceland'],\n",
      " 13: ['Malta', 'Hungary', 'Slovakia', 'Spain', 'Myanmar', 'Cyprus', 'Somalia',\n",
      "      'Mauritania', 'Luxembourg', 'China', 'Serbia', 'United States', 'Cuba',\n",
      "      'Croatia', 'Armenia', 'Uruguay', 'San Marino', 'Moldova', 'Norway',\n",
      "      'Malaysia', 'Mali', 'Greece', 'Russia', 'Bulgaria'],\n",
      " 14: ['Tunisia', 'Afghanistan', 'Lithuania', 'Turkey', 'Andorra', 'Morocco',\n",
      "      'Czech Republic', 'Thailand', 'Iran', 'North Macedonia', 'Sweden',\n",
      "      'Poland', 'Bosnia and Herzegovina', 'Belarus', 'Albania', 'Finland',\n",
      "      'Ireland'],\n",
      " 15: ['Switzerland', 'Lebanon', 'Denmark', 'Italy', 'Germany', 'Ukraine',\n",
      "      'Austria', 'Estonia', 'Latvia'],\n",
      " 16: ['Portugal', 'Belgium', 'United Kingdom', 'Canada', 'Romania', 'France',\n",
      "      'Netherlands']}\n"
     ]
    }
   ],
   "source": [
    "# Show the number of phases of all countries\n",
    "analyser.trend()\n",
    "pprint(analyser.phase_len(), compact=True)"
   ]
  },
  {
   "cell_type": "code",
   "execution_count": 8,
   "metadata": {
    "collapsed": false
   },
   "outputs": [
    {
     "data": {
      "text/plain": [
       "7"
      ]
     },
     "execution_count": 8,
     "metadata": {},
     "output_type": "execute_result"
    }
   ],
   "source": [
    "# Set phases with S-R trend analysis\n",
    "analyser.trend(min_len=16)\n",
    "# The number of countries\n",
    "len(analyser.countries)"
   ]
  },
  {
   "cell_type": "code",
   "execution_count": 9,
   "metadata": {
    "collapsed": false,
    "tags": []
   },
   "outputs": [
    {
     "name": "stdout",
     "output_type": "stream",
     "text": [
      "{16: ['Portugal', 'Belgium', 'United Kingdom', 'Canada', 'Romania', 'France',\n",
      "      'Netherlands']}\n"
     ]
    }
   ],
   "source": [
    "phase_len_dict = analyser.phase_len()\n",
    "pprint(phase_len_dict, compact=True)"
   ]
  },
  {
   "cell_type": "code",
   "execution_count": 10,
   "metadata": {
    "collapsed": false,
    "tags": []
   },
   "outputs": [
    {
     "data": {
      "text/html": [
       "<div>\n",
       "<style scoped>\n",
       "    .dataframe tbody tr th:only-of-type {\n",
       "        vertical-align: middle;\n",
       "    }\n",
       "\n",
       "    .dataframe tbody tr th {\n",
       "        vertical-align: top;\n",
       "    }\n",
       "\n",
       "    .dataframe thead th {\n",
       "        text-align: right;\n",
       "    }\n",
       "</style>\n",
       "<table border=\"1\" class=\"dataframe\">\n",
       "  <thead>\n",
       "    <tr style=\"text-align: right;\">\n",
       "      <th></th>\n",
       "      <th></th>\n",
       "      <th>Type</th>\n",
       "      <th>Start</th>\n",
       "      <th>End</th>\n",
       "      <th>Population</th>\n",
       "    </tr>\n",
       "    <tr>\n",
       "      <th>Country</th>\n",
       "      <th>Phase</th>\n",
       "      <th></th>\n",
       "      <th></th>\n",
       "      <th></th>\n",
       "      <th></th>\n",
       "    </tr>\n",
       "  </thead>\n",
       "  <tbody>\n",
       "    <tr>\n",
       "      <th rowspan=\"5\" valign=\"top\">Portugal</th>\n",
       "      <th>0th</th>\n",
       "      <td>Past</td>\n",
       "      <td>14Mar2020</td>\n",
       "      <td>01Apr2020</td>\n",
       "      <td>10283822</td>\n",
       "    </tr>\n",
       "    <tr>\n",
       "      <th>1st</th>\n",
       "      <td>Past</td>\n",
       "      <td>02Apr2020</td>\n",
       "      <td>18Apr2020</td>\n",
       "      <td>10283822</td>\n",
       "    </tr>\n",
       "    <tr>\n",
       "      <th>2nd</th>\n",
       "      <td>Past</td>\n",
       "      <td>19Apr2020</td>\n",
       "      <td>20May2020</td>\n",
       "      <td>10283822</td>\n",
       "    </tr>\n",
       "    <tr>\n",
       "      <th>3rd</th>\n",
       "      <td>Past</td>\n",
       "      <td>21May2020</td>\n",
       "      <td>18Jun2020</td>\n",
       "      <td>10283822</td>\n",
       "    </tr>\n",
       "    <tr>\n",
       "      <th>4th</th>\n",
       "      <td>Past</td>\n",
       "      <td>19Jun2020</td>\n",
       "      <td>14Jul2020</td>\n",
       "      <td>10283822</td>\n",
       "    </tr>\n",
       "    <tr>\n",
       "      <th>...</th>\n",
       "      <th>...</th>\n",
       "      <td>...</td>\n",
       "      <td>...</td>\n",
       "      <td>...</td>\n",
       "      <td>...</td>\n",
       "    </tr>\n",
       "    <tr>\n",
       "      <th rowspan=\"5\" valign=\"top\">Netherlands</th>\n",
       "      <th>11th</th>\n",
       "      <td>Past</td>\n",
       "      <td>03Nov2020</td>\n",
       "      <td>12Nov2020</td>\n",
       "      <td>17231624</td>\n",
       "    </tr>\n",
       "    <tr>\n",
       "      <th>12th</th>\n",
       "      <td>Past</td>\n",
       "      <td>13Nov2020</td>\n",
       "      <td>18Nov2020</td>\n",
       "      <td>17231624</td>\n",
       "    </tr>\n",
       "    <tr>\n",
       "      <th>13th</th>\n",
       "      <td>Past</td>\n",
       "      <td>19Nov2020</td>\n",
       "      <td>24Nov2020</td>\n",
       "      <td>17231624</td>\n",
       "    </tr>\n",
       "    <tr>\n",
       "      <th>14th</th>\n",
       "      <td>Past</td>\n",
       "      <td>25Nov2020</td>\n",
       "      <td>30Nov2020</td>\n",
       "      <td>17231624</td>\n",
       "    </tr>\n",
       "    <tr>\n",
       "      <th>15th</th>\n",
       "      <td>Past</td>\n",
       "      <td>01Dec2020</td>\n",
       "      <td>11Dec2020</td>\n",
       "      <td>17231624</td>\n",
       "    </tr>\n",
       "  </tbody>\n",
       "</table>\n",
       "<p>112 rows × 4 columns</p>\n",
       "</div>"
      ],
      "text/plain": [
       "                   Type      Start        End  Population\n",
       "Country     Phase                                        \n",
       "Portugal    0th    Past  14Mar2020  01Apr2020    10283822\n",
       "            1st    Past  02Apr2020  18Apr2020    10283822\n",
       "            2nd    Past  19Apr2020  20May2020    10283822\n",
       "            3rd    Past  21May2020  18Jun2020    10283822\n",
       "            4th    Past  19Jun2020  14Jul2020    10283822\n",
       "...                 ...        ...        ...         ...\n",
       "Netherlands 11th   Past  03Nov2020  12Nov2020    17231624\n",
       "            12th   Past  13Nov2020  18Nov2020    17231624\n",
       "            13th   Past  19Nov2020  24Nov2020    17231624\n",
       "            14th   Past  25Nov2020  30Nov2020    17231624\n",
       "            15th   Past  01Dec2020  11Dec2020    17231624\n",
       "\n",
       "[112 rows x 4 columns]"
      ]
     },
     "execution_count": 10,
     "metadata": {},
     "output_type": "execute_result"
    }
   ],
   "source": [
    "# Here, only show the countries which have the most phases\n",
    "countries_show = max(phase_len_dict.items(), key=lambda x: x[0])[1]\n",
    "# Show summary\n",
    "analyser.summary(countries=countries_show)"
   ]
  },
  {
   "cell_type": "markdown",
   "metadata": {},
   "source": [
    "## Parameter estimation\n",
    "we will estimate the parameter values with SIR-derived ODE models in each country."
   ]
  },
  {
   "cell_type": "code",
   "execution_count": 11,
   "metadata": {
    "collapsed": false,
    "tags": []
   },
   "outputs": [
    {
     "name": "stdout",
     "output_type": "stream",
     "text": [
      "\n",
      "<SIR-F model: parameter estimation>\n",
      "Running optimization with 4 CPUs...\n"
     ]
    },
    {
     "name": "stderr",
     "output_type": "stream",
     "text": [
      "/home/runner/.local/share/virtualenvs/covid19-sir-kT3BL-HO/lib/python3.8/site-packages/scipy/interpolate/fitpack2.py:253: UserWarning: \n",
      "The maximal number of iterations maxit (set to 20 by the program)\n",
      "allowed for finding a smoothing spline with fp=s has been reached: s\n",
      "too small.\n",
      "There is an approximation returned but the corresponding weighted sum\n",
      "of squared residuals does not satisfy the condition abs(fp-s)/s < tol.\n",
      "  warnings.warn(message)\n"
     ]
    },
    {
     "name": "stderr",
     "output_type": "stream",
     "text": [
      "/home/runner/.local/share/virtualenvs/covid19-sir-kT3BL-HO/lib/python3.8/site-packages/scipy/interpolate/fitpack2.py:253: UserWarning: \n",
      "The maximal number of iterations maxit (set to 20 by the program)\n",
      "allowed for finding a smoothing spline with fp=s has been reached: s\n",
      "too small.\n",
      "There is an approximation returned but the corresponding weighted sum\n",
      "of squared residuals does not satisfy the condition abs(fp-s)/s < tol.\n",
      "  warnings.warn(message)\n"
     ]
    },
    {
     "name": "stdout",
     "output_type": "stream",
     "text": [
      "\tPRT, 12th phase (03Nov2020 - 12Nov2020): finished  277 trials in 0 min 10 sec"
     ]
    },
    {
     "name": "stdout",
     "output_type": "stream",
     "text": [
      "\n"
     ]
    },
    {
     "name": "stdout",
     "output_type": "stream",
     "text": [
      "\tFRA,  7th phase (23Sep2020 - 01Oct2020): finished  279 trials in 0 min 10 sec"
     ]
    },
    {
     "name": "stdout",
     "output_type": "stream",
     "text": [
      "\n"
     ]
    },
    {
     "name": "stdout",
     "output_type": "stream",
     "text": [
      "\tNLD,  5th phase (04Sep2020 - 17Sep2020): finished  297 trials in 0 min 10 sec"
     ]
    },
    {
     "name": "stdout",
     "output_type": "stream",
     "text": [
      "\n"
     ]
    },
    {
     "name": "stdout",
     "output_type": "stream",
     "text": [
      "\tFRA,  3rd phase (09Jul2020 - 18Aug2020): finished  272 trials in 0 min 10 sec"
     ]
    },
    {
     "name": "stdout",
     "output_type": "stream",
     "text": [
      "\n"
     ]
    },
    {
     "name": "stdout",
     "output_type": "stream",
     "text": [
      "\tROU,  5th phase (29Aug2020 - 15Sep2020): finished  283 trials in 0 min 10 sec"
     ]
    },
    {
     "name": "stdout",
     "output_type": "stream",
     "text": [
      "\n"
     ]
    },
    {
     "name": "stdout",
     "output_type": "stream",
     "text": [
      "\tNLD,  6th phase (18Sep2020 - 26Sep2020): finished  286 trials in 0 min 10 sec"
     ]
    },
    {
     "name": "stdout",
     "output_type": "stream",
     "text": [
      "\n"
     ]
    },
    {
     "name": "stderr",
     "output_type": "stream",
     "text": [
      "/home/runner/.local/share/virtualenvs/covid19-sir-kT3BL-HO/lib/python3.8/site-packages/scipy/interpolate/fitpack2.py:253: UserWarning: \n",
      "The maximal number of iterations maxit (set to 20 by the program)\n",
      "allowed for finding a smoothing spline with fp=s has been reached: s\n",
      "too small.\n",
      "There is an approximation returned but the corresponding weighted sum\n",
      "of squared residuals does not satisfy the condition abs(fp-s)/s < tol.\n",
      "  warnings.warn(message)\n"
     ]
    },
    {
     "name": "stdout",
     "output_type": "stream",
     "text": [
      "\tPRT, 11th phase (28Oct2020 - 02Nov2020): finished  293 trials in 0 min 10 sec"
     ]
    },
    {
     "name": "stdout",
     "output_type": "stream",
     "text": [
      "\n"
     ]
    },
    {
     "name": "stdout",
     "output_type": "stream",
     "text": [
      "\tNLD,  9th phase (14Oct2020 - 23Oct2020): finished  283 trials in 0 min 10 sec"
     ]
    },
    {
     "name": "stdout",
     "output_type": "stream",
     "text": [
      "\n"
     ]
    },
    {
     "name": "stdout",
     "output_type": "stream",
     "text": [
      "\tFRA,  4th phase (19Aug2020 - 02Sep2020): finished  304 trials in 0 min 10 sec"
     ]
    },
    {
     "name": "stdout",
     "output_type": "stream",
     "text": [
      "\n"
     ]
    },
    {
     "name": "stdout",
     "output_type": "stream",
     "text": [
      "\tBEL,  8th phase (07Oct2020 - 12Oct2020): finished  316 trials in 0 min 10 sec"
     ]
    },
    {
     "name": "stdout",
     "output_type": "stream",
     "text": [
      "\n"
     ]
    },
    {
     "name": "stdout",
     "output_type": "stream",
     "text": [
      "\tNLD,  1st phase (01Apr2020 - 16Apr2020): finished  271 trials in 0 min 10 sec"
     ]
    },
    {
     "name": "stdout",
     "output_type": "stream",
     "text": [
      "\n"
     ]
    },
    {
     "name": "stdout",
     "output_type": "stream",
     "text": [
      "\tGBR,  5th phase (17Aug2020 - 17Sep2020): finished  248 trials in 0 min 10 sec"
     ]
    },
    {
     "name": "stdout",
     "output_type": "stream",
     "text": [
      "\n"
     ]
    },
    {
     "name": "stdout",
     "output_type": "stream",
     "text": [
      "\tPRT,  7th phase (16Sep2020 - 01Oct2020): finished  301 trials in 0 min 10 sec"
     ]
    },
    {
     "name": "stdout",
     "output_type": "stream",
     "text": [
      "\n"
     ]
    },
    {
     "name": "stdout",
     "output_type": "stream",
     "text": [
      "\tPRT,  0th phase (14Mar2020 - 01Apr2020): finished  295 trials in 0 min 10 sec"
     ]
    },
    {
     "name": "stdout",
     "output_type": "stream",
     "text": [
      "\n"
     ]
    },
    {
     "name": "stdout",
     "output_type": "stream",
     "text": [
      "\tPRT,  8th phase (02Oct2020 - 13Oct2020): finished  255 trials in 0 min 10 sec"
     ]
    },
    {
     "name": "stdout",
     "output_type": "stream",
     "text": [
      "\n"
     ]
    },
    {
     "name": "stdout",
     "output_type": "stream",
     "text": [
      "\tGBR,  4th phase (12Jun2020 - 16Aug2020): finished  257 trials in 0 min 10 sec"
     ]
    },
    {
     "name": "stdout",
     "output_type": "stream",
     "text": [
      "\n"
     ]
    },
    {
     "name": "stdout",
     "output_type": "stream",
     "text": [
      "\tCAN, 14th phase (29Nov2020 - 04Dec2020): finished  329 trials in 0 min 10 sec"
     ]
    },
    {
     "name": "stdout",
     "output_type": "stream",
     "text": [
      "\n"
     ]
    },
    {
     "name": "stdout",
     "output_type": "stream",
     "text": [
      "\tPRT, 10th phase (22Oct2020 - 27Oct2020): finished  267 trials in 0 min 10 sec"
     ]
    },
    {
     "name": "stdout",
     "output_type": "stream",
     "text": [
      "\n"
     ]
    },
    {
     "name": "stdout",
     "output_type": "stream",
     "text": [
      "\tGBR,  7th phase (03Oct2020 - 11Oct2020): finished  309 trials in 0 min 10 sec"
     ]
    },
    {
     "name": "stdout",
     "output_type": "stream",
     "text": [
      "\n"
     ]
    },
    {
     "name": "stdout",
     "output_type": "stream",
     "text": [
      "\tGBR,  1st phase (07Apr2020 - 23Apr2020): finished  299 trials in 0 min 10 sec"
     ]
    },
    {
     "name": "stdout",
     "output_type": "stream",
     "text": [
      "\n"
     ]
    },
    {
     "name": "stdout",
     "output_type": "stream",
     "text": [
      "\tNLD, 12th phase (13Nov2020 - 18Nov2020): finished  276 trials in 0 min 10 sec"
     ]
    },
    {
     "name": "stdout",
     "output_type": "stream",
     "text": [
      "\n"
     ]
    },
    {
     "name": "stdout",
     "output_type": "stream",
     "text": [
      "\tBEL, 15th phase (01Dec2020 - 11Dec2020): finished  291 trials in 0 min 10 sec"
     ]
    },
    {
     "name": "stdout",
     "output_type": "stream",
     "text": [
      "\n"
     ]
    },
    {
     "name": "stdout",
     "output_type": "stream",
     "text": [
      "\tGBR,  2nd phase (24Apr2020 - 11May2020): finished  290 trials in 0 min 10 sec"
     ]
    },
    {
     "name": "stdout",
     "output_type": "stream",
     "text": [
      "\n"
     ]
    },
    {
     "name": "stdout",
     "output_type": "stream",
     "text": [
      "\tCAN,  3rd phase (07May2020 - 27May2020): finished  305 trials in 0 min 10 sec"
     ]
    },
    {
     "name": "stdout",
     "output_type": "stream",
     "text": [
      "\n"
     ]
    },
    {
     "name": "stdout",
     "output_type": "stream",
     "text": [
      "\tBEL,  6th phase (15Sep2020 - 28Sep2020): finished  275 trials in 0 min 10 sec"
     ]
    },
    {
     "name": "stdout",
     "output_type": "stream",
     "text": [
      "\n"
     ]
    },
    {
     "name": "stdout",
     "output_type": "stream",
     "text": [
      "\tCAN, 13th phase (22Nov2020 - 28Nov2020): finished  298 trials in 0 min 10 sec"
     ]
    },
    {
     "name": "stdout",
     "output_type": "stream",
     "text": [
      "\n"
     ]
    },
    {
     "name": "stdout",
     "output_type": "stream",
     "text": [
      "\tCAN,  0th phase (02Mar2020 - 07Apr2020): finished  288 trials in 0 min 10 sec"
     ]
    },
    {
     "name": "stdout",
     "output_type": "stream",
     "text": [
      "\n"
     ]
    },
    {
     "name": "stdout",
     "output_type": "stream",
     "text": [
      "\tCAN,  4th phase (28May2020 - 13Jul2020): finished  252 trials in 0 min 10 sec"
     ]
    },
    {
     "name": "stdout",
     "output_type": "stream",
     "text": [
      "\n"
     ]
    },
    {
     "name": "stderr",
     "output_type": "stream",
     "text": [
      "/home/runner/.local/share/virtualenvs/covid19-sir-kT3BL-HO/lib/python3.8/site-packages/scipy/interpolate/fitpack2.py:253: UserWarning: \n",
      "The maximal number of iterations maxit (set to 20 by the program)\n",
      "allowed for finding a smoothing spline with fp=s has been reached: s\n",
      "too small.\n",
      "There is an approximation returned but the corresponding weighted sum\n",
      "of squared residuals does not satisfy the condition abs(fp-s)/s < tol.\n",
      "  warnings.warn(message)\n"
     ]
    },
    {
     "name": "stderr",
     "output_type": "stream",
     "text": [
      "/home/runner/.local/share/virtualenvs/covid19-sir-kT3BL-HO/lib/python3.8/site-packages/scipy/interpolate/fitpack2.py:253: UserWarning: \n",
      "The maximal number of iterations maxit (set to 20 by the program)\n",
      "allowed for finding a smoothing spline with fp=s has been reached: s\n",
      "too small.\n",
      "There is an approximation returned but the corresponding weighted sum\n",
      "of squared residuals does not satisfy the condition abs(fp-s)/s < tol.\n",
      "  warnings.warn(message)\n"
     ]
    },
    {
     "name": "stdout",
     "output_type": "stream",
     "text": [
      "\tGBR,  9th phase (20Oct2020 - 25Oct2020): finished  313 trials in 0 min 10 sec"
     ]
    },
    {
     "name": "stdout",
     "output_type": "stream",
     "text": [
      "\n"
     ]
    },
    {
     "name": "stdout",
     "output_type": "stream",
     "text": [
      "\tGBR,  3rd phase (12May2020 - 11Jun2020): finished  301 trials in 0 min 10 sec"
     ]
    },
    {
     "name": "stdout",
     "output_type": "stream",
     "text": [
      "\n"
     ]
    },
    {
     "name": "stdout",
     "output_type": "stream",
     "text": [
      "\tFRA,  1st phase (31Mar2020 - 22Apr2020): finished  309 trials in 0 min 10 sec"
     ]
    },
    {
     "name": "stdout",
     "output_type": "stream",
     "text": [
      "\n"
     ]
    },
    {
     "name": "stderr",
     "output_type": "stream",
     "text": [
      "/home/runner/.local/share/virtualenvs/covid19-sir-kT3BL-HO/lib/python3.8/site-packages/scipy/interpolate/fitpack2.py:253: UserWarning: \n",
      "The maximal number of iterations maxit (set to 20 by the program)\n",
      "allowed for finding a smoothing spline with fp=s has been reached: s\n",
      "too small.\n",
      "There is an approximation returned but the corresponding weighted sum\n",
      "of squared residuals does not satisfy the condition abs(fp-s)/s < tol.\n",
      "  warnings.warn(message)\n"
     ]
    },
    {
     "name": "stdout",
     "output_type": "stream",
     "text": [
      "\tFRA,  0th phase (07Feb2020 - 30Mar2020): finished  296 trials in 0 min 10 sec"
     ]
    },
    {
     "name": "stdout",
     "output_type": "stream",
     "text": [
      "\n"
     ]
    },
    {
     "name": "stdout",
     "output_type": "stream",
     "text": [
      "\tNLD,  7th phase (27Sep2020 - 03Oct2020): finished  317 trials in 0 min 10 sec"
     ]
    },
    {
     "name": "stdout",
     "output_type": "stream",
     "text": [
      "\n"
     ]
    },
    {
     "name": "stdout",
     "output_type": "stream",
     "text": [
      "\tPRT,  2nd phase (19Apr2020 - 20May2020): finished  285 trials in 0 min 10 sec"
     ]
    },
    {
     "name": "stdout",
     "output_type": "stream",
     "text": [
      "\n"
     ]
    },
    {
     "name": "stdout",
     "output_type": "stream",
     "text": [
      "\tFRA,  2nd phase (23Apr2020 - 08Jul2020): finished  261 trials in 0 min 10 sec"
     ]
    },
    {
     "name": "stdout",
     "output_type": "stream",
     "text": [
      "\n"
     ]
    },
    {
     "name": "stdout",
     "output_type": "stream",
     "text": [
      "\tPRT,  3rd phase (21May2020 - 18Jun2020): finished  285 trials in 0 min 10 sec"
     ]
    },
    {
     "name": "stdout",
     "output_type": "stream",
     "text": [
      "\n"
     ]
    },
    {
     "name": "stdout",
     "output_type": "stream",
     "text": [
      "\tPRT, 14th phase (23Nov2020 - 03Dec2020): finished  290 trials in 0 min 10 sec"
     ]
    },
    {
     "name": "stdout",
     "output_type": "stream",
     "text": [
      "\n"
     ]
    },
    {
     "name": "stdout",
     "output_type": "stream",
     "text": [
      "\tPRT,  5th phase (15Jul2020 - 25Aug2020): finished  289 trials in 0 min 10 sec"
     ]
    },
    {
     "name": "stdout",
     "output_type": "stream",
     "text": [
      "\n"
     ]
    },
    {
     "name": "stdout",
     "output_type": "stream",
     "text": [
      "\tROU, 10th phase (29Oct2020 - 04Nov2020): finished  317 trials in 0 min 10 sec"
     ]
    },
    {
     "name": "stdout",
     "output_type": "stream",
     "text": [
      "\n"
     ]
    },
    {
     "name": "stderr",
     "output_type": "stream",
     "text": [
      "/home/runner/.local/share/virtualenvs/covid19-sir-kT3BL-HO/lib/python3.8/site-packages/scipy/interpolate/fitpack2.py:253: UserWarning: \n",
      "The maximal number of iterations maxit (set to 20 by the program)\n",
      "allowed for finding a smoothing spline with fp=s has been reached: s\n",
      "too small.\n",
      "There is an approximation returned but the corresponding weighted sum\n",
      "of squared residuals does not satisfy the condition abs(fp-s)/s < tol.\n",
      "  warnings.warn(message)\n"
     ]
    },
    {
     "name": "stderr",
     "output_type": "stream",
     "text": [
      "/home/runner/.local/share/virtualenvs/covid19-sir-kT3BL-HO/lib/python3.8/site-packages/scipy/interpolate/fitpack2.py:253: UserWarning: \n",
      "The maximal number of iterations maxit (set to 20 by the program)\n",
      "allowed for finding a smoothing spline with fp=s has been reached: s\n",
      "too small.\n",
      "There is an approximation returned but the corresponding weighted sum\n",
      "of squared residuals does not satisfy the condition abs(fp-s)/s < tol.\n",
      "  warnings.warn(message)\n"
     ]
    },
    {
     "name": "stdout",
     "output_type": "stream",
     "text": [
      "\tPRT, 15th phase (04Dec2020 - 11Dec2020): finished  302 trials in 0 min 10 sec"
     ]
    },
    {
     "name": "stdout",
     "output_type": "stream",
     "text": [
      "\n"
     ]
    },
    {
     "name": "stdout",
     "output_type": "stream",
     "text": [
      "\tNLD, 14th phase (25Nov2020 - 30Nov2020): finished  317 trials in 0 min 10 sec"
     ]
    },
    {
     "name": "stdout",
     "output_type": "stream",
     "text": [
      "\n"
     ]
    },
    {
     "name": "stdout",
     "output_type": "stream",
     "text": [
      "\tFRA,  8th phase (02Oct2020 - 08Oct2020): finished  308 trials in 0 min 10 sec"
     ]
    },
    {
     "name": "stdout",
     "output_type": "stream",
     "text": [
      "\n"
     ]
    },
    {
     "name": "stdout",
     "output_type": "stream",
     "text": [
      "\tFRA,  9th phase (09Oct2020 - 15Oct2020): finished  297 trials in 0 min 10 sec"
     ]
    },
    {
     "name": "stdout",
     "output_type": "stream",
     "text": [
      "\n"
     ]
    },
    {
     "name": "stderr",
     "output_type": "stream",
     "text": [
      "/home/runner/.local/share/virtualenvs/covid19-sir-kT3BL-HO/lib/python3.8/site-packages/scipy/interpolate/fitpack2.py:253: UserWarning: \n",
      "The maximal number of iterations maxit (set to 20 by the program)\n",
      "allowed for finding a smoothing spline with fp=s has been reached: s\n",
      "too small.\n",
      "There is an approximation returned but the corresponding weighted sum\n",
      "of squared residuals does not satisfy the condition abs(fp-s)/s < tol.\n",
      "  warnings.warn(message)\n"
     ]
    },
    {
     "name": "stdout",
     "output_type": "stream",
     "text": [
      "\tPRT,  4th phase (19Jun2020 - 14Jul2020): finished  314 trials in 0 min 10 sec"
     ]
    },
    {
     "name": "stdout",
     "output_type": "stream",
     "text": [
      "\n"
     ]
    },
    {
     "name": "stdout",
     "output_type": "stream",
     "text": [
      "\tBEL,  0th phase (13Mar2020 - 30Mar2020): finished  312 trials in 0 min 10 sec"
     ]
    },
    {
     "name": "stdout",
     "output_type": "stream",
     "text": [
      "\n"
     ]
    },
    {
     "name": "stdout",
     "output_type": "stream",
     "text": [
      "\tNLD, 10th phase (24Oct2020 - 02Nov2020): finished  305 trials in 0 min 10 sec"
     ]
    },
    {
     "name": "stdout",
     "output_type": "stream",
     "text": [
      "\n"
     ]
    },
    {
     "name": "stdout",
     "output_type": "stream",
     "text": [
      "\tFRA, 13th phase (11Nov2020 - 23Nov2020): finished  276 trials in 0 min 10 sec"
     ]
    },
    {
     "name": "stdout",
     "output_type": "stream",
     "text": [
      "\n"
     ]
    },
    {
     "name": "stdout",
     "output_type": "stream",
     "text": [
      "\tNLD,  4th phase (08Aug2020 - 03Sep2020): finished  275 trials in 0 min 10 sec"
     ]
    },
    {
     "name": "stdout",
     "output_type": "stream",
     "text": [
      "\n"
     ]
    },
    {
     "name": "stdout",
     "output_type": "stream",
     "text": [
      "\tCAN,  6th phase (23Aug2020 - 19Sep2020): finished  298 trials in 0 min 10 sec"
     ]
    },
    {
     "name": "stdout",
     "output_type": "stream",
     "text": [
      "\n"
     ]
    },
    {
     "name": "stdout",
     "output_type": "stream",
     "text": [
      "\tBEL,  9th phase (13Oct2020 - 22Oct2020): finished  290 trials in 0 min 10 sec"
     ]
    },
    {
     "name": "stdout",
     "output_type": "stream",
     "text": [
      "\n"
     ]
    },
    {
     "name": "stdout",
     "output_type": "stream",
     "text": [
      "\tGBR, 15th phase (03Dec2020 - 11Dec2020): finished  313 trials in 0 min 10 sec"
     ]
    },
    {
     "name": "stdout",
     "output_type": "stream",
     "text": [
      "\n"
     ]
    },
    {
     "name": "stdout",
     "output_type": "stream",
     "text": [
      "\tBEL, 11th phase (02Nov2020 - 07Nov2020): finished  299 trials in 0 min 10 sec"
     ]
    },
    {
     "name": "stdout",
     "output_type": "stream",
     "text": [
      "\n"
     ]
    },
    {
     "name": "stderr",
     "output_type": "stream",
     "text": [
      "/home/runner/.local/share/virtualenvs/covid19-sir-kT3BL-HO/lib/python3.8/site-packages/scipy/interpolate/fitpack2.py:253: UserWarning: \n",
      "The maximal number of iterations maxit (set to 20 by the program)\n",
      "allowed for finding a smoothing spline with fp=s has been reached: s\n",
      "too small.\n",
      "There is an approximation returned but the corresponding weighted sum\n",
      "of squared residuals does not satisfy the condition abs(fp-s)/s < tol.\n",
      "  warnings.warn(message)\n"
     ]
    },
    {
     "name": "stdout",
     "output_type": "stream",
     "text": [
      "\tCAN, 11th phase (07Nov2020 - 14Nov2020): finished  311 trials in 0 min 10 sec"
     ]
    },
    {
     "name": "stdout",
     "output_type": "stream",
     "text": [
      "\n"
     ]
    },
    {
     "name": "stdout",
     "output_type": "stream",
     "text": [
      "\tFRA,  6th phase (15Sep2020 - 22Sep2020): finished  319 trials in 0 min 10 sec"
     ]
    },
    {
     "name": "stdout",
     "output_type": "stream",
     "text": [
      "\n"
     ]
    },
    {
     "name": "stdout",
     "output_type": "stream",
     "text": [
      "\tPRT,  9th phase (14Oct2020 - 21Oct2020): finished  327 trials in 0 min 10 sec"
     ]
    },
    {
     "name": "stdout",
     "output_type": "stream",
     "text": [
      "\n"
     ]
    },
    {
     "name": "stdout",
     "output_type": "stream",
     "text": [
      "\tGBR, 14th phase (25Nov2020 - 02Dec2020): finished  310 trials in 0 min 10 sec"
     ]
    },
    {
     "name": "stdout",
     "output_type": "stream",
     "text": [
      "\n"
     ]
    },
    {
     "name": "stdout",
     "output_type": "stream",
     "text": [
      "\tBEL,  5th phase (23Aug2020 - 14Sep2020): finished  283 trials in 0 min 10 sec"
     ]
    },
    {
     "name": "stdout",
     "output_type": "stream",
     "text": [
      "\n"
     ]
    },
    {
     "name": "stderr",
     "output_type": "stream",
     "text": [
      "/home/runner/.local/share/virtualenvs/covid19-sir-kT3BL-HO/lib/python3.8/site-packages/scipy/interpolate/fitpack2.py:253: UserWarning: \n",
      "The maximal number of iterations maxit (set to 20 by the program)\n",
      "allowed for finding a smoothing spline with fp=s has been reached: s\n",
      "too small.\n",
      "There is an approximation returned but the corresponding weighted sum\n",
      "of squared residuals does not satisfy the condition abs(fp-s)/s < tol.\n",
      "  warnings.warn(message)\n"
     ]
    },
    {
     "name": "stdout",
     "output_type": "stream",
     "text": [
      "\tGBR,  0th phase (18Feb2020 - 06Apr2020): finished  278 trials in 0 min 10 sec"
     ]
    },
    {
     "name": "stdout",
     "output_type": "stream",
     "text": [
      "\n"
     ]
    },
    {
     "name": "stdout",
     "output_type": "stream",
     "text": [
      "\tBEL,  1st phase (31Mar2020 - 13Apr2020): finished  286 trials in 0 min 10 sec"
     ]
    },
    {
     "name": "stdout",
     "output_type": "stream",
     "text": [
      "\n"
     ]
    },
    {
     "name": "stdout",
     "output_type": "stream",
     "text": [
      "\tCAN,  8th phase (05Oct2020 - 17Oct2020): finished  289 trials in 0 min 10 sec"
     ]
    },
    {
     "name": "stdout",
     "output_type": "stream",
     "text": [
      "\n"
     ]
    },
    {
     "name": "stdout",
     "output_type": "stream",
     "text": [
      "\tFRA, 14th phase (24Nov2020 - 02Dec2020): finished  265 trials in 0 min 10 sec"
     ]
    },
    {
     "name": "stdout",
     "output_type": "stream",
     "text": [
      "\n"
     ]
    },
    {
     "name": "stderr",
     "output_type": "stream",
     "text": [
      "/home/runner/.local/share/virtualenvs/covid19-sir-kT3BL-HO/lib/python3.8/site-packages/scipy/interpolate/fitpack2.py:253: UserWarning: \n",
      "The maximal number of iterations maxit (set to 20 by the program)\n",
      "allowed for finding a smoothing spline with fp=s has been reached: s\n",
      "too small.\n",
      "There is an approximation returned but the corresponding weighted sum\n",
      "of squared residuals does not satisfy the condition abs(fp-s)/s < tol.\n",
      "  warnings.warn(message)\n"
     ]
    },
    {
     "name": "stdout",
     "output_type": "stream",
     "text": [
      "\tCAN,  5th phase (14Jul2020 - 22Aug2020): finished  273 trials in 0 min 10 sec"
     ]
    },
    {
     "name": "stdout",
     "output_type": "stream",
     "text": [
      "\n"
     ]
    },
    {
     "name": "stdout",
     "output_type": "stream",
     "text": [
      "\tBEL,  3rd phase (08May2020 - 27Jul2020): finished  255 trials in 0 min 10 sec"
     ]
    },
    {
     "name": "stdout",
     "output_type": "stream",
     "text": [
      "\n"
     ]
    },
    {
     "name": "stdout",
     "output_type": "stream",
     "text": [
      "\tBEL, 12th phase (08Nov2020 - 14Nov2020): finished  326 trials in 0 min 10 sec"
     ]
    },
    {
     "name": "stdout",
     "output_type": "stream",
     "text": [
      "\n"
     ]
    },
    {
     "name": "stdout",
     "output_type": "stream",
     "text": [
      "\tFRA,  5th phase (03Sep2020 - 14Sep2020): finished  287 trials in 0 min 10 sec"
     ]
    },
    {
     "name": "stdout",
     "output_type": "stream",
     "text": [
      "\n"
     ]
    },
    {
     "name": "stdout",
     "output_type": "stream",
     "text": [
      "\tROU, 11th phase (05Nov2020 - 11Nov2020): finished  280 trials in 0 min 10 sec"
     ]
    },
    {
     "name": "stdout",
     "output_type": "stream",
     "text": [
      "\n"
     ]
    },
    {
     "name": "stdout",
     "output_type": "stream",
     "text": [
      "\tBEL,  7th phase (29Sep2020 - 06Oct2020): finished  281 trials in 0 min 10 sec"
     ]
    },
    {
     "name": "stdout",
     "output_type": "stream",
     "text": [
      "\n"
     ]
    },
    {
     "name": "stdout",
     "output_type": "stream",
     "text": [
      "\tCAN,  1st phase (08Apr2020 - 21Apr2020): finished  286 trials in 0 min 10 sec"
     ]
    },
    {
     "name": "stdout",
     "output_type": "stream",
     "text": [
      "\n"
     ]
    },
    {
     "name": "stdout",
     "output_type": "stream",
     "text": [
      "\tGBR, 11th phase (06Nov2020 - 11Nov2020): finished  254 trials in 0 min 10 sec"
     ]
    },
    {
     "name": "stdout",
     "output_type": "stream",
     "text": [
      "\n"
     ]
    },
    {
     "name": "stdout",
     "output_type": "stream",
     "text": [
      "\tCAN,  2nd phase (22Apr2020 - 06May2020): finished  260 trials in 0 min 10 sec"
     ]
    },
    {
     "name": "stdout",
     "output_type": "stream",
     "text": [
      "\n"
     ]
    },
    {
     "name": "stdout",
     "output_type": "stream",
     "text": [
      "\tGBR, 13th phase (18Nov2020 - 24Nov2020): finished  262 trials in 0 min 10 sec"
     ]
    },
    {
     "name": "stdout",
     "output_type": "stream",
     "text": [
      "\n"
     ]
    },
    {
     "name": "stdout",
     "output_type": "stream",
     "text": [
      "\tGBR, 12th phase (12Nov2020 - 17Nov2020): finished  269 trials in 0 min 10 sec"
     ]
    },
    {
     "name": "stdout",
     "output_type": "stream",
     "text": [
      "\n"
     ]
    },
    {
     "name": "stdout",
     "output_type": "stream",
     "text": [
      "\tBEL, 10th phase (23Oct2020 - 01Nov2020): finished  285 trials in 0 min 10 sec"
     ]
    },
    {
     "name": "stdout",
     "output_type": "stream",
     "text": [
      "\n"
     ]
    },
    {
     "name": "stdout",
     "output_type": "stream",
     "text": [
      "\tCAN,  7th phase (20Sep2020 - 04Oct2020): finished  288 trials in 0 min 10 sec"
     ]
    },
    {
     "name": "stdout",
     "output_type": "stream",
     "text": [
      "\n"
     ]
    },
    {
     "name": "stderr",
     "output_type": "stream",
     "text": [
      "/home/runner/.local/share/virtualenvs/covid19-sir-kT3BL-HO/lib/python3.8/site-packages/scipy/interpolate/fitpack2.py:253: UserWarning: \n",
      "The maximal number of iterations maxit (set to 20 by the program)\n",
      "allowed for finding a smoothing spline with fp=s has been reached: s\n",
      "too small.\n",
      "There is an approximation returned but the corresponding weighted sum\n",
      "of squared residuals does not satisfy the condition abs(fp-s)/s < tol.\n",
      "  warnings.warn(message)\n"
     ]
    },
    {
     "name": "stdout",
     "output_type": "stream",
     "text": [
      "\tROU,  7th phase (02Oct2020 - 12Oct2020): finished  315 trials in 0 min 10 sec"
     ]
    },
    {
     "name": "stdout",
     "output_type": "stream",
     "text": [
      "\n"
     ]
    },
    {
     "name": "stdout",
     "output_type": "stream",
     "text": [
      "\tGBR,  6th phase (18Sep2020 - 02Oct2020): finished  275 trials in 0 min 10 sec"
     ]
    },
    {
     "name": "stdout",
     "output_type": "stream",
     "text": [
      "\n"
     ]
    },
    {
     "name": "stdout",
     "output_type": "stream",
     "text": [
      "\tFRA, 12th phase (01Nov2020 - 10Nov2020): finished  299 trials in 0 min 10 sec"
     ]
    },
    {
     "name": "stdout",
     "output_type": "stream",
     "text": [
      "\n"
     ]
    },
    {
     "name": "stdout",
     "output_type": "stream",
     "text": [
      "\tBEL,  2nd phase (14Apr2020 - 07May2020): finished  288 trials in 0 min 10 sec"
     ]
    },
    {
     "name": "stdout",
     "output_type": "stream",
     "text": [
      "\n"
     ]
    },
    {
     "name": "stdout",
     "output_type": "stream",
     "text": [
      "\tROU,  3rd phase (25Jul2020 - 11Aug2020): finished  289 trials in 0 min 10 sec"
     ]
    },
    {
     "name": "stdout",
     "output_type": "stream",
     "text": [
      "\n"
     ]
    },
    {
     "name": "stdout",
     "output_type": "stream",
     "text": [
      "\tROU,  8th phase (13Oct2020 - 20Oct2020): finished  276 trials in 0 min 10 sec"
     ]
    },
    {
     "name": "stdout",
     "output_type": "stream",
     "text": [
      "\n"
     ]
    },
    {
     "name": "stdout",
     "output_type": "stream",
     "text": [
      "\tPRT, 13th phase (13Nov2020 - 22Nov2020): finished  205 trials in 0 min 10 sec"
     ]
    },
    {
     "name": "stdout",
     "output_type": "stream",
     "text": [
      "\n"
     ]
    },
    {
     "name": "stdout",
     "output_type": "stream",
     "text": [
      "\tROU,  1st phase (27Apr2020 - 28Jun2020): finished  209 trials in 0 min 10 sec"
     ]
    },
    {
     "name": "stdout",
     "output_type": "stream",
     "text": [
      "\n"
     ]
    },
    {
     "name": "stdout",
     "output_type": "stream",
     "text": [
      "\tGBR,  8th phase (12Oct2020 - 19Oct2020): finished  226 trials in 0 min 10 sec"
     ]
    },
    {
     "name": "stdout",
     "output_type": "stream",
     "text": [
      "\n"
     ]
    },
    {
     "name": "stdout",
     "output_type": "stream",
     "text": [
      "\tBEL,  4th phase (28Jul2020 - 22Aug2020): finished  220 trials in 0 min 10 sec"
     ]
    },
    {
     "name": "stdout",
     "output_type": "stream",
     "text": [
      "\n"
     ]
    },
    {
     "name": "stdout",
     "output_type": "stream",
     "text": [
      "\tCAN, 10th phase (29Oct2020 - 06Nov2020): finished  300 trials in 0 min 10 sec"
     ]
    },
    {
     "name": "stdout",
     "output_type": "stream",
     "text": [
      "\n"
     ]
    },
    {
     "name": "stdout",
     "output_type": "stream",
     "text": [
      "\tPRT,  6th phase (26Aug2020 - 15Sep2020): finished  292 trials in 0 min 10 sec"
     ]
    },
    {
     "name": "stdout",
     "output_type": "stream",
     "text": [
      "\n"
     ]
    },
    {
     "name": "stdout",
     "output_type": "stream",
     "text": [
      "\tNLD, 13th phase (19Nov2020 - 24Nov2020): finished  283 trials in 0 min 10 sec"
     ]
    },
    {
     "name": "stdout",
     "output_type": "stream",
     "text": [
      "\n"
     ]
    },
    {
     "name": "stdout",
     "output_type": "stream",
     "text": [
      "\tNLD,  8th phase (04Oct2020 - 13Oct2020): finished  261 trials in 0 min 10 sec"
     ]
    },
    {
     "name": "stdout",
     "output_type": "stream",
     "text": [
      "\n"
     ]
    },
    {
     "name": "stdout",
     "output_type": "stream",
     "text": [
      "\tNLD,  0th phase (11Mar2020 - 31Mar2020): finished  263 trials in 0 min 10 sec"
     ]
    },
    {
     "name": "stdout",
     "output_type": "stream",
     "text": [
      "\n"
     ]
    },
    {
     "name": "stdout",
     "output_type": "stream",
     "text": [
      "\tNLD,  2nd phase (17Apr2020 - 22May2020): finished  261 trials in 0 min 10 sec"
     ]
    },
    {
     "name": "stdout",
     "output_type": "stream",
     "text": [
      "\n"
     ]
    },
    {
     "name": "stderr",
     "output_type": "stream",
     "text": [
      "/home/runner/.local/share/virtualenvs/covid19-sir-kT3BL-HO/lib/python3.8/site-packages/scipy/interpolate/fitpack2.py:253: UserWarning: \n",
      "The maximal number of iterations maxit (set to 20 by the program)\n",
      "allowed for finding a smoothing spline with fp=s has been reached: s\n",
      "too small.\n",
      "There is an approximation returned but the corresponding weighted sum\n",
      "of squared residuals does not satisfy the condition abs(fp-s)/s < tol.\n",
      "  warnings.warn(message)\n"
     ]
    },
    {
     "name": "stdout",
     "output_type": "stream",
     "text": [
      "\tCAN, 15th phase (05Dec2020 - 11Dec2020): finished  325 trials in 0 min 10 sec"
     ]
    },
    {
     "name": "stdout",
     "output_type": "stream",
     "text": [
      "\n"
     ]
    },
    {
     "name": "stdout",
     "output_type": "stream",
     "text": [
      "\tFRA, 10th phase (16Oct2020 - 21Oct2020): finished  330 trials in 0 min 10 sec"
     ]
    },
    {
     "name": "stdout",
     "output_type": "stream",
     "text": [
      "\n"
     ]
    },
    {
     "name": "stdout",
     "output_type": "stream",
     "text": [
      "\tCAN, 12th phase (15Nov2020 - 21Nov2020): finished  329 trials in 0 min 10 sec"
     ]
    },
    {
     "name": "stdout",
     "output_type": "stream",
     "text": [
      "\n"
     ]
    },
    {
     "name": "stderr",
     "output_type": "stream",
     "text": [
      "/home/runner/.local/share/virtualenvs/covid19-sir-kT3BL-HO/lib/python3.8/site-packages/scipy/interpolate/fitpack2.py:253: UserWarning: \n",
      "The maximal number of iterations maxit (set to 20 by the program)\n",
      "allowed for finding a smoothing spline with fp=s has been reached: s\n",
      "too small.\n",
      "There is an approximation returned but the corresponding weighted sum\n",
      "of squared residuals does not satisfy the condition abs(fp-s)/s < tol.\n",
      "  warnings.warn(message)\n"
     ]
    },
    {
     "name": "stdout",
     "output_type": "stream",
     "text": [
      "\tROU,  0th phase (05Mar2020 - 26Apr2020): finished  310 trials in 0 min 10 sec"
     ]
    },
    {
     "name": "stdout",
     "output_type": "stream",
     "text": [
      "\n"
     ]
    },
    {
     "name": "stdout",
     "output_type": "stream",
     "text": [
      "\tFRA, 11th phase (22Oct2020 - 31Oct2020): finished  320 trials in 0 min 10 sec"
     ]
    },
    {
     "name": "stdout",
     "output_type": "stream",
     "text": [
      "\n"
     ]
    },
    {
     "name": "stdout",
     "output_type": "stream",
     "text": [
      "\tCAN,  9th phase (18Oct2020 - 28Oct2020): finished  325 trials in 0 min 10 sec"
     ]
    },
    {
     "name": "stdout",
     "output_type": "stream",
     "text": [
      "\n"
     ]
    },
    {
     "name": "stdout",
     "output_type": "stream",
     "text": [
      "\tGBR, 10th phase (26Oct2020 - 05Nov2020): finished  331 trials in 0 min 10 sec"
     ]
    },
    {
     "name": "stdout",
     "output_type": "stream",
     "text": [
      "\n"
     ]
    },
    {
     "name": "stdout",
     "output_type": "stream",
     "text": [
      "\tROU,  2nd phase (29Jun2020 - 24Jul2020): finished  315 trials in 0 min 10 sec"
     ]
    },
    {
     "name": "stdout",
     "output_type": "stream",
     "text": [
      "\n"
     ]
    },
    {
     "name": "stdout",
     "output_type": "stream",
     "text": [
      "\tBEL, 13th phase (15Nov2020 - 22Nov2020): finished  315 trials in 0 min 10 sec"
     ]
    },
    {
     "name": "stdout",
     "output_type": "stream",
     "text": [
      "\n"
     ]
    },
    {
     "name": "stdout",
     "output_type": "stream",
     "text": [
      "\tROU,  4th phase (12Aug2020 - 28Aug2020): finished  300 trials in 0 min 10 sec"
     ]
    },
    {
     "name": "stdout",
     "output_type": "stream",
     "text": [
      "\n"
     ]
    },
    {
     "name": "stdout",
     "output_type": "stream",
     "text": [
      "\tROU,  9th phase (21Oct2020 - 28Oct2020): finished  331 trials in 0 min 10 sec"
     ]
    },
    {
     "name": "stdout",
     "output_type": "stream",
     "text": [
      "\n"
     ]
    },
    {
     "name": "stdout",
     "output_type": "stream",
     "text": [
      "\tNLD,  3rd phase (23May2020 - 07Aug2020): finished  307 trials in 0 min 10 sec"
     ]
    },
    {
     "name": "stdout",
     "output_type": "stream",
     "text": [
      "\n"
     ]
    },
    {
     "name": "stdout",
     "output_type": "stream",
     "text": [
      "\tPRT,  1st phase (02Apr2020 - 18Apr2020): finished  330 trials in 0 min 10 sec"
     ]
    },
    {
     "name": "stdout",
     "output_type": "stream",
     "text": [
      "\n"
     ]
    },
    {
     "name": "stdout",
     "output_type": "stream",
     "text": [
      "\tBEL, 14th phase (23Nov2020 - 30Nov2020): finished  359 trials in 0 min 10 sec"
     ]
    },
    {
     "name": "stdout",
     "output_type": "stream",
     "text": [
      "\n"
     ]
    },
    {
     "name": "stdout",
     "output_type": "stream",
     "text": [
      "Completed optimization. Total: 5 min  6 sec\n"
     ]
    }
   ],
   "source": [
    "# Parameter estimation with SIR-F model\n",
    "analyser.estimate(cs.SIRF, timeout=10)"
   ]
  },
  {
   "cell_type": "code",
   "execution_count": 12,
   "metadata": {
    "collapsed": false
   },
   "outputs": [
    {
     "data": {
      "text/html": [
       "<div>\n",
       "<style scoped>\n",
       "    .dataframe tbody tr th:only-of-type {\n",
       "        vertical-align: middle;\n",
       "    }\n",
       "\n",
       "    .dataframe tbody tr th {\n",
       "        vertical-align: top;\n",
       "    }\n",
       "\n",
       "    .dataframe thead th {\n",
       "        text-align: right;\n",
       "    }\n",
       "</style>\n",
       "<table border=\"1\" class=\"dataframe\">\n",
       "  <thead>\n",
       "    <tr style=\"text-align: right;\">\n",
       "      <th></th>\n",
       "      <th></th>\n",
       "      <th>Type</th>\n",
       "      <th>Start</th>\n",
       "      <th>End</th>\n",
       "      <th>Population</th>\n",
       "      <th>ODE</th>\n",
       "      <th>Rt</th>\n",
       "      <th>theta</th>\n",
       "      <th>kappa</th>\n",
       "      <th>rho</th>\n",
       "      <th>sigma</th>\n",
       "      <th>tau</th>\n",
       "      <th>1/gamma [day]</th>\n",
       "      <th>alpha1 [-]</th>\n",
       "      <th>1/beta [day]</th>\n",
       "      <th>1/alpha2 [day]</th>\n",
       "      <th>RMSLE</th>\n",
       "      <th>Trials</th>\n",
       "      <th>Runtime</th>\n",
       "    </tr>\n",
       "    <tr>\n",
       "      <th>Country</th>\n",
       "      <th>Phase</th>\n",
       "      <th></th>\n",
       "      <th></th>\n",
       "      <th></th>\n",
       "      <th></th>\n",
       "      <th></th>\n",
       "      <th></th>\n",
       "      <th></th>\n",
       "      <th></th>\n",
       "      <th></th>\n",
       "      <th></th>\n",
       "      <th></th>\n",
       "      <th></th>\n",
       "      <th></th>\n",
       "      <th></th>\n",
       "      <th></th>\n",
       "      <th></th>\n",
       "      <th></th>\n",
       "      <th></th>\n",
       "    </tr>\n",
       "  </thead>\n",
       "  <tbody>\n",
       "    <tr>\n",
       "      <th rowspan=\"5\" valign=\"top\">Portugal</th>\n",
       "      <th>0th</th>\n",
       "      <td>Past</td>\n",
       "      <td>14Mar2020</td>\n",
       "      <td>01Apr2020</td>\n",
       "      <td>10283822</td>\n",
       "      <td>SIR-F</td>\n",
       "      <td>103.5</td>\n",
       "      <td>0.0159678</td>\n",
       "      <td>0.000288427</td>\n",
       "      <td>0.0518065</td>\n",
       "      <td>0.000204125</td>\n",
       "      <td>360</td>\n",
       "      <td>1224</td>\n",
       "      <td>0.016</td>\n",
       "      <td>4</td>\n",
       "      <td>866</td>\n",
       "      <td>0.572636</td>\n",
       "      <td>295</td>\n",
       "      <td>0 min 10 sec</td>\n",
       "    </tr>\n",
       "    <tr>\n",
       "      <th>1st</th>\n",
       "      <td>Past</td>\n",
       "      <td>02Apr2020</td>\n",
       "      <td>18Apr2020</td>\n",
       "      <td>10283822</td>\n",
       "      <td>SIR-F</td>\n",
       "      <td>16.18</td>\n",
       "      <td>0.0330621</td>\n",
       "      <td>0.000234886</td>\n",
       "      <td>0.0125831</td>\n",
       "      <td>0.000516942</td>\n",
       "      <td>360</td>\n",
       "      <td>483</td>\n",
       "      <td>0.033</td>\n",
       "      <td>19</td>\n",
       "      <td>1064</td>\n",
       "      <td>0.101891</td>\n",
       "      <td>330</td>\n",
       "      <td>0 min 10 sec</td>\n",
       "    </tr>\n",
       "    <tr>\n",
       "      <th>2nd</th>\n",
       "      <td>Past</td>\n",
       "      <td>19Apr2020</td>\n",
       "      <td>20May2020</td>\n",
       "      <td>10283822</td>\n",
       "      <td>SIR-F</td>\n",
       "      <td>3.33</td>\n",
       "      <td>0.279054</td>\n",
       "      <td>5.43331e-05</td>\n",
       "      <td>0.00335443</td>\n",
       "      <td>0.000671711</td>\n",
       "      <td>360</td>\n",
       "      <td>372</td>\n",
       "      <td>0.279</td>\n",
       "      <td>74</td>\n",
       "      <td>4601</td>\n",
       "      <td>0.459928</td>\n",
       "      <td>285</td>\n",
       "      <td>0 min 10 sec</td>\n",
       "    </tr>\n",
       "    <tr>\n",
       "      <th>3rd</th>\n",
       "      <td>Past</td>\n",
       "      <td>21May2020</td>\n",
       "      <td>18Jun2020</td>\n",
       "      <td>10283822</td>\n",
       "      <td>SIR-F</td>\n",
       "      <td>1.1</td>\n",
       "      <td>0.00204205</td>\n",
       "      <td>0.000161743</td>\n",
       "      <td>0.00556551</td>\n",
       "      <td>0.00486716</td>\n",
       "      <td>360</td>\n",
       "      <td>51</td>\n",
       "      <td>0.002</td>\n",
       "      <td>44</td>\n",
       "      <td>1545</td>\n",
       "      <td>0.447067</td>\n",
       "      <td>285</td>\n",
       "      <td>0 min 10 sec</td>\n",
       "    </tr>\n",
       "    <tr>\n",
       "      <th>4th</th>\n",
       "      <td>Past</td>\n",
       "      <td>19Jun2020</td>\n",
       "      <td>14Jul2020</td>\n",
       "      <td>10283822</td>\n",
       "      <td>SIR-F</td>\n",
       "      <td>1.1</td>\n",
       "      <td>0.0770644</td>\n",
       "      <td>0.00015143</td>\n",
       "      <td>0.00682159</td>\n",
       "      <td>0.00557871</td>\n",
       "      <td>360</td>\n",
       "      <td>44</td>\n",
       "      <td>0.077</td>\n",
       "      <td>36</td>\n",
       "      <td>1650</td>\n",
       "      <td>0.131273</td>\n",
       "      <td>314</td>\n",
       "      <td>0 min 10 sec</td>\n",
       "    </tr>\n",
       "    <tr>\n",
       "      <th>...</th>\n",
       "      <th>...</th>\n",
       "      <td>...</td>\n",
       "      <td>...</td>\n",
       "      <td>...</td>\n",
       "      <td>...</td>\n",
       "      <td>...</td>\n",
       "      <td>...</td>\n",
       "      <td>...</td>\n",
       "      <td>...</td>\n",
       "      <td>...</td>\n",
       "      <td>...</td>\n",
       "      <td>...</td>\n",
       "      <td>...</td>\n",
       "      <td>...</td>\n",
       "      <td>...</td>\n",
       "      <td>...</td>\n",
       "      <td>...</td>\n",
       "      <td>...</td>\n",
       "      <td>...</td>\n",
       "    </tr>\n",
       "    <tr>\n",
       "      <th rowspan=\"5\" valign=\"top\">Netherlands</th>\n",
       "      <th>11th</th>\n",
       "      <td>Past</td>\n",
       "      <td>03Nov2020</td>\n",
       "      <td>12Nov2020</td>\n",
       "      <td>17231624</td>\n",
       "      <td>-</td>\n",
       "      <td>-</td>\n",
       "      <td>-</td>\n",
       "      <td>-</td>\n",
       "      <td>-</td>\n",
       "      <td>-</td>\n",
       "      <td>-</td>\n",
       "      <td>-</td>\n",
       "      <td>-</td>\n",
       "      <td>-</td>\n",
       "      <td>-</td>\n",
       "      <td>-</td>\n",
       "      <td>-</td>\n",
       "      <td>-</td>\n",
       "    </tr>\n",
       "    <tr>\n",
       "      <th>12th</th>\n",
       "      <td>Past</td>\n",
       "      <td>13Nov2020</td>\n",
       "      <td>18Nov2020</td>\n",
       "      <td>17231624</td>\n",
       "      <td>SIR-F</td>\n",
       "      <td>0.69</td>\n",
       "      <td>0.000119925</td>\n",
       "      <td>0.000228367</td>\n",
       "      <td>0.0191705</td>\n",
       "      <td>0.0277146</td>\n",
       "      <td>360</td>\n",
       "      <td>9</td>\n",
       "      <td>0</td>\n",
       "      <td>13</td>\n",
       "      <td>1094</td>\n",
       "      <td>0.00394585</td>\n",
       "      <td>276</td>\n",
       "      <td>0 min 10 sec</td>\n",
       "    </tr>\n",
       "    <tr>\n",
       "      <th>13th</th>\n",
       "      <td>Past</td>\n",
       "      <td>19Nov2020</td>\n",
       "      <td>24Nov2020</td>\n",
       "      <td>17231624</td>\n",
       "      <td>SIR-F</td>\n",
       "      <td>1.1</td>\n",
       "      <td>0.00115401</td>\n",
       "      <td>0.000162155</td>\n",
       "      <td>0.0237333</td>\n",
       "      <td>0.0213256</td>\n",
       "      <td>360</td>\n",
       "      <td>11</td>\n",
       "      <td>0.001</td>\n",
       "      <td>10</td>\n",
       "      <td>1541</td>\n",
       "      <td>0.00816224</td>\n",
       "      <td>283</td>\n",
       "      <td>0 min 10 sec</td>\n",
       "    </tr>\n",
       "    <tr>\n",
       "      <th>14th</th>\n",
       "      <td>Past</td>\n",
       "      <td>25Nov2020</td>\n",
       "      <td>30Nov2020</td>\n",
       "      <td>17231624</td>\n",
       "      <td>SIR-F</td>\n",
       "      <td>0.98</td>\n",
       "      <td>0.00114593</td>\n",
       "      <td>0.000161781</td>\n",
       "      <td>0.0211254</td>\n",
       "      <td>0.021355</td>\n",
       "      <td>360</td>\n",
       "      <td>11</td>\n",
       "      <td>0.001</td>\n",
       "      <td>11</td>\n",
       "      <td>1545</td>\n",
       "      <td>0.00879929</td>\n",
       "      <td>317</td>\n",
       "      <td>0 min 10 sec</td>\n",
       "    </tr>\n",
       "    <tr>\n",
       "      <th>15th</th>\n",
       "      <td>Past</td>\n",
       "      <td>01Dec2020</td>\n",
       "      <td>11Dec2020</td>\n",
       "      <td>17231624</td>\n",
       "      <td>-</td>\n",
       "      <td>-</td>\n",
       "      <td>-</td>\n",
       "      <td>-</td>\n",
       "      <td>-</td>\n",
       "      <td>-</td>\n",
       "      <td>-</td>\n",
       "      <td>-</td>\n",
       "      <td>-</td>\n",
       "      <td>-</td>\n",
       "      <td>-</td>\n",
       "      <td>-</td>\n",
       "      <td>-</td>\n",
       "      <td>-</td>\n",
       "    </tr>\n",
       "  </tbody>\n",
       "</table>\n",
       "<p>112 rows × 18 columns</p>\n",
       "</div>"
      ],
      "text/plain": [
       "                   Type      Start        End  Population    ODE     Rt  \\\n",
       "Country     Phase                                                         \n",
       "Portugal    0th    Past  14Mar2020  01Apr2020    10283822  SIR-F  103.5   \n",
       "            1st    Past  02Apr2020  18Apr2020    10283822  SIR-F  16.18   \n",
       "            2nd    Past  19Apr2020  20May2020    10283822  SIR-F   3.33   \n",
       "            3rd    Past  21May2020  18Jun2020    10283822  SIR-F    1.1   \n",
       "            4th    Past  19Jun2020  14Jul2020    10283822  SIR-F    1.1   \n",
       "...                 ...        ...        ...         ...    ...    ...   \n",
       "Netherlands 11th   Past  03Nov2020  12Nov2020    17231624      -      -   \n",
       "            12th   Past  13Nov2020  18Nov2020    17231624  SIR-F   0.69   \n",
       "            13th   Past  19Nov2020  24Nov2020    17231624  SIR-F    1.1   \n",
       "            14th   Past  25Nov2020  30Nov2020    17231624  SIR-F   0.98   \n",
       "            15th   Past  01Dec2020  11Dec2020    17231624      -      -   \n",
       "\n",
       "                         theta        kappa         rho        sigma  tau  \\\n",
       "Country     Phase                                                           \n",
       "Portugal    0th      0.0159678  0.000288427   0.0518065  0.000204125  360   \n",
       "            1st      0.0330621  0.000234886   0.0125831  0.000516942  360   \n",
       "            2nd       0.279054  5.43331e-05  0.00335443  0.000671711  360   \n",
       "            3rd     0.00204205  0.000161743  0.00556551   0.00486716  360   \n",
       "            4th      0.0770644   0.00015143  0.00682159   0.00557871  360   \n",
       "...                        ...          ...         ...          ...  ...   \n",
       "Netherlands 11th             -            -           -            -    -   \n",
       "            12th   0.000119925  0.000228367   0.0191705    0.0277146  360   \n",
       "            13th    0.00115401  0.000162155   0.0237333    0.0213256  360   \n",
       "            14th    0.00114593  0.000161781   0.0211254     0.021355  360   \n",
       "            15th             -            -           -            -    -   \n",
       "\n",
       "                  1/gamma [day] alpha1 [-] 1/beta [day] 1/alpha2 [day]  \\\n",
       "Country     Phase                                                        \n",
       "Portugal    0th            1224      0.016            4            866   \n",
       "            1st             483      0.033           19           1064   \n",
       "            2nd             372      0.279           74           4601   \n",
       "            3rd              51      0.002           44           1545   \n",
       "            4th              44      0.077           36           1650   \n",
       "...                         ...        ...          ...            ...   \n",
       "Netherlands 11th              -          -            -              -   \n",
       "            12th              9          0           13           1094   \n",
       "            13th             11      0.001           10           1541   \n",
       "            14th             11      0.001           11           1545   \n",
       "            15th              -          -            -              -   \n",
       "\n",
       "                        RMSLE Trials       Runtime  \n",
       "Country     Phase                                   \n",
       "Portugal    0th      0.572636    295  0 min 10 sec  \n",
       "            1st      0.101891    330  0 min 10 sec  \n",
       "            2nd      0.459928    285  0 min 10 sec  \n",
       "            3rd      0.447067    285  0 min 10 sec  \n",
       "            4th      0.131273    314  0 min 10 sec  \n",
       "...                       ...    ...           ...  \n",
       "Netherlands 11th            -      -             -  \n",
       "            12th   0.00394585    276  0 min 10 sec  \n",
       "            13th   0.00816224    283  0 min 10 sec  \n",
       "            14th   0.00879929    317  0 min 10 sec  \n",
       "            15th            -      -             -  \n",
       "\n",
       "[112 rows x 18 columns]"
      ]
     },
     "execution_count": 12,
     "metadata": {},
     "output_type": "execute_result"
    }
   ],
   "source": [
    "# Show summary\n",
    "analyser.summary(countries=countries_show)"
   ]
  },
  {
   "cell_type": "markdown",
   "metadata": {},
   "source": [
    "## Compare the history of parameters\n",
    "Here, compare the history of parameter values if countries."
   ]
  },
  {
   "cell_type": "code",
   "execution_count": 13,
   "metadata": {
    "collapsed": false
   },
   "outputs": [
    {
     "data": {
      "text/html": [
       "<div>\n",
       "<style scoped>\n",
       "    .dataframe tbody tr th:only-of-type {\n",
       "        vertical-align: middle;\n",
       "    }\n",
       "\n",
       "    .dataframe tbody tr th {\n",
       "        vertical-align: top;\n",
       "    }\n",
       "\n",
       "    .dataframe thead th {\n",
       "        text-align: right;\n",
       "    }\n",
       "</style>\n",
       "<table border=\"1\" class=\"dataframe\">\n",
       "  <thead>\n",
       "    <tr style=\"text-align: right;\">\n",
       "      <th></th>\n",
       "      <th>Date</th>\n",
       "      <th>Country</th>\n",
       "      <th>theta</th>\n",
       "      <th>kappa</th>\n",
       "      <th>rho</th>\n",
       "      <th>sigma</th>\n",
       "      <th>alpha1 [-]</th>\n",
       "      <th>1/alpha2 [day]</th>\n",
       "      <th>1/beta [day]</th>\n",
       "      <th>1/gamma [day]</th>\n",
       "      <th>...</th>\n",
       "      <th>Cancel_events</th>\n",
       "      <th>Gatherings_restrictions</th>\n",
       "      <th>Transport_closing</th>\n",
       "      <th>Stay_home_restrictions</th>\n",
       "      <th>Internal_movement_restrictions</th>\n",
       "      <th>International_movement_restrictions</th>\n",
       "      <th>Information_campaigns</th>\n",
       "      <th>Testing_policy</th>\n",
       "      <th>Contact_tracing</th>\n",
       "      <th>Stringency_index</th>\n",
       "    </tr>\n",
       "  </thead>\n",
       "  <tbody>\n",
       "    <tr>\n",
       "      <th>0</th>\n",
       "      <td>2020-03-14</td>\n",
       "      <td>Portugal</td>\n",
       "      <td>0.0159678</td>\n",
       "      <td>0.000288427</td>\n",
       "      <td>0.0518065</td>\n",
       "      <td>0.000204125</td>\n",
       "      <td>0.016</td>\n",
       "      <td>866</td>\n",
       "      <td>4</td>\n",
       "      <td>1224</td>\n",
       "      <td>...</td>\n",
       "      <td>0</td>\n",
       "      <td>0</td>\n",
       "      <td>0</td>\n",
       "      <td>0</td>\n",
       "      <td>0</td>\n",
       "      <td>3</td>\n",
       "      <td>2</td>\n",
       "      <td>1</td>\n",
       "      <td>2</td>\n",
       "      <td>32.41</td>\n",
       "    </tr>\n",
       "    <tr>\n",
       "      <th>1</th>\n",
       "      <td>2020-03-14</td>\n",
       "      <td>Portugal</td>\n",
       "      <td>0.0159678</td>\n",
       "      <td>0.000288427</td>\n",
       "      <td>0.0518065</td>\n",
       "      <td>0.000204125</td>\n",
       "      <td>0.016</td>\n",
       "      <td>866</td>\n",
       "      <td>4</td>\n",
       "      <td>1224</td>\n",
       "      <td>...</td>\n",
       "      <td>0</td>\n",
       "      <td>0</td>\n",
       "      <td>0</td>\n",
       "      <td>0</td>\n",
       "      <td>0</td>\n",
       "      <td>3</td>\n",
       "      <td>2</td>\n",
       "      <td>1</td>\n",
       "      <td>2</td>\n",
       "      <td>32.41</td>\n",
       "    </tr>\n",
       "    <tr>\n",
       "      <th>2</th>\n",
       "      <td>2020-03-14</td>\n",
       "      <td>Portugal</td>\n",
       "      <td>0.0159678</td>\n",
       "      <td>0.000288427</td>\n",
       "      <td>0.0518065</td>\n",
       "      <td>0.000204125</td>\n",
       "      <td>0.016</td>\n",
       "      <td>866</td>\n",
       "      <td>4</td>\n",
       "      <td>1224</td>\n",
       "      <td>...</td>\n",
       "      <td>0</td>\n",
       "      <td>0</td>\n",
       "      <td>0</td>\n",
       "      <td>0</td>\n",
       "      <td>0</td>\n",
       "      <td>3</td>\n",
       "      <td>2</td>\n",
       "      <td>1</td>\n",
       "      <td>2</td>\n",
       "      <td>32.41</td>\n",
       "    </tr>\n",
       "    <tr>\n",
       "      <th>3</th>\n",
       "      <td>2020-03-14</td>\n",
       "      <td>Portugal</td>\n",
       "      <td>0.0159678</td>\n",
       "      <td>0.000288427</td>\n",
       "      <td>0.0518065</td>\n",
       "      <td>0.000204125</td>\n",
       "      <td>0.016</td>\n",
       "      <td>866</td>\n",
       "      <td>4</td>\n",
       "      <td>1224</td>\n",
       "      <td>...</td>\n",
       "      <td>0</td>\n",
       "      <td>0</td>\n",
       "      <td>0</td>\n",
       "      <td>0</td>\n",
       "      <td>0</td>\n",
       "      <td>3</td>\n",
       "      <td>2</td>\n",
       "      <td>1</td>\n",
       "      <td>2</td>\n",
       "      <td>32.41</td>\n",
       "    </tr>\n",
       "    <tr>\n",
       "      <th>4</th>\n",
       "      <td>2020-03-14</td>\n",
       "      <td>Portugal</td>\n",
       "      <td>0.0159678</td>\n",
       "      <td>0.000288427</td>\n",
       "      <td>0.0518065</td>\n",
       "      <td>0.000204125</td>\n",
       "      <td>0.016</td>\n",
       "      <td>866</td>\n",
       "      <td>4</td>\n",
       "      <td>1224</td>\n",
       "      <td>...</td>\n",
       "      <td>0</td>\n",
       "      <td>0</td>\n",
       "      <td>0</td>\n",
       "      <td>0</td>\n",
       "      <td>0</td>\n",
       "      <td>3</td>\n",
       "      <td>2</td>\n",
       "      <td>1</td>\n",
       "      <td>2</td>\n",
       "      <td>32.41</td>\n",
       "    </tr>\n",
       "  </tbody>\n",
       "</table>\n",
       "<p>5 rows × 23 columns</p>\n",
       "</div>"
      ],
      "text/plain": [
       "        Date   Country      theta        kappa        rho        sigma  \\\n",
       "0 2020-03-14  Portugal  0.0159678  0.000288427  0.0518065  0.000204125   \n",
       "1 2020-03-14  Portugal  0.0159678  0.000288427  0.0518065  0.000204125   \n",
       "2 2020-03-14  Portugal  0.0159678  0.000288427  0.0518065  0.000204125   \n",
       "3 2020-03-14  Portugal  0.0159678  0.000288427  0.0518065  0.000204125   \n",
       "4 2020-03-14  Portugal  0.0159678  0.000288427  0.0518065  0.000204125   \n",
       "\n",
       "  alpha1 [-] 1/alpha2 [day] 1/beta [day] 1/gamma [day]  ... Cancel_events  \\\n",
       "0      0.016            866            4          1224  ...             0   \n",
       "1      0.016            866            4          1224  ...             0   \n",
       "2      0.016            866            4          1224  ...             0   \n",
       "3      0.016            866            4          1224  ...             0   \n",
       "4      0.016            866            4          1224  ...             0   \n",
       "\n",
       "   Gatherings_restrictions  Transport_closing  Stay_home_restrictions  \\\n",
       "0                        0                  0                       0   \n",
       "1                        0                  0                       0   \n",
       "2                        0                  0                       0   \n",
       "3                        0                  0                       0   \n",
       "4                        0                  0                       0   \n",
       "\n",
       "   Internal_movement_restrictions  International_movement_restrictions  \\\n",
       "0                               0                                    3   \n",
       "1                               0                                    3   \n",
       "2                               0                                    3   \n",
       "3                               0                                    3   \n",
       "4                               0                                    3   \n",
       "\n",
       "   Information_campaigns  Testing_policy  Contact_tracing  Stringency_index  \n",
       "0                      2               1                2             32.41  \n",
       "1                      2               1                2             32.41  \n",
       "2                      2               1                2             32.41  \n",
       "3                      2               1                2             32.41  \n",
       "4                      2               1                2             32.41  \n",
       "\n",
       "[5 rows x 23 columns]"
      ]
     },
     "execution_count": 13,
     "metadata": {},
     "output_type": "execute_result"
    }
   ],
   "source": [
    "# All parameter/day parameter/Rt/OxCGRT\n",
    "analyser.track().head()"
   ]
  },
  {
   "cell_type": "markdown",
   "metadata": {},
   "source": [
    "### $Rt$: Reprodcution number $\\mathrm{[-]}$"
   ]
  },
  {
   "cell_type": "code",
   "execution_count": 14,
   "metadata": {
    "collapsed": false
   },
   "outputs": [
    {
     "data": {
      "image/png": "[encoded data removed]",
      "text/plain": [
       "<Figure size 648x432 with 1 Axes>"
      ]
     },
     "metadata": {},
     "output_type": "display_data"
    },
    {
     "data": {
      "text/html": [
       "<div>\n",
       "<style scoped>\n",
       "    .dataframe tbody tr th:only-of-type {\n",
       "        vertical-align: middle;\n",
       "    }\n",
       "\n",
       "    .dataframe tbody tr th {\n",
       "        vertical-align: top;\n",
       "    }\n",
       "\n",
       "    .dataframe thead th {\n",
       "        text-align: right;\n",
       "    }\n",
       "</style>\n",
       "<table border=\"1\" class=\"dataframe\">\n",
       "  <thead>\n",
       "    <tr style=\"text-align: right;\">\n",
       "      <th>Country</th>\n",
       "      <th>Belgium</th>\n",
       "      <th>Canada</th>\n",
       "      <th>France</th>\n",
       "      <th>Netherlands</th>\n",
       "      <th>Portugal</th>\n",
       "      <th>Romania</th>\n",
       "      <th>United Kingdom</th>\n",
       "    </tr>\n",
       "    <tr>\n",
       "      <th>Date</th>\n",
       "      <th></th>\n",
       "      <th></th>\n",
       "      <th></th>\n",
       "      <th></th>\n",
       "      <th></th>\n",
       "      <th></th>\n",
       "      <th></th>\n",
       "    </tr>\n",
       "  </thead>\n",
       "  <tbody>\n",
       "    <tr>\n",
       "      <th>2020-12-07</th>\n",
       "      <td>0.84</td>\n",
       "      <td>1.35</td>\n",
       "      <td>0.39</td>\n",
       "      <td>0.98</td>\n",
       "      <td>0.95</td>\n",
       "      <td>1.92</td>\n",
       "      <td>1.06</td>\n",
       "    </tr>\n",
       "    <tr>\n",
       "      <th>2020-12-08</th>\n",
       "      <td>0.84</td>\n",
       "      <td>1.35</td>\n",
       "      <td>0.39</td>\n",
       "      <td>0.98</td>\n",
       "      <td>0.95</td>\n",
       "      <td>1.92</td>\n",
       "      <td>1.06</td>\n",
       "    </tr>\n",
       "    <tr>\n",
       "      <th>2020-12-09</th>\n",
       "      <td>0.84</td>\n",
       "      <td>1.35</td>\n",
       "      <td>0.39</td>\n",
       "      <td>0.98</td>\n",
       "      <td>0.95</td>\n",
       "      <td>1.92</td>\n",
       "      <td>1.06</td>\n",
       "    </tr>\n",
       "    <tr>\n",
       "      <th>2020-12-10</th>\n",
       "      <td>0.84</td>\n",
       "      <td>1.35</td>\n",
       "      <td>0.39</td>\n",
       "      <td>0.98</td>\n",
       "      <td>0.95</td>\n",
       "      <td>1.92</td>\n",
       "      <td>1.06</td>\n",
       "    </tr>\n",
       "    <tr>\n",
       "      <th>2020-12-11</th>\n",
       "      <td>0.84</td>\n",
       "      <td>1.35</td>\n",
       "      <td>0.39</td>\n",
       "      <td>0.98</td>\n",
       "      <td>0.95</td>\n",
       "      <td>1.92</td>\n",
       "      <td>1.06</td>\n",
       "    </tr>\n",
       "  </tbody>\n",
       "</table>\n",
       "</div>"
      ],
      "text/plain": [
       "Country     Belgium  Canada  France  Netherlands  Portugal  Romania  \\\n",
       "Date                                                                  \n",
       "2020-12-07     0.84    1.35    0.39         0.98      0.95     1.92   \n",
       "2020-12-08     0.84    1.35    0.39         0.98      0.95     1.92   \n",
       "2020-12-09     0.84    1.35    0.39         0.98      0.95     1.92   \n",
       "2020-12-10     0.84    1.35    0.39         0.98      0.95     1.92   \n",
       "2020-12-11     0.84    1.35    0.39         0.98      0.95     1.92   \n",
       "\n",
       "Country     United Kingdom  \n",
       "Date                        \n",
       "2020-12-07            1.06  \n",
       "2020-12-08            1.06  \n",
       "2020-12-09            1.06  \n",
       "2020-12-10            1.06  \n",
       "2020-12-11            1.06  "
      ]
     },
     "execution_count": 14,
     "metadata": {},
     "output_type": "execute_result"
    }
   ],
   "source": [
    "analyser.history(\"Rt\", roll_window=None).tail()"
   ]
  },
  {
   "cell_type": "markdown",
   "metadata": {},
   "source": [
    "### $\\rho$: Effective contact rate $\\mathrm{[-]}$"
   ]
  },
  {
   "cell_type": "code",
   "execution_count": 15,
   "metadata": {
    "collapsed": false
   },
   "outputs": [
    {
     "data": {
      "image/png": "[encoded data removed]",
      "text/plain": [
       "<Figure size 648x432 with 1 Axes>"
      ]
     },
     "metadata": {},
     "output_type": "display_data"
    },
    {
     "data": {
      "text/html": [
       "<div>\n",
       "<style scoped>\n",
       "    .dataframe tbody tr th:only-of-type {\n",
       "        vertical-align: middle;\n",
       "    }\n",
       "\n",
       "    .dataframe tbody tr th {\n",
       "        vertical-align: top;\n",
       "    }\n",
       "\n",
       "    .dataframe thead th {\n",
       "        text-align: right;\n",
       "    }\n",
       "</style>\n",
       "<table border=\"1\" class=\"dataframe\">\n",
       "  <thead>\n",
       "    <tr style=\"text-align: right;\">\n",
       "      <th>Country</th>\n",
       "      <th>Belgium</th>\n",
       "      <th>Canada</th>\n",
       "      <th>France</th>\n",
       "      <th>Netherlands</th>\n",
       "      <th>Portugal</th>\n",
       "      <th>Romania</th>\n",
       "      <th>United Kingdom</th>\n",
       "    </tr>\n",
       "    <tr>\n",
       "      <th>Date</th>\n",
       "      <th></th>\n",
       "      <th></th>\n",
       "      <th></th>\n",
       "      <th></th>\n",
       "      <th></th>\n",
       "      <th></th>\n",
       "      <th></th>\n",
       "    </tr>\n",
       "  </thead>\n",
       "  <tbody>\n",
       "    <tr>\n",
       "      <th>2020-12-07</th>\n",
       "      <td>0.014252</td>\n",
       "      <td>0.022788</td>\n",
       "      <td>0.015341</td>\n",
       "      <td>0.021125</td>\n",
       "      <td>0.011442</td>\n",
       "      <td>0.026693</td>\n",
       "      <td>0.024057</td>\n",
       "    </tr>\n",
       "    <tr>\n",
       "      <th>2020-12-08</th>\n",
       "      <td>0.014252</td>\n",
       "      <td>0.022788</td>\n",
       "      <td>0.015341</td>\n",
       "      <td>0.021125</td>\n",
       "      <td>0.011442</td>\n",
       "      <td>0.026693</td>\n",
       "      <td>0.024057</td>\n",
       "    </tr>\n",
       "    <tr>\n",
       "      <th>2020-12-09</th>\n",
       "      <td>0.014252</td>\n",
       "      <td>0.022788</td>\n",
       "      <td>0.015341</td>\n",
       "      <td>0.021125</td>\n",
       "      <td>0.011442</td>\n",
       "      <td>0.026693</td>\n",
       "      <td>0.024057</td>\n",
       "    </tr>\n",
       "    <tr>\n",
       "      <th>2020-12-10</th>\n",
       "      <td>0.014252</td>\n",
       "      <td>0.022788</td>\n",
       "      <td>0.015341</td>\n",
       "      <td>0.021125</td>\n",
       "      <td>0.011442</td>\n",
       "      <td>0.026693</td>\n",
       "      <td>0.024057</td>\n",
       "    </tr>\n",
       "    <tr>\n",
       "      <th>2020-12-11</th>\n",
       "      <td>0.014252</td>\n",
       "      <td>0.022788</td>\n",
       "      <td>0.015341</td>\n",
       "      <td>0.021125</td>\n",
       "      <td>0.011442</td>\n",
       "      <td>0.026693</td>\n",
       "      <td>0.024057</td>\n",
       "    </tr>\n",
       "  </tbody>\n",
       "</table>\n",
       "</div>"
      ],
      "text/plain": [
       "Country      Belgium    Canada    France  Netherlands  Portugal   Romania  \\\n",
       "Date                                                                        \n",
       "2020-12-07  0.014252  0.022788  0.015341     0.021125  0.011442  0.026693   \n",
       "2020-12-08  0.014252  0.022788  0.015341     0.021125  0.011442  0.026693   \n",
       "2020-12-09  0.014252  0.022788  0.015341     0.021125  0.011442  0.026693   \n",
       "2020-12-10  0.014252  0.022788  0.015341     0.021125  0.011442  0.026693   \n",
       "2020-12-11  0.014252  0.022788  0.015341     0.021125  0.011442  0.026693   \n",
       "\n",
       "Country     United Kingdom  \n",
       "Date                        \n",
       "2020-12-07        0.024057  \n",
       "2020-12-08        0.024057  \n",
       "2020-12-09        0.024057  \n",
       "2020-12-10        0.024057  \n",
       "2020-12-11        0.024057  "
      ]
     },
     "execution_count": 15,
     "metadata": {},
     "output_type": "execute_result"
    }
   ],
   "source": [
    "analyser.history(\"rho\", roll_window=None).tail()"
   ]
  },
  {
   "cell_type": "markdown",
   "metadata": {},
   "source": [
    "### $\\sigma$: Recovery rate $\\mathrm{[-]}$"
   ]
  },
  {
   "cell_type": "code",
   "execution_count": 16,
   "metadata": {
    "collapsed": false
   },
   "outputs": [
    {
     "data": {
      "image/png": "[encoded data removed]",
      "text/plain": [
       "<Figure size 648x432 with 1 Axes>"
      ]
     },
     "metadata": {},
     "output_type": "display_data"
    },
    {
     "data": {
      "text/html": [
       "<div>\n",
       "<style scoped>\n",
       "    .dataframe tbody tr th:only-of-type {\n",
       "        vertical-align: middle;\n",
       "    }\n",
       "\n",
       "    .dataframe tbody tr th {\n",
       "        vertical-align: top;\n",
       "    }\n",
       "\n",
       "    .dataframe thead th {\n",
       "        text-align: right;\n",
       "    }\n",
       "</style>\n",
       "<table border=\"1\" class=\"dataframe\">\n",
       "  <thead>\n",
       "    <tr style=\"text-align: right;\">\n",
       "      <th>Country</th>\n",
       "      <th>Belgium</th>\n",
       "      <th>Canada</th>\n",
       "      <th>France</th>\n",
       "      <th>Netherlands</th>\n",
       "      <th>Portugal</th>\n",
       "      <th>Romania</th>\n",
       "      <th>United Kingdom</th>\n",
       "    </tr>\n",
       "    <tr>\n",
       "      <th>Date</th>\n",
       "      <th></th>\n",
       "      <th></th>\n",
       "      <th></th>\n",
       "      <th></th>\n",
       "      <th></th>\n",
       "      <th></th>\n",
       "      <th></th>\n",
       "    </tr>\n",
       "  </thead>\n",
       "  <tbody>\n",
       "    <tr>\n",
       "      <th>2020-12-07</th>\n",
       "      <td>0.015756</td>\n",
       "      <td>0.016754</td>\n",
       "      <td>0.037378</td>\n",
       "      <td>0.021355</td>\n",
       "      <td>0.011804</td>\n",
       "      <td>0.013591</td>\n",
       "      <td>0.022112</td>\n",
       "    </tr>\n",
       "    <tr>\n",
       "      <th>2020-12-08</th>\n",
       "      <td>0.015756</td>\n",
       "      <td>0.016754</td>\n",
       "      <td>0.037378</td>\n",
       "      <td>0.021355</td>\n",
       "      <td>0.011804</td>\n",
       "      <td>0.013591</td>\n",
       "      <td>0.022112</td>\n",
       "    </tr>\n",
       "    <tr>\n",
       "      <th>2020-12-09</th>\n",
       "      <td>0.015756</td>\n",
       "      <td>0.016754</td>\n",
       "      <td>0.037378</td>\n",
       "      <td>0.021355</td>\n",
       "      <td>0.011804</td>\n",
       "      <td>0.013591</td>\n",
       "      <td>0.022112</td>\n",
       "    </tr>\n",
       "    <tr>\n",
       "      <th>2020-12-10</th>\n",
       "      <td>0.015756</td>\n",
       "      <td>0.016754</td>\n",
       "      <td>0.037378</td>\n",
       "      <td>0.021355</td>\n",
       "      <td>0.011804</td>\n",
       "      <td>0.013591</td>\n",
       "      <td>0.022112</td>\n",
       "    </tr>\n",
       "    <tr>\n",
       "      <th>2020-12-11</th>\n",
       "      <td>0.015756</td>\n",
       "      <td>0.016754</td>\n",
       "      <td>0.037378</td>\n",
       "      <td>0.021355</td>\n",
       "      <td>0.011804</td>\n",
       "      <td>0.013591</td>\n",
       "      <td>0.022112</td>\n",
       "    </tr>\n",
       "  </tbody>\n",
       "</table>\n",
       "</div>"
      ],
      "text/plain": [
       "Country      Belgium    Canada    France  Netherlands  Portugal   Romania  \\\n",
       "Date                                                                        \n",
       "2020-12-07  0.015756  0.016754  0.037378     0.021355  0.011804  0.013591   \n",
       "2020-12-08  0.015756  0.016754  0.037378     0.021355  0.011804  0.013591   \n",
       "2020-12-09  0.015756  0.016754  0.037378     0.021355  0.011804  0.013591   \n",
       "2020-12-10  0.015756  0.016754  0.037378     0.021355  0.011804  0.013591   \n",
       "2020-12-11  0.015756  0.016754  0.037378     0.021355  0.011804  0.013591   \n",
       "\n",
       "Country     United Kingdom  \n",
       "Date                        \n",
       "2020-12-07        0.022112  \n",
       "2020-12-08        0.022112  \n",
       "2020-12-09        0.022112  \n",
       "2020-12-10        0.022112  \n",
       "2020-12-11        0.022112  "
      ]
     },
     "execution_count": 16,
     "metadata": {},
     "output_type": "execute_result"
    }
   ],
   "source": [
    "analyser.history(\"sigma\", roll_window=None).tail()"
   ]
  },
  {
   "cell_type": "markdown",
   "metadata": {},
   "source": [
    "### $\\kappa$: Mortality rate of infected cases $\\mathrm{[-]}$"
   ]
  },
  {
   "cell_type": "code",
   "execution_count": 17,
   "metadata": {
    "collapsed": false
   },
   "outputs": [
    {
     "data": {
      "image/png": "[encoded data removed]",
      "text/plain": [
       "<Figure size 648x432 with 1 Axes>"
      ]
     },
     "metadata": {},
     "output_type": "display_data"
    },
    {
     "data": {
      "text/html": [
       "<div>\n",
       "<style scoped>\n",
       "    .dataframe tbody tr th:only-of-type {\n",
       "        vertical-align: middle;\n",
       "    }\n",
       "\n",
       "    .dataframe tbody tr th {\n",
       "        vertical-align: top;\n",
       "    }\n",
       "\n",
       "    .dataframe thead th {\n",
       "        text-align: right;\n",
       "    }\n",
       "</style>\n",
       "<table border=\"1\" class=\"dataframe\">\n",
       "  <thead>\n",
       "    <tr style=\"text-align: right;\">\n",
       "      <th>Country</th>\n",
       "      <th>Belgium</th>\n",
       "      <th>Canada</th>\n",
       "      <th>France</th>\n",
       "      <th>Netherlands</th>\n",
       "      <th>Portugal</th>\n",
       "      <th>Romania</th>\n",
       "      <th>United Kingdom</th>\n",
       "    </tr>\n",
       "    <tr>\n",
       "      <th>Date</th>\n",
       "      <th></th>\n",
       "      <th></th>\n",
       "      <th></th>\n",
       "      <th></th>\n",
       "      <th></th>\n",
       "      <th></th>\n",
       "      <th></th>\n",
       "    </tr>\n",
       "  </thead>\n",
       "  <tbody>\n",
       "    <tr>\n",
       "      <th>2020-12-07</th>\n",
       "      <td>0.000417</td>\n",
       "      <td>0.000169</td>\n",
       "      <td>0.000059</td>\n",
       "      <td>0.000162</td>\n",
       "      <td>0.00004</td>\n",
       "      <td>0.000301</td>\n",
       "      <td>0.000491</td>\n",
       "    </tr>\n",
       "    <tr>\n",
       "      <th>2020-12-08</th>\n",
       "      <td>0.000417</td>\n",
       "      <td>0.000169</td>\n",
       "      <td>0.000059</td>\n",
       "      <td>0.000162</td>\n",
       "      <td>0.00004</td>\n",
       "      <td>0.000301</td>\n",
       "      <td>0.000491</td>\n",
       "    </tr>\n",
       "    <tr>\n",
       "      <th>2020-12-09</th>\n",
       "      <td>0.000417</td>\n",
       "      <td>0.000169</td>\n",
       "      <td>0.000059</td>\n",
       "      <td>0.000162</td>\n",
       "      <td>0.00004</td>\n",
       "      <td>0.000301</td>\n",
       "      <td>0.000491</td>\n",
       "    </tr>\n",
       "    <tr>\n",
       "      <th>2020-12-10</th>\n",
       "      <td>0.000417</td>\n",
       "      <td>0.000169</td>\n",
       "      <td>0.000059</td>\n",
       "      <td>0.000162</td>\n",
       "      <td>0.00004</td>\n",
       "      <td>0.000301</td>\n",
       "      <td>0.000491</td>\n",
       "    </tr>\n",
       "    <tr>\n",
       "      <th>2020-12-11</th>\n",
       "      <td>0.000417</td>\n",
       "      <td>0.000169</td>\n",
       "      <td>0.000059</td>\n",
       "      <td>0.000162</td>\n",
       "      <td>0.00004</td>\n",
       "      <td>0.000301</td>\n",
       "      <td>0.000491</td>\n",
       "    </tr>\n",
       "  </tbody>\n",
       "</table>\n",
       "</div>"
      ],
      "text/plain": [
       "Country      Belgium    Canada    France  Netherlands  Portugal   Romania  \\\n",
       "Date                                                                        \n",
       "2020-12-07  0.000417  0.000169  0.000059     0.000162   0.00004  0.000301   \n",
       "2020-12-08  0.000417  0.000169  0.000059     0.000162   0.00004  0.000301   \n",
       "2020-12-09  0.000417  0.000169  0.000059     0.000162   0.00004  0.000301   \n",
       "2020-12-10  0.000417  0.000169  0.000059     0.000162   0.00004  0.000301   \n",
       "2020-12-11  0.000417  0.000169  0.000059     0.000162   0.00004  0.000301   \n",
       "\n",
       "Country     United Kingdom  \n",
       "Date                        \n",
       "2020-12-07        0.000491  \n",
       "2020-12-08        0.000491  \n",
       "2020-12-09        0.000491  \n",
       "2020-12-10        0.000491  \n",
       "2020-12-11        0.000491  "
      ]
     },
     "execution_count": 17,
     "metadata": {},
     "output_type": "execute_result"
    }
   ],
   "source": [
    "analyser.history(\"kappa\", roll_window=None).tail()"
   ]
  },
  {
   "cell_type": "markdown",
   "metadata": {},
   "source": [
    "### $\\theta$: Mortality rate of S$^\\ast$ cases $\\mathrm{[-]}$"
   ]
  },
  {
   "cell_type": "code",
   "execution_count": 18,
   "metadata": {
    "collapsed": false
   },
   "outputs": [
    {
     "data": {
      "image/png": "[encoded data removed]",
      "text/plain": [
       "<Figure size 648x432 with 1 Axes>"
      ]
     },
     "metadata": {},
     "output_type": "display_data"
    },
    {
     "data": {
      "text/html": [
       "<div>\n",
       "<style scoped>\n",
       "    .dataframe tbody tr th:only-of-type {\n",
       "        vertical-align: middle;\n",
       "    }\n",
       "\n",
       "    .dataframe tbody tr th {\n",
       "        vertical-align: top;\n",
       "    }\n",
       "\n",
       "    .dataframe thead th {\n",
       "        text-align: right;\n",
       "    }\n",
       "</style>\n",
       "<table border=\"1\" class=\"dataframe\">\n",
       "  <thead>\n",
       "    <tr style=\"text-align: right;\">\n",
       "      <th>Country</th>\n",
       "      <th>Belgium</th>\n",
       "      <th>Canada</th>\n",
       "      <th>France</th>\n",
       "      <th>Netherlands</th>\n",
       "      <th>Portugal</th>\n",
       "      <th>Romania</th>\n",
       "      <th>United Kingdom</th>\n",
       "    </tr>\n",
       "    <tr>\n",
       "      <th>Date</th>\n",
       "      <th></th>\n",
       "      <th></th>\n",
       "      <th></th>\n",
       "      <th></th>\n",
       "      <th></th>\n",
       "      <th></th>\n",
       "      <th></th>\n",
       "    </tr>\n",
       "  </thead>\n",
       "  <tbody>\n",
       "    <tr>\n",
       "      <th>2020-12-07</th>\n",
       "      <td>0.043189</td>\n",
       "      <td>0.00013</td>\n",
       "      <td>0.038791</td>\n",
       "      <td>0.001146</td>\n",
       "      <td>0.019687</td>\n",
       "      <td>0.003156</td>\n",
       "      <td>0.0028</td>\n",
       "    </tr>\n",
       "    <tr>\n",
       "      <th>2020-12-08</th>\n",
       "      <td>0.043189</td>\n",
       "      <td>0.00013</td>\n",
       "      <td>0.038791</td>\n",
       "      <td>0.001146</td>\n",
       "      <td>0.019687</td>\n",
       "      <td>0.003156</td>\n",
       "      <td>0.0028</td>\n",
       "    </tr>\n",
       "    <tr>\n",
       "      <th>2020-12-09</th>\n",
       "      <td>0.043189</td>\n",
       "      <td>0.00013</td>\n",
       "      <td>0.038791</td>\n",
       "      <td>0.001146</td>\n",
       "      <td>0.019687</td>\n",
       "      <td>0.003156</td>\n",
       "      <td>0.0028</td>\n",
       "    </tr>\n",
       "    <tr>\n",
       "      <th>2020-12-10</th>\n",
       "      <td>0.043189</td>\n",
       "      <td>0.00013</td>\n",
       "      <td>0.038791</td>\n",
       "      <td>0.001146</td>\n",
       "      <td>0.019687</td>\n",
       "      <td>0.003156</td>\n",
       "      <td>0.0028</td>\n",
       "    </tr>\n",
       "    <tr>\n",
       "      <th>2020-12-11</th>\n",
       "      <td>0.043189</td>\n",
       "      <td>0.00013</td>\n",
       "      <td>0.038791</td>\n",
       "      <td>0.001146</td>\n",
       "      <td>0.019687</td>\n",
       "      <td>0.003156</td>\n",
       "      <td>0.0028</td>\n",
       "    </tr>\n",
       "  </tbody>\n",
       "</table>\n",
       "</div>"
      ],
      "text/plain": [
       "Country      Belgium   Canada    France  Netherlands  Portugal   Romania  \\\n",
       "Date                                                                       \n",
       "2020-12-07  0.043189  0.00013  0.038791     0.001146  0.019687  0.003156   \n",
       "2020-12-08  0.043189  0.00013  0.038791     0.001146  0.019687  0.003156   \n",
       "2020-12-09  0.043189  0.00013  0.038791     0.001146  0.019687  0.003156   \n",
       "2020-12-10  0.043189  0.00013  0.038791     0.001146  0.019687  0.003156   \n",
       "2020-12-11  0.043189  0.00013  0.038791     0.001146  0.019687  0.003156   \n",
       "\n",
       "Country     United Kingdom  \n",
       "Date                        \n",
       "2020-12-07          0.0028  \n",
       "2020-12-08          0.0028  \n",
       "2020-12-09          0.0028  \n",
       "2020-12-10          0.0028  \n",
       "2020-12-11          0.0028  "
      ]
     },
     "execution_count": 18,
     "metadata": {},
     "output_type": "execute_result"
    }
   ],
   "source": [
    "analyser.history(\"theta\", roll_window=None).tail()"
   ]
  },
  {
   "cell_type": "markdown",
   "metadata": {},
   "source": [
    "## (Experimental): Relationship of OxCGRT index and parameter values\n",
    "Government responses will impact on parameter values of ODE models about 14 days later. Here, we will investigate on the relationship of [stringency index (from OxCGRT)](https://github.com/OxCGRT/covid-policy-tracker/blob/master/documentation/index_methodology.md) and reproduction number/model parameters.\n"
   ]
  },
  {
   "cell_type": "code",
   "execution_count": 19,
   "metadata": {
    "collapsed": false
   },
   "outputs": [],
   "source": [
    "%matplotlib inline\n",
    "from matplotlib import pyplot as plt\n",
    "import seaborn as sns\n",
    "import pandas as pd"
   ]
  },
  {
   "cell_type": "code",
   "execution_count": 20,
   "metadata": {
    "collapsed": false
   },
   "outputs": [
    {
     "name": "stdout",
     "output_type": "stream",
     "text": [
      "<class 'pandas.core.frame.DataFrame'>\n",
      "Int64Index: 25919 entries, 0 to 26002\n",
      "Data columns (total 19 columns):\n",
      " #   Column                               Non-Null Count  Dtype         \n",
      "---  ------                               --------------  -----         \n",
      " 0   Date                                 25919 non-null  datetime64[ns]\n",
      " 1   Country                              25919 non-null  object        \n",
      " 2   Rt                                   25919 non-null  float64       \n",
      " 3   theta                                25919 non-null  float64       \n",
      " 4   kappa                                25919 non-null  float64       \n",
      " 5   rho                                  25919 non-null  float64       \n",
      " 6   sigma                                25919 non-null  float64       \n",
      " 7   School_closing                       25919 non-null  int64         \n",
      " 8   Workplace_closing                    25919 non-null  int64         \n",
      " 9   Cancel_events                        25919 non-null  int64         \n",
      " 10  Gatherings_restrictions              25919 non-null  int64         \n",
      " 11  Transport_closing                    25919 non-null  int64         \n",
      " 12  Stay_home_restrictions               25919 non-null  int64         \n",
      " 13  Internal_movement_restrictions       25919 non-null  int64         \n",
      " 14  International_movement_restrictions  25919 non-null  int64         \n",
      " 15  Information_campaigns                25919 non-null  int64         \n",
      " 16  Testing_policy                       25919 non-null  int64         \n",
      " 17  Contact_tracing                      25919 non-null  int64         \n",
      " 18  Stringency_index                     25919 non-null  float64       \n",
      "dtypes: datetime64[ns](1), float64(6), int64(11), object(1)\n",
      "memory usage: 4.0+ MB\n"
     ]
    }
   ],
   "source": [
    "df = analyser.track()\n",
    "param_cols = [\"Rt\", *cs.SIRF.PARAMETERS]\n",
    "oxcgrt_cols = oxcgrt_data.OXCGRT_VARS[:]\n",
    "cols = param_cols + oxcgrt_cols\n",
    "delay = 14\n",
    "\n",
    "for col in param_cols:\n",
    "    df[col] = pd.to_numeric(df[col], errors=\"coerce\")\n",
    "    df[col] = df.groupby(\"Country\")[col].shift(0 - delay)\n",
    "\n",
    "df = df.dropna(how=\"any\")\n",
    "df = df.loc[:, [\"Date\", \"Country\", *cols]]\n",
    "track_df = df.copy()\n",
    "track_df.info()"
   ]
  },
  {
   "cell_type": "code",
   "execution_count": 21,
   "metadata": {
    "collapsed": false
   },
   "outputs": [
    {
     "data": {
      "text/html": [
       "<style  type=\"text/css\" >\n",
       "#T_85bdcc14_3bd1_11eb_9fa2_525400b1e3a4row0_col0,#T_85bdcc14_3bd1_11eb_9fa2_525400b1e3a4row1_col1,#T_85bdcc14_3bd1_11eb_9fa2_525400b1e3a4row2_col2,#T_85bdcc14_3bd1_11eb_9fa2_525400b1e3a4row3_col3,#T_85bdcc14_3bd1_11eb_9fa2_525400b1e3a4row4_col4,#T_85bdcc14_3bd1_11eb_9fa2_525400b1e3a4row5_col5,#T_85bdcc14_3bd1_11eb_9fa2_525400b1e3a4row6_col6,#T_85bdcc14_3bd1_11eb_9fa2_525400b1e3a4row7_col7,#T_85bdcc14_3bd1_11eb_9fa2_525400b1e3a4row8_col8,#T_85bdcc14_3bd1_11eb_9fa2_525400b1e3a4row9_col9,#T_85bdcc14_3bd1_11eb_9fa2_525400b1e3a4row10_col10,#T_85bdcc14_3bd1_11eb_9fa2_525400b1e3a4row11_col11,#T_85bdcc14_3bd1_11eb_9fa2_525400b1e3a4row12_col12,#T_85bdcc14_3bd1_11eb_9fa2_525400b1e3a4row13_col13,#T_85bdcc14_3bd1_11eb_9fa2_525400b1e3a4row14_col14,#T_85bdcc14_3bd1_11eb_9fa2_525400b1e3a4row15_col15,#T_85bdcc14_3bd1_11eb_9fa2_525400b1e3a4row16_col16{\n",
       "            background-color:  #023858;\n",
       "            color:  #f1f1f1;\n",
       "        }#T_85bdcc14_3bd1_11eb_9fa2_525400b1e3a4row0_col1,#T_85bdcc14_3bd1_11eb_9fa2_525400b1e3a4row1_col0,#T_85bdcc14_3bd1_11eb_9fa2_525400b1e3a4row3_col15,#T_85bdcc14_3bd1_11eb_9fa2_525400b1e3a4row15_col3{\n",
       "            background-color:  #c8cde4;\n",
       "            color:  #000000;\n",
       "        }#T_85bdcc14_3bd1_11eb_9fa2_525400b1e3a4row0_col2,#T_85bdcc14_3bd1_11eb_9fa2_525400b1e3a4row2_col0,#T_85bdcc14_3bd1_11eb_9fa2_525400b1e3a4row6_col14,#T_85bdcc14_3bd1_11eb_9fa2_525400b1e3a4row9_col12,#T_85bdcc14_3bd1_11eb_9fa2_525400b1e3a4row12_col9,#T_85bdcc14_3bd1_11eb_9fa2_525400b1e3a4row14_col6{\n",
       "            background-color:  #afc1dd;\n",
       "            color:  #000000;\n",
       "        }#T_85bdcc14_3bd1_11eb_9fa2_525400b1e3a4row0_col3,#T_85bdcc14_3bd1_11eb_9fa2_525400b1e3a4row3_col0,#T_85bdcc14_3bd1_11eb_9fa2_525400b1e3a4row4_col8,#T_85bdcc14_3bd1_11eb_9fa2_525400b1e3a4row8_col4,#T_85bdcc14_3bd1_11eb_9fa2_525400b1e3a4row11_col16,#T_85bdcc14_3bd1_11eb_9fa2_525400b1e3a4row16_col11{\n",
       "            background-color:  #2786bb;\n",
       "            color:  #000000;\n",
       "        }#T_85bdcc14_3bd1_11eb_9fa2_525400b1e3a4row0_col4,#T_85bdcc14_3bd1_11eb_9fa2_525400b1e3a4row4_col0{\n",
       "            background-color:  #eee8f3;\n",
       "            color:  #000000;\n",
       "        }#T_85bdcc14_3bd1_11eb_9fa2_525400b1e3a4row0_col5,#T_85bdcc14_3bd1_11eb_9fa2_525400b1e3a4row5_col0{\n",
       "            background-color:  #bcc7e1;\n",
       "            color:  #000000;\n",
       "        }#T_85bdcc14_3bd1_11eb_9fa2_525400b1e3a4row0_col6,#T_85bdcc14_3bd1_11eb_9fa2_525400b1e3a4row6_col0{\n",
       "            background-color:  #c9cee4;\n",
       "            color:  #000000;\n",
       "        }#T_85bdcc14_3bd1_11eb_9fa2_525400b1e3a4row0_col7,#T_85bdcc14_3bd1_11eb_9fa2_525400b1e3a4row0_col9,#T_85bdcc14_3bd1_11eb_9fa2_525400b1e3a4row6_col15,#T_85bdcc14_3bd1_11eb_9fa2_525400b1e3a4row7_col0,#T_85bdcc14_3bd1_11eb_9fa2_525400b1e3a4row9_col0,#T_85bdcc14_3bd1_11eb_9fa2_525400b1e3a4row15_col6{\n",
       "            background-color:  #cacee5;\n",
       "            color:  #000000;\n",
       "        }#T_85bdcc14_3bd1_11eb_9fa2_525400b1e3a4row0_col8,#T_85bdcc14_3bd1_11eb_9fa2_525400b1e3a4row3_col13,#T_85bdcc14_3bd1_11eb_9fa2_525400b1e3a4row8_col0,#T_85bdcc14_3bd1_11eb_9fa2_525400b1e3a4row13_col3{\n",
       "            background-color:  #e2dfee;\n",
       "            color:  #000000;\n",
       "        }#T_85bdcc14_3bd1_11eb_9fa2_525400b1e3a4row0_col10,#T_85bdcc14_3bd1_11eb_9fa2_525400b1e3a4row10_col0{\n",
       "            background-color:  #c4cbe3;\n",
       "            color:  #000000;\n",
       "        }#T_85bdcc14_3bd1_11eb_9fa2_525400b1e3a4row0_col11,#T_85bdcc14_3bd1_11eb_9fa2_525400b1e3a4row11_col0{\n",
       "            background-color:  #d2d3e7;\n",
       "            color:  #000000;\n",
       "        }#T_85bdcc14_3bd1_11eb_9fa2_525400b1e3a4row0_col12,#T_85bdcc14_3bd1_11eb_9fa2_525400b1e3a4row12_col0{\n",
       "            background-color:  #ced0e6;\n",
       "            color:  #000000;\n",
       "        }#T_85bdcc14_3bd1_11eb_9fa2_525400b1e3a4row0_col13,#T_85bdcc14_3bd1_11eb_9fa2_525400b1e3a4row0_col15,#T_85bdcc14_3bd1_11eb_9fa2_525400b1e3a4row3_col9,#T_85bdcc14_3bd1_11eb_9fa2_525400b1e3a4row9_col3,#T_85bdcc14_3bd1_11eb_9fa2_525400b1e3a4row13_col0,#T_85bdcc14_3bd1_11eb_9fa2_525400b1e3a4row15_col0{\n",
       "            background-color:  #d0d1e6;\n",
       "            color:  #000000;\n",
       "        }#T_85bdcc14_3bd1_11eb_9fa2_525400b1e3a4row0_col14,#T_85bdcc14_3bd1_11eb_9fa2_525400b1e3a4row7_col14,#T_85bdcc14_3bd1_11eb_9fa2_525400b1e3a4row14_col0,#T_85bdcc14_3bd1_11eb_9fa2_525400b1e3a4row14_col7{\n",
       "            background-color:  #d5d5e8;\n",
       "            color:  #000000;\n",
       "        }#T_85bdcc14_3bd1_11eb_9fa2_525400b1e3a4row0_col16,#T_85bdcc14_3bd1_11eb_9fa2_525400b1e3a4row2_col8,#T_85bdcc14_3bd1_11eb_9fa2_525400b1e3a4row8_col2,#T_85bdcc14_3bd1_11eb_9fa2_525400b1e3a4row16_col0{\n",
       "            background-color:  #d2d2e7;\n",
       "            color:  #000000;\n",
       "        }#T_85bdcc14_3bd1_11eb_9fa2_525400b1e3a4row1_col2,#T_85bdcc14_3bd1_11eb_9fa2_525400b1e3a4row2_col1{\n",
       "            background-color:  #a5bddb;\n",
       "            color:  #000000;\n",
       "        }#T_85bdcc14_3bd1_11eb_9fa2_525400b1e3a4row1_col3,#T_85bdcc14_3bd1_11eb_9fa2_525400b1e3a4row3_col1,#T_85bdcc14_3bd1_11eb_9fa2_525400b1e3a4row3_col4,#T_85bdcc14_3bd1_11eb_9fa2_525400b1e3a4row4_col3{\n",
       "            background-color:  #d7d6e9;\n",
       "            color:  #000000;\n",
       "        }#T_85bdcc14_3bd1_11eb_9fa2_525400b1e3a4row1_col4,#T_85bdcc14_3bd1_11eb_9fa2_525400b1e3a4row4_col1{\n",
       "            background-color:  #a1bbda;\n",
       "            color:  #000000;\n",
       "        }#T_85bdcc14_3bd1_11eb_9fa2_525400b1e3a4row1_col5,#T_85bdcc14_3bd1_11eb_9fa2_525400b1e3a4row5_col1{\n",
       "            background-color:  #69a5cc;\n",
       "            color:  #000000;\n",
       "        }#T_85bdcc14_3bd1_11eb_9fa2_525400b1e3a4row1_col6,#T_85bdcc14_3bd1_11eb_9fa2_525400b1e3a4row1_col10,#T_85bdcc14_3bd1_11eb_9fa2_525400b1e3a4row5_col12,#T_85bdcc14_3bd1_11eb_9fa2_525400b1e3a4row6_col1,#T_85bdcc14_3bd1_11eb_9fa2_525400b1e3a4row10_col1,#T_85bdcc14_3bd1_11eb_9fa2_525400b1e3a4row12_col5{\n",
       "            background-color:  #71a8ce;\n",
       "            color:  #000000;\n",
       "        }#T_85bdcc14_3bd1_11eb_9fa2_525400b1e3a4row1_col7,#T_85bdcc14_3bd1_11eb_9fa2_525400b1e3a4row7_col1{\n",
       "            background-color:  #6fa7ce;\n",
       "            color:  #000000;\n",
       "        }#T_85bdcc14_3bd1_11eb_9fa2_525400b1e3a4row1_col8,#T_85bdcc14_3bd1_11eb_9fa2_525400b1e3a4row8_col1{\n",
       "            background-color:  #7bacd1;\n",
       "            color:  #000000;\n",
       "        }#T_85bdcc14_3bd1_11eb_9fa2_525400b1e3a4row1_col9,#T_85bdcc14_3bd1_11eb_9fa2_525400b1e3a4row9_col1{\n",
       "            background-color:  #83afd3;\n",
       "            color:  #000000;\n",
       "        }#T_85bdcc14_3bd1_11eb_9fa2_525400b1e3a4row1_col11,#T_85bdcc14_3bd1_11eb_9fa2_525400b1e3a4row10_col12,#T_85bdcc14_3bd1_11eb_9fa2_525400b1e3a4row11_col1,#T_85bdcc14_3bd1_11eb_9fa2_525400b1e3a4row12_col10{\n",
       "            background-color:  #62a2cb;\n",
       "            color:  #000000;\n",
       "        }#T_85bdcc14_3bd1_11eb_9fa2_525400b1e3a4row1_col12,#T_85bdcc14_3bd1_11eb_9fa2_525400b1e3a4row2_col3,#T_85bdcc14_3bd1_11eb_9fa2_525400b1e3a4row2_col15,#T_85bdcc14_3bd1_11eb_9fa2_525400b1e3a4row3_col2,#T_85bdcc14_3bd1_11eb_9fa2_525400b1e3a4row12_col1,#T_85bdcc14_3bd1_11eb_9fa2_525400b1e3a4row15_col2{\n",
       "            background-color:  #89b1d4;\n",
       "            color:  #000000;\n",
       "        }#T_85bdcc14_3bd1_11eb_9fa2_525400b1e3a4row1_col13,#T_85bdcc14_3bd1_11eb_9fa2_525400b1e3a4row13_col1{\n",
       "            background-color:  #8fb4d6;\n",
       "            color:  #000000;\n",
       "        }#T_85bdcc14_3bd1_11eb_9fa2_525400b1e3a4row1_col14,#T_85bdcc14_3bd1_11eb_9fa2_525400b1e3a4row14_col1{\n",
       "            background-color:  #d4d4e8;\n",
       "            color:  #000000;\n",
       "        }#T_85bdcc14_3bd1_11eb_9fa2_525400b1e3a4row1_col15,#T_85bdcc14_3bd1_11eb_9fa2_525400b1e3a4row15_col1{\n",
       "            background-color:  #acc0dd;\n",
       "            color:  #000000;\n",
       "        }#T_85bdcc14_3bd1_11eb_9fa2_525400b1e3a4row1_col16,#T_85bdcc14_3bd1_11eb_9fa2_525400b1e3a4row16_col1{\n",
       "            background-color:  #549cc7;\n",
       "            color:  #000000;\n",
       "        }#T_85bdcc14_3bd1_11eb_9fa2_525400b1e3a4row2_col4,#T_85bdcc14_3bd1_11eb_9fa2_525400b1e3a4row4_col2{\n",
       "            background-color:  #94b6d7;\n",
       "            color:  #000000;\n",
       "        }#T_85bdcc14_3bd1_11eb_9fa2_525400b1e3a4row2_col5,#T_85bdcc14_3bd1_11eb_9fa2_525400b1e3a4row5_col2{\n",
       "            background-color:  #b7c5df;\n",
       "            color:  #000000;\n",
       "        }#T_85bdcc14_3bd1_11eb_9fa2_525400b1e3a4row2_col6,#T_85bdcc14_3bd1_11eb_9fa2_525400b1e3a4row6_col2{\n",
       "            background-color:  #a9bfdc;\n",
       "            color:  #000000;\n",
       "        }#T_85bdcc14_3bd1_11eb_9fa2_525400b1e3a4row2_col7,#T_85bdcc14_3bd1_11eb_9fa2_525400b1e3a4row7_col2{\n",
       "            background-color:  #91b5d6;\n",
       "            color:  #000000;\n",
       "        }#T_85bdcc14_3bd1_11eb_9fa2_525400b1e3a4row2_col9,#T_85bdcc14_3bd1_11eb_9fa2_525400b1e3a4row2_col13,#T_85bdcc14_3bd1_11eb_9fa2_525400b1e3a4row5_col9,#T_85bdcc14_3bd1_11eb_9fa2_525400b1e3a4row9_col2,#T_85bdcc14_3bd1_11eb_9fa2_525400b1e3a4row9_col5,#T_85bdcc14_3bd1_11eb_9fa2_525400b1e3a4row13_col2{\n",
       "            background-color:  #9ebad9;\n",
       "            color:  #000000;\n",
       "        }#T_85bdcc14_3bd1_11eb_9fa2_525400b1e3a4row2_col10,#T_85bdcc14_3bd1_11eb_9fa2_525400b1e3a4row3_col11,#T_85bdcc14_3bd1_11eb_9fa2_525400b1e3a4row10_col2,#T_85bdcc14_3bd1_11eb_9fa2_525400b1e3a4row11_col3,#T_85bdcc14_3bd1_11eb_9fa2_525400b1e3a4row15_col16,#T_85bdcc14_3bd1_11eb_9fa2_525400b1e3a4row16_col15{\n",
       "            background-color:  #b8c6e0;\n",
       "            color:  #000000;\n",
       "        }#T_85bdcc14_3bd1_11eb_9fa2_525400b1e3a4row2_col11,#T_85bdcc14_3bd1_11eb_9fa2_525400b1e3a4row11_col2{\n",
       "            background-color:  #b9c6e0;\n",
       "            color:  #000000;\n",
       "        }#T_85bdcc14_3bd1_11eb_9fa2_525400b1e3a4row2_col12,#T_85bdcc14_3bd1_11eb_9fa2_525400b1e3a4row12_col2{\n",
       "            background-color:  #a7bddb;\n",
       "            color:  #000000;\n",
       "        }#T_85bdcc14_3bd1_11eb_9fa2_525400b1e3a4row2_col14,#T_85bdcc14_3bd1_11eb_9fa2_525400b1e3a4row11_col14,#T_85bdcc14_3bd1_11eb_9fa2_525400b1e3a4row14_col2,#T_85bdcc14_3bd1_11eb_9fa2_525400b1e3a4row14_col11{\n",
       "            background-color:  #c6cce3;\n",
       "            color:  #000000;\n",
       "        }#T_85bdcc14_3bd1_11eb_9fa2_525400b1e3a4row2_col16,#T_85bdcc14_3bd1_11eb_9fa2_525400b1e3a4row16_col2{\n",
       "            background-color:  #c0c9e2;\n",
       "            color:  #000000;\n",
       "        }#T_85bdcc14_3bd1_11eb_9fa2_525400b1e3a4row3_col5,#T_85bdcc14_3bd1_11eb_9fa2_525400b1e3a4row5_col3{\n",
       "            background-color:  #eae6f1;\n",
       "            color:  #000000;\n",
       "        }#T_85bdcc14_3bd1_11eb_9fa2_525400b1e3a4row3_col6,#T_85bdcc14_3bd1_11eb_9fa2_525400b1e3a4row6_col3{\n",
       "            background-color:  #eee9f3;\n",
       "            color:  #000000;\n",
       "        }#T_85bdcc14_3bd1_11eb_9fa2_525400b1e3a4row3_col7,#T_85bdcc14_3bd1_11eb_9fa2_525400b1e3a4row7_col3{\n",
       "            background-color:  #cccfe5;\n",
       "            color:  #000000;\n",
       "        }#T_85bdcc14_3bd1_11eb_9fa2_525400b1e3a4row3_col8,#T_85bdcc14_3bd1_11eb_9fa2_525400b1e3a4row8_col3{\n",
       "            background-color:  #f5eef6;\n",
       "            color:  #000000;\n",
       "        }#T_85bdcc14_3bd1_11eb_9fa2_525400b1e3a4row3_col10,#T_85bdcc14_3bd1_11eb_9fa2_525400b1e3a4row10_col3{\n",
       "            background-color:  #e1dfed;\n",
       "            color:  #000000;\n",
       "        }#T_85bdcc14_3bd1_11eb_9fa2_525400b1e3a4row3_col12,#T_85bdcc14_3bd1_11eb_9fa2_525400b1e3a4row12_col3{\n",
       "            background-color:  #fff7fb;\n",
       "            color:  #000000;\n",
       "        }#T_85bdcc14_3bd1_11eb_9fa2_525400b1e3a4row3_col14,#T_85bdcc14_3bd1_11eb_9fa2_525400b1e3a4row14_col3{\n",
       "            background-color:  #fdf5fa;\n",
       "            color:  #000000;\n",
       "        }#T_85bdcc14_3bd1_11eb_9fa2_525400b1e3a4row3_col16,#T_85bdcc14_3bd1_11eb_9fa2_525400b1e3a4row16_col3{\n",
       "            background-color:  #f4eef6;\n",
       "            color:  #000000;\n",
       "        }#T_85bdcc14_3bd1_11eb_9fa2_525400b1e3a4row4_col5,#T_85bdcc14_3bd1_11eb_9fa2_525400b1e3a4row5_col4{\n",
       "            background-color:  #7eadd1;\n",
       "            color:  #000000;\n",
       "        }#T_85bdcc14_3bd1_11eb_9fa2_525400b1e3a4row4_col6,#T_85bdcc14_3bd1_11eb_9fa2_525400b1e3a4row6_col4,#T_85bdcc14_3bd1_11eb_9fa2_525400b1e3a4row6_col12,#T_85bdcc14_3bd1_11eb_9fa2_525400b1e3a4row9_col13,#T_85bdcc14_3bd1_11eb_9fa2_525400b1e3a4row12_col6,#T_85bdcc14_3bd1_11eb_9fa2_525400b1e3a4row13_col9{\n",
       "            background-color:  #5c9fc9;\n",
       "            color:  #000000;\n",
       "        }#T_85bdcc14_3bd1_11eb_9fa2_525400b1e3a4row4_col7,#T_85bdcc14_3bd1_11eb_9fa2_525400b1e3a4row7_col4{\n",
       "            background-color:  #3f93c2;\n",
       "            color:  #000000;\n",
       "        }#T_85bdcc14_3bd1_11eb_9fa2_525400b1e3a4row4_col9,#T_85bdcc14_3bd1_11eb_9fa2_525400b1e3a4row7_col13,#T_85bdcc14_3bd1_11eb_9fa2_525400b1e3a4row9_col4,#T_85bdcc14_3bd1_11eb_9fa2_525400b1e3a4row13_col7{\n",
       "            background-color:  #4a98c5;\n",
       "            color:  #000000;\n",
       "        }#T_85bdcc14_3bd1_11eb_9fa2_525400b1e3a4row4_col10,#T_85bdcc14_3bd1_11eb_9fa2_525400b1e3a4row4_col13,#T_85bdcc14_3bd1_11eb_9fa2_525400b1e3a4row10_col4,#T_85bdcc14_3bd1_11eb_9fa2_525400b1e3a4row13_col4{\n",
       "            background-color:  #63a2cb;\n",
       "            color:  #000000;\n",
       "        }#T_85bdcc14_3bd1_11eb_9fa2_525400b1e3a4row4_col11,#T_85bdcc14_3bd1_11eb_9fa2_525400b1e3a4row5_col8,#T_85bdcc14_3bd1_11eb_9fa2_525400b1e3a4row8_col5,#T_85bdcc14_3bd1_11eb_9fa2_525400b1e3a4row11_col4{\n",
       "            background-color:  #328dbf;\n",
       "            color:  #000000;\n",
       "        }#T_85bdcc14_3bd1_11eb_9fa2_525400b1e3a4row4_col12,#T_85bdcc14_3bd1_11eb_9fa2_525400b1e3a4row12_col4{\n",
       "            background-color:  #99b8d8;\n",
       "            color:  #000000;\n",
       "        }#T_85bdcc14_3bd1_11eb_9fa2_525400b1e3a4row4_col14,#T_85bdcc14_3bd1_11eb_9fa2_525400b1e3a4row14_col4{\n",
       "            background-color:  #a8bedc;\n",
       "            color:  #000000;\n",
       "        }#T_85bdcc14_3bd1_11eb_9fa2_525400b1e3a4row4_col15,#T_85bdcc14_3bd1_11eb_9fa2_525400b1e3a4row5_col13,#T_85bdcc14_3bd1_11eb_9fa2_525400b1e3a4row13_col5,#T_85bdcc14_3bd1_11eb_9fa2_525400b1e3a4row15_col4{\n",
       "            background-color:  #4897c4;\n",
       "            color:  #000000;\n",
       "        }#T_85bdcc14_3bd1_11eb_9fa2_525400b1e3a4row4_col16,#T_85bdcc14_3bd1_11eb_9fa2_525400b1e3a4row16_col4{\n",
       "            background-color:  #569dc8;\n",
       "            color:  #000000;\n",
       "        }#T_85bdcc14_3bd1_11eb_9fa2_525400b1e3a4row5_col6,#T_85bdcc14_3bd1_11eb_9fa2_525400b1e3a4row6_col5{\n",
       "            background-color:  #0567a1;\n",
       "            color:  #f1f1f1;\n",
       "        }#T_85bdcc14_3bd1_11eb_9fa2_525400b1e3a4row5_col7,#T_85bdcc14_3bd1_11eb_9fa2_525400b1e3a4row7_col5{\n",
       "            background-color:  #93b5d6;\n",
       "            color:  #000000;\n",
       "        }#T_85bdcc14_3bd1_11eb_9fa2_525400b1e3a4row5_col10,#T_85bdcc14_3bd1_11eb_9fa2_525400b1e3a4row10_col5{\n",
       "            background-color:  #2081b9;\n",
       "            color:  #000000;\n",
       "        }#T_85bdcc14_3bd1_11eb_9fa2_525400b1e3a4row5_col11,#T_85bdcc14_3bd1_11eb_9fa2_525400b1e3a4row11_col5{\n",
       "            background-color:  #86b0d3;\n",
       "            color:  #000000;\n",
       "        }#T_85bdcc14_3bd1_11eb_9fa2_525400b1e3a4row5_col14,#T_85bdcc14_3bd1_11eb_9fa2_525400b1e3a4row14_col5{\n",
       "            background-color:  #9ab8d8;\n",
       "            color:  #000000;\n",
       "        }#T_85bdcc14_3bd1_11eb_9fa2_525400b1e3a4row5_col15,#T_85bdcc14_3bd1_11eb_9fa2_525400b1e3a4row9_col14,#T_85bdcc14_3bd1_11eb_9fa2_525400b1e3a4row14_col9,#T_85bdcc14_3bd1_11eb_9fa2_525400b1e3a4row15_col5{\n",
       "            background-color:  #bdc8e1;\n",
       "            color:  #000000;\n",
       "        }#T_85bdcc14_3bd1_11eb_9fa2_525400b1e3a4row5_col16,#T_85bdcc14_3bd1_11eb_9fa2_525400b1e3a4row16_col5{\n",
       "            background-color:  #046096;\n",
       "            color:  #f1f1f1;\n",
       "        }#T_85bdcc14_3bd1_11eb_9fa2_525400b1e3a4row6_col7,#T_85bdcc14_3bd1_11eb_9fa2_525400b1e3a4row7_col6{\n",
       "            background-color:  #2f8bbe;\n",
       "            color:  #000000;\n",
       "        }#T_85bdcc14_3bd1_11eb_9fa2_525400b1e3a4row6_col8,#T_85bdcc14_3bd1_11eb_9fa2_525400b1e3a4row8_col6{\n",
       "            background-color:  #0c74b2;\n",
       "            color:  #f1f1f1;\n",
       "        }#T_85bdcc14_3bd1_11eb_9fa2_525400b1e3a4row6_col9,#T_85bdcc14_3bd1_11eb_9fa2_525400b1e3a4row9_col6,#T_85bdcc14_3bd1_11eb_9fa2_525400b1e3a4row11_col13,#T_85bdcc14_3bd1_11eb_9fa2_525400b1e3a4row13_col11{\n",
       "            background-color:  #5ea0ca;\n",
       "            color:  #000000;\n",
       "        }#T_85bdcc14_3bd1_11eb_9fa2_525400b1e3a4row6_col10,#T_85bdcc14_3bd1_11eb_9fa2_525400b1e3a4row10_col6{\n",
       "            background-color:  #04649d;\n",
       "            color:  #f1f1f1;\n",
       "        }#T_85bdcc14_3bd1_11eb_9fa2_525400b1e3a4row6_col11,#T_85bdcc14_3bd1_11eb_9fa2_525400b1e3a4row11_col6{\n",
       "            background-color:  #529bc7;\n",
       "            color:  #000000;\n",
       "        }#T_85bdcc14_3bd1_11eb_9fa2_525400b1e3a4row6_col13,#T_85bdcc14_3bd1_11eb_9fa2_525400b1e3a4row13_col6{\n",
       "            background-color:  #2c89bd;\n",
       "            color:  #000000;\n",
       "        }#T_85bdcc14_3bd1_11eb_9fa2_525400b1e3a4row6_col16,#T_85bdcc14_3bd1_11eb_9fa2_525400b1e3a4row16_col6{\n",
       "            background-color:  #045280;\n",
       "            color:  #f1f1f1;\n",
       "        }#T_85bdcc14_3bd1_11eb_9fa2_525400b1e3a4row7_col8,#T_85bdcc14_3bd1_11eb_9fa2_525400b1e3a4row8_col7{\n",
       "            background-color:  #1379b5;\n",
       "            color:  #f1f1f1;\n",
       "        }#T_85bdcc14_3bd1_11eb_9fa2_525400b1e3a4row7_col9,#T_85bdcc14_3bd1_11eb_9fa2_525400b1e3a4row9_col7{\n",
       "            background-color:  #04639b;\n",
       "            color:  #f1f1f1;\n",
       "        }#T_85bdcc14_3bd1_11eb_9fa2_525400b1e3a4row7_col10,#T_85bdcc14_3bd1_11eb_9fa2_525400b1e3a4row10_col7{\n",
       "            background-color:  #2383ba;\n",
       "            color:  #000000;\n",
       "        }#T_85bdcc14_3bd1_11eb_9fa2_525400b1e3a4row7_col11,#T_85bdcc14_3bd1_11eb_9fa2_525400b1e3a4row11_col7{\n",
       "            background-color:  #05659f;\n",
       "            color:  #f1f1f1;\n",
       "        }#T_85bdcc14_3bd1_11eb_9fa2_525400b1e3a4row7_col12,#T_85bdcc14_3bd1_11eb_9fa2_525400b1e3a4row10_col14,#T_85bdcc14_3bd1_11eb_9fa2_525400b1e3a4row11_col12,#T_85bdcc14_3bd1_11eb_9fa2_525400b1e3a4row12_col7,#T_85bdcc14_3bd1_11eb_9fa2_525400b1e3a4row12_col11,#T_85bdcc14_3bd1_11eb_9fa2_525400b1e3a4row14_col10{\n",
       "            background-color:  #b1c2de;\n",
       "            color:  #000000;\n",
       "        }#T_85bdcc14_3bd1_11eb_9fa2_525400b1e3a4row7_col15,#T_85bdcc14_3bd1_11eb_9fa2_525400b1e3a4row15_col7{\n",
       "            background-color:  #b0c2de;\n",
       "            color:  #000000;\n",
       "        }#T_85bdcc14_3bd1_11eb_9fa2_525400b1e3a4row7_col16,#T_85bdcc14_3bd1_11eb_9fa2_525400b1e3a4row16_col7{\n",
       "            background-color:  #1b7eb7;\n",
       "            color:  #000000;\n",
       "        }#T_85bdcc14_3bd1_11eb_9fa2_525400b1e3a4row8_col9,#T_85bdcc14_3bd1_11eb_9fa2_525400b1e3a4row8_col10,#T_85bdcc14_3bd1_11eb_9fa2_525400b1e3a4row9_col8,#T_85bdcc14_3bd1_11eb_9fa2_525400b1e3a4row10_col8{\n",
       "            background-color:  #0f76b3;\n",
       "            color:  #f1f1f1;\n",
       "        }#T_85bdcc14_3bd1_11eb_9fa2_525400b1e3a4row8_col11,#T_85bdcc14_3bd1_11eb_9fa2_525400b1e3a4row11_col8{\n",
       "            background-color:  #056ba7;\n",
       "            color:  #f1f1f1;\n",
       "        }#T_85bdcc14_3bd1_11eb_9fa2_525400b1e3a4row8_col12,#T_85bdcc14_3bd1_11eb_9fa2_525400b1e3a4row12_col8,#T_85bdcc14_3bd1_11eb_9fa2_525400b1e3a4row12_col16,#T_85bdcc14_3bd1_11eb_9fa2_525400b1e3a4row16_col12{\n",
       "            background-color:  #3b92c1;\n",
       "            color:  #000000;\n",
       "        }#T_85bdcc14_3bd1_11eb_9fa2_525400b1e3a4row8_col13,#T_85bdcc14_3bd1_11eb_9fa2_525400b1e3a4row13_col8{\n",
       "            background-color:  #0d75b3;\n",
       "            color:  #f1f1f1;\n",
       "        }#T_85bdcc14_3bd1_11eb_9fa2_525400b1e3a4row8_col14,#T_85bdcc14_3bd1_11eb_9fa2_525400b1e3a4row14_col8{\n",
       "            background-color:  #5a9ec9;\n",
       "            color:  #000000;\n",
       "        }#T_85bdcc14_3bd1_11eb_9fa2_525400b1e3a4row8_col15,#T_85bdcc14_3bd1_11eb_9fa2_525400b1e3a4row15_col8{\n",
       "            background-color:  #6ba5cd;\n",
       "            color:  #000000;\n",
       "        }#T_85bdcc14_3bd1_11eb_9fa2_525400b1e3a4row8_col16,#T_85bdcc14_3bd1_11eb_9fa2_525400b1e3a4row10_col16,#T_85bdcc14_3bd1_11eb_9fa2_525400b1e3a4row16_col8,#T_85bdcc14_3bd1_11eb_9fa2_525400b1e3a4row16_col10{\n",
       "            background-color:  #046198;\n",
       "            color:  #f1f1f1;\n",
       "        }#T_85bdcc14_3bd1_11eb_9fa2_525400b1e3a4row9_col10,#T_85bdcc14_3bd1_11eb_9fa2_525400b1e3a4row10_col9,#T_85bdcc14_3bd1_11eb_9fa2_525400b1e3a4row10_col13,#T_85bdcc14_3bd1_11eb_9fa2_525400b1e3a4row13_col10,#T_85bdcc14_3bd1_11eb_9fa2_525400b1e3a4row13_col15,#T_85bdcc14_3bd1_11eb_9fa2_525400b1e3a4row15_col13{\n",
       "            background-color:  #4094c3;\n",
       "            color:  #000000;\n",
       "        }#T_85bdcc14_3bd1_11eb_9fa2_525400b1e3a4row9_col11,#T_85bdcc14_3bd1_11eb_9fa2_525400b1e3a4row11_col9{\n",
       "            background-color:  #0567a2;\n",
       "            color:  #f1f1f1;\n",
       "        }#T_85bdcc14_3bd1_11eb_9fa2_525400b1e3a4row9_col15,#T_85bdcc14_3bd1_11eb_9fa2_525400b1e3a4row15_col9{\n",
       "            background-color:  #a4bcda;\n",
       "            color:  #000000;\n",
       "        }#T_85bdcc14_3bd1_11eb_9fa2_525400b1e3a4row9_col16,#T_85bdcc14_3bd1_11eb_9fa2_525400b1e3a4row16_col9{\n",
       "            background-color:  #3790c0;\n",
       "            color:  #000000;\n",
       "        }#T_85bdcc14_3bd1_11eb_9fa2_525400b1e3a4row10_col11,#T_85bdcc14_3bd1_11eb_9fa2_525400b1e3a4row11_col10{\n",
       "            background-color:  #1e80b8;\n",
       "            color:  #000000;\n",
       "        }#T_85bdcc14_3bd1_11eb_9fa2_525400b1e3a4row10_col15,#T_85bdcc14_3bd1_11eb_9fa2_525400b1e3a4row15_col10{\n",
       "            background-color:  #c5cce3;\n",
       "            color:  #000000;\n",
       "        }#T_85bdcc14_3bd1_11eb_9fa2_525400b1e3a4row11_col15,#T_85bdcc14_3bd1_11eb_9fa2_525400b1e3a4row15_col11{\n",
       "            background-color:  #96b6d7;\n",
       "            color:  #000000;\n",
       "        }#T_85bdcc14_3bd1_11eb_9fa2_525400b1e3a4row12_col13,#T_85bdcc14_3bd1_11eb_9fa2_525400b1e3a4row13_col12{\n",
       "            background-color:  #3991c1;\n",
       "            color:  #000000;\n",
       "        }#T_85bdcc14_3bd1_11eb_9fa2_525400b1e3a4row12_col14,#T_85bdcc14_3bd1_11eb_9fa2_525400b1e3a4row14_col12{\n",
       "            background-color:  #1077b4;\n",
       "            color:  #f1f1f1;\n",
       "        }#T_85bdcc14_3bd1_11eb_9fa2_525400b1e3a4row12_col15,#T_85bdcc14_3bd1_11eb_9fa2_525400b1e3a4row15_col12{\n",
       "            background-color:  #348ebf;\n",
       "            color:  #000000;\n",
       "        }#T_85bdcc14_3bd1_11eb_9fa2_525400b1e3a4row13_col14,#T_85bdcc14_3bd1_11eb_9fa2_525400b1e3a4row14_col13{\n",
       "            background-color:  #2d8abd;\n",
       "            color:  #000000;\n",
       "        }#T_85bdcc14_3bd1_11eb_9fa2_525400b1e3a4row13_col16,#T_85bdcc14_3bd1_11eb_9fa2_525400b1e3a4row16_col13{\n",
       "            background-color:  #0570b0;\n",
       "            color:  #f1f1f1;\n",
       "        }#T_85bdcc14_3bd1_11eb_9fa2_525400b1e3a4row14_col15,#T_85bdcc14_3bd1_11eb_9fa2_525400b1e3a4row15_col14{\n",
       "            background-color:  #2484ba;\n",
       "            color:  #000000;\n",
       "        }#T_85bdcc14_3bd1_11eb_9fa2_525400b1e3a4row14_col16,#T_85bdcc14_3bd1_11eb_9fa2_525400b1e3a4row16_col14{\n",
       "            background-color:  #8eb3d5;\n",
       "            color:  #000000;\n",
       "        }</style><table id=\"T_85bdcc14_3bd1_11eb_9fa2_525400b1e3a4\" ><thead>    <tr>        <th class=\"blank level0\" ></th>        <th class=\"col_heading level0 col0\" >Rt</th>        <th class=\"col_heading level0 col1\" >theta</th>        <th class=\"col_heading level0 col2\" >kappa</th>        <th class=\"col_heading level0 col3\" >rho</th>        <th class=\"col_heading level0 col4\" >sigma</th>        <th class=\"col_heading level0 col5\" >School_closing</th>        <th class=\"col_heading level0 col6\" >Workplace_closing</th>        <th class=\"col_heading level0 col7\" >Cancel_events</th>        <th class=\"col_heading level0 col8\" >Gatherings_restrictions</th>        <th class=\"col_heading level0 col9\" >Transport_closing</th>        <th class=\"col_heading level0 col10\" >Stay_home_restrictions</th>        <th class=\"col_heading level0 col11\" >Internal_movement_restrictions</th>        <th class=\"col_heading level0 col12\" >International_movement_restrictions</th>        <th class=\"col_heading level0 col13\" >Information_campaigns</th>        <th class=\"col_heading level0 col14\" >Testing_policy</th>        <th class=\"col_heading level0 col15\" >Contact_tracing</th>        <th class=\"col_heading level0 col16\" >Stringency_index</th>    </tr></thead><tbody>\n",
       "                <tr>\n",
       "                        <th id=\"T_85bdcc14_3bd1_11eb_9fa2_525400b1e3a4level0_row0\" class=\"row_heading level0 row0\" >Rt</th>\n",
       "                        <td id=\"T_85bdcc14_3bd1_11eb_9fa2_525400b1e3a4row0_col0\" class=\"data row0 col0\" >1.000000</td>\n",
       "                        <td id=\"T_85bdcc14_3bd1_11eb_9fa2_525400b1e3a4row0_col1\" class=\"data row0 col1\" >-0.138758</td>\n",
       "                        <td id=\"T_85bdcc14_3bd1_11eb_9fa2_525400b1e3a4row0_col2\" class=\"data row0 col2\" >-0.020745</td>\n",
       "                        <td id=\"T_85bdcc14_3bd1_11eb_9fa2_525400b1e3a4row0_col3\" class=\"data row0 col3\" >0.471921</td>\n",
       "                        <td id=\"T_85bdcc14_3bd1_11eb_9fa2_525400b1e3a4row0_col4\" class=\"data row0 col4\" >-0.390274</td>\n",
       "                        <td id=\"T_85bdcc14_3bd1_11eb_9fa2_525400b1e3a4row0_col5\" class=\"data row0 col5\" >-0.082702</td>\n",
       "                        <td id=\"T_85bdcc14_3bd1_11eb_9fa2_525400b1e3a4row0_col6\" class=\"data row0 col6\" >-0.141359</td>\n",
       "                        <td id=\"T_85bdcc14_3bd1_11eb_9fa2_525400b1e3a4row0_col7\" class=\"data row0 col7\" >-0.147656</td>\n",
       "                        <td id=\"T_85bdcc14_3bd1_11eb_9fa2_525400b1e3a4row0_col8\" class=\"data row0 col8\" >-0.303790</td>\n",
       "                        <td id=\"T_85bdcc14_3bd1_11eb_9fa2_525400b1e3a4row0_col9\" class=\"data row0 col9\" >-0.150248</td>\n",
       "                        <td id=\"T_85bdcc14_3bd1_11eb_9fa2_525400b1e3a4row0_col10\" class=\"data row0 col10\" >-0.118113</td>\n",
       "                        <td id=\"T_85bdcc14_3bd1_11eb_9fa2_525400b1e3a4row0_col11\" class=\"data row0 col11\" >-0.191382</td>\n",
       "                        <td id=\"T_85bdcc14_3bd1_11eb_9fa2_525400b1e3a4row0_col12\" class=\"data row0 col12\" >-0.167311</td>\n",
       "                        <td id=\"T_85bdcc14_3bd1_11eb_9fa2_525400b1e3a4row0_col13\" class=\"data row0 col13\" >-0.173740</td>\n",
       "                        <td id=\"T_85bdcc14_3bd1_11eb_9fa2_525400b1e3a4row0_col14\" class=\"data row0 col14\" >-0.207949</td>\n",
       "                        <td id=\"T_85bdcc14_3bd1_11eb_9fa2_525400b1e3a4row0_col15\" class=\"data row0 col15\" >-0.171463</td>\n",
       "                        <td id=\"T_85bdcc14_3bd1_11eb_9fa2_525400b1e3a4row0_col16\" class=\"data row0 col16\" >-0.183465</td>\n",
       "            </tr>\n",
       "            <tr>\n",
       "                        <th id=\"T_85bdcc14_3bd1_11eb_9fa2_525400b1e3a4level0_row1\" class=\"row_heading level0 row1\" >theta</th>\n",
       "                        <td id=\"T_85bdcc14_3bd1_11eb_9fa2_525400b1e3a4row1_col0\" class=\"data row1 col0\" >-0.138758</td>\n",
       "                        <td id=\"T_85bdcc14_3bd1_11eb_9fa2_525400b1e3a4row1_col1\" class=\"data row1 col1\" >1.000000</td>\n",
       "                        <td id=\"T_85bdcc14_3bd1_11eb_9fa2_525400b1e3a4row1_col2\" class=\"data row1 col2\" >0.023200</td>\n",
       "                        <td id=\"T_85bdcc14_3bd1_11eb_9fa2_525400b1e3a4row1_col3\" class=\"data row1 col3\" >-0.224740</td>\n",
       "                        <td id=\"T_85bdcc14_3bd1_11eb_9fa2_525400b1e3a4row1_col4\" class=\"data row1 col4\" >0.039237</td>\n",
       "                        <td id=\"T_85bdcc14_3bd1_11eb_9fa2_525400b1e3a4row1_col5\" class=\"data row1 col5\" >0.247851</td>\n",
       "                        <td id=\"T_85bdcc14_3bd1_11eb_9fa2_525400b1e3a4row1_col6\" class=\"data row1 col6\" >0.222912</td>\n",
       "                        <td id=\"T_85bdcc14_3bd1_11eb_9fa2_525400b1e3a4row1_col7\" class=\"data row1 col7\" >0.228664</td>\n",
       "                        <td id=\"T_85bdcc14_3bd1_11eb_9fa2_525400b1e3a4row1_col8\" class=\"data row1 col8\" >0.189690</td>\n",
       "                        <td id=\"T_85bdcc14_3bd1_11eb_9fa2_525400b1e3a4row1_col9\" class=\"data row1 col9\" >0.154160</td>\n",
       "                        <td id=\"T_85bdcc14_3bd1_11eb_9fa2_525400b1e3a4row1_col10\" class=\"data row1 col10\" >0.225294</td>\n",
       "                        <td id=\"T_85bdcc14_3bd1_11eb_9fa2_525400b1e3a4row1_col11\" class=\"data row1 col11\" >0.276335</td>\n",
       "                        <td id=\"T_85bdcc14_3bd1_11eb_9fa2_525400b1e3a4row1_col12\" class=\"data row1 col12\" >0.135140</td>\n",
       "                        <td id=\"T_85bdcc14_3bd1_11eb_9fa2_525400b1e3a4row1_col13\" class=\"data row1 col13\" >0.107200</td>\n",
       "                        <td id=\"T_85bdcc14_3bd1_11eb_9fa2_525400b1e3a4row1_col14\" class=\"data row1 col14\" >-0.203562</td>\n",
       "                        <td id=\"T_85bdcc14_3bd1_11eb_9fa2_525400b1e3a4row1_col15\" class=\"data row1 col15\" >-0.006117</td>\n",
       "                        <td id=\"T_85bdcc14_3bd1_11eb_9fa2_525400b1e3a4row1_col16\" class=\"data row1 col16\" >0.318293</td>\n",
       "            </tr>\n",
       "            <tr>\n",
       "                        <th id=\"T_85bdcc14_3bd1_11eb_9fa2_525400b1e3a4level0_row2\" class=\"row_heading level0 row2\" >kappa</th>\n",
       "                        <td id=\"T_85bdcc14_3bd1_11eb_9fa2_525400b1e3a4row2_col0\" class=\"data row2 col0\" >-0.020745</td>\n",
       "                        <td id=\"T_85bdcc14_3bd1_11eb_9fa2_525400b1e3a4row2_col1\" class=\"data row2 col1\" >0.023200</td>\n",
       "                        <td id=\"T_85bdcc14_3bd1_11eb_9fa2_525400b1e3a4row2_col2\" class=\"data row2 col2\" >1.000000</td>\n",
       "                        <td id=\"T_85bdcc14_3bd1_11eb_9fa2_525400b1e3a4row2_col3\" class=\"data row2 col3\" >0.132941</td>\n",
       "                        <td id=\"T_85bdcc14_3bd1_11eb_9fa2_525400b1e3a4row2_col4\" class=\"data row2 col4\" >0.090323</td>\n",
       "                        <td id=\"T_85bdcc14_3bd1_11eb_9fa2_525400b1e3a4row2_col5\" class=\"data row2 col5\" >-0.054836</td>\n",
       "                        <td id=\"T_85bdcc14_3bd1_11eb_9fa2_525400b1e3a4row2_col6\" class=\"data row2 col6\" >0.000861</td>\n",
       "                        <td id=\"T_85bdcc14_3bd1_11eb_9fa2_525400b1e3a4row2_col7\" class=\"data row2 col7\" >0.100586</td>\n",
       "                        <td id=\"T_85bdcc14_3bd1_11eb_9fa2_525400b1e3a4row2_col8\" class=\"data row2 col8\" >-0.184596</td>\n",
       "                        <td id=\"T_85bdcc14_3bd1_11eb_9fa2_525400b1e3a4row2_col9\" class=\"data row2 col9\" >0.054709</td>\n",
       "                        <td id=\"T_85bdcc14_3bd1_11eb_9fa2_525400b1e3a4row2_col10\" class=\"data row2 col10\" >-0.061998</td>\n",
       "                        <td id=\"T_85bdcc14_3bd1_11eb_9fa2_525400b1e3a4row2_col11\" class=\"data row2 col11\" >-0.068328</td>\n",
       "                        <td id=\"T_85bdcc14_3bd1_11eb_9fa2_525400b1e3a4row2_col12\" class=\"data row2 col12\" >0.013235</td>\n",
       "                        <td id=\"T_85bdcc14_3bd1_11eb_9fa2_525400b1e3a4row2_col13\" class=\"data row2 col13\" >0.051806</td>\n",
       "                        <td id=\"T_85bdcc14_3bd1_11eb_9fa2_525400b1e3a4row2_col14\" class=\"data row2 col14\" >-0.128415</td>\n",
       "                        <td id=\"T_85bdcc14_3bd1_11eb_9fa2_525400b1e3a4row2_col15\" class=\"data row2 col15\" >0.132292</td>\n",
       "                        <td id=\"T_85bdcc14_3bd1_11eb_9fa2_525400b1e3a4row2_col16\" class=\"data row2 col16\" >-0.103227</td>\n",
       "            </tr>\n",
       "            <tr>\n",
       "                        <th id=\"T_85bdcc14_3bd1_11eb_9fa2_525400b1e3a4level0_row3\" class=\"row_heading level0 row3\" >rho</th>\n",
       "                        <td id=\"T_85bdcc14_3bd1_11eb_9fa2_525400b1e3a4row3_col0\" class=\"data row3 col0\" >0.471921</td>\n",
       "                        <td id=\"T_85bdcc14_3bd1_11eb_9fa2_525400b1e3a4row3_col1\" class=\"data row3 col1\" >-0.224740</td>\n",
       "                        <td id=\"T_85bdcc14_3bd1_11eb_9fa2_525400b1e3a4row3_col2\" class=\"data row3 col2\" >0.132941</td>\n",
       "                        <td id=\"T_85bdcc14_3bd1_11eb_9fa2_525400b1e3a4row3_col3\" class=\"data row3 col3\" >1.000000</td>\n",
       "                        <td id=\"T_85bdcc14_3bd1_11eb_9fa2_525400b1e3a4row3_col4\" class=\"data row3 col4\" >-0.224305</td>\n",
       "                        <td id=\"T_85bdcc14_3bd1_11eb_9fa2_525400b1e3a4row3_col5\" class=\"data row3 col5\" >-0.360412</td>\n",
       "                        <td id=\"T_85bdcc14_3bd1_11eb_9fa2_525400b1e3a4row3_col6\" class=\"data row3 col6\" >-0.395701</td>\n",
       "                        <td id=\"T_85bdcc14_3bd1_11eb_9fa2_525400b1e3a4row3_col7\" class=\"data row3 col7\" >-0.153876</td>\n",
       "                        <td id=\"T_85bdcc14_3bd1_11eb_9fa2_525400b1e3a4row3_col8\" class=\"data row3 col8\" >-0.465076</td>\n",
       "                        <td id=\"T_85bdcc14_3bd1_11eb_9fa2_525400b1e3a4row3_col9\" class=\"data row3 col9\" >-0.172821</td>\n",
       "                        <td id=\"T_85bdcc14_3bd1_11eb_9fa2_525400b1e3a4row3_col10\" class=\"data row3 col10\" >-0.293735</td>\n",
       "                        <td id=\"T_85bdcc14_3bd1_11eb_9fa2_525400b1e3a4row3_col11\" class=\"data row3 col11\" >-0.063895</td>\n",
       "                        <td id=\"T_85bdcc14_3bd1_11eb_9fa2_525400b1e3a4row3_col12\" class=\"data row3 col12\" >-0.569449</td>\n",
       "                        <td id=\"T_85bdcc14_3bd1_11eb_9fa2_525400b1e3a4row3_col13\" class=\"data row3 col13\" >-0.302539</td>\n",
       "                        <td id=\"T_85bdcc14_3bd1_11eb_9fa2_525400b1e3a4row3_col14\" class=\"data row3 col14\" >-0.545221</td>\n",
       "                        <td id=\"T_85bdcc14_3bd1_11eb_9fa2_525400b1e3a4row3_col15\" class=\"data row3 col15\" >-0.135614</td>\n",
       "                        <td id=\"T_85bdcc14_3bd1_11eb_9fa2_525400b1e3a4row3_col16\" class=\"data row3 col16\" >-0.458687</td>\n",
       "            </tr>\n",
       "            <tr>\n",
       "                        <th id=\"T_85bdcc14_3bd1_11eb_9fa2_525400b1e3a4level0_row4\" class=\"row_heading level0 row4\" >sigma</th>\n",
       "                        <td id=\"T_85bdcc14_3bd1_11eb_9fa2_525400b1e3a4row4_col0\" class=\"data row4 col0\" >-0.390274</td>\n",
       "                        <td id=\"T_85bdcc14_3bd1_11eb_9fa2_525400b1e3a4row4_col1\" class=\"data row4 col1\" >0.039237</td>\n",
       "                        <td id=\"T_85bdcc14_3bd1_11eb_9fa2_525400b1e3a4row4_col2\" class=\"data row4 col2\" >0.090323</td>\n",
       "                        <td id=\"T_85bdcc14_3bd1_11eb_9fa2_525400b1e3a4row4_col3\" class=\"data row4 col3\" >-0.224305</td>\n",
       "                        <td id=\"T_85bdcc14_3bd1_11eb_9fa2_525400b1e3a4row4_col4\" class=\"data row4 col4\" >1.000000</td>\n",
       "                        <td id=\"T_85bdcc14_3bd1_11eb_9fa2_525400b1e3a4row4_col5\" class=\"data row4 col5\" >0.172476</td>\n",
       "                        <td id=\"T_85bdcc14_3bd1_11eb_9fa2_525400b1e3a4row4_col6\" class=\"data row4 col6\" >0.289718</td>\n",
       "                        <td id=\"T_85bdcc14_3bd1_11eb_9fa2_525400b1e3a4row4_col7\" class=\"data row4 col7\" >0.385345</td>\n",
       "                        <td id=\"T_85bdcc14_3bd1_11eb_9fa2_525400b1e3a4row4_col8\" class=\"data row4 col8\" >0.468021</td>\n",
       "                        <td id=\"T_85bdcc14_3bd1_11eb_9fa2_525400b1e3a4row4_col9\" class=\"data row4 col9\" >0.348152</td>\n",
       "                        <td id=\"T_85bdcc14_3bd1_11eb_9fa2_525400b1e3a4row4_col10\" class=\"data row4 col10\" >0.265530</td>\n",
       "                        <td id=\"T_85bdcc14_3bd1_11eb_9fa2_525400b1e3a4row4_col11\" class=\"data row4 col11\" >0.427471</td>\n",
       "                        <td id=\"T_85bdcc14_3bd1_11eb_9fa2_525400b1e3a4row4_col12\" class=\"data row4 col12\" >0.072156</td>\n",
       "                        <td id=\"T_85bdcc14_3bd1_11eb_9fa2_525400b1e3a4row4_col13\" class=\"data row4 col13\" >0.266901</td>\n",
       "                        <td id=\"T_85bdcc14_3bd1_11eb_9fa2_525400b1e3a4row4_col14\" class=\"data row4 col14\" >0.009980</td>\n",
       "                        <td id=\"T_85bdcc14_3bd1_11eb_9fa2_525400b1e3a4row4_col15\" class=\"data row4 col15\" >0.354901</td>\n",
       "                        <td id=\"T_85bdcc14_3bd1_11eb_9fa2_525400b1e3a4row4_col16\" class=\"data row4 col16\" >0.307644</td>\n",
       "            </tr>\n",
       "            <tr>\n",
       "                        <th id=\"T_85bdcc14_3bd1_11eb_9fa2_525400b1e3a4level0_row5\" class=\"row_heading level0 row5\" >School_closing</th>\n",
       "                        <td id=\"T_85bdcc14_3bd1_11eb_9fa2_525400b1e3a4row5_col0\" class=\"data row5 col0\" >-0.082702</td>\n",
       "                        <td id=\"T_85bdcc14_3bd1_11eb_9fa2_525400b1e3a4row5_col1\" class=\"data row5 col1\" >0.247851</td>\n",
       "                        <td id=\"T_85bdcc14_3bd1_11eb_9fa2_525400b1e3a4row5_col2\" class=\"data row5 col2\" >-0.054836</td>\n",
       "                        <td id=\"T_85bdcc14_3bd1_11eb_9fa2_525400b1e3a4row5_col3\" class=\"data row5 col3\" >-0.360412</td>\n",
       "                        <td id=\"T_85bdcc14_3bd1_11eb_9fa2_525400b1e3a4row5_col4\" class=\"data row5 col4\" >0.172476</td>\n",
       "                        <td id=\"T_85bdcc14_3bd1_11eb_9fa2_525400b1e3a4row5_col5\" class=\"data row5 col5\" >1.000000</td>\n",
       "                        <td id=\"T_85bdcc14_3bd1_11eb_9fa2_525400b1e3a4row5_col6\" class=\"data row5 col6\" >0.690782</td>\n",
       "                        <td id=\"T_85bdcc14_3bd1_11eb_9fa2_525400b1e3a4row5_col7\" class=\"data row5 col7\" >0.097446</td>\n",
       "                        <td id=\"T_85bdcc14_3bd1_11eb_9fa2_525400b1e3a4row5_col8\" class=\"data row5 col8\" >0.426355</td>\n",
       "                        <td id=\"T_85bdcc14_3bd1_11eb_9fa2_525400b1e3a4row5_col9\" class=\"data row5 col9\" >0.052811</td>\n",
       "                        <td id=\"T_85bdcc14_3bd1_11eb_9fa2_525400b1e3a4row5_col10\" class=\"data row5 col10\" >0.499033</td>\n",
       "                        <td id=\"T_85bdcc14_3bd1_11eb_9fa2_525400b1e3a4row5_col11\" class=\"data row5 col11\" >0.144076</td>\n",
       "                        <td id=\"T_85bdcc14_3bd1_11eb_9fa2_525400b1e3a4row5_col12\" class=\"data row5 col12\" >0.223941</td>\n",
       "                        <td id=\"T_85bdcc14_3bd1_11eb_9fa2_525400b1e3a4row5_col13\" class=\"data row5 col13\" >0.352809</td>\n",
       "                        <td id=\"T_85bdcc14_3bd1_11eb_9fa2_525400b1e3a4row5_col14\" class=\"data row5 col14\" >0.065418</td>\n",
       "                        <td id=\"T_85bdcc14_3bd1_11eb_9fa2_525400b1e3a4row5_col15\" class=\"data row5 col15\" >-0.088242</td>\n",
       "                        <td id=\"T_85bdcc14_3bd1_11eb_9fa2_525400b1e3a4row5_col16\" class=\"data row5 col16\" >0.749757</td>\n",
       "            </tr>\n",
       "            <tr>\n",
       "                        <th id=\"T_85bdcc14_3bd1_11eb_9fa2_525400b1e3a4level0_row6\" class=\"row_heading level0 row6\" >Workplace_closing</th>\n",
       "                        <td id=\"T_85bdcc14_3bd1_11eb_9fa2_525400b1e3a4row6_col0\" class=\"data row6 col0\" >-0.141359</td>\n",
       "                        <td id=\"T_85bdcc14_3bd1_11eb_9fa2_525400b1e3a4row6_col1\" class=\"data row6 col1\" >0.222912</td>\n",
       "                        <td id=\"T_85bdcc14_3bd1_11eb_9fa2_525400b1e3a4row6_col2\" class=\"data row6 col2\" >0.000861</td>\n",
       "                        <td id=\"T_85bdcc14_3bd1_11eb_9fa2_525400b1e3a4row6_col3\" class=\"data row6 col3\" >-0.395701</td>\n",
       "                        <td id=\"T_85bdcc14_3bd1_11eb_9fa2_525400b1e3a4row6_col4\" class=\"data row6 col4\" >0.289718</td>\n",
       "                        <td id=\"T_85bdcc14_3bd1_11eb_9fa2_525400b1e3a4row6_col5\" class=\"data row6 col5\" >0.690782</td>\n",
       "                        <td id=\"T_85bdcc14_3bd1_11eb_9fa2_525400b1e3a4row6_col6\" class=\"data row6 col6\" >1.000000</td>\n",
       "                        <td id=\"T_85bdcc14_3bd1_11eb_9fa2_525400b1e3a4row6_col7\" class=\"data row6 col7\" >0.440149</td>\n",
       "                        <td id=\"T_85bdcc14_3bd1_11eb_9fa2_525400b1e3a4row6_col8\" class=\"data row6 col8\" >0.581105</td>\n",
       "                        <td id=\"T_85bdcc14_3bd1_11eb_9fa2_525400b1e3a4row6_col9\" class=\"data row6 col9\" >0.285472</td>\n",
       "                        <td id=\"T_85bdcc14_3bd1_11eb_9fa2_525400b1e3a4row6_col10\" class=\"data row6 col10\" >0.714661</td>\n",
       "                        <td id=\"T_85bdcc14_3bd1_11eb_9fa2_525400b1e3a4row6_col11\" class=\"data row6 col11\" >0.320110</td>\n",
       "                        <td id=\"T_85bdcc14_3bd1_11eb_9fa2_525400b1e3a4row6_col12\" class=\"data row6 col12\" >0.294946</td>\n",
       "                        <td id=\"T_85bdcc14_3bd1_11eb_9fa2_525400b1e3a4row6_col13\" class=\"data row6 col13\" >0.453849</td>\n",
       "                        <td id=\"T_85bdcc14_3bd1_11eb_9fa2_525400b1e3a4row6_col14\" class=\"data row6 col14\" >-0.021928</td>\n",
       "                        <td id=\"T_85bdcc14_3bd1_11eb_9fa2_525400b1e3a4row6_col15\" class=\"data row6 col15\" >-0.150541</td>\n",
       "                        <td id=\"T_85bdcc14_3bd1_11eb_9fa2_525400b1e3a4row6_col16\" class=\"data row6 col16\" >0.847257</td>\n",
       "            </tr>\n",
       "            <tr>\n",
       "                        <th id=\"T_85bdcc14_3bd1_11eb_9fa2_525400b1e3a4level0_row7\" class=\"row_heading level0 row7\" >Cancel_events</th>\n",
       "                        <td id=\"T_85bdcc14_3bd1_11eb_9fa2_525400b1e3a4row7_col0\" class=\"data row7 col0\" >-0.147656</td>\n",
       "                        <td id=\"T_85bdcc14_3bd1_11eb_9fa2_525400b1e3a4row7_col1\" class=\"data row7 col1\" >0.228664</td>\n",
       "                        <td id=\"T_85bdcc14_3bd1_11eb_9fa2_525400b1e3a4row7_col2\" class=\"data row7 col2\" >0.100586</td>\n",
       "                        <td id=\"T_85bdcc14_3bd1_11eb_9fa2_525400b1e3a4row7_col3\" class=\"data row7 col3\" >-0.153876</td>\n",
       "                        <td id=\"T_85bdcc14_3bd1_11eb_9fa2_525400b1e3a4row7_col4\" class=\"data row7 col4\" >0.385345</td>\n",
       "                        <td id=\"T_85bdcc14_3bd1_11eb_9fa2_525400b1e3a4row7_col5\" class=\"data row7 col5\" >0.097446</td>\n",
       "                        <td id=\"T_85bdcc14_3bd1_11eb_9fa2_525400b1e3a4row7_col6\" class=\"data row7 col6\" >0.440149</td>\n",
       "                        <td id=\"T_85bdcc14_3bd1_11eb_9fa2_525400b1e3a4row7_col7\" class=\"data row7 col7\" >1.000000</td>\n",
       "                        <td id=\"T_85bdcc14_3bd1_11eb_9fa2_525400b1e3a4row7_col8\" class=\"data row7 col8\" >0.547060</td>\n",
       "                        <td id=\"T_85bdcc14_3bd1_11eb_9fa2_525400b1e3a4row7_col9\" class=\"data row7 col9\" >0.723719</td>\n",
       "                        <td id=\"T_85bdcc14_3bd1_11eb_9fa2_525400b1e3a4row7_col10\" class=\"data row7 col10\" >0.489561</td>\n",
       "                        <td id=\"T_85bdcc14_3bd1_11eb_9fa2_525400b1e3a4row7_col11\" class=\"data row7 col11\" >0.704182</td>\n",
       "                        <td id=\"T_85bdcc14_3bd1_11eb_9fa2_525400b1e3a4row7_col12\" class=\"data row7 col12\" >-0.034696</td>\n",
       "                        <td id=\"T_85bdcc14_3bd1_11eb_9fa2_525400b1e3a4row7_col13\" class=\"data row7 col13\" >0.346617</td>\n",
       "                        <td id=\"T_85bdcc14_3bd1_11eb_9fa2_525400b1e3a4row7_col14\" class=\"data row7 col14\" >-0.210887</td>\n",
       "                        <td id=\"T_85bdcc14_3bd1_11eb_9fa2_525400b1e3a4row7_col15\" class=\"data row7 col15\" >-0.029173</td>\n",
       "                        <td id=\"T_85bdcc14_3bd1_11eb_9fa2_525400b1e3a4row7_col16\" class=\"data row7 col16\" >0.520879</td>\n",
       "            </tr>\n",
       "            <tr>\n",
       "                        <th id=\"T_85bdcc14_3bd1_11eb_9fa2_525400b1e3a4level0_row8\" class=\"row_heading level0 row8\" >Gatherings_restrictions</th>\n",
       "                        <td id=\"T_85bdcc14_3bd1_11eb_9fa2_525400b1e3a4row8_col0\" class=\"data row8 col0\" >-0.303790</td>\n",
       "                        <td id=\"T_85bdcc14_3bd1_11eb_9fa2_525400b1e3a4row8_col1\" class=\"data row8 col1\" >0.189690</td>\n",
       "                        <td id=\"T_85bdcc14_3bd1_11eb_9fa2_525400b1e3a4row8_col2\" class=\"data row8 col2\" >-0.184596</td>\n",
       "                        <td id=\"T_85bdcc14_3bd1_11eb_9fa2_525400b1e3a4row8_col3\" class=\"data row8 col3\" >-0.465076</td>\n",
       "                        <td id=\"T_85bdcc14_3bd1_11eb_9fa2_525400b1e3a4row8_col4\" class=\"data row8 col4\" >0.468021</td>\n",
       "                        <td id=\"T_85bdcc14_3bd1_11eb_9fa2_525400b1e3a4row8_col5\" class=\"data row8 col5\" >0.426355</td>\n",
       "                        <td id=\"T_85bdcc14_3bd1_11eb_9fa2_525400b1e3a4row8_col6\" class=\"data row8 col6\" >0.581105</td>\n",
       "                        <td id=\"T_85bdcc14_3bd1_11eb_9fa2_525400b1e3a4row8_col7\" class=\"data row8 col7\" >0.547060</td>\n",
       "                        <td id=\"T_85bdcc14_3bd1_11eb_9fa2_525400b1e3a4row8_col8\" class=\"data row8 col8\" >1.000000</td>\n",
       "                        <td id=\"T_85bdcc14_3bd1_11eb_9fa2_525400b1e3a4row8_col9\" class=\"data row8 col9\" >0.568115</td>\n",
       "                        <td id=\"T_85bdcc14_3bd1_11eb_9fa2_525400b1e3a4row8_col10\" class=\"data row8 col10\" >0.564856</td>\n",
       "                        <td id=\"T_85bdcc14_3bd1_11eb_9fa2_525400b1e3a4row8_col11\" class=\"data row8 col11\" >0.656358</td>\n",
       "                        <td id=\"T_85bdcc14_3bd1_11eb_9fa2_525400b1e3a4row8_col12\" class=\"data row8 col12\" >0.396328</td>\n",
       "                        <td id=\"T_85bdcc14_3bd1_11eb_9fa2_525400b1e3a4row8_col13\" class=\"data row8 col13\" >0.571156</td>\n",
       "                        <td id=\"T_85bdcc14_3bd1_11eb_9fa2_525400b1e3a4row8_col14\" class=\"data row8 col14\" >0.295975</td>\n",
       "                        <td id=\"T_85bdcc14_3bd1_11eb_9fa2_525400b1e3a4row8_col15\" class=\"data row8 col15\" >0.244759</td>\n",
       "                        <td id=\"T_85bdcc14_3bd1_11eb_9fa2_525400b1e3a4row8_col16\" class=\"data row8 col16\" >0.741499</td>\n",
       "            </tr>\n",
       "            <tr>\n",
       "                        <th id=\"T_85bdcc14_3bd1_11eb_9fa2_525400b1e3a4level0_row9\" class=\"row_heading level0 row9\" >Transport_closing</th>\n",
       "                        <td id=\"T_85bdcc14_3bd1_11eb_9fa2_525400b1e3a4row9_col0\" class=\"data row9 col0\" >-0.150248</td>\n",
       "                        <td id=\"T_85bdcc14_3bd1_11eb_9fa2_525400b1e3a4row9_col1\" class=\"data row9 col1\" >0.154160</td>\n",
       "                        <td id=\"T_85bdcc14_3bd1_11eb_9fa2_525400b1e3a4row9_col2\" class=\"data row9 col2\" >0.054709</td>\n",
       "                        <td id=\"T_85bdcc14_3bd1_11eb_9fa2_525400b1e3a4row9_col3\" class=\"data row9 col3\" >-0.172821</td>\n",
       "                        <td id=\"T_85bdcc14_3bd1_11eb_9fa2_525400b1e3a4row9_col4\" class=\"data row9 col4\" >0.348152</td>\n",
       "                        <td id=\"T_85bdcc14_3bd1_11eb_9fa2_525400b1e3a4row9_col5\" class=\"data row9 col5\" >0.052811</td>\n",
       "                        <td id=\"T_85bdcc14_3bd1_11eb_9fa2_525400b1e3a4row9_col6\" class=\"data row9 col6\" >0.285472</td>\n",
       "                        <td id=\"T_85bdcc14_3bd1_11eb_9fa2_525400b1e3a4row9_col7\" class=\"data row9 col7\" >0.723719</td>\n",
       "                        <td id=\"T_85bdcc14_3bd1_11eb_9fa2_525400b1e3a4row9_col8\" class=\"data row9 col8\" >0.568115</td>\n",
       "                        <td id=\"T_85bdcc14_3bd1_11eb_9fa2_525400b1e3a4row9_col9\" class=\"data row9 col9\" >1.000000</td>\n",
       "                        <td id=\"T_85bdcc14_3bd1_11eb_9fa2_525400b1e3a4row9_col10\" class=\"data row9 col10\" >0.380261</td>\n",
       "                        <td id=\"T_85bdcc14_3bd1_11eb_9fa2_525400b1e3a4row9_col11\" class=\"data row9 col11\" >0.684977</td>\n",
       "                        <td id=\"T_85bdcc14_3bd1_11eb_9fa2_525400b1e3a4row9_col12\" class=\"data row9 col12\" >-0.020807</td>\n",
       "                        <td id=\"T_85bdcc14_3bd1_11eb_9fa2_525400b1e3a4row9_col13\" class=\"data row9 col13\" >0.290900</td>\n",
       "                        <td id=\"T_85bdcc14_3bd1_11eb_9fa2_525400b1e3a4row9_col14\" class=\"data row9 col14\" >-0.085930</td>\n",
       "                        <td id=\"T_85bdcc14_3bd1_11eb_9fa2_525400b1e3a4row9_col15\" class=\"data row9 col15\" >0.031231</td>\n",
       "                        <td id=\"T_85bdcc14_3bd1_11eb_9fa2_525400b1e3a4row9_col16\" class=\"data row9 col16\" >0.409251</td>\n",
       "            </tr>\n",
       "            <tr>\n",
       "                        <th id=\"T_85bdcc14_3bd1_11eb_9fa2_525400b1e3a4level0_row10\" class=\"row_heading level0 row10\" >Stay_home_restrictions</th>\n",
       "                        <td id=\"T_85bdcc14_3bd1_11eb_9fa2_525400b1e3a4row10_col0\" class=\"data row10 col0\" >-0.118113</td>\n",
       "                        <td id=\"T_85bdcc14_3bd1_11eb_9fa2_525400b1e3a4row10_col1\" class=\"data row10 col1\" >0.225294</td>\n",
       "                        <td id=\"T_85bdcc14_3bd1_11eb_9fa2_525400b1e3a4row10_col2\" class=\"data row10 col2\" >-0.061998</td>\n",
       "                        <td id=\"T_85bdcc14_3bd1_11eb_9fa2_525400b1e3a4row10_col3\" class=\"data row10 col3\" >-0.293735</td>\n",
       "                        <td id=\"T_85bdcc14_3bd1_11eb_9fa2_525400b1e3a4row10_col4\" class=\"data row10 col4\" >0.265530</td>\n",
       "                        <td id=\"T_85bdcc14_3bd1_11eb_9fa2_525400b1e3a4row10_col5\" class=\"data row10 col5\" >0.499033</td>\n",
       "                        <td id=\"T_85bdcc14_3bd1_11eb_9fa2_525400b1e3a4row10_col6\" class=\"data row10 col6\" >0.714661</td>\n",
       "                        <td id=\"T_85bdcc14_3bd1_11eb_9fa2_525400b1e3a4row10_col7\" class=\"data row10 col7\" >0.489561</td>\n",
       "                        <td id=\"T_85bdcc14_3bd1_11eb_9fa2_525400b1e3a4row10_col8\" class=\"data row10 col8\" >0.564856</td>\n",
       "                        <td id=\"T_85bdcc14_3bd1_11eb_9fa2_525400b1e3a4row10_col9\" class=\"data row10 col9\" >0.380261</td>\n",
       "                        <td id=\"T_85bdcc14_3bd1_11eb_9fa2_525400b1e3a4row10_col10\" class=\"data row10 col10\" >1.000000</td>\n",
       "                        <td id=\"T_85bdcc14_3bd1_11eb_9fa2_525400b1e3a4row10_col11\" class=\"data row10 col11\" >0.506075</td>\n",
       "                        <td id=\"T_85bdcc14_3bd1_11eb_9fa2_525400b1e3a4row10_col12\" class=\"data row10 col12\" >0.275519</td>\n",
       "                        <td id=\"T_85bdcc14_3bd1_11eb_9fa2_525400b1e3a4row10_col13\" class=\"data row10 col13\" >0.378461</td>\n",
       "                        <td id=\"T_85bdcc14_3bd1_11eb_9fa2_525400b1e3a4row10_col14\" class=\"data row10 col14\" >-0.030936</td>\n",
       "                        <td id=\"T_85bdcc14_3bd1_11eb_9fa2_525400b1e3a4row10_col15\" class=\"data row10 col15\" >-0.123830</td>\n",
       "                        <td id=\"T_85bdcc14_3bd1_11eb_9fa2_525400b1e3a4row10_col16\" class=\"data row10 col16\" >0.739668</td>\n",
       "            </tr>\n",
       "            <tr>\n",
       "                        <th id=\"T_85bdcc14_3bd1_11eb_9fa2_525400b1e3a4level0_row11\" class=\"row_heading level0 row11\" >Internal_movement_restrictions</th>\n",
       "                        <td id=\"T_85bdcc14_3bd1_11eb_9fa2_525400b1e3a4row11_col0\" class=\"data row11 col0\" >-0.191382</td>\n",
       "                        <td id=\"T_85bdcc14_3bd1_11eb_9fa2_525400b1e3a4row11_col1\" class=\"data row11 col1\" >0.276335</td>\n",
       "                        <td id=\"T_85bdcc14_3bd1_11eb_9fa2_525400b1e3a4row11_col2\" class=\"data row11 col2\" >-0.068328</td>\n",
       "                        <td id=\"T_85bdcc14_3bd1_11eb_9fa2_525400b1e3a4row11_col3\" class=\"data row11 col3\" >-0.063895</td>\n",
       "                        <td id=\"T_85bdcc14_3bd1_11eb_9fa2_525400b1e3a4row11_col4\" class=\"data row11 col4\" >0.427471</td>\n",
       "                        <td id=\"T_85bdcc14_3bd1_11eb_9fa2_525400b1e3a4row11_col5\" class=\"data row11 col5\" >0.144076</td>\n",
       "                        <td id=\"T_85bdcc14_3bd1_11eb_9fa2_525400b1e3a4row11_col6\" class=\"data row11 col6\" >0.320110</td>\n",
       "                        <td id=\"T_85bdcc14_3bd1_11eb_9fa2_525400b1e3a4row11_col7\" class=\"data row11 col7\" >0.704182</td>\n",
       "                        <td id=\"T_85bdcc14_3bd1_11eb_9fa2_525400b1e3a4row11_col8\" class=\"data row11 col8\" >0.656358</td>\n",
       "                        <td id=\"T_85bdcc14_3bd1_11eb_9fa2_525400b1e3a4row11_col9\" class=\"data row11 col9\" >0.684977</td>\n",
       "                        <td id=\"T_85bdcc14_3bd1_11eb_9fa2_525400b1e3a4row11_col10\" class=\"data row11 col10\" >0.506075</td>\n",
       "                        <td id=\"T_85bdcc14_3bd1_11eb_9fa2_525400b1e3a4row11_col11\" class=\"data row11 col11\" >1.000000</td>\n",
       "                        <td id=\"T_85bdcc14_3bd1_11eb_9fa2_525400b1e3a4row11_col12\" class=\"data row11 col12\" >-0.032510</td>\n",
       "                        <td id=\"T_85bdcc14_3bd1_11eb_9fa2_525400b1e3a4row11_col13\" class=\"data row11 col13\" >0.288150</td>\n",
       "                        <td id=\"T_85bdcc14_3bd1_11eb_9fa2_525400b1e3a4row11_col14\" class=\"data row11 col14\" >-0.130605</td>\n",
       "                        <td id=\"T_85bdcc14_3bd1_11eb_9fa2_525400b1e3a4row11_col15\" class=\"data row11 col15\" >0.084420</td>\n",
       "                        <td id=\"T_85bdcc14_3bd1_11eb_9fa2_525400b1e3a4row11_col16\" class=\"data row11 col16\" >0.469023</td>\n",
       "            </tr>\n",
       "            <tr>\n",
       "                        <th id=\"T_85bdcc14_3bd1_11eb_9fa2_525400b1e3a4level0_row12\" class=\"row_heading level0 row12\" >International_movement_restrictions</th>\n",
       "                        <td id=\"T_85bdcc14_3bd1_11eb_9fa2_525400b1e3a4row12_col0\" class=\"data row12 col0\" >-0.167311</td>\n",
       "                        <td id=\"T_85bdcc14_3bd1_11eb_9fa2_525400b1e3a4row12_col1\" class=\"data row12 col1\" >0.135140</td>\n",
       "                        <td id=\"T_85bdcc14_3bd1_11eb_9fa2_525400b1e3a4row12_col2\" class=\"data row12 col2\" >0.013235</td>\n",
       "                        <td id=\"T_85bdcc14_3bd1_11eb_9fa2_525400b1e3a4row12_col3\" class=\"data row12 col3\" >-0.569449</td>\n",
       "                        <td id=\"T_85bdcc14_3bd1_11eb_9fa2_525400b1e3a4row12_col4\" class=\"data row12 col4\" >0.072156</td>\n",
       "                        <td id=\"T_85bdcc14_3bd1_11eb_9fa2_525400b1e3a4row12_col5\" class=\"data row12 col5\" >0.223941</td>\n",
       "                        <td id=\"T_85bdcc14_3bd1_11eb_9fa2_525400b1e3a4row12_col6\" class=\"data row12 col6\" >0.294946</td>\n",
       "                        <td id=\"T_85bdcc14_3bd1_11eb_9fa2_525400b1e3a4row12_col7\" class=\"data row12 col7\" >-0.034696</td>\n",
       "                        <td id=\"T_85bdcc14_3bd1_11eb_9fa2_525400b1e3a4row12_col8\" class=\"data row12 col8\" >0.396328</td>\n",
       "                        <td id=\"T_85bdcc14_3bd1_11eb_9fa2_525400b1e3a4row12_col9\" class=\"data row12 col9\" >-0.020807</td>\n",
       "                        <td id=\"T_85bdcc14_3bd1_11eb_9fa2_525400b1e3a4row12_col10\" class=\"data row12 col10\" >0.275519</td>\n",
       "                        <td id=\"T_85bdcc14_3bd1_11eb_9fa2_525400b1e3a4row12_col11\" class=\"data row12 col11\" >-0.032510</td>\n",
       "                        <td id=\"T_85bdcc14_3bd1_11eb_9fa2_525400b1e3a4row12_col12\" class=\"data row12 col12\" >1.000000</td>\n",
       "                        <td id=\"T_85bdcc14_3bd1_11eb_9fa2_525400b1e3a4row12_col13\" class=\"data row12 col13\" >0.403931</td>\n",
       "                        <td id=\"T_85bdcc14_3bd1_11eb_9fa2_525400b1e3a4row12_col14\" class=\"data row12 col14\" >0.563807</td>\n",
       "                        <td id=\"T_85bdcc14_3bd1_11eb_9fa2_525400b1e3a4row12_col15\" class=\"data row12 col15\" >0.420734</td>\n",
       "                        <td id=\"T_85bdcc14_3bd1_11eb_9fa2_525400b1e3a4row12_col16\" class=\"data row12 col16\" >0.394106</td>\n",
       "            </tr>\n",
       "            <tr>\n",
       "                        <th id=\"T_85bdcc14_3bd1_11eb_9fa2_525400b1e3a4level0_row13\" class=\"row_heading level0 row13\" >Information_campaigns</th>\n",
       "                        <td id=\"T_85bdcc14_3bd1_11eb_9fa2_525400b1e3a4row13_col0\" class=\"data row13 col0\" >-0.173740</td>\n",
       "                        <td id=\"T_85bdcc14_3bd1_11eb_9fa2_525400b1e3a4row13_col1\" class=\"data row13 col1\" >0.107200</td>\n",
       "                        <td id=\"T_85bdcc14_3bd1_11eb_9fa2_525400b1e3a4row13_col2\" class=\"data row13 col2\" >0.051806</td>\n",
       "                        <td id=\"T_85bdcc14_3bd1_11eb_9fa2_525400b1e3a4row13_col3\" class=\"data row13 col3\" >-0.302539</td>\n",
       "                        <td id=\"T_85bdcc14_3bd1_11eb_9fa2_525400b1e3a4row13_col4\" class=\"data row13 col4\" >0.266901</td>\n",
       "                        <td id=\"T_85bdcc14_3bd1_11eb_9fa2_525400b1e3a4row13_col5\" class=\"data row13 col5\" >0.352809</td>\n",
       "                        <td id=\"T_85bdcc14_3bd1_11eb_9fa2_525400b1e3a4row13_col6\" class=\"data row13 col6\" >0.453849</td>\n",
       "                        <td id=\"T_85bdcc14_3bd1_11eb_9fa2_525400b1e3a4row13_col7\" class=\"data row13 col7\" >0.346617</td>\n",
       "                        <td id=\"T_85bdcc14_3bd1_11eb_9fa2_525400b1e3a4row13_col8\" class=\"data row13 col8\" >0.571156</td>\n",
       "                        <td id=\"T_85bdcc14_3bd1_11eb_9fa2_525400b1e3a4row13_col9\" class=\"data row13 col9\" >0.290900</td>\n",
       "                        <td id=\"T_85bdcc14_3bd1_11eb_9fa2_525400b1e3a4row13_col10\" class=\"data row13 col10\" >0.378461</td>\n",
       "                        <td id=\"T_85bdcc14_3bd1_11eb_9fa2_525400b1e3a4row13_col11\" class=\"data row13 col11\" >0.288150</td>\n",
       "                        <td id=\"T_85bdcc14_3bd1_11eb_9fa2_525400b1e3a4row13_col12\" class=\"data row13 col12\" >0.403931</td>\n",
       "                        <td id=\"T_85bdcc14_3bd1_11eb_9fa2_525400b1e3a4row13_col13\" class=\"data row13 col13\" >1.000000</td>\n",
       "                        <td id=\"T_85bdcc14_3bd1_11eb_9fa2_525400b1e3a4row13_col14\" class=\"data row13 col14\" >0.442355</td>\n",
       "                        <td id=\"T_85bdcc14_3bd1_11eb_9fa2_525400b1e3a4row13_col15\" class=\"data row13 col15\" >0.375503</td>\n",
       "                        <td id=\"T_85bdcc14_3bd1_11eb_9fa2_525400b1e3a4row13_col16\" class=\"data row13 col16\" >0.604978</td>\n",
       "            </tr>\n",
       "            <tr>\n",
       "                        <th id=\"T_85bdcc14_3bd1_11eb_9fa2_525400b1e3a4level0_row14\" class=\"row_heading level0 row14\" >Testing_policy</th>\n",
       "                        <td id=\"T_85bdcc14_3bd1_11eb_9fa2_525400b1e3a4row14_col0\" class=\"data row14 col0\" >-0.207949</td>\n",
       "                        <td id=\"T_85bdcc14_3bd1_11eb_9fa2_525400b1e3a4row14_col1\" class=\"data row14 col1\" >-0.203562</td>\n",
       "                        <td id=\"T_85bdcc14_3bd1_11eb_9fa2_525400b1e3a4row14_col2\" class=\"data row14 col2\" >-0.128415</td>\n",
       "                        <td id=\"T_85bdcc14_3bd1_11eb_9fa2_525400b1e3a4row14_col3\" class=\"data row14 col3\" >-0.545221</td>\n",
       "                        <td id=\"T_85bdcc14_3bd1_11eb_9fa2_525400b1e3a4row14_col4\" class=\"data row14 col4\" >0.009980</td>\n",
       "                        <td id=\"T_85bdcc14_3bd1_11eb_9fa2_525400b1e3a4row14_col5\" class=\"data row14 col5\" >0.065418</td>\n",
       "                        <td id=\"T_85bdcc14_3bd1_11eb_9fa2_525400b1e3a4row14_col6\" class=\"data row14 col6\" >-0.021928</td>\n",
       "                        <td id=\"T_85bdcc14_3bd1_11eb_9fa2_525400b1e3a4row14_col7\" class=\"data row14 col7\" >-0.210887</td>\n",
       "                        <td id=\"T_85bdcc14_3bd1_11eb_9fa2_525400b1e3a4row14_col8\" class=\"data row14 col8\" >0.295975</td>\n",
       "                        <td id=\"T_85bdcc14_3bd1_11eb_9fa2_525400b1e3a4row14_col9\" class=\"data row14 col9\" >-0.085930</td>\n",
       "                        <td id=\"T_85bdcc14_3bd1_11eb_9fa2_525400b1e3a4row14_col10\" class=\"data row14 col10\" >-0.030936</td>\n",
       "                        <td id=\"T_85bdcc14_3bd1_11eb_9fa2_525400b1e3a4row14_col11\" class=\"data row14 col11\" >-0.130605</td>\n",
       "                        <td id=\"T_85bdcc14_3bd1_11eb_9fa2_525400b1e3a4row14_col12\" class=\"data row14 col12\" >0.563807</td>\n",
       "                        <td id=\"T_85bdcc14_3bd1_11eb_9fa2_525400b1e3a4row14_col13\" class=\"data row14 col13\" >0.442355</td>\n",
       "                        <td id=\"T_85bdcc14_3bd1_11eb_9fa2_525400b1e3a4row14_col14\" class=\"data row14 col14\" >1.000000</td>\n",
       "                        <td id=\"T_85bdcc14_3bd1_11eb_9fa2_525400b1e3a4row14_col15\" class=\"data row14 col15\" >0.484909</td>\n",
       "                        <td id=\"T_85bdcc14_3bd1_11eb_9fa2_525400b1e3a4row14_col16\" class=\"data row14 col16\" >0.116283</td>\n",
       "            </tr>\n",
       "            <tr>\n",
       "                        <th id=\"T_85bdcc14_3bd1_11eb_9fa2_525400b1e3a4level0_row15\" class=\"row_heading level0 row15\" >Contact_tracing</th>\n",
       "                        <td id=\"T_85bdcc14_3bd1_11eb_9fa2_525400b1e3a4row15_col0\" class=\"data row15 col0\" >-0.171463</td>\n",
       "                        <td id=\"T_85bdcc14_3bd1_11eb_9fa2_525400b1e3a4row15_col1\" class=\"data row15 col1\" >-0.006117</td>\n",
       "                        <td id=\"T_85bdcc14_3bd1_11eb_9fa2_525400b1e3a4row15_col2\" class=\"data row15 col2\" >0.132292</td>\n",
       "                        <td id=\"T_85bdcc14_3bd1_11eb_9fa2_525400b1e3a4row15_col3\" class=\"data row15 col3\" >-0.135614</td>\n",
       "                        <td id=\"T_85bdcc14_3bd1_11eb_9fa2_525400b1e3a4row15_col4\" class=\"data row15 col4\" >0.354901</td>\n",
       "                        <td id=\"T_85bdcc14_3bd1_11eb_9fa2_525400b1e3a4row15_col5\" class=\"data row15 col5\" >-0.088242</td>\n",
       "                        <td id=\"T_85bdcc14_3bd1_11eb_9fa2_525400b1e3a4row15_col6\" class=\"data row15 col6\" >-0.150541</td>\n",
       "                        <td id=\"T_85bdcc14_3bd1_11eb_9fa2_525400b1e3a4row15_col7\" class=\"data row15 col7\" >-0.029173</td>\n",
       "                        <td id=\"T_85bdcc14_3bd1_11eb_9fa2_525400b1e3a4row15_col8\" class=\"data row15 col8\" >0.244759</td>\n",
       "                        <td id=\"T_85bdcc14_3bd1_11eb_9fa2_525400b1e3a4row15_col9\" class=\"data row15 col9\" >0.031231</td>\n",
       "                        <td id=\"T_85bdcc14_3bd1_11eb_9fa2_525400b1e3a4row15_col10\" class=\"data row15 col10\" >-0.123830</td>\n",
       "                        <td id=\"T_85bdcc14_3bd1_11eb_9fa2_525400b1e3a4row15_col11\" class=\"data row15 col11\" >0.084420</td>\n",
       "                        <td id=\"T_85bdcc14_3bd1_11eb_9fa2_525400b1e3a4row15_col12\" class=\"data row15 col12\" >0.420734</td>\n",
       "                        <td id=\"T_85bdcc14_3bd1_11eb_9fa2_525400b1e3a4row15_col13\" class=\"data row15 col13\" >0.375503</td>\n",
       "                        <td id=\"T_85bdcc14_3bd1_11eb_9fa2_525400b1e3a4row15_col14\" class=\"data row15 col14\" >0.484909</td>\n",
       "                        <td id=\"T_85bdcc14_3bd1_11eb_9fa2_525400b1e3a4row15_col15\" class=\"data row15 col15\" >1.000000</td>\n",
       "                        <td id=\"T_85bdcc14_3bd1_11eb_9fa2_525400b1e3a4row15_col16\" class=\"data row15 col16\" >-0.061924</td>\n",
       "            </tr>\n",
       "            <tr>\n",
       "                        <th id=\"T_85bdcc14_3bd1_11eb_9fa2_525400b1e3a4level0_row16\" class=\"row_heading level0 row16\" >Stringency_index</th>\n",
       "                        <td id=\"T_85bdcc14_3bd1_11eb_9fa2_525400b1e3a4row16_col0\" class=\"data row16 col0\" >-0.183465</td>\n",
       "                        <td id=\"T_85bdcc14_3bd1_11eb_9fa2_525400b1e3a4row16_col1\" class=\"data row16 col1\" >0.318293</td>\n",
       "                        <td id=\"T_85bdcc14_3bd1_11eb_9fa2_525400b1e3a4row16_col2\" class=\"data row16 col2\" >-0.103227</td>\n",
       "                        <td id=\"T_85bdcc14_3bd1_11eb_9fa2_525400b1e3a4row16_col3\" class=\"data row16 col3\" >-0.458687</td>\n",
       "                        <td id=\"T_85bdcc14_3bd1_11eb_9fa2_525400b1e3a4row16_col4\" class=\"data row16 col4\" >0.307644</td>\n",
       "                        <td id=\"T_85bdcc14_3bd1_11eb_9fa2_525400b1e3a4row16_col5\" class=\"data row16 col5\" >0.749757</td>\n",
       "                        <td id=\"T_85bdcc14_3bd1_11eb_9fa2_525400b1e3a4row16_col6\" class=\"data row16 col6\" >0.847257</td>\n",
       "                        <td id=\"T_85bdcc14_3bd1_11eb_9fa2_525400b1e3a4row16_col7\" class=\"data row16 col7\" >0.520879</td>\n",
       "                        <td id=\"T_85bdcc14_3bd1_11eb_9fa2_525400b1e3a4row16_col8\" class=\"data row16 col8\" >0.741499</td>\n",
       "                        <td id=\"T_85bdcc14_3bd1_11eb_9fa2_525400b1e3a4row16_col9\" class=\"data row16 col9\" >0.409251</td>\n",
       "                        <td id=\"T_85bdcc14_3bd1_11eb_9fa2_525400b1e3a4row16_col10\" class=\"data row16 col10\" >0.739668</td>\n",
       "                        <td id=\"T_85bdcc14_3bd1_11eb_9fa2_525400b1e3a4row16_col11\" class=\"data row16 col11\" >0.469023</td>\n",
       "                        <td id=\"T_85bdcc14_3bd1_11eb_9fa2_525400b1e3a4row16_col12\" class=\"data row16 col12\" >0.394106</td>\n",
       "                        <td id=\"T_85bdcc14_3bd1_11eb_9fa2_525400b1e3a4row16_col13\" class=\"data row16 col13\" >0.604978</td>\n",
       "                        <td id=\"T_85bdcc14_3bd1_11eb_9fa2_525400b1e3a4row16_col14\" class=\"data row16 col14\" >0.116283</td>\n",
       "                        <td id=\"T_85bdcc14_3bd1_11eb_9fa2_525400b1e3a4row16_col15\" class=\"data row16 col15\" >-0.061924</td>\n",
       "                        <td id=\"T_85bdcc14_3bd1_11eb_9fa2_525400b1e3a4row16_col16\" class=\"data row16 col16\" >1.000000</td>\n",
       "            </tr>\n",
       "    </tbody></table>"
      ],
      "text/plain": [
       "<pandas.io.formats.style.Styler at 0x7fc0a903bdc0>"
      ]
     },
     "execution_count": 21,
     "metadata": {},
     "output_type": "execute_result"
    }
   ],
   "source": [
    "# Correlation\n",
    "df = track_df.copy()\n",
    "df.corr().style.background_gradient(axis=None)"
   ]
  },
  {
   "cell_type": "code",
   "execution_count": 22,
   "metadata": {
    "collapsed": false
   },
   "outputs": [
    {
     "data": {
      "image/png": "[encoded data removed]",
      "text/plain": [
       "<Figure size 432x288 with 1 Axes>"
      ]
     },
     "metadata": {},
     "output_type": "display_data"
    }
   ],
   "source": [
    "# Scatter plot of Stringency index and Rt\n",
    "df = track_df.copy()\n",
    "sns.scatterplot(data=df, x=\"Stringency_index\", y=\"Rt\", hue=\"Country\", legend=\"brief\", marker=\"+\")\n",
    "bbox_to_anchor=(1.02, 0)\n",
    "bbox_loc=\"lower left\"\n",
    "plt.legend(bbox_to_anchor=bbox_to_anchor, loc=bbox_loc, borderaxespad=0)\n",
    "plt.title(\"Relationship of Stringency index and reproduction number\")\n",
    "plt.ylabel(\"Reproduction number\")\n",
    "plt.xlabel(\"Stringency index\")\n",
    "plt.show()"
   ]
  }
 ],
 "metadata": {
  "kernelspec": {
   "display_name": "Python 3.8.2 64-bit ('.venv': venv)",
   "name": "python_defaultSpec_1597669925034"
  },
  "language_info": {
   "codemirror_mode": {
    "name": "ipython",
    "version": 3
   },
   "file_extension": ".py",
   "mimetype": "text/x-python",
   "name": "python",
   "nbconvert_exporter": "python",
   "pygments_lexer": "ipython3",
   "version": "3.8.2-final"
  }
 },
 "nbformat": 4,
 "nbformat_minor": 4
}
