{
 "cells": [
  {
   "cell_type": "markdown",
   "metadata": {},
   "source": [
    "# Usage (details: policy measures)\n",
    "Here, we will analyse the relationship of policy measures and parameter values of SIR-derived ODE models. Policy measures are tracked by [Oxford Covid-19 Government Response Tracker (OxCGRT)](https://github.com/OxCGRT/covid-policy-tracker)."
   ]
  },
  {
   "cell_type": "markdown",
   "metadata": {},
   "source": [
    "## Preparation"
   ]
  },
  {
   "cell_type": "code",
   "execution_count": 1,
   "metadata": {
    "collapsed": false
   },
   "outputs": [],
   "source": [
    "# Standard users\n",
    "# !pip install covsirphy\n",
    "# Developers (Note: this notebook is in example directory)\n",
    "import os\n",
    "os.chdir(\"../\")"
   ]
  },
  {
   "cell_type": "code",
   "execution_count": 2,
   "metadata": {
    "collapsed": false
   },
   "outputs": [],
   "source": [
    "from pprint import pprint"
   ]
  },
  {
   "cell_type": "code",
   "execution_count": 3,
   "metadata": {
    "collapsed": false
   },
   "outputs": [
    {
     "data": {
      "text/plain": [
       "'2.8.3'"
      ]
     },
     "execution_count": 3,
     "metadata": {},
     "output_type": "execute_result"
    }
   ],
   "source": [
    "import covsirphy as cs\n",
    "cs.__version__"
   ]
  },
  {
   "cell_type": "code",
   "execution_count": 4,
   "metadata": {
    "collapsed": false,
    "tags": []
   },
   "outputs": [
    {
     "name": "stdout",
     "output_type": "stream",
     "text": [
      "(Secondary source) Guidotti, E., Ardia, D., (2020), \"COVID-19 Data Hub\", Journal of Open Source Software 5(51):2376, doi: 10.21105/joss.02376.\n",
      "We can get Citation list of primary sources with DataLoader(...).covid19dh_citation"
     ]
    },
    {
     "name": "stdout",
     "output_type": "stream",
     "text": [
      "\n"
     ]
    }
   ],
   "source": [
    "# Standard users and developers\n",
    "data_loader = cs.DataLoader(\"input\")\n",
    "# The number of cases (JHU style)\n",
    "jhu_data = data_loader.jhu(verbose=False)\n",
    "# Population in each country\n",
    "population_data = data_loader.population(verbose=False)\n",
    "# Government Response Tracker (OxCGRT)\n",
    "oxcgrt_data = data_loader.oxcgrt(verbose=False)\n",
    "# Description/citation\n",
    "print(oxcgrt_data.citation)"
   ]
  },
  {
   "cell_type": "markdown",
   "metadata": {},
   "source": [
    "## Class for policy measure analysis\n",
    "We will `PolicyMeasures` class to find relationship of policy measures and parameter values of SIR-derived ODE models."
   ]
  },
  {
   "cell_type": "code",
   "execution_count": 5,
   "metadata": {
    "collapsed": false,
    "tags": []
   },
   "outputs": [
    {
     "data": {
      "text/plain": [
       "184"
      ]
     },
     "execution_count": 5,
     "metadata": {},
     "output_type": "execute_result"
    }
   ],
   "source": [
    "# Create analyser with tau value 360 [min] (can be changed)\n",
    "analyser = cs.PolicyMeasures(jhu_data, population_data, oxcgrt_data, tau=360)\n",
    "# The number of registerd countries\n",
    "len(analyser.countries)"
   ]
  },
  {
   "cell_type": "code",
   "execution_count": 6,
   "metadata": {
    "collapsed": false
   },
   "outputs": [
    {
     "data": {
      "text/plain": [
       "covsirphy.analysis.scenario.Scenario"
      ]
     },
     "execution_count": 6,
     "metadata": {},
     "output_type": "execute_result"
    }
   ],
   "source": [
    "# We can get Scenario instance for detailed scenario analysis\n",
    "type(analyser.scenario(\"Japan\"))"
   ]
  },
  {
   "cell_type": "markdown",
   "metadata": {},
   "source": [
    "## Set phases with S-R trend analysis\n",
    "We will perform S-R trend analysis to set phases in all countries. Countries which do not have **9th phases** will be un-registered for the next analysis. This number will be adjusted for your analysis."
   ]
  },
  {
   "cell_type": "code",
   "execution_count": 7,
   "metadata": {
    "collapsed": false
   },
   "outputs": [
    {
     "name": "stdout",
     "output_type": "stream",
     "text": [
      "{"
     ]
    },
    {
     "name": "stdout",
     "output_type": "stream",
     "text": [
      "3"
     ]
    },
    {
     "name": "stdout",
     "output_type": "stream",
     "text": [
      ": "
     ]
    },
    {
     "name": "stdout",
     "output_type": "stream",
     "text": [
      "['Tanzania', 'Dominica', 'Myanmar']"
     ]
    },
    {
     "name": "stdout",
     "output_type": "stream",
     "text": [
      ",\n",
      " "
     ]
    },
    {
     "name": "stdout",
     "output_type": "stream",
     "text": [
      "4"
     ]
    },
    {
     "name": "stdout",
     "output_type": "stream",
     "text": [
      ": "
     ]
    },
    {
     "name": "stdout",
     "output_type": "stream",
     "text": [
      "['Brunei', 'Trinidad and Tobago', 'Libya', 'Belize', 'Papua New Guinea']"
     ]
    },
    {
     "name": "stdout",
     "output_type": "stream",
     "text": [
      ",\n",
      " "
     ]
    },
    {
     "name": "stdout",
     "output_type": "stream",
     "text": [
      "5"
     ]
    },
    {
     "name": "stdout",
     "output_type": "stream",
     "text": [
      ": "
     ]
    },
    {
     "name": "stdout",
     "output_type": "stream",
     "text": [
      "["
     ]
    },
    {
     "name": "stdout",
     "output_type": "stream",
     "text": [
      "'Antigua and Barbuda'"
     ]
    },
    {
     "name": "stdout",
     "output_type": "stream",
     "text": [
      ", "
     ]
    },
    {
     "name": "stdout",
     "output_type": "stream",
     "text": [
      "'Fiji'"
     ]
    },
    {
     "name": "stdout",
     "output_type": "stream",
     "text": [
      ", "
     ]
    },
    {
     "name": "stdout",
     "output_type": "stream",
     "text": [
      "'Namibia'"
     ]
    },
    {
     "name": "stdout",
     "output_type": "stream",
     "text": [
      ", "
     ]
    },
    {
     "name": "stdout",
     "output_type": "stream",
     "text": [
      "'Tunisia'"
     ]
    },
    {
     "name": "stdout",
     "output_type": "stream",
     "text": [
      ", "
     ]
    },
    {
     "name": "stdout",
     "output_type": "stream",
     "text": [
      "'Mauritius'"
     ]
    },
    {
     "name": "stdout",
     "output_type": "stream",
     "text": [
      ",\n",
      "     "
     ]
    },
    {
     "name": "stdout",
     "output_type": "stream",
     "text": [
      "'Bahamas'"
     ]
    },
    {
     "name": "stdout",
     "output_type": "stream",
     "text": [
      ", "
     ]
    },
    {
     "name": "stdout",
     "output_type": "stream",
     "text": [
      "'Lebanon'"
     ]
    },
    {
     "name": "stdout",
     "output_type": "stream",
     "text": [
      ", "
     ]
    },
    {
     "name": "stdout",
     "output_type": "stream",
     "text": [
      "'Lesotho'"
     ]
    },
    {
     "name": "stdout",
     "output_type": "stream",
     "text": [
      ", "
     ]
    },
    {
     "name": "stdout",
     "output_type": "stream",
     "text": [
      "'Seychelles'"
     ]
    },
    {
     "name": "stdout",
     "output_type": "stream",
     "text": [
      ", "
     ]
    },
    {
     "name": "stdout",
     "output_type": "stream",
     "text": [
      "'Grenada'"
     ]
    },
    {
     "name": "stdout",
     "output_type": "stream",
     "text": [
      "]"
     ]
    },
    {
     "name": "stdout",
     "output_type": "stream",
     "text": [
      ",\n",
      " "
     ]
    },
    {
     "name": "stdout",
     "output_type": "stream",
     "text": [
      "6"
     ]
    },
    {
     "name": "stdout",
     "output_type": "stream",
     "text": [
      ": "
     ]
    },
    {
     "name": "stdout",
     "output_type": "stream",
     "text": [
      "["
     ]
    },
    {
     "name": "stdout",
     "output_type": "stream",
     "text": [
      "'Gambia'"
     ]
    },
    {
     "name": "stdout",
     "output_type": "stream",
     "text": [
      ", "
     ]
    },
    {
     "name": "stdout",
     "output_type": "stream",
     "text": [
      "'Yemen'"
     ]
    },
    {
     "name": "stdout",
     "output_type": "stream",
     "text": [
      ", "
     ]
    },
    {
     "name": "stdout",
     "output_type": "stream",
     "text": [
      "'Liechtenstein'"
     ]
    },
    {
     "name": "stdout",
     "output_type": "stream",
     "text": [
      ", "
     ]
    },
    {
     "name": "stdout",
     "output_type": "stream",
     "text": [
      "'Ireland'"
     ]
    },
    {
     "name": "stdout",
     "output_type": "stream",
     "text": [
      ", "
     ]
    },
    {
     "name": "stdout",
     "output_type": "stream",
     "text": [
      "'Guyana'"
     ]
    },
    {
     "name": "stdout",
     "output_type": "stream",
     "text": [
      ", "
     ]
    },
    {
     "name": "stdout",
     "output_type": "stream",
     "text": [
      "'Croatia'"
     ]
    },
    {
     "name": "stdout",
     "output_type": "stream",
     "text": [
      ",\n",
      "     "
     ]
    },
    {
     "name": "stdout",
     "output_type": "stream",
     "text": [
      "'Malta'"
     ]
    },
    {
     "name": "stdout",
     "output_type": "stream",
     "text": [
      ", "
     ]
    },
    {
     "name": "stdout",
     "output_type": "stream",
     "text": [
      "'Cambodia'"
     ]
    },
    {
     "name": "stdout",
     "output_type": "stream",
     "text": [
      ", "
     ]
    },
    {
     "name": "stdout",
     "output_type": "stream",
     "text": [
      "'Venezuela'"
     ]
    },
    {
     "name": "stdout",
     "output_type": "stream",
     "text": [
      ", "
     ]
    },
    {
     "name": "stdout",
     "output_type": "stream",
     "text": [
      "'Mongolia'"
     ]
    },
    {
     "name": "stdout",
     "output_type": "stream",
     "text": [
      ", "
     ]
    },
    {
     "name": "stdout",
     "output_type": "stream",
     "text": [
      "'Kazakhstan'"
     ]
    },
    {
     "name": "stdout",
     "output_type": "stream",
     "text": [
      ", "
     ]
    },
    {
     "name": "stdout",
     "output_type": "stream",
     "text": [
      "'Vietnam'"
     ]
    },
    {
     "name": "stdout",
     "output_type": "stream",
     "text": [
      ",\n",
      "     "
     ]
    },
    {
     "name": "stdout",
     "output_type": "stream",
     "text": [
      "'Angola'"
     ]
    },
    {
     "name": "stdout",
     "output_type": "stream",
     "text": [
      ", "
     ]
    },
    {
     "name": "stdout",
     "output_type": "stream",
     "text": [
      "'Netherlands'"
     ]
    },
    {
     "name": "stdout",
     "output_type": "stream",
     "text": [
      ", "
     ]
    },
    {
     "name": "stdout",
     "output_type": "stream",
     "text": [
      "'Sao Tome and Principe'"
     ]
    },
    {
     "name": "stdout",
     "output_type": "stream",
     "text": [
      ", "
     ]
    },
    {
     "name": "stdout",
     "output_type": "stream",
     "text": [
      "'South Sudan'"
     ]
    },
    {
     "name": "stdout",
     "output_type": "stream",
     "text": [
      ", "
     ]
    },
    {
     "name": "stdout",
     "output_type": "stream",
     "text": [
      "'Norway'"
     ]
    },
    {
     "name": "stdout",
     "output_type": "stream",
     "text": [
      ",\n",
      "     "
     ]
    },
    {
     "name": "stdout",
     "output_type": "stream",
     "text": [
      "'Central African Republic'"
     ]
    },
    {
     "name": "stdout",
     "output_type": "stream",
     "text": [
      ", "
     ]
    },
    {
     "name": "stdout",
     "output_type": "stream",
     "text": [
      "'Monaco'"
     ]
    },
    {
     "name": "stdout",
     "output_type": "stream",
     "text": [
      ", "
     ]
    },
    {
     "name": "stdout",
     "output_type": "stream",
     "text": [
      "'Kyrgyzstan'"
     ]
    },
    {
     "name": "stdout",
     "output_type": "stream",
     "text": [
      ", "
     ]
    },
    {
     "name": "stdout",
     "output_type": "stream",
     "text": [
      "'Botswana'"
     ]
    },
    {
     "name": "stdout",
     "output_type": "stream",
     "text": [
      ", "
     ]
    },
    {
     "name": "stdout",
     "output_type": "stream",
     "text": [
      "'Jamaica'"
     ]
    },
    {
     "name": "stdout",
     "output_type": "stream",
     "text": [
      ",\n",
      "     "
     ]
    },
    {
     "name": "stdout",
     "output_type": "stream",
     "text": [
      "'Jordan'"
     ]
    },
    {
     "name": "stdout",
     "output_type": "stream",
     "text": [
      ", "
     ]
    },
    {
     "name": "stdout",
     "output_type": "stream",
     "text": [
      "'Uganda'"
     ]
    },
    {
     "name": "stdout",
     "output_type": "stream",
     "text": [
      "]"
     ]
    },
    {
     "name": "stdout",
     "output_type": "stream",
     "text": [
      ",\n",
      " "
     ]
    },
    {
     "name": "stdout",
     "output_type": "stream",
     "text": [
      "7"
     ]
    },
    {
     "name": "stdout",
     "output_type": "stream",
     "text": [
      ": "
     ]
    },
    {
     "name": "stdout",
     "output_type": "stream",
     "text": [
      "["
     ]
    },
    {
     "name": "stdout",
     "output_type": "stream",
     "text": [
      "'Rwanda'"
     ]
    },
    {
     "name": "stdout",
     "output_type": "stream",
     "text": [
      ", "
     ]
    },
    {
     "name": "stdout",
     "output_type": "stream",
     "text": [
      "'Spain'"
     ]
    },
    {
     "name": "stdout",
     "output_type": "stream",
     "text": [
      ", "
     ]
    },
    {
     "name": "stdout",
     "output_type": "stream",
     "text": [
      "'Zimbabwe'"
     ]
    },
    {
     "name": "stdout",
     "output_type": "stream",
     "text": [
      ", "
     ]
    },
    {
     "name": "stdout",
     "output_type": "stream",
     "text": [
      "'Colombia'"
     ]
    },
    {
     "name": "stdout",
     "output_type": "stream",
     "text": [
      ", "
     ]
    },
    {
     "name": "stdout",
     "output_type": "stream",
     "text": [
      "'Ethiopia'"
     ]
    },
    {
     "name": "stdout",
     "output_type": "stream",
     "text": [
      ", "
     ]
    },
    {
     "name": "stdout",
     "output_type": "stream",
     "text": [
      "'Slovakia'"
     ]
    },
    {
     "name": "stdout",
     "output_type": "stream",
     "text": [
      ",\n",
      "     "
     ]
    },
    {
     "name": "stdout",
     "output_type": "stream",
     "text": [
      "'Philippines'"
     ]
    },
    {
     "name": "stdout",
     "output_type": "stream",
     "text": [
      ", "
     ]
    },
    {
     "name": "stdout",
     "output_type": "stream",
     "text": [
      "'Australia'"
     ]
    },
    {
     "name": "stdout",
     "output_type": "stream",
     "text": [
      ", "
     ]
    },
    {
     "name": "stdout",
     "output_type": "stream",
     "text": [
      "'Equatorial Guinea'"
     ]
    },
    {
     "name": "stdout",
     "output_type": "stream",
     "text": [
      ", "
     ]
    },
    {
     "name": "stdout",
     "output_type": "stream",
     "text": [
      "'Cameroon'"
     ]
    },
    {
     "name": "stdout",
     "output_type": "stream",
     "text": [
      ", "
     ]
    },
    {
     "name": "stdout",
     "output_type": "stream",
     "text": [
      "'Mozambique'"
     ]
    },
    {
     "name": "stdout",
     "output_type": "stream",
     "text": [
      ",\n",
      "     "
     ]
    },
    {
     "name": "stdout",
     "output_type": "stream",
     "text": [
      "'Malawi'"
     ]
    },
    {
     "name": "stdout",
     "output_type": "stream",
     "text": [
      ", "
     ]
    },
    {
     "name": "stdout",
     "output_type": "stream",
     "text": [
      "'Palestine'"
     ]
    },
    {
     "name": "stdout",
     "output_type": "stream",
     "text": [
      ", "
     ]
    },
    {
     "name": "stdout",
     "output_type": "stream",
     "text": [
      "'India'"
     ]
    },
    {
     "name": "stdout",
     "output_type": "stream",
     "text": [
      ", "
     ]
    },
    {
     "name": "stdout",
     "output_type": "stream",
     "text": [
      "'Thailand'"
     ]
    },
    {
     "name": "stdout",
     "output_type": "stream",
     "text": [
      ", "
     ]
    },
    {
     "name": "stdout",
     "output_type": "stream",
     "text": [
      "'Maldives'"
     ]
    },
    {
     "name": "stdout",
     "output_type": "stream",
     "text": [
      ", "
     ]
    },
    {
     "name": "stdout",
     "output_type": "stream",
     "text": [
      "'Paraguay'"
     ]
    },
    {
     "name": "stdout",
     "output_type": "stream",
     "text": [
      ",\n",
      "     "
     ]
    },
    {
     "name": "stdout",
     "output_type": "stream",
     "text": [
      "'Zambia'"
     ]
    },
    {
     "name": "stdout",
     "output_type": "stream",
     "text": [
      ", "
     ]
    },
    {
     "name": "stdout",
     "output_type": "stream",
     "text": [
      "'Barbados'"
     ]
    },
    {
     "name": "stdout",
     "output_type": "stream",
     "text": [
      ", "
     ]
    },
    {
     "name": "stdout",
     "output_type": "stream",
     "text": [
      "'Kosovo'"
     ]
    },
    {
     "name": "stdout",
     "output_type": "stream",
     "text": [
      ", "
     ]
    },
    {
     "name": "stdout",
     "output_type": "stream",
     "text": [
      "'Kenya'"
     ]
    },
    {
     "name": "stdout",
     "output_type": "stream",
     "text": [
      ", "
     ]
    },
    {
     "name": "stdout",
     "output_type": "stream",
     "text": [
      "'Syria'"
     ]
    },
    {
     "name": "stdout",
     "output_type": "stream",
     "text": [
      ", "
     ]
    },
    {
     "name": "stdout",
     "output_type": "stream",
     "text": [
      "'Taiwan'"
     ]
    },
    {
     "name": "stdout",
     "output_type": "stream",
     "text": [
      ", "
     ]
    },
    {
     "name": "stdout",
     "output_type": "stream",
     "text": [
      "'Bhutan'"
     ]
    },
    {
     "name": "stdout",
     "output_type": "stream",
     "text": [
      ",\n",
      "     "
     ]
    },
    {
     "name": "stdout",
     "output_type": "stream",
     "text": [
      "'Montenegro'"
     ]
    },
    {
     "name": "stdout",
     "output_type": "stream",
     "text": [
      ", "
     ]
    },
    {
     "name": "stdout",
     "output_type": "stream",
     "text": [
      "'Guatemala'"
     ]
    },
    {
     "name": "stdout",
     "output_type": "stream",
     "text": [
      ", "
     ]
    },
    {
     "name": "stdout",
     "output_type": "stream",
     "text": [
      "'Comoros'"
     ]
    },
    {
     "name": "stdout",
     "output_type": "stream",
     "text": [
      ", "
     ]
    },
    {
     "name": "stdout",
     "output_type": "stream",
     "text": [
      "'New Zealand'"
     ]
    },
    {
     "name": "stdout",
     "output_type": "stream",
     "text": [
      ",\n",
      "     "
     ]
    },
    {
     "name": "stdout",
     "output_type": "stream",
     "text": [
      "'Saint Vincent and the Grenadines'"
     ]
    },
    {
     "name": "stdout",
     "output_type": "stream",
     "text": [
      ", "
     ]
    },
    {
     "name": "stdout",
     "output_type": "stream",
     "text": [
      "'San Marino'"
     ]
    },
    {
     "name": "stdout",
     "output_type": "stream",
     "text": [
      ", "
     ]
    },
    {
     "name": "stdout",
     "output_type": "stream",
     "text": [
      "'Eritrea'"
     ]
    },
    {
     "name": "stdout",
     "output_type": "stream",
     "text": [
      ", "
     ]
    },
    {
     "name": "stdout",
     "output_type": "stream",
     "text": [
      "'Afghanistan'"
     ]
    },
    {
     "name": "stdout",
     "output_type": "stream",
     "text": [
      ",\n",
      "     "
     ]
    },
    {
     "name": "stdout",
     "output_type": "stream",
     "text": [
      "'Morocco'"
     ]
    },
    {
     "name": "stdout",
     "output_type": "stream",
     "text": [
      ", "
     ]
    },
    {
     "name": "stdout",
     "output_type": "stream",
     "text": [
      "'Madagascar'"
     ]
    },
    {
     "name": "stdout",
     "output_type": "stream",
     "text": [
      ", "
     ]
    },
    {
     "name": "stdout",
     "output_type": "stream",
     "text": [
      "'Cyprus'"
     ]
    },
    {
     "name": "stdout",
     "output_type": "stream",
     "text": [
      ", "
     ]
    },
    {
     "name": "stdout",
     "output_type": "stream",
     "text": [
      "'Guinea-Bissau'"
     ]
    },
    {
     "name": "stdout",
     "output_type": "stream",
     "text": [
      ", "
     ]
    },
    {
     "name": "stdout",
     "output_type": "stream",
     "text": [
      "'Saint Lucia'"
     ]
    },
    {
     "name": "stdout",
     "output_type": "stream",
     "text": [
      ",\n",
      "     "
     ]
    },
    {
     "name": "stdout",
     "output_type": "stream",
     "text": [
      "'Iceland'"
     ]
    },
    {
     "name": "stdout",
     "output_type": "stream",
     "text": [
      "]"
     ]
    },
    {
     "name": "stdout",
     "output_type": "stream",
     "text": [
      ",\n",
      " "
     ]
    },
    {
     "name": "stdout",
     "output_type": "stream",
     "text": [
      "8"
     ]
    },
    {
     "name": "stdout",
     "output_type": "stream",
     "text": [
      ": "
     ]
    },
    {
     "name": "stdout",
     "output_type": "stream",
     "text": [
      "["
     ]
    },
    {
     "name": "stdout",
     "output_type": "stream",
     "text": [
      "'Tajikistan'"
     ]
    },
    {
     "name": "stdout",
     "output_type": "stream",
     "text": [
      ", "
     ]
    },
    {
     "name": "stdout",
     "output_type": "stream",
     "text": [
      "'Oman'"
     ]
    },
    {
     "name": "stdout",
     "output_type": "stream",
     "text": [
      ", "
     ]
    },
    {
     "name": "stdout",
     "output_type": "stream",
     "text": [
      "'Niger'"
     ]
    },
    {
     "name": "stdout",
     "output_type": "stream",
     "text": [
      ", "
     ]
    },
    {
     "name": "stdout",
     "output_type": "stream",
     "text": [
      "'Israel'"
     ]
    },
    {
     "name": "stdout",
     "output_type": "stream",
     "text": [
      ", "
     ]
    },
    {
     "name": "stdout",
     "output_type": "stream",
     "text": [
      "'Mauritania'"
     ]
    },
    {
     "name": "stdout",
     "output_type": "stream",
     "text": [
      ", "
     ]
    },
    {
     "name": "stdout",
     "output_type": "stream",
     "text": [
      "'Djibouti'"
     ]
    },
    {
     "name": "stdout",
     "output_type": "stream",
     "text": [
      ",\n",
      "     "
     ]
    },
    {
     "name": "stdout",
     "output_type": "stream",
     "text": [
      "'Sri Lanka'"
     ]
    },
    {
     "name": "stdout",
     "output_type": "stream",
     "text": [
      ", "
     ]
    },
    {
     "name": "stdout",
     "output_type": "stream",
     "text": [
      "'Congo'"
     ]
    },
    {
     "name": "stdout",
     "output_type": "stream",
     "text": [
      ", "
     ]
    },
    {
     "name": "stdout",
     "output_type": "stream",
     "text": [
      "'Japan'"
     ]
    },
    {
     "name": "stdout",
     "output_type": "stream",
     "text": [
      ", "
     ]
    },
    {
     "name": "stdout",
     "output_type": "stream",
     "text": [
      "'Bosnia and Herzegovina'"
     ]
    },
    {
     "name": "stdout",
     "output_type": "stream",
     "text": [
      ", "
     ]
    },
    {
     "name": "stdout",
     "output_type": "stream",
     "text": [
      "'Costa Rica'"
     ]
    },
    {
     "name": "stdout",
     "output_type": "stream",
     "text": [
      ",\n",
      "     "
     ]
    },
    {
     "name": "stdout",
     "output_type": "stream",
     "text": [
      "'South Africa'"
     ]
    },
    {
     "name": "stdout",
     "output_type": "stream",
     "text": [
      ", "
     ]
    },
    {
     "name": "stdout",
     "output_type": "stream",
     "text": [
      "'Sierra Leone'"
     ]
    },
    {
     "name": "stdout",
     "output_type": "stream",
     "text": [
      ", "
     ]
    },
    {
     "name": "stdout",
     "output_type": "stream",
     "text": [
      "'Nicaragua'"
     ]
    },
    {
     "name": "stdout",
     "output_type": "stream",
     "text": [
      ", "
     ]
    },
    {
     "name": "stdout",
     "output_type": "stream",
     "text": [
      "'Slovenia'"
     ]
    },
    {
     "name": "stdout",
     "output_type": "stream",
     "text": [
      ", "
     ]
    },
    {
     "name": "stdout",
     "output_type": "stream",
     "text": [
      "'Nepal'"
     ]
    },
    {
     "name": "stdout",
     "output_type": "stream",
     "text": [
      ",\n",
      "     "
     ]
    },
    {
     "name": "stdout",
     "output_type": "stream",
     "text": [
      "'Bermuda'"
     ]
    },
    {
     "name": "stdout",
     "output_type": "stream",
     "text": [
      ", "
     ]
    },
    {
     "name": "stdout",
     "output_type": "stream",
     "text": [
      "'Chad'"
     ]
    },
    {
     "name": "stdout",
     "output_type": "stream",
     "text": [
      ", "
     ]
    },
    {
     "name": "stdout",
     "output_type": "stream",
     "text": [
      "'Suriname'"
     ]
    },
    {
     "name": "stdout",
     "output_type": "stream",
     "text": [
      ", "
     ]
    },
    {
     "name": "stdout",
     "output_type": "stream",
     "text": [
      "'Georgia'"
     ]
    },
    {
     "name": "stdout",
     "output_type": "stream",
     "text": [
      ", "
     ]
    },
    {
     "name": "stdout",
     "output_type": "stream",
     "text": [
      "'Burundi'"
     ]
    },
    {
     "name": "stdout",
     "output_type": "stream",
     "text": [
      ", "
     ]
    },
    {
     "name": "stdout",
     "output_type": "stream",
     "text": [
      "'Romania'"
     ]
    },
    {
     "name": "stdout",
     "output_type": "stream",
     "text": [
      ",\n",
      "     "
     ]
    },
    {
     "name": "stdout",
     "output_type": "stream",
     "text": [
      "'Argentina'"
     ]
    },
    {
     "name": "stdout",
     "output_type": "stream",
     "text": [
      ", "
     ]
    },
    {
     "name": "stdout",
     "output_type": "stream",
     "text": [
      "'Swaziland'"
     ]
    },
    {
     "name": "stdout",
     "output_type": "stream",
     "text": [
      ", "
     ]
    },
    {
     "name": "stdout",
     "output_type": "stream",
     "text": [
      "'Uruguay'"
     ]
    },
    {
     "name": "stdout",
     "output_type": "stream",
     "text": [
      ", "
     ]
    },
    {
     "name": "stdout",
     "output_type": "stream",
     "text": [
      "'Ghana'"
     ]
    },
    {
     "name": "stdout",
     "output_type": "stream",
     "text": [
      ", "
     ]
    },
    {
     "name": "stdout",
     "output_type": "stream",
     "text": [
      "'Greece'"
     ]
    },
    {
     "name": "stdout",
     "output_type": "stream",
     "text": [
      "]"
     ]
    },
    {
     "name": "stdout",
     "output_type": "stream",
     "text": [
      ",\n",
      " "
     ]
    },
    {
     "name": "stdout",
     "output_type": "stream",
     "text": [
      "9"
     ]
    },
    {
     "name": "stdout",
     "output_type": "stream",
     "text": [
      ": "
     ]
    },
    {
     "name": "stdout",
     "output_type": "stream",
     "text": [
      "["
     ]
    },
    {
     "name": "stdout",
     "output_type": "stream",
     "text": [
      "'Germany'"
     ]
    },
    {
     "name": "stdout",
     "output_type": "stream",
     "text": [
      ", "
     ]
    },
    {
     "name": "stdout",
     "output_type": "stream",
     "text": [
      "'Benin'"
     ]
    },
    {
     "name": "stdout",
     "output_type": "stream",
     "text": [
      ", "
     ]
    },
    {
     "name": "stdout",
     "output_type": "stream",
     "text": [
      "'Ukraine'"
     ]
    },
    {
     "name": "stdout",
     "output_type": "stream",
     "text": [
      ", "
     ]
    },
    {
     "name": "stdout",
     "output_type": "stream",
     "text": [
      "'Qatar'"
     ]
    },
    {
     "name": "stdout",
     "output_type": "stream",
     "text": [
      ", "
     ]
    },
    {
     "name": "stdout",
     "output_type": "stream",
     "text": [
      "'Albania'"
     ]
    },
    {
     "name": "stdout",
     "output_type": "stream",
     "text": [
      ", "
     ]
    },
    {
     "name": "stdout",
     "output_type": "stream",
     "text": [
      "'Azerbaijan'"
     ]
    },
    {
     "name": "stdout",
     "output_type": "stream",
     "text": [
      ", "
     ]
    },
    {
     "name": "stdout",
     "output_type": "stream",
     "text": [
      "'China'"
     ]
    },
    {
     "name": "stdout",
     "output_type": "stream",
     "text": [
      ",\n",
      "     "
     ]
    },
    {
     "name": "stdout",
     "output_type": "stream",
     "text": [
      "'Canada'"
     ]
    },
    {
     "name": "stdout",
     "output_type": "stream",
     "text": [
      ", "
     ]
    },
    {
     "name": "stdout",
     "output_type": "stream",
     "text": [
      "'Armenia'"
     ]
    },
    {
     "name": "stdout",
     "output_type": "stream",
     "text": [
      ", "
     ]
    },
    {
     "name": "stdout",
     "output_type": "stream",
     "text": [
      "'Pakistan'"
     ]
    },
    {
     "name": "stdout",
     "output_type": "stream",
     "text": [
      ", "
     ]
    },
    {
     "name": "stdout",
     "output_type": "stream",
     "text": [
      "'Ecuador'"
     ]
    },
    {
     "name": "stdout",
     "output_type": "stream",
     "text": [
      ", "
     ]
    },
    {
     "name": "stdout",
     "output_type": "stream",
     "text": [
      "'Mali'"
     ]
    },
    {
     "name": "stdout",
     "output_type": "stream",
     "text": [
      ", "
     ]
    },
    {
     "name": "stdout",
     "output_type": "stream",
     "text": [
      "'Chile'"
     ]
    },
    {
     "name": "stdout",
     "output_type": "stream",
     "text": [
      ", "
     ]
    },
    {
     "name": "stdout",
     "output_type": "stream",
     "text": [
      "'Austria'"
     ]
    },
    {
     "name": "stdout",
     "output_type": "stream",
     "text": [
      ",\n",
      "     "
     ]
    },
    {
     "name": "stdout",
     "output_type": "stream",
     "text": [
      "'Cape Verde'"
     ]
    },
    {
     "name": "stdout",
     "output_type": "stream",
     "text": [
      ", "
     ]
    },
    {
     "name": "stdout",
     "output_type": "stream",
     "text": [
      "'Andorra'"
     ]
    },
    {
     "name": "stdout",
     "output_type": "stream",
     "text": [
      ", "
     ]
    },
    {
     "name": "stdout",
     "output_type": "stream",
     "text": [
      "'Iraq'"
     ]
    },
    {
     "name": "stdout",
     "output_type": "stream",
     "text": [
      ", "
     ]
    },
    {
     "name": "stdout",
     "output_type": "stream",
     "text": [
      "'Belarus'"
     ]
    },
    {
     "name": "stdout",
     "output_type": "stream",
     "text": [
      ", "
     ]
    },
    {
     "name": "stdout",
     "output_type": "stream",
     "text": [
      "'Korea, South'"
     ]
    },
    {
     "name": "stdout",
     "output_type": "stream",
     "text": [
      ", "
     ]
    },
    {
     "name": "stdout",
     "output_type": "stream",
     "text": [
      "'Finland'"
     ]
    },
    {
     "name": "stdout",
     "output_type": "stream",
     "text": [
      ",\n",
      "     "
     ]
    },
    {
     "name": "stdout",
     "output_type": "stream",
     "text": [
      "'Luxembourg'"
     ]
    },
    {
     "name": "stdout",
     "output_type": "stream",
     "text": [
      ", "
     ]
    },
    {
     "name": "stdout",
     "output_type": "stream",
     "text": [
      "'El Salvador'"
     ]
    },
    {
     "name": "stdout",
     "output_type": "stream",
     "text": [
      ", "
     ]
    },
    {
     "name": "stdout",
     "output_type": "stream",
     "text": [
      "'Uzbekistan'"
     ]
    },
    {
     "name": "stdout",
     "output_type": "stream",
     "text": [
      ", "
     ]
    },
    {
     "name": "stdout",
     "output_type": "stream",
     "text": [
      "'Haiti'"
     ]
    },
    {
     "name": "stdout",
     "output_type": "stream",
     "text": [
      ", "
     ]
    },
    {
     "name": "stdout",
     "output_type": "stream",
     "text": [
      "'Somalia'"
     ]
    },
    {
     "name": "stdout",
     "output_type": "stream",
     "text": [
      ",\n",
      "     "
     ]
    },
    {
     "name": "stdout",
     "output_type": "stream",
     "text": [
      "'Czech Republic'"
     ]
    },
    {
     "name": "stdout",
     "output_type": "stream",
     "text": [
      ", "
     ]
    },
    {
     "name": "stdout",
     "output_type": "stream",
     "text": [
      "'Lithuania'"
     ]
    },
    {
     "name": "stdout",
     "output_type": "stream",
     "text": [
      ", "
     ]
    },
    {
     "name": "stdout",
     "output_type": "stream",
     "text": [
      "'Sudan'"
     ]
    },
    {
     "name": "stdout",
     "output_type": "stream",
     "text": [
      ", "
     ]
    },
    {
     "name": "stdout",
     "output_type": "stream",
     "text": [
      "'Liberia'"
     ]
    },
    {
     "name": "stdout",
     "output_type": "stream",
     "text": [
      ", "
     ]
    },
    {
     "name": "stdout",
     "output_type": "stream",
     "text": [
      "'Indonesia'"
     ]
    },
    {
     "name": "stdout",
     "output_type": "stream",
     "text": [
      "]"
     ]
    },
    {
     "name": "stdout",
     "output_type": "stream",
     "text": [
      ",\n",
      " "
     ]
    },
    {
     "name": "stdout",
     "output_type": "stream",
     "text": [
      "10"
     ]
    },
    {
     "name": "stdout",
     "output_type": "stream",
     "text": [
      ": "
     ]
    },
    {
     "name": "stdout",
     "output_type": "stream",
     "text": [
      "["
     ]
    },
    {
     "name": "stdout",
     "output_type": "stream",
     "text": [
      "'Nigeria'"
     ]
    },
    {
     "name": "stdout",
     "output_type": "stream",
     "text": [
      ", "
     ]
    },
    {
     "name": "stdout",
     "output_type": "stream",
     "text": [
      "'Egypt'"
     ]
    },
    {
     "name": "stdout",
     "output_type": "stream",
     "text": [
      ", "
     ]
    },
    {
     "name": "stdout",
     "output_type": "stream",
     "text": [
      "'Poland'"
     ]
    },
    {
     "name": "stdout",
     "output_type": "stream",
     "text": [
      ", "
     ]
    },
    {
     "name": "stdout",
     "output_type": "stream",
     "text": [
      "'Belgium'"
     ]
    },
    {
     "name": "stdout",
     "output_type": "stream",
     "text": [
      ", "
     ]
    },
    {
     "name": "stdout",
     "output_type": "stream",
     "text": [
      "'Panama'"
     ]
    },
    {
     "name": "stdout",
     "output_type": "stream",
     "text": [
      ", "
     ]
    },
    {
     "name": "stdout",
     "output_type": "stream",
     "text": [
      "'Estonia'"
     ]
    },
    {
     "name": "stdout",
     "output_type": "stream",
     "text": [
      ",\n",
      "      "
     ]
    },
    {
     "name": "stdout",
     "output_type": "stream",
     "text": [
      "'Saudi Arabia'"
     ]
    },
    {
     "name": "stdout",
     "output_type": "stream",
     "text": [
      ", "
     ]
    },
    {
     "name": "stdout",
     "output_type": "stream",
     "text": [
      "'Gabon'"
     ]
    },
    {
     "name": "stdout",
     "output_type": "stream",
     "text": [
      ", "
     ]
    },
    {
     "name": "stdout",
     "output_type": "stream",
     "text": [
      "'Honduras'"
     ]
    },
    {
     "name": "stdout",
     "output_type": "stream",
     "text": [
      ", "
     ]
    },
    {
     "name": "stdout",
     "output_type": "stream",
     "text": [
      "'Latvia'"
     ]
    },
    {
     "name": "stdout",
     "output_type": "stream",
     "text": [
      ", "
     ]
    },
    {
     "name": "stdout",
     "output_type": "stream",
     "text": [
      "'Cuba'"
     ]
    },
    {
     "name": "stdout",
     "output_type": "stream",
     "text": [
      ",\n",
      "      "
     ]
    },
    {
     "name": "stdout",
     "output_type": "stream",
     "text": [
      "'Dominican Republic'"
     ]
    },
    {
     "name": "stdout",
     "output_type": "stream",
     "text": [
      ", "
     ]
    },
    {
     "name": "stdout",
     "output_type": "stream",
     "text": [
      "'Algeria'"
     ]
    },
    {
     "name": "stdout",
     "output_type": "stream",
     "text": [
      ", "
     ]
    },
    {
     "name": "stdout",
     "output_type": "stream",
     "text": [
      "'Switzerland'"
     ]
    },
    {
     "name": "stdout",
     "output_type": "stream",
     "text": [
      ", "
     ]
    },
    {
     "name": "stdout",
     "output_type": "stream",
     "text": [
      "'Togo'"
     ]
    },
    {
     "name": "stdout",
     "output_type": "stream",
     "text": [
      ", "
     ]
    },
    {
     "name": "stdout",
     "output_type": "stream",
     "text": [
      "'Bulgaria'"
     ]
    },
    {
     "name": "stdout",
     "output_type": "stream",
     "text": [
      ",\n",
      "      "
     ]
    },
    {
     "name": "stdout",
     "output_type": "stream",
     "text": [
      "'Serbia'"
     ]
    },
    {
     "name": "stdout",
     "output_type": "stream",
     "text": [
      ", "
     ]
    },
    {
     "name": "stdout",
     "output_type": "stream",
     "text": [
      "'Singapore'"
     ]
    },
    {
     "name": "stdout",
     "output_type": "stream",
     "text": [
      ", "
     ]
    },
    {
     "name": "stdout",
     "output_type": "stream",
     "text": [
      "'Malaysia'"
     ]
    },
    {
     "name": "stdout",
     "output_type": "stream",
     "text": [
      ", "
     ]
    },
    {
     "name": "stdout",
     "output_type": "stream",
     "text": [
      "'Bangladesh'"
     ]
    },
    {
     "name": "stdout",
     "output_type": "stream",
     "text": [
      ", "
     ]
    },
    {
     "name": "stdout",
     "output_type": "stream",
     "text": [
      "'Denmark'"
     ]
    },
    {
     "name": "stdout",
     "output_type": "stream",
     "text": [
      ",\n",
      "      "
     ]
    },
    {
     "name": "stdout",
     "output_type": "stream",
     "text": [
      "'Burkina Faso'"
     ]
    },
    {
     "name": "stdout",
     "output_type": "stream",
     "text": [
      ", "
     ]
    },
    {
     "name": "stdout",
     "output_type": "stream",
     "text": [
      "'Moldova'"
     ]
    },
    {
     "name": "stdout",
     "output_type": "stream",
     "text": [
      ", "
     ]
    },
    {
     "name": "stdout",
     "output_type": "stream",
     "text": [
      "'Macedonia'"
     ]
    },
    {
     "name": "stdout",
     "output_type": "stream",
     "text": [
      ", "
     ]
    },
    {
     "name": "stdout",
     "output_type": "stream",
     "text": [
      "'Senegal'"
     ]
    },
    {
     "name": "stdout",
     "output_type": "stream",
     "text": [
      "]"
     ]
    },
    {
     "name": "stdout",
     "output_type": "stream",
     "text": [
      ",\n",
      " "
     ]
    },
    {
     "name": "stdout",
     "output_type": "stream",
     "text": [
      "11"
     ]
    },
    {
     "name": "stdout",
     "output_type": "stream",
     "text": [
      ": "
     ]
    },
    {
     "name": "stdout",
     "output_type": "stream",
     "text": [
      "["
     ]
    },
    {
     "name": "stdout",
     "output_type": "stream",
     "text": [
      "'Brazil'"
     ]
    },
    {
     "name": "stdout",
     "output_type": "stream",
     "text": [
      ", "
     ]
    },
    {
     "name": "stdout",
     "output_type": "stream",
     "text": [
      "'Bolivia'"
     ]
    },
    {
     "name": "stdout",
     "output_type": "stream",
     "text": [
      ", "
     ]
    },
    {
     "name": "stdout",
     "output_type": "stream",
     "text": [
      "'Mexico'"
     ]
    },
    {
     "name": "stdout",
     "output_type": "stream",
     "text": [
      ", "
     ]
    },
    {
     "name": "stdout",
     "output_type": "stream",
     "text": [
      "'Bahrain'"
     ]
    },
    {
     "name": "stdout",
     "output_type": "stream",
     "text": [
      ", "
     ]
    },
    {
     "name": "stdout",
     "output_type": "stream",
     "text": [
      "'Guinea'"
     ]
    },
    {
     "name": "stdout",
     "output_type": "stream",
     "text": [
      ", "
     ]
    },
    {
     "name": "stdout",
     "output_type": "stream",
     "text": [
      "'Hungary'"
     ]
    },
    {
     "name": "stdout",
     "output_type": "stream",
     "text": [
      ", "
     ]
    },
    {
     "name": "stdout",
     "output_type": "stream",
     "text": [
      "'Kuwait'"
     ]
    },
    {
     "name": "stdout",
     "output_type": "stream",
     "text": [
      ",\n",
      "      "
     ]
    },
    {
     "name": "stdout",
     "output_type": "stream",
     "text": [
      "'United States'"
     ]
    },
    {
     "name": "stdout",
     "output_type": "stream",
     "text": [
      ", "
     ]
    },
    {
     "name": "stdout",
     "output_type": "stream",
     "text": [
      "'Iran'"
     ]
    },
    {
     "name": "stdout",
     "output_type": "stream",
     "text": [
      ", "
     ]
    },
    {
     "name": "stdout",
     "output_type": "stream",
     "text": [
      "'Portugal'"
     ]
    },
    {
     "name": "stdout",
     "output_type": "stream",
     "text": [
      ", "
     ]
    },
    {
     "name": "stdout",
     "output_type": "stream",
     "text": [
      "'Turkey'"
     ]
    },
    {
     "name": "stdout",
     "output_type": "stream",
     "text": [
      ", "
     ]
    },
    {
     "name": "stdout",
     "output_type": "stream",
     "text": [
      "'Peru'"
     ]
    },
    {
     "name": "stdout",
     "output_type": "stream",
     "text": [
      ", "
     ]
    },
    {
     "name": "stdout",
     "output_type": "stream",
     "text": [
      "'Italy'"
     ]
    },
    {
     "name": "stdout",
     "output_type": "stream",
     "text": [
      "]"
     ]
    },
    {
     "name": "stdout",
     "output_type": "stream",
     "text": [
      ",\n",
      " "
     ]
    },
    {
     "name": "stdout",
     "output_type": "stream",
     "text": [
      "12"
     ]
    },
    {
     "name": "stdout",
     "output_type": "stream",
     "text": [
      ": "
     ]
    },
    {
     "name": "stdout",
     "output_type": "stream",
     "text": [
      "['France', 'United Arab Emirates']"
     ]
    },
    {
     "name": "stdout",
     "output_type": "stream",
     "text": [
      ",\n",
      " "
     ]
    },
    {
     "name": "stdout",
     "output_type": "stream",
     "text": [
      "13"
     ]
    },
    {
     "name": "stdout",
     "output_type": "stream",
     "text": [
      ": "
     ]
    },
    {
     "name": "stdout",
     "output_type": "stream",
     "text": [
      "['Russia']"
     ]
    },
    {
     "name": "stdout",
     "output_type": "stream",
     "text": [
      "}"
     ]
    },
    {
     "name": "stdout",
     "output_type": "stream",
     "text": [
      "\n"
     ]
    }
   ],
   "source": [
    "# Show the number of phases of all countries\n",
    "analyser.trend()\n",
    "pprint(analyser.phase_len(), compact=True)"
   ]
  },
  {
   "cell_type": "code",
   "execution_count": 8,
   "metadata": {
    "collapsed": false
   },
   "outputs": [
    {
     "data": {
      "text/plain": [
       "16"
      ]
     },
     "execution_count": 8,
     "metadata": {},
     "output_type": "execute_result"
    }
   ],
   "source": [
    "# Set phases with S-R trend analysis\n",
    "analyser.trend(min_len=11)\n",
    "# The number of countries\n",
    "len(analyser.countries)"
   ]
  },
  {
   "cell_type": "code",
   "execution_count": 9,
   "metadata": {
    "collapsed": false,
    "tags": []
   },
   "outputs": [
    {
     "name": "stdout",
     "output_type": "stream",
     "text": [
      "{"
     ]
    },
    {
     "name": "stdout",
     "output_type": "stream",
     "text": [
      "11"
     ]
    },
    {
     "name": "stdout",
     "output_type": "stream",
     "text": [
      ": "
     ]
    },
    {
     "name": "stdout",
     "output_type": "stream",
     "text": [
      "["
     ]
    },
    {
     "name": "stdout",
     "output_type": "stream",
     "text": [
      "'Brazil'"
     ]
    },
    {
     "name": "stdout",
     "output_type": "stream",
     "text": [
      ", "
     ]
    },
    {
     "name": "stdout",
     "output_type": "stream",
     "text": [
      "'Bolivia'"
     ]
    },
    {
     "name": "stdout",
     "output_type": "stream",
     "text": [
      ", "
     ]
    },
    {
     "name": "stdout",
     "output_type": "stream",
     "text": [
      "'Mexico'"
     ]
    },
    {
     "name": "stdout",
     "output_type": "stream",
     "text": [
      ", "
     ]
    },
    {
     "name": "stdout",
     "output_type": "stream",
     "text": [
      "'Bahrain'"
     ]
    },
    {
     "name": "stdout",
     "output_type": "stream",
     "text": [
      ", "
     ]
    },
    {
     "name": "stdout",
     "output_type": "stream",
     "text": [
      "'Guinea'"
     ]
    },
    {
     "name": "stdout",
     "output_type": "stream",
     "text": [
      ", "
     ]
    },
    {
     "name": "stdout",
     "output_type": "stream",
     "text": [
      "'Hungary'"
     ]
    },
    {
     "name": "stdout",
     "output_type": "stream",
     "text": [
      ", "
     ]
    },
    {
     "name": "stdout",
     "output_type": "stream",
     "text": [
      "'Kuwait'"
     ]
    },
    {
     "name": "stdout",
     "output_type": "stream",
     "text": [
      ",\n",
      "      "
     ]
    },
    {
     "name": "stdout",
     "output_type": "stream",
     "text": [
      "'United States'"
     ]
    },
    {
     "name": "stdout",
     "output_type": "stream",
     "text": [
      ", "
     ]
    },
    {
     "name": "stdout",
     "output_type": "stream",
     "text": [
      "'Iran'"
     ]
    },
    {
     "name": "stdout",
     "output_type": "stream",
     "text": [
      ", "
     ]
    },
    {
     "name": "stdout",
     "output_type": "stream",
     "text": [
      "'Portugal'"
     ]
    },
    {
     "name": "stdout",
     "output_type": "stream",
     "text": [
      ", "
     ]
    },
    {
     "name": "stdout",
     "output_type": "stream",
     "text": [
      "'Turkey'"
     ]
    },
    {
     "name": "stdout",
     "output_type": "stream",
     "text": [
      ", "
     ]
    },
    {
     "name": "stdout",
     "output_type": "stream",
     "text": [
      "'Peru'"
     ]
    },
    {
     "name": "stdout",
     "output_type": "stream",
     "text": [
      ", "
     ]
    },
    {
     "name": "stdout",
     "output_type": "stream",
     "text": [
      "'Italy'"
     ]
    },
    {
     "name": "stdout",
     "output_type": "stream",
     "text": [
      "]"
     ]
    },
    {
     "name": "stdout",
     "output_type": "stream",
     "text": [
      ",\n",
      " "
     ]
    },
    {
     "name": "stdout",
     "output_type": "stream",
     "text": [
      "12"
     ]
    },
    {
     "name": "stdout",
     "output_type": "stream",
     "text": [
      ": "
     ]
    },
    {
     "name": "stdout",
     "output_type": "stream",
     "text": [
      "['France', 'United Arab Emirates']"
     ]
    },
    {
     "name": "stdout",
     "output_type": "stream",
     "text": [
      ",\n",
      " "
     ]
    },
    {
     "name": "stdout",
     "output_type": "stream",
     "text": [
      "13"
     ]
    },
    {
     "name": "stdout",
     "output_type": "stream",
     "text": [
      ": "
     ]
    },
    {
     "name": "stdout",
     "output_type": "stream",
     "text": [
      "['Russia']"
     ]
    },
    {
     "name": "stdout",
     "output_type": "stream",
     "text": [
      "}"
     ]
    },
    {
     "name": "stdout",
     "output_type": "stream",
     "text": [
      "\n"
     ]
    }
   ],
   "source": [
    "phase_len_dict = analyser.phase_len()\n",
    "pprint(phase_len_dict, compact=True)"
   ]
  },
  {
   "cell_type": "code",
   "execution_count": 10,
   "metadata": {
    "collapsed": false,
    "tags": []
   },
   "outputs": [
    {
     "data": {
      "text/html": [
       "<div>\n",
       "<style scoped>\n",
       "    .dataframe tbody tr th:only-of-type {\n",
       "        vertical-align: middle;\n",
       "    }\n",
       "\n",
       "    .dataframe tbody tr th {\n",
       "        vertical-align: top;\n",
       "    }\n",
       "\n",
       "    .dataframe thead th {\n",
       "        text-align: right;\n",
       "    }\n",
       "</style>\n",
       "<table border=\"1\" class=\"dataframe\">\n",
       "  <thead>\n",
       "    <tr style=\"text-align: right;\">\n",
       "      <th></th>\n",
       "      <th></th>\n",
       "      <th>Type</th>\n",
       "      <th>Start</th>\n",
       "      <th>End</th>\n",
       "      <th>Population</th>\n",
       "    </tr>\n",
       "    <tr>\n",
       "      <th>Country</th>\n",
       "      <th>Phase</th>\n",
       "      <th></th>\n",
       "      <th></th>\n",
       "      <th></th>\n",
       "      <th></th>\n",
       "    </tr>\n",
       "  </thead>\n",
       "  <tbody>\n",
       "    <tr>\n",
       "      <th rowspan=\"13\" valign=\"top\">Russia</th>\n",
       "      <th>0th</th>\n",
       "      <td>Past</td>\n",
       "      <td>12Feb2020</td>\n",
       "      <td>06May2020</td>\n",
       "      <td>330457362</td>\n",
       "    </tr>\n",
       "    <tr>\n",
       "      <th>1st</th>\n",
       "      <td>Past</td>\n",
       "      <td>07May2020</td>\n",
       "      <td>15May2020</td>\n",
       "      <td>330457362</td>\n",
       "    </tr>\n",
       "    <tr>\n",
       "      <th>2nd</th>\n",
       "      <td>Past</td>\n",
       "      <td>16May2020</td>\n",
       "      <td>23May2020</td>\n",
       "      <td>330457362</td>\n",
       "    </tr>\n",
       "    <tr>\n",
       "      <th>3rd</th>\n",
       "      <td>Past</td>\n",
       "      <td>24May2020</td>\n",
       "      <td>01Jun2020</td>\n",
       "      <td>330457362</td>\n",
       "    </tr>\n",
       "    <tr>\n",
       "      <th>4th</th>\n",
       "      <td>Past</td>\n",
       "      <td>02Jun2020</td>\n",
       "      <td>11Jun2020</td>\n",
       "      <td>330457362</td>\n",
       "    </tr>\n",
       "    <tr>\n",
       "      <th>5th</th>\n",
       "      <td>Past</td>\n",
       "      <td>12Jun2020</td>\n",
       "      <td>20Jun2020</td>\n",
       "      <td>330457362</td>\n",
       "    </tr>\n",
       "    <tr>\n",
       "      <th>6th</th>\n",
       "      <td>Past</td>\n",
       "      <td>21Jun2020</td>\n",
       "      <td>30Jun2020</td>\n",
       "      <td>330457362</td>\n",
       "    </tr>\n",
       "    <tr>\n",
       "      <th>7th</th>\n",
       "      <td>Past</td>\n",
       "      <td>01Jul2020</td>\n",
       "      <td>12Jul2020</td>\n",
       "      <td>330457362</td>\n",
       "    </tr>\n",
       "    <tr>\n",
       "      <th>8th</th>\n",
       "      <td>Past</td>\n",
       "      <td>13Jul2020</td>\n",
       "      <td>24Jul2020</td>\n",
       "      <td>330457362</td>\n",
       "    </tr>\n",
       "    <tr>\n",
       "      <th>9th</th>\n",
       "      <td>Past</td>\n",
       "      <td>25Jul2020</td>\n",
       "      <td>07Aug2020</td>\n",
       "      <td>330457362</td>\n",
       "    </tr>\n",
       "    <tr>\n",
       "      <th>10th</th>\n",
       "      <td>Past</td>\n",
       "      <td>08Aug2020</td>\n",
       "      <td>22Aug2020</td>\n",
       "      <td>330457362</td>\n",
       "    </tr>\n",
       "    <tr>\n",
       "      <th>11th</th>\n",
       "      <td>Past</td>\n",
       "      <td>23Aug2020</td>\n",
       "      <td>04Sep2020</td>\n",
       "      <td>330457362</td>\n",
       "    </tr>\n",
       "    <tr>\n",
       "      <th>12th</th>\n",
       "      <td>Past</td>\n",
       "      <td>05Sep2020</td>\n",
       "      <td>19Sep2020</td>\n",
       "      <td>330457362</td>\n",
       "    </tr>\n",
       "  </tbody>\n",
       "</table>\n",
       "</div>"
      ],
      "text/plain": [
       "               Type      Start        End  Population\n",
       "Country Phase                                        \n",
       "Russia  0th    Past  12Feb2020  06May2020   330457362\n",
       "        1st    Past  07May2020  15May2020   330457362\n",
       "        2nd    Past  16May2020  23May2020   330457362\n",
       "        3rd    Past  24May2020  01Jun2020   330457362\n",
       "        4th    Past  02Jun2020  11Jun2020   330457362\n",
       "        5th    Past  12Jun2020  20Jun2020   330457362\n",
       "        6th    Past  21Jun2020  30Jun2020   330457362\n",
       "        7th    Past  01Jul2020  12Jul2020   330457362\n",
       "        8th    Past  13Jul2020  24Jul2020   330457362\n",
       "        9th    Past  25Jul2020  07Aug2020   330457362\n",
       "        10th   Past  08Aug2020  22Aug2020   330457362\n",
       "        11th   Past  23Aug2020  04Sep2020   330457362\n",
       "        12th   Past  05Sep2020  19Sep2020   330457362"
      ]
     },
     "execution_count": 10,
     "metadata": {},
     "output_type": "execute_result"
    }
   ],
   "source": [
    "# Here, only show the countries which have the most phases\n",
    "countries_show = max(phase_len_dict.items(), key=lambda x: x[0])[1]\n",
    "# Show summary\n",
    "analyser.summary(countries=countries_show)"
   ]
  },
  {
   "cell_type": "markdown",
   "metadata": {},
   "source": [
    "## Parameter estimation\n",
    "we will estimate the parameter values with SIR-derived ODE models in each country."
   ]
  },
  {
   "cell_type": "code",
   "execution_count": 11,
   "metadata": {
    "collapsed": false,
    "tags": []
   },
   "outputs": [
    {
     "name": "stdout",
     "output_type": "stream",
     "text": [
      "\n",
      "<SIR-F model: parameter estimation>"
     ]
    },
    {
     "name": "stdout",
     "output_type": "stream",
     "text": [
      "\n"
     ]
    },
    {
     "name": "stdout",
     "output_type": "stream",
     "text": [
      "Running optimization with 4 CPUs..."
     ]
    },
    {
     "name": "stdout",
     "output_type": "stream",
     "text": [
      "\n"
     ]
    },
    {
     "name": "stdout",
     "output_type": "stream",
     "text": [
      "\tIRN,  6th phase (01Jul2020 - 14Jul2020): finished  247 trials in 0 min  5 sec"
     ]
    },
    {
     "name": "stdout",
     "output_type": "stream",
     "text": [
      "\n"
     ]
    },
    {
     "name": "stdout",
     "output_type": "stream",
     "text": [
      "\tBRA,  7th phase (06Aug2020 - 13Aug2020): finished  461 trials in 0 min 10 sec"
     ]
    },
    {
     "name": "stdout",
     "output_type": "stream",
     "text": [
      "\n"
     ]
    },
    {
     "name": "stdout",
     "output_type": "stream",
     "text": [
      "\tBRA,  4th phase (09Jul2020 - 20Jul2020): finished  464 trials in 0 min 10 sec"
     ]
    },
    {
     "name": "stdout",
     "output_type": "stream",
     "text": [
      "\n"
     ]
    },
    {
     "name": "stdout",
     "output_type": "stream",
     "text": [
      "\tTUR,  8th phase (04Aug2020 - 19Aug2020): finished  471 trials in 0 min 10 sec"
     ]
    },
    {
     "name": "stdout",
     "output_type": "stream",
     "text": [
      "\n"
     ]
    },
    {
     "name": "stdout",
     "output_type": "stream",
     "text": [
      "\tITA,  8th phase (14Jun2020 - 31Jul2020): finished  646 trials in 0 min 15 sec"
     ]
    },
    {
     "name": "stdout",
     "output_type": "stream",
     "text": [
      "\n"
     ]
    },
    {
     "name": "stdout",
     "output_type": "stream",
     "text": [
      "\tKWT,  6th phase (16Jul2020 - 27Jul2020): finished  248 trials in 0 min  5 sec"
     ]
    },
    {
     "name": "stdout",
     "output_type": "stream",
     "text": [
      "\n"
     ]
    },
    {
     "name": "stdout",
     "output_type": "stream",
     "text": [
      "\tMEX,  7th phase (06Aug2020 - 14Aug2020): finished 1995 trials in 1 min  0 sec"
     ]
    },
    {
     "name": "stdout",
     "output_type": "stream",
     "text": [
      "\n"
     ]
    },
    {
     "name": "stdout",
     "output_type": "stream",
     "text": [
      "\tRUS,  1st phase (07May2020 - 15May2020): finished 2001 trials in 1 min  0 sec"
     ]
    },
    {
     "name": "stdout",
     "output_type": "stream",
     "text": [
      "\n"
     ]
    },
    {
     "name": "stdout",
     "output_type": "stream",
     "text": [
      "\tFRA,  3rd phase (13Apr2020 - 21Apr2020): finished 1968 trials in 1 min  0 sec"
     ]
    },
    {
     "name": "stdout",
     "output_type": "stream",
     "text": [
      "\n"
     ]
    },
    {
     "name": "stdout",
     "output_type": "stream",
     "text": [
      "\tPRT,  0th phase (14Mar2020 - 28Apr2020): finished 1898 trials in 1 min  0 sec"
     ]
    },
    {
     "name": "stdout",
     "output_type": "stream",
     "text": [
      "\n"
     ]
    },
    {
     "name": "stdout",
     "output_type": "stream",
     "text": [
      "\tRUS, 11th phase (23Aug2020 - 04Sep2020): finished 1134 trials in 0 min 30 sec"
     ]
    },
    {
     "name": "stdout",
     "output_type": "stream",
     "text": [
      "\n"
     ]
    },
    {
     "name": "stdout",
     "output_type": "stream",
     "text": [
      "\tFRA,  8th phase (20Jul2020 - 06Aug2020): finished  441 trials in 0 min 10 sec"
     ]
    },
    {
     "name": "stdout",
     "output_type": "stream",
     "text": [
      "\n"
     ]
    },
    {
     "name": "stdout",
     "output_type": "stream",
     "text": [
      "\tTUR,  9th phase (20Aug2020 - 04Sep2020): finished  235 trials in 0 min  5 sec"
     ]
    },
    {
     "name": "stdout",
     "output_type": "stream",
     "text": [
      "\n"
     ]
    },
    {
     "name": "stdout",
     "output_type": "stream",
     "text": [
      "\tUSA,  8th phase (09Aug2020 - 20Aug2020): finished 1916 trials in 1 min  0 sec"
     ]
    },
    {
     "name": "stdout",
     "output_type": "stream",
     "text": [
      "\n"
     ]
    },
    {
     "name": "stdout",
     "output_type": "stream",
     "text": [
      "\tRUS,  8th phase (13Jul2020 - 24Jul2020): finished 1804 trials in 1 min  0 sec"
     ]
    },
    {
     "name": "stdout",
     "output_type": "stream",
     "text": [
      "\n"
     ]
    },
    {
     "name": "stdout",
     "output_type": "stream",
     "text": [
      "\tPER,  6th phase (01Aug2020 - 10Aug2020): finished 1607 trials in 1 min  0 sec"
     ]
    },
    {
     "name": "stdout",
     "output_type": "stream",
     "text": [
      "\n"
     ]
    },
    {
     "name": "stdout",
     "output_type": "stream",
     "text": [
      "\tGIN,  1st phase (01May2020 - 11May2020): finished 1617 trials in 1 min  0 sec"
     ]
    },
    {
     "name": "stdout",
     "output_type": "stream",
     "text": [
      "\n"
     ]
    },
    {
     "name": "stdout",
     "output_type": "stream",
     "text": [
      "\tFRA,  6th phase (28May2020 - 23Jun2020): finished 1419 trials in 1 min  0 sec"
     ]
    },
    {
     "name": "stdout",
     "output_type": "stream",
     "text": [
      "\n"
     ]
    },
    {
     "name": "stdout",
     "output_type": "stream",
     "text": [
      "\tIRN,  9th phase (15Aug2020 - 01Sep2020): finished 1355 trials in 1 min  0 sec"
     ]
    },
    {
     "name": "stdout",
     "output_type": "stream",
     "text": [
      "\n"
     ]
    },
    {
     "name": "stdout",
     "output_type": "stream",
     "text": [
      "\tIRN,  1st phase (30Mar2020 - 17Apr2020): finished 1348 trials in 1 min  0 sec"
     ]
    },
    {
     "name": "stdout",
     "output_type": "stream",
     "text": [
      "\n"
     ]
    },
    {
     "name": "stdout",
     "output_type": "stream",
     "text": [
      "\tARE, 10th phase (02Sep2020 - 09Sep2020): finished 1411 trials in 1 min  0 sec"
     ]
    },
    {
     "name": "stdout",
     "output_type": "stream",
     "text": [
      "\n"
     ]
    },
    {
     "name": "stdout",
     "output_type": "stream",
     "text": [
      "\tPER,  9th phase (28Aug2020 - 07Sep2020): finished 1418 trials in 1 min  0 sec"
     ]
    },
    {
     "name": "stdout",
     "output_type": "stream",
     "text": [
      "\n"
     ]
    },
    {
     "name": "stdout",
     "output_type": "stream",
     "text": [
      "\tHUN,  9th phase (14Aug2020 - 26Aug2020): finished 1236 trials in 0 min 50 sec"
     ]
    },
    {
     "name": "stdout",
     "output_type": "stream",
     "text": [
      "\n"
     ]
    },
    {
     "name": "stdout",
     "output_type": "stream",
     "text": [
      "\tGIN,  6th phase (09Jul2020 - 23Jul2020): finished 1473 trials in 1 min  0 sec"
     ]
    },
    {
     "name": "stdout",
     "output_type": "stream",
     "text": [
      "\n"
     ]
    },
    {
     "name": "stdout",
     "output_type": "stream",
     "text": [
      "\tRUS,  4th phase (02Jun2020 - 11Jun2020): finished 1410 trials in 1 min  0 sec"
     ]
    },
    {
     "name": "stdout",
     "output_type": "stream",
     "text": [
      "\n"
     ]
    },
    {
     "name": "stdout",
     "output_type": "stream",
     "text": [
      "\tPRT,  6th phase (08Jul2020 - 20Jul2020): finished 1450 trials in 1 min  0 sec"
     ]
    },
    {
     "name": "stdout",
     "output_type": "stream",
     "text": [
      "\n"
     ]
    },
    {
     "name": "stdout",
     "output_type": "stream",
     "text": [
      "\tMEX,  1st phase (23May2020 - 10Jun2020): finished  729 trials in 0 min 25 sec"
     ]
    },
    {
     "name": "stdout",
     "output_type": "stream",
     "text": [
      "\n"
     ]
    },
    {
     "name": "stdout",
     "output_type": "stream",
     "text": [
      "\tPRT,  1st phase (29Apr2020 - 17May2020): finished 1440 trials in 1 min  0 sec"
     ]
    },
    {
     "name": "stdout",
     "output_type": "stream",
     "text": [
      "\n"
     ]
    },
    {
     "name": "stdout",
     "output_type": "stream",
     "text": [
      "\tTUR,  3rd phase (09May2020 - 23May2020): finished  449 trials in 0 min 15 sec"
     ]
    },
    {
     "name": "stdout",
     "output_type": "stream",
     "text": [
      "\n"
     ]
    },
    {
     "name": "stdout",
     "output_type": "stream",
     "text": [
      "\tITA,  0th phase (24Feb2020 - 20Mar2020): finished 1447 trials in 1 min  0 sec"
     ]
    },
    {
     "name": "stdout",
     "output_type": "stream",
     "text": [
      "\n"
     ]
    },
    {
     "name": "stdout",
     "output_type": "stream",
     "text": [
      "\tMEX,  5th phase (18Jul2020 - 28Jul2020): finished 1446 trials in 1 min  0 sec"
     ]
    },
    {
     "name": "stdout",
     "output_type": "stream",
     "text": [
      "\n"
     ]
    },
    {
     "name": "stdout",
     "output_type": "stream",
     "text": [
      "\tPER,  3rd phase (16Jun2020 - 02Jul2020): finished 1433 trials in 1 min  0 sec"
     ]
    },
    {
     "name": "stdout",
     "output_type": "stream",
     "text": [
      "\n"
     ]
    },
    {
     "name": "stdout",
     "output_type": "stream",
     "text": [
      "\tBRA, 10th phase (03Sep2020 - 19Sep2020): finished 1456 trials in 1 min  0 sec"
     ]
    },
    {
     "name": "stdout",
     "output_type": "stream",
     "text": [
      "\n"
     ]
    },
    {
     "name": "stdout",
     "output_type": "stream",
     "text": [
      "\tMEX, 10th phase (06Sep2020 - 19Sep2020): finished  152 trials in 0 min  5 sec"
     ]
    },
    {
     "name": "stdout",
     "output_type": "stream",
     "text": [
      "\n"
     ]
    },
    {
     "name": "stdout",
     "output_type": "stream",
     "text": [
      "\tBRA,  5th phase (21Jul2020 - 28Jul2020): finished 1442 trials in 1 min  0 sec"
     ]
    },
    {
     "name": "stdout",
     "output_type": "stream",
     "text": [
      "\n"
     ]
    },
    {
     "name": "stdout",
     "output_type": "stream",
     "text": [
      "\tHUN, 10th phase (27Aug2020 - 19Sep2020): finished 1383 trials in 1 min  0 sec"
     ]
    },
    {
     "name": "stdout",
     "output_type": "stream",
     "text": [
      "\n"
     ]
    },
    {
     "name": "stdout",
     "output_type": "stream",
     "text": [
      "\tMEX,  2nd phase (11Jun2020 - 24Jun2020): finished 1486 trials in 1 min  0 sec"
     ]
    },
    {
     "name": "stdout",
     "output_type": "stream",
     "text": [
      "\n"
     ]
    },
    {
     "name": "stdout",
     "output_type": "stream",
     "text": [
      "\tKWT,  0th phase (08Mar2020 - 14May2020): finished 1296 trials in 1 min  0 sec"
     ]
    },
    {
     "name": "stdout",
     "output_type": "stream",
     "text": [
      "\n"
     ]
    },
    {
     "name": "stdout",
     "output_type": "stream",
     "text": [
      "\tHUN,  1st phase (14Apr2020 - 21Apr2020): finished 1431 trials in 1 min  0 sec"
     ]
    },
    {
     "name": "stdout",
     "output_type": "stream",
     "text": [
      "\n"
     ]
    },
    {
     "name": "stdout",
     "output_type": "stream",
     "text": [
      "\tKWT,  7th phase (28Jul2020 - 10Aug2020): finished 1141 trials in 0 min 45 sec"
     ]
    },
    {
     "name": "stdout",
     "output_type": "stream",
     "text": [
      "\n"
     ]
    },
    {
     "name": "stdout",
     "output_type": "stream",
     "text": [
      "\tBOL,  1st phase (14Jun2020 - 25Jun2020): finished 1357 trials in 1 min  0 sec"
     ]
    },
    {
     "name": "stdout",
     "output_type": "stream",
     "text": [
      "\n"
     ]
    },
    {
     "name": "stdout",
     "output_type": "stream",
     "text": [
      "\tIRN,  8th phase (30Jul2020 - 14Aug2020): finished 1441 trials in 1 min  0 sec"
     ]
    },
    {
     "name": "stdout",
     "output_type": "stream",
     "text": [
      "\n"
     ]
    },
    {
     "name": "stdout",
     "output_type": "stream",
     "text": [
      "\tITA,  2nd phase (29Mar2020 - 08Apr2020): finished 1367 trials in 1 min  0 sec"
     ]
    },
    {
     "name": "stdout",
     "output_type": "stream",
     "text": [
      "\n"
     ]
    },
    {
     "name": "stdout",
     "output_type": "stream",
     "text": [
      "\tPER,  1st phase (11May2020 - 29May2020): finished 1405 trials in 1 min  0 sec"
     ]
    },
    {
     "name": "stdout",
     "output_type": "stream",
     "text": [
      "\n"
     ]
    },
    {
     "name": "stdout",
     "output_type": "stream",
     "text": [
      "\tBOL, 10th phase (10Sep2020 - 19Sep2020): finished  547 trials in 0 min 20 sec"
     ]
    },
    {
     "name": "stdout",
     "output_type": "stream",
     "text": [
      "\n"
     ]
    },
    {
     "name": "stdout",
     "output_type": "stream",
     "text": [
      "\tPER,  0th phase (16Mar2020 - 10May2020): finished 1334 trials in 1 min  0 sec"
     ]
    },
    {
     "name": "stdout",
     "output_type": "stream",
     "text": [
      "\n"
     ]
    },
    {
     "name": "stdout",
     "output_type": "stream",
     "text": [
      "\tRUS,  0th phase (12Feb2020 - 06May2020): finished 1438 trials in 1 min  0 sec"
     ]
    },
    {
     "name": "stdout",
     "output_type": "stream",
     "text": [
      "\n"
     ]
    },
    {
     "name": "stdout",
     "output_type": "stream",
     "text": [
      "\tITA,  4th phase (19Apr2020 - 01May2020): finished  312 trials in 0 min 10 sec"
     ]
    },
    {
     "name": "stdout",
     "output_type": "stream",
     "text": [
      "\n"
     ]
    },
    {
     "name": "stdout",
     "output_type": "stream",
     "text": [
      "\tARE,  5th phase (20Jun2020 - 01Jul2020): finished  788 trials in 0 min 30 sec"
     ]
    },
    {
     "name": "stdout",
     "output_type": "stream",
     "text": [
      "\n"
     ]
    },
    {
     "name": "stdout",
     "output_type": "stream",
     "text": [
      "\tARE,  4th phase (08Jun2020 - 19Jun2020): finished 1385 trials in 1 min  0 sec"
     ]
    },
    {
     "name": "stdout",
     "output_type": "stream",
     "text": [
      "\n"
     ]
    },
    {
     "name": "stdout",
     "output_type": "stream",
     "text": [
      "\tGIN,  9th phase (17Aug2020 - 02Sep2020): finished 1391 trials in 1 min  0 sec"
     ]
    },
    {
     "name": "stdout",
     "output_type": "stream",
     "text": [
      "\n"
     ]
    },
    {
     "name": "stdout",
     "output_type": "stream",
     "text": [
      "\tGIN,  2nd phase (12May2020 - 25May2020): finished 1367 trials in 1 min  0 sec"
     ]
    },
    {
     "name": "stdout",
     "output_type": "stream",
     "text": [
      "\n"
     ]
    },
    {
     "name": "stdout",
     "output_type": "stream",
     "text": [
      "\tMEX,  8th phase (15Aug2020 - 25Aug2020): finished  158 trials in 0 min  5 sec"
     ]
    },
    {
     "name": "stdout",
     "output_type": "stream",
     "text": [
      "\n"
     ]
    },
    {
     "name": "stdout",
     "output_type": "stream",
     "text": [
      "\tITA,  9th phase (01Aug2020 - 29Aug2020): finished 1386 trials in 1 min  0 sec"
     ]
    },
    {
     "name": "stdout",
     "output_type": "stream",
     "text": [
      "\n"
     ]
    },
    {
     "name": "stdout",
     "output_type": "stream",
     "text": [
      "\tRUS, 10th phase (08Aug2020 - 22Aug2020): finished 1374 trials in 1 min  0 sec"
     ]
    },
    {
     "name": "stdout",
     "output_type": "stream",
     "text": [
      "\n"
     ]
    },
    {
     "name": "stdout",
     "output_type": "stream",
     "text": [
      "\tIRN,  3rd phase (13May2020 - 31May2020): finished  162 trials in 0 min  5 sec"
     ]
    },
    {
     "name": "stdout",
     "output_type": "stream",
     "text": [
      "\n"
     ]
    },
    {
     "name": "stdout",
     "output_type": "stream",
     "text": [
      "\tUSA,  9th phase (21Aug2020 - 02Sep2020): finished  421 trials in 0 min 15 sec"
     ]
    },
    {
     "name": "stdout",
     "output_type": "stream",
     "text": [
      "\n"
     ]
    },
    {
     "name": "stdout",
     "output_type": "stream",
     "text": [
      "\tPRT, 10th phase (08Sep2020 - 19Sep2020): finished 1446 trials in 1 min  0 sec"
     ]
    },
    {
     "name": "stdout",
     "output_type": "stream",
     "text": [
      "\n"
     ]
    },
    {
     "name": "stdout",
     "output_type": "stream",
     "text": [
      "\tBOL,  6th phase (01Aug2020 - 09Aug2020): finished  167 trials in 0 min  5 sec"
     ]
    },
    {
     "name": "stdout",
     "output_type": "stream",
     "text": [
      "\n"
     ]
    },
    {
     "name": "stdout",
     "output_type": "stream",
     "text": [
      "\tITA,  5th phase (02May2020 - 10May2020): finished  441 trials in 0 min 15 sec"
     ]
    },
    {
     "name": "stdout",
     "output_type": "stream",
     "text": [
      "\n"
     ]
    },
    {
     "name": "stdout",
     "output_type": "stream",
     "text": [
      "\tIRN,  5th phase (16Jun2020 - 30Jun2020): finished 1430 trials in 1 min  0 sec"
     ]
    },
    {
     "name": "stdout",
     "output_type": "stream",
     "text": [
      "\n"
     ]
    },
    {
     "name": "stdout",
     "output_type": "stream",
     "text": [
      "\tHUN,  0th phase (14Mar2020 - 13Apr2020): finished 1351 trials in 1 min  0 sec"
     ]
    },
    {
     "name": "stdout",
     "output_type": "stream",
     "text": [
      "\n"
     ]
    },
    {
     "name": "stdout",
     "output_type": "stream",
     "text": [
      "\tGIN,  3rd phase (26May2020 - 07Jun2020): finished 1397 trials in 1 min  0 sec"
     ]
    },
    {
     "name": "stdout",
     "output_type": "stream",
     "text": [
      "\n"
     ]
    },
    {
     "name": "stdout",
     "output_type": "stream",
     "text": [
      "\tKWT,  5th phase (04Jul2020 - 15Jul2020): finished  440 trials in 0 min 15 sec"
     ]
    },
    {
     "name": "stdout",
     "output_type": "stream",
     "text": [
      "\n"
     ]
    },
    {
     "name": "stdout",
     "output_type": "stream",
     "text": [
      "\tFRA,  4th phase (22Apr2020 - 04May2020): finished 1388 trials in 1 min  0 sec"
     ]
    },
    {
     "name": "stdout",
     "output_type": "stream",
     "text": [
      "\n"
     ]
    },
    {
     "name": "stdout",
     "output_type": "stream",
     "text": [
      "\tPRT,  3rd phase (02Jun2020 - 13Jun2020): finished 1393 trials in 1 min  0 sec"
     ]
    },
    {
     "name": "stdout",
     "output_type": "stream",
     "text": [
      "\n"
     ]
    },
    {
     "name": "stdout",
     "output_type": "stream",
     "text": [
      "\tFRA,  7th phase (24Jun2020 - 19Jul2020): finished  459 trials in 0 min 15 sec"
     ]
    },
    {
     "name": "stdout",
     "output_type": "stream",
     "text": [
      "\n"
     ]
    },
    {
     "name": "stdout",
     "output_type": "stream",
     "text": [
      "\tBOL,  4th phase (15Jul2020 - 22Jul2020): finished 1458 trials in 1 min  0 sec"
     ]
    },
    {
     "name": "stdout",
     "output_type": "stream",
     "text": [
      "\n"
     ]
    },
    {
     "name": "stdout",
     "output_type": "stream",
     "text": [
      "\tPRT,  8th phase (08Aug2020 - 25Aug2020): finished 1447 trials in 1 min  0 sec"
     ]
    },
    {
     "name": "stdout",
     "output_type": "stream",
     "text": [
      "\n"
     ]
    },
    {
     "name": "stdout",
     "output_type": "stream",
     "text": [
      "\tITA,  7th phase (22May2020 - 13Jun2020): finished  479 trials in 0 min 15 sec"
     ]
    },
    {
     "name": "stdout",
     "output_type": "stream",
     "text": [
      "\n"
     ]
    },
    {
     "name": "stdout",
     "output_type": "stream",
     "text": [
      "\tITA, 10th phase (30Aug2020 - 19Sep2020): finished 1488 trials in 1 min  0 sec"
     ]
    },
    {
     "name": "stdout",
     "output_type": "stream",
     "text": [
      "\n"
     ]
    },
    {
     "name": "stdout",
     "output_type": "stream",
     "text": [
      "\tARE,  3rd phase (21May2020 - 07Jun2020): finished 1497 trials in 1 min  0 sec"
     ]
    },
    {
     "name": "stdout",
     "output_type": "stream",
     "text": [
      "\n"
     ]
    },
    {
     "name": "stdout",
     "output_type": "stream",
     "text": [
      "\tARE,  9th phase (18Aug2020 - 01Sep2020): finished  969 trials in 0 min 35 sec"
     ]
    },
    {
     "name": "stdout",
     "output_type": "stream",
     "text": [
      "\n"
     ]
    },
    {
     "name": "stdout",
     "output_type": "stream",
     "text": [
      "\tBHR,  9th phase (22Aug2020 - 03Sep2020): finished  183 trials in 0 min  5 sec"
     ]
    },
    {
     "name": "stdout",
     "output_type": "stream",
     "text": [
      "\n"
     ]
    },
    {
     "name": "stdout",
     "output_type": "stream",
     "text": [
      "\tBOL,  7th phase (10Aug2020 - 17Aug2020): finished  291 trials in 0 min 10 sec"
     ]
    },
    {
     "name": "stdout",
     "output_type": "stream",
     "text": [
      "\n"
     ]
    },
    {
     "name": "stdout",
     "output_type": "stream",
     "text": [
      "\tGIN,  8th phase (06Aug2020 - 16Aug2020): finished 1519 trials in 1 min  0 sec"
     ]
    },
    {
     "name": "stdout",
     "output_type": "stream",
     "text": [
      "\n"
     ]
    },
    {
     "name": "stdout",
     "output_type": "stream",
     "text": [
      "\tPRT,  5th phase (26Jun2020 - 07Jul2020): finished 1504 trials in 1 min  0 sec"
     ]
    },
    {
     "name": "stdout",
     "output_type": "stream",
     "text": [
      "\n"
     ]
    },
    {
     "name": "stdout",
     "output_type": "stream",
     "text": [
      "\tBRA,  8th phase (14Aug2020 - 24Aug2020): finished 1483 trials in 1 min  0 sec"
     ]
    },
    {
     "name": "stdout",
     "output_type": "stream",
     "text": [
      "\n"
     ]
    },
    {
     "name": "stdout",
     "output_type": "stream",
     "text": [
      "\tKWT,  8th phase (11Aug2020 - 23Aug2020): finished  433 trials in 0 min 15 sec"
     ]
    },
    {
     "name": "stdout",
     "output_type": "stream",
     "text": [
      "\n"
     ]
    },
    {
     "name": "stdout",
     "output_type": "stream",
     "text": [
      "\tFRA,  0th phase (12Feb2020 - 23Mar2020): finished 1389 trials in 1 min  0 sec"
     ]
    },
    {
     "name": "stdout",
     "output_type": "stream",
     "text": [
      "\n"
     ]
    },
    {
     "name": "stdout",
     "output_type": "stream",
     "text": [
      "\tKWT,  3rd phase (08Jun2020 - 21Jun2020): finished  296 trials in 0 min 10 sec"
     ]
    },
    {
     "name": "stdout",
     "output_type": "stream",
     "text": [
      "\n"
     ]
    },
    {
     "name": "stdout",
     "output_type": "stream",
     "text": [
      "\tIRN,  7th phase (15Jul2020 - 29Jul2020): finished  290 trials in 0 min 10 sec"
     ]
    },
    {
     "name": "stdout",
     "output_type": "stream",
     "text": [
      "\n"
     ]
    },
    {
     "name": "stdout",
     "output_type": "stream",
     "text": [
      "\tHUN,  6th phase (01Jun2020 - 25Jun2020): finished  848 trials in 0 min 35 sec"
     ]
    },
    {
     "name": "stdout",
     "output_type": "stream",
     "text": [
      "\n"
     ]
    },
    {
     "name": "stdout",
     "output_type": "stream",
     "text": [
      "\tARE,  1st phase (26Apr2020 - 12May2020): finished 1340 trials in 1 min  0 sec"
     ]
    },
    {
     "name": "stdout",
     "output_type": "stream",
     "text": [
      "\n"
     ]
    },
    {
     "name": "stdout",
     "output_type": "stream",
     "text": [
      "\tIRN,  0th phase (26Feb2020 - 29Mar2020): finished 1326 trials in 1 min  0 sec"
     ]
    },
    {
     "name": "stdout",
     "output_type": "stream",
     "text": [
      "\n"
     ]
    },
    {
     "name": "stdout",
     "output_type": "stream",
     "text": [
      "\tTUR,  7th phase (15Jul2020 - 03Aug2020): finished  158 trials in 0 min  5 sec"
     ]
    },
    {
     "name": "stdout",
     "output_type": "stream",
     "text": [
      "\n"
     ]
    },
    {
     "name": "stdout",
     "output_type": "stream",
     "text": [
      "\tUSA,  4th phase (25Jun2020 - 07Jul2020): finished 1347 trials in 1 min  0 sec"
     ]
    },
    {
     "name": "stdout",
     "output_type": "stream",
     "text": [
      "\n"
     ]
    },
    {
     "name": "stdout",
     "output_type": "stream",
     "text": [
      "\tHUN,  3rd phase (01May2020 - 09May2020): finished 1363 trials in 1 min  0 sec"
     ]
    },
    {
     "name": "stdout",
     "output_type": "stream",
     "text": [
      "\n"
     ]
    },
    {
     "name": "stdout",
     "output_type": "stream",
     "text": [
      "\tTUR,  6th phase (28Jun2020 - 14Jul2020): finished  409 trials in 0 min 15 sec"
     ]
    },
    {
     "name": "stdout",
     "output_type": "stream",
     "text": [
      "\n"
     ]
    },
    {
     "name": "stdout",
     "output_type": "stream",
     "text": [
      "\tFRA,  9th phase (07Aug2020 - 25Aug2020): finished  661 trials in 0 min 25 sec"
     ]
    },
    {
     "name": "stdout",
     "output_type": "stream",
     "text": [
      "\n"
     ]
    },
    {
     "name": "stdout",
     "output_type": "stream",
     "text": [
      "\tPER,  2nd phase (30May2020 - 15Jun2020): finished 1351 trials in 1 min  0 sec"
     ]
    },
    {
     "name": "stdout",
     "output_type": "stream",
     "text": [
      "\n"
     ]
    },
    {
     "name": "stdout",
     "output_type": "stream",
     "text": [
      "\tBHR,  8th phase (10Aug2020 - 21Aug2020): finished  156 trials in 0 min  5 sec"
     ]
    },
    {
     "name": "stdout",
     "output_type": "stream",
     "text": [
      "\n"
     ]
    },
    {
     "name": "stdout",
     "output_type": "stream",
     "text": [
      "\tBOL,  3rd phase (06Jul2020 - 14Jul2020): finished  764 trials in 0 min 30 sec"
     ]
    },
    {
     "name": "stdout",
     "output_type": "stream",
     "text": [
      "\n"
     ]
    },
    {
     "name": "stdout",
     "output_type": "stream",
     "text": [
      "\tPER,  5th phase (19Jul2020 - 31Jul2020): finished 1379 trials in 1 min  0 sec"
     ]
    },
    {
     "name": "stdout",
     "output_type": "stream",
     "text": [
      "\n"
     ]
    },
    {
     "name": "stdout",
     "output_type": "stream",
     "text": [
      "\tBHR,  4th phase (25Jun2020 - 05Jul2020): finished  860 trials in 0 min 35 sec"
     ]
    },
    {
     "name": "stdout",
     "output_type": "stream",
     "text": [
      "\n"
     ]
    },
    {
     "name": "stdout",
     "output_type": "stream",
     "text": [
      "\tUSA,  5th phase (08Jul2020 - 17Jul2020): finished  416 trials in 0 min 15 sec"
     ]
    },
    {
     "name": "stdout",
     "output_type": "stream",
     "text": [
      "\n"
     ]
    },
    {
     "name": "stdout",
     "output_type": "stream",
     "text": [
      "\tHUN,  8th phase (25Jul2020 - 13Aug2020): finished 1365 trials in 1 min  0 sec"
     ]
    },
    {
     "name": "stdout",
     "output_type": "stream",
     "text": [
      "\n"
     ]
    },
    {
     "name": "stdout",
     "output_type": "stream",
     "text": [
      "\tMEX,  3rd phase (25Jun2020 - 06Jul2020): finished  430 trials in 0 min 15 sec"
     ]
    },
    {
     "name": "stdout",
     "output_type": "stream",
     "text": [
      "\n"
     ]
    },
    {
     "name": "stdout",
     "output_type": "stream",
     "text": [
      "\tGIN,  7th phase (24Jul2020 - 05Aug2020): finished  319 trials in 0 min 10 sec"
     ]
    },
    {
     "name": "stdout",
     "output_type": "stream",
     "text": [
      "\n"
     ]
    },
    {
     "name": "stdout",
     "output_type": "stream",
     "text": [
      "\tBHR,  6th phase (15Jul2020 - 26Jul2020): finished  464 trials in 0 min 15 sec"
     ]
    },
    {
     "name": "stdout",
     "output_type": "stream",
     "text": [
      "\n"
     ]
    },
    {
     "name": "stdout",
     "output_type": "stream",
     "text": [
      "\tPER,  8th phase (19Aug2020 - 27Aug2020): finished 1554 trials in 1 min  0 sec"
     ]
    },
    {
     "name": "stdout",
     "output_type": "stream",
     "text": [
      "\n"
     ]
    },
    {
     "name": "stdout",
     "output_type": "stream",
     "text": [
      "\tTUR,  0th phase (24Mar2020 - 16Apr2020): finished 1550 trials in 1 min  0 sec"
     ]
    },
    {
     "name": "stdout",
     "output_type": "stream",
     "text": [
      "\n"
     ]
    },
    {
     "name": "stdout",
     "output_type": "stream",
     "text": [
      "\tIRN,  4th phase (01Jun2020 - 15Jun2020): finished 1610 trials in 1 min  0 sec"
     ]
    },
    {
     "name": "stdout",
     "output_type": "stream",
     "text": [
      "\n"
     ]
    },
    {
     "name": "stdout",
     "output_type": "stream",
     "text": [
      "\tIRN,  2nd phase (18Apr2020 - 12May2020): finished  369 trials in 0 min 10 sec"
     ]
    },
    {
     "name": "stdout",
     "output_type": "stream",
     "text": [
      "\n"
     ]
    },
    {
     "name": "stdout",
     "output_type": "stream",
     "text": [
      "\tHUN,  5th phase (19May2020 - 31May2020): finished 1623 trials in 1 min  0 sec"
     ]
    },
    {
     "name": "stdout",
     "output_type": "stream",
     "text": [
      "\n"
     ]
    },
    {
     "name": "stdout",
     "output_type": "stream",
     "text": [
      "\tKWT,  1st phase (15May2020 - 28May2020): finished 1625 trials in 1 min  0 sec"
     ]
    },
    {
     "name": "stdout",
     "output_type": "stream",
     "text": [
      "\n"
     ]
    },
    {
     "name": "stdout",
     "output_type": "stream",
     "text": [
      "\tBRA,  6th phase (29Jul2020 - 05Aug2020): finished 1309 trials in 0 min 45 sec"
     ]
    },
    {
     "name": "stdout",
     "output_type": "stream",
     "text": [
      "\n"
     ]
    },
    {
     "name": "stdout",
     "output_type": "stream",
     "text": [
      "\tUSA,  1st phase (19Apr2020 - 11May2020): finished 1617 trials in 1 min  0 sec"
     ]
    },
    {
     "name": "stdout",
     "output_type": "stream",
     "text": [
      "\n"
     ]
    },
    {
     "name": "stdout",
     "output_type": "stream",
     "text": [
      "\tBRA,  3rd phase (27Jun2020 - 08Jul2020): finished 1625 trials in 1 min  0 sec"
     ]
    },
    {
     "name": "stdout",
     "output_type": "stream",
     "text": [
      "\n"
     ]
    },
    {
     "name": "stdout",
     "output_type": "stream",
     "text": [
      "\tBRA,  2nd phase (15Jun2020 - 26Jun2020): finished  506 trials in 0 min 15 sec"
     ]
    },
    {
     "name": "stdout",
     "output_type": "stream",
     "text": [
      "\n"
     ]
    },
    {
     "name": "stdout",
     "output_type": "stream",
     "text": [
      "\tBOL,  5th phase (23Jul2020 - 31Jul2020): finished  184 trials in 0 min  5 sec"
     ]
    },
    {
     "name": "stdout",
     "output_type": "stream",
     "text": [
      "\n"
     ]
    },
    {
     "name": "stdout",
     "output_type": "stream",
     "text": [
      "\tHUN,  4th phase (10May2020 - 18May2020): finished 1621 trials in 1 min  0 sec"
     ]
    },
    {
     "name": "stdout",
     "output_type": "stream",
     "text": [
      "\n"
     ]
    },
    {
     "name": "stdout",
     "output_type": "stream",
     "text": [
      "\tARE,  0th phase (12Feb2020 - 25Apr2020): finished 1555 trials in 1 min  0 sec"
     ]
    },
    {
     "name": "stdout",
     "output_type": "stream",
     "text": [
      "\n"
     ]
    },
    {
     "name": "stdout",
     "output_type": "stream",
     "text": [
      "\tUSA,  7th phase (29Jul2020 - 08Aug2020): finished  336 trials in 0 min 10 sec"
     ]
    },
    {
     "name": "stdout",
     "output_type": "stream",
     "text": [
      "\n"
     ]
    },
    {
     "name": "stdout",
     "output_type": "stream",
     "text": [
      "\tFRA,  2nd phase (03Apr2020 - 12Apr2020): finished 1607 trials in 1 min  0 sec"
     ]
    },
    {
     "name": "stdout",
     "output_type": "stream",
     "text": [
      "\n"
     ]
    },
    {
     "name": "stdout",
     "output_type": "stream",
     "text": [
      "\tHUN,  2nd phase (22Apr2020 - 30Apr2020): finished 1610 trials in 1 min  0 sec"
     ]
    },
    {
     "name": "stdout",
     "output_type": "stream",
     "text": [
      "\n"
     ]
    },
    {
     "name": "stdout",
     "output_type": "stream",
     "text": [
      "\tBOL,  8th phase (18Aug2020 - 25Aug2020): finished  677 trials in 0 min 20 sec"
     ]
    },
    {
     "name": "stdout",
     "output_type": "stream",
     "text": [
      "\n"
     ]
    },
    {
     "name": "stdout",
     "output_type": "stream",
     "text": [
      "\tITA,  3rd phase (09Apr2020 - 18Apr2020): finished  364 trials in 0 min 10 sec"
     ]
    },
    {
     "name": "stdout",
     "output_type": "stream",
     "text": [
      "\n"
     ]
    },
    {
     "name": "stdout",
     "output_type": "stream",
     "text": [
      "\tMEX,  4th phase (07Jul2020 - 17Jul2020): finished 1087 trials in 0 min 35 sec"
     ]
    },
    {
     "name": "stdout",
     "output_type": "stream",
     "text": [
      "\n"
     ]
    },
    {
     "name": "stdout",
     "output_type": "stream",
     "text": [
      "\tBHR,  1st phase (08May2020 - 31May2020): finished 1633 trials in 1 min  0 sec"
     ]
    },
    {
     "name": "stdout",
     "output_type": "stream",
     "text": [
      "\n"
     ]
    },
    {
     "name": "stdout",
     "output_type": "stream",
     "text": [
      "\tBOL,  2nd phase (26Jun2020 - 05Jul2020): finished  365 trials in 0 min 10 sec"
     ]
    },
    {
     "name": "stdout",
     "output_type": "stream",
     "text": [
      "\n"
     ]
    },
    {
     "name": "stdout",
     "output_type": "stream",
     "text": [
      "\tRUS,  2nd phase (16May2020 - 23May2020): finished 1634 trials in 1 min  0 sec"
     ]
    },
    {
     "name": "stdout",
     "output_type": "stream",
     "text": [
      "\n"
     ]
    },
    {
     "name": "stdout",
     "output_type": "stream",
     "text": [
      "\tFRA,  1st phase (24Mar2020 - 02Apr2020): finished 1629 trials in 1 min  0 sec"
     ]
    },
    {
     "name": "stdout",
     "output_type": "stream",
     "text": [
      "\n"
     ]
    },
    {
     "name": "stdout",
     "output_type": "stream",
     "text": [
      "\tBRA,  0th phase (16Mar2020 - 26May2020): finished 1572 trials in 1 min  0 sec"
     ]
    },
    {
     "name": "stdout",
     "output_type": "stream",
     "text": [
      "\n"
     ]
    },
    {
     "name": "stdout",
     "output_type": "stream",
     "text": [
      "\tRUS, 12th phase (05Sep2020 - 19Sep2020): finished 1507 trials in 0 min 55 sec"
     ]
    },
    {
     "name": "stdout",
     "output_type": "stream",
     "text": [
      "\n"
     ]
    },
    {
     "name": "stdout",
     "output_type": "stream",
     "text": [
      "\tMEX,  9th phase (26Aug2020 - 05Sep2020): finished 1645 trials in 1 min  0 sec"
     ]
    },
    {
     "name": "stdout",
     "output_type": "stream",
     "text": [
      "\n"
     ]
    },
    {
     "name": "stdout",
     "output_type": "stream",
     "text": [
      "\tGIN,  0th phase (03Apr2020 - 30Apr2020): finished 1602 trials in 1 min  0 sec"
     ]
    },
    {
     "name": "stdout",
     "output_type": "stream",
     "text": [
      "\n"
     ]
    },
    {
     "name": "stdout",
     "output_type": "stream",
     "text": [
      "\tKWT,  9th phase (24Aug2020 - 05Sep2020): finished  672 trials in 0 min 20 sec"
     ]
    },
    {
     "name": "stdout",
     "output_type": "stream",
     "text": [
      "\n"
     ]
    },
    {
     "name": "stdout",
     "output_type": "stream",
     "text": [
      "\tKWT,  2nd phase (29May2020 - 07Jun2020): finished  192 trials in 0 min  5 sec"
     ]
    },
    {
     "name": "stdout",
     "output_type": "stream",
     "text": [
      "\n"
     ]
    },
    {
     "name": "stdout",
     "output_type": "stream",
     "text": [
      "\tGIN,  5th phase (21Jun2020 - 08Jul2020): finished 1617 trials in 1 min  0 sec"
     ]
    },
    {
     "name": "stdout",
     "output_type": "stream",
     "text": [
      "\n"
     ]
    },
    {
     "name": "stdout",
     "output_type": "stream",
     "text": [
      "\tARE,  2nd phase (13May2020 - 20May2020): finished 1627 trials in 1 min  0 sec"
     ]
    },
    {
     "name": "stdout",
     "output_type": "stream",
     "text": [
      "\n"
     ]
    },
    {
     "name": "stdout",
     "output_type": "stream",
     "text": [
      "\tPRT,  9th phase (26Aug2020 - 07Sep2020): finished 1601 trials in 1 min  0 sec"
     ]
    },
    {
     "name": "stdout",
     "output_type": "stream",
     "text": [
      "\n"
     ]
    },
    {
     "name": "stdout",
     "output_type": "stream",
     "text": [
      "\tFRA,  5th phase (05May2020 - 27May2020): finished 1604 trials in 1 min  0 sec"
     ]
    },
    {
     "name": "stdout",
     "output_type": "stream",
     "text": [
      "\n"
     ]
    },
    {
     "name": "stdout",
     "output_type": "stream",
     "text": [
      "\tUSA,  0th phase (09Feb2020 - 18Apr2020): finished 1490 trials in 1 min  0 sec"
     ]
    },
    {
     "name": "stdout",
     "output_type": "stream",
     "text": [
      "\n"
     ]
    },
    {
     "name": "stdout",
     "output_type": "stream",
     "text": [
      "\tBHR,  7th phase (27Jul2020 - 09Aug2020): finished 1015 trials in 0 min 40 sec"
     ]
    },
    {
     "name": "stdout",
     "output_type": "stream",
     "text": [
      "\n"
     ]
    },
    {
     "name": "stdout",
     "output_type": "stream",
     "text": [
      "\tUSA,  2nd phase (12May2020 - 05Jun2020): finished 1404 trials in 1 min  0 sec"
     ]
    },
    {
     "name": "stdout",
     "output_type": "stream",
     "text": [
      "\n"
     ]
    },
    {
     "name": "stdout",
     "output_type": "stream",
     "text": [
      "\tBRA,  1st phase (27May2020 - 14Jun2020): finished 1410 trials in 1 min  0 sec"
     ]
    },
    {
     "name": "stdout",
     "output_type": "stream",
     "text": [
      "\n"
     ]
    },
    {
     "name": "stdout",
     "output_type": "stream",
     "text": [
      "\tITA,  1st phase (21Mar2020 - 28Mar2020): finished 1326 trials in 1 min  0 sec"
     ]
    },
    {
     "name": "stdout",
     "output_type": "stream",
     "text": [
      "\n"
     ]
    },
    {
     "name": "stdout",
     "output_type": "stream",
     "text": [
      "\tPER,  7th phase (11Aug2020 - 18Aug2020): finished 1358 trials in 1 min  0 sec"
     ]
    },
    {
     "name": "stdout",
     "output_type": "stream",
     "text": [
      "\n"
     ]
    },
    {
     "name": "stdout",
     "output_type": "stream",
     "text": [
      "\tHUN,  7th phase (26Jun2020 - 24Jul2020): finished  393 trials in 0 min 15 sec"
     ]
    },
    {
     "name": "stdout",
     "output_type": "stream",
     "text": [
      "\n"
     ]
    },
    {
     "name": "stdout",
     "output_type": "stream",
     "text": [
      "\tPRT,  7th phase (21Jul2020 - 07Aug2020): finished 1343 trials in 1 min  0 sec"
     ]
    },
    {
     "name": "stdout",
     "output_type": "stream",
     "text": [
      "\n"
     ]
    },
    {
     "name": "stdout",
     "output_type": "stream",
     "text": [
      "\tUSA,  3rd phase (06Jun2020 - 24Jun2020): finished 1313 trials in 1 min  0 sec"
     ]
    },
    {
     "name": "stdout",
     "output_type": "stream",
     "text": [
      "\n"
     ]
    },
    {
     "name": "stdout",
     "output_type": "stream",
     "text": [
      "\tGIN,  4th phase (08Jun2020 - 20Jun2020): finished 1355 trials in 1 min  0 sec"
     ]
    },
    {
     "name": "stdout",
     "output_type": "stream",
     "text": [
      "\n"
     ]
    },
    {
     "name": "stdout",
     "output_type": "stream",
     "text": [
      "\tRUS,  7th phase (01Jul2020 - 12Jul2020): finished 1361 trials in 1 min  0 sec"
     ]
    },
    {
     "name": "stdout",
     "output_type": "stream",
     "text": [
      "\n"
     ]
    },
    {
     "name": "stdout",
     "output_type": "stream",
     "text": [
      "\tPRT,  2nd phase (18May2020 - 01Jun2020): finished 1380 trials in 1 min  0 sec"
     ]
    },
    {
     "name": "stdout",
     "output_type": "stream",
     "text": [
      "\n"
     ]
    },
    {
     "name": "stdout",
     "output_type": "stream",
     "text": [
      "\tBOL,  0th phase (01Apr2020 - 13Jun2020): finished 1381 trials in 1 min  0 sec"
     ]
    },
    {
     "name": "stdout",
     "output_type": "stream",
     "text": [
      "\n"
     ]
    },
    {
     "name": "stdout",
     "output_type": "stream",
     "text": [
      "\tRUS,  6th phase (21Jun2020 - 30Jun2020): finished 1658 trials in 1 min  0 sec"
     ]
    },
    {
     "name": "stdout",
     "output_type": "stream",
     "text": [
      "\n"
     ]
    },
    {
     "name": "stdout",
     "output_type": "stream",
     "text": [
      "\tTUR,  4th phase (24May2020 - 13Jun2020): finished  202 trials in 0 min  5 sec"
     ]
    },
    {
     "name": "stdout",
     "output_type": "stream",
     "text": [
      "\n"
     ]
    },
    {
     "name": "stdout",
     "output_type": "stream",
     "text": [
      "\tBHR,  2nd phase (01Jun2020 - 13Jun2020): finished 1698 trials in 1 min  0 sec"
     ]
    },
    {
     "name": "stdout",
     "output_type": "stream",
     "text": [
      "\n"
     ]
    },
    {
     "name": "stdout",
     "output_type": "stream",
     "text": [
      "\tTUR,  1st phase (17Apr2020 - 29Apr2020): finished 1718 trials in 1 min  0 sec"
     ]
    },
    {
     "name": "stdout",
     "output_type": "stream",
     "text": [
      "\n"
     ]
    },
    {
     "name": "stdout",
     "output_type": "stream",
     "text": [
      "\tARE,  6th phase (02Jul2020 - 11Jul2020): finished 1725 trials in 1 min  0 sec"
     ]
    },
    {
     "name": "stdout",
     "output_type": "stream",
     "text": [
      "\n"
     ]
    },
    {
     "name": "stdout",
     "output_type": "stream",
     "text": [
      "\tTUR,  5th phase (14Jun2020 - 27Jun2020): finished 1277 trials in 0 min 40 sec"
     ]
    },
    {
     "name": "stdout",
     "output_type": "stream",
     "text": [
      "\n"
     ]
    },
    {
     "name": "stdout",
     "output_type": "stream",
     "text": [
      "\tKWT,  4th phase (22Jun2020 - 03Jul2020): finished 1745 trials in 1 min  0 sec"
     ]
    },
    {
     "name": "stdout",
     "output_type": "stream",
     "text": [
      "\n"
     ]
    },
    {
     "name": "stdout",
     "output_type": "stream",
     "text": [
      "\tRUS,  5th phase (12Jun2020 - 20Jun2020): finished 1756 trials in 1 min  0 sec"
     ]
    },
    {
     "name": "stdout",
     "output_type": "stream",
     "text": [
      "\n"
     ]
    },
    {
     "name": "stdout",
     "output_type": "stream",
     "text": [
      "\tBRA,  9th phase (25Aug2020 - 02Sep2020): finished  407 trials in 0 min 10 sec"
     ]
    },
    {
     "name": "stdout",
     "output_type": "stream",
     "text": [
      "\n"
     ]
    },
    {
     "name": "stdout",
     "output_type": "stream",
     "text": [
      "\tBHR,  0th phase (06Mar2020 - 07May2020): finished 1741 trials in 1 min  0 sec"
     ]
    },
    {
     "name": "stdout",
     "output_type": "stream",
     "text": [
      "\n"
     ]
    },
    {
     "name": "stdout",
     "output_type": "stream",
     "text": [
      "\tMEX,  0th phase (03Mar2020 - 22May2020): finished 1728 trials in 1 min  0 sec"
     ]
    },
    {
     "name": "stdout",
     "output_type": "stream",
     "text": [
      "\n"
     ]
    },
    {
     "name": "stdout",
     "output_type": "stream",
     "text": [
      "\tBHR, 10th phase (04Sep2020 - 19Sep2020): finished 1782 trials in 1 min  0 sec"
     ]
    },
    {
     "name": "stdout",
     "output_type": "stream",
     "text": [
      "\n"
     ]
    },
    {
     "name": "stdout",
     "output_type": "stream",
     "text": [
      "\tTUR,  2nd phase (30Apr2020 - 08May2020): finished 1210 trials in 0 min 35 sec"
     ]
    },
    {
     "name": "stdout",
     "output_type": "stream",
     "text": [
      "\n"
     ]
    },
    {
     "name": "stdout",
     "output_type": "stream",
     "text": [
      "\tBHR,  3rd phase (14Jun2020 - 24Jun2020): finished 1802 trials in 1 min  0 sec"
     ]
    },
    {
     "name": "stdout",
     "output_type": "stream",
     "text": [
      "\n"
     ]
    },
    {
     "name": "stdout",
     "output_type": "stream",
     "text": [
      "\tITA,  6th phase (11May2020 - 21May2020): finished  420 trials in 0 min 10 sec"
     ]
    },
    {
     "name": "stdout",
     "output_type": "stream",
     "text": [
      "\n"
     ]
    },
    {
     "name": "stdout",
     "output_type": "stream",
     "text": [
      "\tRUS,  3rd phase (24May2020 - 01Jun2020): finished 1827 trials in 1 min  0 sec"
     ]
    },
    {
     "name": "stdout",
     "output_type": "stream",
     "text": [
      "\n"
     ]
    },
    {
     "name": "stdout",
     "output_type": "stream",
     "text": [
      "\tARE,  7th phase (12Jul2020 - 26Jul2020): finished  750 trials in 0 min 20 sec"
     ]
    },
    {
     "name": "stdout",
     "output_type": "stream",
     "text": [
      "\n"
     ]
    },
    {
     "name": "stdout",
     "output_type": "stream",
     "text": [
      "\tBOL,  9th phase (26Aug2020 - 09Sep2020): finished 1810 trials in 1 min  0 sec"
     ]
    },
    {
     "name": "stdout",
     "output_type": "stream",
     "text": [
      "\n"
     ]
    },
    {
     "name": "stdout",
     "output_type": "stream",
     "text": [
      "\tPER,  4th phase (03Jul2020 - 18Jul2020): finished 1823 trials in 1 min  0 sec"
     ]
    },
    {
     "name": "stdout",
     "output_type": "stream",
     "text": [
      "\n"
     ]
    },
    {
     "name": "stdout",
     "output_type": "stream",
     "text": [
      "\tIRN, 10th phase (02Sep2020 - 19Sep2020): finished 1823 trials in 1 min  0 sec"
     ]
    },
    {
     "name": "stdout",
     "output_type": "stream",
     "text": [
      "\n"
     ]
    },
    {
     "name": "stdout",
     "output_type": "stream",
     "text": [
      "\tARE,  8th phase (27Jul2020 - 17Aug2020): finished 1073 trials in 0 min 30 sec"
     ]
    },
    {
     "name": "stdout",
     "output_type": "stream",
     "text": [
      "\n"
     ]
    },
    {
     "name": "stdout",
     "output_type": "stream",
     "text": [
      "\tRUS,  9th phase (25Jul2020 - 07Aug2020): finished 2031 trials in 1 min  0 sec"
     ]
    },
    {
     "name": "stdout",
     "output_type": "stream",
     "text": [
      "\n"
     ]
    },
    {
     "name": "stdout",
     "output_type": "stream",
     "text": [
      "Completed optimization. Total: 33 min 12 sec"
     ]
    },
    {
     "name": "stdout",
     "output_type": "stream",
     "text": [
      "\n"
     ]
    }
   ],
   "source": [
    "# Parameter estimation with SIR-F model\n",
    "analyser.estimate(cs.SIRF)"
   ]
  },
  {
   "cell_type": "code",
   "execution_count": 12,
   "metadata": {
    "collapsed": false
   },
   "outputs": [
    {
     "data": {
      "text/html": [
       "<div>\n",
       "<style scoped>\n",
       "    .dataframe tbody tr th:only-of-type {\n",
       "        vertical-align: middle;\n",
       "    }\n",
       "\n",
       "    .dataframe tbody tr th {\n",
       "        vertical-align: top;\n",
       "    }\n",
       "\n",
       "    .dataframe thead th {\n",
       "        text-align: right;\n",
       "    }\n",
       "</style>\n",
       "<table border=\"1\" class=\"dataframe\">\n",
       "  <thead>\n",
       "    <tr style=\"text-align: right;\">\n",
       "      <th></th>\n",
       "      <th></th>\n",
       "      <th>Type</th>\n",
       "      <th>Start</th>\n",
       "      <th>End</th>\n",
       "      <th>Population</th>\n",
       "      <th>ODE</th>\n",
       "      <th>Rt</th>\n",
       "      <th>theta</th>\n",
       "      <th>kappa</th>\n",
       "      <th>rho</th>\n",
       "      <th>sigma</th>\n",
       "      <th>tau</th>\n",
       "      <th>1/beta [day]</th>\n",
       "      <th>alpha1 [-]</th>\n",
       "      <th>1/alpha2 [day]</th>\n",
       "      <th>1/gamma [day]</th>\n",
       "      <th>RMSLE</th>\n",
       "      <th>Trials</th>\n",
       "      <th>Runtime</th>\n",
       "    </tr>\n",
       "    <tr>\n",
       "      <th>Country</th>\n",
       "      <th>Phase</th>\n",
       "      <th></th>\n",
       "      <th></th>\n",
       "      <th></th>\n",
       "      <th></th>\n",
       "      <th></th>\n",
       "      <th></th>\n",
       "      <th></th>\n",
       "      <th></th>\n",
       "      <th></th>\n",
       "      <th></th>\n",
       "      <th></th>\n",
       "      <th></th>\n",
       "      <th></th>\n",
       "      <th></th>\n",
       "      <th></th>\n",
       "      <th></th>\n",
       "      <th></th>\n",
       "      <th></th>\n",
       "    </tr>\n",
       "  </thead>\n",
       "  <tbody>\n",
       "    <tr>\n",
       "      <th rowspan=\"13\" valign=\"top\">Russia</th>\n",
       "      <th>0th</th>\n",
       "      <td>Past</td>\n",
       "      <td>12Feb2020</td>\n",
       "      <td>06May2020</td>\n",
       "      <td>330457362</td>\n",
       "      <td>SIR-F</td>\n",
       "      <td>0.02</td>\n",
       "      <td>0.602763</td>\n",
       "      <td>0.544883</td>\n",
       "      <td>0.034081</td>\n",
       "      <td>0.002299</td>\n",
       "      <td>360</td>\n",
       "      <td>7</td>\n",
       "      <td>0.603</td>\n",
       "      <td>0</td>\n",
       "      <td>108</td>\n",
       "      <td>18.966727</td>\n",
       "      <td>1438</td>\n",
       "      <td>1 min  0 sec</td>\n",
       "    </tr>\n",
       "    <tr>\n",
       "      <th>1st</th>\n",
       "      <td>Past</td>\n",
       "      <td>07May2020</td>\n",
       "      <td>15May2020</td>\n",
       "      <td>330457362</td>\n",
       "      <td>SIR-F</td>\n",
       "      <td>2.46</td>\n",
       "      <td>0.000639</td>\n",
       "      <td>0.000117</td>\n",
       "      <td>0.013019</td>\n",
       "      <td>0.005178</td>\n",
       "      <td>360</td>\n",
       "      <td>19</td>\n",
       "      <td>0.001</td>\n",
       "      <td>2144</td>\n",
       "      <td>48</td>\n",
       "      <td>0.066392</td>\n",
       "      <td>2001</td>\n",
       "      <td>1 min  0 sec</td>\n",
       "    </tr>\n",
       "    <tr>\n",
       "      <th>2nd</th>\n",
       "      <td>Past</td>\n",
       "      <td>16May2020</td>\n",
       "      <td>23May2020</td>\n",
       "      <td>330457362</td>\n",
       "      <td>SIR-F</td>\n",
       "      <td>1.51</td>\n",
       "      <td>0.000440</td>\n",
       "      <td>0.000098</td>\n",
       "      <td>0.007637</td>\n",
       "      <td>0.004942</td>\n",
       "      <td>360</td>\n",
       "      <td>32</td>\n",
       "      <td>0.000</td>\n",
       "      <td>2549</td>\n",
       "      <td>50</td>\n",
       "      <td>0.057008</td>\n",
       "      <td>1634</td>\n",
       "      <td>1 min  0 sec</td>\n",
       "    </tr>\n",
       "    <tr>\n",
       "      <th>3rd</th>\n",
       "      <td>Past</td>\n",
       "      <td>24May2020</td>\n",
       "      <td>01Jun2020</td>\n",
       "      <td>330457362</td>\n",
       "      <td>SIR-F</td>\n",
       "      <td>0.96</td>\n",
       "      <td>0.000747</td>\n",
       "      <td>0.000106</td>\n",
       "      <td>0.005576</td>\n",
       "      <td>0.005685</td>\n",
       "      <td>360</td>\n",
       "      <td>44</td>\n",
       "      <td>0.001</td>\n",
       "      <td>2365</td>\n",
       "      <td>43</td>\n",
       "      <td>0.079021</td>\n",
       "      <td>1827</td>\n",
       "      <td>1 min  0 sec</td>\n",
       "    </tr>\n",
       "    <tr>\n",
       "      <th>4th</th>\n",
       "      <td>Past</td>\n",
       "      <td>02Jun2020</td>\n",
       "      <td>11Jun2020</td>\n",
       "      <td>330457362</td>\n",
       "      <td>SIR-F</td>\n",
       "      <td>0.98</td>\n",
       "      <td>0.018165</td>\n",
       "      <td>0.000010</td>\n",
       "      <td>0.004792</td>\n",
       "      <td>0.004804</td>\n",
       "      <td>360</td>\n",
       "      <td>52</td>\n",
       "      <td>0.018</td>\n",
       "      <td>25081</td>\n",
       "      <td>52</td>\n",
       "      <td>0.072739</td>\n",
       "      <td>1410</td>\n",
       "      <td>1 min  0 sec</td>\n",
       "    </tr>\n",
       "    <tr>\n",
       "      <th>5th</th>\n",
       "      <td>Past</td>\n",
       "      <td>12Jun2020</td>\n",
       "      <td>20Jun2020</td>\n",
       "      <td>330457362</td>\n",
       "      <td>SIR-F</td>\n",
       "      <td>0.84</td>\n",
       "      <td>0.019946</td>\n",
       "      <td>0.000002</td>\n",
       "      <td>0.003653</td>\n",
       "      <td>0.004279</td>\n",
       "      <td>360</td>\n",
       "      <td>68</td>\n",
       "      <td>0.020</td>\n",
       "      <td>102952</td>\n",
       "      <td>58</td>\n",
       "      <td>0.058954</td>\n",
       "      <td>1756</td>\n",
       "      <td>1 min  0 sec</td>\n",
       "    </tr>\n",
       "    <tr>\n",
       "      <th>6th</th>\n",
       "      <td>Past</td>\n",
       "      <td>21Jun2020</td>\n",
       "      <td>30Jun2020</td>\n",
       "      <td>330457362</td>\n",
       "      <td>SIR-F</td>\n",
       "      <td>0.90</td>\n",
       "      <td>0.021825</td>\n",
       "      <td>0.000002</td>\n",
       "      <td>0.002769</td>\n",
       "      <td>0.003016</td>\n",
       "      <td>360</td>\n",
       "      <td>90</td>\n",
       "      <td>0.022</td>\n",
       "      <td>132403</td>\n",
       "      <td>82</td>\n",
       "      <td>0.049641</td>\n",
       "      <td>1658</td>\n",
       "      <td>1 min  0 sec</td>\n",
       "    </tr>\n",
       "    <tr>\n",
       "      <th>7th</th>\n",
       "      <td>Past</td>\n",
       "      <td>01Jul2020</td>\n",
       "      <td>12Jul2020</td>\n",
       "      <td>330457362</td>\n",
       "      <td>SIR-F</td>\n",
       "      <td>1.02</td>\n",
       "      <td>0.018468</td>\n",
       "      <td>0.000010</td>\n",
       "      <td>0.002442</td>\n",
       "      <td>0.002334</td>\n",
       "      <td>360</td>\n",
       "      <td>102</td>\n",
       "      <td>0.018</td>\n",
       "      <td>25081</td>\n",
       "      <td>107</td>\n",
       "      <td>0.048580</td>\n",
       "      <td>1361</td>\n",
       "      <td>1 min  0 sec</td>\n",
       "    </tr>\n",
       "    <tr>\n",
       "      <th>8th</th>\n",
       "      <td>Past</td>\n",
       "      <td>13Jul2020</td>\n",
       "      <td>24Jul2020</td>\n",
       "      <td>330457362</td>\n",
       "      <td>SIR-F</td>\n",
       "      <td>0.67</td>\n",
       "      <td>0.000444</td>\n",
       "      <td>0.000050</td>\n",
       "      <td>0.001885</td>\n",
       "      <td>0.002770</td>\n",
       "      <td>360</td>\n",
       "      <td>132</td>\n",
       "      <td>0.000</td>\n",
       "      <td>4982</td>\n",
       "      <td>90</td>\n",
       "      <td>0.058446</td>\n",
       "      <td>1804</td>\n",
       "      <td>1 min  0 sec</td>\n",
       "    </tr>\n",
       "    <tr>\n",
       "      <th>9th</th>\n",
       "      <td>Past</td>\n",
       "      <td>25Jul2020</td>\n",
       "      <td>07Aug2020</td>\n",
       "      <td>330457362</td>\n",
       "      <td>SIR-F</td>\n",
       "      <td>0.78</td>\n",
       "      <td>0.020568</td>\n",
       "      <td>0.000004</td>\n",
       "      <td>0.001600</td>\n",
       "      <td>0.002013</td>\n",
       "      <td>360</td>\n",
       "      <td>156</td>\n",
       "      <td>0.021</td>\n",
       "      <td>68346</td>\n",
       "      <td>124</td>\n",
       "      <td>0.052216</td>\n",
       "      <td>2031</td>\n",
       "      <td>1 min  0 sec</td>\n",
       "    </tr>\n",
       "    <tr>\n",
       "      <th>10th</th>\n",
       "      <td>Past</td>\n",
       "      <td>08Aug2020</td>\n",
       "      <td>22Aug2020</td>\n",
       "      <td>330457362</td>\n",
       "      <td>SIR-F</td>\n",
       "      <td>0.73</td>\n",
       "      <td>0.013264</td>\n",
       "      <td>0.000011</td>\n",
       "      <td>0.001301</td>\n",
       "      <td>0.001753</td>\n",
       "      <td>360</td>\n",
       "      <td>192</td>\n",
       "      <td>0.013</td>\n",
       "      <td>22576</td>\n",
       "      <td>142</td>\n",
       "      <td>0.050717</td>\n",
       "      <td>1374</td>\n",
       "      <td>1 min  0 sec</td>\n",
       "    </tr>\n",
       "    <tr>\n",
       "      <th>11th</th>\n",
       "      <td>Past</td>\n",
       "      <td>23Aug2020</td>\n",
       "      <td>04Sep2020</td>\n",
       "      <td>330457362</td>\n",
       "      <td>SIR-F</td>\n",
       "      <td>0.79</td>\n",
       "      <td>0.002265</td>\n",
       "      <td>0.000031</td>\n",
       "      <td>0.001256</td>\n",
       "      <td>0.001548</td>\n",
       "      <td>360</td>\n",
       "      <td>199</td>\n",
       "      <td>0.002</td>\n",
       "      <td>7990</td>\n",
       "      <td>161</td>\n",
       "      <td>0.011979</td>\n",
       "      <td>1134</td>\n",
       "      <td>0 min 30 sec</td>\n",
       "    </tr>\n",
       "    <tr>\n",
       "      <th>12th</th>\n",
       "      <td>Past</td>\n",
       "      <td>05Sep2020</td>\n",
       "      <td>19Sep2020</td>\n",
       "      <td>330457362</td>\n",
       "      <td>SIR-F</td>\n",
       "      <td>0.92</td>\n",
       "      <td>0.015780</td>\n",
       "      <td>0.000006</td>\n",
       "      <td>0.001386</td>\n",
       "      <td>0.001478</td>\n",
       "      <td>360</td>\n",
       "      <td>180</td>\n",
       "      <td>0.016</td>\n",
       "      <td>40976</td>\n",
       "      <td>169</td>\n",
       "      <td>0.008268</td>\n",
       "      <td>1507</td>\n",
       "      <td>0 min 55 sec</td>\n",
       "    </tr>\n",
       "  </tbody>\n",
       "</table>\n",
       "</div>"
      ],
      "text/plain": [
       "               Type      Start        End  Population    ODE    Rt     theta  \\\n",
       "Country Phase                                                                  \n",
       "Russia  0th    Past  12Feb2020  06May2020   330457362  SIR-F  0.02  0.602763   \n",
       "        1st    Past  07May2020  15May2020   330457362  SIR-F  2.46  0.000639   \n",
       "        2nd    Past  16May2020  23May2020   330457362  SIR-F  1.51  0.000440   \n",
       "        3rd    Past  24May2020  01Jun2020   330457362  SIR-F  0.96  0.000747   \n",
       "        4th    Past  02Jun2020  11Jun2020   330457362  SIR-F  0.98  0.018165   \n",
       "        5th    Past  12Jun2020  20Jun2020   330457362  SIR-F  0.84  0.019946   \n",
       "        6th    Past  21Jun2020  30Jun2020   330457362  SIR-F  0.90  0.021825   \n",
       "        7th    Past  01Jul2020  12Jul2020   330457362  SIR-F  1.02  0.018468   \n",
       "        8th    Past  13Jul2020  24Jul2020   330457362  SIR-F  0.67  0.000444   \n",
       "        9th    Past  25Jul2020  07Aug2020   330457362  SIR-F  0.78  0.020568   \n",
       "        10th   Past  08Aug2020  22Aug2020   330457362  SIR-F  0.73  0.013264   \n",
       "        11th   Past  23Aug2020  04Sep2020   330457362  SIR-F  0.79  0.002265   \n",
       "        12th   Past  05Sep2020  19Sep2020   330457362  SIR-F  0.92  0.015780   \n",
       "\n",
       "                  kappa       rho     sigma  tau  1/beta [day]  alpha1 [-]  \\\n",
       "Country Phase                                                                \n",
       "Russia  0th    0.544883  0.034081  0.002299  360             7       0.603   \n",
       "        1st    0.000117  0.013019  0.005178  360            19       0.001   \n",
       "        2nd    0.000098  0.007637  0.004942  360            32       0.000   \n",
       "        3rd    0.000106  0.005576  0.005685  360            44       0.001   \n",
       "        4th    0.000010  0.004792  0.004804  360            52       0.018   \n",
       "        5th    0.000002  0.003653  0.004279  360            68       0.020   \n",
       "        6th    0.000002  0.002769  0.003016  360            90       0.022   \n",
       "        7th    0.000010  0.002442  0.002334  360           102       0.018   \n",
       "        8th    0.000050  0.001885  0.002770  360           132       0.000   \n",
       "        9th    0.000004  0.001600  0.002013  360           156       0.021   \n",
       "        10th   0.000011  0.001301  0.001753  360           192       0.013   \n",
       "        11th   0.000031  0.001256  0.001548  360           199       0.002   \n",
       "        12th   0.000006  0.001386  0.001478  360           180       0.016   \n",
       "\n",
       "               1/alpha2 [day]  1/gamma [day]      RMSLE  Trials       Runtime  \n",
       "Country Phase                                                                  \n",
       "Russia  0th                 0            108  18.966727    1438  1 min  0 sec  \n",
       "        1st              2144             48   0.066392    2001  1 min  0 sec  \n",
       "        2nd              2549             50   0.057008    1634  1 min  0 sec  \n",
       "        3rd              2365             43   0.079021    1827  1 min  0 sec  \n",
       "        4th             25081             52   0.072739    1410  1 min  0 sec  \n",
       "        5th            102952             58   0.058954    1756  1 min  0 sec  \n",
       "        6th            132403             82   0.049641    1658  1 min  0 sec  \n",
       "        7th             25081            107   0.048580    1361  1 min  0 sec  \n",
       "        8th              4982             90   0.058446    1804  1 min  0 sec  \n",
       "        9th             68346            124   0.052216    2031  1 min  0 sec  \n",
       "        10th            22576            142   0.050717    1374  1 min  0 sec  \n",
       "        11th             7990            161   0.011979    1134  0 min 30 sec  \n",
       "        12th            40976            169   0.008268    1507  0 min 55 sec  "
      ]
     },
     "execution_count": 12,
     "metadata": {},
     "output_type": "execute_result"
    }
   ],
   "source": [
    "# Show summary\n",
    "analyser.summary(countries=countries_show)"
   ]
  },
  {
   "cell_type": "markdown",
   "metadata": {},
   "source": [
    "## Compare the history of parameters\n",
    "Here, compare the history of parameter values if countries."
   ]
  },
  {
   "cell_type": "code",
   "execution_count": 13,
   "metadata": {
    "collapsed": false
   },
   "outputs": [
    {
     "data": {
      "text/html": [
       "<div>\n",
       "<style scoped>\n",
       "    .dataframe tbody tr th:only-of-type {\n",
       "        vertical-align: middle;\n",
       "    }\n",
       "\n",
       "    .dataframe tbody tr th {\n",
       "        vertical-align: top;\n",
       "    }\n",
       "\n",
       "    .dataframe thead th {\n",
       "        text-align: right;\n",
       "    }\n",
       "</style>\n",
       "<table border=\"1\" class=\"dataframe\">\n",
       "  <thead>\n",
       "    <tr style=\"text-align: right;\">\n",
       "      <th></th>\n",
       "      <th>Date</th>\n",
       "      <th>Country</th>\n",
       "      <th>theta</th>\n",
       "      <th>kappa</th>\n",
       "      <th>rho</th>\n",
       "      <th>sigma</th>\n",
       "      <th>alpha1 [-]</th>\n",
       "      <th>1/alpha2 [day]</th>\n",
       "      <th>1/beta [day]</th>\n",
       "      <th>1/gamma [day]</th>\n",
       "      <th>...</th>\n",
       "      <th>Cancel_events</th>\n",
       "      <th>Gatherings_restrictions</th>\n",
       "      <th>Transport_closing</th>\n",
       "      <th>Stay_home_restrictions</th>\n",
       "      <th>Internal_movement_restrictions</th>\n",
       "      <th>International_movement_restrictions</th>\n",
       "      <th>Information_campaigns</th>\n",
       "      <th>Testing_policy</th>\n",
       "      <th>Contact_tracing</th>\n",
       "      <th>Stringency_index</th>\n",
       "    </tr>\n",
       "  </thead>\n",
       "  <tbody>\n",
       "    <tr>\n",
       "      <th>0</th>\n",
       "      <td>2020-03-16</td>\n",
       "      <td>Brazil</td>\n",
       "      <td>0.113477</td>\n",
       "      <td>0.00072685</td>\n",
       "      <td>0.0302103</td>\n",
       "      <td>0.000246847</td>\n",
       "      <td>0.113</td>\n",
       "      <td>343</td>\n",
       "      <td>8</td>\n",
       "      <td>1012</td>\n",
       "      <td>...</td>\n",
       "      <td>2</td>\n",
       "      <td>2</td>\n",
       "      <td>0</td>\n",
       "      <td>1</td>\n",
       "      <td>0</td>\n",
       "      <td>2</td>\n",
       "      <td>2</td>\n",
       "      <td>1</td>\n",
       "      <td>0</td>\n",
       "      <td>42.13</td>\n",
       "    </tr>\n",
       "    <tr>\n",
       "      <th>1</th>\n",
       "      <td>2020-03-17</td>\n",
       "      <td>Brazil</td>\n",
       "      <td>0.113477</td>\n",
       "      <td>0.00072685</td>\n",
       "      <td>0.0302103</td>\n",
       "      <td>0.000246847</td>\n",
       "      <td>0.113</td>\n",
       "      <td>343</td>\n",
       "      <td>8</td>\n",
       "      <td>1012</td>\n",
       "      <td>...</td>\n",
       "      <td>2</td>\n",
       "      <td>2</td>\n",
       "      <td>0</td>\n",
       "      <td>1</td>\n",
       "      <td>2</td>\n",
       "      <td>2</td>\n",
       "      <td>2</td>\n",
       "      <td>1</td>\n",
       "      <td>0</td>\n",
       "      <td>57.87</td>\n",
       "    </tr>\n",
       "    <tr>\n",
       "      <th>2</th>\n",
       "      <td>2020-03-18</td>\n",
       "      <td>Brazil</td>\n",
       "      <td>0.113477</td>\n",
       "      <td>0.00072685</td>\n",
       "      <td>0.0302103</td>\n",
       "      <td>0.000246847</td>\n",
       "      <td>0.113</td>\n",
       "      <td>343</td>\n",
       "      <td>8</td>\n",
       "      <td>1012</td>\n",
       "      <td>...</td>\n",
       "      <td>2</td>\n",
       "      <td>3</td>\n",
       "      <td>0</td>\n",
       "      <td>1</td>\n",
       "      <td>2</td>\n",
       "      <td>2</td>\n",
       "      <td>2</td>\n",
       "      <td>1</td>\n",
       "      <td>0</td>\n",
       "      <td>60.65</td>\n",
       "    </tr>\n",
       "    <tr>\n",
       "      <th>3</th>\n",
       "      <td>2020-03-19</td>\n",
       "      <td>Brazil</td>\n",
       "      <td>0.113477</td>\n",
       "      <td>0.00072685</td>\n",
       "      <td>0.0302103</td>\n",
       "      <td>0.000246847</td>\n",
       "      <td>0.113</td>\n",
       "      <td>343</td>\n",
       "      <td>8</td>\n",
       "      <td>1012</td>\n",
       "      <td>...</td>\n",
       "      <td>2</td>\n",
       "      <td>3</td>\n",
       "      <td>1</td>\n",
       "      <td>1</td>\n",
       "      <td>2</td>\n",
       "      <td>3</td>\n",
       "      <td>2</td>\n",
       "      <td>1</td>\n",
       "      <td>0</td>\n",
       "      <td>66.20</td>\n",
       "    </tr>\n",
       "    <tr>\n",
       "      <th>4</th>\n",
       "      <td>2020-03-20</td>\n",
       "      <td>Brazil</td>\n",
       "      <td>0.113477</td>\n",
       "      <td>0.00072685</td>\n",
       "      <td>0.0302103</td>\n",
       "      <td>0.000246847</td>\n",
       "      <td>0.113</td>\n",
       "      <td>343</td>\n",
       "      <td>8</td>\n",
       "      <td>1012</td>\n",
       "      <td>...</td>\n",
       "      <td>2</td>\n",
       "      <td>3</td>\n",
       "      <td>1</td>\n",
       "      <td>1</td>\n",
       "      <td>2</td>\n",
       "      <td>3</td>\n",
       "      <td>2</td>\n",
       "      <td>1</td>\n",
       "      <td>0</td>\n",
       "      <td>66.20</td>\n",
       "    </tr>\n",
       "  </tbody>\n",
       "</table>\n",
       "<p>5 rows × 23 columns</p>\n",
       "</div>"
      ],
      "text/plain": [
       "        Date Country     theta       kappa        rho        sigma alpha1 [-]  \\\n",
       "0 2020-03-16  Brazil  0.113477  0.00072685  0.0302103  0.000246847      0.113   \n",
       "1 2020-03-17  Brazil  0.113477  0.00072685  0.0302103  0.000246847      0.113   \n",
       "2 2020-03-18  Brazil  0.113477  0.00072685  0.0302103  0.000246847      0.113   \n",
       "3 2020-03-19  Brazil  0.113477  0.00072685  0.0302103  0.000246847      0.113   \n",
       "4 2020-03-20  Brazil  0.113477  0.00072685  0.0302103  0.000246847      0.113   \n",
       "\n",
       "  1/alpha2 [day] 1/beta [day] 1/gamma [day]  ... Cancel_events  \\\n",
       "0            343            8          1012  ...             2   \n",
       "1            343            8          1012  ...             2   \n",
       "2            343            8          1012  ...             2   \n",
       "3            343            8          1012  ...             2   \n",
       "4            343            8          1012  ...             2   \n",
       "\n",
       "   Gatherings_restrictions  Transport_closing  Stay_home_restrictions  \\\n",
       "0                        2                  0                       1   \n",
       "1                        2                  0                       1   \n",
       "2                        3                  0                       1   \n",
       "3                        3                  1                       1   \n",
       "4                        3                  1                       1   \n",
       "\n",
       "   Internal_movement_restrictions  International_movement_restrictions  \\\n",
       "0                               0                                    2   \n",
       "1                               2                                    2   \n",
       "2                               2                                    2   \n",
       "3                               2                                    3   \n",
       "4                               2                                    3   \n",
       "\n",
       "   Information_campaigns  Testing_policy  Contact_tracing  Stringency_index  \n",
       "0                      2               1                0             42.13  \n",
       "1                      2               1                0             57.87  \n",
       "2                      2               1                0             60.65  \n",
       "3                      2               1                0             66.20  \n",
       "4                      2               1                0             66.20  \n",
       "\n",
       "[5 rows x 23 columns]"
      ]
     },
     "execution_count": 13,
     "metadata": {},
     "output_type": "execute_result"
    }
   ],
   "source": [
    "# All parameter/day parameter/Rt/OxCGRT\n",
    "analyser.track().head()"
   ]
  },
  {
   "cell_type": "markdown",
   "metadata": {},
   "source": [
    "### $Rt$: Reprodcution number $\\mathrm{[-]}$"
   ]
  },
  {
   "cell_type": "code",
   "execution_count": 14,
   "metadata": {
    "collapsed": false
   },
   "outputs": [
    {
     "data": {
      "image/png": "[encoded data removed]",
      "text/plain": [
       "<Figure size 648x432 with 1 Axes>"
      ]
     },
     "metadata": {},
     "output_type": "display_data"
    },
    {
     "data": {
      "text/html": [
       "<div>\n",
       "<style scoped>\n",
       "    .dataframe tbody tr th:only-of-type {\n",
       "        vertical-align: middle;\n",
       "    }\n",
       "\n",
       "    .dataframe tbody tr th {\n",
       "        vertical-align: top;\n",
       "    }\n",
       "\n",
       "    .dataframe thead th {\n",
       "        text-align: right;\n",
       "    }\n",
       "</style>\n",
       "<table border=\"1\" class=\"dataframe\">\n",
       "  <thead>\n",
       "    <tr style=\"text-align: right;\">\n",
       "      <th>Country</th>\n",
       "      <th>Bahrain</th>\n",
       "      <th>Bolivia</th>\n",
       "      <th>Brazil</th>\n",
       "      <th>France</th>\n",
       "      <th>Guinea</th>\n",
       "      <th>Hungary</th>\n",
       "      <th>Iran</th>\n",
       "      <th>Italy</th>\n",
       "      <th>Kuwait</th>\n",
       "      <th>Mexico</th>\n",
       "      <th>Peru</th>\n",
       "      <th>Portugal</th>\n",
       "      <th>Russia</th>\n",
       "      <th>Turkey</th>\n",
       "      <th>United Arab Emirates</th>\n",
       "      <th>United States</th>\n",
       "    </tr>\n",
       "    <tr>\n",
       "      <th>Date</th>\n",
       "      <th></th>\n",
       "      <th></th>\n",
       "      <th></th>\n",
       "      <th></th>\n",
       "      <th></th>\n",
       "      <th></th>\n",
       "      <th></th>\n",
       "      <th></th>\n",
       "      <th></th>\n",
       "      <th></th>\n",
       "      <th></th>\n",
       "      <th></th>\n",
       "      <th></th>\n",
       "      <th></th>\n",
       "      <th></th>\n",
       "      <th></th>\n",
       "    </tr>\n",
       "  </thead>\n",
       "  <tbody>\n",
       "    <tr>\n",
       "      <th>2020-09-15</th>\n",
       "      <td>1.83</td>\n",
       "      <td>0.58</td>\n",
       "      <td>0.92</td>\n",
       "      <td>16.63</td>\n",
       "      <td>0.8</td>\n",
       "      <td>35.44</td>\n",
       "      <td>1.15</td>\n",
       "      <td>3.35</td>\n",
       "      <td>1.17</td>\n",
       "      <td>0.88</td>\n",
       "      <td>0.72</td>\n",
       "      <td>3.34</td>\n",
       "      <td>0.92</td>\n",
       "      <td>1.49</td>\n",
       "      <td>1.15</td>\n",
       "      <td>1.72</td>\n",
       "    </tr>\n",
       "    <tr>\n",
       "      <th>2020-09-16</th>\n",
       "      <td>1.83</td>\n",
       "      <td>0.58</td>\n",
       "      <td>0.92</td>\n",
       "      <td>16.63</td>\n",
       "      <td>0.8</td>\n",
       "      <td>35.44</td>\n",
       "      <td>1.15</td>\n",
       "      <td>3.35</td>\n",
       "      <td>1.17</td>\n",
       "      <td>0.88</td>\n",
       "      <td>0.72</td>\n",
       "      <td>3.34</td>\n",
       "      <td>0.92</td>\n",
       "      <td>1.49</td>\n",
       "      <td>1.15</td>\n",
       "      <td>1.72</td>\n",
       "    </tr>\n",
       "    <tr>\n",
       "      <th>2020-09-17</th>\n",
       "      <td>1.83</td>\n",
       "      <td>0.58</td>\n",
       "      <td>0.92</td>\n",
       "      <td>16.63</td>\n",
       "      <td>0.8</td>\n",
       "      <td>35.44</td>\n",
       "      <td>1.15</td>\n",
       "      <td>3.35</td>\n",
       "      <td>1.17</td>\n",
       "      <td>0.88</td>\n",
       "      <td>0.72</td>\n",
       "      <td>3.34</td>\n",
       "      <td>0.92</td>\n",
       "      <td>1.49</td>\n",
       "      <td>1.15</td>\n",
       "      <td>1.72</td>\n",
       "    </tr>\n",
       "    <tr>\n",
       "      <th>2020-09-18</th>\n",
       "      <td>1.83</td>\n",
       "      <td>0.58</td>\n",
       "      <td>0.92</td>\n",
       "      <td>16.63</td>\n",
       "      <td>0.8</td>\n",
       "      <td>35.44</td>\n",
       "      <td>1.15</td>\n",
       "      <td>3.35</td>\n",
       "      <td>1.17</td>\n",
       "      <td>0.88</td>\n",
       "      <td>0.72</td>\n",
       "      <td>3.34</td>\n",
       "      <td>0.92</td>\n",
       "      <td>1.49</td>\n",
       "      <td>1.15</td>\n",
       "      <td>1.72</td>\n",
       "    </tr>\n",
       "    <tr>\n",
       "      <th>2020-09-19</th>\n",
       "      <td>1.83</td>\n",
       "      <td>0.58</td>\n",
       "      <td>0.92</td>\n",
       "      <td>16.63</td>\n",
       "      <td>0.8</td>\n",
       "      <td>35.44</td>\n",
       "      <td>1.15</td>\n",
       "      <td>3.35</td>\n",
       "      <td>1.17</td>\n",
       "      <td>0.88</td>\n",
       "      <td>0.72</td>\n",
       "      <td>3.34</td>\n",
       "      <td>0.92</td>\n",
       "      <td>1.49</td>\n",
       "      <td>1.15</td>\n",
       "      <td>1.72</td>\n",
       "    </tr>\n",
       "  </tbody>\n",
       "</table>\n",
       "</div>"
      ],
      "text/plain": [
       "Country     Bahrain  Bolivia  Brazil  France  Guinea  Hungary  Iran  Italy  \\\n",
       "Date                                                                         \n",
       "2020-09-15     1.83     0.58    0.92   16.63     0.8    35.44  1.15   3.35   \n",
       "2020-09-16     1.83     0.58    0.92   16.63     0.8    35.44  1.15   3.35   \n",
       "2020-09-17     1.83     0.58    0.92   16.63     0.8    35.44  1.15   3.35   \n",
       "2020-09-18     1.83     0.58    0.92   16.63     0.8    35.44  1.15   3.35   \n",
       "2020-09-19     1.83     0.58    0.92   16.63     0.8    35.44  1.15   3.35   \n",
       "\n",
       "Country     Kuwait  Mexico  Peru  Portugal  Russia  Turkey  \\\n",
       "Date                                                         \n",
       "2020-09-15    1.17    0.88  0.72      3.34    0.92    1.49   \n",
       "2020-09-16    1.17    0.88  0.72      3.34    0.92    1.49   \n",
       "2020-09-17    1.17    0.88  0.72      3.34    0.92    1.49   \n",
       "2020-09-18    1.17    0.88  0.72      3.34    0.92    1.49   \n",
       "2020-09-19    1.17    0.88  0.72      3.34    0.92    1.49   \n",
       "\n",
       "Country     United Arab Emirates  United States  \n",
       "Date                                             \n",
       "2020-09-15                  1.15           1.72  \n",
       "2020-09-16                  1.15           1.72  \n",
       "2020-09-17                  1.15           1.72  \n",
       "2020-09-18                  1.15           1.72  \n",
       "2020-09-19                  1.15           1.72  "
      ]
     },
     "execution_count": 14,
     "metadata": {},
     "output_type": "execute_result"
    }
   ],
   "source": [
    "analyser.param_history(\"Rt\", roll_window=None).tail()"
   ]
  },
  {
   "cell_type": "markdown",
   "metadata": {},
   "source": [
    "### $\\rho$: Effective contact rate $\\mathrm{[-]}$"
   ]
  },
  {
   "cell_type": "code",
   "execution_count": 15,
   "metadata": {
    "collapsed": false
   },
   "outputs": [
    {
     "data": {
      "image/png": "[encoded data removed]",
      "text/plain": [
       "<Figure size 648x432 with 1 Axes>"
      ]
     },
     "metadata": {},
     "output_type": "display_data"
    },
    {
     "data": {
      "text/html": [
       "<div>\n",
       "<style scoped>\n",
       "    .dataframe tbody tr th:only-of-type {\n",
       "        vertical-align: middle;\n",
       "    }\n",
       "\n",
       "    .dataframe tbody tr th {\n",
       "        vertical-align: top;\n",
       "    }\n",
       "\n",
       "    .dataframe thead th {\n",
       "        text-align: right;\n",
       "    }\n",
       "</style>\n",
       "<table border=\"1\" class=\"dataframe\">\n",
       "  <thead>\n",
       "    <tr style=\"text-align: right;\">\n",
       "      <th>Country</th>\n",
       "      <th>Bahrain</th>\n",
       "      <th>Bolivia</th>\n",
       "      <th>Brazil</th>\n",
       "      <th>France</th>\n",
       "      <th>Guinea</th>\n",
       "      <th>Hungary</th>\n",
       "      <th>Iran</th>\n",
       "      <th>Italy</th>\n",
       "      <th>Kuwait</th>\n",
       "      <th>Mexico</th>\n",
       "      <th>Peru</th>\n",
       "      <th>Portugal</th>\n",
       "      <th>Russia</th>\n",
       "      <th>Turkey</th>\n",
       "      <th>United Arab Emirates</th>\n",
       "      <th>United States</th>\n",
       "    </tr>\n",
       "    <tr>\n",
       "      <th>Date</th>\n",
       "      <th></th>\n",
       "      <th></th>\n",
       "      <th></th>\n",
       "      <th></th>\n",
       "      <th></th>\n",
       "      <th></th>\n",
       "      <th></th>\n",
       "      <th></th>\n",
       "      <th></th>\n",
       "      <th></th>\n",
       "      <th></th>\n",
       "      <th></th>\n",
       "      <th></th>\n",
       "      <th></th>\n",
       "      <th></th>\n",
       "      <th></th>\n",
       "    </tr>\n",
       "  </thead>\n",
       "  <tbody>\n",
       "    <tr>\n",
       "      <th>2020-09-15</th>\n",
       "      <td>0.032007</td>\n",
       "      <td>0.005178</td>\n",
       "      <td>0.017767</td>\n",
       "      <td>0.006484</td>\n",
       "      <td>0.012565</td>\n",
       "      <td>0.030412</td>\n",
       "      <td>0.017708</td>\n",
       "      <td>0.010839</td>\n",
       "      <td>0.022298</td>\n",
       "      <td>0.031179</td>\n",
       "      <td>0.002361</td>\n",
       "      <td>0.002422</td>\n",
       "      <td>0.001386</td>\n",
       "      <td>0.021679</td>\n",
       "      <td>0.017001</td>\n",
       "      <td>0.002928</td>\n",
       "    </tr>\n",
       "    <tr>\n",
       "      <th>2020-09-16</th>\n",
       "      <td>0.032007</td>\n",
       "      <td>0.005178</td>\n",
       "      <td>0.017767</td>\n",
       "      <td>0.006484</td>\n",
       "      <td>0.012565</td>\n",
       "      <td>0.030412</td>\n",
       "      <td>0.017708</td>\n",
       "      <td>0.010839</td>\n",
       "      <td>0.022298</td>\n",
       "      <td>0.031179</td>\n",
       "      <td>0.002361</td>\n",
       "      <td>0.002422</td>\n",
       "      <td>0.001386</td>\n",
       "      <td>0.021679</td>\n",
       "      <td>0.017001</td>\n",
       "      <td>0.002928</td>\n",
       "    </tr>\n",
       "    <tr>\n",
       "      <th>2020-09-17</th>\n",
       "      <td>0.032007</td>\n",
       "      <td>0.005178</td>\n",
       "      <td>0.017767</td>\n",
       "      <td>0.006484</td>\n",
       "      <td>0.012565</td>\n",
       "      <td>0.030412</td>\n",
       "      <td>0.017708</td>\n",
       "      <td>0.010839</td>\n",
       "      <td>0.022298</td>\n",
       "      <td>0.031179</td>\n",
       "      <td>0.002361</td>\n",
       "      <td>0.002422</td>\n",
       "      <td>0.001386</td>\n",
       "      <td>0.021679</td>\n",
       "      <td>0.017001</td>\n",
       "      <td>0.002928</td>\n",
       "    </tr>\n",
       "    <tr>\n",
       "      <th>2020-09-18</th>\n",
       "      <td>0.032007</td>\n",
       "      <td>0.005178</td>\n",
       "      <td>0.017767</td>\n",
       "      <td>0.006484</td>\n",
       "      <td>0.012565</td>\n",
       "      <td>0.030412</td>\n",
       "      <td>0.017708</td>\n",
       "      <td>0.010839</td>\n",
       "      <td>0.022298</td>\n",
       "      <td>0.031179</td>\n",
       "      <td>0.002361</td>\n",
       "      <td>0.002422</td>\n",
       "      <td>0.001386</td>\n",
       "      <td>0.021679</td>\n",
       "      <td>0.017001</td>\n",
       "      <td>0.002928</td>\n",
       "    </tr>\n",
       "    <tr>\n",
       "      <th>2020-09-19</th>\n",
       "      <td>0.032007</td>\n",
       "      <td>0.005178</td>\n",
       "      <td>0.017767</td>\n",
       "      <td>0.006484</td>\n",
       "      <td>0.012565</td>\n",
       "      <td>0.030412</td>\n",
       "      <td>0.017708</td>\n",
       "      <td>0.010839</td>\n",
       "      <td>0.022298</td>\n",
       "      <td>0.031179</td>\n",
       "      <td>0.002361</td>\n",
       "      <td>0.002422</td>\n",
       "      <td>0.001386</td>\n",
       "      <td>0.021679</td>\n",
       "      <td>0.017001</td>\n",
       "      <td>0.002928</td>\n",
       "    </tr>\n",
       "  </tbody>\n",
       "</table>\n",
       "</div>"
      ],
      "text/plain": [
       "Country      Bahrain   Bolivia    Brazil    France    Guinea   Hungary  \\\n",
       "Date                                                                     \n",
       "2020-09-15  0.032007  0.005178  0.017767  0.006484  0.012565  0.030412   \n",
       "2020-09-16  0.032007  0.005178  0.017767  0.006484  0.012565  0.030412   \n",
       "2020-09-17  0.032007  0.005178  0.017767  0.006484  0.012565  0.030412   \n",
       "2020-09-18  0.032007  0.005178  0.017767  0.006484  0.012565  0.030412   \n",
       "2020-09-19  0.032007  0.005178  0.017767  0.006484  0.012565  0.030412   \n",
       "\n",
       "Country         Iran     Italy    Kuwait    Mexico      Peru  Portugal  \\\n",
       "Date                                                                     \n",
       "2020-09-15  0.017708  0.010839  0.022298  0.031179  0.002361  0.002422   \n",
       "2020-09-16  0.017708  0.010839  0.022298  0.031179  0.002361  0.002422   \n",
       "2020-09-17  0.017708  0.010839  0.022298  0.031179  0.002361  0.002422   \n",
       "2020-09-18  0.017708  0.010839  0.022298  0.031179  0.002361  0.002422   \n",
       "2020-09-19  0.017708  0.010839  0.022298  0.031179  0.002361  0.002422   \n",
       "\n",
       "Country       Russia    Turkey  United Arab Emirates  United States  \n",
       "Date                                                                 \n",
       "2020-09-15  0.001386  0.021679              0.017001       0.002928  \n",
       "2020-09-16  0.001386  0.021679              0.017001       0.002928  \n",
       "2020-09-17  0.001386  0.021679              0.017001       0.002928  \n",
       "2020-09-18  0.001386  0.021679              0.017001       0.002928  \n",
       "2020-09-19  0.001386  0.021679              0.017001       0.002928  "
      ]
     },
     "execution_count": 15,
     "metadata": {},
     "output_type": "execute_result"
    }
   ],
   "source": [
    "analyser.param_history(\"rho\", roll_window=None).tail()"
   ]
  },
  {
   "cell_type": "markdown",
   "metadata": {},
   "source": [
    "### $\\sigma$: Recovery rate $\\mathrm{[-]}$"
   ]
  },
  {
   "cell_type": "code",
   "execution_count": 16,
   "metadata": {
    "collapsed": false
   },
   "outputs": [
    {
     "data": {
      "image/png": "[encoded data removed]",
      "text/plain": [
       "<Figure size 648x432 with 1 Axes>"
      ]
     },
     "metadata": {},
     "output_type": "display_data"
    },
    {
     "data": {
      "text/html": [
       "<div>\n",
       "<style scoped>\n",
       "    .dataframe tbody tr th:only-of-type {\n",
       "        vertical-align: middle;\n",
       "    }\n",
       "\n",
       "    .dataframe tbody tr th {\n",
       "        vertical-align: top;\n",
       "    }\n",
       "\n",
       "    .dataframe thead th {\n",
       "        text-align: right;\n",
       "    }\n",
       "</style>\n",
       "<table border=\"1\" class=\"dataframe\">\n",
       "  <thead>\n",
       "    <tr style=\"text-align: right;\">\n",
       "      <th>Country</th>\n",
       "      <th>Bahrain</th>\n",
       "      <th>Bolivia</th>\n",
       "      <th>Brazil</th>\n",
       "      <th>France</th>\n",
       "      <th>Guinea</th>\n",
       "      <th>Hungary</th>\n",
       "      <th>Iran</th>\n",
       "      <th>Italy</th>\n",
       "      <th>Kuwait</th>\n",
       "      <th>Mexico</th>\n",
       "      <th>Peru</th>\n",
       "      <th>Portugal</th>\n",
       "      <th>Russia</th>\n",
       "      <th>Turkey</th>\n",
       "      <th>United Arab Emirates</th>\n",
       "      <th>United States</th>\n",
       "    </tr>\n",
       "    <tr>\n",
       "      <th>Date</th>\n",
       "      <th></th>\n",
       "      <th></th>\n",
       "      <th></th>\n",
       "      <th></th>\n",
       "      <th></th>\n",
       "      <th></th>\n",
       "      <th></th>\n",
       "      <th></th>\n",
       "      <th></th>\n",
       "      <th></th>\n",
       "      <th></th>\n",
       "      <th></th>\n",
       "      <th></th>\n",
       "      <th></th>\n",
       "      <th></th>\n",
       "      <th></th>\n",
       "    </tr>\n",
       "  </thead>\n",
       "  <tbody>\n",
       "    <tr>\n",
       "      <th>2020-09-15</th>\n",
       "      <td>0.017438</td>\n",
       "      <td>0.008329</td>\n",
       "      <td>0.019009</td>\n",
       "      <td>0.00033</td>\n",
       "      <td>0.015564</td>\n",
       "      <td>0.000773</td>\n",
       "      <td>0.01441</td>\n",
       "      <td>0.003173</td>\n",
       "      <td>0.019022</td>\n",
       "      <td>0.032263</td>\n",
       "      <td>0.003197</td>\n",
       "      <td>0.000685</td>\n",
       "      <td>0.001478</td>\n",
       "      <td>0.014204</td>\n",
       "      <td>0.014704</td>\n",
       "      <td>0.001623</td>\n",
       "    </tr>\n",
       "    <tr>\n",
       "      <th>2020-09-16</th>\n",
       "      <td>0.017438</td>\n",
       "      <td>0.008329</td>\n",
       "      <td>0.019009</td>\n",
       "      <td>0.00033</td>\n",
       "      <td>0.015564</td>\n",
       "      <td>0.000773</td>\n",
       "      <td>0.01441</td>\n",
       "      <td>0.003173</td>\n",
       "      <td>0.019022</td>\n",
       "      <td>0.032263</td>\n",
       "      <td>0.003197</td>\n",
       "      <td>0.000685</td>\n",
       "      <td>0.001478</td>\n",
       "      <td>0.014204</td>\n",
       "      <td>0.014704</td>\n",
       "      <td>0.001623</td>\n",
       "    </tr>\n",
       "    <tr>\n",
       "      <th>2020-09-17</th>\n",
       "      <td>0.017438</td>\n",
       "      <td>0.008329</td>\n",
       "      <td>0.019009</td>\n",
       "      <td>0.00033</td>\n",
       "      <td>0.015564</td>\n",
       "      <td>0.000773</td>\n",
       "      <td>0.01441</td>\n",
       "      <td>0.003173</td>\n",
       "      <td>0.019022</td>\n",
       "      <td>0.032263</td>\n",
       "      <td>0.003197</td>\n",
       "      <td>0.000685</td>\n",
       "      <td>0.001478</td>\n",
       "      <td>0.014204</td>\n",
       "      <td>0.014704</td>\n",
       "      <td>0.001623</td>\n",
       "    </tr>\n",
       "    <tr>\n",
       "      <th>2020-09-18</th>\n",
       "      <td>0.017438</td>\n",
       "      <td>0.008329</td>\n",
       "      <td>0.019009</td>\n",
       "      <td>0.00033</td>\n",
       "      <td>0.015564</td>\n",
       "      <td>0.000773</td>\n",
       "      <td>0.01441</td>\n",
       "      <td>0.003173</td>\n",
       "      <td>0.019022</td>\n",
       "      <td>0.032263</td>\n",
       "      <td>0.003197</td>\n",
       "      <td>0.000685</td>\n",
       "      <td>0.001478</td>\n",
       "      <td>0.014204</td>\n",
       "      <td>0.014704</td>\n",
       "      <td>0.001623</td>\n",
       "    </tr>\n",
       "    <tr>\n",
       "      <th>2020-09-19</th>\n",
       "      <td>0.017438</td>\n",
       "      <td>0.008329</td>\n",
       "      <td>0.019009</td>\n",
       "      <td>0.00033</td>\n",
       "      <td>0.015564</td>\n",
       "      <td>0.000773</td>\n",
       "      <td>0.01441</td>\n",
       "      <td>0.003173</td>\n",
       "      <td>0.019022</td>\n",
       "      <td>0.032263</td>\n",
       "      <td>0.003197</td>\n",
       "      <td>0.000685</td>\n",
       "      <td>0.001478</td>\n",
       "      <td>0.014204</td>\n",
       "      <td>0.014704</td>\n",
       "      <td>0.001623</td>\n",
       "    </tr>\n",
       "  </tbody>\n",
       "</table>\n",
       "</div>"
      ],
      "text/plain": [
       "Country      Bahrain   Bolivia    Brazil   France    Guinea   Hungary  \\\n",
       "Date                                                                    \n",
       "2020-09-15  0.017438  0.008329  0.019009  0.00033  0.015564  0.000773   \n",
       "2020-09-16  0.017438  0.008329  0.019009  0.00033  0.015564  0.000773   \n",
       "2020-09-17  0.017438  0.008329  0.019009  0.00033  0.015564  0.000773   \n",
       "2020-09-18  0.017438  0.008329  0.019009  0.00033  0.015564  0.000773   \n",
       "2020-09-19  0.017438  0.008329  0.019009  0.00033  0.015564  0.000773   \n",
       "\n",
       "Country        Iran     Italy    Kuwait    Mexico      Peru  Portugal  \\\n",
       "Date                                                                    \n",
       "2020-09-15  0.01441  0.003173  0.019022  0.032263  0.003197  0.000685   \n",
       "2020-09-16  0.01441  0.003173  0.019022  0.032263  0.003197  0.000685   \n",
       "2020-09-17  0.01441  0.003173  0.019022  0.032263  0.003197  0.000685   \n",
       "2020-09-18  0.01441  0.003173  0.019022  0.032263  0.003197  0.000685   \n",
       "2020-09-19  0.01441  0.003173  0.019022  0.032263  0.003197  0.000685   \n",
       "\n",
       "Country       Russia    Turkey  United Arab Emirates  United States  \n",
       "Date                                                                 \n",
       "2020-09-15  0.001478  0.014204              0.014704       0.001623  \n",
       "2020-09-16  0.001478  0.014204              0.014704       0.001623  \n",
       "2020-09-17  0.001478  0.014204              0.014704       0.001623  \n",
       "2020-09-18  0.001478  0.014204              0.014704       0.001623  \n",
       "2020-09-19  0.001478  0.014204              0.014704       0.001623  "
      ]
     },
     "execution_count": 16,
     "metadata": {},
     "output_type": "execute_result"
    }
   ],
   "source": [
    "analyser.param_history(\"sigma\", roll_window=None).tail()"
   ]
  },
  {
   "cell_type": "markdown",
   "metadata": {},
   "source": [
    "### $\\kappa$: Mortality rate of infected cases $\\mathrm{[-]}$"
   ]
  },
  {
   "cell_type": "code",
   "execution_count": 17,
   "metadata": {
    "collapsed": false
   },
   "outputs": [
    {
     "data": {
      "image/png": "[encoded data removed]",
      "text/plain": [
       "<Figure size 648x432 with 1 Axes>"
      ]
     },
     "metadata": {},
     "output_type": "display_data"
    },
    {
     "data": {
      "text/html": [
       "<div>\n",
       "<style scoped>\n",
       "    .dataframe tbody tr th:only-of-type {\n",
       "        vertical-align: middle;\n",
       "    }\n",
       "\n",
       "    .dataframe tbody tr th {\n",
       "        vertical-align: top;\n",
       "    }\n",
       "\n",
       "    .dataframe thead th {\n",
       "        text-align: right;\n",
       "    }\n",
       "</style>\n",
       "<table border=\"1\" class=\"dataframe\">\n",
       "  <thead>\n",
       "    <tr style=\"text-align: right;\">\n",
       "      <th>Country</th>\n",
       "      <th>Bahrain</th>\n",
       "      <th>Bolivia</th>\n",
       "      <th>Brazil</th>\n",
       "      <th>France</th>\n",
       "      <th>Guinea</th>\n",
       "      <th>Hungary</th>\n",
       "      <th>Iran</th>\n",
       "      <th>Italy</th>\n",
       "      <th>Kuwait</th>\n",
       "      <th>Mexico</th>\n",
       "      <th>Peru</th>\n",
       "      <th>Portugal</th>\n",
       "      <th>Russia</th>\n",
       "      <th>Turkey</th>\n",
       "      <th>United Arab Emirates</th>\n",
       "      <th>United States</th>\n",
       "    </tr>\n",
       "    <tr>\n",
       "      <th>Date</th>\n",
       "      <th></th>\n",
       "      <th></th>\n",
       "      <th></th>\n",
       "      <th></th>\n",
       "      <th></th>\n",
       "      <th></th>\n",
       "      <th></th>\n",
       "      <th></th>\n",
       "      <th></th>\n",
       "      <th></th>\n",
       "      <th></th>\n",
       "      <th></th>\n",
       "      <th></th>\n",
       "      <th></th>\n",
       "      <th></th>\n",
       "      <th></th>\n",
       "    </tr>\n",
       "  </thead>\n",
       "  <tbody>\n",
       "    <tr>\n",
       "      <th>2020-09-15</th>\n",
       "      <td>0.000084</td>\n",
       "      <td>0.000046</td>\n",
       "      <td>0.000384</td>\n",
       "      <td>0.00006</td>\n",
       "      <td>0.000185</td>\n",
       "      <td>0.000085</td>\n",
       "      <td>0.000945</td>\n",
       "      <td>0.00006</td>\n",
       "      <td>0.00006</td>\n",
       "      <td>0.000777</td>\n",
       "      <td>0.000069</td>\n",
       "      <td>0.000041</td>\n",
       "      <td>0.000006</td>\n",
       "      <td>0.000309</td>\n",
       "      <td>0.000024</td>\n",
       "      <td>0.00007</td>\n",
       "    </tr>\n",
       "    <tr>\n",
       "      <th>2020-09-16</th>\n",
       "      <td>0.000084</td>\n",
       "      <td>0.000046</td>\n",
       "      <td>0.000384</td>\n",
       "      <td>0.00006</td>\n",
       "      <td>0.000185</td>\n",
       "      <td>0.000085</td>\n",
       "      <td>0.000945</td>\n",
       "      <td>0.00006</td>\n",
       "      <td>0.00006</td>\n",
       "      <td>0.000777</td>\n",
       "      <td>0.000069</td>\n",
       "      <td>0.000041</td>\n",
       "      <td>0.000006</td>\n",
       "      <td>0.000309</td>\n",
       "      <td>0.000024</td>\n",
       "      <td>0.00007</td>\n",
       "    </tr>\n",
       "    <tr>\n",
       "      <th>2020-09-17</th>\n",
       "      <td>0.000084</td>\n",
       "      <td>0.000046</td>\n",
       "      <td>0.000384</td>\n",
       "      <td>0.00006</td>\n",
       "      <td>0.000185</td>\n",
       "      <td>0.000085</td>\n",
       "      <td>0.000945</td>\n",
       "      <td>0.00006</td>\n",
       "      <td>0.00006</td>\n",
       "      <td>0.000777</td>\n",
       "      <td>0.000069</td>\n",
       "      <td>0.000041</td>\n",
       "      <td>0.000006</td>\n",
       "      <td>0.000309</td>\n",
       "      <td>0.000024</td>\n",
       "      <td>0.00007</td>\n",
       "    </tr>\n",
       "    <tr>\n",
       "      <th>2020-09-18</th>\n",
       "      <td>0.000084</td>\n",
       "      <td>0.000046</td>\n",
       "      <td>0.000384</td>\n",
       "      <td>0.00006</td>\n",
       "      <td>0.000185</td>\n",
       "      <td>0.000085</td>\n",
       "      <td>0.000945</td>\n",
       "      <td>0.00006</td>\n",
       "      <td>0.00006</td>\n",
       "      <td>0.000777</td>\n",
       "      <td>0.000069</td>\n",
       "      <td>0.000041</td>\n",
       "      <td>0.000006</td>\n",
       "      <td>0.000309</td>\n",
       "      <td>0.000024</td>\n",
       "      <td>0.00007</td>\n",
       "    </tr>\n",
       "    <tr>\n",
       "      <th>2020-09-19</th>\n",
       "      <td>0.000084</td>\n",
       "      <td>0.000046</td>\n",
       "      <td>0.000384</td>\n",
       "      <td>0.00006</td>\n",
       "      <td>0.000185</td>\n",
       "      <td>0.000085</td>\n",
       "      <td>0.000945</td>\n",
       "      <td>0.00006</td>\n",
       "      <td>0.00006</td>\n",
       "      <td>0.000777</td>\n",
       "      <td>0.000069</td>\n",
       "      <td>0.000041</td>\n",
       "      <td>0.000006</td>\n",
       "      <td>0.000309</td>\n",
       "      <td>0.000024</td>\n",
       "      <td>0.00007</td>\n",
       "    </tr>\n",
       "  </tbody>\n",
       "</table>\n",
       "</div>"
      ],
      "text/plain": [
       "Country      Bahrain   Bolivia    Brazil   France    Guinea   Hungary  \\\n",
       "Date                                                                    \n",
       "2020-09-15  0.000084  0.000046  0.000384  0.00006  0.000185  0.000085   \n",
       "2020-09-16  0.000084  0.000046  0.000384  0.00006  0.000185  0.000085   \n",
       "2020-09-17  0.000084  0.000046  0.000384  0.00006  0.000185  0.000085   \n",
       "2020-09-18  0.000084  0.000046  0.000384  0.00006  0.000185  0.000085   \n",
       "2020-09-19  0.000084  0.000046  0.000384  0.00006  0.000185  0.000085   \n",
       "\n",
       "Country         Iran    Italy   Kuwait    Mexico      Peru  Portugal  \\\n",
       "Date                                                                   \n",
       "2020-09-15  0.000945  0.00006  0.00006  0.000777  0.000069  0.000041   \n",
       "2020-09-16  0.000945  0.00006  0.00006  0.000777  0.000069  0.000041   \n",
       "2020-09-17  0.000945  0.00006  0.00006  0.000777  0.000069  0.000041   \n",
       "2020-09-18  0.000945  0.00006  0.00006  0.000777  0.000069  0.000041   \n",
       "2020-09-19  0.000945  0.00006  0.00006  0.000777  0.000069  0.000041   \n",
       "\n",
       "Country       Russia    Turkey  United Arab Emirates  United States  \n",
       "Date                                                                 \n",
       "2020-09-15  0.000006  0.000309              0.000024        0.00007  \n",
       "2020-09-16  0.000006  0.000309              0.000024        0.00007  \n",
       "2020-09-17  0.000006  0.000309              0.000024        0.00007  \n",
       "2020-09-18  0.000006  0.000309              0.000024        0.00007  \n",
       "2020-09-19  0.000006  0.000309              0.000024        0.00007  "
      ]
     },
     "execution_count": 17,
     "metadata": {},
     "output_type": "execute_result"
    }
   ],
   "source": [
    "analyser.param_history(\"kappa\", roll_window=None).tail()"
   ]
  },
  {
   "cell_type": "markdown",
   "metadata": {},
   "source": [
    "### $\\theta$: Mortality rate of S$^\\ast$ cases $\\mathrm{[-]}$"
   ]
  },
  {
   "cell_type": "code",
   "execution_count": 18,
   "metadata": {
    "collapsed": false
   },
   "outputs": [
    {
     "data": {
      "image/png": "[encoded data removed]",
      "text/plain": [
       "<Figure size 648x432 with 1 Axes>"
      ]
     },
     "metadata": {},
     "output_type": "display_data"
    },
    {
     "data": {
      "text/html": [
       "<div>\n",
       "<style scoped>\n",
       "    .dataframe tbody tr th:only-of-type {\n",
       "        vertical-align: middle;\n",
       "    }\n",
       "\n",
       "    .dataframe tbody tr th {\n",
       "        vertical-align: top;\n",
       "    }\n",
       "\n",
       "    .dataframe thead th {\n",
       "        text-align: right;\n",
       "    }\n",
       "</style>\n",
       "<table border=\"1\" class=\"dataframe\">\n",
       "  <thead>\n",
       "    <tr style=\"text-align: right;\">\n",
       "      <th>Country</th>\n",
       "      <th>Bahrain</th>\n",
       "      <th>Bolivia</th>\n",
       "      <th>Brazil</th>\n",
       "      <th>France</th>\n",
       "      <th>Guinea</th>\n",
       "      <th>Hungary</th>\n",
       "      <th>Iran</th>\n",
       "      <th>Italy</th>\n",
       "      <th>Kuwait</th>\n",
       "      <th>Mexico</th>\n",
       "      <th>Peru</th>\n",
       "      <th>Portugal</th>\n",
       "      <th>Russia</th>\n",
       "      <th>Turkey</th>\n",
       "      <th>United Arab Emirates</th>\n",
       "      <th>United States</th>\n",
       "    </tr>\n",
       "    <tr>\n",
       "      <th>Date</th>\n",
       "      <th></th>\n",
       "      <th></th>\n",
       "      <th></th>\n",
       "      <th></th>\n",
       "      <th></th>\n",
       "      <th></th>\n",
       "      <th></th>\n",
       "      <th></th>\n",
       "      <th></th>\n",
       "      <th></th>\n",
       "      <th></th>\n",
       "      <th></th>\n",
       "      <th></th>\n",
       "      <th></th>\n",
       "      <th></th>\n",
       "      <th></th>\n",
       "    </tr>\n",
       "  </thead>\n",
       "  <tbody>\n",
       "    <tr>\n",
       "      <th>2020-09-15</th>\n",
       "      <td>0.000453</td>\n",
       "      <td>0.062056</td>\n",
       "      <td>0.000652</td>\n",
       "      <td>0.000239</td>\n",
       "      <td>0.000439</td>\n",
       "      <td>0.000823</td>\n",
       "      <td>0.003057</td>\n",
       "      <td>0.000239</td>\n",
       "      <td>0.000158</td>\n",
       "      <td>0.067375</td>\n",
       "      <td>0.00172</td>\n",
       "      <td>0.000019</td>\n",
       "      <td>0.01578</td>\n",
       "      <td>0.003232</td>\n",
       "      <td>0.000667</td>\n",
       "      <td>0.003489</td>\n",
       "    </tr>\n",
       "    <tr>\n",
       "      <th>2020-09-16</th>\n",
       "      <td>0.000453</td>\n",
       "      <td>0.062056</td>\n",
       "      <td>0.000652</td>\n",
       "      <td>0.000239</td>\n",
       "      <td>0.000439</td>\n",
       "      <td>0.000823</td>\n",
       "      <td>0.003057</td>\n",
       "      <td>0.000239</td>\n",
       "      <td>0.000158</td>\n",
       "      <td>0.067375</td>\n",
       "      <td>0.00172</td>\n",
       "      <td>0.000019</td>\n",
       "      <td>0.01578</td>\n",
       "      <td>0.003232</td>\n",
       "      <td>0.000667</td>\n",
       "      <td>0.003489</td>\n",
       "    </tr>\n",
       "    <tr>\n",
       "      <th>2020-09-17</th>\n",
       "      <td>0.000453</td>\n",
       "      <td>0.062056</td>\n",
       "      <td>0.000652</td>\n",
       "      <td>0.000239</td>\n",
       "      <td>0.000439</td>\n",
       "      <td>0.000823</td>\n",
       "      <td>0.003057</td>\n",
       "      <td>0.000239</td>\n",
       "      <td>0.000158</td>\n",
       "      <td>0.067375</td>\n",
       "      <td>0.00172</td>\n",
       "      <td>0.000019</td>\n",
       "      <td>0.01578</td>\n",
       "      <td>0.003232</td>\n",
       "      <td>0.000667</td>\n",
       "      <td>0.003489</td>\n",
       "    </tr>\n",
       "    <tr>\n",
       "      <th>2020-09-18</th>\n",
       "      <td>0.000453</td>\n",
       "      <td>0.062056</td>\n",
       "      <td>0.000652</td>\n",
       "      <td>0.000239</td>\n",
       "      <td>0.000439</td>\n",
       "      <td>0.000823</td>\n",
       "      <td>0.003057</td>\n",
       "      <td>0.000239</td>\n",
       "      <td>0.000158</td>\n",
       "      <td>0.067375</td>\n",
       "      <td>0.00172</td>\n",
       "      <td>0.000019</td>\n",
       "      <td>0.01578</td>\n",
       "      <td>0.003232</td>\n",
       "      <td>0.000667</td>\n",
       "      <td>0.003489</td>\n",
       "    </tr>\n",
       "    <tr>\n",
       "      <th>2020-09-19</th>\n",
       "      <td>0.000453</td>\n",
       "      <td>0.062056</td>\n",
       "      <td>0.000652</td>\n",
       "      <td>0.000239</td>\n",
       "      <td>0.000439</td>\n",
       "      <td>0.000823</td>\n",
       "      <td>0.003057</td>\n",
       "      <td>0.000239</td>\n",
       "      <td>0.000158</td>\n",
       "      <td>0.067375</td>\n",
       "      <td>0.00172</td>\n",
       "      <td>0.000019</td>\n",
       "      <td>0.01578</td>\n",
       "      <td>0.003232</td>\n",
       "      <td>0.000667</td>\n",
       "      <td>0.003489</td>\n",
       "    </tr>\n",
       "  </tbody>\n",
       "</table>\n",
       "</div>"
      ],
      "text/plain": [
       "Country      Bahrain   Bolivia    Brazil    France    Guinea   Hungary  \\\n",
       "Date                                                                     \n",
       "2020-09-15  0.000453  0.062056  0.000652  0.000239  0.000439  0.000823   \n",
       "2020-09-16  0.000453  0.062056  0.000652  0.000239  0.000439  0.000823   \n",
       "2020-09-17  0.000453  0.062056  0.000652  0.000239  0.000439  0.000823   \n",
       "2020-09-18  0.000453  0.062056  0.000652  0.000239  0.000439  0.000823   \n",
       "2020-09-19  0.000453  0.062056  0.000652  0.000239  0.000439  0.000823   \n",
       "\n",
       "Country         Iran     Italy    Kuwait    Mexico     Peru  Portugal  \\\n",
       "Date                                                                    \n",
       "2020-09-15  0.003057  0.000239  0.000158  0.067375  0.00172  0.000019   \n",
       "2020-09-16  0.003057  0.000239  0.000158  0.067375  0.00172  0.000019   \n",
       "2020-09-17  0.003057  0.000239  0.000158  0.067375  0.00172  0.000019   \n",
       "2020-09-18  0.003057  0.000239  0.000158  0.067375  0.00172  0.000019   \n",
       "2020-09-19  0.003057  0.000239  0.000158  0.067375  0.00172  0.000019   \n",
       "\n",
       "Country      Russia    Turkey  United Arab Emirates  United States  \n",
       "Date                                                                \n",
       "2020-09-15  0.01578  0.003232              0.000667       0.003489  \n",
       "2020-09-16  0.01578  0.003232              0.000667       0.003489  \n",
       "2020-09-17  0.01578  0.003232              0.000667       0.003489  \n",
       "2020-09-18  0.01578  0.003232              0.000667       0.003489  \n",
       "2020-09-19  0.01578  0.003232              0.000667       0.003489  "
      ]
     },
     "execution_count": 18,
     "metadata": {},
     "output_type": "execute_result"
    }
   ],
   "source": [
    "analyser.param_history(\"theta\", roll_window=None).tail()"
   ]
  },
  {
   "cell_type": "markdown",
   "metadata": {},
   "source": [
    "## (Experimental): Relationship of OxCGRT index and parameter values\n",
    "Government responses will impact on parameter values of ODE models about 14 days later. Here, we will investigate on the relationship of [stringency index (from OxCGRT)](https://github.com/OxCGRT/covid-policy-tracker/blob/master/documentation/index_methodology.md) and reproduction number/model parameters.\n"
   ]
  },
  {
   "cell_type": "code",
   "execution_count": 19,
   "metadata": {
    "collapsed": false
   },
   "outputs": [],
   "source": [
    "%matplotlib inline\n",
    "from matplotlib import pyplot as plt\n",
    "import seaborn as sns\n",
    "import pandas as pd"
   ]
  },
  {
   "cell_type": "code",
   "execution_count": 20,
   "metadata": {
    "collapsed": false
   },
   "outputs": [
    {
     "name": "stdout",
     "output_type": "stream",
     "text": [
      "<class 'pandas.core.frame.DataFrame'>\n",
      "Int64Index: 50004 entries, 0 to 50213\n",
      "Data columns (total 19 columns):\n",
      " #   Column                               Non-Null Count  Dtype         \n",
      "---  ------                               --------------  -----         \n",
      " 0   Date                                 50004 non-null  datetime64[ns]\n",
      " 1   Country                              50004 non-null  object        \n",
      " 2   Rt                                   50004 non-null  float64       \n",
      " 3   theta                                50004 non-null  float64       \n",
      " 4   kappa                                50004 non-null  float64       \n",
      " 5   rho                                  50004 non-null  float64       \n",
      " 6   sigma                                50004 non-null  float64       \n",
      " 7   School_closing                       50004 non-null  int64         \n",
      " 8   Workplace_closing                    50004 non-null  int64         \n",
      " 9   Cancel_events                        50004 non-null  int64         \n",
      " 10  Gatherings_restrictions              50004 non-null  int64         \n",
      " 11  Transport_closing                    50004 non-null  int64         \n",
      " 12  Stay_home_restrictions               50004 non-null  int64         \n",
      " 13  Internal_movement_restrictions       50004 non-null  int64         \n",
      " 14  International_movement_restrictions  50004 non-null  int64         \n",
      " 15  Information_campaigns                50004 non-null  int64         \n",
      " 16  Testing_policy                       50004 non-null  int64         \n",
      " 17  Contact_tracing                      50004 non-null  int64         \n",
      " 18  Stringency_index                     50004 non-null  float64       \n",
      "dtypes: datetime64[ns](1), float64(6), int64(11), object(1)\n",
      "memory usage: 7.6+ MB\n"
     ]
    }
   ],
   "source": [
    "df = analyser.track()\n",
    "param_cols = [\"Rt\", *cs.SIRF.PARAMETERS]\n",
    "oxcgrt_cols = oxcgrt_data.OXCGRT_VARS[:]\n",
    "cols = param_cols + oxcgrt_cols\n",
    "delay = 14\n",
    "\n",
    "for col in param_cols:\n",
    "    df[col] = pd.to_numeric(df[col], errors=\"coerce\")\n",
    "    df[col] = df.groupby(\"Country\")[col].shift(0 - delay)\n",
    "\n",
    "df = df.dropna(how=\"any\")\n",
    "df = df.loc[:, [\"Date\", \"Country\", *cols]]\n",
    "track_df = df.copy()\n",
    "track_df.info()"
   ]
  },
  {
   "cell_type": "code",
   "execution_count": 21,
   "metadata": {
    "collapsed": false
   },
   "outputs": [
    {
     "data": {
      "text/html": [
       "<style  type=\"text/css\" >\n",
       "#T_a65523f4_fa64_11ea_8f84_52540084ebbbrow0_col0,#T_a65523f4_fa64_11ea_8f84_52540084ebbbrow1_col1,#T_a65523f4_fa64_11ea_8f84_52540084ebbbrow2_col2,#T_a65523f4_fa64_11ea_8f84_52540084ebbbrow3_col3,#T_a65523f4_fa64_11ea_8f84_52540084ebbbrow4_col4,#T_a65523f4_fa64_11ea_8f84_52540084ebbbrow5_col5,#T_a65523f4_fa64_11ea_8f84_52540084ebbbrow6_col6,#T_a65523f4_fa64_11ea_8f84_52540084ebbbrow7_col7,#T_a65523f4_fa64_11ea_8f84_52540084ebbbrow8_col8,#T_a65523f4_fa64_11ea_8f84_52540084ebbbrow9_col9,#T_a65523f4_fa64_11ea_8f84_52540084ebbbrow10_col10,#T_a65523f4_fa64_11ea_8f84_52540084ebbbrow11_col11,#T_a65523f4_fa64_11ea_8f84_52540084ebbbrow12_col12,#T_a65523f4_fa64_11ea_8f84_52540084ebbbrow13_col13,#T_a65523f4_fa64_11ea_8f84_52540084ebbbrow14_col14,#T_a65523f4_fa64_11ea_8f84_52540084ebbbrow15_col15,#T_a65523f4_fa64_11ea_8f84_52540084ebbbrow16_col16{\n",
       "            background-color:  #023858;\n",
       "            color:  #f1f1f1;\n",
       "        }#T_a65523f4_fa64_11ea_8f84_52540084ebbbrow0_col1,#T_a65523f4_fa64_11ea_8f84_52540084ebbbrow0_col2,#T_a65523f4_fa64_11ea_8f84_52540084ebbbrow1_col0,#T_a65523f4_fa64_11ea_8f84_52540084ebbbrow2_col0{\n",
       "            background-color:  #eae6f1;\n",
       "            color:  #000000;\n",
       "        }#T_a65523f4_fa64_11ea_8f84_52540084ebbbrow0_col3,#T_a65523f4_fa64_11ea_8f84_52540084ebbbrow3_col0{\n",
       "            background-color:  #7dacd1;\n",
       "            color:  #000000;\n",
       "        }#T_a65523f4_fa64_11ea_8f84_52540084ebbbrow0_col4,#T_a65523f4_fa64_11ea_8f84_52540084ebbbrow4_col0{\n",
       "            background-color:  #e5e1ef;\n",
       "            color:  #000000;\n",
       "        }#T_a65523f4_fa64_11ea_8f84_52540084ebbbrow0_col5,#T_a65523f4_fa64_11ea_8f84_52540084ebbbrow4_col12,#T_a65523f4_fa64_11ea_8f84_52540084ebbbrow5_col0,#T_a65523f4_fa64_11ea_8f84_52540084ebbbrow12_col4{\n",
       "            background-color:  #c6cce3;\n",
       "            color:  #000000;\n",
       "        }#T_a65523f4_fa64_11ea_8f84_52540084ebbbrow0_col6,#T_a65523f4_fa64_11ea_8f84_52540084ebbbrow6_col0{\n",
       "            background-color:  #afc1dd;\n",
       "            color:  #000000;\n",
       "        }#T_a65523f4_fa64_11ea_8f84_52540084ebbbrow0_col7,#T_a65523f4_fa64_11ea_8f84_52540084ebbbrow1_col11,#T_a65523f4_fa64_11ea_8f84_52540084ebbbrow7_col0,#T_a65523f4_fa64_11ea_8f84_52540084ebbbrow11_col1{\n",
       "            background-color:  #d1d2e6;\n",
       "            color:  #000000;\n",
       "        }#T_a65523f4_fa64_11ea_8f84_52540084ebbbrow0_col8,#T_a65523f4_fa64_11ea_8f84_52540084ebbbrow0_col13,#T_a65523f4_fa64_11ea_8f84_52540084ebbbrow1_col4,#T_a65523f4_fa64_11ea_8f84_52540084ebbbrow4_col1,#T_a65523f4_fa64_11ea_8f84_52540084ebbbrow4_col11,#T_a65523f4_fa64_11ea_8f84_52540084ebbbrow8_col0,#T_a65523f4_fa64_11ea_8f84_52540084ebbbrow11_col4,#T_a65523f4_fa64_11ea_8f84_52540084ebbbrow13_col0{\n",
       "            background-color:  #cacee5;\n",
       "            color:  #000000;\n",
       "        }#T_a65523f4_fa64_11ea_8f84_52540084ebbbrow0_col9,#T_a65523f4_fa64_11ea_8f84_52540084ebbbrow1_col6,#T_a65523f4_fa64_11ea_8f84_52540084ebbbrow4_col14,#T_a65523f4_fa64_11ea_8f84_52540084ebbbrow6_col1,#T_a65523f4_fa64_11ea_8f84_52540084ebbbrow9_col0,#T_a65523f4_fa64_11ea_8f84_52540084ebbbrow14_col4{\n",
       "            background-color:  #d7d6e9;\n",
       "            color:  #000000;\n",
       "        }#T_a65523f4_fa64_11ea_8f84_52540084ebbbrow0_col10,#T_a65523f4_fa64_11ea_8f84_52540084ebbbrow10_col0{\n",
       "            background-color:  #d9d8ea;\n",
       "            color:  #000000;\n",
       "        }#T_a65523f4_fa64_11ea_8f84_52540084ebbbrow0_col11,#T_a65523f4_fa64_11ea_8f84_52540084ebbbrow2_col6,#T_a65523f4_fa64_11ea_8f84_52540084ebbbrow6_col2,#T_a65523f4_fa64_11ea_8f84_52540084ebbbrow11_col0{\n",
       "            background-color:  #dddbec;\n",
       "            color:  #000000;\n",
       "        }#T_a65523f4_fa64_11ea_8f84_52540084ebbbrow0_col12,#T_a65523f4_fa64_11ea_8f84_52540084ebbbrow12_col0{\n",
       "            background-color:  #e0dded;\n",
       "            color:  #000000;\n",
       "        }#T_a65523f4_fa64_11ea_8f84_52540084ebbbrow0_col14,#T_a65523f4_fa64_11ea_8f84_52540084ebbbrow14_col0{\n",
       "            background-color:  #d8d7e9;\n",
       "            color:  #000000;\n",
       "        }#T_a65523f4_fa64_11ea_8f84_52540084ebbbrow0_col15,#T_a65523f4_fa64_11ea_8f84_52540084ebbbrow2_col14,#T_a65523f4_fa64_11ea_8f84_52540084ebbbrow14_col2,#T_a65523f4_fa64_11ea_8f84_52540084ebbbrow15_col0{\n",
       "            background-color:  #ece7f2;\n",
       "            color:  #000000;\n",
       "        }#T_a65523f4_fa64_11ea_8f84_52540084ebbbrow0_col16,#T_a65523f4_fa64_11ea_8f84_52540084ebbbrow16_col0{\n",
       "            background-color:  #cdd0e5;\n",
       "            color:  #000000;\n",
       "        }#T_a65523f4_fa64_11ea_8f84_52540084ebbbrow1_col2,#T_a65523f4_fa64_11ea_8f84_52540084ebbbrow2_col1{\n",
       "            background-color:  #023c5f;\n",
       "            color:  #f1f1f1;\n",
       "        }#T_a65523f4_fa64_11ea_8f84_52540084ebbbrow1_col3,#T_a65523f4_fa64_11ea_8f84_52540084ebbbrow3_col1,#T_a65523f4_fa64_11ea_8f84_52540084ebbbrow6_col7,#T_a65523f4_fa64_11ea_8f84_52540084ebbbrow7_col6{\n",
       "            background-color:  #0566a0;\n",
       "            color:  #f1f1f1;\n",
       "        }#T_a65523f4_fa64_11ea_8f84_52540084ebbbrow1_col5,#T_a65523f4_fa64_11ea_8f84_52540084ebbbrow5_col1{\n",
       "            background-color:  #e7e3f0;\n",
       "            color:  #000000;\n",
       "        }#T_a65523f4_fa64_11ea_8f84_52540084ebbbrow1_col7,#T_a65523f4_fa64_11ea_8f84_52540084ebbbrow1_col8,#T_a65523f4_fa64_11ea_8f84_52540084ebbbrow2_col8,#T_a65523f4_fa64_11ea_8f84_52540084ebbbrow2_col9,#T_a65523f4_fa64_11ea_8f84_52540084ebbbrow7_col1,#T_a65523f4_fa64_11ea_8f84_52540084ebbbrow8_col1,#T_a65523f4_fa64_11ea_8f84_52540084ebbbrow8_col2,#T_a65523f4_fa64_11ea_8f84_52540084ebbbrow9_col2{\n",
       "            background-color:  #f0eaf4;\n",
       "            color:  #000000;\n",
       "        }#T_a65523f4_fa64_11ea_8f84_52540084ebbbrow1_col9,#T_a65523f4_fa64_11ea_8f84_52540084ebbbrow3_col9,#T_a65523f4_fa64_11ea_8f84_52540084ebbbrow9_col1,#T_a65523f4_fa64_11ea_8f84_52540084ebbbrow9_col3{\n",
       "            background-color:  #f1ebf4;\n",
       "            color:  #000000;\n",
       "        }#T_a65523f4_fa64_11ea_8f84_52540084ebbbrow1_col10,#T_a65523f4_fa64_11ea_8f84_52540084ebbbrow10_col1{\n",
       "            background-color:  #9fbad9;\n",
       "            color:  #000000;\n",
       "        }#T_a65523f4_fa64_11ea_8f84_52540084ebbbrow1_col12,#T_a65523f4_fa64_11ea_8f84_52540084ebbbrow4_col15,#T_a65523f4_fa64_11ea_8f84_52540084ebbbrow12_col1,#T_a65523f4_fa64_11ea_8f84_52540084ebbbrow15_col4{\n",
       "            background-color:  #9ebad9;\n",
       "            color:  #000000;\n",
       "        }#T_a65523f4_fa64_11ea_8f84_52540084ebbbrow1_col13,#T_a65523f4_fa64_11ea_8f84_52540084ebbbrow3_col7,#T_a65523f4_fa64_11ea_8f84_52540084ebbbrow7_col3,#T_a65523f4_fa64_11ea_8f84_52540084ebbbrow13_col1{\n",
       "            background-color:  #f5eff6;\n",
       "            color:  #000000;\n",
       "        }#T_a65523f4_fa64_11ea_8f84_52540084ebbbrow1_col14,#T_a65523f4_fa64_11ea_8f84_52540084ebbbrow14_col1{\n",
       "            background-color:  #f3edf5;\n",
       "            color:  #000000;\n",
       "        }#T_a65523f4_fa64_11ea_8f84_52540084ebbbrow1_col15,#T_a65523f4_fa64_11ea_8f84_52540084ebbbrow15_col1{\n",
       "            background-color:  #bcc7e1;\n",
       "            color:  #000000;\n",
       "        }#T_a65523f4_fa64_11ea_8f84_52540084ebbbrow1_col16,#T_a65523f4_fa64_11ea_8f84_52540084ebbbrow3_col5,#T_a65523f4_fa64_11ea_8f84_52540084ebbbrow3_col16,#T_a65523f4_fa64_11ea_8f84_52540084ebbbrow5_col3,#T_a65523f4_fa64_11ea_8f84_52540084ebbbrow16_col1,#T_a65523f4_fa64_11ea_8f84_52540084ebbbrow16_col3{\n",
       "            background-color:  #dcdaeb;\n",
       "            color:  #000000;\n",
       "        }#T_a65523f4_fa64_11ea_8f84_52540084ebbbrow2_col3,#T_a65523f4_fa64_11ea_8f84_52540084ebbbrow3_col2{\n",
       "            background-color:  #0567a2;\n",
       "            color:  #f1f1f1;\n",
       "        }#T_a65523f4_fa64_11ea_8f84_52540084ebbbrow2_col4,#T_a65523f4_fa64_11ea_8f84_52540084ebbbrow4_col2{\n",
       "            background-color:  #d5d5e8;\n",
       "            color:  #000000;\n",
       "        }#T_a65523f4_fa64_11ea_8f84_52540084ebbbrow2_col5,#T_a65523f4_fa64_11ea_8f84_52540084ebbbrow5_col2{\n",
       "            background-color:  #ede7f2;\n",
       "            color:  #000000;\n",
       "        }#T_a65523f4_fa64_11ea_8f84_52540084ebbbrow2_col7,#T_a65523f4_fa64_11ea_8f84_52540084ebbbrow3_col8,#T_a65523f4_fa64_11ea_8f84_52540084ebbbrow7_col2,#T_a65523f4_fa64_11ea_8f84_52540084ebbbrow8_col3{\n",
       "            background-color:  #f2ecf5;\n",
       "            color:  #000000;\n",
       "        }#T_a65523f4_fa64_11ea_8f84_52540084ebbbrow2_col10,#T_a65523f4_fa64_11ea_8f84_52540084ebbbrow10_col2{\n",
       "            background-color:  #a2bcda;\n",
       "            color:  #000000;\n",
       "        }#T_a65523f4_fa64_11ea_8f84_52540084ebbbrow2_col11,#T_a65523f4_fa64_11ea_8f84_52540084ebbbrow3_col6,#T_a65523f4_fa64_11ea_8f84_52540084ebbbrow6_col3,#T_a65523f4_fa64_11ea_8f84_52540084ebbbrow11_col2{\n",
       "            background-color:  #d0d1e6;\n",
       "            color:  #000000;\n",
       "        }#T_a65523f4_fa64_11ea_8f84_52540084ebbbrow2_col12,#T_a65523f4_fa64_11ea_8f84_52540084ebbbrow12_col2{\n",
       "            background-color:  #97b7d7;\n",
       "            color:  #000000;\n",
       "        }#T_a65523f4_fa64_11ea_8f84_52540084ebbbrow2_col13,#T_a65523f4_fa64_11ea_8f84_52540084ebbbrow13_col2{\n",
       "            background-color:  #f7f0f7;\n",
       "            color:  #000000;\n",
       "        }#T_a65523f4_fa64_11ea_8f84_52540084ebbbrow2_col15,#T_a65523f4_fa64_11ea_8f84_52540084ebbbrow3_col12,#T_a65523f4_fa64_11ea_8f84_52540084ebbbrow12_col3,#T_a65523f4_fa64_11ea_8f84_52540084ebbbrow15_col2{\n",
       "            background-color:  #bdc8e1;\n",
       "            color:  #000000;\n",
       "        }#T_a65523f4_fa64_11ea_8f84_52540084ebbbrow2_col16,#T_a65523f4_fa64_11ea_8f84_52540084ebbbrow16_col2{\n",
       "            background-color:  #e2dfee;\n",
       "            color:  #000000;\n",
       "        }#T_a65523f4_fa64_11ea_8f84_52540084ebbbrow3_col4,#T_a65523f4_fa64_11ea_8f84_52540084ebbbrow4_col3,#T_a65523f4_fa64_11ea_8f84_52540084ebbbrow4_col7,#T_a65523f4_fa64_11ea_8f84_52540084ebbbrow7_col4{\n",
       "            background-color:  #abbfdc;\n",
       "            color:  #000000;\n",
       "        }#T_a65523f4_fa64_11ea_8f84_52540084ebbbrow3_col10,#T_a65523f4_fa64_11ea_8f84_52540084ebbbrow4_col13,#T_a65523f4_fa64_11ea_8f84_52540084ebbbrow10_col3,#T_a65523f4_fa64_11ea_8f84_52540084ebbbrow13_col4{\n",
       "            background-color:  #a5bddb;\n",
       "            color:  #000000;\n",
       "        }#T_a65523f4_fa64_11ea_8f84_52540084ebbbrow3_col11,#T_a65523f4_fa64_11ea_8f84_52540084ebbbrow11_col3{\n",
       "            background-color:  #dad9ea;\n",
       "            color:  #000000;\n",
       "        }#T_a65523f4_fa64_11ea_8f84_52540084ebbbrow3_col13,#T_a65523f4_fa64_11ea_8f84_52540084ebbbrow13_col3{\n",
       "            background-color:  #f8f1f8;\n",
       "            color:  #000000;\n",
       "        }#T_a65523f4_fa64_11ea_8f84_52540084ebbbrow3_col14,#T_a65523f4_fa64_11ea_8f84_52540084ebbbrow14_col3{\n",
       "            background-color:  #fff7fb;\n",
       "            color:  #000000;\n",
       "        }#T_a65523f4_fa64_11ea_8f84_52540084ebbbrow3_col15,#T_a65523f4_fa64_11ea_8f84_52540084ebbbrow15_col3{\n",
       "            background-color:  #e0deed;\n",
       "            color:  #000000;\n",
       "        }#T_a65523f4_fa64_11ea_8f84_52540084ebbbrow4_col5,#T_a65523f4_fa64_11ea_8f84_52540084ebbbrow5_col4{\n",
       "            background-color:  #86b0d3;\n",
       "            color:  #000000;\n",
       "        }#T_a65523f4_fa64_11ea_8f84_52540084ebbbrow4_col6,#T_a65523f4_fa64_11ea_8f84_52540084ebbbrow4_col10,#T_a65523f4_fa64_11ea_8f84_52540084ebbbrow6_col4,#T_a65523f4_fa64_11ea_8f84_52540084ebbbrow10_col4{\n",
       "            background-color:  #b8c6e0;\n",
       "            color:  #000000;\n",
       "        }#T_a65523f4_fa64_11ea_8f84_52540084ebbbrow4_col8,#T_a65523f4_fa64_11ea_8f84_52540084ebbbrow8_col4{\n",
       "            background-color:  #d6d6e9;\n",
       "            color:  #000000;\n",
       "        }#T_a65523f4_fa64_11ea_8f84_52540084ebbbrow4_col9,#T_a65523f4_fa64_11ea_8f84_52540084ebbbrow9_col4{\n",
       "            background-color:  #b9c6e0;\n",
       "            color:  #000000;\n",
       "        }#T_a65523f4_fa64_11ea_8f84_52540084ebbbrow4_col16,#T_a65523f4_fa64_11ea_8f84_52540084ebbbrow16_col4{\n",
       "            background-color:  #a7bddb;\n",
       "            color:  #000000;\n",
       "        }#T_a65523f4_fa64_11ea_8f84_52540084ebbbrow5_col6,#T_a65523f4_fa64_11ea_8f84_52540084ebbbrow6_col5{\n",
       "            background-color:  #04649d;\n",
       "            color:  #f1f1f1;\n",
       "        }#T_a65523f4_fa64_11ea_8f84_52540084ebbbrow5_col7,#T_a65523f4_fa64_11ea_8f84_52540084ebbbrow7_col5{\n",
       "            background-color:  #04649e;\n",
       "            color:  #f1f1f1;\n",
       "        }#T_a65523f4_fa64_11ea_8f84_52540084ebbbrow5_col8,#T_a65523f4_fa64_11ea_8f84_52540084ebbbrow8_col5{\n",
       "            background-color:  #056dac;\n",
       "            color:  #f1f1f1;\n",
       "        }#T_a65523f4_fa64_11ea_8f84_52540084ebbbrow5_col9,#T_a65523f4_fa64_11ea_8f84_52540084ebbbrow9_col5,#T_a65523f4_fa64_11ea_8f84_52540084ebbbrow13_col15,#T_a65523f4_fa64_11ea_8f84_52540084ebbbrow15_col13{\n",
       "            background-color:  #1e80b8;\n",
       "            color:  #000000;\n",
       "        }#T_a65523f4_fa64_11ea_8f84_52540084ebbbrow5_col10,#T_a65523f4_fa64_11ea_8f84_52540084ebbbrow6_col9,#T_a65523f4_fa64_11ea_8f84_52540084ebbbrow9_col6,#T_a65523f4_fa64_11ea_8f84_52540084ebbbrow10_col5{\n",
       "            background-color:  #187cb6;\n",
       "            color:  #000000;\n",
       "        }#T_a65523f4_fa64_11ea_8f84_52540084ebbbrow5_col11,#T_a65523f4_fa64_11ea_8f84_52540084ebbbrow11_col5{\n",
       "            background-color:  #2484ba;\n",
       "            color:  #000000;\n",
       "        }#T_a65523f4_fa64_11ea_8f84_52540084ebbbrow5_col12,#T_a65523f4_fa64_11ea_8f84_52540084ebbbrow12_col5{\n",
       "            background-color:  #308cbe;\n",
       "            color:  #000000;\n",
       "        }#T_a65523f4_fa64_11ea_8f84_52540084ebbbrow5_col13,#T_a65523f4_fa64_11ea_8f84_52540084ebbbrow13_col5{\n",
       "            background-color:  #05659f;\n",
       "            color:  #f1f1f1;\n",
       "        }#T_a65523f4_fa64_11ea_8f84_52540084ebbbrow5_col14,#T_a65523f4_fa64_11ea_8f84_52540084ebbbrow14_col5{\n",
       "            background-color:  #4094c3;\n",
       "            color:  #000000;\n",
       "        }#T_a65523f4_fa64_11ea_8f84_52540084ebbbrow5_col15,#T_a65523f4_fa64_11ea_8f84_52540084ebbbrow15_col5{\n",
       "            background-color:  #71a8ce;\n",
       "            color:  #000000;\n",
       "        }#T_a65523f4_fa64_11ea_8f84_52540084ebbbrow5_col16,#T_a65523f4_fa64_11ea_8f84_52540084ebbbrow16_col5{\n",
       "            background-color:  #045a8d;\n",
       "            color:  #f1f1f1;\n",
       "        }#T_a65523f4_fa64_11ea_8f84_52540084ebbbrow6_col8,#T_a65523f4_fa64_11ea_8f84_52540084ebbbrow8_col6{\n",
       "            background-color:  #046198;\n",
       "            color:  #f1f1f1;\n",
       "        }#T_a65523f4_fa64_11ea_8f84_52540084ebbbrow6_col10,#T_a65523f4_fa64_11ea_8f84_52540084ebbbrow10_col6{\n",
       "            background-color:  #056ba7;\n",
       "            color:  #f1f1f1;\n",
       "        }#T_a65523f4_fa64_11ea_8f84_52540084ebbbrow6_col11,#T_a65523f4_fa64_11ea_8f84_52540084ebbbrow8_col10,#T_a65523f4_fa64_11ea_8f84_52540084ebbbrow10_col8,#T_a65523f4_fa64_11ea_8f84_52540084ebbbrow11_col6{\n",
       "            background-color:  #056ead;\n",
       "            color:  #f1f1f1;\n",
       "        }#T_a65523f4_fa64_11ea_8f84_52540084ebbbrow6_col12,#T_a65523f4_fa64_11ea_8f84_52540084ebbbrow12_col6,#T_a65523f4_fa64_11ea_8f84_52540084ebbbrow12_col15,#T_a65523f4_fa64_11ea_8f84_52540084ebbbrow15_col12{\n",
       "            background-color:  #2f8bbe;\n",
       "            color:  #000000;\n",
       "        }#T_a65523f4_fa64_11ea_8f84_52540084ebbbrow6_col13,#T_a65523f4_fa64_11ea_8f84_52540084ebbbrow11_col16,#T_a65523f4_fa64_11ea_8f84_52540084ebbbrow13_col6,#T_a65523f4_fa64_11ea_8f84_52540084ebbbrow16_col11{\n",
       "            background-color:  #045f95;\n",
       "            color:  #f1f1f1;\n",
       "        }#T_a65523f4_fa64_11ea_8f84_52540084ebbbrow6_col14,#T_a65523f4_fa64_11ea_8f84_52540084ebbbrow14_col6{\n",
       "            background-color:  #3991c1;\n",
       "            color:  #000000;\n",
       "        }#T_a65523f4_fa64_11ea_8f84_52540084ebbbrow6_col15,#T_a65523f4_fa64_11ea_8f84_52540084ebbbrow15_col6{\n",
       "            background-color:  #6da6cd;\n",
       "            color:  #000000;\n",
       "        }#T_a65523f4_fa64_11ea_8f84_52540084ebbbrow6_col16,#T_a65523f4_fa64_11ea_8f84_52540084ebbbrow8_col16,#T_a65523f4_fa64_11ea_8f84_52540084ebbbrow16_col6,#T_a65523f4_fa64_11ea_8f84_52540084ebbbrow16_col8{\n",
       "            background-color:  #03517e;\n",
       "            color:  #f1f1f1;\n",
       "        }#T_a65523f4_fa64_11ea_8f84_52540084ebbbrow7_col8,#T_a65523f4_fa64_11ea_8f84_52540084ebbbrow8_col7{\n",
       "            background-color:  #045b8e;\n",
       "            color:  #f1f1f1;\n",
       "        }#T_a65523f4_fa64_11ea_8f84_52540084ebbbrow7_col9,#T_a65523f4_fa64_11ea_8f84_52540084ebbbrow9_col7{\n",
       "            background-color:  #2c89bd;\n",
       "            color:  #000000;\n",
       "        }#T_a65523f4_fa64_11ea_8f84_52540084ebbbrow7_col10,#T_a65523f4_fa64_11ea_8f84_52540084ebbbrow10_col7{\n",
       "            background-color:  #2081b9;\n",
       "            color:  #000000;\n",
       "        }#T_a65523f4_fa64_11ea_8f84_52540084ebbbrow7_col11,#T_a65523f4_fa64_11ea_8f84_52540084ebbbrow8_col14,#T_a65523f4_fa64_11ea_8f84_52540084ebbbrow11_col7,#T_a65523f4_fa64_11ea_8f84_52540084ebbbrow14_col8{\n",
       "            background-color:  #056faf;\n",
       "            color:  #f1f1f1;\n",
       "        }#T_a65523f4_fa64_11ea_8f84_52540084ebbbrow7_col12,#T_a65523f4_fa64_11ea_8f84_52540084ebbbrow12_col7{\n",
       "            background-color:  #1b7eb7;\n",
       "            color:  #000000;\n",
       "        }#T_a65523f4_fa64_11ea_8f84_52540084ebbbrow7_col13,#T_a65523f4_fa64_11ea_8f84_52540084ebbbrow13_col7{\n",
       "            background-color:  #034b76;\n",
       "            color:  #f1f1f1;\n",
       "        }#T_a65523f4_fa64_11ea_8f84_52540084ebbbrow7_col14,#T_a65523f4_fa64_11ea_8f84_52540084ebbbrow10_col12,#T_a65523f4_fa64_11ea_8f84_52540084ebbbrow12_col10,#T_a65523f4_fa64_11ea_8f84_52540084ebbbrow13_col14,#T_a65523f4_fa64_11ea_8f84_52540084ebbbrow14_col7,#T_a65523f4_fa64_11ea_8f84_52540084ebbbrow14_col13{\n",
       "            background-color:  #0c74b2;\n",
       "            color:  #f1f1f1;\n",
       "        }#T_a65523f4_fa64_11ea_8f84_52540084ebbbrow7_col15,#T_a65523f4_fa64_11ea_8f84_52540084ebbbrow15_col7{\n",
       "            background-color:  #1278b4;\n",
       "            color:  #f1f1f1;\n",
       "        }#T_a65523f4_fa64_11ea_8f84_52540084ebbbrow7_col16,#T_a65523f4_fa64_11ea_8f84_52540084ebbbrow16_col7{\n",
       "            background-color:  #045585;\n",
       "            color:  #f1f1f1;\n",
       "        }#T_a65523f4_fa64_11ea_8f84_52540084ebbbrow8_col9,#T_a65523f4_fa64_11ea_8f84_52540084ebbbrow9_col8,#T_a65523f4_fa64_11ea_8f84_52540084ebbbrow12_col16,#T_a65523f4_fa64_11ea_8f84_52540084ebbbrow16_col12{\n",
       "            background-color:  #0569a4;\n",
       "            color:  #f1f1f1;\n",
       "        }#T_a65523f4_fa64_11ea_8f84_52540084ebbbrow8_col11,#T_a65523f4_fa64_11ea_8f84_52540084ebbbrow9_col16,#T_a65523f4_fa64_11ea_8f84_52540084ebbbrow11_col8,#T_a65523f4_fa64_11ea_8f84_52540084ebbbrow16_col9{\n",
       "            background-color:  #04629a;\n",
       "            color:  #f1f1f1;\n",
       "        }#T_a65523f4_fa64_11ea_8f84_52540084ebbbrow8_col12,#T_a65523f4_fa64_11ea_8f84_52540084ebbbrow9_col10,#T_a65523f4_fa64_11ea_8f84_52540084ebbbrow10_col9,#T_a65523f4_fa64_11ea_8f84_52540084ebbbrow11_col13,#T_a65523f4_fa64_11ea_8f84_52540084ebbbrow12_col8,#T_a65523f4_fa64_11ea_8f84_52540084ebbbrow13_col11{\n",
       "            background-color:  #0f76b3;\n",
       "            color:  #f1f1f1;\n",
       "        }#T_a65523f4_fa64_11ea_8f84_52540084ebbbrow8_col13,#T_a65523f4_fa64_11ea_8f84_52540084ebbbrow13_col8{\n",
       "            background-color:  #04598c;\n",
       "            color:  #f1f1f1;\n",
       "        }#T_a65523f4_fa64_11ea_8f84_52540084ebbbrow8_col15,#T_a65523f4_fa64_11ea_8f84_52540084ebbbrow14_col15,#T_a65523f4_fa64_11ea_8f84_52540084ebbbrow15_col8,#T_a65523f4_fa64_11ea_8f84_52540084ebbbrow15_col14{\n",
       "            background-color:  #4e9ac6;\n",
       "            color:  #000000;\n",
       "        }#T_a65523f4_fa64_11ea_8f84_52540084ebbbrow9_col11,#T_a65523f4_fa64_11ea_8f84_52540084ebbbrow11_col9{\n",
       "            background-color:  #056caa;\n",
       "            color:  #f1f1f1;\n",
       "        }#T_a65523f4_fa64_11ea_8f84_52540084ebbbrow9_col12,#T_a65523f4_fa64_11ea_8f84_52540084ebbbrow9_col13,#T_a65523f4_fa64_11ea_8f84_52540084ebbbrow12_col9,#T_a65523f4_fa64_11ea_8f84_52540084ebbbrow13_col9{\n",
       "            background-color:  #2182b9;\n",
       "            color:  #000000;\n",
       "        }#T_a65523f4_fa64_11ea_8f84_52540084ebbbrow9_col14,#T_a65523f4_fa64_11ea_8f84_52540084ebbbrow10_col14,#T_a65523f4_fa64_11ea_8f84_52540084ebbbrow14_col9,#T_a65523f4_fa64_11ea_8f84_52540084ebbbrow14_col10{\n",
       "            background-color:  #5c9fc9;\n",
       "            color:  #000000;\n",
       "        }#T_a65523f4_fa64_11ea_8f84_52540084ebbbrow9_col15,#T_a65523f4_fa64_11ea_8f84_52540084ebbbrow15_col9{\n",
       "            background-color:  #96b6d7;\n",
       "            color:  #000000;\n",
       "        }#T_a65523f4_fa64_11ea_8f84_52540084ebbbrow10_col11,#T_a65523f4_fa64_11ea_8f84_52540084ebbbrow11_col10{\n",
       "            background-color:  #046096;\n",
       "            color:  #f1f1f1;\n",
       "        }#T_a65523f4_fa64_11ea_8f84_52540084ebbbrow10_col13,#T_a65523f4_fa64_11ea_8f84_52540084ebbbrow13_col10{\n",
       "            background-color:  #2786bb;\n",
       "            color:  #000000;\n",
       "        }#T_a65523f4_fa64_11ea_8f84_52540084ebbbrow10_col15,#T_a65523f4_fa64_11ea_8f84_52540084ebbbrow15_col10{\n",
       "            background-color:  #4697c4;\n",
       "            color:  #000000;\n",
       "        }#T_a65523f4_fa64_11ea_8f84_52540084ebbbrow10_col16,#T_a65523f4_fa64_11ea_8f84_52540084ebbbrow16_col10{\n",
       "            background-color:  #045e94;\n",
       "            color:  #f1f1f1;\n",
       "        }#T_a65523f4_fa64_11ea_8f84_52540084ebbbrow11_col12,#T_a65523f4_fa64_11ea_8f84_52540084ebbbrow12_col11{\n",
       "            background-color:  #157ab5;\n",
       "            color:  #000000;\n",
       "        }#T_a65523f4_fa64_11ea_8f84_52540084ebbbrow11_col14,#T_a65523f4_fa64_11ea_8f84_52540084ebbbrow14_col11{\n",
       "            background-color:  #3790c0;\n",
       "            color:  #000000;\n",
       "        }#T_a65523f4_fa64_11ea_8f84_52540084ebbbrow11_col15,#T_a65523f4_fa64_11ea_8f84_52540084ebbbrow15_col11{\n",
       "            background-color:  #509ac6;\n",
       "            color:  #000000;\n",
       "        }#T_a65523f4_fa64_11ea_8f84_52540084ebbbrow12_col13,#T_a65523f4_fa64_11ea_8f84_52540084ebbbrow13_col12{\n",
       "            background-color:  #2685bb;\n",
       "            color:  #000000;\n",
       "        }#T_a65523f4_fa64_11ea_8f84_52540084ebbbrow12_col14,#T_a65523f4_fa64_11ea_8f84_52540084ebbbrow14_col12,#T_a65523f4_fa64_11ea_8f84_52540084ebbbrow14_col16,#T_a65523f4_fa64_11ea_8f84_52540084ebbbrow16_col14{\n",
       "            background-color:  #358fc0;\n",
       "            color:  #000000;\n",
       "        }#T_a65523f4_fa64_11ea_8f84_52540084ebbbrow13_col16,#T_a65523f4_fa64_11ea_8f84_52540084ebbbrow16_col13{\n",
       "            background-color:  #045483;\n",
       "            color:  #f1f1f1;\n",
       "        }#T_a65523f4_fa64_11ea_8f84_52540084ebbbrow15_col16,#T_a65523f4_fa64_11ea_8f84_52540084ebbbrow16_col15{\n",
       "            background-color:  #328dbf;\n",
       "            color:  #000000;\n",
       "        }</style><table id=\"T_a65523f4_fa64_11ea_8f84_52540084ebbb\" ><thead>    <tr>        <th class=\"blank level0\" ></th>        <th class=\"col_heading level0 col0\" >Rt</th>        <th class=\"col_heading level0 col1\" >theta</th>        <th class=\"col_heading level0 col2\" >kappa</th>        <th class=\"col_heading level0 col3\" >rho</th>        <th class=\"col_heading level0 col4\" >sigma</th>        <th class=\"col_heading level0 col5\" >School_closing</th>        <th class=\"col_heading level0 col6\" >Workplace_closing</th>        <th class=\"col_heading level0 col7\" >Cancel_events</th>        <th class=\"col_heading level0 col8\" >Gatherings_restrictions</th>        <th class=\"col_heading level0 col9\" >Transport_closing</th>        <th class=\"col_heading level0 col10\" >Stay_home_restrictions</th>        <th class=\"col_heading level0 col11\" >Internal_movement_restrictions</th>        <th class=\"col_heading level0 col12\" >International_movement_restrictions</th>        <th class=\"col_heading level0 col13\" >Information_campaigns</th>        <th class=\"col_heading level0 col14\" >Testing_policy</th>        <th class=\"col_heading level0 col15\" >Contact_tracing</th>        <th class=\"col_heading level0 col16\" >Stringency_index</th>    </tr></thead><tbody>\n",
       "                <tr>\n",
       "                        <th id=\"T_a65523f4_fa64_11ea_8f84_52540084ebbblevel0_row0\" class=\"row_heading level0 row0\" >Rt</th>\n",
       "                        <td id=\"T_a65523f4_fa64_11ea_8f84_52540084ebbbrow0_col0\" class=\"data row0 col0\" >1.000000</td>\n",
       "                        <td id=\"T_a65523f4_fa64_11ea_8f84_52540084ebbbrow0_col1\" class=\"data row0 col1\" >-0.237332</td>\n",
       "                        <td id=\"T_a65523f4_fa64_11ea_8f84_52540084ebbbrow0_col2\" class=\"data row0 col2\" >-0.236785</td>\n",
       "                        <td id=\"T_a65523f4_fa64_11ea_8f84_52540084ebbbrow0_col3\" class=\"data row0 col3\" >0.253586</td>\n",
       "                        <td id=\"T_a65523f4_fa64_11ea_8f84_52540084ebbbrow0_col4\" class=\"data row0 col4\" >-0.202375</td>\n",
       "                        <td id=\"T_a65523f4_fa64_11ea_8f84_52540084ebbbrow0_col5\" class=\"data row0 col5\" >-0.032604</td>\n",
       "                        <td id=\"T_a65523f4_fa64_11ea_8f84_52540084ebbbrow0_col6\" class=\"data row0 col6\" >0.070784</td>\n",
       "                        <td id=\"T_a65523f4_fa64_11ea_8f84_52540084ebbbrow0_col7\" class=\"data row0 col7\" >-0.073449</td>\n",
       "                        <td id=\"T_a65523f4_fa64_11ea_8f84_52540084ebbbrow0_col8\" class=\"data row0 col8\" >-0.045597</td>\n",
       "                        <td id=\"T_a65523f4_fa64_11ea_8f84_52540084ebbbrow0_col9\" class=\"data row0 col9\" >-0.113890</td>\n",
       "                        <td id=\"T_a65523f4_fa64_11ea_8f84_52540084ebbbrow0_col10\" class=\"data row0 col10\" >-0.125514</td>\n",
       "                        <td id=\"T_a65523f4_fa64_11ea_8f84_52540084ebbbrow0_col11\" class=\"data row0 col11\" >-0.152597</td>\n",
       "                        <td id=\"T_a65523f4_fa64_11ea_8f84_52540084ebbbrow0_col12\" class=\"data row0 col12\" >-0.172766</td>\n",
       "                        <td id=\"T_a65523f4_fa64_11ea_8f84_52540084ebbbrow0_col13\" class=\"data row0 col13\" >-0.046586</td>\n",
       "                        <td id=\"T_a65523f4_fa64_11ea_8f84_52540084ebbbrow0_col14\" class=\"data row0 col14\" >-0.120818</td>\n",
       "                        <td id=\"T_a65523f4_fa64_11ea_8f84_52540084ebbbrow0_col15\" class=\"data row0 col15\" >-0.247191</td>\n",
       "                        <td id=\"T_a65523f4_fa64_11ea_8f84_52540084ebbbrow0_col16\" class=\"data row0 col16\" >-0.061206</td>\n",
       "            </tr>\n",
       "            <tr>\n",
       "                        <th id=\"T_a65523f4_fa64_11ea_8f84_52540084ebbblevel0_row1\" class=\"row_heading level0 row1\" >theta</th>\n",
       "                        <td id=\"T_a65523f4_fa64_11ea_8f84_52540084ebbbrow1_col0\" class=\"data row1 col0\" >-0.237332</td>\n",
       "                        <td id=\"T_a65523f4_fa64_11ea_8f84_52540084ebbbrow1_col1\" class=\"data row1 col1\" >1.000000</td>\n",
       "                        <td id=\"T_a65523f4_fa64_11ea_8f84_52540084ebbbrow1_col2\" class=\"data row1 col2\" >0.976650</td>\n",
       "                        <td id=\"T_a65523f4_fa64_11ea_8f84_52540084ebbbrow1_col3\" class=\"data row1 col3\" >0.722309</td>\n",
       "                        <td id=\"T_a65523f4_fa64_11ea_8f84_52540084ebbbrow1_col4\" class=\"data row1 col4\" >-0.046693</td>\n",
       "                        <td id=\"T_a65523f4_fa64_11ea_8f84_52540084ebbbrow1_col5\" class=\"data row1 col5\" >-0.222157</td>\n",
       "                        <td id=\"T_a65523f4_fa64_11ea_8f84_52540084ebbbrow1_col6\" class=\"data row1 col6\" >-0.112473</td>\n",
       "                        <td id=\"T_a65523f4_fa64_11ea_8f84_52540084ebbbrow1_col7\" class=\"data row1 col7\" >-0.289563</td>\n",
       "                        <td id=\"T_a65523f4_fa64_11ea_8f84_52540084ebbbrow1_col8\" class=\"data row1 col8\" >-0.290071</td>\n",
       "                        <td id=\"T_a65523f4_fa64_11ea_8f84_52540084ebbbrow1_col9\" class=\"data row1 col9\" >-0.291427</td>\n",
       "                        <td id=\"T_a65523f4_fa64_11ea_8f84_52540084ebbbrow1_col10\" class=\"data row1 col10\" >0.128561</td>\n",
       "                        <td id=\"T_a65523f4_fa64_11ea_8f84_52540084ebbbrow1_col11\" class=\"data row1 col11\" >-0.075731</td>\n",
       "                        <td id=\"T_a65523f4_fa64_11ea_8f84_52540084ebbbrow1_col12\" class=\"data row1 col12\" >0.138327</td>\n",
       "                        <td id=\"T_a65523f4_fa64_11ea_8f84_52540084ebbbrow1_col13\" class=\"data row1 col13\" >-0.339811</td>\n",
       "                        <td id=\"T_a65523f4_fa64_11ea_8f84_52540084ebbbrow1_col14\" class=\"data row1 col14\" >-0.316019</td>\n",
       "                        <td id=\"T_a65523f4_fa64_11ea_8f84_52540084ebbbrow1_col15\" class=\"data row1 col15\" >0.011472</td>\n",
       "                        <td id=\"T_a65523f4_fa64_11ea_8f84_52540084ebbbrow1_col16\" class=\"data row1 col16\" >-0.148850</td>\n",
       "            </tr>\n",
       "            <tr>\n",
       "                        <th id=\"T_a65523f4_fa64_11ea_8f84_52540084ebbblevel0_row2\" class=\"row_heading level0 row2\" >kappa</th>\n",
       "                        <td id=\"T_a65523f4_fa64_11ea_8f84_52540084ebbbrow2_col0\" class=\"data row2 col0\" >-0.236785</td>\n",
       "                        <td id=\"T_a65523f4_fa64_11ea_8f84_52540084ebbbrow2_col1\" class=\"data row2 col1\" >0.976650</td>\n",
       "                        <td id=\"T_a65523f4_fa64_11ea_8f84_52540084ebbbrow2_col2\" class=\"data row2 col2\" >1.000000</td>\n",
       "                        <td id=\"T_a65523f4_fa64_11ea_8f84_52540084ebbbrow2_col3\" class=\"data row2 col3\" >0.710814</td>\n",
       "                        <td id=\"T_a65523f4_fa64_11ea_8f84_52540084ebbbrow2_col4\" class=\"data row2 col4\" >-0.104569</td>\n",
       "                        <td id=\"T_a65523f4_fa64_11ea_8f84_52540084ebbbrow2_col5\" class=\"data row2 col5\" >-0.254235</td>\n",
       "                        <td id=\"T_a65523f4_fa64_11ea_8f84_52540084ebbbrow2_col6\" class=\"data row2 col6\" >-0.156893</td>\n",
       "                        <td id=\"T_a65523f4_fa64_11ea_8f84_52540084ebbbrow2_col7\" class=\"data row2 col7\" >-0.306630</td>\n",
       "                        <td id=\"T_a65523f4_fa64_11ea_8f84_52540084ebbbrow2_col8\" class=\"data row2 col8\" >-0.284997</td>\n",
       "                        <td id=\"T_a65523f4_fa64_11ea_8f84_52540084ebbbrow2_col9\" class=\"data row2 col9\" >-0.285680</td>\n",
       "                        <td id=\"T_a65523f4_fa64_11ea_8f84_52540084ebbbrow2_col10\" class=\"data row2 col10\" >0.117523</td>\n",
       "                        <td id=\"T_a65523f4_fa64_11ea_8f84_52540084ebbbrow2_col11\" class=\"data row2 col11\" >-0.072485</td>\n",
       "                        <td id=\"T_a65523f4_fa64_11ea_8f84_52540084ebbbrow2_col12\" class=\"data row2 col12\" >0.160559</td>\n",
       "                        <td id=\"T_a65523f4_fa64_11ea_8f84_52540084ebbbrow2_col13\" class=\"data row2 col13\" >-0.357463</td>\n",
       "                        <td id=\"T_a65523f4_fa64_11ea_8f84_52540084ebbbrow2_col14\" class=\"data row2 col14\" >-0.251320</td>\n",
       "                        <td id=\"T_a65523f4_fa64_11ea_8f84_52540084ebbbrow2_col15\" class=\"data row2 col15\" >0.008567</td>\n",
       "                        <td id=\"T_a65523f4_fa64_11ea_8f84_52540084ebbbrow2_col16\" class=\"data row2 col16\" >-0.185928</td>\n",
       "            </tr>\n",
       "            <tr>\n",
       "                        <th id=\"T_a65523f4_fa64_11ea_8f84_52540084ebbblevel0_row3\" class=\"row_heading level0 row3\" >rho</th>\n",
       "                        <td id=\"T_a65523f4_fa64_11ea_8f84_52540084ebbbrow3_col0\" class=\"data row3 col0\" >0.253586</td>\n",
       "                        <td id=\"T_a65523f4_fa64_11ea_8f84_52540084ebbbrow3_col1\" class=\"data row3 col1\" >0.722309</td>\n",
       "                        <td id=\"T_a65523f4_fa64_11ea_8f84_52540084ebbbrow3_col2\" class=\"data row3 col2\" >0.710814</td>\n",
       "                        <td id=\"T_a65523f4_fa64_11ea_8f84_52540084ebbbrow3_col3\" class=\"data row3 col3\" >1.000000</td>\n",
       "                        <td id=\"T_a65523f4_fa64_11ea_8f84_52540084ebbbrow3_col4\" class=\"data row3 col4\" >0.084441</td>\n",
       "                        <td id=\"T_a65523f4_fa64_11ea_8f84_52540084ebbbrow3_col5\" class=\"data row3 col5\" >-0.149546</td>\n",
       "                        <td id=\"T_a65523f4_fa64_11ea_8f84_52540084ebbbrow3_col6\" class=\"data row3 col6\" >-0.068794</td>\n",
       "                        <td id=\"T_a65523f4_fa64_11ea_8f84_52540084ebbbrow3_col7\" class=\"data row3 col7\" >-0.338892</td>\n",
       "                        <td id=\"T_a65523f4_fa64_11ea_8f84_52540084ebbbrow3_col8\" class=\"data row3 col8\" >-0.306085</td>\n",
       "                        <td id=\"T_a65523f4_fa64_11ea_8f84_52540084ebbbrow3_col9\" class=\"data row3 col9\" >-0.295974</td>\n",
       "                        <td id=\"T_a65523f4_fa64_11ea_8f84_52540084ebbbrow3_col10\" class=\"data row3 col10\" >0.109760</td>\n",
       "                        <td id=\"T_a65523f4_fa64_11ea_8f84_52540084ebbbrow3_col11\" class=\"data row3 col11\" >-0.135021</td>\n",
       "                        <td id=\"T_a65523f4_fa64_11ea_8f84_52540084ebbbrow3_col12\" class=\"data row3 col12\" >0.008232</td>\n",
       "                        <td id=\"T_a65523f4_fa64_11ea_8f84_52540084ebbbrow3_col13\" class=\"data row3 col13\" >-0.366283</td>\n",
       "                        <td id=\"T_a65523f4_fa64_11ea_8f84_52540084ebbbrow3_col14\" class=\"data row3 col14\" >-0.430799</td>\n",
       "                        <td id=\"T_a65523f4_fa64_11ea_8f84_52540084ebbbrow3_col15\" class=\"data row3 col15\" >-0.176068</td>\n",
       "                        <td id=\"T_a65523f4_fa64_11ea_8f84_52540084ebbbrow3_col16\" class=\"data row3 col16\" >-0.149715</td>\n",
       "            </tr>\n",
       "            <tr>\n",
       "                        <th id=\"T_a65523f4_fa64_11ea_8f84_52540084ebbblevel0_row4\" class=\"row_heading level0 row4\" >sigma</th>\n",
       "                        <td id=\"T_a65523f4_fa64_11ea_8f84_52540084ebbbrow4_col0\" class=\"data row4 col0\" >-0.202375</td>\n",
       "                        <td id=\"T_a65523f4_fa64_11ea_8f84_52540084ebbbrow4_col1\" class=\"data row4 col1\" >-0.046693</td>\n",
       "                        <td id=\"T_a65523f4_fa64_11ea_8f84_52540084ebbbrow4_col2\" class=\"data row4 col2\" >-0.104569</td>\n",
       "                        <td id=\"T_a65523f4_fa64_11ea_8f84_52540084ebbbrow4_col3\" class=\"data row4 col3\" >0.084441</td>\n",
       "                        <td id=\"T_a65523f4_fa64_11ea_8f84_52540084ebbbrow4_col4\" class=\"data row4 col4\" >1.000000</td>\n",
       "                        <td id=\"T_a65523f4_fa64_11ea_8f84_52540084ebbbrow4_col5\" class=\"data row4 col5\" >0.217902</td>\n",
       "                        <td id=\"T_a65523f4_fa64_11ea_8f84_52540084ebbbrow4_col6\" class=\"data row4 col6\" >0.032283</td>\n",
       "                        <td id=\"T_a65523f4_fa64_11ea_8f84_52540084ebbbrow4_col7\" class=\"data row4 col7\" >0.087635</td>\n",
       "                        <td id=\"T_a65523f4_fa64_11ea_8f84_52540084ebbbrow4_col8\" class=\"data row4 col8\" >-0.112142</td>\n",
       "                        <td id=\"T_a65523f4_fa64_11ea_8f84_52540084ebbbrow4_col9\" class=\"data row4 col9\" >0.025034</td>\n",
       "                        <td id=\"T_a65523f4_fa64_11ea_8f84_52540084ebbbrow4_col10\" class=\"data row4 col10\" >0.032280</td>\n",
       "                        <td id=\"T_a65523f4_fa64_11ea_8f84_52540084ebbbrow4_col11\" class=\"data row4 col11\" >-0.049557</td>\n",
       "                        <td id=\"T_a65523f4_fa64_11ea_8f84_52540084ebbbrow4_col12\" class=\"data row4 col12\" >-0.032879</td>\n",
       "                        <td id=\"T_a65523f4_fa64_11ea_8f84_52540084ebbbrow4_col13\" class=\"data row4 col13\" >0.108627</td>\n",
       "                        <td id=\"T_a65523f4_fa64_11ea_8f84_52540084ebbbrow4_col14\" class=\"data row4 col14\" >-0.117426</td>\n",
       "                        <td id=\"T_a65523f4_fa64_11ea_8f84_52540084ebbbrow4_col15\" class=\"data row4 col15\" >0.135818</td>\n",
       "                        <td id=\"T_a65523f4_fa64_11ea_8f84_52540084ebbbrow4_col16\" class=\"data row4 col16\" >0.104080</td>\n",
       "            </tr>\n",
       "            <tr>\n",
       "                        <th id=\"T_a65523f4_fa64_11ea_8f84_52540084ebbblevel0_row5\" class=\"row_heading level0 row5\" >School_closing</th>\n",
       "                        <td id=\"T_a65523f4_fa64_11ea_8f84_52540084ebbbrow5_col0\" class=\"data row5 col0\" >-0.032604</td>\n",
       "                        <td id=\"T_a65523f4_fa64_11ea_8f84_52540084ebbbrow5_col1\" class=\"data row5 col1\" >-0.222157</td>\n",
       "                        <td id=\"T_a65523f4_fa64_11ea_8f84_52540084ebbbrow5_col2\" class=\"data row5 col2\" >-0.254235</td>\n",
       "                        <td id=\"T_a65523f4_fa64_11ea_8f84_52540084ebbbrow5_col3\" class=\"data row5 col3\" >-0.149546</td>\n",
       "                        <td id=\"T_a65523f4_fa64_11ea_8f84_52540084ebbbrow5_col4\" class=\"data row5 col4\" >0.217902</td>\n",
       "                        <td id=\"T_a65523f4_fa64_11ea_8f84_52540084ebbbrow5_col5\" class=\"data row5 col5\" >1.000000</td>\n",
       "                        <td id=\"T_a65523f4_fa64_11ea_8f84_52540084ebbbrow5_col6\" class=\"data row5 col6\" >0.738233</td>\n",
       "                        <td id=\"T_a65523f4_fa64_11ea_8f84_52540084ebbbrow5_col7\" class=\"data row5 col7\" >0.737202</td>\n",
       "                        <td id=\"T_a65523f4_fa64_11ea_8f84_52540084ebbbrow5_col8\" class=\"data row5 col8\" >0.659907</td>\n",
       "                        <td id=\"T_a65523f4_fa64_11ea_8f84_52540084ebbbrow5_col9\" class=\"data row5 col9\" >0.549260</td>\n",
       "                        <td id=\"T_a65523f4_fa64_11ea_8f84_52540084ebbbrow5_col10\" class=\"data row5 col10\" >0.570538</td>\n",
       "                        <td id=\"T_a65523f4_fa64_11ea_8f84_52540084ebbbrow5_col11\" class=\"data row5 col11\" >0.529665</td>\n",
       "                        <td id=\"T_a65523f4_fa64_11ea_8f84_52540084ebbbrow5_col12\" class=\"data row5 col12\" >0.483758</td>\n",
       "                        <td id=\"T_a65523f4_fa64_11ea_8f84_52540084ebbbrow5_col13\" class=\"data row5 col13\" >0.727326</td>\n",
       "                        <td id=\"T_a65523f4_fa64_11ea_8f84_52540084ebbbrow5_col14\" class=\"data row5 col14\" >0.433956</td>\n",
       "                        <td id=\"T_a65523f4_fa64_11ea_8f84_52540084ebbbrow5_col15\" class=\"data row5 col15\" >0.294371</td>\n",
       "                        <td id=\"T_a65523f4_fa64_11ea_8f84_52540084ebbbrow5_col16\" class=\"data row5 col16\" >0.817263</td>\n",
       "            </tr>\n",
       "            <tr>\n",
       "                        <th id=\"T_a65523f4_fa64_11ea_8f84_52540084ebbblevel0_row6\" class=\"row_heading level0 row6\" >Workplace_closing</th>\n",
       "                        <td id=\"T_a65523f4_fa64_11ea_8f84_52540084ebbbrow6_col0\" class=\"data row6 col0\" >0.070784</td>\n",
       "                        <td id=\"T_a65523f4_fa64_11ea_8f84_52540084ebbbrow6_col1\" class=\"data row6 col1\" >-0.112473</td>\n",
       "                        <td id=\"T_a65523f4_fa64_11ea_8f84_52540084ebbbrow6_col2\" class=\"data row6 col2\" >-0.156893</td>\n",
       "                        <td id=\"T_a65523f4_fa64_11ea_8f84_52540084ebbbrow6_col3\" class=\"data row6 col3\" >-0.068794</td>\n",
       "                        <td id=\"T_a65523f4_fa64_11ea_8f84_52540084ebbbrow6_col4\" class=\"data row6 col4\" >0.032283</td>\n",
       "                        <td id=\"T_a65523f4_fa64_11ea_8f84_52540084ebbbrow6_col5\" class=\"data row6 col5\" >0.738233</td>\n",
       "                        <td id=\"T_a65523f4_fa64_11ea_8f84_52540084ebbbrow6_col6\" class=\"data row6 col6\" >1.000000</td>\n",
       "                        <td id=\"T_a65523f4_fa64_11ea_8f84_52540084ebbbrow6_col7\" class=\"data row6 col7\" >0.725780</td>\n",
       "                        <td id=\"T_a65523f4_fa64_11ea_8f84_52540084ebbbrow6_col8\" class=\"data row6 col8\" >0.764092</td>\n",
       "                        <td id=\"T_a65523f4_fa64_11ea_8f84_52540084ebbbrow6_col9\" class=\"data row6 col9\" >0.572790</td>\n",
       "                        <td id=\"T_a65523f4_fa64_11ea_8f84_52540084ebbbrow6_col10\" class=\"data row6 col10\" >0.684610</td>\n",
       "                        <td id=\"T_a65523f4_fa64_11ea_8f84_52540084ebbbrow6_col11\" class=\"data row6 col11\" >0.657333</td>\n",
       "                        <td id=\"T_a65523f4_fa64_11ea_8f84_52540084ebbbrow6_col12\" class=\"data row6 col12\" >0.486863</td>\n",
       "                        <td id=\"T_a65523f4_fa64_11ea_8f84_52540084ebbbrow6_col13\" class=\"data row6 col13\" >0.780792</td>\n",
       "                        <td id=\"T_a65523f4_fa64_11ea_8f84_52540084ebbbrow6_col14\" class=\"data row6 col14\" >0.454438</td>\n",
       "                        <td id=\"T_a65523f4_fa64_11ea_8f84_52540084ebbbrow6_col15\" class=\"data row6 col15\" >0.305706</td>\n",
       "                        <td id=\"T_a65523f4_fa64_11ea_8f84_52540084ebbbrow6_col16\" class=\"data row6 col16\" >0.868918</td>\n",
       "            </tr>\n",
       "            <tr>\n",
       "                        <th id=\"T_a65523f4_fa64_11ea_8f84_52540084ebbblevel0_row7\" class=\"row_heading level0 row7\" >Cancel_events</th>\n",
       "                        <td id=\"T_a65523f4_fa64_11ea_8f84_52540084ebbbrow7_col0\" class=\"data row7 col0\" >-0.073449</td>\n",
       "                        <td id=\"T_a65523f4_fa64_11ea_8f84_52540084ebbbrow7_col1\" class=\"data row7 col1\" >-0.289563</td>\n",
       "                        <td id=\"T_a65523f4_fa64_11ea_8f84_52540084ebbbrow7_col2\" class=\"data row7 col2\" >-0.306630</td>\n",
       "                        <td id=\"T_a65523f4_fa64_11ea_8f84_52540084ebbbrow7_col3\" class=\"data row7 col3\" >-0.338892</td>\n",
       "                        <td id=\"T_a65523f4_fa64_11ea_8f84_52540084ebbbrow7_col4\" class=\"data row7 col4\" >0.087635</td>\n",
       "                        <td id=\"T_a65523f4_fa64_11ea_8f84_52540084ebbbrow7_col5\" class=\"data row7 col5\" >0.737202</td>\n",
       "                        <td id=\"T_a65523f4_fa64_11ea_8f84_52540084ebbbrow7_col6\" class=\"data row7 col6\" >0.725780</td>\n",
       "                        <td id=\"T_a65523f4_fa64_11ea_8f84_52540084ebbbrow7_col7\" class=\"data row7 col7\" >1.000000</td>\n",
       "                        <td id=\"T_a65523f4_fa64_11ea_8f84_52540084ebbbrow7_col8\" class=\"data row7 col8\" >0.811730</td>\n",
       "                        <td id=\"T_a65523f4_fa64_11ea_8f84_52540084ebbbrow7_col9\" class=\"data row7 col9\" >0.497914</td>\n",
       "                        <td id=\"T_a65523f4_fa64_11ea_8f84_52540084ebbbrow7_col10\" class=\"data row7 col10\" >0.544559</td>\n",
       "                        <td id=\"T_a65523f4_fa64_11ea_8f84_52540084ebbbrow7_col11\" class=\"data row7 col11\" >0.643935</td>\n",
       "                        <td id=\"T_a65523f4_fa64_11ea_8f84_52540084ebbbrow7_col12\" class=\"data row7 col12\" >0.560168</td>\n",
       "                        <td id=\"T_a65523f4_fa64_11ea_8f84_52540084ebbbrow7_col13\" class=\"data row7 col13\" >0.897555</td>\n",
       "                        <td id=\"T_a65523f4_fa64_11ea_8f84_52540084ebbbrow7_col14\" class=\"data row7 col14\" >0.619895</td>\n",
       "                        <td id=\"T_a65523f4_fa64_11ea_8f84_52540084ebbbrow7_col15\" class=\"data row7 col15\" >0.596307</td>\n",
       "                        <td id=\"T_a65523f4_fa64_11ea_8f84_52540084ebbbrow7_col16\" class=\"data row7 col16\" >0.844301</td>\n",
       "            </tr>\n",
       "            <tr>\n",
       "                        <th id=\"T_a65523f4_fa64_11ea_8f84_52540084ebbblevel0_row8\" class=\"row_heading level0 row8\" >Gatherings_restrictions</th>\n",
       "                        <td id=\"T_a65523f4_fa64_11ea_8f84_52540084ebbbrow8_col0\" class=\"data row8 col0\" >-0.045597</td>\n",
       "                        <td id=\"T_a65523f4_fa64_11ea_8f84_52540084ebbbrow8_col1\" class=\"data row8 col1\" >-0.290071</td>\n",
       "                        <td id=\"T_a65523f4_fa64_11ea_8f84_52540084ebbbrow8_col2\" class=\"data row8 col2\" >-0.284997</td>\n",
       "                        <td id=\"T_a65523f4_fa64_11ea_8f84_52540084ebbbrow8_col3\" class=\"data row8 col3\" >-0.306085</td>\n",
       "                        <td id=\"T_a65523f4_fa64_11ea_8f84_52540084ebbbrow8_col4\" class=\"data row8 col4\" >-0.112142</td>\n",
       "                        <td id=\"T_a65523f4_fa64_11ea_8f84_52540084ebbbrow8_col5\" class=\"data row8 col5\" >0.659907</td>\n",
       "                        <td id=\"T_a65523f4_fa64_11ea_8f84_52540084ebbbrow8_col6\" class=\"data row8 col6\" >0.764092</td>\n",
       "                        <td id=\"T_a65523f4_fa64_11ea_8f84_52540084ebbbrow8_col7\" class=\"data row8 col7\" >0.811730</td>\n",
       "                        <td id=\"T_a65523f4_fa64_11ea_8f84_52540084ebbbrow8_col8\" class=\"data row8 col8\" >1.000000</td>\n",
       "                        <td id=\"T_a65523f4_fa64_11ea_8f84_52540084ebbbrow8_col9\" class=\"data row8 col9\" >0.701064</td>\n",
       "                        <td id=\"T_a65523f4_fa64_11ea_8f84_52540084ebbbrow8_col10\" class=\"data row8 col10\" >0.656216</td>\n",
       "                        <td id=\"T_a65523f4_fa64_11ea_8f84_52540084ebbbrow8_col11\" class=\"data row8 col11\" >0.753584</td>\n",
       "                        <td id=\"T_a65523f4_fa64_11ea_8f84_52540084ebbbrow8_col12\" class=\"data row8 col12\" >0.606917</td>\n",
       "                        <td id=\"T_a65523f4_fa64_11ea_8f84_52540084ebbbrow8_col13\" class=\"data row8 col13\" >0.826404</td>\n",
       "                        <td id=\"T_a65523f4_fa64_11ea_8f84_52540084ebbbrow8_col14\" class=\"data row8 col14\" >0.642769</td>\n",
       "                        <td id=\"T_a65523f4_fa64_11ea_8f84_52540084ebbbrow8_col15\" class=\"data row8 col15\" >0.392942</td>\n",
       "                        <td id=\"T_a65523f4_fa64_11ea_8f84_52540084ebbbrow8_col16\" class=\"data row8 col16\" >0.868492</td>\n",
       "            </tr>\n",
       "            <tr>\n",
       "                        <th id=\"T_a65523f4_fa64_11ea_8f84_52540084ebbblevel0_row9\" class=\"row_heading level0 row9\" >Transport_closing</th>\n",
       "                        <td id=\"T_a65523f4_fa64_11ea_8f84_52540084ebbbrow9_col0\" class=\"data row9 col0\" >-0.113890</td>\n",
       "                        <td id=\"T_a65523f4_fa64_11ea_8f84_52540084ebbbrow9_col1\" class=\"data row9 col1\" >-0.291427</td>\n",
       "                        <td id=\"T_a65523f4_fa64_11ea_8f84_52540084ebbbrow9_col2\" class=\"data row9 col2\" >-0.285680</td>\n",
       "                        <td id=\"T_a65523f4_fa64_11ea_8f84_52540084ebbbrow9_col3\" class=\"data row9 col3\" >-0.295974</td>\n",
       "                        <td id=\"T_a65523f4_fa64_11ea_8f84_52540084ebbbrow9_col4\" class=\"data row9 col4\" >0.025034</td>\n",
       "                        <td id=\"T_a65523f4_fa64_11ea_8f84_52540084ebbbrow9_col5\" class=\"data row9 col5\" >0.549260</td>\n",
       "                        <td id=\"T_a65523f4_fa64_11ea_8f84_52540084ebbbrow9_col6\" class=\"data row9 col6\" >0.572790</td>\n",
       "                        <td id=\"T_a65523f4_fa64_11ea_8f84_52540084ebbbrow9_col7\" class=\"data row9 col7\" >0.497914</td>\n",
       "                        <td id=\"T_a65523f4_fa64_11ea_8f84_52540084ebbbrow9_col8\" class=\"data row9 col8\" >0.701064</td>\n",
       "                        <td id=\"T_a65523f4_fa64_11ea_8f84_52540084ebbbrow9_col9\" class=\"data row9 col9\" >1.000000</td>\n",
       "                        <td id=\"T_a65523f4_fa64_11ea_8f84_52540084ebbbrow9_col10\" class=\"data row9 col10\" >0.605531</td>\n",
       "                        <td id=\"T_a65523f4_fa64_11ea_8f84_52540084ebbbrow9_col11\" class=\"data row9 col11\" >0.672996</td>\n",
       "                        <td id=\"T_a65523f4_fa64_11ea_8f84_52540084ebbbrow9_col12\" class=\"data row9 col12\" >0.541331</td>\n",
       "                        <td id=\"T_a65523f4_fa64_11ea_8f84_52540084ebbbrow9_col13\" class=\"data row9 col13\" >0.536188</td>\n",
       "                        <td id=\"T_a65523f4_fa64_11ea_8f84_52540084ebbbrow9_col14\" class=\"data row9 col14\" >0.354467</td>\n",
       "                        <td id=\"T_a65523f4_fa64_11ea_8f84_52540084ebbbrow9_col15\" class=\"data row9 col15\" >0.165466</td>\n",
       "                        <td id=\"T_a65523f4_fa64_11ea_8f84_52540084ebbbrow9_col16\" class=\"data row9 col16\" >0.751399</td>\n",
       "            </tr>\n",
       "            <tr>\n",
       "                        <th id=\"T_a65523f4_fa64_11ea_8f84_52540084ebbblevel0_row10\" class=\"row_heading level0 row10\" >Stay_home_restrictions</th>\n",
       "                        <td id=\"T_a65523f4_fa64_11ea_8f84_52540084ebbbrow10_col0\" class=\"data row10 col0\" >-0.125514</td>\n",
       "                        <td id=\"T_a65523f4_fa64_11ea_8f84_52540084ebbbrow10_col1\" class=\"data row10 col1\" >0.128561</td>\n",
       "                        <td id=\"T_a65523f4_fa64_11ea_8f84_52540084ebbbrow10_col2\" class=\"data row10 col2\" >0.117523</td>\n",
       "                        <td id=\"T_a65523f4_fa64_11ea_8f84_52540084ebbbrow10_col3\" class=\"data row10 col3\" >0.109760</td>\n",
       "                        <td id=\"T_a65523f4_fa64_11ea_8f84_52540084ebbbrow10_col4\" class=\"data row10 col4\" >0.032280</td>\n",
       "                        <td id=\"T_a65523f4_fa64_11ea_8f84_52540084ebbbrow10_col5\" class=\"data row10 col5\" >0.570538</td>\n",
       "                        <td id=\"T_a65523f4_fa64_11ea_8f84_52540084ebbbrow10_col6\" class=\"data row10 col6\" >0.684610</td>\n",
       "                        <td id=\"T_a65523f4_fa64_11ea_8f84_52540084ebbbrow10_col7\" class=\"data row10 col7\" >0.544559</td>\n",
       "                        <td id=\"T_a65523f4_fa64_11ea_8f84_52540084ebbbrow10_col8\" class=\"data row10 col8\" >0.656216</td>\n",
       "                        <td id=\"T_a65523f4_fa64_11ea_8f84_52540084ebbbrow10_col9\" class=\"data row10 col9\" >0.605531</td>\n",
       "                        <td id=\"T_a65523f4_fa64_11ea_8f84_52540084ebbbrow10_col10\" class=\"data row10 col10\" >1.000000</td>\n",
       "                        <td id=\"T_a65523f4_fa64_11ea_8f84_52540084ebbbrow10_col11\" class=\"data row10 col11\" >0.774909</td>\n",
       "                        <td id=\"T_a65523f4_fa64_11ea_8f84_52540084ebbbrow10_col12\" class=\"data row10 col12\" >0.614769</td>\n",
       "                        <td id=\"T_a65523f4_fa64_11ea_8f84_52540084ebbbrow10_col13\" class=\"data row10 col13\" >0.514725</td>\n",
       "                        <td id=\"T_a65523f4_fa64_11ea_8f84_52540084ebbbrow10_col14\" class=\"data row10 col14\" >0.355610</td>\n",
       "                        <td id=\"T_a65523f4_fa64_11ea_8f84_52540084ebbbrow10_col15\" class=\"data row10 col15\" >0.417283</td>\n",
       "                        <td id=\"T_a65523f4_fa64_11ea_8f84_52540084ebbbrow10_col16\" class=\"data row10 col16\" >0.787351</td>\n",
       "            </tr>\n",
       "            <tr>\n",
       "                        <th id=\"T_a65523f4_fa64_11ea_8f84_52540084ebbblevel0_row11\" class=\"row_heading level0 row11\" >Internal_movement_restrictions</th>\n",
       "                        <td id=\"T_a65523f4_fa64_11ea_8f84_52540084ebbbrow11_col0\" class=\"data row11 col0\" >-0.152597</td>\n",
       "                        <td id=\"T_a65523f4_fa64_11ea_8f84_52540084ebbbrow11_col1\" class=\"data row11 col1\" >-0.075731</td>\n",
       "                        <td id=\"T_a65523f4_fa64_11ea_8f84_52540084ebbbrow11_col2\" class=\"data row11 col2\" >-0.072485</td>\n",
       "                        <td id=\"T_a65523f4_fa64_11ea_8f84_52540084ebbbrow11_col3\" class=\"data row11 col3\" >-0.135021</td>\n",
       "                        <td id=\"T_a65523f4_fa64_11ea_8f84_52540084ebbbrow11_col4\" class=\"data row11 col4\" >-0.049557</td>\n",
       "                        <td id=\"T_a65523f4_fa64_11ea_8f84_52540084ebbbrow11_col5\" class=\"data row11 col5\" >0.529665</td>\n",
       "                        <td id=\"T_a65523f4_fa64_11ea_8f84_52540084ebbbrow11_col6\" class=\"data row11 col6\" >0.657333</td>\n",
       "                        <td id=\"T_a65523f4_fa64_11ea_8f84_52540084ebbbrow11_col7\" class=\"data row11 col7\" >0.643935</td>\n",
       "                        <td id=\"T_a65523f4_fa64_11ea_8f84_52540084ebbbrow11_col8\" class=\"data row11 col8\" >0.753584</td>\n",
       "                        <td id=\"T_a65523f4_fa64_11ea_8f84_52540084ebbbrow11_col9\" class=\"data row11 col9\" >0.672996</td>\n",
       "                        <td id=\"T_a65523f4_fa64_11ea_8f84_52540084ebbbrow11_col10\" class=\"data row11 col10\" >0.774909</td>\n",
       "                        <td id=\"T_a65523f4_fa64_11ea_8f84_52540084ebbbrow11_col11\" class=\"data row11 col11\" >1.000000</td>\n",
       "                        <td id=\"T_a65523f4_fa64_11ea_8f84_52540084ebbbrow11_col12\" class=\"data row11 col12\" >0.584834</td>\n",
       "                        <td id=\"T_a65523f4_fa64_11ea_8f84_52540084ebbbrow11_col13\" class=\"data row11 col13\" >0.604875</td>\n",
       "                        <td id=\"T_a65523f4_fa64_11ea_8f84_52540084ebbbrow11_col14\" class=\"data row11 col14\" >0.461827</td>\n",
       "                        <td id=\"T_a65523f4_fa64_11ea_8f84_52540084ebbbrow11_col15\" class=\"data row11 col15\" >0.390598</td>\n",
       "                        <td id=\"T_a65523f4_fa64_11ea_8f84_52540084ebbbrow11_col16\" class=\"data row11 col16\" >0.777695</td>\n",
       "            </tr>\n",
       "            <tr>\n",
       "                        <th id=\"T_a65523f4_fa64_11ea_8f84_52540084ebbblevel0_row12\" class=\"row_heading level0 row12\" >International_movement_restrictions</th>\n",
       "                        <td id=\"T_a65523f4_fa64_11ea_8f84_52540084ebbbrow12_col0\" class=\"data row12 col0\" >-0.172766</td>\n",
       "                        <td id=\"T_a65523f4_fa64_11ea_8f84_52540084ebbbrow12_col1\" class=\"data row12 col1\" >0.138327</td>\n",
       "                        <td id=\"T_a65523f4_fa64_11ea_8f84_52540084ebbbrow12_col2\" class=\"data row12 col2\" >0.160559</td>\n",
       "                        <td id=\"T_a65523f4_fa64_11ea_8f84_52540084ebbbrow12_col3\" class=\"data row12 col3\" >0.008232</td>\n",
       "                        <td id=\"T_a65523f4_fa64_11ea_8f84_52540084ebbbrow12_col4\" class=\"data row12 col4\" >-0.032879</td>\n",
       "                        <td id=\"T_a65523f4_fa64_11ea_8f84_52540084ebbbrow12_col5\" class=\"data row12 col5\" >0.483758</td>\n",
       "                        <td id=\"T_a65523f4_fa64_11ea_8f84_52540084ebbbrow12_col6\" class=\"data row12 col6\" >0.486863</td>\n",
       "                        <td id=\"T_a65523f4_fa64_11ea_8f84_52540084ebbbrow12_col7\" class=\"data row12 col7\" >0.560168</td>\n",
       "                        <td id=\"T_a65523f4_fa64_11ea_8f84_52540084ebbbrow12_col8\" class=\"data row12 col8\" >0.606917</td>\n",
       "                        <td id=\"T_a65523f4_fa64_11ea_8f84_52540084ebbbrow12_col9\" class=\"data row12 col9\" >0.541331</td>\n",
       "                        <td id=\"T_a65523f4_fa64_11ea_8f84_52540084ebbbrow12_col10\" class=\"data row12 col10\" >0.614769</td>\n",
       "                        <td id=\"T_a65523f4_fa64_11ea_8f84_52540084ebbbrow12_col11\" class=\"data row12 col11\" >0.584834</td>\n",
       "                        <td id=\"T_a65523f4_fa64_11ea_8f84_52540084ebbbrow12_col12\" class=\"data row12 col12\" >1.000000</td>\n",
       "                        <td id=\"T_a65523f4_fa64_11ea_8f84_52540084ebbbrow12_col13\" class=\"data row12 col13\" >0.523826</td>\n",
       "                        <td id=\"T_a65523f4_fa64_11ea_8f84_52540084ebbbrow12_col14\" class=\"data row12 col14\" >0.464158</td>\n",
       "                        <td id=\"T_a65523f4_fa64_11ea_8f84_52540084ebbbrow12_col15\" class=\"data row12 col15\" >0.490008</td>\n",
       "                        <td id=\"T_a65523f4_fa64_11ea_8f84_52540084ebbbrow12_col16\" class=\"data row12 col16\" >0.698620</td>\n",
       "            </tr>\n",
       "            <tr>\n",
       "                        <th id=\"T_a65523f4_fa64_11ea_8f84_52540084ebbblevel0_row13\" class=\"row_heading level0 row13\" >Information_campaigns</th>\n",
       "                        <td id=\"T_a65523f4_fa64_11ea_8f84_52540084ebbbrow13_col0\" class=\"data row13 col0\" >-0.046586</td>\n",
       "                        <td id=\"T_a65523f4_fa64_11ea_8f84_52540084ebbbrow13_col1\" class=\"data row13 col1\" >-0.339811</td>\n",
       "                        <td id=\"T_a65523f4_fa64_11ea_8f84_52540084ebbbrow13_col2\" class=\"data row13 col2\" >-0.357463</td>\n",
       "                        <td id=\"T_a65523f4_fa64_11ea_8f84_52540084ebbbrow13_col3\" class=\"data row13 col3\" >-0.366283</td>\n",
       "                        <td id=\"T_a65523f4_fa64_11ea_8f84_52540084ebbbrow13_col4\" class=\"data row13 col4\" >0.108627</td>\n",
       "                        <td id=\"T_a65523f4_fa64_11ea_8f84_52540084ebbbrow13_col5\" class=\"data row13 col5\" >0.727326</td>\n",
       "                        <td id=\"T_a65523f4_fa64_11ea_8f84_52540084ebbbrow13_col6\" class=\"data row13 col6\" >0.780792</td>\n",
       "                        <td id=\"T_a65523f4_fa64_11ea_8f84_52540084ebbbrow13_col7\" class=\"data row13 col7\" >0.897555</td>\n",
       "                        <td id=\"T_a65523f4_fa64_11ea_8f84_52540084ebbbrow13_col8\" class=\"data row13 col8\" >0.826404</td>\n",
       "                        <td id=\"T_a65523f4_fa64_11ea_8f84_52540084ebbbrow13_col9\" class=\"data row13 col9\" >0.536188</td>\n",
       "                        <td id=\"T_a65523f4_fa64_11ea_8f84_52540084ebbbrow13_col10\" class=\"data row13 col10\" >0.514725</td>\n",
       "                        <td id=\"T_a65523f4_fa64_11ea_8f84_52540084ebbbrow13_col11\" class=\"data row13 col11\" >0.604875</td>\n",
       "                        <td id=\"T_a65523f4_fa64_11ea_8f84_52540084ebbbrow13_col12\" class=\"data row13 col12\" >0.523826</td>\n",
       "                        <td id=\"T_a65523f4_fa64_11ea_8f84_52540084ebbbrow13_col13\" class=\"data row13 col13\" >1.000000</td>\n",
       "                        <td id=\"T_a65523f4_fa64_11ea_8f84_52540084ebbbrow13_col14\" class=\"data row13 col14\" >0.616661</td>\n",
       "                        <td id=\"T_a65523f4_fa64_11ea_8f84_52540084ebbbrow13_col15\" class=\"data row13 col15\" >0.552032</td>\n",
       "                        <td id=\"T_a65523f4_fa64_11ea_8f84_52540084ebbbrow13_col16\" class=\"data row13 col16\" >0.853330</td>\n",
       "            </tr>\n",
       "            <tr>\n",
       "                        <th id=\"T_a65523f4_fa64_11ea_8f84_52540084ebbblevel0_row14\" class=\"row_heading level0 row14\" >Testing_policy</th>\n",
       "                        <td id=\"T_a65523f4_fa64_11ea_8f84_52540084ebbbrow14_col0\" class=\"data row14 col0\" >-0.120818</td>\n",
       "                        <td id=\"T_a65523f4_fa64_11ea_8f84_52540084ebbbrow14_col1\" class=\"data row14 col1\" >-0.316019</td>\n",
       "                        <td id=\"T_a65523f4_fa64_11ea_8f84_52540084ebbbrow14_col2\" class=\"data row14 col2\" >-0.251320</td>\n",
       "                        <td id=\"T_a65523f4_fa64_11ea_8f84_52540084ebbbrow14_col3\" class=\"data row14 col3\" >-0.430799</td>\n",
       "                        <td id=\"T_a65523f4_fa64_11ea_8f84_52540084ebbbrow14_col4\" class=\"data row14 col4\" >-0.117426</td>\n",
       "                        <td id=\"T_a65523f4_fa64_11ea_8f84_52540084ebbbrow14_col5\" class=\"data row14 col5\" >0.433956</td>\n",
       "                        <td id=\"T_a65523f4_fa64_11ea_8f84_52540084ebbbrow14_col6\" class=\"data row14 col6\" >0.454438</td>\n",
       "                        <td id=\"T_a65523f4_fa64_11ea_8f84_52540084ebbbrow14_col7\" class=\"data row14 col7\" >0.619895</td>\n",
       "                        <td id=\"T_a65523f4_fa64_11ea_8f84_52540084ebbbrow14_col8\" class=\"data row14 col8\" >0.642769</td>\n",
       "                        <td id=\"T_a65523f4_fa64_11ea_8f84_52540084ebbbrow14_col9\" class=\"data row14 col9\" >0.354467</td>\n",
       "                        <td id=\"T_a65523f4_fa64_11ea_8f84_52540084ebbbrow14_col10\" class=\"data row14 col10\" >0.355610</td>\n",
       "                        <td id=\"T_a65523f4_fa64_11ea_8f84_52540084ebbbrow14_col11\" class=\"data row14 col11\" >0.461827</td>\n",
       "                        <td id=\"T_a65523f4_fa64_11ea_8f84_52540084ebbbrow14_col12\" class=\"data row14 col12\" >0.464158</td>\n",
       "                        <td id=\"T_a65523f4_fa64_11ea_8f84_52540084ebbbrow14_col13\" class=\"data row14 col13\" >0.616661</td>\n",
       "                        <td id=\"T_a65523f4_fa64_11ea_8f84_52540084ebbbrow14_col14\" class=\"data row14 col14\" >1.000000</td>\n",
       "                        <td id=\"T_a65523f4_fa64_11ea_8f84_52540084ebbbrow14_col15\" class=\"data row14 col15\" >0.395278</td>\n",
       "                        <td id=\"T_a65523f4_fa64_11ea_8f84_52540084ebbbrow14_col16\" class=\"data row14 col16\" >0.464032</td>\n",
       "            </tr>\n",
       "            <tr>\n",
       "                        <th id=\"T_a65523f4_fa64_11ea_8f84_52540084ebbblevel0_row15\" class=\"row_heading level0 row15\" >Contact_tracing</th>\n",
       "                        <td id=\"T_a65523f4_fa64_11ea_8f84_52540084ebbbrow15_col0\" class=\"data row15 col0\" >-0.247191</td>\n",
       "                        <td id=\"T_a65523f4_fa64_11ea_8f84_52540084ebbbrow15_col1\" class=\"data row15 col1\" >0.011472</td>\n",
       "                        <td id=\"T_a65523f4_fa64_11ea_8f84_52540084ebbbrow15_col2\" class=\"data row15 col2\" >0.008567</td>\n",
       "                        <td id=\"T_a65523f4_fa64_11ea_8f84_52540084ebbbrow15_col3\" class=\"data row15 col3\" >-0.176068</td>\n",
       "                        <td id=\"T_a65523f4_fa64_11ea_8f84_52540084ebbbrow15_col4\" class=\"data row15 col4\" >0.135818</td>\n",
       "                        <td id=\"T_a65523f4_fa64_11ea_8f84_52540084ebbbrow15_col5\" class=\"data row15 col5\" >0.294371</td>\n",
       "                        <td id=\"T_a65523f4_fa64_11ea_8f84_52540084ebbbrow15_col6\" class=\"data row15 col6\" >0.305706</td>\n",
       "                        <td id=\"T_a65523f4_fa64_11ea_8f84_52540084ebbbrow15_col7\" class=\"data row15 col7\" >0.596307</td>\n",
       "                        <td id=\"T_a65523f4_fa64_11ea_8f84_52540084ebbbrow15_col8\" class=\"data row15 col8\" >0.392942</td>\n",
       "                        <td id=\"T_a65523f4_fa64_11ea_8f84_52540084ebbbrow15_col9\" class=\"data row15 col9\" >0.165466</td>\n",
       "                        <td id=\"T_a65523f4_fa64_11ea_8f84_52540084ebbbrow15_col10\" class=\"data row15 col10\" >0.417283</td>\n",
       "                        <td id=\"T_a65523f4_fa64_11ea_8f84_52540084ebbbrow15_col11\" class=\"data row15 col11\" >0.390598</td>\n",
       "                        <td id=\"T_a65523f4_fa64_11ea_8f84_52540084ebbbrow15_col12\" class=\"data row15 col12\" >0.490008</td>\n",
       "                        <td id=\"T_a65523f4_fa64_11ea_8f84_52540084ebbbrow15_col13\" class=\"data row15 col13\" >0.552032</td>\n",
       "                        <td id=\"T_a65523f4_fa64_11ea_8f84_52540084ebbbrow15_col14\" class=\"data row15 col14\" >0.395278</td>\n",
       "                        <td id=\"T_a65523f4_fa64_11ea_8f84_52540084ebbbrow15_col15\" class=\"data row15 col15\" >1.000000</td>\n",
       "                        <td id=\"T_a65523f4_fa64_11ea_8f84_52540084ebbbrow15_col16\" class=\"data row15 col16\" >0.475400</td>\n",
       "            </tr>\n",
       "            <tr>\n",
       "                        <th id=\"T_a65523f4_fa64_11ea_8f84_52540084ebbblevel0_row16\" class=\"row_heading level0 row16\" >Stringency_index</th>\n",
       "                        <td id=\"T_a65523f4_fa64_11ea_8f84_52540084ebbbrow16_col0\" class=\"data row16 col0\" >-0.061206</td>\n",
       "                        <td id=\"T_a65523f4_fa64_11ea_8f84_52540084ebbbrow16_col1\" class=\"data row16 col1\" >-0.148850</td>\n",
       "                        <td id=\"T_a65523f4_fa64_11ea_8f84_52540084ebbbrow16_col2\" class=\"data row16 col2\" >-0.185928</td>\n",
       "                        <td id=\"T_a65523f4_fa64_11ea_8f84_52540084ebbbrow16_col3\" class=\"data row16 col3\" >-0.149715</td>\n",
       "                        <td id=\"T_a65523f4_fa64_11ea_8f84_52540084ebbbrow16_col4\" class=\"data row16 col4\" >0.104080</td>\n",
       "                        <td id=\"T_a65523f4_fa64_11ea_8f84_52540084ebbbrow16_col5\" class=\"data row16 col5\" >0.817263</td>\n",
       "                        <td id=\"T_a65523f4_fa64_11ea_8f84_52540084ebbbrow16_col6\" class=\"data row16 col6\" >0.868918</td>\n",
       "                        <td id=\"T_a65523f4_fa64_11ea_8f84_52540084ebbbrow16_col7\" class=\"data row16 col7\" >0.844301</td>\n",
       "                        <td id=\"T_a65523f4_fa64_11ea_8f84_52540084ebbbrow16_col8\" class=\"data row16 col8\" >0.868492</td>\n",
       "                        <td id=\"T_a65523f4_fa64_11ea_8f84_52540084ebbbrow16_col9\" class=\"data row16 col9\" >0.751399</td>\n",
       "                        <td id=\"T_a65523f4_fa64_11ea_8f84_52540084ebbbrow16_col10\" class=\"data row16 col10\" >0.787351</td>\n",
       "                        <td id=\"T_a65523f4_fa64_11ea_8f84_52540084ebbbrow16_col11\" class=\"data row16 col11\" >0.777695</td>\n",
       "                        <td id=\"T_a65523f4_fa64_11ea_8f84_52540084ebbbrow16_col12\" class=\"data row16 col12\" >0.698620</td>\n",
       "                        <td id=\"T_a65523f4_fa64_11ea_8f84_52540084ebbbrow16_col13\" class=\"data row16 col13\" >0.853330</td>\n",
       "                        <td id=\"T_a65523f4_fa64_11ea_8f84_52540084ebbbrow16_col14\" class=\"data row16 col14\" >0.464032</td>\n",
       "                        <td id=\"T_a65523f4_fa64_11ea_8f84_52540084ebbbrow16_col15\" class=\"data row16 col15\" >0.475400</td>\n",
       "                        <td id=\"T_a65523f4_fa64_11ea_8f84_52540084ebbbrow16_col16\" class=\"data row16 col16\" >1.000000</td>\n",
       "            </tr>\n",
       "    </tbody></table>"
      ],
      "text/plain": [
       "<pandas.io.formats.style.Styler at 0x7fc6c79aca90>"
      ]
     },
     "execution_count": 21,
     "metadata": {},
     "output_type": "execute_result"
    }
   ],
   "source": [
    "# Correlation\n",
    "df = track_df.copy()\n",
    "df.corr().style.background_gradient(axis=None)"
   ]
  },
  {
   "cell_type": "code",
   "execution_count": 22,
   "metadata": {
    "collapsed": false
   },
   "outputs": [
    {
     "data": {
      "image/png": "[encoded data removed]",
      "text/plain": [
       "<Figure size 432x288 with 1 Axes>"
      ]
     },
     "metadata": {},
     "output_type": "display_data"
    }
   ],
   "source": [
    "# Scatter plot of Stringency index and Rt\n",
    "df = track_df.copy()\n",
    "sns.scatterplot(data=df, x=\"Stringency_index\", y=\"Rt\", hue=\"Country\", legend=\"brief\", marker=\"+\")\n",
    "bbox_to_anchor=(1.02, 0)\n",
    "bbox_loc=\"lower left\"\n",
    "plt.legend(bbox_to_anchor=bbox_to_anchor, loc=bbox_loc, borderaxespad=0)\n",
    "plt.title(\"Relationship of Stringency index and reproduction number\")\n",
    "plt.ylabel(\"Reproduction number\")\n",
    "plt.xlabel(\"Stringency index\")\n",
    "plt.show()"
   ]
  }
 ],
 "metadata": {
  "kernelspec": {
   "display_name": "Python 3.8.2 64-bit ('.venv': venv)",
   "name": "python_defaultSpec_1597669925034"
  },
  "language_info": {
   "codemirror_mode": {
    "name": "ipython",
    "version": 3
   },
   "file_extension": ".py",
   "mimetype": "text/x-python",
   "name": "python",
   "nbconvert_exporter": "python",
   "pygments_lexer": "ipython3",
   "version": "3.8.2-final"
  }
 },
 "nbformat": 4,
 "nbformat_minor": 4
}
