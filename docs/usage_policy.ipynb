{
 "cells": [
  {
   "cell_type": "markdown",
   "metadata": {},
   "source": [
    "# Usage (details: policy measures)\n",
    "Here, we will analyse the relationship of policy measures and parameter values of SIR-derived ODE models. Policy measures are tracked by [Oxford Covid-19 Government Response Tracker (OxCGRT)](https://github.com/OxCGRT/covid-policy-tracker)."
   ]
  },
  {
   "cell_type": "markdown",
   "metadata": {},
   "source": [
    "## Preparation"
   ]
  },
  {
   "cell_type": "code",
   "execution_count": 1,
   "metadata": {
    "collapsed": false
   },
   "outputs": [],
   "source": [
    "# Standard users\n",
    "# !pip install covsirphy\n",
    "# Developers (Note: this notebook is in example directory)\n",
    "import os\n",
    "os.chdir(\"../\")"
   ]
  },
  {
   "cell_type": "code",
   "execution_count": 2,
   "metadata": {
    "collapsed": false
   },
   "outputs": [],
   "source": [
    "from pprint import pprint"
   ]
  },
  {
   "cell_type": "code",
   "execution_count": 3,
   "metadata": {
    "collapsed": false
   },
   "outputs": [
    {
     "data": {
      "text/plain": [
       "'2.8.0'"
      ]
     },
     "execution_count": 3,
     "metadata": {},
     "output_type": "execute_result"
    }
   ],
   "source": [
    "import covsirphy as cs\n",
    "cs.__version__"
   ]
  },
  {
   "cell_type": "code",
   "execution_count": 4,
   "metadata": {
    "collapsed": false,
    "tags": []
   },
   "outputs": [
    {
     "name": "stdout",
     "output_type": "stream",
     "text": [
      "(Secondary source) Guidotti, E., Ardia, D., (2020), \"COVID-19 Data Hub\", Journal of Open Source Software 5(51):2376, doi: 10.21105/joss.02376.\n",
      "We can get Citation list of primary sources with DataLoader(...).covid19dh_citation"
     ]
    },
    {
     "name": "stdout",
     "output_type": "stream",
     "text": [
      "\n"
     ]
    }
   ],
   "source": [
    "# Standard users and developers\n",
    "data_loader = cs.DataLoader(\"input\")\n",
    "# The number of cases (JHU style)\n",
    "jhu_data = data_loader.jhu(verbose=False)\n",
    "# Population in each country\n",
    "population_data = data_loader.population(verbose=False)\n",
    "# Government Response Tracker (OxCGRT)\n",
    "oxcgrt_data = data_loader.oxcgrt(verbose=False)\n",
    "# Description/citation\n",
    "print(oxcgrt_data.citation)"
   ]
  },
  {
   "cell_type": "markdown",
   "metadata": {},
   "source": [
    "## Class for policy measure analysis\n",
    "We will `PolicyMeasures` class to find relationship of policy measures and parameter values of SIR-derived ODE models."
   ]
  },
  {
   "cell_type": "code",
   "execution_count": 5,
   "metadata": {
    "collapsed": false,
    "tags": []
   },
   "outputs": [
    {
     "data": {
      "text/plain": [
       "184"
      ]
     },
     "execution_count": 5,
     "metadata": {},
     "output_type": "execute_result"
    }
   ],
   "source": [
    "# Create analyser with tau value 360 [min] (can be changed)\n",
    "analyser = cs.PolicyMeasures(jhu_data, population_data, oxcgrt_data, tau=360)\n",
    "# The number of registerd countries\n",
    "len(analyser.countries)"
   ]
  },
  {
   "cell_type": "code",
   "execution_count": 6,
   "metadata": {
    "collapsed": false
   },
   "outputs": [
    {
     "data": {
      "text/plain": [
       "covsirphy.analysis.scenario.Scenario"
      ]
     },
     "execution_count": 6,
     "metadata": {},
     "output_type": "execute_result"
    }
   ],
   "source": [
    "# We can get Scenario instance for detailed scenario analysis\n",
    "type(analyser.scenario(\"Japan\"))"
   ]
  },
  {
   "cell_type": "markdown",
   "metadata": {},
   "source": [
    "## Set phases with S-R trend analysis\n",
    "We will perform S-R trend analysis to set phases in all countries. Countries which do not have **9th phases** will be un-registered for the next analysis. This number will be adjusted for your analysis."
   ]
  },
  {
   "cell_type": "code",
   "execution_count": 7,
   "metadata": {
    "collapsed": false
   },
   "outputs": [
    {
     "name": "stdout",
     "output_type": "stream",
     "text": [
      "{"
     ]
    },
    {
     "name": "stdout",
     "output_type": "stream",
     "text": [
      "2"
     ]
    },
    {
     "name": "stdout",
     "output_type": "stream",
     "text": [
      ": "
     ]
    },
    {
     "name": "stdout",
     "output_type": "stream",
     "text": [
      "['Dominica', 'Belize', 'Gambia', 'Papua New Guinea', 'Namibia']"
     ]
    },
    {
     "name": "stdout",
     "output_type": "stream",
     "text": [
      ",\n",
      " "
     ]
    },
    {
     "name": "stdout",
     "output_type": "stream",
     "text": [
      "3"
     ]
    },
    {
     "name": "stdout",
     "output_type": "stream",
     "text": [
      ": "
     ]
    },
    {
     "name": "stdout",
     "output_type": "stream",
     "text": [
      "["
     ]
    },
    {
     "name": "stdout",
     "output_type": "stream",
     "text": [
      "'Bahamas'"
     ]
    },
    {
     "name": "stdout",
     "output_type": "stream",
     "text": [
      ", "
     ]
    },
    {
     "name": "stdout",
     "output_type": "stream",
     "text": [
      "'Grenada'"
     ]
    },
    {
     "name": "stdout",
     "output_type": "stream",
     "text": [
      ", "
     ]
    },
    {
     "name": "stdout",
     "output_type": "stream",
     "text": [
      "'Antigua and Barbuda'"
     ]
    },
    {
     "name": "stdout",
     "output_type": "stream",
     "text": [
      ", "
     ]
    },
    {
     "name": "stdout",
     "output_type": "stream",
     "text": [
      "'Mauritius'"
     ]
    },
    {
     "name": "stdout",
     "output_type": "stream",
     "text": [
      ", "
     ]
    },
    {
     "name": "stdout",
     "output_type": "stream",
     "text": [
      "'Guyana'"
     ]
    },
    {
     "name": "stdout",
     "output_type": "stream",
     "text": [
      ",\n",
      "     "
     ]
    },
    {
     "name": "stdout",
     "output_type": "stream",
     "text": [
      "'Angola'"
     ]
    },
    {
     "name": "stdout",
     "output_type": "stream",
     "text": [
      ", "
     ]
    },
    {
     "name": "stdout",
     "output_type": "stream",
     "text": [
      "'Zimbabwe'"
     ]
    },
    {
     "name": "stdout",
     "output_type": "stream",
     "text": [
      ", "
     ]
    },
    {
     "name": "stdout",
     "output_type": "stream",
     "text": [
      "'Brunei'"
     ]
    },
    {
     "name": "stdout",
     "output_type": "stream",
     "text": [
      ", "
     ]
    },
    {
     "name": "stdout",
     "output_type": "stream",
     "text": [
      "'Tanzania'"
     ]
    },
    {
     "name": "stdout",
     "output_type": "stream",
     "text": [
      "]"
     ]
    },
    {
     "name": "stdout",
     "output_type": "stream",
     "text": [
      ",\n",
      " "
     ]
    },
    {
     "name": "stdout",
     "output_type": "stream",
     "text": [
      "4"
     ]
    },
    {
     "name": "stdout",
     "output_type": "stream",
     "text": [
      ": "
     ]
    },
    {
     "name": "stdout",
     "output_type": "stream",
     "text": [
      "["
     ]
    },
    {
     "name": "stdout",
     "output_type": "stream",
     "text": [
      "'Kyrgyzstan'"
     ]
    },
    {
     "name": "stdout",
     "output_type": "stream",
     "text": [
      ", "
     ]
    },
    {
     "name": "stdout",
     "output_type": "stream",
     "text": [
      "'Lesotho'"
     ]
    },
    {
     "name": "stdout",
     "output_type": "stream",
     "text": [
      ", "
     ]
    },
    {
     "name": "stdout",
     "output_type": "stream",
     "text": [
      "'Sao Tome and Principe'"
     ]
    },
    {
     "name": "stdout",
     "output_type": "stream",
     "text": [
      ", "
     ]
    },
    {
     "name": "stdout",
     "output_type": "stream",
     "text": [
      "'Seychelles'"
     ]
    },
    {
     "name": "stdout",
     "output_type": "stream",
     "text": [
      ", "
     ]
    },
    {
     "name": "stdout",
     "output_type": "stream",
     "text": [
      "'Morocco'"
     ]
    },
    {
     "name": "stdout",
     "output_type": "stream",
     "text": [
      ",\n",
      "     "
     ]
    },
    {
     "name": "stdout",
     "output_type": "stream",
     "text": [
      "'Trinidad and Tobago'"
     ]
    },
    {
     "name": "stdout",
     "output_type": "stream",
     "text": [
      ", "
     ]
    },
    {
     "name": "stdout",
     "output_type": "stream",
     "text": [
      "'Vietnam'"
     ]
    },
    {
     "name": "stdout",
     "output_type": "stream",
     "text": [
      ", "
     ]
    },
    {
     "name": "stdout",
     "output_type": "stream",
     "text": [
      "'Malta'"
     ]
    },
    {
     "name": "stdout",
     "output_type": "stream",
     "text": [
      ", "
     ]
    },
    {
     "name": "stdout",
     "output_type": "stream",
     "text": [
      "'Yemen'"
     ]
    },
    {
     "name": "stdout",
     "output_type": "stream",
     "text": [
      ", "
     ]
    },
    {
     "name": "stdout",
     "output_type": "stream",
     "text": [
      "'Eritrea'"
     ]
    },
    {
     "name": "stdout",
     "output_type": "stream",
     "text": [
      ",\n",
      "     "
     ]
    },
    {
     "name": "stdout",
     "output_type": "stream",
     "text": [
      "'Equatorial Guinea'"
     ]
    },
    {
     "name": "stdout",
     "output_type": "stream",
     "text": [
      ", "
     ]
    },
    {
     "name": "stdout",
     "output_type": "stream",
     "text": [
      "'Palestine'"
     ]
    },
    {
     "name": "stdout",
     "output_type": "stream",
     "text": [
      ", "
     ]
    },
    {
     "name": "stdout",
     "output_type": "stream",
     "text": [
      "'Zambia'"
     ]
    },
    {
     "name": "stdout",
     "output_type": "stream",
     "text": [
      ", "
     ]
    },
    {
     "name": "stdout",
     "output_type": "stream",
     "text": [
      "'Iceland'"
     ]
    },
    {
     "name": "stdout",
     "output_type": "stream",
     "text": [
      ", "
     ]
    },
    {
     "name": "stdout",
     "output_type": "stream",
     "text": [
      "'Norway'"
     ]
    },
    {
     "name": "stdout",
     "output_type": "stream",
     "text": [
      ",\n",
      "     "
     ]
    },
    {
     "name": "stdout",
     "output_type": "stream",
     "text": [
      "'New Zealand'"
     ]
    },
    {
     "name": "stdout",
     "output_type": "stream",
     "text": [
      ", "
     ]
    },
    {
     "name": "stdout",
     "output_type": "stream",
     "text": [
      "'Botswana'"
     ]
    },
    {
     "name": "stdout",
     "output_type": "stream",
     "text": [
      ", "
     ]
    },
    {
     "name": "stdout",
     "output_type": "stream",
     "text": [
      "'Lebanon'"
     ]
    },
    {
     "name": "stdout",
     "output_type": "stream",
     "text": [
      ", "
     ]
    },
    {
     "name": "stdout",
     "output_type": "stream",
     "text": [
      "'Fiji'"
     ]
    },
    {
     "name": "stdout",
     "output_type": "stream",
     "text": [
      ", "
     ]
    },
    {
     "name": "stdout",
     "output_type": "stream",
     "text": [
      "'Montenegro'"
     ]
    },
    {
     "name": "stdout",
     "output_type": "stream",
     "text": [
      ", "
     ]
    },
    {
     "name": "stdout",
     "output_type": "stream",
     "text": [
      "'Ireland'"
     ]
    },
    {
     "name": "stdout",
     "output_type": "stream",
     "text": [
      ",\n",
      "     "
     ]
    },
    {
     "name": "stdout",
     "output_type": "stream",
     "text": [
      "'South Sudan'"
     ]
    },
    {
     "name": "stdout",
     "output_type": "stream",
     "text": [
      "]"
     ]
    },
    {
     "name": "stdout",
     "output_type": "stream",
     "text": [
      ",\n",
      " "
     ]
    },
    {
     "name": "stdout",
     "output_type": "stream",
     "text": [
      "5"
     ]
    },
    {
     "name": "stdout",
     "output_type": "stream",
     "text": [
      ": "
     ]
    },
    {
     "name": "stdout",
     "output_type": "stream",
     "text": [
      "["
     ]
    },
    {
     "name": "stdout",
     "output_type": "stream",
     "text": [
      "'Paraguay'"
     ]
    },
    {
     "name": "stdout",
     "output_type": "stream",
     "text": [
      ", "
     ]
    },
    {
     "name": "stdout",
     "output_type": "stream",
     "text": [
      "'Saint Vincent and the Grenadines'"
     ]
    },
    {
     "name": "stdout",
     "output_type": "stream",
     "text": [
      ", "
     ]
    },
    {
     "name": "stdout",
     "output_type": "stream",
     "text": [
      "'Venezuela'"
     ]
    },
    {
     "name": "stdout",
     "output_type": "stream",
     "text": [
      ", "
     ]
    },
    {
     "name": "stdout",
     "output_type": "stream",
     "text": [
      "'Saint Lucia'"
     ]
    },
    {
     "name": "stdout",
     "output_type": "stream",
     "text": [
      ",\n",
      "     "
     ]
    },
    {
     "name": "stdout",
     "output_type": "stream",
     "text": [
      "'Madagascar'"
     ]
    },
    {
     "name": "stdout",
     "output_type": "stream",
     "text": [
      ", "
     ]
    },
    {
     "name": "stdout",
     "output_type": "stream",
     "text": [
      "'Netherlands'"
     ]
    },
    {
     "name": "stdout",
     "output_type": "stream",
     "text": [
      ", "
     ]
    },
    {
     "name": "stdout",
     "output_type": "stream",
     "text": [
      "'Malawi'"
     ]
    },
    {
     "name": "stdout",
     "output_type": "stream",
     "text": [
      ", "
     ]
    },
    {
     "name": "stdout",
     "output_type": "stream",
     "text": [
      "'Kazakhstan'"
     ]
    },
    {
     "name": "stdout",
     "output_type": "stream",
     "text": [
      ", "
     ]
    },
    {
     "name": "stdout",
     "output_type": "stream",
     "text": [
      "'Ethiopia'"
     ]
    },
    {
     "name": "stdout",
     "output_type": "stream",
     "text": [
      ",\n",
      "     "
     ]
    },
    {
     "name": "stdout",
     "output_type": "stream",
     "text": [
      "'Mongolia'"
     ]
    },
    {
     "name": "stdout",
     "output_type": "stream",
     "text": [
      ", "
     ]
    },
    {
     "name": "stdout",
     "output_type": "stream",
     "text": [
      "'Israel'"
     ]
    },
    {
     "name": "stdout",
     "output_type": "stream",
     "text": [
      ", "
     ]
    },
    {
     "name": "stdout",
     "output_type": "stream",
     "text": [
      "'Philippines'"
     ]
    },
    {
     "name": "stdout",
     "output_type": "stream",
     "text": [
      ", "
     ]
    },
    {
     "name": "stdout",
     "output_type": "stream",
     "text": [
      "'Costa Rica'"
     ]
    },
    {
     "name": "stdout",
     "output_type": "stream",
     "text": [
      ", "
     ]
    },
    {
     "name": "stdout",
     "output_type": "stream",
     "text": [
      "'Liechtenstein'"
     ]
    },
    {
     "name": "stdout",
     "output_type": "stream",
     "text": [
      ",\n",
      "     "
     ]
    },
    {
     "name": "stdout",
     "output_type": "stream",
     "text": [
      "'Japan'"
     ]
    },
    {
     "name": "stdout",
     "output_type": "stream",
     "text": [
      ", "
     ]
    },
    {
     "name": "stdout",
     "output_type": "stream",
     "text": [
      "'Central African Republic'"
     ]
    },
    {
     "name": "stdout",
     "output_type": "stream",
     "text": [
      ", "
     ]
    },
    {
     "name": "stdout",
     "output_type": "stream",
     "text": [
      "'Chad'"
     ]
    },
    {
     "name": "stdout",
     "output_type": "stream",
     "text": [
      ", "
     ]
    },
    {
     "name": "stdout",
     "output_type": "stream",
     "text": [
      "'San Marino'"
     ]
    },
    {
     "name": "stdout",
     "output_type": "stream",
     "text": [
      ", "
     ]
    },
    {
     "name": "stdout",
     "output_type": "stream",
     "text": [
      "'Australia'"
     ]
    },
    {
     "name": "stdout",
     "output_type": "stream",
     "text": [
      ",\n",
      "     "
     ]
    },
    {
     "name": "stdout",
     "output_type": "stream",
     "text": [
      "'Guatemala'"
     ]
    },
    {
     "name": "stdout",
     "output_type": "stream",
     "text": [
      ", "
     ]
    },
    {
     "name": "stdout",
     "output_type": "stream",
     "text": [
      "'Spain'"
     ]
    },
    {
     "name": "stdout",
     "output_type": "stream",
     "text": [
      ", "
     ]
    },
    {
     "name": "stdout",
     "output_type": "stream",
     "text": [
      "'Suriname'"
     ]
    },
    {
     "name": "stdout",
     "output_type": "stream",
     "text": [
      ", "
     ]
    },
    {
     "name": "stdout",
     "output_type": "stream",
     "text": [
      "'Libya'"
     ]
    },
    {
     "name": "stdout",
     "output_type": "stream",
     "text": [
      ", "
     ]
    },
    {
     "name": "stdout",
     "output_type": "stream",
     "text": [
      "'Syria'"
     ]
    },
    {
     "name": "stdout",
     "output_type": "stream",
     "text": [
      "]"
     ]
    },
    {
     "name": "stdout",
     "output_type": "stream",
     "text": [
      ",\n",
      " "
     ]
    },
    {
     "name": "stdout",
     "output_type": "stream",
     "text": [
      "6"
     ]
    },
    {
     "name": "stdout",
     "output_type": "stream",
     "text": [
      ": "
     ]
    },
    {
     "name": "stdout",
     "output_type": "stream",
     "text": [
      "["
     ]
    },
    {
     "name": "stdout",
     "output_type": "stream",
     "text": [
      "'India'"
     ]
    },
    {
     "name": "stdout",
     "output_type": "stream",
     "text": [
      ", "
     ]
    },
    {
     "name": "stdout",
     "output_type": "stream",
     "text": [
      "'Nepal'"
     ]
    },
    {
     "name": "stdout",
     "output_type": "stream",
     "text": [
      ", "
     ]
    },
    {
     "name": "stdout",
     "output_type": "stream",
     "text": [
      "'South Africa'"
     ]
    },
    {
     "name": "stdout",
     "output_type": "stream",
     "text": [
      ", "
     ]
    },
    {
     "name": "stdout",
     "output_type": "stream",
     "text": [
      "'Cambodia'"
     ]
    },
    {
     "name": "stdout",
     "output_type": "stream",
     "text": [
      ", "
     ]
    },
    {
     "name": "stdout",
     "output_type": "stream",
     "text": [
      "'Afghanistan'"
     ]
    },
    {
     "name": "stdout",
     "output_type": "stream",
     "text": [
      ", "
     ]
    },
    {
     "name": "stdout",
     "output_type": "stream",
     "text": [
      "'Thailand'"
     ]
    },
    {
     "name": "stdout",
     "output_type": "stream",
     "text": [
      ",\n",
      "     "
     ]
    },
    {
     "name": "stdout",
     "output_type": "stream",
     "text": [
      "'Cyprus'"
     ]
    },
    {
     "name": "stdout",
     "output_type": "stream",
     "text": [
      ", "
     ]
    },
    {
     "name": "stdout",
     "output_type": "stream",
     "text": [
      "'Benin'"
     ]
    },
    {
     "name": "stdout",
     "output_type": "stream",
     "text": [
      ", "
     ]
    },
    {
     "name": "stdout",
     "output_type": "stream",
     "text": [
      "'Greece'"
     ]
    },
    {
     "name": "stdout",
     "output_type": "stream",
     "text": [
      ", "
     ]
    },
    {
     "name": "stdout",
     "output_type": "stream",
     "text": [
      "'Taiwan'"
     ]
    },
    {
     "name": "stdout",
     "output_type": "stream",
     "text": [
      ", "
     ]
    },
    {
     "name": "stdout",
     "output_type": "stream",
     "text": [
      "'Guinea-Bissau'"
     ]
    },
    {
     "name": "stdout",
     "output_type": "stream",
     "text": [
      ", "
     ]
    },
    {
     "name": "stdout",
     "output_type": "stream",
     "text": [
      "'Uzbekistan'"
     ]
    },
    {
     "name": "stdout",
     "output_type": "stream",
     "text": [
      ",\n",
      "     "
     ]
    },
    {
     "name": "stdout",
     "output_type": "stream",
     "text": [
      "'Tajikistan'"
     ]
    },
    {
     "name": "stdout",
     "output_type": "stream",
     "text": [
      ", "
     ]
    },
    {
     "name": "stdout",
     "output_type": "stream",
     "text": [
      "'Sri Lanka'"
     ]
    },
    {
     "name": "stdout",
     "output_type": "stream",
     "text": [
      ", "
     ]
    },
    {
     "name": "stdout",
     "output_type": "stream",
     "text": [
      "'Colombia'"
     ]
    },
    {
     "name": "stdout",
     "output_type": "stream",
     "text": [
      ", "
     ]
    },
    {
     "name": "stdout",
     "output_type": "stream",
     "text": [
      "'El Salvador'"
     ]
    },
    {
     "name": "stdout",
     "output_type": "stream",
     "text": [
      ", "
     ]
    },
    {
     "name": "stdout",
     "output_type": "stream",
     "text": [
      "'Rwanda'"
     ]
    },
    {
     "name": "stdout",
     "output_type": "stream",
     "text": [
      ", "
     ]
    },
    {
     "name": "stdout",
     "output_type": "stream",
     "text": [
      "'Niger'"
     ]
    },
    {
     "name": "stdout",
     "output_type": "stream",
     "text": [
      ",\n",
      "     "
     ]
    },
    {
     "name": "stdout",
     "output_type": "stream",
     "text": [
      "'Slovakia'"
     ]
    },
    {
     "name": "stdout",
     "output_type": "stream",
     "text": [
      ", "
     ]
    },
    {
     "name": "stdout",
     "output_type": "stream",
     "text": [
      "'Congo'"
     ]
    },
    {
     "name": "stdout",
     "output_type": "stream",
     "text": [
      ", "
     ]
    },
    {
     "name": "stdout",
     "output_type": "stream",
     "text": [
      "'Ecuador'"
     ]
    },
    {
     "name": "stdout",
     "output_type": "stream",
     "text": [
      ", "
     ]
    },
    {
     "name": "stdout",
     "output_type": "stream",
     "text": [
      "'Kosovo'"
     ]
    },
    {
     "name": "stdout",
     "output_type": "stream",
     "text": [
      ", "
     ]
    },
    {
     "name": "stdout",
     "output_type": "stream",
     "text": [
      "'Croatia'"
     ]
    },
    {
     "name": "stdout",
     "output_type": "stream",
     "text": [
      ", "
     ]
    },
    {
     "name": "stdout",
     "output_type": "stream",
     "text": [
      "'Andorra'"
     ]
    },
    {
     "name": "stdout",
     "output_type": "stream",
     "text": [
      ", "
     ]
    },
    {
     "name": "stdout",
     "output_type": "stream",
     "text": [
      "'Cuba'"
     ]
    },
    {
     "name": "stdout",
     "output_type": "stream",
     "text": [
      ",\n",
      "     "
     ]
    },
    {
     "name": "stdout",
     "output_type": "stream",
     "text": [
      "'Mozambique'"
     ]
    },
    {
     "name": "stdout",
     "output_type": "stream",
     "text": [
      ", "
     ]
    },
    {
     "name": "stdout",
     "output_type": "stream",
     "text": [
      "'Swaziland'"
     ]
    },
    {
     "name": "stdout",
     "output_type": "stream",
     "text": [
      ", "
     ]
    },
    {
     "name": "stdout",
     "output_type": "stream",
     "text": [
      "'Kenya'"
     ]
    },
    {
     "name": "stdout",
     "output_type": "stream",
     "text": [
      ", "
     ]
    },
    {
     "name": "stdout",
     "output_type": "stream",
     "text": [
      "'Maldives'"
     ]
    },
    {
     "name": "stdout",
     "output_type": "stream",
     "text": [
      ", "
     ]
    },
    {
     "name": "stdout",
     "output_type": "stream",
     "text": [
      "'Comoros'"
     ]
    },
    {
     "name": "stdout",
     "output_type": "stream",
     "text": [
      ", "
     ]
    },
    {
     "name": "stdout",
     "output_type": "stream",
     "text": [
      "'Gabon'"
     ]
    },
    {
     "name": "stdout",
     "output_type": "stream",
     "text": [
      ", "
     ]
    },
    {
     "name": "stdout",
     "output_type": "stream",
     "text": [
      "'Oman'"
     ]
    },
    {
     "name": "stdout",
     "output_type": "stream",
     "text": [
      ",\n",
      "     "
     ]
    },
    {
     "name": "stdout",
     "output_type": "stream",
     "text": [
      "'Qatar'"
     ]
    },
    {
     "name": "stdout",
     "output_type": "stream",
     "text": [
      ", "
     ]
    },
    {
     "name": "stdout",
     "output_type": "stream",
     "text": [
      "'Bermuda'"
     ]
    },
    {
     "name": "stdout",
     "output_type": "stream",
     "text": [
      ", "
     ]
    },
    {
     "name": "stdout",
     "output_type": "stream",
     "text": [
      "'Somalia'"
     ]
    },
    {
     "name": "stdout",
     "output_type": "stream",
     "text": [
      ", "
     ]
    },
    {
     "name": "stdout",
     "output_type": "stream",
     "text": [
      "'Cameroon'"
     ]
    },
    {
     "name": "stdout",
     "output_type": "stream",
     "text": [
      "]"
     ]
    },
    {
     "name": "stdout",
     "output_type": "stream",
     "text": [
      ",\n",
      " "
     ]
    },
    {
     "name": "stdout",
     "output_type": "stream",
     "text": [
      "7"
     ]
    },
    {
     "name": "stdout",
     "output_type": "stream",
     "text": [
      ": "
     ]
    },
    {
     "name": "stdout",
     "output_type": "stream",
     "text": [
      "["
     ]
    },
    {
     "name": "stdout",
     "output_type": "stream",
     "text": [
      "'Iraq'"
     ]
    },
    {
     "name": "stdout",
     "output_type": "stream",
     "text": [
      ", "
     ]
    },
    {
     "name": "stdout",
     "output_type": "stream",
     "text": [
      "'Barbados'"
     ]
    },
    {
     "name": "stdout",
     "output_type": "stream",
     "text": [
      ", "
     ]
    },
    {
     "name": "stdout",
     "output_type": "stream",
     "text": [
      "'Bulgaria'"
     ]
    },
    {
     "name": "stdout",
     "output_type": "stream",
     "text": [
      ", "
     ]
    },
    {
     "name": "stdout",
     "output_type": "stream",
     "text": [
      "'Luxembourg'"
     ]
    },
    {
     "name": "stdout",
     "output_type": "stream",
     "text": [
      ", "
     ]
    },
    {
     "name": "stdout",
     "output_type": "stream",
     "text": [
      "'Uganda'"
     ]
    },
    {
     "name": "stdout",
     "output_type": "stream",
     "text": [
      ", "
     ]
    },
    {
     "name": "stdout",
     "output_type": "stream",
     "text": [
      "'Mauritania'"
     ]
    },
    {
     "name": "stdout",
     "output_type": "stream",
     "text": [
      ",\n",
      "     "
     ]
    },
    {
     "name": "stdout",
     "output_type": "stream",
     "text": [
      "'Sudan'"
     ]
    },
    {
     "name": "stdout",
     "output_type": "stream",
     "text": [
      ", "
     ]
    },
    {
     "name": "stdout",
     "output_type": "stream",
     "text": [
      "'Argentina'"
     ]
    },
    {
     "name": "stdout",
     "output_type": "stream",
     "text": [
      ", "
     ]
    },
    {
     "name": "stdout",
     "output_type": "stream",
     "text": [
      "'Algeria'"
     ]
    },
    {
     "name": "stdout",
     "output_type": "stream",
     "text": [
      ", "
     ]
    },
    {
     "name": "stdout",
     "output_type": "stream",
     "text": [
      "'Djibouti'"
     ]
    },
    {
     "name": "stdout",
     "output_type": "stream",
     "text": [
      ", "
     ]
    },
    {
     "name": "stdout",
     "output_type": "stream",
     "text": [
      "'Jamaica'"
     ]
    },
    {
     "name": "stdout",
     "output_type": "stream",
     "text": [
      ", "
     ]
    },
    {
     "name": "stdout",
     "output_type": "stream",
     "text": [
      "'Uruguay'"
     ]
    },
    {
     "name": "stdout",
     "output_type": "stream",
     "text": [
      ",\n",
      "     "
     ]
    },
    {
     "name": "stdout",
     "output_type": "stream",
     "text": [
      "'Bosnia and Herzegovina'"
     ]
    },
    {
     "name": "stdout",
     "output_type": "stream",
     "text": [
      ", "
     ]
    },
    {
     "name": "stdout",
     "output_type": "stream",
     "text": [
      "'Serbia'"
     ]
    },
    {
     "name": "stdout",
     "output_type": "stream",
     "text": [
      ", "
     ]
    },
    {
     "name": "stdout",
     "output_type": "stream",
     "text": [
      "'Bolivia'"
     ]
    },
    {
     "name": "stdout",
     "output_type": "stream",
     "text": [
      ", "
     ]
    },
    {
     "name": "stdout",
     "output_type": "stream",
     "text": [
      "'Jordan'"
     ]
    },
    {
     "name": "stdout",
     "output_type": "stream",
     "text": [
      ", "
     ]
    },
    {
     "name": "stdout",
     "output_type": "stream",
     "text": [
      "'Ghana'"
     ]
    },
    {
     "name": "stdout",
     "output_type": "stream",
     "text": [
      ",\n",
      "     "
     ]
    },
    {
     "name": "stdout",
     "output_type": "stream",
     "text": [
      "'Pakistan'"
     ]
    },
    {
     "name": "stdout",
     "output_type": "stream",
     "text": [
      ", "
     ]
    },
    {
     "name": "stdout",
     "output_type": "stream",
     "text": [
      "'Slovenia'"
     ]
    },
    {
     "name": "stdout",
     "output_type": "stream",
     "text": [
      ", "
     ]
    },
    {
     "name": "stdout",
     "output_type": "stream",
     "text": [
      "'China'"
     ]
    },
    {
     "name": "stdout",
     "output_type": "stream",
     "text": [
      ", "
     ]
    },
    {
     "name": "stdout",
     "output_type": "stream",
     "text": [
      "'Sierra Leone'"
     ]
    },
    {
     "name": "stdout",
     "output_type": "stream",
     "text": [
      ", "
     ]
    },
    {
     "name": "stdout",
     "output_type": "stream",
     "text": [
      "'Nicaragua'"
     ]
    },
    {
     "name": "stdout",
     "output_type": "stream",
     "text": [
      ", "
     ]
    },
    {
     "name": "stdout",
     "output_type": "stream",
     "text": [
      "'Panama'"
     ]
    },
    {
     "name": "stdout",
     "output_type": "stream",
     "text": [
      ",\n",
      "     "
     ]
    },
    {
     "name": "stdout",
     "output_type": "stream",
     "text": [
      "'Haiti'"
     ]
    },
    {
     "name": "stdout",
     "output_type": "stream",
     "text": [
      ", "
     ]
    },
    {
     "name": "stdout",
     "output_type": "stream",
     "text": [
      "'Burkina Faso'"
     ]
    },
    {
     "name": "stdout",
     "output_type": "stream",
     "text": [
      ", "
     ]
    },
    {
     "name": "stdout",
     "output_type": "stream",
     "text": [
      "'Albania'"
     ]
    },
    {
     "name": "stdout",
     "output_type": "stream",
     "text": [
      ", "
     ]
    },
    {
     "name": "stdout",
     "output_type": "stream",
     "text": [
      "'Armenia'"
     ]
    },
    {
     "name": "stdout",
     "output_type": "stream",
     "text": [
      ", "
     ]
    },
    {
     "name": "stdout",
     "output_type": "stream",
     "text": [
      "'Finland'"
     ]
    },
    {
     "name": "stdout",
     "output_type": "stream",
     "text": [
      ", "
     ]
    },
    {
     "name": "stdout",
     "output_type": "stream",
     "text": [
      "'Latvia'"
     ]
    },
    {
     "name": "stdout",
     "output_type": "stream",
     "text": [
      ",\n",
      "     "
     ]
    },
    {
     "name": "stdout",
     "output_type": "stream",
     "text": [
      "'Canada'"
     ]
    },
    {
     "name": "stdout",
     "output_type": "stream",
     "text": [
      ", "
     ]
    },
    {
     "name": "stdout",
     "output_type": "stream",
     "text": [
      "'Azerbaijan'"
     ]
    },
    {
     "name": "stdout",
     "output_type": "stream",
     "text": [
      ", "
     ]
    },
    {
     "name": "stdout",
     "output_type": "stream",
     "text": [
      "'Germany'"
     ]
    },
    {
     "name": "stdout",
     "output_type": "stream",
     "text": [
      ", "
     ]
    },
    {
     "name": "stdout",
     "output_type": "stream",
     "text": [
      "'Tunisia'"
     ]
    },
    {
     "name": "stdout",
     "output_type": "stream",
     "text": [
      ", "
     ]
    },
    {
     "name": "stdout",
     "output_type": "stream",
     "text": [
      "'Togo'"
     ]
    },
    {
     "name": "stdout",
     "output_type": "stream",
     "text": [
      ", "
     ]
    },
    {
     "name": "stdout",
     "output_type": "stream",
     "text": [
      "'Burundi'"
     ]
    },
    {
     "name": "stdout",
     "output_type": "stream",
     "text": [
      ",\n",
      "     "
     ]
    },
    {
     "name": "stdout",
     "output_type": "stream",
     "text": [
      "'Bhutan'"
     ]
    },
    {
     "name": "stdout",
     "output_type": "stream",
     "text": [
      "]"
     ]
    },
    {
     "name": "stdout",
     "output_type": "stream",
     "text": [
      ",\n",
      " "
     ]
    },
    {
     "name": "stdout",
     "output_type": "stream",
     "text": [
      "8"
     ]
    },
    {
     "name": "stdout",
     "output_type": "stream",
     "text": [
      ": "
     ]
    },
    {
     "name": "stdout",
     "output_type": "stream",
     "text": [
      "["
     ]
    },
    {
     "name": "stdout",
     "output_type": "stream",
     "text": [
      "'Denmark'"
     ]
    },
    {
     "name": "stdout",
     "output_type": "stream",
     "text": [
      ", "
     ]
    },
    {
     "name": "stdout",
     "output_type": "stream",
     "text": [
      "'Malaysia'"
     ]
    },
    {
     "name": "stdout",
     "output_type": "stream",
     "text": [
      ", "
     ]
    },
    {
     "name": "stdout",
     "output_type": "stream",
     "text": [
      "'Hungary'"
     ]
    },
    {
     "name": "stdout",
     "output_type": "stream",
     "text": [
      ", "
     ]
    },
    {
     "name": "stdout",
     "output_type": "stream",
     "text": [
      "'Singapore'"
     ]
    },
    {
     "name": "stdout",
     "output_type": "stream",
     "text": [
      ", "
     ]
    },
    {
     "name": "stdout",
     "output_type": "stream",
     "text": [
      "'Macedonia'"
     ]
    },
    {
     "name": "stdout",
     "output_type": "stream",
     "text": [
      ", "
     ]
    },
    {
     "name": "stdout",
     "output_type": "stream",
     "text": [
      "'Saudi Arabia'"
     ]
    },
    {
     "name": "stdout",
     "output_type": "stream",
     "text": [
      ",\n",
      "     "
     ]
    },
    {
     "name": "stdout",
     "output_type": "stream",
     "text": [
      "'Liberia'"
     ]
    },
    {
     "name": "stdout",
     "output_type": "stream",
     "text": [
      ", "
     ]
    },
    {
     "name": "stdout",
     "output_type": "stream",
     "text": [
      "'Belgium'"
     ]
    },
    {
     "name": "stdout",
     "output_type": "stream",
     "text": [
      ", "
     ]
    },
    {
     "name": "stdout",
     "output_type": "stream",
     "text": [
      "'Estonia'"
     ]
    },
    {
     "name": "stdout",
     "output_type": "stream",
     "text": [
      ", "
     ]
    },
    {
     "name": "stdout",
     "output_type": "stream",
     "text": [
      "'Belarus'"
     ]
    },
    {
     "name": "stdout",
     "output_type": "stream",
     "text": [
      ", "
     ]
    },
    {
     "name": "stdout",
     "output_type": "stream",
     "text": [
      "'Peru'"
     ]
    },
    {
     "name": "stdout",
     "output_type": "stream",
     "text": [
      ", "
     ]
    },
    {
     "name": "stdout",
     "output_type": "stream",
     "text": [
      "'Nigeria'"
     ]
    },
    {
     "name": "stdout",
     "output_type": "stream",
     "text": [
      ",\n",
      "     "
     ]
    },
    {
     "name": "stdout",
     "output_type": "stream",
     "text": [
      "'Czech Republic'"
     ]
    },
    {
     "name": "stdout",
     "output_type": "stream",
     "text": [
      ", "
     ]
    },
    {
     "name": "stdout",
     "output_type": "stream",
     "text": [
      "'Mali'"
     ]
    },
    {
     "name": "stdout",
     "output_type": "stream",
     "text": [
      ", "
     ]
    },
    {
     "name": "stdout",
     "output_type": "stream",
     "text": [
      "'Egypt'"
     ]
    },
    {
     "name": "stdout",
     "output_type": "stream",
     "text": [
      ", "
     ]
    },
    {
     "name": "stdout",
     "output_type": "stream",
     "text": [
      "'Bangladesh'"
     ]
    },
    {
     "name": "stdout",
     "output_type": "stream",
     "text": [
      ", "
     ]
    },
    {
     "name": "stdout",
     "output_type": "stream",
     "text": [
      "'Dominican Republic'"
     ]
    },
    {
     "name": "stdout",
     "output_type": "stream",
     "text": [
      ",\n",
      "     "
     ]
    },
    {
     "name": "stdout",
     "output_type": "stream",
     "text": [
      "'Switzerland'"
     ]
    },
    {
     "name": "stdout",
     "output_type": "stream",
     "text": [
      ", "
     ]
    },
    {
     "name": "stdout",
     "output_type": "stream",
     "text": [
      "'Cape Verde'"
     ]
    },
    {
     "name": "stdout",
     "output_type": "stream",
     "text": [
      ", "
     ]
    },
    {
     "name": "stdout",
     "output_type": "stream",
     "text": [
      "'Ukraine'"
     ]
    },
    {
     "name": "stdout",
     "output_type": "stream",
     "text": [
      ", "
     ]
    },
    {
     "name": "stdout",
     "output_type": "stream",
     "text": [
      "'Monaco'"
     ]
    },
    {
     "name": "stdout",
     "output_type": "stream",
     "text": [
      ", "
     ]
    },
    {
     "name": "stdout",
     "output_type": "stream",
     "text": [
      "'Romania'"
     ]
    },
    {
     "name": "stdout",
     "output_type": "stream",
     "text": [
      ", "
     ]
    },
    {
     "name": "stdout",
     "output_type": "stream",
     "text": [
      "'Lithuania'"
     ]
    },
    {
     "name": "stdout",
     "output_type": "stream",
     "text": [
      ",\n",
      "     "
     ]
    },
    {
     "name": "stdout",
     "output_type": "stream",
     "text": [
      "'Brazil'"
     ]
    },
    {
     "name": "stdout",
     "output_type": "stream",
     "text": [
      ", "
     ]
    },
    {
     "name": "stdout",
     "output_type": "stream",
     "text": [
      "'Honduras'"
     ]
    },
    {
     "name": "stdout",
     "output_type": "stream",
     "text": [
      ", "
     ]
    },
    {
     "name": "stdout",
     "output_type": "stream",
     "text": [
      "'Indonesia'"
     ]
    },
    {
     "name": "stdout",
     "output_type": "stream",
     "text": [
      ", "
     ]
    },
    {
     "name": "stdout",
     "output_type": "stream",
     "text": [
      "'Chile'"
     ]
    },
    {
     "name": "stdout",
     "output_type": "stream",
     "text": [
      ", "
     ]
    },
    {
     "name": "stdout",
     "output_type": "stream",
     "text": [
      "'Austria'"
     ]
    },
    {
     "name": "stdout",
     "output_type": "stream",
     "text": [
      "]"
     ]
    },
    {
     "name": "stdout",
     "output_type": "stream",
     "text": [
      ",\n",
      " "
     ]
    },
    {
     "name": "stdout",
     "output_type": "stream",
     "text": [
      "9"
     ]
    },
    {
     "name": "stdout",
     "output_type": "stream",
     "text": [
      ": "
     ]
    },
    {
     "name": "stdout",
     "output_type": "stream",
     "text": [
      "["
     ]
    },
    {
     "name": "stdout",
     "output_type": "stream",
     "text": [
      "'Turkey'"
     ]
    },
    {
     "name": "stdout",
     "output_type": "stream",
     "text": [
      ", "
     ]
    },
    {
     "name": "stdout",
     "output_type": "stream",
     "text": [
      "'Myanmar'"
     ]
    },
    {
     "name": "stdout",
     "output_type": "stream",
     "text": [
      ", "
     ]
    },
    {
     "name": "stdout",
     "output_type": "stream",
     "text": [
      "'Georgia'"
     ]
    },
    {
     "name": "stdout",
     "output_type": "stream",
     "text": [
      ", "
     ]
    },
    {
     "name": "stdout",
     "output_type": "stream",
     "text": [
      "'Mexico'"
     ]
    },
    {
     "name": "stdout",
     "output_type": "stream",
     "text": [
      ", "
     ]
    },
    {
     "name": "stdout",
     "output_type": "stream",
     "text": [
      "'Russia'"
     ]
    },
    {
     "name": "stdout",
     "output_type": "stream",
     "text": [
      ", "
     ]
    },
    {
     "name": "stdout",
     "output_type": "stream",
     "text": [
      "'Moldova'"
     ]
    },
    {
     "name": "stdout",
     "output_type": "stream",
     "text": [
      ", "
     ]
    },
    {
     "name": "stdout",
     "output_type": "stream",
     "text": [
      "'Kuwait'"
     ]
    },
    {
     "name": "stdout",
     "output_type": "stream",
     "text": [
      ",\n",
      "     "
     ]
    },
    {
     "name": "stdout",
     "output_type": "stream",
     "text": [
      "'United States'"
     ]
    },
    {
     "name": "stdout",
     "output_type": "stream",
     "text": [
      ", "
     ]
    },
    {
     "name": "stdout",
     "output_type": "stream",
     "text": [
      "'France'"
     ]
    },
    {
     "name": "stdout",
     "output_type": "stream",
     "text": [
      ", "
     ]
    },
    {
     "name": "stdout",
     "output_type": "stream",
     "text": [
      "'Portugal'"
     ]
    },
    {
     "name": "stdout",
     "output_type": "stream",
     "text": [
      ", "
     ]
    },
    {
     "name": "stdout",
     "output_type": "stream",
     "text": [
      "'Italy'"
     ]
    },
    {
     "name": "stdout",
     "output_type": "stream",
     "text": [
      "]"
     ]
    },
    {
     "name": "stdout",
     "output_type": "stream",
     "text": [
      ",\n",
      " "
     ]
    },
    {
     "name": "stdout",
     "output_type": "stream",
     "text": [
      "10"
     ]
    },
    {
     "name": "stdout",
     "output_type": "stream",
     "text": [
      ": "
     ]
    },
    {
     "name": "stdout",
     "output_type": "stream",
     "text": [
      "["
     ]
    },
    {
     "name": "stdout",
     "output_type": "stream",
     "text": [
      "'Korea, South'"
     ]
    },
    {
     "name": "stdout",
     "output_type": "stream",
     "text": [
      ", "
     ]
    },
    {
     "name": "stdout",
     "output_type": "stream",
     "text": [
      "'Guinea'"
     ]
    },
    {
     "name": "stdout",
     "output_type": "stream",
     "text": [
      ", "
     ]
    },
    {
     "name": "stdout",
     "output_type": "stream",
     "text": [
      "'United Arab Emirates'"
     ]
    },
    {
     "name": "stdout",
     "output_type": "stream",
     "text": [
      ", "
     ]
    },
    {
     "name": "stdout",
     "output_type": "stream",
     "text": [
      "'Iran'"
     ]
    },
    {
     "name": "stdout",
     "output_type": "stream",
     "text": [
      ", "
     ]
    },
    {
     "name": "stdout",
     "output_type": "stream",
     "text": [
      "'Senegal'"
     ]
    },
    {
     "name": "stdout",
     "output_type": "stream",
     "text": [
      ",\n",
      "      "
     ]
    },
    {
     "name": "stdout",
     "output_type": "stream",
     "text": [
      "'Bahrain'"
     ]
    },
    {
     "name": "stdout",
     "output_type": "stream",
     "text": [
      "]"
     ]
    },
    {
     "name": "stdout",
     "output_type": "stream",
     "text": [
      ",\n",
      " "
     ]
    },
    {
     "name": "stdout",
     "output_type": "stream",
     "text": [
      "11"
     ]
    },
    {
     "name": "stdout",
     "output_type": "stream",
     "text": [
      ": "
     ]
    },
    {
     "name": "stdout",
     "output_type": "stream",
     "text": [
      "['Poland']"
     ]
    },
    {
     "name": "stdout",
     "output_type": "stream",
     "text": [
      "}"
     ]
    },
    {
     "name": "stdout",
     "output_type": "stream",
     "text": [
      "\n"
     ]
    }
   ],
   "source": [
    "# Show the number of phases of all countries\n",
    "analyser.trend()\n",
    "pprint(analyser.phase_len(), compact=True)"
   ]
  },
  {
   "cell_type": "code",
   "execution_count": 8,
   "metadata": {
    "collapsed": false
   },
   "outputs": [
    {
     "data": {
      "text/plain": [
       "18"
      ]
     },
     "execution_count": 8,
     "metadata": {},
     "output_type": "execute_result"
    }
   ],
   "source": [
    "# Set phases with S-R trend analysis\n",
    "analyser.trend(min_len=9)\n",
    "# The number of countries\n",
    "len(analyser.countries)"
   ]
  },
  {
   "cell_type": "code",
   "execution_count": 9,
   "metadata": {
    "collapsed": false,
    "tags": []
   },
   "outputs": [
    {
     "name": "stdout",
     "output_type": "stream",
     "text": [
      "{"
     ]
    },
    {
     "name": "stdout",
     "output_type": "stream",
     "text": [
      "9"
     ]
    },
    {
     "name": "stdout",
     "output_type": "stream",
     "text": [
      ": "
     ]
    },
    {
     "name": "stdout",
     "output_type": "stream",
     "text": [
      "["
     ]
    },
    {
     "name": "stdout",
     "output_type": "stream",
     "text": [
      "'Turkey'"
     ]
    },
    {
     "name": "stdout",
     "output_type": "stream",
     "text": [
      ", "
     ]
    },
    {
     "name": "stdout",
     "output_type": "stream",
     "text": [
      "'Myanmar'"
     ]
    },
    {
     "name": "stdout",
     "output_type": "stream",
     "text": [
      ", "
     ]
    },
    {
     "name": "stdout",
     "output_type": "stream",
     "text": [
      "'Georgia'"
     ]
    },
    {
     "name": "stdout",
     "output_type": "stream",
     "text": [
      ", "
     ]
    },
    {
     "name": "stdout",
     "output_type": "stream",
     "text": [
      "'Mexico'"
     ]
    },
    {
     "name": "stdout",
     "output_type": "stream",
     "text": [
      ", "
     ]
    },
    {
     "name": "stdout",
     "output_type": "stream",
     "text": [
      "'Russia'"
     ]
    },
    {
     "name": "stdout",
     "output_type": "stream",
     "text": [
      ", "
     ]
    },
    {
     "name": "stdout",
     "output_type": "stream",
     "text": [
      "'Moldova'"
     ]
    },
    {
     "name": "stdout",
     "output_type": "stream",
     "text": [
      ", "
     ]
    },
    {
     "name": "stdout",
     "output_type": "stream",
     "text": [
      "'Kuwait'"
     ]
    },
    {
     "name": "stdout",
     "output_type": "stream",
     "text": [
      ",\n",
      "     "
     ]
    },
    {
     "name": "stdout",
     "output_type": "stream",
     "text": [
      "'United States'"
     ]
    },
    {
     "name": "stdout",
     "output_type": "stream",
     "text": [
      ", "
     ]
    },
    {
     "name": "stdout",
     "output_type": "stream",
     "text": [
      "'France'"
     ]
    },
    {
     "name": "stdout",
     "output_type": "stream",
     "text": [
      ", "
     ]
    },
    {
     "name": "stdout",
     "output_type": "stream",
     "text": [
      "'Portugal'"
     ]
    },
    {
     "name": "stdout",
     "output_type": "stream",
     "text": [
      ", "
     ]
    },
    {
     "name": "stdout",
     "output_type": "stream",
     "text": [
      "'Italy'"
     ]
    },
    {
     "name": "stdout",
     "output_type": "stream",
     "text": [
      "]"
     ]
    },
    {
     "name": "stdout",
     "output_type": "stream",
     "text": [
      ",\n",
      " "
     ]
    },
    {
     "name": "stdout",
     "output_type": "stream",
     "text": [
      "10"
     ]
    },
    {
     "name": "stdout",
     "output_type": "stream",
     "text": [
      ": "
     ]
    },
    {
     "name": "stdout",
     "output_type": "stream",
     "text": [
      "["
     ]
    },
    {
     "name": "stdout",
     "output_type": "stream",
     "text": [
      "'Korea, South'"
     ]
    },
    {
     "name": "stdout",
     "output_type": "stream",
     "text": [
      ", "
     ]
    },
    {
     "name": "stdout",
     "output_type": "stream",
     "text": [
      "'Guinea'"
     ]
    },
    {
     "name": "stdout",
     "output_type": "stream",
     "text": [
      ", "
     ]
    },
    {
     "name": "stdout",
     "output_type": "stream",
     "text": [
      "'United Arab Emirates'"
     ]
    },
    {
     "name": "stdout",
     "output_type": "stream",
     "text": [
      ", "
     ]
    },
    {
     "name": "stdout",
     "output_type": "stream",
     "text": [
      "'Iran'"
     ]
    },
    {
     "name": "stdout",
     "output_type": "stream",
     "text": [
      ", "
     ]
    },
    {
     "name": "stdout",
     "output_type": "stream",
     "text": [
      "'Senegal'"
     ]
    },
    {
     "name": "stdout",
     "output_type": "stream",
     "text": [
      ",\n",
      "      "
     ]
    },
    {
     "name": "stdout",
     "output_type": "stream",
     "text": [
      "'Bahrain'"
     ]
    },
    {
     "name": "stdout",
     "output_type": "stream",
     "text": [
      "]"
     ]
    },
    {
     "name": "stdout",
     "output_type": "stream",
     "text": [
      ",\n",
      " "
     ]
    },
    {
     "name": "stdout",
     "output_type": "stream",
     "text": [
      "11"
     ]
    },
    {
     "name": "stdout",
     "output_type": "stream",
     "text": [
      ": "
     ]
    },
    {
     "name": "stdout",
     "output_type": "stream",
     "text": [
      "['Poland']"
     ]
    },
    {
     "name": "stdout",
     "output_type": "stream",
     "text": [
      "}"
     ]
    },
    {
     "name": "stdout",
     "output_type": "stream",
     "text": [
      "\n"
     ]
    }
   ],
   "source": [
    "phase_len_dict = analyser.phase_len()\n",
    "pprint(phase_len_dict, compact=True)"
   ]
  },
  {
   "cell_type": "code",
   "execution_count": 10,
   "metadata": {
    "collapsed": false,
    "tags": []
   },
   "outputs": [
    {
     "data": {
      "text/html": [
       "<div>\n",
       "<style scoped>\n",
       "    .dataframe tbody tr th:only-of-type {\n",
       "        vertical-align: middle;\n",
       "    }\n",
       "\n",
       "    .dataframe tbody tr th {\n",
       "        vertical-align: top;\n",
       "    }\n",
       "\n",
       "    .dataframe thead th {\n",
       "        text-align: right;\n",
       "    }\n",
       "</style>\n",
       "<table border=\"1\" class=\"dataframe\">\n",
       "  <thead>\n",
       "    <tr style=\"text-align: right;\">\n",
       "      <th></th>\n",
       "      <th></th>\n",
       "      <th>Type</th>\n",
       "      <th>Start</th>\n",
       "      <th>End</th>\n",
       "      <th>Population</th>\n",
       "    </tr>\n",
       "    <tr>\n",
       "      <th>Country</th>\n",
       "      <th>Phase</th>\n",
       "      <th></th>\n",
       "      <th></th>\n",
       "      <th></th>\n",
       "      <th></th>\n",
       "    </tr>\n",
       "  </thead>\n",
       "  <tbody>\n",
       "    <tr>\n",
       "      <th rowspan=\"11\" valign=\"top\">Poland</th>\n",
       "      <th>1st</th>\n",
       "      <td>Past</td>\n",
       "      <td>24Apr2020</td>\n",
       "      <td>09May2020</td>\n",
       "      <td>37974750</td>\n",
       "    </tr>\n",
       "    <tr>\n",
       "      <th>2nd</th>\n",
       "      <td>Past</td>\n",
       "      <td>10May2020</td>\n",
       "      <td>21May2020</td>\n",
       "      <td>37974750</td>\n",
       "    </tr>\n",
       "    <tr>\n",
       "      <th>3rd</th>\n",
       "      <td>Past</td>\n",
       "      <td>22May2020</td>\n",
       "      <td>05Jun2020</td>\n",
       "      <td>37974750</td>\n",
       "    </tr>\n",
       "    <tr>\n",
       "      <th>4th</th>\n",
       "      <td>Past</td>\n",
       "      <td>06Jun2020</td>\n",
       "      <td>15Jun2020</td>\n",
       "      <td>37974750</td>\n",
       "    </tr>\n",
       "    <tr>\n",
       "      <th>5th</th>\n",
       "      <td>Past</td>\n",
       "      <td>16Jun2020</td>\n",
       "      <td>30Jun2020</td>\n",
       "      <td>37974750</td>\n",
       "    </tr>\n",
       "    <tr>\n",
       "      <th>6th</th>\n",
       "      <td>Past</td>\n",
       "      <td>01Jul2020</td>\n",
       "      <td>12Jul2020</td>\n",
       "      <td>37974750</td>\n",
       "    </tr>\n",
       "    <tr>\n",
       "      <th>7th</th>\n",
       "      <td>Past</td>\n",
       "      <td>13Jul2020</td>\n",
       "      <td>24Jul2020</td>\n",
       "      <td>37974750</td>\n",
       "    </tr>\n",
       "    <tr>\n",
       "      <th>8th</th>\n",
       "      <td>Past</td>\n",
       "      <td>25Jul2020</td>\n",
       "      <td>03Aug2020</td>\n",
       "      <td>37974750</td>\n",
       "    </tr>\n",
       "    <tr>\n",
       "      <th>9th</th>\n",
       "      <td>Past</td>\n",
       "      <td>04Aug2020</td>\n",
       "      <td>11Aug2020</td>\n",
       "      <td>37974750</td>\n",
       "    </tr>\n",
       "    <tr>\n",
       "      <th>10th</th>\n",
       "      <td>Past</td>\n",
       "      <td>12Aug2020</td>\n",
       "      <td>19Aug2020</td>\n",
       "      <td>37974750</td>\n",
       "    </tr>\n",
       "    <tr>\n",
       "      <th>11th</th>\n",
       "      <td>Past</td>\n",
       "      <td>20Aug2020</td>\n",
       "      <td>28Aug2020</td>\n",
       "      <td>37974750</td>\n",
       "    </tr>\n",
       "  </tbody>\n",
       "</table>\n",
       "</div>"
      ],
      "text/plain": [
       "               Type      Start        End  Population\n",
       "Country Phase                                        \n",
       "Poland  1st    Past  24Apr2020  09May2020    37974750\n",
       "        2nd    Past  10May2020  21May2020    37974750\n",
       "        3rd    Past  22May2020  05Jun2020    37974750\n",
       "        4th    Past  06Jun2020  15Jun2020    37974750\n",
       "        5th    Past  16Jun2020  30Jun2020    37974750\n",
       "        6th    Past  01Jul2020  12Jul2020    37974750\n",
       "        7th    Past  13Jul2020  24Jul2020    37974750\n",
       "        8th    Past  25Jul2020  03Aug2020    37974750\n",
       "        9th    Past  04Aug2020  11Aug2020    37974750\n",
       "        10th   Past  12Aug2020  19Aug2020    37974750\n",
       "        11th   Past  20Aug2020  28Aug2020    37974750"
      ]
     },
     "execution_count": 10,
     "metadata": {},
     "output_type": "execute_result"
    }
   ],
   "source": [
    "# Here, only show the countries which have the most phases\n",
    "countries_show = max(phase_len_dict.items(), key=lambda x: x[0])[1]\n",
    "# Show summary\n",
    "analyser.summary(countries=countries_show)"
   ]
  },
  {
   "cell_type": "markdown",
   "metadata": {},
   "source": [
    "## Parameter estimation\n",
    "we will estimate the parameter values with SIR-derived ODE models in each country."
   ]
  },
  {
   "cell_type": "code",
   "execution_count": 11,
   "metadata": {
    "collapsed": false,
    "tags": []
   },
   "outputs": [
    {
     "name": "stdout",
     "output_type": "stream",
     "text": [
      "\n",
      "<SIR-F model: parameter estimation>"
     ]
    },
    {
     "name": "stdout",
     "output_type": "stream",
     "text": [
      "\n"
     ]
    },
    {
     "name": "stdout",
     "output_type": "stream",
     "text": [
      "Running optimization with 4 CPUs..."
     ]
    },
    {
     "name": "stdout",
     "output_type": "stream",
     "text": [
      "\n"
     ]
    },
    {
     "name": "stdout",
     "output_type": "stream",
     "text": [
      "\tMDA,  8th phase (10Aug2020 - 18Aug2020): finished  915 trials in 0 min 25 sec"
     ]
    },
    {
     "name": "stdout",
     "output_type": "stream",
     "text": [
      "\n"
     ]
    },
    {
     "name": "stdout",
     "output_type": "stream",
     "text": [
      "\tTUR,  4th phase (29May2020 - 12Jun2020): finished  263 trials in 0 min 10 sec"
     ]
    },
    {
     "name": "stdout",
     "output_type": "stream",
     "text": [
      "\n"
     ]
    },
    {
     "name": "stdout",
     "output_type": "stream",
     "text": [
      "\tGEO,  3rd phase (14May2020 - 29May2020): finished 1607 trials in 1 min  0 sec"
     ]
    },
    {
     "name": "stdout",
     "output_type": "stream",
     "text": [
      "\n"
     ]
    },
    {
     "name": "stdout",
     "output_type": "stream",
     "text": [
      "\tMMR,  2nd phase (17May2020 - 25May2020): finished 1584 trials in 1 min  0 sec"
     ]
    },
    {
     "name": "stdout",
     "output_type": "stream",
     "text": [
      "\n"
     ]
    },
    {
     "name": "stdout",
     "output_type": "stream",
     "text": [
      "\tTUR,  1st phase (18Apr2020 - 29Apr2020): finished 1610 trials in 1 min  0 sec"
     ]
    },
    {
     "name": "stdout",
     "output_type": "stream",
     "text": [
      "\n"
     ]
    },
    {
     "name": "stdout",
     "output_type": "stream",
     "text": [
      "\tARE,  3rd phase (26May2020 - 03Jun2020): finished 1016 trials in 0 min 35 sec"
     ]
    },
    {
     "name": "stdout",
     "output_type": "stream",
     "text": [
      "\n"
     ]
    },
    {
     "name": "stdout",
     "output_type": "stream",
     "text": [
      "\tTUR,  9th phase (13Aug2020 - 28Aug2020): finished  501 trials in 0 min 15 sec"
     ]
    },
    {
     "name": "stdout",
     "output_type": "stream",
     "text": [
      "\n"
     ]
    },
    {
     "name": "stdout",
     "output_type": "stream",
     "text": [
      "\tIRN, 10th phase (12Aug2020 - 28Aug2020): finished  535 trials in 0 min 15 sec"
     ]
    },
    {
     "name": "stdout",
     "output_type": "stream",
     "text": [
      "\n"
     ]
    },
    {
     "name": "stdout",
     "output_type": "stream",
     "text": [
      "\tGIN,  8th phase (24Jul2020 - 05Aug2020): finished  403 trials in 0 min 10 sec"
     ]
    },
    {
     "name": "stdout",
     "output_type": "stream",
     "text": [
      "\n"
     ]
    },
    {
     "name": "stdout",
     "output_type": "stream",
     "text": [
      "\tPOL,  6th phase (01Jul2020 - 12Jul2020): finished  207 trials in 0 min  5 sec"
     ]
    },
    {
     "name": "stdout",
     "output_type": "stream",
     "text": [
      "\n"
     ]
    },
    {
     "name": "stdout",
     "output_type": "stream",
     "text": [
      "\tPOL,  4th phase (06Jun2020 - 15Jun2020): finished 1097 trials in 0 min 35 sec"
     ]
    },
    {
     "name": "stdout",
     "output_type": "stream",
     "text": [
      "\n"
     ]
    },
    {
     "name": "stdout",
     "output_type": "stream",
     "text": [
      "\tGIN,  9th phase (06Aug2020 - 15Aug2020): finished  207 trials in 0 min  5 sec"
     ]
    },
    {
     "name": "stdout",
     "output_type": "stream",
     "text": [
      "\n"
     ]
    },
    {
     "name": "stdout",
     "output_type": "stream",
     "text": [
      "\tPRT,  8th phase (24Jul2020 - 09Aug2020): finished  534 trials in 0 min 15 sec"
     ]
    },
    {
     "name": "stdout",
     "output_type": "stream",
     "text": [
      "\n"
     ]
    },
    {
     "name": "stdout",
     "output_type": "stream",
     "text": [
      "\tMEX,  3rd phase (20Jun2020 - 30Jun2020): finished 1699 trials in 1 min  0 sec"
     ]
    },
    {
     "name": "stdout",
     "output_type": "stream",
     "text": [
      "\n"
     ]
    },
    {
     "name": "stdout",
     "output_type": "stream",
     "text": [
      "\tFRA,  9th phase (09Aug2020 - 28Aug2020): finished  864 trials in 0 min 25 sec"
     ]
    },
    {
     "name": "stdout",
     "output_type": "stream",
     "text": [
      "\n"
     ]
    },
    {
     "name": "stdout",
     "output_type": "stream",
     "text": [
      "\tMEX,  7th phase (29Jul2020 - 05Aug2020): finished 1657 trials in 1 min  0 sec"
     ]
    },
    {
     "name": "stdout",
     "output_type": "stream",
     "text": [
      "\n"
     ]
    },
    {
     "name": "stdout",
     "output_type": "stream",
     "text": [
      "\tGIN,  2nd phase (12May2020 - 22May2020): finished 1627 trials in 1 min  0 sec"
     ]
    },
    {
     "name": "stdout",
     "output_type": "stream",
     "text": [
      "\n"
     ]
    },
    {
     "name": "stdout",
     "output_type": "stream",
     "text": [
      "\tPRT,  2nd phase (18May2020 - 30May2020): finished 1424 trials in 1 min  0 sec"
     ]
    },
    {
     "name": "stdout",
     "output_type": "stream",
     "text": [
      "\n"
     ]
    },
    {
     "name": "stdout",
     "output_type": "stream",
     "text": [
      "\tGEO,  2nd phase (25Apr2020 - 13May2020): finished 1444 trials in 1 min  0 sec"
     ]
    },
    {
     "name": "stdout",
     "output_type": "stream",
     "text": [
      "\n"
     ]
    },
    {
     "name": "stdout",
     "output_type": "stream",
     "text": [
      "\tMEX,  1st phase (21May2020 - 07Jun2020): finished  165 trials in 0 min  5 sec"
     ]
    },
    {
     "name": "stdout",
     "output_type": "stream",
     "text": [
      "\n"
     ]
    },
    {
     "name": "stdout",
     "output_type": "stream",
     "text": [
      "\tBHR,  6th phase (07Jul2020 - 15Jul2020): finished 1456 trials in 1 min  0 sec"
     ]
    },
    {
     "name": "stdout",
     "output_type": "stream",
     "text": [
      "\n"
     ]
    },
    {
     "name": "stdout",
     "output_type": "stream",
     "text": [
      "\tIRN,  9th phase (29Jul2020 - 11Aug2020): finished  208 trials in 0 min  5 sec"
     ]
    },
    {
     "name": "stdout",
     "output_type": "stream",
     "text": [
      "\n"
     ]
    },
    {
     "name": "stdout",
     "output_type": "stream",
     "text": [
      "\tSEN,  1st phase (02May2020 - 14May2020): finished 1567 trials in 1 min  0 sec"
     ]
    },
    {
     "name": "stdout",
     "output_type": "stream",
     "text": [
      "\n"
     ]
    },
    {
     "name": "stdout",
     "output_type": "stream",
     "text": [
      "\tPRT,  1st phase (04May2020 - 17May2020): finished 1671 trials in 1 min  0 sec"
     ]
    },
    {
     "name": "stdout",
     "output_type": "stream",
     "text": [
      "\n"
     ]
    },
    {
     "name": "stdout",
     "output_type": "stream",
     "text": [
      "\tRUS,  8th phase (03Aug2020 - 13Aug2020): finished 1719 trials in 1 min  0 sec"
     ]
    },
    {
     "name": "stdout",
     "output_type": "stream",
     "text": [
      "\n"
     ]
    },
    {
     "name": "stdout",
     "output_type": "stream",
     "text": [
      "\tSEN,  2nd phase (15May2020 - 28May2020): finished 1129 trials in 0 min 35 sec"
     ]
    },
    {
     "name": "stdout",
     "output_type": "stream",
     "text": [
      "\n"
     ]
    },
    {
     "name": "stdout",
     "output_type": "stream",
     "text": [
      "\tMMR,  8th phase (28Jul2020 - 15Aug2020): finished  376 trials in 0 min 10 sec"
     ]
    },
    {
     "name": "stdout",
     "output_type": "stream",
     "text": [
      "\n"
     ]
    },
    {
     "name": "stdout",
     "output_type": "stream",
     "text": [
      "\tKOR,  4th phase (08May2020 - 23May2020): finished  209 trials in 0 min  5 sec"
     ]
    },
    {
     "name": "stdout",
     "output_type": "stream",
     "text": [
      "\n"
     ]
    },
    {
     "name": "stdout",
     "output_type": "stream",
     "text": [
      "\tRUS,  7th phase (22Jul2020 - 02Aug2020): finished 1705 trials in 1 min  0 sec"
     ]
    },
    {
     "name": "stdout",
     "output_type": "stream",
     "text": [
      "\n"
     ]
    },
    {
     "name": "stdout",
     "output_type": "stream",
     "text": [
      "\tIRN,  2nd phase (17Apr2020 - 10May2020): finished  206 trials in 0 min  5 sec"
     ]
    },
    {
     "name": "stdout",
     "output_type": "stream",
     "text": [
      "\n"
     ]
    },
    {
     "name": "stdout",
     "output_type": "stream",
     "text": [
      "\tPOL, 11th phase (20Aug2020 - 28Aug2020): finished  205 trials in 0 min  5 sec"
     ]
    },
    {
     "name": "stdout",
     "output_type": "stream",
     "text": [
      "\n"
     ]
    },
    {
     "name": "stdout",
     "output_type": "stream",
     "text": [
      "\tKWT,  9th phase (15Aug2020 - 28Aug2020): finished 1354 trials in 0 min 45 sec"
     ]
    },
    {
     "name": "stdout",
     "output_type": "stream",
     "text": [
      "\n"
     ]
    },
    {
     "name": "stdout",
     "output_type": "stream",
     "text": [
      "\tKWT,  2nd phase (25May2020 - 09Jun2020): finished 1734 trials in 1 min  0 sec"
     ]
    },
    {
     "name": "stdout",
     "output_type": "stream",
     "text": [
      "\n"
     ]
    },
    {
     "name": "stdout",
     "output_type": "stream",
     "text": [
      "\tITA,  2nd phase (01Apr2020 - 11Apr2020): finished 1044 trials in 0 min 35 sec"
     ]
    },
    {
     "name": "stdout",
     "output_type": "stream",
     "text": [
      "\n"
     ]
    },
    {
     "name": "stdout",
     "output_type": "stream",
     "text": [
      "\tMEX,  4th phase (01Jul2020 - 08Jul2020): finished  319 trials in 0 min 10 sec"
     ]
    },
    {
     "name": "stdout",
     "output_type": "stream",
     "text": [
      "\n"
     ]
    },
    {
     "name": "stdout",
     "output_type": "stream",
     "text": [
      "\tARE,  9th phase (26Jul2020 - 12Aug2020): finished  992 trials in 0 min 35 sec"
     ]
    },
    {
     "name": "stdout",
     "output_type": "stream",
     "text": [
      "\n"
     ]
    },
    {
     "name": "stdout",
     "output_type": "stream",
     "text": [
      "\tARE,  6th phase (23Jun2020 - 02Jul2020): finished  577 trials in 0 min 20 sec"
     ]
    },
    {
     "name": "stdout",
     "output_type": "stream",
     "text": [
      "\n"
     ]
    },
    {
     "name": "stdout",
     "output_type": "stream",
     "text": [
      "\tKOR,  1st phase (15Mar2020 - 25Mar2020): finished 1538 trials in 1 min  0 sec"
     ]
    },
    {
     "name": "stdout",
     "output_type": "stream",
     "text": [
      "\n"
     ]
    },
    {
     "name": "stdout",
     "output_type": "stream",
     "text": [
      "\tTUR,  7th phase (12Jul2020 - 28Jul2020): finished  139 trials in 0 min  5 sec"
     ]
    },
    {
     "name": "stdout",
     "output_type": "stream",
     "text": [
      "\n"
     ]
    },
    {
     "name": "stdout",
     "output_type": "stream",
     "text": [
      "\tSEN,  8th phase (21Jul2020 - 02Aug2020): finished 1434 trials in 1 min  0 sec"
     ]
    },
    {
     "name": "stdout",
     "output_type": "stream",
     "text": [
      "\n"
     ]
    },
    {
     "name": "stdout",
     "output_type": "stream",
     "text": [
      "\tPOL,  8th phase (25Jul2020 - 03Aug2020): finished  857 trials in 0 min 30 sec"
     ]
    },
    {
     "name": "stdout",
     "output_type": "stream",
     "text": [
      "\n"
     ]
    },
    {
     "name": "stdout",
     "output_type": "stream",
     "text": [
      "\tMDA,  4th phase (26Jun2020 - 08Jul2020): finished 1422 trials in 1 min  0 sec"
     ]
    },
    {
     "name": "stdout",
     "output_type": "stream",
     "text": [
      "\n"
     ]
    },
    {
     "name": "stdout",
     "output_type": "stream",
     "text": [
      "\tMMR,  6th phase (28Jun2020 - 09Jul2020): finished  245 trials in 0 min 10 sec"
     ]
    },
    {
     "name": "stdout",
     "output_type": "stream",
     "text": [
      "\n"
     ]
    },
    {
     "name": "stdout",
     "output_type": "stream",
     "text": [
      "\tRUS,  6th phase (12Jul2020 - 21Jul2020): finished 1353 trials in 1 min  0 sec"
     ]
    },
    {
     "name": "stdout",
     "output_type": "stream",
     "text": [
      "\n"
     ]
    },
    {
     "name": "stdout",
     "output_type": "stream",
     "text": [
      "\tPOL, 10th phase (12Aug2020 - 19Aug2020): finished  203 trials in 0 min 10 sec"
     ]
    },
    {
     "name": "stdout",
     "output_type": "stream",
     "text": [
      "\n"
     ]
    },
    {
     "name": "stdout",
     "output_type": "stream",
     "text": [
      "\tITA,  8th phase (13Jun2020 - 27Jul2020): finished  579 trials in 0 min 25 sec"
     ]
    },
    {
     "name": "stdout",
     "output_type": "stream",
     "text": [
      "\n"
     ]
    },
    {
     "name": "stdout",
     "output_type": "stream",
     "text": [
      "\tMDA,  6th phase (21Jul2020 - 30Jul2020): finished  967 trials in 0 min 45 sec"
     ]
    },
    {
     "name": "stdout",
     "output_type": "stream",
     "text": [
      "\n"
     ]
    },
    {
     "name": "stdout",
     "output_type": "stream",
     "text": [
      "\tMDA,  2nd phase (03Jun2020 - 15Jun2020): finished 1208 trials in 1 min  0 sec"
     ]
    },
    {
     "name": "stdout",
     "output_type": "stream",
     "text": [
      "\n"
     ]
    },
    {
     "name": "stdout",
     "output_type": "stream",
     "text": [
      "\tRUS,  9th phase (14Aug2020 - 28Aug2020): finished 1276 trials in 1 min  0 sec"
     ]
    },
    {
     "name": "stdout",
     "output_type": "stream",
     "text": [
      "\n"
     ]
    },
    {
     "name": "stdout",
     "output_type": "stream",
     "text": [
      "\tGIN,  6th phase (02Jul2020 - 13Jul2020): finished 1215 trials in 1 min  0 sec"
     ]
    },
    {
     "name": "stdout",
     "output_type": "stream",
     "text": [
      "\n"
     ]
    },
    {
     "name": "stdout",
     "output_type": "stream",
     "text": [
      "\tRUS,  1st phase (08May2020 - 22May2020): finished 1208 trials in 1 min  0 sec"
     ]
    },
    {
     "name": "stdout",
     "output_type": "stream",
     "text": [
      "\n"
     ]
    },
    {
     "name": "stdout",
     "output_type": "stream",
     "text": [
      "\tGEO,  9th phase (17Aug2020 - 28Aug2020): finished 1234 trials in 1 min  0 sec"
     ]
    },
    {
     "name": "stdout",
     "output_type": "stream",
     "text": [
      "\n"
     ]
    },
    {
     "name": "stdout",
     "output_type": "stream",
     "text": [
      "\tIRN,  6th phase (23Jun2020 - 04Jul2020): finished  160 trials in 0 min  5 sec"
     ]
    },
    {
     "name": "stdout",
     "output_type": "stream",
     "text": [
      "\n"
     ]
    },
    {
     "name": "stdout",
     "output_type": "stream",
     "text": [
      "\tUSA,  6th phase (16Jul2020 - 23Jul2020): finished  162 trials in 0 min  5 sec"
     ]
    },
    {
     "name": "stdout",
     "output_type": "stream",
     "text": [
      "\n"
     ]
    },
    {
     "name": "stdout",
     "output_type": "stream",
     "text": [
      "\tRUS,  3rd phase (06Jun2020 - 20Jun2020): finished 1263 trials in 1 min  0 sec"
     ]
    },
    {
     "name": "stdout",
     "output_type": "stream",
     "text": [
      "\n"
     ]
    },
    {
     "name": "stdout",
     "output_type": "stream",
     "text": [
      "\tKOR,  3rd phase (07Apr2020 - 07May2020): finished 1138 trials in 0 min 45 sec"
     ]
    },
    {
     "name": "stdout",
     "output_type": "stream",
     "text": [
      "\n"
     ]
    },
    {
     "name": "stdout",
     "output_type": "stream",
     "text": [
      "\tPOL,  1st phase (24Apr2020 - 09May2020): finished 1414 trials in 1 min  0 sec"
     ]
    },
    {
     "name": "stdout",
     "output_type": "stream",
     "text": [
      "\n"
     ]
    },
    {
     "name": "stdout",
     "output_type": "stream",
     "text": [
      "\tUSA,  5th phase (08Jul2020 - 15Jul2020): finished  439 trials in 0 min 15 sec"
     ]
    },
    {
     "name": "stdout",
     "output_type": "stream",
     "text": [
      "\n"
     ]
    },
    {
     "name": "stdout",
     "output_type": "stream",
     "text": [
      "\tPRT,  9th phase (10Aug2020 - 28Aug2020): finished 1405 trials in 1 min  0 sec"
     ]
    },
    {
     "name": "stdout",
     "output_type": "stream",
     "text": [
      "\n"
     ]
    },
    {
     "name": "stdout",
     "output_type": "stream",
     "text": [
      "\tMMR,  7th phase (10Jul2020 - 27Jul2020): finished 1358 trials in 1 min  0 sec"
     ]
    },
    {
     "name": "stdout",
     "output_type": "stream",
     "text": [
      "\n"
     ]
    },
    {
     "name": "stdout",
     "output_type": "stream",
     "text": [
      "\tARE,  2nd phase (13May2020 - 25May2020): finished 1312 trials in 1 min  0 sec"
     ]
    },
    {
     "name": "stdout",
     "output_type": "stream",
     "text": [
      "\n"
     ]
    },
    {
     "name": "stdout",
     "output_type": "stream",
     "text": [
      "\tFRA,  2nd phase (03Apr2020 - 11Apr2020): finished 1299 trials in 1 min  0 sec"
     ]
    },
    {
     "name": "stdout",
     "output_type": "stream",
     "text": [
      "\n"
     ]
    },
    {
     "name": "stdout",
     "output_type": "stream",
     "text": [
      "\tMEX,  5th phase (09Jul2020 - 16Jul2020): finished 1272 trials in 1 min  0 sec"
     ]
    },
    {
     "name": "stdout",
     "output_type": "stream",
     "text": [
      "\n"
     ]
    },
    {
     "name": "stdout",
     "output_type": "stream",
     "text": [
      "\tITA,  7th phase (22May2020 - 12Jun2020): finished  285 trials in 0 min 10 sec"
     ]
    },
    {
     "name": "stdout",
     "output_type": "stream",
     "text": [
      "\n"
     ]
    },
    {
     "name": "stdout",
     "output_type": "stream",
     "text": [
      "\tITA,  3rd phase (12Apr2020 - 20Apr2020): finished  166 trials in 0 min  5 sec"
     ]
    },
    {
     "name": "stdout",
     "output_type": "stream",
     "text": [
      "\n"
     ]
    },
    {
     "name": "stdout",
     "output_type": "stream",
     "text": [
      "\tBHR,  1st phase (06May2020 - 30May2020): finished 1347 trials in 1 min  0 sec"
     ]
    },
    {
     "name": "stdout",
     "output_type": "stream",
     "text": [
      "\n"
     ]
    },
    {
     "name": "stdout",
     "output_type": "stream",
     "text": [
      "\tKWT,  5th phase (04Jul2020 - 13Jul2020): finished  325 trials in 0 min 10 sec"
     ]
    },
    {
     "name": "stdout",
     "output_type": "stream",
     "text": [
      "\n"
     ]
    },
    {
     "name": "stdout",
     "output_type": "stream",
     "text": [
      "\tBHR,  5th phase (29Jun2020 - 06Jul2020): finished 1444 trials in 1 min  0 sec"
     ]
    },
    {
     "name": "stdout",
     "output_type": "stream",
     "text": [
      "\n"
     ]
    },
    {
     "name": "stdout",
     "output_type": "stream",
     "text": [
      "\tBHR,  7th phase (16Jul2020 - 25Jul2020): finished  164 trials in 0 min  5 sec"
     ]
    },
    {
     "name": "stdout",
     "output_type": "stream",
     "text": [
      "\n"
     ]
    },
    {
     "name": "stdout",
     "output_type": "stream",
     "text": [
      "\tBHR,  3rd phase (11Jun2020 - 20Jun2020): finished  774 trials in 0 min 25 sec"
     ]
    },
    {
     "name": "stdout",
     "output_type": "stream",
     "text": [
      "\n"
     ]
    },
    {
     "name": "stdout",
     "output_type": "stream",
     "text": [
      "\tKWT,  8th phase (05Aug2020 - 14Aug2020): finished  346 trials in 0 min 10 sec"
     ]
    },
    {
     "name": "stdout",
     "output_type": "stream",
     "text": [
      "\n"
     ]
    },
    {
     "name": "stdout",
     "output_type": "stream",
     "text": [
      "\tMMR,  4th phase (07Jun2020 - 17Jun2020): finished 1465 trials in 1 min  0 sec"
     ]
    },
    {
     "name": "stdout",
     "output_type": "stream",
     "text": [
      "\n"
     ]
    },
    {
     "name": "stdout",
     "output_type": "stream",
     "text": [
      "\tPRT,  4th phase (13Jun2020 - 22Jun2020): finished  483 trials in 0 min 15 sec"
     ]
    },
    {
     "name": "stdout",
     "output_type": "stream",
     "text": [
      "\n"
     ]
    },
    {
     "name": "stdout",
     "output_type": "stream",
     "text": [
      "\tUSA,  8th phase (08Aug2020 - 16Aug2020): finished  654 trials in 0 min 20 sec"
     ]
    },
    {
     "name": "stdout",
     "output_type": "stream",
     "text": [
      "\n"
     ]
    },
    {
     "name": "stdout",
     "output_type": "stream",
     "text": [
      "\tGEO,  6th phase (06Jul2020 - 19Jul2020): finished 1526 trials in 1 min  0 sec"
     ]
    },
    {
     "name": "stdout",
     "output_type": "stream",
     "text": [
      "\n"
     ]
    },
    {
     "name": "stdout",
     "output_type": "stream",
     "text": [
      "\tKOR,  7th phase (04Jul2020 - 20Jul2020): finished 1733 trials in 1 min  0 sec"
     ]
    },
    {
     "name": "stdout",
     "output_type": "stream",
     "text": [
      "\n"
     ]
    },
    {
     "name": "stdout",
     "output_type": "stream",
     "text": [
      "\tMEX,  6th phase (17Jul2020 - 28Jul2020): finished 1701 trials in 1 min  0 sec"
     ]
    },
    {
     "name": "stdout",
     "output_type": "stream",
     "text": [
      "\n"
     ]
    },
    {
     "name": "stdout",
     "output_type": "stream",
     "text": [
      "\tARE,  7th phase (03Jul2020 - 10Jul2020): finished 1704 trials in 1 min  0 sec"
     ]
    },
    {
     "name": "stdout",
     "output_type": "stream",
     "text": [
      "\n"
     ]
    },
    {
     "name": "stdout",
     "output_type": "stream",
     "text": [
      "\tGEO,  8th phase (06Aug2020 - 16Aug2020): finished 1754 trials in 1 min  0 sec"
     ]
    },
    {
     "name": "stdout",
     "output_type": "stream",
     "text": [
      "\n"
     ]
    },
    {
     "name": "stdout",
     "output_type": "stream",
     "text": [
      "\tKWT,  4th phase (23Jun2020 - 03Jul2020): finished 1677 trials in 1 min  0 sec"
     ]
    },
    {
     "name": "stdout",
     "output_type": "stream",
     "text": [
      "\n"
     ]
    },
    {
     "name": "stdout",
     "output_type": "stream",
     "text": [
      "\tIRN,  1st phase (29Mar2020 - 16Apr2020): finished 1713 trials in 1 min  0 sec"
     ]
    },
    {
     "name": "stdout",
     "output_type": "stream",
     "text": [
      "\n"
     ]
    },
    {
     "name": "stdout",
     "output_type": "stream",
     "text": [
      "\tTUR,  5th phase (13Jun2020 - 26Jun2020): finished 1712 trials in 1 min  0 sec"
     ]
    },
    {
     "name": "stdout",
     "output_type": "stream",
     "text": [
      "\n"
     ]
    },
    {
     "name": "stdout",
     "output_type": "stream",
     "text": [
      "\tMDA,  9th phase (19Aug2020 - 28Aug2020): finished  384 trials in 0 min 10 sec"
     ]
    },
    {
     "name": "stdout",
     "output_type": "stream",
     "text": [
      "\n"
     ]
    },
    {
     "name": "stdout",
     "output_type": "stream",
     "text": [
      "\tGEO,  7th phase (20Jul2020 - 05Aug2020): finished 1710 trials in 1 min  0 sec"
     ]
    },
    {
     "name": "stdout",
     "output_type": "stream",
     "text": [
      "\n"
     ]
    },
    {
     "name": "stdout",
     "output_type": "stream",
     "text": [
      "\tBHR,  8th phase (26Jul2020 - 05Aug2020): finished  184 trials in 0 min  5 sec"
     ]
    },
    {
     "name": "stdout",
     "output_type": "stream",
     "text": [
      "\n"
     ]
    },
    {
     "name": "stdout",
     "output_type": "stream",
     "text": [
      "\tFRA,  7th phase (25Jun2020 - 19Jul2020): finished  539 trials in 0 min 15 sec"
     ]
    },
    {
     "name": "stdout",
     "output_type": "stream",
     "text": [
      "\n"
     ]
    },
    {
     "name": "stdout",
     "output_type": "stream",
     "text": [
      "\tITA,  5th phase (01May2020 - 09May2020): finished  578 trials in 0 min 15 sec"
     ]
    },
    {
     "name": "stdout",
     "output_type": "stream",
     "text": [
      "\n"
     ]
    },
    {
     "name": "stdout",
     "output_type": "stream",
     "text": [
      "\tPOL,  7th phase (13Jul2020 - 24Jul2020): finished  230 trials in 0 min  5 sec"
     ]
    },
    {
     "name": "stdout",
     "output_type": "stream",
     "text": [
      "\n"
     ]
    },
    {
     "name": "stdout",
     "output_type": "stream",
     "text": [
      "\tKWT,  3rd phase (10Jun2020 - 22Jun2020): finished  789 trials in 0 min 20 sec"
     ]
    },
    {
     "name": "stdout",
     "output_type": "stream",
     "text": [
      "\n"
     ]
    },
    {
     "name": "stdout",
     "output_type": "stream",
     "text": [
      "\tFRA,  8th phase (20Jul2020 - 08Aug2020): finished 1823 trials in 1 min  0 sec"
     ]
    },
    {
     "name": "stdout",
     "output_type": "stream",
     "text": [
      "\n"
     ]
    },
    {
     "name": "stdout",
     "output_type": "stream",
     "text": [
      "\tGEO,  4th phase (30May2020 - 11Jun2020): finished 1979 trials in 1 min  0 sec"
     ]
    },
    {
     "name": "stdout",
     "output_type": "stream",
     "text": [
      "\n"
     ]
    },
    {
     "name": "stdout",
     "output_type": "stream",
     "text": [
      "\tKWT,  1st phase (12May2020 - 24May2020): finished 2026 trials in 1 min  0 sec"
     ]
    },
    {
     "name": "stdout",
     "output_type": "stream",
     "text": [
      "\n"
     ]
    },
    {
     "name": "stdout",
     "output_type": "stream",
     "text": [
      "\tGEO,  1st phase (12Apr2020 - 24Apr2020): finished 2028 trials in 1 min  0 sec"
     ]
    },
    {
     "name": "stdout",
     "output_type": "stream",
     "text": [
      "\n"
     ]
    },
    {
     "name": "stdout",
     "output_type": "stream",
     "text": [
      "\tPOL,  5th phase (16Jun2020 - 30Jun2020): finished  252 trials in 0 min  5 sec"
     ]
    },
    {
     "name": "stdout",
     "output_type": "stream",
     "text": [
      "\n"
     ]
    },
    {
     "name": "stdout",
     "output_type": "stream",
     "text": [
      "\tPOL,  3rd phase (22May2020 - 05Jun2020): finished  474 trials in 0 min 10 sec"
     ]
    },
    {
     "name": "stdout",
     "output_type": "stream",
     "text": [
      "\n"
     ]
    },
    {
     "name": "stdout",
     "output_type": "stream",
     "text": [
      "\tMMR,  1st phase (29Apr2020 - 16May2020): finished 2018 trials in 1 min  0 sec"
     ]
    },
    {
     "name": "stdout",
     "output_type": "stream",
     "text": [
      "\n"
     ]
    },
    {
     "name": "stdout",
     "output_type": "stream",
     "text": [
      "\tUSA,  2nd phase (12May2020 - 06Jun2020): finished 1993 trials in 1 min  0 sec"
     ]
    },
    {
     "name": "stdout",
     "output_type": "stream",
     "text": [
      "\n"
     ]
    },
    {
     "name": "stdout",
     "output_type": "stream",
     "text": [
      "\tSEN,  6th phase (01Jul2020 - 09Jul2020): finished 1892 trials in 0 min 55 sec"
     ]
    },
    {
     "name": "stdout",
     "output_type": "stream",
     "text": [
      "\n"
     ]
    },
    {
     "name": "stdout",
     "output_type": "stream",
     "text": [
      "\tIRN,  7th phase (05Jul2020 - 16Jul2020): finished  256 trials in 0 min  5 sec"
     ]
    },
    {
     "name": "stdout",
     "output_type": "stream",
     "text": [
      "\n"
     ]
    },
    {
     "name": "stdout",
     "output_type": "stream",
     "text": [
      "\tKOR,  8th phase (21Jul2020 - 03Aug2020): finished 1999 trials in 1 min  0 sec"
     ]
    },
    {
     "name": "stdout",
     "output_type": "stream",
     "text": [
      "\n"
     ]
    },
    {
     "name": "stdout",
     "output_type": "stream",
     "text": [
      "\tBHR,  2nd phase (31May2020 - 10Jun2020): finished 2014 trials in 1 min  0 sec"
     ]
    },
    {
     "name": "stdout",
     "output_type": "stream",
     "text": [
      "\n"
     ]
    },
    {
     "name": "stdout",
     "output_type": "stream",
     "text": [
      "\tMDA,  5th phase (09Jul2020 - 20Jul2020): finished  473 trials in 0 min 10 sec"
     ]
    },
    {
     "name": "stdout",
     "output_type": "stream",
     "text": [
      "\n"
     ]
    },
    {
     "name": "stdout",
     "output_type": "stream",
     "text": [
      "\tPOL,  9th phase (04Aug2020 - 11Aug2020): finished  445 trials in 0 min 10 sec"
     ]
    },
    {
     "name": "stdout",
     "output_type": "stream",
     "text": [
      "\n"
     ]
    },
    {
     "name": "stdout",
     "output_type": "stream",
     "text": [
      "\tTUR,  3rd phase (16May2020 - 28May2020): finished  214 trials in 0 min  5 sec"
     ]
    },
    {
     "name": "stdout",
     "output_type": "stream",
     "text": [
      "\n"
     ]
    },
    {
     "name": "stdout",
     "output_type": "stream",
     "text": [
      "\tSEN,  7th phase (10Jul2020 - 20Jul2020): finished  396 trials in 0 min 10 sec"
     ]
    },
    {
     "name": "stdout",
     "output_type": "stream",
     "text": [
      "\n"
     ]
    },
    {
     "name": "stdout",
     "output_type": "stream",
     "text": [
      "\tITA,  1st phase (23Mar2020 - 31Mar2020): finished 1925 trials in 1 min  0 sec"
     ]
    },
    {
     "name": "stdout",
     "output_type": "stream",
     "text": [
      "\n"
     ]
    },
    {
     "name": "stdout",
     "output_type": "stream",
     "text": [
      "\tMMR,  5th phase (18Jun2020 - 27Jun2020): finished  394 trials in 0 min 10 sec"
     ]
    },
    {
     "name": "stdout",
     "output_type": "stream",
     "text": [
      "\n"
     ]
    },
    {
     "name": "stdout",
     "output_type": "stream",
     "text": [
      "\tFRA,  4th phase (25Apr2020 - 05May2020): finished 1880 trials in 1 min  0 sec"
     ]
    },
    {
     "name": "stdout",
     "output_type": "stream",
     "text": [
      "\n"
     ]
    },
    {
     "name": "stdout",
     "output_type": "stream",
     "text": [
      "\tPRT,  7th phase (11Jul2020 - 23Jul2020): finished  156 trials in 0 min  5 sec"
     ]
    },
    {
     "name": "stdout",
     "output_type": "stream",
     "text": [
      "\n"
     ]
    },
    {
     "name": "stdout",
     "output_type": "stream",
     "text": [
      "\tTUR,  6th phase (27Jun2020 - 11Jul2020): finished  359 trials in 0 min 10 sec"
     ]
    },
    {
     "name": "stdout",
     "output_type": "stream",
     "text": [
      "\n"
     ]
    },
    {
     "name": "stdout",
     "output_type": "stream",
     "text": [
      "\tARE,  4th phase (04Jun2020 - 11Jun2020): finished  956 trials in 0 min 30 sec"
     ]
    },
    {
     "name": "stdout",
     "output_type": "stream",
     "text": [
      "\n"
     ]
    },
    {
     "name": "stdout",
     "output_type": "stream",
     "text": [
      "\tITA,  4th phase (21Apr2020 - 30Apr2020): finished  255 trials in 0 min  5 sec"
     ]
    },
    {
     "name": "stdout",
     "output_type": "stream",
     "text": [
      "\n"
     ]
    },
    {
     "name": "stdout",
     "output_type": "stream",
     "text": [
      "\tKOR,  2nd phase (26Mar2020 - 06Apr2020): finished  476 trials in 0 min 10 sec"
     ]
    },
    {
     "name": "stdout",
     "output_type": "stream",
     "text": [
      "\n"
     ]
    },
    {
     "name": "stdout",
     "output_type": "stream",
     "text": [
      "\tTUR,  8th phase (29Jul2020 - 12Aug2020): finished  481 trials in 0 min 10 sec"
     ]
    },
    {
     "name": "stdout",
     "output_type": "stream",
     "text": [
      "\n"
     ]
    },
    {
     "name": "stdout",
     "output_type": "stream",
     "text": [
      "\tFRA,  5th phase (06May2020 - 27May2020): finished  452 trials in 0 min 10 sec"
     ]
    },
    {
     "name": "stdout",
     "output_type": "stream",
     "text": [
      "\n"
     ]
    },
    {
     "name": "stdout",
     "output_type": "stream",
     "text": [
      "\tMMR,  3rd phase (26May2020 - 06Jun2020): finished 1939 trials in 1 min  0 sec"
     ]
    },
    {
     "name": "stdout",
     "output_type": "stream",
     "text": [
      "\n"
     ]
    },
    {
     "name": "stdout",
     "output_type": "stream",
     "text": [
      "\tRUS,  5th phase (01Jul2020 - 11Jul2020): finished 2012 trials in 1 min  0 sec"
     ]
    },
    {
     "name": "stdout",
     "output_type": "stream",
     "text": [
      "\n"
     ]
    },
    {
     "name": "stdout",
     "output_type": "stream",
     "text": [
      "\tMDA,  1st phase (09May2020 - 02Jun2020): finished 2000 trials in 1 min  0 sec"
     ]
    },
    {
     "name": "stdout",
     "output_type": "stream",
     "text": [
      "\n"
     ]
    },
    {
     "name": "stdout",
     "output_type": "stream",
     "text": [
      "\tMDA,  3rd phase (16Jun2020 - 25Jun2020): finished  476 trials in 0 min 10 sec"
     ]
    },
    {
     "name": "stdout",
     "output_type": "stream",
     "text": [
      "\n"
     ]
    },
    {
     "name": "stdout",
     "output_type": "stream",
     "text": [
      "\tKOR,  6th phase (18Jun2020 - 03Jul2020): finished 2030 trials in 1 min  0 sec"
     ]
    },
    {
     "name": "stdout",
     "output_type": "stream",
     "text": [
      "\n"
     ]
    },
    {
     "name": "stdout",
     "output_type": "stream",
     "text": [
      "\tTUR,  2nd phase (30Apr2020 - 15May2020): finished  473 trials in 0 min 10 sec"
     ]
    },
    {
     "name": "stdout",
     "output_type": "stream",
     "text": [
      "\n"
     ]
    },
    {
     "name": "stdout",
     "output_type": "stream",
     "text": [
      "\tGIN,  1st phase (02May2020 - 11May2020): finished 2027 trials in 1 min  0 sec"
     ]
    },
    {
     "name": "stdout",
     "output_type": "stream",
     "text": [
      "\n"
     ]
    },
    {
     "name": "stdout",
     "output_type": "stream",
     "text": [
      "\tGEO,  5th phase (12Jun2020 - 05Jul2020): finished 2011 trials in 1 min  0 sec"
     ]
    },
    {
     "name": "stdout",
     "output_type": "stream",
     "text": [
      "\n"
     ]
    },
    {
     "name": "stdout",
     "output_type": "stream",
     "text": [
      "\tPRT,  3rd phase (31May2020 - 12Jun2020): finished 1035 trials in 0 min 25 sec"
     ]
    },
    {
     "name": "stdout",
     "output_type": "stream",
     "text": [
      "\n"
     ]
    },
    {
     "name": "stdout",
     "output_type": "stream",
     "text": [
      "\tRUS,  2nd phase (23May2020 - 05Jun2020): finished 2012 trials in 1 min  0 sec"
     ]
    },
    {
     "name": "stdout",
     "output_type": "stream",
     "text": [
      "\n"
     ]
    },
    {
     "name": "stdout",
     "output_type": "stream",
     "text": [
      "\tKWT,  7th phase (24Jul2020 - 04Aug2020): finished  255 trials in 0 min  5 sec"
     ]
    },
    {
     "name": "stdout",
     "output_type": "stream",
     "text": [
      "\n"
     ]
    },
    {
     "name": "stdout",
     "output_type": "stream",
     "text": [
      "\tGIN,  4th phase (31May2020 - 14Jun2020): finished 2001 trials in 1 min  0 sec"
     ]
    },
    {
     "name": "stdout",
     "output_type": "stream",
     "text": [
      "\n"
     ]
    },
    {
     "name": "stdout",
     "output_type": "stream",
     "text": [
      "\tKOR,  5th phase (24May2020 - 17Jun2020): finished 1024 trials in 0 min 25 sec"
     ]
    },
    {
     "name": "stdout",
     "output_type": "stream",
     "text": [
      "\n"
     ]
    },
    {
     "name": "stdout",
     "output_type": "stream",
     "text": [
      "\tARE,  8th phase (11Jul2020 - 25Jul2020): finished  254 trials in 0 min  5 sec"
     ]
    },
    {
     "name": "stdout",
     "output_type": "stream",
     "text": [
      "\n"
     ]
    },
    {
     "name": "stdout",
     "output_type": "stream",
     "text": [
      "\tKOR,  9th phase (04Aug2020 - 17Aug2020): finished 2009 trials in 1 min  0 sec"
     ]
    },
    {
     "name": "stdout",
     "output_type": "stream",
     "text": [
      "\n"
     ]
    },
    {
     "name": "stdout",
     "output_type": "stream",
     "text": [
      "\tBHR,  4th phase (21Jun2020 - 28Jun2020): finished 2017 trials in 1 min  0 sec"
     ]
    },
    {
     "name": "stdout",
     "output_type": "stream",
     "text": [
      "\n"
     ]
    },
    {
     "name": "stdout",
     "output_type": "stream",
     "text": [
      "\tMEX,  2nd phase (08Jun2020 - 19Jun2020): finished  873 trials in 0 min 20 sec"
     ]
    },
    {
     "name": "stdout",
     "output_type": "stream",
     "text": [
      "\n"
     ]
    },
    {
     "name": "stdout",
     "output_type": "stream",
     "text": [
      "\tSEN,  4th phase (10Jun2020 - 18Jun2020): finished 1045 trials in 0 min 25 sec"
     ]
    },
    {
     "name": "stdout",
     "output_type": "stream",
     "text": [
      "\n"
     ]
    },
    {
     "name": "stdout",
     "output_type": "stream",
     "text": [
      "\tSEN,  3rd phase (29May2020 - 09Jun2020): finished 2032 trials in 1 min  0 sec"
     ]
    },
    {
     "name": "stdout",
     "output_type": "stream",
     "text": [
      "\n"
     ]
    },
    {
     "name": "stdout",
     "output_type": "stream",
     "text": [
      "\tPOL,  2nd phase (10May2020 - 21May2020): finished  476 trials in 0 min 10 sec"
     ]
    },
    {
     "name": "stdout",
     "output_type": "stream",
     "text": [
      "\n"
     ]
    },
    {
     "name": "stdout",
     "output_type": "stream",
     "text": [
      "\tUSA,  1st phase (20Apr2020 - 11May2020): finished 2004 trials in 1 min  0 sec"
     ]
    },
    {
     "name": "stdout",
     "output_type": "stream",
     "text": [
      "\n"
     ]
    },
    {
     "name": "stdout",
     "output_type": "stream",
     "text": [
      "\tGIN,  3rd phase (23May2020 - 30May2020): finished 1928 trials in 1 min  0 sec"
     ]
    },
    {
     "name": "stdout",
     "output_type": "stream",
     "text": [
      "\n"
     ]
    },
    {
     "name": "stdout",
     "output_type": "stream",
     "text": [
      "\tGIN,  7th phase (14Jul2020 - 23Jul2020): finished 1839 trials in 1 min  0 sec"
     ]
    },
    {
     "name": "stdout",
     "output_type": "stream",
     "text": [
      "\n"
     ]
    },
    {
     "name": "stdout",
     "output_type": "stream",
     "text": [
      "\tMMR,  9th phase (16Aug2020 - 28Aug2020): finished 1766 trials in 1 min  0 sec"
     ]
    },
    {
     "name": "stdout",
     "output_type": "stream",
     "text": [
      "\n"
     ]
    },
    {
     "name": "stdout",
     "output_type": "stream",
     "text": [
      "\tIRN,  3rd phase (11May2020 - 28May2020): finished 1721 trials in 1 min  0 sec"
     ]
    },
    {
     "name": "stdout",
     "output_type": "stream",
     "text": [
      "\n"
     ]
    },
    {
     "name": "stdout",
     "output_type": "stream",
     "text": [
      "\tARE,  1st phase (27Apr2020 - 12May2020): finished 1767 trials in 1 min  0 sec"
     ]
    },
    {
     "name": "stdout",
     "output_type": "stream",
     "text": [
      "\n"
     ]
    },
    {
     "name": "stdout",
     "output_type": "stream",
     "text": [
      "\tIRN,  4th phase (29May2020 - 10Jun2020): finished 1783 trials in 1 min  0 sec"
     ]
    },
    {
     "name": "stdout",
     "output_type": "stream",
     "text": [
      "\n"
     ]
    },
    {
     "name": "stdout",
     "output_type": "stream",
     "text": [
      "\tSEN,  5th phase (19Jun2020 - 30Jun2020): finished  968 trials in 0 min 30 sec"
     ]
    },
    {
     "name": "stdout",
     "output_type": "stream",
     "text": [
      "\n"
     ]
    },
    {
     "name": "stdout",
     "output_type": "stream",
     "text": [
      "\tGIN,  5th phase (15Jun2020 - 01Jul2020): finished 1725 trials in 1 min  0 sec"
     ]
    },
    {
     "name": "stdout",
     "output_type": "stream",
     "text": [
      "\n"
     ]
    },
    {
     "name": "stdout",
     "output_type": "stream",
     "text": [
      "\tKOR, 10th phase (18Aug2020 - 28Aug2020): finished 1749 trials in 1 min  0 sec"
     ]
    },
    {
     "name": "stdout",
     "output_type": "stream",
     "text": [
      "\n"
     ]
    },
    {
     "name": "stdout",
     "output_type": "stream",
     "text": [
      "\tRUS,  4th phase (21Jun2020 - 30Jun2020): finished 1794 trials in 1 min  0 sec"
     ]
    },
    {
     "name": "stdout",
     "output_type": "stream",
     "text": [
      "\n"
     ]
    },
    {
     "name": "stdout",
     "output_type": "stream",
     "text": [
      "\tARE,  5th phase (12Jun2020 - 22Jun2020): finished 1057 trials in 0 min 30 sec"
     ]
    },
    {
     "name": "stdout",
     "output_type": "stream",
     "text": [
      "\n"
     ]
    },
    {
     "name": "stdout",
     "output_type": "stream",
     "text": [
      "\tMDA,  7th phase (31Jul2020 - 09Aug2020): finished 1766 trials in 0 min 55 sec"
     ]
    },
    {
     "name": "stdout",
     "output_type": "stream",
     "text": [
      "\n"
     ]
    },
    {
     "name": "stdout",
     "output_type": "stream",
     "text": [
      "\tFRA,  1st phase (25Mar2020 - 02Apr2020): finished 1930 trials in 1 min  0 sec"
     ]
    },
    {
     "name": "stdout",
     "output_type": "stream",
     "text": [
      "\n"
     ]
    },
    {
     "name": "stdout",
     "output_type": "stream",
     "text": [
      "\tITA,  9th phase (28Jul2020 - 28Aug2020): finished 1948 trials in 1 min  0 sec"
     ]
    },
    {
     "name": "stdout",
     "output_type": "stream",
     "text": [
      "\n"
     ]
    },
    {
     "name": "stdout",
     "output_type": "stream",
     "text": [
      "\tUSA,  3rd phase (07Jun2020 - 25Jun2020): finished 1936 trials in 1 min  0 sec"
     ]
    },
    {
     "name": "stdout",
     "output_type": "stream",
     "text": [
      "\n"
     ]
    },
    {
     "name": "stdout",
     "output_type": "stream",
     "text": [
      "\tFRA,  6th phase (28May2020 - 24Jun2020): finished  996 trials in 0 min 25 sec"
     ]
    },
    {
     "name": "stdout",
     "output_type": "stream",
     "text": [
      "\n"
     ]
    },
    {
     "name": "stdout",
     "output_type": "stream",
     "text": [
      "\tIRN,  5th phase (11Jun2020 - 22Jun2020): finished  254 trials in 0 min  5 sec"
     ]
    },
    {
     "name": "stdout",
     "output_type": "stream",
     "text": [
      "\n"
     ]
    },
    {
     "name": "stdout",
     "output_type": "stream",
     "text": [
      "\tUSA,  4th phase (26Jun2020 - 07Jul2020): finished 1984 trials in 1 min  0 sec"
     ]
    },
    {
     "name": "stdout",
     "output_type": "stream",
     "text": [
      "\n"
     ]
    },
    {
     "name": "stdout",
     "output_type": "stream",
     "text": [
      "\tUSA,  7th phase (24Jul2020 - 07Aug2020): finished  254 trials in 0 min  5 sec"
     ]
    },
    {
     "name": "stdout",
     "output_type": "stream",
     "text": [
      "\n"
     ]
    },
    {
     "name": "stdout",
     "output_type": "stream",
     "text": [
      "Completed optimization. Total: 26 min 37 sec"
     ]
    },
    {
     "name": "stdout",
     "output_type": "stream",
     "text": [
      "\n"
     ]
    }
   ],
   "source": [
    "# Parameter estimation with SIR-F model\n",
    "analyser.estimate(cs.SIRF)"
   ]
  },
  {
   "cell_type": "code",
   "execution_count": 12,
   "metadata": {
    "collapsed": false
   },
   "outputs": [
    {
     "data": {
      "text/html": [
       "<div>\n",
       "<style scoped>\n",
       "    .dataframe tbody tr th:only-of-type {\n",
       "        vertical-align: middle;\n",
       "    }\n",
       "\n",
       "    .dataframe tbody tr th {\n",
       "        vertical-align: top;\n",
       "    }\n",
       "\n",
       "    .dataframe thead th {\n",
       "        text-align: right;\n",
       "    }\n",
       "</style>\n",
       "<table border=\"1\" class=\"dataframe\">\n",
       "  <thead>\n",
       "    <tr style=\"text-align: right;\">\n",
       "      <th></th>\n",
       "      <th></th>\n",
       "      <th>Type</th>\n",
       "      <th>Start</th>\n",
       "      <th>End</th>\n",
       "      <th>Population</th>\n",
       "      <th>ODE</th>\n",
       "      <th>Rt</th>\n",
       "      <th>theta</th>\n",
       "      <th>kappa</th>\n",
       "      <th>rho</th>\n",
       "      <th>sigma</th>\n",
       "      <th>tau</th>\n",
       "      <th>1/beta [day]</th>\n",
       "      <th>1/alpha2 [day]</th>\n",
       "      <th>1/gamma [day]</th>\n",
       "      <th>alpha1 [-]</th>\n",
       "      <th>RMSLE</th>\n",
       "      <th>Trials</th>\n",
       "      <th>Runtime</th>\n",
       "    </tr>\n",
       "    <tr>\n",
       "      <th>Country</th>\n",
       "      <th>Phase</th>\n",
       "      <th></th>\n",
       "      <th></th>\n",
       "      <th></th>\n",
       "      <th></th>\n",
       "      <th></th>\n",
       "      <th></th>\n",
       "      <th></th>\n",
       "      <th></th>\n",
       "      <th></th>\n",
       "      <th></th>\n",
       "      <th></th>\n",
       "      <th></th>\n",
       "      <th></th>\n",
       "      <th></th>\n",
       "      <th></th>\n",
       "      <th></th>\n",
       "      <th></th>\n",
       "      <th></th>\n",
       "    </tr>\n",
       "  </thead>\n",
       "  <tbody>\n",
       "    <tr>\n",
       "      <th rowspan=\"11\" valign=\"top\">Poland</th>\n",
       "      <th>1st</th>\n",
       "      <td>Past</td>\n",
       "      <td>24Apr2020</td>\n",
       "      <td>09May2020</td>\n",
       "      <td>37974750</td>\n",
       "      <td>SIR-F</td>\n",
       "      <td>1.26</td>\n",
       "      <td>0.000105</td>\n",
       "      <td>0.000569</td>\n",
       "      <td>0.008421</td>\n",
       "      <td>0.006121</td>\n",
       "      <td>360</td>\n",
       "      <td>29</td>\n",
       "      <td>439</td>\n",
       "      <td>40</td>\n",
       "      <td>0.000</td>\n",
       "      <td>0.036211</td>\n",
       "      <td>1414</td>\n",
       "      <td>1 min  0 sec</td>\n",
       "    </tr>\n",
       "    <tr>\n",
       "      <th>2nd</th>\n",
       "      <td>Past</td>\n",
       "      <td>10May2020</td>\n",
       "      <td>21May2020</td>\n",
       "      <td>37974750</td>\n",
       "      <td>SIR-F</td>\n",
       "      <td>1.38</td>\n",
       "      <td>0.036383</td>\n",
       "      <td>0.000084</td>\n",
       "      <td>0.009422</td>\n",
       "      <td>0.006486</td>\n",
       "      <td>360</td>\n",
       "      <td>26</td>\n",
       "      <td>2965</td>\n",
       "      <td>38</td>\n",
       "      <td>0.036</td>\n",
       "      <td>0.016293</td>\n",
       "      <td>476</td>\n",
       "      <td>0 min 10 sec</td>\n",
       "    </tr>\n",
       "    <tr>\n",
       "      <th>3rd</th>\n",
       "      <td>Past</td>\n",
       "      <td>22May2020</td>\n",
       "      <td>05Jun2020</td>\n",
       "      <td>37974750</td>\n",
       "      <td>SIR-F</td>\n",
       "      <td>1.29</td>\n",
       "      <td>0.001014</td>\n",
       "      <td>0.000215</td>\n",
       "      <td>0.007468</td>\n",
       "      <td>0.005565</td>\n",
       "      <td>360</td>\n",
       "      <td>33</td>\n",
       "      <td>1161</td>\n",
       "      <td>44</td>\n",
       "      <td>0.001</td>\n",
       "      <td>0.021443</td>\n",
       "      <td>474</td>\n",
       "      <td>0 min 10 sec</td>\n",
       "    </tr>\n",
       "    <tr>\n",
       "      <th>4th</th>\n",
       "      <td>Past</td>\n",
       "      <td>06Jun2020</td>\n",
       "      <td>15Jun2020</td>\n",
       "      <td>37974750</td>\n",
       "      <td>SIR-F</td>\n",
       "      <td>2.24</td>\n",
       "      <td>0.020620</td>\n",
       "      <td>0.000092</td>\n",
       "      <td>0.007750</td>\n",
       "      <td>0.003293</td>\n",
       "      <td>360</td>\n",
       "      <td>32</td>\n",
       "      <td>2727</td>\n",
       "      <td>75</td>\n",
       "      <td>0.021</td>\n",
       "      <td>0.013414</td>\n",
       "      <td>1097</td>\n",
       "      <td>0 min 35 sec</td>\n",
       "    </tr>\n",
       "    <tr>\n",
       "      <th>5th</th>\n",
       "      <td>Past</td>\n",
       "      <td>16Jun2020</td>\n",
       "      <td>30Jun2020</td>\n",
       "      <td>37974750</td>\n",
       "      <td>SIR-F</td>\n",
       "      <td>0.53</td>\n",
       "      <td>0.000441</td>\n",
       "      <td>0.000229</td>\n",
       "      <td>0.005389</td>\n",
       "      <td>0.010014</td>\n",
       "      <td>360</td>\n",
       "      <td>46</td>\n",
       "      <td>1093</td>\n",
       "      <td>24</td>\n",
       "      <td>0.000</td>\n",
       "      <td>0.064214</td>\n",
       "      <td>252</td>\n",
       "      <td>0 min  5 sec</td>\n",
       "    </tr>\n",
       "    <tr>\n",
       "      <th>6th</th>\n",
       "      <td>Past</td>\n",
       "      <td>01Jul2020</td>\n",
       "      <td>12Jul2020</td>\n",
       "      <td>37974750</td>\n",
       "      <td>SIR-F</td>\n",
       "      <td>0.53</td>\n",
       "      <td>0.020697</td>\n",
       "      <td>0.000071</td>\n",
       "      <td>0.006917</td>\n",
       "      <td>0.012778</td>\n",
       "      <td>360</td>\n",
       "      <td>36</td>\n",
       "      <td>3515</td>\n",
       "      <td>19</td>\n",
       "      <td>0.021</td>\n",
       "      <td>0.033314</td>\n",
       "      <td>207</td>\n",
       "      <td>0 min  5 sec</td>\n",
       "    </tr>\n",
       "    <tr>\n",
       "      <th>7th</th>\n",
       "      <td>Past</td>\n",
       "      <td>13Jul2020</td>\n",
       "      <td>24Jul2020</td>\n",
       "      <td>37974750</td>\n",
       "      <td>SIR-F</td>\n",
       "      <td>0.89</td>\n",
       "      <td>0.003266</td>\n",
       "      <td>0.000192</td>\n",
       "      <td>0.011331</td>\n",
       "      <td>0.012472</td>\n",
       "      <td>360</td>\n",
       "      <td>22</td>\n",
       "      <td>1304</td>\n",
       "      <td>20</td>\n",
       "      <td>0.003</td>\n",
       "      <td>0.036757</td>\n",
       "      <td>230</td>\n",
       "      <td>0 min  5 sec</td>\n",
       "    </tr>\n",
       "    <tr>\n",
       "      <th>8th</th>\n",
       "      <td>Past</td>\n",
       "      <td>25Jul2020</td>\n",
       "      <td>03Aug2020</td>\n",
       "      <td>37974750</td>\n",
       "      <td>SIR-F</td>\n",
       "      <td>1.86</td>\n",
       "      <td>0.017772</td>\n",
       "      <td>0.000002</td>\n",
       "      <td>0.014823</td>\n",
       "      <td>0.007836</td>\n",
       "      <td>360</td>\n",
       "      <td>16</td>\n",
       "      <td>103449</td>\n",
       "      <td>31</td>\n",
       "      <td>0.018</td>\n",
       "      <td>0.008487</td>\n",
       "      <td>857</td>\n",
       "      <td>0 min 30 sec</td>\n",
       "    </tr>\n",
       "    <tr>\n",
       "      <th>9th</th>\n",
       "      <td>Past</td>\n",
       "      <td>04Aug2020</td>\n",
       "      <td>11Aug2020</td>\n",
       "      <td>37974750</td>\n",
       "      <td>SIR-F</td>\n",
       "      <td>2.26</td>\n",
       "      <td>0.000685</td>\n",
       "      <td>0.000235</td>\n",
       "      <td>0.013416</td>\n",
       "      <td>0.005698</td>\n",
       "      <td>360</td>\n",
       "      <td>18</td>\n",
       "      <td>1064</td>\n",
       "      <td>43</td>\n",
       "      <td>0.001</td>\n",
       "      <td>0.006037</td>\n",
       "      <td>445</td>\n",
       "      <td>0 min 10 sec</td>\n",
       "    </tr>\n",
       "    <tr>\n",
       "      <th>10th</th>\n",
       "      <td>Past</td>\n",
       "      <td>12Aug2020</td>\n",
       "      <td>19Aug2020</td>\n",
       "      <td>37974750</td>\n",
       "      <td>SIR-F</td>\n",
       "      <td>1.87</td>\n",
       "      <td>0.002884</td>\n",
       "      <td>0.000079</td>\n",
       "      <td>0.012155</td>\n",
       "      <td>0.006389</td>\n",
       "      <td>360</td>\n",
       "      <td>20</td>\n",
       "      <td>3152</td>\n",
       "      <td>39</td>\n",
       "      <td>0.003</td>\n",
       "      <td>0.008373</td>\n",
       "      <td>203</td>\n",
       "      <td>0 min 10 sec</td>\n",
       "    </tr>\n",
       "    <tr>\n",
       "      <th>11th</th>\n",
       "      <td>Past</td>\n",
       "      <td>20Aug2020</td>\n",
       "      <td>28Aug2020</td>\n",
       "      <td>37974750</td>\n",
       "      <td>SIR-F</td>\n",
       "      <td>1.44</td>\n",
       "      <td>0.001384</td>\n",
       "      <td>0.000150</td>\n",
       "      <td>0.011401</td>\n",
       "      <td>0.007780</td>\n",
       "      <td>360</td>\n",
       "      <td>21</td>\n",
       "      <td>1663</td>\n",
       "      <td>32</td>\n",
       "      <td>0.001</td>\n",
       "      <td>0.007689</td>\n",
       "      <td>205</td>\n",
       "      <td>0 min  5 sec</td>\n",
       "    </tr>\n",
       "  </tbody>\n",
       "</table>\n",
       "</div>"
      ],
      "text/plain": [
       "               Type      Start        End  Population    ODE    Rt     theta  \\\n",
       "Country Phase                                                                  \n",
       "Poland  1st    Past  24Apr2020  09May2020    37974750  SIR-F  1.26  0.000105   \n",
       "        2nd    Past  10May2020  21May2020    37974750  SIR-F  1.38  0.036383   \n",
       "        3rd    Past  22May2020  05Jun2020    37974750  SIR-F  1.29  0.001014   \n",
       "        4th    Past  06Jun2020  15Jun2020    37974750  SIR-F  2.24  0.020620   \n",
       "        5th    Past  16Jun2020  30Jun2020    37974750  SIR-F  0.53  0.000441   \n",
       "        6th    Past  01Jul2020  12Jul2020    37974750  SIR-F  0.53  0.020697   \n",
       "        7th    Past  13Jul2020  24Jul2020    37974750  SIR-F  0.89  0.003266   \n",
       "        8th    Past  25Jul2020  03Aug2020    37974750  SIR-F  1.86  0.017772   \n",
       "        9th    Past  04Aug2020  11Aug2020    37974750  SIR-F  2.26  0.000685   \n",
       "        10th   Past  12Aug2020  19Aug2020    37974750  SIR-F  1.87  0.002884   \n",
       "        11th   Past  20Aug2020  28Aug2020    37974750  SIR-F  1.44  0.001384   \n",
       "\n",
       "                  kappa       rho     sigma  tau  1/beta [day]  \\\n",
       "Country Phase                                                    \n",
       "Poland  1st    0.000569  0.008421  0.006121  360            29   \n",
       "        2nd    0.000084  0.009422  0.006486  360            26   \n",
       "        3rd    0.000215  0.007468  0.005565  360            33   \n",
       "        4th    0.000092  0.007750  0.003293  360            32   \n",
       "        5th    0.000229  0.005389  0.010014  360            46   \n",
       "        6th    0.000071  0.006917  0.012778  360            36   \n",
       "        7th    0.000192  0.011331  0.012472  360            22   \n",
       "        8th    0.000002  0.014823  0.007836  360            16   \n",
       "        9th    0.000235  0.013416  0.005698  360            18   \n",
       "        10th   0.000079  0.012155  0.006389  360            20   \n",
       "        11th   0.000150  0.011401  0.007780  360            21   \n",
       "\n",
       "               1/alpha2 [day]  1/gamma [day]  alpha1 [-]     RMSLE  Trials  \\\n",
       "Country Phase                                                                \n",
       "Poland  1st               439             40       0.000  0.036211    1414   \n",
       "        2nd              2965             38       0.036  0.016293     476   \n",
       "        3rd              1161             44       0.001  0.021443     474   \n",
       "        4th              2727             75       0.021  0.013414    1097   \n",
       "        5th              1093             24       0.000  0.064214     252   \n",
       "        6th              3515             19       0.021  0.033314     207   \n",
       "        7th              1304             20       0.003  0.036757     230   \n",
       "        8th            103449             31       0.018  0.008487     857   \n",
       "        9th              1064             43       0.001  0.006037     445   \n",
       "        10th             3152             39       0.003  0.008373     203   \n",
       "        11th             1663             32       0.001  0.007689     205   \n",
       "\n",
       "                    Runtime  \n",
       "Country Phase                \n",
       "Poland  1st    1 min  0 sec  \n",
       "        2nd    0 min 10 sec  \n",
       "        3rd    0 min 10 sec  \n",
       "        4th    0 min 35 sec  \n",
       "        5th    0 min  5 sec  \n",
       "        6th    0 min  5 sec  \n",
       "        7th    0 min  5 sec  \n",
       "        8th    0 min 30 sec  \n",
       "        9th    0 min 10 sec  \n",
       "        10th   0 min 10 sec  \n",
       "        11th   0 min  5 sec  "
      ]
     },
     "execution_count": 12,
     "metadata": {},
     "output_type": "execute_result"
    }
   ],
   "source": [
    "# Show summary\n",
    "analyser.summary(countries=countries_show)"
   ]
  },
  {
   "cell_type": "markdown",
   "metadata": {},
   "source": [
    "## Compare the history of parameters\n",
    "Here, compare the history of parameter values if countries."
   ]
  },
  {
   "cell_type": "code",
   "execution_count": 13,
   "metadata": {
    "collapsed": false
   },
   "outputs": [
    {
     "data": {
      "text/html": [
       "<div>\n",
       "<style scoped>\n",
       "    .dataframe tbody tr th:only-of-type {\n",
       "        vertical-align: middle;\n",
       "    }\n",
       "\n",
       "    .dataframe tbody tr th {\n",
       "        vertical-align: top;\n",
       "    }\n",
       "\n",
       "    .dataframe thead th {\n",
       "        text-align: right;\n",
       "    }\n",
       "</style>\n",
       "<table border=\"1\" class=\"dataframe\">\n",
       "  <thead>\n",
       "    <tr style=\"text-align: right;\">\n",
       "      <th></th>\n",
       "      <th>Date</th>\n",
       "      <th>Country</th>\n",
       "      <th>theta</th>\n",
       "      <th>kappa</th>\n",
       "      <th>rho</th>\n",
       "      <th>sigma</th>\n",
       "      <th>alpha1 [-]</th>\n",
       "      <th>1/alpha2 [day]</th>\n",
       "      <th>1/beta [day]</th>\n",
       "      <th>1/gamma [day]</th>\n",
       "      <th>...</th>\n",
       "      <th>Cancel_events</th>\n",
       "      <th>Gatherings_restrictions</th>\n",
       "      <th>Transport_closing</th>\n",
       "      <th>Stay_home_restrictions</th>\n",
       "      <th>Internal_movement_restrictions</th>\n",
       "      <th>International_movement_restrictions</th>\n",
       "      <th>Information_campaigns</th>\n",
       "      <th>Testing_policy</th>\n",
       "      <th>Contact_tracing</th>\n",
       "      <th>Stringency_index</th>\n",
       "    </tr>\n",
       "  </thead>\n",
       "  <tbody>\n",
       "    <tr>\n",
       "      <th>0</th>\n",
       "      <td>2020-03-15</td>\n",
       "      <td>Korea, South</td>\n",
       "      <td>0.000172927</td>\n",
       "      <td>0.000164328</td>\n",
       "      <td>0.0035558</td>\n",
       "      <td>0.0116591</td>\n",
       "      <td>0</td>\n",
       "      <td>1521</td>\n",
       "      <td>70</td>\n",
       "      <td>21</td>\n",
       "      <td>...</td>\n",
       "      <td>2</td>\n",
       "      <td>2</td>\n",
       "      <td>0</td>\n",
       "      <td>1</td>\n",
       "      <td>1</td>\n",
       "      <td>3</td>\n",
       "      <td>2</td>\n",
       "      <td>3</td>\n",
       "      <td>2</td>\n",
       "      <td>55.56</td>\n",
       "    </tr>\n",
       "    <tr>\n",
       "      <th>1</th>\n",
       "      <td>2020-03-16</td>\n",
       "      <td>Korea, South</td>\n",
       "      <td>0.000172927</td>\n",
       "      <td>0.000164328</td>\n",
       "      <td>0.0035558</td>\n",
       "      <td>0.0116591</td>\n",
       "      <td>0</td>\n",
       "      <td>1521</td>\n",
       "      <td>70</td>\n",
       "      <td>21</td>\n",
       "      <td>...</td>\n",
       "      <td>2</td>\n",
       "      <td>2</td>\n",
       "      <td>0</td>\n",
       "      <td>1</td>\n",
       "      <td>1</td>\n",
       "      <td>3</td>\n",
       "      <td>2</td>\n",
       "      <td>3</td>\n",
       "      <td>2</td>\n",
       "      <td>55.56</td>\n",
       "    </tr>\n",
       "    <tr>\n",
       "      <th>2</th>\n",
       "      <td>2020-03-17</td>\n",
       "      <td>Korea, South</td>\n",
       "      <td>0.000172927</td>\n",
       "      <td>0.000164328</td>\n",
       "      <td>0.0035558</td>\n",
       "      <td>0.0116591</td>\n",
       "      <td>0</td>\n",
       "      <td>1521</td>\n",
       "      <td>70</td>\n",
       "      <td>21</td>\n",
       "      <td>...</td>\n",
       "      <td>2</td>\n",
       "      <td>2</td>\n",
       "      <td>0</td>\n",
       "      <td>1</td>\n",
       "      <td>1</td>\n",
       "      <td>3</td>\n",
       "      <td>2</td>\n",
       "      <td>3</td>\n",
       "      <td>2</td>\n",
       "      <td>55.56</td>\n",
       "    </tr>\n",
       "    <tr>\n",
       "      <th>3</th>\n",
       "      <td>2020-03-18</td>\n",
       "      <td>Korea, South</td>\n",
       "      <td>0.000172927</td>\n",
       "      <td>0.000164328</td>\n",
       "      <td>0.0035558</td>\n",
       "      <td>0.0116591</td>\n",
       "      <td>0</td>\n",
       "      <td>1521</td>\n",
       "      <td>70</td>\n",
       "      <td>21</td>\n",
       "      <td>...</td>\n",
       "      <td>2</td>\n",
       "      <td>2</td>\n",
       "      <td>0</td>\n",
       "      <td>1</td>\n",
       "      <td>1</td>\n",
       "      <td>3</td>\n",
       "      <td>2</td>\n",
       "      <td>3</td>\n",
       "      <td>2</td>\n",
       "      <td>55.56</td>\n",
       "    </tr>\n",
       "    <tr>\n",
       "      <th>4</th>\n",
       "      <td>2020-03-19</td>\n",
       "      <td>Korea, South</td>\n",
       "      <td>0.000172927</td>\n",
       "      <td>0.000164328</td>\n",
       "      <td>0.0035558</td>\n",
       "      <td>0.0116591</td>\n",
       "      <td>0</td>\n",
       "      <td>1521</td>\n",
       "      <td>70</td>\n",
       "      <td>21</td>\n",
       "      <td>...</td>\n",
       "      <td>2</td>\n",
       "      <td>2</td>\n",
       "      <td>0</td>\n",
       "      <td>1</td>\n",
       "      <td>1</td>\n",
       "      <td>3</td>\n",
       "      <td>2</td>\n",
       "      <td>3</td>\n",
       "      <td>2</td>\n",
       "      <td>55.56</td>\n",
       "    </tr>\n",
       "  </tbody>\n",
       "</table>\n",
       "<p>5 rows × 23 columns</p>\n",
       "</div>"
      ],
      "text/plain": [
       "        Date       Country        theta        kappa        rho      sigma  \\\n",
       "0 2020-03-15  Korea, South  0.000172927  0.000164328  0.0035558  0.0116591   \n",
       "1 2020-03-16  Korea, South  0.000172927  0.000164328  0.0035558  0.0116591   \n",
       "2 2020-03-17  Korea, South  0.000172927  0.000164328  0.0035558  0.0116591   \n",
       "3 2020-03-18  Korea, South  0.000172927  0.000164328  0.0035558  0.0116591   \n",
       "4 2020-03-19  Korea, South  0.000172927  0.000164328  0.0035558  0.0116591   \n",
       "\n",
       "  alpha1 [-] 1/alpha2 [day] 1/beta [day] 1/gamma [day]  ... Cancel_events  \\\n",
       "0          0           1521           70            21  ...             2   \n",
       "1          0           1521           70            21  ...             2   \n",
       "2          0           1521           70            21  ...             2   \n",
       "3          0           1521           70            21  ...             2   \n",
       "4          0           1521           70            21  ...             2   \n",
       "\n",
       "   Gatherings_restrictions  Transport_closing  Stay_home_restrictions  \\\n",
       "0                        2                  0                       1   \n",
       "1                        2                  0                       1   \n",
       "2                        2                  0                       1   \n",
       "3                        2                  0                       1   \n",
       "4                        2                  0                       1   \n",
       "\n",
       "   Internal_movement_restrictions  International_movement_restrictions  \\\n",
       "0                               1                                    3   \n",
       "1                               1                                    3   \n",
       "2                               1                                    3   \n",
       "3                               1                                    3   \n",
       "4                               1                                    3   \n",
       "\n",
       "   Information_campaigns  Testing_policy  Contact_tracing  Stringency_index  \n",
       "0                      2               3                2             55.56  \n",
       "1                      2               3                2             55.56  \n",
       "2                      2               3                2             55.56  \n",
       "3                      2               3                2             55.56  \n",
       "4                      2               3                2             55.56  \n",
       "\n",
       "[5 rows x 23 columns]"
      ]
     },
     "execution_count": 13,
     "metadata": {},
     "output_type": "execute_result"
    }
   ],
   "source": [
    "# All parameter/day parameter/Rt/OxCGRT\n",
    "analyser.track().head()"
   ]
  },
  {
   "cell_type": "markdown",
   "metadata": {},
   "source": [
    "### $Rt$: Reprodcution number $\\mathrm{[-]}$"
   ]
  },
  {
   "cell_type": "code",
   "execution_count": 14,
   "metadata": {
    "collapsed": false
   },
   "outputs": [
    {
     "data": {
      "image/png": "[encoded data removed]",
      "text/plain": [
       "<Figure size 648x432 with 1 Axes>"
      ]
     },
     "metadata": {},
     "output_type": "display_data"
    },
    {
     "data": {
      "text/html": [
       "<div>\n",
       "<style scoped>\n",
       "    .dataframe tbody tr th:only-of-type {\n",
       "        vertical-align: middle;\n",
       "    }\n",
       "\n",
       "    .dataframe tbody tr th {\n",
       "        vertical-align: top;\n",
       "    }\n",
       "\n",
       "    .dataframe thead th {\n",
       "        text-align: right;\n",
       "    }\n",
       "</style>\n",
       "<table border=\"1\" class=\"dataframe\">\n",
       "  <thead>\n",
       "    <tr style=\"text-align: right;\">\n",
       "      <th>Country</th>\n",
       "      <th>Bahrain</th>\n",
       "      <th>France</th>\n",
       "      <th>Georgia</th>\n",
       "      <th>Guinea</th>\n",
       "      <th>Iran</th>\n",
       "      <th>Italy</th>\n",
       "      <th>Korea, South</th>\n",
       "      <th>Kuwait</th>\n",
       "      <th>Mexico</th>\n",
       "      <th>Moldova</th>\n",
       "      <th>Myanmar</th>\n",
       "      <th>Poland</th>\n",
       "      <th>Portugal</th>\n",
       "      <th>Russia</th>\n",
       "      <th>Senegal</th>\n",
       "      <th>Turkey</th>\n",
       "      <th>United Arab Emirates</th>\n",
       "      <th>United States</th>\n",
       "    </tr>\n",
       "    <tr>\n",
       "      <th>Date</th>\n",
       "      <th></th>\n",
       "      <th></th>\n",
       "      <th></th>\n",
       "      <th></th>\n",
       "      <th></th>\n",
       "      <th></th>\n",
       "      <th></th>\n",
       "      <th></th>\n",
       "      <th></th>\n",
       "      <th></th>\n",
       "      <th></th>\n",
       "      <th></th>\n",
       "      <th></th>\n",
       "      <th></th>\n",
       "      <th></th>\n",
       "      <th></th>\n",
       "      <th></th>\n",
       "      <th></th>\n",
       "    </tr>\n",
       "  </thead>\n",
       "  <tbody>\n",
       "    <tr>\n",
       "      <th>2020-08-24</th>\n",
       "      <td>0.95</td>\n",
       "      <td>13.39</td>\n",
       "      <td>1.37</td>\n",
       "      <td>1.55</td>\n",
       "      <td>1.22</td>\n",
       "      <td>1.45</td>\n",
       "      <td>6.73</td>\n",
       "      <td>1.06</td>\n",
       "      <td>0.92</td>\n",
       "      <td>1.74</td>\n",
       "      <td>12.62</td>\n",
       "      <td>1.44</td>\n",
       "      <td>1.18</td>\n",
       "      <td>1.16</td>\n",
       "      <td>1.5</td>\n",
       "      <td>1.38</td>\n",
       "      <td>0.82</td>\n",
       "      <td>2.54</td>\n",
       "    </tr>\n",
       "    <tr>\n",
       "      <th>2020-08-25</th>\n",
       "      <td>0.95</td>\n",
       "      <td>13.39</td>\n",
       "      <td>1.37</td>\n",
       "      <td>1.55</td>\n",
       "      <td>1.22</td>\n",
       "      <td>1.45</td>\n",
       "      <td>6.73</td>\n",
       "      <td>1.06</td>\n",
       "      <td>0.92</td>\n",
       "      <td>1.74</td>\n",
       "      <td>12.62</td>\n",
       "      <td>1.44</td>\n",
       "      <td>1.18</td>\n",
       "      <td>1.16</td>\n",
       "      <td>1.5</td>\n",
       "      <td>1.38</td>\n",
       "      <td>0.82</td>\n",
       "      <td>2.54</td>\n",
       "    </tr>\n",
       "    <tr>\n",
       "      <th>2020-08-26</th>\n",
       "      <td>0.95</td>\n",
       "      <td>13.39</td>\n",
       "      <td>1.37</td>\n",
       "      <td>1.55</td>\n",
       "      <td>1.22</td>\n",
       "      <td>1.45</td>\n",
       "      <td>6.73</td>\n",
       "      <td>1.06</td>\n",
       "      <td>0.92</td>\n",
       "      <td>1.74</td>\n",
       "      <td>12.62</td>\n",
       "      <td>1.44</td>\n",
       "      <td>1.18</td>\n",
       "      <td>1.16</td>\n",
       "      <td>1.5</td>\n",
       "      <td>1.38</td>\n",
       "      <td>0.82</td>\n",
       "      <td>2.54</td>\n",
       "    </tr>\n",
       "    <tr>\n",
       "      <th>2020-08-27</th>\n",
       "      <td>0.95</td>\n",
       "      <td>13.39</td>\n",
       "      <td>1.37</td>\n",
       "      <td>1.55</td>\n",
       "      <td>1.22</td>\n",
       "      <td>1.45</td>\n",
       "      <td>6.73</td>\n",
       "      <td>1.06</td>\n",
       "      <td>0.92</td>\n",
       "      <td>1.74</td>\n",
       "      <td>12.62</td>\n",
       "      <td>1.44</td>\n",
       "      <td>1.18</td>\n",
       "      <td>1.16</td>\n",
       "      <td>1.5</td>\n",
       "      <td>1.38</td>\n",
       "      <td>0.82</td>\n",
       "      <td>2.54</td>\n",
       "    </tr>\n",
       "    <tr>\n",
       "      <th>2020-08-28</th>\n",
       "      <td>0.95</td>\n",
       "      <td>13.39</td>\n",
       "      <td>1.37</td>\n",
       "      <td>1.55</td>\n",
       "      <td>1.22</td>\n",
       "      <td>1.45</td>\n",
       "      <td>6.73</td>\n",
       "      <td>1.06</td>\n",
       "      <td>0.92</td>\n",
       "      <td>1.74</td>\n",
       "      <td>12.62</td>\n",
       "      <td>1.44</td>\n",
       "      <td>1.18</td>\n",
       "      <td>1.16</td>\n",
       "      <td>1.5</td>\n",
       "      <td>1.38</td>\n",
       "      <td>0.82</td>\n",
       "      <td>2.54</td>\n",
       "    </tr>\n",
       "  </tbody>\n",
       "</table>\n",
       "</div>"
      ],
      "text/plain": [
       "Country     Bahrain  France  Georgia  Guinea  Iran  Italy  Korea, South  \\\n",
       "Date                                                                      \n",
       "2020-08-24     0.95   13.39     1.37    1.55  1.22   1.45          6.73   \n",
       "2020-08-25     0.95   13.39     1.37    1.55  1.22   1.45          6.73   \n",
       "2020-08-26     0.95   13.39     1.37    1.55  1.22   1.45          6.73   \n",
       "2020-08-27     0.95   13.39     1.37    1.55  1.22   1.45          6.73   \n",
       "2020-08-28     0.95   13.39     1.37    1.55  1.22   1.45          6.73   \n",
       "\n",
       "Country     Kuwait  Mexico  Moldova  Myanmar  Poland  Portugal  Russia  \\\n",
       "Date                                                                     \n",
       "2020-08-24    1.06    0.92     1.74    12.62    1.44      1.18    1.16   \n",
       "2020-08-25    1.06    0.92     1.74    12.62    1.44      1.18    1.16   \n",
       "2020-08-26    1.06    0.92     1.74    12.62    1.44      1.18    1.16   \n",
       "2020-08-27    1.06    0.92     1.74    12.62    1.44      1.18    1.16   \n",
       "2020-08-28    1.06    0.92     1.74    12.62    1.44      1.18    1.16   \n",
       "\n",
       "Country     Senegal  Turkey  United Arab Emirates  United States  \n",
       "Date                                                              \n",
       "2020-08-24      1.5    1.38                  0.82           2.54  \n",
       "2020-08-25      1.5    1.38                  0.82           2.54  \n",
       "2020-08-26      1.5    1.38                  0.82           2.54  \n",
       "2020-08-27      1.5    1.38                  0.82           2.54  \n",
       "2020-08-28      1.5    1.38                  0.82           2.54  "
      ]
     },
     "execution_count": 14,
     "metadata": {},
     "output_type": "execute_result"
    }
   ],
   "source": [
    "analyser.param_history(\"Rt\", roll_window=None).tail()"
   ]
  },
  {
   "cell_type": "markdown",
   "metadata": {},
   "source": [
    "### $\\rho$: Effective contact rate $\\mathrm{[-]}$"
   ]
  },
  {
   "cell_type": "code",
   "execution_count": 15,
   "metadata": {
    "collapsed": false
   },
   "outputs": [
    {
     "data": {
      "image/png": "[encoded data removed]",
      "text/plain": [
       "<Figure size 648x432 with 1 Axes>"
      ]
     },
     "metadata": {},
     "output_type": "display_data"
    },
    {
     "data": {
      "text/html": [
       "<div>\n",
       "<style scoped>\n",
       "    .dataframe tbody tr th:only-of-type {\n",
       "        vertical-align: middle;\n",
       "    }\n",
       "\n",
       "    .dataframe tbody tr th {\n",
       "        vertical-align: top;\n",
       "    }\n",
       "\n",
       "    .dataframe thead th {\n",
       "        text-align: right;\n",
       "    }\n",
       "</style>\n",
       "<table border=\"1\" class=\"dataframe\">\n",
       "  <thead>\n",
       "    <tr style=\"text-align: right;\">\n",
       "      <th>Country</th>\n",
       "      <th>Bahrain</th>\n",
       "      <th>France</th>\n",
       "      <th>Georgia</th>\n",
       "      <th>Guinea</th>\n",
       "      <th>Iran</th>\n",
       "      <th>Italy</th>\n",
       "      <th>Korea, South</th>\n",
       "      <th>Kuwait</th>\n",
       "      <th>Mexico</th>\n",
       "      <th>Moldova</th>\n",
       "      <th>Myanmar</th>\n",
       "      <th>Poland</th>\n",
       "      <th>Portugal</th>\n",
       "      <th>Russia</th>\n",
       "      <th>Senegal</th>\n",
       "      <th>Turkey</th>\n",
       "      <th>United Arab Emirates</th>\n",
       "      <th>United States</th>\n",
       "    </tr>\n",
       "    <tr>\n",
       "      <th>Date</th>\n",
       "      <th></th>\n",
       "      <th></th>\n",
       "      <th></th>\n",
       "      <th></th>\n",
       "      <th></th>\n",
       "      <th></th>\n",
       "      <th></th>\n",
       "      <th></th>\n",
       "      <th></th>\n",
       "      <th></th>\n",
       "      <th></th>\n",
       "      <th></th>\n",
       "      <th></th>\n",
       "      <th></th>\n",
       "      <th></th>\n",
       "      <th></th>\n",
       "      <th></th>\n",
       "      <th></th>\n",
       "    </tr>\n",
       "  </thead>\n",
       "  <tbody>\n",
       "    <tr>\n",
       "      <th>2020-08-24</th>\n",
       "      <td>0.03062</td>\n",
       "      <td>0.006679</td>\n",
       "      <td>0.010016</td>\n",
       "      <td>0.018648</td>\n",
       "      <td>0.02045</td>\n",
       "      <td>0.00692</td>\n",
       "      <td>0.02988</td>\n",
       "      <td>0.020094</td>\n",
       "      <td>0.036597</td>\n",
       "      <td>0.012168</td>\n",
       "      <td>0.040039</td>\n",
       "      <td>0.011401</td>\n",
       "      <td>0.003441</td>\n",
       "      <td>0.001278</td>\n",
       "      <td>0.008562</td>\n",
       "      <td>0.023616</td>\n",
       "      <td>0.010943</td>\n",
       "      <td>0.003841</td>\n",
       "    </tr>\n",
       "    <tr>\n",
       "      <th>2020-08-25</th>\n",
       "      <td>0.03062</td>\n",
       "      <td>0.006679</td>\n",
       "      <td>0.010016</td>\n",
       "      <td>0.018648</td>\n",
       "      <td>0.02045</td>\n",
       "      <td>0.00692</td>\n",
       "      <td>0.02988</td>\n",
       "      <td>0.020094</td>\n",
       "      <td>0.036597</td>\n",
       "      <td>0.012168</td>\n",
       "      <td>0.040039</td>\n",
       "      <td>0.011401</td>\n",
       "      <td>0.003441</td>\n",
       "      <td>0.001278</td>\n",
       "      <td>0.008562</td>\n",
       "      <td>0.023616</td>\n",
       "      <td>0.010943</td>\n",
       "      <td>0.003841</td>\n",
       "    </tr>\n",
       "    <tr>\n",
       "      <th>2020-08-26</th>\n",
       "      <td>0.03062</td>\n",
       "      <td>0.006679</td>\n",
       "      <td>0.010016</td>\n",
       "      <td>0.018648</td>\n",
       "      <td>0.02045</td>\n",
       "      <td>0.00692</td>\n",
       "      <td>0.02988</td>\n",
       "      <td>0.020094</td>\n",
       "      <td>0.036597</td>\n",
       "      <td>0.012168</td>\n",
       "      <td>0.040039</td>\n",
       "      <td>0.011401</td>\n",
       "      <td>0.003441</td>\n",
       "      <td>0.001278</td>\n",
       "      <td>0.008562</td>\n",
       "      <td>0.023616</td>\n",
       "      <td>0.010943</td>\n",
       "      <td>0.003841</td>\n",
       "    </tr>\n",
       "    <tr>\n",
       "      <th>2020-08-27</th>\n",
       "      <td>0.03062</td>\n",
       "      <td>0.006679</td>\n",
       "      <td>0.010016</td>\n",
       "      <td>0.018648</td>\n",
       "      <td>0.02045</td>\n",
       "      <td>0.00692</td>\n",
       "      <td>0.02988</td>\n",
       "      <td>0.020094</td>\n",
       "      <td>0.036597</td>\n",
       "      <td>0.012168</td>\n",
       "      <td>0.040039</td>\n",
       "      <td>0.011401</td>\n",
       "      <td>0.003441</td>\n",
       "      <td>0.001278</td>\n",
       "      <td>0.008562</td>\n",
       "      <td>0.023616</td>\n",
       "      <td>0.010943</td>\n",
       "      <td>0.003841</td>\n",
       "    </tr>\n",
       "    <tr>\n",
       "      <th>2020-08-28</th>\n",
       "      <td>0.03062</td>\n",
       "      <td>0.006679</td>\n",
       "      <td>0.010016</td>\n",
       "      <td>0.018648</td>\n",
       "      <td>0.02045</td>\n",
       "      <td>0.00692</td>\n",
       "      <td>0.02988</td>\n",
       "      <td>0.020094</td>\n",
       "      <td>0.036597</td>\n",
       "      <td>0.012168</td>\n",
       "      <td>0.040039</td>\n",
       "      <td>0.011401</td>\n",
       "      <td>0.003441</td>\n",
       "      <td>0.001278</td>\n",
       "      <td>0.008562</td>\n",
       "      <td>0.023616</td>\n",
       "      <td>0.010943</td>\n",
       "      <td>0.003841</td>\n",
       "    </tr>\n",
       "  </tbody>\n",
       "</table>\n",
       "</div>"
      ],
      "text/plain": [
       "Country     Bahrain    France   Georgia    Guinea     Iran    Italy  \\\n",
       "Date                                                                  \n",
       "2020-08-24  0.03062  0.006679  0.010016  0.018648  0.02045  0.00692   \n",
       "2020-08-25  0.03062  0.006679  0.010016  0.018648  0.02045  0.00692   \n",
       "2020-08-26  0.03062  0.006679  0.010016  0.018648  0.02045  0.00692   \n",
       "2020-08-27  0.03062  0.006679  0.010016  0.018648  0.02045  0.00692   \n",
       "2020-08-28  0.03062  0.006679  0.010016  0.018648  0.02045  0.00692   \n",
       "\n",
       "Country     Korea, South    Kuwait    Mexico   Moldova   Myanmar    Poland  \\\n",
       "Date                                                                         \n",
       "2020-08-24       0.02988  0.020094  0.036597  0.012168  0.040039  0.011401   \n",
       "2020-08-25       0.02988  0.020094  0.036597  0.012168  0.040039  0.011401   \n",
       "2020-08-26       0.02988  0.020094  0.036597  0.012168  0.040039  0.011401   \n",
       "2020-08-27       0.02988  0.020094  0.036597  0.012168  0.040039  0.011401   \n",
       "2020-08-28       0.02988  0.020094  0.036597  0.012168  0.040039  0.011401   \n",
       "\n",
       "Country     Portugal    Russia   Senegal    Turkey  United Arab Emirates  \\\n",
       "Date                                                                       \n",
       "2020-08-24  0.003441  0.001278  0.008562  0.023616              0.010943   \n",
       "2020-08-25  0.003441  0.001278  0.008562  0.023616              0.010943   \n",
       "2020-08-26  0.003441  0.001278  0.008562  0.023616              0.010943   \n",
       "2020-08-27  0.003441  0.001278  0.008562  0.023616              0.010943   \n",
       "2020-08-28  0.003441  0.001278  0.008562  0.023616              0.010943   \n",
       "\n",
       "Country     United States  \n",
       "Date                       \n",
       "2020-08-24       0.003841  \n",
       "2020-08-25       0.003841  \n",
       "2020-08-26       0.003841  \n",
       "2020-08-27       0.003841  \n",
       "2020-08-28       0.003841  "
      ]
     },
     "execution_count": 15,
     "metadata": {},
     "output_type": "execute_result"
    }
   ],
   "source": [
    "analyser.param_history(\"rho\", roll_window=None).tail()"
   ]
  },
  {
   "cell_type": "markdown",
   "metadata": {},
   "source": [
    "### $\\sigma$: Recovery rate $\\mathrm{[-]}$"
   ]
  },
  {
   "cell_type": "code",
   "execution_count": 16,
   "metadata": {
    "collapsed": false
   },
   "outputs": [
    {
     "data": {
      "image/png": "[encoded data removed]",
      "text/plain": [
       "<Figure size 648x432 with 1 Axes>"
      ]
     },
     "metadata": {},
     "output_type": "display_data"
    },
    {
     "data": {
      "text/html": [
       "<div>\n",
       "<style scoped>\n",
       "    .dataframe tbody tr th:only-of-type {\n",
       "        vertical-align: middle;\n",
       "    }\n",
       "\n",
       "    .dataframe tbody tr th {\n",
       "        vertical-align: top;\n",
       "    }\n",
       "\n",
       "    .dataframe thead th {\n",
       "        text-align: right;\n",
       "    }\n",
       "</style>\n",
       "<table border=\"1\" class=\"dataframe\">\n",
       "  <thead>\n",
       "    <tr style=\"text-align: right;\">\n",
       "      <th>Country</th>\n",
       "      <th>Bahrain</th>\n",
       "      <th>France</th>\n",
       "      <th>Georgia</th>\n",
       "      <th>Guinea</th>\n",
       "      <th>Iran</th>\n",
       "      <th>Italy</th>\n",
       "      <th>Korea, South</th>\n",
       "      <th>Kuwait</th>\n",
       "      <th>Mexico</th>\n",
       "      <th>Moldova</th>\n",
       "      <th>Myanmar</th>\n",
       "      <th>Poland</th>\n",
       "      <th>Portugal</th>\n",
       "      <th>Russia</th>\n",
       "      <th>Senegal</th>\n",
       "      <th>Turkey</th>\n",
       "      <th>United Arab Emirates</th>\n",
       "      <th>United States</th>\n",
       "    </tr>\n",
       "    <tr>\n",
       "      <th>Date</th>\n",
       "      <th></th>\n",
       "      <th></th>\n",
       "      <th></th>\n",
       "      <th></th>\n",
       "      <th></th>\n",
       "      <th></th>\n",
       "      <th></th>\n",
       "      <th></th>\n",
       "      <th></th>\n",
       "      <th></th>\n",
       "      <th></th>\n",
       "      <th></th>\n",
       "      <th></th>\n",
       "      <th></th>\n",
       "      <th></th>\n",
       "      <th></th>\n",
       "      <th></th>\n",
       "      <th></th>\n",
       "    </tr>\n",
       "  </thead>\n",
       "  <tbody>\n",
       "    <tr>\n",
       "      <th>2020-08-24</th>\n",
       "      <td>0.032166</td>\n",
       "      <td>0.000452</td>\n",
       "      <td>0.007214</td>\n",
       "      <td>0.012044</td>\n",
       "      <td>0.015666</td>\n",
       "      <td>0.004592</td>\n",
       "      <td>0.004359</td>\n",
       "      <td>0.01892</td>\n",
       "      <td>0.036165</td>\n",
       "      <td>0.00684</td>\n",
       "      <td>0.003134</td>\n",
       "      <td>0.00778</td>\n",
       "      <td>0.002878</td>\n",
       "      <td>0.001047</td>\n",
       "      <td>0.005464</td>\n",
       "      <td>0.016799</td>\n",
       "      <td>0.013385</td>\n",
       "      <td>0.00145</td>\n",
       "    </tr>\n",
       "    <tr>\n",
       "      <th>2020-08-25</th>\n",
       "      <td>0.032166</td>\n",
       "      <td>0.000452</td>\n",
       "      <td>0.007214</td>\n",
       "      <td>0.012044</td>\n",
       "      <td>0.015666</td>\n",
       "      <td>0.004592</td>\n",
       "      <td>0.004359</td>\n",
       "      <td>0.01892</td>\n",
       "      <td>0.036165</td>\n",
       "      <td>0.00684</td>\n",
       "      <td>0.003134</td>\n",
       "      <td>0.00778</td>\n",
       "      <td>0.002878</td>\n",
       "      <td>0.001047</td>\n",
       "      <td>0.005464</td>\n",
       "      <td>0.016799</td>\n",
       "      <td>0.013385</td>\n",
       "      <td>0.00145</td>\n",
       "    </tr>\n",
       "    <tr>\n",
       "      <th>2020-08-26</th>\n",
       "      <td>0.032166</td>\n",
       "      <td>0.000452</td>\n",
       "      <td>0.007214</td>\n",
       "      <td>0.012044</td>\n",
       "      <td>0.015666</td>\n",
       "      <td>0.004592</td>\n",
       "      <td>0.004359</td>\n",
       "      <td>0.01892</td>\n",
       "      <td>0.036165</td>\n",
       "      <td>0.00684</td>\n",
       "      <td>0.003134</td>\n",
       "      <td>0.00778</td>\n",
       "      <td>0.002878</td>\n",
       "      <td>0.001047</td>\n",
       "      <td>0.005464</td>\n",
       "      <td>0.016799</td>\n",
       "      <td>0.013385</td>\n",
       "      <td>0.00145</td>\n",
       "    </tr>\n",
       "    <tr>\n",
       "      <th>2020-08-27</th>\n",
       "      <td>0.032166</td>\n",
       "      <td>0.000452</td>\n",
       "      <td>0.007214</td>\n",
       "      <td>0.012044</td>\n",
       "      <td>0.015666</td>\n",
       "      <td>0.004592</td>\n",
       "      <td>0.004359</td>\n",
       "      <td>0.01892</td>\n",
       "      <td>0.036165</td>\n",
       "      <td>0.00684</td>\n",
       "      <td>0.003134</td>\n",
       "      <td>0.00778</td>\n",
       "      <td>0.002878</td>\n",
       "      <td>0.001047</td>\n",
       "      <td>0.005464</td>\n",
       "      <td>0.016799</td>\n",
       "      <td>0.013385</td>\n",
       "      <td>0.00145</td>\n",
       "    </tr>\n",
       "    <tr>\n",
       "      <th>2020-08-28</th>\n",
       "      <td>0.032166</td>\n",
       "      <td>0.000452</td>\n",
       "      <td>0.007214</td>\n",
       "      <td>0.012044</td>\n",
       "      <td>0.015666</td>\n",
       "      <td>0.004592</td>\n",
       "      <td>0.004359</td>\n",
       "      <td>0.01892</td>\n",
       "      <td>0.036165</td>\n",
       "      <td>0.00684</td>\n",
       "      <td>0.003134</td>\n",
       "      <td>0.00778</td>\n",
       "      <td>0.002878</td>\n",
       "      <td>0.001047</td>\n",
       "      <td>0.005464</td>\n",
       "      <td>0.016799</td>\n",
       "      <td>0.013385</td>\n",
       "      <td>0.00145</td>\n",
       "    </tr>\n",
       "  </tbody>\n",
       "</table>\n",
       "</div>"
      ],
      "text/plain": [
       "Country      Bahrain    France   Georgia    Guinea      Iran     Italy  \\\n",
       "Date                                                                     \n",
       "2020-08-24  0.032166  0.000452  0.007214  0.012044  0.015666  0.004592   \n",
       "2020-08-25  0.032166  0.000452  0.007214  0.012044  0.015666  0.004592   \n",
       "2020-08-26  0.032166  0.000452  0.007214  0.012044  0.015666  0.004592   \n",
       "2020-08-27  0.032166  0.000452  0.007214  0.012044  0.015666  0.004592   \n",
       "2020-08-28  0.032166  0.000452  0.007214  0.012044  0.015666  0.004592   \n",
       "\n",
       "Country     Korea, South   Kuwait    Mexico  Moldova   Myanmar   Poland  \\\n",
       "Date                                                                      \n",
       "2020-08-24      0.004359  0.01892  0.036165  0.00684  0.003134  0.00778   \n",
       "2020-08-25      0.004359  0.01892  0.036165  0.00684  0.003134  0.00778   \n",
       "2020-08-26      0.004359  0.01892  0.036165  0.00684  0.003134  0.00778   \n",
       "2020-08-27      0.004359  0.01892  0.036165  0.00684  0.003134  0.00778   \n",
       "2020-08-28      0.004359  0.01892  0.036165  0.00684  0.003134  0.00778   \n",
       "\n",
       "Country     Portugal    Russia   Senegal    Turkey  United Arab Emirates  \\\n",
       "Date                                                                       \n",
       "2020-08-24  0.002878  0.001047  0.005464  0.016799              0.013385   \n",
       "2020-08-25  0.002878  0.001047  0.005464  0.016799              0.013385   \n",
       "2020-08-26  0.002878  0.001047  0.005464  0.016799              0.013385   \n",
       "2020-08-27  0.002878  0.001047  0.005464  0.016799              0.013385   \n",
       "2020-08-28  0.002878  0.001047  0.005464  0.016799              0.013385   \n",
       "\n",
       "Country     United States  \n",
       "Date                       \n",
       "2020-08-24        0.00145  \n",
       "2020-08-25        0.00145  \n",
       "2020-08-26        0.00145  \n",
       "2020-08-27        0.00145  \n",
       "2020-08-28        0.00145  "
      ]
     },
     "execution_count": 16,
     "metadata": {},
     "output_type": "execute_result"
    }
   ],
   "source": [
    "analyser.param_history(\"sigma\", roll_window=None).tail()"
   ]
  },
  {
   "cell_type": "markdown",
   "metadata": {},
   "source": [
    "### $\\kappa$: Mortality rate of infected cases $\\mathrm{[-]}$"
   ]
  },
  {
   "cell_type": "code",
   "execution_count": 17,
   "metadata": {
    "collapsed": false
   },
   "outputs": [
    {
     "data": {
      "image/png": "[encoded data removed]",
      "text/plain": [
       "<Figure size 648x432 with 1 Axes>"
      ]
     },
     "metadata": {},
     "output_type": "display_data"
    },
    {
     "data": {
      "text/html": [
       "<div>\n",
       "<style scoped>\n",
       "    .dataframe tbody tr th:only-of-type {\n",
       "        vertical-align: middle;\n",
       "    }\n",
       "\n",
       "    .dataframe tbody tr th {\n",
       "        vertical-align: top;\n",
       "    }\n",
       "\n",
       "    .dataframe thead th {\n",
       "        text-align: right;\n",
       "    }\n",
       "</style>\n",
       "<table border=\"1\" class=\"dataframe\">\n",
       "  <thead>\n",
       "    <tr style=\"text-align: right;\">\n",
       "      <th>Country</th>\n",
       "      <th>Bahrain</th>\n",
       "      <th>France</th>\n",
       "      <th>Georgia</th>\n",
       "      <th>Guinea</th>\n",
       "      <th>Iran</th>\n",
       "      <th>Italy</th>\n",
       "      <th>Korea, South</th>\n",
       "      <th>Kuwait</th>\n",
       "      <th>Mexico</th>\n",
       "      <th>Moldova</th>\n",
       "      <th>Myanmar</th>\n",
       "      <th>Poland</th>\n",
       "      <th>Portugal</th>\n",
       "      <th>Russia</th>\n",
       "      <th>Senegal</th>\n",
       "      <th>Turkey</th>\n",
       "      <th>United Arab Emirates</th>\n",
       "      <th>United States</th>\n",
       "    </tr>\n",
       "    <tr>\n",
       "      <th>Date</th>\n",
       "      <th></th>\n",
       "      <th></th>\n",
       "      <th></th>\n",
       "      <th></th>\n",
       "      <th></th>\n",
       "      <th></th>\n",
       "      <th></th>\n",
       "      <th></th>\n",
       "      <th></th>\n",
       "      <th></th>\n",
       "      <th></th>\n",
       "      <th></th>\n",
       "      <th></th>\n",
       "      <th></th>\n",
       "      <th></th>\n",
       "      <th></th>\n",
       "      <th></th>\n",
       "      <th></th>\n",
       "    </tr>\n",
       "  </thead>\n",
       "  <tbody>\n",
       "    <tr>\n",
       "      <th>2020-08-24</th>\n",
       "      <td>0.000071</td>\n",
       "      <td>0.000046</td>\n",
       "      <td>0.000079</td>\n",
       "      <td>0.000002</td>\n",
       "      <td>0.000458</td>\n",
       "      <td>0.000192</td>\n",
       "      <td>0.000079</td>\n",
       "      <td>0.000026</td>\n",
       "      <td>0.000082</td>\n",
       "      <td>0.000168</td>\n",
       "      <td>0.000037</td>\n",
       "      <td>0.00015</td>\n",
       "      <td>0.000036</td>\n",
       "      <td>0.00005</td>\n",
       "      <td>0.000255</td>\n",
       "      <td>0.000361</td>\n",
       "      <td>0.000024</td>\n",
       "      <td>0.00006</td>\n",
       "    </tr>\n",
       "    <tr>\n",
       "      <th>2020-08-25</th>\n",
       "      <td>0.000071</td>\n",
       "      <td>0.000046</td>\n",
       "      <td>0.000079</td>\n",
       "      <td>0.000002</td>\n",
       "      <td>0.000458</td>\n",
       "      <td>0.000192</td>\n",
       "      <td>0.000079</td>\n",
       "      <td>0.000026</td>\n",
       "      <td>0.000082</td>\n",
       "      <td>0.000168</td>\n",
       "      <td>0.000037</td>\n",
       "      <td>0.00015</td>\n",
       "      <td>0.000036</td>\n",
       "      <td>0.00005</td>\n",
       "      <td>0.000255</td>\n",
       "      <td>0.000361</td>\n",
       "      <td>0.000024</td>\n",
       "      <td>0.00006</td>\n",
       "    </tr>\n",
       "    <tr>\n",
       "      <th>2020-08-26</th>\n",
       "      <td>0.000071</td>\n",
       "      <td>0.000046</td>\n",
       "      <td>0.000079</td>\n",
       "      <td>0.000002</td>\n",
       "      <td>0.000458</td>\n",
       "      <td>0.000192</td>\n",
       "      <td>0.000079</td>\n",
       "      <td>0.000026</td>\n",
       "      <td>0.000082</td>\n",
       "      <td>0.000168</td>\n",
       "      <td>0.000037</td>\n",
       "      <td>0.00015</td>\n",
       "      <td>0.000036</td>\n",
       "      <td>0.00005</td>\n",
       "      <td>0.000255</td>\n",
       "      <td>0.000361</td>\n",
       "      <td>0.000024</td>\n",
       "      <td>0.00006</td>\n",
       "    </tr>\n",
       "    <tr>\n",
       "      <th>2020-08-27</th>\n",
       "      <td>0.000071</td>\n",
       "      <td>0.000046</td>\n",
       "      <td>0.000079</td>\n",
       "      <td>0.000002</td>\n",
       "      <td>0.000458</td>\n",
       "      <td>0.000192</td>\n",
       "      <td>0.000079</td>\n",
       "      <td>0.000026</td>\n",
       "      <td>0.000082</td>\n",
       "      <td>0.000168</td>\n",
       "      <td>0.000037</td>\n",
       "      <td>0.00015</td>\n",
       "      <td>0.000036</td>\n",
       "      <td>0.00005</td>\n",
       "      <td>0.000255</td>\n",
       "      <td>0.000361</td>\n",
       "      <td>0.000024</td>\n",
       "      <td>0.00006</td>\n",
       "    </tr>\n",
       "    <tr>\n",
       "      <th>2020-08-28</th>\n",
       "      <td>0.000071</td>\n",
       "      <td>0.000046</td>\n",
       "      <td>0.000079</td>\n",
       "      <td>0.000002</td>\n",
       "      <td>0.000458</td>\n",
       "      <td>0.000192</td>\n",
       "      <td>0.000079</td>\n",
       "      <td>0.000026</td>\n",
       "      <td>0.000082</td>\n",
       "      <td>0.000168</td>\n",
       "      <td>0.000037</td>\n",
       "      <td>0.00015</td>\n",
       "      <td>0.000036</td>\n",
       "      <td>0.00005</td>\n",
       "      <td>0.000255</td>\n",
       "      <td>0.000361</td>\n",
       "      <td>0.000024</td>\n",
       "      <td>0.00006</td>\n",
       "    </tr>\n",
       "  </tbody>\n",
       "</table>\n",
       "</div>"
      ],
      "text/plain": [
       "Country      Bahrain    France   Georgia    Guinea      Iran     Italy  \\\n",
       "Date                                                                     \n",
       "2020-08-24  0.000071  0.000046  0.000079  0.000002  0.000458  0.000192   \n",
       "2020-08-25  0.000071  0.000046  0.000079  0.000002  0.000458  0.000192   \n",
       "2020-08-26  0.000071  0.000046  0.000079  0.000002  0.000458  0.000192   \n",
       "2020-08-27  0.000071  0.000046  0.000079  0.000002  0.000458  0.000192   \n",
       "2020-08-28  0.000071  0.000046  0.000079  0.000002  0.000458  0.000192   \n",
       "\n",
       "Country     Korea, South    Kuwait    Mexico   Moldova   Myanmar   Poland  \\\n",
       "Date                                                                        \n",
       "2020-08-24      0.000079  0.000026  0.000082  0.000168  0.000037  0.00015   \n",
       "2020-08-25      0.000079  0.000026  0.000082  0.000168  0.000037  0.00015   \n",
       "2020-08-26      0.000079  0.000026  0.000082  0.000168  0.000037  0.00015   \n",
       "2020-08-27      0.000079  0.000026  0.000082  0.000168  0.000037  0.00015   \n",
       "2020-08-28      0.000079  0.000026  0.000082  0.000168  0.000037  0.00015   \n",
       "\n",
       "Country     Portugal   Russia   Senegal    Turkey  United Arab Emirates  \\\n",
       "Date                                                                      \n",
       "2020-08-24  0.000036  0.00005  0.000255  0.000361              0.000024   \n",
       "2020-08-25  0.000036  0.00005  0.000255  0.000361              0.000024   \n",
       "2020-08-26  0.000036  0.00005  0.000255  0.000361              0.000024   \n",
       "2020-08-27  0.000036  0.00005  0.000255  0.000361              0.000024   \n",
       "2020-08-28  0.000036  0.00005  0.000255  0.000361              0.000024   \n",
       "\n",
       "Country     United States  \n",
       "Date                       \n",
       "2020-08-24        0.00006  \n",
       "2020-08-25        0.00006  \n",
       "2020-08-26        0.00006  \n",
       "2020-08-27        0.00006  \n",
       "2020-08-28        0.00006  "
      ]
     },
     "execution_count": 17,
     "metadata": {},
     "output_type": "execute_result"
    }
   ],
   "source": [
    "analyser.param_history(\"kappa\", roll_window=None).tail()"
   ]
  },
  {
   "cell_type": "markdown",
   "metadata": {},
   "source": [
    "### $\\theta$: Mortality rate of S$^\\ast$ cases $\\mathrm{[-]}$"
   ]
  },
  {
   "cell_type": "code",
   "execution_count": 18,
   "metadata": {
    "collapsed": false
   },
   "outputs": [
    {
     "data": {
      "image/png": "[encoded data removed]",
      "text/plain": [
       "<Figure size 648x432 with 1 Axes>"
      ]
     },
     "metadata": {},
     "output_type": "display_data"
    },
    {
     "data": {
      "text/html": [
       "<div>\n",
       "<style scoped>\n",
       "    .dataframe tbody tr th:only-of-type {\n",
       "        vertical-align: middle;\n",
       "    }\n",
       "\n",
       "    .dataframe tbody tr th {\n",
       "        vertical-align: top;\n",
       "    }\n",
       "\n",
       "    .dataframe thead th {\n",
       "        text-align: right;\n",
       "    }\n",
       "</style>\n",
       "<table border=\"1\" class=\"dataframe\">\n",
       "  <thead>\n",
       "    <tr style=\"text-align: right;\">\n",
       "      <th>Country</th>\n",
       "      <th>Bahrain</th>\n",
       "      <th>France</th>\n",
       "      <th>Georgia</th>\n",
       "      <th>Guinea</th>\n",
       "      <th>Iran</th>\n",
       "      <th>Italy</th>\n",
       "      <th>Korea, South</th>\n",
       "      <th>Kuwait</th>\n",
       "      <th>Mexico</th>\n",
       "      <th>Moldova</th>\n",
       "      <th>Myanmar</th>\n",
       "      <th>Poland</th>\n",
       "      <th>Portugal</th>\n",
       "      <th>Russia</th>\n",
       "      <th>Senegal</th>\n",
       "      <th>Turkey</th>\n",
       "      <th>United Arab Emirates</th>\n",
       "      <th>United States</th>\n",
       "    </tr>\n",
       "    <tr>\n",
       "      <th>Date</th>\n",
       "      <th></th>\n",
       "      <th></th>\n",
       "      <th></th>\n",
       "      <th></th>\n",
       "      <th></th>\n",
       "      <th></th>\n",
       "      <th></th>\n",
       "      <th></th>\n",
       "      <th></th>\n",
       "      <th></th>\n",
       "      <th></th>\n",
       "      <th></th>\n",
       "      <th></th>\n",
       "      <th></th>\n",
       "      <th></th>\n",
       "      <th></th>\n",
       "      <th></th>\n",
       "      <th></th>\n",
       "    </tr>\n",
       "  </thead>\n",
       "  <tbody>\n",
       "    <tr>\n",
       "      <th>2020-08-24</th>\n",
       "      <td>0.000892</td>\n",
       "      <td>0.001255</td>\n",
       "      <td>0.000346</td>\n",
       "      <td>0.001401</td>\n",
       "      <td>0.036565</td>\n",
       "      <td>0.000619</td>\n",
       "      <td>0.000343</td>\n",
       "      <td>0.001091</td>\n",
       "      <td>0.088318</td>\n",
       "      <td>0.000132</td>\n",
       "      <td>0.000659</td>\n",
       "      <td>0.001384</td>\n",
       "      <td>0.001858</td>\n",
       "      <td>0.001247</td>\n",
       "      <td>0.000472</td>\n",
       "      <td>0.000423</td>\n",
       "      <td>0.000985</td>\n",
       "      <td>0.00124</td>\n",
       "    </tr>\n",
       "    <tr>\n",
       "      <th>2020-08-25</th>\n",
       "      <td>0.000892</td>\n",
       "      <td>0.001255</td>\n",
       "      <td>0.000346</td>\n",
       "      <td>0.001401</td>\n",
       "      <td>0.036565</td>\n",
       "      <td>0.000619</td>\n",
       "      <td>0.000343</td>\n",
       "      <td>0.001091</td>\n",
       "      <td>0.088318</td>\n",
       "      <td>0.000132</td>\n",
       "      <td>0.000659</td>\n",
       "      <td>0.001384</td>\n",
       "      <td>0.001858</td>\n",
       "      <td>0.001247</td>\n",
       "      <td>0.000472</td>\n",
       "      <td>0.000423</td>\n",
       "      <td>0.000985</td>\n",
       "      <td>0.00124</td>\n",
       "    </tr>\n",
       "    <tr>\n",
       "      <th>2020-08-26</th>\n",
       "      <td>0.000892</td>\n",
       "      <td>0.001255</td>\n",
       "      <td>0.000346</td>\n",
       "      <td>0.001401</td>\n",
       "      <td>0.036565</td>\n",
       "      <td>0.000619</td>\n",
       "      <td>0.000343</td>\n",
       "      <td>0.001091</td>\n",
       "      <td>0.088318</td>\n",
       "      <td>0.000132</td>\n",
       "      <td>0.000659</td>\n",
       "      <td>0.001384</td>\n",
       "      <td>0.001858</td>\n",
       "      <td>0.001247</td>\n",
       "      <td>0.000472</td>\n",
       "      <td>0.000423</td>\n",
       "      <td>0.000985</td>\n",
       "      <td>0.00124</td>\n",
       "    </tr>\n",
       "    <tr>\n",
       "      <th>2020-08-27</th>\n",
       "      <td>0.000892</td>\n",
       "      <td>0.001255</td>\n",
       "      <td>0.000346</td>\n",
       "      <td>0.001401</td>\n",
       "      <td>0.036565</td>\n",
       "      <td>0.000619</td>\n",
       "      <td>0.000343</td>\n",
       "      <td>0.001091</td>\n",
       "      <td>0.088318</td>\n",
       "      <td>0.000132</td>\n",
       "      <td>0.000659</td>\n",
       "      <td>0.001384</td>\n",
       "      <td>0.001858</td>\n",
       "      <td>0.001247</td>\n",
       "      <td>0.000472</td>\n",
       "      <td>0.000423</td>\n",
       "      <td>0.000985</td>\n",
       "      <td>0.00124</td>\n",
       "    </tr>\n",
       "    <tr>\n",
       "      <th>2020-08-28</th>\n",
       "      <td>0.000892</td>\n",
       "      <td>0.001255</td>\n",
       "      <td>0.000346</td>\n",
       "      <td>0.001401</td>\n",
       "      <td>0.036565</td>\n",
       "      <td>0.000619</td>\n",
       "      <td>0.000343</td>\n",
       "      <td>0.001091</td>\n",
       "      <td>0.088318</td>\n",
       "      <td>0.000132</td>\n",
       "      <td>0.000659</td>\n",
       "      <td>0.001384</td>\n",
       "      <td>0.001858</td>\n",
       "      <td>0.001247</td>\n",
       "      <td>0.000472</td>\n",
       "      <td>0.000423</td>\n",
       "      <td>0.000985</td>\n",
       "      <td>0.00124</td>\n",
       "    </tr>\n",
       "  </tbody>\n",
       "</table>\n",
       "</div>"
      ],
      "text/plain": [
       "Country      Bahrain    France   Georgia    Guinea      Iran     Italy  \\\n",
       "Date                                                                     \n",
       "2020-08-24  0.000892  0.001255  0.000346  0.001401  0.036565  0.000619   \n",
       "2020-08-25  0.000892  0.001255  0.000346  0.001401  0.036565  0.000619   \n",
       "2020-08-26  0.000892  0.001255  0.000346  0.001401  0.036565  0.000619   \n",
       "2020-08-27  0.000892  0.001255  0.000346  0.001401  0.036565  0.000619   \n",
       "2020-08-28  0.000892  0.001255  0.000346  0.001401  0.036565  0.000619   \n",
       "\n",
       "Country     Korea, South    Kuwait    Mexico   Moldova   Myanmar    Poland  \\\n",
       "Date                                                                         \n",
       "2020-08-24      0.000343  0.001091  0.088318  0.000132  0.000659  0.001384   \n",
       "2020-08-25      0.000343  0.001091  0.088318  0.000132  0.000659  0.001384   \n",
       "2020-08-26      0.000343  0.001091  0.088318  0.000132  0.000659  0.001384   \n",
       "2020-08-27      0.000343  0.001091  0.088318  0.000132  0.000659  0.001384   \n",
       "2020-08-28      0.000343  0.001091  0.088318  0.000132  0.000659  0.001384   \n",
       "\n",
       "Country     Portugal    Russia   Senegal    Turkey  United Arab Emirates  \\\n",
       "Date                                                                       \n",
       "2020-08-24  0.001858  0.001247  0.000472  0.000423              0.000985   \n",
       "2020-08-25  0.001858  0.001247  0.000472  0.000423              0.000985   \n",
       "2020-08-26  0.001858  0.001247  0.000472  0.000423              0.000985   \n",
       "2020-08-27  0.001858  0.001247  0.000472  0.000423              0.000985   \n",
       "2020-08-28  0.001858  0.001247  0.000472  0.000423              0.000985   \n",
       "\n",
       "Country     United States  \n",
       "Date                       \n",
       "2020-08-24        0.00124  \n",
       "2020-08-25        0.00124  \n",
       "2020-08-26        0.00124  \n",
       "2020-08-27        0.00124  \n",
       "2020-08-28        0.00124  "
      ]
     },
     "execution_count": 18,
     "metadata": {},
     "output_type": "execute_result"
    }
   ],
   "source": [
    "analyser.param_history(\"theta\", roll_window=None).tail()"
   ]
  },
  {
   "cell_type": "markdown",
   "metadata": {},
   "source": [
    "## (Experimental): Relationship of OxCGRT index and parameter values\n",
    "Government responses will impact on parameter values of ODE models about 14 days later. Here, we will investigate on the relationship of [stringency index (from OxCGRT)](https://github.com/OxCGRT/covid-policy-tracker/blob/master/documentation/index_methodology.md) and reproduction number/model parameters.\n"
   ]
  },
  {
   "cell_type": "code",
   "execution_count": 19,
   "metadata": {
    "collapsed": false
   },
   "outputs": [],
   "source": [
    "%matplotlib inline\n",
    "from matplotlib import pyplot as plt\n",
    "import seaborn as sns\n",
    "import pandas as pd"
   ]
  },
  {
   "cell_type": "code",
   "execution_count": 20,
   "metadata": {
    "collapsed": false
   },
   "outputs": [
    {
     "name": "stdout",
     "output_type": "stream",
     "text": [
      "<class 'pandas.core.frame.DataFrame'>\n",
      "Int64Index: 26112 entries, 0 to 26349\n",
      "Data columns (total 19 columns):\n",
      " #   Column                               Non-Null Count  Dtype         \n",
      "---  ------                               --------------  -----         \n",
      " 0   Date                                 26112 non-null  datetime64[ns]\n",
      " 1   Country                              26112 non-null  object        \n",
      " 2   Rt                                   26112 non-null  float64       \n",
      " 3   theta                                26112 non-null  float64       \n",
      " 4   kappa                                26112 non-null  float64       \n",
      " 5   rho                                  26112 non-null  float64       \n",
      " 6   sigma                                26112 non-null  float64       \n",
      " 7   School_closing                       26112 non-null  int64         \n",
      " 8   Workplace_closing                    26112 non-null  int64         \n",
      " 9   Cancel_events                        26112 non-null  int64         \n",
      " 10  Gatherings_restrictions              26112 non-null  int64         \n",
      " 11  Transport_closing                    26112 non-null  int64         \n",
      " 12  Stay_home_restrictions               26112 non-null  int64         \n",
      " 13  Internal_movement_restrictions       26112 non-null  int64         \n",
      " 14  International_movement_restrictions  26112 non-null  int64         \n",
      " 15  Information_campaigns                26112 non-null  int64         \n",
      " 16  Testing_policy                       26112 non-null  int64         \n",
      " 17  Contact_tracing                      26112 non-null  int64         \n",
      " 18  Stringency_index                     26112 non-null  float64       \n",
      "dtypes: datetime64[ns](1), float64(6), int64(11), object(1)\n",
      "memory usage: 4.0+ MB\n"
     ]
    }
   ],
   "source": [
    "df = analyser.track()\n",
    "param_cols = [\"Rt\", *cs.SIRF.PARAMETERS]\n",
    "oxcgrt_cols = oxcgrt_data.OXCGRT_VARS[:]\n",
    "cols = param_cols + oxcgrt_cols\n",
    "delay = 14\n",
    "\n",
    "for col in param_cols:\n",
    "    df[col] = pd.to_numeric(df[col], errors=\"coerce\")\n",
    "    df[col] = df.groupby(\"Country\")[col].shift(0 - delay)\n",
    "\n",
    "df = df.dropna(how=\"any\")\n",
    "df = df.loc[:, [\"Date\", \"Country\", *cols]]\n",
    "track_df = df.copy()\n",
    "track_df.info()"
   ]
  },
  {
   "cell_type": "code",
   "execution_count": 21,
   "metadata": {
    "collapsed": false
   },
   "outputs": [
    {
     "data": {
      "text/html": [
       "<style  type=\"text/css\" >\n",
       "#T_782495fa_e948_11ea_8a46_525400a48760row0_col0,#T_782495fa_e948_11ea_8a46_525400a48760row1_col1,#T_782495fa_e948_11ea_8a46_525400a48760row2_col2,#T_782495fa_e948_11ea_8a46_525400a48760row3_col3,#T_782495fa_e948_11ea_8a46_525400a48760row4_col4,#T_782495fa_e948_11ea_8a46_525400a48760row5_col5,#T_782495fa_e948_11ea_8a46_525400a48760row6_col6,#T_782495fa_e948_11ea_8a46_525400a48760row7_col7,#T_782495fa_e948_11ea_8a46_525400a48760row8_col8,#T_782495fa_e948_11ea_8a46_525400a48760row9_col9,#T_782495fa_e948_11ea_8a46_525400a48760row10_col10,#T_782495fa_e948_11ea_8a46_525400a48760row11_col11,#T_782495fa_e948_11ea_8a46_525400a48760row12_col12,#T_782495fa_e948_11ea_8a46_525400a48760row13_col13,#T_782495fa_e948_11ea_8a46_525400a48760row14_col14,#T_782495fa_e948_11ea_8a46_525400a48760row15_col15,#T_782495fa_e948_11ea_8a46_525400a48760row16_col16{\n",
       "            background-color:  #023858;\n",
       "            color:  #f1f1f1;\n",
       "        }#T_782495fa_e948_11ea_8a46_525400a48760row0_col1,#T_782495fa_e948_11ea_8a46_525400a48760row0_col16,#T_782495fa_e948_11ea_8a46_525400a48760row1_col0,#T_782495fa_e948_11ea_8a46_525400a48760row4_col7,#T_782495fa_e948_11ea_8a46_525400a48760row7_col4,#T_782495fa_e948_11ea_8a46_525400a48760row12_col15,#T_782495fa_e948_11ea_8a46_525400a48760row15_col12,#T_782495fa_e948_11ea_8a46_525400a48760row16_col0{\n",
       "            background-color:  #cccfe5;\n",
       "            color:  #000000;\n",
       "        }#T_782495fa_e948_11ea_8a46_525400a48760row0_col2,#T_782495fa_e948_11ea_8a46_525400a48760row2_col0{\n",
       "            background-color:  #bbc7e0;\n",
       "            color:  #000000;\n",
       "        }#T_782495fa_e948_11ea_8a46_525400a48760row0_col3,#T_782495fa_e948_11ea_8a46_525400a48760row3_col0{\n",
       "            background-color:  #7bacd1;\n",
       "            color:  #000000;\n",
       "        }#T_782495fa_e948_11ea_8a46_525400a48760row0_col4,#T_782495fa_e948_11ea_8a46_525400a48760row4_col0{\n",
       "            background-color:  #e0dded;\n",
       "            color:  #000000;\n",
       "        }#T_782495fa_e948_11ea_8a46_525400a48760row0_col5,#T_782495fa_e948_11ea_8a46_525400a48760row5_col0{\n",
       "            background-color:  #e7e3f0;\n",
       "            color:  #000000;\n",
       "        }#T_782495fa_e948_11ea_8a46_525400a48760row0_col6,#T_782495fa_e948_11ea_8a46_525400a48760row3_col8,#T_782495fa_e948_11ea_8a46_525400a48760row4_col10,#T_782495fa_e948_11ea_8a46_525400a48760row6_col0,#T_782495fa_e948_11ea_8a46_525400a48760row7_col15,#T_782495fa_e948_11ea_8a46_525400a48760row8_col3,#T_782495fa_e948_11ea_8a46_525400a48760row10_col4,#T_782495fa_e948_11ea_8a46_525400a48760row15_col7{\n",
       "            background-color:  #b9c6e0;\n",
       "            color:  #000000;\n",
       "        }#T_782495fa_e948_11ea_8a46_525400a48760row0_col7,#T_782495fa_e948_11ea_8a46_525400a48760row0_col13,#T_782495fa_e948_11ea_8a46_525400a48760row7_col0,#T_782495fa_e948_11ea_8a46_525400a48760row7_col14,#T_782495fa_e948_11ea_8a46_525400a48760row10_col15,#T_782495fa_e948_11ea_8a46_525400a48760row12_col13,#T_782495fa_e948_11ea_8a46_525400a48760row13_col0,#T_782495fa_e948_11ea_8a46_525400a48760row13_col12,#T_782495fa_e948_11ea_8a46_525400a48760row14_col7,#T_782495fa_e948_11ea_8a46_525400a48760row15_col10{\n",
       "            background-color:  #a4bcda;\n",
       "            color:  #000000;\n",
       "        }#T_782495fa_e948_11ea_8a46_525400a48760row0_col8,#T_782495fa_e948_11ea_8a46_525400a48760row7_col11,#T_782495fa_e948_11ea_8a46_525400a48760row8_col0,#T_782495fa_e948_11ea_8a46_525400a48760row11_col7{\n",
       "            background-color:  #75a9cf;\n",
       "            color:  #000000;\n",
       "        }#T_782495fa_e948_11ea_8a46_525400a48760row0_col9,#T_782495fa_e948_11ea_8a46_525400a48760row4_col13,#T_782495fa_e948_11ea_8a46_525400a48760row9_col0,#T_782495fa_e948_11ea_8a46_525400a48760row13_col4{\n",
       "            background-color:  #cdd0e5;\n",
       "            color:  #000000;\n",
       "        }#T_782495fa_e948_11ea_8a46_525400a48760row0_col10,#T_782495fa_e948_11ea_8a46_525400a48760row10_col0{\n",
       "            background-color:  #bdc8e1;\n",
       "            color:  #000000;\n",
       "        }#T_782495fa_e948_11ea_8a46_525400a48760row0_col11,#T_782495fa_e948_11ea_8a46_525400a48760row11_col0{\n",
       "            background-color:  #afc1dd;\n",
       "            color:  #000000;\n",
       "        }#T_782495fa_e948_11ea_8a46_525400a48760row0_col12,#T_782495fa_e948_11ea_8a46_525400a48760row12_col0{\n",
       "            background-color:  #d5d5e8;\n",
       "            color:  #000000;\n",
       "        }#T_782495fa_e948_11ea_8a46_525400a48760row0_col14,#T_782495fa_e948_11ea_8a46_525400a48760row5_col8,#T_782495fa_e948_11ea_8a46_525400a48760row8_col5,#T_782495fa_e948_11ea_8a46_525400a48760row14_col0{\n",
       "            background-color:  #cacee5;\n",
       "            color:  #000000;\n",
       "        }#T_782495fa_e948_11ea_8a46_525400a48760row0_col15,#T_782495fa_e948_11ea_8a46_525400a48760row15_col0{\n",
       "            background-color:  #dedcec;\n",
       "            color:  #000000;\n",
       "        }#T_782495fa_e948_11ea_8a46_525400a48760row1_col2,#T_782495fa_e948_11ea_8a46_525400a48760row2_col1,#T_782495fa_e948_11ea_8a46_525400a48760row13_col14,#T_782495fa_e948_11ea_8a46_525400a48760row14_col13{\n",
       "            background-color:  #84b0d3;\n",
       "            color:  #000000;\n",
       "        }#T_782495fa_e948_11ea_8a46_525400a48760row1_col3,#T_782495fa_e948_11ea_8a46_525400a48760row1_col5,#T_782495fa_e948_11ea_8a46_525400a48760row3_col1,#T_782495fa_e948_11ea_8a46_525400a48760row5_col1,#T_782495fa_e948_11ea_8a46_525400a48760row6_col7,#T_782495fa_e948_11ea_8a46_525400a48760row7_col6,#T_782495fa_e948_11ea_8a46_525400a48760row8_col12,#T_782495fa_e948_11ea_8a46_525400a48760row12_col8{\n",
       "            background-color:  #8bb2d4;\n",
       "            color:  #000000;\n",
       "        }#T_782495fa_e948_11ea_8a46_525400a48760row1_col4,#T_782495fa_e948_11ea_8a46_525400a48760row4_col1{\n",
       "            background-color:  #7eadd1;\n",
       "            color:  #000000;\n",
       "        }#T_782495fa_e948_11ea_8a46_525400a48760row1_col6,#T_782495fa_e948_11ea_8a46_525400a48760row5_col9,#T_782495fa_e948_11ea_8a46_525400a48760row6_col1,#T_782495fa_e948_11ea_8a46_525400a48760row9_col5{\n",
       "            background-color:  #589ec8;\n",
       "            color:  #000000;\n",
       "        }#T_782495fa_e948_11ea_8a46_525400a48760row1_col7,#T_782495fa_e948_11ea_8a46_525400a48760row5_col7,#T_782495fa_e948_11ea_8a46_525400a48760row7_col1,#T_782495fa_e948_11ea_8a46_525400a48760row7_col5{\n",
       "            background-color:  #a1bbda;\n",
       "            color:  #000000;\n",
       "        }#T_782495fa_e948_11ea_8a46_525400a48760row1_col8,#T_782495fa_e948_11ea_8a46_525400a48760row8_col1{\n",
       "            background-color:  #d8d7e9;\n",
       "            color:  #000000;\n",
       "        }#T_782495fa_e948_11ea_8a46_525400a48760row1_col9,#T_782495fa_e948_11ea_8a46_525400a48760row6_col14,#T_782495fa_e948_11ea_8a46_525400a48760row9_col1,#T_782495fa_e948_11ea_8a46_525400a48760row14_col6{\n",
       "            background-color:  #b8c6e0;\n",
       "            color:  #000000;\n",
       "        }#T_782495fa_e948_11ea_8a46_525400a48760row1_col10,#T_782495fa_e948_11ea_8a46_525400a48760row2_col11,#T_782495fa_e948_11ea_8a46_525400a48760row10_col1,#T_782495fa_e948_11ea_8a46_525400a48760row11_col2{\n",
       "            background-color:  #bcc7e1;\n",
       "            color:  #000000;\n",
       "        }#T_782495fa_e948_11ea_8a46_525400a48760row1_col11,#T_782495fa_e948_11ea_8a46_525400a48760row11_col1,#T_782495fa_e948_11ea_8a46_525400a48760row11_col13,#T_782495fa_e948_11ea_8a46_525400a48760row13_col11{\n",
       "            background-color:  #b0c2de;\n",
       "            color:  #000000;\n",
       "        }#T_782495fa_e948_11ea_8a46_525400a48760row1_col12,#T_782495fa_e948_11ea_8a46_525400a48760row1_col13,#T_782495fa_e948_11ea_8a46_525400a48760row7_col12,#T_782495fa_e948_11ea_8a46_525400a48760row12_col1,#T_782495fa_e948_11ea_8a46_525400a48760row12_col7,#T_782495fa_e948_11ea_8a46_525400a48760row13_col1{\n",
       "            background-color:  #a7bddb;\n",
       "            color:  #000000;\n",
       "        }#T_782495fa_e948_11ea_8a46_525400a48760row1_col14,#T_782495fa_e948_11ea_8a46_525400a48760row14_col1{\n",
       "            background-color:  #fff7fb;\n",
       "            color:  #000000;\n",
       "        }#T_782495fa_e948_11ea_8a46_525400a48760row1_col15,#T_782495fa_e948_11ea_8a46_525400a48760row3_col7,#T_782495fa_e948_11ea_8a46_525400a48760row3_col13,#T_782495fa_e948_11ea_8a46_525400a48760row7_col3,#T_782495fa_e948_11ea_8a46_525400a48760row13_col3,#T_782495fa_e948_11ea_8a46_525400a48760row15_col1{\n",
       "            background-color:  #c4cbe3;\n",
       "            color:  #000000;\n",
       "        }#T_782495fa_e948_11ea_8a46_525400a48760row1_col16,#T_782495fa_e948_11ea_8a46_525400a48760row6_col8,#T_782495fa_e948_11ea_8a46_525400a48760row8_col6,#T_782495fa_e948_11ea_8a46_525400a48760row11_col12,#T_782495fa_e948_11ea_8a46_525400a48760row12_col11,#T_782495fa_e948_11ea_8a46_525400a48760row16_col1{\n",
       "            background-color:  #65a3cb;\n",
       "            color:  #000000;\n",
       "        }#T_782495fa_e948_11ea_8a46_525400a48760row2_col3,#T_782495fa_e948_11ea_8a46_525400a48760row3_col2{\n",
       "            background-color:  #2d8abd;\n",
       "            color:  #000000;\n",
       "        }#T_782495fa_e948_11ea_8a46_525400a48760row2_col4,#T_782495fa_e948_11ea_8a46_525400a48760row4_col2{\n",
       "            background-color:  #569dc8;\n",
       "            color:  #000000;\n",
       "        }#T_782495fa_e948_11ea_8a46_525400a48760row2_col5,#T_782495fa_e948_11ea_8a46_525400a48760row5_col2{\n",
       "            background-color:  #63a2cb;\n",
       "            color:  #000000;\n",
       "        }#T_782495fa_e948_11ea_8a46_525400a48760row2_col6,#T_782495fa_e948_11ea_8a46_525400a48760row6_col2{\n",
       "            background-color:  #6da6cd;\n",
       "            color:  #000000;\n",
       "        }#T_782495fa_e948_11ea_8a46_525400a48760row2_col7,#T_782495fa_e948_11ea_8a46_525400a48760row3_col11,#T_782495fa_e948_11ea_8a46_525400a48760row6_col13,#T_782495fa_e948_11ea_8a46_525400a48760row7_col2,#T_782495fa_e948_11ea_8a46_525400a48760row11_col3,#T_782495fa_e948_11ea_8a46_525400a48760row13_col6,#T_782495fa_e948_11ea_8a46_525400a48760row13_col16,#T_782495fa_e948_11ea_8a46_525400a48760row16_col13{\n",
       "            background-color:  #a9bfdc;\n",
       "            color:  #000000;\n",
       "        }#T_782495fa_e948_11ea_8a46_525400a48760row2_col8,#T_782495fa_e948_11ea_8a46_525400a48760row8_col2,#T_782495fa_e948_11ea_8a46_525400a48760row9_col13,#T_782495fa_e948_11ea_8a46_525400a48760row13_col9{\n",
       "            background-color:  #c2cbe2;\n",
       "            color:  #000000;\n",
       "        }#T_782495fa_e948_11ea_8a46_525400a48760row2_col9,#T_782495fa_e948_11ea_8a46_525400a48760row9_col2,#T_782495fa_e948_11ea_8a46_525400a48760row10_col13,#T_782495fa_e948_11ea_8a46_525400a48760row13_col10{\n",
       "            background-color:  #99b8d8;\n",
       "            color:  #000000;\n",
       "        }#T_782495fa_e948_11ea_8a46_525400a48760row2_col10,#T_782495fa_e948_11ea_8a46_525400a48760row8_col13,#T_782495fa_e948_11ea_8a46_525400a48760row10_col2,#T_782495fa_e948_11ea_8a46_525400a48760row13_col8{\n",
       "            background-color:  #94b6d7;\n",
       "            color:  #000000;\n",
       "        }#T_782495fa_e948_11ea_8a46_525400a48760row2_col12,#T_782495fa_e948_11ea_8a46_525400a48760row12_col2{\n",
       "            background-color:  #96b6d7;\n",
       "            color:  #000000;\n",
       "        }#T_782495fa_e948_11ea_8a46_525400a48760row2_col13,#T_782495fa_e948_11ea_8a46_525400a48760row13_col2{\n",
       "            background-color:  #bfc9e1;\n",
       "            color:  #000000;\n",
       "        }#T_782495fa_e948_11ea_8a46_525400a48760row2_col14,#T_782495fa_e948_11ea_8a46_525400a48760row14_col2{\n",
       "            background-color:  #efe9f3;\n",
       "            color:  #000000;\n",
       "        }#T_782495fa_e948_11ea_8a46_525400a48760row2_col15,#T_782495fa_e948_11ea_8a46_525400a48760row15_col2{\n",
       "            background-color:  #9cb9d9;\n",
       "            color:  #000000;\n",
       "        }#T_782495fa_e948_11ea_8a46_525400a48760row2_col16,#T_782495fa_e948_11ea_8a46_525400a48760row16_col2{\n",
       "            background-color:  #4a98c5;\n",
       "            color:  #000000;\n",
       "        }#T_782495fa_e948_11ea_8a46_525400a48760row3_col4,#T_782495fa_e948_11ea_8a46_525400a48760row4_col3,#T_782495fa_e948_11ea_8a46_525400a48760row8_col11,#T_782495fa_e948_11ea_8a46_525400a48760row11_col8{\n",
       "            background-color:  #056ead;\n",
       "            color:  #f1f1f1;\n",
       "        }#T_782495fa_e948_11ea_8a46_525400a48760row3_col5,#T_782495fa_e948_11ea_8a46_525400a48760row5_col3{\n",
       "            background-color:  #62a2cb;\n",
       "            color:  #000000;\n",
       "        }#T_782495fa_e948_11ea_8a46_525400a48760row3_col6,#T_782495fa_e948_11ea_8a46_525400a48760row5_col10,#T_782495fa_e948_11ea_8a46_525400a48760row6_col3,#T_782495fa_e948_11ea_8a46_525400a48760row10_col5{\n",
       "            background-color:  #78abd0;\n",
       "            color:  #000000;\n",
       "        }#T_782495fa_e948_11ea_8a46_525400a48760row3_col9,#T_782495fa_e948_11ea_8a46_525400a48760row9_col3,#T_782495fa_e948_11ea_8a46_525400a48760row13_col15,#T_782495fa_e948_11ea_8a46_525400a48760row14_col15,#T_782495fa_e948_11ea_8a46_525400a48760row15_col13,#T_782495fa_e948_11ea_8a46_525400a48760row15_col14{\n",
       "            background-color:  #9ab8d8;\n",
       "            color:  #000000;\n",
       "        }#T_782495fa_e948_11ea_8a46_525400a48760row3_col10,#T_782495fa_e948_11ea_8a46_525400a48760row10_col3,#T_782495fa_e948_11ea_8a46_525400a48760row12_col14,#T_782495fa_e948_11ea_8a46_525400a48760row14_col12{\n",
       "            background-color:  #8cb3d5;\n",
       "            color:  #000000;\n",
       "        }#T_782495fa_e948_11ea_8a46_525400a48760row3_col12,#T_782495fa_e948_11ea_8a46_525400a48760row12_col3{\n",
       "            background-color:  #79abd0;\n",
       "            color:  #000000;\n",
       "        }#T_782495fa_e948_11ea_8a46_525400a48760row3_col14,#T_782495fa_e948_11ea_8a46_525400a48760row14_col3{\n",
       "            background-color:  #eae6f1;\n",
       "            color:  #000000;\n",
       "        }#T_782495fa_e948_11ea_8a46_525400a48760row3_col15,#T_782495fa_e948_11ea_8a46_525400a48760row15_col3{\n",
       "            background-color:  #d7d6e9;\n",
       "            color:  #000000;\n",
       "        }#T_782495fa_e948_11ea_8a46_525400a48760row3_col16,#T_782495fa_e948_11ea_8a46_525400a48760row16_col3{\n",
       "            background-color:  #5ea0ca;\n",
       "            color:  #000000;\n",
       "        }#T_782495fa_e948_11ea_8a46_525400a48760row4_col5,#T_782495fa_e948_11ea_8a46_525400a48760row5_col4,#T_782495fa_e948_11ea_8a46_525400a48760row6_col12,#T_782495fa_e948_11ea_8a46_525400a48760row9_col14,#T_782495fa_e948_11ea_8a46_525400a48760row10_col14,#T_782495fa_e948_11ea_8a46_525400a48760row12_col6,#T_782495fa_e948_11ea_8a46_525400a48760row14_col9,#T_782495fa_e948_11ea_8a46_525400a48760row14_col10{\n",
       "            background-color:  #60a1ca;\n",
       "            color:  #000000;\n",
       "        }#T_782495fa_e948_11ea_8a46_525400a48760row4_col6,#T_782495fa_e948_11ea_8a46_525400a48760row6_col4{\n",
       "            background-color:  #b5c4df;\n",
       "            color:  #000000;\n",
       "        }#T_782495fa_e948_11ea_8a46_525400a48760row4_col8,#T_782495fa_e948_11ea_8a46_525400a48760row6_col15,#T_782495fa_e948_11ea_8a46_525400a48760row8_col4,#T_782495fa_e948_11ea_8a46_525400a48760row15_col6{\n",
       "            background-color:  #f7f0f7;\n",
       "            color:  #000000;\n",
       "        }#T_782495fa_e948_11ea_8a46_525400a48760row4_col9,#T_782495fa_e948_11ea_8a46_525400a48760row9_col4{\n",
       "            background-color:  #c6cce3;\n",
       "            color:  #000000;\n",
       "        }#T_782495fa_e948_11ea_8a46_525400a48760row4_col11,#T_782495fa_e948_11ea_8a46_525400a48760row11_col4{\n",
       "            background-color:  #dfddec;\n",
       "            color:  #000000;\n",
       "        }#T_782495fa_e948_11ea_8a46_525400a48760row4_col12,#T_782495fa_e948_11ea_8a46_525400a48760row12_col4{\n",
       "            background-color:  #89b1d4;\n",
       "            color:  #000000;\n",
       "        }#T_782495fa_e948_11ea_8a46_525400a48760row4_col14,#T_782495fa_e948_11ea_8a46_525400a48760row14_col4{\n",
       "            background-color:  #e6e2ef;\n",
       "            color:  #000000;\n",
       "        }#T_782495fa_e948_11ea_8a46_525400a48760row4_col15,#T_782495fa_e948_11ea_8a46_525400a48760row15_col4{\n",
       "            background-color:  #86b0d3;\n",
       "            color:  #000000;\n",
       "        }#T_782495fa_e948_11ea_8a46_525400a48760row4_col16,#T_782495fa_e948_11ea_8a46_525400a48760row5_col14,#T_782495fa_e948_11ea_8a46_525400a48760row14_col5,#T_782495fa_e948_11ea_8a46_525400a48760row16_col4{\n",
       "            background-color:  #9fbad9;\n",
       "            color:  #000000;\n",
       "        }#T_782495fa_e948_11ea_8a46_525400a48760row5_col6,#T_782495fa_e948_11ea_8a46_525400a48760row6_col5{\n",
       "            background-color:  #2081b9;\n",
       "            color:  #000000;\n",
       "        }#T_782495fa_e948_11ea_8a46_525400a48760row5_col11,#T_782495fa_e948_11ea_8a46_525400a48760row7_col9,#T_782495fa_e948_11ea_8a46_525400a48760row9_col7,#T_782495fa_e948_11ea_8a46_525400a48760row11_col5{\n",
       "            background-color:  #88b1d4;\n",
       "            color:  #000000;\n",
       "        }#T_782495fa_e948_11ea_8a46_525400a48760row5_col12,#T_782495fa_e948_11ea_8a46_525400a48760row12_col5{\n",
       "            background-color:  #0d75b3;\n",
       "            color:  #f1f1f1;\n",
       "        }#T_782495fa_e948_11ea_8a46_525400a48760row5_col13,#T_782495fa_e948_11ea_8a46_525400a48760row13_col5{\n",
       "            background-color:  #b1c2de;\n",
       "            color:  #000000;\n",
       "        }#T_782495fa_e948_11ea_8a46_525400a48760row5_col15,#T_782495fa_e948_11ea_8a46_525400a48760row15_col5{\n",
       "            background-color:  #f0eaf4;\n",
       "            color:  #000000;\n",
       "        }#T_782495fa_e948_11ea_8a46_525400a48760row5_col16,#T_782495fa_e948_11ea_8a46_525400a48760row16_col5{\n",
       "            background-color:  #167bb6;\n",
       "            color:  #000000;\n",
       "        }#T_782495fa_e948_11ea_8a46_525400a48760row6_col9,#T_782495fa_e948_11ea_8a46_525400a48760row9_col6{\n",
       "            background-color:  #1379b5;\n",
       "            color:  #f1f1f1;\n",
       "        }#T_782495fa_e948_11ea_8a46_525400a48760row6_col10,#T_782495fa_e948_11ea_8a46_525400a48760row10_col6{\n",
       "            background-color:  #2685bb;\n",
       "            color:  #000000;\n",
       "        }#T_782495fa_e948_11ea_8a46_525400a48760row6_col11,#T_782495fa_e948_11ea_8a46_525400a48760row11_col6{\n",
       "            background-color:  #2484ba;\n",
       "            color:  #000000;\n",
       "        }#T_782495fa_e948_11ea_8a46_525400a48760row6_col16,#T_782495fa_e948_11ea_8a46_525400a48760row9_col16,#T_782495fa_e948_11ea_8a46_525400a48760row16_col6,#T_782495fa_e948_11ea_8a46_525400a48760row16_col9{\n",
       "            background-color:  #04639b;\n",
       "            color:  #f1f1f1;\n",
       "        }#T_782495fa_e948_11ea_8a46_525400a48760row7_col8,#T_782495fa_e948_11ea_8a46_525400a48760row7_col16,#T_782495fa_e948_11ea_8a46_525400a48760row8_col7,#T_782495fa_e948_11ea_8a46_525400a48760row16_col7{\n",
       "            background-color:  #6fa7ce;\n",
       "            color:  #000000;\n",
       "        }#T_782495fa_e948_11ea_8a46_525400a48760row7_col10,#T_782495fa_e948_11ea_8a46_525400a48760row10_col7{\n",
       "            background-color:  #73a9cf;\n",
       "            color:  #000000;\n",
       "        }#T_782495fa_e948_11ea_8a46_525400a48760row7_col13,#T_782495fa_e948_11ea_8a46_525400a48760row13_col7{\n",
       "            background-color:  #abbfdc;\n",
       "            color:  #000000;\n",
       "        }#T_782495fa_e948_11ea_8a46_525400a48760row8_col9,#T_782495fa_e948_11ea_8a46_525400a48760row9_col8{\n",
       "            background-color:  #1278b4;\n",
       "            color:  #f1f1f1;\n",
       "        }#T_782495fa_e948_11ea_8a46_525400a48760row8_col10,#T_782495fa_e948_11ea_8a46_525400a48760row10_col8{\n",
       "            background-color:  #2c89bd;\n",
       "            color:  #000000;\n",
       "        }#T_782495fa_e948_11ea_8a46_525400a48760row8_col14,#T_782495fa_e948_11ea_8a46_525400a48760row14_col8{\n",
       "            background-color:  #509ac6;\n",
       "            color:  #000000;\n",
       "        }#T_782495fa_e948_11ea_8a46_525400a48760row8_col15,#T_782495fa_e948_11ea_8a46_525400a48760row15_col8{\n",
       "            background-color:  #d4d4e8;\n",
       "            color:  #000000;\n",
       "        }#T_782495fa_e948_11ea_8a46_525400a48760row8_col16,#T_782495fa_e948_11ea_8a46_525400a48760row16_col8{\n",
       "            background-color:  #328dbf;\n",
       "            color:  #000000;\n",
       "        }#T_782495fa_e948_11ea_8a46_525400a48760row9_col10,#T_782495fa_e948_11ea_8a46_525400a48760row10_col9{\n",
       "            background-color:  #1077b4;\n",
       "            color:  #f1f1f1;\n",
       "        }#T_782495fa_e948_11ea_8a46_525400a48760row9_col11,#T_782495fa_e948_11ea_8a46_525400a48760row11_col9{\n",
       "            background-color:  #045b8e;\n",
       "            color:  #f1f1f1;\n",
       "        }#T_782495fa_e948_11ea_8a46_525400a48760row9_col12,#T_782495fa_e948_11ea_8a46_525400a48760row12_col9{\n",
       "            background-color:  #529bc7;\n",
       "            color:  #000000;\n",
       "        }#T_782495fa_e948_11ea_8a46_525400a48760row9_col15,#T_782495fa_e948_11ea_8a46_525400a48760row15_col9{\n",
       "            background-color:  #dbdaeb;\n",
       "            color:  #000000;\n",
       "        }#T_782495fa_e948_11ea_8a46_525400a48760row10_col11,#T_782495fa_e948_11ea_8a46_525400a48760row11_col10,#T_782495fa_e948_11ea_8a46_525400a48760row11_col16,#T_782495fa_e948_11ea_8a46_525400a48760row12_col16,#T_782495fa_e948_11ea_8a46_525400a48760row16_col11,#T_782495fa_e948_11ea_8a46_525400a48760row16_col12{\n",
       "            background-color:  #056dac;\n",
       "            color:  #f1f1f1;\n",
       "        }#T_782495fa_e948_11ea_8a46_525400a48760row10_col12,#T_782495fa_e948_11ea_8a46_525400a48760row12_col10{\n",
       "            background-color:  #5a9ec9;\n",
       "            color:  #000000;\n",
       "        }#T_782495fa_e948_11ea_8a46_525400a48760row10_col16,#T_782495fa_e948_11ea_8a46_525400a48760row16_col10{\n",
       "            background-color:  #056caa;\n",
       "            color:  #f1f1f1;\n",
       "        }#T_782495fa_e948_11ea_8a46_525400a48760row11_col14,#T_782495fa_e948_11ea_8a46_525400a48760row14_col11{\n",
       "            background-color:  #4c99c5;\n",
       "            color:  #000000;\n",
       "        }#T_782495fa_e948_11ea_8a46_525400a48760row11_col15,#T_782495fa_e948_11ea_8a46_525400a48760row15_col11{\n",
       "            background-color:  #e1dfed;\n",
       "            color:  #000000;\n",
       "        }#T_782495fa_e948_11ea_8a46_525400a48760row14_col16,#T_782495fa_e948_11ea_8a46_525400a48760row16_col14{\n",
       "            background-color:  #c5cce3;\n",
       "            color:  #000000;\n",
       "        }#T_782495fa_e948_11ea_8a46_525400a48760row15_col16,#T_782495fa_e948_11ea_8a46_525400a48760row16_col15{\n",
       "            background-color:  #dcdaeb;\n",
       "            color:  #000000;\n",
       "        }</style><table id=\"T_782495fa_e948_11ea_8a46_525400a48760\" ><thead>    <tr>        <th class=\"blank level0\" ></th>        <th class=\"col_heading level0 col0\" >Rt</th>        <th class=\"col_heading level0 col1\" >theta</th>        <th class=\"col_heading level0 col2\" >kappa</th>        <th class=\"col_heading level0 col3\" >rho</th>        <th class=\"col_heading level0 col4\" >sigma</th>        <th class=\"col_heading level0 col5\" >School_closing</th>        <th class=\"col_heading level0 col6\" >Workplace_closing</th>        <th class=\"col_heading level0 col7\" >Cancel_events</th>        <th class=\"col_heading level0 col8\" >Gatherings_restrictions</th>        <th class=\"col_heading level0 col9\" >Transport_closing</th>        <th class=\"col_heading level0 col10\" >Stay_home_restrictions</th>        <th class=\"col_heading level0 col11\" >Internal_movement_restrictions</th>        <th class=\"col_heading level0 col12\" >International_movement_restrictions</th>        <th class=\"col_heading level0 col13\" >Information_campaigns</th>        <th class=\"col_heading level0 col14\" >Testing_policy</th>        <th class=\"col_heading level0 col15\" >Contact_tracing</th>        <th class=\"col_heading level0 col16\" >Stringency_index</th>    </tr></thead><tbody>\n",
       "                <tr>\n",
       "                        <th id=\"T_782495fa_e948_11ea_8a46_525400a48760level0_row0\" class=\"row_heading level0 row0\" >Rt</th>\n",
       "                        <td id=\"T_782495fa_e948_11ea_8a46_525400a48760row0_col0\" class=\"data row0 col0\" >1.000000</td>\n",
       "                        <td id=\"T_782495fa_e948_11ea_8a46_525400a48760row0_col1\" class=\"data row0 col1\" >-0.159358</td>\n",
       "                        <td id=\"T_782495fa_e948_11ea_8a46_525400a48760row0_col2\" class=\"data row0 col2\" >-0.075645</td>\n",
       "                        <td id=\"T_782495fa_e948_11ea_8a46_525400a48760row0_col3\" class=\"data row0 col3\" >0.183447</td>\n",
       "                        <td id=\"T_782495fa_e948_11ea_8a46_525400a48760row0_col4\" class=\"data row0 col4\" >-0.285308</td>\n",
       "                        <td id=\"T_782495fa_e948_11ea_8a46_525400a48760row0_col5\" class=\"data row0 col5\" >-0.337788</td>\n",
       "                        <td id=\"T_782495fa_e948_11ea_8a46_525400a48760row0_col6\" class=\"data row0 col6\" >-0.070266</td>\n",
       "                        <td id=\"T_782495fa_e948_11ea_8a46_525400a48760row0_col7\" class=\"data row0 col7\" >0.024594</td>\n",
       "                        <td id=\"T_782495fa_e948_11ea_8a46_525400a48760row0_col8\" class=\"data row0 col8\" >0.209442</td>\n",
       "                        <td id=\"T_782495fa_e948_11ea_8a46_525400a48760row0_col9\" class=\"data row0 col9\" >-0.164446</td>\n",
       "                        <td id=\"T_782495fa_e948_11ea_8a46_525400a48760row0_col10\" class=\"data row0 col10\" >-0.092868</td>\n",
       "                        <td id=\"T_782495fa_e948_11ea_8a46_525400a48760row0_col11\" class=\"data row0 col11\" >-0.025416</td>\n",
       "                        <td id=\"T_782495fa_e948_11ea_8a46_525400a48760row0_col12\" class=\"data row0 col12\" >-0.216066</td>\n",
       "                        <td id=\"T_782495fa_e948_11ea_8a46_525400a48760row0_col13\" class=\"data row0 col13\" >0.025942</td>\n",
       "                        <td id=\"T_782495fa_e948_11ea_8a46_525400a48760row0_col14\" class=\"data row0 col14\" >-0.150150</td>\n",
       "                        <td id=\"T_782495fa_e948_11ea_8a46_525400a48760row0_col15\" class=\"data row0 col15\" >-0.277735</td>\n",
       "                        <td id=\"T_782495fa_e948_11ea_8a46_525400a48760row0_col16\" class=\"data row0 col16\" >-0.157545</td>\n",
       "            </tr>\n",
       "            <tr>\n",
       "                        <th id=\"T_782495fa_e948_11ea_8a46_525400a48760level0_row1\" class=\"row_heading level0 row1\" >theta</th>\n",
       "                        <td id=\"T_782495fa_e948_11ea_8a46_525400a48760row1_col0\" class=\"data row1 col0\" >-0.159358</td>\n",
       "                        <td id=\"T_782495fa_e948_11ea_8a46_525400a48760row1_col1\" class=\"data row1 col1\" >1.000000</td>\n",
       "                        <td id=\"T_782495fa_e948_11ea_8a46_525400a48760row1_col2\" class=\"data row1 col2\" >0.147737</td>\n",
       "                        <td id=\"T_782495fa_e948_11ea_8a46_525400a48760row1_col3\" class=\"data row1 col3\" >0.122271</td>\n",
       "                        <td id=\"T_782495fa_e948_11ea_8a46_525400a48760row1_col4\" class=\"data row1 col4\" >0.171057</td>\n",
       "                        <td id=\"T_782495fa_e948_11ea_8a46_525400a48760row1_col5\" class=\"data row1 col5\" >0.125300</td>\n",
       "                        <td id=\"T_782495fa_e948_11ea_8a46_525400a48760row1_col6\" class=\"data row1 col6\" >0.300683</td>\n",
       "                        <td id=\"T_782495fa_e948_11ea_8a46_525400a48760row1_col7\" class=\"data row1 col7\" >0.036438</td>\n",
       "                        <td id=\"T_782495fa_e948_11ea_8a46_525400a48760row1_col8\" class=\"data row1 col8\" >-0.234853</td>\n",
       "                        <td id=\"T_782495fa_e948_11ea_8a46_525400a48760row1_col9\" class=\"data row1 col9\" >-0.066898</td>\n",
       "                        <td id=\"T_782495fa_e948_11ea_8a46_525400a48760row1_col10\" class=\"data row1 col10\" >-0.084945</td>\n",
       "                        <td id=\"T_782495fa_e948_11ea_8a46_525400a48760row1_col11\" class=\"data row1 col11\" >-0.030205</td>\n",
       "                        <td id=\"T_782495fa_e948_11ea_8a46_525400a48760row1_col12\" class=\"data row1 col12\" >0.014805</td>\n",
       "                        <td id=\"T_782495fa_e948_11ea_8a46_525400a48760row1_col13\" class=\"data row1 col13\" >0.016203</td>\n",
       "                        <td id=\"T_782495fa_e948_11ea_8a46_525400a48760row1_col14\" class=\"data row1 col14\" >-0.573400</td>\n",
       "                        <td id=\"T_782495fa_e948_11ea_8a46_525400a48760row1_col15\" class=\"data row1 col15\" >-0.121763</td>\n",
       "                        <td id=\"T_782495fa_e948_11ea_8a46_525400a48760row1_col16\" class=\"data row1 col16\" >0.259198</td>\n",
       "            </tr>\n",
       "            <tr>\n",
       "                        <th id=\"T_782495fa_e948_11ea_8a46_525400a48760level0_row2\" class=\"row_heading level0 row2\" >kappa</th>\n",
       "                        <td id=\"T_782495fa_e948_11ea_8a46_525400a48760row2_col0\" class=\"data row2 col0\" >-0.075645</td>\n",
       "                        <td id=\"T_782495fa_e948_11ea_8a46_525400a48760row2_col1\" class=\"data row2 col1\" >0.147737</td>\n",
       "                        <td id=\"T_782495fa_e948_11ea_8a46_525400a48760row2_col2\" class=\"data row2 col2\" >1.000000</td>\n",
       "                        <td id=\"T_782495fa_e948_11ea_8a46_525400a48760row2_col3\" class=\"data row2 col3\" >0.441885</td>\n",
       "                        <td id=\"T_782495fa_e948_11ea_8a46_525400a48760row2_col4\" class=\"data row2 col4\" >0.311536</td>\n",
       "                        <td id=\"T_782495fa_e948_11ea_8a46_525400a48760row2_col5\" class=\"data row2 col5\" >0.267215</td>\n",
       "                        <td id=\"T_782495fa_e948_11ea_8a46_525400a48760row2_col6\" class=\"data row2 col6\" >0.236593</td>\n",
       "                        <td id=\"T_782495fa_e948_11ea_8a46_525400a48760row2_col7\" class=\"data row2 col7\" >-0.000917</td>\n",
       "                        <td id=\"T_782495fa_e948_11ea_8a46_525400a48760row2_col8\" class=\"data row2 col8\" >-0.114522</td>\n",
       "                        <td id=\"T_782495fa_e948_11ea_8a46_525400a48760row2_col9\" class=\"data row2 col9\" >0.067573</td>\n",
       "                        <td id=\"T_782495fa_e948_11ea_8a46_525400a48760row2_col10\" class=\"data row2 col10\" >0.087136</td>\n",
       "                        <td id=\"T_782495fa_e948_11ea_8a46_525400a48760row2_col11\" class=\"data row2 col11\" >-0.083440</td>\n",
       "                        <td id=\"T_782495fa_e948_11ea_8a46_525400a48760row2_col12\" class=\"data row2 col12\" >0.082096</td>\n",
       "                        <td id=\"T_782495fa_e948_11ea_8a46_525400a48760row2_col13\" class=\"data row2 col13\" >-0.096335</td>\n",
       "                        <td id=\"T_782495fa_e948_11ea_8a46_525400a48760row2_col14\" class=\"data row2 col14\" >-0.407168</td>\n",
       "                        <td id=\"T_782495fa_e948_11ea_8a46_525400a48760row2_col15\" class=\"data row2 col15\" >0.058784</td>\n",
       "                        <td id=\"T_782495fa_e948_11ea_8a46_525400a48760row2_col16\" class=\"data row2 col16\" >0.348305</td>\n",
       "            </tr>\n",
       "            <tr>\n",
       "                        <th id=\"T_782495fa_e948_11ea_8a46_525400a48760level0_row3\" class=\"row_heading level0 row3\" >rho</th>\n",
       "                        <td id=\"T_782495fa_e948_11ea_8a46_525400a48760row3_col0\" class=\"data row3 col0\" >0.183447</td>\n",
       "                        <td id=\"T_782495fa_e948_11ea_8a46_525400a48760row3_col1\" class=\"data row3 col1\" >0.122271</td>\n",
       "                        <td id=\"T_782495fa_e948_11ea_8a46_525400a48760row3_col2\" class=\"data row3 col2\" >0.441885</td>\n",
       "                        <td id=\"T_782495fa_e948_11ea_8a46_525400a48760row3_col3\" class=\"data row3 col3\" >1.000000</td>\n",
       "                        <td id=\"T_782495fa_e948_11ea_8a46_525400a48760row3_col4\" class=\"data row3 col4\" >0.624371</td>\n",
       "                        <td id=\"T_782495fa_e948_11ea_8a46_525400a48760row3_col5\" class=\"data row3 col5\" >0.270699</td>\n",
       "                        <td id=\"T_782495fa_e948_11ea_8a46_525400a48760row3_col6\" class=\"data row3 col6\" >0.199687</td>\n",
       "                        <td id=\"T_782495fa_e948_11ea_8a46_525400a48760row3_col7\" class=\"data row3 col7\" >-0.121803</td>\n",
       "                        <td id=\"T_782495fa_e948_11ea_8a46_525400a48760row3_col8\" class=\"data row3 col8\" >-0.074399</td>\n",
       "                        <td id=\"T_782495fa_e948_11ea_8a46_525400a48760row3_col9\" class=\"data row3 col9\" >0.063776</td>\n",
       "                        <td id=\"T_782495fa_e948_11ea_8a46_525400a48760row3_col10\" class=\"data row3 col10\" >0.118693</td>\n",
       "                        <td id=\"T_782495fa_e948_11ea_8a46_525400a48760row3_col11\" class=\"data row3 col11\" >0.001958</td>\n",
       "                        <td id=\"T_782495fa_e948_11ea_8a46_525400a48760row3_col12\" class=\"data row3 col12\" >0.189671</td>\n",
       "                        <td id=\"T_782495fa_e948_11ea_8a46_525400a48760row3_col13\" class=\"data row3 col13\" >-0.123574</td>\n",
       "                        <td id=\"T_782495fa_e948_11ea_8a46_525400a48760row3_col14\" class=\"data row3 col14\" >-0.359827</td>\n",
       "                        <td id=\"T_782495fa_e948_11ea_8a46_525400a48760row3_col15\" class=\"data row3 col15\" >-0.223641</td>\n",
       "                        <td id=\"T_782495fa_e948_11ea_8a46_525400a48760row3_col16\" class=\"data row3 col16\" >0.282355</td>\n",
       "            </tr>\n",
       "            <tr>\n",
       "                        <th id=\"T_782495fa_e948_11ea_8a46_525400a48760level0_row4\" class=\"row_heading level0 row4\" >sigma</th>\n",
       "                        <td id=\"T_782495fa_e948_11ea_8a46_525400a48760row4_col0\" class=\"data row4 col0\" >-0.285308</td>\n",
       "                        <td id=\"T_782495fa_e948_11ea_8a46_525400a48760row4_col1\" class=\"data row4 col1\" >0.171057</td>\n",
       "                        <td id=\"T_782495fa_e948_11ea_8a46_525400a48760row4_col2\" class=\"data row4 col2\" >0.311536</td>\n",
       "                        <td id=\"T_782495fa_e948_11ea_8a46_525400a48760row4_col3\" class=\"data row4 col3\" >0.624371</td>\n",
       "                        <td id=\"T_782495fa_e948_11ea_8a46_525400a48760row4_col4\" class=\"data row4 col4\" >1.000000</td>\n",
       "                        <td id=\"T_782495fa_e948_11ea_8a46_525400a48760row4_col5\" class=\"data row4 col5\" >0.279336</td>\n",
       "                        <td id=\"T_782495fa_e948_11ea_8a46_525400a48760row4_col6\" class=\"data row4 col6\" >-0.056070</td>\n",
       "                        <td id=\"T_782495fa_e948_11ea_8a46_525400a48760row4_col7\" class=\"data row4 col7\" >-0.160547</td>\n",
       "                        <td id=\"T_782495fa_e948_11ea_8a46_525400a48760row4_col8\" class=\"data row4 col8\" >-0.492376</td>\n",
       "                        <td id=\"T_782495fa_e948_11ea_8a46_525400a48760row4_col9\" class=\"data row4 col9\" >-0.131617</td>\n",
       "                        <td id=\"T_782495fa_e948_11ea_8a46_525400a48760row4_col10\" class=\"data row4 col10\" >-0.073780</td>\n",
       "                        <td id=\"T_782495fa_e948_11ea_8a46_525400a48760row4_col11\" class=\"data row4 col11\" >-0.279201</td>\n",
       "                        <td id=\"T_782495fa_e948_11ea_8a46_525400a48760row4_col12\" class=\"data row4 col12\" >0.129179</td>\n",
       "                        <td id=\"T_782495fa_e948_11ea_8a46_525400a48760row4_col13\" class=\"data row4 col13\" >-0.166501</td>\n",
       "                        <td id=\"T_782495fa_e948_11ea_8a46_525400a48760row4_col14\" class=\"data row4 col14\" >-0.331265</td>\n",
       "                        <td id=\"T_782495fa_e948_11ea_8a46_525400a48760row4_col15\" class=\"data row4 col15\" >0.141769</td>\n",
       "                        <td id=\"T_782495fa_e948_11ea_8a46_525400a48760row4_col16\" class=\"data row4 col16\" >0.045584</td>\n",
       "            </tr>\n",
       "            <tr>\n",
       "                        <th id=\"T_782495fa_e948_11ea_8a46_525400a48760level0_row5\" class=\"row_heading level0 row5\" >School_closing</th>\n",
       "                        <td id=\"T_782495fa_e948_11ea_8a46_525400a48760row5_col0\" class=\"data row5 col0\" >-0.337788</td>\n",
       "                        <td id=\"T_782495fa_e948_11ea_8a46_525400a48760row5_col1\" class=\"data row5 col1\" >0.125300</td>\n",
       "                        <td id=\"T_782495fa_e948_11ea_8a46_525400a48760row5_col2\" class=\"data row5 col2\" >0.267215</td>\n",
       "                        <td id=\"T_782495fa_e948_11ea_8a46_525400a48760row5_col3\" class=\"data row5 col3\" >0.270699</td>\n",
       "                        <td id=\"T_782495fa_e948_11ea_8a46_525400a48760row5_col4\" class=\"data row5 col4\" >0.279336</td>\n",
       "                        <td id=\"T_782495fa_e948_11ea_8a46_525400a48760row5_col5\" class=\"data row5 col5\" >1.000000</td>\n",
       "                        <td id=\"T_782495fa_e948_11ea_8a46_525400a48760row5_col6\" class=\"data row5 col6\" >0.497418</td>\n",
       "                        <td id=\"T_782495fa_e948_11ea_8a46_525400a48760row5_col7\" class=\"data row5 col7\" >0.036486</td>\n",
       "                        <td id=\"T_782495fa_e948_11ea_8a46_525400a48760row5_col8\" class=\"data row5 col8\" >-0.151467</td>\n",
       "                        <td id=\"T_782495fa_e948_11ea_8a46_525400a48760row5_col9\" class=\"data row5 col9\" >0.302286</td>\n",
       "                        <td id=\"T_782495fa_e948_11ea_8a46_525400a48760row5_col10\" class=\"data row5 col10\" >0.196261</td>\n",
       "                        <td id=\"T_782495fa_e948_11ea_8a46_525400a48760row5_col11\" class=\"data row5 col11\" >0.136305</td>\n",
       "                        <td id=\"T_782495fa_e948_11ea_8a46_525400a48760row5_col12\" class=\"data row5 col12\" >0.569938</td>\n",
       "                        <td id=\"T_782495fa_e948_11ea_8a46_525400a48760row5_col13\" class=\"data row5 col13\" >-0.037070</td>\n",
       "                        <td id=\"T_782495fa_e948_11ea_8a46_525400a48760row5_col14\" class=\"data row5 col14\" >0.042794</td>\n",
       "                        <td id=\"T_782495fa_e948_11ea_8a46_525400a48760row5_col15\" class=\"data row5 col15\" >-0.417497</td>\n",
       "                        <td id=\"T_782495fa_e948_11ea_8a46_525400a48760row5_col16\" class=\"data row5 col16\" >0.532948</td>\n",
       "            </tr>\n",
       "            <tr>\n",
       "                        <th id=\"T_782495fa_e948_11ea_8a46_525400a48760level0_row6\" class=\"row_heading level0 row6\" >Workplace_closing</th>\n",
       "                        <td id=\"T_782495fa_e948_11ea_8a46_525400a48760row6_col0\" class=\"data row6 col0\" >-0.070266</td>\n",
       "                        <td id=\"T_782495fa_e948_11ea_8a46_525400a48760row6_col1\" class=\"data row6 col1\" >0.300683</td>\n",
       "                        <td id=\"T_782495fa_e948_11ea_8a46_525400a48760row6_col2\" class=\"data row6 col2\" >0.236593</td>\n",
       "                        <td id=\"T_782495fa_e948_11ea_8a46_525400a48760row6_col3\" class=\"data row6 col3\" >0.199687</td>\n",
       "                        <td id=\"T_782495fa_e948_11ea_8a46_525400a48760row6_col4\" class=\"data row6 col4\" >-0.056070</td>\n",
       "                        <td id=\"T_782495fa_e948_11ea_8a46_525400a48760row6_col5\" class=\"data row6 col5\" >0.497418</td>\n",
       "                        <td id=\"T_782495fa_e948_11ea_8a46_525400a48760row6_col6\" class=\"data row6 col6\" >1.000000</td>\n",
       "                        <td id=\"T_782495fa_e948_11ea_8a46_525400a48760row6_col7\" class=\"data row6 col7\" >0.126402</td>\n",
       "                        <td id=\"T_782495fa_e948_11ea_8a46_525400a48760row6_col8\" class=\"data row6 col8\" >0.257686</td>\n",
       "                        <td id=\"T_782495fa_e948_11ea_8a46_525400a48760row6_col9\" class=\"data row6 col9\" >0.548157</td>\n",
       "                        <td id=\"T_782495fa_e948_11ea_8a46_525400a48760row6_col10\" class=\"data row6 col10\" >0.476511</td>\n",
       "                        <td id=\"T_782495fa_e948_11ea_8a46_525400a48760row6_col11\" class=\"data row6 col11\" >0.482453</td>\n",
       "                        <td id=\"T_782495fa_e948_11ea_8a46_525400a48760row6_col12\" class=\"data row6 col12\" >0.276885</td>\n",
       "                        <td id=\"T_782495fa_e948_11ea_8a46_525400a48760row6_col13\" class=\"data row6 col13\" >0.003532</td>\n",
       "                        <td id=\"T_782495fa_e948_11ea_8a46_525400a48760row6_col14\" class=\"data row6 col14\" >-0.066681</td>\n",
       "                        <td id=\"T_782495fa_e948_11ea_8a46_525400a48760row6_col15\" class=\"data row6 col15\" >-0.488405</td>\n",
       "                        <td id=\"T_782495fa_e948_11ea_8a46_525400a48760row6_col16\" class=\"data row6 col16\" >0.721655</td>\n",
       "            </tr>\n",
       "            <tr>\n",
       "                        <th id=\"T_782495fa_e948_11ea_8a46_525400a48760level0_row7\" class=\"row_heading level0 row7\" >Cancel_events</th>\n",
       "                        <td id=\"T_782495fa_e948_11ea_8a46_525400a48760row7_col0\" class=\"data row7 col0\" >0.024594</td>\n",
       "                        <td id=\"T_782495fa_e948_11ea_8a46_525400a48760row7_col1\" class=\"data row7 col1\" >0.036438</td>\n",
       "                        <td id=\"T_782495fa_e948_11ea_8a46_525400a48760row7_col2\" class=\"data row7 col2\" >-0.000917</td>\n",
       "                        <td id=\"T_782495fa_e948_11ea_8a46_525400a48760row7_col3\" class=\"data row7 col3\" >-0.121803</td>\n",
       "                        <td id=\"T_782495fa_e948_11ea_8a46_525400a48760row7_col4\" class=\"data row7 col4\" >-0.160547</td>\n",
       "                        <td id=\"T_782495fa_e948_11ea_8a46_525400a48760row7_col5\" class=\"data row7 col5\" >0.036486</td>\n",
       "                        <td id=\"T_782495fa_e948_11ea_8a46_525400a48760row7_col6\" class=\"data row7 col6\" >0.126402</td>\n",
       "                        <td id=\"T_782495fa_e948_11ea_8a46_525400a48760row7_col7\" class=\"data row7 col7\" >1.000000</td>\n",
       "                        <td id=\"T_782495fa_e948_11ea_8a46_525400a48760row7_col8\" class=\"data row7 col8\" >0.228233</td>\n",
       "                        <td id=\"T_782495fa_e948_11ea_8a46_525400a48760row7_col9\" class=\"data row7 col9\" >0.136891</td>\n",
       "                        <td id=\"T_782495fa_e948_11ea_8a46_525400a48760row7_col10\" class=\"data row7 col10\" >0.213888</td>\n",
       "                        <td id=\"T_782495fa_e948_11ea_8a46_525400a48760row7_col11\" class=\"data row7 col11\" >0.211178</td>\n",
       "                        <td id=\"T_782495fa_e948_11ea_8a46_525400a48760row7_col12\" class=\"data row7 col12\" >0.014652</td>\n",
       "                        <td id=\"T_782495fa_e948_11ea_8a46_525400a48760row7_col13\" class=\"data row7 col13\" >-0.006814</td>\n",
       "                        <td id=\"T_782495fa_e948_11ea_8a46_525400a48760row7_col14\" class=\"data row7 col14\" >0.026321</td>\n",
       "                        <td id=\"T_782495fa_e948_11ea_8a46_525400a48760row7_col15\" class=\"data row7 col15\" >-0.074265</td>\n",
       "                        <td id=\"T_782495fa_e948_11ea_8a46_525400a48760row7_col16\" class=\"data row7 col16\" >0.228005</td>\n",
       "            </tr>\n",
       "            <tr>\n",
       "                        <th id=\"T_782495fa_e948_11ea_8a46_525400a48760level0_row8\" class=\"row_heading level0 row8\" >Gatherings_restrictions</th>\n",
       "                        <td id=\"T_782495fa_e948_11ea_8a46_525400a48760row8_col0\" class=\"data row8 col0\" >0.209442</td>\n",
       "                        <td id=\"T_782495fa_e948_11ea_8a46_525400a48760row8_col1\" class=\"data row8 col1\" >-0.234853</td>\n",
       "                        <td id=\"T_782495fa_e948_11ea_8a46_525400a48760row8_col2\" class=\"data row8 col2\" >-0.114522</td>\n",
       "                        <td id=\"T_782495fa_e948_11ea_8a46_525400a48760row8_col3\" class=\"data row8 col3\" >-0.074399</td>\n",
       "                        <td id=\"T_782495fa_e948_11ea_8a46_525400a48760row8_col4\" class=\"data row8 col4\" >-0.492376</td>\n",
       "                        <td id=\"T_782495fa_e948_11ea_8a46_525400a48760row8_col5\" class=\"data row8 col5\" >-0.151467</td>\n",
       "                        <td id=\"T_782495fa_e948_11ea_8a46_525400a48760row8_col6\" class=\"data row8 col6\" >0.257686</td>\n",
       "                        <td id=\"T_782495fa_e948_11ea_8a46_525400a48760row8_col7\" class=\"data row8 col7\" >0.228233</td>\n",
       "                        <td id=\"T_782495fa_e948_11ea_8a46_525400a48760row8_col8\" class=\"data row8 col8\" >1.000000</td>\n",
       "                        <td id=\"T_782495fa_e948_11ea_8a46_525400a48760row8_col9\" class=\"data row8 col9\" >0.555961</td>\n",
       "                        <td id=\"T_782495fa_e948_11ea_8a46_525400a48760row8_col10\" class=\"data row8 col10\" >0.449120</td>\n",
       "                        <td id=\"T_782495fa_e948_11ea_8a46_525400a48760row8_col11\" class=\"data row8 col11\" >0.620776</td>\n",
       "                        <td id=\"T_782495fa_e948_11ea_8a46_525400a48760row8_col12\" class=\"data row8 col12\" >0.121497</td>\n",
       "                        <td id=\"T_782495fa_e948_11ea_8a46_525400a48760row8_col13\" class=\"data row8 col13\" >0.087346</td>\n",
       "                        <td id=\"T_782495fa_e948_11ea_8a46_525400a48760row8_col14\" class=\"data row8 col14\" >0.324186</td>\n",
       "                        <td id=\"T_782495fa_e948_11ea_8a46_525400a48760row8_col15\" class=\"data row8 col15\" >-0.208936</td>\n",
       "                        <td id=\"T_782495fa_e948_11ea_8a46_525400a48760row8_col16\" class=\"data row8 col16\" >0.422868</td>\n",
       "            </tr>\n",
       "            <tr>\n",
       "                        <th id=\"T_782495fa_e948_11ea_8a46_525400a48760level0_row9\" class=\"row_heading level0 row9\" >Transport_closing</th>\n",
       "                        <td id=\"T_782495fa_e948_11ea_8a46_525400a48760row9_col0\" class=\"data row9 col0\" >-0.164446</td>\n",
       "                        <td id=\"T_782495fa_e948_11ea_8a46_525400a48760row9_col1\" class=\"data row9 col1\" >-0.066898</td>\n",
       "                        <td id=\"T_782495fa_e948_11ea_8a46_525400a48760row9_col2\" class=\"data row9 col2\" >0.067573</td>\n",
       "                        <td id=\"T_782495fa_e948_11ea_8a46_525400a48760row9_col3\" class=\"data row9 col3\" >0.063776</td>\n",
       "                        <td id=\"T_782495fa_e948_11ea_8a46_525400a48760row9_col4\" class=\"data row9 col4\" >-0.131617</td>\n",
       "                        <td id=\"T_782495fa_e948_11ea_8a46_525400a48760row9_col5\" class=\"data row9 col5\" >0.302286</td>\n",
       "                        <td id=\"T_782495fa_e948_11ea_8a46_525400a48760row9_col6\" class=\"data row9 col6\" >0.548157</td>\n",
       "                        <td id=\"T_782495fa_e948_11ea_8a46_525400a48760row9_col7\" class=\"data row9 col7\" >0.136891</td>\n",
       "                        <td id=\"T_782495fa_e948_11ea_8a46_525400a48760row9_col8\" class=\"data row9 col8\" >0.555961</td>\n",
       "                        <td id=\"T_782495fa_e948_11ea_8a46_525400a48760row9_col9\" class=\"data row9 col9\" >1.000000</td>\n",
       "                        <td id=\"T_782495fa_e948_11ea_8a46_525400a48760row9_col10\" class=\"data row9 col10\" >0.561702</td>\n",
       "                        <td id=\"T_782495fa_e948_11ea_8a46_525400a48760row9_col11\" class=\"data row9 col11\" >0.791754</td>\n",
       "                        <td id=\"T_782495fa_e948_11ea_8a46_525400a48760row9_col12\" class=\"data row9 col12\" >0.321095</td>\n",
       "                        <td id=\"T_782495fa_e948_11ea_8a46_525400a48760row9_col13\" class=\"data row9 col13\" >-0.115129</td>\n",
       "                        <td id=\"T_782495fa_e948_11ea_8a46_525400a48760row9_col14\" class=\"data row9 col14\" >0.275508</td>\n",
       "                        <td id=\"T_782495fa_e948_11ea_8a46_525400a48760row9_col15\" class=\"data row9 col15\" >-0.258136</td>\n",
       "                        <td id=\"T_782495fa_e948_11ea_8a46_525400a48760row9_col16\" class=\"data row9 col16\" >0.717413</td>\n",
       "            </tr>\n",
       "            <tr>\n",
       "                        <th id=\"T_782495fa_e948_11ea_8a46_525400a48760level0_row10\" class=\"row_heading level0 row10\" >Stay_home_restrictions</th>\n",
       "                        <td id=\"T_782495fa_e948_11ea_8a46_525400a48760row10_col0\" class=\"data row10 col0\" >-0.092868</td>\n",
       "                        <td id=\"T_782495fa_e948_11ea_8a46_525400a48760row10_col1\" class=\"data row10 col1\" >-0.084945</td>\n",
       "                        <td id=\"T_782495fa_e948_11ea_8a46_525400a48760row10_col2\" class=\"data row10 col2\" >0.087136</td>\n",
       "                        <td id=\"T_782495fa_e948_11ea_8a46_525400a48760row10_col3\" class=\"data row10 col3\" >0.118693</td>\n",
       "                        <td id=\"T_782495fa_e948_11ea_8a46_525400a48760row10_col4\" class=\"data row10 col4\" >-0.073780</td>\n",
       "                        <td id=\"T_782495fa_e948_11ea_8a46_525400a48760row10_col5\" class=\"data row10 col5\" >0.196261</td>\n",
       "                        <td id=\"T_782495fa_e948_11ea_8a46_525400a48760row10_col6\" class=\"data row10 col6\" >0.476511</td>\n",
       "                        <td id=\"T_782495fa_e948_11ea_8a46_525400a48760row10_col7\" class=\"data row10 col7\" >0.213888</td>\n",
       "                        <td id=\"T_782495fa_e948_11ea_8a46_525400a48760row10_col8\" class=\"data row10 col8\" >0.449120</td>\n",
       "                        <td id=\"T_782495fa_e948_11ea_8a46_525400a48760row10_col9\" class=\"data row10 col9\" >0.561702</td>\n",
       "                        <td id=\"T_782495fa_e948_11ea_8a46_525400a48760row10_col10\" class=\"data row10 col10\" >1.000000</td>\n",
       "                        <td id=\"T_782495fa_e948_11ea_8a46_525400a48760row10_col11\" class=\"data row10 col11\" >0.626538</td>\n",
       "                        <td id=\"T_782495fa_e948_11ea_8a46_525400a48760row10_col12\" class=\"data row10 col12\" >0.296547</td>\n",
       "                        <td id=\"T_782495fa_e948_11ea_8a46_525400a48760row10_col13\" class=\"data row10 col13\" >0.070205</td>\n",
       "                        <td id=\"T_782495fa_e948_11ea_8a46_525400a48760row10_col14\" class=\"data row10 col14\" >0.277622</td>\n",
       "                        <td id=\"T_782495fa_e948_11ea_8a46_525400a48760row10_col15\" class=\"data row10 col15\" >0.023746</td>\n",
       "                        <td id=\"T_782495fa_e948_11ea_8a46_525400a48760row10_col16\" class=\"data row10 col16\" >0.637711</td>\n",
       "            </tr>\n",
       "            <tr>\n",
       "                        <th id=\"T_782495fa_e948_11ea_8a46_525400a48760level0_row11\" class=\"row_heading level0 row11\" >Internal_movement_restrictions</th>\n",
       "                        <td id=\"T_782495fa_e948_11ea_8a46_525400a48760row11_col0\" class=\"data row11 col0\" >-0.025416</td>\n",
       "                        <td id=\"T_782495fa_e948_11ea_8a46_525400a48760row11_col1\" class=\"data row11 col1\" >-0.030205</td>\n",
       "                        <td id=\"T_782495fa_e948_11ea_8a46_525400a48760row11_col2\" class=\"data row11 col2\" >-0.083440</td>\n",
       "                        <td id=\"T_782495fa_e948_11ea_8a46_525400a48760row11_col3\" class=\"data row11 col3\" >0.001958</td>\n",
       "                        <td id=\"T_782495fa_e948_11ea_8a46_525400a48760row11_col4\" class=\"data row11 col4\" >-0.279201</td>\n",
       "                        <td id=\"T_782495fa_e948_11ea_8a46_525400a48760row11_col5\" class=\"data row11 col5\" >0.136305</td>\n",
       "                        <td id=\"T_782495fa_e948_11ea_8a46_525400a48760row11_col6\" class=\"data row11 col6\" >0.482453</td>\n",
       "                        <td id=\"T_782495fa_e948_11ea_8a46_525400a48760row11_col7\" class=\"data row11 col7\" >0.211178</td>\n",
       "                        <td id=\"T_782495fa_e948_11ea_8a46_525400a48760row11_col8\" class=\"data row11 col8\" >0.620776</td>\n",
       "                        <td id=\"T_782495fa_e948_11ea_8a46_525400a48760row11_col9\" class=\"data row11 col9\" >0.791754</td>\n",
       "                        <td id=\"T_782495fa_e948_11ea_8a46_525400a48760row11_col10\" class=\"data row11 col10\" >0.626538</td>\n",
       "                        <td id=\"T_782495fa_e948_11ea_8a46_525400a48760row11_col11\" class=\"data row11 col11\" >1.000000</td>\n",
       "                        <td id=\"T_782495fa_e948_11ea_8a46_525400a48760row11_col12\" class=\"data row11 col12\" >0.257779</td>\n",
       "                        <td id=\"T_782495fa_e948_11ea_8a46_525400a48760row11_col13\" class=\"data row11 col13\" >-0.028041</td>\n",
       "                        <td id=\"T_782495fa_e948_11ea_8a46_525400a48760row11_col14\" class=\"data row11 col14\" >0.341214</td>\n",
       "                        <td id=\"T_782495fa_e948_11ea_8a46_525400a48760row11_col15\" class=\"data row11 col15\" >-0.299097</td>\n",
       "                        <td id=\"T_782495fa_e948_11ea_8a46_525400a48760row11_col16\" class=\"data row11 col16\" >0.630684</td>\n",
       "            </tr>\n",
       "            <tr>\n",
       "                        <th id=\"T_782495fa_e948_11ea_8a46_525400a48760level0_row12\" class=\"row_heading level0 row12\" >International_movement_restrictions</th>\n",
       "                        <td id=\"T_782495fa_e948_11ea_8a46_525400a48760row12_col0\" class=\"data row12 col0\" >-0.216066</td>\n",
       "                        <td id=\"T_782495fa_e948_11ea_8a46_525400a48760row12_col1\" class=\"data row12 col1\" >0.014805</td>\n",
       "                        <td id=\"T_782495fa_e948_11ea_8a46_525400a48760row12_col2\" class=\"data row12 col2\" >0.082096</td>\n",
       "                        <td id=\"T_782495fa_e948_11ea_8a46_525400a48760row12_col3\" class=\"data row12 col3\" >0.189671</td>\n",
       "                        <td id=\"T_782495fa_e948_11ea_8a46_525400a48760row12_col4\" class=\"data row12 col4\" >0.129179</td>\n",
       "                        <td id=\"T_782495fa_e948_11ea_8a46_525400a48760row12_col5\" class=\"data row12 col5\" >0.569938</td>\n",
       "                        <td id=\"T_782495fa_e948_11ea_8a46_525400a48760row12_col6\" class=\"data row12 col6\" >0.276885</td>\n",
       "                        <td id=\"T_782495fa_e948_11ea_8a46_525400a48760row12_col7\" class=\"data row12 col7\" >0.014652</td>\n",
       "                        <td id=\"T_782495fa_e948_11ea_8a46_525400a48760row12_col8\" class=\"data row12 col8\" >0.121497</td>\n",
       "                        <td id=\"T_782495fa_e948_11ea_8a46_525400a48760row12_col9\" class=\"data row12 col9\" >0.321095</td>\n",
       "                        <td id=\"T_782495fa_e948_11ea_8a46_525400a48760row12_col10\" class=\"data row12 col10\" >0.296547</td>\n",
       "                        <td id=\"T_782495fa_e948_11ea_8a46_525400a48760row12_col11\" class=\"data row12 col11\" >0.257779</td>\n",
       "                        <td id=\"T_782495fa_e948_11ea_8a46_525400a48760row12_col12\" class=\"data row12 col12\" >1.000000</td>\n",
       "                        <td id=\"T_782495fa_e948_11ea_8a46_525400a48760row12_col13\" class=\"data row12 col13\" >0.028002</td>\n",
       "                        <td id=\"T_782495fa_e948_11ea_8a46_525400a48760row12_col14\" class=\"data row12 col14\" >0.120578</td>\n",
       "                        <td id=\"T_782495fa_e948_11ea_8a46_525400a48760row12_col15\" class=\"data row12 col15\" >-0.158342</td>\n",
       "                        <td id=\"T_782495fa_e948_11ea_8a46_525400a48760row12_col16\" class=\"data row12 col16\" >0.631139</td>\n",
       "            </tr>\n",
       "            <tr>\n",
       "                        <th id=\"T_782495fa_e948_11ea_8a46_525400a48760level0_row13\" class=\"row_heading level0 row13\" >Information_campaigns</th>\n",
       "                        <td id=\"T_782495fa_e948_11ea_8a46_525400a48760row13_col0\" class=\"data row13 col0\" >0.025942</td>\n",
       "                        <td id=\"T_782495fa_e948_11ea_8a46_525400a48760row13_col1\" class=\"data row13 col1\" >0.016203</td>\n",
       "                        <td id=\"T_782495fa_e948_11ea_8a46_525400a48760row13_col2\" class=\"data row13 col2\" >-0.096335</td>\n",
       "                        <td id=\"T_782495fa_e948_11ea_8a46_525400a48760row13_col3\" class=\"data row13 col3\" >-0.123574</td>\n",
       "                        <td id=\"T_782495fa_e948_11ea_8a46_525400a48760row13_col4\" class=\"data row13 col4\" >-0.166501</td>\n",
       "                        <td id=\"T_782495fa_e948_11ea_8a46_525400a48760row13_col5\" class=\"data row13 col5\" >-0.037070</td>\n",
       "                        <td id=\"T_782495fa_e948_11ea_8a46_525400a48760row13_col6\" class=\"data row13 col6\" >0.003532</td>\n",
       "                        <td id=\"T_782495fa_e948_11ea_8a46_525400a48760row13_col7\" class=\"data row13 col7\" >-0.006814</td>\n",
       "                        <td id=\"T_782495fa_e948_11ea_8a46_525400a48760row13_col8\" class=\"data row13 col8\" >0.087346</td>\n",
       "                        <td id=\"T_782495fa_e948_11ea_8a46_525400a48760row13_col9\" class=\"data row13 col9\" >-0.115129</td>\n",
       "                        <td id=\"T_782495fa_e948_11ea_8a46_525400a48760row13_col10\" class=\"data row13 col10\" >0.070205</td>\n",
       "                        <td id=\"T_782495fa_e948_11ea_8a46_525400a48760row13_col11\" class=\"data row13 col11\" >-0.028041</td>\n",
       "                        <td id=\"T_782495fa_e948_11ea_8a46_525400a48760row13_col12\" class=\"data row13 col12\" >0.028002</td>\n",
       "                        <td id=\"T_782495fa_e948_11ea_8a46_525400a48760row13_col13\" class=\"data row13 col13\" >1.000000</td>\n",
       "                        <td id=\"T_782495fa_e948_11ea_8a46_525400a48760row13_col14\" class=\"data row13 col14\" >0.151769</td>\n",
       "                        <td id=\"T_782495fa_e948_11ea_8a46_525400a48760row13_col15\" class=\"data row13 col15\" >0.062042</td>\n",
       "                        <td id=\"T_782495fa_e948_11ea_8a46_525400a48760row13_col16\" class=\"data row13 col16\" >-0.000246</td>\n",
       "            </tr>\n",
       "            <tr>\n",
       "                        <th id=\"T_782495fa_e948_11ea_8a46_525400a48760level0_row14\" class=\"row_heading level0 row14\" >Testing_policy</th>\n",
       "                        <td id=\"T_782495fa_e948_11ea_8a46_525400a48760row14_col0\" class=\"data row14 col0\" >-0.150150</td>\n",
       "                        <td id=\"T_782495fa_e948_11ea_8a46_525400a48760row14_col1\" class=\"data row14 col1\" >-0.573400</td>\n",
       "                        <td id=\"T_782495fa_e948_11ea_8a46_525400a48760row14_col2\" class=\"data row14 col2\" >-0.407168</td>\n",
       "                        <td id=\"T_782495fa_e948_11ea_8a46_525400a48760row14_col3\" class=\"data row14 col3\" >-0.359827</td>\n",
       "                        <td id=\"T_782495fa_e948_11ea_8a46_525400a48760row14_col4\" class=\"data row14 col4\" >-0.331265</td>\n",
       "                        <td id=\"T_782495fa_e948_11ea_8a46_525400a48760row14_col5\" class=\"data row14 col5\" >0.042794</td>\n",
       "                        <td id=\"T_782495fa_e948_11ea_8a46_525400a48760row14_col6\" class=\"data row14 col6\" >-0.066681</td>\n",
       "                        <td id=\"T_782495fa_e948_11ea_8a46_525400a48760row14_col7\" class=\"data row14 col7\" >0.026321</td>\n",
       "                        <td id=\"T_782495fa_e948_11ea_8a46_525400a48760row14_col8\" class=\"data row14 col8\" >0.324186</td>\n",
       "                        <td id=\"T_782495fa_e948_11ea_8a46_525400a48760row14_col9\" class=\"data row14 col9\" >0.275508</td>\n",
       "                        <td id=\"T_782495fa_e948_11ea_8a46_525400a48760row14_col10\" class=\"data row14 col10\" >0.277622</td>\n",
       "                        <td id=\"T_782495fa_e948_11ea_8a46_525400a48760row14_col11\" class=\"data row14 col11\" >0.341214</td>\n",
       "                        <td id=\"T_782495fa_e948_11ea_8a46_525400a48760row14_col12\" class=\"data row14 col12\" >0.120578</td>\n",
       "                        <td id=\"T_782495fa_e948_11ea_8a46_525400a48760row14_col13\" class=\"data row14 col13\" >0.151769</td>\n",
       "                        <td id=\"T_782495fa_e948_11ea_8a46_525400a48760row14_col14\" class=\"data row14 col14\" >1.000000</td>\n",
       "                        <td id=\"T_782495fa_e948_11ea_8a46_525400a48760row14_col15\" class=\"data row14 col15\" >0.064397</td>\n",
       "                        <td id=\"T_782495fa_e948_11ea_8a46_525400a48760row14_col16\" class=\"data row14 col16\" >-0.126822</td>\n",
       "            </tr>\n",
       "            <tr>\n",
       "                        <th id=\"T_782495fa_e948_11ea_8a46_525400a48760level0_row15\" class=\"row_heading level0 row15\" >Contact_tracing</th>\n",
       "                        <td id=\"T_782495fa_e948_11ea_8a46_525400a48760row15_col0\" class=\"data row15 col0\" >-0.277735</td>\n",
       "                        <td id=\"T_782495fa_e948_11ea_8a46_525400a48760row15_col1\" class=\"data row15 col1\" >-0.121763</td>\n",
       "                        <td id=\"T_782495fa_e948_11ea_8a46_525400a48760row15_col2\" class=\"data row15 col2\" >0.058784</td>\n",
       "                        <td id=\"T_782495fa_e948_11ea_8a46_525400a48760row15_col3\" class=\"data row15 col3\" >-0.223641</td>\n",
       "                        <td id=\"T_782495fa_e948_11ea_8a46_525400a48760row15_col4\" class=\"data row15 col4\" >0.141769</td>\n",
       "                        <td id=\"T_782495fa_e948_11ea_8a46_525400a48760row15_col5\" class=\"data row15 col5\" >-0.417497</td>\n",
       "                        <td id=\"T_782495fa_e948_11ea_8a46_525400a48760row15_col6\" class=\"data row15 col6\" >-0.488405</td>\n",
       "                        <td id=\"T_782495fa_e948_11ea_8a46_525400a48760row15_col7\" class=\"data row15 col7\" >-0.074265</td>\n",
       "                        <td id=\"T_782495fa_e948_11ea_8a46_525400a48760row15_col8\" class=\"data row15 col8\" >-0.208936</td>\n",
       "                        <td id=\"T_782495fa_e948_11ea_8a46_525400a48760row15_col9\" class=\"data row15 col9\" >-0.258136</td>\n",
       "                        <td id=\"T_782495fa_e948_11ea_8a46_525400a48760row15_col10\" class=\"data row15 col10\" >0.023746</td>\n",
       "                        <td id=\"T_782495fa_e948_11ea_8a46_525400a48760row15_col11\" class=\"data row15 col11\" >-0.299097</td>\n",
       "                        <td id=\"T_782495fa_e948_11ea_8a46_525400a48760row15_col12\" class=\"data row15 col12\" >-0.158342</td>\n",
       "                        <td id=\"T_782495fa_e948_11ea_8a46_525400a48760row15_col13\" class=\"data row15 col13\" >0.062042</td>\n",
       "                        <td id=\"T_782495fa_e948_11ea_8a46_525400a48760row15_col14\" class=\"data row15 col14\" >0.064397</td>\n",
       "                        <td id=\"T_782495fa_e948_11ea_8a46_525400a48760row15_col15\" class=\"data row15 col15\" >1.000000</td>\n",
       "                        <td id=\"T_782495fa_e948_11ea_8a46_525400a48760row15_col16\" class=\"data row15 col16\" >-0.263072</td>\n",
       "            </tr>\n",
       "            <tr>\n",
       "                        <th id=\"T_782495fa_e948_11ea_8a46_525400a48760level0_row16\" class=\"row_heading level0 row16\" >Stringency_index</th>\n",
       "                        <td id=\"T_782495fa_e948_11ea_8a46_525400a48760row16_col0\" class=\"data row16 col0\" >-0.157545</td>\n",
       "                        <td id=\"T_782495fa_e948_11ea_8a46_525400a48760row16_col1\" class=\"data row16 col1\" >0.259198</td>\n",
       "                        <td id=\"T_782495fa_e948_11ea_8a46_525400a48760row16_col2\" class=\"data row16 col2\" >0.348305</td>\n",
       "                        <td id=\"T_782495fa_e948_11ea_8a46_525400a48760row16_col3\" class=\"data row16 col3\" >0.282355</td>\n",
       "                        <td id=\"T_782495fa_e948_11ea_8a46_525400a48760row16_col4\" class=\"data row16 col4\" >0.045584</td>\n",
       "                        <td id=\"T_782495fa_e948_11ea_8a46_525400a48760row16_col5\" class=\"data row16 col5\" >0.532948</td>\n",
       "                        <td id=\"T_782495fa_e948_11ea_8a46_525400a48760row16_col6\" class=\"data row16 col6\" >0.721655</td>\n",
       "                        <td id=\"T_782495fa_e948_11ea_8a46_525400a48760row16_col7\" class=\"data row16 col7\" >0.228005</td>\n",
       "                        <td id=\"T_782495fa_e948_11ea_8a46_525400a48760row16_col8\" class=\"data row16 col8\" >0.422868</td>\n",
       "                        <td id=\"T_782495fa_e948_11ea_8a46_525400a48760row16_col9\" class=\"data row16 col9\" >0.717413</td>\n",
       "                        <td id=\"T_782495fa_e948_11ea_8a46_525400a48760row16_col10\" class=\"data row16 col10\" >0.637711</td>\n",
       "                        <td id=\"T_782495fa_e948_11ea_8a46_525400a48760row16_col11\" class=\"data row16 col11\" >0.630684</td>\n",
       "                        <td id=\"T_782495fa_e948_11ea_8a46_525400a48760row16_col12\" class=\"data row16 col12\" >0.631139</td>\n",
       "                        <td id=\"T_782495fa_e948_11ea_8a46_525400a48760row16_col13\" class=\"data row16 col13\" >-0.000246</td>\n",
       "                        <td id=\"T_782495fa_e948_11ea_8a46_525400a48760row16_col14\" class=\"data row16 col14\" >-0.126822</td>\n",
       "                        <td id=\"T_782495fa_e948_11ea_8a46_525400a48760row16_col15\" class=\"data row16 col15\" >-0.263072</td>\n",
       "                        <td id=\"T_782495fa_e948_11ea_8a46_525400a48760row16_col16\" class=\"data row16 col16\" >1.000000</td>\n",
       "            </tr>\n",
       "    </tbody></table>"
      ],
      "text/plain": [
       "<pandas.io.formats.style.Styler at 0x7fdbea5d5160>"
      ]
     },
     "execution_count": 21,
     "metadata": {},
     "output_type": "execute_result"
    }
   ],
   "source": [
    "# Correlation\n",
    "df = track_df.copy()\n",
    "df.corr().style.background_gradient(axis=None)"
   ]
  },
  {
   "cell_type": "code",
   "execution_count": 22,
   "metadata": {
    "collapsed": false
   },
   "outputs": [
    {
     "data": {
      "image/png": "[encoded data removed]",
      "text/plain": [
       "<Figure size 432x288 with 1 Axes>"
      ]
     },
     "metadata": {},
     "output_type": "display_data"
    }
   ],
   "source": [
    "# Scatter plot of Stringency index and Rt\n",
    "df = track_df.copy()\n",
    "sns.scatterplot(data=df, x=\"Stringency_index\", y=\"Rt\", hue=\"Country\", legend=\"brief\", marker=\"+\")\n",
    "bbox_to_anchor=(1.02, 0)\n",
    "bbox_loc=\"lower left\"\n",
    "plt.legend(bbox_to_anchor=bbox_to_anchor, loc=bbox_loc, borderaxespad=0)\n",
    "plt.title(\"Relationship of Stringency index and reproduction number\")\n",
    "plt.ylabel(\"Reproduction number\")\n",
    "plt.xlabel(\"Stringency index\")\n",
    "plt.show()"
   ]
  }
 ],
 "metadata": {
  "kernelspec": {
   "display_name": "Python 3.8.2 64-bit ('.venv': venv)",
   "name": "python_defaultSpec_1597669925034"
  },
  "language_info": {
   "codemirror_mode": {
    "name": "ipython",
    "version": 3
   },
   "file_extension": ".py",
   "mimetype": "text/x-python",
   "name": "python",
   "nbconvert_exporter": "python",
   "pygments_lexer": "ipython3",
   "version": "3.8.2-final"
  }
 },
 "nbformat": 4,
 "nbformat_minor": 4
}
