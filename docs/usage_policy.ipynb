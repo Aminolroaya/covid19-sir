{
 "cells": [
  {
   "cell_type": "markdown",
   "metadata": {},
   "source": [
    "# Usage (details: policy measures)\n",
    "Here, we will analyse the relationship of policy measures and parameter values of SIR-derived ODE models. Policy measures are tracked by [Oxford Covid-19 Government Response Tracker (OxCGRT)](https://github.com/OxCGRT/covid-policy-tracker)."
   ]
  },
  {
   "cell_type": "markdown",
   "metadata": {},
   "source": [
    "## Preparation"
   ]
  },
  {
   "cell_type": "code",
   "execution_count": 1,
   "metadata": {
    "collapsed": false
   },
   "outputs": [],
   "source": [
    "# Standard users\n",
    "# !pip install covsirphy\n",
    "# Developers (Note: this notebook is in example directory)\n",
    "import os\n",
    "os.chdir(\"../\")"
   ]
  },
  {
   "cell_type": "code",
   "execution_count": 2,
   "metadata": {
    "collapsed": false
   },
   "outputs": [],
   "source": [
    "from pprint import pprint"
   ]
  },
  {
   "cell_type": "code",
   "execution_count": 3,
   "metadata": {
    "collapsed": false
   },
   "outputs": [
    {
     "data": {
      "text/plain": [
       "'2.12.0-phi.new.339.357.359.362.366.367.382.383.389.408.fix.360.373.406'"
      ]
     },
     "execution_count": 3,
     "metadata": {},
     "output_type": "execute_result"
    }
   ],
   "source": [
    "import covsirphy as cs\n",
    "cs.__version__"
   ]
  },
  {
   "cell_type": "code",
   "execution_count": 4,
   "metadata": {
    "collapsed": false,
    "tags": []
   },
   "outputs": [
    {
     "name": "stdout",
     "output_type": "stream",
     "text": [
      "(Secondary source) Guidotti, E., Ardia, D., (2020), \"COVID-19 Data Hub\", Journal of Open Source Software 5(51):2376, doi: 10.21105/joss.02376.\n"
     ]
    }
   ],
   "source": [
    "# Standard users and developers\n",
    "data_loader = cs.DataLoader(\"input\")\n",
    "# The number of cases (JHU style)\n",
    "jhu_data = data_loader.jhu(verbose=False)\n",
    "# Population in each country\n",
    "population_data = data_loader.population(verbose=False)\n",
    "# Government Response Tracker (OxCGRT)\n",
    "oxcgrt_data = data_loader.oxcgrt(verbose=False)\n",
    "# Description/citation\n",
    "print(oxcgrt_data.citation)"
   ]
  },
  {
   "cell_type": "markdown",
   "metadata": {},
   "source": [
    "## Class for policy measure analysis\n",
    "We will `PolicyMeasures` class to find relationship of policy measures and parameter values of SIR-derived ODE models."
   ]
  },
  {
   "cell_type": "code",
   "execution_count": 5,
   "metadata": {
    "collapsed": false,
    "tags": []
   },
   "outputs": [
    {
     "name": "stderr",
     "output_type": "stream",
     "text": [
      "/home/runner/.local/share/virtualenvs/covid19-sir-kT3BL-HO/lib/python3.8/site-packages/scipy/interpolate/fitpack2.py:253: UserWarning: \n",
      "The maximal number of iterations maxit (set to 20 by the program)\n",
      "allowed for finding a smoothing spline with fp=s has been reached: s\n",
      "too small.\n",
      "There is an approximation returned but the corresponding weighted sum\n",
      "of squared residuals does not satisfy the condition abs(fp-s)/s < tol.\n",
      "  warnings.warn(message)\n"
     ]
    },
    {
     "data": {
      "text/plain": [
       "196"
      ]
     },
     "execution_count": 5,
     "metadata": {},
     "output_type": "execute_result"
    }
   ],
   "source": [
    "# Create analyser with tau value 360 [min] (can be changed)\n",
    "analyser = cs.PolicyMeasures(jhu_data, population_data, oxcgrt_data, tau=360)\n",
    "# The number of registerd countries\n",
    "len(analyser.countries)"
   ]
  },
  {
   "cell_type": "code",
   "execution_count": 6,
   "metadata": {
    "collapsed": false
   },
   "outputs": [
    {
     "data": {
      "text/plain": [
       "covsirphy.analysis.scenario.Scenario"
      ]
     },
     "execution_count": 6,
     "metadata": {},
     "output_type": "execute_result"
    }
   ],
   "source": [
    "# We can get Scenario instance for detailed scenario analysis\n",
    "type(analyser.scenario(\"Japan\"))"
   ]
  },
  {
   "cell_type": "markdown",
   "metadata": {},
   "source": [
    "## Set phases with S-R trend analysis\n",
    "We will perform S-R trend analysis to set phases in all countries. Countries which do not have **16th phases** will be un-registered for the next analysis. This number will be adjusted for your analysis."
   ]
  },
  {
   "cell_type": "code",
   "execution_count": 7,
   "metadata": {
    "collapsed": false
   },
   "outputs": [
    {
     "name": "stdout",
     "output_type": "stream",
     "text": [
      "{2: ['Timor-Leste', 'Solomon Islands', 'Holy See'],\n",
      " 3: ['Tanzania', 'Laos', 'Saint Kitts and Nevis'],\n",
      " 4: ['Brunei', 'Grenada', 'Saint Lucia', 'Dominica'],\n",
      " 5: ['Equatorial Guinea', 'Fiji'],\n",
      " 6: ['Antigua and Barbuda', 'Mauritius', 'Saint Vincent and the Grenadines'],\n",
      " 7: ['Gambia'],\n",
      " 8: ['Trinidad and Tobago', 'Seychelles', 'Liechtenstein', 'Madagascar',\n",
      "     'Vietnam', 'Monaco', 'Bahamas', 'Kyrgyzstan', 'Northern Mariana Islands',\n",
      "     'Cambodia', 'Lesotho'],\n",
      " 9: ['Bolivia', 'Djibouti', 'Jamaica', 'Belize', 'Namibia', 'South Africa',\n",
      "     'Uzbekistan', 'Zambia', 'Bermuda', 'Virgin Islands, U.S.', 'Burundi',\n",
      "     'Kazakhstan', 'Republic of the Congo', 'Barbados', 'Zimbabwe', 'Swaziland',\n",
      "     'Oman', 'Australia', 'Ghana', 'Sao Tome and Principe', 'Suriname',\n",
      "     'Malawi', 'Papua New Guinea'],\n",
      " 10: ['Eritrea', 'Libya', 'Guyana', 'Dominican Republic', 'Benin', 'Maldives',\n",
      "      'Guatemala', 'Angola', 'Singapore', 'Israel', 'Kenya', 'Rwanda',\n",
      "      \"Cote d'Ivoire\", 'Comoros', 'Mongolia', 'Saudi Arabia', 'Bhutan',\n",
      "      'Honduras', 'Chile', 'Gabon', 'Kuwait', 'Nigeria', 'Syria',\n",
      "      'Central African Republic', 'Egypt', 'Botswana', 'Venezuela', 'Liberia',\n",
      "      'Senegal', 'New Zealand', 'Mozambique', 'Philippines', 'Ethiopia',\n",
      "      'Bahrain', 'Algeria'],\n",
      " 11: ['Cape Verde', 'Chad', 'Guinea-Bissau', 'Cameroon', 'Costa Rica', 'Panama',\n",
      "      'Colombia', 'Guam', 'Paraguay', 'Sierra Leone', 'Nicaragua', 'Yemen',\n",
      "      'Sudan', 'India', 'Mexico', 'Guinea', 'Ecuador', 'Taiwan', 'Brazil',\n",
      "      'Bangladesh', 'Peru', 'Iraq', 'El Salvador', 'Pakistan', 'Jordan',\n",
      "      'Puerto Rico'],\n",
      " 12: ['Tajikistan', 'Togo', 'Niger', 'Iceland', 'Argentina', 'Myanmar',\n",
      "      'United Arab Emirates', 'Qatar', 'South Sudan', 'Nepal', 'Sri Lanka',\n",
      "      'Japan', 'Georgia', 'Montenegro', 'Democratic Republic of the Congo',\n",
      "      'Kosovo', 'Indonesia', 'Uganda'],\n",
      " 13: ['Uruguay', 'Somalia', 'Luxembourg', 'Moldova', 'Mauritania', 'Malta',\n",
      "      'Serbia', 'United States', 'Burkina Faso', 'Poland', 'Cuba', 'Greece',\n",
      "      'Bulgaria', 'Hungary', 'Azerbaijan', 'Norway', 'Slovakia', 'China',\n",
      "      'Russia', 'Palestine', 'Armenia', 'Mali', 'Cyprus', 'Haiti', 'Croatia',\n",
      "      'San Marino', 'Slovenia'],\n",
      " 14: ['Iran', 'Albania', 'Belarus', 'North Macedonia', 'Bosnia and Herzegovina',\n",
      "      'Tunisia', 'Malaysia', 'Afghanistan', 'Ireland', 'Thailand', 'Sweden',\n",
      "      'Czech Republic', 'Spain', 'Turkey', 'Andorra', 'Lithuania', 'Morocco'],\n",
      " 15: ['Finland', 'Italy', 'Romania', 'Ukraine', 'Lebanon', 'Germany',\n",
      "      'Switzerland', 'Latvia', 'Estonia', 'Austria', 'Denmark'],\n",
      " 16: ['Netherlands', 'Portugal', 'Canada', 'Belgium', 'France',\n",
      "      'United Kingdom']}\n"
     ]
    }
   ],
   "source": [
    "# Show the number of phases of all countries\n",
    "analyser.trend()\n",
    "pprint(analyser.phase_len(), compact=True)"
   ]
  },
  {
   "cell_type": "code",
   "execution_count": 8,
   "metadata": {
    "collapsed": false
   },
   "outputs": [
    {
     "data": {
      "text/plain": [
       "6"
      ]
     },
     "execution_count": 8,
     "metadata": {},
     "output_type": "execute_result"
    }
   ],
   "source": [
    "# Set phases with S-R trend analysis\n",
    "analyser.trend(min_len=16)\n",
    "# The number of countries\n",
    "len(analyser.countries)"
   ]
  },
  {
   "cell_type": "code",
   "execution_count": 9,
   "metadata": {
    "collapsed": false,
    "tags": []
   },
   "outputs": [
    {
     "name": "stdout",
     "output_type": "stream",
     "text": [
      "{16: ['Netherlands', 'Portugal', 'Canada', 'Belgium', 'France',\n",
      "      'United Kingdom']}\n"
     ]
    }
   ],
   "source": [
    "phase_len_dict = analyser.phase_len()\n",
    "pprint(phase_len_dict, compact=True)"
   ]
  },
  {
   "cell_type": "code",
   "execution_count": 10,
   "metadata": {
    "collapsed": false,
    "tags": []
   },
   "outputs": [
    {
     "data": {
      "text/html": [
       "<div>\n",
       "<style scoped>\n",
       "    .dataframe tbody tr th:only-of-type {\n",
       "        vertical-align: middle;\n",
       "    }\n",
       "\n",
       "    .dataframe tbody tr th {\n",
       "        vertical-align: top;\n",
       "    }\n",
       "\n",
       "    .dataframe thead th {\n",
       "        text-align: right;\n",
       "    }\n",
       "</style>\n",
       "<table border=\"1\" class=\"dataframe\">\n",
       "  <thead>\n",
       "    <tr style=\"text-align: right;\">\n",
       "      <th></th>\n",
       "      <th></th>\n",
       "      <th>Type</th>\n",
       "      <th>Start</th>\n",
       "      <th>End</th>\n",
       "      <th>Population</th>\n",
       "    </tr>\n",
       "    <tr>\n",
       "      <th>Country</th>\n",
       "      <th>Phase</th>\n",
       "      <th></th>\n",
       "      <th></th>\n",
       "      <th></th>\n",
       "      <th></th>\n",
       "    </tr>\n",
       "  </thead>\n",
       "  <tbody>\n",
       "    <tr>\n",
       "      <th rowspan=\"5\" valign=\"top\">Netherlands</th>\n",
       "      <th>0th</th>\n",
       "      <td>Past</td>\n",
       "      <td>11Mar2020</td>\n",
       "      <td>31Mar2020</td>\n",
       "      <td>17231624</td>\n",
       "    </tr>\n",
       "    <tr>\n",
       "      <th>1st</th>\n",
       "      <td>Past</td>\n",
       "      <td>01Apr2020</td>\n",
       "      <td>16Apr2020</td>\n",
       "      <td>17231624</td>\n",
       "    </tr>\n",
       "    <tr>\n",
       "      <th>2nd</th>\n",
       "      <td>Past</td>\n",
       "      <td>17Apr2020</td>\n",
       "      <td>22May2020</td>\n",
       "      <td>17231624</td>\n",
       "    </tr>\n",
       "    <tr>\n",
       "      <th>3rd</th>\n",
       "      <td>Past</td>\n",
       "      <td>23May2020</td>\n",
       "      <td>07Aug2020</td>\n",
       "      <td>17231624</td>\n",
       "    </tr>\n",
       "    <tr>\n",
       "      <th>4th</th>\n",
       "      <td>Past</td>\n",
       "      <td>08Aug2020</td>\n",
       "      <td>04Sep2020</td>\n",
       "      <td>17231624</td>\n",
       "    </tr>\n",
       "    <tr>\n",
       "      <th>...</th>\n",
       "      <th>...</th>\n",
       "      <td>...</td>\n",
       "      <td>...</td>\n",
       "      <td>...</td>\n",
       "      <td>...</td>\n",
       "    </tr>\n",
       "    <tr>\n",
       "      <th rowspan=\"5\" valign=\"top\">United Kingdom</th>\n",
       "      <th>11th</th>\n",
       "      <td>Past</td>\n",
       "      <td>06Nov2020</td>\n",
       "      <td>11Nov2020</td>\n",
       "      <td>66460344</td>\n",
       "    </tr>\n",
       "    <tr>\n",
       "      <th>12th</th>\n",
       "      <td>Past</td>\n",
       "      <td>12Nov2020</td>\n",
       "      <td>17Nov2020</td>\n",
       "      <td>66460344</td>\n",
       "    </tr>\n",
       "    <tr>\n",
       "      <th>13th</th>\n",
       "      <td>Past</td>\n",
       "      <td>18Nov2020</td>\n",
       "      <td>24Nov2020</td>\n",
       "      <td>66460344</td>\n",
       "    </tr>\n",
       "    <tr>\n",
       "      <th>14th</th>\n",
       "      <td>Past</td>\n",
       "      <td>25Nov2020</td>\n",
       "      <td>03Dec2020</td>\n",
       "      <td>66460344</td>\n",
       "    </tr>\n",
       "    <tr>\n",
       "      <th>15th</th>\n",
       "      <td>Past</td>\n",
       "      <td>04Dec2020</td>\n",
       "      <td>12Dec2020</td>\n",
       "      <td>66460344</td>\n",
       "    </tr>\n",
       "  </tbody>\n",
       "</table>\n",
       "<p>96 rows × 4 columns</p>\n",
       "</div>"
      ],
      "text/plain": [
       "                      Type      Start        End  Population\n",
       "Country        Phase                                        \n",
       "Netherlands    0th    Past  11Mar2020  31Mar2020    17231624\n",
       "               1st    Past  01Apr2020  16Apr2020    17231624\n",
       "               2nd    Past  17Apr2020  22May2020    17231624\n",
       "               3rd    Past  23May2020  07Aug2020    17231624\n",
       "               4th    Past  08Aug2020  04Sep2020    17231624\n",
       "...                    ...        ...        ...         ...\n",
       "United Kingdom 11th   Past  06Nov2020  11Nov2020    66460344\n",
       "               12th   Past  12Nov2020  17Nov2020    66460344\n",
       "               13th   Past  18Nov2020  24Nov2020    66460344\n",
       "               14th   Past  25Nov2020  03Dec2020    66460344\n",
       "               15th   Past  04Dec2020  12Dec2020    66460344\n",
       "\n",
       "[96 rows x 4 columns]"
      ]
     },
     "execution_count": 10,
     "metadata": {},
     "output_type": "execute_result"
    }
   ],
   "source": [
    "# Here, only show the countries which have the most phases\n",
    "countries_show = max(phase_len_dict.items(), key=lambda x: x[0])[1]\n",
    "# Show summary\n",
    "analyser.summary(countries=countries_show)"
   ]
  },
  {
   "cell_type": "markdown",
   "metadata": {},
   "source": [
    "## Parameter estimation\n",
    "we will estimate the parameter values with SIR-derived ODE models in each country."
   ]
  },
  {
   "cell_type": "code",
   "execution_count": 11,
   "metadata": {
    "collapsed": false,
    "tags": []
   },
   "outputs": [
    {
     "name": "stdout",
     "output_type": "stream",
     "text": [
      "\n",
      "<SIR-F model: parameter estimation>\n",
      "Running optimization with 4 CPUs...\n"
     ]
    },
    {
     "name": "stdout",
     "output_type": "stream",
     "text": [
      "\tNLD,  1st phase (01Apr2020 - 16Apr2020): finished  277 trials in 0 min 10 sec"
     ]
    },
    {
     "name": "stdout",
     "output_type": "stream",
     "text": [
      "\n"
     ]
    },
    {
     "name": "stdout",
     "output_type": "stream",
     "text": [
      "\tNLD,  5th phase (05Sep2020 - 18Sep2020): finished  291 trials in 0 min 10 sec"
     ]
    },
    {
     "name": "stdout",
     "output_type": "stream",
     "text": [
      "\n"
     ]
    },
    {
     "name": "stdout",
     "output_type": "stream",
     "text": [
      "\tNLD,  3rd phase (23May2020 - 07Aug2020): finished  273 trials in 0 min 10 sec"
     ]
    },
    {
     "name": "stdout",
     "output_type": "stream",
     "text": [
      "\n"
     ]
    },
    {
     "name": "stdout",
     "output_type": "stream",
     "text": [
      "\tNLD,  2nd phase (17Apr2020 - 22May2020): finished  275 trials in 0 min 10 sec"
     ]
    },
    {
     "name": "stdout",
     "output_type": "stream",
     "text": [
      "\n"
     ]
    },
    {
     "name": "stderr",
     "output_type": "stream",
     "text": [
      "/home/runner/.local/share/virtualenvs/covid19-sir-kT3BL-HO/lib/python3.8/site-packages/scipy/interpolate/fitpack2.py:253: UserWarning: \n",
      "The maximal number of iterations maxit (set to 20 by the program)\n",
      "allowed for finding a smoothing spline with fp=s has been reached: s\n",
      "too small.\n",
      "There is an approximation returned but the corresponding weighted sum\n",
      "of squared residuals does not satisfy the condition abs(fp-s)/s < tol.\n",
      "  warnings.warn(message)\n"
     ]
    },
    {
     "name": "stdout",
     "output_type": "stream",
     "text": [
      "\tCAN,  2nd phase (29Apr2020 - 14May2020): finished  320 trials in 0 min 10 sec"
     ]
    },
    {
     "name": "stdout",
     "output_type": "stream",
     "text": [
      "\n"
     ]
    },
    {
     "name": "stdout",
     "output_type": "stream",
     "text": [
      "\tNLD, 11th phase (04Nov2020 - 13Nov2020): finished  323 trials in 0 min 10 sec"
     ]
    },
    {
     "name": "stdout",
     "output_type": "stream",
     "text": [
      "\n"
     ]
    },
    {
     "name": "stdout",
     "output_type": "stream",
     "text": [
      "\tPRT,  3rd phase (21May2020 - 18Jun2020): finished  319 trials in 0 min 10 sec"
     ]
    },
    {
     "name": "stdout",
     "output_type": "stream",
     "text": [
      "\n"
     ]
    },
    {
     "name": "stdout",
     "output_type": "stream",
     "text": [
      "\tFRA, 11th phase (22Oct2020 - 31Oct2020): finished  326 trials in 0 min 10 sec"
     ]
    },
    {
     "name": "stdout",
     "output_type": "stream",
     "text": [
      "\n"
     ]
    },
    {
     "name": "stdout",
     "output_type": "stream",
     "text": [
      "\tCAN, 13th phase (21Nov2020 - 27Nov2020): finished  332 trials in 0 min 10 sec"
     ]
    },
    {
     "name": "stdout",
     "output_type": "stream",
     "text": [
      "\n"
     ]
    },
    {
     "name": "stdout",
     "output_type": "stream",
     "text": [
      "\tPRT,  0th phase (14Mar2020 - 01Apr2020): finished  322 trials in 0 min 10 sec"
     ]
    },
    {
     "name": "stdout",
     "output_type": "stream",
     "text": [
      "\n"
     ]
    },
    {
     "name": "stdout",
     "output_type": "stream",
     "text": [
      "\tGBR,  6th phase (18Sep2020 - 02Oct2020): finished  328 trials in 0 min 10 sec"
     ]
    },
    {
     "name": "stdout",
     "output_type": "stream",
     "text": [
      "\n"
     ]
    },
    {
     "name": "stdout",
     "output_type": "stream",
     "text": [
      "\tGBR,  1st phase (07Apr2020 - 23Apr2020): finished  327 trials in 0 min 10 sec"
     ]
    },
    {
     "name": "stdout",
     "output_type": "stream",
     "text": [
      "\n"
     ]
    },
    {
     "name": "stdout",
     "output_type": "stream",
     "text": [
      "\tBEL, 10th phase (23Oct2020 - 01Nov2020): finished  330 trials in 0 min 10 sec"
     ]
    },
    {
     "name": "stdout",
     "output_type": "stream",
     "text": [
      "\n"
     ]
    },
    {
     "name": "stdout",
     "output_type": "stream",
     "text": [
      "\tPRT, 14th phase (23Nov2020 - 03Dec2020): finished  328 trials in 0 min 10 sec"
     ]
    },
    {
     "name": "stdout",
     "output_type": "stream",
     "text": [
      "\n"
     ]
    },
    {
     "name": "stdout",
     "output_type": "stream",
     "text": [
      "\tPRT, 15th phase (04Dec2020 - 12Dec2020): finished  331 trials in 0 min 10 sec"
     ]
    },
    {
     "name": "stdout",
     "output_type": "stream",
     "text": [
      "\n"
     ]
    },
    {
     "name": "stdout",
     "output_type": "stream",
     "text": [
      "\tBEL,  5th phase (23Aug2020 - 14Sep2020): finished  324 trials in 0 min 10 sec"
     ]
    },
    {
     "name": "stdout",
     "output_type": "stream",
     "text": [
      "\n"
     ]
    },
    {
     "name": "stdout",
     "output_type": "stream",
     "text": [
      "\tCAN,  0th phase (26Mar2020 - 13Apr2020): finished  313 trials in 0 min 10 sec"
     ]
    },
    {
     "name": "stdout",
     "output_type": "stream",
     "text": [
      "\n"
     ]
    },
    {
     "name": "stdout",
     "output_type": "stream",
     "text": [
      "\tNLD,  8th phase (05Oct2020 - 14Oct2020): finished  315 trials in 0 min 10 sec"
     ]
    },
    {
     "name": "stdout",
     "output_type": "stream",
     "text": [
      "\n"
     ]
    },
    {
     "name": "stdout",
     "output_type": "stream",
     "text": [
      "\tCAN, 10th phase (29Oct2020 - 06Nov2020): finished  319 trials in 0 min 10 sec"
     ]
    },
    {
     "name": "stdout",
     "output_type": "stream",
     "text": [
      "\n"
     ]
    },
    {
     "name": "stdout",
     "output_type": "stream",
     "text": [
      "\tPRT,  6th phase (26Aug2020 - 15Sep2020): finished  313 trials in 0 min 10 sec"
     ]
    },
    {
     "name": "stdout",
     "output_type": "stream",
     "text": [
      "\n"
     ]
    },
    {
     "name": "stdout",
     "output_type": "stream",
     "text": [
      "\tBEL, 11th phase (02Nov2020 - 07Nov2020): finished  308 trials in 0 min 10 sec"
     ]
    },
    {
     "name": "stdout",
     "output_type": "stream",
     "text": [
      "\n"
     ]
    },
    {
     "name": "stdout",
     "output_type": "stream",
     "text": [
      "\tPRT,  7th phase (16Sep2020 - 01Oct2020): finished  313 trials in 0 min 10 sec"
     ]
    },
    {
     "name": "stdout",
     "output_type": "stream",
     "text": [
      "\n"
     ]
    },
    {
     "name": "stdout",
     "output_type": "stream",
     "text": [
      "\tGBR, 10th phase (26Oct2020 - 05Nov2020): finished  305 trials in 0 min 10 sec"
     ]
    },
    {
     "name": "stdout",
     "output_type": "stream",
     "text": [
      "\n"
     ]
    },
    {
     "name": "stdout",
     "output_type": "stream",
     "text": [
      "\tCAN,  5th phase (21Jul2020 - 29Aug2020): finished  287 trials in 0 min 10 sec"
     ]
    },
    {
     "name": "stdout",
     "output_type": "stream",
     "text": [
      "\n"
     ]
    },
    {
     "name": "stdout",
     "output_type": "stream",
     "text": [
      "\tCAN, 11th phase (07Nov2020 - 13Nov2020): finished  323 trials in 0 min 10 sec"
     ]
    },
    {
     "name": "stdout",
     "output_type": "stream",
     "text": [
      "\n"
     ]
    },
    {
     "name": "stdout",
     "output_type": "stream",
     "text": [
      "\tGBR,  0th phase (18Feb2020 - 06Apr2020): finished  305 trials in 0 min 10 sec"
     ]
    },
    {
     "name": "stdout",
     "output_type": "stream",
     "text": [
      "\n"
     ]
    },
    {
     "name": "stdout",
     "output_type": "stream",
     "text": [
      "\tGBR,  4th phase (12Jun2020 - 16Aug2020): finished  302 trials in 0 min 10 sec"
     ]
    },
    {
     "name": "stdout",
     "output_type": "stream",
     "text": [
      "\n"
     ]
    },
    {
     "name": "stdout",
     "output_type": "stream",
     "text": [
      "\tNLD, 14th phase (26Nov2020 - 01Dec2020): finished  319 trials in 0 min 10 sec"
     ]
    },
    {
     "name": "stdout",
     "output_type": "stream",
     "text": [
      "\n"
     ]
    },
    {
     "name": "stderr",
     "output_type": "stream",
     "text": [
      "/home/runner/.local/share/virtualenvs/covid19-sir-kT3BL-HO/lib/python3.8/site-packages/scipy/interpolate/fitpack2.py:253: UserWarning: \n",
      "The maximal number of iterations maxit (set to 20 by the program)\n",
      "allowed for finding a smoothing spline with fp=s has been reached: s\n",
      "too small.\n",
      "There is an approximation returned but the corresponding weighted sum\n",
      "of squared residuals does not satisfy the condition abs(fp-s)/s < tol.\n",
      "  warnings.warn(message)\n"
     ]
    },
    {
     "name": "stdout",
     "output_type": "stream",
     "text": [
      "\tNLD, 10th phase (25Oct2020 - 03Nov2020): finished  321 trials in 0 min 10 sec"
     ]
    },
    {
     "name": "stdout",
     "output_type": "stream",
     "text": [
      "\n"
     ]
    },
    {
     "name": "stdout",
     "output_type": "stream",
     "text": [
      "\tGBR,  7th phase (03Oct2020 - 11Oct2020): finished  320 trials in 0 min 10 sec"
     ]
    },
    {
     "name": "stdout",
     "output_type": "stream",
     "text": [
      "\n"
     ]
    },
    {
     "name": "stdout",
     "output_type": "stream",
     "text": [
      "\tFRA, 14th phase (24Nov2020 - 02Dec2020): finished  322 trials in 0 min 10 sec"
     ]
    },
    {
     "name": "stdout",
     "output_type": "stream",
     "text": [
      "\n"
     ]
    },
    {
     "name": "stdout",
     "output_type": "stream",
     "text": [
      "\tGBR,  5th phase (17Aug2020 - 17Sep2020): finished  313 trials in 0 min 10 sec"
     ]
    },
    {
     "name": "stdout",
     "output_type": "stream",
     "text": [
      "\n"
     ]
    },
    {
     "name": "stdout",
     "output_type": "stream",
     "text": [
      "\tCAN,  1st phase (14Apr2020 - 28Apr2020): finished  303 trials in 0 min 10 sec"
     ]
    },
    {
     "name": "stdout",
     "output_type": "stream",
     "text": [
      "\n"
     ]
    },
    {
     "name": "stdout",
     "output_type": "stream",
     "text": [
      "\tPRT,  5th phase (15Jul2020 - 25Aug2020): finished  293 trials in 0 min 10 sec"
     ]
    },
    {
     "name": "stdout",
     "output_type": "stream",
     "text": [
      "\n"
     ]
    },
    {
     "name": "stdout",
     "output_type": "stream",
     "text": [
      "\tNLD, 12th phase (14Nov2020 - 19Nov2020): finished  309 trials in 0 min 10 sec"
     ]
    },
    {
     "name": "stdout",
     "output_type": "stream",
     "text": [
      "\n"
     ]
    },
    {
     "name": "stderr",
     "output_type": "stream",
     "text": [
      "/home/runner/.local/share/virtualenvs/covid19-sir-kT3BL-HO/lib/python3.8/site-packages/scipy/interpolate/fitpack2.py:253: UserWarning: \n",
      "The maximal number of iterations maxit (set to 20 by the program)\n",
      "allowed for finding a smoothing spline with fp=s has been reached: s\n",
      "too small.\n",
      "There is an approximation returned but the corresponding weighted sum\n",
      "of squared residuals does not satisfy the condition abs(fp-s)/s < tol.\n",
      "  warnings.warn(message)\n"
     ]
    },
    {
     "name": "stdout",
     "output_type": "stream",
     "text": [
      "\tGBR,  9th phase (20Oct2020 - 25Oct2020): finished  307 trials in 0 min 10 sec"
     ]
    },
    {
     "name": "stdout",
     "output_type": "stream",
     "text": [
      "\n"
     ]
    },
    {
     "name": "stdout",
     "output_type": "stream",
     "text": [
      "\tBEL, 12th phase (08Nov2020 - 14Nov2020): finished  323 trials in 0 min 10 sec"
     ]
    },
    {
     "name": "stdout",
     "output_type": "stream",
     "text": [
      "\n"
     ]
    },
    {
     "name": "stdout",
     "output_type": "stream",
     "text": [
      "\tFRA, 12th phase (01Nov2020 - 10Nov2020): finished  318 trials in 0 min 10 sec"
     ]
    },
    {
     "name": "stdout",
     "output_type": "stream",
     "text": [
      "\n"
     ]
    },
    {
     "name": "stdout",
     "output_type": "stream",
     "text": [
      "\tGBR, 12th phase (12Nov2020 - 17Nov2020): finished  324 trials in 0 min 10 sec"
     ]
    },
    {
     "name": "stdout",
     "output_type": "stream",
     "text": [
      "\n"
     ]
    },
    {
     "name": "stdout",
     "output_type": "stream",
     "text": [
      "\tBEL, 13th phase (15Nov2020 - 22Nov2020): finished  318 trials in 0 min 10 sec"
     ]
    },
    {
     "name": "stdout",
     "output_type": "stream",
     "text": [
      "\n"
     ]
    },
    {
     "name": "stdout",
     "output_type": "stream",
     "text": [
      "\tCAN,  4th phase (05Jun2020 - 20Jul2020): finished  293 trials in 0 min 10 sec"
     ]
    },
    {
     "name": "stdout",
     "output_type": "stream",
     "text": [
      "\n"
     ]
    },
    {
     "name": "stdout",
     "output_type": "stream",
     "text": [
      "\tNLD, 13th phase (20Nov2020 - 25Nov2020): finished  309 trials in 0 min 10 sec"
     ]
    },
    {
     "name": "stdout",
     "output_type": "stream",
     "text": [
      "\n"
     ]
    },
    {
     "name": "stdout",
     "output_type": "stream",
     "text": [
      "\tBEL,  3rd phase (08May2020 - 27Jul2020): finished  286 trials in 0 min 10 sec"
     ]
    },
    {
     "name": "stdout",
     "output_type": "stream",
     "text": [
      "\n"
     ]
    },
    {
     "name": "stdout",
     "output_type": "stream",
     "text": [
      "\tNLD,  4th phase (08Aug2020 - 04Sep2020): finished  301 trials in 0 min 10 sec"
     ]
    },
    {
     "name": "stdout",
     "output_type": "stream",
     "text": [
      "\n"
     ]
    },
    {
     "name": "stderr",
     "output_type": "stream",
     "text": [
      "/home/runner/.local/share/virtualenvs/covid19-sir-kT3BL-HO/lib/python3.8/site-packages/scipy/interpolate/fitpack2.py:253: UserWarning: \n",
      "The maximal number of iterations maxit (set to 20 by the program)\n",
      "allowed for finding a smoothing spline with fp=s has been reached: s\n",
      "too small.\n",
      "There is an approximation returned but the corresponding weighted sum\n",
      "of squared residuals does not satisfy the condition abs(fp-s)/s < tol.\n",
      "  warnings.warn(message)\n"
     ]
    },
    {
     "name": "stdout",
     "output_type": "stream",
     "text": [
      "\tBEL,  4th phase (28Jul2020 - 22Aug2020): finished  312 trials in 0 min 10 sec"
     ]
    },
    {
     "name": "stdout",
     "output_type": "stream",
     "text": [
      "\n"
     ]
    },
    {
     "name": "stdout",
     "output_type": "stream",
     "text": [
      "\tBEL,  9th phase (13Oct2020 - 22Oct2020): finished  312 trials in 0 min 10 sec"
     ]
    },
    {
     "name": "stdout",
     "output_type": "stream",
     "text": [
      "\n"
     ]
    },
    {
     "name": "stdout",
     "output_type": "stream",
     "text": [
      "\tPRT,  1st phase (02Apr2020 - 18Apr2020): finished  312 trials in 0 min 10 sec"
     ]
    },
    {
     "name": "stdout",
     "output_type": "stream",
     "text": [
      "\n"
     ]
    },
    {
     "name": "stderr",
     "output_type": "stream",
     "text": [
      "/home/runner/.local/share/virtualenvs/covid19-sir-kT3BL-HO/lib/python3.8/site-packages/scipy/interpolate/fitpack2.py:253: UserWarning: \n",
      "The maximal number of iterations maxit (set to 20 by the program)\n",
      "allowed for finding a smoothing spline with fp=s has been reached: s\n",
      "too small.\n",
      "There is an approximation returned but the corresponding weighted sum\n",
      "of squared residuals does not satisfy the condition abs(fp-s)/s < tol.\n",
      "  warnings.warn(message)\n"
     ]
    },
    {
     "name": "stdout",
     "output_type": "stream",
     "text": [
      "\tFRA,  8th phase (02Oct2020 - 08Oct2020): finished  312 trials in 0 min 10 sec"
     ]
    },
    {
     "name": "stdout",
     "output_type": "stream",
     "text": [
      "\n"
     ]
    },
    {
     "name": "stdout",
     "output_type": "stream",
     "text": [
      "\tFRA,  3rd phase (09Jul2020 - 18Aug2020): finished  300 trials in 0 min 10 sec"
     ]
    },
    {
     "name": "stdout",
     "output_type": "stream",
     "text": [
      "\n"
     ]
    },
    {
     "name": "stdout",
     "output_type": "stream",
     "text": [
      "\tGBR, 13th phase (18Nov2020 - 24Nov2020): finished  311 trials in 0 min 10 sec"
     ]
    },
    {
     "name": "stdout",
     "output_type": "stream",
     "text": [
      "\n"
     ]
    },
    {
     "name": "stdout",
     "output_type": "stream",
     "text": [
      "\tGBR, 11th phase (06Nov2020 - 11Nov2020): finished  315 trials in 0 min 10 sec"
     ]
    },
    {
     "name": "stdout",
     "output_type": "stream",
     "text": [
      "\n"
     ]
    },
    {
     "name": "stdout",
     "output_type": "stream",
     "text": [
      "\tGBR,  3rd phase (12May2020 - 11Jun2020): finished  306 trials in 0 min 10 sec"
     ]
    },
    {
     "name": "stdout",
     "output_type": "stream",
     "text": [
      "\n"
     ]
    },
    {
     "name": "stdout",
     "output_type": "stream",
     "text": [
      "\tCAN,  8th phase (06Oct2020 - 17Oct2020): finished  311 trials in 0 min 10 sec"
     ]
    },
    {
     "name": "stdout",
     "output_type": "stream",
     "text": [
      "\n"
     ]
    },
    {
     "name": "stdout",
     "output_type": "stream",
     "text": [
      "\tNLD,  7th phase (28Sep2020 - 04Oct2020): finished  312 trials in 0 min 10 sec"
     ]
    },
    {
     "name": "stdout",
     "output_type": "stream",
     "text": [
      "\n"
     ]
    },
    {
     "name": "stdout",
     "output_type": "stream",
     "text": [
      "\tPRT,  9th phase (14Oct2020 - 21Oct2020): finished  307 trials in 0 min 10 sec"
     ]
    },
    {
     "name": "stdout",
     "output_type": "stream",
     "text": [
      "\n"
     ]
    },
    {
     "name": "stdout",
     "output_type": "stream",
     "text": [
      "\tPRT, 10th phase (22Oct2020 - 27Oct2020): finished  311 trials in 0 min 10 sec"
     ]
    },
    {
     "name": "stdout",
     "output_type": "stream",
     "text": [
      "\n"
     ]
    },
    {
     "name": "stderr",
     "output_type": "stream",
     "text": [
      "/home/runner/.local/share/virtualenvs/covid19-sir-kT3BL-HO/lib/python3.8/site-packages/scipy/interpolate/fitpack2.py:253: UserWarning: \n",
      "The maximal number of iterations maxit (set to 20 by the program)\n",
      "allowed for finding a smoothing spline with fp=s has been reached: s\n",
      "too small.\n",
      "There is an approximation returned but the corresponding weighted sum\n",
      "of squared residuals does not satisfy the condition abs(fp-s)/s < tol.\n",
      "  warnings.warn(message)\n"
     ]
    },
    {
     "name": "stdout",
     "output_type": "stream",
     "text": [
      "\tNLD, 15th phase (02Dec2020 - 12Dec2020): finished  308 trials in 0 min 10 sec"
     ]
    },
    {
     "name": "stdout",
     "output_type": "stream",
     "text": [
      "\n"
     ]
    },
    {
     "name": "stdout",
     "output_type": "stream",
     "text": [
      "\tCAN, 15th phase (05Dec2020 - 12Dec2020): finished  309 trials in 0 min 10 sec"
     ]
    },
    {
     "name": "stdout",
     "output_type": "stream",
     "text": [
      "\n"
     ]
    },
    {
     "name": "stderr",
     "output_type": "stream",
     "text": [
      "/home/runner/.local/share/virtualenvs/covid19-sir-kT3BL-HO/lib/python3.8/site-packages/scipy/interpolate/fitpack2.py:253: UserWarning: \n",
      "The maximal number of iterations maxit (set to 20 by the program)\n",
      "allowed for finding a smoothing spline with fp=s has been reached: s\n",
      "too small.\n",
      "There is an approximation returned but the corresponding weighted sum\n",
      "of squared residuals does not satisfy the condition abs(fp-s)/s < tol.\n",
      "  warnings.warn(message)\n"
     ]
    },
    {
     "name": "stdout",
     "output_type": "stream",
     "text": [
      "\tFRA,  2nd phase (23Apr2020 - 08Jul2020): finished  287 trials in 0 min 10 sec"
     ]
    },
    {
     "name": "stdout",
     "output_type": "stream",
     "text": [
      "\n"
     ]
    },
    {
     "name": "stdout",
     "output_type": "stream",
     "text": [
      "\tCAN,  3rd phase (15May2020 - 04Jun2020): finished  304 trials in 0 min 10 sec"
     ]
    },
    {
     "name": "stdout",
     "output_type": "stream",
     "text": [
      "\n"
     ]
    },
    {
     "name": "stdout",
     "output_type": "stream",
     "text": [
      "\tFRA, 13th phase (11Nov2020 - 23Nov2020): finished  309 trials in 0 min 10 sec"
     ]
    },
    {
     "name": "stdout",
     "output_type": "stream",
     "text": [
      "\n"
     ]
    },
    {
     "name": "stdout",
     "output_type": "stream",
     "text": [
      "\tBEL,  8th phase (07Oct2020 - 12Oct2020): finished  314 trials in 0 min 10 sec"
     ]
    },
    {
     "name": "stdout",
     "output_type": "stream",
     "text": [
      "\n"
     ]
    },
    {
     "name": "stdout",
     "output_type": "stream",
     "text": [
      "\tBEL,  6th phase (15Sep2020 - 28Sep2020): finished  310 trials in 0 min 10 sec"
     ]
    },
    {
     "name": "stdout",
     "output_type": "stream",
     "text": [
      "\n"
     ]
    },
    {
     "name": "stdout",
     "output_type": "stream",
     "text": [
      "\tGBR,  2nd phase (24Apr2020 - 11May2020): finished  310 trials in 0 min 10 sec"
     ]
    },
    {
     "name": "stdout",
     "output_type": "stream",
     "text": [
      "\n"
     ]
    },
    {
     "name": "stderr",
     "output_type": "stream",
     "text": [
      "/home/runner/.local/share/virtualenvs/covid19-sir-kT3BL-HO/lib/python3.8/site-packages/scipy/interpolate/fitpack2.py:253: UserWarning: \n",
      "The maximal number of iterations maxit (set to 20 by the program)\n",
      "allowed for finding a smoothing spline with fp=s has been reached: s\n",
      "too small.\n",
      "There is an approximation returned but the corresponding weighted sum\n",
      "of squared residuals does not satisfy the condition abs(fp-s)/s < tol.\n",
      "  warnings.warn(message)\n"
     ]
    },
    {
     "name": "stdout",
     "output_type": "stream",
     "text": [
      "\tPRT, 12th phase (03Nov2020 - 12Nov2020): finished  298 trials in 0 min 10 sec"
     ]
    },
    {
     "name": "stdout",
     "output_type": "stream",
     "text": [
      "\n"
     ]
    },
    {
     "name": "stdout",
     "output_type": "stream",
     "text": [
      "\tCAN,  6th phase (30Aug2020 - 22Sep2020): finished  287 trials in 0 min 10 sec"
     ]
    },
    {
     "name": "stdout",
     "output_type": "stream",
     "text": [
      "\n"
     ]
    },
    {
     "name": "stdout",
     "output_type": "stream",
     "text": [
      "\tFRA,  7th phase (23Sep2020 - 01Oct2020): finished  295 trials in 0 min 10 sec"
     ]
    },
    {
     "name": "stdout",
     "output_type": "stream",
     "text": [
      "\n"
     ]
    },
    {
     "name": "stdout",
     "output_type": "stream",
     "text": [
      "\tNLD,  0th phase (11Mar2020 - 31Mar2020): finished  291 trials in 0 min 10 sec"
     ]
    },
    {
     "name": "stdout",
     "output_type": "stream",
     "text": [
      "\n"
     ]
    },
    {
     "name": "stderr",
     "output_type": "stream",
     "text": [
      "/home/runner/.local/share/virtualenvs/covid19-sir-kT3BL-HO/lib/python3.8/site-packages/scipy/interpolate/fitpack2.py:253: UserWarning: \n",
      "The maximal number of iterations maxit (set to 20 by the program)\n",
      "allowed for finding a smoothing spline with fp=s has been reached: s\n",
      "too small.\n",
      "There is an approximation returned but the corresponding weighted sum\n",
      "of squared residuals does not satisfy the condition abs(fp-s)/s < tol.\n",
      "  warnings.warn(message)\n"
     ]
    },
    {
     "name": "stdout",
     "output_type": "stream",
     "text": [
      "\tBEL,  7th phase (29Sep2020 - 06Oct2020): finished  311 trials in 0 min 10 sec"
     ]
    },
    {
     "name": "stdout",
     "output_type": "stream",
     "text": [
      "\n"
     ]
    },
    {
     "name": "stdout",
     "output_type": "stream",
     "text": [
      "\tGBR,  8th phase (12Oct2020 - 19Oct2020): finished  312 trials in 0 min 10 sec"
     ]
    },
    {
     "name": "stdout",
     "output_type": "stream",
     "text": [
      "\n"
     ]
    },
    {
     "name": "stdout",
     "output_type": "stream",
     "text": [
      "\tFRA, 10th phase (16Oct2020 - 21Oct2020): finished  304 trials in 0 min 10 sec"
     ]
    },
    {
     "name": "stdout",
     "output_type": "stream",
     "text": [
      "\n"
     ]
    },
    {
     "name": "stdout",
     "output_type": "stream",
     "text": [
      "\tCAN,  7th phase (23Sep2020 - 05Oct2020): finished  304 trials in 0 min 10 sec"
     ]
    },
    {
     "name": "stdout",
     "output_type": "stream",
     "text": [
      "\n"
     ]
    },
    {
     "name": "stderr",
     "output_type": "stream",
     "text": [
      "/home/runner/.local/share/virtualenvs/covid19-sir-kT3BL-HO/lib/python3.8/site-packages/scipy/interpolate/fitpack2.py:253: UserWarning: \n",
      "The maximal number of iterations maxit (set to 20 by the program)\n",
      "allowed for finding a smoothing spline with fp=s has been reached: s\n",
      "too small.\n",
      "There is an approximation returned but the corresponding weighted sum\n",
      "of squared residuals does not satisfy the condition abs(fp-s)/s < tol.\n",
      "  warnings.warn(message)\n"
     ]
    },
    {
     "name": "stderr",
     "output_type": "stream",
     "text": [
      "/home/runner/.local/share/virtualenvs/covid19-sir-kT3BL-HO/lib/python3.8/site-packages/scipy/interpolate/fitpack2.py:253: UserWarning: \n",
      "The maximal number of iterations maxit (set to 20 by the program)\n",
      "allowed for finding a smoothing spline with fp=s has been reached: s\n",
      "too small.\n",
      "There is an approximation returned but the corresponding weighted sum\n",
      "of squared residuals does not satisfy the condition abs(fp-s)/s < tol.\n",
      "  warnings.warn(message)\n"
     ]
    },
    {
     "name": "stderr",
     "output_type": "stream",
     "text": [
      "/home/runner/.local/share/virtualenvs/covid19-sir-kT3BL-HO/lib/python3.8/site-packages/scipy/interpolate/fitpack2.py:253: UserWarning: \n",
      "The maximal number of iterations maxit (set to 20 by the program)\n",
      "allowed for finding a smoothing spline with fp=s has been reached: s\n",
      "too small.\n",
      "There is an approximation returned but the corresponding weighted sum\n",
      "of squared residuals does not satisfy the condition abs(fp-s)/s < tol.\n",
      "  warnings.warn(message)\n"
     ]
    },
    {
     "name": "stdout",
     "output_type": "stream",
     "text": [
      "\tBEL,  0th phase (13Mar2020 - 30Mar2020): finished  289 trials in 0 min 10 sec"
     ]
    },
    {
     "name": "stdout",
     "output_type": "stream",
     "text": [
      "\n"
     ]
    },
    {
     "name": "stdout",
     "output_type": "stream",
     "text": [
      "\tFRA,  1st phase (31Mar2020 - 22Apr2020): finished  282 trials in 0 min 10 sec"
     ]
    },
    {
     "name": "stdout",
     "output_type": "stream",
     "text": [
      "\n"
     ]
    },
    {
     "name": "stdout",
     "output_type": "stream",
     "text": [
      "\tFRA,  5th phase (03Sep2020 - 14Sep2020): finished  292 trials in 0 min 10 sec"
     ]
    },
    {
     "name": "stdout",
     "output_type": "stream",
     "text": [
      "\n"
     ]
    },
    {
     "name": "stdout",
     "output_type": "stream",
     "text": [
      "\tFRA,  0th phase (07Feb2020 - 30Mar2020): finished  282 trials in 0 min 10 sec"
     ]
    },
    {
     "name": "stdout",
     "output_type": "stream",
     "text": [
      "\n"
     ]
    },
    {
     "name": "stdout",
     "output_type": "stream",
     "text": [
      "\tBEL,  1st phase (31Mar2020 - 13Apr2020): finished  309 trials in 0 min 10 sec"
     ]
    },
    {
     "name": "stdout",
     "output_type": "stream",
     "text": [
      "\n"
     ]
    },
    {
     "name": "stdout",
     "output_type": "stream",
     "text": [
      "\tCAN,  9th phase (18Oct2020 - 28Oct2020): finished  313 trials in 0 min 10 sec"
     ]
    },
    {
     "name": "stdout",
     "output_type": "stream",
     "text": [
      "\n"
     ]
    },
    {
     "name": "stdout",
     "output_type": "stream",
     "text": [
      "\tPRT,  8th phase (02Oct2020 - 13Oct2020): finished  310 trials in 0 min 10 sec"
     ]
    },
    {
     "name": "stdout",
     "output_type": "stream",
     "text": [
      "\n"
     ]
    },
    {
     "name": "stdout",
     "output_type": "stream",
     "text": [
      "\tNLD,  6th phase (19Sep2020 - 27Sep2020): finished  312 trials in 0 min 10 sec"
     ]
    },
    {
     "name": "stdout",
     "output_type": "stream",
     "text": [
      "\n"
     ]
    },
    {
     "name": "stderr",
     "output_type": "stream",
     "text": [
      "/home/runner/.local/share/virtualenvs/covid19-sir-kT3BL-HO/lib/python3.8/site-packages/scipy/interpolate/fitpack2.py:253: UserWarning: \n",
      "The maximal number of iterations maxit (set to 20 by the program)\n",
      "allowed for finding a smoothing spline with fp=s has been reached: s\n",
      "too small.\n",
      "There is an approximation returned but the corresponding weighted sum\n",
      "of squared residuals does not satisfy the condition abs(fp-s)/s < tol.\n",
      "  warnings.warn(message)\n"
     ]
    },
    {
     "name": "stderr",
     "output_type": "stream",
     "text": [
      "/home/runner/.local/share/virtualenvs/covid19-sir-kT3BL-HO/lib/python3.8/site-packages/scipy/interpolate/fitpack2.py:253: UserWarning: \n",
      "The maximal number of iterations maxit (set to 20 by the program)\n",
      "allowed for finding a smoothing spline with fp=s has been reached: s\n",
      "too small.\n",
      "There is an approximation returned but the corresponding weighted sum\n",
      "of squared residuals does not satisfy the condition abs(fp-s)/s < tol.\n",
      "  warnings.warn(message)\n"
     ]
    },
    {
     "name": "stdout",
     "output_type": "stream",
     "text": [
      "\tNLD,  9th phase (15Oct2020 - 24Oct2020): finished  313 trials in 0 min 10 sec"
     ]
    },
    {
     "name": "stdout",
     "output_type": "stream",
     "text": [
      "\n"
     ]
    },
    {
     "name": "stdout",
     "output_type": "stream",
     "text": [
      "\tPRT, 11th phase (28Oct2020 - 02Nov2020): finished  317 trials in 0 min 10 sec"
     ]
    },
    {
     "name": "stdout",
     "output_type": "stream",
     "text": [
      "\n"
     ]
    },
    {
     "name": "stderr",
     "output_type": "stream",
     "text": [
      "/home/runner/.local/share/virtualenvs/covid19-sir-kT3BL-HO/lib/python3.8/site-packages/scipy/interpolate/fitpack2.py:253: UserWarning: \n",
      "The maximal number of iterations maxit (set to 20 by the program)\n",
      "allowed for finding a smoothing spline with fp=s has been reached: s\n",
      "too small.\n",
      "There is an approximation returned but the corresponding weighted sum\n",
      "of squared residuals does not satisfy the condition abs(fp-s)/s < tol.\n",
      "  warnings.warn(message)\n"
     ]
    },
    {
     "name": "stdout",
     "output_type": "stream",
     "text": [
      "\tFRA, 15th phase (03Dec2020 - 12Dec2020): finished  313 trials in 0 min 10 sec"
     ]
    },
    {
     "name": "stdout",
     "output_type": "stream",
     "text": [
      "\n"
     ]
    },
    {
     "name": "stdout",
     "output_type": "stream",
     "text": [
      "\tFRA,  6th phase (15Sep2020 - 22Sep2020): finished  312 trials in 0 min 10 sec"
     ]
    },
    {
     "name": "stdout",
     "output_type": "stream",
     "text": [
      "\n"
     ]
    },
    {
     "name": "stderr",
     "output_type": "stream",
     "text": [
      "/home/runner/.local/share/virtualenvs/covid19-sir-kT3BL-HO/lib/python3.8/site-packages/scipy/interpolate/fitpack2.py:253: UserWarning: \n",
      "The maximal number of iterations maxit (set to 20 by the program)\n",
      "allowed for finding a smoothing spline with fp=s has been reached: s\n",
      "too small.\n",
      "There is an approximation returned but the corresponding weighted sum\n",
      "of squared residuals does not satisfy the condition abs(fp-s)/s < tol.\n",
      "  warnings.warn(message)\n"
     ]
    },
    {
     "name": "stdout",
     "output_type": "stream",
     "text": [
      "\tFRA,  4th phase (19Aug2020 - 02Sep2020): finished  309 trials in 0 min 10 sec"
     ]
    },
    {
     "name": "stdout",
     "output_type": "stream",
     "text": [
      "\n"
     ]
    },
    {
     "name": "stdout",
     "output_type": "stream",
     "text": [
      "\tCAN, 12th phase (14Nov2020 - 20Nov2020): finished  314 trials in 0 min 10 sec"
     ]
    },
    {
     "name": "stdout",
     "output_type": "stream",
     "text": [
      "\n"
     ]
    },
    {
     "name": "stdout",
     "output_type": "stream",
     "text": [
      "\tPRT,  4th phase (19Jun2020 - 14Jul2020): finished  304 trials in 0 min 10 sec"
     ]
    },
    {
     "name": "stdout",
     "output_type": "stream",
     "text": [
      "\n"
     ]
    },
    {
     "name": "stdout",
     "output_type": "stream",
     "text": [
      "\tFRA,  9th phase (09Oct2020 - 15Oct2020): finished  311 trials in 0 min 10 sec"
     ]
    },
    {
     "name": "stdout",
     "output_type": "stream",
     "text": [
      "\n"
     ]
    },
    {
     "name": "stdout",
     "output_type": "stream",
     "text": [
      "\tGBR, 14th phase (25Nov2020 - 03Dec2020): finished  316 trials in 0 min 10 sec"
     ]
    },
    {
     "name": "stdout",
     "output_type": "stream",
     "text": [
      "\n"
     ]
    },
    {
     "name": "stdout",
     "output_type": "stream",
     "text": [
      "\tBEL,  2nd phase (14Apr2020 - 07May2020): finished  311 trials in 0 min 10 sec"
     ]
    },
    {
     "name": "stdout",
     "output_type": "stream",
     "text": [
      "\n"
     ]
    },
    {
     "name": "stdout",
     "output_type": "stream",
     "text": [
      "\tBEL, 14th phase (23Nov2020 - 01Dec2020): finished  315 trials in 0 min 10 sec"
     ]
    },
    {
     "name": "stdout",
     "output_type": "stream",
     "text": [
      "\n"
     ]
    },
    {
     "name": "stdout",
     "output_type": "stream",
     "text": [
      "\tPRT, 13th phase (13Nov2020 - 22Nov2020): finished  317 trials in 0 min 10 sec"
     ]
    },
    {
     "name": "stdout",
     "output_type": "stream",
     "text": [
      "\n"
     ]
    },
    {
     "name": "stdout",
     "output_type": "stream",
     "text": [
      "\tPRT,  2nd phase (19Apr2020 - 20May2020): finished  308 trials in 0 min 10 sec"
     ]
    },
    {
     "name": "stdout",
     "output_type": "stream",
     "text": [
      "\n"
     ]
    },
    {
     "name": "stdout",
     "output_type": "stream",
     "text": [
      "\tCAN, 14th phase (28Nov2020 - 04Dec2020): finished  324 trials in 0 min 10 sec"
     ]
    },
    {
     "name": "stdout",
     "output_type": "stream",
     "text": [
      "\n"
     ]
    },
    {
     "name": "stdout",
     "output_type": "stream",
     "text": [
      "Completed optimization. Total: 4 min 21 sec\n"
     ]
    }
   ],
   "source": [
    "# Parameter estimation with SIR-F model\n",
    "analyser.estimate(cs.SIRF, timeout=10)"
   ]
  },
  {
   "cell_type": "code",
   "execution_count": 12,
   "metadata": {
    "collapsed": false
   },
   "outputs": [
    {
     "data": {
      "text/html": [
       "<div>\n",
       "<style scoped>\n",
       "    .dataframe tbody tr th:only-of-type {\n",
       "        vertical-align: middle;\n",
       "    }\n",
       "\n",
       "    .dataframe tbody tr th {\n",
       "        vertical-align: top;\n",
       "    }\n",
       "\n",
       "    .dataframe thead th {\n",
       "        text-align: right;\n",
       "    }\n",
       "</style>\n",
       "<table border=\"1\" class=\"dataframe\">\n",
       "  <thead>\n",
       "    <tr style=\"text-align: right;\">\n",
       "      <th></th>\n",
       "      <th></th>\n",
       "      <th>Type</th>\n",
       "      <th>Start</th>\n",
       "      <th>End</th>\n",
       "      <th>Population</th>\n",
       "      <th>ODE</th>\n",
       "      <th>Rt</th>\n",
       "      <th>theta</th>\n",
       "      <th>kappa</th>\n",
       "      <th>rho</th>\n",
       "      <th>sigma</th>\n",
       "      <th>tau</th>\n",
       "      <th>1/gamma [day]</th>\n",
       "      <th>alpha1 [-]</th>\n",
       "      <th>1/alpha2 [day]</th>\n",
       "      <th>1/beta [day]</th>\n",
       "      <th>RMSLE</th>\n",
       "      <th>Trials</th>\n",
       "      <th>Runtime</th>\n",
       "    </tr>\n",
       "    <tr>\n",
       "      <th>Country</th>\n",
       "      <th>Phase</th>\n",
       "      <th></th>\n",
       "      <th></th>\n",
       "      <th></th>\n",
       "      <th></th>\n",
       "      <th></th>\n",
       "      <th></th>\n",
       "      <th></th>\n",
       "      <th></th>\n",
       "      <th></th>\n",
       "      <th></th>\n",
       "      <th></th>\n",
       "      <th></th>\n",
       "      <th></th>\n",
       "      <th></th>\n",
       "      <th></th>\n",
       "      <th></th>\n",
       "      <th></th>\n",
       "      <th></th>\n",
       "    </tr>\n",
       "  </thead>\n",
       "  <tbody>\n",
       "    <tr>\n",
       "      <th rowspan=\"5\" valign=\"top\">Netherlands</th>\n",
       "      <th>0th</th>\n",
       "      <td>Past</td>\n",
       "      <td>11Mar2020</td>\n",
       "      <td>31Mar2020</td>\n",
       "      <td>17231624</td>\n",
       "      <td>SIR-F</td>\n",
       "      <td>7.79</td>\n",
       "      <td>0.0440237</td>\n",
       "      <td>0.00031975</td>\n",
       "      <td>0.0430739</td>\n",
       "      <td>0.00496562</td>\n",
       "      <td>360</td>\n",
       "      <td>50</td>\n",
       "      <td>0.044</td>\n",
       "      <td>781</td>\n",
       "      <td>5</td>\n",
       "      <td>0.572919</td>\n",
       "      <td>291</td>\n",
       "      <td>0 min 10 sec</td>\n",
       "    </tr>\n",
       "    <tr>\n",
       "      <th>1st</th>\n",
       "      <td>Past</td>\n",
       "      <td>01Apr2020</td>\n",
       "      <td>16Apr2020</td>\n",
       "      <td>17231624</td>\n",
       "      <td>SIR-F</td>\n",
       "      <td>1.16</td>\n",
       "      <td>0.142689</td>\n",
       "      <td>0.000159533</td>\n",
       "      <td>0.0233244</td>\n",
       "      <td>0.0170949</td>\n",
       "      <td>360</td>\n",
       "      <td>14</td>\n",
       "      <td>0.143</td>\n",
       "      <td>1567</td>\n",
       "      <td>10</td>\n",
       "      <td>0.0535324</td>\n",
       "      <td>277</td>\n",
       "      <td>0 min 10 sec</td>\n",
       "    </tr>\n",
       "    <tr>\n",
       "      <th>2nd</th>\n",
       "      <td>Past</td>\n",
       "      <td>17Apr2020</td>\n",
       "      <td>22May2020</td>\n",
       "      <td>17231624</td>\n",
       "      <td>SIR-F</td>\n",
       "      <td>0.57</td>\n",
       "      <td>0.131023</td>\n",
       "      <td>0.000714748</td>\n",
       "      <td>0.0188961</td>\n",
       "      <td>0.0280146</td>\n",
       "      <td>360</td>\n",
       "      <td>8</td>\n",
       "      <td>0.131</td>\n",
       "      <td>349</td>\n",
       "      <td>13</td>\n",
       "      <td>0.075996</td>\n",
       "      <td>275</td>\n",
       "      <td>0 min 10 sec</td>\n",
       "    </tr>\n",
       "    <tr>\n",
       "      <th>3rd</th>\n",
       "      <td>Past</td>\n",
       "      <td>23May2020</td>\n",
       "      <td>07Aug2020</td>\n",
       "      <td>17231624</td>\n",
       "      <td>SIR-F</td>\n",
       "      <td>0.95</td>\n",
       "      <td>0.0990107</td>\n",
       "      <td>0.00555757</td>\n",
       "      <td>0.0248932</td>\n",
       "      <td>0.0180148</td>\n",
       "      <td>360</td>\n",
       "      <td>13</td>\n",
       "      <td>0.099</td>\n",
       "      <td>44</td>\n",
       "      <td>10</td>\n",
       "      <td>0.313322</td>\n",
       "      <td>273</td>\n",
       "      <td>0 min 10 sec</td>\n",
       "    </tr>\n",
       "    <tr>\n",
       "      <th>4th</th>\n",
       "      <td>Past</td>\n",
       "      <td>08Aug2020</td>\n",
       "      <td>04Sep2020</td>\n",
       "      <td>17231624</td>\n",
       "      <td>SIR-F</td>\n",
       "      <td>1.21</td>\n",
       "      <td>0.0191307</td>\n",
       "      <td>1.42246e-05</td>\n",
       "      <td>0.0226293</td>\n",
       "      <td>0.0182894</td>\n",
       "      <td>360</td>\n",
       "      <td>13</td>\n",
       "      <td>0.019</td>\n",
       "      <td>17575</td>\n",
       "      <td>11</td>\n",
       "      <td>0.0903984</td>\n",
       "      <td>301</td>\n",
       "      <td>0 min 10 sec</td>\n",
       "    </tr>\n",
       "    <tr>\n",
       "      <th>...</th>\n",
       "      <th>...</th>\n",
       "      <td>...</td>\n",
       "      <td>...</td>\n",
       "      <td>...</td>\n",
       "      <td>...</td>\n",
       "      <td>...</td>\n",
       "      <td>...</td>\n",
       "      <td>...</td>\n",
       "      <td>...</td>\n",
       "      <td>...</td>\n",
       "      <td>...</td>\n",
       "      <td>...</td>\n",
       "      <td>...</td>\n",
       "      <td>...</td>\n",
       "      <td>...</td>\n",
       "      <td>...</td>\n",
       "      <td>...</td>\n",
       "      <td>...</td>\n",
       "      <td>...</td>\n",
       "    </tr>\n",
       "    <tr>\n",
       "      <th rowspan=\"5\" valign=\"top\">United Kingdom</th>\n",
       "      <th>11th</th>\n",
       "      <td>Past</td>\n",
       "      <td>06Nov2020</td>\n",
       "      <td>11Nov2020</td>\n",
       "      <td>66460344</td>\n",
       "      <td>SIR-F</td>\n",
       "      <td>0.98</td>\n",
       "      <td>0.00148556</td>\n",
       "      <td>0.000191072</td>\n",
       "      <td>0.0218597</td>\n",
       "      <td>0.0221068</td>\n",
       "      <td>360</td>\n",
       "      <td>11</td>\n",
       "      <td>0.001</td>\n",
       "      <td>1308</td>\n",
       "      <td>11</td>\n",
       "      <td>0.00696735</td>\n",
       "      <td>315</td>\n",
       "      <td>0 min 10 sec</td>\n",
       "    </tr>\n",
       "    <tr>\n",
       "      <th>12th</th>\n",
       "      <td>Past</td>\n",
       "      <td>12Nov2020</td>\n",
       "      <td>17Nov2020</td>\n",
       "      <td>66460344</td>\n",
       "      <td>SIR-F</td>\n",
       "      <td>1.09</td>\n",
       "      <td>0.00227184</td>\n",
       "      <td>0.000381158</td>\n",
       "      <td>0.0206594</td>\n",
       "      <td>0.0186033</td>\n",
       "      <td>360</td>\n",
       "      <td>13</td>\n",
       "      <td>0.002</td>\n",
       "      <td>655</td>\n",
       "      <td>12</td>\n",
       "      <td>0.0152413</td>\n",
       "      <td>324</td>\n",
       "      <td>0 min 10 sec</td>\n",
       "    </tr>\n",
       "    <tr>\n",
       "      <th>13th</th>\n",
       "      <td>Past</td>\n",
       "      <td>18Nov2020</td>\n",
       "      <td>24Nov2020</td>\n",
       "      <td>66460344</td>\n",
       "      <td>SIR-F</td>\n",
       "      <td>0.83</td>\n",
       "      <td>0.000191261</td>\n",
       "      <td>0.000228665</td>\n",
       "      <td>0.0179749</td>\n",
       "      <td>0.0212999</td>\n",
       "      <td>360</td>\n",
       "      <td>11</td>\n",
       "      <td>0</td>\n",
       "      <td>1093</td>\n",
       "      <td>13</td>\n",
       "      <td>0.0180798</td>\n",
       "      <td>311</td>\n",
       "      <td>0 min 10 sec</td>\n",
       "    </tr>\n",
       "    <tr>\n",
       "      <th>14th</th>\n",
       "      <td>Past</td>\n",
       "      <td>25Nov2020</td>\n",
       "      <td>03Dec2020</td>\n",
       "      <td>66460344</td>\n",
       "      <td>SIR-F</td>\n",
       "      <td>0.66</td>\n",
       "      <td>0.0308655</td>\n",
       "      <td>4.55898e-06</td>\n",
       "      <td>0.0189537</td>\n",
       "      <td>0.0278676</td>\n",
       "      <td>360</td>\n",
       "      <td>8</td>\n",
       "      <td>0.031</td>\n",
       "      <td>54836</td>\n",
       "      <td>13</td>\n",
       "      <td>0.00768372</td>\n",
       "      <td>316</td>\n",
       "      <td>0 min 10 sec</td>\n",
       "    </tr>\n",
       "    <tr>\n",
       "      <th>15th</th>\n",
       "      <td>Past</td>\n",
       "      <td>04Dec2020</td>\n",
       "      <td>12Dec2020</td>\n",
       "      <td>66460344</td>\n",
       "      <td>-</td>\n",
       "      <td>-</td>\n",
       "      <td>-</td>\n",
       "      <td>-</td>\n",
       "      <td>-</td>\n",
       "      <td>-</td>\n",
       "      <td>-</td>\n",
       "      <td>-</td>\n",
       "      <td>-</td>\n",
       "      <td>-</td>\n",
       "      <td>-</td>\n",
       "      <td>-</td>\n",
       "      <td>-</td>\n",
       "      <td>-</td>\n",
       "    </tr>\n",
       "  </tbody>\n",
       "</table>\n",
       "<p>96 rows × 18 columns</p>\n",
       "</div>"
      ],
      "text/plain": [
       "                      Type      Start        End  Population    ODE    Rt  \\\n",
       "Country        Phase                                                        \n",
       "Netherlands    0th    Past  11Mar2020  31Mar2020    17231624  SIR-F  7.79   \n",
       "               1st    Past  01Apr2020  16Apr2020    17231624  SIR-F  1.16   \n",
       "               2nd    Past  17Apr2020  22May2020    17231624  SIR-F  0.57   \n",
       "               3rd    Past  23May2020  07Aug2020    17231624  SIR-F  0.95   \n",
       "               4th    Past  08Aug2020  04Sep2020    17231624  SIR-F  1.21   \n",
       "...                    ...        ...        ...         ...    ...   ...   \n",
       "United Kingdom 11th   Past  06Nov2020  11Nov2020    66460344  SIR-F  0.98   \n",
       "               12th   Past  12Nov2020  17Nov2020    66460344  SIR-F  1.09   \n",
       "               13th   Past  18Nov2020  24Nov2020    66460344  SIR-F  0.83   \n",
       "               14th   Past  25Nov2020  03Dec2020    66460344  SIR-F  0.66   \n",
       "               15th   Past  04Dec2020  12Dec2020    66460344      -     -   \n",
       "\n",
       "                            theta        kappa        rho       sigma  tau  \\\n",
       "Country        Phase                                                         \n",
       "Netherlands    0th      0.0440237   0.00031975  0.0430739  0.00496562  360   \n",
       "               1st       0.142689  0.000159533  0.0233244   0.0170949  360   \n",
       "               2nd       0.131023  0.000714748  0.0188961   0.0280146  360   \n",
       "               3rd      0.0990107   0.00555757  0.0248932   0.0180148  360   \n",
       "               4th      0.0191307  1.42246e-05  0.0226293   0.0182894  360   \n",
       "...                           ...          ...        ...         ...  ...   \n",
       "United Kingdom 11th    0.00148556  0.000191072  0.0218597   0.0221068  360   \n",
       "               12th    0.00227184  0.000381158  0.0206594   0.0186033  360   \n",
       "               13th   0.000191261  0.000228665  0.0179749   0.0212999  360   \n",
       "               14th     0.0308655  4.55898e-06  0.0189537   0.0278676  360   \n",
       "               15th             -            -          -           -    -   \n",
       "\n",
       "                     1/gamma [day] alpha1 [-] 1/alpha2 [day] 1/beta [day]  \\\n",
       "Country        Phase                                                        \n",
       "Netherlands    0th              50      0.044            781            5   \n",
       "               1st              14      0.143           1567           10   \n",
       "               2nd               8      0.131            349           13   \n",
       "               3rd              13      0.099             44           10   \n",
       "               4th              13      0.019          17575           11   \n",
       "...                            ...        ...            ...          ...   \n",
       "United Kingdom 11th             11      0.001           1308           11   \n",
       "               12th             13      0.002            655           12   \n",
       "               13th             11          0           1093           13   \n",
       "               14th              8      0.031          54836           13   \n",
       "               15th              -          -              -            -   \n",
       "\n",
       "                           RMSLE Trials       Runtime  \n",
       "Country        Phase                                   \n",
       "Netherlands    0th      0.572919    291  0 min 10 sec  \n",
       "               1st     0.0535324    277  0 min 10 sec  \n",
       "               2nd      0.075996    275  0 min 10 sec  \n",
       "               3rd      0.313322    273  0 min 10 sec  \n",
       "               4th     0.0903984    301  0 min 10 sec  \n",
       "...                          ...    ...           ...  \n",
       "United Kingdom 11th   0.00696735    315  0 min 10 sec  \n",
       "               12th    0.0152413    324  0 min 10 sec  \n",
       "               13th    0.0180798    311  0 min 10 sec  \n",
       "               14th   0.00768372    316  0 min 10 sec  \n",
       "               15th            -      -             -  \n",
       "\n",
       "[96 rows x 18 columns]"
      ]
     },
     "execution_count": 12,
     "metadata": {},
     "output_type": "execute_result"
    }
   ],
   "source": [
    "# Show summary\n",
    "analyser.summary(countries=countries_show)"
   ]
  },
  {
   "cell_type": "markdown",
   "metadata": {},
   "source": [
    "## Compare the history of parameters\n",
    "Here, compare the history of parameter values if countries."
   ]
  },
  {
   "cell_type": "code",
   "execution_count": 13,
   "metadata": {
    "collapsed": false
   },
   "outputs": [
    {
     "data": {
      "text/html": [
       "<div>\n",
       "<style scoped>\n",
       "    .dataframe tbody tr th:only-of-type {\n",
       "        vertical-align: middle;\n",
       "    }\n",
       "\n",
       "    .dataframe tbody tr th {\n",
       "        vertical-align: top;\n",
       "    }\n",
       "\n",
       "    .dataframe thead th {\n",
       "        text-align: right;\n",
       "    }\n",
       "</style>\n",
       "<table border=\"1\" class=\"dataframe\">\n",
       "  <thead>\n",
       "    <tr style=\"text-align: right;\">\n",
       "      <th></th>\n",
       "      <th>Date</th>\n",
       "      <th>Country</th>\n",
       "      <th>theta</th>\n",
       "      <th>kappa</th>\n",
       "      <th>rho</th>\n",
       "      <th>sigma</th>\n",
       "      <th>alpha1 [-]</th>\n",
       "      <th>1/alpha2 [day]</th>\n",
       "      <th>1/beta [day]</th>\n",
       "      <th>1/gamma [day]</th>\n",
       "      <th>...</th>\n",
       "      <th>Cancel_events</th>\n",
       "      <th>Gatherings_restrictions</th>\n",
       "      <th>Transport_closing</th>\n",
       "      <th>Stay_home_restrictions</th>\n",
       "      <th>Internal_movement_restrictions</th>\n",
       "      <th>International_movement_restrictions</th>\n",
       "      <th>Information_campaigns</th>\n",
       "      <th>Testing_policy</th>\n",
       "      <th>Contact_tracing</th>\n",
       "      <th>Stringency_index</th>\n",
       "    </tr>\n",
       "  </thead>\n",
       "  <tbody>\n",
       "    <tr>\n",
       "      <th>0</th>\n",
       "      <td>2020-03-11</td>\n",
       "      <td>Netherlands</td>\n",
       "      <td>0.0440237</td>\n",
       "      <td>0.00031975</td>\n",
       "      <td>0.0430739</td>\n",
       "      <td>0.00496562</td>\n",
       "      <td>0.044</td>\n",
       "      <td>781</td>\n",
       "      <td>5</td>\n",
       "      <td>50</td>\n",
       "      <td>...</td>\n",
       "      <td>2</td>\n",
       "      <td>0</td>\n",
       "      <td>0</td>\n",
       "      <td>1</td>\n",
       "      <td>0</td>\n",
       "      <td>0</td>\n",
       "      <td>2</td>\n",
       "      <td>1</td>\n",
       "      <td>2</td>\n",
       "      <td>18.52</td>\n",
       "    </tr>\n",
       "    <tr>\n",
       "      <th>1</th>\n",
       "      <td>2020-03-11</td>\n",
       "      <td>Netherlands</td>\n",
       "      <td>0.0440237</td>\n",
       "      <td>0.00031975</td>\n",
       "      <td>0.0430739</td>\n",
       "      <td>0.00496562</td>\n",
       "      <td>0.044</td>\n",
       "      <td>781</td>\n",
       "      <td>5</td>\n",
       "      <td>50</td>\n",
       "      <td>...</td>\n",
       "      <td>0</td>\n",
       "      <td>0</td>\n",
       "      <td>0</td>\n",
       "      <td>0</td>\n",
       "      <td>0</td>\n",
       "      <td>0</td>\n",
       "      <td>0</td>\n",
       "      <td>1</td>\n",
       "      <td>2</td>\n",
       "      <td>18.52</td>\n",
       "    </tr>\n",
       "    <tr>\n",
       "      <th>2</th>\n",
       "      <td>2020-03-11</td>\n",
       "      <td>Netherlands</td>\n",
       "      <td>0.0440237</td>\n",
       "      <td>0.00031975</td>\n",
       "      <td>0.0430739</td>\n",
       "      <td>0.00496562</td>\n",
       "      <td>0.044</td>\n",
       "      <td>781</td>\n",
       "      <td>5</td>\n",
       "      <td>50</td>\n",
       "      <td>...</td>\n",
       "      <td>0</td>\n",
       "      <td>0</td>\n",
       "      <td>0</td>\n",
       "      <td>0</td>\n",
       "      <td>0</td>\n",
       "      <td>0</td>\n",
       "      <td>0</td>\n",
       "      <td>1</td>\n",
       "      <td>2</td>\n",
       "      <td>18.52</td>\n",
       "    </tr>\n",
       "    <tr>\n",
       "      <th>3</th>\n",
       "      <td>2020-03-11</td>\n",
       "      <td>Netherlands</td>\n",
       "      <td>0.0440237</td>\n",
       "      <td>0.00031975</td>\n",
       "      <td>0.0430739</td>\n",
       "      <td>0.00496562</td>\n",
       "      <td>0.044</td>\n",
       "      <td>781</td>\n",
       "      <td>5</td>\n",
       "      <td>50</td>\n",
       "      <td>...</td>\n",
       "      <td>0</td>\n",
       "      <td>0</td>\n",
       "      <td>0</td>\n",
       "      <td>0</td>\n",
       "      <td>0</td>\n",
       "      <td>0</td>\n",
       "      <td>0</td>\n",
       "      <td>1</td>\n",
       "      <td>2</td>\n",
       "      <td>18.52</td>\n",
       "    </tr>\n",
       "    <tr>\n",
       "      <th>4</th>\n",
       "      <td>2020-03-11</td>\n",
       "      <td>Netherlands</td>\n",
       "      <td>0.0440237</td>\n",
       "      <td>0.00031975</td>\n",
       "      <td>0.0430739</td>\n",
       "      <td>0.00496562</td>\n",
       "      <td>0.044</td>\n",
       "      <td>781</td>\n",
       "      <td>5</td>\n",
       "      <td>50</td>\n",
       "      <td>...</td>\n",
       "      <td>0</td>\n",
       "      <td>0</td>\n",
       "      <td>0</td>\n",
       "      <td>0</td>\n",
       "      <td>0</td>\n",
       "      <td>0</td>\n",
       "      <td>0</td>\n",
       "      <td>1</td>\n",
       "      <td>2</td>\n",
       "      <td>18.52</td>\n",
       "    </tr>\n",
       "  </tbody>\n",
       "</table>\n",
       "<p>5 rows × 23 columns</p>\n",
       "</div>"
      ],
      "text/plain": [
       "        Date      Country      theta       kappa        rho       sigma  \\\n",
       "0 2020-03-11  Netherlands  0.0440237  0.00031975  0.0430739  0.00496562   \n",
       "1 2020-03-11  Netherlands  0.0440237  0.00031975  0.0430739  0.00496562   \n",
       "2 2020-03-11  Netherlands  0.0440237  0.00031975  0.0430739  0.00496562   \n",
       "3 2020-03-11  Netherlands  0.0440237  0.00031975  0.0430739  0.00496562   \n",
       "4 2020-03-11  Netherlands  0.0440237  0.00031975  0.0430739  0.00496562   \n",
       "\n",
       "  alpha1 [-] 1/alpha2 [day] 1/beta [day] 1/gamma [day]  ... Cancel_events  \\\n",
       "0      0.044            781            5            50  ...             2   \n",
       "1      0.044            781            5            50  ...             0   \n",
       "2      0.044            781            5            50  ...             0   \n",
       "3      0.044            781            5            50  ...             0   \n",
       "4      0.044            781            5            50  ...             0   \n",
       "\n",
       "   Gatherings_restrictions  Transport_closing  Stay_home_restrictions  \\\n",
       "0                        0                  0                       1   \n",
       "1                        0                  0                       0   \n",
       "2                        0                  0                       0   \n",
       "3                        0                  0                       0   \n",
       "4                        0                  0                       0   \n",
       "\n",
       "   Internal_movement_restrictions  International_movement_restrictions  \\\n",
       "0                               0                                    0   \n",
       "1                               0                                    0   \n",
       "2                               0                                    0   \n",
       "3                               0                                    0   \n",
       "4                               0                                    0   \n",
       "\n",
       "   Information_campaigns  Testing_policy  Contact_tracing  Stringency_index  \n",
       "0                      2               1                2             18.52  \n",
       "1                      0               1                2             18.52  \n",
       "2                      0               1                2             18.52  \n",
       "3                      0               1                2             18.52  \n",
       "4                      0               1                2             18.52  \n",
       "\n",
       "[5 rows x 23 columns]"
      ]
     },
     "execution_count": 13,
     "metadata": {},
     "output_type": "execute_result"
    }
   ],
   "source": [
    "# All parameter/day parameter/Rt/OxCGRT\n",
    "analyser.track().head()"
   ]
  },
  {
   "cell_type": "markdown",
   "metadata": {},
   "source": [
    "### $Rt$: Reprodcution number $\\mathrm{[-]}$"
   ]
  },
  {
   "cell_type": "code",
   "execution_count": 14,
   "metadata": {
    "collapsed": false
   },
   "outputs": [
    {
     "data": {
      "image/png": "[encoded data removed]",
      "text/plain": [
       "<Figure size 648x432 with 1 Axes>"
      ]
     },
     "metadata": {},
     "output_type": "display_data"
    },
    {
     "data": {
      "text/html": [
       "<div>\n",
       "<style scoped>\n",
       "    .dataframe tbody tr th:only-of-type {\n",
       "        vertical-align: middle;\n",
       "    }\n",
       "\n",
       "    .dataframe tbody tr th {\n",
       "        vertical-align: top;\n",
       "    }\n",
       "\n",
       "    .dataframe thead th {\n",
       "        text-align: right;\n",
       "    }\n",
       "</style>\n",
       "<table border=\"1\" class=\"dataframe\">\n",
       "  <thead>\n",
       "    <tr style=\"text-align: right;\">\n",
       "      <th>Country</th>\n",
       "      <th>Belgium</th>\n",
       "      <th>Canada</th>\n",
       "      <th>France</th>\n",
       "      <th>Netherlands</th>\n",
       "      <th>Portugal</th>\n",
       "      <th>United Kingdom</th>\n",
       "    </tr>\n",
       "    <tr>\n",
       "      <th>Date</th>\n",
       "      <th></th>\n",
       "      <th></th>\n",
       "      <th></th>\n",
       "      <th></th>\n",
       "      <th></th>\n",
       "      <th></th>\n",
       "    </tr>\n",
       "  </thead>\n",
       "  <tbody>\n",
       "    <tr>\n",
       "      <th>2020-12-08</th>\n",
       "      <td>0.59</td>\n",
       "      <td>1.42</td>\n",
       "      <td>1.03</td>\n",
       "      <td>1.37</td>\n",
       "      <td>1.0</td>\n",
       "      <td>0.66</td>\n",
       "    </tr>\n",
       "    <tr>\n",
       "      <th>2020-12-09</th>\n",
       "      <td>0.59</td>\n",
       "      <td>1.42</td>\n",
       "      <td>1.03</td>\n",
       "      <td>1.37</td>\n",
       "      <td>1.0</td>\n",
       "      <td>0.66</td>\n",
       "    </tr>\n",
       "    <tr>\n",
       "      <th>2020-12-10</th>\n",
       "      <td>0.59</td>\n",
       "      <td>1.42</td>\n",
       "      <td>1.03</td>\n",
       "      <td>1.37</td>\n",
       "      <td>1.0</td>\n",
       "      <td>0.66</td>\n",
       "    </tr>\n",
       "    <tr>\n",
       "      <th>2020-12-11</th>\n",
       "      <td>0.59</td>\n",
       "      <td>1.42</td>\n",
       "      <td>1.03</td>\n",
       "      <td>1.37</td>\n",
       "      <td>1.0</td>\n",
       "      <td>0.66</td>\n",
       "    </tr>\n",
       "    <tr>\n",
       "      <th>2020-12-12</th>\n",
       "      <td>0.59</td>\n",
       "      <td>1.42</td>\n",
       "      <td>1.03</td>\n",
       "      <td>1.37</td>\n",
       "      <td>1.0</td>\n",
       "      <td>0.66</td>\n",
       "    </tr>\n",
       "  </tbody>\n",
       "</table>\n",
       "</div>"
      ],
      "text/plain": [
       "Country     Belgium  Canada  France  Netherlands  Portugal  United Kingdom\n",
       "Date                                                                      \n",
       "2020-12-08     0.59    1.42    1.03         1.37       1.0            0.66\n",
       "2020-12-09     0.59    1.42    1.03         1.37       1.0            0.66\n",
       "2020-12-10     0.59    1.42    1.03         1.37       1.0            0.66\n",
       "2020-12-11     0.59    1.42    1.03         1.37       1.0            0.66\n",
       "2020-12-12     0.59    1.42    1.03         1.37       1.0            0.66"
      ]
     },
     "execution_count": 14,
     "metadata": {},
     "output_type": "execute_result"
    }
   ],
   "source": [
    "analyser.history(\"Rt\", roll_window=None).tail()"
   ]
  },
  {
   "cell_type": "markdown",
   "metadata": {},
   "source": [
    "### $\\rho$: Effective contact rate $\\mathrm{[-]}$"
   ]
  },
  {
   "cell_type": "code",
   "execution_count": 15,
   "metadata": {
    "collapsed": false
   },
   "outputs": [
    {
     "data": {
      "image/png": "[encoded data removed]",
      "text/plain": [
       "<Figure size 648x432 with 1 Axes>"
      ]
     },
     "metadata": {},
     "output_type": "display_data"
    },
    {
     "data": {
      "text/html": [
       "<div>\n",
       "<style scoped>\n",
       "    .dataframe tbody tr th:only-of-type {\n",
       "        vertical-align: middle;\n",
       "    }\n",
       "\n",
       "    .dataframe tbody tr th {\n",
       "        vertical-align: top;\n",
       "    }\n",
       "\n",
       "    .dataframe thead th {\n",
       "        text-align: right;\n",
       "    }\n",
       "</style>\n",
       "<table border=\"1\" class=\"dataframe\">\n",
       "  <thead>\n",
       "    <tr style=\"text-align: right;\">\n",
       "      <th>Country</th>\n",
       "      <th>Belgium</th>\n",
       "      <th>Canada</th>\n",
       "      <th>France</th>\n",
       "      <th>Netherlands</th>\n",
       "      <th>Portugal</th>\n",
       "      <th>United Kingdom</th>\n",
       "    </tr>\n",
       "    <tr>\n",
       "      <th>Date</th>\n",
       "      <th></th>\n",
       "      <th></th>\n",
       "      <th></th>\n",
       "      <th></th>\n",
       "      <th></th>\n",
       "      <th></th>\n",
       "    </tr>\n",
       "  </thead>\n",
       "  <tbody>\n",
       "    <tr>\n",
       "      <th>2020-12-08</th>\n",
       "      <td>0.020162</td>\n",
       "      <td>0.022894</td>\n",
       "      <td>0.024945</td>\n",
       "      <td>0.027502</td>\n",
       "      <td>0.013934</td>\n",
       "      <td>0.018954</td>\n",
       "    </tr>\n",
       "    <tr>\n",
       "      <th>2020-12-09</th>\n",
       "      <td>0.020162</td>\n",
       "      <td>0.022894</td>\n",
       "      <td>0.024945</td>\n",
       "      <td>0.027502</td>\n",
       "      <td>0.013934</td>\n",
       "      <td>0.018954</td>\n",
       "    </tr>\n",
       "    <tr>\n",
       "      <th>2020-12-10</th>\n",
       "      <td>0.020162</td>\n",
       "      <td>0.022894</td>\n",
       "      <td>0.024945</td>\n",
       "      <td>0.027502</td>\n",
       "      <td>0.013934</td>\n",
       "      <td>0.018954</td>\n",
       "    </tr>\n",
       "    <tr>\n",
       "      <th>2020-12-11</th>\n",
       "      <td>0.020162</td>\n",
       "      <td>0.022894</td>\n",
       "      <td>0.024945</td>\n",
       "      <td>0.027502</td>\n",
       "      <td>0.013934</td>\n",
       "      <td>0.018954</td>\n",
       "    </tr>\n",
       "    <tr>\n",
       "      <th>2020-12-12</th>\n",
       "      <td>0.020162</td>\n",
       "      <td>0.022894</td>\n",
       "      <td>0.024945</td>\n",
       "      <td>0.027502</td>\n",
       "      <td>0.013934</td>\n",
       "      <td>0.018954</td>\n",
       "    </tr>\n",
       "  </tbody>\n",
       "</table>\n",
       "</div>"
      ],
      "text/plain": [
       "Country      Belgium    Canada    France  Netherlands  Portugal  \\\n",
       "Date                                                              \n",
       "2020-12-08  0.020162  0.022894  0.024945     0.027502  0.013934   \n",
       "2020-12-09  0.020162  0.022894  0.024945     0.027502  0.013934   \n",
       "2020-12-10  0.020162  0.022894  0.024945     0.027502  0.013934   \n",
       "2020-12-11  0.020162  0.022894  0.024945     0.027502  0.013934   \n",
       "2020-12-12  0.020162  0.022894  0.024945     0.027502  0.013934   \n",
       "\n",
       "Country     United Kingdom  \n",
       "Date                        \n",
       "2020-12-08        0.018954  \n",
       "2020-12-09        0.018954  \n",
       "2020-12-10        0.018954  \n",
       "2020-12-11        0.018954  \n",
       "2020-12-12        0.018954  "
      ]
     },
     "execution_count": 15,
     "metadata": {},
     "output_type": "execute_result"
    }
   ],
   "source": [
    "analyser.history(\"rho\", roll_window=None).tail()"
   ]
  },
  {
   "cell_type": "markdown",
   "metadata": {},
   "source": [
    "### $\\sigma$: Recovery rate $\\mathrm{[-]}$"
   ]
  },
  {
   "cell_type": "code",
   "execution_count": 16,
   "metadata": {
    "collapsed": false
   },
   "outputs": [
    {
     "data": {
      "image/png": "[encoded data removed]",
      "text/plain": [
       "<Figure size 648x432 with 1 Axes>"
      ]
     },
     "metadata": {},
     "output_type": "display_data"
    },
    {
     "data": {
      "text/html": [
       "<div>\n",
       "<style scoped>\n",
       "    .dataframe tbody tr th:only-of-type {\n",
       "        vertical-align: middle;\n",
       "    }\n",
       "\n",
       "    .dataframe tbody tr th {\n",
       "        vertical-align: top;\n",
       "    }\n",
       "\n",
       "    .dataframe thead th {\n",
       "        text-align: right;\n",
       "    }\n",
       "</style>\n",
       "<table border=\"1\" class=\"dataframe\">\n",
       "  <thead>\n",
       "    <tr style=\"text-align: right;\">\n",
       "      <th>Country</th>\n",
       "      <th>Belgium</th>\n",
       "      <th>Canada</th>\n",
       "      <th>France</th>\n",
       "      <th>Netherlands</th>\n",
       "      <th>Portugal</th>\n",
       "      <th>United Kingdom</th>\n",
       "    </tr>\n",
       "    <tr>\n",
       "      <th>Date</th>\n",
       "      <th></th>\n",
       "      <th></th>\n",
       "      <th></th>\n",
       "      <th></th>\n",
       "      <th></th>\n",
       "      <th></th>\n",
       "    </tr>\n",
       "  </thead>\n",
       "  <tbody>\n",
       "    <tr>\n",
       "      <th>2020-12-08</th>\n",
       "      <td>0.032986</td>\n",
       "      <td>0.015594</td>\n",
       "      <td>0.023356</td>\n",
       "      <td>0.020008</td>\n",
       "      <td>0.013646</td>\n",
       "      <td>0.027868</td>\n",
       "    </tr>\n",
       "    <tr>\n",
       "      <th>2020-12-09</th>\n",
       "      <td>0.032986</td>\n",
       "      <td>0.015594</td>\n",
       "      <td>0.023356</td>\n",
       "      <td>0.020008</td>\n",
       "      <td>0.013646</td>\n",
       "      <td>0.027868</td>\n",
       "    </tr>\n",
       "    <tr>\n",
       "      <th>2020-12-10</th>\n",
       "      <td>0.032986</td>\n",
       "      <td>0.015594</td>\n",
       "      <td>0.023356</td>\n",
       "      <td>0.020008</td>\n",
       "      <td>0.013646</td>\n",
       "      <td>0.027868</td>\n",
       "    </tr>\n",
       "    <tr>\n",
       "      <th>2020-12-11</th>\n",
       "      <td>0.032986</td>\n",
       "      <td>0.015594</td>\n",
       "      <td>0.023356</td>\n",
       "      <td>0.020008</td>\n",
       "      <td>0.013646</td>\n",
       "      <td>0.027868</td>\n",
       "    </tr>\n",
       "    <tr>\n",
       "      <th>2020-12-12</th>\n",
       "      <td>0.032986</td>\n",
       "      <td>0.015594</td>\n",
       "      <td>0.023356</td>\n",
       "      <td>0.020008</td>\n",
       "      <td>0.013646</td>\n",
       "      <td>0.027868</td>\n",
       "    </tr>\n",
       "  </tbody>\n",
       "</table>\n",
       "</div>"
      ],
      "text/plain": [
       "Country      Belgium    Canada    France  Netherlands  Portugal  \\\n",
       "Date                                                              \n",
       "2020-12-08  0.032986  0.015594  0.023356     0.020008  0.013646   \n",
       "2020-12-09  0.032986  0.015594  0.023356     0.020008  0.013646   \n",
       "2020-12-10  0.032986  0.015594  0.023356     0.020008  0.013646   \n",
       "2020-12-11  0.032986  0.015594  0.023356     0.020008  0.013646   \n",
       "2020-12-12  0.032986  0.015594  0.023356     0.020008  0.013646   \n",
       "\n",
       "Country     United Kingdom  \n",
       "Date                        \n",
       "2020-12-08        0.027868  \n",
       "2020-12-09        0.027868  \n",
       "2020-12-10        0.027868  \n",
       "2020-12-11        0.027868  \n",
       "2020-12-12        0.027868  "
      ]
     },
     "execution_count": 16,
     "metadata": {},
     "output_type": "execute_result"
    }
   ],
   "source": [
    "analyser.history(\"sigma\", roll_window=None).tail()"
   ]
  },
  {
   "cell_type": "markdown",
   "metadata": {},
   "source": [
    "### $\\kappa$: Mortality rate of infected cases $\\mathrm{[-]}$"
   ]
  },
  {
   "cell_type": "code",
   "execution_count": 17,
   "metadata": {
    "collapsed": false
   },
   "outputs": [
    {
     "data": {
      "image/png": "[encoded data removed]",
      "text/plain": [
       "<Figure size 648x432 with 1 Axes>"
      ]
     },
     "metadata": {},
     "output_type": "display_data"
    },
    {
     "data": {
      "text/html": [
       "<div>\n",
       "<style scoped>\n",
       "    .dataframe tbody tr th:only-of-type {\n",
       "        vertical-align: middle;\n",
       "    }\n",
       "\n",
       "    .dataframe tbody tr th {\n",
       "        vertical-align: top;\n",
       "    }\n",
       "\n",
       "    .dataframe thead th {\n",
       "        text-align: right;\n",
       "    }\n",
       "</style>\n",
       "<table border=\"1\" class=\"dataframe\">\n",
       "  <thead>\n",
       "    <tr style=\"text-align: right;\">\n",
       "      <th>Country</th>\n",
       "      <th>Belgium</th>\n",
       "      <th>Canada</th>\n",
       "      <th>France</th>\n",
       "      <th>Netherlands</th>\n",
       "      <th>Portugal</th>\n",
       "      <th>United Kingdom</th>\n",
       "    </tr>\n",
       "    <tr>\n",
       "      <th>Date</th>\n",
       "      <th></th>\n",
       "      <th></th>\n",
       "      <th></th>\n",
       "      <th></th>\n",
       "      <th></th>\n",
       "      <th></th>\n",
       "    </tr>\n",
       "  </thead>\n",
       "  <tbody>\n",
       "    <tr>\n",
       "      <th>2020-12-08</th>\n",
       "      <td>0.000416</td>\n",
       "      <td>0.000553</td>\n",
       "      <td>0.000417</td>\n",
       "      <td>0.00008</td>\n",
       "      <td>0.000235</td>\n",
       "      <td>0.000005</td>\n",
       "    </tr>\n",
       "    <tr>\n",
       "      <th>2020-12-09</th>\n",
       "      <td>0.000416</td>\n",
       "      <td>0.000553</td>\n",
       "      <td>0.000417</td>\n",
       "      <td>0.00008</td>\n",
       "      <td>0.000235</td>\n",
       "      <td>0.000005</td>\n",
       "    </tr>\n",
       "    <tr>\n",
       "      <th>2020-12-10</th>\n",
       "      <td>0.000416</td>\n",
       "      <td>0.000553</td>\n",
       "      <td>0.000417</td>\n",
       "      <td>0.00008</td>\n",
       "      <td>0.000235</td>\n",
       "      <td>0.000005</td>\n",
       "    </tr>\n",
       "    <tr>\n",
       "      <th>2020-12-11</th>\n",
       "      <td>0.000416</td>\n",
       "      <td>0.000553</td>\n",
       "      <td>0.000417</td>\n",
       "      <td>0.00008</td>\n",
       "      <td>0.000235</td>\n",
       "      <td>0.000005</td>\n",
       "    </tr>\n",
       "    <tr>\n",
       "      <th>2020-12-12</th>\n",
       "      <td>0.000416</td>\n",
       "      <td>0.000553</td>\n",
       "      <td>0.000417</td>\n",
       "      <td>0.00008</td>\n",
       "      <td>0.000235</td>\n",
       "      <td>0.000005</td>\n",
       "    </tr>\n",
       "  </tbody>\n",
       "</table>\n",
       "</div>"
      ],
      "text/plain": [
       "Country      Belgium    Canada    France  Netherlands  Portugal  \\\n",
       "Date                                                              \n",
       "2020-12-08  0.000416  0.000553  0.000417      0.00008  0.000235   \n",
       "2020-12-09  0.000416  0.000553  0.000417      0.00008  0.000235   \n",
       "2020-12-10  0.000416  0.000553  0.000417      0.00008  0.000235   \n",
       "2020-12-11  0.000416  0.000553  0.000417      0.00008  0.000235   \n",
       "2020-12-12  0.000416  0.000553  0.000417      0.00008  0.000235   \n",
       "\n",
       "Country     United Kingdom  \n",
       "Date                        \n",
       "2020-12-08        0.000005  \n",
       "2020-12-09        0.000005  \n",
       "2020-12-10        0.000005  \n",
       "2020-12-11        0.000005  \n",
       "2020-12-12        0.000005  "
      ]
     },
     "execution_count": 17,
     "metadata": {},
     "output_type": "execute_result"
    }
   ],
   "source": [
    "analyser.history(\"kappa\", roll_window=None).tail()"
   ]
  },
  {
   "cell_type": "markdown",
   "metadata": {},
   "source": [
    "### $\\theta$: Mortality rate of S$^\\ast$ cases $\\mathrm{[-]}$"
   ]
  },
  {
   "cell_type": "code",
   "execution_count": 18,
   "metadata": {
    "collapsed": false
   },
   "outputs": [
    {
     "data": {
      "image/png": "[encoded data removed]",
      "text/plain": [
       "<Figure size 648x432 with 1 Axes>"
      ]
     },
     "metadata": {},
     "output_type": "display_data"
    },
    {
     "data": {
      "text/html": [
       "<div>\n",
       "<style scoped>\n",
       "    .dataframe tbody tr th:only-of-type {\n",
       "        vertical-align: middle;\n",
       "    }\n",
       "\n",
       "    .dataframe tbody tr th {\n",
       "        vertical-align: top;\n",
       "    }\n",
       "\n",
       "    .dataframe thead th {\n",
       "        text-align: right;\n",
       "    }\n",
       "</style>\n",
       "<table border=\"1\" class=\"dataframe\">\n",
       "  <thead>\n",
       "    <tr style=\"text-align: right;\">\n",
       "      <th>Country</th>\n",
       "      <th>Belgium</th>\n",
       "      <th>Canada</th>\n",
       "      <th>France</th>\n",
       "      <th>Netherlands</th>\n",
       "      <th>Portugal</th>\n",
       "      <th>United Kingdom</th>\n",
       "    </tr>\n",
       "    <tr>\n",
       "      <th>Date</th>\n",
       "      <th></th>\n",
       "      <th></th>\n",
       "      <th></th>\n",
       "      <th></th>\n",
       "      <th></th>\n",
       "      <th></th>\n",
       "    </tr>\n",
       "  </thead>\n",
       "  <tbody>\n",
       "    <tr>\n",
       "      <th>2020-12-08</th>\n",
       "      <td>0.025196</td>\n",
       "      <td>0.000482</td>\n",
       "      <td>0.019439</td>\n",
       "      <td>0.000345</td>\n",
       "      <td>0.000673</td>\n",
       "      <td>0.030866</td>\n",
       "    </tr>\n",
       "    <tr>\n",
       "      <th>2020-12-09</th>\n",
       "      <td>0.025196</td>\n",
       "      <td>0.000482</td>\n",
       "      <td>0.019439</td>\n",
       "      <td>0.000345</td>\n",
       "      <td>0.000673</td>\n",
       "      <td>0.030866</td>\n",
       "    </tr>\n",
       "    <tr>\n",
       "      <th>2020-12-10</th>\n",
       "      <td>0.025196</td>\n",
       "      <td>0.000482</td>\n",
       "      <td>0.019439</td>\n",
       "      <td>0.000345</td>\n",
       "      <td>0.000673</td>\n",
       "      <td>0.030866</td>\n",
       "    </tr>\n",
       "    <tr>\n",
       "      <th>2020-12-11</th>\n",
       "      <td>0.025196</td>\n",
       "      <td>0.000482</td>\n",
       "      <td>0.019439</td>\n",
       "      <td>0.000345</td>\n",
       "      <td>0.000673</td>\n",
       "      <td>0.030866</td>\n",
       "    </tr>\n",
       "    <tr>\n",
       "      <th>2020-12-12</th>\n",
       "      <td>0.025196</td>\n",
       "      <td>0.000482</td>\n",
       "      <td>0.019439</td>\n",
       "      <td>0.000345</td>\n",
       "      <td>0.000673</td>\n",
       "      <td>0.030866</td>\n",
       "    </tr>\n",
       "  </tbody>\n",
       "</table>\n",
       "</div>"
      ],
      "text/plain": [
       "Country      Belgium    Canada    France  Netherlands  Portugal  \\\n",
       "Date                                                              \n",
       "2020-12-08  0.025196  0.000482  0.019439     0.000345  0.000673   \n",
       "2020-12-09  0.025196  0.000482  0.019439     0.000345  0.000673   \n",
       "2020-12-10  0.025196  0.000482  0.019439     0.000345  0.000673   \n",
       "2020-12-11  0.025196  0.000482  0.019439     0.000345  0.000673   \n",
       "2020-12-12  0.025196  0.000482  0.019439     0.000345  0.000673   \n",
       "\n",
       "Country     United Kingdom  \n",
       "Date                        \n",
       "2020-12-08        0.030866  \n",
       "2020-12-09        0.030866  \n",
       "2020-12-10        0.030866  \n",
       "2020-12-11        0.030866  \n",
       "2020-12-12        0.030866  "
      ]
     },
     "execution_count": 18,
     "metadata": {},
     "output_type": "execute_result"
    }
   ],
   "source": [
    "analyser.history(\"theta\", roll_window=None).tail()"
   ]
  },
  {
   "cell_type": "markdown",
   "metadata": {},
   "source": [
    "## (Experimental): Relationship of OxCGRT index and parameter values\n",
    "Government responses will impact on parameter values of ODE models about 14 days later. Here, we will investigate on the relationship of [stringency index (from OxCGRT)](https://github.com/OxCGRT/covid-policy-tracker/blob/master/documentation/index_methodology.md) and reproduction number/model parameters.\n"
   ]
  },
  {
   "cell_type": "code",
   "execution_count": 19,
   "metadata": {
    "collapsed": false
   },
   "outputs": [],
   "source": [
    "%matplotlib inline\n",
    "from matplotlib import pyplot as plt\n",
    "import seaborn as sns\n",
    "import pandas as pd"
   ]
  },
  {
   "cell_type": "code",
   "execution_count": 20,
   "metadata": {
    "collapsed": false
   },
   "outputs": [
    {
     "name": "stdout",
     "output_type": "stream",
     "text": [
      "<class 'pandas.core.frame.DataFrame'>\n",
      "Int64Index: 25141 entries, 0 to 25210\n",
      "Data columns (total 19 columns):\n",
      " #   Column                               Non-Null Count  Dtype         \n",
      "---  ------                               --------------  -----         \n",
      " 0   Date                                 25141 non-null  datetime64[ns]\n",
      " 1   Country                              25141 non-null  object        \n",
      " 2   Rt                                   25141 non-null  float64       \n",
      " 3   theta                                25141 non-null  float64       \n",
      " 4   kappa                                25141 non-null  float64       \n",
      " 5   rho                                  25141 non-null  float64       \n",
      " 6   sigma                                25141 non-null  float64       \n",
      " 7   School_closing                       25141 non-null  int64         \n",
      " 8   Workplace_closing                    25141 non-null  int64         \n",
      " 9   Cancel_events                        25141 non-null  int64         \n",
      " 10  Gatherings_restrictions              25141 non-null  int64         \n",
      " 11  Transport_closing                    25141 non-null  int64         \n",
      " 12  Stay_home_restrictions               25141 non-null  int64         \n",
      " 13  Internal_movement_restrictions       25141 non-null  int64         \n",
      " 14  International_movement_restrictions  25141 non-null  int64         \n",
      " 15  Information_campaigns                25141 non-null  int64         \n",
      " 16  Testing_policy                       25141 non-null  int64         \n",
      " 17  Contact_tracing                      25141 non-null  int64         \n",
      " 18  Stringency_index                     25141 non-null  float64       \n",
      "dtypes: datetime64[ns](1), float64(6), int64(11), object(1)\n",
      "memory usage: 3.8+ MB\n"
     ]
    }
   ],
   "source": [
    "df = analyser.track()\n",
    "param_cols = [\"Rt\", *cs.SIRF.PARAMETERS]\n",
    "oxcgrt_cols = oxcgrt_data.OXCGRT_VARS[:]\n",
    "cols = param_cols + oxcgrt_cols\n",
    "delay = 14\n",
    "\n",
    "for col in param_cols:\n",
    "    df[col] = pd.to_numeric(df[col], errors=\"coerce\")\n",
    "    df[col] = df.groupby(\"Country\")[col].shift(0 - delay)\n",
    "\n",
    "df = df.dropna(how=\"any\")\n",
    "df = df.loc[:, [\"Date\", \"Country\", *cols]]\n",
    "track_df = df.copy()\n",
    "track_df.info()"
   ]
  },
  {
   "cell_type": "code",
   "execution_count": 21,
   "metadata": {
    "collapsed": false
   },
   "outputs": [
    {
     "data": {
      "text/html": [
       "<style  type=\"text/css\" >\n",
       "#T_eca06980_3c87_11eb_9ee2_525400c01c9crow0_col0,#T_eca06980_3c87_11eb_9ee2_525400c01c9crow1_col1,#T_eca06980_3c87_11eb_9ee2_525400c01c9crow2_col2,#T_eca06980_3c87_11eb_9ee2_525400c01c9crow3_col3,#T_eca06980_3c87_11eb_9ee2_525400c01c9crow4_col4,#T_eca06980_3c87_11eb_9ee2_525400c01c9crow5_col5,#T_eca06980_3c87_11eb_9ee2_525400c01c9crow6_col6,#T_eca06980_3c87_11eb_9ee2_525400c01c9crow7_col7,#T_eca06980_3c87_11eb_9ee2_525400c01c9crow8_col8,#T_eca06980_3c87_11eb_9ee2_525400c01c9crow9_col9,#T_eca06980_3c87_11eb_9ee2_525400c01c9crow10_col10,#T_eca06980_3c87_11eb_9ee2_525400c01c9crow11_col11,#T_eca06980_3c87_11eb_9ee2_525400c01c9crow12_col12,#T_eca06980_3c87_11eb_9ee2_525400c01c9crow13_col13,#T_eca06980_3c87_11eb_9ee2_525400c01c9crow14_col14,#T_eca06980_3c87_11eb_9ee2_525400c01c9crow15_col15,#T_eca06980_3c87_11eb_9ee2_525400c01c9crow16_col16{\n",
       "            background-color:  #023858;\n",
       "            color:  #f1f1f1;\n",
       "        }#T_eca06980_3c87_11eb_9ee2_525400c01c9crow0_col1,#T_eca06980_3c87_11eb_9ee2_525400c01c9crow1_col0{\n",
       "            background-color:  #c6cce3;\n",
       "            color:  #000000;\n",
       "        }#T_eca06980_3c87_11eb_9ee2_525400c01c9crow0_col2,#T_eca06980_3c87_11eb_9ee2_525400c01c9crow2_col0{\n",
       "            background-color:  #b0c2de;\n",
       "            color:  #000000;\n",
       "        }#T_eca06980_3c87_11eb_9ee2_525400c01c9crow0_col3,#T_eca06980_3c87_11eb_9ee2_525400c01c9crow3_col0{\n",
       "            background-color:  #2d8abd;\n",
       "            color:  #000000;\n",
       "        }#T_eca06980_3c87_11eb_9ee2_525400c01c9crow0_col4,#T_eca06980_3c87_11eb_9ee2_525400c01c9crow3_col6,#T_eca06980_3c87_11eb_9ee2_525400c01c9crow4_col0,#T_eca06980_3c87_11eb_9ee2_525400c01c9crow6_col3{\n",
       "            background-color:  #eee8f3;\n",
       "            color:  #000000;\n",
       "        }#T_eca06980_3c87_11eb_9ee2_525400c01c9crow0_col5,#T_eca06980_3c87_11eb_9ee2_525400c01c9crow5_col0{\n",
       "            background-color:  #b9c6e0;\n",
       "            color:  #000000;\n",
       "        }#T_eca06980_3c87_11eb_9ee2_525400c01c9crow0_col6,#T_eca06980_3c87_11eb_9ee2_525400c01c9crow6_col0,#T_eca06980_3c87_11eb_9ee2_525400c01c9crow15_col16,#T_eca06980_3c87_11eb_9ee2_525400c01c9crow16_col15{\n",
       "            background-color:  #c1cae2;\n",
       "            color:  #000000;\n",
       "        }#T_eca06980_3c87_11eb_9ee2_525400c01c9crow0_col7,#T_eca06980_3c87_11eb_9ee2_525400c01c9crow7_col0{\n",
       "            background-color:  #c5cce3;\n",
       "            color:  #000000;\n",
       "        }#T_eca06980_3c87_11eb_9ee2_525400c01c9crow0_col8,#T_eca06980_3c87_11eb_9ee2_525400c01c9crow8_col0{\n",
       "            background-color:  #e0deed;\n",
       "            color:  #000000;\n",
       "        }#T_eca06980_3c87_11eb_9ee2_525400c01c9crow0_col9,#T_eca06980_3c87_11eb_9ee2_525400c01c9crow9_col0,#T_eca06980_3c87_11eb_9ee2_525400c01c9crow11_col14,#T_eca06980_3c87_11eb_9ee2_525400c01c9crow14_col11{\n",
       "            background-color:  #c8cde4;\n",
       "            color:  #000000;\n",
       "        }#T_eca06980_3c87_11eb_9ee2_525400c01c9crow0_col10,#T_eca06980_3c87_11eb_9ee2_525400c01c9crow2_col16,#T_eca06980_3c87_11eb_9ee2_525400c01c9crow3_col15,#T_eca06980_3c87_11eb_9ee2_525400c01c9crow10_col0,#T_eca06980_3c87_11eb_9ee2_525400c01c9crow15_col3,#T_eca06980_3c87_11eb_9ee2_525400c01c9crow16_col2{\n",
       "            background-color:  #c0c9e2;\n",
       "            color:  #000000;\n",
       "        }#T_eca06980_3c87_11eb_9ee2_525400c01c9crow0_col11,#T_eca06980_3c87_11eb_9ee2_525400c01c9crow11_col0{\n",
       "            background-color:  #d1d2e6;\n",
       "            color:  #000000;\n",
       "        }#T_eca06980_3c87_11eb_9ee2_525400c01c9crow0_col12,#T_eca06980_3c87_11eb_9ee2_525400c01c9crow12_col0{\n",
       "            background-color:  #d0d1e6;\n",
       "            color:  #000000;\n",
       "        }#T_eca06980_3c87_11eb_9ee2_525400c01c9crow0_col13,#T_eca06980_3c87_11eb_9ee2_525400c01c9crow0_col15,#T_eca06980_3c87_11eb_9ee2_525400c01c9crow10_col15,#T_eca06980_3c87_11eb_9ee2_525400c01c9crow13_col0,#T_eca06980_3c87_11eb_9ee2_525400c01c9crow15_col0,#T_eca06980_3c87_11eb_9ee2_525400c01c9crow15_col10{\n",
       "            background-color:  #cdd0e5;\n",
       "            color:  #000000;\n",
       "        }#T_eca06980_3c87_11eb_9ee2_525400c01c9crow0_col14,#T_eca06980_3c87_11eb_9ee2_525400c01c9crow14_col0{\n",
       "            background-color:  #d6d6e9;\n",
       "            color:  #000000;\n",
       "        }#T_eca06980_3c87_11eb_9ee2_525400c01c9crow0_col16,#T_eca06980_3c87_11eb_9ee2_525400c01c9crow16_col0{\n",
       "            background-color:  #ced0e6;\n",
       "            color:  #000000;\n",
       "        }#T_eca06980_3c87_11eb_9ee2_525400c01c9crow1_col2,#T_eca06980_3c87_11eb_9ee2_525400c01c9crow2_col1,#T_eca06980_3c87_11eb_9ee2_525400c01c9crow11_col15,#T_eca06980_3c87_11eb_9ee2_525400c01c9crow15_col11{\n",
       "            background-color:  #9cb9d9;\n",
       "            color:  #000000;\n",
       "        }#T_eca06980_3c87_11eb_9ee2_525400c01c9crow1_col3,#T_eca06980_3c87_11eb_9ee2_525400c01c9crow3_col1,#T_eca06980_3c87_11eb_9ee2_525400c01c9crow3_col4,#T_eca06980_3c87_11eb_9ee2_525400c01c9crow3_col7,#T_eca06980_3c87_11eb_9ee2_525400c01c9crow4_col3,#T_eca06980_3c87_11eb_9ee2_525400c01c9crow7_col3,#T_eca06980_3c87_11eb_9ee2_525400c01c9crow7_col14,#T_eca06980_3c87_11eb_9ee2_525400c01c9crow14_col7{\n",
       "            background-color:  #d7d6e9;\n",
       "            color:  #000000;\n",
       "        }#T_eca06980_3c87_11eb_9ee2_525400c01c9crow1_col4,#T_eca06980_3c87_11eb_9ee2_525400c01c9crow2_col12,#T_eca06980_3c87_11eb_9ee2_525400c01c9crow4_col1,#T_eca06980_3c87_11eb_9ee2_525400c01c9crow12_col2{\n",
       "            background-color:  #a8bedc;\n",
       "            color:  #000000;\n",
       "        }#T_eca06980_3c87_11eb_9ee2_525400c01c9crow1_col5,#T_eca06980_3c87_11eb_9ee2_525400c01c9crow1_col6,#T_eca06980_3c87_11eb_9ee2_525400c01c9crow5_col1,#T_eca06980_3c87_11eb_9ee2_525400c01c9crow6_col1,#T_eca06980_3c87_11eb_9ee2_525400c01c9crow8_col15,#T_eca06980_3c87_11eb_9ee2_525400c01c9crow15_col8{\n",
       "            background-color:  #73a9cf;\n",
       "            color:  #000000;\n",
       "        }#T_eca06980_3c87_11eb_9ee2_525400c01c9crow1_col7,#T_eca06980_3c87_11eb_9ee2_525400c01c9crow7_col1,#T_eca06980_3c87_11eb_9ee2_525400c01c9crow10_col12,#T_eca06980_3c87_11eb_9ee2_525400c01c9crow12_col10{\n",
       "            background-color:  #65a3cb;\n",
       "            color:  #000000;\n",
       "        }#T_eca06980_3c87_11eb_9ee2_525400c01c9crow1_col8,#T_eca06980_3c87_11eb_9ee2_525400c01c9crow1_col9,#T_eca06980_3c87_11eb_9ee2_525400c01c9crow4_col5,#T_eca06980_3c87_11eb_9ee2_525400c01c9crow5_col4,#T_eca06980_3c87_11eb_9ee2_525400c01c9crow8_col1,#T_eca06980_3c87_11eb_9ee2_525400c01c9crow9_col1{\n",
       "            background-color:  #7eadd1;\n",
       "            color:  #000000;\n",
       "        }#T_eca06980_3c87_11eb_9ee2_525400c01c9crow1_col10,#T_eca06980_3c87_11eb_9ee2_525400c01c9crow10_col1{\n",
       "            background-color:  #71a8ce;\n",
       "            color:  #000000;\n",
       "        }#T_eca06980_3c87_11eb_9ee2_525400c01c9crow1_col11,#T_eca06980_3c87_11eb_9ee2_525400c01c9crow11_col1{\n",
       "            background-color:  #5c9fc9;\n",
       "            color:  #000000;\n",
       "        }#T_eca06980_3c87_11eb_9ee2_525400c01c9crow1_col12,#T_eca06980_3c87_11eb_9ee2_525400c01c9crow2_col7,#T_eca06980_3c87_11eb_9ee2_525400c01c9crow7_col2,#T_eca06980_3c87_11eb_9ee2_525400c01c9crow12_col1{\n",
       "            background-color:  #91b5d6;\n",
       "            color:  #000000;\n",
       "        }#T_eca06980_3c87_11eb_9ee2_525400c01c9crow1_col13,#T_eca06980_3c87_11eb_9ee2_525400c01c9crow2_col15,#T_eca06980_3c87_11eb_9ee2_525400c01c9crow13_col1,#T_eca06980_3c87_11eb_9ee2_525400c01c9crow15_col2{\n",
       "            background-color:  #94b6d7;\n",
       "            color:  #000000;\n",
       "        }#T_eca06980_3c87_11eb_9ee2_525400c01c9crow1_col14,#T_eca06980_3c87_11eb_9ee2_525400c01c9crow14_col1{\n",
       "            background-color:  #dcdaeb;\n",
       "            color:  #000000;\n",
       "        }#T_eca06980_3c87_11eb_9ee2_525400c01c9crow1_col15,#T_eca06980_3c87_11eb_9ee2_525400c01c9crow9_col12,#T_eca06980_3c87_11eb_9ee2_525400c01c9crow12_col9,#T_eca06980_3c87_11eb_9ee2_525400c01c9crow15_col1{\n",
       "            background-color:  #b1c2de;\n",
       "            color:  #000000;\n",
       "        }#T_eca06980_3c87_11eb_9ee2_525400c01c9crow1_col16,#T_eca06980_3c87_11eb_9ee2_525400c01c9crow16_col1{\n",
       "            background-color:  #569dc8;\n",
       "            color:  #000000;\n",
       "        }#T_eca06980_3c87_11eb_9ee2_525400c01c9crow2_col3,#T_eca06980_3c87_11eb_9ee2_525400c01c9crow3_col2{\n",
       "            background-color:  #8fb4d6;\n",
       "            color:  #000000;\n",
       "        }#T_eca06980_3c87_11eb_9ee2_525400c01c9crow2_col4,#T_eca06980_3c87_11eb_9ee2_525400c01c9crow4_col2{\n",
       "            background-color:  #9fbad9;\n",
       "            color:  #000000;\n",
       "        }#T_eca06980_3c87_11eb_9ee2_525400c01c9crow2_col5,#T_eca06980_3c87_11eb_9ee2_525400c01c9crow2_col11,#T_eca06980_3c87_11eb_9ee2_525400c01c9crow5_col2,#T_eca06980_3c87_11eb_9ee2_525400c01c9crow11_col2{\n",
       "            background-color:  #bbc7e0;\n",
       "            color:  #000000;\n",
       "        }#T_eca06980_3c87_11eb_9ee2_525400c01c9crow2_col6,#T_eca06980_3c87_11eb_9ee2_525400c01c9crow6_col2{\n",
       "            background-color:  #a7bddb;\n",
       "            color:  #000000;\n",
       "        }#T_eca06980_3c87_11eb_9ee2_525400c01c9crow2_col8,#T_eca06980_3c87_11eb_9ee2_525400c01c9crow8_col2{\n",
       "            background-color:  #d5d5e8;\n",
       "            color:  #000000;\n",
       "        }#T_eca06980_3c87_11eb_9ee2_525400c01c9crow2_col9,#T_eca06980_3c87_11eb_9ee2_525400c01c9crow9_col2{\n",
       "            background-color:  #99b8d8;\n",
       "            color:  #000000;\n",
       "        }#T_eca06980_3c87_11eb_9ee2_525400c01c9crow2_col10,#T_eca06980_3c87_11eb_9ee2_525400c01c9crow7_col15,#T_eca06980_3c87_11eb_9ee2_525400c01c9crow10_col2,#T_eca06980_3c87_11eb_9ee2_525400c01c9crow15_col7{\n",
       "            background-color:  #b7c5df;\n",
       "            color:  #000000;\n",
       "        }#T_eca06980_3c87_11eb_9ee2_525400c01c9crow2_col13,#T_eca06980_3c87_11eb_9ee2_525400c01c9crow13_col2{\n",
       "            background-color:  #9ebad9;\n",
       "            color:  #000000;\n",
       "        }#T_eca06980_3c87_11eb_9ee2_525400c01c9crow2_col14,#T_eca06980_3c87_11eb_9ee2_525400c01c9crow14_col2{\n",
       "            background-color:  #c9cee4;\n",
       "            color:  #000000;\n",
       "        }#T_eca06980_3c87_11eb_9ee2_525400c01c9crow3_col5,#T_eca06980_3c87_11eb_9ee2_525400c01c9crow5_col3{\n",
       "            background-color:  #e5e1ef;\n",
       "            color:  #000000;\n",
       "        }#T_eca06980_3c87_11eb_9ee2_525400c01c9crow3_col8,#T_eca06980_3c87_11eb_9ee2_525400c01c9crow8_col3{\n",
       "            background-color:  #f8f1f8;\n",
       "            color:  #000000;\n",
       "        }#T_eca06980_3c87_11eb_9ee2_525400c01c9crow3_col9,#T_eca06980_3c87_11eb_9ee2_525400c01c9crow9_col3{\n",
       "            background-color:  #dad9ea;\n",
       "            color:  #000000;\n",
       "        }#T_eca06980_3c87_11eb_9ee2_525400c01c9crow3_col10,#T_eca06980_3c87_11eb_9ee2_525400c01c9crow3_col13,#T_eca06980_3c87_11eb_9ee2_525400c01c9crow10_col3,#T_eca06980_3c87_11eb_9ee2_525400c01c9crow13_col3{\n",
       "            background-color:  #e2dfee;\n",
       "            color:  #000000;\n",
       "        }#T_eca06980_3c87_11eb_9ee2_525400c01c9crow3_col11,#T_eca06980_3c87_11eb_9ee2_525400c01c9crow11_col3{\n",
       "            background-color:  #c2cbe2;\n",
       "            color:  #000000;\n",
       "        }#T_eca06980_3c87_11eb_9ee2_525400c01c9crow3_col12,#T_eca06980_3c87_11eb_9ee2_525400c01c9crow12_col3{\n",
       "            background-color:  #fff7fb;\n",
       "            color:  #000000;\n",
       "        }#T_eca06980_3c87_11eb_9ee2_525400c01c9crow3_col14,#T_eca06980_3c87_11eb_9ee2_525400c01c9crow14_col3{\n",
       "            background-color:  #fbf4f9;\n",
       "            color:  #000000;\n",
       "        }#T_eca06980_3c87_11eb_9ee2_525400c01c9crow3_col16,#T_eca06980_3c87_11eb_9ee2_525400c01c9crow16_col3{\n",
       "            background-color:  #f6eff7;\n",
       "            color:  #000000;\n",
       "        }#T_eca06980_3c87_11eb_9ee2_525400c01c9crow4_col6,#T_eca06980_3c87_11eb_9ee2_525400c01c9crow4_col9,#T_eca06980_3c87_11eb_9ee2_525400c01c9crow6_col4,#T_eca06980_3c87_11eb_9ee2_525400c01c9crow6_col9,#T_eca06980_3c87_11eb_9ee2_525400c01c9crow9_col4,#T_eca06980_3c87_11eb_9ee2_525400c01c9crow9_col6{\n",
       "            background-color:  #69a5cc;\n",
       "            color:  #000000;\n",
       "        }#T_eca06980_3c87_11eb_9ee2_525400c01c9crow4_col7,#T_eca06980_3c87_11eb_9ee2_525400c01c9crow7_col4{\n",
       "            background-color:  #5a9ec9;\n",
       "            color:  #000000;\n",
       "        }#T_eca06980_3c87_11eb_9ee2_525400c01c9crow4_col8,#T_eca06980_3c87_11eb_9ee2_525400c01c9crow6_col13,#T_eca06980_3c87_11eb_9ee2_525400c01c9crow8_col4,#T_eca06980_3c87_11eb_9ee2_525400c01c9crow13_col6{\n",
       "            background-color:  #2f8bbe;\n",
       "            color:  #000000;\n",
       "        }#T_eca06980_3c87_11eb_9ee2_525400c01c9crow4_col10,#T_eca06980_3c87_11eb_9ee2_525400c01c9crow10_col4{\n",
       "            background-color:  #76aad0;\n",
       "            color:  #000000;\n",
       "        }#T_eca06980_3c87_11eb_9ee2_525400c01c9crow4_col11,#T_eca06980_3c87_11eb_9ee2_525400c01c9crow7_col13,#T_eca06980_3c87_11eb_9ee2_525400c01c9crow11_col4,#T_eca06980_3c87_11eb_9ee2_525400c01c9crow13_col7{\n",
       "            background-color:  #4e9ac6;\n",
       "            color:  #000000;\n",
       "        }#T_eca06980_3c87_11eb_9ee2_525400c01c9crow4_col12,#T_eca06980_3c87_11eb_9ee2_525400c01c9crow5_col7,#T_eca06980_3c87_11eb_9ee2_525400c01c9crow7_col5,#T_eca06980_3c87_11eb_9ee2_525400c01c9crow12_col4,#T_eca06980_3c87_11eb_9ee2_525400c01c9crow14_col16,#T_eca06980_3c87_11eb_9ee2_525400c01c9crow16_col14{\n",
       "            background-color:  #96b6d7;\n",
       "            color:  #000000;\n",
       "        }#T_eca06980_3c87_11eb_9ee2_525400c01c9crow4_col13,#T_eca06980_3c87_11eb_9ee2_525400c01c9crow13_col4{\n",
       "            background-color:  #67a4cc;\n",
       "            color:  #000000;\n",
       "        }#T_eca06980_3c87_11eb_9ee2_525400c01c9crow4_col14,#T_eca06980_3c87_11eb_9ee2_525400c01c9crow5_col14,#T_eca06980_3c87_11eb_9ee2_525400c01c9crow14_col4,#T_eca06980_3c87_11eb_9ee2_525400c01c9crow14_col5{\n",
       "            background-color:  #a4bcda;\n",
       "            color:  #000000;\n",
       "        }#T_eca06980_3c87_11eb_9ee2_525400c01c9crow4_col15,#T_eca06980_3c87_11eb_9ee2_525400c01c9crow10_col13,#T_eca06980_3c87_11eb_9ee2_525400c01c9crow13_col10,#T_eca06980_3c87_11eb_9ee2_525400c01c9crow13_col15,#T_eca06980_3c87_11eb_9ee2_525400c01c9crow15_col4,#T_eca06980_3c87_11eb_9ee2_525400c01c9crow15_col13{\n",
       "            background-color:  #4697c4;\n",
       "            color:  #000000;\n",
       "        }#T_eca06980_3c87_11eb_9ee2_525400c01c9crow4_col16,#T_eca06980_3c87_11eb_9ee2_525400c01c9crow16_col4{\n",
       "            background-color:  #62a2cb;\n",
       "            color:  #000000;\n",
       "        }#T_eca06980_3c87_11eb_9ee2_525400c01c9crow5_col6,#T_eca06980_3c87_11eb_9ee2_525400c01c9crow6_col5{\n",
       "            background-color:  #0566a0;\n",
       "            color:  #f1f1f1;\n",
       "        }#T_eca06980_3c87_11eb_9ee2_525400c01c9crow5_col8,#T_eca06980_3c87_11eb_9ee2_525400c01c9crow8_col5{\n",
       "            background-color:  #3790c0;\n",
       "            color:  #000000;\n",
       "        }#T_eca06980_3c87_11eb_9ee2_525400c01c9crow5_col9,#T_eca06980_3c87_11eb_9ee2_525400c01c9crow9_col5{\n",
       "            background-color:  #a1bbda;\n",
       "            color:  #000000;\n",
       "        }#T_eca06980_3c87_11eb_9ee2_525400c01c9crow5_col10,#T_eca06980_3c87_11eb_9ee2_525400c01c9crow10_col5{\n",
       "            background-color:  #2383ba;\n",
       "            color:  #000000;\n",
       "        }#T_eca06980_3c87_11eb_9ee2_525400c01c9crow5_col11,#T_eca06980_3c87_11eb_9ee2_525400c01c9crow11_col5{\n",
       "            background-color:  #88b1d4;\n",
       "            color:  #000000;\n",
       "        }#T_eca06980_3c87_11eb_9ee2_525400c01c9crow5_col12,#T_eca06980_3c87_11eb_9ee2_525400c01c9crow12_col5{\n",
       "            background-color:  #7bacd1;\n",
       "            color:  #000000;\n",
       "        }#T_eca06980_3c87_11eb_9ee2_525400c01c9crow5_col13,#T_eca06980_3c87_11eb_9ee2_525400c01c9crow13_col5{\n",
       "            background-color:  #509ac6;\n",
       "            color:  #000000;\n",
       "        }#T_eca06980_3c87_11eb_9ee2_525400c01c9crow5_col15,#T_eca06980_3c87_11eb_9ee2_525400c01c9crow15_col5{\n",
       "            background-color:  #c4cbe3;\n",
       "            color:  #000000;\n",
       "        }#T_eca06980_3c87_11eb_9ee2_525400c01c9crow5_col16,#T_eca06980_3c87_11eb_9ee2_525400c01c9crow16_col5{\n",
       "            background-color:  #046097;\n",
       "            color:  #f1f1f1;\n",
       "        }#T_eca06980_3c87_11eb_9ee2_525400c01c9crow6_col7,#T_eca06980_3c87_11eb_9ee2_525400c01c9crow7_col6{\n",
       "            background-color:  #358fc0;\n",
       "            color:  #000000;\n",
       "        }#T_eca06980_3c87_11eb_9ee2_525400c01c9crow6_col8,#T_eca06980_3c87_11eb_9ee2_525400c01c9crow8_col6{\n",
       "            background-color:  #1077b4;\n",
       "            color:  #f1f1f1;\n",
       "        }#T_eca06980_3c87_11eb_9ee2_525400c01c9crow6_col10,#T_eca06980_3c87_11eb_9ee2_525400c01c9crow7_col9,#T_eca06980_3c87_11eb_9ee2_525400c01c9crow9_col7,#T_eca06980_3c87_11eb_9ee2_525400c01c9crow10_col6{\n",
       "            background-color:  #04649d;\n",
       "            color:  #f1f1f1;\n",
       "        }#T_eca06980_3c87_11eb_9ee2_525400c01c9crow6_col11,#T_eca06980_3c87_11eb_9ee2_525400c01c9crow6_col12,#T_eca06980_3c87_11eb_9ee2_525400c01c9crow8_col14,#T_eca06980_3c87_11eb_9ee2_525400c01c9crow9_col13,#T_eca06980_3c87_11eb_9ee2_525400c01c9crow11_col6,#T_eca06980_3c87_11eb_9ee2_525400c01c9crow12_col6,#T_eca06980_3c87_11eb_9ee2_525400c01c9crow13_col9,#T_eca06980_3c87_11eb_9ee2_525400c01c9crow14_col8{\n",
       "            background-color:  #5ea0ca;\n",
       "            color:  #000000;\n",
       "        }#T_eca06980_3c87_11eb_9ee2_525400c01c9crow6_col14,#T_eca06980_3c87_11eb_9ee2_525400c01c9crow10_col14,#T_eca06980_3c87_11eb_9ee2_525400c01c9crow14_col6,#T_eca06980_3c87_11eb_9ee2_525400c01c9crow14_col10{\n",
       "            background-color:  #b5c4df;\n",
       "            color:  #000000;\n",
       "        }#T_eca06980_3c87_11eb_9ee2_525400c01c9crow6_col15,#T_eca06980_3c87_11eb_9ee2_525400c01c9crow15_col6{\n",
       "            background-color:  #d4d4e8;\n",
       "            color:  #000000;\n",
       "        }#T_eca06980_3c87_11eb_9ee2_525400c01c9crow6_col16,#T_eca06980_3c87_11eb_9ee2_525400c01c9crow16_col6{\n",
       "            background-color:  #03517e;\n",
       "            color:  #f1f1f1;\n",
       "        }#T_eca06980_3c87_11eb_9ee2_525400c01c9crow7_col8,#T_eca06980_3c87_11eb_9ee2_525400c01c9crow8_col7{\n",
       "            background-color:  #187cb6;\n",
       "            color:  #000000;\n",
       "        }#T_eca06980_3c87_11eb_9ee2_525400c01c9crow7_col10,#T_eca06980_3c87_11eb_9ee2_525400c01c9crow10_col7,#T_eca06980_3c87_11eb_9ee2_525400c01c9crow14_col15,#T_eca06980_3c87_11eb_9ee2_525400c01c9crow15_col14{\n",
       "            background-color:  #2685bb;\n",
       "            color:  #000000;\n",
       "        }#T_eca06980_3c87_11eb_9ee2_525400c01c9crow7_col11,#T_eca06980_3c87_11eb_9ee2_525400c01c9crow11_col7{\n",
       "            background-color:  #0567a2;\n",
       "            color:  #f1f1f1;\n",
       "        }#T_eca06980_3c87_11eb_9ee2_525400c01c9crow7_col12,#T_eca06980_3c87_11eb_9ee2_525400c01c9crow11_col12,#T_eca06980_3c87_11eb_9ee2_525400c01c9crow12_col7,#T_eca06980_3c87_11eb_9ee2_525400c01c9crow12_col11{\n",
       "            background-color:  #b4c4df;\n",
       "            color:  #000000;\n",
       "        }#T_eca06980_3c87_11eb_9ee2_525400c01c9crow7_col16,#T_eca06980_3c87_11eb_9ee2_525400c01c9crow16_col7{\n",
       "            background-color:  #1b7eb7;\n",
       "            color:  #000000;\n",
       "        }#T_eca06980_3c87_11eb_9ee2_525400c01c9crow8_col9,#T_eca06980_3c87_11eb_9ee2_525400c01c9crow9_col8,#T_eca06980_3c87_11eb_9ee2_525400c01c9crow12_col14,#T_eca06980_3c87_11eb_9ee2_525400c01c9crow14_col12{\n",
       "            background-color:  #1278b4;\n",
       "            color:  #f1f1f1;\n",
       "        }#T_eca06980_3c87_11eb_9ee2_525400c01c9crow8_col10,#T_eca06980_3c87_11eb_9ee2_525400c01c9crow10_col8{\n",
       "            background-color:  #157ab5;\n",
       "            color:  #000000;\n",
       "        }#T_eca06980_3c87_11eb_9ee2_525400c01c9crow8_col11,#T_eca06980_3c87_11eb_9ee2_525400c01c9crow11_col8{\n",
       "            background-color:  #056ba9;\n",
       "            color:  #f1f1f1;\n",
       "        }#T_eca06980_3c87_11eb_9ee2_525400c01c9crow8_col12,#T_eca06980_3c87_11eb_9ee2_525400c01c9crow12_col8,#T_eca06980_3c87_11eb_9ee2_525400c01c9crow12_col13,#T_eca06980_3c87_11eb_9ee2_525400c01c9crow13_col12{\n",
       "            background-color:  #3f93c2;\n",
       "            color:  #000000;\n",
       "        }#T_eca06980_3c87_11eb_9ee2_525400c01c9crow8_col13,#T_eca06980_3c87_11eb_9ee2_525400c01c9crow13_col8{\n",
       "            background-color:  #1379b5;\n",
       "            color:  #f1f1f1;\n",
       "        }#T_eca06980_3c87_11eb_9ee2_525400c01c9crow8_col16,#T_eca06980_3c87_11eb_9ee2_525400c01c9crow16_col8{\n",
       "            background-color:  #04639b;\n",
       "            color:  #f1f1f1;\n",
       "        }#T_eca06980_3c87_11eb_9ee2_525400c01c9crow9_col10,#T_eca06980_3c87_11eb_9ee2_525400c01c9crow10_col9{\n",
       "            background-color:  #4897c4;\n",
       "            color:  #000000;\n",
       "        }#T_eca06980_3c87_11eb_9ee2_525400c01c9crow9_col11,#T_eca06980_3c87_11eb_9ee2_525400c01c9crow11_col9{\n",
       "            background-color:  #0569a5;\n",
       "            color:  #f1f1f1;\n",
       "        }#T_eca06980_3c87_11eb_9ee2_525400c01c9crow9_col14,#T_eca06980_3c87_11eb_9ee2_525400c01c9crow14_col9{\n",
       "            background-color:  #bdc8e1;\n",
       "            color:  #000000;\n",
       "        }#T_eca06980_3c87_11eb_9ee2_525400c01c9crow9_col15,#T_eca06980_3c87_11eb_9ee2_525400c01c9crow15_col9{\n",
       "            background-color:  #a9bfdc;\n",
       "            color:  #000000;\n",
       "        }#T_eca06980_3c87_11eb_9ee2_525400c01c9crow9_col16,#T_eca06980_3c87_11eb_9ee2_525400c01c9crow16_col9{\n",
       "            background-color:  #3d93c2;\n",
       "            color:  #000000;\n",
       "        }#T_eca06980_3c87_11eb_9ee2_525400c01c9crow10_col11,#T_eca06980_3c87_11eb_9ee2_525400c01c9crow11_col10{\n",
       "            background-color:  #2182b9;\n",
       "            color:  #000000;\n",
       "        }#T_eca06980_3c87_11eb_9ee2_525400c01c9crow10_col16,#T_eca06980_3c87_11eb_9ee2_525400c01c9crow16_col10{\n",
       "            background-color:  #046299;\n",
       "            color:  #f1f1f1;\n",
       "        }#T_eca06980_3c87_11eb_9ee2_525400c01c9crow11_col13,#T_eca06980_3c87_11eb_9ee2_525400c01c9crow13_col11{\n",
       "            background-color:  #60a1ca;\n",
       "            color:  #000000;\n",
       "        }#T_eca06980_3c87_11eb_9ee2_525400c01c9crow11_col16,#T_eca06980_3c87_11eb_9ee2_525400c01c9crow16_col11{\n",
       "            background-color:  #2a88bc;\n",
       "            color:  #000000;\n",
       "        }#T_eca06980_3c87_11eb_9ee2_525400c01c9crow12_col15,#T_eca06980_3c87_11eb_9ee2_525400c01c9crow15_col12{\n",
       "            background-color:  #348ebf;\n",
       "            color:  #000000;\n",
       "        }#T_eca06980_3c87_11eb_9ee2_525400c01c9crow12_col16,#T_eca06980_3c87_11eb_9ee2_525400c01c9crow16_col12{\n",
       "            background-color:  #4496c3;\n",
       "            color:  #000000;\n",
       "        }#T_eca06980_3c87_11eb_9ee2_525400c01c9crow13_col14,#T_eca06980_3c87_11eb_9ee2_525400c01c9crow14_col13{\n",
       "            background-color:  #328dbf;\n",
       "            color:  #000000;\n",
       "        }#T_eca06980_3c87_11eb_9ee2_525400c01c9crow13_col16,#T_eca06980_3c87_11eb_9ee2_525400c01c9crow16_col13{\n",
       "            background-color:  #0c74b2;\n",
       "            color:  #f1f1f1;\n",
       "        }</style><table id=\"T_eca06980_3c87_11eb_9ee2_525400c01c9c\" ><thead>    <tr>        <th class=\"blank level0\" ></th>        <th class=\"col_heading level0 col0\" >Rt</th>        <th class=\"col_heading level0 col1\" >theta</th>        <th class=\"col_heading level0 col2\" >kappa</th>        <th class=\"col_heading level0 col3\" >rho</th>        <th class=\"col_heading level0 col4\" >sigma</th>        <th class=\"col_heading level0 col5\" >School_closing</th>        <th class=\"col_heading level0 col6\" >Workplace_closing</th>        <th class=\"col_heading level0 col7\" >Cancel_events</th>        <th class=\"col_heading level0 col8\" >Gatherings_restrictions</th>        <th class=\"col_heading level0 col9\" >Transport_closing</th>        <th class=\"col_heading level0 col10\" >Stay_home_restrictions</th>        <th class=\"col_heading level0 col11\" >Internal_movement_restrictions</th>        <th class=\"col_heading level0 col12\" >International_movement_restrictions</th>        <th class=\"col_heading level0 col13\" >Information_campaigns</th>        <th class=\"col_heading level0 col14\" >Testing_policy</th>        <th class=\"col_heading level0 col15\" >Contact_tracing</th>        <th class=\"col_heading level0 col16\" >Stringency_index</th>    </tr></thead><tbody>\n",
       "                <tr>\n",
       "                        <th id=\"T_eca06980_3c87_11eb_9ee2_525400c01c9clevel0_row0\" class=\"row_heading level0 row0\" >Rt</th>\n",
       "                        <td id=\"T_eca06980_3c87_11eb_9ee2_525400c01c9crow0_col0\" class=\"data row0 col0\" >1.000000</td>\n",
       "                        <td id=\"T_eca06980_3c87_11eb_9ee2_525400c01c9crow0_col1\" class=\"data row0 col1\" >-0.123625</td>\n",
       "                        <td id=\"T_eca06980_3c87_11eb_9ee2_525400c01c9crow0_col2\" class=\"data row0 col2\" >-0.022489</td>\n",
       "                        <td id=\"T_eca06980_3c87_11eb_9ee2_525400c01c9crow0_col3\" class=\"data row0 col3\" >0.450823</td>\n",
       "                        <td id=\"T_eca06980_3c87_11eb_9ee2_525400c01c9crow0_col4\" class=\"data row0 col4\" >-0.379798</td>\n",
       "                        <td id=\"T_eca06980_3c87_11eb_9ee2_525400c01c9crow0_col5\" class=\"data row0 col5\" >-0.064316</td>\n",
       "                        <td id=\"T_eca06980_3c87_11eb_9ee2_525400c01c9crow0_col6\" class=\"data row0 col6\" >-0.096874</td>\n",
       "                        <td id=\"T_eca06980_3c87_11eb_9ee2_525400c01c9crow0_col7\" class=\"data row0 col7\" >-0.119304</td>\n",
       "                        <td id=\"T_eca06980_3c87_11eb_9ee2_525400c01c9crow0_col8\" class=\"data row0 col8\" >-0.284088</td>\n",
       "                        <td id=\"T_eca06980_3c87_11eb_9ee2_525400c01c9crow0_col9\" class=\"data row0 col9\" >-0.127392</td>\n",
       "                        <td id=\"T_eca06980_3c87_11eb_9ee2_525400c01c9crow0_col10\" class=\"data row0 col10\" >-0.095907</td>\n",
       "                        <td id=\"T_eca06980_3c87_11eb_9ee2_525400c01c9crow0_col11\" class=\"data row0 col11\" >-0.170461</td>\n",
       "                        <td id=\"T_eca06980_3c87_11eb_9ee2_525400c01c9crow0_col12\" class=\"data row0 col12\" >-0.165407</td>\n",
       "                        <td id=\"T_eca06980_3c87_11eb_9ee2_525400c01c9crow0_col13\" class=\"data row0 col13\" >-0.151808</td>\n",
       "                        <td id=\"T_eca06980_3c87_11eb_9ee2_525400c01c9crow0_col14\" class=\"data row0 col14\" >-0.208347</td>\n",
       "                        <td id=\"T_eca06980_3c87_11eb_9ee2_525400c01c9crow0_col15\" class=\"data row0 col15\" >-0.152790</td>\n",
       "                        <td id=\"T_eca06980_3c87_11eb_9ee2_525400c01c9crow0_col16\" class=\"data row0 col16\" >-0.163035</td>\n",
       "            </tr>\n",
       "            <tr>\n",
       "                        <th id=\"T_eca06980_3c87_11eb_9ee2_525400c01c9clevel0_row1\" class=\"row_heading level0 row1\" >theta</th>\n",
       "                        <td id=\"T_eca06980_3c87_11eb_9ee2_525400c01c9crow1_col0\" class=\"data row1 col0\" >-0.123625</td>\n",
       "                        <td id=\"T_eca06980_3c87_11eb_9ee2_525400c01c9crow1_col1\" class=\"data row1 col1\" >1.000000</td>\n",
       "                        <td id=\"T_eca06980_3c87_11eb_9ee2_525400c01c9crow1_col2\" class=\"data row1 col2\" >0.063018</td>\n",
       "                        <td id=\"T_eca06980_3c87_11eb_9ee2_525400c01c9crow1_col3\" class=\"data row1 col3\" >-0.212999</td>\n",
       "                        <td id=\"T_eca06980_3c87_11eb_9ee2_525400c01c9crow1_col4\" class=\"data row1 col4\" >0.015352</td>\n",
       "                        <td id=\"T_eca06980_3c87_11eb_9ee2_525400c01c9crow1_col5\" class=\"data row1 col5\" >0.225592</td>\n",
       "                        <td id=\"T_eca06980_3c87_11eb_9ee2_525400c01c9crow1_col6\" class=\"data row1 col6\" >0.224652</td>\n",
       "                        <td id=\"T_eca06980_3c87_11eb_9ee2_525400c01c9crow1_col7\" class=\"data row1 col7\" >0.265432</td>\n",
       "                        <td id=\"T_eca06980_3c87_11eb_9ee2_525400c01c9crow1_col8\" class=\"data row1 col8\" >0.183143</td>\n",
       "                        <td id=\"T_eca06980_3c87_11eb_9ee2_525400c01c9crow1_col9\" class=\"data row1 col9\" >0.182450</td>\n",
       "                        <td id=\"T_eca06980_3c87_11eb_9ee2_525400c01c9crow1_col10\" class=\"data row1 col10\" >0.228915</td>\n",
       "                        <td id=\"T_eca06980_3c87_11eb_9ee2_525400c01c9crow1_col11\" class=\"data row1 col11\" >0.295827</td>\n",
       "                        <td id=\"T_eca06980_3c87_11eb_9ee2_525400c01c9crow1_col12\" class=\"data row1 col12\" >0.108018</td>\n",
       "                        <td id=\"T_eca06980_3c87_11eb_9ee2_525400c01c9crow1_col13\" class=\"data row1 col13\" >0.097940</td>\n",
       "                        <td id=\"T_eca06980_3c87_11eb_9ee2_525400c01c9crow1_col14\" class=\"data row1 col14\" >-0.250588</td>\n",
       "                        <td id=\"T_eca06980_3c87_11eb_9ee2_525400c01c9crow1_col15\" class=\"data row1 col15\" >-0.028840</td>\n",
       "                        <td id=\"T_eca06980_3c87_11eb_9ee2_525400c01c9crow1_col16\" class=\"data row1 col16\" >0.314663</td>\n",
       "            </tr>\n",
       "            <tr>\n",
       "                        <th id=\"T_eca06980_3c87_11eb_9ee2_525400c01c9clevel0_row2\" class=\"row_heading level0 row2\" >kappa</th>\n",
       "                        <td id=\"T_eca06980_3c87_11eb_9ee2_525400c01c9crow2_col0\" class=\"data row2 col0\" >-0.022489</td>\n",
       "                        <td id=\"T_eca06980_3c87_11eb_9ee2_525400c01c9crow2_col1\" class=\"data row2 col1\" >0.063018</td>\n",
       "                        <td id=\"T_eca06980_3c87_11eb_9ee2_525400c01c9crow2_col2\" class=\"data row2 col2\" >1.000000</td>\n",
       "                        <td id=\"T_eca06980_3c87_11eb_9ee2_525400c01c9crow2_col3\" class=\"data row2 col3\" >0.113745</td>\n",
       "                        <td id=\"T_eca06980_3c87_11eb_9ee2_525400c01c9crow2_col4\" class=\"data row2 col4\" >0.054813</td>\n",
       "                        <td id=\"T_eca06980_3c87_11eb_9ee2_525400c01c9crow2_col5\" class=\"data row2 col5\" >-0.069639</td>\n",
       "                        <td id=\"T_eca06980_3c87_11eb_9ee2_525400c01c9crow2_col6\" class=\"data row2 col6\" >0.023735</td>\n",
       "                        <td id=\"T_eca06980_3c87_11eb_9ee2_525400c01c9crow2_col7\" class=\"data row2 col7\" >0.108667</td>\n",
       "                        <td id=\"T_eca06980_3c87_11eb_9ee2_525400c01c9crow2_col8\" class=\"data row2 col8\" >-0.201065</td>\n",
       "                        <td id=\"T_eca06980_3c87_11eb_9ee2_525400c01c9crow2_col9\" class=\"data row2 col9\" >0.075076</td>\n",
       "                        <td id=\"T_eca06980_3c87_11eb_9ee2_525400c01c9crow2_col10\" class=\"data row2 col10\" >-0.049760</td>\n",
       "                        <td id=\"T_eca06980_3c87_11eb_9ee2_525400c01c9crow2_col11\" class=\"data row2 col11\" >-0.069941</td>\n",
       "                        <td id=\"T_eca06980_3c87_11eb_9ee2_525400c01c9crow2_col12\" class=\"data row2 col12\" >0.017777</td>\n",
       "                        <td id=\"T_eca06980_3c87_11eb_9ee2_525400c01c9crow2_col13\" class=\"data row2 col13\" >0.057885</td>\n",
       "                        <td id=\"T_eca06980_3c87_11eb_9ee2_525400c01c9crow2_col14\" class=\"data row2 col14\" >-0.134514</td>\n",
       "                        <td id=\"T_eca06980_3c87_11eb_9ee2_525400c01c9crow2_col15\" class=\"data row2 col15\" >0.095494</td>\n",
       "                        <td id=\"T_eca06980_3c87_11eb_9ee2_525400c01c9crow2_col16\" class=\"data row2 col16\" >-0.094152</td>\n",
       "            </tr>\n",
       "            <tr>\n",
       "                        <th id=\"T_eca06980_3c87_11eb_9ee2_525400c01c9clevel0_row3\" class=\"row_heading level0 row3\" >rho</th>\n",
       "                        <td id=\"T_eca06980_3c87_11eb_9ee2_525400c01c9crow3_col0\" class=\"data row3 col0\" >0.450823</td>\n",
       "                        <td id=\"T_eca06980_3c87_11eb_9ee2_525400c01c9crow3_col1\" class=\"data row3 col1\" >-0.212999</td>\n",
       "                        <td id=\"T_eca06980_3c87_11eb_9ee2_525400c01c9crow3_col2\" class=\"data row3 col2\" >0.113745</td>\n",
       "                        <td id=\"T_eca06980_3c87_11eb_9ee2_525400c01c9crow3_col3\" class=\"data row3 col3\" >1.000000</td>\n",
       "                        <td id=\"T_eca06980_3c87_11eb_9ee2_525400c01c9crow3_col4\" class=\"data row3 col4\" >-0.216545</td>\n",
       "                        <td id=\"T_eca06980_3c87_11eb_9ee2_525400c01c9crow3_col5\" class=\"data row3 col5\" >-0.314884</td>\n",
       "                        <td id=\"T_eca06980_3c87_11eb_9ee2_525400c01c9crow3_col6\" class=\"data row3 col6\" >-0.380409</td>\n",
       "                        <td id=\"T_eca06980_3c87_11eb_9ee2_525400c01c9crow3_col7\" class=\"data row3 col7\" >-0.212767</td>\n",
       "                        <td id=\"T_eca06980_3c87_11eb_9ee2_525400c01c9crow3_col8\" class=\"data row3 col8\" >-0.491273</td>\n",
       "                        <td id=\"T_eca06980_3c87_11eb_9ee2_525400c01c9crow3_col9\" class=\"data row3 col9\" >-0.241965</td>\n",
       "                        <td id=\"T_eca06980_3c87_11eb_9ee2_525400c01c9crow3_col10\" class=\"data row3 col10\" >-0.293746</td>\n",
       "                        <td id=\"T_eca06980_3c87_11eb_9ee2_525400c01c9crow3_col11\" class=\"data row3 col11\" >-0.107184</td>\n",
       "                        <td id=\"T_eca06980_3c87_11eb_9ee2_525400c01c9crow3_col12\" class=\"data row3 col12\" >-0.558935</td>\n",
       "                        <td id=\"T_eca06980_3c87_11eb_9ee2_525400c01c9crow3_col13\" class=\"data row3 col13\" >-0.292226</td>\n",
       "                        <td id=\"T_eca06980_3c87_11eb_9ee2_525400c01c9crow3_col14\" class=\"data row3 col14\" >-0.517301</td>\n",
       "                        <td id=\"T_eca06980_3c87_11eb_9ee2_525400c01c9crow3_col15\" class=\"data row3 col15\" >-0.091167</td>\n",
       "                        <td id=\"T_eca06980_3c87_11eb_9ee2_525400c01c9crow3_col16\" class=\"data row3 col16\" >-0.462900</td>\n",
       "            </tr>\n",
       "            <tr>\n",
       "                        <th id=\"T_eca06980_3c87_11eb_9ee2_525400c01c9clevel0_row4\" class=\"row_heading level0 row4\" >sigma</th>\n",
       "                        <td id=\"T_eca06980_3c87_11eb_9ee2_525400c01c9crow4_col0\" class=\"data row4 col0\" >-0.379798</td>\n",
       "                        <td id=\"T_eca06980_3c87_11eb_9ee2_525400c01c9crow4_col1\" class=\"data row4 col1\" >0.015352</td>\n",
       "                        <td id=\"T_eca06980_3c87_11eb_9ee2_525400c01c9crow4_col2\" class=\"data row4 col2\" >0.054813</td>\n",
       "                        <td id=\"T_eca06980_3c87_11eb_9ee2_525400c01c9crow4_col3\" class=\"data row4 col3\" >-0.216545</td>\n",
       "                        <td id=\"T_eca06980_3c87_11eb_9ee2_525400c01c9crow4_col4\" class=\"data row4 col4\" >1.000000</td>\n",
       "                        <td id=\"T_eca06980_3c87_11eb_9ee2_525400c01c9crow4_col5\" class=\"data row4 col5\" >0.182727</td>\n",
       "                        <td id=\"T_eca06980_3c87_11eb_9ee2_525400c01c9crow4_col6\" class=\"data row4 col6\" >0.253324</td>\n",
       "                        <td id=\"T_eca06980_3c87_11eb_9ee2_525400c01c9crow4_col7\" class=\"data row4 col7\" >0.303508</td>\n",
       "                        <td id=\"T_eca06980_3c87_11eb_9ee2_525400c01c9crow4_col8\" class=\"data row4 col8\" >0.441411</td>\n",
       "                        <td id=\"T_eca06980_3c87_11eb_9ee2_525400c01c9crow4_col9\" class=\"data row4 col9\" >0.253413</td>\n",
       "                        <td id=\"T_eca06980_3c87_11eb_9ee2_525400c01c9crow4_col10\" class=\"data row4 col10\" >0.213496</td>\n",
       "                        <td id=\"T_eca06980_3c87_11eb_9ee2_525400c01c9crow4_col11\" class=\"data row4 col11\" >0.339196</td>\n",
       "                        <td id=\"T_eca06980_3c87_11eb_9ee2_525400c01c9crow4_col12\" class=\"data row4 col12\" >0.092139</td>\n",
       "                        <td id=\"T_eca06980_3c87_11eb_9ee2_525400c01c9crow4_col13\" class=\"data row4 col13\" >0.261144</td>\n",
       "                        <td id=\"T_eca06980_3c87_11eb_9ee2_525400c01c9crow4_col14\" class=\"data row4 col14\" >0.037096</td>\n",
       "                        <td id=\"T_eca06980_3c87_11eb_9ee2_525400c01c9crow4_col15\" class=\"data row4 col15\" >0.361653</td>\n",
       "                        <td id=\"T_eca06980_3c87_11eb_9ee2_525400c01c9crow4_col16\" class=\"data row4 col16\" >0.277180</td>\n",
       "            </tr>\n",
       "            <tr>\n",
       "                        <th id=\"T_eca06980_3c87_11eb_9ee2_525400c01c9clevel0_row5\" class=\"row_heading level0 row5\" >School_closing</th>\n",
       "                        <td id=\"T_eca06980_3c87_11eb_9ee2_525400c01c9crow5_col0\" class=\"data row5 col0\" >-0.064316</td>\n",
       "                        <td id=\"T_eca06980_3c87_11eb_9ee2_525400c01c9crow5_col1\" class=\"data row5 col1\" >0.225592</td>\n",
       "                        <td id=\"T_eca06980_3c87_11eb_9ee2_525400c01c9crow5_col2\" class=\"data row5 col2\" >-0.069639</td>\n",
       "                        <td id=\"T_eca06980_3c87_11eb_9ee2_525400c01c9crow5_col3\" class=\"data row5 col3\" >-0.314884</td>\n",
       "                        <td id=\"T_eca06980_3c87_11eb_9ee2_525400c01c9crow5_col4\" class=\"data row5 col4\" >0.182727</td>\n",
       "                        <td id=\"T_eca06980_3c87_11eb_9ee2_525400c01c9crow5_col5\" class=\"data row5 col5\" >1.000000</td>\n",
       "                        <td id=\"T_eca06980_3c87_11eb_9ee2_525400c01c9crow5_col6\" class=\"data row5 col6\" >0.700460</td>\n",
       "                        <td id=\"T_eca06980_3c87_11eb_9ee2_525400c01c9crow5_col7\" class=\"data row5 col7\" >0.090627</td>\n",
       "                        <td id=\"T_eca06980_3c87_11eb_9ee2_525400c01c9crow5_col8\" class=\"data row5 col8\" >0.411042</td>\n",
       "                        <td id=\"T_eca06980_3c87_11eb_9ee2_525400c01c9crow5_col9\" class=\"data row5 col9\" >0.046654</td>\n",
       "                        <td id=\"T_eca06980_3c87_11eb_9ee2_525400c01c9crow5_col10\" class=\"data row5 col10\" >0.494438</td>\n",
       "                        <td id=\"T_eca06980_3c87_11eb_9ee2_525400c01c9crow5_col11\" class=\"data row5 col11\" >0.144989</td>\n",
       "                        <td id=\"T_eca06980_3c87_11eb_9ee2_525400c01c9crow5_col12\" class=\"data row5 col12\" >0.191425</td>\n",
       "                        <td id=\"T_eca06980_3c87_11eb_9ee2_525400c01c9crow5_col13\" class=\"data row5 col13\" >0.333273</td>\n",
       "                        <td id=\"T_eca06980_3c87_11eb_9ee2_525400c01c9crow5_col14\" class=\"data row5 col14\" >0.035886</td>\n",
       "                        <td id=\"T_eca06980_3c87_11eb_9ee2_525400c01c9crow5_col15\" class=\"data row5 col15\" >-0.112640</td>\n",
       "                        <td id=\"T_eca06980_3c87_11eb_9ee2_525400c01c9crow5_col16\" class=\"data row5 col16\" >0.748687</td>\n",
       "            </tr>\n",
       "            <tr>\n",
       "                        <th id=\"T_eca06980_3c87_11eb_9ee2_525400c01c9clevel0_row6\" class=\"row_heading level0 row6\" >Workplace_closing</th>\n",
       "                        <td id=\"T_eca06980_3c87_11eb_9ee2_525400c01c9crow6_col0\" class=\"data row6 col0\" >-0.096874</td>\n",
       "                        <td id=\"T_eca06980_3c87_11eb_9ee2_525400c01c9crow6_col1\" class=\"data row6 col1\" >0.224652</td>\n",
       "                        <td id=\"T_eca06980_3c87_11eb_9ee2_525400c01c9crow6_col2\" class=\"data row6 col2\" >0.023735</td>\n",
       "                        <td id=\"T_eca06980_3c87_11eb_9ee2_525400c01c9crow6_col3\" class=\"data row6 col3\" >-0.380409</td>\n",
       "                        <td id=\"T_eca06980_3c87_11eb_9ee2_525400c01c9crow6_col4\" class=\"data row6 col4\" >0.253324</td>\n",
       "                        <td id=\"T_eca06980_3c87_11eb_9ee2_525400c01c9crow6_col5\" class=\"data row6 col5\" >0.700460</td>\n",
       "                        <td id=\"T_eca06980_3c87_11eb_9ee2_525400c01c9crow6_col6\" class=\"data row6 col6\" >1.000000</td>\n",
       "                        <td id=\"T_eca06980_3c87_11eb_9ee2_525400c01c9crow6_col7\" class=\"data row6 col7\" >0.421141</td>\n",
       "                        <td id=\"T_eca06980_3c87_11eb_9ee2_525400c01c9crow6_col8\" class=\"data row6 col8\" >0.562417</td>\n",
       "                        <td id=\"T_eca06980_3c87_11eb_9ee2_525400c01c9crow6_col9\" class=\"data row6 col9\" >0.254956</td>\n",
       "                        <td id=\"T_eca06980_3c87_11eb_9ee2_525400c01c9crow6_col10\" class=\"data row6 col10\" >0.718191</td>\n",
       "                        <td id=\"T_eca06980_3c87_11eb_9ee2_525400c01c9crow6_col11\" class=\"data row6 col11\" >0.290701</td>\n",
       "                        <td id=\"T_eca06980_3c87_11eb_9ee2_525400c01c9crow6_col12\" class=\"data row6 col12\" >0.287965</td>\n",
       "                        <td id=\"T_eca06980_3c87_11eb_9ee2_525400c01c9crow6_col13\" class=\"data row6 col13\" >0.443995</td>\n",
       "                        <td id=\"T_eca06980_3c87_11eb_9ee2_525400c01c9crow6_col14\" class=\"data row6 col14\" >-0.044387</td>\n",
       "                        <td id=\"T_eca06980_3c87_11eb_9ee2_525400c01c9crow6_col15\" class=\"data row6 col15\" >-0.196642</td>\n",
       "                        <td id=\"T_eca06980_3c87_11eb_9ee2_525400c01c9crow6_col16\" class=\"data row6 col16\" >0.857254</td>\n",
       "            </tr>\n",
       "            <tr>\n",
       "                        <th id=\"T_eca06980_3c87_11eb_9ee2_525400c01c9clevel0_row7\" class=\"row_heading level0 row7\" >Cancel_events</th>\n",
       "                        <td id=\"T_eca06980_3c87_11eb_9ee2_525400c01c9crow7_col0\" class=\"data row7 col0\" >-0.119304</td>\n",
       "                        <td id=\"T_eca06980_3c87_11eb_9ee2_525400c01c9crow7_col1\" class=\"data row7 col1\" >0.265432</td>\n",
       "                        <td id=\"T_eca06980_3c87_11eb_9ee2_525400c01c9crow7_col2\" class=\"data row7 col2\" >0.108667</td>\n",
       "                        <td id=\"T_eca06980_3c87_11eb_9ee2_525400c01c9crow7_col3\" class=\"data row7 col3\" >-0.212767</td>\n",
       "                        <td id=\"T_eca06980_3c87_11eb_9ee2_525400c01c9crow7_col4\" class=\"data row7 col4\" >0.303508</td>\n",
       "                        <td id=\"T_eca06980_3c87_11eb_9ee2_525400c01c9crow7_col5\" class=\"data row7 col5\" >0.090627</td>\n",
       "                        <td id=\"T_eca06980_3c87_11eb_9ee2_525400c01c9crow7_col6\" class=\"data row7 col6\" >0.421141</td>\n",
       "                        <td id=\"T_eca06980_3c87_11eb_9ee2_525400c01c9crow7_col7\" class=\"data row7 col7\" >1.000000</td>\n",
       "                        <td id=\"T_eca06980_3c87_11eb_9ee2_525400c01c9crow7_col8\" class=\"data row7 col8\" >0.536409</td>\n",
       "                        <td id=\"T_eca06980_3c87_11eb_9ee2_525400c01c9crow7_col9\" class=\"data row7 col9\" >0.715296</td>\n",
       "                        <td id=\"T_eca06980_3c87_11eb_9ee2_525400c01c9crow7_col10\" class=\"data row7 col10\" >0.480406</td>\n",
       "                        <td id=\"T_eca06980_3c87_11eb_9ee2_525400c01c9crow7_col11\" class=\"data row7 col11\" >0.688546</td>\n",
       "                        <td id=\"T_eca06980_3c87_11eb_9ee2_525400c01c9crow7_col12\" class=\"data row7 col12\" >-0.040126</td>\n",
       "                        <td id=\"T_eca06980_3c87_11eb_9ee2_525400c01c9crow7_col13\" class=\"data row7 col13\" >0.340587</td>\n",
       "                        <td id=\"T_eca06980_3c87_11eb_9ee2_525400c01c9crow7_col14\" class=\"data row7 col14\" >-0.211889</td>\n",
       "                        <td id=\"T_eca06980_3c87_11eb_9ee2_525400c01c9crow7_col15\" class=\"data row7 col15\" >-0.052861</td>\n",
       "                        <td id=\"T_eca06980_3c87_11eb_9ee2_525400c01c9crow7_col16\" class=\"data row7 col16\" >0.520518</td>\n",
       "            </tr>\n",
       "            <tr>\n",
       "                        <th id=\"T_eca06980_3c87_11eb_9ee2_525400c01c9clevel0_row8\" class=\"row_heading level0 row8\" >Gatherings_restrictions</th>\n",
       "                        <td id=\"T_eca06980_3c87_11eb_9ee2_525400c01c9crow8_col0\" class=\"data row8 col0\" >-0.284088</td>\n",
       "                        <td id=\"T_eca06980_3c87_11eb_9ee2_525400c01c9crow8_col1\" class=\"data row8 col1\" >0.183143</td>\n",
       "                        <td id=\"T_eca06980_3c87_11eb_9ee2_525400c01c9crow8_col2\" class=\"data row8 col2\" >-0.201065</td>\n",
       "                        <td id=\"T_eca06980_3c87_11eb_9ee2_525400c01c9crow8_col3\" class=\"data row8 col3\" >-0.491273</td>\n",
       "                        <td id=\"T_eca06980_3c87_11eb_9ee2_525400c01c9crow8_col4\" class=\"data row8 col4\" >0.441411</td>\n",
       "                        <td id=\"T_eca06980_3c87_11eb_9ee2_525400c01c9crow8_col5\" class=\"data row8 col5\" >0.411042</td>\n",
       "                        <td id=\"T_eca06980_3c87_11eb_9ee2_525400c01c9crow8_col6\" class=\"data row8 col6\" >0.562417</td>\n",
       "                        <td id=\"T_eca06980_3c87_11eb_9ee2_525400c01c9crow8_col7\" class=\"data row8 col7\" >0.536409</td>\n",
       "                        <td id=\"T_eca06980_3c87_11eb_9ee2_525400c01c9crow8_col8\" class=\"data row8 col8\" >1.000000</td>\n",
       "                        <td id=\"T_eca06980_3c87_11eb_9ee2_525400c01c9crow8_col9\" class=\"data row8 col9\" >0.559466</td>\n",
       "                        <td id=\"T_eca06980_3c87_11eb_9ee2_525400c01c9crow8_col10\" class=\"data row8 col10\" >0.543284</td>\n",
       "                        <td id=\"T_eca06980_3c87_11eb_9ee2_525400c01c9crow8_col11\" class=\"data row8 col11\" >0.651078</td>\n",
       "                        <td id=\"T_eca06980_3c87_11eb_9ee2_525400c01c9crow8_col12\" class=\"data row8 col12\" >0.385531</td>\n",
       "                        <td id=\"T_eca06980_3c87_11eb_9ee2_525400c01c9crow8_col13\" class=\"data row8 col13\" >0.555039</td>\n",
       "                        <td id=\"T_eca06980_3c87_11eb_9ee2_525400c01c9crow8_col14\" class=\"data row8 col14\" >0.288361</td>\n",
       "                        <td id=\"T_eca06980_3c87_11eb_9ee2_525400c01c9crow8_col15\" class=\"data row8 col15\" >0.221486</td>\n",
       "                        <td id=\"T_eca06980_3c87_11eb_9ee2_525400c01c9crow8_col16\" class=\"data row8 col16\" >0.724808</td>\n",
       "            </tr>\n",
       "            <tr>\n",
       "                        <th id=\"T_eca06980_3c87_11eb_9ee2_525400c01c9clevel0_row9\" class=\"row_heading level0 row9\" >Transport_closing</th>\n",
       "                        <td id=\"T_eca06980_3c87_11eb_9ee2_525400c01c9crow9_col0\" class=\"data row9 col0\" >-0.127392</td>\n",
       "                        <td id=\"T_eca06980_3c87_11eb_9ee2_525400c01c9crow9_col1\" class=\"data row9 col1\" >0.182450</td>\n",
       "                        <td id=\"T_eca06980_3c87_11eb_9ee2_525400c01c9crow9_col2\" class=\"data row9 col2\" >0.075076</td>\n",
       "                        <td id=\"T_eca06980_3c87_11eb_9ee2_525400c01c9crow9_col3\" class=\"data row9 col3\" >-0.241965</td>\n",
       "                        <td id=\"T_eca06980_3c87_11eb_9ee2_525400c01c9crow9_col4\" class=\"data row9 col4\" >0.253413</td>\n",
       "                        <td id=\"T_eca06980_3c87_11eb_9ee2_525400c01c9crow9_col5\" class=\"data row9 col5\" >0.046654</td>\n",
       "                        <td id=\"T_eca06980_3c87_11eb_9ee2_525400c01c9crow9_col6\" class=\"data row9 col6\" >0.254956</td>\n",
       "                        <td id=\"T_eca06980_3c87_11eb_9ee2_525400c01c9crow9_col7\" class=\"data row9 col7\" >0.715296</td>\n",
       "                        <td id=\"T_eca06980_3c87_11eb_9ee2_525400c01c9crow9_col8\" class=\"data row9 col8\" >0.559466</td>\n",
       "                        <td id=\"T_eca06980_3c87_11eb_9ee2_525400c01c9crow9_col9\" class=\"data row9 col9\" >1.000000</td>\n",
       "                        <td id=\"T_eca06980_3c87_11eb_9ee2_525400c01c9crow9_col10\" class=\"data row9 col10\" >0.357376</td>\n",
       "                        <td id=\"T_eca06980_3c87_11eb_9ee2_525400c01c9crow9_col11\" class=\"data row9 col11\" >0.665885</td>\n",
       "                        <td id=\"T_eca06980_3c87_11eb_9ee2_525400c01c9crow9_col12\" class=\"data row9 col12\" >-0.025655</td>\n",
       "                        <td id=\"T_eca06980_3c87_11eb_9ee2_525400c01c9crow9_col13\" class=\"data row9 col13\" >0.288383</td>\n",
       "                        <td id=\"T_eca06980_3c87_11eb_9ee2_525400c01c9crow9_col14\" class=\"data row9 col14\" >-0.079555</td>\n",
       "                        <td id=\"T_eca06980_3c87_11eb_9ee2_525400c01c9crow9_col15\" class=\"data row9 col15\" >0.010344</td>\n",
       "                        <td id=\"T_eca06980_3c87_11eb_9ee2_525400c01c9crow9_col16\" class=\"data row9 col16\" >0.396549</td>\n",
       "            </tr>\n",
       "            <tr>\n",
       "                        <th id=\"T_eca06980_3c87_11eb_9ee2_525400c01c9clevel0_row10\" class=\"row_heading level0 row10\" >Stay_home_restrictions</th>\n",
       "                        <td id=\"T_eca06980_3c87_11eb_9ee2_525400c01c9crow10_col0\" class=\"data row10 col0\" >-0.095907</td>\n",
       "                        <td id=\"T_eca06980_3c87_11eb_9ee2_525400c01c9crow10_col1\" class=\"data row10 col1\" >0.228915</td>\n",
       "                        <td id=\"T_eca06980_3c87_11eb_9ee2_525400c01c9crow10_col2\" class=\"data row10 col2\" >-0.049760</td>\n",
       "                        <td id=\"T_eca06980_3c87_11eb_9ee2_525400c01c9crow10_col3\" class=\"data row10 col3\" >-0.293746</td>\n",
       "                        <td id=\"T_eca06980_3c87_11eb_9ee2_525400c01c9crow10_col4\" class=\"data row10 col4\" >0.213496</td>\n",
       "                        <td id=\"T_eca06980_3c87_11eb_9ee2_525400c01c9crow10_col5\" class=\"data row10 col5\" >0.494438</td>\n",
       "                        <td id=\"T_eca06980_3c87_11eb_9ee2_525400c01c9crow10_col6\" class=\"data row10 col6\" >0.718191</td>\n",
       "                        <td id=\"T_eca06980_3c87_11eb_9ee2_525400c01c9crow10_col7\" class=\"data row10 col7\" >0.480406</td>\n",
       "                        <td id=\"T_eca06980_3c87_11eb_9ee2_525400c01c9crow10_col8\" class=\"data row10 col8\" >0.543284</td>\n",
       "                        <td id=\"T_eca06980_3c87_11eb_9ee2_525400c01c9crow10_col9\" class=\"data row10 col9\" >0.357376</td>\n",
       "                        <td id=\"T_eca06980_3c87_11eb_9ee2_525400c01c9crow10_col10\" class=\"data row10 col10\" >1.000000</td>\n",
       "                        <td id=\"T_eca06980_3c87_11eb_9ee2_525400c01c9crow10_col11\" class=\"data row10 col11\" >0.495066</td>\n",
       "                        <td id=\"T_eca06980_3c87_11eb_9ee2_525400c01c9crow10_col12\" class=\"data row10 col12\" >0.266628</td>\n",
       "                        <td id=\"T_eca06980_3c87_11eb_9ee2_525400c01c9crow10_col13\" class=\"data row10 col13\" >0.361140</td>\n",
       "                        <td id=\"T_eca06980_3c87_11eb_9ee2_525400c01c9crow10_col14\" class=\"data row10 col14\" >-0.045702</td>\n",
       "                        <td id=\"T_eca06980_3c87_11eb_9ee2_525400c01c9crow10_col15\" class=\"data row10 col15\" >-0.153745</td>\n",
       "                        <td id=\"T_eca06980_3c87_11eb_9ee2_525400c01c9crow10_col16\" class=\"data row10 col16\" >0.733667</td>\n",
       "            </tr>\n",
       "            <tr>\n",
       "                        <th id=\"T_eca06980_3c87_11eb_9ee2_525400c01c9clevel0_row11\" class=\"row_heading level0 row11\" >Internal_movement_restrictions</th>\n",
       "                        <td id=\"T_eca06980_3c87_11eb_9ee2_525400c01c9crow11_col0\" class=\"data row11 col0\" >-0.170461</td>\n",
       "                        <td id=\"T_eca06980_3c87_11eb_9ee2_525400c01c9crow11_col1\" class=\"data row11 col1\" >0.295827</td>\n",
       "                        <td id=\"T_eca06980_3c87_11eb_9ee2_525400c01c9crow11_col2\" class=\"data row11 col2\" >-0.069941</td>\n",
       "                        <td id=\"T_eca06980_3c87_11eb_9ee2_525400c01c9crow11_col3\" class=\"data row11 col3\" >-0.107184</td>\n",
       "                        <td id=\"T_eca06980_3c87_11eb_9ee2_525400c01c9crow11_col4\" class=\"data row11 col4\" >0.339196</td>\n",
       "                        <td id=\"T_eca06980_3c87_11eb_9ee2_525400c01c9crow11_col5\" class=\"data row11 col5\" >0.144989</td>\n",
       "                        <td id=\"T_eca06980_3c87_11eb_9ee2_525400c01c9crow11_col6\" class=\"data row11 col6\" >0.290701</td>\n",
       "                        <td id=\"T_eca06980_3c87_11eb_9ee2_525400c01c9crow11_col7\" class=\"data row11 col7\" >0.688546</td>\n",
       "                        <td id=\"T_eca06980_3c87_11eb_9ee2_525400c01c9crow11_col8\" class=\"data row11 col8\" >0.651078</td>\n",
       "                        <td id=\"T_eca06980_3c87_11eb_9ee2_525400c01c9crow11_col9\" class=\"data row11 col9\" >0.665885</td>\n",
       "                        <td id=\"T_eca06980_3c87_11eb_9ee2_525400c01c9crow11_col10\" class=\"data row11 col10\" >0.495066</td>\n",
       "                        <td id=\"T_eca06980_3c87_11eb_9ee2_525400c01c9crow11_col11\" class=\"data row11 col11\" >1.000000</td>\n",
       "                        <td id=\"T_eca06980_3c87_11eb_9ee2_525400c01c9crow11_col12\" class=\"data row11 col12\" >-0.036374</td>\n",
       "                        <td id=\"T_eca06980_3c87_11eb_9ee2_525400c01c9crow11_col13\" class=\"data row11 col13\" >0.283453</td>\n",
       "                        <td id=\"T_eca06980_3c87_11eb_9ee2_525400c01c9crow11_col14\" class=\"data row11 col14\" >-0.130277</td>\n",
       "                        <td id=\"T_eca06980_3c87_11eb_9ee2_525400c01c9crow11_col15\" class=\"data row11 col15\" >0.065275</td>\n",
       "                        <td id=\"T_eca06980_3c87_11eb_9ee2_525400c01c9crow11_col16\" class=\"data row11 col16\" >0.461056</td>\n",
       "            </tr>\n",
       "            <tr>\n",
       "                        <th id=\"T_eca06980_3c87_11eb_9ee2_525400c01c9clevel0_row12\" class=\"row_heading level0 row12\" >International_movement_restrictions</th>\n",
       "                        <td id=\"T_eca06980_3c87_11eb_9ee2_525400c01c9crow12_col0\" class=\"data row12 col0\" >-0.165407</td>\n",
       "                        <td id=\"T_eca06980_3c87_11eb_9ee2_525400c01c9crow12_col1\" class=\"data row12 col1\" >0.108018</td>\n",
       "                        <td id=\"T_eca06980_3c87_11eb_9ee2_525400c01c9crow12_col2\" class=\"data row12 col2\" >0.017777</td>\n",
       "                        <td id=\"T_eca06980_3c87_11eb_9ee2_525400c01c9crow12_col3\" class=\"data row12 col3\" >-0.558935</td>\n",
       "                        <td id=\"T_eca06980_3c87_11eb_9ee2_525400c01c9crow12_col4\" class=\"data row12 col4\" >0.092139</td>\n",
       "                        <td id=\"T_eca06980_3c87_11eb_9ee2_525400c01c9crow12_col5\" class=\"data row12 col5\" >0.191425</td>\n",
       "                        <td id=\"T_eca06980_3c87_11eb_9ee2_525400c01c9crow12_col6\" class=\"data row12 col6\" >0.287965</td>\n",
       "                        <td id=\"T_eca06980_3c87_11eb_9ee2_525400c01c9crow12_col7\" class=\"data row12 col7\" >-0.040126</td>\n",
       "                        <td id=\"T_eca06980_3c87_11eb_9ee2_525400c01c9crow12_col8\" class=\"data row12 col8\" >0.385531</td>\n",
       "                        <td id=\"T_eca06980_3c87_11eb_9ee2_525400c01c9crow12_col9\" class=\"data row12 col9\" >-0.025655</td>\n",
       "                        <td id=\"T_eca06980_3c87_11eb_9ee2_525400c01c9crow12_col10\" class=\"data row12 col10\" >0.266628</td>\n",
       "                        <td id=\"T_eca06980_3c87_11eb_9ee2_525400c01c9crow12_col11\" class=\"data row12 col11\" >-0.036374</td>\n",
       "                        <td id=\"T_eca06980_3c87_11eb_9ee2_525400c01c9crow12_col12\" class=\"data row12 col12\" >1.000000</td>\n",
       "                        <td id=\"T_eca06980_3c87_11eb_9ee2_525400c01c9crow12_col13\" class=\"data row12 col13\" >0.387211</td>\n",
       "                        <td id=\"T_eca06980_3c87_11eb_9ee2_525400c01c9crow12_col14\" class=\"data row12 col14\" >0.556695</td>\n",
       "                        <td id=\"T_eca06980_3c87_11eb_9ee2_525400c01c9crow12_col15\" class=\"data row12 col15\" >0.424940</td>\n",
       "                        <td id=\"T_eca06980_3c87_11eb_9ee2_525400c01c9crow12_col16\" class=\"data row12 col16\" >0.369698</td>\n",
       "            </tr>\n",
       "            <tr>\n",
       "                        <th id=\"T_eca06980_3c87_11eb_9ee2_525400c01c9clevel0_row13\" class=\"row_heading level0 row13\" >Information_campaigns</th>\n",
       "                        <td id=\"T_eca06980_3c87_11eb_9ee2_525400c01c9crow13_col0\" class=\"data row13 col0\" >-0.151808</td>\n",
       "                        <td id=\"T_eca06980_3c87_11eb_9ee2_525400c01c9crow13_col1\" class=\"data row13 col1\" >0.097940</td>\n",
       "                        <td id=\"T_eca06980_3c87_11eb_9ee2_525400c01c9crow13_col2\" class=\"data row13 col2\" >0.057885</td>\n",
       "                        <td id=\"T_eca06980_3c87_11eb_9ee2_525400c01c9crow13_col3\" class=\"data row13 col3\" >-0.292226</td>\n",
       "                        <td id=\"T_eca06980_3c87_11eb_9ee2_525400c01c9crow13_col4\" class=\"data row13 col4\" >0.261144</td>\n",
       "                        <td id=\"T_eca06980_3c87_11eb_9ee2_525400c01c9crow13_col5\" class=\"data row13 col5\" >0.333273</td>\n",
       "                        <td id=\"T_eca06980_3c87_11eb_9ee2_525400c01c9crow13_col6\" class=\"data row13 col6\" >0.443995</td>\n",
       "                        <td id=\"T_eca06980_3c87_11eb_9ee2_525400c01c9crow13_col7\" class=\"data row13 col7\" >0.340587</td>\n",
       "                        <td id=\"T_eca06980_3c87_11eb_9ee2_525400c01c9crow13_col8\" class=\"data row13 col8\" >0.555039</td>\n",
       "                        <td id=\"T_eca06980_3c87_11eb_9ee2_525400c01c9crow13_col9\" class=\"data row13 col9\" >0.288383</td>\n",
       "                        <td id=\"T_eca06980_3c87_11eb_9ee2_525400c01c9crow13_col10\" class=\"data row13 col10\" >0.361140</td>\n",
       "                        <td id=\"T_eca06980_3c87_11eb_9ee2_525400c01c9crow13_col11\" class=\"data row13 col11\" >0.283453</td>\n",
       "                        <td id=\"T_eca06980_3c87_11eb_9ee2_525400c01c9crow13_col12\" class=\"data row13 col12\" >0.387211</td>\n",
       "                        <td id=\"T_eca06980_3c87_11eb_9ee2_525400c01c9crow13_col13\" class=\"data row13 col13\" >1.000000</td>\n",
       "                        <td id=\"T_eca06980_3c87_11eb_9ee2_525400c01c9crow13_col14\" class=\"data row13 col14\" >0.428030</td>\n",
       "                        <td id=\"T_eca06980_3c87_11eb_9ee2_525400c01c9crow13_col15\" class=\"data row13 col15\" >0.365150</td>\n",
       "                        <td id=\"T_eca06980_3c87_11eb_9ee2_525400c01c9crow13_col16\" class=\"data row13 col16\" >0.583836</td>\n",
       "            </tr>\n",
       "            <tr>\n",
       "                        <th id=\"T_eca06980_3c87_11eb_9ee2_525400c01c9clevel0_row14\" class=\"row_heading level0 row14\" >Testing_policy</th>\n",
       "                        <td id=\"T_eca06980_3c87_11eb_9ee2_525400c01c9crow14_col0\" class=\"data row14 col0\" >-0.208347</td>\n",
       "                        <td id=\"T_eca06980_3c87_11eb_9ee2_525400c01c9crow14_col1\" class=\"data row14 col1\" >-0.250588</td>\n",
       "                        <td id=\"T_eca06980_3c87_11eb_9ee2_525400c01c9crow14_col2\" class=\"data row14 col2\" >-0.134514</td>\n",
       "                        <td id=\"T_eca06980_3c87_11eb_9ee2_525400c01c9crow14_col3\" class=\"data row14 col3\" >-0.517301</td>\n",
       "                        <td id=\"T_eca06980_3c87_11eb_9ee2_525400c01c9crow14_col4\" class=\"data row14 col4\" >0.037096</td>\n",
       "                        <td id=\"T_eca06980_3c87_11eb_9ee2_525400c01c9crow14_col5\" class=\"data row14 col5\" >0.035886</td>\n",
       "                        <td id=\"T_eca06980_3c87_11eb_9ee2_525400c01c9crow14_col6\" class=\"data row14 col6\" >-0.044387</td>\n",
       "                        <td id=\"T_eca06980_3c87_11eb_9ee2_525400c01c9crow14_col7\" class=\"data row14 col7\" >-0.211889</td>\n",
       "                        <td id=\"T_eca06980_3c87_11eb_9ee2_525400c01c9crow14_col8\" class=\"data row14 col8\" >0.288361</td>\n",
       "                        <td id=\"T_eca06980_3c87_11eb_9ee2_525400c01c9crow14_col9\" class=\"data row14 col9\" >-0.079555</td>\n",
       "                        <td id=\"T_eca06980_3c87_11eb_9ee2_525400c01c9crow14_col10\" class=\"data row14 col10\" >-0.045702</td>\n",
       "                        <td id=\"T_eca06980_3c87_11eb_9ee2_525400c01c9crow14_col11\" class=\"data row14 col11\" >-0.130277</td>\n",
       "                        <td id=\"T_eca06980_3c87_11eb_9ee2_525400c01c9crow14_col12\" class=\"data row14 col12\" >0.556695</td>\n",
       "                        <td id=\"T_eca06980_3c87_11eb_9ee2_525400c01c9crow14_col13\" class=\"data row14 col13\" >0.428030</td>\n",
       "                        <td id=\"T_eca06980_3c87_11eb_9ee2_525400c01c9crow14_col14\" class=\"data row14 col14\" >1.000000</td>\n",
       "                        <td id=\"T_eca06980_3c87_11eb_9ee2_525400c01c9crow14_col15\" class=\"data row14 col15\" >0.480167</td>\n",
       "                        <td id=\"T_eca06980_3c87_11eb_9ee2_525400c01c9crow14_col16\" class=\"data row14 col16\" >0.087045</td>\n",
       "            </tr>\n",
       "            <tr>\n",
       "                        <th id=\"T_eca06980_3c87_11eb_9ee2_525400c01c9clevel0_row15\" class=\"row_heading level0 row15\" >Contact_tracing</th>\n",
       "                        <td id=\"T_eca06980_3c87_11eb_9ee2_525400c01c9crow15_col0\" class=\"data row15 col0\" >-0.152790</td>\n",
       "                        <td id=\"T_eca06980_3c87_11eb_9ee2_525400c01c9crow15_col1\" class=\"data row15 col1\" >-0.028840</td>\n",
       "                        <td id=\"T_eca06980_3c87_11eb_9ee2_525400c01c9crow15_col2\" class=\"data row15 col2\" >0.095494</td>\n",
       "                        <td id=\"T_eca06980_3c87_11eb_9ee2_525400c01c9crow15_col3\" class=\"data row15 col3\" >-0.091167</td>\n",
       "                        <td id=\"T_eca06980_3c87_11eb_9ee2_525400c01c9crow15_col4\" class=\"data row15 col4\" >0.361653</td>\n",
       "                        <td id=\"T_eca06980_3c87_11eb_9ee2_525400c01c9crow15_col5\" class=\"data row15 col5\" >-0.112640</td>\n",
       "                        <td id=\"T_eca06980_3c87_11eb_9ee2_525400c01c9crow15_col6\" class=\"data row15 col6\" >-0.196642</td>\n",
       "                        <td id=\"T_eca06980_3c87_11eb_9ee2_525400c01c9crow15_col7\" class=\"data row15 col7\" >-0.052861</td>\n",
       "                        <td id=\"T_eca06980_3c87_11eb_9ee2_525400c01c9crow15_col8\" class=\"data row15 col8\" >0.221486</td>\n",
       "                        <td id=\"T_eca06980_3c87_11eb_9ee2_525400c01c9crow15_col9\" class=\"data row15 col9\" >0.010344</td>\n",
       "                        <td id=\"T_eca06980_3c87_11eb_9ee2_525400c01c9crow15_col10\" class=\"data row15 col10\" >-0.153745</td>\n",
       "                        <td id=\"T_eca06980_3c87_11eb_9ee2_525400c01c9crow15_col11\" class=\"data row15 col11\" >0.065275</td>\n",
       "                        <td id=\"T_eca06980_3c87_11eb_9ee2_525400c01c9crow15_col12\" class=\"data row15 col12\" >0.424940</td>\n",
       "                        <td id=\"T_eca06980_3c87_11eb_9ee2_525400c01c9crow15_col13\" class=\"data row15 col13\" >0.365150</td>\n",
       "                        <td id=\"T_eca06980_3c87_11eb_9ee2_525400c01c9crow15_col14\" class=\"data row15 col14\" >0.480167</td>\n",
       "                        <td id=\"T_eca06980_3c87_11eb_9ee2_525400c01c9crow15_col15\" class=\"data row15 col15\" >1.000000</td>\n",
       "                        <td id=\"T_eca06980_3c87_11eb_9ee2_525400c01c9crow15_col16\" class=\"data row15 col16\" >-0.099311</td>\n",
       "            </tr>\n",
       "            <tr>\n",
       "                        <th id=\"T_eca06980_3c87_11eb_9ee2_525400c01c9clevel0_row16\" class=\"row_heading level0 row16\" >Stringency_index</th>\n",
       "                        <td id=\"T_eca06980_3c87_11eb_9ee2_525400c01c9crow16_col0\" class=\"data row16 col0\" >-0.163035</td>\n",
       "                        <td id=\"T_eca06980_3c87_11eb_9ee2_525400c01c9crow16_col1\" class=\"data row16 col1\" >0.314663</td>\n",
       "                        <td id=\"T_eca06980_3c87_11eb_9ee2_525400c01c9crow16_col2\" class=\"data row16 col2\" >-0.094152</td>\n",
       "                        <td id=\"T_eca06980_3c87_11eb_9ee2_525400c01c9crow16_col3\" class=\"data row16 col3\" >-0.462900</td>\n",
       "                        <td id=\"T_eca06980_3c87_11eb_9ee2_525400c01c9crow16_col4\" class=\"data row16 col4\" >0.277180</td>\n",
       "                        <td id=\"T_eca06980_3c87_11eb_9ee2_525400c01c9crow16_col5\" class=\"data row16 col5\" >0.748687</td>\n",
       "                        <td id=\"T_eca06980_3c87_11eb_9ee2_525400c01c9crow16_col6\" class=\"data row16 col6\" >0.857254</td>\n",
       "                        <td id=\"T_eca06980_3c87_11eb_9ee2_525400c01c9crow16_col7\" class=\"data row16 col7\" >0.520518</td>\n",
       "                        <td id=\"T_eca06980_3c87_11eb_9ee2_525400c01c9crow16_col8\" class=\"data row16 col8\" >0.724808</td>\n",
       "                        <td id=\"T_eca06980_3c87_11eb_9ee2_525400c01c9crow16_col9\" class=\"data row16 col9\" >0.396549</td>\n",
       "                        <td id=\"T_eca06980_3c87_11eb_9ee2_525400c01c9crow16_col10\" class=\"data row16 col10\" >0.733667</td>\n",
       "                        <td id=\"T_eca06980_3c87_11eb_9ee2_525400c01c9crow16_col11\" class=\"data row16 col11\" >0.461056</td>\n",
       "                        <td id=\"T_eca06980_3c87_11eb_9ee2_525400c01c9crow16_col12\" class=\"data row16 col12\" >0.369698</td>\n",
       "                        <td id=\"T_eca06980_3c87_11eb_9ee2_525400c01c9crow16_col13\" class=\"data row16 col13\" >0.583836</td>\n",
       "                        <td id=\"T_eca06980_3c87_11eb_9ee2_525400c01c9crow16_col14\" class=\"data row16 col14\" >0.087045</td>\n",
       "                        <td id=\"T_eca06980_3c87_11eb_9ee2_525400c01c9crow16_col15\" class=\"data row16 col15\" >-0.099311</td>\n",
       "                        <td id=\"T_eca06980_3c87_11eb_9ee2_525400c01c9crow16_col16\" class=\"data row16 col16\" >1.000000</td>\n",
       "            </tr>\n",
       "    </tbody></table>"
      ],
      "text/plain": [
       "<pandas.io.formats.style.Styler at 0x7f9582076ac0>"
      ]
     },
     "execution_count": 21,
     "metadata": {},
     "output_type": "execute_result"
    }
   ],
   "source": [
    "# Correlation\n",
    "df = track_df.copy()\n",
    "df.corr().style.background_gradient(axis=None)"
   ]
  },
  {
   "cell_type": "code",
   "execution_count": 22,
   "metadata": {
    "collapsed": false
   },
   "outputs": [
    {
     "data": {
      "image/png": "[encoded data removed]",
      "text/plain": [
       "<Figure size 432x288 with 1 Axes>"
      ]
     },
     "metadata": {},
     "output_type": "display_data"
    }
   ],
   "source": [
    "# Scatter plot of Stringency index and Rt\n",
    "df = track_df.copy()\n",
    "sns.scatterplot(data=df, x=\"Stringency_index\", y=\"Rt\", hue=\"Country\", legend=\"brief\", marker=\"+\")\n",
    "bbox_to_anchor=(1.02, 0)\n",
    "bbox_loc=\"lower left\"\n",
    "plt.legend(bbox_to_anchor=bbox_to_anchor, loc=bbox_loc, borderaxespad=0)\n",
    "plt.title(\"Relationship of Stringency index and reproduction number\")\n",
    "plt.ylabel(\"Reproduction number\")\n",
    "plt.xlabel(\"Stringency index\")\n",
    "plt.show()"
   ]
  }
 ],
 "metadata": {
  "kernelspec": {
   "display_name": "Python 3.8.2 64-bit ('.venv': venv)",
   "name": "python_defaultSpec_1597669925034"
  },
  "language_info": {
   "codemirror_mode": {
    "name": "ipython",
    "version": 3
   },
   "file_extension": ".py",
   "mimetype": "text/x-python",
   "name": "python",
   "nbconvert_exporter": "python",
   "pygments_lexer": "ipython3",
   "version": "3.8.2-final"
  }
 },
 "nbformat": 4,
 "nbformat_minor": 4
}
