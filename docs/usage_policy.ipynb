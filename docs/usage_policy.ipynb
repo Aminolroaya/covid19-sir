{
 "cells": [
  {
   "cell_type": "markdown",
   "metadata": {},
   "source": [
    "# Usage (details: policy measures)\n",
    "Here, we will analyse the relationship of policy measures and parameter values of SIR-derived ODE models. Policy measures are tracked by [Oxford Covid-19 Government Response Tracker (OxCGRT)](https://github.com/OxCGRT/covid-policy-tracker)."
   ]
  },
  {
   "cell_type": "markdown",
   "metadata": {},
   "source": [
    "## Preparation"
   ]
  },
  {
   "cell_type": "code",
   "execution_count": 1,
   "metadata": {
    "collapsed": false
   },
   "outputs": [],
   "source": [
    "# Standard users\n",
    "# !pip install covsirphy\n",
    "# Developers (Note: this notebook is in example directory)\n",
    "import os\n",
    "os.chdir(\"../\")"
   ]
  },
  {
   "cell_type": "code",
   "execution_count": 2,
   "metadata": {
    "collapsed": false
   },
   "outputs": [],
   "source": [
    "from pprint import pprint"
   ]
  },
  {
   "cell_type": "code",
   "execution_count": 3,
   "metadata": {
    "collapsed": false
   },
   "outputs": [
    {
     "data": {
      "text/plain": [
       "'2.9.1'"
      ]
     },
     "execution_count": 3,
     "metadata": {},
     "output_type": "execute_result"
    }
   ],
   "source": [
    "import covsirphy as cs\n",
    "cs.__version__"
   ]
  },
  {
   "cell_type": "code",
   "execution_count": 4,
   "metadata": {
    "collapsed": false,
    "tags": []
   },
   "outputs": [
    {
     "name": "stdout",
     "output_type": "stream",
     "text": [
      "(Secondary source) Guidotti, E., Ardia, D., (2020), \"COVID-19 Data Hub\", Journal of Open Source Software 5(51):2376, doi: 10.21105/joss.02376.\n",
      "We can get Citation list of primary sources with DataLoader(...).covid19dh_citation\n"
     ]
    }
   ],
   "source": [
    "# Standard users and developers\n",
    "data_loader = cs.DataLoader(\"input\")\n",
    "# The number of cases (JHU style)\n",
    "jhu_data = data_loader.jhu(verbose=False)\n",
    "# Population in each country\n",
    "population_data = data_loader.population(verbose=False)\n",
    "# Government Response Tracker (OxCGRT)\n",
    "oxcgrt_data = data_loader.oxcgrt(verbose=False)\n",
    "# Description/citation\n",
    "print(oxcgrt_data.citation)"
   ]
  },
  {
   "cell_type": "markdown",
   "metadata": {},
   "source": [
    "## Class for policy measure analysis\n",
    "We will `PolicyMeasures` class to find relationship of policy measures and parameter values of SIR-derived ODE models."
   ]
  },
  {
   "cell_type": "code",
   "execution_count": 5,
   "metadata": {
    "collapsed": false,
    "tags": []
   },
   "outputs": [
    {
     "data": {
      "text/plain": [
       "185"
      ]
     },
     "execution_count": 5,
     "metadata": {},
     "output_type": "execute_result"
    }
   ],
   "source": [
    "# Create analyser with tau value 360 [min] (can be changed)\n",
    "analyser = cs.PolicyMeasures(jhu_data, population_data, oxcgrt_data, tau=360)\n",
    "# The number of registerd countries\n",
    "len(analyser.countries)"
   ]
  },
  {
   "cell_type": "code",
   "execution_count": 6,
   "metadata": {
    "collapsed": false
   },
   "outputs": [
    {
     "data": {
      "text/plain": [
       "covsirphy.analysis.scenario.Scenario"
      ]
     },
     "execution_count": 6,
     "metadata": {},
     "output_type": "execute_result"
    }
   ],
   "source": [
    "# We can get Scenario instance for detailed scenario analysis\n",
    "type(analyser.scenario(\"Japan\"))"
   ]
  },
  {
   "cell_type": "markdown",
   "metadata": {},
   "source": [
    "## Set phases with S-R trend analysis\n",
    "We will perform S-R trend analysis to set phases in all countries. Countries which do not have **12th phases** will be un-registered for the next analysis. This number will be adjusted for your analysis."
   ]
  },
  {
   "cell_type": "code",
   "execution_count": 7,
   "metadata": {
    "collapsed": false
   },
   "outputs": [
    {
     "name": "stdout",
     "output_type": "stream",
     "text": [
      "{4: ['Tanzania', 'Fiji', 'Holy See'],\n",
      " 5: ['Georgia', 'Grenada', 'Hungary', 'Brunei', 'Slovenia', 'Myanmar'],\n",
      " 6: ['Yemen', 'Seychelles', 'Jordan', 'Cambodia', 'Mauritius', 'Czech Republic',\n",
      "     'Slovakia', 'Dominica', 'Andorra', 'Equatorial Guinea', 'Tunisia',\n",
      "     'Papua New Guinea', 'Libya', 'Ireland'],\n",
      " 7: ['South Sudan', 'Lithuania', 'Liechtenstein', 'Lesotho',\n",
      "     'Trinidad and Tobago', 'Central African Republic', 'Guinea-Bissau',\n",
      "     'Jamaica', 'Paraguay', 'Spain', 'Uganda', 'Gambia', 'Iceland', 'Bahamas',\n",
      "     'Colombia', 'Kazakhstan', 'Sao Tome and Principe', 'Belize', 'Zimbabwe',\n",
      "     'Montenegro'],\n",
      " 8: ['Cameroon', 'Guyana', 'Namibia', 'Australia', 'Zambia', 'Nicaragua',\n",
      "     'Saint Lucia', 'Monaco', 'Luxembourg', 'Comoros', 'Chad', 'Cyprus',\n",
      "     'Djibouti', 'Burkina Faso', 'Malta', 'Morocco', 'Antigua and Barbuda',\n",
      "     'Greece', 'New Zealand', 'Benin', 'Lebanon', 'Nepal', 'Malawi', 'Austria',\n",
      "     'Saint Vincent and the Grenadines', 'Thailand', 'Israel', 'Netherlands',\n",
      "     'Mongolia', 'Vietnam', 'Rwanda', 'Madagascar', 'Niger', 'Angola',\n",
      "     'Burundi', 'Poland', 'Malaysia', 'San Marino'],\n",
      " 9: ['Mauritania', 'Mozambique', 'South Africa', 'Haiti', 'Ghana', 'Ecuador',\n",
      "     'China', 'Romania', 'Denmark', 'Kenya', 'Suriname', 'Estonia',\n",
      "     'Sierra Leone', 'Croatia', 'Botswana', 'Philippines', 'Barbados', 'Sudan',\n",
      "     'Bermuda', 'Taiwan', 'Ukraine', 'Ethiopia', 'Serbia', 'Kyrgyzstan',\n",
      "     'Portugal', 'Tajikistan', 'Eritrea', 'Afghanistan', 'Argentina'],\n",
      " 10: ['Cape Verde', 'Oman', 'Japan', 'Guatemala', 'Sri Lanka', 'Senegal',\n",
      "      'Switzerland', 'Indonesia', 'Syria', 'Korea, South', 'Norway', 'Moldova',\n",
      "      'Uruguay', 'Saudi Arabia', 'Qatar', 'Pakistan', 'India', 'Belgium',\n",
      "      'Maldives', 'El Salvador', 'Singapore', 'Palestine', 'Finland', 'Gabon',\n",
      "      'Swaziland', 'Bhutan', 'Congo', 'Venezuela'],\n",
      " 11: ['Panama', 'Bulgaria', 'Latvia', 'Armenia', 'Bosnia and Herzegovina',\n",
      "      'Togo', 'Belarus', 'Kosovo', 'Azerbaijan', 'Macedonia', 'Mali', 'France',\n",
      "      'Costa Rica', 'Germany', 'Guinea', 'Albania', 'Uzbekistan', 'Liberia',\n",
      "      'Chile', 'Honduras', 'Somalia', 'Cuba', 'Canada'],\n",
      " 12: ['Iran', 'Turkey', 'Mexico', 'United Arab Emirates', 'United States',\n",
      "      'Bahrain', 'Egypt', 'Dominican Republic', 'Bangladesh', 'Kuwait',\n",
      "      'Brazil', 'Italy', 'Peru', 'Iraq', 'Nigeria', 'Algeria'],\n",
      " 13: ['Bolivia', 'Russia']}\n"
     ]
    }
   ],
   "source": [
    "# Show the number of phases of all countries\n",
    "analyser.trend()\n",
    "pprint(analyser.phase_len(), compact=True)"
   ]
  },
  {
   "cell_type": "code",
   "execution_count": 8,
   "metadata": {
    "collapsed": false
   },
   "outputs": [
    {
     "data": {
      "text/plain": [
       "18"
      ]
     },
     "execution_count": 8,
     "metadata": {},
     "output_type": "execute_result"
    }
   ],
   "source": [
    "# Set phases with S-R trend analysis\n",
    "analyser.trend(min_len=12)\n",
    "# The number of countries\n",
    "len(analyser.countries)"
   ]
  },
  {
   "cell_type": "code",
   "execution_count": 9,
   "metadata": {
    "collapsed": false,
    "tags": []
   },
   "outputs": [
    {
     "name": "stdout",
     "output_type": "stream",
     "text": [
      "{12: ['Iran', 'Turkey', 'Mexico', 'United Arab Emirates', 'United States',\n",
      "      'Bahrain', 'Egypt', 'Dominican Republic', 'Bangladesh', 'Kuwait',\n",
      "      'Brazil', 'Italy', 'Peru', 'Iraq', 'Nigeria', 'Algeria'],\n",
      " 13: ['Bolivia', 'Russia']}\n"
     ]
    }
   ],
   "source": [
    "phase_len_dict = analyser.phase_len()\n",
    "pprint(phase_len_dict, compact=True)"
   ]
  },
  {
   "cell_type": "code",
   "execution_count": 10,
   "metadata": {
    "collapsed": false,
    "tags": []
   },
   "outputs": [
    {
     "data": {
      "text/html": [
       "<div>\n",
       "<style scoped>\n",
       "    .dataframe tbody tr th:only-of-type {\n",
       "        vertical-align: middle;\n",
       "    }\n",
       "\n",
       "    .dataframe tbody tr th {\n",
       "        vertical-align: top;\n",
       "    }\n",
       "\n",
       "    .dataframe thead th {\n",
       "        text-align: right;\n",
       "    }\n",
       "</style>\n",
       "<table border=\"1\" class=\"dataframe\">\n",
       "  <thead>\n",
       "    <tr style=\"text-align: right;\">\n",
       "      <th></th>\n",
       "      <th></th>\n",
       "      <th>Type</th>\n",
       "      <th>Start</th>\n",
       "      <th>End</th>\n",
       "      <th>Population</th>\n",
       "    </tr>\n",
       "    <tr>\n",
       "      <th>Country</th>\n",
       "      <th>Phase</th>\n",
       "      <th></th>\n",
       "      <th></th>\n",
       "      <th></th>\n",
       "      <th></th>\n",
       "    </tr>\n",
       "  </thead>\n",
       "  <tbody>\n",
       "    <tr>\n",
       "      <th rowspan=\"13\" valign=\"top\">Bolivia</th>\n",
       "      <th>0th</th>\n",
       "      <td>Past</td>\n",
       "      <td>01Apr2020</td>\n",
       "      <td>13Jun2020</td>\n",
       "      <td>11353142</td>\n",
       "    </tr>\n",
       "    <tr>\n",
       "      <th>1st</th>\n",
       "      <td>Past</td>\n",
       "      <td>14Jun2020</td>\n",
       "      <td>25Jun2020</td>\n",
       "      <td>11353142</td>\n",
       "    </tr>\n",
       "    <tr>\n",
       "      <th>2nd</th>\n",
       "      <td>Past</td>\n",
       "      <td>26Jun2020</td>\n",
       "      <td>05Jul2020</td>\n",
       "      <td>11353142</td>\n",
       "    </tr>\n",
       "    <tr>\n",
       "      <th>3rd</th>\n",
       "      <td>Past</td>\n",
       "      <td>06Jul2020</td>\n",
       "      <td>14Jul2020</td>\n",
       "      <td>11353142</td>\n",
       "    </tr>\n",
       "    <tr>\n",
       "      <th>4th</th>\n",
       "      <td>Past</td>\n",
       "      <td>15Jul2020</td>\n",
       "      <td>22Jul2020</td>\n",
       "      <td>11353142</td>\n",
       "    </tr>\n",
       "    <tr>\n",
       "      <th>5th</th>\n",
       "      <td>Past</td>\n",
       "      <td>23Jul2020</td>\n",
       "      <td>31Jul2020</td>\n",
       "      <td>11353142</td>\n",
       "    </tr>\n",
       "    <tr>\n",
       "      <th>6th</th>\n",
       "      <td>Past</td>\n",
       "      <td>01Aug2020</td>\n",
       "      <td>09Aug2020</td>\n",
       "      <td>11353142</td>\n",
       "    </tr>\n",
       "    <tr>\n",
       "      <th>7th</th>\n",
       "      <td>Past</td>\n",
       "      <td>10Aug2020</td>\n",
       "      <td>17Aug2020</td>\n",
       "      <td>11353142</td>\n",
       "    </tr>\n",
       "    <tr>\n",
       "      <th>8th</th>\n",
       "      <td>Past</td>\n",
       "      <td>18Aug2020</td>\n",
       "      <td>25Aug2020</td>\n",
       "      <td>11353142</td>\n",
       "    </tr>\n",
       "    <tr>\n",
       "      <th>9th</th>\n",
       "      <td>Past</td>\n",
       "      <td>26Aug2020</td>\n",
       "      <td>03Sep2020</td>\n",
       "      <td>11353142</td>\n",
       "    </tr>\n",
       "    <tr>\n",
       "      <th>10th</th>\n",
       "      <td>Past</td>\n",
       "      <td>04Sep2020</td>\n",
       "      <td>12Sep2020</td>\n",
       "      <td>11353142</td>\n",
       "    </tr>\n",
       "    <tr>\n",
       "      <th>11th</th>\n",
       "      <td>Past</td>\n",
       "      <td>13Sep2020</td>\n",
       "      <td>27Sep2020</td>\n",
       "      <td>11353142</td>\n",
       "    </tr>\n",
       "    <tr>\n",
       "      <th>12th</th>\n",
       "      <td>Past</td>\n",
       "      <td>28Sep2020</td>\n",
       "      <td>25Oct2020</td>\n",
       "      <td>11353142</td>\n",
       "    </tr>\n",
       "    <tr>\n",
       "      <th rowspan=\"13\" valign=\"top\">Russia</th>\n",
       "      <th>0th</th>\n",
       "      <td>Past</td>\n",
       "      <td>12Feb2020</td>\n",
       "      <td>07May2020</td>\n",
       "      <td>330457362</td>\n",
       "    </tr>\n",
       "    <tr>\n",
       "      <th>1st</th>\n",
       "      <td>Past</td>\n",
       "      <td>08May2020</td>\n",
       "      <td>19May2020</td>\n",
       "      <td>330457362</td>\n",
       "    </tr>\n",
       "    <tr>\n",
       "      <th>2nd</th>\n",
       "      <td>Past</td>\n",
       "      <td>20May2020</td>\n",
       "      <td>31May2020</td>\n",
       "      <td>330457362</td>\n",
       "    </tr>\n",
       "    <tr>\n",
       "      <th>3rd</th>\n",
       "      <td>Past</td>\n",
       "      <td>01Jun2020</td>\n",
       "      <td>12Jun2020</td>\n",
       "      <td>330457362</td>\n",
       "    </tr>\n",
       "    <tr>\n",
       "      <th>4th</th>\n",
       "      <td>Past</td>\n",
       "      <td>13Jun2020</td>\n",
       "      <td>26Jun2020</td>\n",
       "      <td>330457362</td>\n",
       "    </tr>\n",
       "    <tr>\n",
       "      <th>5th</th>\n",
       "      <td>Past</td>\n",
       "      <td>27Jun2020</td>\n",
       "      <td>10Jul2020</td>\n",
       "      <td>330457362</td>\n",
       "    </tr>\n",
       "    <tr>\n",
       "      <th>6th</th>\n",
       "      <td>Past</td>\n",
       "      <td>11Jul2020</td>\n",
       "      <td>24Jul2020</td>\n",
       "      <td>330457362</td>\n",
       "    </tr>\n",
       "    <tr>\n",
       "      <th>7th</th>\n",
       "      <td>Past</td>\n",
       "      <td>25Jul2020</td>\n",
       "      <td>10Aug2020</td>\n",
       "      <td>330457362</td>\n",
       "    </tr>\n",
       "    <tr>\n",
       "      <th>8th</th>\n",
       "      <td>Past</td>\n",
       "      <td>11Aug2020</td>\n",
       "      <td>28Aug2020</td>\n",
       "      <td>330457362</td>\n",
       "    </tr>\n",
       "    <tr>\n",
       "      <th>9th</th>\n",
       "      <td>Past</td>\n",
       "      <td>29Aug2020</td>\n",
       "      <td>15Sep2020</td>\n",
       "      <td>330457362</td>\n",
       "    </tr>\n",
       "    <tr>\n",
       "      <th>10th</th>\n",
       "      <td>Past</td>\n",
       "      <td>16Sep2020</td>\n",
       "      <td>29Sep2020</td>\n",
       "      <td>330457362</td>\n",
       "    </tr>\n",
       "    <tr>\n",
       "      <th>11th</th>\n",
       "      <td>Past</td>\n",
       "      <td>30Sep2020</td>\n",
       "      <td>09Oct2020</td>\n",
       "      <td>330457362</td>\n",
       "    </tr>\n",
       "    <tr>\n",
       "      <th>12th</th>\n",
       "      <td>Past</td>\n",
       "      <td>10Oct2020</td>\n",
       "      <td>25Oct2020</td>\n",
       "      <td>330457362</td>\n",
       "    </tr>\n",
       "  </tbody>\n",
       "</table>\n",
       "</div>"
      ],
      "text/plain": [
       "               Type      Start        End  Population\n",
       "Country Phase                                        \n",
       "Bolivia 0th    Past  01Apr2020  13Jun2020    11353142\n",
       "        1st    Past  14Jun2020  25Jun2020    11353142\n",
       "        2nd    Past  26Jun2020  05Jul2020    11353142\n",
       "        3rd    Past  06Jul2020  14Jul2020    11353142\n",
       "        4th    Past  15Jul2020  22Jul2020    11353142\n",
       "        5th    Past  23Jul2020  31Jul2020    11353142\n",
       "        6th    Past  01Aug2020  09Aug2020    11353142\n",
       "        7th    Past  10Aug2020  17Aug2020    11353142\n",
       "        8th    Past  18Aug2020  25Aug2020    11353142\n",
       "        9th    Past  26Aug2020  03Sep2020    11353142\n",
       "        10th   Past  04Sep2020  12Sep2020    11353142\n",
       "        11th   Past  13Sep2020  27Sep2020    11353142\n",
       "        12th   Past  28Sep2020  25Oct2020    11353142\n",
       "Russia  0th    Past  12Feb2020  07May2020   330457362\n",
       "        1st    Past  08May2020  19May2020   330457362\n",
       "        2nd    Past  20May2020  31May2020   330457362\n",
       "        3rd    Past  01Jun2020  12Jun2020   330457362\n",
       "        4th    Past  13Jun2020  26Jun2020   330457362\n",
       "        5th    Past  27Jun2020  10Jul2020   330457362\n",
       "        6th    Past  11Jul2020  24Jul2020   330457362\n",
       "        7th    Past  25Jul2020  10Aug2020   330457362\n",
       "        8th    Past  11Aug2020  28Aug2020   330457362\n",
       "        9th    Past  29Aug2020  15Sep2020   330457362\n",
       "        10th   Past  16Sep2020  29Sep2020   330457362\n",
       "        11th   Past  30Sep2020  09Oct2020   330457362\n",
       "        12th   Past  10Oct2020  25Oct2020   330457362"
      ]
     },
     "execution_count": 10,
     "metadata": {},
     "output_type": "execute_result"
    }
   ],
   "source": [
    "# Here, only show the countries which have the most phases\n",
    "countries_show = max(phase_len_dict.items(), key=lambda x: x[0])[1]\n",
    "# Show summary\n",
    "analyser.summary(countries=countries_show)"
   ]
  },
  {
   "cell_type": "markdown",
   "metadata": {},
   "source": [
    "## Parameter estimation\n",
    "we will estimate the parameter values with SIR-derived ODE models in each country."
   ]
  },
  {
   "cell_type": "code",
   "execution_count": 11,
   "metadata": {
    "collapsed": false,
    "tags": []
   },
   "outputs": [
    {
     "name": "stdout",
     "output_type": "stream",
     "text": [
      "\n",
      "<SIR-F model: parameter estimation>\n",
      "Running optimization with 4 CPUs...\n"
     ]
    },
    {
     "name": "stdout",
     "output_type": "stream",
     "text": [
      "\tUSA,  3rd phase (04Jul2020 - 15Jul2020): finished  663 trials in 0 min 15 sec"
     ]
    },
    {
     "name": "stdout",
     "output_type": "stream",
     "text": [
      "\n"
     ]
    },
    {
     "name": "stdout",
     "output_type": "stream",
     "text": [
      "\tDOM,  4th phase (15Jul2020 - 23Jul2020): finished  480 trials in 0 min 10 sec"
     ]
    },
    {
     "name": "stdout",
     "output_type": "stream",
     "text": [
      "\n"
     ]
    },
    {
     "name": "stdout",
     "output_type": "stream",
     "text": [
      "\tBOL,  0th phase (01Apr2020 - 13Jun2020): finished 1936 trials in 1 min  0 sec"
     ]
    },
    {
     "name": "stdout",
     "output_type": "stream",
     "text": [
      "\n"
     ]
    },
    {
     "name": "stdout",
     "output_type": "stream",
     "text": [
      "\tDOM,  8th phase (21Aug2020 - 03Sep2020): finished 1986 trials in 1 min  0 sec"
     ]
    },
    {
     "name": "stdout",
     "output_type": "stream",
     "text": [
      "\n"
     ]
    },
    {
     "name": "stdout",
     "output_type": "stream",
     "text": [
      "\tBHR,  8th phase (03Sep2020 - 14Sep2020): finished 1985 trials in 1 min  0 sec"
     ]
    },
    {
     "name": "stdout",
     "output_type": "stream",
     "text": [
      "\n"
     ]
    },
    {
     "name": "stdout",
     "output_type": "stream",
     "text": [
      "\tIRN,  5th phase (05Jul2020 - 23Jul2020): finished  472 trials in 0 min 10 sec"
     ]
    },
    {
     "name": "stdout",
     "output_type": "stream",
     "text": [
      "\n"
     ]
    },
    {
     "name": "stdout",
     "output_type": "stream",
     "text": [
      "\tRUS,  3rd phase (01Jun2020 - 12Jun2020): finished 2001 trials in 1 min  0 sec"
     ]
    },
    {
     "name": "stdout",
     "output_type": "stream",
     "text": [
      "\n"
     ]
    },
    {
     "name": "stdout",
     "output_type": "stream",
     "text": [
      "\tIRQ,  5th phase (18Aug2020 - 27Aug2020): finished  477 trials in 0 min 10 sec"
     ]
    },
    {
     "name": "stdout",
     "output_type": "stream",
     "text": [
      "\n"
     ]
    },
    {
     "name": "stdout",
     "output_type": "stream",
     "text": [
      "\tDOM,  3rd phase (03Jul2020 - 14Jul2020): finished 1999 trials in 1 min  0 sec"
     ]
    },
    {
     "name": "stdout",
     "output_type": "stream",
     "text": [
      "\n"
     ]
    },
    {
     "name": "stdout",
     "output_type": "stream",
     "text": [
      "\tBOL,  1st phase (14Jun2020 - 25Jun2020): finished 2008 trials in 1 min  0 sec"
     ]
    },
    {
     "name": "stdout",
     "output_type": "stream",
     "text": [
      "\n"
     ]
    },
    {
     "name": "stdout",
     "output_type": "stream",
     "text": [
      "\tUSA,  7th phase (20Aug2020 - 02Sep2020): finished  252 trials in 0 min  5 sec"
     ]
    },
    {
     "name": "stdout",
     "output_type": "stream",
     "text": [
      "\n"
     ]
    },
    {
     "name": "stdout",
     "output_type": "stream",
     "text": [
      "\tBGD,  7th phase (12Aug2020 - 23Aug2020): finished 2015 trials in 1 min  0 sec"
     ]
    },
    {
     "name": "stdout",
     "output_type": "stream",
     "text": [
      "\n"
     ]
    },
    {
     "name": "stdout",
     "output_type": "stream",
     "text": [
      "\tIRQ,  1st phase (24Jun2020 - 09Jul2020): finished 1994 trials in 1 min  0 sec"
     ]
    },
    {
     "name": "stdout",
     "output_type": "stream",
     "text": [
      "\n"
     ]
    },
    {
     "name": "stdout",
     "output_type": "stream",
     "text": [
      "\tIRN,  7th phase (12Aug2020 - 31Aug2020): finished  251 trials in 0 min  5 sec"
     ]
    },
    {
     "name": "stdout",
     "output_type": "stream",
     "text": [
      "\n"
     ]
    },
    {
     "name": "stdout",
     "output_type": "stream",
     "text": [
      "\tITA,  2nd phase (30Mar2020 - 11Apr2020): finished 1979 trials in 1 min  0 sec"
     ]
    },
    {
     "name": "stdout",
     "output_type": "stream",
     "text": [
      "\n"
     ]
    },
    {
     "name": "stdout",
     "output_type": "stream",
     "text": [
      "\tKWT,  7th phase (09Aug2020 - 23Aug2020): finished 1974 trials in 1 min  0 sec"
     ]
    },
    {
     "name": "stdout",
     "output_type": "stream",
     "text": [
      "\n"
     ]
    },
    {
     "name": "stdout",
     "output_type": "stream",
     "text": [
      "\tDZA,  9th phase (24Aug2020 - 05Sep2020): finished  253 trials in 0 min  5 sec"
     ]
    },
    {
     "name": "stdout",
     "output_type": "stream",
     "text": [
      "\n"
     ]
    },
    {
     "name": "stdout",
     "output_type": "stream",
     "text": [
      "\tKWT,  4th phase (23Jun2020 - 07Jul2020): finished 1990 trials in 1 min  0 sec"
     ]
    },
    {
     "name": "stdout",
     "output_type": "stream",
     "text": [
      "\n"
     ]
    },
    {
     "name": "stdout",
     "output_type": "stream",
     "text": [
      "\tDZA, 10th phase (06Sep2020 - 25Sep2020): finished  844 trials in 0 min 20 sec"
     ]
    },
    {
     "name": "stdout",
     "output_type": "stream",
     "text": [
      "\n"
     ]
    },
    {
     "name": "stdout",
     "output_type": "stream",
     "text": [
      "\tBGD,  3rd phase (29Jun2020 - 07Jul2020): finished 1191 trials in 0 min 30 sec"
     ]
    },
    {
     "name": "stdout",
     "output_type": "stream",
     "text": [
      "\n"
     ]
    },
    {
     "name": "stdout",
     "output_type": "stream",
     "text": [
      "\tIRN,  6th phase (24Jul2020 - 11Aug2020): finished 1992 trials in 1 min  0 sec"
     ]
    },
    {
     "name": "stdout",
     "output_type": "stream",
     "text": [
      "\n"
     ]
    },
    {
     "name": "stdout",
     "output_type": "stream",
     "text": [
      "\tKWT,  3rd phase (09Jun2020 - 22Jun2020): finished 1992 trials in 1 min  0 sec"
     ]
    },
    {
     "name": "stdout",
     "output_type": "stream",
     "text": [
      "\n"
     ]
    },
    {
     "name": "stdout",
     "output_type": "stream",
     "text": [
      "\tBOL,  4th phase (15Jul2020 - 22Jul2020): finished 1995 trials in 1 min  0 sec"
     ]
    },
    {
     "name": "stdout",
     "output_type": "stream",
     "text": [
      "\n"
     ]
    },
    {
     "name": "stdout",
     "output_type": "stream",
     "text": [
      "\tRUS,  1st phase (08May2020 - 19May2020): finished 1987 trials in 1 min  0 sec"
     ]
    },
    {
     "name": "stdout",
     "output_type": "stream",
     "text": [
      "\n"
     ]
    },
    {
     "name": "stdout",
     "output_type": "stream",
     "text": [
      "\tARE,  4th phase (12Jun2020 - 01Jul2020): finished 1964 trials in 1 min  0 sec"
     ]
    },
    {
     "name": "stdout",
     "output_type": "stream",
     "text": [
      "\n"
     ]
    },
    {
     "name": "stdout",
     "output_type": "stream",
     "text": [
      "\tNGA,  0th phase (18Mar2020 - 21May2020): finished 1944 trials in 1 min  0 sec"
     ]
    },
    {
     "name": "stdout",
     "output_type": "stream",
     "text": [
      "\n"
     ]
    },
    {
     "name": "stdout",
     "output_type": "stream",
     "text": [
      "\tDOM,  0th phase (24Mar2020 - 22May2020): finished 1957 trials in 1 min  0 sec"
     ]
    },
    {
     "name": "stdout",
     "output_type": "stream",
     "text": [
      "\n"
     ]
    },
    {
     "name": "stdout",
     "output_type": "stream",
     "text": [
      "\tBHR,  7th phase (12Aug2020 - 02Sep2020): finished 1988 trials in 1 min  0 sec"
     ]
    },
    {
     "name": "stdout",
     "output_type": "stream",
     "text": [
      "\n"
     ]
    },
    {
     "name": "stdout",
     "output_type": "stream",
     "text": [
      "\tUSA,  1st phase (04May2020 - 12Jun2020): finished 1956 trials in 1 min  0 sec"
     ]
    },
    {
     "name": "stdout",
     "output_type": "stream",
     "text": [
      "\n"
     ]
    },
    {
     "name": "stdout",
     "output_type": "stream",
     "text": [
      "\tNGA,  7th phase (28Jul2020 - 07Aug2020): finished 1991 trials in 1 min  0 sec"
     ]
    },
    {
     "name": "stdout",
     "output_type": "stream",
     "text": [
      "\n"
     ]
    },
    {
     "name": "stdout",
     "output_type": "stream",
     "text": [
      "\tITA,  3rd phase (12Apr2020 - 26Apr2020): finished 1971 trials in 1 min  0 sec"
     ]
    },
    {
     "name": "stdout",
     "output_type": "stream",
     "text": [
      "\n"
     ]
    },
    {
     "name": "stdout",
     "output_type": "stream",
     "text": [
      "\tBOL,  7th phase (10Aug2020 - 17Aug2020): finished  257 trials in 0 min  5 sec"
     ]
    },
    {
     "name": "stdout",
     "output_type": "stream",
     "text": [
      "\n"
     ]
    },
    {
     "name": "stdout",
     "output_type": "stream",
     "text": [
      "\tARE,  5th phase (02Jul2020 - 18Jul2020): finished 1971 trials in 1 min  0 sec"
     ]
    },
    {
     "name": "stdout",
     "output_type": "stream",
     "text": [
      "\n"
     ]
    },
    {
     "name": "stdout",
     "output_type": "stream",
     "text": [
      "\tPER,  6th phase (08Aug2020 - 17Aug2020): finished 1988 trials in 1 min  0 sec"
     ]
    },
    {
     "name": "stdout",
     "output_type": "stream",
     "text": [
      "\n"
     ]
    },
    {
     "name": "stdout",
     "output_type": "stream",
     "text": [
      "\tIRN,  2nd phase (06May2020 - 30May2020): finished 1984 trials in 1 min  0 sec"
     ]
    },
    {
     "name": "stdout",
     "output_type": "stream",
     "text": [
      "\n"
     ]
    },
    {
     "name": "stdout",
     "output_type": "stream",
     "text": [
      "\tIRN,  3rd phase (31May2020 - 16Jun2020): finished 1339 trials in 0 min 35 sec"
     ]
    },
    {
     "name": "stdout",
     "output_type": "stream",
     "text": [
      "\n"
     ]
    },
    {
     "name": "stdout",
     "output_type": "stream",
     "text": [
      "\tDOM,  9th phase (04Sep2020 - 17Sep2020): finished 2011 trials in 1 min  0 sec"
     ]
    },
    {
     "name": "stdout",
     "output_type": "stream",
     "text": [
      "\n"
     ]
    },
    {
     "name": "stdout",
     "output_type": "stream",
     "text": [
      "\tPER,  0th phase (16Mar2020 - 09May2020): finished 1954 trials in 1 min  0 sec"
     ]
    },
    {
     "name": "stdout",
     "output_type": "stream",
     "text": [
      "\n"
     ]
    },
    {
     "name": "stdout",
     "output_type": "stream",
     "text": [
      "\tUSA,  4th phase (16Jul2020 - 27Jul2020): finished  254 trials in 0 min  5 sec"
     ]
    },
    {
     "name": "stdout",
     "output_type": "stream",
     "text": [
      "\n"
     ]
    },
    {
     "name": "stdout",
     "output_type": "stream",
     "text": [
      "\tBHR,  9th phase (15Sep2020 - 23Sep2020): finished 2003 trials in 1 min  0 sec"
     ]
    },
    {
     "name": "stdout",
     "output_type": "stream",
     "text": [
      "\n"
     ]
    },
    {
     "name": "stdout",
     "output_type": "stream",
     "text": [
      "\tNGA,  9th phase (19Aug2020 - 02Sep2020): finished  476 trials in 0 min 10 sec"
     ]
    },
    {
     "name": "stdout",
     "output_type": "stream",
     "text": [
      "\n"
     ]
    },
    {
     "name": "stdout",
     "output_type": "stream",
     "text": [
      "\tDZA,  6th phase (28Jul2020 - 04Aug2020): finished  262 trials in 0 min  5 sec"
     ]
    },
    {
     "name": "stdout",
     "output_type": "stream",
     "text": [
      "\n"
     ]
    },
    {
     "name": "stdout",
     "output_type": "stream",
     "text": [
      "\tBGD,  5th phase (18Jul2020 - 29Jul2020): finished  686 trials in 0 min 15 sec"
     ]
    },
    {
     "name": "stdout",
     "output_type": "stream",
     "text": [
      "\n"
     ]
    },
    {
     "name": "stdout",
     "output_type": "stream",
     "text": [
      "\tEGY,  5th phase (03Jul2020 - 13Jul2020): finished  259 trials in 0 min  5 sec"
     ]
    },
    {
     "name": "stdout",
     "output_type": "stream",
     "text": [
      "\n"
     ]
    },
    {
     "name": "stdout",
     "output_type": "stream",
     "text": [
      "\tNGA,  2nd phase (09Jun2020 - 18Jun2020): finished 1830 trials in 0 min 55 sec"
     ]
    },
    {
     "name": "stdout",
     "output_type": "stream",
     "text": [
      "\n"
     ]
    },
    {
     "name": "stdout",
     "output_type": "stream",
     "text": [
      "\tRUS,  2nd phase (20May2020 - 31May2020): finished 1941 trials in 1 min  0 sec"
     ]
    },
    {
     "name": "stdout",
     "output_type": "stream",
     "text": [
      "\n"
     ]
    },
    {
     "name": "stdout",
     "output_type": "stream",
     "text": [
      "\tBRA,  3rd phase (26Jun2020 - 08Jul2020): finished 1957 trials in 1 min  0 sec"
     ]
    },
    {
     "name": "stdout",
     "output_type": "stream",
     "text": [
      "\n"
     ]
    },
    {
     "name": "stdout",
     "output_type": "stream",
     "text": [
      "\tITA,  0th phase (24Feb2020 - 20Mar2020): finished 1921 trials in 1 min  0 sec"
     ]
    },
    {
     "name": "stdout",
     "output_type": "stream",
     "text": [
      "\n"
     ]
    },
    {
     "name": "stdout",
     "output_type": "stream",
     "text": [
      "\tRUS,  4th phase (13Jun2020 - 26Jun2020): finished 1986 trials in 1 min  0 sec"
     ]
    },
    {
     "name": "stdout",
     "output_type": "stream",
     "text": [
      "\n"
     ]
    },
    {
     "name": "stdout",
     "output_type": "stream",
     "text": [
      "\tBRA,  6th phase (31Jul2020 - 09Aug2020): finished  252 trials in 0 min  5 sec"
     ]
    },
    {
     "name": "stdout",
     "output_type": "stream",
     "text": [
      "\n"
     ]
    },
    {
     "name": "stdout",
     "output_type": "stream",
     "text": [
      "\tMEX,  9th phase (09Sep2020 - 24Sep2020): finished 1982 trials in 1 min  0 sec"
     ]
    },
    {
     "name": "stdout",
     "output_type": "stream",
     "text": [
      "\n"
     ]
    },
    {
     "name": "stdout",
     "output_type": "stream",
     "text": [
      "\tKWT,  8th phase (24Aug2020 - 07Sep2020): finished 1845 trials in 0 min 55 sec"
     ]
    },
    {
     "name": "stdout",
     "output_type": "stream",
     "text": [
      "\n"
     ]
    },
    {
     "name": "stdout",
     "output_type": "stream",
     "text": [
      "\tDZA,  4th phase (09Jul2020 - 19Jul2020): finished  473 trials in 0 min 10 sec"
     ]
    },
    {
     "name": "stdout",
     "output_type": "stream",
     "text": [
      "\n"
     ]
    },
    {
     "name": "stdout",
     "output_type": "stream",
     "text": [
      "\tPER,  1st phase (10May2020 - 28May2020): finished 1968 trials in 1 min  0 sec"
     ]
    },
    {
     "name": "stdout",
     "output_type": "stream",
     "text": [
      "\n"
     ]
    },
    {
     "name": "stdout",
     "output_type": "stream",
     "text": [
      "\tTUR,  6th phase (02Jul2020 - 24Jul2020): finished  252 trials in 0 min  5 sec"
     ]
    },
    {
     "name": "stdout",
     "output_type": "stream",
     "text": [
      "\n"
     ]
    },
    {
     "name": "stdout",
     "output_type": "stream",
     "text": [
      "\tUSA,  9th phase (18Sep2020 - 01Oct2020): finished  846 trials in 0 min 20 sec"
     ]
    },
    {
     "name": "stdout",
     "output_type": "stream",
     "text": [
      "\n"
     ]
    },
    {
     "name": "stdout",
     "output_type": "stream",
     "text": [
      "\tTUR,  7th phase (25Jul2020 - 16Aug2020): finished 1963 trials in 1 min  0 sec"
     ]
    },
    {
     "name": "stdout",
     "output_type": "stream",
     "text": [
      "\n"
     ]
    },
    {
     "name": "stdout",
     "output_type": "stream",
     "text": [
      "\tUSA,  2nd phase (13Jun2020 - 03Jul2020): finished 1972 trials in 1 min  0 sec"
     ]
    },
    {
     "name": "stdout",
     "output_type": "stream",
     "text": [
      "\n"
     ]
    },
    {
     "name": "stdout",
     "output_type": "stream",
     "text": [
      "\tMEX,  7th phase (11Aug2020 - 25Aug2020): finished 1977 trials in 1 min  0 sec"
     ]
    },
    {
     "name": "stdout",
     "output_type": "stream",
     "text": [
      "\n"
     ]
    },
    {
     "name": "stdout",
     "output_type": "stream",
     "text": [
      "\tIRN,  9th phase (19Sep2020 - 01Oct2020): finished  668 trials in 0 min 15 sec"
     ]
    },
    {
     "name": "stdout",
     "output_type": "stream",
     "text": [
      "\n"
     ]
    },
    {
     "name": "stdout",
     "output_type": "stream",
     "text": [
      "\tDZA,  5th phase (20Jul2020 - 27Jul2020): finished 1486 trials in 0 min 40 sec"
     ]
    },
    {
     "name": "stdout",
     "output_type": "stream",
     "text": [
      "\n"
     ]
    },
    {
     "name": "stdout",
     "output_type": "stream",
     "text": [
      "\tUSA,  5th phase (28Jul2020 - 06Aug2020): finished  476 trials in 0 min 10 sec"
     ]
    },
    {
     "name": "stdout",
     "output_type": "stream",
     "text": [
      "\n"
     ]
    },
    {
     "name": "stdout",
     "output_type": "stream",
     "text": [
      "\tBGD, 10th phase (18Sep2020 - 04Oct2020): finished  465 trials in 0 min 10 sec"
     ]
    },
    {
     "name": "stdout",
     "output_type": "stream",
     "text": [
      "\n"
     ]
    },
    {
     "name": "stdout",
     "output_type": "stream",
     "text": [
      "\tBRA,  4th phase (09Jul2020 - 20Jul2020): finished  482 trials in 0 min 10 sec"
     ]
    },
    {
     "name": "stdout",
     "output_type": "stream",
     "text": [
      "\n"
     ]
    },
    {
     "name": "stdout",
     "output_type": "stream",
     "text": [
      "\tBRA, 11th phase (25Sep2020 - 25Oct2020): finished 1966 trials in 1 min  0 sec"
     ]
    },
    {
     "name": "stdout",
     "output_type": "stream",
     "text": [
      "\n"
     ]
    },
    {
     "name": "stdout",
     "output_type": "stream",
     "text": [
      "\tBHR,  5th phase (08Jul2020 - 22Jul2020): finished 2000 trials in 1 min  0 sec"
     ]
    },
    {
     "name": "stdout",
     "output_type": "stream",
     "text": [
      "\n"
     ]
    },
    {
     "name": "stdout",
     "output_type": "stream",
     "text": [
      "\tMEX,  1st phase (24May2020 - 10Jun2020): finished 2001 trials in 1 min  0 sec"
     ]
    },
    {
     "name": "stdout",
     "output_type": "stream",
     "text": [
      "\n"
     ]
    },
    {
     "name": "stdout",
     "output_type": "stream",
     "text": [
      "\tTUR,  0th phase (24Mar2020 - 16Apr2020): finished 1980 trials in 1 min  0 sec"
     ]
    },
    {
     "name": "stdout",
     "output_type": "stream",
     "text": [
      "\n"
     ]
    },
    {
     "name": "stdout",
     "output_type": "stream",
     "text": [
      "\tBRA, 10th phase (11Sep2020 - 24Sep2020): finished 1980 trials in 1 min  0 sec"
     ]
    },
    {
     "name": "stdout",
     "output_type": "stream",
     "text": [
      "\n"
     ]
    },
    {
     "name": "stdout",
     "output_type": "stream",
     "text": [
      "\tRUS, 10th phase (16Sep2020 - 29Sep2020): finished 1983 trials in 1 min  0 sec"
     ]
    },
    {
     "name": "stdout",
     "output_type": "stream",
     "text": [
      "\n"
     ]
    },
    {
     "name": "stdout",
     "output_type": "stream",
     "text": [
      "\tPER,  2nd phase (29May2020 - 18Jun2020): finished 1969 trials in 1 min  0 sec"
     ]
    },
    {
     "name": "stdout",
     "output_type": "stream",
     "text": [
      "\n"
     ]
    },
    {
     "name": "stdout",
     "output_type": "stream",
     "text": [
      "\tUSA,  0th phase (09Feb2020 - 03May2020): finished 1930 trials in 1 min  0 sec"
     ]
    },
    {
     "name": "stdout",
     "output_type": "stream",
     "text": [
      "\n"
     ]
    },
    {
     "name": "stdout",
     "output_type": "stream",
     "text": [
      "\tMEX,  4th phase (07Jul2020 - 17Jul2020): finished 1186 trials in 0 min 30 sec"
     ]
    },
    {
     "name": "stdout",
     "output_type": "stream",
     "text": [
      "\n"
     ]
    },
    {
     "name": "stdout",
     "output_type": "stream",
     "text": [
      "\tBGD,  4th phase (08Jul2020 - 17Jul2020): finished 1029 trials in 0 min 25 sec"
     ]
    },
    {
     "name": "stdout",
     "output_type": "stream",
     "text": [
      "\n"
     ]
    },
    {
     "name": "stdout",
     "output_type": "stream",
     "text": [
      "\tEGY,  7th phase (28Jul2020 - 09Aug2020): finished  473 trials in 0 min 10 sec"
     ]
    },
    {
     "name": "stdout",
     "output_type": "stream",
     "text": [
      "\n"
     ]
    },
    {
     "name": "stdout",
     "output_type": "stream",
     "text": [
      "\tEGY,  8th phase (10Aug2020 - 26Aug2020): finished  250 trials in 0 min  5 sec"
     ]
    },
    {
     "name": "stdout",
     "output_type": "stream",
     "text": [
      "\n"
     ]
    },
    {
     "name": "stdout",
     "output_type": "stream",
     "text": [
      "\tDOM,  2nd phase (16Jun2020 - 02Jul2020): finished 1984 trials in 1 min  0 sec"
     ]
    },
    {
     "name": "stdout",
     "output_type": "stream",
     "text": [
      "\n"
     ]
    },
    {
     "name": "stdout",
     "output_type": "stream",
     "text": [
      "\tARE,  0th phase (12Feb2020 - 01May2020): finished 1934 trials in 1 min  0 sec"
     ]
    },
    {
     "name": "stdout",
     "output_type": "stream",
     "text": [
      "\n"
     ]
    },
    {
     "name": "stdout",
     "output_type": "stream",
     "text": [
      "\tDOM,  1st phase (23May2020 - 15Jun2020): finished 1975 trials in 1 min  0 sec"
     ]
    },
    {
     "name": "stdout",
     "output_type": "stream",
     "text": [
      "\n"
     ]
    },
    {
     "name": "stdout",
     "output_type": "stream",
     "text": [
      "\tPER,  5th phase (29Jul2020 - 07Aug2020): finished 1989 trials in 1 min  0 sec"
     ]
    },
    {
     "name": "stdout",
     "output_type": "stream",
     "text": [
      "\n"
     ]
    },
    {
     "name": "stdout",
     "output_type": "stream",
     "text": [
      "\tBOL, 10th phase (04Sep2020 - 12Sep2020): finished 1977 trials in 1 min  0 sec"
     ]
    },
    {
     "name": "stdout",
     "output_type": "stream",
     "text": [
      "\n"
     ]
    },
    {
     "name": "stdout",
     "output_type": "stream",
     "text": [
      "\tARE,  1st phase (02May2020 - 15May2020): finished 1967 trials in 1 min  0 sec"
     ]
    },
    {
     "name": "stdout",
     "output_type": "stream",
     "text": [
      "\n"
     ]
    },
    {
     "name": "stdout",
     "output_type": "stream",
     "text": [
      "\tIRN,  8th phase (01Sep2020 - 18Sep2020): finished 1982 trials in 1 min  0 sec"
     ]
    },
    {
     "name": "stdout",
     "output_type": "stream",
     "text": [
      "\n"
     ]
    },
    {
     "name": "stdout",
     "output_type": "stream",
     "text": [
      "\tPER, 11th phase (01Oct2020 - 25Oct2020): finished 1980 trials in 1 min  0 sec"
     ]
    },
    {
     "name": "stdout",
     "output_type": "stream",
     "text": [
      "\n"
     ]
    },
    {
     "name": "stdout",
     "output_type": "stream",
     "text": [
      "\tBRA,  9th phase (30Aug2020 - 10Sep2020): finished 1977 trials in 1 min  0 sec"
     ]
    },
    {
     "name": "stdout",
     "output_type": "stream",
     "text": [
      "\n"
     ]
    },
    {
     "name": "stdout",
     "output_type": "stream",
     "text": [
      "\tEGY,  6th phase (14Jul2020 - 27Jul2020): finished 1981 trials in 1 min  0 sec"
     ]
    },
    {
     "name": "stdout",
     "output_type": "stream",
     "text": [
      "\tITA,  8th phase (28Aug2020 - 18Sep2020): finished  251 trials in 0 min  5 sec"
     ]
    },
    {
     "name": "stdout",
     "output_type": "stream",
     "text": [
      "\n"
     ]
    },
    {
     "name": "stdout",
     "output_type": "stream",
     "text": [
      "\n"
     ]
    },
    {
     "name": "stdout",
     "output_type": "stream",
     "text": [
      "\tTUR, 10th phase (21Sep2020 - 09Oct2020): finished  252 trials in 0 min  5 sec"
     ]
    },
    {
     "name": "stdout",
     "output_type": "stream",
     "text": [
      "\n"
     ]
    },
    {
     "name": "stdout",
     "output_type": "stream",
     "text": [
      "\tDZA, 11th phase (26Sep2020 - 25Oct2020): finished  443 trials in 0 min 10 sec"
     ]
    },
    {
     "name": "stdout",
     "output_type": "stream",
     "text": [
      "\n"
     ]
    },
    {
     "name": "stdout",
     "output_type": "stream",
     "text": [
      "\tMEX,  0th phase (03Mar2020 - 23May2020): finished 1926 trials in 1 min  0 sec"
     ]
    },
    {
     "name": "stdout",
     "output_type": "stream",
     "text": [
      "\n"
     ]
    },
    {
     "name": "stdout",
     "output_type": "stream",
     "text": [
      "\tBOL,  9th phase (26Aug2020 - 03Sep2020): finished  256 trials in 0 min  5 sec"
     ]
    },
    {
     "name": "stdout",
     "output_type": "stream",
     "text": [
      "\n"
     ]
    },
    {
     "name": "stdout",
     "output_type": "stream",
     "text": [
      "\tNGA, 10th phase (03Sep2020 - 29Sep2020): finished 1976 trials in 1 min  0 sec"
     ]
    },
    {
     "name": "stdout",
     "output_type": "stream",
     "text": [
      "\n"
     ]
    },
    {
     "name": "stdout",
     "output_type": "stream",
     "text": [
      "\tPER, 10th phase (18Sep2020 - 30Sep2020): finished 1985 trials in 1 min  0 sec"
     ]
    },
    {
     "name": "stdout",
     "output_type": "stream",
     "text": [
      "\n"
     ]
    },
    {
     "name": "stdout",
     "output_type": "stream",
     "text": [
      "\tARE,  9th phase (23Sep2020 - 01Oct2020): finished  256 trials in 0 min  5 sec"
     ]
    },
    {
     "name": "stdout",
     "output_type": "stream",
     "text": [
      "\n"
     ]
    },
    {
     "name": "stdout",
     "output_type": "stream",
     "text": [
      "\tBGD,  2nd phase (19Jun2020 - 28Jun2020): finished 1756 trials in 0 min 50 sec"
     ]
    },
    {
     "name": "stdout",
     "output_type": "stream",
     "text": [
      "\n"
     ]
    },
    {
     "name": "stdout",
     "output_type": "stream",
     "text": [
      "\tUSA,  6th phase (07Aug2020 - 19Aug2020): finished  851 trials in 0 min 20 sec"
     ]
    },
    {
     "name": "stdout",
     "output_type": "stream",
     "text": [
      "\n"
     ]
    },
    {
     "name": "stdout",
     "output_type": "stream",
     "text": [
      "\tIRN, 11th phase (14Oct2020 - 25Oct2020): finished  469 trials in 0 min 10 sec"
     ]
    },
    {
     "name": "stdout",
     "output_type": "stream",
     "text": [
      "\n"
     ]
    },
    {
     "name": "stdout",
     "output_type": "stream",
     "text": [
      "\tRUS,  8th phase (11Aug2020 - 28Aug2020): finished 1986 trials in 1 min  0 sec"
     ]
    },
    {
     "name": "stdout",
     "output_type": "stream",
     "text": [
      "\n"
     ]
    },
    {
     "name": "stdout",
     "output_type": "stream",
     "text": [
      "\tBRA,  7th phase (10Aug2020 - 19Aug2020): finished 1989 trials in 1 min  0 sec"
     ]
    },
    {
     "name": "stdout",
     "output_type": "stream",
     "text": [
      "\n"
     ]
    },
    {
     "name": "stdout",
     "output_type": "stream",
     "text": [
      "\tARE,  2nd phase (16May2020 - 27May2020): finished 1986 trials in 1 min  0 sec"
     ]
    },
    {
     "name": "stdout",
     "output_type": "stream",
     "text": [
      "\n"
     ]
    },
    {
     "name": "stdout",
     "output_type": "stream",
     "text": [
      "\tIRQ,  8th phase (14Sep2020 - 22Sep2020): finished  247 trials in 0 min  5 sec"
     ]
    },
    {
     "name": "stdout",
     "output_type": "stream",
     "text": [
      "\n"
     ]
    },
    {
     "name": "stdout",
     "output_type": "stream",
     "text": [
      "\tNGA, 11th phase (30Sep2020 - 25Oct2020): finished 1950 trials in 1 min  0 sec"
     ]
    },
    {
     "name": "stdout",
     "output_type": "stream",
     "text": [
      "\n"
     ]
    },
    {
     "name": "stdout",
     "output_type": "stream",
     "text": [
      "\tDZA,  0th phase (12Mar2020 - 01May2020): finished 1926 trials in 1 min  0 sec"
     ]
    },
    {
     "name": "stdout",
     "output_type": "stream",
     "text": [
      "\n"
     ]
    },
    {
     "name": "stdout",
     "output_type": "stream",
     "text": [
      "\tEGY,  3rd phase (05Jun2020 - 18Jun2020): finished 1965 trials in 1 min  0 sec"
     ]
    },
    {
     "name": "stdout",
     "output_type": "stream",
     "text": [
      "\n"
     ]
    },
    {
     "name": "stdout",
     "output_type": "stream",
     "text": [
      "\tMEX, 10th phase (25Sep2020 - 05Oct2020): finished 1996 trials in 1 min  0 sec"
     ]
    },
    {
     "name": "stdout",
     "output_type": "stream",
     "text": [
      "\n"
     ]
    },
    {
     "name": "stdout",
     "output_type": "stream",
     "text": [
      "\tBRA,  8th phase (20Aug2020 - 29Aug2020): finished 1984 trials in 1 min  0 sec"
     ]
    },
    {
     "name": "stdout",
     "output_type": "stream",
     "text": [
      "\n"
     ]
    },
    {
     "name": "stdout",
     "output_type": "stream",
     "text": [
      "\tTUR,  8th phase (17Aug2020 - 04Sep2020): finished  473 trials in 0 min 10 sec"
     ]
    },
    {
     "name": "stdout",
     "output_type": "stream",
     "text": [
      "\n"
     ]
    },
    {
     "name": "stdout",
     "output_type": "stream",
     "text": [
      "\tDZA,  8th phase (13Aug2020 - 23Aug2020): finished  481 trials in 0 min 10 sec"
     ]
    },
    {
     "name": "stdout",
     "output_type": "stream",
     "text": [
      "\n"
     ]
    },
    {
     "name": "stdout",
     "output_type": "stream",
     "text": [
      "\tARE,  8th phase (11Sep2020 - 22Sep2020): finished 1028 trials in 0 min 25 sec"
     ]
    },
    {
     "name": "stdout",
     "output_type": "stream",
     "text": [
      "\n"
     ]
    },
    {
     "name": "stdout",
     "output_type": "stream",
     "text": [
      "\tIRQ, 10th phase (02Oct2020 - 12Oct2020): finished  253 trials in 0 min  5 sec"
     ]
    },
    {
     "name": "stdout",
     "output_type": "stream",
     "text": [
      "\n"
     ]
    },
    {
     "name": "stdout",
     "output_type": "stream",
     "text": [
      "\tBHR,  4th phase (26Jun2020 - 07Jul2020): finished 1985 trials in 1 min  0 sec"
     ]
    },
    {
     "name": "stdout",
     "output_type": "stream",
     "text": [
      "\n"
     ]
    },
    {
     "name": "stdout",
     "output_type": "stream",
     "text": [
      "\tMEX,  8th phase (26Aug2020 - 08Sep2020): finished 1979 trials in 1 min  0 sec"
     ]
    },
    {
     "name": "stdout",
     "output_type": "stream",
     "text": [
      "\n"
     ]
    },
    {
     "name": "stdout",
     "output_type": "stream",
     "text": [
      "\tTUR,  3rd phase (07May2020 - 21May2020): finished 1974 trials in 1 min  0 sec"
     ]
    },
    {
     "name": "stdout",
     "output_type": "stream",
     "text": [
      "\n"
     ]
    },
    {
     "name": "stdout",
     "output_type": "stream",
     "text": [
      "\tMEX,  2nd phase (11Jun2020 - 24Jun2020): finished 1977 trials in 1 min  0 sec"
     ]
    },
    {
     "name": "stdout",
     "output_type": "stream",
     "text": [
      "\n"
     ]
    },
    {
     "name": "stdout",
     "output_type": "stream",
     "text": [
      "\tKWT, 10th phase (23Sep2020 - 09Oct2020): finished  250 trials in 0 min  5 sec"
     ]
    },
    {
     "name": "stdout",
     "output_type": "stream",
     "text": [
      "\n"
     ]
    },
    {
     "name": "stdout",
     "output_type": "stream",
     "text": [
      "\tARE, 10th phase (02Oct2020 - 09Oct2020): finished 1966 trials in 1 min  0 sec"
     ]
    },
    {
     "name": "stdout",
     "output_type": "stream",
     "text": [
      "\n"
     ]
    },
    {
     "name": "stdout",
     "output_type": "stream",
     "text": [
      "\tEGY,  4th phase (19Jun2020 - 02Jul2020): finished  252 trials in 0 min  5 sec"
     ]
    },
    {
     "name": "stdout",
     "output_type": "stream",
     "text": [
      "\n"
     ]
    },
    {
     "name": "stdout",
     "output_type": "stream",
     "text": [
      "\tITA, 11th phase (11Oct2020 - 25Oct2020): finished 1868 trials in 0 min 55 sec"
     ]
    },
    {
     "name": "stdout",
     "output_type": "stream",
     "text": [
      "\n"
     ]
    },
    {
     "name": "stdout",
     "output_type": "stream",
     "text": [
      "\tBOL,  8th phase (18Aug2020 - 25Aug2020): finished  683 trials in 0 min 15 sec"
     ]
    },
    {
     "name": "stdout",
     "output_type": "stream",
     "text": [
      "\n"
     ]
    },
    {
     "name": "stdout",
     "output_type": "stream",
     "text": [
      "\tTUR,  9th phase (05Sep2020 - 20Sep2020): finished  253 trials in 0 min  5 sec"
     ]
    },
    {
     "name": "stdout",
     "output_type": "stream",
     "text": [
      "\n"
     ]
    },
    {
     "name": "stdout",
     "output_type": "stream",
     "text": [
      "\tBOL,  5th phase (23Jul2020 - 31Jul2020): finished  459 trials in 0 min 10 sec"
     ]
    },
    {
     "name": "stdout",
     "output_type": "stream",
     "text": [
      "\n"
     ]
    },
    {
     "name": "stdout",
     "output_type": "stream",
     "text": [
      "\tTUR,  1st phase (17Apr2020 - 26Apr2020): finished 1993 trials in 1 min  0 sec"
     ]
    },
    {
     "name": "stdout",
     "output_type": "stream",
     "text": [
      "\n"
     ]
    },
    {
     "name": "stdout",
     "output_type": "stream",
     "text": [
      "\tBGD,  6th phase (30Jul2020 - 11Aug2020): finished  478 trials in 0 min 10 sec"
     ]
    },
    {
     "name": "stdout",
     "output_type": "stream",
     "text": [
      "\n"
     ]
    },
    {
     "name": "stdout",
     "output_type": "stream",
     "text": [
      "\tIRN,  1st phase (31Mar2020 - 05May2020): finished 1953 trials in 1 min  0 sec"
     ]
    },
    {
     "name": "stdout",
     "output_type": "stream",
     "text": [
      "\n"
     ]
    },
    {
     "name": "stdout",
     "output_type": "stream",
     "text": [
      "\tTUR,  5th phase (14Jun2020 - 01Jul2020): finished 1966 trials in 1 min  0 sec"
     ]
    },
    {
     "name": "stdout",
     "output_type": "stream",
     "text": [
      "\n"
     ]
    },
    {
     "name": "stdout",
     "output_type": "stream",
     "text": [
      "\tRUS,  6th phase (11Jul2020 - 24Jul2020): finished 1954 trials in 1 min  0 sec"
     ]
    },
    {
     "name": "stdout",
     "output_type": "stream",
     "text": [
      "\n"
     ]
    },
    {
     "name": "stdout",
     "output_type": "stream",
     "text": [
      "\tBOL, 12th phase (28Sep2020 - 25Oct2020): finished  469 trials in 0 min 10 sec"
     ]
    },
    {
     "name": "stdout",
     "output_type": "stream",
     "text": [
      "\n"
     ]
    },
    {
     "name": "stdout",
     "output_type": "stream",
     "text": [
      "\tPER,  9th phase (08Sep2020 - 17Sep2020): finished 1960 trials in 1 min  0 sec"
     ]
    },
    {
     "name": "stdout",
     "output_type": "stream",
     "text": [
      "\n"
     ]
    },
    {
     "name": "stdout",
     "output_type": "stream",
     "text": [
      "\tMEX,  3rd phase (25Jun2020 - 06Jul2020): finished  482 trials in 0 min 10 sec"
     ]
    },
    {
     "name": "stdout",
     "output_type": "stream",
     "text": [
      "\n"
     ]
    },
    {
     "name": "stdout",
     "output_type": "stream",
     "text": [
      "\tKWT,  2nd phase (28May2020 - 08Jun2020): finished 1989 trials in 1 min  0 sec"
     ]
    },
    {
     "name": "stdout",
     "output_type": "stream",
     "text": [
      "\n"
     ]
    },
    {
     "name": "stdout",
     "output_type": "stream",
     "text": [
      "\tARE,  3rd phase (28May2020 - 11Jun2020): finished 1978 trials in 1 min  0 sec"
     ]
    },
    {
     "name": "stdout",
     "output_type": "stream",
     "text": [
      "\n"
     ]
    },
    {
     "name": "stdout",
     "output_type": "stream",
     "text": [
      "\tDOM,  6th phase (02Aug2020 - 11Aug2020): finished 1984 trials in 1 min  0 sec"
     ]
    },
    {
     "name": "stdout",
     "output_type": "stream",
     "text": [
      "\n"
     ]
    },
    {
     "name": "stdout",
     "output_type": "stream",
     "text": [
      "\tRUS, 11th phase (30Sep2020 - 09Oct2020): finished 1981 trials in 1 min  0 sec"
     ]
    },
    {
     "name": "stdout",
     "output_type": "stream",
     "text": [
      "\n"
     ]
    },
    {
     "name": "stdout",
     "output_type": "stream",
     "text": [
      "\tNGA,  8th phase (08Aug2020 - 18Aug2020): finished  476 trials in 0 min 10 sec"
     ]
    },
    {
     "name": "stdout",
     "output_type": "stream",
     "text": [
      "\n"
     ]
    },
    {
     "name": "stdout",
     "output_type": "stream",
     "text": [
      "\tITA,  6th phase (22May2020 - 14Jul2020): finished  447 trials in 0 min 10 sec"
     ]
    },
    {
     "name": "stdout",
     "output_type": "stream",
     "text": [
      "\n"
     ]
    },
    {
     "name": "stdout",
     "output_type": "stream",
     "text": [
      "\tIRQ,  7th phase (05Sep2020 - 13Sep2020): finished  255 trials in 0 min  5 sec"
     ]
    },
    {
     "name": "stdout",
     "output_type": "stream",
     "text": [
      "\n"
     ]
    },
    {
     "name": "stdout",
     "output_type": "stream",
     "text": [
      "\tNGA,  6th phase (18Jul2020 - 27Jul2020): finished  474 trials in 0 min 10 sec"
     ]
    },
    {
     "name": "stdout",
     "output_type": "stream",
     "text": [
      "\n"
     ]
    },
    {
     "name": "stdout",
     "output_type": "stream",
     "text": [
      "\tITA, 10th phase (02Oct2020 - 10Oct2020): finished 1982 trials in 1 min  0 sec"
     ]
    },
    {
     "name": "stdout",
     "output_type": "stream",
     "text": [
      "\n"
     ]
    },
    {
     "name": "stdout",
     "output_type": "stream",
     "text": [
      "\tBHR,  0th phase (06Mar2020 - 06May2020): finished 1915 trials in 1 min  0 sec"
     ]
    },
    {
     "name": "stdout",
     "output_type": "stream",
     "text": [
      "\n"
     ]
    },
    {
     "name": "stdout",
     "output_type": "stream",
     "text": [
      "\tBOL, 11th phase (13Sep2020 - 27Sep2020): finished  472 trials in 0 min 10 sec"
     ]
    },
    {
     "name": "stdout",
     "output_type": "stream",
     "text": [
      "\n"
     ]
    },
    {
     "name": "stdout",
     "output_type": "stream",
     "text": [
      "\tBHR,  2nd phase (01Jun2020 - 13Jun2020): finished 1989 trials in 1 min  0 sec"
     ]
    },
    {
     "name": "stdout",
     "output_type": "stream",
     "text": [
      "\n"
     ]
    },
    {
     "name": "stdout",
     "output_type": "stream",
     "text": [
      "\tPER,  8th phase (29Aug2020 - 07Sep2020): finished 1976 trials in 1 min  0 sec"
     ]
    },
    {
     "name": "stdout",
     "output_type": "stream",
     "text": [
      "\n"
     ]
    },
    {
     "name": "stdout",
     "output_type": "stream",
     "text": [
      "\tIRN, 10th phase (02Oct2020 - 13Oct2020): finished  248 trials in 0 min  5 sec"
     ]
    },
    {
     "name": "stdout",
     "output_type": "stream",
     "text": [
      "\n"
     ]
    },
    {
     "name": "stdout",
     "output_type": "stream",
     "text": [
      "\tBRA,  1st phase (26May2020 - 13Jun2020): finished 1985 trials in 1 min  0 sec"
     ]
    },
    {
     "name": "stdout",
     "output_type": "stream",
     "text": [
      "\n"
     ]
    },
    {
     "name": "stdout",
     "output_type": "stream",
     "text": [
      "\tBGD, 11th phase (05Oct2020 - 25Oct2020): finished  661 trials in 0 min 15 sec"
     ]
    },
    {
     "name": "stdout",
     "output_type": "stream",
     "text": [
      "\n"
     ]
    },
    {
     "name": "stdout",
     "output_type": "stream",
     "text": [
      "\tPER,  3rd phase (19Jun2020 - 10Jul2020): finished 1980 trials in 1 min  0 sec"
     ]
    },
    {
     "name": "stdout",
     "output_type": "stream",
     "text": [
      "\n"
     ]
    },
    {
     "name": "stdout",
     "output_type": "stream",
     "text": [
      "\tBOL,  2nd phase (26Jun2020 - 05Jul2020): finished  256 trials in 0 min  5 sec"
     ]
    },
    {
     "name": "stdout",
     "output_type": "stream",
     "text": [
      "\n"
     ]
    },
    {
     "name": "stdout",
     "output_type": "stream",
     "text": [
      "\tPER,  4th phase (11Jul2020 - 28Jul2020): finished 1983 trials in 1 min  0 sec"
     ]
    },
    {
     "name": "stdout",
     "output_type": "stream",
     "text": [
      "\n"
     ]
    },
    {
     "name": "stdout",
     "output_type": "stream",
     "text": [
      "\tEGY,  2nd phase (28May2020 - 04Jun2020): finished  258 trials in 0 min  5 sec"
     ]
    },
    {
     "name": "stdout",
     "output_type": "stream",
     "text": [
      "\n"
     ]
    },
    {
     "name": "stdout",
     "output_type": "stream",
     "text": [
      "\tIRQ,  2nd phase (10Jul2020 - 24Jul2020): finished 1973 trials in 1 min  0 sec"
     ]
    },
    {
     "name": "stdout",
     "output_type": "stream",
     "text": [
      "\n"
     ]
    },
    {
     "name": "stdout",
     "output_type": "stream",
     "text": [
      "\tRUS,  5th phase (27Jun2020 - 10Jul2020): finished 1963 trials in 1 min  0 sec"
     ]
    },
    {
     "name": "stdout",
     "output_type": "stream",
     "text": [
      "\n"
     ]
    },
    {
     "name": "stdout",
     "output_type": "stream",
     "text": [
      "\tMEX, 11th phase (06Oct2020 - 25Oct2020): finished  465 trials in 0 min 10 sec"
     ]
    },
    {
     "name": "stdout",
     "output_type": "stream",
     "text": [
      "\n"
     ]
    },
    {
     "name": "stdout",
     "output_type": "stream",
     "text": [
      "\tEGY,  0th phase (28Feb2020 - 12May2020): finished 1965 trials in 1 min  0 sec"
     ]
    },
    {
     "name": "stdout",
     "output_type": "stream",
     "text": [
      "\n"
     ]
    },
    {
     "name": "stdout",
     "output_type": "stream",
     "text": [
      "\tEGY, 10th phase (11Sep2020 - 27Sep2020): finished  250 trials in 0 min  5 sec"
     ]
    },
    {
     "name": "stdout",
     "output_type": "stream",
     "text": [
      "\n"
     ]
    },
    {
     "name": "stdout",
     "output_type": "stream",
     "text": [
      "\tKWT,  9th phase (08Sep2020 - 22Sep2020): finished 1979 trials in 1 min  0 sec"
     ]
    },
    {
     "name": "stdout",
     "output_type": "stream",
     "text": [
      "\n"
     ]
    },
    {
     "name": "stdout",
     "output_type": "stream",
     "text": [
      "\tIRN,  4th phase (17Jun2020 - 04Jul2020): finished 1969 trials in 1 min  0 sec"
     ]
    },
    {
     "name": "stdout",
     "output_type": "stream",
     "text": [
      "\n"
     ]
    },
    {
     "name": "stdout",
     "output_type": "stream",
     "text": [
      "\tDOM,  5th phase (24Jul2020 - 01Aug2020): finished 1987 trials in 1 min  0 sec"
     ]
    },
    {
     "name": "stdout",
     "output_type": "stream",
     "text": [
      "\n"
     ]
    },
    {
     "name": "stdout",
     "output_type": "stream",
     "text": [
      "\tBHR, 10th phase (24Sep2020 - 05Oct2020): finished  255 trials in 0 min  5 sec"
     ]
    },
    {
     "name": "stdout",
     "output_type": "stream",
     "text": [
      "\n"
     ]
    },
    {
     "name": "stdout",
     "output_type": "stream",
     "text": [
      "\tIRQ, 11th phase (13Oct2020 - 25Oct2020): finished 1728 trials in 0 min 50 sec"
     ]
    },
    {
     "name": "stdout",
     "output_type": "stream",
     "text": [
      "\n"
     ]
    },
    {
     "name": "stdout",
     "output_type": "stream",
     "text": [
      "\tBRA,  0th phase (16Mar2020 - 25May2020): finished 1919 trials in 1 min  0 sec"
     ]
    },
    {
     "name": "stdout",
     "output_type": "stream",
     "text": [
      "\n"
     ]
    },
    {
     "name": "stdout",
     "output_type": "stream",
     "text": [
      "\tKWT,  6th phase (23Jul2020 - 08Aug2020): finished  474 trials in 0 min 10 sec"
     ]
    },
    {
     "name": "stdout",
     "output_type": "stream",
     "text": [
      "\n"
     ]
    },
    {
     "name": "stdout",
     "output_type": "stream",
     "text": [
      "\tIRN,  0th phase (26Feb2020 - 30Mar2020): finished 1949 trials in 1 min  0 sec"
     ]
    },
    {
     "name": "stdout",
     "output_type": "stream",
     "text": [
      "\n"
     ]
    },
    {
     "name": "stdout",
     "output_type": "stream",
     "text": [
      "\tTUR,  2nd phase (27Apr2020 - 06May2020): finished  250 trials in 0 min  5 sec"
     ]
    },
    {
     "name": "stdout",
     "output_type": "stream",
     "text": [
      "\n"
     ]
    },
    {
     "name": "stdout",
     "output_type": "stream",
     "text": [
      "\tRUS, 12th phase (10Oct2020 - 25Oct2020): finished 1978 trials in 1 min  0 sec"
     ]
    },
    {
     "name": "stdout",
     "output_type": "stream",
     "text": [
      "\n"
     ]
    },
    {
     "name": "stdout",
     "output_type": "stream",
     "text": [
      "\tKWT,  0th phase (08Mar2020 - 13May2020): finished 1756 trials in 1 min  0 sec"
     ]
    },
    {
     "name": "stdout",
     "output_type": "stream",
     "text": [
      "\n"
     ]
    },
    {
     "name": "stdout",
     "output_type": "stream",
     "text": [
      "\tDZA,  2nd phase (24May2020 - 25Jun2020): finished 1956 trials in 1 min  0 sec"
     ]
    },
    {
     "name": "stdout",
     "output_type": "stream",
     "text": [
      "\n"
     ]
    },
    {
     "name": "stdout",
     "output_type": "stream",
     "text": [
      "\tBOL,  3rd phase (06Jul2020 - 14Jul2020): finished  873 trials in 0 min 20 sec"
     ]
    },
    {
     "name": "stdout",
     "output_type": "stream",
     "text": [
      "\n"
     ]
    },
    {
     "name": "stdout",
     "output_type": "stream",
     "text": [
      "\tUSA,  8th phase (03Sep2020 - 17Sep2020): finished  684 trials in 0 min 15 sec"
     ]
    },
    {
     "name": "stdout",
     "output_type": "stream",
     "text": [
      "\n"
     ]
    },
    {
     "name": "stdout",
     "output_type": "stream",
     "text": [
      "\tARE,  6th phase (19Jul2020 - 18Aug2020): finished  473 trials in 0 min 10 sec"
     ]
    },
    {
     "name": "stdout",
     "output_type": "stream",
     "text": [
      "\n"
     ]
    },
    {
     "name": "stdout",
     "output_type": "stream",
     "text": [
      "\tTUR,  4th phase (22May2020 - 13Jun2020): finished 2020 trials in 1 min  0 sec"
     ]
    },
    {
     "name": "stdout",
     "output_type": "stream",
     "text": [
      "\n"
     ]
    },
    {
     "name": "stdout",
     "output_type": "stream",
     "text": [
      "\tDOM,  7th phase (12Aug2020 - 20Aug2020): finished  483 trials in 0 min 10 sec"
     ]
    },
    {
     "name": "stdout",
     "output_type": "stream",
     "text": [
      "\n"
     ]
    },
    {
     "name": "stdout",
     "output_type": "stream",
     "text": [
      "\tEGY,  1st phase (13May2020 - 27May2020): finished 2012 trials in 1 min  0 sec"
     ]
    },
    {
     "name": "stdout",
     "output_type": "stream",
     "text": [
      "\n"
     ]
    },
    {
     "name": "stdout",
     "output_type": "stream",
     "text": [
      "\tKWT,  1st phase (14May2020 - 27May2020): finished 2019 trials in 1 min  0 sec"
     ]
    },
    {
     "name": "stdout",
     "output_type": "stream",
     "text": [
      "\n"
     ]
    },
    {
     "name": "stdout",
     "output_type": "stream",
     "text": [
      "\tIRQ,  3rd phase (25Jul2020 - 07Aug2020): finished 1354 trials in 0 min 35 sec"
     ]
    },
    {
     "name": "stdout",
     "output_type": "stream",
     "text": [
      "\n"
     ]
    },
    {
     "name": "stdout",
     "output_type": "stream",
     "text": [
      "\tARE,  7th phase (19Aug2020 - 10Sep2020): finished 2002 trials in 1 min  0 sec"
     ]
    },
    {
     "name": "stdout",
     "output_type": "stream",
     "text": [
      "\n"
     ]
    },
    {
     "name": "stdout",
     "output_type": "stream",
     "text": [
      "\tDZA,  7th phase (05Aug2020 - 12Aug2020): finished  259 trials in 0 min  5 sec"
     ]
    },
    {
     "name": "stdout",
     "output_type": "stream",
     "text": [
      "\n"
     ]
    },
    {
     "name": "stdout",
     "output_type": "stream",
     "text": [
      "\tRUS,  9th phase (29Aug2020 - 15Sep2020): finished 1997 trials in 1 min  0 sec"
     ]
    },
    {
     "name": "stdout",
     "output_type": "stream",
     "text": [
      "\n"
     ]
    },
    {
     "name": "stdout",
     "output_type": "stream",
     "text": [
      "\tIRQ,  6th phase (28Aug2020 - 04Sep2020): finished  258 trials in 0 min  5 sec"
     ]
    },
    {
     "name": "stdout",
     "output_type": "stream",
     "text": [
      "\n"
     ]
    },
    {
     "name": "stdout",
     "output_type": "stream",
     "text": [
      "\tEGY,  9th phase (27Aug2020 - 10Sep2020): finished  482 trials in 0 min 10 sec"
     ]
    },
    {
     "name": "stdout",
     "output_type": "stream",
     "text": [
      "\n"
     ]
    },
    {
     "name": "stdout",
     "output_type": "stream",
     "text": [
      "\tRUS,  7th phase (25Jul2020 - 10Aug2020): finished 2031 trials in 1 min  0 sec"
     ]
    },
    {
     "name": "stdout",
     "output_type": "stream",
     "text": [
      "\n"
     ]
    },
    {
     "name": "stdout",
     "output_type": "stream",
     "text": [
      "\tMEX,  6th phase (31Jul2020 - 10Aug2020): finished  258 trials in 0 min  5 sec"
     ]
    },
    {
     "name": "stdout",
     "output_type": "stream",
     "text": [
      "\n"
     ]
    },
    {
     "name": "stdout",
     "output_type": "stream",
     "text": [
      "\tPER,  7th phase (18Aug2020 - 28Aug2020): finished 2023 trials in 1 min  0 sec"
     ]
    },
    {
     "name": "stdout",
     "output_type": "stream",
     "text": [
      "\n"
     ]
    },
    {
     "name": "stdout",
     "output_type": "stream",
     "text": [
      "\tBGD,  0th phase (16Mar2020 - 04Jun2020): finished 1964 trials in 1 min  0 sec"
     ]
    },
    {
     "name": "stdout",
     "output_type": "stream",
     "text": [
      "\n"
     ]
    },
    {
     "name": "stdout",
     "output_type": "stream",
     "text": [
      "\tBHR,  6th phase (23Jul2020 - 11Aug2020): finished  671 trials in 0 min 15 sec"
     ]
    },
    {
     "name": "stdout",
     "output_type": "stream",
     "text": [
      "\n"
     ]
    },
    {
     "name": "stdout",
     "output_type": "stream",
     "text": [
      "\tIRQ,  0th phase (09Mar2020 - 23Jun2020): finished 1930 trials in 1 min  0 sec"
     ]
    },
    {
     "name": "stdout",
     "output_type": "stream",
     "text": [
      "\n"
     ]
    },
    {
     "name": "stdout",
     "output_type": "stream",
     "text": [
      "\tRUS,  0th phase (12Feb2020 - 07May2020): finished 2026 trials in 1 min  0 sec"
     ]
    },
    {
     "name": "stdout",
     "output_type": "stream",
     "text": [
      "\n"
     ]
    },
    {
     "name": "stdout",
     "output_type": "stream",
     "text": [
      "\tBHR,  1st phase (07May2020 - 31May2020): finished 2016 trials in 1 min  0 sec"
     ]
    },
    {
     "name": "stdout",
     "output_type": "stream",
     "text": [
      "\n"
     ]
    },
    {
     "name": "stdout",
     "output_type": "stream",
     "text": [
      "\tITA,  1st phase (21Mar2020 - 29Mar2020): finished 1203 trials in 0 min 30 sec"
     ]
    },
    {
     "name": "stdout",
     "output_type": "stream",
     "text": [
      "\n"
     ]
    },
    {
     "name": "stdout",
     "output_type": "stream",
     "text": [
      "\tNGA,  1st phase (22May2020 - 08Jun2020): finished 2013 trials in 1 min  0 sec"
     ]
    },
    {
     "name": "stdout",
     "output_type": "stream",
     "text": [
      "\n"
     ]
    },
    {
     "name": "stdout",
     "output_type": "stream",
     "text": [
      "\tDZA,  1st phase (02May2020 - 23May2020): finished 2000 trials in 1 min  0 sec"
     ]
    },
    {
     "name": "stdout",
     "output_type": "stream",
     "text": [
      "\n"
     ]
    },
    {
     "name": "stdout",
     "output_type": "stream",
     "text": [
      "\tBRA,  5th phase (21Jul2020 - 30Jul2020): finished 2018 trials in 1 min  0 sec"
     ]
    },
    {
     "name": "stdout",
     "output_type": "stream",
     "text": [
      "\n"
     ]
    },
    {
     "name": "stdout",
     "output_type": "stream",
     "text": [
      "\tDOM, 10th phase (18Sep2020 - 05Oct2020): finished  259 trials in 0 min  5 sec"
     ]
    },
    {
     "name": "stdout",
     "output_type": "stream",
     "text": [
      "\n"
     ]
    },
    {
     "name": "stdout",
     "output_type": "stream",
     "text": [
      "\tBOL,  6th phase (01Aug2020 - 09Aug2020): finished  263 trials in 0 min  5 sec"
     ]
    },
    {
     "name": "stdout",
     "output_type": "stream",
     "text": [
      "\n"
     ]
    },
    {
     "name": "stdout",
     "output_type": "stream",
     "text": [
      "\tMEX,  5th phase (18Jul2020 - 30Jul2020): finished 2048 trials in 1 min  0 sec"
     ]
    },
    {
     "name": "stdout",
     "output_type": "stream",
     "text": [
      "\n"
     ]
    },
    {
     "name": "stdout",
     "output_type": "stream",
     "text": [
      "\tBGD,  8th phase (24Aug2020 - 03Sep2020): finished  268 trials in 0 min  5 sec"
     ]
    },
    {
     "name": "stdout",
     "output_type": "stream",
     "text": [
      "\n"
     ]
    },
    {
     "name": "stdout",
     "output_type": "stream",
     "text": [
      "\tITA,  7th phase (15Jul2020 - 27Aug2020): finished 2121 trials in 1 min  0 sec"
     ]
    },
    {
     "name": "stdout",
     "output_type": "stream",
     "text": [
      "\n"
     ]
    },
    {
     "name": "stdout",
     "output_type": "stream",
     "text": [
      "Completed optimization. Total: 35 min 56 sec\n"
     ]
    }
   ],
   "source": [
    "# Parameter estimation with SIR-F model\n",
    "analyser.estimate(cs.SIRF)"
   ]
  },
  {
   "cell_type": "code",
   "execution_count": 12,
   "metadata": {
    "collapsed": false
   },
   "outputs": [
    {
     "data": {
      "text/html": [
       "<div>\n",
       "<style scoped>\n",
       "    .dataframe tbody tr th:only-of-type {\n",
       "        vertical-align: middle;\n",
       "    }\n",
       "\n",
       "    .dataframe tbody tr th {\n",
       "        vertical-align: top;\n",
       "    }\n",
       "\n",
       "    .dataframe thead th {\n",
       "        text-align: right;\n",
       "    }\n",
       "</style>\n",
       "<table border=\"1\" class=\"dataframe\">\n",
       "  <thead>\n",
       "    <tr style=\"text-align: right;\">\n",
       "      <th></th>\n",
       "      <th></th>\n",
       "      <th>Type</th>\n",
       "      <th>Start</th>\n",
       "      <th>End</th>\n",
       "      <th>Population</th>\n",
       "      <th>ODE</th>\n",
       "      <th>Rt</th>\n",
       "      <th>theta</th>\n",
       "      <th>kappa</th>\n",
       "      <th>rho</th>\n",
       "      <th>sigma</th>\n",
       "      <th>tau</th>\n",
       "      <th>1/beta [day]</th>\n",
       "      <th>1/alpha2 [day]</th>\n",
       "      <th>1/gamma [day]</th>\n",
       "      <th>alpha1 [-]</th>\n",
       "      <th>RMSLE</th>\n",
       "      <th>Trials</th>\n",
       "      <th>Runtime</th>\n",
       "    </tr>\n",
       "    <tr>\n",
       "      <th>Country</th>\n",
       "      <th>Phase</th>\n",
       "      <th></th>\n",
       "      <th></th>\n",
       "      <th></th>\n",
       "      <th></th>\n",
       "      <th></th>\n",
       "      <th></th>\n",
       "      <th></th>\n",
       "      <th></th>\n",
       "      <th></th>\n",
       "      <th></th>\n",
       "      <th></th>\n",
       "      <th></th>\n",
       "      <th></th>\n",
       "      <th></th>\n",
       "      <th></th>\n",
       "      <th></th>\n",
       "      <th></th>\n",
       "      <th></th>\n",
       "    </tr>\n",
       "  </thead>\n",
       "  <tbody>\n",
       "    <tr>\n",
       "      <th rowspan=\"13\" valign=\"top\">Bolivia</th>\n",
       "      <th>0th</th>\n",
       "      <td>Past</td>\n",
       "      <td>01Apr2020</td>\n",
       "      <td>13Jun2020</td>\n",
       "      <td>11353142</td>\n",
       "      <td>SIR-F</td>\n",
       "      <td>8.49</td>\n",
       "      <td>0.000948</td>\n",
       "      <td>0.000813</td>\n",
       "      <td>0.020592</td>\n",
       "      <td>0.001611</td>\n",
       "      <td>360</td>\n",
       "      <td>12</td>\n",
       "      <td>307</td>\n",
       "      <td>155</td>\n",
       "      <td>0.001</td>\n",
       "      <td>1.344826</td>\n",
       "      <td>1936</td>\n",
       "      <td>1 min  0 sec</td>\n",
       "    </tr>\n",
       "    <tr>\n",
       "      <th>1st</th>\n",
       "      <td>Past</td>\n",
       "      <td>14Jun2020</td>\n",
       "      <td>25Jun2020</td>\n",
       "      <td>11353142</td>\n",
       "      <td>SIR-F</td>\n",
       "      <td>2.33</td>\n",
       "      <td>0.000628</td>\n",
       "      <td>0.000373</td>\n",
       "      <td>0.013057</td>\n",
       "      <td>0.005225</td>\n",
       "      <td>360</td>\n",
       "      <td>19</td>\n",
       "      <td>670</td>\n",
       "      <td>47</td>\n",
       "      <td>0.001</td>\n",
       "      <td>0.026179</td>\n",
       "      <td>2008</td>\n",
       "      <td>1 min  0 sec</td>\n",
       "    </tr>\n",
       "    <tr>\n",
       "      <th>2nd</th>\n",
       "      <td>Past</td>\n",
       "      <td>26Jun2020</td>\n",
       "      <td>05Jul2020</td>\n",
       "      <td>11353142</td>\n",
       "      <td>SIR-F</td>\n",
       "      <td>2.45</td>\n",
       "      <td>0.044230</td>\n",
       "      <td>0.000059</td>\n",
       "      <td>0.012148</td>\n",
       "      <td>0.004679</td>\n",
       "      <td>360</td>\n",
       "      <td>20</td>\n",
       "      <td>4220</td>\n",
       "      <td>53</td>\n",
       "      <td>0.044</td>\n",
       "      <td>0.013818</td>\n",
       "      <td>256</td>\n",
       "      <td>0 min  5 sec</td>\n",
       "    </tr>\n",
       "    <tr>\n",
       "      <th>3rd</th>\n",
       "      <td>Past</td>\n",
       "      <td>06Jul2020</td>\n",
       "      <td>14Jul2020</td>\n",
       "      <td>11353142</td>\n",
       "      <td>SIR-F</td>\n",
       "      <td>2.51</td>\n",
       "      <td>0.034514</td>\n",
       "      <td>0.000090</td>\n",
       "      <td>0.011014</td>\n",
       "      <td>0.004147</td>\n",
       "      <td>360</td>\n",
       "      <td>22</td>\n",
       "      <td>2775</td>\n",
       "      <td>60</td>\n",
       "      <td>0.035</td>\n",
       "      <td>0.005777</td>\n",
       "      <td>873</td>\n",
       "      <td>0 min 20 sec</td>\n",
       "    </tr>\n",
       "    <tr>\n",
       "      <th>4th</th>\n",
       "      <td>Past</td>\n",
       "      <td>15Jul2020</td>\n",
       "      <td>22Jul2020</td>\n",
       "      <td>11353142</td>\n",
       "      <td>SIR-F</td>\n",
       "      <td>3.63</td>\n",
       "      <td>0.017133</td>\n",
       "      <td>0.000180</td>\n",
       "      <td>0.010897</td>\n",
       "      <td>0.002772</td>\n",
       "      <td>360</td>\n",
       "      <td>22</td>\n",
       "      <td>1392</td>\n",
       "      <td>90</td>\n",
       "      <td>0.017</td>\n",
       "      <td>0.017909</td>\n",
       "      <td>1995</td>\n",
       "      <td>1 min  0 sec</td>\n",
       "    </tr>\n",
       "    <tr>\n",
       "      <th>5th</th>\n",
       "      <td>Past</td>\n",
       "      <td>23Jul2020</td>\n",
       "      <td>31Jul2020</td>\n",
       "      <td>11353142</td>\n",
       "      <td>SIR-F</td>\n",
       "      <td>2.81</td>\n",
       "      <td>0.017183</td>\n",
       "      <td>0.000237</td>\n",
       "      <td>0.007699</td>\n",
       "      <td>0.002454</td>\n",
       "      <td>360</td>\n",
       "      <td>32</td>\n",
       "      <td>1055</td>\n",
       "      <td>101</td>\n",
       "      <td>0.017</td>\n",
       "      <td>0.008125</td>\n",
       "      <td>459</td>\n",
       "      <td>0 min 10 sec</td>\n",
       "    </tr>\n",
       "    <tr>\n",
       "      <th>6th</th>\n",
       "      <td>Past</td>\n",
       "      <td>01Aug2020</td>\n",
       "      <td>09Aug2020</td>\n",
       "      <td>11353142</td>\n",
       "      <td>SIR-F</td>\n",
       "      <td>1.86</td>\n",
       "      <td>0.039504</td>\n",
       "      <td>0.000054</td>\n",
       "      <td>0.006684</td>\n",
       "      <td>0.003397</td>\n",
       "      <td>360</td>\n",
       "      <td>37</td>\n",
       "      <td>4601</td>\n",
       "      <td>73</td>\n",
       "      <td>0.040</td>\n",
       "      <td>0.016880</td>\n",
       "      <td>263</td>\n",
       "      <td>0 min  5 sec</td>\n",
       "    </tr>\n",
       "    <tr>\n",
       "      <th>7th</th>\n",
       "      <td>Past</td>\n",
       "      <td>10Aug2020</td>\n",
       "      <td>17Aug2020</td>\n",
       "      <td>11353142</td>\n",
       "      <td>SIR-F</td>\n",
       "      <td>1.24</td>\n",
       "      <td>0.018271</td>\n",
       "      <td>0.000162</td>\n",
       "      <td>0.005346</td>\n",
       "      <td>0.004059</td>\n",
       "      <td>360</td>\n",
       "      <td>46</td>\n",
       "      <td>1542</td>\n",
       "      <td>61</td>\n",
       "      <td>0.018</td>\n",
       "      <td>0.010728</td>\n",
       "      <td>257</td>\n",
       "      <td>0 min  5 sec</td>\n",
       "    </tr>\n",
       "    <tr>\n",
       "      <th>8th</th>\n",
       "      <td>Past</td>\n",
       "      <td>18Aug2020</td>\n",
       "      <td>25Aug2020</td>\n",
       "      <td>11353142</td>\n",
       "      <td>SIR-F</td>\n",
       "      <td>0.69</td>\n",
       "      <td>0.017066</td>\n",
       "      <td>0.000212</td>\n",
       "      <td>0.004388</td>\n",
       "      <td>0.006071</td>\n",
       "      <td>360</td>\n",
       "      <td>56</td>\n",
       "      <td>1179</td>\n",
       "      <td>41</td>\n",
       "      <td>0.017</td>\n",
       "      <td>0.015118</td>\n",
       "      <td>683</td>\n",
       "      <td>0 min 15 sec</td>\n",
       "    </tr>\n",
       "    <tr>\n",
       "      <th>9th</th>\n",
       "      <td>Past</td>\n",
       "      <td>26Aug2020</td>\n",
       "      <td>03Sep2020</td>\n",
       "      <td>11353142</td>\n",
       "      <td>SIR-F</td>\n",
       "      <td>0.43</td>\n",
       "      <td>0.019029</td>\n",
       "      <td>0.000237</td>\n",
       "      <td>0.004181</td>\n",
       "      <td>0.009233</td>\n",
       "      <td>360</td>\n",
       "      <td>59</td>\n",
       "      <td>1054</td>\n",
       "      <td>27</td>\n",
       "      <td>0.019</td>\n",
       "      <td>0.004476</td>\n",
       "      <td>256</td>\n",
       "      <td>0 min  5 sec</td>\n",
       "    </tr>\n",
       "    <tr>\n",
       "      <th>10th</th>\n",
       "      <td>Past</td>\n",
       "      <td>04Sep2020</td>\n",
       "      <td>12Sep2020</td>\n",
       "      <td>11353142</td>\n",
       "      <td>SIR-F</td>\n",
       "      <td>0.32</td>\n",
       "      <td>0.198513</td>\n",
       "      <td>0.000851</td>\n",
       "      <td>0.004941</td>\n",
       "      <td>0.011488</td>\n",
       "      <td>360</td>\n",
       "      <td>50</td>\n",
       "      <td>293</td>\n",
       "      <td>21</td>\n",
       "      <td>0.199</td>\n",
       "      <td>0.041960</td>\n",
       "      <td>1977</td>\n",
       "      <td>1 min  0 sec</td>\n",
       "    </tr>\n",
       "    <tr>\n",
       "      <th>11th</th>\n",
       "      <td>Past</td>\n",
       "      <td>13Sep2020</td>\n",
       "      <td>27Sep2020</td>\n",
       "      <td>11353142</td>\n",
       "      <td>SIR-F</td>\n",
       "      <td>0.69</td>\n",
       "      <td>0.000740</td>\n",
       "      <td>0.000284</td>\n",
       "      <td>0.003775</td>\n",
       "      <td>0.005145</td>\n",
       "      <td>360</td>\n",
       "      <td>66</td>\n",
       "      <td>880</td>\n",
       "      <td>48</td>\n",
       "      <td>0.001</td>\n",
       "      <td>0.005172</td>\n",
       "      <td>472</td>\n",
       "      <td>0 min 10 sec</td>\n",
       "    </tr>\n",
       "    <tr>\n",
       "      <th>12th</th>\n",
       "      <td>Past</td>\n",
       "      <td>28Sep2020</td>\n",
       "      <td>25Oct2020</td>\n",
       "      <td>11353142</td>\n",
       "      <td>SIR-F</td>\n",
       "      <td>0.41</td>\n",
       "      <td>0.092735</td>\n",
       "      <td>0.000039</td>\n",
       "      <td>0.002230</td>\n",
       "      <td>0.004851</td>\n",
       "      <td>360</td>\n",
       "      <td>112</td>\n",
       "      <td>6354</td>\n",
       "      <td>51</td>\n",
       "      <td>0.093</td>\n",
       "      <td>0.050223</td>\n",
       "      <td>469</td>\n",
       "      <td>0 min 10 sec</td>\n",
       "    </tr>\n",
       "    <tr>\n",
       "      <th rowspan=\"13\" valign=\"top\">Russia</th>\n",
       "      <th>0th</th>\n",
       "      <td>Past</td>\n",
       "      <td>12Feb2020</td>\n",
       "      <td>07May2020</td>\n",
       "      <td>330457362</td>\n",
       "      <td>SIR-F</td>\n",
       "      <td>0.02</td>\n",
       "      <td>0.602763</td>\n",
       "      <td>0.544883</td>\n",
       "      <td>0.033660</td>\n",
       "      <td>0.002318</td>\n",
       "      <td>360</td>\n",
       "      <td>7</td>\n",
       "      <td>0</td>\n",
       "      <td>107</td>\n",
       "      <td>0.603</td>\n",
       "      <td>19.313273</td>\n",
       "      <td>2026</td>\n",
       "      <td>1 min  0 sec</td>\n",
       "    </tr>\n",
       "    <tr>\n",
       "      <th>1st</th>\n",
       "      <td>Past</td>\n",
       "      <td>08May2020</td>\n",
       "      <td>19May2020</td>\n",
       "      <td>330457362</td>\n",
       "      <td>SIR-F</td>\n",
       "      <td>2.43</td>\n",
       "      <td>0.000905</td>\n",
       "      <td>0.000108</td>\n",
       "      <td>0.011584</td>\n",
       "      <td>0.004649</td>\n",
       "      <td>360</td>\n",
       "      <td>21</td>\n",
       "      <td>2321</td>\n",
       "      <td>53</td>\n",
       "      <td>0.001</td>\n",
       "      <td>0.103062</td>\n",
       "      <td>1987</td>\n",
       "      <td>1 min  0 sec</td>\n",
       "    </tr>\n",
       "    <tr>\n",
       "      <th>2nd</th>\n",
       "      <td>Past</td>\n",
       "      <td>20May2020</td>\n",
       "      <td>31May2020</td>\n",
       "      <td>330457362</td>\n",
       "      <td>SIR-F</td>\n",
       "      <td>1.04</td>\n",
       "      <td>0.000673</td>\n",
       "      <td>0.000117</td>\n",
       "      <td>0.006019</td>\n",
       "      <td>0.005647</td>\n",
       "      <td>360</td>\n",
       "      <td>41</td>\n",
       "      <td>2144</td>\n",
       "      <td>44</td>\n",
       "      <td>0.001</td>\n",
       "      <td>0.125046</td>\n",
       "      <td>1941</td>\n",
       "      <td>1 min  0 sec</td>\n",
       "    </tr>\n",
       "    <tr>\n",
       "      <th>3rd</th>\n",
       "      <td>Past</td>\n",
       "      <td>01Jun2020</td>\n",
       "      <td>12Jun2020</td>\n",
       "      <td>330457362</td>\n",
       "      <td>SIR-F</td>\n",
       "      <td>0.89</td>\n",
       "      <td>0.000543</td>\n",
       "      <td>0.000094</td>\n",
       "      <td>0.004678</td>\n",
       "      <td>0.005135</td>\n",
       "      <td>360</td>\n",
       "      <td>53</td>\n",
       "      <td>2646</td>\n",
       "      <td>48</td>\n",
       "      <td>0.001</td>\n",
       "      <td>0.106463</td>\n",
       "      <td>2001</td>\n",
       "      <td>1 min  0 sec</td>\n",
       "    </tr>\n",
       "    <tr>\n",
       "      <th>4th</th>\n",
       "      <td>Past</td>\n",
       "      <td>13Jun2020</td>\n",
       "      <td>26Jun2020</td>\n",
       "      <td>330457362</td>\n",
       "      <td>SIR-F</td>\n",
       "      <td>0.94</td>\n",
       "      <td>0.001330</td>\n",
       "      <td>0.000069</td>\n",
       "      <td>0.003437</td>\n",
       "      <td>0.003586</td>\n",
       "      <td>360</td>\n",
       "      <td>72</td>\n",
       "      <td>3612</td>\n",
       "      <td>69</td>\n",
       "      <td>0.001</td>\n",
       "      <td>0.095487</td>\n",
       "      <td>1986</td>\n",
       "      <td>1 min  0 sec</td>\n",
       "    </tr>\n",
       "    <tr>\n",
       "      <th>5th</th>\n",
       "      <td>Past</td>\n",
       "      <td>27Jun2020</td>\n",
       "      <td>10Jul2020</td>\n",
       "      <td>330457362</td>\n",
       "      <td>SIR-F</td>\n",
       "      <td>0.95</td>\n",
       "      <td>0.017619</td>\n",
       "      <td>0.000015</td>\n",
       "      <td>0.002488</td>\n",
       "      <td>0.002555</td>\n",
       "      <td>360</td>\n",
       "      <td>100</td>\n",
       "      <td>16217</td>\n",
       "      <td>97</td>\n",
       "      <td>0.018</td>\n",
       "      <td>0.067103</td>\n",
       "      <td>1963</td>\n",
       "      <td>1 min  0 sec</td>\n",
       "    </tr>\n",
       "    <tr>\n",
       "      <th>6th</th>\n",
       "      <td>Past</td>\n",
       "      <td>11Jul2020</td>\n",
       "      <td>24Jul2020</td>\n",
       "      <td>330457362</td>\n",
       "      <td>SIR-F</td>\n",
       "      <td>0.80</td>\n",
       "      <td>0.022288</td>\n",
       "      <td>0.000006</td>\n",
       "      <td>0.001971</td>\n",
       "      <td>0.002414</td>\n",
       "      <td>360</td>\n",
       "      <td>126</td>\n",
       "      <td>40976</td>\n",
       "      <td>103</td>\n",
       "      <td>0.022</td>\n",
       "      <td>0.064555</td>\n",
       "      <td>1954</td>\n",
       "      <td>1 min  0 sec</td>\n",
       "    </tr>\n",
       "    <tr>\n",
       "      <th>7th</th>\n",
       "      <td>Past</td>\n",
       "      <td>25Jul2020</td>\n",
       "      <td>10Aug2020</td>\n",
       "      <td>330457362</td>\n",
       "      <td>SIR-F</td>\n",
       "      <td>1.32</td>\n",
       "      <td>0.016893</td>\n",
       "      <td>0.000010</td>\n",
       "      <td>0.001547</td>\n",
       "      <td>0.001139</td>\n",
       "      <td>360</td>\n",
       "      <td>161</td>\n",
       "      <td>25371</td>\n",
       "      <td>219</td>\n",
       "      <td>0.017</td>\n",
       "      <td>0.054920</td>\n",
       "      <td>2031</td>\n",
       "      <td>1 min  0 sec</td>\n",
       "    </tr>\n",
       "    <tr>\n",
       "      <th>8th</th>\n",
       "      <td>Past</td>\n",
       "      <td>11Aug2020</td>\n",
       "      <td>28Aug2020</td>\n",
       "      <td>330457362</td>\n",
       "      <td>SIR-F</td>\n",
       "      <td>0.76</td>\n",
       "      <td>0.017163</td>\n",
       "      <td>0.000003</td>\n",
       "      <td>0.001272</td>\n",
       "      <td>0.001642</td>\n",
       "      <td>360</td>\n",
       "      <td>196</td>\n",
       "      <td>83162</td>\n",
       "      <td>152</td>\n",
       "      <td>0.017</td>\n",
       "      <td>0.063844</td>\n",
       "      <td>1986</td>\n",
       "      <td>1 min  0 sec</td>\n",
       "    </tr>\n",
       "    <tr>\n",
       "      <th>9th</th>\n",
       "      <td>Past</td>\n",
       "      <td>29Aug2020</td>\n",
       "      <td>15Sep2020</td>\n",
       "      <td>330457362</td>\n",
       "      <td>SIR-F</td>\n",
       "      <td>0.95</td>\n",
       "      <td>0.020570</td>\n",
       "      <td>0.000003</td>\n",
       "      <td>0.001266</td>\n",
       "      <td>0.001300</td>\n",
       "      <td>360</td>\n",
       "      <td>197</td>\n",
       "      <td>83207</td>\n",
       "      <td>192</td>\n",
       "      <td>0.021</td>\n",
       "      <td>0.049266</td>\n",
       "      <td>1997</td>\n",
       "      <td>1 min  0 sec</td>\n",
       "    </tr>\n",
       "    <tr>\n",
       "      <th>10th</th>\n",
       "      <td>Past</td>\n",
       "      <td>16Sep2020</td>\n",
       "      <td>29Sep2020</td>\n",
       "      <td>330457362</td>\n",
       "      <td>SIR-F</td>\n",
       "      <td>1.49</td>\n",
       "      <td>0.015786</td>\n",
       "      <td>0.000006</td>\n",
       "      <td>0.001574</td>\n",
       "      <td>0.001032</td>\n",
       "      <td>360</td>\n",
       "      <td>158</td>\n",
       "      <td>40976</td>\n",
       "      <td>242</td>\n",
       "      <td>0.016</td>\n",
       "      <td>0.023861</td>\n",
       "      <td>1983</td>\n",
       "      <td>1 min  0 sec</td>\n",
       "    </tr>\n",
       "    <tr>\n",
       "      <th>11th</th>\n",
       "      <td>Past</td>\n",
       "      <td>30Sep2020</td>\n",
       "      <td>09Oct2020</td>\n",
       "      <td>330457362</td>\n",
       "      <td>SIR-F</td>\n",
       "      <td>1.76</td>\n",
       "      <td>0.001384</td>\n",
       "      <td>0.000031</td>\n",
       "      <td>0.002207</td>\n",
       "      <td>0.001219</td>\n",
       "      <td>360</td>\n",
       "      <td>113</td>\n",
       "      <td>7999</td>\n",
       "      <td>205</td>\n",
       "      <td>0.001</td>\n",
       "      <td>0.017478</td>\n",
       "      <td>1981</td>\n",
       "      <td>1 min  0 sec</td>\n",
       "    </tr>\n",
       "    <tr>\n",
       "      <th>12th</th>\n",
       "      <td>Past</td>\n",
       "      <td>10Oct2020</td>\n",
       "      <td>25Oct2020</td>\n",
       "      <td>330457362</td>\n",
       "      <td>SIR-F</td>\n",
       "      <td>1.97</td>\n",
       "      <td>0.001843</td>\n",
       "      <td>0.000036</td>\n",
       "      <td>0.002774</td>\n",
       "      <td>0.001373</td>\n",
       "      <td>360</td>\n",
       "      <td>90</td>\n",
       "      <td>6947</td>\n",
       "      <td>182</td>\n",
       "      <td>0.002</td>\n",
       "      <td>0.021565</td>\n",
       "      <td>1978</td>\n",
       "      <td>1 min  0 sec</td>\n",
       "    </tr>\n",
       "  </tbody>\n",
       "</table>\n",
       "</div>"
      ],
      "text/plain": [
       "               Type      Start        End  Population    ODE    Rt     theta  \\\n",
       "Country Phase                                                                  \n",
       "Bolivia 0th    Past  01Apr2020  13Jun2020    11353142  SIR-F  8.49  0.000948   \n",
       "        1st    Past  14Jun2020  25Jun2020    11353142  SIR-F  2.33  0.000628   \n",
       "        2nd    Past  26Jun2020  05Jul2020    11353142  SIR-F  2.45  0.044230   \n",
       "        3rd    Past  06Jul2020  14Jul2020    11353142  SIR-F  2.51  0.034514   \n",
       "        4th    Past  15Jul2020  22Jul2020    11353142  SIR-F  3.63  0.017133   \n",
       "        5th    Past  23Jul2020  31Jul2020    11353142  SIR-F  2.81  0.017183   \n",
       "        6th    Past  01Aug2020  09Aug2020    11353142  SIR-F  1.86  0.039504   \n",
       "        7th    Past  10Aug2020  17Aug2020    11353142  SIR-F  1.24  0.018271   \n",
       "        8th    Past  18Aug2020  25Aug2020    11353142  SIR-F  0.69  0.017066   \n",
       "        9th    Past  26Aug2020  03Sep2020    11353142  SIR-F  0.43  0.019029   \n",
       "        10th   Past  04Sep2020  12Sep2020    11353142  SIR-F  0.32  0.198513   \n",
       "        11th   Past  13Sep2020  27Sep2020    11353142  SIR-F  0.69  0.000740   \n",
       "        12th   Past  28Sep2020  25Oct2020    11353142  SIR-F  0.41  0.092735   \n",
       "Russia  0th    Past  12Feb2020  07May2020   330457362  SIR-F  0.02  0.602763   \n",
       "        1st    Past  08May2020  19May2020   330457362  SIR-F  2.43  0.000905   \n",
       "        2nd    Past  20May2020  31May2020   330457362  SIR-F  1.04  0.000673   \n",
       "        3rd    Past  01Jun2020  12Jun2020   330457362  SIR-F  0.89  0.000543   \n",
       "        4th    Past  13Jun2020  26Jun2020   330457362  SIR-F  0.94  0.001330   \n",
       "        5th    Past  27Jun2020  10Jul2020   330457362  SIR-F  0.95  0.017619   \n",
       "        6th    Past  11Jul2020  24Jul2020   330457362  SIR-F  0.80  0.022288   \n",
       "        7th    Past  25Jul2020  10Aug2020   330457362  SIR-F  1.32  0.016893   \n",
       "        8th    Past  11Aug2020  28Aug2020   330457362  SIR-F  0.76  0.017163   \n",
       "        9th    Past  29Aug2020  15Sep2020   330457362  SIR-F  0.95  0.020570   \n",
       "        10th   Past  16Sep2020  29Sep2020   330457362  SIR-F  1.49  0.015786   \n",
       "        11th   Past  30Sep2020  09Oct2020   330457362  SIR-F  1.76  0.001384   \n",
       "        12th   Past  10Oct2020  25Oct2020   330457362  SIR-F  1.97  0.001843   \n",
       "\n",
       "                  kappa       rho     sigma  tau  1/beta [day]  \\\n",
       "Country Phase                                                    \n",
       "Bolivia 0th    0.000813  0.020592  0.001611  360            12   \n",
       "        1st    0.000373  0.013057  0.005225  360            19   \n",
       "        2nd    0.000059  0.012148  0.004679  360            20   \n",
       "        3rd    0.000090  0.011014  0.004147  360            22   \n",
       "        4th    0.000180  0.010897  0.002772  360            22   \n",
       "        5th    0.000237  0.007699  0.002454  360            32   \n",
       "        6th    0.000054  0.006684  0.003397  360            37   \n",
       "        7th    0.000162  0.005346  0.004059  360            46   \n",
       "        8th    0.000212  0.004388  0.006071  360            56   \n",
       "        9th    0.000237  0.004181  0.009233  360            59   \n",
       "        10th   0.000851  0.004941  0.011488  360            50   \n",
       "        11th   0.000284  0.003775  0.005145  360            66   \n",
       "        12th   0.000039  0.002230  0.004851  360           112   \n",
       "Russia  0th    0.544883  0.033660  0.002318  360             7   \n",
       "        1st    0.000108  0.011584  0.004649  360            21   \n",
       "        2nd    0.000117  0.006019  0.005647  360            41   \n",
       "        3rd    0.000094  0.004678  0.005135  360            53   \n",
       "        4th    0.000069  0.003437  0.003586  360            72   \n",
       "        5th    0.000015  0.002488  0.002555  360           100   \n",
       "        6th    0.000006  0.001971  0.002414  360           126   \n",
       "        7th    0.000010  0.001547  0.001139  360           161   \n",
       "        8th    0.000003  0.001272  0.001642  360           196   \n",
       "        9th    0.000003  0.001266  0.001300  360           197   \n",
       "        10th   0.000006  0.001574  0.001032  360           158   \n",
       "        11th   0.000031  0.002207  0.001219  360           113   \n",
       "        12th   0.000036  0.002774  0.001373  360            90   \n",
       "\n",
       "               1/alpha2 [day]  1/gamma [day]  alpha1 [-]      RMSLE  Trials  \\\n",
       "Country Phase                                                                 \n",
       "Bolivia 0th               307            155       0.001   1.344826    1936   \n",
       "        1st               670             47       0.001   0.026179    2008   \n",
       "        2nd              4220             53       0.044   0.013818     256   \n",
       "        3rd              2775             60       0.035   0.005777     873   \n",
       "        4th              1392             90       0.017   0.017909    1995   \n",
       "        5th              1055            101       0.017   0.008125     459   \n",
       "        6th              4601             73       0.040   0.016880     263   \n",
       "        7th              1542             61       0.018   0.010728     257   \n",
       "        8th              1179             41       0.017   0.015118     683   \n",
       "        9th              1054             27       0.019   0.004476     256   \n",
       "        10th              293             21       0.199   0.041960    1977   \n",
       "        11th              880             48       0.001   0.005172     472   \n",
       "        12th             6354             51       0.093   0.050223     469   \n",
       "Russia  0th                 0            107       0.603  19.313273    2026   \n",
       "        1st              2321             53       0.001   0.103062    1987   \n",
       "        2nd              2144             44       0.001   0.125046    1941   \n",
       "        3rd              2646             48       0.001   0.106463    2001   \n",
       "        4th              3612             69       0.001   0.095487    1986   \n",
       "        5th             16217             97       0.018   0.067103    1963   \n",
       "        6th             40976            103       0.022   0.064555    1954   \n",
       "        7th             25371            219       0.017   0.054920    2031   \n",
       "        8th             83162            152       0.017   0.063844    1986   \n",
       "        9th             83207            192       0.021   0.049266    1997   \n",
       "        10th            40976            242       0.016   0.023861    1983   \n",
       "        11th             7999            205       0.001   0.017478    1981   \n",
       "        12th             6947            182       0.002   0.021565    1978   \n",
       "\n",
       "                    Runtime  \n",
       "Country Phase                \n",
       "Bolivia 0th    1 min  0 sec  \n",
       "        1st    1 min  0 sec  \n",
       "        2nd    0 min  5 sec  \n",
       "        3rd    0 min 20 sec  \n",
       "        4th    1 min  0 sec  \n",
       "        5th    0 min 10 sec  \n",
       "        6th    0 min  5 sec  \n",
       "        7th    0 min  5 sec  \n",
       "        8th    0 min 15 sec  \n",
       "        9th    0 min  5 sec  \n",
       "        10th   1 min  0 sec  \n",
       "        11th   0 min 10 sec  \n",
       "        12th   0 min 10 sec  \n",
       "Russia  0th    1 min  0 sec  \n",
       "        1st    1 min  0 sec  \n",
       "        2nd    1 min  0 sec  \n",
       "        3rd    1 min  0 sec  \n",
       "        4th    1 min  0 sec  \n",
       "        5th    1 min  0 sec  \n",
       "        6th    1 min  0 sec  \n",
       "        7th    1 min  0 sec  \n",
       "        8th    1 min  0 sec  \n",
       "        9th    1 min  0 sec  \n",
       "        10th   1 min  0 sec  \n",
       "        11th   1 min  0 sec  \n",
       "        12th   1 min  0 sec  "
      ]
     },
     "execution_count": 12,
     "metadata": {},
     "output_type": "execute_result"
    }
   ],
   "source": [
    "# Show summary\n",
    "analyser.summary(countries=countries_show)"
   ]
  },
  {
   "cell_type": "markdown",
   "metadata": {},
   "source": [
    "## Compare the history of parameters\n",
    "Here, compare the history of parameter values if countries."
   ]
  },
  {
   "cell_type": "code",
   "execution_count": 13,
   "metadata": {
    "collapsed": false
   },
   "outputs": [
    {
     "data": {
      "text/html": [
       "<div>\n",
       "<style scoped>\n",
       "    .dataframe tbody tr th:only-of-type {\n",
       "        vertical-align: middle;\n",
       "    }\n",
       "\n",
       "    .dataframe tbody tr th {\n",
       "        vertical-align: top;\n",
       "    }\n",
       "\n",
       "    .dataframe thead th {\n",
       "        text-align: right;\n",
       "    }\n",
       "</style>\n",
       "<table border=\"1\" class=\"dataframe\">\n",
       "  <thead>\n",
       "    <tr style=\"text-align: right;\">\n",
       "      <th></th>\n",
       "      <th>Date</th>\n",
       "      <th>Country</th>\n",
       "      <th>theta</th>\n",
       "      <th>kappa</th>\n",
       "      <th>rho</th>\n",
       "      <th>sigma</th>\n",
       "      <th>alpha1 [-]</th>\n",
       "      <th>1/alpha2 [day]</th>\n",
       "      <th>1/beta [day]</th>\n",
       "      <th>1/gamma [day]</th>\n",
       "      <th>...</th>\n",
       "      <th>Cancel_events</th>\n",
       "      <th>Gatherings_restrictions</th>\n",
       "      <th>Transport_closing</th>\n",
       "      <th>Stay_home_restrictions</th>\n",
       "      <th>Internal_movement_restrictions</th>\n",
       "      <th>International_movement_restrictions</th>\n",
       "      <th>Information_campaigns</th>\n",
       "      <th>Testing_policy</th>\n",
       "      <th>Contact_tracing</th>\n",
       "      <th>Stringency_index</th>\n",
       "    </tr>\n",
       "  </thead>\n",
       "  <tbody>\n",
       "    <tr>\n",
       "      <th>0</th>\n",
       "      <td>2020-04-01</td>\n",
       "      <td>Bolivia</td>\n",
       "      <td>0.000948141</td>\n",
       "      <td>0.000812912</td>\n",
       "      <td>0.0205924</td>\n",
       "      <td>0.0016109</td>\n",
       "      <td>0.001</td>\n",
       "      <td>307</td>\n",
       "      <td>12</td>\n",
       "      <td>155</td>\n",
       "      <td>...</td>\n",
       "      <td>2</td>\n",
       "      <td>4</td>\n",
       "      <td>2</td>\n",
       "      <td>2</td>\n",
       "      <td>2</td>\n",
       "      <td>4</td>\n",
       "      <td>2</td>\n",
       "      <td>0</td>\n",
       "      <td>0</td>\n",
       "      <td>96.3</td>\n",
       "    </tr>\n",
       "    <tr>\n",
       "      <th>1</th>\n",
       "      <td>2020-04-02</td>\n",
       "      <td>Bolivia</td>\n",
       "      <td>0.000948141</td>\n",
       "      <td>0.000812912</td>\n",
       "      <td>0.0205924</td>\n",
       "      <td>0.0016109</td>\n",
       "      <td>0.001</td>\n",
       "      <td>307</td>\n",
       "      <td>12</td>\n",
       "      <td>155</td>\n",
       "      <td>...</td>\n",
       "      <td>2</td>\n",
       "      <td>4</td>\n",
       "      <td>2</td>\n",
       "      <td>2</td>\n",
       "      <td>2</td>\n",
       "      <td>4</td>\n",
       "      <td>2</td>\n",
       "      <td>0</td>\n",
       "      <td>0</td>\n",
       "      <td>96.3</td>\n",
       "    </tr>\n",
       "    <tr>\n",
       "      <th>2</th>\n",
       "      <td>2020-04-03</td>\n",
       "      <td>Bolivia</td>\n",
       "      <td>0.000948141</td>\n",
       "      <td>0.000812912</td>\n",
       "      <td>0.0205924</td>\n",
       "      <td>0.0016109</td>\n",
       "      <td>0.001</td>\n",
       "      <td>307</td>\n",
       "      <td>12</td>\n",
       "      <td>155</td>\n",
       "      <td>...</td>\n",
       "      <td>2</td>\n",
       "      <td>4</td>\n",
       "      <td>2</td>\n",
       "      <td>2</td>\n",
       "      <td>2</td>\n",
       "      <td>4</td>\n",
       "      <td>2</td>\n",
       "      <td>0</td>\n",
       "      <td>0</td>\n",
       "      <td>96.3</td>\n",
       "    </tr>\n",
       "    <tr>\n",
       "      <th>3</th>\n",
       "      <td>2020-04-04</td>\n",
       "      <td>Bolivia</td>\n",
       "      <td>0.000948141</td>\n",
       "      <td>0.000812912</td>\n",
       "      <td>0.0205924</td>\n",
       "      <td>0.0016109</td>\n",
       "      <td>0.001</td>\n",
       "      <td>307</td>\n",
       "      <td>12</td>\n",
       "      <td>155</td>\n",
       "      <td>...</td>\n",
       "      <td>2</td>\n",
       "      <td>4</td>\n",
       "      <td>2</td>\n",
       "      <td>2</td>\n",
       "      <td>2</td>\n",
       "      <td>4</td>\n",
       "      <td>2</td>\n",
       "      <td>0</td>\n",
       "      <td>0</td>\n",
       "      <td>96.3</td>\n",
       "    </tr>\n",
       "    <tr>\n",
       "      <th>4</th>\n",
       "      <td>2020-04-05</td>\n",
       "      <td>Bolivia</td>\n",
       "      <td>0.000948141</td>\n",
       "      <td>0.000812912</td>\n",
       "      <td>0.0205924</td>\n",
       "      <td>0.0016109</td>\n",
       "      <td>0.001</td>\n",
       "      <td>307</td>\n",
       "      <td>12</td>\n",
       "      <td>155</td>\n",
       "      <td>...</td>\n",
       "      <td>2</td>\n",
       "      <td>4</td>\n",
       "      <td>2</td>\n",
       "      <td>2</td>\n",
       "      <td>2</td>\n",
       "      <td>4</td>\n",
       "      <td>2</td>\n",
       "      <td>0</td>\n",
       "      <td>0</td>\n",
       "      <td>96.3</td>\n",
       "    </tr>\n",
       "  </tbody>\n",
       "</table>\n",
       "<p>5 rows × 23 columns</p>\n",
       "</div>"
      ],
      "text/plain": [
       "        Date  Country        theta        kappa        rho      sigma  \\\n",
       "0 2020-04-01  Bolivia  0.000948141  0.000812912  0.0205924  0.0016109   \n",
       "1 2020-04-02  Bolivia  0.000948141  0.000812912  0.0205924  0.0016109   \n",
       "2 2020-04-03  Bolivia  0.000948141  0.000812912  0.0205924  0.0016109   \n",
       "3 2020-04-04  Bolivia  0.000948141  0.000812912  0.0205924  0.0016109   \n",
       "4 2020-04-05  Bolivia  0.000948141  0.000812912  0.0205924  0.0016109   \n",
       "\n",
       "  alpha1 [-] 1/alpha2 [day] 1/beta [day] 1/gamma [day]  ... Cancel_events  \\\n",
       "0      0.001            307           12           155  ...             2   \n",
       "1      0.001            307           12           155  ...             2   \n",
       "2      0.001            307           12           155  ...             2   \n",
       "3      0.001            307           12           155  ...             2   \n",
       "4      0.001            307           12           155  ...             2   \n",
       "\n",
       "   Gatherings_restrictions  Transport_closing  Stay_home_restrictions  \\\n",
       "0                        4                  2                       2   \n",
       "1                        4                  2                       2   \n",
       "2                        4                  2                       2   \n",
       "3                        4                  2                       2   \n",
       "4                        4                  2                       2   \n",
       "\n",
       "   Internal_movement_restrictions  International_movement_restrictions  \\\n",
       "0                               2                                    4   \n",
       "1                               2                                    4   \n",
       "2                               2                                    4   \n",
       "3                               2                                    4   \n",
       "4                               2                                    4   \n",
       "\n",
       "   Information_campaigns  Testing_policy  Contact_tracing  Stringency_index  \n",
       "0                      2               0                0              96.3  \n",
       "1                      2               0                0              96.3  \n",
       "2                      2               0                0              96.3  \n",
       "3                      2               0                0              96.3  \n",
       "4                      2               0                0              96.3  \n",
       "\n",
       "[5 rows x 23 columns]"
      ]
     },
     "execution_count": 13,
     "metadata": {},
     "output_type": "execute_result"
    }
   ],
   "source": [
    "# All parameter/day parameter/Rt/OxCGRT\n",
    "analyser.track().head()"
   ]
  },
  {
   "cell_type": "markdown",
   "metadata": {},
   "source": [
    "### $Rt$: Reprodcution number $\\mathrm{[-]}$"
   ]
  },
  {
   "cell_type": "code",
   "execution_count": 14,
   "metadata": {
    "collapsed": false
   },
   "outputs": [
    {
     "data": {
      "image/png": "[encoded data removed]",
      "text/plain": [
       "<Figure size 648x432 with 1 Axes>"
      ]
     },
     "metadata": {},
     "output_type": "display_data"
    },
    {
     "data": {
      "text/html": [
       "<div>\n",
       "<style scoped>\n",
       "    .dataframe tbody tr th:only-of-type {\n",
       "        vertical-align: middle;\n",
       "    }\n",
       "\n",
       "    .dataframe tbody tr th {\n",
       "        vertical-align: top;\n",
       "    }\n",
       "\n",
       "    .dataframe thead th {\n",
       "        text-align: right;\n",
       "    }\n",
       "</style>\n",
       "<table border=\"1\" class=\"dataframe\">\n",
       "  <thead>\n",
       "    <tr style=\"text-align: right;\">\n",
       "      <th>Country</th>\n",
       "      <th>Algeria</th>\n",
       "      <th>Bahrain</th>\n",
       "      <th>Bangladesh</th>\n",
       "      <th>Bolivia</th>\n",
       "      <th>Brazil</th>\n",
       "      <th>Dominican Republic</th>\n",
       "      <th>Egypt</th>\n",
       "      <th>Iran</th>\n",
       "      <th>Iraq</th>\n",
       "      <th>Italy</th>\n",
       "      <th>Kuwait</th>\n",
       "      <th>Mexico</th>\n",
       "      <th>Nigeria</th>\n",
       "      <th>Peru</th>\n",
       "      <th>Russia</th>\n",
       "      <th>Turkey</th>\n",
       "      <th>United Arab Emirates</th>\n",
       "      <th>United States</th>\n",
       "    </tr>\n",
       "    <tr>\n",
       "      <th>Date</th>\n",
       "      <th></th>\n",
       "      <th></th>\n",
       "      <th></th>\n",
       "      <th></th>\n",
       "      <th></th>\n",
       "      <th></th>\n",
       "      <th></th>\n",
       "      <th></th>\n",
       "      <th></th>\n",
       "      <th></th>\n",
       "      <th></th>\n",
       "      <th></th>\n",
       "      <th></th>\n",
       "      <th></th>\n",
       "      <th></th>\n",
       "      <th></th>\n",
       "      <th></th>\n",
       "      <th></th>\n",
       "    </tr>\n",
       "  </thead>\n",
       "  <tbody>\n",
       "    <tr>\n",
       "      <th>2020-10-21</th>\n",
       "      <td>1.46</td>\n",
       "      <td>0.85</td>\n",
       "      <td>0.85</td>\n",
       "      <td>0.41</td>\n",
       "      <td>1.19</td>\n",
       "      <td>0.8</td>\n",
       "      <td>0.19</td>\n",
       "      <td>1.23</td>\n",
       "      <td>1.17</td>\n",
       "      <td>5.41</td>\n",
       "      <td>0.9</td>\n",
       "      <td>1.25</td>\n",
       "      <td>0.73</td>\n",
       "      <td>0.56</td>\n",
       "      <td>1.97</td>\n",
       "      <td>1.13</td>\n",
       "      <td>0.92</td>\n",
       "      <td>2.02</td>\n",
       "    </tr>\n",
       "    <tr>\n",
       "      <th>2020-10-22</th>\n",
       "      <td>1.46</td>\n",
       "      <td>0.85</td>\n",
       "      <td>0.85</td>\n",
       "      <td>0.41</td>\n",
       "      <td>1.19</td>\n",
       "      <td>0.8</td>\n",
       "      <td>0.19</td>\n",
       "      <td>1.23</td>\n",
       "      <td>1.17</td>\n",
       "      <td>5.41</td>\n",
       "      <td>0.9</td>\n",
       "      <td>1.25</td>\n",
       "      <td>0.73</td>\n",
       "      <td>0.56</td>\n",
       "      <td>1.97</td>\n",
       "      <td>1.13</td>\n",
       "      <td>0.92</td>\n",
       "      <td>2.02</td>\n",
       "    </tr>\n",
       "    <tr>\n",
       "      <th>2020-10-23</th>\n",
       "      <td>1.46</td>\n",
       "      <td>0.85</td>\n",
       "      <td>0.85</td>\n",
       "      <td>0.41</td>\n",
       "      <td>1.19</td>\n",
       "      <td>0.8</td>\n",
       "      <td>0.19</td>\n",
       "      <td>1.23</td>\n",
       "      <td>1.17</td>\n",
       "      <td>5.41</td>\n",
       "      <td>0.9</td>\n",
       "      <td>1.25</td>\n",
       "      <td>0.73</td>\n",
       "      <td>0.56</td>\n",
       "      <td>1.97</td>\n",
       "      <td>1.13</td>\n",
       "      <td>0.92</td>\n",
       "      <td>2.02</td>\n",
       "    </tr>\n",
       "    <tr>\n",
       "      <th>2020-10-24</th>\n",
       "      <td>1.46</td>\n",
       "      <td>0.85</td>\n",
       "      <td>0.85</td>\n",
       "      <td>0.41</td>\n",
       "      <td>1.19</td>\n",
       "      <td>0.8</td>\n",
       "      <td>0.19</td>\n",
       "      <td>1.23</td>\n",
       "      <td>1.17</td>\n",
       "      <td>5.41</td>\n",
       "      <td>0.9</td>\n",
       "      <td>1.25</td>\n",
       "      <td>0.73</td>\n",
       "      <td>0.56</td>\n",
       "      <td>1.97</td>\n",
       "      <td>1.13</td>\n",
       "      <td>0.92</td>\n",
       "      <td>2.02</td>\n",
       "    </tr>\n",
       "    <tr>\n",
       "      <th>2020-10-25</th>\n",
       "      <td>1.46</td>\n",
       "      <td>0.85</td>\n",
       "      <td>0.85</td>\n",
       "      <td>0.41</td>\n",
       "      <td>1.19</td>\n",
       "      <td>0.8</td>\n",
       "      <td>0.19</td>\n",
       "      <td>1.23</td>\n",
       "      <td>1.17</td>\n",
       "      <td>5.41</td>\n",
       "      <td>0.9</td>\n",
       "      <td>1.25</td>\n",
       "      <td>0.73</td>\n",
       "      <td>0.56</td>\n",
       "      <td>1.97</td>\n",
       "      <td>1.13</td>\n",
       "      <td>0.92</td>\n",
       "      <td>2.02</td>\n",
       "    </tr>\n",
       "  </tbody>\n",
       "</table>\n",
       "</div>"
      ],
      "text/plain": [
       "Country     Algeria  Bahrain  Bangladesh  Bolivia  Brazil  Dominican Republic  \\\n",
       "Date                                                                            \n",
       "2020-10-21     1.46     0.85        0.85     0.41    1.19                 0.8   \n",
       "2020-10-22     1.46     0.85        0.85     0.41    1.19                 0.8   \n",
       "2020-10-23     1.46     0.85        0.85     0.41    1.19                 0.8   \n",
       "2020-10-24     1.46     0.85        0.85     0.41    1.19                 0.8   \n",
       "2020-10-25     1.46     0.85        0.85     0.41    1.19                 0.8   \n",
       "\n",
       "Country     Egypt  Iran  Iraq  Italy  Kuwait  Mexico  Nigeria  Peru  Russia  \\\n",
       "Date                                                                          \n",
       "2020-10-21   0.19  1.23  1.17   5.41     0.9    1.25     0.73  0.56    1.97   \n",
       "2020-10-22   0.19  1.23  1.17   5.41     0.9    1.25     0.73  0.56    1.97   \n",
       "2020-10-23   0.19  1.23  1.17   5.41     0.9    1.25     0.73  0.56    1.97   \n",
       "2020-10-24   0.19  1.23  1.17   5.41     0.9    1.25     0.73  0.56    1.97   \n",
       "2020-10-25   0.19  1.23  1.17   5.41     0.9    1.25     0.73  0.56    1.97   \n",
       "\n",
       "Country     Turkey  United Arab Emirates  United States  \n",
       "Date                                                     \n",
       "2020-10-21    1.13                  0.92           2.02  \n",
       "2020-10-22    1.13                  0.92           2.02  \n",
       "2020-10-23    1.13                  0.92           2.02  \n",
       "2020-10-24    1.13                  0.92           2.02  \n",
       "2020-10-25    1.13                  0.92           2.02  "
      ]
     },
     "execution_count": 14,
     "metadata": {},
     "output_type": "execute_result"
    }
   ],
   "source": [
    "analyser.history(\"Rt\", roll_window=None).tail()"
   ]
  },
  {
   "cell_type": "markdown",
   "metadata": {},
   "source": [
    "### $\\rho$: Effective contact rate $\\mathrm{[-]}$"
   ]
  },
  {
   "cell_type": "code",
   "execution_count": 15,
   "metadata": {
    "collapsed": false
   },
   "outputs": [
    {
     "data": {
      "image/png": "[encoded data removed]",
      "text/plain": [
       "<Figure size 648x432 with 1 Axes>"
      ]
     },
     "metadata": {},
     "output_type": "display_data"
    },
    {
     "data": {
      "text/html": [
       "<div>\n",
       "<style scoped>\n",
       "    .dataframe tbody tr th:only-of-type {\n",
       "        vertical-align: middle;\n",
       "    }\n",
       "\n",
       "    .dataframe tbody tr th {\n",
       "        vertical-align: top;\n",
       "    }\n",
       "\n",
       "    .dataframe thead th {\n",
       "        text-align: right;\n",
       "    }\n",
       "</style>\n",
       "<table border=\"1\" class=\"dataframe\">\n",
       "  <thead>\n",
       "    <tr style=\"text-align: right;\">\n",
       "      <th>Country</th>\n",
       "      <th>Algeria</th>\n",
       "      <th>Bahrain</th>\n",
       "      <th>Bangladesh</th>\n",
       "      <th>Bolivia</th>\n",
       "      <th>Brazil</th>\n",
       "      <th>Dominican Republic</th>\n",
       "      <th>Egypt</th>\n",
       "      <th>Iran</th>\n",
       "      <th>Iraq</th>\n",
       "      <th>Italy</th>\n",
       "      <th>Kuwait</th>\n",
       "      <th>Mexico</th>\n",
       "      <th>Nigeria</th>\n",
       "      <th>Peru</th>\n",
       "      <th>Russia</th>\n",
       "      <th>Turkey</th>\n",
       "      <th>United Arab Emirates</th>\n",
       "      <th>United States</th>\n",
       "    </tr>\n",
       "    <tr>\n",
       "      <th>Date</th>\n",
       "      <th></th>\n",
       "      <th></th>\n",
       "      <th></th>\n",
       "      <th></th>\n",
       "      <th></th>\n",
       "      <th></th>\n",
       "      <th></th>\n",
       "      <th></th>\n",
       "      <th></th>\n",
       "      <th></th>\n",
       "      <th></th>\n",
       "      <th></th>\n",
       "      <th></th>\n",
       "      <th></th>\n",
       "      <th></th>\n",
       "      <th></th>\n",
       "      <th></th>\n",
       "      <th></th>\n",
       "    </tr>\n",
       "  </thead>\n",
       "  <tbody>\n",
       "    <tr>\n",
       "      <th>2020-10-21</th>\n",
       "      <td>0.003037</td>\n",
       "      <td>0.023027</td>\n",
       "      <td>0.004138</td>\n",
       "      <td>0.00223</td>\n",
       "      <td>0.012026</td>\n",
       "      <td>0.005403</td>\n",
       "      <td>0.005449</td>\n",
       "      <td>0.015889</td>\n",
       "      <td>0.016048</td>\n",
       "      <td>0.020933</td>\n",
       "      <td>0.018391</td>\n",
       "      <td>0.027082</td>\n",
       "      <td>0.004208</td>\n",
       "      <td>0.0009</td>\n",
       "      <td>0.002774</td>\n",
       "      <td>0.012811</td>\n",
       "      <td>0.028207</td>\n",
       "      <td>0.002622</td>\n",
       "    </tr>\n",
       "    <tr>\n",
       "      <th>2020-10-22</th>\n",
       "      <td>0.003037</td>\n",
       "      <td>0.023027</td>\n",
       "      <td>0.004138</td>\n",
       "      <td>0.00223</td>\n",
       "      <td>0.012026</td>\n",
       "      <td>0.005403</td>\n",
       "      <td>0.005449</td>\n",
       "      <td>0.015889</td>\n",
       "      <td>0.016048</td>\n",
       "      <td>0.020933</td>\n",
       "      <td>0.018391</td>\n",
       "      <td>0.027082</td>\n",
       "      <td>0.004208</td>\n",
       "      <td>0.0009</td>\n",
       "      <td>0.002774</td>\n",
       "      <td>0.012811</td>\n",
       "      <td>0.028207</td>\n",
       "      <td>0.002622</td>\n",
       "    </tr>\n",
       "    <tr>\n",
       "      <th>2020-10-23</th>\n",
       "      <td>0.003037</td>\n",
       "      <td>0.023027</td>\n",
       "      <td>0.004138</td>\n",
       "      <td>0.00223</td>\n",
       "      <td>0.012026</td>\n",
       "      <td>0.005403</td>\n",
       "      <td>0.005449</td>\n",
       "      <td>0.015889</td>\n",
       "      <td>0.016048</td>\n",
       "      <td>0.020933</td>\n",
       "      <td>0.018391</td>\n",
       "      <td>0.027082</td>\n",
       "      <td>0.004208</td>\n",
       "      <td>0.0009</td>\n",
       "      <td>0.002774</td>\n",
       "      <td>0.012811</td>\n",
       "      <td>0.028207</td>\n",
       "      <td>0.002622</td>\n",
       "    </tr>\n",
       "    <tr>\n",
       "      <th>2020-10-24</th>\n",
       "      <td>0.003037</td>\n",
       "      <td>0.023027</td>\n",
       "      <td>0.004138</td>\n",
       "      <td>0.00223</td>\n",
       "      <td>0.012026</td>\n",
       "      <td>0.005403</td>\n",
       "      <td>0.005449</td>\n",
       "      <td>0.015889</td>\n",
       "      <td>0.016048</td>\n",
       "      <td>0.020933</td>\n",
       "      <td>0.018391</td>\n",
       "      <td>0.027082</td>\n",
       "      <td>0.004208</td>\n",
       "      <td>0.0009</td>\n",
       "      <td>0.002774</td>\n",
       "      <td>0.012811</td>\n",
       "      <td>0.028207</td>\n",
       "      <td>0.002622</td>\n",
       "    </tr>\n",
       "    <tr>\n",
       "      <th>2020-10-25</th>\n",
       "      <td>0.003037</td>\n",
       "      <td>0.023027</td>\n",
       "      <td>0.004138</td>\n",
       "      <td>0.00223</td>\n",
       "      <td>0.012026</td>\n",
       "      <td>0.005403</td>\n",
       "      <td>0.005449</td>\n",
       "      <td>0.015889</td>\n",
       "      <td>0.016048</td>\n",
       "      <td>0.020933</td>\n",
       "      <td>0.018391</td>\n",
       "      <td>0.027082</td>\n",
       "      <td>0.004208</td>\n",
       "      <td>0.0009</td>\n",
       "      <td>0.002774</td>\n",
       "      <td>0.012811</td>\n",
       "      <td>0.028207</td>\n",
       "      <td>0.002622</td>\n",
       "    </tr>\n",
       "  </tbody>\n",
       "</table>\n",
       "</div>"
      ],
      "text/plain": [
       "Country      Algeria   Bahrain  Bangladesh  Bolivia    Brazil  \\\n",
       "Date                                                            \n",
       "2020-10-21  0.003037  0.023027    0.004138  0.00223  0.012026   \n",
       "2020-10-22  0.003037  0.023027    0.004138  0.00223  0.012026   \n",
       "2020-10-23  0.003037  0.023027    0.004138  0.00223  0.012026   \n",
       "2020-10-24  0.003037  0.023027    0.004138  0.00223  0.012026   \n",
       "2020-10-25  0.003037  0.023027    0.004138  0.00223  0.012026   \n",
       "\n",
       "Country     Dominican Republic     Egypt      Iran      Iraq     Italy  \\\n",
       "Date                                                                     \n",
       "2020-10-21            0.005403  0.005449  0.015889  0.016048  0.020933   \n",
       "2020-10-22            0.005403  0.005449  0.015889  0.016048  0.020933   \n",
       "2020-10-23            0.005403  0.005449  0.015889  0.016048  0.020933   \n",
       "2020-10-24            0.005403  0.005449  0.015889  0.016048  0.020933   \n",
       "2020-10-25            0.005403  0.005449  0.015889  0.016048  0.020933   \n",
       "\n",
       "Country       Kuwait    Mexico   Nigeria    Peru    Russia    Turkey  \\\n",
       "Date                                                                   \n",
       "2020-10-21  0.018391  0.027082  0.004208  0.0009  0.002774  0.012811   \n",
       "2020-10-22  0.018391  0.027082  0.004208  0.0009  0.002774  0.012811   \n",
       "2020-10-23  0.018391  0.027082  0.004208  0.0009  0.002774  0.012811   \n",
       "2020-10-24  0.018391  0.027082  0.004208  0.0009  0.002774  0.012811   \n",
       "2020-10-25  0.018391  0.027082  0.004208  0.0009  0.002774  0.012811   \n",
       "\n",
       "Country     United Arab Emirates  United States  \n",
       "Date                                             \n",
       "2020-10-21              0.028207       0.002622  \n",
       "2020-10-22              0.028207       0.002622  \n",
       "2020-10-23              0.028207       0.002622  \n",
       "2020-10-24              0.028207       0.002622  \n",
       "2020-10-25              0.028207       0.002622  "
      ]
     },
     "execution_count": 15,
     "metadata": {},
     "output_type": "execute_result"
    }
   ],
   "source": [
    "analyser.history(\"rho\", roll_window=None).tail()"
   ]
  },
  {
   "cell_type": "markdown",
   "metadata": {},
   "source": [
    "### $\\sigma$: Recovery rate $\\mathrm{[-]}$"
   ]
  },
  {
   "cell_type": "code",
   "execution_count": 16,
   "metadata": {
    "collapsed": false
   },
   "outputs": [
    {
     "data": {
      "image/png": "[encoded data removed]",
      "text/plain": [
       "<Figure size 648x432 with 1 Axes>"
      ]
     },
     "metadata": {},
     "output_type": "display_data"
    },
    {
     "data": {
      "text/html": [
       "<div>\n",
       "<style scoped>\n",
       "    .dataframe tbody tr th:only-of-type {\n",
       "        vertical-align: middle;\n",
       "    }\n",
       "\n",
       "    .dataframe tbody tr th {\n",
       "        vertical-align: top;\n",
       "    }\n",
       "\n",
       "    .dataframe thead th {\n",
       "        text-align: right;\n",
       "    }\n",
       "</style>\n",
       "<table border=\"1\" class=\"dataframe\">\n",
       "  <thead>\n",
       "    <tr style=\"text-align: right;\">\n",
       "      <th>Country</th>\n",
       "      <th>Algeria</th>\n",
       "      <th>Bahrain</th>\n",
       "      <th>Bangladesh</th>\n",
       "      <th>Bolivia</th>\n",
       "      <th>Brazil</th>\n",
       "      <th>Dominican Republic</th>\n",
       "      <th>Egypt</th>\n",
       "      <th>Iran</th>\n",
       "      <th>Iraq</th>\n",
       "      <th>Italy</th>\n",
       "      <th>Kuwait</th>\n",
       "      <th>Mexico</th>\n",
       "      <th>Nigeria</th>\n",
       "      <th>Peru</th>\n",
       "      <th>Russia</th>\n",
       "      <th>Turkey</th>\n",
       "      <th>United Arab Emirates</th>\n",
       "      <th>United States</th>\n",
       "    </tr>\n",
       "    <tr>\n",
       "      <th>Date</th>\n",
       "      <th></th>\n",
       "      <th></th>\n",
       "      <th></th>\n",
       "      <th></th>\n",
       "      <th></th>\n",
       "      <th></th>\n",
       "      <th></th>\n",
       "      <th></th>\n",
       "      <th></th>\n",
       "      <th></th>\n",
       "      <th></th>\n",
       "      <th></th>\n",
       "      <th></th>\n",
       "      <th></th>\n",
       "      <th></th>\n",
       "      <th></th>\n",
       "      <th></th>\n",
       "      <th></th>\n",
       "    </tr>\n",
       "  </thead>\n",
       "  <tbody>\n",
       "    <tr>\n",
       "      <th>2020-10-21</th>\n",
       "      <td>0.001998</td>\n",
       "      <td>0.027007</td>\n",
       "      <td>0.00483</td>\n",
       "      <td>0.004851</td>\n",
       "      <td>0.009851</td>\n",
       "      <td>0.006691</td>\n",
       "      <td>0.026694</td>\n",
       "      <td>0.01217</td>\n",
       "      <td>0.013531</td>\n",
       "      <td>0.003745</td>\n",
       "      <td>0.020376</td>\n",
       "      <td>0.019665</td>\n",
       "      <td>0.005733</td>\n",
       "      <td>0.001563</td>\n",
       "      <td>0.001373</td>\n",
       "      <td>0.010785</td>\n",
       "      <td>0.030764</td>\n",
       "      <td>0.001252</td>\n",
       "    </tr>\n",
       "    <tr>\n",
       "      <th>2020-10-22</th>\n",
       "      <td>0.001998</td>\n",
       "      <td>0.027007</td>\n",
       "      <td>0.00483</td>\n",
       "      <td>0.004851</td>\n",
       "      <td>0.009851</td>\n",
       "      <td>0.006691</td>\n",
       "      <td>0.026694</td>\n",
       "      <td>0.01217</td>\n",
       "      <td>0.013531</td>\n",
       "      <td>0.003745</td>\n",
       "      <td>0.020376</td>\n",
       "      <td>0.019665</td>\n",
       "      <td>0.005733</td>\n",
       "      <td>0.001563</td>\n",
       "      <td>0.001373</td>\n",
       "      <td>0.010785</td>\n",
       "      <td>0.030764</td>\n",
       "      <td>0.001252</td>\n",
       "    </tr>\n",
       "    <tr>\n",
       "      <th>2020-10-23</th>\n",
       "      <td>0.001998</td>\n",
       "      <td>0.027007</td>\n",
       "      <td>0.00483</td>\n",
       "      <td>0.004851</td>\n",
       "      <td>0.009851</td>\n",
       "      <td>0.006691</td>\n",
       "      <td>0.026694</td>\n",
       "      <td>0.01217</td>\n",
       "      <td>0.013531</td>\n",
       "      <td>0.003745</td>\n",
       "      <td>0.020376</td>\n",
       "      <td>0.019665</td>\n",
       "      <td>0.005733</td>\n",
       "      <td>0.001563</td>\n",
       "      <td>0.001373</td>\n",
       "      <td>0.010785</td>\n",
       "      <td>0.030764</td>\n",
       "      <td>0.001252</td>\n",
       "    </tr>\n",
       "    <tr>\n",
       "      <th>2020-10-24</th>\n",
       "      <td>0.001998</td>\n",
       "      <td>0.027007</td>\n",
       "      <td>0.00483</td>\n",
       "      <td>0.004851</td>\n",
       "      <td>0.009851</td>\n",
       "      <td>0.006691</td>\n",
       "      <td>0.026694</td>\n",
       "      <td>0.01217</td>\n",
       "      <td>0.013531</td>\n",
       "      <td>0.003745</td>\n",
       "      <td>0.020376</td>\n",
       "      <td>0.019665</td>\n",
       "      <td>0.005733</td>\n",
       "      <td>0.001563</td>\n",
       "      <td>0.001373</td>\n",
       "      <td>0.010785</td>\n",
       "      <td>0.030764</td>\n",
       "      <td>0.001252</td>\n",
       "    </tr>\n",
       "    <tr>\n",
       "      <th>2020-10-25</th>\n",
       "      <td>0.001998</td>\n",
       "      <td>0.027007</td>\n",
       "      <td>0.00483</td>\n",
       "      <td>0.004851</td>\n",
       "      <td>0.009851</td>\n",
       "      <td>0.006691</td>\n",
       "      <td>0.026694</td>\n",
       "      <td>0.01217</td>\n",
       "      <td>0.013531</td>\n",
       "      <td>0.003745</td>\n",
       "      <td>0.020376</td>\n",
       "      <td>0.019665</td>\n",
       "      <td>0.005733</td>\n",
       "      <td>0.001563</td>\n",
       "      <td>0.001373</td>\n",
       "      <td>0.010785</td>\n",
       "      <td>0.030764</td>\n",
       "      <td>0.001252</td>\n",
       "    </tr>\n",
       "  </tbody>\n",
       "</table>\n",
       "</div>"
      ],
      "text/plain": [
       "Country      Algeria   Bahrain  Bangladesh   Bolivia    Brazil  \\\n",
       "Date                                                             \n",
       "2020-10-21  0.001998  0.027007     0.00483  0.004851  0.009851   \n",
       "2020-10-22  0.001998  0.027007     0.00483  0.004851  0.009851   \n",
       "2020-10-23  0.001998  0.027007     0.00483  0.004851  0.009851   \n",
       "2020-10-24  0.001998  0.027007     0.00483  0.004851  0.009851   \n",
       "2020-10-25  0.001998  0.027007     0.00483  0.004851  0.009851   \n",
       "\n",
       "Country     Dominican Republic     Egypt     Iran      Iraq     Italy  \\\n",
       "Date                                                                    \n",
       "2020-10-21            0.006691  0.026694  0.01217  0.013531  0.003745   \n",
       "2020-10-22            0.006691  0.026694  0.01217  0.013531  0.003745   \n",
       "2020-10-23            0.006691  0.026694  0.01217  0.013531  0.003745   \n",
       "2020-10-24            0.006691  0.026694  0.01217  0.013531  0.003745   \n",
       "2020-10-25            0.006691  0.026694  0.01217  0.013531  0.003745   \n",
       "\n",
       "Country       Kuwait    Mexico   Nigeria      Peru    Russia    Turkey  \\\n",
       "Date                                                                     \n",
       "2020-10-21  0.020376  0.019665  0.005733  0.001563  0.001373  0.010785   \n",
       "2020-10-22  0.020376  0.019665  0.005733  0.001563  0.001373  0.010785   \n",
       "2020-10-23  0.020376  0.019665  0.005733  0.001563  0.001373  0.010785   \n",
       "2020-10-24  0.020376  0.019665  0.005733  0.001563  0.001373  0.010785   \n",
       "2020-10-25  0.020376  0.019665  0.005733  0.001563  0.001373  0.010785   \n",
       "\n",
       "Country     United Arab Emirates  United States  \n",
       "Date                                             \n",
       "2020-10-21              0.030764       0.001252  \n",
       "2020-10-22              0.030764       0.001252  \n",
       "2020-10-23              0.030764       0.001252  \n",
       "2020-10-24              0.030764       0.001252  \n",
       "2020-10-25              0.030764       0.001252  "
      ]
     },
     "execution_count": 16,
     "metadata": {},
     "output_type": "execute_result"
    }
   ],
   "source": [
    "analyser.history(\"sigma\", roll_window=None).tail()"
   ]
  },
  {
   "cell_type": "markdown",
   "metadata": {},
   "source": [
    "### $\\kappa$: Mortality rate of infected cases $\\mathrm{[-]}$"
   ]
  },
  {
   "cell_type": "code",
   "execution_count": 17,
   "metadata": {
    "collapsed": false
   },
   "outputs": [
    {
     "data": {
      "image/png": "[encoded data removed]",
      "text/plain": [
       "<Figure size 648x432 with 1 Axes>"
      ]
     },
     "metadata": {},
     "output_type": "display_data"
    },
    {
     "data": {
      "text/html": [
       "<div>\n",
       "<style scoped>\n",
       "    .dataframe tbody tr th:only-of-type {\n",
       "        vertical-align: middle;\n",
       "    }\n",
       "\n",
       "    .dataframe tbody tr th {\n",
       "        vertical-align: top;\n",
       "    }\n",
       "\n",
       "    .dataframe thead th {\n",
       "        text-align: right;\n",
       "    }\n",
       "</style>\n",
       "<table border=\"1\" class=\"dataframe\">\n",
       "  <thead>\n",
       "    <tr style=\"text-align: right;\">\n",
       "      <th>Country</th>\n",
       "      <th>Algeria</th>\n",
       "      <th>Bahrain</th>\n",
       "      <th>Bangladesh</th>\n",
       "      <th>Bolivia</th>\n",
       "      <th>Brazil</th>\n",
       "      <th>Dominican Republic</th>\n",
       "      <th>Egypt</th>\n",
       "      <th>Iran</th>\n",
       "      <th>Iraq</th>\n",
       "      <th>Italy</th>\n",
       "      <th>Kuwait</th>\n",
       "      <th>Mexico</th>\n",
       "      <th>Nigeria</th>\n",
       "      <th>Peru</th>\n",
       "      <th>Russia</th>\n",
       "      <th>Turkey</th>\n",
       "      <th>United Arab Emirates</th>\n",
       "      <th>United States</th>\n",
       "    </tr>\n",
       "    <tr>\n",
       "      <th>Date</th>\n",
       "      <th></th>\n",
       "      <th></th>\n",
       "      <th></th>\n",
       "      <th></th>\n",
       "      <th></th>\n",
       "      <th></th>\n",
       "      <th></th>\n",
       "      <th></th>\n",
       "      <th></th>\n",
       "      <th></th>\n",
       "      <th></th>\n",
       "      <th></th>\n",
       "      <th></th>\n",
       "      <th></th>\n",
       "      <th></th>\n",
       "      <th></th>\n",
       "      <th></th>\n",
       "      <th></th>\n",
       "    </tr>\n",
       "  </thead>\n",
       "  <tbody>\n",
       "    <tr>\n",
       "      <th>2020-10-21</th>\n",
       "      <td>0.000048</td>\n",
       "      <td>0.000059</td>\n",
       "      <td>0.00006</td>\n",
       "      <td>0.000039</td>\n",
       "      <td>0.000106</td>\n",
       "      <td>0.000071</td>\n",
       "      <td>0.000059</td>\n",
       "      <td>0.000296</td>\n",
       "      <td>0.000237</td>\n",
       "      <td>0.000122</td>\n",
       "      <td>0.000071</td>\n",
       "      <td>0.000421</td>\n",
       "      <td>0.000031</td>\n",
       "      <td>0.000008</td>\n",
       "      <td>0.000036</td>\n",
       "      <td>0.000517</td>\n",
       "      <td>0.000057</td>\n",
       "      <td>0.000046</td>\n",
       "    </tr>\n",
       "    <tr>\n",
       "      <th>2020-10-22</th>\n",
       "      <td>0.000048</td>\n",
       "      <td>0.000059</td>\n",
       "      <td>0.00006</td>\n",
       "      <td>0.000039</td>\n",
       "      <td>0.000106</td>\n",
       "      <td>0.000071</td>\n",
       "      <td>0.000059</td>\n",
       "      <td>0.000296</td>\n",
       "      <td>0.000237</td>\n",
       "      <td>0.000122</td>\n",
       "      <td>0.000071</td>\n",
       "      <td>0.000421</td>\n",
       "      <td>0.000031</td>\n",
       "      <td>0.000008</td>\n",
       "      <td>0.000036</td>\n",
       "      <td>0.000517</td>\n",
       "      <td>0.000057</td>\n",
       "      <td>0.000046</td>\n",
       "    </tr>\n",
       "    <tr>\n",
       "      <th>2020-10-23</th>\n",
       "      <td>0.000048</td>\n",
       "      <td>0.000059</td>\n",
       "      <td>0.00006</td>\n",
       "      <td>0.000039</td>\n",
       "      <td>0.000106</td>\n",
       "      <td>0.000071</td>\n",
       "      <td>0.000059</td>\n",
       "      <td>0.000296</td>\n",
       "      <td>0.000237</td>\n",
       "      <td>0.000122</td>\n",
       "      <td>0.000071</td>\n",
       "      <td>0.000421</td>\n",
       "      <td>0.000031</td>\n",
       "      <td>0.000008</td>\n",
       "      <td>0.000036</td>\n",
       "      <td>0.000517</td>\n",
       "      <td>0.000057</td>\n",
       "      <td>0.000046</td>\n",
       "    </tr>\n",
       "    <tr>\n",
       "      <th>2020-10-24</th>\n",
       "      <td>0.000048</td>\n",
       "      <td>0.000059</td>\n",
       "      <td>0.00006</td>\n",
       "      <td>0.000039</td>\n",
       "      <td>0.000106</td>\n",
       "      <td>0.000071</td>\n",
       "      <td>0.000059</td>\n",
       "      <td>0.000296</td>\n",
       "      <td>0.000237</td>\n",
       "      <td>0.000122</td>\n",
       "      <td>0.000071</td>\n",
       "      <td>0.000421</td>\n",
       "      <td>0.000031</td>\n",
       "      <td>0.000008</td>\n",
       "      <td>0.000036</td>\n",
       "      <td>0.000517</td>\n",
       "      <td>0.000057</td>\n",
       "      <td>0.000046</td>\n",
       "    </tr>\n",
       "    <tr>\n",
       "      <th>2020-10-25</th>\n",
       "      <td>0.000048</td>\n",
       "      <td>0.000059</td>\n",
       "      <td>0.00006</td>\n",
       "      <td>0.000039</td>\n",
       "      <td>0.000106</td>\n",
       "      <td>0.000071</td>\n",
       "      <td>0.000059</td>\n",
       "      <td>0.000296</td>\n",
       "      <td>0.000237</td>\n",
       "      <td>0.000122</td>\n",
       "      <td>0.000071</td>\n",
       "      <td>0.000421</td>\n",
       "      <td>0.000031</td>\n",
       "      <td>0.000008</td>\n",
       "      <td>0.000036</td>\n",
       "      <td>0.000517</td>\n",
       "      <td>0.000057</td>\n",
       "      <td>0.000046</td>\n",
       "    </tr>\n",
       "  </tbody>\n",
       "</table>\n",
       "</div>"
      ],
      "text/plain": [
       "Country      Algeria   Bahrain  Bangladesh   Bolivia    Brazil  \\\n",
       "Date                                                             \n",
       "2020-10-21  0.000048  0.000059     0.00006  0.000039  0.000106   \n",
       "2020-10-22  0.000048  0.000059     0.00006  0.000039  0.000106   \n",
       "2020-10-23  0.000048  0.000059     0.00006  0.000039  0.000106   \n",
       "2020-10-24  0.000048  0.000059     0.00006  0.000039  0.000106   \n",
       "2020-10-25  0.000048  0.000059     0.00006  0.000039  0.000106   \n",
       "\n",
       "Country     Dominican Republic     Egypt      Iran      Iraq     Italy  \\\n",
       "Date                                                                     \n",
       "2020-10-21            0.000071  0.000059  0.000296  0.000237  0.000122   \n",
       "2020-10-22            0.000071  0.000059  0.000296  0.000237  0.000122   \n",
       "2020-10-23            0.000071  0.000059  0.000296  0.000237  0.000122   \n",
       "2020-10-24            0.000071  0.000059  0.000296  0.000237  0.000122   \n",
       "2020-10-25            0.000071  0.000059  0.000296  0.000237  0.000122   \n",
       "\n",
       "Country       Kuwait    Mexico   Nigeria      Peru    Russia    Turkey  \\\n",
       "Date                                                                     \n",
       "2020-10-21  0.000071  0.000421  0.000031  0.000008  0.000036  0.000517   \n",
       "2020-10-22  0.000071  0.000421  0.000031  0.000008  0.000036  0.000517   \n",
       "2020-10-23  0.000071  0.000421  0.000031  0.000008  0.000036  0.000517   \n",
       "2020-10-24  0.000071  0.000421  0.000031  0.000008  0.000036  0.000517   \n",
       "2020-10-25  0.000071  0.000421  0.000031  0.000008  0.000036  0.000517   \n",
       "\n",
       "Country     United Arab Emirates  United States  \n",
       "Date                                             \n",
       "2020-10-21              0.000057       0.000046  \n",
       "2020-10-22              0.000057       0.000046  \n",
       "2020-10-23              0.000057       0.000046  \n",
       "2020-10-24              0.000057       0.000046  \n",
       "2020-10-25              0.000057       0.000046  "
      ]
     },
     "execution_count": 17,
     "metadata": {},
     "output_type": "execute_result"
    }
   ],
   "source": [
    "analyser.history(\"kappa\", roll_window=None).tail()"
   ]
  },
  {
   "cell_type": "markdown",
   "metadata": {},
   "source": [
    "### $\\theta$: Mortality rate of S$^\\ast$ cases $\\mathrm{[-]}$"
   ]
  },
  {
   "cell_type": "code",
   "execution_count": 18,
   "metadata": {
    "collapsed": false
   },
   "outputs": [
    {
     "data": {
      "image/png": "[encoded data removed]",
      "text/plain": [
       "<Figure size 648x432 with 1 Axes>"
      ]
     },
     "metadata": {},
     "output_type": "display_data"
    },
    {
     "data": {
      "text/html": [
       "<div>\n",
       "<style scoped>\n",
       "    .dataframe tbody tr th:only-of-type {\n",
       "        vertical-align: middle;\n",
       "    }\n",
       "\n",
       "    .dataframe tbody tr th {\n",
       "        vertical-align: top;\n",
       "    }\n",
       "\n",
       "    .dataframe thead th {\n",
       "        text-align: right;\n",
       "    }\n",
       "</style>\n",
       "<table border=\"1\" class=\"dataframe\">\n",
       "  <thead>\n",
       "    <tr style=\"text-align: right;\">\n",
       "      <th>Country</th>\n",
       "      <th>Algeria</th>\n",
       "      <th>Bahrain</th>\n",
       "      <th>Bangladesh</th>\n",
       "      <th>Bolivia</th>\n",
       "      <th>Brazil</th>\n",
       "      <th>Dominican Republic</th>\n",
       "      <th>Egypt</th>\n",
       "      <th>Iran</th>\n",
       "      <th>Iraq</th>\n",
       "      <th>Italy</th>\n",
       "      <th>Kuwait</th>\n",
       "      <th>Mexico</th>\n",
       "      <th>Nigeria</th>\n",
       "      <th>Peru</th>\n",
       "      <th>Russia</th>\n",
       "      <th>Turkey</th>\n",
       "      <th>United Arab Emirates</th>\n",
       "      <th>United States</th>\n",
       "    </tr>\n",
       "    <tr>\n",
       "      <th>Date</th>\n",
       "      <th></th>\n",
       "      <th></th>\n",
       "      <th></th>\n",
       "      <th></th>\n",
       "      <th></th>\n",
       "      <th></th>\n",
       "      <th></th>\n",
       "      <th></th>\n",
       "      <th></th>\n",
       "      <th></th>\n",
       "      <th></th>\n",
       "      <th></th>\n",
       "      <th></th>\n",
       "      <th></th>\n",
       "      <th></th>\n",
       "      <th></th>\n",
       "      <th></th>\n",
       "      <th></th>\n",
       "    </tr>\n",
       "  </thead>\n",
       "  <tbody>\n",
       "    <tr>\n",
       "      <th>2020-10-21</th>\n",
       "      <td>0.017381</td>\n",
       "      <td>0.002688</td>\n",
       "      <td>0.000288</td>\n",
       "      <td>0.092735</td>\n",
       "      <td>0.018727</td>\n",
       "      <td>0.000931</td>\n",
       "      <td>0.085019</td>\n",
       "      <td>0.037618</td>\n",
       "      <td>0.000108</td>\n",
       "      <td>0.00006</td>\n",
       "      <td>0.001303</td>\n",
       "      <td>0.069693</td>\n",
       "      <td>0.000947</td>\n",
       "      <td>0.0164</td>\n",
       "      <td>0.001843</td>\n",
       "      <td>0.00479</td>\n",
       "      <td>0.000164</td>\n",
       "      <td>0.001549</td>\n",
       "    </tr>\n",
       "    <tr>\n",
       "      <th>2020-10-22</th>\n",
       "      <td>0.017381</td>\n",
       "      <td>0.002688</td>\n",
       "      <td>0.000288</td>\n",
       "      <td>0.092735</td>\n",
       "      <td>0.018727</td>\n",
       "      <td>0.000931</td>\n",
       "      <td>0.085019</td>\n",
       "      <td>0.037618</td>\n",
       "      <td>0.000108</td>\n",
       "      <td>0.00006</td>\n",
       "      <td>0.001303</td>\n",
       "      <td>0.069693</td>\n",
       "      <td>0.000947</td>\n",
       "      <td>0.0164</td>\n",
       "      <td>0.001843</td>\n",
       "      <td>0.00479</td>\n",
       "      <td>0.000164</td>\n",
       "      <td>0.001549</td>\n",
       "    </tr>\n",
       "    <tr>\n",
       "      <th>2020-10-23</th>\n",
       "      <td>0.017381</td>\n",
       "      <td>0.002688</td>\n",
       "      <td>0.000288</td>\n",
       "      <td>0.092735</td>\n",
       "      <td>0.018727</td>\n",
       "      <td>0.000931</td>\n",
       "      <td>0.085019</td>\n",
       "      <td>0.037618</td>\n",
       "      <td>0.000108</td>\n",
       "      <td>0.00006</td>\n",
       "      <td>0.001303</td>\n",
       "      <td>0.069693</td>\n",
       "      <td>0.000947</td>\n",
       "      <td>0.0164</td>\n",
       "      <td>0.001843</td>\n",
       "      <td>0.00479</td>\n",
       "      <td>0.000164</td>\n",
       "      <td>0.001549</td>\n",
       "    </tr>\n",
       "    <tr>\n",
       "      <th>2020-10-24</th>\n",
       "      <td>0.017381</td>\n",
       "      <td>0.002688</td>\n",
       "      <td>0.000288</td>\n",
       "      <td>0.092735</td>\n",
       "      <td>0.018727</td>\n",
       "      <td>0.000931</td>\n",
       "      <td>0.085019</td>\n",
       "      <td>0.037618</td>\n",
       "      <td>0.000108</td>\n",
       "      <td>0.00006</td>\n",
       "      <td>0.001303</td>\n",
       "      <td>0.069693</td>\n",
       "      <td>0.000947</td>\n",
       "      <td>0.0164</td>\n",
       "      <td>0.001843</td>\n",
       "      <td>0.00479</td>\n",
       "      <td>0.000164</td>\n",
       "      <td>0.001549</td>\n",
       "    </tr>\n",
       "    <tr>\n",
       "      <th>2020-10-25</th>\n",
       "      <td>0.017381</td>\n",
       "      <td>0.002688</td>\n",
       "      <td>0.000288</td>\n",
       "      <td>0.092735</td>\n",
       "      <td>0.018727</td>\n",
       "      <td>0.000931</td>\n",
       "      <td>0.085019</td>\n",
       "      <td>0.037618</td>\n",
       "      <td>0.000108</td>\n",
       "      <td>0.00006</td>\n",
       "      <td>0.001303</td>\n",
       "      <td>0.069693</td>\n",
       "      <td>0.000947</td>\n",
       "      <td>0.0164</td>\n",
       "      <td>0.001843</td>\n",
       "      <td>0.00479</td>\n",
       "      <td>0.000164</td>\n",
       "      <td>0.001549</td>\n",
       "    </tr>\n",
       "  </tbody>\n",
       "</table>\n",
       "</div>"
      ],
      "text/plain": [
       "Country      Algeria   Bahrain  Bangladesh   Bolivia    Brazil  \\\n",
       "Date                                                             \n",
       "2020-10-21  0.017381  0.002688    0.000288  0.092735  0.018727   \n",
       "2020-10-22  0.017381  0.002688    0.000288  0.092735  0.018727   \n",
       "2020-10-23  0.017381  0.002688    0.000288  0.092735  0.018727   \n",
       "2020-10-24  0.017381  0.002688    0.000288  0.092735  0.018727   \n",
       "2020-10-25  0.017381  0.002688    0.000288  0.092735  0.018727   \n",
       "\n",
       "Country     Dominican Republic     Egypt      Iran      Iraq    Italy  \\\n",
       "Date                                                                    \n",
       "2020-10-21            0.000931  0.085019  0.037618  0.000108  0.00006   \n",
       "2020-10-22            0.000931  0.085019  0.037618  0.000108  0.00006   \n",
       "2020-10-23            0.000931  0.085019  0.037618  0.000108  0.00006   \n",
       "2020-10-24            0.000931  0.085019  0.037618  0.000108  0.00006   \n",
       "2020-10-25            0.000931  0.085019  0.037618  0.000108  0.00006   \n",
       "\n",
       "Country       Kuwait    Mexico   Nigeria    Peru    Russia   Turkey  \\\n",
       "Date                                                                  \n",
       "2020-10-21  0.001303  0.069693  0.000947  0.0164  0.001843  0.00479   \n",
       "2020-10-22  0.001303  0.069693  0.000947  0.0164  0.001843  0.00479   \n",
       "2020-10-23  0.001303  0.069693  0.000947  0.0164  0.001843  0.00479   \n",
       "2020-10-24  0.001303  0.069693  0.000947  0.0164  0.001843  0.00479   \n",
       "2020-10-25  0.001303  0.069693  0.000947  0.0164  0.001843  0.00479   \n",
       "\n",
       "Country     United Arab Emirates  United States  \n",
       "Date                                             \n",
       "2020-10-21              0.000164       0.001549  \n",
       "2020-10-22              0.000164       0.001549  \n",
       "2020-10-23              0.000164       0.001549  \n",
       "2020-10-24              0.000164       0.001549  \n",
       "2020-10-25              0.000164       0.001549  "
      ]
     },
     "execution_count": 18,
     "metadata": {},
     "output_type": "execute_result"
    }
   ],
   "source": [
    "analyser.history(\"theta\", roll_window=None).tail()"
   ]
  },
  {
   "cell_type": "markdown",
   "metadata": {},
   "source": [
    "## (Experimental): Relationship of OxCGRT index and parameter values\n",
    "Government responses will impact on parameter values of ODE models about 14 days later. Here, we will investigate on the relationship of [stringency index (from OxCGRT)](https://github.com/OxCGRT/covid-policy-tracker/blob/master/documentation/index_methodology.md) and reproduction number/model parameters.\n"
   ]
  },
  {
   "cell_type": "code",
   "execution_count": 19,
   "metadata": {
    "collapsed": false
   },
   "outputs": [],
   "source": [
    "%matplotlib inline\n",
    "from matplotlib import pyplot as plt\n",
    "import seaborn as sns\n",
    "import pandas as pd"
   ]
  },
  {
   "cell_type": "code",
   "execution_count": 20,
   "metadata": {
    "collapsed": false
   },
   "outputs": [
    {
     "name": "stdout",
     "output_type": "stream",
     "text": [
      "<class 'pandas.core.frame.DataFrame'>\n",
      "Int64Index: 51097 entries, 0 to 51334\n",
      "Data columns (total 19 columns):\n",
      " #   Column                               Non-Null Count  Dtype         \n",
      "---  ------                               --------------  -----         \n",
      " 0   Date                                 51097 non-null  datetime64[ns]\n",
      " 1   Country                              51097 non-null  object        \n",
      " 2   Rt                                   51097 non-null  float64       \n",
      " 3   theta                                51097 non-null  float64       \n",
      " 4   kappa                                51097 non-null  float64       \n",
      " 5   rho                                  51097 non-null  float64       \n",
      " 6   sigma                                51097 non-null  float64       \n",
      " 7   School_closing                       51097 non-null  int64         \n",
      " 8   Workplace_closing                    51097 non-null  int64         \n",
      " 9   Cancel_events                        51097 non-null  int64         \n",
      " 10  Gatherings_restrictions              51097 non-null  int64         \n",
      " 11  Transport_closing                    51097 non-null  int64         \n",
      " 12  Stay_home_restrictions               51097 non-null  int64         \n",
      " 13  Internal_movement_restrictions       51097 non-null  int64         \n",
      " 14  International_movement_restrictions  51097 non-null  int64         \n",
      " 15  Information_campaigns                51097 non-null  int64         \n",
      " 16  Testing_policy                       51097 non-null  int64         \n",
      " 17  Contact_tracing                      51097 non-null  int64         \n",
      " 18  Stringency_index                     51097 non-null  float64       \n",
      "dtypes: datetime64[ns](1), float64(6), int64(11), object(1)\n",
      "memory usage: 7.8+ MB\n"
     ]
    }
   ],
   "source": [
    "df = analyser.track()\n",
    "param_cols = [\"Rt\", *cs.SIRF.PARAMETERS]\n",
    "oxcgrt_cols = oxcgrt_data.OXCGRT_VARS[:]\n",
    "cols = param_cols + oxcgrt_cols\n",
    "delay = 14\n",
    "\n",
    "for col in param_cols:\n",
    "    df[col] = pd.to_numeric(df[col], errors=\"coerce\")\n",
    "    df[col] = df.groupby(\"Country\")[col].shift(0 - delay)\n",
    "\n",
    "df = df.dropna(how=\"any\")\n",
    "df = df.loc[:, [\"Date\", \"Country\", *cols]]\n",
    "track_df = df.copy()\n",
    "track_df.info()"
   ]
  },
  {
   "cell_type": "code",
   "execution_count": 21,
   "metadata": {
    "collapsed": false
   },
   "outputs": [
    {
     "data": {
      "text/html": [
       "<style  type=\"text/css\" >\n",
       "#T_d0f90486_167a_11eb_9b26_52540027037arow0_col0,#T_d0f90486_167a_11eb_9b26_52540027037arow1_col1,#T_d0f90486_167a_11eb_9b26_52540027037arow2_col2,#T_d0f90486_167a_11eb_9b26_52540027037arow3_col3,#T_d0f90486_167a_11eb_9b26_52540027037arow4_col4,#T_d0f90486_167a_11eb_9b26_52540027037arow5_col5,#T_d0f90486_167a_11eb_9b26_52540027037arow6_col6,#T_d0f90486_167a_11eb_9b26_52540027037arow7_col7,#T_d0f90486_167a_11eb_9b26_52540027037arow8_col8,#T_d0f90486_167a_11eb_9b26_52540027037arow9_col9,#T_d0f90486_167a_11eb_9b26_52540027037arow10_col10,#T_d0f90486_167a_11eb_9b26_52540027037arow11_col11,#T_d0f90486_167a_11eb_9b26_52540027037arow12_col12,#T_d0f90486_167a_11eb_9b26_52540027037arow13_col13,#T_d0f90486_167a_11eb_9b26_52540027037arow14_col14,#T_d0f90486_167a_11eb_9b26_52540027037arow15_col15,#T_d0f90486_167a_11eb_9b26_52540027037arow16_col16{\n",
       "            background-color:  #023858;\n",
       "            color:  #f1f1f1;\n",
       "        }#T_d0f90486_167a_11eb_9b26_52540027037arow0_col1,#T_d0f90486_167a_11eb_9b26_52540027037arow1_col0{\n",
       "            background-color:  #ede7f2;\n",
       "            color:  #000000;\n",
       "        }#T_d0f90486_167a_11eb_9b26_52540027037arow0_col2,#T_d0f90486_167a_11eb_9b26_52540027037arow2_col0,#T_d0f90486_167a_11eb_9b26_52540027037arow3_col7,#T_d0f90486_167a_11eb_9b26_52540027037arow7_col3{\n",
       "            background-color:  #efe9f3;\n",
       "            color:  #000000;\n",
       "        }#T_d0f90486_167a_11eb_9b26_52540027037arow0_col3,#T_d0f90486_167a_11eb_9b26_52540027037arow3_col0{\n",
       "            background-color:  #71a8ce;\n",
       "            color:  #000000;\n",
       "        }#T_d0f90486_167a_11eb_9b26_52540027037arow0_col4,#T_d0f90486_167a_11eb_9b26_52540027037arow2_col16,#T_d0f90486_167a_11eb_9b26_52540027037arow4_col0,#T_d0f90486_167a_11eb_9b26_52540027037arow16_col2{\n",
       "            background-color:  #d7d6e9;\n",
       "            color:  #000000;\n",
       "        }#T_d0f90486_167a_11eb_9b26_52540027037arow0_col5,#T_d0f90486_167a_11eb_9b26_52540027037arow5_col0{\n",
       "            background-color:  #a9bfdc;\n",
       "            color:  #000000;\n",
       "        }#T_d0f90486_167a_11eb_9b26_52540027037arow0_col6,#T_d0f90486_167a_11eb_9b26_52540027037arow3_col4,#T_d0f90486_167a_11eb_9b26_52540027037arow4_col3,#T_d0f90486_167a_11eb_9b26_52540027037arow4_col5,#T_d0f90486_167a_11eb_9b26_52540027037arow5_col4,#T_d0f90486_167a_11eb_9b26_52540027037arow6_col0{\n",
       "            background-color:  #96b6d7;\n",
       "            color:  #000000;\n",
       "        }#T_d0f90486_167a_11eb_9b26_52540027037arow0_col7,#T_d0f90486_167a_11eb_9b26_52540027037arow0_col13,#T_d0f90486_167a_11eb_9b26_52540027037arow3_col16,#T_d0f90486_167a_11eb_9b26_52540027037arow7_col0,#T_d0f90486_167a_11eb_9b26_52540027037arow13_col0,#T_d0f90486_167a_11eb_9b26_52540027037arow16_col3{\n",
       "            background-color:  #c0c9e2;\n",
       "            color:  #000000;\n",
       "        }#T_d0f90486_167a_11eb_9b26_52540027037arow0_col8,#T_d0f90486_167a_11eb_9b26_52540027037arow8_col0{\n",
       "            background-color:  #abbfdc;\n",
       "            color:  #000000;\n",
       "        }#T_d0f90486_167a_11eb_9b26_52540027037arow0_col9,#T_d0f90486_167a_11eb_9b26_52540027037arow2_col11,#T_d0f90486_167a_11eb_9b26_52540027037arow9_col0,#T_d0f90486_167a_11eb_9b26_52540027037arow11_col2{\n",
       "            background-color:  #b5c4df;\n",
       "            color:  #000000;\n",
       "        }#T_d0f90486_167a_11eb_9b26_52540027037arow0_col10,#T_d0f90486_167a_11eb_9b26_52540027037arow10_col0{\n",
       "            background-color:  #b3c3de;\n",
       "            color:  #000000;\n",
       "        }#T_d0f90486_167a_11eb_9b26_52540027037arow0_col11,#T_d0f90486_167a_11eb_9b26_52540027037arow11_col0{\n",
       "            background-color:  #b0c2de;\n",
       "            color:  #000000;\n",
       "        }#T_d0f90486_167a_11eb_9b26_52540027037arow0_col12,#T_d0f90486_167a_11eb_9b26_52540027037arow1_col16,#T_d0f90486_167a_11eb_9b26_52540027037arow12_col0,#T_d0f90486_167a_11eb_9b26_52540027037arow16_col1{\n",
       "            background-color:  #d5d5e8;\n",
       "            color:  #000000;\n",
       "        }#T_d0f90486_167a_11eb_9b26_52540027037arow0_col14,#T_d0f90486_167a_11eb_9b26_52540027037arow1_col6,#T_d0f90486_167a_11eb_9b26_52540027037arow4_col14,#T_d0f90486_167a_11eb_9b26_52540027037arow6_col1,#T_d0f90486_167a_11eb_9b26_52540027037arow14_col0,#T_d0f90486_167a_11eb_9b26_52540027037arow14_col4{\n",
       "            background-color:  #d8d7e9;\n",
       "            color:  #000000;\n",
       "        }#T_d0f90486_167a_11eb_9b26_52540027037arow0_col15,#T_d0f90486_167a_11eb_9b26_52540027037arow15_col0{\n",
       "            background-color:  #eee8f3;\n",
       "            color:  #000000;\n",
       "        }#T_d0f90486_167a_11eb_9b26_52540027037arow0_col16,#T_d0f90486_167a_11eb_9b26_52540027037arow4_col10,#T_d0f90486_167a_11eb_9b26_52540027037arow10_col4,#T_d0f90486_167a_11eb_9b26_52540027037arow16_col0{\n",
       "            background-color:  #afc1dd;\n",
       "            color:  #000000;\n",
       "        }#T_d0f90486_167a_11eb_9b26_52540027037arow1_col2,#T_d0f90486_167a_11eb_9b26_52540027037arow2_col1{\n",
       "            background-color:  #023a5b;\n",
       "            color:  #f1f1f1;\n",
       "        }#T_d0f90486_167a_11eb_9b26_52540027037arow1_col3,#T_d0f90486_167a_11eb_9b26_52540027037arow3_col1,#T_d0f90486_167a_11eb_9b26_52540027037arow5_col7,#T_d0f90486_167a_11eb_9b26_52540027037arow7_col5{\n",
       "            background-color:  #046299;\n",
       "            color:  #f1f1f1;\n",
       "        }#T_d0f90486_167a_11eb_9b26_52540027037arow1_col4,#T_d0f90486_167a_11eb_9b26_52540027037arow2_col15,#T_d0f90486_167a_11eb_9b26_52540027037arow4_col1,#T_d0f90486_167a_11eb_9b26_52540027037arow15_col2{\n",
       "            background-color:  #c2cbe2;\n",
       "            color:  #000000;\n",
       "        }#T_d0f90486_167a_11eb_9b26_52540027037arow1_col5,#T_d0f90486_167a_11eb_9b26_52540027037arow5_col1{\n",
       "            background-color:  #ebe6f2;\n",
       "            color:  #000000;\n",
       "        }#T_d0f90486_167a_11eb_9b26_52540027037arow1_col7,#T_d0f90486_167a_11eb_9b26_52540027037arow7_col1{\n",
       "            background-color:  #f1ebf5;\n",
       "            color:  #000000;\n",
       "        }#T_d0f90486_167a_11eb_9b26_52540027037arow1_col8,#T_d0f90486_167a_11eb_9b26_52540027037arow8_col1{\n",
       "            background-color:  #e2dfee;\n",
       "            color:  #000000;\n",
       "        }#T_d0f90486_167a_11eb_9b26_52540027037arow1_col9,#T_d0f90486_167a_11eb_9b26_52540027037arow9_col1{\n",
       "            background-color:  #e6e2ef;\n",
       "            color:  #000000;\n",
       "        }#T_d0f90486_167a_11eb_9b26_52540027037arow1_col10,#T_d0f90486_167a_11eb_9b26_52540027037arow10_col1{\n",
       "            background-color:  #8eb3d5;\n",
       "            color:  #000000;\n",
       "        }#T_d0f90486_167a_11eb_9b26_52540027037arow1_col11,#T_d0f90486_167a_11eb_9b26_52540027037arow4_col6,#T_d0f90486_167a_11eb_9b26_52540027037arow6_col4,#T_d0f90486_167a_11eb_9b26_52540027037arow11_col1{\n",
       "            background-color:  #b9c6e0;\n",
       "            color:  #000000;\n",
       "        }#T_d0f90486_167a_11eb_9b26_52540027037arow1_col12,#T_d0f90486_167a_11eb_9b26_52540027037arow12_col1{\n",
       "            background-color:  #99b8d8;\n",
       "            color:  #000000;\n",
       "        }#T_d0f90486_167a_11eb_9b26_52540027037arow1_col13,#T_d0f90486_167a_11eb_9b26_52540027037arow13_col1{\n",
       "            background-color:  #f5eff6;\n",
       "            color:  #000000;\n",
       "        }#T_d0f90486_167a_11eb_9b26_52540027037arow1_col14,#T_d0f90486_167a_11eb_9b26_52540027037arow14_col1{\n",
       "            background-color:  #f4edf6;\n",
       "            color:  #000000;\n",
       "        }#T_d0f90486_167a_11eb_9b26_52540027037arow1_col15,#T_d0f90486_167a_11eb_9b26_52540027037arow15_col1{\n",
       "            background-color:  #bfc9e1;\n",
       "            color:  #000000;\n",
       "        }#T_d0f90486_167a_11eb_9b26_52540027037arow2_col3,#T_d0f90486_167a_11eb_9b26_52540027037arow3_col2,#T_d0f90486_167a_11eb_9b26_52540027037arow6_col7,#T_d0f90486_167a_11eb_9b26_52540027037arow7_col6{\n",
       "            background-color:  #04639b;\n",
       "            color:  #f1f1f1;\n",
       "        }#T_d0f90486_167a_11eb_9b26_52540027037arow2_col4,#T_d0f90486_167a_11eb_9b26_52540027037arow4_col2{\n",
       "            background-color:  #cdd0e5;\n",
       "            color:  #000000;\n",
       "        }#T_d0f90486_167a_11eb_9b26_52540027037arow2_col5,#T_d0f90486_167a_11eb_9b26_52540027037arow5_col2{\n",
       "            background-color:  #ede8f3;\n",
       "            color:  #000000;\n",
       "        }#T_d0f90486_167a_11eb_9b26_52540027037arow2_col6,#T_d0f90486_167a_11eb_9b26_52540027037arow3_col15,#T_d0f90486_167a_11eb_9b26_52540027037arow6_col2,#T_d0f90486_167a_11eb_9b26_52540027037arow15_col3{\n",
       "            background-color:  #dad9ea;\n",
       "            color:  #000000;\n",
       "        }#T_d0f90486_167a_11eb_9b26_52540027037arow2_col7,#T_d0f90486_167a_11eb_9b26_52540027037arow3_col13,#T_d0f90486_167a_11eb_9b26_52540027037arow7_col2,#T_d0f90486_167a_11eb_9b26_52540027037arow13_col3{\n",
       "            background-color:  #f2ecf5;\n",
       "            color:  #000000;\n",
       "        }#T_d0f90486_167a_11eb_9b26_52540027037arow2_col8,#T_d0f90486_167a_11eb_9b26_52540027037arow3_col5,#T_d0f90486_167a_11eb_9b26_52540027037arow5_col3,#T_d0f90486_167a_11eb_9b26_52540027037arow8_col2{\n",
       "            background-color:  #dfddec;\n",
       "            color:  #000000;\n",
       "        }#T_d0f90486_167a_11eb_9b26_52540027037arow2_col9,#T_d0f90486_167a_11eb_9b26_52540027037arow9_col2{\n",
       "            background-color:  #e4e1ef;\n",
       "            color:  #000000;\n",
       "        }#T_d0f90486_167a_11eb_9b26_52540027037arow2_col10,#T_d0f90486_167a_11eb_9b26_52540027037arow10_col2{\n",
       "            background-color:  #8fb4d6;\n",
       "            color:  #000000;\n",
       "        }#T_d0f90486_167a_11eb_9b26_52540027037arow2_col12,#T_d0f90486_167a_11eb_9b26_52540027037arow12_col2{\n",
       "            background-color:  #91b5d6;\n",
       "            color:  #000000;\n",
       "        }#T_d0f90486_167a_11eb_9b26_52540027037arow2_col13,#T_d0f90486_167a_11eb_9b26_52540027037arow13_col2{\n",
       "            background-color:  #f6eff7;\n",
       "            color:  #000000;\n",
       "        }#T_d0f90486_167a_11eb_9b26_52540027037arow2_col14,#T_d0f90486_167a_11eb_9b26_52540027037arow14_col2{\n",
       "            background-color:  #f0eaf4;\n",
       "            color:  #000000;\n",
       "        }#T_d0f90486_167a_11eb_9b26_52540027037arow3_col6,#T_d0f90486_167a_11eb_9b26_52540027037arow4_col12,#T_d0f90486_167a_11eb_9b26_52540027037arow6_col3,#T_d0f90486_167a_11eb_9b26_52540027037arow12_col4{\n",
       "            background-color:  #c4cbe3;\n",
       "            color:  #000000;\n",
       "        }#T_d0f90486_167a_11eb_9b26_52540027037arow3_col8,#T_d0f90486_167a_11eb_9b26_52540027037arow8_col3{\n",
       "            background-color:  #d4d4e8;\n",
       "            color:  #000000;\n",
       "        }#T_d0f90486_167a_11eb_9b26_52540027037arow3_col9,#T_d0f90486_167a_11eb_9b26_52540027037arow9_col3{\n",
       "            background-color:  #dbdaeb;\n",
       "            color:  #000000;\n",
       "        }#T_d0f90486_167a_11eb_9b26_52540027037arow3_col10,#T_d0f90486_167a_11eb_9b26_52540027037arow10_col3,#T_d0f90486_167a_11eb_9b26_52540027037arow10_col14,#T_d0f90486_167a_11eb_9b26_52540027037arow14_col10{\n",
       "            background-color:  #80aed2;\n",
       "            color:  #000000;\n",
       "        }#T_d0f90486_167a_11eb_9b26_52540027037arow3_col11,#T_d0f90486_167a_11eb_9b26_52540027037arow11_col3{\n",
       "            background-color:  #acc0dd;\n",
       "            color:  #000000;\n",
       "        }#T_d0f90486_167a_11eb_9b26_52540027037arow3_col12,#T_d0f90486_167a_11eb_9b26_52540027037arow9_col15,#T_d0f90486_167a_11eb_9b26_52540027037arow12_col3,#T_d0f90486_167a_11eb_9b26_52540027037arow15_col9{\n",
       "            background-color:  #a2bcda;\n",
       "            color:  #000000;\n",
       "        }#T_d0f90486_167a_11eb_9b26_52540027037arow3_col14,#T_d0f90486_167a_11eb_9b26_52540027037arow14_col3{\n",
       "            background-color:  #fff7fb;\n",
       "            color:  #000000;\n",
       "        }#T_d0f90486_167a_11eb_9b26_52540027037arow4_col7,#T_d0f90486_167a_11eb_9b26_52540027037arow4_col9,#T_d0f90486_167a_11eb_9b26_52540027037arow4_col13,#T_d0f90486_167a_11eb_9b26_52540027037arow7_col4,#T_d0f90486_167a_11eb_9b26_52540027037arow9_col4,#T_d0f90486_167a_11eb_9b26_52540027037arow13_col4{\n",
       "            background-color:  #a8bedc;\n",
       "            color:  #000000;\n",
       "        }#T_d0f90486_167a_11eb_9b26_52540027037arow4_col8,#T_d0f90486_167a_11eb_9b26_52540027037arow8_col4{\n",
       "            background-color:  #c1cae2;\n",
       "            color:  #000000;\n",
       "        }#T_d0f90486_167a_11eb_9b26_52540027037arow4_col11,#T_d0f90486_167a_11eb_9b26_52540027037arow11_col4{\n",
       "            background-color:  #b7c5df;\n",
       "            color:  #000000;\n",
       "        }#T_d0f90486_167a_11eb_9b26_52540027037arow4_col15,#T_d0f90486_167a_11eb_9b26_52540027037arow15_col4{\n",
       "            background-color:  #9ebad9;\n",
       "            color:  #000000;\n",
       "        }#T_d0f90486_167a_11eb_9b26_52540027037arow4_col16,#T_d0f90486_167a_11eb_9b26_52540027037arow16_col4{\n",
       "            background-color:  #9cb9d9;\n",
       "            color:  #000000;\n",
       "        }#T_d0f90486_167a_11eb_9b26_52540027037arow5_col6,#T_d0f90486_167a_11eb_9b26_52540027037arow6_col5,#T_d0f90486_167a_11eb_9b26_52540027037arow8_col9,#T_d0f90486_167a_11eb_9b26_52540027037arow9_col8,#T_d0f90486_167a_11eb_9b26_52540027037arow9_col11,#T_d0f90486_167a_11eb_9b26_52540027037arow11_col9{\n",
       "            background-color:  #0568a3;\n",
       "            color:  #f1f1f1;\n",
       "        }#T_d0f90486_167a_11eb_9b26_52540027037arow5_col8,#T_d0f90486_167a_11eb_9b26_52540027037arow8_col5{\n",
       "            background-color:  #056fae;\n",
       "            color:  #f1f1f1;\n",
       "        }#T_d0f90486_167a_11eb_9b26_52540027037arow5_col9,#T_d0f90486_167a_11eb_9b26_52540027037arow9_col5{\n",
       "            background-color:  #2081b9;\n",
       "            color:  #000000;\n",
       "        }#T_d0f90486_167a_11eb_9b26_52540027037arow5_col10,#T_d0f90486_167a_11eb_9b26_52540027037arow10_col5{\n",
       "            background-color:  #2182b9;\n",
       "            color:  #000000;\n",
       "        }#T_d0f90486_167a_11eb_9b26_52540027037arow5_col11,#T_d0f90486_167a_11eb_9b26_52540027037arow9_col10,#T_d0f90486_167a_11eb_9b26_52540027037arow10_col9,#T_d0f90486_167a_11eb_9b26_52540027037arow11_col5{\n",
       "            background-color:  #187cb6;\n",
       "            color:  #000000;\n",
       "        }#T_d0f90486_167a_11eb_9b26_52540027037arow5_col12,#T_d0f90486_167a_11eb_9b26_52540027037arow7_col10,#T_d0f90486_167a_11eb_9b26_52540027037arow10_col7,#T_d0f90486_167a_11eb_9b26_52540027037arow12_col5{\n",
       "            background-color:  #3790c0;\n",
       "            color:  #000000;\n",
       "        }#T_d0f90486_167a_11eb_9b26_52540027037arow5_col13,#T_d0f90486_167a_11eb_9b26_52540027037arow13_col5{\n",
       "            background-color:  #04629a;\n",
       "            color:  #f1f1f1;\n",
       "        }#T_d0f90486_167a_11eb_9b26_52540027037arow5_col14,#T_d0f90486_167a_11eb_9b26_52540027037arow9_col12,#T_d0f90486_167a_11eb_9b26_52540027037arow12_col9,#T_d0f90486_167a_11eb_9b26_52540027037arow14_col5{\n",
       "            background-color:  #2c89bd;\n",
       "            color:  #000000;\n",
       "        }#T_d0f90486_167a_11eb_9b26_52540027037arow5_col15,#T_d0f90486_167a_11eb_9b26_52540027037arow15_col5{\n",
       "            background-color:  #5ea0ca;\n",
       "            color:  #000000;\n",
       "        }#T_d0f90486_167a_11eb_9b26_52540027037arow5_col16,#T_d0f90486_167a_11eb_9b26_52540027037arow16_col5{\n",
       "            background-color:  #045b8e;\n",
       "            color:  #f1f1f1;\n",
       "        }#T_d0f90486_167a_11eb_9b26_52540027037arow6_col8,#T_d0f90486_167a_11eb_9b26_52540027037arow8_col6,#T_d0f90486_167a_11eb_9b26_52540027037arow8_col13,#T_d0f90486_167a_11eb_9b26_52540027037arow13_col8{\n",
       "            background-color:  #056caa;\n",
       "            color:  #f1f1f1;\n",
       "        }#T_d0f90486_167a_11eb_9b26_52540027037arow6_col9,#T_d0f90486_167a_11eb_9b26_52540027037arow9_col6{\n",
       "            background-color:  #328dbf;\n",
       "            color:  #000000;\n",
       "        }#T_d0f90486_167a_11eb_9b26_52540027037arow6_col10,#T_d0f90486_167a_11eb_9b26_52540027037arow10_col6{\n",
       "            background-color:  #1077b4;\n",
       "            color:  #f1f1f1;\n",
       "        }#T_d0f90486_167a_11eb_9b26_52540027037arow6_col11,#T_d0f90486_167a_11eb_9b26_52540027037arow11_col6{\n",
       "            background-color:  #2987bc;\n",
       "            color:  #000000;\n",
       "        }#T_d0f90486_167a_11eb_9b26_52540027037arow6_col12,#T_d0f90486_167a_11eb_9b26_52540027037arow7_col11,#T_d0f90486_167a_11eb_9b26_52540027037arow11_col7,#T_d0f90486_167a_11eb_9b26_52540027037arow12_col6,#T_d0f90486_167a_11eb_9b26_52540027037arow12_col13,#T_d0f90486_167a_11eb_9b26_52540027037arow13_col12{\n",
       "            background-color:  #3991c1;\n",
       "            color:  #000000;\n",
       "        }#T_d0f90486_167a_11eb_9b26_52540027037arow6_col13,#T_d0f90486_167a_11eb_9b26_52540027037arow13_col6{\n",
       "            background-color:  #045b8f;\n",
       "            color:  #f1f1f1;\n",
       "        }#T_d0f90486_167a_11eb_9b26_52540027037arow6_col14,#T_d0f90486_167a_11eb_9b26_52540027037arow8_col12,#T_d0f90486_167a_11eb_9b26_52540027037arow12_col8,#T_d0f90486_167a_11eb_9b26_52540027037arow14_col6{\n",
       "            background-color:  #2383ba;\n",
       "            color:  #000000;\n",
       "        }#T_d0f90486_167a_11eb_9b26_52540027037arow6_col15,#T_d0f90486_167a_11eb_9b26_52540027037arow15_col6{\n",
       "            background-color:  #5a9ec9;\n",
       "            color:  #000000;\n",
       "        }#T_d0f90486_167a_11eb_9b26_52540027037arow6_col16,#T_d0f90486_167a_11eb_9b26_52540027037arow16_col6{\n",
       "            background-color:  #045c90;\n",
       "            color:  #f1f1f1;\n",
       "        }#T_d0f90486_167a_11eb_9b26_52540027037arow7_col8,#T_d0f90486_167a_11eb_9b26_52540027037arow8_col7,#T_d0f90486_167a_11eb_9b26_52540027037arow13_col14,#T_d0f90486_167a_11eb_9b26_52540027037arow14_col13{\n",
       "            background-color:  #056faf;\n",
       "            color:  #f1f1f1;\n",
       "        }#T_d0f90486_167a_11eb_9b26_52540027037arow7_col9,#T_d0f90486_167a_11eb_9b26_52540027037arow9_col7{\n",
       "            background-color:  #4897c4;\n",
       "            color:  #000000;\n",
       "        }#T_d0f90486_167a_11eb_9b26_52540027037arow7_col12,#T_d0f90486_167a_11eb_9b26_52540027037arow12_col7{\n",
       "            background-color:  #2f8bbe;\n",
       "            color:  #000000;\n",
       "        }#T_d0f90486_167a_11eb_9b26_52540027037arow7_col13,#T_d0f90486_167a_11eb_9b26_52540027037arow13_col7{\n",
       "            background-color:  #034b76;\n",
       "            color:  #f1f1f1;\n",
       "        }#T_d0f90486_167a_11eb_9b26_52540027037arow7_col14,#T_d0f90486_167a_11eb_9b26_52540027037arow14_col7{\n",
       "            background-color:  #0570b0;\n",
       "            color:  #f1f1f1;\n",
       "        }#T_d0f90486_167a_11eb_9b26_52540027037arow7_col15,#T_d0f90486_167a_11eb_9b26_52540027037arow15_col7{\n",
       "            background-color:  #0d75b3;\n",
       "            color:  #f1f1f1;\n",
       "        }#T_d0f90486_167a_11eb_9b26_52540027037arow7_col16,#T_d0f90486_167a_11eb_9b26_52540027037arow16_col7{\n",
       "            background-color:  #046097;\n",
       "            color:  #f1f1f1;\n",
       "        }#T_d0f90486_167a_11eb_9b26_52540027037arow8_col10,#T_d0f90486_167a_11eb_9b26_52540027037arow10_col8{\n",
       "            background-color:  #056ba7;\n",
       "            color:  #f1f1f1;\n",
       "        }#T_d0f90486_167a_11eb_9b26_52540027037arow8_col11,#T_d0f90486_167a_11eb_9b26_52540027037arow11_col8{\n",
       "            background-color:  #0566a0;\n",
       "            color:  #f1f1f1;\n",
       "        }#T_d0f90486_167a_11eb_9b26_52540027037arow8_col14,#T_d0f90486_167a_11eb_9b26_52540027037arow14_col8{\n",
       "            background-color:  #308cbe;\n",
       "            color:  #000000;\n",
       "        }#T_d0f90486_167a_11eb_9b26_52540027037arow8_col15,#T_d0f90486_167a_11eb_9b26_52540027037arow15_col8{\n",
       "            background-color:  #76aad0;\n",
       "            color:  #000000;\n",
       "        }#T_d0f90486_167a_11eb_9b26_52540027037arow8_col16,#T_d0f90486_167a_11eb_9b26_52540027037arow16_col8{\n",
       "            background-color:  #045585;\n",
       "            color:  #f1f1f1;\n",
       "        }#T_d0f90486_167a_11eb_9b26_52540027037arow9_col13,#T_d0f90486_167a_11eb_9b26_52540027037arow13_col9{\n",
       "            background-color:  #3b92c1;\n",
       "            color:  #000000;\n",
       "        }#T_d0f90486_167a_11eb_9b26_52540027037arow9_col14,#T_d0f90486_167a_11eb_9b26_52540027037arow14_col9{\n",
       "            background-color:  #84b0d3;\n",
       "            color:  #000000;\n",
       "        }#T_d0f90486_167a_11eb_9b26_52540027037arow9_col16,#T_d0f90486_167a_11eb_9b26_52540027037arow16_col9{\n",
       "            background-color:  #046198;\n",
       "            color:  #f1f1f1;\n",
       "        }#T_d0f90486_167a_11eb_9b26_52540027037arow10_col11,#T_d0f90486_167a_11eb_9b26_52540027037arow11_col10{\n",
       "            background-color:  #045e93;\n",
       "            color:  #f1f1f1;\n",
       "        }#T_d0f90486_167a_11eb_9b26_52540027037arow10_col12,#T_d0f90486_167a_11eb_9b26_52540027037arow12_col10{\n",
       "            background-color:  #157ab5;\n",
       "            color:  #000000;\n",
       "        }#T_d0f90486_167a_11eb_9b26_52540027037arow10_col13,#T_d0f90486_167a_11eb_9b26_52540027037arow13_col10{\n",
       "            background-color:  #3f93c2;\n",
       "            color:  #000000;\n",
       "        }#T_d0f90486_167a_11eb_9b26_52540027037arow10_col15,#T_d0f90486_167a_11eb_9b26_52540027037arow15_col10{\n",
       "            background-color:  #67a4cc;\n",
       "            color:  #000000;\n",
       "        }#T_d0f90486_167a_11eb_9b26_52540027037arow10_col16,#T_d0f90486_167a_11eb_9b26_52540027037arow16_col10{\n",
       "            background-color:  #045d92;\n",
       "            color:  #f1f1f1;\n",
       "        }#T_d0f90486_167a_11eb_9b26_52540027037arow11_col12,#T_d0f90486_167a_11eb_9b26_52540027037arow12_col11{\n",
       "            background-color:  #2a88bc;\n",
       "            color:  #000000;\n",
       "        }#T_d0f90486_167a_11eb_9b26_52540027037arow11_col13,#T_d0f90486_167a_11eb_9b26_52540027037arow13_col11{\n",
       "            background-color:  #4496c3;\n",
       "            color:  #000000;\n",
       "        }#T_d0f90486_167a_11eb_9b26_52540027037arow11_col14,#T_d0f90486_167a_11eb_9b26_52540027037arow14_col11{\n",
       "            background-color:  #75a9cf;\n",
       "            color:  #000000;\n",
       "        }#T_d0f90486_167a_11eb_9b26_52540027037arow11_col15,#T_d0f90486_167a_11eb_9b26_52540027037arow15_col11{\n",
       "            background-color:  #93b5d6;\n",
       "            color:  #000000;\n",
       "        }#T_d0f90486_167a_11eb_9b26_52540027037arow11_col16,#T_d0f90486_167a_11eb_9b26_52540027037arow13_col16,#T_d0f90486_167a_11eb_9b26_52540027037arow16_col11,#T_d0f90486_167a_11eb_9b26_52540027037arow16_col13{\n",
       "            background-color:  #045f95;\n",
       "            color:  #f1f1f1;\n",
       "        }#T_d0f90486_167a_11eb_9b26_52540027037arow12_col14,#T_d0f90486_167a_11eb_9b26_52540027037arow14_col12,#T_d0f90486_167a_11eb_9b26_52540027037arow14_col15,#T_d0f90486_167a_11eb_9b26_52540027037arow15_col14{\n",
       "            background-color:  #569dc8;\n",
       "            color:  #000000;\n",
       "        }#T_d0f90486_167a_11eb_9b26_52540027037arow12_col15,#T_d0f90486_167a_11eb_9b26_52540027037arow15_col12{\n",
       "            background-color:  #4c99c5;\n",
       "            color:  #000000;\n",
       "        }#T_d0f90486_167a_11eb_9b26_52540027037arow12_col16,#T_d0f90486_167a_11eb_9b26_52540027037arow16_col12{\n",
       "            background-color:  #056ba9;\n",
       "            color:  #f1f1f1;\n",
       "        }#T_d0f90486_167a_11eb_9b26_52540027037arow13_col15,#T_d0f90486_167a_11eb_9b26_52540027037arow15_col13{\n",
       "            background-color:  #197db7;\n",
       "            color:  #000000;\n",
       "        }#T_d0f90486_167a_11eb_9b26_52540027037arow14_col16,#T_d0f90486_167a_11eb_9b26_52540027037arow16_col14{\n",
       "            background-color:  #4a98c5;\n",
       "            color:  #000000;\n",
       "        }#T_d0f90486_167a_11eb_9b26_52540027037arow15_col16,#T_d0f90486_167a_11eb_9b26_52540027037arow16_col15{\n",
       "            background-color:  #4295c3;\n",
       "            color:  #000000;\n",
       "        }</style><table id=\"T_d0f90486_167a_11eb_9b26_52540027037a\" ><thead>    <tr>        <th class=\"blank level0\" ></th>        <th class=\"col_heading level0 col0\" >Rt</th>        <th class=\"col_heading level0 col1\" >theta</th>        <th class=\"col_heading level0 col2\" >kappa</th>        <th class=\"col_heading level0 col3\" >rho</th>        <th class=\"col_heading level0 col4\" >sigma</th>        <th class=\"col_heading level0 col5\" >School_closing</th>        <th class=\"col_heading level0 col6\" >Workplace_closing</th>        <th class=\"col_heading level0 col7\" >Cancel_events</th>        <th class=\"col_heading level0 col8\" >Gatherings_restrictions</th>        <th class=\"col_heading level0 col9\" >Transport_closing</th>        <th class=\"col_heading level0 col10\" >Stay_home_restrictions</th>        <th class=\"col_heading level0 col11\" >Internal_movement_restrictions</th>        <th class=\"col_heading level0 col12\" >International_movement_restrictions</th>        <th class=\"col_heading level0 col13\" >Information_campaigns</th>        <th class=\"col_heading level0 col14\" >Testing_policy</th>        <th class=\"col_heading level0 col15\" >Contact_tracing</th>        <th class=\"col_heading level0 col16\" >Stringency_index</th>    </tr></thead><tbody>\n",
       "                <tr>\n",
       "                        <th id=\"T_d0f90486_167a_11eb_9b26_52540027037alevel0_row0\" class=\"row_heading level0 row0\" >Rt</th>\n",
       "                        <td id=\"T_d0f90486_167a_11eb_9b26_52540027037arow0_col0\" class=\"data row0 col0\" >1.000000</td>\n",
       "                        <td id=\"T_d0f90486_167a_11eb_9b26_52540027037arow0_col1\" class=\"data row0 col1\" >-0.291055</td>\n",
       "                        <td id=\"T_d0f90486_167a_11eb_9b26_52540027037arow0_col2\" class=\"data row0 col2\" >-0.313469</td>\n",
       "                        <td id=\"T_d0f90486_167a_11eb_9b26_52540027037arow0_col3\" class=\"data row0 col3\" >0.271056</td>\n",
       "                        <td id=\"T_d0f90486_167a_11eb_9b26_52540027037arow0_col4\" class=\"data row0 col4\" >-0.144758</td>\n",
       "                        <td id=\"T_d0f90486_167a_11eb_9b26_52540027037arow0_col5\" class=\"data row0 col5\" >0.067102</td>\n",
       "                        <td id=\"T_d0f90486_167a_11eb_9b26_52540027037arow0_col6\" class=\"data row0 col6\" >0.142008</td>\n",
       "                        <td id=\"T_d0f90486_167a_11eb_9b26_52540027037arow0_col7\" class=\"data row0 col7\" >-0.034262</td>\n",
       "                        <td id=\"T_d0f90486_167a_11eb_9b26_52540027037arow0_col8\" class=\"data row0 col8\" >0.062317</td>\n",
       "                        <td id=\"T_d0f90486_167a_11eb_9b26_52540027037arow0_col9\" class=\"data row0 col9\" >0.016514</td>\n",
       "                        <td id=\"T_d0f90486_167a_11eb_9b26_52540027037arow0_col10\" class=\"data row0 col10\" >0.025463</td>\n",
       "                        <td id=\"T_d0f90486_167a_11eb_9b26_52540027037arow0_col11\" class=\"data row0 col11\" >0.037435</td>\n",
       "                        <td id=\"T_d0f90486_167a_11eb_9b26_52540027037arow0_col12\" class=\"data row0 col12\" >-0.135673</td>\n",
       "                        <td id=\"T_d0f90486_167a_11eb_9b26_52540027037arow0_col13\" class=\"data row0 col13\" >-0.032691</td>\n",
       "                        <td id=\"T_d0f90486_167a_11eb_9b26_52540027037arow0_col14\" class=\"data row0 col14\" >-0.153377</td>\n",
       "                        <td id=\"T_d0f90486_167a_11eb_9b26_52540027037arow0_col15\" class=\"data row0 col15\" >-0.301221</td>\n",
       "                        <td id=\"T_d0f90486_167a_11eb_9b26_52540027037arow0_col16\" class=\"data row0 col16\" >0.045511</td>\n",
       "            </tr>\n",
       "            <tr>\n",
       "                        <th id=\"T_d0f90486_167a_11eb_9b26_52540027037alevel0_row1\" class=\"row_heading level0 row1\" >theta</th>\n",
       "                        <td id=\"T_d0f90486_167a_11eb_9b26_52540027037arow1_col0\" class=\"data row1 col0\" >-0.291055</td>\n",
       "                        <td id=\"T_d0f90486_167a_11eb_9b26_52540027037arow1_col1\" class=\"data row1 col1\" >1.000000</td>\n",
       "                        <td id=\"T_d0f90486_167a_11eb_9b26_52540027037arow1_col2\" class=\"data row1 col2\" >0.985200</td>\n",
       "                        <td id=\"T_d0f90486_167a_11eb_9b26_52540027037arow1_col3\" class=\"data row1 col3\" >0.747911</td>\n",
       "                        <td id=\"T_d0f90486_167a_11eb_9b26_52540027037arow1_col4\" class=\"data row1 col4\" >-0.043111</td>\n",
       "                        <td id=\"T_d0f90486_167a_11eb_9b26_52540027037arow1_col5\" class=\"data row1 col5\" >-0.277890</td>\n",
       "                        <td id=\"T_d0f90486_167a_11eb_9b26_52540027037arow1_col6\" class=\"data row1 col6\" >-0.151379</td>\n",
       "                        <td id=\"T_d0f90486_167a_11eb_9b26_52540027037arow1_col7\" class=\"data row1 col7\" >-0.338614</td>\n",
       "                        <td id=\"T_d0f90486_167a_11eb_9b26_52540027037arow1_col8\" class=\"data row1 col8\" >-0.219647</td>\n",
       "                        <td id=\"T_d0f90486_167a_11eb_9b26_52540027037arow1_col9\" class=\"data row1 col9\" >-0.242341</td>\n",
       "                        <td id=\"T_d0f90486_167a_11eb_9b26_52540027037arow1_col10\" class=\"data row1 col10\" >0.168462</td>\n",
       "                        <td id=\"T_d0f90486_167a_11eb_9b26_52540027037arow1_col11\" class=\"data row1 col11\" >-0.001566</td>\n",
       "                        <td id=\"T_d0f90486_167a_11eb_9b26_52540027037arow1_col12\" class=\"data row1 col12\" >0.128354</td>\n",
       "                        <td id=\"T_d0f90486_167a_11eb_9b26_52540027037arow1_col13\" class=\"data row1 col13\" >-0.379267</td>\n",
       "                        <td id=\"T_d0f90486_167a_11eb_9b26_52540027037arow1_col14\" class=\"data row1 col14\" >-0.361883</td>\n",
       "                        <td id=\"T_d0f90486_167a_11eb_9b26_52540027037arow1_col15\" class=\"data row1 col15\" >-0.025718</td>\n",
       "                        <td id=\"T_d0f90486_167a_11eb_9b26_52540027037arow1_col16\" class=\"data row1 col16\" >-0.132262</td>\n",
       "            </tr>\n",
       "            <tr>\n",
       "                        <th id=\"T_d0f90486_167a_11eb_9b26_52540027037alevel0_row2\" class=\"row_heading level0 row2\" >kappa</th>\n",
       "                        <td id=\"T_d0f90486_167a_11eb_9b26_52540027037arow2_col0\" class=\"data row2 col0\" >-0.313469</td>\n",
       "                        <td id=\"T_d0f90486_167a_11eb_9b26_52540027037arow2_col1\" class=\"data row2 col1\" >0.985200</td>\n",
       "                        <td id=\"T_d0f90486_167a_11eb_9b26_52540027037arow2_col2\" class=\"data row2 col2\" >1.000000</td>\n",
       "                        <td id=\"T_d0f90486_167a_11eb_9b26_52540027037arow2_col3\" class=\"data row2 col3\" >0.736911</td>\n",
       "                        <td id=\"T_d0f90486_167a_11eb_9b26_52540027037arow2_col4\" class=\"data row2 col4\" >-0.088954</td>\n",
       "                        <td id=\"T_d0f90486_167a_11eb_9b26_52540027037arow2_col5\" class=\"data row2 col5\" >-0.295843</td>\n",
       "                        <td id=\"T_d0f90486_167a_11eb_9b26_52540027037arow2_col6\" class=\"data row2 col6\" >-0.167971</td>\n",
       "                        <td id=\"T_d0f90486_167a_11eb_9b26_52540027037arow2_col7\" class=\"data row2 col7\" >-0.344305</td>\n",
       "                        <td id=\"T_d0f90486_167a_11eb_9b26_52540027037arow2_col8\" class=\"data row2 col8\" >-0.199403</td>\n",
       "                        <td id=\"T_d0f90486_167a_11eb_9b26_52540027037arow2_col9\" class=\"data row2 col9\" >-0.234117</td>\n",
       "                        <td id=\"T_d0f90486_167a_11eb_9b26_52540027037arow2_col10\" class=\"data row2 col10\" >0.162545</td>\n",
       "                        <td id=\"T_d0f90486_167a_11eb_9b26_52540027037arow2_col11\" class=\"data row2 col11\" >0.011652</td>\n",
       "                        <td id=\"T_d0f90486_167a_11eb_9b26_52540027037arow2_col12\" class=\"data row2 col12\" >0.158916</td>\n",
       "                        <td id=\"T_d0f90486_167a_11eb_9b26_52540027037arow2_col13\" class=\"data row2 col13\" >-0.384183</td>\n",
       "                        <td id=\"T_d0f90486_167a_11eb_9b26_52540027037arow2_col14\" class=\"data row2 col14\" >-0.319781</td>\n",
       "                        <td id=\"T_d0f90486_167a_11eb_9b26_52540027037arow2_col15\" class=\"data row2 col15\" >-0.041046</td>\n",
       "                        <td id=\"T_d0f90486_167a_11eb_9b26_52540027037arow2_col16\" class=\"data row2 col16\" >-0.147896</td>\n",
       "            </tr>\n",
       "            <tr>\n",
       "                        <th id=\"T_d0f90486_167a_11eb_9b26_52540027037alevel0_row3\" class=\"row_heading level0 row3\" >rho</th>\n",
       "                        <td id=\"T_d0f90486_167a_11eb_9b26_52540027037arow3_col0\" class=\"data row3 col0\" >0.271056</td>\n",
       "                        <td id=\"T_d0f90486_167a_11eb_9b26_52540027037arow3_col1\" class=\"data row3 col1\" >0.747911</td>\n",
       "                        <td id=\"T_d0f90486_167a_11eb_9b26_52540027037arow3_col2\" class=\"data row3 col2\" >0.736911</td>\n",
       "                        <td id=\"T_d0f90486_167a_11eb_9b26_52540027037arow3_col3\" class=\"data row3 col3\" >1.000000</td>\n",
       "                        <td id=\"T_d0f90486_167a_11eb_9b26_52540027037arow3_col4\" class=\"data row3 col4\" >0.140910</td>\n",
       "                        <td id=\"T_d0f90486_167a_11eb_9b26_52540027037arow3_col5\" class=\"data row3 col5\" >-0.198096</td>\n",
       "                        <td id=\"T_d0f90486_167a_11eb_9b26_52540027037arow3_col6\" class=\"data row3 col6\" >-0.049433</td>\n",
       "                        <td id=\"T_d0f90486_167a_11eb_9b26_52540027037arow3_col7\" class=\"data row3 col7\" >-0.314294</td>\n",
       "                        <td id=\"T_d0f90486_167a_11eb_9b26_52540027037arow3_col8\" class=\"data row3 col8\" >-0.127350</td>\n",
       "                        <td id=\"T_d0f90486_167a_11eb_9b26_52540027037arow3_col9\" class=\"data row3 col9\" >-0.177833</td>\n",
       "                        <td id=\"T_d0f90486_167a_11eb_9b26_52540027037arow3_col10\" class=\"data row3 col10\" >0.223912</td>\n",
       "                        <td id=\"T_d0f90486_167a_11eb_9b26_52540027037arow3_col11\" class=\"data row3 col11\" >0.053707</td>\n",
       "                        <td id=\"T_d0f90486_167a_11eb_9b26_52540027037arow3_col12\" class=\"data row3 col12\" >0.097067</td>\n",
       "                        <td id=\"T_d0f90486_167a_11eb_9b26_52540027037arow3_col13\" class=\"data row3 col13\" >-0.350262</td>\n",
       "                        <td id=\"T_d0f90486_167a_11eb_9b26_52540027037arow3_col14\" class=\"data row3 col14\" >-0.471242</td>\n",
       "                        <td id=\"T_d0f90486_167a_11eb_9b26_52540027037arow3_col15\" class=\"data row3 col15\" >-0.170568</td>\n",
       "                        <td id=\"T_d0f90486_167a_11eb_9b26_52540027037arow3_col16\" class=\"data row3 col16\" >-0.032446</td>\n",
       "            </tr>\n",
       "            <tr>\n",
       "                        <th id=\"T_d0f90486_167a_11eb_9b26_52540027037alevel0_row4\" class=\"row_heading level0 row4\" >sigma</th>\n",
       "                        <td id=\"T_d0f90486_167a_11eb_9b26_52540027037arow4_col0\" class=\"data row4 col0\" >-0.144758</td>\n",
       "                        <td id=\"T_d0f90486_167a_11eb_9b26_52540027037arow4_col1\" class=\"data row4 col1\" >-0.043111</td>\n",
       "                        <td id=\"T_d0f90486_167a_11eb_9b26_52540027037arow4_col2\" class=\"data row4 col2\" >-0.088954</td>\n",
       "                        <td id=\"T_d0f90486_167a_11eb_9b26_52540027037arow4_col3\" class=\"data row4 col3\" >0.140910</td>\n",
       "                        <td id=\"T_d0f90486_167a_11eb_9b26_52540027037arow4_col4\" class=\"data row4 col4\" >1.000000</td>\n",
       "                        <td id=\"T_d0f90486_167a_11eb_9b26_52540027037arow4_col5\" class=\"data row4 col5\" >0.141990</td>\n",
       "                        <td id=\"T_d0f90486_167a_11eb_9b26_52540027037arow4_col6\" class=\"data row4 col6\" >-0.003350</td>\n",
       "                        <td id=\"T_d0f90486_167a_11eb_9b26_52540027037arow4_col7\" class=\"data row4 col7\" >0.070645</td>\n",
       "                        <td id=\"T_d0f90486_167a_11eb_9b26_52540027037arow4_col8\" class=\"data row4 col8\" >-0.038356</td>\n",
       "                        <td id=\"T_d0f90486_167a_11eb_9b26_52540027037arow4_col9\" class=\"data row4 col9\" >0.069382</td>\n",
       "                        <td id=\"T_d0f90486_167a_11eb_9b26_52540027037arow4_col10\" class=\"data row4 col10\" >0.043750</td>\n",
       "                        <td id=\"T_d0f90486_167a_11eb_9b26_52540027037arow4_col11\" class=\"data row4 col11\" >0.009541</td>\n",
       "                        <td id=\"T_d0f90486_167a_11eb_9b26_52540027037arow4_col12\" class=\"data row4 col12\" >-0.051597</td>\n",
       "                        <td id=\"T_d0f90486_167a_11eb_9b26_52540027037arow4_col13\" class=\"data row4 col13\" >0.074389</td>\n",
       "                        <td id=\"T_d0f90486_167a_11eb_9b26_52540027037arow4_col14\" class=\"data row4 col14\" >-0.154557</td>\n",
       "                        <td id=\"T_d0f90486_167a_11eb_9b26_52540027037arow4_col15\" class=\"data row4 col15\" >0.111115</td>\n",
       "                        <td id=\"T_d0f90486_167a_11eb_9b26_52540027037arow4_col16\" class=\"data row4 col16\" >0.120699</td>\n",
       "            </tr>\n",
       "            <tr>\n",
       "                        <th id=\"T_d0f90486_167a_11eb_9b26_52540027037alevel0_row5\" class=\"row_heading level0 row5\" >School_closing</th>\n",
       "                        <td id=\"T_d0f90486_167a_11eb_9b26_52540027037arow5_col0\" class=\"data row5 col0\" >0.067102</td>\n",
       "                        <td id=\"T_d0f90486_167a_11eb_9b26_52540027037arow5_col1\" class=\"data row5 col1\" >-0.277890</td>\n",
       "                        <td id=\"T_d0f90486_167a_11eb_9b26_52540027037arow5_col2\" class=\"data row5 col2\" >-0.295843</td>\n",
       "                        <td id=\"T_d0f90486_167a_11eb_9b26_52540027037arow5_col3\" class=\"data row5 col3\" >-0.198096</td>\n",
       "                        <td id=\"T_d0f90486_167a_11eb_9b26_52540027037arow5_col4\" class=\"data row5 col4\" >0.141990</td>\n",
       "                        <td id=\"T_d0f90486_167a_11eb_9b26_52540027037arow5_col5\" class=\"data row5 col5\" >1.000000</td>\n",
       "                        <td id=\"T_d0f90486_167a_11eb_9b26_52540027037arow5_col6\" class=\"data row5 col6\" >0.699400</td>\n",
       "                        <td id=\"T_d0f90486_167a_11eb_9b26_52540027037arow5_col7\" class=\"data row5 col7\" >0.751899</td>\n",
       "                        <td id=\"T_d0f90486_167a_11eb_9b26_52540027037arow5_col8\" class=\"data row5 col8\" >0.642742</td>\n",
       "                        <td id=\"T_d0f90486_167a_11eb_9b26_52540027037arow5_col9\" class=\"data row5 col9\" >0.532669</td>\n",
       "                        <td id=\"T_d0f90486_167a_11eb_9b26_52540027037arow5_col10\" class=\"data row5 col10\" >0.525273</td>\n",
       "                        <td id=\"T_d0f90486_167a_11eb_9b26_52540027037arow5_col11\" class=\"data row5 col11\" >0.559281</td>\n",
       "                        <td id=\"T_d0f90486_167a_11eb_9b26_52540027037arow5_col12\" class=\"data row5 col12\" >0.445525</td>\n",
       "                        <td id=\"T_d0f90486_167a_11eb_9b26_52540027037arow5_col13\" class=\"data row5 col13\" >0.744830</td>\n",
       "                        <td id=\"T_d0f90486_167a_11eb_9b26_52540027037arow5_col14\" class=\"data row5 col14\" >0.483654</td>\n",
       "                        <td id=\"T_d0f90486_167a_11eb_9b26_52540027037arow5_col15\" class=\"data row5 col15\" >0.328263</td>\n",
       "                        <td id=\"T_d0f90486_167a_11eb_9b26_52540027037arow5_col16\" class=\"data row5 col16\" >0.807643</td>\n",
       "            </tr>\n",
       "            <tr>\n",
       "                        <th id=\"T_d0f90486_167a_11eb_9b26_52540027037alevel0_row6\" class=\"row_heading level0 row6\" >Workplace_closing</th>\n",
       "                        <td id=\"T_d0f90486_167a_11eb_9b26_52540027037arow6_col0\" class=\"data row6 col0\" >0.142008</td>\n",
       "                        <td id=\"T_d0f90486_167a_11eb_9b26_52540027037arow6_col1\" class=\"data row6 col1\" >-0.151379</td>\n",
       "                        <td id=\"T_d0f90486_167a_11eb_9b26_52540027037arow6_col2\" class=\"data row6 col2\" >-0.167971</td>\n",
       "                        <td id=\"T_d0f90486_167a_11eb_9b26_52540027037arow6_col3\" class=\"data row6 col3\" >-0.049433</td>\n",
       "                        <td id=\"T_d0f90486_167a_11eb_9b26_52540027037arow6_col4\" class=\"data row6 col4\" >-0.003350</td>\n",
       "                        <td id=\"T_d0f90486_167a_11eb_9b26_52540027037arow6_col5\" class=\"data row6 col5\" >0.699400</td>\n",
       "                        <td id=\"T_d0f90486_167a_11eb_9b26_52540027037arow6_col6\" class=\"data row6 col6\" >1.000000</td>\n",
       "                        <td id=\"T_d0f90486_167a_11eb_9b26_52540027037arow6_col7\" class=\"data row6 col7\" >0.736259</td>\n",
       "                        <td id=\"T_d0f90486_167a_11eb_9b26_52540027037arow6_col8\" class=\"data row6 col8\" >0.666203</td>\n",
       "                        <td id=\"T_d0f90486_167a_11eb_9b26_52540027037arow6_col9\" class=\"data row6 col9\" >0.461652</td>\n",
       "                        <td id=\"T_d0f90486_167a_11eb_9b26_52540027037arow6_col10\" class=\"data row6 col10\" >0.589847</td>\n",
       "                        <td id=\"T_d0f90486_167a_11eb_9b26_52540027037arow6_col11\" class=\"data row6 col11\" >0.497738</td>\n",
       "                        <td id=\"T_d0f90486_167a_11eb_9b26_52540027037arow6_col12\" class=\"data row6 col12\" >0.436915</td>\n",
       "                        <td id=\"T_d0f90486_167a_11eb_9b26_52540027037arow6_col13\" class=\"data row6 col13\" >0.801788</td>\n",
       "                        <td id=\"T_d0f90486_167a_11eb_9b26_52540027037arow6_col14\" class=\"data row6 col14\" >0.522469</td>\n",
       "                        <td id=\"T_d0f90486_167a_11eb_9b26_52540027037arow6_col15\" class=\"data row6 col15\" >0.340444</td>\n",
       "                        <td id=\"T_d0f90486_167a_11eb_9b26_52540027037arow6_col16\" class=\"data row6 col16\" >0.796172</td>\n",
       "            </tr>\n",
       "            <tr>\n",
       "                        <th id=\"T_d0f90486_167a_11eb_9b26_52540027037alevel0_row7\" class=\"row_heading level0 row7\" >Cancel_events</th>\n",
       "                        <td id=\"T_d0f90486_167a_11eb_9b26_52540027037arow7_col0\" class=\"data row7 col0\" >-0.034262</td>\n",
       "                        <td id=\"T_d0f90486_167a_11eb_9b26_52540027037arow7_col1\" class=\"data row7 col1\" >-0.338614</td>\n",
       "                        <td id=\"T_d0f90486_167a_11eb_9b26_52540027037arow7_col2\" class=\"data row7 col2\" >-0.344305</td>\n",
       "                        <td id=\"T_d0f90486_167a_11eb_9b26_52540027037arow7_col3\" class=\"data row7 col3\" >-0.314294</td>\n",
       "                        <td id=\"T_d0f90486_167a_11eb_9b26_52540027037arow7_col4\" class=\"data row7 col4\" >0.070645</td>\n",
       "                        <td id=\"T_d0f90486_167a_11eb_9b26_52540027037arow7_col5\" class=\"data row7 col5\" >0.751899</td>\n",
       "                        <td id=\"T_d0f90486_167a_11eb_9b26_52540027037arow7_col6\" class=\"data row7 col6\" >0.736259</td>\n",
       "                        <td id=\"T_d0f90486_167a_11eb_9b26_52540027037arow7_col7\" class=\"data row7 col7\" >1.000000</td>\n",
       "                        <td id=\"T_d0f90486_167a_11eb_9b26_52540027037arow7_col8\" class=\"data row7 col8\" >0.634104</td>\n",
       "                        <td id=\"T_d0f90486_167a_11eb_9b26_52540027037arow7_col9\" class=\"data row7 col9\" >0.392349</td>\n",
       "                        <td id=\"T_d0f90486_167a_11eb_9b26_52540027037arow7_col10\" class=\"data row7 col10\" >0.443486</td>\n",
       "                        <td id=\"T_d0f90486_167a_11eb_9b26_52540027037arow7_col11\" class=\"data row7 col11\" >0.436845</td>\n",
       "                        <td id=\"T_d0f90486_167a_11eb_9b26_52540027037arow7_col12\" class=\"data row7 col12\" >0.471775</td>\n",
       "                        <td id=\"T_d0f90486_167a_11eb_9b26_52540027037arow7_col13\" class=\"data row7 col13\" >0.893559</td>\n",
       "                        <td id=\"T_d0f90486_167a_11eb_9b26_52540027037arow7_col14\" class=\"data row7 col14\" >0.630422</td>\n",
       "                        <td id=\"T_d0f90486_167a_11eb_9b26_52540027037arow7_col15\" class=\"data row7 col15\" >0.600300</td>\n",
       "                        <td id=\"T_d0f90486_167a_11eb_9b26_52540027037arow7_col16\" class=\"data row7 col16\" >0.759460</td>\n",
       "            </tr>\n",
       "            <tr>\n",
       "                        <th id=\"T_d0f90486_167a_11eb_9b26_52540027037alevel0_row8\" class=\"row_heading level0 row8\" >Gatherings_restrictions</th>\n",
       "                        <td id=\"T_d0f90486_167a_11eb_9b26_52540027037arow8_col0\" class=\"data row8 col0\" >0.062317</td>\n",
       "                        <td id=\"T_d0f90486_167a_11eb_9b26_52540027037arow8_col1\" class=\"data row8 col1\" >-0.219647</td>\n",
       "                        <td id=\"T_d0f90486_167a_11eb_9b26_52540027037arow8_col2\" class=\"data row8 col2\" >-0.199403</td>\n",
       "                        <td id=\"T_d0f90486_167a_11eb_9b26_52540027037arow8_col3\" class=\"data row8 col3\" >-0.127350</td>\n",
       "                        <td id=\"T_d0f90486_167a_11eb_9b26_52540027037arow8_col4\" class=\"data row8 col4\" >-0.038356</td>\n",
       "                        <td id=\"T_d0f90486_167a_11eb_9b26_52540027037arow8_col5\" class=\"data row8 col5\" >0.642742</td>\n",
       "                        <td id=\"T_d0f90486_167a_11eb_9b26_52540027037arow8_col6\" class=\"data row8 col6\" >0.666203</td>\n",
       "                        <td id=\"T_d0f90486_167a_11eb_9b26_52540027037arow8_col7\" class=\"data row8 col7\" >0.634104</td>\n",
       "                        <td id=\"T_d0f90486_167a_11eb_9b26_52540027037arow8_col8\" class=\"data row8 col8\" >1.000000</td>\n",
       "                        <td id=\"T_d0f90486_167a_11eb_9b26_52540027037arow8_col9\" class=\"data row8 col9\" >0.699096</td>\n",
       "                        <td id=\"T_d0f90486_167a_11eb_9b26_52540027037arow8_col10\" class=\"data row8 col10\" >0.674419</td>\n",
       "                        <td id=\"T_d0f90486_167a_11eb_9b26_52540027037arow8_col11\" class=\"data row8 col11\" >0.714460</td>\n",
       "                        <td id=\"T_d0f90486_167a_11eb_9b26_52540027037arow8_col12\" class=\"data row8 col12\" >0.517464</td>\n",
       "                        <td id=\"T_d0f90486_167a_11eb_9b26_52540027037arow8_col13\" class=\"data row8 col13\" >0.664392</td>\n",
       "                        <td id=\"T_d0f90486_167a_11eb_9b26_52540027037arow8_col14\" class=\"data row8 col14\" >0.469943</td>\n",
       "                        <td id=\"T_d0f90486_167a_11eb_9b26_52540027037arow8_col15\" class=\"data row8 col15\" >0.255967</td>\n",
       "                        <td id=\"T_d0f90486_167a_11eb_9b26_52540027037arow8_col16\" class=\"data row8 col16\" >0.842362</td>\n",
       "            </tr>\n",
       "            <tr>\n",
       "                        <th id=\"T_d0f90486_167a_11eb_9b26_52540027037alevel0_row9\" class=\"row_heading level0 row9\" >Transport_closing</th>\n",
       "                        <td id=\"T_d0f90486_167a_11eb_9b26_52540027037arow9_col0\" class=\"data row9 col0\" >0.016514</td>\n",
       "                        <td id=\"T_d0f90486_167a_11eb_9b26_52540027037arow9_col1\" class=\"data row9 col1\" >-0.242341</td>\n",
       "                        <td id=\"T_d0f90486_167a_11eb_9b26_52540027037arow9_col2\" class=\"data row9 col2\" >-0.234117</td>\n",
       "                        <td id=\"T_d0f90486_167a_11eb_9b26_52540027037arow9_col3\" class=\"data row9 col3\" >-0.177833</td>\n",
       "                        <td id=\"T_d0f90486_167a_11eb_9b26_52540027037arow9_col4\" class=\"data row9 col4\" >0.069382</td>\n",
       "                        <td id=\"T_d0f90486_167a_11eb_9b26_52540027037arow9_col5\" class=\"data row9 col5\" >0.532669</td>\n",
       "                        <td id=\"T_d0f90486_167a_11eb_9b26_52540027037arow9_col6\" class=\"data row9 col6\" >0.461652</td>\n",
       "                        <td id=\"T_d0f90486_167a_11eb_9b26_52540027037arow9_col7\" class=\"data row9 col7\" >0.392349</td>\n",
       "                        <td id=\"T_d0f90486_167a_11eb_9b26_52540027037arow9_col8\" class=\"data row9 col8\" >0.699096</td>\n",
       "                        <td id=\"T_d0f90486_167a_11eb_9b26_52540027037arow9_col9\" class=\"data row9 col9\" >1.000000</td>\n",
       "                        <td id=\"T_d0f90486_167a_11eb_9b26_52540027037arow9_col10\" class=\"data row9 col10\" >0.560136</td>\n",
       "                        <td id=\"T_d0f90486_167a_11eb_9b26_52540027037arow9_col11\" class=\"data row9 col11\" >0.695666</td>\n",
       "                        <td id=\"T_d0f90486_167a_11eb_9b26_52540027037arow9_col12\" class=\"data row9 col12\" >0.486537</td>\n",
       "                        <td id=\"T_d0f90486_167a_11eb_9b26_52540027037arow9_col13\" class=\"data row9 col13\" >0.436081</td>\n",
       "                        <td id=\"T_d0f90486_167a_11eb_9b26_52540027037arow9_col14\" class=\"data row9 col14\" >0.201849</td>\n",
       "                        <td id=\"T_d0f90486_167a_11eb_9b26_52540027037arow9_col15\" class=\"data row9 col15\" >0.095122</td>\n",
       "                        <td id=\"T_d0f90486_167a_11eb_9b26_52540027037arow9_col16\" class=\"data row9 col16\" >0.758006</td>\n",
       "            </tr>\n",
       "            <tr>\n",
       "                        <th id=\"T_d0f90486_167a_11eb_9b26_52540027037alevel0_row10\" class=\"row_heading level0 row10\" >Stay_home_restrictions</th>\n",
       "                        <td id=\"T_d0f90486_167a_11eb_9b26_52540027037arow10_col0\" class=\"data row10 col0\" >0.025463</td>\n",
       "                        <td id=\"T_d0f90486_167a_11eb_9b26_52540027037arow10_col1\" class=\"data row10 col1\" >0.168462</td>\n",
       "                        <td id=\"T_d0f90486_167a_11eb_9b26_52540027037arow10_col2\" class=\"data row10 col2\" >0.162545</td>\n",
       "                        <td id=\"T_d0f90486_167a_11eb_9b26_52540027037arow10_col3\" class=\"data row10 col3\" >0.223912</td>\n",
       "                        <td id=\"T_d0f90486_167a_11eb_9b26_52540027037arow10_col4\" class=\"data row10 col4\" >0.043750</td>\n",
       "                        <td id=\"T_d0f90486_167a_11eb_9b26_52540027037arow10_col5\" class=\"data row10 col5\" >0.525273</td>\n",
       "                        <td id=\"T_d0f90486_167a_11eb_9b26_52540027037arow10_col6\" class=\"data row10 col6\" >0.589847</td>\n",
       "                        <td id=\"T_d0f90486_167a_11eb_9b26_52540027037arow10_col7\" class=\"data row10 col7\" >0.443486</td>\n",
       "                        <td id=\"T_d0f90486_167a_11eb_9b26_52540027037arow10_col8\" class=\"data row10 col8\" >0.674419</td>\n",
       "                        <td id=\"T_d0f90486_167a_11eb_9b26_52540027037arow10_col9\" class=\"data row10 col9\" >0.560136</td>\n",
       "                        <td id=\"T_d0f90486_167a_11eb_9b26_52540027037arow10_col10\" class=\"data row10 col10\" >1.000000</td>\n",
       "                        <td id=\"T_d0f90486_167a_11eb_9b26_52540027037arow10_col11\" class=\"data row10 col11\" >0.782425</td>\n",
       "                        <td id=\"T_d0f90486_167a_11eb_9b26_52540027037arow10_col12\" class=\"data row10 col12\" >0.571832</td>\n",
       "                        <td id=\"T_d0f90486_167a_11eb_9b26_52540027037arow10_col13\" class=\"data row10 col13\" >0.420861</td>\n",
       "                        <td id=\"T_d0f90486_167a_11eb_9b26_52540027037arow10_col14\" class=\"data row10 col14\" >0.223397</td>\n",
       "                        <td id=\"T_d0f90486_167a_11eb_9b26_52540027037arow10_col15\" class=\"data row10 col15\" >0.302703</td>\n",
       "                        <td id=\"T_d0f90486_167a_11eb_9b26_52540027037arow10_col16\" class=\"data row10 col16\" >0.790705</td>\n",
       "            </tr>\n",
       "            <tr>\n",
       "                        <th id=\"T_d0f90486_167a_11eb_9b26_52540027037alevel0_row11\" class=\"row_heading level0 row11\" >Internal_movement_restrictions</th>\n",
       "                        <td id=\"T_d0f90486_167a_11eb_9b26_52540027037arow11_col0\" class=\"data row11 col0\" >0.037435</td>\n",
       "                        <td id=\"T_d0f90486_167a_11eb_9b26_52540027037arow11_col1\" class=\"data row11 col1\" >-0.001566</td>\n",
       "                        <td id=\"T_d0f90486_167a_11eb_9b26_52540027037arow11_col2\" class=\"data row11 col2\" >0.011652</td>\n",
       "                        <td id=\"T_d0f90486_167a_11eb_9b26_52540027037arow11_col3\" class=\"data row11 col3\" >0.053707</td>\n",
       "                        <td id=\"T_d0f90486_167a_11eb_9b26_52540027037arow11_col4\" class=\"data row11 col4\" >0.009541</td>\n",
       "                        <td id=\"T_d0f90486_167a_11eb_9b26_52540027037arow11_col5\" class=\"data row11 col5\" >0.559281</td>\n",
       "                        <td id=\"T_d0f90486_167a_11eb_9b26_52540027037arow11_col6\" class=\"data row11 col6\" >0.497738</td>\n",
       "                        <td id=\"T_d0f90486_167a_11eb_9b26_52540027037arow11_col7\" class=\"data row11 col7\" >0.436845</td>\n",
       "                        <td id=\"T_d0f90486_167a_11eb_9b26_52540027037arow11_col8\" class=\"data row11 col8\" >0.714460</td>\n",
       "                        <td id=\"T_d0f90486_167a_11eb_9b26_52540027037arow11_col9\" class=\"data row11 col9\" >0.695666</td>\n",
       "                        <td id=\"T_d0f90486_167a_11eb_9b26_52540027037arow11_col10\" class=\"data row11 col10\" >0.782425</td>\n",
       "                        <td id=\"T_d0f90486_167a_11eb_9b26_52540027037arow11_col11\" class=\"data row11 col11\" >1.000000</td>\n",
       "                        <td id=\"T_d0f90486_167a_11eb_9b26_52540027037arow11_col12\" class=\"data row11 col12\" >0.492572</td>\n",
       "                        <td id=\"T_d0f90486_167a_11eb_9b26_52540027037arow11_col13\" class=\"data row11 col13\" >0.405024</td>\n",
       "                        <td id=\"T_d0f90486_167a_11eb_9b26_52540027037arow11_col14\" class=\"data row11 col14\" >0.259888</td>\n",
       "                        <td id=\"T_d0f90486_167a_11eb_9b26_52540027037arow11_col15\" class=\"data row11 col15\" >0.151950</td>\n",
       "                        <td id=\"T_d0f90486_167a_11eb_9b26_52540027037arow11_col16\" class=\"data row11 col16\" >0.770501</td>\n",
       "            </tr>\n",
       "            <tr>\n",
       "                        <th id=\"T_d0f90486_167a_11eb_9b26_52540027037alevel0_row12\" class=\"row_heading level0 row12\" >International_movement_restrictions</th>\n",
       "                        <td id=\"T_d0f90486_167a_11eb_9b26_52540027037arow12_col0\" class=\"data row12 col0\" >-0.135673</td>\n",
       "                        <td id=\"T_d0f90486_167a_11eb_9b26_52540027037arow12_col1\" class=\"data row12 col1\" >0.128354</td>\n",
       "                        <td id=\"T_d0f90486_167a_11eb_9b26_52540027037arow12_col2\" class=\"data row12 col2\" >0.158916</td>\n",
       "                        <td id=\"T_d0f90486_167a_11eb_9b26_52540027037arow12_col3\" class=\"data row12 col3\" >0.097067</td>\n",
       "                        <td id=\"T_d0f90486_167a_11eb_9b26_52540027037arow12_col4\" class=\"data row12 col4\" >-0.051597</td>\n",
       "                        <td id=\"T_d0f90486_167a_11eb_9b26_52540027037arow12_col5\" class=\"data row12 col5\" >0.445525</td>\n",
       "                        <td id=\"T_d0f90486_167a_11eb_9b26_52540027037arow12_col6\" class=\"data row12 col6\" >0.436915</td>\n",
       "                        <td id=\"T_d0f90486_167a_11eb_9b26_52540027037arow12_col7\" class=\"data row12 col7\" >0.471775</td>\n",
       "                        <td id=\"T_d0f90486_167a_11eb_9b26_52540027037arow12_col8\" class=\"data row12 col8\" >0.517464</td>\n",
       "                        <td id=\"T_d0f90486_167a_11eb_9b26_52540027037arow12_col9\" class=\"data row12 col9\" >0.486537</td>\n",
       "                        <td id=\"T_d0f90486_167a_11eb_9b26_52540027037arow12_col10\" class=\"data row12 col10\" >0.571832</td>\n",
       "                        <td id=\"T_d0f90486_167a_11eb_9b26_52540027037arow12_col11\" class=\"data row12 col11\" >0.492572</td>\n",
       "                        <td id=\"T_d0f90486_167a_11eb_9b26_52540027037arow12_col12\" class=\"data row12 col12\" >1.000000</td>\n",
       "                        <td id=\"T_d0f90486_167a_11eb_9b26_52540027037arow12_col13\" class=\"data row12 col13\" >0.440056</td>\n",
       "                        <td id=\"T_d0f90486_167a_11eb_9b26_52540027037arow12_col14\" class=\"data row12 col14\" >0.356253</td>\n",
       "                        <td id=\"T_d0f90486_167a_11eb_9b26_52540027037arow12_col15\" class=\"data row12 col15\" >0.383734</td>\n",
       "                        <td id=\"T_d0f90486_167a_11eb_9b26_52540027037arow12_col16\" class=\"data row12 col16\" >0.668838</td>\n",
       "            </tr>\n",
       "            <tr>\n",
       "                        <th id=\"T_d0f90486_167a_11eb_9b26_52540027037alevel0_row13\" class=\"row_heading level0 row13\" >Information_campaigns</th>\n",
       "                        <td id=\"T_d0f90486_167a_11eb_9b26_52540027037arow13_col0\" class=\"data row13 col0\" >-0.032691</td>\n",
       "                        <td id=\"T_d0f90486_167a_11eb_9b26_52540027037arow13_col1\" class=\"data row13 col1\" >-0.379267</td>\n",
       "                        <td id=\"T_d0f90486_167a_11eb_9b26_52540027037arow13_col2\" class=\"data row13 col2\" >-0.384183</td>\n",
       "                        <td id=\"T_d0f90486_167a_11eb_9b26_52540027037arow13_col3\" class=\"data row13 col3\" >-0.350262</td>\n",
       "                        <td id=\"T_d0f90486_167a_11eb_9b26_52540027037arow13_col4\" class=\"data row13 col4\" >0.074389</td>\n",
       "                        <td id=\"T_d0f90486_167a_11eb_9b26_52540027037arow13_col5\" class=\"data row13 col5\" >0.744830</td>\n",
       "                        <td id=\"T_d0f90486_167a_11eb_9b26_52540027037arow13_col6\" class=\"data row13 col6\" >0.801788</td>\n",
       "                        <td id=\"T_d0f90486_167a_11eb_9b26_52540027037arow13_col7\" class=\"data row13 col7\" >0.893559</td>\n",
       "                        <td id=\"T_d0f90486_167a_11eb_9b26_52540027037arow13_col8\" class=\"data row13 col8\" >0.664392</td>\n",
       "                        <td id=\"T_d0f90486_167a_11eb_9b26_52540027037arow13_col9\" class=\"data row13 col9\" >0.436081</td>\n",
       "                        <td id=\"T_d0f90486_167a_11eb_9b26_52540027037arow13_col10\" class=\"data row13 col10\" >0.420861</td>\n",
       "                        <td id=\"T_d0f90486_167a_11eb_9b26_52540027037arow13_col11\" class=\"data row13 col11\" >0.405024</td>\n",
       "                        <td id=\"T_d0f90486_167a_11eb_9b26_52540027037arow13_col12\" class=\"data row13 col12\" >0.440056</td>\n",
       "                        <td id=\"T_d0f90486_167a_11eb_9b26_52540027037arow13_col13\" class=\"data row13 col13\" >1.000000</td>\n",
       "                        <td id=\"T_d0f90486_167a_11eb_9b26_52540027037arow13_col14\" class=\"data row13 col14\" >0.637348</td>\n",
       "                        <td id=\"T_d0f90486_167a_11eb_9b26_52540027037arow13_col15\" class=\"data row13 col15\" >0.555060</td>\n",
       "                        <td id=\"T_d0f90486_167a_11eb_9b26_52540027037arow13_col16\" class=\"data row13 col16\" >0.775157</td>\n",
       "            </tr>\n",
       "            <tr>\n",
       "                        <th id=\"T_d0f90486_167a_11eb_9b26_52540027037alevel0_row14\" class=\"row_heading level0 row14\" >Testing_policy</th>\n",
       "                        <td id=\"T_d0f90486_167a_11eb_9b26_52540027037arow14_col0\" class=\"data row14 col0\" >-0.153377</td>\n",
       "                        <td id=\"T_d0f90486_167a_11eb_9b26_52540027037arow14_col1\" class=\"data row14 col1\" >-0.361883</td>\n",
       "                        <td id=\"T_d0f90486_167a_11eb_9b26_52540027037arow14_col2\" class=\"data row14 col2\" >-0.319781</td>\n",
       "                        <td id=\"T_d0f90486_167a_11eb_9b26_52540027037arow14_col3\" class=\"data row14 col3\" >-0.471242</td>\n",
       "                        <td id=\"T_d0f90486_167a_11eb_9b26_52540027037arow14_col4\" class=\"data row14 col4\" >-0.154557</td>\n",
       "                        <td id=\"T_d0f90486_167a_11eb_9b26_52540027037arow14_col5\" class=\"data row14 col5\" >0.483654</td>\n",
       "                        <td id=\"T_d0f90486_167a_11eb_9b26_52540027037arow14_col6\" class=\"data row14 col6\" >0.522469</td>\n",
       "                        <td id=\"T_d0f90486_167a_11eb_9b26_52540027037arow14_col7\" class=\"data row14 col7\" >0.630422</td>\n",
       "                        <td id=\"T_d0f90486_167a_11eb_9b26_52540027037arow14_col8\" class=\"data row14 col8\" >0.469943</td>\n",
       "                        <td id=\"T_d0f90486_167a_11eb_9b26_52540027037arow14_col9\" class=\"data row14 col9\" >0.201849</td>\n",
       "                        <td id=\"T_d0f90486_167a_11eb_9b26_52540027037arow14_col10\" class=\"data row14 col10\" >0.223397</td>\n",
       "                        <td id=\"T_d0f90486_167a_11eb_9b26_52540027037arow14_col11\" class=\"data row14 col11\" >0.259888</td>\n",
       "                        <td id=\"T_d0f90486_167a_11eb_9b26_52540027037arow14_col12\" class=\"data row14 col12\" >0.356253</td>\n",
       "                        <td id=\"T_d0f90486_167a_11eb_9b26_52540027037arow14_col13\" class=\"data row14 col13\" >0.637348</td>\n",
       "                        <td id=\"T_d0f90486_167a_11eb_9b26_52540027037arow14_col14\" class=\"data row14 col14\" >1.000000</td>\n",
       "                        <td id=\"T_d0f90486_167a_11eb_9b26_52540027037arow14_col15\" class=\"data row14 col15\" >0.355724</td>\n",
       "                        <td id=\"T_d0f90486_167a_11eb_9b26_52540027037arow14_col16\" class=\"data row14 col16\" >0.387566</td>\n",
       "            </tr>\n",
       "            <tr>\n",
       "                        <th id=\"T_d0f90486_167a_11eb_9b26_52540027037alevel0_row15\" class=\"row_heading level0 row15\" >Contact_tracing</th>\n",
       "                        <td id=\"T_d0f90486_167a_11eb_9b26_52540027037arow15_col0\" class=\"data row15 col0\" >-0.301221</td>\n",
       "                        <td id=\"T_d0f90486_167a_11eb_9b26_52540027037arow15_col1\" class=\"data row15 col1\" >-0.025718</td>\n",
       "                        <td id=\"T_d0f90486_167a_11eb_9b26_52540027037arow15_col2\" class=\"data row15 col2\" >-0.041046</td>\n",
       "                        <td id=\"T_d0f90486_167a_11eb_9b26_52540027037arow15_col3\" class=\"data row15 col3\" >-0.170568</td>\n",
       "                        <td id=\"T_d0f90486_167a_11eb_9b26_52540027037arow15_col4\" class=\"data row15 col4\" >0.111115</td>\n",
       "                        <td id=\"T_d0f90486_167a_11eb_9b26_52540027037arow15_col5\" class=\"data row15 col5\" >0.328263</td>\n",
       "                        <td id=\"T_d0f90486_167a_11eb_9b26_52540027037arow15_col6\" class=\"data row15 col6\" >0.340444</td>\n",
       "                        <td id=\"T_d0f90486_167a_11eb_9b26_52540027037arow15_col7\" class=\"data row15 col7\" >0.600300</td>\n",
       "                        <td id=\"T_d0f90486_167a_11eb_9b26_52540027037arow15_col8\" class=\"data row15 col8\" >0.255967</td>\n",
       "                        <td id=\"T_d0f90486_167a_11eb_9b26_52540027037arow15_col9\" class=\"data row15 col9\" >0.095122</td>\n",
       "                        <td id=\"T_d0f90486_167a_11eb_9b26_52540027037arow15_col10\" class=\"data row15 col10\" >0.302703</td>\n",
       "                        <td id=\"T_d0f90486_167a_11eb_9b26_52540027037arow15_col11\" class=\"data row15 col11\" >0.151950</td>\n",
       "                        <td id=\"T_d0f90486_167a_11eb_9b26_52540027037arow15_col12\" class=\"data row15 col12\" >0.383734</td>\n",
       "                        <td id=\"T_d0f90486_167a_11eb_9b26_52540027037arow15_col13\" class=\"data row15 col13\" >0.555060</td>\n",
       "                        <td id=\"T_d0f90486_167a_11eb_9b26_52540027037arow15_col14\" class=\"data row15 col14\" >0.355724</td>\n",
       "                        <td id=\"T_d0f90486_167a_11eb_9b26_52540027037arow15_col15\" class=\"data row15 col15\" >1.000000</td>\n",
       "                        <td id=\"T_d0f90486_167a_11eb_9b26_52540027037arow15_col16\" class=\"data row15 col16\" >0.409205</td>\n",
       "            </tr>\n",
       "            <tr>\n",
       "                        <th id=\"T_d0f90486_167a_11eb_9b26_52540027037alevel0_row16\" class=\"row_heading level0 row16\" >Stringency_index</th>\n",
       "                        <td id=\"T_d0f90486_167a_11eb_9b26_52540027037arow16_col0\" class=\"data row16 col0\" >0.045511</td>\n",
       "                        <td id=\"T_d0f90486_167a_11eb_9b26_52540027037arow16_col1\" class=\"data row16 col1\" >-0.132262</td>\n",
       "                        <td id=\"T_d0f90486_167a_11eb_9b26_52540027037arow16_col2\" class=\"data row16 col2\" >-0.147896</td>\n",
       "                        <td id=\"T_d0f90486_167a_11eb_9b26_52540027037arow16_col3\" class=\"data row16 col3\" >-0.032446</td>\n",
       "                        <td id=\"T_d0f90486_167a_11eb_9b26_52540027037arow16_col4\" class=\"data row16 col4\" >0.120699</td>\n",
       "                        <td id=\"T_d0f90486_167a_11eb_9b26_52540027037arow16_col5\" class=\"data row16 col5\" >0.807643</td>\n",
       "                        <td id=\"T_d0f90486_167a_11eb_9b26_52540027037arow16_col6\" class=\"data row16 col6\" >0.796172</td>\n",
       "                        <td id=\"T_d0f90486_167a_11eb_9b26_52540027037arow16_col7\" class=\"data row16 col7\" >0.759460</td>\n",
       "                        <td id=\"T_d0f90486_167a_11eb_9b26_52540027037arow16_col8\" class=\"data row16 col8\" >0.842362</td>\n",
       "                        <td id=\"T_d0f90486_167a_11eb_9b26_52540027037arow16_col9\" class=\"data row16 col9\" >0.758006</td>\n",
       "                        <td id=\"T_d0f90486_167a_11eb_9b26_52540027037arow16_col10\" class=\"data row16 col10\" >0.790705</td>\n",
       "                        <td id=\"T_d0f90486_167a_11eb_9b26_52540027037arow16_col11\" class=\"data row16 col11\" >0.770501</td>\n",
       "                        <td id=\"T_d0f90486_167a_11eb_9b26_52540027037arow16_col12\" class=\"data row16 col12\" >0.668838</td>\n",
       "                        <td id=\"T_d0f90486_167a_11eb_9b26_52540027037arow16_col13\" class=\"data row16 col13\" >0.775157</td>\n",
       "                        <td id=\"T_d0f90486_167a_11eb_9b26_52540027037arow16_col14\" class=\"data row16 col14\" >0.387566</td>\n",
       "                        <td id=\"T_d0f90486_167a_11eb_9b26_52540027037arow16_col15\" class=\"data row16 col15\" >0.409205</td>\n",
       "                        <td id=\"T_d0f90486_167a_11eb_9b26_52540027037arow16_col16\" class=\"data row16 col16\" >1.000000</td>\n",
       "            </tr>\n",
       "    </tbody></table>"
      ],
      "text/plain": [
       "<pandas.io.formats.style.Styler at 0x7f9c602955e0>"
      ]
     },
     "execution_count": 21,
     "metadata": {},
     "output_type": "execute_result"
    }
   ],
   "source": [
    "# Correlation\n",
    "df = track_df.copy()\n",
    "df.corr().style.background_gradient(axis=None)"
   ]
  },
  {
   "cell_type": "code",
   "execution_count": 22,
   "metadata": {
    "collapsed": false
   },
   "outputs": [
    {
     "data": {
      "image/png": "[encoded data removed]",
      "text/plain": [
       "<Figure size 432x288 with 1 Axes>"
      ]
     },
     "metadata": {},
     "output_type": "display_data"
    }
   ],
   "source": [
    "# Scatter plot of Stringency index and Rt\n",
    "df = track_df.copy()\n",
    "sns.scatterplot(data=df, x=\"Stringency_index\", y=\"Rt\", hue=\"Country\", legend=\"brief\", marker=\"+\")\n",
    "bbox_to_anchor=(1.02, 0)\n",
    "bbox_loc=\"lower left\"\n",
    "plt.legend(bbox_to_anchor=bbox_to_anchor, loc=bbox_loc, borderaxespad=0)\n",
    "plt.title(\"Relationship of Stringency index and reproduction number\")\n",
    "plt.ylabel(\"Reproduction number\")\n",
    "plt.xlabel(\"Stringency index\")\n",
    "plt.show()"
   ]
  }
 ],
 "metadata": {
  "kernelspec": {
   "display_name": "Python 3.8.2 64-bit ('.venv': venv)",
   "name": "python_defaultSpec_1597669925034"
  },
  "language_info": {
   "codemirror_mode": {
    "name": "ipython",
    "version": 3
   },
   "file_extension": ".py",
   "mimetype": "text/x-python",
   "name": "python",
   "nbconvert_exporter": "python",
   "pygments_lexer": "ipython3",
   "version": "3.8.2-final"
  }
 },
 "nbformat": 4,
 "nbformat_minor": 4
}
