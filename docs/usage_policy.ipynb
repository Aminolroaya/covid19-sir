{
 "cells": [
  {
   "cell_type": "markdown",
   "metadata": {},
   "source": [
    "# Usage (details: policy measures)\n",
    "Here, we will analyse the relationship of policy measures and parameter values of SIR-derived ODE models. Policy measures are tracked by [Oxford Covid-19 Government Response Tracker (OxCGRT)](https://github.com/OxCGRT/covid-policy-tracker)."
   ]
  },
  {
   "cell_type": "markdown",
   "metadata": {},
   "source": [
    "## Preparation"
   ]
  },
  {
   "cell_type": "code",
   "execution_count": 1,
   "metadata": {
    "collapsed": false
   },
   "outputs": [],
   "source": [
    "# Standard users\n",
    "# !pip install covsirphy\n",
    "# Developers (Note: this notebook is in example directory)\n",
    "import os\n",
    "os.chdir(\"../\")"
   ]
  },
  {
   "cell_type": "code",
   "execution_count": 2,
   "metadata": {
    "collapsed": false
   },
   "outputs": [],
   "source": [
    "from pprint import pprint"
   ]
  },
  {
   "cell_type": "code",
   "execution_count": 3,
   "metadata": {
    "collapsed": false
   },
   "outputs": [
    {
     "data": {
      "text/plain": [
       "'2.7.3-alpha.new.202.203.206'"
      ]
     },
     "execution_count": 3,
     "metadata": {},
     "output_type": "execute_result"
    }
   ],
   "source": [
    "import covsirphy as cs\n",
    "cs.__version__"
   ]
  },
  {
   "cell_type": "code",
   "execution_count": 4,
   "metadata": {
    "collapsed": false,
    "tags": []
   },
   "outputs": [
    {
     "name": "stdout",
     "output_type": "stream",
     "text": [
      "(Secondary source) Guidotti, E., Ardia, D., (2020), \"COVID-19 Data Hub\", Working paper, doi: 10.13140/RG.2.2.11649.81763.\n",
      "We can get Citation list of primary sources with DataLoader(...).covid19dh_citation"
     ]
    },
    {
     "name": "stdout",
     "output_type": "stream",
     "text": [
      "\n"
     ]
    }
   ],
   "source": [
    "# Standard users and developers\n",
    "data_loader = cs.DataLoader(\"input\")\n",
    "# The number of cases (JHU style)\n",
    "jhu_data = data_loader.jhu(verbose=False)\n",
    "# Population in each country\n",
    "population_data = data_loader.population(verbose=False)\n",
    "# Government Response Tracker (OxCGRT)\n",
    "oxcgrt_data = data_loader.oxcgrt(verbose=False)\n",
    "# Description/citation\n",
    "print(oxcgrt_data.citation)"
   ]
  },
  {
   "cell_type": "markdown",
   "metadata": {},
   "source": [
    "## Class for policy measure analysis\n",
    "We will `PolicyMeasures` class to find relationship of policy measures and parameter values of SIR-derived ODE models."
   ]
  },
  {
   "cell_type": "code",
   "execution_count": 5,
   "metadata": {
    "collapsed": false,
    "tags": []
   },
   "outputs": [
    {
     "data": {
      "text/plain": [
       "184"
      ]
     },
     "execution_count": 5,
     "metadata": {},
     "output_type": "execute_result"
    }
   ],
   "source": [
    "# Create analyser with tau value 360 [min] (can be changed)\n",
    "analyser = cs.PolicyMeasures(jhu_data, population_data, oxcgrt_data, tau=360)\n",
    "# The number of registerd countries\n",
    "len(analyser.countries)"
   ]
  },
  {
   "cell_type": "code",
   "execution_count": 6,
   "metadata": {
    "collapsed": false
   },
   "outputs": [
    {
     "data": {
      "text/plain": [
       "covsirphy.analysis.scenario.Scenario"
      ]
     },
     "execution_count": 6,
     "metadata": {},
     "output_type": "execute_result"
    }
   ],
   "source": [
    "# We can get Scenario instance for detailed scenario analysis\n",
    "type(analyser.scenario(\"Japan\"))"
   ]
  },
  {
   "cell_type": "markdown",
   "metadata": {},
   "source": [
    "## Set phases with S-R trend analysis\n",
    "We will perform S-R trend analysis to set phases in all countries. Countries which do not have **9th phases** will be un-registered for the next analysis. This number will be adjusted for your analysis."
   ]
  },
  {
   "cell_type": "code",
   "execution_count": 7,
   "metadata": {
    "collapsed": false
   },
   "outputs": [
    {
     "name": "stdout",
     "output_type": "stream",
     "text": [
      "{"
     ]
    },
    {
     "name": "stdout",
     "output_type": "stream",
     "text": [
      "2"
     ]
    },
    {
     "name": "stdout",
     "output_type": "stream",
     "text": [
      ": "
     ]
    },
    {
     "name": "stdout",
     "output_type": "stream",
     "text": [
      "['Dominica', 'Fiji', 'Papua New Guinea', 'Namibia', 'Bahamas']"
     ]
    },
    {
     "name": "stdout",
     "output_type": "stream",
     "text": [
      ",\n",
      " "
     ]
    },
    {
     "name": "stdout",
     "output_type": "stream",
     "text": [
      "3"
     ]
    },
    {
     "name": "stdout",
     "output_type": "stream",
     "text": [
      ": "
     ]
    },
    {
     "name": "stdout",
     "output_type": "stream",
     "text": [
      "['Mauritius', 'Gambia', 'Seychelles', 'Lesotho', 'Brunei', 'Tanzania']"
     ]
    },
    {
     "name": "stdout",
     "output_type": "stream",
     "text": [
      ",\n",
      " "
     ]
    },
    {
     "name": "stdout",
     "output_type": "stream",
     "text": [
      "4"
     ]
    },
    {
     "name": "stdout",
     "output_type": "stream",
     "text": [
      ": "
     ]
    },
    {
     "name": "stdout",
     "output_type": "stream",
     "text": [
      "["
     ]
    },
    {
     "name": "stdout",
     "output_type": "stream",
     "text": [
      "'Zambia'"
     ]
    },
    {
     "name": "stdout",
     "output_type": "stream",
     "text": [
      ", "
     ]
    },
    {
     "name": "stdout",
     "output_type": "stream",
     "text": [
      "'Guatemala'"
     ]
    },
    {
     "name": "stdout",
     "output_type": "stream",
     "text": [
      ", "
     ]
    },
    {
     "name": "stdout",
     "output_type": "stream",
     "text": [
      "'Yemen'"
     ]
    },
    {
     "name": "stdout",
     "output_type": "stream",
     "text": [
      ", "
     ]
    },
    {
     "name": "stdout",
     "output_type": "stream",
     "text": [
      "'Iceland'"
     ]
    },
    {
     "name": "stdout",
     "output_type": "stream",
     "text": [
      ", "
     ]
    },
    {
     "name": "stdout",
     "output_type": "stream",
     "text": [
      "'Kyrgyzstan'"
     ]
    },
    {
     "name": "stdout",
     "output_type": "stream",
     "text": [
      ", "
     ]
    },
    {
     "name": "stdout",
     "output_type": "stream",
     "text": [
      "'New Zealand'"
     ]
    },
    {
     "name": "stdout",
     "output_type": "stream",
     "text": [
      ",\n",
      "     "
     ]
    },
    {
     "name": "stdout",
     "output_type": "stream",
     "text": [
      "'Suriname'"
     ]
    },
    {
     "name": "stdout",
     "output_type": "stream",
     "text": [
      ", "
     ]
    },
    {
     "name": "stdout",
     "output_type": "stream",
     "text": [
      "'Venezuela'"
     ]
    },
    {
     "name": "stdout",
     "output_type": "stream",
     "text": [
      ", "
     ]
    },
    {
     "name": "stdout",
     "output_type": "stream",
     "text": [
      "'Eritrea'"
     ]
    },
    {
     "name": "stdout",
     "output_type": "stream",
     "text": [
      ", "
     ]
    },
    {
     "name": "stdout",
     "output_type": "stream",
     "text": [
      "'Antigua and Barbuda'"
     ]
    },
    {
     "name": "stdout",
     "output_type": "stream",
     "text": [
      ", "
     ]
    },
    {
     "name": "stdout",
     "output_type": "stream",
     "text": [
      "'Belize'"
     ]
    },
    {
     "name": "stdout",
     "output_type": "stream",
     "text": [
      ",\n",
      "     "
     ]
    },
    {
     "name": "stdout",
     "output_type": "stream",
     "text": [
      "'Montenegro'"
     ]
    },
    {
     "name": "stdout",
     "output_type": "stream",
     "text": [
      ", "
     ]
    },
    {
     "name": "stdout",
     "output_type": "stream",
     "text": [
      "'Sao Tome and Principe'"
     ]
    },
    {
     "name": "stdout",
     "output_type": "stream",
     "text": [
      ", "
     ]
    },
    {
     "name": "stdout",
     "output_type": "stream",
     "text": [
      "'Norway'"
     ]
    },
    {
     "name": "stdout",
     "output_type": "stream",
     "text": [
      ", "
     ]
    },
    {
     "name": "stdout",
     "output_type": "stream",
     "text": [
      "'Ireland'"
     ]
    },
    {
     "name": "stdout",
     "output_type": "stream",
     "text": [
      ", "
     ]
    },
    {
     "name": "stdout",
     "output_type": "stream",
     "text": [
      "'Zimbabwe'"
     ]
    },
    {
     "name": "stdout",
     "output_type": "stream",
     "text": [
      ",\n",
      "     "
     ]
    },
    {
     "name": "stdout",
     "output_type": "stream",
     "text": [
      "'Central African Republic'"
     ]
    },
    {
     "name": "stdout",
     "output_type": "stream",
     "text": [
      ", "
     ]
    },
    {
     "name": "stdout",
     "output_type": "stream",
     "text": [
      "'Grenada'"
     ]
    },
    {
     "name": "stdout",
     "output_type": "stream",
     "text": [
      ", "
     ]
    },
    {
     "name": "stdout",
     "output_type": "stream",
     "text": [
      "'Palestine'"
     ]
    },
    {
     "name": "stdout",
     "output_type": "stream",
     "text": [
      ", "
     ]
    },
    {
     "name": "stdout",
     "output_type": "stream",
     "text": [
      "'Trinidad and Tobago'"
     ]
    },
    {
     "name": "stdout",
     "output_type": "stream",
     "text": [
      ",\n",
      "     "
     ]
    },
    {
     "name": "stdout",
     "output_type": "stream",
     "text": [
      "'Botswana'"
     ]
    },
    {
     "name": "stdout",
     "output_type": "stream",
     "text": [
      ", "
     ]
    },
    {
     "name": "stdout",
     "output_type": "stream",
     "text": [
      "'Equatorial Guinea'"
     ]
    },
    {
     "name": "stdout",
     "output_type": "stream",
     "text": [
      ", "
     ]
    },
    {
     "name": "stdout",
     "output_type": "stream",
     "text": [
      "'South Sudan'"
     ]
    },
    {
     "name": "stdout",
     "output_type": "stream",
     "text": [
      ", "
     ]
    },
    {
     "name": "stdout",
     "output_type": "stream",
     "text": [
      "'Saint Lucia'"
     ]
    },
    {
     "name": "stdout",
     "output_type": "stream",
     "text": [
      "]"
     ]
    },
    {
     "name": "stdout",
     "output_type": "stream",
     "text": [
      ",\n",
      " "
     ]
    },
    {
     "name": "stdout",
     "output_type": "stream",
     "text": [
      "5"
     ]
    },
    {
     "name": "stdout",
     "output_type": "stream",
     "text": [
      ": "
     ]
    },
    {
     "name": "stdout",
     "output_type": "stream",
     "text": [
      "["
     ]
    },
    {
     "name": "stdout",
     "output_type": "stream",
     "text": [
      "'Australia'"
     ]
    },
    {
     "name": "stdout",
     "output_type": "stream",
     "text": [
      ", "
     ]
    },
    {
     "name": "stdout",
     "output_type": "stream",
     "text": [
      "'Libya'"
     ]
    },
    {
     "name": "stdout",
     "output_type": "stream",
     "text": [
      ", "
     ]
    },
    {
     "name": "stdout",
     "output_type": "stream",
     "text": [
      "'Madagascar'"
     ]
    },
    {
     "name": "stdout",
     "output_type": "stream",
     "text": [
      ", "
     ]
    },
    {
     "name": "stdout",
     "output_type": "stream",
     "text": [
      "'Kenya'"
     ]
    },
    {
     "name": "stdout",
     "output_type": "stream",
     "text": [
      ", "
     ]
    },
    {
     "name": "stdout",
     "output_type": "stream",
     "text": [
      "'Cambodia'"
     ]
    },
    {
     "name": "stdout",
     "output_type": "stream",
     "text": [
      ",\n",
      "     "
     ]
    },
    {
     "name": "stdout",
     "output_type": "stream",
     "text": [
      "'Saint Vincent and the Grenadines'"
     ]
    },
    {
     "name": "stdout",
     "output_type": "stream",
     "text": [
      ", "
     ]
    },
    {
     "name": "stdout",
     "output_type": "stream",
     "text": [
      "'Liechtenstein'"
     ]
    },
    {
     "name": "stdout",
     "output_type": "stream",
     "text": [
      ", "
     ]
    },
    {
     "name": "stdout",
     "output_type": "stream",
     "text": [
      "'Spain'"
     ]
    },
    {
     "name": "stdout",
     "output_type": "stream",
     "text": [
      ", "
     ]
    },
    {
     "name": "stdout",
     "output_type": "stream",
     "text": [
      "'Slovakia'"
     ]
    },
    {
     "name": "stdout",
     "output_type": "stream",
     "text": [
      ",\n",
      "     "
     ]
    },
    {
     "name": "stdout",
     "output_type": "stream",
     "text": [
      "'Angola'"
     ]
    },
    {
     "name": "stdout",
     "output_type": "stream",
     "text": [
      ", "
     ]
    },
    {
     "name": "stdout",
     "output_type": "stream",
     "text": [
      "'Vietnam'"
     ]
    },
    {
     "name": "stdout",
     "output_type": "stream",
     "text": [
      ", "
     ]
    },
    {
     "name": "stdout",
     "output_type": "stream",
     "text": [
      "'Guyana'"
     ]
    },
    {
     "name": "stdout",
     "output_type": "stream",
     "text": [
      ", "
     ]
    },
    {
     "name": "stdout",
     "output_type": "stream",
     "text": [
      "'Maldives'"
     ]
    },
    {
     "name": "stdout",
     "output_type": "stream",
     "text": [
      ", "
     ]
    },
    {
     "name": "stdout",
     "output_type": "stream",
     "text": [
      "'Chad'"
     ]
    },
    {
     "name": "stdout",
     "output_type": "stream",
     "text": [
      ", "
     ]
    },
    {
     "name": "stdout",
     "output_type": "stream",
     "text": [
      "'Comoros'"
     ]
    },
    {
     "name": "stdout",
     "output_type": "stream",
     "text": [
      ", "
     ]
    },
    {
     "name": "stdout",
     "output_type": "stream",
     "text": [
      "'Benin'"
     ]
    },
    {
     "name": "stdout",
     "output_type": "stream",
     "text": [
      ",\n",
      "     "
     ]
    },
    {
     "name": "stdout",
     "output_type": "stream",
     "text": [
      "'Costa Rica'"
     ]
    },
    {
     "name": "stdout",
     "output_type": "stream",
     "text": [
      ", "
     ]
    },
    {
     "name": "stdout",
     "output_type": "stream",
     "text": [
      "'Swaziland'"
     ]
    },
    {
     "name": "stdout",
     "output_type": "stream",
     "text": [
      ", "
     ]
    },
    {
     "name": "stdout",
     "output_type": "stream",
     "text": [
      "'Ethiopia'"
     ]
    },
    {
     "name": "stdout",
     "output_type": "stream",
     "text": [
      ", "
     ]
    },
    {
     "name": "stdout",
     "output_type": "stream",
     "text": [
      "'Andorra'"
     ]
    },
    {
     "name": "stdout",
     "output_type": "stream",
     "text": [
      ", "
     ]
    },
    {
     "name": "stdout",
     "output_type": "stream",
     "text": [
      "'Lebanon'"
     ]
    },
    {
     "name": "stdout",
     "output_type": "stream",
     "text": [
      ", "
     ]
    },
    {
     "name": "stdout",
     "output_type": "stream",
     "text": [
      "'Kazakhstan'"
     ]
    },
    {
     "name": "stdout",
     "output_type": "stream",
     "text": [
      ",\n",
      "     "
     ]
    },
    {
     "name": "stdout",
     "output_type": "stream",
     "text": [
      "'Mozambique'"
     ]
    },
    {
     "name": "stdout",
     "output_type": "stream",
     "text": [
      ", "
     ]
    },
    {
     "name": "stdout",
     "output_type": "stream",
     "text": [
      "'Paraguay'"
     ]
    },
    {
     "name": "stdout",
     "output_type": "stream",
     "text": [
      ", "
     ]
    },
    {
     "name": "stdout",
     "output_type": "stream",
     "text": [
      "'Malawi'"
     ]
    },
    {
     "name": "stdout",
     "output_type": "stream",
     "text": [
      ", "
     ]
    },
    {
     "name": "stdout",
     "output_type": "stream",
     "text": [
      "'Syria'"
     ]
    },
    {
     "name": "stdout",
     "output_type": "stream",
     "text": [
      ", "
     ]
    },
    {
     "name": "stdout",
     "output_type": "stream",
     "text": [
      "'Philippines'"
     ]
    },
    {
     "name": "stdout",
     "output_type": "stream",
     "text": [
      ", "
     ]
    },
    {
     "name": "stdout",
     "output_type": "stream",
     "text": [
      "'Japan'"
     ]
    },
    {
     "name": "stdout",
     "output_type": "stream",
     "text": [
      ",\n",
      "     "
     ]
    },
    {
     "name": "stdout",
     "output_type": "stream",
     "text": [
      "'Morocco'"
     ]
    },
    {
     "name": "stdout",
     "output_type": "stream",
     "text": [
      ", "
     ]
    },
    {
     "name": "stdout",
     "output_type": "stream",
     "text": [
      "'Guinea-Bissau'"
     ]
    },
    {
     "name": "stdout",
     "output_type": "stream",
     "text": [
      "]"
     ]
    },
    {
     "name": "stdout",
     "output_type": "stream",
     "text": [
      ",\n",
      " "
     ]
    },
    {
     "name": "stdout",
     "output_type": "stream",
     "text": [
      "6"
     ]
    },
    {
     "name": "stdout",
     "output_type": "stream",
     "text": [
      ": "
     ]
    },
    {
     "name": "stdout",
     "output_type": "stream",
     "text": [
      "["
     ]
    },
    {
     "name": "stdout",
     "output_type": "stream",
     "text": [
      "'Bosnia and Herzegovina'"
     ]
    },
    {
     "name": "stdout",
     "output_type": "stream",
     "text": [
      ", "
     ]
    },
    {
     "name": "stdout",
     "output_type": "stream",
     "text": [
      "'San Marino'"
     ]
    },
    {
     "name": "stdout",
     "output_type": "stream",
     "text": [
      ", "
     ]
    },
    {
     "name": "stdout",
     "output_type": "stream",
     "text": [
      "'Taiwan'"
     ]
    },
    {
     "name": "stdout",
     "output_type": "stream",
     "text": [
      ", "
     ]
    },
    {
     "name": "stdout",
     "output_type": "stream",
     "text": [
      "'Rwanda'"
     ]
    },
    {
     "name": "stdout",
     "output_type": "stream",
     "text": [
      ", "
     ]
    },
    {
     "name": "stdout",
     "output_type": "stream",
     "text": [
      "'Argentina'"
     ]
    },
    {
     "name": "stdout",
     "output_type": "stream",
     "text": [
      ",\n",
      "     "
     ]
    },
    {
     "name": "stdout",
     "output_type": "stream",
     "text": [
      "'Kosovo'"
     ]
    },
    {
     "name": "stdout",
     "output_type": "stream",
     "text": [
      ", "
     ]
    },
    {
     "name": "stdout",
     "output_type": "stream",
     "text": [
      "'Croatia'"
     ]
    },
    {
     "name": "stdout",
     "output_type": "stream",
     "text": [
      ", "
     ]
    },
    {
     "name": "stdout",
     "output_type": "stream",
     "text": [
      "'Bermuda'"
     ]
    },
    {
     "name": "stdout",
     "output_type": "stream",
     "text": [
      ", "
     ]
    },
    {
     "name": "stdout",
     "output_type": "stream",
     "text": [
      "'Slovenia'"
     ]
    },
    {
     "name": "stdout",
     "output_type": "stream",
     "text": [
      ", "
     ]
    },
    {
     "name": "stdout",
     "output_type": "stream",
     "text": [
      "'Cape Verde'"
     ]
    },
    {
     "name": "stdout",
     "output_type": "stream",
     "text": [
      ", "
     ]
    },
    {
     "name": "stdout",
     "output_type": "stream",
     "text": [
      "'Burundi'"
     ]
    },
    {
     "name": "stdout",
     "output_type": "stream",
     "text": [
      ",\n",
      "     "
     ]
    },
    {
     "name": "stdout",
     "output_type": "stream",
     "text": [
      "'Luxembourg'"
     ]
    },
    {
     "name": "stdout",
     "output_type": "stream",
     "text": [
      ", "
     ]
    },
    {
     "name": "stdout",
     "output_type": "stream",
     "text": [
      "'Colombia'"
     ]
    },
    {
     "name": "stdout",
     "output_type": "stream",
     "text": [
      ", "
     ]
    },
    {
     "name": "stdout",
     "output_type": "stream",
     "text": [
      "'Haiti'"
     ]
    },
    {
     "name": "stdout",
     "output_type": "stream",
     "text": [
      ", "
     ]
    },
    {
     "name": "stdout",
     "output_type": "stream",
     "text": [
      "'Mauritania'"
     ]
    },
    {
     "name": "stdout",
     "output_type": "stream",
     "text": [
      ", "
     ]
    },
    {
     "name": "stdout",
     "output_type": "stream",
     "text": [
      "'Uganda'"
     ]
    },
    {
     "name": "stdout",
     "output_type": "stream",
     "text": [
      ", "
     ]
    },
    {
     "name": "stdout",
     "output_type": "stream",
     "text": [
      "'Congo'"
     ]
    },
    {
     "name": "stdout",
     "output_type": "stream",
     "text": [
      ",\n",
      "     "
     ]
    },
    {
     "name": "stdout",
     "output_type": "stream",
     "text": [
      "'South Africa'"
     ]
    },
    {
     "name": "stdout",
     "output_type": "stream",
     "text": [
      ", "
     ]
    },
    {
     "name": "stdout",
     "output_type": "stream",
     "text": [
      "'Mongolia'"
     ]
    },
    {
     "name": "stdout",
     "output_type": "stream",
     "text": [
      ", "
     ]
    },
    {
     "name": "stdout",
     "output_type": "stream",
     "text": [
      "'Netherlands'"
     ]
    },
    {
     "name": "stdout",
     "output_type": "stream",
     "text": [
      ", "
     ]
    },
    {
     "name": "stdout",
     "output_type": "stream",
     "text": [
      "'Somalia'"
     ]
    },
    {
     "name": "stdout",
     "output_type": "stream",
     "text": [
      ", "
     ]
    },
    {
     "name": "stdout",
     "output_type": "stream",
     "text": [
      "'Bolivia'"
     ]
    },
    {
     "name": "stdout",
     "output_type": "stream",
     "text": [
      ", "
     ]
    },
    {
     "name": "stdout",
     "output_type": "stream",
     "text": [
      "'Iraq'"
     ]
    },
    {
     "name": "stdout",
     "output_type": "stream",
     "text": [
      ",\n",
      "     "
     ]
    },
    {
     "name": "stdout",
     "output_type": "stream",
     "text": [
      "'India'"
     ]
    },
    {
     "name": "stdout",
     "output_type": "stream",
     "text": [
      ", "
     ]
    },
    {
     "name": "stdout",
     "output_type": "stream",
     "text": [
      "'Uzbekistan'"
     ]
    },
    {
     "name": "stdout",
     "output_type": "stream",
     "text": [
      ", "
     ]
    },
    {
     "name": "stdout",
     "output_type": "stream",
     "text": [
      "'Afghanistan'"
     ]
    },
    {
     "name": "stdout",
     "output_type": "stream",
     "text": [
      ", "
     ]
    },
    {
     "name": "stdout",
     "output_type": "stream",
     "text": [
      "'Tajikistan'"
     ]
    },
    {
     "name": "stdout",
     "output_type": "stream",
     "text": [
      ", "
     ]
    },
    {
     "name": "stdout",
     "output_type": "stream",
     "text": [
      "'Israel'"
     ]
    },
    {
     "name": "stdout",
     "output_type": "stream",
     "text": [
      ", "
     ]
    },
    {
     "name": "stdout",
     "output_type": "stream",
     "text": [
      "'Cuba'"
     ]
    },
    {
     "name": "stdout",
     "output_type": "stream",
     "text": [
      ",\n",
      "     "
     ]
    },
    {
     "name": "stdout",
     "output_type": "stream",
     "text": [
      "'Ecuador'"
     ]
    },
    {
     "name": "stdout",
     "output_type": "stream",
     "text": [
      ", "
     ]
    },
    {
     "name": "stdout",
     "output_type": "stream",
     "text": [
      "'Qatar'"
     ]
    },
    {
     "name": "stdout",
     "output_type": "stream",
     "text": [
      ", "
     ]
    },
    {
     "name": "stdout",
     "output_type": "stream",
     "text": [
      "'Oman'"
     ]
    },
    {
     "name": "stdout",
     "output_type": "stream",
     "text": [
      ", "
     ]
    },
    {
     "name": "stdout",
     "output_type": "stream",
     "text": [
      "'Niger'"
     ]
    },
    {
     "name": "stdout",
     "output_type": "stream",
     "text": [
      ", "
     ]
    },
    {
     "name": "stdout",
     "output_type": "stream",
     "text": [
      "'Malta'"
     ]
    },
    {
     "name": "stdout",
     "output_type": "stream",
     "text": [
      ", "
     ]
    },
    {
     "name": "stdout",
     "output_type": "stream",
     "text": [
      "'Sri Lanka'"
     ]
    },
    {
     "name": "stdout",
     "output_type": "stream",
     "text": [
      "]"
     ]
    },
    {
     "name": "stdout",
     "output_type": "stream",
     "text": [
      ",\n",
      " "
     ]
    },
    {
     "name": "stdout",
     "output_type": "stream",
     "text": [
      "7"
     ]
    },
    {
     "name": "stdout",
     "output_type": "stream",
     "text": [
      ": "
     ]
    },
    {
     "name": "stdout",
     "output_type": "stream",
     "text": [
      "["
     ]
    },
    {
     "name": "stdout",
     "output_type": "stream",
     "text": [
      "'Sudan'"
     ]
    },
    {
     "name": "stdout",
     "output_type": "stream",
     "text": [
      ", "
     ]
    },
    {
     "name": "stdout",
     "output_type": "stream",
     "text": [
      "'Egypt'"
     ]
    },
    {
     "name": "stdout",
     "output_type": "stream",
     "text": [
      ", "
     ]
    },
    {
     "name": "stdout",
     "output_type": "stream",
     "text": [
      "'Sierra Leone'"
     ]
    },
    {
     "name": "stdout",
     "output_type": "stream",
     "text": [
      ", "
     ]
    },
    {
     "name": "stdout",
     "output_type": "stream",
     "text": [
      "'Ghana'"
     ]
    },
    {
     "name": "stdout",
     "output_type": "stream",
     "text": [
      ", "
     ]
    },
    {
     "name": "stdout",
     "output_type": "stream",
     "text": [
      "'Nicaragua'"
     ]
    },
    {
     "name": "stdout",
     "output_type": "stream",
     "text": [
      ", "
     ]
    },
    {
     "name": "stdout",
     "output_type": "stream",
     "text": [
      "'Switzerland'"
     ]
    },
    {
     "name": "stdout",
     "output_type": "stream",
     "text": [
      ",\n",
      "     "
     ]
    },
    {
     "name": "stdout",
     "output_type": "stream",
     "text": [
      "'China'"
     ]
    },
    {
     "name": "stdout",
     "output_type": "stream",
     "text": [
      ", "
     ]
    },
    {
     "name": "stdout",
     "output_type": "stream",
     "text": [
      "'Uruguay'"
     ]
    },
    {
     "name": "stdout",
     "output_type": "stream",
     "text": [
      ", "
     ]
    },
    {
     "name": "stdout",
     "output_type": "stream",
     "text": [
      "'Pakistan'"
     ]
    },
    {
     "name": "stdout",
     "output_type": "stream",
     "text": [
      ", "
     ]
    },
    {
     "name": "stdout",
     "output_type": "stream",
     "text": [
      "'Panama'"
     ]
    },
    {
     "name": "stdout",
     "output_type": "stream",
     "text": [
      ", "
     ]
    },
    {
     "name": "stdout",
     "output_type": "stream",
     "text": [
      "'Dominican Republic'"
     ]
    },
    {
     "name": "stdout",
     "output_type": "stream",
     "text": [
      ", "
     ]
    },
    {
     "name": "stdout",
     "output_type": "stream",
     "text": [
      "'Cameroon'"
     ]
    },
    {
     "name": "stdout",
     "output_type": "stream",
     "text": [
      ",\n",
      "     "
     ]
    },
    {
     "name": "stdout",
     "output_type": "stream",
     "text": [
      "'Estonia'"
     ]
    },
    {
     "name": "stdout",
     "output_type": "stream",
     "text": [
      ", "
     ]
    },
    {
     "name": "stdout",
     "output_type": "stream",
     "text": [
      "'Burkina Faso'"
     ]
    },
    {
     "name": "stdout",
     "output_type": "stream",
     "text": [
      ", "
     ]
    },
    {
     "name": "stdout",
     "output_type": "stream",
     "text": [
      "'Nepal'"
     ]
    },
    {
     "name": "stdout",
     "output_type": "stream",
     "text": [
      ", "
     ]
    },
    {
     "name": "stdout",
     "output_type": "stream",
     "text": [
      "'Greece'"
     ]
    },
    {
     "name": "stdout",
     "output_type": "stream",
     "text": [
      ", "
     ]
    },
    {
     "name": "stdout",
     "output_type": "stream",
     "text": [
      "'Bhutan'"
     ]
    },
    {
     "name": "stdout",
     "output_type": "stream",
     "text": [
      ", "
     ]
    },
    {
     "name": "stdout",
     "output_type": "stream",
     "text": [
      "'Armenia'"
     ]
    },
    {
     "name": "stdout",
     "output_type": "stream",
     "text": [
      ", "
     ]
    },
    {
     "name": "stdout",
     "output_type": "stream",
     "text": [
      "'Chile'"
     ]
    },
    {
     "name": "stdout",
     "output_type": "stream",
     "text": [
      ",\n",
      "     "
     ]
    },
    {
     "name": "stdout",
     "output_type": "stream",
     "text": [
      "'Bulgaria'"
     ]
    },
    {
     "name": "stdout",
     "output_type": "stream",
     "text": [
      ", "
     ]
    },
    {
     "name": "stdout",
     "output_type": "stream",
     "text": [
      "'Albania'"
     ]
    },
    {
     "name": "stdout",
     "output_type": "stream",
     "text": [
      ", "
     ]
    },
    {
     "name": "stdout",
     "output_type": "stream",
     "text": [
      "'Barbados'"
     ]
    },
    {
     "name": "stdout",
     "output_type": "stream",
     "text": [
      ", "
     ]
    },
    {
     "name": "stdout",
     "output_type": "stream",
     "text": [
      "'Djibouti'"
     ]
    },
    {
     "name": "stdout",
     "output_type": "stream",
     "text": [
      ", "
     ]
    },
    {
     "name": "stdout",
     "output_type": "stream",
     "text": [
      "'Thailand'"
     ]
    },
    {
     "name": "stdout",
     "output_type": "stream",
     "text": [
      ", "
     ]
    },
    {
     "name": "stdout",
     "output_type": "stream",
     "text": [
      "'El Salvador'"
     ]
    },
    {
     "name": "stdout",
     "output_type": "stream",
     "text": [
      ",\n",
      "     "
     ]
    },
    {
     "name": "stdout",
     "output_type": "stream",
     "text": [
      "'Germany'"
     ]
    },
    {
     "name": "stdout",
     "output_type": "stream",
     "text": [
      ", "
     ]
    },
    {
     "name": "stdout",
     "output_type": "stream",
     "text": [
      "'Honduras'"
     ]
    },
    {
     "name": "stdout",
     "output_type": "stream",
     "text": [
      ", "
     ]
    },
    {
     "name": "stdout",
     "output_type": "stream",
     "text": [
      "'Canada'"
     ]
    },
    {
     "name": "stdout",
     "output_type": "stream",
     "text": [
      ", "
     ]
    },
    {
     "name": "stdout",
     "output_type": "stream",
     "text": [
      "'Cyprus'"
     ]
    },
    {
     "name": "stdout",
     "output_type": "stream",
     "text": [
      ", "
     ]
    },
    {
     "name": "stdout",
     "output_type": "stream",
     "text": [
      "'Tunisia'"
     ]
    },
    {
     "name": "stdout",
     "output_type": "stream",
     "text": [
      ", "
     ]
    },
    {
     "name": "stdout",
     "output_type": "stream",
     "text": [
      "'Azerbaijan'"
     ]
    },
    {
     "name": "stdout",
     "output_type": "stream",
     "text": [
      ",\n",
      "     "
     ]
    },
    {
     "name": "stdout",
     "output_type": "stream",
     "text": [
      "'Belgium'"
     ]
    },
    {
     "name": "stdout",
     "output_type": "stream",
     "text": [
      ", "
     ]
    },
    {
     "name": "stdout",
     "output_type": "stream",
     "text": [
      "'Monaco'"
     ]
    },
    {
     "name": "stdout",
     "output_type": "stream",
     "text": [
      ", "
     ]
    },
    {
     "name": "stdout",
     "output_type": "stream",
     "text": [
      "'Finland'"
     ]
    },
    {
     "name": "stdout",
     "output_type": "stream",
     "text": [
      ", "
     ]
    },
    {
     "name": "stdout",
     "output_type": "stream",
     "text": [
      "'Serbia'"
     ]
    },
    {
     "name": "stdout",
     "output_type": "stream",
     "text": [
      ", "
     ]
    },
    {
     "name": "stdout",
     "output_type": "stream",
     "text": [
      "'Macedonia'"
     ]
    },
    {
     "name": "stdout",
     "output_type": "stream",
     "text": [
      ", "
     ]
    },
    {
     "name": "stdout",
     "output_type": "stream",
     "text": [
      "'Algeria'"
     ]
    },
    {
     "name": "stdout",
     "output_type": "stream",
     "text": [
      ",\n",
      "     "
     ]
    },
    {
     "name": "stdout",
     "output_type": "stream",
     "text": [
      "'Latvia'"
     ]
    },
    {
     "name": "stdout",
     "output_type": "stream",
     "text": [
      "]"
     ]
    },
    {
     "name": "stdout",
     "output_type": "stream",
     "text": [
      ",\n",
      " "
     ]
    },
    {
     "name": "stdout",
     "output_type": "stream",
     "text": [
      "8"
     ]
    },
    {
     "name": "stdout",
     "output_type": "stream",
     "text": [
      ": "
     ]
    },
    {
     "name": "stdout",
     "output_type": "stream",
     "text": [
      "["
     ]
    },
    {
     "name": "stdout",
     "output_type": "stream",
     "text": [
      "'United States'"
     ]
    },
    {
     "name": "stdout",
     "output_type": "stream",
     "text": [
      ", "
     ]
    },
    {
     "name": "stdout",
     "output_type": "stream",
     "text": [
      "'Peru'"
     ]
    },
    {
     "name": "stdout",
     "output_type": "stream",
     "text": [
      ", "
     ]
    },
    {
     "name": "stdout",
     "output_type": "stream",
     "text": [
      "'Myanmar'"
     ]
    },
    {
     "name": "stdout",
     "output_type": "stream",
     "text": [
      ", "
     ]
    },
    {
     "name": "stdout",
     "output_type": "stream",
     "text": [
      "'Nigeria'"
     ]
    },
    {
     "name": "stdout",
     "output_type": "stream",
     "text": [
      ", "
     ]
    },
    {
     "name": "stdout",
     "output_type": "stream",
     "text": [
      "'Indonesia'"
     ]
    },
    {
     "name": "stdout",
     "output_type": "stream",
     "text": [
      ", "
     ]
    },
    {
     "name": "stdout",
     "output_type": "stream",
     "text": [
      "'Malaysia'"
     ]
    },
    {
     "name": "stdout",
     "output_type": "stream",
     "text": [
      ",\n",
      "     "
     ]
    },
    {
     "name": "stdout",
     "output_type": "stream",
     "text": [
      "'Hungary'"
     ]
    },
    {
     "name": "stdout",
     "output_type": "stream",
     "text": [
      ", "
     ]
    },
    {
     "name": "stdout",
     "output_type": "stream",
     "text": [
      "'Turkey'"
     ]
    },
    {
     "name": "stdout",
     "output_type": "stream",
     "text": [
      ", "
     ]
    },
    {
     "name": "stdout",
     "output_type": "stream",
     "text": [
      "'Gabon'"
     ]
    },
    {
     "name": "stdout",
     "output_type": "stream",
     "text": [
      ", "
     ]
    },
    {
     "name": "stdout",
     "output_type": "stream",
     "text": [
      "'Singapore'"
     ]
    },
    {
     "name": "stdout",
     "output_type": "stream",
     "text": [
      ", "
     ]
    },
    {
     "name": "stdout",
     "output_type": "stream",
     "text": [
      "'Liberia'"
     ]
    },
    {
     "name": "stdout",
     "output_type": "stream",
     "text": [
      ", "
     ]
    },
    {
     "name": "stdout",
     "output_type": "stream",
     "text": [
      "'Georgia'"
     ]
    },
    {
     "name": "stdout",
     "output_type": "stream",
     "text": [
      ",\n",
      "     "
     ]
    },
    {
     "name": "stdout",
     "output_type": "stream",
     "text": [
      "'Lithuania'"
     ]
    },
    {
     "name": "stdout",
     "output_type": "stream",
     "text": [
      ", "
     ]
    },
    {
     "name": "stdout",
     "output_type": "stream",
     "text": [
      "'Saudi Arabia'"
     ]
    },
    {
     "name": "stdout",
     "output_type": "stream",
     "text": [
      ", "
     ]
    },
    {
     "name": "stdout",
     "output_type": "stream",
     "text": [
      "'Jordan'"
     ]
    },
    {
     "name": "stdout",
     "output_type": "stream",
     "text": [
      ", "
     ]
    },
    {
     "name": "stdout",
     "output_type": "stream",
     "text": [
      "'Mexico'"
     ]
    },
    {
     "name": "stdout",
     "output_type": "stream",
     "text": [
      ", "
     ]
    },
    {
     "name": "stdout",
     "output_type": "stream",
     "text": [
      "'Togo'"
     ]
    },
    {
     "name": "stdout",
     "output_type": "stream",
     "text": [
      ", "
     ]
    },
    {
     "name": "stdout",
     "output_type": "stream",
     "text": [
      "'Belarus'"
     ]
    },
    {
     "name": "stdout",
     "output_type": "stream",
     "text": [
      ",\n",
      "     "
     ]
    },
    {
     "name": "stdout",
     "output_type": "stream",
     "text": [
      "'Brazil'"
     ]
    },
    {
     "name": "stdout",
     "output_type": "stream",
     "text": [
      ", "
     ]
    },
    {
     "name": "stdout",
     "output_type": "stream",
     "text": [
      "'Denmark'"
     ]
    },
    {
     "name": "stdout",
     "output_type": "stream",
     "text": [
      "]"
     ]
    },
    {
     "name": "stdout",
     "output_type": "stream",
     "text": [
      ",\n",
      " "
     ]
    },
    {
     "name": "stdout",
     "output_type": "stream",
     "text": [
      "9"
     ]
    },
    {
     "name": "stdout",
     "output_type": "stream",
     "text": [
      ": "
     ]
    },
    {
     "name": "stdout",
     "output_type": "stream",
     "text": [
      "["
     ]
    },
    {
     "name": "stdout",
     "output_type": "stream",
     "text": [
      "'Ukraine'"
     ]
    },
    {
     "name": "stdout",
     "output_type": "stream",
     "text": [
      ", "
     ]
    },
    {
     "name": "stdout",
     "output_type": "stream",
     "text": [
      "'Austria'"
     ]
    },
    {
     "name": "stdout",
     "output_type": "stream",
     "text": [
      ", "
     ]
    },
    {
     "name": "stdout",
     "output_type": "stream",
     "text": [
      "'Bangladesh'"
     ]
    },
    {
     "name": "stdout",
     "output_type": "stream",
     "text": [
      ", "
     ]
    },
    {
     "name": "stdout",
     "output_type": "stream",
     "text": [
      "'Romania'"
     ]
    },
    {
     "name": "stdout",
     "output_type": "stream",
     "text": [
      ", "
     ]
    },
    {
     "name": "stdout",
     "output_type": "stream",
     "text": [
      "'Italy'"
     ]
    },
    {
     "name": "stdout",
     "output_type": "stream",
     "text": [
      ", "
     ]
    },
    {
     "name": "stdout",
     "output_type": "stream",
     "text": [
      "'Russia'"
     ]
    },
    {
     "name": "stdout",
     "output_type": "stream",
     "text": [
      ", "
     ]
    },
    {
     "name": "stdout",
     "output_type": "stream",
     "text": [
      "'Kuwait'"
     ]
    },
    {
     "name": "stdout",
     "output_type": "stream",
     "text": [
      ",\n",
      "     "
     ]
    },
    {
     "name": "stdout",
     "output_type": "stream",
     "text": [
      "'United Arab Emirates'"
     ]
    },
    {
     "name": "stdout",
     "output_type": "stream",
     "text": [
      ", "
     ]
    },
    {
     "name": "stdout",
     "output_type": "stream",
     "text": [
      "'Bahrain'"
     ]
    },
    {
     "name": "stdout",
     "output_type": "stream",
     "text": [
      ", "
     ]
    },
    {
     "name": "stdout",
     "output_type": "stream",
     "text": [
      "'Korea, South'"
     ]
    },
    {
     "name": "stdout",
     "output_type": "stream",
     "text": [
      ", "
     ]
    },
    {
     "name": "stdout",
     "output_type": "stream",
     "text": [
      "'Portugal'"
     ]
    },
    {
     "name": "stdout",
     "output_type": "stream",
     "text": [
      ",\n",
      "     "
     ]
    },
    {
     "name": "stdout",
     "output_type": "stream",
     "text": [
      "'Czech Republic'"
     ]
    },
    {
     "name": "stdout",
     "output_type": "stream",
     "text": [
      ", "
     ]
    },
    {
     "name": "stdout",
     "output_type": "stream",
     "text": [
      "'Moldova'"
     ]
    },
    {
     "name": "stdout",
     "output_type": "stream",
     "text": [
      ", "
     ]
    },
    {
     "name": "stdout",
     "output_type": "stream",
     "text": [
      "'Mali'"
     ]
    },
    {
     "name": "stdout",
     "output_type": "stream",
     "text": [
      ", "
     ]
    },
    {
     "name": "stdout",
     "output_type": "stream",
     "text": [
      "'Jamaica'"
     ]
    },
    {
     "name": "stdout",
     "output_type": "stream",
     "text": [
      ", "
     ]
    },
    {
     "name": "stdout",
     "output_type": "stream",
     "text": [
      "'France'"
     ]
    },
    {
     "name": "stdout",
     "output_type": "stream",
     "text": [
      "]"
     ]
    },
    {
     "name": "stdout",
     "output_type": "stream",
     "text": [
      ",\n",
      " "
     ]
    },
    {
     "name": "stdout",
     "output_type": "stream",
     "text": [
      "10"
     ]
    },
    {
     "name": "stdout",
     "output_type": "stream",
     "text": [
      ": "
     ]
    },
    {
     "name": "stdout",
     "output_type": "stream",
     "text": [
      "['Senegal', 'Poland', 'Iran']"
     ]
    },
    {
     "name": "stdout",
     "output_type": "stream",
     "text": [
      ",\n",
      " "
     ]
    },
    {
     "name": "stdout",
     "output_type": "stream",
     "text": [
      "11"
     ]
    },
    {
     "name": "stdout",
     "output_type": "stream",
     "text": [
      ": "
     ]
    },
    {
     "name": "stdout",
     "output_type": "stream",
     "text": [
      "['Guinea']"
     ]
    },
    {
     "name": "stdout",
     "output_type": "stream",
     "text": [
      "}"
     ]
    },
    {
     "name": "stdout",
     "output_type": "stream",
     "text": [
      "\n"
     ]
    }
   ],
   "source": [
    "# Show the number of phases of all countries\n",
    "analyser.trend()\n",
    "pprint(analyser.phase_len(), compact=True)"
   ]
  },
  {
   "cell_type": "code",
   "execution_count": 8,
   "metadata": {
    "collapsed": false
   },
   "outputs": [
    {
     "data": {
      "text/plain": [
       "20"
      ]
     },
     "execution_count": 8,
     "metadata": {},
     "output_type": "execute_result"
    }
   ],
   "source": [
    "# Set phases with S-R trend analysis\n",
    "analyser.trend(min_len=9)\n",
    "# The number of countries\n",
    "len(analyser.countries)"
   ]
  },
  {
   "cell_type": "code",
   "execution_count": 9,
   "metadata": {
    "collapsed": false,
    "tags": []
   },
   "outputs": [
    {
     "name": "stdout",
     "output_type": "stream",
     "text": [
      "{"
     ]
    },
    {
     "name": "stdout",
     "output_type": "stream",
     "text": [
      "9"
     ]
    },
    {
     "name": "stdout",
     "output_type": "stream",
     "text": [
      ": "
     ]
    },
    {
     "name": "stdout",
     "output_type": "stream",
     "text": [
      "["
     ]
    },
    {
     "name": "stdout",
     "output_type": "stream",
     "text": [
      "'Ukraine'"
     ]
    },
    {
     "name": "stdout",
     "output_type": "stream",
     "text": [
      ", "
     ]
    },
    {
     "name": "stdout",
     "output_type": "stream",
     "text": [
      "'Austria'"
     ]
    },
    {
     "name": "stdout",
     "output_type": "stream",
     "text": [
      ", "
     ]
    },
    {
     "name": "stdout",
     "output_type": "stream",
     "text": [
      "'Bangladesh'"
     ]
    },
    {
     "name": "stdout",
     "output_type": "stream",
     "text": [
      ", "
     ]
    },
    {
     "name": "stdout",
     "output_type": "stream",
     "text": [
      "'Romania'"
     ]
    },
    {
     "name": "stdout",
     "output_type": "stream",
     "text": [
      ", "
     ]
    },
    {
     "name": "stdout",
     "output_type": "stream",
     "text": [
      "'Italy'"
     ]
    },
    {
     "name": "stdout",
     "output_type": "stream",
     "text": [
      ", "
     ]
    },
    {
     "name": "stdout",
     "output_type": "stream",
     "text": [
      "'Russia'"
     ]
    },
    {
     "name": "stdout",
     "output_type": "stream",
     "text": [
      ", "
     ]
    },
    {
     "name": "stdout",
     "output_type": "stream",
     "text": [
      "'Kuwait'"
     ]
    },
    {
     "name": "stdout",
     "output_type": "stream",
     "text": [
      ",\n",
      "     "
     ]
    },
    {
     "name": "stdout",
     "output_type": "stream",
     "text": [
      "'United Arab Emirates'"
     ]
    },
    {
     "name": "stdout",
     "output_type": "stream",
     "text": [
      ", "
     ]
    },
    {
     "name": "stdout",
     "output_type": "stream",
     "text": [
      "'Bahrain'"
     ]
    },
    {
     "name": "stdout",
     "output_type": "stream",
     "text": [
      ", "
     ]
    },
    {
     "name": "stdout",
     "output_type": "stream",
     "text": [
      "'Korea, South'"
     ]
    },
    {
     "name": "stdout",
     "output_type": "stream",
     "text": [
      ", "
     ]
    },
    {
     "name": "stdout",
     "output_type": "stream",
     "text": [
      "'Portugal'"
     ]
    },
    {
     "name": "stdout",
     "output_type": "stream",
     "text": [
      ",\n",
      "     "
     ]
    },
    {
     "name": "stdout",
     "output_type": "stream",
     "text": [
      "'Czech Republic'"
     ]
    },
    {
     "name": "stdout",
     "output_type": "stream",
     "text": [
      ", "
     ]
    },
    {
     "name": "stdout",
     "output_type": "stream",
     "text": [
      "'Moldova'"
     ]
    },
    {
     "name": "stdout",
     "output_type": "stream",
     "text": [
      ", "
     ]
    },
    {
     "name": "stdout",
     "output_type": "stream",
     "text": [
      "'Mali'"
     ]
    },
    {
     "name": "stdout",
     "output_type": "stream",
     "text": [
      ", "
     ]
    },
    {
     "name": "stdout",
     "output_type": "stream",
     "text": [
      "'Jamaica'"
     ]
    },
    {
     "name": "stdout",
     "output_type": "stream",
     "text": [
      ", "
     ]
    },
    {
     "name": "stdout",
     "output_type": "stream",
     "text": [
      "'France'"
     ]
    },
    {
     "name": "stdout",
     "output_type": "stream",
     "text": [
      "]"
     ]
    },
    {
     "name": "stdout",
     "output_type": "stream",
     "text": [
      ",\n",
      " "
     ]
    },
    {
     "name": "stdout",
     "output_type": "stream",
     "text": [
      "10"
     ]
    },
    {
     "name": "stdout",
     "output_type": "stream",
     "text": [
      ": "
     ]
    },
    {
     "name": "stdout",
     "output_type": "stream",
     "text": [
      "['Senegal', 'Poland', 'Iran']"
     ]
    },
    {
     "name": "stdout",
     "output_type": "stream",
     "text": [
      ",\n",
      " "
     ]
    },
    {
     "name": "stdout",
     "output_type": "stream",
     "text": [
      "11"
     ]
    },
    {
     "name": "stdout",
     "output_type": "stream",
     "text": [
      ": "
     ]
    },
    {
     "name": "stdout",
     "output_type": "stream",
     "text": [
      "['Guinea']"
     ]
    },
    {
     "name": "stdout",
     "output_type": "stream",
     "text": [
      "}"
     ]
    },
    {
     "name": "stdout",
     "output_type": "stream",
     "text": [
      "\n"
     ]
    }
   ],
   "source": [
    "phase_len_dict = analyser.phase_len()\n",
    "pprint(phase_len_dict, compact=True)"
   ]
  },
  {
   "cell_type": "code",
   "execution_count": 10,
   "metadata": {
    "collapsed": false,
    "tags": []
   },
   "outputs": [
    {
     "data": {
      "text/html": [
       "<div>\n",
       "<style scoped>\n",
       "    .dataframe tbody tr th:only-of-type {\n",
       "        vertical-align: middle;\n",
       "    }\n",
       "\n",
       "    .dataframe tbody tr th {\n",
       "        vertical-align: top;\n",
       "    }\n",
       "\n",
       "    .dataframe thead th {\n",
       "        text-align: right;\n",
       "    }\n",
       "</style>\n",
       "<table border=\"1\" class=\"dataframe\">\n",
       "  <thead>\n",
       "    <tr style=\"text-align: right;\">\n",
       "      <th></th>\n",
       "      <th></th>\n",
       "      <th>Type</th>\n",
       "      <th>Start</th>\n",
       "      <th>End</th>\n",
       "      <th>Population</th>\n",
       "    </tr>\n",
       "    <tr>\n",
       "      <th>Country</th>\n",
       "      <th>Phase</th>\n",
       "      <th></th>\n",
       "      <th></th>\n",
       "      <th></th>\n",
       "      <th></th>\n",
       "    </tr>\n",
       "  </thead>\n",
       "  <tbody>\n",
       "    <tr>\n",
       "      <th rowspan=\"11\" valign=\"top\">Guinea</th>\n",
       "      <th>1st</th>\n",
       "      <td>Past</td>\n",
       "      <td>02May2020</td>\n",
       "      <td>11May2020</td>\n",
       "      <td>12414318</td>\n",
       "    </tr>\n",
       "    <tr>\n",
       "      <th>2nd</th>\n",
       "      <td>Past</td>\n",
       "      <td>12May2020</td>\n",
       "      <td>20May2020</td>\n",
       "      <td>12414318</td>\n",
       "    </tr>\n",
       "    <tr>\n",
       "      <th>3rd</th>\n",
       "      <td>Past</td>\n",
       "      <td>21May2020</td>\n",
       "      <td>28May2020</td>\n",
       "      <td>12414318</td>\n",
       "    </tr>\n",
       "    <tr>\n",
       "      <th>4th</th>\n",
       "      <td>Past</td>\n",
       "      <td>29May2020</td>\n",
       "      <td>09Jun2020</td>\n",
       "      <td>12414318</td>\n",
       "    </tr>\n",
       "    <tr>\n",
       "      <th>5th</th>\n",
       "      <td>Past</td>\n",
       "      <td>10Jun2020</td>\n",
       "      <td>17Jun2020</td>\n",
       "      <td>12414318</td>\n",
       "    </tr>\n",
       "    <tr>\n",
       "      <th>6th</th>\n",
       "      <td>Past</td>\n",
       "      <td>18Jun2020</td>\n",
       "      <td>02Jul2020</td>\n",
       "      <td>12414318</td>\n",
       "    </tr>\n",
       "    <tr>\n",
       "      <th>7th</th>\n",
       "      <td>Past</td>\n",
       "      <td>03Jul2020</td>\n",
       "      <td>14Jul2020</td>\n",
       "      <td>12414318</td>\n",
       "    </tr>\n",
       "    <tr>\n",
       "      <th>8th</th>\n",
       "      <td>Past</td>\n",
       "      <td>15Jul2020</td>\n",
       "      <td>23Jul2020</td>\n",
       "      <td>12414318</td>\n",
       "    </tr>\n",
       "    <tr>\n",
       "      <th>9th</th>\n",
       "      <td>Past</td>\n",
       "      <td>24Jul2020</td>\n",
       "      <td>03Aug2020</td>\n",
       "      <td>12414318</td>\n",
       "    </tr>\n",
       "    <tr>\n",
       "      <th>10th</th>\n",
       "      <td>Past</td>\n",
       "      <td>04Aug2020</td>\n",
       "      <td>12Aug2020</td>\n",
       "      <td>12414318</td>\n",
       "    </tr>\n",
       "    <tr>\n",
       "      <th>11th</th>\n",
       "      <td>Past</td>\n",
       "      <td>13Aug2020</td>\n",
       "      <td>24Aug2020</td>\n",
       "      <td>12414318</td>\n",
       "    </tr>\n",
       "  </tbody>\n",
       "</table>\n",
       "</div>"
      ],
      "text/plain": [
       "               Type      Start        End  Population\n",
       "Country Phase                                        \n",
       "Guinea  1st    Past  02May2020  11May2020    12414318\n",
       "        2nd    Past  12May2020  20May2020    12414318\n",
       "        3rd    Past  21May2020  28May2020    12414318\n",
       "        4th    Past  29May2020  09Jun2020    12414318\n",
       "        5th    Past  10Jun2020  17Jun2020    12414318\n",
       "        6th    Past  18Jun2020  02Jul2020    12414318\n",
       "        7th    Past  03Jul2020  14Jul2020    12414318\n",
       "        8th    Past  15Jul2020  23Jul2020    12414318\n",
       "        9th    Past  24Jul2020  03Aug2020    12414318\n",
       "        10th   Past  04Aug2020  12Aug2020    12414318\n",
       "        11th   Past  13Aug2020  24Aug2020    12414318"
      ]
     },
     "execution_count": 10,
     "metadata": {},
     "output_type": "execute_result"
    }
   ],
   "source": [
    "# Here, only show the countries which have the most phases\n",
    "countries_show = max(phase_len_dict.items(), key=lambda x: x[0])[1]\n",
    "# Show summary\n",
    "analyser.summary(countries=countries_show)"
   ]
  },
  {
   "cell_type": "markdown",
   "metadata": {},
   "source": [
    "## Parameter estimation\n",
    "we will estimate the parameter values with SIR-derived ODE models in each country."
   ]
  },
  {
   "cell_type": "code",
   "execution_count": 11,
   "metadata": {
    "collapsed": false,
    "tags": []
   },
   "outputs": [
    {
     "name": "stdout",
     "output_type": "stream",
     "text": [
      "\n",
      "<SIR-F model: parameter estimation>"
     ]
    },
    {
     "name": "stdout",
     "output_type": "stream",
     "text": [
      "\n"
     ]
    },
    {
     "name": "stdout",
     "output_type": "stream",
     "text": [
      "Running optimization with 4 CPUs..."
     ]
    },
    {
     "name": "stdout",
     "output_type": "stream",
     "text": [
      "\n"
     ]
    },
    {
     "name": "stdout",
     "output_type": "stream",
     "text": [
      "\tGIN,  7th phase (03Jul2020 - 14Jul2020): finished 1366 trials in 0 min 35 sec"
     ]
    },
    {
     "name": "stdout",
     "output_type": "stream",
     "text": [
      "\n"
     ]
    },
    {
     "name": "stdout",
     "output_type": "stream",
     "text": [
      "\tMLI,  5th phase (03Jun2020 - 14Jun2020): finished 2019 trials in 1 min  0 sec"
     ]
    },
    {
     "name": "stdout",
     "output_type": "stream",
     "text": [
      "\n"
     ]
    },
    {
     "name": "stdout",
     "output_type": "stream",
     "text": [
      "\tKOR,  9th phase (07Aug2020 - 24Aug2020): finished 2017 trials in 1 min  0 sec"
     ]
    },
    {
     "name": "stdout",
     "output_type": "stream",
     "text": [
      "\n"
     ]
    },
    {
     "name": "stdout",
     "output_type": "stream",
     "text": [
      "\tSEN, 10th phase (12Aug2020 - 24Aug2020): finished 2020 trials in 1 min  0 sec"
     ]
    },
    {
     "name": "stdout",
     "output_type": "stream",
     "text": [
      "\n"
     ]
    },
    {
     "name": "stdout",
     "output_type": "stream",
     "text": [
      "\tKWT,  6th phase (11Jul2020 - 21Jul2020): finished  481 trials in 0 min 10 sec"
     ]
    },
    {
     "name": "stdout",
     "output_type": "stream",
     "text": [
      "\n"
     ]
    },
    {
     "name": "stdout",
     "output_type": "stream",
     "text": [
      "\tKOR,  8th phase (22Jul2020 - 06Aug2020): finished 2025 trials in 1 min  0 sec"
     ]
    },
    {
     "name": "stdout",
     "output_type": "stream",
     "text": [
      "\n"
     ]
    },
    {
     "name": "stdout",
     "output_type": "stream",
     "text": [
      "\tMDA,  8th phase (08Aug2020 - 15Aug2020): finished  255 trials in 0 min  5 sec"
     ]
    },
    {
     "name": "stdout",
     "output_type": "stream",
     "text": [
      "\n"
     ]
    },
    {
     "name": "stdout",
     "output_type": "stream",
     "text": [
      "\tMLI,  2nd phase (03May2020 - 14May2020): finished 2008 trials in 1 min  0 sec"
     ]
    },
    {
     "name": "stdout",
     "output_type": "stream",
     "text": [
      "\n"
     ]
    },
    {
     "name": "stdout",
     "output_type": "stream",
     "text": [
      "\tUKR,  1st phase (07May2020 - 27May2020): finished 1994 trials in 1 min  0 sec"
     ]
    },
    {
     "name": "stdout",
     "output_type": "stream",
     "text": [
      "\n"
     ]
    },
    {
     "name": "stdout",
     "output_type": "stream",
     "text": [
      "\tJAM,  4th phase (09Jun2020 - 17Jun2020): finished  256 trials in 0 min  5 sec"
     ]
    },
    {
     "name": "stdout",
     "output_type": "stream",
     "text": [
      "\n"
     ]
    },
    {
     "name": "stdout",
     "output_type": "stream",
     "text": [
      "\tRUS,  9th phase (09Aug2020 - 24Aug2020): finished 2001 trials in 1 min  0 sec"
     ]
    },
    {
     "name": "stdout",
     "output_type": "stream",
     "text": [
      "\n"
     ]
    },
    {
     "name": "stdout",
     "output_type": "stream",
     "text": [
      "\tMLI,  8th phase (04Jul2020 - 20Jul2020): finished 2015 trials in 1 min  0 sec"
     ]
    },
    {
     "name": "stdout",
     "output_type": "stream",
     "text": [
      "\n"
     ]
    },
    {
     "name": "stdout",
     "output_type": "stream",
     "text": [
      "\tKOR,  6th phase (22Jun2020 - 05Jul2020): finished 2020 trials in 1 min  0 sec"
     ]
    },
    {
     "name": "stdout",
     "output_type": "stream",
     "text": [
      "\n"
     ]
    },
    {
     "name": "stdout",
     "output_type": "stream",
     "text": [
      "\tBHR,  4th phase (14Jun2020 - 21Jun2020): finished 2034 trials in 1 min  0 sec"
     ]
    },
    {
     "name": "stdout",
     "output_type": "stream",
     "text": [
      "\n"
     ]
    },
    {
     "name": "stdout",
     "output_type": "stream",
     "text": [
      "\tPOL,  3rd phase (21May2020 - 03Jun2020): finished 2026 trials in 1 min  0 sec"
     ]
    },
    {
     "name": "stdout",
     "output_type": "stream",
     "text": [
      "\n"
     ]
    },
    {
     "name": "stdout",
     "output_type": "stream",
     "text": [
      "\tPRT,  4th phase (07Jun2020 - 17Jun2020): finished  475 trials in 0 min 10 sec"
     ]
    },
    {
     "name": "stdout",
     "output_type": "stream",
     "text": [
      "\n"
     ]
    },
    {
     "name": "stdout",
     "output_type": "stream",
     "text": [
      "\tPRT,  3rd phase (30May2020 - 06Jun2020): finished 1208 trials in 0 min 30 sec"
     ]
    },
    {
     "name": "stdout",
     "output_type": "stream",
     "text": [
      "\n"
     ]
    },
    {
     "name": "stdout",
     "output_type": "stream",
     "text": [
      "\tAUT,  7th phase (28Jul2020 - 06Aug2020): finished 2028 trials in 1 min  0 sec"
     ]
    },
    {
     "name": "stdout",
     "output_type": "stream",
     "text": [
      "\n"
     ]
    },
    {
     "name": "stdout",
     "output_type": "stream",
     "text": [
      "\tUKR,  7th phase (25Jul2020 - 01Aug2020): finished  257 trials in 0 min  5 sec"
     ]
    },
    {
     "name": "stdout",
     "output_type": "stream",
     "text": [
      "\n"
     ]
    },
    {
     "name": "stdout",
     "output_type": "stream",
     "text": [
      "\tKWT,  7th phase (22Jul2020 - 30Jul2020): finished  250 trials in 0 min  5 sec"
     ]
    },
    {
     "name": "stdout",
     "output_type": "stream",
     "text": [
      "\n"
     ]
    },
    {
     "name": "stdout",
     "output_type": "stream",
     "text": [
      "\tPOL,  2nd phase (09May2020 - 20May2020): finished  459 trials in 0 min 10 sec"
     ]
    },
    {
     "name": "stdout",
     "output_type": "stream",
     "text": [
      "\n"
     ]
    },
    {
     "name": "stdout",
     "output_type": "stream",
     "text": [
      "\tMDA,  4th phase (25Jun2020 - 08Jul2020): finished 2005 trials in 1 min  0 sec"
     ]
    },
    {
     "name": "stdout",
     "output_type": "stream",
     "text": [
      "\n"
     ]
    },
    {
     "name": "stdout",
     "output_type": "stream",
     "text": [
      "\tGIN,  4th phase (29May2020 - 09Jun2020): finished 2025 trials in 1 min  0 sec"
     ]
    },
    {
     "name": "stdout",
     "output_type": "stream",
     "text": [
      "\n"
     ]
    },
    {
     "name": "stdout",
     "output_type": "stream",
     "text": [
      "\tBGD,  7th phase (24Jul2020 - 03Aug2020): finished 1045 trials in 0 min 25 sec"
     ]
    },
    {
     "name": "stdout",
     "output_type": "stream",
     "text": [
      "\n"
     ]
    },
    {
     "name": "stdout",
     "output_type": "stream",
     "text": [
      "\tBHR,  1st phase (06May2020 - 26May2020): finished 2011 trials in 1 min  0 sec"
     ]
    },
    {
     "name": "stdout",
     "output_type": "stream",
     "text": [
      "\n"
     ]
    },
    {
     "name": "stdout",
     "output_type": "stream",
     "text": [
      "\tJAM,  8th phase (21Jul2020 - 10Aug2020): finished 2016 trials in 1 min  0 sec"
     ]
    },
    {
     "name": "stdout",
     "output_type": "stream",
     "text": [
      "\n"
     ]
    },
    {
     "name": "stdout",
     "output_type": "stream",
     "text": [
      "\tFRA,  2nd phase (03Apr2020 - 12Apr2020): finished 2027 trials in 1 min  0 sec"
     ]
    },
    {
     "name": "stdout",
     "output_type": "stream",
     "text": [
      "\n"
     ]
    },
    {
     "name": "stdout",
     "output_type": "stream",
     "text": [
      "\tCZE,  5th phase (25Jun2020 - 17Jul2020): finished 2017 trials in 1 min  0 sec"
     ]
    },
    {
     "name": "stdout",
     "output_type": "stream",
     "text": [
      "\n"
     ]
    },
    {
     "name": "stdout",
     "output_type": "stream",
     "text": [
      "\tMLI,  7th phase (25Jun2020 - 03Jul2020): finished  478 trials in 0 min 10 sec"
     ]
    },
    {
     "name": "stdout",
     "output_type": "stream",
     "text": [
      "\n"
     ]
    },
    {
     "name": "stdout",
     "output_type": "stream",
     "text": [
      "\tPRT,  8th phase (22Jul2020 - 05Aug2020): finished  677 trials in 0 min 15 sec"
     ]
    },
    {
     "name": "stdout",
     "output_type": "stream",
     "text": [
      "\n"
     ]
    },
    {
     "name": "stdout",
     "output_type": "stream",
     "text": [
      "\tRUS,  8th phase (25Jul2020 - 08Aug2020): finished 2023 trials in 1 min  0 sec"
     ]
    },
    {
     "name": "stdout",
     "output_type": "stream",
     "text": [
      "\n"
     ]
    },
    {
     "name": "stdout",
     "output_type": "stream",
     "text": [
      "\tCZE,  6th phase (18Jul2020 - 26Jul2020): finished  227 trials in 0 min  5 sec"
     ]
    },
    {
     "name": "stdout",
     "output_type": "stream",
     "text": [
      "\n"
     ]
    },
    {
     "name": "stdout",
     "output_type": "stream",
     "text": [
      "\tGIN,  2nd phase (12May2020 - 20May2020): finished 2005 trials in 1 min  0 sec"
     ]
    },
    {
     "name": "stdout",
     "output_type": "stream",
     "text": [
      "\n"
     ]
    },
    {
     "name": "stdout",
     "output_type": "stream",
     "text": [
      "\tAUT,  1st phase (29Mar2020 - 06Apr2020): finished 2013 trials in 1 min  0 sec"
     ]
    },
    {
     "name": "stdout",
     "output_type": "stream",
     "text": [
      "\n"
     ]
    },
    {
     "name": "stdout",
     "output_type": "stream",
     "text": [
      "\tMLI,  1st phase (25Apr2020 - 02May2020): finished 2016 trials in 1 min  0 sec"
     ]
    },
    {
     "name": "stdout",
     "output_type": "stream",
     "text": [
      "\n"
     ]
    },
    {
     "name": "stdout",
     "output_type": "stream",
     "text": [
      "\tBGD,  9th phase (14Aug2020 - 24Aug2020): finished  254 trials in 0 min  5 sec"
     ]
    },
    {
     "name": "stdout",
     "output_type": "stream",
     "text": [
      "\n"
     ]
    },
    {
     "name": "stdout",
     "output_type": "stream",
     "text": [
      "\tBHR,  8th phase (27Jul2020 - 09Aug2020): finished  252 trials in 0 min  5 sec"
     ]
    },
    {
     "name": "stdout",
     "output_type": "stream",
     "text": [
      "\n"
     ]
    },
    {
     "name": "stdout",
     "output_type": "stream",
     "text": [
      "\tJAM,  6th phase (30Jun2020 - 08Jul2020): finished 2021 trials in 1 min  0 sec"
     ]
    },
    {
     "name": "stdout",
     "output_type": "stream",
     "text": [
      "\n"
     ]
    },
    {
     "name": "stdout",
     "output_type": "stream",
     "text": [
      "\tKWT,  4th phase (22Jun2020 - 30Jun2020): finished  481 trials in 0 min 10 sec"
     ]
    },
    {
     "name": "stdout",
     "output_type": "stream",
     "text": [
      "\n"
     ]
    },
    {
     "name": "stdout",
     "output_type": "stream",
     "text": [
      "\tJAM,  5th phase (18Jun2020 - 29Jun2020): finished 2016 trials in 1 min  0 sec"
     ]
    },
    {
     "name": "stdout",
     "output_type": "stream",
     "text": [
      "\n"
     ]
    },
    {
     "name": "stdout",
     "output_type": "stream",
     "text": [
      "\tSEN,  5th phase (19Jun2020 - 30Jun2020): finished  867 trials in 0 min 20 sec"
     ]
    },
    {
     "name": "stdout",
     "output_type": "stream",
     "text": [
      "\n"
     ]
    },
    {
     "name": "stdout",
     "output_type": "stream",
     "text": [
      "\tPOL,  5th phase (16Jun2020 - 30Jun2020): finished  252 trials in 0 min  5 sec"
     ]
    },
    {
     "name": "stdout",
     "output_type": "stream",
     "text": [
      "\n"
     ]
    },
    {
     "name": "stdout",
     "output_type": "stream",
     "text": [
      "\tARE,  7th phase (03Jul2020 - 12Jul2020): finished 2016 trials in 1 min  0 sec"
     ]
    },
    {
     "name": "stdout",
     "output_type": "stream",
     "text": [
      "\n"
     ]
    },
    {
     "name": "stdout",
     "output_type": "stream",
     "text": [
      "\tPRT,  5th phase (18Jun2020 - 27Jun2020): finished  480 trials in 0 min 10 sec"
     ]
    },
    {
     "name": "stdout",
     "output_type": "stream",
     "text": [
      "\n"
     ]
    },
    {
     "name": "stdout",
     "output_type": "stream",
     "text": [
      "\tMDA,  5th phase (09Jul2020 - 20Jul2020): finished  476 trials in 0 min 10 sec"
     ]
    },
    {
     "name": "stdout",
     "output_type": "stream",
     "text": [
      "\n"
     ]
    },
    {
     "name": "stdout",
     "output_type": "stream",
     "text": [
      "\tJAM,  1st phase (03May2020 - 20May2020): finished 2007 trials in 1 min  0 sec"
     ]
    },
    {
     "name": "stdout",
     "output_type": "stream",
     "text": [
      "\n"
     ]
    },
    {
     "name": "stdout",
     "output_type": "stream",
     "text": [
      "\tKOR,  2nd phase (25Mar2020 - 05Apr2020): finished 2010 trials in 1 min  0 sec"
     ]
    },
    {
     "name": "stdout",
     "output_type": "stream",
     "text": [
      "\n"
     ]
    },
    {
     "name": "stdout",
     "output_type": "stream",
     "text": [
      "\tROU,  8th phase (01Aug2020 - 14Aug2020): finished  674 trials in 0 min 15 sec"
     ]
    },
    {
     "name": "stdout",
     "output_type": "stream",
     "text": [
      "\n"
     ]
    },
    {
     "name": "stdout",
     "output_type": "stream",
     "text": [
      "\tCZE,  8th phase (06Aug2020 - 13Aug2020): finished 1020 trials in 0 min 25 sec"
     ]
    },
    {
     "name": "stdout",
     "output_type": "stream",
     "text": [
      "\n"
     ]
    },
    {
     "name": "stdout",
     "output_type": "stream",
     "text": [
      "\tGIN,  1st phase (02May2020 - 11May2020): finished 2002 trials in 1 min  0 sec"
     ]
    },
    {
     "name": "stdout",
     "output_type": "stream",
     "text": [
      "\n"
     ]
    },
    {
     "name": "stdout",
     "output_type": "stream",
     "text": [
      "\tFRA,  7th phase (19Jun2020 - 09Jul2020): finished 1032 trials in 0 min 25 sec"
     ]
    },
    {
     "name": "stdout",
     "output_type": "stream",
     "text": [
      "\n"
     ]
    },
    {
     "name": "stdout",
     "output_type": "stream",
     "text": [
      "\tBGD,  4th phase (29Jun2020 - 06Jul2020): finished  858 trials in 0 min 20 sec"
     ]
    },
    {
     "name": "stdout",
     "output_type": "stream",
     "text": [
      "\n"
     ]
    },
    {
     "name": "stdout",
     "output_type": "stream",
     "text": [
      "\tARE,  2nd phase (13May2020 - 25May2020): finished 2017 trials in 1 min  0 sec"
     ]
    },
    {
     "name": "stdout",
     "output_type": "stream",
     "text": [
      "\n"
     ]
    },
    {
     "name": "stdout",
     "output_type": "stream",
     "text": [
      "\tRUS,  2nd phase (23May2020 - 30May2020): finished 2013 trials in 1 min  0 sec"
     ]
    },
    {
     "name": "stdout",
     "output_type": "stream",
     "text": [
      "\n"
     ]
    },
    {
     "name": "stdout",
     "output_type": "stream",
     "text": [
      "\tRUS,  1st phase (08May2020 - 22May2020): finished 2007 trials in 1 min  0 sec"
     ]
    },
    {
     "name": "stdout",
     "output_type": "stream",
     "text": [
      "\n"
     ]
    },
    {
     "name": "stdout",
     "output_type": "stream",
     "text": [
      "\tROU,  1st phase (16Apr2020 - 01May2020): finished 2010 trials in 1 min  0 sec"
     ]
    },
    {
     "name": "stdout",
     "output_type": "stream",
     "text": [
      "\n"
     ]
    },
    {
     "name": "stdout",
     "output_type": "stream",
     "text": [
      "\tUKR,  8th phase (02Aug2020 - 14Aug2020): finished 2007 trials in 1 min  0 sec"
     ]
    },
    {
     "name": "stdout",
     "output_type": "stream",
     "text": [
      "\n"
     ]
    },
    {
     "name": "stdout",
     "output_type": "stream",
     "text": [
      "\tIRN,  3rd phase (11May2020 - 28May2020): finished 1999 trials in 1 min  0 sec"
     ]
    },
    {
     "name": "stdout",
     "output_type": "stream",
     "text": [
      "\n"
     ]
    },
    {
     "name": "stdout",
     "output_type": "stream",
     "text": [
      "\tBGD,  6th phase (15Jul2020 - 23Jul2020): finished  259 trials in 0 min  5 sec"
     ]
    },
    {
     "name": "stdout",
     "output_type": "stream",
     "text": [
      "\n"
     ]
    },
    {
     "name": "stdout",
     "output_type": "stream",
     "text": [
      "\tAUT,  4th phase (14May2020 - 28Jun2020): finished  239 trials in 0 min  5 sec"
     ]
    },
    {
     "name": "stdout",
     "output_type": "stream",
     "text": [
      "\n"
     ]
    },
    {
     "name": "stdout",
     "output_type": "stream",
     "text": [
      "\tBGD,  8th phase (04Aug2020 - 13Aug2020): finished  254 trials in 0 min  5 sec"
     ]
    },
    {
     "name": "stdout",
     "output_type": "stream",
     "text": [
      "\n"
     ]
    },
    {
     "name": "stdout",
     "output_type": "stream",
     "text": [
      "\tAUT,  3rd phase (23Apr2020 - 13May2020): finished  246 trials in 0 min  5 sec"
     ]
    },
    {
     "name": "stdout",
     "output_type": "stream",
     "text": [
      "\n"
     ]
    },
    {
     "name": "stdout",
     "output_type": "stream",
     "text": [
      "\tITA,  9th phase (22Jul2020 - 24Aug2020): finished 1984 trials in 1 min  0 sec"
     ]
    },
    {
     "name": "stdout",
     "output_type": "stream",
     "text": [
      "\n"
     ]
    },
    {
     "name": "stdout",
     "output_type": "stream",
     "text": [
      "\tIRN,  5th phase (11Jun2020 - 22Jun2020): finished  255 trials in 0 min  5 sec"
     ]
    },
    {
     "name": "stdout",
     "output_type": "stream",
     "text": [
      "\n"
     ]
    },
    {
     "name": "stdout",
     "output_type": "stream",
     "text": [
      "\tKWT,  8th phase (31Jul2020 - 10Aug2020): finished 1040 trials in 0 min 25 sec"
     ]
    },
    {
     "name": "stdout",
     "output_type": "stream",
     "text": [
      "\n"
     ]
    },
    {
     "name": "stdout",
     "output_type": "stream",
     "text": [
      "\tRUS,  7th phase (14Jul2020 - 24Jul2020): finished 1998 trials in 1 min  0 sec"
     ]
    },
    {
     "name": "stdout",
     "output_type": "stream",
     "text": [
      "\n"
     ]
    },
    {
     "name": "stdout",
     "output_type": "stream",
     "text": [
      "\tKWT,  1st phase (11May2020 - 24May2020): finished 1912 trials in 1 min  0 sec"
     ]
    },
    {
     "name": "stdout",
     "output_type": "stream",
     "text": [
      "\n"
     ]
    },
    {
     "name": "stdout",
     "output_type": "stream",
     "text": [
      "\tRUS,  5th phase (24Jun2020 - 03Jul2020): finished 1860 trials in 1 min  0 sec"
     ]
    },
    {
     "name": "stdout",
     "output_type": "stream",
     "text": [
      "\n"
     ]
    },
    {
     "name": "stdout",
     "output_type": "stream",
     "text": [
      "\tBHR,  3rd phase (05Jun2020 - 13Jun2020): finished 1842 trials in 1 min  0 sec"
     ]
    },
    {
     "name": "stdout",
     "output_type": "stream",
     "text": [
      "\n"
     ]
    },
    {
     "name": "stdout",
     "output_type": "stream",
     "text": [
      "\tGIN,  3rd phase (21May2020 - 28May2020): finished 1832 trials in 1 min  0 sec"
     ]
    },
    {
     "name": "stdout",
     "output_type": "stream",
     "text": [
      "\n"
     ]
    },
    {
     "name": "stdout",
     "output_type": "stream",
     "text": [
      "\tUKR,  5th phase (05Jul2020 - 15Jul2020): finished  453 trials in 0 min 10 sec"
     ]
    },
    {
     "name": "stdout",
     "output_type": "stream",
     "text": [
      "\n"
     ]
    },
    {
     "name": "stdout",
     "output_type": "stream",
     "text": [
      "\tARE,  4th phase (04Jun2020 - 11Jun2020): finished 1004 trials in 0 min 25 sec"
     ]
    },
    {
     "name": "stdout",
     "output_type": "stream",
     "text": [
      "\n"
     ]
    },
    {
     "name": "stdout",
     "output_type": "stream",
     "text": [
      "\tFRA,  6th phase (28May2020 - 18Jun2020): finished 1505 trials in 0 min 45 sec"
     ]
    },
    {
     "name": "stdout",
     "output_type": "stream",
     "text": [
      "\n"
     ]
    },
    {
     "name": "stdout",
     "output_type": "stream",
     "text": [
      "\tITA,  2nd phase (01Apr2020 - 12Apr2020): finished 1496 trials in 0 min 40 sec"
     ]
    },
    {
     "name": "stdout",
     "output_type": "stream",
     "text": [
      "\n"
     ]
    },
    {
     "name": "stdout",
     "output_type": "stream",
     "text": [
      "\tARE,  5th phase (12Jun2020 - 22Jun2020): finished 1039 trials in 0 min 25 sec"
     ]
    },
    {
     "name": "stdout",
     "output_type": "stream",
     "text": [
      "\n"
     ]
    },
    {
     "name": "stdout",
     "output_type": "stream",
     "text": [
      "\tPOL,  7th phase (16Jul2020 - 26Jul2020): finished  255 trials in 0 min  5 sec"
     ]
    },
    {
     "name": "stdout",
     "output_type": "stream",
     "text": [
      "\n"
     ]
    },
    {
     "name": "stdout",
     "output_type": "stream",
     "text": [
      "\tIRN,  2nd phase (16Apr2020 - 10May2020): finished  673 trials in 0 min 15 sec"
     ]
    },
    {
     "name": "stdout",
     "output_type": "stream",
     "text": [
      "\n"
     ]
    },
    {
     "name": "stdout",
     "output_type": "stream",
     "text": [
      "\tPRT,  9th phase (06Aug2020 - 24Aug2020): finished  244 trials in 0 min  5 sec"
     ]
    },
    {
     "name": "stdout",
     "output_type": "stream",
     "text": [
      "\n"
     ]
    },
    {
     "name": "stdout",
     "output_type": "stream",
     "text": [
      "\tKOR,  3rd phase (06Apr2020 - 06May2020): finished 1995 trials in 1 min  0 sec"
     ]
    },
    {
     "name": "stdout",
     "output_type": "stream",
     "text": [
      "\n"
     ]
    },
    {
     "name": "stdout",
     "output_type": "stream",
     "text": [
      "\tPRT,  2nd phase (18May2020 - 29May2020): finished 2016 trials in 1 min  0 sec"
     ]
    },
    {
     "name": "stdout",
     "output_type": "stream",
     "text": [
      "\n"
     ]
    },
    {
     "name": "stdout",
     "output_type": "stream",
     "text": [
      "\tUKR,  6th phase (16Jul2020 - 24Jul2020): finished  257 trials in 0 min  5 sec"
     ]
    },
    {
     "name": "stdout",
     "output_type": "stream",
     "text": [
      "\n"
     ]
    },
    {
     "name": "stdout",
     "output_type": "stream",
     "text": [
      "\tARE,  3rd phase (26May2020 - 03Jun2020): finished 1036 trials in 0 min 25 sec"
     ]
    },
    {
     "name": "stdout",
     "output_type": "stream",
     "text": [
      "\n"
     ]
    },
    {
     "name": "stdout",
     "output_type": "stream",
     "text": [
      "\tCZE,  3rd phase (11May2020 - 02Jun2020): finished 2018 trials in 1 min  0 sec"
     ]
    },
    {
     "name": "stdout",
     "output_type": "stream",
     "text": [
      "\n"
     ]
    },
    {
     "name": "stdout",
     "output_type": "stream",
     "text": [
      "\tBGD,  2nd phase (11Jun2020 - 20Jun2020): finished 2028 trials in 1 min  0 sec"
     ]
    },
    {
     "name": "stdout",
     "output_type": "stream",
     "text": [
      "\n"
     ]
    },
    {
     "name": "stdout",
     "output_type": "stream",
     "text": [
      "\tITA,  3rd phase (13Apr2020 - 20Apr2020): finished  248 trials in 0 min  5 sec"
     ]
    },
    {
     "name": "stdout",
     "output_type": "stream",
     "text": [
      "\n"
     ]
    },
    {
     "name": "stdout",
     "output_type": "stream",
     "text": [
      "\tKOR,  4th phase (07May2020 - 26May2020): finished  454 trials in 0 min 10 sec"
     ]
    },
    {
     "name": "stdout",
     "output_type": "stream",
     "text": [
      "\n"
     ]
    },
    {
     "name": "stdout",
     "output_type": "stream",
     "text": [
      "\tUKR,  4th phase (24Jun2020 - 04Jul2020): finished 2000 trials in 1 min  0 sec"
     ]
    },
    {
     "name": "stdout",
     "output_type": "stream",
     "text": [
      "\n"
     ]
    },
    {
     "name": "stdout",
     "output_type": "stream",
     "text": [
      "\tARE,  1st phase (27Apr2020 - 12May2020): finished 2005 trials in 1 min  0 sec"
     ]
    },
    {
     "name": "stdout",
     "output_type": "stream",
     "text": [
      "\n"
     ]
    },
    {
     "name": "stdout",
     "output_type": "stream",
     "text": [
      "\tITA,  4th phase (21Apr2020 - 01May2020): finished  253 trials in 0 min  5 sec"
     ]
    },
    {
     "name": "stdout",
     "output_type": "stream",
     "text": [
      "\n"
     ]
    },
    {
     "name": "stdout",
     "output_type": "stream",
     "text": [
      "\tBGD,  5th phase (07Jul2020 - 14Jul2020): finished 2012 trials in 1 min  0 sec"
     ]
    },
    {
     "name": "stdout",
     "output_type": "stream",
     "text": [
      "\n"
     ]
    },
    {
     "name": "stdout",
     "output_type": "stream",
     "text": [
      "\tKOR,  1st phase (15Mar2020 - 24Mar2020): finished 2012 trials in 1 min  0 sec"
     ]
    },
    {
     "name": "stdout",
     "output_type": "stream",
     "text": [
      "\n"
     ]
    },
    {
     "name": "stdout",
     "output_type": "stream",
     "text": [
      "\tPRT,  6th phase (28Jun2020 - 08Jul2020): finished  254 trials in 0 min  5 sec"
     ]
    },
    {
     "name": "stdout",
     "output_type": "stream",
     "text": [
      "\n"
     ]
    },
    {
     "name": "stdout",
     "output_type": "stream",
     "text": [
      "\tSEN,  7th phase (11Jul2020 - 20Jul2020): finished 2029 trials in 1 min  0 sec"
     ]
    },
    {
     "name": "stdout",
     "output_type": "stream",
     "text": [
      "\n"
     ]
    },
    {
     "name": "stdout",
     "output_type": "stream",
     "text": [
      "\tFRA,  5th phase (05May2020 - 27May2020): finished 2011 trials in 1 min  0 sec"
     ]
    },
    {
     "name": "stdout",
     "output_type": "stream",
     "text": [
      "\n"
     ]
    },
    {
     "name": "stdout",
     "output_type": "stream",
     "text": [
      "\tCZE,  1st phase (08Apr2020 - 19Apr2020): finished 1982 trials in 1 min  0 sec"
     ]
    },
    {
     "name": "stdout",
     "output_type": "stream",
     "text": [
      "\n"
     ]
    },
    {
     "name": "stdout",
     "output_type": "stream",
     "text": [
      "\tITA,  1st phase (24Mar2020 - 31Mar2020): finished 1990 trials in 1 min  0 sec"
     ]
    },
    {
     "name": "stdout",
     "output_type": "stream",
     "text": [
      "\n"
     ]
    },
    {
     "name": "stdout",
     "output_type": "stream",
     "text": [
      "\tBHR,  5th phase (22Jun2020 - 07Jul2020): finished 1979 trials in 1 min  0 sec"
     ]
    },
    {
     "name": "stdout",
     "output_type": "stream",
     "text": [
      "\n"
     ]
    },
    {
     "name": "stdout",
     "output_type": "stream",
     "text": [
      "\tROU,  4th phase (13Jun2020 - 30Jun2020): finished  673 trials in 0 min 15 sec"
     ]
    },
    {
     "name": "stdout",
     "output_type": "stream",
     "text": [
      "\n"
     ]
    },
    {
     "name": "stdout",
     "output_type": "stream",
     "text": [
      "\tIRN,  6th phase (23Jun2020 - 03Jul2020): finished  254 trials in 0 min  5 sec"
     ]
    },
    {
     "name": "stdout",
     "output_type": "stream",
     "text": [
      "\n"
     ]
    },
    {
     "name": "stdout",
     "output_type": "stream",
     "text": [
      "\tFRA,  8th phase (10Jul2020 - 30Jul2020): finished  468 trials in 0 min 10 sec"
     ]
    },
    {
     "name": "stdout",
     "output_type": "stream",
     "text": [
      "\n"
     ]
    },
    {
     "name": "stdout",
     "output_type": "stream",
     "text": [
      "\tMDA,  3rd phase (16Jun2020 - 24Jun2020): finished  476 trials in 0 min 10 sec"
     ]
    },
    {
     "name": "stdout",
     "output_type": "stream",
     "text": [
      "\n"
     ]
    },
    {
     "name": "stdout",
     "output_type": "stream",
     "text": [
      "\tARE,  9th phase (27Jul2020 - 24Aug2020): finished 1949 trials in 1 min  0 sec"
     ]
    },
    {
     "name": "stdout",
     "output_type": "stream",
     "text": [
      "\n"
     ]
    },
    {
     "name": "stdout",
     "output_type": "stream",
     "text": [
      "\tIRN,  7th phase (04Jul2020 - 15Jul2020): finished  252 trials in 0 min  5 sec"
     ]
    },
    {
     "name": "stdout",
     "output_type": "stream",
     "text": [
      "\n"
     ]
    },
    {
     "name": "stdout",
     "output_type": "stream",
     "text": [
      "\tMLI,  9th phase (21Jul2020 - 24Aug2020): finished 1987 trials in 1 min  0 sec"
     ]
    },
    {
     "name": "stdout",
     "output_type": "stream",
     "text": [
      "\n"
     ]
    },
    {
     "name": "stdout",
     "output_type": "stream",
     "text": [
      "\tFRA,  9th phase (31Jul2020 - 24Aug2020): finished  656 trials in 0 min 15 sec"
     ]
    },
    {
     "name": "stdout",
     "output_type": "stream",
     "text": [
      "\n"
     ]
    },
    {
     "name": "stdout",
     "output_type": "stream",
     "text": [
      "\tSEN,  9th phase (30Jul2020 - 11Aug2020): finished  255 trials in 0 min  5 sec"
     ]
    },
    {
     "name": "stdout",
     "output_type": "stream",
     "text": [
      "\n"
     ]
    },
    {
     "name": "stdout",
     "output_type": "stream",
     "text": [
      "\tGIN, 11th phase (13Aug2020 - 24Aug2020): finished 2008 trials in 1 min  0 sec"
     ]
    },
    {
     "name": "stdout",
     "output_type": "stream",
     "text": [
      "\n"
     ]
    },
    {
     "name": "stdout",
     "output_type": "stream",
     "text": [
      "\tPOL,  8th phase (27Jul2020 - 04Aug2020): finished  466 trials in 0 min 10 sec"
     ]
    },
    {
     "name": "stdout",
     "output_type": "stream",
     "text": [
      "\n"
     ]
    },
    {
     "name": "stdout",
     "output_type": "stream",
     "text": [
      "\tCZE,  2nd phase (20Apr2020 - 10May2020): finished 1028 trials in 0 min 25 sec"
     ]
    },
    {
     "name": "stdout",
     "output_type": "stream",
     "text": [
      "\n"
     ]
    },
    {
     "name": "stdout",
     "output_type": "stream",
     "text": [
      "\tRUS,  3rd phase (31May2020 - 13Jun2020): finished 1996 trials in 1 min  0 sec"
     ]
    },
    {
     "name": "stdout",
     "output_type": "stream",
     "text": [
      "\n"
     ]
    },
    {
     "name": "stdout",
     "output_type": "stream",
     "text": [
      "\tBGD,  1st phase (26May2020 - 10Jun2020): finished 2001 trials in 1 min  0 sec"
     ]
    },
    {
     "name": "stdout",
     "output_type": "stream",
     "text": [
      "\n"
     ]
    },
    {
     "name": "stdout",
     "output_type": "stream",
     "text": [
      "\tIRN,  1st phase (28Mar2020 - 15Apr2020): finished 1999 trials in 1 min  0 sec"
     ]
    },
    {
     "name": "stdout",
     "output_type": "stream",
     "text": [
      "\n"
     ]
    },
    {
     "name": "stdout",
     "output_type": "stream",
     "text": [
      "\tJAM,  3rd phase (29May2020 - 08Jun2020): finished 1172 trials in 0 min 30 sec"
     ]
    },
    {
     "name": "stdout",
     "output_type": "stream",
     "text": [
      "\n"
     ]
    },
    {
     "name": "stdout",
     "output_type": "stream",
     "text": [
      "\tSEN,  4th phase (10Jun2020 - 18Jun2020): finished 1035 trials in 0 min 25 sec"
     ]
    },
    {
     "name": "stdout",
     "output_type": "stream",
     "text": [
      "\n"
     ]
    },
    {
     "name": "stdout",
     "output_type": "stream",
     "text": [
      "\tGIN, 10th phase (04Aug2020 - 12Aug2020): finished 2014 trials in 1 min  0 sec"
     ]
    },
    {
     "name": "stdout",
     "output_type": "stream",
     "text": [
      "\n"
     ]
    },
    {
     "name": "stdout",
     "output_type": "stream",
     "text": [
      "\tKWT,  3rd phase (10Jun2020 - 21Jun2020): finished  476 trials in 0 min 10 sec"
     ]
    },
    {
     "name": "stdout",
     "output_type": "stream",
     "text": [
      "\n"
     ]
    },
    {
     "name": "stdout",
     "output_type": "stream",
     "text": [
      "\tCZE,  4th phase (03Jun2020 - 24Jun2020): finished 2014 trials in 1 min  0 sec"
     ]
    },
    {
     "name": "stdout",
     "output_type": "stream",
     "text": [
      "\n"
     ]
    },
    {
     "name": "stdout",
     "output_type": "stream",
     "text": [
      "\tPRT,  1st phase (05May2020 - 17May2020): finished 2029 trials in 1 min  0 sec"
     ]
    },
    {
     "name": "stdout",
     "output_type": "stream",
     "text": [
      "\n"
     ]
    },
    {
     "name": "stdout",
     "output_type": "stream",
     "text": [
      "\tARE,  6th phase (23Jun2020 - 02Jul2020): finished  481 trials in 0 min 10 sec"
     ]
    },
    {
     "name": "stdout",
     "output_type": "stream",
     "text": [
      "\n"
     ]
    },
    {
     "name": "stdout",
     "output_type": "stream",
     "text": [
      "\tFRA,  4th phase (25Apr2020 - 04May2020): finished 2014 trials in 1 min  0 sec"
     ]
    },
    {
     "name": "stdout",
     "output_type": "stream",
     "text": [
      "\n"
     ]
    },
    {
     "name": "stdout",
     "output_type": "stream",
     "text": [
      "\tUKR,  9th phase (15Aug2020 - 24Aug2020): finished 2023 trials in 1 min  0 sec"
     ]
    },
    {
     "name": "stdout",
     "output_type": "stream",
     "text": [
      "\n"
     ]
    },
    {
     "name": "stdout",
     "output_type": "stream",
     "text": [
      "\tIRN,  8th phase (16Jul2020 - 28Jul2020): finished  243 trials in 0 min  5 sec"
     ]
    },
    {
     "name": "stdout",
     "output_type": "stream",
     "text": [
      "\n"
     ]
    },
    {
     "name": "stdout",
     "output_type": "stream",
     "text": [
      "\tMLI,  3rd phase (15May2020 - 24May2020): finished 2013 trials in 1 min  0 sec"
     ]
    },
    {
     "name": "stdout",
     "output_type": "stream",
     "text": [
      "\n"
     ]
    },
    {
     "name": "stdout",
     "output_type": "stream",
     "text": [
      "\tAUT,  8th phase (07Aug2020 - 15Aug2020): finished  258 trials in 0 min  5 sec"
     ]
    },
    {
     "name": "stdout",
     "output_type": "stream",
     "text": [
      "\n"
     ]
    },
    {
     "name": "stdout",
     "output_type": "stream",
     "text": [
      "\tIRN,  9th phase (29Jul2020 - 08Aug2020): finished  480 trials in 0 min 10 sec"
     ]
    },
    {
     "name": "stdout",
     "output_type": "stream",
     "text": [
      "\n"
     ]
    },
    {
     "name": "stdout",
     "output_type": "stream",
     "text": [
      "\tUKR,  2nd phase (28May2020 - 11Jun2020): finished 1995 trials in 1 min  0 sec"
     ]
    },
    {
     "name": "stdout",
     "output_type": "stream",
     "text": [
      "\n"
     ]
    },
    {
     "name": "stdout",
     "output_type": "stream",
     "text": [
      "\tIRN,  4th phase (29May2020 - 10Jun2020): finished 2010 trials in 1 min  0 sec"
     ]
    },
    {
     "name": "stdout",
     "output_type": "stream",
     "text": [
      "\n"
     ]
    },
    {
     "name": "stdout",
     "output_type": "stream",
     "text": [
      "\tARE,  8th phase (13Jul2020 - 26Jul2020): finished 1032 trials in 0 min 25 sec"
     ]
    },
    {
     "name": "stdout",
     "output_type": "stream",
     "text": [
      "\n"
     ]
    },
    {
     "name": "stdout",
     "output_type": "stream",
     "text": [
      "\tAUT,  5th phase (29Jun2020 - 17Jul2020): finished 2014 trials in 1 min  0 sec"
     ]
    },
    {
     "name": "stdout",
     "output_type": "stream",
     "text": [
      "\n"
     ]
    },
    {
     "name": "stdout",
     "output_type": "stream",
     "text": [
      "\tROU,  7th phase (24Jul2020 - 31Jul2020): finished  663 trials in 0 min 15 sec"
     ]
    },
    {
     "name": "stdout",
     "output_type": "stream",
     "text": [
      "\n"
     ]
    },
    {
     "name": "stdout",
     "output_type": "stream",
     "text": [
      "\tPRT,  7th phase (09Jul2020 - 21Jul2020): finished 2012 trials in 1 min  0 sec"
     ]
    },
    {
     "name": "stdout",
     "output_type": "stream",
     "text": [
      "\n"
     ]
    },
    {
     "name": "stdout",
     "output_type": "stream",
     "text": [
      "\tBGD,  3rd phase (21Jun2020 - 28Jun2020): finished 1197 trials in 0 min 30 sec"
     ]
    },
    {
     "name": "stdout",
     "output_type": "stream",
     "text": [
      "\n"
     ]
    },
    {
     "name": "stdout",
     "output_type": "stream",
     "text": [
      "\tSEN,  1st phase (30Apr2020 - 13May2020): finished 1999 trials in 1 min  0 sec"
     ]
    },
    {
     "name": "stdout",
     "output_type": "stream",
     "text": [
      "\n"
     ]
    },
    {
     "name": "stdout",
     "output_type": "stream",
     "text": [
      "\tMDA,  1st phase (13May2020 - 03Jun2020): finished 2004 trials in 1 min  0 sec"
     ]
    },
    {
     "name": "stdout",
     "output_type": "stream",
     "text": [
      "\n"
     ]
    },
    {
     "name": "stdout",
     "output_type": "stream",
     "text": [
      "\tCZE,  7th phase (27Jul2020 - 05Aug2020): finished 2000 trials in 1 min  0 sec"
     ]
    },
    {
     "name": "stdout",
     "output_type": "stream",
     "text": [
      "\n"
     ]
    },
    {
     "name": "stdout",
     "output_type": "stream",
     "text": [
      "\tKOR,  7th phase (06Jul2020 - 21Jul2020): finished  252 trials in 0 min  5 sec"
     ]
    },
    {
     "name": "stdout",
     "output_type": "stream",
     "text": [
      "\n"
     ]
    },
    {
     "name": "stdout",
     "output_type": "stream",
     "text": [
      "\tBHR,  2nd phase (27May2020 - 04Jun2020): finished 1039 trials in 0 min 25 sec"
     ]
    },
    {
     "name": "stdout",
     "output_type": "stream",
     "text": [
      "\n"
     ]
    },
    {
     "name": "stdout",
     "output_type": "stream",
     "text": [
      "\tSEN,  8th phase (21Jul2020 - 29Jul2020): finished 2018 trials in 1 min  0 sec"
     ]
    },
    {
     "name": "stdout",
     "output_type": "stream",
     "text": [
      "\n"
     ]
    },
    {
     "name": "stdout",
     "output_type": "stream",
     "text": [
      "\tPOL,  6th phase (01Jul2020 - 15Jul2020): finished  255 trials in 0 min  5 sec"
     ]
    },
    {
     "name": "stdout",
     "output_type": "stream",
     "text": [
      "\n"
     ]
    },
    {
     "name": "stdout",
     "output_type": "stream",
     "text": [
      "\tRUS,  4th phase (14Jun2020 - 23Jun2020): finished 2002 trials in 1 min  0 sec"
     ]
    },
    {
     "name": "stdout",
     "output_type": "stream",
     "text": [
      "\n"
     ]
    },
    {
     "name": "stdout",
     "output_type": "stream",
     "text": [
      "\tKWT,  5th phase (01Jul2020 - 10Jul2020): finished  482 trials in 0 min 10 sec"
     ]
    },
    {
     "name": "stdout",
     "output_type": "stream",
     "text": [
      "\n"
     ]
    },
    {
     "name": "stdout",
     "output_type": "stream",
     "text": [
      "\tITA,  6th phase (10May2020 - 20May2020): finished  258 trials in 0 min  5 sec"
     ]
    },
    {
     "name": "stdout",
     "output_type": "stream",
     "text": [
      "\n"
     ]
    },
    {
     "name": "stdout",
     "output_type": "stream",
     "text": [
      "\tPOL,  1st phase (23Apr2020 - 08May2020): finished 1784 trials in 0 min 50 sec"
     ]
    },
    {
     "name": "stdout",
     "output_type": "stream",
     "text": [
      "\n"
     ]
    },
    {
     "name": "stdout",
     "output_type": "stream",
     "text": [
      "\tSEN,  3rd phase (28May2020 - 09Jun2020): finished 2020 trials in 1 min  0 sec"
     ]
    },
    {
     "name": "stdout",
     "output_type": "stream",
     "text": [
      "\n"
     ]
    },
    {
     "name": "stdout",
     "output_type": "stream",
     "text": [
      "\tMDA,  7th phase (30Jul2020 - 07Aug2020): finished 1780 trials in 0 min 50 sec"
     ]
    },
    {
     "name": "stdout",
     "output_type": "stream",
     "text": [
      "\n"
     ]
    },
    {
     "name": "stdout",
     "output_type": "stream",
     "text": [
      "\tROU,  5th phase (01Jul2020 - 14Jul2020): finished  866 trials in 0 min 20 sec"
     ]
    },
    {
     "name": "stdout",
     "output_type": "stream",
     "text": [
      "\n"
     ]
    },
    {
     "name": "stdout",
     "output_type": "stream",
     "text": [
      "\tUKR,  3rd phase (12Jun2020 - 23Jun2020): finished 2012 trials in 1 min  0 sec"
     ]
    },
    {
     "name": "stdout",
     "output_type": "stream",
     "text": [
      "\n"
     ]
    },
    {
     "name": "stdout",
     "output_type": "stream",
     "text": [
      "\tMLI,  6th phase (15Jun2020 - 24Jun2020): finished  259 trials in 0 min  5 sec"
     ]
    },
    {
     "name": "stdout",
     "output_type": "stream",
     "text": [
      "\n"
     ]
    },
    {
     "name": "stdout",
     "output_type": "stream",
     "text": [
      "\tITA,  5th phase (02May2020 - 09May2020): finished  478 trials in 0 min 10 sec"
     ]
    },
    {
     "name": "stdout",
     "output_type": "stream",
     "text": [
      "\n"
     ]
    },
    {
     "name": "stdout",
     "output_type": "stream",
     "text": [
      "\tPOL,  9th phase (05Aug2020 - 13Aug2020): finished 1206 trials in 0 min 30 sec"
     ]
    },
    {
     "name": "stdout",
     "output_type": "stream",
     "text": [
      "\n"
     ]
    },
    {
     "name": "stdout",
     "output_type": "stream",
     "text": [
      "\tROU,  2nd phase (02May2020 - 19May2020): finished  228 trials in 0 min  5 sec"
     ]
    },
    {
     "name": "stdout",
     "output_type": "stream",
     "text": [
      "\n"
     ]
    },
    {
     "name": "stdout",
     "output_type": "stream",
     "text": [
      "\tKWT,  9th phase (11Aug2020 - 24Aug2020): finished  665 trials in 0 min 15 sec"
     ]
    },
    {
     "name": "stdout",
     "output_type": "stream",
     "text": [
      "\n"
     ]
    },
    {
     "name": "stdout",
     "output_type": "stream",
     "text": [
      "\tROU,  3rd phase (20May2020 - 12Jun2020): finished 1175 trials in 0 min 30 sec"
     ]
    },
    {
     "name": "stdout",
     "output_type": "stream",
     "text": [
      "\n"
     ]
    },
    {
     "name": "stdout",
     "output_type": "stream",
     "text": [
      "\tAUT,  9th phase (16Aug2020 - 24Aug2020): finished 2026 trials in 1 min  0 sec"
     ]
    },
    {
     "name": "stdout",
     "output_type": "stream",
     "text": [
      "\n"
     ]
    },
    {
     "name": "stdout",
     "output_type": "stream",
     "text": [
      "\tGIN,  6th phase (18Jun2020 - 02Jul2020): finished 2005 trials in 1 min  0 sec"
     ]
    },
    {
     "name": "stdout",
     "output_type": "stream",
     "text": [
      "\n"
     ]
    },
    {
     "name": "stdout",
     "output_type": "stream",
     "text": [
      "\tFRA,  1st phase (25Mar2020 - 02Apr2020): finished 2047 trials in 1 min  0 sec"
     ]
    },
    {
     "name": "stdout",
     "output_type": "stream",
     "text": [
      "\n"
     ]
    },
    {
     "name": "stdout",
     "output_type": "stream",
     "text": [
      "\tRUS,  6th phase (04Jul2020 - 13Jul2020): finished 2015 trials in 1 min  0 sec"
     ]
    },
    {
     "name": "stdout",
     "output_type": "stream",
     "text": [
      "\n"
     ]
    },
    {
     "name": "stdout",
     "output_type": "stream",
     "text": [
      "\tKOR,  5th phase (27May2020 - 21Jun2020): finished  248 trials in 0 min  5 sec"
     ]
    },
    {
     "name": "stdout",
     "output_type": "stream",
     "text": [
      "\n"
     ]
    },
    {
     "name": "stdout",
     "output_type": "stream",
     "text": [
      "\tITA,  7th phase (21May2020 - 08Jun2020): finished  250 trials in 0 min  5 sec"
     ]
    },
    {
     "name": "stdout",
     "output_type": "stream",
     "text": [
      "\n"
     ]
    },
    {
     "name": "stdout",
     "output_type": "stream",
     "text": [
      "\tMLI,  4th phase (25May2020 - 02Jun2020): finished 2030 trials in 1 min  0 sec"
     ]
    },
    {
     "name": "stdout",
     "output_type": "stream",
     "text": [
      "\n"
     ]
    },
    {
     "name": "stdout",
     "output_type": "stream",
     "text": [
      "\tITA,  8th phase (09Jun2020 - 21Jul2020): finished  663 trials in 0 min 15 sec"
     ]
    },
    {
     "name": "stdout",
     "output_type": "stream",
     "text": [
      "\n"
     ]
    },
    {
     "name": "stdout",
     "output_type": "stream",
     "text": [
      "\tSEN,  2nd phase (14May2020 - 27May2020): finished 2008 trials in 1 min  0 sec"
     ]
    },
    {
     "name": "stdout",
     "output_type": "stream",
     "text": [
      "\n"
     ]
    },
    {
     "name": "stdout",
     "output_type": "stream",
     "text": [
      "\tKWT,  2nd phase (25May2020 - 09Jun2020): finished 2026 trials in 1 min  0 sec"
     ]
    },
    {
     "name": "stdout",
     "output_type": "stream",
     "text": [
      "\n"
     ]
    },
    {
     "name": "stdout",
     "output_type": "stream",
     "text": [
      "\tPOL,  4th phase (04Jun2020 - 15Jun2020): finished  700 trials in 0 min 15 sec"
     ]
    },
    {
     "name": "stdout",
     "output_type": "stream",
     "text": [
      "\n"
     ]
    },
    {
     "name": "stdout",
     "output_type": "stream",
     "text": [
      "\tGIN,  5th phase (10Jun2020 - 17Jun2020): finished 1068 trials in 0 min 25 sec"
     ]
    },
    {
     "name": "stdout",
     "output_type": "stream",
     "text": [
      "\n"
     ]
    },
    {
     "name": "stdout",
     "output_type": "stream",
     "text": [
      "\tAUT,  2nd phase (07Apr2020 - 22Apr2020): finished 2034 trials in 1 min  0 sec"
     ]
    },
    {
     "name": "stdout",
     "output_type": "stream",
     "text": [
      "\n"
     ]
    },
    {
     "name": "stdout",
     "output_type": "stream",
     "text": [
      "\tFRA,  3rd phase (13Apr2020 - 24Apr2020): finished 2053 trials in 1 min  0 sec"
     ]
    },
    {
     "name": "stdout",
     "output_type": "stream",
     "text": [
      "\n"
     ]
    },
    {
     "name": "stdout",
     "output_type": "stream",
     "text": [
      "\tBHR,  6th phase (08Jul2020 - 15Jul2020): finished 2111 trials in 1 min  0 sec"
     ]
    },
    {
     "name": "stdout",
     "output_type": "stream",
     "text": [
      "\n"
     ]
    },
    {
     "name": "stdout",
     "output_type": "stream",
     "text": [
      "\tBHR,  9th phase (10Aug2020 - 24Aug2020): finished 1699 trials in 0 min 45 sec"
     ]
    },
    {
     "name": "stdout",
     "output_type": "stream",
     "text": [
      "\n"
     ]
    },
    {
     "name": "stdout",
     "output_type": "stream",
     "text": [
      "\tAUT,  6th phase (18Jul2020 - 27Jul2020): finished  741 trials in 0 min 15 sec"
     ]
    },
    {
     "name": "stdout",
     "output_type": "stream",
     "text": [
      "\n"
     ]
    },
    {
     "name": "stdout",
     "output_type": "stream",
     "text": [
      "Completed optimization. Total: 27 min 58 sec"
     ]
    },
    {
     "name": "stdout",
     "output_type": "stream",
     "text": [
      "\n"
     ]
    }
   ],
   "source": [
    "# Parameter estimation with SIR-F model\n",
    "analyser.estimate(cs.SIRF)"
   ]
  },
  {
   "cell_type": "code",
   "execution_count": 12,
   "metadata": {
    "collapsed": false
   },
   "outputs": [
    {
     "data": {
      "text/html": [
       "<div>\n",
       "<style scoped>\n",
       "    .dataframe tbody tr th:only-of-type {\n",
       "        vertical-align: middle;\n",
       "    }\n",
       "\n",
       "    .dataframe tbody tr th {\n",
       "        vertical-align: top;\n",
       "    }\n",
       "\n",
       "    .dataframe thead th {\n",
       "        text-align: right;\n",
       "    }\n",
       "</style>\n",
       "<table border=\"1\" class=\"dataframe\">\n",
       "  <thead>\n",
       "    <tr style=\"text-align: right;\">\n",
       "      <th></th>\n",
       "      <th></th>\n",
       "      <th>Type</th>\n",
       "      <th>Start</th>\n",
       "      <th>End</th>\n",
       "      <th>Population</th>\n",
       "      <th>ODE</th>\n",
       "      <th>Rt</th>\n",
       "      <th>theta</th>\n",
       "      <th>kappa</th>\n",
       "      <th>rho</th>\n",
       "      <th>sigma</th>\n",
       "      <th>tau</th>\n",
       "      <th>alpha1 [-]</th>\n",
       "      <th>1/alpha2 [day]</th>\n",
       "      <th>1/gamma [day]</th>\n",
       "      <th>1/beta [day]</th>\n",
       "      <th>RMSLE</th>\n",
       "      <th>Trials</th>\n",
       "      <th>Runtime</th>\n",
       "    </tr>\n",
       "    <tr>\n",
       "      <th>Country</th>\n",
       "      <th>Phase</th>\n",
       "      <th></th>\n",
       "      <th></th>\n",
       "      <th></th>\n",
       "      <th></th>\n",
       "      <th></th>\n",
       "      <th></th>\n",
       "      <th></th>\n",
       "      <th></th>\n",
       "      <th></th>\n",
       "      <th></th>\n",
       "      <th></th>\n",
       "      <th></th>\n",
       "      <th></th>\n",
       "      <th></th>\n",
       "      <th></th>\n",
       "      <th></th>\n",
       "      <th></th>\n",
       "      <th></th>\n",
       "    </tr>\n",
       "  </thead>\n",
       "  <tbody>\n",
       "    <tr>\n",
       "      <th rowspan=\"11\" valign=\"top\">Guinea</th>\n",
       "      <th>1st</th>\n",
       "      <td>Past</td>\n",
       "      <td>02May2020</td>\n",
       "      <td>11May2020</td>\n",
       "      <td>12414318</td>\n",
       "      <td>SIR-F</td>\n",
       "      <td>1.79</td>\n",
       "      <td>0.000437189</td>\n",
       "      <td>9.8046e-05</td>\n",
       "      <td>0.0126597</td>\n",
       "      <td>0.00699089</td>\n",
       "      <td>360</td>\n",
       "      <td>0</td>\n",
       "      <td>2549</td>\n",
       "      <td>35</td>\n",
       "      <td>19</td>\n",
       "      <td>0.0738058</td>\n",
       "      <td>2002</td>\n",
       "      <td>1 min  0 sec</td>\n",
       "    </tr>\n",
       "    <tr>\n",
       "      <th>2nd</th>\n",
       "      <td>Past</td>\n",
       "      <td>12May2020</td>\n",
       "      <td>20May2020</td>\n",
       "      <td>12414318</td>\n",
       "      <td>SIR-F</td>\n",
       "      <td>0.48</td>\n",
       "      <td>0.0215186</td>\n",
       "      <td>4.95875e-05</td>\n",
       "      <td>0.00452747</td>\n",
       "      <td>0.00910626</td>\n",
       "      <td>360</td>\n",
       "      <td>0.022</td>\n",
       "      <td>5041</td>\n",
       "      <td>27</td>\n",
       "      <td>55</td>\n",
       "      <td>0.118944</td>\n",
       "      <td>2005</td>\n",
       "      <td>1 min  0 sec</td>\n",
       "    </tr>\n",
       "    <tr>\n",
       "      <th>3rd</th>\n",
       "      <td>Past</td>\n",
       "      <td>21May2020</td>\n",
       "      <td>28May2020</td>\n",
       "      <td>12414318</td>\n",
       "      <td>SIR-F</td>\n",
       "      <td>1.46</td>\n",
       "      <td>0.000822208</td>\n",
       "      <td>8.45387e-05</td>\n",
       "      <td>0.00929099</td>\n",
       "      <td>0.0062892</td>\n",
       "      <td>360</td>\n",
       "      <td>0.001</td>\n",
       "      <td>2957</td>\n",
       "      <td>39</td>\n",
       "      <td>26</td>\n",
       "      <td>0.0326798</td>\n",
       "      <td>1832</td>\n",
       "      <td>1 min  0 sec</td>\n",
       "    </tr>\n",
       "    <tr>\n",
       "      <th>4th</th>\n",
       "      <td>Past</td>\n",
       "      <td>29May2020</td>\n",
       "      <td>09Jun2020</td>\n",
       "      <td>12414318</td>\n",
       "      <td>SIR-F</td>\n",
       "      <td>0.69</td>\n",
       "      <td>0.000946599</td>\n",
       "      <td>2.37661e-05</td>\n",
       "      <td>0.0109332</td>\n",
       "      <td>0.0158223</td>\n",
       "      <td>360</td>\n",
       "      <td>0.001</td>\n",
       "      <td>10519</td>\n",
       "      <td>15</td>\n",
       "      <td>22</td>\n",
       "      <td>0.0635235</td>\n",
       "      <td>2025</td>\n",
       "      <td>1 min  0 sec</td>\n",
       "    </tr>\n",
       "    <tr>\n",
       "      <th>5th</th>\n",
       "      <td>Past</td>\n",
       "      <td>10Jun2020</td>\n",
       "      <td>17Jun2020</td>\n",
       "      <td>12414318</td>\n",
       "      <td>SIR-F</td>\n",
       "      <td>0.91</td>\n",
       "      <td>0.000455062</td>\n",
       "      <td>8.39734e-05</td>\n",
       "      <td>0.0103524</td>\n",
       "      <td>0.0112934</td>\n",
       "      <td>360</td>\n",
       "      <td>0</td>\n",
       "      <td>2977</td>\n",
       "      <td>22</td>\n",
       "      <td>24</td>\n",
       "      <td>0.0181335</td>\n",
       "      <td>1068</td>\n",
       "      <td>0 min 25 sec</td>\n",
       "    </tr>\n",
       "    <tr>\n",
       "      <th>6th</th>\n",
       "      <td>Past</td>\n",
       "      <td>18Jun2020</td>\n",
       "      <td>02Jul2020</td>\n",
       "      <td>12414318</td>\n",
       "      <td>SIR-F</td>\n",
       "      <td>0.55</td>\n",
       "      <td>0.000824753</td>\n",
       "      <td>8.45566e-05</td>\n",
       "      <td>0.00643798</td>\n",
       "      <td>0.0116074</td>\n",
       "      <td>360</td>\n",
       "      <td>0.001</td>\n",
       "      <td>2956</td>\n",
       "      <td>21</td>\n",
       "      <td>38</td>\n",
       "      <td>0.056988</td>\n",
       "      <td>2005</td>\n",
       "      <td>1 min  0 sec</td>\n",
       "    </tr>\n",
       "    <tr>\n",
       "      <th>7th</th>\n",
       "      <td>Past</td>\n",
       "      <td>03Jul2020</td>\n",
       "      <td>14Jul2020</td>\n",
       "      <td>12414318</td>\n",
       "      <td>SIR-F</td>\n",
       "      <td>1.5</td>\n",
       "      <td>0.000823824</td>\n",
       "      <td>8.45186e-05</td>\n",
       "      <td>0.0131614</td>\n",
       "      <td>0.00869912</td>\n",
       "      <td>360</td>\n",
       "      <td>0.001</td>\n",
       "      <td>2957</td>\n",
       "      <td>28</td>\n",
       "      <td>18</td>\n",
       "      <td>0.0263696</td>\n",
       "      <td>1366</td>\n",
       "      <td>0 min 35 sec</td>\n",
       "    </tr>\n",
       "    <tr>\n",
       "      <th>8th</th>\n",
       "      <td>Past</td>\n",
       "      <td>15Jul2020</td>\n",
       "      <td>23Jul2020</td>\n",
       "      <td>12414318</td>\n",
       "      <td>-</td>\n",
       "      <td>-</td>\n",
       "      <td>-</td>\n",
       "      <td>-</td>\n",
       "      <td>-</td>\n",
       "      <td>-</td>\n",
       "      <td>-</td>\n",
       "      <td>-</td>\n",
       "      <td>-</td>\n",
       "      <td>-</td>\n",
       "      <td>-</td>\n",
       "      <td>-</td>\n",
       "      <td>-</td>\n",
       "      <td>-</td>\n",
       "    </tr>\n",
       "    <tr>\n",
       "      <th>9th</th>\n",
       "      <td>Past</td>\n",
       "      <td>24Jul2020</td>\n",
       "      <td>03Aug2020</td>\n",
       "      <td>12414318</td>\n",
       "      <td>-</td>\n",
       "      <td>-</td>\n",
       "      <td>-</td>\n",
       "      <td>-</td>\n",
       "      <td>-</td>\n",
       "      <td>-</td>\n",
       "      <td>-</td>\n",
       "      <td>-</td>\n",
       "      <td>-</td>\n",
       "      <td>-</td>\n",
       "      <td>-</td>\n",
       "      <td>-</td>\n",
       "      <td>-</td>\n",
       "      <td>-</td>\n",
       "    </tr>\n",
       "    <tr>\n",
       "      <th>10th</th>\n",
       "      <td>Past</td>\n",
       "      <td>04Aug2020</td>\n",
       "      <td>12Aug2020</td>\n",
       "      <td>12414318</td>\n",
       "      <td>SIR-F</td>\n",
       "      <td>1.42</td>\n",
       "      <td>1.08405e-05</td>\n",
       "      <td>9.89759e-05</td>\n",
       "      <td>0.0244306</td>\n",
       "      <td>0.017138</td>\n",
       "      <td>360</td>\n",
       "      <td>0</td>\n",
       "      <td>2525</td>\n",
       "      <td>14</td>\n",
       "      <td>10</td>\n",
       "      <td>0.0305832</td>\n",
       "      <td>2014</td>\n",
       "      <td>1 min  0 sec</td>\n",
       "    </tr>\n",
       "    <tr>\n",
       "      <th>11th</th>\n",
       "      <td>Past</td>\n",
       "      <td>13Aug2020</td>\n",
       "      <td>24Aug2020</td>\n",
       "      <td>12414318</td>\n",
       "      <td>SIR-F</td>\n",
       "      <td>1.49</td>\n",
       "      <td>0.00016407</td>\n",
       "      <td>5.70009e-05</td>\n",
       "      <td>0.014557</td>\n",
       "      <td>0.00973517</td>\n",
       "      <td>360</td>\n",
       "      <td>0</td>\n",
       "      <td>4385</td>\n",
       "      <td>25</td>\n",
       "      <td>17</td>\n",
       "      <td>0.0206798</td>\n",
       "      <td>2008</td>\n",
       "      <td>1 min  0 sec</td>\n",
       "    </tr>\n",
       "  </tbody>\n",
       "</table>\n",
       "</div>"
      ],
      "text/plain": [
       "               Type      Start        End  Population    ODE    Rt  \\\n",
       "Country Phase                                                        \n",
       "Guinea  1st    Past  02May2020  11May2020    12414318  SIR-F  1.79   \n",
       "        2nd    Past  12May2020  20May2020    12414318  SIR-F  0.48   \n",
       "        3rd    Past  21May2020  28May2020    12414318  SIR-F  1.46   \n",
       "        4th    Past  29May2020  09Jun2020    12414318  SIR-F  0.69   \n",
       "        5th    Past  10Jun2020  17Jun2020    12414318  SIR-F  0.91   \n",
       "        6th    Past  18Jun2020  02Jul2020    12414318  SIR-F  0.55   \n",
       "        7th    Past  03Jul2020  14Jul2020    12414318  SIR-F   1.5   \n",
       "        8th    Past  15Jul2020  23Jul2020    12414318      -     -   \n",
       "        9th    Past  24Jul2020  03Aug2020    12414318      -     -   \n",
       "        10th   Past  04Aug2020  12Aug2020    12414318  SIR-F  1.42   \n",
       "        11th   Past  13Aug2020  24Aug2020    12414318  SIR-F  1.49   \n",
       "\n",
       "                     theta        kappa         rho       sigma  tau  \\\n",
       "Country Phase                                                          \n",
       "Guinea  1st    0.000437189   9.8046e-05   0.0126597  0.00699089  360   \n",
       "        2nd      0.0215186  4.95875e-05  0.00452747  0.00910626  360   \n",
       "        3rd    0.000822208  8.45387e-05  0.00929099   0.0062892  360   \n",
       "        4th    0.000946599  2.37661e-05   0.0109332   0.0158223  360   \n",
       "        5th    0.000455062  8.39734e-05   0.0103524   0.0112934  360   \n",
       "        6th    0.000824753  8.45566e-05  0.00643798   0.0116074  360   \n",
       "        7th    0.000823824  8.45186e-05   0.0131614  0.00869912  360   \n",
       "        8th              -            -           -           -    -   \n",
       "        9th              -            -           -           -    -   \n",
       "        10th   1.08405e-05  9.89759e-05   0.0244306    0.017138  360   \n",
       "        11th    0.00016407  5.70009e-05    0.014557  0.00973517  360   \n",
       "\n",
       "              alpha1 [-] 1/alpha2 [day] 1/gamma [day] 1/beta [day]      RMSLE  \\\n",
       "Country Phase                                                                   \n",
       "Guinea  1st            0           2549            35           19  0.0738058   \n",
       "        2nd        0.022           5041            27           55   0.118944   \n",
       "        3rd        0.001           2957            39           26  0.0326798   \n",
       "        4th        0.001          10519            15           22  0.0635235   \n",
       "        5th            0           2977            22           24  0.0181335   \n",
       "        6th        0.001           2956            21           38   0.056988   \n",
       "        7th        0.001           2957            28           18  0.0263696   \n",
       "        8th            -              -             -            -          -   \n",
       "        9th            -              -             -            -          -   \n",
       "        10th           0           2525            14           10  0.0305832   \n",
       "        11th           0           4385            25           17  0.0206798   \n",
       "\n",
       "              Trials       Runtime  \n",
       "Country Phase                       \n",
       "Guinea  1st     2002  1 min  0 sec  \n",
       "        2nd     2005  1 min  0 sec  \n",
       "        3rd     1832  1 min  0 sec  \n",
       "        4th     2025  1 min  0 sec  \n",
       "        5th     1068  0 min 25 sec  \n",
       "        6th     2005  1 min  0 sec  \n",
       "        7th     1366  0 min 35 sec  \n",
       "        8th        -             -  \n",
       "        9th        -             -  \n",
       "        10th    2014  1 min  0 sec  \n",
       "        11th    2008  1 min  0 sec  "
      ]
     },
     "execution_count": 12,
     "metadata": {},
     "output_type": "execute_result"
    }
   ],
   "source": [
    "# Show summary\n",
    "analyser.summary(countries=countries_show)"
   ]
  },
  {
   "cell_type": "markdown",
   "metadata": {},
   "source": [
    "## Compare the history of parameters\n",
    "Here, compare the history of parameter values if countries."
   ]
  },
  {
   "cell_type": "code",
   "execution_count": 13,
   "metadata": {
    "collapsed": false
   },
   "outputs": [
    {
     "data": {
      "text/html": [
       "<div>\n",
       "<style scoped>\n",
       "    .dataframe tbody tr th:only-of-type {\n",
       "        vertical-align: middle;\n",
       "    }\n",
       "\n",
       "    .dataframe tbody tr th {\n",
       "        vertical-align: top;\n",
       "    }\n",
       "\n",
       "    .dataframe thead th {\n",
       "        text-align: right;\n",
       "    }\n",
       "</style>\n",
       "<table border=\"1\" class=\"dataframe\">\n",
       "  <thead>\n",
       "    <tr style=\"text-align: right;\">\n",
       "      <th></th>\n",
       "      <th>Date</th>\n",
       "      <th>Country</th>\n",
       "      <th>theta</th>\n",
       "      <th>kappa</th>\n",
       "      <th>rho</th>\n",
       "      <th>sigma</th>\n",
       "      <th>alpha1 [-]</th>\n",
       "      <th>1/alpha2 [day]</th>\n",
       "      <th>1/beta [day]</th>\n",
       "      <th>1/gamma [day]</th>\n",
       "      <th>...</th>\n",
       "      <th>Cancel_events</th>\n",
       "      <th>Gatherings_restrictions</th>\n",
       "      <th>Transport_closing</th>\n",
       "      <th>Stay_home_restrictions</th>\n",
       "      <th>Internal_movement_restrictions</th>\n",
       "      <th>International_movement_restrictions</th>\n",
       "      <th>Information_campaigns</th>\n",
       "      <th>Testing_policy</th>\n",
       "      <th>Contact_tracing</th>\n",
       "      <th>Stringency_index</th>\n",
       "    </tr>\n",
       "  </thead>\n",
       "  <tbody>\n",
       "    <tr>\n",
       "      <th>0</th>\n",
       "      <td>2020-05-07</td>\n",
       "      <td>Ukraine</td>\n",
       "      <td>0.0188876</td>\n",
       "      <td>0.000213105</td>\n",
       "      <td>0.00799611</td>\n",
       "      <td>0.00553305</td>\n",
       "      <td>0.019</td>\n",
       "      <td>1173</td>\n",
       "      <td>31</td>\n",
       "      <td>45</td>\n",
       "      <td>...</td>\n",
       "      <td>2</td>\n",
       "      <td>4</td>\n",
       "      <td>2</td>\n",
       "      <td>1</td>\n",
       "      <td>2</td>\n",
       "      <td>4</td>\n",
       "      <td>2</td>\n",
       "      <td>2</td>\n",
       "      <td>2</td>\n",
       "      <td>88.89</td>\n",
       "    </tr>\n",
       "    <tr>\n",
       "      <th>1</th>\n",
       "      <td>2020-05-08</td>\n",
       "      <td>Ukraine</td>\n",
       "      <td>0.0188876</td>\n",
       "      <td>0.000213105</td>\n",
       "      <td>0.00799611</td>\n",
       "      <td>0.00553305</td>\n",
       "      <td>0.019</td>\n",
       "      <td>1173</td>\n",
       "      <td>31</td>\n",
       "      <td>45</td>\n",
       "      <td>...</td>\n",
       "      <td>2</td>\n",
       "      <td>4</td>\n",
       "      <td>2</td>\n",
       "      <td>1</td>\n",
       "      <td>2</td>\n",
       "      <td>4</td>\n",
       "      <td>2</td>\n",
       "      <td>2</td>\n",
       "      <td>2</td>\n",
       "      <td>88.89</td>\n",
       "    </tr>\n",
       "    <tr>\n",
       "      <th>2</th>\n",
       "      <td>2020-05-09</td>\n",
       "      <td>Ukraine</td>\n",
       "      <td>0.0188876</td>\n",
       "      <td>0.000213105</td>\n",
       "      <td>0.00799611</td>\n",
       "      <td>0.00553305</td>\n",
       "      <td>0.019</td>\n",
       "      <td>1173</td>\n",
       "      <td>31</td>\n",
       "      <td>45</td>\n",
       "      <td>...</td>\n",
       "      <td>2</td>\n",
       "      <td>4</td>\n",
       "      <td>2</td>\n",
       "      <td>1</td>\n",
       "      <td>2</td>\n",
       "      <td>4</td>\n",
       "      <td>2</td>\n",
       "      <td>2</td>\n",
       "      <td>2</td>\n",
       "      <td>88.89</td>\n",
       "    </tr>\n",
       "    <tr>\n",
       "      <th>3</th>\n",
       "      <td>2020-05-10</td>\n",
       "      <td>Ukraine</td>\n",
       "      <td>0.0188876</td>\n",
       "      <td>0.000213105</td>\n",
       "      <td>0.00799611</td>\n",
       "      <td>0.00553305</td>\n",
       "      <td>0.019</td>\n",
       "      <td>1173</td>\n",
       "      <td>31</td>\n",
       "      <td>45</td>\n",
       "      <td>...</td>\n",
       "      <td>2</td>\n",
       "      <td>4</td>\n",
       "      <td>2</td>\n",
       "      <td>1</td>\n",
       "      <td>2</td>\n",
       "      <td>4</td>\n",
       "      <td>2</td>\n",
       "      <td>2</td>\n",
       "      <td>2</td>\n",
       "      <td>88.89</td>\n",
       "    </tr>\n",
       "    <tr>\n",
       "      <th>4</th>\n",
       "      <td>2020-05-11</td>\n",
       "      <td>Ukraine</td>\n",
       "      <td>0.0188876</td>\n",
       "      <td>0.000213105</td>\n",
       "      <td>0.00799611</td>\n",
       "      <td>0.00553305</td>\n",
       "      <td>0.019</td>\n",
       "      <td>1173</td>\n",
       "      <td>31</td>\n",
       "      <td>45</td>\n",
       "      <td>...</td>\n",
       "      <td>2</td>\n",
       "      <td>4</td>\n",
       "      <td>2</td>\n",
       "      <td>1</td>\n",
       "      <td>2</td>\n",
       "      <td>4</td>\n",
       "      <td>2</td>\n",
       "      <td>2</td>\n",
       "      <td>2</td>\n",
       "      <td>88.89</td>\n",
       "    </tr>\n",
       "  </tbody>\n",
       "</table>\n",
       "<p>5 rows × 23 columns</p>\n",
       "</div>"
      ],
      "text/plain": [
       "        Date  Country      theta        kappa         rho       sigma  \\\n",
       "0 2020-05-07  Ukraine  0.0188876  0.000213105  0.00799611  0.00553305   \n",
       "1 2020-05-08  Ukraine  0.0188876  0.000213105  0.00799611  0.00553305   \n",
       "2 2020-05-09  Ukraine  0.0188876  0.000213105  0.00799611  0.00553305   \n",
       "3 2020-05-10  Ukraine  0.0188876  0.000213105  0.00799611  0.00553305   \n",
       "4 2020-05-11  Ukraine  0.0188876  0.000213105  0.00799611  0.00553305   \n",
       "\n",
       "  alpha1 [-] 1/alpha2 [day] 1/beta [day] 1/gamma [day]  ... Cancel_events  \\\n",
       "0      0.019           1173           31            45  ...             2   \n",
       "1      0.019           1173           31            45  ...             2   \n",
       "2      0.019           1173           31            45  ...             2   \n",
       "3      0.019           1173           31            45  ...             2   \n",
       "4      0.019           1173           31            45  ...             2   \n",
       "\n",
       "   Gatherings_restrictions  Transport_closing  Stay_home_restrictions  \\\n",
       "0                        4                  2                       1   \n",
       "1                        4                  2                       1   \n",
       "2                        4                  2                       1   \n",
       "3                        4                  2                       1   \n",
       "4                        4                  2                       1   \n",
       "\n",
       "   Internal_movement_restrictions  International_movement_restrictions  \\\n",
       "0                               2                                    4   \n",
       "1                               2                                    4   \n",
       "2                               2                                    4   \n",
       "3                               2                                    4   \n",
       "4                               2                                    4   \n",
       "\n",
       "   Information_campaigns  Testing_policy  Contact_tracing  Stringency_index  \n",
       "0                      2               2                2             88.89  \n",
       "1                      2               2                2             88.89  \n",
       "2                      2               2                2             88.89  \n",
       "3                      2               2                2             88.89  \n",
       "4                      2               2                2             88.89  \n",
       "\n",
       "[5 rows x 23 columns]"
      ]
     },
     "execution_count": 13,
     "metadata": {},
     "output_type": "execute_result"
    }
   ],
   "source": [
    "# All parameter/day parameter/Rt/OxCGRT\n",
    "analyser.track().head()"
   ]
  },
  {
   "cell_type": "markdown",
   "metadata": {},
   "source": [
    "### $Rt$: Reprodcution number $\\mathrm{[-]}$"
   ]
  },
  {
   "cell_type": "code",
   "execution_count": 14,
   "metadata": {
    "collapsed": false
   },
   "outputs": [
    {
     "data": {
      "image/png": "[encoded data removed]",
      "text/plain": [
       "<Figure size 648x432 with 1 Axes>"
      ]
     },
     "metadata": {},
     "output_type": "display_data"
    },
    {
     "data": {
      "text/html": [
       "<div>\n",
       "<style scoped>\n",
       "    .dataframe tbody tr th:only-of-type {\n",
       "        vertical-align: middle;\n",
       "    }\n",
       "\n",
       "    .dataframe tbody tr th {\n",
       "        vertical-align: top;\n",
       "    }\n",
       "\n",
       "    .dataframe thead th {\n",
       "        text-align: right;\n",
       "    }\n",
       "</style>\n",
       "<table border=\"1\" class=\"dataframe\">\n",
       "  <thead>\n",
       "    <tr style=\"text-align: right;\">\n",
       "      <th>Country</th>\n",
       "      <th>Austria</th>\n",
       "      <th>Bahrain</th>\n",
       "      <th>Bangladesh</th>\n",
       "      <th>Czech Republic</th>\n",
       "      <th>France</th>\n",
       "      <th>Guinea</th>\n",
       "      <th>Iran</th>\n",
       "      <th>Italy</th>\n",
       "      <th>Jamaica</th>\n",
       "      <th>Korea, South</th>\n",
       "      <th>Kuwait</th>\n",
       "      <th>Mali</th>\n",
       "      <th>Moldova</th>\n",
       "      <th>Poland</th>\n",
       "      <th>Portugal</th>\n",
       "      <th>Romania</th>\n",
       "      <th>Russia</th>\n",
       "      <th>Senegal</th>\n",
       "      <th>Ukraine</th>\n",
       "      <th>United Arab Emirates</th>\n",
       "    </tr>\n",
       "    <tr>\n",
       "      <th>Date</th>\n",
       "      <th></th>\n",
       "      <th></th>\n",
       "      <th></th>\n",
       "      <th></th>\n",
       "      <th></th>\n",
       "      <th></th>\n",
       "      <th></th>\n",
       "      <th></th>\n",
       "      <th></th>\n",
       "      <th></th>\n",
       "      <th></th>\n",
       "      <th></th>\n",
       "      <th></th>\n",
       "      <th></th>\n",
       "      <th></th>\n",
       "      <th></th>\n",
       "      <th></th>\n",
       "      <th></th>\n",
       "      <th></th>\n",
       "      <th></th>\n",
       "    </tr>\n",
       "  </thead>\n",
       "  <tbody>\n",
       "    <tr>\n",
       "      <th>2020-08-20</th>\n",
       "      <td>2.33</td>\n",
       "      <td>1.14</td>\n",
       "      <td>1.2</td>\n",
       "      <td>1.3</td>\n",
       "      <td>12.92</td>\n",
       "      <td>1.49</td>\n",
       "      <td>1.08</td>\n",
       "      <td>1.34</td>\n",
       "      <td>5.65</td>\n",
       "      <td>5.01</td>\n",
       "      <td>0.94</td>\n",
       "      <td>0.88</td>\n",
       "      <td>1.25</td>\n",
       "      <td>2.26</td>\n",
       "      <td>1.15</td>\n",
       "      <td>3.36</td>\n",
       "      <td>1.0</td>\n",
       "      <td>2.29</td>\n",
       "      <td>2.81</td>\n",
       "      <td>0.99</td>\n",
       "    </tr>\n",
       "    <tr>\n",
       "      <th>2020-08-21</th>\n",
       "      <td>2.33</td>\n",
       "      <td>1.14</td>\n",
       "      <td>1.2</td>\n",
       "      <td>1.3</td>\n",
       "      <td>12.92</td>\n",
       "      <td>1.49</td>\n",
       "      <td>1.08</td>\n",
       "      <td>1.34</td>\n",
       "      <td>5.65</td>\n",
       "      <td>5.01</td>\n",
       "      <td>0.94</td>\n",
       "      <td>0.88</td>\n",
       "      <td>1.25</td>\n",
       "      <td>2.26</td>\n",
       "      <td>1.15</td>\n",
       "      <td>3.36</td>\n",
       "      <td>1.0</td>\n",
       "      <td>2.29</td>\n",
       "      <td>2.81</td>\n",
       "      <td>0.99</td>\n",
       "    </tr>\n",
       "    <tr>\n",
       "      <th>2020-08-22</th>\n",
       "      <td>2.33</td>\n",
       "      <td>1.14</td>\n",
       "      <td>1.2</td>\n",
       "      <td>1.3</td>\n",
       "      <td>12.92</td>\n",
       "      <td>1.49</td>\n",
       "      <td>1.08</td>\n",
       "      <td>1.34</td>\n",
       "      <td>5.65</td>\n",
       "      <td>5.01</td>\n",
       "      <td>0.94</td>\n",
       "      <td>0.88</td>\n",
       "      <td>1.25</td>\n",
       "      <td>2.26</td>\n",
       "      <td>1.15</td>\n",
       "      <td>3.36</td>\n",
       "      <td>1.0</td>\n",
       "      <td>2.29</td>\n",
       "      <td>2.81</td>\n",
       "      <td>0.99</td>\n",
       "    </tr>\n",
       "    <tr>\n",
       "      <th>2020-08-23</th>\n",
       "      <td>2.33</td>\n",
       "      <td>1.14</td>\n",
       "      <td>1.2</td>\n",
       "      <td>1.3</td>\n",
       "      <td>12.92</td>\n",
       "      <td>1.49</td>\n",
       "      <td>1.08</td>\n",
       "      <td>1.34</td>\n",
       "      <td>5.65</td>\n",
       "      <td>5.01</td>\n",
       "      <td>0.94</td>\n",
       "      <td>0.88</td>\n",
       "      <td>1.25</td>\n",
       "      <td>2.26</td>\n",
       "      <td>1.15</td>\n",
       "      <td>3.36</td>\n",
       "      <td>1.0</td>\n",
       "      <td>2.29</td>\n",
       "      <td>2.81</td>\n",
       "      <td>0.99</td>\n",
       "    </tr>\n",
       "    <tr>\n",
       "      <th>2020-08-24</th>\n",
       "      <td>2.33</td>\n",
       "      <td>1.14</td>\n",
       "      <td>1.2</td>\n",
       "      <td>1.3</td>\n",
       "      <td>12.92</td>\n",
       "      <td>1.49</td>\n",
       "      <td>1.08</td>\n",
       "      <td>1.34</td>\n",
       "      <td>5.65</td>\n",
       "      <td>5.01</td>\n",
       "      <td>0.94</td>\n",
       "      <td>0.88</td>\n",
       "      <td>1.25</td>\n",
       "      <td>2.26</td>\n",
       "      <td>1.15</td>\n",
       "      <td>3.36</td>\n",
       "      <td>1.0</td>\n",
       "      <td>2.29</td>\n",
       "      <td>2.81</td>\n",
       "      <td>0.99</td>\n",
       "    </tr>\n",
       "  </tbody>\n",
       "</table>\n",
       "</div>"
      ],
      "text/plain": [
       "Country     Austria  Bahrain  Bangladesh  Czech Republic  France  Guinea  \\\n",
       "Date                                                                       \n",
       "2020-08-20     2.33     1.14         1.2             1.3   12.92    1.49   \n",
       "2020-08-21     2.33     1.14         1.2             1.3   12.92    1.49   \n",
       "2020-08-22     2.33     1.14         1.2             1.3   12.92    1.49   \n",
       "2020-08-23     2.33     1.14         1.2             1.3   12.92    1.49   \n",
       "2020-08-24     2.33     1.14         1.2             1.3   12.92    1.49   \n",
       "\n",
       "Country     Iran  Italy  Jamaica  Korea, South  Kuwait  Mali  Moldova  Poland  \\\n",
       "Date                                                                            \n",
       "2020-08-20  1.08   1.34     5.65          5.01    0.94  0.88     1.25    2.26   \n",
       "2020-08-21  1.08   1.34     5.65          5.01    0.94  0.88     1.25    2.26   \n",
       "2020-08-22  1.08   1.34     5.65          5.01    0.94  0.88     1.25    2.26   \n",
       "2020-08-23  1.08   1.34     5.65          5.01    0.94  0.88     1.25    2.26   \n",
       "2020-08-24  1.08   1.34     5.65          5.01    0.94  0.88     1.25    2.26   \n",
       "\n",
       "Country     Portugal  Romania  Russia  Senegal  Ukraine  United Arab Emirates  \n",
       "Date                                                                           \n",
       "2020-08-20      1.15     3.36     1.0     2.29     2.81                  0.99  \n",
       "2020-08-21      1.15     3.36     1.0     2.29     2.81                  0.99  \n",
       "2020-08-22      1.15     3.36     1.0     2.29     2.81                  0.99  \n",
       "2020-08-23      1.15     3.36     1.0     2.29     2.81                  0.99  \n",
       "2020-08-24      1.15     3.36     1.0     2.29     2.81                  0.99  "
      ]
     },
     "execution_count": 14,
     "metadata": {},
     "output_type": "execute_result"
    }
   ],
   "source": [
    "analyser.param_history(\"Rt\", roll_window=None).tail()"
   ]
  },
  {
   "cell_type": "markdown",
   "metadata": {},
   "source": [
    "### $\\rho$: Effective contact rate $\\mathrm{[-]}$"
   ]
  },
  {
   "cell_type": "code",
   "execution_count": 15,
   "metadata": {
    "collapsed": false
   },
   "outputs": [
    {
     "data": {
      "image/png": "[encoded data removed]",
      "text/plain": [
       "<Figure size 648x432 with 1 Axes>"
      ]
     },
     "metadata": {},
     "output_type": "display_data"
    },
    {
     "data": {
      "text/html": [
       "<div>\n",
       "<style scoped>\n",
       "    .dataframe tbody tr th:only-of-type {\n",
       "        vertical-align: middle;\n",
       "    }\n",
       "\n",
       "    .dataframe tbody tr th {\n",
       "        vertical-align: top;\n",
       "    }\n",
       "\n",
       "    .dataframe thead th {\n",
       "        text-align: right;\n",
       "    }\n",
       "</style>\n",
       "<table border=\"1\" class=\"dataframe\">\n",
       "  <thead>\n",
       "    <tr style=\"text-align: right;\">\n",
       "      <th>Country</th>\n",
       "      <th>Austria</th>\n",
       "      <th>Bahrain</th>\n",
       "      <th>Bangladesh</th>\n",
       "      <th>Czech Republic</th>\n",
       "      <th>France</th>\n",
       "      <th>Guinea</th>\n",
       "      <th>Iran</th>\n",
       "      <th>Italy</th>\n",
       "      <th>Jamaica</th>\n",
       "      <th>Korea, South</th>\n",
       "      <th>Kuwait</th>\n",
       "      <th>Mali</th>\n",
       "      <th>Moldova</th>\n",
       "      <th>Poland</th>\n",
       "      <th>Portugal</th>\n",
       "      <th>Romania</th>\n",
       "      <th>Russia</th>\n",
       "      <th>Senegal</th>\n",
       "      <th>Ukraine</th>\n",
       "      <th>United Arab Emirates</th>\n",
       "    </tr>\n",
       "    <tr>\n",
       "      <th>Date</th>\n",
       "      <th></th>\n",
       "      <th></th>\n",
       "      <th></th>\n",
       "      <th></th>\n",
       "      <th></th>\n",
       "      <th></th>\n",
       "      <th></th>\n",
       "      <th></th>\n",
       "      <th></th>\n",
       "      <th></th>\n",
       "      <th></th>\n",
       "      <th></th>\n",
       "      <th></th>\n",
       "      <th></th>\n",
       "      <th></th>\n",
       "      <th></th>\n",
       "      <th></th>\n",
       "      <th></th>\n",
       "      <th></th>\n",
       "      <th></th>\n",
       "    </tr>\n",
       "  </thead>\n",
       "  <tbody>\n",
       "    <tr>\n",
       "      <th>2020-08-20</th>\n",
       "      <td>0.02631</td>\n",
       "      <td>0.02946</td>\n",
       "      <td>0.005342</td>\n",
       "      <td>0.0122</td>\n",
       "      <td>0.005842</td>\n",
       "      <td>0.014557</td>\n",
       "      <td>0.027534</td>\n",
       "      <td>0.006329</td>\n",
       "      <td>0.014651</td>\n",
       "      <td>0.027351</td>\n",
       "      <td>0.018906</td>\n",
       "      <td>0.002247</td>\n",
       "      <td>0.011515</td>\n",
       "      <td>0.013316</td>\n",
       "      <td>0.003996</td>\n",
       "      <td>0.011234</td>\n",
       "      <td>0.00138</td>\n",
       "      <td>0.005694</td>\n",
       "      <td>0.009824</td>\n",
       "      <td>0.010593</td>\n",
       "    </tr>\n",
       "    <tr>\n",
       "      <th>2020-08-21</th>\n",
       "      <td>0.02631</td>\n",
       "      <td>0.02946</td>\n",
       "      <td>0.005342</td>\n",
       "      <td>0.0122</td>\n",
       "      <td>0.005842</td>\n",
       "      <td>0.014557</td>\n",
       "      <td>0.027534</td>\n",
       "      <td>0.006329</td>\n",
       "      <td>0.014651</td>\n",
       "      <td>0.027351</td>\n",
       "      <td>0.018906</td>\n",
       "      <td>0.002247</td>\n",
       "      <td>0.011515</td>\n",
       "      <td>0.013316</td>\n",
       "      <td>0.003996</td>\n",
       "      <td>0.011234</td>\n",
       "      <td>0.00138</td>\n",
       "      <td>0.005694</td>\n",
       "      <td>0.009824</td>\n",
       "      <td>0.010593</td>\n",
       "    </tr>\n",
       "    <tr>\n",
       "      <th>2020-08-22</th>\n",
       "      <td>0.02631</td>\n",
       "      <td>0.02946</td>\n",
       "      <td>0.005342</td>\n",
       "      <td>0.0122</td>\n",
       "      <td>0.005842</td>\n",
       "      <td>0.014557</td>\n",
       "      <td>0.027534</td>\n",
       "      <td>0.006329</td>\n",
       "      <td>0.014651</td>\n",
       "      <td>0.027351</td>\n",
       "      <td>0.018906</td>\n",
       "      <td>0.002247</td>\n",
       "      <td>0.011515</td>\n",
       "      <td>0.013316</td>\n",
       "      <td>0.003996</td>\n",
       "      <td>0.011234</td>\n",
       "      <td>0.00138</td>\n",
       "      <td>0.005694</td>\n",
       "      <td>0.009824</td>\n",
       "      <td>0.010593</td>\n",
       "    </tr>\n",
       "    <tr>\n",
       "      <th>2020-08-23</th>\n",
       "      <td>0.02631</td>\n",
       "      <td>0.02946</td>\n",
       "      <td>0.005342</td>\n",
       "      <td>0.0122</td>\n",
       "      <td>0.005842</td>\n",
       "      <td>0.014557</td>\n",
       "      <td>0.027534</td>\n",
       "      <td>0.006329</td>\n",
       "      <td>0.014651</td>\n",
       "      <td>0.027351</td>\n",
       "      <td>0.018906</td>\n",
       "      <td>0.002247</td>\n",
       "      <td>0.011515</td>\n",
       "      <td>0.013316</td>\n",
       "      <td>0.003996</td>\n",
       "      <td>0.011234</td>\n",
       "      <td>0.00138</td>\n",
       "      <td>0.005694</td>\n",
       "      <td>0.009824</td>\n",
       "      <td>0.010593</td>\n",
       "    </tr>\n",
       "    <tr>\n",
       "      <th>2020-08-24</th>\n",
       "      <td>0.02631</td>\n",
       "      <td>0.02946</td>\n",
       "      <td>0.005342</td>\n",
       "      <td>0.0122</td>\n",
       "      <td>0.005842</td>\n",
       "      <td>0.014557</td>\n",
       "      <td>0.027534</td>\n",
       "      <td>0.006329</td>\n",
       "      <td>0.014651</td>\n",
       "      <td>0.027351</td>\n",
       "      <td>0.018906</td>\n",
       "      <td>0.002247</td>\n",
       "      <td>0.011515</td>\n",
       "      <td>0.013316</td>\n",
       "      <td>0.003996</td>\n",
       "      <td>0.011234</td>\n",
       "      <td>0.00138</td>\n",
       "      <td>0.005694</td>\n",
       "      <td>0.009824</td>\n",
       "      <td>0.010593</td>\n",
       "    </tr>\n",
       "  </tbody>\n",
       "</table>\n",
       "</div>"
      ],
      "text/plain": [
       "Country     Austria  Bahrain  Bangladesh  Czech Republic    France    Guinea  \\\n",
       "Date                                                                           \n",
       "2020-08-20  0.02631  0.02946    0.005342          0.0122  0.005842  0.014557   \n",
       "2020-08-21  0.02631  0.02946    0.005342          0.0122  0.005842  0.014557   \n",
       "2020-08-22  0.02631  0.02946    0.005342          0.0122  0.005842  0.014557   \n",
       "2020-08-23  0.02631  0.02946    0.005342          0.0122  0.005842  0.014557   \n",
       "2020-08-24  0.02631  0.02946    0.005342          0.0122  0.005842  0.014557   \n",
       "\n",
       "Country         Iran     Italy   Jamaica  Korea, South    Kuwait      Mali  \\\n",
       "Date                                                                         \n",
       "2020-08-20  0.027534  0.006329  0.014651      0.027351  0.018906  0.002247   \n",
       "2020-08-21  0.027534  0.006329  0.014651      0.027351  0.018906  0.002247   \n",
       "2020-08-22  0.027534  0.006329  0.014651      0.027351  0.018906  0.002247   \n",
       "2020-08-23  0.027534  0.006329  0.014651      0.027351  0.018906  0.002247   \n",
       "2020-08-24  0.027534  0.006329  0.014651      0.027351  0.018906  0.002247   \n",
       "\n",
       "Country      Moldova    Poland  Portugal   Romania   Russia   Senegal  \\\n",
       "Date                                                                    \n",
       "2020-08-20  0.011515  0.013316  0.003996  0.011234  0.00138  0.005694   \n",
       "2020-08-21  0.011515  0.013316  0.003996  0.011234  0.00138  0.005694   \n",
       "2020-08-22  0.011515  0.013316  0.003996  0.011234  0.00138  0.005694   \n",
       "2020-08-23  0.011515  0.013316  0.003996  0.011234  0.00138  0.005694   \n",
       "2020-08-24  0.011515  0.013316  0.003996  0.011234  0.00138  0.005694   \n",
       "\n",
       "Country      Ukraine  United Arab Emirates  \n",
       "Date                                        \n",
       "2020-08-20  0.009824              0.010593  \n",
       "2020-08-21  0.009824              0.010593  \n",
       "2020-08-22  0.009824              0.010593  \n",
       "2020-08-23  0.009824              0.010593  \n",
       "2020-08-24  0.009824              0.010593  "
      ]
     },
     "execution_count": 15,
     "metadata": {},
     "output_type": "execute_result"
    }
   ],
   "source": [
    "analyser.param_history(\"rho\", roll_window=None).tail()"
   ]
  },
  {
   "cell_type": "markdown",
   "metadata": {},
   "source": [
    "### $\\sigma$: Recovery rate $\\mathrm{[-]}$"
   ]
  },
  {
   "cell_type": "code",
   "execution_count": 16,
   "metadata": {
    "collapsed": false
   },
   "outputs": [
    {
     "data": {
      "image/png": "[encoded data removed]",
      "text/plain": [
       "<Figure size 648x432 with 1 Axes>"
      ]
     },
     "metadata": {},
     "output_type": "display_data"
    },
    {
     "data": {
      "text/html": [
       "<div>\n",
       "<style scoped>\n",
       "    .dataframe tbody tr th:only-of-type {\n",
       "        vertical-align: middle;\n",
       "    }\n",
       "\n",
       "    .dataframe tbody tr th {\n",
       "        vertical-align: top;\n",
       "    }\n",
       "\n",
       "    .dataframe thead th {\n",
       "        text-align: right;\n",
       "    }\n",
       "</style>\n",
       "<table border=\"1\" class=\"dataframe\">\n",
       "  <thead>\n",
       "    <tr style=\"text-align: right;\">\n",
       "      <th>Country</th>\n",
       "      <th>Austria</th>\n",
       "      <th>Bahrain</th>\n",
       "      <th>Bangladesh</th>\n",
       "      <th>Czech Republic</th>\n",
       "      <th>France</th>\n",
       "      <th>Guinea</th>\n",
       "      <th>Iran</th>\n",
       "      <th>Italy</th>\n",
       "      <th>Jamaica</th>\n",
       "      <th>Korea, South</th>\n",
       "      <th>Kuwait</th>\n",
       "      <th>Mali</th>\n",
       "      <th>Moldova</th>\n",
       "      <th>Poland</th>\n",
       "      <th>Portugal</th>\n",
       "      <th>Romania</th>\n",
       "      <th>Russia</th>\n",
       "      <th>Senegal</th>\n",
       "      <th>Ukraine</th>\n",
       "      <th>United Arab Emirates</th>\n",
       "    </tr>\n",
       "    <tr>\n",
       "      <th>Date</th>\n",
       "      <th></th>\n",
       "      <th></th>\n",
       "      <th></th>\n",
       "      <th></th>\n",
       "      <th></th>\n",
       "      <th></th>\n",
       "      <th></th>\n",
       "      <th></th>\n",
       "      <th></th>\n",
       "      <th></th>\n",
       "      <th></th>\n",
       "      <th></th>\n",
       "      <th></th>\n",
       "      <th></th>\n",
       "      <th></th>\n",
       "      <th></th>\n",
       "      <th></th>\n",
       "      <th></th>\n",
       "      <th></th>\n",
       "      <th></th>\n",
       "    </tr>\n",
       "  </thead>\n",
       "  <tbody>\n",
       "    <tr>\n",
       "      <th>2020-08-20</th>\n",
       "      <td>0.011249</td>\n",
       "      <td>0.025626</td>\n",
       "      <td>0.004393</td>\n",
       "      <td>0.009343</td>\n",
       "      <td>0.000415</td>\n",
       "      <td>0.009735</td>\n",
       "      <td>0.02362</td>\n",
       "      <td>0.00455</td>\n",
       "      <td>0.002531</td>\n",
       "      <td>0.005413</td>\n",
       "      <td>0.019995</td>\n",
       "      <td>0.002503</td>\n",
       "      <td>0.009001</td>\n",
       "      <td>0.005697</td>\n",
       "      <td>0.003398</td>\n",
       "      <td>0.003102</td>\n",
       "      <td>0.001349</td>\n",
       "      <td>0.002397</td>\n",
       "      <td>0.003347</td>\n",
       "      <td>0.01071</td>\n",
       "    </tr>\n",
       "    <tr>\n",
       "      <th>2020-08-21</th>\n",
       "      <td>0.011249</td>\n",
       "      <td>0.025626</td>\n",
       "      <td>0.004393</td>\n",
       "      <td>0.009343</td>\n",
       "      <td>0.000415</td>\n",
       "      <td>0.009735</td>\n",
       "      <td>0.02362</td>\n",
       "      <td>0.00455</td>\n",
       "      <td>0.002531</td>\n",
       "      <td>0.005413</td>\n",
       "      <td>0.019995</td>\n",
       "      <td>0.002503</td>\n",
       "      <td>0.009001</td>\n",
       "      <td>0.005697</td>\n",
       "      <td>0.003398</td>\n",
       "      <td>0.003102</td>\n",
       "      <td>0.001349</td>\n",
       "      <td>0.002397</td>\n",
       "      <td>0.003347</td>\n",
       "      <td>0.01071</td>\n",
       "    </tr>\n",
       "    <tr>\n",
       "      <th>2020-08-22</th>\n",
       "      <td>0.011249</td>\n",
       "      <td>0.025626</td>\n",
       "      <td>0.004393</td>\n",
       "      <td>0.009343</td>\n",
       "      <td>0.000415</td>\n",
       "      <td>0.009735</td>\n",
       "      <td>0.02362</td>\n",
       "      <td>0.00455</td>\n",
       "      <td>0.002531</td>\n",
       "      <td>0.005413</td>\n",
       "      <td>0.019995</td>\n",
       "      <td>0.002503</td>\n",
       "      <td>0.009001</td>\n",
       "      <td>0.005697</td>\n",
       "      <td>0.003398</td>\n",
       "      <td>0.003102</td>\n",
       "      <td>0.001349</td>\n",
       "      <td>0.002397</td>\n",
       "      <td>0.003347</td>\n",
       "      <td>0.01071</td>\n",
       "    </tr>\n",
       "    <tr>\n",
       "      <th>2020-08-23</th>\n",
       "      <td>0.011249</td>\n",
       "      <td>0.025626</td>\n",
       "      <td>0.004393</td>\n",
       "      <td>0.009343</td>\n",
       "      <td>0.000415</td>\n",
       "      <td>0.009735</td>\n",
       "      <td>0.02362</td>\n",
       "      <td>0.00455</td>\n",
       "      <td>0.002531</td>\n",
       "      <td>0.005413</td>\n",
       "      <td>0.019995</td>\n",
       "      <td>0.002503</td>\n",
       "      <td>0.009001</td>\n",
       "      <td>0.005697</td>\n",
       "      <td>0.003398</td>\n",
       "      <td>0.003102</td>\n",
       "      <td>0.001349</td>\n",
       "      <td>0.002397</td>\n",
       "      <td>0.003347</td>\n",
       "      <td>0.01071</td>\n",
       "    </tr>\n",
       "    <tr>\n",
       "      <th>2020-08-24</th>\n",
       "      <td>0.011249</td>\n",
       "      <td>0.025626</td>\n",
       "      <td>0.004393</td>\n",
       "      <td>0.009343</td>\n",
       "      <td>0.000415</td>\n",
       "      <td>0.009735</td>\n",
       "      <td>0.02362</td>\n",
       "      <td>0.00455</td>\n",
       "      <td>0.002531</td>\n",
       "      <td>0.005413</td>\n",
       "      <td>0.019995</td>\n",
       "      <td>0.002503</td>\n",
       "      <td>0.009001</td>\n",
       "      <td>0.005697</td>\n",
       "      <td>0.003398</td>\n",
       "      <td>0.003102</td>\n",
       "      <td>0.001349</td>\n",
       "      <td>0.002397</td>\n",
       "      <td>0.003347</td>\n",
       "      <td>0.01071</td>\n",
       "    </tr>\n",
       "  </tbody>\n",
       "</table>\n",
       "</div>"
      ],
      "text/plain": [
       "Country      Austria   Bahrain  Bangladesh  Czech Republic    France  \\\n",
       "Date                                                                   \n",
       "2020-08-20  0.011249  0.025626    0.004393        0.009343  0.000415   \n",
       "2020-08-21  0.011249  0.025626    0.004393        0.009343  0.000415   \n",
       "2020-08-22  0.011249  0.025626    0.004393        0.009343  0.000415   \n",
       "2020-08-23  0.011249  0.025626    0.004393        0.009343  0.000415   \n",
       "2020-08-24  0.011249  0.025626    0.004393        0.009343  0.000415   \n",
       "\n",
       "Country       Guinea     Iran    Italy   Jamaica  Korea, South    Kuwait  \\\n",
       "Date                                                                       \n",
       "2020-08-20  0.009735  0.02362  0.00455  0.002531      0.005413  0.019995   \n",
       "2020-08-21  0.009735  0.02362  0.00455  0.002531      0.005413  0.019995   \n",
       "2020-08-22  0.009735  0.02362  0.00455  0.002531      0.005413  0.019995   \n",
       "2020-08-23  0.009735  0.02362  0.00455  0.002531      0.005413  0.019995   \n",
       "2020-08-24  0.009735  0.02362  0.00455  0.002531      0.005413  0.019995   \n",
       "\n",
       "Country         Mali   Moldova    Poland  Portugal   Romania    Russia  \\\n",
       "Date                                                                     \n",
       "2020-08-20  0.002503  0.009001  0.005697  0.003398  0.003102  0.001349   \n",
       "2020-08-21  0.002503  0.009001  0.005697  0.003398  0.003102  0.001349   \n",
       "2020-08-22  0.002503  0.009001  0.005697  0.003398  0.003102  0.001349   \n",
       "2020-08-23  0.002503  0.009001  0.005697  0.003398  0.003102  0.001349   \n",
       "2020-08-24  0.002503  0.009001  0.005697  0.003398  0.003102  0.001349   \n",
       "\n",
       "Country      Senegal   Ukraine  United Arab Emirates  \n",
       "Date                                                  \n",
       "2020-08-20  0.002397  0.003347               0.01071  \n",
       "2020-08-21  0.002397  0.003347               0.01071  \n",
       "2020-08-22  0.002397  0.003347               0.01071  \n",
       "2020-08-23  0.002397  0.003347               0.01071  \n",
       "2020-08-24  0.002397  0.003347               0.01071  "
      ]
     },
     "execution_count": 16,
     "metadata": {},
     "output_type": "execute_result"
    }
   ],
   "source": [
    "analyser.param_history(\"sigma\", roll_window=None).tail()"
   ]
  },
  {
   "cell_type": "markdown",
   "metadata": {},
   "source": [
    "### $\\kappa$: Mortality rate of infected cases $\\mathrm{[-]}$"
   ]
  },
  {
   "cell_type": "code",
   "execution_count": 17,
   "metadata": {
    "collapsed": false
   },
   "outputs": [
    {
     "data": {
      "image/png": "[encoded data removed]",
      "text/plain": [
       "<Figure size 648x432 with 1 Axes>"
      ]
     },
     "metadata": {},
     "output_type": "display_data"
    },
    {
     "data": {
      "text/html": [
       "<div>\n",
       "<style scoped>\n",
       "    .dataframe tbody tr th:only-of-type {\n",
       "        vertical-align: middle;\n",
       "    }\n",
       "\n",
       "    .dataframe tbody tr th {\n",
       "        vertical-align: top;\n",
       "    }\n",
       "\n",
       "    .dataframe thead th {\n",
       "        text-align: right;\n",
       "    }\n",
       "</style>\n",
       "<table border=\"1\" class=\"dataframe\">\n",
       "  <thead>\n",
       "    <tr style=\"text-align: right;\">\n",
       "      <th>Country</th>\n",
       "      <th>Austria</th>\n",
       "      <th>Bahrain</th>\n",
       "      <th>Bangladesh</th>\n",
       "      <th>Czech Republic</th>\n",
       "      <th>France</th>\n",
       "      <th>Guinea</th>\n",
       "      <th>Iran</th>\n",
       "      <th>Italy</th>\n",
       "      <th>Jamaica</th>\n",
       "      <th>Korea, South</th>\n",
       "      <th>Kuwait</th>\n",
       "      <th>Mali</th>\n",
       "      <th>Moldova</th>\n",
       "      <th>Poland</th>\n",
       "      <th>Portugal</th>\n",
       "      <th>Romania</th>\n",
       "      <th>Russia</th>\n",
       "      <th>Senegal</th>\n",
       "      <th>Ukraine</th>\n",
       "      <th>United Arab Emirates</th>\n",
       "    </tr>\n",
       "    <tr>\n",
       "      <th>Date</th>\n",
       "      <th></th>\n",
       "      <th></th>\n",
       "      <th></th>\n",
       "      <th></th>\n",
       "      <th></th>\n",
       "      <th></th>\n",
       "      <th></th>\n",
       "      <th></th>\n",
       "      <th></th>\n",
       "      <th></th>\n",
       "      <th></th>\n",
       "      <th></th>\n",
       "      <th></th>\n",
       "      <th></th>\n",
       "      <th></th>\n",
       "      <th></th>\n",
       "      <th></th>\n",
       "      <th></th>\n",
       "      <th></th>\n",
       "      <th></th>\n",
       "    </tr>\n",
       "  </thead>\n",
       "  <tbody>\n",
       "    <tr>\n",
       "      <th>2020-08-20</th>\n",
       "      <td>0.000002</td>\n",
       "      <td>0.000082</td>\n",
       "      <td>0.000054</td>\n",
       "      <td>0.000021</td>\n",
       "      <td>0.000037</td>\n",
       "      <td>0.000057</td>\n",
       "      <td>0.000301</td>\n",
       "      <td>0.000164</td>\n",
       "      <td>0.000018</td>\n",
       "      <td>0.000036</td>\n",
       "      <td>0.00006</td>\n",
       "      <td>0.00006</td>\n",
       "      <td>0.000059</td>\n",
       "      <td>0.000196</td>\n",
       "      <td>0.000071</td>\n",
       "      <td>0.000181</td>\n",
       "      <td>0.000001</td>\n",
       "      <td>0.000045</td>\n",
       "      <td>0.000147</td>\n",
       "      <td>0.000037</td>\n",
       "    </tr>\n",
       "    <tr>\n",
       "      <th>2020-08-21</th>\n",
       "      <td>0.000002</td>\n",
       "      <td>0.000082</td>\n",
       "      <td>0.000054</td>\n",
       "      <td>0.000021</td>\n",
       "      <td>0.000037</td>\n",
       "      <td>0.000057</td>\n",
       "      <td>0.000301</td>\n",
       "      <td>0.000164</td>\n",
       "      <td>0.000018</td>\n",
       "      <td>0.000036</td>\n",
       "      <td>0.00006</td>\n",
       "      <td>0.00006</td>\n",
       "      <td>0.000059</td>\n",
       "      <td>0.000196</td>\n",
       "      <td>0.000071</td>\n",
       "      <td>0.000181</td>\n",
       "      <td>0.000001</td>\n",
       "      <td>0.000045</td>\n",
       "      <td>0.000147</td>\n",
       "      <td>0.000037</td>\n",
       "    </tr>\n",
       "    <tr>\n",
       "      <th>2020-08-22</th>\n",
       "      <td>0.000002</td>\n",
       "      <td>0.000082</td>\n",
       "      <td>0.000054</td>\n",
       "      <td>0.000021</td>\n",
       "      <td>0.000037</td>\n",
       "      <td>0.000057</td>\n",
       "      <td>0.000301</td>\n",
       "      <td>0.000164</td>\n",
       "      <td>0.000018</td>\n",
       "      <td>0.000036</td>\n",
       "      <td>0.00006</td>\n",
       "      <td>0.00006</td>\n",
       "      <td>0.000059</td>\n",
       "      <td>0.000196</td>\n",
       "      <td>0.000071</td>\n",
       "      <td>0.000181</td>\n",
       "      <td>0.000001</td>\n",
       "      <td>0.000045</td>\n",
       "      <td>0.000147</td>\n",
       "      <td>0.000037</td>\n",
       "    </tr>\n",
       "    <tr>\n",
       "      <th>2020-08-23</th>\n",
       "      <td>0.000002</td>\n",
       "      <td>0.000082</td>\n",
       "      <td>0.000054</td>\n",
       "      <td>0.000021</td>\n",
       "      <td>0.000037</td>\n",
       "      <td>0.000057</td>\n",
       "      <td>0.000301</td>\n",
       "      <td>0.000164</td>\n",
       "      <td>0.000018</td>\n",
       "      <td>0.000036</td>\n",
       "      <td>0.00006</td>\n",
       "      <td>0.00006</td>\n",
       "      <td>0.000059</td>\n",
       "      <td>0.000196</td>\n",
       "      <td>0.000071</td>\n",
       "      <td>0.000181</td>\n",
       "      <td>0.000001</td>\n",
       "      <td>0.000045</td>\n",
       "      <td>0.000147</td>\n",
       "      <td>0.000037</td>\n",
       "    </tr>\n",
       "    <tr>\n",
       "      <th>2020-08-24</th>\n",
       "      <td>0.000002</td>\n",
       "      <td>0.000082</td>\n",
       "      <td>0.000054</td>\n",
       "      <td>0.000021</td>\n",
       "      <td>0.000037</td>\n",
       "      <td>0.000057</td>\n",
       "      <td>0.000301</td>\n",
       "      <td>0.000164</td>\n",
       "      <td>0.000018</td>\n",
       "      <td>0.000036</td>\n",
       "      <td>0.00006</td>\n",
       "      <td>0.00006</td>\n",
       "      <td>0.000059</td>\n",
       "      <td>0.000196</td>\n",
       "      <td>0.000071</td>\n",
       "      <td>0.000181</td>\n",
       "      <td>0.000001</td>\n",
       "      <td>0.000045</td>\n",
       "      <td>0.000147</td>\n",
       "      <td>0.000037</td>\n",
       "    </tr>\n",
       "  </tbody>\n",
       "</table>\n",
       "</div>"
      ],
      "text/plain": [
       "Country      Austria   Bahrain  Bangladesh  Czech Republic    France  \\\n",
       "Date                                                                   \n",
       "2020-08-20  0.000002  0.000082    0.000054        0.000021  0.000037   \n",
       "2020-08-21  0.000002  0.000082    0.000054        0.000021  0.000037   \n",
       "2020-08-22  0.000002  0.000082    0.000054        0.000021  0.000037   \n",
       "2020-08-23  0.000002  0.000082    0.000054        0.000021  0.000037   \n",
       "2020-08-24  0.000002  0.000082    0.000054        0.000021  0.000037   \n",
       "\n",
       "Country       Guinea      Iran     Italy   Jamaica  Korea, South   Kuwait  \\\n",
       "Date                                                                        \n",
       "2020-08-20  0.000057  0.000301  0.000164  0.000018      0.000036  0.00006   \n",
       "2020-08-21  0.000057  0.000301  0.000164  0.000018      0.000036  0.00006   \n",
       "2020-08-22  0.000057  0.000301  0.000164  0.000018      0.000036  0.00006   \n",
       "2020-08-23  0.000057  0.000301  0.000164  0.000018      0.000036  0.00006   \n",
       "2020-08-24  0.000057  0.000301  0.000164  0.000018      0.000036  0.00006   \n",
       "\n",
       "Country        Mali   Moldova    Poland  Portugal   Romania    Russia  \\\n",
       "Date                                                                    \n",
       "2020-08-20  0.00006  0.000059  0.000196  0.000071  0.000181  0.000001   \n",
       "2020-08-21  0.00006  0.000059  0.000196  0.000071  0.000181  0.000001   \n",
       "2020-08-22  0.00006  0.000059  0.000196  0.000071  0.000181  0.000001   \n",
       "2020-08-23  0.00006  0.000059  0.000196  0.000071  0.000181  0.000001   \n",
       "2020-08-24  0.00006  0.000059  0.000196  0.000071  0.000181  0.000001   \n",
       "\n",
       "Country      Senegal   Ukraine  United Arab Emirates  \n",
       "Date                                                  \n",
       "2020-08-20  0.000045  0.000147              0.000037  \n",
       "2020-08-21  0.000045  0.000147              0.000037  \n",
       "2020-08-22  0.000045  0.000147              0.000037  \n",
       "2020-08-23  0.000045  0.000147              0.000037  \n",
       "2020-08-24  0.000045  0.000147              0.000037  "
      ]
     },
     "execution_count": 17,
     "metadata": {},
     "output_type": "execute_result"
    }
   ],
   "source": [
    "analyser.param_history(\"kappa\", roll_window=None).tail()"
   ]
  },
  {
   "cell_type": "markdown",
   "metadata": {},
   "source": [
    "### $\\theta$: Mortality rate of S$^\\ast$ cases $\\mathrm{[-]}$"
   ]
  },
  {
   "cell_type": "code",
   "execution_count": 18,
   "metadata": {
    "collapsed": false
   },
   "outputs": [
    {
     "data": {
      "image/png": "[encoded data removed]",
      "text/plain": [
       "<Figure size 648x432 with 1 Axes>"
      ]
     },
     "metadata": {},
     "output_type": "display_data"
    },
    {
     "data": {
      "text/html": [
       "<div>\n",
       "<style scoped>\n",
       "    .dataframe tbody tr th:only-of-type {\n",
       "        vertical-align: middle;\n",
       "    }\n",
       "\n",
       "    .dataframe tbody tr th {\n",
       "        vertical-align: top;\n",
       "    }\n",
       "\n",
       "    .dataframe thead th {\n",
       "        text-align: right;\n",
       "    }\n",
       "</style>\n",
       "<table border=\"1\" class=\"dataframe\">\n",
       "  <thead>\n",
       "    <tr style=\"text-align: right;\">\n",
       "      <th>Country</th>\n",
       "      <th>Austria</th>\n",
       "      <th>Bahrain</th>\n",
       "      <th>Bangladesh</th>\n",
       "      <th>Czech Republic</th>\n",
       "      <th>France</th>\n",
       "      <th>Guinea</th>\n",
       "      <th>Iran</th>\n",
       "      <th>Italy</th>\n",
       "      <th>Jamaica</th>\n",
       "      <th>Korea, South</th>\n",
       "      <th>Kuwait</th>\n",
       "      <th>Mali</th>\n",
       "      <th>Moldova</th>\n",
       "      <th>Poland</th>\n",
       "      <th>Portugal</th>\n",
       "      <th>Romania</th>\n",
       "      <th>Russia</th>\n",
       "      <th>Senegal</th>\n",
       "      <th>Ukraine</th>\n",
       "      <th>United Arab Emirates</th>\n",
       "    </tr>\n",
       "    <tr>\n",
       "      <th>Date</th>\n",
       "      <th></th>\n",
       "      <th></th>\n",
       "      <th></th>\n",
       "      <th></th>\n",
       "      <th></th>\n",
       "      <th></th>\n",
       "      <th></th>\n",
       "      <th></th>\n",
       "      <th></th>\n",
       "      <th></th>\n",
       "      <th></th>\n",
       "      <th></th>\n",
       "      <th></th>\n",
       "      <th></th>\n",
       "      <th></th>\n",
       "      <th></th>\n",
       "      <th></th>\n",
       "      <th></th>\n",
       "      <th></th>\n",
       "      <th></th>\n",
       "    </tr>\n",
       "  </thead>\n",
       "  <tbody>\n",
       "    <tr>\n",
       "      <th>2020-08-20</th>\n",
       "      <td>0.001558</td>\n",
       "      <td>0.001272</td>\n",
       "      <td>0.001674</td>\n",
       "      <td>0.000679</td>\n",
       "      <td>0.000679</td>\n",
       "      <td>0.000164</td>\n",
       "      <td>0.065715</td>\n",
       "      <td>0.000172</td>\n",
       "      <td>0.01733</td>\n",
       "      <td>0.000954</td>\n",
       "      <td>0.000228</td>\n",
       "      <td>0.00041</td>\n",
       "      <td>0.016636</td>\n",
       "      <td>0.000552</td>\n",
       "      <td>0.001718</td>\n",
       "      <td>0.017721</td>\n",
       "      <td>0.019667</td>\n",
       "      <td>0.017265</td>\n",
       "      <td>0.000536</td>\n",
       "      <td>0.000663</td>\n",
       "    </tr>\n",
       "    <tr>\n",
       "      <th>2020-08-21</th>\n",
       "      <td>0.001558</td>\n",
       "      <td>0.001272</td>\n",
       "      <td>0.001674</td>\n",
       "      <td>0.000679</td>\n",
       "      <td>0.000679</td>\n",
       "      <td>0.000164</td>\n",
       "      <td>0.065715</td>\n",
       "      <td>0.000172</td>\n",
       "      <td>0.01733</td>\n",
       "      <td>0.000954</td>\n",
       "      <td>0.000228</td>\n",
       "      <td>0.00041</td>\n",
       "      <td>0.016636</td>\n",
       "      <td>0.000552</td>\n",
       "      <td>0.001718</td>\n",
       "      <td>0.017721</td>\n",
       "      <td>0.019667</td>\n",
       "      <td>0.017265</td>\n",
       "      <td>0.000536</td>\n",
       "      <td>0.000663</td>\n",
       "    </tr>\n",
       "    <tr>\n",
       "      <th>2020-08-22</th>\n",
       "      <td>0.001558</td>\n",
       "      <td>0.001272</td>\n",
       "      <td>0.001674</td>\n",
       "      <td>0.000679</td>\n",
       "      <td>0.000679</td>\n",
       "      <td>0.000164</td>\n",
       "      <td>0.065715</td>\n",
       "      <td>0.000172</td>\n",
       "      <td>0.01733</td>\n",
       "      <td>0.000954</td>\n",
       "      <td>0.000228</td>\n",
       "      <td>0.00041</td>\n",
       "      <td>0.016636</td>\n",
       "      <td>0.000552</td>\n",
       "      <td>0.001718</td>\n",
       "      <td>0.017721</td>\n",
       "      <td>0.019667</td>\n",
       "      <td>0.017265</td>\n",
       "      <td>0.000536</td>\n",
       "      <td>0.000663</td>\n",
       "    </tr>\n",
       "    <tr>\n",
       "      <th>2020-08-23</th>\n",
       "      <td>0.001558</td>\n",
       "      <td>0.001272</td>\n",
       "      <td>0.001674</td>\n",
       "      <td>0.000679</td>\n",
       "      <td>0.000679</td>\n",
       "      <td>0.000164</td>\n",
       "      <td>0.065715</td>\n",
       "      <td>0.000172</td>\n",
       "      <td>0.01733</td>\n",
       "      <td>0.000954</td>\n",
       "      <td>0.000228</td>\n",
       "      <td>0.00041</td>\n",
       "      <td>0.016636</td>\n",
       "      <td>0.000552</td>\n",
       "      <td>0.001718</td>\n",
       "      <td>0.017721</td>\n",
       "      <td>0.019667</td>\n",
       "      <td>0.017265</td>\n",
       "      <td>0.000536</td>\n",
       "      <td>0.000663</td>\n",
       "    </tr>\n",
       "    <tr>\n",
       "      <th>2020-08-24</th>\n",
       "      <td>0.001558</td>\n",
       "      <td>0.001272</td>\n",
       "      <td>0.001674</td>\n",
       "      <td>0.000679</td>\n",
       "      <td>0.000679</td>\n",
       "      <td>0.000164</td>\n",
       "      <td>0.065715</td>\n",
       "      <td>0.000172</td>\n",
       "      <td>0.01733</td>\n",
       "      <td>0.000954</td>\n",
       "      <td>0.000228</td>\n",
       "      <td>0.00041</td>\n",
       "      <td>0.016636</td>\n",
       "      <td>0.000552</td>\n",
       "      <td>0.001718</td>\n",
       "      <td>0.017721</td>\n",
       "      <td>0.019667</td>\n",
       "      <td>0.017265</td>\n",
       "      <td>0.000536</td>\n",
       "      <td>0.000663</td>\n",
       "    </tr>\n",
       "  </tbody>\n",
       "</table>\n",
       "</div>"
      ],
      "text/plain": [
       "Country      Austria   Bahrain  Bangladesh  Czech Republic    France  \\\n",
       "Date                                                                   \n",
       "2020-08-20  0.001558  0.001272    0.001674        0.000679  0.000679   \n",
       "2020-08-21  0.001558  0.001272    0.001674        0.000679  0.000679   \n",
       "2020-08-22  0.001558  0.001272    0.001674        0.000679  0.000679   \n",
       "2020-08-23  0.001558  0.001272    0.001674        0.000679  0.000679   \n",
       "2020-08-24  0.001558  0.001272    0.001674        0.000679  0.000679   \n",
       "\n",
       "Country       Guinea      Iran     Italy  Jamaica  Korea, South    Kuwait  \\\n",
       "Date                                                                        \n",
       "2020-08-20  0.000164  0.065715  0.000172  0.01733      0.000954  0.000228   \n",
       "2020-08-21  0.000164  0.065715  0.000172  0.01733      0.000954  0.000228   \n",
       "2020-08-22  0.000164  0.065715  0.000172  0.01733      0.000954  0.000228   \n",
       "2020-08-23  0.000164  0.065715  0.000172  0.01733      0.000954  0.000228   \n",
       "2020-08-24  0.000164  0.065715  0.000172  0.01733      0.000954  0.000228   \n",
       "\n",
       "Country        Mali   Moldova    Poland  Portugal   Romania    Russia  \\\n",
       "Date                                                                    \n",
       "2020-08-20  0.00041  0.016636  0.000552  0.001718  0.017721  0.019667   \n",
       "2020-08-21  0.00041  0.016636  0.000552  0.001718  0.017721  0.019667   \n",
       "2020-08-22  0.00041  0.016636  0.000552  0.001718  0.017721  0.019667   \n",
       "2020-08-23  0.00041  0.016636  0.000552  0.001718  0.017721  0.019667   \n",
       "2020-08-24  0.00041  0.016636  0.000552  0.001718  0.017721  0.019667   \n",
       "\n",
       "Country      Senegal   Ukraine  United Arab Emirates  \n",
       "Date                                                  \n",
       "2020-08-20  0.017265  0.000536              0.000663  \n",
       "2020-08-21  0.017265  0.000536              0.000663  \n",
       "2020-08-22  0.017265  0.000536              0.000663  \n",
       "2020-08-23  0.017265  0.000536              0.000663  \n",
       "2020-08-24  0.017265  0.000536              0.000663  "
      ]
     },
     "execution_count": 18,
     "metadata": {},
     "output_type": "execute_result"
    }
   ],
   "source": [
    "analyser.param_history(\"theta\", roll_window=None).tail()"
   ]
  },
  {
   "cell_type": "markdown",
   "metadata": {},
   "source": [
    "## (Experimental): Relationship of OxCGRT index and parameter values\n",
    "Government responses will impact on parameter values of ODE models about 14 days later. Here, we will investigate on the relationship of [stringency index (from OxCGRT)](https://github.com/OxCGRT/covid-policy-tracker/blob/master/documentation/index_methodology.md) and reproduction number/model parameters.\n"
   ]
  },
  {
   "cell_type": "code",
   "execution_count": 19,
   "metadata": {
    "collapsed": false
   },
   "outputs": [],
   "source": [
    "%matplotlib inline\n",
    "from matplotlib import pyplot as plt\n",
    "import seaborn as sns\n",
    "import pandas as pd"
   ]
  },
  {
   "cell_type": "code",
   "execution_count": 20,
   "metadata": {
    "collapsed": false
   },
   "outputs": [
    {
     "name": "stdout",
     "output_type": "stream",
     "text": [
      "<class 'pandas.core.frame.DataFrame'>\n",
      "Int64Index: 20331 entries, 0 to 20596\n",
      "Data columns (total 19 columns):\n",
      " #   Column                               Non-Null Count  Dtype         \n",
      "---  ------                               --------------  -----         \n",
      " 0   Date                                 20331 non-null  datetime64[ns]\n",
      " 1   Country                              20331 non-null  object        \n",
      " 2   Rt                                   20331 non-null  float64       \n",
      " 3   theta                                20331 non-null  float64       \n",
      " 4   kappa                                20331 non-null  float64       \n",
      " 5   rho                                  20331 non-null  float64       \n",
      " 6   sigma                                20331 non-null  float64       \n",
      " 7   School_closing                       20331 non-null  int64         \n",
      " 8   Workplace_closing                    20331 non-null  int64         \n",
      " 9   Cancel_events                        20331 non-null  int64         \n",
      " 10  Gatherings_restrictions              20331 non-null  int64         \n",
      " 11  Transport_closing                    20331 non-null  int64         \n",
      " 12  Stay_home_restrictions               20331 non-null  int64         \n",
      " 13  Internal_movement_restrictions       20331 non-null  int64         \n",
      " 14  International_movement_restrictions  20331 non-null  int64         \n",
      " 15  Information_campaigns                20331 non-null  int64         \n",
      " 16  Testing_policy                       20331 non-null  int64         \n",
      " 17  Contact_tracing                      20331 non-null  int64         \n",
      " 18  Stringency_index                     20331 non-null  float64       \n",
      "dtypes: datetime64[ns](1), float64(6), int64(11), object(1)\n",
      "memory usage: 3.1+ MB\n"
     ]
    }
   ],
   "source": [
    "df = analyser.track()\n",
    "param_cols = [\"Rt\", *cs.SIRF.PARAMETERS]\n",
    "oxcgrt_cols = oxcgrt_data.OXCGRT_VARS[:]\n",
    "cols = param_cols + oxcgrt_cols\n",
    "delay = 14\n",
    "\n",
    "for col in param_cols:\n",
    "    df[col] = pd.to_numeric(df[col], errors=\"coerce\")\n",
    "    df[col] = df.groupby(\"Country\")[col].shift(0 - delay)\n",
    "\n",
    "df = df.dropna(how=\"any\")\n",
    "df = df.loc[:, [\"Date\", \"Country\", *cols]]\n",
    "track_df = df.copy()\n",
    "track_df.info()"
   ]
  },
  {
   "cell_type": "code",
   "execution_count": 21,
   "metadata": {
    "collapsed": false
   },
   "outputs": [
    {
     "data": {
      "text/html": [
       "<style  type=\"text/css\" >\n",
       "#T_69736aa4_e5c4_11ea_bc0b_525400f5a505row0_col0,#T_69736aa4_e5c4_11ea_bc0b_525400f5a505row1_col1,#T_69736aa4_e5c4_11ea_bc0b_525400f5a505row2_col2,#T_69736aa4_e5c4_11ea_bc0b_525400f5a505row3_col3,#T_69736aa4_e5c4_11ea_bc0b_525400f5a505row4_col4,#T_69736aa4_e5c4_11ea_bc0b_525400f5a505row5_col5,#T_69736aa4_e5c4_11ea_bc0b_525400f5a505row6_col6,#T_69736aa4_e5c4_11ea_bc0b_525400f5a505row7_col7,#T_69736aa4_e5c4_11ea_bc0b_525400f5a505row8_col8,#T_69736aa4_e5c4_11ea_bc0b_525400f5a505row9_col9,#T_69736aa4_e5c4_11ea_bc0b_525400f5a505row10_col10,#T_69736aa4_e5c4_11ea_bc0b_525400f5a505row11_col11,#T_69736aa4_e5c4_11ea_bc0b_525400f5a505row12_col12,#T_69736aa4_e5c4_11ea_bc0b_525400f5a505row13_col13,#T_69736aa4_e5c4_11ea_bc0b_525400f5a505row14_col14,#T_69736aa4_e5c4_11ea_bc0b_525400f5a505row15_col15,#T_69736aa4_e5c4_11ea_bc0b_525400f5a505row16_col16{\n",
       "            background-color:  #023858;\n",
       "            color:  #f1f1f1;\n",
       "        }#T_69736aa4_e5c4_11ea_bc0b_525400f5a505row0_col1,#T_69736aa4_e5c4_11ea_bc0b_525400f5a505row0_col15,#T_69736aa4_e5c4_11ea_bc0b_525400f5a505row1_col0,#T_69736aa4_e5c4_11ea_bc0b_525400f5a505row15_col0{\n",
       "            background-color:  #c9cee4;\n",
       "            color:  #000000;\n",
       "        }#T_69736aa4_e5c4_11ea_bc0b_525400f5a505row0_col2,#T_69736aa4_e5c4_11ea_bc0b_525400f5a505row2_col0,#T_69736aa4_e5c4_11ea_bc0b_525400f5a505row4_col16,#T_69736aa4_e5c4_11ea_bc0b_525400f5a505row5_col13,#T_69736aa4_e5c4_11ea_bc0b_525400f5a505row13_col5,#T_69736aa4_e5c4_11ea_bc0b_525400f5a505row16_col4{\n",
       "            background-color:  #b8c6e0;\n",
       "            color:  #000000;\n",
       "        }#T_69736aa4_e5c4_11ea_bc0b_525400f5a505row0_col3,#T_69736aa4_e5c4_11ea_bc0b_525400f5a505row2_col9,#T_69736aa4_e5c4_11ea_bc0b_525400f5a505row3_col0,#T_69736aa4_e5c4_11ea_bc0b_525400f5a505row3_col5,#T_69736aa4_e5c4_11ea_bc0b_525400f5a505row5_col3,#T_69736aa4_e5c4_11ea_bc0b_525400f5a505row9_col2{\n",
       "            background-color:  #7eadd1;\n",
       "            color:  #000000;\n",
       "        }#T_69736aa4_e5c4_11ea_bc0b_525400f5a505row0_col4,#T_69736aa4_e5c4_11ea_bc0b_525400f5a505row4_col0{\n",
       "            background-color:  #e1dfed;\n",
       "            color:  #000000;\n",
       "        }#T_69736aa4_e5c4_11ea_bc0b_525400f5a505row0_col5,#T_69736aa4_e5c4_11ea_bc0b_525400f5a505row5_col0{\n",
       "            background-color:  #f2ecf5;\n",
       "            color:  #000000;\n",
       "        }#T_69736aa4_e5c4_11ea_bc0b_525400f5a505row0_col6,#T_69736aa4_e5c4_11ea_bc0b_525400f5a505row1_col8,#T_69736aa4_e5c4_11ea_bc0b_525400f5a505row6_col0,#T_69736aa4_e5c4_11ea_bc0b_525400f5a505row8_col1{\n",
       "            background-color:  #cacee5;\n",
       "            color:  #000000;\n",
       "        }#T_69736aa4_e5c4_11ea_bc0b_525400f5a505row0_col7,#T_69736aa4_e5c4_11ea_bc0b_525400f5a505row0_col13,#T_69736aa4_e5c4_11ea_bc0b_525400f5a505row7_col0,#T_69736aa4_e5c4_11ea_bc0b_525400f5a505row13_col0{\n",
       "            background-color:  #a8bedc;\n",
       "            color:  #000000;\n",
       "        }#T_69736aa4_e5c4_11ea_bc0b_525400f5a505row0_col8,#T_69736aa4_e5c4_11ea_bc0b_525400f5a505row8_col0{\n",
       "            background-color:  #84b0d3;\n",
       "            color:  #000000;\n",
       "        }#T_69736aa4_e5c4_11ea_bc0b_525400f5a505row0_col9,#T_69736aa4_e5c4_11ea_bc0b_525400f5a505row9_col0,#T_69736aa4_e5c4_11ea_bc0b_525400f5a505row9_col15,#T_69736aa4_e5c4_11ea_bc0b_525400f5a505row15_col9{\n",
       "            background-color:  #cdd0e5;\n",
       "            color:  #000000;\n",
       "        }#T_69736aa4_e5c4_11ea_bc0b_525400f5a505row0_col10,#T_69736aa4_e5c4_11ea_bc0b_525400f5a505row4_col15,#T_69736aa4_e5c4_11ea_bc0b_525400f5a505row10_col0,#T_69736aa4_e5c4_11ea_bc0b_525400f5a505row12_col15,#T_69736aa4_e5c4_11ea_bc0b_525400f5a505row15_col4,#T_69736aa4_e5c4_11ea_bc0b_525400f5a505row15_col12{\n",
       "            background-color:  #b7c5df;\n",
       "            color:  #000000;\n",
       "        }#T_69736aa4_e5c4_11ea_bc0b_525400f5a505row0_col11,#T_69736aa4_e5c4_11ea_bc0b_525400f5a505row11_col0,#T_69736aa4_e5c4_11ea_bc0b_525400f5a505row14_col16,#T_69736aa4_e5c4_11ea_bc0b_525400f5a505row16_col14{\n",
       "            background-color:  #b1c2de;\n",
       "            color:  #000000;\n",
       "        }#T_69736aa4_e5c4_11ea_bc0b_525400f5a505row0_col12,#T_69736aa4_e5c4_11ea_bc0b_525400f5a505row12_col0{\n",
       "            background-color:  #e0deed;\n",
       "            color:  #000000;\n",
       "        }#T_69736aa4_e5c4_11ea_bc0b_525400f5a505row0_col14,#T_69736aa4_e5c4_11ea_bc0b_525400f5a505row14_col0{\n",
       "            background-color:  #dad9ea;\n",
       "            color:  #000000;\n",
       "        }#T_69736aa4_e5c4_11ea_bc0b_525400f5a505row0_col16,#T_69736aa4_e5c4_11ea_bc0b_525400f5a505row16_col0{\n",
       "            background-color:  #c6cce3;\n",
       "            color:  #000000;\n",
       "        }#T_69736aa4_e5c4_11ea_bc0b_525400f5a505row1_col2,#T_69736aa4_e5c4_11ea_bc0b_525400f5a505row2_col1,#T_69736aa4_e5c4_11ea_bc0b_525400f5a505row8_col16,#T_69736aa4_e5c4_11ea_bc0b_525400f5a505row16_col8{\n",
       "            background-color:  #0570b0;\n",
       "            color:  #f1f1f1;\n",
       "        }#T_69736aa4_e5c4_11ea_bc0b_525400f5a505row1_col3,#T_69736aa4_e5c4_11ea_bc0b_525400f5a505row3_col1{\n",
       "            background-color:  #8fb4d6;\n",
       "            color:  #000000;\n",
       "        }#T_69736aa4_e5c4_11ea_bc0b_525400f5a505row1_col4,#T_69736aa4_e5c4_11ea_bc0b_525400f5a505row3_col12,#T_69736aa4_e5c4_11ea_bc0b_525400f5a505row4_col1,#T_69736aa4_e5c4_11ea_bc0b_525400f5a505row12_col3{\n",
       "            background-color:  #79abd0;\n",
       "            color:  #000000;\n",
       "        }#T_69736aa4_e5c4_11ea_bc0b_525400f5a505row1_col5,#T_69736aa4_e5c4_11ea_bc0b_525400f5a505row1_col16,#T_69736aa4_e5c4_11ea_bc0b_525400f5a505row5_col1,#T_69736aa4_e5c4_11ea_bc0b_525400f5a505row16_col1{\n",
       "            background-color:  #62a2cb;\n",
       "            color:  #000000;\n",
       "        }#T_69736aa4_e5c4_11ea_bc0b_525400f5a505row1_col6,#T_69736aa4_e5c4_11ea_bc0b_525400f5a505row6_col1{\n",
       "            background-color:  #3f93c2;\n",
       "            color:  #000000;\n",
       "        }#T_69736aa4_e5c4_11ea_bc0b_525400f5a505row1_col7,#T_69736aa4_e5c4_11ea_bc0b_525400f5a505row2_col12,#T_69736aa4_e5c4_11ea_bc0b_525400f5a505row7_col1,#T_69736aa4_e5c4_11ea_bc0b_525400f5a505row12_col2{\n",
       "            background-color:  #83afd3;\n",
       "            color:  #000000;\n",
       "        }#T_69736aa4_e5c4_11ea_bc0b_525400f5a505row1_col9,#T_69736aa4_e5c4_11ea_bc0b_525400f5a505row7_col12,#T_69736aa4_e5c4_11ea_bc0b_525400f5a505row7_col13,#T_69736aa4_e5c4_11ea_bc0b_525400f5a505row9_col1,#T_69736aa4_e5c4_11ea_bc0b_525400f5a505row12_col7,#T_69736aa4_e5c4_11ea_bc0b_525400f5a505row13_col7{\n",
       "            background-color:  #b0c2de;\n",
       "            color:  #000000;\n",
       "        }#T_69736aa4_e5c4_11ea_bc0b_525400f5a505row1_col10,#T_69736aa4_e5c4_11ea_bc0b_525400f5a505row5_col14,#T_69736aa4_e5c4_11ea_bc0b_525400f5a505row10_col1,#T_69736aa4_e5c4_11ea_bc0b_525400f5a505row14_col5{\n",
       "            background-color:  #b4c4df;\n",
       "            color:  #000000;\n",
       "        }#T_69736aa4_e5c4_11ea_bc0b_525400f5a505row1_col11,#T_69736aa4_e5c4_11ea_bc0b_525400f5a505row2_col8,#T_69736aa4_e5c4_11ea_bc0b_525400f5a505row8_col2,#T_69736aa4_e5c4_11ea_bc0b_525400f5a505row11_col1,#T_69736aa4_e5c4_11ea_bc0b_525400f5a505row12_col13,#T_69736aa4_e5c4_11ea_bc0b_525400f5a505row13_col12{\n",
       "            background-color:  #a4bcda;\n",
       "            color:  #000000;\n",
       "        }#T_69736aa4_e5c4_11ea_bc0b_525400f5a505row1_col12,#T_69736aa4_e5c4_11ea_bc0b_525400f5a505row7_col15,#T_69736aa4_e5c4_11ea_bc0b_525400f5a505row12_col1,#T_69736aa4_e5c4_11ea_bc0b_525400f5a505row15_col7{\n",
       "            background-color:  #bcc7e1;\n",
       "            color:  #000000;\n",
       "        }#T_69736aa4_e5c4_11ea_bc0b_525400f5a505row1_col13,#T_69736aa4_e5c4_11ea_bc0b_525400f5a505row13_col1{\n",
       "            background-color:  #a7bddb;\n",
       "            color:  #000000;\n",
       "        }#T_69736aa4_e5c4_11ea_bc0b_525400f5a505row1_col14,#T_69736aa4_e5c4_11ea_bc0b_525400f5a505row2_col14,#T_69736aa4_e5c4_11ea_bc0b_525400f5a505row14_col1,#T_69736aa4_e5c4_11ea_bc0b_525400f5a505row14_col2{\n",
       "            background-color:  #fff7fb;\n",
       "            color:  #000000;\n",
       "        }#T_69736aa4_e5c4_11ea_bc0b_525400f5a505row1_col15,#T_69736aa4_e5c4_11ea_bc0b_525400f5a505row15_col1{\n",
       "            background-color:  #eee8f3;\n",
       "            color:  #000000;\n",
       "        }#T_69736aa4_e5c4_11ea_bc0b_525400f5a505row2_col3,#T_69736aa4_e5c4_11ea_bc0b_525400f5a505row3_col2{\n",
       "            background-color:  #2f8bbe;\n",
       "            color:  #000000;\n",
       "        }#T_69736aa4_e5c4_11ea_bc0b_525400f5a505row2_col4,#T_69736aa4_e5c4_11ea_bc0b_525400f5a505row4_col2{\n",
       "            background-color:  #69a5cc;\n",
       "            color:  #000000;\n",
       "        }#T_69736aa4_e5c4_11ea_bc0b_525400f5a505row2_col5,#T_69736aa4_e5c4_11ea_bc0b_525400f5a505row5_col2{\n",
       "            background-color:  #4295c3;\n",
       "            color:  #000000;\n",
       "        }#T_69736aa4_e5c4_11ea_bc0b_525400f5a505row2_col6,#T_69736aa4_e5c4_11ea_bc0b_525400f5a505row6_col2{\n",
       "            background-color:  #1e80b8;\n",
       "            color:  #000000;\n",
       "        }#T_69736aa4_e5c4_11ea_bc0b_525400f5a505row2_col7,#T_69736aa4_e5c4_11ea_bc0b_525400f5a505row7_col2{\n",
       "            background-color:  #8eb3d5;\n",
       "            color:  #000000;\n",
       "        }#T_69736aa4_e5c4_11ea_bc0b_525400f5a505row2_col10,#T_69736aa4_e5c4_11ea_bc0b_525400f5a505row3_col6,#T_69736aa4_e5c4_11ea_bc0b_525400f5a505row6_col3,#T_69736aa4_e5c4_11ea_bc0b_525400f5a505row7_col14,#T_69736aa4_e5c4_11ea_bc0b_525400f5a505row10_col2,#T_69736aa4_e5c4_11ea_bc0b_525400f5a505row14_col7{\n",
       "            background-color:  #8cb3d5;\n",
       "            color:  #000000;\n",
       "        }#T_69736aa4_e5c4_11ea_bc0b_525400f5a505row2_col11,#T_69736aa4_e5c4_11ea_bc0b_525400f5a505row8_col13,#T_69736aa4_e5c4_11ea_bc0b_525400f5a505row11_col2,#T_69736aa4_e5c4_11ea_bc0b_525400f5a505row12_col14,#T_69736aa4_e5c4_11ea_bc0b_525400f5a505row13_col8,#T_69736aa4_e5c4_11ea_bc0b_525400f5a505row14_col12{\n",
       "            background-color:  #9cb9d9;\n",
       "            color:  #000000;\n",
       "        }#T_69736aa4_e5c4_11ea_bc0b_525400f5a505row2_col13,#T_69736aa4_e5c4_11ea_bc0b_525400f5a505row13_col2{\n",
       "            background-color:  #c0c9e2;\n",
       "            color:  #000000;\n",
       "        }#T_69736aa4_e5c4_11ea_bc0b_525400f5a505row2_col15,#T_69736aa4_e5c4_11ea_bc0b_525400f5a505row15_col2{\n",
       "            background-color:  #f3edf5;\n",
       "            color:  #000000;\n",
       "        }#T_69736aa4_e5c4_11ea_bc0b_525400f5a505row2_col16,#T_69736aa4_e5c4_11ea_bc0b_525400f5a505row6_col11,#T_69736aa4_e5c4_11ea_bc0b_525400f5a505row11_col6,#T_69736aa4_e5c4_11ea_bc0b_525400f5a505row16_col2{\n",
       "            background-color:  #2786bb;\n",
       "            color:  #000000;\n",
       "        }#T_69736aa4_e5c4_11ea_bc0b_525400f5a505row3_col4,#T_69736aa4_e5c4_11ea_bc0b_525400f5a505row4_col3,#T_69736aa4_e5c4_11ea_bc0b_525400f5a505row7_col10,#T_69736aa4_e5c4_11ea_bc0b_525400f5a505row10_col7{\n",
       "            background-color:  #1b7eb7;\n",
       "            color:  #000000;\n",
       "        }#T_69736aa4_e5c4_11ea_bc0b_525400f5a505row3_col7,#T_69736aa4_e5c4_11ea_bc0b_525400f5a505row7_col3{\n",
       "            background-color:  #d4d4e8;\n",
       "            color:  #000000;\n",
       "        }#T_69736aa4_e5c4_11ea_bc0b_525400f5a505row3_col8,#T_69736aa4_e5c4_11ea_bc0b_525400f5a505row8_col3{\n",
       "            background-color:  #c4cbe3;\n",
       "            color:  #000000;\n",
       "        }#T_69736aa4_e5c4_11ea_bc0b_525400f5a505row3_col9,#T_69736aa4_e5c4_11ea_bc0b_525400f5a505row9_col3{\n",
       "            background-color:  #a9bfdc;\n",
       "            color:  #000000;\n",
       "        }#T_69736aa4_e5c4_11ea_bc0b_525400f5a505row3_col10,#T_69736aa4_e5c4_11ea_bc0b_525400f5a505row10_col3{\n",
       "            background-color:  #acc0dd;\n",
       "            color:  #000000;\n",
       "        }#T_69736aa4_e5c4_11ea_bc0b_525400f5a505row3_col11,#T_69736aa4_e5c4_11ea_bc0b_525400f5a505row11_col3{\n",
       "            background-color:  #b3c3de;\n",
       "            color:  #000000;\n",
       "        }#T_69736aa4_e5c4_11ea_bc0b_525400f5a505row3_col13,#T_69736aa4_e5c4_11ea_bc0b_525400f5a505row13_col3{\n",
       "            background-color:  #c8cde4;\n",
       "            color:  #000000;\n",
       "        }#T_69736aa4_e5c4_11ea_bc0b_525400f5a505row3_col14,#T_69736aa4_e5c4_11ea_bc0b_525400f5a505row14_col3{\n",
       "            background-color:  #e5e1ef;\n",
       "            color:  #000000;\n",
       "        }#T_69736aa4_e5c4_11ea_bc0b_525400f5a505row3_col15,#T_69736aa4_e5c4_11ea_bc0b_525400f5a505row15_col3{\n",
       "            background-color:  #e4e1ef;\n",
       "            color:  #000000;\n",
       "        }#T_69736aa4_e5c4_11ea_bc0b_525400f5a505row3_col16,#T_69736aa4_e5c4_11ea_bc0b_525400f5a505row13_col14,#T_69736aa4_e5c4_11ea_bc0b_525400f5a505row14_col13,#T_69736aa4_e5c4_11ea_bc0b_525400f5a505row16_col3{\n",
       "            background-color:  #88b1d4;\n",
       "            color:  #000000;\n",
       "        }#T_69736aa4_e5c4_11ea_bc0b_525400f5a505row4_col5,#T_69736aa4_e5c4_11ea_bc0b_525400f5a505row5_col4,#T_69736aa4_e5c4_11ea_bc0b_525400f5a505row7_col11,#T_69736aa4_e5c4_11ea_bc0b_525400f5a505row11_col7{\n",
       "            background-color:  #4c99c5;\n",
       "            color:  #000000;\n",
       "        }#T_69736aa4_e5c4_11ea_bc0b_525400f5a505row4_col6,#T_69736aa4_e5c4_11ea_bc0b_525400f5a505row6_col4{\n",
       "            background-color:  #abbfdc;\n",
       "            color:  #000000;\n",
       "        }#T_69736aa4_e5c4_11ea_bc0b_525400f5a505row4_col7,#T_69736aa4_e5c4_11ea_bc0b_525400f5a505row7_col4{\n",
       "            background-color:  #cccfe5;\n",
       "            color:  #000000;\n",
       "        }#T_69736aa4_e5c4_11ea_bc0b_525400f5a505row4_col8,#T_69736aa4_e5c4_11ea_bc0b_525400f5a505row8_col4{\n",
       "            background-color:  #f4eef6;\n",
       "            color:  #000000;\n",
       "        }#T_69736aa4_e5c4_11ea_bc0b_525400f5a505row4_col9,#T_69736aa4_e5c4_11ea_bc0b_525400f5a505row4_col10,#T_69736aa4_e5c4_11ea_bc0b_525400f5a505row9_col4,#T_69736aa4_e5c4_11ea_bc0b_525400f5a505row10_col4{\n",
       "            background-color:  #d9d8ea;\n",
       "            color:  #000000;\n",
       "        }#T_69736aa4_e5c4_11ea_bc0b_525400f5a505row4_col11,#T_69736aa4_e5c4_11ea_bc0b_525400f5a505row11_col4{\n",
       "            background-color:  #eae6f1;\n",
       "            color:  #000000;\n",
       "        }#T_69736aa4_e5c4_11ea_bc0b_525400f5a505row4_col12,#T_69736aa4_e5c4_11ea_bc0b_525400f5a505row12_col4{\n",
       "            background-color:  #7bacd1;\n",
       "            color:  #000000;\n",
       "        }#T_69736aa4_e5c4_11ea_bc0b_525400f5a505row4_col13,#T_69736aa4_e5c4_11ea_bc0b_525400f5a505row13_col4{\n",
       "            background-color:  #d0d1e6;\n",
       "            color:  #000000;\n",
       "        }#T_69736aa4_e5c4_11ea_bc0b_525400f5a505row4_col14,#T_69736aa4_e5c4_11ea_bc0b_525400f5a505row14_col4{\n",
       "            background-color:  #d6d6e9;\n",
       "            color:  #000000;\n",
       "        }#T_69736aa4_e5c4_11ea_bc0b_525400f5a505row5_col6,#T_69736aa4_e5c4_11ea_bc0b_525400f5a505row6_col5{\n",
       "            background-color:  #1278b4;\n",
       "            color:  #f1f1f1;\n",
       "        }#T_69736aa4_e5c4_11ea_bc0b_525400f5a505row5_col7,#T_69736aa4_e5c4_11ea_bc0b_525400f5a505row7_col5{\n",
       "            background-color:  #589ec8;\n",
       "            color:  #000000;\n",
       "        }#T_69736aa4_e5c4_11ea_bc0b_525400f5a505row5_col8,#T_69736aa4_e5c4_11ea_bc0b_525400f5a505row8_col5{\n",
       "            background-color:  #a5bddb;\n",
       "            color:  #000000;\n",
       "        }#T_69736aa4_e5c4_11ea_bc0b_525400f5a505row5_col9,#T_69736aa4_e5c4_11ea_bc0b_525400f5a505row7_col9,#T_69736aa4_e5c4_11ea_bc0b_525400f5a505row9_col5,#T_69736aa4_e5c4_11ea_bc0b_525400f5a505row9_col7{\n",
       "            background-color:  #4a98c5;\n",
       "            color:  #000000;\n",
       "        }#T_69736aa4_e5c4_11ea_bc0b_525400f5a505row5_col10,#T_69736aa4_e5c4_11ea_bc0b_525400f5a505row10_col5{\n",
       "            background-color:  #3991c1;\n",
       "            color:  #000000;\n",
       "        }#T_69736aa4_e5c4_11ea_bc0b_525400f5a505row5_col11,#T_69736aa4_e5c4_11ea_bc0b_525400f5a505row11_col5,#T_69736aa4_e5c4_11ea_bc0b_525400f5a505row13_col15,#T_69736aa4_e5c4_11ea_bc0b_525400f5a505row15_col13{\n",
       "            background-color:  #81aed2;\n",
       "            color:  #000000;\n",
       "        }#T_69736aa4_e5c4_11ea_bc0b_525400f5a505row5_col12,#T_69736aa4_e5c4_11ea_bc0b_525400f5a505row12_col5{\n",
       "            background-color:  #2685bb;\n",
       "            color:  #000000;\n",
       "        }#T_69736aa4_e5c4_11ea_bc0b_525400f5a505row5_col15,#T_69736aa4_e5c4_11ea_bc0b_525400f5a505row15_col5{\n",
       "            background-color:  #dbdaeb;\n",
       "            color:  #000000;\n",
       "        }#T_69736aa4_e5c4_11ea_bc0b_525400f5a505row5_col16,#T_69736aa4_e5c4_11ea_bc0b_525400f5a505row16_col5{\n",
       "            background-color:  #056caa;\n",
       "            color:  #f1f1f1;\n",
       "        }#T_69736aa4_e5c4_11ea_bc0b_525400f5a505row6_col7,#T_69736aa4_e5c4_11ea_bc0b_525400f5a505row7_col6{\n",
       "            background-color:  #348ebf;\n",
       "            color:  #000000;\n",
       "        }#T_69736aa4_e5c4_11ea_bc0b_525400f5a505row6_col8,#T_69736aa4_e5c4_11ea_bc0b_525400f5a505row8_col6,#T_69736aa4_e5c4_11ea_bc0b_525400f5a505row10_col14,#T_69736aa4_e5c4_11ea_bc0b_525400f5a505row14_col10{\n",
       "            background-color:  #3d93c2;\n",
       "            color:  #000000;\n",
       "        }#T_69736aa4_e5c4_11ea_bc0b_525400f5a505row6_col9,#T_69736aa4_e5c4_11ea_bc0b_525400f5a505row6_col10,#T_69736aa4_e5c4_11ea_bc0b_525400f5a505row9_col6,#T_69736aa4_e5c4_11ea_bc0b_525400f5a505row10_col6{\n",
       "            background-color:  #0872b1;\n",
       "            color:  #f1f1f1;\n",
       "        }#T_69736aa4_e5c4_11ea_bc0b_525400f5a505row6_col12,#T_69736aa4_e5c4_11ea_bc0b_525400f5a505row12_col6{\n",
       "            background-color:  #71a8ce;\n",
       "            color:  #000000;\n",
       "        }#T_69736aa4_e5c4_11ea_bc0b_525400f5a505row6_col13,#T_69736aa4_e5c4_11ea_bc0b_525400f5a505row13_col6{\n",
       "            background-color:  #afc1dd;\n",
       "            color:  #000000;\n",
       "        }#T_69736aa4_e5c4_11ea_bc0b_525400f5a505row6_col14,#T_69736aa4_e5c4_11ea_bc0b_525400f5a505row9_col13,#T_69736aa4_e5c4_11ea_bc0b_525400f5a505row13_col9,#T_69736aa4_e5c4_11ea_bc0b_525400f5a505row14_col6{\n",
       "            background-color:  #c5cce3;\n",
       "            color:  #000000;\n",
       "        }#T_69736aa4_e5c4_11ea_bc0b_525400f5a505row6_col15,#T_69736aa4_e5c4_11ea_bc0b_525400f5a505row15_col6{\n",
       "            background-color:  #efe9f3;\n",
       "            color:  #000000;\n",
       "        }#T_69736aa4_e5c4_11ea_bc0b_525400f5a505row6_col16,#T_69736aa4_e5c4_11ea_bc0b_525400f5a505row16_col6{\n",
       "            background-color:  #04598c;\n",
       "            color:  #f1f1f1;\n",
       "        }#T_69736aa4_e5c4_11ea_bc0b_525400f5a505row7_col8,#T_69736aa4_e5c4_11ea_bc0b_525400f5a505row8_col7{\n",
       "            background-color:  #157ab5;\n",
       "            color:  #000000;\n",
       "        }#T_69736aa4_e5c4_11ea_bc0b_525400f5a505row7_col16,#T_69736aa4_e5c4_11ea_bc0b_525400f5a505row16_col7{\n",
       "            background-color:  #1379b5;\n",
       "            color:  #f1f1f1;\n",
       "        }#T_69736aa4_e5c4_11ea_bc0b_525400f5a505row8_col9,#T_69736aa4_e5c4_11ea_bc0b_525400f5a505row9_col8{\n",
       "            background-color:  #056faf;\n",
       "            color:  #f1f1f1;\n",
       "        }#T_69736aa4_e5c4_11ea_bc0b_525400f5a505row8_col10,#T_69736aa4_e5c4_11ea_bc0b_525400f5a505row10_col8{\n",
       "            background-color:  #056ba9;\n",
       "            color:  #f1f1f1;\n",
       "        }#T_69736aa4_e5c4_11ea_bc0b_525400f5a505row8_col11,#T_69736aa4_e5c4_11ea_bc0b_525400f5a505row11_col8{\n",
       "            background-color:  #0771b1;\n",
       "            color:  #f1f1f1;\n",
       "        }#T_69736aa4_e5c4_11ea_bc0b_525400f5a505row8_col12,#T_69736aa4_e5c4_11ea_bc0b_525400f5a505row12_col8{\n",
       "            background-color:  #97b7d7;\n",
       "            color:  #000000;\n",
       "        }#T_69736aa4_e5c4_11ea_bc0b_525400f5a505row8_col14,#T_69736aa4_e5c4_11ea_bc0b_525400f5a505row14_col8{\n",
       "            background-color:  #5c9fc9;\n",
       "            color:  #000000;\n",
       "        }#T_69736aa4_e5c4_11ea_bc0b_525400f5a505row8_col15,#T_69736aa4_e5c4_11ea_bc0b_525400f5a505row15_col8{\n",
       "            background-color:  #bfc9e1;\n",
       "            color:  #000000;\n",
       "        }#T_69736aa4_e5c4_11ea_bc0b_525400f5a505row9_col10,#T_69736aa4_e5c4_11ea_bc0b_525400f5a505row10_col9{\n",
       "            background-color:  #0567a2;\n",
       "            color:  #f1f1f1;\n",
       "        }#T_69736aa4_e5c4_11ea_bc0b_525400f5a505row9_col11,#T_69736aa4_e5c4_11ea_bc0b_525400f5a505row11_col9{\n",
       "            background-color:  #045788;\n",
       "            color:  #f1f1f1;\n",
       "        }#T_69736aa4_e5c4_11ea_bc0b_525400f5a505row9_col12,#T_69736aa4_e5c4_11ea_bc0b_525400f5a505row12_col9{\n",
       "            background-color:  #75a9cf;\n",
       "            color:  #000000;\n",
       "        }#T_69736aa4_e5c4_11ea_bc0b_525400f5a505row9_col14,#T_69736aa4_e5c4_11ea_bc0b_525400f5a505row14_col9{\n",
       "            background-color:  #60a1ca;\n",
       "            color:  #000000;\n",
       "        }#T_69736aa4_e5c4_11ea_bc0b_525400f5a505row9_col16,#T_69736aa4_e5c4_11ea_bc0b_525400f5a505row16_col9{\n",
       "            background-color:  #045f95;\n",
       "            color:  #f1f1f1;\n",
       "        }#T_69736aa4_e5c4_11ea_bc0b_525400f5a505row10_col11,#T_69736aa4_e5c4_11ea_bc0b_525400f5a505row11_col10{\n",
       "            background-color:  #04649d;\n",
       "            color:  #f1f1f1;\n",
       "        }#T_69736aa4_e5c4_11ea_bc0b_525400f5a505row10_col12,#T_69736aa4_e5c4_11ea_bc0b_525400f5a505row12_col10{\n",
       "            background-color:  #6da6cd;\n",
       "            color:  #000000;\n",
       "        }#T_69736aa4_e5c4_11ea_bc0b_525400f5a505row10_col13,#T_69736aa4_e5c4_11ea_bc0b_525400f5a505row13_col10{\n",
       "            background-color:  #9ebad9;\n",
       "            color:  #000000;\n",
       "        }#T_69736aa4_e5c4_11ea_bc0b_525400f5a505row10_col15,#T_69736aa4_e5c4_11ea_bc0b_525400f5a505row15_col10{\n",
       "            background-color:  #bdc8e1;\n",
       "            color:  #000000;\n",
       "        }#T_69736aa4_e5c4_11ea_bc0b_525400f5a505row10_col16,#T_69736aa4_e5c4_11ea_bc0b_525400f5a505row16_col10{\n",
       "            background-color:  #046096;\n",
       "            color:  #f1f1f1;\n",
       "        }#T_69736aa4_e5c4_11ea_bc0b_525400f5a505row11_col12,#T_69736aa4_e5c4_11ea_bc0b_525400f5a505row12_col11{\n",
       "            background-color:  #86b0d3;\n",
       "            color:  #000000;\n",
       "        }#T_69736aa4_e5c4_11ea_bc0b_525400f5a505row11_col13,#T_69736aa4_e5c4_11ea_bc0b_525400f5a505row13_col11{\n",
       "            background-color:  #b5c4df;\n",
       "            color:  #000000;\n",
       "        }#T_69736aa4_e5c4_11ea_bc0b_525400f5a505row11_col14,#T_69736aa4_e5c4_11ea_bc0b_525400f5a505row14_col11{\n",
       "            background-color:  #569dc8;\n",
       "            color:  #000000;\n",
       "        }#T_69736aa4_e5c4_11ea_bc0b_525400f5a505row11_col15,#T_69736aa4_e5c4_11ea_bc0b_525400f5a505row15_col11{\n",
       "            background-color:  #ced0e6;\n",
       "            color:  #000000;\n",
       "        }#T_69736aa4_e5c4_11ea_bc0b_525400f5a505row11_col16,#T_69736aa4_e5c4_11ea_bc0b_525400f5a505row16_col11{\n",
       "            background-color:  #0569a5;\n",
       "            color:  #f1f1f1;\n",
       "        }#T_69736aa4_e5c4_11ea_bc0b_525400f5a505row12_col16,#T_69736aa4_e5c4_11ea_bc0b_525400f5a505row16_col12{\n",
       "            background-color:  #2383ba;\n",
       "            color:  #000000;\n",
       "        }#T_69736aa4_e5c4_11ea_bc0b_525400f5a505row13_col16,#T_69736aa4_e5c4_11ea_bc0b_525400f5a505row16_col13{\n",
       "            background-color:  #adc1dd;\n",
       "            color:  #000000;\n",
       "        }#T_69736aa4_e5c4_11ea_bc0b_525400f5a505row14_col15,#T_69736aa4_e5c4_11ea_bc0b_525400f5a505row15_col14{\n",
       "            background-color:  #056ba7;\n",
       "            color:  #f1f1f1;\n",
       "        }#T_69736aa4_e5c4_11ea_bc0b_525400f5a505row15_col16,#T_69736aa4_e5c4_11ea_bc0b_525400f5a505row16_col15{\n",
       "            background-color:  #ede7f2;\n",
       "            color:  #000000;\n",
       "        }</style><table id=\"T_69736aa4_e5c4_11ea_bc0b_525400f5a505\" ><thead>    <tr>        <th class=\"blank level0\" ></th>        <th class=\"col_heading level0 col0\" >Rt</th>        <th class=\"col_heading level0 col1\" >theta</th>        <th class=\"col_heading level0 col2\" >kappa</th>        <th class=\"col_heading level0 col3\" >rho</th>        <th class=\"col_heading level0 col4\" >sigma</th>        <th class=\"col_heading level0 col5\" >School_closing</th>        <th class=\"col_heading level0 col6\" >Workplace_closing</th>        <th class=\"col_heading level0 col7\" >Cancel_events</th>        <th class=\"col_heading level0 col8\" >Gatherings_restrictions</th>        <th class=\"col_heading level0 col9\" >Transport_closing</th>        <th class=\"col_heading level0 col10\" >Stay_home_restrictions</th>        <th class=\"col_heading level0 col11\" >Internal_movement_restrictions</th>        <th class=\"col_heading level0 col12\" >International_movement_restrictions</th>        <th class=\"col_heading level0 col13\" >Information_campaigns</th>        <th class=\"col_heading level0 col14\" >Testing_policy</th>        <th class=\"col_heading level0 col15\" >Contact_tracing</th>        <th class=\"col_heading level0 col16\" >Stringency_index</th>    </tr></thead><tbody>\n",
       "                <tr>\n",
       "                        <th id=\"T_69736aa4_e5c4_11ea_bc0b_525400f5a505level0_row0\" class=\"row_heading level0 row0\" >Rt</th>\n",
       "                        <td id=\"T_69736aa4_e5c4_11ea_bc0b_525400f5a505row0_col0\" class=\"data row0 col0\" >1.000000</td>\n",
       "                        <td id=\"T_69736aa4_e5c4_11ea_bc0b_525400f5a505row0_col1\" class=\"data row0 col1\" >-0.137381</td>\n",
       "                        <td id=\"T_69736aa4_e5c4_11ea_bc0b_525400f5a505row0_col2\" class=\"data row0 col2\" >-0.058998</td>\n",
       "                        <td id=\"T_69736aa4_e5c4_11ea_bc0b_525400f5a505row0_col3\" class=\"data row0 col3\" >0.176058</td>\n",
       "                        <td id=\"T_69736aa4_e5c4_11ea_bc0b_525400f5a505row0_col4\" class=\"data row0 col4\" >-0.289896</td>\n",
       "                        <td id=\"T_69736aa4_e5c4_11ea_bc0b_525400f5a505row0_col5\" class=\"data row0 col5\" >-0.425888</td>\n",
       "                        <td id=\"T_69736aa4_e5c4_11ea_bc0b_525400f5a505row0_col6\" class=\"data row0 col6\" >-0.145819</td>\n",
       "                        <td id=\"T_69736aa4_e5c4_11ea_bc0b_525400f5a505row0_col7\" class=\"data row0 col7\" >0.016215</td>\n",
       "                        <td id=\"T_69736aa4_e5c4_11ea_bc0b_525400f5a505row0_col8\" class=\"data row0 col8\" >0.151633</td>\n",
       "                        <td id=\"T_69736aa4_e5c4_11ea_bc0b_525400f5a505row0_col9\" class=\"data row0 col9\" >-0.159887</td>\n",
       "                        <td id=\"T_69736aa4_e5c4_11ea_bc0b_525400f5a505row0_col10\" class=\"data row0 col10\" >-0.052684</td>\n",
       "                        <td id=\"T_69736aa4_e5c4_11ea_bc0b_525400f5a505row0_col11\" class=\"data row0 col11\" >-0.030190</td>\n",
       "                        <td id=\"T_69736aa4_e5c4_11ea_bc0b_525400f5a505row0_col12\" class=\"data row0 col12\" >-0.287744</td>\n",
       "                        <td id=\"T_69736aa4_e5c4_11ea_bc0b_525400f5a505row0_col13\" class=\"data row0 col13\" >0.015324</td>\n",
       "                        <td id=\"T_69736aa4_e5c4_11ea_bc0b_525400f5a505row0_col14\" class=\"data row0 col14\" >-0.242396</td>\n",
       "                        <td id=\"T_69736aa4_e5c4_11ea_bc0b_525400f5a505row0_col15\" class=\"data row0 col15\" >-0.138012</td>\n",
       "                        <td id=\"T_69736aa4_e5c4_11ea_bc0b_525400f5a505row0_col16\" class=\"data row0 col16\" >-0.128432</td>\n",
       "            </tr>\n",
       "            <tr>\n",
       "                        <th id=\"T_69736aa4_e5c4_11ea_bc0b_525400f5a505level0_row1\" class=\"row_heading level0 row1\" >theta</th>\n",
       "                        <td id=\"T_69736aa4_e5c4_11ea_bc0b_525400f5a505row1_col0\" class=\"data row1 col0\" >-0.137381</td>\n",
       "                        <td id=\"T_69736aa4_e5c4_11ea_bc0b_525400f5a505row1_col1\" class=\"data row1 col1\" >1.000000</td>\n",
       "                        <td id=\"T_69736aa4_e5c4_11ea_bc0b_525400f5a505row1_col2\" class=\"data row1 col2\" >0.608806</td>\n",
       "                        <td id=\"T_69736aa4_e5c4_11ea_bc0b_525400f5a505row1_col3\" class=\"data row1 col3\" >0.110921</td>\n",
       "                        <td id=\"T_69736aa4_e5c4_11ea_bc0b_525400f5a505row1_col4\" class=\"data row1 col4\" >0.196368</td>\n",
       "                        <td id=\"T_69736aa4_e5c4_11ea_bc0b_525400f5a505row1_col5\" class=\"data row1 col5\" >0.276315</td>\n",
       "                        <td id=\"T_69736aa4_e5c4_11ea_bc0b_525400f5a505row1_col6\" class=\"data row1 col6\" >0.389006</td>\n",
       "                        <td id=\"T_69736aa4_e5c4_11ea_bc0b_525400f5a505row1_col7\" class=\"data row1 col7\" >0.158494</td>\n",
       "                        <td id=\"T_69736aa4_e5c4_11ea_bc0b_525400f5a505row1_col8\" class=\"data row1 col8\" >-0.144476</td>\n",
       "                        <td id=\"T_69736aa4_e5c4_11ea_bc0b_525400f5a505row1_col9\" class=\"data row1 col9\" >-0.025942</td>\n",
       "                        <td id=\"T_69736aa4_e5c4_11ea_bc0b_525400f5a505row1_col10\" class=\"data row1 col10\" >-0.040016</td>\n",
       "                        <td id=\"T_69736aa4_e5c4_11ea_bc0b_525400f5a505row1_col11\" class=\"data row1 col11\" >0.032519</td>\n",
       "                        <td id=\"T_69736aa4_e5c4_11ea_bc0b_525400f5a505row1_col12\" class=\"data row1 col12\" >-0.080490</td>\n",
       "                        <td id=\"T_69736aa4_e5c4_11ea_bc0b_525400f5a505row1_col13\" class=\"data row1 col13\" >0.022328</td>\n",
       "                        <td id=\"T_69736aa4_e5c4_11ea_bc0b_525400f5a505row1_col14\" class=\"data row1 col14\" >-0.561251</td>\n",
       "                        <td id=\"T_69736aa4_e5c4_11ea_bc0b_525400f5a505row1_col15\" class=\"data row1 col15\" >-0.384076</td>\n",
       "                        <td id=\"T_69736aa4_e5c4_11ea_bc0b_525400f5a505row1_col16\" class=\"data row1 col16\" >0.277485</td>\n",
       "            </tr>\n",
       "            <tr>\n",
       "                        <th id=\"T_69736aa4_e5c4_11ea_bc0b_525400f5a505level0_row2\" class=\"row_heading level0 row2\" >kappa</th>\n",
       "                        <td id=\"T_69736aa4_e5c4_11ea_bc0b_525400f5a505row2_col0\" class=\"data row2 col0\" >-0.058998</td>\n",
       "                        <td id=\"T_69736aa4_e5c4_11ea_bc0b_525400f5a505row2_col1\" class=\"data row2 col1\" >0.608806</td>\n",
       "                        <td id=\"T_69736aa4_e5c4_11ea_bc0b_525400f5a505row2_col2\" class=\"data row2 col2\" >1.000000</td>\n",
       "                        <td id=\"T_69736aa4_e5c4_11ea_bc0b_525400f5a505row2_col3\" class=\"data row2 col3\" >0.441397</td>\n",
       "                        <td id=\"T_69736aa4_e5c4_11ea_bc0b_525400f5a505row2_col4\" class=\"data row2 col4\" >0.251737</td>\n",
       "                        <td id=\"T_69736aa4_e5c4_11ea_bc0b_525400f5a505row2_col5\" class=\"data row2 col5\" >0.371746</td>\n",
       "                        <td id=\"T_69736aa4_e5c4_11ea_bc0b_525400f5a505row2_col6\" class=\"data row2 col6\" >0.506115</td>\n",
       "                        <td id=\"T_69736aa4_e5c4_11ea_bc0b_525400f5a505row2_col7\" class=\"data row2 col7\" >0.115530</td>\n",
       "                        <td id=\"T_69736aa4_e5c4_11ea_bc0b_525400f5a505row2_col8\" class=\"data row2 col8\" >0.033255</td>\n",
       "                        <td id=\"T_69736aa4_e5c4_11ea_bc0b_525400f5a505row2_col9\" class=\"data row2 col9\" >0.178048</td>\n",
       "                        <td id=\"T_69736aa4_e5c4_11ea_bc0b_525400f5a505row2_col10\" class=\"data row2 col10\" >0.122430</td>\n",
       "                        <td id=\"T_69736aa4_e5c4_11ea_bc0b_525400f5a505row2_col11\" class=\"data row2 col11\" >0.063087</td>\n",
       "                        <td id=\"T_69736aa4_e5c4_11ea_bc0b_525400f5a505row2_col12\" class=\"data row2 col12\" >0.160658</td>\n",
       "                        <td id=\"T_69736aa4_e5c4_11ea_bc0b_525400f5a505row2_col13\" class=\"data row2 col13\" >-0.093976</td>\n",
       "                        <td id=\"T_69736aa4_e5c4_11ea_bc0b_525400f5a505row2_col14\" class=\"data row2 col14\" >-0.563804</td>\n",
       "                        <td id=\"T_69736aa4_e5c4_11ea_bc0b_525400f5a505row2_col15\" class=\"data row2 col15\" >-0.436996</td>\n",
       "                        <td id=\"T_69736aa4_e5c4_11ea_bc0b_525400f5a505row2_col16\" class=\"data row2 col16\" >0.472858</td>\n",
       "            </tr>\n",
       "            <tr>\n",
       "                        <th id=\"T_69736aa4_e5c4_11ea_bc0b_525400f5a505level0_row3\" class=\"row_heading level0 row3\" >rho</th>\n",
       "                        <td id=\"T_69736aa4_e5c4_11ea_bc0b_525400f5a505row3_col0\" class=\"data row3 col0\" >0.176058</td>\n",
       "                        <td id=\"T_69736aa4_e5c4_11ea_bc0b_525400f5a505row3_col1\" class=\"data row3 col1\" >0.110921</td>\n",
       "                        <td id=\"T_69736aa4_e5c4_11ea_bc0b_525400f5a505row3_col2\" class=\"data row3 col2\" >0.441397</td>\n",
       "                        <td id=\"T_69736aa4_e5c4_11ea_bc0b_525400f5a505row3_col3\" class=\"data row3 col3\" >1.000000</td>\n",
       "                        <td id=\"T_69736aa4_e5c4_11ea_bc0b_525400f5a505row3_col4\" class=\"data row3 col4\" >0.518578</td>\n",
       "                        <td id=\"T_69736aa4_e5c4_11ea_bc0b_525400f5a505row3_col5\" class=\"data row3 col5\" >0.176570</td>\n",
       "                        <td id=\"T_69736aa4_e5c4_11ea_bc0b_525400f5a505row3_col6\" class=\"data row3 col6\" >0.121836</td>\n",
       "                        <td id=\"T_69736aa4_e5c4_11ea_bc0b_525400f5a505row3_col7\" class=\"data row3 col7\" >-0.202876</td>\n",
       "                        <td id=\"T_69736aa4_e5c4_11ea_bc0b_525400f5a505row3_col8\" class=\"data row3 col8\" >-0.117717</td>\n",
       "                        <td id=\"T_69736aa4_e5c4_11ea_bc0b_525400f5a505row3_col9\" class=\"data row3 col9\" >0.005774</td>\n",
       "                        <td id=\"T_69736aa4_e5c4_11ea_bc0b_525400f5a505row3_col10\" class=\"data row3 col10\" >-0.003225</td>\n",
       "                        <td id=\"T_69736aa4_e5c4_11ea_bc0b_525400f5a505row3_col11\" class=\"data row3 col11\" >-0.035335</td>\n",
       "                        <td id=\"T_69736aa4_e5c4_11ea_bc0b_525400f5a505row3_col12\" class=\"data row3 col12\" >0.195341</td>\n",
       "                        <td id=\"T_69736aa4_e5c4_11ea_bc0b_525400f5a505row3_col13\" class=\"data row3 col13\" >-0.133175</td>\n",
       "                        <td id=\"T_69736aa4_e5c4_11ea_bc0b_525400f5a505row3_col14\" class=\"data row3 col14\" >-0.319317</td>\n",
       "                        <td id=\"T_69736aa4_e5c4_11ea_bc0b_525400f5a505row3_col15\" class=\"data row3 col15\" >-0.312163</td>\n",
       "                        <td id=\"T_69736aa4_e5c4_11ea_bc0b_525400f5a505row3_col16\" class=\"data row3 col16\" >0.141434</td>\n",
       "            </tr>\n",
       "            <tr>\n",
       "                        <th id=\"T_69736aa4_e5c4_11ea_bc0b_525400f5a505level0_row4\" class=\"row_heading level0 row4\" >sigma</th>\n",
       "                        <td id=\"T_69736aa4_e5c4_11ea_bc0b_525400f5a505row4_col0\" class=\"data row4 col0\" >-0.289896</td>\n",
       "                        <td id=\"T_69736aa4_e5c4_11ea_bc0b_525400f5a505row4_col1\" class=\"data row4 col1\" >0.196368</td>\n",
       "                        <td id=\"T_69736aa4_e5c4_11ea_bc0b_525400f5a505row4_col2\" class=\"data row4 col2\" >0.251737</td>\n",
       "                        <td id=\"T_69736aa4_e5c4_11ea_bc0b_525400f5a505row4_col3\" class=\"data row4 col3\" >0.518578</td>\n",
       "                        <td id=\"T_69736aa4_e5c4_11ea_bc0b_525400f5a505row4_col4\" class=\"data row4 col4\" >1.000000</td>\n",
       "                        <td id=\"T_69736aa4_e5c4_11ea_bc0b_525400f5a505row4_col5\" class=\"data row4 col5\" >0.341229</td>\n",
       "                        <td id=\"T_69736aa4_e5c4_11ea_bc0b_525400f5a505row4_col6\" class=\"data row4 col6\" >-0.000602</td>\n",
       "                        <td id=\"T_69736aa4_e5c4_11ea_bc0b_525400f5a505row4_col7\" class=\"data row4 col7\" >-0.150876</td>\n",
       "                        <td id=\"T_69736aa4_e5c4_11ea_bc0b_525400f5a505row4_col8\" class=\"data row4 col8\" >-0.453439</td>\n",
       "                        <td id=\"T_69736aa4_e5c4_11ea_bc0b_525400f5a505row4_col9\" class=\"data row4 col9\" >-0.229777</td>\n",
       "                        <td id=\"T_69736aa4_e5c4_11ea_bc0b_525400f5a505row4_col10\" class=\"data row4 col10\" >-0.234059</td>\n",
       "                        <td id=\"T_69736aa4_e5c4_11ea_bc0b_525400f5a505row4_col11\" class=\"data row4 col11\" >-0.354675</td>\n",
       "                        <td id=\"T_69736aa4_e5c4_11ea_bc0b_525400f5a505row4_col12\" class=\"data row4 col12\" >0.189645</td>\n",
       "                        <td id=\"T_69736aa4_e5c4_11ea_bc0b_525400f5a505row4_col13\" class=\"data row4 col13\" >-0.170693</td>\n",
       "                        <td id=\"T_69736aa4_e5c4_11ea_bc0b_525400f5a505row4_col14\" class=\"data row4 col14\" >-0.212444</td>\n",
       "                        <td id=\"T_69736aa4_e5c4_11ea_bc0b_525400f5a505row4_col15\" class=\"data row4 col15\" >-0.052771</td>\n",
       "                        <td id=\"T_69736aa4_e5c4_11ea_bc0b_525400f5a505row4_col16\" class=\"data row4 col16\" >-0.060788</td>\n",
       "            </tr>\n",
       "            <tr>\n",
       "                        <th id=\"T_69736aa4_e5c4_11ea_bc0b_525400f5a505level0_row5\" class=\"row_heading level0 row5\" >School_closing</th>\n",
       "                        <td id=\"T_69736aa4_e5c4_11ea_bc0b_525400f5a505row5_col0\" class=\"data row5 col0\" >-0.425888</td>\n",
       "                        <td id=\"T_69736aa4_e5c4_11ea_bc0b_525400f5a505row5_col1\" class=\"data row5 col1\" >0.276315</td>\n",
       "                        <td id=\"T_69736aa4_e5c4_11ea_bc0b_525400f5a505row5_col2\" class=\"data row5 col2\" >0.371746</td>\n",
       "                        <td id=\"T_69736aa4_e5c4_11ea_bc0b_525400f5a505row5_col3\" class=\"data row5 col3\" >0.176570</td>\n",
       "                        <td id=\"T_69736aa4_e5c4_11ea_bc0b_525400f5a505row5_col4\" class=\"data row5 col4\" >0.341229</td>\n",
       "                        <td id=\"T_69736aa4_e5c4_11ea_bc0b_525400f5a505row5_col5\" class=\"data row5 col5\" >1.000000</td>\n",
       "                        <td id=\"T_69736aa4_e5c4_11ea_bc0b_525400f5a505row5_col6\" class=\"data row5 col6\" >0.555293</td>\n",
       "                        <td id=\"T_69736aa4_e5c4_11ea_bc0b_525400f5a505row5_col7\" class=\"data row5 col7\" >0.307400</td>\n",
       "                        <td id=\"T_69736aa4_e5c4_11ea_bc0b_525400f5a505row5_col8\" class=\"data row5 col8\" >0.023773</td>\n",
       "                        <td id=\"T_69736aa4_e5c4_11ea_bc0b_525400f5a505row5_col9\" class=\"data row5 col9\" >0.349233</td>\n",
       "                        <td id=\"T_69736aa4_e5c4_11ea_bc0b_525400f5a505row5_col10\" class=\"data row5 col10\" >0.403096</td>\n",
       "                        <td id=\"T_69736aa4_e5c4_11ea_bc0b_525400f5a505row5_col11\" class=\"data row5 col11\" >0.166374</td>\n",
       "                        <td id=\"T_69736aa4_e5c4_11ea_bc0b_525400f5a505row5_col12\" class=\"data row5 col12\" >0.478829</td>\n",
       "                        <td id=\"T_69736aa4_e5c4_11ea_bc0b_525400f5a505row5_col13\" class=\"data row5 col13\" >-0.059256</td>\n",
       "                        <td id=\"T_69736aa4_e5c4_11ea_bc0b_525400f5a505row5_col14\" class=\"data row5 col14\" >-0.044212</td>\n",
       "                        <td id=\"T_69736aa4_e5c4_11ea_bc0b_525400f5a505row5_col15\" class=\"data row5 col15\" >-0.248182</td>\n",
       "                        <td id=\"T_69736aa4_e5c4_11ea_bc0b_525400f5a505row5_col16\" class=\"data row5 col16\" >0.643170</td>\n",
       "            </tr>\n",
       "            <tr>\n",
       "                        <th id=\"T_69736aa4_e5c4_11ea_bc0b_525400f5a505level0_row6\" class=\"row_heading level0 row6\" >Workplace_closing</th>\n",
       "                        <td id=\"T_69736aa4_e5c4_11ea_bc0b_525400f5a505row6_col0\" class=\"data row6 col0\" >-0.145819</td>\n",
       "                        <td id=\"T_69736aa4_e5c4_11ea_bc0b_525400f5a505row6_col1\" class=\"data row6 col1\" >0.389006</td>\n",
       "                        <td id=\"T_69736aa4_e5c4_11ea_bc0b_525400f5a505row6_col2\" class=\"data row6 col2\" >0.506115</td>\n",
       "                        <td id=\"T_69736aa4_e5c4_11ea_bc0b_525400f5a505row6_col3\" class=\"data row6 col3\" >0.121836</td>\n",
       "                        <td id=\"T_69736aa4_e5c4_11ea_bc0b_525400f5a505row6_col4\" class=\"data row6 col4\" >-0.000602</td>\n",
       "                        <td id=\"T_69736aa4_e5c4_11ea_bc0b_525400f5a505row6_col5\" class=\"data row6 col5\" >0.555293</td>\n",
       "                        <td id=\"T_69736aa4_e5c4_11ea_bc0b_525400f5a505row6_col6\" class=\"data row6 col6\" >1.000000</td>\n",
       "                        <td id=\"T_69736aa4_e5c4_11ea_bc0b_525400f5a505row6_col7\" class=\"data row6 col7\" >0.423394</td>\n",
       "                        <td id=\"T_69736aa4_e5c4_11ea_bc0b_525400f5a505row6_col8\" class=\"data row6 col8\" >0.391378</td>\n",
       "                        <td id=\"T_69736aa4_e5c4_11ea_bc0b_525400f5a505row6_col9\" class=\"data row6 col9\" >0.591333</td>\n",
       "                        <td id=\"T_69736aa4_e5c4_11ea_bc0b_525400f5a505row6_col10\" class=\"data row6 col10\" >0.593168</td>\n",
       "                        <td id=\"T_69736aa4_e5c4_11ea_bc0b_525400f5a505row6_col11\" class=\"data row6 col11\" >0.469105</td>\n",
       "                        <td id=\"T_69736aa4_e5c4_11ea_bc0b_525400f5a505row6_col12\" class=\"data row6 col12\" >0.227249</td>\n",
       "                        <td id=\"T_69736aa4_e5c4_11ea_bc0b_525400f5a505row6_col13\" class=\"data row6 col13\" >-0.020059</td>\n",
       "                        <td id=\"T_69736aa4_e5c4_11ea_bc0b_525400f5a505row6_col14\" class=\"data row6 col14\" >-0.123016</td>\n",
       "                        <td id=\"T_69736aa4_e5c4_11ea_bc0b_525400f5a505row6_col15\" class=\"data row6 col15\" >-0.392944</td>\n",
       "                        <td id=\"T_69736aa4_e5c4_11ea_bc0b_525400f5a505row6_col16\" class=\"data row6 col16\" >0.810067</td>\n",
       "            </tr>\n",
       "            <tr>\n",
       "                        <th id=\"T_69736aa4_e5c4_11ea_bc0b_525400f5a505level0_row7\" class=\"row_heading level0 row7\" >Cancel_events</th>\n",
       "                        <td id=\"T_69736aa4_e5c4_11ea_bc0b_525400f5a505row7_col0\" class=\"data row7 col0\" >0.016215</td>\n",
       "                        <td id=\"T_69736aa4_e5c4_11ea_bc0b_525400f5a505row7_col1\" class=\"data row7 col1\" >0.158494</td>\n",
       "                        <td id=\"T_69736aa4_e5c4_11ea_bc0b_525400f5a505row7_col2\" class=\"data row7 col2\" >0.115530</td>\n",
       "                        <td id=\"T_69736aa4_e5c4_11ea_bc0b_525400f5a505row7_col3\" class=\"data row7 col3\" >-0.202876</td>\n",
       "                        <td id=\"T_69736aa4_e5c4_11ea_bc0b_525400f5a505row7_col4\" class=\"data row7 col4\" >-0.150876</td>\n",
       "                        <td id=\"T_69736aa4_e5c4_11ea_bc0b_525400f5a505row7_col5\" class=\"data row7 col5\" >0.307400</td>\n",
       "                        <td id=\"T_69736aa4_e5c4_11ea_bc0b_525400f5a505row7_col6\" class=\"data row7 col6\" >0.423394</td>\n",
       "                        <td id=\"T_69736aa4_e5c4_11ea_bc0b_525400f5a505row7_col7\" class=\"data row7 col7\" >1.000000</td>\n",
       "                        <td id=\"T_69736aa4_e5c4_11ea_bc0b_525400f5a505row7_col8\" class=\"data row7 col8\" >0.542120</td>\n",
       "                        <td id=\"T_69736aa4_e5c4_11ea_bc0b_525400f5a505row7_col9\" class=\"data row7 col9\" >0.347310</td>\n",
       "                        <td id=\"T_69736aa4_e5c4_11ea_bc0b_525400f5a505row7_col10\" class=\"data row7 col10\" >0.521357</td>\n",
       "                        <td id=\"T_69736aa4_e5c4_11ea_bc0b_525400f5a505row7_col11\" class=\"data row7 col11\" >0.344550</td>\n",
       "                        <td id=\"T_69736aa4_e5c4_11ea_bc0b_525400f5a505row7_col12\" class=\"data row7 col12\" >-0.024794</td>\n",
       "                        <td id=\"T_69736aa4_e5c4_11ea_bc0b_525400f5a505row7_col13\" class=\"data row7 col13\" >-0.022437</td>\n",
       "                        <td id=\"T_69736aa4_e5c4_11ea_bc0b_525400f5a505row7_col14\" class=\"data row7 col14\" >0.124352</td>\n",
       "                        <td id=\"T_69736aa4_e5c4_11ea_bc0b_525400f5a505row7_col15\" class=\"data row7 col15\" >-0.077475</td>\n",
       "                        <td id=\"T_69736aa4_e5c4_11ea_bc0b_525400f5a505row7_col16\" class=\"data row7 col16\" >0.551127</td>\n",
       "            </tr>\n",
       "            <tr>\n",
       "                        <th id=\"T_69736aa4_e5c4_11ea_bc0b_525400f5a505level0_row8\" class=\"row_heading level0 row8\" >Gatherings_restrictions</th>\n",
       "                        <td id=\"T_69736aa4_e5c4_11ea_bc0b_525400f5a505row8_col0\" class=\"data row8 col0\" >0.151633</td>\n",
       "                        <td id=\"T_69736aa4_e5c4_11ea_bc0b_525400f5a505row8_col1\" class=\"data row8 col1\" >-0.144476</td>\n",
       "                        <td id=\"T_69736aa4_e5c4_11ea_bc0b_525400f5a505row8_col2\" class=\"data row8 col2\" >0.033255</td>\n",
       "                        <td id=\"T_69736aa4_e5c4_11ea_bc0b_525400f5a505row8_col3\" class=\"data row8 col3\" >-0.117717</td>\n",
       "                        <td id=\"T_69736aa4_e5c4_11ea_bc0b_525400f5a505row8_col4\" class=\"data row8 col4\" >-0.453439</td>\n",
       "                        <td id=\"T_69736aa4_e5c4_11ea_bc0b_525400f5a505row8_col5\" class=\"data row8 col5\" >0.023773</td>\n",
       "                        <td id=\"T_69736aa4_e5c4_11ea_bc0b_525400f5a505row8_col6\" class=\"data row8 col6\" >0.391378</td>\n",
       "                        <td id=\"T_69736aa4_e5c4_11ea_bc0b_525400f5a505row8_col7\" class=\"data row8 col7\" >0.542120</td>\n",
       "                        <td id=\"T_69736aa4_e5c4_11ea_bc0b_525400f5a505row8_col8\" class=\"data row8 col8\" >1.000000</td>\n",
       "                        <td id=\"T_69736aa4_e5c4_11ea_bc0b_525400f5a505row8_col9\" class=\"data row8 col9\" >0.611993</td>\n",
       "                        <td id=\"T_69736aa4_e5c4_11ea_bc0b_525400f5a505row8_col10\" class=\"data row8 col10\" >0.649802</td>\n",
       "                        <td id=\"T_69736aa4_e5c4_11ea_bc0b_525400f5a505row8_col11\" class=\"data row8 col11\" >0.598207</td>\n",
       "                        <td id=\"T_69736aa4_e5c4_11ea_bc0b_525400f5a505row8_col12\" class=\"data row8 col12\" >0.083694</td>\n",
       "                        <td id=\"T_69736aa4_e5c4_11ea_bc0b_525400f5a505row8_col13\" class=\"data row8 col13\" >0.064803</td>\n",
       "                        <td id=\"T_69736aa4_e5c4_11ea_bc0b_525400f5a505row8_col14\" class=\"data row8 col14\" >0.296080</td>\n",
       "                        <td id=\"T_69736aa4_e5c4_11ea_bc0b_525400f5a505row8_col15\" class=\"data row8 col15\" >-0.091497</td>\n",
       "                        <td id=\"T_69736aa4_e5c4_11ea_bc0b_525400f5a505row8_col16\" class=\"data row8 col16\" >0.608251</td>\n",
       "            </tr>\n",
       "            <tr>\n",
       "                        <th id=\"T_69736aa4_e5c4_11ea_bc0b_525400f5a505level0_row9\" class=\"row_heading level0 row9\" >Transport_closing</th>\n",
       "                        <td id=\"T_69736aa4_e5c4_11ea_bc0b_525400f5a505row9_col0\" class=\"data row9 col0\" >-0.159887</td>\n",
       "                        <td id=\"T_69736aa4_e5c4_11ea_bc0b_525400f5a505row9_col1\" class=\"data row9 col1\" >-0.025942</td>\n",
       "                        <td id=\"T_69736aa4_e5c4_11ea_bc0b_525400f5a505row9_col2\" class=\"data row9 col2\" >0.178048</td>\n",
       "                        <td id=\"T_69736aa4_e5c4_11ea_bc0b_525400f5a505row9_col3\" class=\"data row9 col3\" >0.005774</td>\n",
       "                        <td id=\"T_69736aa4_e5c4_11ea_bc0b_525400f5a505row9_col4\" class=\"data row9 col4\" >-0.229777</td>\n",
       "                        <td id=\"T_69736aa4_e5c4_11ea_bc0b_525400f5a505row9_col5\" class=\"data row9 col5\" >0.349233</td>\n",
       "                        <td id=\"T_69736aa4_e5c4_11ea_bc0b_525400f5a505row9_col6\" class=\"data row9 col6\" >0.591333</td>\n",
       "                        <td id=\"T_69736aa4_e5c4_11ea_bc0b_525400f5a505row9_col7\" class=\"data row9 col7\" >0.347310</td>\n",
       "                        <td id=\"T_69736aa4_e5c4_11ea_bc0b_525400f5a505row9_col8\" class=\"data row9 col8\" >0.611993</td>\n",
       "                        <td id=\"T_69736aa4_e5c4_11ea_bc0b_525400f5a505row9_col9\" class=\"data row9 col9\" >1.000000</td>\n",
       "                        <td id=\"T_69736aa4_e5c4_11ea_bc0b_525400f5a505row9_col10\" class=\"data row9 col10\" >0.686313</td>\n",
       "                        <td id=\"T_69736aa4_e5c4_11ea_bc0b_525400f5a505row9_col11\" class=\"data row9 col11\" >0.816942</td>\n",
       "                        <td id=\"T_69736aa4_e5c4_11ea_bc0b_525400f5a505row9_col12\" class=\"data row9 col12\" >0.217499</td>\n",
       "                        <td id=\"T_69736aa4_e5c4_11ea_bc0b_525400f5a505row9_col13\" class=\"data row9 col13\" >-0.122424</td>\n",
       "                        <td id=\"T_69736aa4_e5c4_11ea_bc0b_525400f5a505row9_col14\" class=\"data row9 col14\" >0.279852</td>\n",
       "                        <td id=\"T_69736aa4_e5c4_11ea_bc0b_525400f5a505row9_col15\" class=\"data row9 col15\" >-0.160626</td>\n",
       "                        <td id=\"T_69736aa4_e5c4_11ea_bc0b_525400f5a505row9_col16\" class=\"data row9 col16\" >0.761174</td>\n",
       "            </tr>\n",
       "            <tr>\n",
       "                        <th id=\"T_69736aa4_e5c4_11ea_bc0b_525400f5a505level0_row10\" class=\"row_heading level0 row10\" >Stay_home_restrictions</th>\n",
       "                        <td id=\"T_69736aa4_e5c4_11ea_bc0b_525400f5a505row10_col0\" class=\"data row10 col0\" >-0.052684</td>\n",
       "                        <td id=\"T_69736aa4_e5c4_11ea_bc0b_525400f5a505row10_col1\" class=\"data row10 col1\" >-0.040016</td>\n",
       "                        <td id=\"T_69736aa4_e5c4_11ea_bc0b_525400f5a505row10_col2\" class=\"data row10 col2\" >0.122430</td>\n",
       "                        <td id=\"T_69736aa4_e5c4_11ea_bc0b_525400f5a505row10_col3\" class=\"data row10 col3\" >-0.003225</td>\n",
       "                        <td id=\"T_69736aa4_e5c4_11ea_bc0b_525400f5a505row10_col4\" class=\"data row10 col4\" >-0.234059</td>\n",
       "                        <td id=\"T_69736aa4_e5c4_11ea_bc0b_525400f5a505row10_col5\" class=\"data row10 col5\" >0.403096</td>\n",
       "                        <td id=\"T_69736aa4_e5c4_11ea_bc0b_525400f5a505row10_col6\" class=\"data row10 col6\" >0.593168</td>\n",
       "                        <td id=\"T_69736aa4_e5c4_11ea_bc0b_525400f5a505row10_col7\" class=\"data row10 col7\" >0.521357</td>\n",
       "                        <td id=\"T_69736aa4_e5c4_11ea_bc0b_525400f5a505row10_col8\" class=\"data row10 col8\" >0.649802</td>\n",
       "                        <td id=\"T_69736aa4_e5c4_11ea_bc0b_525400f5a505row10_col9\" class=\"data row10 col9\" >0.686313</td>\n",
       "                        <td id=\"T_69736aa4_e5c4_11ea_bc0b_525400f5a505row10_col10\" class=\"data row10 col10\" >1.000000</td>\n",
       "                        <td id=\"T_69736aa4_e5c4_11ea_bc0b_525400f5a505row10_col11\" class=\"data row10 col11\" >0.717106</td>\n",
       "                        <td id=\"T_69736aa4_e5c4_11ea_bc0b_525400f5a505row10_col12\" class=\"data row10 col12\" >0.238440</td>\n",
       "                        <td id=\"T_69736aa4_e5c4_11ea_bc0b_525400f5a505row10_col13\" class=\"data row10 col13\" >0.054378</td>\n",
       "                        <td id=\"T_69736aa4_e5c4_11ea_bc0b_525400f5a505row10_col14\" class=\"data row10 col14\" >0.393474</td>\n",
       "                        <td id=\"T_69736aa4_e5c4_11ea_bc0b_525400f5a505row10_col15\" class=\"data row10 col15\" >-0.081537</td>\n",
       "                        <td id=\"T_69736aa4_e5c4_11ea_bc0b_525400f5a505row10_col16\" class=\"data row10 col16\" >0.753043</td>\n",
       "            </tr>\n",
       "            <tr>\n",
       "                        <th id=\"T_69736aa4_e5c4_11ea_bc0b_525400f5a505level0_row11\" class=\"row_heading level0 row11\" >Internal_movement_restrictions</th>\n",
       "                        <td id=\"T_69736aa4_e5c4_11ea_bc0b_525400f5a505row11_col0\" class=\"data row11 col0\" >-0.030190</td>\n",
       "                        <td id=\"T_69736aa4_e5c4_11ea_bc0b_525400f5a505row11_col1\" class=\"data row11 col1\" >0.032519</td>\n",
       "                        <td id=\"T_69736aa4_e5c4_11ea_bc0b_525400f5a505row11_col2\" class=\"data row11 col2\" >0.063087</td>\n",
       "                        <td id=\"T_69736aa4_e5c4_11ea_bc0b_525400f5a505row11_col3\" class=\"data row11 col3\" >-0.035335</td>\n",
       "                        <td id=\"T_69736aa4_e5c4_11ea_bc0b_525400f5a505row11_col4\" class=\"data row11 col4\" >-0.354675</td>\n",
       "                        <td id=\"T_69736aa4_e5c4_11ea_bc0b_525400f5a505row11_col5\" class=\"data row11 col5\" >0.166374</td>\n",
       "                        <td id=\"T_69736aa4_e5c4_11ea_bc0b_525400f5a505row11_col6\" class=\"data row11 col6\" >0.469105</td>\n",
       "                        <td id=\"T_69736aa4_e5c4_11ea_bc0b_525400f5a505row11_col7\" class=\"data row11 col7\" >0.344550</td>\n",
       "                        <td id=\"T_69736aa4_e5c4_11ea_bc0b_525400f5a505row11_col8\" class=\"data row11 col8\" >0.598207</td>\n",
       "                        <td id=\"T_69736aa4_e5c4_11ea_bc0b_525400f5a505row11_col9\" class=\"data row11 col9\" >0.816942</td>\n",
       "                        <td id=\"T_69736aa4_e5c4_11ea_bc0b_525400f5a505row11_col10\" class=\"data row11 col10\" >0.717106</td>\n",
       "                        <td id=\"T_69736aa4_e5c4_11ea_bc0b_525400f5a505row11_col11\" class=\"data row11 col11\" >1.000000</td>\n",
       "                        <td id=\"T_69736aa4_e5c4_11ea_bc0b_525400f5a505row11_col12\" class=\"data row11 col12\" >0.147819</td>\n",
       "                        <td id=\"T_69736aa4_e5c4_11ea_bc0b_525400f5a505row11_col13\" class=\"data row11 col13\" >-0.047241</td>\n",
       "                        <td id=\"T_69736aa4_e5c4_11ea_bc0b_525400f5a505row11_col14\" class=\"data row11 col14\" >0.312278</td>\n",
       "                        <td id=\"T_69736aa4_e5c4_11ea_bc0b_525400f5a505row11_col15\" class=\"data row11 col15\" >-0.164307</td>\n",
       "                        <td id=\"T_69736aa4_e5c4_11ea_bc0b_525400f5a505row11_col16\" class=\"data row11 col16\" >0.665122</td>\n",
       "            </tr>\n",
       "            <tr>\n",
       "                        <th id=\"T_69736aa4_e5c4_11ea_bc0b_525400f5a505level0_row12\" class=\"row_heading level0 row12\" >International_movement_restrictions</th>\n",
       "                        <td id=\"T_69736aa4_e5c4_11ea_bc0b_525400f5a505row12_col0\" class=\"data row12 col0\" >-0.287744</td>\n",
       "                        <td id=\"T_69736aa4_e5c4_11ea_bc0b_525400f5a505row12_col1\" class=\"data row12 col1\" >-0.080490</td>\n",
       "                        <td id=\"T_69736aa4_e5c4_11ea_bc0b_525400f5a505row12_col2\" class=\"data row12 col2\" >0.160658</td>\n",
       "                        <td id=\"T_69736aa4_e5c4_11ea_bc0b_525400f5a505row12_col3\" class=\"data row12 col3\" >0.195341</td>\n",
       "                        <td id=\"T_69736aa4_e5c4_11ea_bc0b_525400f5a505row12_col4\" class=\"data row12 col4\" >0.189645</td>\n",
       "                        <td id=\"T_69736aa4_e5c4_11ea_bc0b_525400f5a505row12_col5\" class=\"data row12 col5\" >0.478829</td>\n",
       "                        <td id=\"T_69736aa4_e5c4_11ea_bc0b_525400f5a505row12_col6\" class=\"data row12 col6\" >0.227249</td>\n",
       "                        <td id=\"T_69736aa4_e5c4_11ea_bc0b_525400f5a505row12_col7\" class=\"data row12 col7\" >-0.024794</td>\n",
       "                        <td id=\"T_69736aa4_e5c4_11ea_bc0b_525400f5a505row12_col8\" class=\"data row12 col8\" >0.083694</td>\n",
       "                        <td id=\"T_69736aa4_e5c4_11ea_bc0b_525400f5a505row12_col9\" class=\"data row12 col9\" >0.217499</td>\n",
       "                        <td id=\"T_69736aa4_e5c4_11ea_bc0b_525400f5a505row12_col10\" class=\"data row12 col10\" >0.238440</td>\n",
       "                        <td id=\"T_69736aa4_e5c4_11ea_bc0b_525400f5a505row12_col11\" class=\"data row12 col11\" >0.147819</td>\n",
       "                        <td id=\"T_69736aa4_e5c4_11ea_bc0b_525400f5a505row12_col12\" class=\"data row12 col12\" >1.000000</td>\n",
       "                        <td id=\"T_69736aa4_e5c4_11ea_bc0b_525400f5a505row12_col13\" class=\"data row12 col13\" >0.031269</td>\n",
       "                        <td id=\"T_69736aa4_e5c4_11ea_bc0b_525400f5a505row12_col14\" class=\"data row12 col14\" >0.064591</td>\n",
       "                        <td id=\"T_69736aa4_e5c4_11ea_bc0b_525400f5a505row12_col15\" class=\"data row12 col15\" >-0.055531</td>\n",
       "                        <td id=\"T_69736aa4_e5c4_11ea_bc0b_525400f5a505row12_col16\" class=\"data row12 col16\" >0.491886</td>\n",
       "            </tr>\n",
       "            <tr>\n",
       "                        <th id=\"T_69736aa4_e5c4_11ea_bc0b_525400f5a505level0_row13\" class=\"row_heading level0 row13\" >Information_campaigns</th>\n",
       "                        <td id=\"T_69736aa4_e5c4_11ea_bc0b_525400f5a505row13_col0\" class=\"data row13 col0\" >0.015324</td>\n",
       "                        <td id=\"T_69736aa4_e5c4_11ea_bc0b_525400f5a505row13_col1\" class=\"data row13 col1\" >0.022328</td>\n",
       "                        <td id=\"T_69736aa4_e5c4_11ea_bc0b_525400f5a505row13_col2\" class=\"data row13 col2\" >-0.093976</td>\n",
       "                        <td id=\"T_69736aa4_e5c4_11ea_bc0b_525400f5a505row13_col3\" class=\"data row13 col3\" >-0.133175</td>\n",
       "                        <td id=\"T_69736aa4_e5c4_11ea_bc0b_525400f5a505row13_col4\" class=\"data row13 col4\" >-0.170693</td>\n",
       "                        <td id=\"T_69736aa4_e5c4_11ea_bc0b_525400f5a505row13_col5\" class=\"data row13 col5\" >-0.059256</td>\n",
       "                        <td id=\"T_69736aa4_e5c4_11ea_bc0b_525400f5a505row13_col6\" class=\"data row13 col6\" >-0.020059</td>\n",
       "                        <td id=\"T_69736aa4_e5c4_11ea_bc0b_525400f5a505row13_col7\" class=\"data row13 col7\" >-0.022437</td>\n",
       "                        <td id=\"T_69736aa4_e5c4_11ea_bc0b_525400f5a505row13_col8\" class=\"data row13 col8\" >0.064803</td>\n",
       "                        <td id=\"T_69736aa4_e5c4_11ea_bc0b_525400f5a505row13_col9\" class=\"data row13 col9\" >-0.122424</td>\n",
       "                        <td id=\"T_69736aa4_e5c4_11ea_bc0b_525400f5a505row13_col10\" class=\"data row13 col10\" >0.054378</td>\n",
       "                        <td id=\"T_69736aa4_e5c4_11ea_bc0b_525400f5a505row13_col11\" class=\"data row13 col11\" >-0.047241</td>\n",
       "                        <td id=\"T_69736aa4_e5c4_11ea_bc0b_525400f5a505row13_col12\" class=\"data row13 col12\" >0.031269</td>\n",
       "                        <td id=\"T_69736aa4_e5c4_11ea_bc0b_525400f5a505row13_col13\" class=\"data row13 col13\" >1.000000</td>\n",
       "                        <td id=\"T_69736aa4_e5c4_11ea_bc0b_525400f5a505row13_col14\" class=\"data row13 col14\" >0.139761</td>\n",
       "                        <td id=\"T_69736aa4_e5c4_11ea_bc0b_525400f5a505row13_col15\" class=\"data row13 col15\" >0.165546</td>\n",
       "                        <td id=\"T_69736aa4_e5c4_11ea_bc0b_525400f5a505row13_col16\" class=\"data row13 col16\" >-0.010092</td>\n",
       "            </tr>\n",
       "            <tr>\n",
       "                        <th id=\"T_69736aa4_e5c4_11ea_bc0b_525400f5a505level0_row14\" class=\"row_heading level0 row14\" >Testing_policy</th>\n",
       "                        <td id=\"T_69736aa4_e5c4_11ea_bc0b_525400f5a505row14_col0\" class=\"data row14 col0\" >-0.242396</td>\n",
       "                        <td id=\"T_69736aa4_e5c4_11ea_bc0b_525400f5a505row14_col1\" class=\"data row14 col1\" >-0.561251</td>\n",
       "                        <td id=\"T_69736aa4_e5c4_11ea_bc0b_525400f5a505row14_col2\" class=\"data row14 col2\" >-0.563804</td>\n",
       "                        <td id=\"T_69736aa4_e5c4_11ea_bc0b_525400f5a505row14_col3\" class=\"data row14 col3\" >-0.319317</td>\n",
       "                        <td id=\"T_69736aa4_e5c4_11ea_bc0b_525400f5a505row14_col4\" class=\"data row14 col4\" >-0.212444</td>\n",
       "                        <td id=\"T_69736aa4_e5c4_11ea_bc0b_525400f5a505row14_col5\" class=\"data row14 col5\" >-0.044212</td>\n",
       "                        <td id=\"T_69736aa4_e5c4_11ea_bc0b_525400f5a505row14_col6\" class=\"data row14 col6\" >-0.123016</td>\n",
       "                        <td id=\"T_69736aa4_e5c4_11ea_bc0b_525400f5a505row14_col7\" class=\"data row14 col7\" >0.124352</td>\n",
       "                        <td id=\"T_69736aa4_e5c4_11ea_bc0b_525400f5a505row14_col8\" class=\"data row14 col8\" >0.296080</td>\n",
       "                        <td id=\"T_69736aa4_e5c4_11ea_bc0b_525400f5a505row14_col9\" class=\"data row14 col9\" >0.279852</td>\n",
       "                        <td id=\"T_69736aa4_e5c4_11ea_bc0b_525400f5a505row14_col10\" class=\"data row14 col10\" >0.393474</td>\n",
       "                        <td id=\"T_69736aa4_e5c4_11ea_bc0b_525400f5a505row14_col11\" class=\"data row14 col11\" >0.312278</td>\n",
       "                        <td id=\"T_69736aa4_e5c4_11ea_bc0b_525400f5a505row14_col12\" class=\"data row14 col12\" >0.064591</td>\n",
       "                        <td id=\"T_69736aa4_e5c4_11ea_bc0b_525400f5a505row14_col13\" class=\"data row14 col13\" >0.139761</td>\n",
       "                        <td id=\"T_69736aa4_e5c4_11ea_bc0b_525400f5a505row14_col14\" class=\"data row14 col14\" >1.000000</td>\n",
       "                        <td id=\"T_69736aa4_e5c4_11ea_bc0b_525400f5a505row14_col15\" class=\"data row14 col15\" >0.651882</td>\n",
       "                        <td id=\"T_69736aa4_e5c4_11ea_bc0b_525400f5a505row14_col16\" class=\"data row14 col16\" >-0.026630</td>\n",
       "            </tr>\n",
       "            <tr>\n",
       "                        <th id=\"T_69736aa4_e5c4_11ea_bc0b_525400f5a505level0_row15\" class=\"row_heading level0 row15\" >Contact_tracing</th>\n",
       "                        <td id=\"T_69736aa4_e5c4_11ea_bc0b_525400f5a505row15_col0\" class=\"data row15 col0\" >-0.138012</td>\n",
       "                        <td id=\"T_69736aa4_e5c4_11ea_bc0b_525400f5a505row15_col1\" class=\"data row15 col1\" >-0.384076</td>\n",
       "                        <td id=\"T_69736aa4_e5c4_11ea_bc0b_525400f5a505row15_col2\" class=\"data row15 col2\" >-0.436996</td>\n",
       "                        <td id=\"T_69736aa4_e5c4_11ea_bc0b_525400f5a505row15_col3\" class=\"data row15 col3\" >-0.312163</td>\n",
       "                        <td id=\"T_69736aa4_e5c4_11ea_bc0b_525400f5a505row15_col4\" class=\"data row15 col4\" >-0.052771</td>\n",
       "                        <td id=\"T_69736aa4_e5c4_11ea_bc0b_525400f5a505row15_col5\" class=\"data row15 col5\" >-0.248182</td>\n",
       "                        <td id=\"T_69736aa4_e5c4_11ea_bc0b_525400f5a505row15_col6\" class=\"data row15 col6\" >-0.392944</td>\n",
       "                        <td id=\"T_69736aa4_e5c4_11ea_bc0b_525400f5a505row15_col7\" class=\"data row15 col7\" >-0.077475</td>\n",
       "                        <td id=\"T_69736aa4_e5c4_11ea_bc0b_525400f5a505row15_col8\" class=\"data row15 col8\" >-0.091497</td>\n",
       "                        <td id=\"T_69736aa4_e5c4_11ea_bc0b_525400f5a505row15_col9\" class=\"data row15 col9\" >-0.160626</td>\n",
       "                        <td id=\"T_69736aa4_e5c4_11ea_bc0b_525400f5a505row15_col10\" class=\"data row15 col10\" >-0.081537</td>\n",
       "                        <td id=\"T_69736aa4_e5c4_11ea_bc0b_525400f5a505row15_col11\" class=\"data row15 col11\" >-0.164307</td>\n",
       "                        <td id=\"T_69736aa4_e5c4_11ea_bc0b_525400f5a505row15_col12\" class=\"data row15 col12\" >-0.055531</td>\n",
       "                        <td id=\"T_69736aa4_e5c4_11ea_bc0b_525400f5a505row15_col13\" class=\"data row15 col13\" >0.165546</td>\n",
       "                        <td id=\"T_69736aa4_e5c4_11ea_bc0b_525400f5a505row15_col14\" class=\"data row15 col14\" >0.651882</td>\n",
       "                        <td id=\"T_69736aa4_e5c4_11ea_bc0b_525400f5a505row15_col15\" class=\"data row15 col15\" >1.000000</td>\n",
       "                        <td id=\"T_69736aa4_e5c4_11ea_bc0b_525400f5a505row15_col16\" class=\"data row15 col16\" >-0.372422</td>\n",
       "            </tr>\n",
       "            <tr>\n",
       "                        <th id=\"T_69736aa4_e5c4_11ea_bc0b_525400f5a505level0_row16\" class=\"row_heading level0 row16\" >Stringency_index</th>\n",
       "                        <td id=\"T_69736aa4_e5c4_11ea_bc0b_525400f5a505row16_col0\" class=\"data row16 col0\" >-0.128432</td>\n",
       "                        <td id=\"T_69736aa4_e5c4_11ea_bc0b_525400f5a505row16_col1\" class=\"data row16 col1\" >0.277485</td>\n",
       "                        <td id=\"T_69736aa4_e5c4_11ea_bc0b_525400f5a505row16_col2\" class=\"data row16 col2\" >0.472858</td>\n",
       "                        <td id=\"T_69736aa4_e5c4_11ea_bc0b_525400f5a505row16_col3\" class=\"data row16 col3\" >0.141434</td>\n",
       "                        <td id=\"T_69736aa4_e5c4_11ea_bc0b_525400f5a505row16_col4\" class=\"data row16 col4\" >-0.060788</td>\n",
       "                        <td id=\"T_69736aa4_e5c4_11ea_bc0b_525400f5a505row16_col5\" class=\"data row16 col5\" >0.643170</td>\n",
       "                        <td id=\"T_69736aa4_e5c4_11ea_bc0b_525400f5a505row16_col6\" class=\"data row16 col6\" >0.810067</td>\n",
       "                        <td id=\"T_69736aa4_e5c4_11ea_bc0b_525400f5a505row16_col7\" class=\"data row16 col7\" >0.551127</td>\n",
       "                        <td id=\"T_69736aa4_e5c4_11ea_bc0b_525400f5a505row16_col8\" class=\"data row16 col8\" >0.608251</td>\n",
       "                        <td id=\"T_69736aa4_e5c4_11ea_bc0b_525400f5a505row16_col9\" class=\"data row16 col9\" >0.761174</td>\n",
       "                        <td id=\"T_69736aa4_e5c4_11ea_bc0b_525400f5a505row16_col10\" class=\"data row16 col10\" >0.753043</td>\n",
       "                        <td id=\"T_69736aa4_e5c4_11ea_bc0b_525400f5a505row16_col11\" class=\"data row16 col11\" >0.665122</td>\n",
       "                        <td id=\"T_69736aa4_e5c4_11ea_bc0b_525400f5a505row16_col12\" class=\"data row16 col12\" >0.491886</td>\n",
       "                        <td id=\"T_69736aa4_e5c4_11ea_bc0b_525400f5a505row16_col13\" class=\"data row16 col13\" >-0.010092</td>\n",
       "                        <td id=\"T_69736aa4_e5c4_11ea_bc0b_525400f5a505row16_col14\" class=\"data row16 col14\" >-0.026630</td>\n",
       "                        <td id=\"T_69736aa4_e5c4_11ea_bc0b_525400f5a505row16_col15\" class=\"data row16 col15\" >-0.372422</td>\n",
       "                        <td id=\"T_69736aa4_e5c4_11ea_bc0b_525400f5a505row16_col16\" class=\"data row16 col16\" >1.000000</td>\n",
       "            </tr>\n",
       "    </tbody></table>"
      ],
      "text/plain": [
       "<pandas.io.formats.style.Styler at 0x7fcfcc817160>"
      ]
     },
     "execution_count": 21,
     "metadata": {},
     "output_type": "execute_result"
    }
   ],
   "source": [
    "# Correlation\n",
    "df = track_df.copy()\n",
    "df.corr().style.background_gradient(axis=None)"
   ]
  },
  {
   "cell_type": "code",
   "execution_count": 22,
   "metadata": {
    "collapsed": false
   },
   "outputs": [
    {
     "data": {
      "image/png": "[encoded data removed]",
      "text/plain": [
       "<Figure size 432x288 with 1 Axes>"
      ]
     },
     "metadata": {},
     "output_type": "display_data"
    }
   ],
   "source": [
    "# Scatter plot of Stringency index and Rt\n",
    "df = track_df.copy()\n",
    "sns.scatterplot(data=df, x=\"Stringency_index\", y=\"Rt\", hue=\"Country\", legend=\"brief\", marker=\"+\")\n",
    "bbox_to_anchor=(1.02, 0)\n",
    "bbox_loc=\"lower left\"\n",
    "plt.legend(bbox_to_anchor=bbox_to_anchor, loc=bbox_loc, borderaxespad=0)\n",
    "plt.title(\"Relationship of Stringency index and reproduction number\")\n",
    "plt.ylabel(\"Reproduction number\")\n",
    "plt.xlabel(\"Stringency index\")\n",
    "plt.show()"
   ]
  }
 ],
 "metadata": {
  "kernelspec": {
   "display_name": "Python 3.8.2 64-bit ('.venv': venv)",
   "name": "python_defaultSpec_1597669925034"
  },
  "language_info": {
   "codemirror_mode": {
    "name": "ipython",
    "version": 3
   },
   "file_extension": ".py",
   "mimetype": "text/x-python",
   "name": "python",
   "nbconvert_exporter": "python",
   "pygments_lexer": "ipython3",
   "version": "3.8.2-final"
  }
 },
 "nbformat": 4,
 "nbformat_minor": 4
}
