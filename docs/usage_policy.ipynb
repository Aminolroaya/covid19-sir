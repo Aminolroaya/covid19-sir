{
 "cells": [
  {
   "cell_type": "markdown",
   "metadata": {},
   "source": [
    "# Usage (details: policy measures)\n",
    "Here, we will analyse the relationship of policy measures and parameter values of SIR-derived ODE models. Policy measures are tracked by [Oxford Covid-19 Government Response Tracker (OxCGRT)](https://github.com/OxCGRT/covid-policy-tracker)."
   ]
  },
  {
   "cell_type": "markdown",
   "metadata": {},
   "source": [
    "## Preparation"
   ]
  },
  {
   "cell_type": "code",
   "execution_count": 1,
   "metadata": {
    "collapsed": false
   },
   "outputs": [],
   "source": [
    "# Standard users\n",
    "# !pip install covsirphy\n",
    "# Developers (Note: this notebook is in example directory)\n",
    "import os\n",
    "os.chdir(\"../\")"
   ]
  },
  {
   "cell_type": "code",
   "execution_count": 2,
   "metadata": {
    "collapsed": false
   },
   "outputs": [],
   "source": [
    "from pprint import pprint"
   ]
  },
  {
   "cell_type": "code",
   "execution_count": 3,
   "metadata": {
    "collapsed": false
   },
   "outputs": [
    {
     "data": {
      "text/plain": [
       "'2.10.0-alpha.refactor.291'"
      ]
     },
     "execution_count": 3,
     "metadata": {},
     "output_type": "execute_result"
    }
   ],
   "source": [
    "import covsirphy as cs\n",
    "cs.__version__"
   ]
  },
  {
   "cell_type": "code",
   "execution_count": 4,
   "metadata": {
    "collapsed": false,
    "tags": []
   },
   "outputs": [
    {
     "name": "stdout",
     "output_type": "stream",
     "text": [
      "(Secondary source) Guidotti, E., Ardia, D., (2020), \"COVID-19 Data Hub\", Journal of Open Source Software 5(51):2376, doi: 10.21105/joss.02376.\n"
     ]
    }
   ],
   "source": [
    "# Standard users and developers\n",
    "data_loader = cs.DataLoader(\"input\")\n",
    "# The number of cases (JHU style)\n",
    "jhu_data = data_loader.jhu(verbose=False)\n",
    "# Population in each country\n",
    "population_data = data_loader.population(verbose=False)\n",
    "# Government Response Tracker (OxCGRT)\n",
    "oxcgrt_data = data_loader.oxcgrt(verbose=False)\n",
    "# Description/citation\n",
    "print(oxcgrt_data.citation)"
   ]
  },
  {
   "cell_type": "markdown",
   "metadata": {},
   "source": [
    "## Class for policy measure analysis\n",
    "We will `PolicyMeasures` class to find relationship of policy measures and parameter values of SIR-derived ODE models."
   ]
  },
  {
   "cell_type": "code",
   "execution_count": 5,
   "metadata": {
    "collapsed": false,
    "tags": []
   },
   "outputs": [
    {
     "data": {
      "text/plain": [
       "184"
      ]
     },
     "execution_count": 5,
     "metadata": {},
     "output_type": "execute_result"
    }
   ],
   "source": [
    "# Create analyser with tau value 360 [min] (can be changed)\n",
    "analyser = cs.PolicyMeasures(jhu_data, population_data, oxcgrt_data, tau=360)\n",
    "# The number of registerd countries\n",
    "len(analyser.countries)"
   ]
  },
  {
   "cell_type": "code",
   "execution_count": 6,
   "metadata": {
    "collapsed": false
   },
   "outputs": [
    {
     "data": {
      "text/plain": [
       "covsirphy.analysis.scenario.Scenario"
      ]
     },
     "execution_count": 6,
     "metadata": {},
     "output_type": "execute_result"
    }
   ],
   "source": [
    "# We can get Scenario instance for detailed scenario analysis\n",
    "type(analyser.scenario(\"Japan\"))"
   ]
  },
  {
   "cell_type": "markdown",
   "metadata": {},
   "source": [
    "## Set phases with S-R trend analysis\n",
    "We will perform S-R trend analysis to set phases in all countries. Countries which do not have **14th phases** will be un-registered for the next analysis. This number will be adjusted for your analysis."
   ]
  },
  {
   "cell_type": "code",
   "execution_count": 7,
   "metadata": {
    "collapsed": false
   },
   "outputs": [
    {
     "name": "stdout",
     "output_type": "stream",
     "text": [
      "{4: ['Holy See'],\n",
      " 5: ['Fiji', 'Tanzania', 'Liechtenstein'],\n",
      " 6: ['Slovenia', 'Brunei', 'Grenada', 'Papua New Guinea'],\n",
      " 7: ['Croatia', 'Andorra', 'Saint Lucia', 'Central African Republic', 'Ireland',\n",
      "     'Jordan', 'Antigua and Barbuda', 'Tunisia', 'Georgia', 'Myanmar',\n",
      "     'Czech Republic', 'Cambodia', 'Slovakia', 'Switzerland', 'Angola',\n",
      "     'Lithuania', 'Sri Lanka', 'Botswana', 'Monaco', 'Poland'],\n",
      " 8: ['Malaysia', 'Eritrea', 'Nicaragua', 'Saint Vincent and the Grenadines',\n",
      "     'Dominica', 'Equatorial Guinea', 'Cameroon', 'Spain', 'Yemen', 'Iceland',\n",
      "     'Hungary', 'Seychelles', 'Sao Tome and Principe', 'Cyprus', 'Madagascar',\n",
      "     'Mongolia', 'Guinea-Bissau'],\n",
      " 9: ['Malawi', 'Rwanda', 'Gambia', 'Burkina Faso', 'Zambia', 'Tajikistan',\n",
      "     'Jamaica', 'Zimbabwe', 'Nepal', 'Romania', 'Malta', 'Trinidad and Tobago',\n",
      "     'Djibouti', 'Kazakhstan', 'Burundi', 'Israel', 'South Sudan', 'Portugal'],\n",
      " 10: ['Niger', 'Chile', 'Ecuador', 'Comoros', 'Namibia', 'Australia', 'Austria',\n",
      "      'Chad', 'Greece', 'Mozambique', 'Luxembourg', 'Bermuda', 'New Zealand',\n",
      "      'Senegal', 'Kyrgyzstan', 'Montenegro', 'Belize', 'Bhutan', 'China',\n",
      "      'Uganda', 'Bahamas', 'Libya', 'Guyana', 'Cuba', 'Ghana', 'Benin',\n",
      "      'Barbados', 'Lesotho', 'Uruguay', 'Lebanon', 'Bulgaria', 'Venezuela'],\n",
      " 11: ['Mauritius', 'Kenya', 'Suriname', 'Denmark', 'Vietnam', 'Ukraine',\n",
      "      'Korea, South', 'Serbia', 'Afghanistan', 'Mauritania', 'Sierra Leone',\n",
      "      'Mali', 'Guatemala', 'Morocco', 'Thailand', 'South Africa',\n",
      "      'North Macedonia', 'Ethiopia', 'Sudan', 'Syria', 'Costa Rica', 'Paraguay',\n",
      "      'Algeria', 'Saudi Arabia'],\n",
      " 12: ['Nigeria', 'Liberia', 'Finland', 'Estonia', 'Haiti', 'Moldova', 'Brazil',\n",
      "      'Congo', 'Mexico', 'Italy', 'Panama', 'Bahrain', 'Albania', 'Philippines',\n",
      "      'Togo', 'Qatar', 'Iraq', 'Peru', 'Gabon', 'Cape Verde', 'Belgium',\n",
      "      'Maldives', 'India', 'Dominican Republic', 'Indonesia', 'Uzbekistan',\n",
      "      'Palestine', 'Colombia', 'Bosnia and Herzegovina', 'Argentina', 'Armenia',\n",
      "      'Singapore', 'United States', 'Taiwan'],\n",
      " 13: ['Germany', 'Guinea', 'Bangladesh', 'Oman', 'Japan', 'Canada',\n",
      "      'San Marino', 'Swaziland', 'Bolivia', 'Turkey', 'Norway', 'Azerbaijan',\n",
      "      'Iran', 'Kosovo', 'El Salvador', 'Kuwait', 'United Arab Emirates',\n",
      "      'Pakistan'],\n",
      " 14: ['Honduras', 'Somalia', 'France', 'Latvia', 'Russia'],\n",
      " 15: ['Egypt', 'Belarus']}\n"
     ]
    }
   ],
   "source": [
    "# Show the number of phases of all countries\n",
    "analyser.trend()\n",
    "pprint(analyser.phase_len(), compact=True)"
   ]
  },
  {
   "cell_type": "code",
   "execution_count": 8,
   "metadata": {
    "collapsed": false
   },
   "outputs": [
    {
     "data": {
      "text/plain": [
       "7"
      ]
     },
     "execution_count": 8,
     "metadata": {},
     "output_type": "execute_result"
    }
   ],
   "source": [
    "# Set phases with S-R trend analysis\n",
    "analyser.trend(min_len=14)\n",
    "# The number of countries\n",
    "len(analyser.countries)"
   ]
  },
  {
   "cell_type": "code",
   "execution_count": 9,
   "metadata": {
    "collapsed": false,
    "tags": []
   },
   "outputs": [
    {
     "name": "stdout",
     "output_type": "stream",
     "text": [
      "{14: ['Honduras', 'Somalia', 'France', 'Latvia', 'Russia'],\n",
      " 15: ['Egypt', 'Belarus']}\n"
     ]
    }
   ],
   "source": [
    "phase_len_dict = analyser.phase_len()\n",
    "pprint(phase_len_dict, compact=True)"
   ]
  },
  {
   "cell_type": "code",
   "execution_count": 10,
   "metadata": {
    "collapsed": false,
    "tags": []
   },
   "outputs": [
    {
     "data": {
      "text/html": [
       "<div>\n",
       "<style scoped>\n",
       "    .dataframe tbody tr th:only-of-type {\n",
       "        vertical-align: middle;\n",
       "    }\n",
       "\n",
       "    .dataframe tbody tr th {\n",
       "        vertical-align: top;\n",
       "    }\n",
       "\n",
       "    .dataframe thead th {\n",
       "        text-align: right;\n",
       "    }\n",
       "</style>\n",
       "<table border=\"1\" class=\"dataframe\">\n",
       "  <thead>\n",
       "    <tr style=\"text-align: right;\">\n",
       "      <th></th>\n",
       "      <th></th>\n",
       "      <th>Type</th>\n",
       "      <th>Start</th>\n",
       "      <th>End</th>\n",
       "      <th>Population</th>\n",
       "    </tr>\n",
       "    <tr>\n",
       "      <th>Country</th>\n",
       "      <th>Phase</th>\n",
       "      <th></th>\n",
       "      <th></th>\n",
       "      <th></th>\n",
       "      <th></th>\n",
       "    </tr>\n",
       "  </thead>\n",
       "  <tbody>\n",
       "    <tr>\n",
       "      <th rowspan=\"15\" valign=\"top\">Egypt</th>\n",
       "      <th>0th</th>\n",
       "      <td>Past</td>\n",
       "      <td>28Feb2020</td>\n",
       "      <td>02May2020</td>\n",
       "      <td>98423595</td>\n",
       "    </tr>\n",
       "    <tr>\n",
       "      <th>1st</th>\n",
       "      <td>Past</td>\n",
       "      <td>03May2020</td>\n",
       "      <td>17May2020</td>\n",
       "      <td>98423595</td>\n",
       "    </tr>\n",
       "    <tr>\n",
       "      <th>2nd</th>\n",
       "      <td>Past</td>\n",
       "      <td>18May2020</td>\n",
       "      <td>28May2020</td>\n",
       "      <td>98423595</td>\n",
       "    </tr>\n",
       "    <tr>\n",
       "      <th>3rd</th>\n",
       "      <td>Past</td>\n",
       "      <td>29May2020</td>\n",
       "      <td>07Jun2020</td>\n",
       "      <td>98423595</td>\n",
       "    </tr>\n",
       "    <tr>\n",
       "      <th>4th</th>\n",
       "      <td>Past</td>\n",
       "      <td>08Jun2020</td>\n",
       "      <td>17Jun2020</td>\n",
       "      <td>98423595</td>\n",
       "    </tr>\n",
       "    <tr>\n",
       "      <th>5th</th>\n",
       "      <td>Past</td>\n",
       "      <td>18Jun2020</td>\n",
       "      <td>27Jun2020</td>\n",
       "      <td>98423595</td>\n",
       "    </tr>\n",
       "    <tr>\n",
       "      <th>6th</th>\n",
       "      <td>Past</td>\n",
       "      <td>28Jun2020</td>\n",
       "      <td>06Jul2020</td>\n",
       "      <td>98423595</td>\n",
       "    </tr>\n",
       "    <tr>\n",
       "      <th>7th</th>\n",
       "      <td>Past</td>\n",
       "      <td>07Jul2020</td>\n",
       "      <td>16Jul2020</td>\n",
       "      <td>98423595</td>\n",
       "    </tr>\n",
       "    <tr>\n",
       "      <th>8th</th>\n",
       "      <td>Past</td>\n",
       "      <td>17Jul2020</td>\n",
       "      <td>22Jul2020</td>\n",
       "      <td>98423595</td>\n",
       "    </tr>\n",
       "    <tr>\n",
       "      <th>9th</th>\n",
       "      <td>Past</td>\n",
       "      <td>23Jul2020</td>\n",
       "      <td>28Jul2020</td>\n",
       "      <td>98423595</td>\n",
       "    </tr>\n",
       "    <tr>\n",
       "      <th>10th</th>\n",
       "      <td>Past</td>\n",
       "      <td>29Jul2020</td>\n",
       "      <td>11Aug2020</td>\n",
       "      <td>98423595</td>\n",
       "    </tr>\n",
       "    <tr>\n",
       "      <th>11th</th>\n",
       "      <td>Past</td>\n",
       "      <td>12Aug2020</td>\n",
       "      <td>27Aug2020</td>\n",
       "      <td>98423595</td>\n",
       "    </tr>\n",
       "    <tr>\n",
       "      <th>12th</th>\n",
       "      <td>Past</td>\n",
       "      <td>28Aug2020</td>\n",
       "      <td>12Sep2020</td>\n",
       "      <td>98423595</td>\n",
       "    </tr>\n",
       "    <tr>\n",
       "      <th>13th</th>\n",
       "      <td>Past</td>\n",
       "      <td>13Sep2020</td>\n",
       "      <td>04Oct2020</td>\n",
       "      <td>98423595</td>\n",
       "    </tr>\n",
       "    <tr>\n",
       "      <th>14th</th>\n",
       "      <td>Past</td>\n",
       "      <td>05Oct2020</td>\n",
       "      <td>05Nov2020</td>\n",
       "      <td>98423595</td>\n",
       "    </tr>\n",
       "    <tr>\n",
       "      <th rowspan=\"15\" valign=\"top\">Belarus</th>\n",
       "      <th>0th</th>\n",
       "      <td>Past</td>\n",
       "      <td>09Mar2020</td>\n",
       "      <td>26Apr2020</td>\n",
       "      <td>9483499</td>\n",
       "    </tr>\n",
       "    <tr>\n",
       "      <th>1st</th>\n",
       "      <td>Past</td>\n",
       "      <td>27Apr2020</td>\n",
       "      <td>08May2020</td>\n",
       "      <td>9483499</td>\n",
       "    </tr>\n",
       "    <tr>\n",
       "      <th>2nd</th>\n",
       "      <td>Past</td>\n",
       "      <td>09May2020</td>\n",
       "      <td>16May2020</td>\n",
       "      <td>9483499</td>\n",
       "    </tr>\n",
       "    <tr>\n",
       "      <th>3rd</th>\n",
       "      <td>Past</td>\n",
       "      <td>17May2020</td>\n",
       "      <td>23May2020</td>\n",
       "      <td>9483499</td>\n",
       "    </tr>\n",
       "    <tr>\n",
       "      <th>4th</th>\n",
       "      <td>Past</td>\n",
       "      <td>24May2020</td>\n",
       "      <td>30May2020</td>\n",
       "      <td>9483499</td>\n",
       "    </tr>\n",
       "    <tr>\n",
       "      <th>5th</th>\n",
       "      <td>Past</td>\n",
       "      <td>31May2020</td>\n",
       "      <td>06Jun2020</td>\n",
       "      <td>9483499</td>\n",
       "    </tr>\n",
       "    <tr>\n",
       "      <th>6th</th>\n",
       "      <td>Past</td>\n",
       "      <td>07Jun2020</td>\n",
       "      <td>13Jun2020</td>\n",
       "      <td>9483499</td>\n",
       "    </tr>\n",
       "    <tr>\n",
       "      <th>7th</th>\n",
       "      <td>Past</td>\n",
       "      <td>14Jun2020</td>\n",
       "      <td>20Jun2020</td>\n",
       "      <td>9483499</td>\n",
       "    </tr>\n",
       "    <tr>\n",
       "      <th>8th</th>\n",
       "      <td>Past</td>\n",
       "      <td>21Jun2020</td>\n",
       "      <td>03Jul2020</td>\n",
       "      <td>9483499</td>\n",
       "    </tr>\n",
       "    <tr>\n",
       "      <th>9th</th>\n",
       "      <td>Past</td>\n",
       "      <td>04Jul2020</td>\n",
       "      <td>30Jul2020</td>\n",
       "      <td>9483499</td>\n",
       "    </tr>\n",
       "    <tr>\n",
       "      <th>10th</th>\n",
       "      <td>Past</td>\n",
       "      <td>31Jul2020</td>\n",
       "      <td>07Sep2020</td>\n",
       "      <td>9483499</td>\n",
       "    </tr>\n",
       "    <tr>\n",
       "      <th>11th</th>\n",
       "      <td>Past</td>\n",
       "      <td>08Sep2020</td>\n",
       "      <td>02Oct2020</td>\n",
       "      <td>9483499</td>\n",
       "    </tr>\n",
       "    <tr>\n",
       "      <th>12th</th>\n",
       "      <td>Past</td>\n",
       "      <td>03Oct2020</td>\n",
       "      <td>16Oct2020</td>\n",
       "      <td>9483499</td>\n",
       "    </tr>\n",
       "    <tr>\n",
       "      <th>13th</th>\n",
       "      <td>Past</td>\n",
       "      <td>17Oct2020</td>\n",
       "      <td>25Oct2020</td>\n",
       "      <td>9483499</td>\n",
       "    </tr>\n",
       "    <tr>\n",
       "      <th>14th</th>\n",
       "      <td>Past</td>\n",
       "      <td>26Oct2020</td>\n",
       "      <td>05Nov2020</td>\n",
       "      <td>9483499</td>\n",
       "    </tr>\n",
       "  </tbody>\n",
       "</table>\n",
       "</div>"
      ],
      "text/plain": [
       "               Type      Start        End  Population\n",
       "Country Phase                                        \n",
       "Egypt   0th    Past  28Feb2020  02May2020    98423595\n",
       "        1st    Past  03May2020  17May2020    98423595\n",
       "        2nd    Past  18May2020  28May2020    98423595\n",
       "        3rd    Past  29May2020  07Jun2020    98423595\n",
       "        4th    Past  08Jun2020  17Jun2020    98423595\n",
       "        5th    Past  18Jun2020  27Jun2020    98423595\n",
       "        6th    Past  28Jun2020  06Jul2020    98423595\n",
       "        7th    Past  07Jul2020  16Jul2020    98423595\n",
       "        8th    Past  17Jul2020  22Jul2020    98423595\n",
       "        9th    Past  23Jul2020  28Jul2020    98423595\n",
       "        10th   Past  29Jul2020  11Aug2020    98423595\n",
       "        11th   Past  12Aug2020  27Aug2020    98423595\n",
       "        12th   Past  28Aug2020  12Sep2020    98423595\n",
       "        13th   Past  13Sep2020  04Oct2020    98423595\n",
       "        14th   Past  05Oct2020  05Nov2020    98423595\n",
       "Belarus 0th    Past  09Mar2020  26Apr2020     9483499\n",
       "        1st    Past  27Apr2020  08May2020     9483499\n",
       "        2nd    Past  09May2020  16May2020     9483499\n",
       "        3rd    Past  17May2020  23May2020     9483499\n",
       "        4th    Past  24May2020  30May2020     9483499\n",
       "        5th    Past  31May2020  06Jun2020     9483499\n",
       "        6th    Past  07Jun2020  13Jun2020     9483499\n",
       "        7th    Past  14Jun2020  20Jun2020     9483499\n",
       "        8th    Past  21Jun2020  03Jul2020     9483499\n",
       "        9th    Past  04Jul2020  30Jul2020     9483499\n",
       "        10th   Past  31Jul2020  07Sep2020     9483499\n",
       "        11th   Past  08Sep2020  02Oct2020     9483499\n",
       "        12th   Past  03Oct2020  16Oct2020     9483499\n",
       "        13th   Past  17Oct2020  25Oct2020     9483499\n",
       "        14th   Past  26Oct2020  05Nov2020     9483499"
      ]
     },
     "execution_count": 10,
     "metadata": {},
     "output_type": "execute_result"
    }
   ],
   "source": [
    "# Here, only show the countries which have the most phases\n",
    "countries_show = max(phase_len_dict.items(), key=lambda x: x[0])[1]\n",
    "# Show summary\n",
    "analyser.summary(countries=countries_show)"
   ]
  },
  {
   "cell_type": "markdown",
   "metadata": {},
   "source": [
    "## Parameter estimation\n",
    "we will estimate the parameter values with SIR-derived ODE models in each country."
   ]
  },
  {
   "cell_type": "code",
   "execution_count": 11,
   "metadata": {
    "collapsed": false,
    "tags": []
   },
   "outputs": [
    {
     "name": "stdout",
     "output_type": "stream",
     "text": [
      "\n",
      "<SIR-F model: parameter estimation>\n",
      "Running optimization with 4 CPUs...\n"
     ]
    },
    {
     "name": "stdout",
     "output_type": "stream",
     "text": [
      "\tHND,  7th phase (31Aug2020 - 11Sep2020): finished 1310 trials in 1 min  0 sec"
     ]
    },
    {
     "name": "stdout",
     "output_type": "stream",
     "text": [
      "\n"
     ]
    },
    {
     "name": "stdout",
     "output_type": "stream",
     "text": [
      "\tRUS,  4th phase (13Jun2020 - 26Jun2020): finished 1343 trials in 1 min  0 sec"
     ]
    },
    {
     "name": "stdout",
     "output_type": "stream",
     "text": [
      "\n"
     ]
    },
    {
     "name": "stdout",
     "output_type": "stream",
     "text": [
      "\tHND, 12th phase (18Oct2020 - 25Oct2020): finished 1322 trials in 1 min  0 sec"
     ]
    },
    {
     "name": "stdout",
     "output_type": "stream",
     "text": [
      "\n"
     ]
    },
    {
     "name": "stdout",
     "output_type": "stream",
     "text": [
      "\tEGY,  4th phase (08Jun2020 - 17Jun2020): finished 1331 trials in 1 min  0 sec"
     ]
    },
    {
     "name": "stdout",
     "output_type": "stream",
     "text": [
      "\n"
     ]
    },
    {
     "name": "stdout",
     "output_type": "stream",
     "text": [
      "\tBLR,  8th phase (21Jun2020 - 03Jul2020): finished  959 trials in 0 min 40 sec"
     ]
    },
    {
     "name": "stdout",
     "output_type": "stream",
     "text": [
      "\n"
     ]
    },
    {
     "name": "stdout",
     "output_type": "stream",
     "text": [
      "\tHND,  3rd phase (15Jul2020 - 24Jul2020): finished  405 trials in 0 min 15 sec"
     ]
    },
    {
     "name": "stdout",
     "output_type": "stream",
     "text": [
      "\n"
     ]
    },
    {
     "name": "stdout",
     "output_type": "stream",
     "text": [
      "\tEGY,  1st phase (03May2020 - 17May2020): finished 1319 trials in 1 min  0 sec"
     ]
    },
    {
     "name": "stdout",
     "output_type": "stream",
     "text": [
      "\n"
     ]
    },
    {
     "name": "stdout",
     "output_type": "stream",
     "text": [
      "\tFRA,  1st phase (30Mar2020 - 09Apr2020): finished 1348 trials in 1 min  0 sec"
     ]
    },
    {
     "name": "stdout",
     "output_type": "stream",
     "text": [
      "\n"
     ]
    },
    {
     "name": "stdout",
     "output_type": "stream",
     "text": [
      "\tSOM,  5th phase (05Jun2020 - 10Jun2020): finished 1358 trials in 1 min  0 sec"
     ]
    },
    {
     "name": "stdout",
     "output_type": "stream",
     "text": [
      "\n"
     ]
    },
    {
     "name": "stdout",
     "output_type": "stream",
     "text": [
      "\tFRA, 10th phase (02Oct2020 - 08Oct2020): finished  531 trials in 0 min 20 sec"
     ]
    },
    {
     "name": "stdout",
     "output_type": "stream",
     "text": [
      "\n"
     ]
    },
    {
     "name": "stdout",
     "output_type": "stream",
     "text": [
      "\tSOM,  6th phase (11Jun2020 - 16Jun2020): finished 1038 trials in 0 min 45 sec"
     ]
    },
    {
     "name": "stdout",
     "output_type": "stream",
     "text": [
      "\n"
     ]
    },
    {
     "name": "stdout",
     "output_type": "stream",
     "text": [
      "\tBLR,  4th phase (24May2020 - 30May2020): finished  703 trials in 0 min 30 sec"
     ]
    },
    {
     "name": "stdout",
     "output_type": "stream",
     "text": [
      "\n"
     ]
    },
    {
     "name": "stdout",
     "output_type": "stream",
     "text": [
      "\tHND,  0th phase (28Mar2020 - 13Jun2020): finished 1254 trials in 1 min  0 sec"
     ]
    },
    {
     "name": "stdout",
     "output_type": "stream",
     "text": [
      "\n"
     ]
    },
    {
     "name": "stdout",
     "output_type": "stream",
     "text": [
      "\tHND,  4th phase (25Jul2020 - 05Aug2020): finished 1320 trials in 1 min  0 sec"
     ]
    },
    {
     "name": "stdout",
     "output_type": "stream",
     "text": [
      "\n"
     ]
    },
    {
     "name": "stdout",
     "output_type": "stream",
     "text": [
      "\tFRA, 11th phase (09Oct2020 - 16Oct2020): finished  552 trials in 0 min 20 sec"
     ]
    },
    {
     "name": "stdout",
     "output_type": "stream",
     "text": [
      "\n"
     ]
    },
    {
     "name": "stdout",
     "output_type": "stream",
     "text": [
      "\tFRA,  7th phase (11Sep2020 - 18Sep2020): finished  559 trials in 0 min 20 sec"
     ]
    },
    {
     "name": "stdout",
     "output_type": "stream",
     "text": [
      "\n"
     ]
    },
    {
     "name": "stdout",
     "output_type": "stream",
     "text": [
      "\tRUS,  1st phase (04May2020 - 17May2020): finished 1430 trials in 1 min  0 sec"
     ]
    },
    {
     "name": "stdout",
     "output_type": "stream",
     "text": [
      "\n"
     ]
    },
    {
     "name": "stdout",
     "output_type": "stream",
     "text": [
      "\tRUS,  9th phase (06Sep2020 - 25Sep2020): finished 1452 trials in 1 min  0 sec"
     ]
    },
    {
     "name": "stdout",
     "output_type": "stream",
     "text": [
      "\n"
     ]
    },
    {
     "name": "stdout",
     "output_type": "stream",
     "text": [
      "\tFRA,  8th phase (19Sep2020 - 24Sep2020): finished  192 trials in 0 min  5 sec"
     ]
    },
    {
     "name": "stdout",
     "output_type": "stream",
     "text": [
      "\n"
     ]
    },
    {
     "name": "stdout",
     "output_type": "stream",
     "text": [
      "\tLVA, 10th phase (18Sep2020 - 25Sep2020): finished 1729 trials in 1 min  0 sec"
     ]
    },
    {
     "name": "stdout",
     "output_type": "stream",
     "text": [
      "\n"
     ]
    },
    {
     "name": "stdout",
     "output_type": "stream",
     "text": [
      "\tSOM,  7th phase (17Jun2020 - 03Jul2020): finished 1310 trials in 0 min 50 sec"
     ]
    },
    {
     "name": "stdout",
     "output_type": "stream",
     "text": [
      "\n"
     ]
    },
    {
     "name": "stdout",
     "output_type": "stream",
     "text": [
      "\tHND,  1st phase (14Jun2020 - 29Jun2020): finished  594 trials in 0 min 20 sec"
     ]
    },
    {
     "name": "stdout",
     "output_type": "stream",
     "text": [
      "\n"
     ]
    },
    {
     "name": "stdout",
     "output_type": "stream",
     "text": [
      "\tHND,  5th phase (06Aug2020 - 20Aug2020): finished  577 trials in 0 min 20 sec"
     ]
    },
    {
     "name": "stdout",
     "output_type": "stream",
     "text": [
      "\n"
     ]
    },
    {
     "name": "stdout",
     "output_type": "stream",
     "text": [
      "\tLVA,  3rd phase (28Apr2020 - 06May2020): finished 1721 trials in 1 min  0 sec"
     ]
    },
    {
     "name": "stdout",
     "output_type": "stream",
     "text": [
      "\n"
     ]
    },
    {
     "name": "stdout",
     "output_type": "stream",
     "text": [
      "\tHND,  8th phase (12Sep2020 - 20Sep2020): finished  352 trials in 0 min 10 sec"
     ]
    },
    {
     "name": "stdout",
     "output_type": "stream",
     "text": [
      "\n"
     ]
    },
    {
     "name": "stdout",
     "output_type": "stream",
     "text": [
      "\tRUS,  6th phase (12Jul2020 - 26Jul2020): finished 1502 trials in 1 min  0 sec"
     ]
    },
    {
     "name": "stdout",
     "output_type": "stream",
     "text": [
      "\n"
     ]
    },
    {
     "name": "stdout",
     "output_type": "stream",
     "text": [
      "\tBLR,  6th phase (07Jun2020 - 13Jun2020): finished 1517 trials in 1 min  0 sec"
     ]
    },
    {
     "name": "stdout",
     "output_type": "stream",
     "text": [
      "\n"
     ]
    },
    {
     "name": "stdout",
     "output_type": "stream",
     "text": [
      "\tEGY, 12th phase (28Aug2020 - 12Sep2020): finished  422 trials in 0 min 15 sec"
     ]
    },
    {
     "name": "stdout",
     "output_type": "stream",
     "text": [
      "\n"
     ]
    },
    {
     "name": "stdout",
     "output_type": "stream",
     "text": [
      "\tFRA,  2nd phase (10Apr2020 - 25Apr2020): finished 1389 trials in 1 min  0 sec"
     ]
    },
    {
     "name": "stdout",
     "output_type": "stream",
     "text": [
      "\n"
     ]
    },
    {
     "name": "stdout",
     "output_type": "stream",
     "text": [
      "\tLVA,  0th phase (10Mar2020 - 06Apr2020): finished 1653 trials in 1 min  0 sec"
     ]
    },
    {
     "name": "stdout",
     "output_type": "stream",
     "text": [
      "\n"
     ]
    },
    {
     "name": "stdout",
     "output_type": "stream",
     "text": [
      "\tBLR, 12th phase (03Oct2020 - 16Oct2020): finished  291 trials in 0 min 10 sec"
     ]
    },
    {
     "name": "stdout",
     "output_type": "stream",
     "text": [
      "\n"
     ]
    },
    {
     "name": "stdout",
     "output_type": "stream",
     "text": [
      "\tFRA,  9th phase (25Sep2020 - 01Oct2020): finished  424 trials in 0 min 15 sec"
     ]
    },
    {
     "name": "stdout",
     "output_type": "stream",
     "text": [
      "\n"
     ]
    },
    {
     "name": "stdout",
     "output_type": "stream",
     "text": [
      "\tSOM, 13th phase (24Oct2020 - 05Nov2020): finished 1833 trials in 1 min  0 sec"
     ]
    },
    {
     "name": "stdout",
     "output_type": "stream",
     "text": [
      "\n"
     ]
    },
    {
     "name": "stdout",
     "output_type": "stream",
     "text": [
      "\tEGY,  5th phase (18Jun2020 - 27Jun2020): finished  169 trials in 0 min  5 sec"
     ]
    },
    {
     "name": "stdout",
     "output_type": "stream",
     "text": [
      "\n"
     ]
    },
    {
     "name": "stdout",
     "output_type": "stream",
     "text": [
      "\tSOM,  0th phase (31Mar2020 - 03May2020): finished 1315 trials in 1 min  0 sec"
     ]
    },
    {
     "name": "stdout",
     "output_type": "stream",
     "text": [
      "\n"
     ]
    },
    {
     "name": "stdout",
     "output_type": "stream",
     "text": [
      "\tRUS,  7th phase (27Jul2020 - 14Aug2020): finished 1221 trials in 1 min  0 sec"
     ]
    },
    {
     "name": "stdout",
     "output_type": "stream",
     "text": [
      "\n"
     ]
    },
    {
     "name": "stdout",
     "output_type": "stream",
     "text": [
      "\tLVA,  7th phase (09Jul2020 - 05Aug2020): finished 1434 trials in 1 min  0 sec"
     ]
    },
    {
     "name": "stdout",
     "output_type": "stream",
     "text": [
      "\n"
     ]
    },
    {
     "name": "stdout",
     "output_type": "stream",
     "text": [
      "\tEGY,  2nd phase (18May2020 - 28May2020): finished 1263 trials in 1 min  0 sec"
     ]
    },
    {
     "name": "stdout",
     "output_type": "stream",
     "text": [
      "\n"
     ]
    },
    {
     "name": "stdout",
     "output_type": "stream",
     "text": [
      "\tHND,  9th phase (21Sep2020 - 29Sep2020): finished  416 trials in 0 min 15 sec"
     ]
    },
    {
     "name": "stdout",
     "output_type": "stream",
     "text": [
      "\n"
     ]
    },
    {
     "name": "stdout",
     "output_type": "stream",
     "text": [
      "\tSOM,  1st phase (04May2020 - 13May2020): finished 1232 trials in 1 min  0 sec"
     ]
    },
    {
     "name": "stdout",
     "output_type": "stream",
     "text": [
      "\n"
     ]
    },
    {
     "name": "stdout",
     "output_type": "stream",
     "text": [
      "\tBLR,  9th phase (04Jul2020 - 30Jul2020): finished  370 trials in 0 min 15 sec"
     ]
    },
    {
     "name": "stdout",
     "output_type": "stream",
     "text": [
      "\n"
     ]
    },
    {
     "name": "stdout",
     "output_type": "stream",
     "text": [
      "\tEGY, 10th phase (29Jul2020 - 11Aug2020): finished  521 trials in 0 min 20 sec"
     ]
    },
    {
     "name": "stdout",
     "output_type": "stream",
     "text": [
      "\n"
     ]
    },
    {
     "name": "stdout",
     "output_type": "stream",
     "text": [
      "\tRUS,  5th phase (27Jun2020 - 11Jul2020): finished 1266 trials in 1 min  0 sec"
     ]
    },
    {
     "name": "stdout",
     "output_type": "stream",
     "text": [
      "\n"
     ]
    },
    {
     "name": "stdout",
     "output_type": "stream",
     "text": [
      "\tFRA, 12th phase (17Oct2020 - 23Oct2020): finished 1288 trials in 1 min  0 sec"
     ]
    },
    {
     "name": "stdout",
     "output_type": "stream",
     "text": [
      "\n"
     ]
    },
    {
     "name": "stdout",
     "output_type": "stream",
     "text": [
      "\tLVA,  5th phase (16May2020 - 31May2020): finished 1559 trials in 1 min  0 sec"
     ]
    },
    {
     "name": "stdout",
     "output_type": "stream",
     "text": [
      "\n"
     ]
    },
    {
     "name": "stdout",
     "output_type": "stream",
     "text": [
      "\tHND, 10th phase (30Sep2020 - 08Oct2020): finished  430 trials in 0 min 15 sec"
     ]
    },
    {
     "name": "stdout",
     "output_type": "stream",
     "text": [
      "\n"
     ]
    },
    {
     "name": "stdout",
     "output_type": "stream",
     "text": [
      "\tBLR,  1st phase (27Apr2020 - 08May2020): finished 1338 trials in 1 min  0 sec"
     ]
    },
    {
     "name": "stdout",
     "output_type": "stream",
     "text": [
      "\n"
     ]
    },
    {
     "name": "stdout",
     "output_type": "stream",
     "text": [
      "\tSOM,  8th phase (04Jul2020 - 20Jul2020): finished 1439 trials in 1 min  0 sec"
     ]
    },
    {
     "name": "stdout",
     "output_type": "stream",
     "text": [
      "\n"
     ]
    },
    {
     "name": "stdout",
     "output_type": "stream",
     "text": [
      "\tLVA,  4th phase (07May2020 - 15May2020): finished 1665 trials in 1 min  0 sec"
     ]
    },
    {
     "name": "stdout",
     "output_type": "stream",
     "text": [
      "\n"
     ]
    },
    {
     "name": "stdout",
     "output_type": "stream",
     "text": [
      "\tFRA,  4th phase (18Jun2020 - 12Aug2020): finished 1424 trials in 1 min  0 sec"
     ]
    },
    {
     "name": "stdout",
     "output_type": "stream",
     "text": [
      "\n"
     ]
    },
    {
     "name": "stdout",
     "output_type": "stream",
     "text": [
      "\tHND, 11th phase (09Oct2020 - 17Oct2020): finished 1326 trials in 0 min 50 sec"
     ]
    },
    {
     "name": "stdout",
     "output_type": "stream",
     "text": [
      "\n"
     ]
    },
    {
     "name": "stdout",
     "output_type": "stream",
     "text": [
      "\tBLR,  3rd phase (17May2020 - 23May2020): finished  679 trials in 0 min 30 sec"
     ]
    },
    {
     "name": "stdout",
     "output_type": "stream",
     "text": [
      "\n"
     ]
    },
    {
     "name": "stdout",
     "output_type": "stream",
     "text": [
      "\tLVA,  9th phase (29Aug2020 - 17Sep2020): finished 1589 trials in 1 min  0 sec"
     ]
    },
    {
     "name": "stdout",
     "output_type": "stream",
     "text": [
      "\n"
     ]
    },
    {
     "name": "stdout",
     "output_type": "stream",
     "text": [
      "\tEGY,  8th phase (17Jul2020 - 22Jul2020): finished  128 trials in 0 min  5 sec"
     ]
    },
    {
     "name": "stdout",
     "output_type": "stream",
     "text": [
      "\n"
     ]
    },
    {
     "name": "stdout",
     "output_type": "stream",
     "text": [
      "\tSOM,  9th phase (21Jul2020 - 24Aug2020): finished 1146 trials in 1 min  0 sec"
     ]
    },
    {
     "name": "stdout",
     "output_type": "stream",
     "text": [
      "\n"
     ]
    },
    {
     "name": "stdout",
     "output_type": "stream",
     "text": [
      "\tLVA,  1st phase (07Apr2020 - 20Apr2020): finished 1332 trials in 1 min  0 sec"
     ]
    },
    {
     "name": "stdout",
     "output_type": "stream",
     "text": [
      "\n"
     ]
    },
    {
     "name": "stdout",
     "output_type": "stream",
     "text": [
      "\tFRA,  0th phase (12Feb2020 - 29Mar2020): finished 1055 trials in 1 min  0 sec"
     ]
    },
    {
     "name": "stdout",
     "output_type": "stream",
     "text": [
      "\n"
     ]
    },
    {
     "name": "stdout",
     "output_type": "stream",
     "text": [
      "\tRUS,  3rd phase (31May2020 - 12Jun2020): finished 1133 trials in 1 min  1 sec"
     ]
    },
    {
     "name": "stdout",
     "output_type": "stream",
     "text": [
      "\n"
     ]
    },
    {
     "name": "stdout",
     "output_type": "stream",
     "text": [
      "\tEGY,  7th phase (07Jul2020 - 16Jul2020): finished  168 trials in 0 min  5 sec"
     ]
    },
    {
     "name": "stdout",
     "output_type": "stream",
     "text": [
      "\n"
     ]
    },
    {
     "name": "stdout",
     "output_type": "stream",
     "text": [
      "\tRUS,  0th phase (12Feb2020 - 03May2020): finished 1203 trials in 1 min  0 sec"
     ]
    },
    {
     "name": "stdout",
     "output_type": "stream",
     "text": [
      "\n"
     ]
    },
    {
     "name": "stdout",
     "output_type": "stream",
     "text": [
      "\tSOM, 10th phase (25Aug2020 - 19Sep2020): finished 1371 trials in 1 min  0 sec"
     ]
    },
    {
     "name": "stdout",
     "output_type": "stream",
     "text": [
      "\n"
     ]
    },
    {
     "name": "stdout",
     "output_type": "stream",
     "text": [
      "\tEGY, 13th phase (13Sep2020 - 04Oct2020): finished  329 trials in 0 min 15 sec"
     ]
    },
    {
     "name": "stdout",
     "output_type": "stream",
     "text": [
      "\n"
     ]
    },
    {
     "name": "stdout",
     "output_type": "stream",
     "text": [
      "\tBLR, 11th phase (08Sep2020 - 02Oct2020): finished 1221 trials in 1 min  1 sec"
     ]
    },
    {
     "name": "stdout",
     "output_type": "stream",
     "text": [
      "\n"
     ]
    },
    {
     "name": "stdout",
     "output_type": "stream",
     "text": [
      "\tFRA,  3rd phase (26Apr2020 - 17Jun2020): finished 1162 trials in 1 min  0 sec"
     ]
    },
    {
     "name": "stdout",
     "output_type": "stream",
     "text": [
      "\n"
     ]
    },
    {
     "name": "stdout",
     "output_type": "stream",
     "text": [
      "\tEGY,  9th phase (23Jul2020 - 28Jul2020): finished  509 trials in 0 min 15 sec"
     ]
    },
    {
     "name": "stdout",
     "output_type": "stream",
     "text": [
      "\n"
     ]
    },
    {
     "name": "stdout",
     "output_type": "stream",
     "text": [
      "\tLVA,  2nd phase (21Apr2020 - 27Apr2020): finished 1449 trials in 1 min  0 sec"
     ]
    },
    {
     "name": "stdout",
     "output_type": "stream",
     "text": [
      "\n"
     ]
    },
    {
     "name": "stdout",
     "output_type": "stream",
     "text": [
      "\tSOM,  4th phase (30May2020 - 04Jun2020): finished 1330 trials in 1 min  0 sec"
     ]
    },
    {
     "name": "stdout",
     "output_type": "stream",
     "text": [
      "\n"
     ]
    },
    {
     "name": "stdout",
     "output_type": "stream",
     "text": [
      "\tEGY, 11th phase (12Aug2020 - 27Aug2020): finished  145 trials in 0 min  5 sec"
     ]
    },
    {
     "name": "stdout",
     "output_type": "stream",
     "text": [
      "\n"
     ]
    },
    {
     "name": "stdout",
     "output_type": "stream",
     "text": [
      "\tBLR,  2nd phase (09May2020 - 16May2020): finished 1336 trials in 1 min  0 sec"
     ]
    },
    {
     "name": "stdout",
     "output_type": "stream",
     "text": [
      "\n"
     ]
    },
    {
     "name": "stdout",
     "output_type": "stream",
     "text": [
      "\tLVA, 12th phase (12Oct2020 - 23Oct2020): finished 1421 trials in 1 min  0 sec"
     ]
    },
    {
     "name": "stdout",
     "output_type": "stream",
     "text": [
      "\n"
     ]
    },
    {
     "name": "stdout",
     "output_type": "stream",
     "text": [
      "\tEGY, 14th phase (05Oct2020 - 05Nov2020): finished 1213 trials in 1 min  0 sec"
     ]
    },
    {
     "name": "stdout",
     "output_type": "stream",
     "text": [
      "\n"
     ]
    },
    {
     "name": "stdout",
     "output_type": "stream",
     "text": [
      "\tHND,  6th phase (21Aug2020 - 30Aug2020): finished 1310 trials in 1 min  0 sec"
     ]
    },
    {
     "name": "stdout",
     "output_type": "stream",
     "text": [
      "\n"
     ]
    },
    {
     "name": "stdout",
     "output_type": "stream",
     "text": [
      "\tBLR, 10th phase (31Jul2020 - 07Sep2020): finished 1287 trials in 1 min  0 sec"
     ]
    },
    {
     "name": "stdout",
     "output_type": "stream",
     "text": [
      "\n"
     ]
    },
    {
     "name": "stdout",
     "output_type": "stream",
     "text": [
      "\tHND,  2nd phase (30Jun2020 - 14Jul2020): finished 1341 trials in 1 min  0 sec"
     ]
    },
    {
     "name": "stdout",
     "output_type": "stream",
     "text": [
      "\n"
     ]
    },
    {
     "name": "stdout",
     "output_type": "stream",
     "text": [
      "\tSOM, 11th phase (20Sep2020 - 30Sep2020): finished 1803 trials in 1 min  0 sec"
     ]
    },
    {
     "name": "stdout",
     "output_type": "stream",
     "text": [
      "\n"
     ]
    },
    {
     "name": "stdout",
     "output_type": "stream",
     "text": [
      "\tFRA,  5th phase (13Aug2020 - 31Aug2020): finished  755 trials in 0 min 35 sec"
     ]
    },
    {
     "name": "stdout",
     "output_type": "stream",
     "text": [
      "\n"
     ]
    },
    {
     "name": "stdout",
     "output_type": "stream",
     "text": [
      "\tBLR,  0th phase (09Mar2020 - 26Apr2020): finished 1171 trials in 1 min  0 sec"
     ]
    },
    {
     "name": "stdout",
     "output_type": "stream",
     "text": [
      "\n"
     ]
    },
    {
     "name": "stdout",
     "output_type": "stream",
     "text": [
      "\tSOM, 12th phase (01Oct2020 - 23Oct2020): finished 1622 trials in 1 min  0 sec"
     ]
    },
    {
     "name": "stdout",
     "output_type": "stream",
     "text": [
      "\n"
     ]
    },
    {
     "name": "stdout",
     "output_type": "stream",
     "text": [
      "\tRUS,  8th phase (15Aug2020 - 05Sep2020): finished 1198 trials in 1 min  0 sec"
     ]
    },
    {
     "name": "stdout",
     "output_type": "stream",
     "text": [
      "\n"
     ]
    },
    {
     "name": "stdout",
     "output_type": "stream",
     "text": [
      "\tBLR,  7th phase (14Jun2020 - 20Jun2020): finished  543 trials in 0 min 20 sec"
     ]
    },
    {
     "name": "stdout",
     "output_type": "stream",
     "text": [
      "\n"
     ]
    },
    {
     "name": "stdout",
     "output_type": "stream",
     "text": [
      "\tFRA,  6th phase (01Sep2020 - 10Sep2020): finished 1085 trials in 0 min 45 sec"
     ]
    },
    {
     "name": "stdout",
     "output_type": "stream",
     "text": [
      "\n"
     ]
    },
    {
     "name": "stdout",
     "output_type": "stream",
     "text": [
      "\tEGY,  6th phase (28Jun2020 - 06Jul2020): finished 1360 trials in 1 min  0 sec"
     ]
    },
    {
     "name": "stdout",
     "output_type": "stream",
     "text": [
      "\n"
     ]
    },
    {
     "name": "stdout",
     "output_type": "stream",
     "text": [
      "\tHND, 13th phase (26Oct2020 - 05Nov2020): finished 1355 trials in 1 min  0 sec"
     ]
    },
    {
     "name": "stdout",
     "output_type": "stream",
     "text": [
      "\n"
     ]
    },
    {
     "name": "stdout",
     "output_type": "stream",
     "text": [
      "\tRUS, 10th phase (26Sep2020 - 08Oct2020): finished 1316 trials in 1 min  0 sec"
     ]
    },
    {
     "name": "stdout",
     "output_type": "stream",
     "text": [
      "\n"
     ]
    },
    {
     "name": "stdout",
     "output_type": "stream",
     "text": [
      "\tSOM,  2nd phase (14May2020 - 20May2020): finished 1344 trials in 1 min  0 sec"
     ]
    },
    {
     "name": "stdout",
     "output_type": "stream",
     "text": [
      "\n"
     ]
    },
    {
     "name": "stdout",
     "output_type": "stream",
     "text": [
      "\tEGY,  0th phase (28Feb2020 - 02May2020): finished 1331 trials in 1 min  0 sec"
     ]
    },
    {
     "name": "stdout",
     "output_type": "stream",
     "text": [
      "\n"
     ]
    },
    {
     "name": "stdout",
     "output_type": "stream",
     "text": [
      "\tLVA, 11th phase (26Sep2020 - 11Oct2020): finished 1545 trials in 1 min  0 sec"
     ]
    },
    {
     "name": "stdout",
     "output_type": "stream",
     "text": [
      "\n"
     ]
    },
    {
     "name": "stdout",
     "output_type": "stream",
     "text": [
      "\tEGY,  3rd phase (29May2020 - 07Jun2020): finished 1378 trials in 1 min  0 sec"
     ]
    },
    {
     "name": "stdout",
     "output_type": "stream",
     "text": [
      "\n"
     ]
    },
    {
     "name": "stdout",
     "output_type": "stream",
     "text": [
      "\tBLR, 13th phase (17Oct2020 - 25Oct2020): finished 1333 trials in 1 min  0 sec"
     ]
    },
    {
     "name": "stdout",
     "output_type": "stream",
     "text": [
      "\n"
     ]
    },
    {
     "name": "stdout",
     "output_type": "stream",
     "text": [
      "\tBLR,  5th phase (31May2020 - 06Jun2020): finished 1301 trials in 1 min  0 sec"
     ]
    },
    {
     "name": "stdout",
     "output_type": "stream",
     "text": [
      "\n"
     ]
    },
    {
     "name": "stdout",
     "output_type": "stream",
     "text": [
      "\tLVA,  8th phase (06Aug2020 - 28Aug2020): finished 1480 trials in 1 min  0 sec"
     ]
    },
    {
     "name": "stdout",
     "output_type": "stream",
     "text": [
      "\n"
     ]
    },
    {
     "name": "stdout",
     "output_type": "stream",
     "text": [
      "\tRUS,  2nd phase (18May2020 - 30May2020): finished 1399 trials in 1 min  0 sec"
     ]
    },
    {
     "name": "stdout",
     "output_type": "stream",
     "text": [
      "\n"
     ]
    },
    {
     "name": "stdout",
     "output_type": "stream",
     "text": [
      "\tLVA,  6th phase (01Jun2020 - 08Jul2020): finished 1478 trials in 1 min  0 sec"
     ]
    },
    {
     "name": "stdout",
     "output_type": "stream",
     "text": [
      "\n"
     ]
    },
    {
     "name": "stdout",
     "output_type": "stream",
     "text": [
      "\tSOM,  3rd phase (21May2020 - 29May2020): finished 1580 trials in 1 min  0 sec"
     ]
    },
    {
     "name": "stdout",
     "output_type": "stream",
     "text": [
      "\n"
     ]
    },
    {
     "name": "stdout",
     "output_type": "stream",
     "text": [
      "Completed optimization. Total: 21 min 10 sec\n"
     ]
    }
   ],
   "source": [
    "# Parameter estimation with SIR-F model\n",
    "analyser.estimate(cs.SIRF)"
   ]
  },
  {
   "cell_type": "code",
   "execution_count": 12,
   "metadata": {
    "collapsed": false
   },
   "outputs": [
    {
     "data": {
      "text/html": [
       "<div>\n",
       "<style scoped>\n",
       "    .dataframe tbody tr th:only-of-type {\n",
       "        vertical-align: middle;\n",
       "    }\n",
       "\n",
       "    .dataframe tbody tr th {\n",
       "        vertical-align: top;\n",
       "    }\n",
       "\n",
       "    .dataframe thead th {\n",
       "        text-align: right;\n",
       "    }\n",
       "</style>\n",
       "<table border=\"1\" class=\"dataframe\">\n",
       "  <thead>\n",
       "    <tr style=\"text-align: right;\">\n",
       "      <th></th>\n",
       "      <th></th>\n",
       "      <th>Type</th>\n",
       "      <th>Start</th>\n",
       "      <th>End</th>\n",
       "      <th>Population</th>\n",
       "      <th>ODE</th>\n",
       "      <th>Rt</th>\n",
       "      <th>theta</th>\n",
       "      <th>kappa</th>\n",
       "      <th>rho</th>\n",
       "      <th>sigma</th>\n",
       "      <th>tau</th>\n",
       "      <th>1/alpha2 [day]</th>\n",
       "      <th>1/beta [day]</th>\n",
       "      <th>1/gamma [day]</th>\n",
       "      <th>alpha1 [-]</th>\n",
       "      <th>RMSLE</th>\n",
       "      <th>Trials</th>\n",
       "      <th>Runtime</th>\n",
       "    </tr>\n",
       "    <tr>\n",
       "      <th>Country</th>\n",
       "      <th>Phase</th>\n",
       "      <th></th>\n",
       "      <th></th>\n",
       "      <th></th>\n",
       "      <th></th>\n",
       "      <th></th>\n",
       "      <th></th>\n",
       "      <th></th>\n",
       "      <th></th>\n",
       "      <th></th>\n",
       "      <th></th>\n",
       "      <th></th>\n",
       "      <th></th>\n",
       "      <th></th>\n",
       "      <th></th>\n",
       "      <th></th>\n",
       "      <th></th>\n",
       "      <th></th>\n",
       "      <th></th>\n",
       "    </tr>\n",
       "  </thead>\n",
       "  <tbody>\n",
       "    <tr>\n",
       "      <th rowspan=\"15\" valign=\"top\">Egypt</th>\n",
       "      <th>0th</th>\n",
       "      <td>Past</td>\n",
       "      <td>28Feb2020</td>\n",
       "      <td>02May2020</td>\n",
       "      <td>98423595</td>\n",
       "      <td>SIR-F</td>\n",
       "      <td>0.02</td>\n",
       "      <td>0.602763</td>\n",
       "      <td>0.544883</td>\n",
       "      <td>0.0250943</td>\n",
       "      <td>0.00469834</td>\n",
       "      <td>360</td>\n",
       "      <td>0</td>\n",
       "      <td>9</td>\n",
       "      <td>53</td>\n",
       "      <td>0.603</td>\n",
       "      <td>14.9999</td>\n",
       "      <td>1331</td>\n",
       "      <td>1 min  0 sec</td>\n",
       "    </tr>\n",
       "    <tr>\n",
       "      <th>1st</th>\n",
       "      <td>Past</td>\n",
       "      <td>03May2020</td>\n",
       "      <td>17May2020</td>\n",
       "      <td>98423595</td>\n",
       "      <td>SIR-F</td>\n",
       "      <td>3.68</td>\n",
       "      <td>0.0010023</td>\n",
       "      <td>0.000556525</td>\n",
       "      <td>0.0168803</td>\n",
       "      <td>0.0040237</td>\n",
       "      <td>360</td>\n",
       "      <td>449</td>\n",
       "      <td>14</td>\n",
       "      <td>62</td>\n",
       "      <td>0.001</td>\n",
       "      <td>0.0423755</td>\n",
       "      <td>1319</td>\n",
       "      <td>1 min  0 sec</td>\n",
       "    </tr>\n",
       "    <tr>\n",
       "      <th>2nd</th>\n",
       "      <td>Past</td>\n",
       "      <td>18May2020</td>\n",
       "      <td>28May2020</td>\n",
       "      <td>98423595</td>\n",
       "      <td>SIR-F</td>\n",
       "      <td>3.34</td>\n",
       "      <td>0.0212514</td>\n",
       "      <td>4.82449e-05</td>\n",
       "      <td>0.0187634</td>\n",
       "      <td>0.00544255</td>\n",
       "      <td>360</td>\n",
       "      <td>5181</td>\n",
       "      <td>13</td>\n",
       "      <td>45</td>\n",
       "      <td>0.021</td>\n",
       "      <td>0.0344133</td>\n",
       "      <td>1263</td>\n",
       "      <td>1 min  0 sec</td>\n",
       "    </tr>\n",
       "    <tr>\n",
       "      <th>3rd</th>\n",
       "      <td>Past</td>\n",
       "      <td>29May2020</td>\n",
       "      <td>07Jun2020</td>\n",
       "      <td>98423595</td>\n",
       "      <td>SIR-F</td>\n",
       "      <td>3.19</td>\n",
       "      <td>0.000138688</td>\n",
       "      <td>0.000552044</td>\n",
       "      <td>0.0172512</td>\n",
       "      <td>0.00484903</td>\n",
       "      <td>360</td>\n",
       "      <td>452</td>\n",
       "      <td>14</td>\n",
       "      <td>51</td>\n",
       "      <td>0</td>\n",
       "      <td>0.0211366</td>\n",
       "      <td>1378</td>\n",
       "      <td>1 min  0 sec</td>\n",
       "    </tr>\n",
       "    <tr>\n",
       "      <th>4th</th>\n",
       "      <td>Past</td>\n",
       "      <td>08Jun2020</td>\n",
       "      <td>17Jun2020</td>\n",
       "      <td>98423595</td>\n",
       "      <td>SIR-F</td>\n",
       "      <td>3.54</td>\n",
       "      <td>0.0208727</td>\n",
       "      <td>0.000194436</td>\n",
       "      <td>0.0131172</td>\n",
       "      <td>0.00343021</td>\n",
       "      <td>360</td>\n",
       "      <td>1285</td>\n",
       "      <td>19</td>\n",
       "      <td>72</td>\n",
       "      <td>0.021</td>\n",
       "      <td>0.0223434</td>\n",
       "      <td>1331</td>\n",
       "      <td>1 min  0 sec</td>\n",
       "    </tr>\n",
       "    <tr>\n",
       "      <th>5th</th>\n",
       "      <td>Past</td>\n",
       "      <td>18Jun2020</td>\n",
       "      <td>27Jun2020</td>\n",
       "      <td>98423595</td>\n",
       "      <td>SIR-F</td>\n",
       "      <td>3.46</td>\n",
       "      <td>0.0466065</td>\n",
       "      <td>7.90662e-05</td>\n",
       "      <td>0.00960975</td>\n",
       "      <td>0.0025658</td>\n",
       "      <td>360</td>\n",
       "      <td>3161</td>\n",
       "      <td>26</td>\n",
       "      <td>97</td>\n",
       "      <td>0.047</td>\n",
       "      <td>0.0101535</td>\n",
       "      <td>169</td>\n",
       "      <td>0 min  5 sec</td>\n",
       "    </tr>\n",
       "    <tr>\n",
       "      <th>6th</th>\n",
       "      <td>Past</td>\n",
       "      <td>28Jun2020</td>\n",
       "      <td>06Jul2020</td>\n",
       "      <td>98423595</td>\n",
       "      <td>SIR-F</td>\n",
       "      <td>2.96</td>\n",
       "      <td>0.000966774</td>\n",
       "      <td>0.000409638</td>\n",
       "      <td>0.00770113</td>\n",
       "      <td>0.00219251</td>\n",
       "      <td>360</td>\n",
       "      <td>610</td>\n",
       "      <td>32</td>\n",
       "      <td>114</td>\n",
       "      <td>0.001</td>\n",
       "      <td>0.007938</td>\n",
       "      <td>1360</td>\n",
       "      <td>1 min  0 sec</td>\n",
       "    </tr>\n",
       "    <tr>\n",
       "      <th>7th</th>\n",
       "      <td>Past</td>\n",
       "      <td>07Jul2020</td>\n",
       "      <td>16Jul2020</td>\n",
       "      <td>98423595</td>\n",
       "      <td>SIR-F</td>\n",
       "      <td>1.53</td>\n",
       "      <td>0.0492292</td>\n",
       "      <td>0.000150335</td>\n",
       "      <td>0.00440939</td>\n",
       "      <td>0.00259542</td>\n",
       "      <td>360</td>\n",
       "      <td>1662</td>\n",
       "      <td>56</td>\n",
       "      <td>96</td>\n",
       "      <td>0.049</td>\n",
       "      <td>0.00630234</td>\n",
       "      <td>168</td>\n",
       "      <td>0 min  5 sec</td>\n",
       "    </tr>\n",
       "    <tr>\n",
       "      <th>8th</th>\n",
       "      <td>Past</td>\n",
       "      <td>17Jul2020</td>\n",
       "      <td>22Jul2020</td>\n",
       "      <td>98423595</td>\n",
       "      <td>SIR-F</td>\n",
       "      <td>1.13</td>\n",
       "      <td>0.0418393</td>\n",
       "      <td>5.43309e-05</td>\n",
       "      <td>0.00299679</td>\n",
       "      <td>0.00247625</td>\n",
       "      <td>360</td>\n",
       "      <td>4601</td>\n",
       "      <td>83</td>\n",
       "      <td>100</td>\n",
       "      <td>0.042</td>\n",
       "      <td>0.00492138</td>\n",
       "      <td>128</td>\n",
       "      <td>0 min  5 sec</td>\n",
       "    </tr>\n",
       "    <tr>\n",
       "      <th>9th</th>\n",
       "      <td>Past</td>\n",
       "      <td>23Jul2020</td>\n",
       "      <td>28Jul2020</td>\n",
       "      <td>98423595</td>\n",
       "      <td>SIR-F</td>\n",
       "      <td>0.46</td>\n",
       "      <td>0.0679342</td>\n",
       "      <td>4.57931e-05</td>\n",
       "      <td>0.00226546</td>\n",
       "      <td>0.0045905</td>\n",
       "      <td>360</td>\n",
       "      <td>5459</td>\n",
       "      <td>110</td>\n",
       "      <td>54</td>\n",
       "      <td>0.068</td>\n",
       "      <td>0.0035356</td>\n",
       "      <td>509</td>\n",
       "      <td>0 min 15 sec</td>\n",
       "    </tr>\n",
       "    <tr>\n",
       "      <th>10th</th>\n",
       "      <td>Past</td>\n",
       "      <td>29Jul2020</td>\n",
       "      <td>11Aug2020</td>\n",
       "      <td>98423595</td>\n",
       "      <td>SIR-F</td>\n",
       "      <td>0.12</td>\n",
       "      <td>0.0222383</td>\n",
       "      <td>0.0001102</td>\n",
       "      <td>0.000984113</td>\n",
       "      <td>0.00808549</td>\n",
       "      <td>360</td>\n",
       "      <td>2268</td>\n",
       "      <td>254</td>\n",
       "      <td>30</td>\n",
       "      <td>0.022</td>\n",
       "      <td>0.0158202</td>\n",
       "      <td>521</td>\n",
       "      <td>0 min 20 sec</td>\n",
       "    </tr>\n",
       "    <tr>\n",
       "      <th>11th</th>\n",
       "      <td>Past</td>\n",
       "      <td>12Aug2020</td>\n",
       "      <td>27Aug2020</td>\n",
       "      <td>98423595</td>\n",
       "      <td>SIR-F</td>\n",
       "      <td>0.17</td>\n",
       "      <td>0.0286951</td>\n",
       "      <td>6.72851e-05</td>\n",
       "      <td>0.00134521</td>\n",
       "      <td>0.00755102</td>\n",
       "      <td>360</td>\n",
       "      <td>3715</td>\n",
       "      <td>185</td>\n",
       "      <td>33</td>\n",
       "      <td>0.029</td>\n",
       "      <td>0.0143952</td>\n",
       "      <td>145</td>\n",
       "      <td>0 min  5 sec</td>\n",
       "    </tr>\n",
       "    <tr>\n",
       "      <th>12th</th>\n",
       "      <td>Past</td>\n",
       "      <td>28Aug2020</td>\n",
       "      <td>12Sep2020</td>\n",
       "      <td>98423595</td>\n",
       "      <td>SIR-F</td>\n",
       "      <td>0.16</td>\n",
       "      <td>0.0270891</td>\n",
       "      <td>0.000167965</td>\n",
       "      <td>0.00226738</td>\n",
       "      <td>0.0138463</td>\n",
       "      <td>360</td>\n",
       "      <td>1488</td>\n",
       "      <td>110</td>\n",
       "      <td>18</td>\n",
       "      <td>0.027</td>\n",
       "      <td>0.0705479</td>\n",
       "      <td>422</td>\n",
       "      <td>0 min 15 sec</td>\n",
       "    </tr>\n",
       "    <tr>\n",
       "      <th>13th</th>\n",
       "      <td>Past</td>\n",
       "      <td>13Sep2020</td>\n",
       "      <td>04Oct2020</td>\n",
       "      <td>98423595</td>\n",
       "      <td>SIR-F</td>\n",
       "      <td>0.26</td>\n",
       "      <td>0.0415288</td>\n",
       "      <td>0.000553023</td>\n",
       "      <td>0.014244</td>\n",
       "      <td>0.0526372</td>\n",
       "      <td>360</td>\n",
       "      <td>452</td>\n",
       "      <td>17</td>\n",
       "      <td>4</td>\n",
       "      <td>0.042</td>\n",
       "      <td>0.461959</td>\n",
       "      <td>329</td>\n",
       "      <td>0 min 15 sec</td>\n",
       "    </tr>\n",
       "    <tr>\n",
       "      <th>14th</th>\n",
       "      <td>Past</td>\n",
       "      <td>05Oct2020</td>\n",
       "      <td>05Nov2020</td>\n",
       "      <td>98423595</td>\n",
       "      <td>SIR-F</td>\n",
       "      <td>1.91</td>\n",
       "      <td>0.0755866</td>\n",
       "      <td>0.000318364</td>\n",
       "      <td>0.034473</td>\n",
       "      <td>0.0163354</td>\n",
       "      <td>360</td>\n",
       "      <td>785</td>\n",
       "      <td>7</td>\n",
       "      <td>15</td>\n",
       "      <td>0.076</td>\n",
       "      <td>0.230379</td>\n",
       "      <td>1213</td>\n",
       "      <td>1 min  0 sec</td>\n",
       "    </tr>\n",
       "    <tr>\n",
       "      <th rowspan=\"15\" valign=\"top\">Belarus</th>\n",
       "      <th>0th</th>\n",
       "      <td>Past</td>\n",
       "      <td>09Mar2020</td>\n",
       "      <td>26Apr2020</td>\n",
       "      <td>9483499</td>\n",
       "      <td>SIR-F</td>\n",
       "      <td>8.9</td>\n",
       "      <td>0.00035874</td>\n",
       "      <td>0.000401838</td>\n",
       "      <td>0.0453276</td>\n",
       "      <td>0.00469093</td>\n",
       "      <td>360</td>\n",
       "      <td>622</td>\n",
       "      <td>5</td>\n",
       "      <td>53</td>\n",
       "      <td>0</td>\n",
       "      <td>1.30935</td>\n",
       "      <td>1171</td>\n",
       "      <td>1 min  0 sec</td>\n",
       "    </tr>\n",
       "    <tr>\n",
       "      <th>1st</th>\n",
       "      <td>Past</td>\n",
       "      <td>27Apr2020</td>\n",
       "      <td>08May2020</td>\n",
       "      <td>9483499</td>\n",
       "      <td>SIR-F</td>\n",
       "      <td>2.22</td>\n",
       "      <td>0.000822581</td>\n",
       "      <td>8.45325e-05</td>\n",
       "      <td>0.0183336</td>\n",
       "      <td>0.00815694</td>\n",
       "      <td>360</td>\n",
       "      <td>2957</td>\n",
       "      <td>13</td>\n",
       "      <td>30</td>\n",
       "      <td>0.001</td>\n",
       "      <td>0.1225</td>\n",
       "      <td>1338</td>\n",
       "      <td>1 min  0 sec</td>\n",
       "    </tr>\n",
       "    <tr>\n",
       "      <th>2nd</th>\n",
       "      <td>Past</td>\n",
       "      <td>09May2020</td>\n",
       "      <td>16May2020</td>\n",
       "      <td>9483499</td>\n",
       "      <td>SIR-F</td>\n",
       "      <td>1.98</td>\n",
       "      <td>0.00499772</td>\n",
       "      <td>1.8817e-06</td>\n",
       "      <td>0.0130611</td>\n",
       "      <td>0.00657461</td>\n",
       "      <td>360</td>\n",
       "      <td>132858</td>\n",
       "      <td>19</td>\n",
       "      <td>38</td>\n",
       "      <td>0.005</td>\n",
       "      <td>0.0234466</td>\n",
       "      <td>1336</td>\n",
       "      <td>1 min  0 sec</td>\n",
       "    </tr>\n",
       "    <tr>\n",
       "      <th>3rd</th>\n",
       "      <td>Past</td>\n",
       "      <td>17May2020</td>\n",
       "      <td>23May2020</td>\n",
       "      <td>9483499</td>\n",
       "      <td>SIR-F</td>\n",
       "      <td>1.46</td>\n",
       "      <td>0.000165543</td>\n",
       "      <td>5.962e-05</td>\n",
       "      <td>0.0112616</td>\n",
       "      <td>0.00763706</td>\n",
       "      <td>360</td>\n",
       "      <td>4193</td>\n",
       "      <td>22</td>\n",
       "      <td>32</td>\n",
       "      <td>0</td>\n",
       "      <td>0.019991</td>\n",
       "      <td>679</td>\n",
       "      <td>0 min 30 sec</td>\n",
       "    </tr>\n",
       "    <tr>\n",
       "      <th>4th</th>\n",
       "      <td>Past</td>\n",
       "      <td>24May2020</td>\n",
       "      <td>30May2020</td>\n",
       "      <td>9483499</td>\n",
       "      <td>SIR-F</td>\n",
       "      <td>1.41</td>\n",
       "      <td>0.00143251</td>\n",
       "      <td>3.62852e-05</td>\n",
       "      <td>0.00996331</td>\n",
       "      <td>0.00703568</td>\n",
       "      <td>360</td>\n",
       "      <td>6889</td>\n",
       "      <td>25</td>\n",
       "      <td>35</td>\n",
       "      <td>0.001</td>\n",
       "      <td>0.0102348</td>\n",
       "      <td>703</td>\n",
       "      <td>0 min 30 sec</td>\n",
       "    </tr>\n",
       "    <tr>\n",
       "      <th>5th</th>\n",
       "      <td>Past</td>\n",
       "      <td>31May2020</td>\n",
       "      <td>06Jun2020</td>\n",
       "      <td>9483499</td>\n",
       "      <td>SIR-F</td>\n",
       "      <td>1.06</td>\n",
       "      <td>0.000267151</td>\n",
       "      <td>7.58056e-05</td>\n",
       "      <td>0.00878082</td>\n",
       "      <td>0.00816886</td>\n",
       "      <td>360</td>\n",
       "      <td>3297</td>\n",
       "      <td>28</td>\n",
       "      <td>30</td>\n",
       "      <td>0</td>\n",
       "      <td>0.0301545</td>\n",
       "      <td>1301</td>\n",
       "      <td>1 min  0 sec</td>\n",
       "    </tr>\n",
       "    <tr>\n",
       "      <th>6th</th>\n",
       "      <td>Past</td>\n",
       "      <td>07Jun2020</td>\n",
       "      <td>13Jun2020</td>\n",
       "      <td>9483499</td>\n",
       "      <td>SIR-F</td>\n",
       "      <td>0.94</td>\n",
       "      <td>0.000164226</td>\n",
       "      <td>5.69843e-05</td>\n",
       "      <td>0.00779032</td>\n",
       "      <td>0.00821349</td>\n",
       "      <td>360</td>\n",
       "      <td>4387</td>\n",
       "      <td>32</td>\n",
       "      <td>30</td>\n",
       "      <td>0</td>\n",
       "      <td>0.016211</td>\n",
       "      <td>1517</td>\n",
       "      <td>1 min  0 sec</td>\n",
       "    </tr>\n",
       "    <tr>\n",
       "      <th>7th</th>\n",
       "      <td>Past</td>\n",
       "      <td>14Jun2020</td>\n",
       "      <td>20Jun2020</td>\n",
       "      <td>9483499</td>\n",
       "      <td>SIR-F</td>\n",
       "      <td>0.55</td>\n",
       "      <td>0.000363586</td>\n",
       "      <td>7.58454e-05</td>\n",
       "      <td>0.00732729</td>\n",
       "      <td>0.0132063</td>\n",
       "      <td>360</td>\n",
       "      <td>3296</td>\n",
       "      <td>34</td>\n",
       "      <td>18</td>\n",
       "      <td>0</td>\n",
       "      <td>0.0277517</td>\n",
       "      <td>543</td>\n",
       "      <td>0 min 20 sec</td>\n",
       "    </tr>\n",
       "    <tr>\n",
       "      <th>8th</th>\n",
       "      <td>Past</td>\n",
       "      <td>21Jun2020</td>\n",
       "      <td>03Jul2020</td>\n",
       "      <td>9483499</td>\n",
       "      <td>SIR-F</td>\n",
       "      <td>0.34</td>\n",
       "      <td>0.00160734</td>\n",
       "      <td>8.36683e-05</td>\n",
       "      <td>0.00553791</td>\n",
       "      <td>0.0162891</td>\n",
       "      <td>360</td>\n",
       "      <td>2987</td>\n",
       "      <td>45</td>\n",
       "      <td>15</td>\n",
       "      <td>0.002</td>\n",
       "      <td>0.0638344</td>\n",
       "      <td>959</td>\n",
       "      <td>0 min 40 sec</td>\n",
       "    </tr>\n",
       "    <tr>\n",
       "      <th>9th</th>\n",
       "      <td>Past</td>\n",
       "      <td>04Jul2020</td>\n",
       "      <td>30Jul2020</td>\n",
       "      <td>9483499</td>\n",
       "      <td>SIR-F</td>\n",
       "      <td>0.32</td>\n",
       "      <td>0.0235725</td>\n",
       "      <td>4.81248e-05</td>\n",
       "      <td>0.00492668</td>\n",
       "      <td>0.0151547</td>\n",
       "      <td>360</td>\n",
       "      <td>5194</td>\n",
       "      <td>50</td>\n",
       "      <td>16</td>\n",
       "      <td>0.024</td>\n",
       "      <td>0.185834</td>\n",
       "      <td>370</td>\n",
       "      <td>0 min 15 sec</td>\n",
       "    </tr>\n",
       "    <tr>\n",
       "      <th>10th</th>\n",
       "      <td>Past</td>\n",
       "      <td>31Jul2020</td>\n",
       "      <td>07Sep2020</td>\n",
       "      <td>9483499</td>\n",
       "      <td>SIR-F</td>\n",
       "      <td>0.47</td>\n",
       "      <td>0.0198899</td>\n",
       "      <td>4.53073e-05</td>\n",
       "      <td>0.0156161</td>\n",
       "      <td>0.0325224</td>\n",
       "      <td>360</td>\n",
       "      <td>5517</td>\n",
       "      <td>16</td>\n",
       "      <td>7</td>\n",
       "      <td>0.02</td>\n",
       "      <td>0.389676</td>\n",
       "      <td>1287</td>\n",
       "      <td>1 min  0 sec</td>\n",
       "    </tr>\n",
       "    <tr>\n",
       "      <th>11th</th>\n",
       "      <td>Past</td>\n",
       "      <td>08Sep2020</td>\n",
       "      <td>02Oct2020</td>\n",
       "      <td>9483499</td>\n",
       "      <td>SIR-F</td>\n",
       "      <td>2.27</td>\n",
       "      <td>0.0181579</td>\n",
       "      <td>0.000335938</td>\n",
       "      <td>0.0374916</td>\n",
       "      <td>0.0158873</td>\n",
       "      <td>360</td>\n",
       "      <td>744</td>\n",
       "      <td>6</td>\n",
       "      <td>15</td>\n",
       "      <td>0.018</td>\n",
       "      <td>0.0769216</td>\n",
       "      <td>1221</td>\n",
       "      <td>1 min  1 sec</td>\n",
       "    </tr>\n",
       "    <tr>\n",
       "      <th>12th</th>\n",
       "      <td>Past</td>\n",
       "      <td>03Oct2020</td>\n",
       "      <td>16Oct2020</td>\n",
       "      <td>9483499</td>\n",
       "      <td>SIR-F</td>\n",
       "      <td>1.93</td>\n",
       "      <td>0.00254146</td>\n",
       "      <td>0.000213644</td>\n",
       "      <td>0.0212893</td>\n",
       "      <td>0.0107996</td>\n",
       "      <td>360</td>\n",
       "      <td>1170</td>\n",
       "      <td>11</td>\n",
       "      <td>23</td>\n",
       "      <td>0.003</td>\n",
       "      <td>0.0407343</td>\n",
       "      <td>291</td>\n",
       "      <td>0 min 10 sec</td>\n",
       "    </tr>\n",
       "    <tr>\n",
       "      <th>13th</th>\n",
       "      <td>Past</td>\n",
       "      <td>17Oct2020</td>\n",
       "      <td>25Oct2020</td>\n",
       "      <td>9483499</td>\n",
       "      <td>SIR-F</td>\n",
       "      <td>1.58</td>\n",
       "      <td>0.000636412</td>\n",
       "      <td>0.000116647</td>\n",
       "      <td>0.0242426</td>\n",
       "      <td>0.0152617</td>\n",
       "      <td>360</td>\n",
       "      <td>2143</td>\n",
       "      <td>10</td>\n",
       "      <td>16</td>\n",
       "      <td>0.001</td>\n",
       "      <td>0.00928741</td>\n",
       "      <td>1333</td>\n",
       "      <td>1 min  0 sec</td>\n",
       "    </tr>\n",
       "    <tr>\n",
       "      <th>14th</th>\n",
       "      <td>Past</td>\n",
       "      <td>26Oct2020</td>\n",
       "      <td>05Nov2020</td>\n",
       "      <td>9483499</td>\n",
       "      <td>-</td>\n",
       "      <td>-</td>\n",
       "      <td>-</td>\n",
       "      <td>-</td>\n",
       "      <td>-</td>\n",
       "      <td>-</td>\n",
       "      <td>-</td>\n",
       "      <td>-</td>\n",
       "      <td>-</td>\n",
       "      <td>-</td>\n",
       "      <td>-</td>\n",
       "      <td>-</td>\n",
       "      <td>-</td>\n",
       "      <td>-</td>\n",
       "    </tr>\n",
       "  </tbody>\n",
       "</table>\n",
       "</div>"
      ],
      "text/plain": [
       "               Type      Start        End  Population    ODE    Rt  \\\n",
       "Country Phase                                                        \n",
       "Egypt   0th    Past  28Feb2020  02May2020    98423595  SIR-F  0.02   \n",
       "        1st    Past  03May2020  17May2020    98423595  SIR-F  3.68   \n",
       "        2nd    Past  18May2020  28May2020    98423595  SIR-F  3.34   \n",
       "        3rd    Past  29May2020  07Jun2020    98423595  SIR-F  3.19   \n",
       "        4th    Past  08Jun2020  17Jun2020    98423595  SIR-F  3.54   \n",
       "        5th    Past  18Jun2020  27Jun2020    98423595  SIR-F  3.46   \n",
       "        6th    Past  28Jun2020  06Jul2020    98423595  SIR-F  2.96   \n",
       "        7th    Past  07Jul2020  16Jul2020    98423595  SIR-F  1.53   \n",
       "        8th    Past  17Jul2020  22Jul2020    98423595  SIR-F  1.13   \n",
       "        9th    Past  23Jul2020  28Jul2020    98423595  SIR-F  0.46   \n",
       "        10th   Past  29Jul2020  11Aug2020    98423595  SIR-F  0.12   \n",
       "        11th   Past  12Aug2020  27Aug2020    98423595  SIR-F  0.17   \n",
       "        12th   Past  28Aug2020  12Sep2020    98423595  SIR-F  0.16   \n",
       "        13th   Past  13Sep2020  04Oct2020    98423595  SIR-F  0.26   \n",
       "        14th   Past  05Oct2020  05Nov2020    98423595  SIR-F  1.91   \n",
       "Belarus 0th    Past  09Mar2020  26Apr2020     9483499  SIR-F   8.9   \n",
       "        1st    Past  27Apr2020  08May2020     9483499  SIR-F  2.22   \n",
       "        2nd    Past  09May2020  16May2020     9483499  SIR-F  1.98   \n",
       "        3rd    Past  17May2020  23May2020     9483499  SIR-F  1.46   \n",
       "        4th    Past  24May2020  30May2020     9483499  SIR-F  1.41   \n",
       "        5th    Past  31May2020  06Jun2020     9483499  SIR-F  1.06   \n",
       "        6th    Past  07Jun2020  13Jun2020     9483499  SIR-F  0.94   \n",
       "        7th    Past  14Jun2020  20Jun2020     9483499  SIR-F  0.55   \n",
       "        8th    Past  21Jun2020  03Jul2020     9483499  SIR-F  0.34   \n",
       "        9th    Past  04Jul2020  30Jul2020     9483499  SIR-F  0.32   \n",
       "        10th   Past  31Jul2020  07Sep2020     9483499  SIR-F  0.47   \n",
       "        11th   Past  08Sep2020  02Oct2020     9483499  SIR-F  2.27   \n",
       "        12th   Past  03Oct2020  16Oct2020     9483499  SIR-F  1.93   \n",
       "        13th   Past  17Oct2020  25Oct2020     9483499  SIR-F  1.58   \n",
       "        14th   Past  26Oct2020  05Nov2020     9483499      -     -   \n",
       "\n",
       "                     theta        kappa          rho       sigma  tau  \\\n",
       "Country Phase                                                           \n",
       "Egypt   0th       0.602763     0.544883    0.0250943  0.00469834  360   \n",
       "        1st      0.0010023  0.000556525    0.0168803   0.0040237  360   \n",
       "        2nd      0.0212514  4.82449e-05    0.0187634  0.00544255  360   \n",
       "        3rd    0.000138688  0.000552044    0.0172512  0.00484903  360   \n",
       "        4th      0.0208727  0.000194436    0.0131172  0.00343021  360   \n",
       "        5th      0.0466065  7.90662e-05   0.00960975   0.0025658  360   \n",
       "        6th    0.000966774  0.000409638   0.00770113  0.00219251  360   \n",
       "        7th      0.0492292  0.000150335   0.00440939  0.00259542  360   \n",
       "        8th      0.0418393  5.43309e-05   0.00299679  0.00247625  360   \n",
       "        9th      0.0679342  4.57931e-05   0.00226546   0.0045905  360   \n",
       "        10th     0.0222383    0.0001102  0.000984113  0.00808549  360   \n",
       "        11th     0.0286951  6.72851e-05   0.00134521  0.00755102  360   \n",
       "        12th     0.0270891  0.000167965   0.00226738   0.0138463  360   \n",
       "        13th     0.0415288  0.000553023     0.014244   0.0526372  360   \n",
       "        14th     0.0755866  0.000318364     0.034473   0.0163354  360   \n",
       "Belarus 0th     0.00035874  0.000401838    0.0453276  0.00469093  360   \n",
       "        1st    0.000822581  8.45325e-05    0.0183336  0.00815694  360   \n",
       "        2nd     0.00499772   1.8817e-06    0.0130611  0.00657461  360   \n",
       "        3rd    0.000165543    5.962e-05    0.0112616  0.00763706  360   \n",
       "        4th     0.00143251  3.62852e-05   0.00996331  0.00703568  360   \n",
       "        5th    0.000267151  7.58056e-05   0.00878082  0.00816886  360   \n",
       "        6th    0.000164226  5.69843e-05   0.00779032  0.00821349  360   \n",
       "        7th    0.000363586  7.58454e-05   0.00732729   0.0132063  360   \n",
       "        8th     0.00160734  8.36683e-05   0.00553791   0.0162891  360   \n",
       "        9th      0.0235725  4.81248e-05   0.00492668   0.0151547  360   \n",
       "        10th     0.0198899  4.53073e-05    0.0156161   0.0325224  360   \n",
       "        11th     0.0181579  0.000335938    0.0374916   0.0158873  360   \n",
       "        12th    0.00254146  0.000213644    0.0212893   0.0107996  360   \n",
       "        13th   0.000636412  0.000116647    0.0242426   0.0152617  360   \n",
       "        14th             -            -            -           -    -   \n",
       "\n",
       "              1/alpha2 [day] 1/beta [day] 1/gamma [day] alpha1 [-]  \\\n",
       "Country Phase                                                        \n",
       "Egypt   0th                0            9            53      0.603   \n",
       "        1st              449           14            62      0.001   \n",
       "        2nd             5181           13            45      0.021   \n",
       "        3rd              452           14            51          0   \n",
       "        4th             1285           19            72      0.021   \n",
       "        5th             3161           26            97      0.047   \n",
       "        6th              610           32           114      0.001   \n",
       "        7th             1662           56            96      0.049   \n",
       "        8th             4601           83           100      0.042   \n",
       "        9th             5459          110            54      0.068   \n",
       "        10th            2268          254            30      0.022   \n",
       "        11th            3715          185            33      0.029   \n",
       "        12th            1488          110            18      0.027   \n",
       "        13th             452           17             4      0.042   \n",
       "        14th             785            7            15      0.076   \n",
       "Belarus 0th              622            5            53          0   \n",
       "        1st             2957           13            30      0.001   \n",
       "        2nd           132858           19            38      0.005   \n",
       "        3rd             4193           22            32          0   \n",
       "        4th             6889           25            35      0.001   \n",
       "        5th             3297           28            30          0   \n",
       "        6th             4387           32            30          0   \n",
       "        7th             3296           34            18          0   \n",
       "        8th             2987           45            15      0.002   \n",
       "        9th             5194           50            16      0.024   \n",
       "        10th            5517           16             7       0.02   \n",
       "        11th             744            6            15      0.018   \n",
       "        12th            1170           11            23      0.003   \n",
       "        13th            2143           10            16      0.001   \n",
       "        14th               -            -             -          -   \n",
       "\n",
       "                    RMSLE Trials       Runtime  \n",
       "Country Phase                                   \n",
       "Egypt   0th       14.9999   1331  1 min  0 sec  \n",
       "        1st     0.0423755   1319  1 min  0 sec  \n",
       "        2nd     0.0344133   1263  1 min  0 sec  \n",
       "        3rd     0.0211366   1378  1 min  0 sec  \n",
       "        4th     0.0223434   1331  1 min  0 sec  \n",
       "        5th     0.0101535    169  0 min  5 sec  \n",
       "        6th      0.007938   1360  1 min  0 sec  \n",
       "        7th    0.00630234    168  0 min  5 sec  \n",
       "        8th    0.00492138    128  0 min  5 sec  \n",
       "        9th     0.0035356    509  0 min 15 sec  \n",
       "        10th    0.0158202    521  0 min 20 sec  \n",
       "        11th    0.0143952    145  0 min  5 sec  \n",
       "        12th    0.0705479    422  0 min 15 sec  \n",
       "        13th     0.461959    329  0 min 15 sec  \n",
       "        14th     0.230379   1213  1 min  0 sec  \n",
       "Belarus 0th       1.30935   1171  1 min  0 sec  \n",
       "        1st        0.1225   1338  1 min  0 sec  \n",
       "        2nd     0.0234466   1336  1 min  0 sec  \n",
       "        3rd      0.019991    679  0 min 30 sec  \n",
       "        4th     0.0102348    703  0 min 30 sec  \n",
       "        5th     0.0301545   1301  1 min  0 sec  \n",
       "        6th      0.016211   1517  1 min  0 sec  \n",
       "        7th     0.0277517    543  0 min 20 sec  \n",
       "        8th     0.0638344    959  0 min 40 sec  \n",
       "        9th      0.185834    370  0 min 15 sec  \n",
       "        10th     0.389676   1287  1 min  0 sec  \n",
       "        11th    0.0769216   1221  1 min  1 sec  \n",
       "        12th    0.0407343    291  0 min 10 sec  \n",
       "        13th   0.00928741   1333  1 min  0 sec  \n",
       "        14th            -      -             -  "
      ]
     },
     "execution_count": 12,
     "metadata": {},
     "output_type": "execute_result"
    }
   ],
   "source": [
    "# Show summary\n",
    "analyser.summary(countries=countries_show)"
   ]
  },
  {
   "cell_type": "markdown",
   "metadata": {},
   "source": [
    "## Compare the history of parameters\n",
    "Here, compare the history of parameter values if countries."
   ]
  },
  {
   "cell_type": "code",
   "execution_count": 13,
   "metadata": {
    "collapsed": false
   },
   "outputs": [
    {
     "data": {
      "text/html": [
       "<div>\n",
       "<style scoped>\n",
       "    .dataframe tbody tr th:only-of-type {\n",
       "        vertical-align: middle;\n",
       "    }\n",
       "\n",
       "    .dataframe tbody tr th {\n",
       "        vertical-align: top;\n",
       "    }\n",
       "\n",
       "    .dataframe thead th {\n",
       "        text-align: right;\n",
       "    }\n",
       "</style>\n",
       "<table border=\"1\" class=\"dataframe\">\n",
       "  <thead>\n",
       "    <tr style=\"text-align: right;\">\n",
       "      <th></th>\n",
       "      <th>Date</th>\n",
       "      <th>Country</th>\n",
       "      <th>theta</th>\n",
       "      <th>kappa</th>\n",
       "      <th>rho</th>\n",
       "      <th>sigma</th>\n",
       "      <th>alpha1 [-]</th>\n",
       "      <th>1/alpha2 [day]</th>\n",
       "      <th>1/beta [day]</th>\n",
       "      <th>1/gamma [day]</th>\n",
       "      <th>...</th>\n",
       "      <th>Cancel_events</th>\n",
       "      <th>Gatherings_restrictions</th>\n",
       "      <th>Transport_closing</th>\n",
       "      <th>Stay_home_restrictions</th>\n",
       "      <th>Internal_movement_restrictions</th>\n",
       "      <th>International_movement_restrictions</th>\n",
       "      <th>Information_campaigns</th>\n",
       "      <th>Testing_policy</th>\n",
       "      <th>Contact_tracing</th>\n",
       "      <th>Stringency_index</th>\n",
       "    </tr>\n",
       "  </thead>\n",
       "  <tbody>\n",
       "    <tr>\n",
       "      <th>0</th>\n",
       "      <td>2020-02-28</td>\n",
       "      <td>Egypt</td>\n",
       "      <td>0.602763</td>\n",
       "      <td>0.544883</td>\n",
       "      <td>0.0250943</td>\n",
       "      <td>0.00469834</td>\n",
       "      <td>0.603</td>\n",
       "      <td>0</td>\n",
       "      <td>9</td>\n",
       "      <td>53</td>\n",
       "      <td>...</td>\n",
       "      <td>0</td>\n",
       "      <td>0</td>\n",
       "      <td>0</td>\n",
       "      <td>0</td>\n",
       "      <td>0</td>\n",
       "      <td>0</td>\n",
       "      <td>0</td>\n",
       "      <td>1</td>\n",
       "      <td>2</td>\n",
       "      <td>0.0</td>\n",
       "    </tr>\n",
       "    <tr>\n",
       "      <th>1</th>\n",
       "      <td>2020-02-29</td>\n",
       "      <td>Egypt</td>\n",
       "      <td>0.602763</td>\n",
       "      <td>0.544883</td>\n",
       "      <td>0.0250943</td>\n",
       "      <td>0.00469834</td>\n",
       "      <td>0.603</td>\n",
       "      <td>0</td>\n",
       "      <td>9</td>\n",
       "      <td>53</td>\n",
       "      <td>...</td>\n",
       "      <td>0</td>\n",
       "      <td>0</td>\n",
       "      <td>0</td>\n",
       "      <td>0</td>\n",
       "      <td>0</td>\n",
       "      <td>0</td>\n",
       "      <td>0</td>\n",
       "      <td>1</td>\n",
       "      <td>2</td>\n",
       "      <td>0.0</td>\n",
       "    </tr>\n",
       "    <tr>\n",
       "      <th>2</th>\n",
       "      <td>2020-03-01</td>\n",
       "      <td>Egypt</td>\n",
       "      <td>0.602763</td>\n",
       "      <td>0.544883</td>\n",
       "      <td>0.0250943</td>\n",
       "      <td>0.00469834</td>\n",
       "      <td>0.603</td>\n",
       "      <td>0</td>\n",
       "      <td>9</td>\n",
       "      <td>53</td>\n",
       "      <td>...</td>\n",
       "      <td>0</td>\n",
       "      <td>0</td>\n",
       "      <td>0</td>\n",
       "      <td>0</td>\n",
       "      <td>0</td>\n",
       "      <td>0</td>\n",
       "      <td>0</td>\n",
       "      <td>1</td>\n",
       "      <td>2</td>\n",
       "      <td>0.0</td>\n",
       "    </tr>\n",
       "    <tr>\n",
       "      <th>3</th>\n",
       "      <td>2020-03-02</td>\n",
       "      <td>Egypt</td>\n",
       "      <td>0.602763</td>\n",
       "      <td>0.544883</td>\n",
       "      <td>0.0250943</td>\n",
       "      <td>0.00469834</td>\n",
       "      <td>0.603</td>\n",
       "      <td>0</td>\n",
       "      <td>9</td>\n",
       "      <td>53</td>\n",
       "      <td>...</td>\n",
       "      <td>0</td>\n",
       "      <td>0</td>\n",
       "      <td>0</td>\n",
       "      <td>0</td>\n",
       "      <td>0</td>\n",
       "      <td>0</td>\n",
       "      <td>0</td>\n",
       "      <td>1</td>\n",
       "      <td>2</td>\n",
       "      <td>0.0</td>\n",
       "    </tr>\n",
       "    <tr>\n",
       "      <th>4</th>\n",
       "      <td>2020-03-03</td>\n",
       "      <td>Egypt</td>\n",
       "      <td>0.602763</td>\n",
       "      <td>0.544883</td>\n",
       "      <td>0.0250943</td>\n",
       "      <td>0.00469834</td>\n",
       "      <td>0.603</td>\n",
       "      <td>0</td>\n",
       "      <td>9</td>\n",
       "      <td>53</td>\n",
       "      <td>...</td>\n",
       "      <td>0</td>\n",
       "      <td>0</td>\n",
       "      <td>0</td>\n",
       "      <td>0</td>\n",
       "      <td>0</td>\n",
       "      <td>0</td>\n",
       "      <td>0</td>\n",
       "      <td>1</td>\n",
       "      <td>2</td>\n",
       "      <td>0.0</td>\n",
       "    </tr>\n",
       "  </tbody>\n",
       "</table>\n",
       "<p>5 rows × 23 columns</p>\n",
       "</div>"
      ],
      "text/plain": [
       "        Date Country     theta     kappa        rho       sigma alpha1 [-]  \\\n",
       "0 2020-02-28   Egypt  0.602763  0.544883  0.0250943  0.00469834      0.603   \n",
       "1 2020-02-29   Egypt  0.602763  0.544883  0.0250943  0.00469834      0.603   \n",
       "2 2020-03-01   Egypt  0.602763  0.544883  0.0250943  0.00469834      0.603   \n",
       "3 2020-03-02   Egypt  0.602763  0.544883  0.0250943  0.00469834      0.603   \n",
       "4 2020-03-03   Egypt  0.602763  0.544883  0.0250943  0.00469834      0.603   \n",
       "\n",
       "  1/alpha2 [day] 1/beta [day] 1/gamma [day]  ... Cancel_events  \\\n",
       "0              0            9            53  ...             0   \n",
       "1              0            9            53  ...             0   \n",
       "2              0            9            53  ...             0   \n",
       "3              0            9            53  ...             0   \n",
       "4              0            9            53  ...             0   \n",
       "\n",
       "   Gatherings_restrictions  Transport_closing  Stay_home_restrictions  \\\n",
       "0                        0                  0                       0   \n",
       "1                        0                  0                       0   \n",
       "2                        0                  0                       0   \n",
       "3                        0                  0                       0   \n",
       "4                        0                  0                       0   \n",
       "\n",
       "   Internal_movement_restrictions  International_movement_restrictions  \\\n",
       "0                               0                                    0   \n",
       "1                               0                                    0   \n",
       "2                               0                                    0   \n",
       "3                               0                                    0   \n",
       "4                               0                                    0   \n",
       "\n",
       "   Information_campaigns  Testing_policy  Contact_tracing  Stringency_index  \n",
       "0                      0               1                2               0.0  \n",
       "1                      0               1                2               0.0  \n",
       "2                      0               1                2               0.0  \n",
       "3                      0               1                2               0.0  \n",
       "4                      0               1                2               0.0  \n",
       "\n",
       "[5 rows x 23 columns]"
      ]
     },
     "execution_count": 13,
     "metadata": {},
     "output_type": "execute_result"
    }
   ],
   "source": [
    "# All parameter/day parameter/Rt/OxCGRT\n",
    "analyser.track().head()"
   ]
  },
  {
   "cell_type": "markdown",
   "metadata": {},
   "source": [
    "### $Rt$: Reprodcution number $\\mathrm{[-]}$"
   ]
  },
  {
   "cell_type": "code",
   "execution_count": 14,
   "metadata": {
    "collapsed": false
   },
   "outputs": [
    {
     "data": {
      "image/png": "[encoded data removed]",
      "text/plain": [
       "<Figure size 648x432 with 1 Axes>"
      ]
     },
     "metadata": {},
     "output_type": "display_data"
    },
    {
     "data": {
      "text/html": [
       "<div>\n",
       "<style scoped>\n",
       "    .dataframe tbody tr th:only-of-type {\n",
       "        vertical-align: middle;\n",
       "    }\n",
       "\n",
       "    .dataframe tbody tr th {\n",
       "        vertical-align: top;\n",
       "    }\n",
       "\n",
       "    .dataframe thead th {\n",
       "        text-align: right;\n",
       "    }\n",
       "</style>\n",
       "<table border=\"1\" class=\"dataframe\">\n",
       "  <thead>\n",
       "    <tr style=\"text-align: right;\">\n",
       "      <th>Country</th>\n",
       "      <th>Belarus</th>\n",
       "      <th>Egypt</th>\n",
       "      <th>France</th>\n",
       "      <th>Honduras</th>\n",
       "      <th>Latvia</th>\n",
       "      <th>Russia</th>\n",
       "      <th>Somalia</th>\n",
       "    </tr>\n",
       "    <tr>\n",
       "      <th>Date</th>\n",
       "      <th></th>\n",
       "      <th></th>\n",
       "      <th></th>\n",
       "      <th></th>\n",
       "      <th></th>\n",
       "      <th></th>\n",
       "      <th></th>\n",
       "    </tr>\n",
       "  </thead>\n",
       "  <tbody>\n",
       "    <tr>\n",
       "      <th>2020-11-01</th>\n",
       "      <td>1.58</td>\n",
       "      <td>1.91</td>\n",
       "      <td>26.89</td>\n",
       "      <td>1.15</td>\n",
       "      <td>186.26</td>\n",
       "      <td>2.05</td>\n",
       "      <td>0.0</td>\n",
       "    </tr>\n",
       "    <tr>\n",
       "      <th>2020-11-02</th>\n",
       "      <td>1.58</td>\n",
       "      <td>1.91</td>\n",
       "      <td>26.89</td>\n",
       "      <td>1.15</td>\n",
       "      <td>186.26</td>\n",
       "      <td>2.05</td>\n",
       "      <td>0.0</td>\n",
       "    </tr>\n",
       "    <tr>\n",
       "      <th>2020-11-03</th>\n",
       "      <td>1.58</td>\n",
       "      <td>1.91</td>\n",
       "      <td>26.89</td>\n",
       "      <td>1.15</td>\n",
       "      <td>186.26</td>\n",
       "      <td>2.05</td>\n",
       "      <td>0.0</td>\n",
       "    </tr>\n",
       "    <tr>\n",
       "      <th>2020-11-04</th>\n",
       "      <td>1.58</td>\n",
       "      <td>1.91</td>\n",
       "      <td>26.89</td>\n",
       "      <td>1.15</td>\n",
       "      <td>186.26</td>\n",
       "      <td>2.05</td>\n",
       "      <td>0.0</td>\n",
       "    </tr>\n",
       "    <tr>\n",
       "      <th>2020-11-05</th>\n",
       "      <td>1.58</td>\n",
       "      <td>1.91</td>\n",
       "      <td>26.89</td>\n",
       "      <td>1.15</td>\n",
       "      <td>186.26</td>\n",
       "      <td>2.05</td>\n",
       "      <td>0.0</td>\n",
       "    </tr>\n",
       "  </tbody>\n",
       "</table>\n",
       "</div>"
      ],
      "text/plain": [
       "Country     Belarus  Egypt  France  Honduras  Latvia  Russia  Somalia\n",
       "Date                                                                 \n",
       "2020-11-01     1.58   1.91   26.89      1.15  186.26    2.05      0.0\n",
       "2020-11-02     1.58   1.91   26.89      1.15  186.26    2.05      0.0\n",
       "2020-11-03     1.58   1.91   26.89      1.15  186.26    2.05      0.0\n",
       "2020-11-04     1.58   1.91   26.89      1.15  186.26    2.05      0.0\n",
       "2020-11-05     1.58   1.91   26.89      1.15  186.26    2.05      0.0"
      ]
     },
     "execution_count": 14,
     "metadata": {},
     "output_type": "execute_result"
    }
   ],
   "source": [
    "analyser.history(\"Rt\", roll_window=None).tail()"
   ]
  },
  {
   "cell_type": "markdown",
   "metadata": {},
   "source": [
    "### $\\rho$: Effective contact rate $\\mathrm{[-]}$"
   ]
  },
  {
   "cell_type": "code",
   "execution_count": 15,
   "metadata": {
    "collapsed": false
   },
   "outputs": [
    {
     "data": {
      "image/png": "[encoded data removed]",
      "text/plain": [
       "<Figure size 648x432 with 1 Axes>"
      ]
     },
     "metadata": {},
     "output_type": "display_data"
    },
    {
     "data": {
      "text/html": [
       "<div>\n",
       "<style scoped>\n",
       "    .dataframe tbody tr th:only-of-type {\n",
       "        vertical-align: middle;\n",
       "    }\n",
       "\n",
       "    .dataframe tbody tr th {\n",
       "        vertical-align: top;\n",
       "    }\n",
       "\n",
       "    .dataframe thead th {\n",
       "        text-align: right;\n",
       "    }\n",
       "</style>\n",
       "<table border=\"1\" class=\"dataframe\">\n",
       "  <thead>\n",
       "    <tr style=\"text-align: right;\">\n",
       "      <th>Country</th>\n",
       "      <th>Belarus</th>\n",
       "      <th>Egypt</th>\n",
       "      <th>France</th>\n",
       "      <th>Honduras</th>\n",
       "      <th>Latvia</th>\n",
       "      <th>Russia</th>\n",
       "      <th>Somalia</th>\n",
       "    </tr>\n",
       "    <tr>\n",
       "      <th>Date</th>\n",
       "      <th></th>\n",
       "      <th></th>\n",
       "      <th></th>\n",
       "      <th></th>\n",
       "      <th></th>\n",
       "      <th></th>\n",
       "      <th></th>\n",
       "    </tr>\n",
       "  </thead>\n",
       "  <tbody>\n",
       "    <tr>\n",
       "      <th>2020-11-01</th>\n",
       "      <td>0.024243</td>\n",
       "      <td>0.034473</td>\n",
       "      <td>0.00778</td>\n",
       "      <td>0.001769</td>\n",
       "      <td>0.008526</td>\n",
       "      <td>0.001934</td>\n",
       "      <td>0.0</td>\n",
       "    </tr>\n",
       "    <tr>\n",
       "      <th>2020-11-02</th>\n",
       "      <td>0.024243</td>\n",
       "      <td>0.034473</td>\n",
       "      <td>0.00778</td>\n",
       "      <td>0.001769</td>\n",
       "      <td>0.008526</td>\n",
       "      <td>0.001934</td>\n",
       "      <td>0.0</td>\n",
       "    </tr>\n",
       "    <tr>\n",
       "      <th>2020-11-03</th>\n",
       "      <td>0.024243</td>\n",
       "      <td>0.034473</td>\n",
       "      <td>0.00778</td>\n",
       "      <td>0.001769</td>\n",
       "      <td>0.008526</td>\n",
       "      <td>0.001934</td>\n",
       "      <td>0.0</td>\n",
       "    </tr>\n",
       "    <tr>\n",
       "      <th>2020-11-04</th>\n",
       "      <td>0.024243</td>\n",
       "      <td>0.034473</td>\n",
       "      <td>0.00778</td>\n",
       "      <td>0.001769</td>\n",
       "      <td>0.008526</td>\n",
       "      <td>0.001934</td>\n",
       "      <td>0.0</td>\n",
       "    </tr>\n",
       "    <tr>\n",
       "      <th>2020-11-05</th>\n",
       "      <td>0.024243</td>\n",
       "      <td>0.034473</td>\n",
       "      <td>0.00778</td>\n",
       "      <td>0.001769</td>\n",
       "      <td>0.008526</td>\n",
       "      <td>0.001934</td>\n",
       "      <td>0.0</td>\n",
       "    </tr>\n",
       "  </tbody>\n",
       "</table>\n",
       "</div>"
      ],
      "text/plain": [
       "Country      Belarus     Egypt   France  Honduras    Latvia    Russia  Somalia\n",
       "Date                                                                          \n",
       "2020-11-01  0.024243  0.034473  0.00778  0.001769  0.008526  0.001934      0.0\n",
       "2020-11-02  0.024243  0.034473  0.00778  0.001769  0.008526  0.001934      0.0\n",
       "2020-11-03  0.024243  0.034473  0.00778  0.001769  0.008526  0.001934      0.0\n",
       "2020-11-04  0.024243  0.034473  0.00778  0.001769  0.008526  0.001934      0.0\n",
       "2020-11-05  0.024243  0.034473  0.00778  0.001769  0.008526  0.001934      0.0"
      ]
     },
     "execution_count": 15,
     "metadata": {},
     "output_type": "execute_result"
    }
   ],
   "source": [
    "analyser.history(\"rho\", roll_window=None).tail()"
   ]
  },
  {
   "cell_type": "markdown",
   "metadata": {},
   "source": [
    "### $\\sigma$: Recovery rate $\\mathrm{[-]}$"
   ]
  },
  {
   "cell_type": "code",
   "execution_count": 16,
   "metadata": {
    "collapsed": false
   },
   "outputs": [
    {
     "data": {
      "image/png": "[encoded data removed]",
      "text/plain": [
       "<Figure size 648x432 with 1 Axes>"
      ]
     },
     "metadata": {},
     "output_type": "display_data"
    },
    {
     "data": {
      "text/html": [
       "<div>\n",
       "<style scoped>\n",
       "    .dataframe tbody tr th:only-of-type {\n",
       "        vertical-align: middle;\n",
       "    }\n",
       "\n",
       "    .dataframe tbody tr th {\n",
       "        vertical-align: top;\n",
       "    }\n",
       "\n",
       "    .dataframe thead th {\n",
       "        text-align: right;\n",
       "    }\n",
       "</style>\n",
       "<table border=\"1\" class=\"dataframe\">\n",
       "  <thead>\n",
       "    <tr style=\"text-align: right;\">\n",
       "      <th>Country</th>\n",
       "      <th>Belarus</th>\n",
       "      <th>Egypt</th>\n",
       "      <th>France</th>\n",
       "      <th>Honduras</th>\n",
       "      <th>Latvia</th>\n",
       "      <th>Russia</th>\n",
       "      <th>Somalia</th>\n",
       "    </tr>\n",
       "    <tr>\n",
       "      <th>Date</th>\n",
       "      <th></th>\n",
       "      <th></th>\n",
       "      <th></th>\n",
       "      <th></th>\n",
       "      <th></th>\n",
       "      <th></th>\n",
       "      <th></th>\n",
       "    </tr>\n",
       "  </thead>\n",
       "  <tbody>\n",
       "    <tr>\n",
       "      <th>2020-11-01</th>\n",
       "      <td>0.015262</td>\n",
       "      <td>0.016335</td>\n",
       "      <td>0.000243</td>\n",
       "      <td>0.001501</td>\n",
       "      <td>0.0</td>\n",
       "      <td>0.000918</td>\n",
       "      <td>0.0</td>\n",
       "    </tr>\n",
       "    <tr>\n",
       "      <th>2020-11-02</th>\n",
       "      <td>0.015262</td>\n",
       "      <td>0.016335</td>\n",
       "      <td>0.000243</td>\n",
       "      <td>0.001501</td>\n",
       "      <td>0.0</td>\n",
       "      <td>0.000918</td>\n",
       "      <td>0.0</td>\n",
       "    </tr>\n",
       "    <tr>\n",
       "      <th>2020-11-03</th>\n",
       "      <td>0.015262</td>\n",
       "      <td>0.016335</td>\n",
       "      <td>0.000243</td>\n",
       "      <td>0.001501</td>\n",
       "      <td>0.0</td>\n",
       "      <td>0.000918</td>\n",
       "      <td>0.0</td>\n",
       "    </tr>\n",
       "    <tr>\n",
       "      <th>2020-11-04</th>\n",
       "      <td>0.015262</td>\n",
       "      <td>0.016335</td>\n",
       "      <td>0.000243</td>\n",
       "      <td>0.001501</td>\n",
       "      <td>0.0</td>\n",
       "      <td>0.000918</td>\n",
       "      <td>0.0</td>\n",
       "    </tr>\n",
       "    <tr>\n",
       "      <th>2020-11-05</th>\n",
       "      <td>0.015262</td>\n",
       "      <td>0.016335</td>\n",
       "      <td>0.000243</td>\n",
       "      <td>0.001501</td>\n",
       "      <td>0.0</td>\n",
       "      <td>0.000918</td>\n",
       "      <td>0.0</td>\n",
       "    </tr>\n",
       "  </tbody>\n",
       "</table>\n",
       "</div>"
      ],
      "text/plain": [
       "Country      Belarus     Egypt    France  Honduras  Latvia    Russia  Somalia\n",
       "Date                                                                         \n",
       "2020-11-01  0.015262  0.016335  0.000243  0.001501     0.0  0.000918      0.0\n",
       "2020-11-02  0.015262  0.016335  0.000243  0.001501     0.0  0.000918      0.0\n",
       "2020-11-03  0.015262  0.016335  0.000243  0.001501     0.0  0.000918      0.0\n",
       "2020-11-04  0.015262  0.016335  0.000243  0.001501     0.0  0.000918      0.0\n",
       "2020-11-05  0.015262  0.016335  0.000243  0.001501     0.0  0.000918      0.0"
      ]
     },
     "execution_count": 16,
     "metadata": {},
     "output_type": "execute_result"
    }
   ],
   "source": [
    "analyser.history(\"sigma\", roll_window=None).tail()"
   ]
  },
  {
   "cell_type": "markdown",
   "metadata": {},
   "source": [
    "### $\\kappa$: Mortality rate of infected cases $\\mathrm{[-]}$"
   ]
  },
  {
   "cell_type": "code",
   "execution_count": 17,
   "metadata": {
    "collapsed": false
   },
   "outputs": [
    {
     "data": {
      "image/png": "[encoded data removed]",
      "text/plain": [
       "<Figure size 648x432 with 1 Axes>"
      ]
     },
     "metadata": {},
     "output_type": "display_data"
    },
    {
     "data": {
      "text/html": [
       "<div>\n",
       "<style scoped>\n",
       "    .dataframe tbody tr th:only-of-type {\n",
       "        vertical-align: middle;\n",
       "    }\n",
       "\n",
       "    .dataframe tbody tr th {\n",
       "        vertical-align: top;\n",
       "    }\n",
       "\n",
       "    .dataframe thead th {\n",
       "        text-align: right;\n",
       "    }\n",
       "</style>\n",
       "<table border=\"1\" class=\"dataframe\">\n",
       "  <thead>\n",
       "    <tr style=\"text-align: right;\">\n",
       "      <th>Country</th>\n",
       "      <th>Belarus</th>\n",
       "      <th>Egypt</th>\n",
       "      <th>France</th>\n",
       "      <th>Honduras</th>\n",
       "      <th>Latvia</th>\n",
       "      <th>Russia</th>\n",
       "      <th>Somalia</th>\n",
       "    </tr>\n",
       "    <tr>\n",
       "      <th>Date</th>\n",
       "      <th></th>\n",
       "      <th></th>\n",
       "      <th></th>\n",
       "      <th></th>\n",
       "      <th></th>\n",
       "      <th></th>\n",
       "      <th></th>\n",
       "    </tr>\n",
       "  </thead>\n",
       "  <tbody>\n",
       "    <tr>\n",
       "      <th>2020-11-01</th>\n",
       "      <td>0.000117</td>\n",
       "      <td>0.000318</td>\n",
       "      <td>0.000046</td>\n",
       "      <td>0.00001</td>\n",
       "      <td>0.000046</td>\n",
       "      <td>0.000025</td>\n",
       "      <td>0.000153</td>\n",
       "    </tr>\n",
       "    <tr>\n",
       "      <th>2020-11-02</th>\n",
       "      <td>0.000117</td>\n",
       "      <td>0.000318</td>\n",
       "      <td>0.000046</td>\n",
       "      <td>0.00001</td>\n",
       "      <td>0.000046</td>\n",
       "      <td>0.000025</td>\n",
       "      <td>0.000153</td>\n",
       "    </tr>\n",
       "    <tr>\n",
       "      <th>2020-11-03</th>\n",
       "      <td>0.000117</td>\n",
       "      <td>0.000318</td>\n",
       "      <td>0.000046</td>\n",
       "      <td>0.00001</td>\n",
       "      <td>0.000046</td>\n",
       "      <td>0.000025</td>\n",
       "      <td>0.000153</td>\n",
       "    </tr>\n",
       "    <tr>\n",
       "      <th>2020-11-04</th>\n",
       "      <td>0.000117</td>\n",
       "      <td>0.000318</td>\n",
       "      <td>0.000046</td>\n",
       "      <td>0.00001</td>\n",
       "      <td>0.000046</td>\n",
       "      <td>0.000025</td>\n",
       "      <td>0.000153</td>\n",
       "    </tr>\n",
       "    <tr>\n",
       "      <th>2020-11-05</th>\n",
       "      <td>0.000117</td>\n",
       "      <td>0.000318</td>\n",
       "      <td>0.000046</td>\n",
       "      <td>0.00001</td>\n",
       "      <td>0.000046</td>\n",
       "      <td>0.000025</td>\n",
       "      <td>0.000153</td>\n",
       "    </tr>\n",
       "  </tbody>\n",
       "</table>\n",
       "</div>"
      ],
      "text/plain": [
       "Country      Belarus     Egypt    France  Honduras    Latvia    Russia  \\\n",
       "Date                                                                     \n",
       "2020-11-01  0.000117  0.000318  0.000046   0.00001  0.000046  0.000025   \n",
       "2020-11-02  0.000117  0.000318  0.000046   0.00001  0.000046  0.000025   \n",
       "2020-11-03  0.000117  0.000318  0.000046   0.00001  0.000046  0.000025   \n",
       "2020-11-04  0.000117  0.000318  0.000046   0.00001  0.000046  0.000025   \n",
       "2020-11-05  0.000117  0.000318  0.000046   0.00001  0.000046  0.000025   \n",
       "\n",
       "Country      Somalia  \n",
       "Date                  \n",
       "2020-11-01  0.000153  \n",
       "2020-11-02  0.000153  \n",
       "2020-11-03  0.000153  \n",
       "2020-11-04  0.000153  \n",
       "2020-11-05  0.000153  "
      ]
     },
     "execution_count": 17,
     "metadata": {},
     "output_type": "execute_result"
    }
   ],
   "source": [
    "analyser.history(\"kappa\", roll_window=None).tail()"
   ]
  },
  {
   "cell_type": "markdown",
   "metadata": {},
   "source": [
    "### $\\theta$: Mortality rate of S$^\\ast$ cases $\\mathrm{[-]}$"
   ]
  },
  {
   "cell_type": "code",
   "execution_count": 18,
   "metadata": {
    "collapsed": false
   },
   "outputs": [
    {
     "data": {
      "image/png": "[encoded data removed]",
      "text/plain": [
       "<Figure size 648x432 with 1 Axes>"
      ]
     },
     "metadata": {},
     "output_type": "display_data"
    },
    {
     "data": {
      "text/html": [
       "<div>\n",
       "<style scoped>\n",
       "    .dataframe tbody tr th:only-of-type {\n",
       "        vertical-align: middle;\n",
       "    }\n",
       "\n",
       "    .dataframe tbody tr th {\n",
       "        vertical-align: top;\n",
       "    }\n",
       "\n",
       "    .dataframe thead th {\n",
       "        text-align: right;\n",
       "    }\n",
       "</style>\n",
       "<table border=\"1\" class=\"dataframe\">\n",
       "  <thead>\n",
       "    <tr style=\"text-align: right;\">\n",
       "      <th>Country</th>\n",
       "      <th>Belarus</th>\n",
       "      <th>Egypt</th>\n",
       "      <th>France</th>\n",
       "      <th>Honduras</th>\n",
       "      <th>Latvia</th>\n",
       "      <th>Russia</th>\n",
       "      <th>Somalia</th>\n",
       "    </tr>\n",
       "    <tr>\n",
       "      <th>Date</th>\n",
       "      <th></th>\n",
       "      <th></th>\n",
       "      <th></th>\n",
       "      <th></th>\n",
       "      <th></th>\n",
       "      <th></th>\n",
       "      <th></th>\n",
       "    </tr>\n",
       "  </thead>\n",
       "  <tbody>\n",
       "    <tr>\n",
       "      <th>2020-11-01</th>\n",
       "      <td>0.000636</td>\n",
       "      <td>0.075587</td>\n",
       "      <td>0.001255</td>\n",
       "      <td>0.01836</td>\n",
       "      <td>0.001256</td>\n",
       "      <td>0.001357</td>\n",
       "      <td>0.512286</td>\n",
       "    </tr>\n",
       "    <tr>\n",
       "      <th>2020-11-02</th>\n",
       "      <td>0.000636</td>\n",
       "      <td>0.075587</td>\n",
       "      <td>0.001255</td>\n",
       "      <td>0.01836</td>\n",
       "      <td>0.001256</td>\n",
       "      <td>0.001357</td>\n",
       "      <td>0.512286</td>\n",
       "    </tr>\n",
       "    <tr>\n",
       "      <th>2020-11-03</th>\n",
       "      <td>0.000636</td>\n",
       "      <td>0.075587</td>\n",
       "      <td>0.001255</td>\n",
       "      <td>0.01836</td>\n",
       "      <td>0.001256</td>\n",
       "      <td>0.001357</td>\n",
       "      <td>0.512286</td>\n",
       "    </tr>\n",
       "    <tr>\n",
       "      <th>2020-11-04</th>\n",
       "      <td>0.000636</td>\n",
       "      <td>0.075587</td>\n",
       "      <td>0.001255</td>\n",
       "      <td>0.01836</td>\n",
       "      <td>0.001256</td>\n",
       "      <td>0.001357</td>\n",
       "      <td>0.512286</td>\n",
       "    </tr>\n",
       "    <tr>\n",
       "      <th>2020-11-05</th>\n",
       "      <td>0.000636</td>\n",
       "      <td>0.075587</td>\n",
       "      <td>0.001255</td>\n",
       "      <td>0.01836</td>\n",
       "      <td>0.001256</td>\n",
       "      <td>0.001357</td>\n",
       "      <td>0.512286</td>\n",
       "    </tr>\n",
       "  </tbody>\n",
       "</table>\n",
       "</div>"
      ],
      "text/plain": [
       "Country      Belarus     Egypt    France  Honduras    Latvia    Russia  \\\n",
       "Date                                                                     \n",
       "2020-11-01  0.000636  0.075587  0.001255   0.01836  0.001256  0.001357   \n",
       "2020-11-02  0.000636  0.075587  0.001255   0.01836  0.001256  0.001357   \n",
       "2020-11-03  0.000636  0.075587  0.001255   0.01836  0.001256  0.001357   \n",
       "2020-11-04  0.000636  0.075587  0.001255   0.01836  0.001256  0.001357   \n",
       "2020-11-05  0.000636  0.075587  0.001255   0.01836  0.001256  0.001357   \n",
       "\n",
       "Country      Somalia  \n",
       "Date                  \n",
       "2020-11-01  0.512286  \n",
       "2020-11-02  0.512286  \n",
       "2020-11-03  0.512286  \n",
       "2020-11-04  0.512286  \n",
       "2020-11-05  0.512286  "
      ]
     },
     "execution_count": 18,
     "metadata": {},
     "output_type": "execute_result"
    }
   ],
   "source": [
    "analyser.history(\"theta\", roll_window=None).tail()"
   ]
  },
  {
   "cell_type": "markdown",
   "metadata": {},
   "source": [
    "## (Experimental): Relationship of OxCGRT index and parameter values\n",
    "Government responses will impact on parameter values of ODE models about 14 days later. Here, we will investigate on the relationship of [stringency index (from OxCGRT)](https://github.com/OxCGRT/covid-policy-tracker/blob/master/documentation/index_methodology.md) and reproduction number/model parameters.\n"
   ]
  },
  {
   "cell_type": "code",
   "execution_count": 19,
   "metadata": {
    "collapsed": false
   },
   "outputs": [],
   "source": [
    "%matplotlib inline\n",
    "from matplotlib import pyplot as plt\n",
    "import seaborn as sns\n",
    "import pandas as pd"
   ]
  },
  {
   "cell_type": "code",
   "execution_count": 20,
   "metadata": {
    "collapsed": false
   },
   "outputs": [
    {
     "name": "stdout",
     "output_type": "stream",
     "text": [
      "<class 'pandas.core.frame.DataFrame'>\n",
      "Int64Index: 59507 entries, 0 to 59590\n",
      "Data columns (total 19 columns):\n",
      " #   Column                               Non-Null Count  Dtype         \n",
      "---  ------                               --------------  -----         \n",
      " 0   Date                                 59507 non-null  datetime64[ns]\n",
      " 1   Country                              59507 non-null  object        \n",
      " 2   Rt                                   59507 non-null  float64       \n",
      " 3   theta                                59507 non-null  float64       \n",
      " 4   kappa                                59507 non-null  float64       \n",
      " 5   rho                                  59507 non-null  float64       \n",
      " 6   sigma                                59507 non-null  float64       \n",
      " 7   School_closing                       59507 non-null  int64         \n",
      " 8   Workplace_closing                    59507 non-null  int64         \n",
      " 9   Cancel_events                        59507 non-null  int64         \n",
      " 10  Gatherings_restrictions              59507 non-null  int64         \n",
      " 11  Transport_closing                    59507 non-null  int64         \n",
      " 12  Stay_home_restrictions               59507 non-null  int64         \n",
      " 13  Internal_movement_restrictions       59507 non-null  int64         \n",
      " 14  International_movement_restrictions  59507 non-null  int64         \n",
      " 15  Information_campaigns                59507 non-null  int64         \n",
      " 16  Testing_policy                       59507 non-null  int64         \n",
      " 17  Contact_tracing                      59507 non-null  int64         \n",
      " 18  Stringency_index                     59507 non-null  float64       \n",
      "dtypes: datetime64[ns](1), float64(6), int64(11), object(1)\n",
      "memory usage: 9.1+ MB\n"
     ]
    }
   ],
   "source": [
    "df = analyser.track()\n",
    "param_cols = [\"Rt\", *cs.SIRF.PARAMETERS]\n",
    "oxcgrt_cols = oxcgrt_data.OXCGRT_VARS[:]\n",
    "cols = param_cols + oxcgrt_cols\n",
    "delay = 14\n",
    "\n",
    "for col in param_cols:\n",
    "    df[col] = pd.to_numeric(df[col], errors=\"coerce\")\n",
    "    df[col] = df.groupby(\"Country\")[col].shift(0 - delay)\n",
    "\n",
    "df = df.dropna(how=\"any\")\n",
    "df = df.loc[:, [\"Date\", \"Country\", *cols]]\n",
    "track_df = df.copy()\n",
    "track_df.info()"
   ]
  },
  {
   "cell_type": "code",
   "execution_count": 21,
   "metadata": {
    "collapsed": false
   },
   "outputs": [
    {
     "data": {
      "text/html": [
       "<style  type=\"text/css\" >\n",
       "#T_cd480c5a_1f81_11eb_ac10_525400559babrow0_col0,#T_cd480c5a_1f81_11eb_ac10_525400559babrow1_col1,#T_cd480c5a_1f81_11eb_ac10_525400559babrow2_col2,#T_cd480c5a_1f81_11eb_ac10_525400559babrow3_col3,#T_cd480c5a_1f81_11eb_ac10_525400559babrow4_col4,#T_cd480c5a_1f81_11eb_ac10_525400559babrow5_col5,#T_cd480c5a_1f81_11eb_ac10_525400559babrow6_col6,#T_cd480c5a_1f81_11eb_ac10_525400559babrow7_col7,#T_cd480c5a_1f81_11eb_ac10_525400559babrow8_col8,#T_cd480c5a_1f81_11eb_ac10_525400559babrow9_col9,#T_cd480c5a_1f81_11eb_ac10_525400559babrow10_col10,#T_cd480c5a_1f81_11eb_ac10_525400559babrow11_col11,#T_cd480c5a_1f81_11eb_ac10_525400559babrow12_col12,#T_cd480c5a_1f81_11eb_ac10_525400559babrow13_col13,#T_cd480c5a_1f81_11eb_ac10_525400559babrow14_col14,#T_cd480c5a_1f81_11eb_ac10_525400559babrow15_col15,#T_cd480c5a_1f81_11eb_ac10_525400559babrow16_col16{\n",
       "            background-color:  #023858;\n",
       "            color:  #f1f1f1;\n",
       "        }#T_cd480c5a_1f81_11eb_ac10_525400559babrow0_col1,#T_cd480c5a_1f81_11eb_ac10_525400559babrow1_col0{\n",
       "            background-color:  #dedcec;\n",
       "            color:  #000000;\n",
       "        }#T_cd480c5a_1f81_11eb_ac10_525400559babrow0_col2,#T_cd480c5a_1f81_11eb_ac10_525400559babrow2_col0,#T_cd480c5a_1f81_11eb_ac10_525400559babrow3_col10,#T_cd480c5a_1f81_11eb_ac10_525400559babrow10_col3{\n",
       "            background-color:  #dad9ea;\n",
       "            color:  #000000;\n",
       "        }#T_cd480c5a_1f81_11eb_ac10_525400559babrow0_col3,#T_cd480c5a_1f81_11eb_ac10_525400559babrow3_col0,#T_cd480c5a_1f81_11eb_ac10_525400559babrow6_col9,#T_cd480c5a_1f81_11eb_ac10_525400559babrow9_col6{\n",
       "            background-color:  #a5bddb;\n",
       "            color:  #000000;\n",
       "        }#T_cd480c5a_1f81_11eb_ac10_525400559babrow0_col4,#T_cd480c5a_1f81_11eb_ac10_525400559babrow4_col0{\n",
       "            background-color:  #f1ebf5;\n",
       "            color:  #000000;\n",
       "        }#T_cd480c5a_1f81_11eb_ac10_525400559babrow0_col5,#T_cd480c5a_1f81_11eb_ac10_525400559babrow5_col0{\n",
       "            background-color:  #e9e5f1;\n",
       "            color:  #000000;\n",
       "        }#T_cd480c5a_1f81_11eb_ac10_525400559babrow0_col6,#T_cd480c5a_1f81_11eb_ac10_525400559babrow6_col0{\n",
       "            background-color:  #dfddec;\n",
       "            color:  #000000;\n",
       "        }#T_cd480c5a_1f81_11eb_ac10_525400559babrow0_col7,#T_cd480c5a_1f81_11eb_ac10_525400559babrow2_col7,#T_cd480c5a_1f81_11eb_ac10_525400559babrow7_col0,#T_cd480c5a_1f81_11eb_ac10_525400559babrow7_col2{\n",
       "            background-color:  #ced0e6;\n",
       "            color:  #000000;\n",
       "        }#T_cd480c5a_1f81_11eb_ac10_525400559babrow0_col8,#T_cd480c5a_1f81_11eb_ac10_525400559babrow8_col0{\n",
       "            background-color:  #dcdaeb;\n",
       "            color:  #000000;\n",
       "        }#T_cd480c5a_1f81_11eb_ac10_525400559babrow0_col9,#T_cd480c5a_1f81_11eb_ac10_525400559babrow9_col0{\n",
       "            background-color:  #6ba5cd;\n",
       "            color:  #000000;\n",
       "        }#T_cd480c5a_1f81_11eb_ac10_525400559babrow0_col10,#T_cd480c5a_1f81_11eb_ac10_525400559babrow10_col0{\n",
       "            background-color:  #ece7f2;\n",
       "            color:  #000000;\n",
       "        }#T_cd480c5a_1f81_11eb_ac10_525400559babrow0_col11,#T_cd480c5a_1f81_11eb_ac10_525400559babrow2_col5,#T_cd480c5a_1f81_11eb_ac10_525400559babrow5_col2,#T_cd480c5a_1f81_11eb_ac10_525400559babrow11_col0{\n",
       "            background-color:  #d5d5e8;\n",
       "            color:  #000000;\n",
       "        }#T_cd480c5a_1f81_11eb_ac10_525400559babrow0_col12,#T_cd480c5a_1f81_11eb_ac10_525400559babrow11_col14,#T_cd480c5a_1f81_11eb_ac10_525400559babrow12_col0,#T_cd480c5a_1f81_11eb_ac10_525400559babrow14_col11{\n",
       "            background-color:  #c6cce3;\n",
       "            color:  #000000;\n",
       "        }#T_cd480c5a_1f81_11eb_ac10_525400559babrow0_col13,#T_cd480c5a_1f81_11eb_ac10_525400559babrow1_col16,#T_cd480c5a_1f81_11eb_ac10_525400559babrow2_col16,#T_cd480c5a_1f81_11eb_ac10_525400559babrow8_col9,#T_cd480c5a_1f81_11eb_ac10_525400559babrow9_col8,#T_cd480c5a_1f81_11eb_ac10_525400559babrow13_col0,#T_cd480c5a_1f81_11eb_ac10_525400559babrow16_col1,#T_cd480c5a_1f81_11eb_ac10_525400559babrow16_col2{\n",
       "            background-color:  #a8bedc;\n",
       "            color:  #000000;\n",
       "        }#T_cd480c5a_1f81_11eb_ac10_525400559babrow0_col14,#T_cd480c5a_1f81_11eb_ac10_525400559babrow0_col16,#T_cd480c5a_1f81_11eb_ac10_525400559babrow1_col7,#T_cd480c5a_1f81_11eb_ac10_525400559babrow7_col1,#T_cd480c5a_1f81_11eb_ac10_525400559babrow14_col0,#T_cd480c5a_1f81_11eb_ac10_525400559babrow16_col0{\n",
       "            background-color:  #d9d8ea;\n",
       "            color:  #000000;\n",
       "        }#T_cd480c5a_1f81_11eb_ac10_525400559babrow0_col15,#T_cd480c5a_1f81_11eb_ac10_525400559babrow15_col0{\n",
       "            background-color:  #e7e3f0;\n",
       "            color:  #000000;\n",
       "        }#T_cd480c5a_1f81_11eb_ac10_525400559babrow1_col2,#T_cd480c5a_1f81_11eb_ac10_525400559babrow2_col1{\n",
       "            background-color:  #023f64;\n",
       "            color:  #f1f1f1;\n",
       "        }#T_cd480c5a_1f81_11eb_ac10_525400559babrow1_col3,#T_cd480c5a_1f81_11eb_ac10_525400559babrow3_col1{\n",
       "            background-color:  #0569a4;\n",
       "            color:  #f1f1f1;\n",
       "        }#T_cd480c5a_1f81_11eb_ac10_525400559babrow1_col4,#T_cd480c5a_1f81_11eb_ac10_525400559babrow4_col1,#T_cd480c5a_1f81_11eb_ac10_525400559babrow4_col5,#T_cd480c5a_1f81_11eb_ac10_525400559babrow4_col7,#T_cd480c5a_1f81_11eb_ac10_525400559babrow5_col4,#T_cd480c5a_1f81_11eb_ac10_525400559babrow7_col4{\n",
       "            background-color:  #88b1d4;\n",
       "            color:  #000000;\n",
       "        }#T_cd480c5a_1f81_11eb_ac10_525400559babrow1_col5,#T_cd480c5a_1f81_11eb_ac10_525400559babrow2_col6,#T_cd480c5a_1f81_11eb_ac10_525400559babrow2_col14,#T_cd480c5a_1f81_11eb_ac10_525400559babrow5_col1,#T_cd480c5a_1f81_11eb_ac10_525400559babrow6_col2,#T_cd480c5a_1f81_11eb_ac10_525400559babrow14_col2{\n",
       "            background-color:  #d6d6e9;\n",
       "            color:  #000000;\n",
       "        }#T_cd480c5a_1f81_11eb_ac10_525400559babrow1_col6,#T_cd480c5a_1f81_11eb_ac10_525400559babrow6_col1{\n",
       "            background-color:  #d8d7e9;\n",
       "            color:  #000000;\n",
       "        }#T_cd480c5a_1f81_11eb_ac10_525400559babrow1_col8,#T_cd480c5a_1f81_11eb_ac10_525400559babrow8_col1{\n",
       "            background-color:  #e8e4f0;\n",
       "            color:  #000000;\n",
       "        }#T_cd480c5a_1f81_11eb_ac10_525400559babrow1_col9,#T_cd480c5a_1f81_11eb_ac10_525400559babrow1_col13,#T_cd480c5a_1f81_11eb_ac10_525400559babrow3_col15,#T_cd480c5a_1f81_11eb_ac10_525400559babrow9_col1,#T_cd480c5a_1f81_11eb_ac10_525400559babrow13_col1,#T_cd480c5a_1f81_11eb_ac10_525400559babrow15_col3{\n",
       "            background-color:  #f2ecf5;\n",
       "            color:  #000000;\n",
       "        }#T_cd480c5a_1f81_11eb_ac10_525400559babrow1_col10,#T_cd480c5a_1f81_11eb_ac10_525400559babrow10_col1{\n",
       "            background-color:  #cccfe5;\n",
       "            color:  #000000;\n",
       "        }#T_cd480c5a_1f81_11eb_ac10_525400559babrow1_col11,#T_cd480c5a_1f81_11eb_ac10_525400559babrow11_col1{\n",
       "            background-color:  #c2cbe2;\n",
       "            color:  #000000;\n",
       "        }#T_cd480c5a_1f81_11eb_ac10_525400559babrow1_col12,#T_cd480c5a_1f81_11eb_ac10_525400559babrow2_col4,#T_cd480c5a_1f81_11eb_ac10_525400559babrow4_col2,#T_cd480c5a_1f81_11eb_ac10_525400559babrow12_col1{\n",
       "            background-color:  #89b1d4;\n",
       "            color:  #000000;\n",
       "        }#T_cd480c5a_1f81_11eb_ac10_525400559babrow1_col14,#T_cd480c5a_1f81_11eb_ac10_525400559babrow14_col1{\n",
       "            background-color:  #d4d4e8;\n",
       "            color:  #000000;\n",
       "        }#T_cd480c5a_1f81_11eb_ac10_525400559babrow1_col15,#T_cd480c5a_1f81_11eb_ac10_525400559babrow15_col1{\n",
       "            background-color:  #b8c6e0;\n",
       "            color:  #000000;\n",
       "        }#T_cd480c5a_1f81_11eb_ac10_525400559babrow2_col3,#T_cd480c5a_1f81_11eb_ac10_525400559babrow3_col2,#T_cd480c5a_1f81_11eb_ac10_525400559babrow14_col15,#T_cd480c5a_1f81_11eb_ac10_525400559babrow15_col14{\n",
       "            background-color:  #045f95;\n",
       "            color:  #f1f1f1;\n",
       "        }#T_cd480c5a_1f81_11eb_ac10_525400559babrow2_col8,#T_cd480c5a_1f81_11eb_ac10_525400559babrow8_col2,#T_cd480c5a_1f81_11eb_ac10_525400559babrow9_col12,#T_cd480c5a_1f81_11eb_ac10_525400559babrow12_col9{\n",
       "            background-color:  #e0dded;\n",
       "            color:  #000000;\n",
       "        }#T_cd480c5a_1f81_11eb_ac10_525400559babrow2_col9,#T_cd480c5a_1f81_11eb_ac10_525400559babrow9_col2{\n",
       "            background-color:  #fbf3f9;\n",
       "            color:  #000000;\n",
       "        }#T_cd480c5a_1f81_11eb_ac10_525400559babrow2_col10,#T_cd480c5a_1f81_11eb_ac10_525400559babrow2_col15,#T_cd480c5a_1f81_11eb_ac10_525400559babrow10_col2,#T_cd480c5a_1f81_11eb_ac10_525400559babrow15_col2{\n",
       "            background-color:  #c1cae2;\n",
       "            color:  #000000;\n",
       "        }#T_cd480c5a_1f81_11eb_ac10_525400559babrow2_col11,#T_cd480c5a_1f81_11eb_ac10_525400559babrow11_col2{\n",
       "            background-color:  #c5cce3;\n",
       "            color:  #000000;\n",
       "        }#T_cd480c5a_1f81_11eb_ac10_525400559babrow2_col12,#T_cd480c5a_1f81_11eb_ac10_525400559babrow12_col2{\n",
       "            background-color:  #75a9cf;\n",
       "            color:  #000000;\n",
       "        }#T_cd480c5a_1f81_11eb_ac10_525400559babrow2_col13,#T_cd480c5a_1f81_11eb_ac10_525400559babrow13_col2{\n",
       "            background-color:  #f5eff6;\n",
       "            color:  #000000;\n",
       "        }#T_cd480c5a_1f81_11eb_ac10_525400559babrow3_col4,#T_cd480c5a_1f81_11eb_ac10_525400559babrow4_col3{\n",
       "            background-color:  #7eadd1;\n",
       "            color:  #000000;\n",
       "        }#T_cd480c5a_1f81_11eb_ac10_525400559babrow3_col5,#T_cd480c5a_1f81_11eb_ac10_525400559babrow5_col3{\n",
       "            background-color:  #ebe6f2;\n",
       "            color:  #000000;\n",
       "        }#T_cd480c5a_1f81_11eb_ac10_525400559babrow3_col6,#T_cd480c5a_1f81_11eb_ac10_525400559babrow6_col3{\n",
       "            background-color:  #eee9f3;\n",
       "            color:  #000000;\n",
       "        }#T_cd480c5a_1f81_11eb_ac10_525400559babrow3_col7,#T_cd480c5a_1f81_11eb_ac10_525400559babrow7_col3{\n",
       "            background-color:  #cdd0e5;\n",
       "            color:  #000000;\n",
       "        }#T_cd480c5a_1f81_11eb_ac10_525400559babrow3_col8,#T_cd480c5a_1f81_11eb_ac10_525400559babrow8_col3{\n",
       "            background-color:  #e1dfed;\n",
       "            color:  #000000;\n",
       "        }#T_cd480c5a_1f81_11eb_ac10_525400559babrow3_col9,#T_cd480c5a_1f81_11eb_ac10_525400559babrow3_col13,#T_cd480c5a_1f81_11eb_ac10_525400559babrow9_col3,#T_cd480c5a_1f81_11eb_ac10_525400559babrow13_col3{\n",
       "            background-color:  #fff7fb;\n",
       "            color:  #000000;\n",
       "        }#T_cd480c5a_1f81_11eb_ac10_525400559babrow3_col11,#T_cd480c5a_1f81_11eb_ac10_525400559babrow3_col16,#T_cd480c5a_1f81_11eb_ac10_525400559babrow7_col9,#T_cd480c5a_1f81_11eb_ac10_525400559babrow9_col7,#T_cd480c5a_1f81_11eb_ac10_525400559babrow11_col3,#T_cd480c5a_1f81_11eb_ac10_525400559babrow16_col3{\n",
       "            background-color:  #b7c5df;\n",
       "            color:  #000000;\n",
       "        }#T_cd480c5a_1f81_11eb_ac10_525400559babrow3_col12,#T_cd480c5a_1f81_11eb_ac10_525400559babrow12_col3{\n",
       "            background-color:  #84b0d3;\n",
       "            color:  #000000;\n",
       "        }#T_cd480c5a_1f81_11eb_ac10_525400559babrow3_col14,#T_cd480c5a_1f81_11eb_ac10_525400559babrow14_col3{\n",
       "            background-color:  #f7f0f7;\n",
       "            color:  #000000;\n",
       "        }#T_cd480c5a_1f81_11eb_ac10_525400559babrow4_col6,#T_cd480c5a_1f81_11eb_ac10_525400559babrow4_col11,#T_cd480c5a_1f81_11eb_ac10_525400559babrow6_col4,#T_cd480c5a_1f81_11eb_ac10_525400559babrow11_col4{\n",
       "            background-color:  #8cb3d5;\n",
       "            color:  #000000;\n",
       "        }#T_cd480c5a_1f81_11eb_ac10_525400559babrow4_col8,#T_cd480c5a_1f81_11eb_ac10_525400559babrow8_col4{\n",
       "            background-color:  #93b5d6;\n",
       "            color:  #000000;\n",
       "        }#T_cd480c5a_1f81_11eb_ac10_525400559babrow4_col9,#T_cd480c5a_1f81_11eb_ac10_525400559babrow9_col4{\n",
       "            background-color:  #f4edf6;\n",
       "            color:  #000000;\n",
       "        }#T_cd480c5a_1f81_11eb_ac10_525400559babrow4_col10,#T_cd480c5a_1f81_11eb_ac10_525400559babrow10_col4{\n",
       "            background-color:  #78abd0;\n",
       "            color:  #000000;\n",
       "        }#T_cd480c5a_1f81_11eb_ac10_525400559babrow4_col12,#T_cd480c5a_1f81_11eb_ac10_525400559babrow12_col4{\n",
       "            background-color:  #86b0d3;\n",
       "            color:  #000000;\n",
       "        }#T_cd480c5a_1f81_11eb_ac10_525400559babrow4_col13,#T_cd480c5a_1f81_11eb_ac10_525400559babrow9_col16,#T_cd480c5a_1f81_11eb_ac10_525400559babrow13_col4,#T_cd480c5a_1f81_11eb_ac10_525400559babrow16_col9{\n",
       "            background-color:  #cacee5;\n",
       "            color:  #000000;\n",
       "        }#T_cd480c5a_1f81_11eb_ac10_525400559babrow4_col14,#T_cd480c5a_1f81_11eb_ac10_525400559babrow9_col15,#T_cd480c5a_1f81_11eb_ac10_525400559babrow14_col4,#T_cd480c5a_1f81_11eb_ac10_525400559babrow15_col9{\n",
       "            background-color:  #9fbad9;\n",
       "            color:  #000000;\n",
       "        }#T_cd480c5a_1f81_11eb_ac10_525400559babrow4_col15,#T_cd480c5a_1f81_11eb_ac10_525400559babrow15_col4{\n",
       "            background-color:  #96b6d7;\n",
       "            color:  #000000;\n",
       "        }#T_cd480c5a_1f81_11eb_ac10_525400559babrow4_col16,#T_cd480c5a_1f81_11eb_ac10_525400559babrow16_col4{\n",
       "            background-color:  #6da6cd;\n",
       "            color:  #000000;\n",
       "        }#T_cd480c5a_1f81_11eb_ac10_525400559babrow5_col6,#T_cd480c5a_1f81_11eb_ac10_525400559babrow6_col5{\n",
       "            background-color:  #03456c;\n",
       "            color:  #f1f1f1;\n",
       "        }#T_cd480c5a_1f81_11eb_ac10_525400559babrow5_col7,#T_cd480c5a_1f81_11eb_ac10_525400559babrow7_col5,#T_cd480c5a_1f81_11eb_ac10_525400559babrow7_col10,#T_cd480c5a_1f81_11eb_ac10_525400559babrow10_col7{\n",
       "            background-color:  #04588a;\n",
       "            color:  #f1f1f1;\n",
       "        }#T_cd480c5a_1f81_11eb_ac10_525400559babrow5_col8,#T_cd480c5a_1f81_11eb_ac10_525400559babrow8_col5,#T_cd480c5a_1f81_11eb_ac10_525400559babrow8_col10,#T_cd480c5a_1f81_11eb_ac10_525400559babrow10_col8{\n",
       "            background-color:  #045c90;\n",
       "            color:  #f1f1f1;\n",
       "        }#T_cd480c5a_1f81_11eb_ac10_525400559babrow5_col9,#T_cd480c5a_1f81_11eb_ac10_525400559babrow9_col5{\n",
       "            background-color:  #abbfdc;\n",
       "            color:  #000000;\n",
       "        }#T_cd480c5a_1f81_11eb_ac10_525400559babrow5_col10,#T_cd480c5a_1f81_11eb_ac10_525400559babrow6_col10,#T_cd480c5a_1f81_11eb_ac10_525400559babrow10_col5,#T_cd480c5a_1f81_11eb_ac10_525400559babrow10_col6{\n",
       "            background-color:  #034973;\n",
       "            color:  #f1f1f1;\n",
       "        }#T_cd480c5a_1f81_11eb_ac10_525400559babrow5_col11,#T_cd480c5a_1f81_11eb_ac10_525400559babrow11_col5,#T_cd480c5a_1f81_11eb_ac10_525400559babrow14_col16,#T_cd480c5a_1f81_11eb_ac10_525400559babrow16_col14{\n",
       "            background-color:  #9ebad9;\n",
       "            color:  #000000;\n",
       "        }#T_cd480c5a_1f81_11eb_ac10_525400559babrow5_col12,#T_cd480c5a_1f81_11eb_ac10_525400559babrow12_col5{\n",
       "            background-color:  #2d8abd;\n",
       "            color:  #000000;\n",
       "        }#T_cd480c5a_1f81_11eb_ac10_525400559babrow5_col13,#T_cd480c5a_1f81_11eb_ac10_525400559babrow6_col13,#T_cd480c5a_1f81_11eb_ac10_525400559babrow13_col5,#T_cd480c5a_1f81_11eb_ac10_525400559babrow13_col6{\n",
       "            background-color:  #0568a3;\n",
       "            color:  #f1f1f1;\n",
       "        }#T_cd480c5a_1f81_11eb_ac10_525400559babrow5_col14,#T_cd480c5a_1f81_11eb_ac10_525400559babrow14_col5{\n",
       "            background-color:  #3790c0;\n",
       "            color:  #000000;\n",
       "        }#T_cd480c5a_1f81_11eb_ac10_525400559babrow5_col15,#T_cd480c5a_1f81_11eb_ac10_525400559babrow8_col12,#T_cd480c5a_1f81_11eb_ac10_525400559babrow12_col8,#T_cd480c5a_1f81_11eb_ac10_525400559babrow15_col5{\n",
       "            background-color:  #157ab5;\n",
       "            color:  #000000;\n",
       "        }#T_cd480c5a_1f81_11eb_ac10_525400559babrow5_col16,#T_cd480c5a_1f81_11eb_ac10_525400559babrow16_col5{\n",
       "            background-color:  #046096;\n",
       "            color:  #f1f1f1;\n",
       "        }#T_cd480c5a_1f81_11eb_ac10_525400559babrow6_col7,#T_cd480c5a_1f81_11eb_ac10_525400559babrow7_col6,#T_cd480c5a_1f81_11eb_ac10_525400559babrow7_col16,#T_cd480c5a_1f81_11eb_ac10_525400559babrow16_col7{\n",
       "            background-color:  #045b8e;\n",
       "            color:  #f1f1f1;\n",
       "        }#T_cd480c5a_1f81_11eb_ac10_525400559babrow6_col8,#T_cd480c5a_1f81_11eb_ac10_525400559babrow8_col6{\n",
       "            background-color:  #045d92;\n",
       "            color:  #f1f1f1;\n",
       "        }#T_cd480c5a_1f81_11eb_ac10_525400559babrow6_col11,#T_cd480c5a_1f81_11eb_ac10_525400559babrow11_col6{\n",
       "            background-color:  #b3c3de;\n",
       "            color:  #000000;\n",
       "        }#T_cd480c5a_1f81_11eb_ac10_525400559babrow6_col12,#T_cd480c5a_1f81_11eb_ac10_525400559babrow12_col6{\n",
       "            background-color:  #3d93c2;\n",
       "            color:  #000000;\n",
       "        }#T_cd480c5a_1f81_11eb_ac10_525400559babrow6_col14,#T_cd480c5a_1f81_11eb_ac10_525400559babrow14_col6{\n",
       "            background-color:  #2a88bc;\n",
       "            color:  #000000;\n",
       "        }#T_cd480c5a_1f81_11eb_ac10_525400559babrow6_col15,#T_cd480c5a_1f81_11eb_ac10_525400559babrow15_col6{\n",
       "            background-color:  #1077b4;\n",
       "            color:  #f1f1f1;\n",
       "        }#T_cd480c5a_1f81_11eb_ac10_525400559babrow6_col16,#T_cd480c5a_1f81_11eb_ac10_525400559babrow16_col6{\n",
       "            background-color:  #046299;\n",
       "            color:  #f1f1f1;\n",
       "        }#T_cd480c5a_1f81_11eb_ac10_525400559babrow7_col8,#T_cd480c5a_1f81_11eb_ac10_525400559babrow8_col7{\n",
       "            background-color:  #045e94;\n",
       "            color:  #f1f1f1;\n",
       "        }#T_cd480c5a_1f81_11eb_ac10_525400559babrow7_col11,#T_cd480c5a_1f81_11eb_ac10_525400559babrow11_col7{\n",
       "            background-color:  #8eb3d5;\n",
       "            color:  #000000;\n",
       "        }#T_cd480c5a_1f81_11eb_ac10_525400559babrow7_col12,#T_cd480c5a_1f81_11eb_ac10_525400559babrow12_col7{\n",
       "            background-color:  #056ead;\n",
       "            color:  #f1f1f1;\n",
       "        }#T_cd480c5a_1f81_11eb_ac10_525400559babrow7_col13,#T_cd480c5a_1f81_11eb_ac10_525400559babrow13_col7{\n",
       "            background-color:  #056ba9;\n",
       "            color:  #f1f1f1;\n",
       "        }#T_cd480c5a_1f81_11eb_ac10_525400559babrow7_col14,#T_cd480c5a_1f81_11eb_ac10_525400559babrow14_col7{\n",
       "            background-color:  #79abd0;\n",
       "            color:  #000000;\n",
       "        }#T_cd480c5a_1f81_11eb_ac10_525400559babrow7_col15,#T_cd480c5a_1f81_11eb_ac10_525400559babrow15_col7,#T_cd480c5a_1f81_11eb_ac10_525400559babrow15_col16,#T_cd480c5a_1f81_11eb_ac10_525400559babrow16_col15{\n",
       "            background-color:  #509ac6;\n",
       "            color:  #000000;\n",
       "        }#T_cd480c5a_1f81_11eb_ac10_525400559babrow8_col11,#T_cd480c5a_1f81_11eb_ac10_525400559babrow11_col8{\n",
       "            background-color:  #81aed2;\n",
       "            color:  #000000;\n",
       "        }#T_cd480c5a_1f81_11eb_ac10_525400559babrow8_col13,#T_cd480c5a_1f81_11eb_ac10_525400559babrow13_col8{\n",
       "            background-color:  #0d75b3;\n",
       "            color:  #f1f1f1;\n",
       "        }#T_cd480c5a_1f81_11eb_ac10_525400559babrow8_col14,#T_cd480c5a_1f81_11eb_ac10_525400559babrow14_col8{\n",
       "            background-color:  #71a8ce;\n",
       "            color:  #000000;\n",
       "        }#T_cd480c5a_1f81_11eb_ac10_525400559babrow8_col15,#T_cd480c5a_1f81_11eb_ac10_525400559babrow15_col8{\n",
       "            background-color:  #60a1ca;\n",
       "            color:  #000000;\n",
       "        }#T_cd480c5a_1f81_11eb_ac10_525400559babrow8_col16,#T_cd480c5a_1f81_11eb_ac10_525400559babrow16_col8{\n",
       "            background-color:  #0567a2;\n",
       "            color:  #f1f1f1;\n",
       "        }#T_cd480c5a_1f81_11eb_ac10_525400559babrow9_col10,#T_cd480c5a_1f81_11eb_ac10_525400559babrow10_col9{\n",
       "            background-color:  #c0c9e2;\n",
       "            color:  #000000;\n",
       "        }#T_cd480c5a_1f81_11eb_ac10_525400559babrow9_col11,#T_cd480c5a_1f81_11eb_ac10_525400559babrow11_col9{\n",
       "            background-color:  #69a5cc;\n",
       "            color:  #000000;\n",
       "        }#T_cd480c5a_1f81_11eb_ac10_525400559babrow9_col13,#T_cd480c5a_1f81_11eb_ac10_525400559babrow13_col9{\n",
       "            background-color:  #3991c1;\n",
       "            color:  #000000;\n",
       "        }#T_cd480c5a_1f81_11eb_ac10_525400559babrow9_col14,#T_cd480c5a_1f81_11eb_ac10_525400559babrow11_col12,#T_cd480c5a_1f81_11eb_ac10_525400559babrow12_col11,#T_cd480c5a_1f81_11eb_ac10_525400559babrow14_col9{\n",
       "            background-color:  #a2bcda;\n",
       "            color:  #000000;\n",
       "        }#T_cd480c5a_1f81_11eb_ac10_525400559babrow10_col11,#T_cd480c5a_1f81_11eb_ac10_525400559babrow11_col10{\n",
       "            background-color:  #91b5d6;\n",
       "            color:  #000000;\n",
       "        }#T_cd480c5a_1f81_11eb_ac10_525400559babrow10_col12,#T_cd480c5a_1f81_11eb_ac10_525400559babrow10_col14,#T_cd480c5a_1f81_11eb_ac10_525400559babrow12_col10,#T_cd480c5a_1f81_11eb_ac10_525400559babrow14_col10{\n",
       "            background-color:  #308cbe;\n",
       "            color:  #000000;\n",
       "        }#T_cd480c5a_1f81_11eb_ac10_525400559babrow10_col13,#T_cd480c5a_1f81_11eb_ac10_525400559babrow13_col10,#T_cd480c5a_1f81_11eb_ac10_525400559babrow13_col16,#T_cd480c5a_1f81_11eb_ac10_525400559babrow16_col13{\n",
       "            background-color:  #0872b1;\n",
       "            color:  #f1f1f1;\n",
       "        }#T_cd480c5a_1f81_11eb_ac10_525400559babrow10_col15,#T_cd480c5a_1f81_11eb_ac10_525400559babrow15_col10{\n",
       "            background-color:  #2081b9;\n",
       "            color:  #000000;\n",
       "        }#T_cd480c5a_1f81_11eb_ac10_525400559babrow10_col16,#T_cd480c5a_1f81_11eb_ac10_525400559babrow16_col10{\n",
       "            background-color:  #04649e;\n",
       "            color:  #f1f1f1;\n",
       "        }#T_cd480c5a_1f81_11eb_ac10_525400559babrow11_col13,#T_cd480c5a_1f81_11eb_ac10_525400559babrow13_col11{\n",
       "            background-color:  #94b6d7;\n",
       "            color:  #000000;\n",
       "        }#T_cd480c5a_1f81_11eb_ac10_525400559babrow11_col15,#T_cd480c5a_1f81_11eb_ac10_525400559babrow15_col11{\n",
       "            background-color:  #b1c2de;\n",
       "            color:  #000000;\n",
       "        }#T_cd480c5a_1f81_11eb_ac10_525400559babrow11_col16,#T_cd480c5a_1f81_11eb_ac10_525400559babrow16_col11{\n",
       "            background-color:  #6fa7ce;\n",
       "            color:  #000000;\n",
       "        }#T_cd480c5a_1f81_11eb_ac10_525400559babrow12_col13,#T_cd480c5a_1f81_11eb_ac10_525400559babrow13_col12{\n",
       "            background-color:  #5c9fc9;\n",
       "            color:  #000000;\n",
       "        }#T_cd480c5a_1f81_11eb_ac10_525400559babrow12_col14,#T_cd480c5a_1f81_11eb_ac10_525400559babrow14_col12{\n",
       "            background-color:  #b5c4df;\n",
       "            color:  #000000;\n",
       "        }#T_cd480c5a_1f81_11eb_ac10_525400559babrow12_col15,#T_cd480c5a_1f81_11eb_ac10_525400559babrow15_col12{\n",
       "            background-color:  #97b7d7;\n",
       "            color:  #000000;\n",
       "        }#T_cd480c5a_1f81_11eb_ac10_525400559babrow12_col16,#T_cd480c5a_1f81_11eb_ac10_525400559babrow16_col12{\n",
       "            background-color:  #0567a1;\n",
       "            color:  #f1f1f1;\n",
       "        }#T_cd480c5a_1f81_11eb_ac10_525400559babrow13_col14,#T_cd480c5a_1f81_11eb_ac10_525400559babrow14_col13{\n",
       "            background-color:  #2c89bd;\n",
       "            color:  #000000;\n",
       "        }#T_cd480c5a_1f81_11eb_ac10_525400559babrow13_col15,#T_cd480c5a_1f81_11eb_ac10_525400559babrow15_col13{\n",
       "            background-color:  #1278b4;\n",
       "            color:  #f1f1f1;\n",
       "        }</style><table id=\"T_cd480c5a_1f81_11eb_ac10_525400559bab\" ><thead>    <tr>        <th class=\"blank level0\" ></th>        <th class=\"col_heading level0 col0\" >Rt</th>        <th class=\"col_heading level0 col1\" >theta</th>        <th class=\"col_heading level0 col2\" >kappa</th>        <th class=\"col_heading level0 col3\" >rho</th>        <th class=\"col_heading level0 col4\" >sigma</th>        <th class=\"col_heading level0 col5\" >School_closing</th>        <th class=\"col_heading level0 col6\" >Workplace_closing</th>        <th class=\"col_heading level0 col7\" >Cancel_events</th>        <th class=\"col_heading level0 col8\" >Gatherings_restrictions</th>        <th class=\"col_heading level0 col9\" >Transport_closing</th>        <th class=\"col_heading level0 col10\" >Stay_home_restrictions</th>        <th class=\"col_heading level0 col11\" >Internal_movement_restrictions</th>        <th class=\"col_heading level0 col12\" >International_movement_restrictions</th>        <th class=\"col_heading level0 col13\" >Information_campaigns</th>        <th class=\"col_heading level0 col14\" >Testing_policy</th>        <th class=\"col_heading level0 col15\" >Contact_tracing</th>        <th class=\"col_heading level0 col16\" >Stringency_index</th>    </tr></thead><tbody>\n",
       "                <tr>\n",
       "                        <th id=\"T_cd480c5a_1f81_11eb_ac10_525400559bablevel0_row0\" class=\"row_heading level0 row0\" >Rt</th>\n",
       "                        <td id=\"T_cd480c5a_1f81_11eb_ac10_525400559babrow0_col0\" class=\"data row0 col0\" >1.000000</td>\n",
       "                        <td id=\"T_cd480c5a_1f81_11eb_ac10_525400559babrow0_col1\" class=\"data row0 col1\" >-0.259458</td>\n",
       "                        <td id=\"T_cd480c5a_1f81_11eb_ac10_525400559babrow0_col2\" class=\"data row0 col2\" >-0.233120</td>\n",
       "                        <td id=\"T_cd480c5a_1f81_11eb_ac10_525400559babrow0_col3\" class=\"data row0 col3\" >0.034921</td>\n",
       "                        <td id=\"T_cd480c5a_1f81_11eb_ac10_525400559babrow0_col4\" class=\"data row0 col4\" >-0.411150</td>\n",
       "                        <td id=\"T_cd480c5a_1f81_11eb_ac10_525400559babrow0_col5\" class=\"data row0 col5\" >-0.334226</td>\n",
       "                        <td id=\"T_cd480c5a_1f81_11eb_ac10_525400559babrow0_col6\" class=\"data row0 col6\" >-0.265102</td>\n",
       "                        <td id=\"T_cd480c5a_1f81_11eb_ac10_525400559babrow0_col7\" class=\"data row0 col7\" >-0.155950</td>\n",
       "                        <td id=\"T_cd480c5a_1f81_11eb_ac10_525400559babrow0_col8\" class=\"data row0 col8\" >-0.245651</td>\n",
       "                        <td id=\"T_cd480c5a_1f81_11eb_ac10_525400559babrow0_col9\" class=\"data row0 col9\" >0.252860</td>\n",
       "                        <td id=\"T_cd480c5a_1f81_11eb_ac10_525400559babrow0_col10\" class=\"data row0 col10\" >-0.357139</td>\n",
       "                        <td id=\"T_cd480c5a_1f81_11eb_ac10_525400559babrow0_col11\" class=\"data row0 col11\" >-0.197507</td>\n",
       "                        <td id=\"T_cd480c5a_1f81_11eb_ac10_525400559babrow0_col12\" class=\"data row0 col12\" >-0.118738</td>\n",
       "                        <td id=\"T_cd480c5a_1f81_11eb_ac10_525400559babrow0_col13\" class=\"data row0 col13\" >0.020020</td>\n",
       "                        <td id=\"T_cd480c5a_1f81_11eb_ac10_525400559babrow0_col14\" class=\"data row0 col14\" >-0.219637</td>\n",
       "                        <td id=\"T_cd480c5a_1f81_11eb_ac10_525400559babrow0_col15\" class=\"data row0 col15\" >-0.319297</td>\n",
       "                        <td id=\"T_cd480c5a_1f81_11eb_ac10_525400559babrow0_col16\" class=\"data row0 col16\" >-0.228357</td>\n",
       "            </tr>\n",
       "            <tr>\n",
       "                        <th id=\"T_cd480c5a_1f81_11eb_ac10_525400559bablevel0_row1\" class=\"row_heading level0 row1\" >theta</th>\n",
       "                        <td id=\"T_cd480c5a_1f81_11eb_ac10_525400559babrow1_col0\" class=\"data row1 col0\" >-0.259458</td>\n",
       "                        <td id=\"T_cd480c5a_1f81_11eb_ac10_525400559babrow1_col1\" class=\"data row1 col1\" >1.000000</td>\n",
       "                        <td id=\"T_cd480c5a_1f81_11eb_ac10_525400559babrow1_col2\" class=\"data row1 col2\" >0.956339</td>\n",
       "                        <td id=\"T_cd480c5a_1f81_11eb_ac10_525400559babrow1_col3\" class=\"data row1 col3\" >0.674774</td>\n",
       "                        <td id=\"T_cd480c5a_1f81_11eb_ac10_525400559babrow1_col4\" class=\"data row1 col4\" >0.148138</td>\n",
       "                        <td id=\"T_cd480c5a_1f81_11eb_ac10_525400559babrow1_col5\" class=\"data row1 col5\" >-0.204888</td>\n",
       "                        <td id=\"T_cd480c5a_1f81_11eb_ac10_525400559babrow1_col6\" class=\"data row1 col6\" >-0.212922</td>\n",
       "                        <td id=\"T_cd480c5a_1f81_11eb_ac10_525400559babrow1_col7\" class=\"data row1 col7\" >-0.219598</td>\n",
       "                        <td id=\"T_cd480c5a_1f81_11eb_ac10_525400559babrow1_col8\" class=\"data row1 col8\" >-0.332841</td>\n",
       "                        <td id=\"T_cd480c5a_1f81_11eb_ac10_525400559babrow1_col9\" class=\"data row1 col9\" >-0.421294</td>\n",
       "                        <td id=\"T_cd480c5a_1f81_11eb_ac10_525400559babrow1_col10\" class=\"data row1 col10\" >-0.144231</td>\n",
       "                        <td id=\"T_cd480c5a_1f81_11eb_ac10_525400559babrow1_col11\" class=\"data row1 col11\" >-0.098803</td>\n",
       "                        <td id=\"T_cd480c5a_1f81_11eb_ac10_525400559babrow1_col12\" class=\"data row1 col12\" >0.142698</td>\n",
       "                        <td id=\"T_cd480c5a_1f81_11eb_ac10_525400559babrow1_col13\" class=\"data row1 col13\" >-0.411882</td>\n",
       "                        <td id=\"T_cd480c5a_1f81_11eb_ac10_525400559babrow1_col14\" class=\"data row1 col14\" >-0.190817</td>\n",
       "                        <td id=\"T_cd480c5a_1f81_11eb_ac10_525400559babrow1_col15\" class=\"data row1 col15\" >-0.050410</td>\n",
       "                        <td id=\"T_cd480c5a_1f81_11eb_ac10_525400559babrow1_col16\" class=\"data row1 col16\" >0.018551</td>\n",
       "            </tr>\n",
       "            <tr>\n",
       "                        <th id=\"T_cd480c5a_1f81_11eb_ac10_525400559bablevel0_row2\" class=\"row_heading level0 row2\" >kappa</th>\n",
       "                        <td id=\"T_cd480c5a_1f81_11eb_ac10_525400559babrow2_col0\" class=\"data row2 col0\" >-0.233120</td>\n",
       "                        <td id=\"T_cd480c5a_1f81_11eb_ac10_525400559babrow2_col1\" class=\"data row2 col1\" >0.956339</td>\n",
       "                        <td id=\"T_cd480c5a_1f81_11eb_ac10_525400559babrow2_col2\" class=\"data row2 col2\" >1.000000</td>\n",
       "                        <td id=\"T_cd480c5a_1f81_11eb_ac10_525400559babrow2_col3\" class=\"data row2 col3\" >0.762099</td>\n",
       "                        <td id=\"T_cd480c5a_1f81_11eb_ac10_525400559babrow2_col4\" class=\"data row2 col4\" >0.143594</td>\n",
       "                        <td id=\"T_cd480c5a_1f81_11eb_ac10_525400559babrow2_col5\" class=\"data row2 col5\" >-0.197662</td>\n",
       "                        <td id=\"T_cd480c5a_1f81_11eb_ac10_525400559babrow2_col6\" class=\"data row2 col6\" >-0.204522</td>\n",
       "                        <td id=\"T_cd480c5a_1f81_11eb_ac10_525400559babrow2_col7\" class=\"data row2 col7\" >-0.152379</td>\n",
       "                        <td id=\"T_cd480c5a_1f81_11eb_ac10_525400559babrow2_col8\" class=\"data row2 col8\" >-0.266787</td>\n",
       "                        <td id=\"T_cd480c5a_1f81_11eb_ac10_525400559babrow2_col9\" class=\"data row2 col9\" >-0.502667</td>\n",
       "                        <td id=\"T_cd480c5a_1f81_11eb_ac10_525400559babrow2_col10\" class=\"data row2 col10\" >-0.095816</td>\n",
       "                        <td id=\"T_cd480c5a_1f81_11eb_ac10_525400559babrow2_col11\" class=\"data row2 col11\" >-0.113712</td>\n",
       "                        <td id=\"T_cd480c5a_1f81_11eb_ac10_525400559babrow2_col12\" class=\"data row2 col12\" >0.221738</td>\n",
       "                        <td id=\"T_cd480c5a_1f81_11eb_ac10_525400559babrow2_col13\" class=\"data row2 col13\" >-0.449360</td>\n",
       "                        <td id=\"T_cd480c5a_1f81_11eb_ac10_525400559babrow2_col14\" class=\"data row2 col14\" >-0.205437</td>\n",
       "                        <td id=\"T_cd480c5a_1f81_11eb_ac10_525400559babrow2_col15\" class=\"data row2 col15\" >-0.092401</td>\n",
       "                        <td id=\"T_cd480c5a_1f81_11eb_ac10_525400559babrow2_col16\" class=\"data row2 col16\" >0.019284</td>\n",
       "            </tr>\n",
       "            <tr>\n",
       "                        <th id=\"T_cd480c5a_1f81_11eb_ac10_525400559bablevel0_row3\" class=\"row_heading level0 row3\" >rho</th>\n",
       "                        <td id=\"T_cd480c5a_1f81_11eb_ac10_525400559babrow3_col0\" class=\"data row3 col0\" >0.034921</td>\n",
       "                        <td id=\"T_cd480c5a_1f81_11eb_ac10_525400559babrow3_col1\" class=\"data row3 col1\" >0.674774</td>\n",
       "                        <td id=\"T_cd480c5a_1f81_11eb_ac10_525400559babrow3_col2\" class=\"data row3 col2\" >0.762099</td>\n",
       "                        <td id=\"T_cd480c5a_1f81_11eb_ac10_525400559babrow3_col3\" class=\"data row3 col3\" >1.000000</td>\n",
       "                        <td id=\"T_cd480c5a_1f81_11eb_ac10_525400559babrow3_col4\" class=\"data row3 col4\" >0.184807</td>\n",
       "                        <td id=\"T_cd480c5a_1f81_11eb_ac10_525400559babrow3_col5\" class=\"data row3 col5\" >-0.350258</td>\n",
       "                        <td id=\"T_cd480c5a_1f81_11eb_ac10_525400559babrow3_col6\" class=\"data row3 col6\" >-0.377677</td>\n",
       "                        <td id=\"T_cd480c5a_1f81_11eb_ac10_525400559babrow3_col7\" class=\"data row3 col7\" >-0.149412</td>\n",
       "                        <td id=\"T_cd480c5a_1f81_11eb_ac10_525400559babrow3_col8\" class=\"data row3 col8\" >-0.282149</td>\n",
       "                        <td id=\"T_cd480c5a_1f81_11eb_ac10_525400559babrow3_col9\" class=\"data row3 col9\" >-0.548446</td>\n",
       "                        <td id=\"T_cd480c5a_1f81_11eb_ac10_525400559babrow3_col10\" class=\"data row3 col10\" >-0.234166</td>\n",
       "                        <td id=\"T_cd480c5a_1f81_11eb_ac10_525400559babrow3_col11\" class=\"data row3 col11\" >-0.047827</td>\n",
       "                        <td id=\"T_cd480c5a_1f81_11eb_ac10_525400559babrow3_col12\" class=\"data row3 col12\" >0.161495</td>\n",
       "                        <td id=\"T_cd480c5a_1f81_11eb_ac10_525400559babrow3_col13\" class=\"data row3 col13\" >-0.551085</td>\n",
       "                        <td id=\"T_cd480c5a_1f81_11eb_ac10_525400559babrow3_col14\" class=\"data row3 col14\" >-0.466514</td>\n",
       "                        <td id=\"T_cd480c5a_1f81_11eb_ac10_525400559babrow3_col15\" class=\"data row3 col15\" >-0.414455</td>\n",
       "                        <td id=\"T_cd480c5a_1f81_11eb_ac10_525400559babrow3_col16\" class=\"data row3 col16\" >-0.044792</td>\n",
       "            </tr>\n",
       "            <tr>\n",
       "                        <th id=\"T_cd480c5a_1f81_11eb_ac10_525400559bablevel0_row4\" class=\"row_heading level0 row4\" >sigma</th>\n",
       "                        <td id=\"T_cd480c5a_1f81_11eb_ac10_525400559babrow4_col0\" class=\"data row4 col0\" >-0.411150</td>\n",
       "                        <td id=\"T_cd480c5a_1f81_11eb_ac10_525400559babrow4_col1\" class=\"data row4 col1\" >0.148138</td>\n",
       "                        <td id=\"T_cd480c5a_1f81_11eb_ac10_525400559babrow4_col2\" class=\"data row4 col2\" >0.143594</td>\n",
       "                        <td id=\"T_cd480c5a_1f81_11eb_ac10_525400559babrow4_col3\" class=\"data row4 col3\" >0.184807</td>\n",
       "                        <td id=\"T_cd480c5a_1f81_11eb_ac10_525400559babrow4_col4\" class=\"data row4 col4\" >1.000000</td>\n",
       "                        <td id=\"T_cd480c5a_1f81_11eb_ac10_525400559babrow4_col5\" class=\"data row4 col5\" >0.150849</td>\n",
       "                        <td id=\"T_cd480c5a_1f81_11eb_ac10_525400559babrow4_col6\" class=\"data row4 col6\" >0.133416</td>\n",
       "                        <td id=\"T_cd480c5a_1f81_11eb_ac10_525400559babrow4_col7\" class=\"data row4 col7\" >0.148453</td>\n",
       "                        <td id=\"T_cd480c5a_1f81_11eb_ac10_525400559babrow4_col8\" class=\"data row4 col8\" >0.103869</td>\n",
       "                        <td id=\"T_cd480c5a_1f81_11eb_ac10_525400559babrow4_col9\" class=\"data row4 col9\" >-0.433386</td>\n",
       "                        <td id=\"T_cd480c5a_1f81_11eb_ac10_525400559babrow4_col10\" class=\"data row4 col10\" >0.210564</td>\n",
       "                        <td id=\"T_cd480c5a_1f81_11eb_ac10_525400559babrow4_col11\" class=\"data row4 col11\" >0.128793</td>\n",
       "                        <td id=\"T_cd480c5a_1f81_11eb_ac10_525400559babrow4_col12\" class=\"data row4 col12\" >0.153409</td>\n",
       "                        <td id=\"T_cd480c5a_1f81_11eb_ac10_525400559babrow4_col13\" class=\"data row4 col13\" >-0.135051</td>\n",
       "                        <td id=\"T_cd480c5a_1f81_11eb_ac10_525400559babrow4_col14\" class=\"data row4 col14\" >0.056337</td>\n",
       "                        <td id=\"T_cd480c5a_1f81_11eb_ac10_525400559babrow4_col15\" class=\"data row4 col15\" >0.093985</td>\n",
       "                        <td id=\"T_cd480c5a_1f81_11eb_ac10_525400559babrow4_col16\" class=\"data row4 col16\" >0.242766</td>\n",
       "            </tr>\n",
       "            <tr>\n",
       "                        <th id=\"T_cd480c5a_1f81_11eb_ac10_525400559bablevel0_row5\" class=\"row_heading level0 row5\" >School_closing</th>\n",
       "                        <td id=\"T_cd480c5a_1f81_11eb_ac10_525400559babrow5_col0\" class=\"data row5 col0\" >-0.334226</td>\n",
       "                        <td id=\"T_cd480c5a_1f81_11eb_ac10_525400559babrow5_col1\" class=\"data row5 col1\" >-0.204888</td>\n",
       "                        <td id=\"T_cd480c5a_1f81_11eb_ac10_525400559babrow5_col2\" class=\"data row5 col2\" >-0.197662</td>\n",
       "                        <td id=\"T_cd480c5a_1f81_11eb_ac10_525400559babrow5_col3\" class=\"data row5 col3\" >-0.350258</td>\n",
       "                        <td id=\"T_cd480c5a_1f81_11eb_ac10_525400559babrow5_col4\" class=\"data row5 col4\" >0.150849</td>\n",
       "                        <td id=\"T_cd480c5a_1f81_11eb_ac10_525400559babrow5_col5\" class=\"data row5 col5\" >1.000000</td>\n",
       "                        <td id=\"T_cd480c5a_1f81_11eb_ac10_525400559babrow5_col6\" class=\"data row5 col6\" >0.926257</td>\n",
       "                        <td id=\"T_cd480c5a_1f81_11eb_ac10_525400559babrow5_col7\" class=\"data row5 col7\" >0.816739</td>\n",
       "                        <td id=\"T_cd480c5a_1f81_11eb_ac10_525400559babrow5_col8\" class=\"data row5 col8\" >0.787504</td>\n",
       "                        <td id=\"T_cd480c5a_1f81_11eb_ac10_525400559babrow5_col9\" class=\"data row5 col9\" >0.010239</td>\n",
       "                        <td id=\"T_cd480c5a_1f81_11eb_ac10_525400559babrow5_col10\" class=\"data row5 col10\" >0.900480</td>\n",
       "                        <td id=\"T_cd480c5a_1f81_11eb_ac10_525400559babrow5_col11\" class=\"data row5 col11\" >0.066542</td>\n",
       "                        <td id=\"T_cd480c5a_1f81_11eb_ac10_525400559babrow5_col12\" class=\"data row5 col12\" >0.453554</td>\n",
       "                        <td id=\"T_cd480c5a_1f81_11eb_ac10_525400559babrow5_col13\" class=\"data row5 col13\" >0.681420</td>\n",
       "                        <td id=\"T_cd480c5a_1f81_11eb_ac10_525400559babrow5_col14\" class=\"data row5 col14\" >0.412898</td>\n",
       "                        <td id=\"T_cd480c5a_1f81_11eb_ac10_525400559babrow5_col15\" class=\"data row5 col15\" >0.546231</td>\n",
       "                        <td id=\"T_cd480c5a_1f81_11eb_ac10_525400559babrow5_col16\" class=\"data row5 col16\" >0.756658</td>\n",
       "            </tr>\n",
       "            <tr>\n",
       "                        <th id=\"T_cd480c5a_1f81_11eb_ac10_525400559bablevel0_row6\" class=\"row_heading level0 row6\" >Workplace_closing</th>\n",
       "                        <td id=\"T_cd480c5a_1f81_11eb_ac10_525400559babrow6_col0\" class=\"data row6 col0\" >-0.265102</td>\n",
       "                        <td id=\"T_cd480c5a_1f81_11eb_ac10_525400559babrow6_col1\" class=\"data row6 col1\" >-0.212922</td>\n",
       "                        <td id=\"T_cd480c5a_1f81_11eb_ac10_525400559babrow6_col2\" class=\"data row6 col2\" >-0.204522</td>\n",
       "                        <td id=\"T_cd480c5a_1f81_11eb_ac10_525400559babrow6_col3\" class=\"data row6 col3\" >-0.377677</td>\n",
       "                        <td id=\"T_cd480c5a_1f81_11eb_ac10_525400559babrow6_col4\" class=\"data row6 col4\" >0.133416</td>\n",
       "                        <td id=\"T_cd480c5a_1f81_11eb_ac10_525400559babrow6_col5\" class=\"data row6 col5\" >0.926257</td>\n",
       "                        <td id=\"T_cd480c5a_1f81_11eb_ac10_525400559babrow6_col6\" class=\"data row6 col6\" >1.000000</td>\n",
       "                        <td id=\"T_cd480c5a_1f81_11eb_ac10_525400559babrow6_col7\" class=\"data row6 col7\" >0.799108</td>\n",
       "                        <td id=\"T_cd480c5a_1f81_11eb_ac10_525400559babrow6_col8\" class=\"data row6 col8\" >0.777845</td>\n",
       "                        <td id=\"T_cd480c5a_1f81_11eb_ac10_525400559babrow6_col9\" class=\"data row6 col9\" >0.031713</td>\n",
       "                        <td id=\"T_cd480c5a_1f81_11eb_ac10_525400559babrow6_col10\" class=\"data row6 col10\" >0.901504</td>\n",
       "                        <td id=\"T_cd480c5a_1f81_11eb_ac10_525400559babrow6_col11\" class=\"data row6 col11\" >-0.027194</td>\n",
       "                        <td id=\"T_cd480c5a_1f81_11eb_ac10_525400559babrow6_col12\" class=\"data row6 col12\" >0.398722</td>\n",
       "                        <td id=\"T_cd480c5a_1f81_11eb_ac10_525400559babrow6_col13\" class=\"data row6 col13\" >0.682825</td>\n",
       "                        <td id=\"T_cd480c5a_1f81_11eb_ac10_525400559babrow6_col14\" class=\"data row6 col14\" >0.460889</td>\n",
       "                        <td id=\"T_cd480c5a_1f81_11eb_ac10_525400559babrow6_col15\" class=\"data row6 col15\" >0.567399</td>\n",
       "                        <td id=\"T_cd480c5a_1f81_11eb_ac10_525400559babrow6_col16\" class=\"data row6 col16\" >0.738748</td>\n",
       "            </tr>\n",
       "            <tr>\n",
       "                        <th id=\"T_cd480c5a_1f81_11eb_ac10_525400559bablevel0_row7\" class=\"row_heading level0 row7\" >Cancel_events</th>\n",
       "                        <td id=\"T_cd480c5a_1f81_11eb_ac10_525400559babrow7_col0\" class=\"data row7 col0\" >-0.155950</td>\n",
       "                        <td id=\"T_cd480c5a_1f81_11eb_ac10_525400559babrow7_col1\" class=\"data row7 col1\" >-0.219598</td>\n",
       "                        <td id=\"T_cd480c5a_1f81_11eb_ac10_525400559babrow7_col2\" class=\"data row7 col2\" >-0.152379</td>\n",
       "                        <td id=\"T_cd480c5a_1f81_11eb_ac10_525400559babrow7_col3\" class=\"data row7 col3\" >-0.149412</td>\n",
       "                        <td id=\"T_cd480c5a_1f81_11eb_ac10_525400559babrow7_col4\" class=\"data row7 col4\" >0.148453</td>\n",
       "                        <td id=\"T_cd480c5a_1f81_11eb_ac10_525400559babrow7_col5\" class=\"data row7 col5\" >0.816739</td>\n",
       "                        <td id=\"T_cd480c5a_1f81_11eb_ac10_525400559babrow7_col6\" class=\"data row7 col6\" >0.799108</td>\n",
       "                        <td id=\"T_cd480c5a_1f81_11eb_ac10_525400559babrow7_col7\" class=\"data row7 col7\" >1.000000</td>\n",
       "                        <td id=\"T_cd480c5a_1f81_11eb_ac10_525400559babrow7_col8\" class=\"data row7 col8\" >0.768726</td>\n",
       "                        <td id=\"T_cd480c5a_1f81_11eb_ac10_525400559babrow7_col9\" class=\"data row7 col9\" >-0.044479</td>\n",
       "                        <td id=\"T_cd480c5a_1f81_11eb_ac10_525400559babrow7_col10\" class=\"data row7 col10\" >0.812693</td>\n",
       "                        <td id=\"T_cd480c5a_1f81_11eb_ac10_525400559babrow7_col11\" class=\"data row7 col11\" >0.123914</td>\n",
       "                        <td id=\"T_cd480c5a_1f81_11eb_ac10_525400559babrow7_col12\" class=\"data row7 col12\" >0.627122</td>\n",
       "                        <td id=\"T_cd480c5a_1f81_11eb_ac10_525400559babrow7_col13\" class=\"data row7 col13\" >0.650743</td>\n",
       "                        <td id=\"T_cd480c5a_1f81_11eb_ac10_525400559babrow7_col14\" class=\"data row7 col14\" >0.204454</td>\n",
       "                        <td id=\"T_cd480c5a_1f81_11eb_ac10_525400559babrow7_col15\" class=\"data row7 col15\" >0.337490</td>\n",
       "                        <td id=\"T_cd480c5a_1f81_11eb_ac10_525400559babrow7_col16\" class=\"data row7 col16\" >0.799535</td>\n",
       "            </tr>\n",
       "            <tr>\n",
       "                        <th id=\"T_cd480c5a_1f81_11eb_ac10_525400559bablevel0_row8\" class=\"row_heading level0 row8\" >Gatherings_restrictions</th>\n",
       "                        <td id=\"T_cd480c5a_1f81_11eb_ac10_525400559babrow8_col0\" class=\"data row8 col0\" >-0.245651</td>\n",
       "                        <td id=\"T_cd480c5a_1f81_11eb_ac10_525400559babrow8_col1\" class=\"data row8 col1\" >-0.332841</td>\n",
       "                        <td id=\"T_cd480c5a_1f81_11eb_ac10_525400559babrow8_col2\" class=\"data row8 col2\" >-0.266787</td>\n",
       "                        <td id=\"T_cd480c5a_1f81_11eb_ac10_525400559babrow8_col3\" class=\"data row8 col3\" >-0.282149</td>\n",
       "                        <td id=\"T_cd480c5a_1f81_11eb_ac10_525400559babrow8_col4\" class=\"data row8 col4\" >0.103869</td>\n",
       "                        <td id=\"T_cd480c5a_1f81_11eb_ac10_525400559babrow8_col5\" class=\"data row8 col5\" >0.787504</td>\n",
       "                        <td id=\"T_cd480c5a_1f81_11eb_ac10_525400559babrow8_col6\" class=\"data row8 col6\" >0.777845</td>\n",
       "                        <td id=\"T_cd480c5a_1f81_11eb_ac10_525400559babrow8_col7\" class=\"data row8 col7\" >0.768726</td>\n",
       "                        <td id=\"T_cd480c5a_1f81_11eb_ac10_525400559babrow8_col8\" class=\"data row8 col8\" >1.000000</td>\n",
       "                        <td id=\"T_cd480c5a_1f81_11eb_ac10_525400559babrow8_col9\" class=\"data row8 col9\" >0.019302</td>\n",
       "                        <td id=\"T_cd480c5a_1f81_11eb_ac10_525400559babrow8_col10\" class=\"data row8 col10\" >0.787768</td>\n",
       "                        <td id=\"T_cd480c5a_1f81_11eb_ac10_525400559babrow8_col11\" class=\"data row8 col11\" >0.173154</td>\n",
       "                        <td id=\"T_cd480c5a_1f81_11eb_ac10_525400559babrow8_col12\" class=\"data row8 col12\" >0.546457</td>\n",
       "                        <td id=\"T_cd480c5a_1f81_11eb_ac10_525400559babrow8_col13\" class=\"data row8 col13\" >0.576867</td>\n",
       "                        <td id=\"T_cd480c5a_1f81_11eb_ac10_525400559babrow8_col14\" class=\"data row8 col14\" >0.236159</td>\n",
       "                        <td id=\"T_cd480c5a_1f81_11eb_ac10_525400559babrow8_col15\" class=\"data row8 col15\" >0.288038</td>\n",
       "                        <td id=\"T_cd480c5a_1f81_11eb_ac10_525400559babrow8_col16\" class=\"data row8 col16\" >0.687523</td>\n",
       "            </tr>\n",
       "            <tr>\n",
       "                        <th id=\"T_cd480c5a_1f81_11eb_ac10_525400559bablevel0_row9\" class=\"row_heading level0 row9\" >Transport_closing</th>\n",
       "                        <td id=\"T_cd480c5a_1f81_11eb_ac10_525400559babrow9_col0\" class=\"data row9 col0\" >0.252860</td>\n",
       "                        <td id=\"T_cd480c5a_1f81_11eb_ac10_525400559babrow9_col1\" class=\"data row9 col1\" >-0.421294</td>\n",
       "                        <td id=\"T_cd480c5a_1f81_11eb_ac10_525400559babrow9_col2\" class=\"data row9 col2\" >-0.502667</td>\n",
       "                        <td id=\"T_cd480c5a_1f81_11eb_ac10_525400559babrow9_col3\" class=\"data row9 col3\" >-0.548446</td>\n",
       "                        <td id=\"T_cd480c5a_1f81_11eb_ac10_525400559babrow9_col4\" class=\"data row9 col4\" >-0.433386</td>\n",
       "                        <td id=\"T_cd480c5a_1f81_11eb_ac10_525400559babrow9_col5\" class=\"data row9 col5\" >0.010239</td>\n",
       "                        <td id=\"T_cd480c5a_1f81_11eb_ac10_525400559babrow9_col6\" class=\"data row9 col6\" >0.031713</td>\n",
       "                        <td id=\"T_cd480c5a_1f81_11eb_ac10_525400559babrow9_col7\" class=\"data row9 col7\" >-0.044479</td>\n",
       "                        <td id=\"T_cd480c5a_1f81_11eb_ac10_525400559babrow9_col8\" class=\"data row9 col8\" >0.019302</td>\n",
       "                        <td id=\"T_cd480c5a_1f81_11eb_ac10_525400559babrow9_col9\" class=\"data row9 col9\" >1.000000</td>\n",
       "                        <td id=\"T_cd480c5a_1f81_11eb_ac10_525400559babrow9_col10\" class=\"data row9 col10\" >-0.084733</td>\n",
       "                        <td id=\"T_cd480c5a_1f81_11eb_ac10_525400559babrow9_col11\" class=\"data row9 col11\" >0.255194</td>\n",
       "                        <td id=\"T_cd480c5a_1f81_11eb_ac10_525400559babrow9_col12\" class=\"data row9 col12\" >-0.271269</td>\n",
       "                        <td id=\"T_cd480c5a_1f81_11eb_ac10_525400559babrow9_col13\" class=\"data row9 col13\" >0.407404</td>\n",
       "                        <td id=\"T_cd480c5a_1f81_11eb_ac10_525400559babrow9_col14\" class=\"data row9 col14\" >0.046064</td>\n",
       "                        <td id=\"T_cd480c5a_1f81_11eb_ac10_525400559babrow9_col15\" class=\"data row9 col15\" >0.059692</td>\n",
       "                        <td id=\"T_cd480c5a_1f81_11eb_ac10_525400559babrow9_col16\" class=\"data row9 col16\" >-0.138161</td>\n",
       "            </tr>\n",
       "            <tr>\n",
       "                        <th id=\"T_cd480c5a_1f81_11eb_ac10_525400559bablevel0_row10\" class=\"row_heading level0 row10\" >Stay_home_restrictions</th>\n",
       "                        <td id=\"T_cd480c5a_1f81_11eb_ac10_525400559babrow10_col0\" class=\"data row10 col0\" >-0.357139</td>\n",
       "                        <td id=\"T_cd480c5a_1f81_11eb_ac10_525400559babrow10_col1\" class=\"data row10 col1\" >-0.144231</td>\n",
       "                        <td id=\"T_cd480c5a_1f81_11eb_ac10_525400559babrow10_col2\" class=\"data row10 col2\" >-0.095816</td>\n",
       "                        <td id=\"T_cd480c5a_1f81_11eb_ac10_525400559babrow10_col3\" class=\"data row10 col3\" >-0.234166</td>\n",
       "                        <td id=\"T_cd480c5a_1f81_11eb_ac10_525400559babrow10_col4\" class=\"data row10 col4\" >0.210564</td>\n",
       "                        <td id=\"T_cd480c5a_1f81_11eb_ac10_525400559babrow10_col5\" class=\"data row10 col5\" >0.900480</td>\n",
       "                        <td id=\"T_cd480c5a_1f81_11eb_ac10_525400559babrow10_col6\" class=\"data row10 col6\" >0.901504</td>\n",
       "                        <td id=\"T_cd480c5a_1f81_11eb_ac10_525400559babrow10_col7\" class=\"data row10 col7\" >0.812693</td>\n",
       "                        <td id=\"T_cd480c5a_1f81_11eb_ac10_525400559babrow10_col8\" class=\"data row10 col8\" >0.787768</td>\n",
       "                        <td id=\"T_cd480c5a_1f81_11eb_ac10_525400559babrow10_col9\" class=\"data row10 col9\" >-0.084733</td>\n",
       "                        <td id=\"T_cd480c5a_1f81_11eb_ac10_525400559babrow10_col10\" class=\"data row10 col10\" >1.000000</td>\n",
       "                        <td id=\"T_cd480c5a_1f81_11eb_ac10_525400559babrow10_col11\" class=\"data row10 col11\" >0.109585</td>\n",
       "                        <td id=\"T_cd480c5a_1f81_11eb_ac10_525400559babrow10_col12\" class=\"data row10 col12\" >0.439874</td>\n",
       "                        <td id=\"T_cd480c5a_1f81_11eb_ac10_525400559babrow10_col13\" class=\"data row10 col13\" >0.595364</td>\n",
       "                        <td id=\"T_cd480c5a_1f81_11eb_ac10_525400559babrow10_col14\" class=\"data row10 col14\" >0.438982</td>\n",
       "                        <td id=\"T_cd480c5a_1f81_11eb_ac10_525400559babrow10_col15\" class=\"data row10 col15\" >0.506883</td>\n",
       "                        <td id=\"T_cd480c5a_1f81_11eb_ac10_525400559babrow10_col16\" class=\"data row10 col16\" >0.714769</td>\n",
       "            </tr>\n",
       "            <tr>\n",
       "                        <th id=\"T_cd480c5a_1f81_11eb_ac10_525400559bablevel0_row11\" class=\"row_heading level0 row11\" >Internal_movement_restrictions</th>\n",
       "                        <td id=\"T_cd480c5a_1f81_11eb_ac10_525400559babrow11_col0\" class=\"data row11 col0\" >-0.197507</td>\n",
       "                        <td id=\"T_cd480c5a_1f81_11eb_ac10_525400559babrow11_col1\" class=\"data row11 col1\" >-0.098803</td>\n",
       "                        <td id=\"T_cd480c5a_1f81_11eb_ac10_525400559babrow11_col2\" class=\"data row11 col2\" >-0.113712</td>\n",
       "                        <td id=\"T_cd480c5a_1f81_11eb_ac10_525400559babrow11_col3\" class=\"data row11 col3\" >-0.047827</td>\n",
       "                        <td id=\"T_cd480c5a_1f81_11eb_ac10_525400559babrow11_col4\" class=\"data row11 col4\" >0.128793</td>\n",
       "                        <td id=\"T_cd480c5a_1f81_11eb_ac10_525400559babrow11_col5\" class=\"data row11 col5\" >0.066542</td>\n",
       "                        <td id=\"T_cd480c5a_1f81_11eb_ac10_525400559babrow11_col6\" class=\"data row11 col6\" >-0.027194</td>\n",
       "                        <td id=\"T_cd480c5a_1f81_11eb_ac10_525400559babrow11_col7\" class=\"data row11 col7\" >0.123914</td>\n",
       "                        <td id=\"T_cd480c5a_1f81_11eb_ac10_525400559babrow11_col8\" class=\"data row11 col8\" >0.173154</td>\n",
       "                        <td id=\"T_cd480c5a_1f81_11eb_ac10_525400559babrow11_col9\" class=\"data row11 col9\" >0.255194</td>\n",
       "                        <td id=\"T_cd480c5a_1f81_11eb_ac10_525400559babrow11_col10\" class=\"data row11 col10\" >0.109585</td>\n",
       "                        <td id=\"T_cd480c5a_1f81_11eb_ac10_525400559babrow11_col11\" class=\"data row11 col11\" >1.000000</td>\n",
       "                        <td id=\"T_cd480c5a_1f81_11eb_ac10_525400559babrow11_col12\" class=\"data row11 col12\" >0.045049</td>\n",
       "                        <td id=\"T_cd480c5a_1f81_11eb_ac10_525400559babrow11_col13\" class=\"data row11 col13\" >0.099234</td>\n",
       "                        <td id=\"T_cd480c5a_1f81_11eb_ac10_525400559babrow11_col14\" class=\"data row11 col14\" >-0.120541</td>\n",
       "                        <td id=\"T_cd480c5a_1f81_11eb_ac10_525400559babrow11_col15\" class=\"data row11 col15\" >-0.023840</td>\n",
       "                        <td id=\"T_cd480c5a_1f81_11eb_ac10_525400559babrow11_col16\" class=\"data row11 col16\" >0.240513</td>\n",
       "            </tr>\n",
       "            <tr>\n",
       "                        <th id=\"T_cd480c5a_1f81_11eb_ac10_525400559bablevel0_row12\" class=\"row_heading level0 row12\" >International_movement_restrictions</th>\n",
       "                        <td id=\"T_cd480c5a_1f81_11eb_ac10_525400559babrow12_col0\" class=\"data row12 col0\" >-0.118738</td>\n",
       "                        <td id=\"T_cd480c5a_1f81_11eb_ac10_525400559babrow12_col1\" class=\"data row12 col1\" >0.142698</td>\n",
       "                        <td id=\"T_cd480c5a_1f81_11eb_ac10_525400559babrow12_col2\" class=\"data row12 col2\" >0.221738</td>\n",
       "                        <td id=\"T_cd480c5a_1f81_11eb_ac10_525400559babrow12_col3\" class=\"data row12 col3\" >0.161495</td>\n",
       "                        <td id=\"T_cd480c5a_1f81_11eb_ac10_525400559babrow12_col4\" class=\"data row12 col4\" >0.153409</td>\n",
       "                        <td id=\"T_cd480c5a_1f81_11eb_ac10_525400559babrow12_col5\" class=\"data row12 col5\" >0.453554</td>\n",
       "                        <td id=\"T_cd480c5a_1f81_11eb_ac10_525400559babrow12_col6\" class=\"data row12 col6\" >0.398722</td>\n",
       "                        <td id=\"T_cd480c5a_1f81_11eb_ac10_525400559babrow12_col7\" class=\"data row12 col7\" >0.627122</td>\n",
       "                        <td id=\"T_cd480c5a_1f81_11eb_ac10_525400559babrow12_col8\" class=\"data row12 col8\" >0.546457</td>\n",
       "                        <td id=\"T_cd480c5a_1f81_11eb_ac10_525400559babrow12_col9\" class=\"data row12 col9\" >-0.271269</td>\n",
       "                        <td id=\"T_cd480c5a_1f81_11eb_ac10_525400559babrow12_col10\" class=\"data row12 col10\" >0.439874</td>\n",
       "                        <td id=\"T_cd480c5a_1f81_11eb_ac10_525400559babrow12_col11\" class=\"data row12 col11\" >0.045049</td>\n",
       "                        <td id=\"T_cd480c5a_1f81_11eb_ac10_525400559babrow12_col12\" class=\"data row12 col12\" >1.000000</td>\n",
       "                        <td id=\"T_cd480c5a_1f81_11eb_ac10_525400559babrow12_col13\" class=\"data row12 col13\" >0.302483</td>\n",
       "                        <td id=\"T_cd480c5a_1f81_11eb_ac10_525400559babrow12_col14\" class=\"data row12 col14\" >-0.036865</td>\n",
       "                        <td id=\"T_cd480c5a_1f81_11eb_ac10_525400559babrow12_col15\" class=\"data row12 col15\" >0.086516</td>\n",
       "                        <td id=\"T_cd480c5a_1f81_11eb_ac10_525400559babrow12_col16\" class=\"data row12 col16\" >0.695411</td>\n",
       "            </tr>\n",
       "            <tr>\n",
       "                        <th id=\"T_cd480c5a_1f81_11eb_ac10_525400559bablevel0_row13\" class=\"row_heading level0 row13\" >Information_campaigns</th>\n",
       "                        <td id=\"T_cd480c5a_1f81_11eb_ac10_525400559babrow13_col0\" class=\"data row13 col0\" >0.020020</td>\n",
       "                        <td id=\"T_cd480c5a_1f81_11eb_ac10_525400559babrow13_col1\" class=\"data row13 col1\" >-0.411882</td>\n",
       "                        <td id=\"T_cd480c5a_1f81_11eb_ac10_525400559babrow13_col2\" class=\"data row13 col2\" >-0.449360</td>\n",
       "                        <td id=\"T_cd480c5a_1f81_11eb_ac10_525400559babrow13_col3\" class=\"data row13 col3\" >-0.551085</td>\n",
       "                        <td id=\"T_cd480c5a_1f81_11eb_ac10_525400559babrow13_col4\" class=\"data row13 col4\" >-0.135051</td>\n",
       "                        <td id=\"T_cd480c5a_1f81_11eb_ac10_525400559babrow13_col5\" class=\"data row13 col5\" >0.681420</td>\n",
       "                        <td id=\"T_cd480c5a_1f81_11eb_ac10_525400559babrow13_col6\" class=\"data row13 col6\" >0.682825</td>\n",
       "                        <td id=\"T_cd480c5a_1f81_11eb_ac10_525400559babrow13_col7\" class=\"data row13 col7\" >0.650743</td>\n",
       "                        <td id=\"T_cd480c5a_1f81_11eb_ac10_525400559babrow13_col8\" class=\"data row13 col8\" >0.576867</td>\n",
       "                        <td id=\"T_cd480c5a_1f81_11eb_ac10_525400559babrow13_col9\" class=\"data row13 col9\" >0.407404</td>\n",
       "                        <td id=\"T_cd480c5a_1f81_11eb_ac10_525400559babrow13_col10\" class=\"data row13 col10\" >0.595364</td>\n",
       "                        <td id=\"T_cd480c5a_1f81_11eb_ac10_525400559babrow13_col11\" class=\"data row13 col11\" >0.099234</td>\n",
       "                        <td id=\"T_cd480c5a_1f81_11eb_ac10_525400559babrow13_col12\" class=\"data row13 col12\" >0.302483</td>\n",
       "                        <td id=\"T_cd480c5a_1f81_11eb_ac10_525400559babrow13_col13\" class=\"data row13 col13\" >1.000000</td>\n",
       "                        <td id=\"T_cd480c5a_1f81_11eb_ac10_525400559babrow13_col14\" class=\"data row13 col14\" >0.457721</td>\n",
       "                        <td id=\"T_cd480c5a_1f81_11eb_ac10_525400559babrow13_col15\" class=\"data row13 col15\" >0.561023</td>\n",
       "                        <td id=\"T_cd480c5a_1f81_11eb_ac10_525400559babrow13_col16\" class=\"data row13 col16\" >0.599812</td>\n",
       "            </tr>\n",
       "            <tr>\n",
       "                        <th id=\"T_cd480c5a_1f81_11eb_ac10_525400559bablevel0_row14\" class=\"row_heading level0 row14\" >Testing_policy</th>\n",
       "                        <td id=\"T_cd480c5a_1f81_11eb_ac10_525400559babrow14_col0\" class=\"data row14 col0\" >-0.219637</td>\n",
       "                        <td id=\"T_cd480c5a_1f81_11eb_ac10_525400559babrow14_col1\" class=\"data row14 col1\" >-0.190817</td>\n",
       "                        <td id=\"T_cd480c5a_1f81_11eb_ac10_525400559babrow14_col2\" class=\"data row14 col2\" >-0.205437</td>\n",
       "                        <td id=\"T_cd480c5a_1f81_11eb_ac10_525400559babrow14_col3\" class=\"data row14 col3\" >-0.466514</td>\n",
       "                        <td id=\"T_cd480c5a_1f81_11eb_ac10_525400559babrow14_col4\" class=\"data row14 col4\" >0.056337</td>\n",
       "                        <td id=\"T_cd480c5a_1f81_11eb_ac10_525400559babrow14_col5\" class=\"data row14 col5\" >0.412898</td>\n",
       "                        <td id=\"T_cd480c5a_1f81_11eb_ac10_525400559babrow14_col6\" class=\"data row14 col6\" >0.460889</td>\n",
       "                        <td id=\"T_cd480c5a_1f81_11eb_ac10_525400559babrow14_col7\" class=\"data row14 col7\" >0.204454</td>\n",
       "                        <td id=\"T_cd480c5a_1f81_11eb_ac10_525400559babrow14_col8\" class=\"data row14 col8\" >0.236159</td>\n",
       "                        <td id=\"T_cd480c5a_1f81_11eb_ac10_525400559babrow14_col9\" class=\"data row14 col9\" >0.046064</td>\n",
       "                        <td id=\"T_cd480c5a_1f81_11eb_ac10_525400559babrow14_col10\" class=\"data row14 col10\" >0.438982</td>\n",
       "                        <td id=\"T_cd480c5a_1f81_11eb_ac10_525400559babrow14_col11\" class=\"data row14 col11\" >-0.120541</td>\n",
       "                        <td id=\"T_cd480c5a_1f81_11eb_ac10_525400559babrow14_col12\" class=\"data row14 col12\" >-0.036865</td>\n",
       "                        <td id=\"T_cd480c5a_1f81_11eb_ac10_525400559babrow14_col13\" class=\"data row14 col13\" >0.457721</td>\n",
       "                        <td id=\"T_cd480c5a_1f81_11eb_ac10_525400559babrow14_col14\" class=\"data row14 col14\" >1.000000</td>\n",
       "                        <td id=\"T_cd480c5a_1f81_11eb_ac10_525400559babrow14_col15\" class=\"data row14 col15\" >0.757823</td>\n",
       "                        <td id=\"T_cd480c5a_1f81_11eb_ac10_525400559babrow14_col16\" class=\"data row14 col16\" >0.066553</td>\n",
       "            </tr>\n",
       "            <tr>\n",
       "                        <th id=\"T_cd480c5a_1f81_11eb_ac10_525400559bablevel0_row15\" class=\"row_heading level0 row15\" >Contact_tracing</th>\n",
       "                        <td id=\"T_cd480c5a_1f81_11eb_ac10_525400559babrow15_col0\" class=\"data row15 col0\" >-0.319297</td>\n",
       "                        <td id=\"T_cd480c5a_1f81_11eb_ac10_525400559babrow15_col1\" class=\"data row15 col1\" >-0.050410</td>\n",
       "                        <td id=\"T_cd480c5a_1f81_11eb_ac10_525400559babrow15_col2\" class=\"data row15 col2\" >-0.092401</td>\n",
       "                        <td id=\"T_cd480c5a_1f81_11eb_ac10_525400559babrow15_col3\" class=\"data row15 col3\" >-0.414455</td>\n",
       "                        <td id=\"T_cd480c5a_1f81_11eb_ac10_525400559babrow15_col4\" class=\"data row15 col4\" >0.093985</td>\n",
       "                        <td id=\"T_cd480c5a_1f81_11eb_ac10_525400559babrow15_col5\" class=\"data row15 col5\" >0.546231</td>\n",
       "                        <td id=\"T_cd480c5a_1f81_11eb_ac10_525400559babrow15_col6\" class=\"data row15 col6\" >0.567399</td>\n",
       "                        <td id=\"T_cd480c5a_1f81_11eb_ac10_525400559babrow15_col7\" class=\"data row15 col7\" >0.337490</td>\n",
       "                        <td id=\"T_cd480c5a_1f81_11eb_ac10_525400559babrow15_col8\" class=\"data row15 col8\" >0.288038</td>\n",
       "                        <td id=\"T_cd480c5a_1f81_11eb_ac10_525400559babrow15_col9\" class=\"data row15 col9\" >0.059692</td>\n",
       "                        <td id=\"T_cd480c5a_1f81_11eb_ac10_525400559babrow15_col10\" class=\"data row15 col10\" >0.506883</td>\n",
       "                        <td id=\"T_cd480c5a_1f81_11eb_ac10_525400559babrow15_col11\" class=\"data row15 col11\" >-0.023840</td>\n",
       "                        <td id=\"T_cd480c5a_1f81_11eb_ac10_525400559babrow15_col12\" class=\"data row15 col12\" >0.086516</td>\n",
       "                        <td id=\"T_cd480c5a_1f81_11eb_ac10_525400559babrow15_col13\" class=\"data row15 col13\" >0.561023</td>\n",
       "                        <td id=\"T_cd480c5a_1f81_11eb_ac10_525400559babrow15_col14\" class=\"data row15 col14\" >0.757823</td>\n",
       "                        <td id=\"T_cd480c5a_1f81_11eb_ac10_525400559babrow15_col15\" class=\"data row15 col15\" >1.000000</td>\n",
       "                        <td id=\"T_cd480c5a_1f81_11eb_ac10_525400559babrow15_col16\" class=\"data row15 col16\" >0.334070</td>\n",
       "            </tr>\n",
       "            <tr>\n",
       "                        <th id=\"T_cd480c5a_1f81_11eb_ac10_525400559bablevel0_row16\" class=\"row_heading level0 row16\" >Stringency_index</th>\n",
       "                        <td id=\"T_cd480c5a_1f81_11eb_ac10_525400559babrow16_col0\" class=\"data row16 col0\" >-0.228357</td>\n",
       "                        <td id=\"T_cd480c5a_1f81_11eb_ac10_525400559babrow16_col1\" class=\"data row16 col1\" >0.018551</td>\n",
       "                        <td id=\"T_cd480c5a_1f81_11eb_ac10_525400559babrow16_col2\" class=\"data row16 col2\" >0.019284</td>\n",
       "                        <td id=\"T_cd480c5a_1f81_11eb_ac10_525400559babrow16_col3\" class=\"data row16 col3\" >-0.044792</td>\n",
       "                        <td id=\"T_cd480c5a_1f81_11eb_ac10_525400559babrow16_col4\" class=\"data row16 col4\" >0.242766</td>\n",
       "                        <td id=\"T_cd480c5a_1f81_11eb_ac10_525400559babrow16_col5\" class=\"data row16 col5\" >0.756658</td>\n",
       "                        <td id=\"T_cd480c5a_1f81_11eb_ac10_525400559babrow16_col6\" class=\"data row16 col6\" >0.738748</td>\n",
       "                        <td id=\"T_cd480c5a_1f81_11eb_ac10_525400559babrow16_col7\" class=\"data row16 col7\" >0.799535</td>\n",
       "                        <td id=\"T_cd480c5a_1f81_11eb_ac10_525400559babrow16_col8\" class=\"data row16 col8\" >0.687523</td>\n",
       "                        <td id=\"T_cd480c5a_1f81_11eb_ac10_525400559babrow16_col9\" class=\"data row16 col9\" >-0.138161</td>\n",
       "                        <td id=\"T_cd480c5a_1f81_11eb_ac10_525400559babrow16_col10\" class=\"data row16 col10\" >0.714769</td>\n",
       "                        <td id=\"T_cd480c5a_1f81_11eb_ac10_525400559babrow16_col11\" class=\"data row16 col11\" >0.240513</td>\n",
       "                        <td id=\"T_cd480c5a_1f81_11eb_ac10_525400559babrow16_col12\" class=\"data row16 col12\" >0.695411</td>\n",
       "                        <td id=\"T_cd480c5a_1f81_11eb_ac10_525400559babrow16_col13\" class=\"data row16 col13\" >0.599812</td>\n",
       "                        <td id=\"T_cd480c5a_1f81_11eb_ac10_525400559babrow16_col14\" class=\"data row16 col14\" >0.066553</td>\n",
       "                        <td id=\"T_cd480c5a_1f81_11eb_ac10_525400559babrow16_col15\" class=\"data row16 col15\" >0.334070</td>\n",
       "                        <td id=\"T_cd480c5a_1f81_11eb_ac10_525400559babrow16_col16\" class=\"data row16 col16\" >1.000000</td>\n",
       "            </tr>\n",
       "    </tbody></table>"
      ],
      "text/plain": [
       "<pandas.io.formats.style.Styler at 0x7f6c3f5a3fa0>"
      ]
     },
     "execution_count": 21,
     "metadata": {},
     "output_type": "execute_result"
    }
   ],
   "source": [
    "# Correlation\n",
    "df = track_df.copy()\n",
    "df.corr().style.background_gradient(axis=None)"
   ]
  },
  {
   "cell_type": "code",
   "execution_count": 22,
   "metadata": {
    "collapsed": false
   },
   "outputs": [
    {
     "data": {
      "image/png": "[encoded data removed]",
      "text/plain": [
       "<Figure size 432x288 with 1 Axes>"
      ]
     },
     "metadata": {},
     "output_type": "display_data"
    }
   ],
   "source": [
    "# Scatter plot of Stringency index and Rt\n",
    "df = track_df.copy()\n",
    "sns.scatterplot(data=df, x=\"Stringency_index\", y=\"Rt\", hue=\"Country\", legend=\"brief\", marker=\"+\")\n",
    "bbox_to_anchor=(1.02, 0)\n",
    "bbox_loc=\"lower left\"\n",
    "plt.legend(bbox_to_anchor=bbox_to_anchor, loc=bbox_loc, borderaxespad=0)\n",
    "plt.title(\"Relationship of Stringency index and reproduction number\")\n",
    "plt.ylabel(\"Reproduction number\")\n",
    "plt.xlabel(\"Stringency index\")\n",
    "plt.show()"
   ]
  }
 ],
 "metadata": {
  "kernelspec": {
   "display_name": "Python 3.8.2 64-bit ('.venv': venv)",
   "name": "python_defaultSpec_1597669925034"
  },
  "language_info": {
   "codemirror_mode": {
    "name": "ipython",
    "version": 3
   },
   "file_extension": ".py",
   "mimetype": "text/x-python",
   "name": "python",
   "nbconvert_exporter": "python",
   "pygments_lexer": "ipython3",
   "version": "3.8.2-final"
  }
 },
 "nbformat": 4,
 "nbformat_minor": 4
}
