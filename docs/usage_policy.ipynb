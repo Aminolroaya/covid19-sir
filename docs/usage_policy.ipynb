{
 "cells": [
  {
   "cell_type": "markdown",
   "metadata": {},
   "source": [
    "# Usage (details: policy measures)\n",
    "Here, we will analyse the relationship of policy measures and parameter values of SIR-derived ODE models. Policy measures are tracked by [Oxford Covid-19 Government Response Tracker (OxCGRT)](https://github.com/OxCGRT/covid-policy-tracker)."
   ]
  },
  {
   "cell_type": "markdown",
   "metadata": {},
   "source": [
    "## Preparation"
   ]
  },
  {
   "cell_type": "code",
   "execution_count": 1,
   "metadata": {
    "collapsed": false
   },
   "outputs": [],
   "source": [
    "# Standard users\n",
    "# !pip install covsirphy\n",
    "# Developers (Note: this notebook is in example directory)\n",
    "import os\n",
    "os.chdir(\"../\")"
   ]
  },
  {
   "cell_type": "code",
   "execution_count": 2,
   "metadata": {
    "collapsed": false
   },
   "outputs": [],
   "source": [
    "from pprint import pprint"
   ]
  },
  {
   "cell_type": "code",
   "execution_count": 3,
   "metadata": {
    "collapsed": false
   },
   "outputs": [
    {
     "data": {
      "text/plain": [
       "'2.9.1-delta.new.290.fix.282.283.296'"
      ]
     },
     "execution_count": 3,
     "metadata": {},
     "output_type": "execute_result"
    }
   ],
   "source": [
    "import covsirphy as cs\n",
    "cs.__version__"
   ]
  },
  {
   "cell_type": "code",
   "execution_count": 4,
   "metadata": {
    "collapsed": false,
    "tags": []
   },
   "outputs": [
    {
     "name": "stdout",
     "output_type": "stream",
     "text": [
      "(Secondary source) Guidotti, E., Ardia, D., (2020), \"COVID-19 Data Hub\", Journal of Open Source Software 5(51):2376, doi: 10.21105/joss.02376.\n",
      "We can get Citation list of primary sources with DataLoader(...).covid19dh_citation\n"
     ]
    }
   ],
   "source": [
    "# Standard users and developers\n",
    "data_loader = cs.DataLoader(\"input\")\n",
    "# The number of cases (JHU style)\n",
    "jhu_data = data_loader.jhu(verbose=False)\n",
    "# Population in each country\n",
    "population_data = data_loader.population(verbose=False)\n",
    "# Government Response Tracker (OxCGRT)\n",
    "oxcgrt_data = data_loader.oxcgrt(verbose=False)\n",
    "# Description/citation\n",
    "print(oxcgrt_data.citation)"
   ]
  },
  {
   "cell_type": "markdown",
   "metadata": {},
   "source": [
    "## Class for policy measure analysis\n",
    "We will `PolicyMeasures` class to find relationship of policy measures and parameter values of SIR-derived ODE models."
   ]
  },
  {
   "cell_type": "code",
   "execution_count": 5,
   "metadata": {
    "collapsed": false,
    "tags": []
   },
   "outputs": [
    {
     "data": {
      "text/plain": [
       "184"
      ]
     },
     "execution_count": 5,
     "metadata": {},
     "output_type": "execute_result"
    }
   ],
   "source": [
    "# Create analyser with tau value 360 [min] (can be changed)\n",
    "analyser = cs.PolicyMeasures(jhu_data, population_data, oxcgrt_data, tau=360)\n",
    "# The number of registerd countries\n",
    "len(analyser.countries)"
   ]
  },
  {
   "cell_type": "code",
   "execution_count": 6,
   "metadata": {
    "collapsed": false
   },
   "outputs": [
    {
     "data": {
      "text/plain": [
       "covsirphy.analysis.scenario.Scenario"
      ]
     },
     "execution_count": 6,
     "metadata": {},
     "output_type": "execute_result"
    }
   ],
   "source": [
    "# We can get Scenario instance for detailed scenario analysis\n",
    "type(analyser.scenario(\"Japan\"))"
   ]
  },
  {
   "cell_type": "markdown",
   "metadata": {},
   "source": [
    "## Set phases with S-R trend analysis\n",
    "We will perform S-R trend analysis to set phases in all countries. Countries which do not have **12th phases** will be un-registered for the next analysis. This number will be adjusted for your analysis."
   ]
  },
  {
   "cell_type": "code",
   "execution_count": 7,
   "metadata": {
    "collapsed": false
   },
   "outputs": [
    {
     "name": "stdout",
     "output_type": "stream",
     "text": [
      "{4: ['Tanzania', 'Georgia', 'Holy See'],\n",
      " 5: ['Brunei', 'Fiji', 'Liechtenstein', 'Slovakia', 'Myanmar', 'Andorra',\n",
      "     'Slovenia', 'Grenada'],\n",
      " 6: ['Czech Republic', 'Ireland', 'Cambodia', 'Hungary', 'Antigua and Barbuda',\n",
      "     'Tunisia', 'Lithuania', 'Botswana', 'Papua New Guinea', 'Yemen', 'Poland',\n",
      "     'Seychelles', 'Dominica'],\n",
      " 7: ['Zimbabwe', 'Lebanon', 'Monaco', 'Iceland', 'Uganda', 'Belize', 'Jordan',\n",
      "     'Trinidad and Tobago', 'Bahamas', 'Spain', 'Gambia',\n",
      "     'Sao Tome and Principe', 'Central African Republic', 'Namibia',\n",
      "     'South Sudan', 'Malaysia', 'Equatorial Guinea', 'Jamaica', 'Libya',\n",
      "     'Cyprus'],\n",
      " 8: ['Lesotho', 'Guinea-Bissau', 'Saint Vincent and the Grenadines', 'Malawi',\n",
      "     'Australia', 'Greece', 'Romania', 'Saint Lucia', 'Niger', 'Djibouti',\n",
      "     'Sri Lanka', 'Guyana', 'Zambia', 'Morocco', 'Malta', 'Cameroon', 'Angola',\n",
      "     'Madagascar', 'Nicaragua', 'Ukraine', 'Nepal', 'Paraguay', 'Uruguay',\n",
      "     'Portugal', 'Mauritius', 'Rwanda', 'Montenegro', 'New Zealand', 'Israel',\n",
      "     'Burundi', 'Comoros', 'Thailand', 'Croatia', 'Mozambique', 'Kazakhstan'],\n",
      " 9: ['Haiti', 'Switzerland', 'Serbia', 'Eritrea', 'Barbados', 'Maldives',\n",
      "     'Kyrgyzstan', 'San Marino', 'Mauritania', 'Argentina', 'Burkina Faso',\n",
      "     'Afghanistan', 'Austria', 'Sierra Leone', 'Suriname', 'Estonia', 'China',\n",
      "     'Ghana', 'Benin', 'Mongolia', 'Chile', 'Vietnam', 'Chad', 'Costa Rica',\n",
      "     'Taiwan', 'Philippines', 'Tajikistan', 'Bermuda'],\n",
      " 10: ['Qatar', 'Senegal', 'Singapore', 'Ethiopia', 'Germany', 'Pakistan',\n",
      "      'Kosovo', 'Sudan', 'Norway', 'Luxembourg', 'Bhutan', 'Korea, South',\n",
      "      'Somalia', 'Denmark', 'Kenya', 'Liberia', 'Cuba', 'Oman', 'Gabon',\n",
      "      'Ecuador', 'Venezuela', 'Saudi Arabia', 'Bulgaria', 'North Macedonia',\n",
      "      'South Africa', 'Belgium', 'Finland'],\n",
      " 11: ['Syria', 'Mali', 'Bosnia and Herzegovina', 'Congo', 'Armenia',\n",
      "      'Cape Verde', 'Japan', 'Belarus', 'Panama', 'Guatemala', 'India',\n",
      "      'El Salvador', 'Colombia', 'Azerbaijan', 'Palestine', 'Uzbekistan',\n",
      "      'Algeria', 'Canada', 'Moldova', 'Swaziland', 'Albania', 'Guinea'],\n",
      " 12: ['Iraq', 'United States', 'Nigeria', 'Brazil', 'Dominican Republic',\n",
      "      'Bolivia', 'Iran', 'Mexico', 'Togo', 'Peru', 'Bahrain', 'Egypt', 'Latvia',\n",
      "      'Italy', 'Bangladesh', 'United Arab Emirates', 'Indonesia'],\n",
      " 13: ['Kuwait', 'Turkey', 'Russia', 'France', 'Honduras']}\n"
     ]
    }
   ],
   "source": [
    "# Show the number of phases of all countries\n",
    "analyser.trend()\n",
    "pprint(analyser.phase_len(), compact=True)"
   ]
  },
  {
   "cell_type": "code",
   "execution_count": 8,
   "metadata": {
    "collapsed": false
   },
   "outputs": [
    {
     "data": {
      "text/plain": [
       "22"
      ]
     },
     "execution_count": 8,
     "metadata": {},
     "output_type": "execute_result"
    }
   ],
   "source": [
    "# Set phases with S-R trend analysis\n",
    "analyser.trend(min_len=12)\n",
    "# The number of countries\n",
    "len(analyser.countries)"
   ]
  },
  {
   "cell_type": "code",
   "execution_count": 9,
   "metadata": {
    "collapsed": false,
    "tags": []
   },
   "outputs": [
    {
     "name": "stdout",
     "output_type": "stream",
     "text": [
      "{12: ['Iraq', 'United States', 'Nigeria', 'Brazil', 'Dominican Republic',\n",
      "      'Bolivia', 'Iran', 'Mexico', 'Togo', 'Peru', 'Bahrain', 'Egypt', 'Latvia',\n",
      "      'Italy', 'Bangladesh', 'United Arab Emirates', 'Indonesia'],\n",
      " 13: ['Kuwait', 'Turkey', 'Russia', 'France', 'Honduras']}\n"
     ]
    }
   ],
   "source": [
    "phase_len_dict = analyser.phase_len()\n",
    "pprint(phase_len_dict, compact=True)"
   ]
  },
  {
   "cell_type": "code",
   "execution_count": 10,
   "metadata": {
    "collapsed": false,
    "tags": []
   },
   "outputs": [
    {
     "data": {
      "text/html": [
       "<div>\n",
       "<style scoped>\n",
       "    .dataframe tbody tr th:only-of-type {\n",
       "        vertical-align: middle;\n",
       "    }\n",
       "\n",
       "    .dataframe tbody tr th {\n",
       "        vertical-align: top;\n",
       "    }\n",
       "\n",
       "    .dataframe thead th {\n",
       "        text-align: right;\n",
       "    }\n",
       "</style>\n",
       "<table border=\"1\" class=\"dataframe\">\n",
       "  <thead>\n",
       "    <tr style=\"text-align: right;\">\n",
       "      <th></th>\n",
       "      <th></th>\n",
       "      <th>Type</th>\n",
       "      <th>Start</th>\n",
       "      <th>End</th>\n",
       "      <th>Population</th>\n",
       "    </tr>\n",
       "    <tr>\n",
       "      <th>Country</th>\n",
       "      <th>Phase</th>\n",
       "      <th></th>\n",
       "      <th></th>\n",
       "      <th></th>\n",
       "      <th></th>\n",
       "    </tr>\n",
       "  </thead>\n",
       "  <tbody>\n",
       "    <tr>\n",
       "      <th rowspan=\"5\" valign=\"top\">Kuwait</th>\n",
       "      <th>0th</th>\n",
       "      <td>Past</td>\n",
       "      <td>08Mar2020</td>\n",
       "      <td>13May2020</td>\n",
       "      <td>4137309</td>\n",
       "    </tr>\n",
       "    <tr>\n",
       "      <th>1st</th>\n",
       "      <td>Past</td>\n",
       "      <td>14May2020</td>\n",
       "      <td>27May2020</td>\n",
       "      <td>4137309</td>\n",
       "    </tr>\n",
       "    <tr>\n",
       "      <th>2nd</th>\n",
       "      <td>Past</td>\n",
       "      <td>28May2020</td>\n",
       "      <td>07Jun2020</td>\n",
       "      <td>4137309</td>\n",
       "    </tr>\n",
       "    <tr>\n",
       "      <th>3rd</th>\n",
       "      <td>Past</td>\n",
       "      <td>08Jun2020</td>\n",
       "      <td>22Jun2020</td>\n",
       "      <td>4137309</td>\n",
       "    </tr>\n",
       "    <tr>\n",
       "      <th>4th</th>\n",
       "      <td>Past</td>\n",
       "      <td>23Jun2020</td>\n",
       "      <td>06Jul2020</td>\n",
       "      <td>4137309</td>\n",
       "    </tr>\n",
       "    <tr>\n",
       "      <th>...</th>\n",
       "      <th>...</th>\n",
       "      <td>...</td>\n",
       "      <td>...</td>\n",
       "      <td>...</td>\n",
       "      <td>...</td>\n",
       "    </tr>\n",
       "    <tr>\n",
       "      <th rowspan=\"5\" valign=\"top\">Honduras</th>\n",
       "      <th>8th</th>\n",
       "      <td>Past</td>\n",
       "      <td>12Sep2020</td>\n",
       "      <td>19Sep2020</td>\n",
       "      <td>9587522</td>\n",
       "    </tr>\n",
       "    <tr>\n",
       "      <th>9th</th>\n",
       "      <td>Past</td>\n",
       "      <td>20Sep2020</td>\n",
       "      <td>29Sep2020</td>\n",
       "      <td>9587522</td>\n",
       "    </tr>\n",
       "    <tr>\n",
       "      <th>10th</th>\n",
       "      <td>Past</td>\n",
       "      <td>30Sep2020</td>\n",
       "      <td>08Oct2020</td>\n",
       "      <td>9587522</td>\n",
       "    </tr>\n",
       "    <tr>\n",
       "      <th>11th</th>\n",
       "      <td>Past</td>\n",
       "      <td>09Oct2020</td>\n",
       "      <td>16Oct2020</td>\n",
       "      <td>9587522</td>\n",
       "    </tr>\n",
       "    <tr>\n",
       "      <th>12th</th>\n",
       "      <td>Past</td>\n",
       "      <td>17Oct2020</td>\n",
       "      <td>01Nov2020</td>\n",
       "      <td>9587522</td>\n",
       "    </tr>\n",
       "  </tbody>\n",
       "</table>\n",
       "<p>65 rows × 4 columns</p>\n",
       "</div>"
      ],
      "text/plain": [
       "                Type      Start        End  Population\n",
       "Country  Phase                                        \n",
       "Kuwait   0th    Past  08Mar2020  13May2020     4137309\n",
       "         1st    Past  14May2020  27May2020     4137309\n",
       "         2nd    Past  28May2020  07Jun2020     4137309\n",
       "         3rd    Past  08Jun2020  22Jun2020     4137309\n",
       "         4th    Past  23Jun2020  06Jul2020     4137309\n",
       "...              ...        ...        ...         ...\n",
       "Honduras 8th    Past  12Sep2020  19Sep2020     9587522\n",
       "         9th    Past  20Sep2020  29Sep2020     9587522\n",
       "         10th   Past  30Sep2020  08Oct2020     9587522\n",
       "         11th   Past  09Oct2020  16Oct2020     9587522\n",
       "         12th   Past  17Oct2020  01Nov2020     9587522\n",
       "\n",
       "[65 rows x 4 columns]"
      ]
     },
     "execution_count": 10,
     "metadata": {},
     "output_type": "execute_result"
    }
   ],
   "source": [
    "# Here, only show the countries which have the most phases\n",
    "countries_show = max(phase_len_dict.items(), key=lambda x: x[0])[1]\n",
    "# Show summary\n",
    "analyser.summary(countries=countries_show)"
   ]
  },
  {
   "cell_type": "markdown",
   "metadata": {},
   "source": [
    "## Parameter estimation\n",
    "we will estimate the parameter values with SIR-derived ODE models in each country."
   ]
  },
  {
   "cell_type": "code",
   "execution_count": 11,
   "metadata": {
    "collapsed": false,
    "tags": []
   },
   "outputs": [
    {
     "name": "stdout",
     "output_type": "stream",
     "text": [
      "\n",
      "<SIR-F model: parameter estimation>\n",
      "Running optimization with 4 CPUs...\n"
     ]
    },
    {
     "name": "stdout",
     "output_type": "stream",
     "text": [
      "\tDOM,  7th phase (12Aug2020 - 20Aug2020): finished  406 trials in 0 min 15 sec"
     ]
    },
    {
     "name": "stdout",
     "output_type": "stream",
     "text": [
      "\n"
     ]
    },
    {
     "name": "stdout",
     "output_type": "stream",
     "text": [
      "\tUSA,  9th phase (30Sep2020 - 12Oct2020): finished  838 trials in 0 min 35 sec"
     ]
    },
    {
     "name": "stdout",
     "output_type": "stream",
     "text": [
      "\n"
     ]
    },
    {
     "name": "stdout",
     "output_type": "stream",
     "text": [
      "\tKWT,  2nd phase (28May2020 - 07Jun2020): finished 1275 trials in 1 min  0 sec"
     ]
    },
    {
     "name": "stdout",
     "output_type": "stream",
     "text": [
      "\n"
     ]
    },
    {
     "name": "stdout",
     "output_type": "stream",
     "text": [
      "\tMEX,  6th phase (11Aug2020 - 24Aug2020): finished 1302 trials in 1 min  0 sec"
     ]
    },
    {
     "name": "stdout",
     "output_type": "stream",
     "text": [
      "\n"
     ]
    },
    {
     "name": "stdout",
     "output_type": "stream",
     "text": [
      "\tEGY,  0th phase (28Feb2020 - 12May2020): finished 1288 trials in 1 min  0 sec"
     ]
    },
    {
     "name": "stdout",
     "output_type": "stream",
     "text": [
      "\n"
     ]
    },
    {
     "name": "stdout",
     "output_type": "stream",
     "text": [
      "\tMEX,  9th phase (24Sep2020 - 04Oct2020): finished  260 trials in 0 min 10 sec"
     ]
    },
    {
     "name": "stdout",
     "output_type": "stream",
     "text": [
      "\n"
     ]
    },
    {
     "name": "stdout",
     "output_type": "stream",
     "text": [
      "\tPER,  8th phase (29Aug2020 - 09Sep2020): finished 1296 trials in 1 min  0 sec"
     ]
    },
    {
     "name": "stdout",
     "output_type": "stream",
     "text": [
      "\n"
     ]
    },
    {
     "name": "stdout",
     "output_type": "stream",
     "text": [
      "\tARE,  0th phase (12Feb2020 - 03May2020): finished 1202 trials in 1 min  0 sec"
     ]
    },
    {
     "name": "stdout",
     "output_type": "stream",
     "text": [
      "\n"
     ]
    },
    {
     "name": "stdout",
     "output_type": "stream",
     "text": [
      "\tRUS, 10th phase (25Sep2020 - 07Oct2020): finished 1321 trials in 1 min  0 sec"
     ]
    },
    {
     "name": "stdout",
     "output_type": "stream",
     "text": [
      "\n"
     ]
    },
    {
     "name": "stdout",
     "output_type": "stream",
     "text": [
      "\tBGD,  6th phase (31Jul2020 - 13Aug2020): finished 1296 trials in 1 min  0 sec"
     ]
    },
    {
     "name": "stdout",
     "output_type": "stream",
     "text": [
      "\n"
     ]
    },
    {
     "name": "stdout",
     "output_type": "stream",
     "text": [
      "\tBOL, 10th phase (13Sep2020 - 28Sep2020): finished  248 trials in 0 min 10 sec"
     ]
    },
    {
     "name": "stdout",
     "output_type": "stream",
     "text": [
      "\n"
     ]
    },
    {
     "name": "stdout",
     "output_type": "stream",
     "text": [
      "\tRUS,  8th phase (15Aug2020 - 04Sep2020): finished 1232 trials in 1 min  0 sec"
     ]
    },
    {
     "name": "stdout",
     "output_type": "stream",
     "text": [
      "\n"
     ]
    },
    {
     "name": "stdout",
     "output_type": "stream",
     "text": [
      "\tRUS,  0th phase (12Feb2020 - 07May2020): finished 1239 trials in 1 min  0 sec"
     ]
    },
    {
     "name": "stdout",
     "output_type": "stream",
     "text": [
      "\n"
     ]
    },
    {
     "name": "stdout",
     "output_type": "stream",
     "text": [
      "\tTGO,  3rd phase (27Jun2020 - 21Jul2020): finished 1266 trials in 1 min  0 sec"
     ]
    },
    {
     "name": "stdout",
     "output_type": "stream",
     "text": [
      "\n"
     ]
    },
    {
     "name": "stdout",
     "output_type": "stream",
     "text": [
      "\tEGY,  8th phase (12Aug2020 - 27Aug2020): finished  274 trials in 0 min 10 sec"
     ]
    },
    {
     "name": "stdout",
     "output_type": "stream",
     "text": [
      "\n"
     ]
    },
    {
     "name": "stdout",
     "output_type": "stream",
     "text": [
      "\tITA,  5th phase (01May2020 - 20May2020): finished 1238 trials in 1 min  0 sec"
     ]
    },
    {
     "name": "stdout",
     "output_type": "stream",
     "text": [
      "\n"
     ]
    },
    {
     "name": "stdout",
     "output_type": "stream",
     "text": [
      "\tMEX,  3rd phase (03Jul2020 - 16Jul2020): finished  385 trials in 0 min 15 sec"
     ]
    },
    {
     "name": "stdout",
     "output_type": "stream",
     "text": [
      "\n"
     ]
    },
    {
     "name": "stdout",
     "output_type": "stream",
     "text": [
      "\tFRA,  6th phase (04Aug2020 - 24Aug2020): finished 1197 trials in 1 min  0 sec"
     ]
    },
    {
     "name": "stdout",
     "output_type": "stream",
     "text": [
      "\n"
     ]
    },
    {
     "name": "stdout",
     "output_type": "stream",
     "text": [
      "\tKWT,  9th phase (06Sep2020 - 19Sep2020): finished  547 trials in 0 min 20 sec"
     ]
    },
    {
     "name": "stdout",
     "output_type": "stream",
     "text": [
      "\n"
     ]
    },
    {
     "name": "stdout",
     "output_type": "stream",
     "text": [
      "\tDOM,  9th phase (04Sep2020 - 17Sep2020): finished 1293 trials in 1 min  0 sec"
     ]
    },
    {
     "name": "stdout",
     "output_type": "stream",
     "text": [
      "\n"
     ]
    },
    {
     "name": "stdout",
     "output_type": "stream",
     "text": [
      "\tIRQ,  2nd phase (14Jul2020 - 28Jul2020): finished  280 trials in 0 min 10 sec"
     ]
    },
    {
     "name": "stdout",
     "output_type": "stream",
     "text": [
      "\n"
     ]
    },
    {
     "name": "stdout",
     "output_type": "stream",
     "text": [
      "\tFRA,  1st phase (28Mar2020 - 04Apr2020): finished 1239 trials in 1 min  0 sec"
     ]
    },
    {
     "name": "stdout",
     "output_type": "stream",
     "text": [
      "\n"
     ]
    },
    {
     "name": "stdout",
     "output_type": "stream",
     "text": [
      "\tITA,  3rd phase (11Apr2020 - 20Apr2020): finished  278 trials in 0 min 10 sec"
     ]
    },
    {
     "name": "stdout",
     "output_type": "stream",
     "text": [
      "\n"
     ]
    },
    {
     "name": "stdout",
     "output_type": "stream",
     "text": [
      "\tIRQ,  6th phase (02Sep2020 - 10Sep2020): finished  271 trials in 0 min 10 sec"
     ]
    },
    {
     "name": "stdout",
     "output_type": "stream",
     "text": [
      "\n"
     ]
    },
    {
     "name": "stdout",
     "output_type": "stream",
     "text": [
      "\tTGO,  1st phase (11May2020 - 02Jun2020): finished 1242 trials in 1 min  0 sec"
     ]
    },
    {
     "name": "stdout",
     "output_type": "stream",
     "text": [
      "\n"
     ]
    },
    {
     "name": "stdout",
     "output_type": "stream",
     "text": [
      "\tBGD,  1st phase (05Jun2020 - 19Jun2020): finished 1226 trials in 1 min  0 sec"
     ]
    },
    {
     "name": "stdout",
     "output_type": "stream",
     "text": [
      "\n"
     ]
    },
    {
     "name": "stdout",
     "output_type": "stream",
     "text": [
      "\tBRA,  3rd phase (07Jul2020 - 20Jul2020): finished  861 trials in 0 min 40 sec"
     ]
    },
    {
     "name": "stdout",
     "output_type": "stream",
     "text": [
      "\n"
     ]
    },
    {
     "name": "stdout",
     "output_type": "stream",
     "text": [
      "\tBOL,  2nd phase (26Jun2020 - 05Jul2020): finished  266 trials in 0 min 10 sec"
     ]
    },
    {
     "name": "stdout",
     "output_type": "stream",
     "text": [
      "\n"
     ]
    },
    {
     "name": "stdout",
     "output_type": "stream",
     "text": [
      "\tPER,  0th phase (16Mar2020 - 09May2020): finished 1136 trials in 1 min  0 sec"
     ]
    },
    {
     "name": "stdout",
     "output_type": "stream",
     "text": [
      "\n"
     ]
    },
    {
     "name": "stdout",
     "output_type": "stream",
     "text": [
      "\tTGO,  7th phase (03Sep2020 - 16Sep2020): finished 1190 trials in 1 min  0 sec"
     ]
    },
    {
     "name": "stdout",
     "output_type": "stream",
     "text": [
      "\n"
     ]
    },
    {
     "name": "stdout",
     "output_type": "stream",
     "text": [
      "\tNGA,  2nd phase (08Jun2020 - 19Jun2020): finished 1212 trials in 1 min  0 sec"
     ]
    },
    {
     "name": "stdout",
     "output_type": "stream",
     "text": [
      "\n"
     ]
    },
    {
     "name": "stdout",
     "output_type": "stream",
     "text": [
      "\tHND,  1st phase (17Jun2020 - 03Jul2020): finished 1200 trials in 1 min  0 sec"
     ]
    },
    {
     "name": "stdout",
     "output_type": "stream",
     "text": [
      "\n"
     ]
    },
    {
     "name": "stdout",
     "output_type": "stream",
     "text": [
      "\tITA,  8th phase (15Sep2020 - 01Oct2020): finished  358 trials in 0 min 15 sec"
     ]
    },
    {
     "name": "stdout",
     "output_type": "stream",
     "text": [
      "\n"
     ]
    },
    {
     "name": "stdout",
     "output_type": "stream",
     "text": [
      "\tLVA,  2nd phase (22Apr2020 - 06May2020): finished 1443 trials in 1 min  0 sec"
     ]
    },
    {
     "name": "stdout",
     "output_type": "stream",
     "text": [
      "\n"
     ]
    },
    {
     "name": "stdout",
     "output_type": "stream",
     "text": [
      "\tKWT,  6th phase (22Jul2020 - 06Aug2020): finished  583 trials in 0 min 25 sec"
     ]
    },
    {
     "name": "stdout",
     "output_type": "stream",
     "text": [
      "\n"
     ]
    },
    {
     "name": "stdout",
     "output_type": "stream",
     "text": [
      "\tDOM, 11th phase (07Oct2020 - 01Nov2020): finished  463 trials in 0 min 20 sec"
     ]
    },
    {
     "name": "stdout",
     "output_type": "stream",
     "text": [
      "\n"
     ]
    },
    {
     "name": "stdout",
     "output_type": "stream",
     "text": [
      "\tEGY,  3rd phase (05Jun2020 - 17Jun2020): finished 1187 trials in 1 min  0 sec"
     ]
    },
    {
     "name": "stdout",
     "output_type": "stream",
     "text": [
      "\n"
     ]
    },
    {
     "name": "stdout",
     "output_type": "stream",
     "text": [
      "\tUSA,  7th phase (28Aug2020 - 13Sep2020): finished  882 trials in 0 min 40 sec"
     ]
    },
    {
     "name": "stdout",
     "output_type": "stream",
     "text": [
      "\n"
     ]
    },
    {
     "name": "stdout",
     "output_type": "stream",
     "text": [
      "\tIRN, 10th phase (12Oct2020 - 22Oct2020): finished  397 trials in 0 min 15 sec"
     ]
    },
    {
     "name": "stdout",
     "output_type": "stream",
     "text": [
      "\n"
     ]
    },
    {
     "name": "stdout",
     "output_type": "stream",
     "text": [
      "\tMEX,  8th phase (08Sep2020 - 23Sep2020): finished 1228 trials in 1 min  0 sec"
     ]
    },
    {
     "name": "stdout",
     "output_type": "stream",
     "text": [
      "\n"
     ]
    },
    {
     "name": "stdout",
     "output_type": "stream",
     "text": [
      "\tBRA, 10th phase (24Sep2020 - 11Oct2020): finished 1225 trials in 1 min  0 sec"
     ]
    },
    {
     "name": "stdout",
     "output_type": "stream",
     "text": [
      "\n"
     ]
    },
    {
     "name": "stdout",
     "output_type": "stream",
     "text": [
      "\tARE,  8th phase (25Sep2020 - 04Oct2020): finished 1267 trials in 1 min  0 sec"
     ]
    },
    {
     "name": "stdout",
     "output_type": "stream",
     "text": [
      "\n"
     ]
    },
    {
     "name": "stdout",
     "output_type": "stream",
     "text": [
      "\tITA,  2nd phase (01Apr2020 - 10Apr2020): finished 1169 trials in 1 min  0 sec"
     ]
    },
    {
     "name": "stdout",
     "output_type": "stream",
     "text": [
      "\n"
     ]
    },
    {
     "name": "stdout",
     "output_type": "stream",
     "text": [
      "\tBOL,  7th phase (18Aug2020 - 25Aug2020): finished  603 trials in 0 min 25 sec"
     ]
    },
    {
     "name": "stdout",
     "output_type": "stream",
     "text": [
      "\n"
     ]
    },
    {
     "name": "stdout",
     "output_type": "stream",
     "text": [
      "\tBRA,  6th phase (10Aug2020 - 19Aug2020): finished 1239 trials in 1 min  0 sec"
     ]
    },
    {
     "name": "stdout",
     "output_type": "stream",
     "text": [
      "\n"
     ]
    },
    {
     "name": "stdout",
     "output_type": "stream",
     "text": [
      "\tKWT,  3rd phase (08Jun2020 - 22Jun2020): finished 1193 trials in 1 min  0 sec"
     ]
    },
    {
     "name": "stdout",
     "output_type": "stream",
     "text": [
      "\n"
     ]
    },
    {
     "name": "stdout",
     "output_type": "stream",
     "text": [
      "\tLVA,  0th phase (10Mar2020 - 10Apr2020): finished 1349 trials in 1 min  0 sec"
     ]
    },
    {
     "name": "stdout",
     "output_type": "stream",
     "text": [
      "\n"
     ]
    },
    {
     "name": "stdout",
     "output_type": "stream",
     "text": [
      "\tEGY, 10th phase (12Sep2020 - 29Sep2020): finished  222 trials in 0 min 10 sec"
     ]
    },
    {
     "name": "stdout",
     "output_type": "stream",
     "text": [
      "\n"
     ]
    },
    {
     "name": "stdout",
     "output_type": "stream",
     "text": [
      "\tRUS,  5th phase (27Jun2020 - 10Jul2020): finished 1203 trials in 1 min  0 sec"
     ]
    },
    {
     "name": "stdout",
     "output_type": "stream",
     "text": [
      "\n"
     ]
    },
    {
     "name": "stdout",
     "output_type": "stream",
     "text": [
      "\tTUR,  7th phase (24Jul2020 - 15Aug2020): finished 1209 trials in 1 min  0 sec"
     ]
    },
    {
     "name": "stdout",
     "output_type": "stream",
     "text": [
      "\n"
     ]
    },
    {
     "name": "stdout",
     "output_type": "stream",
     "text": [
      "\tBHR,  9th phase (15Sep2020 - 25Sep2020): finished 1215 trials in 1 min  0 sec"
     ]
    },
    {
     "name": "stdout",
     "output_type": "stream",
     "text": [
      "\n"
     ]
    },
    {
     "name": "stdout",
     "output_type": "stream",
     "text": [
      "\tKWT,  1st phase (14May2020 - 27May2020): finished 1243 trials in 1 min  0 sec"
     ]
    },
    {
     "name": "stdout",
     "output_type": "stream",
     "text": [
      "\n"
     ]
    },
    {
     "name": "stdout",
     "output_type": "stream",
     "text": [
      "\tNGA,  9th phase (19Aug2020 - 02Sep2020): finished  410 trials in 0 min 15 sec"
     ]
    },
    {
     "name": "stdout",
     "output_type": "stream",
     "text": [
      "\n"
     ]
    },
    {
     "name": "stdout",
     "output_type": "stream",
     "text": [
      "\tTUR,  9th phase (04Sep2020 - 18Sep2020): finished  937 trials in 0 min 40 sec"
     ]
    },
    {
     "name": "stdout",
     "output_type": "stream",
     "text": [
      "\n"
     ]
    },
    {
     "name": "stdout",
     "output_type": "stream",
     "text": [
      "\tRUS,  3rd phase (31May2020 - 11Jun2020): finished 1173 trials in 1 min  0 sec"
     ]
    },
    {
     "name": "stdout",
     "output_type": "stream",
     "text": [
      "\n"
     ]
    },
    {
     "name": "stdout",
     "output_type": "stream",
     "text": [
      "\tARE,  7th phase (11Sep2020 - 24Sep2020): finished  786 trials in 0 min 35 sec"
     ]
    },
    {
     "name": "stdout",
     "output_type": "stream",
     "text": [
      "\n"
     ]
    },
    {
     "name": "stdout",
     "output_type": "stream",
     "text": [
      "\tPER,  9th phase (10Sep2020 - 21Sep2020): finished 1228 trials in 1 min  0 sec"
     ]
    },
    {
     "name": "stdout",
     "output_type": "stream",
     "text": [
      "\n"
     ]
    },
    {
     "name": "stdout",
     "output_type": "stream",
     "text": [
      "\tTUR,  2nd phase (27Apr2020 - 06May2020): finished  259 trials in 0 min 10 sec"
     ]
    },
    {
     "name": "stdout",
     "output_type": "stream",
     "text": [
      "\n"
     ]
    },
    {
     "name": "stdout",
     "output_type": "stream",
     "text": [
      "\tBHR,  5th phase (08Jul2020 - 22Jul2020): finished 1229 trials in 1 min  0 sec"
     ]
    },
    {
     "name": "stdout",
     "output_type": "stream",
     "text": [
      "\n"
     ]
    },
    {
     "name": "stdout",
     "output_type": "stream",
     "text": [
      "\tUSA, 11th phase (23Oct2020 - 01Nov2020): finished  477 trials in 0 min 20 sec"
     ]
    },
    {
     "name": "stdout",
     "output_type": "stream",
     "text": [
      "\n"
     ]
    },
    {
     "name": "stdout",
     "output_type": "stream",
     "text": [
      "\tHND, 11th phase (09Oct2020 - 16Oct2020): finished  489 trials in 0 min 20 sec"
     ]
    },
    {
     "name": "stdout",
     "output_type": "stream",
     "text": [
      "\n"
     ]
    },
    {
     "name": "stdout",
     "output_type": "stream",
     "text": [
      "\tNGA,  6th phase (18Jul2020 - 27Jul2020): finished  352 trials in 0 min 15 sec"
     ]
    },
    {
     "name": "stdout",
     "output_type": "stream",
     "text": [
      "\n"
     ]
    },
    {
     "name": "stdout",
     "output_type": "stream",
     "text": [
      "\tBRA,  4th phase (21Jul2020 - 29Jul2020): finished 1207 trials in 1 min  0 sec"
     ]
    },
    {
     "name": "stdout",
     "output_type": "stream",
     "text": [
      "\n"
     ]
    },
    {
     "name": "stdout",
     "output_type": "stream",
     "text": [
      "\tMEX,  1st phase (29May2020 - 17Jun2020): finished  479 trials in 0 min 20 sec"
     ]
    },
    {
     "name": "stdout",
     "output_type": "stream",
     "text": [
      "\n"
     ]
    },
    {
     "name": "stdout",
     "output_type": "stream",
     "text": [
      "\tIRN,  0th phase (26Feb2020 - 31Mar2020): finished 1218 trials in 1 min  0 sec"
     ]
    },
    {
     "name": "stdout",
     "output_type": "stream",
     "text": [
      "\n"
     ]
    },
    {
     "name": "stdout",
     "output_type": "stream",
     "text": [
      "\tBOL,  1st phase (14Jun2020 - 25Jun2020): finished 1247 trials in 1 min  0 sec"
     ]
    },
    {
     "name": "stdout",
     "output_type": "stream",
     "text": [
      "\n"
     ]
    },
    {
     "name": "stdout",
     "output_type": "stream",
     "text": [
      "\tFRA,  2nd phase (05Apr2020 - 12Apr2020): finished 1193 trials in 1 min  0 sec"
     ]
    },
    {
     "name": "stdout",
     "output_type": "stream",
     "text": [
      "\n"
     ]
    },
    {
     "name": "stdout",
     "output_type": "stream",
     "text": [
      "\tKWT,  5th phase (07Jul2020 - 21Jul2020): finished 1215 trials in 1 min  0 sec"
     ]
    },
    {
     "name": "stdout",
     "output_type": "stream",
     "text": [
      "\n"
     ]
    },
    {
     "name": "stdout",
     "output_type": "stream",
     "text": [
      "\tRUS,  9th phase (05Sep2020 - 24Sep2020): finished 1213 trials in 1 min  0 sec"
     ]
    },
    {
     "name": "stdout",
     "output_type": "stream",
     "text": [
      "\n"
     ]
    },
    {
     "name": "stdout",
     "output_type": "stream",
     "text": [
      "\tEGY,  9th phase (28Aug2020 - 11Sep2020): finished  377 trials in 0 min 15 sec"
     ]
    },
    {
     "name": "stdout",
     "output_type": "stream",
     "text": [
      "\n"
     ]
    },
    {
     "name": "stdout",
     "output_type": "stream",
     "text": [
      "\tDOM,  8th phase (21Aug2020 - 03Sep2020): finished 1180 trials in 1 min  0 sec"
     ]
    },
    {
     "name": "stdout",
     "output_type": "stream",
     "text": [
      "\n"
     ]
    },
    {
     "name": "stdout",
     "output_type": "stream",
     "text": [
      "\tRUS,  4th phase (12Jun2020 - 26Jun2020): finished 1195 trials in 1 min  0 sec"
     ]
    },
    {
     "name": "stdout",
     "output_type": "stream",
     "text": [
      "\n"
     ]
    },
    {
     "name": "stdout",
     "output_type": "stream",
     "text": [
      "\tTUR,  3rd phase (07May2020 - 21May2020): finished 1249 trials in 1 min  0 sec"
     ]
    },
    {
     "name": "stdout",
     "output_type": "stream",
     "text": [
      "\n"
     ]
    },
    {
     "name": "stdout",
     "output_type": "stream",
     "text": [
      "\tBGD,  9th phase (07Sep2020 - 22Sep2020): finished  391 trials in 0 min 15 sec"
     ]
    },
    {
     "name": "stdout",
     "output_type": "stream",
     "text": [
      "\n"
     ]
    },
    {
     "name": "stdout",
     "output_type": "stream",
     "text": [
      "\tBHR,  8th phase (04Sep2020 - 14Sep2020): finished 1279 trials in 1 min  0 sec"
     ]
    },
    {
     "name": "stdout",
     "output_type": "stream",
     "text": [
      "\n"
     ]
    },
    {
     "name": "stdout",
     "output_type": "stream",
     "text": [
      "\tUSA,  0th phase (09Feb2020 - 05May2020): finished 1118 trials in 1 min  0 sec"
     ]
    },
    {
     "name": "stdout",
     "output_type": "stream",
     "text": [
      "\n"
     ]
    },
    {
     "name": "stdout",
     "output_type": "stream",
     "text": [
      "\tUSA,  2nd phase (15Jun2020 - 05Jul2020): finished 1261 trials in 1 min  0 sec"
     ]
    },
    {
     "name": "stdout",
     "output_type": "stream",
     "text": [
      "\n"
     ]
    },
    {
     "name": "stdout",
     "output_type": "stream",
     "text": [
      "\tIRN,  9th phase (28Sep2020 - 11Oct2020): finished  237 trials in 0 min 10 sec"
     ]
    },
    {
     "name": "stdout",
     "output_type": "stream",
     "text": [
      "\n"
     ]
    },
    {
     "name": "stdout",
     "output_type": "stream",
     "text": [
      "\tARE,  9th phase (05Oct2020 - 13Oct2020): finished 1193 trials in 1 min  0 sec"
     ]
    },
    {
     "name": "stdout",
     "output_type": "stream",
     "text": [
      "\n"
     ]
    },
    {
     "name": "stdout",
     "output_type": "stream",
     "text": [
      "\tPER,  1st phase (10May2020 - 28May2020): finished 1263 trials in 1 min  0 sec"
     ]
    },
    {
     "name": "stdout",
     "output_type": "stream",
     "text": [
      "\n"
     ]
    },
    {
     "name": "stdout",
     "output_type": "stream",
     "text": [
      "\tHND, 10th phase (30Sep2020 - 08Oct2020): finished  399 trials in 0 min 15 sec"
     ]
    },
    {
     "name": "stdout",
     "output_type": "stream",
     "text": [
      "\n"
     ]
    },
    {
     "name": "stdout",
     "output_type": "stream",
     "text": [
      "\tBGD,  4th phase (08Jul2020 - 18Jul2020): finished  374 trials in 0 min 15 sec"
     ]
    },
    {
     "name": "stdout",
     "output_type": "stream",
     "text": [
      "\n"
     ]
    },
    {
     "name": "stdout",
     "output_type": "stream",
     "text": [
      "\tUSA,  1st phase (06May2020 - 14Jun2020): finished 1191 trials in 1 min  0 sec"
     ]
    },
    {
     "name": "stdout",
     "output_type": "stream",
     "text": [
      "\n"
     ]
    },
    {
     "name": "stdout",
     "output_type": "stream",
     "text": [
      "\tBGD,  8th phase (26Aug2020 - 06Sep2020): finished  256 trials in 0 min 10 sec"
     ]
    },
    {
     "name": "stdout",
     "output_type": "stream",
     "text": [
      "\n"
     ]
    },
    {
     "name": "stdout",
     "output_type": "stream",
     "text": [
      "\tPER,  6th phase (09Aug2020 - 17Aug2020): finished 1247 trials in 1 min  0 sec"
     ]
    },
    {
     "name": "stdout",
     "output_type": "stream",
     "text": [
      "\n"
     ]
    },
    {
     "name": "stdout",
     "output_type": "stream",
     "text": [
      "\tMEX,  2nd phase (18Jun2020 - 02Jul2020): finished 1225 trials in 1 min  0 sec"
     ]
    },
    {
     "name": "stdout",
     "output_type": "stream",
     "text": [
      "\n"
     ]
    },
    {
     "name": "stdout",
     "output_type": "stream",
     "text": [
      "\tBOL,  4th phase (16Jul2020 - 31Jul2020): finished 1224 trials in 1 min  0 sec"
     ]
    },
    {
     "name": "stdout",
     "output_type": "stream",
     "text": [
      "\n"
     ]
    },
    {
     "name": "stdout",
     "output_type": "stream",
     "text": [
      "\tIRQ,  5th phase (23Aug2020 - 01Sep2020): finished  139 trials in 0 min  5 sec"
     ]
    },
    {
     "name": "stdout",
     "output_type": "stream",
     "text": [
      "\n"
     ]
    },
    {
     "name": "stdout",
     "output_type": "stream",
     "text": [
      "\tITA,  7th phase (18Aug2020 - 14Sep2020): finished 1204 trials in 1 min  0 sec"
     ]
    },
    {
     "name": "stdout",
     "output_type": "stream",
     "text": [
      "\n"
     ]
    },
    {
     "name": "stdout",
     "output_type": "stream",
     "text": [
      "\tFRA, 11th phase (10Oct2020 - 20Oct2020): finished 1204 trials in 1 min  0 sec"
     ]
    },
    {
     "name": "stdout",
     "output_type": "stream",
     "text": [
      "\n"
     ]
    },
    {
     "name": "stdout",
     "output_type": "stream",
     "text": [
      "\tNGA,  4th phase (29Jun2020 - 07Jul2020): finished  134 trials in 0 min  5 sec"
     ]
    },
    {
     "name": "stdout",
     "output_type": "stream",
     "text": [
      "\n"
     ]
    },
    {
     "name": "stdout",
     "output_type": "stream",
     "text": [
      "\tDOM,  3rd phase (03Jul2020 - 13Jul2020): finished 1192 trials in 1 min  0 sec"
     ]
    },
    {
     "name": "stdout",
     "output_type": "stream",
     "text": [
      "\n"
     ]
    },
    {
     "name": "stdout",
     "output_type": "stream",
     "text": [
      "\tBHR,  4th phase (26Jun2020 - 07Jul2020): finished 1202 trials in 1 min  0 sec"
     ]
    },
    {
     "name": "stdout",
     "output_type": "stream",
     "text": [
      "\n"
     ]
    },
    {
     "name": "stdout",
     "output_type": "stream",
     "text": [
      "\tDOM,  4th phase (14Jul2020 - 23Jul2020): finished  976 trials in 0 min 45 sec"
     ]
    },
    {
     "name": "stdout",
     "output_type": "stream",
     "text": [
      "\n"
     ]
    },
    {
     "name": "stdout",
     "output_type": "stream",
     "text": [
      "\tBHR,  1st phase (07May2020 - 31May2020): finished 1236 trials in 1 min  0 sec"
     ]
    },
    {
     "name": "stdout",
     "output_type": "stream",
     "text": [
      "\n"
     ]
    },
    {
     "name": "stdout",
     "output_type": "stream",
     "text": [
      "\tDOM,  2nd phase (16Jun2020 - 02Jul2020): finished 1204 trials in 1 min  0 sec"
     ]
    },
    {
     "name": "stdout",
     "output_type": "stream",
     "text": [
      "\n"
     ]
    },
    {
     "name": "stdout",
     "output_type": "stream",
     "text": [
      "\tPER, 10th phase (22Sep2020 - 07Oct2020): finished 1181 trials in 1 min  0 sec"
     ]
    },
    {
     "name": "stdout",
     "output_type": "stream",
     "text": [
      "\n"
     ]
    },
    {
     "name": "stdout",
     "output_type": "stream",
     "text": [
      "\tLVA, 11th phase (24Oct2020 - 01Nov2020): finished 1445 trials in 1 min  0 sec"
     ]
    },
    {
     "name": "stdout",
     "output_type": "stream",
     "text": [
      "\n"
     ]
    },
    {
     "name": "stdout",
     "output_type": "stream",
     "text": [
      "\tBRA,  1st phase (30May2020 - 21Jun2020): finished 1198 trials in 1 min  0 sec"
     ]
    },
    {
     "name": "stdout",
     "output_type": "stream",
     "text": [
      "\n"
     ]
    },
    {
     "name": "stdout",
     "output_type": "stream",
     "text": [
      "\tBOL,  3rd phase (06Jul2020 - 15Jul2020): finished 1218 trials in 1 min  0 sec"
     ]
    },
    {
     "name": "stdout",
     "output_type": "stream",
     "text": [
      "\n"
     ]
    },
    {
     "name": "stdout",
     "output_type": "stream",
     "text": [
      "\tBHR,  7th phase (12Aug2020 - 03Sep2020): finished 1215 trials in 1 min  0 sec"
     ]
    },
    {
     "name": "stdout",
     "output_type": "stream",
     "text": [
      "\n"
     ]
    },
    {
     "name": "stdout",
     "output_type": "stream",
     "text": [
      "\tBRA,  0th phase (16Mar2020 - 29May2020): finished 1173 trials in 1 min  0 sec"
     ]
    },
    {
     "name": "stdout",
     "output_type": "stream",
     "text": [
      "\n"
     ]
    },
    {
     "name": "stdout",
     "output_type": "stream",
     "text": [
      "\tEGY,  5th phase (02Jul2020 - 12Jul2020): finished  271 trials in 0 min 10 sec"
     ]
    },
    {
     "name": "stdout",
     "output_type": "stream",
     "text": [
      "\n"
     ]
    },
    {
     "name": "stdout",
     "output_type": "stream",
     "text": [
      "\tBRA,  8th phase (30Aug2020 - 10Sep2020): finished  127 trials in 0 min  5 sec"
     ]
    },
    {
     "name": "stdout",
     "output_type": "stream",
     "text": [
      "\n"
     ]
    },
    {
     "name": "stdout",
     "output_type": "stream",
     "text": [
      "\tNGA,  5th phase (08Jul2020 - 17Jul2020): finished 1051 trials in 0 min 50 sec"
     ]
    },
    {
     "name": "stdout",
     "output_type": "stream",
     "text": [
      "\n"
     ]
    },
    {
     "name": "stdout",
     "output_type": "stream",
     "text": [
      "\tBRA,  5th phase (30Jul2020 - 09Aug2020): finished  576 trials in 0 min 25 sec"
     ]
    },
    {
     "name": "stdout",
     "output_type": "stream",
     "text": [
      "\n"
     ]
    },
    {
     "name": "stdout",
     "output_type": "stream",
     "text": [
      "\tIRQ,  7th phase (11Sep2020 - 20Sep2020): finished  137 trials in 0 min  5 sec"
     ]
    },
    {
     "name": "stdout",
     "output_type": "stream",
     "text": [
      "\n"
     ]
    },
    {
     "name": "stdout",
     "output_type": "stream",
     "text": [
      "\tARE,  2nd phase (19May2020 - 01Jun2020): finished 1175 trials in 1 min  0 sec"
     ]
    },
    {
     "name": "stdout",
     "output_type": "stream",
     "text": [
      "\n"
     ]
    },
    {
     "name": "stdout",
     "output_type": "stream",
     "text": [
      "\tIDN,  9th phase (07Oct2020 - 14Oct2020): finished  273 trials in 0 min 10 sec"
     ]
    },
    {
     "name": "stdout",
     "output_type": "stream",
     "text": [
      "\n"
     ]
    },
    {
     "name": "stdout",
     "output_type": "stream",
     "text": [
      "\tIRQ,  9th phase (29Sep2020 - 07Oct2020): finished  241 trials in 0 min 10 sec"
     ]
    },
    {
     "name": "stdout",
     "output_type": "stream",
     "text": [
      "\n"
     ]
    },
    {
     "name": "stdout",
     "output_type": "stream",
     "text": [
      "\tTGO,  6th phase (21Aug2020 - 02Sep2020): finished 1234 trials in 1 min  0 sec"
     ]
    },
    {
     "name": "stdout",
     "output_type": "stream",
     "text": [
      "\n"
     ]
    },
    {
     "name": "stdout",
     "output_type": "stream",
     "text": [
      "\tBHR, 11th phase (10Oct2020 - 01Nov2020): finished  224 trials in 0 min 10 sec"
     ]
    },
    {
     "name": "stdout",
     "output_type": "stream",
     "text": [
      "\n"
     ]
    },
    {
     "name": "stdout",
     "output_type": "stream",
     "text": [
      "\tKWT,  7th phase (07Aug2020 - 21Aug2020): finished  356 trials in 0 min 15 sec"
     ]
    },
    {
     "name": "stdout",
     "output_type": "stream",
     "text": [
      "\n"
     ]
    },
    {
     "name": "stdout",
     "output_type": "stream",
     "text": [
      "\tEGY, 11th phase (30Sep2020 - 01Nov2020): finished 1208 trials in 1 min  0 sec"
     ]
    },
    {
     "name": "stdout",
     "output_type": "stream",
     "text": [
      "\n"
     ]
    },
    {
     "name": "stdout",
     "output_type": "stream",
     "text": [
      "\tBHR,  6th phase (23Jul2020 - 11Aug2020): finished  264 trials in 0 min 10 sec"
     ]
    },
    {
     "name": "stdout",
     "output_type": "stream",
     "text": [
      "\n"
     ]
    },
    {
     "name": "stdout",
     "output_type": "stream",
     "text": [
      "\tTUR, 11th phase (06Oct2020 - 19Oct2020): finished  264 trials in 0 min 10 sec"
     ]
    },
    {
     "name": "stdout",
     "output_type": "stream",
     "text": [
      "\n"
     ]
    },
    {
     "name": "stdout",
     "output_type": "stream",
     "text": [
      "\tEGY,  2nd phase (27May2020 - 04Jun2020): finished 1224 trials in 1 min  0 sec"
     ]
    },
    {
     "name": "stdout",
     "output_type": "stream",
     "text": [
      "\n"
     ]
    },
    {
     "name": "stdout",
     "output_type": "stream",
     "text": [
      "\tARE,  6th phase (17Aug2020 - 10Sep2020): finished 1220 trials in 1 min  0 sec"
     ]
    },
    {
     "name": "stdout",
     "output_type": "stream",
     "text": [
      "\n"
     ]
    },
    {
     "name": "stdout",
     "output_type": "stream",
     "text": [
      "\tRUS,  6th phase (11Jul2020 - 26Jul2020): finished 1208 trials in 1 min  0 sec"
     ]
    },
    {
     "name": "stdout",
     "output_type": "stream",
     "text": [
      "\n"
     ]
    },
    {
     "name": "stdout",
     "output_type": "stream",
     "text": [
      "\tNGA,  1st phase (22May2020 - 07Jun2020): finished 1217 trials in 1 min  0 sec"
     ]
    },
    {
     "name": "stdout",
     "output_type": "stream",
     "text": [
      "\n"
     ]
    },
    {
     "name": "stdout",
     "output_type": "stream",
     "text": [
      "\tIRQ,  3rd phase (29Jul2020 - 11Aug2020): finished 1033 trials in 0 min 50 sec"
     ]
    },
    {
     "name": "stdout",
     "output_type": "stream",
     "text": [
      "\n"
     ]
    },
    {
     "name": "stdout",
     "output_type": "stream",
     "text": [
      "\tITA,  0th phase (24Feb2020 - 21Mar2020): finished 1203 trials in 1 min  0 sec"
     ]
    },
    {
     "name": "stdout",
     "output_type": "stream",
     "text": [
      "\n"
     ]
    },
    {
     "name": "stdout",
     "output_type": "stream",
     "text": [
      "\tIRN,  1st phase (01Apr2020 - 05May2020): finished 1154 trials in 1 min  0 sec"
     ]
    },
    {
     "name": "stdout",
     "output_type": "stream",
     "text": [
      "\n"
     ]
    },
    {
     "name": "stdout",
     "output_type": "stream",
     "text": [
      "\tBOL,  9th phase (04Sep2020 - 12Sep2020): finished 1231 trials in 1 min  0 sec"
     ]
    },
    {
     "name": "stdout",
     "output_type": "stream",
     "text": [
      "\n"
     ]
    },
    {
     "name": "stdout",
     "output_type": "stream",
     "text": [
      "\tUSA, 10th phase (13Oct2020 - 22Oct2020): finished  478 trials in 0 min 20 sec"
     ]
    },
    {
     "name": "stdout",
     "output_type": "stream",
     "text": [
      "\n"
     ]
    },
    {
     "name": "stdout",
     "output_type": "stream",
     "text": [
      "\tKWT, 10th phase (20Sep2020 - 04Oct2020): finished  354 trials in 0 min 15 sec"
     ]
    },
    {
     "name": "stdout",
     "output_type": "stream",
     "text": [
      "\n"
     ]
    },
    {
     "name": "stdout",
     "output_type": "stream",
     "text": [
      "\tIDN,  3rd phase (30Jul2020 - 14Aug2020): finished  382 trials in 0 min 15 sec"
     ]
    },
    {
     "name": "stdout",
     "output_type": "stream",
     "text": [
      "\n"
     ]
    },
    {
     "name": "stdout",
     "output_type": "stream",
     "text": [
      "\tNGA, 11th phase (01Oct2020 - 01Nov2020): finished 1187 trials in 1 min  0 sec"
     ]
    },
    {
     "name": "stdout",
     "output_type": "stream",
     "text": [
      "\n"
     ]
    },
    {
     "name": "stdout",
     "output_type": "stream",
     "text": [
      "\tHND,  8th phase (12Sep2020 - 19Sep2020): finished  493 trials in 0 min 20 sec"
     ]
    },
    {
     "name": "stdout",
     "output_type": "stream",
     "text": [
      "\n"
     ]
    },
    {
     "name": "stdout",
     "output_type": "stream",
     "text": [
      "\tHND,  9th phase (20Sep2020 - 29Sep2020): finished  484 trials in 0 min 20 sec"
     ]
    },
    {
     "name": "stdout",
     "output_type": "stream",
     "text": [
      "\n"
     ]
    },
    {
     "name": "stdout",
     "output_type": "stream",
     "text": [
      "\tBRA,  2nd phase (22Jun2020 - 06Jul2020): finished 1227 trials in 1 min  0 sec"
     ]
    },
    {
     "name": "stdout",
     "output_type": "stream",
     "text": [
      "\n"
     ]
    },
    {
     "name": "stdout",
     "output_type": "stream",
     "text": [
      "\tRUS,  2nd phase (19May2020 - 30May2020): finished 1227 trials in 1 min  0 sec"
     ]
    },
    {
     "name": "stdout",
     "output_type": "stream",
     "text": [
      "\n"
     ]
    },
    {
     "name": "stdout",
     "output_type": "stream",
     "text": [
      "\tUSA,  6th phase (13Aug2020 - 27Aug2020): finished  232 trials in 0 min 10 sec"
     ]
    },
    {
     "name": "stdout",
     "output_type": "stream",
     "text": [
      "\n"
     ]
    },
    {
     "name": "stdout",
     "output_type": "stream",
     "text": [
      "\tMEX,  0th phase (03Mar2020 - 28May2020): finished 1159 trials in 1 min  0 sec"
     ]
    },
    {
     "name": "stdout",
     "output_type": "stream",
     "text": [
      "\n"
     ]
    },
    {
     "name": "stdout",
     "output_type": "stream",
     "text": [
      "\tLVA,  4th phase (16May2020 - 30May2020): finished 1184 trials in 1 min  0 sec"
     ]
    },
    {
     "name": "stdout",
     "output_type": "stream",
     "text": [
      "\n"
     ]
    },
    {
     "name": "stdout",
     "output_type": "stream",
     "text": [
      "\tLVA,  3rd phase (07May2020 - 15May2020): finished 1384 trials in 1 min  0 sec"
     ]
    },
    {
     "name": "stdout",
     "output_type": "stream",
     "text": [
      "\n"
     ]
    },
    {
     "name": "stdout",
     "output_type": "stream",
     "text": [
      "\tHND,  2nd phase (04Jul2020 - 17Jul2020): finished 1226 trials in 1 min  0 sec"
     ]
    },
    {
     "name": "stdout",
     "output_type": "stream",
     "text": [
      "\n"
     ]
    },
    {
     "name": "stdout",
     "output_type": "stream",
     "text": [
      "\tTGO,  9th phase (29Sep2020 - 11Oct2020): finished 1227 trials in 1 min  0 sec"
     ]
    },
    {
     "name": "stdout",
     "output_type": "stream",
     "text": [
      "\n"
     ]
    },
    {
     "name": "stdout",
     "output_type": "stream",
     "text": [
      "\tLVA, 10th phase (28Sep2020 - 23Oct2020): finished 1368 trials in 1 min  0 sec"
     ]
    },
    {
     "name": "stdout",
     "output_type": "stream",
     "text": [
      "\n"
     ]
    },
    {
     "name": "stdout",
     "output_type": "stream",
     "text": [
      "\tBOL,  6th phase (10Aug2020 - 17Aug2020): finished  271 trials in 0 min 10 sec"
     ]
    },
    {
     "name": "stdout",
     "output_type": "stream",
     "text": [
      "\n"
     ]
    },
    {
     "name": "stdout",
     "output_type": "stream",
     "text": [
      "\tPER,  4th phase (11Jul2020 - 28Jul2020): finished 1192 trials in 1 min  0 sec"
     ]
    },
    {
     "name": "stdout",
     "output_type": "stream",
     "text": [
      "\n"
     ]
    },
    {
     "name": "stdout",
     "output_type": "stream",
     "text": [
      "\tIRQ, 11th phase (19Oct2020 - 01Nov2020): finished  148 trials in 0 min  5 sec"
     ]
    },
    {
     "name": "stdout",
     "output_type": "stream",
     "text": [
      "\n"
     ]
    },
    {
     "name": "stdout",
     "output_type": "stream",
     "text": [
      "\tBOL,  5th phase (01Aug2020 - 09Aug2020): finished  131 trials in 0 min  5 sec"
     ]
    },
    {
     "name": "stdout",
     "output_type": "stream",
     "text": [
      "\n"
     ]
    },
    {
     "name": "stdout",
     "output_type": "stream",
     "text": [
      "\tIRN,  8th phase (10Sep2020 - 27Sep2020): finished  137 trials in 0 min  5 sec"
     ]
    },
    {
     "name": "stdout",
     "output_type": "stream",
     "text": [
      "\n"
     ]
    },
    {
     "name": "stdout",
     "output_type": "stream",
     "text": [
      "\tUSA,  3rd phase (06Jul2020 - 18Jul2020): finished  363 trials in 0 min 15 sec"
     ]
    },
    {
     "name": "stdout",
     "output_type": "stream",
     "text": [
      "\n"
     ]
    },
    {
     "name": "stdout",
     "output_type": "stream",
     "text": [
      "\tDOM,  5th phase (24Jul2020 - 31Jul2020): finished 1208 trials in 1 min  0 sec"
     ]
    },
    {
     "name": "stdout",
     "output_type": "stream",
     "text": [
      "\n"
     ]
    },
    {
     "name": "stdout",
     "output_type": "stream",
     "text": [
      "\tBOL, 11th phase (29Sep2020 - 01Nov2020): finished 1096 trials in 0 min 55 sec"
     ]
    },
    {
     "name": "stdout",
     "output_type": "stream",
     "text": [
      "\n"
     ]
    },
    {
     "name": "stdout",
     "output_type": "stream",
     "text": [
      "\tHND,  3rd phase (18Jul2020 - 25Jul2020): finished  253 trials in 0 min 10 sec"
     ]
    },
    {
     "name": "stdout",
     "output_type": "stream",
     "text": [
      "\n"
     ]
    },
    {
     "name": "stdout",
     "output_type": "stream",
     "text": [
      "\tKWT,  8th phase (22Aug2020 - 05Sep2020): finished  239 trials in 0 min 10 sec"
     ]
    },
    {
     "name": "stdout",
     "output_type": "stream",
     "text": [
      "\n"
     ]
    },
    {
     "name": "stdout",
     "output_type": "stream",
     "text": [
      "\tIDN, 10th phase (15Oct2020 - 22Oct2020): finished  258 trials in 0 min 10 sec"
     ]
    },
    {
     "name": "stdout",
     "output_type": "stream",
     "text": [
      "\n"
     ]
    },
    {
     "name": "stdout",
     "output_type": "stream",
     "text": [
      "\tFRA,  8th phase (09Sep2020 - 17Sep2020): finished  240 trials in 0 min 10 sec"
     ]
    },
    {
     "name": "stdout",
     "output_type": "stream",
     "text": [
      "\n"
     ]
    },
    {
     "name": "stdout",
     "output_type": "stream",
     "text": [
      "\tTUR, 12th phase (20Oct2020 - 01Nov2020): finished  343 trials in 0 min 15 sec"
     ]
    },
    {
     "name": "stdout",
     "output_type": "stream",
     "text": [
      "\n"
     ]
    },
    {
     "name": "stdout",
     "output_type": "stream",
     "text": [
      "\tIRN,  3rd phase (31May2020 - 17Jun2020): finished  863 trials in 0 min 40 sec"
     ]
    },
    {
     "name": "stdout",
     "output_type": "stream",
     "text": [
      "\n"
     ]
    },
    {
     "name": "stdout",
     "output_type": "stream",
     "text": [
      "\tLVA,  5th phase (31May2020 - 08Jul2020): finished 1182 trials in 1 min  0 sec"
     ]
    },
    {
     "name": "stdout",
     "output_type": "stream",
     "text": [
      "\n"
     ]
    },
    {
     "name": "stdout",
     "output_type": "stream",
     "text": [
      "\tTGO,  0th phase (20Mar2020 - 10May2020): finished 1162 trials in 1 min  0 sec"
     ]
    },
    {
     "name": "stdout",
     "output_type": "stream",
     "text": [
      "\n"
     ]
    },
    {
     "name": "stdout",
     "output_type": "stream",
     "text": [
      "\tBGD, 10th phase (23Sep2020 - 11Oct2020): finished  348 trials in 0 min 15 sec"
     ]
    },
    {
     "name": "stdout",
     "output_type": "stream",
     "text": [
      "\n"
     ]
    },
    {
     "name": "stdout",
     "output_type": "stream",
     "text": [
      "\tFRA,  0th phase (12Feb2020 - 27Mar2020): finished 1212 trials in 1 min  0 sec"
     ]
    },
    {
     "name": "stdout",
     "output_type": "stream",
     "text": [
      "\n"
     ]
    },
    {
     "name": "stdout",
     "output_type": "stream",
     "text": [
      "\tTGO, 10th phase (12Oct2020 - 21Oct2020): finished  458 trials in 0 min 20 sec"
     ]
    },
    {
     "name": "stdout",
     "output_type": "stream",
     "text": [
      "\n"
     ]
    },
    {
     "name": "stdout",
     "output_type": "stream",
     "text": [
      "\tNGA, 10th phase (03Sep2020 - 30Sep2020): finished 1219 trials in 1 min  0 sec"
     ]
    },
    {
     "name": "stdout",
     "output_type": "stream",
     "text": [
      "\n"
     ]
    },
    {
     "name": "stdout",
     "output_type": "stream",
     "text": [
      "\tARE,  5th phase (12Jul2020 - 16Aug2020): finished 1247 trials in 1 min  0 sec"
     ]
    },
    {
     "name": "stdout",
     "output_type": "stream",
     "text": [
      "\n"
     ]
    },
    {
     "name": "stdout",
     "output_type": "stream",
     "text": [
      "\tDOM,  6th phase (01Aug2020 - 11Aug2020): finished 1205 trials in 1 min  0 sec"
     ]
    },
    {
     "name": "stdout",
     "output_type": "stream",
     "text": [
      "\n"
     ]
    },
    {
     "name": "stdout",
     "output_type": "stream",
     "text": [
      "\tFRA,  5th phase (09Jun2020 - 03Aug2020): finished 1166 trials in 1 min  0 sec"
     ]
    },
    {
     "name": "stdout",
     "output_type": "stream",
     "text": [
      "\n"
     ]
    },
    {
     "name": "stdout",
     "output_type": "stream",
     "text": [
      "\tBGD,  0th phase (16Mar2020 - 04Jun2020): finished 1124 trials in 1 min  0 sec"
     ]
    },
    {
     "name": "stdout",
     "output_type": "stream",
     "text": [
      "\n"
     ]
    },
    {
     "name": "stdout",
     "output_type": "stream",
     "text": [
      "\tKWT,  4th phase (23Jun2020 - 06Jul2020): finished 1192 trials in 1 min  0 sec"
     ]
    },
    {
     "name": "stdout",
     "output_type": "stream",
     "text": [
      "\n"
     ]
    },
    {
     "name": "stdout",
     "output_type": "stream",
     "text": [
      "\tTUR,  4th phase (22May2020 - 13Jun2020): finished 1204 trials in 1 min  0 sec"
     ]
    },
    {
     "name": "stdout",
     "output_type": "stream",
     "text": [
      "\n"
     ]
    },
    {
     "name": "stdout",
     "output_type": "stream",
     "text": [
      "\tMEX,  5th phase (31Jul2020 - 10Aug2020): finished  130 trials in 0 min  5 sec"
     ]
    },
    {
     "name": "stdout",
     "output_type": "stream",
     "text": [
      "\n"
     ]
    },
    {
     "name": "stdout",
     "output_type": "stream",
     "text": [
      "\tHND,  4th phase (26Jul2020 - 05Aug2020): finished 1236 trials in 1 min  0 sec"
     ]
    },
    {
     "name": "stdout",
     "output_type": "stream",
     "text": [
      "\n"
     ]
    },
    {
     "name": "stdout",
     "output_type": "stream",
     "text": [
      "\tBRA, 11th phase (12Oct2020 - 01Nov2020): finished 1374 trials in 1 min  0 sec"
     ]
    },
    {
     "name": "stdout",
     "output_type": "stream",
     "text": [
      "\n"
     ]
    },
    {
     "name": "stdout",
     "output_type": "stream",
     "text": [
      "\tIDN,  0th phase (10Mar2020 - 15Jun2020): finished 1181 trials in 1 min  0 sec"
     ]
    },
    {
     "name": "stdout",
     "output_type": "stream",
     "text": [
      "\n"
     ]
    },
    {
     "name": "stdout",
     "output_type": "stream",
     "text": [
      "\tEGY,  4th phase (18Jun2020 - 01Jul2020): finished 1208 trials in 1 min  0 sec"
     ]
    },
    {
     "name": "stdout",
     "output_type": "stream",
     "text": [
      "\n"
     ]
    },
    {
     "name": "stdout",
     "output_type": "stream",
     "text": [
      "\tTGO,  5th phase (07Aug2020 - 20Aug2020): finished 1198 trials in 1 min  0 sec"
     ]
    },
    {
     "name": "stdout",
     "output_type": "stream",
     "text": [
      "\n"
     ]
    },
    {
     "name": "stdout",
     "output_type": "stream",
     "text": [
      "\tRUS,  7th phase (27Jul2020 - 14Aug2020): finished 1167 trials in 1 min  0 sec"
     ]
    },
    {
     "name": "stdout",
     "output_type": "stream",
     "text": [
      "\n"
     ]
    },
    {
     "name": "stdout",
     "output_type": "stream",
     "text": [
      "\tIRQ,  4th phase (12Aug2020 - 22Aug2020): finished  606 trials in 0 min 25 sec"
     ]
    },
    {
     "name": "stdout",
     "output_type": "stream",
     "text": [
      "\n"
     ]
    },
    {
     "name": "stdout",
     "output_type": "stream",
     "text": [
      "\tTUR,  5th phase (14Jun2020 - 01Jul2020): finished 1201 trials in 1 min  0 sec"
     ]
    },
    {
     "name": "stdout",
     "output_type": "stream",
     "text": [
      "\n"
     ]
    },
    {
     "name": "stdout",
     "output_type": "stream",
     "text": [
      "\tPER,  2nd phase (29May2020 - 18Jun2020): finished 1235 trials in 1 min  0 sec"
     ]
    },
    {
     "name": "stdout",
     "output_type": "stream",
     "text": [
      "\n"
     ]
    },
    {
     "name": "stdout",
     "output_type": "stream",
     "text": [
      "\tARE,  4th phase (25Jun2020 - 11Jul2020): finished  968 trials in 0 min 45 sec"
     ]
    },
    {
     "name": "stdout",
     "output_type": "stream",
     "text": [
      "\n"
     ]
    },
    {
     "name": "stdout",
     "output_type": "stream",
     "text": [
      "\tFRA,  7th phase (25Aug2020 - 08Sep2020): finished  478 trials in 0 min 20 sec"
     ]
    },
    {
     "name": "stdout",
     "output_type": "stream",
     "text": [
      "\n"
     ]
    },
    {
     "name": "stdout",
     "output_type": "stream",
     "text": [
      "\tPER,  3rd phase (19Jun2020 - 10Jul2020): finished 1207 trials in 1 min  0 sec"
     ]
    },
    {
     "name": "stdout",
     "output_type": "stream",
     "text": [
      "\n"
     ]
    },
    {
     "name": "stdout",
     "output_type": "stream",
     "text": [
      "\tFRA,  3rd phase (13Apr2020 - 25Apr2020): finished 1208 trials in 1 min  0 sec"
     ]
    },
    {
     "name": "stdout",
     "output_type": "stream",
     "text": [
      "\n"
     ]
    },
    {
     "name": "stdout",
     "output_type": "stream",
     "text": [
      "\tTUR, 10th phase (19Sep2020 - 05Oct2020): finished  239 trials in 0 min 10 sec"
     ]
    },
    {
     "name": "stdout",
     "output_type": "stream",
     "text": [
      "\n"
     ]
    },
    {
     "name": "stdout",
     "output_type": "stream",
     "text": [
      "\tRUS,  1st phase (08May2020 - 18May2020): finished 1194 trials in 1 min  0 sec"
     ]
    },
    {
     "name": "stdout",
     "output_type": "stream",
     "text": [
      "\n"
     ]
    },
    {
     "name": "stdout",
     "output_type": "stream",
     "text": [
      "\tIDN,  8th phase (29Sep2020 - 06Oct2020): finished  256 trials in 0 min 10 sec"
     ]
    },
    {
     "name": "stdout",
     "output_type": "stream",
     "text": [
      "\n"
     ]
    },
    {
     "name": "stdout",
     "output_type": "stream",
     "text": [
      "\tKWT,  0th phase (08Mar2020 - 13May2020): finished  980 trials in 1 min  0 sec"
     ]
    },
    {
     "name": "stdout",
     "output_type": "stream",
     "text": [
      "\n"
     ]
    },
    {
     "name": "stdout",
     "output_type": "stream",
     "text": [
      "\tIRQ,  0th phase (09Mar2020 - 25Jun2020): finished 1176 trials in 1 min  0 sec"
     ]
    },
    {
     "name": "stdout",
     "output_type": "stream",
     "text": [
      "\n"
     ]
    },
    {
     "name": "stdout",
     "output_type": "stream",
     "text": [
      "\tBOL,  0th phase (01Apr2020 - 13Jun2020): finished 1159 trials in 1 min  0 sec"
     ]
    },
    {
     "name": "stdout",
     "output_type": "stream",
     "text": [
      "\n"
     ]
    },
    {
     "name": "stdout",
     "output_type": "stream",
     "text": [
      "\tUSA,  5th phase (30Jul2020 - 12Aug2020): finished  362 trials in 0 min 15 sec"
     ]
    },
    {
     "name": "stdout",
     "output_type": "stream",
     "text": [
      "\n"
     ]
    },
    {
     "name": "stdout",
     "output_type": "stream",
     "text": [
      "\tBHR, 10th phase (26Sep2020 - 09Oct2020): finished  257 trials in 0 min 10 sec"
     ]
    },
    {
     "name": "stdout",
     "output_type": "stream",
     "text": [
      "\n"
     ]
    },
    {
     "name": "stdout",
     "output_type": "stream",
     "text": [
      "\tMEX,  4th phase (17Jul2020 - 30Jul2020): finished 1233 trials in 1 min  0 sec"
     ]
    },
    {
     "name": "stdout",
     "output_type": "stream",
     "text": [
      "\n"
     ]
    },
    {
     "name": "stdout",
     "output_type": "stream",
     "text": [
      "\tIRN,  2nd phase (06May2020 - 30May2020): finished 1161 trials in 1 min  0 sec"
     ]
    },
    {
     "name": "stdout",
     "output_type": "stream",
     "text": [
      "\n"
     ]
    },
    {
     "name": "stdout",
     "output_type": "stream",
     "text": [
      "\tPER, 11th phase (08Oct2020 - 01Nov2020): finished 1154 trials in 1 min  0 sec"
     ]
    },
    {
     "name": "stdout",
     "output_type": "stream",
     "text": [
      "\n"
     ]
    },
    {
     "name": "stdout",
     "output_type": "stream",
     "text": [
      "\tITA,  6th phase (21May2020 - 17Aug2020): finished 1141 trials in 1 min  0 sec"
     ]
    },
    {
     "name": "stdout",
     "output_type": "stream",
     "text": [
      "\n"
     ]
    },
    {
     "name": "stdout",
     "output_type": "stream",
     "text": [
      "\tHND,  0th phase (28Mar2020 - 16Jun2020): finished 1143 trials in 1 min  0 sec"
     ]
    },
    {
     "name": "stdout",
     "output_type": "stream",
     "text": [
      "\n"
     ]
    },
    {
     "name": "stdout",
     "output_type": "stream",
     "text": [
      "\tNGA,  3rd phase (20Jun2020 - 28Jun2020): finished 1220 trials in 1 min  0 sec"
     ]
    },
    {
     "name": "stdout",
     "output_type": "stream",
     "text": [
      "\n"
     ]
    },
    {
     "name": "stdout",
     "output_type": "stream",
     "text": [
      "\tARE,  1st phase (04May2020 - 18May2020): finished 1249 trials in 1 min  0 sec"
     ]
    },
    {
     "name": "stdout",
     "output_type": "stream",
     "text": [
      "\n"
     ]
    },
    {
     "name": "stdout",
     "output_type": "stream",
     "text": [
      "\tLVA,  1st phase (11Apr2020 - 21Apr2020): finished 1242 trials in 1 min  0 sec"
     ]
    },
    {
     "name": "stdout",
     "output_type": "stream",
     "text": [
      "\n"
     ]
    },
    {
     "name": "stdout",
     "output_type": "stream",
     "text": [
      "\tITA,  1st phase (22Mar2020 - 31Mar2020): finished  263 trials in 0 min 10 sec"
     ]
    },
    {
     "name": "stdout",
     "output_type": "stream",
     "text": [
      "\n"
     ]
    },
    {
     "name": "stdout",
     "output_type": "stream",
     "text": [
      "\tEGY,  1st phase (13May2020 - 26May2020): finished 1253 trials in 1 min  0 sec"
     ]
    },
    {
     "name": "stdout",
     "output_type": "stream",
     "text": [
      "\n"
     ]
    },
    {
     "name": "stdout",
     "output_type": "stream",
     "text": [
      "\tIDN,  4th phase (15Aug2020 - 29Aug2020): finished  660 trials in 0 min 30 sec"
     ]
    },
    {
     "name": "stdout",
     "output_type": "stream",
     "text": [
      "\n"
     ]
    },
    {
     "name": "stdout",
     "output_type": "stream",
     "text": [
      "\tTUR,  0th phase (24Mar2020 - 16Apr2020): finished 1235 trials in 1 min  0 sec"
     ]
    },
    {
     "name": "stdout",
     "output_type": "stream",
     "text": [
      "\n"
     ]
    },
    {
     "name": "stdout",
     "output_type": "stream",
     "text": [
      "\tFRA,  4th phase (26Apr2020 - 08Jun2020): finished 1178 trials in 1 min  0 sec"
     ]
    },
    {
     "name": "stdout",
     "output_type": "stream",
     "text": [
      "\n"
     ]
    },
    {
     "name": "stdout",
     "output_type": "stream",
     "text": [
      "\tIRQ,  1st phase (26Jun2020 - 13Jul2020): finished 1197 trials in 1 min  0 sec"
     ]
    },
    {
     "name": "stdout",
     "output_type": "stream",
     "text": [
      "\n"
     ]
    },
    {
     "name": "stdout",
     "output_type": "stream",
     "text": [
      "\tBRA,  9th phase (11Sep2020 - 23Sep2020): finished  138 trials in 0 min  5 sec"
     ]
    },
    {
     "name": "stdout",
     "output_type": "stream",
     "text": [
      "\n"
     ]
    },
    {
     "name": "stdout",
     "output_type": "stream",
     "text": [
      "\tFRA, 12th phase (21Oct2020 - 01Nov2020): finished 1187 trials in 1 min  0 sec"
     ]
    },
    {
     "name": "stdout",
     "output_type": "stream",
     "text": [
      "\n"
     ]
    },
    {
     "name": "stdout",
     "output_type": "stream",
     "text": [
      "\tUSA,  4th phase (19Jul2020 - 29Jul2020): finished  272 trials in 0 min 10 sec"
     ]
    },
    {
     "name": "stdout",
     "output_type": "stream",
     "text": [
      "\n"
     ]
    },
    {
     "name": "stdout",
     "output_type": "stream",
     "text": [
      "\tTUR,  1st phase (17Apr2020 - 26Apr2020): finished 1225 trials in 1 min  0 sec"
     ]
    },
    {
     "name": "stdout",
     "output_type": "stream",
     "text": [
      "\n"
     ]
    },
    {
     "name": "stdout",
     "output_type": "stream",
     "text": [
      "\tHND,  5th phase (06Aug2020 - 20Aug2020): finished  482 trials in 0 min 20 sec"
     ]
    },
    {
     "name": "stdout",
     "output_type": "stream",
     "text": [
      "\n"
     ]
    },
    {
     "name": "stdout",
     "output_type": "stream",
     "text": [
      "\tPER,  7th phase (18Aug2020 - 28Aug2020): finished 1215 trials in 1 min  0 sec"
     ]
    },
    {
     "name": "stdout",
     "output_type": "stream",
     "text": [
      "\n"
     ]
    },
    {
     "name": "stdout",
     "output_type": "stream",
     "text": [
      "\tBGD,  7th phase (14Aug2020 - 25Aug2020): finished 1218 trials in 1 min  0 sec"
     ]
    },
    {
     "name": "stdout",
     "output_type": "stream",
     "text": [
      "\n"
     ]
    },
    {
     "name": "stdout",
     "output_type": "stream",
     "text": [
      "\tIDN,  1st phase (16Jun2020 - 10Jul2020): finished 1163 trials in 1 min  0 sec"
     ]
    },
    {
     "name": "stdout",
     "output_type": "stream",
     "text": [
      "\n"
     ]
    },
    {
     "name": "stdout",
     "output_type": "stream",
     "text": [
      "\tNGA,  0th phase (18Mar2020 - 21May2020): finished 1176 trials in 1 min  0 sec"
     ]
    },
    {
     "name": "stdout",
     "output_type": "stream",
     "text": [
      "\n"
     ]
    },
    {
     "name": "stdout",
     "output_type": "stream",
     "text": [
      "\tIRQ, 10th phase (08Oct2020 - 18Oct2020): finished  255 trials in 0 min 10 sec"
     ]
    },
    {
     "name": "stdout",
     "output_type": "stream",
     "text": [
      "\n"
     ]
    },
    {
     "name": "stdout",
     "output_type": "stream",
     "text": [
      "\tHND,  7th phase (30Aug2020 - 11Sep2020): finished 1237 trials in 1 min  0 sec"
     ]
    },
    {
     "name": "stdout",
     "output_type": "stream",
     "text": [
      "\n"
     ]
    },
    {
     "name": "stdout",
     "output_type": "stream",
     "text": [
      "\tNGA,  7th phase (28Jul2020 - 07Aug2020): finished 1224 trials in 1 min  0 sec"
     ]
    },
    {
     "name": "stdout",
     "output_type": "stream",
     "text": [
      "\n"
     ]
    },
    {
     "name": "stdout",
     "output_type": "stream",
     "text": [
      "\tIRN,  6th phase (26Jul2020 - 15Aug2020): finished  552 trials in 0 min 25 sec"
     ]
    },
    {
     "name": "stdout",
     "output_type": "stream",
     "text": [
      "\n"
     ]
    },
    {
     "name": "stdout",
     "output_type": "stream",
     "text": [
      "\tTGO,  8th phase (17Sep2020 - 28Sep2020): finished 1042 trials in 0 min 50 sec"
     ]
    },
    {
     "name": "stdout",
     "output_type": "stream",
     "text": [
      "\n"
     ]
    },
    {
     "name": "stdout",
     "output_type": "stream",
     "text": [
      "\tFRA,  9th phase (18Sep2020 - 01Oct2020): finished 1245 trials in 1 min  0 sec"
     ]
    },
    {
     "name": "stdout",
     "output_type": "stream",
     "text": [
      "\n"
     ]
    },
    {
     "name": "stdout",
     "output_type": "stream",
     "text": [
      "\tRUS, 12th phase (17Oct2020 - 01Nov2020): finished 1196 trials in 1 min  0 sec"
     ]
    },
    {
     "name": "stdout",
     "output_type": "stream",
     "text": [
      "\n"
     ]
    },
    {
     "name": "stdout",
     "output_type": "stream",
     "text": [
      "\tEGY,  6th phase (13Jul2020 - 22Jul2020): finished  487 trials in 0 min 20 sec"
     ]
    },
    {
     "name": "stdout",
     "output_type": "stream",
     "text": [
      "\n"
     ]
    },
    {
     "name": "stdout",
     "output_type": "stream",
     "text": [
      "\tKWT, 11th phase (05Oct2020 - 18Oct2020): finished 1226 trials in 1 min  0 sec"
     ]
    },
    {
     "name": "stdout",
     "output_type": "stream",
     "text": [
      "\n"
     ]
    },
    {
     "name": "stdout",
     "output_type": "stream",
     "text": [
      "\tHND,  6th phase (21Aug2020 - 29Aug2020): finished 1117 trials in 0 min 55 sec"
     ]
    },
    {
     "name": "stdout",
     "output_type": "stream",
     "text": [
      "\n"
     ]
    },
    {
     "name": "stdout",
     "output_type": "stream",
     "text": [
      "\tTGO,  2nd phase (03Jun2020 - 26Jun2020): finished 1177 trials in 1 min  0 sec"
     ]
    },
    {
     "name": "stdout",
     "output_type": "stream",
     "text": [
      "\n"
     ]
    },
    {
     "name": "stdout",
     "output_type": "stream",
     "text": [
      "\tIRN,  7th phase (16Aug2020 - 09Sep2020): finished  261 trials in 0 min 10 sec"
     ]
    },
    {
     "name": "stdout",
     "output_type": "stream",
     "text": [
      "\n"
     ]
    },
    {
     "name": "stdout",
     "output_type": "stream",
     "text": [
      "\tARE,  3rd phase (02Jun2020 - 24Jun2020): finished 1199 trials in 1 min  0 sec"
     ]
    },
    {
     "name": "stdout",
     "output_type": "stream",
     "text": [
      "\n"
     ]
    },
    {
     "name": "stdout",
     "output_type": "stream",
     "text": [
      "\tBRA,  7th phase (20Aug2020 - 29Aug2020): finished 1212 trials in 1 min  0 sec"
     ]
    },
    {
     "name": "stdout",
     "output_type": "stream",
     "text": [
      "\n"
     ]
    },
    {
     "name": "stdout",
     "output_type": "stream",
     "text": [
      "\tARE, 10th phase (14Oct2020 - 21Oct2020): finished  129 trials in 0 min  5 sec"
     ]
    },
    {
     "name": "stdout",
     "output_type": "stream",
     "text": [
      "\n"
     ]
    },
    {
     "name": "stdout",
     "output_type": "stream",
     "text": [
      "\tLVA,  8th phase (29Aug2020 - 17Sep2020): finished 1421 trials in 1 min  0 sec"
     ]
    },
    {
     "name": "stdout",
     "output_type": "stream",
     "text": [
      "\n"
     ]
    },
    {
     "name": "stdout",
     "output_type": "stream",
     "text": [
      "\tDOM,  0th phase (24Mar2020 - 23May2020): finished 1206 trials in 1 min  0 sec"
     ]
    },
    {
     "name": "stdout",
     "output_type": "stream",
     "text": [
      "\n"
     ]
    },
    {
     "name": "stdout",
     "output_type": "stream",
     "text": [
      "\tUSA,  8th phase (14Sep2020 - 29Sep2020): finished 1130 trials in 0 min 45 sec"
     ]
    },
    {
     "name": "stdout",
     "output_type": "stream",
     "text": [
      "\n"
     ]
    },
    {
     "name": "stdout",
     "output_type": "stream",
     "text": [
      "\tPER,  5th phase (29Jul2020 - 08Aug2020): finished 1404 trials in 1 min  0 sec"
     ]
    },
    {
     "name": "stdout",
     "output_type": "stream",
     "text": [
      "\n"
     ]
    },
    {
     "name": "stdout",
     "output_type": "stream",
     "text": [
      "\tLVA,  9th phase (18Sep2020 - 27Sep2020): finished 1506 trials in 1 min  0 sec"
     ]
    },
    {
     "name": "stdout",
     "output_type": "stream",
     "text": [
      "\n"
     ]
    },
    {
     "name": "stdout",
     "output_type": "stream",
     "text": [
      "\tIDN,  2nd phase (11Jul2020 - 29Jul2020): finished  412 trials in 0 min 20 sec"
     ]
    },
    {
     "name": "stdout",
     "output_type": "stream",
     "text": [
      "\n"
     ]
    },
    {
     "name": "stdout",
     "output_type": "stream",
     "text": [
      "\tTUR,  6th phase (02Jul2020 - 23Jul2020): finished  116 trials in 0 min  5 sec"
     ]
    },
    {
     "name": "stdout",
     "output_type": "stream",
     "text": [
      "\n"
     ]
    },
    {
     "name": "stdout",
     "output_type": "stream",
     "text": [
      "\tBHR,  0th phase (06Mar2020 - 06May2020): finished 1077 trials in 1 min  0 sec"
     ]
    },
    {
     "name": "stdout",
     "output_type": "stream",
     "text": [
      "\n"
     ]
    },
    {
     "name": "stdout",
     "output_type": "stream",
     "text": [
      "\tBHR,  2nd phase (01Jun2020 - 13Jun2020): finished 1073 trials in 1 min  0 sec"
     ]
    },
    {
     "name": "stdout",
     "output_type": "stream",
     "text": [
      "\n"
     ]
    },
    {
     "name": "stdout",
     "output_type": "stream",
     "text": [
      "\tRUS, 11th phase (08Oct2020 - 16Oct2020): finished  747 trials in 0 min 40 sec"
     ]
    },
    {
     "name": "stdout",
     "output_type": "stream",
     "text": [
      "\n"
     ]
    },
    {
     "name": "stdout",
     "output_type": "stream",
     "text": [
      "\tITA,  4th phase (21Apr2020 - 30Apr2020): finished  152 trials in 0 min  5 sec"
     ]
    },
    {
     "name": "stdout",
     "output_type": "stream",
     "text": [
      "\n"
     ]
    },
    {
     "name": "stdout",
     "output_type": "stream",
     "text": [
      "\tBGD,  5th phase (19Jul2020 - 30Jul2020): finished 1115 trials in 1 min  0 sec"
     ]
    },
    {
     "name": "stdout",
     "output_type": "stream",
     "text": [
      "\n"
     ]
    },
    {
     "name": "stdout",
     "output_type": "stream",
     "text": [
      "\tMEX,  7th phase (25Aug2020 - 07Sep2020): finished 1224 trials in 1 min  0 sec"
     ]
    },
    {
     "name": "stdout",
     "output_type": "stream",
     "text": [
      "\n"
     ]
    },
    {
     "name": "stdout",
     "output_type": "stream",
     "text": [
      "\tLVA,  7th phase (07Aug2020 - 28Aug2020): finished 1575 trials in 1 min  0 sec"
     ]
    },
    {
     "name": "stdout",
     "output_type": "stream",
     "text": [
      "\n"
     ]
    },
    {
     "name": "stdout",
     "output_type": "stream",
     "text": [
      "\tDOM,  1st phase (24May2020 - 15Jun2020): finished 1381 trials in 1 min  0 sec"
     ]
    },
    {
     "name": "stdout",
     "output_type": "stream",
     "text": [
      "\n"
     ]
    },
    {
     "name": "stdout",
     "output_type": "stream",
     "text": [
      "\tDOM, 10th phase (18Sep2020 - 06Oct2020): finished  283 trials in 0 min 10 sec"
     ]
    },
    {
     "name": "stdout",
     "output_type": "stream",
     "text": [
      "\n"
     ]
    },
    {
     "name": "stdout",
     "output_type": "stream",
     "text": [
      "\tLVA,  6th phase (09Jul2020 - 06Aug2020): finished 1585 trials in 1 min  0 sec"
     ]
    },
    {
     "name": "stdout",
     "output_type": "stream",
     "text": [
      "\n"
     ]
    },
    {
     "name": "stdout",
     "output_type": "stream",
     "text": [
      "\tIRQ,  8th phase (21Sep2020 - 28Sep2020): finished  140 trials in 0 min  5 sec"
     ]
    },
    {
     "name": "stdout",
     "output_type": "stream",
     "text": [
      "\n"
     ]
    },
    {
     "name": "stdout",
     "output_type": "stream",
     "text": [
      "\tTUR,  8th phase (16Aug2020 - 03Sep2020): finished  536 trials in 0 min 20 sec"
     ]
    },
    {
     "name": "stdout",
     "output_type": "stream",
     "text": [
      "\n"
     ]
    },
    {
     "name": "stdout",
     "output_type": "stream",
     "text": [
      "\tIRN,  4th phase (18Jun2020 - 05Jul2020): finished  152 trials in 0 min  5 sec"
     ]
    },
    {
     "name": "stdout",
     "output_type": "stream",
     "text": [
      "\n"
     ]
    },
    {
     "name": "stdout",
     "output_type": "stream",
     "text": [
      "\tIRN,  5th phase (06Jul2020 - 25Jul2020): finished  403 trials in 0 min 15 sec"
     ]
    },
    {
     "name": "stdout",
     "output_type": "stream",
     "text": [
      "\n"
     ]
    },
    {
     "name": "stdout",
     "output_type": "stream",
     "text": [
      "\tTGO, 11th phase (22Oct2020 - 01Nov2020): finished 1423 trials in 1 min  0 sec"
     ]
    },
    {
     "name": "stdout",
     "output_type": "stream",
     "text": [
      "\n"
     ]
    },
    {
     "name": "stdout",
     "output_type": "stream",
     "text": [
      "\tBOL,  8th phase (26Aug2020 - 03Sep2020): finished  346 trials in 0 min 10 sec"
     ]
    },
    {
     "name": "stdout",
     "output_type": "stream",
     "text": [
      "\n"
     ]
    },
    {
     "name": "stdout",
     "output_type": "stream",
     "text": [
      "\tFRA, 10th phase (02Oct2020 - 09Oct2020): finished  472 trials in 0 min 15 sec"
     ]
    },
    {
     "name": "stdout",
     "output_type": "stream",
     "text": [
      "\n"
     ]
    },
    {
     "name": "stdout",
     "output_type": "stream",
     "text": [
      "\tNGA,  8th phase (08Aug2020 - 18Aug2020): finished  345 trials in 0 min 10 sec"
     ]
    },
    {
     "name": "stdout",
     "output_type": "stream",
     "text": [
      "\n"
     ]
    },
    {
     "name": "stdout",
     "output_type": "stream",
     "text": [
      "Completed optimization. Total: 47 min 53 sec\n"
     ]
    }
   ],
   "source": [
    "# Parameter estimation with SIR-F model\n",
    "analyser.estimate(cs.SIRF)"
   ]
  },
  {
   "cell_type": "code",
   "execution_count": 12,
   "metadata": {
    "collapsed": false
   },
   "outputs": [
    {
     "data": {
      "text/html": [
       "<div>\n",
       "<style scoped>\n",
       "    .dataframe tbody tr th:only-of-type {\n",
       "        vertical-align: middle;\n",
       "    }\n",
       "\n",
       "    .dataframe tbody tr th {\n",
       "        vertical-align: top;\n",
       "    }\n",
       "\n",
       "    .dataframe thead th {\n",
       "        text-align: right;\n",
       "    }\n",
       "</style>\n",
       "<table border=\"1\" class=\"dataframe\">\n",
       "  <thead>\n",
       "    <tr style=\"text-align: right;\">\n",
       "      <th></th>\n",
       "      <th></th>\n",
       "      <th>Type</th>\n",
       "      <th>Start</th>\n",
       "      <th>End</th>\n",
       "      <th>Population</th>\n",
       "      <th>ODE</th>\n",
       "      <th>Rt</th>\n",
       "      <th>theta</th>\n",
       "      <th>kappa</th>\n",
       "      <th>rho</th>\n",
       "      <th>sigma</th>\n",
       "      <th>tau</th>\n",
       "      <th>alpha1 [-]</th>\n",
       "      <th>1/alpha2 [day]</th>\n",
       "      <th>1/beta [day]</th>\n",
       "      <th>1/gamma [day]</th>\n",
       "      <th>RMSLE</th>\n",
       "      <th>Trials</th>\n",
       "      <th>Runtime</th>\n",
       "    </tr>\n",
       "    <tr>\n",
       "      <th>Country</th>\n",
       "      <th>Phase</th>\n",
       "      <th></th>\n",
       "      <th></th>\n",
       "      <th></th>\n",
       "      <th></th>\n",
       "      <th></th>\n",
       "      <th></th>\n",
       "      <th></th>\n",
       "      <th></th>\n",
       "      <th></th>\n",
       "      <th></th>\n",
       "      <th></th>\n",
       "      <th></th>\n",
       "      <th></th>\n",
       "      <th></th>\n",
       "      <th></th>\n",
       "      <th></th>\n",
       "      <th></th>\n",
       "      <th></th>\n",
       "    </tr>\n",
       "  </thead>\n",
       "  <tbody>\n",
       "    <tr>\n",
       "      <th rowspan=\"5\" valign=\"top\">Kuwait</th>\n",
       "      <th>0th</th>\n",
       "      <td>Past</td>\n",
       "      <td>08Mar2020</td>\n",
       "      <td>13May2020</td>\n",
       "      <td>4137309</td>\n",
       "      <td>SIR-F</td>\n",
       "      <td>0.01</td>\n",
       "      <td>0.782089</td>\n",
       "      <td>0.46407</td>\n",
       "      <td>0.0183652</td>\n",
       "      <td>0.00725809</td>\n",
       "      <td>360</td>\n",
       "      <td>0.782</td>\n",
       "      <td>0</td>\n",
       "      <td>13</td>\n",
       "      <td>34</td>\n",
       "      <td>15.1048</td>\n",
       "      <td>980</td>\n",
       "      <td>1 min  0 sec</td>\n",
       "    </tr>\n",
       "    <tr>\n",
       "      <th>1st</th>\n",
       "      <td>Past</td>\n",
       "      <td>14May2020</td>\n",
       "      <td>27May2020</td>\n",
       "      <td>4137309</td>\n",
       "      <td>SIR-F</td>\n",
       "      <td>3.3</td>\n",
       "      <td>0.000283828</td>\n",
       "      <td>0.000136545</td>\n",
       "      <td>0.0203086</td>\n",
       "      <td>0.0060181</td>\n",
       "      <td>360</td>\n",
       "      <td>0</td>\n",
       "      <td>1830</td>\n",
       "      <td>12</td>\n",
       "      <td>41</td>\n",
       "      <td>0.0653459</td>\n",
       "      <td>1243</td>\n",
       "      <td>1 min  0 sec</td>\n",
       "    </tr>\n",
       "    <tr>\n",
       "      <th>2nd</th>\n",
       "      <td>Past</td>\n",
       "      <td>28May2020</td>\n",
       "      <td>07Jun2020</td>\n",
       "      <td>4137309</td>\n",
       "      <td>SIR-F</td>\n",
       "      <td>0.67</td>\n",
       "      <td>8.60858e-05</td>\n",
       "      <td>0.000144183</td>\n",
       "      <td>0.0145161</td>\n",
       "      <td>0.0214924</td>\n",
       "      <td>360</td>\n",
       "      <td>0</td>\n",
       "      <td>1733</td>\n",
       "      <td>17</td>\n",
       "      <td>11</td>\n",
       "      <td>0.0559148</td>\n",
       "      <td>1275</td>\n",
       "      <td>1 min  0 sec</td>\n",
       "    </tr>\n",
       "    <tr>\n",
       "      <th>3rd</th>\n",
       "      <td>Past</td>\n",
       "      <td>08Jun2020</td>\n",
       "      <td>22Jun2020</td>\n",
       "      <td>4137309</td>\n",
       "      <td>SIR-F</td>\n",
       "      <td>0.68</td>\n",
       "      <td>0.000121557</td>\n",
       "      <td>0.000104251</td>\n",
       "      <td>0.0151609</td>\n",
       "      <td>0.0221621</td>\n",
       "      <td>360</td>\n",
       "      <td>0</td>\n",
       "      <td>2398</td>\n",
       "      <td>16</td>\n",
       "      <td>11</td>\n",
       "      <td>0.0361846</td>\n",
       "      <td>1193</td>\n",
       "      <td>1 min  0 sec</td>\n",
       "    </tr>\n",
       "    <tr>\n",
       "      <th>4th</th>\n",
       "      <td>Past</td>\n",
       "      <td>23Jun2020</td>\n",
       "      <td>06Jul2020</td>\n",
       "      <td>4137309</td>\n",
       "      <td>SIR-F</td>\n",
       "      <td>1.09</td>\n",
       "      <td>0.00028707</td>\n",
       "      <td>8.68692e-05</td>\n",
       "      <td>0.0188665</td>\n",
       "      <td>0.0172402</td>\n",
       "      <td>360</td>\n",
       "      <td>0</td>\n",
       "      <td>2877</td>\n",
       "      <td>13</td>\n",
       "      <td>14</td>\n",
       "      <td>0.0411554</td>\n",
       "      <td>1192</td>\n",
       "      <td>1 min  0 sec</td>\n",
       "    </tr>\n",
       "    <tr>\n",
       "      <th>...</th>\n",
       "      <th>...</th>\n",
       "      <td>...</td>\n",
       "      <td>...</td>\n",
       "      <td>...</td>\n",
       "      <td>...</td>\n",
       "      <td>...</td>\n",
       "      <td>...</td>\n",
       "      <td>...</td>\n",
       "      <td>...</td>\n",
       "      <td>...</td>\n",
       "      <td>...</td>\n",
       "      <td>...</td>\n",
       "      <td>...</td>\n",
       "      <td>...</td>\n",
       "      <td>...</td>\n",
       "      <td>...</td>\n",
       "      <td>...</td>\n",
       "      <td>...</td>\n",
       "      <td>...</td>\n",
       "    </tr>\n",
       "    <tr>\n",
       "      <th rowspan=\"5\" valign=\"top\">Honduras</th>\n",
       "      <th>8th</th>\n",
       "      <td>Past</td>\n",
       "      <td>12Sep2020</td>\n",
       "      <td>19Sep2020</td>\n",
       "      <td>9587522</td>\n",
       "      <td>SIR-F</td>\n",
       "      <td>1.03</td>\n",
       "      <td>0.000356769</td>\n",
       "      <td>7.58064e-05</td>\n",
       "      <td>0.00330801</td>\n",
       "      <td>0.00312569</td>\n",
       "      <td>360</td>\n",
       "      <td>0</td>\n",
       "      <td>3297</td>\n",
       "      <td>75</td>\n",
       "      <td>79</td>\n",
       "      <td>0.015877</td>\n",
       "      <td>493</td>\n",
       "      <td>0 min 20 sec</td>\n",
       "    </tr>\n",
       "    <tr>\n",
       "      <th>9th</th>\n",
       "      <td>Past</td>\n",
       "      <td>20Sep2020</td>\n",
       "      <td>29Sep2020</td>\n",
       "      <td>9587522</td>\n",
       "      <td>SIR-F</td>\n",
       "      <td>0.83</td>\n",
       "      <td>0.0190307</td>\n",
       "      <td>3.92552e-05</td>\n",
       "      <td>0.00275849</td>\n",
       "      <td>0.00320432</td>\n",
       "      <td>360</td>\n",
       "      <td>0.019</td>\n",
       "      <td>6368</td>\n",
       "      <td>90</td>\n",
       "      <td>78</td>\n",
       "      <td>0.0105881</td>\n",
       "      <td>484</td>\n",
       "      <td>0 min 20 sec</td>\n",
       "    </tr>\n",
       "    <tr>\n",
       "      <th>10th</th>\n",
       "      <td>Past</td>\n",
       "      <td>30Sep2020</td>\n",
       "      <td>08Oct2020</td>\n",
       "      <td>9587522</td>\n",
       "      <td>SIR-F</td>\n",
       "      <td>1.58</td>\n",
       "      <td>0.00177346</td>\n",
       "      <td>9.8046e-05</td>\n",
       "      <td>0.00348736</td>\n",
       "      <td>0.00210662</td>\n",
       "      <td>360</td>\n",
       "      <td>0.002</td>\n",
       "      <td>2549</td>\n",
       "      <td>71</td>\n",
       "      <td>118</td>\n",
       "      <td>0.0068103</td>\n",
       "      <td>399</td>\n",
       "      <td>0 min 15 sec</td>\n",
       "    </tr>\n",
       "    <tr>\n",
       "      <th>11th</th>\n",
       "      <td>Past</td>\n",
       "      <td>09Oct2020</td>\n",
       "      <td>16Oct2020</td>\n",
       "      <td>9587522</td>\n",
       "      <td>SIR-F</td>\n",
       "      <td>1.73</td>\n",
       "      <td>0.0014263</td>\n",
       "      <td>3.68971e-05</td>\n",
       "      <td>0.00304517</td>\n",
       "      <td>0.00172027</td>\n",
       "      <td>360</td>\n",
       "      <td>0.001</td>\n",
       "      <td>6775</td>\n",
       "      <td>82</td>\n",
       "      <td>145</td>\n",
       "      <td>0.00870416</td>\n",
       "      <td>489</td>\n",
       "      <td>0 min 20 sec</td>\n",
       "    </tr>\n",
       "    <tr>\n",
       "      <th>12th</th>\n",
       "      <td>Past</td>\n",
       "      <td>17Oct2020</td>\n",
       "      <td>01Nov2020</td>\n",
       "      <td>9587522</td>\n",
       "      <td>-</td>\n",
       "      <td>-</td>\n",
       "      <td>-</td>\n",
       "      <td>-</td>\n",
       "      <td>-</td>\n",
       "      <td>-</td>\n",
       "      <td>-</td>\n",
       "      <td>-</td>\n",
       "      <td>-</td>\n",
       "      <td>-</td>\n",
       "      <td>-</td>\n",
       "      <td>-</td>\n",
       "      <td>-</td>\n",
       "      <td>-</td>\n",
       "    </tr>\n",
       "  </tbody>\n",
       "</table>\n",
       "<p>65 rows × 18 columns</p>\n",
       "</div>"
      ],
      "text/plain": [
       "                Type      Start        End  Population    ODE    Rt  \\\n",
       "Country  Phase                                                        \n",
       "Kuwait   0th    Past  08Mar2020  13May2020     4137309  SIR-F  0.01   \n",
       "         1st    Past  14May2020  27May2020     4137309  SIR-F   3.3   \n",
       "         2nd    Past  28May2020  07Jun2020     4137309  SIR-F  0.67   \n",
       "         3rd    Past  08Jun2020  22Jun2020     4137309  SIR-F  0.68   \n",
       "         4th    Past  23Jun2020  06Jul2020     4137309  SIR-F  1.09   \n",
       "...              ...        ...        ...         ...    ...   ...   \n",
       "Honduras 8th    Past  12Sep2020  19Sep2020     9587522  SIR-F  1.03   \n",
       "         9th    Past  20Sep2020  29Sep2020     9587522  SIR-F  0.83   \n",
       "         10th   Past  30Sep2020  08Oct2020     9587522  SIR-F  1.58   \n",
       "         11th   Past  09Oct2020  16Oct2020     9587522  SIR-F  1.73   \n",
       "         12th   Past  17Oct2020  01Nov2020     9587522      -     -   \n",
       "\n",
       "                      theta        kappa         rho       sigma  tau  \\\n",
       "Country  Phase                                                          \n",
       "Kuwait   0th       0.782089      0.46407   0.0183652  0.00725809  360   \n",
       "         1st    0.000283828  0.000136545   0.0203086   0.0060181  360   \n",
       "         2nd    8.60858e-05  0.000144183   0.0145161   0.0214924  360   \n",
       "         3rd    0.000121557  0.000104251   0.0151609   0.0221621  360   \n",
       "         4th     0.00028707  8.68692e-05   0.0188665   0.0172402  360   \n",
       "...                     ...          ...         ...         ...  ...   \n",
       "Honduras 8th    0.000356769  7.58064e-05  0.00330801  0.00312569  360   \n",
       "         9th      0.0190307  3.92552e-05  0.00275849  0.00320432  360   \n",
       "         10th    0.00177346   9.8046e-05  0.00348736  0.00210662  360   \n",
       "         11th     0.0014263  3.68971e-05  0.00304517  0.00172027  360   \n",
       "         12th             -            -           -           -    -   \n",
       "\n",
       "               alpha1 [-] 1/alpha2 [day] 1/beta [day] 1/gamma [day]  \\\n",
       "Country  Phase                                                        \n",
       "Kuwait   0th        0.782              0           13            34   \n",
       "         1st            0           1830           12            41   \n",
       "         2nd            0           1733           17            11   \n",
       "         3rd            0           2398           16            11   \n",
       "         4th            0           2877           13            14   \n",
       "...                   ...            ...          ...           ...   \n",
       "Honduras 8th            0           3297           75            79   \n",
       "         9th        0.019           6368           90            78   \n",
       "         10th       0.002           2549           71           118   \n",
       "         11th       0.001           6775           82           145   \n",
       "         12th           -              -            -             -   \n",
       "\n",
       "                     RMSLE Trials       Runtime  \n",
       "Country  Phase                                   \n",
       "Kuwait   0th       15.1048    980  1 min  0 sec  \n",
       "         1st     0.0653459   1243  1 min  0 sec  \n",
       "         2nd     0.0559148   1275  1 min  0 sec  \n",
       "         3rd     0.0361846   1193  1 min  0 sec  \n",
       "         4th     0.0411554   1192  1 min  0 sec  \n",
       "...                    ...    ...           ...  \n",
       "Honduras 8th      0.015877    493  0 min 20 sec  \n",
       "         9th     0.0105881    484  0 min 20 sec  \n",
       "         10th    0.0068103    399  0 min 15 sec  \n",
       "         11th   0.00870416    489  0 min 20 sec  \n",
       "         12th            -      -             -  \n",
       "\n",
       "[65 rows x 18 columns]"
      ]
     },
     "execution_count": 12,
     "metadata": {},
     "output_type": "execute_result"
    }
   ],
   "source": [
    "# Show summary\n",
    "analyser.summary(countries=countries_show)"
   ]
  },
  {
   "cell_type": "markdown",
   "metadata": {},
   "source": [
    "## Compare the history of parameters\n",
    "Here, compare the history of parameter values if countries."
   ]
  },
  {
   "cell_type": "code",
   "execution_count": 13,
   "metadata": {
    "collapsed": false
   },
   "outputs": [
    {
     "data": {
      "text/html": [
       "<div>\n",
       "<style scoped>\n",
       "    .dataframe tbody tr th:only-of-type {\n",
       "        vertical-align: middle;\n",
       "    }\n",
       "\n",
       "    .dataframe tbody tr th {\n",
       "        vertical-align: top;\n",
       "    }\n",
       "\n",
       "    .dataframe thead th {\n",
       "        text-align: right;\n",
       "    }\n",
       "</style>\n",
       "<table border=\"1\" class=\"dataframe\">\n",
       "  <thead>\n",
       "    <tr style=\"text-align: right;\">\n",
       "      <th></th>\n",
       "      <th>Date</th>\n",
       "      <th>Country</th>\n",
       "      <th>theta</th>\n",
       "      <th>kappa</th>\n",
       "      <th>rho</th>\n",
       "      <th>sigma</th>\n",
       "      <th>alpha1 [-]</th>\n",
       "      <th>1/alpha2 [day]</th>\n",
       "      <th>1/beta [day]</th>\n",
       "      <th>1/gamma [day]</th>\n",
       "      <th>...</th>\n",
       "      <th>Cancel_events</th>\n",
       "      <th>Gatherings_restrictions</th>\n",
       "      <th>Transport_closing</th>\n",
       "      <th>Stay_home_restrictions</th>\n",
       "      <th>Internal_movement_restrictions</th>\n",
       "      <th>International_movement_restrictions</th>\n",
       "      <th>Information_campaigns</th>\n",
       "      <th>Testing_policy</th>\n",
       "      <th>Contact_tracing</th>\n",
       "      <th>Stringency_index</th>\n",
       "    </tr>\n",
       "  </thead>\n",
       "  <tbody>\n",
       "    <tr>\n",
       "      <th>0</th>\n",
       "      <td>2020-03-09</td>\n",
       "      <td>Iraq</td>\n",
       "      <td>0.0288015</td>\n",
       "      <td>0.000392685</td>\n",
       "      <td>0.0279018</td>\n",
       "      <td>0.0143105</td>\n",
       "      <td>0.029</td>\n",
       "      <td>636</td>\n",
       "      <td>8</td>\n",
       "      <td>17</td>\n",
       "      <td>...</td>\n",
       "      <td>2</td>\n",
       "      <td>4</td>\n",
       "      <td>0</td>\n",
       "      <td>0</td>\n",
       "      <td>0</td>\n",
       "      <td>3</td>\n",
       "      <td>2</td>\n",
       "      <td>1</td>\n",
       "      <td>1</td>\n",
       "      <td>52.78</td>\n",
       "    </tr>\n",
       "    <tr>\n",
       "      <th>1</th>\n",
       "      <td>2020-03-10</td>\n",
       "      <td>Iraq</td>\n",
       "      <td>0.0288015</td>\n",
       "      <td>0.000392685</td>\n",
       "      <td>0.0279018</td>\n",
       "      <td>0.0143105</td>\n",
       "      <td>0.029</td>\n",
       "      <td>636</td>\n",
       "      <td>8</td>\n",
       "      <td>17</td>\n",
       "      <td>...</td>\n",
       "      <td>2</td>\n",
       "      <td>4</td>\n",
       "      <td>0</td>\n",
       "      <td>0</td>\n",
       "      <td>0</td>\n",
       "      <td>3</td>\n",
       "      <td>2</td>\n",
       "      <td>1</td>\n",
       "      <td>1</td>\n",
       "      <td>52.78</td>\n",
       "    </tr>\n",
       "    <tr>\n",
       "      <th>2</th>\n",
       "      <td>2020-03-11</td>\n",
       "      <td>Iraq</td>\n",
       "      <td>0.0288015</td>\n",
       "      <td>0.000392685</td>\n",
       "      <td>0.0279018</td>\n",
       "      <td>0.0143105</td>\n",
       "      <td>0.029</td>\n",
       "      <td>636</td>\n",
       "      <td>8</td>\n",
       "      <td>17</td>\n",
       "      <td>...</td>\n",
       "      <td>2</td>\n",
       "      <td>4</td>\n",
       "      <td>0</td>\n",
       "      <td>0</td>\n",
       "      <td>2</td>\n",
       "      <td>3</td>\n",
       "      <td>2</td>\n",
       "      <td>1</td>\n",
       "      <td>1</td>\n",
       "      <td>61.11</td>\n",
       "    </tr>\n",
       "    <tr>\n",
       "      <th>3</th>\n",
       "      <td>2020-03-12</td>\n",
       "      <td>Iraq</td>\n",
       "      <td>0.0288015</td>\n",
       "      <td>0.000392685</td>\n",
       "      <td>0.0279018</td>\n",
       "      <td>0.0143105</td>\n",
       "      <td>0.029</td>\n",
       "      <td>636</td>\n",
       "      <td>8</td>\n",
       "      <td>17</td>\n",
       "      <td>...</td>\n",
       "      <td>2</td>\n",
       "      <td>4</td>\n",
       "      <td>0</td>\n",
       "      <td>0</td>\n",
       "      <td>2</td>\n",
       "      <td>3</td>\n",
       "      <td>2</td>\n",
       "      <td>1</td>\n",
       "      <td>1</td>\n",
       "      <td>61.11</td>\n",
       "    </tr>\n",
       "    <tr>\n",
       "      <th>4</th>\n",
       "      <td>2020-03-13</td>\n",
       "      <td>Iraq</td>\n",
       "      <td>0.0288015</td>\n",
       "      <td>0.000392685</td>\n",
       "      <td>0.0279018</td>\n",
       "      <td>0.0143105</td>\n",
       "      <td>0.029</td>\n",
       "      <td>636</td>\n",
       "      <td>8</td>\n",
       "      <td>17</td>\n",
       "      <td>...</td>\n",
       "      <td>2</td>\n",
       "      <td>4</td>\n",
       "      <td>2</td>\n",
       "      <td>2</td>\n",
       "      <td>2</td>\n",
       "      <td>3</td>\n",
       "      <td>2</td>\n",
       "      <td>1</td>\n",
       "      <td>1</td>\n",
       "      <td>75.00</td>\n",
       "    </tr>\n",
       "  </tbody>\n",
       "</table>\n",
       "<p>5 rows × 23 columns</p>\n",
       "</div>"
      ],
      "text/plain": [
       "        Date Country      theta        kappa        rho      sigma alpha1 [-]  \\\n",
       "0 2020-03-09    Iraq  0.0288015  0.000392685  0.0279018  0.0143105      0.029   \n",
       "1 2020-03-10    Iraq  0.0288015  0.000392685  0.0279018  0.0143105      0.029   \n",
       "2 2020-03-11    Iraq  0.0288015  0.000392685  0.0279018  0.0143105      0.029   \n",
       "3 2020-03-12    Iraq  0.0288015  0.000392685  0.0279018  0.0143105      0.029   \n",
       "4 2020-03-13    Iraq  0.0288015  0.000392685  0.0279018  0.0143105      0.029   \n",
       "\n",
       "  1/alpha2 [day] 1/beta [day] 1/gamma [day]  ... Cancel_events  \\\n",
       "0            636            8            17  ...             2   \n",
       "1            636            8            17  ...             2   \n",
       "2            636            8            17  ...             2   \n",
       "3            636            8            17  ...             2   \n",
       "4            636            8            17  ...             2   \n",
       "\n",
       "   Gatherings_restrictions  Transport_closing  Stay_home_restrictions  \\\n",
       "0                        4                  0                       0   \n",
       "1                        4                  0                       0   \n",
       "2                        4                  0                       0   \n",
       "3                        4                  0                       0   \n",
       "4                        4                  2                       2   \n",
       "\n",
       "   Internal_movement_restrictions  International_movement_restrictions  \\\n",
       "0                               0                                    3   \n",
       "1                               0                                    3   \n",
       "2                               2                                    3   \n",
       "3                               2                                    3   \n",
       "4                               2                                    3   \n",
       "\n",
       "   Information_campaigns  Testing_policy  Contact_tracing  Stringency_index  \n",
       "0                      2               1                1             52.78  \n",
       "1                      2               1                1             52.78  \n",
       "2                      2               1                1             61.11  \n",
       "3                      2               1                1             61.11  \n",
       "4                      2               1                1             75.00  \n",
       "\n",
       "[5 rows x 23 columns]"
      ]
     },
     "execution_count": 13,
     "metadata": {},
     "output_type": "execute_result"
    }
   ],
   "source": [
    "# All parameter/day parameter/Rt/OxCGRT\n",
    "analyser.track().head()"
   ]
  },
  {
   "cell_type": "markdown",
   "metadata": {},
   "source": [
    "### $Rt$: Reprodcution number $\\mathrm{[-]}$"
   ]
  },
  {
   "cell_type": "code",
   "execution_count": 14,
   "metadata": {
    "collapsed": false
   },
   "outputs": [
    {
     "data": {
      "image/png": "[encoded data removed]",
      "text/plain": [
       "<Figure size 648x432 with 1 Axes>"
      ]
     },
     "metadata": {},
     "output_type": "display_data"
    },
    {
     "data": {
      "text/html": [
       "<div>\n",
       "<style scoped>\n",
       "    .dataframe tbody tr th:only-of-type {\n",
       "        vertical-align: middle;\n",
       "    }\n",
       "\n",
       "    .dataframe tbody tr th {\n",
       "        vertical-align: top;\n",
       "    }\n",
       "\n",
       "    .dataframe thead th {\n",
       "        text-align: right;\n",
       "    }\n",
       "</style>\n",
       "<table border=\"1\" class=\"dataframe\">\n",
       "  <thead>\n",
       "    <tr style=\"text-align: right;\">\n",
       "      <th>Country</th>\n",
       "      <th>Bahrain</th>\n",
       "      <th>Bangladesh</th>\n",
       "      <th>Bolivia</th>\n",
       "      <th>Brazil</th>\n",
       "      <th>Dominican Republic</th>\n",
       "      <th>Egypt</th>\n",
       "      <th>France</th>\n",
       "      <th>Honduras</th>\n",
       "      <th>Indonesia</th>\n",
       "      <th>Iran</th>\n",
       "      <th>...</th>\n",
       "      <th>Kuwait</th>\n",
       "      <th>Latvia</th>\n",
       "      <th>Mexico</th>\n",
       "      <th>Nigeria</th>\n",
       "      <th>Peru</th>\n",
       "      <th>Russia</th>\n",
       "      <th>Togo</th>\n",
       "      <th>Turkey</th>\n",
       "      <th>United Arab Emirates</th>\n",
       "      <th>United States</th>\n",
       "    </tr>\n",
       "    <tr>\n",
       "      <th>Date</th>\n",
       "      <th></th>\n",
       "      <th></th>\n",
       "      <th></th>\n",
       "      <th></th>\n",
       "      <th></th>\n",
       "      <th></th>\n",
       "      <th></th>\n",
       "      <th></th>\n",
       "      <th></th>\n",
       "      <th></th>\n",
       "      <th></th>\n",
       "      <th></th>\n",
       "      <th></th>\n",
       "      <th></th>\n",
       "      <th></th>\n",
       "      <th></th>\n",
       "      <th></th>\n",
       "      <th></th>\n",
       "      <th></th>\n",
       "      <th></th>\n",
       "      <th></th>\n",
       "    </tr>\n",
       "  </thead>\n",
       "  <tbody>\n",
       "    <tr>\n",
       "      <th>2020-10-28</th>\n",
       "      <td>0.87</td>\n",
       "      <td>0.77</td>\n",
       "      <td>0.39</td>\n",
       "      <td>248.13</td>\n",
       "      <td>0.88</td>\n",
       "      <td>1.26</td>\n",
       "      <td>28.29</td>\n",
       "      <td>1.73</td>\n",
       "      <td>1.03</td>\n",
       "      <td>1.28</td>\n",
       "      <td>...</td>\n",
       "      <td>1.02</td>\n",
       "      <td>96.14</td>\n",
       "      <td>1.21</td>\n",
       "      <td>0.6</td>\n",
       "      <td>0.73</td>\n",
       "      <td>1.66</td>\n",
       "      <td>2.34</td>\n",
       "      <td>1.37</td>\n",
       "      <td>0.85</td>\n",
       "      <td>2.6</td>\n",
       "    </tr>\n",
       "    <tr>\n",
       "      <th>2020-10-29</th>\n",
       "      <td>0.87</td>\n",
       "      <td>0.77</td>\n",
       "      <td>0.39</td>\n",
       "      <td>248.13</td>\n",
       "      <td>0.88</td>\n",
       "      <td>1.26</td>\n",
       "      <td>28.29</td>\n",
       "      <td>1.73</td>\n",
       "      <td>1.03</td>\n",
       "      <td>1.28</td>\n",
       "      <td>...</td>\n",
       "      <td>1.02</td>\n",
       "      <td>96.14</td>\n",
       "      <td>1.21</td>\n",
       "      <td>0.6</td>\n",
       "      <td>0.73</td>\n",
       "      <td>1.66</td>\n",
       "      <td>2.34</td>\n",
       "      <td>1.37</td>\n",
       "      <td>0.85</td>\n",
       "      <td>2.6</td>\n",
       "    </tr>\n",
       "    <tr>\n",
       "      <th>2020-10-30</th>\n",
       "      <td>0.87</td>\n",
       "      <td>0.77</td>\n",
       "      <td>0.39</td>\n",
       "      <td>248.13</td>\n",
       "      <td>0.88</td>\n",
       "      <td>1.26</td>\n",
       "      <td>28.29</td>\n",
       "      <td>1.73</td>\n",
       "      <td>1.03</td>\n",
       "      <td>1.28</td>\n",
       "      <td>...</td>\n",
       "      <td>1.02</td>\n",
       "      <td>96.14</td>\n",
       "      <td>1.21</td>\n",
       "      <td>0.6</td>\n",
       "      <td>0.73</td>\n",
       "      <td>1.66</td>\n",
       "      <td>2.34</td>\n",
       "      <td>1.37</td>\n",
       "      <td>0.85</td>\n",
       "      <td>2.6</td>\n",
       "    </tr>\n",
       "    <tr>\n",
       "      <th>2020-10-31</th>\n",
       "      <td>0.87</td>\n",
       "      <td>0.77</td>\n",
       "      <td>0.39</td>\n",
       "      <td>248.13</td>\n",
       "      <td>0.88</td>\n",
       "      <td>1.26</td>\n",
       "      <td>28.29</td>\n",
       "      <td>1.73</td>\n",
       "      <td>1.03</td>\n",
       "      <td>1.28</td>\n",
       "      <td>...</td>\n",
       "      <td>1.02</td>\n",
       "      <td>96.14</td>\n",
       "      <td>1.21</td>\n",
       "      <td>0.6</td>\n",
       "      <td>0.73</td>\n",
       "      <td>1.66</td>\n",
       "      <td>2.34</td>\n",
       "      <td>1.37</td>\n",
       "      <td>0.85</td>\n",
       "      <td>2.6</td>\n",
       "    </tr>\n",
       "    <tr>\n",
       "      <th>2020-11-01</th>\n",
       "      <td>0.87</td>\n",
       "      <td>0.77</td>\n",
       "      <td>0.39</td>\n",
       "      <td>248.13</td>\n",
       "      <td>0.88</td>\n",
       "      <td>1.26</td>\n",
       "      <td>28.29</td>\n",
       "      <td>1.73</td>\n",
       "      <td>1.03</td>\n",
       "      <td>1.28</td>\n",
       "      <td>...</td>\n",
       "      <td>1.02</td>\n",
       "      <td>96.14</td>\n",
       "      <td>1.21</td>\n",
       "      <td>0.6</td>\n",
       "      <td>0.73</td>\n",
       "      <td>1.66</td>\n",
       "      <td>2.34</td>\n",
       "      <td>1.37</td>\n",
       "      <td>0.85</td>\n",
       "      <td>2.6</td>\n",
       "    </tr>\n",
       "  </tbody>\n",
       "</table>\n",
       "<p>5 rows × 22 columns</p>\n",
       "</div>"
      ],
      "text/plain": [
       "Country     Bahrain  Bangladesh  Bolivia  Brazil  Dominican Republic  Egypt  \\\n",
       "Date                                                                          \n",
       "2020-10-28     0.87        0.77     0.39  248.13                0.88   1.26   \n",
       "2020-10-29     0.87        0.77     0.39  248.13                0.88   1.26   \n",
       "2020-10-30     0.87        0.77     0.39  248.13                0.88   1.26   \n",
       "2020-10-31     0.87        0.77     0.39  248.13                0.88   1.26   \n",
       "2020-11-01     0.87        0.77     0.39  248.13                0.88   1.26   \n",
       "\n",
       "Country     France  Honduras  Indonesia  Iran  ...  Kuwait  Latvia  Mexico  \\\n",
       "Date                                           ...                           \n",
       "2020-10-28   28.29      1.73       1.03  1.28  ...    1.02   96.14    1.21   \n",
       "2020-10-29   28.29      1.73       1.03  1.28  ...    1.02   96.14    1.21   \n",
       "2020-10-30   28.29      1.73       1.03  1.28  ...    1.02   96.14    1.21   \n",
       "2020-10-31   28.29      1.73       1.03  1.28  ...    1.02   96.14    1.21   \n",
       "2020-11-01   28.29      1.73       1.03  1.28  ...    1.02   96.14    1.21   \n",
       "\n",
       "Country     Nigeria  Peru  Russia  Togo  Turkey  United Arab Emirates  \\\n",
       "Date                                                                    \n",
       "2020-10-28      0.6  0.73    1.66  2.34    1.37                  0.85   \n",
       "2020-10-29      0.6  0.73    1.66  2.34    1.37                  0.85   \n",
       "2020-10-30      0.6  0.73    1.66  2.34    1.37                  0.85   \n",
       "2020-10-31      0.6  0.73    1.66  2.34    1.37                  0.85   \n",
       "2020-11-01      0.6  0.73    1.66  2.34    1.37                  0.85   \n",
       "\n",
       "Country     United States  \n",
       "Date                       \n",
       "2020-10-28            2.6  \n",
       "2020-10-29            2.6  \n",
       "2020-10-30            2.6  \n",
       "2020-10-31            2.6  \n",
       "2020-11-01            2.6  \n",
       "\n",
       "[5 rows x 22 columns]"
      ]
     },
     "execution_count": 14,
     "metadata": {},
     "output_type": "execute_result"
    }
   ],
   "source": [
    "analyser.history(\"Rt\", roll_window=None).tail()"
   ]
  },
  {
   "cell_type": "markdown",
   "metadata": {},
   "source": [
    "### $\\rho$: Effective contact rate $\\mathrm{[-]}$"
   ]
  },
  {
   "cell_type": "code",
   "execution_count": 15,
   "metadata": {
    "collapsed": false
   },
   "outputs": [
    {
     "data": {
      "image/png": "[encoded data removed]",
      "text/plain": [
       "<Figure size 648x432 with 1 Axes>"
      ]
     },
     "metadata": {},
     "output_type": "display_data"
    },
    {
     "data": {
      "text/html": [
       "<div>\n",
       "<style scoped>\n",
       "    .dataframe tbody tr th:only-of-type {\n",
       "        vertical-align: middle;\n",
       "    }\n",
       "\n",
       "    .dataframe tbody tr th {\n",
       "        vertical-align: top;\n",
       "    }\n",
       "\n",
       "    .dataframe thead th {\n",
       "        text-align: right;\n",
       "    }\n",
       "</style>\n",
       "<table border=\"1\" class=\"dataframe\">\n",
       "  <thead>\n",
       "    <tr style=\"text-align: right;\">\n",
       "      <th>Country</th>\n",
       "      <th>Bahrain</th>\n",
       "      <th>Bangladesh</th>\n",
       "      <th>Bolivia</th>\n",
       "      <th>Brazil</th>\n",
       "      <th>Dominican Republic</th>\n",
       "      <th>Egypt</th>\n",
       "      <th>France</th>\n",
       "      <th>Honduras</th>\n",
       "      <th>Indonesia</th>\n",
       "      <th>Iran</th>\n",
       "      <th>...</th>\n",
       "      <th>Kuwait</th>\n",
       "      <th>Latvia</th>\n",
       "      <th>Mexico</th>\n",
       "      <th>Nigeria</th>\n",
       "      <th>Peru</th>\n",
       "      <th>Russia</th>\n",
       "      <th>Togo</th>\n",
       "      <th>Turkey</th>\n",
       "      <th>United Arab Emirates</th>\n",
       "      <th>United States</th>\n",
       "    </tr>\n",
       "    <tr>\n",
       "      <th>Date</th>\n",
       "      <th></th>\n",
       "      <th></th>\n",
       "      <th></th>\n",
       "      <th></th>\n",
       "      <th></th>\n",
       "      <th></th>\n",
       "      <th></th>\n",
       "      <th></th>\n",
       "      <th></th>\n",
       "      <th></th>\n",
       "      <th></th>\n",
       "      <th></th>\n",
       "      <th></th>\n",
       "      <th></th>\n",
       "      <th></th>\n",
       "      <th></th>\n",
       "      <th></th>\n",
       "      <th></th>\n",
       "      <th></th>\n",
       "      <th></th>\n",
       "      <th></th>\n",
       "    </tr>\n",
       "  </thead>\n",
       "  <tbody>\n",
       "    <tr>\n",
       "      <th>2020-10-28</th>\n",
       "      <td>0.025857</td>\n",
       "      <td>0.004004</td>\n",
       "      <td>0.002026</td>\n",
       "      <td>0.009942</td>\n",
       "      <td>0.005145</td>\n",
       "      <td>0.029964</td>\n",
       "      <td>0.008986</td>\n",
       "      <td>0.003045</td>\n",
       "      <td>0.016136</td>\n",
       "      <td>0.016069</td>\n",
       "      <td>...</td>\n",
       "      <td>0.021793</td>\n",
       "      <td>0.011268</td>\n",
       "      <td>0.029926</td>\n",
       "      <td>0.004645</td>\n",
       "      <td>0.000784</td>\n",
       "      <td>0.003185</td>\n",
       "      <td>0.009245</td>\n",
       "      <td>0.014277</td>\n",
       "      <td>0.041589</td>\n",
       "      <td>0.00377</td>\n",
       "    </tr>\n",
       "    <tr>\n",
       "      <th>2020-10-29</th>\n",
       "      <td>0.025857</td>\n",
       "      <td>0.004004</td>\n",
       "      <td>0.002026</td>\n",
       "      <td>0.009942</td>\n",
       "      <td>0.005145</td>\n",
       "      <td>0.029964</td>\n",
       "      <td>0.008986</td>\n",
       "      <td>0.003045</td>\n",
       "      <td>0.016136</td>\n",
       "      <td>0.016069</td>\n",
       "      <td>...</td>\n",
       "      <td>0.021793</td>\n",
       "      <td>0.011268</td>\n",
       "      <td>0.029926</td>\n",
       "      <td>0.004645</td>\n",
       "      <td>0.000784</td>\n",
       "      <td>0.003185</td>\n",
       "      <td>0.009245</td>\n",
       "      <td>0.014277</td>\n",
       "      <td>0.041589</td>\n",
       "      <td>0.00377</td>\n",
       "    </tr>\n",
       "    <tr>\n",
       "      <th>2020-10-30</th>\n",
       "      <td>0.025857</td>\n",
       "      <td>0.004004</td>\n",
       "      <td>0.002026</td>\n",
       "      <td>0.009942</td>\n",
       "      <td>0.005145</td>\n",
       "      <td>0.029964</td>\n",
       "      <td>0.008986</td>\n",
       "      <td>0.003045</td>\n",
       "      <td>0.016136</td>\n",
       "      <td>0.016069</td>\n",
       "      <td>...</td>\n",
       "      <td>0.021793</td>\n",
       "      <td>0.011268</td>\n",
       "      <td>0.029926</td>\n",
       "      <td>0.004645</td>\n",
       "      <td>0.000784</td>\n",
       "      <td>0.003185</td>\n",
       "      <td>0.009245</td>\n",
       "      <td>0.014277</td>\n",
       "      <td>0.041589</td>\n",
       "      <td>0.00377</td>\n",
       "    </tr>\n",
       "    <tr>\n",
       "      <th>2020-10-31</th>\n",
       "      <td>0.025857</td>\n",
       "      <td>0.004004</td>\n",
       "      <td>0.002026</td>\n",
       "      <td>0.009942</td>\n",
       "      <td>0.005145</td>\n",
       "      <td>0.029964</td>\n",
       "      <td>0.008986</td>\n",
       "      <td>0.003045</td>\n",
       "      <td>0.016136</td>\n",
       "      <td>0.016069</td>\n",
       "      <td>...</td>\n",
       "      <td>0.021793</td>\n",
       "      <td>0.011268</td>\n",
       "      <td>0.029926</td>\n",
       "      <td>0.004645</td>\n",
       "      <td>0.000784</td>\n",
       "      <td>0.003185</td>\n",
       "      <td>0.009245</td>\n",
       "      <td>0.014277</td>\n",
       "      <td>0.041589</td>\n",
       "      <td>0.00377</td>\n",
       "    </tr>\n",
       "    <tr>\n",
       "      <th>2020-11-01</th>\n",
       "      <td>0.025857</td>\n",
       "      <td>0.004004</td>\n",
       "      <td>0.002026</td>\n",
       "      <td>0.009942</td>\n",
       "      <td>0.005145</td>\n",
       "      <td>0.029964</td>\n",
       "      <td>0.008986</td>\n",
       "      <td>0.003045</td>\n",
       "      <td>0.016136</td>\n",
       "      <td>0.016069</td>\n",
       "      <td>...</td>\n",
       "      <td>0.021793</td>\n",
       "      <td>0.011268</td>\n",
       "      <td>0.029926</td>\n",
       "      <td>0.004645</td>\n",
       "      <td>0.000784</td>\n",
       "      <td>0.003185</td>\n",
       "      <td>0.009245</td>\n",
       "      <td>0.014277</td>\n",
       "      <td>0.041589</td>\n",
       "      <td>0.00377</td>\n",
       "    </tr>\n",
       "  </tbody>\n",
       "</table>\n",
       "<p>5 rows × 22 columns</p>\n",
       "</div>"
      ],
      "text/plain": [
       "Country      Bahrain  Bangladesh   Bolivia    Brazil  Dominican Republic  \\\n",
       "Date                                                                       \n",
       "2020-10-28  0.025857    0.004004  0.002026  0.009942            0.005145   \n",
       "2020-10-29  0.025857    0.004004  0.002026  0.009942            0.005145   \n",
       "2020-10-30  0.025857    0.004004  0.002026  0.009942            0.005145   \n",
       "2020-10-31  0.025857    0.004004  0.002026  0.009942            0.005145   \n",
       "2020-11-01  0.025857    0.004004  0.002026  0.009942            0.005145   \n",
       "\n",
       "Country        Egypt    France  Honduras  Indonesia      Iran  ...    Kuwait  \\\n",
       "Date                                                           ...             \n",
       "2020-10-28  0.029964  0.008986  0.003045   0.016136  0.016069  ...  0.021793   \n",
       "2020-10-29  0.029964  0.008986  0.003045   0.016136  0.016069  ...  0.021793   \n",
       "2020-10-30  0.029964  0.008986  0.003045   0.016136  0.016069  ...  0.021793   \n",
       "2020-10-31  0.029964  0.008986  0.003045   0.016136  0.016069  ...  0.021793   \n",
       "2020-11-01  0.029964  0.008986  0.003045   0.016136  0.016069  ...  0.021793   \n",
       "\n",
       "Country       Latvia    Mexico   Nigeria      Peru    Russia      Togo  \\\n",
       "Date                                                                     \n",
       "2020-10-28  0.011268  0.029926  0.004645  0.000784  0.003185  0.009245   \n",
       "2020-10-29  0.011268  0.029926  0.004645  0.000784  0.003185  0.009245   \n",
       "2020-10-30  0.011268  0.029926  0.004645  0.000784  0.003185  0.009245   \n",
       "2020-10-31  0.011268  0.029926  0.004645  0.000784  0.003185  0.009245   \n",
       "2020-11-01  0.011268  0.029926  0.004645  0.000784  0.003185  0.009245   \n",
       "\n",
       "Country       Turkey  United Arab Emirates  United States  \n",
       "Date                                                       \n",
       "2020-10-28  0.014277              0.041589        0.00377  \n",
       "2020-10-29  0.014277              0.041589        0.00377  \n",
       "2020-10-30  0.014277              0.041589        0.00377  \n",
       "2020-10-31  0.014277              0.041589        0.00377  \n",
       "2020-11-01  0.014277              0.041589        0.00377  \n",
       "\n",
       "[5 rows x 22 columns]"
      ]
     },
     "execution_count": 15,
     "metadata": {},
     "output_type": "execute_result"
    }
   ],
   "source": [
    "analyser.history(\"rho\", roll_window=None).tail()"
   ]
  },
  {
   "cell_type": "markdown",
   "metadata": {},
   "source": [
    "### $\\sigma$: Recovery rate $\\mathrm{[-]}$"
   ]
  },
  {
   "cell_type": "code",
   "execution_count": 16,
   "metadata": {
    "collapsed": false
   },
   "outputs": [
    {
     "data": {
      "image/png": "[encoded data removed]",
      "text/plain": [
       "<Figure size 648x432 with 1 Axes>"
      ]
     },
     "metadata": {},
     "output_type": "display_data"
    },
    {
     "data": {
      "text/html": [
       "<div>\n",
       "<style scoped>\n",
       "    .dataframe tbody tr th:only-of-type {\n",
       "        vertical-align: middle;\n",
       "    }\n",
       "\n",
       "    .dataframe tbody tr th {\n",
       "        vertical-align: top;\n",
       "    }\n",
       "\n",
       "    .dataframe thead th {\n",
       "        text-align: right;\n",
       "    }\n",
       "</style>\n",
       "<table border=\"1\" class=\"dataframe\">\n",
       "  <thead>\n",
       "    <tr style=\"text-align: right;\">\n",
       "      <th>Country</th>\n",
       "      <th>Bahrain</th>\n",
       "      <th>Bangladesh</th>\n",
       "      <th>Bolivia</th>\n",
       "      <th>Brazil</th>\n",
       "      <th>Dominican Republic</th>\n",
       "      <th>Egypt</th>\n",
       "      <th>France</th>\n",
       "      <th>Honduras</th>\n",
       "      <th>Indonesia</th>\n",
       "      <th>Iran</th>\n",
       "      <th>...</th>\n",
       "      <th>Kuwait</th>\n",
       "      <th>Latvia</th>\n",
       "      <th>Mexico</th>\n",
       "      <th>Nigeria</th>\n",
       "      <th>Peru</th>\n",
       "      <th>Russia</th>\n",
       "      <th>Togo</th>\n",
       "      <th>Turkey</th>\n",
       "      <th>United Arab Emirates</th>\n",
       "      <th>United States</th>\n",
       "    </tr>\n",
       "    <tr>\n",
       "      <th>Date</th>\n",
       "      <th></th>\n",
       "      <th></th>\n",
       "      <th></th>\n",
       "      <th></th>\n",
       "      <th></th>\n",
       "      <th></th>\n",
       "      <th></th>\n",
       "      <th></th>\n",
       "      <th></th>\n",
       "      <th></th>\n",
       "      <th></th>\n",
       "      <th></th>\n",
       "      <th></th>\n",
       "      <th></th>\n",
       "      <th></th>\n",
       "      <th></th>\n",
       "      <th></th>\n",
       "      <th></th>\n",
       "      <th></th>\n",
       "      <th></th>\n",
       "      <th></th>\n",
       "    </tr>\n",
       "  </thead>\n",
       "  <tbody>\n",
       "    <tr>\n",
       "      <th>2020-10-28</th>\n",
       "      <td>0.029425</td>\n",
       "      <td>0.005119</td>\n",
       "      <td>0.004771</td>\n",
       "      <td>0.0</td>\n",
       "      <td>0.005838</td>\n",
       "      <td>0.021517</td>\n",
       "      <td>0.000272</td>\n",
       "      <td>0.00172</td>\n",
       "      <td>0.015352</td>\n",
       "      <td>0.011812</td>\n",
       "      <td>...</td>\n",
       "      <td>0.021175</td>\n",
       "      <td>0.0</td>\n",
       "      <td>0.022608</td>\n",
       "      <td>0.007712</td>\n",
       "      <td>0.001049</td>\n",
       "      <td>0.001868</td>\n",
       "      <td>0.003782</td>\n",
       "      <td>0.009999</td>\n",
       "      <td>0.04869</td>\n",
       "      <td>0.001413</td>\n",
       "    </tr>\n",
       "    <tr>\n",
       "      <th>2020-10-29</th>\n",
       "      <td>0.029425</td>\n",
       "      <td>0.005119</td>\n",
       "      <td>0.004771</td>\n",
       "      <td>0.0</td>\n",
       "      <td>0.005838</td>\n",
       "      <td>0.021517</td>\n",
       "      <td>0.000272</td>\n",
       "      <td>0.00172</td>\n",
       "      <td>0.015352</td>\n",
       "      <td>0.011812</td>\n",
       "      <td>...</td>\n",
       "      <td>0.021175</td>\n",
       "      <td>0.0</td>\n",
       "      <td>0.022608</td>\n",
       "      <td>0.007712</td>\n",
       "      <td>0.001049</td>\n",
       "      <td>0.001868</td>\n",
       "      <td>0.003782</td>\n",
       "      <td>0.009999</td>\n",
       "      <td>0.04869</td>\n",
       "      <td>0.001413</td>\n",
       "    </tr>\n",
       "    <tr>\n",
       "      <th>2020-10-30</th>\n",
       "      <td>0.029425</td>\n",
       "      <td>0.005119</td>\n",
       "      <td>0.004771</td>\n",
       "      <td>0.0</td>\n",
       "      <td>0.005838</td>\n",
       "      <td>0.021517</td>\n",
       "      <td>0.000272</td>\n",
       "      <td>0.00172</td>\n",
       "      <td>0.015352</td>\n",
       "      <td>0.011812</td>\n",
       "      <td>...</td>\n",
       "      <td>0.021175</td>\n",
       "      <td>0.0</td>\n",
       "      <td>0.022608</td>\n",
       "      <td>0.007712</td>\n",
       "      <td>0.001049</td>\n",
       "      <td>0.001868</td>\n",
       "      <td>0.003782</td>\n",
       "      <td>0.009999</td>\n",
       "      <td>0.04869</td>\n",
       "      <td>0.001413</td>\n",
       "    </tr>\n",
       "    <tr>\n",
       "      <th>2020-10-31</th>\n",
       "      <td>0.029425</td>\n",
       "      <td>0.005119</td>\n",
       "      <td>0.004771</td>\n",
       "      <td>0.0</td>\n",
       "      <td>0.005838</td>\n",
       "      <td>0.021517</td>\n",
       "      <td>0.000272</td>\n",
       "      <td>0.00172</td>\n",
       "      <td>0.015352</td>\n",
       "      <td>0.011812</td>\n",
       "      <td>...</td>\n",
       "      <td>0.021175</td>\n",
       "      <td>0.0</td>\n",
       "      <td>0.022608</td>\n",
       "      <td>0.007712</td>\n",
       "      <td>0.001049</td>\n",
       "      <td>0.001868</td>\n",
       "      <td>0.003782</td>\n",
       "      <td>0.009999</td>\n",
       "      <td>0.04869</td>\n",
       "      <td>0.001413</td>\n",
       "    </tr>\n",
       "    <tr>\n",
       "      <th>2020-11-01</th>\n",
       "      <td>0.029425</td>\n",
       "      <td>0.005119</td>\n",
       "      <td>0.004771</td>\n",
       "      <td>0.0</td>\n",
       "      <td>0.005838</td>\n",
       "      <td>0.021517</td>\n",
       "      <td>0.000272</td>\n",
       "      <td>0.00172</td>\n",
       "      <td>0.015352</td>\n",
       "      <td>0.011812</td>\n",
       "      <td>...</td>\n",
       "      <td>0.021175</td>\n",
       "      <td>0.0</td>\n",
       "      <td>0.022608</td>\n",
       "      <td>0.007712</td>\n",
       "      <td>0.001049</td>\n",
       "      <td>0.001868</td>\n",
       "      <td>0.003782</td>\n",
       "      <td>0.009999</td>\n",
       "      <td>0.04869</td>\n",
       "      <td>0.001413</td>\n",
       "    </tr>\n",
       "  </tbody>\n",
       "</table>\n",
       "<p>5 rows × 22 columns</p>\n",
       "</div>"
      ],
      "text/plain": [
       "Country      Bahrain  Bangladesh   Bolivia  Brazil  Dominican Republic  \\\n",
       "Date                                                                     \n",
       "2020-10-28  0.029425    0.005119  0.004771     0.0            0.005838   \n",
       "2020-10-29  0.029425    0.005119  0.004771     0.0            0.005838   \n",
       "2020-10-30  0.029425    0.005119  0.004771     0.0            0.005838   \n",
       "2020-10-31  0.029425    0.005119  0.004771     0.0            0.005838   \n",
       "2020-11-01  0.029425    0.005119  0.004771     0.0            0.005838   \n",
       "\n",
       "Country        Egypt    France  Honduras  Indonesia      Iran  ...    Kuwait  \\\n",
       "Date                                                           ...             \n",
       "2020-10-28  0.021517  0.000272   0.00172   0.015352  0.011812  ...  0.021175   \n",
       "2020-10-29  0.021517  0.000272   0.00172   0.015352  0.011812  ...  0.021175   \n",
       "2020-10-30  0.021517  0.000272   0.00172   0.015352  0.011812  ...  0.021175   \n",
       "2020-10-31  0.021517  0.000272   0.00172   0.015352  0.011812  ...  0.021175   \n",
       "2020-11-01  0.021517  0.000272   0.00172   0.015352  0.011812  ...  0.021175   \n",
       "\n",
       "Country     Latvia    Mexico   Nigeria      Peru    Russia      Togo  \\\n",
       "Date                                                                   \n",
       "2020-10-28     0.0  0.022608  0.007712  0.001049  0.001868  0.003782   \n",
       "2020-10-29     0.0  0.022608  0.007712  0.001049  0.001868  0.003782   \n",
       "2020-10-30     0.0  0.022608  0.007712  0.001049  0.001868  0.003782   \n",
       "2020-10-31     0.0  0.022608  0.007712  0.001049  0.001868  0.003782   \n",
       "2020-11-01     0.0  0.022608  0.007712  0.001049  0.001868  0.003782   \n",
       "\n",
       "Country       Turkey  United Arab Emirates  United States  \n",
       "Date                                                       \n",
       "2020-10-28  0.009999               0.04869       0.001413  \n",
       "2020-10-29  0.009999               0.04869       0.001413  \n",
       "2020-10-30  0.009999               0.04869       0.001413  \n",
       "2020-10-31  0.009999               0.04869       0.001413  \n",
       "2020-11-01  0.009999               0.04869       0.001413  \n",
       "\n",
       "[5 rows x 22 columns]"
      ]
     },
     "execution_count": 16,
     "metadata": {},
     "output_type": "execute_result"
    }
   ],
   "source": [
    "analyser.history(\"sigma\", roll_window=None).tail()"
   ]
  },
  {
   "cell_type": "markdown",
   "metadata": {},
   "source": [
    "### $\\kappa$: Mortality rate of infected cases $\\mathrm{[-]}$"
   ]
  },
  {
   "cell_type": "code",
   "execution_count": 17,
   "metadata": {
    "collapsed": false
   },
   "outputs": [
    {
     "data": {
      "image/png": "[encoded data removed]",
      "text/plain": [
       "<Figure size 648x432 with 1 Axes>"
      ]
     },
     "metadata": {},
     "output_type": "display_data"
    },
    {
     "data": {
      "text/html": [
       "<div>\n",
       "<style scoped>\n",
       "    .dataframe tbody tr th:only-of-type {\n",
       "        vertical-align: middle;\n",
       "    }\n",
       "\n",
       "    .dataframe tbody tr th {\n",
       "        vertical-align: top;\n",
       "    }\n",
       "\n",
       "    .dataframe thead th {\n",
       "        text-align: right;\n",
       "    }\n",
       "</style>\n",
       "<table border=\"1\" class=\"dataframe\">\n",
       "  <thead>\n",
       "    <tr style=\"text-align: right;\">\n",
       "      <th>Country</th>\n",
       "      <th>Bahrain</th>\n",
       "      <th>Bangladesh</th>\n",
       "      <th>Bolivia</th>\n",
       "      <th>Brazil</th>\n",
       "      <th>Dominican Republic</th>\n",
       "      <th>Egypt</th>\n",
       "      <th>France</th>\n",
       "      <th>Honduras</th>\n",
       "      <th>Indonesia</th>\n",
       "      <th>Iran</th>\n",
       "      <th>...</th>\n",
       "      <th>Kuwait</th>\n",
       "      <th>Latvia</th>\n",
       "      <th>Mexico</th>\n",
       "      <th>Nigeria</th>\n",
       "      <th>Peru</th>\n",
       "      <th>Russia</th>\n",
       "      <th>Togo</th>\n",
       "      <th>Turkey</th>\n",
       "      <th>United Arab Emirates</th>\n",
       "      <th>United States</th>\n",
       "    </tr>\n",
       "    <tr>\n",
       "      <th>Date</th>\n",
       "      <th></th>\n",
       "      <th></th>\n",
       "      <th></th>\n",
       "      <th></th>\n",
       "      <th></th>\n",
       "      <th></th>\n",
       "      <th></th>\n",
       "      <th></th>\n",
       "      <th></th>\n",
       "      <th></th>\n",
       "      <th></th>\n",
       "      <th></th>\n",
       "      <th></th>\n",
       "      <th></th>\n",
       "      <th></th>\n",
       "      <th></th>\n",
       "      <th></th>\n",
       "      <th></th>\n",
       "      <th></th>\n",
       "      <th></th>\n",
       "      <th></th>\n",
       "    </tr>\n",
       "  </thead>\n",
       "  <tbody>\n",
       "    <tr>\n",
       "      <th>2020-10-28</th>\n",
       "      <td>0.00015</td>\n",
       "      <td>0.00007</td>\n",
       "      <td>0.000091</td>\n",
       "      <td>0.000039</td>\n",
       "      <td>0.000037</td>\n",
       "      <td>0.000335</td>\n",
       "      <td>0.000046</td>\n",
       "      <td>0.000037</td>\n",
       "      <td>0.000235</td>\n",
       "      <td>0.00019</td>\n",
       "      <td>...</td>\n",
       "      <td>0.000144</td>\n",
       "      <td>0.000117</td>\n",
       "      <td>0.00061</td>\n",
       "      <td>0.000031</td>\n",
       "      <td>0.000021</td>\n",
       "      <td>0.000046</td>\n",
       "      <td>0.000162</td>\n",
       "      <td>0.000213</td>\n",
       "      <td>0.000109</td>\n",
       "      <td>0.000037</td>\n",
       "    </tr>\n",
       "    <tr>\n",
       "      <th>2020-10-29</th>\n",
       "      <td>0.00015</td>\n",
       "      <td>0.00007</td>\n",
       "      <td>0.000091</td>\n",
       "      <td>0.000039</td>\n",
       "      <td>0.000037</td>\n",
       "      <td>0.000335</td>\n",
       "      <td>0.000046</td>\n",
       "      <td>0.000037</td>\n",
       "      <td>0.000235</td>\n",
       "      <td>0.00019</td>\n",
       "      <td>...</td>\n",
       "      <td>0.000144</td>\n",
       "      <td>0.000117</td>\n",
       "      <td>0.00061</td>\n",
       "      <td>0.000031</td>\n",
       "      <td>0.000021</td>\n",
       "      <td>0.000046</td>\n",
       "      <td>0.000162</td>\n",
       "      <td>0.000213</td>\n",
       "      <td>0.000109</td>\n",
       "      <td>0.000037</td>\n",
       "    </tr>\n",
       "    <tr>\n",
       "      <th>2020-10-30</th>\n",
       "      <td>0.00015</td>\n",
       "      <td>0.00007</td>\n",
       "      <td>0.000091</td>\n",
       "      <td>0.000039</td>\n",
       "      <td>0.000037</td>\n",
       "      <td>0.000335</td>\n",
       "      <td>0.000046</td>\n",
       "      <td>0.000037</td>\n",
       "      <td>0.000235</td>\n",
       "      <td>0.00019</td>\n",
       "      <td>...</td>\n",
       "      <td>0.000144</td>\n",
       "      <td>0.000117</td>\n",
       "      <td>0.00061</td>\n",
       "      <td>0.000031</td>\n",
       "      <td>0.000021</td>\n",
       "      <td>0.000046</td>\n",
       "      <td>0.000162</td>\n",
       "      <td>0.000213</td>\n",
       "      <td>0.000109</td>\n",
       "      <td>0.000037</td>\n",
       "    </tr>\n",
       "    <tr>\n",
       "      <th>2020-10-31</th>\n",
       "      <td>0.00015</td>\n",
       "      <td>0.00007</td>\n",
       "      <td>0.000091</td>\n",
       "      <td>0.000039</td>\n",
       "      <td>0.000037</td>\n",
       "      <td>0.000335</td>\n",
       "      <td>0.000046</td>\n",
       "      <td>0.000037</td>\n",
       "      <td>0.000235</td>\n",
       "      <td>0.00019</td>\n",
       "      <td>...</td>\n",
       "      <td>0.000144</td>\n",
       "      <td>0.000117</td>\n",
       "      <td>0.00061</td>\n",
       "      <td>0.000031</td>\n",
       "      <td>0.000021</td>\n",
       "      <td>0.000046</td>\n",
       "      <td>0.000162</td>\n",
       "      <td>0.000213</td>\n",
       "      <td>0.000109</td>\n",
       "      <td>0.000037</td>\n",
       "    </tr>\n",
       "    <tr>\n",
       "      <th>2020-11-01</th>\n",
       "      <td>0.00015</td>\n",
       "      <td>0.00007</td>\n",
       "      <td>0.000091</td>\n",
       "      <td>0.000039</td>\n",
       "      <td>0.000037</td>\n",
       "      <td>0.000335</td>\n",
       "      <td>0.000046</td>\n",
       "      <td>0.000037</td>\n",
       "      <td>0.000235</td>\n",
       "      <td>0.00019</td>\n",
       "      <td>...</td>\n",
       "      <td>0.000144</td>\n",
       "      <td>0.000117</td>\n",
       "      <td>0.00061</td>\n",
       "      <td>0.000031</td>\n",
       "      <td>0.000021</td>\n",
       "      <td>0.000046</td>\n",
       "      <td>0.000162</td>\n",
       "      <td>0.000213</td>\n",
       "      <td>0.000109</td>\n",
       "      <td>0.000037</td>\n",
       "    </tr>\n",
       "  </tbody>\n",
       "</table>\n",
       "<p>5 rows × 22 columns</p>\n",
       "</div>"
      ],
      "text/plain": [
       "Country     Bahrain  Bangladesh   Bolivia    Brazil  Dominican Republic  \\\n",
       "Date                                                                      \n",
       "2020-10-28  0.00015     0.00007  0.000091  0.000039            0.000037   \n",
       "2020-10-29  0.00015     0.00007  0.000091  0.000039            0.000037   \n",
       "2020-10-30  0.00015     0.00007  0.000091  0.000039            0.000037   \n",
       "2020-10-31  0.00015     0.00007  0.000091  0.000039            0.000037   \n",
       "2020-11-01  0.00015     0.00007  0.000091  0.000039            0.000037   \n",
       "\n",
       "Country        Egypt    France  Honduras  Indonesia     Iran  ...    Kuwait  \\\n",
       "Date                                                          ...             \n",
       "2020-10-28  0.000335  0.000046  0.000037   0.000235  0.00019  ...  0.000144   \n",
       "2020-10-29  0.000335  0.000046  0.000037   0.000235  0.00019  ...  0.000144   \n",
       "2020-10-30  0.000335  0.000046  0.000037   0.000235  0.00019  ...  0.000144   \n",
       "2020-10-31  0.000335  0.000046  0.000037   0.000235  0.00019  ...  0.000144   \n",
       "2020-11-01  0.000335  0.000046  0.000037   0.000235  0.00019  ...  0.000144   \n",
       "\n",
       "Country       Latvia   Mexico   Nigeria      Peru    Russia      Togo  \\\n",
       "Date                                                                    \n",
       "2020-10-28  0.000117  0.00061  0.000031  0.000021  0.000046  0.000162   \n",
       "2020-10-29  0.000117  0.00061  0.000031  0.000021  0.000046  0.000162   \n",
       "2020-10-30  0.000117  0.00061  0.000031  0.000021  0.000046  0.000162   \n",
       "2020-10-31  0.000117  0.00061  0.000031  0.000021  0.000046  0.000162   \n",
       "2020-11-01  0.000117  0.00061  0.000031  0.000021  0.000046  0.000162   \n",
       "\n",
       "Country       Turkey  United Arab Emirates  United States  \n",
       "Date                                                       \n",
       "2020-10-28  0.000213              0.000109       0.000037  \n",
       "2020-10-29  0.000213              0.000109       0.000037  \n",
       "2020-10-30  0.000213              0.000109       0.000037  \n",
       "2020-10-31  0.000213              0.000109       0.000037  \n",
       "2020-11-01  0.000213              0.000109       0.000037  \n",
       "\n",
       "[5 rows x 22 columns]"
      ]
     },
     "execution_count": 17,
     "metadata": {},
     "output_type": "execute_result"
    }
   ],
   "source": [
    "analyser.history(\"kappa\", roll_window=None).tail()"
   ]
  },
  {
   "cell_type": "markdown",
   "metadata": {},
   "source": [
    "### $\\theta$: Mortality rate of S$^\\ast$ cases $\\mathrm{[-]}$"
   ]
  },
  {
   "cell_type": "code",
   "execution_count": 18,
   "metadata": {
    "collapsed": false
   },
   "outputs": [
    {
     "data": {
      "image/png": "[encoded data removed]",
      "text/plain": [
       "<Figure size 648x432 with 1 Axes>"
      ]
     },
     "metadata": {},
     "output_type": "display_data"
    },
    {
     "data": {
      "text/html": [
       "<div>\n",
       "<style scoped>\n",
       "    .dataframe tbody tr th:only-of-type {\n",
       "        vertical-align: middle;\n",
       "    }\n",
       "\n",
       "    .dataframe tbody tr th {\n",
       "        vertical-align: top;\n",
       "    }\n",
       "\n",
       "    .dataframe thead th {\n",
       "        text-align: right;\n",
       "    }\n",
       "</style>\n",
       "<table border=\"1\" class=\"dataframe\">\n",
       "  <thead>\n",
       "    <tr style=\"text-align: right;\">\n",
       "      <th>Country</th>\n",
       "      <th>Bahrain</th>\n",
       "      <th>Bangladesh</th>\n",
       "      <th>Bolivia</th>\n",
       "      <th>Brazil</th>\n",
       "      <th>Dominican Republic</th>\n",
       "      <th>Egypt</th>\n",
       "      <th>France</th>\n",
       "      <th>Honduras</th>\n",
       "      <th>Indonesia</th>\n",
       "      <th>Iran</th>\n",
       "      <th>...</th>\n",
       "      <th>Kuwait</th>\n",
       "      <th>Latvia</th>\n",
       "      <th>Mexico</th>\n",
       "      <th>Nigeria</th>\n",
       "      <th>Peru</th>\n",
       "      <th>Russia</th>\n",
       "      <th>Togo</th>\n",
       "      <th>Turkey</th>\n",
       "      <th>United Arab Emirates</th>\n",
       "      <th>United States</th>\n",
       "    </tr>\n",
       "    <tr>\n",
       "      <th>Date</th>\n",
       "      <th></th>\n",
       "      <th></th>\n",
       "      <th></th>\n",
       "      <th></th>\n",
       "      <th></th>\n",
       "      <th></th>\n",
       "      <th></th>\n",
       "      <th></th>\n",
       "      <th></th>\n",
       "      <th></th>\n",
       "      <th></th>\n",
       "      <th></th>\n",
       "      <th></th>\n",
       "      <th></th>\n",
       "      <th></th>\n",
       "      <th></th>\n",
       "      <th></th>\n",
       "      <th></th>\n",
       "      <th></th>\n",
       "      <th></th>\n",
       "      <th></th>\n",
       "    </tr>\n",
       "  </thead>\n",
       "  <tbody>\n",
       "    <tr>\n",
       "      <th>2020-10-28</th>\n",
       "      <td>0.000849</td>\n",
       "      <td>0.004355</td>\n",
       "      <td>0.075444</td>\n",
       "      <td>0.018935</td>\n",
       "      <td>0.000675</td>\n",
       "      <td>0.081472</td>\n",
       "      <td>0.001257</td>\n",
       "      <td>0.001426</td>\n",
       "      <td>0.000636</td>\n",
       "      <td>0.041838</td>\n",
       "      <td>...</td>\n",
       "      <td>0.001107</td>\n",
       "      <td>0.000966</td>\n",
       "      <td>0.064275</td>\n",
       "      <td>0.001072</td>\n",
       "      <td>0.000859</td>\n",
       "      <td>0.001259</td>\n",
       "      <td>0.001202</td>\n",
       "      <td>0.021313</td>\n",
       "      <td>0.000348</td>\n",
       "      <td>0.001159</td>\n",
       "    </tr>\n",
       "    <tr>\n",
       "      <th>2020-10-29</th>\n",
       "      <td>0.000849</td>\n",
       "      <td>0.004355</td>\n",
       "      <td>0.075444</td>\n",
       "      <td>0.018935</td>\n",
       "      <td>0.000675</td>\n",
       "      <td>0.081472</td>\n",
       "      <td>0.001257</td>\n",
       "      <td>0.001426</td>\n",
       "      <td>0.000636</td>\n",
       "      <td>0.041838</td>\n",
       "      <td>...</td>\n",
       "      <td>0.001107</td>\n",
       "      <td>0.000966</td>\n",
       "      <td>0.064275</td>\n",
       "      <td>0.001072</td>\n",
       "      <td>0.000859</td>\n",
       "      <td>0.001259</td>\n",
       "      <td>0.001202</td>\n",
       "      <td>0.021313</td>\n",
       "      <td>0.000348</td>\n",
       "      <td>0.001159</td>\n",
       "    </tr>\n",
       "    <tr>\n",
       "      <th>2020-10-30</th>\n",
       "      <td>0.000849</td>\n",
       "      <td>0.004355</td>\n",
       "      <td>0.075444</td>\n",
       "      <td>0.018935</td>\n",
       "      <td>0.000675</td>\n",
       "      <td>0.081472</td>\n",
       "      <td>0.001257</td>\n",
       "      <td>0.001426</td>\n",
       "      <td>0.000636</td>\n",
       "      <td>0.041838</td>\n",
       "      <td>...</td>\n",
       "      <td>0.001107</td>\n",
       "      <td>0.000966</td>\n",
       "      <td>0.064275</td>\n",
       "      <td>0.001072</td>\n",
       "      <td>0.000859</td>\n",
       "      <td>0.001259</td>\n",
       "      <td>0.001202</td>\n",
       "      <td>0.021313</td>\n",
       "      <td>0.000348</td>\n",
       "      <td>0.001159</td>\n",
       "    </tr>\n",
       "    <tr>\n",
       "      <th>2020-10-31</th>\n",
       "      <td>0.000849</td>\n",
       "      <td>0.004355</td>\n",
       "      <td>0.075444</td>\n",
       "      <td>0.018935</td>\n",
       "      <td>0.000675</td>\n",
       "      <td>0.081472</td>\n",
       "      <td>0.001257</td>\n",
       "      <td>0.001426</td>\n",
       "      <td>0.000636</td>\n",
       "      <td>0.041838</td>\n",
       "      <td>...</td>\n",
       "      <td>0.001107</td>\n",
       "      <td>0.000966</td>\n",
       "      <td>0.064275</td>\n",
       "      <td>0.001072</td>\n",
       "      <td>0.000859</td>\n",
       "      <td>0.001259</td>\n",
       "      <td>0.001202</td>\n",
       "      <td>0.021313</td>\n",
       "      <td>0.000348</td>\n",
       "      <td>0.001159</td>\n",
       "    </tr>\n",
       "    <tr>\n",
       "      <th>2020-11-01</th>\n",
       "      <td>0.000849</td>\n",
       "      <td>0.004355</td>\n",
       "      <td>0.075444</td>\n",
       "      <td>0.018935</td>\n",
       "      <td>0.000675</td>\n",
       "      <td>0.081472</td>\n",
       "      <td>0.001257</td>\n",
       "      <td>0.001426</td>\n",
       "      <td>0.000636</td>\n",
       "      <td>0.041838</td>\n",
       "      <td>...</td>\n",
       "      <td>0.001107</td>\n",
       "      <td>0.000966</td>\n",
       "      <td>0.064275</td>\n",
       "      <td>0.001072</td>\n",
       "      <td>0.000859</td>\n",
       "      <td>0.001259</td>\n",
       "      <td>0.001202</td>\n",
       "      <td>0.021313</td>\n",
       "      <td>0.000348</td>\n",
       "      <td>0.001159</td>\n",
       "    </tr>\n",
       "  </tbody>\n",
       "</table>\n",
       "<p>5 rows × 22 columns</p>\n",
       "</div>"
      ],
      "text/plain": [
       "Country      Bahrain  Bangladesh   Bolivia    Brazil  Dominican Republic  \\\n",
       "Date                                                                       \n",
       "2020-10-28  0.000849    0.004355  0.075444  0.018935            0.000675   \n",
       "2020-10-29  0.000849    0.004355  0.075444  0.018935            0.000675   \n",
       "2020-10-30  0.000849    0.004355  0.075444  0.018935            0.000675   \n",
       "2020-10-31  0.000849    0.004355  0.075444  0.018935            0.000675   \n",
       "2020-11-01  0.000849    0.004355  0.075444  0.018935            0.000675   \n",
       "\n",
       "Country        Egypt    France  Honduras  Indonesia      Iran  ...    Kuwait  \\\n",
       "Date                                                           ...             \n",
       "2020-10-28  0.081472  0.001257  0.001426   0.000636  0.041838  ...  0.001107   \n",
       "2020-10-29  0.081472  0.001257  0.001426   0.000636  0.041838  ...  0.001107   \n",
       "2020-10-30  0.081472  0.001257  0.001426   0.000636  0.041838  ...  0.001107   \n",
       "2020-10-31  0.081472  0.001257  0.001426   0.000636  0.041838  ...  0.001107   \n",
       "2020-11-01  0.081472  0.001257  0.001426   0.000636  0.041838  ...  0.001107   \n",
       "\n",
       "Country       Latvia    Mexico   Nigeria      Peru    Russia      Togo  \\\n",
       "Date                                                                     \n",
       "2020-10-28  0.000966  0.064275  0.001072  0.000859  0.001259  0.001202   \n",
       "2020-10-29  0.000966  0.064275  0.001072  0.000859  0.001259  0.001202   \n",
       "2020-10-30  0.000966  0.064275  0.001072  0.000859  0.001259  0.001202   \n",
       "2020-10-31  0.000966  0.064275  0.001072  0.000859  0.001259  0.001202   \n",
       "2020-11-01  0.000966  0.064275  0.001072  0.000859  0.001259  0.001202   \n",
       "\n",
       "Country       Turkey  United Arab Emirates  United States  \n",
       "Date                                                       \n",
       "2020-10-28  0.021313              0.000348       0.001159  \n",
       "2020-10-29  0.021313              0.000348       0.001159  \n",
       "2020-10-30  0.021313              0.000348       0.001159  \n",
       "2020-10-31  0.021313              0.000348       0.001159  \n",
       "2020-11-01  0.021313              0.000348       0.001159  \n",
       "\n",
       "[5 rows x 22 columns]"
      ]
     },
     "execution_count": 18,
     "metadata": {},
     "output_type": "execute_result"
    }
   ],
   "source": [
    "analyser.history(\"theta\", roll_window=None).tail()"
   ]
  },
  {
   "cell_type": "markdown",
   "metadata": {},
   "source": [
    "## (Experimental): Relationship of OxCGRT index and parameter values\n",
    "Government responses will impact on parameter values of ODE models about 14 days later. Here, we will investigate on the relationship of [stringency index (from OxCGRT)](https://github.com/OxCGRT/covid-policy-tracker/blob/master/documentation/index_methodology.md) and reproduction number/model parameters.\n"
   ]
  },
  {
   "cell_type": "code",
   "execution_count": 19,
   "metadata": {
    "collapsed": false
   },
   "outputs": [],
   "source": [
    "%matplotlib inline\n",
    "from matplotlib import pyplot as plt\n",
    "import seaborn as sns\n",
    "import pandas as pd"
   ]
  },
  {
   "cell_type": "code",
   "execution_count": 20,
   "metadata": {
    "collapsed": false
   },
   "outputs": [
    {
     "name": "stdout",
     "output_type": "stream",
     "text": [
      "<class 'pandas.core.frame.DataFrame'>\n",
      "Int64Index: 87964 entries, 0 to 88257\n",
      "Data columns (total 19 columns):\n",
      " #   Column                               Non-Null Count  Dtype         \n",
      "---  ------                               --------------  -----         \n",
      " 0   Date                                 87964 non-null  datetime64[ns]\n",
      " 1   Country                              87964 non-null  object        \n",
      " 2   Rt                                   87964 non-null  float64       \n",
      " 3   theta                                87964 non-null  float64       \n",
      " 4   kappa                                87964 non-null  float64       \n",
      " 5   rho                                  87964 non-null  float64       \n",
      " 6   sigma                                87964 non-null  float64       \n",
      " 7   School_closing                       87964 non-null  int64         \n",
      " 8   Workplace_closing                    87964 non-null  int64         \n",
      " 9   Cancel_events                        87964 non-null  int64         \n",
      " 10  Gatherings_restrictions              87964 non-null  int64         \n",
      " 11  Transport_closing                    87964 non-null  int64         \n",
      " 12  Stay_home_restrictions               87964 non-null  int64         \n",
      " 13  Internal_movement_restrictions       87964 non-null  int64         \n",
      " 14  International_movement_restrictions  87964 non-null  int64         \n",
      " 15  Information_campaigns                87964 non-null  int64         \n",
      " 16  Testing_policy                       87964 non-null  int64         \n",
      " 17  Contact_tracing                      87964 non-null  int64         \n",
      " 18  Stringency_index                     87964 non-null  float64       \n",
      "dtypes: datetime64[ns](1), float64(6), int64(11), object(1)\n",
      "memory usage: 13.4+ MB\n"
     ]
    }
   ],
   "source": [
    "df = analyser.track()\n",
    "param_cols = [\"Rt\", *cs.SIRF.PARAMETERS]\n",
    "oxcgrt_cols = oxcgrt_data.OXCGRT_VARS[:]\n",
    "cols = param_cols + oxcgrt_cols\n",
    "delay = 14\n",
    "\n",
    "for col in param_cols:\n",
    "    df[col] = pd.to_numeric(df[col], errors=\"coerce\")\n",
    "    df[col] = df.groupby(\"Country\")[col].shift(0 - delay)\n",
    "\n",
    "df = df.dropna(how=\"any\")\n",
    "df = df.loc[:, [\"Date\", \"Country\", *cols]]\n",
    "track_df = df.copy()\n",
    "track_df.info()"
   ]
  },
  {
   "cell_type": "code",
   "execution_count": 21,
   "metadata": {
    "collapsed": false
   },
   "outputs": [
    {
     "data": {
      "text/html": [
       "<style  type=\"text/css\" >\n",
       "#T_4a0cc83e_1c62_11eb_a5d4_525400397d25row0_col0,#T_4a0cc83e_1c62_11eb_a5d4_525400397d25row1_col1,#T_4a0cc83e_1c62_11eb_a5d4_525400397d25row2_col2,#T_4a0cc83e_1c62_11eb_a5d4_525400397d25row3_col3,#T_4a0cc83e_1c62_11eb_a5d4_525400397d25row4_col4,#T_4a0cc83e_1c62_11eb_a5d4_525400397d25row5_col5,#T_4a0cc83e_1c62_11eb_a5d4_525400397d25row6_col6,#T_4a0cc83e_1c62_11eb_a5d4_525400397d25row7_col7,#T_4a0cc83e_1c62_11eb_a5d4_525400397d25row8_col8,#T_4a0cc83e_1c62_11eb_a5d4_525400397d25row9_col9,#T_4a0cc83e_1c62_11eb_a5d4_525400397d25row10_col10,#T_4a0cc83e_1c62_11eb_a5d4_525400397d25row11_col11,#T_4a0cc83e_1c62_11eb_a5d4_525400397d25row12_col12,#T_4a0cc83e_1c62_11eb_a5d4_525400397d25row13_col13,#T_4a0cc83e_1c62_11eb_a5d4_525400397d25row14_col14,#T_4a0cc83e_1c62_11eb_a5d4_525400397d25row15_col15,#T_4a0cc83e_1c62_11eb_a5d4_525400397d25row16_col16{\n",
       "            background-color:  #023858;\n",
       "            color:  #f1f1f1;\n",
       "        }#T_4a0cc83e_1c62_11eb_a5d4_525400397d25row0_col1,#T_4a0cc83e_1c62_11eb_a5d4_525400397d25row0_col6,#T_4a0cc83e_1c62_11eb_a5d4_525400397d25row1_col0,#T_4a0cc83e_1c62_11eb_a5d4_525400397d25row6_col0{\n",
       "            background-color:  #e4e1ef;\n",
       "            color:  #000000;\n",
       "        }#T_4a0cc83e_1c62_11eb_a5d4_525400397d25row0_col2,#T_4a0cc83e_1c62_11eb_a5d4_525400397d25row0_col15,#T_4a0cc83e_1c62_11eb_a5d4_525400397d25row2_col0,#T_4a0cc83e_1c62_11eb_a5d4_525400397d25row2_col14,#T_4a0cc83e_1c62_11eb_a5d4_525400397d25row11_col14,#T_4a0cc83e_1c62_11eb_a5d4_525400397d25row14_col2,#T_4a0cc83e_1c62_11eb_a5d4_525400397d25row14_col11,#T_4a0cc83e_1c62_11eb_a5d4_525400397d25row15_col0{\n",
       "            background-color:  #e0dded;\n",
       "            color:  #000000;\n",
       "        }#T_4a0cc83e_1c62_11eb_a5d4_525400397d25row0_col3,#T_4a0cc83e_1c62_11eb_a5d4_525400397d25row3_col0{\n",
       "            background-color:  #d9d8ea;\n",
       "            color:  #000000;\n",
       "        }#T_4a0cc83e_1c62_11eb_a5d4_525400397d25row0_col4,#T_4a0cc83e_1c62_11eb_a5d4_525400397d25row4_col0{\n",
       "            background-color:  #f1ebf5;\n",
       "            color:  #000000;\n",
       "        }#T_4a0cc83e_1c62_11eb_a5d4_525400397d25row0_col5,#T_4a0cc83e_1c62_11eb_a5d4_525400397d25row5_col0{\n",
       "            background-color:  #f9f2f8;\n",
       "            color:  #000000;\n",
       "        }#T_4a0cc83e_1c62_11eb_a5d4_525400397d25row0_col7,#T_4a0cc83e_1c62_11eb_a5d4_525400397d25row3_col6,#T_4a0cc83e_1c62_11eb_a5d4_525400397d25row6_col3,#T_4a0cc83e_1c62_11eb_a5d4_525400397d25row7_col0{\n",
       "            background-color:  #ede7f2;\n",
       "            color:  #000000;\n",
       "        }#T_4a0cc83e_1c62_11eb_a5d4_525400397d25row0_col8,#T_4a0cc83e_1c62_11eb_a5d4_525400397d25row8_col0{\n",
       "            background-color:  #e6e2ef;\n",
       "            color:  #000000;\n",
       "        }#T_4a0cc83e_1c62_11eb_a5d4_525400397d25row0_col9,#T_4a0cc83e_1c62_11eb_a5d4_525400397d25row9_col0{\n",
       "            background-color:  #b4c4df;\n",
       "            color:  #000000;\n",
       "        }#T_4a0cc83e_1c62_11eb_a5d4_525400397d25row0_col10,#T_4a0cc83e_1c62_11eb_a5d4_525400397d25row1_col14,#T_4a0cc83e_1c62_11eb_a5d4_525400397d25row10_col0,#T_4a0cc83e_1c62_11eb_a5d4_525400397d25row14_col1{\n",
       "            background-color:  #e7e3f0;\n",
       "            color:  #000000;\n",
       "        }#T_4a0cc83e_1c62_11eb_a5d4_525400397d25row0_col11,#T_4a0cc83e_1c62_11eb_a5d4_525400397d25row11_col0{\n",
       "            background-color:  #f1ebf4;\n",
       "            color:  #000000;\n",
       "        }#T_4a0cc83e_1c62_11eb_a5d4_525400397d25row0_col12,#T_4a0cc83e_1c62_11eb_a5d4_525400397d25row2_col6,#T_4a0cc83e_1c62_11eb_a5d4_525400397d25row6_col2,#T_4a0cc83e_1c62_11eb_a5d4_525400397d25row12_col0{\n",
       "            background-color:  #dfddec;\n",
       "            color:  #000000;\n",
       "        }#T_4a0cc83e_1c62_11eb_a5d4_525400397d25row0_col13,#T_4a0cc83e_1c62_11eb_a5d4_525400397d25row13_col0{\n",
       "            background-color:  #b7c5df;\n",
       "            color:  #000000;\n",
       "        }#T_4a0cc83e_1c62_11eb_a5d4_525400397d25row0_col14,#T_4a0cc83e_1c62_11eb_a5d4_525400397d25row14_col0{\n",
       "            background-color:  #b8c6e0;\n",
       "            color:  #000000;\n",
       "        }#T_4a0cc83e_1c62_11eb_a5d4_525400397d25row0_col16,#T_4a0cc83e_1c62_11eb_a5d4_525400397d25row16_col0{\n",
       "            background-color:  #f4edf6;\n",
       "            color:  #000000;\n",
       "        }#T_4a0cc83e_1c62_11eb_a5d4_525400397d25row1_col2,#T_4a0cc83e_1c62_11eb_a5d4_525400397d25row2_col1{\n",
       "            background-color:  #023c5f;\n",
       "            color:  #f1f1f1;\n",
       "        }#T_4a0cc83e_1c62_11eb_a5d4_525400397d25row1_col3,#T_4a0cc83e_1c62_11eb_a5d4_525400397d25row3_col1{\n",
       "            background-color:  #0569a5;\n",
       "            color:  #f1f1f1;\n",
       "        }#T_4a0cc83e_1c62_11eb_a5d4_525400397d25row1_col4,#T_4a0cc83e_1c62_11eb_a5d4_525400397d25row4_col1,#T_4a0cc83e_1c62_11eb_a5d4_525400397d25row4_col15,#T_4a0cc83e_1c62_11eb_a5d4_525400397d25row15_col4{\n",
       "            background-color:  #bbc7e0;\n",
       "            color:  #000000;\n",
       "        }#T_4a0cc83e_1c62_11eb_a5d4_525400397d25row1_col5,#T_4a0cc83e_1c62_11eb_a5d4_525400397d25row2_col7,#T_4a0cc83e_1c62_11eb_a5d4_525400397d25row5_col1,#T_4a0cc83e_1c62_11eb_a5d4_525400397d25row7_col2{\n",
       "            background-color:  #e3e0ee;\n",
       "            color:  #000000;\n",
       "        }#T_4a0cc83e_1c62_11eb_a5d4_525400397d25row1_col6,#T_4a0cc83e_1c62_11eb_a5d4_525400397d25row6_col1{\n",
       "            background-color:  #dbdaeb;\n",
       "            color:  #000000;\n",
       "        }#T_4a0cc83e_1c62_11eb_a5d4_525400397d25row1_col7,#T_4a0cc83e_1c62_11eb_a5d4_525400397d25row7_col1{\n",
       "            background-color:  #dddbec;\n",
       "            color:  #000000;\n",
       "        }#T_4a0cc83e_1c62_11eb_a5d4_525400397d25row1_col8,#T_4a0cc83e_1c62_11eb_a5d4_525400397d25row8_col1{\n",
       "            background-color:  #eae6f1;\n",
       "            color:  #000000;\n",
       "        }#T_4a0cc83e_1c62_11eb_a5d4_525400397d25row1_col9,#T_4a0cc83e_1c62_11eb_a5d4_525400397d25row9_col1{\n",
       "            background-color:  #faf2f8;\n",
       "            color:  #000000;\n",
       "        }#T_4a0cc83e_1c62_11eb_a5d4_525400397d25row1_col10,#T_4a0cc83e_1c62_11eb_a5d4_525400397d25row2_col15,#T_4a0cc83e_1c62_11eb_a5d4_525400397d25row10_col1,#T_4a0cc83e_1c62_11eb_a5d4_525400397d25row15_col2{\n",
       "            background-color:  #d2d3e7;\n",
       "            color:  #000000;\n",
       "        }#T_4a0cc83e_1c62_11eb_a5d4_525400397d25row1_col11,#T_4a0cc83e_1c62_11eb_a5d4_525400397d25row11_col1{\n",
       "            background-color:  #e2dfee;\n",
       "            color:  #000000;\n",
       "        }#T_4a0cc83e_1c62_11eb_a5d4_525400397d25row1_col12,#T_4a0cc83e_1c62_11eb_a5d4_525400397d25row12_col1{\n",
       "            background-color:  #9fbad9;\n",
       "            color:  #000000;\n",
       "        }#T_4a0cc83e_1c62_11eb_a5d4_525400397d25row1_col13,#T_4a0cc83e_1c62_11eb_a5d4_525400397d25row3_col14,#T_4a0cc83e_1c62_11eb_a5d4_525400397d25row13_col1,#T_4a0cc83e_1c62_11eb_a5d4_525400397d25row14_col3{\n",
       "            background-color:  #fbf4f9;\n",
       "            color:  #000000;\n",
       "        }#T_4a0cc83e_1c62_11eb_a5d4_525400397d25row1_col15,#T_4a0cc83e_1c62_11eb_a5d4_525400397d25row2_col10,#T_4a0cc83e_1c62_11eb_a5d4_525400397d25row10_col2,#T_4a0cc83e_1c62_11eb_a5d4_525400397d25row15_col1{\n",
       "            background-color:  #d6d6e9;\n",
       "            color:  #000000;\n",
       "        }#T_4a0cc83e_1c62_11eb_a5d4_525400397d25row1_col16,#T_4a0cc83e_1c62_11eb_a5d4_525400397d25row16_col1{\n",
       "            background-color:  #c1cae2;\n",
       "            color:  #000000;\n",
       "        }#T_4a0cc83e_1c62_11eb_a5d4_525400397d25row2_col3,#T_4a0cc83e_1c62_11eb_a5d4_525400397d25row3_col2,#T_4a0cc83e_1c62_11eb_a5d4_525400397d25row5_col13,#T_4a0cc83e_1c62_11eb_a5d4_525400397d25row13_col5{\n",
       "            background-color:  #056ba7;\n",
       "            color:  #f1f1f1;\n",
       "        }#T_4a0cc83e_1c62_11eb_a5d4_525400397d25row2_col4,#T_4a0cc83e_1c62_11eb_a5d4_525400397d25row3_col11,#T_4a0cc83e_1c62_11eb_a5d4_525400397d25row4_col2,#T_4a0cc83e_1c62_11eb_a5d4_525400397d25row11_col3{\n",
       "            background-color:  #c9cee4;\n",
       "            color:  #000000;\n",
       "        }#T_4a0cc83e_1c62_11eb_a5d4_525400397d25row2_col5,#T_4a0cc83e_1c62_11eb_a5d4_525400397d25row5_col2{\n",
       "            background-color:  #e8e4f0;\n",
       "            color:  #000000;\n",
       "        }#T_4a0cc83e_1c62_11eb_a5d4_525400397d25row2_col8,#T_4a0cc83e_1c62_11eb_a5d4_525400397d25row8_col2{\n",
       "            background-color:  #ede8f3;\n",
       "            color:  #000000;\n",
       "        }#T_4a0cc83e_1c62_11eb_a5d4_525400397d25row2_col9,#T_4a0cc83e_1c62_11eb_a5d4_525400397d25row3_col13,#T_4a0cc83e_1c62_11eb_a5d4_525400397d25row9_col2,#T_4a0cc83e_1c62_11eb_a5d4_525400397d25row13_col3{\n",
       "            background-color:  #fff7fb;\n",
       "            color:  #000000;\n",
       "        }#T_4a0cc83e_1c62_11eb_a5d4_525400397d25row2_col11,#T_4a0cc83e_1c62_11eb_a5d4_525400397d25row11_col2{\n",
       "            background-color:  #eee9f3;\n",
       "            color:  #000000;\n",
       "        }#T_4a0cc83e_1c62_11eb_a5d4_525400397d25row2_col12,#T_4a0cc83e_1c62_11eb_a5d4_525400397d25row11_col12,#T_4a0cc83e_1c62_11eb_a5d4_525400397d25row12_col2,#T_4a0cc83e_1c62_11eb_a5d4_525400397d25row12_col11{\n",
       "            background-color:  #9cb9d9;\n",
       "            color:  #000000;\n",
       "        }#T_4a0cc83e_1c62_11eb_a5d4_525400397d25row2_col13,#T_4a0cc83e_1c62_11eb_a5d4_525400397d25row13_col2{\n",
       "            background-color:  #fcf4fa;\n",
       "            color:  #000000;\n",
       "        }#T_4a0cc83e_1c62_11eb_a5d4_525400397d25row2_col16,#T_4a0cc83e_1c62_11eb_a5d4_525400397d25row16_col2{\n",
       "            background-color:  #ced0e6;\n",
       "            color:  #000000;\n",
       "        }#T_4a0cc83e_1c62_11eb_a5d4_525400397d25row3_col4,#T_4a0cc83e_1c62_11eb_a5d4_525400397d25row4_col3,#T_4a0cc83e_1c62_11eb_a5d4_525400397d25row4_col5,#T_4a0cc83e_1c62_11eb_a5d4_525400397d25row5_col4,#T_4a0cc83e_1c62_11eb_a5d4_525400397d25row9_col16,#T_4a0cc83e_1c62_11eb_a5d4_525400397d25row16_col9{\n",
       "            background-color:  #8cb3d5;\n",
       "            color:  #000000;\n",
       "        }#T_4a0cc83e_1c62_11eb_a5d4_525400397d25row3_col5,#T_4a0cc83e_1c62_11eb_a5d4_525400397d25row5_col3{\n",
       "            background-color:  #eee8f3;\n",
       "            color:  #000000;\n",
       "        }#T_4a0cc83e_1c62_11eb_a5d4_525400397d25row3_col7,#T_4a0cc83e_1c62_11eb_a5d4_525400397d25row7_col3{\n",
       "            background-color:  #dcdaeb;\n",
       "            color:  #000000;\n",
       "        }#T_4a0cc83e_1c62_11eb_a5d4_525400397d25row3_col8,#T_4a0cc83e_1c62_11eb_a5d4_525400397d25row8_col3{\n",
       "            background-color:  #ece7f2;\n",
       "            color:  #000000;\n",
       "        }#T_4a0cc83e_1c62_11eb_a5d4_525400397d25row3_col9,#T_4a0cc83e_1c62_11eb_a5d4_525400397d25row9_col3{\n",
       "            background-color:  #fdf5fa;\n",
       "            color:  #000000;\n",
       "        }#T_4a0cc83e_1c62_11eb_a5d4_525400397d25row3_col10,#T_4a0cc83e_1c62_11eb_a5d4_525400397d25row10_col3{\n",
       "            background-color:  #d5d5e8;\n",
       "            color:  #000000;\n",
       "        }#T_4a0cc83e_1c62_11eb_a5d4_525400397d25row3_col12,#T_4a0cc83e_1c62_11eb_a5d4_525400397d25row12_col3{\n",
       "            background-color:  #abbfdc;\n",
       "            color:  #000000;\n",
       "        }#T_4a0cc83e_1c62_11eb_a5d4_525400397d25row3_col15,#T_4a0cc83e_1c62_11eb_a5d4_525400397d25row15_col3{\n",
       "            background-color:  #f5eff6;\n",
       "            color:  #000000;\n",
       "        }#T_4a0cc83e_1c62_11eb_a5d4_525400397d25row3_col16,#T_4a0cc83e_1c62_11eb_a5d4_525400397d25row9_col12,#T_4a0cc83e_1c62_11eb_a5d4_525400397d25row9_col14,#T_4a0cc83e_1c62_11eb_a5d4_525400397d25row12_col9,#T_4a0cc83e_1c62_11eb_a5d4_525400397d25row14_col9,#T_4a0cc83e_1c62_11eb_a5d4_525400397d25row16_col3{\n",
       "            background-color:  #bdc8e1;\n",
       "            color:  #000000;\n",
       "        }#T_4a0cc83e_1c62_11eb_a5d4_525400397d25row4_col6,#T_4a0cc83e_1c62_11eb_a5d4_525400397d25row6_col4{\n",
       "            background-color:  #b9c6e0;\n",
       "            color:  #000000;\n",
       "        }#T_4a0cc83e_1c62_11eb_a5d4_525400397d25row4_col7,#T_4a0cc83e_1c62_11eb_a5d4_525400397d25row7_col4,#T_4a0cc83e_1c62_11eb_a5d4_525400397d25row8_col14,#T_4a0cc83e_1c62_11eb_a5d4_525400397d25row14_col8{\n",
       "            background-color:  #84b0d3;\n",
       "            color:  #000000;\n",
       "        }#T_4a0cc83e_1c62_11eb_a5d4_525400397d25row4_col8,#T_4a0cc83e_1c62_11eb_a5d4_525400397d25row8_col4{\n",
       "            background-color:  #adc1dd;\n",
       "            color:  #000000;\n",
       "        }#T_4a0cc83e_1c62_11eb_a5d4_525400397d25row4_col9,#T_4a0cc83e_1c62_11eb_a5d4_525400397d25row9_col4{\n",
       "            background-color:  #b3c3de;\n",
       "            color:  #000000;\n",
       "        }#T_4a0cc83e_1c62_11eb_a5d4_525400397d25row4_col10,#T_4a0cc83e_1c62_11eb_a5d4_525400397d25row6_col9,#T_4a0cc83e_1c62_11eb_a5d4_525400397d25row9_col6,#T_4a0cc83e_1c62_11eb_a5d4_525400397d25row10_col4{\n",
       "            background-color:  #a8bedc;\n",
       "            color:  #000000;\n",
       "        }#T_4a0cc83e_1c62_11eb_a5d4_525400397d25row4_col11,#T_4a0cc83e_1c62_11eb_a5d4_525400397d25row11_col4{\n",
       "            background-color:  #6da6cd;\n",
       "            color:  #000000;\n",
       "        }#T_4a0cc83e_1c62_11eb_a5d4_525400397d25row4_col12,#T_4a0cc83e_1c62_11eb_a5d4_525400397d25row12_col4{\n",
       "            background-color:  #bcc7e1;\n",
       "            color:  #000000;\n",
       "        }#T_4a0cc83e_1c62_11eb_a5d4_525400397d25row4_col13,#T_4a0cc83e_1c62_11eb_a5d4_525400397d25row13_col4{\n",
       "            background-color:  #c8cde4;\n",
       "            color:  #000000;\n",
       "        }#T_4a0cc83e_1c62_11eb_a5d4_525400397d25row4_col14,#T_4a0cc83e_1c62_11eb_a5d4_525400397d25row14_col4{\n",
       "            background-color:  #d4d4e8;\n",
       "            color:  #000000;\n",
       "        }#T_4a0cc83e_1c62_11eb_a5d4_525400397d25row4_col16,#T_4a0cc83e_1c62_11eb_a5d4_525400397d25row7_col9,#T_4a0cc83e_1c62_11eb_a5d4_525400397d25row9_col7,#T_4a0cc83e_1c62_11eb_a5d4_525400397d25row16_col4{\n",
       "            background-color:  #8bb2d4;\n",
       "            color:  #000000;\n",
       "        }#T_4a0cc83e_1c62_11eb_a5d4_525400397d25row5_col6,#T_4a0cc83e_1c62_11eb_a5d4_525400397d25row5_col10,#T_4a0cc83e_1c62_11eb_a5d4_525400397d25row6_col5,#T_4a0cc83e_1c62_11eb_a5d4_525400397d25row10_col5{\n",
       "            background-color:  #046096;\n",
       "            color:  #f1f1f1;\n",
       "        }#T_4a0cc83e_1c62_11eb_a5d4_525400397d25row5_col7,#T_4a0cc83e_1c62_11eb_a5d4_525400397d25row7_col5,#T_4a0cc83e_1c62_11eb_a5d4_525400397d25row7_col16,#T_4a0cc83e_1c62_11eb_a5d4_525400397d25row16_col7{\n",
       "            background-color:  #045e93;\n",
       "            color:  #f1f1f1;\n",
       "        }#T_4a0cc83e_1c62_11eb_a5d4_525400397d25row5_col8,#T_4a0cc83e_1c62_11eb_a5d4_525400397d25row6_col7,#T_4a0cc83e_1c62_11eb_a5d4_525400397d25row7_col6,#T_4a0cc83e_1c62_11eb_a5d4_525400397d25row8_col5{\n",
       "            background-color:  #0566a0;\n",
       "            color:  #f1f1f1;\n",
       "        }#T_4a0cc83e_1c62_11eb_a5d4_525400397d25row5_col9,#T_4a0cc83e_1c62_11eb_a5d4_525400397d25row9_col5{\n",
       "            background-color:  #86b0d3;\n",
       "            color:  #000000;\n",
       "        }#T_4a0cc83e_1c62_11eb_a5d4_525400397d25row5_col11,#T_4a0cc83e_1c62_11eb_a5d4_525400397d25row7_col11,#T_4a0cc83e_1c62_11eb_a5d4_525400397d25row11_col5,#T_4a0cc83e_1c62_11eb_a5d4_525400397d25row11_col7{\n",
       "            background-color:  #6fa7ce;\n",
       "            color:  #000000;\n",
       "        }#T_4a0cc83e_1c62_11eb_a5d4_525400397d25row5_col12,#T_4a0cc83e_1c62_11eb_a5d4_525400397d25row10_col12,#T_4a0cc83e_1c62_11eb_a5d4_525400397d25row12_col5,#T_4a0cc83e_1c62_11eb_a5d4_525400397d25row12_col10,#T_4a0cc83e_1c62_11eb_a5d4_525400397d25row13_col14,#T_4a0cc83e_1c62_11eb_a5d4_525400397d25row14_col13{\n",
       "            background-color:  #2c89bd;\n",
       "            color:  #000000;\n",
       "        }#T_4a0cc83e_1c62_11eb_a5d4_525400397d25row5_col14,#T_4a0cc83e_1c62_11eb_a5d4_525400397d25row14_col5{\n",
       "            background-color:  #5c9fc9;\n",
       "            color:  #000000;\n",
       "        }#T_4a0cc83e_1c62_11eb_a5d4_525400397d25row5_col15,#T_4a0cc83e_1c62_11eb_a5d4_525400397d25row15_col5{\n",
       "            background-color:  #2f8bbe;\n",
       "            color:  #000000;\n",
       "        }#T_4a0cc83e_1c62_11eb_a5d4_525400397d25row5_col16,#T_4a0cc83e_1c62_11eb_a5d4_525400397d25row16_col5{\n",
       "            background-color:  #045f95;\n",
       "            color:  #f1f1f1;\n",
       "        }#T_4a0cc83e_1c62_11eb_a5d4_525400397d25row6_col8,#T_4a0cc83e_1c62_11eb_a5d4_525400397d25row8_col6,#T_4a0cc83e_1c62_11eb_a5d4_525400397d25row12_col16,#T_4a0cc83e_1c62_11eb_a5d4_525400397d25row16_col12{\n",
       "            background-color:  #0567a2;\n",
       "            color:  #f1f1f1;\n",
       "        }#T_4a0cc83e_1c62_11eb_a5d4_525400397d25row6_col10,#T_4a0cc83e_1c62_11eb_a5d4_525400397d25row10_col6{\n",
       "            background-color:  #045b8f;\n",
       "            color:  #f1f1f1;\n",
       "        }#T_4a0cc83e_1c62_11eb_a5d4_525400397d25row6_col11,#T_4a0cc83e_1c62_11eb_a5d4_525400397d25row11_col6{\n",
       "            background-color:  #c0c9e2;\n",
       "            color:  #000000;\n",
       "        }#T_4a0cc83e_1c62_11eb_a5d4_525400397d25row6_col12,#T_4a0cc83e_1c62_11eb_a5d4_525400397d25row12_col6{\n",
       "            background-color:  #3f93c2;\n",
       "            color:  #000000;\n",
       "        }#T_4a0cc83e_1c62_11eb_a5d4_525400397d25row6_col13,#T_4a0cc83e_1c62_11eb_a5d4_525400397d25row13_col6{\n",
       "            background-color:  #056faf;\n",
       "            color:  #f1f1f1;\n",
       "        }#T_4a0cc83e_1c62_11eb_a5d4_525400397d25row6_col14,#T_4a0cc83e_1c62_11eb_a5d4_525400397d25row14_col6{\n",
       "            background-color:  #4c99c5;\n",
       "            color:  #000000;\n",
       "        }#T_4a0cc83e_1c62_11eb_a5d4_525400397d25row6_col15,#T_4a0cc83e_1c62_11eb_a5d4_525400397d25row15_col6{\n",
       "            background-color:  #358fc0;\n",
       "            color:  #000000;\n",
       "        }#T_4a0cc83e_1c62_11eb_a5d4_525400397d25row6_col16,#T_4a0cc83e_1c62_11eb_a5d4_525400397d25row16_col6{\n",
       "            background-color:  #056ba9;\n",
       "            color:  #f1f1f1;\n",
       "        }#T_4a0cc83e_1c62_11eb_a5d4_525400397d25row7_col8,#T_4a0cc83e_1c62_11eb_a5d4_525400397d25row8_col7{\n",
       "            background-color:  #04649e;\n",
       "            color:  #f1f1f1;\n",
       "        }#T_4a0cc83e_1c62_11eb_a5d4_525400397d25row7_col10,#T_4a0cc83e_1c62_11eb_a5d4_525400397d25row8_col16,#T_4a0cc83e_1c62_11eb_a5d4_525400397d25row10_col7,#T_4a0cc83e_1c62_11eb_a5d4_525400397d25row16_col8{\n",
       "            background-color:  #0567a1;\n",
       "            color:  #f1f1f1;\n",
       "        }#T_4a0cc83e_1c62_11eb_a5d4_525400397d25row7_col12,#T_4a0cc83e_1c62_11eb_a5d4_525400397d25row12_col7{\n",
       "            background-color:  #0d75b3;\n",
       "            color:  #f1f1f1;\n",
       "        }#T_4a0cc83e_1c62_11eb_a5d4_525400397d25row7_col13,#T_4a0cc83e_1c62_11eb_a5d4_525400397d25row13_col7{\n",
       "            background-color:  #056dac;\n",
       "            color:  #f1f1f1;\n",
       "        }#T_4a0cc83e_1c62_11eb_a5d4_525400397d25row7_col14,#T_4a0cc83e_1c62_11eb_a5d4_525400397d25row14_col7{\n",
       "            background-color:  #8eb3d5;\n",
       "            color:  #000000;\n",
       "        }#T_4a0cc83e_1c62_11eb_a5d4_525400397d25row7_col15,#T_4a0cc83e_1c62_11eb_a5d4_525400397d25row15_col7{\n",
       "            background-color:  #60a1ca;\n",
       "            color:  #000000;\n",
       "        }#T_4a0cc83e_1c62_11eb_a5d4_525400397d25row8_col9,#T_4a0cc83e_1c62_11eb_a5d4_525400397d25row9_col8{\n",
       "            background-color:  #91b5d6;\n",
       "            color:  #000000;\n",
       "        }#T_4a0cc83e_1c62_11eb_a5d4_525400397d25row8_col10,#T_4a0cc83e_1c62_11eb_a5d4_525400397d25row10_col8{\n",
       "            background-color:  #05659f;\n",
       "            color:  #f1f1f1;\n",
       "        }#T_4a0cc83e_1c62_11eb_a5d4_525400397d25row8_col11,#T_4a0cc83e_1c62_11eb_a5d4_525400397d25row11_col8{\n",
       "            background-color:  #7bacd1;\n",
       "            color:  #000000;\n",
       "        }#T_4a0cc83e_1c62_11eb_a5d4_525400397d25row8_col12,#T_4a0cc83e_1c62_11eb_a5d4_525400397d25row12_col8{\n",
       "            background-color:  #1b7eb7;\n",
       "            color:  #000000;\n",
       "        }#T_4a0cc83e_1c62_11eb_a5d4_525400397d25row8_col13,#T_4a0cc83e_1c62_11eb_a5d4_525400397d25row13_col8{\n",
       "            background-color:  #187cb6;\n",
       "            color:  #000000;\n",
       "        }#T_4a0cc83e_1c62_11eb_a5d4_525400397d25row8_col15,#T_4a0cc83e_1c62_11eb_a5d4_525400397d25row15_col8{\n",
       "            background-color:  #75a9cf;\n",
       "            color:  #000000;\n",
       "        }#T_4a0cc83e_1c62_11eb_a5d4_525400397d25row9_col10,#T_4a0cc83e_1c62_11eb_a5d4_525400397d25row9_col15,#T_4a0cc83e_1c62_11eb_a5d4_525400397d25row10_col9,#T_4a0cc83e_1c62_11eb_a5d4_525400397d25row15_col9{\n",
       "            background-color:  #9ab8d8;\n",
       "            color:  #000000;\n",
       "        }#T_4a0cc83e_1c62_11eb_a5d4_525400397d25row9_col11,#T_4a0cc83e_1c62_11eb_a5d4_525400397d25row11_col9{\n",
       "            background-color:  #3790c0;\n",
       "            color:  #000000;\n",
       "        }#T_4a0cc83e_1c62_11eb_a5d4_525400397d25row9_col13,#T_4a0cc83e_1c62_11eb_a5d4_525400397d25row13_col9{\n",
       "            background-color:  #63a2cb;\n",
       "            color:  #000000;\n",
       "        }#T_4a0cc83e_1c62_11eb_a5d4_525400397d25row10_col11,#T_4a0cc83e_1c62_11eb_a5d4_525400397d25row11_col10{\n",
       "            background-color:  #81aed2;\n",
       "            color:  #000000;\n",
       "        }#T_4a0cc83e_1c62_11eb_a5d4_525400397d25row10_col13,#T_4a0cc83e_1c62_11eb_a5d4_525400397d25row13_col10{\n",
       "            background-color:  #1e80b8;\n",
       "            color:  #000000;\n",
       "        }#T_4a0cc83e_1c62_11eb_a5d4_525400397d25row10_col14,#T_4a0cc83e_1c62_11eb_a5d4_525400397d25row14_col10{\n",
       "            background-color:  #69a5cc;\n",
       "            color:  #000000;\n",
       "        }#T_4a0cc83e_1c62_11eb_a5d4_525400397d25row10_col15,#T_4a0cc83e_1c62_11eb_a5d4_525400397d25row15_col10{\n",
       "            background-color:  #529bc7;\n",
       "            color:  #000000;\n",
       "        }#T_4a0cc83e_1c62_11eb_a5d4_525400397d25row10_col16,#T_4a0cc83e_1c62_11eb_a5d4_525400397d25row16_col10{\n",
       "            background-color:  #04649d;\n",
       "            color:  #f1f1f1;\n",
       "        }#T_4a0cc83e_1c62_11eb_a5d4_525400397d25row11_col13,#T_4a0cc83e_1c62_11eb_a5d4_525400397d25row13_col11{\n",
       "            background-color:  #96b6d7;\n",
       "            color:  #000000;\n",
       "        }#T_4a0cc83e_1c62_11eb_a5d4_525400397d25row11_col15,#T_4a0cc83e_1c62_11eb_a5d4_525400397d25row15_col11{\n",
       "            background-color:  #c4cbe3;\n",
       "            color:  #000000;\n",
       "        }#T_4a0cc83e_1c62_11eb_a5d4_525400397d25row11_col16,#T_4a0cc83e_1c62_11eb_a5d4_525400397d25row16_col11{\n",
       "            background-color:  #4295c3;\n",
       "            color:  #000000;\n",
       "        }#T_4a0cc83e_1c62_11eb_a5d4_525400397d25row12_col13,#T_4a0cc83e_1c62_11eb_a5d4_525400397d25row13_col12{\n",
       "            background-color:  #348ebf;\n",
       "            color:  #000000;\n",
       "        }#T_4a0cc83e_1c62_11eb_a5d4_525400397d25row12_col14,#T_4a0cc83e_1c62_11eb_a5d4_525400397d25row14_col12,#T_4a0cc83e_1c62_11eb_a5d4_525400397d25row14_col16,#T_4a0cc83e_1c62_11eb_a5d4_525400397d25row16_col14{\n",
       "            background-color:  #a9bfdc;\n",
       "            color:  #000000;\n",
       "        }#T_4a0cc83e_1c62_11eb_a5d4_525400397d25row12_col15,#T_4a0cc83e_1c62_11eb_a5d4_525400397d25row15_col12{\n",
       "            background-color:  #88b1d4;\n",
       "            color:  #000000;\n",
       "        }#T_4a0cc83e_1c62_11eb_a5d4_525400397d25row13_col15,#T_4a0cc83e_1c62_11eb_a5d4_525400397d25row15_col13{\n",
       "            background-color:  #157ab5;\n",
       "            color:  #000000;\n",
       "        }#T_4a0cc83e_1c62_11eb_a5d4_525400397d25row13_col16,#T_4a0cc83e_1c62_11eb_a5d4_525400397d25row16_col13{\n",
       "            background-color:  #0771b1;\n",
       "            color:  #f1f1f1;\n",
       "        }#T_4a0cc83e_1c62_11eb_a5d4_525400397d25row14_col15,#T_4a0cc83e_1c62_11eb_a5d4_525400397d25row15_col14{\n",
       "            background-color:  #056aa6;\n",
       "            color:  #f1f1f1;\n",
       "        }#T_4a0cc83e_1c62_11eb_a5d4_525400397d25row15_col16,#T_4a0cc83e_1c62_11eb_a5d4_525400397d25row16_col15{\n",
       "            background-color:  #65a3cb;\n",
       "            color:  #000000;\n",
       "        }</style><table id=\"T_4a0cc83e_1c62_11eb_a5d4_525400397d25\" ><thead>    <tr>        <th class=\"blank level0\" ></th>        <th class=\"col_heading level0 col0\" >Rt</th>        <th class=\"col_heading level0 col1\" >theta</th>        <th class=\"col_heading level0 col2\" >kappa</th>        <th class=\"col_heading level0 col3\" >rho</th>        <th class=\"col_heading level0 col4\" >sigma</th>        <th class=\"col_heading level0 col5\" >School_closing</th>        <th class=\"col_heading level0 col6\" >Workplace_closing</th>        <th class=\"col_heading level0 col7\" >Cancel_events</th>        <th class=\"col_heading level0 col8\" >Gatherings_restrictions</th>        <th class=\"col_heading level0 col9\" >Transport_closing</th>        <th class=\"col_heading level0 col10\" >Stay_home_restrictions</th>        <th class=\"col_heading level0 col11\" >Internal_movement_restrictions</th>        <th class=\"col_heading level0 col12\" >International_movement_restrictions</th>        <th class=\"col_heading level0 col13\" >Information_campaigns</th>        <th class=\"col_heading level0 col14\" >Testing_policy</th>        <th class=\"col_heading level0 col15\" >Contact_tracing</th>        <th class=\"col_heading level0 col16\" >Stringency_index</th>    </tr></thead><tbody>\n",
       "                <tr>\n",
       "                        <th id=\"T_4a0cc83e_1c62_11eb_a5d4_525400397d25level0_row0\" class=\"row_heading level0 row0\" >Rt</th>\n",
       "                        <td id=\"T_4a0cc83e_1c62_11eb_a5d4_525400397d25row0_col0\" class=\"data row0 col0\" >1.000000</td>\n",
       "                        <td id=\"T_4a0cc83e_1c62_11eb_a5d4_525400397d25row0_col1\" class=\"data row0 col1\" >-0.138118</td>\n",
       "                        <td id=\"T_4a0cc83e_1c62_11eb_a5d4_525400397d25row0_col2\" class=\"data row0 col2\" >-0.111414</td>\n",
       "                        <td id=\"T_4a0cc83e_1c62_11eb_a5d4_525400397d25row0_col3\" class=\"data row0 col3\" >-0.070629</td>\n",
       "                        <td id=\"T_4a0cc83e_1c62_11eb_a5d4_525400397d25row0_col4\" class=\"data row0 col4\" >-0.237243</td>\n",
       "                        <td id=\"T_4a0cc83e_1c62_11eb_a5d4_525400397d25row0_col5\" class=\"data row0 col5\" >-0.305702</td>\n",
       "                        <td id=\"T_4a0cc83e_1c62_11eb_a5d4_525400397d25row0_col6\" class=\"data row0 col6\" >-0.137931</td>\n",
       "                        <td id=\"T_4a0cc83e_1c62_11eb_a5d4_525400397d25row0_col7\" class=\"data row0 col7\" >-0.192847</td>\n",
       "                        <td id=\"T_4a0cc83e_1c62_11eb_a5d4_525400397d25row0_col8\" class=\"data row0 col8\" >-0.151953</td>\n",
       "                        <td id=\"T_4a0cc83e_1c62_11eb_a5d4_525400397d25row0_col9\" class=\"data row0 col9\" >0.095492</td>\n",
       "                        <td id=\"T_4a0cc83e_1c62_11eb_a5d4_525400397d25row0_col10\" class=\"data row0 col10\" >-0.158999</td>\n",
       "                        <td id=\"T_4a0cc83e_1c62_11eb_a5d4_525400397d25row0_col11\" class=\"data row0 col11\" >-0.228060</td>\n",
       "                        <td id=\"T_4a0cc83e_1c62_11eb_a5d4_525400397d25row0_col12\" class=\"data row0 col12\" >-0.108215</td>\n",
       "                        <td id=\"T_4a0cc83e_1c62_11eb_a5d4_525400397d25row0_col13\" class=\"data row0 col13\" >0.081979</td>\n",
       "                        <td id=\"T_4a0cc83e_1c62_11eb_a5d4_525400397d25row0_col14\" class=\"data row0 col14\" >0.075758</td>\n",
       "                        <td id=\"T_4a0cc83e_1c62_11eb_a5d4_525400397d25row0_col15\" class=\"data row0 col15\" >-0.113542</td>\n",
       "                        <td id=\"T_4a0cc83e_1c62_11eb_a5d4_525400397d25row0_col16\" class=\"data row0 col16\" >-0.254498</td>\n",
       "            </tr>\n",
       "            <tr>\n",
       "                        <th id=\"T_4a0cc83e_1c62_11eb_a5d4_525400397d25level0_row1\" class=\"row_heading level0 row1\" >theta</th>\n",
       "                        <td id=\"T_4a0cc83e_1c62_11eb_a5d4_525400397d25row1_col0\" class=\"data row1 col0\" >-0.138118</td>\n",
       "                        <td id=\"T_4a0cc83e_1c62_11eb_a5d4_525400397d25row1_col1\" class=\"data row1 col1\" >1.000000</td>\n",
       "                        <td id=\"T_4a0cc83e_1c62_11eb_a5d4_525400397d25row1_col2\" class=\"data row1 col2\" >0.974434</td>\n",
       "                        <td id=\"T_4a0cc83e_1c62_11eb_a5d4_525400397d25row1_col3\" class=\"data row1 col3\" >0.708340</td>\n",
       "                        <td id=\"T_4a0cc83e_1c62_11eb_a5d4_525400397d25row1_col4\" class=\"data row1 col4\" >0.067524</td>\n",
       "                        <td id=\"T_4a0cc83e_1c62_11eb_a5d4_525400397d25row1_col5\" class=\"data row1 col5\" >-0.135603</td>\n",
       "                        <td id=\"T_4a0cc83e_1c62_11eb_a5d4_525400397d25row1_col6\" class=\"data row1 col6\" >-0.085829</td>\n",
       "                        <td id=\"T_4a0cc83e_1c62_11eb_a5d4_525400397d25row1_col7\" class=\"data row1 col7\" >-0.096222</td>\n",
       "                        <td id=\"T_4a0cc83e_1c62_11eb_a5d4_525400397d25row1_col8\" class=\"data row1 col8\" >-0.178006</td>\n",
       "                        <td id=\"T_4a0cc83e_1c62_11eb_a5d4_525400397d25row1_col9\" class=\"data row1 col9\" >-0.311107</td>\n",
       "                        <td id=\"T_4a0cc83e_1c62_11eb_a5d4_525400397d25row1_col10\" class=\"data row1 col10\" >-0.035534</td>\n",
       "                        <td id=\"T_4a0cc83e_1c62_11eb_a5d4_525400397d25row1_col11\" class=\"data row1 col11\" >-0.131411</td>\n",
       "                        <td id=\"T_4a0cc83e_1c62_11eb_a5d4_525400397d25row1_col12\" class=\"data row1 col12\" >0.174345</td>\n",
       "                        <td id=\"T_4a0cc83e_1c62_11eb_a5d4_525400397d25row1_col13\" class=\"data row1 col13\" >-0.324502</td>\n",
       "                        <td id=\"T_4a0cc83e_1c62_11eb_a5d4_525400397d25row1_col14\" class=\"data row1 col14\" >-0.157970</td>\n",
       "                        <td id=\"T_4a0cc83e_1c62_11eb_a5d4_525400397d25row1_col15\" class=\"data row1 col15\" >-0.052417</td>\n",
       "                        <td id=\"T_4a0cc83e_1c62_11eb_a5d4_525400397d25row1_col16\" class=\"data row1 col16\" >0.039698</td>\n",
       "            </tr>\n",
       "            <tr>\n",
       "                        <th id=\"T_4a0cc83e_1c62_11eb_a5d4_525400397d25level0_row2\" class=\"row_heading level0 row2\" >kappa</th>\n",
       "                        <td id=\"T_4a0cc83e_1c62_11eb_a5d4_525400397d25row2_col0\" class=\"data row2 col0\" >-0.111414</td>\n",
       "                        <td id=\"T_4a0cc83e_1c62_11eb_a5d4_525400397d25row2_col1\" class=\"data row2 col1\" >0.974434</td>\n",
       "                        <td id=\"T_4a0cc83e_1c62_11eb_a5d4_525400397d25row2_col2\" class=\"data row2 col2\" >1.000000</td>\n",
       "                        <td id=\"T_4a0cc83e_1c62_11eb_a5d4_525400397d25row2_col3\" class=\"data row2 col3\" >0.698015</td>\n",
       "                        <td id=\"T_4a0cc83e_1c62_11eb_a5d4_525400397d25row2_col4\" class=\"data row2 col4\" >0.009390</td>\n",
       "                        <td id=\"T_4a0cc83e_1c62_11eb_a5d4_525400397d25row2_col5\" class=\"data row2 col5\" >-0.167288</td>\n",
       "                        <td id=\"T_4a0cc83e_1c62_11eb_a5d4_525400397d25row2_col6\" class=\"data row2 col6\" >-0.106544</td>\n",
       "                        <td id=\"T_4a0cc83e_1c62_11eb_a5d4_525400397d25row2_col7\" class=\"data row2 col7\" >-0.131917</td>\n",
       "                        <td id=\"T_4a0cc83e_1c62_11eb_a5d4_525400397d25row2_col8\" class=\"data row2 col8\" >-0.198778</td>\n",
       "                        <td id=\"T_4a0cc83e_1c62_11eb_a5d4_525400397d25row2_col9\" class=\"data row2 col9\" >-0.357331</td>\n",
       "                        <td id=\"T_4a0cc83e_1c62_11eb_a5d4_525400397d25row2_col10\" class=\"data row2 col10\" >-0.056748</td>\n",
       "                        <td id=\"T_4a0cc83e_1c62_11eb_a5d4_525400397d25row2_col11\" class=\"data row2 col11\" >-0.207981</td>\n",
       "                        <td id=\"T_4a0cc83e_1c62_11eb_a5d4_525400397d25row2_col12\" class=\"data row2 col12\" >0.182982</td>\n",
       "                        <td id=\"T_4a0cc83e_1c62_11eb_a5d4_525400397d25row2_col13\" class=\"data row2 col13\" >-0.330564</td>\n",
       "                        <td id=\"T_4a0cc83e_1c62_11eb_a5d4_525400397d25row2_col14\" class=\"data row2 col14\" >-0.110822</td>\n",
       "                        <td id=\"T_4a0cc83e_1c62_11eb_a5d4_525400397d25row2_col15\" class=\"data row2 col15\" >-0.033583</td>\n",
       "                        <td id=\"T_4a0cc83e_1c62_11eb_a5d4_525400397d25row2_col16\" class=\"data row2 col16\" >-0.009868</td>\n",
       "            </tr>\n",
       "            <tr>\n",
       "                        <th id=\"T_4a0cc83e_1c62_11eb_a5d4_525400397d25level0_row3\" class=\"row_heading level0 row3\" >rho</th>\n",
       "                        <td id=\"T_4a0cc83e_1c62_11eb_a5d4_525400397d25row3_col0\" class=\"data row3 col0\" >-0.070629</td>\n",
       "                        <td id=\"T_4a0cc83e_1c62_11eb_a5d4_525400397d25row3_col1\" class=\"data row3 col1\" >0.708340</td>\n",
       "                        <td id=\"T_4a0cc83e_1c62_11eb_a5d4_525400397d25row3_col2\" class=\"data row3 col2\" >0.698015</td>\n",
       "                        <td id=\"T_4a0cc83e_1c62_11eb_a5d4_525400397d25row3_col3\" class=\"data row3 col3\" >1.000000</td>\n",
       "                        <td id=\"T_4a0cc83e_1c62_11eb_a5d4_525400397d25row3_col4\" class=\"data row3 col4\" >0.236257</td>\n",
       "                        <td id=\"T_4a0cc83e_1c62_11eb_a5d4_525400397d25row3_col5\" class=\"data row3 col5\" >-0.201673</td>\n",
       "                        <td id=\"T_4a0cc83e_1c62_11eb_a5d4_525400397d25row3_col6\" class=\"data row3 col6\" >-0.192454</td>\n",
       "                        <td id=\"T_4a0cc83e_1c62_11eb_a5d4_525400397d25row3_col7\" class=\"data row3 col7\" >-0.091034</td>\n",
       "                        <td id=\"T_4a0cc83e_1c62_11eb_a5d4_525400397d25row3_col8\" class=\"data row3 col8\" >-0.186645</td>\n",
       "                        <td id=\"T_4a0cc83e_1c62_11eb_a5d4_525400397d25row3_col9\" class=\"data row3 col9\" >-0.333652</td>\n",
       "                        <td id=\"T_4a0cc83e_1c62_11eb_a5d4_525400397d25row3_col10\" class=\"data row3 col10\" >-0.048135</td>\n",
       "                        <td id=\"T_4a0cc83e_1c62_11eb_a5d4_525400397d25row3_col11\" class=\"data row3 col11\" >0.010576</td>\n",
       "                        <td id=\"T_4a0cc83e_1c62_11eb_a5d4_525400397d25row3_col12\" class=\"data row3 col12\" >0.128967</td>\n",
       "                        <td id=\"T_4a0cc83e_1c62_11eb_a5d4_525400397d25row3_col13\" class=\"data row3 col13\" >-0.360201</td>\n",
       "                        <td id=\"T_4a0cc83e_1c62_11eb_a5d4_525400397d25row3_col14\" class=\"data row3 col14\" >-0.326924</td>\n",
       "                        <td id=\"T_4a0cc83e_1c62_11eb_a5d4_525400397d25row3_col15\" class=\"data row3 col15\" >-0.272623</td>\n",
       "                        <td id=\"T_4a0cc83e_1c62_11eb_a5d4_525400397d25row3_col16\" class=\"data row3 col16\" >0.057459</td>\n",
       "            </tr>\n",
       "            <tr>\n",
       "                        <th id=\"T_4a0cc83e_1c62_11eb_a5d4_525400397d25level0_row4\" class=\"row_heading level0 row4\" >sigma</th>\n",
       "                        <td id=\"T_4a0cc83e_1c62_11eb_a5d4_525400397d25row4_col0\" class=\"data row4 col0\" >-0.237243</td>\n",
       "                        <td id=\"T_4a0cc83e_1c62_11eb_a5d4_525400397d25row4_col1\" class=\"data row4 col1\" >0.067524</td>\n",
       "                        <td id=\"T_4a0cc83e_1c62_11eb_a5d4_525400397d25row4_col2\" class=\"data row4 col2\" >0.009390</td>\n",
       "                        <td id=\"T_4a0cc83e_1c62_11eb_a5d4_525400397d25row4_col3\" class=\"data row4 col3\" >0.236257</td>\n",
       "                        <td id=\"T_4a0cc83e_1c62_11eb_a5d4_525400397d25row4_col4\" class=\"data row4 col4\" >1.000000</td>\n",
       "                        <td id=\"T_4a0cc83e_1c62_11eb_a5d4_525400397d25row4_col5\" class=\"data row4 col5\" >0.237614</td>\n",
       "                        <td id=\"T_4a0cc83e_1c62_11eb_a5d4_525400397d25row4_col6\" class=\"data row4 col6\" >0.074363</td>\n",
       "                        <td id=\"T_4a0cc83e_1c62_11eb_a5d4_525400397d25row4_col7\" class=\"data row4 col7\" >0.266274</td>\n",
       "                        <td id=\"T_4a0cc83e_1c62_11eb_a5d4_525400397d25row4_col8\" class=\"data row4 col8\" >0.120893</td>\n",
       "                        <td id=\"T_4a0cc83e_1c62_11eb_a5d4_525400397d25row4_col9\" class=\"data row4 col9\" >0.100219</td>\n",
       "                        <td id=\"T_4a0cc83e_1c62_11eb_a5d4_525400397d25row4_col10\" class=\"data row4 col10\" >0.143830</td>\n",
       "                        <td id=\"T_4a0cc83e_1c62_11eb_a5d4_525400397d25row4_col11\" class=\"data row4 col11\" >0.337848</td>\n",
       "                        <td id=\"T_4a0cc83e_1c62_11eb_a5d4_525400397d25row4_col12\" class=\"data row4 col12\" >0.063645</td>\n",
       "                        <td id=\"T_4a0cc83e_1c62_11eb_a5d4_525400397d25row4_col13\" class=\"data row4 col13\" >0.012385</td>\n",
       "                        <td id=\"T_4a0cc83e_1c62_11eb_a5d4_525400397d25row4_col14\" class=\"data row4 col14\" >-0.045116</td>\n",
       "                        <td id=\"T_4a0cc83e_1c62_11eb_a5d4_525400397d25row4_col15\" class=\"data row4 col15\" >0.067898</td>\n",
       "                        <td id=\"T_4a0cc83e_1c62_11eb_a5d4_525400397d25row4_col16\" class=\"data row4 col16\" >0.241069</td>\n",
       "            </tr>\n",
       "            <tr>\n",
       "                        <th id=\"T_4a0cc83e_1c62_11eb_a5d4_525400397d25level0_row5\" class=\"row_heading level0 row5\" >School_closing</th>\n",
       "                        <td id=\"T_4a0cc83e_1c62_11eb_a5d4_525400397d25row5_col0\" class=\"data row5 col0\" >-0.305702</td>\n",
       "                        <td id=\"T_4a0cc83e_1c62_11eb_a5d4_525400397d25row5_col1\" class=\"data row5 col1\" >-0.135603</td>\n",
       "                        <td id=\"T_4a0cc83e_1c62_11eb_a5d4_525400397d25row5_col2\" class=\"data row5 col2\" >-0.167288</td>\n",
       "                        <td id=\"T_4a0cc83e_1c62_11eb_a5d4_525400397d25row5_col3\" class=\"data row5 col3\" >-0.201673</td>\n",
       "                        <td id=\"T_4a0cc83e_1c62_11eb_a5d4_525400397d25row5_col4\" class=\"data row5 col4\" >0.237614</td>\n",
       "                        <td id=\"T_4a0cc83e_1c62_11eb_a5d4_525400397d25row5_col5\" class=\"data row5 col5\" >1.000000</td>\n",
       "                        <td id=\"T_4a0cc83e_1c62_11eb_a5d4_525400397d25row5_col6\" class=\"data row5 col6\" >0.782336</td>\n",
       "                        <td id=\"T_4a0cc83e_1c62_11eb_a5d4_525400397d25row5_col7\" class=\"data row5 col7\" >0.800405</td>\n",
       "                        <td id=\"T_4a0cc83e_1c62_11eb_a5d4_525400397d25row5_col8\" class=\"data row5 col8\" >0.736596</td>\n",
       "                        <td id=\"T_4a0cc83e_1c62_11eb_a5d4_525400397d25row5_col9\" class=\"data row5 col9\" >0.256880</td>\n",
       "                        <td id=\"T_4a0cc83e_1c62_11eb_a5d4_525400397d25row5_col10\" class=\"data row5 col10\" >0.783309</td>\n",
       "                        <td id=\"T_4a0cc83e_1c62_11eb_a5d4_525400397d25row5_col11\" class=\"data row5 col11\" >0.332873</td>\n",
       "                        <td id=\"T_4a0cc83e_1c62_11eb_a5d4_525400397d25row5_col12\" class=\"data row5 col12\" >0.524756</td>\n",
       "                        <td id=\"T_4a0cc83e_1c62_11eb_a5d4_525400397d25row5_col13\" class=\"data row5 col13\" >0.699179</td>\n",
       "                        <td id=\"T_4a0cc83e_1c62_11eb_a5d4_525400397d25row5_col14\" class=\"data row5 col14\" >0.387975</td>\n",
       "                        <td id=\"T_4a0cc83e_1c62_11eb_a5d4_525400397d25row5_col15\" class=\"data row5 col15\" >0.514709</td>\n",
       "                        <td id=\"T_4a0cc83e_1c62_11eb_a5d4_525400397d25row5_col16\" class=\"data row5 col16\" >0.790572</td>\n",
       "            </tr>\n",
       "            <tr>\n",
       "                        <th id=\"T_4a0cc83e_1c62_11eb_a5d4_525400397d25level0_row6\" class=\"row_heading level0 row6\" >Workplace_closing</th>\n",
       "                        <td id=\"T_4a0cc83e_1c62_11eb_a5d4_525400397d25row6_col0\" class=\"data row6 col0\" >-0.137931</td>\n",
       "                        <td id=\"T_4a0cc83e_1c62_11eb_a5d4_525400397d25row6_col1\" class=\"data row6 col1\" >-0.085829</td>\n",
       "                        <td id=\"T_4a0cc83e_1c62_11eb_a5d4_525400397d25row6_col2\" class=\"data row6 col2\" >-0.106544</td>\n",
       "                        <td id=\"T_4a0cc83e_1c62_11eb_a5d4_525400397d25row6_col3\" class=\"data row6 col3\" >-0.192454</td>\n",
       "                        <td id=\"T_4a0cc83e_1c62_11eb_a5d4_525400397d25row6_col4\" class=\"data row6 col4\" >0.074363</td>\n",
       "                        <td id=\"T_4a0cc83e_1c62_11eb_a5d4_525400397d25row6_col5\" class=\"data row6 col5\" >0.782336</td>\n",
       "                        <td id=\"T_4a0cc83e_1c62_11eb_a5d4_525400397d25row6_col6\" class=\"data row6 col6\" >1.000000</td>\n",
       "                        <td id=\"T_4a0cc83e_1c62_11eb_a5d4_525400397d25row6_col7\" class=\"data row6 col7\" >0.738498</td>\n",
       "                        <td id=\"T_4a0cc83e_1c62_11eb_a5d4_525400397d25row6_col8\" class=\"data row6 col8\" >0.727446</td>\n",
       "                        <td id=\"T_4a0cc83e_1c62_11eb_a5d4_525400397d25row6_col9\" class=\"data row6 col9\" >0.140306</td>\n",
       "                        <td id=\"T_4a0cc83e_1c62_11eb_a5d4_525400397d25row6_col10\" class=\"data row6 col10\" >0.816057</td>\n",
       "                        <td id=\"T_4a0cc83e_1c62_11eb_a5d4_525400397d25row6_col11\" class=\"data row6 col11\" >0.044426</td>\n",
       "                        <td id=\"T_4a0cc83e_1c62_11eb_a5d4_525400397d25row6_col12\" class=\"data row6 col12\" >0.467891</td>\n",
       "                        <td id=\"T_4a0cc83e_1c62_11eb_a5d4_525400397d25row6_col13\" class=\"data row6 col13\" >0.663035</td>\n",
       "                        <td id=\"T_4a0cc83e_1c62_11eb_a5d4_525400397d25row6_col14\" class=\"data row6 col14\" >0.430335</td>\n",
       "                        <td id=\"T_4a0cc83e_1c62_11eb_a5d4_525400397d25row6_col15\" class=\"data row6 col15\" >0.494592</td>\n",
       "                        <td id=\"T_4a0cc83e_1c62_11eb_a5d4_525400397d25row6_col16\" class=\"data row6 col16\" >0.695084</td>\n",
       "            </tr>\n",
       "            <tr>\n",
       "                        <th id=\"T_4a0cc83e_1c62_11eb_a5d4_525400397d25level0_row7\" class=\"row_heading level0 row7\" >Cancel_events</th>\n",
       "                        <td id=\"T_4a0cc83e_1c62_11eb_a5d4_525400397d25row7_col0\" class=\"data row7 col0\" >-0.192847</td>\n",
       "                        <td id=\"T_4a0cc83e_1c62_11eb_a5d4_525400397d25row7_col1\" class=\"data row7 col1\" >-0.096222</td>\n",
       "                        <td id=\"T_4a0cc83e_1c62_11eb_a5d4_525400397d25row7_col2\" class=\"data row7 col2\" >-0.131917</td>\n",
       "                        <td id=\"T_4a0cc83e_1c62_11eb_a5d4_525400397d25row7_col3\" class=\"data row7 col3\" >-0.091034</td>\n",
       "                        <td id=\"T_4a0cc83e_1c62_11eb_a5d4_525400397d25row7_col4\" class=\"data row7 col4\" >0.266274</td>\n",
       "                        <td id=\"T_4a0cc83e_1c62_11eb_a5d4_525400397d25row7_col5\" class=\"data row7 col5\" >0.800405</td>\n",
       "                        <td id=\"T_4a0cc83e_1c62_11eb_a5d4_525400397d25row7_col6\" class=\"data row7 col6\" >0.738498</td>\n",
       "                        <td id=\"T_4a0cc83e_1c62_11eb_a5d4_525400397d25row7_col7\" class=\"data row7 col7\" >1.000000</td>\n",
       "                        <td id=\"T_4a0cc83e_1c62_11eb_a5d4_525400397d25row7_col8\" class=\"data row7 col8\" >0.747425</td>\n",
       "                        <td id=\"T_4a0cc83e_1c62_11eb_a5d4_525400397d25row7_col9\" class=\"data row7 col9\" >0.242372</td>\n",
       "                        <td id=\"T_4a0cc83e_1c62_11eb_a5d4_525400397d25row7_col10\" class=\"data row7 col10\" >0.731226</td>\n",
       "                        <td id=\"T_4a0cc83e_1c62_11eb_a5d4_525400397d25row7_col11\" class=\"data row7 col11\" >0.335512</td>\n",
       "                        <td id=\"T_4a0cc83e_1c62_11eb_a5d4_525400397d25row7_col12\" class=\"data row7 col12\" >0.631458</td>\n",
       "                        <td id=\"T_4a0cc83e_1c62_11eb_a5d4_525400397d25row7_col13\" class=\"data row7 col13\" >0.679779</td>\n",
       "                        <td id=\"T_4a0cc83e_1c62_11eb_a5d4_525400397d25row7_col14\" class=\"data row7 col14\" >0.232976</td>\n",
       "                        <td id=\"T_4a0cc83e_1c62_11eb_a5d4_525400397d25row7_col15\" class=\"data row7 col15\" >0.375061</td>\n",
       "                        <td id=\"T_4a0cc83e_1c62_11eb_a5d4_525400397d25row7_col16\" class=\"data row7 col16\" >0.800047</td>\n",
       "            </tr>\n",
       "            <tr>\n",
       "                        <th id=\"T_4a0cc83e_1c62_11eb_a5d4_525400397d25level0_row8\" class=\"row_heading level0 row8\" >Gatherings_restrictions</th>\n",
       "                        <td id=\"T_4a0cc83e_1c62_11eb_a5d4_525400397d25row8_col0\" class=\"data row8 col0\" >-0.151953</td>\n",
       "                        <td id=\"T_4a0cc83e_1c62_11eb_a5d4_525400397d25row8_col1\" class=\"data row8 col1\" >-0.178006</td>\n",
       "                        <td id=\"T_4a0cc83e_1c62_11eb_a5d4_525400397d25row8_col2\" class=\"data row8 col2\" >-0.198778</td>\n",
       "                        <td id=\"T_4a0cc83e_1c62_11eb_a5d4_525400397d25row8_col3\" class=\"data row8 col3\" >-0.186645</td>\n",
       "                        <td id=\"T_4a0cc83e_1c62_11eb_a5d4_525400397d25row8_col4\" class=\"data row8 col4\" >0.120893</td>\n",
       "                        <td id=\"T_4a0cc83e_1c62_11eb_a5d4_525400397d25row8_col5\" class=\"data row8 col5\" >0.736596</td>\n",
       "                        <td id=\"T_4a0cc83e_1c62_11eb_a5d4_525400397d25row8_col6\" class=\"data row8 col6\" >0.727446</td>\n",
       "                        <td id=\"T_4a0cc83e_1c62_11eb_a5d4_525400397d25row8_col7\" class=\"data row8 col7\" >0.747425</td>\n",
       "                        <td id=\"T_4a0cc83e_1c62_11eb_a5d4_525400397d25row8_col8\" class=\"data row8 col8\" >1.000000</td>\n",
       "                        <td id=\"T_4a0cc83e_1c62_11eb_a5d4_525400397d25row8_col9\" class=\"data row8 col9\" >0.222056</td>\n",
       "                        <td id=\"T_4a0cc83e_1c62_11eb_a5d4_525400397d25row8_col10\" class=\"data row8 col10\" >0.744200</td>\n",
       "                        <td id=\"T_4a0cc83e_1c62_11eb_a5d4_525400397d25row8_col11\" class=\"data row8 col11\" >0.293594</td>\n",
       "                        <td id=\"T_4a0cc83e_1c62_11eb_a5d4_525400397d25row8_col12\" class=\"data row8 col12\" >0.583804</td>\n",
       "                        <td id=\"T_4a0cc83e_1c62_11eb_a5d4_525400397d25row8_col13\" class=\"data row8 col13\" >0.593657</td>\n",
       "                        <td id=\"T_4a0cc83e_1c62_11eb_a5d4_525400397d25row8_col14\" class=\"data row8 col14\" >0.261788</td>\n",
       "                        <td id=\"T_4a0cc83e_1c62_11eb_a5d4_525400397d25row8_col15\" class=\"data row8 col15\" >0.316045</td>\n",
       "                        <td id=\"T_4a0cc83e_1c62_11eb_a5d4_525400397d25row8_col16\" class=\"data row8 col16\" >0.730113</td>\n",
       "            </tr>\n",
       "            <tr>\n",
       "                        <th id=\"T_4a0cc83e_1c62_11eb_a5d4_525400397d25level0_row9\" class=\"row_heading level0 row9\" >Transport_closing</th>\n",
       "                        <td id=\"T_4a0cc83e_1c62_11eb_a5d4_525400397d25row9_col0\" class=\"data row9 col0\" >0.095492</td>\n",
       "                        <td id=\"T_4a0cc83e_1c62_11eb_a5d4_525400397d25row9_col1\" class=\"data row9 col1\" >-0.311107</td>\n",
       "                        <td id=\"T_4a0cc83e_1c62_11eb_a5d4_525400397d25row9_col2\" class=\"data row9 col2\" >-0.357331</td>\n",
       "                        <td id=\"T_4a0cc83e_1c62_11eb_a5d4_525400397d25row9_col3\" class=\"data row9 col3\" >-0.333652</td>\n",
       "                        <td id=\"T_4a0cc83e_1c62_11eb_a5d4_525400397d25row9_col4\" class=\"data row9 col4\" >0.100219</td>\n",
       "                        <td id=\"T_4a0cc83e_1c62_11eb_a5d4_525400397d25row9_col5\" class=\"data row9 col5\" >0.256880</td>\n",
       "                        <td id=\"T_4a0cc83e_1c62_11eb_a5d4_525400397d25row9_col6\" class=\"data row9 col6\" >0.140306</td>\n",
       "                        <td id=\"T_4a0cc83e_1c62_11eb_a5d4_525400397d25row9_col7\" class=\"data row9 col7\" >0.242372</td>\n",
       "                        <td id=\"T_4a0cc83e_1c62_11eb_a5d4_525400397d25row9_col8\" class=\"data row9 col8\" >0.222056</td>\n",
       "                        <td id=\"T_4a0cc83e_1c62_11eb_a5d4_525400397d25row9_col9\" class=\"data row9 col9\" >1.000000</td>\n",
       "                        <td id=\"T_4a0cc83e_1c62_11eb_a5d4_525400397d25row9_col10\" class=\"data row9 col10\" >0.191087</td>\n",
       "                        <td id=\"T_4a0cc83e_1c62_11eb_a5d4_525400397d25row9_col11\" class=\"data row9 col11\" >0.485633</td>\n",
       "                        <td id=\"T_4a0cc83e_1c62_11eb_a5d4_525400397d25row9_col12\" class=\"data row9 col12\" >0.056388</td>\n",
       "                        <td id=\"T_4a0cc83e_1c62_11eb_a5d4_525400397d25row9_col13\" class=\"data row9 col13\" >0.364376</td>\n",
       "                        <td id=\"T_4a0cc83e_1c62_11eb_a5d4_525400397d25row9_col14\" class=\"data row9 col14\" >0.057102</td>\n",
       "                        <td id=\"T_4a0cc83e_1c62_11eb_a5d4_525400397d25row9_col15\" class=\"data row9 col15\" >0.187147</td>\n",
       "                        <td id=\"T_4a0cc83e_1c62_11eb_a5d4_525400397d25row9_col16\" class=\"data row9 col16\" >0.238146</td>\n",
       "            </tr>\n",
       "            <tr>\n",
       "                        <th id=\"T_4a0cc83e_1c62_11eb_a5d4_525400397d25level0_row10\" class=\"row_heading level0 row10\" >Stay_home_restrictions</th>\n",
       "                        <td id=\"T_4a0cc83e_1c62_11eb_a5d4_525400397d25row10_col0\" class=\"data row10 col0\" >-0.158999</td>\n",
       "                        <td id=\"T_4a0cc83e_1c62_11eb_a5d4_525400397d25row10_col1\" class=\"data row10 col1\" >-0.035534</td>\n",
       "                        <td id=\"T_4a0cc83e_1c62_11eb_a5d4_525400397d25row10_col2\" class=\"data row10 col2\" >-0.056748</td>\n",
       "                        <td id=\"T_4a0cc83e_1c62_11eb_a5d4_525400397d25row10_col3\" class=\"data row10 col3\" >-0.048135</td>\n",
       "                        <td id=\"T_4a0cc83e_1c62_11eb_a5d4_525400397d25row10_col4\" class=\"data row10 col4\" >0.143830</td>\n",
       "                        <td id=\"T_4a0cc83e_1c62_11eb_a5d4_525400397d25row10_col5\" class=\"data row10 col5\" >0.783309</td>\n",
       "                        <td id=\"T_4a0cc83e_1c62_11eb_a5d4_525400397d25row10_col6\" class=\"data row10 col6\" >0.816057</td>\n",
       "                        <td id=\"T_4a0cc83e_1c62_11eb_a5d4_525400397d25row10_col7\" class=\"data row10 col7\" >0.731226</td>\n",
       "                        <td id=\"T_4a0cc83e_1c62_11eb_a5d4_525400397d25row10_col8\" class=\"data row10 col8\" >0.744200</td>\n",
       "                        <td id=\"T_4a0cc83e_1c62_11eb_a5d4_525400397d25row10_col9\" class=\"data row10 col9\" >0.191087</td>\n",
       "                        <td id=\"T_4a0cc83e_1c62_11eb_a5d4_525400397d25row10_col10\" class=\"data row10 col10\" >1.000000</td>\n",
       "                        <td id=\"T_4a0cc83e_1c62_11eb_a5d4_525400397d25row10_col11\" class=\"data row10 col11\" >0.272761</td>\n",
       "                        <td id=\"T_4a0cc83e_1c62_11eb_a5d4_525400397d25row10_col12\" class=\"data row10 col12\" >0.524173</td>\n",
       "                        <td id=\"T_4a0cc83e_1c62_11eb_a5d4_525400397d25row10_col13\" class=\"data row10 col13\" >0.571191</td>\n",
       "                        <td id=\"T_4a0cc83e_1c62_11eb_a5d4_525400397d25row10_col14\" class=\"data row10 col14\" >0.347261</td>\n",
       "                        <td id=\"T_4a0cc83e_1c62_11eb_a5d4_525400397d25row10_col15\" class=\"data row10 col15\" >0.411033</td>\n",
       "                        <td id=\"T_4a0cc83e_1c62_11eb_a5d4_525400397d25row10_col16\" class=\"data row10 col16\" >0.750588</td>\n",
       "            </tr>\n",
       "            <tr>\n",
       "                        <th id=\"T_4a0cc83e_1c62_11eb_a5d4_525400397d25level0_row11\" class=\"row_heading level0 row11\" >Internal_movement_restrictions</th>\n",
       "                        <td id=\"T_4a0cc83e_1c62_11eb_a5d4_525400397d25row11_col0\" class=\"data row11 col0\" >-0.228060</td>\n",
       "                        <td id=\"T_4a0cc83e_1c62_11eb_a5d4_525400397d25row11_col1\" class=\"data row11 col1\" >-0.131411</td>\n",
       "                        <td id=\"T_4a0cc83e_1c62_11eb_a5d4_525400397d25row11_col2\" class=\"data row11 col2\" >-0.207981</td>\n",
       "                        <td id=\"T_4a0cc83e_1c62_11eb_a5d4_525400397d25row11_col3\" class=\"data row11 col3\" >0.010576</td>\n",
       "                        <td id=\"T_4a0cc83e_1c62_11eb_a5d4_525400397d25row11_col4\" class=\"data row11 col4\" >0.337848</td>\n",
       "                        <td id=\"T_4a0cc83e_1c62_11eb_a5d4_525400397d25row11_col5\" class=\"data row11 col5\" >0.332873</td>\n",
       "                        <td id=\"T_4a0cc83e_1c62_11eb_a5d4_525400397d25row11_col6\" class=\"data row11 col6\" >0.044426</td>\n",
       "                        <td id=\"T_4a0cc83e_1c62_11eb_a5d4_525400397d25row11_col7\" class=\"data row11 col7\" >0.335512</td>\n",
       "                        <td id=\"T_4a0cc83e_1c62_11eb_a5d4_525400397d25row11_col8\" class=\"data row11 col8\" >0.293594</td>\n",
       "                        <td id=\"T_4a0cc83e_1c62_11eb_a5d4_525400397d25row11_col9\" class=\"data row11 col9\" >0.485633</td>\n",
       "                        <td id=\"T_4a0cc83e_1c62_11eb_a5d4_525400397d25row11_col10\" class=\"data row11 col10\" >0.272761</td>\n",
       "                        <td id=\"T_4a0cc83e_1c62_11eb_a5d4_525400397d25row11_col11\" class=\"data row11 col11\" >1.000000</td>\n",
       "                        <td id=\"T_4a0cc83e_1c62_11eb_a5d4_525400397d25row11_col12\" class=\"data row11 col12\" >0.185973</td>\n",
       "                        <td id=\"T_4a0cc83e_1c62_11eb_a5d4_525400397d25row11_col13\" class=\"data row11 col13\" >0.207597</td>\n",
       "                        <td id=\"T_4a0cc83e_1c62_11eb_a5d4_525400397d25row11_col14\" class=\"data row11 col14\" >-0.115190</td>\n",
       "                        <td id=\"T_4a0cc83e_1c62_11eb_a5d4_525400397d25row11_col15\" class=\"data row11 col15\" >0.030608</td>\n",
       "                        <td id=\"T_4a0cc83e_1c62_11eb_a5d4_525400397d25row11_col16\" class=\"data row11 col16\" >0.457074</td>\n",
       "            </tr>\n",
       "            <tr>\n",
       "                        <th id=\"T_4a0cc83e_1c62_11eb_a5d4_525400397d25level0_row12\" class=\"row_heading level0 row12\" >International_movement_restrictions</th>\n",
       "                        <td id=\"T_4a0cc83e_1c62_11eb_a5d4_525400397d25row12_col0\" class=\"data row12 col0\" >-0.108215</td>\n",
       "                        <td id=\"T_4a0cc83e_1c62_11eb_a5d4_525400397d25row12_col1\" class=\"data row12 col1\" >0.174345</td>\n",
       "                        <td id=\"T_4a0cc83e_1c62_11eb_a5d4_525400397d25row12_col2\" class=\"data row12 col2\" >0.182982</td>\n",
       "                        <td id=\"T_4a0cc83e_1c62_11eb_a5d4_525400397d25row12_col3\" class=\"data row12 col3\" >0.128967</td>\n",
       "                        <td id=\"T_4a0cc83e_1c62_11eb_a5d4_525400397d25row12_col4\" class=\"data row12 col4\" >0.063645</td>\n",
       "                        <td id=\"T_4a0cc83e_1c62_11eb_a5d4_525400397d25row12_col5\" class=\"data row12 col5\" >0.524756</td>\n",
       "                        <td id=\"T_4a0cc83e_1c62_11eb_a5d4_525400397d25row12_col6\" class=\"data row12 col6\" >0.467891</td>\n",
       "                        <td id=\"T_4a0cc83e_1c62_11eb_a5d4_525400397d25row12_col7\" class=\"data row12 col7\" >0.631458</td>\n",
       "                        <td id=\"T_4a0cc83e_1c62_11eb_a5d4_525400397d25row12_col8\" class=\"data row12 col8\" >0.583804</td>\n",
       "                        <td id=\"T_4a0cc83e_1c62_11eb_a5d4_525400397d25row12_col9\" class=\"data row12 col9\" >0.056388</td>\n",
       "                        <td id=\"T_4a0cc83e_1c62_11eb_a5d4_525400397d25row12_col10\" class=\"data row12 col10\" >0.524173</td>\n",
       "                        <td id=\"T_4a0cc83e_1c62_11eb_a5d4_525400397d25row12_col11\" class=\"data row12 col11\" >0.185973</td>\n",
       "                        <td id=\"T_4a0cc83e_1c62_11eb_a5d4_525400397d25row12_col12\" class=\"data row12 col12\" >1.000000</td>\n",
       "                        <td id=\"T_4a0cc83e_1c62_11eb_a5d4_525400397d25row12_col13\" class=\"data row12 col13\" >0.496259</td>\n",
       "                        <td id=\"T_4a0cc83e_1c62_11eb_a5d4_525400397d25row12_col14\" class=\"data row12 col14\" >0.136407</td>\n",
       "                        <td id=\"T_4a0cc83e_1c62_11eb_a5d4_525400397d25row12_col15\" class=\"data row12 col15\" >0.252642</td>\n",
       "                        <td id=\"T_4a0cc83e_1c62_11eb_a5d4_525400397d25row12_col16\" class=\"data row12 col16\" >0.725653</td>\n",
       "            </tr>\n",
       "            <tr>\n",
       "                        <th id=\"T_4a0cc83e_1c62_11eb_a5d4_525400397d25level0_row13\" class=\"row_heading level0 row13\" >Information_campaigns</th>\n",
       "                        <td id=\"T_4a0cc83e_1c62_11eb_a5d4_525400397d25row13_col0\" class=\"data row13 col0\" >0.081979</td>\n",
       "                        <td id=\"T_4a0cc83e_1c62_11eb_a5d4_525400397d25row13_col1\" class=\"data row13 col1\" >-0.324502</td>\n",
       "                        <td id=\"T_4a0cc83e_1c62_11eb_a5d4_525400397d25row13_col2\" class=\"data row13 col2\" >-0.330564</td>\n",
       "                        <td id=\"T_4a0cc83e_1c62_11eb_a5d4_525400397d25row13_col3\" class=\"data row13 col3\" >-0.360201</td>\n",
       "                        <td id=\"T_4a0cc83e_1c62_11eb_a5d4_525400397d25row13_col4\" class=\"data row13 col4\" >0.012385</td>\n",
       "                        <td id=\"T_4a0cc83e_1c62_11eb_a5d4_525400397d25row13_col5\" class=\"data row13 col5\" >0.699179</td>\n",
       "                        <td id=\"T_4a0cc83e_1c62_11eb_a5d4_525400397d25row13_col6\" class=\"data row13 col6\" >0.663035</td>\n",
       "                        <td id=\"T_4a0cc83e_1c62_11eb_a5d4_525400397d25row13_col7\" class=\"data row13 col7\" >0.679779</td>\n",
       "                        <td id=\"T_4a0cc83e_1c62_11eb_a5d4_525400397d25row13_col8\" class=\"data row13 col8\" >0.593657</td>\n",
       "                        <td id=\"T_4a0cc83e_1c62_11eb_a5d4_525400397d25row13_col9\" class=\"data row13 col9\" >0.364376</td>\n",
       "                        <td id=\"T_4a0cc83e_1c62_11eb_a5d4_525400397d25row13_col10\" class=\"data row13 col10\" >0.571191</td>\n",
       "                        <td id=\"T_4a0cc83e_1c62_11eb_a5d4_525400397d25row13_col11\" class=\"data row13 col11\" >0.207597</td>\n",
       "                        <td id=\"T_4a0cc83e_1c62_11eb_a5d4_525400397d25row13_col12\" class=\"data row13 col12\" >0.496259</td>\n",
       "                        <td id=\"T_4a0cc83e_1c62_11eb_a5d4_525400397d25row13_col13\" class=\"data row13 col13\" >1.000000</td>\n",
       "                        <td id=\"T_4a0cc83e_1c62_11eb_a5d4_525400397d25row13_col14\" class=\"data row13 col14\" >0.521857</td>\n",
       "                        <td id=\"T_4a0cc83e_1c62_11eb_a5d4_525400397d25row13_col15\" class=\"data row13 col15\" >0.604980</td>\n",
       "                        <td id=\"T_4a0cc83e_1c62_11eb_a5d4_525400397d25row13_col16\" class=\"data row13 col16\" >0.654506</td>\n",
       "            </tr>\n",
       "            <tr>\n",
       "                        <th id=\"T_4a0cc83e_1c62_11eb_a5d4_525400397d25level0_row14\" class=\"row_heading level0 row14\" >Testing_policy</th>\n",
       "                        <td id=\"T_4a0cc83e_1c62_11eb_a5d4_525400397d25row14_col0\" class=\"data row14 col0\" >0.075758</td>\n",
       "                        <td id=\"T_4a0cc83e_1c62_11eb_a5d4_525400397d25row14_col1\" class=\"data row14 col1\" >-0.157970</td>\n",
       "                        <td id=\"T_4a0cc83e_1c62_11eb_a5d4_525400397d25row14_col2\" class=\"data row14 col2\" >-0.110822</td>\n",
       "                        <td id=\"T_4a0cc83e_1c62_11eb_a5d4_525400397d25row14_col3\" class=\"data row14 col3\" >-0.326924</td>\n",
       "                        <td id=\"T_4a0cc83e_1c62_11eb_a5d4_525400397d25row14_col4\" class=\"data row14 col4\" >-0.045116</td>\n",
       "                        <td id=\"T_4a0cc83e_1c62_11eb_a5d4_525400397d25row14_col5\" class=\"data row14 col5\" >0.387975</td>\n",
       "                        <td id=\"T_4a0cc83e_1c62_11eb_a5d4_525400397d25row14_col6\" class=\"data row14 col6\" >0.430335</td>\n",
       "                        <td id=\"T_4a0cc83e_1c62_11eb_a5d4_525400397d25row14_col7\" class=\"data row14 col7\" >0.232976</td>\n",
       "                        <td id=\"T_4a0cc83e_1c62_11eb_a5d4_525400397d25row14_col8\" class=\"data row14 col8\" >0.261788</td>\n",
       "                        <td id=\"T_4a0cc83e_1c62_11eb_a5d4_525400397d25row14_col9\" class=\"data row14 col9\" >0.057102</td>\n",
       "                        <td id=\"T_4a0cc83e_1c62_11eb_a5d4_525400397d25row14_col10\" class=\"data row14 col10\" >0.347261</td>\n",
       "                        <td id=\"T_4a0cc83e_1c62_11eb_a5d4_525400397d25row14_col11\" class=\"data row14 col11\" >-0.115190</td>\n",
       "                        <td id=\"T_4a0cc83e_1c62_11eb_a5d4_525400397d25row14_col12\" class=\"data row14 col12\" >0.136407</td>\n",
       "                        <td id=\"T_4a0cc83e_1c62_11eb_a5d4_525400397d25row14_col13\" class=\"data row14 col13\" >0.521857</td>\n",
       "                        <td id=\"T_4a0cc83e_1c62_11eb_a5d4_525400397d25row14_col14\" class=\"data row14 col14\" >1.000000</td>\n",
       "                        <td id=\"T_4a0cc83e_1c62_11eb_a5d4_525400397d25row14_col15\" class=\"data row14 col15\" >0.703992</td>\n",
       "                        <td id=\"T_4a0cc83e_1c62_11eb_a5d4_525400397d25row14_col16\" class=\"data row14 col16\" >0.134657</td>\n",
       "            </tr>\n",
       "            <tr>\n",
       "                        <th id=\"T_4a0cc83e_1c62_11eb_a5d4_525400397d25level0_row15\" class=\"row_heading level0 row15\" >Contact_tracing</th>\n",
       "                        <td id=\"T_4a0cc83e_1c62_11eb_a5d4_525400397d25row15_col0\" class=\"data row15 col0\" >-0.113542</td>\n",
       "                        <td id=\"T_4a0cc83e_1c62_11eb_a5d4_525400397d25row15_col1\" class=\"data row15 col1\" >-0.052417</td>\n",
       "                        <td id=\"T_4a0cc83e_1c62_11eb_a5d4_525400397d25row15_col2\" class=\"data row15 col2\" >-0.033583</td>\n",
       "                        <td id=\"T_4a0cc83e_1c62_11eb_a5d4_525400397d25row15_col3\" class=\"data row15 col3\" >-0.272623</td>\n",
       "                        <td id=\"T_4a0cc83e_1c62_11eb_a5d4_525400397d25row15_col4\" class=\"data row15 col4\" >0.067898</td>\n",
       "                        <td id=\"T_4a0cc83e_1c62_11eb_a5d4_525400397d25row15_col5\" class=\"data row15 col5\" >0.514709</td>\n",
       "                        <td id=\"T_4a0cc83e_1c62_11eb_a5d4_525400397d25row15_col6\" class=\"data row15 col6\" >0.494592</td>\n",
       "                        <td id=\"T_4a0cc83e_1c62_11eb_a5d4_525400397d25row15_col7\" class=\"data row15 col7\" >0.375061</td>\n",
       "                        <td id=\"T_4a0cc83e_1c62_11eb_a5d4_525400397d25row15_col8\" class=\"data row15 col8\" >0.316045</td>\n",
       "                        <td id=\"T_4a0cc83e_1c62_11eb_a5d4_525400397d25row15_col9\" class=\"data row15 col9\" >0.187147</td>\n",
       "                        <td id=\"T_4a0cc83e_1c62_11eb_a5d4_525400397d25row15_col10\" class=\"data row15 col10\" >0.411033</td>\n",
       "                        <td id=\"T_4a0cc83e_1c62_11eb_a5d4_525400397d25row15_col11\" class=\"data row15 col11\" >0.030608</td>\n",
       "                        <td id=\"T_4a0cc83e_1c62_11eb_a5d4_525400397d25row15_col12\" class=\"data row15 col12\" >0.252642</td>\n",
       "                        <td id=\"T_4a0cc83e_1c62_11eb_a5d4_525400397d25row15_col13\" class=\"data row15 col13\" >0.604980</td>\n",
       "                        <td id=\"T_4a0cc83e_1c62_11eb_a5d4_525400397d25row15_col14\" class=\"data row15 col14\" >0.703992</td>\n",
       "                        <td id=\"T_4a0cc83e_1c62_11eb_a5d4_525400397d25row15_col15\" class=\"data row15 col15\" >1.000000</td>\n",
       "                        <td id=\"T_4a0cc83e_1c62_11eb_a5d4_525400397d25row15_col16\" class=\"data row15 col16\" >0.358230</td>\n",
       "            </tr>\n",
       "            <tr>\n",
       "                        <th id=\"T_4a0cc83e_1c62_11eb_a5d4_525400397d25level0_row16\" class=\"row_heading level0 row16\" >Stringency_index</th>\n",
       "                        <td id=\"T_4a0cc83e_1c62_11eb_a5d4_525400397d25row16_col0\" class=\"data row16 col0\" >-0.254498</td>\n",
       "                        <td id=\"T_4a0cc83e_1c62_11eb_a5d4_525400397d25row16_col1\" class=\"data row16 col1\" >0.039698</td>\n",
       "                        <td id=\"T_4a0cc83e_1c62_11eb_a5d4_525400397d25row16_col2\" class=\"data row16 col2\" >-0.009868</td>\n",
       "                        <td id=\"T_4a0cc83e_1c62_11eb_a5d4_525400397d25row16_col3\" class=\"data row16 col3\" >0.057459</td>\n",
       "                        <td id=\"T_4a0cc83e_1c62_11eb_a5d4_525400397d25row16_col4\" class=\"data row16 col4\" >0.241069</td>\n",
       "                        <td id=\"T_4a0cc83e_1c62_11eb_a5d4_525400397d25row16_col5\" class=\"data row16 col5\" >0.790572</td>\n",
       "                        <td id=\"T_4a0cc83e_1c62_11eb_a5d4_525400397d25row16_col6\" class=\"data row16 col6\" >0.695084</td>\n",
       "                        <td id=\"T_4a0cc83e_1c62_11eb_a5d4_525400397d25row16_col7\" class=\"data row16 col7\" >0.800047</td>\n",
       "                        <td id=\"T_4a0cc83e_1c62_11eb_a5d4_525400397d25row16_col8\" class=\"data row16 col8\" >0.730113</td>\n",
       "                        <td id=\"T_4a0cc83e_1c62_11eb_a5d4_525400397d25row16_col9\" class=\"data row16 col9\" >0.238146</td>\n",
       "                        <td id=\"T_4a0cc83e_1c62_11eb_a5d4_525400397d25row16_col10\" class=\"data row16 col10\" >0.750588</td>\n",
       "                        <td id=\"T_4a0cc83e_1c62_11eb_a5d4_525400397d25row16_col11\" class=\"data row16 col11\" >0.457074</td>\n",
       "                        <td id=\"T_4a0cc83e_1c62_11eb_a5d4_525400397d25row16_col12\" class=\"data row16 col12\" >0.725653</td>\n",
       "                        <td id=\"T_4a0cc83e_1c62_11eb_a5d4_525400397d25row16_col13\" class=\"data row16 col13\" >0.654506</td>\n",
       "                        <td id=\"T_4a0cc83e_1c62_11eb_a5d4_525400397d25row16_col14\" class=\"data row16 col14\" >0.134657</td>\n",
       "                        <td id=\"T_4a0cc83e_1c62_11eb_a5d4_525400397d25row16_col15\" class=\"data row16 col15\" >0.358230</td>\n",
       "                        <td id=\"T_4a0cc83e_1c62_11eb_a5d4_525400397d25row16_col16\" class=\"data row16 col16\" >1.000000</td>\n",
       "            </tr>\n",
       "    </tbody></table>"
      ],
      "text/plain": [
       "<pandas.io.formats.style.Styler at 0x7f14c0e0ddf0>"
      ]
     },
     "execution_count": 21,
     "metadata": {},
     "output_type": "execute_result"
    }
   ],
   "source": [
    "# Correlation\n",
    "df = track_df.copy()\n",
    "df.corr().style.background_gradient(axis=None)"
   ]
  },
  {
   "cell_type": "code",
   "execution_count": 22,
   "metadata": {
    "collapsed": false
   },
   "outputs": [
    {
     "data": {
      "image/png": "[encoded data removed]",
      "text/plain": [
       "<Figure size 432x288 with 1 Axes>"
      ]
     },
     "metadata": {},
     "output_type": "display_data"
    }
   ],
   "source": [
    "# Scatter plot of Stringency index and Rt\n",
    "df = track_df.copy()\n",
    "sns.scatterplot(data=df, x=\"Stringency_index\", y=\"Rt\", hue=\"Country\", legend=\"brief\", marker=\"+\")\n",
    "bbox_to_anchor=(1.02, 0)\n",
    "bbox_loc=\"lower left\"\n",
    "plt.legend(bbox_to_anchor=bbox_to_anchor, loc=bbox_loc, borderaxespad=0)\n",
    "plt.title(\"Relationship of Stringency index and reproduction number\")\n",
    "plt.ylabel(\"Reproduction number\")\n",
    "plt.xlabel(\"Stringency index\")\n",
    "plt.show()"
   ]
  }
 ],
 "metadata": {
  "kernelspec": {
   "display_name": "Python 3.8.2 64-bit ('.venv': venv)",
   "name": "python_defaultSpec_1597669925034"
  },
  "language_info": {
   "codemirror_mode": {
    "name": "ipython",
    "version": 3
   },
   "file_extension": ".py",
   "mimetype": "text/x-python",
   "name": "python",
   "nbconvert_exporter": "python",
   "pygments_lexer": "ipython3",
   "version": "3.8.2-final"
  }
 },
 "nbformat": 4,
 "nbformat_minor": 4
}
