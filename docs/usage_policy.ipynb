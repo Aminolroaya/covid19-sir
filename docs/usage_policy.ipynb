{
 "cells": [
  {
   "cell_type": "markdown",
   "metadata": {},
   "source": [
    "# Usage (details: policy measures)\n",
    "Here, we will analyse the relationship of policy measures and parameter values of SIR-derived ODE models. Policy measures are tracked by [Oxford Covid-19 Government Response Tracker (OxCGRT)](https://github.com/OxCGRT/covid-policy-tracker)."
   ]
  },
  {
   "cell_type": "markdown",
   "metadata": {},
   "source": [
    "## Preparation"
   ]
  },
  {
   "cell_type": "code",
   "execution_count": 1,
   "metadata": {
    "collapsed": false
   },
   "outputs": [],
   "source": [
    "# Standard users\n",
    "# !pip install covsirphy\n",
    "# Developers (Note: this notebook is in example directory)\n",
    "import os\n",
    "os.chdir(\"../\")"
   ]
  },
  {
   "cell_type": "code",
   "execution_count": 2,
   "metadata": {
    "collapsed": false
   },
   "outputs": [],
   "source": [
    "from pprint import pprint"
   ]
  },
  {
   "cell_type": "code",
   "execution_count": 3,
   "metadata": {
    "collapsed": false
   },
   "outputs": [
    {
     "data": {
      "text/plain": [
       "'2.12.0-tau-fu3.new.339.357.359.362.366.367.382.383.fix.360.373'"
      ]
     },
     "execution_count": 3,
     "metadata": {},
     "output_type": "execute_result"
    }
   ],
   "source": [
    "import covsirphy as cs\n",
    "cs.__version__"
   ]
  },
  {
   "cell_type": "code",
   "execution_count": 4,
   "metadata": {
    "collapsed": false,
    "tags": []
   },
   "outputs": [
    {
     "name": "stdout",
     "output_type": "stream",
     "text": [
      "(Secondary source) Guidotti, E., Ardia, D., (2020), \"COVID-19 Data Hub\", Journal of Open Source Software 5(51):2376, doi: 10.21105/joss.02376.\n"
     ]
    }
   ],
   "source": [
    "# Standard users and developers\n",
    "data_loader = cs.DataLoader(\"input\")\n",
    "# The number of cases (JHU style)\n",
    "jhu_data = data_loader.jhu(verbose=False)\n",
    "# Population in each country\n",
    "population_data = data_loader.population(verbose=False)\n",
    "# Government Response Tracker (OxCGRT)\n",
    "oxcgrt_data = data_loader.oxcgrt(verbose=False)\n",
    "# Description/citation\n",
    "print(oxcgrt_data.citation)"
   ]
  },
  {
   "cell_type": "markdown",
   "metadata": {},
   "source": [
    "## Class for policy measure analysis\n",
    "We will `PolicyMeasures` class to find relationship of policy measures and parameter values of SIR-derived ODE models."
   ]
  },
  {
   "cell_type": "code",
   "execution_count": 5,
   "metadata": {
    "collapsed": false,
    "tags": []
   },
   "outputs": [
    {
     "name": "stderr",
     "output_type": "stream",
     "text": [
      "/home/runner/.local/share/virtualenvs/covid19-sir-kT3BL-HO/lib/python3.8/site-packages/scipy/interpolate/fitpack2.py:253: UserWarning: \n",
      "The maximal number of iterations maxit (set to 20 by the program)\n",
      "allowed for finding a smoothing spline with fp=s has been reached: s\n",
      "too small.\n",
      "There is an approximation returned but the corresponding weighted sum\n",
      "of squared residuals does not satisfy the condition abs(fp-s)/s < tol.\n",
      "  warnings.warn(message)\n"
     ]
    },
    {
     "data": {
      "text/plain": [
       "196"
      ]
     },
     "execution_count": 5,
     "metadata": {},
     "output_type": "execute_result"
    }
   ],
   "source": [
    "# Create analyser with tau value 360 [min] (can be changed)\n",
    "analyser = cs.PolicyMeasures(jhu_data, population_data, oxcgrt_data, tau=360)\n",
    "# The number of registerd countries\n",
    "len(analyser.countries)"
   ]
  },
  {
   "cell_type": "code",
   "execution_count": 6,
   "metadata": {
    "collapsed": false
   },
   "outputs": [
    {
     "data": {
      "text/plain": [
       "covsirphy.analysis.scenario.Scenario"
      ]
     },
     "execution_count": 6,
     "metadata": {},
     "output_type": "execute_result"
    }
   ],
   "source": [
    "# We can get Scenario instance for detailed scenario analysis\n",
    "type(analyser.scenario(\"Japan\"))"
   ]
  },
  {
   "cell_type": "markdown",
   "metadata": {},
   "source": [
    "## Set phases with S-R trend analysis\n",
    "We will perform S-R trend analysis to set phases in all countries. Countries which do not have **16th phases** will be un-registered for the next analysis. This number will be adjusted for your analysis."
   ]
  },
  {
   "cell_type": "code",
   "execution_count": 7,
   "metadata": {
    "collapsed": false
   },
   "outputs": [
    {
     "name": "stdout",
     "output_type": "stream",
     "text": [
      "{2: ['Holy See', 'Timor-Leste', 'Solomon Islands'],\n",
      " 3: ['Laos', 'Saint Kitts and Nevis', 'Tanzania'],\n",
      " 4: ['Dominica', 'Brunei', 'Grenada', 'Saint Lucia'],\n",
      " 5: ['Fiji', 'Equatorial Guinea'],\n",
      " 6: ['Saint Vincent and the Grenadines', 'Antigua and Barbuda', 'Mauritius'],\n",
      " 7: ['Gambia', 'Northern Mariana Islands'],\n",
      " 8: ['Madagascar', 'Vietnam', 'Seychelles', 'Barbados', 'Cambodia', 'Bahamas',\n",
      "     'Malawi', 'Kyrgyzstan', 'Trinidad and Tobago', 'Lesotho', 'Monaco'],\n",
      " 9: ['Oman', 'Venezuela', 'Bolivia', 'Swaziland', 'Zimbabwe', 'South Africa',\n",
      "     'Zambia', 'Namibia', 'Virgin Islands, U.S.', 'Mongolia', 'Suriname',\n",
      "     'Ghana', 'Senegal', 'Liechtenstein', 'Djibouti', 'Kazakhstan', 'Guyana',\n",
      "     'Uzbekistan', 'Republic of the Congo', 'Sao Tome and Principe',\n",
      "     'Australia', 'Burundi'],\n",
      " 10: ['New Zealand', 'Jamaica', 'Belize', 'Syria', 'Bahrain', 'Chile',\n",
      "      'Singapore', 'Libya', 'El Salvador', 'Gabon', 'Guam', 'Yemen', 'Eritrea',\n",
      "      'Papua New Guinea', 'Bermuda', 'Ethiopia', 'Maldives', 'Algeria',\n",
      "      'Comoros', 'Philippines', 'Kuwait', 'Central African Republic', 'Brazil',\n",
      "      'Botswana', 'Israel', 'Benin', 'Saudi Arabia', 'Guatemala', 'Ecuador',\n",
      "      \"Cote d'Ivoire\", 'Nigeria', 'Liberia', 'Bhutan', 'Honduras', 'Peru',\n",
      "      'Kenya', 'Egypt', 'Rwanda', 'Mozambique'],\n",
      " 11: ['Chad', 'Guinea', 'Nicaragua', 'Togo', 'Jordan', 'Bangladesh',\n",
      "      'Puerto Rico', 'Panama', 'Taiwan', 'Sierra Leone', 'Myanmar', 'Mexico',\n",
      "      'Angola', 'Sudan', 'Paraguay', 'Iraq', 'Guinea-Bissau', 'Pakistan',\n",
      "      'Dominican Republic', 'Costa Rica', 'Colombia', 'Andorra', 'India',\n",
      "      'Cape Verde', 'Argentina', 'Cameroon'],\n",
      " 12: ['Uganda', 'Cuba', 'South Sudan', 'Iceland', 'Azerbaijan', 'Slovenia',\n",
      "      'Slovakia', 'Niger', 'Indonesia', 'Serbia', 'Japan', 'Kosovo',\n",
      "      'United Arab Emirates', 'Haiti', 'Georgia', 'Palestine',\n",
      "      'Democratic Republic of the Congo', 'Tajikistan', 'Nepal', 'Qatar'],\n",
      " 13: ['Thailand', 'Somalia', 'Luxembourg', 'Cyprus', 'Burkina Faso',\n",
      "      'Sri Lanka', 'Croatia', 'Montenegro', 'China', 'San Marino', 'Russia',\n",
      "      'Uruguay', 'Bulgaria', 'Armenia', 'Moldova', 'Afghanistan',\n",
      "      'United States', 'Malta', 'Hungary'],\n",
      " 14: ['Greece', 'Estonia', 'Czech Republic', 'Germany', 'Ukraine',\n",
      "      'North Macedonia', 'Norway', 'Belarus', 'Poland', 'Iran', 'Ireland',\n",
      "      'Spain', 'Malaysia', 'Bosnia and Herzegovina', 'Mauritania', 'Mali',\n",
      "      'Tunisia', 'Turkey', 'Albania', 'Sweden'],\n",
      " 15: ['Switzerland', 'Latvia', 'Lebanon', 'Netherlands', 'Austria', 'Italy',\n",
      "      'Belgium', 'Morocco', 'Lithuania', 'Canada'],\n",
      " 16: ['Finland', 'Portugal', 'Romania', 'United Kingdom', 'France', 'Denmark']}\n"
     ]
    }
   ],
   "source": [
    "# Show the number of phases of all countries\n",
    "analyser.trend()\n",
    "pprint(analyser.phase_len(), compact=True)"
   ]
  },
  {
   "cell_type": "code",
   "execution_count": 8,
   "metadata": {
    "collapsed": false
   },
   "outputs": [
    {
     "data": {
      "text/plain": [
       "6"
      ]
     },
     "execution_count": 8,
     "metadata": {},
     "output_type": "execute_result"
    }
   ],
   "source": [
    "# Set phases with S-R trend analysis\n",
    "analyser.trend(min_len=16)\n",
    "# The number of countries\n",
    "len(analyser.countries)"
   ]
  },
  {
   "cell_type": "code",
   "execution_count": 9,
   "metadata": {
    "collapsed": false,
    "tags": []
   },
   "outputs": [
    {
     "name": "stdout",
     "output_type": "stream",
     "text": [
      "{16: ['Finland', 'Portugal', 'Romania', 'United Kingdom', 'France', 'Denmark']}\n"
     ]
    }
   ],
   "source": [
    "phase_len_dict = analyser.phase_len()\n",
    "pprint(phase_len_dict, compact=True)"
   ]
  },
  {
   "cell_type": "code",
   "execution_count": 10,
   "metadata": {
    "collapsed": false,
    "tags": []
   },
   "outputs": [
    {
     "data": {
      "text/html": [
       "<div>\n",
       "<style scoped>\n",
       "    .dataframe tbody tr th:only-of-type {\n",
       "        vertical-align: middle;\n",
       "    }\n",
       "\n",
       "    .dataframe tbody tr th {\n",
       "        vertical-align: top;\n",
       "    }\n",
       "\n",
       "    .dataframe thead th {\n",
       "        text-align: right;\n",
       "    }\n",
       "</style>\n",
       "<table border=\"1\" class=\"dataframe\">\n",
       "  <thead>\n",
       "    <tr style=\"text-align: right;\">\n",
       "      <th></th>\n",
       "      <th></th>\n",
       "      <th>Type</th>\n",
       "      <th>Start</th>\n",
       "      <th>End</th>\n",
       "      <th>Population</th>\n",
       "    </tr>\n",
       "    <tr>\n",
       "      <th>Country</th>\n",
       "      <th>Phase</th>\n",
       "      <th></th>\n",
       "      <th></th>\n",
       "      <th></th>\n",
       "      <th></th>\n",
       "    </tr>\n",
       "  </thead>\n",
       "  <tbody>\n",
       "    <tr>\n",
       "      <th rowspan=\"5\" valign=\"top\">Finland</th>\n",
       "      <th>0th</th>\n",
       "      <td>Past</td>\n",
       "      <td>16Mar2020</td>\n",
       "      <td>04Apr2020</td>\n",
       "      <td>5515525</td>\n",
       "    </tr>\n",
       "    <tr>\n",
       "      <th>1st</th>\n",
       "      <td>Past</td>\n",
       "      <td>05Apr2020</td>\n",
       "      <td>19Apr2020</td>\n",
       "      <td>5515525</td>\n",
       "    </tr>\n",
       "    <tr>\n",
       "      <th>2nd</th>\n",
       "      <td>Past</td>\n",
       "      <td>20Apr2020</td>\n",
       "      <td>04May2020</td>\n",
       "      <td>5515525</td>\n",
       "    </tr>\n",
       "    <tr>\n",
       "      <th>3rd</th>\n",
       "      <td>Past</td>\n",
       "      <td>05May2020</td>\n",
       "      <td>26May2020</td>\n",
       "      <td>5515525</td>\n",
       "    </tr>\n",
       "    <tr>\n",
       "      <th>4th</th>\n",
       "      <td>Past</td>\n",
       "      <td>27May2020</td>\n",
       "      <td>18Aug2020</td>\n",
       "      <td>5515525</td>\n",
       "    </tr>\n",
       "    <tr>\n",
       "      <th>...</th>\n",
       "      <th>...</th>\n",
       "      <td>...</td>\n",
       "      <td>...</td>\n",
       "      <td>...</td>\n",
       "      <td>...</td>\n",
       "    </tr>\n",
       "    <tr>\n",
       "      <th rowspan=\"5\" valign=\"top\">Denmark</th>\n",
       "      <th>11th</th>\n",
       "      <td>Past</td>\n",
       "      <td>30Oct2020</td>\n",
       "      <td>04Nov2020</td>\n",
       "      <td>5793636</td>\n",
       "    </tr>\n",
       "    <tr>\n",
       "      <th>12th</th>\n",
       "      <td>Past</td>\n",
       "      <td>05Nov2020</td>\n",
       "      <td>11Nov2020</td>\n",
       "      <td>5793636</td>\n",
       "    </tr>\n",
       "    <tr>\n",
       "      <th>13th</th>\n",
       "      <td>Past</td>\n",
       "      <td>12Nov2020</td>\n",
       "      <td>17Nov2020</td>\n",
       "      <td>5793636</td>\n",
       "    </tr>\n",
       "    <tr>\n",
       "      <th>14th</th>\n",
       "      <td>Past</td>\n",
       "      <td>18Nov2020</td>\n",
       "      <td>23Nov2020</td>\n",
       "      <td>5793636</td>\n",
       "    </tr>\n",
       "    <tr>\n",
       "      <th>15th</th>\n",
       "      <td>Past</td>\n",
       "      <td>24Nov2020</td>\n",
       "      <td>09Dec2020</td>\n",
       "      <td>5793636</td>\n",
       "    </tr>\n",
       "  </tbody>\n",
       "</table>\n",
       "<p>96 rows × 4 columns</p>\n",
       "</div>"
      ],
      "text/plain": [
       "               Type      Start        End  Population\n",
       "Country Phase                                        \n",
       "Finland 0th    Past  16Mar2020  04Apr2020     5515525\n",
       "        1st    Past  05Apr2020  19Apr2020     5515525\n",
       "        2nd    Past  20Apr2020  04May2020     5515525\n",
       "        3rd    Past  05May2020  26May2020     5515525\n",
       "        4th    Past  27May2020  18Aug2020     5515525\n",
       "...             ...        ...        ...         ...\n",
       "Denmark 11th   Past  30Oct2020  04Nov2020     5793636\n",
       "        12th   Past  05Nov2020  11Nov2020     5793636\n",
       "        13th   Past  12Nov2020  17Nov2020     5793636\n",
       "        14th   Past  18Nov2020  23Nov2020     5793636\n",
       "        15th   Past  24Nov2020  09Dec2020     5793636\n",
       "\n",
       "[96 rows x 4 columns]"
      ]
     },
     "execution_count": 10,
     "metadata": {},
     "output_type": "execute_result"
    }
   ],
   "source": [
    "# Here, only show the countries which have the most phases\n",
    "countries_show = max(phase_len_dict.items(), key=lambda x: x[0])[1]\n",
    "# Show summary\n",
    "analyser.summary(countries=countries_show)"
   ]
  },
  {
   "cell_type": "markdown",
   "metadata": {},
   "source": [
    "## Parameter estimation\n",
    "we will estimate the parameter values with SIR-derived ODE models in each country."
   ]
  },
  {
   "cell_type": "code",
   "execution_count": 11,
   "metadata": {
    "collapsed": false,
    "tags": []
   },
   "outputs": [
    {
     "name": "stdout",
     "output_type": "stream",
     "text": [
      "\n",
      "<SIR-F model: parameter estimation>\n",
      "Running optimization with 4 CPUs...\n"
     ]
    },
    {
     "name": "stdout",
     "output_type": "stream",
     "text": [
      "\tFIN,  0th phase (16Mar2020 - 04Apr2020): finished  156 trials in 0 min 10 sec"
     ]
    },
    {
     "name": "stdout",
     "output_type": "stream",
     "text": [
      "\n"
     ]
    },
    {
     "name": "stdout",
     "output_type": "stream",
     "text": [
      "\tROU, 12th phase (12Nov2020 - 17Nov2020): finished  162 trials in 0 min 10 sec"
     ]
    },
    {
     "name": "stdout",
     "output_type": "stream",
     "text": [
      "\n"
     ]
    },
    {
     "name": "stdout",
     "output_type": "stream",
     "text": [
      "\tDNK, 15th phase (24Nov2020 - 09Dec2020): finished  155 trials in 0 min 10 sec"
     ]
    },
    {
     "name": "stdout",
     "output_type": "stream",
     "text": [
      "\n"
     ]
    },
    {
     "name": "stdout",
     "output_type": "stream",
     "text": [
      "\tDNK,  7th phase (25Sep2020 - 05Oct2020): finished  160 trials in 0 min 10 sec"
     ]
    },
    {
     "name": "stdout",
     "output_type": "stream",
     "text": [
      "\n"
     ]
    },
    {
     "name": "stdout",
     "output_type": "stream",
     "text": [
      "\tPRT,  7th phase (16Sep2020 - 01Oct2020): finished  182 trials in 0 min 10 sec"
     ]
    },
    {
     "name": "stdout",
     "output_type": "stream",
     "text": [
      "\n"
     ]
    },
    {
     "name": "stdout",
     "output_type": "stream",
     "text": [
      "\tFIN, 14th phase (26Nov2020 - 01Dec2020): finished  196 trials in 0 min 10 sec"
     ]
    },
    {
     "name": "stdout",
     "output_type": "stream",
     "text": [
      "\n"
     ]
    },
    {
     "name": "stdout",
     "output_type": "stream",
     "text": [
      "\tPRT, 15th phase (03Dec2020 - 09Dec2020): finished  164 trials in 0 min 10 sec"
     ]
    },
    {
     "name": "stdout",
     "output_type": "stream",
     "text": [
      "\n"
     ]
    },
    {
     "name": "stderr",
     "output_type": "stream",
     "text": [
      "/home/runner/.local/share/virtualenvs/covid19-sir-kT3BL-HO/lib/python3.8/site-packages/scipy/interpolate/fitpack2.py:253: UserWarning: \n",
      "The maximal number of iterations maxit (set to 20 by the program)\n",
      "allowed for finding a smoothing spline with fp=s has been reached: s\n",
      "too small.\n",
      "There is an approximation returned but the corresponding weighted sum\n",
      "of squared residuals does not satisfy the condition abs(fp-s)/s < tol.\n",
      "  warnings.warn(message)\n"
     ]
    },
    {
     "name": "stdout",
     "output_type": "stream",
     "text": [
      "\tGBR,  1st phase (07Apr2020 - 23Apr2020): finished  172 trials in 0 min 10 sec"
     ]
    },
    {
     "name": "stdout",
     "output_type": "stream",
     "text": [
      "\n"
     ]
    },
    {
     "name": "stdout",
     "output_type": "stream",
     "text": [
      "\tFRA, 10th phase (16Oct2020 - 21Oct2020): finished  135 trials in 0 min 10 sec"
     ]
    },
    {
     "name": "stdout",
     "output_type": "stream",
     "text": [
      "\n"
     ]
    },
    {
     "name": "stdout",
     "output_type": "stream",
     "text": [
      "\tPRT,  9th phase (14Oct2020 - 21Oct2020): finished  138 trials in 0 min 10 sec"
     ]
    },
    {
     "name": "stdout",
     "output_type": "stream",
     "text": [
      "\n"
     ]
    },
    {
     "name": "stdout",
     "output_type": "stream",
     "text": [
      "\tFIN, 10th phase (29Oct2020 - 04Nov2020): finished  139 trials in 0 min 10 sec"
     ]
    },
    {
     "name": "stdout",
     "output_type": "stream",
     "text": [
      "\n"
     ]
    },
    {
     "name": "stdout",
     "output_type": "stream",
     "text": [
      "\tPRT,  4th phase (19Jun2020 - 14Jul2020): finished  135 trials in 0 min 10 sec"
     ]
    },
    {
     "name": "stdout",
     "output_type": "stream",
     "text": [
      "\n"
     ]
    },
    {
     "name": "stdout",
     "output_type": "stream",
     "text": [
      "\tPRT, 11th phase (28Oct2020 - 02Nov2020): finished  186 trials in 0 min 10 sec"
     ]
    },
    {
     "name": "stdout",
     "output_type": "stream",
     "text": [
      "\n"
     ]
    },
    {
     "name": "stdout",
     "output_type": "stream",
     "text": [
      "\tFIN,  1st phase (05Apr2020 - 19Apr2020): finished  198 trials in 0 min 10 sec"
     ]
    },
    {
     "name": "stdout",
     "output_type": "stream",
     "text": [
      "\n"
     ]
    },
    {
     "name": "stdout",
     "output_type": "stream",
     "text": [
      "\tDNK,  4th phase (07Aug2020 - 05Sep2020): finished  185 trials in 0 min 10 sec"
     ]
    },
    {
     "name": "stdout",
     "output_type": "stream",
     "text": [
      "\n"
     ]
    },
    {
     "name": "stdout",
     "output_type": "stream",
     "text": [
      "\tFIN, 15th phase (02Dec2020 - 09Dec2020): finished  196 trials in 0 min 10 sec"
     ]
    },
    {
     "name": "stdout",
     "output_type": "stream",
     "text": [
      "\n"
     ]
    },
    {
     "name": "stderr",
     "output_type": "stream",
     "text": [
      "/home/runner/.local/share/virtualenvs/covid19-sir-kT3BL-HO/lib/python3.8/site-packages/scipy/interpolate/fitpack2.py:253: UserWarning: \n",
      "The maximal number of iterations maxit (set to 20 by the program)\n",
      "allowed for finding a smoothing spline with fp=s has been reached: s\n",
      "too small.\n",
      "There is an approximation returned but the corresponding weighted sum\n",
      "of squared residuals does not satisfy the condition abs(fp-s)/s < tol.\n",
      "  warnings.warn(message)\n"
     ]
    },
    {
     "name": "stderr",
     "output_type": "stream",
     "text": [
      "/home/runner/.local/share/virtualenvs/covid19-sir-kT3BL-HO/lib/python3.8/site-packages/scipy/interpolate/fitpack2.py:253: UserWarning: \n",
      "The maximal number of iterations maxit (set to 20 by the program)\n",
      "allowed for finding a smoothing spline with fp=s has been reached: s\n",
      "too small.\n",
      "There is an approximation returned but the corresponding weighted sum\n",
      "of squared residuals does not satisfy the condition abs(fp-s)/s < tol.\n",
      "  warnings.warn(message)\n"
     ]
    },
    {
     "name": "stdout",
     "output_type": "stream",
     "text": [
      "\tDNK,  9th phase (16Oct2020 - 23Oct2020): finished  211 trials in 0 min 10 sec"
     ]
    },
    {
     "name": "stdout",
     "output_type": "stream",
     "text": [
      "\n"
     ]
    },
    {
     "name": "stdout",
     "output_type": "stream",
     "text": [
      "\tFRA,  2nd phase (23Apr2020 - 08Jul2020): finished  186 trials in 0 min 10 sec"
     ]
    },
    {
     "name": "stdout",
     "output_type": "stream",
     "text": [
      "\n"
     ]
    },
    {
     "name": "stdout",
     "output_type": "stream",
     "text": [
      "\tFIN, 11th phase (05Nov2020 - 11Nov2020): finished  207 trials in 0 min 10 sec"
     ]
    },
    {
     "name": "stdout",
     "output_type": "stream",
     "text": [
      "\n"
     ]
    },
    {
     "name": "stdout",
     "output_type": "stream",
     "text": [
      "\tFRA,  6th phase (15Sep2020 - 22Sep2020): finished  205 trials in 0 min 10 sec"
     ]
    },
    {
     "name": "stdout",
     "output_type": "stream",
     "text": [
      "\n"
     ]
    },
    {
     "name": "stderr",
     "output_type": "stream",
     "text": [
      "/home/runner/.local/share/virtualenvs/covid19-sir-kT3BL-HO/lib/python3.8/site-packages/scipy/interpolate/fitpack2.py:253: UserWarning: \n",
      "The maximal number of iterations maxit (set to 20 by the program)\n",
      "allowed for finding a smoothing spline with fp=s has been reached: s\n",
      "too small.\n",
      "There is an approximation returned but the corresponding weighted sum\n",
      "of squared residuals does not satisfy the condition abs(fp-s)/s < tol.\n",
      "  warnings.warn(message)\n"
     ]
    },
    {
     "name": "stdout",
     "output_type": "stream",
     "text": [
      "\tPRT,  0th phase (14Mar2020 - 01Apr2020): finished  131 trials in 0 min 10 sec"
     ]
    },
    {
     "name": "stdout",
     "output_type": "stream",
     "text": [
      "\n"
     ]
    },
    {
     "name": "stdout",
     "output_type": "stream",
     "text": [
      "\tDNK,  0th phase (19Mar2020 - 12Apr2020): finished  131 trials in 0 min 10 sec"
     ]
    },
    {
     "name": "stdout",
     "output_type": "stream",
     "text": [
      "\n"
     ]
    },
    {
     "name": "stdout",
     "output_type": "stream",
     "text": [
      "\tFRA,  0th phase (07Feb2020 - 30Mar2020): finished  125 trials in 0 min 10 sec"
     ]
    },
    {
     "name": "stdout",
     "output_type": "stream",
     "text": [
      "\n"
     ]
    },
    {
     "name": "stdout",
     "output_type": "stream",
     "text": [
      "\tPRT, 13th phase (13Nov2020 - 22Nov2020): finished  136 trials in 0 min 10 sec"
     ]
    },
    {
     "name": "stdout",
     "output_type": "stream",
     "text": [
      "\n"
     ]
    },
    {
     "name": "stdout",
     "output_type": "stream",
     "text": [
      "\tPRT,  1st phase (02Apr2020 - 18Apr2020): finished  188 trials in 0 min 10 sec"
     ]
    },
    {
     "name": "stdout",
     "output_type": "stream",
     "text": [
      "\n"
     ]
    },
    {
     "name": "stdout",
     "output_type": "stream",
     "text": [
      "\tFIN,  6th phase (21Sep2020 - 03Oct2020): finished  196 trials in 0 min 10 sec"
     ]
    },
    {
     "name": "stdout",
     "output_type": "stream",
     "text": [
      "\n"
     ]
    },
    {
     "name": "stderr",
     "output_type": "stream",
     "text": [
      "/home/runner/.local/share/virtualenvs/covid19-sir-kT3BL-HO/lib/python3.8/site-packages/scipy/interpolate/fitpack2.py:253: UserWarning: \n",
      "The maximal number of iterations maxit (set to 20 by the program)\n",
      "allowed for finding a smoothing spline with fp=s has been reached: s\n",
      "too small.\n",
      "There is an approximation returned but the corresponding weighted sum\n",
      "of squared residuals does not satisfy the condition abs(fp-s)/s < tol.\n",
      "  warnings.warn(message)\n"
     ]
    },
    {
     "name": "stdout",
     "output_type": "stream",
     "text": [
      "\tFIN,  5th phase (19Aug2020 - 20Sep2020): finished  186 trials in 0 min 10 sec"
     ]
    },
    {
     "name": "stdout",
     "output_type": "stream",
     "text": [
      "\n"
     ]
    },
    {
     "name": "stdout",
     "output_type": "stream",
     "text": [
      "\tGBR,  0th phase (18Feb2020 - 06Apr2020): finished  191 trials in 0 min 10 sec"
     ]
    },
    {
     "name": "stdout",
     "output_type": "stream",
     "text": [
      "\n"
     ]
    },
    {
     "name": "stdout",
     "output_type": "stream",
     "text": [
      "\tFRA,  3rd phase (09Jul2020 - 18Aug2020): finished  200 trials in 0 min 10 sec"
     ]
    },
    {
     "name": "stdout",
     "output_type": "stream",
     "text": [
      "\n"
     ]
    },
    {
     "name": "stdout",
     "output_type": "stream",
     "text": [
      "\tDNK,  5th phase (06Sep2020 - 16Sep2020): finished  208 trials in 0 min 10 sec"
     ]
    },
    {
     "name": "stdout",
     "output_type": "stream",
     "text": [
      "\n"
     ]
    },
    {
     "name": "stdout",
     "output_type": "stream",
     "text": [
      "\tGBR,  6th phase (18Sep2020 - 02Oct2020): finished  222 trials in 0 min 10 sec"
     ]
    },
    {
     "name": "stdout",
     "output_type": "stream",
     "text": [
      "\n"
     ]
    },
    {
     "name": "stdout",
     "output_type": "stream",
     "text": [
      "\tGBR, 10th phase (26Oct2020 - 05Nov2020): finished  205 trials in 0 min 10 sec"
     ]
    },
    {
     "name": "stdout",
     "output_type": "stream",
     "text": [
      "\n"
     ]
    },
    {
     "name": "stdout",
     "output_type": "stream",
     "text": [
      "\tGBR,  4th phase (12Jun2020 - 16Aug2020): finished  128 trials in 0 min 10 sec"
     ]
    },
    {
     "name": "stdout",
     "output_type": "stream",
     "text": [
      "\n"
     ]
    },
    {
     "name": "stdout",
     "output_type": "stream",
     "text": [
      "\tROU, 13th phase (18Nov2020 - 24Nov2020): finished  136 trials in 0 min 10 sec"
     ]
    },
    {
     "name": "stdout",
     "output_type": "stream",
     "text": [
      "\n"
     ]
    },
    {
     "name": "stdout",
     "output_type": "stream",
     "text": [
      "\tDNK, 14th phase (18Nov2020 - 23Nov2020): finished  136 trials in 0 min 10 sec"
     ]
    },
    {
     "name": "stdout",
     "output_type": "stream",
     "text": [
      "\n"
     ]
    },
    {
     "name": "stdout",
     "output_type": "stream",
     "text": [
      "\tPRT,  6th phase (26Aug2020 - 15Sep2020): finished  132 trials in 0 min 10 sec"
     ]
    },
    {
     "name": "stdout",
     "output_type": "stream",
     "text": [
      "\n"
     ]
    },
    {
     "name": "stderr",
     "output_type": "stream",
     "text": [
      "/home/runner/.local/share/virtualenvs/covid19-sir-kT3BL-HO/lib/python3.8/site-packages/scipy/interpolate/fitpack2.py:253: UserWarning: \n",
      "The maximal number of iterations maxit (set to 20 by the program)\n",
      "allowed for finding a smoothing spline with fp=s has been reached: s\n",
      "too small.\n",
      "There is an approximation returned but the corresponding weighted sum\n",
      "of squared residuals does not satisfy the condition abs(fp-s)/s < tol.\n",
      "  warnings.warn(message)\n"
     ]
    },
    {
     "name": "stdout",
     "output_type": "stream",
     "text": [
      "\tFIN,  3rd phase (05May2020 - 26May2020): finished  146 trials in 0 min 10 sec"
     ]
    },
    {
     "name": "stdout",
     "output_type": "stream",
     "text": [
      "\n"
     ]
    },
    {
     "name": "stdout",
     "output_type": "stream",
     "text": [
      "\tPRT, 10th phase (22Oct2020 - 27Oct2020): finished  155 trials in 0 min 10 sec"
     ]
    },
    {
     "name": "stdout",
     "output_type": "stream",
     "text": [
      "\n"
     ]
    },
    {
     "name": "stdout",
     "output_type": "stream",
     "text": [
      "\tFRA,  4th phase (19Aug2020 - 02Sep2020): finished  161 trials in 0 min 10 sec"
     ]
    },
    {
     "name": "stdout",
     "output_type": "stream",
     "text": [
      "\n"
     ]
    },
    {
     "name": "stdout",
     "output_type": "stream",
     "text": [
      "\tROU,  1st phase (26Apr2020 - 25Jun2020): finished  164 trials in 0 min 10 sec"
     ]
    },
    {
     "name": "stdout",
     "output_type": "stream",
     "text": [
      "\n"
     ]
    },
    {
     "name": "stderr",
     "output_type": "stream",
     "text": [
      "/home/runner/.local/share/virtualenvs/covid19-sir-kT3BL-HO/lib/python3.8/site-packages/scipy/interpolate/fitpack2.py:253: UserWarning: \n",
      "The maximal number of iterations maxit (set to 20 by the program)\n",
      "allowed for finding a smoothing spline with fp=s has been reached: s\n",
      "too small.\n",
      "There is an approximation returned but the corresponding weighted sum\n",
      "of squared residuals does not satisfy the condition abs(fp-s)/s < tol.\n",
      "  warnings.warn(message)\n"
     ]
    },
    {
     "name": "stdout",
     "output_type": "stream",
     "text": [
      "\tGBR,  2nd phase (24Apr2020 - 11May2020): finished  189 trials in 0 min 10 sec"
     ]
    },
    {
     "name": "stdout",
     "output_type": "stream",
     "text": [
      "\n"
     ]
    },
    {
     "name": "stdout",
     "output_type": "stream",
     "text": [
      "\tROU,  0th phase (05Mar2020 - 25Apr2020): finished  177 trials in 0 min 10 sec"
     ]
    },
    {
     "name": "stdout",
     "output_type": "stream",
     "text": [
      "\n"
     ]
    },
    {
     "name": "stdout",
     "output_type": "stream",
     "text": [
      "\tROU,  7th phase (02Oct2020 - 12Oct2020): finished  169 trials in 0 min 10 sec"
     ]
    },
    {
     "name": "stdout",
     "output_type": "stream",
     "text": [
      "\n"
     ]
    },
    {
     "name": "stdout",
     "output_type": "stream",
     "text": [
      "\tFRA, 12th phase (01Nov2020 - 10Nov2020): finished  162 trials in 0 min 10 sec"
     ]
    },
    {
     "name": "stdout",
     "output_type": "stream",
     "text": [
      "\n"
     ]
    },
    {
     "name": "stdout",
     "output_type": "stream",
     "text": [
      "\tPRT, 14th phase (23Nov2020 - 02Dec2020): finished  171 trials in 0 min 10 sec"
     ]
    },
    {
     "name": "stdout",
     "output_type": "stream",
     "text": [
      "\n"
     ]
    },
    {
     "name": "stdout",
     "output_type": "stream",
     "text": [
      "\tPRT,  2nd phase (19Apr2020 - 20May2020): finished  175 trials in 0 min 10 sec"
     ]
    },
    {
     "name": "stdout",
     "output_type": "stream",
     "text": [
      "\n"
     ]
    },
    {
     "name": "stdout",
     "output_type": "stream",
     "text": [
      "\tROU,  5th phase (29Aug2020 - 15Sep2020): finished  177 trials in 0 min 10 sec"
     ]
    },
    {
     "name": "stdout",
     "output_type": "stream",
     "text": [
      "\n"
     ]
    },
    {
     "name": "stdout",
     "output_type": "stream",
     "text": [
      "\tGBR, 11th phase (06Nov2020 - 11Nov2020): finished  173 trials in 0 min 10 sec"
     ]
    },
    {
     "name": "stdout",
     "output_type": "stream",
     "text": [
      "\n"
     ]
    },
    {
     "name": "stdout",
     "output_type": "stream",
     "text": [
      "\tROU,  8th phase (13Oct2020 - 20Oct2020): finished  133 trials in 0 min 10 sec"
     ]
    },
    {
     "name": "stdout",
     "output_type": "stream",
     "text": [
      "\n"
     ]
    },
    {
     "name": "stdout",
     "output_type": "stream",
     "text": [
      "\tROU,  9th phase (21Oct2020 - 28Oct2020): finished  137 trials in 0 min 10 sec"
     ]
    },
    {
     "name": "stdout",
     "output_type": "stream",
     "text": [
      "\n"
     ]
    },
    {
     "name": "stdout",
     "output_type": "stream",
     "text": [
      "\tROU,  2nd phase (26Jun2020 - 23Jul2020): finished  138 trials in 0 min 10 sec"
     ]
    },
    {
     "name": "stdout",
     "output_type": "stream",
     "text": [
      "\n"
     ]
    },
    {
     "name": "stdout",
     "output_type": "stream",
     "text": [
      "\tFIN,  9th phase (20Oct2020 - 28Oct2020): finished  146 trials in 0 min 10 sec"
     ]
    },
    {
     "name": "stdout",
     "output_type": "stream",
     "text": [
      "\n"
     ]
    },
    {
     "name": "stdout",
     "output_type": "stream",
     "text": [
      "\tDNK, 11th phase (30Oct2020 - 04Nov2020): finished  199 trials in 0 min 10 sec"
     ]
    },
    {
     "name": "stdout",
     "output_type": "stream",
     "text": [
      "\n"
     ]
    },
    {
     "name": "stdout",
     "output_type": "stream",
     "text": [
      "\tFIN,  4th phase (27May2020 - 18Aug2020): finished  175 trials in 0 min 10 sec"
     ]
    },
    {
     "name": "stdout",
     "output_type": "stream",
     "text": [
      "\n"
     ]
    },
    {
     "name": "stdout",
     "output_type": "stream",
     "text": [
      "\tROU,  3rd phase (24Jul2020 - 10Aug2020): finished  189 trials in 0 min 10 sec"
     ]
    },
    {
     "name": "stdout",
     "output_type": "stream",
     "text": [
      "\n"
     ]
    },
    {
     "name": "stderr",
     "output_type": "stream",
     "text": [
      "/home/runner/.local/share/virtualenvs/covid19-sir-kT3BL-HO/lib/python3.8/site-packages/scipy/interpolate/fitpack2.py:253: UserWarning: \n",
      "The maximal number of iterations maxit (set to 20 by the program)\n",
      "allowed for finding a smoothing spline with fp=s has been reached: s\n",
      "too small.\n",
      "There is an approximation returned but the corresponding weighted sum\n",
      "of squared residuals does not satisfy the condition abs(fp-s)/s < tol.\n",
      "  warnings.warn(message)\n"
     ]
    },
    {
     "name": "stdout",
     "output_type": "stream",
     "text": [
      "\tDNK,  6th phase (17Sep2020 - 24Sep2020): finished  182 trials in 0 min 10 sec"
     ]
    },
    {
     "name": "stdout",
     "output_type": "stream",
     "text": [
      "\n"
     ]
    },
    {
     "name": "stdout",
     "output_type": "stream",
     "text": [
      "\tGBR,  9th phase (20Oct2020 - 25Oct2020): finished  147 trials in 0 min 10 sec"
     ]
    },
    {
     "name": "stdout",
     "output_type": "stream",
     "text": [
      "\n"
     ]
    },
    {
     "name": "stdout",
     "output_type": "stream",
     "text": [
      "\tFRA,  7th phase (23Sep2020 - 01Oct2020): finished  145 trials in 0 min 10 sec"
     ]
    },
    {
     "name": "stdout",
     "output_type": "stream",
     "text": [
      "\n"
     ]
    },
    {
     "name": "stderr",
     "output_type": "stream",
     "text": [
      "/home/runner/.local/share/virtualenvs/covid19-sir-kT3BL-HO/lib/python3.8/site-packages/scipy/interpolate/fitpack2.py:253: UserWarning: \n",
      "The maximal number of iterations maxit (set to 20 by the program)\n",
      "allowed for finding a smoothing spline with fp=s has been reached: s\n",
      "too small.\n",
      "There is an approximation returned but the corresponding weighted sum\n",
      "of squared residuals does not satisfy the condition abs(fp-s)/s < tol.\n",
      "  warnings.warn(message)\n"
     ]
    },
    {
     "name": "stdout",
     "output_type": "stream",
     "text": [
      "\tDNK,  3rd phase (12Jun2020 - 06Aug2020): finished  130 trials in 0 min 10 sec"
     ]
    },
    {
     "name": "stdout",
     "output_type": "stream",
     "text": [
      "\n"
     ]
    },
    {
     "name": "stdout",
     "output_type": "stream",
     "text": [
      "\tFIN, 12th phase (12Nov2020 - 19Nov2020): finished  144 trials in 0 min 10 sec"
     ]
    },
    {
     "name": "stdout",
     "output_type": "stream",
     "text": [
      "\n"
     ]
    },
    {
     "name": "stdout",
     "output_type": "stream",
     "text": [
      "\tFRA,  9th phase (09Oct2020 - 15Oct2020): finished  149 trials in 0 min 10 sec"
     ]
    },
    {
     "name": "stdout",
     "output_type": "stream",
     "text": [
      "\n"
     ]
    },
    {
     "name": "stdout",
     "output_type": "stream",
     "text": [
      "\tFIN,  2nd phase (20Apr2020 - 04May2020): finished  157 trials in 0 min 10 sec"
     ]
    },
    {
     "name": "stdout",
     "output_type": "stream",
     "text": [
      "\n"
     ]
    },
    {
     "name": "stdout",
     "output_type": "stream",
     "text": [
      "\tFIN, 13th phase (20Nov2020 - 25Nov2020): finished  160 trials in 0 min 10 sec"
     ]
    },
    {
     "name": "stdout",
     "output_type": "stream",
     "text": [
      "\n"
     ]
    },
    {
     "name": "stderr",
     "output_type": "stream",
     "text": [
      "/home/runner/.local/share/virtualenvs/covid19-sir-kT3BL-HO/lib/python3.8/site-packages/scipy/interpolate/fitpack2.py:253: UserWarning: \n",
      "The maximal number of iterations maxit (set to 20 by the program)\n",
      "allowed for finding a smoothing spline with fp=s has been reached: s\n",
      "too small.\n",
      "There is an approximation returned but the corresponding weighted sum\n",
      "of squared residuals does not satisfy the condition abs(fp-s)/s < tol.\n",
      "  warnings.warn(message)\n"
     ]
    },
    {
     "name": "stdout",
     "output_type": "stream",
     "text": [
      "\tDNK, 10th phase (24Oct2020 - 29Oct2020): finished  170 trials in 0 min 10 sec"
     ]
    },
    {
     "name": "stdout",
     "output_type": "stream",
     "text": [
      "\n"
     ]
    },
    {
     "name": "stderr",
     "output_type": "stream",
     "text": [
      "/home/runner/.local/share/virtualenvs/covid19-sir-kT3BL-HO/lib/python3.8/site-packages/scipy/interpolate/fitpack2.py:253: UserWarning: \n",
      "The maximal number of iterations maxit (set to 20 by the program)\n",
      "allowed for finding a smoothing spline with fp=s has been reached: s\n",
      "too small.\n",
      "There is an approximation returned but the corresponding weighted sum\n",
      "of squared residuals does not satisfy the condition abs(fp-s)/s < tol.\n",
      "  warnings.warn(message)\n"
     ]
    },
    {
     "name": "stdout",
     "output_type": "stream",
     "text": [
      "\tDNK,  1st phase (13Apr2020 - 02May2020): finished  210 trials in 0 min 10 sec"
     ]
    },
    {
     "name": "stdout",
     "output_type": "stream",
     "text": [
      "\n"
     ]
    },
    {
     "name": "stdout",
     "output_type": "stream",
     "text": [
      "\tFIN,  8th phase (12Oct2020 - 19Oct2020): finished  212 trials in 0 min 10 sec"
     ]
    },
    {
     "name": "stdout",
     "output_type": "stream",
     "text": [
      "\n"
     ]
    },
    {
     "name": "stderr",
     "output_type": "stream",
     "text": [
      "/home/runner/.local/share/virtualenvs/covid19-sir-kT3BL-HO/lib/python3.8/site-packages/scipy/interpolate/fitpack2.py:253: UserWarning: \n",
      "The maximal number of iterations maxit (set to 20 by the program)\n",
      "allowed for finding a smoothing spline with fp=s has been reached: s\n",
      "too small.\n",
      "There is an approximation returned but the corresponding weighted sum\n",
      "of squared residuals does not satisfy the condition abs(fp-s)/s < tol.\n",
      "  warnings.warn(message)\n"
     ]
    },
    {
     "name": "stdout",
     "output_type": "stream",
     "text": [
      "\tFRA,  8th phase (02Oct2020 - 08Oct2020): finished  207 trials in 0 min 10 sec"
     ]
    },
    {
     "name": "stdout",
     "output_type": "stream",
     "text": [
      "\n"
     ]
    },
    {
     "name": "stdout",
     "output_type": "stream",
     "text": [
      "\tFRA,  1st phase (31Mar2020 - 22Apr2020): finished  195 trials in 0 min 10 sec"
     ]
    },
    {
     "name": "stdout",
     "output_type": "stream",
     "text": [
      "\n"
     ]
    },
    {
     "name": "stdout",
     "output_type": "stream",
     "text": [
      "\tFRA, 11th phase (22Oct2020 - 31Oct2020): finished  144 trials in 0 min 10 sec"
     ]
    },
    {
     "name": "stdout",
     "output_type": "stream",
     "text": [
      "\n"
     ]
    },
    {
     "name": "stdout",
     "output_type": "stream",
     "text": [
      "\tPRT,  3rd phase (21May2020 - 18Jun2020): finished  130 trials in 0 min 10 sec"
     ]
    },
    {
     "name": "stdout",
     "output_type": "stream",
     "text": [
      "\n"
     ]
    },
    {
     "name": "stdout",
     "output_type": "stream",
     "text": [
      "\tPRT, 12th phase (03Nov2020 - 12Nov2020): finished  133 trials in 0 min 10 sec"
     ]
    },
    {
     "name": "stdout",
     "output_type": "stream",
     "text": [
      "\n"
     ]
    },
    {
     "name": "stdout",
     "output_type": "stream",
     "text": [
      "\tROU, 14th phase (25Nov2020 - 01Dec2020): finished  141 trials in 0 min 10 sec"
     ]
    },
    {
     "name": "stdout",
     "output_type": "stream",
     "text": [
      "\n"
     ]
    },
    {
     "name": "stdout",
     "output_type": "stream",
     "text": [
      "\tPRT,  5th phase (15Jul2020 - 25Aug2020): finished  227 trials in 0 min 10 sec"
     ]
    },
    {
     "name": "stdout",
     "output_type": "stream",
     "text": [
      "\n"
     ]
    },
    {
     "name": "stdout",
     "output_type": "stream",
     "text": [
      "\tPRT,  8th phase (02Oct2020 - 13Oct2020): finished  235 trials in 0 min 10 sec"
     ]
    },
    {
     "name": "stdout",
     "output_type": "stream",
     "text": [
      "\n"
     ]
    },
    {
     "name": "stderr",
     "output_type": "stream",
     "text": [
      "/home/runner/.local/share/virtualenvs/covid19-sir-kT3BL-HO/lib/python3.8/site-packages/scipy/interpolate/fitpack2.py:253: UserWarning: \n",
      "The maximal number of iterations maxit (set to 20 by the program)\n",
      "allowed for finding a smoothing spline with fp=s has been reached: s\n",
      "too small.\n",
      "There is an approximation returned but the corresponding weighted sum\n",
      "of squared residuals does not satisfy the condition abs(fp-s)/s < tol.\n",
      "  warnings.warn(message)\n"
     ]
    },
    {
     "name": "stdout",
     "output_type": "stream",
     "text": [
      "\tFRA, 14th phase (24Nov2020 - 01Dec2020): finished  263 trials in 0 min 10 sec"
     ]
    },
    {
     "name": "stdout",
     "output_type": "stream",
     "text": [
      "\n"
     ]
    },
    {
     "name": "stdout",
     "output_type": "stream",
     "text": [
      "\tGBR,  7th phase (03Oct2020 - 11Oct2020): finished  270 trials in 0 min 10 sec"
     ]
    },
    {
     "name": "stdout",
     "output_type": "stream",
     "text": [
      "\n"
     ]
    },
    {
     "name": "stderr",
     "output_type": "stream",
     "text": [
      "/home/runner/.local/share/virtualenvs/covid19-sir-kT3BL-HO/lib/python3.8/site-packages/scipy/interpolate/fitpack2.py:253: UserWarning: \n",
      "The maximal number of iterations maxit (set to 20 by the program)\n",
      "allowed for finding a smoothing spline with fp=s has been reached: s\n",
      "too small.\n",
      "There is an approximation returned but the corresponding weighted sum\n",
      "of squared residuals does not satisfy the condition abs(fp-s)/s < tol.\n",
      "  warnings.warn(message)\n"
     ]
    },
    {
     "name": "stdout",
     "output_type": "stream",
     "text": [
      "\tGBR,  3rd phase (12May2020 - 11Jun2020): finished  252 trials in 0 min 10 sec"
     ]
    },
    {
     "name": "stdout",
     "output_type": "stream",
     "text": [
      "\n"
     ]
    },
    {
     "name": "stdout",
     "output_type": "stream",
     "text": [
      "\tFRA, 13th phase (11Nov2020 - 23Nov2020): finished  262 trials in 0 min 10 sec"
     ]
    },
    {
     "name": "stdout",
     "output_type": "stream",
     "text": [
      "\n"
     ]
    },
    {
     "name": "stdout",
     "output_type": "stream",
     "text": [
      "\tDNK,  2nd phase (03May2020 - 11Jun2020): finished  170 trials in 0 min 10 sec"
     ]
    },
    {
     "name": "stdout",
     "output_type": "stream",
     "text": [
      "\n"
     ]
    },
    {
     "name": "stdout",
     "output_type": "stream",
     "text": [
      "\tGBR,  5th phase (17Aug2020 - 17Sep2020): finished  167 trials in 0 min 10 sec"
     ]
    },
    {
     "name": "stdout",
     "output_type": "stream",
     "text": [
      "\n"
     ]
    },
    {
     "name": "stderr",
     "output_type": "stream",
     "text": [
      "/home/runner/.local/share/virtualenvs/covid19-sir-kT3BL-HO/lib/python3.8/site-packages/scipy/interpolate/fitpack2.py:253: UserWarning: \n",
      "The maximal number of iterations maxit (set to 20 by the program)\n",
      "allowed for finding a smoothing spline with fp=s has been reached: s\n",
      "too small.\n",
      "There is an approximation returned but the corresponding weighted sum\n",
      "of squared residuals does not satisfy the condition abs(fp-s)/s < tol.\n",
      "  warnings.warn(message)\n"
     ]
    },
    {
     "name": "stdout",
     "output_type": "stream",
     "text": [
      "\tFIN,  7th phase (04Oct2020 - 11Oct2020): finished  262 trials in 0 min 10 sec"
     ]
    },
    {
     "name": "stdout",
     "output_type": "stream",
     "text": [
      "\n"
     ]
    },
    {
     "name": "stdout",
     "output_type": "stream",
     "text": [
      "\tFRA,  5th phase (03Sep2020 - 14Sep2020): finished  264 trials in 0 min 10 sec"
     ]
    },
    {
     "name": "stdout",
     "output_type": "stream",
     "text": [
      "\n"
     ]
    },
    {
     "name": "stdout",
     "output_type": "stream",
     "text": [
      "\tROU,  4th phase (11Aug2020 - 28Aug2020): finished  282 trials in 0 min 10 sec"
     ]
    },
    {
     "name": "stdout",
     "output_type": "stream",
     "text": [
      "\n"
     ]
    },
    {
     "name": "stdout",
     "output_type": "stream",
     "text": [
      "\tDNK,  8th phase (06Oct2020 - 15Oct2020): finished  285 trials in 0 min 10 sec"
     ]
    },
    {
     "name": "stdout",
     "output_type": "stream",
     "text": [
      "\n"
     ]
    },
    {
     "name": "stdout",
     "output_type": "stream",
     "text": [
      "Completed optimization. Total: 4 min 36 sec\n"
     ]
    }
   ],
   "source": [
    "# Parameter estimation with SIR-F model\n",
    "analyser.estimate(cs.SIRF, timeout=10)"
   ]
  },
  {
   "cell_type": "code",
   "execution_count": 12,
   "metadata": {
    "collapsed": false
   },
   "outputs": [
    {
     "data": {
      "text/html": [
       "<div>\n",
       "<style scoped>\n",
       "    .dataframe tbody tr th:only-of-type {\n",
       "        vertical-align: middle;\n",
       "    }\n",
       "\n",
       "    .dataframe tbody tr th {\n",
       "        vertical-align: top;\n",
       "    }\n",
       "\n",
       "    .dataframe thead th {\n",
       "        text-align: right;\n",
       "    }\n",
       "</style>\n",
       "<table border=\"1\" class=\"dataframe\">\n",
       "  <thead>\n",
       "    <tr style=\"text-align: right;\">\n",
       "      <th></th>\n",
       "      <th></th>\n",
       "      <th>Type</th>\n",
       "      <th>Start</th>\n",
       "      <th>End</th>\n",
       "      <th>Population</th>\n",
       "      <th>ODE</th>\n",
       "      <th>Rt</th>\n",
       "      <th>theta</th>\n",
       "      <th>kappa</th>\n",
       "      <th>rho</th>\n",
       "      <th>sigma</th>\n",
       "      <th>tau</th>\n",
       "      <th>1/beta [day]</th>\n",
       "      <th>1/gamma [day]</th>\n",
       "      <th>alpha1 [-]</th>\n",
       "      <th>1/alpha2 [day]</th>\n",
       "      <th>RMSLE</th>\n",
       "      <th>Trials</th>\n",
       "      <th>Runtime</th>\n",
       "    </tr>\n",
       "    <tr>\n",
       "      <th>Country</th>\n",
       "      <th>Phase</th>\n",
       "      <th></th>\n",
       "      <th></th>\n",
       "      <th></th>\n",
       "      <th></th>\n",
       "      <th></th>\n",
       "      <th></th>\n",
       "      <th></th>\n",
       "      <th></th>\n",
       "      <th></th>\n",
       "      <th></th>\n",
       "      <th></th>\n",
       "      <th></th>\n",
       "      <th></th>\n",
       "      <th></th>\n",
       "      <th></th>\n",
       "      <th></th>\n",
       "      <th></th>\n",
       "      <th></th>\n",
       "    </tr>\n",
       "  </thead>\n",
       "  <tbody>\n",
       "    <tr>\n",
       "      <th rowspan=\"5\" valign=\"top\">Finland</th>\n",
       "      <th>0th</th>\n",
       "      <td>Past</td>\n",
       "      <td>16Mar2020</td>\n",
       "      <td>04Apr2020</td>\n",
       "      <td>5515525</td>\n",
       "      <td>SIR-F</td>\n",
       "      <td>101.31</td>\n",
       "      <td>0.001072</td>\n",
       "      <td>7.93546e-05</td>\n",
       "      <td>0.0218232</td>\n",
       "      <td>0.000135819</td>\n",
       "      <td>360</td>\n",
       "      <td>11</td>\n",
       "      <td>1840</td>\n",
       "      <td>0.001</td>\n",
       "      <td>3150</td>\n",
       "      <td>0.672601</td>\n",
       "      <td>156</td>\n",
       "      <td>0 min 10 sec</td>\n",
       "    </tr>\n",
       "    <tr>\n",
       "      <th>1st</th>\n",
       "      <td>Past</td>\n",
       "      <td>05Apr2020</td>\n",
       "      <td>19Apr2020</td>\n",
       "      <td>5515525</td>\n",
       "      <td>SIR-F</td>\n",
       "      <td>2.84</td>\n",
       "      <td>0.0201457</td>\n",
       "      <td>0.000237264</td>\n",
       "      <td>0.0150962</td>\n",
       "      <td>0.00497314</td>\n",
       "      <td>360</td>\n",
       "      <td>16</td>\n",
       "      <td>50</td>\n",
       "      <td>0.02</td>\n",
       "      <td>1053</td>\n",
       "      <td>0.286839</td>\n",
       "      <td>198</td>\n",
       "      <td>0 min 10 sec</td>\n",
       "    </tr>\n",
       "    <tr>\n",
       "      <th>2nd</th>\n",
       "      <td>Past</td>\n",
       "      <td>20Apr2020</td>\n",
       "      <td>04May2020</td>\n",
       "      <td>5515525</td>\n",
       "      <td>SIR-F</td>\n",
       "      <td>1.01</td>\n",
       "      <td>0.0635399</td>\n",
       "      <td>0.000517433</td>\n",
       "      <td>0.0141411</td>\n",
       "      <td>0.012608</td>\n",
       "      <td>360</td>\n",
       "      <td>17</td>\n",
       "      <td>19</td>\n",
       "      <td>0.064</td>\n",
       "      <td>483</td>\n",
       "      <td>0.0858668</td>\n",
       "      <td>157</td>\n",
       "      <td>0 min 10 sec</td>\n",
       "    </tr>\n",
       "    <tr>\n",
       "      <th>3rd</th>\n",
       "      <td>Past</td>\n",
       "      <td>05May2020</td>\n",
       "      <td>26May2020</td>\n",
       "      <td>5515525</td>\n",
       "      <td>SIR-F</td>\n",
       "      <td>0.4</td>\n",
       "      <td>0.061668</td>\n",
       "      <td>0.000109302</td>\n",
       "      <td>0.00748359</td>\n",
       "      <td>0.0172636</td>\n",
       "      <td>360</td>\n",
       "      <td>33</td>\n",
       "      <td>14</td>\n",
       "      <td>0.062</td>\n",
       "      <td>2287</td>\n",
       "      <td>0.142942</td>\n",
       "      <td>146</td>\n",
       "      <td>0 min 10 sec</td>\n",
       "    </tr>\n",
       "    <tr>\n",
       "      <th>4th</th>\n",
       "      <td>Past</td>\n",
       "      <td>27May2020</td>\n",
       "      <td>18Aug2020</td>\n",
       "      <td>5515525</td>\n",
       "      <td>SIR-F</td>\n",
       "      <td>0.6</td>\n",
       "      <td>0.113093</td>\n",
       "      <td>0.000233778</td>\n",
       "      <td>0.00942149</td>\n",
       "      <td>0.0137532</td>\n",
       "      <td>360</td>\n",
       "      <td>26</td>\n",
       "      <td>18</td>\n",
       "      <td>0.113</td>\n",
       "      <td>1069</td>\n",
       "      <td>0.398719</td>\n",
       "      <td>175</td>\n",
       "      <td>0 min 10 sec</td>\n",
       "    </tr>\n",
       "    <tr>\n",
       "      <th>...</th>\n",
       "      <th>...</th>\n",
       "      <td>...</td>\n",
       "      <td>...</td>\n",
       "      <td>...</td>\n",
       "      <td>...</td>\n",
       "      <td>...</td>\n",
       "      <td>...</td>\n",
       "      <td>...</td>\n",
       "      <td>...</td>\n",
       "      <td>...</td>\n",
       "      <td>...</td>\n",
       "      <td>...</td>\n",
       "      <td>...</td>\n",
       "      <td>...</td>\n",
       "      <td>...</td>\n",
       "      <td>...</td>\n",
       "      <td>...</td>\n",
       "      <td>...</td>\n",
       "      <td>...</td>\n",
       "    </tr>\n",
       "    <tr>\n",
       "      <th rowspan=\"5\" valign=\"top\">Denmark</th>\n",
       "      <th>11th</th>\n",
       "      <td>Past</td>\n",
       "      <td>30Oct2020</td>\n",
       "      <td>04Nov2020</td>\n",
       "      <td>5793636</td>\n",
       "      <td>SIR-F</td>\n",
       "      <td>1.81</td>\n",
       "      <td>0.00118261</td>\n",
       "      <td>7.11254e-05</td>\n",
       "      <td>0.0199418</td>\n",
       "      <td>0.0109549</td>\n",
       "      <td>360</td>\n",
       "      <td>12</td>\n",
       "      <td>22</td>\n",
       "      <td>0.001</td>\n",
       "      <td>3514</td>\n",
       "      <td>0.0225527</td>\n",
       "      <td>199</td>\n",
       "      <td>0 min 10 sec</td>\n",
       "    </tr>\n",
       "    <tr>\n",
       "      <th>12th</th>\n",
       "      <td>Past</td>\n",
       "      <td>05Nov2020</td>\n",
       "      <td>11Nov2020</td>\n",
       "      <td>5793636</td>\n",
       "      <td>-</td>\n",
       "      <td>-</td>\n",
       "      <td>-</td>\n",
       "      <td>-</td>\n",
       "      <td>-</td>\n",
       "      <td>-</td>\n",
       "      <td>-</td>\n",
       "      <td>-</td>\n",
       "      <td>-</td>\n",
       "      <td>-</td>\n",
       "      <td>-</td>\n",
       "      <td>-</td>\n",
       "      <td>-</td>\n",
       "      <td>-</td>\n",
       "    </tr>\n",
       "    <tr>\n",
       "      <th>13th</th>\n",
       "      <td>Past</td>\n",
       "      <td>12Nov2020</td>\n",
       "      <td>17Nov2020</td>\n",
       "      <td>5793636</td>\n",
       "      <td>-</td>\n",
       "      <td>-</td>\n",
       "      <td>-</td>\n",
       "      <td>-</td>\n",
       "      <td>-</td>\n",
       "      <td>-</td>\n",
       "      <td>-</td>\n",
       "      <td>-</td>\n",
       "      <td>-</td>\n",
       "      <td>-</td>\n",
       "      <td>-</td>\n",
       "      <td>-</td>\n",
       "      <td>-</td>\n",
       "      <td>-</td>\n",
       "    </tr>\n",
       "    <tr>\n",
       "      <th>14th</th>\n",
       "      <td>Past</td>\n",
       "      <td>18Nov2020</td>\n",
       "      <td>23Nov2020</td>\n",
       "      <td>5793636</td>\n",
       "      <td>SIR-F</td>\n",
       "      <td>1.42</td>\n",
       "      <td>0.0374416</td>\n",
       "      <td>5.4333e-05</td>\n",
       "      <td>0.0222434</td>\n",
       "      <td>0.0150448</td>\n",
       "      <td>360</td>\n",
       "      <td>11</td>\n",
       "      <td>16</td>\n",
       "      <td>0.037</td>\n",
       "      <td>4601</td>\n",
       "      <td>0.0964618</td>\n",
       "      <td>136</td>\n",
       "      <td>0 min 10 sec</td>\n",
       "    </tr>\n",
       "    <tr>\n",
       "      <th>15th</th>\n",
       "      <td>Past</td>\n",
       "      <td>24Nov2020</td>\n",
       "      <td>09Dec2020</td>\n",
       "      <td>5793636</td>\n",
       "      <td>SIR-F</td>\n",
       "      <td>1.17</td>\n",
       "      <td>0.00180544</td>\n",
       "      <td>0.000895908</td>\n",
       "      <td>0.0202689</td>\n",
       "      <td>0.0163557</td>\n",
       "      <td>360</td>\n",
       "      <td>12</td>\n",
       "      <td>15</td>\n",
       "      <td>0.002</td>\n",
       "      <td>279</td>\n",
       "      <td>0.23818</td>\n",
       "      <td>155</td>\n",
       "      <td>0 min 10 sec</td>\n",
       "    </tr>\n",
       "  </tbody>\n",
       "</table>\n",
       "<p>96 rows × 18 columns</p>\n",
       "</div>"
      ],
      "text/plain": [
       "               Type      Start        End  Population    ODE      Rt  \\\n",
       "Country Phase                                                          \n",
       "Finland 0th    Past  16Mar2020  04Apr2020     5515525  SIR-F  101.31   \n",
       "        1st    Past  05Apr2020  19Apr2020     5515525  SIR-F    2.84   \n",
       "        2nd    Past  20Apr2020  04May2020     5515525  SIR-F    1.01   \n",
       "        3rd    Past  05May2020  26May2020     5515525  SIR-F     0.4   \n",
       "        4th    Past  27May2020  18Aug2020     5515525  SIR-F     0.6   \n",
       "...             ...        ...        ...         ...    ...     ...   \n",
       "Denmark 11th   Past  30Oct2020  04Nov2020     5793636  SIR-F    1.81   \n",
       "        12th   Past  05Nov2020  11Nov2020     5793636      -       -   \n",
       "        13th   Past  12Nov2020  17Nov2020     5793636      -       -   \n",
       "        14th   Past  18Nov2020  23Nov2020     5793636  SIR-F    1.42   \n",
       "        15th   Past  24Nov2020  09Dec2020     5793636  SIR-F    1.17   \n",
       "\n",
       "                    theta        kappa         rho        sigma  tau  \\\n",
       "Country Phase                                                          \n",
       "Finland 0th      0.001072  7.93546e-05   0.0218232  0.000135819  360   \n",
       "        1st     0.0201457  0.000237264   0.0150962   0.00497314  360   \n",
       "        2nd     0.0635399  0.000517433   0.0141411     0.012608  360   \n",
       "        3rd      0.061668  0.000109302  0.00748359    0.0172636  360   \n",
       "        4th      0.113093  0.000233778  0.00942149    0.0137532  360   \n",
       "...                   ...          ...         ...          ...  ...   \n",
       "Denmark 11th   0.00118261  7.11254e-05   0.0199418    0.0109549  360   \n",
       "        12th            -            -           -            -    -   \n",
       "        13th            -            -           -            -    -   \n",
       "        14th    0.0374416   5.4333e-05   0.0222434    0.0150448  360   \n",
       "        15th   0.00180544  0.000895908   0.0202689    0.0163557  360   \n",
       "\n",
       "              1/beta [day] 1/gamma [day] alpha1 [-] 1/alpha2 [day]      RMSLE  \\\n",
       "Country Phase                                                                   \n",
       "Finland 0th             11          1840      0.001           3150   0.672601   \n",
       "        1st             16            50       0.02           1053   0.286839   \n",
       "        2nd             17            19      0.064            483  0.0858668   \n",
       "        3rd             33            14      0.062           2287   0.142942   \n",
       "        4th             26            18      0.113           1069   0.398719   \n",
       "...                    ...           ...        ...            ...        ...   \n",
       "Denmark 11th            12            22      0.001           3514  0.0225527   \n",
       "        12th             -             -          -              -          -   \n",
       "        13th             -             -          -              -          -   \n",
       "        14th            11            16      0.037           4601  0.0964618   \n",
       "        15th            12            15      0.002            279    0.23818   \n",
       "\n",
       "              Trials       Runtime  \n",
       "Country Phase                       \n",
       "Finland 0th      156  0 min 10 sec  \n",
       "        1st      198  0 min 10 sec  \n",
       "        2nd      157  0 min 10 sec  \n",
       "        3rd      146  0 min 10 sec  \n",
       "        4th      175  0 min 10 sec  \n",
       "...              ...           ...  \n",
       "Denmark 11th     199  0 min 10 sec  \n",
       "        12th       -             -  \n",
       "        13th       -             -  \n",
       "        14th     136  0 min 10 sec  \n",
       "        15th     155  0 min 10 sec  \n",
       "\n",
       "[96 rows x 18 columns]"
      ]
     },
     "execution_count": 12,
     "metadata": {},
     "output_type": "execute_result"
    }
   ],
   "source": [
    "# Show summary\n",
    "analyser.summary(countries=countries_show)"
   ]
  },
  {
   "cell_type": "markdown",
   "metadata": {},
   "source": [
    "## Compare the history of parameters\n",
    "Here, compare the history of parameter values if countries."
   ]
  },
  {
   "cell_type": "code",
   "execution_count": 13,
   "metadata": {
    "collapsed": false
   },
   "outputs": [
    {
     "data": {
      "text/html": [
       "<div>\n",
       "<style scoped>\n",
       "    .dataframe tbody tr th:only-of-type {\n",
       "        vertical-align: middle;\n",
       "    }\n",
       "\n",
       "    .dataframe tbody tr th {\n",
       "        vertical-align: top;\n",
       "    }\n",
       "\n",
       "    .dataframe thead th {\n",
       "        text-align: right;\n",
       "    }\n",
       "</style>\n",
       "<table border=\"1\" class=\"dataframe\">\n",
       "  <thead>\n",
       "    <tr style=\"text-align: right;\">\n",
       "      <th></th>\n",
       "      <th>Date</th>\n",
       "      <th>Country</th>\n",
       "      <th>theta</th>\n",
       "      <th>kappa</th>\n",
       "      <th>rho</th>\n",
       "      <th>sigma</th>\n",
       "      <th>alpha1 [-]</th>\n",
       "      <th>1/alpha2 [day]</th>\n",
       "      <th>1/beta [day]</th>\n",
       "      <th>1/gamma [day]</th>\n",
       "      <th>...</th>\n",
       "      <th>Cancel_events</th>\n",
       "      <th>Gatherings_restrictions</th>\n",
       "      <th>Transport_closing</th>\n",
       "      <th>Stay_home_restrictions</th>\n",
       "      <th>Internal_movement_restrictions</th>\n",
       "      <th>International_movement_restrictions</th>\n",
       "      <th>Information_campaigns</th>\n",
       "      <th>Testing_policy</th>\n",
       "      <th>Contact_tracing</th>\n",
       "      <th>Stringency_index</th>\n",
       "    </tr>\n",
       "  </thead>\n",
       "  <tbody>\n",
       "    <tr>\n",
       "      <th>0</th>\n",
       "      <td>2020-03-16</td>\n",
       "      <td>Finland</td>\n",
       "      <td>0.001072</td>\n",
       "      <td>7.93546e-05</td>\n",
       "      <td>0.0218232</td>\n",
       "      <td>0.000135819</td>\n",
       "      <td>0.001</td>\n",
       "      <td>3150</td>\n",
       "      <td>11</td>\n",
       "      <td>1840</td>\n",
       "      <td>...</td>\n",
       "      <td>2</td>\n",
       "      <td>4</td>\n",
       "      <td>0</td>\n",
       "      <td>1</td>\n",
       "      <td>1</td>\n",
       "      <td>4</td>\n",
       "      <td>2</td>\n",
       "      <td>1</td>\n",
       "      <td>1</td>\n",
       "      <td>57.41</td>\n",
       "    </tr>\n",
       "    <tr>\n",
       "      <th>1</th>\n",
       "      <td>2020-03-17</td>\n",
       "      <td>Finland</td>\n",
       "      <td>0.001072</td>\n",
       "      <td>7.93546e-05</td>\n",
       "      <td>0.0218232</td>\n",
       "      <td>0.000135819</td>\n",
       "      <td>0.001</td>\n",
       "      <td>3150</td>\n",
       "      <td>11</td>\n",
       "      <td>1840</td>\n",
       "      <td>...</td>\n",
       "      <td>2</td>\n",
       "      <td>4</td>\n",
       "      <td>0</td>\n",
       "      <td>1</td>\n",
       "      <td>1</td>\n",
       "      <td>4</td>\n",
       "      <td>2</td>\n",
       "      <td>1</td>\n",
       "      <td>1</td>\n",
       "      <td>57.41</td>\n",
       "    </tr>\n",
       "    <tr>\n",
       "      <th>2</th>\n",
       "      <td>2020-03-18</td>\n",
       "      <td>Finland</td>\n",
       "      <td>0.001072</td>\n",
       "      <td>7.93546e-05</td>\n",
       "      <td>0.0218232</td>\n",
       "      <td>0.000135819</td>\n",
       "      <td>0.001</td>\n",
       "      <td>3150</td>\n",
       "      <td>11</td>\n",
       "      <td>1840</td>\n",
       "      <td>...</td>\n",
       "      <td>2</td>\n",
       "      <td>4</td>\n",
       "      <td>0</td>\n",
       "      <td>1</td>\n",
       "      <td>1</td>\n",
       "      <td>4</td>\n",
       "      <td>2</td>\n",
       "      <td>1</td>\n",
       "      <td>1</td>\n",
       "      <td>64.81</td>\n",
       "    </tr>\n",
       "    <tr>\n",
       "      <th>3</th>\n",
       "      <td>2020-03-19</td>\n",
       "      <td>Finland</td>\n",
       "      <td>0.001072</td>\n",
       "      <td>7.93546e-05</td>\n",
       "      <td>0.0218232</td>\n",
       "      <td>0.000135819</td>\n",
       "      <td>0.001</td>\n",
       "      <td>3150</td>\n",
       "      <td>11</td>\n",
       "      <td>1840</td>\n",
       "      <td>...</td>\n",
       "      <td>2</td>\n",
       "      <td>4</td>\n",
       "      <td>0</td>\n",
       "      <td>1</td>\n",
       "      <td>1</td>\n",
       "      <td>4</td>\n",
       "      <td>2</td>\n",
       "      <td>1</td>\n",
       "      <td>1</td>\n",
       "      <td>64.81</td>\n",
       "    </tr>\n",
       "    <tr>\n",
       "      <th>4</th>\n",
       "      <td>2020-03-20</td>\n",
       "      <td>Finland</td>\n",
       "      <td>0.001072</td>\n",
       "      <td>7.93546e-05</td>\n",
       "      <td>0.0218232</td>\n",
       "      <td>0.000135819</td>\n",
       "      <td>0.001</td>\n",
       "      <td>3150</td>\n",
       "      <td>11</td>\n",
       "      <td>1840</td>\n",
       "      <td>...</td>\n",
       "      <td>2</td>\n",
       "      <td>4</td>\n",
       "      <td>0</td>\n",
       "      <td>1</td>\n",
       "      <td>1</td>\n",
       "      <td>4</td>\n",
       "      <td>2</td>\n",
       "      <td>1</td>\n",
       "      <td>1</td>\n",
       "      <td>64.81</td>\n",
       "    </tr>\n",
       "  </tbody>\n",
       "</table>\n",
       "<p>5 rows × 23 columns</p>\n",
       "</div>"
      ],
      "text/plain": [
       "        Date  Country     theta        kappa        rho        sigma  \\\n",
       "0 2020-03-16  Finland  0.001072  7.93546e-05  0.0218232  0.000135819   \n",
       "1 2020-03-17  Finland  0.001072  7.93546e-05  0.0218232  0.000135819   \n",
       "2 2020-03-18  Finland  0.001072  7.93546e-05  0.0218232  0.000135819   \n",
       "3 2020-03-19  Finland  0.001072  7.93546e-05  0.0218232  0.000135819   \n",
       "4 2020-03-20  Finland  0.001072  7.93546e-05  0.0218232  0.000135819   \n",
       "\n",
       "  alpha1 [-] 1/alpha2 [day] 1/beta [day] 1/gamma [day]  ... Cancel_events  \\\n",
       "0      0.001           3150           11          1840  ...             2   \n",
       "1      0.001           3150           11          1840  ...             2   \n",
       "2      0.001           3150           11          1840  ...             2   \n",
       "3      0.001           3150           11          1840  ...             2   \n",
       "4      0.001           3150           11          1840  ...             2   \n",
       "\n",
       "   Gatherings_restrictions  Transport_closing  Stay_home_restrictions  \\\n",
       "0                        4                  0                       1   \n",
       "1                        4                  0                       1   \n",
       "2                        4                  0                       1   \n",
       "3                        4                  0                       1   \n",
       "4                        4                  0                       1   \n",
       "\n",
       "   Internal_movement_restrictions  International_movement_restrictions  \\\n",
       "0                               1                                    4   \n",
       "1                               1                                    4   \n",
       "2                               1                                    4   \n",
       "3                               1                                    4   \n",
       "4                               1                                    4   \n",
       "\n",
       "   Information_campaigns  Testing_policy  Contact_tracing  Stringency_index  \n",
       "0                      2               1                1             57.41  \n",
       "1                      2               1                1             57.41  \n",
       "2                      2               1                1             64.81  \n",
       "3                      2               1                1             64.81  \n",
       "4                      2               1                1             64.81  \n",
       "\n",
       "[5 rows x 23 columns]"
      ]
     },
     "execution_count": 13,
     "metadata": {},
     "output_type": "execute_result"
    }
   ],
   "source": [
    "# All parameter/day parameter/Rt/OxCGRT\n",
    "analyser.track().head()"
   ]
  },
  {
   "cell_type": "markdown",
   "metadata": {},
   "source": [
    "### $Rt$: Reprodcution number $\\mathrm{[-]}$"
   ]
  },
  {
   "cell_type": "code",
   "execution_count": 14,
   "metadata": {
    "collapsed": false
   },
   "outputs": [
    {
     "data": {
      "image/png": "[encoded data removed]",
      "text/plain": [
       "<Figure size 648x432 with 1 Axes>"
      ]
     },
     "metadata": {},
     "output_type": "display_data"
    },
    {
     "data": {
      "text/html": [
       "<div>\n",
       "<style scoped>\n",
       "    .dataframe tbody tr th:only-of-type {\n",
       "        vertical-align: middle;\n",
       "    }\n",
       "\n",
       "    .dataframe tbody tr th {\n",
       "        vertical-align: top;\n",
       "    }\n",
       "\n",
       "    .dataframe thead th {\n",
       "        text-align: right;\n",
       "    }\n",
       "</style>\n",
       "<table border=\"1\" class=\"dataframe\">\n",
       "  <thead>\n",
       "    <tr style=\"text-align: right;\">\n",
       "      <th>Country</th>\n",
       "      <th>Denmark</th>\n",
       "      <th>Finland</th>\n",
       "      <th>France</th>\n",
       "      <th>Portugal</th>\n",
       "      <th>Romania</th>\n",
       "      <th>United Kingdom</th>\n",
       "    </tr>\n",
       "    <tr>\n",
       "      <th>Date</th>\n",
       "      <th></th>\n",
       "      <th></th>\n",
       "      <th></th>\n",
       "      <th></th>\n",
       "      <th></th>\n",
       "      <th></th>\n",
       "    </tr>\n",
       "  </thead>\n",
       "  <tbody>\n",
       "    <tr>\n",
       "      <th>2020-12-05</th>\n",
       "      <td>1.17</td>\n",
       "      <td>2.39</td>\n",
       "      <td>0.44</td>\n",
       "      <td>1.1</td>\n",
       "      <td>0.88</td>\n",
       "      <td>0.96</td>\n",
       "    </tr>\n",
       "    <tr>\n",
       "      <th>2020-12-06</th>\n",
       "      <td>1.17</td>\n",
       "      <td>2.39</td>\n",
       "      <td>0.44</td>\n",
       "      <td>1.1</td>\n",
       "      <td>0.88</td>\n",
       "      <td>0.96</td>\n",
       "    </tr>\n",
       "    <tr>\n",
       "      <th>2020-12-07</th>\n",
       "      <td>1.17</td>\n",
       "      <td>2.39</td>\n",
       "      <td>0.44</td>\n",
       "      <td>1.1</td>\n",
       "      <td>0.88</td>\n",
       "      <td>0.96</td>\n",
       "    </tr>\n",
       "    <tr>\n",
       "      <th>2020-12-08</th>\n",
       "      <td>1.17</td>\n",
       "      <td>2.39</td>\n",
       "      <td>0.44</td>\n",
       "      <td>1.1</td>\n",
       "      <td>0.88</td>\n",
       "      <td>0.96</td>\n",
       "    </tr>\n",
       "    <tr>\n",
       "      <th>2020-12-09</th>\n",
       "      <td>1.17</td>\n",
       "      <td>2.39</td>\n",
       "      <td>0.44</td>\n",
       "      <td>1.1</td>\n",
       "      <td>0.88</td>\n",
       "      <td>0.96</td>\n",
       "    </tr>\n",
       "  </tbody>\n",
       "</table>\n",
       "</div>"
      ],
      "text/plain": [
       "Country     Denmark  Finland  France  Portugal  Romania  United Kingdom\n",
       "Date                                                                   \n",
       "2020-12-05     1.17     2.39    0.44       1.1     0.88            0.96\n",
       "2020-12-06     1.17     2.39    0.44       1.1     0.88            0.96\n",
       "2020-12-07     1.17     2.39    0.44       1.1     0.88            0.96\n",
       "2020-12-08     1.17     2.39    0.44       1.1     0.88            0.96\n",
       "2020-12-09     1.17     2.39    0.44       1.1     0.88            0.96"
      ]
     },
     "execution_count": 14,
     "metadata": {},
     "output_type": "execute_result"
    }
   ],
   "source": [
    "analyser.history(\"Rt\", roll_window=None).tail()"
   ]
  },
  {
   "cell_type": "markdown",
   "metadata": {},
   "source": [
    "### $\\rho$: Effective contact rate $\\mathrm{[-]}$"
   ]
  },
  {
   "cell_type": "code",
   "execution_count": 15,
   "metadata": {
    "collapsed": false
   },
   "outputs": [
    {
     "data": {
      "image/png": "[encoded data removed]",
      "text/plain": [
       "<Figure size 648x432 with 1 Axes>"
      ]
     },
     "metadata": {},
     "output_type": "display_data"
    },
    {
     "data": {
      "text/html": [
       "<div>\n",
       "<style scoped>\n",
       "    .dataframe tbody tr th:only-of-type {\n",
       "        vertical-align: middle;\n",
       "    }\n",
       "\n",
       "    .dataframe tbody tr th {\n",
       "        vertical-align: top;\n",
       "    }\n",
       "\n",
       "    .dataframe thead th {\n",
       "        text-align: right;\n",
       "    }\n",
       "</style>\n",
       "<table border=\"1\" class=\"dataframe\">\n",
       "  <thead>\n",
       "    <tr style=\"text-align: right;\">\n",
       "      <th>Country</th>\n",
       "      <th>Denmark</th>\n",
       "      <th>Finland</th>\n",
       "      <th>France</th>\n",
       "      <th>Portugal</th>\n",
       "      <th>Romania</th>\n",
       "      <th>United Kingdom</th>\n",
       "    </tr>\n",
       "    <tr>\n",
       "      <th>Date</th>\n",
       "      <th></th>\n",
       "      <th></th>\n",
       "      <th></th>\n",
       "      <th></th>\n",
       "      <th></th>\n",
       "      <th></th>\n",
       "    </tr>\n",
       "  </thead>\n",
       "  <tbody>\n",
       "    <tr>\n",
       "      <th>2020-12-05</th>\n",
       "      <td>0.020269</td>\n",
       "      <td>0.01055</td>\n",
       "      <td>0.015505</td>\n",
       "      <td>0.013729</td>\n",
       "      <td>0.017613</td>\n",
       "      <td>0.021755</td>\n",
       "    </tr>\n",
       "    <tr>\n",
       "      <th>2020-12-06</th>\n",
       "      <td>0.020269</td>\n",
       "      <td>0.01055</td>\n",
       "      <td>0.015505</td>\n",
       "      <td>0.013729</td>\n",
       "      <td>0.017613</td>\n",
       "      <td>0.021755</td>\n",
       "    </tr>\n",
       "    <tr>\n",
       "      <th>2020-12-07</th>\n",
       "      <td>0.020269</td>\n",
       "      <td>0.01055</td>\n",
       "      <td>0.015505</td>\n",
       "      <td>0.013729</td>\n",
       "      <td>0.017613</td>\n",
       "      <td>0.021755</td>\n",
       "    </tr>\n",
       "    <tr>\n",
       "      <th>2020-12-08</th>\n",
       "      <td>0.020269</td>\n",
       "      <td>0.01055</td>\n",
       "      <td>0.015505</td>\n",
       "      <td>0.013729</td>\n",
       "      <td>0.017613</td>\n",
       "      <td>0.021755</td>\n",
       "    </tr>\n",
       "    <tr>\n",
       "      <th>2020-12-09</th>\n",
       "      <td>0.020269</td>\n",
       "      <td>0.01055</td>\n",
       "      <td>0.015505</td>\n",
       "      <td>0.013729</td>\n",
       "      <td>0.017613</td>\n",
       "      <td>0.021755</td>\n",
       "    </tr>\n",
       "  </tbody>\n",
       "</table>\n",
       "</div>"
      ],
      "text/plain": [
       "Country      Denmark  Finland    France  Portugal   Romania  United Kingdom\n",
       "Date                                                                       \n",
       "2020-12-05  0.020269  0.01055  0.015505  0.013729  0.017613        0.021755\n",
       "2020-12-06  0.020269  0.01055  0.015505  0.013729  0.017613        0.021755\n",
       "2020-12-07  0.020269  0.01055  0.015505  0.013729  0.017613        0.021755\n",
       "2020-12-08  0.020269  0.01055  0.015505  0.013729  0.017613        0.021755\n",
       "2020-12-09  0.020269  0.01055  0.015505  0.013729  0.017613        0.021755"
      ]
     },
     "execution_count": 15,
     "metadata": {},
     "output_type": "execute_result"
    }
   ],
   "source": [
    "analyser.history(\"rho\", roll_window=None).tail()"
   ]
  },
  {
   "cell_type": "markdown",
   "metadata": {},
   "source": [
    "### $\\sigma$: Recovery rate $\\mathrm{[-]}$"
   ]
  },
  {
   "cell_type": "code",
   "execution_count": 16,
   "metadata": {
    "collapsed": false
   },
   "outputs": [
    {
     "data": {
      "image/png": "[encoded data removed]",
      "text/plain": [
       "<Figure size 648x432 with 1 Axes>"
      ]
     },
     "metadata": {},
     "output_type": "display_data"
    },
    {
     "data": {
      "text/html": [
       "<div>\n",
       "<style scoped>\n",
       "    .dataframe tbody tr th:only-of-type {\n",
       "        vertical-align: middle;\n",
       "    }\n",
       "\n",
       "    .dataframe tbody tr th {\n",
       "        vertical-align: top;\n",
       "    }\n",
       "\n",
       "    .dataframe thead th {\n",
       "        text-align: right;\n",
       "    }\n",
       "</style>\n",
       "<table border=\"1\" class=\"dataframe\">\n",
       "  <thead>\n",
       "    <tr style=\"text-align: right;\">\n",
       "      <th>Country</th>\n",
       "      <th>Denmark</th>\n",
       "      <th>Finland</th>\n",
       "      <th>France</th>\n",
       "      <th>Portugal</th>\n",
       "      <th>Romania</th>\n",
       "      <th>United Kingdom</th>\n",
       "    </tr>\n",
       "    <tr>\n",
       "      <th>Date</th>\n",
       "      <th></th>\n",
       "      <th></th>\n",
       "      <th></th>\n",
       "      <th></th>\n",
       "      <th></th>\n",
       "      <th></th>\n",
       "    </tr>\n",
       "  </thead>\n",
       "  <tbody>\n",
       "    <tr>\n",
       "      <th>2020-12-05</th>\n",
       "      <td>0.016356</td>\n",
       "      <td>0.004337</td>\n",
       "      <td>0.034514</td>\n",
       "      <td>0.012335</td>\n",
       "      <td>0.019764</td>\n",
       "      <td>0.022324</td>\n",
       "    </tr>\n",
       "    <tr>\n",
       "      <th>2020-12-06</th>\n",
       "      <td>0.016356</td>\n",
       "      <td>0.004337</td>\n",
       "      <td>0.034514</td>\n",
       "      <td>0.012335</td>\n",
       "      <td>0.019764</td>\n",
       "      <td>0.022324</td>\n",
       "    </tr>\n",
       "    <tr>\n",
       "      <th>2020-12-07</th>\n",
       "      <td>0.016356</td>\n",
       "      <td>0.004337</td>\n",
       "      <td>0.034514</td>\n",
       "      <td>0.012335</td>\n",
       "      <td>0.019764</td>\n",
       "      <td>0.022324</td>\n",
       "    </tr>\n",
       "    <tr>\n",
       "      <th>2020-12-08</th>\n",
       "      <td>0.016356</td>\n",
       "      <td>0.004337</td>\n",
       "      <td>0.034514</td>\n",
       "      <td>0.012335</td>\n",
       "      <td>0.019764</td>\n",
       "      <td>0.022324</td>\n",
       "    </tr>\n",
       "    <tr>\n",
       "      <th>2020-12-09</th>\n",
       "      <td>0.016356</td>\n",
       "      <td>0.004337</td>\n",
       "      <td>0.034514</td>\n",
       "      <td>0.012335</td>\n",
       "      <td>0.019764</td>\n",
       "      <td>0.022324</td>\n",
       "    </tr>\n",
       "  </tbody>\n",
       "</table>\n",
       "</div>"
      ],
      "text/plain": [
       "Country      Denmark   Finland    France  Portugal   Romania  United Kingdom\n",
       "Date                                                                        \n",
       "2020-12-05  0.016356  0.004337  0.034514  0.012335  0.019764        0.022324\n",
       "2020-12-06  0.016356  0.004337  0.034514  0.012335  0.019764        0.022324\n",
       "2020-12-07  0.016356  0.004337  0.034514  0.012335  0.019764        0.022324\n",
       "2020-12-08  0.016356  0.004337  0.034514  0.012335  0.019764        0.022324\n",
       "2020-12-09  0.016356  0.004337  0.034514  0.012335  0.019764        0.022324"
      ]
     },
     "execution_count": 16,
     "metadata": {},
     "output_type": "execute_result"
    }
   ],
   "source": [
    "analyser.history(\"sigma\", roll_window=None).tail()"
   ]
  },
  {
   "cell_type": "markdown",
   "metadata": {},
   "source": [
    "### $\\kappa$: Mortality rate of infected cases $\\mathrm{[-]}$"
   ]
  },
  {
   "cell_type": "code",
   "execution_count": 17,
   "metadata": {
    "collapsed": false
   },
   "outputs": [
    {
     "data": {
      "image/png": "[encoded data removed]",
      "text/plain": [
       "<Figure size 648x432 with 1 Axes>"
      ]
     },
     "metadata": {},
     "output_type": "display_data"
    },
    {
     "data": {
      "text/html": [
       "<div>\n",
       "<style scoped>\n",
       "    .dataframe tbody tr th:only-of-type {\n",
       "        vertical-align: middle;\n",
       "    }\n",
       "\n",
       "    .dataframe tbody tr th {\n",
       "        vertical-align: top;\n",
       "    }\n",
       "\n",
       "    .dataframe thead th {\n",
       "        text-align: right;\n",
       "    }\n",
       "</style>\n",
       "<table border=\"1\" class=\"dataframe\">\n",
       "  <thead>\n",
       "    <tr style=\"text-align: right;\">\n",
       "      <th>Country</th>\n",
       "      <th>Denmark</th>\n",
       "      <th>Finland</th>\n",
       "      <th>France</th>\n",
       "      <th>Portugal</th>\n",
       "      <th>Romania</th>\n",
       "      <th>United Kingdom</th>\n",
       "    </tr>\n",
       "    <tr>\n",
       "      <th>Date</th>\n",
       "      <th></th>\n",
       "      <th></th>\n",
       "      <th></th>\n",
       "      <th></th>\n",
       "      <th></th>\n",
       "      <th></th>\n",
       "    </tr>\n",
       "  </thead>\n",
       "  <tbody>\n",
       "    <tr>\n",
       "      <th>2020-12-05</th>\n",
       "      <td>0.000896</td>\n",
       "      <td>0.000071</td>\n",
       "      <td>0.000237</td>\n",
       "      <td>0.000093</td>\n",
       "      <td>0.000093</td>\n",
       "      <td>0.000309</td>\n",
       "    </tr>\n",
       "    <tr>\n",
       "      <th>2020-12-06</th>\n",
       "      <td>0.000896</td>\n",
       "      <td>0.000071</td>\n",
       "      <td>0.000237</td>\n",
       "      <td>0.000093</td>\n",
       "      <td>0.000093</td>\n",
       "      <td>0.000309</td>\n",
       "    </tr>\n",
       "    <tr>\n",
       "      <th>2020-12-07</th>\n",
       "      <td>0.000896</td>\n",
       "      <td>0.000071</td>\n",
       "      <td>0.000237</td>\n",
       "      <td>0.000093</td>\n",
       "      <td>0.000093</td>\n",
       "      <td>0.000309</td>\n",
       "    </tr>\n",
       "    <tr>\n",
       "      <th>2020-12-08</th>\n",
       "      <td>0.000896</td>\n",
       "      <td>0.000071</td>\n",
       "      <td>0.000237</td>\n",
       "      <td>0.000093</td>\n",
       "      <td>0.000093</td>\n",
       "      <td>0.000309</td>\n",
       "    </tr>\n",
       "    <tr>\n",
       "      <th>2020-12-09</th>\n",
       "      <td>0.000896</td>\n",
       "      <td>0.000071</td>\n",
       "      <td>0.000237</td>\n",
       "      <td>0.000093</td>\n",
       "      <td>0.000093</td>\n",
       "      <td>0.000309</td>\n",
       "    </tr>\n",
       "  </tbody>\n",
       "</table>\n",
       "</div>"
      ],
      "text/plain": [
       "Country      Denmark   Finland    France  Portugal   Romania  United Kingdom\n",
       "Date                                                                        \n",
       "2020-12-05  0.000896  0.000071  0.000237  0.000093  0.000093        0.000309\n",
       "2020-12-06  0.000896  0.000071  0.000237  0.000093  0.000093        0.000309\n",
       "2020-12-07  0.000896  0.000071  0.000237  0.000093  0.000093        0.000309\n",
       "2020-12-08  0.000896  0.000071  0.000237  0.000093  0.000093        0.000309\n",
       "2020-12-09  0.000896  0.000071  0.000237  0.000093  0.000093        0.000309"
      ]
     },
     "execution_count": 17,
     "metadata": {},
     "output_type": "execute_result"
    }
   ],
   "source": [
    "analyser.history(\"kappa\", roll_window=None).tail()"
   ]
  },
  {
   "cell_type": "markdown",
   "metadata": {},
   "source": [
    "### $\\theta$: Mortality rate of S$^\\ast$ cases $\\mathrm{[-]}$"
   ]
  },
  {
   "cell_type": "code",
   "execution_count": 18,
   "metadata": {
    "collapsed": false
   },
   "outputs": [
    {
     "data": {
      "image/png": "[encoded data removed]",
      "text/plain": [
       "<Figure size 648x432 with 1 Axes>"
      ]
     },
     "metadata": {},
     "output_type": "display_data"
    },
    {
     "data": {
      "text/html": [
       "<div>\n",
       "<style scoped>\n",
       "    .dataframe tbody tr th:only-of-type {\n",
       "        vertical-align: middle;\n",
       "    }\n",
       "\n",
       "    .dataframe tbody tr th {\n",
       "        vertical-align: top;\n",
       "    }\n",
       "\n",
       "    .dataframe thead th {\n",
       "        text-align: right;\n",
       "    }\n",
       "</style>\n",
       "<table border=\"1\" class=\"dataframe\">\n",
       "  <thead>\n",
       "    <tr style=\"text-align: right;\">\n",
       "      <th>Country</th>\n",
       "      <th>Denmark</th>\n",
       "      <th>Finland</th>\n",
       "      <th>France</th>\n",
       "      <th>Portugal</th>\n",
       "      <th>Romania</th>\n",
       "      <th>United Kingdom</th>\n",
       "    </tr>\n",
       "    <tr>\n",
       "      <th>Date</th>\n",
       "      <th></th>\n",
       "      <th></th>\n",
       "      <th></th>\n",
       "      <th></th>\n",
       "      <th></th>\n",
       "      <th></th>\n",
       "    </tr>\n",
       "  </thead>\n",
       "  <tbody>\n",
       "    <tr>\n",
       "      <th>2020-12-05</th>\n",
       "      <td>0.001805</td>\n",
       "      <td>0.001328</td>\n",
       "      <td>0.017944</td>\n",
       "      <td>0.001911</td>\n",
       "      <td>0.005474</td>\n",
       "      <td>0.003232</td>\n",
       "    </tr>\n",
       "    <tr>\n",
       "      <th>2020-12-06</th>\n",
       "      <td>0.001805</td>\n",
       "      <td>0.001328</td>\n",
       "      <td>0.017944</td>\n",
       "      <td>0.001911</td>\n",
       "      <td>0.005474</td>\n",
       "      <td>0.003232</td>\n",
       "    </tr>\n",
       "    <tr>\n",
       "      <th>2020-12-07</th>\n",
       "      <td>0.001805</td>\n",
       "      <td>0.001328</td>\n",
       "      <td>0.017944</td>\n",
       "      <td>0.001911</td>\n",
       "      <td>0.005474</td>\n",
       "      <td>0.003232</td>\n",
       "    </tr>\n",
       "    <tr>\n",
       "      <th>2020-12-08</th>\n",
       "      <td>0.001805</td>\n",
       "      <td>0.001328</td>\n",
       "      <td>0.017944</td>\n",
       "      <td>0.001911</td>\n",
       "      <td>0.005474</td>\n",
       "      <td>0.003232</td>\n",
       "    </tr>\n",
       "    <tr>\n",
       "      <th>2020-12-09</th>\n",
       "      <td>0.001805</td>\n",
       "      <td>0.001328</td>\n",
       "      <td>0.017944</td>\n",
       "      <td>0.001911</td>\n",
       "      <td>0.005474</td>\n",
       "      <td>0.003232</td>\n",
       "    </tr>\n",
       "  </tbody>\n",
       "</table>\n",
       "</div>"
      ],
      "text/plain": [
       "Country      Denmark   Finland    France  Portugal   Romania  United Kingdom\n",
       "Date                                                                        \n",
       "2020-12-05  0.001805  0.001328  0.017944  0.001911  0.005474        0.003232\n",
       "2020-12-06  0.001805  0.001328  0.017944  0.001911  0.005474        0.003232\n",
       "2020-12-07  0.001805  0.001328  0.017944  0.001911  0.005474        0.003232\n",
       "2020-12-08  0.001805  0.001328  0.017944  0.001911  0.005474        0.003232\n",
       "2020-12-09  0.001805  0.001328  0.017944  0.001911  0.005474        0.003232"
      ]
     },
     "execution_count": 18,
     "metadata": {},
     "output_type": "execute_result"
    }
   ],
   "source": [
    "analyser.history(\"theta\", roll_window=None).tail()"
   ]
  },
  {
   "cell_type": "markdown",
   "metadata": {},
   "source": [
    "## (Experimental): Relationship of OxCGRT index and parameter values\n",
    "Government responses will impact on parameter values of ODE models about 14 days later. Here, we will investigate on the relationship of [stringency index (from OxCGRT)](https://github.com/OxCGRT/covid-policy-tracker/blob/master/documentation/index_methodology.md) and reproduction number/model parameters.\n"
   ]
  },
  {
   "cell_type": "code",
   "execution_count": 19,
   "metadata": {
    "collapsed": false
   },
   "outputs": [],
   "source": [
    "%matplotlib inline\n",
    "from matplotlib import pyplot as plt\n",
    "import seaborn as sns\n",
    "import pandas as pd"
   ]
  },
  {
   "cell_type": "code",
   "execution_count": 20,
   "metadata": {
    "collapsed": false
   },
   "outputs": [
    {
     "name": "stdout",
     "output_type": "stream",
     "text": [
      "<class 'pandas.core.frame.DataFrame'>\n",
      "Int64Index: 18210 entries, 0 to 18279\n",
      "Data columns (total 19 columns):\n",
      " #   Column                               Non-Null Count  Dtype         \n",
      "---  ------                               --------------  -----         \n",
      " 0   Date                                 18210 non-null  datetime64[ns]\n",
      " 1   Country                              18210 non-null  object        \n",
      " 2   Rt                                   18210 non-null  float64       \n",
      " 3   theta                                18210 non-null  float64       \n",
      " 4   kappa                                18210 non-null  float64       \n",
      " 5   rho                                  18210 non-null  float64       \n",
      " 6   sigma                                18210 non-null  float64       \n",
      " 7   School_closing                       18210 non-null  int64         \n",
      " 8   Workplace_closing                    18210 non-null  int64         \n",
      " 9   Cancel_events                        18210 non-null  int64         \n",
      " 10  Gatherings_restrictions              18210 non-null  int64         \n",
      " 11  Transport_closing                    18210 non-null  int64         \n",
      " 12  Stay_home_restrictions               18210 non-null  int64         \n",
      " 13  Internal_movement_restrictions       18210 non-null  int64         \n",
      " 14  International_movement_restrictions  18210 non-null  int64         \n",
      " 15  Information_campaigns                18210 non-null  int64         \n",
      " 16  Testing_policy                       18210 non-null  int64         \n",
      " 17  Contact_tracing                      18210 non-null  int64         \n",
      " 18  Stringency_index                     18210 non-null  float64       \n",
      "dtypes: datetime64[ns](1), float64(6), int64(11), object(1)\n",
      "memory usage: 2.8+ MB\n"
     ]
    }
   ],
   "source": [
    "df = analyser.track()\n",
    "param_cols = [\"Rt\", *cs.SIRF.PARAMETERS]\n",
    "oxcgrt_cols = oxcgrt_data.OXCGRT_VARS[:]\n",
    "cols = param_cols + oxcgrt_cols\n",
    "delay = 14\n",
    "\n",
    "for col in param_cols:\n",
    "    df[col] = pd.to_numeric(df[col], errors=\"coerce\")\n",
    "    df[col] = df.groupby(\"Country\")[col].shift(0 - delay)\n",
    "\n",
    "df = df.dropna(how=\"any\")\n",
    "df = df.loc[:, [\"Date\", \"Country\", *cols]]\n",
    "track_df = df.copy()\n",
    "track_df.info()"
   ]
  },
  {
   "cell_type": "code",
   "execution_count": 21,
   "metadata": {
    "collapsed": false
   },
   "outputs": [
    {
     "data": {
      "text/html": [
       "<style  type=\"text/css\" >\n",
       "#T_a1d1c34e_3a44_11eb_a5c5_525400f3f1f9row0_col0,#T_a1d1c34e_3a44_11eb_a5c5_525400f3f1f9row1_col1,#T_a1d1c34e_3a44_11eb_a5c5_525400f3f1f9row2_col2,#T_a1d1c34e_3a44_11eb_a5c5_525400f3f1f9row3_col3,#T_a1d1c34e_3a44_11eb_a5c5_525400f3f1f9row4_col4,#T_a1d1c34e_3a44_11eb_a5c5_525400f3f1f9row5_col5,#T_a1d1c34e_3a44_11eb_a5c5_525400f3f1f9row6_col6,#T_a1d1c34e_3a44_11eb_a5c5_525400f3f1f9row7_col7,#T_a1d1c34e_3a44_11eb_a5c5_525400f3f1f9row8_col8,#T_a1d1c34e_3a44_11eb_a5c5_525400f3f1f9row9_col9,#T_a1d1c34e_3a44_11eb_a5c5_525400f3f1f9row10_col10,#T_a1d1c34e_3a44_11eb_a5c5_525400f3f1f9row11_col11,#T_a1d1c34e_3a44_11eb_a5c5_525400f3f1f9row12_col12,#T_a1d1c34e_3a44_11eb_a5c5_525400f3f1f9row13_col13,#T_a1d1c34e_3a44_11eb_a5c5_525400f3f1f9row14_col14,#T_a1d1c34e_3a44_11eb_a5c5_525400f3f1f9row15_col15,#T_a1d1c34e_3a44_11eb_a5c5_525400f3f1f9row16_col16{\n",
       "            background-color:  #023858;\n",
       "            color:  #f1f1f1;\n",
       "        }#T_a1d1c34e_3a44_11eb_a5c5_525400f3f1f9row0_col1,#T_a1d1c34e_3a44_11eb_a5c5_525400f3f1f9row1_col0{\n",
       "            background-color:  #c6cce3;\n",
       "            color:  #000000;\n",
       "        }#T_a1d1c34e_3a44_11eb_a5c5_525400f3f1f9row0_col2,#T_a1d1c34e_3a44_11eb_a5c5_525400f3f1f9row2_col0{\n",
       "            background-color:  #cccfe5;\n",
       "            color:  #000000;\n",
       "        }#T_a1d1c34e_3a44_11eb_a5c5_525400f3f1f9row0_col3,#T_a1d1c34e_3a44_11eb_a5c5_525400f3f1f9row3_col0,#T_a1d1c34e_3a44_11eb_a5c5_525400f3f1f9row4_col6,#T_a1d1c34e_3a44_11eb_a5c5_525400f3f1f9row6_col4{\n",
       "            background-color:  #4a98c5;\n",
       "            color:  #000000;\n",
       "        }#T_a1d1c34e_3a44_11eb_a5c5_525400f3f1f9row0_col4,#T_a1d1c34e_3a44_11eb_a5c5_525400f3f1f9row4_col0{\n",
       "            background-color:  #e9e5f1;\n",
       "            color:  #000000;\n",
       "        }#T_a1d1c34e_3a44_11eb_a5c5_525400f3f1f9row0_col5,#T_a1d1c34e_3a44_11eb_a5c5_525400f3f1f9row5_col0,#T_a1d1c34e_3a44_11eb_a5c5_525400f3f1f9row7_col15,#T_a1d1c34e_3a44_11eb_a5c5_525400f3f1f9row15_col7{\n",
       "            background-color:  #b1c2de;\n",
       "            color:  #000000;\n",
       "        }#T_a1d1c34e_3a44_11eb_a5c5_525400f3f1f9row0_col6,#T_a1d1c34e_3a44_11eb_a5c5_525400f3f1f9row6_col0{\n",
       "            background-color:  #b4c4df;\n",
       "            color:  #000000;\n",
       "        }#T_a1d1c34e_3a44_11eb_a5c5_525400f3f1f9row0_col7,#T_a1d1c34e_3a44_11eb_a5c5_525400f3f1f9row7_col0{\n",
       "            background-color:  #d1d2e6;\n",
       "            color:  #000000;\n",
       "        }#T_a1d1c34e_3a44_11eb_a5c5_525400f3f1f9row0_col8,#T_a1d1c34e_3a44_11eb_a5c5_525400f3f1f9row2_col14,#T_a1d1c34e_3a44_11eb_a5c5_525400f3f1f9row8_col0,#T_a1d1c34e_3a44_11eb_a5c5_525400f3f1f9row14_col2{\n",
       "            background-color:  #d8d7e9;\n",
       "            color:  #000000;\n",
       "        }#T_a1d1c34e_3a44_11eb_a5c5_525400f3f1f9row0_col9,#T_a1d1c34e_3a44_11eb_a5c5_525400f3f1f9row2_col12,#T_a1d1c34e_3a44_11eb_a5c5_525400f3f1f9row6_col15,#T_a1d1c34e_3a44_11eb_a5c5_525400f3f1f9row9_col0,#T_a1d1c34e_3a44_11eb_a5c5_525400f3f1f9row12_col2,#T_a1d1c34e_3a44_11eb_a5c5_525400f3f1f9row15_col6{\n",
       "            background-color:  #d4d4e8;\n",
       "            color:  #000000;\n",
       "        }#T_a1d1c34e_3a44_11eb_a5c5_525400f3f1f9row0_col10,#T_a1d1c34e_3a44_11eb_a5c5_525400f3f1f9row0_col12,#T_a1d1c34e_3a44_11eb_a5c5_525400f3f1f9row6_col14,#T_a1d1c34e_3a44_11eb_a5c5_525400f3f1f9row10_col0,#T_a1d1c34e_3a44_11eb_a5c5_525400f3f1f9row12_col0,#T_a1d1c34e_3a44_11eb_a5c5_525400f3f1f9row14_col6{\n",
       "            background-color:  #bbc7e0;\n",
       "            color:  #000000;\n",
       "        }#T_a1d1c34e_3a44_11eb_a5c5_525400f3f1f9row0_col11,#T_a1d1c34e_3a44_11eb_a5c5_525400f3f1f9row11_col0{\n",
       "            background-color:  #d9d8ea;\n",
       "            color:  #000000;\n",
       "        }#T_a1d1c34e_3a44_11eb_a5c5_525400f3f1f9row0_col13,#T_a1d1c34e_3a44_11eb_a5c5_525400f3f1f9row0_col15,#T_a1d1c34e_3a44_11eb_a5c5_525400f3f1f9row13_col0,#T_a1d1c34e_3a44_11eb_a5c5_525400f3f1f9row15_col0{\n",
       "            background-color:  #c1cae2;\n",
       "            color:  #000000;\n",
       "        }#T_a1d1c34e_3a44_11eb_a5c5_525400f3f1f9row0_col14,#T_a1d1c34e_3a44_11eb_a5c5_525400f3f1f9row14_col0{\n",
       "            background-color:  #d2d3e7;\n",
       "            color:  #000000;\n",
       "        }#T_a1d1c34e_3a44_11eb_a5c5_525400f3f1f9row0_col16,#T_a1d1c34e_3a44_11eb_a5c5_525400f3f1f9row16_col0{\n",
       "            background-color:  #c4cbe3;\n",
       "            color:  #000000;\n",
       "        }#T_a1d1c34e_3a44_11eb_a5c5_525400f3f1f9row1_col2,#T_a1d1c34e_3a44_11eb_a5c5_525400f3f1f9row1_col8,#T_a1d1c34e_3a44_11eb_a5c5_525400f3f1f9row1_col12,#T_a1d1c34e_3a44_11eb_a5c5_525400f3f1f9row2_col1,#T_a1d1c34e_3a44_11eb_a5c5_525400f3f1f9row8_col1,#T_a1d1c34e_3a44_11eb_a5c5_525400f3f1f9row11_col15,#T_a1d1c34e_3a44_11eb_a5c5_525400f3f1f9row12_col1,#T_a1d1c34e_3a44_11eb_a5c5_525400f3f1f9row15_col11{\n",
       "            background-color:  #73a9cf;\n",
       "            color:  #000000;\n",
       "        }#T_a1d1c34e_3a44_11eb_a5c5_525400f3f1f9row1_col3,#T_a1d1c34e_3a44_11eb_a5c5_525400f3f1f9row3_col1{\n",
       "            background-color:  #d7d6e9;\n",
       "            color:  #000000;\n",
       "        }#T_a1d1c34e_3a44_11eb_a5c5_525400f3f1f9row1_col4,#T_a1d1c34e_3a44_11eb_a5c5_525400f3f1f9row4_col1{\n",
       "            background-color:  #8bb2d4;\n",
       "            color:  #000000;\n",
       "        }#T_a1d1c34e_3a44_11eb_a5c5_525400f3f1f9row1_col5,#T_a1d1c34e_3a44_11eb_a5c5_525400f3f1f9row4_col13,#T_a1d1c34e_3a44_11eb_a5c5_525400f3f1f9row5_col1,#T_a1d1c34e_3a44_11eb_a5c5_525400f3f1f9row13_col4{\n",
       "            background-color:  #5a9ec9;\n",
       "            color:  #000000;\n",
       "        }#T_a1d1c34e_3a44_11eb_a5c5_525400f3f1f9row1_col6,#T_a1d1c34e_3a44_11eb_a5c5_525400f3f1f9row2_col11,#T_a1d1c34e_3a44_11eb_a5c5_525400f3f1f9row6_col1,#T_a1d1c34e_3a44_11eb_a5c5_525400f3f1f9row8_col15,#T_a1d1c34e_3a44_11eb_a5c5_525400f3f1f9row11_col2,#T_a1d1c34e_3a44_11eb_a5c5_525400f3f1f9row15_col8{\n",
       "            background-color:  #65a3cb;\n",
       "            color:  #000000;\n",
       "        }#T_a1d1c34e_3a44_11eb_a5c5_525400f3f1f9row1_col7,#T_a1d1c34e_3a44_11eb_a5c5_525400f3f1f9row7_col1{\n",
       "            background-color:  #67a4cc;\n",
       "            color:  #000000;\n",
       "        }#T_a1d1c34e_3a44_11eb_a5c5_525400f3f1f9row1_col9,#T_a1d1c34e_3a44_11eb_a5c5_525400f3f1f9row9_col1{\n",
       "            background-color:  #76aad0;\n",
       "            color:  #000000;\n",
       "        }#T_a1d1c34e_3a44_11eb_a5c5_525400f3f1f9row1_col10,#T_a1d1c34e_3a44_11eb_a5c5_525400f3f1f9row10_col1{\n",
       "            background-color:  #75a9cf;\n",
       "            color:  #000000;\n",
       "        }#T_a1d1c34e_3a44_11eb_a5c5_525400f3f1f9row1_col11,#T_a1d1c34e_3a44_11eb_a5c5_525400f3f1f9row11_col1{\n",
       "            background-color:  #63a2cb;\n",
       "            color:  #000000;\n",
       "        }#T_a1d1c34e_3a44_11eb_a5c5_525400f3f1f9row1_col13,#T_a1d1c34e_3a44_11eb_a5c5_525400f3f1f9row4_col12,#T_a1d1c34e_3a44_11eb_a5c5_525400f3f1f9row12_col4,#T_a1d1c34e_3a44_11eb_a5c5_525400f3f1f9row13_col1{\n",
       "            background-color:  #89b1d4;\n",
       "            color:  #000000;\n",
       "        }#T_a1d1c34e_3a44_11eb_a5c5_525400f3f1f9row1_col14,#T_a1d1c34e_3a44_11eb_a5c5_525400f3f1f9row5_col14,#T_a1d1c34e_3a44_11eb_a5c5_525400f3f1f9row14_col1,#T_a1d1c34e_3a44_11eb_a5c5_525400f3f1f9row14_col5{\n",
       "            background-color:  #cdd0e5;\n",
       "            color:  #000000;\n",
       "        }#T_a1d1c34e_3a44_11eb_a5c5_525400f3f1f9row1_col15,#T_a1d1c34e_3a44_11eb_a5c5_525400f3f1f9row2_col3,#T_a1d1c34e_3a44_11eb_a5c5_525400f3f1f9row3_col2,#T_a1d1c34e_3a44_11eb_a5c5_525400f3f1f9row14_col16,#T_a1d1c34e_3a44_11eb_a5c5_525400f3f1f9row15_col1,#T_a1d1c34e_3a44_11eb_a5c5_525400f3f1f9row16_col14{\n",
       "            background-color:  #96b6d7;\n",
       "            color:  #000000;\n",
       "        }#T_a1d1c34e_3a44_11eb_a5c5_525400f3f1f9row1_col16,#T_a1d1c34e_3a44_11eb_a5c5_525400f3f1f9row16_col1{\n",
       "            background-color:  #529bc7;\n",
       "            color:  #000000;\n",
       "        }#T_a1d1c34e_3a44_11eb_a5c5_525400f3f1f9row2_col4,#T_a1d1c34e_3a44_11eb_a5c5_525400f3f1f9row4_col2,#T_a1d1c34e_3a44_11eb_a5c5_525400f3f1f9row4_col10,#T_a1d1c34e_3a44_11eb_a5c5_525400f3f1f9row10_col4{\n",
       "            background-color:  #6fa7ce;\n",
       "            color:  #000000;\n",
       "        }#T_a1d1c34e_3a44_11eb_a5c5_525400f3f1f9row2_col5,#T_a1d1c34e_3a44_11eb_a5c5_525400f3f1f9row5_col2{\n",
       "            background-color:  #5c9fc9;\n",
       "            color:  #000000;\n",
       "        }#T_a1d1c34e_3a44_11eb_a5c5_525400f3f1f9row2_col6,#T_a1d1c34e_3a44_11eb_a5c5_525400f3f1f9row4_col14,#T_a1d1c34e_3a44_11eb_a5c5_525400f3f1f9row6_col2,#T_a1d1c34e_3a44_11eb_a5c5_525400f3f1f9row14_col4{\n",
       "            background-color:  #8fb4d6;\n",
       "            color:  #000000;\n",
       "        }#T_a1d1c34e_3a44_11eb_a5c5_525400f3f1f9row2_col7,#T_a1d1c34e_3a44_11eb_a5c5_525400f3f1f9row7_col2,#T_a1d1c34e_3a44_11eb_a5c5_525400f3f1f9row10_col14,#T_a1d1c34e_3a44_11eb_a5c5_525400f3f1f9row14_col10{\n",
       "            background-color:  #9fbad9;\n",
       "            color:  #000000;\n",
       "        }#T_a1d1c34e_3a44_11eb_a5c5_525400f3f1f9row2_col8,#T_a1d1c34e_3a44_11eb_a5c5_525400f3f1f9row8_col2{\n",
       "            background-color:  #80aed2;\n",
       "            color:  #000000;\n",
       "        }#T_a1d1c34e_3a44_11eb_a5c5_525400f3f1f9row2_col9,#T_a1d1c34e_3a44_11eb_a5c5_525400f3f1f9row2_col16,#T_a1d1c34e_3a44_11eb_a5c5_525400f3f1f9row9_col2,#T_a1d1c34e_3a44_11eb_a5c5_525400f3f1f9row16_col2{\n",
       "            background-color:  #8eb3d5;\n",
       "            color:  #000000;\n",
       "        }#T_a1d1c34e_3a44_11eb_a5c5_525400f3f1f9row2_col10,#T_a1d1c34e_3a44_11eb_a5c5_525400f3f1f9row10_col2{\n",
       "            background-color:  #9cb9d9;\n",
       "            color:  #000000;\n",
       "        }#T_a1d1c34e_3a44_11eb_a5c5_525400f3f1f9row2_col13,#T_a1d1c34e_3a44_11eb_a5c5_525400f3f1f9row13_col2{\n",
       "            background-color:  #9ebad9;\n",
       "            color:  #000000;\n",
       "        }#T_a1d1c34e_3a44_11eb_a5c5_525400f3f1f9row2_col15,#T_a1d1c34e_3a44_11eb_a5c5_525400f3f1f9row15_col2{\n",
       "            background-color:  #a5bddb;\n",
       "            color:  #000000;\n",
       "        }#T_a1d1c34e_3a44_11eb_a5c5_525400f3f1f9row3_col4,#T_a1d1c34e_3a44_11eb_a5c5_525400f3f1f9row4_col3{\n",
       "            background-color:  #e4e1ef;\n",
       "            color:  #000000;\n",
       "        }#T_a1d1c34e_3a44_11eb_a5c5_525400f3f1f9row3_col5,#T_a1d1c34e_3a44_11eb_a5c5_525400f3f1f9row5_col3{\n",
       "            background-color:  #e5e1ef;\n",
       "            color:  #000000;\n",
       "        }#T_a1d1c34e_3a44_11eb_a5c5_525400f3f1f9row3_col6,#T_a1d1c34e_3a44_11eb_a5c5_525400f3f1f9row3_col10,#T_a1d1c34e_3a44_11eb_a5c5_525400f3f1f9row6_col3,#T_a1d1c34e_3a44_11eb_a5c5_525400f3f1f9row10_col3{\n",
       "            background-color:  #eae6f1;\n",
       "            color:  #000000;\n",
       "        }#T_a1d1c34e_3a44_11eb_a5c5_525400f3f1f9row3_col7,#T_a1d1c34e_3a44_11eb_a5c5_525400f3f1f9row7_col3{\n",
       "            background-color:  #fbf3f9;\n",
       "            color:  #000000;\n",
       "        }#T_a1d1c34e_3a44_11eb_a5c5_525400f3f1f9row3_col8,#T_a1d1c34e_3a44_11eb_a5c5_525400f3f1f9row8_col3{\n",
       "            background-color:  #faf3f9;\n",
       "            color:  #000000;\n",
       "        }#T_a1d1c34e_3a44_11eb_a5c5_525400f3f1f9row3_col9,#T_a1d1c34e_3a44_11eb_a5c5_525400f3f1f9row3_col16,#T_a1d1c34e_3a44_11eb_a5c5_525400f3f1f9row9_col3,#T_a1d1c34e_3a44_11eb_a5c5_525400f3f1f9row16_col3{\n",
       "            background-color:  #f5eef6;\n",
       "            color:  #000000;\n",
       "        }#T_a1d1c34e_3a44_11eb_a5c5_525400f3f1f9row3_col11,#T_a1d1c34e_3a44_11eb_a5c5_525400f3f1f9row11_col3{\n",
       "            background-color:  #d6d6e9;\n",
       "            color:  #000000;\n",
       "        }#T_a1d1c34e_3a44_11eb_a5c5_525400f3f1f9row3_col12,#T_a1d1c34e_3a44_11eb_a5c5_525400f3f1f9row12_col3{\n",
       "            background-color:  #fff7fb;\n",
       "            color:  #000000;\n",
       "        }#T_a1d1c34e_3a44_11eb_a5c5_525400f3f1f9row3_col13,#T_a1d1c34e_3a44_11eb_a5c5_525400f3f1f9row13_col3{\n",
       "            background-color:  #e1dfed;\n",
       "            color:  #000000;\n",
       "        }#T_a1d1c34e_3a44_11eb_a5c5_525400f3f1f9row3_col14,#T_a1d1c34e_3a44_11eb_a5c5_525400f3f1f9row14_col3{\n",
       "            background-color:  #fdf5fa;\n",
       "            color:  #000000;\n",
       "        }#T_a1d1c34e_3a44_11eb_a5c5_525400f3f1f9row3_col15,#T_a1d1c34e_3a44_11eb_a5c5_525400f3f1f9row15_col3{\n",
       "            background-color:  #d0d1e6;\n",
       "            color:  #000000;\n",
       "        }#T_a1d1c34e_3a44_11eb_a5c5_525400f3f1f9row4_col5,#T_a1d1c34e_3a44_11eb_a5c5_525400f3f1f9row5_col4{\n",
       "            background-color:  #4897c4;\n",
       "            color:  #000000;\n",
       "        }#T_a1d1c34e_3a44_11eb_a5c5_525400f3f1f9row4_col7,#T_a1d1c34e_3a44_11eb_a5c5_525400f3f1f9row7_col4{\n",
       "            background-color:  #4295c3;\n",
       "            color:  #000000;\n",
       "        }#T_a1d1c34e_3a44_11eb_a5c5_525400f3f1f9row4_col8,#T_a1d1c34e_3a44_11eb_a5c5_525400f3f1f9row5_col11,#T_a1d1c34e_3a44_11eb_a5c5_525400f3f1f9row8_col4,#T_a1d1c34e_3a44_11eb_a5c5_525400f3f1f9row9_col13,#T_a1d1c34e_3a44_11eb_a5c5_525400f3f1f9row11_col5,#T_a1d1c34e_3a44_11eb_a5c5_525400f3f1f9row12_col14,#T_a1d1c34e_3a44_11eb_a5c5_525400f3f1f9row13_col9,#T_a1d1c34e_3a44_11eb_a5c5_525400f3f1f9row14_col12{\n",
       "            background-color:  #197db7;\n",
       "            color:  #000000;\n",
       "        }#T_a1d1c34e_3a44_11eb_a5c5_525400f3f1f9row4_col9,#T_a1d1c34e_3a44_11eb_a5c5_525400f3f1f9row9_col4{\n",
       "            background-color:  #328dbf;\n",
       "            color:  #000000;\n",
       "        }#T_a1d1c34e_3a44_11eb_a5c5_525400f3f1f9row4_col11,#T_a1d1c34e_3a44_11eb_a5c5_525400f3f1f9row11_col4{\n",
       "            background-color:  #1b7eb7;\n",
       "            color:  #000000;\n",
       "        }#T_a1d1c34e_3a44_11eb_a5c5_525400f3f1f9row4_col15,#T_a1d1c34e_3a44_11eb_a5c5_525400f3f1f9row15_col4{\n",
       "            background-color:  #4e9ac6;\n",
       "            color:  #000000;\n",
       "        }#T_a1d1c34e_3a44_11eb_a5c5_525400f3f1f9row4_col16,#T_a1d1c34e_3a44_11eb_a5c5_525400f3f1f9row16_col4{\n",
       "            background-color:  #3991c1;\n",
       "            color:  #000000;\n",
       "        }#T_a1d1c34e_3a44_11eb_a5c5_525400f3f1f9row5_col6,#T_a1d1c34e_3a44_11eb_a5c5_525400f3f1f9row5_col16,#T_a1d1c34e_3a44_11eb_a5c5_525400f3f1f9row6_col5,#T_a1d1c34e_3a44_11eb_a5c5_525400f3f1f9row16_col5{\n",
       "            background-color:  #045b8e;\n",
       "            color:  #f1f1f1;\n",
       "        }#T_a1d1c34e_3a44_11eb_a5c5_525400f3f1f9row5_col7,#T_a1d1c34e_3a44_11eb_a5c5_525400f3f1f9row5_col10,#T_a1d1c34e_3a44_11eb_a5c5_525400f3f1f9row7_col5,#T_a1d1c34e_3a44_11eb_a5c5_525400f3f1f9row10_col5{\n",
       "            background-color:  #056dac;\n",
       "            color:  #f1f1f1;\n",
       "        }#T_a1d1c34e_3a44_11eb_a5c5_525400f3f1f9row5_col8,#T_a1d1c34e_3a44_11eb_a5c5_525400f3f1f9row8_col5{\n",
       "            background-color:  #0c74b2;\n",
       "            color:  #f1f1f1;\n",
       "        }#T_a1d1c34e_3a44_11eb_a5c5_525400f3f1f9row5_col9,#T_a1d1c34e_3a44_11eb_a5c5_525400f3f1f9row9_col5{\n",
       "            background-color:  #1c7fb8;\n",
       "            color:  #000000;\n",
       "        }#T_a1d1c34e_3a44_11eb_a5c5_525400f3f1f9row5_col12,#T_a1d1c34e_3a44_11eb_a5c5_525400f3f1f9row12_col5{\n",
       "            background-color:  #93b5d6;\n",
       "            color:  #000000;\n",
       "        }#T_a1d1c34e_3a44_11eb_a5c5_525400f3f1f9row5_col13,#T_a1d1c34e_3a44_11eb_a5c5_525400f3f1f9row13_col5{\n",
       "            background-color:  #4496c3;\n",
       "            color:  #000000;\n",
       "        }#T_a1d1c34e_3a44_11eb_a5c5_525400f3f1f9row5_col15,#T_a1d1c34e_3a44_11eb_a5c5_525400f3f1f9row15_col5{\n",
       "            background-color:  #b7c5df;\n",
       "            color:  #000000;\n",
       "        }#T_a1d1c34e_3a44_11eb_a5c5_525400f3f1f9row6_col7,#T_a1d1c34e_3a44_11eb_a5c5_525400f3f1f9row7_col6{\n",
       "            background-color:  #045e94;\n",
       "            color:  #f1f1f1;\n",
       "        }#T_a1d1c34e_3a44_11eb_a5c5_525400f3f1f9row6_col8,#T_a1d1c34e_3a44_11eb_a5c5_525400f3f1f9row8_col6{\n",
       "            background-color:  #056ba9;\n",
       "            color:  #f1f1f1;\n",
       "        }#T_a1d1c34e_3a44_11eb_a5c5_525400f3f1f9row6_col9,#T_a1d1c34e_3a44_11eb_a5c5_525400f3f1f9row9_col6{\n",
       "            background-color:  #056dab;\n",
       "            color:  #f1f1f1;\n",
       "        }#T_a1d1c34e_3a44_11eb_a5c5_525400f3f1f9row6_col10,#T_a1d1c34e_3a44_11eb_a5c5_525400f3f1f9row10_col6{\n",
       "            background-color:  #045a8d;\n",
       "            color:  #f1f1f1;\n",
       "        }#T_a1d1c34e_3a44_11eb_a5c5_525400f3f1f9row6_col11,#T_a1d1c34e_3a44_11eb_a5c5_525400f3f1f9row11_col6{\n",
       "            background-color:  #157ab5;\n",
       "            color:  #000000;\n",
       "        }#T_a1d1c34e_3a44_11eb_a5c5_525400f3f1f9row6_col12,#T_a1d1c34e_3a44_11eb_a5c5_525400f3f1f9row9_col15,#T_a1d1c34e_3a44_11eb_a5c5_525400f3f1f9row12_col6,#T_a1d1c34e_3a44_11eb_a5c5_525400f3f1f9row15_col9{\n",
       "            background-color:  #78abd0;\n",
       "            color:  #000000;\n",
       "        }#T_a1d1c34e_3a44_11eb_a5c5_525400f3f1f9row6_col13,#T_a1d1c34e_3a44_11eb_a5c5_525400f3f1f9row13_col6{\n",
       "            background-color:  #2c89bd;\n",
       "            color:  #000000;\n",
       "        }#T_a1d1c34e_3a44_11eb_a5c5_525400f3f1f9row6_col16,#T_a1d1c34e_3a44_11eb_a5c5_525400f3f1f9row16_col6{\n",
       "            background-color:  #03476f;\n",
       "            color:  #f1f1f1;\n",
       "        }#T_a1d1c34e_3a44_11eb_a5c5_525400f3f1f9row7_col8,#T_a1d1c34e_3a44_11eb_a5c5_525400f3f1f9row8_col7{\n",
       "            background-color:  #05659f;\n",
       "            color:  #f1f1f1;\n",
       "        }#T_a1d1c34e_3a44_11eb_a5c5_525400f3f1f9row7_col9,#T_a1d1c34e_3a44_11eb_a5c5_525400f3f1f9row9_col7{\n",
       "            background-color:  #056aa6;\n",
       "            color:  #f1f1f1;\n",
       "        }#T_a1d1c34e_3a44_11eb_a5c5_525400f3f1f9row7_col10,#T_a1d1c34e_3a44_11eb_a5c5_525400f3f1f9row10_col7{\n",
       "            background-color:  #056faf;\n",
       "            color:  #f1f1f1;\n",
       "        }#T_a1d1c34e_3a44_11eb_a5c5_525400f3f1f9row7_col11,#T_a1d1c34e_3a44_11eb_a5c5_525400f3f1f9row11_col7,#T_a1d1c34e_3a44_11eb_a5c5_525400f3f1f9row14_col15,#T_a1d1c34e_3a44_11eb_a5c5_525400f3f1f9row15_col14{\n",
       "            background-color:  #1278b4;\n",
       "            color:  #f1f1f1;\n",
       "        }#T_a1d1c34e_3a44_11eb_a5c5_525400f3f1f9row7_col12,#T_a1d1c34e_3a44_11eb_a5c5_525400f3f1f9row12_col7{\n",
       "            background-color:  #60a1ca;\n",
       "            color:  #000000;\n",
       "        }#T_a1d1c34e_3a44_11eb_a5c5_525400f3f1f9row7_col13,#T_a1d1c34e_3a44_11eb_a5c5_525400f3f1f9row10_col11,#T_a1d1c34e_3a44_11eb_a5c5_525400f3f1f9row11_col10,#T_a1d1c34e_3a44_11eb_a5c5_525400f3f1f9row13_col7{\n",
       "            background-color:  #1077b4;\n",
       "            color:  #f1f1f1;\n",
       "        }#T_a1d1c34e_3a44_11eb_a5c5_525400f3f1f9row7_col14,#T_a1d1c34e_3a44_11eb_a5c5_525400f3f1f9row14_col7{\n",
       "            background-color:  #81aed2;\n",
       "            color:  #000000;\n",
       "        }#T_a1d1c34e_3a44_11eb_a5c5_525400f3f1f9row7_col16,#T_a1d1c34e_3a44_11eb_a5c5_525400f3f1f9row16_col7{\n",
       "            background-color:  #034d79;\n",
       "            color:  #f1f1f1;\n",
       "        }#T_a1d1c34e_3a44_11eb_a5c5_525400f3f1f9row8_col9,#T_a1d1c34e_3a44_11eb_a5c5_525400f3f1f9row9_col8{\n",
       "            background-color:  #045585;\n",
       "            color:  #f1f1f1;\n",
       "        }#T_a1d1c34e_3a44_11eb_a5c5_525400f3f1f9row8_col10,#T_a1d1c34e_3a44_11eb_a5c5_525400f3f1f9row10_col8{\n",
       "            background-color:  #0872b1;\n",
       "            color:  #f1f1f1;\n",
       "        }#T_a1d1c34e_3a44_11eb_a5c5_525400f3f1f9row8_col11,#T_a1d1c34e_3a44_11eb_a5c5_525400f3f1f9row11_col8{\n",
       "            background-color:  #045e93;\n",
       "            color:  #f1f1f1;\n",
       "        }#T_a1d1c34e_3a44_11eb_a5c5_525400f3f1f9row8_col12,#T_a1d1c34e_3a44_11eb_a5c5_525400f3f1f9row12_col8,#T_a1d1c34e_3a44_11eb_a5c5_525400f3f1f9row13_col14,#T_a1d1c34e_3a44_11eb_a5c5_525400f3f1f9row14_col13{\n",
       "            background-color:  #2786bb;\n",
       "            color:  #000000;\n",
       "        }#T_a1d1c34e_3a44_11eb_a5c5_525400f3f1f9row8_col13,#T_a1d1c34e_3a44_11eb_a5c5_525400f3f1f9row13_col8{\n",
       "            background-color:  #0d75b3;\n",
       "            color:  #f1f1f1;\n",
       "        }#T_a1d1c34e_3a44_11eb_a5c5_525400f3f1f9row8_col14,#T_a1d1c34e_3a44_11eb_a5c5_525400f3f1f9row9_col14,#T_a1d1c34e_3a44_11eb_a5c5_525400f3f1f9row14_col8,#T_a1d1c34e_3a44_11eb_a5c5_525400f3f1f9row14_col9{\n",
       "            background-color:  #4697c4;\n",
       "            color:  #000000;\n",
       "        }#T_a1d1c34e_3a44_11eb_a5c5_525400f3f1f9row8_col16,#T_a1d1c34e_3a44_11eb_a5c5_525400f3f1f9row16_col8{\n",
       "            background-color:  #045d92;\n",
       "            color:  #f1f1f1;\n",
       "        }#T_a1d1c34e_3a44_11eb_a5c5_525400f3f1f9row9_col10,#T_a1d1c34e_3a44_11eb_a5c5_525400f3f1f9row10_col9{\n",
       "            background-color:  #056ead;\n",
       "            color:  #f1f1f1;\n",
       "        }#T_a1d1c34e_3a44_11eb_a5c5_525400f3f1f9row9_col11,#T_a1d1c34e_3a44_11eb_a5c5_525400f3f1f9row11_col9{\n",
       "            background-color:  #04649e;\n",
       "            color:  #f1f1f1;\n",
       "        }#T_a1d1c34e_3a44_11eb_a5c5_525400f3f1f9row9_col12,#T_a1d1c34e_3a44_11eb_a5c5_525400f3f1f9row12_col9{\n",
       "            background-color:  #3790c0;\n",
       "            color:  #000000;\n",
       "        }#T_a1d1c34e_3a44_11eb_a5c5_525400f3f1f9row9_col16,#T_a1d1c34e_3a44_11eb_a5c5_525400f3f1f9row16_col9{\n",
       "            background-color:  #046299;\n",
       "            color:  #f1f1f1;\n",
       "        }#T_a1d1c34e_3a44_11eb_a5c5_525400f3f1f9row10_col12,#T_a1d1c34e_3a44_11eb_a5c5_525400f3f1f9row12_col10{\n",
       "            background-color:  #569dc8;\n",
       "            color:  #000000;\n",
       "        }#T_a1d1c34e_3a44_11eb_a5c5_525400f3f1f9row10_col13,#T_a1d1c34e_3a44_11eb_a5c5_525400f3f1f9row12_col16,#T_a1d1c34e_3a44_11eb_a5c5_525400f3f1f9row13_col10,#T_a1d1c34e_3a44_11eb_a5c5_525400f3f1f9row16_col12{\n",
       "            background-color:  #4094c3;\n",
       "            color:  #000000;\n",
       "        }#T_a1d1c34e_3a44_11eb_a5c5_525400f3f1f9row10_col15,#T_a1d1c34e_3a44_11eb_a5c5_525400f3f1f9row15_col10{\n",
       "            background-color:  #c8cde4;\n",
       "            color:  #000000;\n",
       "        }#T_a1d1c34e_3a44_11eb_a5c5_525400f3f1f9row10_col16,#T_a1d1c34e_3a44_11eb_a5c5_525400f3f1f9row16_col10{\n",
       "            background-color:  #045b8f;\n",
       "            color:  #f1f1f1;\n",
       "        }#T_a1d1c34e_3a44_11eb_a5c5_525400f3f1f9row11_col12,#T_a1d1c34e_3a44_11eb_a5c5_525400f3f1f9row12_col11{\n",
       "            background-color:  #69a5cc;\n",
       "            color:  #000000;\n",
       "        }#T_a1d1c34e_3a44_11eb_a5c5_525400f3f1f9row11_col13,#T_a1d1c34e_3a44_11eb_a5c5_525400f3f1f9row13_col11{\n",
       "            background-color:  #348ebf;\n",
       "            color:  #000000;\n",
       "        }#T_a1d1c34e_3a44_11eb_a5c5_525400f3f1f9row11_col14,#T_a1d1c34e_3a44_11eb_a5c5_525400f3f1f9row14_col11{\n",
       "            background-color:  #8cb3d5;\n",
       "            color:  #000000;\n",
       "        }#T_a1d1c34e_3a44_11eb_a5c5_525400f3f1f9row11_col16,#T_a1d1c34e_3a44_11eb_a5c5_525400f3f1f9row16_col11{\n",
       "            background-color:  #0569a4;\n",
       "            color:  #f1f1f1;\n",
       "        }#T_a1d1c34e_3a44_11eb_a5c5_525400f3f1f9row12_col13,#T_a1d1c34e_3a44_11eb_a5c5_525400f3f1f9row13_col12{\n",
       "            background-color:  #3d93c2;\n",
       "            color:  #000000;\n",
       "        }#T_a1d1c34e_3a44_11eb_a5c5_525400f3f1f9row12_col15,#T_a1d1c34e_3a44_11eb_a5c5_525400f3f1f9row15_col12{\n",
       "            background-color:  #2685bb;\n",
       "            color:  #000000;\n",
       "        }#T_a1d1c34e_3a44_11eb_a5c5_525400f3f1f9row13_col15,#T_a1d1c34e_3a44_11eb_a5c5_525400f3f1f9row15_col13{\n",
       "            background-color:  #3f93c2;\n",
       "            color:  #000000;\n",
       "        }#T_a1d1c34e_3a44_11eb_a5c5_525400f3f1f9row13_col16,#T_a1d1c34e_3a44_11eb_a5c5_525400f3f1f9row16_col13{\n",
       "            background-color:  #0570b0;\n",
       "            color:  #f1f1f1;\n",
       "        }#T_a1d1c34e_3a44_11eb_a5c5_525400f3f1f9row15_col16,#T_a1d1c34e_3a44_11eb_a5c5_525400f3f1f9row16_col15{\n",
       "            background-color:  #adc1dd;\n",
       "            color:  #000000;\n",
       "        }</style><table id=\"T_a1d1c34e_3a44_11eb_a5c5_525400f3f1f9\" ><thead>    <tr>        <th class=\"blank level0\" ></th>        <th class=\"col_heading level0 col0\" >Rt</th>        <th class=\"col_heading level0 col1\" >theta</th>        <th class=\"col_heading level0 col2\" >kappa</th>        <th class=\"col_heading level0 col3\" >rho</th>        <th class=\"col_heading level0 col4\" >sigma</th>        <th class=\"col_heading level0 col5\" >School_closing</th>        <th class=\"col_heading level0 col6\" >Workplace_closing</th>        <th class=\"col_heading level0 col7\" >Cancel_events</th>        <th class=\"col_heading level0 col8\" >Gatherings_restrictions</th>        <th class=\"col_heading level0 col9\" >Transport_closing</th>        <th class=\"col_heading level0 col10\" >Stay_home_restrictions</th>        <th class=\"col_heading level0 col11\" >Internal_movement_restrictions</th>        <th class=\"col_heading level0 col12\" >International_movement_restrictions</th>        <th class=\"col_heading level0 col13\" >Information_campaigns</th>        <th class=\"col_heading level0 col14\" >Testing_policy</th>        <th class=\"col_heading level0 col15\" >Contact_tracing</th>        <th class=\"col_heading level0 col16\" >Stringency_index</th>    </tr></thead><tbody>\n",
       "                <tr>\n",
       "                        <th id=\"T_a1d1c34e_3a44_11eb_a5c5_525400f3f1f9level0_row0\" class=\"row_heading level0 row0\" >Rt</th>\n",
       "                        <td id=\"T_a1d1c34e_3a44_11eb_a5c5_525400f3f1f9row0_col0\" class=\"data row0 col0\" >1.000000</td>\n",
       "                        <td id=\"T_a1d1c34e_3a44_11eb_a5c5_525400f3f1f9row0_col1\" class=\"data row0 col1\" >-0.118041</td>\n",
       "                        <td id=\"T_a1d1c34e_3a44_11eb_a5c5_525400f3f1f9row0_col2\" class=\"data row0 col2\" >-0.147656</td>\n",
       "                        <td id=\"T_a1d1c34e_3a44_11eb_a5c5_525400f3f1f9row0_col3\" class=\"data row0 col3\" >0.354925</td>\n",
       "                        <td id=\"T_a1d1c34e_3a44_11eb_a5c5_525400f3f1f9row0_col4\" class=\"data row0 col4\" >-0.342090</td>\n",
       "                        <td id=\"T_a1d1c34e_3a44_11eb_a5c5_525400f3f1f9row0_col5\" class=\"data row0 col5\" >-0.022403</td>\n",
       "                        <td id=\"T_a1d1c34e_3a44_11eb_a5c5_525400f3f1f9row0_col6\" class=\"data row0 col6\" >-0.037745</td>\n",
       "                        <td id=\"T_a1d1c34e_3a44_11eb_a5c5_525400f3f1f9row0_col7\" class=\"data row0 col7\" >-0.172349</td>\n",
       "                        <td id=\"T_a1d1c34e_3a44_11eb_a5c5_525400f3f1f9row0_col8\" class=\"data row0 col8\" >-0.215523</td>\n",
       "                        <td id=\"T_a1d1c34e_3a44_11eb_a5c5_525400f3f1f9row0_col9\" class=\"data row0 col9\" >-0.196694</td>\n",
       "                        <td id=\"T_a1d1c34e_3a44_11eb_a5c5_525400f3f1f9row0_col10\" class=\"data row0 col10\" >-0.066434</td>\n",
       "                        <td id=\"T_a1d1c34e_3a44_11eb_a5c5_525400f3f1f9row0_col11\" class=\"data row0 col11\" >-0.225785</td>\n",
       "                        <td id=\"T_a1d1c34e_3a44_11eb_a5c5_525400f3f1f9row0_col12\" class=\"data row0 col12\" >-0.063770</td>\n",
       "                        <td id=\"T_a1d1c34e_3a44_11eb_a5c5_525400f3f1f9row0_col13\" class=\"data row0 col13\" >-0.096871</td>\n",
       "                        <td id=\"T_a1d1c34e_3a44_11eb_a5c5_525400f3f1f9row0_col14\" class=\"data row0 col14\" >-0.179339</td>\n",
       "                        <td id=\"T_a1d1c34e_3a44_11eb_a5c5_525400f3f1f9row0_col15\" class=\"data row0 col15\" >-0.097362</td>\n",
       "                        <td id=\"T_a1d1c34e_3a44_11eb_a5c5_525400f3f1f9row0_col16\" class=\"data row0 col16\" >-0.111191</td>\n",
       "            </tr>\n",
       "            <tr>\n",
       "                        <th id=\"T_a1d1c34e_3a44_11eb_a5c5_525400f3f1f9level0_row1\" class=\"row_heading level0 row1\" >theta</th>\n",
       "                        <td id=\"T_a1d1c34e_3a44_11eb_a5c5_525400f3f1f9row1_col0\" class=\"data row1 col0\" >-0.118041</td>\n",
       "                        <td id=\"T_a1d1c34e_3a44_11eb_a5c5_525400f3f1f9row1_col1\" class=\"data row1 col1\" >1.000000</td>\n",
       "                        <td id=\"T_a1d1c34e_3a44_11eb_a5c5_525400f3f1f9row1_col2\" class=\"data row1 col2\" >0.226332</td>\n",
       "                        <td id=\"T_a1d1c34e_3a44_11eb_a5c5_525400f3f1f9row1_col3\" class=\"data row1 col3\" >-0.211101</td>\n",
       "                        <td id=\"T_a1d1c34e_3a44_11eb_a5c5_525400f3f1f9row1_col4\" class=\"data row1 col4\" >0.134159</td>\n",
       "                        <td id=\"T_a1d1c34e_3a44_11eb_a5c5_525400f3f1f9row1_col5\" class=\"data row1 col5\" >0.306672</td>\n",
       "                        <td id=\"T_a1d1c34e_3a44_11eb_a5c5_525400f3f1f9row1_col6\" class=\"data row1 col6\" >0.265668</td>\n",
       "                        <td id=\"T_a1d1c34e_3a44_11eb_a5c5_525400f3f1f9row1_col7\" class=\"data row1 col7\" >0.259439</td>\n",
       "                        <td id=\"T_a1d1c34e_3a44_11eb_a5c5_525400f3f1f9row1_col8\" class=\"data row1 col8\" >0.227536</td>\n",
       "                        <td id=\"T_a1d1c34e_3a44_11eb_a5c5_525400f3f1f9row1_col9\" class=\"data row1 col9\" >0.211728</td>\n",
       "                        <td id=\"T_a1d1c34e_3a44_11eb_a5c5_525400f3f1f9row1_col10\" class=\"data row1 col10\" >0.220495</td>\n",
       "                        <td id=\"T_a1d1c34e_3a44_11eb_a5c5_525400f3f1f9row1_col11\" class=\"data row1 col11\" >0.272555</td>\n",
       "                        <td id=\"T_a1d1c34e_3a44_11eb_a5c5_525400f3f1f9row1_col12\" class=\"data row1 col12\" >0.228035</td>\n",
       "                        <td id=\"T_a1d1c34e_3a44_11eb_a5c5_525400f3f1f9row1_col13\" class=\"data row1 col13\" >0.138475</td>\n",
       "                        <td id=\"T_a1d1c34e_3a44_11eb_a5c5_525400f3f1f9row1_col14\" class=\"data row1 col14\" >-0.150006</td>\n",
       "                        <td id=\"T_a1d1c34e_3a44_11eb_a5c5_525400f3f1f9row1_col15\" class=\"data row1 col15\" >0.088617</td>\n",
       "                        <td id=\"T_a1d1c34e_3a44_11eb_a5c5_525400f3f1f9row1_col16\" class=\"data row1 col16\" >0.329796</td>\n",
       "            </tr>\n",
       "            <tr>\n",
       "                        <th id=\"T_a1d1c34e_3a44_11eb_a5c5_525400f3f1f9level0_row2\" class=\"row_heading level0 row2\" >kappa</th>\n",
       "                        <td id=\"T_a1d1c34e_3a44_11eb_a5c5_525400f3f1f9row2_col0\" class=\"data row2 col0\" >-0.147656</td>\n",
       "                        <td id=\"T_a1d1c34e_3a44_11eb_a5c5_525400f3f1f9row2_col1\" class=\"data row2 col1\" >0.226332</td>\n",
       "                        <td id=\"T_a1d1c34e_3a44_11eb_a5c5_525400f3f1f9row2_col2\" class=\"data row2 col2\" >1.000000</td>\n",
       "                        <td id=\"T_a1d1c34e_3a44_11eb_a5c5_525400f3f1f9row2_col3\" class=\"data row2 col3\" >0.088933</td>\n",
       "                        <td id=\"T_a1d1c34e_3a44_11eb_a5c5_525400f3f1f9row2_col4\" class=\"data row2 col4\" >0.240294</td>\n",
       "                        <td id=\"T_a1d1c34e_3a44_11eb_a5c5_525400f3f1f9row2_col5\" class=\"data row2 col5\" >0.296322</td>\n",
       "                        <td id=\"T_a1d1c34e_3a44_11eb_a5c5_525400f3f1f9row2_col6\" class=\"data row2 col6\" >0.114893</td>\n",
       "                        <td id=\"T_a1d1c34e_3a44_11eb_a5c5_525400f3f1f9row2_col7\" class=\"data row2 col7\" >0.056101</td>\n",
       "                        <td id=\"T_a1d1c34e_3a44_11eb_a5c5_525400f3f1f9row2_col8\" class=\"data row2 col8\" >0.176025</td>\n",
       "                        <td id=\"T_a1d1c34e_3a44_11eb_a5c5_525400f3f1f9row2_col9\" class=\"data row2 col9\" >0.124409</td>\n",
       "                        <td id=\"T_a1d1c34e_3a44_11eb_a5c5_525400f3f1f9row2_col10\" class=\"data row2 col10\" >0.068377</td>\n",
       "                        <td id=\"T_a1d1c34e_3a44_11eb_a5c5_525400f3f1f9row2_col11\" class=\"data row2 col11\" >0.270819</td>\n",
       "                        <td id=\"T_a1d1c34e_3a44_11eb_a5c5_525400f3f1f9row2_col12\" class=\"data row2 col12\" >-0.194762</td>\n",
       "                        <td id=\"T_a1d1c34e_3a44_11eb_a5c5_525400f3f1f9row2_col13\" class=\"data row2 col13\" >0.061396</td>\n",
       "                        <td id=\"T_a1d1c34e_3a44_11eb_a5c5_525400f3f1f9row2_col14\" class=\"data row2 col14\" >-0.217818</td>\n",
       "                        <td id=\"T_a1d1c34e_3a44_11eb_a5c5_525400f3f1f9row2_col15\" class=\"data row2 col15\" >0.030883</td>\n",
       "                        <td id=\"T_a1d1c34e_3a44_11eb_a5c5_525400f3f1f9row2_col16\" class=\"data row2 col16\" >0.121489</td>\n",
       "            </tr>\n",
       "            <tr>\n",
       "                        <th id=\"T_a1d1c34e_3a44_11eb_a5c5_525400f3f1f9level0_row3\" class=\"row_heading level0 row3\" >rho</th>\n",
       "                        <td id=\"T_a1d1c34e_3a44_11eb_a5c5_525400f3f1f9row3_col0\" class=\"data row3 col0\" >0.354925</td>\n",
       "                        <td id=\"T_a1d1c34e_3a44_11eb_a5c5_525400f3f1f9row3_col1\" class=\"data row3 col1\" >-0.211101</td>\n",
       "                        <td id=\"T_a1d1c34e_3a44_11eb_a5c5_525400f3f1f9row3_col2\" class=\"data row3 col2\" >0.088933</td>\n",
       "                        <td id=\"T_a1d1c34e_3a44_11eb_a5c5_525400f3f1f9row3_col3\" class=\"data row3 col3\" >1.000000</td>\n",
       "                        <td id=\"T_a1d1c34e_3a44_11eb_a5c5_525400f3f1f9row3_col4\" class=\"data row3 col4\" >-0.304848</td>\n",
       "                        <td id=\"T_a1d1c34e_3a44_11eb_a5c5_525400f3f1f9row3_col5\" class=\"data row3 col5\" >-0.308101</td>\n",
       "                        <td id=\"T_a1d1c34e_3a44_11eb_a5c5_525400f3f1f9row3_col6\" class=\"data row3 col6\" >-0.347133</td>\n",
       "                        <td id=\"T_a1d1c34e_3a44_11eb_a5c5_525400f3f1f9row3_col7\" class=\"data row3 col7\" >-0.512193</td>\n",
       "                        <td id=\"T_a1d1c34e_3a44_11eb_a5c5_525400f3f1f9row3_col8\" class=\"data row3 col8\" >-0.500977</td>\n",
       "                        <td id=\"T_a1d1c34e_3a44_11eb_a5c5_525400f3f1f9row3_col9\" class=\"data row3 col9\" >-0.446851</td>\n",
       "                        <td id=\"T_a1d1c34e_3a44_11eb_a5c5_525400f3f1f9row3_col10\" class=\"data row3 col10\" >-0.343293</td>\n",
       "                        <td id=\"T_a1d1c34e_3a44_11eb_a5c5_525400f3f1f9row3_col11\" class=\"data row3 col11\" >-0.208031</td>\n",
       "                        <td id=\"T_a1d1c34e_3a44_11eb_a5c5_525400f3f1f9row3_col12\" class=\"data row3 col12\" >-0.555517</td>\n",
       "                        <td id=\"T_a1d1c34e_3a44_11eb_a5c5_525400f3f1f9row3_col13\" class=\"data row3 col13\" >-0.286189</td>\n",
       "                        <td id=\"T_a1d1c34e_3a44_11eb_a5c5_525400f3f1f9row3_col14\" class=\"data row3 col14\" >-0.532186</td>\n",
       "                        <td id=\"T_a1d1c34e_3a44_11eb_a5c5_525400f3f1f9row3_col15\" class=\"data row3 col15\" >-0.161332</td>\n",
       "                        <td id=\"T_a1d1c34e_3a44_11eb_a5c5_525400f3f1f9row3_col16\" class=\"data row3 col16\" >-0.446788</td>\n",
       "            </tr>\n",
       "            <tr>\n",
       "                        <th id=\"T_a1d1c34e_3a44_11eb_a5c5_525400f3f1f9level0_row4\" class=\"row_heading level0 row4\" >sigma</th>\n",
       "                        <td id=\"T_a1d1c34e_3a44_11eb_a5c5_525400f3f1f9row4_col0\" class=\"data row4 col0\" >-0.342090</td>\n",
       "                        <td id=\"T_a1d1c34e_3a44_11eb_a5c5_525400f3f1f9row4_col1\" class=\"data row4 col1\" >0.134159</td>\n",
       "                        <td id=\"T_a1d1c34e_3a44_11eb_a5c5_525400f3f1f9row4_col2\" class=\"data row4 col2\" >0.240294</td>\n",
       "                        <td id=\"T_a1d1c34e_3a44_11eb_a5c5_525400f3f1f9row4_col3\" class=\"data row4 col3\" >-0.304848</td>\n",
       "                        <td id=\"T_a1d1c34e_3a44_11eb_a5c5_525400f3f1f9row4_col4\" class=\"data row4 col4\" >1.000000</td>\n",
       "                        <td id=\"T_a1d1c34e_3a44_11eb_a5c5_525400f3f1f9row4_col5\" class=\"data row4 col5\" >0.358687</td>\n",
       "                        <td id=\"T_a1d1c34e_3a44_11eb_a5c5_525400f3f1f9row4_col6\" class=\"data row4 col6\" >0.354256</td>\n",
       "                        <td id=\"T_a1d1c34e_3a44_11eb_a5c5_525400f3f1f9row4_col7\" class=\"data row4 col7\" >0.376490</td>\n",
       "                        <td id=\"T_a1d1c34e_3a44_11eb_a5c5_525400f3f1f9row4_col8\" class=\"data row4 col8\" >0.527087</td>\n",
       "                        <td id=\"T_a1d1c34e_3a44_11eb_a5c5_525400f3f1f9row4_col9\" class=\"data row4 col9\" >0.431777</td>\n",
       "                        <td id=\"T_a1d1c34e_3a44_11eb_a5c5_525400f3f1f9row4_col10\" class=\"data row4 col10\" >0.239907</td>\n",
       "                        <td id=\"T_a1d1c34e_3a44_11eb_a5c5_525400f3f1f9row4_col11\" class=\"data row4 col11\" >0.525538</td>\n",
       "                        <td id=\"T_a1d1c34e_3a44_11eb_a5c5_525400f3f1f9row4_col12\" class=\"data row4 col12\" >0.138007</td>\n",
       "                        <td id=\"T_a1d1c34e_3a44_11eb_a5c5_525400f3f1f9row4_col13\" class=\"data row4 col13\" >0.302280</td>\n",
       "                        <td id=\"T_a1d1c34e_3a44_11eb_a5c5_525400f3f1f9row4_col14\" class=\"data row4 col14\" >0.117554</td>\n",
       "                        <td id=\"T_a1d1c34e_3a44_11eb_a5c5_525400f3f1f9row4_col15\" class=\"data row4 col15\" >0.339761</td>\n",
       "                        <td id=\"T_a1d1c34e_3a44_11eb_a5c5_525400f3f1f9row4_col16\" class=\"data row4 col16\" >0.407415</td>\n",
       "            </tr>\n",
       "            <tr>\n",
       "                        <th id=\"T_a1d1c34e_3a44_11eb_a5c5_525400f3f1f9level0_row5\" class=\"row_heading level0 row5\" >School_closing</th>\n",
       "                        <td id=\"T_a1d1c34e_3a44_11eb_a5c5_525400f3f1f9row5_col0\" class=\"data row5 col0\" >-0.022403</td>\n",
       "                        <td id=\"T_a1d1c34e_3a44_11eb_a5c5_525400f3f1f9row5_col1\" class=\"data row5 col1\" >0.306672</td>\n",
       "                        <td id=\"T_a1d1c34e_3a44_11eb_a5c5_525400f3f1f9row5_col2\" class=\"data row5 col2\" >0.296322</td>\n",
       "                        <td id=\"T_a1d1c34e_3a44_11eb_a5c5_525400f3f1f9row5_col3\" class=\"data row5 col3\" >-0.308101</td>\n",
       "                        <td id=\"T_a1d1c34e_3a44_11eb_a5c5_525400f3f1f9row5_col4\" class=\"data row5 col4\" >0.358687</td>\n",
       "                        <td id=\"T_a1d1c34e_3a44_11eb_a5c5_525400f3f1f9row5_col5\" class=\"data row5 col5\" >1.000000</td>\n",
       "                        <td id=\"T_a1d1c34e_3a44_11eb_a5c5_525400f3f1f9row5_col6\" class=\"data row5 col6\" >0.794267</td>\n",
       "                        <td id=\"T_a1d1c34e_3a44_11eb_a5c5_525400f3f1f9row5_col7\" class=\"data row5 col7\" >0.632157</td>\n",
       "                        <td id=\"T_a1d1c34e_3a44_11eb_a5c5_525400f3f1f9row5_col8\" class=\"data row5 col8\" >0.582921</td>\n",
       "                        <td id=\"T_a1d1c34e_3a44_11eb_a5c5_525400f3f1f9row5_col9\" class=\"data row5 col9\" >0.515298</td>\n",
       "                        <td id=\"T_a1d1c34e_3a44_11eb_a5c5_525400f3f1f9row5_col10\" class=\"data row5 col10\" >0.635214</td>\n",
       "                        <td id=\"T_a1d1c34e_3a44_11eb_a5c5_525400f3f1f9row5_col11\" class=\"data row5 col11\" >0.529259</td>\n",
       "                        <td id=\"T_a1d1c34e_3a44_11eb_a5c5_525400f3f1f9row5_col12\" class=\"data row5 col12\" >0.106178</td>\n",
       "                        <td id=\"T_a1d1c34e_3a44_11eb_a5c5_525400f3f1f9row5_col13\" class=\"data row5 col13\" >0.370536</td>\n",
       "                        <td id=\"T_a1d1c34e_3a44_11eb_a5c5_525400f3f1f9row5_col14\" class=\"data row5 col14\" >-0.151980</td>\n",
       "                        <td id=\"T_a1d1c34e_3a44_11eb_a5c5_525400f3f1f9row5_col15\" class=\"data row5 col15\" >-0.045204</td>\n",
       "                        <td id=\"T_a1d1c34e_3a44_11eb_a5c5_525400f3f1f9row5_col16\" class=\"data row5 col16\" >0.796370</td>\n",
       "            </tr>\n",
       "            <tr>\n",
       "                        <th id=\"T_a1d1c34e_3a44_11eb_a5c5_525400f3f1f9level0_row6\" class=\"row_heading level0 row6\" >Workplace_closing</th>\n",
       "                        <td id=\"T_a1d1c34e_3a44_11eb_a5c5_525400f3f1f9row6_col0\" class=\"data row6 col0\" >-0.037745</td>\n",
       "                        <td id=\"T_a1d1c34e_3a44_11eb_a5c5_525400f3f1f9row6_col1\" class=\"data row6 col1\" >0.265668</td>\n",
       "                        <td id=\"T_a1d1c34e_3a44_11eb_a5c5_525400f3f1f9row6_col2\" class=\"data row6 col2\" >0.114893</td>\n",
       "                        <td id=\"T_a1d1c34e_3a44_11eb_a5c5_525400f3f1f9row6_col3\" class=\"data row6 col3\" >-0.347133</td>\n",
       "                        <td id=\"T_a1d1c34e_3a44_11eb_a5c5_525400f3f1f9row6_col4\" class=\"data row6 col4\" >0.354256</td>\n",
       "                        <td id=\"T_a1d1c34e_3a44_11eb_a5c5_525400f3f1f9row6_col5\" class=\"data row6 col5\" >0.794267</td>\n",
       "                        <td id=\"T_a1d1c34e_3a44_11eb_a5c5_525400f3f1f9row6_col6\" class=\"data row6 col6\" >1.000000</td>\n",
       "                        <td id=\"T_a1d1c34e_3a44_11eb_a5c5_525400f3f1f9row6_col7\" class=\"data row6 col7\" >0.766729</td>\n",
       "                        <td id=\"T_a1d1c34e_3a44_11eb_a5c5_525400f3f1f9row6_col8\" class=\"data row6 col8\" >0.648155</td>\n",
       "                        <td id=\"T_a1d1c34e_3a44_11eb_a5c5_525400f3f1f9row6_col9\" class=\"data row6 col9\" >0.636338</td>\n",
       "                        <td id=\"T_a1d1c34e_3a44_11eb_a5c5_525400f3f1f9row6_col10\" class=\"data row6 col10\" >0.801950</td>\n",
       "                        <td id=\"T_a1d1c34e_3a44_11eb_a5c5_525400f3f1f9row6_col11\" class=\"data row6 col11\" >0.544622</td>\n",
       "                        <td id=\"T_a1d1c34e_3a44_11eb_a5c5_525400f3f1f9row6_col12\" class=\"data row6 col12\" >0.206121</td>\n",
       "                        <td id=\"T_a1d1c34e_3a44_11eb_a5c5_525400f3f1f9row6_col13\" class=\"data row6 col13\" >0.453363</td>\n",
       "                        <td id=\"T_a1d1c34e_3a44_11eb_a5c5_525400f3f1f9row6_col14\" class=\"data row6 col14\" >-0.067500</td>\n",
       "                        <td id=\"T_a1d1c34e_3a44_11eb_a5c5_525400f3f1f9row6_col15\" class=\"data row6 col15\" >-0.191234</td>\n",
       "                        <td id=\"T_a1d1c34e_3a44_11eb_a5c5_525400f3f1f9row6_col16\" class=\"data row6 col16\" >0.913759</td>\n",
       "            </tr>\n",
       "            <tr>\n",
       "                        <th id=\"T_a1d1c34e_3a44_11eb_a5c5_525400f3f1f9level0_row7\" class=\"row_heading level0 row7\" >Cancel_events</th>\n",
       "                        <td id=\"T_a1d1c34e_3a44_11eb_a5c5_525400f3f1f9row7_col0\" class=\"data row7 col0\" >-0.172349</td>\n",
       "                        <td id=\"T_a1d1c34e_3a44_11eb_a5c5_525400f3f1f9row7_col1\" class=\"data row7 col1\" >0.259439</td>\n",
       "                        <td id=\"T_a1d1c34e_3a44_11eb_a5c5_525400f3f1f9row7_col2\" class=\"data row7 col2\" >0.056101</td>\n",
       "                        <td id=\"T_a1d1c34e_3a44_11eb_a5c5_525400f3f1f9row7_col3\" class=\"data row7 col3\" >-0.512193</td>\n",
       "                        <td id=\"T_a1d1c34e_3a44_11eb_a5c5_525400f3f1f9row7_col4\" class=\"data row7 col4\" >0.376490</td>\n",
       "                        <td id=\"T_a1d1c34e_3a44_11eb_a5c5_525400f3f1f9row7_col5\" class=\"data row7 col5\" >0.632157</td>\n",
       "                        <td id=\"T_a1d1c34e_3a44_11eb_a5c5_525400f3f1f9row7_col6\" class=\"data row7 col6\" >0.766729</td>\n",
       "                        <td id=\"T_a1d1c34e_3a44_11eb_a5c5_525400f3f1f9row7_col7\" class=\"data row7 col7\" >1.000000</td>\n",
       "                        <td id=\"T_a1d1c34e_3a44_11eb_a5c5_525400f3f1f9row7_col8\" class=\"data row7 col8\" >0.707232</td>\n",
       "                        <td id=\"T_a1d1c34e_3a44_11eb_a5c5_525400f3f1f9row7_col9\" class=\"data row7 col9\" >0.664913</td>\n",
       "                        <td id=\"T_a1d1c34e_3a44_11eb_a5c5_525400f3f1f9row7_col10\" class=\"data row7 col10\" >0.612291</td>\n",
       "                        <td id=\"T_a1d1c34e_3a44_11eb_a5c5_525400f3f1f9row7_col11\" class=\"data row7 col11\" >0.557720</td>\n",
       "                        <td id=\"T_a1d1c34e_3a44_11eb_a5c5_525400f3f1f9row7_col12\" class=\"data row7 col12\" >0.283608</td>\n",
       "                        <td id=\"T_a1d1c34e_3a44_11eb_a5c5_525400f3f1f9row7_col13\" class=\"data row7 col13\" >0.563016</td>\n",
       "                        <td id=\"T_a1d1c34e_3a44_11eb_a5c5_525400f3f1f9row7_col14\" class=\"data row7 col14\" >0.169866</td>\n",
       "                        <td id=\"T_a1d1c34e_3a44_11eb_a5c5_525400f3f1f9row7_col15\" class=\"data row7 col15\" >-0.022022</td>\n",
       "                        <td id=\"T_a1d1c34e_3a44_11eb_a5c5_525400f3f1f9row7_col16\" class=\"data row7 col16\" >0.874874</td>\n",
       "            </tr>\n",
       "            <tr>\n",
       "                        <th id=\"T_a1d1c34e_3a44_11eb_a5c5_525400f3f1f9level0_row8\" class=\"row_heading level0 row8\" >Gatherings_restrictions</th>\n",
       "                        <td id=\"T_a1d1c34e_3a44_11eb_a5c5_525400f3f1f9row8_col0\" class=\"data row8 col0\" >-0.215523</td>\n",
       "                        <td id=\"T_a1d1c34e_3a44_11eb_a5c5_525400f3f1f9row8_col1\" class=\"data row8 col1\" >0.227536</td>\n",
       "                        <td id=\"T_a1d1c34e_3a44_11eb_a5c5_525400f3f1f9row8_col2\" class=\"data row8 col2\" >0.176025</td>\n",
       "                        <td id=\"T_a1d1c34e_3a44_11eb_a5c5_525400f3f1f9row8_col3\" class=\"data row8 col3\" >-0.500977</td>\n",
       "                        <td id=\"T_a1d1c34e_3a44_11eb_a5c5_525400f3f1f9row8_col4\" class=\"data row8 col4\" >0.527087</td>\n",
       "                        <td id=\"T_a1d1c34e_3a44_11eb_a5c5_525400f3f1f9row8_col5\" class=\"data row8 col5\" >0.582921</td>\n",
       "                        <td id=\"T_a1d1c34e_3a44_11eb_a5c5_525400f3f1f9row8_col6\" class=\"data row8 col6\" >0.648155</td>\n",
       "                        <td id=\"T_a1d1c34e_3a44_11eb_a5c5_525400f3f1f9row8_col7\" class=\"data row8 col7\" >0.707232</td>\n",
       "                        <td id=\"T_a1d1c34e_3a44_11eb_a5c5_525400f3f1f9row8_col8\" class=\"data row8 col8\" >1.000000</td>\n",
       "                        <td id=\"T_a1d1c34e_3a44_11eb_a5c5_525400f3f1f9row8_col9\" class=\"data row8 col9\" >0.834158</td>\n",
       "                        <td id=\"T_a1d1c34e_3a44_11eb_a5c5_525400f3f1f9row8_col10\" class=\"data row8 col10\" >0.597970</td>\n",
       "                        <td id=\"T_a1d1c34e_3a44_11eb_a5c5_525400f3f1f9row8_col11\" class=\"data row8 col11\" >0.773228</td>\n",
       "                        <td id=\"T_a1d1c34e_3a44_11eb_a5c5_525400f3f1f9row8_col12\" class=\"data row8 col12\" >0.472456</td>\n",
       "                        <td id=\"T_a1d1c34e_3a44_11eb_a5c5_525400f3f1f9row8_col13\" class=\"data row8 col13\" >0.575829</td>\n",
       "                        <td id=\"T_a1d1c34e_3a44_11eb_a5c5_525400f3f1f9row8_col14\" class=\"data row8 col14\" >0.364083</td>\n",
       "                        <td id=\"T_a1d1c34e_3a44_11eb_a5c5_525400f3f1f9row8_col15\" class=\"data row8 col15\" >0.268625</td>\n",
       "                        <td id=\"T_a1d1c34e_3a44_11eb_a5c5_525400f3f1f9row8_col16\" class=\"data row8 col16\" >0.780375</td>\n",
       "            </tr>\n",
       "            <tr>\n",
       "                        <th id=\"T_a1d1c34e_3a44_11eb_a5c5_525400f3f1f9level0_row9\" class=\"row_heading level0 row9\" >Transport_closing</th>\n",
       "                        <td id=\"T_a1d1c34e_3a44_11eb_a5c5_525400f3f1f9row9_col0\" class=\"data row9 col0\" >-0.196694</td>\n",
       "                        <td id=\"T_a1d1c34e_3a44_11eb_a5c5_525400f3f1f9row9_col1\" class=\"data row9 col1\" >0.211728</td>\n",
       "                        <td id=\"T_a1d1c34e_3a44_11eb_a5c5_525400f3f1f9row9_col2\" class=\"data row9 col2\" >0.124409</td>\n",
       "                        <td id=\"T_a1d1c34e_3a44_11eb_a5c5_525400f3f1f9row9_col3\" class=\"data row9 col3\" >-0.446851</td>\n",
       "                        <td id=\"T_a1d1c34e_3a44_11eb_a5c5_525400f3f1f9row9_col4\" class=\"data row9 col4\" >0.431777</td>\n",
       "                        <td id=\"T_a1d1c34e_3a44_11eb_a5c5_525400f3f1f9row9_col5\" class=\"data row9 col5\" >0.515298</td>\n",
       "                        <td id=\"T_a1d1c34e_3a44_11eb_a5c5_525400f3f1f9row9_col6\" class=\"data row9 col6\" >0.636338</td>\n",
       "                        <td id=\"T_a1d1c34e_3a44_11eb_a5c5_525400f3f1f9row9_col7\" class=\"data row9 col7\" >0.664913</td>\n",
       "                        <td id=\"T_a1d1c34e_3a44_11eb_a5c5_525400f3f1f9row9_col8\" class=\"data row9 col8\" >0.834158</td>\n",
       "                        <td id=\"T_a1d1c34e_3a44_11eb_a5c5_525400f3f1f9row9_col9\" class=\"data row9 col9\" >1.000000</td>\n",
       "                        <td id=\"T_a1d1c34e_3a44_11eb_a5c5_525400f3f1f9row9_col10\" class=\"data row9 col10\" >0.625703</td>\n",
       "                        <td id=\"T_a1d1c34e_3a44_11eb_a5c5_525400f3f1f9row9_col11\" class=\"data row9 col11\" >0.710352</td>\n",
       "                        <td id=\"T_a1d1c34e_3a44_11eb_a5c5_525400f3f1f9row9_col12\" class=\"data row9 col12\" >0.412689</td>\n",
       "                        <td id=\"T_a1d1c34e_3a44_11eb_a5c5_525400f3f1f9row9_col13\" class=\"data row9 col13\" >0.527907</td>\n",
       "                        <td id=\"T_a1d1c34e_3a44_11eb_a5c5_525400f3f1f9row9_col14\" class=\"data row9 col14\" >0.366762</td>\n",
       "                        <td id=\"T_a1d1c34e_3a44_11eb_a5c5_525400f3f1f9row9_col15\" class=\"data row9 col15\" >0.204483</td>\n",
       "                        <td id=\"T_a1d1c34e_3a44_11eb_a5c5_525400f3f1f9row9_col16\" class=\"data row9 col16\" >0.736542</td>\n",
       "            </tr>\n",
       "            <tr>\n",
       "                        <th id=\"T_a1d1c34e_3a44_11eb_a5c5_525400f3f1f9level0_row10\" class=\"row_heading level0 row10\" >Stay_home_restrictions</th>\n",
       "                        <td id=\"T_a1d1c34e_3a44_11eb_a5c5_525400f3f1f9row10_col0\" class=\"data row10 col0\" >-0.066434</td>\n",
       "                        <td id=\"T_a1d1c34e_3a44_11eb_a5c5_525400f3f1f9row10_col1\" class=\"data row10 col1\" >0.220495</td>\n",
       "                        <td id=\"T_a1d1c34e_3a44_11eb_a5c5_525400f3f1f9row10_col2\" class=\"data row10 col2\" >0.068377</td>\n",
       "                        <td id=\"T_a1d1c34e_3a44_11eb_a5c5_525400f3f1f9row10_col3\" class=\"data row10 col3\" >-0.343293</td>\n",
       "                        <td id=\"T_a1d1c34e_3a44_11eb_a5c5_525400f3f1f9row10_col4\" class=\"data row10 col4\" >0.239907</td>\n",
       "                        <td id=\"T_a1d1c34e_3a44_11eb_a5c5_525400f3f1f9row10_col5\" class=\"data row10 col5\" >0.635214</td>\n",
       "                        <td id=\"T_a1d1c34e_3a44_11eb_a5c5_525400f3f1f9row10_col6\" class=\"data row10 col6\" >0.801950</td>\n",
       "                        <td id=\"T_a1d1c34e_3a44_11eb_a5c5_525400f3f1f9row10_col7\" class=\"data row10 col7\" >0.612291</td>\n",
       "                        <td id=\"T_a1d1c34e_3a44_11eb_a5c5_525400f3f1f9row10_col8\" class=\"data row10 col8\" >0.597970</td>\n",
       "                        <td id=\"T_a1d1c34e_3a44_11eb_a5c5_525400f3f1f9row10_col9\" class=\"data row10 col9\" >0.625703</td>\n",
       "                        <td id=\"T_a1d1c34e_3a44_11eb_a5c5_525400f3f1f9row10_col10\" class=\"data row10 col10\" >1.000000</td>\n",
       "                        <td id=\"T_a1d1c34e_3a44_11eb_a5c5_525400f3f1f9row10_col11\" class=\"data row10 col11\" >0.566189</td>\n",
       "                        <td id=\"T_a1d1c34e_3a44_11eb_a5c5_525400f3f1f9row10_col12\" class=\"data row10 col12\" >0.317301</td>\n",
       "                        <td id=\"T_a1d1c34e_3a44_11eb_a5c5_525400f3f1f9row10_col13\" class=\"data row10 col13\" >0.385180</td>\n",
       "                        <td id=\"T_a1d1c34e_3a44_11eb_a5c5_525400f3f1f9row10_col14\" class=\"data row10 col14\" >0.055845</td>\n",
       "                        <td id=\"T_a1d1c34e_3a44_11eb_a5c5_525400f3f1f9row10_col15\" class=\"data row10 col15\" >-0.129380</td>\n",
       "                        <td id=\"T_a1d1c34e_3a44_11eb_a5c5_525400f3f1f9row10_col16\" class=\"data row10 col16\" >0.792335</td>\n",
       "            </tr>\n",
       "            <tr>\n",
       "                        <th id=\"T_a1d1c34e_3a44_11eb_a5c5_525400f3f1f9level0_row11\" class=\"row_heading level0 row11\" >Internal_movement_restrictions</th>\n",
       "                        <td id=\"T_a1d1c34e_3a44_11eb_a5c5_525400f3f1f9row11_col0\" class=\"data row11 col0\" >-0.225785</td>\n",
       "                        <td id=\"T_a1d1c34e_3a44_11eb_a5c5_525400f3f1f9row11_col1\" class=\"data row11 col1\" >0.272555</td>\n",
       "                        <td id=\"T_a1d1c34e_3a44_11eb_a5c5_525400f3f1f9row11_col2\" class=\"data row11 col2\" >0.270819</td>\n",
       "                        <td id=\"T_a1d1c34e_3a44_11eb_a5c5_525400f3f1f9row11_col3\" class=\"data row11 col3\" >-0.208031</td>\n",
       "                        <td id=\"T_a1d1c34e_3a44_11eb_a5c5_525400f3f1f9row11_col4\" class=\"data row11 col4\" >0.525538</td>\n",
       "                        <td id=\"T_a1d1c34e_3a44_11eb_a5c5_525400f3f1f9row11_col5\" class=\"data row11 col5\" >0.529259</td>\n",
       "                        <td id=\"T_a1d1c34e_3a44_11eb_a5c5_525400f3f1f9row11_col6\" class=\"data row11 col6\" >0.544622</td>\n",
       "                        <td id=\"T_a1d1c34e_3a44_11eb_a5c5_525400f3f1f9row11_col7\" class=\"data row11 col7\" >0.557720</td>\n",
       "                        <td id=\"T_a1d1c34e_3a44_11eb_a5c5_525400f3f1f9row11_col8\" class=\"data row11 col8\" >0.773228</td>\n",
       "                        <td id=\"T_a1d1c34e_3a44_11eb_a5c5_525400f3f1f9row11_col9\" class=\"data row11 col9\" >0.710352</td>\n",
       "                        <td id=\"T_a1d1c34e_3a44_11eb_a5c5_525400f3f1f9row11_col10\" class=\"data row11 col10\" >0.566189</td>\n",
       "                        <td id=\"T_a1d1c34e_3a44_11eb_a5c5_525400f3f1f9row11_col11\" class=\"data row11 col11\" >1.000000</td>\n",
       "                        <td id=\"T_a1d1c34e_3a44_11eb_a5c5_525400f3f1f9row11_col12\" class=\"data row11 col12\" >0.253688</td>\n",
       "                        <td id=\"T_a1d1c34e_3a44_11eb_a5c5_525400f3f1f9row11_col13\" class=\"data row11 col13\" >0.428553</td>\n",
       "                        <td id=\"T_a1d1c34e_3a44_11eb_a5c5_525400f3f1f9row11_col14\" class=\"data row11 col14\" >0.128933</td>\n",
       "                        <td id=\"T_a1d1c34e_3a44_11eb_a5c5_525400f3f1f9row11_col15\" class=\"data row11 col15\" >0.227849</td>\n",
       "                        <td id=\"T_a1d1c34e_3a44_11eb_a5c5_525400f3f1f9row11_col16\" class=\"data row11 col16\" >0.675151</td>\n",
       "            </tr>\n",
       "            <tr>\n",
       "                        <th id=\"T_a1d1c34e_3a44_11eb_a5c5_525400f3f1f9level0_row12\" class=\"row_heading level0 row12\" >International_movement_restrictions</th>\n",
       "                        <td id=\"T_a1d1c34e_3a44_11eb_a5c5_525400f3f1f9row12_col0\" class=\"data row12 col0\" >-0.063770</td>\n",
       "                        <td id=\"T_a1d1c34e_3a44_11eb_a5c5_525400f3f1f9row12_col1\" class=\"data row12 col1\" >0.228035</td>\n",
       "                        <td id=\"T_a1d1c34e_3a44_11eb_a5c5_525400f3f1f9row12_col2\" class=\"data row12 col2\" >-0.194762</td>\n",
       "                        <td id=\"T_a1d1c34e_3a44_11eb_a5c5_525400f3f1f9row12_col3\" class=\"data row12 col3\" >-0.555517</td>\n",
       "                        <td id=\"T_a1d1c34e_3a44_11eb_a5c5_525400f3f1f9row12_col4\" class=\"data row12 col4\" >0.138007</td>\n",
       "                        <td id=\"T_a1d1c34e_3a44_11eb_a5c5_525400f3f1f9row12_col5\" class=\"data row12 col5\" >0.106178</td>\n",
       "                        <td id=\"T_a1d1c34e_3a44_11eb_a5c5_525400f3f1f9row12_col6\" class=\"data row12 col6\" >0.206121</td>\n",
       "                        <td id=\"T_a1d1c34e_3a44_11eb_a5c5_525400f3f1f9row12_col7\" class=\"data row12 col7\" >0.283608</td>\n",
       "                        <td id=\"T_a1d1c34e_3a44_11eb_a5c5_525400f3f1f9row12_col8\" class=\"data row12 col8\" >0.472456</td>\n",
       "                        <td id=\"T_a1d1c34e_3a44_11eb_a5c5_525400f3f1f9row12_col9\" class=\"data row12 col9\" >0.412689</td>\n",
       "                        <td id=\"T_a1d1c34e_3a44_11eb_a5c5_525400f3f1f9row12_col10\" class=\"data row12 col10\" >0.317301</td>\n",
       "                        <td id=\"T_a1d1c34e_3a44_11eb_a5c5_525400f3f1f9row12_col11\" class=\"data row12 col11\" >0.253688</td>\n",
       "                        <td id=\"T_a1d1c34e_3a44_11eb_a5c5_525400f3f1f9row12_col12\" class=\"data row12 col12\" >1.000000</td>\n",
       "                        <td id=\"T_a1d1c34e_3a44_11eb_a5c5_525400f3f1f9row12_col13\" class=\"data row12 col13\" >0.396635</td>\n",
       "                        <td id=\"T_a1d1c34e_3a44_11eb_a5c5_525400f3f1f9row12_col14\" class=\"data row12 col14\" >0.528708</td>\n",
       "                        <td id=\"T_a1d1c34e_3a44_11eb_a5c5_525400f3f1f9row12_col15\" class=\"data row12 col15\" >0.479323</td>\n",
       "                        <td id=\"T_a1d1c34e_3a44_11eb_a5c5_525400f3f1f9row12_col16\" class=\"data row12 col16\" >0.385727</td>\n",
       "            </tr>\n",
       "            <tr>\n",
       "                        <th id=\"T_a1d1c34e_3a44_11eb_a5c5_525400f3f1f9level0_row13\" class=\"row_heading level0 row13\" >Information_campaigns</th>\n",
       "                        <td id=\"T_a1d1c34e_3a44_11eb_a5c5_525400f3f1f9row13_col0\" class=\"data row13 col0\" >-0.096871</td>\n",
       "                        <td id=\"T_a1d1c34e_3a44_11eb_a5c5_525400f3f1f9row13_col1\" class=\"data row13 col1\" >0.138475</td>\n",
       "                        <td id=\"T_a1d1c34e_3a44_11eb_a5c5_525400f3f1f9row13_col2\" class=\"data row13 col2\" >0.061396</td>\n",
       "                        <td id=\"T_a1d1c34e_3a44_11eb_a5c5_525400f3f1f9row13_col3\" class=\"data row13 col3\" >-0.286189</td>\n",
       "                        <td id=\"T_a1d1c34e_3a44_11eb_a5c5_525400f3f1f9row13_col4\" class=\"data row13 col4\" >0.302280</td>\n",
       "                        <td id=\"T_a1d1c34e_3a44_11eb_a5c5_525400f3f1f9row13_col5\" class=\"data row13 col5\" >0.370536</td>\n",
       "                        <td id=\"T_a1d1c34e_3a44_11eb_a5c5_525400f3f1f9row13_col6\" class=\"data row13 col6\" >0.453363</td>\n",
       "                        <td id=\"T_a1d1c34e_3a44_11eb_a5c5_525400f3f1f9row13_col7\" class=\"data row13 col7\" >0.563016</td>\n",
       "                        <td id=\"T_a1d1c34e_3a44_11eb_a5c5_525400f3f1f9row13_col8\" class=\"data row13 col8\" >0.575829</td>\n",
       "                        <td id=\"T_a1d1c34e_3a44_11eb_a5c5_525400f3f1f9row13_col9\" class=\"data row13 col9\" >0.527907</td>\n",
       "                        <td id=\"T_a1d1c34e_3a44_11eb_a5c5_525400f3f1f9row13_col10\" class=\"data row13 col10\" >0.385180</td>\n",
       "                        <td id=\"T_a1d1c34e_3a44_11eb_a5c5_525400f3f1f9row13_col11\" class=\"data row13 col11\" >0.428553</td>\n",
       "                        <td id=\"T_a1d1c34e_3a44_11eb_a5c5_525400f3f1f9row13_col12\" class=\"data row13 col12\" >0.396635</td>\n",
       "                        <td id=\"T_a1d1c34e_3a44_11eb_a5c5_525400f3f1f9row13_col13\" class=\"data row13 col13\" >1.000000</td>\n",
       "                        <td id=\"T_a1d1c34e_3a44_11eb_a5c5_525400f3f1f9row13_col14\" class=\"data row13 col14\" >0.472111</td>\n",
       "                        <td id=\"T_a1d1c34e_3a44_11eb_a5c5_525400f3f1f9row13_col15\" class=\"data row13 col15\" >0.391544</td>\n",
       "                        <td id=\"T_a1d1c34e_3a44_11eb_a5c5_525400f3f1f9row13_col16\" class=\"data row13 col16\" >0.609038</td>\n",
       "            </tr>\n",
       "            <tr>\n",
       "                        <th id=\"T_a1d1c34e_3a44_11eb_a5c5_525400f3f1f9level0_row14\" class=\"row_heading level0 row14\" >Testing_policy</th>\n",
       "                        <td id=\"T_a1d1c34e_3a44_11eb_a5c5_525400f3f1f9row14_col0\" class=\"data row14 col0\" >-0.179339</td>\n",
       "                        <td id=\"T_a1d1c34e_3a44_11eb_a5c5_525400f3f1f9row14_col1\" class=\"data row14 col1\" >-0.150006</td>\n",
       "                        <td id=\"T_a1d1c34e_3a44_11eb_a5c5_525400f3f1f9row14_col2\" class=\"data row14 col2\" >-0.217818</td>\n",
       "                        <td id=\"T_a1d1c34e_3a44_11eb_a5c5_525400f3f1f9row14_col3\" class=\"data row14 col3\" >-0.532186</td>\n",
       "                        <td id=\"T_a1d1c34e_3a44_11eb_a5c5_525400f3f1f9row14_col4\" class=\"data row14 col4\" >0.117554</td>\n",
       "                        <td id=\"T_a1d1c34e_3a44_11eb_a5c5_525400f3f1f9row14_col5\" class=\"data row14 col5\" >-0.151980</td>\n",
       "                        <td id=\"T_a1d1c34e_3a44_11eb_a5c5_525400f3f1f9row14_col6\" class=\"data row14 col6\" >-0.067500</td>\n",
       "                        <td id=\"T_a1d1c34e_3a44_11eb_a5c5_525400f3f1f9row14_col7\" class=\"data row14 col7\" >0.169866</td>\n",
       "                        <td id=\"T_a1d1c34e_3a44_11eb_a5c5_525400f3f1f9row14_col8\" class=\"data row14 col8\" >0.364083</td>\n",
       "                        <td id=\"T_a1d1c34e_3a44_11eb_a5c5_525400f3f1f9row14_col9\" class=\"data row14 col9\" >0.366762</td>\n",
       "                        <td id=\"T_a1d1c34e_3a44_11eb_a5c5_525400f3f1f9row14_col10\" class=\"data row14 col10\" >0.055845</td>\n",
       "                        <td id=\"T_a1d1c34e_3a44_11eb_a5c5_525400f3f1f9row14_col11\" class=\"data row14 col11\" >0.128933</td>\n",
       "                        <td id=\"T_a1d1c34e_3a44_11eb_a5c5_525400f3f1f9row14_col12\" class=\"data row14 col12\" >0.528708</td>\n",
       "                        <td id=\"T_a1d1c34e_3a44_11eb_a5c5_525400f3f1f9row14_col13\" class=\"data row14 col13\" >0.472111</td>\n",
       "                        <td id=\"T_a1d1c34e_3a44_11eb_a5c5_525400f3f1f9row14_col14\" class=\"data row14 col14\" >1.000000</td>\n",
       "                        <td id=\"T_a1d1c34e_3a44_11eb_a5c5_525400f3f1f9row14_col15\" class=\"data row14 col15\" >0.561513</td>\n",
       "                        <td id=\"T_a1d1c34e_3a44_11eb_a5c5_525400f3f1f9row14_col16\" class=\"data row14 col16\" >0.089166</td>\n",
       "            </tr>\n",
       "            <tr>\n",
       "                        <th id=\"T_a1d1c34e_3a44_11eb_a5c5_525400f3f1f9level0_row15\" class=\"row_heading level0 row15\" >Contact_tracing</th>\n",
       "                        <td id=\"T_a1d1c34e_3a44_11eb_a5c5_525400f3f1f9row15_col0\" class=\"data row15 col0\" >-0.097362</td>\n",
       "                        <td id=\"T_a1d1c34e_3a44_11eb_a5c5_525400f3f1f9row15_col1\" class=\"data row15 col1\" >0.088617</td>\n",
       "                        <td id=\"T_a1d1c34e_3a44_11eb_a5c5_525400f3f1f9row15_col2\" class=\"data row15 col2\" >0.030883</td>\n",
       "                        <td id=\"T_a1d1c34e_3a44_11eb_a5c5_525400f3f1f9row15_col3\" class=\"data row15 col3\" >-0.161332</td>\n",
       "                        <td id=\"T_a1d1c34e_3a44_11eb_a5c5_525400f3f1f9row15_col4\" class=\"data row15 col4\" >0.339761</td>\n",
       "                        <td id=\"T_a1d1c34e_3a44_11eb_a5c5_525400f3f1f9row15_col5\" class=\"data row15 col5\" >-0.045204</td>\n",
       "                        <td id=\"T_a1d1c34e_3a44_11eb_a5c5_525400f3f1f9row15_col6\" class=\"data row15 col6\" >-0.191234</td>\n",
       "                        <td id=\"T_a1d1c34e_3a44_11eb_a5c5_525400f3f1f9row15_col7\" class=\"data row15 col7\" >-0.022022</td>\n",
       "                        <td id=\"T_a1d1c34e_3a44_11eb_a5c5_525400f3f1f9row15_col8\" class=\"data row15 col8\" >0.268625</td>\n",
       "                        <td id=\"T_a1d1c34e_3a44_11eb_a5c5_525400f3f1f9row15_col9\" class=\"data row15 col9\" >0.204483</td>\n",
       "                        <td id=\"T_a1d1c34e_3a44_11eb_a5c5_525400f3f1f9row15_col10\" class=\"data row15 col10\" >-0.129380</td>\n",
       "                        <td id=\"T_a1d1c34e_3a44_11eb_a5c5_525400f3f1f9row15_col11\" class=\"data row15 col11\" >0.227849</td>\n",
       "                        <td id=\"T_a1d1c34e_3a44_11eb_a5c5_525400f3f1f9row15_col12\" class=\"data row15 col12\" >0.479323</td>\n",
       "                        <td id=\"T_a1d1c34e_3a44_11eb_a5c5_525400f3f1f9row15_col13\" class=\"data row15 col13\" >0.391544</td>\n",
       "                        <td id=\"T_a1d1c34e_3a44_11eb_a5c5_525400f3f1f9row15_col14\" class=\"data row15 col14\" >0.561513</td>\n",
       "                        <td id=\"T_a1d1c34e_3a44_11eb_a5c5_525400f3f1f9row15_col15\" class=\"data row15 col15\" >1.000000</td>\n",
       "                        <td id=\"T_a1d1c34e_3a44_11eb_a5c5_525400f3f1f9row15_col16\" class=\"data row15 col16\" >-0.004416</td>\n",
       "            </tr>\n",
       "            <tr>\n",
       "                        <th id=\"T_a1d1c34e_3a44_11eb_a5c5_525400f3f1f9level0_row16\" class=\"row_heading level0 row16\" >Stringency_index</th>\n",
       "                        <td id=\"T_a1d1c34e_3a44_11eb_a5c5_525400f3f1f9row16_col0\" class=\"data row16 col0\" >-0.111191</td>\n",
       "                        <td id=\"T_a1d1c34e_3a44_11eb_a5c5_525400f3f1f9row16_col1\" class=\"data row16 col1\" >0.329796</td>\n",
       "                        <td id=\"T_a1d1c34e_3a44_11eb_a5c5_525400f3f1f9row16_col2\" class=\"data row16 col2\" >0.121489</td>\n",
       "                        <td id=\"T_a1d1c34e_3a44_11eb_a5c5_525400f3f1f9row16_col3\" class=\"data row16 col3\" >-0.446788</td>\n",
       "                        <td id=\"T_a1d1c34e_3a44_11eb_a5c5_525400f3f1f9row16_col4\" class=\"data row16 col4\" >0.407415</td>\n",
       "                        <td id=\"T_a1d1c34e_3a44_11eb_a5c5_525400f3f1f9row16_col5\" class=\"data row16 col5\" >0.796370</td>\n",
       "                        <td id=\"T_a1d1c34e_3a44_11eb_a5c5_525400f3f1f9row16_col6\" class=\"data row16 col6\" >0.913759</td>\n",
       "                        <td id=\"T_a1d1c34e_3a44_11eb_a5c5_525400f3f1f9row16_col7\" class=\"data row16 col7\" >0.874874</td>\n",
       "                        <td id=\"T_a1d1c34e_3a44_11eb_a5c5_525400f3f1f9row16_col8\" class=\"data row16 col8\" >0.780375</td>\n",
       "                        <td id=\"T_a1d1c34e_3a44_11eb_a5c5_525400f3f1f9row16_col9\" class=\"data row16 col9\" >0.736542</td>\n",
       "                        <td id=\"T_a1d1c34e_3a44_11eb_a5c5_525400f3f1f9row16_col10\" class=\"data row16 col10\" >0.792335</td>\n",
       "                        <td id=\"T_a1d1c34e_3a44_11eb_a5c5_525400f3f1f9row16_col11\" class=\"data row16 col11\" >0.675151</td>\n",
       "                        <td id=\"T_a1d1c34e_3a44_11eb_a5c5_525400f3f1f9row16_col12\" class=\"data row16 col12\" >0.385727</td>\n",
       "                        <td id=\"T_a1d1c34e_3a44_11eb_a5c5_525400f3f1f9row16_col13\" class=\"data row16 col13\" >0.609038</td>\n",
       "                        <td id=\"T_a1d1c34e_3a44_11eb_a5c5_525400f3f1f9row16_col14\" class=\"data row16 col14\" >0.089166</td>\n",
       "                        <td id=\"T_a1d1c34e_3a44_11eb_a5c5_525400f3f1f9row16_col15\" class=\"data row16 col15\" >-0.004416</td>\n",
       "                        <td id=\"T_a1d1c34e_3a44_11eb_a5c5_525400f3f1f9row16_col16\" class=\"data row16 col16\" >1.000000</td>\n",
       "            </tr>\n",
       "    </tbody></table>"
      ],
      "text/plain": [
       "<pandas.io.formats.style.Styler at 0x7f4f98c02490>"
      ]
     },
     "execution_count": 21,
     "metadata": {},
     "output_type": "execute_result"
    }
   ],
   "source": [
    "# Correlation\n",
    "df = track_df.copy()\n",
    "df.corr().style.background_gradient(axis=None)"
   ]
  },
  {
   "cell_type": "code",
   "execution_count": 22,
   "metadata": {
    "collapsed": false
   },
   "outputs": [
    {
     "data": {
      "image/png": "[encoded data removed]",
      "text/plain": [
       "<Figure size 432x288 with 1 Axes>"
      ]
     },
     "metadata": {},
     "output_type": "display_data"
    }
   ],
   "source": [
    "# Scatter plot of Stringency index and Rt\n",
    "df = track_df.copy()\n",
    "sns.scatterplot(data=df, x=\"Stringency_index\", y=\"Rt\", hue=\"Country\", legend=\"brief\", marker=\"+\")\n",
    "bbox_to_anchor=(1.02, 0)\n",
    "bbox_loc=\"lower left\"\n",
    "plt.legend(bbox_to_anchor=bbox_to_anchor, loc=bbox_loc, borderaxespad=0)\n",
    "plt.title(\"Relationship of Stringency index and reproduction number\")\n",
    "plt.ylabel(\"Reproduction number\")\n",
    "plt.xlabel(\"Stringency index\")\n",
    "plt.show()"
   ]
  }
 ],
 "metadata": {
  "kernelspec": {
   "display_name": "Python 3.8.2 64-bit ('.venv': venv)",
   "name": "python_defaultSpec_1597669925034"
  },
  "language_info": {
   "codemirror_mode": {
    "name": "ipython",
    "version": 3
   },
   "file_extension": ".py",
   "mimetype": "text/x-python",
   "name": "python",
   "nbconvert_exporter": "python",
   "pygments_lexer": "ipython3",
   "version": "3.8.2-final"
  }
 },
 "nbformat": 4,
 "nbformat_minor": 4
}
