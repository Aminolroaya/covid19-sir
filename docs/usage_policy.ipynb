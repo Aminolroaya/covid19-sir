{
 "cells": [
  {
   "cell_type": "markdown",
   "metadata": {},
   "source": [
    "# Usage (details: policy measures)\n",
    "Here, we will analyse the relationship of policy measures and parameter values of SIR-derived ODE models. Policy measures are tracked by [Oxford Covid-19 Government Response Tracker (OxCGRT)](https://github.com/OxCGRT/covid-policy-tracker)."
   ]
  },
  {
   "cell_type": "markdown",
   "metadata": {},
   "source": [
    "## Preparation"
   ]
  },
  {
   "cell_type": "code",
   "execution_count": 1,
   "metadata": {
    "collapsed": false
   },
   "outputs": [],
   "source": [
    "# Standard users\n",
    "# !pip install covsirphy\n",
    "# Developers (Note: this notebook is in example directory)\n",
    "import os\n",
    "os.chdir(\"../\")"
   ]
  },
  {
   "cell_type": "code",
   "execution_count": 2,
   "metadata": {
    "collapsed": false
   },
   "outputs": [],
   "source": [
    "from pprint import pprint"
   ]
  },
  {
   "cell_type": "code",
   "execution_count": 3,
   "metadata": {
    "collapsed": false
   },
   "outputs": [
    {
     "data": {
      "text/plain": [
       "'2.8.2'"
      ]
     },
     "execution_count": 3,
     "metadata": {},
     "output_type": "execute_result"
    }
   ],
   "source": [
    "import covsirphy as cs\n",
    "cs.__version__"
   ]
  },
  {
   "cell_type": "code",
   "execution_count": 4,
   "metadata": {
    "collapsed": false,
    "tags": []
   },
   "outputs": [
    {
     "name": "stdout",
     "output_type": "stream",
     "text": [
      "(Secondary source) Guidotti, E., Ardia, D., (2020), \"COVID-19 Data Hub\", Journal of Open Source Software 5(51):2376, doi: 10.21105/joss.02376.\n",
      "We can get Citation list of primary sources with DataLoader(...).covid19dh_citation"
     ]
    },
    {
     "name": "stdout",
     "output_type": "stream",
     "text": [
      "\n"
     ]
    }
   ],
   "source": [
    "# Standard users and developers\n",
    "data_loader = cs.DataLoader(\"input\")\n",
    "# The number of cases (JHU style)\n",
    "jhu_data = data_loader.jhu(verbose=False)\n",
    "# Population in each country\n",
    "population_data = data_loader.population(verbose=False)\n",
    "# Government Response Tracker (OxCGRT)\n",
    "oxcgrt_data = data_loader.oxcgrt(verbose=False)\n",
    "# Description/citation\n",
    "print(oxcgrt_data.citation)"
   ]
  },
  {
   "cell_type": "markdown",
   "metadata": {},
   "source": [
    "## Class for policy measure analysis\n",
    "We will `PolicyMeasures` class to find relationship of policy measures and parameter values of SIR-derived ODE models."
   ]
  },
  {
   "cell_type": "code",
   "execution_count": 5,
   "metadata": {
    "collapsed": false,
    "tags": []
   },
   "outputs": [
    {
     "data": {
      "text/plain": [
       "184"
      ]
     },
     "execution_count": 5,
     "metadata": {},
     "output_type": "execute_result"
    }
   ],
   "source": [
    "# Create analyser with tau value 360 [min] (can be changed)\n",
    "analyser = cs.PolicyMeasures(jhu_data, population_data, oxcgrt_data, tau=360)\n",
    "# The number of registerd countries\n",
    "len(analyser.countries)"
   ]
  },
  {
   "cell_type": "code",
   "execution_count": 6,
   "metadata": {
    "collapsed": false
   },
   "outputs": [
    {
     "data": {
      "text/plain": [
       "covsirphy.analysis.scenario.Scenario"
      ]
     },
     "execution_count": 6,
     "metadata": {},
     "output_type": "execute_result"
    }
   ],
   "source": [
    "# We can get Scenario instance for detailed scenario analysis\n",
    "type(analyser.scenario(\"Japan\"))"
   ]
  },
  {
   "cell_type": "markdown",
   "metadata": {},
   "source": [
    "## Set phases with S-R trend analysis\n",
    "We will perform S-R trend analysis to set phases in all countries. Countries which do not have **9th phases** will be un-registered for the next analysis. This number will be adjusted for your analysis."
   ]
  },
  {
   "cell_type": "code",
   "execution_count": 7,
   "metadata": {
    "collapsed": false
   },
   "outputs": [
    {
     "name": "stdout",
     "output_type": "stream",
     "text": [
      "{"
     ]
    },
    {
     "name": "stdout",
     "output_type": "stream",
     "text": [
      "3"
     ]
    },
    {
     "name": "stdout",
     "output_type": "stream",
     "text": [
      ": "
     ]
    },
    {
     "name": "stdout",
     "output_type": "stream",
     "text": [
      "['Tanzania', 'Dominica', 'Libya', 'Myanmar']"
     ]
    },
    {
     "name": "stdout",
     "output_type": "stream",
     "text": [
      ",\n",
      " "
     ]
    },
    {
     "name": "stdout",
     "output_type": "stream",
     "text": [
      "4"
     ]
    },
    {
     "name": "stdout",
     "output_type": "stream",
     "text": [
      ": "
     ]
    },
    {
     "name": "stdout",
     "output_type": "stream",
     "text": [
      "['Papua New Guinea', 'Belize', 'Trinidad and Tobago', 'Fiji', 'Brunei']"
     ]
    },
    {
     "name": "stdout",
     "output_type": "stream",
     "text": [
      ",\n",
      " "
     ]
    },
    {
     "name": "stdout",
     "output_type": "stream",
     "text": [
      "5"
     ]
    },
    {
     "name": "stdout",
     "output_type": "stream",
     "text": [
      ": "
     ]
    },
    {
     "name": "stdout",
     "output_type": "stream",
     "text": [
      "["
     ]
    },
    {
     "name": "stdout",
     "output_type": "stream",
     "text": [
      "'Bahamas'"
     ]
    },
    {
     "name": "stdout",
     "output_type": "stream",
     "text": [
      ", "
     ]
    },
    {
     "name": "stdout",
     "output_type": "stream",
     "text": [
      "'Tunisia'"
     ]
    },
    {
     "name": "stdout",
     "output_type": "stream",
     "text": [
      ", "
     ]
    },
    {
     "name": "stdout",
     "output_type": "stream",
     "text": [
      "'Uganda'"
     ]
    },
    {
     "name": "stdout",
     "output_type": "stream",
     "text": [
      ", "
     ]
    },
    {
     "name": "stdout",
     "output_type": "stream",
     "text": [
      "'Namibia'"
     ]
    },
    {
     "name": "stdout",
     "output_type": "stream",
     "text": [
      ", "
     ]
    },
    {
     "name": "stdout",
     "output_type": "stream",
     "text": [
      "'Grenada'"
     ]
    },
    {
     "name": "stdout",
     "output_type": "stream",
     "text": [
      ",\n",
      "     "
     ]
    },
    {
     "name": "stdout",
     "output_type": "stream",
     "text": [
      "'Antigua and Barbuda'"
     ]
    },
    {
     "name": "stdout",
     "output_type": "stream",
     "text": [
      ", "
     ]
    },
    {
     "name": "stdout",
     "output_type": "stream",
     "text": [
      "'Lesotho'"
     ]
    },
    {
     "name": "stdout",
     "output_type": "stream",
     "text": [
      ", "
     ]
    },
    {
     "name": "stdout",
     "output_type": "stream",
     "text": [
      "'Mauritius'"
     ]
    },
    {
     "name": "stdout",
     "output_type": "stream",
     "text": [
      "]"
     ]
    },
    {
     "name": "stdout",
     "output_type": "stream",
     "text": [
      ",\n",
      " "
     ]
    },
    {
     "name": "stdout",
     "output_type": "stream",
     "text": [
      "6"
     ]
    },
    {
     "name": "stdout",
     "output_type": "stream",
     "text": [
      ": "
     ]
    },
    {
     "name": "stdout",
     "output_type": "stream",
     "text": [
      "["
     ]
    },
    {
     "name": "stdout",
     "output_type": "stream",
     "text": [
      "'Norway'"
     ]
    },
    {
     "name": "stdout",
     "output_type": "stream",
     "text": [
      ", "
     ]
    },
    {
     "name": "stdout",
     "output_type": "stream",
     "text": [
      "'Equatorial Guinea'"
     ]
    },
    {
     "name": "stdout",
     "output_type": "stream",
     "text": [
      ", "
     ]
    },
    {
     "name": "stdout",
     "output_type": "stream",
     "text": [
      "'Rwanda'"
     ]
    },
    {
     "name": "stdout",
     "output_type": "stream",
     "text": [
      ", "
     ]
    },
    {
     "name": "stdout",
     "output_type": "stream",
     "text": [
      "'Kazakhstan'"
     ]
    },
    {
     "name": "stdout",
     "output_type": "stream",
     "text": [
      ", "
     ]
    },
    {
     "name": "stdout",
     "output_type": "stream",
     "text": [
      "'Netherlands'"
     ]
    },
    {
     "name": "stdout",
     "output_type": "stream",
     "text": [
      ",\n",
      "     "
     ]
    },
    {
     "name": "stdout",
     "output_type": "stream",
     "text": [
      "'Guyana'"
     ]
    },
    {
     "name": "stdout",
     "output_type": "stream",
     "text": [
      ", "
     ]
    },
    {
     "name": "stdout",
     "output_type": "stream",
     "text": [
      "'Iceland'"
     ]
    },
    {
     "name": "stdout",
     "output_type": "stream",
     "text": [
      ", "
     ]
    },
    {
     "name": "stdout",
     "output_type": "stream",
     "text": [
      "'Philippines'"
     ]
    },
    {
     "name": "stdout",
     "output_type": "stream",
     "text": [
      ", "
     ]
    },
    {
     "name": "stdout",
     "output_type": "stream",
     "text": [
      "'Central African Republic'"
     ]
    },
    {
     "name": "stdout",
     "output_type": "stream",
     "text": [
      ", "
     ]
    },
    {
     "name": "stdout",
     "output_type": "stream",
     "text": [
      "'Malta'"
     ]
    },
    {
     "name": "stdout",
     "output_type": "stream",
     "text": [
      ",\n",
      "     "
     ]
    },
    {
     "name": "stdout",
     "output_type": "stream",
     "text": [
      "'Croatia'"
     ]
    },
    {
     "name": "stdout",
     "output_type": "stream",
     "text": [
      ", "
     ]
    },
    {
     "name": "stdout",
     "output_type": "stream",
     "text": [
      "'Jordan'"
     ]
    },
    {
     "name": "stdout",
     "output_type": "stream",
     "text": [
      ", "
     ]
    },
    {
     "name": "stdout",
     "output_type": "stream",
     "text": [
      "'Ireland'"
     ]
    },
    {
     "name": "stdout",
     "output_type": "stream",
     "text": [
      ", "
     ]
    },
    {
     "name": "stdout",
     "output_type": "stream",
     "text": [
      "'Kyrgyzstan'"
     ]
    },
    {
     "name": "stdout",
     "output_type": "stream",
     "text": [
      ", "
     ]
    },
    {
     "name": "stdout",
     "output_type": "stream",
     "text": [
      "'Sao Tome and Principe'"
     ]
    },
    {
     "name": "stdout",
     "output_type": "stream",
     "text": [
      ",\n",
      "     "
     ]
    },
    {
     "name": "stdout",
     "output_type": "stream",
     "text": [
      "'Botswana'"
     ]
    },
    {
     "name": "stdout",
     "output_type": "stream",
     "text": [
      ", "
     ]
    },
    {
     "name": "stdout",
     "output_type": "stream",
     "text": [
      "'Yemen'"
     ]
    },
    {
     "name": "stdout",
     "output_type": "stream",
     "text": [
      ", "
     ]
    },
    {
     "name": "stdout",
     "output_type": "stream",
     "text": [
      "'Lebanon'"
     ]
    },
    {
     "name": "stdout",
     "output_type": "stream",
     "text": [
      ", "
     ]
    },
    {
     "name": "stdout",
     "output_type": "stream",
     "text": [
      "'Vietnam'"
     ]
    },
    {
     "name": "stdout",
     "output_type": "stream",
     "text": [
      ", "
     ]
    },
    {
     "name": "stdout",
     "output_type": "stream",
     "text": [
      "'Mongolia'"
     ]
    },
    {
     "name": "stdout",
     "output_type": "stream",
     "text": [
      ", "
     ]
    },
    {
     "name": "stdout",
     "output_type": "stream",
     "text": [
      "'Kosovo'"
     ]
    },
    {
     "name": "stdout",
     "output_type": "stream",
     "text": [
      ", "
     ]
    },
    {
     "name": "stdout",
     "output_type": "stream",
     "text": [
      "'Angola'"
     ]
    },
    {
     "name": "stdout",
     "output_type": "stream",
     "text": [
      ",\n",
      "     "
     ]
    },
    {
     "name": "stdout",
     "output_type": "stream",
     "text": [
      "'Liechtenstein'"
     ]
    },
    {
     "name": "stdout",
     "output_type": "stream",
     "text": [
      ", "
     ]
    },
    {
     "name": "stdout",
     "output_type": "stream",
     "text": [
      "'Venezuela'"
     ]
    },
    {
     "name": "stdout",
     "output_type": "stream",
     "text": [
      ", "
     ]
    },
    {
     "name": "stdout",
     "output_type": "stream",
     "text": [
      "'Cambodia'"
     ]
    },
    {
     "name": "stdout",
     "output_type": "stream",
     "text": [
      ", "
     ]
    },
    {
     "name": "stdout",
     "output_type": "stream",
     "text": [
      "'Seychelles'"
     ]
    },
    {
     "name": "stdout",
     "output_type": "stream",
     "text": [
      "]"
     ]
    },
    {
     "name": "stdout",
     "output_type": "stream",
     "text": [
      ",\n",
      " "
     ]
    },
    {
     "name": "stdout",
     "output_type": "stream",
     "text": [
      "7"
     ]
    },
    {
     "name": "stdout",
     "output_type": "stream",
     "text": [
      ": "
     ]
    },
    {
     "name": "stdout",
     "output_type": "stream",
     "text": [
      "["
     ]
    },
    {
     "name": "stdout",
     "output_type": "stream",
     "text": [
      "'Zimbabwe'"
     ]
    },
    {
     "name": "stdout",
     "output_type": "stream",
     "text": [
      ", "
     ]
    },
    {
     "name": "stdout",
     "output_type": "stream",
     "text": [
      "'Bhutan'"
     ]
    },
    {
     "name": "stdout",
     "output_type": "stream",
     "text": [
      ", "
     ]
    },
    {
     "name": "stdout",
     "output_type": "stream",
     "text": [
      "'Paraguay'"
     ]
    },
    {
     "name": "stdout",
     "output_type": "stream",
     "text": [
      ", "
     ]
    },
    {
     "name": "stdout",
     "output_type": "stream",
     "text": [
      "'Cameroon'"
     ]
    },
    {
     "name": "stdout",
     "output_type": "stream",
     "text": [
      ", "
     ]
    },
    {
     "name": "stdout",
     "output_type": "stream",
     "text": [
      "'Saint Lucia'"
     ]
    },
    {
     "name": "stdout",
     "output_type": "stream",
     "text": [
      ", "
     ]
    },
    {
     "name": "stdout",
     "output_type": "stream",
     "text": [
      "'Cyprus'"
     ]
    },
    {
     "name": "stdout",
     "output_type": "stream",
     "text": [
      ",\n",
      "     "
     ]
    },
    {
     "name": "stdout",
     "output_type": "stream",
     "text": [
      "'Comoros'"
     ]
    },
    {
     "name": "stdout",
     "output_type": "stream",
     "text": [
      ", "
     ]
    },
    {
     "name": "stdout",
     "output_type": "stream",
     "text": [
      "'Ethiopia'"
     ]
    },
    {
     "name": "stdout",
     "output_type": "stream",
     "text": [
      ", "
     ]
    },
    {
     "name": "stdout",
     "output_type": "stream",
     "text": [
      "'Montenegro'"
     ]
    },
    {
     "name": "stdout",
     "output_type": "stream",
     "text": [
      ", "
     ]
    },
    {
     "name": "stdout",
     "output_type": "stream",
     "text": [
      "'Syria'"
     ]
    },
    {
     "name": "stdout",
     "output_type": "stream",
     "text": [
      ", "
     ]
    },
    {
     "name": "stdout",
     "output_type": "stream",
     "text": [
      "'Slovakia'"
     ]
    },
    {
     "name": "stdout",
     "output_type": "stream",
     "text": [
      ", "
     ]
    },
    {
     "name": "stdout",
     "output_type": "stream",
     "text": [
      "'Afghanistan'"
     ]
    },
    {
     "name": "stdout",
     "output_type": "stream",
     "text": [
      ",\n",
      "     "
     ]
    },
    {
     "name": "stdout",
     "output_type": "stream",
     "text": [
      "'Taiwan'"
     ]
    },
    {
     "name": "stdout",
     "output_type": "stream",
     "text": [
      ", "
     ]
    },
    {
     "name": "stdout",
     "output_type": "stream",
     "text": [
      "'Monaco'"
     ]
    },
    {
     "name": "stdout",
     "output_type": "stream",
     "text": [
      ", "
     ]
    },
    {
     "name": "stdout",
     "output_type": "stream",
     "text": [
      "'Zambia'"
     ]
    },
    {
     "name": "stdout",
     "output_type": "stream",
     "text": [
      ", "
     ]
    },
    {
     "name": "stdout",
     "output_type": "stream",
     "text": [
      "'Israel'"
     ]
    },
    {
     "name": "stdout",
     "output_type": "stream",
     "text": [
      ", "
     ]
    },
    {
     "name": "stdout",
     "output_type": "stream",
     "text": [
      "'Madagascar'"
     ]
    },
    {
     "name": "stdout",
     "output_type": "stream",
     "text": [
      ", "
     ]
    },
    {
     "name": "stdout",
     "output_type": "stream",
     "text": [
      "'Burundi'"
     ]
    },
    {
     "name": "stdout",
     "output_type": "stream",
     "text": [
      ",\n",
      "     "
     ]
    },
    {
     "name": "stdout",
     "output_type": "stream",
     "text": [
      "'Maldives'"
     ]
    },
    {
     "name": "stdout",
     "output_type": "stream",
     "text": [
      ", "
     ]
    },
    {
     "name": "stdout",
     "output_type": "stream",
     "text": [
      "'New Zealand'"
     ]
    },
    {
     "name": "stdout",
     "output_type": "stream",
     "text": [
      ", "
     ]
    },
    {
     "name": "stdout",
     "output_type": "stream",
     "text": [
      "'Barbados'"
     ]
    },
    {
     "name": "stdout",
     "output_type": "stream",
     "text": [
      ", "
     ]
    },
    {
     "name": "stdout",
     "output_type": "stream",
     "text": [
      "'Malawi'"
     ]
    },
    {
     "name": "stdout",
     "output_type": "stream",
     "text": [
      ", "
     ]
    },
    {
     "name": "stdout",
     "output_type": "stream",
     "text": [
      "'Guinea-Bissau'"
     ]
    },
    {
     "name": "stdout",
     "output_type": "stream",
     "text": [
      ", "
     ]
    },
    {
     "name": "stdout",
     "output_type": "stream",
     "text": [
      "'Spain'"
     ]
    },
    {
     "name": "stdout",
     "output_type": "stream",
     "text": [
      ",\n",
      "     "
     ]
    },
    {
     "name": "stdout",
     "output_type": "stream",
     "text": [
      "'Australia'"
     ]
    },
    {
     "name": "stdout",
     "output_type": "stream",
     "text": [
      ", "
     ]
    },
    {
     "name": "stdout",
     "output_type": "stream",
     "text": [
      "'Eritrea'"
     ]
    },
    {
     "name": "stdout",
     "output_type": "stream",
     "text": [
      ", "
     ]
    },
    {
     "name": "stdout",
     "output_type": "stream",
     "text": [
      "'Saint Vincent and the Grenadines'"
     ]
    },
    {
     "name": "stdout",
     "output_type": "stream",
     "text": [
      ", "
     ]
    },
    {
     "name": "stdout",
     "output_type": "stream",
     "text": [
      "'South Sudan'"
     ]
    },
    {
     "name": "stdout",
     "output_type": "stream",
     "text": [
      ",\n",
      "     "
     ]
    },
    {
     "name": "stdout",
     "output_type": "stream",
     "text": [
      "'India'"
     ]
    },
    {
     "name": "stdout",
     "output_type": "stream",
     "text": [
      ", "
     ]
    },
    {
     "name": "stdout",
     "output_type": "stream",
     "text": [
      "'Mozambique'"
     ]
    },
    {
     "name": "stdout",
     "output_type": "stream",
     "text": [
      ", "
     ]
    },
    {
     "name": "stdout",
     "output_type": "stream",
     "text": [
      "'Palestine'"
     ]
    },
    {
     "name": "stdout",
     "output_type": "stream",
     "text": [
      ", "
     ]
    },
    {
     "name": "stdout",
     "output_type": "stream",
     "text": [
      "'Greece'"
     ]
    },
    {
     "name": "stdout",
     "output_type": "stream",
     "text": [
      ", "
     ]
    },
    {
     "name": "stdout",
     "output_type": "stream",
     "text": [
      "'Gambia'"
     ]
    },
    {
     "name": "stdout",
     "output_type": "stream",
     "text": [
      ", "
     ]
    },
    {
     "name": "stdout",
     "output_type": "stream",
     "text": [
      "'Jamaica'"
     ]
    },
    {
     "name": "stdout",
     "output_type": "stream",
     "text": [
      ",\n",
      "     "
     ]
    },
    {
     "name": "stdout",
     "output_type": "stream",
     "text": [
      "'Colombia'"
     ]
    },
    {
     "name": "stdout",
     "output_type": "stream",
     "text": [
      ", "
     ]
    },
    {
     "name": "stdout",
     "output_type": "stream",
     "text": [
      "'Morocco'"
     ]
    },
    {
     "name": "stdout",
     "output_type": "stream",
     "text": [
      ", "
     ]
    },
    {
     "name": "stdout",
     "output_type": "stream",
     "text": [
      "'San Marino'"
     ]
    },
    {
     "name": "stdout",
     "output_type": "stream",
     "text": [
      ", "
     ]
    },
    {
     "name": "stdout",
     "output_type": "stream",
     "text": [
      "'Guatemala'"
     ]
    },
    {
     "name": "stdout",
     "output_type": "stream",
     "text": [
      ", "
     ]
    },
    {
     "name": "stdout",
     "output_type": "stream",
     "text": [
      "'Kenya'"
     ]
    },
    {
     "name": "stdout",
     "output_type": "stream",
     "text": [
      ", "
     ]
    },
    {
     "name": "stdout",
     "output_type": "stream",
     "text": [
      "'Thailand'"
     ]
    },
    {
     "name": "stdout",
     "output_type": "stream",
     "text": [
      "]"
     ]
    },
    {
     "name": "stdout",
     "output_type": "stream",
     "text": [
      ",\n",
      " "
     ]
    },
    {
     "name": "stdout",
     "output_type": "stream",
     "text": [
      "8"
     ]
    },
    {
     "name": "stdout",
     "output_type": "stream",
     "text": [
      ": "
     ]
    },
    {
     "name": "stdout",
     "output_type": "stream",
     "text": [
      "["
     ]
    },
    {
     "name": "stdout",
     "output_type": "stream",
     "text": [
      "'Cape Verde'"
     ]
    },
    {
     "name": "stdout",
     "output_type": "stream",
     "text": [
      ", "
     ]
    },
    {
     "name": "stdout",
     "output_type": "stream",
     "text": [
      "'Czech Republic'"
     ]
    },
    {
     "name": "stdout",
     "output_type": "stream",
     "text": [
      ", "
     ]
    },
    {
     "name": "stdout",
     "output_type": "stream",
     "text": [
      "'Sudan'"
     ]
    },
    {
     "name": "stdout",
     "output_type": "stream",
     "text": [
      ", "
     ]
    },
    {
     "name": "stdout",
     "output_type": "stream",
     "text": [
      "'Albania'"
     ]
    },
    {
     "name": "stdout",
     "output_type": "stream",
     "text": [
      ", "
     ]
    },
    {
     "name": "stdout",
     "output_type": "stream",
     "text": [
      "'Luxembourg'"
     ]
    },
    {
     "name": "stdout",
     "output_type": "stream",
     "text": [
      ", "
     ]
    },
    {
     "name": "stdout",
     "output_type": "stream",
     "text": [
      "'Nepal'"
     ]
    },
    {
     "name": "stdout",
     "output_type": "stream",
     "text": [
      ",\n",
      "     "
     ]
    },
    {
     "name": "stdout",
     "output_type": "stream",
     "text": [
      "'Costa Rica'"
     ]
    },
    {
     "name": "stdout",
     "output_type": "stream",
     "text": [
      ", "
     ]
    },
    {
     "name": "stdout",
     "output_type": "stream",
     "text": [
      "'Somalia'"
     ]
    },
    {
     "name": "stdout",
     "output_type": "stream",
     "text": [
      ", "
     ]
    },
    {
     "name": "stdout",
     "output_type": "stream",
     "text": [
      "'Haiti'"
     ]
    },
    {
     "name": "stdout",
     "output_type": "stream",
     "text": [
      ", "
     ]
    },
    {
     "name": "stdout",
     "output_type": "stream",
     "text": [
      "'Ghana'"
     ]
    },
    {
     "name": "stdout",
     "output_type": "stream",
     "text": [
      ", "
     ]
    },
    {
     "name": "stdout",
     "output_type": "stream",
     "text": [
      "'Nicaragua'"
     ]
    },
    {
     "name": "stdout",
     "output_type": "stream",
     "text": [
      ", "
     ]
    },
    {
     "name": "stdout",
     "output_type": "stream",
     "text": [
      "'Iraq'"
     ]
    },
    {
     "name": "stdout",
     "output_type": "stream",
     "text": [
      ",\n",
      "     "
     ]
    },
    {
     "name": "stdout",
     "output_type": "stream",
     "text": [
      "'South Africa'"
     ]
    },
    {
     "name": "stdout",
     "output_type": "stream",
     "text": [
      ", "
     ]
    },
    {
     "name": "stdout",
     "output_type": "stream",
     "text": [
      "'Tajikistan'"
     ]
    },
    {
     "name": "stdout",
     "output_type": "stream",
     "text": [
      ", "
     ]
    },
    {
     "name": "stdout",
     "output_type": "stream",
     "text": [
      "'Japan'"
     ]
    },
    {
     "name": "stdout",
     "output_type": "stream",
     "text": [
      ", "
     ]
    },
    {
     "name": "stdout",
     "output_type": "stream",
     "text": [
      "'Mauritania'"
     ]
    },
    {
     "name": "stdout",
     "output_type": "stream",
     "text": [
      ", "
     ]
    },
    {
     "name": "stdout",
     "output_type": "stream",
     "text": [
      "'Slovenia'"
     ]
    },
    {
     "name": "stdout",
     "output_type": "stream",
     "text": [
      ", "
     ]
    },
    {
     "name": "stdout",
     "output_type": "stream",
     "text": [
      "'Niger'"
     ]
    },
    {
     "name": "stdout",
     "output_type": "stream",
     "text": [
      ",\n",
      "     "
     ]
    },
    {
     "name": "stdout",
     "output_type": "stream",
     "text": [
      "'Congo'"
     ]
    },
    {
     "name": "stdout",
     "output_type": "stream",
     "text": [
      ", "
     ]
    },
    {
     "name": "stdout",
     "output_type": "stream",
     "text": [
      "'Chad'"
     ]
    },
    {
     "name": "stdout",
     "output_type": "stream",
     "text": [
      ", "
     ]
    },
    {
     "name": "stdout",
     "output_type": "stream",
     "text": [
      "'Oman'"
     ]
    },
    {
     "name": "stdout",
     "output_type": "stream",
     "text": [
      ", "
     ]
    },
    {
     "name": "stdout",
     "output_type": "stream",
     "text": [
      "'Djibouti'"
     ]
    },
    {
     "name": "stdout",
     "output_type": "stream",
     "text": [
      ", "
     ]
    },
    {
     "name": "stdout",
     "output_type": "stream",
     "text": [
      "'Argentina'"
     ]
    },
    {
     "name": "stdout",
     "output_type": "stream",
     "text": [
      ", "
     ]
    },
    {
     "name": "stdout",
     "output_type": "stream",
     "text": [
      "'Andorra'"
     ]
    },
    {
     "name": "stdout",
     "output_type": "stream",
     "text": [
      ", "
     ]
    },
    {
     "name": "stdout",
     "output_type": "stream",
     "text": [
      "'Suriname'"
     ]
    },
    {
     "name": "stdout",
     "output_type": "stream",
     "text": [
      "]"
     ]
    },
    {
     "name": "stdout",
     "output_type": "stream",
     "text": [
      ",\n",
      " "
     ]
    },
    {
     "name": "stdout",
     "output_type": "stream",
     "text": [
      "9"
     ]
    },
    {
     "name": "stdout",
     "output_type": "stream",
     "text": [
      ": "
     ]
    },
    {
     "name": "stdout",
     "output_type": "stream",
     "text": [
      "["
     ]
    },
    {
     "name": "stdout",
     "output_type": "stream",
     "text": [
      "'Liberia'"
     ]
    },
    {
     "name": "stdout",
     "output_type": "stream",
     "text": [
      ", "
     ]
    },
    {
     "name": "stdout",
     "output_type": "stream",
     "text": [
      "'Azerbaijan'"
     ]
    },
    {
     "name": "stdout",
     "output_type": "stream",
     "text": [
      ", "
     ]
    },
    {
     "name": "stdout",
     "output_type": "stream",
     "text": [
      "'Mali'"
     ]
    },
    {
     "name": "stdout",
     "output_type": "stream",
     "text": [
      ", "
     ]
    },
    {
     "name": "stdout",
     "output_type": "stream",
     "text": [
      "'Ukraine'"
     ]
    },
    {
     "name": "stdout",
     "output_type": "stream",
     "text": [
      ", "
     ]
    },
    {
     "name": "stdout",
     "output_type": "stream",
     "text": [
      "'Uruguay'"
     ]
    },
    {
     "name": "stdout",
     "output_type": "stream",
     "text": [
      ", "
     ]
    },
    {
     "name": "stdout",
     "output_type": "stream",
     "text": [
      "'El Salvador'"
     ]
    },
    {
     "name": "stdout",
     "output_type": "stream",
     "text": [
      ",\n",
      "     "
     ]
    },
    {
     "name": "stdout",
     "output_type": "stream",
     "text": [
      "'Pakistan'"
     ]
    },
    {
     "name": "stdout",
     "output_type": "stream",
     "text": [
      ", "
     ]
    },
    {
     "name": "stdout",
     "output_type": "stream",
     "text": [
      "'Austria'"
     ]
    },
    {
     "name": "stdout",
     "output_type": "stream",
     "text": [
      ", "
     ]
    },
    {
     "name": "stdout",
     "output_type": "stream",
     "text": [
      "'Gabon'"
     ]
    },
    {
     "name": "stdout",
     "output_type": "stream",
     "text": [
      ", "
     ]
    },
    {
     "name": "stdout",
     "output_type": "stream",
     "text": [
      "'Georgia'"
     ]
    },
    {
     "name": "stdout",
     "output_type": "stream",
     "text": [
      ", "
     ]
    },
    {
     "name": "stdout",
     "output_type": "stream",
     "text": [
      "'Korea, South'"
     ]
    },
    {
     "name": "stdout",
     "output_type": "stream",
     "text": [
      ", "
     ]
    },
    {
     "name": "stdout",
     "output_type": "stream",
     "text": [
      "'Bermuda'"
     ]
    },
    {
     "name": "stdout",
     "output_type": "stream",
     "text": [
      ",\n",
      "     "
     ]
    },
    {
     "name": "stdout",
     "output_type": "stream",
     "text": [
      "'Armenia'"
     ]
    },
    {
     "name": "stdout",
     "output_type": "stream",
     "text": [
      ", "
     ]
    },
    {
     "name": "stdout",
     "output_type": "stream",
     "text": [
      "'Bosnia and Herzegovina'"
     ]
    },
    {
     "name": "stdout",
     "output_type": "stream",
     "text": [
      ", "
     ]
    },
    {
     "name": "stdout",
     "output_type": "stream",
     "text": [
      "'Sierra Leone'"
     ]
    },
    {
     "name": "stdout",
     "output_type": "stream",
     "text": [
      ", "
     ]
    },
    {
     "name": "stdout",
     "output_type": "stream",
     "text": [
      "'Germany'"
     ]
    },
    {
     "name": "stdout",
     "output_type": "stream",
     "text": [
      ",\n",
      "     "
     ]
    },
    {
     "name": "stdout",
     "output_type": "stream",
     "text": [
      "'Lithuania'"
     ]
    },
    {
     "name": "stdout",
     "output_type": "stream",
     "text": [
      ", "
     ]
    },
    {
     "name": "stdout",
     "output_type": "stream",
     "text": [
      "'Qatar'"
     ]
    },
    {
     "name": "stdout",
     "output_type": "stream",
     "text": [
      ", "
     ]
    },
    {
     "name": "stdout",
     "output_type": "stream",
     "text": [
      "'Canada'"
     ]
    },
    {
     "name": "stdout",
     "output_type": "stream",
     "text": [
      ", "
     ]
    },
    {
     "name": "stdout",
     "output_type": "stream",
     "text": [
      "'Malaysia'"
     ]
    },
    {
     "name": "stdout",
     "output_type": "stream",
     "text": [
      ", "
     ]
    },
    {
     "name": "stdout",
     "output_type": "stream",
     "text": [
      "'Benin'"
     ]
    },
    {
     "name": "stdout",
     "output_type": "stream",
     "text": [
      ", "
     ]
    },
    {
     "name": "stdout",
     "output_type": "stream",
     "text": [
      "'Finland'"
     ]
    },
    {
     "name": "stdout",
     "output_type": "stream",
     "text": [
      ", "
     ]
    },
    {
     "name": "stdout",
     "output_type": "stream",
     "text": [
      "'Ecuador'"
     ]
    },
    {
     "name": "stdout",
     "output_type": "stream",
     "text": [
      ",\n",
      "     "
     ]
    },
    {
     "name": "stdout",
     "output_type": "stream",
     "text": [
      "'Swaziland'"
     ]
    },
    {
     "name": "stdout",
     "output_type": "stream",
     "text": [
      ", "
     ]
    },
    {
     "name": "stdout",
     "output_type": "stream",
     "text": [
      "'Singapore'"
     ]
    },
    {
     "name": "stdout",
     "output_type": "stream",
     "text": [
      ", "
     ]
    },
    {
     "name": "stdout",
     "output_type": "stream",
     "text": [
      "'Sri Lanka'"
     ]
    },
    {
     "name": "stdout",
     "output_type": "stream",
     "text": [
      ", "
     ]
    },
    {
     "name": "stdout",
     "output_type": "stream",
     "text": [
      "'China'"
     ]
    },
    {
     "name": "stdout",
     "output_type": "stream",
     "text": [
      ", "
     ]
    },
    {
     "name": "stdout",
     "output_type": "stream",
     "text": [
      "'Uzbekistan'"
     ]
    },
    {
     "name": "stdout",
     "output_type": "stream",
     "text": [
      ", "
     ]
    },
    {
     "name": "stdout",
     "output_type": "stream",
     "text": [
      "'Chile'"
     ]
    },
    {
     "name": "stdout",
     "output_type": "stream",
     "text": [
      ",\n",
      "     "
     ]
    },
    {
     "name": "stdout",
     "output_type": "stream",
     "text": [
      "'Belarus'"
     ]
    },
    {
     "name": "stdout",
     "output_type": "stream",
     "text": [
      "]"
     ]
    },
    {
     "name": "stdout",
     "output_type": "stream",
     "text": [
      ",\n",
      " "
     ]
    },
    {
     "name": "stdout",
     "output_type": "stream",
     "text": [
      "10"
     ]
    },
    {
     "name": "stdout",
     "output_type": "stream",
     "text": [
      ": "
     ]
    },
    {
     "name": "stdout",
     "output_type": "stream",
     "text": [
      "["
     ]
    },
    {
     "name": "stdout",
     "output_type": "stream",
     "text": [
      "'Denmark'"
     ]
    },
    {
     "name": "stdout",
     "output_type": "stream",
     "text": [
      ", "
     ]
    },
    {
     "name": "stdout",
     "output_type": "stream",
     "text": [
      "'Poland'"
     ]
    },
    {
     "name": "stdout",
     "output_type": "stream",
     "text": [
      ", "
     ]
    },
    {
     "name": "stdout",
     "output_type": "stream",
     "text": [
      "'Latvia'"
     ]
    },
    {
     "name": "stdout",
     "output_type": "stream",
     "text": [
      ", "
     ]
    },
    {
     "name": "stdout",
     "output_type": "stream",
     "text": [
      "'Bolivia'"
     ]
    },
    {
     "name": "stdout",
     "output_type": "stream",
     "text": [
      ", "
     ]
    },
    {
     "name": "stdout",
     "output_type": "stream",
     "text": [
      "'Senegal'"
     ]
    },
    {
     "name": "stdout",
     "output_type": "stream",
     "text": [
      ", "
     ]
    },
    {
     "name": "stdout",
     "output_type": "stream",
     "text": [
      "'Moldova'"
     ]
    },
    {
     "name": "stdout",
     "output_type": "stream",
     "text": [
      ",\n",
      "      "
     ]
    },
    {
     "name": "stdout",
     "output_type": "stream",
     "text": [
      "'Saudi Arabia'"
     ]
    },
    {
     "name": "stdout",
     "output_type": "stream",
     "text": [
      ", "
     ]
    },
    {
     "name": "stdout",
     "output_type": "stream",
     "text": [
      "'Belgium'"
     ]
    },
    {
     "name": "stdout",
     "output_type": "stream",
     "text": [
      ", "
     ]
    },
    {
     "name": "stdout",
     "output_type": "stream",
     "text": [
      "'Bulgaria'"
     ]
    },
    {
     "name": "stdout",
     "output_type": "stream",
     "text": [
      ", "
     ]
    },
    {
     "name": "stdout",
     "output_type": "stream",
     "text": [
      "'Serbia'"
     ]
    },
    {
     "name": "stdout",
     "output_type": "stream",
     "text": [
      ", "
     ]
    },
    {
     "name": "stdout",
     "output_type": "stream",
     "text": [
      "'Panama'"
     ]
    },
    {
     "name": "stdout",
     "output_type": "stream",
     "text": [
      ", "
     ]
    },
    {
     "name": "stdout",
     "output_type": "stream",
     "text": [
      "'Indonesia'"
     ]
    },
    {
     "name": "stdout",
     "output_type": "stream",
     "text": [
      ",\n",
      "      "
     ]
    },
    {
     "name": "stdout",
     "output_type": "stream",
     "text": [
      "'Nigeria'"
     ]
    },
    {
     "name": "stdout",
     "output_type": "stream",
     "text": [
      ", "
     ]
    },
    {
     "name": "stdout",
     "output_type": "stream",
     "text": [
      "'Algeria'"
     ]
    },
    {
     "name": "stdout",
     "output_type": "stream",
     "text": [
      ", "
     ]
    },
    {
     "name": "stdout",
     "output_type": "stream",
     "text": [
      "'Estonia'"
     ]
    },
    {
     "name": "stdout",
     "output_type": "stream",
     "text": [
      ", "
     ]
    },
    {
     "name": "stdout",
     "output_type": "stream",
     "text": [
      "'Egypt'"
     ]
    },
    {
     "name": "stdout",
     "output_type": "stream",
     "text": [
      ", "
     ]
    },
    {
     "name": "stdout",
     "output_type": "stream",
     "text": [
      "'Cuba'"
     ]
    },
    {
     "name": "stdout",
     "output_type": "stream",
     "text": [
      ", "
     ]
    },
    {
     "name": "stdout",
     "output_type": "stream",
     "text": [
      "'Mexico'"
     ]
    },
    {
     "name": "stdout",
     "output_type": "stream",
     "text": [
      ", "
     ]
    },
    {
     "name": "stdout",
     "output_type": "stream",
     "text": [
      "'Togo'"
     ]
    },
    {
     "name": "stdout",
     "output_type": "stream",
     "text": [
      ",\n",
      "      "
     ]
    },
    {
     "name": "stdout",
     "output_type": "stream",
     "text": [
      "'Honduras'"
     ]
    },
    {
     "name": "stdout",
     "output_type": "stream",
     "text": [
      ", "
     ]
    },
    {
     "name": "stdout",
     "output_type": "stream",
     "text": [
      "'Macedonia'"
     ]
    },
    {
     "name": "stdout",
     "output_type": "stream",
     "text": [
      ", "
     ]
    },
    {
     "name": "stdout",
     "output_type": "stream",
     "text": [
      "'Hungary'"
     ]
    },
    {
     "name": "stdout",
     "output_type": "stream",
     "text": [
      ", "
     ]
    },
    {
     "name": "stdout",
     "output_type": "stream",
     "text": [
      "'Dominican Republic'"
     ]
    },
    {
     "name": "stdout",
     "output_type": "stream",
     "text": [
      "]"
     ]
    },
    {
     "name": "stdout",
     "output_type": "stream",
     "text": [
      ",\n",
      " "
     ]
    },
    {
     "name": "stdout",
     "output_type": "stream",
     "text": [
      "11"
     ]
    },
    {
     "name": "stdout",
     "output_type": "stream",
     "text": [
      ": "
     ]
    },
    {
     "name": "stdout",
     "output_type": "stream",
     "text": [
      "["
     ]
    },
    {
     "name": "stdout",
     "output_type": "stream",
     "text": [
      "'Guinea'"
     ]
    },
    {
     "name": "stdout",
     "output_type": "stream",
     "text": [
      ", "
     ]
    },
    {
     "name": "stdout",
     "output_type": "stream",
     "text": [
      "'Italy'"
     ]
    },
    {
     "name": "stdout",
     "output_type": "stream",
     "text": [
      ", "
     ]
    },
    {
     "name": "stdout",
     "output_type": "stream",
     "text": [
      "'Kuwait'"
     ]
    },
    {
     "name": "stdout",
     "output_type": "stream",
     "text": [
      ", "
     ]
    },
    {
     "name": "stdout",
     "output_type": "stream",
     "text": [
      "'Burkina Faso'"
     ]
    },
    {
     "name": "stdout",
     "output_type": "stream",
     "text": [
      ", "
     ]
    },
    {
     "name": "stdout",
     "output_type": "stream",
     "text": [
      "'Turkey'"
     ]
    },
    {
     "name": "stdout",
     "output_type": "stream",
     "text": [
      ", "
     ]
    },
    {
     "name": "stdout",
     "output_type": "stream",
     "text": [
      "'Romania'"
     ]
    },
    {
     "name": "stdout",
     "output_type": "stream",
     "text": [
      ",\n",
      "      "
     ]
    },
    {
     "name": "stdout",
     "output_type": "stream",
     "text": [
      "'Switzerland'"
     ]
    },
    {
     "name": "stdout",
     "output_type": "stream",
     "text": [
      ", "
     ]
    },
    {
     "name": "stdout",
     "output_type": "stream",
     "text": [
      "'Peru'"
     ]
    },
    {
     "name": "stdout",
     "output_type": "stream",
     "text": [
      ", "
     ]
    },
    {
     "name": "stdout",
     "output_type": "stream",
     "text": [
      "'Brazil'"
     ]
    },
    {
     "name": "stdout",
     "output_type": "stream",
     "text": [
      ", "
     ]
    },
    {
     "name": "stdout",
     "output_type": "stream",
     "text": [
      "'Iran'"
     ]
    },
    {
     "name": "stdout",
     "output_type": "stream",
     "text": [
      ", "
     ]
    },
    {
     "name": "stdout",
     "output_type": "stream",
     "text": [
      "'Portugal'"
     ]
    },
    {
     "name": "stdout",
     "output_type": "stream",
     "text": [
      ", "
     ]
    },
    {
     "name": "stdout",
     "output_type": "stream",
     "text": [
      "'Bangladesh'"
     ]
    },
    {
     "name": "stdout",
     "output_type": "stream",
     "text": [
      ",\n",
      "      "
     ]
    },
    {
     "name": "stdout",
     "output_type": "stream",
     "text": [
      "'United States'"
     ]
    },
    {
     "name": "stdout",
     "output_type": "stream",
     "text": [
      ", "
     ]
    },
    {
     "name": "stdout",
     "output_type": "stream",
     "text": [
      "'France'"
     ]
    },
    {
     "name": "stdout",
     "output_type": "stream",
     "text": [
      "]"
     ]
    },
    {
     "name": "stdout",
     "output_type": "stream",
     "text": [
      ",\n",
      " "
     ]
    },
    {
     "name": "stdout",
     "output_type": "stream",
     "text": [
      "12"
     ]
    },
    {
     "name": "stdout",
     "output_type": "stream",
     "text": [
      ": "
     ]
    },
    {
     "name": "stdout",
     "output_type": "stream",
     "text": [
      "['Bahrain', 'Russia', 'United Arab Emirates']"
     ]
    },
    {
     "name": "stdout",
     "output_type": "stream",
     "text": [
      "}"
     ]
    },
    {
     "name": "stdout",
     "output_type": "stream",
     "text": [
      "\n"
     ]
    }
   ],
   "source": [
    "# Show the number of phases of all countries\n",
    "analyser.trend()\n",
    "pprint(analyser.phase_len(), compact=True)"
   ]
  },
  {
   "cell_type": "code",
   "execution_count": 8,
   "metadata": {
    "collapsed": false
   },
   "outputs": [
    {
     "data": {
      "text/plain": [
       "17"
      ]
     },
     "execution_count": 8,
     "metadata": {},
     "output_type": "execute_result"
    }
   ],
   "source": [
    "# Set phases with S-R trend analysis\n",
    "analyser.trend(min_len=11)\n",
    "# The number of countries\n",
    "len(analyser.countries)"
   ]
  },
  {
   "cell_type": "code",
   "execution_count": 9,
   "metadata": {
    "collapsed": false,
    "tags": []
   },
   "outputs": [
    {
     "name": "stdout",
     "output_type": "stream",
     "text": [
      "{"
     ]
    },
    {
     "name": "stdout",
     "output_type": "stream",
     "text": [
      "11"
     ]
    },
    {
     "name": "stdout",
     "output_type": "stream",
     "text": [
      ": "
     ]
    },
    {
     "name": "stdout",
     "output_type": "stream",
     "text": [
      "["
     ]
    },
    {
     "name": "stdout",
     "output_type": "stream",
     "text": [
      "'Guinea'"
     ]
    },
    {
     "name": "stdout",
     "output_type": "stream",
     "text": [
      ", "
     ]
    },
    {
     "name": "stdout",
     "output_type": "stream",
     "text": [
      "'Italy'"
     ]
    },
    {
     "name": "stdout",
     "output_type": "stream",
     "text": [
      ", "
     ]
    },
    {
     "name": "stdout",
     "output_type": "stream",
     "text": [
      "'Kuwait'"
     ]
    },
    {
     "name": "stdout",
     "output_type": "stream",
     "text": [
      ", "
     ]
    },
    {
     "name": "stdout",
     "output_type": "stream",
     "text": [
      "'Burkina Faso'"
     ]
    },
    {
     "name": "stdout",
     "output_type": "stream",
     "text": [
      ", "
     ]
    },
    {
     "name": "stdout",
     "output_type": "stream",
     "text": [
      "'Turkey'"
     ]
    },
    {
     "name": "stdout",
     "output_type": "stream",
     "text": [
      ", "
     ]
    },
    {
     "name": "stdout",
     "output_type": "stream",
     "text": [
      "'Romania'"
     ]
    },
    {
     "name": "stdout",
     "output_type": "stream",
     "text": [
      ",\n",
      "      "
     ]
    },
    {
     "name": "stdout",
     "output_type": "stream",
     "text": [
      "'Switzerland'"
     ]
    },
    {
     "name": "stdout",
     "output_type": "stream",
     "text": [
      ", "
     ]
    },
    {
     "name": "stdout",
     "output_type": "stream",
     "text": [
      "'Peru'"
     ]
    },
    {
     "name": "stdout",
     "output_type": "stream",
     "text": [
      ", "
     ]
    },
    {
     "name": "stdout",
     "output_type": "stream",
     "text": [
      "'Brazil'"
     ]
    },
    {
     "name": "stdout",
     "output_type": "stream",
     "text": [
      ", "
     ]
    },
    {
     "name": "stdout",
     "output_type": "stream",
     "text": [
      "'Iran'"
     ]
    },
    {
     "name": "stdout",
     "output_type": "stream",
     "text": [
      ", "
     ]
    },
    {
     "name": "stdout",
     "output_type": "stream",
     "text": [
      "'Portugal'"
     ]
    },
    {
     "name": "stdout",
     "output_type": "stream",
     "text": [
      ", "
     ]
    },
    {
     "name": "stdout",
     "output_type": "stream",
     "text": [
      "'Bangladesh'"
     ]
    },
    {
     "name": "stdout",
     "output_type": "stream",
     "text": [
      ",\n",
      "      "
     ]
    },
    {
     "name": "stdout",
     "output_type": "stream",
     "text": [
      "'United States'"
     ]
    },
    {
     "name": "stdout",
     "output_type": "stream",
     "text": [
      ", "
     ]
    },
    {
     "name": "stdout",
     "output_type": "stream",
     "text": [
      "'France'"
     ]
    },
    {
     "name": "stdout",
     "output_type": "stream",
     "text": [
      "]"
     ]
    },
    {
     "name": "stdout",
     "output_type": "stream",
     "text": [
      ",\n",
      " "
     ]
    },
    {
     "name": "stdout",
     "output_type": "stream",
     "text": [
      "12"
     ]
    },
    {
     "name": "stdout",
     "output_type": "stream",
     "text": [
      ": "
     ]
    },
    {
     "name": "stdout",
     "output_type": "stream",
     "text": [
      "['Bahrain', 'Russia', 'United Arab Emirates']"
     ]
    },
    {
     "name": "stdout",
     "output_type": "stream",
     "text": [
      "}"
     ]
    },
    {
     "name": "stdout",
     "output_type": "stream",
     "text": [
      "\n"
     ]
    }
   ],
   "source": [
    "phase_len_dict = analyser.phase_len()\n",
    "pprint(phase_len_dict, compact=True)"
   ]
  },
  {
   "cell_type": "code",
   "execution_count": 10,
   "metadata": {
    "collapsed": false,
    "tags": []
   },
   "outputs": [
    {
     "data": {
      "text/html": [
       "<div>\n",
       "<style scoped>\n",
       "    .dataframe tbody tr th:only-of-type {\n",
       "        vertical-align: middle;\n",
       "    }\n",
       "\n",
       "    .dataframe tbody tr th {\n",
       "        vertical-align: top;\n",
       "    }\n",
       "\n",
       "    .dataframe thead th {\n",
       "        text-align: right;\n",
       "    }\n",
       "</style>\n",
       "<table border=\"1\" class=\"dataframe\">\n",
       "  <thead>\n",
       "    <tr style=\"text-align: right;\">\n",
       "      <th></th>\n",
       "      <th></th>\n",
       "      <th>Type</th>\n",
       "      <th>Start</th>\n",
       "      <th>End</th>\n",
       "      <th>Population</th>\n",
       "    </tr>\n",
       "    <tr>\n",
       "      <th>Country</th>\n",
       "      <th>Phase</th>\n",
       "      <th></th>\n",
       "      <th></th>\n",
       "      <th></th>\n",
       "      <th></th>\n",
       "    </tr>\n",
       "  </thead>\n",
       "  <tbody>\n",
       "    <tr>\n",
       "      <th rowspan=\"12\" valign=\"top\">Bahrain</th>\n",
       "      <th>0th</th>\n",
       "      <td>Past</td>\n",
       "      <td>06Mar2020</td>\n",
       "      <td>06May2020</td>\n",
       "      <td>1569439</td>\n",
       "    </tr>\n",
       "    <tr>\n",
       "      <th>1st</th>\n",
       "      <td>Past</td>\n",
       "      <td>07May2020</td>\n",
       "      <td>30May2020</td>\n",
       "      <td>1569439</td>\n",
       "    </tr>\n",
       "    <tr>\n",
       "      <th>2nd</th>\n",
       "      <td>Past</td>\n",
       "      <td>31May2020</td>\n",
       "      <td>10Jun2020</td>\n",
       "      <td>1569439</td>\n",
       "    </tr>\n",
       "    <tr>\n",
       "      <th>3rd</th>\n",
       "      <td>Past</td>\n",
       "      <td>11Jun2020</td>\n",
       "      <td>20Jun2020</td>\n",
       "      <td>1569439</td>\n",
       "    </tr>\n",
       "    <tr>\n",
       "      <th>4th</th>\n",
       "      <td>Past</td>\n",
       "      <td>21Jun2020</td>\n",
       "      <td>28Jun2020</td>\n",
       "      <td>1569439</td>\n",
       "    </tr>\n",
       "    <tr>\n",
       "      <th>5th</th>\n",
       "      <td>Past</td>\n",
       "      <td>29Jun2020</td>\n",
       "      <td>07Jul2020</td>\n",
       "      <td>1569439</td>\n",
       "    </tr>\n",
       "    <tr>\n",
       "      <th>6th</th>\n",
       "      <td>Past</td>\n",
       "      <td>08Jul2020</td>\n",
       "      <td>15Jul2020</td>\n",
       "      <td>1569439</td>\n",
       "    </tr>\n",
       "    <tr>\n",
       "      <th>7th</th>\n",
       "      <td>Past</td>\n",
       "      <td>16Jul2020</td>\n",
       "      <td>27Jul2020</td>\n",
       "      <td>1569439</td>\n",
       "    </tr>\n",
       "    <tr>\n",
       "      <th>8th</th>\n",
       "      <td>Past</td>\n",
       "      <td>28Jul2020</td>\n",
       "      <td>10Aug2020</td>\n",
       "      <td>1569439</td>\n",
       "    </tr>\n",
       "    <tr>\n",
       "      <th>9th</th>\n",
       "      <td>Past</td>\n",
       "      <td>11Aug2020</td>\n",
       "      <td>24Aug2020</td>\n",
       "      <td>1569439</td>\n",
       "    </tr>\n",
       "    <tr>\n",
       "      <th>10th</th>\n",
       "      <td>Past</td>\n",
       "      <td>25Aug2020</td>\n",
       "      <td>06Sep2020</td>\n",
       "      <td>1569439</td>\n",
       "    </tr>\n",
       "    <tr>\n",
       "      <th>11th</th>\n",
       "      <td>Past</td>\n",
       "      <td>07Sep2020</td>\n",
       "      <td>17Sep2020</td>\n",
       "      <td>1569439</td>\n",
       "    </tr>\n",
       "    <tr>\n",
       "      <th rowspan=\"12\" valign=\"top\">Russia</th>\n",
       "      <th>0th</th>\n",
       "      <td>Past</td>\n",
       "      <td>12Feb2020</td>\n",
       "      <td>06May2020</td>\n",
       "      <td>330457362</td>\n",
       "    </tr>\n",
       "    <tr>\n",
       "      <th>1st</th>\n",
       "      <td>Past</td>\n",
       "      <td>07May2020</td>\n",
       "      <td>17May2020</td>\n",
       "      <td>330457362</td>\n",
       "    </tr>\n",
       "    <tr>\n",
       "      <th>2nd</th>\n",
       "      <td>Past</td>\n",
       "      <td>18May2020</td>\n",
       "      <td>27May2020</td>\n",
       "      <td>330457362</td>\n",
       "    </tr>\n",
       "    <tr>\n",
       "      <th>3rd</th>\n",
       "      <td>Past</td>\n",
       "      <td>28May2020</td>\n",
       "      <td>05Jun2020</td>\n",
       "      <td>330457362</td>\n",
       "    </tr>\n",
       "    <tr>\n",
       "      <th>4th</th>\n",
       "      <td>Past</td>\n",
       "      <td>06Jun2020</td>\n",
       "      <td>13Jun2020</td>\n",
       "      <td>330457362</td>\n",
       "    </tr>\n",
       "    <tr>\n",
       "      <th>5th</th>\n",
       "      <td>Past</td>\n",
       "      <td>14Jun2020</td>\n",
       "      <td>23Jun2020</td>\n",
       "      <td>330457362</td>\n",
       "    </tr>\n",
       "    <tr>\n",
       "      <th>6th</th>\n",
       "      <td>Past</td>\n",
       "      <td>24Jun2020</td>\n",
       "      <td>05Jul2020</td>\n",
       "      <td>330457362</td>\n",
       "    </tr>\n",
       "    <tr>\n",
       "      <th>7th</th>\n",
       "      <td>Past</td>\n",
       "      <td>06Jul2020</td>\n",
       "      <td>17Jul2020</td>\n",
       "      <td>330457362</td>\n",
       "    </tr>\n",
       "    <tr>\n",
       "      <th>8th</th>\n",
       "      <td>Past</td>\n",
       "      <td>18Jul2020</td>\n",
       "      <td>31Jul2020</td>\n",
       "      <td>330457362</td>\n",
       "    </tr>\n",
       "    <tr>\n",
       "      <th>9th</th>\n",
       "      <td>Past</td>\n",
       "      <td>01Aug2020</td>\n",
       "      <td>14Aug2020</td>\n",
       "      <td>330457362</td>\n",
       "    </tr>\n",
       "    <tr>\n",
       "      <th>10th</th>\n",
       "      <td>Past</td>\n",
       "      <td>15Aug2020</td>\n",
       "      <td>30Aug2020</td>\n",
       "      <td>330457362</td>\n",
       "    </tr>\n",
       "    <tr>\n",
       "      <th>11th</th>\n",
       "      <td>Past</td>\n",
       "      <td>31Aug2020</td>\n",
       "      <td>17Sep2020</td>\n",
       "      <td>330457362</td>\n",
       "    </tr>\n",
       "    <tr>\n",
       "      <th rowspan=\"12\" valign=\"top\">United Arab Emirates</th>\n",
       "      <th>0th</th>\n",
       "      <td>Past</td>\n",
       "      <td>12Feb2020</td>\n",
       "      <td>25Apr2020</td>\n",
       "      <td>9630959</td>\n",
       "    </tr>\n",
       "    <tr>\n",
       "      <th>1st</th>\n",
       "      <td>Past</td>\n",
       "      <td>26Apr2020</td>\n",
       "      <td>12May2020</td>\n",
       "      <td>9630959</td>\n",
       "    </tr>\n",
       "    <tr>\n",
       "      <th>2nd</th>\n",
       "      <td>Past</td>\n",
       "      <td>13May2020</td>\n",
       "      <td>20May2020</td>\n",
       "      <td>9630959</td>\n",
       "    </tr>\n",
       "    <tr>\n",
       "      <th>3rd</th>\n",
       "      <td>Past</td>\n",
       "      <td>21May2020</td>\n",
       "      <td>06Jun2020</td>\n",
       "      <td>9630959</td>\n",
       "    </tr>\n",
       "    <tr>\n",
       "      <th>4th</th>\n",
       "      <td>Past</td>\n",
       "      <td>07Jun2020</td>\n",
       "      <td>19Jun2020</td>\n",
       "      <td>9630959</td>\n",
       "    </tr>\n",
       "    <tr>\n",
       "      <th>5th</th>\n",
       "      <td>Past</td>\n",
       "      <td>20Jun2020</td>\n",
       "      <td>01Jul2020</td>\n",
       "      <td>9630959</td>\n",
       "    </tr>\n",
       "    <tr>\n",
       "      <th>6th</th>\n",
       "      <td>Past</td>\n",
       "      <td>02Jul2020</td>\n",
       "      <td>11Jul2020</td>\n",
       "      <td>9630959</td>\n",
       "    </tr>\n",
       "    <tr>\n",
       "      <th>7th</th>\n",
       "      <td>Past</td>\n",
       "      <td>12Jul2020</td>\n",
       "      <td>26Jul2020</td>\n",
       "      <td>9630959</td>\n",
       "    </tr>\n",
       "    <tr>\n",
       "      <th>8th</th>\n",
       "      <td>Past</td>\n",
       "      <td>27Jul2020</td>\n",
       "      <td>15Aug2020</td>\n",
       "      <td>9630959</td>\n",
       "    </tr>\n",
       "    <tr>\n",
       "      <th>9th</th>\n",
       "      <td>Past</td>\n",
       "      <td>16Aug2020</td>\n",
       "      <td>31Aug2020</td>\n",
       "      <td>9630959</td>\n",
       "    </tr>\n",
       "    <tr>\n",
       "      <th>10th</th>\n",
       "      <td>Past</td>\n",
       "      <td>01Sep2020</td>\n",
       "      <td>08Sep2020</td>\n",
       "      <td>9630959</td>\n",
       "    </tr>\n",
       "    <tr>\n",
       "      <th>11th</th>\n",
       "      <td>Past</td>\n",
       "      <td>09Sep2020</td>\n",
       "      <td>17Sep2020</td>\n",
       "      <td>9630959</td>\n",
       "    </tr>\n",
       "  </tbody>\n",
       "</table>\n",
       "</div>"
      ],
      "text/plain": [
       "                            Type      Start        End  Population\n",
       "Country              Phase                                        \n",
       "Bahrain              0th    Past  06Mar2020  06May2020     1569439\n",
       "                     1st    Past  07May2020  30May2020     1569439\n",
       "                     2nd    Past  31May2020  10Jun2020     1569439\n",
       "                     3rd    Past  11Jun2020  20Jun2020     1569439\n",
       "                     4th    Past  21Jun2020  28Jun2020     1569439\n",
       "                     5th    Past  29Jun2020  07Jul2020     1569439\n",
       "                     6th    Past  08Jul2020  15Jul2020     1569439\n",
       "                     7th    Past  16Jul2020  27Jul2020     1569439\n",
       "                     8th    Past  28Jul2020  10Aug2020     1569439\n",
       "                     9th    Past  11Aug2020  24Aug2020     1569439\n",
       "                     10th   Past  25Aug2020  06Sep2020     1569439\n",
       "                     11th   Past  07Sep2020  17Sep2020     1569439\n",
       "Russia               0th    Past  12Feb2020  06May2020   330457362\n",
       "                     1st    Past  07May2020  17May2020   330457362\n",
       "                     2nd    Past  18May2020  27May2020   330457362\n",
       "                     3rd    Past  28May2020  05Jun2020   330457362\n",
       "                     4th    Past  06Jun2020  13Jun2020   330457362\n",
       "                     5th    Past  14Jun2020  23Jun2020   330457362\n",
       "                     6th    Past  24Jun2020  05Jul2020   330457362\n",
       "                     7th    Past  06Jul2020  17Jul2020   330457362\n",
       "                     8th    Past  18Jul2020  31Jul2020   330457362\n",
       "                     9th    Past  01Aug2020  14Aug2020   330457362\n",
       "                     10th   Past  15Aug2020  30Aug2020   330457362\n",
       "                     11th   Past  31Aug2020  17Sep2020   330457362\n",
       "United Arab Emirates 0th    Past  12Feb2020  25Apr2020     9630959\n",
       "                     1st    Past  26Apr2020  12May2020     9630959\n",
       "                     2nd    Past  13May2020  20May2020     9630959\n",
       "                     3rd    Past  21May2020  06Jun2020     9630959\n",
       "                     4th    Past  07Jun2020  19Jun2020     9630959\n",
       "                     5th    Past  20Jun2020  01Jul2020     9630959\n",
       "                     6th    Past  02Jul2020  11Jul2020     9630959\n",
       "                     7th    Past  12Jul2020  26Jul2020     9630959\n",
       "                     8th    Past  27Jul2020  15Aug2020     9630959\n",
       "                     9th    Past  16Aug2020  31Aug2020     9630959\n",
       "                     10th   Past  01Sep2020  08Sep2020     9630959\n",
       "                     11th   Past  09Sep2020  17Sep2020     9630959"
      ]
     },
     "execution_count": 10,
     "metadata": {},
     "output_type": "execute_result"
    }
   ],
   "source": [
    "# Here, only show the countries which have the most phases\n",
    "countries_show = max(phase_len_dict.items(), key=lambda x: x[0])[1]\n",
    "# Show summary\n",
    "analyser.summary(countries=countries_show)"
   ]
  },
  {
   "cell_type": "markdown",
   "metadata": {},
   "source": [
    "## Parameter estimation\n",
    "we will estimate the parameter values with SIR-derived ODE models in each country."
   ]
  },
  {
   "cell_type": "code",
   "execution_count": 11,
   "metadata": {
    "collapsed": false,
    "tags": []
   },
   "outputs": [
    {
     "name": "stdout",
     "output_type": "stream",
     "text": [
      "\n",
      "<SIR-F model: parameter estimation>"
     ]
    },
    {
     "name": "stdout",
     "output_type": "stream",
     "text": [
      "\n"
     ]
    },
    {
     "name": "stdout",
     "output_type": "stream",
     "text": [
      "Running optimization with 4 CPUs..."
     ]
    },
    {
     "name": "stdout",
     "output_type": "stream",
     "text": [
      "\n"
     ]
    },
    {
     "name": "stdout",
     "output_type": "stream",
     "text": [
      "\tKWT,  8th phase (09Aug2020 - 21Aug2020): finished  304 trials in 0 min 10 sec"
     ]
    },
    {
     "name": "stdout",
     "output_type": "stream",
     "text": [
      "\n"
     ]
    },
    {
     "name": "stdout",
     "output_type": "stream",
     "text": [
      "\tTUR,  8th phase (05Aug2020 - 20Aug2020): finished 1430 trials in 1 min  0 sec"
     ]
    },
    {
     "name": "stdout",
     "output_type": "stream",
     "text": [
      "\n"
     ]
    },
    {
     "name": "stdout",
     "output_type": "stream",
     "text": [
      "\tUSA,  3rd phase (06Jun2020 - 24Jun2020): finished 1416 trials in 1 min  0 sec"
     ]
    },
    {
     "name": "stdout",
     "output_type": "stream",
     "text": [
      "\n"
     ]
    },
    {
     "name": "stdout",
     "output_type": "stream",
     "text": [
      "\tRUS,  2nd phase (18May2020 - 27May2020): finished 1440 trials in 1 min  0 sec"
     ]
    },
    {
     "name": "stdout",
     "output_type": "stream",
     "text": [
      "\n"
     ]
    },
    {
     "name": "stdout",
     "output_type": "stream",
     "text": [
      "\tBFA, 10th phase (09Sep2020 - 17Sep2020): finished 1436 trials in 1 min  0 sec"
     ]
    },
    {
     "name": "stdout",
     "output_type": "stream",
     "text": [
      "\n"
     ]
    },
    {
     "name": "stdout",
     "output_type": "stream",
     "text": [
      "\tKWT,  5th phase (05Jul2020 - 14Jul2020): finished  302 trials in 0 min 10 sec"
     ]
    },
    {
     "name": "stdout",
     "output_type": "stream",
     "text": [
      "\n"
     ]
    },
    {
     "name": "stdout",
     "output_type": "stream",
     "text": [
      "\tITA, 10th phase (28Aug2020 - 17Sep2020): finished 1404 trials in 1 min  0 sec"
     ]
    },
    {
     "name": "stdout",
     "output_type": "stream",
     "text": [
      "\n"
     ]
    },
    {
     "name": "stdout",
     "output_type": "stream",
     "text": [
      "\tITA,  4th phase (20Apr2020 - 30Apr2020): finished 1410 trials in 1 min  0 sec"
     ]
    },
    {
     "name": "stdout",
     "output_type": "stream",
     "text": [
      "\n"
     ]
    },
    {
     "name": "stdout",
     "output_type": "stream",
     "text": [
      "\tPER,  1st phase (11May2020 - 29May2020): finished 1408 trials in 1 min  0 sec"
     ]
    },
    {
     "name": "stdout",
     "output_type": "stream",
     "text": [
      "\n"
     ]
    },
    {
     "name": "stdout",
     "output_type": "stream",
     "text": [
      "\tBFA,  0th phase (21Mar2020 - 31Mar2020): finished 1411 trials in 1 min  0 sec"
     ]
    },
    {
     "name": "stdout",
     "output_type": "stream",
     "text": [
      "\n"
     ]
    },
    {
     "name": "stdout",
     "output_type": "stream",
     "text": [
      "\tROU,  3rd phase (20Jun2020 - 11Jul2020): finished 1314 trials in 1 min  0 sec"
     ]
    },
    {
     "name": "stdout",
     "output_type": "stream",
     "text": [
      "\n"
     ]
    },
    {
     "name": "stdout",
     "output_type": "stream",
     "text": [
      "\tRUS,  6th phase (24Jun2020 - 05Jul2020): finished 1292 trials in 1 min  0 sec"
     ]
    },
    {
     "name": "stdout",
     "output_type": "stream",
     "text": [
      "\n"
     ]
    },
    {
     "name": "stdout",
     "output_type": "stream",
     "text": [
      "\tGIN,  2nd phase (12May2020 - 23May2020): finished 1277 trials in 1 min  0 sec"
     ]
    },
    {
     "name": "stdout",
     "output_type": "stream",
     "text": [
      "\n"
     ]
    },
    {
     "name": "stdout",
     "output_type": "stream",
     "text": [
      "\tPER,  7th phase (11Aug2020 - 18Aug2020): finished 1296 trials in 1 min  0 sec"
     ]
    },
    {
     "name": "stdout",
     "output_type": "stream",
     "text": [
      "\n"
     ]
    },
    {
     "name": "stdout",
     "output_type": "stream",
     "text": [
      "\tUSA,  5th phase (08Jul2020 - 17Jul2020): finished  388 trials in 0 min 15 sec"
     ]
    },
    {
     "name": "stdout",
     "output_type": "stream",
     "text": [
      "\n"
     ]
    },
    {
     "name": "stdout",
     "output_type": "stream",
     "text": [
      "\tTUR,  6th phase (28Jun2020 - 14Jul2020): finished  492 trials in 0 min 20 sec"
     ]
    },
    {
     "name": "stdout",
     "output_type": "stream",
     "text": [
      "\n"
     ]
    },
    {
     "name": "stdout",
     "output_type": "stream",
     "text": [
      "\tBHR, 11th phase (07Sep2020 - 17Sep2020): finished 1230 trials in 1 min  0 sec"
     ]
    },
    {
     "name": "stdout",
     "output_type": "stream",
     "text": [
      "\n"
     ]
    },
    {
     "name": "stdout",
     "output_type": "stream",
     "text": [
      "\tPER,  8th phase (19Aug2020 - 27Aug2020): finished 1252 trials in 1 min  0 sec"
     ]
    },
    {
     "name": "stdout",
     "output_type": "stream",
     "text": [
      "\n"
     ]
    },
    {
     "name": "stdout",
     "output_type": "stream",
     "text": [
      "\tBRA,  6th phase (29Jul2020 - 05Aug2020): finished 1276 trials in 1 min  0 sec"
     ]
    },
    {
     "name": "stdout",
     "output_type": "stream",
     "text": [
      "\n"
     ]
    },
    {
     "name": "stdout",
     "output_type": "stream",
     "text": [
      "\tGIN,  0th phase (03Apr2020 - 30Apr2020): finished 1287 trials in 1 min  0 sec"
     ]
    },
    {
     "name": "stdout",
     "output_type": "stream",
     "text": [
      "\n"
     ]
    },
    {
     "name": "stdout",
     "output_type": "stream",
     "text": [
      "\tFRA,  8th phase (30Jul2020 - 18Aug2020): finished  655 trials in 0 min 25 sec"
     ]
    },
    {
     "name": "stdout",
     "output_type": "stream",
     "text": [
      "\n"
     ]
    },
    {
     "name": "stdout",
     "output_type": "stream",
     "text": [
      "\tCHE,  1st phase (29Mar2020 - 05Apr2020): finished 1352 trials in 1 min  0 sec"
     ]
    },
    {
     "name": "stdout",
     "output_type": "stream",
     "text": [
      "\n"
     ]
    },
    {
     "name": "stdout",
     "output_type": "stream",
     "text": [
      "\tITA,  0th phase (24Feb2020 - 20Mar2020): finished 1317 trials in 1 min  0 sec"
     ]
    },
    {
     "name": "stdout",
     "output_type": "stream",
     "text": [
      "\n"
     ]
    },
    {
     "name": "stdout",
     "output_type": "stream",
     "text": [
      "\tBRA,  4th phase (09Jul2020 - 20Jul2020): finished  419 trials in 0 min 15 sec"
     ]
    },
    {
     "name": "stdout",
     "output_type": "stream",
     "text": [
      "\n"
     ]
    },
    {
     "name": "stdout",
     "output_type": "stream",
     "text": [
      "\tPRT,  8th phase (06Aug2020 - 24Aug2020): finished 1312 trials in 1 min  0 sec"
     ]
    },
    {
     "name": "stdout",
     "output_type": "stream",
     "text": [
      "\n"
     ]
    },
    {
     "name": "stdout",
     "output_type": "stream",
     "text": [
      "\tKWT,  7th phase (27Jul2020 - 08Aug2020): finished 1333 trials in 1 min  0 sec"
     ]
    },
    {
     "name": "stdout",
     "output_type": "stream",
     "text": [
      "\n"
     ]
    },
    {
     "name": "stdout",
     "output_type": "stream",
     "text": [
      "\tITA,  3rd phase (10Apr2020 - 19Apr2020): finished  418 trials in 0 min 15 sec"
     ]
    },
    {
     "name": "stdout",
     "output_type": "stream",
     "text": [
      "\n"
     ]
    },
    {
     "name": "stdout",
     "output_type": "stream",
     "text": [
      "\tUSA,  6th phase (18Jul2020 - 27Jul2020): finished  421 trials in 0 min 15 sec"
     ]
    },
    {
     "name": "stdout",
     "output_type": "stream",
     "text": [
      "\n"
     ]
    },
    {
     "name": "stdout",
     "output_type": "stream",
     "text": [
      "\tBGD,  6th phase (17Jul2020 - 27Jul2020): finished  154 trials in 0 min  5 sec"
     ]
    },
    {
     "name": "stdout",
     "output_type": "stream",
     "text": [
      "\n"
     ]
    },
    {
     "name": "stdout",
     "output_type": "stream",
     "text": [
      "\tCHE,  0th phase (03Mar2020 - 28Mar2020): finished 1319 trials in 1 min  0 sec"
     ]
    },
    {
     "name": "stdout",
     "output_type": "stream",
     "text": [
      "\n"
     ]
    },
    {
     "name": "stdout",
     "output_type": "stream",
     "text": [
      "\tRUS,  4th phase (06Jun2020 - 13Jun2020): finished 1344 trials in 1 min  0 sec"
     ]
    },
    {
     "name": "stdout",
     "output_type": "stream",
     "text": [
      "\n"
     ]
    },
    {
     "name": "stdout",
     "output_type": "stream",
     "text": [
      "\tFRA,  9th phase (19Aug2020 - 03Sep2020): finished  422 trials in 0 min 15 sec"
     ]
    },
    {
     "name": "stdout",
     "output_type": "stream",
     "text": [
      "\n"
     ]
    },
    {
     "name": "stdout",
     "output_type": "stream",
     "text": [
      "\tROU,  8th phase (18Aug2020 - 26Aug2020): finished  414 trials in 0 min 15 sec"
     ]
    },
    {
     "name": "stdout",
     "output_type": "stream",
     "text": [
      "\n"
     ]
    },
    {
     "name": "stdout",
     "output_type": "stream",
     "text": [
      "\tBFA,  8th phase (12Aug2020 - 22Aug2020): finished 1358 trials in 1 min  0 sec"
     ]
    },
    {
     "name": "stdout",
     "output_type": "stream",
     "text": [
      "\n"
     ]
    },
    {
     "name": "stdout",
     "output_type": "stream",
     "text": [
      "\tROU,  1st phase (25Apr2020 - 18May2020): finished 1335 trials in 1 min  0 sec"
     ]
    },
    {
     "name": "stdout",
     "output_type": "stream",
     "text": [
      "\n"
     ]
    },
    {
     "name": "stdout",
     "output_type": "stream",
     "text": [
      "\tGIN,  5th phase (20Jun2020 - 08Jul2020): finished  273 trials in 0 min 10 sec"
     ]
    },
    {
     "name": "stdout",
     "output_type": "stream",
     "text": [
      "\n"
     ]
    },
    {
     "name": "stdout",
     "output_type": "stream",
     "text": [
      "\tBRA, 10th phase (03Sep2020 - 17Sep2020): finished 1327 trials in 1 min  0 sec"
     ]
    },
    {
     "name": "stdout",
     "output_type": "stream",
     "text": [
      "\n"
     ]
    },
    {
     "name": "stdout",
     "output_type": "stream",
     "text": [
      "\tITA,  2nd phase (29Mar2020 - 09Apr2020): finished 1217 trials in 1 min  0 sec"
     ]
    },
    {
     "name": "stdout",
     "output_type": "stream",
     "text": [
      "\n"
     ]
    },
    {
     "name": "stdout",
     "output_type": "stream",
     "text": [
      "\tFRA,  0th phase (12Feb2020 - 23Mar2020): finished 1201 trials in 1 min  0 sec"
     ]
    },
    {
     "name": "stdout",
     "output_type": "stream",
     "text": [
      "\n"
     ]
    },
    {
     "name": "stdout",
     "output_type": "stream",
     "text": [
      "\tIRN,  9th phase (13Aug2020 - 29Aug2020): finished  140 trials in 0 min  5 sec"
     ]
    },
    {
     "name": "stdout",
     "output_type": "stream",
     "text": [
      "\n"
     ]
    },
    {
     "name": "stdout",
     "output_type": "stream",
     "text": [
      "\tPRT,  9th phase (25Aug2020 - 04Sep2020): finished 1231 trials in 1 min  0 sec"
     ]
    },
    {
     "name": "stdout",
     "output_type": "stream",
     "text": [
      "\n"
     ]
    },
    {
     "name": "stdout",
     "output_type": "stream",
     "text": [
      "\tRUS, 11th phase (31Aug2020 - 17Sep2020): finished 1214 trials in 1 min  0 sec"
     ]
    },
    {
     "name": "stdout",
     "output_type": "stream",
     "text": [
      "\n"
     ]
    },
    {
     "name": "stdout",
     "output_type": "stream",
     "text": [
      "\tITA,  7th phase (22May2020 - 12Jun2020): finished  303 trials in 0 min 10 sec"
     ]
    },
    {
     "name": "stdout",
     "output_type": "stream",
     "text": [
      "\n"
     ]
    },
    {
     "name": "stdout",
     "output_type": "stream",
     "text": [
      "\tFRA,  3rd phase (13Apr2020 - 25Apr2020): finished 1389 trials in 1 min  0 sec"
     ]
    },
    {
     "name": "stdout",
     "output_type": "stream",
     "text": [
      "\n"
     ]
    },
    {
     "name": "stdout",
     "output_type": "stream",
     "text": [
      "\tUSA,  1st phase (19Apr2020 - 11May2020): finished 1359 trials in 1 min  0 sec"
     ]
    },
    {
     "name": "stdout",
     "output_type": "stream",
     "text": [
      "\n"
     ]
    },
    {
     "name": "stdout",
     "output_type": "stream",
     "text": [
      "\tARE,  9th phase (16Aug2020 - 31Aug2020): finished 1385 trials in 1 min  0 sec"
     ]
    },
    {
     "name": "stdout",
     "output_type": "stream",
     "text": [
      "\n"
     ]
    },
    {
     "name": "stdout",
     "output_type": "stream",
     "text": [
      "\tPRT,  1st phase (28Apr2020 - 17May2020): finished 1406 trials in 1 min  0 sec"
     ]
    },
    {
     "name": "stdout",
     "output_type": "stream",
     "text": [
      "\n"
     ]
    },
    {
     "name": "stdout",
     "output_type": "stream",
     "text": [
      "\tCHE,  7th phase (14Aug2020 - 23Aug2020): finished 1422 trials in 1 min  0 sec"
     ]
    },
    {
     "name": "stdout",
     "output_type": "stream",
     "text": [
      "\n"
     ]
    },
    {
     "name": "stdout",
     "output_type": "stream",
     "text": [
      "\tROU, 10th phase (06Sep2020 - 17Sep2020): finished 1430 trials in 1 min  0 sec"
     ]
    },
    {
     "name": "stdout",
     "output_type": "stream",
     "text": [
      "\n"
     ]
    },
    {
     "name": "stdout",
     "output_type": "stream",
     "text": [
      "\tBHR,  0th phase (06Mar2020 - 06May2020): finished 1344 trials in 1 min  0 sec"
     ]
    },
    {
     "name": "stdout",
     "output_type": "stream",
     "text": [
      "\n"
     ]
    },
    {
     "name": "stdout",
     "output_type": "stream",
     "text": [
      "\tCHE,  2nd phase (06Apr2020 - 15Apr2020): finished 1355 trials in 1 min  0 sec"
     ]
    },
    {
     "name": "stdout",
     "output_type": "stream",
     "text": [
      "\n"
     ]
    },
    {
     "name": "stdout",
     "output_type": "stream",
     "text": [
      "\tKWT,  6th phase (15Jul2020 - 26Jul2020): finished  320 trials in 0 min 10 sec"
     ]
    },
    {
     "name": "stdout",
     "output_type": "stream",
     "text": [
      "\n"
     ]
    },
    {
     "name": "stdout",
     "output_type": "stream",
     "text": [
      "\tPER,  6th phase (31Jul2020 - 10Aug2020): finished 1347 trials in 1 min  0 sec"
     ]
    },
    {
     "name": "stdout",
     "output_type": "stream",
     "text": [
      "\n"
     ]
    },
    {
     "name": "stdout",
     "output_type": "stream",
     "text": [
      "\tGIN,  9th phase (17Aug2020 - 01Sep2020): finished 1333 trials in 1 min  0 sec"
     ]
    },
    {
     "name": "stdout",
     "output_type": "stream",
     "text": [
      "\n"
     ]
    },
    {
     "name": "stdout",
     "output_type": "stream",
     "text": [
      "\tKWT,  3rd phase (08Jun2020 - 22Jun2020): finished 1372 trials in 1 min  0 sec"
     ]
    },
    {
     "name": "stdout",
     "output_type": "stream",
     "text": [
      "\n"
     ]
    },
    {
     "name": "stdout",
     "output_type": "stream",
     "text": [
      "\tPER,  2nd phase (30May2020 - 15Jun2020): finished 1344 trials in 1 min  0 sec"
     ]
    },
    {
     "name": "stdout",
     "output_type": "stream",
     "text": [
      "\n"
     ]
    },
    {
     "name": "stdout",
     "output_type": "stream",
     "text": [
      "\tARE,  1st phase (26Apr2020 - 12May2020): finished 1355 trials in 1 min  0 sec"
     ]
    },
    {
     "name": "stdout",
     "output_type": "stream",
     "text": [
      "\n"
     ]
    },
    {
     "name": "stdout",
     "output_type": "stream",
     "text": [
      "\tBRA,  8th phase (14Aug2020 - 24Aug2020): finished 1404 trials in 1 min  0 sec"
     ]
    },
    {
     "name": "stdout",
     "output_type": "stream",
     "text": [
      "\n"
     ]
    },
    {
     "name": "stdout",
     "output_type": "stream",
     "text": [
      "\tFRA,  4th phase (26Apr2020 - 05May2020): finished 1419 trials in 1 min  0 sec"
     ]
    },
    {
     "name": "stdout",
     "output_type": "stream",
     "text": [
      "\n"
     ]
    },
    {
     "name": "stdout",
     "output_type": "stream",
     "text": [
      "\tBGD,  2nd phase (12Jun2020 - 19Jun2020): finished 1404 trials in 1 min  0 sec"
     ]
    },
    {
     "name": "stdout",
     "output_type": "stream",
     "text": [
      "\n"
     ]
    },
    {
     "name": "stdout",
     "output_type": "stream",
     "text": [
      "\tBHR,  8th phase (28Jul2020 - 10Aug2020): finished  345 trials in 0 min 10 sec"
     ]
    },
    {
     "name": "stdout",
     "output_type": "stream",
     "text": [
      "\n"
     ]
    },
    {
     "name": "stdout",
     "output_type": "stream",
     "text": [
      "\tBHR, 10th phase (25Aug2020 - 06Sep2020): finished 1430 trials in 1 min  0 sec"
     ]
    },
    {
     "name": "stdout",
     "output_type": "stream",
     "text": [
      "\n"
     ]
    },
    {
     "name": "stdout",
     "output_type": "stream",
     "text": [
      "\tKWT,  4th phase (23Jun2020 - 04Jul2020): finished 1435 trials in 1 min  0 sec"
     ]
    },
    {
     "name": "stdout",
     "output_type": "stream",
     "text": [
      "\n"
     ]
    },
    {
     "name": "stdout",
     "output_type": "stream",
     "text": [
      "\tPER,  9th phase (28Aug2020 - 04Sep2020): finished 1481 trials in 1 min  0 sec"
     ]
    },
    {
     "name": "stdout",
     "output_type": "stream",
     "text": [
      "\n"
     ]
    },
    {
     "name": "stdout",
     "output_type": "stream",
     "text": [
      "\tGIN,  1st phase (01May2020 - 11May2020): finished 1429 trials in 1 min  0 sec"
     ]
    },
    {
     "name": "stdout",
     "output_type": "stream",
     "text": [
      "\n"
     ]
    },
    {
     "name": "stdout",
     "output_type": "stream",
     "text": [
      "\tTUR,  1st phase (17Apr2020 - 29Apr2020): finished 1422 trials in 1 min  0 sec"
     ]
    },
    {
     "name": "stdout",
     "output_type": "stream",
     "text": [
      "\n"
     ]
    },
    {
     "name": "stdout",
     "output_type": "stream",
     "text": [
      "\tIRN,  4th phase (01Jun2020 - 15Jun2020): finished 1371 trials in 1 min  0 sec"
     ]
    },
    {
     "name": "stdout",
     "output_type": "stream",
     "text": [
      "\n"
     ]
    },
    {
     "name": "stdout",
     "output_type": "stream",
     "text": [
      "\tBRA,  3rd phase (27Jun2020 - 08Jul2020): finished 1360 trials in 1 min  0 sec"
     ]
    },
    {
     "name": "stdout",
     "output_type": "stream",
     "text": [
      "\n"
     ]
    },
    {
     "name": "stdout",
     "output_type": "stream",
     "text": [
      "\tITA,  8th phase (13Jun2020 - 29Jul2020): finished  580 trials in 0 min 25 sec"
     ]
    },
    {
     "name": "stdout",
     "output_type": "stream",
     "text": [
      "\n"
     ]
    },
    {
     "name": "stdout",
     "output_type": "stream",
     "text": [
      "\tUSA,  7th phase (28Jul2020 - 07Aug2020): finished  392 trials in 0 min 15 sec"
     ]
    },
    {
     "name": "stdout",
     "output_type": "stream",
     "text": [
      "\n"
     ]
    },
    {
     "name": "stdout",
     "output_type": "stream",
     "text": [
      "\tPRT,  0th phase (14Mar2020 - 27Apr2020): finished 1246 trials in 1 min  0 sec"
     ]
    },
    {
     "name": "stdout",
     "output_type": "stream",
     "text": [
      "\n"
     ]
    },
    {
     "name": "stdout",
     "output_type": "stream",
     "text": [
      "\tBGD,  1st phase (27May2020 - 11Jun2020): finished 1322 trials in 1 min  0 sec"
     ]
    },
    {
     "name": "stdout",
     "output_type": "stream",
     "text": [
      "\n"
     ]
    },
    {
     "name": "stdout",
     "output_type": "stream",
     "text": [
      "\tBGD,  9th phase (23Aug2020 - 01Sep2020): finished  312 trials in 0 min 10 sec"
     ]
    },
    {
     "name": "stdout",
     "output_type": "stream",
     "text": [
      "\n"
     ]
    },
    {
     "name": "stdout",
     "output_type": "stream",
     "text": [
      "\tBFA,  5th phase (21May2020 - 24Jun2020): finished 1316 trials in 1 min  0 sec"
     ]
    },
    {
     "name": "stdout",
     "output_type": "stream",
     "text": [
      "\n"
     ]
    },
    {
     "name": "stdout",
     "output_type": "stream",
     "text": [
      "\tBHR,  4th phase (21Jun2020 - 28Jun2020): finished 1340 trials in 1 min  0 sec"
     ]
    },
    {
     "name": "stdout",
     "output_type": "stream",
     "text": [
      "\n"
     ]
    },
    {
     "name": "stdout",
     "output_type": "stream",
     "text": [
      "\tBRA,  9th phase (25Aug2020 - 02Sep2020): finished  302 trials in 0 min 10 sec"
     ]
    },
    {
     "name": "stdout",
     "output_type": "stream",
     "text": [
      "\n"
     ]
    },
    {
     "name": "stdout",
     "output_type": "stream",
     "text": [
      "\tUSA,  4th phase (25Jun2020 - 07Jul2020): finished 1407 trials in 1 min  0 sec"
     ]
    },
    {
     "name": "stdout",
     "output_type": "stream",
     "text": [
      "\n"
     ]
    },
    {
     "name": "stdout",
     "output_type": "stream",
     "text": [
      "\tTUR,  9th phase (21Aug2020 - 03Sep2020): finished  168 trials in 0 min  5 sec"
     ]
    },
    {
     "name": "stdout",
     "output_type": "stream",
     "text": [
      "\n"
     ]
    },
    {
     "name": "stdout",
     "output_type": "stream",
     "text": [
      "\tTUR,  0th phase (24Mar2020 - 16Apr2020): finished 1388 trials in 1 min  0 sec"
     ]
    },
    {
     "name": "stdout",
     "output_type": "stream",
     "text": [
      "\n"
     ]
    },
    {
     "name": "stdout",
     "output_type": "stream",
     "text": [
      "\tPRT,  2nd phase (18May2020 - 01Jun2020): finished 1403 trials in 1 min  0 sec"
     ]
    },
    {
     "name": "stdout",
     "output_type": "stream",
     "text": [
      "\n"
     ]
    },
    {
     "name": "stdout",
     "output_type": "stream",
     "text": [
      "\tTUR,  7th phase (15Jul2020 - 04Aug2020): finished  157 trials in 0 min  5 sec"
     ]
    },
    {
     "name": "stdout",
     "output_type": "stream",
     "text": [
      "\n"
     ]
    },
    {
     "name": "stdout",
     "output_type": "stream",
     "text": [
      "\tBFA,  1st phase (01Apr2020 - 09Apr2020): finished 1416 trials in 1 min  0 sec"
     ]
    },
    {
     "name": "stdout",
     "output_type": "stream",
     "text": [
      "\n"
     ]
    },
    {
     "name": "stdout",
     "output_type": "stream",
     "text": [
      "\tIRN,  8th phase (29Jul2020 - 12Aug2020): finished  288 trials in 0 min 10 sec"
     ]
    },
    {
     "name": "stdout",
     "output_type": "stream",
     "text": [
      "\n"
     ]
    },
    {
     "name": "stdout",
     "output_type": "stream",
     "text": [
      "\tPER, 10th phase (05Sep2020 - 17Sep2020): finished 1394 trials in 1 min  0 sec"
     ]
    },
    {
     "name": "stdout",
     "output_type": "stream",
     "text": [
      "\n"
     ]
    },
    {
     "name": "stdout",
     "output_type": "stream",
     "text": [
      "\tIRN,  6th phase (01Jul2020 - 13Jul2020): finished  158 trials in 0 min  5 sec"
     ]
    },
    {
     "name": "stdout",
     "output_type": "stream",
     "text": [
      "\n"
     ]
    },
    {
     "name": "stdout",
     "output_type": "stream",
     "text": [
      "\tRUS,  1st phase (07May2020 - 17May2020): finished 1386 trials in 1 min  0 sec"
     ]
    },
    {
     "name": "stdout",
     "output_type": "stream",
     "text": [
      "\n"
     ]
    },
    {
     "name": "stdout",
     "output_type": "stream",
     "text": [
      "\tBHR,  6th phase (08Jul2020 - 15Jul2020): finished 1388 trials in 1 min  0 sec"
     ]
    },
    {
     "name": "stdout",
     "output_type": "stream",
     "text": [
      "\n"
     ]
    },
    {
     "name": "stdout",
     "output_type": "stream",
     "text": [
      "\tRUS,  7th phase (06Jul2020 - 17Jul2020): finished 1365 trials in 1 min  0 sec"
     ]
    },
    {
     "name": "stdout",
     "output_type": "stream",
     "text": [
      "\n"
     ]
    },
    {
     "name": "stdout",
     "output_type": "stream",
     "text": [
      "\tCHE,  9th phase (01Sep2020 - 08Sep2020): finished 1098 trials in 0 min 45 sec"
     ]
    },
    {
     "name": "stdout",
     "output_type": "stream",
     "text": [
      "\n"
     ]
    },
    {
     "name": "stdout",
     "output_type": "stream",
     "text": [
      "\tROU,  7th phase (10Aug2020 - 17Aug2020): finished 1416 trials in 1 min  0 sec"
     ]
    },
    {
     "name": "stdout",
     "output_type": "stream",
     "text": [
      "\n"
     ]
    },
    {
     "name": "stdout",
     "output_type": "stream",
     "text": [
      "\tRUS,  3rd phase (28May2020 - 05Jun2020): finished 1427 trials in 1 min  0 sec"
     ]
    },
    {
     "name": "stdout",
     "output_type": "stream",
     "text": [
      "\n"
     ]
    },
    {
     "name": "stdout",
     "output_type": "stream",
     "text": [
      "\tPRT,  7th phase (19Jul2020 - 05Aug2020): finished 1419 trials in 1 min  0 sec"
     ]
    },
    {
     "name": "stdout",
     "output_type": "stream",
     "text": [
      "\n"
     ]
    },
    {
     "name": "stdout",
     "output_type": "stream",
     "text": [
      "\tFRA,  1st phase (24Mar2020 - 02Apr2020): finished 1439 trials in 1 min  0 sec"
     ]
    },
    {
     "name": "stdout",
     "output_type": "stream",
     "text": [
      "\n"
     ]
    },
    {
     "name": "stdout",
     "output_type": "stream",
     "text": [
      "\tBHR,  5th phase (29Jun2020 - 07Jul2020): finished 1422 trials in 1 min  0 sec"
     ]
    },
    {
     "name": "stdout",
     "output_type": "stream",
     "text": [
      "\n"
     ]
    },
    {
     "name": "stdout",
     "output_type": "stream",
     "text": [
      "\tCHE,  4th phase (26Apr2020 - 26Jun2020): finished 1352 trials in 1 min  0 sec"
     ]
    },
    {
     "name": "stdout",
     "output_type": "stream",
     "text": [
      "\n"
     ]
    },
    {
     "name": "stdout",
     "output_type": "stream",
     "text": [
      "\tBRA,  7th phase (06Aug2020 - 13Aug2020): finished  450 trials in 0 min 15 sec"
     ]
    },
    {
     "name": "stdout",
     "output_type": "stream",
     "text": [
      "\n"
     ]
    },
    {
     "name": "stdout",
     "output_type": "stream",
     "text": [
      "\tPRT,  6th phase (07Jul2020 - 18Jul2020): finished 1395 trials in 1 min  0 sec"
     ]
    },
    {
     "name": "stdout",
     "output_type": "stream",
     "text": [
      "\n"
     ]
    },
    {
     "name": "stdout",
     "output_type": "stream",
     "text": [
      "\tARE,  3rd phase (21May2020 - 06Jun2020): finished 1428 trials in 1 min  0 sec"
     ]
    },
    {
     "name": "stdout",
     "output_type": "stream",
     "text": [
      "\n"
     ]
    },
    {
     "name": "stdout",
     "output_type": "stream",
     "text": [
      "\tBHR,  9th phase (11Aug2020 - 24Aug2020): finished 1516 trials in 1 min  0 sec"
     ]
    },
    {
     "name": "stdout",
     "output_type": "stream",
     "text": [
      "\n"
     ]
    },
    {
     "name": "stdout",
     "output_type": "stream",
     "text": [
      "\tBGD,  3rd phase (20Jun2020 - 28Jun2020): finished 1578 trials in 1 min  0 sec"
     ]
    },
    {
     "name": "stdout",
     "output_type": "stream",
     "text": [
      "\n"
     ]
    },
    {
     "name": "stdout",
     "output_type": "stream",
     "text": [
      "\tCHE,  8th phase (24Aug2020 - 31Aug2020): finished 1566 trials in 1 min  0 sec"
     ]
    },
    {
     "name": "stdout",
     "output_type": "stream",
     "text": [
      "\n"
     ]
    },
    {
     "name": "stdout",
     "output_type": "stream",
     "text": [
      "\tFRA,  2nd phase (03Apr2020 - 12Apr2020): finished 1637 trials in 1 min  0 sec"
     ]
    },
    {
     "name": "stdout",
     "output_type": "stream",
     "text": [
      "\n"
     ]
    },
    {
     "name": "stdout",
     "output_type": "stream",
     "text": [
      "\tROU,  0th phase (04Mar2020 - 24Apr2020): finished 1851 trials in 1 min  0 sec"
     ]
    },
    {
     "name": "stdout",
     "output_type": "stream",
     "text": [
      "\n"
     ]
    },
    {
     "name": "stdout",
     "output_type": "stream",
     "text": [
      "\tTUR,  4th phase (23May2020 - 12Jun2020): finished 1896 trials in 1 min  0 sec"
     ]
    },
    {
     "name": "stdout",
     "output_type": "stream",
     "text": [
      "\n"
     ]
    },
    {
     "name": "stdout",
     "output_type": "stream",
     "text": [
      "\tKWT,  1st phase (15May2020 - 28May2020): finished 1951 trials in 1 min  0 sec"
     ]
    },
    {
     "name": "stdout",
     "output_type": "stream",
     "text": [
      "\n"
     ]
    },
    {
     "name": "stdout",
     "output_type": "stream",
     "text": [
      "\tFRA,  6th phase (28May2020 - 29Jun2020): finished 1954 trials in 1 min  0 sec"
     ]
    },
    {
     "name": "stdout",
     "output_type": "stream",
     "text": [
      "\n"
     ]
    },
    {
     "name": "stdout",
     "output_type": "stream",
     "text": [
      "\tBHR,  7th phase (16Jul2020 - 27Jul2020): finished  252 trials in 0 min  5 sec"
     ]
    },
    {
     "name": "stdout",
     "output_type": "stream",
     "text": [
      "\n"
     ]
    },
    {
     "name": "stdout",
     "output_type": "stream",
     "text": [
      "\tROU,  2nd phase (19May2020 - 19Jun2020): finished 1761 trials in 1 min  0 sec"
     ]
    },
    {
     "name": "stdout",
     "output_type": "stream",
     "text": [
      "\n"
     ]
    },
    {
     "name": "stdout",
     "output_type": "stream",
     "text": [
      "\tBFA,  7th phase (22Jul2020 - 11Aug2020): finished 1731 trials in 1 min  0 sec"
     ]
    },
    {
     "name": "stdout",
     "output_type": "stream",
     "text": [
      "\n"
     ]
    },
    {
     "name": "stdout",
     "output_type": "stream",
     "text": [
      "\tCHE,  6th phase (29Jul2020 - 13Aug2020): finished 1709 trials in 1 min  0 sec"
     ]
    },
    {
     "name": "stdout",
     "output_type": "stream",
     "text": [
      "\n"
     ]
    },
    {
     "name": "stdout",
     "output_type": "stream",
     "text": [
      "\tBFA,  6th phase (25Jun2020 - 21Jul2020): finished 1642 trials in 1 min  0 sec"
     ]
    },
    {
     "name": "stdout",
     "output_type": "stream",
     "text": [
      "\n"
     ]
    },
    {
     "name": "stdout",
     "output_type": "stream",
     "text": [
      "\tITA,  6th phase (10May2020 - 21May2020): finished  392 trials in 0 min 10 sec"
     ]
    },
    {
     "name": "stdout",
     "output_type": "stream",
     "text": [
      "\n"
     ]
    },
    {
     "name": "stdout",
     "output_type": "stream",
     "text": [
      "\tRUS,  9th phase (01Aug2020 - 14Aug2020): finished 1668 trials in 1 min  0 sec"
     ]
    },
    {
     "name": "stdout",
     "output_type": "stream",
     "text": [
      "\n"
     ]
    },
    {
     "name": "stdout",
     "output_type": "stream",
     "text": [
      "\tGIN,  7th phase (24Jul2020 - 06Aug2020): finished 1654 trials in 1 min  0 sec"
     ]
    },
    {
     "name": "stdout",
     "output_type": "stream",
     "text": [
      "\n"
     ]
    },
    {
     "name": "stdout",
     "output_type": "stream",
     "text": [
      "\tIRN,  3rd phase (13May2020 - 31May2020): finished  159 trials in 0 min  5 sec"
     ]
    },
    {
     "name": "stdout",
     "output_type": "stream",
     "text": [
      "\n"
     ]
    },
    {
     "name": "stdout",
     "output_type": "stream",
     "text": [
      "\tTUR,  3rd phase (09May2020 - 22May2020): finished 1680 trials in 1 min  0 sec"
     ]
    },
    {
     "name": "stdout",
     "output_type": "stream",
     "text": [
      "\n"
     ]
    },
    {
     "name": "stdout",
     "output_type": "stream",
     "text": [
      "\tITA,  9th phase (30Jul2020 - 27Aug2020): finished 1664 trials in 1 min  0 sec"
     ]
    },
    {
     "name": "stdout",
     "output_type": "stream",
     "text": [
      "\n"
     ]
    },
    {
     "name": "stdout",
     "output_type": "stream",
     "text": [
      "\tROU,  5th phase (24Jul2020 - 31Jul2020): finished  574 trials in 0 min 15 sec"
     ]
    },
    {
     "name": "stdout",
     "output_type": "stream",
     "text": [
      "\n"
     ]
    },
    {
     "name": "stdout",
     "output_type": "stream",
     "text": [
      "\tUSA,  2nd phase (12May2020 - 05Jun2020): finished 1592 trials in 1 min  0 sec"
     ]
    },
    {
     "name": "stdout",
     "output_type": "stream",
     "text": [
      "\n"
     ]
    },
    {
     "name": "stdout",
     "output_type": "stream",
     "text": [
      "\tFRA,  5th phase (06May2020 - 27May2020): finished  546 trials in 0 min 15 sec"
     ]
    },
    {
     "name": "stdout",
     "output_type": "stream",
     "text": [
      "\n"
     ]
    },
    {
     "name": "stdout",
     "output_type": "stream",
     "text": [
      "\tGIN, 10th phase (02Sep2020 - 17Sep2020): finished 1680 trials in 1 min  0 sec"
     ]
    },
    {
     "name": "stdout",
     "output_type": "stream",
     "text": [
      "\n"
     ]
    },
    {
     "name": "stdout",
     "output_type": "stream",
     "text": [
      "\tBHR,  1st phase (07May2020 - 30May2020): finished 1686 trials in 1 min  0 sec"
     ]
    },
    {
     "name": "stdout",
     "output_type": "stream",
     "text": [
      "\n"
     ]
    },
    {
     "name": "stdout",
     "output_type": "stream",
     "text": [
      "\tARE,  5th phase (20Jun2020 - 01Jul2020): finished  701 trials in 0 min 20 sec"
     ]
    },
    {
     "name": "stdout",
     "output_type": "stream",
     "text": [
      "\n"
     ]
    },
    {
     "name": "stdout",
     "output_type": "stream",
     "text": [
      "\tTUR,  2nd phase (30Apr2020 - 08May2020): finished 1097 trials in 0 min 35 sec"
     ]
    },
    {
     "name": "stdout",
     "output_type": "stream",
     "text": [
      "\n"
     ]
    },
    {
     "name": "stdout",
     "output_type": "stream",
     "text": [
      "\tROU,  9th phase (27Aug2020 - 05Sep2020): finished  226 trials in 0 min  5 sec"
     ]
    },
    {
     "name": "stdout",
     "output_type": "stream",
     "text": [
      "\n"
     ]
    },
    {
     "name": "stdout",
     "output_type": "stream",
     "text": [
      "\tUSA,  8th phase (08Aug2020 - 19Aug2020): finished  647 trials in 0 min 20 sec"
     ]
    },
    {
     "name": "stdout",
     "output_type": "stream",
     "text": [
      "\n"
     ]
    },
    {
     "name": "stdout",
     "output_type": "stream",
     "text": [
      "\tRUS,  0th phase (12Feb2020 - 06May2020): finished 1655 trials in 1 min  0 sec"
     ]
    },
    {
     "name": "stdout",
     "output_type": "stream",
     "text": [
      "\n"
     ]
    },
    {
     "name": "stdout",
     "output_type": "stream",
     "text": [
      "\tPER,  4th phase (03Jul2020 - 18Jul2020): finished 1668 trials in 1 min  0 sec"
     ]
    },
    {
     "name": "stdout",
     "output_type": "stream",
     "text": [
      "\n"
     ]
    },
    {
     "name": "stdout",
     "output_type": "stream",
     "text": [
      "\tTUR,  5th phase (13Jun2020 - 27Jun2020): finished 1649 trials in 1 min  0 sec"
     ]
    },
    {
     "name": "stdout",
     "output_type": "stream",
     "text": [
      "\n"
     ]
    },
    {
     "name": "stdout",
     "output_type": "stream",
     "text": [
      "\tBHR,  2nd phase (31May2020 - 10Jun2020): finished 1685 trials in 1 min  0 sec"
     ]
    },
    {
     "name": "stdout",
     "output_type": "stream",
     "text": [
      "\n"
     ]
    },
    {
     "name": "stdout",
     "output_type": "stream",
     "text": [
      "\tGIN,  6th phase (09Jul2020 - 23Jul2020): finished 1679 trials in 1 min  0 sec"
     ]
    },
    {
     "name": "stdout",
     "output_type": "stream",
     "text": [
      "\n"
     ]
    },
    {
     "name": "stdout",
     "output_type": "stream",
     "text": [
      "\tKWT,  2nd phase (29May2020 - 07Jun2020): finished  188 trials in 0 min  5 sec"
     ]
    },
    {
     "name": "stdout",
     "output_type": "stream",
     "text": [
      "\n"
     ]
    },
    {
     "name": "stdout",
     "output_type": "stream",
     "text": [
      "\tRUS, 10th phase (15Aug2020 - 30Aug2020): finished 1684 trials in 1 min  0 sec"
     ]
    },
    {
     "name": "stdout",
     "output_type": "stream",
     "text": [
      "\n"
     ]
    },
    {
     "name": "stdout",
     "output_type": "stream",
     "text": [
      "\tIRN,  7th phase (14Jul2020 - 28Jul2020): finished  205 trials in 0 min  5 sec"
     ]
    },
    {
     "name": "stdout",
     "output_type": "stream",
     "text": [
      "\n"
     ]
    },
    {
     "name": "stdout",
     "output_type": "stream",
     "text": [
      "\tBGD,  4th phase (29Jun2020 - 06Jul2020): finished  697 trials in 0 min 20 sec"
     ]
    },
    {
     "name": "stdout",
     "output_type": "stream",
     "text": [
      "\n"
     ]
    },
    {
     "name": "stdout",
     "output_type": "stream",
     "text": [
      "\tCHE,  3rd phase (16Apr2020 - 25Apr2020): finished 1694 trials in 1 min  0 sec"
     ]
    },
    {
     "name": "stdout",
     "output_type": "stream",
     "text": [
      "\n"
     ]
    },
    {
     "name": "stdout",
     "output_type": "stream",
     "text": [
      "\tUSA,  9th phase (20Aug2020 - 02Sep2020): finished  221 trials in 0 min  5 sec"
     ]
    },
    {
     "name": "stdout",
     "output_type": "stream",
     "text": [
      "\n"
     ]
    },
    {
     "name": "stdout",
     "output_type": "stream",
     "text": [
      "\tBFA,  9th phase (23Aug2020 - 08Sep2020): finished 1594 trials in 1 min  0 sec"
     ]
    },
    {
     "name": "stdout",
     "output_type": "stream",
     "text": [
      "\n"
     ]
    },
    {
     "name": "stdout",
     "output_type": "stream",
     "text": [
      "\tBHR,  3rd phase (11Jun2020 - 20Jun2020): finished  850 trials in 0 min 25 sec"
     ]
    },
    {
     "name": "stdout",
     "output_type": "stream",
     "text": [
      "\n"
     ]
    },
    {
     "name": "stdout",
     "output_type": "stream",
     "text": [
      "\tARE,  6th phase (02Jul2020 - 11Jul2020): finished 1690 trials in 1 min  0 sec"
     ]
    },
    {
     "name": "stdout",
     "output_type": "stream",
     "text": [
      "\n"
     ]
    },
    {
     "name": "stdout",
     "output_type": "stream",
     "text": [
      "\tROU,  6th phase (01Aug2020 - 09Aug2020): finished  194 trials in 0 min  5 sec"
     ]
    },
    {
     "name": "stdout",
     "output_type": "stream",
     "text": [
      "\n"
     ]
    },
    {
     "name": "stdout",
     "output_type": "stream",
     "text": [
      "\tBRA,  2nd phase (15Jun2020 - 26Jun2020): finished  538 trials in 0 min 15 sec"
     ]
    },
    {
     "name": "stdout",
     "output_type": "stream",
     "text": [
      "\n"
     ]
    },
    {
     "name": "stdout",
     "output_type": "stream",
     "text": [
      "\tIRN,  0th phase (26Feb2020 - 29Mar2020): finished 1664 trials in 1 min  0 sec"
     ]
    },
    {
     "name": "stdout",
     "output_type": "stream",
     "text": [
      "\n"
     ]
    },
    {
     "name": "stdout",
     "output_type": "stream",
     "text": [
      "\tKWT, 10th phase (04Sep2020 - 17Sep2020): finished 1713 trials in 1 min  0 sec"
     ]
    },
    {
     "name": "stdout",
     "output_type": "stream",
     "text": [
      "\n"
     ]
    },
    {
     "name": "stdout",
     "output_type": "stream",
     "text": [
      "\tPER,  3rd phase (16Jun2020 - 02Jul2020): finished 1901 trials in 1 min  0 sec"
     ]
    },
    {
     "name": "stdout",
     "output_type": "stream",
     "text": [
      "\n"
     ]
    },
    {
     "name": "stdout",
     "output_type": "stream",
     "text": [
      "\tRUS,  5th phase (14Jun2020 - 23Jun2020): finished 1888 trials in 1 min  0 sec"
     ]
    },
    {
     "name": "stdout",
     "output_type": "stream",
     "text": [
      "\n"
     ]
    },
    {
     "name": "stdout",
     "output_type": "stream",
     "text": [
      "\tARE,  8th phase (27Jul2020 - 15Aug2020): finished  465 trials in 0 min 10 sec"
     ]
    },
    {
     "name": "stdout",
     "output_type": "stream",
     "text": [
      "\n"
     ]
    },
    {
     "name": "stdout",
     "output_type": "stream",
     "text": [
      "\tITA,  1st phase (21Mar2020 - 28Mar2020): finished 1984 trials in 1 min  0 sec"
     ]
    },
    {
     "name": "stdout",
     "output_type": "stream",
     "text": [
      "\n"
     ]
    },
    {
     "name": "stdout",
     "output_type": "stream",
     "text": [
      "\tIRN,  5th phase (16Jun2020 - 30Jun2020): finished 1973 trials in 1 min  0 sec"
     ]
    },
    {
     "name": "stdout",
     "output_type": "stream",
     "text": [
      "\n"
     ]
    },
    {
     "name": "stdout",
     "output_type": "stream",
     "text": [
      "\tARE,  7th phase (12Jul2020 - 26Jul2020): finished  840 trials in 0 min 20 sec"
     ]
    },
    {
     "name": "stdout",
     "output_type": "stream",
     "text": [
      "\n"
     ]
    },
    {
     "name": "stdout",
     "output_type": "stream",
     "text": [
      "\tGIN,  8th phase (07Aug2020 - 16Aug2020): finished  252 trials in 0 min  5 sec"
     ]
    },
    {
     "name": "stdout",
     "output_type": "stream",
     "text": [
      "\n"
     ]
    },
    {
     "name": "stdout",
     "output_type": "stream",
     "text": [
      "\tARE,  0th phase (12Feb2020 - 25Apr2020): finished 1920 trials in 1 min  0 sec"
     ]
    },
    {
     "name": "stdout",
     "output_type": "stream",
     "text": [
      "\n"
     ]
    },
    {
     "name": "stdout",
     "output_type": "stream",
     "text": [
      "\tPER,  0th phase (16Mar2020 - 10May2020): finished 1917 trials in 1 min  0 sec"
     ]
    },
    {
     "name": "stdout",
     "output_type": "stream",
     "text": [
      "\n"
     ]
    },
    {
     "name": "stdout",
     "output_type": "stream",
     "text": [
      "\tITA,  5th phase (01May2020 - 09May2020): finished  681 trials in 0 min 15 sec"
     ]
    },
    {
     "name": "stdout",
     "output_type": "stream",
     "text": [
      "\n"
     ]
    },
    {
     "name": "stdout",
     "output_type": "stream",
     "text": [
      "\tCHE,  5th phase (27Jun2020 - 28Jul2020): finished 1955 trials in 1 min  0 sec"
     ]
    },
    {
     "name": "stdout",
     "output_type": "stream",
     "text": [
      "\n"
     ]
    },
    {
     "name": "stdout",
     "output_type": "stream",
     "text": [
      "\tPER,  5th phase (19Jul2020 - 30Jul2020): finished 1883 trials in 1 min  0 sec"
     ]
    },
    {
     "name": "stdout",
     "output_type": "stream",
     "text": [
      "\n"
     ]
    },
    {
     "name": "stdout",
     "output_type": "stream",
     "text": [
      "\tPRT,  3rd phase (02Jun2020 - 13Jun2020): finished 1772 trials in 1 min  0 sec"
     ]
    },
    {
     "name": "stdout",
     "output_type": "stream",
     "text": [
      "\n"
     ]
    },
    {
     "name": "stdout",
     "output_type": "stream",
     "text": [
      "\tPRT,  4th phase (14Jun2020 - 24Jun2020): finished 1766 trials in 1 min  0 sec"
     ]
    },
    {
     "name": "stdout",
     "output_type": "stream",
     "text": [
      "\n"
     ]
    },
    {
     "name": "stdout",
     "output_type": "stream",
     "text": [
      "\tROU,  4th phase (12Jul2020 - 23Jul2020): finished 1543 trials in 1 min  0 sec"
     ]
    },
    {
     "name": "stdout",
     "output_type": "stream",
     "text": [
      "\n"
     ]
    },
    {
     "name": "stdout",
     "output_type": "stream",
     "text": [
      "\tRUS,  8th phase (18Jul2020 - 31Jul2020): finished 1533 trials in 1 min  0 sec"
     ]
    },
    {
     "name": "stdout",
     "output_type": "stream",
     "text": [
      "\n"
     ]
    },
    {
     "name": "stdout",
     "output_type": "stream",
     "text": [
      "\tGIN,  4th phase (07Jun2020 - 19Jun2020): finished 1558 trials in 1 min  0 sec"
     ]
    },
    {
     "name": "stdout",
     "output_type": "stream",
     "text": [
      "\n"
     ]
    },
    {
     "name": "stdout",
     "output_type": "stream",
     "text": [
      "\tARE,  2nd phase (13May2020 - 20May2020): finished 1603 trials in 1 min  0 sec"
     ]
    },
    {
     "name": "stdout",
     "output_type": "stream",
     "text": [
      "\n"
     ]
    },
    {
     "name": "stdout",
     "output_type": "stream",
     "text": [
      "\tBRA,  0th phase (16Mar2020 - 26May2020): finished 1452 trials in 1 min  0 sec"
     ]
    },
    {
     "name": "stdout",
     "output_type": "stream",
     "text": [
      "\n"
     ]
    },
    {
     "name": "stdout",
     "output_type": "stream",
     "text": [
      "\tKWT,  9th phase (22Aug2020 - 03Sep2020): finished 1530 trials in 1 min  0 sec"
     ]
    },
    {
     "name": "stdout",
     "output_type": "stream",
     "text": [
      "\n"
     ]
    },
    {
     "name": "stdout",
     "output_type": "stream",
     "text": [
      "\tFRA,  7th phase (30Jun2020 - 29Jul2020): finished 1426 trials in 1 min  0 sec"
     ]
    },
    {
     "name": "stdout",
     "output_type": "stream",
     "text": [
      "\n"
     ]
    },
    {
     "name": "stdout",
     "output_type": "stream",
     "text": [
      "\tBRA,  5th phase (21Jul2020 - 28Jul2020): finished 1443 trials in 1 min  0 sec"
     ]
    },
    {
     "name": "stdout",
     "output_type": "stream",
     "text": [
      "\n"
     ]
    },
    {
     "name": "stdout",
     "output_type": "stream",
     "text": [
      "\tGIN,  3rd phase (24May2020 - 06Jun2020): finished 1432 trials in 1 min  0 sec"
     ]
    },
    {
     "name": "stdout",
     "output_type": "stream",
     "text": [
      "\n"
     ]
    },
    {
     "name": "stdout",
     "output_type": "stream",
     "text": [
      "\tBFA,  4th phase (05May2020 - 20May2020): finished 1418 trials in 1 min  0 sec"
     ]
    },
    {
     "name": "stdout",
     "output_type": "stream",
     "text": [
      "\n"
     ]
    },
    {
     "name": "stdout",
     "output_type": "stream",
     "text": [
      "\tKWT,  0th phase (08Mar2020 - 14May2020): finished 1303 trials in 1 min  0 sec"
     ]
    },
    {
     "name": "stdout",
     "output_type": "stream",
     "text": [
      "\n"
     ]
    },
    {
     "name": "stdout",
     "output_type": "stream",
     "text": [
      "\tPRT,  5th phase (25Jun2020 - 06Jul2020): finished 1413 trials in 1 min  0 sec"
     ]
    },
    {
     "name": "stdout",
     "output_type": "stream",
     "text": [
      "\n"
     ]
    },
    {
     "name": "stdout",
     "output_type": "stream",
     "text": [
      "\tIRN,  2nd phase (18Apr2020 - 12May2020): finished  456 trials in 0 min 15 sec"
     ]
    },
    {
     "name": "stdout",
     "output_type": "stream",
     "text": [
      "\n"
     ]
    },
    {
     "name": "stdout",
     "output_type": "stream",
     "text": [
      "\tBRA,  1st phase (27May2020 - 14Jun2020): finished 1631 trials in 1 min  0 sec"
     ]
    },
    {
     "name": "stdout",
     "output_type": "stream",
     "text": [
      "\n"
     ]
    },
    {
     "name": "stdout",
     "output_type": "stream",
     "text": [
      "\tIRN, 10th phase (30Aug2020 - 17Sep2020): finished 1675 trials in 1 min  0 sec"
     ]
    },
    {
     "name": "stdout",
     "output_type": "stream",
     "text": [
      "\n"
     ]
    },
    {
     "name": "stdout",
     "output_type": "stream",
     "text": [
      "\tBFA,  3rd phase (20Apr2020 - 04May2020): finished 1709 trials in 1 min  0 sec"
     ]
    },
    {
     "name": "stdout",
     "output_type": "stream",
     "text": [
      "\n"
     ]
    },
    {
     "name": "stdout",
     "output_type": "stream",
     "text": [
      "\tIRN,  1st phase (30Mar2020 - 17Apr2020): finished 1709 trials in 1 min  0 sec"
     ]
    },
    {
     "name": "stdout",
     "output_type": "stream",
     "text": [
      "\n"
     ]
    },
    {
     "name": "stdout",
     "output_type": "stream",
     "text": [
      "\tBGD,  5th phase (07Jul2020 - 16Jul2020): finished 2018 trials in 1 min  0 sec"
     ]
    },
    {
     "name": "stdout",
     "output_type": "stream",
     "text": [
      "\n"
     ]
    },
    {
     "name": "stdout",
     "output_type": "stream",
     "text": [
      "\tBGD,  8th phase (11Aug2020 - 22Aug2020): finished  472 trials in 0 min 10 sec"
     ]
    },
    {
     "name": "stdout",
     "output_type": "stream",
     "text": [
      "\n"
     ]
    },
    {
     "name": "stdout",
     "output_type": "stream",
     "text": [
      "\tUSA,  0th phase (09Feb2020 - 18Apr2020): finished 1950 trials in 1 min  0 sec"
     ]
    },
    {
     "name": "stdout",
     "output_type": "stream",
     "text": [
      "\n"
     ]
    },
    {
     "name": "stdout",
     "output_type": "stream",
     "text": [
      "Completed optimization. Total: 39 min 55 sec"
     ]
    },
    {
     "name": "stdout",
     "output_type": "stream",
     "text": [
      "\n"
     ]
    }
   ],
   "source": [
    "# Parameter estimation with SIR-F model\n",
    "analyser.estimate(cs.SIRF)"
   ]
  },
  {
   "cell_type": "code",
   "execution_count": 12,
   "metadata": {
    "collapsed": false
   },
   "outputs": [
    {
     "data": {
      "text/html": [
       "<div>\n",
       "<style scoped>\n",
       "    .dataframe tbody tr th:only-of-type {\n",
       "        vertical-align: middle;\n",
       "    }\n",
       "\n",
       "    .dataframe tbody tr th {\n",
       "        vertical-align: top;\n",
       "    }\n",
       "\n",
       "    .dataframe thead th {\n",
       "        text-align: right;\n",
       "    }\n",
       "</style>\n",
       "<table border=\"1\" class=\"dataframe\">\n",
       "  <thead>\n",
       "    <tr style=\"text-align: right;\">\n",
       "      <th></th>\n",
       "      <th></th>\n",
       "      <th>Type</th>\n",
       "      <th>Start</th>\n",
       "      <th>End</th>\n",
       "      <th>Population</th>\n",
       "      <th>ODE</th>\n",
       "      <th>Rt</th>\n",
       "      <th>theta</th>\n",
       "      <th>kappa</th>\n",
       "      <th>rho</th>\n",
       "      <th>sigma</th>\n",
       "      <th>tau</th>\n",
       "      <th>1/gamma [day]</th>\n",
       "      <th>1/beta [day]</th>\n",
       "      <th>1/alpha2 [day]</th>\n",
       "      <th>alpha1 [-]</th>\n",
       "      <th>RMSLE</th>\n",
       "      <th>Trials</th>\n",
       "      <th>Runtime</th>\n",
       "    </tr>\n",
       "    <tr>\n",
       "      <th>Country</th>\n",
       "      <th>Phase</th>\n",
       "      <th></th>\n",
       "      <th></th>\n",
       "      <th></th>\n",
       "      <th></th>\n",
       "      <th></th>\n",
       "      <th></th>\n",
       "      <th></th>\n",
       "      <th></th>\n",
       "      <th></th>\n",
       "      <th></th>\n",
       "      <th></th>\n",
       "      <th></th>\n",
       "      <th></th>\n",
       "      <th></th>\n",
       "      <th></th>\n",
       "      <th></th>\n",
       "      <th></th>\n",
       "      <th></th>\n",
       "    </tr>\n",
       "  </thead>\n",
       "  <tbody>\n",
       "    <tr>\n",
       "      <th rowspan=\"12\" valign=\"top\">Bahrain</th>\n",
       "      <th>0th</th>\n",
       "      <td>Past</td>\n",
       "      <td>06Mar2020</td>\n",
       "      <td>06May2020</td>\n",
       "      <td>1569439</td>\n",
       "      <td>SIR-F</td>\n",
       "      <td>1.68</td>\n",
       "      <td>0.000408827</td>\n",
       "      <td>0.000256613</td>\n",
       "      <td>0.0276043</td>\n",
       "      <td>0.0161614</td>\n",
       "      <td>360</td>\n",
       "      <td>15</td>\n",
       "      <td>9</td>\n",
       "      <td>974</td>\n",
       "      <td>0</td>\n",
       "      <td>1.56863</td>\n",
       "      <td>1344</td>\n",
       "      <td>1 min  0 sec</td>\n",
       "    </tr>\n",
       "    <tr>\n",
       "      <th>1st</th>\n",
       "      <td>Past</td>\n",
       "      <td>07May2020</td>\n",
       "      <td>30May2020</td>\n",
       "      <td>1569439</td>\n",
       "      <td>SIR-F</td>\n",
       "      <td>1.76</td>\n",
       "      <td>0.000678888</td>\n",
       "      <td>2.12576e-05</td>\n",
       "      <td>0.0173861</td>\n",
       "      <td>0.00982564</td>\n",
       "      <td>360</td>\n",
       "      <td>25</td>\n",
       "      <td>14</td>\n",
       "      <td>11760</td>\n",
       "      <td>0.001</td>\n",
       "      <td>0.295006</td>\n",
       "      <td>1686</td>\n",
       "      <td>1 min  0 sec</td>\n",
       "    </tr>\n",
       "    <tr>\n",
       "      <th>2nd</th>\n",
       "      <td>Past</td>\n",
       "      <td>31May2020</td>\n",
       "      <td>10Jun2020</td>\n",
       "      <td>1569439</td>\n",
       "      <td>SIR-F</td>\n",
       "      <td>1.15</td>\n",
       "      <td>0.000936392</td>\n",
       "      <td>3.12649e-05</td>\n",
       "      <td>0.0234214</td>\n",
       "      <td>0.0203051</td>\n",
       "      <td>360</td>\n",
       "      <td>12</td>\n",
       "      <td>10</td>\n",
       "      <td>7996</td>\n",
       "      <td>0.001</td>\n",
       "      <td>0.0622386</td>\n",
       "      <td>1685</td>\n",
       "      <td>1 min  0 sec</td>\n",
       "    </tr>\n",
       "    <tr>\n",
       "      <th>3rd</th>\n",
       "      <td>Past</td>\n",
       "      <td>11Jun2020</td>\n",
       "      <td>20Jun2020</td>\n",
       "      <td>1569439</td>\n",
       "      <td>SIR-F</td>\n",
       "      <td>1.15</td>\n",
       "      <td>0.000633985</td>\n",
       "      <td>0.000116581</td>\n",
       "      <td>0.0238006</td>\n",
       "      <td>0.020497</td>\n",
       "      <td>360</td>\n",
       "      <td>12</td>\n",
       "      <td>10</td>\n",
       "      <td>2144</td>\n",
       "      <td>0.001</td>\n",
       "      <td>0.0285592</td>\n",
       "      <td>850</td>\n",
       "      <td>0 min 25 sec</td>\n",
       "    </tr>\n",
       "    <tr>\n",
       "      <th>4th</th>\n",
       "      <td>Past</td>\n",
       "      <td>21Jun2020</td>\n",
       "      <td>28Jun2020</td>\n",
       "      <td>1569439</td>\n",
       "      <td>SIR-F</td>\n",
       "      <td>1.1</td>\n",
       "      <td>0.00034297</td>\n",
       "      <td>7.91242e-05</td>\n",
       "      <td>0.0295616</td>\n",
       "      <td>0.0268356</td>\n",
       "      <td>360</td>\n",
       "      <td>9</td>\n",
       "      <td>8</td>\n",
       "      <td>3159</td>\n",
       "      <td>0</td>\n",
       "      <td>0.0304475</td>\n",
       "      <td>1340</td>\n",
       "      <td>1 min  0 sec</td>\n",
       "    </tr>\n",
       "    <tr>\n",
       "      <th>5th</th>\n",
       "      <td>Past</td>\n",
       "      <td>29Jun2020</td>\n",
       "      <td>07Jul2020</td>\n",
       "      <td>1569439</td>\n",
       "      <td>SIR-F</td>\n",
       "      <td>0.9</td>\n",
       "      <td>0.000433256</td>\n",
       "      <td>9.80641e-05</td>\n",
       "      <td>0.0273549</td>\n",
       "      <td>0.0301332</td>\n",
       "      <td>360</td>\n",
       "      <td>8</td>\n",
       "      <td>9</td>\n",
       "      <td>2549</td>\n",
       "      <td>0</td>\n",
       "      <td>0.0250595</td>\n",
       "      <td>1422</td>\n",
       "      <td>1 min  0 sec</td>\n",
       "    </tr>\n",
       "    <tr>\n",
       "      <th>6th</th>\n",
       "      <td>Past</td>\n",
       "      <td>08Jul2020</td>\n",
       "      <td>15Jul2020</td>\n",
       "      <td>1569439</td>\n",
       "      <td>SIR-F</td>\n",
       "      <td>0.85</td>\n",
       "      <td>0.000896115</td>\n",
       "      <td>7.94089e-05</td>\n",
       "      <td>0.0293127</td>\n",
       "      <td>0.0343311</td>\n",
       "      <td>360</td>\n",
       "      <td>7</td>\n",
       "      <td>8</td>\n",
       "      <td>3148</td>\n",
       "      <td>0.001</td>\n",
       "      <td>0.0222654</td>\n",
       "      <td>1388</td>\n",
       "      <td>1 min  0 sec</td>\n",
       "    </tr>\n",
       "    <tr>\n",
       "      <th>7th</th>\n",
       "      <td>Past</td>\n",
       "      <td>16Jul2020</td>\n",
       "      <td>27Jul2020</td>\n",
       "      <td>1569439</td>\n",
       "      <td>SIR-F</td>\n",
       "      <td>0.9</td>\n",
       "      <td>0.000549683</td>\n",
       "      <td>0.000109479</td>\n",
       "      <td>0.02934</td>\n",
       "      <td>0.0323954</td>\n",
       "      <td>360</td>\n",
       "      <td>7</td>\n",
       "      <td>8</td>\n",
       "      <td>2283</td>\n",
       "      <td>0.001</td>\n",
       "      <td>0.0372247</td>\n",
       "      <td>252</td>\n",
       "      <td>0 min  5 sec</td>\n",
       "    </tr>\n",
       "    <tr>\n",
       "      <th>8th</th>\n",
       "      <td>Past</td>\n",
       "      <td>28Jul2020</td>\n",
       "      <td>10Aug2020</td>\n",
       "      <td>1569439</td>\n",
       "      <td>SIR-F</td>\n",
       "      <td>0.97</td>\n",
       "      <td>6.6235e-05</td>\n",
       "      <td>0.000151902</td>\n",
       "      <td>0.0307438</td>\n",
       "      <td>0.0316437</td>\n",
       "      <td>360</td>\n",
       "      <td>7</td>\n",
       "      <td>8</td>\n",
       "      <td>1645</td>\n",
       "      <td>0</td>\n",
       "      <td>0.0702558</td>\n",
       "      <td>345</td>\n",
       "      <td>0 min 10 sec</td>\n",
       "    </tr>\n",
       "    <tr>\n",
       "      <th>9th</th>\n",
       "      <td>Past</td>\n",
       "      <td>11Aug2020</td>\n",
       "      <td>24Aug2020</td>\n",
       "      <td>1569439</td>\n",
       "      <td>SIR-F</td>\n",
       "      <td>1.09</td>\n",
       "      <td>0.0010353</td>\n",
       "      <td>7.92993e-05</td>\n",
       "      <td>0.029191</td>\n",
       "      <td>0.0265808</td>\n",
       "      <td>360</td>\n",
       "      <td>9</td>\n",
       "      <td>8</td>\n",
       "      <td>3152</td>\n",
       "      <td>0.001</td>\n",
       "      <td>0.0462569</td>\n",
       "      <td>1516</td>\n",
       "      <td>1 min  0 sec</td>\n",
       "    </tr>\n",
       "    <tr>\n",
       "      <th>10th</th>\n",
       "      <td>Past</td>\n",
       "      <td>25Aug2020</td>\n",
       "      <td>06Sep2020</td>\n",
       "      <td>1569439</td>\n",
       "      <td>SIR-F</td>\n",
       "      <td>1.03</td>\n",
       "      <td>0.000157838</td>\n",
       "      <td>5.9678e-05</td>\n",
       "      <td>0.0304015</td>\n",
       "      <td>0.0294563</td>\n",
       "      <td>360</td>\n",
       "      <td>8</td>\n",
       "      <td>8</td>\n",
       "      <td>4189</td>\n",
       "      <td>0</td>\n",
       "      <td>0.101721</td>\n",
       "      <td>1430</td>\n",
       "      <td>1 min  0 sec</td>\n",
       "    </tr>\n",
       "    <tr>\n",
       "      <th>11th</th>\n",
       "      <td>Past</td>\n",
       "      <td>07Sep2020</td>\n",
       "      <td>17Sep2020</td>\n",
       "      <td>1569439</td>\n",
       "      <td>SIR-F</td>\n",
       "      <td>1.72</td>\n",
       "      <td>0.000251134</td>\n",
       "      <td>7.58421e-05</td>\n",
       "      <td>0.0314862</td>\n",
       "      <td>0.0181963</td>\n",
       "      <td>360</td>\n",
       "      <td>13</td>\n",
       "      <td>7</td>\n",
       "      <td>3296</td>\n",
       "      <td>0</td>\n",
       "      <td>0.0354451</td>\n",
       "      <td>1230</td>\n",
       "      <td>1 min  0 sec</td>\n",
       "    </tr>\n",
       "    <tr>\n",
       "      <th rowspan=\"12\" valign=\"top\">Russia</th>\n",
       "      <th>0th</th>\n",
       "      <td>Past</td>\n",
       "      <td>12Feb2020</td>\n",
       "      <td>06May2020</td>\n",
       "      <td>330457362</td>\n",
       "      <td>SIR-F</td>\n",
       "      <td>0.02</td>\n",
       "      <td>0.602763</td>\n",
       "      <td>0.544883</td>\n",
       "      <td>0.0340813</td>\n",
       "      <td>0.00229851</td>\n",
       "      <td>360</td>\n",
       "      <td>108</td>\n",
       "      <td>7</td>\n",
       "      <td>0</td>\n",
       "      <td>0.603</td>\n",
       "      <td>18.9667</td>\n",
       "      <td>1655</td>\n",
       "      <td>1 min  0 sec</td>\n",
       "    </tr>\n",
       "    <tr>\n",
       "      <th>1st</th>\n",
       "      <td>Past</td>\n",
       "      <td>07May2020</td>\n",
       "      <td>17May2020</td>\n",
       "      <td>330457362</td>\n",
       "      <td>SIR-F</td>\n",
       "      <td>2.71</td>\n",
       "      <td>0.00180556</td>\n",
       "      <td>9.34529e-05</td>\n",
       "      <td>0.0131219</td>\n",
       "      <td>0.00473774</td>\n",
       "      <td>360</td>\n",
       "      <td>52</td>\n",
       "      <td>19</td>\n",
       "      <td>2675</td>\n",
       "      <td>0.002</td>\n",
       "      <td>0.0789776</td>\n",
       "      <td>1386</td>\n",
       "      <td>1 min  0 sec</td>\n",
       "    </tr>\n",
       "    <tr>\n",
       "      <th>2nd</th>\n",
       "      <td>Past</td>\n",
       "      <td>18May2020</td>\n",
       "      <td>27May2020</td>\n",
       "      <td>330457362</td>\n",
       "      <td>SIR-F</td>\n",
       "      <td>1.08</td>\n",
       "      <td>0.00066754</td>\n",
       "      <td>0.000111693</td>\n",
       "      <td>0.0067876</td>\n",
       "      <td>0.00616523</td>\n",
       "      <td>360</td>\n",
       "      <td>40</td>\n",
       "      <td>36</td>\n",
       "      <td>2238</td>\n",
       "      <td>0.001</td>\n",
       "      <td>0.0959827</td>\n",
       "      <td>1440</td>\n",
       "      <td>1 min  0 sec</td>\n",
       "    </tr>\n",
       "    <tr>\n",
       "      <th>3rd</th>\n",
       "      <td>Past</td>\n",
       "      <td>28May2020</td>\n",
       "      <td>05Jun2020</td>\n",
       "      <td>330457362</td>\n",
       "      <td>SIR-F</td>\n",
       "      <td>1.1</td>\n",
       "      <td>0.000596242</td>\n",
       "      <td>0.000113634</td>\n",
       "      <td>0.0051706</td>\n",
       "      <td>0.00457356</td>\n",
       "      <td>360</td>\n",
       "      <td>54</td>\n",
       "      <td>48</td>\n",
       "      <td>2200</td>\n",
       "      <td>0.001</td>\n",
       "      <td>0.0627844</td>\n",
       "      <td>1427</td>\n",
       "      <td>1 min  0 sec</td>\n",
       "    </tr>\n",
       "    <tr>\n",
       "      <th>4th</th>\n",
       "      <td>Past</td>\n",
       "      <td>06Jun2020</td>\n",
       "      <td>13Jun2020</td>\n",
       "      <td>330457362</td>\n",
       "      <td>SIR-F</td>\n",
       "      <td>1.05</td>\n",
       "      <td>0.000827413</td>\n",
       "      <td>8.45167e-05</td>\n",
       "      <td>0.00442345</td>\n",
       "      <td>0.0041098</td>\n",
       "      <td>360</td>\n",
       "      <td>60</td>\n",
       "      <td>56</td>\n",
       "      <td>2957</td>\n",
       "      <td>0.001</td>\n",
       "      <td>0.0451797</td>\n",
       "      <td>1344</td>\n",
       "      <td>1 min  0 sec</td>\n",
       "    </tr>\n",
       "    <tr>\n",
       "      <th>5th</th>\n",
       "      <td>Past</td>\n",
       "      <td>14Jun2020</td>\n",
       "      <td>23Jun2020</td>\n",
       "      <td>330457362</td>\n",
       "      <td>SIR-F</td>\n",
       "      <td>0.82</td>\n",
       "      <td>0.000348462</td>\n",
       "      <td>7.90578e-05</td>\n",
       "      <td>0.00346657</td>\n",
       "      <td>0.0041384</td>\n",
       "      <td>360</td>\n",
       "      <td>60</td>\n",
       "      <td>72</td>\n",
       "      <td>3162</td>\n",
       "      <td>0</td>\n",
       "      <td>0.0638472</td>\n",
       "      <td>1888</td>\n",
       "      <td>1 min  0 sec</td>\n",
       "    </tr>\n",
       "    <tr>\n",
       "      <th>6th</th>\n",
       "      <td>Past</td>\n",
       "      <td>24Jun2020</td>\n",
       "      <td>05Jul2020</td>\n",
       "      <td>330457362</td>\n",
       "      <td>SIR-F</td>\n",
       "      <td>0.77</td>\n",
       "      <td>0.0048605</td>\n",
       "      <td>4.57342e-05</td>\n",
       "      <td>0.00256363</td>\n",
       "      <td>0.00328876</td>\n",
       "      <td>360</td>\n",
       "      <td>76</td>\n",
       "      <td>97</td>\n",
       "      <td>5466</td>\n",
       "      <td>0.005</td>\n",
       "      <td>0.0679173</td>\n",
       "      <td>1292</td>\n",
       "      <td>1 min  0 sec</td>\n",
       "    </tr>\n",
       "    <tr>\n",
       "      <th>7th</th>\n",
       "      <td>Past</td>\n",
       "      <td>06Jul2020</td>\n",
       "      <td>17Jul2020</td>\n",
       "      <td>330457362</td>\n",
       "      <td>SIR-F</td>\n",
       "      <td>0.73</td>\n",
       "      <td>0.0235908</td>\n",
       "      <td>1.03671e-05</td>\n",
       "      <td>0.00226026</td>\n",
       "      <td>0.00301415</td>\n",
       "      <td>360</td>\n",
       "      <td>82</td>\n",
       "      <td>110</td>\n",
       "      <td>24114</td>\n",
       "      <td>0.024</td>\n",
       "      <td>0.0608681</td>\n",
       "      <td>1365</td>\n",
       "      <td>1 min  0 sec</td>\n",
       "    </tr>\n",
       "    <tr>\n",
       "      <th>8th</th>\n",
       "      <td>Past</td>\n",
       "      <td>18Jul2020</td>\n",
       "      <td>31Jul2020</td>\n",
       "      <td>330457362</td>\n",
       "      <td>SIR-F</td>\n",
       "      <td>0.76</td>\n",
       "      <td>3.08038e-05</td>\n",
       "      <td>4.07714e-05</td>\n",
       "      <td>0.00183396</td>\n",
       "      <td>0.00237691</td>\n",
       "      <td>360</td>\n",
       "      <td>105</td>\n",
       "      <td>136</td>\n",
       "      <td>6131</td>\n",
       "      <td>0</td>\n",
       "      <td>0.060525</td>\n",
       "      <td>1533</td>\n",
       "      <td>1 min  0 sec</td>\n",
       "    </tr>\n",
       "    <tr>\n",
       "      <th>9th</th>\n",
       "      <td>Past</td>\n",
       "      <td>01Aug2020</td>\n",
       "      <td>14Aug2020</td>\n",
       "      <td>330457362</td>\n",
       "      <td>SIR-F</td>\n",
       "      <td>0.76</td>\n",
       "      <td>0.00141602</td>\n",
       "      <td>3.12519e-05</td>\n",
       "      <td>0.00146767</td>\n",
       "      <td>0.00188923</td>\n",
       "      <td>360</td>\n",
       "      <td>132</td>\n",
       "      <td>170</td>\n",
       "      <td>7999</td>\n",
       "      <td>0.001</td>\n",
       "      <td>0.0489869</td>\n",
       "      <td>1668</td>\n",
       "      <td>1 min  0 sec</td>\n",
       "    </tr>\n",
       "    <tr>\n",
       "      <th>10th</th>\n",
       "      <td>Past</td>\n",
       "      <td>15Aug2020</td>\n",
       "      <td>30Aug2020</td>\n",
       "      <td>330457362</td>\n",
       "      <td>SIR-F</td>\n",
       "      <td>0.74</td>\n",
       "      <td>0.0228389</td>\n",
       "      <td>9.97297e-06</td>\n",
       "      <td>0.00126218</td>\n",
       "      <td>0.00164938</td>\n",
       "      <td>360</td>\n",
       "      <td>151</td>\n",
       "      <td>198</td>\n",
       "      <td>25067</td>\n",
       "      <td>0.023</td>\n",
       "      <td>0.0390731</td>\n",
       "      <td>1684</td>\n",
       "      <td>1 min  0 sec</td>\n",
       "    </tr>\n",
       "    <tr>\n",
       "      <th>11th</th>\n",
       "      <td>Past</td>\n",
       "      <td>31Aug2020</td>\n",
       "      <td>17Sep2020</td>\n",
       "      <td>330457362</td>\n",
       "      <td>SIR-F</td>\n",
       "      <td>0.88</td>\n",
       "      <td>0.0483283</td>\n",
       "      <td>1.88817e-06</td>\n",
       "      <td>0.00140861</td>\n",
       "      <td>0.0015212</td>\n",
       "      <td>360</td>\n",
       "      <td>164</td>\n",
       "      <td>177</td>\n",
       "      <td>132403</td>\n",
       "      <td>0.048</td>\n",
       "      <td>0.0740695</td>\n",
       "      <td>1214</td>\n",
       "      <td>1 min  0 sec</td>\n",
       "    </tr>\n",
       "    <tr>\n",
       "      <th rowspan=\"12\" valign=\"top\">United Arab Emirates</th>\n",
       "      <th>0th</th>\n",
       "      <td>Past</td>\n",
       "      <td>12Feb2020</td>\n",
       "      <td>25Apr2020</td>\n",
       "      <td>9630959</td>\n",
       "      <td>SIR-F</td>\n",
       "      <td>6.78</td>\n",
       "      <td>1.02076e-05</td>\n",
       "      <td>0.000217712</td>\n",
       "      <td>0.0256206</td>\n",
       "      <td>0.00356279</td>\n",
       "      <td>360</td>\n",
       "      <td>70</td>\n",
       "      <td>9</td>\n",
       "      <td>1148</td>\n",
       "      <td>0</td>\n",
       "      <td>1.82925</td>\n",
       "      <td>1920</td>\n",
       "      <td>1 min  0 sec</td>\n",
       "    </tr>\n",
       "    <tr>\n",
       "      <th>1st</th>\n",
       "      <td>Past</td>\n",
       "      <td>26Apr2020</td>\n",
       "      <td>12May2020</td>\n",
       "      <td>9630959</td>\n",
       "      <td>SIR-F</td>\n",
       "      <td>3.27</td>\n",
       "      <td>0.00111625</td>\n",
       "      <td>0.000161783</td>\n",
       "      <td>0.0138195</td>\n",
       "      <td>0.00406553</td>\n",
       "      <td>360</td>\n",
       "      <td>61</td>\n",
       "      <td>18</td>\n",
       "      <td>1545</td>\n",
       "      <td>0.001</td>\n",
       "      <td>0.0929266</td>\n",
       "      <td>1355</td>\n",
       "      <td>1 min  0 sec</td>\n",
       "    </tr>\n",
       "    <tr>\n",
       "      <th>2nd</th>\n",
       "      <td>Past</td>\n",
       "      <td>13May2020</td>\n",
       "      <td>20May2020</td>\n",
       "      <td>9630959</td>\n",
       "      <td>SIR-F</td>\n",
       "      <td>1.29</td>\n",
       "      <td>0.000158845</td>\n",
       "      <td>5.96006e-05</td>\n",
       "      <td>0.0134786</td>\n",
       "      <td>0.0104185</td>\n",
       "      <td>360</td>\n",
       "      <td>23</td>\n",
       "      <td>18</td>\n",
       "      <td>4194</td>\n",
       "      <td>0</td>\n",
       "      <td>0.0367868</td>\n",
       "      <td>1603</td>\n",
       "      <td>1 min  0 sec</td>\n",
       "    </tr>\n",
       "    <tr>\n",
       "      <th>3rd</th>\n",
       "      <td>Past</td>\n",
       "      <td>21May2020</td>\n",
       "      <td>06Jun2020</td>\n",
       "      <td>9630959</td>\n",
       "      <td>SIR-F</td>\n",
       "      <td>1.47</td>\n",
       "      <td>0.000943161</td>\n",
       "      <td>3.12753e-05</td>\n",
       "      <td>0.0117856</td>\n",
       "      <td>0.00799002</td>\n",
       "      <td>360</td>\n",
       "      <td>31</td>\n",
       "      <td>21</td>\n",
       "      <td>7993</td>\n",
       "      <td>0.001</td>\n",
       "      <td>0.0389754</td>\n",
       "      <td>1428</td>\n",
       "      <td>1 min  0 sec</td>\n",
       "    </tr>\n",
       "    <tr>\n",
       "      <th>4th</th>\n",
       "      <td>Past</td>\n",
       "      <td>07Jun2020</td>\n",
       "      <td>19Jun2020</td>\n",
       "      <td>9630959</td>\n",
       "      <td>-</td>\n",
       "      <td>-</td>\n",
       "      <td>-</td>\n",
       "      <td>-</td>\n",
       "      <td>-</td>\n",
       "      <td>-</td>\n",
       "      <td>-</td>\n",
       "      <td>-</td>\n",
       "      <td>-</td>\n",
       "      <td>-</td>\n",
       "      <td>-</td>\n",
       "      <td>-</td>\n",
       "      <td>-</td>\n",
       "      <td>-</td>\n",
       "    </tr>\n",
       "    <tr>\n",
       "      <th>5th</th>\n",
       "      <td>Past</td>\n",
       "      <td>20Jun2020</td>\n",
       "      <td>01Jul2020</td>\n",
       "      <td>9630959</td>\n",
       "      <td>SIR-F</td>\n",
       "      <td>0.67</td>\n",
       "      <td>0.00124423</td>\n",
       "      <td>2.49591e-05</td>\n",
       "      <td>0.00940956</td>\n",
       "      <td>0.0140251</td>\n",
       "      <td>360</td>\n",
       "      <td>17</td>\n",
       "      <td>26</td>\n",
       "      <td>10016</td>\n",
       "      <td>0.001</td>\n",
       "      <td>0.0200244</td>\n",
       "      <td>701</td>\n",
       "      <td>0 min 20 sec</td>\n",
       "    </tr>\n",
       "    <tr>\n",
       "      <th>6th</th>\n",
       "      <td>Past</td>\n",
       "      <td>02Jul2020</td>\n",
       "      <td>11Jul2020</td>\n",
       "      <td>9630959</td>\n",
       "      <td>SIR-F</td>\n",
       "      <td>0.9</td>\n",
       "      <td>0.000661366</td>\n",
       "      <td>3.69021e-05</td>\n",
       "      <td>0.0148219</td>\n",
       "      <td>0.0164648</td>\n",
       "      <td>360</td>\n",
       "      <td>15</td>\n",
       "      <td>16</td>\n",
       "      <td>6774</td>\n",
       "      <td>0.001</td>\n",
       "      <td>0.0292412</td>\n",
       "      <td>1690</td>\n",
       "      <td>1 min  0 sec</td>\n",
       "    </tr>\n",
       "    <tr>\n",
       "      <th>7th</th>\n",
       "      <td>Past</td>\n",
       "      <td>12Jul2020</td>\n",
       "      <td>26Jul2020</td>\n",
       "      <td>9630959</td>\n",
       "      <td>SIR-F</td>\n",
       "      <td>0.61</td>\n",
       "      <td>0.00124234</td>\n",
       "      <td>2.49715e-05</td>\n",
       "      <td>0.00968983</td>\n",
       "      <td>0.0157762</td>\n",
       "      <td>360</td>\n",
       "      <td>15</td>\n",
       "      <td>25</td>\n",
       "      <td>10011</td>\n",
       "      <td>0.001</td>\n",
       "      <td>0.0426452</td>\n",
       "      <td>840</td>\n",
       "      <td>0 min 20 sec</td>\n",
       "    </tr>\n",
       "    <tr>\n",
       "      <th>8th</th>\n",
       "      <td>Past</td>\n",
       "      <td>27Jul2020</td>\n",
       "      <td>15Aug2020</td>\n",
       "      <td>9630959</td>\n",
       "      <td>SIR-F</td>\n",
       "      <td>0.9</td>\n",
       "      <td>0.000659568</td>\n",
       "      <td>3.69124e-05</td>\n",
       "      <td>0.0112654</td>\n",
       "      <td>0.0125178</td>\n",
       "      <td>360</td>\n",
       "      <td>19</td>\n",
       "      <td>22</td>\n",
       "      <td>6772</td>\n",
       "      <td>0.001</td>\n",
       "      <td>0.0332171</td>\n",
       "      <td>465</td>\n",
       "      <td>0 min 10 sec</td>\n",
       "    </tr>\n",
       "    <tr>\n",
       "      <th>9th</th>\n",
       "      <td>Past</td>\n",
       "      <td>16Aug2020</td>\n",
       "      <td>31Aug2020</td>\n",
       "      <td>9630959</td>\n",
       "      <td>SIR-F</td>\n",
       "      <td>1.91</td>\n",
       "      <td>0.00126186</td>\n",
       "      <td>1.43762e-06</td>\n",
       "      <td>0.0134576</td>\n",
       "      <td>0.00702763</td>\n",
       "      <td>360</td>\n",
       "      <td>35</td>\n",
       "      <td>18</td>\n",
       "      <td>173898</td>\n",
       "      <td>0.001</td>\n",
       "      <td>0.0471375</td>\n",
       "      <td>1385</td>\n",
       "      <td>1 min  0 sec</td>\n",
       "    </tr>\n",
       "    <tr>\n",
       "      <th>10th</th>\n",
       "      <td>Past</td>\n",
       "      <td>01Sep2020</td>\n",
       "      <td>08Sep2020</td>\n",
       "      <td>9630959</td>\n",
       "      <td>-</td>\n",
       "      <td>-</td>\n",
       "      <td>-</td>\n",
       "      <td>-</td>\n",
       "      <td>-</td>\n",
       "      <td>-</td>\n",
       "      <td>-</td>\n",
       "      <td>-</td>\n",
       "      <td>-</td>\n",
       "      <td>-</td>\n",
       "      <td>-</td>\n",
       "      <td>-</td>\n",
       "      <td>-</td>\n",
       "      <td>-</td>\n",
       "    </tr>\n",
       "    <tr>\n",
       "      <th>11th</th>\n",
       "      <td>Past</td>\n",
       "      <td>09Sep2020</td>\n",
       "      <td>17Sep2020</td>\n",
       "      <td>9630959</td>\n",
       "      <td>-</td>\n",
       "      <td>-</td>\n",
       "      <td>-</td>\n",
       "      <td>-</td>\n",
       "      <td>-</td>\n",
       "      <td>-</td>\n",
       "      <td>-</td>\n",
       "      <td>-</td>\n",
       "      <td>-</td>\n",
       "      <td>-</td>\n",
       "      <td>-</td>\n",
       "      <td>-</td>\n",
       "      <td>-</td>\n",
       "      <td>-</td>\n",
       "    </tr>\n",
       "  </tbody>\n",
       "</table>\n",
       "</div>"
      ],
      "text/plain": [
       "                            Type      Start        End  Population    ODE  \\\n",
       "Country              Phase                                                  \n",
       "Bahrain              0th    Past  06Mar2020  06May2020     1569439  SIR-F   \n",
       "                     1st    Past  07May2020  30May2020     1569439  SIR-F   \n",
       "                     2nd    Past  31May2020  10Jun2020     1569439  SIR-F   \n",
       "                     3rd    Past  11Jun2020  20Jun2020     1569439  SIR-F   \n",
       "                     4th    Past  21Jun2020  28Jun2020     1569439  SIR-F   \n",
       "                     5th    Past  29Jun2020  07Jul2020     1569439  SIR-F   \n",
       "                     6th    Past  08Jul2020  15Jul2020     1569439  SIR-F   \n",
       "                     7th    Past  16Jul2020  27Jul2020     1569439  SIR-F   \n",
       "                     8th    Past  28Jul2020  10Aug2020     1569439  SIR-F   \n",
       "                     9th    Past  11Aug2020  24Aug2020     1569439  SIR-F   \n",
       "                     10th   Past  25Aug2020  06Sep2020     1569439  SIR-F   \n",
       "                     11th   Past  07Sep2020  17Sep2020     1569439  SIR-F   \n",
       "Russia               0th    Past  12Feb2020  06May2020   330457362  SIR-F   \n",
       "                     1st    Past  07May2020  17May2020   330457362  SIR-F   \n",
       "                     2nd    Past  18May2020  27May2020   330457362  SIR-F   \n",
       "                     3rd    Past  28May2020  05Jun2020   330457362  SIR-F   \n",
       "                     4th    Past  06Jun2020  13Jun2020   330457362  SIR-F   \n",
       "                     5th    Past  14Jun2020  23Jun2020   330457362  SIR-F   \n",
       "                     6th    Past  24Jun2020  05Jul2020   330457362  SIR-F   \n",
       "                     7th    Past  06Jul2020  17Jul2020   330457362  SIR-F   \n",
       "                     8th    Past  18Jul2020  31Jul2020   330457362  SIR-F   \n",
       "                     9th    Past  01Aug2020  14Aug2020   330457362  SIR-F   \n",
       "                     10th   Past  15Aug2020  30Aug2020   330457362  SIR-F   \n",
       "                     11th   Past  31Aug2020  17Sep2020   330457362  SIR-F   \n",
       "United Arab Emirates 0th    Past  12Feb2020  25Apr2020     9630959  SIR-F   \n",
       "                     1st    Past  26Apr2020  12May2020     9630959  SIR-F   \n",
       "                     2nd    Past  13May2020  20May2020     9630959  SIR-F   \n",
       "                     3rd    Past  21May2020  06Jun2020     9630959  SIR-F   \n",
       "                     4th    Past  07Jun2020  19Jun2020     9630959      -   \n",
       "                     5th    Past  20Jun2020  01Jul2020     9630959  SIR-F   \n",
       "                     6th    Past  02Jul2020  11Jul2020     9630959  SIR-F   \n",
       "                     7th    Past  12Jul2020  26Jul2020     9630959  SIR-F   \n",
       "                     8th    Past  27Jul2020  15Aug2020     9630959  SIR-F   \n",
       "                     9th    Past  16Aug2020  31Aug2020     9630959  SIR-F   \n",
       "                     10th   Past  01Sep2020  08Sep2020     9630959      -   \n",
       "                     11th   Past  09Sep2020  17Sep2020     9630959      -   \n",
       "\n",
       "                              Rt        theta        kappa         rho  \\\n",
       "Country              Phase                                               \n",
       "Bahrain              0th    1.68  0.000408827  0.000256613   0.0276043   \n",
       "                     1st    1.76  0.000678888  2.12576e-05   0.0173861   \n",
       "                     2nd    1.15  0.000936392  3.12649e-05   0.0234214   \n",
       "                     3rd    1.15  0.000633985  0.000116581   0.0238006   \n",
       "                     4th     1.1   0.00034297  7.91242e-05   0.0295616   \n",
       "                     5th     0.9  0.000433256  9.80641e-05   0.0273549   \n",
       "                     6th    0.85  0.000896115  7.94089e-05   0.0293127   \n",
       "                     7th     0.9  0.000549683  0.000109479     0.02934   \n",
       "                     8th    0.97   6.6235e-05  0.000151902   0.0307438   \n",
       "                     9th    1.09    0.0010353  7.92993e-05    0.029191   \n",
       "                     10th   1.03  0.000157838   5.9678e-05   0.0304015   \n",
       "                     11th   1.72  0.000251134  7.58421e-05   0.0314862   \n",
       "Russia               0th    0.02     0.602763     0.544883   0.0340813   \n",
       "                     1st    2.71   0.00180556  9.34529e-05   0.0131219   \n",
       "                     2nd    1.08   0.00066754  0.000111693   0.0067876   \n",
       "                     3rd     1.1  0.000596242  0.000113634   0.0051706   \n",
       "                     4th    1.05  0.000827413  8.45167e-05  0.00442345   \n",
       "                     5th    0.82  0.000348462  7.90578e-05  0.00346657   \n",
       "                     6th    0.77    0.0048605  4.57342e-05  0.00256363   \n",
       "                     7th    0.73    0.0235908  1.03671e-05  0.00226026   \n",
       "                     8th    0.76  3.08038e-05  4.07714e-05  0.00183396   \n",
       "                     9th    0.76   0.00141602  3.12519e-05  0.00146767   \n",
       "                     10th   0.74    0.0228389  9.97297e-06  0.00126218   \n",
       "                     11th   0.88    0.0483283  1.88817e-06  0.00140861   \n",
       "United Arab Emirates 0th    6.78  1.02076e-05  0.000217712   0.0256206   \n",
       "                     1st    3.27   0.00111625  0.000161783   0.0138195   \n",
       "                     2nd    1.29  0.000158845  5.96006e-05   0.0134786   \n",
       "                     3rd    1.47  0.000943161  3.12753e-05   0.0117856   \n",
       "                     4th       -            -            -           -   \n",
       "                     5th    0.67   0.00124423  2.49591e-05  0.00940956   \n",
       "                     6th     0.9  0.000661366  3.69021e-05   0.0148219   \n",
       "                     7th    0.61   0.00124234  2.49715e-05  0.00968983   \n",
       "                     8th     0.9  0.000659568  3.69124e-05   0.0112654   \n",
       "                     9th    1.91   0.00126186  1.43762e-06   0.0134576   \n",
       "                     10th      -            -            -           -   \n",
       "                     11th      -            -            -           -   \n",
       "\n",
       "                                 sigma  tau 1/gamma [day] 1/beta [day]  \\\n",
       "Country              Phase                                               \n",
       "Bahrain              0th     0.0161614  360            15            9   \n",
       "                     1st    0.00982564  360            25           14   \n",
       "                     2nd     0.0203051  360            12           10   \n",
       "                     3rd      0.020497  360            12           10   \n",
       "                     4th     0.0268356  360             9            8   \n",
       "                     5th     0.0301332  360             8            9   \n",
       "                     6th     0.0343311  360             7            8   \n",
       "                     7th     0.0323954  360             7            8   \n",
       "                     8th     0.0316437  360             7            8   \n",
       "                     9th     0.0265808  360             9            8   \n",
       "                     10th    0.0294563  360             8            8   \n",
       "                     11th    0.0181963  360            13            7   \n",
       "Russia               0th    0.00229851  360           108            7   \n",
       "                     1st    0.00473774  360            52           19   \n",
       "                     2nd    0.00616523  360            40           36   \n",
       "                     3rd    0.00457356  360            54           48   \n",
       "                     4th     0.0041098  360            60           56   \n",
       "                     5th     0.0041384  360            60           72   \n",
       "                     6th    0.00328876  360            76           97   \n",
       "                     7th    0.00301415  360            82          110   \n",
       "                     8th    0.00237691  360           105          136   \n",
       "                     9th    0.00188923  360           132          170   \n",
       "                     10th   0.00164938  360           151          198   \n",
       "                     11th    0.0015212  360           164          177   \n",
       "United Arab Emirates 0th    0.00356279  360            70            9   \n",
       "                     1st    0.00406553  360            61           18   \n",
       "                     2nd     0.0104185  360            23           18   \n",
       "                     3rd    0.00799002  360            31           21   \n",
       "                     4th             -    -             -            -   \n",
       "                     5th     0.0140251  360            17           26   \n",
       "                     6th     0.0164648  360            15           16   \n",
       "                     7th     0.0157762  360            15           25   \n",
       "                     8th     0.0125178  360            19           22   \n",
       "                     9th    0.00702763  360            35           18   \n",
       "                     10th            -    -             -            -   \n",
       "                     11th            -    -             -            -   \n",
       "\n",
       "                           1/alpha2 [day] alpha1 [-]      RMSLE Trials  \\\n",
       "Country              Phase                                               \n",
       "Bahrain              0th              974          0    1.56863   1344   \n",
       "                     1st            11760      0.001   0.295006   1686   \n",
       "                     2nd             7996      0.001  0.0622386   1685   \n",
       "                     3rd             2144      0.001  0.0285592    850   \n",
       "                     4th             3159          0  0.0304475   1340   \n",
       "                     5th             2549          0  0.0250595   1422   \n",
       "                     6th             3148      0.001  0.0222654   1388   \n",
       "                     7th             2283      0.001  0.0372247    252   \n",
       "                     8th             1645          0  0.0702558    345   \n",
       "                     9th             3152      0.001  0.0462569   1516   \n",
       "                     10th            4189          0   0.101721   1430   \n",
       "                     11th            3296          0  0.0354451   1230   \n",
       "Russia               0th                0      0.603    18.9667   1655   \n",
       "                     1st             2675      0.002  0.0789776   1386   \n",
       "                     2nd             2238      0.001  0.0959827   1440   \n",
       "                     3rd             2200      0.001  0.0627844   1427   \n",
       "                     4th             2957      0.001  0.0451797   1344   \n",
       "                     5th             3162          0  0.0638472   1888   \n",
       "                     6th             5466      0.005  0.0679173   1292   \n",
       "                     7th            24114      0.024  0.0608681   1365   \n",
       "                     8th             6131          0   0.060525   1533   \n",
       "                     9th             7999      0.001  0.0489869   1668   \n",
       "                     10th           25067      0.023  0.0390731   1684   \n",
       "                     11th          132403      0.048  0.0740695   1214   \n",
       "United Arab Emirates 0th             1148          0    1.82925   1920   \n",
       "                     1st             1545      0.001  0.0929266   1355   \n",
       "                     2nd             4194          0  0.0367868   1603   \n",
       "                     3rd             7993      0.001  0.0389754   1428   \n",
       "                     4th                -          -          -      -   \n",
       "                     5th            10016      0.001  0.0200244    701   \n",
       "                     6th             6774      0.001  0.0292412   1690   \n",
       "                     7th            10011      0.001  0.0426452    840   \n",
       "                     8th             6772      0.001  0.0332171    465   \n",
       "                     9th           173898      0.001  0.0471375   1385   \n",
       "                     10th               -          -          -      -   \n",
       "                     11th               -          -          -      -   \n",
       "\n",
       "                                 Runtime  \n",
       "Country              Phase                \n",
       "Bahrain              0th    1 min  0 sec  \n",
       "                     1st    1 min  0 sec  \n",
       "                     2nd    1 min  0 sec  \n",
       "                     3rd    0 min 25 sec  \n",
       "                     4th    1 min  0 sec  \n",
       "                     5th    1 min  0 sec  \n",
       "                     6th    1 min  0 sec  \n",
       "                     7th    0 min  5 sec  \n",
       "                     8th    0 min 10 sec  \n",
       "                     9th    1 min  0 sec  \n",
       "                     10th   1 min  0 sec  \n",
       "                     11th   1 min  0 sec  \n",
       "Russia               0th    1 min  0 sec  \n",
       "                     1st    1 min  0 sec  \n",
       "                     2nd    1 min  0 sec  \n",
       "                     3rd    1 min  0 sec  \n",
       "                     4th    1 min  0 sec  \n",
       "                     5th    1 min  0 sec  \n",
       "                     6th    1 min  0 sec  \n",
       "                     7th    1 min  0 sec  \n",
       "                     8th    1 min  0 sec  \n",
       "                     9th    1 min  0 sec  \n",
       "                     10th   1 min  0 sec  \n",
       "                     11th   1 min  0 sec  \n",
       "United Arab Emirates 0th    1 min  0 sec  \n",
       "                     1st    1 min  0 sec  \n",
       "                     2nd    1 min  0 sec  \n",
       "                     3rd    1 min  0 sec  \n",
       "                     4th               -  \n",
       "                     5th    0 min 20 sec  \n",
       "                     6th    1 min  0 sec  \n",
       "                     7th    0 min 20 sec  \n",
       "                     8th    0 min 10 sec  \n",
       "                     9th    1 min  0 sec  \n",
       "                     10th              -  \n",
       "                     11th              -  "
      ]
     },
     "execution_count": 12,
     "metadata": {},
     "output_type": "execute_result"
    }
   ],
   "source": [
    "# Show summary\n",
    "analyser.summary(countries=countries_show)"
   ]
  },
  {
   "cell_type": "markdown",
   "metadata": {},
   "source": [
    "## Compare the history of parameters\n",
    "Here, compare the history of parameter values if countries."
   ]
  },
  {
   "cell_type": "code",
   "execution_count": 13,
   "metadata": {
    "collapsed": false
   },
   "outputs": [
    {
     "data": {
      "text/html": [
       "<div>\n",
       "<style scoped>\n",
       "    .dataframe tbody tr th:only-of-type {\n",
       "        vertical-align: middle;\n",
       "    }\n",
       "\n",
       "    .dataframe tbody tr th {\n",
       "        vertical-align: top;\n",
       "    }\n",
       "\n",
       "    .dataframe thead th {\n",
       "        text-align: right;\n",
       "    }\n",
       "</style>\n",
       "<table border=\"1\" class=\"dataframe\">\n",
       "  <thead>\n",
       "    <tr style=\"text-align: right;\">\n",
       "      <th></th>\n",
       "      <th>Date</th>\n",
       "      <th>Country</th>\n",
       "      <th>theta</th>\n",
       "      <th>kappa</th>\n",
       "      <th>rho</th>\n",
       "      <th>sigma</th>\n",
       "      <th>alpha1 [-]</th>\n",
       "      <th>1/alpha2 [day]</th>\n",
       "      <th>1/beta [day]</th>\n",
       "      <th>1/gamma [day]</th>\n",
       "      <th>...</th>\n",
       "      <th>Cancel_events</th>\n",
       "      <th>Gatherings_restrictions</th>\n",
       "      <th>Transport_closing</th>\n",
       "      <th>Stay_home_restrictions</th>\n",
       "      <th>Internal_movement_restrictions</th>\n",
       "      <th>International_movement_restrictions</th>\n",
       "      <th>Information_campaigns</th>\n",
       "      <th>Testing_policy</th>\n",
       "      <th>Contact_tracing</th>\n",
       "      <th>Stringency_index</th>\n",
       "    </tr>\n",
       "  </thead>\n",
       "  <tbody>\n",
       "    <tr>\n",
       "      <th>0</th>\n",
       "      <td>2020-04-03</td>\n",
       "      <td>Guinea</td>\n",
       "      <td>0.00125219</td>\n",
       "      <td>4.57536e-05</td>\n",
       "      <td>0.0309716</td>\n",
       "      <td>0.00524323</td>\n",
       "      <td>0.001</td>\n",
       "      <td>5464</td>\n",
       "      <td>8</td>\n",
       "      <td>47</td>\n",
       "      <td>...</td>\n",
       "      <td>2</td>\n",
       "      <td>3</td>\n",
       "      <td>1</td>\n",
       "      <td>2</td>\n",
       "      <td>2</td>\n",
       "      <td>4</td>\n",
       "      <td>2</td>\n",
       "      <td>2</td>\n",
       "      <td>1</td>\n",
       "      <td>78.7</td>\n",
       "    </tr>\n",
       "    <tr>\n",
       "      <th>1</th>\n",
       "      <td>2020-04-04</td>\n",
       "      <td>Guinea</td>\n",
       "      <td>0.00125219</td>\n",
       "      <td>4.57536e-05</td>\n",
       "      <td>0.0309716</td>\n",
       "      <td>0.00524323</td>\n",
       "      <td>0.001</td>\n",
       "      <td>5464</td>\n",
       "      <td>8</td>\n",
       "      <td>47</td>\n",
       "      <td>...</td>\n",
       "      <td>2</td>\n",
       "      <td>3</td>\n",
       "      <td>1</td>\n",
       "      <td>2</td>\n",
       "      <td>2</td>\n",
       "      <td>4</td>\n",
       "      <td>2</td>\n",
       "      <td>2</td>\n",
       "      <td>1</td>\n",
       "      <td>78.7</td>\n",
       "    </tr>\n",
       "    <tr>\n",
       "      <th>2</th>\n",
       "      <td>2020-04-05</td>\n",
       "      <td>Guinea</td>\n",
       "      <td>0.00125219</td>\n",
       "      <td>4.57536e-05</td>\n",
       "      <td>0.0309716</td>\n",
       "      <td>0.00524323</td>\n",
       "      <td>0.001</td>\n",
       "      <td>5464</td>\n",
       "      <td>8</td>\n",
       "      <td>47</td>\n",
       "      <td>...</td>\n",
       "      <td>2</td>\n",
       "      <td>3</td>\n",
       "      <td>1</td>\n",
       "      <td>2</td>\n",
       "      <td>2</td>\n",
       "      <td>4</td>\n",
       "      <td>2</td>\n",
       "      <td>2</td>\n",
       "      <td>1</td>\n",
       "      <td>78.7</td>\n",
       "    </tr>\n",
       "    <tr>\n",
       "      <th>3</th>\n",
       "      <td>2020-04-06</td>\n",
       "      <td>Guinea</td>\n",
       "      <td>0.00125219</td>\n",
       "      <td>4.57536e-05</td>\n",
       "      <td>0.0309716</td>\n",
       "      <td>0.00524323</td>\n",
       "      <td>0.001</td>\n",
       "      <td>5464</td>\n",
       "      <td>8</td>\n",
       "      <td>47</td>\n",
       "      <td>...</td>\n",
       "      <td>2</td>\n",
       "      <td>3</td>\n",
       "      <td>1</td>\n",
       "      <td>2</td>\n",
       "      <td>2</td>\n",
       "      <td>4</td>\n",
       "      <td>2</td>\n",
       "      <td>2</td>\n",
       "      <td>1</td>\n",
       "      <td>78.7</td>\n",
       "    </tr>\n",
       "    <tr>\n",
       "      <th>4</th>\n",
       "      <td>2020-04-07</td>\n",
       "      <td>Guinea</td>\n",
       "      <td>0.00125219</td>\n",
       "      <td>4.57536e-05</td>\n",
       "      <td>0.0309716</td>\n",
       "      <td>0.00524323</td>\n",
       "      <td>0.001</td>\n",
       "      <td>5464</td>\n",
       "      <td>8</td>\n",
       "      <td>47</td>\n",
       "      <td>...</td>\n",
       "      <td>2</td>\n",
       "      <td>3</td>\n",
       "      <td>1</td>\n",
       "      <td>2</td>\n",
       "      <td>2</td>\n",
       "      <td>4</td>\n",
       "      <td>2</td>\n",
       "      <td>2</td>\n",
       "      <td>1</td>\n",
       "      <td>78.7</td>\n",
       "    </tr>\n",
       "  </tbody>\n",
       "</table>\n",
       "<p>5 rows × 23 columns</p>\n",
       "</div>"
      ],
      "text/plain": [
       "        Date Country       theta        kappa        rho       sigma  \\\n",
       "0 2020-04-03  Guinea  0.00125219  4.57536e-05  0.0309716  0.00524323   \n",
       "1 2020-04-04  Guinea  0.00125219  4.57536e-05  0.0309716  0.00524323   \n",
       "2 2020-04-05  Guinea  0.00125219  4.57536e-05  0.0309716  0.00524323   \n",
       "3 2020-04-06  Guinea  0.00125219  4.57536e-05  0.0309716  0.00524323   \n",
       "4 2020-04-07  Guinea  0.00125219  4.57536e-05  0.0309716  0.00524323   \n",
       "\n",
       "  alpha1 [-] 1/alpha2 [day] 1/beta [day] 1/gamma [day]  ... Cancel_events  \\\n",
       "0      0.001           5464            8            47  ...             2   \n",
       "1      0.001           5464            8            47  ...             2   \n",
       "2      0.001           5464            8            47  ...             2   \n",
       "3      0.001           5464            8            47  ...             2   \n",
       "4      0.001           5464            8            47  ...             2   \n",
       "\n",
       "   Gatherings_restrictions  Transport_closing  Stay_home_restrictions  \\\n",
       "0                        3                  1                       2   \n",
       "1                        3                  1                       2   \n",
       "2                        3                  1                       2   \n",
       "3                        3                  1                       2   \n",
       "4                        3                  1                       2   \n",
       "\n",
       "   Internal_movement_restrictions  International_movement_restrictions  \\\n",
       "0                               2                                    4   \n",
       "1                               2                                    4   \n",
       "2                               2                                    4   \n",
       "3                               2                                    4   \n",
       "4                               2                                    4   \n",
       "\n",
       "   Information_campaigns  Testing_policy  Contact_tracing  Stringency_index  \n",
       "0                      2               2                1              78.7  \n",
       "1                      2               2                1              78.7  \n",
       "2                      2               2                1              78.7  \n",
       "3                      2               2                1              78.7  \n",
       "4                      2               2                1              78.7  \n",
       "\n",
       "[5 rows x 23 columns]"
      ]
     },
     "execution_count": 13,
     "metadata": {},
     "output_type": "execute_result"
    }
   ],
   "source": [
    "# All parameter/day parameter/Rt/OxCGRT\n",
    "analyser.track().head()"
   ]
  },
  {
   "cell_type": "markdown",
   "metadata": {},
   "source": [
    "### $Rt$: Reprodcution number $\\mathrm{[-]}$"
   ]
  },
  {
   "cell_type": "code",
   "execution_count": 14,
   "metadata": {
    "collapsed": false
   },
   "outputs": [
    {
     "data": {
      "image/png": "[encoded data removed]",
      "text/plain": [
       "<Figure size 648x432 with 1 Axes>"
      ]
     },
     "metadata": {},
     "output_type": "display_data"
    },
    {
     "data": {
      "text/html": [
       "<div>\n",
       "<style scoped>\n",
       "    .dataframe tbody tr th:only-of-type {\n",
       "        vertical-align: middle;\n",
       "    }\n",
       "\n",
       "    .dataframe tbody tr th {\n",
       "        vertical-align: top;\n",
       "    }\n",
       "\n",
       "    .dataframe thead th {\n",
       "        text-align: right;\n",
       "    }\n",
       "</style>\n",
       "<table border=\"1\" class=\"dataframe\">\n",
       "  <thead>\n",
       "    <tr style=\"text-align: right;\">\n",
       "      <th>Country</th>\n",
       "      <th>Bahrain</th>\n",
       "      <th>Bangladesh</th>\n",
       "      <th>Brazil</th>\n",
       "      <th>Burkina Faso</th>\n",
       "      <th>France</th>\n",
       "      <th>Guinea</th>\n",
       "      <th>Iran</th>\n",
       "      <th>Italy</th>\n",
       "      <th>Kuwait</th>\n",
       "      <th>Peru</th>\n",
       "      <th>Portugal</th>\n",
       "      <th>Romania</th>\n",
       "      <th>Russia</th>\n",
       "      <th>Switzerland</th>\n",
       "      <th>Turkey</th>\n",
       "      <th>United Arab Emirates</th>\n",
       "      <th>United States</th>\n",
       "    </tr>\n",
       "    <tr>\n",
       "      <th>Date</th>\n",
       "      <th></th>\n",
       "      <th></th>\n",
       "      <th></th>\n",
       "      <th></th>\n",
       "      <th></th>\n",
       "      <th></th>\n",
       "      <th></th>\n",
       "      <th></th>\n",
       "      <th></th>\n",
       "      <th></th>\n",
       "      <th></th>\n",
       "      <th></th>\n",
       "      <th></th>\n",
       "      <th></th>\n",
       "      <th></th>\n",
       "      <th></th>\n",
       "      <th></th>\n",
       "    </tr>\n",
       "  </thead>\n",
       "  <tbody>\n",
       "    <tr>\n",
       "      <th>2020-09-13</th>\n",
       "      <td>1.72</td>\n",
       "      <td>0.68</td>\n",
       "      <td>0.9</td>\n",
       "      <td>6.29</td>\n",
       "      <td>21.94</td>\n",
       "      <td>0.73</td>\n",
       "      <td>1.08</td>\n",
       "      <td>3.31</td>\n",
       "      <td>1.2</td>\n",
       "      <td>0.8</td>\n",
       "      <td>2.29</td>\n",
       "      <td>7.63</td>\n",
       "      <td>0.88</td>\n",
       "      <td>3.5</td>\n",
       "      <td>1.48</td>\n",
       "      <td>1.91</td>\n",
       "      <td>2.18</td>\n",
       "    </tr>\n",
       "    <tr>\n",
       "      <th>2020-09-14</th>\n",
       "      <td>1.72</td>\n",
       "      <td>0.68</td>\n",
       "      <td>0.9</td>\n",
       "      <td>6.29</td>\n",
       "      <td>21.94</td>\n",
       "      <td>0.73</td>\n",
       "      <td>1.08</td>\n",
       "      <td>3.31</td>\n",
       "      <td>1.2</td>\n",
       "      <td>0.8</td>\n",
       "      <td>2.29</td>\n",
       "      <td>7.63</td>\n",
       "      <td>0.88</td>\n",
       "      <td>3.5</td>\n",
       "      <td>1.48</td>\n",
       "      <td>1.91</td>\n",
       "      <td>2.18</td>\n",
       "    </tr>\n",
       "    <tr>\n",
       "      <th>2020-09-15</th>\n",
       "      <td>1.72</td>\n",
       "      <td>0.68</td>\n",
       "      <td>0.9</td>\n",
       "      <td>6.29</td>\n",
       "      <td>21.94</td>\n",
       "      <td>0.73</td>\n",
       "      <td>1.08</td>\n",
       "      <td>3.31</td>\n",
       "      <td>1.2</td>\n",
       "      <td>0.8</td>\n",
       "      <td>2.29</td>\n",
       "      <td>7.63</td>\n",
       "      <td>0.88</td>\n",
       "      <td>3.5</td>\n",
       "      <td>1.48</td>\n",
       "      <td>1.91</td>\n",
       "      <td>2.18</td>\n",
       "    </tr>\n",
       "    <tr>\n",
       "      <th>2020-09-16</th>\n",
       "      <td>1.72</td>\n",
       "      <td>0.68</td>\n",
       "      <td>0.9</td>\n",
       "      <td>6.29</td>\n",
       "      <td>21.94</td>\n",
       "      <td>0.73</td>\n",
       "      <td>1.08</td>\n",
       "      <td>3.31</td>\n",
       "      <td>1.2</td>\n",
       "      <td>0.8</td>\n",
       "      <td>2.29</td>\n",
       "      <td>7.63</td>\n",
       "      <td>0.88</td>\n",
       "      <td>3.5</td>\n",
       "      <td>1.48</td>\n",
       "      <td>1.91</td>\n",
       "      <td>2.18</td>\n",
       "    </tr>\n",
       "    <tr>\n",
       "      <th>2020-09-17</th>\n",
       "      <td>1.72</td>\n",
       "      <td>0.68</td>\n",
       "      <td>0.9</td>\n",
       "      <td>6.29</td>\n",
       "      <td>21.94</td>\n",
       "      <td>0.73</td>\n",
       "      <td>1.08</td>\n",
       "      <td>3.31</td>\n",
       "      <td>1.2</td>\n",
       "      <td>0.8</td>\n",
       "      <td>2.29</td>\n",
       "      <td>7.63</td>\n",
       "      <td>0.88</td>\n",
       "      <td>3.5</td>\n",
       "      <td>1.48</td>\n",
       "      <td>1.91</td>\n",
       "      <td>2.18</td>\n",
       "    </tr>\n",
       "  </tbody>\n",
       "</table>\n",
       "</div>"
      ],
      "text/plain": [
       "Country     Bahrain  Bangladesh  Brazil  Burkina Faso  France  Guinea  Iran  \\\n",
       "Date                                                                          \n",
       "2020-09-13     1.72        0.68     0.9          6.29   21.94    0.73  1.08   \n",
       "2020-09-14     1.72        0.68     0.9          6.29   21.94    0.73  1.08   \n",
       "2020-09-15     1.72        0.68     0.9          6.29   21.94    0.73  1.08   \n",
       "2020-09-16     1.72        0.68     0.9          6.29   21.94    0.73  1.08   \n",
       "2020-09-17     1.72        0.68     0.9          6.29   21.94    0.73  1.08   \n",
       "\n",
       "Country     Italy  Kuwait  Peru  Portugal  Romania  Russia  Switzerland  \\\n",
       "Date                                                                      \n",
       "2020-09-13   3.31     1.2   0.8      2.29     7.63    0.88          3.5   \n",
       "2020-09-14   3.31     1.2   0.8      2.29     7.63    0.88          3.5   \n",
       "2020-09-15   3.31     1.2   0.8      2.29     7.63    0.88          3.5   \n",
       "2020-09-16   3.31     1.2   0.8      2.29     7.63    0.88          3.5   \n",
       "2020-09-17   3.31     1.2   0.8      2.29     7.63    0.88          3.5   \n",
       "\n",
       "Country     Turkey  United Arab Emirates  United States  \n",
       "Date                                                     \n",
       "2020-09-13    1.48                  1.91           2.18  \n",
       "2020-09-14    1.48                  1.91           2.18  \n",
       "2020-09-15    1.48                  1.91           2.18  \n",
       "2020-09-16    1.48                  1.91           2.18  \n",
       "2020-09-17    1.48                  1.91           2.18  "
      ]
     },
     "execution_count": 14,
     "metadata": {},
     "output_type": "execute_result"
    }
   ],
   "source": [
    "analyser.param_history(\"Rt\", roll_window=None).tail()"
   ]
  },
  {
   "cell_type": "markdown",
   "metadata": {},
   "source": [
    "### $\\rho$: Effective contact rate $\\mathrm{[-]}$"
   ]
  },
  {
   "cell_type": "code",
   "execution_count": 15,
   "metadata": {
    "collapsed": false
   },
   "outputs": [
    {
     "data": {
      "image/png": "[encoded data removed]",
      "text/plain": [
       "<Figure size 648x432 with 1 Axes>"
      ]
     },
     "metadata": {},
     "output_type": "display_data"
    },
    {
     "data": {
      "text/html": [
       "<div>\n",
       "<style scoped>\n",
       "    .dataframe tbody tr th:only-of-type {\n",
       "        vertical-align: middle;\n",
       "    }\n",
       "\n",
       "    .dataframe tbody tr th {\n",
       "        vertical-align: top;\n",
       "    }\n",
       "\n",
       "    .dataframe thead th {\n",
       "        text-align: right;\n",
       "    }\n",
       "</style>\n",
       "<table border=\"1\" class=\"dataframe\">\n",
       "  <thead>\n",
       "    <tr style=\"text-align: right;\">\n",
       "      <th>Country</th>\n",
       "      <th>Bahrain</th>\n",
       "      <th>Bangladesh</th>\n",
       "      <th>Brazil</th>\n",
       "      <th>Burkina Faso</th>\n",
       "      <th>France</th>\n",
       "      <th>Guinea</th>\n",
       "      <th>Iran</th>\n",
       "      <th>Italy</th>\n",
       "      <th>Kuwait</th>\n",
       "      <th>Peru</th>\n",
       "      <th>Portugal</th>\n",
       "      <th>Romania</th>\n",
       "      <th>Russia</th>\n",
       "      <th>Switzerland</th>\n",
       "      <th>Turkey</th>\n",
       "      <th>United Arab Emirates</th>\n",
       "      <th>United States</th>\n",
       "    </tr>\n",
       "    <tr>\n",
       "      <th>Date</th>\n",
       "      <th></th>\n",
       "      <th></th>\n",
       "      <th></th>\n",
       "      <th></th>\n",
       "      <th></th>\n",
       "      <th></th>\n",
       "      <th></th>\n",
       "      <th></th>\n",
       "      <th></th>\n",
       "      <th></th>\n",
       "      <th></th>\n",
       "      <th></th>\n",
       "      <th></th>\n",
       "      <th></th>\n",
       "      <th></th>\n",
       "      <th></th>\n",
       "      <th></th>\n",
       "    </tr>\n",
       "  </thead>\n",
       "  <tbody>\n",
       "    <tr>\n",
       "      <th>2020-09-13</th>\n",
       "      <td>0.031486</td>\n",
       "      <td>0.005361</td>\n",
       "      <td>0.017745</td>\n",
       "      <td>0.008222</td>\n",
       "      <td>0.009056</td>\n",
       "      <td>0.018645</td>\n",
       "      <td>0.016566</td>\n",
       "      <td>0.011382</td>\n",
       "      <td>0.021667</td>\n",
       "      <td>0.002124</td>\n",
       "      <td>0.001721</td>\n",
       "      <td>0.005303</td>\n",
       "      <td>0.001409</td>\n",
       "      <td>0.002668</td>\n",
       "      <td>0.021793</td>\n",
       "      <td>0.013458</td>\n",
       "      <td>0.003221</td>\n",
       "    </tr>\n",
       "    <tr>\n",
       "      <th>2020-09-14</th>\n",
       "      <td>0.031486</td>\n",
       "      <td>0.005361</td>\n",
       "      <td>0.017745</td>\n",
       "      <td>0.008222</td>\n",
       "      <td>0.009056</td>\n",
       "      <td>0.018645</td>\n",
       "      <td>0.016566</td>\n",
       "      <td>0.011382</td>\n",
       "      <td>0.021667</td>\n",
       "      <td>0.002124</td>\n",
       "      <td>0.001721</td>\n",
       "      <td>0.005303</td>\n",
       "      <td>0.001409</td>\n",
       "      <td>0.002668</td>\n",
       "      <td>0.021793</td>\n",
       "      <td>0.013458</td>\n",
       "      <td>0.003221</td>\n",
       "    </tr>\n",
       "    <tr>\n",
       "      <th>2020-09-15</th>\n",
       "      <td>0.031486</td>\n",
       "      <td>0.005361</td>\n",
       "      <td>0.017745</td>\n",
       "      <td>0.008222</td>\n",
       "      <td>0.009056</td>\n",
       "      <td>0.018645</td>\n",
       "      <td>0.016566</td>\n",
       "      <td>0.011382</td>\n",
       "      <td>0.021667</td>\n",
       "      <td>0.002124</td>\n",
       "      <td>0.001721</td>\n",
       "      <td>0.005303</td>\n",
       "      <td>0.001409</td>\n",
       "      <td>0.002668</td>\n",
       "      <td>0.021793</td>\n",
       "      <td>0.013458</td>\n",
       "      <td>0.003221</td>\n",
       "    </tr>\n",
       "    <tr>\n",
       "      <th>2020-09-16</th>\n",
       "      <td>0.031486</td>\n",
       "      <td>0.005361</td>\n",
       "      <td>0.017745</td>\n",
       "      <td>0.008222</td>\n",
       "      <td>0.009056</td>\n",
       "      <td>0.018645</td>\n",
       "      <td>0.016566</td>\n",
       "      <td>0.011382</td>\n",
       "      <td>0.021667</td>\n",
       "      <td>0.002124</td>\n",
       "      <td>0.001721</td>\n",
       "      <td>0.005303</td>\n",
       "      <td>0.001409</td>\n",
       "      <td>0.002668</td>\n",
       "      <td>0.021793</td>\n",
       "      <td>0.013458</td>\n",
       "      <td>0.003221</td>\n",
       "    </tr>\n",
       "    <tr>\n",
       "      <th>2020-09-17</th>\n",
       "      <td>0.031486</td>\n",
       "      <td>0.005361</td>\n",
       "      <td>0.017745</td>\n",
       "      <td>0.008222</td>\n",
       "      <td>0.009056</td>\n",
       "      <td>0.018645</td>\n",
       "      <td>0.016566</td>\n",
       "      <td>0.011382</td>\n",
       "      <td>0.021667</td>\n",
       "      <td>0.002124</td>\n",
       "      <td>0.001721</td>\n",
       "      <td>0.005303</td>\n",
       "      <td>0.001409</td>\n",
       "      <td>0.002668</td>\n",
       "      <td>0.021793</td>\n",
       "      <td>0.013458</td>\n",
       "      <td>0.003221</td>\n",
       "    </tr>\n",
       "  </tbody>\n",
       "</table>\n",
       "</div>"
      ],
      "text/plain": [
       "Country      Bahrain  Bangladesh    Brazil  Burkina Faso    France    Guinea  \\\n",
       "Date                                                                           \n",
       "2020-09-13  0.031486    0.005361  0.017745      0.008222  0.009056  0.018645   \n",
       "2020-09-14  0.031486    0.005361  0.017745      0.008222  0.009056  0.018645   \n",
       "2020-09-15  0.031486    0.005361  0.017745      0.008222  0.009056  0.018645   \n",
       "2020-09-16  0.031486    0.005361  0.017745      0.008222  0.009056  0.018645   \n",
       "2020-09-17  0.031486    0.005361  0.017745      0.008222  0.009056  0.018645   \n",
       "\n",
       "Country         Iran     Italy    Kuwait      Peru  Portugal   Romania  \\\n",
       "Date                                                                     \n",
       "2020-09-13  0.016566  0.011382  0.021667  0.002124  0.001721  0.005303   \n",
       "2020-09-14  0.016566  0.011382  0.021667  0.002124  0.001721  0.005303   \n",
       "2020-09-15  0.016566  0.011382  0.021667  0.002124  0.001721  0.005303   \n",
       "2020-09-16  0.016566  0.011382  0.021667  0.002124  0.001721  0.005303   \n",
       "2020-09-17  0.016566  0.011382  0.021667  0.002124  0.001721  0.005303   \n",
       "\n",
       "Country       Russia  Switzerland    Turkey  United Arab Emirates  \\\n",
       "Date                                                                \n",
       "2020-09-13  0.001409     0.002668  0.021793              0.013458   \n",
       "2020-09-14  0.001409     0.002668  0.021793              0.013458   \n",
       "2020-09-15  0.001409     0.002668  0.021793              0.013458   \n",
       "2020-09-16  0.001409     0.002668  0.021793              0.013458   \n",
       "2020-09-17  0.001409     0.002668  0.021793              0.013458   \n",
       "\n",
       "Country     United States  \n",
       "Date                       \n",
       "2020-09-13       0.003221  \n",
       "2020-09-14       0.003221  \n",
       "2020-09-15       0.003221  \n",
       "2020-09-16       0.003221  \n",
       "2020-09-17       0.003221  "
      ]
     },
     "execution_count": 15,
     "metadata": {},
     "output_type": "execute_result"
    }
   ],
   "source": [
    "analyser.param_history(\"rho\", roll_window=None).tail()"
   ]
  },
  {
   "cell_type": "markdown",
   "metadata": {},
   "source": [
    "### $\\sigma$: Recovery rate $\\mathrm{[-]}$"
   ]
  },
  {
   "cell_type": "code",
   "execution_count": 16,
   "metadata": {
    "collapsed": false
   },
   "outputs": [
    {
     "data": {
      "image/png": "[encoded data removed]",
      "text/plain": [
       "<Figure size 648x432 with 1 Axes>"
      ]
     },
     "metadata": {},
     "output_type": "display_data"
    },
    {
     "data": {
      "text/html": [
       "<div>\n",
       "<style scoped>\n",
       "    .dataframe tbody tr th:only-of-type {\n",
       "        vertical-align: middle;\n",
       "    }\n",
       "\n",
       "    .dataframe tbody tr th {\n",
       "        vertical-align: top;\n",
       "    }\n",
       "\n",
       "    .dataframe thead th {\n",
       "        text-align: right;\n",
       "    }\n",
       "</style>\n",
       "<table border=\"1\" class=\"dataframe\">\n",
       "  <thead>\n",
       "    <tr style=\"text-align: right;\">\n",
       "      <th>Country</th>\n",
       "      <th>Bahrain</th>\n",
       "      <th>Bangladesh</th>\n",
       "      <th>Brazil</th>\n",
       "      <th>Burkina Faso</th>\n",
       "      <th>France</th>\n",
       "      <th>Guinea</th>\n",
       "      <th>Iran</th>\n",
       "      <th>Italy</th>\n",
       "      <th>Kuwait</th>\n",
       "      <th>Peru</th>\n",
       "      <th>Portugal</th>\n",
       "      <th>Romania</th>\n",
       "      <th>Russia</th>\n",
       "      <th>Switzerland</th>\n",
       "      <th>Turkey</th>\n",
       "      <th>United Arab Emirates</th>\n",
       "      <th>United States</th>\n",
       "    </tr>\n",
       "    <tr>\n",
       "      <th>Date</th>\n",
       "      <th></th>\n",
       "      <th></th>\n",
       "      <th></th>\n",
       "      <th></th>\n",
       "      <th></th>\n",
       "      <th></th>\n",
       "      <th></th>\n",
       "      <th></th>\n",
       "      <th></th>\n",
       "      <th></th>\n",
       "      <th></th>\n",
       "      <th></th>\n",
       "      <th></th>\n",
       "      <th></th>\n",
       "      <th></th>\n",
       "      <th></th>\n",
       "      <th></th>\n",
       "    </tr>\n",
       "  </thead>\n",
       "  <tbody>\n",
       "    <tr>\n",
       "      <th>2020-09-13</th>\n",
       "      <td>0.018196</td>\n",
       "      <td>0.007761</td>\n",
       "      <td>0.01924</td>\n",
       "      <td>0.001274</td>\n",
       "      <td>0.000326</td>\n",
       "      <td>0.025453</td>\n",
       "      <td>0.014455</td>\n",
       "      <td>0.003361</td>\n",
       "      <td>0.017931</td>\n",
       "      <td>0.002609</td>\n",
       "      <td>0.000726</td>\n",
       "      <td>0.000612</td>\n",
       "      <td>0.001521</td>\n",
       "      <td>0.00076</td>\n",
       "      <td>0.01435</td>\n",
       "      <td>0.007028</td>\n",
       "      <td>0.001405</td>\n",
       "    </tr>\n",
       "    <tr>\n",
       "      <th>2020-09-14</th>\n",
       "      <td>0.018196</td>\n",
       "      <td>0.007761</td>\n",
       "      <td>0.01924</td>\n",
       "      <td>0.001274</td>\n",
       "      <td>0.000326</td>\n",
       "      <td>0.025453</td>\n",
       "      <td>0.014455</td>\n",
       "      <td>0.003361</td>\n",
       "      <td>0.017931</td>\n",
       "      <td>0.002609</td>\n",
       "      <td>0.000726</td>\n",
       "      <td>0.000612</td>\n",
       "      <td>0.001521</td>\n",
       "      <td>0.00076</td>\n",
       "      <td>0.01435</td>\n",
       "      <td>0.007028</td>\n",
       "      <td>0.001405</td>\n",
       "    </tr>\n",
       "    <tr>\n",
       "      <th>2020-09-15</th>\n",
       "      <td>0.018196</td>\n",
       "      <td>0.007761</td>\n",
       "      <td>0.01924</td>\n",
       "      <td>0.001274</td>\n",
       "      <td>0.000326</td>\n",
       "      <td>0.025453</td>\n",
       "      <td>0.014455</td>\n",
       "      <td>0.003361</td>\n",
       "      <td>0.017931</td>\n",
       "      <td>0.002609</td>\n",
       "      <td>0.000726</td>\n",
       "      <td>0.000612</td>\n",
       "      <td>0.001521</td>\n",
       "      <td>0.00076</td>\n",
       "      <td>0.01435</td>\n",
       "      <td>0.007028</td>\n",
       "      <td>0.001405</td>\n",
       "    </tr>\n",
       "    <tr>\n",
       "      <th>2020-09-16</th>\n",
       "      <td>0.018196</td>\n",
       "      <td>0.007761</td>\n",
       "      <td>0.01924</td>\n",
       "      <td>0.001274</td>\n",
       "      <td>0.000326</td>\n",
       "      <td>0.025453</td>\n",
       "      <td>0.014455</td>\n",
       "      <td>0.003361</td>\n",
       "      <td>0.017931</td>\n",
       "      <td>0.002609</td>\n",
       "      <td>0.000726</td>\n",
       "      <td>0.000612</td>\n",
       "      <td>0.001521</td>\n",
       "      <td>0.00076</td>\n",
       "      <td>0.01435</td>\n",
       "      <td>0.007028</td>\n",
       "      <td>0.001405</td>\n",
       "    </tr>\n",
       "    <tr>\n",
       "      <th>2020-09-17</th>\n",
       "      <td>0.018196</td>\n",
       "      <td>0.007761</td>\n",
       "      <td>0.01924</td>\n",
       "      <td>0.001274</td>\n",
       "      <td>0.000326</td>\n",
       "      <td>0.025453</td>\n",
       "      <td>0.014455</td>\n",
       "      <td>0.003361</td>\n",
       "      <td>0.017931</td>\n",
       "      <td>0.002609</td>\n",
       "      <td>0.000726</td>\n",
       "      <td>0.000612</td>\n",
       "      <td>0.001521</td>\n",
       "      <td>0.00076</td>\n",
       "      <td>0.01435</td>\n",
       "      <td>0.007028</td>\n",
       "      <td>0.001405</td>\n",
       "    </tr>\n",
       "  </tbody>\n",
       "</table>\n",
       "</div>"
      ],
      "text/plain": [
       "Country      Bahrain  Bangladesh   Brazil  Burkina Faso    France    Guinea  \\\n",
       "Date                                                                          \n",
       "2020-09-13  0.018196    0.007761  0.01924      0.001274  0.000326  0.025453   \n",
       "2020-09-14  0.018196    0.007761  0.01924      0.001274  0.000326  0.025453   \n",
       "2020-09-15  0.018196    0.007761  0.01924      0.001274  0.000326  0.025453   \n",
       "2020-09-16  0.018196    0.007761  0.01924      0.001274  0.000326  0.025453   \n",
       "2020-09-17  0.018196    0.007761  0.01924      0.001274  0.000326  0.025453   \n",
       "\n",
       "Country         Iran     Italy    Kuwait      Peru  Portugal   Romania  \\\n",
       "Date                                                                     \n",
       "2020-09-13  0.014455  0.003361  0.017931  0.002609  0.000726  0.000612   \n",
       "2020-09-14  0.014455  0.003361  0.017931  0.002609  0.000726  0.000612   \n",
       "2020-09-15  0.014455  0.003361  0.017931  0.002609  0.000726  0.000612   \n",
       "2020-09-16  0.014455  0.003361  0.017931  0.002609  0.000726  0.000612   \n",
       "2020-09-17  0.014455  0.003361  0.017931  0.002609  0.000726  0.000612   \n",
       "\n",
       "Country       Russia  Switzerland   Turkey  United Arab Emirates  \\\n",
       "Date                                                               \n",
       "2020-09-13  0.001521      0.00076  0.01435              0.007028   \n",
       "2020-09-14  0.001521      0.00076  0.01435              0.007028   \n",
       "2020-09-15  0.001521      0.00076  0.01435              0.007028   \n",
       "2020-09-16  0.001521      0.00076  0.01435              0.007028   \n",
       "2020-09-17  0.001521      0.00076  0.01435              0.007028   \n",
       "\n",
       "Country     United States  \n",
       "Date                       \n",
       "2020-09-13       0.001405  \n",
       "2020-09-14       0.001405  \n",
       "2020-09-15       0.001405  \n",
       "2020-09-16       0.001405  \n",
       "2020-09-17       0.001405  "
      ]
     },
     "execution_count": 16,
     "metadata": {},
     "output_type": "execute_result"
    }
   ],
   "source": [
    "analyser.param_history(\"sigma\", roll_window=None).tail()"
   ]
  },
  {
   "cell_type": "markdown",
   "metadata": {},
   "source": [
    "### $\\kappa$: Mortality rate of infected cases $\\mathrm{[-]}$"
   ]
  },
  {
   "cell_type": "code",
   "execution_count": 17,
   "metadata": {
    "collapsed": false
   },
   "outputs": [
    {
     "data": {
      "image/png": "[encoded data removed]",
      "text/plain": [
       "<Figure size 648x432 with 1 Axes>"
      ]
     },
     "metadata": {},
     "output_type": "display_data"
    },
    {
     "data": {
      "text/html": [
       "<div>\n",
       "<style scoped>\n",
       "    .dataframe tbody tr th:only-of-type {\n",
       "        vertical-align: middle;\n",
       "    }\n",
       "\n",
       "    .dataframe tbody tr th {\n",
       "        vertical-align: top;\n",
       "    }\n",
       "\n",
       "    .dataframe thead th {\n",
       "        text-align: right;\n",
       "    }\n",
       "</style>\n",
       "<table border=\"1\" class=\"dataframe\">\n",
       "  <thead>\n",
       "    <tr style=\"text-align: right;\">\n",
       "      <th>Country</th>\n",
       "      <th>Bahrain</th>\n",
       "      <th>Bangladesh</th>\n",
       "      <th>Brazil</th>\n",
       "      <th>Burkina Faso</th>\n",
       "      <th>France</th>\n",
       "      <th>Guinea</th>\n",
       "      <th>Iran</th>\n",
       "      <th>Italy</th>\n",
       "      <th>Kuwait</th>\n",
       "      <th>Peru</th>\n",
       "      <th>Portugal</th>\n",
       "      <th>Romania</th>\n",
       "      <th>Russia</th>\n",
       "      <th>Switzerland</th>\n",
       "      <th>Turkey</th>\n",
       "      <th>United Arab Emirates</th>\n",
       "      <th>United States</th>\n",
       "    </tr>\n",
       "    <tr>\n",
       "      <th>Date</th>\n",
       "      <th></th>\n",
       "      <th></th>\n",
       "      <th></th>\n",
       "      <th></th>\n",
       "      <th></th>\n",
       "      <th></th>\n",
       "      <th></th>\n",
       "      <th></th>\n",
       "      <th></th>\n",
       "      <th></th>\n",
       "      <th></th>\n",
       "      <th></th>\n",
       "      <th></th>\n",
       "      <th></th>\n",
       "      <th></th>\n",
       "      <th></th>\n",
       "      <th></th>\n",
       "    </tr>\n",
       "  </thead>\n",
       "  <tbody>\n",
       "    <tr>\n",
       "      <th>2020-09-13</th>\n",
       "      <td>0.000076</td>\n",
       "      <td>0.000014</td>\n",
       "      <td>0.000112</td>\n",
       "      <td>0.000031</td>\n",
       "      <td>0.000087</td>\n",
       "      <td>0.000093</td>\n",
       "      <td>0.000173</td>\n",
       "      <td>0.000079</td>\n",
       "      <td>0.000087</td>\n",
       "      <td>0.000002</td>\n",
       "      <td>0.000025</td>\n",
       "      <td>0.00007</td>\n",
       "      <td>0.000002</td>\n",
       "      <td>0.000001</td>\n",
       "      <td>0.000309</td>\n",
       "      <td>0.000001</td>\n",
       "      <td>0.000071</td>\n",
       "    </tr>\n",
       "    <tr>\n",
       "      <th>2020-09-14</th>\n",
       "      <td>0.000076</td>\n",
       "      <td>0.000014</td>\n",
       "      <td>0.000112</td>\n",
       "      <td>0.000031</td>\n",
       "      <td>0.000087</td>\n",
       "      <td>0.000093</td>\n",
       "      <td>0.000173</td>\n",
       "      <td>0.000079</td>\n",
       "      <td>0.000087</td>\n",
       "      <td>0.000002</td>\n",
       "      <td>0.000025</td>\n",
       "      <td>0.00007</td>\n",
       "      <td>0.000002</td>\n",
       "      <td>0.000001</td>\n",
       "      <td>0.000309</td>\n",
       "      <td>0.000001</td>\n",
       "      <td>0.000071</td>\n",
       "    </tr>\n",
       "    <tr>\n",
       "      <th>2020-09-15</th>\n",
       "      <td>0.000076</td>\n",
       "      <td>0.000014</td>\n",
       "      <td>0.000112</td>\n",
       "      <td>0.000031</td>\n",
       "      <td>0.000087</td>\n",
       "      <td>0.000093</td>\n",
       "      <td>0.000173</td>\n",
       "      <td>0.000079</td>\n",
       "      <td>0.000087</td>\n",
       "      <td>0.000002</td>\n",
       "      <td>0.000025</td>\n",
       "      <td>0.00007</td>\n",
       "      <td>0.000002</td>\n",
       "      <td>0.000001</td>\n",
       "      <td>0.000309</td>\n",
       "      <td>0.000001</td>\n",
       "      <td>0.000071</td>\n",
       "    </tr>\n",
       "    <tr>\n",
       "      <th>2020-09-16</th>\n",
       "      <td>0.000076</td>\n",
       "      <td>0.000014</td>\n",
       "      <td>0.000112</td>\n",
       "      <td>0.000031</td>\n",
       "      <td>0.000087</td>\n",
       "      <td>0.000093</td>\n",
       "      <td>0.000173</td>\n",
       "      <td>0.000079</td>\n",
       "      <td>0.000087</td>\n",
       "      <td>0.000002</td>\n",
       "      <td>0.000025</td>\n",
       "      <td>0.00007</td>\n",
       "      <td>0.000002</td>\n",
       "      <td>0.000001</td>\n",
       "      <td>0.000309</td>\n",
       "      <td>0.000001</td>\n",
       "      <td>0.000071</td>\n",
       "    </tr>\n",
       "    <tr>\n",
       "      <th>2020-09-17</th>\n",
       "      <td>0.000076</td>\n",
       "      <td>0.000014</td>\n",
       "      <td>0.000112</td>\n",
       "      <td>0.000031</td>\n",
       "      <td>0.000087</td>\n",
       "      <td>0.000093</td>\n",
       "      <td>0.000173</td>\n",
       "      <td>0.000079</td>\n",
       "      <td>0.000087</td>\n",
       "      <td>0.000002</td>\n",
       "      <td>0.000025</td>\n",
       "      <td>0.00007</td>\n",
       "      <td>0.000002</td>\n",
       "      <td>0.000001</td>\n",
       "      <td>0.000309</td>\n",
       "      <td>0.000001</td>\n",
       "      <td>0.000071</td>\n",
       "    </tr>\n",
       "  </tbody>\n",
       "</table>\n",
       "</div>"
      ],
      "text/plain": [
       "Country      Bahrain  Bangladesh    Brazil  Burkina Faso    France    Guinea  \\\n",
       "Date                                                                           \n",
       "2020-09-13  0.000076    0.000014  0.000112      0.000031  0.000087  0.000093   \n",
       "2020-09-14  0.000076    0.000014  0.000112      0.000031  0.000087  0.000093   \n",
       "2020-09-15  0.000076    0.000014  0.000112      0.000031  0.000087  0.000093   \n",
       "2020-09-16  0.000076    0.000014  0.000112      0.000031  0.000087  0.000093   \n",
       "2020-09-17  0.000076    0.000014  0.000112      0.000031  0.000087  0.000093   \n",
       "\n",
       "Country         Iran     Italy    Kuwait      Peru  Portugal  Romania  \\\n",
       "Date                                                                    \n",
       "2020-09-13  0.000173  0.000079  0.000087  0.000002  0.000025  0.00007   \n",
       "2020-09-14  0.000173  0.000079  0.000087  0.000002  0.000025  0.00007   \n",
       "2020-09-15  0.000173  0.000079  0.000087  0.000002  0.000025  0.00007   \n",
       "2020-09-16  0.000173  0.000079  0.000087  0.000002  0.000025  0.00007   \n",
       "2020-09-17  0.000173  0.000079  0.000087  0.000002  0.000025  0.00007   \n",
       "\n",
       "Country       Russia  Switzerland    Turkey  United Arab Emirates  \\\n",
       "Date                                                                \n",
       "2020-09-13  0.000002     0.000001  0.000309              0.000001   \n",
       "2020-09-14  0.000002     0.000001  0.000309              0.000001   \n",
       "2020-09-15  0.000002     0.000001  0.000309              0.000001   \n",
       "2020-09-16  0.000002     0.000001  0.000309              0.000001   \n",
       "2020-09-17  0.000002     0.000001  0.000309              0.000001   \n",
       "\n",
       "Country     United States  \n",
       "Date                       \n",
       "2020-09-13       0.000071  \n",
       "2020-09-14       0.000071  \n",
       "2020-09-15       0.000071  \n",
       "2020-09-16       0.000071  \n",
       "2020-09-17       0.000071  "
      ]
     },
     "execution_count": 17,
     "metadata": {},
     "output_type": "execute_result"
    }
   ],
   "source": [
    "analyser.param_history(\"kappa\", roll_window=None).tail()"
   ]
  },
  {
   "cell_type": "markdown",
   "metadata": {},
   "source": [
    "### $\\theta$: Mortality rate of S$^\\ast$ cases $\\mathrm{[-]}$"
   ]
  },
  {
   "cell_type": "code",
   "execution_count": 18,
   "metadata": {
    "collapsed": false
   },
   "outputs": [
    {
     "data": {
      "image/png": "[encoded data removed]",
      "text/plain": [
       "<Figure size 648x432 with 1 Axes>"
      ]
     },
     "metadata": {},
     "output_type": "display_data"
    },
    {
     "data": {
      "text/html": [
       "<div>\n",
       "<style scoped>\n",
       "    .dataframe tbody tr th:only-of-type {\n",
       "        vertical-align: middle;\n",
       "    }\n",
       "\n",
       "    .dataframe tbody tr th {\n",
       "        vertical-align: top;\n",
       "    }\n",
       "\n",
       "    .dataframe thead th {\n",
       "        text-align: right;\n",
       "    }\n",
       "</style>\n",
       "<table border=\"1\" class=\"dataframe\">\n",
       "  <thead>\n",
       "    <tr style=\"text-align: right;\">\n",
       "      <th>Country</th>\n",
       "      <th>Bahrain</th>\n",
       "      <th>Bangladesh</th>\n",
       "      <th>Brazil</th>\n",
       "      <th>Burkina Faso</th>\n",
       "      <th>France</th>\n",
       "      <th>Guinea</th>\n",
       "      <th>Iran</th>\n",
       "      <th>Italy</th>\n",
       "      <th>Kuwait</th>\n",
       "      <th>Peru</th>\n",
       "      <th>Portugal</th>\n",
       "      <th>Romania</th>\n",
       "      <th>Russia</th>\n",
       "      <th>Switzerland</th>\n",
       "      <th>Turkey</th>\n",
       "      <th>United Arab Emirates</th>\n",
       "      <th>United States</th>\n",
       "    </tr>\n",
       "    <tr>\n",
       "      <th>Date</th>\n",
       "      <th></th>\n",
       "      <th></th>\n",
       "      <th></th>\n",
       "      <th></th>\n",
       "      <th></th>\n",
       "      <th></th>\n",
       "      <th></th>\n",
       "      <th></th>\n",
       "      <th></th>\n",
       "      <th></th>\n",
       "      <th></th>\n",
       "      <th></th>\n",
       "      <th></th>\n",
       "      <th></th>\n",
       "      <th></th>\n",
       "      <th></th>\n",
       "      <th></th>\n",
       "    </tr>\n",
       "  </thead>\n",
       "  <tbody>\n",
       "    <tr>\n",
       "      <th>2020-09-13</th>\n",
       "      <td>0.000251</td>\n",
       "      <td>0.01593</td>\n",
       "      <td>0.014891</td>\n",
       "      <td>0.000938</td>\n",
       "      <td>0.00039</td>\n",
       "      <td>0.001795</td>\n",
       "      <td>0.047033</td>\n",
       "      <td>0.000344</td>\n",
       "      <td>0.000289</td>\n",
       "      <td>0.021981</td>\n",
       "      <td>0.001325</td>\n",
       "      <td>0.018661</td>\n",
       "      <td>0.048328</td>\n",
       "      <td>0.001314</td>\n",
       "      <td>0.003232</td>\n",
       "      <td>0.001262</td>\n",
       "      <td>0.003015</td>\n",
       "    </tr>\n",
       "    <tr>\n",
       "      <th>2020-09-14</th>\n",
       "      <td>0.000251</td>\n",
       "      <td>0.01593</td>\n",
       "      <td>0.014891</td>\n",
       "      <td>0.000938</td>\n",
       "      <td>0.00039</td>\n",
       "      <td>0.001795</td>\n",
       "      <td>0.047033</td>\n",
       "      <td>0.000344</td>\n",
       "      <td>0.000289</td>\n",
       "      <td>0.021981</td>\n",
       "      <td>0.001325</td>\n",
       "      <td>0.018661</td>\n",
       "      <td>0.048328</td>\n",
       "      <td>0.001314</td>\n",
       "      <td>0.003232</td>\n",
       "      <td>0.001262</td>\n",
       "      <td>0.003015</td>\n",
       "    </tr>\n",
       "    <tr>\n",
       "      <th>2020-09-15</th>\n",
       "      <td>0.000251</td>\n",
       "      <td>0.01593</td>\n",
       "      <td>0.014891</td>\n",
       "      <td>0.000938</td>\n",
       "      <td>0.00039</td>\n",
       "      <td>0.001795</td>\n",
       "      <td>0.047033</td>\n",
       "      <td>0.000344</td>\n",
       "      <td>0.000289</td>\n",
       "      <td>0.021981</td>\n",
       "      <td>0.001325</td>\n",
       "      <td>0.018661</td>\n",
       "      <td>0.048328</td>\n",
       "      <td>0.001314</td>\n",
       "      <td>0.003232</td>\n",
       "      <td>0.001262</td>\n",
       "      <td>0.003015</td>\n",
       "    </tr>\n",
       "    <tr>\n",
       "      <th>2020-09-16</th>\n",
       "      <td>0.000251</td>\n",
       "      <td>0.01593</td>\n",
       "      <td>0.014891</td>\n",
       "      <td>0.000938</td>\n",
       "      <td>0.00039</td>\n",
       "      <td>0.001795</td>\n",
       "      <td>0.047033</td>\n",
       "      <td>0.000344</td>\n",
       "      <td>0.000289</td>\n",
       "      <td>0.021981</td>\n",
       "      <td>0.001325</td>\n",
       "      <td>0.018661</td>\n",
       "      <td>0.048328</td>\n",
       "      <td>0.001314</td>\n",
       "      <td>0.003232</td>\n",
       "      <td>0.001262</td>\n",
       "      <td>0.003015</td>\n",
       "    </tr>\n",
       "    <tr>\n",
       "      <th>2020-09-17</th>\n",
       "      <td>0.000251</td>\n",
       "      <td>0.01593</td>\n",
       "      <td>0.014891</td>\n",
       "      <td>0.000938</td>\n",
       "      <td>0.00039</td>\n",
       "      <td>0.001795</td>\n",
       "      <td>0.047033</td>\n",
       "      <td>0.000344</td>\n",
       "      <td>0.000289</td>\n",
       "      <td>0.021981</td>\n",
       "      <td>0.001325</td>\n",
       "      <td>0.018661</td>\n",
       "      <td>0.048328</td>\n",
       "      <td>0.001314</td>\n",
       "      <td>0.003232</td>\n",
       "      <td>0.001262</td>\n",
       "      <td>0.003015</td>\n",
       "    </tr>\n",
       "  </tbody>\n",
       "</table>\n",
       "</div>"
      ],
      "text/plain": [
       "Country      Bahrain  Bangladesh    Brazil  Burkina Faso   France    Guinea  \\\n",
       "Date                                                                          \n",
       "2020-09-13  0.000251     0.01593  0.014891      0.000938  0.00039  0.001795   \n",
       "2020-09-14  0.000251     0.01593  0.014891      0.000938  0.00039  0.001795   \n",
       "2020-09-15  0.000251     0.01593  0.014891      0.000938  0.00039  0.001795   \n",
       "2020-09-16  0.000251     0.01593  0.014891      0.000938  0.00039  0.001795   \n",
       "2020-09-17  0.000251     0.01593  0.014891      0.000938  0.00039  0.001795   \n",
       "\n",
       "Country         Iran     Italy    Kuwait      Peru  Portugal   Romania  \\\n",
       "Date                                                                     \n",
       "2020-09-13  0.047033  0.000344  0.000289  0.021981  0.001325  0.018661   \n",
       "2020-09-14  0.047033  0.000344  0.000289  0.021981  0.001325  0.018661   \n",
       "2020-09-15  0.047033  0.000344  0.000289  0.021981  0.001325  0.018661   \n",
       "2020-09-16  0.047033  0.000344  0.000289  0.021981  0.001325  0.018661   \n",
       "2020-09-17  0.047033  0.000344  0.000289  0.021981  0.001325  0.018661   \n",
       "\n",
       "Country       Russia  Switzerland    Turkey  United Arab Emirates  \\\n",
       "Date                                                                \n",
       "2020-09-13  0.048328     0.001314  0.003232              0.001262   \n",
       "2020-09-14  0.048328     0.001314  0.003232              0.001262   \n",
       "2020-09-15  0.048328     0.001314  0.003232              0.001262   \n",
       "2020-09-16  0.048328     0.001314  0.003232              0.001262   \n",
       "2020-09-17  0.048328     0.001314  0.003232              0.001262   \n",
       "\n",
       "Country     United States  \n",
       "Date                       \n",
       "2020-09-13       0.003015  \n",
       "2020-09-14       0.003015  \n",
       "2020-09-15       0.003015  \n",
       "2020-09-16       0.003015  \n",
       "2020-09-17       0.003015  "
      ]
     },
     "execution_count": 18,
     "metadata": {},
     "output_type": "execute_result"
    }
   ],
   "source": [
    "analyser.param_history(\"theta\", roll_window=None).tail()"
   ]
  },
  {
   "cell_type": "markdown",
   "metadata": {},
   "source": [
    "## (Experimental): Relationship of OxCGRT index and parameter values\n",
    "Government responses will impact on parameter values of ODE models about 14 days later. Here, we will investigate on the relationship of [stringency index (from OxCGRT)](https://github.com/OxCGRT/covid-policy-tracker/blob/master/documentation/index_methodology.md) and reproduction number/model parameters.\n"
   ]
  },
  {
   "cell_type": "code",
   "execution_count": 19,
   "metadata": {
    "collapsed": false
   },
   "outputs": [],
   "source": [
    "%matplotlib inline\n",
    "from matplotlib import pyplot as plt\n",
    "import seaborn as sns\n",
    "import pandas as pd"
   ]
  },
  {
   "cell_type": "code",
   "execution_count": 20,
   "metadata": {
    "collapsed": false
   },
   "outputs": [
    {
     "name": "stdout",
     "output_type": "stream",
     "text": [
      "<class 'pandas.core.frame.DataFrame'>\n",
      "Int64Index: 54903 entries, 0 to 55126\n",
      "Data columns (total 19 columns):\n",
      " #   Column                               Non-Null Count  Dtype         \n",
      "---  ------                               --------------  -----         \n",
      " 0   Date                                 54903 non-null  datetime64[ns]\n",
      " 1   Country                              54903 non-null  object        \n",
      " 2   Rt                                   54903 non-null  float64       \n",
      " 3   theta                                54903 non-null  float64       \n",
      " 4   kappa                                54903 non-null  float64       \n",
      " 5   rho                                  54903 non-null  float64       \n",
      " 6   sigma                                54903 non-null  float64       \n",
      " 7   School_closing                       54903 non-null  int64         \n",
      " 8   Workplace_closing                    54903 non-null  int64         \n",
      " 9   Cancel_events                        54903 non-null  int64         \n",
      " 10  Gatherings_restrictions              54903 non-null  int64         \n",
      " 11  Transport_closing                    54903 non-null  int64         \n",
      " 12  Stay_home_restrictions               54903 non-null  int64         \n",
      " 13  Internal_movement_restrictions       54903 non-null  int64         \n",
      " 14  International_movement_restrictions  54903 non-null  int64         \n",
      " 15  Information_campaigns                54903 non-null  int64         \n",
      " 16  Testing_policy                       54903 non-null  int64         \n",
      " 17  Contact_tracing                      54903 non-null  int64         \n",
      " 18  Stringency_index                     54903 non-null  float64       \n",
      "dtypes: datetime64[ns](1), float64(6), int64(11), object(1)\n",
      "memory usage: 8.4+ MB\n"
     ]
    }
   ],
   "source": [
    "df = analyser.track()\n",
    "param_cols = [\"Rt\", *cs.SIRF.PARAMETERS]\n",
    "oxcgrt_cols = oxcgrt_data.OXCGRT_VARS[:]\n",
    "cols = param_cols + oxcgrt_cols\n",
    "delay = 14\n",
    "\n",
    "for col in param_cols:\n",
    "    df[col] = pd.to_numeric(df[col], errors=\"coerce\")\n",
    "    df[col] = df.groupby(\"Country\")[col].shift(0 - delay)\n",
    "\n",
    "df = df.dropna(how=\"any\")\n",
    "df = df.loc[:, [\"Date\", \"Country\", *cols]]\n",
    "track_df = df.copy()\n",
    "track_df.info()"
   ]
  },
  {
   "cell_type": "code",
   "execution_count": 21,
   "metadata": {
    "collapsed": false
   },
   "outputs": [
    {
     "data": {
      "text/html": [
       "<style  type=\"text/css\" >\n",
       "#T_f1753504_f8fc_11ea_ba83_525400fc9c74row0_col0,#T_f1753504_f8fc_11ea_ba83_525400fc9c74row1_col1,#T_f1753504_f8fc_11ea_ba83_525400fc9c74row2_col2,#T_f1753504_f8fc_11ea_ba83_525400fc9c74row3_col3,#T_f1753504_f8fc_11ea_ba83_525400fc9c74row4_col4,#T_f1753504_f8fc_11ea_ba83_525400fc9c74row5_col5,#T_f1753504_f8fc_11ea_ba83_525400fc9c74row6_col6,#T_f1753504_f8fc_11ea_ba83_525400fc9c74row7_col7,#T_f1753504_f8fc_11ea_ba83_525400fc9c74row8_col8,#T_f1753504_f8fc_11ea_ba83_525400fc9c74row9_col9,#T_f1753504_f8fc_11ea_ba83_525400fc9c74row10_col10,#T_f1753504_f8fc_11ea_ba83_525400fc9c74row11_col11,#T_f1753504_f8fc_11ea_ba83_525400fc9c74row12_col12,#T_f1753504_f8fc_11ea_ba83_525400fc9c74row13_col13,#T_f1753504_f8fc_11ea_ba83_525400fc9c74row14_col14,#T_f1753504_f8fc_11ea_ba83_525400fc9c74row15_col15,#T_f1753504_f8fc_11ea_ba83_525400fc9c74row16_col16{\n",
       "            background-color:  #023858;\n",
       "            color:  #f1f1f1;\n",
       "        }#T_f1753504_f8fc_11ea_ba83_525400fc9c74row0_col1,#T_f1753504_f8fc_11ea_ba83_525400fc9c74row0_col15,#T_f1753504_f8fc_11ea_ba83_525400fc9c74row1_col0,#T_f1753504_f8fc_11ea_ba83_525400fc9c74row2_col14,#T_f1753504_f8fc_11ea_ba83_525400fc9c74row14_col2,#T_f1753504_f8fc_11ea_ba83_525400fc9c74row15_col0{\n",
       "            background-color:  #eae6f1;\n",
       "            color:  #000000;\n",
       "        }#T_f1753504_f8fc_11ea_ba83_525400fc9c74row0_col2,#T_f1753504_f8fc_11ea_ba83_525400fc9c74row0_col4,#T_f1753504_f8fc_11ea_ba83_525400fc9c74row2_col0,#T_f1753504_f8fc_11ea_ba83_525400fc9c74row3_col9,#T_f1753504_f8fc_11ea_ba83_525400fc9c74row3_col15,#T_f1753504_f8fc_11ea_ba83_525400fc9c74row4_col0,#T_f1753504_f8fc_11ea_ba83_525400fc9c74row9_col3,#T_f1753504_f8fc_11ea_ba83_525400fc9c74row15_col3{\n",
       "            background-color:  #e7e3f0;\n",
       "            color:  #000000;\n",
       "        }#T_f1753504_f8fc_11ea_ba83_525400fc9c74row0_col3,#T_f1753504_f8fc_11ea_ba83_525400fc9c74row3_col0,#T_f1753504_f8fc_11ea_ba83_525400fc9c74row9_col13,#T_f1753504_f8fc_11ea_ba83_525400fc9c74row13_col9{\n",
       "            background-color:  #4094c3;\n",
       "            color:  #000000;\n",
       "        }#T_f1753504_f8fc_11ea_ba83_525400fc9c74row0_col5,#T_f1753504_f8fc_11ea_ba83_525400fc9c74row5_col0{\n",
       "            background-color:  #d3d4e7;\n",
       "            color:  #000000;\n",
       "        }#T_f1753504_f8fc_11ea_ba83_525400fc9c74row0_col6,#T_f1753504_f8fc_11ea_ba83_525400fc9c74row6_col0{\n",
       "            background-color:  #c5cce3;\n",
       "            color:  #000000;\n",
       "        }#T_f1753504_f8fc_11ea_ba83_525400fc9c74row0_col7,#T_f1753504_f8fc_11ea_ba83_525400fc9c74row7_col0{\n",
       "            background-color:  #cacee5;\n",
       "            color:  #000000;\n",
       "        }#T_f1753504_f8fc_11ea_ba83_525400fc9c74row0_col8,#T_f1753504_f8fc_11ea_ba83_525400fc9c74row8_col0{\n",
       "            background-color:  #d5d5e8;\n",
       "            color:  #000000;\n",
       "        }#T_f1753504_f8fc_11ea_ba83_525400fc9c74row0_col9,#T_f1753504_f8fc_11ea_ba83_525400fc9c74row9_col0{\n",
       "            background-color:  #e0deed;\n",
       "            color:  #000000;\n",
       "        }#T_f1753504_f8fc_11ea_ba83_525400fc9c74row0_col10,#T_f1753504_f8fc_11ea_ba83_525400fc9c74row0_col11,#T_f1753504_f8fc_11ea_ba83_525400fc9c74row10_col0,#T_f1753504_f8fc_11ea_ba83_525400fc9c74row11_col0{\n",
       "            background-color:  #e3e0ee;\n",
       "            color:  #000000;\n",
       "        }#T_f1753504_f8fc_11ea_ba83_525400fc9c74row0_col12,#T_f1753504_f8fc_11ea_ba83_525400fc9c74row12_col0{\n",
       "            background-color:  #ebe6f2;\n",
       "            color:  #000000;\n",
       "        }#T_f1753504_f8fc_11ea_ba83_525400fc9c74row0_col13,#T_f1753504_f8fc_11ea_ba83_525400fc9c74row1_col4,#T_f1753504_f8fc_11ea_ba83_525400fc9c74row4_col1,#T_f1753504_f8fc_11ea_ba83_525400fc9c74row13_col0{\n",
       "            background-color:  #c6cce3;\n",
       "            color:  #000000;\n",
       "        }#T_f1753504_f8fc_11ea_ba83_525400fc9c74row0_col14,#T_f1753504_f8fc_11ea_ba83_525400fc9c74row1_col5,#T_f1753504_f8fc_11ea_ba83_525400fc9c74row5_col1,#T_f1753504_f8fc_11ea_ba83_525400fc9c74row14_col0{\n",
       "            background-color:  #e0dded;\n",
       "            color:  #000000;\n",
       "        }#T_f1753504_f8fc_11ea_ba83_525400fc9c74row0_col16,#T_f1753504_f8fc_11ea_ba83_525400fc9c74row1_col16,#T_f1753504_f8fc_11ea_ba83_525400fc9c74row16_col0,#T_f1753504_f8fc_11ea_ba83_525400fc9c74row16_col1{\n",
       "            background-color:  #d8d7e9;\n",
       "            color:  #000000;\n",
       "        }#T_f1753504_f8fc_11ea_ba83_525400fc9c74row1_col2,#T_f1753504_f8fc_11ea_ba83_525400fc9c74row2_col1{\n",
       "            background-color:  #023f64;\n",
       "            color:  #f1f1f1;\n",
       "        }#T_f1753504_f8fc_11ea_ba83_525400fc9c74row1_col3,#T_f1753504_f8fc_11ea_ba83_525400fc9c74row3_col1,#T_f1753504_f8fc_11ea_ba83_525400fc9c74row6_col11,#T_f1753504_f8fc_11ea_ba83_525400fc9c74row11_col6{\n",
       "            background-color:  #0c74b2;\n",
       "            color:  #f1f1f1;\n",
       "        }#T_f1753504_f8fc_11ea_ba83_525400fc9c74row1_col6,#T_f1753504_f8fc_11ea_ba83_525400fc9c74row2_col4,#T_f1753504_f8fc_11ea_ba83_525400fc9c74row4_col2,#T_f1753504_f8fc_11ea_ba83_525400fc9c74row6_col1{\n",
       "            background-color:  #d4d4e8;\n",
       "            color:  #000000;\n",
       "        }#T_f1753504_f8fc_11ea_ba83_525400fc9c74row1_col7,#T_f1753504_f8fc_11ea_ba83_525400fc9c74row7_col1{\n",
       "            background-color:  #f0eaf4;\n",
       "            color:  #000000;\n",
       "        }#T_f1753504_f8fc_11ea_ba83_525400fc9c74row1_col8,#T_f1753504_f8fc_11ea_ba83_525400fc9c74row8_col1{\n",
       "            background-color:  #f1ebf4;\n",
       "            color:  #000000;\n",
       "        }#T_f1753504_f8fc_11ea_ba83_525400fc9c74row1_col9,#T_f1753504_f8fc_11ea_ba83_525400fc9c74row9_col1{\n",
       "            background-color:  #e8e4f0;\n",
       "            color:  #000000;\n",
       "        }#T_f1753504_f8fc_11ea_ba83_525400fc9c74row1_col10,#T_f1753504_f8fc_11ea_ba83_525400fc9c74row2_col10,#T_f1753504_f8fc_11ea_ba83_525400fc9c74row10_col1,#T_f1753504_f8fc_11ea_ba83_525400fc9c74row10_col2{\n",
       "            background-color:  #99b8d8;\n",
       "            color:  #000000;\n",
       "        }#T_f1753504_f8fc_11ea_ba83_525400fc9c74row1_col11,#T_f1753504_f8fc_11ea_ba83_525400fc9c74row11_col1{\n",
       "            background-color:  #c2cbe2;\n",
       "            color:  #000000;\n",
       "        }#T_f1753504_f8fc_11ea_ba83_525400fc9c74row1_col12,#T_f1753504_f8fc_11ea_ba83_525400fc9c74row12_col1{\n",
       "            background-color:  #a1bbda;\n",
       "            color:  #000000;\n",
       "        }#T_f1753504_f8fc_11ea_ba83_525400fc9c74row1_col13,#T_f1753504_f8fc_11ea_ba83_525400fc9c74row13_col1{\n",
       "            background-color:  #f5eff6;\n",
       "            color:  #000000;\n",
       "        }#T_f1753504_f8fc_11ea_ba83_525400fc9c74row1_col14,#T_f1753504_f8fc_11ea_ba83_525400fc9c74row14_col1{\n",
       "            background-color:  #f4edf6;\n",
       "            color:  #000000;\n",
       "        }#T_f1753504_f8fc_11ea_ba83_525400fc9c74row1_col15,#T_f1753504_f8fc_11ea_ba83_525400fc9c74row4_col11,#T_f1753504_f8fc_11ea_ba83_525400fc9c74row11_col4,#T_f1753504_f8fc_11ea_ba83_525400fc9c74row15_col1{\n",
       "            background-color:  #bdc8e1;\n",
       "            color:  #000000;\n",
       "        }#T_f1753504_f8fc_11ea_ba83_525400fc9c74row2_col3,#T_f1753504_f8fc_11ea_ba83_525400fc9c74row3_col2,#T_f1753504_f8fc_11ea_ba83_525400fc9c74row5_col8,#T_f1753504_f8fc_11ea_ba83_525400fc9c74row6_col10,#T_f1753504_f8fc_11ea_ba83_525400fc9c74row8_col5,#T_f1753504_f8fc_11ea_ba83_525400fc9c74row10_col6{\n",
       "            background-color:  #056faf;\n",
       "            color:  #f1f1f1;\n",
       "        }#T_f1753504_f8fc_11ea_ba83_525400fc9c74row2_col5,#T_f1753504_f8fc_11ea_ba83_525400fc9c74row2_col9,#T_f1753504_f8fc_11ea_ba83_525400fc9c74row5_col2,#T_f1753504_f8fc_11ea_ba83_525400fc9c74row9_col2{\n",
       "            background-color:  #e5e1ef;\n",
       "            color:  #000000;\n",
       "        }#T_f1753504_f8fc_11ea_ba83_525400fc9c74row2_col6,#T_f1753504_f8fc_11ea_ba83_525400fc9c74row6_col2{\n",
       "            background-color:  #dbdaeb;\n",
       "            color:  #000000;\n",
       "        }#T_f1753504_f8fc_11ea_ba83_525400fc9c74row2_col7,#T_f1753504_f8fc_11ea_ba83_525400fc9c74row7_col2{\n",
       "            background-color:  #f3edf5;\n",
       "            color:  #000000;\n",
       "        }#T_f1753504_f8fc_11ea_ba83_525400fc9c74row2_col8,#T_f1753504_f8fc_11ea_ba83_525400fc9c74row8_col2{\n",
       "            background-color:  #efe9f3;\n",
       "            color:  #000000;\n",
       "        }#T_f1753504_f8fc_11ea_ba83_525400fc9c74row2_col11,#T_f1753504_f8fc_11ea_ba83_525400fc9c74row2_col15,#T_f1753504_f8fc_11ea_ba83_525400fc9c74row11_col2,#T_f1753504_f8fc_11ea_ba83_525400fc9c74row15_col2{\n",
       "            background-color:  #c1cae2;\n",
       "            color:  #000000;\n",
       "        }#T_f1753504_f8fc_11ea_ba83_525400fc9c74row2_col12,#T_f1753504_f8fc_11ea_ba83_525400fc9c74row12_col2{\n",
       "            background-color:  #96b6d7;\n",
       "            color:  #000000;\n",
       "        }#T_f1753504_f8fc_11ea_ba83_525400fc9c74row2_col13,#T_f1753504_f8fc_11ea_ba83_525400fc9c74row13_col2{\n",
       "            background-color:  #f8f1f8;\n",
       "            color:  #000000;\n",
       "        }#T_f1753504_f8fc_11ea_ba83_525400fc9c74row2_col16,#T_f1753504_f8fc_11ea_ba83_525400fc9c74row16_col2{\n",
       "            background-color:  #dedcec;\n",
       "            color:  #000000;\n",
       "        }#T_f1753504_f8fc_11ea_ba83_525400fc9c74row3_col4,#T_f1753504_f8fc_11ea_ba83_525400fc9c74row4_col3{\n",
       "            background-color:  #b8c6e0;\n",
       "            color:  #000000;\n",
       "        }#T_f1753504_f8fc_11ea_ba83_525400fc9c74row3_col5,#T_f1753504_f8fc_11ea_ba83_525400fc9c74row5_col3{\n",
       "            background-color:  #d6d6e9;\n",
       "            color:  #000000;\n",
       "        }#T_f1753504_f8fc_11ea_ba83_525400fc9c74row3_col6,#T_f1753504_f8fc_11ea_ba83_525400fc9c74row3_col11,#T_f1753504_f8fc_11ea_ba83_525400fc9c74row6_col3,#T_f1753504_f8fc_11ea_ba83_525400fc9c74row11_col3{\n",
       "            background-color:  #d2d2e7;\n",
       "            color:  #000000;\n",
       "        }#T_f1753504_f8fc_11ea_ba83_525400fc9c74row3_col7,#T_f1753504_f8fc_11ea_ba83_525400fc9c74row7_col3{\n",
       "            background-color:  #f4eef6;\n",
       "            color:  #000000;\n",
       "        }#T_f1753504_f8fc_11ea_ba83_525400fc9c74row3_col8,#T_f1753504_f8fc_11ea_ba83_525400fc9c74row8_col3{\n",
       "            background-color:  #f1ebf5;\n",
       "            color:  #000000;\n",
       "        }#T_f1753504_f8fc_11ea_ba83_525400fc9c74row3_col10,#T_f1753504_f8fc_11ea_ba83_525400fc9c74row10_col3{\n",
       "            background-color:  #a5bddb;\n",
       "            color:  #000000;\n",
       "        }#T_f1753504_f8fc_11ea_ba83_525400fc9c74row3_col12,#T_f1753504_f8fc_11ea_ba83_525400fc9c74row12_col3{\n",
       "            background-color:  #cccfe5;\n",
       "            color:  #000000;\n",
       "        }#T_f1753504_f8fc_11ea_ba83_525400fc9c74row3_col13,#T_f1753504_f8fc_11ea_ba83_525400fc9c74row13_col3{\n",
       "            background-color:  #f7f0f7;\n",
       "            color:  #000000;\n",
       "        }#T_f1753504_f8fc_11ea_ba83_525400fc9c74row3_col14,#T_f1753504_f8fc_11ea_ba83_525400fc9c74row14_col3{\n",
       "            background-color:  #fff7fb;\n",
       "            color:  #000000;\n",
       "        }#T_f1753504_f8fc_11ea_ba83_525400fc9c74row3_col16,#T_f1753504_f8fc_11ea_ba83_525400fc9c74row4_col14,#T_f1753504_f8fc_11ea_ba83_525400fc9c74row14_col4,#T_f1753504_f8fc_11ea_ba83_525400fc9c74row16_col3{\n",
       "            background-color:  #dad9ea;\n",
       "            color:  #000000;\n",
       "        }#T_f1753504_f8fc_11ea_ba83_525400fc9c74row4_col5,#T_f1753504_f8fc_11ea_ba83_525400fc9c74row5_col4{\n",
       "            background-color:  #78abd0;\n",
       "            color:  #000000;\n",
       "        }#T_f1753504_f8fc_11ea_ba83_525400fc9c74row4_col6,#T_f1753504_f8fc_11ea_ba83_525400fc9c74row6_col4{\n",
       "            background-color:  #adc1dd;\n",
       "            color:  #000000;\n",
       "        }#T_f1753504_f8fc_11ea_ba83_525400fc9c74row4_col7,#T_f1753504_f8fc_11ea_ba83_525400fc9c74row7_col4{\n",
       "            background-color:  #afc1dd;\n",
       "            color:  #000000;\n",
       "        }#T_f1753504_f8fc_11ea_ba83_525400fc9c74row4_col8,#T_f1753504_f8fc_11ea_ba83_525400fc9c74row8_col4{\n",
       "            background-color:  #d2d3e7;\n",
       "            color:  #000000;\n",
       "        }#T_f1753504_f8fc_11ea_ba83_525400fc9c74row4_col9,#T_f1753504_f8fc_11ea_ba83_525400fc9c74row9_col4{\n",
       "            background-color:  #b0c2de;\n",
       "            color:  #000000;\n",
       "        }#T_f1753504_f8fc_11ea_ba83_525400fc9c74row4_col10,#T_f1753504_f8fc_11ea_ba83_525400fc9c74row4_col13,#T_f1753504_f8fc_11ea_ba83_525400fc9c74row10_col4,#T_f1753504_f8fc_11ea_ba83_525400fc9c74row13_col4{\n",
       "            background-color:  #abbfdc;\n",
       "            color:  #000000;\n",
       "        }#T_f1753504_f8fc_11ea_ba83_525400fc9c74row4_col12,#T_f1753504_f8fc_11ea_ba83_525400fc9c74row12_col4{\n",
       "            background-color:  #c0c9e2;\n",
       "            color:  #000000;\n",
       "        }#T_f1753504_f8fc_11ea_ba83_525400fc9c74row4_col15,#T_f1753504_f8fc_11ea_ba83_525400fc9c74row15_col4{\n",
       "            background-color:  #a7bddb;\n",
       "            color:  #000000;\n",
       "        }#T_f1753504_f8fc_11ea_ba83_525400fc9c74row4_col16,#T_f1753504_f8fc_11ea_ba83_525400fc9c74row16_col4{\n",
       "            background-color:  #9cb9d9;\n",
       "            color:  #000000;\n",
       "        }#T_f1753504_f8fc_11ea_ba83_525400fc9c74row5_col6,#T_f1753504_f8fc_11ea_ba83_525400fc9c74row6_col5,#T_f1753504_f8fc_11ea_ba83_525400fc9c74row9_col11,#T_f1753504_f8fc_11ea_ba83_525400fc9c74row9_col16,#T_f1753504_f8fc_11ea_ba83_525400fc9c74row11_col9,#T_f1753504_f8fc_11ea_ba83_525400fc9c74row16_col9{\n",
       "            background-color:  #0566a0;\n",
       "            color:  #f1f1f1;\n",
       "        }#T_f1753504_f8fc_11ea_ba83_525400fc9c74row5_col7,#T_f1753504_f8fc_11ea_ba83_525400fc9c74row7_col5{\n",
       "            background-color:  #056fae;\n",
       "            color:  #f1f1f1;\n",
       "        }#T_f1753504_f8fc_11ea_ba83_525400fc9c74row5_col9,#T_f1753504_f8fc_11ea_ba83_525400fc9c74row9_col5{\n",
       "            background-color:  #1c7fb8;\n",
       "            color:  #000000;\n",
       "        }#T_f1753504_f8fc_11ea_ba83_525400fc9c74row5_col10,#T_f1753504_f8fc_11ea_ba83_525400fc9c74row10_col5{\n",
       "            background-color:  #0f76b3;\n",
       "            color:  #f1f1f1;\n",
       "        }#T_f1753504_f8fc_11ea_ba83_525400fc9c74row5_col11,#T_f1753504_f8fc_11ea_ba83_525400fc9c74row10_col12,#T_f1753504_f8fc_11ea_ba83_525400fc9c74row11_col5,#T_f1753504_f8fc_11ea_ba83_525400fc9c74row12_col10{\n",
       "            background-color:  #167bb6;\n",
       "            color:  #000000;\n",
       "        }#T_f1753504_f8fc_11ea_ba83_525400fc9c74row5_col12,#T_f1753504_f8fc_11ea_ba83_525400fc9c74row12_col5{\n",
       "            background-color:  #348ebf;\n",
       "            color:  #000000;\n",
       "        }#T_f1753504_f8fc_11ea_ba83_525400fc9c74row5_col13,#T_f1753504_f8fc_11ea_ba83_525400fc9c74row13_col5{\n",
       "            background-color:  #0570b0;\n",
       "            color:  #f1f1f1;\n",
       "        }#T_f1753504_f8fc_11ea_ba83_525400fc9c74row5_col14,#T_f1753504_f8fc_11ea_ba83_525400fc9c74row14_col5{\n",
       "            background-color:  #65a3cb;\n",
       "            color:  #000000;\n",
       "        }#T_f1753504_f8fc_11ea_ba83_525400fc9c74row5_col15,#T_f1753504_f8fc_11ea_ba83_525400fc9c74row15_col5{\n",
       "            background-color:  #8bb2d4;\n",
       "            color:  #000000;\n",
       "        }#T_f1753504_f8fc_11ea_ba83_525400fc9c74row5_col16,#T_f1753504_f8fc_11ea_ba83_525400fc9c74row16_col5{\n",
       "            background-color:  #04598c;\n",
       "            color:  #f1f1f1;\n",
       "        }#T_f1753504_f8fc_11ea_ba83_525400fc9c74row6_col7,#T_f1753504_f8fc_11ea_ba83_525400fc9c74row7_col6{\n",
       "            background-color:  #056ba9;\n",
       "            color:  #f1f1f1;\n",
       "        }#T_f1753504_f8fc_11ea_ba83_525400fc9c74row6_col8,#T_f1753504_f8fc_11ea_ba83_525400fc9c74row8_col6,#T_f1753504_f8fc_11ea_ba83_525400fc9c74row11_col16,#T_f1753504_f8fc_11ea_ba83_525400fc9c74row16_col11{\n",
       "            background-color:  #046198;\n",
       "            color:  #f1f1f1;\n",
       "        }#T_f1753504_f8fc_11ea_ba83_525400fc9c74row6_col9,#T_f1753504_f8fc_11ea_ba83_525400fc9c74row9_col6{\n",
       "            background-color:  #2484ba;\n",
       "            color:  #000000;\n",
       "        }#T_f1753504_f8fc_11ea_ba83_525400fc9c74row6_col12,#T_f1753504_f8fc_11ea_ba83_525400fc9c74row11_col13,#T_f1753504_f8fc_11ea_ba83_525400fc9c74row12_col6,#T_f1753504_f8fc_11ea_ba83_525400fc9c74row13_col11{\n",
       "            background-color:  #328dbf;\n",
       "            color:  #000000;\n",
       "        }#T_f1753504_f8fc_11ea_ba83_525400fc9c74row6_col13,#T_f1753504_f8fc_11ea_ba83_525400fc9c74row13_col6{\n",
       "            background-color:  #05659f;\n",
       "            color:  #f1f1f1;\n",
       "        }#T_f1753504_f8fc_11ea_ba83_525400fc9c74row6_col14,#T_f1753504_f8fc_11ea_ba83_525400fc9c74row14_col6{\n",
       "            background-color:  #509ac6;\n",
       "            color:  #000000;\n",
       "        }#T_f1753504_f8fc_11ea_ba83_525400fc9c74row6_col15,#T_f1753504_f8fc_11ea_ba83_525400fc9c74row15_col6{\n",
       "            background-color:  #7bacd1;\n",
       "            color:  #000000;\n",
       "        }#T_f1753504_f8fc_11ea_ba83_525400fc9c74row6_col16,#T_f1753504_f8fc_11ea_ba83_525400fc9c74row16_col6{\n",
       "            background-color:  #045382;\n",
       "            color:  #f1f1f1;\n",
       "        }#T_f1753504_f8fc_11ea_ba83_525400fc9c74row7_col8,#T_f1753504_f8fc_11ea_ba83_525400fc9c74row8_col7,#T_f1753504_f8fc_11ea_ba83_525400fc9c74row10_col16,#T_f1753504_f8fc_11ea_ba83_525400fc9c74row16_col10{\n",
       "            background-color:  #045e94;\n",
       "            color:  #f1f1f1;\n",
       "        }#T_f1753504_f8fc_11ea_ba83_525400fc9c74row7_col9,#T_f1753504_f8fc_11ea_ba83_525400fc9c74row9_col7{\n",
       "            background-color:  #4a98c5;\n",
       "            color:  #000000;\n",
       "        }#T_f1753504_f8fc_11ea_ba83_525400fc9c74row7_col10,#T_f1753504_f8fc_11ea_ba83_525400fc9c74row10_col7{\n",
       "            background-color:  #3790c0;\n",
       "            color:  #000000;\n",
       "        }#T_f1753504_f8fc_11ea_ba83_525400fc9c74row7_col11,#T_f1753504_f8fc_11ea_ba83_525400fc9c74row11_col7{\n",
       "            background-color:  #2786bb;\n",
       "            color:  #000000;\n",
       "        }#T_f1753504_f8fc_11ea_ba83_525400fc9c74row7_col12,#T_f1753504_f8fc_11ea_ba83_525400fc9c74row11_col12,#T_f1753504_f8fc_11ea_ba83_525400fc9c74row12_col7,#T_f1753504_f8fc_11ea_ba83_525400fc9c74row12_col11{\n",
       "            background-color:  #2383ba;\n",
       "            color:  #000000;\n",
       "        }#T_f1753504_f8fc_11ea_ba83_525400fc9c74row7_col13,#T_f1753504_f8fc_11ea_ba83_525400fc9c74row13_col7{\n",
       "            background-color:  #034b76;\n",
       "            color:  #f1f1f1;\n",
       "        }#T_f1753504_f8fc_11ea_ba83_525400fc9c74row7_col14,#T_f1753504_f8fc_11ea_ba83_525400fc9c74row14_col7{\n",
       "            background-color:  #1379b5;\n",
       "            color:  #f1f1f1;\n",
       "        }#T_f1753504_f8fc_11ea_ba83_525400fc9c74row7_col15,#T_f1753504_f8fc_11ea_ba83_525400fc9c74row15_col7{\n",
       "            background-color:  #1278b4;\n",
       "            color:  #f1f1f1;\n",
       "        }#T_f1753504_f8fc_11ea_ba83_525400fc9c74row7_col16,#T_f1753504_f8fc_11ea_ba83_525400fc9c74row16_col7{\n",
       "            background-color:  #045d92;\n",
       "            color:  #f1f1f1;\n",
       "        }#T_f1753504_f8fc_11ea_ba83_525400fc9c74row8_col9,#T_f1753504_f8fc_11ea_ba83_525400fc9c74row9_col8{\n",
       "            background-color:  #0771b1;\n",
       "            color:  #f1f1f1;\n",
       "        }#T_f1753504_f8fc_11ea_ba83_525400fc9c74row8_col10,#T_f1753504_f8fc_11ea_ba83_525400fc9c74row10_col8{\n",
       "            background-color:  #0a73b2;\n",
       "            color:  #f1f1f1;\n",
       "        }#T_f1753504_f8fc_11ea_ba83_525400fc9c74row8_col11,#T_f1753504_f8fc_11ea_ba83_525400fc9c74row11_col8{\n",
       "            background-color:  #056aa6;\n",
       "            color:  #f1f1f1;\n",
       "        }#T_f1753504_f8fc_11ea_ba83_525400fc9c74row8_col12,#T_f1753504_f8fc_11ea_ba83_525400fc9c74row12_col8{\n",
       "            background-color:  #1077b4;\n",
       "            color:  #f1f1f1;\n",
       "        }#T_f1753504_f8fc_11ea_ba83_525400fc9c74row8_col13,#T_f1753504_f8fc_11ea_ba83_525400fc9c74row13_col8,#T_f1753504_f8fc_11ea_ba83_525400fc9c74row13_col16,#T_f1753504_f8fc_11ea_ba83_525400fc9c74row16_col13{\n",
       "            background-color:  #045c90;\n",
       "            color:  #f1f1f1;\n",
       "        }#T_f1753504_f8fc_11ea_ba83_525400fc9c74row8_col14,#T_f1753504_f8fc_11ea_ba83_525400fc9c74row14_col8{\n",
       "            background-color:  #187cb6;\n",
       "            color:  #000000;\n",
       "        }#T_f1753504_f8fc_11ea_ba83_525400fc9c74row8_col15,#T_f1753504_f8fc_11ea_ba83_525400fc9c74row15_col8{\n",
       "            background-color:  #569dc8;\n",
       "            color:  #000000;\n",
       "        }#T_f1753504_f8fc_11ea_ba83_525400fc9c74row8_col16,#T_f1753504_f8fc_11ea_ba83_525400fc9c74row16_col8{\n",
       "            background-color:  #045280;\n",
       "            color:  #f1f1f1;\n",
       "        }#T_f1753504_f8fc_11ea_ba83_525400fc9c74row9_col10,#T_f1753504_f8fc_11ea_ba83_525400fc9c74row10_col9{\n",
       "            background-color:  #056ead;\n",
       "            color:  #f1f1f1;\n",
       "        }#T_f1753504_f8fc_11ea_ba83_525400fc9c74row9_col12,#T_f1753504_f8fc_11ea_ba83_525400fc9c74row12_col9{\n",
       "            background-color:  #2c89bd;\n",
       "            color:  #000000;\n",
       "        }#T_f1753504_f8fc_11ea_ba83_525400fc9c74row9_col14,#T_f1753504_f8fc_11ea_ba83_525400fc9c74row10_col15,#T_f1753504_f8fc_11ea_ba83_525400fc9c74row14_col9,#T_f1753504_f8fc_11ea_ba83_525400fc9c74row15_col10{\n",
       "            background-color:  #63a2cb;\n",
       "            color:  #000000;\n",
       "        }#T_f1753504_f8fc_11ea_ba83_525400fc9c74row9_col15,#T_f1753504_f8fc_11ea_ba83_525400fc9c74row15_col9{\n",
       "            background-color:  #a2bcda;\n",
       "            color:  #000000;\n",
       "        }#T_f1753504_f8fc_11ea_ba83_525400fc9c74row10_col11,#T_f1753504_f8fc_11ea_ba83_525400fc9c74row11_col10{\n",
       "            background-color:  #045b8f;\n",
       "            color:  #f1f1f1;\n",
       "        }#T_f1753504_f8fc_11ea_ba83_525400fc9c74row10_col13,#T_f1753504_f8fc_11ea_ba83_525400fc9c74row13_col10{\n",
       "            background-color:  #4295c3;\n",
       "            color:  #000000;\n",
       "        }#T_f1753504_f8fc_11ea_ba83_525400fc9c74row10_col14,#T_f1753504_f8fc_11ea_ba83_525400fc9c74row14_col10{\n",
       "            background-color:  #6fa7ce;\n",
       "            color:  #000000;\n",
       "        }#T_f1753504_f8fc_11ea_ba83_525400fc9c74row11_col14,#T_f1753504_f8fc_11ea_ba83_525400fc9c74row14_col11{\n",
       "            background-color:  #589ec8;\n",
       "            color:  #000000;\n",
       "        }#T_f1753504_f8fc_11ea_ba83_525400fc9c74row11_col15,#T_f1753504_f8fc_11ea_ba83_525400fc9c74row15_col11{\n",
       "            background-color:  #75a9cf;\n",
       "            color:  #000000;\n",
       "        }#T_f1753504_f8fc_11ea_ba83_525400fc9c74row12_col13,#T_f1753504_f8fc_11ea_ba83_525400fc9c74row13_col12{\n",
       "            background-color:  #2d8abd;\n",
       "            color:  #000000;\n",
       "        }#T_f1753504_f8fc_11ea_ba83_525400fc9c74row12_col14,#T_f1753504_f8fc_11ea_ba83_525400fc9c74row14_col12{\n",
       "            background-color:  #3d93c2;\n",
       "            color:  #000000;\n",
       "        }#T_f1753504_f8fc_11ea_ba83_525400fc9c74row12_col15,#T_f1753504_f8fc_11ea_ba83_525400fc9c74row15_col12{\n",
       "            background-color:  #308cbe;\n",
       "            color:  #000000;\n",
       "        }#T_f1753504_f8fc_11ea_ba83_525400fc9c74row12_col16,#T_f1753504_f8fc_11ea_ba83_525400fc9c74row16_col12{\n",
       "            background-color:  #056ba7;\n",
       "            color:  #f1f1f1;\n",
       "        }#T_f1753504_f8fc_11ea_ba83_525400fc9c74row13_col14,#T_f1753504_f8fc_11ea_ba83_525400fc9c74row14_col13{\n",
       "            background-color:  #157ab5;\n",
       "            color:  #000000;\n",
       "        }#T_f1753504_f8fc_11ea_ba83_525400fc9c74row13_col15,#T_f1753504_f8fc_11ea_ba83_525400fc9c74row15_col13{\n",
       "            background-color:  #1e80b8;\n",
       "            color:  #000000;\n",
       "        }#T_f1753504_f8fc_11ea_ba83_525400fc9c74row14_col15,#T_f1753504_f8fc_11ea_ba83_525400fc9c74row15_col14,#T_f1753504_f8fc_11ea_ba83_525400fc9c74row15_col16,#T_f1753504_f8fc_11ea_ba83_525400fc9c74row16_col15{\n",
       "            background-color:  #4496c3;\n",
       "            color:  #000000;\n",
       "        }#T_f1753504_f8fc_11ea_ba83_525400fc9c74row14_col16,#T_f1753504_f8fc_11ea_ba83_525400fc9c74row16_col14{\n",
       "            background-color:  #4c99c5;\n",
       "            color:  #000000;\n",
       "        }</style><table id=\"T_f1753504_f8fc_11ea_ba83_525400fc9c74\" ><thead>    <tr>        <th class=\"blank level0\" ></th>        <th class=\"col_heading level0 col0\" >Rt</th>        <th class=\"col_heading level0 col1\" >theta</th>        <th class=\"col_heading level0 col2\" >kappa</th>        <th class=\"col_heading level0 col3\" >rho</th>        <th class=\"col_heading level0 col4\" >sigma</th>        <th class=\"col_heading level0 col5\" >School_closing</th>        <th class=\"col_heading level0 col6\" >Workplace_closing</th>        <th class=\"col_heading level0 col7\" >Cancel_events</th>        <th class=\"col_heading level0 col8\" >Gatherings_restrictions</th>        <th class=\"col_heading level0 col9\" >Transport_closing</th>        <th class=\"col_heading level0 col10\" >Stay_home_restrictions</th>        <th class=\"col_heading level0 col11\" >Internal_movement_restrictions</th>        <th class=\"col_heading level0 col12\" >International_movement_restrictions</th>        <th class=\"col_heading level0 col13\" >Information_campaigns</th>        <th class=\"col_heading level0 col14\" >Testing_policy</th>        <th class=\"col_heading level0 col15\" >Contact_tracing</th>        <th class=\"col_heading level0 col16\" >Stringency_index</th>    </tr></thead><tbody>\n",
       "                <tr>\n",
       "                        <th id=\"T_f1753504_f8fc_11ea_ba83_525400fc9c74level0_row0\" class=\"row_heading level0 row0\" >Rt</th>\n",
       "                        <td id=\"T_f1753504_f8fc_11ea_ba83_525400fc9c74row0_col0\" class=\"data row0 col0\" >1.000000</td>\n",
       "                        <td id=\"T_f1753504_f8fc_11ea_ba83_525400fc9c74row0_col1\" class=\"data row0 col1\" >-0.235054</td>\n",
       "                        <td id=\"T_f1753504_f8fc_11ea_ba83_525400fc9c74row0_col2\" class=\"data row0 col2\" >-0.214755</td>\n",
       "                        <td id=\"T_f1753504_f8fc_11ea_ba83_525400fc9c74row0_col3\" class=\"data row0 col3\" >0.433633</td>\n",
       "                        <td id=\"T_f1753504_f8fc_11ea_ba83_525400fc9c74row0_col4\" class=\"data row0 col4\" >-0.210675</td>\n",
       "                        <td id=\"T_f1753504_f8fc_11ea_ba83_525400fc9c74row0_col5\" class=\"data row0 col5\" >-0.088511</td>\n",
       "                        <td id=\"T_f1753504_f8fc_11ea_ba83_525400fc9c74row0_col6\" class=\"data row0 col6\" >-0.020097</td>\n",
       "                        <td id=\"T_f1753504_f8fc_11ea_ba83_525400fc9c74row0_col7\" class=\"data row0 col7\" >-0.045314</td>\n",
       "                        <td id=\"T_f1753504_f8fc_11ea_ba83_525400fc9c74row0_col8\" class=\"data row0 col8\" >-0.097104</td>\n",
       "                        <td id=\"T_f1753504_f8fc_11ea_ba83_525400fc9c74row0_col9\" class=\"data row0 col9\" >-0.169870</td>\n",
       "                        <td id=\"T_f1753504_f8fc_11ea_ba83_525400fc9c74row0_col10\" class=\"data row0 col10\" >-0.188269</td>\n",
       "                        <td id=\"T_f1753504_f8fc_11ea_ba83_525400fc9c74row0_col11\" class=\"data row0 col11\" >-0.187269</td>\n",
       "                        <td id=\"T_f1753504_f8fc_11ea_ba83_525400fc9c74row0_col12\" class=\"data row0 col12\" >-0.240803</td>\n",
       "                        <td id=\"T_f1753504_f8fc_11ea_ba83_525400fc9c74row0_col13\" class=\"data row0 col13\" >-0.027385</td>\n",
       "                        <td id=\"T_f1753504_f8fc_11ea_ba83_525400fc9c74row0_col14\" class=\"data row0 col14\" >-0.166347</td>\n",
       "                        <td id=\"T_f1753504_f8fc_11ea_ba83_525400fc9c74row0_col15\" class=\"data row0 col15\" >-0.233878</td>\n",
       "                        <td id=\"T_f1753504_f8fc_11ea_ba83_525400fc9c74row0_col16\" class=\"data row0 col16\" >-0.114534</td>\n",
       "            </tr>\n",
       "            <tr>\n",
       "                        <th id=\"T_f1753504_f8fc_11ea_ba83_525400fc9c74level0_row1\" class=\"row_heading level0 row1\" >theta</th>\n",
       "                        <td id=\"T_f1753504_f8fc_11ea_ba83_525400fc9c74row1_col0\" class=\"data row1 col0\" >-0.235054</td>\n",
       "                        <td id=\"T_f1753504_f8fc_11ea_ba83_525400fc9c74row1_col1\" class=\"data row1 col1\" >1.000000</td>\n",
       "                        <td id=\"T_f1753504_f8fc_11ea_ba83_525400fc9c74row1_col2\" class=\"data row1 col2\" >0.955693</td>\n",
       "                        <td id=\"T_f1753504_f8fc_11ea_ba83_525400fc9c74row1_col3\" class=\"data row1 col3\" >0.619702</td>\n",
       "                        <td id=\"T_f1753504_f8fc_11ea_ba83_525400fc9c74row1_col4\" class=\"data row1 col4\" >-0.029230</td>\n",
       "                        <td id=\"T_f1753504_f8fc_11ea_ba83_525400fc9c74row1_col5\" class=\"data row1 col5\" >-0.165179</td>\n",
       "                        <td id=\"T_f1753504_f8fc_11ea_ba83_525400fc9c74row1_col6\" class=\"data row1 col6\" >-0.092123</td>\n",
       "                        <td id=\"T_f1753504_f8fc_11ea_ba83_525400fc9c74row1_col7\" class=\"data row1 col7\" >-0.286062</td>\n",
       "                        <td id=\"T_f1753504_f8fc_11ea_ba83_525400fc9c74row1_col8\" class=\"data row1 col8\" >-0.290102</td>\n",
       "                        <td id=\"T_f1753504_f8fc_11ea_ba83_525400fc9c74row1_col9\" class=\"data row1 col9\" >-0.220344</td>\n",
       "                        <td id=\"T_f1753504_f8fc_11ea_ba83_525400fc9c74row1_col10\" class=\"data row1 col10\" >0.153767</td>\n",
       "                        <td id=\"T_f1753504_f8fc_11ea_ba83_525400fc9c74row1_col11\" class=\"data row1 col11\" >-0.012248</td>\n",
       "                        <td id=\"T_f1753504_f8fc_11ea_ba83_525400fc9c74row1_col12\" class=\"data row1 col12\" >0.129374</td>\n",
       "                        <td id=\"T_f1753504_f8fc_11ea_ba83_525400fc9c74row1_col13\" class=\"data row1 col13\" >-0.335743</td>\n",
       "                        <td id=\"T_f1753504_f8fc_11ea_ba83_525400fc9c74row1_col14\" class=\"data row1 col14\" >-0.315891</td>\n",
       "                        <td id=\"T_f1753504_f8fc_11ea_ba83_525400fc9c74row1_col15\" class=\"data row1 col15\" >0.012722</td>\n",
       "                        <td id=\"T_f1753504_f8fc_11ea_ba83_525400fc9c74row1_col16\" class=\"data row1 col16\" >-0.113527</td>\n",
       "            </tr>\n",
       "            <tr>\n",
       "                        <th id=\"T_f1753504_f8fc_11ea_ba83_525400fc9c74level0_row2\" class=\"row_heading level0 row2\" >kappa</th>\n",
       "                        <td id=\"T_f1753504_f8fc_11ea_ba83_525400fc9c74row2_col0\" class=\"data row2 col0\" >-0.214755</td>\n",
       "                        <td id=\"T_f1753504_f8fc_11ea_ba83_525400fc9c74row2_col1\" class=\"data row2 col1\" >0.955693</td>\n",
       "                        <td id=\"T_f1753504_f8fc_11ea_ba83_525400fc9c74row2_col2\" class=\"data row2 col2\" >1.000000</td>\n",
       "                        <td id=\"T_f1753504_f8fc_11ea_ba83_525400fc9c74row2_col3\" class=\"data row2 col3\" >0.646604</td>\n",
       "                        <td id=\"T_f1753504_f8fc_11ea_ba83_525400fc9c74row2_col4\" class=\"data row2 col4\" >-0.091504</td>\n",
       "                        <td id=\"T_f1753504_f8fc_11ea_ba83_525400fc9c74row2_col5\" class=\"data row2 col5\" >-0.201904</td>\n",
       "                        <td id=\"T_f1753504_f8fc_11ea_ba83_525400fc9c74row2_col6\" class=\"data row2 col6\" >-0.136775</td>\n",
       "                        <td id=\"T_f1753504_f8fc_11ea_ba83_525400fc9c74row2_col7\" class=\"data row2 col7\" >-0.312543</td>\n",
       "                        <td id=\"T_f1753504_f8fc_11ea_ba83_525400fc9c74row2_col8\" class=\"data row2 col8\" >-0.270932</td>\n",
       "                        <td id=\"T_f1753504_f8fc_11ea_ba83_525400fc9c74row2_col9\" class=\"data row2 col9\" >-0.199754</td>\n",
       "                        <td id=\"T_f1753504_f8fc_11ea_ba83_525400fc9c74row2_col10\" class=\"data row2 col10\" >0.154261</td>\n",
       "                        <td id=\"T_f1753504_f8fc_11ea_ba83_525400fc9c74row2_col11\" class=\"data row2 col11\" >-0.004012</td>\n",
       "                        <td id=\"T_f1753504_f8fc_11ea_ba83_525400fc9c74row2_col12\" class=\"data row2 col12\" >0.166958</td>\n",
       "                        <td id=\"T_f1753504_f8fc_11ea_ba83_525400fc9c74row2_col13\" class=\"data row2 col13\" >-0.363623</td>\n",
       "                        <td id=\"T_f1753504_f8fc_11ea_ba83_525400fc9c74row2_col14\" class=\"data row2 col14\" >-0.234349</td>\n",
       "                        <td id=\"T_f1753504_f8fc_11ea_ba83_525400fc9c74row2_col15\" class=\"data row2 col15\" >-0.002275</td>\n",
       "                        <td id=\"T_f1753504_f8fc_11ea_ba83_525400fc9c74row2_col16\" class=\"data row2 col16\" >-0.155509</td>\n",
       "            </tr>\n",
       "            <tr>\n",
       "                        <th id=\"T_f1753504_f8fc_11ea_ba83_525400fc9c74level0_row3\" class=\"row_heading level0 row3\" >rho</th>\n",
       "                        <td id=\"T_f1753504_f8fc_11ea_ba83_525400fc9c74row3_col0\" class=\"data row3 col0\" >0.433633</td>\n",
       "                        <td id=\"T_f1753504_f8fc_11ea_ba83_525400fc9c74row3_col1\" class=\"data row3 col1\" >0.619702</td>\n",
       "                        <td id=\"T_f1753504_f8fc_11ea_ba83_525400fc9c74row3_col2\" class=\"data row3 col2\" >0.646604</td>\n",
       "                        <td id=\"T_f1753504_f8fc_11ea_ba83_525400fc9c74row3_col3\" class=\"data row3 col3\" >1.000000</td>\n",
       "                        <td id=\"T_f1753504_f8fc_11ea_ba83_525400fc9c74row3_col4\" class=\"data row3 col4\" >0.036270</td>\n",
       "                        <td id=\"T_f1753504_f8fc_11ea_ba83_525400fc9c74row3_col5\" class=\"data row3 col5\" >-0.103071</td>\n",
       "                        <td id=\"T_f1753504_f8fc_11ea_ba83_525400fc9c74row3_col6\" class=\"data row3 col6\" >-0.079416</td>\n",
       "                        <td id=\"T_f1753504_f8fc_11ea_ba83_525400fc9c74row3_col7\" class=\"data row3 col7\" >-0.321952</td>\n",
       "                        <td id=\"T_f1753504_f8fc_11ea_ba83_525400fc9c74row3_col8\" class=\"data row3 col8\" >-0.297113</td>\n",
       "                        <td id=\"T_f1753504_f8fc_11ea_ba83_525400fc9c74row3_col9\" class=\"data row3 col9\" >-0.216488</td>\n",
       "                        <td id=\"T_f1753504_f8fc_11ea_ba83_525400fc9c74row3_col10\" class=\"data row3 col10\" >0.109679</td>\n",
       "                        <td id=\"T_f1753504_f8fc_11ea_ba83_525400fc9c74row3_col11\" class=\"data row3 col11\" >-0.078017</td>\n",
       "                        <td id=\"T_f1753504_f8fc_11ea_ba83_525400fc9c74row3_col12\" class=\"data row3 col12\" >-0.048571</td>\n",
       "                        <td id=\"T_f1753504_f8fc_11ea_ba83_525400fc9c74row3_col13\" class=\"data row3 col13\" >-0.347028</td>\n",
       "                        <td id=\"T_f1753504_f8fc_11ea_ba83_525400fc9c74row3_col14\" class=\"data row3 col14\" >-0.425299</td>\n",
       "                        <td id=\"T_f1753504_f8fc_11ea_ba83_525400fc9c74row3_col15\" class=\"data row3 col15\" >-0.218992</td>\n",
       "                        <td id=\"T_f1753504_f8fc_11ea_ba83_525400fc9c74row3_col16\" class=\"data row3 col16\" >-0.134222</td>\n",
       "            </tr>\n",
       "            <tr>\n",
       "                        <th id=\"T_f1753504_f8fc_11ea_ba83_525400fc9c74level0_row4\" class=\"row_heading level0 row4\" >sigma</th>\n",
       "                        <td id=\"T_f1753504_f8fc_11ea_ba83_525400fc9c74row4_col0\" class=\"data row4 col0\" >-0.210675</td>\n",
       "                        <td id=\"T_f1753504_f8fc_11ea_ba83_525400fc9c74row4_col1\" class=\"data row4 col1\" >-0.029230</td>\n",
       "                        <td id=\"T_f1753504_f8fc_11ea_ba83_525400fc9c74row4_col2\" class=\"data row4 col2\" >-0.091504</td>\n",
       "                        <td id=\"T_f1753504_f8fc_11ea_ba83_525400fc9c74row4_col3\" class=\"data row4 col3\" >0.036270</td>\n",
       "                        <td id=\"T_f1753504_f8fc_11ea_ba83_525400fc9c74row4_col4\" class=\"data row4 col4\" >1.000000</td>\n",
       "                        <td id=\"T_f1753504_f8fc_11ea_ba83_525400fc9c74row4_col5\" class=\"data row4 col5\" >0.271883</td>\n",
       "                        <td id=\"T_f1753504_f8fc_11ea_ba83_525400fc9c74row4_col6\" class=\"data row4 col6\" >0.077269</td>\n",
       "                        <td id=\"T_f1753504_f8fc_11ea_ba83_525400fc9c74row4_col7\" class=\"data row4 col7\" >0.072177</td>\n",
       "                        <td id=\"T_f1753504_f8fc_11ea_ba83_525400fc9c74row4_col8\" class=\"data row4 col8\" >-0.083705</td>\n",
       "                        <td id=\"T_f1753504_f8fc_11ea_ba83_525400fc9c74row4_col9\" class=\"data row4 col9\" >0.068517</td>\n",
       "                        <td id=\"T_f1753504_f8fc_11ea_ba83_525400fc9c74row4_col10\" class=\"data row4 col10\" >0.090210</td>\n",
       "                        <td id=\"T_f1753504_f8fc_11ea_ba83_525400fc9c74row4_col11\" class=\"data row4 col11\" >0.013405</td>\n",
       "                        <td id=\"T_f1753504_f8fc_11ea_ba83_525400fc9c74row4_col12\" class=\"data row4 col12\" >-0.001494</td>\n",
       "                        <td id=\"T_f1753504_f8fc_11ea_ba83_525400fc9c74row4_col13\" class=\"data row4 col13\" >0.089146</td>\n",
       "                        <td id=\"T_f1753504_f8fc_11ea_ba83_525400fc9c74row4_col14\" class=\"data row4 col14\" >-0.135003</td>\n",
       "                        <td id=\"T_f1753504_f8fc_11ea_ba83_525400fc9c74row4_col15\" class=\"data row4 col15\" >0.105688</td>\n",
       "                        <td id=\"T_f1753504_f8fc_11ea_ba83_525400fc9c74row4_col16\" class=\"data row4 col16\" >0.147881</td>\n",
       "            </tr>\n",
       "            <tr>\n",
       "                        <th id=\"T_f1753504_f8fc_11ea_ba83_525400fc9c74level0_row5\" class=\"row_heading level0 row5\" >School_closing</th>\n",
       "                        <td id=\"T_f1753504_f8fc_11ea_ba83_525400fc9c74row5_col0\" class=\"data row5 col0\" >-0.088511</td>\n",
       "                        <td id=\"T_f1753504_f8fc_11ea_ba83_525400fc9c74row5_col1\" class=\"data row5 col1\" >-0.165179</td>\n",
       "                        <td id=\"T_f1753504_f8fc_11ea_ba83_525400fc9c74row5_col2\" class=\"data row5 col2\" >-0.201904</td>\n",
       "                        <td id=\"T_f1753504_f8fc_11ea_ba83_525400fc9c74row5_col3\" class=\"data row5 col3\" >-0.103071</td>\n",
       "                        <td id=\"T_f1753504_f8fc_11ea_ba83_525400fc9c74row5_col4\" class=\"data row5 col4\" >0.271883</td>\n",
       "                        <td id=\"T_f1753504_f8fc_11ea_ba83_525400fc9c74row5_col5\" class=\"data row5 col5\" >1.000000</td>\n",
       "                        <td id=\"T_f1753504_f8fc_11ea_ba83_525400fc9c74row5_col6\" class=\"data row5 col6\" >0.723543</td>\n",
       "                        <td id=\"T_f1753504_f8fc_11ea_ba83_525400fc9c74row5_col7\" class=\"data row5 col7\" >0.652896</td>\n",
       "                        <td id=\"T_f1753504_f8fc_11ea_ba83_525400fc9c74row5_col8\" class=\"data row5 col8\" >0.646069</td>\n",
       "                        <td id=\"T_f1753504_f8fc_11ea_ba83_525400fc9c74row5_col9\" class=\"data row5 col9\" >0.557933</td>\n",
       "                        <td id=\"T_f1753504_f8fc_11ea_ba83_525400fc9c74row5_col10\" class=\"data row5 col10\" >0.605892</td>\n",
       "                        <td id=\"T_f1753504_f8fc_11ea_ba83_525400fc9c74row5_col11\" class=\"data row5 col11\" >0.577697</td>\n",
       "                        <td id=\"T_f1753504_f8fc_11ea_ba83_525400fc9c74row5_col12\" class=\"data row5 col12\" >0.474085</td>\n",
       "                        <td id=\"T_f1753504_f8fc_11ea_ba83_525400fc9c74row5_col13\" class=\"data row5 col13\" >0.643394</td>\n",
       "                        <td id=\"T_f1753504_f8fc_11ea_ba83_525400fc9c74row5_col14\" class=\"data row5 col14\" >0.327071</td>\n",
       "                        <td id=\"T_f1753504_f8fc_11ea_ba83_525400fc9c74row5_col15\" class=\"data row5 col15\" >0.204727</td>\n",
       "                        <td id=\"T_f1753504_f8fc_11ea_ba83_525400fc9c74row5_col16\" class=\"data row5 col16\" >0.822260</td>\n",
       "            </tr>\n",
       "            <tr>\n",
       "                        <th id=\"T_f1753504_f8fc_11ea_ba83_525400fc9c74level0_row6\" class=\"row_heading level0 row6\" >Workplace_closing</th>\n",
       "                        <td id=\"T_f1753504_f8fc_11ea_ba83_525400fc9c74row6_col0\" class=\"data row6 col0\" >-0.020097</td>\n",
       "                        <td id=\"T_f1753504_f8fc_11ea_ba83_525400fc9c74row6_col1\" class=\"data row6 col1\" >-0.092123</td>\n",
       "                        <td id=\"T_f1753504_f8fc_11ea_ba83_525400fc9c74row6_col2\" class=\"data row6 col2\" >-0.136775</td>\n",
       "                        <td id=\"T_f1753504_f8fc_11ea_ba83_525400fc9c74row6_col3\" class=\"data row6 col3\" >-0.079416</td>\n",
       "                        <td id=\"T_f1753504_f8fc_11ea_ba83_525400fc9c74row6_col4\" class=\"data row6 col4\" >0.077269</td>\n",
       "                        <td id=\"T_f1753504_f8fc_11ea_ba83_525400fc9c74row6_col5\" class=\"data row6 col5\" >0.723543</td>\n",
       "                        <td id=\"T_f1753504_f8fc_11ea_ba83_525400fc9c74row6_col6\" class=\"data row6 col6\" >1.000000</td>\n",
       "                        <td id=\"T_f1753504_f8fc_11ea_ba83_525400fc9c74row6_col7\" class=\"data row6 col7\" >0.680727</td>\n",
       "                        <td id=\"T_f1753504_f8fc_11ea_ba83_525400fc9c74row6_col8\" class=\"data row6 col8\" >0.764332</td>\n",
       "                        <td id=\"T_f1753504_f8fc_11ea_ba83_525400fc9c74row6_col9\" class=\"data row6 col9\" >0.527210</td>\n",
       "                        <td id=\"T_f1753504_f8fc_11ea_ba83_525400fc9c74row6_col10\" class=\"data row6 col10\" >0.648812</td>\n",
       "                        <td id=\"T_f1753504_f8fc_11ea_ba83_525400fc9c74row6_col11\" class=\"data row6 col11\" >0.620116</td>\n",
       "                        <td id=\"T_f1753504_f8fc_11ea_ba83_525400fc9c74row6_col12\" class=\"data row6 col12\" >0.481966</td>\n",
       "                        <td id=\"T_f1753504_f8fc_11ea_ba83_525400fc9c74row6_col13\" class=\"data row6 col13\" >0.731422</td>\n",
       "                        <td id=\"T_f1753504_f8fc_11ea_ba83_525400fc9c74row6_col14\" class=\"data row6 col14\" >0.391338</td>\n",
       "                        <td id=\"T_f1753504_f8fc_11ea_ba83_525400fc9c74row6_col15\" class=\"data row6 col15\" >0.263535</td>\n",
       "                        <td id=\"T_f1753504_f8fc_11ea_ba83_525400fc9c74row6_col16\" class=\"data row6 col16\" >0.859101</td>\n",
       "            </tr>\n",
       "            <tr>\n",
       "                        <th id=\"T_f1753504_f8fc_11ea_ba83_525400fc9c74level0_row7\" class=\"row_heading level0 row7\" >Cancel_events</th>\n",
       "                        <td id=\"T_f1753504_f8fc_11ea_ba83_525400fc9c74row7_col0\" class=\"data row7 col0\" >-0.045314</td>\n",
       "                        <td id=\"T_f1753504_f8fc_11ea_ba83_525400fc9c74row7_col1\" class=\"data row7 col1\" >-0.286062</td>\n",
       "                        <td id=\"T_f1753504_f8fc_11ea_ba83_525400fc9c74row7_col2\" class=\"data row7 col2\" >-0.312543</td>\n",
       "                        <td id=\"T_f1753504_f8fc_11ea_ba83_525400fc9c74row7_col3\" class=\"data row7 col3\" >-0.321952</td>\n",
       "                        <td id=\"T_f1753504_f8fc_11ea_ba83_525400fc9c74row7_col4\" class=\"data row7 col4\" >0.072177</td>\n",
       "                        <td id=\"T_f1753504_f8fc_11ea_ba83_525400fc9c74row7_col5\" class=\"data row7 col5\" >0.652896</td>\n",
       "                        <td id=\"T_f1753504_f8fc_11ea_ba83_525400fc9c74row7_col6\" class=\"data row7 col6\" >0.680727</td>\n",
       "                        <td id=\"T_f1753504_f8fc_11ea_ba83_525400fc9c74row7_col7\" class=\"data row7 col7\" >1.000000</td>\n",
       "                        <td id=\"T_f1753504_f8fc_11ea_ba83_525400fc9c74row7_col8\" class=\"data row7 col8\" >0.788134</td>\n",
       "                        <td id=\"T_f1753504_f8fc_11ea_ba83_525400fc9c74row7_col9\" class=\"data row7 col9\" >0.407450</td>\n",
       "                        <td id=\"T_f1753504_f8fc_11ea_ba83_525400fc9c74row7_col10\" class=\"data row7 col10\" >0.462709</td>\n",
       "                        <td id=\"T_f1753504_f8fc_11ea_ba83_525400fc9c74row7_col11\" class=\"data row7 col11\" >0.519202</td>\n",
       "                        <td id=\"T_f1753504_f8fc_11ea_ba83_525400fc9c74row7_col12\" class=\"data row7 col12\" >0.534376</td>\n",
       "                        <td id=\"T_f1753504_f8fc_11ea_ba83_525400fc9c74row7_col13\" class=\"data row7 col13\" >0.898744</td>\n",
       "                        <td id=\"T_f1753504_f8fc_11ea_ba83_525400fc9c74row7_col14\" class=\"data row7 col14\" >0.589156</td>\n",
       "                        <td id=\"T_f1753504_f8fc_11ea_ba83_525400fc9c74row7_col15\" class=\"data row7 col15\" >0.597401</td>\n",
       "                        <td id=\"T_f1753504_f8fc_11ea_ba83_525400fc9c74row7_col16\" class=\"data row7 col16\" >0.798237</td>\n",
       "            </tr>\n",
       "            <tr>\n",
       "                        <th id=\"T_f1753504_f8fc_11ea_ba83_525400fc9c74level0_row8\" class=\"row_heading level0 row8\" >Gatherings_restrictions</th>\n",
       "                        <td id=\"T_f1753504_f8fc_11ea_ba83_525400fc9c74row8_col0\" class=\"data row8 col0\" >-0.097104</td>\n",
       "                        <td id=\"T_f1753504_f8fc_11ea_ba83_525400fc9c74row8_col1\" class=\"data row8 col1\" >-0.290102</td>\n",
       "                        <td id=\"T_f1753504_f8fc_11ea_ba83_525400fc9c74row8_col2\" class=\"data row8 col2\" >-0.270932</td>\n",
       "                        <td id=\"T_f1753504_f8fc_11ea_ba83_525400fc9c74row8_col3\" class=\"data row8 col3\" >-0.297113</td>\n",
       "                        <td id=\"T_f1753504_f8fc_11ea_ba83_525400fc9c74row8_col4\" class=\"data row8 col4\" >-0.083705</td>\n",
       "                        <td id=\"T_f1753504_f8fc_11ea_ba83_525400fc9c74row8_col5\" class=\"data row8 col5\" >0.646069</td>\n",
       "                        <td id=\"T_f1753504_f8fc_11ea_ba83_525400fc9c74row8_col6\" class=\"data row8 col6\" >0.764332</td>\n",
       "                        <td id=\"T_f1753504_f8fc_11ea_ba83_525400fc9c74row8_col7\" class=\"data row8 col7\" >0.788134</td>\n",
       "                        <td id=\"T_f1753504_f8fc_11ea_ba83_525400fc9c74row8_col8\" class=\"data row8 col8\" >1.000000</td>\n",
       "                        <td id=\"T_f1753504_f8fc_11ea_ba83_525400fc9c74row8_col9\" class=\"data row8 col9\" >0.634251</td>\n",
       "                        <td id=\"T_f1753504_f8fc_11ea_ba83_525400fc9c74row8_col10\" class=\"data row8 col10\" >0.626020</td>\n",
       "                        <td id=\"T_f1753504_f8fc_11ea_ba83_525400fc9c74row8_col11\" class=\"data row8 col11\" >0.690073</td>\n",
       "                        <td id=\"T_f1753504_f8fc_11ea_ba83_525400fc9c74row8_col12\" class=\"data row8 col12\" >0.601703</td>\n",
       "                        <td id=\"T_f1753504_f8fc_11ea_ba83_525400fc9c74row8_col13\" class=\"data row8 col13\" >0.801350</td>\n",
       "                        <td id=\"T_f1753504_f8fc_11ea_ba83_525400fc9c74row8_col14\" class=\"data row8 col14\" >0.576696</td>\n",
       "                        <td id=\"T_f1753504_f8fc_11ea_ba83_525400fc9c74row8_col15\" class=\"data row8 col15\" >0.371419</td>\n",
       "                        <td id=\"T_f1753504_f8fc_11ea_ba83_525400fc9c74row8_col16\" class=\"data row8 col16\" >0.863628</td>\n",
       "            </tr>\n",
       "            <tr>\n",
       "                        <th id=\"T_f1753504_f8fc_11ea_ba83_525400fc9c74level0_row9\" class=\"row_heading level0 row9\" >Transport_closing</th>\n",
       "                        <td id=\"T_f1753504_f8fc_11ea_ba83_525400fc9c74row9_col0\" class=\"data row9 col0\" >-0.169870</td>\n",
       "                        <td id=\"T_f1753504_f8fc_11ea_ba83_525400fc9c74row9_col1\" class=\"data row9 col1\" >-0.220344</td>\n",
       "                        <td id=\"T_f1753504_f8fc_11ea_ba83_525400fc9c74row9_col2\" class=\"data row9 col2\" >-0.199754</td>\n",
       "                        <td id=\"T_f1753504_f8fc_11ea_ba83_525400fc9c74row9_col3\" class=\"data row9 col3\" >-0.216488</td>\n",
       "                        <td id=\"T_f1753504_f8fc_11ea_ba83_525400fc9c74row9_col4\" class=\"data row9 col4\" >0.068517</td>\n",
       "                        <td id=\"T_f1753504_f8fc_11ea_ba83_525400fc9c74row9_col5\" class=\"data row9 col5\" >0.557933</td>\n",
       "                        <td id=\"T_f1753504_f8fc_11ea_ba83_525400fc9c74row9_col6\" class=\"data row9 col6\" >0.527210</td>\n",
       "                        <td id=\"T_f1753504_f8fc_11ea_ba83_525400fc9c74row9_col7\" class=\"data row9 col7\" >0.407450</td>\n",
       "                        <td id=\"T_f1753504_f8fc_11ea_ba83_525400fc9c74row9_col8\" class=\"data row9 col8\" >0.634251</td>\n",
       "                        <td id=\"T_f1753504_f8fc_11ea_ba83_525400fc9c74row9_col9\" class=\"data row9 col9\" >1.000000</td>\n",
       "                        <td id=\"T_f1753504_f8fc_11ea_ba83_525400fc9c74row9_col10\" class=\"data row9 col10\" >0.657770</td>\n",
       "                        <td id=\"T_f1753504_f8fc_11ea_ba83_525400fc9c74row9_col11\" class=\"data row9 col11\" >0.721799</td>\n",
       "                        <td id=\"T_f1753504_f8fc_11ea_ba83_525400fc9c74row9_col12\" class=\"data row9 col12\" >0.501202</td>\n",
       "                        <td id=\"T_f1753504_f8fc_11ea_ba83_525400fc9c74row9_col13\" class=\"data row9 col13\" >0.435512</td>\n",
       "                        <td id=\"T_f1753504_f8fc_11ea_ba83_525400fc9c74row9_col14\" class=\"data row9 col14\" >0.335935</td>\n",
       "                        <td id=\"T_f1753504_f8fc_11ea_ba83_525400fc9c74row9_col15\" class=\"data row9 col15\" >0.124315</td>\n",
       "                        <td id=\"T_f1753504_f8fc_11ea_ba83_525400fc9c74row9_col16\" class=\"data row9 col16\" >0.724809</td>\n",
       "            </tr>\n",
       "            <tr>\n",
       "                        <th id=\"T_f1753504_f8fc_11ea_ba83_525400fc9c74level0_row10\" class=\"row_heading level0 row10\" >Stay_home_restrictions</th>\n",
       "                        <td id=\"T_f1753504_f8fc_11ea_ba83_525400fc9c74row10_col0\" class=\"data row10 col0\" >-0.188269</td>\n",
       "                        <td id=\"T_f1753504_f8fc_11ea_ba83_525400fc9c74row10_col1\" class=\"data row10 col1\" >0.153767</td>\n",
       "                        <td id=\"T_f1753504_f8fc_11ea_ba83_525400fc9c74row10_col2\" class=\"data row10 col2\" >0.154261</td>\n",
       "                        <td id=\"T_f1753504_f8fc_11ea_ba83_525400fc9c74row10_col3\" class=\"data row10 col3\" >0.109679</td>\n",
       "                        <td id=\"T_f1753504_f8fc_11ea_ba83_525400fc9c74row10_col4\" class=\"data row10 col4\" >0.090210</td>\n",
       "                        <td id=\"T_f1753504_f8fc_11ea_ba83_525400fc9c74row10_col5\" class=\"data row10 col5\" >0.605892</td>\n",
       "                        <td id=\"T_f1753504_f8fc_11ea_ba83_525400fc9c74row10_col6\" class=\"data row10 col6\" >0.648812</td>\n",
       "                        <td id=\"T_f1753504_f8fc_11ea_ba83_525400fc9c74row10_col7\" class=\"data row10 col7\" >0.462709</td>\n",
       "                        <td id=\"T_f1753504_f8fc_11ea_ba83_525400fc9c74row10_col8\" class=\"data row10 col8\" >0.626020</td>\n",
       "                        <td id=\"T_f1753504_f8fc_11ea_ba83_525400fc9c74row10_col9\" class=\"data row10 col9\" >0.657770</td>\n",
       "                        <td id=\"T_f1753504_f8fc_11ea_ba83_525400fc9c74row10_col10\" class=\"data row10 col10\" >1.000000</td>\n",
       "                        <td id=\"T_f1753504_f8fc_11ea_ba83_525400fc9c74row10_col11\" class=\"data row10 col11\" >0.808660</td>\n",
       "                        <td id=\"T_f1753504_f8fc_11ea_ba83_525400fc9c74row10_col12\" class=\"data row10 col12\" >0.580209</td>\n",
       "                        <td id=\"T_f1753504_f8fc_11ea_ba83_525400fc9c74row10_col13\" class=\"data row10 col13\" >0.431855</td>\n",
       "                        <td id=\"T_f1753504_f8fc_11ea_ba83_525400fc9c74row10_col14\" class=\"data row10 col14\" >0.298676</td>\n",
       "                        <td id=\"T_f1753504_f8fc_11ea_ba83_525400fc9c74row10_col15\" class=\"data row10 col15\" >0.333436</td>\n",
       "                        <td id=\"T_f1753504_f8fc_11ea_ba83_525400fc9c74row10_col16\" class=\"data row10 col16\" >0.784988</td>\n",
       "            </tr>\n",
       "            <tr>\n",
       "                        <th id=\"T_f1753504_f8fc_11ea_ba83_525400fc9c74level0_row11\" class=\"row_heading level0 row11\" >Internal_movement_restrictions</th>\n",
       "                        <td id=\"T_f1753504_f8fc_11ea_ba83_525400fc9c74row11_col0\" class=\"data row11 col0\" >-0.187269</td>\n",
       "                        <td id=\"T_f1753504_f8fc_11ea_ba83_525400fc9c74row11_col1\" class=\"data row11 col1\" >-0.012248</td>\n",
       "                        <td id=\"T_f1753504_f8fc_11ea_ba83_525400fc9c74row11_col2\" class=\"data row11 col2\" >-0.004012</td>\n",
       "                        <td id=\"T_f1753504_f8fc_11ea_ba83_525400fc9c74row11_col3\" class=\"data row11 col3\" >-0.078017</td>\n",
       "                        <td id=\"T_f1753504_f8fc_11ea_ba83_525400fc9c74row11_col4\" class=\"data row11 col4\" >0.013405</td>\n",
       "                        <td id=\"T_f1753504_f8fc_11ea_ba83_525400fc9c74row11_col5\" class=\"data row11 col5\" >0.577697</td>\n",
       "                        <td id=\"T_f1753504_f8fc_11ea_ba83_525400fc9c74row11_col6\" class=\"data row11 col6\" >0.620116</td>\n",
       "                        <td id=\"T_f1753504_f8fc_11ea_ba83_525400fc9c74row11_col7\" class=\"data row11 col7\" >0.519202</td>\n",
       "                        <td id=\"T_f1753504_f8fc_11ea_ba83_525400fc9c74row11_col8\" class=\"data row11 col8\" >0.690073</td>\n",
       "                        <td id=\"T_f1753504_f8fc_11ea_ba83_525400fc9c74row11_col9\" class=\"data row11 col9\" >0.721799</td>\n",
       "                        <td id=\"T_f1753504_f8fc_11ea_ba83_525400fc9c74row11_col10\" class=\"data row11 col10\" >0.808660</td>\n",
       "                        <td id=\"T_f1753504_f8fc_11ea_ba83_525400fc9c74row11_col11\" class=\"data row11 col11\" >1.000000</td>\n",
       "                        <td id=\"T_f1753504_f8fc_11ea_ba83_525400fc9c74row11_col12\" class=\"data row11 col12\" >0.534137</td>\n",
       "                        <td id=\"T_f1753504_f8fc_11ea_ba83_525400fc9c74row11_col13\" class=\"data row11 col13\" >0.478416</td>\n",
       "                        <td id=\"T_f1753504_f8fc_11ea_ba83_525400fc9c74row11_col14\" class=\"data row11 col14\" >0.366341</td>\n",
       "                        <td id=\"T_f1753504_f8fc_11ea_ba83_525400fc9c74row11_col15\" class=\"data row11 col15\" >0.281883</td>\n",
       "                        <td id=\"T_f1753504_f8fc_11ea_ba83_525400fc9c74row11_col16\" class=\"data row11 col16\" >0.765066</td>\n",
       "            </tr>\n",
       "            <tr>\n",
       "                        <th id=\"T_f1753504_f8fc_11ea_ba83_525400fc9c74level0_row12\" class=\"row_heading level0 row12\" >International_movement_restrictions</th>\n",
       "                        <td id=\"T_f1753504_f8fc_11ea_ba83_525400fc9c74row12_col0\" class=\"data row12 col0\" >-0.240803</td>\n",
       "                        <td id=\"T_f1753504_f8fc_11ea_ba83_525400fc9c74row12_col1\" class=\"data row12 col1\" >0.129374</td>\n",
       "                        <td id=\"T_f1753504_f8fc_11ea_ba83_525400fc9c74row12_col2\" class=\"data row12 col2\" >0.166958</td>\n",
       "                        <td id=\"T_f1753504_f8fc_11ea_ba83_525400fc9c74row12_col3\" class=\"data row12 col3\" >-0.048571</td>\n",
       "                        <td id=\"T_f1753504_f8fc_11ea_ba83_525400fc9c74row12_col4\" class=\"data row12 col4\" >-0.001494</td>\n",
       "                        <td id=\"T_f1753504_f8fc_11ea_ba83_525400fc9c74row12_col5\" class=\"data row12 col5\" >0.474085</td>\n",
       "                        <td id=\"T_f1753504_f8fc_11ea_ba83_525400fc9c74row12_col6\" class=\"data row12 col6\" >0.481966</td>\n",
       "                        <td id=\"T_f1753504_f8fc_11ea_ba83_525400fc9c74row12_col7\" class=\"data row12 col7\" >0.534376</td>\n",
       "                        <td id=\"T_f1753504_f8fc_11ea_ba83_525400fc9c74row12_col8\" class=\"data row12 col8\" >0.601703</td>\n",
       "                        <td id=\"T_f1753504_f8fc_11ea_ba83_525400fc9c74row12_col9\" class=\"data row12 col9\" >0.501202</td>\n",
       "                        <td id=\"T_f1753504_f8fc_11ea_ba83_525400fc9c74row12_col10\" class=\"data row12 col10\" >0.580209</td>\n",
       "                        <td id=\"T_f1753504_f8fc_11ea_ba83_525400fc9c74row12_col11\" class=\"data row12 col11\" >0.534137</td>\n",
       "                        <td id=\"T_f1753504_f8fc_11ea_ba83_525400fc9c74row12_col12\" class=\"data row12 col12\" >1.000000</td>\n",
       "                        <td id=\"T_f1753504_f8fc_11ea_ba83_525400fc9c74row12_col13\" class=\"data row12 col13\" >0.495985</td>\n",
       "                        <td id=\"T_f1753504_f8fc_11ea_ba83_525400fc9c74row12_col14\" class=\"data row12 col14\" >0.446253</td>\n",
       "                        <td id=\"T_f1753504_f8fc_11ea_ba83_525400fc9c74row12_col15\" class=\"data row12 col15\" >0.485255</td>\n",
       "                        <td id=\"T_f1753504_f8fc_11ea_ba83_525400fc9c74row12_col16\" class=\"data row12 col16\" >0.683759</td>\n",
       "            </tr>\n",
       "            <tr>\n",
       "                        <th id=\"T_f1753504_f8fc_11ea_ba83_525400fc9c74level0_row13\" class=\"row_heading level0 row13\" >Information_campaigns</th>\n",
       "                        <td id=\"T_f1753504_f8fc_11ea_ba83_525400fc9c74row13_col0\" class=\"data row13 col0\" >-0.027385</td>\n",
       "                        <td id=\"T_f1753504_f8fc_11ea_ba83_525400fc9c74row13_col1\" class=\"data row13 col1\" >-0.335743</td>\n",
       "                        <td id=\"T_f1753504_f8fc_11ea_ba83_525400fc9c74row13_col2\" class=\"data row13 col2\" >-0.363623</td>\n",
       "                        <td id=\"T_f1753504_f8fc_11ea_ba83_525400fc9c74row13_col3\" class=\"data row13 col3\" >-0.347028</td>\n",
       "                        <td id=\"T_f1753504_f8fc_11ea_ba83_525400fc9c74row13_col4\" class=\"data row13 col4\" >0.089146</td>\n",
       "                        <td id=\"T_f1753504_f8fc_11ea_ba83_525400fc9c74row13_col5\" class=\"data row13 col5\" >0.643394</td>\n",
       "                        <td id=\"T_f1753504_f8fc_11ea_ba83_525400fc9c74row13_col6\" class=\"data row13 col6\" >0.731422</td>\n",
       "                        <td id=\"T_f1753504_f8fc_11ea_ba83_525400fc9c74row13_col7\" class=\"data row13 col7\" >0.898744</td>\n",
       "                        <td id=\"T_f1753504_f8fc_11ea_ba83_525400fc9c74row13_col8\" class=\"data row13 col8\" >0.801350</td>\n",
       "                        <td id=\"T_f1753504_f8fc_11ea_ba83_525400fc9c74row13_col9\" class=\"data row13 col9\" >0.435512</td>\n",
       "                        <td id=\"T_f1753504_f8fc_11ea_ba83_525400fc9c74row13_col10\" class=\"data row13 col10\" >0.431855</td>\n",
       "                        <td id=\"T_f1753504_f8fc_11ea_ba83_525400fc9c74row13_col11\" class=\"data row13 col11\" >0.478416</td>\n",
       "                        <td id=\"T_f1753504_f8fc_11ea_ba83_525400fc9c74row13_col12\" class=\"data row13 col12\" >0.495985</td>\n",
       "                        <td id=\"T_f1753504_f8fc_11ea_ba83_525400fc9c74row13_col13\" class=\"data row13 col13\" >1.000000</td>\n",
       "                        <td id=\"T_f1753504_f8fc_11ea_ba83_525400fc9c74row13_col14\" class=\"data row13 col14\" >0.587624</td>\n",
       "                        <td id=\"T_f1753504_f8fc_11ea_ba83_525400fc9c74row13_col15\" class=\"data row13 col15\" >0.550170</td>\n",
       "                        <td id=\"T_f1753504_f8fc_11ea_ba83_525400fc9c74row13_col16\" class=\"data row13 col16\" >0.803971</td>\n",
       "            </tr>\n",
       "            <tr>\n",
       "                        <th id=\"T_f1753504_f8fc_11ea_ba83_525400fc9c74level0_row14\" class=\"row_heading level0 row14\" >Testing_policy</th>\n",
       "                        <td id=\"T_f1753504_f8fc_11ea_ba83_525400fc9c74row14_col0\" class=\"data row14 col0\" >-0.166347</td>\n",
       "                        <td id=\"T_f1753504_f8fc_11ea_ba83_525400fc9c74row14_col1\" class=\"data row14 col1\" >-0.315891</td>\n",
       "                        <td id=\"T_f1753504_f8fc_11ea_ba83_525400fc9c74row14_col2\" class=\"data row14 col2\" >-0.234349</td>\n",
       "                        <td id=\"T_f1753504_f8fc_11ea_ba83_525400fc9c74row14_col3\" class=\"data row14 col3\" >-0.425299</td>\n",
       "                        <td id=\"T_f1753504_f8fc_11ea_ba83_525400fc9c74row14_col4\" class=\"data row14 col4\" >-0.135003</td>\n",
       "                        <td id=\"T_f1753504_f8fc_11ea_ba83_525400fc9c74row14_col5\" class=\"data row14 col5\" >0.327071</td>\n",
       "                        <td id=\"T_f1753504_f8fc_11ea_ba83_525400fc9c74row14_col6\" class=\"data row14 col6\" >0.391338</td>\n",
       "                        <td id=\"T_f1753504_f8fc_11ea_ba83_525400fc9c74row14_col7\" class=\"data row14 col7\" >0.589156</td>\n",
       "                        <td id=\"T_f1753504_f8fc_11ea_ba83_525400fc9c74row14_col8\" class=\"data row14 col8\" >0.576696</td>\n",
       "                        <td id=\"T_f1753504_f8fc_11ea_ba83_525400fc9c74row14_col9\" class=\"data row14 col9\" >0.335935</td>\n",
       "                        <td id=\"T_f1753504_f8fc_11ea_ba83_525400fc9c74row14_col10\" class=\"data row14 col10\" >0.298676</td>\n",
       "                        <td id=\"T_f1753504_f8fc_11ea_ba83_525400fc9c74row14_col11\" class=\"data row14 col11\" >0.366341</td>\n",
       "                        <td id=\"T_f1753504_f8fc_11ea_ba83_525400fc9c74row14_col12\" class=\"data row14 col12\" >0.446253</td>\n",
       "                        <td id=\"T_f1753504_f8fc_11ea_ba83_525400fc9c74row14_col13\" class=\"data row14 col13\" >0.587624</td>\n",
       "                        <td id=\"T_f1753504_f8fc_11ea_ba83_525400fc9c74row14_col14\" class=\"data row14 col14\" >1.000000</td>\n",
       "                        <td id=\"T_f1753504_f8fc_11ea_ba83_525400fc9c74row14_col15\" class=\"data row14 col15\" >0.424672</td>\n",
       "                        <td id=\"T_f1753504_f8fc_11ea_ba83_525400fc9c74row14_col16\" class=\"data row14 col16\" >0.402641</td>\n",
       "            </tr>\n",
       "            <tr>\n",
       "                        <th id=\"T_f1753504_f8fc_11ea_ba83_525400fc9c74level0_row15\" class=\"row_heading level0 row15\" >Contact_tracing</th>\n",
       "                        <td id=\"T_f1753504_f8fc_11ea_ba83_525400fc9c74row15_col0\" class=\"data row15 col0\" >-0.233878</td>\n",
       "                        <td id=\"T_f1753504_f8fc_11ea_ba83_525400fc9c74row15_col1\" class=\"data row15 col1\" >0.012722</td>\n",
       "                        <td id=\"T_f1753504_f8fc_11ea_ba83_525400fc9c74row15_col2\" class=\"data row15 col2\" >-0.002275</td>\n",
       "                        <td id=\"T_f1753504_f8fc_11ea_ba83_525400fc9c74row15_col3\" class=\"data row15 col3\" >-0.218992</td>\n",
       "                        <td id=\"T_f1753504_f8fc_11ea_ba83_525400fc9c74row15_col4\" class=\"data row15 col4\" >0.105688</td>\n",
       "                        <td id=\"T_f1753504_f8fc_11ea_ba83_525400fc9c74row15_col5\" class=\"data row15 col5\" >0.204727</td>\n",
       "                        <td id=\"T_f1753504_f8fc_11ea_ba83_525400fc9c74row15_col6\" class=\"data row15 col6\" >0.263535</td>\n",
       "                        <td id=\"T_f1753504_f8fc_11ea_ba83_525400fc9c74row15_col7\" class=\"data row15 col7\" >0.597401</td>\n",
       "                        <td id=\"T_f1753504_f8fc_11ea_ba83_525400fc9c74row15_col8\" class=\"data row15 col8\" >0.371419</td>\n",
       "                        <td id=\"T_f1753504_f8fc_11ea_ba83_525400fc9c74row15_col9\" class=\"data row15 col9\" >0.124315</td>\n",
       "                        <td id=\"T_f1753504_f8fc_11ea_ba83_525400fc9c74row15_col10\" class=\"data row15 col10\" >0.333436</td>\n",
       "                        <td id=\"T_f1753504_f8fc_11ea_ba83_525400fc9c74row15_col11\" class=\"data row15 col11\" >0.281883</td>\n",
       "                        <td id=\"T_f1753504_f8fc_11ea_ba83_525400fc9c74row15_col12\" class=\"data row15 col12\" >0.485255</td>\n",
       "                        <td id=\"T_f1753504_f8fc_11ea_ba83_525400fc9c74row15_col13\" class=\"data row15 col13\" >0.550170</td>\n",
       "                        <td id=\"T_f1753504_f8fc_11ea_ba83_525400fc9c74row15_col14\" class=\"data row15 col14\" >0.424672</td>\n",
       "                        <td id=\"T_f1753504_f8fc_11ea_ba83_525400fc9c74row15_col15\" class=\"data row15 col15\" >1.000000</td>\n",
       "                        <td id=\"T_f1753504_f8fc_11ea_ba83_525400fc9c74row15_col16\" class=\"data row15 col16\" >0.424372</td>\n",
       "            </tr>\n",
       "            <tr>\n",
       "                        <th id=\"T_f1753504_f8fc_11ea_ba83_525400fc9c74level0_row16\" class=\"row_heading level0 row16\" >Stringency_index</th>\n",
       "                        <td id=\"T_f1753504_f8fc_11ea_ba83_525400fc9c74row16_col0\" class=\"data row16 col0\" >-0.114534</td>\n",
       "                        <td id=\"T_f1753504_f8fc_11ea_ba83_525400fc9c74row16_col1\" class=\"data row16 col1\" >-0.113527</td>\n",
       "                        <td id=\"T_f1753504_f8fc_11ea_ba83_525400fc9c74row16_col2\" class=\"data row16 col2\" >-0.155509</td>\n",
       "                        <td id=\"T_f1753504_f8fc_11ea_ba83_525400fc9c74row16_col3\" class=\"data row16 col3\" >-0.134222</td>\n",
       "                        <td id=\"T_f1753504_f8fc_11ea_ba83_525400fc9c74row16_col4\" class=\"data row16 col4\" >0.147881</td>\n",
       "                        <td id=\"T_f1753504_f8fc_11ea_ba83_525400fc9c74row16_col5\" class=\"data row16 col5\" >0.822260</td>\n",
       "                        <td id=\"T_f1753504_f8fc_11ea_ba83_525400fc9c74row16_col6\" class=\"data row16 col6\" >0.859101</td>\n",
       "                        <td id=\"T_f1753504_f8fc_11ea_ba83_525400fc9c74row16_col7\" class=\"data row16 col7\" >0.798237</td>\n",
       "                        <td id=\"T_f1753504_f8fc_11ea_ba83_525400fc9c74row16_col8\" class=\"data row16 col8\" >0.863628</td>\n",
       "                        <td id=\"T_f1753504_f8fc_11ea_ba83_525400fc9c74row16_col9\" class=\"data row16 col9\" >0.724809</td>\n",
       "                        <td id=\"T_f1753504_f8fc_11ea_ba83_525400fc9c74row16_col10\" class=\"data row16 col10\" >0.784988</td>\n",
       "                        <td id=\"T_f1753504_f8fc_11ea_ba83_525400fc9c74row16_col11\" class=\"data row16 col11\" >0.765066</td>\n",
       "                        <td id=\"T_f1753504_f8fc_11ea_ba83_525400fc9c74row16_col12\" class=\"data row16 col12\" >0.683759</td>\n",
       "                        <td id=\"T_f1753504_f8fc_11ea_ba83_525400fc9c74row16_col13\" class=\"data row16 col13\" >0.803971</td>\n",
       "                        <td id=\"T_f1753504_f8fc_11ea_ba83_525400fc9c74row16_col14\" class=\"data row16 col14\" >0.402641</td>\n",
       "                        <td id=\"T_f1753504_f8fc_11ea_ba83_525400fc9c74row16_col15\" class=\"data row16 col15\" >0.424372</td>\n",
       "                        <td id=\"T_f1753504_f8fc_11ea_ba83_525400fc9c74row16_col16\" class=\"data row16 col16\" >1.000000</td>\n",
       "            </tr>\n",
       "    </tbody></table>"
      ],
      "text/plain": [
       "<pandas.io.formats.style.Styler at 0x7ff5b45b3fa0>"
      ]
     },
     "execution_count": 21,
     "metadata": {},
     "output_type": "execute_result"
    }
   ],
   "source": [
    "# Correlation\n",
    "df = track_df.copy()\n",
    "df.corr().style.background_gradient(axis=None)"
   ]
  },
  {
   "cell_type": "code",
   "execution_count": 22,
   "metadata": {
    "collapsed": false
   },
   "outputs": [
    {
     "data": {
      "image/png": "[encoded data removed]",
      "text/plain": [
       "<Figure size 432x288 with 1 Axes>"
      ]
     },
     "metadata": {},
     "output_type": "display_data"
    }
   ],
   "source": [
    "# Scatter plot of Stringency index and Rt\n",
    "df = track_df.copy()\n",
    "sns.scatterplot(data=df, x=\"Stringency_index\", y=\"Rt\", hue=\"Country\", legend=\"brief\", marker=\"+\")\n",
    "bbox_to_anchor=(1.02, 0)\n",
    "bbox_loc=\"lower left\"\n",
    "plt.legend(bbox_to_anchor=bbox_to_anchor, loc=bbox_loc, borderaxespad=0)\n",
    "plt.title(\"Relationship of Stringency index and reproduction number\")\n",
    "plt.ylabel(\"Reproduction number\")\n",
    "plt.xlabel(\"Stringency index\")\n",
    "plt.show()"
   ]
  }
 ],
 "metadata": {
  "kernelspec": {
   "display_name": "Python 3.8.2 64-bit ('.venv': venv)",
   "name": "python_defaultSpec_1597669925034"
  },
  "language_info": {
   "codemirror_mode": {
    "name": "ipython",
    "version": 3
   },
   "file_extension": ".py",
   "mimetype": "text/x-python",
   "name": "python",
   "nbconvert_exporter": "python",
   "pygments_lexer": "ipython3",
   "version": "3.8.2-final"
  }
 },
 "nbformat": 4,
 "nbformat_minor": 4
}
