{
 "cells": [
  {
   "cell_type": "markdown",
   "metadata": {},
   "source": [
    "# Usage (quick version)"
   ]
  },
  {
   "cell_type": "markdown",
   "metadata": {},
   "source": [
    "## Preparation"
   ]
  },
  {
   "cell_type": "code",
   "execution_count": 1,
   "metadata": {
    "collapsed": false
   },
   "outputs": [],
   "source": [
    "# Standard users\n",
    "# !pip install covsirphy\n",
    "# Developers (Note: this notebook is in example directory)\n",
    "import os\n",
    "os.chdir(\"../\")"
   ]
  },
  {
   "cell_type": "code",
   "execution_count": 2,
   "metadata": {
    "collapsed": false
   },
   "outputs": [],
   "source": [
    "import warnings"
   ]
  },
  {
   "cell_type": "code",
   "execution_count": 3,
   "metadata": {
    "collapsed": false,
    "tags": []
   },
   "outputs": [
    {
     "data": {
      "text/plain": [
       "'2.8.0'"
      ]
     },
     "execution_count": 3,
     "metadata": {},
     "output_type": "execute_result"
    }
   ],
   "source": [
    "import covsirphy as cs\n",
    "cs.__version__"
   ]
  },
  {
   "cell_type": "markdown",
   "metadata": {},
   "source": [
    "## Dataset preparation\n",
    "Download the datasets to \"input\" direcotry and load them.\n",
    "\n",
    "If \"input\" directory has the datasets, `DataLoader` will load the local files. If the datasets were updated in remote servers, `DataLoader` will update the local files automatically.\n",
    "Download the datasets to \"input\" direcotry and load them.\n",
    "\n",
    "If \"input\" directory has the datasets, `DataLoader` will load the local files. If the datasets were updated in remote servers, `DataLoader` will update the local files automatically."
   ]
  },
  {
   "cell_type": "code",
   "execution_count": 4,
   "metadata": {
    "collapsed": false,
    "tags": []
   },
   "outputs": [
    {
     "name": "stdout",
     "output_type": "stream",
     "text": [
      "Retrieving datasets from COVID-19 Data Hub: https://covid19datahub.io/"
     ]
    },
    {
     "name": "stdout",
     "output_type": "stream",
     "text": [
      "\n"
     ]
    },
    {
     "name": "stdout",
     "output_type": "stream",
     "text": [
      "\n",
      "Detailed citaition list:"
     ]
    },
    {
     "name": "stdout",
     "output_type": "stream",
     "text": [
      "\n"
     ]
    },
    {
     "name": "stdout",
     "output_type": "stream",
     "text": [
      "iso_alpha_3\n",
      "administrative_area_level\n",
      "data_type\n",
      "url\n",
      "title\n",
      "year\n",
      "bibtype\n",
      "author\n",
      "institution\n",
      "textVersion"
     ]
    },
    {
     "name": "stdout",
     "output_type": "stream",
     "text": [
      "\n"
     ]
    },
    {
     "name": "stdout",
     "output_type": "stream",
     "text": [
      "\n",
      "\n"
     ]
    },
    {
     "name": "stdout",
     "output_type": "stream",
     "text": [
      "\n"
     ]
    }
   ],
   "source": [
    "data_loader = cs.DataLoader(\"input\")\n",
    "# The number of cases (JHU style)\n",
    "jhu_data = data_loader.jhu(verbose=True)\n",
    "# Population in each country\n",
    "population_data = data_loader.population(verbose=True)\n",
    "# Government Response Tracker (OxCGRT)\n",
    "oxcgrt_data = data_loader.oxcgrt(verbose=True)"
   ]
  },
  {
   "cell_type": "markdown",
   "metadata": {},
   "source": [
    "### The number of cases (JHU style)"
   ]
  },
  {
   "cell_type": "code",
   "execution_count": 5,
   "metadata": {
    "collapsed": false,
    "tags": []
   },
   "outputs": [
    {
     "name": "stdout",
     "output_type": "stream",
     "text": [
      "(Secondary source) Guidotti, E., Ardia, D., (2020), \"COVID-19 Data Hub\", Journal of Open Source Software 5(51):2376, doi: 10.21105/joss.02376.\n",
      "We can get Citation list of primary sources with DataLoader(...).covid19dh_citation"
     ]
    },
    {
     "name": "stdout",
     "output_type": "stream",
     "text": [
      "\n"
     ]
    }
   ],
   "source": [
    "# Description/citation\n",
    "print(jhu_data.citation)"
   ]
  },
  {
   "cell_type": "code",
   "execution_count": 6,
   "metadata": {
    "collapsed": false,
    "tags": []
   },
   "outputs": [
    {
     "name": "stdout",
     "output_type": "stream",
     "text": [
      "iso_alpha_3\n",
      "administrative_area_level\n",
      "data_type\n",
      "url\n",
      "title\n",
      "year\n",
      "bibtype\n",
      "author\n",
      "institution\n",
      "textVersion"
     ]
    },
    {
     "name": "stdout",
     "output_type": "stream",
     "text": [
      "\n"
     ]
    }
   ],
   "source": [
    "print(data_loader.covid19dh_citation)"
   ]
  },
  {
   "cell_type": "code",
   "execution_count": 7,
   "metadata": {
    "collapsed": false
   },
   "outputs": [
    {
     "data": {
      "text/html": [
       "<div>\n",
       "<style scoped>\n",
       "    .dataframe tbody tr th:only-of-type {\n",
       "        vertical-align: middle;\n",
       "    }\n",
       "\n",
       "    .dataframe tbody tr th {\n",
       "        vertical-align: top;\n",
       "    }\n",
       "\n",
       "    .dataframe thead th {\n",
       "        text-align: right;\n",
       "    }\n",
       "</style>\n",
       "<table border=\"1\" class=\"dataframe\">\n",
       "  <thead>\n",
       "    <tr style=\"text-align: right;\">\n",
       "      <th></th>\n",
       "      <th>ObservationDate</th>\n",
       "      <th>Confirmed</th>\n",
       "      <th>Recovered</th>\n",
       "      <th>Deaths</th>\n",
       "      <th>Population</th>\n",
       "      <th>ISO3</th>\n",
       "      <th>Province/State</th>\n",
       "      <th>Country/Region</th>\n",
       "      <th>school_closing</th>\n",
       "      <th>workplace_closing</th>\n",
       "      <th>cancel_events</th>\n",
       "      <th>gatherings_restrictions</th>\n",
       "      <th>transport_closing</th>\n",
       "      <th>stay_home_restrictions</th>\n",
       "      <th>internal_movement_restrictions</th>\n",
       "      <th>international_movement_restrictions</th>\n",
       "      <th>information_campaigns</th>\n",
       "      <th>testing_policy</th>\n",
       "      <th>contact_tracing</th>\n",
       "      <th>stringency_index</th>\n",
       "    </tr>\n",
       "  </thead>\n",
       "  <tbody>\n",
       "    <tr>\n",
       "      <th>191992</th>\n",
       "      <td>2020-08-26</td>\n",
       "      <td>14</td>\n",
       "      <td>12</td>\n",
       "      <td>0</td>\n",
       "      <td>107808.0</td>\n",
       "      <td>COL</td>\n",
       "      <td>Vichada</td>\n",
       "      <td>Colombia</td>\n",
       "      <td>3</td>\n",
       "      <td>3</td>\n",
       "      <td>2</td>\n",
       "      <td>4</td>\n",
       "      <td>1</td>\n",
       "      <td>2</td>\n",
       "      <td>2</td>\n",
       "      <td>4</td>\n",
       "      <td>2</td>\n",
       "      <td>2</td>\n",
       "      <td>2</td>\n",
       "      <td>87.04</td>\n",
       "    </tr>\n",
       "    <tr>\n",
       "      <th>191993</th>\n",
       "      <td>2020-08-27</td>\n",
       "      <td>14</td>\n",
       "      <td>12</td>\n",
       "      <td>0</td>\n",
       "      <td>107808.0</td>\n",
       "      <td>COL</td>\n",
       "      <td>Vichada</td>\n",
       "      <td>Colombia</td>\n",
       "      <td>3</td>\n",
       "      <td>3</td>\n",
       "      <td>2</td>\n",
       "      <td>4</td>\n",
       "      <td>1</td>\n",
       "      <td>2</td>\n",
       "      <td>2</td>\n",
       "      <td>4</td>\n",
       "      <td>2</td>\n",
       "      <td>2</td>\n",
       "      <td>2</td>\n",
       "      <td>87.04</td>\n",
       "    </tr>\n",
       "    <tr>\n",
       "      <th>191994</th>\n",
       "      <td>2020-08-28</td>\n",
       "      <td>14</td>\n",
       "      <td>12</td>\n",
       "      <td>0</td>\n",
       "      <td>107808.0</td>\n",
       "      <td>COL</td>\n",
       "      <td>Vichada</td>\n",
       "      <td>Colombia</td>\n",
       "      <td>3</td>\n",
       "      <td>3</td>\n",
       "      <td>2</td>\n",
       "      <td>4</td>\n",
       "      <td>1</td>\n",
       "      <td>2</td>\n",
       "      <td>2</td>\n",
       "      <td>4</td>\n",
       "      <td>2</td>\n",
       "      <td>2</td>\n",
       "      <td>2</td>\n",
       "      <td>87.04</td>\n",
       "    </tr>\n",
       "    <tr>\n",
       "      <th>191995</th>\n",
       "      <td>2020-08-29</td>\n",
       "      <td>14</td>\n",
       "      <td>12</td>\n",
       "      <td>0</td>\n",
       "      <td>107808.0</td>\n",
       "      <td>COL</td>\n",
       "      <td>Vichada</td>\n",
       "      <td>Colombia</td>\n",
       "      <td>3</td>\n",
       "      <td>3</td>\n",
       "      <td>2</td>\n",
       "      <td>4</td>\n",
       "      <td>1</td>\n",
       "      <td>2</td>\n",
       "      <td>2</td>\n",
       "      <td>4</td>\n",
       "      <td>2</td>\n",
       "      <td>2</td>\n",
       "      <td>2</td>\n",
       "      <td>87.04</td>\n",
       "    </tr>\n",
       "    <tr>\n",
       "      <th>191996</th>\n",
       "      <td>2020-08-30</td>\n",
       "      <td>14</td>\n",
       "      <td>12</td>\n",
       "      <td>0</td>\n",
       "      <td>107808.0</td>\n",
       "      <td>COL</td>\n",
       "      <td>Vichada</td>\n",
       "      <td>Colombia</td>\n",
       "      <td>3</td>\n",
       "      <td>3</td>\n",
       "      <td>2</td>\n",
       "      <td>4</td>\n",
       "      <td>1</td>\n",
       "      <td>2</td>\n",
       "      <td>2</td>\n",
       "      <td>4</td>\n",
       "      <td>2</td>\n",
       "      <td>2</td>\n",
       "      <td>2</td>\n",
       "      <td>87.04</td>\n",
       "    </tr>\n",
       "  </tbody>\n",
       "</table>\n",
       "</div>"
      ],
      "text/plain": [
       "       ObservationDate  Confirmed  Recovered  Deaths  Population ISO3  \\\n",
       "191992      2020-08-26         14         12       0    107808.0  COL   \n",
       "191993      2020-08-27         14         12       0    107808.0  COL   \n",
       "191994      2020-08-28         14         12       0    107808.0  COL   \n",
       "191995      2020-08-29         14         12       0    107808.0  COL   \n",
       "191996      2020-08-30         14         12       0    107808.0  COL   \n",
       "\n",
       "       Province/State Country/Region  school_closing  workplace_closing  \\\n",
       "191992        Vichada       Colombia               3                  3   \n",
       "191993        Vichada       Colombia               3                  3   \n",
       "191994        Vichada       Colombia               3                  3   \n",
       "191995        Vichada       Colombia               3                  3   \n",
       "191996        Vichada       Colombia               3                  3   \n",
       "\n",
       "        cancel_events  gatherings_restrictions  transport_closing  \\\n",
       "191992              2                        4                  1   \n",
       "191993              2                        4                  1   \n",
       "191994              2                        4                  1   \n",
       "191995              2                        4                  1   \n",
       "191996              2                        4                  1   \n",
       "\n",
       "        stay_home_restrictions  internal_movement_restrictions  \\\n",
       "191992                       2                               2   \n",
       "191993                       2                               2   \n",
       "191994                       2                               2   \n",
       "191995                       2                               2   \n",
       "191996                       2                               2   \n",
       "\n",
       "        international_movement_restrictions  information_campaigns  \\\n",
       "191992                                    4                      2   \n",
       "191993                                    4                      2   \n",
       "191994                                    4                      2   \n",
       "191995                                    4                      2   \n",
       "191996                                    4                      2   \n",
       "\n",
       "        testing_policy  contact_tracing  stringency_index  \n",
       "191992               2                2             87.04  \n",
       "191993               2                2             87.04  \n",
       "191994               2                2             87.04  \n",
       "191995               2                2             87.04  \n",
       "191996               2                2             87.04  "
      ]
     },
     "execution_count": 7,
     "metadata": {},
     "output_type": "execute_result"
    }
   ],
   "source": [
    "# Raw data\n",
    "jhu_data.raw.tail()"
   ]
  },
  {
   "cell_type": "code",
   "execution_count": 8,
   "metadata": {
    "collapsed": false
   },
   "outputs": [
    {
     "data": {
      "text/html": [
       "<div>\n",
       "<style scoped>\n",
       "    .dataframe tbody tr th:only-of-type {\n",
       "        vertical-align: middle;\n",
       "    }\n",
       "\n",
       "    .dataframe tbody tr th {\n",
       "        vertical-align: top;\n",
       "    }\n",
       "\n",
       "    .dataframe thead th {\n",
       "        text-align: right;\n",
       "    }\n",
       "</style>\n",
       "<table border=\"1\" class=\"dataframe\">\n",
       "  <thead>\n",
       "    <tr style=\"text-align: right;\">\n",
       "      <th></th>\n",
       "      <th>Date</th>\n",
       "      <th>Country</th>\n",
       "      <th>Province</th>\n",
       "      <th>Confirmed</th>\n",
       "      <th>Infected</th>\n",
       "      <th>Fatal</th>\n",
       "      <th>Recovered</th>\n",
       "    </tr>\n",
       "  </thead>\n",
       "  <tbody>\n",
       "    <tr>\n",
       "      <th>191992</th>\n",
       "      <td>2020-08-26</td>\n",
       "      <td>Colombia</td>\n",
       "      <td>Vichada</td>\n",
       "      <td>14</td>\n",
       "      <td>2</td>\n",
       "      <td>0</td>\n",
       "      <td>12</td>\n",
       "    </tr>\n",
       "    <tr>\n",
       "      <th>191993</th>\n",
       "      <td>2020-08-27</td>\n",
       "      <td>Colombia</td>\n",
       "      <td>Vichada</td>\n",
       "      <td>14</td>\n",
       "      <td>2</td>\n",
       "      <td>0</td>\n",
       "      <td>12</td>\n",
       "    </tr>\n",
       "    <tr>\n",
       "      <th>191994</th>\n",
       "      <td>2020-08-28</td>\n",
       "      <td>Colombia</td>\n",
       "      <td>Vichada</td>\n",
       "      <td>14</td>\n",
       "      <td>2</td>\n",
       "      <td>0</td>\n",
       "      <td>12</td>\n",
       "    </tr>\n",
       "    <tr>\n",
       "      <th>191995</th>\n",
       "      <td>2020-08-29</td>\n",
       "      <td>Colombia</td>\n",
       "      <td>Vichada</td>\n",
       "      <td>14</td>\n",
       "      <td>2</td>\n",
       "      <td>0</td>\n",
       "      <td>12</td>\n",
       "    </tr>\n",
       "    <tr>\n",
       "      <th>191996</th>\n",
       "      <td>2020-08-30</td>\n",
       "      <td>Colombia</td>\n",
       "      <td>Vichada</td>\n",
       "      <td>14</td>\n",
       "      <td>2</td>\n",
       "      <td>0</td>\n",
       "      <td>12</td>\n",
       "    </tr>\n",
       "  </tbody>\n",
       "</table>\n",
       "</div>"
      ],
      "text/plain": [
       "             Date   Country Province  Confirmed  Infected  Fatal  Recovered\n",
       "191992 2020-08-26  Colombia  Vichada         14         2      0         12\n",
       "191993 2020-08-27  Colombia  Vichada         14         2      0         12\n",
       "191994 2020-08-28  Colombia  Vichada         14         2      0         12\n",
       "191995 2020-08-29  Colombia  Vichada         14         2      0         12\n",
       "191996 2020-08-30  Colombia  Vichada         14         2      0         12"
      ]
     },
     "execution_count": 8,
     "metadata": {},
     "output_type": "execute_result"
    }
   ],
   "source": [
    "# Cleaned data\n",
    "jhu_data.cleaned().tail()"
   ]
  },
  {
   "cell_type": "code",
   "execution_count": 9,
   "metadata": {
    "collapsed": false
   },
   "outputs": [
    {
     "data": {
      "text/html": [
       "<div>\n",
       "<style scoped>\n",
       "    .dataframe tbody tr th:only-of-type {\n",
       "        vertical-align: middle;\n",
       "    }\n",
       "\n",
       "    .dataframe tbody tr th {\n",
       "        vertical-align: top;\n",
       "    }\n",
       "\n",
       "    .dataframe thead th {\n",
       "        text-align: right;\n",
       "    }\n",
       "</style>\n",
       "<table border=\"1\" class=\"dataframe\">\n",
       "  <thead>\n",
       "    <tr style=\"text-align: right;\">\n",
       "      <th></th>\n",
       "      <th>Date</th>\n",
       "      <th>Confirmed</th>\n",
       "      <th>Infected</th>\n",
       "      <th>Fatal</th>\n",
       "      <th>Recovered</th>\n",
       "    </tr>\n",
       "  </thead>\n",
       "  <tbody>\n",
       "    <tr>\n",
       "      <th>160</th>\n",
       "      <td>2020-08-26</td>\n",
       "      <td>19846</td>\n",
       "      <td>3129</td>\n",
       "      <td>356</td>\n",
       "      <td>16361</td>\n",
       "    </tr>\n",
       "    <tr>\n",
       "      <th>161</th>\n",
       "      <td>2020-08-27</td>\n",
       "      <td>20096</td>\n",
       "      <td>3047</td>\n",
       "      <td>356</td>\n",
       "      <td>16693</td>\n",
       "    </tr>\n",
       "    <tr>\n",
       "      <th>162</th>\n",
       "      <td>2020-08-28</td>\n",
       "      <td>20322</td>\n",
       "      <td>2959</td>\n",
       "      <td>358</td>\n",
       "      <td>17005</td>\n",
       "    </tr>\n",
       "    <tr>\n",
       "      <th>163</th>\n",
       "      <td>2020-08-29</td>\n",
       "      <td>20569</td>\n",
       "      <td>2800</td>\n",
       "      <td>358</td>\n",
       "      <td>17411</td>\n",
       "    </tr>\n",
       "    <tr>\n",
       "      <th>164</th>\n",
       "      <td>2020-08-30</td>\n",
       "      <td>20717</td>\n",
       "      <td>2827</td>\n",
       "      <td>360</td>\n",
       "      <td>17530</td>\n",
       "    </tr>\n",
       "  </tbody>\n",
       "</table>\n",
       "</div>"
      ],
      "text/plain": [
       "          Date  Confirmed  Infected  Fatal  Recovered\n",
       "160 2020-08-26      19846      3129    356      16361\n",
       "161 2020-08-27      20096      3047    356      16693\n",
       "162 2020-08-28      20322      2959    358      17005\n",
       "163 2020-08-29      20569      2800    358      17411\n",
       "164 2020-08-30      20717      2827    360      17530"
      ]
     },
     "execution_count": 9,
     "metadata": {},
     "output_type": "execute_result"
    }
   ],
   "source": [
    "# Subset for a country\n",
    "jhu_data.subset(\"Japan\", province=\"Tokyo\").tail()"
   ]
  },
  {
   "cell_type": "code",
   "execution_count": 10,
   "metadata": {
    "collapsed": false
   },
   "outputs": [
    {
     "data": {
      "text/html": [
       "<div>\n",
       "<style scoped>\n",
       "    .dataframe tbody tr th:only-of-type {\n",
       "        vertical-align: middle;\n",
       "    }\n",
       "\n",
       "    .dataframe tbody tr th {\n",
       "        vertical-align: top;\n",
       "    }\n",
       "\n",
       "    .dataframe thead th {\n",
       "        text-align: right;\n",
       "    }\n",
       "</style>\n",
       "<table border=\"1\" class=\"dataframe\">\n",
       "  <thead>\n",
       "    <tr style=\"text-align: right;\">\n",
       "      <th></th>\n",
       "      <th>Confirmed</th>\n",
       "      <th>Infected</th>\n",
       "      <th>Fatal</th>\n",
       "      <th>Recovered</th>\n",
       "      <th>Fatal per Confirmed</th>\n",
       "      <th>Recovered per Confirmed</th>\n",
       "      <th>Fatal per (Fatal or Recovered)</th>\n",
       "    </tr>\n",
       "    <tr>\n",
       "      <th>Date</th>\n",
       "      <th></th>\n",
       "      <th></th>\n",
       "      <th></th>\n",
       "      <th></th>\n",
       "      <th></th>\n",
       "      <th></th>\n",
       "      <th></th>\n",
       "    </tr>\n",
       "  </thead>\n",
       "  <tbody>\n",
       "    <tr>\n",
       "      <th>2020-08-26</th>\n",
       "      <td>24087089</td>\n",
       "      <td>7536773</td>\n",
       "      <td>826522</td>\n",
       "      <td>15723794</td>\n",
       "      <td>0.017157</td>\n",
       "      <td>0.326395</td>\n",
       "      <td>0.049940</td>\n",
       "    </tr>\n",
       "    <tr>\n",
       "      <th>2020-08-27</th>\n",
       "      <td>24359170</td>\n",
       "      <td>7605552</td>\n",
       "      <td>832270</td>\n",
       "      <td>15921348</td>\n",
       "      <td>0.017083</td>\n",
       "      <td>0.326804</td>\n",
       "      <td>0.049677</td>\n",
       "    </tr>\n",
       "    <tr>\n",
       "      <th>2020-08-28</th>\n",
       "      <td>24631775</td>\n",
       "      <td>7676304</td>\n",
       "      <td>837638</td>\n",
       "      <td>16117833</td>\n",
       "      <td>0.017003</td>\n",
       "      <td>0.327176</td>\n",
       "      <td>0.049402</td>\n",
       "    </tr>\n",
       "    <tr>\n",
       "      <th>2020-08-29</th>\n",
       "      <td>24887782</td>\n",
       "      <td>7717034</td>\n",
       "      <td>842633</td>\n",
       "      <td>16328115</td>\n",
       "      <td>0.016929</td>\n",
       "      <td>0.328035</td>\n",
       "      <td>0.049074</td>\n",
       "    </tr>\n",
       "    <tr>\n",
       "      <th>2020-08-30</th>\n",
       "      <td>24889786</td>\n",
       "      <td>7717678</td>\n",
       "      <td>842654</td>\n",
       "      <td>16329454</td>\n",
       "      <td>0.016928</td>\n",
       "      <td>0.328035</td>\n",
       "      <td>0.049071</td>\n",
       "    </tr>\n",
       "  </tbody>\n",
       "</table>\n",
       "</div>"
      ],
      "text/plain": [
       "            Confirmed  Infected   Fatal  Recovered  Fatal per Confirmed  \\\n",
       "Date                                                                      \n",
       "2020-08-26   24087089   7536773  826522   15723794             0.017157   \n",
       "2020-08-27   24359170   7605552  832270   15921348             0.017083   \n",
       "2020-08-28   24631775   7676304  837638   16117833             0.017003   \n",
       "2020-08-29   24887782   7717034  842633   16328115             0.016929   \n",
       "2020-08-30   24889786   7717678  842654   16329454             0.016928   \n",
       "\n",
       "            Recovered per Confirmed  Fatal per (Fatal or Recovered)  \n",
       "Date                                                                 \n",
       "2020-08-26                 0.326395                        0.049940  \n",
       "2020-08-27                 0.326804                        0.049677  \n",
       "2020-08-28                 0.327176                        0.049402  \n",
       "2020-08-29                 0.328035                        0.049074  \n",
       "2020-08-30                 0.328035                        0.049071  "
      ]
     },
     "execution_count": 10,
     "metadata": {},
     "output_type": "execute_result"
    }
   ],
   "source": [
    "# Total\n",
    "total_df = jhu_data.total()\n",
    "total_df.tail()"
   ]
  },
  {
   "cell_type": "code",
   "execution_count": 11,
   "metadata": {
    "collapsed": false
   },
   "outputs": [
    {
     "data": {
      "image/png": "[encoded data removed]",
      "text/plain": [
       "<Figure size 648x432 with 1 Axes>"
      ]
     },
     "metadata": {},
     "output_type": "display_data"
    }
   ],
   "source": [
    "# Plot the total values\n",
    "cs.line_plot(total_df[[\"Infected\", \"Fatal\", \"Recovered\"]], \"Total number of cases over time\")"
   ]
  },
  {
   "cell_type": "markdown",
   "metadata": {},
   "source": [
    "### (Optional) Replace the dataset in Japan\n"
   ]
  },
  {
   "cell_type": "code",
   "execution_count": 12,
   "metadata": {
    "collapsed": false
   },
   "outputs": [
    {
     "data": {
      "text/html": [
       "<div>\n",
       "<style scoped>\n",
       "    .dataframe tbody tr th:only-of-type {\n",
       "        vertical-align: middle;\n",
       "    }\n",
       "\n",
       "    .dataframe tbody tr th {\n",
       "        vertical-align: top;\n",
       "    }\n",
       "\n",
       "    .dataframe thead th {\n",
       "        text-align: right;\n",
       "    }\n",
       "</style>\n",
       "<table border=\"1\" class=\"dataframe\">\n",
       "  <thead>\n",
       "    <tr style=\"text-align: right;\">\n",
       "      <th></th>\n",
       "      <th>Date</th>\n",
       "      <th>Confirmed</th>\n",
       "      <th>Infected</th>\n",
       "      <th>Fatal</th>\n",
       "      <th>Recovered</th>\n",
       "    </tr>\n",
       "  </thead>\n",
       "  <tbody>\n",
       "    <tr>\n",
       "      <th>199</th>\n",
       "      <td>2020-08-26</td>\n",
       "      <td>64820</td>\n",
       "      <td>11918</td>\n",
       "      <td>1229</td>\n",
       "      <td>51673</td>\n",
       "    </tr>\n",
       "    <tr>\n",
       "      <th>200</th>\n",
       "      <td>2020-08-27</td>\n",
       "      <td>65682</td>\n",
       "      <td>11636</td>\n",
       "      <td>1240</td>\n",
       "      <td>52806</td>\n",
       "    </tr>\n",
       "    <tr>\n",
       "      <th>201</th>\n",
       "      <td>2020-08-28</td>\n",
       "      <td>66558</td>\n",
       "      <td>11322</td>\n",
       "      <td>1260</td>\n",
       "      <td>53976</td>\n",
       "    </tr>\n",
       "    <tr>\n",
       "      <th>202</th>\n",
       "      <td>2020-08-29</td>\n",
       "      <td>67401</td>\n",
       "      <td>10809</td>\n",
       "      <td>1271</td>\n",
       "      <td>55321</td>\n",
       "    </tr>\n",
       "    <tr>\n",
       "      <th>203</th>\n",
       "      <td>2020-08-30</td>\n",
       "      <td>68000</td>\n",
       "      <td>10571</td>\n",
       "      <td>1285</td>\n",
       "      <td>56144</td>\n",
       "    </tr>\n",
       "  </tbody>\n",
       "</table>\n",
       "</div>"
      ],
      "text/plain": [
       "          Date  Confirmed  Infected  Fatal  Recovered\n",
       "199 2020-08-26      64820     11918   1229      51673\n",
       "200 2020-08-27      65682     11636   1240      52806\n",
       "201 2020-08-28      66558     11322   1260      53976\n",
       "202 2020-08-29      67401     10809   1271      55321\n",
       "203 2020-08-30      68000     10571   1285      56144"
      ]
     },
     "execution_count": 12,
     "metadata": {},
     "output_type": "execute_result"
    }
   ],
   "source": [
    "jhu_data.subset(\"Japan\").tail()"
   ]
  },
  {
   "cell_type": "code",
   "execution_count": 13,
   "metadata": {
    "collapsed": false,
    "tags": []
   },
   "outputs": [
    {
     "name": "stdout",
     "output_type": "stream",
     "text": [
      "Lisphilar (2020), COVID-19 dataset in Japan, GitHub repository, https://github.com/lisphilar/covid19-sir/data/japan"
     ]
    },
    {
     "name": "stdout",
     "output_type": "stream",
     "text": [
      "\n"
     ]
    }
   ],
   "source": [
    "japan_data = data_loader.japan()\n",
    "print(japan_data.citation)"
   ]
  },
  {
   "cell_type": "code",
   "execution_count": 14,
   "metadata": {
    "collapsed": false
   },
   "outputs": [
    {
     "data": {
      "text/html": [
       "<div>\n",
       "<style scoped>\n",
       "    .dataframe tbody tr th:only-of-type {\n",
       "        vertical-align: middle;\n",
       "    }\n",
       "\n",
       "    .dataframe tbody tr th {\n",
       "        vertical-align: top;\n",
       "    }\n",
       "\n",
       "    .dataframe thead th {\n",
       "        text-align: right;\n",
       "    }\n",
       "</style>\n",
       "<table border=\"1\" class=\"dataframe\">\n",
       "  <thead>\n",
       "    <tr style=\"text-align: right;\">\n",
       "      <th></th>\n",
       "      <th>Date</th>\n",
       "      <th>Confirmed</th>\n",
       "      <th>Infected</th>\n",
       "      <th>Fatal</th>\n",
       "      <th>Recovered</th>\n",
       "    </tr>\n",
       "  </thead>\n",
       "  <tbody>\n",
       "    <tr>\n",
       "      <th>197</th>\n",
       "      <td>2020-08-26</td>\n",
       "      <td>63822</td>\n",
       "      <td>10925</td>\n",
       "      <td>1209</td>\n",
       "      <td>51688</td>\n",
       "    </tr>\n",
       "    <tr>\n",
       "      <th>198</th>\n",
       "      <td>2020-08-27</td>\n",
       "      <td>64668</td>\n",
       "      <td>10619</td>\n",
       "      <td>1226</td>\n",
       "      <td>52823</td>\n",
       "    </tr>\n",
       "    <tr>\n",
       "      <th>199</th>\n",
       "      <td>2020-08-28</td>\n",
       "      <td>65573</td>\n",
       "      <td>10340</td>\n",
       "      <td>1238</td>\n",
       "      <td>53995</td>\n",
       "    </tr>\n",
       "    <tr>\n",
       "      <th>200</th>\n",
       "      <td>2020-08-29</td>\n",
       "      <td>66423</td>\n",
       "      <td>9827</td>\n",
       "      <td>1255</td>\n",
       "      <td>55341</td>\n",
       "    </tr>\n",
       "    <tr>\n",
       "      <th>201</th>\n",
       "      <td>2020-08-30</td>\n",
       "      <td>67264</td>\n",
       "      <td>9836</td>\n",
       "      <td>1264</td>\n",
       "      <td>56164</td>\n",
       "    </tr>\n",
       "  </tbody>\n",
       "</table>\n",
       "</div>"
      ],
      "text/plain": [
       "          Date  Confirmed  Infected  Fatal  Recovered\n",
       "197 2020-08-26      63822     10925   1209      51688\n",
       "198 2020-08-27      64668     10619   1226      52823\n",
       "199 2020-08-28      65573     10340   1238      53995\n",
       "200 2020-08-29      66423      9827   1255      55341\n",
       "201 2020-08-30      67264      9836   1264      56164"
      ]
     },
     "execution_count": 14,
     "metadata": {},
     "output_type": "execute_result"
    }
   ],
   "source": [
    "jhu_data.replace(japan_data)\n",
    "jhu_data.subset(\"Japan\").tail()"
   ]
  },
  {
   "cell_type": "markdown",
   "metadata": {},
   "source": [
    "### Population in each country"
   ]
  },
  {
   "cell_type": "code",
   "execution_count": 15,
   "metadata": {
    "collapsed": false,
    "tags": []
   },
   "outputs": [
    {
     "name": "stdout",
     "output_type": "stream",
     "text": [
      "(Secondary source) Guidotti, E., Ardia, D., (2020), \"COVID-19 Data Hub\", Journal of Open Source Software 5(51):2376, doi: 10.21105/joss.02376.\n",
      "We can get Citation list of primary sources with DataLoader(...).covid19dh_citation"
     ]
    },
    {
     "name": "stdout",
     "output_type": "stream",
     "text": [
      "\n"
     ]
    }
   ],
   "source": [
    "# Description/citation\n",
    "print(population_data.citation)"
   ]
  },
  {
   "cell_type": "code",
   "execution_count": 16,
   "metadata": {
    "collapsed": false
   },
   "outputs": [
    {
     "data": {
      "text/html": [
       "<div>\n",
       "<style scoped>\n",
       "    .dataframe tbody tr th:only-of-type {\n",
       "        vertical-align: middle;\n",
       "    }\n",
       "\n",
       "    .dataframe tbody tr th {\n",
       "        vertical-align: top;\n",
       "    }\n",
       "\n",
       "    .dataframe thead th {\n",
       "        text-align: right;\n",
       "    }\n",
       "</style>\n",
       "<table border=\"1\" class=\"dataframe\">\n",
       "  <thead>\n",
       "    <tr style=\"text-align: right;\">\n",
       "      <th></th>\n",
       "      <th>ObservationDate</th>\n",
       "      <th>Confirmed</th>\n",
       "      <th>Recovered</th>\n",
       "      <th>Deaths</th>\n",
       "      <th>Population</th>\n",
       "      <th>ISO3</th>\n",
       "      <th>Province/State</th>\n",
       "      <th>Country/Region</th>\n",
       "      <th>school_closing</th>\n",
       "      <th>workplace_closing</th>\n",
       "      <th>cancel_events</th>\n",
       "      <th>gatherings_restrictions</th>\n",
       "      <th>transport_closing</th>\n",
       "      <th>stay_home_restrictions</th>\n",
       "      <th>internal_movement_restrictions</th>\n",
       "      <th>international_movement_restrictions</th>\n",
       "      <th>information_campaigns</th>\n",
       "      <th>testing_policy</th>\n",
       "      <th>contact_tracing</th>\n",
       "      <th>stringency_index</th>\n",
       "    </tr>\n",
       "  </thead>\n",
       "  <tbody>\n",
       "    <tr>\n",
       "      <th>191992</th>\n",
       "      <td>2020-08-26</td>\n",
       "      <td>14</td>\n",
       "      <td>12</td>\n",
       "      <td>0</td>\n",
       "      <td>107808.0</td>\n",
       "      <td>COL</td>\n",
       "      <td>Vichada</td>\n",
       "      <td>Colombia</td>\n",
       "      <td>3</td>\n",
       "      <td>3</td>\n",
       "      <td>2</td>\n",
       "      <td>4</td>\n",
       "      <td>1</td>\n",
       "      <td>2</td>\n",
       "      <td>2</td>\n",
       "      <td>4</td>\n",
       "      <td>2</td>\n",
       "      <td>2</td>\n",
       "      <td>2</td>\n",
       "      <td>87.04</td>\n",
       "    </tr>\n",
       "    <tr>\n",
       "      <th>191993</th>\n",
       "      <td>2020-08-27</td>\n",
       "      <td>14</td>\n",
       "      <td>12</td>\n",
       "      <td>0</td>\n",
       "      <td>107808.0</td>\n",
       "      <td>COL</td>\n",
       "      <td>Vichada</td>\n",
       "      <td>Colombia</td>\n",
       "      <td>3</td>\n",
       "      <td>3</td>\n",
       "      <td>2</td>\n",
       "      <td>4</td>\n",
       "      <td>1</td>\n",
       "      <td>2</td>\n",
       "      <td>2</td>\n",
       "      <td>4</td>\n",
       "      <td>2</td>\n",
       "      <td>2</td>\n",
       "      <td>2</td>\n",
       "      <td>87.04</td>\n",
       "    </tr>\n",
       "    <tr>\n",
       "      <th>191994</th>\n",
       "      <td>2020-08-28</td>\n",
       "      <td>14</td>\n",
       "      <td>12</td>\n",
       "      <td>0</td>\n",
       "      <td>107808.0</td>\n",
       "      <td>COL</td>\n",
       "      <td>Vichada</td>\n",
       "      <td>Colombia</td>\n",
       "      <td>3</td>\n",
       "      <td>3</td>\n",
       "      <td>2</td>\n",
       "      <td>4</td>\n",
       "      <td>1</td>\n",
       "      <td>2</td>\n",
       "      <td>2</td>\n",
       "      <td>4</td>\n",
       "      <td>2</td>\n",
       "      <td>2</td>\n",
       "      <td>2</td>\n",
       "      <td>87.04</td>\n",
       "    </tr>\n",
       "    <tr>\n",
       "      <th>191995</th>\n",
       "      <td>2020-08-29</td>\n",
       "      <td>14</td>\n",
       "      <td>12</td>\n",
       "      <td>0</td>\n",
       "      <td>107808.0</td>\n",
       "      <td>COL</td>\n",
       "      <td>Vichada</td>\n",
       "      <td>Colombia</td>\n",
       "      <td>3</td>\n",
       "      <td>3</td>\n",
       "      <td>2</td>\n",
       "      <td>4</td>\n",
       "      <td>1</td>\n",
       "      <td>2</td>\n",
       "      <td>2</td>\n",
       "      <td>4</td>\n",
       "      <td>2</td>\n",
       "      <td>2</td>\n",
       "      <td>2</td>\n",
       "      <td>87.04</td>\n",
       "    </tr>\n",
       "    <tr>\n",
       "      <th>191996</th>\n",
       "      <td>2020-08-30</td>\n",
       "      <td>14</td>\n",
       "      <td>12</td>\n",
       "      <td>0</td>\n",
       "      <td>107808.0</td>\n",
       "      <td>COL</td>\n",
       "      <td>Vichada</td>\n",
       "      <td>Colombia</td>\n",
       "      <td>3</td>\n",
       "      <td>3</td>\n",
       "      <td>2</td>\n",
       "      <td>4</td>\n",
       "      <td>1</td>\n",
       "      <td>2</td>\n",
       "      <td>2</td>\n",
       "      <td>4</td>\n",
       "      <td>2</td>\n",
       "      <td>2</td>\n",
       "      <td>2</td>\n",
       "      <td>87.04</td>\n",
       "    </tr>\n",
       "  </tbody>\n",
       "</table>\n",
       "</div>"
      ],
      "text/plain": [
       "       ObservationDate  Confirmed  Recovered  Deaths  Population ISO3  \\\n",
       "191992      2020-08-26         14         12       0    107808.0  COL   \n",
       "191993      2020-08-27         14         12       0    107808.0  COL   \n",
       "191994      2020-08-28         14         12       0    107808.0  COL   \n",
       "191995      2020-08-29         14         12       0    107808.0  COL   \n",
       "191996      2020-08-30         14         12       0    107808.0  COL   \n",
       "\n",
       "       Province/State Country/Region  school_closing  workplace_closing  \\\n",
       "191992        Vichada       Colombia               3                  3   \n",
       "191993        Vichada       Colombia               3                  3   \n",
       "191994        Vichada       Colombia               3                  3   \n",
       "191995        Vichada       Colombia               3                  3   \n",
       "191996        Vichada       Colombia               3                  3   \n",
       "\n",
       "        cancel_events  gatherings_restrictions  transport_closing  \\\n",
       "191992              2                        4                  1   \n",
       "191993              2                        4                  1   \n",
       "191994              2                        4                  1   \n",
       "191995              2                        4                  1   \n",
       "191996              2                        4                  1   \n",
       "\n",
       "        stay_home_restrictions  internal_movement_restrictions  \\\n",
       "191992                       2                               2   \n",
       "191993                       2                               2   \n",
       "191994                       2                               2   \n",
       "191995                       2                               2   \n",
       "191996                       2                               2   \n",
       "\n",
       "        international_movement_restrictions  information_campaigns  \\\n",
       "191992                                    4                      2   \n",
       "191993                                    4                      2   \n",
       "191994                                    4                      2   \n",
       "191995                                    4                      2   \n",
       "191996                                    4                      2   \n",
       "\n",
       "        testing_policy  contact_tracing  stringency_index  \n",
       "191992               2                2             87.04  \n",
       "191993               2                2             87.04  \n",
       "191994               2                2             87.04  \n",
       "191995               2                2             87.04  \n",
       "191996               2                2             87.04  "
      ]
     },
     "execution_count": 16,
     "metadata": {},
     "output_type": "execute_result"
    }
   ],
   "source": [
    "# Raw data (the same as jhu_data)\n",
    "population_data.raw.tail()"
   ]
  },
  {
   "cell_type": "code",
   "execution_count": 17,
   "metadata": {
    "collapsed": false
   },
   "outputs": [
    {
     "data": {
      "text/html": [
       "<div>\n",
       "<style scoped>\n",
       "    .dataframe tbody tr th:only-of-type {\n",
       "        vertical-align: middle;\n",
       "    }\n",
       "\n",
       "    .dataframe tbody tr th {\n",
       "        vertical-align: top;\n",
       "    }\n",
       "\n",
       "    .dataframe thead th {\n",
       "        text-align: right;\n",
       "    }\n",
       "</style>\n",
       "<table border=\"1\" class=\"dataframe\">\n",
       "  <thead>\n",
       "    <tr style=\"text-align: right;\">\n",
       "      <th></th>\n",
       "      <th>ISO3</th>\n",
       "      <th>Country</th>\n",
       "      <th>Province</th>\n",
       "      <th>Date</th>\n",
       "      <th>Population</th>\n",
       "    </tr>\n",
       "  </thead>\n",
       "  <tbody>\n",
       "    <tr>\n",
       "      <th>188328</th>\n",
       "      <td>COL</td>\n",
       "      <td>Colombia</td>\n",
       "      <td>Vichada</td>\n",
       "      <td>2020-08-26</td>\n",
       "      <td>107808</td>\n",
       "    </tr>\n",
       "    <tr>\n",
       "      <th>188329</th>\n",
       "      <td>COL</td>\n",
       "      <td>Colombia</td>\n",
       "      <td>Vichada</td>\n",
       "      <td>2020-08-27</td>\n",
       "      <td>107808</td>\n",
       "    </tr>\n",
       "    <tr>\n",
       "      <th>188330</th>\n",
       "      <td>COL</td>\n",
       "      <td>Colombia</td>\n",
       "      <td>Vichada</td>\n",
       "      <td>2020-08-28</td>\n",
       "      <td>107808</td>\n",
       "    </tr>\n",
       "    <tr>\n",
       "      <th>188331</th>\n",
       "      <td>COL</td>\n",
       "      <td>Colombia</td>\n",
       "      <td>Vichada</td>\n",
       "      <td>2020-08-29</td>\n",
       "      <td>107808</td>\n",
       "    </tr>\n",
       "    <tr>\n",
       "      <th>188332</th>\n",
       "      <td>COL</td>\n",
       "      <td>Colombia</td>\n",
       "      <td>Vichada</td>\n",
       "      <td>2020-08-30</td>\n",
       "      <td>107808</td>\n",
       "    </tr>\n",
       "  </tbody>\n",
       "</table>\n",
       "</div>"
      ],
      "text/plain": [
       "       ISO3   Country Province       Date  Population\n",
       "188328  COL  Colombia  Vichada 2020-08-26      107808\n",
       "188329  COL  Colombia  Vichada 2020-08-27      107808\n",
       "188330  COL  Colombia  Vichada 2020-08-28      107808\n",
       "188331  COL  Colombia  Vichada 2020-08-29      107808\n",
       "188332  COL  Colombia  Vichada 2020-08-30      107808"
      ]
     },
     "execution_count": 17,
     "metadata": {},
     "output_type": "execute_result"
    }
   ],
   "source": [
    "# Cleaned data\n",
    "population_data.cleaned().tail()"
   ]
  },
  {
   "cell_type": "code",
   "execution_count": 18,
   "metadata": {
    "collapsed": false
   },
   "outputs": [
    {
     "data": {
      "text/plain": [
       "126529100"
      ]
     },
     "execution_count": 18,
     "metadata": {},
     "output_type": "execute_result"
    }
   ],
   "source": [
    "population_data.value(\"Japan\", province=None)"
   ]
  },
  {
   "cell_type": "code",
   "execution_count": 19,
   "metadata": {
    "collapsed": false
   },
   "outputs": [
    {
     "data": {
      "text/plain": [
       "14002973"
      ]
     },
     "execution_count": 19,
     "metadata": {},
     "output_type": "execute_result"
    }
   ],
   "source": [
    "# Register population value of Tokyo in Japan\n",
    "# https://www.metro.tokyo.lg.jp/tosei/hodohappyo/press/2020/06/11/07.html\n",
    "population_data.update(14_002_973, \"Japan\", province=\"Tokyo\")\n",
    "population_data.value(\"Japan\", province=\"Tokyo\")"
   ]
  },
  {
   "cell_type": "markdown",
   "metadata": {},
   "source": [
    "### Government Response Tracker (OxCGRT)"
   ]
  },
  {
   "cell_type": "code",
   "execution_count": 20,
   "metadata": {
    "collapsed": false,
    "tags": []
   },
   "outputs": [
    {
     "name": "stdout",
     "output_type": "stream",
     "text": [
      "(Secondary source) Guidotti, E., Ardia, D., (2020), \"COVID-19 Data Hub\", Journal of Open Source Software 5(51):2376, doi: 10.21105/joss.02376.\n",
      "We can get Citation list of primary sources with DataLoader(...).covid19dh_citation"
     ]
    },
    {
     "name": "stdout",
     "output_type": "stream",
     "text": [
      "\n"
     ]
    }
   ],
   "source": [
    "# Description/citation\n",
    "print(oxcgrt_data.citation)"
   ]
  },
  {
   "cell_type": "code",
   "execution_count": 21,
   "metadata": {
    "collapsed": false
   },
   "outputs": [
    {
     "data": {
      "text/html": [
       "<div>\n",
       "<style scoped>\n",
       "    .dataframe tbody tr th:only-of-type {\n",
       "        vertical-align: middle;\n",
       "    }\n",
       "\n",
       "    .dataframe tbody tr th {\n",
       "        vertical-align: top;\n",
       "    }\n",
       "\n",
       "    .dataframe thead th {\n",
       "        text-align: right;\n",
       "    }\n",
       "</style>\n",
       "<table border=\"1\" class=\"dataframe\">\n",
       "  <thead>\n",
       "    <tr style=\"text-align: right;\">\n",
       "      <th></th>\n",
       "      <th>ObservationDate</th>\n",
       "      <th>Confirmed</th>\n",
       "      <th>Recovered</th>\n",
       "      <th>Deaths</th>\n",
       "      <th>Population</th>\n",
       "      <th>ISO3</th>\n",
       "      <th>Province/State</th>\n",
       "      <th>Country/Region</th>\n",
       "      <th>school_closing</th>\n",
       "      <th>workplace_closing</th>\n",
       "      <th>cancel_events</th>\n",
       "      <th>gatherings_restrictions</th>\n",
       "      <th>transport_closing</th>\n",
       "      <th>stay_home_restrictions</th>\n",
       "      <th>internal_movement_restrictions</th>\n",
       "      <th>international_movement_restrictions</th>\n",
       "      <th>information_campaigns</th>\n",
       "      <th>testing_policy</th>\n",
       "      <th>contact_tracing</th>\n",
       "      <th>stringency_index</th>\n",
       "    </tr>\n",
       "  </thead>\n",
       "  <tbody>\n",
       "    <tr>\n",
       "      <th>191992</th>\n",
       "      <td>2020-08-26</td>\n",
       "      <td>14</td>\n",
       "      <td>12</td>\n",
       "      <td>0</td>\n",
       "      <td>107808.0</td>\n",
       "      <td>COL</td>\n",
       "      <td>Vichada</td>\n",
       "      <td>Colombia</td>\n",
       "      <td>3</td>\n",
       "      <td>3</td>\n",
       "      <td>2</td>\n",
       "      <td>4</td>\n",
       "      <td>1</td>\n",
       "      <td>2</td>\n",
       "      <td>2</td>\n",
       "      <td>4</td>\n",
       "      <td>2</td>\n",
       "      <td>2</td>\n",
       "      <td>2</td>\n",
       "      <td>87.04</td>\n",
       "    </tr>\n",
       "    <tr>\n",
       "      <th>191993</th>\n",
       "      <td>2020-08-27</td>\n",
       "      <td>14</td>\n",
       "      <td>12</td>\n",
       "      <td>0</td>\n",
       "      <td>107808.0</td>\n",
       "      <td>COL</td>\n",
       "      <td>Vichada</td>\n",
       "      <td>Colombia</td>\n",
       "      <td>3</td>\n",
       "      <td>3</td>\n",
       "      <td>2</td>\n",
       "      <td>4</td>\n",
       "      <td>1</td>\n",
       "      <td>2</td>\n",
       "      <td>2</td>\n",
       "      <td>4</td>\n",
       "      <td>2</td>\n",
       "      <td>2</td>\n",
       "      <td>2</td>\n",
       "      <td>87.04</td>\n",
       "    </tr>\n",
       "    <tr>\n",
       "      <th>191994</th>\n",
       "      <td>2020-08-28</td>\n",
       "      <td>14</td>\n",
       "      <td>12</td>\n",
       "      <td>0</td>\n",
       "      <td>107808.0</td>\n",
       "      <td>COL</td>\n",
       "      <td>Vichada</td>\n",
       "      <td>Colombia</td>\n",
       "      <td>3</td>\n",
       "      <td>3</td>\n",
       "      <td>2</td>\n",
       "      <td>4</td>\n",
       "      <td>1</td>\n",
       "      <td>2</td>\n",
       "      <td>2</td>\n",
       "      <td>4</td>\n",
       "      <td>2</td>\n",
       "      <td>2</td>\n",
       "      <td>2</td>\n",
       "      <td>87.04</td>\n",
       "    </tr>\n",
       "    <tr>\n",
       "      <th>191995</th>\n",
       "      <td>2020-08-29</td>\n",
       "      <td>14</td>\n",
       "      <td>12</td>\n",
       "      <td>0</td>\n",
       "      <td>107808.0</td>\n",
       "      <td>COL</td>\n",
       "      <td>Vichada</td>\n",
       "      <td>Colombia</td>\n",
       "      <td>3</td>\n",
       "      <td>3</td>\n",
       "      <td>2</td>\n",
       "      <td>4</td>\n",
       "      <td>1</td>\n",
       "      <td>2</td>\n",
       "      <td>2</td>\n",
       "      <td>4</td>\n",
       "      <td>2</td>\n",
       "      <td>2</td>\n",
       "      <td>2</td>\n",
       "      <td>87.04</td>\n",
       "    </tr>\n",
       "    <tr>\n",
       "      <th>191996</th>\n",
       "      <td>2020-08-30</td>\n",
       "      <td>14</td>\n",
       "      <td>12</td>\n",
       "      <td>0</td>\n",
       "      <td>107808.0</td>\n",
       "      <td>COL</td>\n",
       "      <td>Vichada</td>\n",
       "      <td>Colombia</td>\n",
       "      <td>3</td>\n",
       "      <td>3</td>\n",
       "      <td>2</td>\n",
       "      <td>4</td>\n",
       "      <td>1</td>\n",
       "      <td>2</td>\n",
       "      <td>2</td>\n",
       "      <td>4</td>\n",
       "      <td>2</td>\n",
       "      <td>2</td>\n",
       "      <td>2</td>\n",
       "      <td>87.04</td>\n",
       "    </tr>\n",
       "  </tbody>\n",
       "</table>\n",
       "</div>"
      ],
      "text/plain": [
       "       ObservationDate  Confirmed  Recovered  Deaths  Population ISO3  \\\n",
       "191992      2020-08-26         14         12       0    107808.0  COL   \n",
       "191993      2020-08-27         14         12       0    107808.0  COL   \n",
       "191994      2020-08-28         14         12       0    107808.0  COL   \n",
       "191995      2020-08-29         14         12       0    107808.0  COL   \n",
       "191996      2020-08-30         14         12       0    107808.0  COL   \n",
       "\n",
       "       Province/State Country/Region  school_closing  workplace_closing  \\\n",
       "191992        Vichada       Colombia               3                  3   \n",
       "191993        Vichada       Colombia               3                  3   \n",
       "191994        Vichada       Colombia               3                  3   \n",
       "191995        Vichada       Colombia               3                  3   \n",
       "191996        Vichada       Colombia               3                  3   \n",
       "\n",
       "        cancel_events  gatherings_restrictions  transport_closing  \\\n",
       "191992              2                        4                  1   \n",
       "191993              2                        4                  1   \n",
       "191994              2                        4                  1   \n",
       "191995              2                        4                  1   \n",
       "191996              2                        4                  1   \n",
       "\n",
       "        stay_home_restrictions  internal_movement_restrictions  \\\n",
       "191992                       2                               2   \n",
       "191993                       2                               2   \n",
       "191994                       2                               2   \n",
       "191995                       2                               2   \n",
       "191996                       2                               2   \n",
       "\n",
       "        international_movement_restrictions  information_campaigns  \\\n",
       "191992                                    4                      2   \n",
       "191993                                    4                      2   \n",
       "191994                                    4                      2   \n",
       "191995                                    4                      2   \n",
       "191996                                    4                      2   \n",
       "\n",
       "        testing_policy  contact_tracing  stringency_index  \n",
       "191992               2                2             87.04  \n",
       "191993               2                2             87.04  \n",
       "191994               2                2             87.04  \n",
       "191995               2                2             87.04  \n",
       "191996               2                2             87.04  "
      ]
     },
     "execution_count": 21,
     "metadata": {},
     "output_type": "execute_result"
    }
   ],
   "source": [
    "# Raw data (the same as jhu_data)\n",
    "oxcgrt_data.raw.tail()"
   ]
  },
  {
   "cell_type": "code",
   "execution_count": 22,
   "metadata": {
    "collapsed": false
   },
   "outputs": [
    {
     "data": {
      "text/html": [
       "<div>\n",
       "<style scoped>\n",
       "    .dataframe tbody tr th:only-of-type {\n",
       "        vertical-align: middle;\n",
       "    }\n",
       "\n",
       "    .dataframe tbody tr th {\n",
       "        vertical-align: top;\n",
       "    }\n",
       "\n",
       "    .dataframe thead th {\n",
       "        text-align: right;\n",
       "    }\n",
       "</style>\n",
       "<table border=\"1\" class=\"dataframe\">\n",
       "  <thead>\n",
       "    <tr style=\"text-align: right;\">\n",
       "      <th></th>\n",
       "      <th>Date</th>\n",
       "      <th>Country</th>\n",
       "      <th>ISO3</th>\n",
       "      <th>School_closing</th>\n",
       "      <th>Workplace_closing</th>\n",
       "      <th>Cancel_events</th>\n",
       "      <th>Gatherings_restrictions</th>\n",
       "      <th>Transport_closing</th>\n",
       "      <th>Stay_home_restrictions</th>\n",
       "      <th>Internal_movement_restrictions</th>\n",
       "      <th>International_movement_restrictions</th>\n",
       "      <th>Information_campaigns</th>\n",
       "      <th>Testing_policy</th>\n",
       "      <th>Contact_tracing</th>\n",
       "      <th>Stringency_index</th>\n",
       "    </tr>\n",
       "  </thead>\n",
       "  <tbody>\n",
       "    <tr>\n",
       "      <th>191992</th>\n",
       "      <td>2020-08-26</td>\n",
       "      <td>Colombia</td>\n",
       "      <td>COL</td>\n",
       "      <td>3</td>\n",
       "      <td>3</td>\n",
       "      <td>2</td>\n",
       "      <td>4</td>\n",
       "      <td>1</td>\n",
       "      <td>2</td>\n",
       "      <td>2</td>\n",
       "      <td>4</td>\n",
       "      <td>2</td>\n",
       "      <td>2</td>\n",
       "      <td>2</td>\n",
       "      <td>87.04</td>\n",
       "    </tr>\n",
       "    <tr>\n",
       "      <th>191993</th>\n",
       "      <td>2020-08-27</td>\n",
       "      <td>Colombia</td>\n",
       "      <td>COL</td>\n",
       "      <td>3</td>\n",
       "      <td>3</td>\n",
       "      <td>2</td>\n",
       "      <td>4</td>\n",
       "      <td>1</td>\n",
       "      <td>2</td>\n",
       "      <td>2</td>\n",
       "      <td>4</td>\n",
       "      <td>2</td>\n",
       "      <td>2</td>\n",
       "      <td>2</td>\n",
       "      <td>87.04</td>\n",
       "    </tr>\n",
       "    <tr>\n",
       "      <th>191994</th>\n",
       "      <td>2020-08-28</td>\n",
       "      <td>Colombia</td>\n",
       "      <td>COL</td>\n",
       "      <td>3</td>\n",
       "      <td>3</td>\n",
       "      <td>2</td>\n",
       "      <td>4</td>\n",
       "      <td>1</td>\n",
       "      <td>2</td>\n",
       "      <td>2</td>\n",
       "      <td>4</td>\n",
       "      <td>2</td>\n",
       "      <td>2</td>\n",
       "      <td>2</td>\n",
       "      <td>87.04</td>\n",
       "    </tr>\n",
       "    <tr>\n",
       "      <th>191995</th>\n",
       "      <td>2020-08-29</td>\n",
       "      <td>Colombia</td>\n",
       "      <td>COL</td>\n",
       "      <td>3</td>\n",
       "      <td>3</td>\n",
       "      <td>2</td>\n",
       "      <td>4</td>\n",
       "      <td>1</td>\n",
       "      <td>2</td>\n",
       "      <td>2</td>\n",
       "      <td>4</td>\n",
       "      <td>2</td>\n",
       "      <td>2</td>\n",
       "      <td>2</td>\n",
       "      <td>87.04</td>\n",
       "    </tr>\n",
       "    <tr>\n",
       "      <th>191996</th>\n",
       "      <td>2020-08-30</td>\n",
       "      <td>Colombia</td>\n",
       "      <td>COL</td>\n",
       "      <td>3</td>\n",
       "      <td>3</td>\n",
       "      <td>2</td>\n",
       "      <td>4</td>\n",
       "      <td>1</td>\n",
       "      <td>2</td>\n",
       "      <td>2</td>\n",
       "      <td>4</td>\n",
       "      <td>2</td>\n",
       "      <td>2</td>\n",
       "      <td>2</td>\n",
       "      <td>87.04</td>\n",
       "    </tr>\n",
       "  </tbody>\n",
       "</table>\n",
       "</div>"
      ],
      "text/plain": [
       "             Date   Country ISO3  School_closing  Workplace_closing  \\\n",
       "191992 2020-08-26  Colombia  COL               3                  3   \n",
       "191993 2020-08-27  Colombia  COL               3                  3   \n",
       "191994 2020-08-28  Colombia  COL               3                  3   \n",
       "191995 2020-08-29  Colombia  COL               3                  3   \n",
       "191996 2020-08-30  Colombia  COL               3                  3   \n",
       "\n",
       "        Cancel_events  Gatherings_restrictions  Transport_closing  \\\n",
       "191992              2                        4                  1   \n",
       "191993              2                        4                  1   \n",
       "191994              2                        4                  1   \n",
       "191995              2                        4                  1   \n",
       "191996              2                        4                  1   \n",
       "\n",
       "        Stay_home_restrictions  Internal_movement_restrictions  \\\n",
       "191992                       2                               2   \n",
       "191993                       2                               2   \n",
       "191994                       2                               2   \n",
       "191995                       2                               2   \n",
       "191996                       2                               2   \n",
       "\n",
       "        International_movement_restrictions  Information_campaigns  \\\n",
       "191992                                    4                      2   \n",
       "191993                                    4                      2   \n",
       "191994                                    4                      2   \n",
       "191995                                    4                      2   \n",
       "191996                                    4                      2   \n",
       "\n",
       "        Testing_policy  Contact_tracing  Stringency_index  \n",
       "191992               2                2             87.04  \n",
       "191993               2                2             87.04  \n",
       "191994               2                2             87.04  \n",
       "191995               2                2             87.04  \n",
       "191996               2                2             87.04  "
      ]
     },
     "execution_count": 22,
     "metadata": {},
     "output_type": "execute_result"
    }
   ],
   "source": [
    "# Cleaned data\n",
    "oxcgrt_data.cleaned().tail()"
   ]
  },
  {
   "cell_type": "code",
   "execution_count": 23,
   "metadata": {
    "collapsed": false
   },
   "outputs": [
    {
     "data": {
      "text/html": [
       "<div>\n",
       "<style scoped>\n",
       "    .dataframe tbody tr th:only-of-type {\n",
       "        vertical-align: middle;\n",
       "    }\n",
       "\n",
       "    .dataframe tbody tr th {\n",
       "        vertical-align: top;\n",
       "    }\n",
       "\n",
       "    .dataframe thead th {\n",
       "        text-align: right;\n",
       "    }\n",
       "</style>\n",
       "<table border=\"1\" class=\"dataframe\">\n",
       "  <thead>\n",
       "    <tr style=\"text-align: right;\">\n",
       "      <th></th>\n",
       "      <th>Date</th>\n",
       "      <th>School_closing</th>\n",
       "      <th>Workplace_closing</th>\n",
       "      <th>Cancel_events</th>\n",
       "      <th>Gatherings_restrictions</th>\n",
       "      <th>Transport_closing</th>\n",
       "      <th>Stay_home_restrictions</th>\n",
       "      <th>Internal_movement_restrictions</th>\n",
       "      <th>International_movement_restrictions</th>\n",
       "      <th>Information_campaigns</th>\n",
       "      <th>Testing_policy</th>\n",
       "      <th>Contact_tracing</th>\n",
       "      <th>Stringency_index</th>\n",
       "    </tr>\n",
       "  </thead>\n",
       "  <tbody>\n",
       "    <tr>\n",
       "      <th>235</th>\n",
       "      <td>2020-08-26</td>\n",
       "      <td>1</td>\n",
       "      <td>1</td>\n",
       "      <td>1</td>\n",
       "      <td>0</td>\n",
       "      <td>0</td>\n",
       "      <td>1</td>\n",
       "      <td>1</td>\n",
       "      <td>3</td>\n",
       "      <td>2</td>\n",
       "      <td>2</td>\n",
       "      <td>1</td>\n",
       "      <td>30.56</td>\n",
       "    </tr>\n",
       "    <tr>\n",
       "      <th>236</th>\n",
       "      <td>2020-08-27</td>\n",
       "      <td>1</td>\n",
       "      <td>1</td>\n",
       "      <td>1</td>\n",
       "      <td>0</td>\n",
       "      <td>0</td>\n",
       "      <td>1</td>\n",
       "      <td>1</td>\n",
       "      <td>3</td>\n",
       "      <td>2</td>\n",
       "      <td>2</td>\n",
       "      <td>1</td>\n",
       "      <td>30.56</td>\n",
       "    </tr>\n",
       "    <tr>\n",
       "      <th>237</th>\n",
       "      <td>2020-08-28</td>\n",
       "      <td>1</td>\n",
       "      <td>1</td>\n",
       "      <td>1</td>\n",
       "      <td>0</td>\n",
       "      <td>0</td>\n",
       "      <td>1</td>\n",
       "      <td>1</td>\n",
       "      <td>3</td>\n",
       "      <td>2</td>\n",
       "      <td>2</td>\n",
       "      <td>1</td>\n",
       "      <td>30.56</td>\n",
       "    </tr>\n",
       "    <tr>\n",
       "      <th>238</th>\n",
       "      <td>2020-08-29</td>\n",
       "      <td>1</td>\n",
       "      <td>1</td>\n",
       "      <td>1</td>\n",
       "      <td>0</td>\n",
       "      <td>0</td>\n",
       "      <td>1</td>\n",
       "      <td>1</td>\n",
       "      <td>3</td>\n",
       "      <td>2</td>\n",
       "      <td>2</td>\n",
       "      <td>1</td>\n",
       "      <td>30.56</td>\n",
       "    </tr>\n",
       "    <tr>\n",
       "      <th>239</th>\n",
       "      <td>2020-08-30</td>\n",
       "      <td>1</td>\n",
       "      <td>1</td>\n",
       "      <td>1</td>\n",
       "      <td>0</td>\n",
       "      <td>0</td>\n",
       "      <td>1</td>\n",
       "      <td>1</td>\n",
       "      <td>3</td>\n",
       "      <td>2</td>\n",
       "      <td>2</td>\n",
       "      <td>1</td>\n",
       "      <td>30.56</td>\n",
       "    </tr>\n",
       "  </tbody>\n",
       "</table>\n",
       "</div>"
      ],
      "text/plain": [
       "          Date  School_closing  Workplace_closing  Cancel_events  \\\n",
       "235 2020-08-26               1                  1              1   \n",
       "236 2020-08-27               1                  1              1   \n",
       "237 2020-08-28               1                  1              1   \n",
       "238 2020-08-29               1                  1              1   \n",
       "239 2020-08-30               1                  1              1   \n",
       "\n",
       "     Gatherings_restrictions  Transport_closing  Stay_home_restrictions  \\\n",
       "235                        0                  0                       1   \n",
       "236                        0                  0                       1   \n",
       "237                        0                  0                       1   \n",
       "238                        0                  0                       1   \n",
       "239                        0                  0                       1   \n",
       "\n",
       "     Internal_movement_restrictions  International_movement_restrictions  \\\n",
       "235                               1                                    3   \n",
       "236                               1                                    3   \n",
       "237                               1                                    3   \n",
       "238                               1                                    3   \n",
       "239                               1                                    3   \n",
       "\n",
       "     Information_campaigns  Testing_policy  Contact_tracing  Stringency_index  \n",
       "235                      2               2                1             30.56  \n",
       "236                      2               2                1             30.56  \n",
       "237                      2               2                1             30.56  \n",
       "238                      2               2                1             30.56  \n",
       "239                      2               2                1             30.56  "
      ]
     },
     "execution_count": 23,
     "metadata": {},
     "output_type": "execute_result"
    }
   ],
   "source": [
    "# Subset for a country\n",
    "oxcgrt_data.subset(\"Japan\").tail()"
   ]
  },
  {
   "cell_type": "code",
   "execution_count": 24,
   "metadata": {
    "collapsed": false
   },
   "outputs": [
    {
     "data": {
      "text/html": [
       "<div>\n",
       "<style scoped>\n",
       "    .dataframe tbody tr th:only-of-type {\n",
       "        vertical-align: middle;\n",
       "    }\n",
       "\n",
       "    .dataframe tbody tr th {\n",
       "        vertical-align: top;\n",
       "    }\n",
       "\n",
       "    .dataframe thead th {\n",
       "        text-align: right;\n",
       "    }\n",
       "</style>\n",
       "<table border=\"1\" class=\"dataframe\">\n",
       "  <thead>\n",
       "    <tr style=\"text-align: right;\">\n",
       "      <th></th>\n",
       "      <th>Date</th>\n",
       "      <th>School_closing</th>\n",
       "      <th>Workplace_closing</th>\n",
       "      <th>Cancel_events</th>\n",
       "      <th>Gatherings_restrictions</th>\n",
       "      <th>Transport_closing</th>\n",
       "      <th>Stay_home_restrictions</th>\n",
       "      <th>Internal_movement_restrictions</th>\n",
       "      <th>International_movement_restrictions</th>\n",
       "      <th>Information_campaigns</th>\n",
       "      <th>Testing_policy</th>\n",
       "      <th>Contact_tracing</th>\n",
       "      <th>Stringency_index</th>\n",
       "    </tr>\n",
       "  </thead>\n",
       "  <tbody>\n",
       "    <tr>\n",
       "      <th>235</th>\n",
       "      <td>2020-08-26</td>\n",
       "      <td>1</td>\n",
       "      <td>1</td>\n",
       "      <td>1</td>\n",
       "      <td>0</td>\n",
       "      <td>0</td>\n",
       "      <td>1</td>\n",
       "      <td>1</td>\n",
       "      <td>3</td>\n",
       "      <td>2</td>\n",
       "      <td>2</td>\n",
       "      <td>1</td>\n",
       "      <td>30.56</td>\n",
       "    </tr>\n",
       "    <tr>\n",
       "      <th>236</th>\n",
       "      <td>2020-08-27</td>\n",
       "      <td>1</td>\n",
       "      <td>1</td>\n",
       "      <td>1</td>\n",
       "      <td>0</td>\n",
       "      <td>0</td>\n",
       "      <td>1</td>\n",
       "      <td>1</td>\n",
       "      <td>3</td>\n",
       "      <td>2</td>\n",
       "      <td>2</td>\n",
       "      <td>1</td>\n",
       "      <td>30.56</td>\n",
       "    </tr>\n",
       "    <tr>\n",
       "      <th>237</th>\n",
       "      <td>2020-08-28</td>\n",
       "      <td>1</td>\n",
       "      <td>1</td>\n",
       "      <td>1</td>\n",
       "      <td>0</td>\n",
       "      <td>0</td>\n",
       "      <td>1</td>\n",
       "      <td>1</td>\n",
       "      <td>3</td>\n",
       "      <td>2</td>\n",
       "      <td>2</td>\n",
       "      <td>1</td>\n",
       "      <td>30.56</td>\n",
       "    </tr>\n",
       "    <tr>\n",
       "      <th>238</th>\n",
       "      <td>2020-08-29</td>\n",
       "      <td>1</td>\n",
       "      <td>1</td>\n",
       "      <td>1</td>\n",
       "      <td>0</td>\n",
       "      <td>0</td>\n",
       "      <td>1</td>\n",
       "      <td>1</td>\n",
       "      <td>3</td>\n",
       "      <td>2</td>\n",
       "      <td>2</td>\n",
       "      <td>1</td>\n",
       "      <td>30.56</td>\n",
       "    </tr>\n",
       "    <tr>\n",
       "      <th>239</th>\n",
       "      <td>2020-08-30</td>\n",
       "      <td>1</td>\n",
       "      <td>1</td>\n",
       "      <td>1</td>\n",
       "      <td>0</td>\n",
       "      <td>0</td>\n",
       "      <td>1</td>\n",
       "      <td>1</td>\n",
       "      <td>3</td>\n",
       "      <td>2</td>\n",
       "      <td>2</td>\n",
       "      <td>1</td>\n",
       "      <td>30.56</td>\n",
       "    </tr>\n",
       "  </tbody>\n",
       "</table>\n",
       "</div>"
      ],
      "text/plain": [
       "          Date  School_closing  Workplace_closing  Cancel_events  \\\n",
       "235 2020-08-26               1                  1              1   \n",
       "236 2020-08-27               1                  1              1   \n",
       "237 2020-08-28               1                  1              1   \n",
       "238 2020-08-29               1                  1              1   \n",
       "239 2020-08-30               1                  1              1   \n",
       "\n",
       "     Gatherings_restrictions  Transport_closing  Stay_home_restrictions  \\\n",
       "235                        0                  0                       1   \n",
       "236                        0                  0                       1   \n",
       "237                        0                  0                       1   \n",
       "238                        0                  0                       1   \n",
       "239                        0                  0                       1   \n",
       "\n",
       "     Internal_movement_restrictions  International_movement_restrictions  \\\n",
       "235                               1                                    3   \n",
       "236                               1                                    3   \n",
       "237                               1                                    3   \n",
       "238                               1                                    3   \n",
       "239                               1                                    3   \n",
       "\n",
       "     Information_campaigns  Testing_policy  Contact_tracing  Stringency_index  \n",
       "235                      2               2                1             30.56  \n",
       "236                      2               2                1             30.56  \n",
       "237                      2               2                1             30.56  \n",
       "238                      2               2                1             30.56  \n",
       "239                      2               2                1             30.56  "
      ]
     },
     "execution_count": 24,
     "metadata": {},
     "output_type": "execute_result"
    }
   ],
   "source": [
    "# Subset for a country (using ISO3 code)\n",
    "oxcgrt_data.subset(\"JPN\").tail()"
   ]
  },
  {
   "cell_type": "markdown",
   "metadata": {},
   "source": [
    "## Scenario analysis\n",
    "As an example, we will analysis the number of cases in Japan."
   ]
  },
  {
   "cell_type": "code",
   "execution_count": 25,
   "metadata": {
    "collapsed": false
   },
   "outputs": [],
   "source": [
    "scenario = cs.Scenario(jhu_data, population_data, country=\"Japan\", province=None)"
   ]
  },
  {
   "cell_type": "markdown",
   "metadata": {},
   "source": [
    "### Check records"
   ]
  },
  {
   "cell_type": "code",
   "execution_count": 26,
   "metadata": {
    "collapsed": false
   },
   "outputs": [
    {
     "data": {
      "image/png": "[encoded data removed]",
      "text/plain": [
       "<Figure size 648x432 with 1 Axes>"
      ]
     },
     "metadata": {},
     "output_type": "display_data"
    },
    {
     "data": {
      "text/html": [
       "<div>\n",
       "<style scoped>\n",
       "    .dataframe tbody tr th:only-of-type {\n",
       "        vertical-align: middle;\n",
       "    }\n",
       "\n",
       "    .dataframe tbody tr th {\n",
       "        vertical-align: top;\n",
       "    }\n",
       "\n",
       "    .dataframe thead th {\n",
       "        text-align: right;\n",
       "    }\n",
       "</style>\n",
       "<table border=\"1\" class=\"dataframe\">\n",
       "  <thead>\n",
       "    <tr style=\"text-align: right;\">\n",
       "      <th></th>\n",
       "      <th>Date</th>\n",
       "      <th>Confirmed</th>\n",
       "      <th>Infected</th>\n",
       "      <th>Fatal</th>\n",
       "      <th>Recovered</th>\n",
       "    </tr>\n",
       "  </thead>\n",
       "  <tbody>\n",
       "    <tr>\n",
       "      <th>197</th>\n",
       "      <td>2020-08-26</td>\n",
       "      <td>63822</td>\n",
       "      <td>10925</td>\n",
       "      <td>1209</td>\n",
       "      <td>51688</td>\n",
       "    </tr>\n",
       "    <tr>\n",
       "      <th>198</th>\n",
       "      <td>2020-08-27</td>\n",
       "      <td>64668</td>\n",
       "      <td>10619</td>\n",
       "      <td>1226</td>\n",
       "      <td>52823</td>\n",
       "    </tr>\n",
       "    <tr>\n",
       "      <th>199</th>\n",
       "      <td>2020-08-28</td>\n",
       "      <td>65573</td>\n",
       "      <td>10340</td>\n",
       "      <td>1238</td>\n",
       "      <td>53995</td>\n",
       "    </tr>\n",
       "    <tr>\n",
       "      <th>200</th>\n",
       "      <td>2020-08-29</td>\n",
       "      <td>66423</td>\n",
       "      <td>9827</td>\n",
       "      <td>1255</td>\n",
       "      <td>55341</td>\n",
       "    </tr>\n",
       "    <tr>\n",
       "      <th>201</th>\n",
       "      <td>2020-08-30</td>\n",
       "      <td>67264</td>\n",
       "      <td>9836</td>\n",
       "      <td>1264</td>\n",
       "      <td>56164</td>\n",
       "    </tr>\n",
       "  </tbody>\n",
       "</table>\n",
       "</div>"
      ],
      "text/plain": [
       "          Date  Confirmed  Infected  Fatal  Recovered\n",
       "197 2020-08-26      63822     10925   1209      51688\n",
       "198 2020-08-27      64668     10619   1226      52823\n",
       "199 2020-08-28      65573     10340   1238      53995\n",
       "200 2020-08-29      66423      9827   1255      55341\n",
       "201 2020-08-30      67264      9836   1264      56164"
      ]
     },
     "execution_count": 26,
     "metadata": {},
     "output_type": "execute_result"
    }
   ],
   "source": [
    "import matplotlib\n",
    "warnings.simplefilter(\"ignore\", category=matplotlib.MatplotlibDeprecationWarning)\n",
    "record_df = scenario.records()\n",
    "record_df.tail()"
   ]
  },
  {
   "cell_type": "markdown",
   "metadata": {},
   "source": [
    "### S-R trend analysis"
   ]
  },
  {
   "cell_type": "code",
   "execution_count": 27,
   "metadata": {
    "collapsed": false
   },
   "outputs": [
    {
     "data": {
      "image/png": "[encoded data removed]",
      "text/plain": [
       "<Figure size 648x432 with 1 Axes>"
      ]
     },
     "metadata": {},
     "output_type": "display_data"
    },
    {
     "data": {
      "text/html": [
       "<div>\n",
       "<style scoped>\n",
       "    .dataframe tbody tr th:only-of-type {\n",
       "        vertical-align: middle;\n",
       "    }\n",
       "\n",
       "    .dataframe tbody tr th {\n",
       "        vertical-align: top;\n",
       "    }\n",
       "\n",
       "    .dataframe thead th {\n",
       "        text-align: right;\n",
       "    }\n",
       "</style>\n",
       "<table border=\"1\" class=\"dataframe\">\n",
       "  <thead>\n",
       "    <tr style=\"text-align: right;\">\n",
       "      <th></th>\n",
       "      <th>Type</th>\n",
       "      <th>Start</th>\n",
       "      <th>End</th>\n",
       "      <th>Population</th>\n",
       "    </tr>\n",
       "  </thead>\n",
       "  <tbody>\n",
       "    <tr>\n",
       "      <th>1st</th>\n",
       "      <td>Past</td>\n",
       "      <td>22Apr2020</td>\n",
       "      <td>04Jul2020</td>\n",
       "      <td>126529100</td>\n",
       "    </tr>\n",
       "    <tr>\n",
       "      <th>2nd</th>\n",
       "      <td>Past</td>\n",
       "      <td>05Jul2020</td>\n",
       "      <td>22Jul2020</td>\n",
       "      <td>126529100</td>\n",
       "    </tr>\n",
       "    <tr>\n",
       "      <th>3rd</th>\n",
       "      <td>Past</td>\n",
       "      <td>23Jul2020</td>\n",
       "      <td>31Jul2020</td>\n",
       "      <td>126529100</td>\n",
       "    </tr>\n",
       "    <tr>\n",
       "      <th>4th</th>\n",
       "      <td>Past</td>\n",
       "      <td>01Aug2020</td>\n",
       "      <td>10Aug2020</td>\n",
       "      <td>126529100</td>\n",
       "    </tr>\n",
       "    <tr>\n",
       "      <th>5th</th>\n",
       "      <td>Past</td>\n",
       "      <td>11Aug2020</td>\n",
       "      <td>21Aug2020</td>\n",
       "      <td>126529100</td>\n",
       "    </tr>\n",
       "    <tr>\n",
       "      <th>6th</th>\n",
       "      <td>Past</td>\n",
       "      <td>22Aug2020</td>\n",
       "      <td>30Aug2020</td>\n",
       "      <td>126529100</td>\n",
       "    </tr>\n",
       "  </tbody>\n",
       "</table>\n",
       "</div>"
      ],
      "text/plain": [
       "     Type      Start        End  Population\n",
       "1st  Past  22Apr2020  04Jul2020   126529100\n",
       "2nd  Past  05Jul2020  22Jul2020   126529100\n",
       "3rd  Past  23Jul2020  31Jul2020   126529100\n",
       "4th  Past  01Aug2020  10Aug2020   126529100\n",
       "5th  Past  11Aug2020  21Aug2020   126529100\n",
       "6th  Past  22Aug2020  30Aug2020   126529100"
      ]
     },
     "execution_count": 27,
     "metadata": {},
     "output_type": "execute_result"
    }
   ],
   "source": [
    "scenario.trend(set_phases=True)\n",
    "scenario.summary()"
   ]
  },
  {
   "cell_type": "markdown",
   "metadata": {},
   "source": [
    "### Hyperparameter estimation of ODE models\n",
    "As an example, use SIR-F model.\n",
    "We can use SIR, SIRD, (SIRFV), (SEWIRF)."
   ]
  },
  {
   "cell_type": "code",
   "execution_count": 28,
   "metadata": {
    "collapsed": false,
    "tags": []
   },
   "outputs": [
    {
     "name": "stdout",
     "output_type": "stream",
     "text": [
      "\n",
      "<SIR-F model: parameter estimation>"
     ]
    },
    {
     "name": "stdout",
     "output_type": "stream",
     "text": [
      "\n"
     ]
    },
    {
     "name": "stdout",
     "output_type": "stream",
     "text": [
      "Running optimization with 4 CPUs..."
     ]
    },
    {
     "name": "stdout",
     "output_type": "stream",
     "text": [
      "\n"
     ]
    },
    {
     "name": "stdout",
     "output_type": "stream",
     "text": [
      "\t6th phase (22Aug2020 - 30Aug2020): finished  155 trials in 0 min  5 sec"
     ]
    },
    {
     "name": "stdout",
     "output_type": "stream",
     "text": [
      "\n"
     ]
    },
    {
     "name": "stdout",
     "output_type": "stream",
     "text": [
      "\t3rd phase (23Jul2020 - 31Jul2020): finished  482 trials in 0 min 10 sec"
     ]
    },
    {
     "name": "stdout",
     "output_type": "stream",
     "text": [
      "\n"
     ]
    },
    {
     "name": "stdout",
     "output_type": "stream",
     "text": [
      "\t2nd phase (05Jul2020 - 22Jul2020): finished 1908 trials in 1 min  0 sec"
     ]
    },
    {
     "name": "stdout",
     "output_type": "stream",
     "text": [
      "\n"
     ]
    },
    {
     "name": "stdout",
     "output_type": "stream",
     "text": [
      "\t4th phase (01Aug2020 - 10Aug2020): finished 1906 trials in 1 min  0 sec"
     ]
    },
    {
     "name": "stdout",
     "output_type": "stream",
     "text": [
      "\n"
     ]
    },
    {
     "name": "stdout",
     "output_type": "stream",
     "text": [
      "\t1st phase (22Apr2020 - 04Jul2020): finished 1832 trials in 1 min  0 sec"
     ]
    },
    {
     "name": "stdout",
     "output_type": "stream",
     "text": [
      "\n"
     ]
    },
    {
     "name": "stdout",
     "output_type": "stream",
     "text": [
      "\t5th phase (11Aug2020 - 21Aug2020): finished 1916 trials in 1 min  0 sec"
     ]
    },
    {
     "name": "stdout",
     "output_type": "stream",
     "text": [
      "\n"
     ]
    },
    {
     "name": "stdout",
     "output_type": "stream",
     "text": [
      "Completed optimization. Total: 1 min 15 sec"
     ]
    },
    {
     "name": "stdout",
     "output_type": "stream",
     "text": [
      "\n"
     ]
    }
   ],
   "source": [
    "scenario.estimate(cs.SIRF)"
   ]
  },
  {
   "cell_type": "code",
   "execution_count": 29,
   "metadata": {
    "collapsed": false
   },
   "outputs": [
    {
     "data": {
      "text/html": [
       "<div>\n",
       "<style scoped>\n",
       "    .dataframe tbody tr th:only-of-type {\n",
       "        vertical-align: middle;\n",
       "    }\n",
       "\n",
       "    .dataframe tbody tr th {\n",
       "        vertical-align: top;\n",
       "    }\n",
       "\n",
       "    .dataframe thead th {\n",
       "        text-align: right;\n",
       "    }\n",
       "</style>\n",
       "<table border=\"1\" class=\"dataframe\">\n",
       "  <thead>\n",
       "    <tr style=\"text-align: right;\">\n",
       "      <th></th>\n",
       "      <th>Type</th>\n",
       "      <th>Start</th>\n",
       "      <th>End</th>\n",
       "      <th>Population</th>\n",
       "      <th>ODE</th>\n",
       "      <th>Rt</th>\n",
       "      <th>theta</th>\n",
       "      <th>kappa</th>\n",
       "      <th>rho</th>\n",
       "      <th>sigma</th>\n",
       "      <th>tau</th>\n",
       "      <th>alpha1 [-]</th>\n",
       "      <th>1/alpha2 [day]</th>\n",
       "      <th>1/gamma [day]</th>\n",
       "      <th>1/beta [day]</th>\n",
       "      <th>RMSLE</th>\n",
       "      <th>Trials</th>\n",
       "      <th>Runtime</th>\n",
       "    </tr>\n",
       "  </thead>\n",
       "  <tbody>\n",
       "    <tr>\n",
       "      <th>1st</th>\n",
       "      <td>Past</td>\n",
       "      <td>22Apr2020</td>\n",
       "      <td>04Jul2020</td>\n",
       "      <td>126529100</td>\n",
       "      <td>SIR-F</td>\n",
       "      <td>0.40</td>\n",
       "      <td>0.061665</td>\n",
       "      <td>0.000489</td>\n",
       "      <td>0.010303</td>\n",
       "      <td>0.023496</td>\n",
       "      <td>480</td>\n",
       "      <td>0.062</td>\n",
       "      <td>682</td>\n",
       "      <td>14</td>\n",
       "      <td>32</td>\n",
       "      <td>0.883772</td>\n",
       "      <td>1832</td>\n",
       "      <td>1 min  0 sec</td>\n",
       "    </tr>\n",
       "    <tr>\n",
       "      <th>2nd</th>\n",
       "      <td>Past</td>\n",
       "      <td>05Jul2020</td>\n",
       "      <td>22Jul2020</td>\n",
       "      <td>126529100</td>\n",
       "      <td>SIR-F</td>\n",
       "      <td>1.99</td>\n",
       "      <td>0.000489</td>\n",
       "      <td>0.000106</td>\n",
       "      <td>0.047411</td>\n",
       "      <td>0.023739</td>\n",
       "      <td>480</td>\n",
       "      <td>0.000</td>\n",
       "      <td>3152</td>\n",
       "      <td>14</td>\n",
       "      <td>7</td>\n",
       "      <td>0.030746</td>\n",
       "      <td>1908</td>\n",
       "      <td>1 min  0 sec</td>\n",
       "    </tr>\n",
       "    <tr>\n",
       "      <th>3rd</th>\n",
       "      <td>Past</td>\n",
       "      <td>23Jul2020</td>\n",
       "      <td>31Jul2020</td>\n",
       "      <td>126529100</td>\n",
       "      <td>SIR-F</td>\n",
       "      <td>1.89</td>\n",
       "      <td>0.000250</td>\n",
       "      <td>0.000076</td>\n",
       "      <td>0.046174</td>\n",
       "      <td>0.024298</td>\n",
       "      <td>480</td>\n",
       "      <td>0.000</td>\n",
       "      <td>4393</td>\n",
       "      <td>13</td>\n",
       "      <td>7</td>\n",
       "      <td>0.033084</td>\n",
       "      <td>482</td>\n",
       "      <td>0 min 10 sec</td>\n",
       "    </tr>\n",
       "    <tr>\n",
       "      <th>4th</th>\n",
       "      <td>Past</td>\n",
       "      <td>01Aug2020</td>\n",
       "      <td>10Aug2020</td>\n",
       "      <td>126529100</td>\n",
       "      <td>SIR-F</td>\n",
       "      <td>1.76</td>\n",
       "      <td>0.000011</td>\n",
       "      <td>0.000099</td>\n",
       "      <td>0.038092</td>\n",
       "      <td>0.021494</td>\n",
       "      <td>480</td>\n",
       "      <td>0.000</td>\n",
       "      <td>3368</td>\n",
       "      <td>15</td>\n",
       "      <td>8</td>\n",
       "      <td>0.033158</td>\n",
       "      <td>1906</td>\n",
       "      <td>1 min  0 sec</td>\n",
       "    </tr>\n",
       "    <tr>\n",
       "      <th>5th</th>\n",
       "      <td>Past</td>\n",
       "      <td>11Aug2020</td>\n",
       "      <td>21Aug2020</td>\n",
       "      <td>126529100</td>\n",
       "      <td>SIR-F</td>\n",
       "      <td>0.89</td>\n",
       "      <td>0.000288</td>\n",
       "      <td>0.000216</td>\n",
       "      <td>0.027070</td>\n",
       "      <td>0.030161</td>\n",
       "      <td>480</td>\n",
       "      <td>0.000</td>\n",
       "      <td>1543</td>\n",
       "      <td>11</td>\n",
       "      <td>12</td>\n",
       "      <td>0.020803</td>\n",
       "      <td>1916</td>\n",
       "      <td>1 min  0 sec</td>\n",
       "    </tr>\n",
       "    <tr>\n",
       "      <th>6th</th>\n",
       "      <td>Past</td>\n",
       "      <td>22Aug2020</td>\n",
       "      <td>30Aug2020</td>\n",
       "      <td>126529100</td>\n",
       "      <td>SIR-F</td>\n",
       "      <td>0.75</td>\n",
       "      <td>0.001284</td>\n",
       "      <td>0.000343</td>\n",
       "      <td>0.026885</td>\n",
       "      <td>0.035380</td>\n",
       "      <td>480</td>\n",
       "      <td>0.001</td>\n",
       "      <td>973</td>\n",
       "      <td>9</td>\n",
       "      <td>12</td>\n",
       "      <td>0.020583</td>\n",
       "      <td>155</td>\n",
       "      <td>0 min  5 sec</td>\n",
       "    </tr>\n",
       "  </tbody>\n",
       "</table>\n",
       "</div>"
      ],
      "text/plain": [
       "     Type      Start        End  Population    ODE    Rt     theta     kappa  \\\n",
       "1st  Past  22Apr2020  04Jul2020   126529100  SIR-F  0.40  0.061665  0.000489   \n",
       "2nd  Past  05Jul2020  22Jul2020   126529100  SIR-F  1.99  0.000489  0.000106   \n",
       "3rd  Past  23Jul2020  31Jul2020   126529100  SIR-F  1.89  0.000250  0.000076   \n",
       "4th  Past  01Aug2020  10Aug2020   126529100  SIR-F  1.76  0.000011  0.000099   \n",
       "5th  Past  11Aug2020  21Aug2020   126529100  SIR-F  0.89  0.000288  0.000216   \n",
       "6th  Past  22Aug2020  30Aug2020   126529100  SIR-F  0.75  0.001284  0.000343   \n",
       "\n",
       "          rho     sigma  tau  alpha1 [-]  1/alpha2 [day]  1/gamma [day]  \\\n",
       "1st  0.010303  0.023496  480       0.062             682             14   \n",
       "2nd  0.047411  0.023739  480       0.000            3152             14   \n",
       "3rd  0.046174  0.024298  480       0.000            4393             13   \n",
       "4th  0.038092  0.021494  480       0.000            3368             15   \n",
       "5th  0.027070  0.030161  480       0.000            1543             11   \n",
       "6th  0.026885  0.035380  480       0.001             973              9   \n",
       "\n",
       "     1/beta [day]     RMSLE  Trials       Runtime  \n",
       "1st            32  0.883772    1832  1 min  0 sec  \n",
       "2nd             7  0.030746    1908  1 min  0 sec  \n",
       "3rd             7  0.033084     482  0 min 10 sec  \n",
       "4th             8  0.033158    1906  1 min  0 sec  \n",
       "5th            12  0.020803    1916  1 min  0 sec  \n",
       "6th            12  0.020583     155  0 min  5 sec  "
      ]
     },
     "execution_count": 29,
     "metadata": {},
     "output_type": "execute_result"
    }
   ],
   "source": [
    "scenario.summary()"
   ]
  },
  {
   "cell_type": "markdown",
   "metadata": {},
   "source": [
    "### Accuracy of estimation"
   ]
  },
  {
   "cell_type": "code",
   "execution_count": 30,
   "metadata": {
    "collapsed": false
   },
   "outputs": [
    {
     "data": {
      "image/png": "[encoded data removed]",
      "text/plain": [
       "<Figure size 648x864 with 4 Axes>"
      ]
     },
     "metadata": {},
     "output_type": "display_data"
    }
   ],
   "source": [
    "scenario.estimate_accuracy(phase=\"1st\")"
   ]
  },
  {
   "cell_type": "markdown",
   "metadata": {},
   "source": [
    "### Get parameter value"
   ]
  },
  {
   "cell_type": "code",
   "execution_count": 31,
   "metadata": {
    "collapsed": false
   },
   "outputs": [
    {
     "data": {
      "text/plain": [
       "1.76"
      ]
     },
     "execution_count": 31,
     "metadata": {},
     "output_type": "execute_result"
    }
   ],
   "source": [
    "scenario.get(\"Rt\", phase=\"4th\")"
   ]
  },
  {
   "cell_type": "markdown",
   "metadata": {},
   "source": [
    "### Show parameter history"
   ]
  },
  {
   "cell_type": "code",
   "execution_count": 32,
   "metadata": {
    "collapsed": false
   },
   "outputs": [
    {
     "data": {
      "image/png": "[encoded data removed]",
      "text/plain": [
       "<Figure size 648x432 with 1 Axes>"
      ]
     },
     "metadata": {},
     "output_type": "display_data"
    },
    {
     "data": {
      "text/html": [
       "<div>\n",
       "<style scoped>\n",
       "    .dataframe tbody tr th:only-of-type {\n",
       "        vertical-align: middle;\n",
       "    }\n",
       "\n",
       "    .dataframe tbody tr th {\n",
       "        vertical-align: top;\n",
       "    }\n",
       "\n",
       "    .dataframe thead th {\n",
       "        text-align: right;\n",
       "    }\n",
       "</style>\n",
       "<table border=\"1\" class=\"dataframe\">\n",
       "  <thead>\n",
       "    <tr style=\"text-align: right;\">\n",
       "      <th></th>\n",
       "      <th>1st</th>\n",
       "      <th>2nd</th>\n",
       "      <th>3rd</th>\n",
       "      <th>4th</th>\n",
       "      <th>5th</th>\n",
       "      <th>6th</th>\n",
       "    </tr>\n",
       "  </thead>\n",
       "  <tbody>\n",
       "    <tr>\n",
       "      <th>rho</th>\n",
       "      <td>1.0</td>\n",
       "      <td>4.601835</td>\n",
       "      <td>4.481737</td>\n",
       "      <td>3.697234</td>\n",
       "      <td>2.627480</td>\n",
       "      <td>2.609539</td>\n",
       "    </tr>\n",
       "    <tr>\n",
       "      <th>sigma</th>\n",
       "      <td>1.0</td>\n",
       "      <td>1.010345</td>\n",
       "      <td>1.034138</td>\n",
       "      <td>0.914797</td>\n",
       "      <td>1.283683</td>\n",
       "      <td>1.505824</td>\n",
       "    </tr>\n",
       "  </tbody>\n",
       "</table>\n",
       "</div>"
      ],
      "text/plain": [
       "       1st       2nd       3rd       4th       5th       6th\n",
       "rho    1.0  4.601835  4.481737  3.697234  2.627480  2.609539\n",
       "sigma  1.0  1.010345  1.034138  0.914797  1.283683  1.505824"
      ]
     },
     "execution_count": 32,
     "metadata": {},
     "output_type": "execute_result"
    }
   ],
   "source": [
    "df = scenario.param_history(targets=[\"rho\", \"sigma\"])\n",
    "df.T"
   ]
  },
  {
   "cell_type": "code",
   "execution_count": 33,
   "metadata": {
    "collapsed": false
   },
   "outputs": [
    {
     "data": {
      "image/png": "[encoded data removed]",
      "text/plain": [
       "<Figure size 648x432 with 1 Axes>"
      ]
     },
     "metadata": {},
     "output_type": "display_data"
    }
   ],
   "source": [
    "# version >= 2.8.0\n",
    "_ = scenario.history(target=\"rho\")"
   ]
  },
  {
   "cell_type": "code",
   "execution_count": 34,
   "metadata": {
    "collapsed": false
   },
   "outputs": [
    {
     "data": {
      "image/png": "[encoded data removed]",
      "text/plain": [
       "<Figure size 648x432 with 1 Axes>"
      ]
     },
     "metadata": {},
     "output_type": "display_data"
    }
   ],
   "source": [
    "# version >= 2.8.0\n",
    "_ = scenario.history(target=\"sigma\")"
   ]
  },
  {
   "cell_type": "markdown",
   "metadata": {},
   "source": [
    "### Show the history of reproduction number"
   ]
  },
  {
   "cell_type": "code",
   "execution_count": 35,
   "metadata": {
    "collapsed": false
   },
   "outputs": [
    {
     "data": {
      "image/png": "[encoded data removed]",
      "text/plain": [
       "<Figure size 648x432 with 1 Axes>"
      ]
     },
     "metadata": {},
     "output_type": "display_data"
    },
    {
     "data": {
      "text/html": [
       "<div>\n",
       "<style scoped>\n",
       "    .dataframe tbody tr th:only-of-type {\n",
       "        vertical-align: middle;\n",
       "    }\n",
       "\n",
       "    .dataframe tbody tr th {\n",
       "        vertical-align: top;\n",
       "    }\n",
       "\n",
       "    .dataframe thead th {\n",
       "        text-align: right;\n",
       "    }\n",
       "</style>\n",
       "<table border=\"1\" class=\"dataframe\">\n",
       "  <thead>\n",
       "    <tr style=\"text-align: right;\">\n",
       "      <th></th>\n",
       "      <th>1st</th>\n",
       "      <th>2nd</th>\n",
       "      <th>3rd</th>\n",
       "      <th>4th</th>\n",
       "      <th>5th</th>\n",
       "      <th>6th</th>\n",
       "    </tr>\n",
       "  </thead>\n",
       "  <tbody>\n",
       "    <tr>\n",
       "      <th>Rt</th>\n",
       "      <td>0.4</td>\n",
       "      <td>1.99</td>\n",
       "      <td>1.89</td>\n",
       "      <td>1.76</td>\n",
       "      <td>0.89</td>\n",
       "      <td>0.75</td>\n",
       "    </tr>\n",
       "  </tbody>\n",
       "</table>\n",
       "</div>"
      ],
      "text/plain": [
       "    1st   2nd   3rd   4th   5th   6th\n",
       "Rt  0.4  1.99  1.89  1.76  0.89  0.75"
      ]
     },
     "execution_count": 35,
     "metadata": {},
     "output_type": "execute_result"
    }
   ],
   "source": [
    "df = scenario.param_history(targets=[\"Rt\"], divide_by_first=False, show_box_plot=True)\n",
    "df.T"
   ]
  },
  {
   "cell_type": "code",
   "execution_count": 36,
   "metadata": {
    "collapsed": false
   },
   "outputs": [
    {
     "data": {
      "image/png": "[encoded data removed]",
      "text/plain": [
       "<Figure size 648x432 with 1 Axes>"
      ]
     },
     "metadata": {},
     "output_type": "display_data"
    }
   ],
   "source": [
    "# version >= 2.8.0\n",
    "_ = scenario.history(target=\"Rt\")"
   ]
  },
  {
   "cell_type": "markdown",
   "metadata": {},
   "source": [
    "### Simulate the number of cases"
   ]
  },
  {
   "cell_type": "code",
   "execution_count": 37,
   "metadata": {
    "collapsed": false
   },
   "outputs": [
    {
     "data": {
      "image/png": "[encoded data removed]",
      "text/plain": [
       "<Figure size 648x432 with 1 Axes>"
      ]
     },
     "metadata": {},
     "output_type": "display_data"
    },
    {
     "data": {
      "text/html": [
       "<div>\n",
       "<style scoped>\n",
       "    .dataframe tbody tr th:only-of-type {\n",
       "        vertical-align: middle;\n",
       "    }\n",
       "\n",
       "    .dataframe tbody tr th {\n",
       "        vertical-align: top;\n",
       "    }\n",
       "\n",
       "    .dataframe thead th {\n",
       "        text-align: right;\n",
       "    }\n",
       "</style>\n",
       "<table border=\"1\" class=\"dataframe\">\n",
       "  <thead>\n",
       "    <tr style=\"text-align: right;\">\n",
       "      <th></th>\n",
       "      <th>Date</th>\n",
       "      <th>Confirmed</th>\n",
       "      <th>Fatal</th>\n",
       "      <th>Infected</th>\n",
       "      <th>Recovered</th>\n",
       "    </tr>\n",
       "  </thead>\n",
       "  <tbody>\n",
       "    <tr>\n",
       "      <th>251</th>\n",
       "      <td>2020-12-29</td>\n",
       "      <td>95672</td>\n",
       "      <td>1659</td>\n",
       "      <td>384</td>\n",
       "      <td>93629</td>\n",
       "    </tr>\n",
       "    <tr>\n",
       "      <th>252</th>\n",
       "      <td>2020-12-30</td>\n",
       "      <td>95703</td>\n",
       "      <td>1660</td>\n",
       "      <td>374</td>\n",
       "      <td>93669</td>\n",
       "    </tr>\n",
       "    <tr>\n",
       "      <th>253</th>\n",
       "      <td>2020-12-31</td>\n",
       "      <td>95732</td>\n",
       "      <td>1660</td>\n",
       "      <td>364</td>\n",
       "      <td>93708</td>\n",
       "    </tr>\n",
       "    <tr>\n",
       "      <th>254</th>\n",
       "      <td>2021-01-01</td>\n",
       "      <td>95761</td>\n",
       "      <td>1660</td>\n",
       "      <td>355</td>\n",
       "      <td>93746</td>\n",
       "    </tr>\n",
       "    <tr>\n",
       "      <th>255</th>\n",
       "      <td>2021-01-02</td>\n",
       "      <td>95789</td>\n",
       "      <td>1661</td>\n",
       "      <td>345</td>\n",
       "      <td>93783</td>\n",
       "    </tr>\n",
       "  </tbody>\n",
       "</table>\n",
       "</div>"
      ],
      "text/plain": [
       "          Date  Confirmed  Fatal  Infected  Recovered\n",
       "251 2020-12-29      95672   1659       384      93629\n",
       "252 2020-12-30      95703   1660       374      93669\n",
       "253 2020-12-31      95732   1660       364      93708\n",
       "254 2021-01-01      95761   1660       355      93746\n",
       "255 2021-01-02      95789   1661       345      93783"
      ]
     },
     "execution_count": 37,
     "metadata": {},
     "output_type": "execute_result"
    }
   ],
   "source": [
    "scenario.clear(name=\"Main\")\n",
    "scenario.add(end_date=\"01Jan2021\", name=\"Main\")\n",
    "main_sim_df = scenario.simulate(name=\"Main\")\n",
    "main_sim_df.tail()"
   ]
  },
  {
   "cell_type": "markdown",
   "metadata": {},
   "source": [
    "### Simulate another scenario\n",
    "If $\\sigma$ will be double in 30 days, how many cases will be?"
   ]
  },
  {
   "cell_type": "code",
   "execution_count": 38,
   "metadata": {
    "collapsed": false
   },
   "outputs": [
    {
     "data": {
      "text/plain": [
       "0.035380193242603816"
      ]
     },
     "execution_count": 38,
     "metadata": {},
     "output_type": "execute_result"
    }
   ],
   "source": [
    "sigma_current = scenario.get(\"sigma\", name=\"Main\", phase=\"last\")\n",
    "sigma_current"
   ]
  },
  {
   "cell_type": "code",
   "execution_count": 39,
   "metadata": {
    "collapsed": false
   },
   "outputs": [
    {
     "data": {
      "text/plain": [
       "0.07076038648520763"
      ]
     },
     "execution_count": 39,
     "metadata": {},
     "output_type": "execute_result"
    }
   ],
   "source": [
    "sigma_new = sigma_current * 2\n",
    "sigma_new"
   ]
  },
  {
   "cell_type": "code",
   "execution_count": 40,
   "metadata": {
    "collapsed": false
   },
   "outputs": [
    {
     "data": {
      "text/html": [
       "<div>\n",
       "<style scoped>\n",
       "    .dataframe tbody tr th:only-of-type {\n",
       "        vertical-align: middle;\n",
       "    }\n",
       "\n",
       "    .dataframe tbody tr th {\n",
       "        vertical-align: top;\n",
       "    }\n",
       "\n",
       "    .dataframe thead th {\n",
       "        text-align: right;\n",
       "    }\n",
       "</style>\n",
       "<table border=\"1\" class=\"dataframe\">\n",
       "  <thead>\n",
       "    <tr style=\"text-align: right;\">\n",
       "      <th></th>\n",
       "      <th></th>\n",
       "      <th>Type</th>\n",
       "      <th>Start</th>\n",
       "      <th>End</th>\n",
       "      <th>Population</th>\n",
       "      <th>ODE</th>\n",
       "      <th>Rt</th>\n",
       "      <th>theta</th>\n",
       "      <th>kappa</th>\n",
       "      <th>rho</th>\n",
       "      <th>sigma</th>\n",
       "      <th>tau</th>\n",
       "      <th>alpha1 [-]</th>\n",
       "      <th>1/alpha2 [day]</th>\n",
       "      <th>1/gamma [day]</th>\n",
       "      <th>1/beta [day]</th>\n",
       "      <th>RMSLE</th>\n",
       "      <th>Trials</th>\n",
       "      <th>Runtime</th>\n",
       "    </tr>\n",
       "    <tr>\n",
       "      <th>Scenario</th>\n",
       "      <th>Phase</th>\n",
       "      <th></th>\n",
       "      <th></th>\n",
       "      <th></th>\n",
       "      <th></th>\n",
       "      <th></th>\n",
       "      <th></th>\n",
       "      <th></th>\n",
       "      <th></th>\n",
       "      <th></th>\n",
       "      <th></th>\n",
       "      <th></th>\n",
       "      <th></th>\n",
       "      <th></th>\n",
       "      <th></th>\n",
       "      <th></th>\n",
       "      <th></th>\n",
       "      <th></th>\n",
       "      <th></th>\n",
       "    </tr>\n",
       "  </thead>\n",
       "  <tbody>\n",
       "    <tr>\n",
       "      <th rowspan=\"7\" valign=\"top\">Main</th>\n",
       "      <th>1st</th>\n",
       "      <td>Past</td>\n",
       "      <td>22Apr2020</td>\n",
       "      <td>04Jul2020</td>\n",
       "      <td>126529100</td>\n",
       "      <td>SIR-F</td>\n",
       "      <td>0.40</td>\n",
       "      <td>0.061665</td>\n",
       "      <td>0.000489</td>\n",
       "      <td>0.010303</td>\n",
       "      <td>0.023496</td>\n",
       "      <td>480</td>\n",
       "      <td>0.062</td>\n",
       "      <td>682</td>\n",
       "      <td>14</td>\n",
       "      <td>32</td>\n",
       "      <td>0.883772</td>\n",
       "      <td>1832</td>\n",
       "      <td>1 min  0 sec</td>\n",
       "    </tr>\n",
       "    <tr>\n",
       "      <th>2nd</th>\n",
       "      <td>Past</td>\n",
       "      <td>05Jul2020</td>\n",
       "      <td>22Jul2020</td>\n",
       "      <td>126529100</td>\n",
       "      <td>SIR-F</td>\n",
       "      <td>1.99</td>\n",
       "      <td>0.000489</td>\n",
       "      <td>0.000106</td>\n",
       "      <td>0.047411</td>\n",
       "      <td>0.023739</td>\n",
       "      <td>480</td>\n",
       "      <td>0.000</td>\n",
       "      <td>3152</td>\n",
       "      <td>14</td>\n",
       "      <td>7</td>\n",
       "      <td>0.0307457</td>\n",
       "      <td>1908</td>\n",
       "      <td>1 min  0 sec</td>\n",
       "    </tr>\n",
       "    <tr>\n",
       "      <th>3rd</th>\n",
       "      <td>Past</td>\n",
       "      <td>23Jul2020</td>\n",
       "      <td>31Jul2020</td>\n",
       "      <td>126529100</td>\n",
       "      <td>SIR-F</td>\n",
       "      <td>1.89</td>\n",
       "      <td>0.000250</td>\n",
       "      <td>0.000076</td>\n",
       "      <td>0.046174</td>\n",
       "      <td>0.024298</td>\n",
       "      <td>480</td>\n",
       "      <td>0.000</td>\n",
       "      <td>4393</td>\n",
       "      <td>13</td>\n",
       "      <td>7</td>\n",
       "      <td>0.0330842</td>\n",
       "      <td>482</td>\n",
       "      <td>0 min 10 sec</td>\n",
       "    </tr>\n",
       "    <tr>\n",
       "      <th>4th</th>\n",
       "      <td>Past</td>\n",
       "      <td>01Aug2020</td>\n",
       "      <td>10Aug2020</td>\n",
       "      <td>126529100</td>\n",
       "      <td>SIR-F</td>\n",
       "      <td>1.76</td>\n",
       "      <td>0.000011</td>\n",
       "      <td>0.000099</td>\n",
       "      <td>0.038092</td>\n",
       "      <td>0.021494</td>\n",
       "      <td>480</td>\n",
       "      <td>0.000</td>\n",
       "      <td>3368</td>\n",
       "      <td>15</td>\n",
       "      <td>8</td>\n",
       "      <td>0.033158</td>\n",
       "      <td>1906</td>\n",
       "      <td>1 min  0 sec</td>\n",
       "    </tr>\n",
       "    <tr>\n",
       "      <th>5th</th>\n",
       "      <td>Past</td>\n",
       "      <td>11Aug2020</td>\n",
       "      <td>21Aug2020</td>\n",
       "      <td>126529100</td>\n",
       "      <td>SIR-F</td>\n",
       "      <td>0.89</td>\n",
       "      <td>0.000288</td>\n",
       "      <td>0.000216</td>\n",
       "      <td>0.027070</td>\n",
       "      <td>0.030161</td>\n",
       "      <td>480</td>\n",
       "      <td>0.000</td>\n",
       "      <td>1543</td>\n",
       "      <td>11</td>\n",
       "      <td>12</td>\n",
       "      <td>0.0208031</td>\n",
       "      <td>1916</td>\n",
       "      <td>1 min  0 sec</td>\n",
       "    </tr>\n",
       "    <tr>\n",
       "      <th>6th</th>\n",
       "      <td>Past</td>\n",
       "      <td>22Aug2020</td>\n",
       "      <td>30Aug2020</td>\n",
       "      <td>126529100</td>\n",
       "      <td>SIR-F</td>\n",
       "      <td>0.75</td>\n",
       "      <td>0.001284</td>\n",
       "      <td>0.000343</td>\n",
       "      <td>0.026885</td>\n",
       "      <td>0.035380</td>\n",
       "      <td>480</td>\n",
       "      <td>0.001</td>\n",
       "      <td>973</td>\n",
       "      <td>9</td>\n",
       "      <td>12</td>\n",
       "      <td>0.0205829</td>\n",
       "      <td>155</td>\n",
       "      <td>0 min  5 sec</td>\n",
       "    </tr>\n",
       "    <tr>\n",
       "      <th>7th</th>\n",
       "      <td>Future</td>\n",
       "      <td>31Aug2020</td>\n",
       "      <td>01Jan2021</td>\n",
       "      <td>126529100</td>\n",
       "      <td>SIR-F</td>\n",
       "      <td>0.75</td>\n",
       "      <td>0.001284</td>\n",
       "      <td>0.000343</td>\n",
       "      <td>0.026885</td>\n",
       "      <td>0.035380</td>\n",
       "      <td>480</td>\n",
       "      <td>0.001</td>\n",
       "      <td>973</td>\n",
       "      <td>9</td>\n",
       "      <td>12</td>\n",
       "      <td>-</td>\n",
       "      <td>-</td>\n",
       "      <td>-</td>\n",
       "    </tr>\n",
       "    <tr>\n",
       "      <th rowspan=\"8\" valign=\"top\">Medicine</th>\n",
       "      <th>1st</th>\n",
       "      <td>Past</td>\n",
       "      <td>22Apr2020</td>\n",
       "      <td>04Jul2020</td>\n",
       "      <td>126529100</td>\n",
       "      <td>SIR-F</td>\n",
       "      <td>0.40</td>\n",
       "      <td>0.061665</td>\n",
       "      <td>0.000489</td>\n",
       "      <td>0.010303</td>\n",
       "      <td>0.023496</td>\n",
       "      <td>480</td>\n",
       "      <td>0.062</td>\n",
       "      <td>682</td>\n",
       "      <td>14</td>\n",
       "      <td>32</td>\n",
       "      <td>0.883772</td>\n",
       "      <td>1832</td>\n",
       "      <td>1 min  0 sec</td>\n",
       "    </tr>\n",
       "    <tr>\n",
       "      <th>2nd</th>\n",
       "      <td>Past</td>\n",
       "      <td>05Jul2020</td>\n",
       "      <td>22Jul2020</td>\n",
       "      <td>126529100</td>\n",
       "      <td>SIR-F</td>\n",
       "      <td>1.99</td>\n",
       "      <td>0.000489</td>\n",
       "      <td>0.000106</td>\n",
       "      <td>0.047411</td>\n",
       "      <td>0.023739</td>\n",
       "      <td>480</td>\n",
       "      <td>0.000</td>\n",
       "      <td>3152</td>\n",
       "      <td>14</td>\n",
       "      <td>7</td>\n",
       "      <td>0.0307457</td>\n",
       "      <td>1908</td>\n",
       "      <td>1 min  0 sec</td>\n",
       "    </tr>\n",
       "    <tr>\n",
       "      <th>3rd</th>\n",
       "      <td>Past</td>\n",
       "      <td>23Jul2020</td>\n",
       "      <td>31Jul2020</td>\n",
       "      <td>126529100</td>\n",
       "      <td>SIR-F</td>\n",
       "      <td>1.89</td>\n",
       "      <td>0.000250</td>\n",
       "      <td>0.000076</td>\n",
       "      <td>0.046174</td>\n",
       "      <td>0.024298</td>\n",
       "      <td>480</td>\n",
       "      <td>0.000</td>\n",
       "      <td>4393</td>\n",
       "      <td>13</td>\n",
       "      <td>7</td>\n",
       "      <td>0.0330842</td>\n",
       "      <td>482</td>\n",
       "      <td>0 min 10 sec</td>\n",
       "    </tr>\n",
       "    <tr>\n",
       "      <th>4th</th>\n",
       "      <td>Past</td>\n",
       "      <td>01Aug2020</td>\n",
       "      <td>10Aug2020</td>\n",
       "      <td>126529100</td>\n",
       "      <td>SIR-F</td>\n",
       "      <td>1.76</td>\n",
       "      <td>0.000011</td>\n",
       "      <td>0.000099</td>\n",
       "      <td>0.038092</td>\n",
       "      <td>0.021494</td>\n",
       "      <td>480</td>\n",
       "      <td>0.000</td>\n",
       "      <td>3368</td>\n",
       "      <td>15</td>\n",
       "      <td>8</td>\n",
       "      <td>0.033158</td>\n",
       "      <td>1906</td>\n",
       "      <td>1 min  0 sec</td>\n",
       "    </tr>\n",
       "    <tr>\n",
       "      <th>5th</th>\n",
       "      <td>Past</td>\n",
       "      <td>11Aug2020</td>\n",
       "      <td>21Aug2020</td>\n",
       "      <td>126529100</td>\n",
       "      <td>SIR-F</td>\n",
       "      <td>0.89</td>\n",
       "      <td>0.000288</td>\n",
       "      <td>0.000216</td>\n",
       "      <td>0.027070</td>\n",
       "      <td>0.030161</td>\n",
       "      <td>480</td>\n",
       "      <td>0.000</td>\n",
       "      <td>1543</td>\n",
       "      <td>11</td>\n",
       "      <td>12</td>\n",
       "      <td>0.0208031</td>\n",
       "      <td>1916</td>\n",
       "      <td>1 min  0 sec</td>\n",
       "    </tr>\n",
       "    <tr>\n",
       "      <th>6th</th>\n",
       "      <td>Past</td>\n",
       "      <td>22Aug2020</td>\n",
       "      <td>30Aug2020</td>\n",
       "      <td>126529100</td>\n",
       "      <td>SIR-F</td>\n",
       "      <td>0.75</td>\n",
       "      <td>0.001284</td>\n",
       "      <td>0.000343</td>\n",
       "      <td>0.026885</td>\n",
       "      <td>0.035380</td>\n",
       "      <td>480</td>\n",
       "      <td>0.001</td>\n",
       "      <td>973</td>\n",
       "      <td>9</td>\n",
       "      <td>12</td>\n",
       "      <td>0.0205829</td>\n",
       "      <td>155</td>\n",
       "      <td>0 min  5 sec</td>\n",
       "    </tr>\n",
       "    <tr>\n",
       "      <th>7th</th>\n",
       "      <td>Future</td>\n",
       "      <td>31Aug2020</td>\n",
       "      <td>30Sep2020</td>\n",
       "      <td>126529100</td>\n",
       "      <td>SIR-F</td>\n",
       "      <td>0.75</td>\n",
       "      <td>0.001284</td>\n",
       "      <td>0.000343</td>\n",
       "      <td>0.026885</td>\n",
       "      <td>0.035380</td>\n",
       "      <td>480</td>\n",
       "      <td>0.001</td>\n",
       "      <td>973</td>\n",
       "      <td>9</td>\n",
       "      <td>12</td>\n",
       "      <td>-</td>\n",
       "      <td>-</td>\n",
       "      <td>-</td>\n",
       "    </tr>\n",
       "    <tr>\n",
       "      <th>8th</th>\n",
       "      <td>Future</td>\n",
       "      <td>01Oct2020</td>\n",
       "      <td>01Jan2021</td>\n",
       "      <td>126529100</td>\n",
       "      <td>SIR-F</td>\n",
       "      <td>0.38</td>\n",
       "      <td>0.001284</td>\n",
       "      <td>0.000343</td>\n",
       "      <td>0.026885</td>\n",
       "      <td>0.070760</td>\n",
       "      <td>480</td>\n",
       "      <td>0.001</td>\n",
       "      <td>973</td>\n",
       "      <td>4</td>\n",
       "      <td>12</td>\n",
       "      <td>-</td>\n",
       "      <td>-</td>\n",
       "      <td>-</td>\n",
       "    </tr>\n",
       "  </tbody>\n",
       "</table>\n",
       "</div>"
      ],
      "text/plain": [
       "                  Type      Start        End  Population    ODE    Rt  \\\n",
       "Scenario Phase                                                          \n",
       "Main     1st      Past  22Apr2020  04Jul2020   126529100  SIR-F  0.40   \n",
       "         2nd      Past  05Jul2020  22Jul2020   126529100  SIR-F  1.99   \n",
       "         3rd      Past  23Jul2020  31Jul2020   126529100  SIR-F  1.89   \n",
       "         4th      Past  01Aug2020  10Aug2020   126529100  SIR-F  1.76   \n",
       "         5th      Past  11Aug2020  21Aug2020   126529100  SIR-F  0.89   \n",
       "         6th      Past  22Aug2020  30Aug2020   126529100  SIR-F  0.75   \n",
       "         7th    Future  31Aug2020  01Jan2021   126529100  SIR-F  0.75   \n",
       "Medicine 1st      Past  22Apr2020  04Jul2020   126529100  SIR-F  0.40   \n",
       "         2nd      Past  05Jul2020  22Jul2020   126529100  SIR-F  1.99   \n",
       "         3rd      Past  23Jul2020  31Jul2020   126529100  SIR-F  1.89   \n",
       "         4th      Past  01Aug2020  10Aug2020   126529100  SIR-F  1.76   \n",
       "         5th      Past  11Aug2020  21Aug2020   126529100  SIR-F  0.89   \n",
       "         6th      Past  22Aug2020  30Aug2020   126529100  SIR-F  0.75   \n",
       "         7th    Future  31Aug2020  30Sep2020   126529100  SIR-F  0.75   \n",
       "         8th    Future  01Oct2020  01Jan2021   126529100  SIR-F  0.38   \n",
       "\n",
       "                   theta     kappa       rho     sigma  tau  alpha1 [-]  \\\n",
       "Scenario Phase                                                            \n",
       "Main     1st    0.061665  0.000489  0.010303  0.023496  480       0.062   \n",
       "         2nd    0.000489  0.000106  0.047411  0.023739  480       0.000   \n",
       "         3rd    0.000250  0.000076  0.046174  0.024298  480       0.000   \n",
       "         4th    0.000011  0.000099  0.038092  0.021494  480       0.000   \n",
       "         5th    0.000288  0.000216  0.027070  0.030161  480       0.000   \n",
       "         6th    0.001284  0.000343  0.026885  0.035380  480       0.001   \n",
       "         7th    0.001284  0.000343  0.026885  0.035380  480       0.001   \n",
       "Medicine 1st    0.061665  0.000489  0.010303  0.023496  480       0.062   \n",
       "         2nd    0.000489  0.000106  0.047411  0.023739  480       0.000   \n",
       "         3rd    0.000250  0.000076  0.046174  0.024298  480       0.000   \n",
       "         4th    0.000011  0.000099  0.038092  0.021494  480       0.000   \n",
       "         5th    0.000288  0.000216  0.027070  0.030161  480       0.000   \n",
       "         6th    0.001284  0.000343  0.026885  0.035380  480       0.001   \n",
       "         7th    0.001284  0.000343  0.026885  0.035380  480       0.001   \n",
       "         8th    0.001284  0.000343  0.026885  0.070760  480       0.001   \n",
       "\n",
       "                1/alpha2 [day]  1/gamma [day]  1/beta [day]      RMSLE Trials  \\\n",
       "Scenario Phase                                                                  \n",
       "Main     1st               682             14            32   0.883772   1832   \n",
       "         2nd              3152             14             7  0.0307457   1908   \n",
       "         3rd              4393             13             7  0.0330842    482   \n",
       "         4th              3368             15             8   0.033158   1906   \n",
       "         5th              1543             11            12  0.0208031   1916   \n",
       "         6th               973              9            12  0.0205829    155   \n",
       "         7th               973              9            12          -      -   \n",
       "Medicine 1st               682             14            32   0.883772   1832   \n",
       "         2nd              3152             14             7  0.0307457   1908   \n",
       "         3rd              4393             13             7  0.0330842    482   \n",
       "         4th              3368             15             8   0.033158   1906   \n",
       "         5th              1543             11            12  0.0208031   1916   \n",
       "         6th               973              9            12  0.0205829    155   \n",
       "         7th               973              9            12          -      -   \n",
       "         8th               973              4            12          -      -   \n",
       "\n",
       "                     Runtime  \n",
       "Scenario Phase                \n",
       "Main     1st    1 min  0 sec  \n",
       "         2nd    1 min  0 sec  \n",
       "         3rd    0 min 10 sec  \n",
       "         4th    1 min  0 sec  \n",
       "         5th    1 min  0 sec  \n",
       "         6th    0 min  5 sec  \n",
       "         7th               -  \n",
       "Medicine 1st    1 min  0 sec  \n",
       "         2nd    1 min  0 sec  \n",
       "         3rd    0 min 10 sec  \n",
       "         4th    1 min  0 sec  \n",
       "         5th    1 min  0 sec  \n",
       "         6th    0 min  5 sec  \n",
       "         7th               -  \n",
       "         8th               -  "
      ]
     },
     "execution_count": 40,
     "metadata": {},
     "output_type": "execute_result"
    }
   ],
   "source": [
    "scenario.clear(name=\"Medicine\")\n",
    "scenario.add(name=\"Medicine\", days=30, sigma=sigma_current)\n",
    "scenario.add(name=\"Medicine\", end_date=\"01Jan2021\", sigma=sigma_new)\n",
    "scenario.summary()"
   ]
  },
  {
   "cell_type": "code",
   "execution_count": 41,
   "metadata": {
    "collapsed": false
   },
   "outputs": [
    {
     "data": {
      "image/png": "[encoded data removed]",
      "text/plain": [
       "<Figure size 648x432 with 1 Axes>"
      ]
     },
     "metadata": {},
     "output_type": "display_data"
    },
    {
     "data": {
      "text/html": [
       "<div>\n",
       "<style scoped>\n",
       "    .dataframe tbody tr th:only-of-type {\n",
       "        vertical-align: middle;\n",
       "    }\n",
       "\n",
       "    .dataframe tbody tr th {\n",
       "        vertical-align: top;\n",
       "    }\n",
       "\n",
       "    .dataframe thead th {\n",
       "        text-align: right;\n",
       "    }\n",
       "</style>\n",
       "<table border=\"1\" class=\"dataframe\">\n",
       "  <thead>\n",
       "    <tr style=\"text-align: right;\">\n",
       "      <th></th>\n",
       "      <th>Date</th>\n",
       "      <th>Confirmed</th>\n",
       "      <th>Fatal</th>\n",
       "      <th>Infected</th>\n",
       "      <th>Recovered</th>\n",
       "    </tr>\n",
       "  </thead>\n",
       "  <tbody>\n",
       "    <tr>\n",
       "      <th>251</th>\n",
       "      <td>2020-12-29</td>\n",
       "      <td>86907</td>\n",
       "      <td>1536</td>\n",
       "      <td>0</td>\n",
       "      <td>85371</td>\n",
       "    </tr>\n",
       "    <tr>\n",
       "      <th>252</th>\n",
       "      <td>2020-12-30</td>\n",
       "      <td>86907</td>\n",
       "      <td>1536</td>\n",
       "      <td>0</td>\n",
       "      <td>85371</td>\n",
       "    </tr>\n",
       "    <tr>\n",
       "      <th>253</th>\n",
       "      <td>2020-12-31</td>\n",
       "      <td>86907</td>\n",
       "      <td>1536</td>\n",
       "      <td>0</td>\n",
       "      <td>85371</td>\n",
       "    </tr>\n",
       "    <tr>\n",
       "      <th>254</th>\n",
       "      <td>2021-01-01</td>\n",
       "      <td>86907</td>\n",
       "      <td>1536</td>\n",
       "      <td>0</td>\n",
       "      <td>85371</td>\n",
       "    </tr>\n",
       "    <tr>\n",
       "      <th>255</th>\n",
       "      <td>2021-01-02</td>\n",
       "      <td>86907</td>\n",
       "      <td>1536</td>\n",
       "      <td>0</td>\n",
       "      <td>85371</td>\n",
       "    </tr>\n",
       "  </tbody>\n",
       "</table>\n",
       "</div>"
      ],
      "text/plain": [
       "          Date  Confirmed  Fatal  Infected  Recovered\n",
       "251 2020-12-29      86907   1536         0      85371\n",
       "252 2020-12-30      86907   1536         0      85371\n",
       "253 2020-12-31      86907   1536         0      85371\n",
       "254 2021-01-01      86907   1536         0      85371\n",
       "255 2021-01-02      86907   1536         0      85371"
      ]
     },
     "execution_count": 41,
     "metadata": {},
     "output_type": "execute_result"
    }
   ],
   "source": [
    "scenario.simulate(name=\"Medicine\").tail()"
   ]
  },
  {
   "cell_type": "markdown",
   "metadata": {},
   "source": [
    "### Compare the scenarios"
   ]
  },
  {
   "cell_type": "code",
   "execution_count": 42,
   "metadata": {
    "collapsed": false
   },
   "outputs": [
    {
     "data": {
      "text/html": [
       "<div>\n",
       "<style scoped>\n",
       "    .dataframe tbody tr th:only-of-type {\n",
       "        vertical-align: middle;\n",
       "    }\n",
       "\n",
       "    .dataframe tbody tr th {\n",
       "        vertical-align: top;\n",
       "    }\n",
       "\n",
       "    .dataframe thead th {\n",
       "        text-align: right;\n",
       "    }\n",
       "</style>\n",
       "<table border=\"1\" class=\"dataframe\">\n",
       "  <thead>\n",
       "    <tr style=\"text-align: right;\">\n",
       "      <th></th>\n",
       "      <th>max(Infected)</th>\n",
       "      <th>argmax(Infected)</th>\n",
       "      <th>Infected on 02Jan2021</th>\n",
       "      <th>Fatal on 02Jan2021</th>\n",
       "      <th>8th_Rt</th>\n",
       "    </tr>\n",
       "  </thead>\n",
       "  <tbody>\n",
       "    <tr>\n",
       "      <th>Main</th>\n",
       "      <td>14544</td>\n",
       "      <td>10Aug2020</td>\n",
       "      <td>345</td>\n",
       "      <td>1661</td>\n",
       "      <td>-</td>\n",
       "    </tr>\n",
       "    <tr>\n",
       "      <th>Medicine</th>\n",
       "      <td>14544</td>\n",
       "      <td>10Aug2020</td>\n",
       "      <td>0</td>\n",
       "      <td>1536</td>\n",
       "      <td>0.38</td>\n",
       "    </tr>\n",
       "  </tbody>\n",
       "</table>\n",
       "</div>"
      ],
      "text/plain": [
       "          max(Infected) argmax(Infected)  Infected on 02Jan2021  \\\n",
       "Main              14544        10Aug2020                    345   \n",
       "Medicine          14544        10Aug2020                      0   \n",
       "\n",
       "          Fatal on 02Jan2021 8th_Rt  \n",
       "Main                    1661      -  \n",
       "Medicine                1536   0.38  "
      ]
     },
     "execution_count": 42,
     "metadata": {},
     "output_type": "execute_result"
    }
   ],
   "source": [
    "scenario.describe()"
   ]
  },
  {
   "cell_type": "code",
   "execution_count": 43,
   "metadata": {
    "collapsed": false
   },
   "outputs": [
    {
     "data": {
      "image/png": "[encoded data removed]",
      "text/plain": [
       "<Figure size 648x432 with 1 Axes>"
      ]
     },
     "metadata": {},
     "output_type": "display_data"
    }
   ],
   "source": [
    "# version >= 2.8.0\n",
    "_ = scenario.history(target=\"Rt\")"
   ]
  },
  {
   "cell_type": "code",
   "execution_count": 44,
   "metadata": {
    "collapsed": false
   },
   "outputs": [
    {
     "data": {
      "image/png": "[encoded data removed]",
      "text/plain": [
       "<Figure size 648x432 with 1 Axes>"
      ]
     },
     "metadata": {},
     "output_type": "display_data"
    }
   ],
   "source": [
    "# version >= 2.8.0\n",
    "_ = scenario.history(target=\"rho\")"
   ]
  },
  {
   "cell_type": "code",
   "execution_count": 45,
   "metadata": {
    "collapsed": false
   },
   "outputs": [
    {
     "data": {
      "image/png": "[encoded data removed]",
      "text/plain": [
       "<Figure size 648x432 with 1 Axes>"
      ]
     },
     "metadata": {},
     "output_type": "display_data"
    }
   ],
   "source": [
    "# version >= 2.8.0\n",
    "_ = scenario.history(target=\"sigma\")"
   ]
  },
  {
   "cell_type": "code",
   "execution_count": 46,
   "metadata": {
    "collapsed": false
   },
   "outputs": [
    {
     "data": {
      "image/png": "[encoded data removed]",
      "text/plain": [
       "<Figure size 648x432 with 1 Axes>"
      ]
     },
     "metadata": {},
     "output_type": "display_data"
    }
   ],
   "source": [
    "# version >= 2.8.0\n",
    "_ = scenario.history(target=\"Infected\")"
   ]
  }
 ],
 "metadata": {
  "kernelspec": {
   "display_name": "Python 3.8.2 64-bit ('covid19-sir': pipenv)",
   "name": "python_defaultSpec_1597313350107"
  },
  "language_info": {
   "codemirror_mode": {
    "name": "ipython",
    "version": 3
   },
   "file_extension": ".py",
   "mimetype": "text/x-python",
   "name": "python",
   "nbconvert_exporter": "python",
   "pygments_lexer": "ipython3",
   "version": 3
  }
 },
 "nbformat": 4,
 "nbformat_minor": 4
}
