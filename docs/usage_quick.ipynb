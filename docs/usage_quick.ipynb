{
 "cells": [
  {
   "cell_type": "markdown",
   "metadata": {},
   "source": [
    "# Usage (quick version)"
   ]
  },
  {
   "cell_type": "markdown",
   "metadata": {},
   "source": [
    "## Preparation"
   ]
  },
  {
   "cell_type": "code",
   "execution_count": 1,
   "metadata": {
    "collapsed": false
   },
   "outputs": [],
   "source": [
    "# Standard users\n",
    "# !pip install covsirphy\n",
    "# Developers (Note: this notebook is in example directory)\n",
    "import os\n",
    "os.chdir(\"../\")"
   ]
  },
  {
   "cell_type": "code",
   "execution_count": 2,
   "metadata": {
    "collapsed": false
   },
   "outputs": [],
   "source": [
    "import warnings"
   ]
  },
  {
   "cell_type": "code",
   "execution_count": 3,
   "metadata": {
    "collapsed": false,
    "tags": []
   },
   "outputs": [
    {
     "data": {
      "text/plain": [
       "'2.8.3'"
      ]
     },
     "execution_count": 3,
     "metadata": {},
     "output_type": "execute_result"
    }
   ],
   "source": [
    "import covsirphy as cs\n",
    "cs.__version__"
   ]
  },
  {
   "cell_type": "markdown",
   "metadata": {},
   "source": [
    "## Dataset preparation\n",
    "Download the datasets to \"input\" direcotry and load them.\n",
    "\n",
    "If \"input\" directory has the datasets, `DataLoader` will load the local files. If the datasets were updated in remote servers, `DataLoader` will update the local files automatically.\n",
    "Download the datasets to \"input\" direcotry and load them.\n",
    "\n",
    "If \"input\" directory has the datasets, `DataLoader` will load the local files. If the datasets were updated in remote servers, `DataLoader` will update the local files automatically."
   ]
  },
  {
   "cell_type": "code",
   "execution_count": 4,
   "metadata": {
    "collapsed": false,
    "tags": []
   },
   "outputs": [
    {
     "name": "stdout",
     "output_type": "stream",
     "text": [
      "Retrieving datasets from COVID-19 Data Hub: https://covid19datahub.io/"
     ]
    },
    {
     "name": "stdout",
     "output_type": "stream",
     "text": [
      "\n"
     ]
    },
    {
     "name": "stdout",
     "output_type": "stream",
     "text": [
      "\n",
      "Detailed citaition list:"
     ]
    },
    {
     "name": "stdout",
     "output_type": "stream",
     "text": [
      "\n"
     ]
    },
    {
     "name": "stdout",
     "output_type": "stream",
     "text": [
      "Open Government Data, United Kingdom (2020), https://coronavirus.data.gov.uk\n",
      "World Health Organization (2020), https://covid19.who.int\n",
      "The COVID Tracking Project (2020), https://covidtracking.com\n",
      "Ministry of Health of Croatia (2020), https://data.gov.hr/dataset/koronavirus/resource/08fab529-ebba-46c7-be79-05782ddb02ef\n",
      "Open Government Data, Latvia (2020), https://data.gov.lv/dati/dataset\n",
      "Wikipedia (2020), https://en.wikipedia.org/wiki\n",
      "Epistat, Belgian Infectious Diseases (2020), https://epistat.sciensano.be\n",
      "Johns Hopkins Center for Systems Science and Engineering (2020), https://github.com/CSSEGISandData/COVID-19\n",
      "Covid19data.com.au (2020), https://github.com/M3IT/COVID-19_Data\n",
      "Data Science for Social Impact research group, University of Pretoria (2020), https://github.com/dsfsi/covid19za\n",
      "Data on the COVID-19 pandemic in Portugal (2020), https://github.com/dssg-pt/covid19pt-data\n",
      "COVID-19_plus_Russia GitHub repository (2020), https://github.com/grwlf/COVID-19_plus_Russia\n",
      "COVID-19 Peru Data Repository (2020), https://github.com/jmcastagnetto/covid-19-peru-data\n",
      "Twitter Web Scraper for Polish Ministery of Health (2020), https://github.com/martinbenes1996/covid19poland\n",
      "The New York Times (2020), https://github.com/nytimes/covid-19-data\n",
      "Open Government Data, Liechtenstein (2020), https://github.com/openZH/covid_19\n",
      "Open Government Data, Switzerland (2020), https://github.com/openZH/covid_19\n",
      "OpenCOVID19 France (2020), https://github.com/opencovid19-fr/data\n",
      "Our World in Data (2020), https://github.com/owid/covid-19-data\n",
      "COVID-19 Turkey API (2020), https://github.com/ozanerturk/covid19-turkey-api\n",
      "Ministero della Salute, Italia (2020), https://github.com/pcm-dpc/COVID-19\n",
      "Japan COVID-19 Bulletin Board (2020), https://github.com/swsoyee/2019-ncov-japan\n",
      "Public Health Infobase, Government of Canada (2020), https://health-infobase.canada.ca\n",
      "Open Government Data, Austria (2020), https://info.gesundheitsministerium.at/\n",
      "Robert Koch-Institut (2020), https://npgeo-corona-npgeo-de.hub.arcgis.com/datasets/dd4580c810204019a7b8eb3e0b329dd6_0\n",
      "Ministery of Health of Czech Republic (2020), https://onemocneni-aktualne.mzcr.cz/covid-19\n",
      "Public Health Agency, Sweden (2020), https://oppnadata.se/datamangd/#esc_entry=1424&esc_context=525\n",
      "Ministry of Public Health and Population of Haiti (2020), https://proxy.hxlstandard.org/data/738954\n",
      "CIA - Central Intelligence Agency (2020), https://www.cia.gov/library/publications/the-world-factbook/geos/aq.html\n",
      "COVID19-India API (2020), https://www.covid19india.org/\n",
      "Ministerio de Salud y ProtecciÃ³n Social de Colombia (2020), https://www.datos.gov.co\n",
      "Ministery of Health, Slovenia (2020), https://www.gov.si/en/topics/coronavirus-disease-covid-19/\n",
      "Ministerio de Sanidad, Consumo y Bienestar Social (2020), https://www.mscbs.gob.es/\n",
      "Canada's National Statistical Agency (2020), https://www150.statcan.gc.ca/t1/tbl1/en/tv.action?pid=1710000901\n",
      "Oxford COVID-19 Government Response Tracker (2020), www.bsg.ox.ac.uk/covidtracker\n",
      "Eurostat (2019), https://ec.europa.eu/eurostat\n",
      "Geloky (2019), https://geloky.com/geocoding/place/Valka+Latvia\n",
      "GADM (2019), https://public.opendatasoft.com/explore/dataset/landkreise-in-germany/table/\n",
      "Statbel, Belgium in Figures (2019), https://statbel.fgov.be/en/themes/population/structure-population\n",
      "Australian Bureau of Statistics (2019), https://www.abs.gov.au/AUSSTATS/abs@.nsf/DetailsPage/3101.0Sep%202019?OpenDocument\n",
      "National Bureau of Statistics of China NBS (2018), http://data.stats.gov.cn/english/easyquery.htm?cn=E0103\n",
      "World Bank Open Data (2018), https://data.worldbank.org/indicator/SP.POP.TOTL\n",
      "Swiss Federal Statistical Office (2018), https://www.bfs.admin.ch/bfs/en/home/statistics/regional-statistics/regional-portraits-key-figures/cantons/data-explanations.html\n",
      "Czech Statistical Office (2018), https://www.czso.cz/csu/czso/demograficka-rocenka-kraju-2009-az-2018\n",
      "Istituto Nazionale di Statistica, Italia (2018), https://www.istat.it/en/population-and-households?data-and-indicators\n",
      "Worldometer (2018), https://www.worldometers.info/world-population/channel-islands-population/"
     ]
    },
    {
     "name": "stdout",
     "output_type": "stream",
     "text": [
      "\n"
     ]
    },
    {
     "name": "stdout",
     "output_type": "stream",
     "text": [
      "\n",
      "\n"
     ]
    },
    {
     "name": "stdout",
     "output_type": "stream",
     "text": [
      "\n"
     ]
    }
   ],
   "source": [
    "data_loader = cs.DataLoader(\"input\")\n",
    "# The number of cases (JHU style)\n",
    "jhu_data = data_loader.jhu(verbose=True)\n",
    "# Population in each country\n",
    "population_data = data_loader.population(verbose=True)\n",
    "# Government Response Tracker (OxCGRT)\n",
    "oxcgrt_data = data_loader.oxcgrt(verbose=True)"
   ]
  },
  {
   "cell_type": "markdown",
   "metadata": {},
   "source": [
    "### The number of cases (JHU style)"
   ]
  },
  {
   "cell_type": "code",
   "execution_count": 5,
   "metadata": {
    "collapsed": false,
    "tags": []
   },
   "outputs": [
    {
     "name": "stdout",
     "output_type": "stream",
     "text": [
      "(Secondary source) Guidotti, E., Ardia, D., (2020), \"COVID-19 Data Hub\", Journal of Open Source Software 5(51):2376, doi: 10.21105/joss.02376.\n",
      "We can get Citation list of primary sources with DataLoader(...).covid19dh_citation"
     ]
    },
    {
     "name": "stdout",
     "output_type": "stream",
     "text": [
      "\n"
     ]
    }
   ],
   "source": [
    "# Description/citation\n",
    "print(jhu_data.citation)"
   ]
  },
  {
   "cell_type": "code",
   "execution_count": 6,
   "metadata": {
    "collapsed": false,
    "tags": []
   },
   "outputs": [
    {
     "name": "stdout",
     "output_type": "stream",
     "text": [
      "Open Government Data, United Kingdom (2020), https://coronavirus.data.gov.uk\n",
      "World Health Organization (2020), https://covid19.who.int\n",
      "The COVID Tracking Project (2020), https://covidtracking.com\n",
      "Ministry of Health of Croatia (2020), https://data.gov.hr/dataset/koronavirus/resource/08fab529-ebba-46c7-be79-05782ddb02ef\n",
      "Open Government Data, Latvia (2020), https://data.gov.lv/dati/dataset\n",
      "Wikipedia (2020), https://en.wikipedia.org/wiki\n",
      "Epistat, Belgian Infectious Diseases (2020), https://epistat.sciensano.be\n",
      "Johns Hopkins Center for Systems Science and Engineering (2020), https://github.com/CSSEGISandData/COVID-19\n",
      "Covid19data.com.au (2020), https://github.com/M3IT/COVID-19_Data\n",
      "Data Science for Social Impact research group, University of Pretoria (2020), https://github.com/dsfsi/covid19za\n",
      "Data on the COVID-19 pandemic in Portugal (2020), https://github.com/dssg-pt/covid19pt-data\n",
      "COVID-19_plus_Russia GitHub repository (2020), https://github.com/grwlf/COVID-19_plus_Russia\n",
      "COVID-19 Peru Data Repository (2020), https://github.com/jmcastagnetto/covid-19-peru-data\n",
      "Twitter Web Scraper for Polish Ministery of Health (2020), https://github.com/martinbenes1996/covid19poland\n",
      "The New York Times (2020), https://github.com/nytimes/covid-19-data\n",
      "Open Government Data, Liechtenstein (2020), https://github.com/openZH/covid_19\n",
      "Open Government Data, Switzerland (2020), https://github.com/openZH/covid_19\n",
      "OpenCOVID19 France (2020), https://github.com/opencovid19-fr/data\n",
      "Our World in Data (2020), https://github.com/owid/covid-19-data\n",
      "COVID-19 Turkey API (2020), https://github.com/ozanerturk/covid19-turkey-api\n",
      "Ministero della Salute, Italia (2020), https://github.com/pcm-dpc/COVID-19\n",
      "Japan COVID-19 Bulletin Board (2020), https://github.com/swsoyee/2019-ncov-japan\n",
      "Public Health Infobase, Government of Canada (2020), https://health-infobase.canada.ca\n",
      "Open Government Data, Austria (2020), https://info.gesundheitsministerium.at/\n",
      "Robert Koch-Institut (2020), https://npgeo-corona-npgeo-de.hub.arcgis.com/datasets/dd4580c810204019a7b8eb3e0b329dd6_0\n",
      "Ministery of Health of Czech Republic (2020), https://onemocneni-aktualne.mzcr.cz/covid-19\n",
      "Public Health Agency, Sweden (2020), https://oppnadata.se/datamangd/#esc_entry=1424&esc_context=525\n",
      "Ministry of Public Health and Population of Haiti (2020), https://proxy.hxlstandard.org/data/738954\n",
      "CIA - Central Intelligence Agency (2020), https://www.cia.gov/library/publications/the-world-factbook/geos/aq.html\n",
      "COVID19-India API (2020), https://www.covid19india.org/\n",
      "Ministerio de Salud y ProtecciÃ³n Social de Colombia (2020), https://www.datos.gov.co\n",
      "Ministery of Health, Slovenia (2020), https://www.gov.si/en/topics/coronavirus-disease-covid-19/\n",
      "Ministerio de Sanidad, Consumo y Bienestar Social (2020), https://www.mscbs.gob.es/\n",
      "Canada's National Statistical Agency (2020), https://www150.statcan.gc.ca/t1/tbl1/en/tv.action?pid=1710000901\n",
      "Oxford COVID-19 Government Response Tracker (2020), www.bsg.ox.ac.uk/covidtracker\n",
      "Eurostat (2019), https://ec.europa.eu/eurostat\n",
      "Geloky (2019), https://geloky.com/geocoding/place/Valka+Latvia\n",
      "GADM (2019), https://public.opendatasoft.com/explore/dataset/landkreise-in-germany/table/\n",
      "Statbel, Belgium in Figures (2019), https://statbel.fgov.be/en/themes/population/structure-population\n",
      "Australian Bureau of Statistics (2019), https://www.abs.gov.au/AUSSTATS/abs@.nsf/DetailsPage/3101.0Sep%202019?OpenDocument\n",
      "National Bureau of Statistics of China NBS (2018), http://data.stats.gov.cn/english/easyquery.htm?cn=E0103\n",
      "World Bank Open Data (2018), https://data.worldbank.org/indicator/SP.POP.TOTL\n",
      "Swiss Federal Statistical Office (2018), https://www.bfs.admin.ch/bfs/en/home/statistics/regional-statistics/regional-portraits-key-figures/cantons/data-explanations.html\n",
      "Czech Statistical Office (2018), https://www.czso.cz/csu/czso/demograficka-rocenka-kraju-2009-az-2018\n",
      "Istituto Nazionale di Statistica, Italia (2018), https://www.istat.it/en/population-and-households?data-and-indicators\n",
      "Worldometer (2018), https://www.worldometers.info/world-population/channel-islands-population/"
     ]
    },
    {
     "name": "stdout",
     "output_type": "stream",
     "text": [
      "\n"
     ]
    }
   ],
   "source": [
    "print(data_loader.covid19dh_citation)"
   ]
  },
  {
   "cell_type": "code",
   "execution_count": 7,
   "metadata": {
    "collapsed": false
   },
   "outputs": [
    {
     "data": {
      "text/html": [
       "<div>\n",
       "<style scoped>\n",
       "    .dataframe tbody tr th:only-of-type {\n",
       "        vertical-align: middle;\n",
       "    }\n",
       "\n",
       "    .dataframe tbody tr th {\n",
       "        vertical-align: top;\n",
       "    }\n",
       "\n",
       "    .dataframe thead th {\n",
       "        text-align: right;\n",
       "    }\n",
       "</style>\n",
       "<table border=\"1\" class=\"dataframe\">\n",
       "  <thead>\n",
       "    <tr style=\"text-align: right;\">\n",
       "      <th></th>\n",
       "      <th>ObservationDate</th>\n",
       "      <th>Confirmed</th>\n",
       "      <th>Recovered</th>\n",
       "      <th>Deaths</th>\n",
       "      <th>Population</th>\n",
       "      <th>ISO3</th>\n",
       "      <th>Province/State</th>\n",
       "      <th>Country/Region</th>\n",
       "      <th>school_closing</th>\n",
       "      <th>workplace_closing</th>\n",
       "      <th>cancel_events</th>\n",
       "      <th>gatherings_restrictions</th>\n",
       "      <th>transport_closing</th>\n",
       "      <th>stay_home_restrictions</th>\n",
       "      <th>internal_movement_restrictions</th>\n",
       "      <th>international_movement_restrictions</th>\n",
       "      <th>information_campaigns</th>\n",
       "      <th>testing_policy</th>\n",
       "      <th>contact_tracing</th>\n",
       "      <th>stringency_index</th>\n",
       "    </tr>\n",
       "  </thead>\n",
       "  <tbody>\n",
       "    <tr>\n",
       "      <th>224757</th>\n",
       "      <td>2020-09-15</td>\n",
       "      <td>14</td>\n",
       "      <td>14</td>\n",
       "      <td>0</td>\n",
       "      <td>107808.0</td>\n",
       "      <td>COL</td>\n",
       "      <td>Vichada</td>\n",
       "      <td>Colombia</td>\n",
       "      <td>3</td>\n",
       "      <td>1</td>\n",
       "      <td>2</td>\n",
       "      <td>3</td>\n",
       "      <td>1</td>\n",
       "      <td>0</td>\n",
       "      <td>0</td>\n",
       "      <td>4</td>\n",
       "      <td>2</td>\n",
       "      <td>2</td>\n",
       "      <td>2</td>\n",
       "      <td>62.04</td>\n",
       "    </tr>\n",
       "    <tr>\n",
       "      <th>224758</th>\n",
       "      <td>2020-09-16</td>\n",
       "      <td>14</td>\n",
       "      <td>14</td>\n",
       "      <td>0</td>\n",
       "      <td>107808.0</td>\n",
       "      <td>COL</td>\n",
       "      <td>Vichada</td>\n",
       "      <td>Colombia</td>\n",
       "      <td>3</td>\n",
       "      <td>1</td>\n",
       "      <td>2</td>\n",
       "      <td>3</td>\n",
       "      <td>1</td>\n",
       "      <td>0</td>\n",
       "      <td>0</td>\n",
       "      <td>4</td>\n",
       "      <td>2</td>\n",
       "      <td>2</td>\n",
       "      <td>2</td>\n",
       "      <td>62.04</td>\n",
       "    </tr>\n",
       "    <tr>\n",
       "      <th>224759</th>\n",
       "      <td>2020-09-17</td>\n",
       "      <td>14</td>\n",
       "      <td>14</td>\n",
       "      <td>0</td>\n",
       "      <td>107808.0</td>\n",
       "      <td>COL</td>\n",
       "      <td>Vichada</td>\n",
       "      <td>Colombia</td>\n",
       "      <td>3</td>\n",
       "      <td>1</td>\n",
       "      <td>2</td>\n",
       "      <td>3</td>\n",
       "      <td>1</td>\n",
       "      <td>0</td>\n",
       "      <td>0</td>\n",
       "      <td>4</td>\n",
       "      <td>2</td>\n",
       "      <td>2</td>\n",
       "      <td>2</td>\n",
       "      <td>62.04</td>\n",
       "    </tr>\n",
       "    <tr>\n",
       "      <th>224760</th>\n",
       "      <td>2020-09-18</td>\n",
       "      <td>14</td>\n",
       "      <td>14</td>\n",
       "      <td>0</td>\n",
       "      <td>107808.0</td>\n",
       "      <td>COL</td>\n",
       "      <td>Vichada</td>\n",
       "      <td>Colombia</td>\n",
       "      <td>3</td>\n",
       "      <td>1</td>\n",
       "      <td>2</td>\n",
       "      <td>3</td>\n",
       "      <td>1</td>\n",
       "      <td>0</td>\n",
       "      <td>0</td>\n",
       "      <td>4</td>\n",
       "      <td>2</td>\n",
       "      <td>2</td>\n",
       "      <td>2</td>\n",
       "      <td>62.04</td>\n",
       "    </tr>\n",
       "    <tr>\n",
       "      <th>224761</th>\n",
       "      <td>2020-09-19</td>\n",
       "      <td>14</td>\n",
       "      <td>14</td>\n",
       "      <td>0</td>\n",
       "      <td>107808.0</td>\n",
       "      <td>COL</td>\n",
       "      <td>Vichada</td>\n",
       "      <td>Colombia</td>\n",
       "      <td>3</td>\n",
       "      <td>1</td>\n",
       "      <td>2</td>\n",
       "      <td>3</td>\n",
       "      <td>1</td>\n",
       "      <td>0</td>\n",
       "      <td>0</td>\n",
       "      <td>4</td>\n",
       "      <td>2</td>\n",
       "      <td>2</td>\n",
       "      <td>2</td>\n",
       "      <td>62.04</td>\n",
       "    </tr>\n",
       "  </tbody>\n",
       "</table>\n",
       "</div>"
      ],
      "text/plain": [
       "       ObservationDate  Confirmed  Recovered  Deaths  Population ISO3  \\\n",
       "224757      2020-09-15         14         14       0    107808.0  COL   \n",
       "224758      2020-09-16         14         14       0    107808.0  COL   \n",
       "224759      2020-09-17         14         14       0    107808.0  COL   \n",
       "224760      2020-09-18         14         14       0    107808.0  COL   \n",
       "224761      2020-09-19         14         14       0    107808.0  COL   \n",
       "\n",
       "       Province/State Country/Region  school_closing  workplace_closing  \\\n",
       "224757        Vichada       Colombia               3                  1   \n",
       "224758        Vichada       Colombia               3                  1   \n",
       "224759        Vichada       Colombia               3                  1   \n",
       "224760        Vichada       Colombia               3                  1   \n",
       "224761        Vichada       Colombia               3                  1   \n",
       "\n",
       "        cancel_events  gatherings_restrictions  transport_closing  \\\n",
       "224757              2                        3                  1   \n",
       "224758              2                        3                  1   \n",
       "224759              2                        3                  1   \n",
       "224760              2                        3                  1   \n",
       "224761              2                        3                  1   \n",
       "\n",
       "        stay_home_restrictions  internal_movement_restrictions  \\\n",
       "224757                       0                               0   \n",
       "224758                       0                               0   \n",
       "224759                       0                               0   \n",
       "224760                       0                               0   \n",
       "224761                       0                               0   \n",
       "\n",
       "        international_movement_restrictions  information_campaigns  \\\n",
       "224757                                    4                      2   \n",
       "224758                                    4                      2   \n",
       "224759                                    4                      2   \n",
       "224760                                    4                      2   \n",
       "224761                                    4                      2   \n",
       "\n",
       "        testing_policy  contact_tracing  stringency_index  \n",
       "224757               2                2             62.04  \n",
       "224758               2                2             62.04  \n",
       "224759               2                2             62.04  \n",
       "224760               2                2             62.04  \n",
       "224761               2                2             62.04  "
      ]
     },
     "execution_count": 7,
     "metadata": {},
     "output_type": "execute_result"
    }
   ],
   "source": [
    "# Raw data\n",
    "jhu_data.raw.tail()"
   ]
  },
  {
   "cell_type": "code",
   "execution_count": 8,
   "metadata": {
    "collapsed": false
   },
   "outputs": [
    {
     "data": {
      "text/html": [
       "<div>\n",
       "<style scoped>\n",
       "    .dataframe tbody tr th:only-of-type {\n",
       "        vertical-align: middle;\n",
       "    }\n",
       "\n",
       "    .dataframe tbody tr th {\n",
       "        vertical-align: top;\n",
       "    }\n",
       "\n",
       "    .dataframe thead th {\n",
       "        text-align: right;\n",
       "    }\n",
       "</style>\n",
       "<table border=\"1\" class=\"dataframe\">\n",
       "  <thead>\n",
       "    <tr style=\"text-align: right;\">\n",
       "      <th></th>\n",
       "      <th>Date</th>\n",
       "      <th>Country</th>\n",
       "      <th>Province</th>\n",
       "      <th>Confirmed</th>\n",
       "      <th>Infected</th>\n",
       "      <th>Fatal</th>\n",
       "      <th>Recovered</th>\n",
       "    </tr>\n",
       "  </thead>\n",
       "  <tbody>\n",
       "    <tr>\n",
       "      <th>224757</th>\n",
       "      <td>2020-09-15</td>\n",
       "      <td>Colombia</td>\n",
       "      <td>Vichada</td>\n",
       "      <td>14</td>\n",
       "      <td>0</td>\n",
       "      <td>0</td>\n",
       "      <td>14</td>\n",
       "    </tr>\n",
       "    <tr>\n",
       "      <th>224758</th>\n",
       "      <td>2020-09-16</td>\n",
       "      <td>Colombia</td>\n",
       "      <td>Vichada</td>\n",
       "      <td>14</td>\n",
       "      <td>0</td>\n",
       "      <td>0</td>\n",
       "      <td>14</td>\n",
       "    </tr>\n",
       "    <tr>\n",
       "      <th>224759</th>\n",
       "      <td>2020-09-17</td>\n",
       "      <td>Colombia</td>\n",
       "      <td>Vichada</td>\n",
       "      <td>14</td>\n",
       "      <td>0</td>\n",
       "      <td>0</td>\n",
       "      <td>14</td>\n",
       "    </tr>\n",
       "    <tr>\n",
       "      <th>224760</th>\n",
       "      <td>2020-09-18</td>\n",
       "      <td>Colombia</td>\n",
       "      <td>Vichada</td>\n",
       "      <td>14</td>\n",
       "      <td>0</td>\n",
       "      <td>0</td>\n",
       "      <td>14</td>\n",
       "    </tr>\n",
       "    <tr>\n",
       "      <th>224761</th>\n",
       "      <td>2020-09-19</td>\n",
       "      <td>Colombia</td>\n",
       "      <td>Vichada</td>\n",
       "      <td>14</td>\n",
       "      <td>0</td>\n",
       "      <td>0</td>\n",
       "      <td>14</td>\n",
       "    </tr>\n",
       "  </tbody>\n",
       "</table>\n",
       "</div>"
      ],
      "text/plain": [
       "             Date   Country Province  Confirmed  Infected  Fatal  Recovered\n",
       "224757 2020-09-15  Colombia  Vichada         14         0      0         14\n",
       "224758 2020-09-16  Colombia  Vichada         14         0      0         14\n",
       "224759 2020-09-17  Colombia  Vichada         14         0      0         14\n",
       "224760 2020-09-18  Colombia  Vichada         14         0      0         14\n",
       "224761 2020-09-19  Colombia  Vichada         14         0      0         14"
      ]
     },
     "execution_count": 8,
     "metadata": {},
     "output_type": "execute_result"
    }
   ],
   "source": [
    "# Cleaned data\n",
    "jhu_data.cleaned().tail()"
   ]
  },
  {
   "cell_type": "code",
   "execution_count": 9,
   "metadata": {
    "collapsed": false
   },
   "outputs": [
    {
     "data": {
      "text/html": [
       "<div>\n",
       "<style scoped>\n",
       "    .dataframe tbody tr th:only-of-type {\n",
       "        vertical-align: middle;\n",
       "    }\n",
       "\n",
       "    .dataframe tbody tr th {\n",
       "        vertical-align: top;\n",
       "    }\n",
       "\n",
       "    .dataframe thead th {\n",
       "        text-align: right;\n",
       "    }\n",
       "</style>\n",
       "<table border=\"1\" class=\"dataframe\">\n",
       "  <thead>\n",
       "    <tr style=\"text-align: right;\">\n",
       "      <th></th>\n",
       "      <th>Date</th>\n",
       "      <th>Confirmed</th>\n",
       "      <th>Infected</th>\n",
       "      <th>Fatal</th>\n",
       "      <th>Recovered</th>\n",
       "    </tr>\n",
       "  </thead>\n",
       "  <tbody>\n",
       "    <tr>\n",
       "      <th>180</th>\n",
       "      <td>2020-09-15</td>\n",
       "      <td>23274</td>\n",
       "      <td>2540</td>\n",
       "      <td>386</td>\n",
       "      <td>20348</td>\n",
       "    </tr>\n",
       "    <tr>\n",
       "      <th>181</th>\n",
       "      <td>2020-09-16</td>\n",
       "      <td>23437</td>\n",
       "      <td>2445</td>\n",
       "      <td>389</td>\n",
       "      <td>20603</td>\n",
       "    </tr>\n",
       "    <tr>\n",
       "      <th>182</th>\n",
       "      <td>2020-09-17</td>\n",
       "      <td>23608</td>\n",
       "      <td>2382</td>\n",
       "      <td>389</td>\n",
       "      <td>20837</td>\n",
       "    </tr>\n",
       "    <tr>\n",
       "      <th>183</th>\n",
       "      <td>2020-09-18</td>\n",
       "      <td>23828</td>\n",
       "      <td>2417</td>\n",
       "      <td>390</td>\n",
       "      <td>21021</td>\n",
       "    </tr>\n",
       "    <tr>\n",
       "      <th>184</th>\n",
       "      <td>2020-09-19</td>\n",
       "      <td>24046</td>\n",
       "      <td>2635</td>\n",
       "      <td>390</td>\n",
       "      <td>21021</td>\n",
       "    </tr>\n",
       "  </tbody>\n",
       "</table>\n",
       "</div>"
      ],
      "text/plain": [
       "          Date  Confirmed  Infected  Fatal  Recovered\n",
       "180 2020-09-15      23274      2540    386      20348\n",
       "181 2020-09-16      23437      2445    389      20603\n",
       "182 2020-09-17      23608      2382    389      20837\n",
       "183 2020-09-18      23828      2417    390      21021\n",
       "184 2020-09-19      24046      2635    390      21021"
      ]
     },
     "execution_count": 9,
     "metadata": {},
     "output_type": "execute_result"
    }
   ],
   "source": [
    "# Subset for a country\n",
    "jhu_data.subset(\"Japan\", province=\"Tokyo\").tail()"
   ]
  },
  {
   "cell_type": "code",
   "execution_count": 10,
   "metadata": {
    "collapsed": false
   },
   "outputs": [
    {
     "data": {
      "text/html": [
       "<div>\n",
       "<style scoped>\n",
       "    .dataframe tbody tr th:only-of-type {\n",
       "        vertical-align: middle;\n",
       "    }\n",
       "\n",
       "    .dataframe tbody tr th {\n",
       "        vertical-align: top;\n",
       "    }\n",
       "\n",
       "    .dataframe thead th {\n",
       "        text-align: right;\n",
       "    }\n",
       "</style>\n",
       "<table border=\"1\" class=\"dataframe\">\n",
       "  <thead>\n",
       "    <tr style=\"text-align: right;\">\n",
       "      <th></th>\n",
       "      <th>Confirmed</th>\n",
       "      <th>Infected</th>\n",
       "      <th>Fatal</th>\n",
       "      <th>Recovered</th>\n",
       "      <th>Fatal per Confirmed</th>\n",
       "      <th>Recovered per Confirmed</th>\n",
       "      <th>Fatal per (Fatal or Recovered)</th>\n",
       "    </tr>\n",
       "    <tr>\n",
       "      <th>Date</th>\n",
       "      <th></th>\n",
       "      <th></th>\n",
       "      <th></th>\n",
       "      <th></th>\n",
       "      <th></th>\n",
       "      <th></th>\n",
       "      <th></th>\n",
       "    </tr>\n",
       "  </thead>\n",
       "  <tbody>\n",
       "    <tr>\n",
       "      <th>2020-09-15</th>\n",
       "      <td>29321744</td>\n",
       "      <td>8515266</td>\n",
       "      <td>931328</td>\n",
       "      <td>19875150</td>\n",
       "      <td>0.015881</td>\n",
       "      <td>0.338915</td>\n",
       "      <td>0.044761</td>\n",
       "    </tr>\n",
       "    <tr>\n",
       "      <th>2020-09-16</th>\n",
       "      <td>29620077</td>\n",
       "      <td>8583569</td>\n",
       "      <td>936909</td>\n",
       "      <td>20099599</td>\n",
       "      <td>0.015815</td>\n",
       "      <td>0.339290</td>\n",
       "      <td>0.044537</td>\n",
       "    </tr>\n",
       "    <tr>\n",
       "      <th>2020-09-17</th>\n",
       "      <td>29924362</td>\n",
       "      <td>8677131</td>\n",
       "      <td>942181</td>\n",
       "      <td>20305050</td>\n",
       "      <td>0.015743</td>\n",
       "      <td>0.339273</td>\n",
       "      <td>0.044344</td>\n",
       "    </tr>\n",
       "    <tr>\n",
       "      <th>2020-09-18</th>\n",
       "      <td>30233353</td>\n",
       "      <td>8730963</td>\n",
       "      <td>947749</td>\n",
       "      <td>20554641</td>\n",
       "      <td>0.015674</td>\n",
       "      <td>0.339933</td>\n",
       "      <td>0.044076</td>\n",
       "    </tr>\n",
       "    <tr>\n",
       "      <th>2020-09-19</th>\n",
       "      <td>30233971</td>\n",
       "      <td>8800934</td>\n",
       "      <td>947751</td>\n",
       "      <td>20485286</td>\n",
       "      <td>0.015674</td>\n",
       "      <td>0.338779</td>\n",
       "      <td>0.044219</td>\n",
       "    </tr>\n",
       "  </tbody>\n",
       "</table>\n",
       "</div>"
      ],
      "text/plain": [
       "            Confirmed  Infected   Fatal  Recovered  Fatal per Confirmed  \\\n",
       "Date                                                                      \n",
       "2020-09-15   29321744   8515266  931328   19875150             0.015881   \n",
       "2020-09-16   29620077   8583569  936909   20099599             0.015815   \n",
       "2020-09-17   29924362   8677131  942181   20305050             0.015743   \n",
       "2020-09-18   30233353   8730963  947749   20554641             0.015674   \n",
       "2020-09-19   30233971   8800934  947751   20485286             0.015674   \n",
       "\n",
       "            Recovered per Confirmed  Fatal per (Fatal or Recovered)  \n",
       "Date                                                                 \n",
       "2020-09-15                 0.338915                        0.044761  \n",
       "2020-09-16                 0.339290                        0.044537  \n",
       "2020-09-17                 0.339273                        0.044344  \n",
       "2020-09-18                 0.339933                        0.044076  \n",
       "2020-09-19                 0.338779                        0.044219  "
      ]
     },
     "execution_count": 10,
     "metadata": {},
     "output_type": "execute_result"
    }
   ],
   "source": [
    "# Total\n",
    "total_df = jhu_data.total()\n",
    "total_df.tail()"
   ]
  },
  {
   "cell_type": "code",
   "execution_count": 11,
   "metadata": {
    "collapsed": false
   },
   "outputs": [
    {
     "data": {
      "image/png": "[encoded data removed]",
      "text/plain": [
       "<Figure size 648x432 with 1 Axes>"
      ]
     },
     "metadata": {},
     "output_type": "display_data"
    }
   ],
   "source": [
    "# Plot the total values\n",
    "cs.line_plot(total_df[[\"Infected\", \"Fatal\", \"Recovered\"]], \"Total number of cases over time\")"
   ]
  },
  {
   "cell_type": "markdown",
   "metadata": {},
   "source": [
    "### (Optional) Replace the dataset in Japan\n"
   ]
  },
  {
   "cell_type": "code",
   "execution_count": 12,
   "metadata": {
    "collapsed": false
   },
   "outputs": [
    {
     "data": {
      "text/html": [
       "<div>\n",
       "<style scoped>\n",
       "    .dataframe tbody tr th:only-of-type {\n",
       "        vertical-align: middle;\n",
       "    }\n",
       "\n",
       "    .dataframe tbody tr th {\n",
       "        vertical-align: top;\n",
       "    }\n",
       "\n",
       "    .dataframe thead th {\n",
       "        text-align: right;\n",
       "    }\n",
       "</style>\n",
       "<table border=\"1\" class=\"dataframe\">\n",
       "  <thead>\n",
       "    <tr style=\"text-align: right;\">\n",
       "      <th></th>\n",
       "      <th>Date</th>\n",
       "      <th>Confirmed</th>\n",
       "      <th>Infected</th>\n",
       "      <th>Fatal</th>\n",
       "      <th>Recovered</th>\n",
       "    </tr>\n",
       "  </thead>\n",
       "  <tbody>\n",
       "    <tr>\n",
       "      <th>219</th>\n",
       "      <td>2020-09-15</td>\n",
       "      <td>76470</td>\n",
       "      <td>7208</td>\n",
       "      <td>1467</td>\n",
       "      <td>67795</td>\n",
       "    </tr>\n",
       "    <tr>\n",
       "      <th>220</th>\n",
       "      <td>2020-09-16</td>\n",
       "      <td>77021</td>\n",
       "      <td>7038</td>\n",
       "      <td>1480</td>\n",
       "      <td>68503</td>\n",
       "    </tr>\n",
       "    <tr>\n",
       "      <th>221</th>\n",
       "      <td>2020-09-17</td>\n",
       "      <td>77512</td>\n",
       "      <td>6800</td>\n",
       "      <td>1489</td>\n",
       "      <td>69223</td>\n",
       "    </tr>\n",
       "    <tr>\n",
       "      <th>222</th>\n",
       "      <td>2020-09-18</td>\n",
       "      <td>78084</td>\n",
       "      <td>6720</td>\n",
       "      <td>1499</td>\n",
       "      <td>69865</td>\n",
       "    </tr>\n",
       "    <tr>\n",
       "      <th>223</th>\n",
       "      <td>2020-09-19</td>\n",
       "      <td>78685</td>\n",
       "      <td>77184</td>\n",
       "      <td>1501</td>\n",
       "      <td>68934</td>\n",
       "    </tr>\n",
       "  </tbody>\n",
       "</table>\n",
       "</div>"
      ],
      "text/plain": [
       "          Date  Confirmed  Infected  Fatal  Recovered\n",
       "219 2020-09-15      76470      7208   1467      67795\n",
       "220 2020-09-16      77021      7038   1480      68503\n",
       "221 2020-09-17      77512      6800   1489      69223\n",
       "222 2020-09-18      78084      6720   1499      69865\n",
       "223 2020-09-19      78685     77184   1501      68934"
      ]
     },
     "execution_count": 12,
     "metadata": {},
     "output_type": "execute_result"
    }
   ],
   "source": [
    "jhu_data.subset(\"Japan\").tail()"
   ]
  },
  {
   "cell_type": "code",
   "execution_count": 13,
   "metadata": {
    "collapsed": false,
    "tags": []
   },
   "outputs": [
    {
     "name": "stdout",
     "output_type": "stream",
     "text": [
      "Lisphilar (2020), COVID-19 dataset in Japan, GitHub repository, https://github.com/lisphilar/covid19-sir/data/japan"
     ]
    },
    {
     "name": "stdout",
     "output_type": "stream",
     "text": [
      "\n"
     ]
    }
   ],
   "source": [
    "japan_data = data_loader.japan()\n",
    "print(japan_data.citation)"
   ]
  },
  {
   "cell_type": "code",
   "execution_count": 14,
   "metadata": {
    "collapsed": false
   },
   "outputs": [
    {
     "data": {
      "text/html": [
       "<div>\n",
       "<style scoped>\n",
       "    .dataframe tbody tr th:only-of-type {\n",
       "        vertical-align: middle;\n",
       "    }\n",
       "\n",
       "    .dataframe tbody tr th {\n",
       "        vertical-align: top;\n",
       "    }\n",
       "\n",
       "    .dataframe thead th {\n",
       "        text-align: right;\n",
       "    }\n",
       "</style>\n",
       "<table border=\"1\" class=\"dataframe\">\n",
       "  <thead>\n",
       "    <tr style=\"text-align: right;\">\n",
       "      <th></th>\n",
       "      <th>Date</th>\n",
       "      <th>Confirmed</th>\n",
       "      <th>Infected</th>\n",
       "      <th>Fatal</th>\n",
       "      <th>Recovered</th>\n",
       "    </tr>\n",
       "  </thead>\n",
       "  <tbody>\n",
       "    <tr>\n",
       "      <th>217</th>\n",
       "      <td>2020-09-15</td>\n",
       "      <td>75958</td>\n",
       "      <td>6676</td>\n",
       "      <td>1451</td>\n",
       "      <td>67831</td>\n",
       "    </tr>\n",
       "    <tr>\n",
       "      <th>218</th>\n",
       "      <td>2020-09-16</td>\n",
       "      <td>76448</td>\n",
       "      <td>6455</td>\n",
       "      <td>1461</td>\n",
       "      <td>68532</td>\n",
       "    </tr>\n",
       "    <tr>\n",
       "      <th>219</th>\n",
       "      <td>2020-09-17</td>\n",
       "      <td>77009</td>\n",
       "      <td>6283</td>\n",
       "      <td>1473</td>\n",
       "      <td>69253</td>\n",
       "    </tr>\n",
       "    <tr>\n",
       "      <th>220</th>\n",
       "      <td>2020-09-18</td>\n",
       "      <td>77494</td>\n",
       "      <td>6113</td>\n",
       "      <td>1482</td>\n",
       "      <td>69899</td>\n",
       "    </tr>\n",
       "    <tr>\n",
       "      <th>221</th>\n",
       "      <td>2020-09-19</td>\n",
       "      <td>78073</td>\n",
       "      <td>6083</td>\n",
       "      <td>1495</td>\n",
       "      <td>70495</td>\n",
       "    </tr>\n",
       "  </tbody>\n",
       "</table>\n",
       "</div>"
      ],
      "text/plain": [
       "          Date  Confirmed  Infected  Fatal  Recovered\n",
       "217 2020-09-15      75958      6676   1451      67831\n",
       "218 2020-09-16      76448      6455   1461      68532\n",
       "219 2020-09-17      77009      6283   1473      69253\n",
       "220 2020-09-18      77494      6113   1482      69899\n",
       "221 2020-09-19      78073      6083   1495      70495"
      ]
     },
     "execution_count": 14,
     "metadata": {},
     "output_type": "execute_result"
    }
   ],
   "source": [
    "jhu_data.replace(japan_data)\n",
    "jhu_data.subset(\"Japan\").tail()"
   ]
  },
  {
   "cell_type": "markdown",
   "metadata": {},
   "source": [
    "### Population in each country"
   ]
  },
  {
   "cell_type": "code",
   "execution_count": 15,
   "metadata": {
    "collapsed": false,
    "tags": []
   },
   "outputs": [
    {
     "name": "stdout",
     "output_type": "stream",
     "text": [
      "(Secondary source) Guidotti, E., Ardia, D., (2020), \"COVID-19 Data Hub\", Journal of Open Source Software 5(51):2376, doi: 10.21105/joss.02376.\n",
      "We can get Citation list of primary sources with DataLoader(...).covid19dh_citation"
     ]
    },
    {
     "name": "stdout",
     "output_type": "stream",
     "text": [
      "\n"
     ]
    }
   ],
   "source": [
    "# Description/citation\n",
    "print(population_data.citation)"
   ]
  },
  {
   "cell_type": "code",
   "execution_count": 16,
   "metadata": {
    "collapsed": false
   },
   "outputs": [
    {
     "data": {
      "text/html": [
       "<div>\n",
       "<style scoped>\n",
       "    .dataframe tbody tr th:only-of-type {\n",
       "        vertical-align: middle;\n",
       "    }\n",
       "\n",
       "    .dataframe tbody tr th {\n",
       "        vertical-align: top;\n",
       "    }\n",
       "\n",
       "    .dataframe thead th {\n",
       "        text-align: right;\n",
       "    }\n",
       "</style>\n",
       "<table border=\"1\" class=\"dataframe\">\n",
       "  <thead>\n",
       "    <tr style=\"text-align: right;\">\n",
       "      <th></th>\n",
       "      <th>ObservationDate</th>\n",
       "      <th>Confirmed</th>\n",
       "      <th>Recovered</th>\n",
       "      <th>Deaths</th>\n",
       "      <th>Population</th>\n",
       "      <th>ISO3</th>\n",
       "      <th>Province/State</th>\n",
       "      <th>Country/Region</th>\n",
       "      <th>school_closing</th>\n",
       "      <th>workplace_closing</th>\n",
       "      <th>cancel_events</th>\n",
       "      <th>gatherings_restrictions</th>\n",
       "      <th>transport_closing</th>\n",
       "      <th>stay_home_restrictions</th>\n",
       "      <th>internal_movement_restrictions</th>\n",
       "      <th>international_movement_restrictions</th>\n",
       "      <th>information_campaigns</th>\n",
       "      <th>testing_policy</th>\n",
       "      <th>contact_tracing</th>\n",
       "      <th>stringency_index</th>\n",
       "    </tr>\n",
       "  </thead>\n",
       "  <tbody>\n",
       "    <tr>\n",
       "      <th>224757</th>\n",
       "      <td>2020-09-15</td>\n",
       "      <td>14</td>\n",
       "      <td>14</td>\n",
       "      <td>0</td>\n",
       "      <td>107808.0</td>\n",
       "      <td>COL</td>\n",
       "      <td>Vichada</td>\n",
       "      <td>Colombia</td>\n",
       "      <td>3</td>\n",
       "      <td>1</td>\n",
       "      <td>2</td>\n",
       "      <td>3</td>\n",
       "      <td>1</td>\n",
       "      <td>0</td>\n",
       "      <td>0</td>\n",
       "      <td>4</td>\n",
       "      <td>2</td>\n",
       "      <td>2</td>\n",
       "      <td>2</td>\n",
       "      <td>62.04</td>\n",
       "    </tr>\n",
       "    <tr>\n",
       "      <th>224758</th>\n",
       "      <td>2020-09-16</td>\n",
       "      <td>14</td>\n",
       "      <td>14</td>\n",
       "      <td>0</td>\n",
       "      <td>107808.0</td>\n",
       "      <td>COL</td>\n",
       "      <td>Vichada</td>\n",
       "      <td>Colombia</td>\n",
       "      <td>3</td>\n",
       "      <td>1</td>\n",
       "      <td>2</td>\n",
       "      <td>3</td>\n",
       "      <td>1</td>\n",
       "      <td>0</td>\n",
       "      <td>0</td>\n",
       "      <td>4</td>\n",
       "      <td>2</td>\n",
       "      <td>2</td>\n",
       "      <td>2</td>\n",
       "      <td>62.04</td>\n",
       "    </tr>\n",
       "    <tr>\n",
       "      <th>224759</th>\n",
       "      <td>2020-09-17</td>\n",
       "      <td>14</td>\n",
       "      <td>14</td>\n",
       "      <td>0</td>\n",
       "      <td>107808.0</td>\n",
       "      <td>COL</td>\n",
       "      <td>Vichada</td>\n",
       "      <td>Colombia</td>\n",
       "      <td>3</td>\n",
       "      <td>1</td>\n",
       "      <td>2</td>\n",
       "      <td>3</td>\n",
       "      <td>1</td>\n",
       "      <td>0</td>\n",
       "      <td>0</td>\n",
       "      <td>4</td>\n",
       "      <td>2</td>\n",
       "      <td>2</td>\n",
       "      <td>2</td>\n",
       "      <td>62.04</td>\n",
       "    </tr>\n",
       "    <tr>\n",
       "      <th>224760</th>\n",
       "      <td>2020-09-18</td>\n",
       "      <td>14</td>\n",
       "      <td>14</td>\n",
       "      <td>0</td>\n",
       "      <td>107808.0</td>\n",
       "      <td>COL</td>\n",
       "      <td>Vichada</td>\n",
       "      <td>Colombia</td>\n",
       "      <td>3</td>\n",
       "      <td>1</td>\n",
       "      <td>2</td>\n",
       "      <td>3</td>\n",
       "      <td>1</td>\n",
       "      <td>0</td>\n",
       "      <td>0</td>\n",
       "      <td>4</td>\n",
       "      <td>2</td>\n",
       "      <td>2</td>\n",
       "      <td>2</td>\n",
       "      <td>62.04</td>\n",
       "    </tr>\n",
       "    <tr>\n",
       "      <th>224761</th>\n",
       "      <td>2020-09-19</td>\n",
       "      <td>14</td>\n",
       "      <td>14</td>\n",
       "      <td>0</td>\n",
       "      <td>107808.0</td>\n",
       "      <td>COL</td>\n",
       "      <td>Vichada</td>\n",
       "      <td>Colombia</td>\n",
       "      <td>3</td>\n",
       "      <td>1</td>\n",
       "      <td>2</td>\n",
       "      <td>3</td>\n",
       "      <td>1</td>\n",
       "      <td>0</td>\n",
       "      <td>0</td>\n",
       "      <td>4</td>\n",
       "      <td>2</td>\n",
       "      <td>2</td>\n",
       "      <td>2</td>\n",
       "      <td>62.04</td>\n",
       "    </tr>\n",
       "  </tbody>\n",
       "</table>\n",
       "</div>"
      ],
      "text/plain": [
       "       ObservationDate  Confirmed  Recovered  Deaths  Population ISO3  \\\n",
       "224757      2020-09-15         14         14       0    107808.0  COL   \n",
       "224758      2020-09-16         14         14       0    107808.0  COL   \n",
       "224759      2020-09-17         14         14       0    107808.0  COL   \n",
       "224760      2020-09-18         14         14       0    107808.0  COL   \n",
       "224761      2020-09-19         14         14       0    107808.0  COL   \n",
       "\n",
       "       Province/State Country/Region  school_closing  workplace_closing  \\\n",
       "224757        Vichada       Colombia               3                  1   \n",
       "224758        Vichada       Colombia               3                  1   \n",
       "224759        Vichada       Colombia               3                  1   \n",
       "224760        Vichada       Colombia               3                  1   \n",
       "224761        Vichada       Colombia               3                  1   \n",
       "\n",
       "        cancel_events  gatherings_restrictions  transport_closing  \\\n",
       "224757              2                        3                  1   \n",
       "224758              2                        3                  1   \n",
       "224759              2                        3                  1   \n",
       "224760              2                        3                  1   \n",
       "224761              2                        3                  1   \n",
       "\n",
       "        stay_home_restrictions  internal_movement_restrictions  \\\n",
       "224757                       0                               0   \n",
       "224758                       0                               0   \n",
       "224759                       0                               0   \n",
       "224760                       0                               0   \n",
       "224761                       0                               0   \n",
       "\n",
       "        international_movement_restrictions  information_campaigns  \\\n",
       "224757                                    4                      2   \n",
       "224758                                    4                      2   \n",
       "224759                                    4                      2   \n",
       "224760                                    4                      2   \n",
       "224761                                    4                      2   \n",
       "\n",
       "        testing_policy  contact_tracing  stringency_index  \n",
       "224757               2                2             62.04  \n",
       "224758               2                2             62.04  \n",
       "224759               2                2             62.04  \n",
       "224760               2                2             62.04  \n",
       "224761               2                2             62.04  "
      ]
     },
     "execution_count": 16,
     "metadata": {},
     "output_type": "execute_result"
    }
   ],
   "source": [
    "# Raw data (the same as jhu_data)\n",
    "population_data.raw.tail()"
   ]
  },
  {
   "cell_type": "code",
   "execution_count": 17,
   "metadata": {
    "collapsed": false
   },
   "outputs": [
    {
     "data": {
      "text/html": [
       "<div>\n",
       "<style scoped>\n",
       "    .dataframe tbody tr th:only-of-type {\n",
       "        vertical-align: middle;\n",
       "    }\n",
       "\n",
       "    .dataframe tbody tr th {\n",
       "        vertical-align: top;\n",
       "    }\n",
       "\n",
       "    .dataframe thead th {\n",
       "        text-align: right;\n",
       "    }\n",
       "</style>\n",
       "<table border=\"1\" class=\"dataframe\">\n",
       "  <thead>\n",
       "    <tr style=\"text-align: right;\">\n",
       "      <th></th>\n",
       "      <th>ISO3</th>\n",
       "      <th>Country</th>\n",
       "      <th>Province</th>\n",
       "      <th>Date</th>\n",
       "      <th>Population</th>\n",
       "    </tr>\n",
       "  </thead>\n",
       "  <tbody>\n",
       "    <tr>\n",
       "      <th>204588</th>\n",
       "      <td>COL</td>\n",
       "      <td>Colombia</td>\n",
       "      <td>Vichada</td>\n",
       "      <td>2020-09-15</td>\n",
       "      <td>107808</td>\n",
       "    </tr>\n",
       "    <tr>\n",
       "      <th>204589</th>\n",
       "      <td>COL</td>\n",
       "      <td>Colombia</td>\n",
       "      <td>Vichada</td>\n",
       "      <td>2020-09-16</td>\n",
       "      <td>107808</td>\n",
       "    </tr>\n",
       "    <tr>\n",
       "      <th>204590</th>\n",
       "      <td>COL</td>\n",
       "      <td>Colombia</td>\n",
       "      <td>Vichada</td>\n",
       "      <td>2020-09-17</td>\n",
       "      <td>107808</td>\n",
       "    </tr>\n",
       "    <tr>\n",
       "      <th>204591</th>\n",
       "      <td>COL</td>\n",
       "      <td>Colombia</td>\n",
       "      <td>Vichada</td>\n",
       "      <td>2020-09-18</td>\n",
       "      <td>107808</td>\n",
       "    </tr>\n",
       "    <tr>\n",
       "      <th>204592</th>\n",
       "      <td>COL</td>\n",
       "      <td>Colombia</td>\n",
       "      <td>Vichada</td>\n",
       "      <td>2020-09-19</td>\n",
       "      <td>107808</td>\n",
       "    </tr>\n",
       "  </tbody>\n",
       "</table>\n",
       "</div>"
      ],
      "text/plain": [
       "       ISO3   Country Province       Date  Population\n",
       "204588  COL  Colombia  Vichada 2020-09-15      107808\n",
       "204589  COL  Colombia  Vichada 2020-09-16      107808\n",
       "204590  COL  Colombia  Vichada 2020-09-17      107808\n",
       "204591  COL  Colombia  Vichada 2020-09-18      107808\n",
       "204592  COL  Colombia  Vichada 2020-09-19      107808"
      ]
     },
     "execution_count": 17,
     "metadata": {},
     "output_type": "execute_result"
    }
   ],
   "source": [
    "# Cleaned data\n",
    "population_data.cleaned().tail()"
   ]
  },
  {
   "cell_type": "code",
   "execution_count": 18,
   "metadata": {
    "collapsed": false
   },
   "outputs": [
    {
     "data": {
      "text/plain": [
       "126529100"
      ]
     },
     "execution_count": 18,
     "metadata": {},
     "output_type": "execute_result"
    }
   ],
   "source": [
    "population_data.value(\"Japan\", province=None)"
   ]
  },
  {
   "cell_type": "code",
   "execution_count": 19,
   "metadata": {
    "collapsed": false
   },
   "outputs": [
    {
     "data": {
      "text/plain": [
       "14002973"
      ]
     },
     "execution_count": 19,
     "metadata": {},
     "output_type": "execute_result"
    }
   ],
   "source": [
    "# Register population value of Tokyo in Japan\n",
    "# https://www.metro.tokyo.lg.jp/tosei/hodohappyo/press/2020/06/11/07.html\n",
    "population_data.update(14_002_973, \"Japan\", province=\"Tokyo\")\n",
    "population_data.value(\"Japan\", province=\"Tokyo\")"
   ]
  },
  {
   "cell_type": "markdown",
   "metadata": {},
   "source": [
    "### Government Response Tracker (OxCGRT)"
   ]
  },
  {
   "cell_type": "code",
   "execution_count": 20,
   "metadata": {
    "collapsed": false,
    "tags": []
   },
   "outputs": [
    {
     "name": "stdout",
     "output_type": "stream",
     "text": [
      "(Secondary source) Guidotti, E., Ardia, D., (2020), \"COVID-19 Data Hub\", Journal of Open Source Software 5(51):2376, doi: 10.21105/joss.02376.\n",
      "We can get Citation list of primary sources with DataLoader(...).covid19dh_citation"
     ]
    },
    {
     "name": "stdout",
     "output_type": "stream",
     "text": [
      "\n"
     ]
    }
   ],
   "source": [
    "# Description/citation\n",
    "print(oxcgrt_data.citation)"
   ]
  },
  {
   "cell_type": "code",
   "execution_count": 21,
   "metadata": {
    "collapsed": false
   },
   "outputs": [
    {
     "data": {
      "text/html": [
       "<div>\n",
       "<style scoped>\n",
       "    .dataframe tbody tr th:only-of-type {\n",
       "        vertical-align: middle;\n",
       "    }\n",
       "\n",
       "    .dataframe tbody tr th {\n",
       "        vertical-align: top;\n",
       "    }\n",
       "\n",
       "    .dataframe thead th {\n",
       "        text-align: right;\n",
       "    }\n",
       "</style>\n",
       "<table border=\"1\" class=\"dataframe\">\n",
       "  <thead>\n",
       "    <tr style=\"text-align: right;\">\n",
       "      <th></th>\n",
       "      <th>ObservationDate</th>\n",
       "      <th>Confirmed</th>\n",
       "      <th>Recovered</th>\n",
       "      <th>Deaths</th>\n",
       "      <th>Population</th>\n",
       "      <th>ISO3</th>\n",
       "      <th>Province/State</th>\n",
       "      <th>Country/Region</th>\n",
       "      <th>school_closing</th>\n",
       "      <th>workplace_closing</th>\n",
       "      <th>cancel_events</th>\n",
       "      <th>gatherings_restrictions</th>\n",
       "      <th>transport_closing</th>\n",
       "      <th>stay_home_restrictions</th>\n",
       "      <th>internal_movement_restrictions</th>\n",
       "      <th>international_movement_restrictions</th>\n",
       "      <th>information_campaigns</th>\n",
       "      <th>testing_policy</th>\n",
       "      <th>contact_tracing</th>\n",
       "      <th>stringency_index</th>\n",
       "    </tr>\n",
       "  </thead>\n",
       "  <tbody>\n",
       "    <tr>\n",
       "      <th>224757</th>\n",
       "      <td>2020-09-15</td>\n",
       "      <td>14</td>\n",
       "      <td>14</td>\n",
       "      <td>0</td>\n",
       "      <td>107808.0</td>\n",
       "      <td>COL</td>\n",
       "      <td>Vichada</td>\n",
       "      <td>Colombia</td>\n",
       "      <td>3</td>\n",
       "      <td>1</td>\n",
       "      <td>2</td>\n",
       "      <td>3</td>\n",
       "      <td>1</td>\n",
       "      <td>0</td>\n",
       "      <td>0</td>\n",
       "      <td>4</td>\n",
       "      <td>2</td>\n",
       "      <td>2</td>\n",
       "      <td>2</td>\n",
       "      <td>62.04</td>\n",
       "    </tr>\n",
       "    <tr>\n",
       "      <th>224758</th>\n",
       "      <td>2020-09-16</td>\n",
       "      <td>14</td>\n",
       "      <td>14</td>\n",
       "      <td>0</td>\n",
       "      <td>107808.0</td>\n",
       "      <td>COL</td>\n",
       "      <td>Vichada</td>\n",
       "      <td>Colombia</td>\n",
       "      <td>3</td>\n",
       "      <td>1</td>\n",
       "      <td>2</td>\n",
       "      <td>3</td>\n",
       "      <td>1</td>\n",
       "      <td>0</td>\n",
       "      <td>0</td>\n",
       "      <td>4</td>\n",
       "      <td>2</td>\n",
       "      <td>2</td>\n",
       "      <td>2</td>\n",
       "      <td>62.04</td>\n",
       "    </tr>\n",
       "    <tr>\n",
       "      <th>224759</th>\n",
       "      <td>2020-09-17</td>\n",
       "      <td>14</td>\n",
       "      <td>14</td>\n",
       "      <td>0</td>\n",
       "      <td>107808.0</td>\n",
       "      <td>COL</td>\n",
       "      <td>Vichada</td>\n",
       "      <td>Colombia</td>\n",
       "      <td>3</td>\n",
       "      <td>1</td>\n",
       "      <td>2</td>\n",
       "      <td>3</td>\n",
       "      <td>1</td>\n",
       "      <td>0</td>\n",
       "      <td>0</td>\n",
       "      <td>4</td>\n",
       "      <td>2</td>\n",
       "      <td>2</td>\n",
       "      <td>2</td>\n",
       "      <td>62.04</td>\n",
       "    </tr>\n",
       "    <tr>\n",
       "      <th>224760</th>\n",
       "      <td>2020-09-18</td>\n",
       "      <td>14</td>\n",
       "      <td>14</td>\n",
       "      <td>0</td>\n",
       "      <td>107808.0</td>\n",
       "      <td>COL</td>\n",
       "      <td>Vichada</td>\n",
       "      <td>Colombia</td>\n",
       "      <td>3</td>\n",
       "      <td>1</td>\n",
       "      <td>2</td>\n",
       "      <td>3</td>\n",
       "      <td>1</td>\n",
       "      <td>0</td>\n",
       "      <td>0</td>\n",
       "      <td>4</td>\n",
       "      <td>2</td>\n",
       "      <td>2</td>\n",
       "      <td>2</td>\n",
       "      <td>62.04</td>\n",
       "    </tr>\n",
       "    <tr>\n",
       "      <th>224761</th>\n",
       "      <td>2020-09-19</td>\n",
       "      <td>14</td>\n",
       "      <td>14</td>\n",
       "      <td>0</td>\n",
       "      <td>107808.0</td>\n",
       "      <td>COL</td>\n",
       "      <td>Vichada</td>\n",
       "      <td>Colombia</td>\n",
       "      <td>3</td>\n",
       "      <td>1</td>\n",
       "      <td>2</td>\n",
       "      <td>3</td>\n",
       "      <td>1</td>\n",
       "      <td>0</td>\n",
       "      <td>0</td>\n",
       "      <td>4</td>\n",
       "      <td>2</td>\n",
       "      <td>2</td>\n",
       "      <td>2</td>\n",
       "      <td>62.04</td>\n",
       "    </tr>\n",
       "  </tbody>\n",
       "</table>\n",
       "</div>"
      ],
      "text/plain": [
       "       ObservationDate  Confirmed  Recovered  Deaths  Population ISO3  \\\n",
       "224757      2020-09-15         14         14       0    107808.0  COL   \n",
       "224758      2020-09-16         14         14       0    107808.0  COL   \n",
       "224759      2020-09-17         14         14       0    107808.0  COL   \n",
       "224760      2020-09-18         14         14       0    107808.0  COL   \n",
       "224761      2020-09-19         14         14       0    107808.0  COL   \n",
       "\n",
       "       Province/State Country/Region  school_closing  workplace_closing  \\\n",
       "224757        Vichada       Colombia               3                  1   \n",
       "224758        Vichada       Colombia               3                  1   \n",
       "224759        Vichada       Colombia               3                  1   \n",
       "224760        Vichada       Colombia               3                  1   \n",
       "224761        Vichada       Colombia               3                  1   \n",
       "\n",
       "        cancel_events  gatherings_restrictions  transport_closing  \\\n",
       "224757              2                        3                  1   \n",
       "224758              2                        3                  1   \n",
       "224759              2                        3                  1   \n",
       "224760              2                        3                  1   \n",
       "224761              2                        3                  1   \n",
       "\n",
       "        stay_home_restrictions  internal_movement_restrictions  \\\n",
       "224757                       0                               0   \n",
       "224758                       0                               0   \n",
       "224759                       0                               0   \n",
       "224760                       0                               0   \n",
       "224761                       0                               0   \n",
       "\n",
       "        international_movement_restrictions  information_campaigns  \\\n",
       "224757                                    4                      2   \n",
       "224758                                    4                      2   \n",
       "224759                                    4                      2   \n",
       "224760                                    4                      2   \n",
       "224761                                    4                      2   \n",
       "\n",
       "        testing_policy  contact_tracing  stringency_index  \n",
       "224757               2                2             62.04  \n",
       "224758               2                2             62.04  \n",
       "224759               2                2             62.04  \n",
       "224760               2                2             62.04  \n",
       "224761               2                2             62.04  "
      ]
     },
     "execution_count": 21,
     "metadata": {},
     "output_type": "execute_result"
    }
   ],
   "source": [
    "# Raw data (the same as jhu_data)\n",
    "oxcgrt_data.raw.tail()"
   ]
  },
  {
   "cell_type": "code",
   "execution_count": 22,
   "metadata": {
    "collapsed": false
   },
   "outputs": [
    {
     "data": {
      "text/html": [
       "<div>\n",
       "<style scoped>\n",
       "    .dataframe tbody tr th:only-of-type {\n",
       "        vertical-align: middle;\n",
       "    }\n",
       "\n",
       "    .dataframe tbody tr th {\n",
       "        vertical-align: top;\n",
       "    }\n",
       "\n",
       "    .dataframe thead th {\n",
       "        text-align: right;\n",
       "    }\n",
       "</style>\n",
       "<table border=\"1\" class=\"dataframe\">\n",
       "  <thead>\n",
       "    <tr style=\"text-align: right;\">\n",
       "      <th></th>\n",
       "      <th>Date</th>\n",
       "      <th>Country</th>\n",
       "      <th>ISO3</th>\n",
       "      <th>School_closing</th>\n",
       "      <th>Workplace_closing</th>\n",
       "      <th>Cancel_events</th>\n",
       "      <th>Gatherings_restrictions</th>\n",
       "      <th>Transport_closing</th>\n",
       "      <th>Stay_home_restrictions</th>\n",
       "      <th>Internal_movement_restrictions</th>\n",
       "      <th>International_movement_restrictions</th>\n",
       "      <th>Information_campaigns</th>\n",
       "      <th>Testing_policy</th>\n",
       "      <th>Contact_tracing</th>\n",
       "      <th>Stringency_index</th>\n",
       "    </tr>\n",
       "  </thead>\n",
       "  <tbody>\n",
       "    <tr>\n",
       "      <th>224757</th>\n",
       "      <td>2020-09-15</td>\n",
       "      <td>Colombia</td>\n",
       "      <td>COL</td>\n",
       "      <td>3</td>\n",
       "      <td>1</td>\n",
       "      <td>2</td>\n",
       "      <td>3</td>\n",
       "      <td>1</td>\n",
       "      <td>0</td>\n",
       "      <td>0</td>\n",
       "      <td>4</td>\n",
       "      <td>2</td>\n",
       "      <td>2</td>\n",
       "      <td>2</td>\n",
       "      <td>62.04</td>\n",
       "    </tr>\n",
       "    <tr>\n",
       "      <th>224758</th>\n",
       "      <td>2020-09-16</td>\n",
       "      <td>Colombia</td>\n",
       "      <td>COL</td>\n",
       "      <td>3</td>\n",
       "      <td>1</td>\n",
       "      <td>2</td>\n",
       "      <td>3</td>\n",
       "      <td>1</td>\n",
       "      <td>0</td>\n",
       "      <td>0</td>\n",
       "      <td>4</td>\n",
       "      <td>2</td>\n",
       "      <td>2</td>\n",
       "      <td>2</td>\n",
       "      <td>62.04</td>\n",
       "    </tr>\n",
       "    <tr>\n",
       "      <th>224759</th>\n",
       "      <td>2020-09-17</td>\n",
       "      <td>Colombia</td>\n",
       "      <td>COL</td>\n",
       "      <td>3</td>\n",
       "      <td>1</td>\n",
       "      <td>2</td>\n",
       "      <td>3</td>\n",
       "      <td>1</td>\n",
       "      <td>0</td>\n",
       "      <td>0</td>\n",
       "      <td>4</td>\n",
       "      <td>2</td>\n",
       "      <td>2</td>\n",
       "      <td>2</td>\n",
       "      <td>62.04</td>\n",
       "    </tr>\n",
       "    <tr>\n",
       "      <th>224760</th>\n",
       "      <td>2020-09-18</td>\n",
       "      <td>Colombia</td>\n",
       "      <td>COL</td>\n",
       "      <td>3</td>\n",
       "      <td>1</td>\n",
       "      <td>2</td>\n",
       "      <td>3</td>\n",
       "      <td>1</td>\n",
       "      <td>0</td>\n",
       "      <td>0</td>\n",
       "      <td>4</td>\n",
       "      <td>2</td>\n",
       "      <td>2</td>\n",
       "      <td>2</td>\n",
       "      <td>62.04</td>\n",
       "    </tr>\n",
       "    <tr>\n",
       "      <th>224761</th>\n",
       "      <td>2020-09-19</td>\n",
       "      <td>Colombia</td>\n",
       "      <td>COL</td>\n",
       "      <td>3</td>\n",
       "      <td>1</td>\n",
       "      <td>2</td>\n",
       "      <td>3</td>\n",
       "      <td>1</td>\n",
       "      <td>0</td>\n",
       "      <td>0</td>\n",
       "      <td>4</td>\n",
       "      <td>2</td>\n",
       "      <td>2</td>\n",
       "      <td>2</td>\n",
       "      <td>62.04</td>\n",
       "    </tr>\n",
       "  </tbody>\n",
       "</table>\n",
       "</div>"
      ],
      "text/plain": [
       "             Date   Country ISO3  School_closing  Workplace_closing  \\\n",
       "224757 2020-09-15  Colombia  COL               3                  1   \n",
       "224758 2020-09-16  Colombia  COL               3                  1   \n",
       "224759 2020-09-17  Colombia  COL               3                  1   \n",
       "224760 2020-09-18  Colombia  COL               3                  1   \n",
       "224761 2020-09-19  Colombia  COL               3                  1   \n",
       "\n",
       "        Cancel_events  Gatherings_restrictions  Transport_closing  \\\n",
       "224757              2                        3                  1   \n",
       "224758              2                        3                  1   \n",
       "224759              2                        3                  1   \n",
       "224760              2                        3                  1   \n",
       "224761              2                        3                  1   \n",
       "\n",
       "        Stay_home_restrictions  Internal_movement_restrictions  \\\n",
       "224757                       0                               0   \n",
       "224758                       0                               0   \n",
       "224759                       0                               0   \n",
       "224760                       0                               0   \n",
       "224761                       0                               0   \n",
       "\n",
       "        International_movement_restrictions  Information_campaigns  \\\n",
       "224757                                    4                      2   \n",
       "224758                                    4                      2   \n",
       "224759                                    4                      2   \n",
       "224760                                    4                      2   \n",
       "224761                                    4                      2   \n",
       "\n",
       "        Testing_policy  Contact_tracing  Stringency_index  \n",
       "224757               2                2             62.04  \n",
       "224758               2                2             62.04  \n",
       "224759               2                2             62.04  \n",
       "224760               2                2             62.04  \n",
       "224761               2                2             62.04  "
      ]
     },
     "execution_count": 22,
     "metadata": {},
     "output_type": "execute_result"
    }
   ],
   "source": [
    "# Cleaned data\n",
    "oxcgrt_data.cleaned().tail()"
   ]
  },
  {
   "cell_type": "code",
   "execution_count": 23,
   "metadata": {
    "collapsed": false
   },
   "outputs": [
    {
     "data": {
      "text/html": [
       "<div>\n",
       "<style scoped>\n",
       "    .dataframe tbody tr th:only-of-type {\n",
       "        vertical-align: middle;\n",
       "    }\n",
       "\n",
       "    .dataframe tbody tr th {\n",
       "        vertical-align: top;\n",
       "    }\n",
       "\n",
       "    .dataframe thead th {\n",
       "        text-align: right;\n",
       "    }\n",
       "</style>\n",
       "<table border=\"1\" class=\"dataframe\">\n",
       "  <thead>\n",
       "    <tr style=\"text-align: right;\">\n",
       "      <th></th>\n",
       "      <th>Date</th>\n",
       "      <th>School_closing</th>\n",
       "      <th>Workplace_closing</th>\n",
       "      <th>Cancel_events</th>\n",
       "      <th>Gatherings_restrictions</th>\n",
       "      <th>Transport_closing</th>\n",
       "      <th>Stay_home_restrictions</th>\n",
       "      <th>Internal_movement_restrictions</th>\n",
       "      <th>International_movement_restrictions</th>\n",
       "      <th>Information_campaigns</th>\n",
       "      <th>Testing_policy</th>\n",
       "      <th>Contact_tracing</th>\n",
       "      <th>Stringency_index</th>\n",
       "    </tr>\n",
       "  </thead>\n",
       "  <tbody>\n",
       "    <tr>\n",
       "      <th>255</th>\n",
       "      <td>2020-09-15</td>\n",
       "      <td>1</td>\n",
       "      <td>1</td>\n",
       "      <td>1</td>\n",
       "      <td>0</td>\n",
       "      <td>0</td>\n",
       "      <td>1</td>\n",
       "      <td>1</td>\n",
       "      <td>3</td>\n",
       "      <td>2</td>\n",
       "      <td>2</td>\n",
       "      <td>1</td>\n",
       "      <td>37.04</td>\n",
       "    </tr>\n",
       "    <tr>\n",
       "      <th>256</th>\n",
       "      <td>2020-09-16</td>\n",
       "      <td>1</td>\n",
       "      <td>1</td>\n",
       "      <td>1</td>\n",
       "      <td>0</td>\n",
       "      <td>0</td>\n",
       "      <td>1</td>\n",
       "      <td>1</td>\n",
       "      <td>3</td>\n",
       "      <td>2</td>\n",
       "      <td>2</td>\n",
       "      <td>1</td>\n",
       "      <td>37.04</td>\n",
       "    </tr>\n",
       "    <tr>\n",
       "      <th>257</th>\n",
       "      <td>2020-09-17</td>\n",
       "      <td>1</td>\n",
       "      <td>1</td>\n",
       "      <td>1</td>\n",
       "      <td>0</td>\n",
       "      <td>0</td>\n",
       "      <td>1</td>\n",
       "      <td>1</td>\n",
       "      <td>3</td>\n",
       "      <td>2</td>\n",
       "      <td>2</td>\n",
       "      <td>1</td>\n",
       "      <td>37.04</td>\n",
       "    </tr>\n",
       "    <tr>\n",
       "      <th>258</th>\n",
       "      <td>2020-09-18</td>\n",
       "      <td>1</td>\n",
       "      <td>1</td>\n",
       "      <td>1</td>\n",
       "      <td>0</td>\n",
       "      <td>0</td>\n",
       "      <td>1</td>\n",
       "      <td>1</td>\n",
       "      <td>3</td>\n",
       "      <td>2</td>\n",
       "      <td>2</td>\n",
       "      <td>1</td>\n",
       "      <td>37.04</td>\n",
       "    </tr>\n",
       "    <tr>\n",
       "      <th>259</th>\n",
       "      <td>2020-09-19</td>\n",
       "      <td>1</td>\n",
       "      <td>1</td>\n",
       "      <td>1</td>\n",
       "      <td>0</td>\n",
       "      <td>0</td>\n",
       "      <td>1</td>\n",
       "      <td>1</td>\n",
       "      <td>3</td>\n",
       "      <td>2</td>\n",
       "      <td>2</td>\n",
       "      <td>1</td>\n",
       "      <td>37.04</td>\n",
       "    </tr>\n",
       "  </tbody>\n",
       "</table>\n",
       "</div>"
      ],
      "text/plain": [
       "          Date  School_closing  Workplace_closing  Cancel_events  \\\n",
       "255 2020-09-15               1                  1              1   \n",
       "256 2020-09-16               1                  1              1   \n",
       "257 2020-09-17               1                  1              1   \n",
       "258 2020-09-18               1                  1              1   \n",
       "259 2020-09-19               1                  1              1   \n",
       "\n",
       "     Gatherings_restrictions  Transport_closing  Stay_home_restrictions  \\\n",
       "255                        0                  0                       1   \n",
       "256                        0                  0                       1   \n",
       "257                        0                  0                       1   \n",
       "258                        0                  0                       1   \n",
       "259                        0                  0                       1   \n",
       "\n",
       "     Internal_movement_restrictions  International_movement_restrictions  \\\n",
       "255                               1                                    3   \n",
       "256                               1                                    3   \n",
       "257                               1                                    3   \n",
       "258                               1                                    3   \n",
       "259                               1                                    3   \n",
       "\n",
       "     Information_campaigns  Testing_policy  Contact_tracing  Stringency_index  \n",
       "255                      2               2                1             37.04  \n",
       "256                      2               2                1             37.04  \n",
       "257                      2               2                1             37.04  \n",
       "258                      2               2                1             37.04  \n",
       "259                      2               2                1             37.04  "
      ]
     },
     "execution_count": 23,
     "metadata": {},
     "output_type": "execute_result"
    }
   ],
   "source": [
    "# Subset for a country\n",
    "oxcgrt_data.subset(\"Japan\").tail()"
   ]
  },
  {
   "cell_type": "code",
   "execution_count": 24,
   "metadata": {
    "collapsed": false
   },
   "outputs": [
    {
     "data": {
      "text/html": [
       "<div>\n",
       "<style scoped>\n",
       "    .dataframe tbody tr th:only-of-type {\n",
       "        vertical-align: middle;\n",
       "    }\n",
       "\n",
       "    .dataframe tbody tr th {\n",
       "        vertical-align: top;\n",
       "    }\n",
       "\n",
       "    .dataframe thead th {\n",
       "        text-align: right;\n",
       "    }\n",
       "</style>\n",
       "<table border=\"1\" class=\"dataframe\">\n",
       "  <thead>\n",
       "    <tr style=\"text-align: right;\">\n",
       "      <th></th>\n",
       "      <th>Date</th>\n",
       "      <th>School_closing</th>\n",
       "      <th>Workplace_closing</th>\n",
       "      <th>Cancel_events</th>\n",
       "      <th>Gatherings_restrictions</th>\n",
       "      <th>Transport_closing</th>\n",
       "      <th>Stay_home_restrictions</th>\n",
       "      <th>Internal_movement_restrictions</th>\n",
       "      <th>International_movement_restrictions</th>\n",
       "      <th>Information_campaigns</th>\n",
       "      <th>Testing_policy</th>\n",
       "      <th>Contact_tracing</th>\n",
       "      <th>Stringency_index</th>\n",
       "    </tr>\n",
       "  </thead>\n",
       "  <tbody>\n",
       "    <tr>\n",
       "      <th>255</th>\n",
       "      <td>2020-09-15</td>\n",
       "      <td>1</td>\n",
       "      <td>1</td>\n",
       "      <td>1</td>\n",
       "      <td>0</td>\n",
       "      <td>0</td>\n",
       "      <td>1</td>\n",
       "      <td>1</td>\n",
       "      <td>3</td>\n",
       "      <td>2</td>\n",
       "      <td>2</td>\n",
       "      <td>1</td>\n",
       "      <td>37.04</td>\n",
       "    </tr>\n",
       "    <tr>\n",
       "      <th>256</th>\n",
       "      <td>2020-09-16</td>\n",
       "      <td>1</td>\n",
       "      <td>1</td>\n",
       "      <td>1</td>\n",
       "      <td>0</td>\n",
       "      <td>0</td>\n",
       "      <td>1</td>\n",
       "      <td>1</td>\n",
       "      <td>3</td>\n",
       "      <td>2</td>\n",
       "      <td>2</td>\n",
       "      <td>1</td>\n",
       "      <td>37.04</td>\n",
       "    </tr>\n",
       "    <tr>\n",
       "      <th>257</th>\n",
       "      <td>2020-09-17</td>\n",
       "      <td>1</td>\n",
       "      <td>1</td>\n",
       "      <td>1</td>\n",
       "      <td>0</td>\n",
       "      <td>0</td>\n",
       "      <td>1</td>\n",
       "      <td>1</td>\n",
       "      <td>3</td>\n",
       "      <td>2</td>\n",
       "      <td>2</td>\n",
       "      <td>1</td>\n",
       "      <td>37.04</td>\n",
       "    </tr>\n",
       "    <tr>\n",
       "      <th>258</th>\n",
       "      <td>2020-09-18</td>\n",
       "      <td>1</td>\n",
       "      <td>1</td>\n",
       "      <td>1</td>\n",
       "      <td>0</td>\n",
       "      <td>0</td>\n",
       "      <td>1</td>\n",
       "      <td>1</td>\n",
       "      <td>3</td>\n",
       "      <td>2</td>\n",
       "      <td>2</td>\n",
       "      <td>1</td>\n",
       "      <td>37.04</td>\n",
       "    </tr>\n",
       "    <tr>\n",
       "      <th>259</th>\n",
       "      <td>2020-09-19</td>\n",
       "      <td>1</td>\n",
       "      <td>1</td>\n",
       "      <td>1</td>\n",
       "      <td>0</td>\n",
       "      <td>0</td>\n",
       "      <td>1</td>\n",
       "      <td>1</td>\n",
       "      <td>3</td>\n",
       "      <td>2</td>\n",
       "      <td>2</td>\n",
       "      <td>1</td>\n",
       "      <td>37.04</td>\n",
       "    </tr>\n",
       "  </tbody>\n",
       "</table>\n",
       "</div>"
      ],
      "text/plain": [
       "          Date  School_closing  Workplace_closing  Cancel_events  \\\n",
       "255 2020-09-15               1                  1              1   \n",
       "256 2020-09-16               1                  1              1   \n",
       "257 2020-09-17               1                  1              1   \n",
       "258 2020-09-18               1                  1              1   \n",
       "259 2020-09-19               1                  1              1   \n",
       "\n",
       "     Gatherings_restrictions  Transport_closing  Stay_home_restrictions  \\\n",
       "255                        0                  0                       1   \n",
       "256                        0                  0                       1   \n",
       "257                        0                  0                       1   \n",
       "258                        0                  0                       1   \n",
       "259                        0                  0                       1   \n",
       "\n",
       "     Internal_movement_restrictions  International_movement_restrictions  \\\n",
       "255                               1                                    3   \n",
       "256                               1                                    3   \n",
       "257                               1                                    3   \n",
       "258                               1                                    3   \n",
       "259                               1                                    3   \n",
       "\n",
       "     Information_campaigns  Testing_policy  Contact_tracing  Stringency_index  \n",
       "255                      2               2                1             37.04  \n",
       "256                      2               2                1             37.04  \n",
       "257                      2               2                1             37.04  \n",
       "258                      2               2                1             37.04  \n",
       "259                      2               2                1             37.04  "
      ]
     },
     "execution_count": 24,
     "metadata": {},
     "output_type": "execute_result"
    }
   ],
   "source": [
    "# Subset for a country (using ISO3 code)\n",
    "oxcgrt_data.subset(\"JPN\").tail()"
   ]
  },
  {
   "cell_type": "markdown",
   "metadata": {},
   "source": [
    "## Scenario analysis\n",
    "As an example, we will analysis the number of cases in Japan."
   ]
  },
  {
   "cell_type": "code",
   "execution_count": 25,
   "metadata": {
    "collapsed": false
   },
   "outputs": [],
   "source": [
    "scenario = cs.Scenario(jhu_data, population_data, country=\"Japan\", province=None)"
   ]
  },
  {
   "cell_type": "markdown",
   "metadata": {},
   "source": [
    "### Check records"
   ]
  },
  {
   "cell_type": "code",
   "execution_count": 26,
   "metadata": {
    "collapsed": false
   },
   "outputs": [
    {
     "data": {
      "image/png": "[encoded data removed]",
      "text/plain": [
       "<Figure size 648x432 with 1 Axes>"
      ]
     },
     "metadata": {},
     "output_type": "display_data"
    },
    {
     "data": {
      "text/html": [
       "<div>\n",
       "<style scoped>\n",
       "    .dataframe tbody tr th:only-of-type {\n",
       "        vertical-align: middle;\n",
       "    }\n",
       "\n",
       "    .dataframe tbody tr th {\n",
       "        vertical-align: top;\n",
       "    }\n",
       "\n",
       "    .dataframe thead th {\n",
       "        text-align: right;\n",
       "    }\n",
       "</style>\n",
       "<table border=\"1\" class=\"dataframe\">\n",
       "  <thead>\n",
       "    <tr style=\"text-align: right;\">\n",
       "      <th></th>\n",
       "      <th>Date</th>\n",
       "      <th>Confirmed</th>\n",
       "      <th>Infected</th>\n",
       "      <th>Fatal</th>\n",
       "      <th>Recovered</th>\n",
       "    </tr>\n",
       "  </thead>\n",
       "  <tbody>\n",
       "    <tr>\n",
       "      <th>217</th>\n",
       "      <td>2020-09-15</td>\n",
       "      <td>75958</td>\n",
       "      <td>6676</td>\n",
       "      <td>1451</td>\n",
       "      <td>67831</td>\n",
       "    </tr>\n",
       "    <tr>\n",
       "      <th>218</th>\n",
       "      <td>2020-09-16</td>\n",
       "      <td>76448</td>\n",
       "      <td>6455</td>\n",
       "      <td>1461</td>\n",
       "      <td>68532</td>\n",
       "    </tr>\n",
       "    <tr>\n",
       "      <th>219</th>\n",
       "      <td>2020-09-17</td>\n",
       "      <td>77009</td>\n",
       "      <td>6283</td>\n",
       "      <td>1473</td>\n",
       "      <td>69253</td>\n",
       "    </tr>\n",
       "    <tr>\n",
       "      <th>220</th>\n",
       "      <td>2020-09-18</td>\n",
       "      <td>77494</td>\n",
       "      <td>6113</td>\n",
       "      <td>1482</td>\n",
       "      <td>69899</td>\n",
       "    </tr>\n",
       "    <tr>\n",
       "      <th>221</th>\n",
       "      <td>2020-09-19</td>\n",
       "      <td>78073</td>\n",
       "      <td>6083</td>\n",
       "      <td>1495</td>\n",
       "      <td>70495</td>\n",
       "    </tr>\n",
       "  </tbody>\n",
       "</table>\n",
       "</div>"
      ],
      "text/plain": [
       "          Date  Confirmed  Infected  Fatal  Recovered\n",
       "217 2020-09-15      75958      6676   1451      67831\n",
       "218 2020-09-16      76448      6455   1461      68532\n",
       "219 2020-09-17      77009      6283   1473      69253\n",
       "220 2020-09-18      77494      6113   1482      69899\n",
       "221 2020-09-19      78073      6083   1495      70495"
      ]
     },
     "execution_count": 26,
     "metadata": {},
     "output_type": "execute_result"
    }
   ],
   "source": [
    "import matplotlib\n",
    "warnings.simplefilter(\"ignore\", category=matplotlib.MatplotlibDeprecationWarning)\n",
    "record_df = scenario.records()\n",
    "record_df.tail()"
   ]
  },
  {
   "cell_type": "markdown",
   "metadata": {},
   "source": [
    "### S-R trend analysis"
   ]
  },
  {
   "cell_type": "code",
   "execution_count": 27,
   "metadata": {
    "collapsed": false
   },
   "outputs": [
    {
     "data": {
      "image/png": "[encoded data removed]",
      "text/plain": [
       "<Figure size 648x432 with 1 Axes>"
      ]
     },
     "metadata": {},
     "output_type": "display_data"
    },
    {
     "data": {
      "text/html": [
       "<div>\n",
       "<style scoped>\n",
       "    .dataframe tbody tr th:only-of-type {\n",
       "        vertical-align: middle;\n",
       "    }\n",
       "\n",
       "    .dataframe tbody tr th {\n",
       "        vertical-align: top;\n",
       "    }\n",
       "\n",
       "    .dataframe thead th {\n",
       "        text-align: right;\n",
       "    }\n",
       "</style>\n",
       "<table border=\"1\" class=\"dataframe\">\n",
       "  <thead>\n",
       "    <tr style=\"text-align: right;\">\n",
       "      <th></th>\n",
       "      <th>Type</th>\n",
       "      <th>Start</th>\n",
       "      <th>End</th>\n",
       "      <th>Population</th>\n",
       "    </tr>\n",
       "  </thead>\n",
       "  <tbody>\n",
       "    <tr>\n",
       "      <th>0th</th>\n",
       "      <td>Past</td>\n",
       "      <td>06Feb2020</td>\n",
       "      <td>21Apr2020</td>\n",
       "      <td>126529100</td>\n",
       "    </tr>\n",
       "    <tr>\n",
       "      <th>1st</th>\n",
       "      <td>Past</td>\n",
       "      <td>22Apr2020</td>\n",
       "      <td>06Jul2020</td>\n",
       "      <td>126529100</td>\n",
       "    </tr>\n",
       "    <tr>\n",
       "      <th>2nd</th>\n",
       "      <td>Past</td>\n",
       "      <td>07Jul2020</td>\n",
       "      <td>23Jul2020</td>\n",
       "      <td>126529100</td>\n",
       "    </tr>\n",
       "    <tr>\n",
       "      <th>3rd</th>\n",
       "      <td>Past</td>\n",
       "      <td>24Jul2020</td>\n",
       "      <td>01Aug2020</td>\n",
       "      <td>126529100</td>\n",
       "    </tr>\n",
       "    <tr>\n",
       "      <th>4th</th>\n",
       "      <td>Past</td>\n",
       "      <td>02Aug2020</td>\n",
       "      <td>14Aug2020</td>\n",
       "      <td>126529100</td>\n",
       "    </tr>\n",
       "    <tr>\n",
       "      <th>5th</th>\n",
       "      <td>Past</td>\n",
       "      <td>15Aug2020</td>\n",
       "      <td>28Aug2020</td>\n",
       "      <td>126529100</td>\n",
       "    </tr>\n",
       "    <tr>\n",
       "      <th>6th</th>\n",
       "      <td>Past</td>\n",
       "      <td>29Aug2020</td>\n",
       "      <td>08Sep2020</td>\n",
       "      <td>126529100</td>\n",
       "    </tr>\n",
       "    <tr>\n",
       "      <th>7th</th>\n",
       "      <td>Past</td>\n",
       "      <td>09Sep2020</td>\n",
       "      <td>19Sep2020</td>\n",
       "      <td>126529100</td>\n",
       "    </tr>\n",
       "  </tbody>\n",
       "</table>\n",
       "</div>"
      ],
      "text/plain": [
       "     Type      Start        End  Population\n",
       "0th  Past  06Feb2020  21Apr2020   126529100\n",
       "1st  Past  22Apr2020  06Jul2020   126529100\n",
       "2nd  Past  07Jul2020  23Jul2020   126529100\n",
       "3rd  Past  24Jul2020  01Aug2020   126529100\n",
       "4th  Past  02Aug2020  14Aug2020   126529100\n",
       "5th  Past  15Aug2020  28Aug2020   126529100\n",
       "6th  Past  29Aug2020  08Sep2020   126529100\n",
       "7th  Past  09Sep2020  19Sep2020   126529100"
      ]
     },
     "execution_count": 27,
     "metadata": {},
     "output_type": "execute_result"
    }
   ],
   "source": [
    "scenario.trend(set_phases=True)\n",
    "scenario.summary()"
   ]
  },
  {
   "cell_type": "markdown",
   "metadata": {},
   "source": [
    "### Hyperparameter estimation of ODE models\n",
    "As an example, use SIR-F model.\n",
    "We can use SIR, SIRD, (SIRFV), (SEWIRF)."
   ]
  },
  {
   "cell_type": "code",
   "execution_count": 28,
   "metadata": {
    "collapsed": false,
    "tags": []
   },
   "outputs": [
    {
     "name": "stdout",
     "output_type": "stream",
     "text": [
      "\n",
      "<SIR-F model: parameter estimation>"
     ]
    },
    {
     "name": "stdout",
     "output_type": "stream",
     "text": [
      "\n"
     ]
    },
    {
     "name": "stdout",
     "output_type": "stream",
     "text": [
      "Running optimization with 4 CPUs..."
     ]
    },
    {
     "name": "stdout",
     "output_type": "stream",
     "text": [
      "\n"
     ]
    },
    {
     "name": "stdout",
     "output_type": "stream",
     "text": [
      "\t7th phase (09Sep2020 - 19Sep2020): finished  742 trials in 0 min 20 sec"
     ]
    },
    {
     "name": "stdout",
     "output_type": "stream",
     "text": [
      "\n"
     ]
    },
    {
     "name": "stdout",
     "output_type": "stream",
     "text": [
      "\t2nd phase (07Jul2020 - 23Jul2020): finished  266 trials in 0 min  5 sec"
     ]
    },
    {
     "name": "stdout",
     "output_type": "stream",
     "text": [
      "\n"
     ]
    },
    {
     "name": "stdout",
     "output_type": "stream",
     "text": [
      "\t3rd phase (24Jul2020 - 01Aug2020): finished 1032 trials in 0 min 25 sec"
     ]
    },
    {
     "name": "stdout",
     "output_type": "stream",
     "text": [
      "\n"
     ]
    },
    {
     "name": "stdout",
     "output_type": "stream",
     "text": [
      "\t5th phase (15Aug2020 - 28Aug2020): finished  685 trials in 0 min 15 sec"
     ]
    },
    {
     "name": "stdout",
     "output_type": "stream",
     "text": [
      "\n"
     ]
    },
    {
     "name": "stdout",
     "output_type": "stream",
     "text": [
      "\t6th phase (29Aug2020 - 08Sep2020): finished  258 trials in 0 min  5 sec"
     ]
    },
    {
     "name": "stdout",
     "output_type": "stream",
     "text": [
      "\n"
     ]
    },
    {
     "name": "stdout",
     "output_type": "stream",
     "text": [
      "\t0th phase (06Feb2020 - 21Apr2020): finished 1990 trials in 1 min  0 sec"
     ]
    },
    {
     "name": "stdout",
     "output_type": "stream",
     "text": [
      "\n"
     ]
    },
    {
     "name": "stdout",
     "output_type": "stream",
     "text": [
      "\t1st phase (22Apr2020 - 06Jul2020): finished 1982 trials in 1 min  0 sec"
     ]
    },
    {
     "name": "stdout",
     "output_type": "stream",
     "text": [
      "\n"
     ]
    },
    {
     "name": "stdout",
     "output_type": "stream",
     "text": [
      "\t4th phase (02Aug2020 - 14Aug2020): finished 2028 trials in 1 min  0 sec"
     ]
    },
    {
     "name": "stdout",
     "output_type": "stream",
     "text": [
      "\n"
     ]
    },
    {
     "name": "stdout",
     "output_type": "stream",
     "text": [
      "Completed optimization. Total: 1 min 25 sec"
     ]
    },
    {
     "name": "stdout",
     "output_type": "stream",
     "text": [
      "\n"
     ]
    }
   ],
   "source": [
    "scenario.estimate(cs.SIRF)"
   ]
  },
  {
   "cell_type": "code",
   "execution_count": 29,
   "metadata": {
    "collapsed": false
   },
   "outputs": [
    {
     "data": {
      "text/html": [
       "<div>\n",
       "<style scoped>\n",
       "    .dataframe tbody tr th:only-of-type {\n",
       "        vertical-align: middle;\n",
       "    }\n",
       "\n",
       "    .dataframe tbody tr th {\n",
       "        vertical-align: top;\n",
       "    }\n",
       "\n",
       "    .dataframe thead th {\n",
       "        text-align: right;\n",
       "    }\n",
       "</style>\n",
       "<table border=\"1\" class=\"dataframe\">\n",
       "  <thead>\n",
       "    <tr style=\"text-align: right;\">\n",
       "      <th></th>\n",
       "      <th>Type</th>\n",
       "      <th>Start</th>\n",
       "      <th>End</th>\n",
       "      <th>Population</th>\n",
       "      <th>ODE</th>\n",
       "      <th>Rt</th>\n",
       "      <th>theta</th>\n",
       "      <th>kappa</th>\n",
       "      <th>rho</th>\n",
       "      <th>sigma</th>\n",
       "      <th>tau</th>\n",
       "      <th>alpha1 [-]</th>\n",
       "      <th>1/alpha2 [day]</th>\n",
       "      <th>1/beta [day]</th>\n",
       "      <th>1/gamma [day]</th>\n",
       "      <th>RMSLE</th>\n",
       "      <th>Trials</th>\n",
       "      <th>Runtime</th>\n",
       "    </tr>\n",
       "  </thead>\n",
       "  <tbody>\n",
       "    <tr>\n",
       "      <th>0th</th>\n",
       "      <td>Past</td>\n",
       "      <td>06Feb2020</td>\n",
       "      <td>21Apr2020</td>\n",
       "      <td>126529100</td>\n",
       "      <td>SIR-F</td>\n",
       "      <td>4.66</td>\n",
       "      <td>0.018341</td>\n",
       "      <td>0.000174</td>\n",
       "      <td>0.104200</td>\n",
       "      <td>0.021769</td>\n",
       "      <td>1440</td>\n",
       "      <td>0.018</td>\n",
       "      <td>5760</td>\n",
       "      <td>9</td>\n",
       "      <td>45</td>\n",
       "      <td>0.937856</td>\n",
       "      <td>1990</td>\n",
       "      <td>1 min  0 sec</td>\n",
       "    </tr>\n",
       "    <tr>\n",
       "      <th>1st</th>\n",
       "      <td>Past</td>\n",
       "      <td>22Apr2020</td>\n",
       "      <td>06Jul2020</td>\n",
       "      <td>126529100</td>\n",
       "      <td>SIR-F</td>\n",
       "      <td>0.41</td>\n",
       "      <td>0.094355</td>\n",
       "      <td>0.000373</td>\n",
       "      <td>0.030364</td>\n",
       "      <td>0.067402</td>\n",
       "      <td>1440</td>\n",
       "      <td>0.094</td>\n",
       "      <td>2681</td>\n",
       "      <td>32</td>\n",
       "      <td>14</td>\n",
       "      <td>0.890362</td>\n",
       "      <td>1982</td>\n",
       "      <td>1 min  0 sec</td>\n",
       "    </tr>\n",
       "    <tr>\n",
       "      <th>2nd</th>\n",
       "      <td>Past</td>\n",
       "      <td>07Jul2020</td>\n",
       "      <td>23Jul2020</td>\n",
       "      <td>126529100</td>\n",
       "      <td>SIR-F</td>\n",
       "      <td>1.93</td>\n",
       "      <td>0.000466</td>\n",
       "      <td>0.000080</td>\n",
       "      <td>0.133382</td>\n",
       "      <td>0.068954</td>\n",
       "      <td>1440</td>\n",
       "      <td>0.000</td>\n",
       "      <td>12426</td>\n",
       "      <td>7</td>\n",
       "      <td>14</td>\n",
       "      <td>0.031898</td>\n",
       "      <td>266</td>\n",
       "      <td>0 min  5 sec</td>\n",
       "    </tr>\n",
       "    <tr>\n",
       "      <th>3rd</th>\n",
       "      <td>Past</td>\n",
       "      <td>24Jul2020</td>\n",
       "      <td>01Aug2020</td>\n",
       "      <td>126529100</td>\n",
       "      <td>SIR-F</td>\n",
       "      <td>1.84</td>\n",
       "      <td>0.000726</td>\n",
       "      <td>0.000120</td>\n",
       "      <td>0.134241</td>\n",
       "      <td>0.072807</td>\n",
       "      <td>1440</td>\n",
       "      <td>0.001</td>\n",
       "      <td>8341</td>\n",
       "      <td>7</td>\n",
       "      <td>13</td>\n",
       "      <td>0.019265</td>\n",
       "      <td>1032</td>\n",
       "      <td>0 min 25 sec</td>\n",
       "    </tr>\n",
       "    <tr>\n",
       "      <th>4th</th>\n",
       "      <td>Past</td>\n",
       "      <td>02Aug2020</td>\n",
       "      <td>14Aug2020</td>\n",
       "      <td>126529100</td>\n",
       "      <td>SIR-F</td>\n",
       "      <td>1.58</td>\n",
       "      <td>0.000627</td>\n",
       "      <td>0.000316</td>\n",
       "      <td>0.103524</td>\n",
       "      <td>0.064959</td>\n",
       "      <td>1440</td>\n",
       "      <td>0.001</td>\n",
       "      <td>3163</td>\n",
       "      <td>9</td>\n",
       "      <td>15</td>\n",
       "      <td>0.061572</td>\n",
       "      <td>2028</td>\n",
       "      <td>1 min  0 sec</td>\n",
       "    </tr>\n",
       "    <tr>\n",
       "      <th>5th</th>\n",
       "      <td>Past</td>\n",
       "      <td>15Aug2020</td>\n",
       "      <td>28Aug2020</td>\n",
       "      <td>126529100</td>\n",
       "      <td>SIR-F</td>\n",
       "      <td>0.82</td>\n",
       "      <td>0.000562</td>\n",
       "      <td>0.000900</td>\n",
       "      <td>0.078347</td>\n",
       "      <td>0.094316</td>\n",
       "      <td>1440</td>\n",
       "      <td>0.001</td>\n",
       "      <td>1111</td>\n",
       "      <td>12</td>\n",
       "      <td>10</td>\n",
       "      <td>0.021244</td>\n",
       "      <td>685</td>\n",
       "      <td>0 min 15 sec</td>\n",
       "    </tr>\n",
       "    <tr>\n",
       "      <th>6th</th>\n",
       "      <td>Past</td>\n",
       "      <td>29Aug2020</td>\n",
       "      <td>08Sep2020</td>\n",
       "      <td>126529100</td>\n",
       "      <td>SIR-F</td>\n",
       "      <td>0.71</td>\n",
       "      <td>0.020188</td>\n",
       "      <td>0.000164</td>\n",
       "      <td>0.062044</td>\n",
       "      <td>0.085037</td>\n",
       "      <td>1440</td>\n",
       "      <td>0.020</td>\n",
       "      <td>6106</td>\n",
       "      <td>16</td>\n",
       "      <td>11</td>\n",
       "      <td>0.016830</td>\n",
       "      <td>258</td>\n",
       "      <td>0 min  5 sec</td>\n",
       "    </tr>\n",
       "    <tr>\n",
       "      <th>7th</th>\n",
       "      <td>Past</td>\n",
       "      <td>09Sep2020</td>\n",
       "      <td>19Sep2020</td>\n",
       "      <td>126529100</td>\n",
       "      <td>SIR-F</td>\n",
       "      <td>0.83</td>\n",
       "      <td>0.017219</td>\n",
       "      <td>0.000076</td>\n",
       "      <td>0.089347</td>\n",
       "      <td>0.105570</td>\n",
       "      <td>1440</td>\n",
       "      <td>0.017</td>\n",
       "      <td>13204</td>\n",
       "      <td>11</td>\n",
       "      <td>9</td>\n",
       "      <td>0.015724</td>\n",
       "      <td>742</td>\n",
       "      <td>0 min 20 sec</td>\n",
       "    </tr>\n",
       "  </tbody>\n",
       "</table>\n",
       "</div>"
      ],
      "text/plain": [
       "     Type      Start        End  Population    ODE    Rt     theta     kappa  \\\n",
       "0th  Past  06Feb2020  21Apr2020   126529100  SIR-F  4.66  0.018341  0.000174   \n",
       "1st  Past  22Apr2020  06Jul2020   126529100  SIR-F  0.41  0.094355  0.000373   \n",
       "2nd  Past  07Jul2020  23Jul2020   126529100  SIR-F  1.93  0.000466  0.000080   \n",
       "3rd  Past  24Jul2020  01Aug2020   126529100  SIR-F  1.84  0.000726  0.000120   \n",
       "4th  Past  02Aug2020  14Aug2020   126529100  SIR-F  1.58  0.000627  0.000316   \n",
       "5th  Past  15Aug2020  28Aug2020   126529100  SIR-F  0.82  0.000562  0.000900   \n",
       "6th  Past  29Aug2020  08Sep2020   126529100  SIR-F  0.71  0.020188  0.000164   \n",
       "7th  Past  09Sep2020  19Sep2020   126529100  SIR-F  0.83  0.017219  0.000076   \n",
       "\n",
       "          rho     sigma   tau  alpha1 [-]  1/alpha2 [day]  1/beta [day]  \\\n",
       "0th  0.104200  0.021769  1440       0.018            5760             9   \n",
       "1st  0.030364  0.067402  1440       0.094            2681            32   \n",
       "2nd  0.133382  0.068954  1440       0.000           12426             7   \n",
       "3rd  0.134241  0.072807  1440       0.001            8341             7   \n",
       "4th  0.103524  0.064959  1440       0.001            3163             9   \n",
       "5th  0.078347  0.094316  1440       0.001            1111            12   \n",
       "6th  0.062044  0.085037  1440       0.020            6106            16   \n",
       "7th  0.089347  0.105570  1440       0.017           13204            11   \n",
       "\n",
       "     1/gamma [day]     RMSLE  Trials       Runtime  \n",
       "0th             45  0.937856    1990  1 min  0 sec  \n",
       "1st             14  0.890362    1982  1 min  0 sec  \n",
       "2nd             14  0.031898     266  0 min  5 sec  \n",
       "3rd             13  0.019265    1032  0 min 25 sec  \n",
       "4th             15  0.061572    2028  1 min  0 sec  \n",
       "5th             10  0.021244     685  0 min 15 sec  \n",
       "6th             11  0.016830     258  0 min  5 sec  \n",
       "7th              9  0.015724     742  0 min 20 sec  "
      ]
     },
     "execution_count": 29,
     "metadata": {},
     "output_type": "execute_result"
    }
   ],
   "source": [
    "scenario.summary()"
   ]
  },
  {
   "cell_type": "markdown",
   "metadata": {},
   "source": [
    "### Accuracy of estimation"
   ]
  },
  {
   "cell_type": "code",
   "execution_count": 30,
   "metadata": {
    "collapsed": false
   },
   "outputs": [
    {
     "data": {
      "image/png": "[encoded data removed]",
      "text/plain": [
       "<Figure size 648x864 with 4 Axes>"
      ]
     },
     "metadata": {},
     "output_type": "display_data"
    }
   ],
   "source": [
    "scenario.estimate_accuracy(phase=\"1st\")"
   ]
  },
  {
   "cell_type": "markdown",
   "metadata": {},
   "source": [
    "### Get parameter value"
   ]
  },
  {
   "cell_type": "code",
   "execution_count": 31,
   "metadata": {
    "collapsed": false
   },
   "outputs": [
    {
     "data": {
      "text/plain": [
       "1.58"
      ]
     },
     "execution_count": 31,
     "metadata": {},
     "output_type": "execute_result"
    }
   ],
   "source": [
    "scenario.get(\"Rt\", phase=\"4th\")"
   ]
  },
  {
   "cell_type": "markdown",
   "metadata": {},
   "source": [
    "### Show parameter history"
   ]
  },
  {
   "cell_type": "code",
   "execution_count": 32,
   "metadata": {
    "collapsed": false
   },
   "outputs": [
    {
     "data": {
      "image/png": "[encoded data removed]",
      "text/plain": [
       "<Figure size 648x432 with 1 Axes>"
      ]
     },
     "metadata": {},
     "output_type": "display_data"
    },
    {
     "data": {
      "text/html": [
       "<div>\n",
       "<style scoped>\n",
       "    .dataframe tbody tr th:only-of-type {\n",
       "        vertical-align: middle;\n",
       "    }\n",
       "\n",
       "    .dataframe tbody tr th {\n",
       "        vertical-align: top;\n",
       "    }\n",
       "\n",
       "    .dataframe thead th {\n",
       "        text-align: right;\n",
       "    }\n",
       "</style>\n",
       "<table border=\"1\" class=\"dataframe\">\n",
       "  <thead>\n",
       "    <tr style=\"text-align: right;\">\n",
       "      <th></th>\n",
       "      <th>0th</th>\n",
       "      <th>1st</th>\n",
       "      <th>2nd</th>\n",
       "      <th>3rd</th>\n",
       "      <th>4th</th>\n",
       "      <th>5th</th>\n",
       "      <th>6th</th>\n",
       "      <th>7th</th>\n",
       "    </tr>\n",
       "  </thead>\n",
       "  <tbody>\n",
       "    <tr>\n",
       "      <th>rho</th>\n",
       "      <td>1.0</td>\n",
       "      <td>0.291405</td>\n",
       "      <td>1.280058</td>\n",
       "      <td>1.288302</td>\n",
       "      <td>0.993514</td>\n",
       "      <td>0.751896</td>\n",
       "      <td>0.595434</td>\n",
       "      <td>0.857459</td>\n",
       "    </tr>\n",
       "    <tr>\n",
       "      <th>sigma</th>\n",
       "      <td>1.0</td>\n",
       "      <td>3.096271</td>\n",
       "      <td>3.167561</td>\n",
       "      <td>3.344587</td>\n",
       "      <td>2.984045</td>\n",
       "      <td>4.332645</td>\n",
       "      <td>3.906381</td>\n",
       "      <td>4.849628</td>\n",
       "    </tr>\n",
       "  </tbody>\n",
       "</table>\n",
       "</div>"
      ],
      "text/plain": [
       "       0th       1st       2nd       3rd       4th       5th       6th  \\\n",
       "rho    1.0  0.291405  1.280058  1.288302  0.993514  0.751896  0.595434   \n",
       "sigma  1.0  3.096271  3.167561  3.344587  2.984045  4.332645  3.906381   \n",
       "\n",
       "            7th  \n",
       "rho    0.857459  \n",
       "sigma  4.849628  "
      ]
     },
     "execution_count": 32,
     "metadata": {},
     "output_type": "execute_result"
    }
   ],
   "source": [
    "df = scenario.param_history(targets=[\"rho\", \"sigma\"])\n",
    "df.T"
   ]
  },
  {
   "cell_type": "code",
   "execution_count": 33,
   "metadata": {
    "collapsed": false
   },
   "outputs": [
    {
     "data": {
      "image/png": "[encoded data removed]",
      "text/plain": [
       "<Figure size 648x432 with 1 Axes>"
      ]
     },
     "metadata": {},
     "output_type": "display_data"
    }
   ],
   "source": [
    "# version >= 2.8.0\n",
    "_ = scenario.history(target=\"rho\")"
   ]
  },
  {
   "cell_type": "code",
   "execution_count": 34,
   "metadata": {
    "collapsed": false
   },
   "outputs": [
    {
     "data": {
      "image/png": "[encoded data removed]",
      "text/plain": [
       "<Figure size 648x432 with 1 Axes>"
      ]
     },
     "metadata": {},
     "output_type": "display_data"
    }
   ],
   "source": [
    "# version >= 2.8.0\n",
    "_ = scenario.history(target=\"sigma\")"
   ]
  },
  {
   "cell_type": "markdown",
   "metadata": {},
   "source": [
    "### Show the history of reproduction number"
   ]
  },
  {
   "cell_type": "code",
   "execution_count": 35,
   "metadata": {
    "collapsed": false
   },
   "outputs": [
    {
     "data": {
      "image/png": "[encoded data removed]",
      "text/plain": [
       "<Figure size 648x432 with 1 Axes>"
      ]
     },
     "metadata": {},
     "output_type": "display_data"
    },
    {
     "data": {
      "text/html": [
       "<div>\n",
       "<style scoped>\n",
       "    .dataframe tbody tr th:only-of-type {\n",
       "        vertical-align: middle;\n",
       "    }\n",
       "\n",
       "    .dataframe tbody tr th {\n",
       "        vertical-align: top;\n",
       "    }\n",
       "\n",
       "    .dataframe thead th {\n",
       "        text-align: right;\n",
       "    }\n",
       "</style>\n",
       "<table border=\"1\" class=\"dataframe\">\n",
       "  <thead>\n",
       "    <tr style=\"text-align: right;\">\n",
       "      <th></th>\n",
       "      <th>0th</th>\n",
       "      <th>1st</th>\n",
       "      <th>2nd</th>\n",
       "      <th>3rd</th>\n",
       "      <th>4th</th>\n",
       "      <th>5th</th>\n",
       "      <th>6th</th>\n",
       "      <th>7th</th>\n",
       "    </tr>\n",
       "  </thead>\n",
       "  <tbody>\n",
       "    <tr>\n",
       "      <th>Rt</th>\n",
       "      <td>4.66</td>\n",
       "      <td>0.41</td>\n",
       "      <td>1.93</td>\n",
       "      <td>1.84</td>\n",
       "      <td>1.58</td>\n",
       "      <td>0.82</td>\n",
       "      <td>0.71</td>\n",
       "      <td>0.83</td>\n",
       "    </tr>\n",
       "  </tbody>\n",
       "</table>\n",
       "</div>"
      ],
      "text/plain": [
       "     0th   1st   2nd   3rd   4th   5th   6th   7th\n",
       "Rt  4.66  0.41  1.93  1.84  1.58  0.82  0.71  0.83"
      ]
     },
     "execution_count": 35,
     "metadata": {},
     "output_type": "execute_result"
    }
   ],
   "source": [
    "df = scenario.param_history(targets=[\"Rt\"], divide_by_first=False, show_box_plot=True)\n",
    "df.T"
   ]
  },
  {
   "cell_type": "code",
   "execution_count": 36,
   "metadata": {
    "collapsed": false
   },
   "outputs": [
    {
     "data": {
      "image/png": "[encoded data removed]",
      "text/plain": [
       "<Figure size 648x432 with 1 Axes>"
      ]
     },
     "metadata": {},
     "output_type": "display_data"
    }
   ],
   "source": [
    "# version >= 2.8.0\n",
    "_ = scenario.history(target=\"Rt\")"
   ]
  },
  {
   "cell_type": "markdown",
   "metadata": {},
   "source": [
    "### Simulate the number of cases"
   ]
  },
  {
   "cell_type": "code",
   "execution_count": 37,
   "metadata": {
    "collapsed": false
   },
   "outputs": [
    {
     "data": {
      "image/png": "[encoded data removed]",
      "text/plain": [
       "<Figure size 648x432 with 1 Axes>"
      ]
     },
     "metadata": {},
     "output_type": "display_data"
    },
    {
     "data": {
      "text/html": [
       "<div>\n",
       "<style scoped>\n",
       "    .dataframe tbody tr th:only-of-type {\n",
       "        vertical-align: middle;\n",
       "    }\n",
       "\n",
       "    .dataframe tbody tr th {\n",
       "        vertical-align: top;\n",
       "    }\n",
       "\n",
       "    .dataframe thead th {\n",
       "        text-align: right;\n",
       "    }\n",
       "</style>\n",
       "<table border=\"1\" class=\"dataframe\">\n",
       "  <thead>\n",
       "    <tr style=\"text-align: right;\">\n",
       "      <th></th>\n",
       "      <th>Date</th>\n",
       "      <th>Confirmed</th>\n",
       "      <th>Fatal</th>\n",
       "      <th>Infected</th>\n",
       "      <th>Recovered</th>\n",
       "    </tr>\n",
       "  </thead>\n",
       "  <tbody>\n",
       "    <tr>\n",
       "      <th>327</th>\n",
       "      <td>2020-12-29</td>\n",
       "      <td>103855</td>\n",
       "      <td>1956</td>\n",
       "      <td>993</td>\n",
       "      <td>100906</td>\n",
       "    </tr>\n",
       "    <tr>\n",
       "      <th>328</th>\n",
       "      <td>2020-12-30</td>\n",
       "      <td>103942</td>\n",
       "      <td>1957</td>\n",
       "      <td>975</td>\n",
       "      <td>101010</td>\n",
       "    </tr>\n",
       "    <tr>\n",
       "      <th>329</th>\n",
       "      <td>2020-12-31</td>\n",
       "      <td>104029</td>\n",
       "      <td>1959</td>\n",
       "      <td>958</td>\n",
       "      <td>101112</td>\n",
       "    </tr>\n",
       "    <tr>\n",
       "      <th>330</th>\n",
       "      <td>2021-01-01</td>\n",
       "      <td>104114</td>\n",
       "      <td>1961</td>\n",
       "      <td>941</td>\n",
       "      <td>101212</td>\n",
       "    </tr>\n",
       "    <tr>\n",
       "      <th>331</th>\n",
       "      <td>2021-01-02</td>\n",
       "      <td>104196</td>\n",
       "      <td>1962</td>\n",
       "      <td>924</td>\n",
       "      <td>101310</td>\n",
       "    </tr>\n",
       "  </tbody>\n",
       "</table>\n",
       "</div>"
      ],
      "text/plain": [
       "          Date  Confirmed  Fatal  Infected  Recovered\n",
       "327 2020-12-29     103855   1956       993     100906\n",
       "328 2020-12-30     103942   1957       975     101010\n",
       "329 2020-12-31     104029   1959       958     101112\n",
       "330 2021-01-01     104114   1961       941     101212\n",
       "331 2021-01-02     104196   1962       924     101310"
      ]
     },
     "execution_count": 37,
     "metadata": {},
     "output_type": "execute_result"
    }
   ],
   "source": [
    "scenario.clear(name=\"Main\")\n",
    "scenario.add(end_date=\"01Jan2021\", name=\"Main\")\n",
    "main_sim_df = scenario.simulate(name=\"Main\")\n",
    "main_sim_df.tail()"
   ]
  },
  {
   "cell_type": "markdown",
   "metadata": {},
   "source": [
    "### Simulate another scenario\n",
    "If $\\sigma$ will be double in 30 days, how many cases will be?"
   ]
  },
  {
   "cell_type": "code",
   "execution_count": 38,
   "metadata": {
    "collapsed": false
   },
   "outputs": [
    {
     "data": {
      "text/plain": [
       "0.10557018881749733"
      ]
     },
     "execution_count": 38,
     "metadata": {},
     "output_type": "execute_result"
    }
   ],
   "source": [
    "sigma_current = scenario.get(\"sigma\", name=\"Main\", phase=\"last\")\n",
    "sigma_current"
   ]
  },
  {
   "cell_type": "code",
   "execution_count": 39,
   "metadata": {
    "collapsed": false
   },
   "outputs": [
    {
     "data": {
      "text/plain": [
       "0.21114037763499466"
      ]
     },
     "execution_count": 39,
     "metadata": {},
     "output_type": "execute_result"
    }
   ],
   "source": [
    "sigma_new = sigma_current * 2\n",
    "sigma_new"
   ]
  },
  {
   "cell_type": "code",
   "execution_count": 40,
   "metadata": {
    "collapsed": false
   },
   "outputs": [
    {
     "data": {
      "text/html": [
       "<div>\n",
       "<style scoped>\n",
       "    .dataframe tbody tr th:only-of-type {\n",
       "        vertical-align: middle;\n",
       "    }\n",
       "\n",
       "    .dataframe tbody tr th {\n",
       "        vertical-align: top;\n",
       "    }\n",
       "\n",
       "    .dataframe thead th {\n",
       "        text-align: right;\n",
       "    }\n",
       "</style>\n",
       "<table border=\"1\" class=\"dataframe\">\n",
       "  <thead>\n",
       "    <tr style=\"text-align: right;\">\n",
       "      <th></th>\n",
       "      <th></th>\n",
       "      <th>Type</th>\n",
       "      <th>Start</th>\n",
       "      <th>End</th>\n",
       "      <th>Population</th>\n",
       "      <th>ODE</th>\n",
       "      <th>Rt</th>\n",
       "      <th>theta</th>\n",
       "      <th>kappa</th>\n",
       "      <th>rho</th>\n",
       "      <th>sigma</th>\n",
       "      <th>tau</th>\n",
       "      <th>alpha1 [-]</th>\n",
       "      <th>1/alpha2 [day]</th>\n",
       "      <th>1/beta [day]</th>\n",
       "      <th>1/gamma [day]</th>\n",
       "      <th>RMSLE</th>\n",
       "      <th>Trials</th>\n",
       "      <th>Runtime</th>\n",
       "    </tr>\n",
       "    <tr>\n",
       "      <th>Scenario</th>\n",
       "      <th>Phase</th>\n",
       "      <th></th>\n",
       "      <th></th>\n",
       "      <th></th>\n",
       "      <th></th>\n",
       "      <th></th>\n",
       "      <th></th>\n",
       "      <th></th>\n",
       "      <th></th>\n",
       "      <th></th>\n",
       "      <th></th>\n",
       "      <th></th>\n",
       "      <th></th>\n",
       "      <th></th>\n",
       "      <th></th>\n",
       "      <th></th>\n",
       "      <th></th>\n",
       "      <th></th>\n",
       "      <th></th>\n",
       "    </tr>\n",
       "  </thead>\n",
       "  <tbody>\n",
       "    <tr>\n",
       "      <th rowspan=\"9\" valign=\"top\">Main</th>\n",
       "      <th>0th</th>\n",
       "      <td>Past</td>\n",
       "      <td>06Feb2020</td>\n",
       "      <td>21Apr2020</td>\n",
       "      <td>126529100</td>\n",
       "      <td>SIR-F</td>\n",
       "      <td>4.66</td>\n",
       "      <td>0.018341</td>\n",
       "      <td>0.000174</td>\n",
       "      <td>0.104200</td>\n",
       "      <td>0.021769</td>\n",
       "      <td>1440</td>\n",
       "      <td>0.018</td>\n",
       "      <td>5760</td>\n",
       "      <td>9</td>\n",
       "      <td>45</td>\n",
       "      <td>0.937856</td>\n",
       "      <td>1990</td>\n",
       "      <td>1 min  0 sec</td>\n",
       "    </tr>\n",
       "    <tr>\n",
       "      <th>1st</th>\n",
       "      <td>Past</td>\n",
       "      <td>22Apr2020</td>\n",
       "      <td>06Jul2020</td>\n",
       "      <td>126529100</td>\n",
       "      <td>SIR-F</td>\n",
       "      <td>0.41</td>\n",
       "      <td>0.094355</td>\n",
       "      <td>0.000373</td>\n",
       "      <td>0.030364</td>\n",
       "      <td>0.067402</td>\n",
       "      <td>1440</td>\n",
       "      <td>0.094</td>\n",
       "      <td>2681</td>\n",
       "      <td>32</td>\n",
       "      <td>14</td>\n",
       "      <td>0.890362</td>\n",
       "      <td>1982</td>\n",
       "      <td>1 min  0 sec</td>\n",
       "    </tr>\n",
       "    <tr>\n",
       "      <th>2nd</th>\n",
       "      <td>Past</td>\n",
       "      <td>07Jul2020</td>\n",
       "      <td>23Jul2020</td>\n",
       "      <td>126529100</td>\n",
       "      <td>SIR-F</td>\n",
       "      <td>1.93</td>\n",
       "      <td>0.000466</td>\n",
       "      <td>0.000080</td>\n",
       "      <td>0.133382</td>\n",
       "      <td>0.068954</td>\n",
       "      <td>1440</td>\n",
       "      <td>0.000</td>\n",
       "      <td>12426</td>\n",
       "      <td>7</td>\n",
       "      <td>14</td>\n",
       "      <td>0.0318977</td>\n",
       "      <td>266</td>\n",
       "      <td>0 min  5 sec</td>\n",
       "    </tr>\n",
       "    <tr>\n",
       "      <th>3rd</th>\n",
       "      <td>Past</td>\n",
       "      <td>24Jul2020</td>\n",
       "      <td>01Aug2020</td>\n",
       "      <td>126529100</td>\n",
       "      <td>SIR-F</td>\n",
       "      <td>1.84</td>\n",
       "      <td>0.000726</td>\n",
       "      <td>0.000120</td>\n",
       "      <td>0.134241</td>\n",
       "      <td>0.072807</td>\n",
       "      <td>1440</td>\n",
       "      <td>0.001</td>\n",
       "      <td>8341</td>\n",
       "      <td>7</td>\n",
       "      <td>13</td>\n",
       "      <td>0.0192649</td>\n",
       "      <td>1032</td>\n",
       "      <td>0 min 25 sec</td>\n",
       "    </tr>\n",
       "    <tr>\n",
       "      <th>4th</th>\n",
       "      <td>Past</td>\n",
       "      <td>02Aug2020</td>\n",
       "      <td>14Aug2020</td>\n",
       "      <td>126529100</td>\n",
       "      <td>SIR-F</td>\n",
       "      <td>1.58</td>\n",
       "      <td>0.000627</td>\n",
       "      <td>0.000316</td>\n",
       "      <td>0.103524</td>\n",
       "      <td>0.064959</td>\n",
       "      <td>1440</td>\n",
       "      <td>0.001</td>\n",
       "      <td>3163</td>\n",
       "      <td>9</td>\n",
       "      <td>15</td>\n",
       "      <td>0.0615721</td>\n",
       "      <td>2028</td>\n",
       "      <td>1 min  0 sec</td>\n",
       "    </tr>\n",
       "    <tr>\n",
       "      <th>5th</th>\n",
       "      <td>Past</td>\n",
       "      <td>15Aug2020</td>\n",
       "      <td>28Aug2020</td>\n",
       "      <td>126529100</td>\n",
       "      <td>SIR-F</td>\n",
       "      <td>0.82</td>\n",
       "      <td>0.000562</td>\n",
       "      <td>0.000900</td>\n",
       "      <td>0.078347</td>\n",
       "      <td>0.094316</td>\n",
       "      <td>1440</td>\n",
       "      <td>0.001</td>\n",
       "      <td>1111</td>\n",
       "      <td>12</td>\n",
       "      <td>10</td>\n",
       "      <td>0.021244</td>\n",
       "      <td>685</td>\n",
       "      <td>0 min 15 sec</td>\n",
       "    </tr>\n",
       "    <tr>\n",
       "      <th>6th</th>\n",
       "      <td>Past</td>\n",
       "      <td>29Aug2020</td>\n",
       "      <td>08Sep2020</td>\n",
       "      <td>126529100</td>\n",
       "      <td>SIR-F</td>\n",
       "      <td>0.71</td>\n",
       "      <td>0.020188</td>\n",
       "      <td>0.000164</td>\n",
       "      <td>0.062044</td>\n",
       "      <td>0.085037</td>\n",
       "      <td>1440</td>\n",
       "      <td>0.020</td>\n",
       "      <td>6106</td>\n",
       "      <td>16</td>\n",
       "      <td>11</td>\n",
       "      <td>0.0168298</td>\n",
       "      <td>258</td>\n",
       "      <td>0 min  5 sec</td>\n",
       "    </tr>\n",
       "    <tr>\n",
       "      <th>7th</th>\n",
       "      <td>Past</td>\n",
       "      <td>09Sep2020</td>\n",
       "      <td>19Sep2020</td>\n",
       "      <td>126529100</td>\n",
       "      <td>SIR-F</td>\n",
       "      <td>0.83</td>\n",
       "      <td>0.017219</td>\n",
       "      <td>0.000076</td>\n",
       "      <td>0.089347</td>\n",
       "      <td>0.105570</td>\n",
       "      <td>1440</td>\n",
       "      <td>0.017</td>\n",
       "      <td>13204</td>\n",
       "      <td>11</td>\n",
       "      <td>9</td>\n",
       "      <td>0.0157236</td>\n",
       "      <td>742</td>\n",
       "      <td>0 min 20 sec</td>\n",
       "    </tr>\n",
       "    <tr>\n",
       "      <th>8th</th>\n",
       "      <td>Future</td>\n",
       "      <td>20Sep2020</td>\n",
       "      <td>01Jan2021</td>\n",
       "      <td>126529100</td>\n",
       "      <td>SIR-F</td>\n",
       "      <td>0.83</td>\n",
       "      <td>0.017219</td>\n",
       "      <td>0.000076</td>\n",
       "      <td>0.089347</td>\n",
       "      <td>0.105570</td>\n",
       "      <td>1440</td>\n",
       "      <td>0.017</td>\n",
       "      <td>13204</td>\n",
       "      <td>11</td>\n",
       "      <td>9</td>\n",
       "      <td>-</td>\n",
       "      <td>-</td>\n",
       "      <td>-</td>\n",
       "    </tr>\n",
       "    <tr>\n",
       "      <th rowspan=\"10\" valign=\"top\">Medicine</th>\n",
       "      <th>0th</th>\n",
       "      <td>Past</td>\n",
       "      <td>06Feb2020</td>\n",
       "      <td>21Apr2020</td>\n",
       "      <td>126529100</td>\n",
       "      <td>SIR-F</td>\n",
       "      <td>4.66</td>\n",
       "      <td>0.018341</td>\n",
       "      <td>0.000174</td>\n",
       "      <td>0.104200</td>\n",
       "      <td>0.021769</td>\n",
       "      <td>1440</td>\n",
       "      <td>0.018</td>\n",
       "      <td>5760</td>\n",
       "      <td>9</td>\n",
       "      <td>45</td>\n",
       "      <td>0.937856</td>\n",
       "      <td>1990</td>\n",
       "      <td>1 min  0 sec</td>\n",
       "    </tr>\n",
       "    <tr>\n",
       "      <th>1st</th>\n",
       "      <td>Past</td>\n",
       "      <td>22Apr2020</td>\n",
       "      <td>06Jul2020</td>\n",
       "      <td>126529100</td>\n",
       "      <td>SIR-F</td>\n",
       "      <td>0.41</td>\n",
       "      <td>0.094355</td>\n",
       "      <td>0.000373</td>\n",
       "      <td>0.030364</td>\n",
       "      <td>0.067402</td>\n",
       "      <td>1440</td>\n",
       "      <td>0.094</td>\n",
       "      <td>2681</td>\n",
       "      <td>32</td>\n",
       "      <td>14</td>\n",
       "      <td>0.890362</td>\n",
       "      <td>1982</td>\n",
       "      <td>1 min  0 sec</td>\n",
       "    </tr>\n",
       "    <tr>\n",
       "      <th>2nd</th>\n",
       "      <td>Past</td>\n",
       "      <td>07Jul2020</td>\n",
       "      <td>23Jul2020</td>\n",
       "      <td>126529100</td>\n",
       "      <td>SIR-F</td>\n",
       "      <td>1.93</td>\n",
       "      <td>0.000466</td>\n",
       "      <td>0.000080</td>\n",
       "      <td>0.133382</td>\n",
       "      <td>0.068954</td>\n",
       "      <td>1440</td>\n",
       "      <td>0.000</td>\n",
       "      <td>12426</td>\n",
       "      <td>7</td>\n",
       "      <td>14</td>\n",
       "      <td>0.0318977</td>\n",
       "      <td>266</td>\n",
       "      <td>0 min  5 sec</td>\n",
       "    </tr>\n",
       "    <tr>\n",
       "      <th>3rd</th>\n",
       "      <td>Past</td>\n",
       "      <td>24Jul2020</td>\n",
       "      <td>01Aug2020</td>\n",
       "      <td>126529100</td>\n",
       "      <td>SIR-F</td>\n",
       "      <td>1.84</td>\n",
       "      <td>0.000726</td>\n",
       "      <td>0.000120</td>\n",
       "      <td>0.134241</td>\n",
       "      <td>0.072807</td>\n",
       "      <td>1440</td>\n",
       "      <td>0.001</td>\n",
       "      <td>8341</td>\n",
       "      <td>7</td>\n",
       "      <td>13</td>\n",
       "      <td>0.0192649</td>\n",
       "      <td>1032</td>\n",
       "      <td>0 min 25 sec</td>\n",
       "    </tr>\n",
       "    <tr>\n",
       "      <th>4th</th>\n",
       "      <td>Past</td>\n",
       "      <td>02Aug2020</td>\n",
       "      <td>14Aug2020</td>\n",
       "      <td>126529100</td>\n",
       "      <td>SIR-F</td>\n",
       "      <td>1.58</td>\n",
       "      <td>0.000627</td>\n",
       "      <td>0.000316</td>\n",
       "      <td>0.103524</td>\n",
       "      <td>0.064959</td>\n",
       "      <td>1440</td>\n",
       "      <td>0.001</td>\n",
       "      <td>3163</td>\n",
       "      <td>9</td>\n",
       "      <td>15</td>\n",
       "      <td>0.0615721</td>\n",
       "      <td>2028</td>\n",
       "      <td>1 min  0 sec</td>\n",
       "    </tr>\n",
       "    <tr>\n",
       "      <th>5th</th>\n",
       "      <td>Past</td>\n",
       "      <td>15Aug2020</td>\n",
       "      <td>28Aug2020</td>\n",
       "      <td>126529100</td>\n",
       "      <td>SIR-F</td>\n",
       "      <td>0.82</td>\n",
       "      <td>0.000562</td>\n",
       "      <td>0.000900</td>\n",
       "      <td>0.078347</td>\n",
       "      <td>0.094316</td>\n",
       "      <td>1440</td>\n",
       "      <td>0.001</td>\n",
       "      <td>1111</td>\n",
       "      <td>12</td>\n",
       "      <td>10</td>\n",
       "      <td>0.021244</td>\n",
       "      <td>685</td>\n",
       "      <td>0 min 15 sec</td>\n",
       "    </tr>\n",
       "    <tr>\n",
       "      <th>6th</th>\n",
       "      <td>Past</td>\n",
       "      <td>29Aug2020</td>\n",
       "      <td>08Sep2020</td>\n",
       "      <td>126529100</td>\n",
       "      <td>SIR-F</td>\n",
       "      <td>0.71</td>\n",
       "      <td>0.020188</td>\n",
       "      <td>0.000164</td>\n",
       "      <td>0.062044</td>\n",
       "      <td>0.085037</td>\n",
       "      <td>1440</td>\n",
       "      <td>0.020</td>\n",
       "      <td>6106</td>\n",
       "      <td>16</td>\n",
       "      <td>11</td>\n",
       "      <td>0.0168298</td>\n",
       "      <td>258</td>\n",
       "      <td>0 min  5 sec</td>\n",
       "    </tr>\n",
       "    <tr>\n",
       "      <th>7th</th>\n",
       "      <td>Past</td>\n",
       "      <td>09Sep2020</td>\n",
       "      <td>19Sep2020</td>\n",
       "      <td>126529100</td>\n",
       "      <td>SIR-F</td>\n",
       "      <td>0.83</td>\n",
       "      <td>0.017219</td>\n",
       "      <td>0.000076</td>\n",
       "      <td>0.089347</td>\n",
       "      <td>0.105570</td>\n",
       "      <td>1440</td>\n",
       "      <td>0.017</td>\n",
       "      <td>13204</td>\n",
       "      <td>11</td>\n",
       "      <td>9</td>\n",
       "      <td>0.0157236</td>\n",
       "      <td>742</td>\n",
       "      <td>0 min 20 sec</td>\n",
       "    </tr>\n",
       "    <tr>\n",
       "      <th>8th</th>\n",
       "      <td>Future</td>\n",
       "      <td>20Sep2020</td>\n",
       "      <td>19Oct2020</td>\n",
       "      <td>126529100</td>\n",
       "      <td>SIR-F</td>\n",
       "      <td>0.83</td>\n",
       "      <td>0.017219</td>\n",
       "      <td>0.000076</td>\n",
       "      <td>0.089347</td>\n",
       "      <td>0.105570</td>\n",
       "      <td>1440</td>\n",
       "      <td>0.017</td>\n",
       "      <td>13204</td>\n",
       "      <td>11</td>\n",
       "      <td>9</td>\n",
       "      <td>-</td>\n",
       "      <td>-</td>\n",
       "      <td>-</td>\n",
       "    </tr>\n",
       "    <tr>\n",
       "      <th>9th</th>\n",
       "      <td>Future</td>\n",
       "      <td>20Oct2020</td>\n",
       "      <td>01Jan2021</td>\n",
       "      <td>126529100</td>\n",
       "      <td>SIR-F</td>\n",
       "      <td>0.42</td>\n",
       "      <td>0.017219</td>\n",
       "      <td>0.000076</td>\n",
       "      <td>0.089347</td>\n",
       "      <td>0.211140</td>\n",
       "      <td>1440</td>\n",
       "      <td>0.017</td>\n",
       "      <td>13204</td>\n",
       "      <td>11</td>\n",
       "      <td>4</td>\n",
       "      <td>-</td>\n",
       "      <td>-</td>\n",
       "      <td>-</td>\n",
       "    </tr>\n",
       "  </tbody>\n",
       "</table>\n",
       "</div>"
      ],
      "text/plain": [
       "                  Type      Start        End  Population    ODE    Rt  \\\n",
       "Scenario Phase                                                          \n",
       "Main     0th      Past  06Feb2020  21Apr2020   126529100  SIR-F  4.66   \n",
       "         1st      Past  22Apr2020  06Jul2020   126529100  SIR-F  0.41   \n",
       "         2nd      Past  07Jul2020  23Jul2020   126529100  SIR-F  1.93   \n",
       "         3rd      Past  24Jul2020  01Aug2020   126529100  SIR-F  1.84   \n",
       "         4th      Past  02Aug2020  14Aug2020   126529100  SIR-F  1.58   \n",
       "         5th      Past  15Aug2020  28Aug2020   126529100  SIR-F  0.82   \n",
       "         6th      Past  29Aug2020  08Sep2020   126529100  SIR-F  0.71   \n",
       "         7th      Past  09Sep2020  19Sep2020   126529100  SIR-F  0.83   \n",
       "         8th    Future  20Sep2020  01Jan2021   126529100  SIR-F  0.83   \n",
       "Medicine 0th      Past  06Feb2020  21Apr2020   126529100  SIR-F  4.66   \n",
       "         1st      Past  22Apr2020  06Jul2020   126529100  SIR-F  0.41   \n",
       "         2nd      Past  07Jul2020  23Jul2020   126529100  SIR-F  1.93   \n",
       "         3rd      Past  24Jul2020  01Aug2020   126529100  SIR-F  1.84   \n",
       "         4th      Past  02Aug2020  14Aug2020   126529100  SIR-F  1.58   \n",
       "         5th      Past  15Aug2020  28Aug2020   126529100  SIR-F  0.82   \n",
       "         6th      Past  29Aug2020  08Sep2020   126529100  SIR-F  0.71   \n",
       "         7th      Past  09Sep2020  19Sep2020   126529100  SIR-F  0.83   \n",
       "         8th    Future  20Sep2020  19Oct2020   126529100  SIR-F  0.83   \n",
       "         9th    Future  20Oct2020  01Jan2021   126529100  SIR-F  0.42   \n",
       "\n",
       "                   theta     kappa       rho     sigma   tau  alpha1 [-]  \\\n",
       "Scenario Phase                                                             \n",
       "Main     0th    0.018341  0.000174  0.104200  0.021769  1440       0.018   \n",
       "         1st    0.094355  0.000373  0.030364  0.067402  1440       0.094   \n",
       "         2nd    0.000466  0.000080  0.133382  0.068954  1440       0.000   \n",
       "         3rd    0.000726  0.000120  0.134241  0.072807  1440       0.001   \n",
       "         4th    0.000627  0.000316  0.103524  0.064959  1440       0.001   \n",
       "         5th    0.000562  0.000900  0.078347  0.094316  1440       0.001   \n",
       "         6th    0.020188  0.000164  0.062044  0.085037  1440       0.020   \n",
       "         7th    0.017219  0.000076  0.089347  0.105570  1440       0.017   \n",
       "         8th    0.017219  0.000076  0.089347  0.105570  1440       0.017   \n",
       "Medicine 0th    0.018341  0.000174  0.104200  0.021769  1440       0.018   \n",
       "         1st    0.094355  0.000373  0.030364  0.067402  1440       0.094   \n",
       "         2nd    0.000466  0.000080  0.133382  0.068954  1440       0.000   \n",
       "         3rd    0.000726  0.000120  0.134241  0.072807  1440       0.001   \n",
       "         4th    0.000627  0.000316  0.103524  0.064959  1440       0.001   \n",
       "         5th    0.000562  0.000900  0.078347  0.094316  1440       0.001   \n",
       "         6th    0.020188  0.000164  0.062044  0.085037  1440       0.020   \n",
       "         7th    0.017219  0.000076  0.089347  0.105570  1440       0.017   \n",
       "         8th    0.017219  0.000076  0.089347  0.105570  1440       0.017   \n",
       "         9th    0.017219  0.000076  0.089347  0.211140  1440       0.017   \n",
       "\n",
       "                1/alpha2 [day]  1/beta [day]  1/gamma [day]      RMSLE Trials  \\\n",
       "Scenario Phase                                                                  \n",
       "Main     0th              5760             9             45   0.937856   1990   \n",
       "         1st              2681            32             14   0.890362   1982   \n",
       "         2nd             12426             7             14  0.0318977    266   \n",
       "         3rd              8341             7             13  0.0192649   1032   \n",
       "         4th              3163             9             15  0.0615721   2028   \n",
       "         5th              1111            12             10   0.021244    685   \n",
       "         6th              6106            16             11  0.0168298    258   \n",
       "         7th             13204            11              9  0.0157236    742   \n",
       "         8th             13204            11              9          -      -   \n",
       "Medicine 0th              5760             9             45   0.937856   1990   \n",
       "         1st              2681            32             14   0.890362   1982   \n",
       "         2nd             12426             7             14  0.0318977    266   \n",
       "         3rd              8341             7             13  0.0192649   1032   \n",
       "         4th              3163             9             15  0.0615721   2028   \n",
       "         5th              1111            12             10   0.021244    685   \n",
       "         6th              6106            16             11  0.0168298    258   \n",
       "         7th             13204            11              9  0.0157236    742   \n",
       "         8th             13204            11              9          -      -   \n",
       "         9th             13204            11              4          -      -   \n",
       "\n",
       "                     Runtime  \n",
       "Scenario Phase                \n",
       "Main     0th    1 min  0 sec  \n",
       "         1st    1 min  0 sec  \n",
       "         2nd    0 min  5 sec  \n",
       "         3rd    0 min 25 sec  \n",
       "         4th    1 min  0 sec  \n",
       "         5th    0 min 15 sec  \n",
       "         6th    0 min  5 sec  \n",
       "         7th    0 min 20 sec  \n",
       "         8th               -  \n",
       "Medicine 0th    1 min  0 sec  \n",
       "         1st    1 min  0 sec  \n",
       "         2nd    0 min  5 sec  \n",
       "         3rd    0 min 25 sec  \n",
       "         4th    1 min  0 sec  \n",
       "         5th    0 min 15 sec  \n",
       "         6th    0 min  5 sec  \n",
       "         7th    0 min 20 sec  \n",
       "         8th               -  \n",
       "         9th               -  "
      ]
     },
     "execution_count": 40,
     "metadata": {},
     "output_type": "execute_result"
    }
   ],
   "source": [
    "scenario.clear(name=\"Medicine\")\n",
    "scenario.add(name=\"Medicine\", days=30, sigma=sigma_current)\n",
    "scenario.add(name=\"Medicine\", end_date=\"01Jan2021\", sigma=sigma_new)\n",
    "scenario.summary()"
   ]
  },
  {
   "cell_type": "code",
   "execution_count": 41,
   "metadata": {
    "collapsed": false
   },
   "outputs": [
    {
     "data": {
      "image/png": "[encoded data removed]",
      "text/plain": [
       "<Figure size 648x432 with 1 Axes>"
      ]
     },
     "metadata": {},
     "output_type": "display_data"
    },
    {
     "data": {
      "text/html": [
       "<div>\n",
       "<style scoped>\n",
       "    .dataframe tbody tr th:only-of-type {\n",
       "        vertical-align: middle;\n",
       "    }\n",
       "\n",
       "    .dataframe tbody tr th {\n",
       "        vertical-align: top;\n",
       "    }\n",
       "\n",
       "    .dataframe thead th {\n",
       "        text-align: right;\n",
       "    }\n",
       "</style>\n",
       "<table border=\"1\" class=\"dataframe\">\n",
       "  <thead>\n",
       "    <tr style=\"text-align: right;\">\n",
       "      <th></th>\n",
       "      <th>Date</th>\n",
       "      <th>Confirmed</th>\n",
       "      <th>Fatal</th>\n",
       "      <th>Infected</th>\n",
       "      <th>Recovered</th>\n",
       "    </tr>\n",
       "  </thead>\n",
       "  <tbody>\n",
       "    <tr>\n",
       "      <th>327</th>\n",
       "      <td>2020-12-29</td>\n",
       "      <td>94000</td>\n",
       "      <td>1777</td>\n",
       "      <td>1</td>\n",
       "      <td>92222</td>\n",
       "    </tr>\n",
       "    <tr>\n",
       "      <th>328</th>\n",
       "      <td>2020-12-30</td>\n",
       "      <td>94000</td>\n",
       "      <td>1777</td>\n",
       "      <td>1</td>\n",
       "      <td>92222</td>\n",
       "    </tr>\n",
       "    <tr>\n",
       "      <th>329</th>\n",
       "      <td>2020-12-31</td>\n",
       "      <td>93999</td>\n",
       "      <td>1777</td>\n",
       "      <td>0</td>\n",
       "      <td>92222</td>\n",
       "    </tr>\n",
       "    <tr>\n",
       "      <th>330</th>\n",
       "      <td>2021-01-01</td>\n",
       "      <td>93999</td>\n",
       "      <td>1777</td>\n",
       "      <td>0</td>\n",
       "      <td>92222</td>\n",
       "    </tr>\n",
       "    <tr>\n",
       "      <th>331</th>\n",
       "      <td>2021-01-02</td>\n",
       "      <td>93999</td>\n",
       "      <td>1777</td>\n",
       "      <td>0</td>\n",
       "      <td>92222</td>\n",
       "    </tr>\n",
       "  </tbody>\n",
       "</table>\n",
       "</div>"
      ],
      "text/plain": [
       "          Date  Confirmed  Fatal  Infected  Recovered\n",
       "327 2020-12-29      94000   1777         1      92222\n",
       "328 2020-12-30      94000   1777         1      92222\n",
       "329 2020-12-31      93999   1777         0      92222\n",
       "330 2021-01-01      93999   1777         0      92222\n",
       "331 2021-01-02      93999   1777         0      92222"
      ]
     },
     "execution_count": 41,
     "metadata": {},
     "output_type": "execute_result"
    }
   ],
   "source": [
    "scenario.simulate(name=\"Medicine\").tail()"
   ]
  },
  {
   "cell_type": "markdown",
   "metadata": {},
   "source": [
    "### Compare the scenarios"
   ]
  },
  {
   "cell_type": "code",
   "execution_count": 42,
   "metadata": {
    "collapsed": false
   },
   "outputs": [
    {
     "data": {
      "text/html": [
       "<div>\n",
       "<style scoped>\n",
       "    .dataframe tbody tr th:only-of-type {\n",
       "        vertical-align: middle;\n",
       "    }\n",
       "\n",
       "    .dataframe tbody tr th {\n",
       "        vertical-align: top;\n",
       "    }\n",
       "\n",
       "    .dataframe thead th {\n",
       "        text-align: right;\n",
       "    }\n",
       "</style>\n",
       "<table border=\"1\" class=\"dataframe\">\n",
       "  <thead>\n",
       "    <tr style=\"text-align: right;\">\n",
       "      <th></th>\n",
       "      <th>max(Infected)</th>\n",
       "      <th>argmax(Infected)</th>\n",
       "      <th>Infected on 02Jan2021</th>\n",
       "      <th>Fatal on 02Jan2021</th>\n",
       "      <th>9th_Rt</th>\n",
       "    </tr>\n",
       "  </thead>\n",
       "  <tbody>\n",
       "    <tr>\n",
       "      <th>Main</th>\n",
       "      <td>15445</td>\n",
       "      <td>14Aug2020</td>\n",
       "      <td>924</td>\n",
       "      <td>1962</td>\n",
       "      <td>-</td>\n",
       "    </tr>\n",
       "    <tr>\n",
       "      <th>Medicine</th>\n",
       "      <td>15445</td>\n",
       "      <td>14Aug2020</td>\n",
       "      <td>0</td>\n",
       "      <td>1777</td>\n",
       "      <td>0.42</td>\n",
       "    </tr>\n",
       "  </tbody>\n",
       "</table>\n",
       "</div>"
      ],
      "text/plain": [
       "          max(Infected) argmax(Infected)  Infected on 02Jan2021  \\\n",
       "Main              15445        14Aug2020                    924   \n",
       "Medicine          15445        14Aug2020                      0   \n",
       "\n",
       "          Fatal on 02Jan2021 9th_Rt  \n",
       "Main                    1962      -  \n",
       "Medicine                1777   0.42  "
      ]
     },
     "execution_count": 42,
     "metadata": {},
     "output_type": "execute_result"
    }
   ],
   "source": [
    "scenario.describe()"
   ]
  },
  {
   "cell_type": "code",
   "execution_count": 43,
   "metadata": {
    "collapsed": false
   },
   "outputs": [
    {
     "data": {
      "image/png": "[encoded data removed]",
      "text/plain": [
       "<Figure size 648x432 with 1 Axes>"
      ]
     },
     "metadata": {},
     "output_type": "display_data"
    }
   ],
   "source": [
    "# version >= 2.8.0\n",
    "_ = scenario.history(target=\"Rt\")"
   ]
  },
  {
   "cell_type": "code",
   "execution_count": 44,
   "metadata": {
    "collapsed": false
   },
   "outputs": [
    {
     "data": {
      "image/png": "[encoded data removed]",
      "text/plain": [
       "<Figure size 648x432 with 1 Axes>"
      ]
     },
     "metadata": {},
     "output_type": "display_data"
    }
   ],
   "source": [
    "# version >= 2.8.0\n",
    "_ = scenario.history(target=\"rho\")"
   ]
  },
  {
   "cell_type": "code",
   "execution_count": 45,
   "metadata": {
    "collapsed": false
   },
   "outputs": [
    {
     "data": {
      "image/png": "[encoded data removed]",
      "text/plain": [
       "<Figure size 648x432 with 1 Axes>"
      ]
     },
     "metadata": {},
     "output_type": "display_data"
    }
   ],
   "source": [
    "# version >= 2.8.0\n",
    "_ = scenario.history(target=\"sigma\")"
   ]
  },
  {
   "cell_type": "code",
   "execution_count": 46,
   "metadata": {
    "collapsed": false
   },
   "outputs": [
    {
     "data": {
      "image/png": "[encoded data removed]",
      "text/plain": [
       "<Figure size 648x432 with 1 Axes>"
      ]
     },
     "metadata": {},
     "output_type": "display_data"
    }
   ],
   "source": [
    "# version >= 2.8.0\n",
    "_ = scenario.history(target=\"Infected\")"
   ]
  }
 ],
 "metadata": {
  "kernelspec": {
   "display_name": "Python 3.8.2 64-bit ('covid19-sir': pipenv)",
   "name": "python_defaultSpec_1597313350107"
  },
  "language_info": {
   "codemirror_mode": {
    "name": "ipython",
    "version": 3
   },
   "file_extension": ".py",
   "mimetype": "text/x-python",
   "name": "python",
   "nbconvert_exporter": "python",
   "pygments_lexer": "ipython3",
   "version": 3
  }
 },
 "nbformat": 4,
 "nbformat_minor": 4
}
