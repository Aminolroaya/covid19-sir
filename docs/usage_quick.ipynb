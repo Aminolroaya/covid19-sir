{
 "cells": [
  {
   "cell_type": "markdown",
   "metadata": {},
   "source": [
    "# Usage (quick version)"
   ]
  },
  {
   "cell_type": "markdown",
   "metadata": {},
   "source": [
    "## Preparation"
   ]
  },
  {
   "cell_type": "code",
   "execution_count": 1,
   "metadata": {
    "collapsed": false
   },
   "outputs": [],
   "source": [
    "# Standard users\n",
    "# !pip install covsirphy\n",
    "# Developers (Note: this notebook is in example directory)\n",
    "import os\n",
    "os.chdir(\"../\")"
   ]
  },
  {
   "cell_type": "code",
   "execution_count": 2,
   "metadata": {
    "collapsed": false
   },
   "outputs": [],
   "source": [
    "import warnings"
   ]
  },
  {
   "cell_type": "code",
   "execution_count": 3,
   "metadata": {
    "collapsed": false,
    "tags": []
   },
   "outputs": [
    {
     "data": {
      "text/plain": [
       "'2.7.3-alpha.new.202.203.206'"
      ]
     },
     "execution_count": 3,
     "metadata": {},
     "output_type": "execute_result"
    }
   ],
   "source": [
    "import covsirphy as cs\n",
    "cs.__version__"
   ]
  },
  {
   "cell_type": "markdown",
   "metadata": {},
   "source": [
    "## Dataset preparation\n",
    "Download the datasets to \"input\" direcotry and load them.\n",
    "\n",
    "If \"input\" directory has the datasets, `DataLoader` will load the local files. If the datasets were updated in remote servers, `DataLoader` will update the local files automatically.\n",
    "Download the datasets to \"input\" direcotry and load them.\n",
    "\n",
    "If \"input\" directory has the datasets, `DataLoader` will load the local files. If the datasets were updated in remote servers, `DataLoader` will update the local files automatically."
   ]
  },
  {
   "cell_type": "code",
   "execution_count": 4,
   "metadata": {
    "collapsed": false,
    "tags": []
   },
   "outputs": [
    {
     "name": "stdout",
     "output_type": "stream",
     "text": [
      "Retrieving datasets from COVID-19 Data Hub: https://covid19datahub.io/"
     ]
    },
    {
     "name": "stdout",
     "output_type": "stream",
     "text": [
      "\n"
     ]
    },
    {
     "name": "stdout",
     "output_type": "stream",
     "text": [
      "\n",
      "Detailed citaition list:"
     ]
    },
    {
     "name": "stdout",
     "output_type": "stream",
     "text": [
      "\n"
     ]
    },
    {
     "name": "stdout",
     "output_type": "stream",
     "text": [
      "Australian Bureau of Statistics (2019), https://www.abs.gov.au/\n",
      "CIA - Central Intelligence Agency (2018), https://www.cia.gov/\n",
      "CIA - Central Intelligence Agency (2019), https://www.cia.gov/\n",
      "CIA - Central Intelligence Agency (2020), https://www.cia.gov/\n",
      "COVID-19 Peru Data Repository (2019), https://github.com/\n",
      "COVID-19 Peru Data Repository (2020), https://github.com/\n",
      "COVID-19 Turkey API (2020), https://github.com/\n",
      "COVID-19_plus_Russia GitHub repository (2020), https://github.com/\n",
      "COVID19-India API (2020), https://www.covid19india.org/\n",
      "Canada's National Statistical Agency (2020), https://www150.statcan.gc.ca/\n",
      "Centre of Excellence in Economics and Data Science, University of Milano (2020), https://github.com/\n",
      "Covid19data.com.au (2020), https://github.com/\n",
      "Czech Statistical Office (2018), https://www.czso.cz/\n",
      "Data Science for Social Impact research group, University of Pretoria (2020), https://github.com/\n",
      "Epistat, Belgian Infectious Diseases (2020), https://epistat.sciensano.be/\n",
      "Eurostat (2019), https://ec.europa.eu/\n",
      "GADM (2019), https://public.opendatasoft.com/\n",
      "Geloky (2019), https://geloky.com/\n",
      "Istituto Nazionale di Statistica, Italia (2018), https://www.istat.it/\n",
      "Japan COVID-19 Bulletin Board (2020), https://github.com/\n",
      "Johns Hopkins Center for Systems Science and Engineering (2020), https://github.com/\n",
      "Ministerio de Salud y ProtecciÃ³n Social de Colombia (2020), https://www.datos.gov.co/\n",
      "Ministero della Salute, Italia (2020), https://github.com/\n",
      "Ministery of Health of Czech Republic (2020), https://onemocneni-aktualne.mzcr.cz/\n",
      "Ministery of Health, Slovenia (2020), https://www.gov.si/\n",
      "Ministry of Public Health and Population of Haiti (2020), https://proxy.hxlstandard.org/\n",
      "National Bureau of Statistics of China NBS (2018), http://data.stats.gov.cn/\n",
      "Open Government Data, Austria (2020), https://info.gesundheitsministerium.at/\n",
      "Open Government Data, Latvia (2020), https://data.gov.lv/\n",
      "Open Government Data, Liechtenstein (2020), https://github.com/\n",
      "Open Government Data, Switzerland (2020), https://github.com/\n",
      "Open Government Data, United Kingdom (2020), https://coronavirus.data.gov.uk/\n",
      "OpenCOVID19 France (2020), https://github.com/\n",
      "Our World in Data (2020), https://github.com/\n",
      "Hale Thomas, Sam Webster, Anna Petherick, Toby Phillips, and Beatriz Kira (2020). Oxford COVID-19 Government Response Tracker, Blavatnik School of Government.\n",
      "Public Health Agency, Sweden (2020), https://oppnadata.se/\n",
      "Public Health Infobase, Government of Canada (2020), https://health-infobase.canada.ca/\n",
      "Robert Koch-Institut (2020), https://npgeo-corona-npgeo-de.hub.arcgis.com/\n",
      "Statbel, Belgium in Figures (2019), https://statbel.fgov.be/\n",
      "Swiss Federal Statistical Office (2018), https://www.bfs.admin.ch/\n",
      "The COVID Tracking Project (2020), https://covidtracking.com/\n",
      "The New York Times (2020), https://github.com/\n",
      "Wikipedia (2006), https://it.wikipedia.org/\n",
      "Wikipedia (2010), https://en.wikipedia.org/\n",
      "Wikipedia (2010), https://it.wikipedia.org/\n",
      "Wikipedia (2013), https://en.wikipedia.org/\n",
      "Wikipedia (2015), https://en.wikipedia.org/\n",
      "Wikipedia (2016), https://en.wikipedia.org/\n",
      "Wikipedia (2016), https://it.wikipedia.org/\n",
      "Wikipedia (2017), https://www.wikipedia.org/\n",
      "Wikipedia (2018), https://en.wikipedia.org/\n",
      "Wikipedia (2018), https://www.wikipedia.org/\n",
      "Wikipedia (2019), https://en.wikipedia.org/\n",
      "Wikipedia (2019), https://www.wikipedia.org/\n",
      "Wikipedia (2020), https://en.wikipedia.org/\n",
      "Wikipedia (2020), https://it.wikipedia.org/\n",
      "Wikipedia (2020), https://www.wikipedia.org/\n",
      "World Bank Open Data (2018), https://data.worldbank.org/\n",
      "World Health Organization (2020), https://covid19.who.int/\n",
      "Worldometer (2018), https://www.worldometers.info/\n",
      "Guidotti, E., Ardia, D., (2020), \"COVID-19 Data Hub\", Working paper, doi: 10.13140/RG.2.2.11649.81763."
     ]
    },
    {
     "name": "stdout",
     "output_type": "stream",
     "text": [
      "\n"
     ]
    },
    {
     "name": "stdout",
     "output_type": "stream",
     "text": [
      "\n",
      "\n"
     ]
    },
    {
     "name": "stdout",
     "output_type": "stream",
     "text": [
      "\n"
     ]
    }
   ],
   "source": [
    "data_loader = cs.DataLoader(\"input\")\n",
    "# The number of cases (JHU style)\n",
    "jhu_data = data_loader.jhu(verbose=True)\n",
    "# Population in each country\n",
    "population_data = data_loader.population(verbose=True)\n",
    "# Government Response Tracker (OxCGRT)\n",
    "oxcgrt_data = data_loader.oxcgrt(verbose=True)"
   ]
  },
  {
   "cell_type": "markdown",
   "metadata": {},
   "source": [
    "### The number of cases (JHU style)"
   ]
  },
  {
   "cell_type": "code",
   "execution_count": 5,
   "metadata": {
    "collapsed": false,
    "tags": []
   },
   "outputs": [
    {
     "name": "stdout",
     "output_type": "stream",
     "text": [
      "(Secondary source) Guidotti, E., Ardia, D., (2020), \"COVID-19 Data Hub\", Working paper, doi: 10.13140/RG.2.2.11649.81763.\n",
      "We can get Citation list of primary sources with DataLoader(...).covid19dh_citation"
     ]
    },
    {
     "name": "stdout",
     "output_type": "stream",
     "text": [
      "\n"
     ]
    }
   ],
   "source": [
    "# Description/citation\n",
    "print(jhu_data.citation)"
   ]
  },
  {
   "cell_type": "code",
   "execution_count": 6,
   "metadata": {
    "collapsed": false,
    "tags": []
   },
   "outputs": [
    {
     "name": "stdout",
     "output_type": "stream",
     "text": [
      "Australian Bureau of Statistics (2019), https://www.abs.gov.au/\n",
      "CIA - Central Intelligence Agency (2018), https://www.cia.gov/\n",
      "CIA - Central Intelligence Agency (2019), https://www.cia.gov/\n",
      "CIA - Central Intelligence Agency (2020), https://www.cia.gov/\n",
      "COVID-19 Peru Data Repository (2019), https://github.com/\n",
      "COVID-19 Peru Data Repository (2020), https://github.com/\n",
      "COVID-19 Turkey API (2020), https://github.com/\n",
      "COVID-19_plus_Russia GitHub repository (2020), https://github.com/\n",
      "COVID19-India API (2020), https://www.covid19india.org/\n",
      "Canada's National Statistical Agency (2020), https://www150.statcan.gc.ca/\n",
      "Centre of Excellence in Economics and Data Science, University of Milano (2020), https://github.com/\n",
      "Covid19data.com.au (2020), https://github.com/\n",
      "Czech Statistical Office (2018), https://www.czso.cz/\n",
      "Data Science for Social Impact research group, University of Pretoria (2020), https://github.com/\n",
      "Epistat, Belgian Infectious Diseases (2020), https://epistat.sciensano.be/\n",
      "Eurostat (2019), https://ec.europa.eu/\n",
      "GADM (2019), https://public.opendatasoft.com/\n",
      "Geloky (2019), https://geloky.com/\n",
      "Istituto Nazionale di Statistica, Italia (2018), https://www.istat.it/\n",
      "Japan COVID-19 Bulletin Board (2020), https://github.com/\n",
      "Johns Hopkins Center for Systems Science and Engineering (2020), https://github.com/\n",
      "Ministerio de Salud y ProtecciÃ³n Social de Colombia (2020), https://www.datos.gov.co/\n",
      "Ministero della Salute, Italia (2020), https://github.com/\n",
      "Ministery of Health of Czech Republic (2020), https://onemocneni-aktualne.mzcr.cz/\n",
      "Ministery of Health, Slovenia (2020), https://www.gov.si/\n",
      "Ministry of Public Health and Population of Haiti (2020), https://proxy.hxlstandard.org/\n",
      "National Bureau of Statistics of China NBS (2018), http://data.stats.gov.cn/\n",
      "Open Government Data, Austria (2020), https://info.gesundheitsministerium.at/\n",
      "Open Government Data, Latvia (2020), https://data.gov.lv/\n",
      "Open Government Data, Liechtenstein (2020), https://github.com/\n",
      "Open Government Data, Switzerland (2020), https://github.com/\n",
      "Open Government Data, United Kingdom (2020), https://coronavirus.data.gov.uk/\n",
      "OpenCOVID19 France (2020), https://github.com/\n",
      "Our World in Data (2020), https://github.com/\n",
      "Hale Thomas, Sam Webster, Anna Petherick, Toby Phillips, and Beatriz Kira (2020). Oxford COVID-19 Government Response Tracker, Blavatnik School of Government.\n",
      "Public Health Agency, Sweden (2020), https://oppnadata.se/\n",
      "Public Health Infobase, Government of Canada (2020), https://health-infobase.canada.ca/\n",
      "Robert Koch-Institut (2020), https://npgeo-corona-npgeo-de.hub.arcgis.com/\n",
      "Statbel, Belgium in Figures (2019), https://statbel.fgov.be/\n",
      "Swiss Federal Statistical Office (2018), https://www.bfs.admin.ch/\n",
      "The COVID Tracking Project (2020), https://covidtracking.com/\n",
      "The New York Times (2020), https://github.com/\n",
      "Wikipedia (2006), https://it.wikipedia.org/\n",
      "Wikipedia (2010), https://en.wikipedia.org/\n",
      "Wikipedia (2010), https://it.wikipedia.org/\n",
      "Wikipedia (2013), https://en.wikipedia.org/\n",
      "Wikipedia (2015), https://en.wikipedia.org/\n",
      "Wikipedia (2016), https://en.wikipedia.org/\n",
      "Wikipedia (2016), https://it.wikipedia.org/\n",
      "Wikipedia (2017), https://www.wikipedia.org/\n",
      "Wikipedia (2018), https://en.wikipedia.org/\n",
      "Wikipedia (2018), https://www.wikipedia.org/\n",
      "Wikipedia (2019), https://en.wikipedia.org/\n",
      "Wikipedia (2019), https://www.wikipedia.org/\n",
      "Wikipedia (2020), https://en.wikipedia.org/\n",
      "Wikipedia (2020), https://it.wikipedia.org/\n",
      "Wikipedia (2020), https://www.wikipedia.org/\n",
      "World Bank Open Data (2018), https://data.worldbank.org/\n",
      "World Health Organization (2020), https://covid19.who.int/\n",
      "Worldometer (2018), https://www.worldometers.info/\n",
      "Guidotti, E., Ardia, D., (2020), \"COVID-19 Data Hub\", Working paper, doi: 10.13140/RG.2.2.11649.81763."
     ]
    },
    {
     "name": "stdout",
     "output_type": "stream",
     "text": [
      "\n"
     ]
    }
   ],
   "source": [
    "print(data_loader.covid19dh_citation)"
   ]
  },
  {
   "cell_type": "code",
   "execution_count": 7,
   "metadata": {
    "collapsed": false
   },
   "outputs": [
    {
     "data": {
      "text/html": [
       "<div>\n",
       "<style scoped>\n",
       "    .dataframe tbody tr th:only-of-type {\n",
       "        vertical-align: middle;\n",
       "    }\n",
       "\n",
       "    .dataframe tbody tr th {\n",
       "        vertical-align: top;\n",
       "    }\n",
       "\n",
       "    .dataframe thead th {\n",
       "        text-align: right;\n",
       "    }\n",
       "</style>\n",
       "<table border=\"1\" class=\"dataframe\">\n",
       "  <thead>\n",
       "    <tr style=\"text-align: right;\">\n",
       "      <th></th>\n",
       "      <th>ObservationDate</th>\n",
       "      <th>Confirmed</th>\n",
       "      <th>Recovered</th>\n",
       "      <th>Deaths</th>\n",
       "      <th>Population</th>\n",
       "      <th>ISO3</th>\n",
       "      <th>Province/State</th>\n",
       "      <th>Country/Region</th>\n",
       "      <th>school_closing</th>\n",
       "      <th>workplace_closing</th>\n",
       "      <th>cancel_events</th>\n",
       "      <th>gatherings_restrictions</th>\n",
       "      <th>transport_closing</th>\n",
       "      <th>stay_home_restrictions</th>\n",
       "      <th>internal_movement_restrictions</th>\n",
       "      <th>international_movement_restrictions</th>\n",
       "      <th>information_campaigns</th>\n",
       "      <th>testing_policy</th>\n",
       "      <th>contact_tracing</th>\n",
       "      <th>stringency_index</th>\n",
       "    </tr>\n",
       "  </thead>\n",
       "  <tbody>\n",
       "    <tr>\n",
       "      <th>187018</th>\n",
       "      <td>2020-08-20</td>\n",
       "      <td>14</td>\n",
       "      <td>5</td>\n",
       "      <td>0</td>\n",
       "      <td>107808.0</td>\n",
       "      <td>COL</td>\n",
       "      <td>Vichada</td>\n",
       "      <td>Colombia</td>\n",
       "      <td>3</td>\n",
       "      <td>3</td>\n",
       "      <td>2</td>\n",
       "      <td>4</td>\n",
       "      <td>1</td>\n",
       "      <td>2</td>\n",
       "      <td>2</td>\n",
       "      <td>4</td>\n",
       "      <td>2</td>\n",
       "      <td>2</td>\n",
       "      <td>2</td>\n",
       "      <td>87.04</td>\n",
       "    </tr>\n",
       "    <tr>\n",
       "      <th>187019</th>\n",
       "      <td>2020-08-21</td>\n",
       "      <td>14</td>\n",
       "      <td>5</td>\n",
       "      <td>0</td>\n",
       "      <td>107808.0</td>\n",
       "      <td>COL</td>\n",
       "      <td>Vichada</td>\n",
       "      <td>Colombia</td>\n",
       "      <td>3</td>\n",
       "      <td>3</td>\n",
       "      <td>2</td>\n",
       "      <td>4</td>\n",
       "      <td>1</td>\n",
       "      <td>2</td>\n",
       "      <td>2</td>\n",
       "      <td>4</td>\n",
       "      <td>2</td>\n",
       "      <td>2</td>\n",
       "      <td>2</td>\n",
       "      <td>87.04</td>\n",
       "    </tr>\n",
       "    <tr>\n",
       "      <th>187020</th>\n",
       "      <td>2020-08-22</td>\n",
       "      <td>14</td>\n",
       "      <td>5</td>\n",
       "      <td>0</td>\n",
       "      <td>107808.0</td>\n",
       "      <td>COL</td>\n",
       "      <td>Vichada</td>\n",
       "      <td>Colombia</td>\n",
       "      <td>3</td>\n",
       "      <td>3</td>\n",
       "      <td>2</td>\n",
       "      <td>4</td>\n",
       "      <td>1</td>\n",
       "      <td>2</td>\n",
       "      <td>2</td>\n",
       "      <td>4</td>\n",
       "      <td>2</td>\n",
       "      <td>2</td>\n",
       "      <td>2</td>\n",
       "      <td>87.04</td>\n",
       "    </tr>\n",
       "    <tr>\n",
       "      <th>187021</th>\n",
       "      <td>2020-08-23</td>\n",
       "      <td>14</td>\n",
       "      <td>11</td>\n",
       "      <td>0</td>\n",
       "      <td>107808.0</td>\n",
       "      <td>COL</td>\n",
       "      <td>Vichada</td>\n",
       "      <td>Colombia</td>\n",
       "      <td>3</td>\n",
       "      <td>3</td>\n",
       "      <td>2</td>\n",
       "      <td>4</td>\n",
       "      <td>1</td>\n",
       "      <td>2</td>\n",
       "      <td>2</td>\n",
       "      <td>4</td>\n",
       "      <td>2</td>\n",
       "      <td>2</td>\n",
       "      <td>2</td>\n",
       "      <td>87.04</td>\n",
       "    </tr>\n",
       "    <tr>\n",
       "      <th>187022</th>\n",
       "      <td>2020-08-24</td>\n",
       "      <td>14</td>\n",
       "      <td>11</td>\n",
       "      <td>0</td>\n",
       "      <td>107808.0</td>\n",
       "      <td>COL</td>\n",
       "      <td>Vichada</td>\n",
       "      <td>Colombia</td>\n",
       "      <td>3</td>\n",
       "      <td>3</td>\n",
       "      <td>2</td>\n",
       "      <td>4</td>\n",
       "      <td>1</td>\n",
       "      <td>2</td>\n",
       "      <td>2</td>\n",
       "      <td>4</td>\n",
       "      <td>2</td>\n",
       "      <td>2</td>\n",
       "      <td>2</td>\n",
       "      <td>87.04</td>\n",
       "    </tr>\n",
       "  </tbody>\n",
       "</table>\n",
       "</div>"
      ],
      "text/plain": [
       "       ObservationDate  Confirmed  Recovered  Deaths  Population ISO3  \\\n",
       "187018      2020-08-20         14          5       0    107808.0  COL   \n",
       "187019      2020-08-21         14          5       0    107808.0  COL   \n",
       "187020      2020-08-22         14          5       0    107808.0  COL   \n",
       "187021      2020-08-23         14         11       0    107808.0  COL   \n",
       "187022      2020-08-24         14         11       0    107808.0  COL   \n",
       "\n",
       "       Province/State Country/Region  school_closing  workplace_closing  \\\n",
       "187018        Vichada       Colombia               3                  3   \n",
       "187019        Vichada       Colombia               3                  3   \n",
       "187020        Vichada       Colombia               3                  3   \n",
       "187021        Vichada       Colombia               3                  3   \n",
       "187022        Vichada       Colombia               3                  3   \n",
       "\n",
       "        cancel_events  gatherings_restrictions  transport_closing  \\\n",
       "187018              2                        4                  1   \n",
       "187019              2                        4                  1   \n",
       "187020              2                        4                  1   \n",
       "187021              2                        4                  1   \n",
       "187022              2                        4                  1   \n",
       "\n",
       "        stay_home_restrictions  internal_movement_restrictions  \\\n",
       "187018                       2                               2   \n",
       "187019                       2                               2   \n",
       "187020                       2                               2   \n",
       "187021                       2                               2   \n",
       "187022                       2                               2   \n",
       "\n",
       "        international_movement_restrictions  information_campaigns  \\\n",
       "187018                                    4                      2   \n",
       "187019                                    4                      2   \n",
       "187020                                    4                      2   \n",
       "187021                                    4                      2   \n",
       "187022                                    4                      2   \n",
       "\n",
       "        testing_policy  contact_tracing  stringency_index  \n",
       "187018               2                2             87.04  \n",
       "187019               2                2             87.04  \n",
       "187020               2                2             87.04  \n",
       "187021               2                2             87.04  \n",
       "187022               2                2             87.04  "
      ]
     },
     "execution_count": 7,
     "metadata": {},
     "output_type": "execute_result"
    }
   ],
   "source": [
    "# Raw data\n",
    "jhu_data.raw.tail()"
   ]
  },
  {
   "cell_type": "code",
   "execution_count": 8,
   "metadata": {
    "collapsed": false
   },
   "outputs": [
    {
     "data": {
      "text/html": [
       "<div>\n",
       "<style scoped>\n",
       "    .dataframe tbody tr th:only-of-type {\n",
       "        vertical-align: middle;\n",
       "    }\n",
       "\n",
       "    .dataframe tbody tr th {\n",
       "        vertical-align: top;\n",
       "    }\n",
       "\n",
       "    .dataframe thead th {\n",
       "        text-align: right;\n",
       "    }\n",
       "</style>\n",
       "<table border=\"1\" class=\"dataframe\">\n",
       "  <thead>\n",
       "    <tr style=\"text-align: right;\">\n",
       "      <th></th>\n",
       "      <th>Date</th>\n",
       "      <th>Country</th>\n",
       "      <th>Province</th>\n",
       "      <th>Confirmed</th>\n",
       "      <th>Infected</th>\n",
       "      <th>Fatal</th>\n",
       "      <th>Recovered</th>\n",
       "    </tr>\n",
       "  </thead>\n",
       "  <tbody>\n",
       "    <tr>\n",
       "      <th>187018</th>\n",
       "      <td>2020-08-20</td>\n",
       "      <td>Colombia</td>\n",
       "      <td>Vichada</td>\n",
       "      <td>14</td>\n",
       "      <td>9</td>\n",
       "      <td>0</td>\n",
       "      <td>5</td>\n",
       "    </tr>\n",
       "    <tr>\n",
       "      <th>187019</th>\n",
       "      <td>2020-08-21</td>\n",
       "      <td>Colombia</td>\n",
       "      <td>Vichada</td>\n",
       "      <td>14</td>\n",
       "      <td>9</td>\n",
       "      <td>0</td>\n",
       "      <td>5</td>\n",
       "    </tr>\n",
       "    <tr>\n",
       "      <th>187020</th>\n",
       "      <td>2020-08-22</td>\n",
       "      <td>Colombia</td>\n",
       "      <td>Vichada</td>\n",
       "      <td>14</td>\n",
       "      <td>9</td>\n",
       "      <td>0</td>\n",
       "      <td>5</td>\n",
       "    </tr>\n",
       "    <tr>\n",
       "      <th>187021</th>\n",
       "      <td>2020-08-23</td>\n",
       "      <td>Colombia</td>\n",
       "      <td>Vichada</td>\n",
       "      <td>14</td>\n",
       "      <td>3</td>\n",
       "      <td>0</td>\n",
       "      <td>11</td>\n",
       "    </tr>\n",
       "    <tr>\n",
       "      <th>187022</th>\n",
       "      <td>2020-08-24</td>\n",
       "      <td>Colombia</td>\n",
       "      <td>Vichada</td>\n",
       "      <td>14</td>\n",
       "      <td>3</td>\n",
       "      <td>0</td>\n",
       "      <td>11</td>\n",
       "    </tr>\n",
       "  </tbody>\n",
       "</table>\n",
       "</div>"
      ],
      "text/plain": [
       "             Date   Country Province  Confirmed  Infected  Fatal  Recovered\n",
       "187018 2020-08-20  Colombia  Vichada         14         9      0          5\n",
       "187019 2020-08-21  Colombia  Vichada         14         9      0          5\n",
       "187020 2020-08-22  Colombia  Vichada         14         9      0          5\n",
       "187021 2020-08-23  Colombia  Vichada         14         3      0         11\n",
       "187022 2020-08-24  Colombia  Vichada         14         3      0         11"
      ]
     },
     "execution_count": 8,
     "metadata": {},
     "output_type": "execute_result"
    }
   ],
   "source": [
    "# Cleaned data\n",
    "jhu_data.cleaned().tail()"
   ]
  },
  {
   "cell_type": "code",
   "execution_count": 9,
   "metadata": {
    "collapsed": false
   },
   "outputs": [
    {
     "data": {
      "text/html": [
       "<div>\n",
       "<style scoped>\n",
       "    .dataframe tbody tr th:only-of-type {\n",
       "        vertical-align: middle;\n",
       "    }\n",
       "\n",
       "    .dataframe tbody tr th {\n",
       "        vertical-align: top;\n",
       "    }\n",
       "\n",
       "    .dataframe thead th {\n",
       "        text-align: right;\n",
       "    }\n",
       "</style>\n",
       "<table border=\"1\" class=\"dataframe\">\n",
       "  <thead>\n",
       "    <tr style=\"text-align: right;\">\n",
       "      <th></th>\n",
       "      <th>Date</th>\n",
       "      <th>Confirmed</th>\n",
       "      <th>Infected</th>\n",
       "      <th>Fatal</th>\n",
       "      <th>Recovered</th>\n",
       "    </tr>\n",
       "  </thead>\n",
       "  <tbody>\n",
       "    <tr>\n",
       "      <th>154</th>\n",
       "      <td>2020-08-20</td>\n",
       "      <td>18607</td>\n",
       "      <td>3447</td>\n",
       "      <td>348</td>\n",
       "      <td>14812</td>\n",
       "    </tr>\n",
       "    <tr>\n",
       "      <th>155</th>\n",
       "      <td>2020-08-21</td>\n",
       "      <td>18865</td>\n",
       "      <td>3406</td>\n",
       "      <td>350</td>\n",
       "      <td>15109</td>\n",
       "    </tr>\n",
       "    <tr>\n",
       "      <th>156</th>\n",
       "      <td>2020-08-22</td>\n",
       "      <td>19121</td>\n",
       "      <td>3362</td>\n",
       "      <td>350</td>\n",
       "      <td>15409</td>\n",
       "    </tr>\n",
       "    <tr>\n",
       "      <th>157</th>\n",
       "      <td>2020-08-23</td>\n",
       "      <td>19333</td>\n",
       "      <td>3421</td>\n",
       "      <td>350</td>\n",
       "      <td>15562</td>\n",
       "    </tr>\n",
       "    <tr>\n",
       "      <th>158</th>\n",
       "      <td>2020-08-24</td>\n",
       "      <td>19428</td>\n",
       "      <td>3350</td>\n",
       "      <td>352</td>\n",
       "      <td>15726</td>\n",
       "    </tr>\n",
       "  </tbody>\n",
       "</table>\n",
       "</div>"
      ],
      "text/plain": [
       "          Date  Confirmed  Infected  Fatal  Recovered\n",
       "154 2020-08-20      18607      3447    348      14812\n",
       "155 2020-08-21      18865      3406    350      15109\n",
       "156 2020-08-22      19121      3362    350      15409\n",
       "157 2020-08-23      19333      3421    350      15562\n",
       "158 2020-08-24      19428      3350    352      15726"
      ]
     },
     "execution_count": 9,
     "metadata": {},
     "output_type": "execute_result"
    }
   ],
   "source": [
    "# Subset for a country\n",
    "jhu_data.subset(\"Japan\", province=\"Tokyo\").tail()"
   ]
  },
  {
   "cell_type": "code",
   "execution_count": 10,
   "metadata": {
    "collapsed": false
   },
   "outputs": [
    {
     "data": {
      "text/html": [
       "<div>\n",
       "<style scoped>\n",
       "    .dataframe tbody tr th:only-of-type {\n",
       "        vertical-align: middle;\n",
       "    }\n",
       "\n",
       "    .dataframe tbody tr th {\n",
       "        vertical-align: top;\n",
       "    }\n",
       "\n",
       "    .dataframe thead th {\n",
       "        text-align: right;\n",
       "    }\n",
       "</style>\n",
       "<table border=\"1\" class=\"dataframe\">\n",
       "  <thead>\n",
       "    <tr style=\"text-align: right;\">\n",
       "      <th></th>\n",
       "      <th>Confirmed</th>\n",
       "      <th>Infected</th>\n",
       "      <th>Fatal</th>\n",
       "      <th>Recovered</th>\n",
       "      <th>Fatal per Confirmed</th>\n",
       "      <th>Recovered per Confirmed</th>\n",
       "      <th>Fatal per (Fatal or Recovered)</th>\n",
       "    </tr>\n",
       "    <tr>\n",
       "      <th>Date</th>\n",
       "      <th></th>\n",
       "      <th></th>\n",
       "      <th></th>\n",
       "      <th></th>\n",
       "      <th></th>\n",
       "      <th></th>\n",
       "      <th></th>\n",
       "    </tr>\n",
       "  </thead>\n",
       "  <tbody>\n",
       "    <tr>\n",
       "      <th>2020-08-20</th>\n",
       "      <td>22663814</td>\n",
       "      <td>7397644</td>\n",
       "      <td>795636</td>\n",
       "      <td>14470534</td>\n",
       "      <td>0.017553</td>\n",
       "      <td>0.319243</td>\n",
       "      <td>0.052118</td>\n",
       "    </tr>\n",
       "    <tr>\n",
       "      <th>2020-08-21</th>\n",
       "      <td>22914783</td>\n",
       "      <td>7471930</td>\n",
       "      <td>800921</td>\n",
       "      <td>14641932</td>\n",
       "      <td>0.017476</td>\n",
       "      <td>0.319487</td>\n",
       "      <td>0.051864</td>\n",
       "    </tr>\n",
       "    <tr>\n",
       "      <th>2020-08-22</th>\n",
       "      <td>23170096</td>\n",
       "      <td>7506490</td>\n",
       "      <td>806215</td>\n",
       "      <td>14857391</td>\n",
       "      <td>0.017398</td>\n",
       "      <td>0.320616</td>\n",
       "      <td>0.051471</td>\n",
       "    </tr>\n",
       "    <tr>\n",
       "      <th>2020-08-23</th>\n",
       "      <td>23367876</td>\n",
       "      <td>7501487</td>\n",
       "      <td>809690</td>\n",
       "      <td>15056699</td>\n",
       "      <td>0.017325</td>\n",
       "      <td>0.322167</td>\n",
       "      <td>0.051032</td>\n",
       "    </tr>\n",
       "    <tr>\n",
       "      <th>2020-08-24</th>\n",
       "      <td>23373718</td>\n",
       "      <td>7504852</td>\n",
       "      <td>809760</td>\n",
       "      <td>15059106</td>\n",
       "      <td>0.017322</td>\n",
       "      <td>0.322138</td>\n",
       "      <td>0.051028</td>\n",
       "    </tr>\n",
       "  </tbody>\n",
       "</table>\n",
       "</div>"
      ],
      "text/plain": [
       "            Confirmed  Infected   Fatal  Recovered  Fatal per Confirmed  \\\n",
       "Date                                                                      \n",
       "2020-08-20   22663814   7397644  795636   14470534             0.017553   \n",
       "2020-08-21   22914783   7471930  800921   14641932             0.017476   \n",
       "2020-08-22   23170096   7506490  806215   14857391             0.017398   \n",
       "2020-08-23   23367876   7501487  809690   15056699             0.017325   \n",
       "2020-08-24   23373718   7504852  809760   15059106             0.017322   \n",
       "\n",
       "            Recovered per Confirmed  Fatal per (Fatal or Recovered)  \n",
       "Date                                                                 \n",
       "2020-08-20                 0.319243                        0.052118  \n",
       "2020-08-21                 0.319487                        0.051864  \n",
       "2020-08-22                 0.320616                        0.051471  \n",
       "2020-08-23                 0.322167                        0.051032  \n",
       "2020-08-24                 0.322138                        0.051028  "
      ]
     },
     "execution_count": 10,
     "metadata": {},
     "output_type": "execute_result"
    }
   ],
   "source": [
    "# Total\n",
    "total_df = jhu_data.total()\n",
    "total_df.tail()"
   ]
  },
  {
   "cell_type": "code",
   "execution_count": 11,
   "metadata": {
    "collapsed": false
   },
   "outputs": [
    {
     "data": {
      "image/png": "[encoded data removed]",
      "text/plain": [
       "<Figure size 648x432 with 1 Axes>"
      ]
     },
     "metadata": {},
     "output_type": "display_data"
    }
   ],
   "source": [
    "# Plot the total values\n",
    "cs.line_plot(total_df[[\"Infected\", \"Fatal\", \"Recovered\"]], \"Total number of cases over time\")"
   ]
  },
  {
   "cell_type": "markdown",
   "metadata": {},
   "source": [
    "### (Optional) Replace the dataset in Japan\n"
   ]
  },
  {
   "cell_type": "code",
   "execution_count": 12,
   "metadata": {
    "collapsed": false
   },
   "outputs": [
    {
     "data": {
      "text/html": [
       "<div>\n",
       "<style scoped>\n",
       "    .dataframe tbody tr th:only-of-type {\n",
       "        vertical-align: middle;\n",
       "    }\n",
       "\n",
       "    .dataframe tbody tr th {\n",
       "        vertical-align: top;\n",
       "    }\n",
       "\n",
       "    .dataframe thead th {\n",
       "        text-align: right;\n",
       "    }\n",
       "</style>\n",
       "<table border=\"1\" class=\"dataframe\">\n",
       "  <thead>\n",
       "    <tr style=\"text-align: right;\">\n",
       "      <th></th>\n",
       "      <th>Date</th>\n",
       "      <th>Confirmed</th>\n",
       "      <th>Infected</th>\n",
       "      <th>Fatal</th>\n",
       "      <th>Recovered</th>\n",
       "    </tr>\n",
       "  </thead>\n",
       "  <tbody>\n",
       "    <tr>\n",
       "      <th>193</th>\n",
       "      <td>2020-08-20</td>\n",
       "      <td>59951</td>\n",
       "      <td>13541</td>\n",
       "      <td>1159</td>\n",
       "      <td>45251</td>\n",
       "    </tr>\n",
       "    <tr>\n",
       "      <th>194</th>\n",
       "      <td>2020-08-21</td>\n",
       "      <td>60984</td>\n",
       "      <td>13360</td>\n",
       "      <td>1174</td>\n",
       "      <td>46450</td>\n",
       "    </tr>\n",
       "    <tr>\n",
       "      <th>195</th>\n",
       "      <td>2020-08-22</td>\n",
       "      <td>61966</td>\n",
       "      <td>13177</td>\n",
       "      <td>1180</td>\n",
       "      <td>47609</td>\n",
       "    </tr>\n",
       "    <tr>\n",
       "      <th>196</th>\n",
       "      <td>2020-08-23</td>\n",
       "      <td>62710</td>\n",
       "      <td>12990</td>\n",
       "      <td>1189</td>\n",
       "      <td>48531</td>\n",
       "    </tr>\n",
       "    <tr>\n",
       "      <th>197</th>\n",
       "      <td>2020-08-24</td>\n",
       "      <td>63203</td>\n",
       "      <td>12693</td>\n",
       "      <td>1202</td>\n",
       "      <td>49308</td>\n",
       "    </tr>\n",
       "  </tbody>\n",
       "</table>\n",
       "</div>"
      ],
      "text/plain": [
       "          Date  Confirmed  Infected  Fatal  Recovered\n",
       "193 2020-08-20      59951     13541   1159      45251\n",
       "194 2020-08-21      60984     13360   1174      46450\n",
       "195 2020-08-22      61966     13177   1180      47609\n",
       "196 2020-08-23      62710     12990   1189      48531\n",
       "197 2020-08-24      63203     12693   1202      49308"
      ]
     },
     "execution_count": 12,
     "metadata": {},
     "output_type": "execute_result"
    }
   ],
   "source": [
    "jhu_data.subset(\"Japan\").tail()"
   ]
  },
  {
   "cell_type": "code",
   "execution_count": 13,
   "metadata": {
    "collapsed": false,
    "tags": []
   },
   "outputs": [
    {
     "name": "stdout",
     "output_type": "stream",
     "text": [
      "Lisphilar (2020), COVID-19 dataset in Japan, GitHub repository, https://github.com/lisphilar/covid19-sir/data/japan"
     ]
    },
    {
     "name": "stdout",
     "output_type": "stream",
     "text": [
      "\n"
     ]
    }
   ],
   "source": [
    "japan_data = data_loader.japan()\n",
    "print(japan_data.citation)"
   ]
  },
  {
   "cell_type": "code",
   "execution_count": 14,
   "metadata": {
    "collapsed": false
   },
   "outputs": [
    {
     "data": {
      "text/html": [
       "<div>\n",
       "<style scoped>\n",
       "    .dataframe tbody tr th:only-of-type {\n",
       "        vertical-align: middle;\n",
       "    }\n",
       "\n",
       "    .dataframe tbody tr th {\n",
       "        vertical-align: top;\n",
       "    }\n",
       "\n",
       "    .dataframe thead th {\n",
       "        text-align: right;\n",
       "    }\n",
       "</style>\n",
       "<table border=\"1\" class=\"dataframe\">\n",
       "  <thead>\n",
       "    <tr style=\"text-align: right;\">\n",
       "      <th></th>\n",
       "      <th>Date</th>\n",
       "      <th>Confirmed</th>\n",
       "      <th>Infected</th>\n",
       "      <th>Fatal</th>\n",
       "      <th>Recovered</th>\n",
       "    </tr>\n",
       "  </thead>\n",
       "  <tbody>\n",
       "    <tr>\n",
       "      <th>191</th>\n",
       "      <td>2020-08-20</td>\n",
       "      <td>58501</td>\n",
       "      <td>12091</td>\n",
       "      <td>1144</td>\n",
       "      <td>45266</td>\n",
       "    </tr>\n",
       "    <tr>\n",
       "      <th>192</th>\n",
       "      <td>2020-08-21</td>\n",
       "      <td>59721</td>\n",
       "      <td>12099</td>\n",
       "      <td>1155</td>\n",
       "      <td>46467</td>\n",
       "    </tr>\n",
       "    <tr>\n",
       "      <th>193</th>\n",
       "      <td>2020-08-22</td>\n",
       "      <td>60733</td>\n",
       "      <td>11942</td>\n",
       "      <td>1169</td>\n",
       "      <td>47622</td>\n",
       "    </tr>\n",
       "    <tr>\n",
       "      <th>194</th>\n",
       "      <td>2020-08-23</td>\n",
       "      <td>61747</td>\n",
       "      <td>12021</td>\n",
       "      <td>1176</td>\n",
       "      <td>48550</td>\n",
       "    </tr>\n",
       "    <tr>\n",
       "      <th>195</th>\n",
       "      <td>2020-08-24</td>\n",
       "      <td>62507</td>\n",
       "      <td>11986</td>\n",
       "      <td>1181</td>\n",
       "      <td>49340</td>\n",
       "    </tr>\n",
       "  </tbody>\n",
       "</table>\n",
       "</div>"
      ],
      "text/plain": [
       "          Date  Confirmed  Infected  Fatal  Recovered\n",
       "191 2020-08-20      58501     12091   1144      45266\n",
       "192 2020-08-21      59721     12099   1155      46467\n",
       "193 2020-08-22      60733     11942   1169      47622\n",
       "194 2020-08-23      61747     12021   1176      48550\n",
       "195 2020-08-24      62507     11986   1181      49340"
      ]
     },
     "execution_count": 14,
     "metadata": {},
     "output_type": "execute_result"
    }
   ],
   "source": [
    "jhu_data.replace(japan_data)\n",
    "jhu_data.subset(\"Japan\").tail()"
   ]
  },
  {
   "cell_type": "markdown",
   "metadata": {},
   "source": [
    "### Population in each country"
   ]
  },
  {
   "cell_type": "code",
   "execution_count": 15,
   "metadata": {
    "collapsed": false,
    "tags": []
   },
   "outputs": [
    {
     "name": "stdout",
     "output_type": "stream",
     "text": [
      "(Secondary source) Guidotti, E., Ardia, D., (2020), \"COVID-19 Data Hub\", Working paper, doi: 10.13140/RG.2.2.11649.81763.\n",
      "We can get Citation list of primary sources with DataLoader(...).covid19dh_citation"
     ]
    },
    {
     "name": "stdout",
     "output_type": "stream",
     "text": [
      "\n"
     ]
    }
   ],
   "source": [
    "# Description/citation\n",
    "print(population_data.citation)"
   ]
  },
  {
   "cell_type": "code",
   "execution_count": 16,
   "metadata": {
    "collapsed": false
   },
   "outputs": [
    {
     "data": {
      "text/html": [
       "<div>\n",
       "<style scoped>\n",
       "    .dataframe tbody tr th:only-of-type {\n",
       "        vertical-align: middle;\n",
       "    }\n",
       "\n",
       "    .dataframe tbody tr th {\n",
       "        vertical-align: top;\n",
       "    }\n",
       "\n",
       "    .dataframe thead th {\n",
       "        text-align: right;\n",
       "    }\n",
       "</style>\n",
       "<table border=\"1\" class=\"dataframe\">\n",
       "  <thead>\n",
       "    <tr style=\"text-align: right;\">\n",
       "      <th></th>\n",
       "      <th>ObservationDate</th>\n",
       "      <th>Confirmed</th>\n",
       "      <th>Recovered</th>\n",
       "      <th>Deaths</th>\n",
       "      <th>Population</th>\n",
       "      <th>ISO3</th>\n",
       "      <th>Province/State</th>\n",
       "      <th>Country/Region</th>\n",
       "      <th>school_closing</th>\n",
       "      <th>workplace_closing</th>\n",
       "      <th>cancel_events</th>\n",
       "      <th>gatherings_restrictions</th>\n",
       "      <th>transport_closing</th>\n",
       "      <th>stay_home_restrictions</th>\n",
       "      <th>internal_movement_restrictions</th>\n",
       "      <th>international_movement_restrictions</th>\n",
       "      <th>information_campaigns</th>\n",
       "      <th>testing_policy</th>\n",
       "      <th>contact_tracing</th>\n",
       "      <th>stringency_index</th>\n",
       "    </tr>\n",
       "  </thead>\n",
       "  <tbody>\n",
       "    <tr>\n",
       "      <th>187018</th>\n",
       "      <td>2020-08-20</td>\n",
       "      <td>14</td>\n",
       "      <td>5</td>\n",
       "      <td>0</td>\n",
       "      <td>107808.0</td>\n",
       "      <td>COL</td>\n",
       "      <td>Vichada</td>\n",
       "      <td>Colombia</td>\n",
       "      <td>3</td>\n",
       "      <td>3</td>\n",
       "      <td>2</td>\n",
       "      <td>4</td>\n",
       "      <td>1</td>\n",
       "      <td>2</td>\n",
       "      <td>2</td>\n",
       "      <td>4</td>\n",
       "      <td>2</td>\n",
       "      <td>2</td>\n",
       "      <td>2</td>\n",
       "      <td>87.04</td>\n",
       "    </tr>\n",
       "    <tr>\n",
       "      <th>187019</th>\n",
       "      <td>2020-08-21</td>\n",
       "      <td>14</td>\n",
       "      <td>5</td>\n",
       "      <td>0</td>\n",
       "      <td>107808.0</td>\n",
       "      <td>COL</td>\n",
       "      <td>Vichada</td>\n",
       "      <td>Colombia</td>\n",
       "      <td>3</td>\n",
       "      <td>3</td>\n",
       "      <td>2</td>\n",
       "      <td>4</td>\n",
       "      <td>1</td>\n",
       "      <td>2</td>\n",
       "      <td>2</td>\n",
       "      <td>4</td>\n",
       "      <td>2</td>\n",
       "      <td>2</td>\n",
       "      <td>2</td>\n",
       "      <td>87.04</td>\n",
       "    </tr>\n",
       "    <tr>\n",
       "      <th>187020</th>\n",
       "      <td>2020-08-22</td>\n",
       "      <td>14</td>\n",
       "      <td>5</td>\n",
       "      <td>0</td>\n",
       "      <td>107808.0</td>\n",
       "      <td>COL</td>\n",
       "      <td>Vichada</td>\n",
       "      <td>Colombia</td>\n",
       "      <td>3</td>\n",
       "      <td>3</td>\n",
       "      <td>2</td>\n",
       "      <td>4</td>\n",
       "      <td>1</td>\n",
       "      <td>2</td>\n",
       "      <td>2</td>\n",
       "      <td>4</td>\n",
       "      <td>2</td>\n",
       "      <td>2</td>\n",
       "      <td>2</td>\n",
       "      <td>87.04</td>\n",
       "    </tr>\n",
       "    <tr>\n",
       "      <th>187021</th>\n",
       "      <td>2020-08-23</td>\n",
       "      <td>14</td>\n",
       "      <td>11</td>\n",
       "      <td>0</td>\n",
       "      <td>107808.0</td>\n",
       "      <td>COL</td>\n",
       "      <td>Vichada</td>\n",
       "      <td>Colombia</td>\n",
       "      <td>3</td>\n",
       "      <td>3</td>\n",
       "      <td>2</td>\n",
       "      <td>4</td>\n",
       "      <td>1</td>\n",
       "      <td>2</td>\n",
       "      <td>2</td>\n",
       "      <td>4</td>\n",
       "      <td>2</td>\n",
       "      <td>2</td>\n",
       "      <td>2</td>\n",
       "      <td>87.04</td>\n",
       "    </tr>\n",
       "    <tr>\n",
       "      <th>187022</th>\n",
       "      <td>2020-08-24</td>\n",
       "      <td>14</td>\n",
       "      <td>11</td>\n",
       "      <td>0</td>\n",
       "      <td>107808.0</td>\n",
       "      <td>COL</td>\n",
       "      <td>Vichada</td>\n",
       "      <td>Colombia</td>\n",
       "      <td>3</td>\n",
       "      <td>3</td>\n",
       "      <td>2</td>\n",
       "      <td>4</td>\n",
       "      <td>1</td>\n",
       "      <td>2</td>\n",
       "      <td>2</td>\n",
       "      <td>4</td>\n",
       "      <td>2</td>\n",
       "      <td>2</td>\n",
       "      <td>2</td>\n",
       "      <td>87.04</td>\n",
       "    </tr>\n",
       "  </tbody>\n",
       "</table>\n",
       "</div>"
      ],
      "text/plain": [
       "       ObservationDate  Confirmed  Recovered  Deaths  Population ISO3  \\\n",
       "187018      2020-08-20         14          5       0    107808.0  COL   \n",
       "187019      2020-08-21         14          5       0    107808.0  COL   \n",
       "187020      2020-08-22         14          5       0    107808.0  COL   \n",
       "187021      2020-08-23         14         11       0    107808.0  COL   \n",
       "187022      2020-08-24         14         11       0    107808.0  COL   \n",
       "\n",
       "       Province/State Country/Region  school_closing  workplace_closing  \\\n",
       "187018        Vichada       Colombia               3                  3   \n",
       "187019        Vichada       Colombia               3                  3   \n",
       "187020        Vichada       Colombia               3                  3   \n",
       "187021        Vichada       Colombia               3                  3   \n",
       "187022        Vichada       Colombia               3                  3   \n",
       "\n",
       "        cancel_events  gatherings_restrictions  transport_closing  \\\n",
       "187018              2                        4                  1   \n",
       "187019              2                        4                  1   \n",
       "187020              2                        4                  1   \n",
       "187021              2                        4                  1   \n",
       "187022              2                        4                  1   \n",
       "\n",
       "        stay_home_restrictions  internal_movement_restrictions  \\\n",
       "187018                       2                               2   \n",
       "187019                       2                               2   \n",
       "187020                       2                               2   \n",
       "187021                       2                               2   \n",
       "187022                       2                               2   \n",
       "\n",
       "        international_movement_restrictions  information_campaigns  \\\n",
       "187018                                    4                      2   \n",
       "187019                                    4                      2   \n",
       "187020                                    4                      2   \n",
       "187021                                    4                      2   \n",
       "187022                                    4                      2   \n",
       "\n",
       "        testing_policy  contact_tracing  stringency_index  \n",
       "187018               2                2             87.04  \n",
       "187019               2                2             87.04  \n",
       "187020               2                2             87.04  \n",
       "187021               2                2             87.04  \n",
       "187022               2                2             87.04  "
      ]
     },
     "execution_count": 16,
     "metadata": {},
     "output_type": "execute_result"
    }
   ],
   "source": [
    "# Raw data (the same as jhu_data)\n",
    "population_data.raw.tail()"
   ]
  },
  {
   "cell_type": "code",
   "execution_count": 17,
   "metadata": {
    "collapsed": false
   },
   "outputs": [
    {
     "data": {
      "text/html": [
       "<div>\n",
       "<style scoped>\n",
       "    .dataframe tbody tr th:only-of-type {\n",
       "        vertical-align: middle;\n",
       "    }\n",
       "\n",
       "    .dataframe tbody tr th {\n",
       "        vertical-align: top;\n",
       "    }\n",
       "\n",
       "    .dataframe thead th {\n",
       "        text-align: right;\n",
       "    }\n",
       "</style>\n",
       "<table border=\"1\" class=\"dataframe\">\n",
       "  <thead>\n",
       "    <tr style=\"text-align: right;\">\n",
       "      <th></th>\n",
       "      <th>ISO3</th>\n",
       "      <th>Country</th>\n",
       "      <th>Province</th>\n",
       "      <th>Date</th>\n",
       "      <th>Population</th>\n",
       "    </tr>\n",
       "  </thead>\n",
       "  <tbody>\n",
       "    <tr>\n",
       "      <th>183450</th>\n",
       "      <td>COL</td>\n",
       "      <td>Colombia</td>\n",
       "      <td>Vichada</td>\n",
       "      <td>2020-08-20</td>\n",
       "      <td>107808</td>\n",
       "    </tr>\n",
       "    <tr>\n",
       "      <th>183451</th>\n",
       "      <td>COL</td>\n",
       "      <td>Colombia</td>\n",
       "      <td>Vichada</td>\n",
       "      <td>2020-08-21</td>\n",
       "      <td>107808</td>\n",
       "    </tr>\n",
       "    <tr>\n",
       "      <th>183452</th>\n",
       "      <td>COL</td>\n",
       "      <td>Colombia</td>\n",
       "      <td>Vichada</td>\n",
       "      <td>2020-08-22</td>\n",
       "      <td>107808</td>\n",
       "    </tr>\n",
       "    <tr>\n",
       "      <th>183453</th>\n",
       "      <td>COL</td>\n",
       "      <td>Colombia</td>\n",
       "      <td>Vichada</td>\n",
       "      <td>2020-08-23</td>\n",
       "      <td>107808</td>\n",
       "    </tr>\n",
       "    <tr>\n",
       "      <th>183454</th>\n",
       "      <td>COL</td>\n",
       "      <td>Colombia</td>\n",
       "      <td>Vichada</td>\n",
       "      <td>2020-08-24</td>\n",
       "      <td>107808</td>\n",
       "    </tr>\n",
       "  </tbody>\n",
       "</table>\n",
       "</div>"
      ],
      "text/plain": [
       "       ISO3   Country Province       Date  Population\n",
       "183450  COL  Colombia  Vichada 2020-08-20      107808\n",
       "183451  COL  Colombia  Vichada 2020-08-21      107808\n",
       "183452  COL  Colombia  Vichada 2020-08-22      107808\n",
       "183453  COL  Colombia  Vichada 2020-08-23      107808\n",
       "183454  COL  Colombia  Vichada 2020-08-24      107808"
      ]
     },
     "execution_count": 17,
     "metadata": {},
     "output_type": "execute_result"
    }
   ],
   "source": [
    "# Cleaned data\n",
    "population_data.cleaned().tail()"
   ]
  },
  {
   "cell_type": "code",
   "execution_count": 18,
   "metadata": {
    "collapsed": false
   },
   "outputs": [
    {
     "data": {
      "text/plain": [
       "126529100"
      ]
     },
     "execution_count": 18,
     "metadata": {},
     "output_type": "execute_result"
    }
   ],
   "source": [
    "population_data.value(\"Japan\", province=None)"
   ]
  },
  {
   "cell_type": "code",
   "execution_count": 19,
   "metadata": {
    "collapsed": false
   },
   "outputs": [
    {
     "data": {
      "text/plain": [
       "14002973"
      ]
     },
     "execution_count": 19,
     "metadata": {},
     "output_type": "execute_result"
    }
   ],
   "source": [
    "# Register population value of Tokyo in Japan\n",
    "# https://www.metro.tokyo.lg.jp/tosei/hodohappyo/press/2020/06/11/07.html\n",
    "population_data.update(14_002_973, \"Japan\", province=\"Tokyo\")\n",
    "population_data.value(\"Japan\", province=\"Tokyo\")"
   ]
  },
  {
   "cell_type": "markdown",
   "metadata": {},
   "source": [
    "### Government Response Tracker (OxCGRT)"
   ]
  },
  {
   "cell_type": "code",
   "execution_count": 20,
   "metadata": {
    "collapsed": false,
    "tags": []
   },
   "outputs": [
    {
     "name": "stdout",
     "output_type": "stream",
     "text": [
      "(Secondary source) Guidotti, E., Ardia, D., (2020), \"COVID-19 Data Hub\", Working paper, doi: 10.13140/RG.2.2.11649.81763.\n",
      "We can get Citation list of primary sources with DataLoader(...).covid19dh_citation"
     ]
    },
    {
     "name": "stdout",
     "output_type": "stream",
     "text": [
      "\n"
     ]
    }
   ],
   "source": [
    "# Description/citation\n",
    "print(oxcgrt_data.citation)"
   ]
  },
  {
   "cell_type": "code",
   "execution_count": 21,
   "metadata": {
    "collapsed": false
   },
   "outputs": [
    {
     "data": {
      "text/html": [
       "<div>\n",
       "<style scoped>\n",
       "    .dataframe tbody tr th:only-of-type {\n",
       "        vertical-align: middle;\n",
       "    }\n",
       "\n",
       "    .dataframe tbody tr th {\n",
       "        vertical-align: top;\n",
       "    }\n",
       "\n",
       "    .dataframe thead th {\n",
       "        text-align: right;\n",
       "    }\n",
       "</style>\n",
       "<table border=\"1\" class=\"dataframe\">\n",
       "  <thead>\n",
       "    <tr style=\"text-align: right;\">\n",
       "      <th></th>\n",
       "      <th>ObservationDate</th>\n",
       "      <th>Confirmed</th>\n",
       "      <th>Recovered</th>\n",
       "      <th>Deaths</th>\n",
       "      <th>Population</th>\n",
       "      <th>ISO3</th>\n",
       "      <th>Province/State</th>\n",
       "      <th>Country/Region</th>\n",
       "      <th>school_closing</th>\n",
       "      <th>workplace_closing</th>\n",
       "      <th>cancel_events</th>\n",
       "      <th>gatherings_restrictions</th>\n",
       "      <th>transport_closing</th>\n",
       "      <th>stay_home_restrictions</th>\n",
       "      <th>internal_movement_restrictions</th>\n",
       "      <th>international_movement_restrictions</th>\n",
       "      <th>information_campaigns</th>\n",
       "      <th>testing_policy</th>\n",
       "      <th>contact_tracing</th>\n",
       "      <th>stringency_index</th>\n",
       "    </tr>\n",
       "  </thead>\n",
       "  <tbody>\n",
       "    <tr>\n",
       "      <th>187018</th>\n",
       "      <td>2020-08-20</td>\n",
       "      <td>14</td>\n",
       "      <td>5</td>\n",
       "      <td>0</td>\n",
       "      <td>107808.0</td>\n",
       "      <td>COL</td>\n",
       "      <td>Vichada</td>\n",
       "      <td>Colombia</td>\n",
       "      <td>3</td>\n",
       "      <td>3</td>\n",
       "      <td>2</td>\n",
       "      <td>4</td>\n",
       "      <td>1</td>\n",
       "      <td>2</td>\n",
       "      <td>2</td>\n",
       "      <td>4</td>\n",
       "      <td>2</td>\n",
       "      <td>2</td>\n",
       "      <td>2</td>\n",
       "      <td>87.04</td>\n",
       "    </tr>\n",
       "    <tr>\n",
       "      <th>187019</th>\n",
       "      <td>2020-08-21</td>\n",
       "      <td>14</td>\n",
       "      <td>5</td>\n",
       "      <td>0</td>\n",
       "      <td>107808.0</td>\n",
       "      <td>COL</td>\n",
       "      <td>Vichada</td>\n",
       "      <td>Colombia</td>\n",
       "      <td>3</td>\n",
       "      <td>3</td>\n",
       "      <td>2</td>\n",
       "      <td>4</td>\n",
       "      <td>1</td>\n",
       "      <td>2</td>\n",
       "      <td>2</td>\n",
       "      <td>4</td>\n",
       "      <td>2</td>\n",
       "      <td>2</td>\n",
       "      <td>2</td>\n",
       "      <td>87.04</td>\n",
       "    </tr>\n",
       "    <tr>\n",
       "      <th>187020</th>\n",
       "      <td>2020-08-22</td>\n",
       "      <td>14</td>\n",
       "      <td>5</td>\n",
       "      <td>0</td>\n",
       "      <td>107808.0</td>\n",
       "      <td>COL</td>\n",
       "      <td>Vichada</td>\n",
       "      <td>Colombia</td>\n",
       "      <td>3</td>\n",
       "      <td>3</td>\n",
       "      <td>2</td>\n",
       "      <td>4</td>\n",
       "      <td>1</td>\n",
       "      <td>2</td>\n",
       "      <td>2</td>\n",
       "      <td>4</td>\n",
       "      <td>2</td>\n",
       "      <td>2</td>\n",
       "      <td>2</td>\n",
       "      <td>87.04</td>\n",
       "    </tr>\n",
       "    <tr>\n",
       "      <th>187021</th>\n",
       "      <td>2020-08-23</td>\n",
       "      <td>14</td>\n",
       "      <td>11</td>\n",
       "      <td>0</td>\n",
       "      <td>107808.0</td>\n",
       "      <td>COL</td>\n",
       "      <td>Vichada</td>\n",
       "      <td>Colombia</td>\n",
       "      <td>3</td>\n",
       "      <td>3</td>\n",
       "      <td>2</td>\n",
       "      <td>4</td>\n",
       "      <td>1</td>\n",
       "      <td>2</td>\n",
       "      <td>2</td>\n",
       "      <td>4</td>\n",
       "      <td>2</td>\n",
       "      <td>2</td>\n",
       "      <td>2</td>\n",
       "      <td>87.04</td>\n",
       "    </tr>\n",
       "    <tr>\n",
       "      <th>187022</th>\n",
       "      <td>2020-08-24</td>\n",
       "      <td>14</td>\n",
       "      <td>11</td>\n",
       "      <td>0</td>\n",
       "      <td>107808.0</td>\n",
       "      <td>COL</td>\n",
       "      <td>Vichada</td>\n",
       "      <td>Colombia</td>\n",
       "      <td>3</td>\n",
       "      <td>3</td>\n",
       "      <td>2</td>\n",
       "      <td>4</td>\n",
       "      <td>1</td>\n",
       "      <td>2</td>\n",
       "      <td>2</td>\n",
       "      <td>4</td>\n",
       "      <td>2</td>\n",
       "      <td>2</td>\n",
       "      <td>2</td>\n",
       "      <td>87.04</td>\n",
       "    </tr>\n",
       "  </tbody>\n",
       "</table>\n",
       "</div>"
      ],
      "text/plain": [
       "       ObservationDate  Confirmed  Recovered  Deaths  Population ISO3  \\\n",
       "187018      2020-08-20         14          5       0    107808.0  COL   \n",
       "187019      2020-08-21         14          5       0    107808.0  COL   \n",
       "187020      2020-08-22         14          5       0    107808.0  COL   \n",
       "187021      2020-08-23         14         11       0    107808.0  COL   \n",
       "187022      2020-08-24         14         11       0    107808.0  COL   \n",
       "\n",
       "       Province/State Country/Region  school_closing  workplace_closing  \\\n",
       "187018        Vichada       Colombia               3                  3   \n",
       "187019        Vichada       Colombia               3                  3   \n",
       "187020        Vichada       Colombia               3                  3   \n",
       "187021        Vichada       Colombia               3                  3   \n",
       "187022        Vichada       Colombia               3                  3   \n",
       "\n",
       "        cancel_events  gatherings_restrictions  transport_closing  \\\n",
       "187018              2                        4                  1   \n",
       "187019              2                        4                  1   \n",
       "187020              2                        4                  1   \n",
       "187021              2                        4                  1   \n",
       "187022              2                        4                  1   \n",
       "\n",
       "        stay_home_restrictions  internal_movement_restrictions  \\\n",
       "187018                       2                               2   \n",
       "187019                       2                               2   \n",
       "187020                       2                               2   \n",
       "187021                       2                               2   \n",
       "187022                       2                               2   \n",
       "\n",
       "        international_movement_restrictions  information_campaigns  \\\n",
       "187018                                    4                      2   \n",
       "187019                                    4                      2   \n",
       "187020                                    4                      2   \n",
       "187021                                    4                      2   \n",
       "187022                                    4                      2   \n",
       "\n",
       "        testing_policy  contact_tracing  stringency_index  \n",
       "187018               2                2             87.04  \n",
       "187019               2                2             87.04  \n",
       "187020               2                2             87.04  \n",
       "187021               2                2             87.04  \n",
       "187022               2                2             87.04  "
      ]
     },
     "execution_count": 21,
     "metadata": {},
     "output_type": "execute_result"
    }
   ],
   "source": [
    "# Raw data (the same as jhu_data)\n",
    "oxcgrt_data.raw.tail()"
   ]
  },
  {
   "cell_type": "code",
   "execution_count": 22,
   "metadata": {
    "collapsed": false
   },
   "outputs": [
    {
     "data": {
      "text/html": [
       "<div>\n",
       "<style scoped>\n",
       "    .dataframe tbody tr th:only-of-type {\n",
       "        vertical-align: middle;\n",
       "    }\n",
       "\n",
       "    .dataframe tbody tr th {\n",
       "        vertical-align: top;\n",
       "    }\n",
       "\n",
       "    .dataframe thead th {\n",
       "        text-align: right;\n",
       "    }\n",
       "</style>\n",
       "<table border=\"1\" class=\"dataframe\">\n",
       "  <thead>\n",
       "    <tr style=\"text-align: right;\">\n",
       "      <th></th>\n",
       "      <th>Date</th>\n",
       "      <th>Country</th>\n",
       "      <th>ISO3</th>\n",
       "      <th>School_closing</th>\n",
       "      <th>Workplace_closing</th>\n",
       "      <th>Cancel_events</th>\n",
       "      <th>Gatherings_restrictions</th>\n",
       "      <th>Transport_closing</th>\n",
       "      <th>Stay_home_restrictions</th>\n",
       "      <th>Internal_movement_restrictions</th>\n",
       "      <th>International_movement_restrictions</th>\n",
       "      <th>Information_campaigns</th>\n",
       "      <th>Testing_policy</th>\n",
       "      <th>Contact_tracing</th>\n",
       "      <th>Stringency_index</th>\n",
       "    </tr>\n",
       "  </thead>\n",
       "  <tbody>\n",
       "    <tr>\n",
       "      <th>187018</th>\n",
       "      <td>2020-08-20</td>\n",
       "      <td>Colombia</td>\n",
       "      <td>COL</td>\n",
       "      <td>3</td>\n",
       "      <td>3</td>\n",
       "      <td>2</td>\n",
       "      <td>4</td>\n",
       "      <td>1</td>\n",
       "      <td>2</td>\n",
       "      <td>2</td>\n",
       "      <td>4</td>\n",
       "      <td>2</td>\n",
       "      <td>2</td>\n",
       "      <td>2</td>\n",
       "      <td>87.04</td>\n",
       "    </tr>\n",
       "    <tr>\n",
       "      <th>187019</th>\n",
       "      <td>2020-08-21</td>\n",
       "      <td>Colombia</td>\n",
       "      <td>COL</td>\n",
       "      <td>3</td>\n",
       "      <td>3</td>\n",
       "      <td>2</td>\n",
       "      <td>4</td>\n",
       "      <td>1</td>\n",
       "      <td>2</td>\n",
       "      <td>2</td>\n",
       "      <td>4</td>\n",
       "      <td>2</td>\n",
       "      <td>2</td>\n",
       "      <td>2</td>\n",
       "      <td>87.04</td>\n",
       "    </tr>\n",
       "    <tr>\n",
       "      <th>187020</th>\n",
       "      <td>2020-08-22</td>\n",
       "      <td>Colombia</td>\n",
       "      <td>COL</td>\n",
       "      <td>3</td>\n",
       "      <td>3</td>\n",
       "      <td>2</td>\n",
       "      <td>4</td>\n",
       "      <td>1</td>\n",
       "      <td>2</td>\n",
       "      <td>2</td>\n",
       "      <td>4</td>\n",
       "      <td>2</td>\n",
       "      <td>2</td>\n",
       "      <td>2</td>\n",
       "      <td>87.04</td>\n",
       "    </tr>\n",
       "    <tr>\n",
       "      <th>187021</th>\n",
       "      <td>2020-08-23</td>\n",
       "      <td>Colombia</td>\n",
       "      <td>COL</td>\n",
       "      <td>3</td>\n",
       "      <td>3</td>\n",
       "      <td>2</td>\n",
       "      <td>4</td>\n",
       "      <td>1</td>\n",
       "      <td>2</td>\n",
       "      <td>2</td>\n",
       "      <td>4</td>\n",
       "      <td>2</td>\n",
       "      <td>2</td>\n",
       "      <td>2</td>\n",
       "      <td>87.04</td>\n",
       "    </tr>\n",
       "    <tr>\n",
       "      <th>187022</th>\n",
       "      <td>2020-08-24</td>\n",
       "      <td>Colombia</td>\n",
       "      <td>COL</td>\n",
       "      <td>3</td>\n",
       "      <td>3</td>\n",
       "      <td>2</td>\n",
       "      <td>4</td>\n",
       "      <td>1</td>\n",
       "      <td>2</td>\n",
       "      <td>2</td>\n",
       "      <td>4</td>\n",
       "      <td>2</td>\n",
       "      <td>2</td>\n",
       "      <td>2</td>\n",
       "      <td>87.04</td>\n",
       "    </tr>\n",
       "  </tbody>\n",
       "</table>\n",
       "</div>"
      ],
      "text/plain": [
       "             Date   Country ISO3  School_closing  Workplace_closing  \\\n",
       "187018 2020-08-20  Colombia  COL               3                  3   \n",
       "187019 2020-08-21  Colombia  COL               3                  3   \n",
       "187020 2020-08-22  Colombia  COL               3                  3   \n",
       "187021 2020-08-23  Colombia  COL               3                  3   \n",
       "187022 2020-08-24  Colombia  COL               3                  3   \n",
       "\n",
       "        Cancel_events  Gatherings_restrictions  Transport_closing  \\\n",
       "187018              2                        4                  1   \n",
       "187019              2                        4                  1   \n",
       "187020              2                        4                  1   \n",
       "187021              2                        4                  1   \n",
       "187022              2                        4                  1   \n",
       "\n",
       "        Stay_home_restrictions  Internal_movement_restrictions  \\\n",
       "187018                       2                               2   \n",
       "187019                       2                               2   \n",
       "187020                       2                               2   \n",
       "187021                       2                               2   \n",
       "187022                       2                               2   \n",
       "\n",
       "        International_movement_restrictions  Information_campaigns  \\\n",
       "187018                                    4                      2   \n",
       "187019                                    4                      2   \n",
       "187020                                    4                      2   \n",
       "187021                                    4                      2   \n",
       "187022                                    4                      2   \n",
       "\n",
       "        Testing_policy  Contact_tracing  Stringency_index  \n",
       "187018               2                2             87.04  \n",
       "187019               2                2             87.04  \n",
       "187020               2                2             87.04  \n",
       "187021               2                2             87.04  \n",
       "187022               2                2             87.04  "
      ]
     },
     "execution_count": 22,
     "metadata": {},
     "output_type": "execute_result"
    }
   ],
   "source": [
    "# Cleaned data\n",
    "oxcgrt_data.cleaned().tail()"
   ]
  },
  {
   "cell_type": "code",
   "execution_count": 23,
   "metadata": {
    "collapsed": false
   },
   "outputs": [
    {
     "data": {
      "text/html": [
       "<div>\n",
       "<style scoped>\n",
       "    .dataframe tbody tr th:only-of-type {\n",
       "        vertical-align: middle;\n",
       "    }\n",
       "\n",
       "    .dataframe tbody tr th {\n",
       "        vertical-align: top;\n",
       "    }\n",
       "\n",
       "    .dataframe thead th {\n",
       "        text-align: right;\n",
       "    }\n",
       "</style>\n",
       "<table border=\"1\" class=\"dataframe\">\n",
       "  <thead>\n",
       "    <tr style=\"text-align: right;\">\n",
       "      <th></th>\n",
       "      <th>Date</th>\n",
       "      <th>School_closing</th>\n",
       "      <th>Workplace_closing</th>\n",
       "      <th>Cancel_events</th>\n",
       "      <th>Gatherings_restrictions</th>\n",
       "      <th>Transport_closing</th>\n",
       "      <th>Stay_home_restrictions</th>\n",
       "      <th>Internal_movement_restrictions</th>\n",
       "      <th>International_movement_restrictions</th>\n",
       "      <th>Information_campaigns</th>\n",
       "      <th>Testing_policy</th>\n",
       "      <th>Contact_tracing</th>\n",
       "      <th>Stringency_index</th>\n",
       "    </tr>\n",
       "  </thead>\n",
       "  <tbody>\n",
       "    <tr>\n",
       "      <th>229</th>\n",
       "      <td>2020-08-20</td>\n",
       "      <td>1</td>\n",
       "      <td>1</td>\n",
       "      <td>1</td>\n",
       "      <td>0</td>\n",
       "      <td>0</td>\n",
       "      <td>1</td>\n",
       "      <td>1</td>\n",
       "      <td>3</td>\n",
       "      <td>2</td>\n",
       "      <td>2</td>\n",
       "      <td>1</td>\n",
       "      <td>30.56</td>\n",
       "    </tr>\n",
       "    <tr>\n",
       "      <th>230</th>\n",
       "      <td>2020-08-21</td>\n",
       "      <td>1</td>\n",
       "      <td>1</td>\n",
       "      <td>1</td>\n",
       "      <td>0</td>\n",
       "      <td>0</td>\n",
       "      <td>1</td>\n",
       "      <td>1</td>\n",
       "      <td>3</td>\n",
       "      <td>2</td>\n",
       "      <td>2</td>\n",
       "      <td>1</td>\n",
       "      <td>30.56</td>\n",
       "    </tr>\n",
       "    <tr>\n",
       "      <th>231</th>\n",
       "      <td>2020-08-22</td>\n",
       "      <td>1</td>\n",
       "      <td>1</td>\n",
       "      <td>1</td>\n",
       "      <td>0</td>\n",
       "      <td>0</td>\n",
       "      <td>1</td>\n",
       "      <td>1</td>\n",
       "      <td>3</td>\n",
       "      <td>2</td>\n",
       "      <td>2</td>\n",
       "      <td>1</td>\n",
       "      <td>30.56</td>\n",
       "    </tr>\n",
       "    <tr>\n",
       "      <th>232</th>\n",
       "      <td>2020-08-23</td>\n",
       "      <td>1</td>\n",
       "      <td>1</td>\n",
       "      <td>1</td>\n",
       "      <td>0</td>\n",
       "      <td>0</td>\n",
       "      <td>1</td>\n",
       "      <td>1</td>\n",
       "      <td>3</td>\n",
       "      <td>2</td>\n",
       "      <td>2</td>\n",
       "      <td>1</td>\n",
       "      <td>30.56</td>\n",
       "    </tr>\n",
       "    <tr>\n",
       "      <th>233</th>\n",
       "      <td>2020-08-24</td>\n",
       "      <td>1</td>\n",
       "      <td>1</td>\n",
       "      <td>1</td>\n",
       "      <td>0</td>\n",
       "      <td>0</td>\n",
       "      <td>1</td>\n",
       "      <td>1</td>\n",
       "      <td>3</td>\n",
       "      <td>2</td>\n",
       "      <td>2</td>\n",
       "      <td>1</td>\n",
       "      <td>30.56</td>\n",
       "    </tr>\n",
       "  </tbody>\n",
       "</table>\n",
       "</div>"
      ],
      "text/plain": [
       "          Date  School_closing  Workplace_closing  Cancel_events  \\\n",
       "229 2020-08-20               1                  1              1   \n",
       "230 2020-08-21               1                  1              1   \n",
       "231 2020-08-22               1                  1              1   \n",
       "232 2020-08-23               1                  1              1   \n",
       "233 2020-08-24               1                  1              1   \n",
       "\n",
       "     Gatherings_restrictions  Transport_closing  Stay_home_restrictions  \\\n",
       "229                        0                  0                       1   \n",
       "230                        0                  0                       1   \n",
       "231                        0                  0                       1   \n",
       "232                        0                  0                       1   \n",
       "233                        0                  0                       1   \n",
       "\n",
       "     Internal_movement_restrictions  International_movement_restrictions  \\\n",
       "229                               1                                    3   \n",
       "230                               1                                    3   \n",
       "231                               1                                    3   \n",
       "232                               1                                    3   \n",
       "233                               1                                    3   \n",
       "\n",
       "     Information_campaigns  Testing_policy  Contact_tracing  Stringency_index  \n",
       "229                      2               2                1             30.56  \n",
       "230                      2               2                1             30.56  \n",
       "231                      2               2                1             30.56  \n",
       "232                      2               2                1             30.56  \n",
       "233                      2               2                1             30.56  "
      ]
     },
     "execution_count": 23,
     "metadata": {},
     "output_type": "execute_result"
    }
   ],
   "source": [
    "# Subset for a country\n",
    "oxcgrt_data.subset(\"Japan\").tail()"
   ]
  },
  {
   "cell_type": "code",
   "execution_count": 24,
   "metadata": {
    "collapsed": false
   },
   "outputs": [
    {
     "data": {
      "text/html": [
       "<div>\n",
       "<style scoped>\n",
       "    .dataframe tbody tr th:only-of-type {\n",
       "        vertical-align: middle;\n",
       "    }\n",
       "\n",
       "    .dataframe tbody tr th {\n",
       "        vertical-align: top;\n",
       "    }\n",
       "\n",
       "    .dataframe thead th {\n",
       "        text-align: right;\n",
       "    }\n",
       "</style>\n",
       "<table border=\"1\" class=\"dataframe\">\n",
       "  <thead>\n",
       "    <tr style=\"text-align: right;\">\n",
       "      <th></th>\n",
       "      <th>Date</th>\n",
       "      <th>School_closing</th>\n",
       "      <th>Workplace_closing</th>\n",
       "      <th>Cancel_events</th>\n",
       "      <th>Gatherings_restrictions</th>\n",
       "      <th>Transport_closing</th>\n",
       "      <th>Stay_home_restrictions</th>\n",
       "      <th>Internal_movement_restrictions</th>\n",
       "      <th>International_movement_restrictions</th>\n",
       "      <th>Information_campaigns</th>\n",
       "      <th>Testing_policy</th>\n",
       "      <th>Contact_tracing</th>\n",
       "      <th>Stringency_index</th>\n",
       "    </tr>\n",
       "  </thead>\n",
       "  <tbody>\n",
       "    <tr>\n",
       "      <th>229</th>\n",
       "      <td>2020-08-20</td>\n",
       "      <td>1</td>\n",
       "      <td>1</td>\n",
       "      <td>1</td>\n",
       "      <td>0</td>\n",
       "      <td>0</td>\n",
       "      <td>1</td>\n",
       "      <td>1</td>\n",
       "      <td>3</td>\n",
       "      <td>2</td>\n",
       "      <td>2</td>\n",
       "      <td>1</td>\n",
       "      <td>30.56</td>\n",
       "    </tr>\n",
       "    <tr>\n",
       "      <th>230</th>\n",
       "      <td>2020-08-21</td>\n",
       "      <td>1</td>\n",
       "      <td>1</td>\n",
       "      <td>1</td>\n",
       "      <td>0</td>\n",
       "      <td>0</td>\n",
       "      <td>1</td>\n",
       "      <td>1</td>\n",
       "      <td>3</td>\n",
       "      <td>2</td>\n",
       "      <td>2</td>\n",
       "      <td>1</td>\n",
       "      <td>30.56</td>\n",
       "    </tr>\n",
       "    <tr>\n",
       "      <th>231</th>\n",
       "      <td>2020-08-22</td>\n",
       "      <td>1</td>\n",
       "      <td>1</td>\n",
       "      <td>1</td>\n",
       "      <td>0</td>\n",
       "      <td>0</td>\n",
       "      <td>1</td>\n",
       "      <td>1</td>\n",
       "      <td>3</td>\n",
       "      <td>2</td>\n",
       "      <td>2</td>\n",
       "      <td>1</td>\n",
       "      <td>30.56</td>\n",
       "    </tr>\n",
       "    <tr>\n",
       "      <th>232</th>\n",
       "      <td>2020-08-23</td>\n",
       "      <td>1</td>\n",
       "      <td>1</td>\n",
       "      <td>1</td>\n",
       "      <td>0</td>\n",
       "      <td>0</td>\n",
       "      <td>1</td>\n",
       "      <td>1</td>\n",
       "      <td>3</td>\n",
       "      <td>2</td>\n",
       "      <td>2</td>\n",
       "      <td>1</td>\n",
       "      <td>30.56</td>\n",
       "    </tr>\n",
       "    <tr>\n",
       "      <th>233</th>\n",
       "      <td>2020-08-24</td>\n",
       "      <td>1</td>\n",
       "      <td>1</td>\n",
       "      <td>1</td>\n",
       "      <td>0</td>\n",
       "      <td>0</td>\n",
       "      <td>1</td>\n",
       "      <td>1</td>\n",
       "      <td>3</td>\n",
       "      <td>2</td>\n",
       "      <td>2</td>\n",
       "      <td>1</td>\n",
       "      <td>30.56</td>\n",
       "    </tr>\n",
       "  </tbody>\n",
       "</table>\n",
       "</div>"
      ],
      "text/plain": [
       "          Date  School_closing  Workplace_closing  Cancel_events  \\\n",
       "229 2020-08-20               1                  1              1   \n",
       "230 2020-08-21               1                  1              1   \n",
       "231 2020-08-22               1                  1              1   \n",
       "232 2020-08-23               1                  1              1   \n",
       "233 2020-08-24               1                  1              1   \n",
       "\n",
       "     Gatherings_restrictions  Transport_closing  Stay_home_restrictions  \\\n",
       "229                        0                  0                       1   \n",
       "230                        0                  0                       1   \n",
       "231                        0                  0                       1   \n",
       "232                        0                  0                       1   \n",
       "233                        0                  0                       1   \n",
       "\n",
       "     Internal_movement_restrictions  International_movement_restrictions  \\\n",
       "229                               1                                    3   \n",
       "230                               1                                    3   \n",
       "231                               1                                    3   \n",
       "232                               1                                    3   \n",
       "233                               1                                    3   \n",
       "\n",
       "     Information_campaigns  Testing_policy  Contact_tracing  Stringency_index  \n",
       "229                      2               2                1             30.56  \n",
       "230                      2               2                1             30.56  \n",
       "231                      2               2                1             30.56  \n",
       "232                      2               2                1             30.56  \n",
       "233                      2               2                1             30.56  "
      ]
     },
     "execution_count": 24,
     "metadata": {},
     "output_type": "execute_result"
    }
   ],
   "source": [
    "# Subset for a country (using ISO3 code)\n",
    "oxcgrt_data.subset(\"JPN\").tail()"
   ]
  },
  {
   "cell_type": "markdown",
   "metadata": {},
   "source": [
    "## Scenario analysis\n",
    "As an example, we will analysis the number of cases in Japan."
   ]
  },
  {
   "cell_type": "code",
   "execution_count": 25,
   "metadata": {
    "collapsed": false
   },
   "outputs": [],
   "source": [
    "scenario = cs.Scenario(jhu_data, population_data, country=\"Japan\", province=None)"
   ]
  },
  {
   "cell_type": "markdown",
   "metadata": {},
   "source": [
    "### Check records"
   ]
  },
  {
   "cell_type": "code",
   "execution_count": 26,
   "metadata": {
    "collapsed": false
   },
   "outputs": [
    {
     "data": {
      "image/png": "[encoded data removed]",
      "text/plain": [
       "<Figure size 648x432 with 1 Axes>"
      ]
     },
     "metadata": {},
     "output_type": "display_data"
    },
    {
     "data": {
      "text/html": [
       "<div>\n",
       "<style scoped>\n",
       "    .dataframe tbody tr th:only-of-type {\n",
       "        vertical-align: middle;\n",
       "    }\n",
       "\n",
       "    .dataframe tbody tr th {\n",
       "        vertical-align: top;\n",
       "    }\n",
       "\n",
       "    .dataframe thead th {\n",
       "        text-align: right;\n",
       "    }\n",
       "</style>\n",
       "<table border=\"1\" class=\"dataframe\">\n",
       "  <thead>\n",
       "    <tr style=\"text-align: right;\">\n",
       "      <th></th>\n",
       "      <th>Date</th>\n",
       "      <th>Confirmed</th>\n",
       "      <th>Infected</th>\n",
       "      <th>Fatal</th>\n",
       "      <th>Recovered</th>\n",
       "    </tr>\n",
       "  </thead>\n",
       "  <tbody>\n",
       "    <tr>\n",
       "      <th>191</th>\n",
       "      <td>2020-08-20</td>\n",
       "      <td>58501</td>\n",
       "      <td>12091</td>\n",
       "      <td>1144</td>\n",
       "      <td>45266</td>\n",
       "    </tr>\n",
       "    <tr>\n",
       "      <th>192</th>\n",
       "      <td>2020-08-21</td>\n",
       "      <td>59721</td>\n",
       "      <td>12099</td>\n",
       "      <td>1155</td>\n",
       "      <td>46467</td>\n",
       "    </tr>\n",
       "    <tr>\n",
       "      <th>193</th>\n",
       "      <td>2020-08-22</td>\n",
       "      <td>60733</td>\n",
       "      <td>11942</td>\n",
       "      <td>1169</td>\n",
       "      <td>47622</td>\n",
       "    </tr>\n",
       "    <tr>\n",
       "      <th>194</th>\n",
       "      <td>2020-08-23</td>\n",
       "      <td>61747</td>\n",
       "      <td>12021</td>\n",
       "      <td>1176</td>\n",
       "      <td>48550</td>\n",
       "    </tr>\n",
       "    <tr>\n",
       "      <th>195</th>\n",
       "      <td>2020-08-24</td>\n",
       "      <td>62507</td>\n",
       "      <td>11986</td>\n",
       "      <td>1181</td>\n",
       "      <td>49340</td>\n",
       "    </tr>\n",
       "  </tbody>\n",
       "</table>\n",
       "</div>"
      ],
      "text/plain": [
       "          Date  Confirmed  Infected  Fatal  Recovered\n",
       "191 2020-08-20      58501     12091   1144      45266\n",
       "192 2020-08-21      59721     12099   1155      46467\n",
       "193 2020-08-22      60733     11942   1169      47622\n",
       "194 2020-08-23      61747     12021   1176      48550\n",
       "195 2020-08-24      62507     11986   1181      49340"
      ]
     },
     "execution_count": 26,
     "metadata": {},
     "output_type": "execute_result"
    }
   ],
   "source": [
    "import matplotlib\n",
    "warnings.simplefilter(\"ignore\", category=matplotlib.MatplotlibDeprecationWarning)\n",
    "record_df = scenario.records()\n",
    "record_df.tail()"
   ]
  },
  {
   "cell_type": "markdown",
   "metadata": {},
   "source": [
    "### S-R trend analysis"
   ]
  },
  {
   "cell_type": "code",
   "execution_count": 27,
   "metadata": {
    "collapsed": false
   },
   "outputs": [
    {
     "data": {
      "image/png": "[encoded data removed]",
      "text/plain": [
       "<Figure size 648x432 with 1 Axes>"
      ]
     },
     "metadata": {},
     "output_type": "display_data"
    },
    {
     "data": {
      "text/html": [
       "<div>\n",
       "<style scoped>\n",
       "    .dataframe tbody tr th:only-of-type {\n",
       "        vertical-align: middle;\n",
       "    }\n",
       "\n",
       "    .dataframe tbody tr th {\n",
       "        vertical-align: top;\n",
       "    }\n",
       "\n",
       "    .dataframe thead th {\n",
       "        text-align: right;\n",
       "    }\n",
       "</style>\n",
       "<table border=\"1\" class=\"dataframe\">\n",
       "  <thead>\n",
       "    <tr style=\"text-align: right;\">\n",
       "      <th></th>\n",
       "      <th>Type</th>\n",
       "      <th>Start</th>\n",
       "      <th>End</th>\n",
       "      <th>Population</th>\n",
       "    </tr>\n",
       "  </thead>\n",
       "  <tbody>\n",
       "    <tr>\n",
       "      <th>1st</th>\n",
       "      <td>Past</td>\n",
       "      <td>22Apr2020</td>\n",
       "      <td>03Jul2020</td>\n",
       "      <td>126529100</td>\n",
       "    </tr>\n",
       "    <tr>\n",
       "      <th>2nd</th>\n",
       "      <td>Past</td>\n",
       "      <td>04Jul2020</td>\n",
       "      <td>22Jul2020</td>\n",
       "      <td>126529100</td>\n",
       "    </tr>\n",
       "    <tr>\n",
       "      <th>3rd</th>\n",
       "      <td>Past</td>\n",
       "      <td>23Jul2020</td>\n",
       "      <td>30Jul2020</td>\n",
       "      <td>126529100</td>\n",
       "    </tr>\n",
       "    <tr>\n",
       "      <th>4th</th>\n",
       "      <td>Past</td>\n",
       "      <td>31Jul2020</td>\n",
       "      <td>08Aug2020</td>\n",
       "      <td>126529100</td>\n",
       "    </tr>\n",
       "    <tr>\n",
       "      <th>5th</th>\n",
       "      <td>Past</td>\n",
       "      <td>09Aug2020</td>\n",
       "      <td>24Aug2020</td>\n",
       "      <td>126529100</td>\n",
       "    </tr>\n",
       "  </tbody>\n",
       "</table>\n",
       "</div>"
      ],
      "text/plain": [
       "     Type      Start        End  Population\n",
       "1st  Past  22Apr2020  03Jul2020   126529100\n",
       "2nd  Past  04Jul2020  22Jul2020   126529100\n",
       "3rd  Past  23Jul2020  30Jul2020   126529100\n",
       "4th  Past  31Jul2020  08Aug2020   126529100\n",
       "5th  Past  09Aug2020  24Aug2020   126529100"
      ]
     },
     "execution_count": 27,
     "metadata": {},
     "output_type": "execute_result"
    }
   ],
   "source": [
    "scenario.trend(set_phases=True)\n",
    "scenario.summary()"
   ]
  },
  {
   "cell_type": "markdown",
   "metadata": {},
   "source": [
    "### Hyperparameter estimation of ODE models\n",
    "As an example, use SIR-F model.\n",
    "We can use SIR, SIRD, (SIRFV), (SEWIRF)."
   ]
  },
  {
   "cell_type": "code",
   "execution_count": 28,
   "metadata": {
    "collapsed": false,
    "tags": []
   },
   "outputs": [
    {
     "name": "stdout",
     "output_type": "stream",
     "text": [
      "\n",
      "<SIR-F model: parameter estimation>"
     ]
    },
    {
     "name": "stdout",
     "output_type": "stream",
     "text": [
      "\n"
     ]
    },
    {
     "name": "stdout",
     "output_type": "stream",
     "text": [
      "Running optimization with 4 CPUs..."
     ]
    },
    {
     "name": "stdout",
     "output_type": "stream",
     "text": [
      "\n"
     ]
    },
    {
     "name": "stdout",
     "output_type": "stream",
     "text": [
      "\t5th phase (09Aug2020 - 24Aug2020): finished 1291 trials in 1 min  0 sec"
     ]
    },
    {
     "name": "stdout",
     "output_type": "stream",
     "text": [
      "\n"
     ]
    },
    {
     "name": "stdout",
     "output_type": "stream",
     "text": [
      "\t3rd phase (23Jul2020 - 30Jul2020): finished  142 trials in 0 min  5 sec"
     ]
    },
    {
     "name": "stdout",
     "output_type": "stream",
     "text": [
      "\n"
     ]
    },
    {
     "name": "stdout",
     "output_type": "stream",
     "text": [
      "\t4th phase (31Jul2020 - 08Aug2020): finished 1356 trials in 1 min  0 sec"
     ]
    },
    {
     "name": "stdout",
     "output_type": "stream",
     "text": [
      "\n"
     ]
    },
    {
     "name": "stdout",
     "output_type": "stream",
     "text": [
      "\t1st phase (22Apr2020 - 03Jul2020): finished 1314 trials in 1 min  0 sec"
     ]
    },
    {
     "name": "stdout",
     "output_type": "stream",
     "text": [
      "\n"
     ]
    },
    {
     "name": "stdout",
     "output_type": "stream",
     "text": [
      "\t2nd phase (04Jul2020 - 22Jul2020): finished 1361 trials in 1 min  0 sec"
     ]
    },
    {
     "name": "stdout",
     "output_type": "stream",
     "text": [
      "\n"
     ]
    },
    {
     "name": "stdout",
     "output_type": "stream",
     "text": [
      "Completed optimization. Total: 2 min  1 sec"
     ]
    },
    {
     "name": "stdout",
     "output_type": "stream",
     "text": [
      "\n"
     ]
    }
   ],
   "source": [
    "scenario.estimate(cs.SIRF)"
   ]
  },
  {
   "cell_type": "code",
   "execution_count": 29,
   "metadata": {
    "collapsed": false
   },
   "outputs": [
    {
     "data": {
      "text/html": [
       "<div>\n",
       "<style scoped>\n",
       "    .dataframe tbody tr th:only-of-type {\n",
       "        vertical-align: middle;\n",
       "    }\n",
       "\n",
       "    .dataframe tbody tr th {\n",
       "        vertical-align: top;\n",
       "    }\n",
       "\n",
       "    .dataframe thead th {\n",
       "        text-align: right;\n",
       "    }\n",
       "</style>\n",
       "<table border=\"1\" class=\"dataframe\">\n",
       "  <thead>\n",
       "    <tr style=\"text-align: right;\">\n",
       "      <th></th>\n",
       "      <th>Type</th>\n",
       "      <th>Start</th>\n",
       "      <th>End</th>\n",
       "      <th>Population</th>\n",
       "      <th>ODE</th>\n",
       "      <th>Rt</th>\n",
       "      <th>theta</th>\n",
       "      <th>kappa</th>\n",
       "      <th>rho</th>\n",
       "      <th>sigma</th>\n",
       "      <th>tau</th>\n",
       "      <th>1/alpha2 [day]</th>\n",
       "      <th>1/beta [day]</th>\n",
       "      <th>alpha1 [-]</th>\n",
       "      <th>1/gamma [day]</th>\n",
       "      <th>RMSLE</th>\n",
       "      <th>Trials</th>\n",
       "      <th>Runtime</th>\n",
       "    </tr>\n",
       "  </thead>\n",
       "  <tbody>\n",
       "    <tr>\n",
       "      <th>1st</th>\n",
       "      <td>Past</td>\n",
       "      <td>22Apr2020</td>\n",
       "      <td>03Jul2020</td>\n",
       "      <td>126529100</td>\n",
       "      <td>SIR-F</td>\n",
       "      <td>0.36</td>\n",
       "      <td>0.089819</td>\n",
       "      <td>0.000318</td>\n",
       "      <td>0.008630</td>\n",
       "      <td>0.021460</td>\n",
       "      <td>480</td>\n",
       "      <td>1048</td>\n",
       "      <td>38</td>\n",
       "      <td>0.090</td>\n",
       "      <td>15</td>\n",
       "      <td>0.789734</td>\n",
       "      <td>1314</td>\n",
       "      <td>1 min  0 sec</td>\n",
       "    </tr>\n",
       "    <tr>\n",
       "      <th>2nd</th>\n",
       "      <td>Past</td>\n",
       "      <td>04Jul2020</td>\n",
       "      <td>22Jul2020</td>\n",
       "      <td>126529100</td>\n",
       "      <td>SIR-F</td>\n",
       "      <td>2.02</td>\n",
       "      <td>0.000938</td>\n",
       "      <td>0.000031</td>\n",
       "      <td>0.048202</td>\n",
       "      <td>0.023859</td>\n",
       "      <td>480</td>\n",
       "      <td>10652</td>\n",
       "      <td>6</td>\n",
       "      <td>0.001</td>\n",
       "      <td>13</td>\n",
       "      <td>0.038903</td>\n",
       "      <td>1361</td>\n",
       "      <td>1 min  0 sec</td>\n",
       "    </tr>\n",
       "    <tr>\n",
       "      <th>3rd</th>\n",
       "      <td>Past</td>\n",
       "      <td>23Jul2020</td>\n",
       "      <td>30Jul2020</td>\n",
       "      <td>126529100</td>\n",
       "      <td>SIR-F</td>\n",
       "      <td>2.00</td>\n",
       "      <td>0.001705</td>\n",
       "      <td>0.000093</td>\n",
       "      <td>0.043787</td>\n",
       "      <td>0.021754</td>\n",
       "      <td>480</td>\n",
       "      <td>3566</td>\n",
       "      <td>7</td>\n",
       "      <td>0.002</td>\n",
       "      <td>15</td>\n",
       "      <td>0.032375</td>\n",
       "      <td>142</td>\n",
       "      <td>0 min  5 sec</td>\n",
       "    </tr>\n",
       "    <tr>\n",
       "      <th>4th</th>\n",
       "      <td>Past</td>\n",
       "      <td>31Jul2020</td>\n",
       "      <td>08Aug2020</td>\n",
       "      <td>126529100</td>\n",
       "      <td>SIR-F</td>\n",
       "      <td>1.90</td>\n",
       "      <td>0.000771</td>\n",
       "      <td>0.000078</td>\n",
       "      <td>0.040979</td>\n",
       "      <td>0.021484</td>\n",
       "      <td>480</td>\n",
       "      <td>4298</td>\n",
       "      <td>8</td>\n",
       "      <td>0.001</td>\n",
       "      <td>15</td>\n",
       "      <td>0.037624</td>\n",
       "      <td>1356</td>\n",
       "      <td>1 min  0 sec</td>\n",
       "    </tr>\n",
       "    <tr>\n",
       "      <th>5th</th>\n",
       "      <td>Past</td>\n",
       "      <td>09Aug2020</td>\n",
       "      <td>24Aug2020</td>\n",
       "      <td>126529100</td>\n",
       "      <td>SIR-F</td>\n",
       "      <td>0.91</td>\n",
       "      <td>0.004517</td>\n",
       "      <td>0.000128</td>\n",
       "      <td>0.026449</td>\n",
       "      <td>0.028782</td>\n",
       "      <td>480</td>\n",
       "      <td>2611</td>\n",
       "      <td>12</td>\n",
       "      <td>0.005</td>\n",
       "      <td>11</td>\n",
       "      <td>0.042735</td>\n",
       "      <td>1291</td>\n",
       "      <td>1 min  0 sec</td>\n",
       "    </tr>\n",
       "  </tbody>\n",
       "</table>\n",
       "</div>"
      ],
      "text/plain": [
       "     Type      Start        End  Population    ODE    Rt     theta     kappa  \\\n",
       "1st  Past  22Apr2020  03Jul2020   126529100  SIR-F  0.36  0.089819  0.000318   \n",
       "2nd  Past  04Jul2020  22Jul2020   126529100  SIR-F  2.02  0.000938  0.000031   \n",
       "3rd  Past  23Jul2020  30Jul2020   126529100  SIR-F  2.00  0.001705  0.000093   \n",
       "4th  Past  31Jul2020  08Aug2020   126529100  SIR-F  1.90  0.000771  0.000078   \n",
       "5th  Past  09Aug2020  24Aug2020   126529100  SIR-F  0.91  0.004517  0.000128   \n",
       "\n",
       "          rho     sigma  tau  1/alpha2 [day]  1/beta [day]  alpha1 [-]  \\\n",
       "1st  0.008630  0.021460  480            1048            38       0.090   \n",
       "2nd  0.048202  0.023859  480           10652             6       0.001   \n",
       "3rd  0.043787  0.021754  480            3566             7       0.002   \n",
       "4th  0.040979  0.021484  480            4298             8       0.001   \n",
       "5th  0.026449  0.028782  480            2611            12       0.005   \n",
       "\n",
       "     1/gamma [day]     RMSLE  Trials       Runtime  \n",
       "1st             15  0.789734    1314  1 min  0 sec  \n",
       "2nd             13  0.038903    1361  1 min  0 sec  \n",
       "3rd             15  0.032375     142  0 min  5 sec  \n",
       "4th             15  0.037624    1356  1 min  0 sec  \n",
       "5th             11  0.042735    1291  1 min  0 sec  "
      ]
     },
     "execution_count": 29,
     "metadata": {},
     "output_type": "execute_result"
    }
   ],
   "source": [
    "scenario.summary()"
   ]
  },
  {
   "cell_type": "markdown",
   "metadata": {},
   "source": [
    "### Accuracy of estimation"
   ]
  },
  {
   "cell_type": "code",
   "execution_count": 30,
   "metadata": {
    "collapsed": false
   },
   "outputs": [
    {
     "data": {
      "image/png": "[encoded data removed]",
      "text/plain": [
       "<Figure size 648x864 with 4 Axes>"
      ]
     },
     "metadata": {},
     "output_type": "display_data"
    }
   ],
   "source": [
    "scenario.estimate_accuracy(phase=\"1st\")"
   ]
  },
  {
   "cell_type": "markdown",
   "metadata": {},
   "source": [
    "### Get parameter value"
   ]
  },
  {
   "cell_type": "code",
   "execution_count": 31,
   "metadata": {
    "collapsed": false
   },
   "outputs": [
    {
     "data": {
      "text/plain": [
       "1.9"
      ]
     },
     "execution_count": 31,
     "metadata": {},
     "output_type": "execute_result"
    }
   ],
   "source": [
    "scenario.get(\"Rt\", phase=\"4th\")"
   ]
  },
  {
   "cell_type": "markdown",
   "metadata": {},
   "source": [
    "### Show parameter history"
   ]
  },
  {
   "cell_type": "code",
   "execution_count": 32,
   "metadata": {
    "collapsed": false
   },
   "outputs": [
    {
     "data": {
      "image/png": "[encoded data removed]",
      "text/plain": [
       "<Figure size 648x432 with 1 Axes>"
      ]
     },
     "metadata": {},
     "output_type": "display_data"
    },
    {
     "data": {
      "text/html": [
       "<div>\n",
       "<style scoped>\n",
       "    .dataframe tbody tr th:only-of-type {\n",
       "        vertical-align: middle;\n",
       "    }\n",
       "\n",
       "    .dataframe tbody tr th {\n",
       "        vertical-align: top;\n",
       "    }\n",
       "\n",
       "    .dataframe thead th {\n",
       "        text-align: right;\n",
       "    }\n",
       "</style>\n",
       "<table border=\"1\" class=\"dataframe\">\n",
       "  <thead>\n",
       "    <tr style=\"text-align: right;\">\n",
       "      <th></th>\n",
       "      <th>1st</th>\n",
       "      <th>2nd</th>\n",
       "      <th>3rd</th>\n",
       "      <th>4th</th>\n",
       "      <th>5th</th>\n",
       "    </tr>\n",
       "  </thead>\n",
       "  <tbody>\n",
       "    <tr>\n",
       "      <th>rho</th>\n",
       "      <td>1.0</td>\n",
       "      <td>5.585109</td>\n",
       "      <td>5.073571</td>\n",
       "      <td>4.748264</td>\n",
       "      <td>3.064629</td>\n",
       "    </tr>\n",
       "    <tr>\n",
       "      <th>sigma</th>\n",
       "      <td>1.0</td>\n",
       "      <td>1.111788</td>\n",
       "      <td>1.013688</td>\n",
       "      <td>1.001136</td>\n",
       "      <td>1.341213</td>\n",
       "    </tr>\n",
       "  </tbody>\n",
       "</table>\n",
       "</div>"
      ],
      "text/plain": [
       "       1st       2nd       3rd       4th       5th\n",
       "rho    1.0  5.585109  5.073571  4.748264  3.064629\n",
       "sigma  1.0  1.111788  1.013688  1.001136  1.341213"
      ]
     },
     "execution_count": 32,
     "metadata": {},
     "output_type": "execute_result"
    }
   ],
   "source": [
    "df = scenario.param_history(targets=[\"rho\", \"sigma\"])\n",
    "df.T"
   ]
  },
  {
   "cell_type": "code",
   "execution_count": 33,
   "metadata": {
    "collapsed": false
   },
   "outputs": [
    {
     "data": {
      "image/png": "[encoded data removed]",
      "text/plain": [
       "<Figure size 648x432 with 1 Axes>"
      ]
     },
     "metadata": {},
     "output_type": "display_data"
    }
   ],
   "source": [
    "# version >= 2.7.3-alpha\n",
    "_ = scenario.history(target=\"rho\")"
   ]
  },
  {
   "cell_type": "code",
   "execution_count": 34,
   "metadata": {
    "collapsed": false
   },
   "outputs": [
    {
     "data": {
      "image/png": "[encoded data removed]",
      "text/plain": [
       "<Figure size 648x432 with 1 Axes>"
      ]
     },
     "metadata": {},
     "output_type": "display_data"
    }
   ],
   "source": [
    "# version >= 2.7.3-alpha\n",
    "_ = scenario.history(target=\"sigma\")"
   ]
  },
  {
   "cell_type": "markdown",
   "metadata": {},
   "source": [
    "### Show the history of reproduction number"
   ]
  },
  {
   "cell_type": "code",
   "execution_count": 35,
   "metadata": {
    "collapsed": false
   },
   "outputs": [
    {
     "data": {
      "image/png": "[encoded data removed]",
      "text/plain": [
       "<Figure size 648x432 with 1 Axes>"
      ]
     },
     "metadata": {},
     "output_type": "display_data"
    },
    {
     "data": {
      "text/html": [
       "<div>\n",
       "<style scoped>\n",
       "    .dataframe tbody tr th:only-of-type {\n",
       "        vertical-align: middle;\n",
       "    }\n",
       "\n",
       "    .dataframe tbody tr th {\n",
       "        vertical-align: top;\n",
       "    }\n",
       "\n",
       "    .dataframe thead th {\n",
       "        text-align: right;\n",
       "    }\n",
       "</style>\n",
       "<table border=\"1\" class=\"dataframe\">\n",
       "  <thead>\n",
       "    <tr style=\"text-align: right;\">\n",
       "      <th></th>\n",
       "      <th>1st</th>\n",
       "      <th>2nd</th>\n",
       "      <th>3rd</th>\n",
       "      <th>4th</th>\n",
       "      <th>5th</th>\n",
       "    </tr>\n",
       "  </thead>\n",
       "  <tbody>\n",
       "    <tr>\n",
       "      <th>Rt</th>\n",
       "      <td>0.36</td>\n",
       "      <td>2.02</td>\n",
       "      <td>2.0</td>\n",
       "      <td>1.9</td>\n",
       "      <td>0.91</td>\n",
       "    </tr>\n",
       "  </tbody>\n",
       "</table>\n",
       "</div>"
      ],
      "text/plain": [
       "     1st   2nd  3rd  4th   5th\n",
       "Rt  0.36  2.02  2.0  1.9  0.91"
      ]
     },
     "execution_count": 35,
     "metadata": {},
     "output_type": "execute_result"
    }
   ],
   "source": [
    "df = scenario.param_history(targets=[\"Rt\"], divide_by_first=False, show_box_plot=True)\n",
    "df.T"
   ]
  },
  {
   "cell_type": "code",
   "execution_count": 36,
   "metadata": {
    "collapsed": false
   },
   "outputs": [
    {
     "data": {
      "image/png": "[encoded data removed]",
      "text/plain": [
       "<Figure size 648x432 with 1 Axes>"
      ]
     },
     "metadata": {},
     "output_type": "display_data"
    }
   ],
   "source": [
    "# version >= 2.7.3-alpha\n",
    "_ = scenario.history(target=\"Rt\")"
   ]
  },
  {
   "cell_type": "markdown",
   "metadata": {},
   "source": [
    "### Simulate the number of cases"
   ]
  },
  {
   "cell_type": "code",
   "execution_count": 37,
   "metadata": {
    "collapsed": false
   },
   "outputs": [
    {
     "data": {
      "image/png": "[encoded data removed]",
      "text/plain": [
       "<Figure size 648x432 with 1 Axes>"
      ]
     },
     "metadata": {},
     "output_type": "display_data"
    },
    {
     "data": {
      "text/html": [
       "<div>\n",
       "<style scoped>\n",
       "    .dataframe tbody tr th:only-of-type {\n",
       "        vertical-align: middle;\n",
       "    }\n",
       "\n",
       "    .dataframe tbody tr th {\n",
       "        vertical-align: top;\n",
       "    }\n",
       "\n",
       "    .dataframe thead th {\n",
       "        text-align: right;\n",
       "    }\n",
       "</style>\n",
       "<table border=\"1\" class=\"dataframe\">\n",
       "  <thead>\n",
       "    <tr style=\"text-align: right;\">\n",
       "      <th></th>\n",
       "      <th>Date</th>\n",
       "      <th>Confirmed</th>\n",
       "      <th>Fatal</th>\n",
       "      <th>Infected</th>\n",
       "      <th>Recovered</th>\n",
       "    </tr>\n",
       "  </thead>\n",
       "  <tbody>\n",
       "    <tr>\n",
       "      <th>251</th>\n",
       "      <td>2020-12-29</td>\n",
       "      <td>138236</td>\n",
       "      <td>1895</td>\n",
       "      <td>4435</td>\n",
       "      <td>131906</td>\n",
       "    </tr>\n",
       "    <tr>\n",
       "      <th>252</th>\n",
       "      <td>2020-12-30</td>\n",
       "      <td>138586</td>\n",
       "      <td>1898</td>\n",
       "      <td>4400</td>\n",
       "      <td>132288</td>\n",
       "    </tr>\n",
       "    <tr>\n",
       "      <th>253</th>\n",
       "      <td>2020-12-31</td>\n",
       "      <td>138933</td>\n",
       "      <td>1901</td>\n",
       "      <td>4366</td>\n",
       "      <td>132666</td>\n",
       "    </tr>\n",
       "    <tr>\n",
       "      <th>254</th>\n",
       "      <td>2021-01-01</td>\n",
       "      <td>139279</td>\n",
       "      <td>1905</td>\n",
       "      <td>4332</td>\n",
       "      <td>133042</td>\n",
       "    </tr>\n",
       "    <tr>\n",
       "      <th>255</th>\n",
       "      <td>2021-01-02</td>\n",
       "      <td>139620</td>\n",
       "      <td>1908</td>\n",
       "      <td>4298</td>\n",
       "      <td>133414</td>\n",
       "    </tr>\n",
       "  </tbody>\n",
       "</table>\n",
       "</div>"
      ],
      "text/plain": [
       "          Date  Confirmed  Fatal  Infected  Recovered\n",
       "251 2020-12-29     138236   1895      4435     131906\n",
       "252 2020-12-30     138586   1898      4400     132288\n",
       "253 2020-12-31     138933   1901      4366     132666\n",
       "254 2021-01-01     139279   1905      4332     133042\n",
       "255 2021-01-02     139620   1908      4298     133414"
      ]
     },
     "execution_count": 37,
     "metadata": {},
     "output_type": "execute_result"
    }
   ],
   "source": [
    "scenario.clear(name=\"Main\")\n",
    "scenario.add(end_date=\"01Jan2021\", name=\"Main\")\n",
    "main_sim_df = scenario.simulate(name=\"Main\")\n",
    "main_sim_df.tail()"
   ]
  },
  {
   "cell_type": "markdown",
   "metadata": {},
   "source": [
    "### Simulate another scenario\n",
    "If $\\sigma$ will be double in 30 days, how many cases will be?"
   ]
  },
  {
   "cell_type": "code",
   "execution_count": 38,
   "metadata": {
    "collapsed": false
   },
   "outputs": [
    {
     "data": {
      "text/plain": [
       "0.028782469417489194"
      ]
     },
     "execution_count": 38,
     "metadata": {},
     "output_type": "execute_result"
    }
   ],
   "source": [
    "sigma_current = scenario.get(\"sigma\", name=\"Main\", phase=\"last\")\n",
    "sigma_current"
   ]
  },
  {
   "cell_type": "code",
   "execution_count": 39,
   "metadata": {
    "collapsed": false
   },
   "outputs": [
    {
     "data": {
      "text/plain": [
       "0.05756493883497839"
      ]
     },
     "execution_count": 39,
     "metadata": {},
     "output_type": "execute_result"
    }
   ],
   "source": [
    "sigma_new = sigma_current * 2\n",
    "sigma_new"
   ]
  },
  {
   "cell_type": "code",
   "execution_count": 40,
   "metadata": {
    "collapsed": false
   },
   "outputs": [
    {
     "data": {
      "text/html": [
       "<div>\n",
       "<style scoped>\n",
       "    .dataframe tbody tr th:only-of-type {\n",
       "        vertical-align: middle;\n",
       "    }\n",
       "\n",
       "    .dataframe tbody tr th {\n",
       "        vertical-align: top;\n",
       "    }\n",
       "\n",
       "    .dataframe thead th {\n",
       "        text-align: right;\n",
       "    }\n",
       "</style>\n",
       "<table border=\"1\" class=\"dataframe\">\n",
       "  <thead>\n",
       "    <tr style=\"text-align: right;\">\n",
       "      <th></th>\n",
       "      <th></th>\n",
       "      <th>Type</th>\n",
       "      <th>Start</th>\n",
       "      <th>End</th>\n",
       "      <th>Population</th>\n",
       "      <th>ODE</th>\n",
       "      <th>Rt</th>\n",
       "      <th>theta</th>\n",
       "      <th>kappa</th>\n",
       "      <th>rho</th>\n",
       "      <th>sigma</th>\n",
       "      <th>tau</th>\n",
       "      <th>1/alpha2 [day]</th>\n",
       "      <th>1/beta [day]</th>\n",
       "      <th>alpha1 [-]</th>\n",
       "      <th>1/gamma [day]</th>\n",
       "      <th>RMSLE</th>\n",
       "      <th>Trials</th>\n",
       "      <th>Runtime</th>\n",
       "    </tr>\n",
       "    <tr>\n",
       "      <th>Scenario</th>\n",
       "      <th>Phase</th>\n",
       "      <th></th>\n",
       "      <th></th>\n",
       "      <th></th>\n",
       "      <th></th>\n",
       "      <th></th>\n",
       "      <th></th>\n",
       "      <th></th>\n",
       "      <th></th>\n",
       "      <th></th>\n",
       "      <th></th>\n",
       "      <th></th>\n",
       "      <th></th>\n",
       "      <th></th>\n",
       "      <th></th>\n",
       "      <th></th>\n",
       "      <th></th>\n",
       "      <th></th>\n",
       "      <th></th>\n",
       "    </tr>\n",
       "  </thead>\n",
       "  <tbody>\n",
       "    <tr>\n",
       "      <th rowspan=\"6\" valign=\"top\">Main</th>\n",
       "      <th>1st</th>\n",
       "      <td>Past</td>\n",
       "      <td>22Apr2020</td>\n",
       "      <td>03Jul2020</td>\n",
       "      <td>126529100</td>\n",
       "      <td>SIR-F</td>\n",
       "      <td>0.36</td>\n",
       "      <td>0.089819</td>\n",
       "      <td>0.000318</td>\n",
       "      <td>0.008630</td>\n",
       "      <td>0.021460</td>\n",
       "      <td>480</td>\n",
       "      <td>1048</td>\n",
       "      <td>38</td>\n",
       "      <td>0.090</td>\n",
       "      <td>15</td>\n",
       "      <td>0.789734</td>\n",
       "      <td>1314</td>\n",
       "      <td>1 min  0 sec</td>\n",
       "    </tr>\n",
       "    <tr>\n",
       "      <th>2nd</th>\n",
       "      <td>Past</td>\n",
       "      <td>04Jul2020</td>\n",
       "      <td>22Jul2020</td>\n",
       "      <td>126529100</td>\n",
       "      <td>SIR-F</td>\n",
       "      <td>2.02</td>\n",
       "      <td>0.000938</td>\n",
       "      <td>0.000031</td>\n",
       "      <td>0.048202</td>\n",
       "      <td>0.023859</td>\n",
       "      <td>480</td>\n",
       "      <td>10652</td>\n",
       "      <td>6</td>\n",
       "      <td>0.001</td>\n",
       "      <td>13</td>\n",
       "      <td>0.0389028</td>\n",
       "      <td>1361</td>\n",
       "      <td>1 min  0 sec</td>\n",
       "    </tr>\n",
       "    <tr>\n",
       "      <th>3rd</th>\n",
       "      <td>Past</td>\n",
       "      <td>23Jul2020</td>\n",
       "      <td>30Jul2020</td>\n",
       "      <td>126529100</td>\n",
       "      <td>SIR-F</td>\n",
       "      <td>2.00</td>\n",
       "      <td>0.001705</td>\n",
       "      <td>0.000093</td>\n",
       "      <td>0.043787</td>\n",
       "      <td>0.021754</td>\n",
       "      <td>480</td>\n",
       "      <td>3566</td>\n",
       "      <td>7</td>\n",
       "      <td>0.002</td>\n",
       "      <td>15</td>\n",
       "      <td>0.0323755</td>\n",
       "      <td>142</td>\n",
       "      <td>0 min  5 sec</td>\n",
       "    </tr>\n",
       "    <tr>\n",
       "      <th>4th</th>\n",
       "      <td>Past</td>\n",
       "      <td>31Jul2020</td>\n",
       "      <td>08Aug2020</td>\n",
       "      <td>126529100</td>\n",
       "      <td>SIR-F</td>\n",
       "      <td>1.90</td>\n",
       "      <td>0.000771</td>\n",
       "      <td>0.000078</td>\n",
       "      <td>0.040979</td>\n",
       "      <td>0.021484</td>\n",
       "      <td>480</td>\n",
       "      <td>4298</td>\n",
       "      <td>8</td>\n",
       "      <td>0.001</td>\n",
       "      <td>15</td>\n",
       "      <td>0.037624</td>\n",
       "      <td>1356</td>\n",
       "      <td>1 min  0 sec</td>\n",
       "    </tr>\n",
       "    <tr>\n",
       "      <th>5th</th>\n",
       "      <td>Past</td>\n",
       "      <td>09Aug2020</td>\n",
       "      <td>24Aug2020</td>\n",
       "      <td>126529100</td>\n",
       "      <td>SIR-F</td>\n",
       "      <td>0.91</td>\n",
       "      <td>0.004517</td>\n",
       "      <td>0.000128</td>\n",
       "      <td>0.026449</td>\n",
       "      <td>0.028782</td>\n",
       "      <td>480</td>\n",
       "      <td>2611</td>\n",
       "      <td>12</td>\n",
       "      <td>0.005</td>\n",
       "      <td>11</td>\n",
       "      <td>0.0427347</td>\n",
       "      <td>1291</td>\n",
       "      <td>1 min  0 sec</td>\n",
       "    </tr>\n",
       "    <tr>\n",
       "      <th>6th</th>\n",
       "      <td>Future</td>\n",
       "      <td>25Aug2020</td>\n",
       "      <td>01Jan2021</td>\n",
       "      <td>126529100</td>\n",
       "      <td>SIR-F</td>\n",
       "      <td>0.91</td>\n",
       "      <td>0.004517</td>\n",
       "      <td>0.000128</td>\n",
       "      <td>0.026449</td>\n",
       "      <td>0.028782</td>\n",
       "      <td>480</td>\n",
       "      <td>2611</td>\n",
       "      <td>12</td>\n",
       "      <td>0.005</td>\n",
       "      <td>11</td>\n",
       "      <td>-</td>\n",
       "      <td>-</td>\n",
       "      <td>-</td>\n",
       "    </tr>\n",
       "    <tr>\n",
       "      <th rowspan=\"7\" valign=\"top\">Medicine</th>\n",
       "      <th>1st</th>\n",
       "      <td>Past</td>\n",
       "      <td>22Apr2020</td>\n",
       "      <td>03Jul2020</td>\n",
       "      <td>126529100</td>\n",
       "      <td>SIR-F</td>\n",
       "      <td>0.36</td>\n",
       "      <td>0.089819</td>\n",
       "      <td>0.000318</td>\n",
       "      <td>0.008630</td>\n",
       "      <td>0.021460</td>\n",
       "      <td>480</td>\n",
       "      <td>1048</td>\n",
       "      <td>38</td>\n",
       "      <td>0.090</td>\n",
       "      <td>15</td>\n",
       "      <td>0.789734</td>\n",
       "      <td>1314</td>\n",
       "      <td>1 min  0 sec</td>\n",
       "    </tr>\n",
       "    <tr>\n",
       "      <th>2nd</th>\n",
       "      <td>Past</td>\n",
       "      <td>04Jul2020</td>\n",
       "      <td>22Jul2020</td>\n",
       "      <td>126529100</td>\n",
       "      <td>SIR-F</td>\n",
       "      <td>2.02</td>\n",
       "      <td>0.000938</td>\n",
       "      <td>0.000031</td>\n",
       "      <td>0.048202</td>\n",
       "      <td>0.023859</td>\n",
       "      <td>480</td>\n",
       "      <td>10652</td>\n",
       "      <td>6</td>\n",
       "      <td>0.001</td>\n",
       "      <td>13</td>\n",
       "      <td>0.0389028</td>\n",
       "      <td>1361</td>\n",
       "      <td>1 min  0 sec</td>\n",
       "    </tr>\n",
       "    <tr>\n",
       "      <th>3rd</th>\n",
       "      <td>Past</td>\n",
       "      <td>23Jul2020</td>\n",
       "      <td>30Jul2020</td>\n",
       "      <td>126529100</td>\n",
       "      <td>SIR-F</td>\n",
       "      <td>2.00</td>\n",
       "      <td>0.001705</td>\n",
       "      <td>0.000093</td>\n",
       "      <td>0.043787</td>\n",
       "      <td>0.021754</td>\n",
       "      <td>480</td>\n",
       "      <td>3566</td>\n",
       "      <td>7</td>\n",
       "      <td>0.002</td>\n",
       "      <td>15</td>\n",
       "      <td>0.0323755</td>\n",
       "      <td>142</td>\n",
       "      <td>0 min  5 sec</td>\n",
       "    </tr>\n",
       "    <tr>\n",
       "      <th>4th</th>\n",
       "      <td>Past</td>\n",
       "      <td>31Jul2020</td>\n",
       "      <td>08Aug2020</td>\n",
       "      <td>126529100</td>\n",
       "      <td>SIR-F</td>\n",
       "      <td>1.90</td>\n",
       "      <td>0.000771</td>\n",
       "      <td>0.000078</td>\n",
       "      <td>0.040979</td>\n",
       "      <td>0.021484</td>\n",
       "      <td>480</td>\n",
       "      <td>4298</td>\n",
       "      <td>8</td>\n",
       "      <td>0.001</td>\n",
       "      <td>15</td>\n",
       "      <td>0.037624</td>\n",
       "      <td>1356</td>\n",
       "      <td>1 min  0 sec</td>\n",
       "    </tr>\n",
       "    <tr>\n",
       "      <th>5th</th>\n",
       "      <td>Past</td>\n",
       "      <td>09Aug2020</td>\n",
       "      <td>24Aug2020</td>\n",
       "      <td>126529100</td>\n",
       "      <td>SIR-F</td>\n",
       "      <td>0.91</td>\n",
       "      <td>0.004517</td>\n",
       "      <td>0.000128</td>\n",
       "      <td>0.026449</td>\n",
       "      <td>0.028782</td>\n",
       "      <td>480</td>\n",
       "      <td>2611</td>\n",
       "      <td>12</td>\n",
       "      <td>0.005</td>\n",
       "      <td>11</td>\n",
       "      <td>0.0427347</td>\n",
       "      <td>1291</td>\n",
       "      <td>1 min  0 sec</td>\n",
       "    </tr>\n",
       "    <tr>\n",
       "      <th>6th</th>\n",
       "      <td>Future</td>\n",
       "      <td>25Aug2020</td>\n",
       "      <td>24Sep2020</td>\n",
       "      <td>126529100</td>\n",
       "      <td>SIR-F</td>\n",
       "      <td>0.91</td>\n",
       "      <td>0.004517</td>\n",
       "      <td>0.000128</td>\n",
       "      <td>0.026449</td>\n",
       "      <td>0.028782</td>\n",
       "      <td>480</td>\n",
       "      <td>2611</td>\n",
       "      <td>12</td>\n",
       "      <td>0.005</td>\n",
       "      <td>11</td>\n",
       "      <td>-</td>\n",
       "      <td>-</td>\n",
       "      <td>-</td>\n",
       "    </tr>\n",
       "    <tr>\n",
       "      <th>7th</th>\n",
       "      <td>Future</td>\n",
       "      <td>25Sep2020</td>\n",
       "      <td>01Jan2021</td>\n",
       "      <td>126529100</td>\n",
       "      <td>SIR-F</td>\n",
       "      <td>0.46</td>\n",
       "      <td>0.004517</td>\n",
       "      <td>0.000128</td>\n",
       "      <td>0.026449</td>\n",
       "      <td>0.057565</td>\n",
       "      <td>480</td>\n",
       "      <td>2611</td>\n",
       "      <td>12</td>\n",
       "      <td>0.005</td>\n",
       "      <td>5</td>\n",
       "      <td>-</td>\n",
       "      <td>-</td>\n",
       "      <td>-</td>\n",
       "    </tr>\n",
       "  </tbody>\n",
       "</table>\n",
       "</div>"
      ],
      "text/plain": [
       "                  Type      Start        End  Population    ODE    Rt  \\\n",
       "Scenario Phase                                                          \n",
       "Main     1st      Past  22Apr2020  03Jul2020   126529100  SIR-F  0.36   \n",
       "         2nd      Past  04Jul2020  22Jul2020   126529100  SIR-F  2.02   \n",
       "         3rd      Past  23Jul2020  30Jul2020   126529100  SIR-F  2.00   \n",
       "         4th      Past  31Jul2020  08Aug2020   126529100  SIR-F  1.90   \n",
       "         5th      Past  09Aug2020  24Aug2020   126529100  SIR-F  0.91   \n",
       "         6th    Future  25Aug2020  01Jan2021   126529100  SIR-F  0.91   \n",
       "Medicine 1st      Past  22Apr2020  03Jul2020   126529100  SIR-F  0.36   \n",
       "         2nd      Past  04Jul2020  22Jul2020   126529100  SIR-F  2.02   \n",
       "         3rd      Past  23Jul2020  30Jul2020   126529100  SIR-F  2.00   \n",
       "         4th      Past  31Jul2020  08Aug2020   126529100  SIR-F  1.90   \n",
       "         5th      Past  09Aug2020  24Aug2020   126529100  SIR-F  0.91   \n",
       "         6th    Future  25Aug2020  24Sep2020   126529100  SIR-F  0.91   \n",
       "         7th    Future  25Sep2020  01Jan2021   126529100  SIR-F  0.46   \n",
       "\n",
       "                   theta     kappa       rho     sigma  tau  1/alpha2 [day]  \\\n",
       "Scenario Phase                                                                \n",
       "Main     1st    0.089819  0.000318  0.008630  0.021460  480            1048   \n",
       "         2nd    0.000938  0.000031  0.048202  0.023859  480           10652   \n",
       "         3rd    0.001705  0.000093  0.043787  0.021754  480            3566   \n",
       "         4th    0.000771  0.000078  0.040979  0.021484  480            4298   \n",
       "         5th    0.004517  0.000128  0.026449  0.028782  480            2611   \n",
       "         6th    0.004517  0.000128  0.026449  0.028782  480            2611   \n",
       "Medicine 1st    0.089819  0.000318  0.008630  0.021460  480            1048   \n",
       "         2nd    0.000938  0.000031  0.048202  0.023859  480           10652   \n",
       "         3rd    0.001705  0.000093  0.043787  0.021754  480            3566   \n",
       "         4th    0.000771  0.000078  0.040979  0.021484  480            4298   \n",
       "         5th    0.004517  0.000128  0.026449  0.028782  480            2611   \n",
       "         6th    0.004517  0.000128  0.026449  0.028782  480            2611   \n",
       "         7th    0.004517  0.000128  0.026449  0.057565  480            2611   \n",
       "\n",
       "                1/beta [day]  alpha1 [-]  1/gamma [day]      RMSLE Trials  \\\n",
       "Scenario Phase                                                              \n",
       "Main     1st              38       0.090             15   0.789734   1314   \n",
       "         2nd               6       0.001             13  0.0389028   1361   \n",
       "         3rd               7       0.002             15  0.0323755    142   \n",
       "         4th               8       0.001             15   0.037624   1356   \n",
       "         5th              12       0.005             11  0.0427347   1291   \n",
       "         6th              12       0.005             11          -      -   \n",
       "Medicine 1st              38       0.090             15   0.789734   1314   \n",
       "         2nd               6       0.001             13  0.0389028   1361   \n",
       "         3rd               7       0.002             15  0.0323755    142   \n",
       "         4th               8       0.001             15   0.037624   1356   \n",
       "         5th              12       0.005             11  0.0427347   1291   \n",
       "         6th              12       0.005             11          -      -   \n",
       "         7th              12       0.005              5          -      -   \n",
       "\n",
       "                     Runtime  \n",
       "Scenario Phase                \n",
       "Main     1st    1 min  0 sec  \n",
       "         2nd    1 min  0 sec  \n",
       "         3rd    0 min  5 sec  \n",
       "         4th    1 min  0 sec  \n",
       "         5th    1 min  0 sec  \n",
       "         6th               -  \n",
       "Medicine 1st    1 min  0 sec  \n",
       "         2nd    1 min  0 sec  \n",
       "         3rd    0 min  5 sec  \n",
       "         4th    1 min  0 sec  \n",
       "         5th    1 min  0 sec  \n",
       "         6th               -  \n",
       "         7th               -  "
      ]
     },
     "execution_count": 40,
     "metadata": {},
     "output_type": "execute_result"
    }
   ],
   "source": [
    "scenario.clear(name=\"Medicine\")\n",
    "scenario.add(name=\"Medicine\", days=30, sigma=sigma_current)\n",
    "scenario.add(name=\"Medicine\", end_date=\"01Jan2021\", sigma=sigma_new)\n",
    "scenario.summary()"
   ]
  },
  {
   "cell_type": "code",
   "execution_count": 41,
   "metadata": {
    "collapsed": false
   },
   "outputs": [
    {
     "data": {
      "image/png": "[encoded data removed]",
      "text/plain": [
       "<Figure size 648x432 with 1 Axes>"
      ]
     },
     "metadata": {},
     "output_type": "display_data"
    },
    {
     "data": {
      "text/html": [
       "<div>\n",
       "<style scoped>\n",
       "    .dataframe tbody tr th:only-of-type {\n",
       "        vertical-align: middle;\n",
       "    }\n",
       "\n",
       "    .dataframe tbody tr th {\n",
       "        vertical-align: top;\n",
       "    }\n",
       "\n",
       "    .dataframe thead th {\n",
       "        text-align: right;\n",
       "    }\n",
       "</style>\n",
       "<table border=\"1\" class=\"dataframe\">\n",
       "  <thead>\n",
       "    <tr style=\"text-align: right;\">\n",
       "      <th></th>\n",
       "      <th>Date</th>\n",
       "      <th>Confirmed</th>\n",
       "      <th>Fatal</th>\n",
       "      <th>Infected</th>\n",
       "      <th>Recovered</th>\n",
       "    </tr>\n",
       "  </thead>\n",
       "  <tbody>\n",
       "    <tr>\n",
       "      <th>251</th>\n",
       "      <td>2020-12-29</td>\n",
       "      <td>96557</td>\n",
       "      <td>1505</td>\n",
       "      <td>1</td>\n",
       "      <td>95051</td>\n",
       "    </tr>\n",
       "    <tr>\n",
       "      <th>252</th>\n",
       "      <td>2020-12-30</td>\n",
       "      <td>96557</td>\n",
       "      <td>1505</td>\n",
       "      <td>1</td>\n",
       "      <td>95051</td>\n",
       "    </tr>\n",
       "    <tr>\n",
       "      <th>253</th>\n",
       "      <td>2020-12-31</td>\n",
       "      <td>96558</td>\n",
       "      <td>1505</td>\n",
       "      <td>1</td>\n",
       "      <td>95052</td>\n",
       "    </tr>\n",
       "    <tr>\n",
       "      <th>254</th>\n",
       "      <td>2021-01-01</td>\n",
       "      <td>96558</td>\n",
       "      <td>1505</td>\n",
       "      <td>1</td>\n",
       "      <td>95052</td>\n",
       "    </tr>\n",
       "    <tr>\n",
       "      <th>255</th>\n",
       "      <td>2021-01-02</td>\n",
       "      <td>96558</td>\n",
       "      <td>1505</td>\n",
       "      <td>1</td>\n",
       "      <td>95052</td>\n",
       "    </tr>\n",
       "  </tbody>\n",
       "</table>\n",
       "</div>"
      ],
      "text/plain": [
       "          Date  Confirmed  Fatal  Infected  Recovered\n",
       "251 2020-12-29      96557   1505         1      95051\n",
       "252 2020-12-30      96557   1505         1      95051\n",
       "253 2020-12-31      96558   1505         1      95052\n",
       "254 2021-01-01      96558   1505         1      95052\n",
       "255 2021-01-02      96558   1505         1      95052"
      ]
     },
     "execution_count": 41,
     "metadata": {},
     "output_type": "execute_result"
    }
   ],
   "source": [
    "scenario.simulate(name=\"Medicine\").tail()"
   ]
  },
  {
   "cell_type": "markdown",
   "metadata": {},
   "source": [
    "### Compare the scenarios"
   ]
  },
  {
   "cell_type": "code",
   "execution_count": 42,
   "metadata": {
    "collapsed": false
   },
   "outputs": [
    {
     "data": {
      "text/html": [
       "<div>\n",
       "<style scoped>\n",
       "    .dataframe tbody tr th:only-of-type {\n",
       "        vertical-align: middle;\n",
       "    }\n",
       "\n",
       "    .dataframe tbody tr th {\n",
       "        vertical-align: top;\n",
       "    }\n",
       "\n",
       "    .dataframe thead th {\n",
       "        text-align: right;\n",
       "    }\n",
       "</style>\n",
       "<table border=\"1\" class=\"dataframe\">\n",
       "  <thead>\n",
       "    <tr style=\"text-align: right;\">\n",
       "      <th></th>\n",
       "      <th>max(Infected)</th>\n",
       "      <th>argmax(Infected)</th>\n",
       "      <th>Infected on 02Jan2021</th>\n",
       "      <th>Fatal on 02Jan2021</th>\n",
       "      <th>7th_Rt</th>\n",
       "    </tr>\n",
       "  </thead>\n",
       "  <tbody>\n",
       "    <tr>\n",
       "      <th>Main</th>\n",
       "      <td>13431</td>\n",
       "      <td>08Aug2020</td>\n",
       "      <td>4298</td>\n",
       "      <td>1908</td>\n",
       "      <td>-</td>\n",
       "    </tr>\n",
       "    <tr>\n",
       "      <th>Medicine</th>\n",
       "      <td>13431</td>\n",
       "      <td>08Aug2020</td>\n",
       "      <td>1</td>\n",
       "      <td>1505</td>\n",
       "      <td>0.46</td>\n",
       "    </tr>\n",
       "  </tbody>\n",
       "</table>\n",
       "</div>"
      ],
      "text/plain": [
       "          max(Infected) argmax(Infected)  Infected on 02Jan2021  \\\n",
       "Main              13431        08Aug2020                   4298   \n",
       "Medicine          13431        08Aug2020                      1   \n",
       "\n",
       "          Fatal on 02Jan2021 7th_Rt  \n",
       "Main                    1908      -  \n",
       "Medicine                1505   0.46  "
      ]
     },
     "execution_count": 42,
     "metadata": {},
     "output_type": "execute_result"
    }
   ],
   "source": [
    "scenario.describe()"
   ]
  },
  {
   "cell_type": "code",
   "execution_count": 43,
   "metadata": {
    "collapsed": false
   },
   "outputs": [
    {
     "data": {
      "image/png": "[encoded data removed]",
      "text/plain": [
       "<Figure size 648x432 with 1 Axes>"
      ]
     },
     "metadata": {},
     "output_type": "display_data"
    }
   ],
   "source": [
    "# version >= 2.7.3-alpha\n",
    "_ = scenario.history(target=\"Rt\")"
   ]
  },
  {
   "cell_type": "code",
   "execution_count": 44,
   "metadata": {
    "collapsed": false
   },
   "outputs": [
    {
     "data": {
      "image/png": "[encoded data removed]",
      "text/plain": [
       "<Figure size 648x432 with 1 Axes>"
      ]
     },
     "metadata": {},
     "output_type": "display_data"
    }
   ],
   "source": [
    "# version >= 2.7.3-alpha\n",
    "_ = scenario.history(target=\"rho\")"
   ]
  },
  {
   "cell_type": "code",
   "execution_count": 45,
   "metadata": {
    "collapsed": false
   },
   "outputs": [
    {
     "data": {
      "image/png": "[encoded data removed]",
      "text/plain": [
       "<Figure size 648x432 with 1 Axes>"
      ]
     },
     "metadata": {},
     "output_type": "display_data"
    }
   ],
   "source": [
    "# version >= 2.7.3-alpha\n",
    "_ = scenario.history(target=\"sigma\")"
   ]
  },
  {
   "cell_type": "code",
   "execution_count": 46,
   "metadata": {
    "collapsed": false
   },
   "outputs": [
    {
     "data": {
      "image/png": "[encoded data removed]",
      "text/plain": [
       "<Figure size 648x432 with 1 Axes>"
      ]
     },
     "metadata": {},
     "output_type": "display_data"
    }
   ],
   "source": [
    "# version >= 2.7.3-alpha\n",
    "_ = scenario.history(target=\"Infected\")"
   ]
  }
 ],
 "metadata": {
  "kernelspec": {
   "display_name": "Python 3.8.2 64-bit ('covid19-sir': pipenv)",
   "name": "python_defaultSpec_1597313350107"
  },
  "language_info": {
   "codemirror_mode": {
    "name": "ipython",
    "version": 3
   },
   "file_extension": ".py",
   "mimetype": "text/x-python",
   "name": "python",
   "nbconvert_exporter": "python",
   "pygments_lexer": "ipython3",
   "version": 3
  }
 },
 "nbformat": 4,
 "nbformat_minor": 4
}
