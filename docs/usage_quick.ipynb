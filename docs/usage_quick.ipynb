{
 "cells": [
  {
   "cell_type": "markdown",
   "metadata": {},
   "source": [
    "# Usage (quick version)"
   ]
  },
  {
   "cell_type": "markdown",
   "metadata": {},
   "source": [
    "## Preparation"
   ]
  },
  {
   "cell_type": "code",
   "execution_count": 1,
   "metadata": {
    "collapsed": false
   },
   "outputs": [],
   "source": [
    "# Standard users\n",
    "# !pip install covsirphy\n",
    "# Developers (Note: this notebook is in example directory)\n",
    "import os\n",
    "os.chdir(\"../\")"
   ]
  },
  {
   "cell_type": "code",
   "execution_count": 2,
   "metadata": {
    "collapsed": false
   },
   "outputs": [],
   "source": [
    "import warnings"
   ]
  },
  {
   "cell_type": "code",
   "execution_count": 3,
   "metadata": {
    "collapsed": false,
    "tags": []
   },
   "outputs": [
    {
     "data": {
      "text/plain": [
       "'2.8.3'"
      ]
     },
     "execution_count": 3,
     "metadata": {},
     "output_type": "execute_result"
    }
   ],
   "source": [
    "import covsirphy as cs\n",
    "cs.__version__"
   ]
  },
  {
   "cell_type": "markdown",
   "metadata": {},
   "source": [
    "## Dataset preparation\n",
    "Download the datasets to \"input\" direcotry and load them.\n",
    "\n",
    "If \"input\" directory has the datasets, `DataLoader` will load the local files. If the datasets were updated in remote servers, `DataLoader` will update the local files automatically.\n",
    "Download the datasets to \"input\" direcotry and load them.\n",
    "\n",
    "If \"input\" directory has the datasets, `DataLoader` will load the local files. If the datasets were updated in remote servers, `DataLoader` will update the local files automatically."
   ]
  },
  {
   "cell_type": "code",
   "execution_count": 4,
   "metadata": {
    "collapsed": false,
    "tags": []
   },
   "outputs": [
    {
     "name": "stdout",
     "output_type": "stream",
     "text": [
      "Retrieving datasets from COVID-19 Data Hub: https://covid19datahub.io/"
     ]
    },
    {
     "name": "stdout",
     "output_type": "stream",
     "text": [
      "\n"
     ]
    },
    {
     "name": "stdout",
     "output_type": "stream",
     "text": [
      "\n",
      "Detailed citaition list:"
     ]
    },
    {
     "name": "stdout",
     "output_type": "stream",
     "text": [
      "\n"
     ]
    },
    {
     "name": "stdout",
     "output_type": "stream",
     "text": [
      "Open Government Data, United Kingdom (2020), https://coronavirus.data.gov.uk\n",
      "Department of Disease Control of Thailand (2020), https://covid19.th-stat.com/\n",
      "World Health Organization (2020), https://covid19.who.int\n",
      "Ireland Health Protection Surveillance Centre (HPSC) and Health Service Executive (HSE) (2020), https://covid19ireland-geohive.hub.arcgis.com/\n",
      "The COVID Tracking Project (2020), https://covidtracking.com\n",
      "Ministry of Health of Croatia (2020), https://data.gov.hr/dataset/koronavirus/resource/08fab529-ebba-46c7-be79-05782ddb02ef\n",
      "Open Government Data, Latvia (2020), https://data.gov.lv/dati/dataset\n",
      "Wikipedia (2020), https://en.wikipedia.org/wiki\n",
      "Epistat, Belgian Infectious Diseases (2020), https://epistat.sciensano.be\n",
      "Johns Hopkins Center for Systems Science and Engineering (2020), https://github.com/CSSEGISandData/COVID-19\n",
      "Covid19data.com.au (2020), https://github.com/M3IT/COVID-19_Data\n",
      "Data Science for Social Impact research group, University of Pretoria (2020), https://github.com/dsfsi/covid19za\n",
      "Data on the COVID-19 pandemic in Portugal (2020), https://github.com/dssg-pt/covid19pt-data\n",
      "COVID-19_plus_Russia GitHub repository (2020), https://github.com/grwlf/COVID-19_plus_Russia\n",
      "COVID-19 Peru Data Repository (2020), https://github.com/jmcastagnetto/covid-19-peru-data\n",
      "Twitter Web Scraper for Polish Ministery of Health (2020), https://github.com/martinbenes1996/covid19poland\n",
      "The New York Times (2020), https://github.com/nytimes/covid-19-data\n",
      "Open Government Data, Liechtenstein (2020), https://github.com/openZH/covid_19\n",
      "Open Government Data, Switzerland (2020), https://github.com/openZH/covid_19\n",
      "OpenCOVID19 France (2020), https://github.com/opencovid19-fr/data\n",
      "Our World in Data (2020), https://github.com/owid/covid-19-data\n",
      "COVID-19 Turkey API (2020), https://github.com/ozanerturk/covid19-turkey-api\n",
      "Ministero della Salute, Italia (2020), https://github.com/pcm-dpc/COVID-19\n",
      "Japan COVID-19 Bulletin Board (2020), https://github.com/swsoyee/2019-ncov-japan\n",
      "Public Health Infobase, Government of Canada (2020), https://health-infobase.canada.ca\n",
      "Open Government Data, Austria (2020), https://info.gesundheitsministerium.at/\n",
      "Robert Koch-Institut (2020), https://npgeo-corona-npgeo-de.hub.arcgis.com/datasets/dd4580c810204019a7b8eb3e0b329dd6_0\n",
      "Ministery of Health of Czech Republic (2020), https://onemocneni-aktualne.mzcr.cz/covid-19\n",
      "Public Health Agency, Sweden (2020), https://oppnadata.se/datamangd/#esc_entry=1424&esc_context=525\n",
      "Ministry of Public Health and Population of Haiti (2020), https://proxy.hxlstandard.org/data/738954\n",
      "CIA - Central Intelligence Agency (2020), https://www.cia.gov/library/publications/the-world-factbook/geos/aq.html\n",
      "COVID19-India API (2020), https://www.covid19india.org/\n",
      "Ministerio de Salud y ProtecciÃ³n Social de Colombia (2020), https://www.datos.gov.co\n",
      "Ministery of Health, Slovenia (2020), https://www.gov.si/en/topics/coronavirus-disease-covid-19/\n",
      "Ministerio de Sanidad, Consumo y Bienestar Social (2020), https://www.mscbs.gob.es/\n",
      "Canada's National Statistical Agency (2020), https://www150.statcan.gc.ca/t1/tbl1/en/tv.action?pid=1710000901\n",
      "Oxford COVID-19 Government Response Tracker (2020), www.bsg.ox.ac.uk/covidtracker\n",
      "Eurostat (2019), https://ec.europa.eu/eurostat\n",
      "Geloky (2019), https://geloky.com/geocoding/place/Valka+Latvia\n",
      "GADM (2019), https://public.opendatasoft.com/explore/dataset/landkreise-in-germany/table/\n",
      "Statbel, Belgium in Figures (2019), https://statbel.fgov.be/en/themes/population/structure-population\n",
      "Australian Bureau of Statistics (2019), https://www.abs.gov.au/AUSSTATS/abs@.nsf/DetailsPage/3101.0Sep%202019?OpenDocument\n",
      "National Bureau of Statistics of China NBS (2018), http://data.stats.gov.cn/english/easyquery.htm?cn=E0103\n",
      "World Bank Open Data (2018), https://data.worldbank.org/indicator/SP.POP.TOTL\n",
      "Swiss Federal Statistical Office (2018), https://www.bfs.admin.ch/bfs/en/home/statistics/regional-statistics/regional-portraits-key-figures/cantons/data-explanations.html\n",
      "Czech Statistical Office (2018), https://www.czso.cz/csu/czso/demograficka-rocenka-kraju-2009-az-2018\n",
      "Istituto Nazionale di Statistica, Italia (2018), https://www.istat.it/en/population-and-households?data-and-indicators\n",
      "Worldometer (2018), https://www.worldometers.info/world-population/channel-islands-population/"
     ]
    },
    {
     "name": "stdout",
     "output_type": "stream",
     "text": [
      "\n"
     ]
    },
    {
     "name": "stdout",
     "output_type": "stream",
     "text": [
      "\n",
      "\n"
     ]
    },
    {
     "name": "stdout",
     "output_type": "stream",
     "text": [
      "\n"
     ]
    }
   ],
   "source": [
    "data_loader = cs.DataLoader(\"input\")\n",
    "# The number of cases (JHU style)\n",
    "jhu_data = data_loader.jhu(verbose=True)\n",
    "# Population in each country\n",
    "population_data = data_loader.population(verbose=True)\n",
    "# Government Response Tracker (OxCGRT)\n",
    "oxcgrt_data = data_loader.oxcgrt(verbose=True)"
   ]
  },
  {
   "cell_type": "markdown",
   "metadata": {},
   "source": [
    "### The number of cases (JHU style)"
   ]
  },
  {
   "cell_type": "code",
   "execution_count": 5,
   "metadata": {
    "collapsed": false,
    "tags": []
   },
   "outputs": [
    {
     "name": "stdout",
     "output_type": "stream",
     "text": [
      "(Secondary source) Guidotti, E., Ardia, D., (2020), \"COVID-19 Data Hub\", Journal of Open Source Software 5(51):2376, doi: 10.21105/joss.02376.\n",
      "We can get Citation list of primary sources with DataLoader(...).covid19dh_citation"
     ]
    },
    {
     "name": "stdout",
     "output_type": "stream",
     "text": [
      "\n"
     ]
    }
   ],
   "source": [
    "# Description/citation\n",
    "print(jhu_data.citation)"
   ]
  },
  {
   "cell_type": "code",
   "execution_count": 6,
   "metadata": {
    "collapsed": false,
    "tags": []
   },
   "outputs": [
    {
     "name": "stdout",
     "output_type": "stream",
     "text": [
      "Open Government Data, United Kingdom (2020), https://coronavirus.data.gov.uk\n",
      "Department of Disease Control of Thailand (2020), https://covid19.th-stat.com/\n",
      "World Health Organization (2020), https://covid19.who.int\n",
      "Ireland Health Protection Surveillance Centre (HPSC) and Health Service Executive (HSE) (2020), https://covid19ireland-geohive.hub.arcgis.com/\n",
      "The COVID Tracking Project (2020), https://covidtracking.com\n",
      "Ministry of Health of Croatia (2020), https://data.gov.hr/dataset/koronavirus/resource/08fab529-ebba-46c7-be79-05782ddb02ef\n",
      "Open Government Data, Latvia (2020), https://data.gov.lv/dati/dataset\n",
      "Wikipedia (2020), https://en.wikipedia.org/wiki\n",
      "Epistat, Belgian Infectious Diseases (2020), https://epistat.sciensano.be\n",
      "Johns Hopkins Center for Systems Science and Engineering (2020), https://github.com/CSSEGISandData/COVID-19\n",
      "Covid19data.com.au (2020), https://github.com/M3IT/COVID-19_Data\n",
      "Data Science for Social Impact research group, University of Pretoria (2020), https://github.com/dsfsi/covid19za\n",
      "Data on the COVID-19 pandemic in Portugal (2020), https://github.com/dssg-pt/covid19pt-data\n",
      "COVID-19_plus_Russia GitHub repository (2020), https://github.com/grwlf/COVID-19_plus_Russia\n",
      "COVID-19 Peru Data Repository (2020), https://github.com/jmcastagnetto/covid-19-peru-data\n",
      "Twitter Web Scraper for Polish Ministery of Health (2020), https://github.com/martinbenes1996/covid19poland\n",
      "The New York Times (2020), https://github.com/nytimes/covid-19-data\n",
      "Open Government Data, Liechtenstein (2020), https://github.com/openZH/covid_19\n",
      "Open Government Data, Switzerland (2020), https://github.com/openZH/covid_19\n",
      "OpenCOVID19 France (2020), https://github.com/opencovid19-fr/data\n",
      "Our World in Data (2020), https://github.com/owid/covid-19-data\n",
      "COVID-19 Turkey API (2020), https://github.com/ozanerturk/covid19-turkey-api\n",
      "Ministero della Salute, Italia (2020), https://github.com/pcm-dpc/COVID-19\n",
      "Japan COVID-19 Bulletin Board (2020), https://github.com/swsoyee/2019-ncov-japan\n",
      "Public Health Infobase, Government of Canada (2020), https://health-infobase.canada.ca\n",
      "Open Government Data, Austria (2020), https://info.gesundheitsministerium.at/\n",
      "Robert Koch-Institut (2020), https://npgeo-corona-npgeo-de.hub.arcgis.com/datasets/dd4580c810204019a7b8eb3e0b329dd6_0\n",
      "Ministery of Health of Czech Republic (2020), https://onemocneni-aktualne.mzcr.cz/covid-19\n",
      "Public Health Agency, Sweden (2020), https://oppnadata.se/datamangd/#esc_entry=1424&esc_context=525\n",
      "Ministry of Public Health and Population of Haiti (2020), https://proxy.hxlstandard.org/data/738954\n",
      "CIA - Central Intelligence Agency (2020), https://www.cia.gov/library/publications/the-world-factbook/geos/aq.html\n",
      "COVID19-India API (2020), https://www.covid19india.org/\n",
      "Ministerio de Salud y ProtecciÃ³n Social de Colombia (2020), https://www.datos.gov.co\n",
      "Ministery of Health, Slovenia (2020), https://www.gov.si/en/topics/coronavirus-disease-covid-19/\n",
      "Ministerio de Sanidad, Consumo y Bienestar Social (2020), https://www.mscbs.gob.es/\n",
      "Canada's National Statistical Agency (2020), https://www150.statcan.gc.ca/t1/tbl1/en/tv.action?pid=1710000901\n",
      "Oxford COVID-19 Government Response Tracker (2020), www.bsg.ox.ac.uk/covidtracker\n",
      "Eurostat (2019), https://ec.europa.eu/eurostat\n",
      "Geloky (2019), https://geloky.com/geocoding/place/Valka+Latvia\n",
      "GADM (2019), https://public.opendatasoft.com/explore/dataset/landkreise-in-germany/table/\n",
      "Statbel, Belgium in Figures (2019), https://statbel.fgov.be/en/themes/population/structure-population\n",
      "Australian Bureau of Statistics (2019), https://www.abs.gov.au/AUSSTATS/abs@.nsf/DetailsPage/3101.0Sep%202019?OpenDocument\n",
      "National Bureau of Statistics of China NBS (2018), http://data.stats.gov.cn/english/easyquery.htm?cn=E0103\n",
      "World Bank Open Data (2018), https://data.worldbank.org/indicator/SP.POP.TOTL\n",
      "Swiss Federal Statistical Office (2018), https://www.bfs.admin.ch/bfs/en/home/statistics/regional-statistics/regional-portraits-key-figures/cantons/data-explanations.html\n",
      "Czech Statistical Office (2018), https://www.czso.cz/csu/czso/demograficka-rocenka-kraju-2009-az-2018\n",
      "Istituto Nazionale di Statistica, Italia (2018), https://www.istat.it/en/population-and-households?data-and-indicators\n",
      "Worldometer (2018), https://www.worldometers.info/world-population/channel-islands-population/"
     ]
    },
    {
     "name": "stdout",
     "output_type": "stream",
     "text": [
      "\n"
     ]
    }
   ],
   "source": [
    "print(data_loader.covid19dh_citation)"
   ]
  },
  {
   "cell_type": "code",
   "execution_count": 7,
   "metadata": {
    "collapsed": false
   },
   "outputs": [
    {
     "data": {
      "text/html": [
       "<div>\n",
       "<style scoped>\n",
       "    .dataframe tbody tr th:only-of-type {\n",
       "        vertical-align: middle;\n",
       "    }\n",
       "\n",
       "    .dataframe tbody tr th {\n",
       "        vertical-align: top;\n",
       "    }\n",
       "\n",
       "    .dataframe thead th {\n",
       "        text-align: right;\n",
       "    }\n",
       "</style>\n",
       "<table border=\"1\" class=\"dataframe\">\n",
       "  <thead>\n",
       "    <tr style=\"text-align: right;\">\n",
       "      <th></th>\n",
       "      <th>ObservationDate</th>\n",
       "      <th>Confirmed</th>\n",
       "      <th>Recovered</th>\n",
       "      <th>Deaths</th>\n",
       "      <th>Population</th>\n",
       "      <th>ISO3</th>\n",
       "      <th>Province/State</th>\n",
       "      <th>Country/Region</th>\n",
       "      <th>school_closing</th>\n",
       "      <th>workplace_closing</th>\n",
       "      <th>cancel_events</th>\n",
       "      <th>gatherings_restrictions</th>\n",
       "      <th>transport_closing</th>\n",
       "      <th>stay_home_restrictions</th>\n",
       "      <th>internal_movement_restrictions</th>\n",
       "      <th>international_movement_restrictions</th>\n",
       "      <th>information_campaigns</th>\n",
       "      <th>testing_policy</th>\n",
       "      <th>contact_tracing</th>\n",
       "      <th>stringency_index</th>\n",
       "    </tr>\n",
       "  </thead>\n",
       "  <tbody>\n",
       "    <tr>\n",
       "      <th>225651</th>\n",
       "      <td>2020-09-16</td>\n",
       "      <td>14</td>\n",
       "      <td>14</td>\n",
       "      <td>0</td>\n",
       "      <td>107808.0</td>\n",
       "      <td>COL</td>\n",
       "      <td>Vichada</td>\n",
       "      <td>Colombia</td>\n",
       "      <td>3</td>\n",
       "      <td>1</td>\n",
       "      <td>2</td>\n",
       "      <td>3</td>\n",
       "      <td>1</td>\n",
       "      <td>0</td>\n",
       "      <td>0</td>\n",
       "      <td>4</td>\n",
       "      <td>2</td>\n",
       "      <td>2</td>\n",
       "      <td>2</td>\n",
       "      <td>62.04</td>\n",
       "    </tr>\n",
       "    <tr>\n",
       "      <th>225652</th>\n",
       "      <td>2020-09-17</td>\n",
       "      <td>14</td>\n",
       "      <td>14</td>\n",
       "      <td>0</td>\n",
       "      <td>107808.0</td>\n",
       "      <td>COL</td>\n",
       "      <td>Vichada</td>\n",
       "      <td>Colombia</td>\n",
       "      <td>3</td>\n",
       "      <td>1</td>\n",
       "      <td>2</td>\n",
       "      <td>3</td>\n",
       "      <td>1</td>\n",
       "      <td>0</td>\n",
       "      <td>0</td>\n",
       "      <td>4</td>\n",
       "      <td>2</td>\n",
       "      <td>2</td>\n",
       "      <td>2</td>\n",
       "      <td>62.04</td>\n",
       "    </tr>\n",
       "    <tr>\n",
       "      <th>225653</th>\n",
       "      <td>2020-09-18</td>\n",
       "      <td>14</td>\n",
       "      <td>14</td>\n",
       "      <td>0</td>\n",
       "      <td>107808.0</td>\n",
       "      <td>COL</td>\n",
       "      <td>Vichada</td>\n",
       "      <td>Colombia</td>\n",
       "      <td>3</td>\n",
       "      <td>1</td>\n",
       "      <td>2</td>\n",
       "      <td>3</td>\n",
       "      <td>1</td>\n",
       "      <td>0</td>\n",
       "      <td>0</td>\n",
       "      <td>4</td>\n",
       "      <td>2</td>\n",
       "      <td>2</td>\n",
       "      <td>2</td>\n",
       "      <td>62.04</td>\n",
       "    </tr>\n",
       "    <tr>\n",
       "      <th>225654</th>\n",
       "      <td>2020-09-19</td>\n",
       "      <td>14</td>\n",
       "      <td>14</td>\n",
       "      <td>0</td>\n",
       "      <td>107808.0</td>\n",
       "      <td>COL</td>\n",
       "      <td>Vichada</td>\n",
       "      <td>Colombia</td>\n",
       "      <td>3</td>\n",
       "      <td>1</td>\n",
       "      <td>2</td>\n",
       "      <td>3</td>\n",
       "      <td>1</td>\n",
       "      <td>0</td>\n",
       "      <td>0</td>\n",
       "      <td>4</td>\n",
       "      <td>2</td>\n",
       "      <td>2</td>\n",
       "      <td>2</td>\n",
       "      <td>62.04</td>\n",
       "    </tr>\n",
       "    <tr>\n",
       "      <th>225655</th>\n",
       "      <td>2020-09-20</td>\n",
       "      <td>14</td>\n",
       "      <td>14</td>\n",
       "      <td>0</td>\n",
       "      <td>107808.0</td>\n",
       "      <td>COL</td>\n",
       "      <td>Vichada</td>\n",
       "      <td>Colombia</td>\n",
       "      <td>3</td>\n",
       "      <td>1</td>\n",
       "      <td>2</td>\n",
       "      <td>3</td>\n",
       "      <td>1</td>\n",
       "      <td>0</td>\n",
       "      <td>0</td>\n",
       "      <td>4</td>\n",
       "      <td>2</td>\n",
       "      <td>2</td>\n",
       "      <td>2</td>\n",
       "      <td>62.04</td>\n",
       "    </tr>\n",
       "  </tbody>\n",
       "</table>\n",
       "</div>"
      ],
      "text/plain": [
       "       ObservationDate  Confirmed  Recovered  Deaths  Population ISO3  \\\n",
       "225651      2020-09-16         14         14       0    107808.0  COL   \n",
       "225652      2020-09-17         14         14       0    107808.0  COL   \n",
       "225653      2020-09-18         14         14       0    107808.0  COL   \n",
       "225654      2020-09-19         14         14       0    107808.0  COL   \n",
       "225655      2020-09-20         14         14       0    107808.0  COL   \n",
       "\n",
       "       Province/State Country/Region  school_closing  workplace_closing  \\\n",
       "225651        Vichada       Colombia               3                  1   \n",
       "225652        Vichada       Colombia               3                  1   \n",
       "225653        Vichada       Colombia               3                  1   \n",
       "225654        Vichada       Colombia               3                  1   \n",
       "225655        Vichada       Colombia               3                  1   \n",
       "\n",
       "        cancel_events  gatherings_restrictions  transport_closing  \\\n",
       "225651              2                        3                  1   \n",
       "225652              2                        3                  1   \n",
       "225653              2                        3                  1   \n",
       "225654              2                        3                  1   \n",
       "225655              2                        3                  1   \n",
       "\n",
       "        stay_home_restrictions  internal_movement_restrictions  \\\n",
       "225651                       0                               0   \n",
       "225652                       0                               0   \n",
       "225653                       0                               0   \n",
       "225654                       0                               0   \n",
       "225655                       0                               0   \n",
       "\n",
       "        international_movement_restrictions  information_campaigns  \\\n",
       "225651                                    4                      2   \n",
       "225652                                    4                      2   \n",
       "225653                                    4                      2   \n",
       "225654                                    4                      2   \n",
       "225655                                    4                      2   \n",
       "\n",
       "        testing_policy  contact_tracing  stringency_index  \n",
       "225651               2                2             62.04  \n",
       "225652               2                2             62.04  \n",
       "225653               2                2             62.04  \n",
       "225654               2                2             62.04  \n",
       "225655               2                2             62.04  "
      ]
     },
     "execution_count": 7,
     "metadata": {},
     "output_type": "execute_result"
    }
   ],
   "source": [
    "# Raw data\n",
    "jhu_data.raw.tail()"
   ]
  },
  {
   "cell_type": "code",
   "execution_count": 8,
   "metadata": {
    "collapsed": false
   },
   "outputs": [
    {
     "data": {
      "text/html": [
       "<div>\n",
       "<style scoped>\n",
       "    .dataframe tbody tr th:only-of-type {\n",
       "        vertical-align: middle;\n",
       "    }\n",
       "\n",
       "    .dataframe tbody tr th {\n",
       "        vertical-align: top;\n",
       "    }\n",
       "\n",
       "    .dataframe thead th {\n",
       "        text-align: right;\n",
       "    }\n",
       "</style>\n",
       "<table border=\"1\" class=\"dataframe\">\n",
       "  <thead>\n",
       "    <tr style=\"text-align: right;\">\n",
       "      <th></th>\n",
       "      <th>Date</th>\n",
       "      <th>Country</th>\n",
       "      <th>Province</th>\n",
       "      <th>Confirmed</th>\n",
       "      <th>Infected</th>\n",
       "      <th>Fatal</th>\n",
       "      <th>Recovered</th>\n",
       "    </tr>\n",
       "  </thead>\n",
       "  <tbody>\n",
       "    <tr>\n",
       "      <th>225651</th>\n",
       "      <td>2020-09-16</td>\n",
       "      <td>Colombia</td>\n",
       "      <td>Vichada</td>\n",
       "      <td>14</td>\n",
       "      <td>0</td>\n",
       "      <td>0</td>\n",
       "      <td>14</td>\n",
       "    </tr>\n",
       "    <tr>\n",
       "      <th>225652</th>\n",
       "      <td>2020-09-17</td>\n",
       "      <td>Colombia</td>\n",
       "      <td>Vichada</td>\n",
       "      <td>14</td>\n",
       "      <td>0</td>\n",
       "      <td>0</td>\n",
       "      <td>14</td>\n",
       "    </tr>\n",
       "    <tr>\n",
       "      <th>225653</th>\n",
       "      <td>2020-09-18</td>\n",
       "      <td>Colombia</td>\n",
       "      <td>Vichada</td>\n",
       "      <td>14</td>\n",
       "      <td>0</td>\n",
       "      <td>0</td>\n",
       "      <td>14</td>\n",
       "    </tr>\n",
       "    <tr>\n",
       "      <th>225654</th>\n",
       "      <td>2020-09-19</td>\n",
       "      <td>Colombia</td>\n",
       "      <td>Vichada</td>\n",
       "      <td>14</td>\n",
       "      <td>0</td>\n",
       "      <td>0</td>\n",
       "      <td>14</td>\n",
       "    </tr>\n",
       "    <tr>\n",
       "      <th>225655</th>\n",
       "      <td>2020-09-20</td>\n",
       "      <td>Colombia</td>\n",
       "      <td>Vichada</td>\n",
       "      <td>14</td>\n",
       "      <td>0</td>\n",
       "      <td>0</td>\n",
       "      <td>14</td>\n",
       "    </tr>\n",
       "  </tbody>\n",
       "</table>\n",
       "</div>"
      ],
      "text/plain": [
       "             Date   Country Province  Confirmed  Infected  Fatal  Recovered\n",
       "225651 2020-09-16  Colombia  Vichada         14         0      0         14\n",
       "225652 2020-09-17  Colombia  Vichada         14         0      0         14\n",
       "225653 2020-09-18  Colombia  Vichada         14         0      0         14\n",
       "225654 2020-09-19  Colombia  Vichada         14         0      0         14\n",
       "225655 2020-09-20  Colombia  Vichada         14         0      0         14"
      ]
     },
     "execution_count": 8,
     "metadata": {},
     "output_type": "execute_result"
    }
   ],
   "source": [
    "# Cleaned data\n",
    "jhu_data.cleaned().tail()"
   ]
  },
  {
   "cell_type": "code",
   "execution_count": 9,
   "metadata": {
    "collapsed": false
   },
   "outputs": [
    {
     "data": {
      "text/html": [
       "<div>\n",
       "<style scoped>\n",
       "    .dataframe tbody tr th:only-of-type {\n",
       "        vertical-align: middle;\n",
       "    }\n",
       "\n",
       "    .dataframe tbody tr th {\n",
       "        vertical-align: top;\n",
       "    }\n",
       "\n",
       "    .dataframe thead th {\n",
       "        text-align: right;\n",
       "    }\n",
       "</style>\n",
       "<table border=\"1\" class=\"dataframe\">\n",
       "  <thead>\n",
       "    <tr style=\"text-align: right;\">\n",
       "      <th></th>\n",
       "      <th>Date</th>\n",
       "      <th>Confirmed</th>\n",
       "      <th>Infected</th>\n",
       "      <th>Fatal</th>\n",
       "      <th>Recovered</th>\n",
       "    </tr>\n",
       "  </thead>\n",
       "  <tbody>\n",
       "    <tr>\n",
       "      <th>181</th>\n",
       "      <td>2020-09-16</td>\n",
       "      <td>23437</td>\n",
       "      <td>2445</td>\n",
       "      <td>389</td>\n",
       "      <td>20603</td>\n",
       "    </tr>\n",
       "    <tr>\n",
       "      <th>182</th>\n",
       "      <td>2020-09-17</td>\n",
       "      <td>23608</td>\n",
       "      <td>2382</td>\n",
       "      <td>389</td>\n",
       "      <td>20837</td>\n",
       "    </tr>\n",
       "    <tr>\n",
       "      <th>183</th>\n",
       "      <td>2020-09-18</td>\n",
       "      <td>23828</td>\n",
       "      <td>2417</td>\n",
       "      <td>390</td>\n",
       "      <td>21021</td>\n",
       "    </tr>\n",
       "    <tr>\n",
       "      <th>184</th>\n",
       "      <td>2020-09-19</td>\n",
       "      <td>24046</td>\n",
       "      <td>2448</td>\n",
       "      <td>390</td>\n",
       "      <td>21208</td>\n",
       "    </tr>\n",
       "    <tr>\n",
       "      <th>185</th>\n",
       "      <td>2020-09-20</td>\n",
       "      <td>24208</td>\n",
       "      <td>2610</td>\n",
       "      <td>390</td>\n",
       "      <td>21208</td>\n",
       "    </tr>\n",
       "  </tbody>\n",
       "</table>\n",
       "</div>"
      ],
      "text/plain": [
       "          Date  Confirmed  Infected  Fatal  Recovered\n",
       "181 2020-09-16      23437      2445    389      20603\n",
       "182 2020-09-17      23608      2382    389      20837\n",
       "183 2020-09-18      23828      2417    390      21021\n",
       "184 2020-09-19      24046      2448    390      21208\n",
       "185 2020-09-20      24208      2610    390      21208"
      ]
     },
     "execution_count": 9,
     "metadata": {},
     "output_type": "execute_result"
    }
   ],
   "source": [
    "# Subset for a country\n",
    "jhu_data.subset(\"Japan\", province=\"Tokyo\").tail()"
   ]
  },
  {
   "cell_type": "code",
   "execution_count": 10,
   "metadata": {
    "collapsed": false
   },
   "outputs": [
    {
     "data": {
      "text/html": [
       "<div>\n",
       "<style scoped>\n",
       "    .dataframe tbody tr th:only-of-type {\n",
       "        vertical-align: middle;\n",
       "    }\n",
       "\n",
       "    .dataframe tbody tr th {\n",
       "        vertical-align: top;\n",
       "    }\n",
       "\n",
       "    .dataframe thead th {\n",
       "        text-align: right;\n",
       "    }\n",
       "</style>\n",
       "<table border=\"1\" class=\"dataframe\">\n",
       "  <thead>\n",
       "    <tr style=\"text-align: right;\">\n",
       "      <th></th>\n",
       "      <th>Confirmed</th>\n",
       "      <th>Infected</th>\n",
       "      <th>Fatal</th>\n",
       "      <th>Recovered</th>\n",
       "      <th>Fatal per Confirmed</th>\n",
       "      <th>Recovered per Confirmed</th>\n",
       "      <th>Fatal per (Fatal or Recovered)</th>\n",
       "    </tr>\n",
       "    <tr>\n",
       "      <th>Date</th>\n",
       "      <th></th>\n",
       "      <th></th>\n",
       "      <th></th>\n",
       "      <th></th>\n",
       "      <th></th>\n",
       "      <th></th>\n",
       "      <th></th>\n",
       "    </tr>\n",
       "  </thead>\n",
       "  <tbody>\n",
       "    <tr>\n",
       "      <th>2020-09-16</th>\n",
       "      <td>29620422</td>\n",
       "      <td>8583070</td>\n",
       "      <td>936924</td>\n",
       "      <td>20100428</td>\n",
       "      <td>0.015816</td>\n",
       "      <td>0.339300</td>\n",
       "      <td>0.044536</td>\n",
       "    </tr>\n",
       "    <tr>\n",
       "      <th>2020-09-17</th>\n",
       "      <td>29925470</td>\n",
       "      <td>8677381</td>\n",
       "      <td>942203</td>\n",
       "      <td>20305886</td>\n",
       "      <td>0.015742</td>\n",
       "      <td>0.339274</td>\n",
       "      <td>0.044343</td>\n",
       "    </tr>\n",
       "    <tr>\n",
       "      <th>2020-09-18</th>\n",
       "      <td>30241774</td>\n",
       "      <td>8732072</td>\n",
       "      <td>947929</td>\n",
       "      <td>20561773</td>\n",
       "      <td>0.015673</td>\n",
       "      <td>0.339956</td>\n",
       "      <td>0.044070</td>\n",
       "    </tr>\n",
       "    <tr>\n",
       "      <th>2020-09-19</th>\n",
       "      <td>30502351</td>\n",
       "      <td>8766671</td>\n",
       "      <td>952557</td>\n",
       "      <td>20783123</td>\n",
       "      <td>0.015614</td>\n",
       "      <td>0.340681</td>\n",
       "      <td>0.043825</td>\n",
       "    </tr>\n",
       "    <tr>\n",
       "      <th>2020-09-20</th>\n",
       "      <td>30502880</td>\n",
       "      <td>8837264</td>\n",
       "      <td>952561</td>\n",
       "      <td>20713055</td>\n",
       "      <td>0.015614</td>\n",
       "      <td>0.339526</td>\n",
       "      <td>0.043966</td>\n",
       "    </tr>\n",
       "  </tbody>\n",
       "</table>\n",
       "</div>"
      ],
      "text/plain": [
       "            Confirmed  Infected   Fatal  Recovered  Fatal per Confirmed  \\\n",
       "Date                                                                      \n",
       "2020-09-16   29620422   8583070  936924   20100428             0.015816   \n",
       "2020-09-17   29925470   8677381  942203   20305886             0.015742   \n",
       "2020-09-18   30241774   8732072  947929   20561773             0.015673   \n",
       "2020-09-19   30502351   8766671  952557   20783123             0.015614   \n",
       "2020-09-20   30502880   8837264  952561   20713055             0.015614   \n",
       "\n",
       "            Recovered per Confirmed  Fatal per (Fatal or Recovered)  \n",
       "Date                                                                 \n",
       "2020-09-16                 0.339300                        0.044536  \n",
       "2020-09-17                 0.339274                        0.044343  \n",
       "2020-09-18                 0.339956                        0.044070  \n",
       "2020-09-19                 0.340681                        0.043825  \n",
       "2020-09-20                 0.339526                        0.043966  "
      ]
     },
     "execution_count": 10,
     "metadata": {},
     "output_type": "execute_result"
    }
   ],
   "source": [
    "# Total\n",
    "total_df = jhu_data.total()\n",
    "total_df.tail()"
   ]
  },
  {
   "cell_type": "code",
   "execution_count": 11,
   "metadata": {
    "collapsed": false
   },
   "outputs": [
    {
     "data": {
      "image/png": "[encoded data removed]",
      "text/plain": [
       "<Figure size 648x432 with 1 Axes>"
      ]
     },
     "metadata": {},
     "output_type": "display_data"
    }
   ],
   "source": [
    "# Plot the total values\n",
    "cs.line_plot(total_df[[\"Infected\", \"Fatal\", \"Recovered\"]], \"Total number of cases over time\")"
   ]
  },
  {
   "cell_type": "markdown",
   "metadata": {},
   "source": [
    "### (Optional) Replace the dataset in Japan\n"
   ]
  },
  {
   "cell_type": "code",
   "execution_count": 12,
   "metadata": {
    "collapsed": false
   },
   "outputs": [
    {
     "data": {
      "text/html": [
       "<div>\n",
       "<style scoped>\n",
       "    .dataframe tbody tr th:only-of-type {\n",
       "        vertical-align: middle;\n",
       "    }\n",
       "\n",
       "    .dataframe tbody tr th {\n",
       "        vertical-align: top;\n",
       "    }\n",
       "\n",
       "    .dataframe thead th {\n",
       "        text-align: right;\n",
       "    }\n",
       "</style>\n",
       "<table border=\"1\" class=\"dataframe\">\n",
       "  <thead>\n",
       "    <tr style=\"text-align: right;\">\n",
       "      <th></th>\n",
       "      <th>Date</th>\n",
       "      <th>Confirmed</th>\n",
       "      <th>Infected</th>\n",
       "      <th>Fatal</th>\n",
       "      <th>Recovered</th>\n",
       "    </tr>\n",
       "  </thead>\n",
       "  <tbody>\n",
       "    <tr>\n",
       "      <th>220</th>\n",
       "      <td>2020-09-16</td>\n",
       "      <td>77021</td>\n",
       "      <td>7039</td>\n",
       "      <td>1479</td>\n",
       "      <td>68503</td>\n",
       "    </tr>\n",
       "    <tr>\n",
       "      <th>221</th>\n",
       "      <td>2020-09-17</td>\n",
       "      <td>77512</td>\n",
       "      <td>6801</td>\n",
       "      <td>1488</td>\n",
       "      <td>69223</td>\n",
       "    </tr>\n",
       "    <tr>\n",
       "      <th>222</th>\n",
       "      <td>2020-09-18</td>\n",
       "      <td>78084</td>\n",
       "      <td>6721</td>\n",
       "      <td>1498</td>\n",
       "      <td>69865</td>\n",
       "    </tr>\n",
       "    <tr>\n",
       "      <th>223</th>\n",
       "      <td>2020-09-19</td>\n",
       "      <td>78685</td>\n",
       "      <td>6747</td>\n",
       "      <td>1502</td>\n",
       "      <td>70436</td>\n",
       "    </tr>\n",
       "    <tr>\n",
       "      <th>224</th>\n",
       "      <td>2020-09-20</td>\n",
       "      <td>79165</td>\n",
       "      <td>77659</td>\n",
       "      <td>1506</td>\n",
       "      <td>69492</td>\n",
       "    </tr>\n",
       "  </tbody>\n",
       "</table>\n",
       "</div>"
      ],
      "text/plain": [
       "          Date  Confirmed  Infected  Fatal  Recovered\n",
       "220 2020-09-16      77021      7039   1479      68503\n",
       "221 2020-09-17      77512      6801   1488      69223\n",
       "222 2020-09-18      78084      6721   1498      69865\n",
       "223 2020-09-19      78685      6747   1502      70436\n",
       "224 2020-09-20      79165     77659   1506      69492"
      ]
     },
     "execution_count": 12,
     "metadata": {},
     "output_type": "execute_result"
    }
   ],
   "source": [
    "jhu_data.subset(\"Japan\").tail()"
   ]
  },
  {
   "cell_type": "code",
   "execution_count": 13,
   "metadata": {
    "collapsed": false,
    "tags": []
   },
   "outputs": [
    {
     "name": "stdout",
     "output_type": "stream",
     "text": [
      "Lisphilar (2020), COVID-19 dataset in Japan, GitHub repository, https://github.com/lisphilar/covid19-sir/data/japan"
     ]
    },
    {
     "name": "stdout",
     "output_type": "stream",
     "text": [
      "\n"
     ]
    }
   ],
   "source": [
    "japan_data = data_loader.japan()\n",
    "print(japan_data.citation)"
   ]
  },
  {
   "cell_type": "code",
   "execution_count": 14,
   "metadata": {
    "collapsed": false
   },
   "outputs": [
    {
     "data": {
      "text/html": [
       "<div>\n",
       "<style scoped>\n",
       "    .dataframe tbody tr th:only-of-type {\n",
       "        vertical-align: middle;\n",
       "    }\n",
       "\n",
       "    .dataframe tbody tr th {\n",
       "        vertical-align: top;\n",
       "    }\n",
       "\n",
       "    .dataframe thead th {\n",
       "        text-align: right;\n",
       "    }\n",
       "</style>\n",
       "<table border=\"1\" class=\"dataframe\">\n",
       "  <thead>\n",
       "    <tr style=\"text-align: right;\">\n",
       "      <th></th>\n",
       "      <th>Date</th>\n",
       "      <th>Confirmed</th>\n",
       "      <th>Infected</th>\n",
       "      <th>Fatal</th>\n",
       "      <th>Recovered</th>\n",
       "    </tr>\n",
       "  </thead>\n",
       "  <tbody>\n",
       "    <tr>\n",
       "      <th>218</th>\n",
       "      <td>2020-09-16</td>\n",
       "      <td>76448</td>\n",
       "      <td>6455</td>\n",
       "      <td>1461</td>\n",
       "      <td>68532</td>\n",
       "    </tr>\n",
       "    <tr>\n",
       "      <th>219</th>\n",
       "      <td>2020-09-17</td>\n",
       "      <td>77009</td>\n",
       "      <td>6283</td>\n",
       "      <td>1473</td>\n",
       "      <td>69253</td>\n",
       "    </tr>\n",
       "    <tr>\n",
       "      <th>220</th>\n",
       "      <td>2020-09-18</td>\n",
       "      <td>77494</td>\n",
       "      <td>6113</td>\n",
       "      <td>1482</td>\n",
       "      <td>69899</td>\n",
       "    </tr>\n",
       "    <tr>\n",
       "      <th>221</th>\n",
       "      <td>2020-09-19</td>\n",
       "      <td>78073</td>\n",
       "      <td>6083</td>\n",
       "      <td>1495</td>\n",
       "      <td>70495</td>\n",
       "    </tr>\n",
       "    <tr>\n",
       "      <th>222</th>\n",
       "      <td>2020-09-20</td>\n",
       "      <td>78657</td>\n",
       "      <td>6127</td>\n",
       "      <td>1500</td>\n",
       "      <td>71030</td>\n",
       "    </tr>\n",
       "  </tbody>\n",
       "</table>\n",
       "</div>"
      ],
      "text/plain": [
       "          Date  Confirmed  Infected  Fatal  Recovered\n",
       "218 2020-09-16      76448      6455   1461      68532\n",
       "219 2020-09-17      77009      6283   1473      69253\n",
       "220 2020-09-18      77494      6113   1482      69899\n",
       "221 2020-09-19      78073      6083   1495      70495\n",
       "222 2020-09-20      78657      6127   1500      71030"
      ]
     },
     "execution_count": 14,
     "metadata": {},
     "output_type": "execute_result"
    }
   ],
   "source": [
    "jhu_data.replace(japan_data)\n",
    "jhu_data.subset(\"Japan\").tail()"
   ]
  },
  {
   "cell_type": "markdown",
   "metadata": {},
   "source": [
    "### Population in each country"
   ]
  },
  {
   "cell_type": "code",
   "execution_count": 15,
   "metadata": {
    "collapsed": false,
    "tags": []
   },
   "outputs": [
    {
     "name": "stdout",
     "output_type": "stream",
     "text": [
      "(Secondary source) Guidotti, E., Ardia, D., (2020), \"COVID-19 Data Hub\", Journal of Open Source Software 5(51):2376, doi: 10.21105/joss.02376.\n",
      "We can get Citation list of primary sources with DataLoader(...).covid19dh_citation"
     ]
    },
    {
     "name": "stdout",
     "output_type": "stream",
     "text": [
      "\n"
     ]
    }
   ],
   "source": [
    "# Description/citation\n",
    "print(population_data.citation)"
   ]
  },
  {
   "cell_type": "code",
   "execution_count": 16,
   "metadata": {
    "collapsed": false
   },
   "outputs": [
    {
     "data": {
      "text/html": [
       "<div>\n",
       "<style scoped>\n",
       "    .dataframe tbody tr th:only-of-type {\n",
       "        vertical-align: middle;\n",
       "    }\n",
       "\n",
       "    .dataframe tbody tr th {\n",
       "        vertical-align: top;\n",
       "    }\n",
       "\n",
       "    .dataframe thead th {\n",
       "        text-align: right;\n",
       "    }\n",
       "</style>\n",
       "<table border=\"1\" class=\"dataframe\">\n",
       "  <thead>\n",
       "    <tr style=\"text-align: right;\">\n",
       "      <th></th>\n",
       "      <th>ObservationDate</th>\n",
       "      <th>Confirmed</th>\n",
       "      <th>Recovered</th>\n",
       "      <th>Deaths</th>\n",
       "      <th>Population</th>\n",
       "      <th>ISO3</th>\n",
       "      <th>Province/State</th>\n",
       "      <th>Country/Region</th>\n",
       "      <th>school_closing</th>\n",
       "      <th>workplace_closing</th>\n",
       "      <th>cancel_events</th>\n",
       "      <th>gatherings_restrictions</th>\n",
       "      <th>transport_closing</th>\n",
       "      <th>stay_home_restrictions</th>\n",
       "      <th>internal_movement_restrictions</th>\n",
       "      <th>international_movement_restrictions</th>\n",
       "      <th>information_campaigns</th>\n",
       "      <th>testing_policy</th>\n",
       "      <th>contact_tracing</th>\n",
       "      <th>stringency_index</th>\n",
       "    </tr>\n",
       "  </thead>\n",
       "  <tbody>\n",
       "    <tr>\n",
       "      <th>225651</th>\n",
       "      <td>2020-09-16</td>\n",
       "      <td>14</td>\n",
       "      <td>14</td>\n",
       "      <td>0</td>\n",
       "      <td>107808.0</td>\n",
       "      <td>COL</td>\n",
       "      <td>Vichada</td>\n",
       "      <td>Colombia</td>\n",
       "      <td>3</td>\n",
       "      <td>1</td>\n",
       "      <td>2</td>\n",
       "      <td>3</td>\n",
       "      <td>1</td>\n",
       "      <td>0</td>\n",
       "      <td>0</td>\n",
       "      <td>4</td>\n",
       "      <td>2</td>\n",
       "      <td>2</td>\n",
       "      <td>2</td>\n",
       "      <td>62.04</td>\n",
       "    </tr>\n",
       "    <tr>\n",
       "      <th>225652</th>\n",
       "      <td>2020-09-17</td>\n",
       "      <td>14</td>\n",
       "      <td>14</td>\n",
       "      <td>0</td>\n",
       "      <td>107808.0</td>\n",
       "      <td>COL</td>\n",
       "      <td>Vichada</td>\n",
       "      <td>Colombia</td>\n",
       "      <td>3</td>\n",
       "      <td>1</td>\n",
       "      <td>2</td>\n",
       "      <td>3</td>\n",
       "      <td>1</td>\n",
       "      <td>0</td>\n",
       "      <td>0</td>\n",
       "      <td>4</td>\n",
       "      <td>2</td>\n",
       "      <td>2</td>\n",
       "      <td>2</td>\n",
       "      <td>62.04</td>\n",
       "    </tr>\n",
       "    <tr>\n",
       "      <th>225653</th>\n",
       "      <td>2020-09-18</td>\n",
       "      <td>14</td>\n",
       "      <td>14</td>\n",
       "      <td>0</td>\n",
       "      <td>107808.0</td>\n",
       "      <td>COL</td>\n",
       "      <td>Vichada</td>\n",
       "      <td>Colombia</td>\n",
       "      <td>3</td>\n",
       "      <td>1</td>\n",
       "      <td>2</td>\n",
       "      <td>3</td>\n",
       "      <td>1</td>\n",
       "      <td>0</td>\n",
       "      <td>0</td>\n",
       "      <td>4</td>\n",
       "      <td>2</td>\n",
       "      <td>2</td>\n",
       "      <td>2</td>\n",
       "      <td>62.04</td>\n",
       "    </tr>\n",
       "    <tr>\n",
       "      <th>225654</th>\n",
       "      <td>2020-09-19</td>\n",
       "      <td>14</td>\n",
       "      <td>14</td>\n",
       "      <td>0</td>\n",
       "      <td>107808.0</td>\n",
       "      <td>COL</td>\n",
       "      <td>Vichada</td>\n",
       "      <td>Colombia</td>\n",
       "      <td>3</td>\n",
       "      <td>1</td>\n",
       "      <td>2</td>\n",
       "      <td>3</td>\n",
       "      <td>1</td>\n",
       "      <td>0</td>\n",
       "      <td>0</td>\n",
       "      <td>4</td>\n",
       "      <td>2</td>\n",
       "      <td>2</td>\n",
       "      <td>2</td>\n",
       "      <td>62.04</td>\n",
       "    </tr>\n",
       "    <tr>\n",
       "      <th>225655</th>\n",
       "      <td>2020-09-20</td>\n",
       "      <td>14</td>\n",
       "      <td>14</td>\n",
       "      <td>0</td>\n",
       "      <td>107808.0</td>\n",
       "      <td>COL</td>\n",
       "      <td>Vichada</td>\n",
       "      <td>Colombia</td>\n",
       "      <td>3</td>\n",
       "      <td>1</td>\n",
       "      <td>2</td>\n",
       "      <td>3</td>\n",
       "      <td>1</td>\n",
       "      <td>0</td>\n",
       "      <td>0</td>\n",
       "      <td>4</td>\n",
       "      <td>2</td>\n",
       "      <td>2</td>\n",
       "      <td>2</td>\n",
       "      <td>62.04</td>\n",
       "    </tr>\n",
       "  </tbody>\n",
       "</table>\n",
       "</div>"
      ],
      "text/plain": [
       "       ObservationDate  Confirmed  Recovered  Deaths  Population ISO3  \\\n",
       "225651      2020-09-16         14         14       0    107808.0  COL   \n",
       "225652      2020-09-17         14         14       0    107808.0  COL   \n",
       "225653      2020-09-18         14         14       0    107808.0  COL   \n",
       "225654      2020-09-19         14         14       0    107808.0  COL   \n",
       "225655      2020-09-20         14         14       0    107808.0  COL   \n",
       "\n",
       "       Province/State Country/Region  school_closing  workplace_closing  \\\n",
       "225651        Vichada       Colombia               3                  1   \n",
       "225652        Vichada       Colombia               3                  1   \n",
       "225653        Vichada       Colombia               3                  1   \n",
       "225654        Vichada       Colombia               3                  1   \n",
       "225655        Vichada       Colombia               3                  1   \n",
       "\n",
       "        cancel_events  gatherings_restrictions  transport_closing  \\\n",
       "225651              2                        3                  1   \n",
       "225652              2                        3                  1   \n",
       "225653              2                        3                  1   \n",
       "225654              2                        3                  1   \n",
       "225655              2                        3                  1   \n",
       "\n",
       "        stay_home_restrictions  internal_movement_restrictions  \\\n",
       "225651                       0                               0   \n",
       "225652                       0                               0   \n",
       "225653                       0                               0   \n",
       "225654                       0                               0   \n",
       "225655                       0                               0   \n",
       "\n",
       "        international_movement_restrictions  information_campaigns  \\\n",
       "225651                                    4                      2   \n",
       "225652                                    4                      2   \n",
       "225653                                    4                      2   \n",
       "225654                                    4                      2   \n",
       "225655                                    4                      2   \n",
       "\n",
       "        testing_policy  contact_tracing  stringency_index  \n",
       "225651               2                2             62.04  \n",
       "225652               2                2             62.04  \n",
       "225653               2                2             62.04  \n",
       "225654               2                2             62.04  \n",
       "225655               2                2             62.04  "
      ]
     },
     "execution_count": 16,
     "metadata": {},
     "output_type": "execute_result"
    }
   ],
   "source": [
    "# Raw data (the same as jhu_data)\n",
    "population_data.raw.tail()"
   ]
  },
  {
   "cell_type": "code",
   "execution_count": 17,
   "metadata": {
    "collapsed": false
   },
   "outputs": [
    {
     "data": {
      "text/html": [
       "<div>\n",
       "<style scoped>\n",
       "    .dataframe tbody tr th:only-of-type {\n",
       "        vertical-align: middle;\n",
       "    }\n",
       "\n",
       "    .dataframe tbody tr th {\n",
       "        vertical-align: top;\n",
       "    }\n",
       "\n",
       "    .dataframe thead th {\n",
       "        text-align: right;\n",
       "    }\n",
       "</style>\n",
       "<table border=\"1\" class=\"dataframe\">\n",
       "  <thead>\n",
       "    <tr style=\"text-align: right;\">\n",
       "      <th></th>\n",
       "      <th>ISO3</th>\n",
       "      <th>Country</th>\n",
       "      <th>Province</th>\n",
       "      <th>Date</th>\n",
       "      <th>Population</th>\n",
       "    </tr>\n",
       "  </thead>\n",
       "  <tbody>\n",
       "    <tr>\n",
       "      <th>205401</th>\n",
       "      <td>COL</td>\n",
       "      <td>Colombia</td>\n",
       "      <td>Vichada</td>\n",
       "      <td>2020-09-16</td>\n",
       "      <td>107808</td>\n",
       "    </tr>\n",
       "    <tr>\n",
       "      <th>205402</th>\n",
       "      <td>COL</td>\n",
       "      <td>Colombia</td>\n",
       "      <td>Vichada</td>\n",
       "      <td>2020-09-17</td>\n",
       "      <td>107808</td>\n",
       "    </tr>\n",
       "    <tr>\n",
       "      <th>205403</th>\n",
       "      <td>COL</td>\n",
       "      <td>Colombia</td>\n",
       "      <td>Vichada</td>\n",
       "      <td>2020-09-18</td>\n",
       "      <td>107808</td>\n",
       "    </tr>\n",
       "    <tr>\n",
       "      <th>205404</th>\n",
       "      <td>COL</td>\n",
       "      <td>Colombia</td>\n",
       "      <td>Vichada</td>\n",
       "      <td>2020-09-19</td>\n",
       "      <td>107808</td>\n",
       "    </tr>\n",
       "    <tr>\n",
       "      <th>205405</th>\n",
       "      <td>COL</td>\n",
       "      <td>Colombia</td>\n",
       "      <td>Vichada</td>\n",
       "      <td>2020-09-20</td>\n",
       "      <td>107808</td>\n",
       "    </tr>\n",
       "  </tbody>\n",
       "</table>\n",
       "</div>"
      ],
      "text/plain": [
       "       ISO3   Country Province       Date  Population\n",
       "205401  COL  Colombia  Vichada 2020-09-16      107808\n",
       "205402  COL  Colombia  Vichada 2020-09-17      107808\n",
       "205403  COL  Colombia  Vichada 2020-09-18      107808\n",
       "205404  COL  Colombia  Vichada 2020-09-19      107808\n",
       "205405  COL  Colombia  Vichada 2020-09-20      107808"
      ]
     },
     "execution_count": 17,
     "metadata": {},
     "output_type": "execute_result"
    }
   ],
   "source": [
    "# Cleaned data\n",
    "population_data.cleaned().tail()"
   ]
  },
  {
   "cell_type": "code",
   "execution_count": 18,
   "metadata": {
    "collapsed": false
   },
   "outputs": [
    {
     "data": {
      "text/plain": [
       "126529100"
      ]
     },
     "execution_count": 18,
     "metadata": {},
     "output_type": "execute_result"
    }
   ],
   "source": [
    "population_data.value(\"Japan\", province=None)"
   ]
  },
  {
   "cell_type": "code",
   "execution_count": 19,
   "metadata": {
    "collapsed": false
   },
   "outputs": [
    {
     "data": {
      "text/plain": [
       "14002973"
      ]
     },
     "execution_count": 19,
     "metadata": {},
     "output_type": "execute_result"
    }
   ],
   "source": [
    "# Register population value of Tokyo in Japan\n",
    "# https://www.metro.tokyo.lg.jp/tosei/hodohappyo/press/2020/06/11/07.html\n",
    "population_data.update(14_002_973, \"Japan\", province=\"Tokyo\")\n",
    "population_data.value(\"Japan\", province=\"Tokyo\")"
   ]
  },
  {
   "cell_type": "markdown",
   "metadata": {},
   "source": [
    "### Government Response Tracker (OxCGRT)"
   ]
  },
  {
   "cell_type": "code",
   "execution_count": 20,
   "metadata": {
    "collapsed": false,
    "tags": []
   },
   "outputs": [
    {
     "name": "stdout",
     "output_type": "stream",
     "text": [
      "(Secondary source) Guidotti, E., Ardia, D., (2020), \"COVID-19 Data Hub\", Journal of Open Source Software 5(51):2376, doi: 10.21105/joss.02376.\n",
      "We can get Citation list of primary sources with DataLoader(...).covid19dh_citation"
     ]
    },
    {
     "name": "stdout",
     "output_type": "stream",
     "text": [
      "\n"
     ]
    }
   ],
   "source": [
    "# Description/citation\n",
    "print(oxcgrt_data.citation)"
   ]
  },
  {
   "cell_type": "code",
   "execution_count": 21,
   "metadata": {
    "collapsed": false
   },
   "outputs": [
    {
     "data": {
      "text/html": [
       "<div>\n",
       "<style scoped>\n",
       "    .dataframe tbody tr th:only-of-type {\n",
       "        vertical-align: middle;\n",
       "    }\n",
       "\n",
       "    .dataframe tbody tr th {\n",
       "        vertical-align: top;\n",
       "    }\n",
       "\n",
       "    .dataframe thead th {\n",
       "        text-align: right;\n",
       "    }\n",
       "</style>\n",
       "<table border=\"1\" class=\"dataframe\">\n",
       "  <thead>\n",
       "    <tr style=\"text-align: right;\">\n",
       "      <th></th>\n",
       "      <th>ObservationDate</th>\n",
       "      <th>Confirmed</th>\n",
       "      <th>Recovered</th>\n",
       "      <th>Deaths</th>\n",
       "      <th>Population</th>\n",
       "      <th>ISO3</th>\n",
       "      <th>Province/State</th>\n",
       "      <th>Country/Region</th>\n",
       "      <th>school_closing</th>\n",
       "      <th>workplace_closing</th>\n",
       "      <th>cancel_events</th>\n",
       "      <th>gatherings_restrictions</th>\n",
       "      <th>transport_closing</th>\n",
       "      <th>stay_home_restrictions</th>\n",
       "      <th>internal_movement_restrictions</th>\n",
       "      <th>international_movement_restrictions</th>\n",
       "      <th>information_campaigns</th>\n",
       "      <th>testing_policy</th>\n",
       "      <th>contact_tracing</th>\n",
       "      <th>stringency_index</th>\n",
       "    </tr>\n",
       "  </thead>\n",
       "  <tbody>\n",
       "    <tr>\n",
       "      <th>225651</th>\n",
       "      <td>2020-09-16</td>\n",
       "      <td>14</td>\n",
       "      <td>14</td>\n",
       "      <td>0</td>\n",
       "      <td>107808.0</td>\n",
       "      <td>COL</td>\n",
       "      <td>Vichada</td>\n",
       "      <td>Colombia</td>\n",
       "      <td>3</td>\n",
       "      <td>1</td>\n",
       "      <td>2</td>\n",
       "      <td>3</td>\n",
       "      <td>1</td>\n",
       "      <td>0</td>\n",
       "      <td>0</td>\n",
       "      <td>4</td>\n",
       "      <td>2</td>\n",
       "      <td>2</td>\n",
       "      <td>2</td>\n",
       "      <td>62.04</td>\n",
       "    </tr>\n",
       "    <tr>\n",
       "      <th>225652</th>\n",
       "      <td>2020-09-17</td>\n",
       "      <td>14</td>\n",
       "      <td>14</td>\n",
       "      <td>0</td>\n",
       "      <td>107808.0</td>\n",
       "      <td>COL</td>\n",
       "      <td>Vichada</td>\n",
       "      <td>Colombia</td>\n",
       "      <td>3</td>\n",
       "      <td>1</td>\n",
       "      <td>2</td>\n",
       "      <td>3</td>\n",
       "      <td>1</td>\n",
       "      <td>0</td>\n",
       "      <td>0</td>\n",
       "      <td>4</td>\n",
       "      <td>2</td>\n",
       "      <td>2</td>\n",
       "      <td>2</td>\n",
       "      <td>62.04</td>\n",
       "    </tr>\n",
       "    <tr>\n",
       "      <th>225653</th>\n",
       "      <td>2020-09-18</td>\n",
       "      <td>14</td>\n",
       "      <td>14</td>\n",
       "      <td>0</td>\n",
       "      <td>107808.0</td>\n",
       "      <td>COL</td>\n",
       "      <td>Vichada</td>\n",
       "      <td>Colombia</td>\n",
       "      <td>3</td>\n",
       "      <td>1</td>\n",
       "      <td>2</td>\n",
       "      <td>3</td>\n",
       "      <td>1</td>\n",
       "      <td>0</td>\n",
       "      <td>0</td>\n",
       "      <td>4</td>\n",
       "      <td>2</td>\n",
       "      <td>2</td>\n",
       "      <td>2</td>\n",
       "      <td>62.04</td>\n",
       "    </tr>\n",
       "    <tr>\n",
       "      <th>225654</th>\n",
       "      <td>2020-09-19</td>\n",
       "      <td>14</td>\n",
       "      <td>14</td>\n",
       "      <td>0</td>\n",
       "      <td>107808.0</td>\n",
       "      <td>COL</td>\n",
       "      <td>Vichada</td>\n",
       "      <td>Colombia</td>\n",
       "      <td>3</td>\n",
       "      <td>1</td>\n",
       "      <td>2</td>\n",
       "      <td>3</td>\n",
       "      <td>1</td>\n",
       "      <td>0</td>\n",
       "      <td>0</td>\n",
       "      <td>4</td>\n",
       "      <td>2</td>\n",
       "      <td>2</td>\n",
       "      <td>2</td>\n",
       "      <td>62.04</td>\n",
       "    </tr>\n",
       "    <tr>\n",
       "      <th>225655</th>\n",
       "      <td>2020-09-20</td>\n",
       "      <td>14</td>\n",
       "      <td>14</td>\n",
       "      <td>0</td>\n",
       "      <td>107808.0</td>\n",
       "      <td>COL</td>\n",
       "      <td>Vichada</td>\n",
       "      <td>Colombia</td>\n",
       "      <td>3</td>\n",
       "      <td>1</td>\n",
       "      <td>2</td>\n",
       "      <td>3</td>\n",
       "      <td>1</td>\n",
       "      <td>0</td>\n",
       "      <td>0</td>\n",
       "      <td>4</td>\n",
       "      <td>2</td>\n",
       "      <td>2</td>\n",
       "      <td>2</td>\n",
       "      <td>62.04</td>\n",
       "    </tr>\n",
       "  </tbody>\n",
       "</table>\n",
       "</div>"
      ],
      "text/plain": [
       "       ObservationDate  Confirmed  Recovered  Deaths  Population ISO3  \\\n",
       "225651      2020-09-16         14         14       0    107808.0  COL   \n",
       "225652      2020-09-17         14         14       0    107808.0  COL   \n",
       "225653      2020-09-18         14         14       0    107808.0  COL   \n",
       "225654      2020-09-19         14         14       0    107808.0  COL   \n",
       "225655      2020-09-20         14         14       0    107808.0  COL   \n",
       "\n",
       "       Province/State Country/Region  school_closing  workplace_closing  \\\n",
       "225651        Vichada       Colombia               3                  1   \n",
       "225652        Vichada       Colombia               3                  1   \n",
       "225653        Vichada       Colombia               3                  1   \n",
       "225654        Vichada       Colombia               3                  1   \n",
       "225655        Vichada       Colombia               3                  1   \n",
       "\n",
       "        cancel_events  gatherings_restrictions  transport_closing  \\\n",
       "225651              2                        3                  1   \n",
       "225652              2                        3                  1   \n",
       "225653              2                        3                  1   \n",
       "225654              2                        3                  1   \n",
       "225655              2                        3                  1   \n",
       "\n",
       "        stay_home_restrictions  internal_movement_restrictions  \\\n",
       "225651                       0                               0   \n",
       "225652                       0                               0   \n",
       "225653                       0                               0   \n",
       "225654                       0                               0   \n",
       "225655                       0                               0   \n",
       "\n",
       "        international_movement_restrictions  information_campaigns  \\\n",
       "225651                                    4                      2   \n",
       "225652                                    4                      2   \n",
       "225653                                    4                      2   \n",
       "225654                                    4                      2   \n",
       "225655                                    4                      2   \n",
       "\n",
       "        testing_policy  contact_tracing  stringency_index  \n",
       "225651               2                2             62.04  \n",
       "225652               2                2             62.04  \n",
       "225653               2                2             62.04  \n",
       "225654               2                2             62.04  \n",
       "225655               2                2             62.04  "
      ]
     },
     "execution_count": 21,
     "metadata": {},
     "output_type": "execute_result"
    }
   ],
   "source": [
    "# Raw data (the same as jhu_data)\n",
    "oxcgrt_data.raw.tail()"
   ]
  },
  {
   "cell_type": "code",
   "execution_count": 22,
   "metadata": {
    "collapsed": false
   },
   "outputs": [
    {
     "data": {
      "text/html": [
       "<div>\n",
       "<style scoped>\n",
       "    .dataframe tbody tr th:only-of-type {\n",
       "        vertical-align: middle;\n",
       "    }\n",
       "\n",
       "    .dataframe tbody tr th {\n",
       "        vertical-align: top;\n",
       "    }\n",
       "\n",
       "    .dataframe thead th {\n",
       "        text-align: right;\n",
       "    }\n",
       "</style>\n",
       "<table border=\"1\" class=\"dataframe\">\n",
       "  <thead>\n",
       "    <tr style=\"text-align: right;\">\n",
       "      <th></th>\n",
       "      <th>Date</th>\n",
       "      <th>Country</th>\n",
       "      <th>ISO3</th>\n",
       "      <th>School_closing</th>\n",
       "      <th>Workplace_closing</th>\n",
       "      <th>Cancel_events</th>\n",
       "      <th>Gatherings_restrictions</th>\n",
       "      <th>Transport_closing</th>\n",
       "      <th>Stay_home_restrictions</th>\n",
       "      <th>Internal_movement_restrictions</th>\n",
       "      <th>International_movement_restrictions</th>\n",
       "      <th>Information_campaigns</th>\n",
       "      <th>Testing_policy</th>\n",
       "      <th>Contact_tracing</th>\n",
       "      <th>Stringency_index</th>\n",
       "    </tr>\n",
       "  </thead>\n",
       "  <tbody>\n",
       "    <tr>\n",
       "      <th>225651</th>\n",
       "      <td>2020-09-16</td>\n",
       "      <td>Colombia</td>\n",
       "      <td>COL</td>\n",
       "      <td>3</td>\n",
       "      <td>1</td>\n",
       "      <td>2</td>\n",
       "      <td>3</td>\n",
       "      <td>1</td>\n",
       "      <td>0</td>\n",
       "      <td>0</td>\n",
       "      <td>4</td>\n",
       "      <td>2</td>\n",
       "      <td>2</td>\n",
       "      <td>2</td>\n",
       "      <td>62.04</td>\n",
       "    </tr>\n",
       "    <tr>\n",
       "      <th>225652</th>\n",
       "      <td>2020-09-17</td>\n",
       "      <td>Colombia</td>\n",
       "      <td>COL</td>\n",
       "      <td>3</td>\n",
       "      <td>1</td>\n",
       "      <td>2</td>\n",
       "      <td>3</td>\n",
       "      <td>1</td>\n",
       "      <td>0</td>\n",
       "      <td>0</td>\n",
       "      <td>4</td>\n",
       "      <td>2</td>\n",
       "      <td>2</td>\n",
       "      <td>2</td>\n",
       "      <td>62.04</td>\n",
       "    </tr>\n",
       "    <tr>\n",
       "      <th>225653</th>\n",
       "      <td>2020-09-18</td>\n",
       "      <td>Colombia</td>\n",
       "      <td>COL</td>\n",
       "      <td>3</td>\n",
       "      <td>1</td>\n",
       "      <td>2</td>\n",
       "      <td>3</td>\n",
       "      <td>1</td>\n",
       "      <td>0</td>\n",
       "      <td>0</td>\n",
       "      <td>4</td>\n",
       "      <td>2</td>\n",
       "      <td>2</td>\n",
       "      <td>2</td>\n",
       "      <td>62.04</td>\n",
       "    </tr>\n",
       "    <tr>\n",
       "      <th>225654</th>\n",
       "      <td>2020-09-19</td>\n",
       "      <td>Colombia</td>\n",
       "      <td>COL</td>\n",
       "      <td>3</td>\n",
       "      <td>1</td>\n",
       "      <td>2</td>\n",
       "      <td>3</td>\n",
       "      <td>1</td>\n",
       "      <td>0</td>\n",
       "      <td>0</td>\n",
       "      <td>4</td>\n",
       "      <td>2</td>\n",
       "      <td>2</td>\n",
       "      <td>2</td>\n",
       "      <td>62.04</td>\n",
       "    </tr>\n",
       "    <tr>\n",
       "      <th>225655</th>\n",
       "      <td>2020-09-20</td>\n",
       "      <td>Colombia</td>\n",
       "      <td>COL</td>\n",
       "      <td>3</td>\n",
       "      <td>1</td>\n",
       "      <td>2</td>\n",
       "      <td>3</td>\n",
       "      <td>1</td>\n",
       "      <td>0</td>\n",
       "      <td>0</td>\n",
       "      <td>4</td>\n",
       "      <td>2</td>\n",
       "      <td>2</td>\n",
       "      <td>2</td>\n",
       "      <td>62.04</td>\n",
       "    </tr>\n",
       "  </tbody>\n",
       "</table>\n",
       "</div>"
      ],
      "text/plain": [
       "             Date   Country ISO3  School_closing  Workplace_closing  \\\n",
       "225651 2020-09-16  Colombia  COL               3                  1   \n",
       "225652 2020-09-17  Colombia  COL               3                  1   \n",
       "225653 2020-09-18  Colombia  COL               3                  1   \n",
       "225654 2020-09-19  Colombia  COL               3                  1   \n",
       "225655 2020-09-20  Colombia  COL               3                  1   \n",
       "\n",
       "        Cancel_events  Gatherings_restrictions  Transport_closing  \\\n",
       "225651              2                        3                  1   \n",
       "225652              2                        3                  1   \n",
       "225653              2                        3                  1   \n",
       "225654              2                        3                  1   \n",
       "225655              2                        3                  1   \n",
       "\n",
       "        Stay_home_restrictions  Internal_movement_restrictions  \\\n",
       "225651                       0                               0   \n",
       "225652                       0                               0   \n",
       "225653                       0                               0   \n",
       "225654                       0                               0   \n",
       "225655                       0                               0   \n",
       "\n",
       "        International_movement_restrictions  Information_campaigns  \\\n",
       "225651                                    4                      2   \n",
       "225652                                    4                      2   \n",
       "225653                                    4                      2   \n",
       "225654                                    4                      2   \n",
       "225655                                    4                      2   \n",
       "\n",
       "        Testing_policy  Contact_tracing  Stringency_index  \n",
       "225651               2                2             62.04  \n",
       "225652               2                2             62.04  \n",
       "225653               2                2             62.04  \n",
       "225654               2                2             62.04  \n",
       "225655               2                2             62.04  "
      ]
     },
     "execution_count": 22,
     "metadata": {},
     "output_type": "execute_result"
    }
   ],
   "source": [
    "# Cleaned data\n",
    "oxcgrt_data.cleaned().tail()"
   ]
  },
  {
   "cell_type": "code",
   "execution_count": 23,
   "metadata": {
    "collapsed": false
   },
   "outputs": [
    {
     "data": {
      "text/html": [
       "<div>\n",
       "<style scoped>\n",
       "    .dataframe tbody tr th:only-of-type {\n",
       "        vertical-align: middle;\n",
       "    }\n",
       "\n",
       "    .dataframe tbody tr th {\n",
       "        vertical-align: top;\n",
       "    }\n",
       "\n",
       "    .dataframe thead th {\n",
       "        text-align: right;\n",
       "    }\n",
       "</style>\n",
       "<table border=\"1\" class=\"dataframe\">\n",
       "  <thead>\n",
       "    <tr style=\"text-align: right;\">\n",
       "      <th></th>\n",
       "      <th>Date</th>\n",
       "      <th>School_closing</th>\n",
       "      <th>Workplace_closing</th>\n",
       "      <th>Cancel_events</th>\n",
       "      <th>Gatherings_restrictions</th>\n",
       "      <th>Transport_closing</th>\n",
       "      <th>Stay_home_restrictions</th>\n",
       "      <th>Internal_movement_restrictions</th>\n",
       "      <th>International_movement_restrictions</th>\n",
       "      <th>Information_campaigns</th>\n",
       "      <th>Testing_policy</th>\n",
       "      <th>Contact_tracing</th>\n",
       "      <th>Stringency_index</th>\n",
       "    </tr>\n",
       "  </thead>\n",
       "  <tbody>\n",
       "    <tr>\n",
       "      <th>256</th>\n",
       "      <td>2020-09-16</td>\n",
       "      <td>1</td>\n",
       "      <td>1</td>\n",
       "      <td>1</td>\n",
       "      <td>0</td>\n",
       "      <td>0</td>\n",
       "      <td>1</td>\n",
       "      <td>1</td>\n",
       "      <td>3</td>\n",
       "      <td>2</td>\n",
       "      <td>2</td>\n",
       "      <td>1</td>\n",
       "      <td>37.04</td>\n",
       "    </tr>\n",
       "    <tr>\n",
       "      <th>257</th>\n",
       "      <td>2020-09-17</td>\n",
       "      <td>1</td>\n",
       "      <td>1</td>\n",
       "      <td>1</td>\n",
       "      <td>0</td>\n",
       "      <td>0</td>\n",
       "      <td>1</td>\n",
       "      <td>1</td>\n",
       "      <td>3</td>\n",
       "      <td>2</td>\n",
       "      <td>2</td>\n",
       "      <td>1</td>\n",
       "      <td>37.04</td>\n",
       "    </tr>\n",
       "    <tr>\n",
       "      <th>258</th>\n",
       "      <td>2020-09-18</td>\n",
       "      <td>1</td>\n",
       "      <td>1</td>\n",
       "      <td>1</td>\n",
       "      <td>0</td>\n",
       "      <td>0</td>\n",
       "      <td>1</td>\n",
       "      <td>1</td>\n",
       "      <td>3</td>\n",
       "      <td>2</td>\n",
       "      <td>2</td>\n",
       "      <td>1</td>\n",
       "      <td>37.04</td>\n",
       "    </tr>\n",
       "    <tr>\n",
       "      <th>259</th>\n",
       "      <td>2020-09-19</td>\n",
       "      <td>1</td>\n",
       "      <td>1</td>\n",
       "      <td>1</td>\n",
       "      <td>0</td>\n",
       "      <td>0</td>\n",
       "      <td>1</td>\n",
       "      <td>1</td>\n",
       "      <td>3</td>\n",
       "      <td>2</td>\n",
       "      <td>2</td>\n",
       "      <td>1</td>\n",
       "      <td>37.04</td>\n",
       "    </tr>\n",
       "    <tr>\n",
       "      <th>260</th>\n",
       "      <td>2020-09-20</td>\n",
       "      <td>1</td>\n",
       "      <td>1</td>\n",
       "      <td>1</td>\n",
       "      <td>0</td>\n",
       "      <td>0</td>\n",
       "      <td>1</td>\n",
       "      <td>1</td>\n",
       "      <td>3</td>\n",
       "      <td>2</td>\n",
       "      <td>2</td>\n",
       "      <td>1</td>\n",
       "      <td>37.04</td>\n",
       "    </tr>\n",
       "  </tbody>\n",
       "</table>\n",
       "</div>"
      ],
      "text/plain": [
       "          Date  School_closing  Workplace_closing  Cancel_events  \\\n",
       "256 2020-09-16               1                  1              1   \n",
       "257 2020-09-17               1                  1              1   \n",
       "258 2020-09-18               1                  1              1   \n",
       "259 2020-09-19               1                  1              1   \n",
       "260 2020-09-20               1                  1              1   \n",
       "\n",
       "     Gatherings_restrictions  Transport_closing  Stay_home_restrictions  \\\n",
       "256                        0                  0                       1   \n",
       "257                        0                  0                       1   \n",
       "258                        0                  0                       1   \n",
       "259                        0                  0                       1   \n",
       "260                        0                  0                       1   \n",
       "\n",
       "     Internal_movement_restrictions  International_movement_restrictions  \\\n",
       "256                               1                                    3   \n",
       "257                               1                                    3   \n",
       "258                               1                                    3   \n",
       "259                               1                                    3   \n",
       "260                               1                                    3   \n",
       "\n",
       "     Information_campaigns  Testing_policy  Contact_tracing  Stringency_index  \n",
       "256                      2               2                1             37.04  \n",
       "257                      2               2                1             37.04  \n",
       "258                      2               2                1             37.04  \n",
       "259                      2               2                1             37.04  \n",
       "260                      2               2                1             37.04  "
      ]
     },
     "execution_count": 23,
     "metadata": {},
     "output_type": "execute_result"
    }
   ],
   "source": [
    "# Subset for a country\n",
    "oxcgrt_data.subset(\"Japan\").tail()"
   ]
  },
  {
   "cell_type": "code",
   "execution_count": 24,
   "metadata": {
    "collapsed": false
   },
   "outputs": [
    {
     "data": {
      "text/html": [
       "<div>\n",
       "<style scoped>\n",
       "    .dataframe tbody tr th:only-of-type {\n",
       "        vertical-align: middle;\n",
       "    }\n",
       "\n",
       "    .dataframe tbody tr th {\n",
       "        vertical-align: top;\n",
       "    }\n",
       "\n",
       "    .dataframe thead th {\n",
       "        text-align: right;\n",
       "    }\n",
       "</style>\n",
       "<table border=\"1\" class=\"dataframe\">\n",
       "  <thead>\n",
       "    <tr style=\"text-align: right;\">\n",
       "      <th></th>\n",
       "      <th>Date</th>\n",
       "      <th>School_closing</th>\n",
       "      <th>Workplace_closing</th>\n",
       "      <th>Cancel_events</th>\n",
       "      <th>Gatherings_restrictions</th>\n",
       "      <th>Transport_closing</th>\n",
       "      <th>Stay_home_restrictions</th>\n",
       "      <th>Internal_movement_restrictions</th>\n",
       "      <th>International_movement_restrictions</th>\n",
       "      <th>Information_campaigns</th>\n",
       "      <th>Testing_policy</th>\n",
       "      <th>Contact_tracing</th>\n",
       "      <th>Stringency_index</th>\n",
       "    </tr>\n",
       "  </thead>\n",
       "  <tbody>\n",
       "    <tr>\n",
       "      <th>256</th>\n",
       "      <td>2020-09-16</td>\n",
       "      <td>1</td>\n",
       "      <td>1</td>\n",
       "      <td>1</td>\n",
       "      <td>0</td>\n",
       "      <td>0</td>\n",
       "      <td>1</td>\n",
       "      <td>1</td>\n",
       "      <td>3</td>\n",
       "      <td>2</td>\n",
       "      <td>2</td>\n",
       "      <td>1</td>\n",
       "      <td>37.04</td>\n",
       "    </tr>\n",
       "    <tr>\n",
       "      <th>257</th>\n",
       "      <td>2020-09-17</td>\n",
       "      <td>1</td>\n",
       "      <td>1</td>\n",
       "      <td>1</td>\n",
       "      <td>0</td>\n",
       "      <td>0</td>\n",
       "      <td>1</td>\n",
       "      <td>1</td>\n",
       "      <td>3</td>\n",
       "      <td>2</td>\n",
       "      <td>2</td>\n",
       "      <td>1</td>\n",
       "      <td>37.04</td>\n",
       "    </tr>\n",
       "    <tr>\n",
       "      <th>258</th>\n",
       "      <td>2020-09-18</td>\n",
       "      <td>1</td>\n",
       "      <td>1</td>\n",
       "      <td>1</td>\n",
       "      <td>0</td>\n",
       "      <td>0</td>\n",
       "      <td>1</td>\n",
       "      <td>1</td>\n",
       "      <td>3</td>\n",
       "      <td>2</td>\n",
       "      <td>2</td>\n",
       "      <td>1</td>\n",
       "      <td>37.04</td>\n",
       "    </tr>\n",
       "    <tr>\n",
       "      <th>259</th>\n",
       "      <td>2020-09-19</td>\n",
       "      <td>1</td>\n",
       "      <td>1</td>\n",
       "      <td>1</td>\n",
       "      <td>0</td>\n",
       "      <td>0</td>\n",
       "      <td>1</td>\n",
       "      <td>1</td>\n",
       "      <td>3</td>\n",
       "      <td>2</td>\n",
       "      <td>2</td>\n",
       "      <td>1</td>\n",
       "      <td>37.04</td>\n",
       "    </tr>\n",
       "    <tr>\n",
       "      <th>260</th>\n",
       "      <td>2020-09-20</td>\n",
       "      <td>1</td>\n",
       "      <td>1</td>\n",
       "      <td>1</td>\n",
       "      <td>0</td>\n",
       "      <td>0</td>\n",
       "      <td>1</td>\n",
       "      <td>1</td>\n",
       "      <td>3</td>\n",
       "      <td>2</td>\n",
       "      <td>2</td>\n",
       "      <td>1</td>\n",
       "      <td>37.04</td>\n",
       "    </tr>\n",
       "  </tbody>\n",
       "</table>\n",
       "</div>"
      ],
      "text/plain": [
       "          Date  School_closing  Workplace_closing  Cancel_events  \\\n",
       "256 2020-09-16               1                  1              1   \n",
       "257 2020-09-17               1                  1              1   \n",
       "258 2020-09-18               1                  1              1   \n",
       "259 2020-09-19               1                  1              1   \n",
       "260 2020-09-20               1                  1              1   \n",
       "\n",
       "     Gatherings_restrictions  Transport_closing  Stay_home_restrictions  \\\n",
       "256                        0                  0                       1   \n",
       "257                        0                  0                       1   \n",
       "258                        0                  0                       1   \n",
       "259                        0                  0                       1   \n",
       "260                        0                  0                       1   \n",
       "\n",
       "     Internal_movement_restrictions  International_movement_restrictions  \\\n",
       "256                               1                                    3   \n",
       "257                               1                                    3   \n",
       "258                               1                                    3   \n",
       "259                               1                                    3   \n",
       "260                               1                                    3   \n",
       "\n",
       "     Information_campaigns  Testing_policy  Contact_tracing  Stringency_index  \n",
       "256                      2               2                1             37.04  \n",
       "257                      2               2                1             37.04  \n",
       "258                      2               2                1             37.04  \n",
       "259                      2               2                1             37.04  \n",
       "260                      2               2                1             37.04  "
      ]
     },
     "execution_count": 24,
     "metadata": {},
     "output_type": "execute_result"
    }
   ],
   "source": [
    "# Subset for a country (using ISO3 code)\n",
    "oxcgrt_data.subset(\"JPN\").tail()"
   ]
  },
  {
   "cell_type": "markdown",
   "metadata": {},
   "source": [
    "## Scenario analysis\n",
    "As an example, we will analysis the number of cases in Japan."
   ]
  },
  {
   "cell_type": "code",
   "execution_count": 25,
   "metadata": {
    "collapsed": false
   },
   "outputs": [],
   "source": [
    "scenario = cs.Scenario(jhu_data, population_data, country=\"Japan\", province=None)"
   ]
  },
  {
   "cell_type": "markdown",
   "metadata": {},
   "source": [
    "### Check records"
   ]
  },
  {
   "cell_type": "code",
   "execution_count": 26,
   "metadata": {
    "collapsed": false
   },
   "outputs": [
    {
     "data": {
      "image/png": "[encoded data removed]",
      "text/plain": [
       "<Figure size 648x432 with 1 Axes>"
      ]
     },
     "metadata": {},
     "output_type": "display_data"
    },
    {
     "data": {
      "text/html": [
       "<div>\n",
       "<style scoped>\n",
       "    .dataframe tbody tr th:only-of-type {\n",
       "        vertical-align: middle;\n",
       "    }\n",
       "\n",
       "    .dataframe tbody tr th {\n",
       "        vertical-align: top;\n",
       "    }\n",
       "\n",
       "    .dataframe thead th {\n",
       "        text-align: right;\n",
       "    }\n",
       "</style>\n",
       "<table border=\"1\" class=\"dataframe\">\n",
       "  <thead>\n",
       "    <tr style=\"text-align: right;\">\n",
       "      <th></th>\n",
       "      <th>Date</th>\n",
       "      <th>Confirmed</th>\n",
       "      <th>Infected</th>\n",
       "      <th>Fatal</th>\n",
       "      <th>Recovered</th>\n",
       "    </tr>\n",
       "  </thead>\n",
       "  <tbody>\n",
       "    <tr>\n",
       "      <th>218</th>\n",
       "      <td>2020-09-16</td>\n",
       "      <td>76448</td>\n",
       "      <td>6455</td>\n",
       "      <td>1461</td>\n",
       "      <td>68532</td>\n",
       "    </tr>\n",
       "    <tr>\n",
       "      <th>219</th>\n",
       "      <td>2020-09-17</td>\n",
       "      <td>77009</td>\n",
       "      <td>6283</td>\n",
       "      <td>1473</td>\n",
       "      <td>69253</td>\n",
       "    </tr>\n",
       "    <tr>\n",
       "      <th>220</th>\n",
       "      <td>2020-09-18</td>\n",
       "      <td>77494</td>\n",
       "      <td>6113</td>\n",
       "      <td>1482</td>\n",
       "      <td>69899</td>\n",
       "    </tr>\n",
       "    <tr>\n",
       "      <th>221</th>\n",
       "      <td>2020-09-19</td>\n",
       "      <td>78073</td>\n",
       "      <td>6083</td>\n",
       "      <td>1495</td>\n",
       "      <td>70495</td>\n",
       "    </tr>\n",
       "    <tr>\n",
       "      <th>222</th>\n",
       "      <td>2020-09-20</td>\n",
       "      <td>78657</td>\n",
       "      <td>6127</td>\n",
       "      <td>1500</td>\n",
       "      <td>71030</td>\n",
       "    </tr>\n",
       "  </tbody>\n",
       "</table>\n",
       "</div>"
      ],
      "text/plain": [
       "          Date  Confirmed  Infected  Fatal  Recovered\n",
       "218 2020-09-16      76448      6455   1461      68532\n",
       "219 2020-09-17      77009      6283   1473      69253\n",
       "220 2020-09-18      77494      6113   1482      69899\n",
       "221 2020-09-19      78073      6083   1495      70495\n",
       "222 2020-09-20      78657      6127   1500      71030"
      ]
     },
     "execution_count": 26,
     "metadata": {},
     "output_type": "execute_result"
    }
   ],
   "source": [
    "import matplotlib\n",
    "warnings.simplefilter(\"ignore\", category=matplotlib.MatplotlibDeprecationWarning)\n",
    "record_df = scenario.records()\n",
    "record_df.tail()"
   ]
  },
  {
   "cell_type": "markdown",
   "metadata": {},
   "source": [
    "### S-R trend analysis"
   ]
  },
  {
   "cell_type": "code",
   "execution_count": 27,
   "metadata": {
    "collapsed": false
   },
   "outputs": [
    {
     "data": {
      "image/png": "[encoded data removed]",
      "text/plain": [
       "<Figure size 648x432 with 1 Axes>"
      ]
     },
     "metadata": {},
     "output_type": "display_data"
    },
    {
     "data": {
      "text/html": [
       "<div>\n",
       "<style scoped>\n",
       "    .dataframe tbody tr th:only-of-type {\n",
       "        vertical-align: middle;\n",
       "    }\n",
       "\n",
       "    .dataframe tbody tr th {\n",
       "        vertical-align: top;\n",
       "    }\n",
       "\n",
       "    .dataframe thead th {\n",
       "        text-align: right;\n",
       "    }\n",
       "</style>\n",
       "<table border=\"1\" class=\"dataframe\">\n",
       "  <thead>\n",
       "    <tr style=\"text-align: right;\">\n",
       "      <th></th>\n",
       "      <th>Type</th>\n",
       "      <th>Start</th>\n",
       "      <th>End</th>\n",
       "      <th>Population</th>\n",
       "    </tr>\n",
       "  </thead>\n",
       "  <tbody>\n",
       "    <tr>\n",
       "      <th>0th</th>\n",
       "      <td>Past</td>\n",
       "      <td>06Feb2020</td>\n",
       "      <td>21Apr2020</td>\n",
       "      <td>126529100</td>\n",
       "    </tr>\n",
       "    <tr>\n",
       "      <th>1st</th>\n",
       "      <td>Past</td>\n",
       "      <td>22Apr2020</td>\n",
       "      <td>03Jul2020</td>\n",
       "      <td>126529100</td>\n",
       "    </tr>\n",
       "    <tr>\n",
       "      <th>2nd</th>\n",
       "      <td>Past</td>\n",
       "      <td>04Jul2020</td>\n",
       "      <td>22Jul2020</td>\n",
       "      <td>126529100</td>\n",
       "    </tr>\n",
       "    <tr>\n",
       "      <th>3rd</th>\n",
       "      <td>Past</td>\n",
       "      <td>23Jul2020</td>\n",
       "      <td>01Aug2020</td>\n",
       "      <td>126529100</td>\n",
       "    </tr>\n",
       "    <tr>\n",
       "      <th>4th</th>\n",
       "      <td>Past</td>\n",
       "      <td>02Aug2020</td>\n",
       "      <td>14Aug2020</td>\n",
       "      <td>126529100</td>\n",
       "    </tr>\n",
       "    <tr>\n",
       "      <th>5th</th>\n",
       "      <td>Past</td>\n",
       "      <td>15Aug2020</td>\n",
       "      <td>28Aug2020</td>\n",
       "      <td>126529100</td>\n",
       "    </tr>\n",
       "    <tr>\n",
       "      <th>6th</th>\n",
       "      <td>Past</td>\n",
       "      <td>29Aug2020</td>\n",
       "      <td>08Sep2020</td>\n",
       "      <td>126529100</td>\n",
       "    </tr>\n",
       "    <tr>\n",
       "      <th>7th</th>\n",
       "      <td>Past</td>\n",
       "      <td>09Sep2020</td>\n",
       "      <td>20Sep2020</td>\n",
       "      <td>126529100</td>\n",
       "    </tr>\n",
       "  </tbody>\n",
       "</table>\n",
       "</div>"
      ],
      "text/plain": [
       "     Type      Start        End  Population\n",
       "0th  Past  06Feb2020  21Apr2020   126529100\n",
       "1st  Past  22Apr2020  03Jul2020   126529100\n",
       "2nd  Past  04Jul2020  22Jul2020   126529100\n",
       "3rd  Past  23Jul2020  01Aug2020   126529100\n",
       "4th  Past  02Aug2020  14Aug2020   126529100\n",
       "5th  Past  15Aug2020  28Aug2020   126529100\n",
       "6th  Past  29Aug2020  08Sep2020   126529100\n",
       "7th  Past  09Sep2020  20Sep2020   126529100"
      ]
     },
     "execution_count": 27,
     "metadata": {},
     "output_type": "execute_result"
    }
   ],
   "source": [
    "scenario.trend(set_phases=True)\n",
    "scenario.summary()"
   ]
  },
  {
   "cell_type": "markdown",
   "metadata": {},
   "source": [
    "### Hyperparameter estimation of ODE models\n",
    "As an example, use SIR-F model.\n",
    "We can use SIR, SIRD, (SIRFV), (SEWIRF)."
   ]
  },
  {
   "cell_type": "code",
   "execution_count": 28,
   "metadata": {
    "collapsed": false,
    "tags": []
   },
   "outputs": [
    {
     "name": "stdout",
     "output_type": "stream",
     "text": [
      "\n",
      "<SIR-F model: parameter estimation>"
     ]
    },
    {
     "name": "stdout",
     "output_type": "stream",
     "text": [
      "\n"
     ]
    },
    {
     "name": "stdout",
     "output_type": "stream",
     "text": [
      "Running optimization with 4 CPUs..."
     ]
    },
    {
     "name": "stdout",
     "output_type": "stream",
     "text": [
      "\n"
     ]
    },
    {
     "name": "stdout",
     "output_type": "stream",
     "text": [
      "\t7th phase (09Sep2020 - 20Sep2020): finished  524 trials in 0 min 15 sec"
     ]
    },
    {
     "name": "stdout",
     "output_type": "stream",
     "text": [
      "\n"
     ]
    },
    {
     "name": "stdout",
     "output_type": "stream",
     "text": [
      "\t1st phase (22Apr2020 - 03Jul2020): finished 1921 trials in 1 min  0 sec"
     ]
    },
    {
     "name": "stdout",
     "output_type": "stream",
     "text": [
      "\n"
     ]
    },
    {
     "name": "stdout",
     "output_type": "stream",
     "text": [
      "\t2nd phase (04Jul2020 - 22Jul2020): finished 2001 trials in 1 min  0 sec"
     ]
    },
    {
     "name": "stdout",
     "output_type": "stream",
     "text": [
      "\n"
     ]
    },
    {
     "name": "stdout",
     "output_type": "stream",
     "text": [
      "\t3rd phase (23Jul2020 - 01Aug2020): finished 2003 trials in 1 min  0 sec"
     ]
    },
    {
     "name": "stdout",
     "output_type": "stream",
     "text": [
      "\n"
     ]
    },
    {
     "name": "stdout",
     "output_type": "stream",
     "text": [
      "\t0th phase (06Feb2020 - 21Apr2020): finished 1937 trials in 1 min  0 sec"
     ]
    },
    {
     "name": "stdout",
     "output_type": "stream",
     "text": [
      "\n"
     ]
    },
    {
     "name": "stdout",
     "output_type": "stream",
     "text": [
      "\t5th phase (15Aug2020 - 28Aug2020): finished  261 trials in 0 min  5 sec"
     ]
    },
    {
     "name": "stdout",
     "output_type": "stream",
     "text": [
      "\n"
     ]
    },
    {
     "name": "stdout",
     "output_type": "stream",
     "text": [
      "\t6th phase (29Aug2020 - 08Sep2020): finished  263 trials in 0 min  5 sec"
     ]
    },
    {
     "name": "stdout",
     "output_type": "stream",
     "text": [
      "\n"
     ]
    },
    {
     "name": "stdout",
     "output_type": "stream",
     "text": [
      "\t4th phase (02Aug2020 - 14Aug2020): finished 2168 trials in 1 min  0 sec"
     ]
    },
    {
     "name": "stdout",
     "output_type": "stream",
     "text": [
      "\n"
     ]
    },
    {
     "name": "stdout",
     "output_type": "stream",
     "text": [
      "Completed optimization. Total: 2 min 16 sec"
     ]
    },
    {
     "name": "stdout",
     "output_type": "stream",
     "text": [
      "\n"
     ]
    }
   ],
   "source": [
    "scenario.estimate(cs.SIRF)"
   ]
  },
  {
   "cell_type": "code",
   "execution_count": 29,
   "metadata": {
    "collapsed": false
   },
   "outputs": [
    {
     "data": {
      "text/html": [
       "<div>\n",
       "<style scoped>\n",
       "    .dataframe tbody tr th:only-of-type {\n",
       "        vertical-align: middle;\n",
       "    }\n",
       "\n",
       "    .dataframe tbody tr th {\n",
       "        vertical-align: top;\n",
       "    }\n",
       "\n",
       "    .dataframe thead th {\n",
       "        text-align: right;\n",
       "    }\n",
       "</style>\n",
       "<table border=\"1\" class=\"dataframe\">\n",
       "  <thead>\n",
       "    <tr style=\"text-align: right;\">\n",
       "      <th></th>\n",
       "      <th>Type</th>\n",
       "      <th>Start</th>\n",
       "      <th>End</th>\n",
       "      <th>Population</th>\n",
       "      <th>ODE</th>\n",
       "      <th>Rt</th>\n",
       "      <th>theta</th>\n",
       "      <th>kappa</th>\n",
       "      <th>rho</th>\n",
       "      <th>sigma</th>\n",
       "      <th>tau</th>\n",
       "      <th>1/beta [day]</th>\n",
       "      <th>1/gamma [day]</th>\n",
       "      <th>1/alpha2 [day]</th>\n",
       "      <th>alpha1 [-]</th>\n",
       "      <th>RMSLE</th>\n",
       "      <th>Trials</th>\n",
       "      <th>Runtime</th>\n",
       "    </tr>\n",
       "  </thead>\n",
       "  <tbody>\n",
       "    <tr>\n",
       "      <th>0th</th>\n",
       "      <td>Past</td>\n",
       "      <td>06Feb2020</td>\n",
       "      <td>21Apr2020</td>\n",
       "      <td>126529100</td>\n",
       "      <td>SIR-F</td>\n",
       "      <td>4.65</td>\n",
       "      <td>0.017296</td>\n",
       "      <td>0.000069</td>\n",
       "      <td>0.025849</td>\n",
       "      <td>0.005396</td>\n",
       "      <td>360</td>\n",
       "      <td>9</td>\n",
       "      <td>46</td>\n",
       "      <td>3629</td>\n",
       "      <td>0.017</td>\n",
       "      <td>0.962479</td>\n",
       "      <td>1937</td>\n",
       "      <td>1 min  0 sec</td>\n",
       "    </tr>\n",
       "    <tr>\n",
       "      <th>1st</th>\n",
       "      <td>Past</td>\n",
       "      <td>22Apr2020</td>\n",
       "      <td>03Jul2020</td>\n",
       "      <td>126529100</td>\n",
       "      <td>SIR-F</td>\n",
       "      <td>0.40</td>\n",
       "      <td>0.084350</td>\n",
       "      <td>0.000186</td>\n",
       "      <td>0.007572</td>\n",
       "      <td>0.017066</td>\n",
       "      <td>360</td>\n",
       "      <td>33</td>\n",
       "      <td>14</td>\n",
       "      <td>1341</td>\n",
       "      <td>0.084</td>\n",
       "      <td>0.793123</td>\n",
       "      <td>1921</td>\n",
       "      <td>1 min  0 sec</td>\n",
       "    </tr>\n",
       "    <tr>\n",
       "      <th>2nd</th>\n",
       "      <td>Past</td>\n",
       "      <td>04Jul2020</td>\n",
       "      <td>22Jul2020</td>\n",
       "      <td>126529100</td>\n",
       "      <td>SIR-F</td>\n",
       "      <td>2.08</td>\n",
       "      <td>0.001088</td>\n",
       "      <td>0.000026</td>\n",
       "      <td>0.035503</td>\n",
       "      <td>0.017018</td>\n",
       "      <td>360</td>\n",
       "      <td>7</td>\n",
       "      <td>14</td>\n",
       "      <td>9563</td>\n",
       "      <td>0.001</td>\n",
       "      <td>0.039275</td>\n",
       "      <td>2001</td>\n",
       "      <td>1 min  0 sec</td>\n",
       "    </tr>\n",
       "    <tr>\n",
       "      <th>3rd</th>\n",
       "      <td>Past</td>\n",
       "      <td>23Jul2020</td>\n",
       "      <td>01Aug2020</td>\n",
       "      <td>126529100</td>\n",
       "      <td>SIR-F</td>\n",
       "      <td>2.06</td>\n",
       "      <td>0.000938</td>\n",
       "      <td>0.000031</td>\n",
       "      <td>0.035897</td>\n",
       "      <td>0.017340</td>\n",
       "      <td>360</td>\n",
       "      <td>6</td>\n",
       "      <td>14</td>\n",
       "      <td>7997</td>\n",
       "      <td>0.001</td>\n",
       "      <td>0.035086</td>\n",
       "      <td>2003</td>\n",
       "      <td>1 min  0 sec</td>\n",
       "    </tr>\n",
       "    <tr>\n",
       "      <th>4th</th>\n",
       "      <td>Past</td>\n",
       "      <td>02Aug2020</td>\n",
       "      <td>14Aug2020</td>\n",
       "      <td>126529100</td>\n",
       "      <td>SIR-F</td>\n",
       "      <td>1.38</td>\n",
       "      <td>0.000492</td>\n",
       "      <td>0.000097</td>\n",
       "      <td>0.024972</td>\n",
       "      <td>0.017937</td>\n",
       "      <td>360</td>\n",
       "      <td>10</td>\n",
       "      <td>13</td>\n",
       "      <td>2575</td>\n",
       "      <td>0.000</td>\n",
       "      <td>0.084455</td>\n",
       "      <td>2168</td>\n",
       "      <td>1 min  0 sec</td>\n",
       "    </tr>\n",
       "    <tr>\n",
       "      <th>5th</th>\n",
       "      <td>Past</td>\n",
       "      <td>15Aug2020</td>\n",
       "      <td>28Aug2020</td>\n",
       "      <td>126529100</td>\n",
       "      <td>SIR-F</td>\n",
       "      <td>0.81</td>\n",
       "      <td>0.001486</td>\n",
       "      <td>0.000191</td>\n",
       "      <td>0.021028</td>\n",
       "      <td>0.025625</td>\n",
       "      <td>360</td>\n",
       "      <td>11</td>\n",
       "      <td>9</td>\n",
       "      <td>1308</td>\n",
       "      <td>0.001</td>\n",
       "      <td>0.023261</td>\n",
       "      <td>261</td>\n",
       "      <td>0 min  5 sec</td>\n",
       "    </tr>\n",
       "    <tr>\n",
       "      <th>6th</th>\n",
       "      <td>Past</td>\n",
       "      <td>29Aug2020</td>\n",
       "      <td>08Sep2020</td>\n",
       "      <td>126529100</td>\n",
       "      <td>SIR-F</td>\n",
       "      <td>0.59</td>\n",
       "      <td>0.019233</td>\n",
       "      <td>0.000059</td>\n",
       "      <td>0.016083</td>\n",
       "      <td>0.026590</td>\n",
       "      <td>360</td>\n",
       "      <td>15</td>\n",
       "      <td>9</td>\n",
       "      <td>4203</td>\n",
       "      <td>0.019</td>\n",
       "      <td>0.083471</td>\n",
       "      <td>263</td>\n",
       "      <td>0 min  5 sec</td>\n",
       "    </tr>\n",
       "    <tr>\n",
       "      <th>7th</th>\n",
       "      <td>Past</td>\n",
       "      <td>09Sep2020</td>\n",
       "      <td>20Sep2020</td>\n",
       "      <td>126529100</td>\n",
       "      <td>SIR-F</td>\n",
       "      <td>0.86</td>\n",
       "      <td>0.002290</td>\n",
       "      <td>0.000295</td>\n",
       "      <td>0.019730</td>\n",
       "      <td>0.022493</td>\n",
       "      <td>360</td>\n",
       "      <td>12</td>\n",
       "      <td>11</td>\n",
       "      <td>846</td>\n",
       "      <td>0.002</td>\n",
       "      <td>0.022795</td>\n",
       "      <td>524</td>\n",
       "      <td>0 min 15 sec</td>\n",
       "    </tr>\n",
       "  </tbody>\n",
       "</table>\n",
       "</div>"
      ],
      "text/plain": [
       "     Type      Start        End  Population    ODE    Rt     theta     kappa  \\\n",
       "0th  Past  06Feb2020  21Apr2020   126529100  SIR-F  4.65  0.017296  0.000069   \n",
       "1st  Past  22Apr2020  03Jul2020   126529100  SIR-F  0.40  0.084350  0.000186   \n",
       "2nd  Past  04Jul2020  22Jul2020   126529100  SIR-F  2.08  0.001088  0.000026   \n",
       "3rd  Past  23Jul2020  01Aug2020   126529100  SIR-F  2.06  0.000938  0.000031   \n",
       "4th  Past  02Aug2020  14Aug2020   126529100  SIR-F  1.38  0.000492  0.000097   \n",
       "5th  Past  15Aug2020  28Aug2020   126529100  SIR-F  0.81  0.001486  0.000191   \n",
       "6th  Past  29Aug2020  08Sep2020   126529100  SIR-F  0.59  0.019233  0.000059   \n",
       "7th  Past  09Sep2020  20Sep2020   126529100  SIR-F  0.86  0.002290  0.000295   \n",
       "\n",
       "          rho     sigma  tau  1/beta [day]  1/gamma [day]  1/alpha2 [day]  \\\n",
       "0th  0.025849  0.005396  360             9             46            3629   \n",
       "1st  0.007572  0.017066  360            33             14            1341   \n",
       "2nd  0.035503  0.017018  360             7             14            9563   \n",
       "3rd  0.035897  0.017340  360             6             14            7997   \n",
       "4th  0.024972  0.017937  360            10             13            2575   \n",
       "5th  0.021028  0.025625  360            11              9            1308   \n",
       "6th  0.016083  0.026590  360            15              9            4203   \n",
       "7th  0.019730  0.022493  360            12             11             846   \n",
       "\n",
       "     alpha1 [-]     RMSLE  Trials       Runtime  \n",
       "0th       0.017  0.962479    1937  1 min  0 sec  \n",
       "1st       0.084  0.793123    1921  1 min  0 sec  \n",
       "2nd       0.001  0.039275    2001  1 min  0 sec  \n",
       "3rd       0.001  0.035086    2003  1 min  0 sec  \n",
       "4th       0.000  0.084455    2168  1 min  0 sec  \n",
       "5th       0.001  0.023261     261  0 min  5 sec  \n",
       "6th       0.019  0.083471     263  0 min  5 sec  \n",
       "7th       0.002  0.022795     524  0 min 15 sec  "
      ]
     },
     "execution_count": 29,
     "metadata": {},
     "output_type": "execute_result"
    }
   ],
   "source": [
    "scenario.summary()"
   ]
  },
  {
   "cell_type": "markdown",
   "metadata": {},
   "source": [
    "### Accuracy of estimation"
   ]
  },
  {
   "cell_type": "code",
   "execution_count": 30,
   "metadata": {
    "collapsed": false
   },
   "outputs": [
    {
     "data": {
      "image/png": "[encoded data removed]",
      "text/plain": [
       "<Figure size 648x864 with 4 Axes>"
      ]
     },
     "metadata": {},
     "output_type": "display_data"
    }
   ],
   "source": [
    "scenario.estimate_accuracy(phase=\"1st\")"
   ]
  },
  {
   "cell_type": "markdown",
   "metadata": {},
   "source": [
    "### Get parameter value"
   ]
  },
  {
   "cell_type": "code",
   "execution_count": 31,
   "metadata": {
    "collapsed": false
   },
   "outputs": [
    {
     "data": {
      "text/plain": [
       "1.38"
      ]
     },
     "execution_count": 31,
     "metadata": {},
     "output_type": "execute_result"
    }
   ],
   "source": [
    "scenario.get(\"Rt\", phase=\"4th\")"
   ]
  },
  {
   "cell_type": "markdown",
   "metadata": {},
   "source": [
    "### Show parameter history"
   ]
  },
  {
   "cell_type": "code",
   "execution_count": 32,
   "metadata": {
    "collapsed": false
   },
   "outputs": [
    {
     "data": {
      "image/png": "[encoded data removed]",
      "text/plain": [
       "<Figure size 648x432 with 1 Axes>"
      ]
     },
     "metadata": {},
     "output_type": "display_data"
    },
    {
     "data": {
      "text/html": [
       "<div>\n",
       "<style scoped>\n",
       "    .dataframe tbody tr th:only-of-type {\n",
       "        vertical-align: middle;\n",
       "    }\n",
       "\n",
       "    .dataframe tbody tr th {\n",
       "        vertical-align: top;\n",
       "    }\n",
       "\n",
       "    .dataframe thead th {\n",
       "        text-align: right;\n",
       "    }\n",
       "</style>\n",
       "<table border=\"1\" class=\"dataframe\">\n",
       "  <thead>\n",
       "    <tr style=\"text-align: right;\">\n",
       "      <th></th>\n",
       "      <th>0th</th>\n",
       "      <th>1st</th>\n",
       "      <th>2nd</th>\n",
       "      <th>3rd</th>\n",
       "      <th>4th</th>\n",
       "      <th>5th</th>\n",
       "      <th>6th</th>\n",
       "      <th>7th</th>\n",
       "    </tr>\n",
       "  </thead>\n",
       "  <tbody>\n",
       "    <tr>\n",
       "      <th>rho</th>\n",
       "      <td>1.0</td>\n",
       "      <td>0.292941</td>\n",
       "      <td>1.373471</td>\n",
       "      <td>1.388705</td>\n",
       "      <td>0.966076</td>\n",
       "      <td>0.813499</td>\n",
       "      <td>0.622188</td>\n",
       "      <td>0.763291</td>\n",
       "    </tr>\n",
       "    <tr>\n",
       "      <th>sigma</th>\n",
       "      <td>1.0</td>\n",
       "      <td>3.162856</td>\n",
       "      <td>3.154008</td>\n",
       "      <td>3.213661</td>\n",
       "      <td>3.324362</td>\n",
       "      <td>4.749059</td>\n",
       "      <td>4.928068</td>\n",
       "      <td>4.168665</td>\n",
       "    </tr>\n",
       "  </tbody>\n",
       "</table>\n",
       "</div>"
      ],
      "text/plain": [
       "       0th       1st       2nd       3rd       4th       5th       6th  \\\n",
       "rho    1.0  0.292941  1.373471  1.388705  0.966076  0.813499  0.622188   \n",
       "sigma  1.0  3.162856  3.154008  3.213661  3.324362  4.749059  4.928068   \n",
       "\n",
       "            7th  \n",
       "rho    0.763291  \n",
       "sigma  4.168665  "
      ]
     },
     "execution_count": 32,
     "metadata": {},
     "output_type": "execute_result"
    }
   ],
   "source": [
    "df = scenario.param_history(targets=[\"rho\", \"sigma\"])\n",
    "df.T"
   ]
  },
  {
   "cell_type": "code",
   "execution_count": 33,
   "metadata": {
    "collapsed": false
   },
   "outputs": [
    {
     "data": {
      "image/png": "[encoded data removed]",
      "text/plain": [
       "<Figure size 648x432 with 1 Axes>"
      ]
     },
     "metadata": {},
     "output_type": "display_data"
    }
   ],
   "source": [
    "# version >= 2.8.0\n",
    "_ = scenario.history(target=\"rho\")"
   ]
  },
  {
   "cell_type": "code",
   "execution_count": 34,
   "metadata": {
    "collapsed": false
   },
   "outputs": [
    {
     "data": {
      "image/png": "[encoded data removed]",
      "text/plain": [
       "<Figure size 648x432 with 1 Axes>"
      ]
     },
     "metadata": {},
     "output_type": "display_data"
    }
   ],
   "source": [
    "# version >= 2.8.0\n",
    "_ = scenario.history(target=\"sigma\")"
   ]
  },
  {
   "cell_type": "markdown",
   "metadata": {},
   "source": [
    "### Show the history of reproduction number"
   ]
  },
  {
   "cell_type": "code",
   "execution_count": 35,
   "metadata": {
    "collapsed": false
   },
   "outputs": [
    {
     "data": {
      "image/png": "[encoded data removed]",
      "text/plain": [
       "<Figure size 648x432 with 1 Axes>"
      ]
     },
     "metadata": {},
     "output_type": "display_data"
    },
    {
     "data": {
      "text/html": [
       "<div>\n",
       "<style scoped>\n",
       "    .dataframe tbody tr th:only-of-type {\n",
       "        vertical-align: middle;\n",
       "    }\n",
       "\n",
       "    .dataframe tbody tr th {\n",
       "        vertical-align: top;\n",
       "    }\n",
       "\n",
       "    .dataframe thead th {\n",
       "        text-align: right;\n",
       "    }\n",
       "</style>\n",
       "<table border=\"1\" class=\"dataframe\">\n",
       "  <thead>\n",
       "    <tr style=\"text-align: right;\">\n",
       "      <th></th>\n",
       "      <th>0th</th>\n",
       "      <th>1st</th>\n",
       "      <th>2nd</th>\n",
       "      <th>3rd</th>\n",
       "      <th>4th</th>\n",
       "      <th>5th</th>\n",
       "      <th>6th</th>\n",
       "      <th>7th</th>\n",
       "    </tr>\n",
       "  </thead>\n",
       "  <tbody>\n",
       "    <tr>\n",
       "      <th>Rt</th>\n",
       "      <td>4.65</td>\n",
       "      <td>0.4</td>\n",
       "      <td>2.08</td>\n",
       "      <td>2.06</td>\n",
       "      <td>1.38</td>\n",
       "      <td>0.81</td>\n",
       "      <td>0.59</td>\n",
       "      <td>0.86</td>\n",
       "    </tr>\n",
       "  </tbody>\n",
       "</table>\n",
       "</div>"
      ],
      "text/plain": [
       "     0th  1st   2nd   3rd   4th   5th   6th   7th\n",
       "Rt  4.65  0.4  2.08  2.06  1.38  0.81  0.59  0.86"
      ]
     },
     "execution_count": 35,
     "metadata": {},
     "output_type": "execute_result"
    }
   ],
   "source": [
    "df = scenario.param_history(targets=[\"Rt\"], divide_by_first=False, show_box_plot=True)\n",
    "df.T"
   ]
  },
  {
   "cell_type": "code",
   "execution_count": 36,
   "metadata": {
    "collapsed": false
   },
   "outputs": [
    {
     "data": {
      "image/png": "[encoded data removed]",
      "text/plain": [
       "<Figure size 648x432 with 1 Axes>"
      ]
     },
     "metadata": {},
     "output_type": "display_data"
    }
   ],
   "source": [
    "# version >= 2.8.0\n",
    "_ = scenario.history(target=\"Rt\")"
   ]
  },
  {
   "cell_type": "markdown",
   "metadata": {},
   "source": [
    "### Simulate the number of cases"
   ]
  },
  {
   "cell_type": "code",
   "execution_count": 37,
   "metadata": {
    "collapsed": false
   },
   "outputs": [
    {
     "data": {
      "image/png": "[encoded data removed]",
      "text/plain": [
       "<Figure size 648x432 with 1 Axes>"
      ]
     },
     "metadata": {},
     "output_type": "display_data"
    },
    {
     "data": {
      "text/html": [
       "<div>\n",
       "<style scoped>\n",
       "    .dataframe tbody tr th:only-of-type {\n",
       "        vertical-align: middle;\n",
       "    }\n",
       "\n",
       "    .dataframe tbody tr th {\n",
       "        vertical-align: top;\n",
       "    }\n",
       "\n",
       "    .dataframe thead th {\n",
       "        text-align: right;\n",
       "    }\n",
       "</style>\n",
       "<table border=\"1\" class=\"dataframe\">\n",
       "  <thead>\n",
       "    <tr style=\"text-align: right;\">\n",
       "      <th></th>\n",
       "      <th>Date</th>\n",
       "      <th>Confirmed</th>\n",
       "      <th>Fatal</th>\n",
       "      <th>Infected</th>\n",
       "      <th>Recovered</th>\n",
       "    </tr>\n",
       "  </thead>\n",
       "  <tbody>\n",
       "    <tr>\n",
       "      <th>327</th>\n",
       "      <td>2020-12-29</td>\n",
       "      <td>107001</td>\n",
       "      <td>1985</td>\n",
       "      <td>1815</td>\n",
       "      <td>103201</td>\n",
       "    </tr>\n",
       "    <tr>\n",
       "      <th>328</th>\n",
       "      <td>2020-12-30</td>\n",
       "      <td>107143</td>\n",
       "      <td>1988</td>\n",
       "      <td>1792</td>\n",
       "      <td>103363</td>\n",
       "    </tr>\n",
       "    <tr>\n",
       "      <th>329</th>\n",
       "      <td>2020-12-31</td>\n",
       "      <td>107283</td>\n",
       "      <td>1990</td>\n",
       "      <td>1770</td>\n",
       "      <td>103523</td>\n",
       "    </tr>\n",
       "    <tr>\n",
       "      <th>330</th>\n",
       "      <td>2021-01-01</td>\n",
       "      <td>107422</td>\n",
       "      <td>1992</td>\n",
       "      <td>1748</td>\n",
       "      <td>103682</td>\n",
       "    </tr>\n",
       "    <tr>\n",
       "      <th>331</th>\n",
       "      <td>2021-01-02</td>\n",
       "      <td>107559</td>\n",
       "      <td>1995</td>\n",
       "      <td>1726</td>\n",
       "      <td>103838</td>\n",
       "    </tr>\n",
       "  </tbody>\n",
       "</table>\n",
       "</div>"
      ],
      "text/plain": [
       "          Date  Confirmed  Fatal  Infected  Recovered\n",
       "327 2020-12-29     107001   1985      1815     103201\n",
       "328 2020-12-30     107143   1988      1792     103363\n",
       "329 2020-12-31     107283   1990      1770     103523\n",
       "330 2021-01-01     107422   1992      1748     103682\n",
       "331 2021-01-02     107559   1995      1726     103838"
      ]
     },
     "execution_count": 37,
     "metadata": {},
     "output_type": "execute_result"
    }
   ],
   "source": [
    "scenario.clear(name=\"Main\")\n",
    "scenario.add(end_date=\"01Jan2021\", name=\"Main\")\n",
    "main_sim_df = scenario.simulate(name=\"Main\")\n",
    "main_sim_df.tail()"
   ]
  },
  {
   "cell_type": "markdown",
   "metadata": {},
   "source": [
    "### Simulate another scenario\n",
    "If $\\sigma$ will be double in 30 days, how many cases will be?"
   ]
  },
  {
   "cell_type": "code",
   "execution_count": 38,
   "metadata": {
    "collapsed": false
   },
   "outputs": [
    {
     "data": {
      "text/plain": [
       "0.022492896548594047"
      ]
     },
     "execution_count": 38,
     "metadata": {},
     "output_type": "execute_result"
    }
   ],
   "source": [
    "sigma_current = scenario.get(\"sigma\", name=\"Main\", phase=\"last\")\n",
    "sigma_current"
   ]
  },
  {
   "cell_type": "code",
   "execution_count": 39,
   "metadata": {
    "collapsed": false
   },
   "outputs": [
    {
     "data": {
      "text/plain": [
       "0.044985793097188094"
      ]
     },
     "execution_count": 39,
     "metadata": {},
     "output_type": "execute_result"
    }
   ],
   "source": [
    "sigma_new = sigma_current * 2\n",
    "sigma_new"
   ]
  },
  {
   "cell_type": "code",
   "execution_count": 40,
   "metadata": {
    "collapsed": false
   },
   "outputs": [
    {
     "data": {
      "text/html": [
       "<div>\n",
       "<style scoped>\n",
       "    .dataframe tbody tr th:only-of-type {\n",
       "        vertical-align: middle;\n",
       "    }\n",
       "\n",
       "    .dataframe tbody tr th {\n",
       "        vertical-align: top;\n",
       "    }\n",
       "\n",
       "    .dataframe thead th {\n",
       "        text-align: right;\n",
       "    }\n",
       "</style>\n",
       "<table border=\"1\" class=\"dataframe\">\n",
       "  <thead>\n",
       "    <tr style=\"text-align: right;\">\n",
       "      <th></th>\n",
       "      <th></th>\n",
       "      <th>Type</th>\n",
       "      <th>Start</th>\n",
       "      <th>End</th>\n",
       "      <th>Population</th>\n",
       "      <th>ODE</th>\n",
       "      <th>Rt</th>\n",
       "      <th>theta</th>\n",
       "      <th>kappa</th>\n",
       "      <th>rho</th>\n",
       "      <th>sigma</th>\n",
       "      <th>tau</th>\n",
       "      <th>1/beta [day]</th>\n",
       "      <th>1/gamma [day]</th>\n",
       "      <th>1/alpha2 [day]</th>\n",
       "      <th>alpha1 [-]</th>\n",
       "      <th>RMSLE</th>\n",
       "      <th>Trials</th>\n",
       "      <th>Runtime</th>\n",
       "    </tr>\n",
       "    <tr>\n",
       "      <th>Scenario</th>\n",
       "      <th>Phase</th>\n",
       "      <th></th>\n",
       "      <th></th>\n",
       "      <th></th>\n",
       "      <th></th>\n",
       "      <th></th>\n",
       "      <th></th>\n",
       "      <th></th>\n",
       "      <th></th>\n",
       "      <th></th>\n",
       "      <th></th>\n",
       "      <th></th>\n",
       "      <th></th>\n",
       "      <th></th>\n",
       "      <th></th>\n",
       "      <th></th>\n",
       "      <th></th>\n",
       "      <th></th>\n",
       "      <th></th>\n",
       "    </tr>\n",
       "  </thead>\n",
       "  <tbody>\n",
       "    <tr>\n",
       "      <th rowspan=\"9\" valign=\"top\">Main</th>\n",
       "      <th>0th</th>\n",
       "      <td>Past</td>\n",
       "      <td>06Feb2020</td>\n",
       "      <td>21Apr2020</td>\n",
       "      <td>126529100</td>\n",
       "      <td>SIR-F</td>\n",
       "      <td>4.65</td>\n",
       "      <td>0.017296</td>\n",
       "      <td>0.000069</td>\n",
       "      <td>0.025849</td>\n",
       "      <td>0.005396</td>\n",
       "      <td>360</td>\n",
       "      <td>9</td>\n",
       "      <td>46</td>\n",
       "      <td>3629</td>\n",
       "      <td>0.017</td>\n",
       "      <td>0.962479</td>\n",
       "      <td>1937</td>\n",
       "      <td>1 min  0 sec</td>\n",
       "    </tr>\n",
       "    <tr>\n",
       "      <th>1st</th>\n",
       "      <td>Past</td>\n",
       "      <td>22Apr2020</td>\n",
       "      <td>03Jul2020</td>\n",
       "      <td>126529100</td>\n",
       "      <td>SIR-F</td>\n",
       "      <td>0.40</td>\n",
       "      <td>0.084350</td>\n",
       "      <td>0.000186</td>\n",
       "      <td>0.007572</td>\n",
       "      <td>0.017066</td>\n",
       "      <td>360</td>\n",
       "      <td>33</td>\n",
       "      <td>14</td>\n",
       "      <td>1341</td>\n",
       "      <td>0.084</td>\n",
       "      <td>0.793123</td>\n",
       "      <td>1921</td>\n",
       "      <td>1 min  0 sec</td>\n",
       "    </tr>\n",
       "    <tr>\n",
       "      <th>2nd</th>\n",
       "      <td>Past</td>\n",
       "      <td>04Jul2020</td>\n",
       "      <td>22Jul2020</td>\n",
       "      <td>126529100</td>\n",
       "      <td>SIR-F</td>\n",
       "      <td>2.08</td>\n",
       "      <td>0.001088</td>\n",
       "      <td>0.000026</td>\n",
       "      <td>0.035503</td>\n",
       "      <td>0.017018</td>\n",
       "      <td>360</td>\n",
       "      <td>7</td>\n",
       "      <td>14</td>\n",
       "      <td>9563</td>\n",
       "      <td>0.001</td>\n",
       "      <td>0.0392746</td>\n",
       "      <td>2001</td>\n",
       "      <td>1 min  0 sec</td>\n",
       "    </tr>\n",
       "    <tr>\n",
       "      <th>3rd</th>\n",
       "      <td>Past</td>\n",
       "      <td>23Jul2020</td>\n",
       "      <td>01Aug2020</td>\n",
       "      <td>126529100</td>\n",
       "      <td>SIR-F</td>\n",
       "      <td>2.06</td>\n",
       "      <td>0.000938</td>\n",
       "      <td>0.000031</td>\n",
       "      <td>0.035897</td>\n",
       "      <td>0.017340</td>\n",
       "      <td>360</td>\n",
       "      <td>6</td>\n",
       "      <td>14</td>\n",
       "      <td>7997</td>\n",
       "      <td>0.001</td>\n",
       "      <td>0.0350864</td>\n",
       "      <td>2003</td>\n",
       "      <td>1 min  0 sec</td>\n",
       "    </tr>\n",
       "    <tr>\n",
       "      <th>4th</th>\n",
       "      <td>Past</td>\n",
       "      <td>02Aug2020</td>\n",
       "      <td>14Aug2020</td>\n",
       "      <td>126529100</td>\n",
       "      <td>SIR-F</td>\n",
       "      <td>1.38</td>\n",
       "      <td>0.000492</td>\n",
       "      <td>0.000097</td>\n",
       "      <td>0.024972</td>\n",
       "      <td>0.017937</td>\n",
       "      <td>360</td>\n",
       "      <td>10</td>\n",
       "      <td>13</td>\n",
       "      <td>2575</td>\n",
       "      <td>0.000</td>\n",
       "      <td>0.0844546</td>\n",
       "      <td>2168</td>\n",
       "      <td>1 min  0 sec</td>\n",
       "    </tr>\n",
       "    <tr>\n",
       "      <th>5th</th>\n",
       "      <td>Past</td>\n",
       "      <td>15Aug2020</td>\n",
       "      <td>28Aug2020</td>\n",
       "      <td>126529100</td>\n",
       "      <td>SIR-F</td>\n",
       "      <td>0.81</td>\n",
       "      <td>0.001486</td>\n",
       "      <td>0.000191</td>\n",
       "      <td>0.021028</td>\n",
       "      <td>0.025625</td>\n",
       "      <td>360</td>\n",
       "      <td>11</td>\n",
       "      <td>9</td>\n",
       "      <td>1308</td>\n",
       "      <td>0.001</td>\n",
       "      <td>0.0232612</td>\n",
       "      <td>261</td>\n",
       "      <td>0 min  5 sec</td>\n",
       "    </tr>\n",
       "    <tr>\n",
       "      <th>6th</th>\n",
       "      <td>Past</td>\n",
       "      <td>29Aug2020</td>\n",
       "      <td>08Sep2020</td>\n",
       "      <td>126529100</td>\n",
       "      <td>SIR-F</td>\n",
       "      <td>0.59</td>\n",
       "      <td>0.019233</td>\n",
       "      <td>0.000059</td>\n",
       "      <td>0.016083</td>\n",
       "      <td>0.026590</td>\n",
       "      <td>360</td>\n",
       "      <td>15</td>\n",
       "      <td>9</td>\n",
       "      <td>4203</td>\n",
       "      <td>0.019</td>\n",
       "      <td>0.0834713</td>\n",
       "      <td>263</td>\n",
       "      <td>0 min  5 sec</td>\n",
       "    </tr>\n",
       "    <tr>\n",
       "      <th>7th</th>\n",
       "      <td>Past</td>\n",
       "      <td>09Sep2020</td>\n",
       "      <td>20Sep2020</td>\n",
       "      <td>126529100</td>\n",
       "      <td>SIR-F</td>\n",
       "      <td>0.86</td>\n",
       "      <td>0.002290</td>\n",
       "      <td>0.000295</td>\n",
       "      <td>0.019730</td>\n",
       "      <td>0.022493</td>\n",
       "      <td>360</td>\n",
       "      <td>12</td>\n",
       "      <td>11</td>\n",
       "      <td>846</td>\n",
       "      <td>0.002</td>\n",
       "      <td>0.0227949</td>\n",
       "      <td>524</td>\n",
       "      <td>0 min 15 sec</td>\n",
       "    </tr>\n",
       "    <tr>\n",
       "      <th>8th</th>\n",
       "      <td>Future</td>\n",
       "      <td>21Sep2020</td>\n",
       "      <td>01Jan2021</td>\n",
       "      <td>126529100</td>\n",
       "      <td>SIR-F</td>\n",
       "      <td>0.86</td>\n",
       "      <td>0.002290</td>\n",
       "      <td>0.000295</td>\n",
       "      <td>0.019730</td>\n",
       "      <td>0.022493</td>\n",
       "      <td>360</td>\n",
       "      <td>12</td>\n",
       "      <td>11</td>\n",
       "      <td>846</td>\n",
       "      <td>0.002</td>\n",
       "      <td>-</td>\n",
       "      <td>-</td>\n",
       "      <td>-</td>\n",
       "    </tr>\n",
       "    <tr>\n",
       "      <th rowspan=\"10\" valign=\"top\">Medicine</th>\n",
       "      <th>0th</th>\n",
       "      <td>Past</td>\n",
       "      <td>06Feb2020</td>\n",
       "      <td>21Apr2020</td>\n",
       "      <td>126529100</td>\n",
       "      <td>SIR-F</td>\n",
       "      <td>4.65</td>\n",
       "      <td>0.017296</td>\n",
       "      <td>0.000069</td>\n",
       "      <td>0.025849</td>\n",
       "      <td>0.005396</td>\n",
       "      <td>360</td>\n",
       "      <td>9</td>\n",
       "      <td>46</td>\n",
       "      <td>3629</td>\n",
       "      <td>0.017</td>\n",
       "      <td>0.962479</td>\n",
       "      <td>1937</td>\n",
       "      <td>1 min  0 sec</td>\n",
       "    </tr>\n",
       "    <tr>\n",
       "      <th>1st</th>\n",
       "      <td>Past</td>\n",
       "      <td>22Apr2020</td>\n",
       "      <td>03Jul2020</td>\n",
       "      <td>126529100</td>\n",
       "      <td>SIR-F</td>\n",
       "      <td>0.40</td>\n",
       "      <td>0.084350</td>\n",
       "      <td>0.000186</td>\n",
       "      <td>0.007572</td>\n",
       "      <td>0.017066</td>\n",
       "      <td>360</td>\n",
       "      <td>33</td>\n",
       "      <td>14</td>\n",
       "      <td>1341</td>\n",
       "      <td>0.084</td>\n",
       "      <td>0.793123</td>\n",
       "      <td>1921</td>\n",
       "      <td>1 min  0 sec</td>\n",
       "    </tr>\n",
       "    <tr>\n",
       "      <th>2nd</th>\n",
       "      <td>Past</td>\n",
       "      <td>04Jul2020</td>\n",
       "      <td>22Jul2020</td>\n",
       "      <td>126529100</td>\n",
       "      <td>SIR-F</td>\n",
       "      <td>2.08</td>\n",
       "      <td>0.001088</td>\n",
       "      <td>0.000026</td>\n",
       "      <td>0.035503</td>\n",
       "      <td>0.017018</td>\n",
       "      <td>360</td>\n",
       "      <td>7</td>\n",
       "      <td>14</td>\n",
       "      <td>9563</td>\n",
       "      <td>0.001</td>\n",
       "      <td>0.0392746</td>\n",
       "      <td>2001</td>\n",
       "      <td>1 min  0 sec</td>\n",
       "    </tr>\n",
       "    <tr>\n",
       "      <th>3rd</th>\n",
       "      <td>Past</td>\n",
       "      <td>23Jul2020</td>\n",
       "      <td>01Aug2020</td>\n",
       "      <td>126529100</td>\n",
       "      <td>SIR-F</td>\n",
       "      <td>2.06</td>\n",
       "      <td>0.000938</td>\n",
       "      <td>0.000031</td>\n",
       "      <td>0.035897</td>\n",
       "      <td>0.017340</td>\n",
       "      <td>360</td>\n",
       "      <td>6</td>\n",
       "      <td>14</td>\n",
       "      <td>7997</td>\n",
       "      <td>0.001</td>\n",
       "      <td>0.0350864</td>\n",
       "      <td>2003</td>\n",
       "      <td>1 min  0 sec</td>\n",
       "    </tr>\n",
       "    <tr>\n",
       "      <th>4th</th>\n",
       "      <td>Past</td>\n",
       "      <td>02Aug2020</td>\n",
       "      <td>14Aug2020</td>\n",
       "      <td>126529100</td>\n",
       "      <td>SIR-F</td>\n",
       "      <td>1.38</td>\n",
       "      <td>0.000492</td>\n",
       "      <td>0.000097</td>\n",
       "      <td>0.024972</td>\n",
       "      <td>0.017937</td>\n",
       "      <td>360</td>\n",
       "      <td>10</td>\n",
       "      <td>13</td>\n",
       "      <td>2575</td>\n",
       "      <td>0.000</td>\n",
       "      <td>0.0844546</td>\n",
       "      <td>2168</td>\n",
       "      <td>1 min  0 sec</td>\n",
       "    </tr>\n",
       "    <tr>\n",
       "      <th>5th</th>\n",
       "      <td>Past</td>\n",
       "      <td>15Aug2020</td>\n",
       "      <td>28Aug2020</td>\n",
       "      <td>126529100</td>\n",
       "      <td>SIR-F</td>\n",
       "      <td>0.81</td>\n",
       "      <td>0.001486</td>\n",
       "      <td>0.000191</td>\n",
       "      <td>0.021028</td>\n",
       "      <td>0.025625</td>\n",
       "      <td>360</td>\n",
       "      <td>11</td>\n",
       "      <td>9</td>\n",
       "      <td>1308</td>\n",
       "      <td>0.001</td>\n",
       "      <td>0.0232612</td>\n",
       "      <td>261</td>\n",
       "      <td>0 min  5 sec</td>\n",
       "    </tr>\n",
       "    <tr>\n",
       "      <th>6th</th>\n",
       "      <td>Past</td>\n",
       "      <td>29Aug2020</td>\n",
       "      <td>08Sep2020</td>\n",
       "      <td>126529100</td>\n",
       "      <td>SIR-F</td>\n",
       "      <td>0.59</td>\n",
       "      <td>0.019233</td>\n",
       "      <td>0.000059</td>\n",
       "      <td>0.016083</td>\n",
       "      <td>0.026590</td>\n",
       "      <td>360</td>\n",
       "      <td>15</td>\n",
       "      <td>9</td>\n",
       "      <td>4203</td>\n",
       "      <td>0.019</td>\n",
       "      <td>0.0834713</td>\n",
       "      <td>263</td>\n",
       "      <td>0 min  5 sec</td>\n",
       "    </tr>\n",
       "    <tr>\n",
       "      <th>7th</th>\n",
       "      <td>Past</td>\n",
       "      <td>09Sep2020</td>\n",
       "      <td>20Sep2020</td>\n",
       "      <td>126529100</td>\n",
       "      <td>SIR-F</td>\n",
       "      <td>0.86</td>\n",
       "      <td>0.002290</td>\n",
       "      <td>0.000295</td>\n",
       "      <td>0.019730</td>\n",
       "      <td>0.022493</td>\n",
       "      <td>360</td>\n",
       "      <td>12</td>\n",
       "      <td>11</td>\n",
       "      <td>846</td>\n",
       "      <td>0.002</td>\n",
       "      <td>0.0227949</td>\n",
       "      <td>524</td>\n",
       "      <td>0 min 15 sec</td>\n",
       "    </tr>\n",
       "    <tr>\n",
       "      <th>8th</th>\n",
       "      <td>Future</td>\n",
       "      <td>21Sep2020</td>\n",
       "      <td>20Oct2020</td>\n",
       "      <td>126529100</td>\n",
       "      <td>SIR-F</td>\n",
       "      <td>0.86</td>\n",
       "      <td>0.002290</td>\n",
       "      <td>0.000295</td>\n",
       "      <td>0.019730</td>\n",
       "      <td>0.022493</td>\n",
       "      <td>360</td>\n",
       "      <td>12</td>\n",
       "      <td>11</td>\n",
       "      <td>846</td>\n",
       "      <td>0.002</td>\n",
       "      <td>-</td>\n",
       "      <td>-</td>\n",
       "      <td>-</td>\n",
       "    </tr>\n",
       "    <tr>\n",
       "      <th>9th</th>\n",
       "      <td>Future</td>\n",
       "      <td>21Oct2020</td>\n",
       "      <td>01Jan2021</td>\n",
       "      <td>126529100</td>\n",
       "      <td>SIR-F</td>\n",
       "      <td>0.43</td>\n",
       "      <td>0.002290</td>\n",
       "      <td>0.000295</td>\n",
       "      <td>0.019730</td>\n",
       "      <td>0.044986</td>\n",
       "      <td>360</td>\n",
       "      <td>12</td>\n",
       "      <td>5</td>\n",
       "      <td>846</td>\n",
       "      <td>0.002</td>\n",
       "      <td>-</td>\n",
       "      <td>-</td>\n",
       "      <td>-</td>\n",
       "    </tr>\n",
       "  </tbody>\n",
       "</table>\n",
       "</div>"
      ],
      "text/plain": [
       "                  Type      Start        End  Population    ODE    Rt  \\\n",
       "Scenario Phase                                                          \n",
       "Main     0th      Past  06Feb2020  21Apr2020   126529100  SIR-F  4.65   \n",
       "         1st      Past  22Apr2020  03Jul2020   126529100  SIR-F  0.40   \n",
       "         2nd      Past  04Jul2020  22Jul2020   126529100  SIR-F  2.08   \n",
       "         3rd      Past  23Jul2020  01Aug2020   126529100  SIR-F  2.06   \n",
       "         4th      Past  02Aug2020  14Aug2020   126529100  SIR-F  1.38   \n",
       "         5th      Past  15Aug2020  28Aug2020   126529100  SIR-F  0.81   \n",
       "         6th      Past  29Aug2020  08Sep2020   126529100  SIR-F  0.59   \n",
       "         7th      Past  09Sep2020  20Sep2020   126529100  SIR-F  0.86   \n",
       "         8th    Future  21Sep2020  01Jan2021   126529100  SIR-F  0.86   \n",
       "Medicine 0th      Past  06Feb2020  21Apr2020   126529100  SIR-F  4.65   \n",
       "         1st      Past  22Apr2020  03Jul2020   126529100  SIR-F  0.40   \n",
       "         2nd      Past  04Jul2020  22Jul2020   126529100  SIR-F  2.08   \n",
       "         3rd      Past  23Jul2020  01Aug2020   126529100  SIR-F  2.06   \n",
       "         4th      Past  02Aug2020  14Aug2020   126529100  SIR-F  1.38   \n",
       "         5th      Past  15Aug2020  28Aug2020   126529100  SIR-F  0.81   \n",
       "         6th      Past  29Aug2020  08Sep2020   126529100  SIR-F  0.59   \n",
       "         7th      Past  09Sep2020  20Sep2020   126529100  SIR-F  0.86   \n",
       "         8th    Future  21Sep2020  20Oct2020   126529100  SIR-F  0.86   \n",
       "         9th    Future  21Oct2020  01Jan2021   126529100  SIR-F  0.43   \n",
       "\n",
       "                   theta     kappa       rho     sigma  tau  1/beta [day]  \\\n",
       "Scenario Phase                                                              \n",
       "Main     0th    0.017296  0.000069  0.025849  0.005396  360             9   \n",
       "         1st    0.084350  0.000186  0.007572  0.017066  360            33   \n",
       "         2nd    0.001088  0.000026  0.035503  0.017018  360             7   \n",
       "         3rd    0.000938  0.000031  0.035897  0.017340  360             6   \n",
       "         4th    0.000492  0.000097  0.024972  0.017937  360            10   \n",
       "         5th    0.001486  0.000191  0.021028  0.025625  360            11   \n",
       "         6th    0.019233  0.000059  0.016083  0.026590  360            15   \n",
       "         7th    0.002290  0.000295  0.019730  0.022493  360            12   \n",
       "         8th    0.002290  0.000295  0.019730  0.022493  360            12   \n",
       "Medicine 0th    0.017296  0.000069  0.025849  0.005396  360             9   \n",
       "         1st    0.084350  0.000186  0.007572  0.017066  360            33   \n",
       "         2nd    0.001088  0.000026  0.035503  0.017018  360             7   \n",
       "         3rd    0.000938  0.000031  0.035897  0.017340  360             6   \n",
       "         4th    0.000492  0.000097  0.024972  0.017937  360            10   \n",
       "         5th    0.001486  0.000191  0.021028  0.025625  360            11   \n",
       "         6th    0.019233  0.000059  0.016083  0.026590  360            15   \n",
       "         7th    0.002290  0.000295  0.019730  0.022493  360            12   \n",
       "         8th    0.002290  0.000295  0.019730  0.022493  360            12   \n",
       "         9th    0.002290  0.000295  0.019730  0.044986  360            12   \n",
       "\n",
       "                1/gamma [day]  1/alpha2 [day]  alpha1 [-]      RMSLE Trials  \\\n",
       "Scenario Phase                                                                \n",
       "Main     0th               46            3629       0.017   0.962479   1937   \n",
       "         1st               14            1341       0.084   0.793123   1921   \n",
       "         2nd               14            9563       0.001  0.0392746   2001   \n",
       "         3rd               14            7997       0.001  0.0350864   2003   \n",
       "         4th               13            2575       0.000  0.0844546   2168   \n",
       "         5th                9            1308       0.001  0.0232612    261   \n",
       "         6th                9            4203       0.019  0.0834713    263   \n",
       "         7th               11             846       0.002  0.0227949    524   \n",
       "         8th               11             846       0.002          -      -   \n",
       "Medicine 0th               46            3629       0.017   0.962479   1937   \n",
       "         1st               14            1341       0.084   0.793123   1921   \n",
       "         2nd               14            9563       0.001  0.0392746   2001   \n",
       "         3rd               14            7997       0.001  0.0350864   2003   \n",
       "         4th               13            2575       0.000  0.0844546   2168   \n",
       "         5th                9            1308       0.001  0.0232612    261   \n",
       "         6th                9            4203       0.019  0.0834713    263   \n",
       "         7th               11             846       0.002  0.0227949    524   \n",
       "         8th               11             846       0.002          -      -   \n",
       "         9th                5             846       0.002          -      -   \n",
       "\n",
       "                     Runtime  \n",
       "Scenario Phase                \n",
       "Main     0th    1 min  0 sec  \n",
       "         1st    1 min  0 sec  \n",
       "         2nd    1 min  0 sec  \n",
       "         3rd    1 min  0 sec  \n",
       "         4th    1 min  0 sec  \n",
       "         5th    0 min  5 sec  \n",
       "         6th    0 min  5 sec  \n",
       "         7th    0 min 15 sec  \n",
       "         8th               -  \n",
       "Medicine 0th    1 min  0 sec  \n",
       "         1st    1 min  0 sec  \n",
       "         2nd    1 min  0 sec  \n",
       "         3rd    1 min  0 sec  \n",
       "         4th    1 min  0 sec  \n",
       "         5th    0 min  5 sec  \n",
       "         6th    0 min  5 sec  \n",
       "         7th    0 min 15 sec  \n",
       "         8th               -  \n",
       "         9th               -  "
      ]
     },
     "execution_count": 40,
     "metadata": {},
     "output_type": "execute_result"
    }
   ],
   "source": [
    "scenario.clear(name=\"Medicine\")\n",
    "scenario.add(name=\"Medicine\", days=30, sigma=sigma_current)\n",
    "scenario.add(name=\"Medicine\", end_date=\"01Jan2021\", sigma=sigma_new)\n",
    "scenario.summary()"
   ]
  },
  {
   "cell_type": "code",
   "execution_count": 41,
   "metadata": {
    "collapsed": false
   },
   "outputs": [
    {
     "data": {
      "image/png": "[encoded data removed]",
      "text/plain": [
       "<Figure size 648x432 with 1 Axes>"
      ]
     },
     "metadata": {},
     "output_type": "display_data"
    },
    {
     "data": {
      "text/html": [
       "<div>\n",
       "<style scoped>\n",
       "    .dataframe tbody tr th:only-of-type {\n",
       "        vertical-align: middle;\n",
       "    }\n",
       "\n",
       "    .dataframe tbody tr th {\n",
       "        vertical-align: top;\n",
       "    }\n",
       "\n",
       "    .dataframe thead th {\n",
       "        text-align: right;\n",
       "    }\n",
       "</style>\n",
       "<table border=\"1\" class=\"dataframe\">\n",
       "  <thead>\n",
       "    <tr style=\"text-align: right;\">\n",
       "      <th></th>\n",
       "      <th>Date</th>\n",
       "      <th>Confirmed</th>\n",
       "      <th>Fatal</th>\n",
       "      <th>Infected</th>\n",
       "      <th>Recovered</th>\n",
       "    </tr>\n",
       "  </thead>\n",
       "  <tbody>\n",
       "    <tr>\n",
       "      <th>327</th>\n",
       "      <td>2020-12-29</td>\n",
       "      <td>94678</td>\n",
       "      <td>1772</td>\n",
       "      <td>4</td>\n",
       "      <td>92902</td>\n",
       "    </tr>\n",
       "    <tr>\n",
       "      <th>328</th>\n",
       "      <td>2020-12-30</td>\n",
       "      <td>94678</td>\n",
       "      <td>1772</td>\n",
       "      <td>3</td>\n",
       "      <td>92903</td>\n",
       "    </tr>\n",
       "    <tr>\n",
       "      <th>329</th>\n",
       "      <td>2020-12-31</td>\n",
       "      <td>94678</td>\n",
       "      <td>1772</td>\n",
       "      <td>3</td>\n",
       "      <td>92903</td>\n",
       "    </tr>\n",
       "    <tr>\n",
       "      <th>330</th>\n",
       "      <td>2021-01-01</td>\n",
       "      <td>94679</td>\n",
       "      <td>1772</td>\n",
       "      <td>3</td>\n",
       "      <td>92904</td>\n",
       "    </tr>\n",
       "    <tr>\n",
       "      <th>331</th>\n",
       "      <td>2021-01-02</td>\n",
       "      <td>94678</td>\n",
       "      <td>1772</td>\n",
       "      <td>2</td>\n",
       "      <td>92904</td>\n",
       "    </tr>\n",
       "  </tbody>\n",
       "</table>\n",
       "</div>"
      ],
      "text/plain": [
       "          Date  Confirmed  Fatal  Infected  Recovered\n",
       "327 2020-12-29      94678   1772         4      92902\n",
       "328 2020-12-30      94678   1772         3      92903\n",
       "329 2020-12-31      94678   1772         3      92903\n",
       "330 2021-01-01      94679   1772         3      92904\n",
       "331 2021-01-02      94678   1772         2      92904"
      ]
     },
     "execution_count": 41,
     "metadata": {},
     "output_type": "execute_result"
    }
   ],
   "source": [
    "scenario.simulate(name=\"Medicine\").tail()"
   ]
  },
  {
   "cell_type": "markdown",
   "metadata": {},
   "source": [
    "### Compare the scenarios"
   ]
  },
  {
   "cell_type": "code",
   "execution_count": 42,
   "metadata": {
    "collapsed": false
   },
   "outputs": [
    {
     "data": {
      "text/html": [
       "<div>\n",
       "<style scoped>\n",
       "    .dataframe tbody tr th:only-of-type {\n",
       "        vertical-align: middle;\n",
       "    }\n",
       "\n",
       "    .dataframe tbody tr th {\n",
       "        vertical-align: top;\n",
       "    }\n",
       "\n",
       "    .dataframe thead th {\n",
       "        text-align: right;\n",
       "    }\n",
       "</style>\n",
       "<table border=\"1\" class=\"dataframe\">\n",
       "  <thead>\n",
       "    <tr style=\"text-align: right;\">\n",
       "      <th></th>\n",
       "      <th>max(Infected)</th>\n",
       "      <th>argmax(Infected)</th>\n",
       "      <th>Infected on 02Jan2021</th>\n",
       "      <th>Fatal on 02Jan2021</th>\n",
       "      <th>9th_Rt</th>\n",
       "    </tr>\n",
       "  </thead>\n",
       "  <tbody>\n",
       "    <tr>\n",
       "      <th>Main</th>\n",
       "      <td>13620</td>\n",
       "      <td>14Aug2020</td>\n",
       "      <td>1726</td>\n",
       "      <td>1995</td>\n",
       "      <td>-</td>\n",
       "    </tr>\n",
       "    <tr>\n",
       "      <th>Medicine</th>\n",
       "      <td>13620</td>\n",
       "      <td>14Aug2020</td>\n",
       "      <td>2</td>\n",
       "      <td>1772</td>\n",
       "      <td>0.43</td>\n",
       "    </tr>\n",
       "  </tbody>\n",
       "</table>\n",
       "</div>"
      ],
      "text/plain": [
       "          max(Infected) argmax(Infected)  Infected on 02Jan2021  \\\n",
       "Main              13620        14Aug2020                   1726   \n",
       "Medicine          13620        14Aug2020                      2   \n",
       "\n",
       "          Fatal on 02Jan2021 9th_Rt  \n",
       "Main                    1995      -  \n",
       "Medicine                1772   0.43  "
      ]
     },
     "execution_count": 42,
     "metadata": {},
     "output_type": "execute_result"
    }
   ],
   "source": [
    "scenario.describe()"
   ]
  },
  {
   "cell_type": "code",
   "execution_count": 43,
   "metadata": {
    "collapsed": false
   },
   "outputs": [
    {
     "data": {
      "image/png": "[encoded data removed]",
      "text/plain": [
       "<Figure size 648x432 with 1 Axes>"
      ]
     },
     "metadata": {},
     "output_type": "display_data"
    }
   ],
   "source": [
    "# version >= 2.8.0\n",
    "_ = scenario.history(target=\"Rt\")"
   ]
  },
  {
   "cell_type": "code",
   "execution_count": 44,
   "metadata": {
    "collapsed": false
   },
   "outputs": [
    {
     "data": {
      "image/png": "[encoded data removed]",
      "text/plain": [
       "<Figure size 648x432 with 1 Axes>"
      ]
     },
     "metadata": {},
     "output_type": "display_data"
    }
   ],
   "source": [
    "# version >= 2.8.0\n",
    "_ = scenario.history(target=\"rho\")"
   ]
  },
  {
   "cell_type": "code",
   "execution_count": 45,
   "metadata": {
    "collapsed": false
   },
   "outputs": [
    {
     "data": {
      "image/png": "[encoded data removed]",
      "text/plain": [
       "<Figure size 648x432 with 1 Axes>"
      ]
     },
     "metadata": {},
     "output_type": "display_data"
    }
   ],
   "source": [
    "# version >= 2.8.0\n",
    "_ = scenario.history(target=\"sigma\")"
   ]
  },
  {
   "cell_type": "code",
   "execution_count": 46,
   "metadata": {
    "collapsed": false
   },
   "outputs": [
    {
     "data": {
      "image/png": "[encoded data removed]",
      "text/plain": [
       "<Figure size 648x432 with 1 Axes>"
      ]
     },
     "metadata": {},
     "output_type": "display_data"
    }
   ],
   "source": [
    "# version >= 2.8.0\n",
    "_ = scenario.history(target=\"Infected\")"
   ]
  }
 ],
 "metadata": {
  "kernelspec": {
   "display_name": "Python 3.8.2 64-bit ('covid19-sir': pipenv)",
   "name": "python_defaultSpec_1597313350107"
  },
  "language_info": {
   "codemirror_mode": {
    "name": "ipython",
    "version": 3
   },
   "file_extension": ".py",
   "mimetype": "text/x-python",
   "name": "python",
   "nbconvert_exporter": "python",
   "pygments_lexer": "ipython3",
   "version": 3
  }
 },
 "nbformat": 4,
 "nbformat_minor": 4
}
