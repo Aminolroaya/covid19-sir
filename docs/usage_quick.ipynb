{
 "cells": [
  {
   "cell_type": "markdown",
   "metadata": {},
   "source": [
    "# Usage (quick version)"
   ]
  },
  {
   "cell_type": "markdown",
   "metadata": {},
   "source": [
    "## Preparation"
   ]
  },
  {
   "cell_type": "code",
   "execution_count": 1,
   "metadata": {
    "collapsed": false
   },
   "outputs": [],
   "source": [
    "# Standard users\n",
    "# !pip install covsirphy\n",
    "# Developers (Note: this notebook is in example directory)\n",
    "import os\n",
    "os.chdir(\"../\")"
   ]
  },
  {
   "cell_type": "code",
   "execution_count": 2,
   "metadata": {
    "collapsed": false
   },
   "outputs": [],
   "source": [
    "import warnings"
   ]
  },
  {
   "cell_type": "code",
   "execution_count": 3,
   "metadata": {
    "collapsed": false,
    "tags": []
   },
   "outputs": [
    {
     "data": {
      "text/plain": [
       "'2.8.3'"
      ]
     },
     "execution_count": 3,
     "metadata": {},
     "output_type": "execute_result"
    }
   ],
   "source": [
    "import covsirphy as cs\n",
    "cs.__version__"
   ]
  },
  {
   "cell_type": "markdown",
   "metadata": {},
   "source": [
    "## Dataset preparation\n",
    "Download the datasets to \"input\" direcotry and load them.\n",
    "\n",
    "If \"input\" directory has the datasets, `DataLoader` will load the local files. If the datasets were updated in remote servers, `DataLoader` will update the local files automatically.\n",
    "Download the datasets to \"input\" direcotry and load them.\n",
    "\n",
    "If \"input\" directory has the datasets, `DataLoader` will load the local files. If the datasets were updated in remote servers, `DataLoader` will update the local files automatically."
   ]
  },
  {
   "cell_type": "code",
   "execution_count": 4,
   "metadata": {
    "collapsed": false,
    "tags": []
   },
   "outputs": [
    {
     "name": "stdout",
     "output_type": "stream",
     "text": [
      "Retrieving datasets from COVID-19 Data Hub: https://covid19datahub.io/"
     ]
    },
    {
     "name": "stdout",
     "output_type": "stream",
     "text": [
      "\n"
     ]
    },
    {
     "name": "stdout",
     "output_type": "stream",
     "text": [
      "\n",
      "Detailed citaition list:"
     ]
    },
    {
     "name": "stdout",
     "output_type": "stream",
     "text": [
      "\n"
     ]
    },
    {
     "name": "stdout",
     "output_type": "stream",
     "text": [
      "Open Government Data, United Kingdom (2020), https://coronavirus.data.gov.uk\n",
      "Department of Disease Control of Thailand (2020), https://covid19.th-stat.com/\n",
      "World Health Organization (2020), https://covid19.who.int\n",
      "Ireland Health Protection Surveillance Centre (HPSC) and Health Service Executive (HSE) (2020), https://covid19ireland-geohive.hub.arcgis.com/\n",
      "The COVID Tracking Project (2020), https://covidtracking.com\n",
      "Ministry of Health of Croatia (2020), https://data.gov.hr/dataset/koronavirus/resource/08fab529-ebba-46c7-be79-05782ddb02ef\n",
      "Open Government Data, Latvia (2020), https://data.gov.lv/dati/dataset\n",
      "Taiwan Ministry of Health and Welfare (2020), https://data.gov.tw/dataset/120451\n",
      "Wikipedia (2020), https://en.wikipedia.org/wiki\n",
      "Epistat, Belgian Infectious Diseases (2020), https://epistat.sciensano.be\n",
      "Johns Hopkins Center for Systems Science and Engineering (2020), https://github.com/CSSEGISandData/COVID-19\n",
      "Covid19data.com.au (2020), https://github.com/M3IT/COVID-19_Data\n",
      "Data Science for Social Impact research group, University of Pretoria (2020), https://github.com/dsfsi/covid19za\n",
      "Data on the COVID-19 pandemic in Portugal (2020), https://github.com/dssg-pt/covid19pt-data\n",
      "COVID-19_plus_Russia GitHub repository (2020), https://github.com/grwlf/COVID-19_plus_Russia\n",
      "COVID-19 Peru Data Repository (2020), https://github.com/jmcastagnetto/covid-19-peru-data\n",
      "Twitter Web Scraper for Polish Ministery of Health (2020), https://github.com/martinbenes1996/covid19poland\n",
      "The New York Times (2020), https://github.com/nytimes/covid-19-data\n",
      "Open Government Data, Liechtenstein (2020), https://github.com/openZH/covid_19\n",
      "Open Government Data, Switzerland (2020), https://github.com/openZH/covid_19\n",
      "OpenCOVID19 France (2020), https://github.com/opencovid19-fr/data\n",
      "Our World in Data (2020), https://github.com/owid/covid-19-data\n",
      "COVID-19 Turkey API (2020), https://github.com/ozanerturk/covid19-turkey-api\n",
      "Ministero della Salute, Italia (2020), https://github.com/pcm-dpc/COVID-19\n",
      "Japan COVID-19 Bulletin Board (2020), https://github.com/swsoyee/2019-ncov-japan\n",
      "Public Health Infobase, Government of Canada (2020), https://health-infobase.canada.ca\n",
      "Open Government Data, Austria (2020), https://info.gesundheitsministerium.at/\n",
      "Robert Koch-Institut (2020), https://npgeo-corona-npgeo-de.hub.arcgis.com/datasets/dd4580c810204019a7b8eb3e0b329dd6_0\n",
      "Ministery of Health of Czech Republic (2020), https://onemocneni-aktualne.mzcr.cz/covid-19\n",
      "Public Health Agency, Sweden (2020), https://oppnadata.se/datamangd/#esc_entry=1424&esc_context=525\n",
      "Ministry of Public Health and Population of Haiti (2020), https://proxy.hxlstandard.org/data/738954\n",
      "CIA - Central Intelligence Agency (2020), https://www.cia.gov/library/publications/the-world-factbook/geos/aq.html\n",
      "COVID19-India API (2020), https://www.covid19india.org/\n",
      "Ministerio de Salud y ProtecciÃ³n Social de Colombia (2020), https://www.datos.gov.co\n",
      "Ministery of Health, Slovenia (2020), https://www.gov.si/en/topics/coronavirus-disease-covid-19/\n",
      "Ministerio de Ciencia, TecnologÃ­a, Conocimiento e InnovaciÃ³n (2020), https://www.minciencia.gob.cl/COVID19\n",
      "Ministerio de Sanidad, Consumo y Bienestar Social (2020), https://www.mscbs.gob.es/\n",
      "Canada's National Statistical Agency (2020), https://www150.statcan.gc.ca/t1/tbl1/en/tv.action?pid=1710000901\n",
      "Oxford COVID-19 Government Response Tracker (2020), www.bsg.ox.ac.uk/covidtracker\n",
      "Eurostat (2019), https://ec.europa.eu/eurostat\n",
      "Geloky (2019), https://geloky.com/geocoding/place/Valka+Latvia\n",
      "GADM (2019), https://public.opendatasoft.com/explore/dataset/landkreise-in-germany/table/\n",
      "Statbel, Belgium in Figures (2019), https://statbel.fgov.be/en/themes/population/structure-population\n",
      "Australian Bureau of Statistics (2019), https://www.abs.gov.au/AUSSTATS/abs@.nsf/DetailsPage/3101.0Sep%202019?OpenDocument\n",
      "National Bureau of Statistics of China NBS (2018), http://data.stats.gov.cn/english/easyquery.htm?cn=E0103\n",
      "World Bank Open Data (2018), https://data.worldbank.org/indicator/SP.POP.TOTL\n",
      "Swiss Federal Statistical Office (2018), https://www.bfs.admin.ch/bfs/en/home/statistics/regional-statistics/regional-portraits-key-figures/cantons/data-explanations.html\n",
      "Czech Statistical Office (2018), https://www.czso.cz/csu/czso/demograficka-rocenka-kraju-2009-az-2018\n",
      "Istituto Nazionale di Statistica, Italia (2018), https://www.istat.it/en/population-and-households?data-and-indicators\n",
      "Worldometer (2018), https://www.worldometers.info/world-population/channel-islands-population/\n",
      "City populations worldwide (2016), http://population.city/taiwan/adm/"
     ]
    },
    {
     "name": "stdout",
     "output_type": "stream",
     "text": [
      "\n"
     ]
    },
    {
     "name": "stdout",
     "output_type": "stream",
     "text": [
      "\n",
      "\n"
     ]
    },
    {
     "name": "stdout",
     "output_type": "stream",
     "text": [
      "\n"
     ]
    }
   ],
   "source": [
    "data_loader = cs.DataLoader(\"input\")\n",
    "# The number of cases (JHU style)\n",
    "jhu_data = data_loader.jhu(verbose=True)\n",
    "# Population in each country\n",
    "population_data = data_loader.population(verbose=True)\n",
    "# Government Response Tracker (OxCGRT)\n",
    "oxcgrt_data = data_loader.oxcgrt(verbose=True)"
   ]
  },
  {
   "cell_type": "markdown",
   "metadata": {},
   "source": [
    "### The number of cases (JHU style)"
   ]
  },
  {
   "cell_type": "code",
   "execution_count": 5,
   "metadata": {
    "collapsed": false,
    "tags": []
   },
   "outputs": [
    {
     "name": "stdout",
     "output_type": "stream",
     "text": [
      "(Secondary source) Guidotti, E., Ardia, D., (2020), \"COVID-19 Data Hub\", Journal of Open Source Software 5(51):2376, doi: 10.21105/joss.02376.\n",
      "We can get Citation list of primary sources with DataLoader(...).covid19dh_citation"
     ]
    },
    {
     "name": "stdout",
     "output_type": "stream",
     "text": [
      "\n"
     ]
    }
   ],
   "source": [
    "# Description/citation\n",
    "print(jhu_data.citation)"
   ]
  },
  {
   "cell_type": "code",
   "execution_count": 6,
   "metadata": {
    "collapsed": false,
    "tags": []
   },
   "outputs": [
    {
     "name": "stdout",
     "output_type": "stream",
     "text": [
      "Open Government Data, United Kingdom (2020), https://coronavirus.data.gov.uk\n",
      "Department of Disease Control of Thailand (2020), https://covid19.th-stat.com/\n",
      "World Health Organization (2020), https://covid19.who.int\n",
      "Ireland Health Protection Surveillance Centre (HPSC) and Health Service Executive (HSE) (2020), https://covid19ireland-geohive.hub.arcgis.com/\n",
      "The COVID Tracking Project (2020), https://covidtracking.com\n",
      "Ministry of Health of Croatia (2020), https://data.gov.hr/dataset/koronavirus/resource/08fab529-ebba-46c7-be79-05782ddb02ef\n",
      "Open Government Data, Latvia (2020), https://data.gov.lv/dati/dataset\n",
      "Taiwan Ministry of Health and Welfare (2020), https://data.gov.tw/dataset/120451\n",
      "Wikipedia (2020), https://en.wikipedia.org/wiki\n",
      "Epistat, Belgian Infectious Diseases (2020), https://epistat.sciensano.be\n",
      "Johns Hopkins Center for Systems Science and Engineering (2020), https://github.com/CSSEGISandData/COVID-19\n",
      "Covid19data.com.au (2020), https://github.com/M3IT/COVID-19_Data\n",
      "Data Science for Social Impact research group, University of Pretoria (2020), https://github.com/dsfsi/covid19za\n",
      "Data on the COVID-19 pandemic in Portugal (2020), https://github.com/dssg-pt/covid19pt-data\n",
      "COVID-19_plus_Russia GitHub repository (2020), https://github.com/grwlf/COVID-19_plus_Russia\n",
      "COVID-19 Peru Data Repository (2020), https://github.com/jmcastagnetto/covid-19-peru-data\n",
      "Twitter Web Scraper for Polish Ministery of Health (2020), https://github.com/martinbenes1996/covid19poland\n",
      "The New York Times (2020), https://github.com/nytimes/covid-19-data\n",
      "Open Government Data, Liechtenstein (2020), https://github.com/openZH/covid_19\n",
      "Open Government Data, Switzerland (2020), https://github.com/openZH/covid_19\n",
      "OpenCOVID19 France (2020), https://github.com/opencovid19-fr/data\n",
      "Our World in Data (2020), https://github.com/owid/covid-19-data\n",
      "COVID-19 Turkey API (2020), https://github.com/ozanerturk/covid19-turkey-api\n",
      "Ministero della Salute, Italia (2020), https://github.com/pcm-dpc/COVID-19\n",
      "Japan COVID-19 Bulletin Board (2020), https://github.com/swsoyee/2019-ncov-japan\n",
      "Public Health Infobase, Government of Canada (2020), https://health-infobase.canada.ca\n",
      "Open Government Data, Austria (2020), https://info.gesundheitsministerium.at/\n",
      "Robert Koch-Institut (2020), https://npgeo-corona-npgeo-de.hub.arcgis.com/datasets/dd4580c810204019a7b8eb3e0b329dd6_0\n",
      "Ministery of Health of Czech Republic (2020), https://onemocneni-aktualne.mzcr.cz/covid-19\n",
      "Public Health Agency, Sweden (2020), https://oppnadata.se/datamangd/#esc_entry=1424&esc_context=525\n",
      "Ministry of Public Health and Population of Haiti (2020), https://proxy.hxlstandard.org/data/738954\n",
      "CIA - Central Intelligence Agency (2020), https://www.cia.gov/library/publications/the-world-factbook/geos/aq.html\n",
      "COVID19-India API (2020), https://www.covid19india.org/\n",
      "Ministerio de Salud y ProtecciÃ³n Social de Colombia (2020), https://www.datos.gov.co\n",
      "Ministery of Health, Slovenia (2020), https://www.gov.si/en/topics/coronavirus-disease-covid-19/\n",
      "Ministerio de Ciencia, TecnologÃ­a, Conocimiento e InnovaciÃ³n (2020), https://www.minciencia.gob.cl/COVID19\n",
      "Ministerio de Sanidad, Consumo y Bienestar Social (2020), https://www.mscbs.gob.es/\n",
      "Canada's National Statistical Agency (2020), https://www150.statcan.gc.ca/t1/tbl1/en/tv.action?pid=1710000901\n",
      "Oxford COVID-19 Government Response Tracker (2020), www.bsg.ox.ac.uk/covidtracker\n",
      "Eurostat (2019), https://ec.europa.eu/eurostat\n",
      "Geloky (2019), https://geloky.com/geocoding/place/Valka+Latvia\n",
      "GADM (2019), https://public.opendatasoft.com/explore/dataset/landkreise-in-germany/table/\n",
      "Statbel, Belgium in Figures (2019), https://statbel.fgov.be/en/themes/population/structure-population\n",
      "Australian Bureau of Statistics (2019), https://www.abs.gov.au/AUSSTATS/abs@.nsf/DetailsPage/3101.0Sep%202019?OpenDocument\n",
      "National Bureau of Statistics of China NBS (2018), http://data.stats.gov.cn/english/easyquery.htm?cn=E0103\n",
      "World Bank Open Data (2018), https://data.worldbank.org/indicator/SP.POP.TOTL\n",
      "Swiss Federal Statistical Office (2018), https://www.bfs.admin.ch/bfs/en/home/statistics/regional-statistics/regional-portraits-key-figures/cantons/data-explanations.html\n",
      "Czech Statistical Office (2018), https://www.czso.cz/csu/czso/demograficka-rocenka-kraju-2009-az-2018\n",
      "Istituto Nazionale di Statistica, Italia (2018), https://www.istat.it/en/population-and-households?data-and-indicators\n",
      "Worldometer (2018), https://www.worldometers.info/world-population/channel-islands-population/\n",
      "City populations worldwide (2016), http://population.city/taiwan/adm/"
     ]
    },
    {
     "name": "stdout",
     "output_type": "stream",
     "text": [
      "\n"
     ]
    }
   ],
   "source": [
    "print(data_loader.covid19dh_citation)"
   ]
  },
  {
   "cell_type": "code",
   "execution_count": 7,
   "metadata": {
    "collapsed": false
   },
   "outputs": [
    {
     "data": {
      "text/html": [
       "<div>\n",
       "<style scoped>\n",
       "    .dataframe tbody tr th:only-of-type {\n",
       "        vertical-align: middle;\n",
       "    }\n",
       "\n",
       "    .dataframe tbody tr th {\n",
       "        vertical-align: top;\n",
       "    }\n",
       "\n",
       "    .dataframe thead th {\n",
       "        text-align: right;\n",
       "    }\n",
       "</style>\n",
       "<table border=\"1\" class=\"dataframe\">\n",
       "  <thead>\n",
       "    <tr style=\"text-align: right;\">\n",
       "      <th></th>\n",
       "      <th>ObservationDate</th>\n",
       "      <th>Confirmed</th>\n",
       "      <th>Recovered</th>\n",
       "      <th>Deaths</th>\n",
       "      <th>Population</th>\n",
       "      <th>ISO3</th>\n",
       "      <th>Province/State</th>\n",
       "      <th>Country/Region</th>\n",
       "      <th>school_closing</th>\n",
       "      <th>workplace_closing</th>\n",
       "      <th>cancel_events</th>\n",
       "      <th>gatherings_restrictions</th>\n",
       "      <th>transport_closing</th>\n",
       "      <th>stay_home_restrictions</th>\n",
       "      <th>internal_movement_restrictions</th>\n",
       "      <th>international_movement_restrictions</th>\n",
       "      <th>information_campaigns</th>\n",
       "      <th>testing_policy</th>\n",
       "      <th>contact_tracing</th>\n",
       "      <th>stringency_index</th>\n",
       "    </tr>\n",
       "  </thead>\n",
       "  <tbody>\n",
       "    <tr>\n",
       "      <th>271609</th>\n",
       "      <td>2020-09-29</td>\n",
       "      <td>14</td>\n",
       "      <td>14</td>\n",
       "      <td>0</td>\n",
       "      <td>107808.0</td>\n",
       "      <td>COL</td>\n",
       "      <td>Vichada</td>\n",
       "      <td>Colombia</td>\n",
       "      <td>3</td>\n",
       "      <td>1</td>\n",
       "      <td>2</td>\n",
       "      <td>3</td>\n",
       "      <td>1</td>\n",
       "      <td>0</td>\n",
       "      <td>0</td>\n",
       "      <td>4</td>\n",
       "      <td>2</td>\n",
       "      <td>2</td>\n",
       "      <td>2</td>\n",
       "      <td>62.04</td>\n",
       "    </tr>\n",
       "    <tr>\n",
       "      <th>271610</th>\n",
       "      <td>2020-09-30</td>\n",
       "      <td>14</td>\n",
       "      <td>14</td>\n",
       "      <td>0</td>\n",
       "      <td>107808.0</td>\n",
       "      <td>COL</td>\n",
       "      <td>Vichada</td>\n",
       "      <td>Colombia</td>\n",
       "      <td>3</td>\n",
       "      <td>1</td>\n",
       "      <td>2</td>\n",
       "      <td>3</td>\n",
       "      <td>1</td>\n",
       "      <td>0</td>\n",
       "      <td>0</td>\n",
       "      <td>4</td>\n",
       "      <td>2</td>\n",
       "      <td>2</td>\n",
       "      <td>2</td>\n",
       "      <td>62.04</td>\n",
       "    </tr>\n",
       "    <tr>\n",
       "      <th>271611</th>\n",
       "      <td>2020-10-01</td>\n",
       "      <td>14</td>\n",
       "      <td>14</td>\n",
       "      <td>0</td>\n",
       "      <td>107808.0</td>\n",
       "      <td>COL</td>\n",
       "      <td>Vichada</td>\n",
       "      <td>Colombia</td>\n",
       "      <td>3</td>\n",
       "      <td>1</td>\n",
       "      <td>2</td>\n",
       "      <td>3</td>\n",
       "      <td>1</td>\n",
       "      <td>0</td>\n",
       "      <td>0</td>\n",
       "      <td>4</td>\n",
       "      <td>2</td>\n",
       "      <td>2</td>\n",
       "      <td>2</td>\n",
       "      <td>62.04</td>\n",
       "    </tr>\n",
       "    <tr>\n",
       "      <th>271612</th>\n",
       "      <td>2020-10-02</td>\n",
       "      <td>14</td>\n",
       "      <td>14</td>\n",
       "      <td>0</td>\n",
       "      <td>107808.0</td>\n",
       "      <td>COL</td>\n",
       "      <td>Vichada</td>\n",
       "      <td>Colombia</td>\n",
       "      <td>3</td>\n",
       "      <td>1</td>\n",
       "      <td>2</td>\n",
       "      <td>3</td>\n",
       "      <td>1</td>\n",
       "      <td>0</td>\n",
       "      <td>0</td>\n",
       "      <td>4</td>\n",
       "      <td>2</td>\n",
       "      <td>2</td>\n",
       "      <td>2</td>\n",
       "      <td>62.04</td>\n",
       "    </tr>\n",
       "    <tr>\n",
       "      <th>271613</th>\n",
       "      <td>2020-10-03</td>\n",
       "      <td>14</td>\n",
       "      <td>14</td>\n",
       "      <td>0</td>\n",
       "      <td>107808.0</td>\n",
       "      <td>COL</td>\n",
       "      <td>Vichada</td>\n",
       "      <td>Colombia</td>\n",
       "      <td>3</td>\n",
       "      <td>1</td>\n",
       "      <td>2</td>\n",
       "      <td>3</td>\n",
       "      <td>1</td>\n",
       "      <td>0</td>\n",
       "      <td>0</td>\n",
       "      <td>4</td>\n",
       "      <td>2</td>\n",
       "      <td>2</td>\n",
       "      <td>2</td>\n",
       "      <td>62.04</td>\n",
       "    </tr>\n",
       "  </tbody>\n",
       "</table>\n",
       "</div>"
      ],
      "text/plain": [
       "       ObservationDate  Confirmed  Recovered  Deaths  Population ISO3  \\\n",
       "271609      2020-09-29         14         14       0    107808.0  COL   \n",
       "271610      2020-09-30         14         14       0    107808.0  COL   \n",
       "271611      2020-10-01         14         14       0    107808.0  COL   \n",
       "271612      2020-10-02         14         14       0    107808.0  COL   \n",
       "271613      2020-10-03         14         14       0    107808.0  COL   \n",
       "\n",
       "       Province/State Country/Region  school_closing  workplace_closing  \\\n",
       "271609        Vichada       Colombia               3                  1   \n",
       "271610        Vichada       Colombia               3                  1   \n",
       "271611        Vichada       Colombia               3                  1   \n",
       "271612        Vichada       Colombia               3                  1   \n",
       "271613        Vichada       Colombia               3                  1   \n",
       "\n",
       "        cancel_events  gatherings_restrictions  transport_closing  \\\n",
       "271609              2                        3                  1   \n",
       "271610              2                        3                  1   \n",
       "271611              2                        3                  1   \n",
       "271612              2                        3                  1   \n",
       "271613              2                        3                  1   \n",
       "\n",
       "        stay_home_restrictions  internal_movement_restrictions  \\\n",
       "271609                       0                               0   \n",
       "271610                       0                               0   \n",
       "271611                       0                               0   \n",
       "271612                       0                               0   \n",
       "271613                       0                               0   \n",
       "\n",
       "        international_movement_restrictions  information_campaigns  \\\n",
       "271609                                    4                      2   \n",
       "271610                                    4                      2   \n",
       "271611                                    4                      2   \n",
       "271612                                    4                      2   \n",
       "271613                                    4                      2   \n",
       "\n",
       "        testing_policy  contact_tracing  stringency_index  \n",
       "271609               2                2             62.04  \n",
       "271610               2                2             62.04  \n",
       "271611               2                2             62.04  \n",
       "271612               2                2             62.04  \n",
       "271613               2                2             62.04  "
      ]
     },
     "execution_count": 7,
     "metadata": {},
     "output_type": "execute_result"
    }
   ],
   "source": [
    "# Raw data\n",
    "jhu_data.raw.tail()"
   ]
  },
  {
   "cell_type": "code",
   "execution_count": 8,
   "metadata": {
    "collapsed": false
   },
   "outputs": [
    {
     "data": {
      "text/html": [
       "<div>\n",
       "<style scoped>\n",
       "    .dataframe tbody tr th:only-of-type {\n",
       "        vertical-align: middle;\n",
       "    }\n",
       "\n",
       "    .dataframe tbody tr th {\n",
       "        vertical-align: top;\n",
       "    }\n",
       "\n",
       "    .dataframe thead th {\n",
       "        text-align: right;\n",
       "    }\n",
       "</style>\n",
       "<table border=\"1\" class=\"dataframe\">\n",
       "  <thead>\n",
       "    <tr style=\"text-align: right;\">\n",
       "      <th></th>\n",
       "      <th>Date</th>\n",
       "      <th>Country</th>\n",
       "      <th>Province</th>\n",
       "      <th>Confirmed</th>\n",
       "      <th>Infected</th>\n",
       "      <th>Fatal</th>\n",
       "      <th>Recovered</th>\n",
       "    </tr>\n",
       "  </thead>\n",
       "  <tbody>\n",
       "    <tr>\n",
       "      <th>271609</th>\n",
       "      <td>2020-09-29</td>\n",
       "      <td>Colombia</td>\n",
       "      <td>Vichada</td>\n",
       "      <td>14</td>\n",
       "      <td>0</td>\n",
       "      <td>0</td>\n",
       "      <td>14</td>\n",
       "    </tr>\n",
       "    <tr>\n",
       "      <th>271610</th>\n",
       "      <td>2020-09-30</td>\n",
       "      <td>Colombia</td>\n",
       "      <td>Vichada</td>\n",
       "      <td>14</td>\n",
       "      <td>0</td>\n",
       "      <td>0</td>\n",
       "      <td>14</td>\n",
       "    </tr>\n",
       "    <tr>\n",
       "      <th>271611</th>\n",
       "      <td>2020-10-01</td>\n",
       "      <td>Colombia</td>\n",
       "      <td>Vichada</td>\n",
       "      <td>14</td>\n",
       "      <td>0</td>\n",
       "      <td>0</td>\n",
       "      <td>14</td>\n",
       "    </tr>\n",
       "    <tr>\n",
       "      <th>271612</th>\n",
       "      <td>2020-10-02</td>\n",
       "      <td>Colombia</td>\n",
       "      <td>Vichada</td>\n",
       "      <td>14</td>\n",
       "      <td>0</td>\n",
       "      <td>0</td>\n",
       "      <td>14</td>\n",
       "    </tr>\n",
       "    <tr>\n",
       "      <th>271613</th>\n",
       "      <td>2020-10-03</td>\n",
       "      <td>Colombia</td>\n",
       "      <td>Vichada</td>\n",
       "      <td>14</td>\n",
       "      <td>0</td>\n",
       "      <td>0</td>\n",
       "      <td>14</td>\n",
       "    </tr>\n",
       "  </tbody>\n",
       "</table>\n",
       "</div>"
      ],
      "text/plain": [
       "             Date   Country Province  Confirmed  Infected  Fatal  Recovered\n",
       "271609 2020-09-29  Colombia  Vichada         14         0      0         14\n",
       "271610 2020-09-30  Colombia  Vichada         14         0      0         14\n",
       "271611 2020-10-01  Colombia  Vichada         14         0      0         14\n",
       "271612 2020-10-02  Colombia  Vichada         14         0      0         14\n",
       "271613 2020-10-03  Colombia  Vichada         14         0      0         14"
      ]
     },
     "execution_count": 8,
     "metadata": {},
     "output_type": "execute_result"
    }
   ],
   "source": [
    "# Cleaned data\n",
    "jhu_data.cleaned().tail()"
   ]
  },
  {
   "cell_type": "code",
   "execution_count": 9,
   "metadata": {
    "collapsed": false
   },
   "outputs": [
    {
     "data": {
      "text/html": [
       "<div>\n",
       "<style scoped>\n",
       "    .dataframe tbody tr th:only-of-type {\n",
       "        vertical-align: middle;\n",
       "    }\n",
       "\n",
       "    .dataframe tbody tr th {\n",
       "        vertical-align: top;\n",
       "    }\n",
       "\n",
       "    .dataframe thead th {\n",
       "        text-align: right;\n",
       "    }\n",
       "</style>\n",
       "<table border=\"1\" class=\"dataframe\">\n",
       "  <thead>\n",
       "    <tr style=\"text-align: right;\">\n",
       "      <th></th>\n",
       "      <th>Date</th>\n",
       "      <th>Confirmed</th>\n",
       "      <th>Infected</th>\n",
       "      <th>Fatal</th>\n",
       "      <th>Recovered</th>\n",
       "    </tr>\n",
       "  </thead>\n",
       "  <tbody>\n",
       "    <tr>\n",
       "      <th>194</th>\n",
       "      <td>2020-09-29</td>\n",
       "      <td>25547</td>\n",
       "      <td>2361</td>\n",
       "      <td>407</td>\n",
       "      <td>22779</td>\n",
       "    </tr>\n",
       "    <tr>\n",
       "      <th>195</th>\n",
       "      <td>2020-09-30</td>\n",
       "      <td>25741</td>\n",
       "      <td>2377</td>\n",
       "      <td>408</td>\n",
       "      <td>22956</td>\n",
       "    </tr>\n",
       "    <tr>\n",
       "      <th>196</th>\n",
       "      <td>2020-10-01</td>\n",
       "      <td>25973</td>\n",
       "      <td>2417</td>\n",
       "      <td>409</td>\n",
       "      <td>23147</td>\n",
       "    </tr>\n",
       "    <tr>\n",
       "      <th>197</th>\n",
       "      <td>2020-10-02</td>\n",
       "      <td>26169</td>\n",
       "      <td>2330</td>\n",
       "      <td>409</td>\n",
       "      <td>23430</td>\n",
       "    </tr>\n",
       "    <tr>\n",
       "      <th>198</th>\n",
       "      <td>2020-10-03</td>\n",
       "      <td>26376</td>\n",
       "      <td>2535</td>\n",
       "      <td>411</td>\n",
       "      <td>23430</td>\n",
       "    </tr>\n",
       "  </tbody>\n",
       "</table>\n",
       "</div>"
      ],
      "text/plain": [
       "          Date  Confirmed  Infected  Fatal  Recovered\n",
       "194 2020-09-29      25547      2361    407      22779\n",
       "195 2020-09-30      25741      2377    408      22956\n",
       "196 2020-10-01      25973      2417    409      23147\n",
       "197 2020-10-02      26169      2330    409      23430\n",
       "198 2020-10-03      26376      2535    411      23430"
      ]
     },
     "execution_count": 9,
     "metadata": {},
     "output_type": "execute_result"
    }
   ],
   "source": [
    "# Subset for a country\n",
    "jhu_data.subset(\"Japan\", province=\"Tokyo\").tail()"
   ]
  },
  {
   "cell_type": "code",
   "execution_count": 10,
   "metadata": {
    "collapsed": false
   },
   "outputs": [
    {
     "data": {
      "text/html": [
       "<div>\n",
       "<style scoped>\n",
       "    .dataframe tbody tr th:only-of-type {\n",
       "        vertical-align: middle;\n",
       "    }\n",
       "\n",
       "    .dataframe tbody tr th {\n",
       "        vertical-align: top;\n",
       "    }\n",
       "\n",
       "    .dataframe thead th {\n",
       "        text-align: right;\n",
       "    }\n",
       "</style>\n",
       "<table border=\"1\" class=\"dataframe\">\n",
       "  <thead>\n",
       "    <tr style=\"text-align: right;\">\n",
       "      <th></th>\n",
       "      <th>Confirmed</th>\n",
       "      <th>Infected</th>\n",
       "      <th>Fatal</th>\n",
       "      <th>Recovered</th>\n",
       "      <th>Fatal per Confirmed</th>\n",
       "      <th>Recovered per Confirmed</th>\n",
       "      <th>Fatal per (Fatal or Recovered)</th>\n",
       "    </tr>\n",
       "    <tr>\n",
       "      <th>Date</th>\n",
       "      <th></th>\n",
       "      <th></th>\n",
       "      <th></th>\n",
       "      <th></th>\n",
       "      <th></th>\n",
       "      <th></th>\n",
       "      <th></th>\n",
       "    </tr>\n",
       "  </thead>\n",
       "  <tbody>\n",
       "    <tr>\n",
       "      <th>2020-09-29</th>\n",
       "      <td>33321202</td>\n",
       "      <td>9263788</td>\n",
       "      <td>1002122</td>\n",
       "      <td>23055292</td>\n",
       "      <td>0.015037</td>\n",
       "      <td>0.345955</td>\n",
       "      <td>0.041655</td>\n",
       "    </tr>\n",
       "    <tr>\n",
       "      <th>2020-09-30</th>\n",
       "      <td>33642269</td>\n",
       "      <td>9340073</td>\n",
       "      <td>1008333</td>\n",
       "      <td>23293863</td>\n",
       "      <td>0.014986</td>\n",
       "      <td>0.346199</td>\n",
       "      <td>0.041491</td>\n",
       "    </tr>\n",
       "    <tr>\n",
       "      <th>2020-10-01</th>\n",
       "      <td>33952761</td>\n",
       "      <td>9437666</td>\n",
       "      <td>1016872</td>\n",
       "      <td>23498223</td>\n",
       "      <td>0.014975</td>\n",
       "      <td>0.346043</td>\n",
       "      <td>0.041479</td>\n",
       "    </tr>\n",
       "    <tr>\n",
       "      <th>2020-10-02</th>\n",
       "      <td>34232034</td>\n",
       "      <td>9547158</td>\n",
       "      <td>1021498</td>\n",
       "      <td>23663378</td>\n",
       "      <td>0.014920</td>\n",
       "      <td>0.345632</td>\n",
       "      <td>0.041382</td>\n",
       "    </tr>\n",
       "    <tr>\n",
       "      <th>2020-10-03</th>\n",
       "      <td>34232715</td>\n",
       "      <td>9624168</td>\n",
       "      <td>1021504</td>\n",
       "      <td>23587043</td>\n",
       "      <td>0.014920</td>\n",
       "      <td>0.344510</td>\n",
       "      <td>0.041510</td>\n",
       "    </tr>\n",
       "  </tbody>\n",
       "</table>\n",
       "</div>"
      ],
      "text/plain": [
       "            Confirmed  Infected    Fatal  Recovered  Fatal per Confirmed  \\\n",
       "Date                                                                       \n",
       "2020-09-29   33321202   9263788  1002122   23055292             0.015037   \n",
       "2020-09-30   33642269   9340073  1008333   23293863             0.014986   \n",
       "2020-10-01   33952761   9437666  1016872   23498223             0.014975   \n",
       "2020-10-02   34232034   9547158  1021498   23663378             0.014920   \n",
       "2020-10-03   34232715   9624168  1021504   23587043             0.014920   \n",
       "\n",
       "            Recovered per Confirmed  Fatal per (Fatal or Recovered)  \n",
       "Date                                                                 \n",
       "2020-09-29                 0.345955                        0.041655  \n",
       "2020-09-30                 0.346199                        0.041491  \n",
       "2020-10-01                 0.346043                        0.041479  \n",
       "2020-10-02                 0.345632                        0.041382  \n",
       "2020-10-03                 0.344510                        0.041510  "
      ]
     },
     "execution_count": 10,
     "metadata": {},
     "output_type": "execute_result"
    }
   ],
   "source": [
    "# Total\n",
    "total_df = jhu_data.total()\n",
    "total_df.tail()"
   ]
  },
  {
   "cell_type": "code",
   "execution_count": 11,
   "metadata": {
    "collapsed": false
   },
   "outputs": [
    {
     "data": {
      "image/png": "[encoded data removed]",
      "text/plain": [
       "<Figure size 648x432 with 1 Axes>"
      ]
     },
     "metadata": {},
     "output_type": "display_data"
    }
   ],
   "source": [
    "# Plot the total values\n",
    "cs.line_plot(total_df[[\"Infected\", \"Fatal\", \"Recovered\"]], \"Total number of cases over time\")"
   ]
  },
  {
   "cell_type": "markdown",
   "metadata": {},
   "source": [
    "### (Optional) Replace the dataset in Japan\n"
   ]
  },
  {
   "cell_type": "code",
   "execution_count": 12,
   "metadata": {
    "collapsed": false
   },
   "outputs": [
    {
     "data": {
      "text/html": [
       "<div>\n",
       "<style scoped>\n",
       "    .dataframe tbody tr th:only-of-type {\n",
       "        vertical-align: middle;\n",
       "    }\n",
       "\n",
       "    .dataframe tbody tr th {\n",
       "        vertical-align: top;\n",
       "    }\n",
       "\n",
       "    .dataframe thead th {\n",
       "        text-align: right;\n",
       "    }\n",
       "</style>\n",
       "<table border=\"1\" class=\"dataframe\">\n",
       "  <thead>\n",
       "    <tr style=\"text-align: right;\">\n",
       "      <th></th>\n",
       "      <th>Date</th>\n",
       "      <th>Confirmed</th>\n",
       "      <th>Infected</th>\n",
       "      <th>Fatal</th>\n",
       "      <th>Recovered</th>\n",
       "    </tr>\n",
       "  </thead>\n",
       "  <tbody>\n",
       "    <tr>\n",
       "      <th>233</th>\n",
       "      <td>2020-09-29</td>\n",
       "      <td>83027</td>\n",
       "      <td>6022</td>\n",
       "      <td>1567</td>\n",
       "      <td>75438</td>\n",
       "    </tr>\n",
       "    <tr>\n",
       "      <th>234</th>\n",
       "      <td>2020-09-30</td>\n",
       "      <td>83604</td>\n",
       "      <td>6032</td>\n",
       "      <td>1574</td>\n",
       "      <td>75998</td>\n",
       "    </tr>\n",
       "    <tr>\n",
       "      <th>235</th>\n",
       "      <td>2020-10-01</td>\n",
       "      <td>84236</td>\n",
       "      <td>6087</td>\n",
       "      <td>1582</td>\n",
       "      <td>76567</td>\n",
       "    </tr>\n",
       "    <tr>\n",
       "      <th>236</th>\n",
       "      <td>2020-10-02</td>\n",
       "      <td>84778</td>\n",
       "      <td>5989</td>\n",
       "      <td>1593</td>\n",
       "      <td>77196</td>\n",
       "    </tr>\n",
       "    <tr>\n",
       "      <th>237</th>\n",
       "      <td>2020-10-03</td>\n",
       "      <td>85355</td>\n",
       "      <td>83756</td>\n",
       "      <td>1599</td>\n",
       "      <td>76155</td>\n",
       "    </tr>\n",
       "  </tbody>\n",
       "</table>\n",
       "</div>"
      ],
      "text/plain": [
       "          Date  Confirmed  Infected  Fatal  Recovered\n",
       "233 2020-09-29      83027      6022   1567      75438\n",
       "234 2020-09-30      83604      6032   1574      75998\n",
       "235 2020-10-01      84236      6087   1582      76567\n",
       "236 2020-10-02      84778      5989   1593      77196\n",
       "237 2020-10-03      85355     83756   1599      76155"
      ]
     },
     "execution_count": 12,
     "metadata": {},
     "output_type": "execute_result"
    }
   ],
   "source": [
    "jhu_data.subset(\"Japan\").tail()"
   ]
  },
  {
   "cell_type": "code",
   "execution_count": 13,
   "metadata": {
    "collapsed": false,
    "tags": []
   },
   "outputs": [
    {
     "name": "stdout",
     "output_type": "stream",
     "text": [
      "Lisphilar (2020), COVID-19 dataset in Japan, GitHub repository, https://github.com/lisphilar/covid19-sir/data/japan"
     ]
    },
    {
     "name": "stdout",
     "output_type": "stream",
     "text": [
      "\n"
     ]
    }
   ],
   "source": [
    "japan_data = data_loader.japan()\n",
    "print(japan_data.citation)"
   ]
  },
  {
   "cell_type": "code",
   "execution_count": 14,
   "metadata": {
    "collapsed": false
   },
   "outputs": [
    {
     "data": {
      "text/html": [
       "<div>\n",
       "<style scoped>\n",
       "    .dataframe tbody tr th:only-of-type {\n",
       "        vertical-align: middle;\n",
       "    }\n",
       "\n",
       "    .dataframe tbody tr th {\n",
       "        vertical-align: top;\n",
       "    }\n",
       "\n",
       "    .dataframe thead th {\n",
       "        text-align: right;\n",
       "    }\n",
       "</style>\n",
       "<table border=\"1\" class=\"dataframe\">\n",
       "  <thead>\n",
       "    <tr style=\"text-align: right;\">\n",
       "      <th></th>\n",
       "      <th>Date</th>\n",
       "      <th>Confirmed</th>\n",
       "      <th>Infected</th>\n",
       "      <th>Fatal</th>\n",
       "      <th>Recovered</th>\n",
       "    </tr>\n",
       "  </thead>\n",
       "  <tbody>\n",
       "    <tr>\n",
       "      <th>231</th>\n",
       "      <td>2020-09-29</td>\n",
       "      <td>82494</td>\n",
       "      <td>5478</td>\n",
       "      <td>1557</td>\n",
       "      <td>75459</td>\n",
       "    </tr>\n",
       "    <tr>\n",
       "      <th>232</th>\n",
       "      <td>2020-09-30</td>\n",
       "      <td>83010</td>\n",
       "      <td>5421</td>\n",
       "      <td>1564</td>\n",
       "      <td>76025</td>\n",
       "    </tr>\n",
       "    <tr>\n",
       "      <th>233</th>\n",
       "      <td>2020-10-01</td>\n",
       "      <td>83563</td>\n",
       "      <td>5402</td>\n",
       "      <td>1571</td>\n",
       "      <td>76590</td>\n",
       "    </tr>\n",
       "    <tr>\n",
       "      <th>234</th>\n",
       "      <td>2020-10-02</td>\n",
       "      <td>84215</td>\n",
       "      <td>5418</td>\n",
       "      <td>1578</td>\n",
       "      <td>77219</td>\n",
       "    </tr>\n",
       "    <tr>\n",
       "      <th>235</th>\n",
       "      <td>2020-10-03</td>\n",
       "      <td>84768</td>\n",
       "      <td>5371</td>\n",
       "      <td>1590</td>\n",
       "      <td>77807</td>\n",
       "    </tr>\n",
       "  </tbody>\n",
       "</table>\n",
       "</div>"
      ],
      "text/plain": [
       "          Date  Confirmed  Infected  Fatal  Recovered\n",
       "231 2020-09-29      82494      5478   1557      75459\n",
       "232 2020-09-30      83010      5421   1564      76025\n",
       "233 2020-10-01      83563      5402   1571      76590\n",
       "234 2020-10-02      84215      5418   1578      77219\n",
       "235 2020-10-03      84768      5371   1590      77807"
      ]
     },
     "execution_count": 14,
     "metadata": {},
     "output_type": "execute_result"
    }
   ],
   "source": [
    "jhu_data.replace(japan_data)\n",
    "jhu_data.subset(\"Japan\").tail()"
   ]
  },
  {
   "cell_type": "markdown",
   "metadata": {},
   "source": [
    "### Population in each country"
   ]
  },
  {
   "cell_type": "code",
   "execution_count": 15,
   "metadata": {
    "collapsed": false,
    "tags": []
   },
   "outputs": [
    {
     "name": "stdout",
     "output_type": "stream",
     "text": [
      "(Secondary source) Guidotti, E., Ardia, D., (2020), \"COVID-19 Data Hub\", Journal of Open Source Software 5(51):2376, doi: 10.21105/joss.02376.\n",
      "We can get Citation list of primary sources with DataLoader(...).covid19dh_citation"
     ]
    },
    {
     "name": "stdout",
     "output_type": "stream",
     "text": [
      "\n"
     ]
    }
   ],
   "source": [
    "# Description/citation\n",
    "print(population_data.citation)"
   ]
  },
  {
   "cell_type": "code",
   "execution_count": 16,
   "metadata": {
    "collapsed": false
   },
   "outputs": [
    {
     "data": {
      "text/html": [
       "<div>\n",
       "<style scoped>\n",
       "    .dataframe tbody tr th:only-of-type {\n",
       "        vertical-align: middle;\n",
       "    }\n",
       "\n",
       "    .dataframe tbody tr th {\n",
       "        vertical-align: top;\n",
       "    }\n",
       "\n",
       "    .dataframe thead th {\n",
       "        text-align: right;\n",
       "    }\n",
       "</style>\n",
       "<table border=\"1\" class=\"dataframe\">\n",
       "  <thead>\n",
       "    <tr style=\"text-align: right;\">\n",
       "      <th></th>\n",
       "      <th>ObservationDate</th>\n",
       "      <th>Confirmed</th>\n",
       "      <th>Recovered</th>\n",
       "      <th>Deaths</th>\n",
       "      <th>Population</th>\n",
       "      <th>ISO3</th>\n",
       "      <th>Province/State</th>\n",
       "      <th>Country/Region</th>\n",
       "      <th>school_closing</th>\n",
       "      <th>workplace_closing</th>\n",
       "      <th>cancel_events</th>\n",
       "      <th>gatherings_restrictions</th>\n",
       "      <th>transport_closing</th>\n",
       "      <th>stay_home_restrictions</th>\n",
       "      <th>internal_movement_restrictions</th>\n",
       "      <th>international_movement_restrictions</th>\n",
       "      <th>information_campaigns</th>\n",
       "      <th>testing_policy</th>\n",
       "      <th>contact_tracing</th>\n",
       "      <th>stringency_index</th>\n",
       "    </tr>\n",
       "  </thead>\n",
       "  <tbody>\n",
       "    <tr>\n",
       "      <th>271609</th>\n",
       "      <td>2020-09-29</td>\n",
       "      <td>14</td>\n",
       "      <td>14</td>\n",
       "      <td>0</td>\n",
       "      <td>107808.0</td>\n",
       "      <td>COL</td>\n",
       "      <td>Vichada</td>\n",
       "      <td>Colombia</td>\n",
       "      <td>3</td>\n",
       "      <td>1</td>\n",
       "      <td>2</td>\n",
       "      <td>3</td>\n",
       "      <td>1</td>\n",
       "      <td>0</td>\n",
       "      <td>0</td>\n",
       "      <td>4</td>\n",
       "      <td>2</td>\n",
       "      <td>2</td>\n",
       "      <td>2</td>\n",
       "      <td>62.04</td>\n",
       "    </tr>\n",
       "    <tr>\n",
       "      <th>271610</th>\n",
       "      <td>2020-09-30</td>\n",
       "      <td>14</td>\n",
       "      <td>14</td>\n",
       "      <td>0</td>\n",
       "      <td>107808.0</td>\n",
       "      <td>COL</td>\n",
       "      <td>Vichada</td>\n",
       "      <td>Colombia</td>\n",
       "      <td>3</td>\n",
       "      <td>1</td>\n",
       "      <td>2</td>\n",
       "      <td>3</td>\n",
       "      <td>1</td>\n",
       "      <td>0</td>\n",
       "      <td>0</td>\n",
       "      <td>4</td>\n",
       "      <td>2</td>\n",
       "      <td>2</td>\n",
       "      <td>2</td>\n",
       "      <td>62.04</td>\n",
       "    </tr>\n",
       "    <tr>\n",
       "      <th>271611</th>\n",
       "      <td>2020-10-01</td>\n",
       "      <td>14</td>\n",
       "      <td>14</td>\n",
       "      <td>0</td>\n",
       "      <td>107808.0</td>\n",
       "      <td>COL</td>\n",
       "      <td>Vichada</td>\n",
       "      <td>Colombia</td>\n",
       "      <td>3</td>\n",
       "      <td>1</td>\n",
       "      <td>2</td>\n",
       "      <td>3</td>\n",
       "      <td>1</td>\n",
       "      <td>0</td>\n",
       "      <td>0</td>\n",
       "      <td>4</td>\n",
       "      <td>2</td>\n",
       "      <td>2</td>\n",
       "      <td>2</td>\n",
       "      <td>62.04</td>\n",
       "    </tr>\n",
       "    <tr>\n",
       "      <th>271612</th>\n",
       "      <td>2020-10-02</td>\n",
       "      <td>14</td>\n",
       "      <td>14</td>\n",
       "      <td>0</td>\n",
       "      <td>107808.0</td>\n",
       "      <td>COL</td>\n",
       "      <td>Vichada</td>\n",
       "      <td>Colombia</td>\n",
       "      <td>3</td>\n",
       "      <td>1</td>\n",
       "      <td>2</td>\n",
       "      <td>3</td>\n",
       "      <td>1</td>\n",
       "      <td>0</td>\n",
       "      <td>0</td>\n",
       "      <td>4</td>\n",
       "      <td>2</td>\n",
       "      <td>2</td>\n",
       "      <td>2</td>\n",
       "      <td>62.04</td>\n",
       "    </tr>\n",
       "    <tr>\n",
       "      <th>271613</th>\n",
       "      <td>2020-10-03</td>\n",
       "      <td>14</td>\n",
       "      <td>14</td>\n",
       "      <td>0</td>\n",
       "      <td>107808.0</td>\n",
       "      <td>COL</td>\n",
       "      <td>Vichada</td>\n",
       "      <td>Colombia</td>\n",
       "      <td>3</td>\n",
       "      <td>1</td>\n",
       "      <td>2</td>\n",
       "      <td>3</td>\n",
       "      <td>1</td>\n",
       "      <td>0</td>\n",
       "      <td>0</td>\n",
       "      <td>4</td>\n",
       "      <td>2</td>\n",
       "      <td>2</td>\n",
       "      <td>2</td>\n",
       "      <td>62.04</td>\n",
       "    </tr>\n",
       "  </tbody>\n",
       "</table>\n",
       "</div>"
      ],
      "text/plain": [
       "       ObservationDate  Confirmed  Recovered  Deaths  Population ISO3  \\\n",
       "271609      2020-09-29         14         14       0    107808.0  COL   \n",
       "271610      2020-09-30         14         14       0    107808.0  COL   \n",
       "271611      2020-10-01         14         14       0    107808.0  COL   \n",
       "271612      2020-10-02         14         14       0    107808.0  COL   \n",
       "271613      2020-10-03         14         14       0    107808.0  COL   \n",
       "\n",
       "       Province/State Country/Region  school_closing  workplace_closing  \\\n",
       "271609        Vichada       Colombia               3                  1   \n",
       "271610        Vichada       Colombia               3                  1   \n",
       "271611        Vichada       Colombia               3                  1   \n",
       "271612        Vichada       Colombia               3                  1   \n",
       "271613        Vichada       Colombia               3                  1   \n",
       "\n",
       "        cancel_events  gatherings_restrictions  transport_closing  \\\n",
       "271609              2                        3                  1   \n",
       "271610              2                        3                  1   \n",
       "271611              2                        3                  1   \n",
       "271612              2                        3                  1   \n",
       "271613              2                        3                  1   \n",
       "\n",
       "        stay_home_restrictions  internal_movement_restrictions  \\\n",
       "271609                       0                               0   \n",
       "271610                       0                               0   \n",
       "271611                       0                               0   \n",
       "271612                       0                               0   \n",
       "271613                       0                               0   \n",
       "\n",
       "        international_movement_restrictions  information_campaigns  \\\n",
       "271609                                    4                      2   \n",
       "271610                                    4                      2   \n",
       "271611                                    4                      2   \n",
       "271612                                    4                      2   \n",
       "271613                                    4                      2   \n",
       "\n",
       "        testing_policy  contact_tracing  stringency_index  \n",
       "271609               2                2             62.04  \n",
       "271610               2                2             62.04  \n",
       "271611               2                2             62.04  \n",
       "271612               2                2             62.04  \n",
       "271613               2                2             62.04  "
      ]
     },
     "execution_count": 16,
     "metadata": {},
     "output_type": "execute_result"
    }
   ],
   "source": [
    "# Raw data (the same as jhu_data)\n",
    "population_data.raw.tail()"
   ]
  },
  {
   "cell_type": "code",
   "execution_count": 17,
   "metadata": {
    "collapsed": false
   },
   "outputs": [
    {
     "data": {
      "text/html": [
       "<div>\n",
       "<style scoped>\n",
       "    .dataframe tbody tr th:only-of-type {\n",
       "        vertical-align: middle;\n",
       "    }\n",
       "\n",
       "    .dataframe tbody tr th {\n",
       "        vertical-align: top;\n",
       "    }\n",
       "\n",
       "    .dataframe thead th {\n",
       "        text-align: right;\n",
       "    }\n",
       "</style>\n",
       "<table border=\"1\" class=\"dataframe\">\n",
       "  <thead>\n",
       "    <tr style=\"text-align: right;\">\n",
       "      <th></th>\n",
       "      <th>ISO3</th>\n",
       "      <th>Country</th>\n",
       "      <th>Province</th>\n",
       "      <th>Date</th>\n",
       "      <th>Population</th>\n",
       "    </tr>\n",
       "  </thead>\n",
       "  <tbody>\n",
       "    <tr>\n",
       "      <th>231975</th>\n",
       "      <td>COL</td>\n",
       "      <td>Colombia</td>\n",
       "      <td>Vichada</td>\n",
       "      <td>2020-09-29</td>\n",
       "      <td>107808</td>\n",
       "    </tr>\n",
       "    <tr>\n",
       "      <th>231976</th>\n",
       "      <td>COL</td>\n",
       "      <td>Colombia</td>\n",
       "      <td>Vichada</td>\n",
       "      <td>2020-09-30</td>\n",
       "      <td>107808</td>\n",
       "    </tr>\n",
       "    <tr>\n",
       "      <th>231977</th>\n",
       "      <td>COL</td>\n",
       "      <td>Colombia</td>\n",
       "      <td>Vichada</td>\n",
       "      <td>2020-10-01</td>\n",
       "      <td>107808</td>\n",
       "    </tr>\n",
       "    <tr>\n",
       "      <th>231978</th>\n",
       "      <td>COL</td>\n",
       "      <td>Colombia</td>\n",
       "      <td>Vichada</td>\n",
       "      <td>2020-10-02</td>\n",
       "      <td>107808</td>\n",
       "    </tr>\n",
       "    <tr>\n",
       "      <th>231979</th>\n",
       "      <td>COL</td>\n",
       "      <td>Colombia</td>\n",
       "      <td>Vichada</td>\n",
       "      <td>2020-10-03</td>\n",
       "      <td>107808</td>\n",
       "    </tr>\n",
       "  </tbody>\n",
       "</table>\n",
       "</div>"
      ],
      "text/plain": [
       "       ISO3   Country Province       Date  Population\n",
       "231975  COL  Colombia  Vichada 2020-09-29      107808\n",
       "231976  COL  Colombia  Vichada 2020-09-30      107808\n",
       "231977  COL  Colombia  Vichada 2020-10-01      107808\n",
       "231978  COL  Colombia  Vichada 2020-10-02      107808\n",
       "231979  COL  Colombia  Vichada 2020-10-03      107808"
      ]
     },
     "execution_count": 17,
     "metadata": {},
     "output_type": "execute_result"
    }
   ],
   "source": [
    "# Cleaned data\n",
    "population_data.cleaned().tail()"
   ]
  },
  {
   "cell_type": "code",
   "execution_count": 18,
   "metadata": {
    "collapsed": false
   },
   "outputs": [
    {
     "data": {
      "text/plain": [
       "126529100"
      ]
     },
     "execution_count": 18,
     "metadata": {},
     "output_type": "execute_result"
    }
   ],
   "source": [
    "population_data.value(\"Japan\", province=None)"
   ]
  },
  {
   "cell_type": "code",
   "execution_count": 19,
   "metadata": {
    "collapsed": false
   },
   "outputs": [
    {
     "data": {
      "text/plain": [
       "14002973"
      ]
     },
     "execution_count": 19,
     "metadata": {},
     "output_type": "execute_result"
    }
   ],
   "source": [
    "# Register population value of Tokyo in Japan\n",
    "# https://www.metro.tokyo.lg.jp/tosei/hodohappyo/press/2020/06/11/07.html\n",
    "population_data.update(14_002_973, \"Japan\", province=\"Tokyo\")\n",
    "population_data.value(\"Japan\", province=\"Tokyo\")"
   ]
  },
  {
   "cell_type": "markdown",
   "metadata": {},
   "source": [
    "### Government Response Tracker (OxCGRT)"
   ]
  },
  {
   "cell_type": "code",
   "execution_count": 20,
   "metadata": {
    "collapsed": false,
    "tags": []
   },
   "outputs": [
    {
     "name": "stdout",
     "output_type": "stream",
     "text": [
      "(Secondary source) Guidotti, E., Ardia, D., (2020), \"COVID-19 Data Hub\", Journal of Open Source Software 5(51):2376, doi: 10.21105/joss.02376.\n",
      "We can get Citation list of primary sources with DataLoader(...).covid19dh_citation"
     ]
    },
    {
     "name": "stdout",
     "output_type": "stream",
     "text": [
      "\n"
     ]
    }
   ],
   "source": [
    "# Description/citation\n",
    "print(oxcgrt_data.citation)"
   ]
  },
  {
   "cell_type": "code",
   "execution_count": 21,
   "metadata": {
    "collapsed": false
   },
   "outputs": [
    {
     "data": {
      "text/html": [
       "<div>\n",
       "<style scoped>\n",
       "    .dataframe tbody tr th:only-of-type {\n",
       "        vertical-align: middle;\n",
       "    }\n",
       "\n",
       "    .dataframe tbody tr th {\n",
       "        vertical-align: top;\n",
       "    }\n",
       "\n",
       "    .dataframe thead th {\n",
       "        text-align: right;\n",
       "    }\n",
       "</style>\n",
       "<table border=\"1\" class=\"dataframe\">\n",
       "  <thead>\n",
       "    <tr style=\"text-align: right;\">\n",
       "      <th></th>\n",
       "      <th>ObservationDate</th>\n",
       "      <th>Confirmed</th>\n",
       "      <th>Recovered</th>\n",
       "      <th>Deaths</th>\n",
       "      <th>Population</th>\n",
       "      <th>ISO3</th>\n",
       "      <th>Province/State</th>\n",
       "      <th>Country/Region</th>\n",
       "      <th>school_closing</th>\n",
       "      <th>workplace_closing</th>\n",
       "      <th>cancel_events</th>\n",
       "      <th>gatherings_restrictions</th>\n",
       "      <th>transport_closing</th>\n",
       "      <th>stay_home_restrictions</th>\n",
       "      <th>internal_movement_restrictions</th>\n",
       "      <th>international_movement_restrictions</th>\n",
       "      <th>information_campaigns</th>\n",
       "      <th>testing_policy</th>\n",
       "      <th>contact_tracing</th>\n",
       "      <th>stringency_index</th>\n",
       "    </tr>\n",
       "  </thead>\n",
       "  <tbody>\n",
       "    <tr>\n",
       "      <th>271609</th>\n",
       "      <td>2020-09-29</td>\n",
       "      <td>14</td>\n",
       "      <td>14</td>\n",
       "      <td>0</td>\n",
       "      <td>107808.0</td>\n",
       "      <td>COL</td>\n",
       "      <td>Vichada</td>\n",
       "      <td>Colombia</td>\n",
       "      <td>3</td>\n",
       "      <td>1</td>\n",
       "      <td>2</td>\n",
       "      <td>3</td>\n",
       "      <td>1</td>\n",
       "      <td>0</td>\n",
       "      <td>0</td>\n",
       "      <td>4</td>\n",
       "      <td>2</td>\n",
       "      <td>2</td>\n",
       "      <td>2</td>\n",
       "      <td>62.04</td>\n",
       "    </tr>\n",
       "    <tr>\n",
       "      <th>271610</th>\n",
       "      <td>2020-09-30</td>\n",
       "      <td>14</td>\n",
       "      <td>14</td>\n",
       "      <td>0</td>\n",
       "      <td>107808.0</td>\n",
       "      <td>COL</td>\n",
       "      <td>Vichada</td>\n",
       "      <td>Colombia</td>\n",
       "      <td>3</td>\n",
       "      <td>1</td>\n",
       "      <td>2</td>\n",
       "      <td>3</td>\n",
       "      <td>1</td>\n",
       "      <td>0</td>\n",
       "      <td>0</td>\n",
       "      <td>4</td>\n",
       "      <td>2</td>\n",
       "      <td>2</td>\n",
       "      <td>2</td>\n",
       "      <td>62.04</td>\n",
       "    </tr>\n",
       "    <tr>\n",
       "      <th>271611</th>\n",
       "      <td>2020-10-01</td>\n",
       "      <td>14</td>\n",
       "      <td>14</td>\n",
       "      <td>0</td>\n",
       "      <td>107808.0</td>\n",
       "      <td>COL</td>\n",
       "      <td>Vichada</td>\n",
       "      <td>Colombia</td>\n",
       "      <td>3</td>\n",
       "      <td>1</td>\n",
       "      <td>2</td>\n",
       "      <td>3</td>\n",
       "      <td>1</td>\n",
       "      <td>0</td>\n",
       "      <td>0</td>\n",
       "      <td>4</td>\n",
       "      <td>2</td>\n",
       "      <td>2</td>\n",
       "      <td>2</td>\n",
       "      <td>62.04</td>\n",
       "    </tr>\n",
       "    <tr>\n",
       "      <th>271612</th>\n",
       "      <td>2020-10-02</td>\n",
       "      <td>14</td>\n",
       "      <td>14</td>\n",
       "      <td>0</td>\n",
       "      <td>107808.0</td>\n",
       "      <td>COL</td>\n",
       "      <td>Vichada</td>\n",
       "      <td>Colombia</td>\n",
       "      <td>3</td>\n",
       "      <td>1</td>\n",
       "      <td>2</td>\n",
       "      <td>3</td>\n",
       "      <td>1</td>\n",
       "      <td>0</td>\n",
       "      <td>0</td>\n",
       "      <td>4</td>\n",
       "      <td>2</td>\n",
       "      <td>2</td>\n",
       "      <td>2</td>\n",
       "      <td>62.04</td>\n",
       "    </tr>\n",
       "    <tr>\n",
       "      <th>271613</th>\n",
       "      <td>2020-10-03</td>\n",
       "      <td>14</td>\n",
       "      <td>14</td>\n",
       "      <td>0</td>\n",
       "      <td>107808.0</td>\n",
       "      <td>COL</td>\n",
       "      <td>Vichada</td>\n",
       "      <td>Colombia</td>\n",
       "      <td>3</td>\n",
       "      <td>1</td>\n",
       "      <td>2</td>\n",
       "      <td>3</td>\n",
       "      <td>1</td>\n",
       "      <td>0</td>\n",
       "      <td>0</td>\n",
       "      <td>4</td>\n",
       "      <td>2</td>\n",
       "      <td>2</td>\n",
       "      <td>2</td>\n",
       "      <td>62.04</td>\n",
       "    </tr>\n",
       "  </tbody>\n",
       "</table>\n",
       "</div>"
      ],
      "text/plain": [
       "       ObservationDate  Confirmed  Recovered  Deaths  Population ISO3  \\\n",
       "271609      2020-09-29         14         14       0    107808.0  COL   \n",
       "271610      2020-09-30         14         14       0    107808.0  COL   \n",
       "271611      2020-10-01         14         14       0    107808.0  COL   \n",
       "271612      2020-10-02         14         14       0    107808.0  COL   \n",
       "271613      2020-10-03         14         14       0    107808.0  COL   \n",
       "\n",
       "       Province/State Country/Region  school_closing  workplace_closing  \\\n",
       "271609        Vichada       Colombia               3                  1   \n",
       "271610        Vichada       Colombia               3                  1   \n",
       "271611        Vichada       Colombia               3                  1   \n",
       "271612        Vichada       Colombia               3                  1   \n",
       "271613        Vichada       Colombia               3                  1   \n",
       "\n",
       "        cancel_events  gatherings_restrictions  transport_closing  \\\n",
       "271609              2                        3                  1   \n",
       "271610              2                        3                  1   \n",
       "271611              2                        3                  1   \n",
       "271612              2                        3                  1   \n",
       "271613              2                        3                  1   \n",
       "\n",
       "        stay_home_restrictions  internal_movement_restrictions  \\\n",
       "271609                       0                               0   \n",
       "271610                       0                               0   \n",
       "271611                       0                               0   \n",
       "271612                       0                               0   \n",
       "271613                       0                               0   \n",
       "\n",
       "        international_movement_restrictions  information_campaigns  \\\n",
       "271609                                    4                      2   \n",
       "271610                                    4                      2   \n",
       "271611                                    4                      2   \n",
       "271612                                    4                      2   \n",
       "271613                                    4                      2   \n",
       "\n",
       "        testing_policy  contact_tracing  stringency_index  \n",
       "271609               2                2             62.04  \n",
       "271610               2                2             62.04  \n",
       "271611               2                2             62.04  \n",
       "271612               2                2             62.04  \n",
       "271613               2                2             62.04  "
      ]
     },
     "execution_count": 21,
     "metadata": {},
     "output_type": "execute_result"
    }
   ],
   "source": [
    "# Raw data (the same as jhu_data)\n",
    "oxcgrt_data.raw.tail()"
   ]
  },
  {
   "cell_type": "code",
   "execution_count": 22,
   "metadata": {
    "collapsed": false
   },
   "outputs": [
    {
     "data": {
      "text/html": [
       "<div>\n",
       "<style scoped>\n",
       "    .dataframe tbody tr th:only-of-type {\n",
       "        vertical-align: middle;\n",
       "    }\n",
       "\n",
       "    .dataframe tbody tr th {\n",
       "        vertical-align: top;\n",
       "    }\n",
       "\n",
       "    .dataframe thead th {\n",
       "        text-align: right;\n",
       "    }\n",
       "</style>\n",
       "<table border=\"1\" class=\"dataframe\">\n",
       "  <thead>\n",
       "    <tr style=\"text-align: right;\">\n",
       "      <th></th>\n",
       "      <th>Date</th>\n",
       "      <th>Country</th>\n",
       "      <th>ISO3</th>\n",
       "      <th>School_closing</th>\n",
       "      <th>Workplace_closing</th>\n",
       "      <th>Cancel_events</th>\n",
       "      <th>Gatherings_restrictions</th>\n",
       "      <th>Transport_closing</th>\n",
       "      <th>Stay_home_restrictions</th>\n",
       "      <th>Internal_movement_restrictions</th>\n",
       "      <th>International_movement_restrictions</th>\n",
       "      <th>Information_campaigns</th>\n",
       "      <th>Testing_policy</th>\n",
       "      <th>Contact_tracing</th>\n",
       "      <th>Stringency_index</th>\n",
       "    </tr>\n",
       "  </thead>\n",
       "  <tbody>\n",
       "    <tr>\n",
       "      <th>271609</th>\n",
       "      <td>2020-09-29</td>\n",
       "      <td>Colombia</td>\n",
       "      <td>COL</td>\n",
       "      <td>3</td>\n",
       "      <td>1</td>\n",
       "      <td>2</td>\n",
       "      <td>3</td>\n",
       "      <td>1</td>\n",
       "      <td>0</td>\n",
       "      <td>0</td>\n",
       "      <td>4</td>\n",
       "      <td>2</td>\n",
       "      <td>2</td>\n",
       "      <td>2</td>\n",
       "      <td>62.04</td>\n",
       "    </tr>\n",
       "    <tr>\n",
       "      <th>271610</th>\n",
       "      <td>2020-09-30</td>\n",
       "      <td>Colombia</td>\n",
       "      <td>COL</td>\n",
       "      <td>3</td>\n",
       "      <td>1</td>\n",
       "      <td>2</td>\n",
       "      <td>3</td>\n",
       "      <td>1</td>\n",
       "      <td>0</td>\n",
       "      <td>0</td>\n",
       "      <td>4</td>\n",
       "      <td>2</td>\n",
       "      <td>2</td>\n",
       "      <td>2</td>\n",
       "      <td>62.04</td>\n",
       "    </tr>\n",
       "    <tr>\n",
       "      <th>271611</th>\n",
       "      <td>2020-10-01</td>\n",
       "      <td>Colombia</td>\n",
       "      <td>COL</td>\n",
       "      <td>3</td>\n",
       "      <td>1</td>\n",
       "      <td>2</td>\n",
       "      <td>3</td>\n",
       "      <td>1</td>\n",
       "      <td>0</td>\n",
       "      <td>0</td>\n",
       "      <td>4</td>\n",
       "      <td>2</td>\n",
       "      <td>2</td>\n",
       "      <td>2</td>\n",
       "      <td>62.04</td>\n",
       "    </tr>\n",
       "    <tr>\n",
       "      <th>271612</th>\n",
       "      <td>2020-10-02</td>\n",
       "      <td>Colombia</td>\n",
       "      <td>COL</td>\n",
       "      <td>3</td>\n",
       "      <td>1</td>\n",
       "      <td>2</td>\n",
       "      <td>3</td>\n",
       "      <td>1</td>\n",
       "      <td>0</td>\n",
       "      <td>0</td>\n",
       "      <td>4</td>\n",
       "      <td>2</td>\n",
       "      <td>2</td>\n",
       "      <td>2</td>\n",
       "      <td>62.04</td>\n",
       "    </tr>\n",
       "    <tr>\n",
       "      <th>271613</th>\n",
       "      <td>2020-10-03</td>\n",
       "      <td>Colombia</td>\n",
       "      <td>COL</td>\n",
       "      <td>3</td>\n",
       "      <td>1</td>\n",
       "      <td>2</td>\n",
       "      <td>3</td>\n",
       "      <td>1</td>\n",
       "      <td>0</td>\n",
       "      <td>0</td>\n",
       "      <td>4</td>\n",
       "      <td>2</td>\n",
       "      <td>2</td>\n",
       "      <td>2</td>\n",
       "      <td>62.04</td>\n",
       "    </tr>\n",
       "  </tbody>\n",
       "</table>\n",
       "</div>"
      ],
      "text/plain": [
       "             Date   Country ISO3  School_closing  Workplace_closing  \\\n",
       "271609 2020-09-29  Colombia  COL               3                  1   \n",
       "271610 2020-09-30  Colombia  COL               3                  1   \n",
       "271611 2020-10-01  Colombia  COL               3                  1   \n",
       "271612 2020-10-02  Colombia  COL               3                  1   \n",
       "271613 2020-10-03  Colombia  COL               3                  1   \n",
       "\n",
       "        Cancel_events  Gatherings_restrictions  Transport_closing  \\\n",
       "271609              2                        3                  1   \n",
       "271610              2                        3                  1   \n",
       "271611              2                        3                  1   \n",
       "271612              2                        3                  1   \n",
       "271613              2                        3                  1   \n",
       "\n",
       "        Stay_home_restrictions  Internal_movement_restrictions  \\\n",
       "271609                       0                               0   \n",
       "271610                       0                               0   \n",
       "271611                       0                               0   \n",
       "271612                       0                               0   \n",
       "271613                       0                               0   \n",
       "\n",
       "        International_movement_restrictions  Information_campaigns  \\\n",
       "271609                                    4                      2   \n",
       "271610                                    4                      2   \n",
       "271611                                    4                      2   \n",
       "271612                                    4                      2   \n",
       "271613                                    4                      2   \n",
       "\n",
       "        Testing_policy  Contact_tracing  Stringency_index  \n",
       "271609               2                2             62.04  \n",
       "271610               2                2             62.04  \n",
       "271611               2                2             62.04  \n",
       "271612               2                2             62.04  \n",
       "271613               2                2             62.04  "
      ]
     },
     "execution_count": 22,
     "metadata": {},
     "output_type": "execute_result"
    }
   ],
   "source": [
    "# Cleaned data\n",
    "oxcgrt_data.cleaned().tail()"
   ]
  },
  {
   "cell_type": "code",
   "execution_count": 23,
   "metadata": {
    "collapsed": false
   },
   "outputs": [
    {
     "data": {
      "text/html": [
       "<div>\n",
       "<style scoped>\n",
       "    .dataframe tbody tr th:only-of-type {\n",
       "        vertical-align: middle;\n",
       "    }\n",
       "\n",
       "    .dataframe tbody tr th {\n",
       "        vertical-align: top;\n",
       "    }\n",
       "\n",
       "    .dataframe thead th {\n",
       "        text-align: right;\n",
       "    }\n",
       "</style>\n",
       "<table border=\"1\" class=\"dataframe\">\n",
       "  <thead>\n",
       "    <tr style=\"text-align: right;\">\n",
       "      <th></th>\n",
       "      <th>Date</th>\n",
       "      <th>School_closing</th>\n",
       "      <th>Workplace_closing</th>\n",
       "      <th>Cancel_events</th>\n",
       "      <th>Gatherings_restrictions</th>\n",
       "      <th>Transport_closing</th>\n",
       "      <th>Stay_home_restrictions</th>\n",
       "      <th>Internal_movement_restrictions</th>\n",
       "      <th>International_movement_restrictions</th>\n",
       "      <th>Information_campaigns</th>\n",
       "      <th>Testing_policy</th>\n",
       "      <th>Contact_tracing</th>\n",
       "      <th>Stringency_index</th>\n",
       "    </tr>\n",
       "  </thead>\n",
       "  <tbody>\n",
       "    <tr>\n",
       "      <th>272</th>\n",
       "      <td>2020-09-29</td>\n",
       "      <td>1</td>\n",
       "      <td>1</td>\n",
       "      <td>1</td>\n",
       "      <td>0</td>\n",
       "      <td>0</td>\n",
       "      <td>1</td>\n",
       "      <td>1</td>\n",
       "      <td>3</td>\n",
       "      <td>2</td>\n",
       "      <td>2</td>\n",
       "      <td>1</td>\n",
       "      <td>37.04</td>\n",
       "    </tr>\n",
       "    <tr>\n",
       "      <th>273</th>\n",
       "      <td>2020-09-30</td>\n",
       "      <td>1</td>\n",
       "      <td>1</td>\n",
       "      <td>1</td>\n",
       "      <td>0</td>\n",
       "      <td>0</td>\n",
       "      <td>1</td>\n",
       "      <td>1</td>\n",
       "      <td>3</td>\n",
       "      <td>2</td>\n",
       "      <td>2</td>\n",
       "      <td>1</td>\n",
       "      <td>37.04</td>\n",
       "    </tr>\n",
       "    <tr>\n",
       "      <th>274</th>\n",
       "      <td>2020-10-01</td>\n",
       "      <td>1</td>\n",
       "      <td>1</td>\n",
       "      <td>1</td>\n",
       "      <td>0</td>\n",
       "      <td>0</td>\n",
       "      <td>1</td>\n",
       "      <td>1</td>\n",
       "      <td>3</td>\n",
       "      <td>2</td>\n",
       "      <td>2</td>\n",
       "      <td>1</td>\n",
       "      <td>37.04</td>\n",
       "    </tr>\n",
       "    <tr>\n",
       "      <th>275</th>\n",
       "      <td>2020-10-02</td>\n",
       "      <td>1</td>\n",
       "      <td>1</td>\n",
       "      <td>1</td>\n",
       "      <td>0</td>\n",
       "      <td>0</td>\n",
       "      <td>1</td>\n",
       "      <td>1</td>\n",
       "      <td>3</td>\n",
       "      <td>2</td>\n",
       "      <td>2</td>\n",
       "      <td>1</td>\n",
       "      <td>37.04</td>\n",
       "    </tr>\n",
       "    <tr>\n",
       "      <th>276</th>\n",
       "      <td>2020-10-03</td>\n",
       "      <td>1</td>\n",
       "      <td>1</td>\n",
       "      <td>1</td>\n",
       "      <td>0</td>\n",
       "      <td>0</td>\n",
       "      <td>1</td>\n",
       "      <td>1</td>\n",
       "      <td>3</td>\n",
       "      <td>2</td>\n",
       "      <td>2</td>\n",
       "      <td>1</td>\n",
       "      <td>37.04</td>\n",
       "    </tr>\n",
       "  </tbody>\n",
       "</table>\n",
       "</div>"
      ],
      "text/plain": [
       "          Date  School_closing  Workplace_closing  Cancel_events  \\\n",
       "272 2020-09-29               1                  1              1   \n",
       "273 2020-09-30               1                  1              1   \n",
       "274 2020-10-01               1                  1              1   \n",
       "275 2020-10-02               1                  1              1   \n",
       "276 2020-10-03               1                  1              1   \n",
       "\n",
       "     Gatherings_restrictions  Transport_closing  Stay_home_restrictions  \\\n",
       "272                        0                  0                       1   \n",
       "273                        0                  0                       1   \n",
       "274                        0                  0                       1   \n",
       "275                        0                  0                       1   \n",
       "276                        0                  0                       1   \n",
       "\n",
       "     Internal_movement_restrictions  International_movement_restrictions  \\\n",
       "272                               1                                    3   \n",
       "273                               1                                    3   \n",
       "274                               1                                    3   \n",
       "275                               1                                    3   \n",
       "276                               1                                    3   \n",
       "\n",
       "     Information_campaigns  Testing_policy  Contact_tracing  Stringency_index  \n",
       "272                      2               2                1             37.04  \n",
       "273                      2               2                1             37.04  \n",
       "274                      2               2                1             37.04  \n",
       "275                      2               2                1             37.04  \n",
       "276                      2               2                1             37.04  "
      ]
     },
     "execution_count": 23,
     "metadata": {},
     "output_type": "execute_result"
    }
   ],
   "source": [
    "# Subset for a country\n",
    "oxcgrt_data.subset(\"Japan\").tail()"
   ]
  },
  {
   "cell_type": "code",
   "execution_count": 24,
   "metadata": {
    "collapsed": false
   },
   "outputs": [
    {
     "data": {
      "text/html": [
       "<div>\n",
       "<style scoped>\n",
       "    .dataframe tbody tr th:only-of-type {\n",
       "        vertical-align: middle;\n",
       "    }\n",
       "\n",
       "    .dataframe tbody tr th {\n",
       "        vertical-align: top;\n",
       "    }\n",
       "\n",
       "    .dataframe thead th {\n",
       "        text-align: right;\n",
       "    }\n",
       "</style>\n",
       "<table border=\"1\" class=\"dataframe\">\n",
       "  <thead>\n",
       "    <tr style=\"text-align: right;\">\n",
       "      <th></th>\n",
       "      <th>Date</th>\n",
       "      <th>School_closing</th>\n",
       "      <th>Workplace_closing</th>\n",
       "      <th>Cancel_events</th>\n",
       "      <th>Gatherings_restrictions</th>\n",
       "      <th>Transport_closing</th>\n",
       "      <th>Stay_home_restrictions</th>\n",
       "      <th>Internal_movement_restrictions</th>\n",
       "      <th>International_movement_restrictions</th>\n",
       "      <th>Information_campaigns</th>\n",
       "      <th>Testing_policy</th>\n",
       "      <th>Contact_tracing</th>\n",
       "      <th>Stringency_index</th>\n",
       "    </tr>\n",
       "  </thead>\n",
       "  <tbody>\n",
       "    <tr>\n",
       "      <th>272</th>\n",
       "      <td>2020-09-29</td>\n",
       "      <td>1</td>\n",
       "      <td>1</td>\n",
       "      <td>1</td>\n",
       "      <td>0</td>\n",
       "      <td>0</td>\n",
       "      <td>1</td>\n",
       "      <td>1</td>\n",
       "      <td>3</td>\n",
       "      <td>2</td>\n",
       "      <td>2</td>\n",
       "      <td>1</td>\n",
       "      <td>37.04</td>\n",
       "    </tr>\n",
       "    <tr>\n",
       "      <th>273</th>\n",
       "      <td>2020-09-30</td>\n",
       "      <td>1</td>\n",
       "      <td>1</td>\n",
       "      <td>1</td>\n",
       "      <td>0</td>\n",
       "      <td>0</td>\n",
       "      <td>1</td>\n",
       "      <td>1</td>\n",
       "      <td>3</td>\n",
       "      <td>2</td>\n",
       "      <td>2</td>\n",
       "      <td>1</td>\n",
       "      <td>37.04</td>\n",
       "    </tr>\n",
       "    <tr>\n",
       "      <th>274</th>\n",
       "      <td>2020-10-01</td>\n",
       "      <td>1</td>\n",
       "      <td>1</td>\n",
       "      <td>1</td>\n",
       "      <td>0</td>\n",
       "      <td>0</td>\n",
       "      <td>1</td>\n",
       "      <td>1</td>\n",
       "      <td>3</td>\n",
       "      <td>2</td>\n",
       "      <td>2</td>\n",
       "      <td>1</td>\n",
       "      <td>37.04</td>\n",
       "    </tr>\n",
       "    <tr>\n",
       "      <th>275</th>\n",
       "      <td>2020-10-02</td>\n",
       "      <td>1</td>\n",
       "      <td>1</td>\n",
       "      <td>1</td>\n",
       "      <td>0</td>\n",
       "      <td>0</td>\n",
       "      <td>1</td>\n",
       "      <td>1</td>\n",
       "      <td>3</td>\n",
       "      <td>2</td>\n",
       "      <td>2</td>\n",
       "      <td>1</td>\n",
       "      <td>37.04</td>\n",
       "    </tr>\n",
       "    <tr>\n",
       "      <th>276</th>\n",
       "      <td>2020-10-03</td>\n",
       "      <td>1</td>\n",
       "      <td>1</td>\n",
       "      <td>1</td>\n",
       "      <td>0</td>\n",
       "      <td>0</td>\n",
       "      <td>1</td>\n",
       "      <td>1</td>\n",
       "      <td>3</td>\n",
       "      <td>2</td>\n",
       "      <td>2</td>\n",
       "      <td>1</td>\n",
       "      <td>37.04</td>\n",
       "    </tr>\n",
       "  </tbody>\n",
       "</table>\n",
       "</div>"
      ],
      "text/plain": [
       "          Date  School_closing  Workplace_closing  Cancel_events  \\\n",
       "272 2020-09-29               1                  1              1   \n",
       "273 2020-09-30               1                  1              1   \n",
       "274 2020-10-01               1                  1              1   \n",
       "275 2020-10-02               1                  1              1   \n",
       "276 2020-10-03               1                  1              1   \n",
       "\n",
       "     Gatherings_restrictions  Transport_closing  Stay_home_restrictions  \\\n",
       "272                        0                  0                       1   \n",
       "273                        0                  0                       1   \n",
       "274                        0                  0                       1   \n",
       "275                        0                  0                       1   \n",
       "276                        0                  0                       1   \n",
       "\n",
       "     Internal_movement_restrictions  International_movement_restrictions  \\\n",
       "272                               1                                    3   \n",
       "273                               1                                    3   \n",
       "274                               1                                    3   \n",
       "275                               1                                    3   \n",
       "276                               1                                    3   \n",
       "\n",
       "     Information_campaigns  Testing_policy  Contact_tracing  Stringency_index  \n",
       "272                      2               2                1             37.04  \n",
       "273                      2               2                1             37.04  \n",
       "274                      2               2                1             37.04  \n",
       "275                      2               2                1             37.04  \n",
       "276                      2               2                1             37.04  "
      ]
     },
     "execution_count": 24,
     "metadata": {},
     "output_type": "execute_result"
    }
   ],
   "source": [
    "# Subset for a country (using ISO3 code)\n",
    "oxcgrt_data.subset(\"JPN\").tail()"
   ]
  },
  {
   "cell_type": "markdown",
   "metadata": {},
   "source": [
    "## Scenario analysis\n",
    "As an example, we will analysis the number of cases in Japan."
   ]
  },
  {
   "cell_type": "code",
   "execution_count": 25,
   "metadata": {
    "collapsed": false
   },
   "outputs": [],
   "source": [
    "scenario = cs.Scenario(jhu_data, population_data, country=\"Japan\", province=None)"
   ]
  },
  {
   "cell_type": "markdown",
   "metadata": {},
   "source": [
    "### Check records"
   ]
  },
  {
   "cell_type": "code",
   "execution_count": 26,
   "metadata": {
    "collapsed": false
   },
   "outputs": [
    {
     "data": {
      "image/png": "[encoded data removed]",
      "text/plain": [
       "<Figure size 648x432 with 1 Axes>"
      ]
     },
     "metadata": {},
     "output_type": "display_data"
    },
    {
     "data": {
      "text/html": [
       "<div>\n",
       "<style scoped>\n",
       "    .dataframe tbody tr th:only-of-type {\n",
       "        vertical-align: middle;\n",
       "    }\n",
       "\n",
       "    .dataframe tbody tr th {\n",
       "        vertical-align: top;\n",
       "    }\n",
       "\n",
       "    .dataframe thead th {\n",
       "        text-align: right;\n",
       "    }\n",
       "</style>\n",
       "<table border=\"1\" class=\"dataframe\">\n",
       "  <thead>\n",
       "    <tr style=\"text-align: right;\">\n",
       "      <th></th>\n",
       "      <th>Date</th>\n",
       "      <th>Confirmed</th>\n",
       "      <th>Infected</th>\n",
       "      <th>Fatal</th>\n",
       "      <th>Recovered</th>\n",
       "    </tr>\n",
       "  </thead>\n",
       "  <tbody>\n",
       "    <tr>\n",
       "      <th>231</th>\n",
       "      <td>2020-09-29</td>\n",
       "      <td>82494</td>\n",
       "      <td>5478</td>\n",
       "      <td>1557</td>\n",
       "      <td>75459</td>\n",
       "    </tr>\n",
       "    <tr>\n",
       "      <th>232</th>\n",
       "      <td>2020-09-30</td>\n",
       "      <td>83010</td>\n",
       "      <td>5421</td>\n",
       "      <td>1564</td>\n",
       "      <td>76025</td>\n",
       "    </tr>\n",
       "    <tr>\n",
       "      <th>233</th>\n",
       "      <td>2020-10-01</td>\n",
       "      <td>83563</td>\n",
       "      <td>5402</td>\n",
       "      <td>1571</td>\n",
       "      <td>76590</td>\n",
       "    </tr>\n",
       "    <tr>\n",
       "      <th>234</th>\n",
       "      <td>2020-10-02</td>\n",
       "      <td>84215</td>\n",
       "      <td>5418</td>\n",
       "      <td>1578</td>\n",
       "      <td>77219</td>\n",
       "    </tr>\n",
       "    <tr>\n",
       "      <th>235</th>\n",
       "      <td>2020-10-03</td>\n",
       "      <td>84768</td>\n",
       "      <td>5371</td>\n",
       "      <td>1590</td>\n",
       "      <td>77807</td>\n",
       "    </tr>\n",
       "  </tbody>\n",
       "</table>\n",
       "</div>"
      ],
      "text/plain": [
       "          Date  Confirmed  Infected  Fatal  Recovered\n",
       "231 2020-09-29      82494      5478   1557      75459\n",
       "232 2020-09-30      83010      5421   1564      76025\n",
       "233 2020-10-01      83563      5402   1571      76590\n",
       "234 2020-10-02      84215      5418   1578      77219\n",
       "235 2020-10-03      84768      5371   1590      77807"
      ]
     },
     "execution_count": 26,
     "metadata": {},
     "output_type": "execute_result"
    }
   ],
   "source": [
    "import matplotlib\n",
    "warnings.simplefilter(\"ignore\", category=matplotlib.MatplotlibDeprecationWarning)\n",
    "record_df = scenario.records()\n",
    "record_df.tail()"
   ]
  },
  {
   "cell_type": "markdown",
   "metadata": {},
   "source": [
    "### S-R trend analysis"
   ]
  },
  {
   "cell_type": "code",
   "execution_count": 27,
   "metadata": {
    "collapsed": false
   },
   "outputs": [
    {
     "data": {
      "image/png": "[encoded data removed]",
      "text/plain": [
       "<Figure size 648x432 with 1 Axes>"
      ]
     },
     "metadata": {},
     "output_type": "display_data"
    },
    {
     "data": {
      "text/html": [
       "<div>\n",
       "<style scoped>\n",
       "    .dataframe tbody tr th:only-of-type {\n",
       "        vertical-align: middle;\n",
       "    }\n",
       "\n",
       "    .dataframe tbody tr th {\n",
       "        vertical-align: top;\n",
       "    }\n",
       "\n",
       "    .dataframe thead th {\n",
       "        text-align: right;\n",
       "    }\n",
       "</style>\n",
       "<table border=\"1\" class=\"dataframe\">\n",
       "  <thead>\n",
       "    <tr style=\"text-align: right;\">\n",
       "      <th></th>\n",
       "      <th>Type</th>\n",
       "      <th>Start</th>\n",
       "      <th>End</th>\n",
       "      <th>Population</th>\n",
       "    </tr>\n",
       "  </thead>\n",
       "  <tbody>\n",
       "    <tr>\n",
       "      <th>0th</th>\n",
       "      <td>Past</td>\n",
       "      <td>06Feb2020</td>\n",
       "      <td>21Apr2020</td>\n",
       "      <td>126529100</td>\n",
       "    </tr>\n",
       "    <tr>\n",
       "      <th>1st</th>\n",
       "      <td>Past</td>\n",
       "      <td>22Apr2020</td>\n",
       "      <td>06Jul2020</td>\n",
       "      <td>126529100</td>\n",
       "    </tr>\n",
       "    <tr>\n",
       "      <th>2nd</th>\n",
       "      <td>Past</td>\n",
       "      <td>07Jul2020</td>\n",
       "      <td>23Jul2020</td>\n",
       "      <td>126529100</td>\n",
       "    </tr>\n",
       "    <tr>\n",
       "      <th>3rd</th>\n",
       "      <td>Past</td>\n",
       "      <td>24Jul2020</td>\n",
       "      <td>01Aug2020</td>\n",
       "      <td>126529100</td>\n",
       "    </tr>\n",
       "    <tr>\n",
       "      <th>4th</th>\n",
       "      <td>Past</td>\n",
       "      <td>02Aug2020</td>\n",
       "      <td>14Aug2020</td>\n",
       "      <td>126529100</td>\n",
       "    </tr>\n",
       "    <tr>\n",
       "      <th>5th</th>\n",
       "      <td>Past</td>\n",
       "      <td>15Aug2020</td>\n",
       "      <td>28Aug2020</td>\n",
       "      <td>126529100</td>\n",
       "    </tr>\n",
       "    <tr>\n",
       "      <th>6th</th>\n",
       "      <td>Past</td>\n",
       "      <td>29Aug2020</td>\n",
       "      <td>08Sep2020</td>\n",
       "      <td>126529100</td>\n",
       "    </tr>\n",
       "    <tr>\n",
       "      <th>7th</th>\n",
       "      <td>Past</td>\n",
       "      <td>09Sep2020</td>\n",
       "      <td>19Sep2020</td>\n",
       "      <td>126529100</td>\n",
       "    </tr>\n",
       "    <tr>\n",
       "      <th>8th</th>\n",
       "      <td>Past</td>\n",
       "      <td>20Sep2020</td>\n",
       "      <td>03Oct2020</td>\n",
       "      <td>126529100</td>\n",
       "    </tr>\n",
       "  </tbody>\n",
       "</table>\n",
       "</div>"
      ],
      "text/plain": [
       "     Type      Start        End  Population\n",
       "0th  Past  06Feb2020  21Apr2020   126529100\n",
       "1st  Past  22Apr2020  06Jul2020   126529100\n",
       "2nd  Past  07Jul2020  23Jul2020   126529100\n",
       "3rd  Past  24Jul2020  01Aug2020   126529100\n",
       "4th  Past  02Aug2020  14Aug2020   126529100\n",
       "5th  Past  15Aug2020  28Aug2020   126529100\n",
       "6th  Past  29Aug2020  08Sep2020   126529100\n",
       "7th  Past  09Sep2020  19Sep2020   126529100\n",
       "8th  Past  20Sep2020  03Oct2020   126529100"
      ]
     },
     "execution_count": 27,
     "metadata": {},
     "output_type": "execute_result"
    }
   ],
   "source": [
    "scenario.trend(set_phases=True)\n",
    "scenario.summary()"
   ]
  },
  {
   "cell_type": "markdown",
   "metadata": {},
   "source": [
    "### Hyperparameter estimation of ODE models\n",
    "As an example, use SIR-F model.\n",
    "We can use SIR, SIRD, (SIRFV), (SEWIRF)."
   ]
  },
  {
   "cell_type": "code",
   "execution_count": 28,
   "metadata": {
    "collapsed": false,
    "tags": []
   },
   "outputs": [
    {
     "name": "stdout",
     "output_type": "stream",
     "text": [
      "\n",
      "<SIR-F model: parameter estimation>"
     ]
    },
    {
     "name": "stdout",
     "output_type": "stream",
     "text": [
      "\n"
     ]
    },
    {
     "name": "stdout",
     "output_type": "stream",
     "text": [
      "Running optimization with 4 CPUs..."
     ]
    },
    {
     "name": "stdout",
     "output_type": "stream",
     "text": [
      "\n"
     ]
    },
    {
     "name": "stdout",
     "output_type": "stream",
     "text": [
      "\t8th phase (20Sep2020 - 03Oct2020): finished 1731 trials in 1 min  0 sec"
     ]
    },
    {
     "name": "stdout",
     "output_type": "stream",
     "text": [
      "\n"
     ]
    },
    {
     "name": "stdout",
     "output_type": "stream",
     "text": [
      "\t2nd phase (07Jul2020 - 23Jul2020): finished  259 trials in 0 min  5 sec"
     ]
    },
    {
     "name": "stdout",
     "output_type": "stream",
     "text": [
      "\n"
     ]
    },
    {
     "name": "stdout",
     "output_type": "stream",
     "text": [
      "\t3rd phase (24Jul2020 - 01Aug2020): finished 1041 trials in 0 min 25 sec"
     ]
    },
    {
     "name": "stdout",
     "output_type": "stream",
     "text": [
      "\n"
     ]
    },
    {
     "name": "stdout",
     "output_type": "stream",
     "text": [
      "\t5th phase (15Aug2020 - 28Aug2020): finished  667 trials in 0 min 15 sec"
     ]
    },
    {
     "name": "stdout",
     "output_type": "stream",
     "text": [
      "\n"
     ]
    },
    {
     "name": "stdout",
     "output_type": "stream",
     "text": [
      "\t6th phase (29Aug2020 - 08Sep2020): finished  251 trials in 0 min  5 sec"
     ]
    },
    {
     "name": "stdout",
     "output_type": "stream",
     "text": [
      "\n"
     ]
    },
    {
     "name": "stdout",
     "output_type": "stream",
     "text": [
      "\t7th phase (09Sep2020 - 19Sep2020): finished  249 trials in 0 min  5 sec"
     ]
    },
    {
     "name": "stdout",
     "output_type": "stream",
     "text": [
      "\n"
     ]
    },
    {
     "name": "stdout",
     "output_type": "stream",
     "text": [
      "\t1st phase (22Apr2020 - 06Jul2020): finished 1926 trials in 1 min  0 sec"
     ]
    },
    {
     "name": "stdout",
     "output_type": "stream",
     "text": [
      "\n"
     ]
    },
    {
     "name": "stdout",
     "output_type": "stream",
     "text": [
      "\t0th phase (06Feb2020 - 21Apr2020): finished 1941 trials in 1 min  0 sec"
     ]
    },
    {
     "name": "stdout",
     "output_type": "stream",
     "text": [
      "\n"
     ]
    },
    {
     "name": "stdout",
     "output_type": "stream",
     "text": [
      "\t4th phase (02Aug2020 - 14Aug2020): finished 1976 trials in 1 min  0 sec"
     ]
    },
    {
     "name": "stdout",
     "output_type": "stream",
     "text": [
      "\n"
     ]
    },
    {
     "name": "stdout",
     "output_type": "stream",
     "text": [
      "Completed optimization. Total: 2 min  6 sec"
     ]
    },
    {
     "name": "stdout",
     "output_type": "stream",
     "text": [
      "\n"
     ]
    }
   ],
   "source": [
    "scenario.estimate(cs.SIRF)"
   ]
  },
  {
   "cell_type": "code",
   "execution_count": 29,
   "metadata": {
    "collapsed": false
   },
   "outputs": [
    {
     "data": {
      "text/html": [
       "<div>\n",
       "<style scoped>\n",
       "    .dataframe tbody tr th:only-of-type {\n",
       "        vertical-align: middle;\n",
       "    }\n",
       "\n",
       "    .dataframe tbody tr th {\n",
       "        vertical-align: top;\n",
       "    }\n",
       "\n",
       "    .dataframe thead th {\n",
       "        text-align: right;\n",
       "    }\n",
       "</style>\n",
       "<table border=\"1\" class=\"dataframe\">\n",
       "  <thead>\n",
       "    <tr style=\"text-align: right;\">\n",
       "      <th></th>\n",
       "      <th>Type</th>\n",
       "      <th>Start</th>\n",
       "      <th>End</th>\n",
       "      <th>Population</th>\n",
       "      <th>ODE</th>\n",
       "      <th>Rt</th>\n",
       "      <th>theta</th>\n",
       "      <th>kappa</th>\n",
       "      <th>rho</th>\n",
       "      <th>sigma</th>\n",
       "      <th>tau</th>\n",
       "      <th>1/gamma [day]</th>\n",
       "      <th>1/alpha2 [day]</th>\n",
       "      <th>alpha1 [-]</th>\n",
       "      <th>1/beta [day]</th>\n",
       "      <th>RMSLE</th>\n",
       "      <th>Trials</th>\n",
       "      <th>Runtime</th>\n",
       "    </tr>\n",
       "  </thead>\n",
       "  <tbody>\n",
       "    <tr>\n",
       "      <th>0th</th>\n",
       "      <td>Past</td>\n",
       "      <td>06Feb2020</td>\n",
       "      <td>21Apr2020</td>\n",
       "      <td>126529100</td>\n",
       "      <td>SIR-F</td>\n",
       "      <td>4.66</td>\n",
       "      <td>0.018341</td>\n",
       "      <td>0.000174</td>\n",
       "      <td>0.104200</td>\n",
       "      <td>0.021769</td>\n",
       "      <td>1440</td>\n",
       "      <td>45</td>\n",
       "      <td>5760</td>\n",
       "      <td>0.018</td>\n",
       "      <td>9</td>\n",
       "      <td>0.937856</td>\n",
       "      <td>1941</td>\n",
       "      <td>1 min  0 sec</td>\n",
       "    </tr>\n",
       "    <tr>\n",
       "      <th>1st</th>\n",
       "      <td>Past</td>\n",
       "      <td>22Apr2020</td>\n",
       "      <td>06Jul2020</td>\n",
       "      <td>126529100</td>\n",
       "      <td>SIR-F</td>\n",
       "      <td>0.41</td>\n",
       "      <td>0.094355</td>\n",
       "      <td>0.000373</td>\n",
       "      <td>0.030364</td>\n",
       "      <td>0.067402</td>\n",
       "      <td>1440</td>\n",
       "      <td>14</td>\n",
       "      <td>2681</td>\n",
       "      <td>0.094</td>\n",
       "      <td>32</td>\n",
       "      <td>0.890362</td>\n",
       "      <td>1926</td>\n",
       "      <td>1 min  0 sec</td>\n",
       "    </tr>\n",
       "    <tr>\n",
       "      <th>2nd</th>\n",
       "      <td>Past</td>\n",
       "      <td>07Jul2020</td>\n",
       "      <td>23Jul2020</td>\n",
       "      <td>126529100</td>\n",
       "      <td>SIR-F</td>\n",
       "      <td>1.93</td>\n",
       "      <td>0.000466</td>\n",
       "      <td>0.000080</td>\n",
       "      <td>0.133382</td>\n",
       "      <td>0.068954</td>\n",
       "      <td>1440</td>\n",
       "      <td>14</td>\n",
       "      <td>12426</td>\n",
       "      <td>0.000</td>\n",
       "      <td>7</td>\n",
       "      <td>0.031898</td>\n",
       "      <td>259</td>\n",
       "      <td>0 min  5 sec</td>\n",
       "    </tr>\n",
       "    <tr>\n",
       "      <th>3rd</th>\n",
       "      <td>Past</td>\n",
       "      <td>24Jul2020</td>\n",
       "      <td>01Aug2020</td>\n",
       "      <td>126529100</td>\n",
       "      <td>SIR-F</td>\n",
       "      <td>1.84</td>\n",
       "      <td>0.000726</td>\n",
       "      <td>0.000120</td>\n",
       "      <td>0.134241</td>\n",
       "      <td>0.072807</td>\n",
       "      <td>1440</td>\n",
       "      <td>13</td>\n",
       "      <td>8341</td>\n",
       "      <td>0.001</td>\n",
       "      <td>7</td>\n",
       "      <td>0.019265</td>\n",
       "      <td>1041</td>\n",
       "      <td>0 min 25 sec</td>\n",
       "    </tr>\n",
       "    <tr>\n",
       "      <th>4th</th>\n",
       "      <td>Past</td>\n",
       "      <td>02Aug2020</td>\n",
       "      <td>14Aug2020</td>\n",
       "      <td>126529100</td>\n",
       "      <td>SIR-F</td>\n",
       "      <td>1.58</td>\n",
       "      <td>0.000627</td>\n",
       "      <td>0.000316</td>\n",
       "      <td>0.103524</td>\n",
       "      <td>0.064959</td>\n",
       "      <td>1440</td>\n",
       "      <td>15</td>\n",
       "      <td>3163</td>\n",
       "      <td>0.001</td>\n",
       "      <td>9</td>\n",
       "      <td>0.061572</td>\n",
       "      <td>1976</td>\n",
       "      <td>1 min  0 sec</td>\n",
       "    </tr>\n",
       "    <tr>\n",
       "      <th>5th</th>\n",
       "      <td>Past</td>\n",
       "      <td>15Aug2020</td>\n",
       "      <td>28Aug2020</td>\n",
       "      <td>126529100</td>\n",
       "      <td>SIR-F</td>\n",
       "      <td>0.82</td>\n",
       "      <td>0.000562</td>\n",
       "      <td>0.000900</td>\n",
       "      <td>0.078347</td>\n",
       "      <td>0.094316</td>\n",
       "      <td>1440</td>\n",
       "      <td>10</td>\n",
       "      <td>1111</td>\n",
       "      <td>0.001</td>\n",
       "      <td>12</td>\n",
       "      <td>0.021244</td>\n",
       "      <td>667</td>\n",
       "      <td>0 min 15 sec</td>\n",
       "    </tr>\n",
       "    <tr>\n",
       "      <th>6th</th>\n",
       "      <td>Past</td>\n",
       "      <td>29Aug2020</td>\n",
       "      <td>08Sep2020</td>\n",
       "      <td>126529100</td>\n",
       "      <td>SIR-F</td>\n",
       "      <td>0.71</td>\n",
       "      <td>0.020188</td>\n",
       "      <td>0.000164</td>\n",
       "      <td>0.062044</td>\n",
       "      <td>0.085037</td>\n",
       "      <td>1440</td>\n",
       "      <td>11</td>\n",
       "      <td>6106</td>\n",
       "      <td>0.020</td>\n",
       "      <td>16</td>\n",
       "      <td>0.016830</td>\n",
       "      <td>251</td>\n",
       "      <td>0 min  5 sec</td>\n",
       "    </tr>\n",
       "    <tr>\n",
       "      <th>7th</th>\n",
       "      <td>Past</td>\n",
       "      <td>09Sep2020</td>\n",
       "      <td>19Sep2020</td>\n",
       "      <td>126529100</td>\n",
       "      <td>SIR-F</td>\n",
       "      <td>0.78</td>\n",
       "      <td>0.002932</td>\n",
       "      <td>0.001325</td>\n",
       "      <td>0.079328</td>\n",
       "      <td>0.099966</td>\n",
       "      <td>1440</td>\n",
       "      <td>10</td>\n",
       "      <td>754</td>\n",
       "      <td>0.003</td>\n",
       "      <td>12</td>\n",
       "      <td>0.028250</td>\n",
       "      <td>249</td>\n",
       "      <td>0 min  5 sec</td>\n",
       "    </tr>\n",
       "    <tr>\n",
       "      <th>8th</th>\n",
       "      <td>Past</td>\n",
       "      <td>20Sep2020</td>\n",
       "      <td>03Oct2020</td>\n",
       "      <td>126529100</td>\n",
       "      <td>SIR-F</td>\n",
       "      <td>0.87</td>\n",
       "      <td>0.000464</td>\n",
       "      <td>0.000984</td>\n",
       "      <td>0.079341</td>\n",
       "      <td>0.090479</td>\n",
       "      <td>1440</td>\n",
       "      <td>11</td>\n",
       "      <td>1015</td>\n",
       "      <td>0.000</td>\n",
       "      <td>12</td>\n",
       "      <td>0.027419</td>\n",
       "      <td>1731</td>\n",
       "      <td>1 min  0 sec</td>\n",
       "    </tr>\n",
       "  </tbody>\n",
       "</table>\n",
       "</div>"
      ],
      "text/plain": [
       "     Type      Start        End  Population    ODE    Rt     theta     kappa  \\\n",
       "0th  Past  06Feb2020  21Apr2020   126529100  SIR-F  4.66  0.018341  0.000174   \n",
       "1st  Past  22Apr2020  06Jul2020   126529100  SIR-F  0.41  0.094355  0.000373   \n",
       "2nd  Past  07Jul2020  23Jul2020   126529100  SIR-F  1.93  0.000466  0.000080   \n",
       "3rd  Past  24Jul2020  01Aug2020   126529100  SIR-F  1.84  0.000726  0.000120   \n",
       "4th  Past  02Aug2020  14Aug2020   126529100  SIR-F  1.58  0.000627  0.000316   \n",
       "5th  Past  15Aug2020  28Aug2020   126529100  SIR-F  0.82  0.000562  0.000900   \n",
       "6th  Past  29Aug2020  08Sep2020   126529100  SIR-F  0.71  0.020188  0.000164   \n",
       "7th  Past  09Sep2020  19Sep2020   126529100  SIR-F  0.78  0.002932  0.001325   \n",
       "8th  Past  20Sep2020  03Oct2020   126529100  SIR-F  0.87  0.000464  0.000984   \n",
       "\n",
       "          rho     sigma   tau  1/gamma [day]  1/alpha2 [day]  alpha1 [-]  \\\n",
       "0th  0.104200  0.021769  1440             45            5760       0.018   \n",
       "1st  0.030364  0.067402  1440             14            2681       0.094   \n",
       "2nd  0.133382  0.068954  1440             14           12426       0.000   \n",
       "3rd  0.134241  0.072807  1440             13            8341       0.001   \n",
       "4th  0.103524  0.064959  1440             15            3163       0.001   \n",
       "5th  0.078347  0.094316  1440             10            1111       0.001   \n",
       "6th  0.062044  0.085037  1440             11            6106       0.020   \n",
       "7th  0.079328  0.099966  1440             10             754       0.003   \n",
       "8th  0.079341  0.090479  1440             11            1015       0.000   \n",
       "\n",
       "     1/beta [day]     RMSLE  Trials       Runtime  \n",
       "0th             9  0.937856    1941  1 min  0 sec  \n",
       "1st            32  0.890362    1926  1 min  0 sec  \n",
       "2nd             7  0.031898     259  0 min  5 sec  \n",
       "3rd             7  0.019265    1041  0 min 25 sec  \n",
       "4th             9  0.061572    1976  1 min  0 sec  \n",
       "5th            12  0.021244     667  0 min 15 sec  \n",
       "6th            16  0.016830     251  0 min  5 sec  \n",
       "7th            12  0.028250     249  0 min  5 sec  \n",
       "8th            12  0.027419    1731  1 min  0 sec  "
      ]
     },
     "execution_count": 29,
     "metadata": {},
     "output_type": "execute_result"
    }
   ],
   "source": [
    "scenario.summary()"
   ]
  },
  {
   "cell_type": "markdown",
   "metadata": {},
   "source": [
    "### Accuracy of estimation"
   ]
  },
  {
   "cell_type": "code",
   "execution_count": 30,
   "metadata": {
    "collapsed": false
   },
   "outputs": [
    {
     "data": {
      "image/png": "[encoded data removed]",
      "text/plain": [
       "<Figure size 648x864 with 4 Axes>"
      ]
     },
     "metadata": {},
     "output_type": "display_data"
    }
   ],
   "source": [
    "scenario.estimate_accuracy(phase=\"1st\")"
   ]
  },
  {
   "cell_type": "markdown",
   "metadata": {},
   "source": [
    "### Get parameter value"
   ]
  },
  {
   "cell_type": "code",
   "execution_count": 31,
   "metadata": {
    "collapsed": false
   },
   "outputs": [
    {
     "data": {
      "text/plain": [
       "1.58"
      ]
     },
     "execution_count": 31,
     "metadata": {},
     "output_type": "execute_result"
    }
   ],
   "source": [
    "scenario.get(\"Rt\", phase=\"4th\")"
   ]
  },
  {
   "cell_type": "markdown",
   "metadata": {},
   "source": [
    "### Show parameter history"
   ]
  },
  {
   "cell_type": "code",
   "execution_count": 32,
   "metadata": {
    "collapsed": false
   },
   "outputs": [
    {
     "data": {
      "image/png": "[encoded data removed]",
      "text/plain": [
       "<Figure size 648x432 with 1 Axes>"
      ]
     },
     "metadata": {},
     "output_type": "display_data"
    },
    {
     "data": {
      "text/html": [
       "<div>\n",
       "<style scoped>\n",
       "    .dataframe tbody tr th:only-of-type {\n",
       "        vertical-align: middle;\n",
       "    }\n",
       "\n",
       "    .dataframe tbody tr th {\n",
       "        vertical-align: top;\n",
       "    }\n",
       "\n",
       "    .dataframe thead th {\n",
       "        text-align: right;\n",
       "    }\n",
       "</style>\n",
       "<table border=\"1\" class=\"dataframe\">\n",
       "  <thead>\n",
       "    <tr style=\"text-align: right;\">\n",
       "      <th></th>\n",
       "      <th>0th</th>\n",
       "      <th>1st</th>\n",
       "      <th>2nd</th>\n",
       "      <th>3rd</th>\n",
       "      <th>4th</th>\n",
       "      <th>5th</th>\n",
       "      <th>6th</th>\n",
       "      <th>7th</th>\n",
       "      <th>8th</th>\n",
       "    </tr>\n",
       "  </thead>\n",
       "  <tbody>\n",
       "    <tr>\n",
       "      <th>rho</th>\n",
       "      <td>1.0</td>\n",
       "      <td>0.291405</td>\n",
       "      <td>1.280058</td>\n",
       "      <td>1.288302</td>\n",
       "      <td>0.993514</td>\n",
       "      <td>0.751896</td>\n",
       "      <td>0.595434</td>\n",
       "      <td>0.761304</td>\n",
       "      <td>0.761428</td>\n",
       "    </tr>\n",
       "    <tr>\n",
       "      <th>sigma</th>\n",
       "      <td>1.0</td>\n",
       "      <td>3.096271</td>\n",
       "      <td>3.167561</td>\n",
       "      <td>3.344587</td>\n",
       "      <td>2.984045</td>\n",
       "      <td>4.332645</td>\n",
       "      <td>3.906381</td>\n",
       "      <td>4.592186</td>\n",
       "      <td>4.156375</td>\n",
       "    </tr>\n",
       "  </tbody>\n",
       "</table>\n",
       "</div>"
      ],
      "text/plain": [
       "       0th       1st       2nd       3rd       4th       5th       6th  \\\n",
       "rho    1.0  0.291405  1.280058  1.288302  0.993514  0.751896  0.595434   \n",
       "sigma  1.0  3.096271  3.167561  3.344587  2.984045  4.332645  3.906381   \n",
       "\n",
       "            7th       8th  \n",
       "rho    0.761304  0.761428  \n",
       "sigma  4.592186  4.156375  "
      ]
     },
     "execution_count": 32,
     "metadata": {},
     "output_type": "execute_result"
    }
   ],
   "source": [
    "df = scenario.param_history(targets=[\"rho\", \"sigma\"])\n",
    "df.T"
   ]
  },
  {
   "cell_type": "code",
   "execution_count": 33,
   "metadata": {
    "collapsed": false
   },
   "outputs": [
    {
     "data": {
      "image/png": "[encoded data removed]",
      "text/plain": [
       "<Figure size 648x432 with 1 Axes>"
      ]
     },
     "metadata": {},
     "output_type": "display_data"
    }
   ],
   "source": [
    "# version >= 2.8.0\n",
    "_ = scenario.history(target=\"rho\")"
   ]
  },
  {
   "cell_type": "code",
   "execution_count": 34,
   "metadata": {
    "collapsed": false
   },
   "outputs": [
    {
     "data": {
      "image/png": "[encoded data removed]",
      "text/plain": [
       "<Figure size 648x432 with 1 Axes>"
      ]
     },
     "metadata": {},
     "output_type": "display_data"
    }
   ],
   "source": [
    "# version >= 2.8.0\n",
    "_ = scenario.history(target=\"sigma\")"
   ]
  },
  {
   "cell_type": "markdown",
   "metadata": {},
   "source": [
    "### Show the history of reproduction number"
   ]
  },
  {
   "cell_type": "code",
   "execution_count": 35,
   "metadata": {
    "collapsed": false
   },
   "outputs": [
    {
     "data": {
      "image/png": "[encoded data removed]",
      "text/plain": [
       "<Figure size 648x432 with 1 Axes>"
      ]
     },
     "metadata": {},
     "output_type": "display_data"
    },
    {
     "data": {
      "text/html": [
       "<div>\n",
       "<style scoped>\n",
       "    .dataframe tbody tr th:only-of-type {\n",
       "        vertical-align: middle;\n",
       "    }\n",
       "\n",
       "    .dataframe tbody tr th {\n",
       "        vertical-align: top;\n",
       "    }\n",
       "\n",
       "    .dataframe thead th {\n",
       "        text-align: right;\n",
       "    }\n",
       "</style>\n",
       "<table border=\"1\" class=\"dataframe\">\n",
       "  <thead>\n",
       "    <tr style=\"text-align: right;\">\n",
       "      <th></th>\n",
       "      <th>0th</th>\n",
       "      <th>1st</th>\n",
       "      <th>2nd</th>\n",
       "      <th>3rd</th>\n",
       "      <th>4th</th>\n",
       "      <th>5th</th>\n",
       "      <th>6th</th>\n",
       "      <th>7th</th>\n",
       "      <th>8th</th>\n",
       "    </tr>\n",
       "  </thead>\n",
       "  <tbody>\n",
       "    <tr>\n",
       "      <th>Rt</th>\n",
       "      <td>4.66</td>\n",
       "      <td>0.41</td>\n",
       "      <td>1.93</td>\n",
       "      <td>1.84</td>\n",
       "      <td>1.58</td>\n",
       "      <td>0.82</td>\n",
       "      <td>0.71</td>\n",
       "      <td>0.78</td>\n",
       "      <td>0.87</td>\n",
       "    </tr>\n",
       "  </tbody>\n",
       "</table>\n",
       "</div>"
      ],
      "text/plain": [
       "     0th   1st   2nd   3rd   4th   5th   6th   7th   8th\n",
       "Rt  4.66  0.41  1.93  1.84  1.58  0.82  0.71  0.78  0.87"
      ]
     },
     "execution_count": 35,
     "metadata": {},
     "output_type": "execute_result"
    }
   ],
   "source": [
    "df = scenario.param_history(targets=[\"Rt\"], divide_by_first=False, show_box_plot=True)\n",
    "df.T"
   ]
  },
  {
   "cell_type": "code",
   "execution_count": 36,
   "metadata": {
    "collapsed": false
   },
   "outputs": [
    {
     "data": {
      "image/png": "[encoded data removed]",
      "text/plain": [
       "<Figure size 648x432 with 1 Axes>"
      ]
     },
     "metadata": {},
     "output_type": "display_data"
    }
   ],
   "source": [
    "# version >= 2.8.0\n",
    "_ = scenario.history(target=\"Rt\")"
   ]
  },
  {
   "cell_type": "markdown",
   "metadata": {},
   "source": [
    "### Simulate the number of cases"
   ]
  },
  {
   "cell_type": "code",
   "execution_count": 37,
   "metadata": {
    "collapsed": false
   },
   "outputs": [
    {
     "data": {
      "image/png": "[encoded data removed]",
      "text/plain": [
       "<Figure size 648x432 with 1 Axes>"
      ]
     },
     "metadata": {},
     "output_type": "display_data"
    },
    {
     "data": {
      "text/html": [
       "<div>\n",
       "<style scoped>\n",
       "    .dataframe tbody tr th:only-of-type {\n",
       "        vertical-align: middle;\n",
       "    }\n",
       "\n",
       "    .dataframe tbody tr th {\n",
       "        vertical-align: top;\n",
       "    }\n",
       "\n",
       "    .dataframe thead th {\n",
       "        text-align: right;\n",
       "    }\n",
       "</style>\n",
       "<table border=\"1\" class=\"dataframe\">\n",
       "  <thead>\n",
       "    <tr style=\"text-align: right;\">\n",
       "      <th></th>\n",
       "      <th>Date</th>\n",
       "      <th>Confirmed</th>\n",
       "      <th>Fatal</th>\n",
       "      <th>Infected</th>\n",
       "      <th>Recovered</th>\n",
       "    </tr>\n",
       "  </thead>\n",
       "  <tbody>\n",
       "    <tr>\n",
       "      <th>327</th>\n",
       "      <td>2020-12-29</td>\n",
       "      <td>106699</td>\n",
       "      <td>1862</td>\n",
       "      <td>1805</td>\n",
       "      <td>103032</td>\n",
       "    </tr>\n",
       "    <tr>\n",
       "      <th>328</th>\n",
       "      <td>2020-12-30</td>\n",
       "      <td>106842</td>\n",
       "      <td>1864</td>\n",
       "      <td>1784</td>\n",
       "      <td>103194</td>\n",
       "    </tr>\n",
       "    <tr>\n",
       "      <th>329</th>\n",
       "      <td>2020-12-31</td>\n",
       "      <td>106981</td>\n",
       "      <td>1865</td>\n",
       "      <td>1762</td>\n",
       "      <td>103354</td>\n",
       "    </tr>\n",
       "    <tr>\n",
       "      <th>330</th>\n",
       "      <td>2021-01-01</td>\n",
       "      <td>107120</td>\n",
       "      <td>1867</td>\n",
       "      <td>1740</td>\n",
       "      <td>103513</td>\n",
       "    </tr>\n",
       "    <tr>\n",
       "      <th>331</th>\n",
       "      <td>2021-01-02</td>\n",
       "      <td>107257</td>\n",
       "      <td>1869</td>\n",
       "      <td>1719</td>\n",
       "      <td>103669</td>\n",
       "    </tr>\n",
       "  </tbody>\n",
       "</table>\n",
       "</div>"
      ],
      "text/plain": [
       "          Date  Confirmed  Fatal  Infected  Recovered\n",
       "327 2020-12-29     106699   1862      1805     103032\n",
       "328 2020-12-30     106842   1864      1784     103194\n",
       "329 2020-12-31     106981   1865      1762     103354\n",
       "330 2021-01-01     107120   1867      1740     103513\n",
       "331 2021-01-02     107257   1869      1719     103669"
      ]
     },
     "execution_count": 37,
     "metadata": {},
     "output_type": "execute_result"
    }
   ],
   "source": [
    "scenario.clear(name=\"Main\")\n",
    "scenario.add(end_date=\"01Jan2021\", name=\"Main\")\n",
    "main_sim_df = scenario.simulate(name=\"Main\")\n",
    "main_sim_df.tail()"
   ]
  },
  {
   "cell_type": "markdown",
   "metadata": {},
   "source": [
    "### Simulate another scenario\n",
    "If $\\sigma$ will be double in 30 days, how many cases will be?"
   ]
  },
  {
   "cell_type": "code",
   "execution_count": 38,
   "metadata": {
    "collapsed": false
   },
   "outputs": [
    {
     "data": {
      "text/plain": [
       "0.09047896237743171"
      ]
     },
     "execution_count": 38,
     "metadata": {},
     "output_type": "execute_result"
    }
   ],
   "source": [
    "sigma_current = scenario.get(\"sigma\", name=\"Main\", phase=\"last\")\n",
    "sigma_current"
   ]
  },
  {
   "cell_type": "code",
   "execution_count": 39,
   "metadata": {
    "collapsed": false
   },
   "outputs": [
    {
     "data": {
      "text/plain": [
       "0.18095792475486341"
      ]
     },
     "execution_count": 39,
     "metadata": {},
     "output_type": "execute_result"
    }
   ],
   "source": [
    "sigma_new = sigma_current * 2\n",
    "sigma_new"
   ]
  },
  {
   "cell_type": "code",
   "execution_count": 40,
   "metadata": {
    "collapsed": false
   },
   "outputs": [
    {
     "data": {
      "text/html": [
       "<div>\n",
       "<style scoped>\n",
       "    .dataframe tbody tr th:only-of-type {\n",
       "        vertical-align: middle;\n",
       "    }\n",
       "\n",
       "    .dataframe tbody tr th {\n",
       "        vertical-align: top;\n",
       "    }\n",
       "\n",
       "    .dataframe thead th {\n",
       "        text-align: right;\n",
       "    }\n",
       "</style>\n",
       "<table border=\"1\" class=\"dataframe\">\n",
       "  <thead>\n",
       "    <tr style=\"text-align: right;\">\n",
       "      <th></th>\n",
       "      <th></th>\n",
       "      <th>Type</th>\n",
       "      <th>Start</th>\n",
       "      <th>End</th>\n",
       "      <th>Population</th>\n",
       "      <th>ODE</th>\n",
       "      <th>Rt</th>\n",
       "      <th>theta</th>\n",
       "      <th>kappa</th>\n",
       "      <th>rho</th>\n",
       "      <th>sigma</th>\n",
       "      <th>tau</th>\n",
       "      <th>1/gamma [day]</th>\n",
       "      <th>1/alpha2 [day]</th>\n",
       "      <th>alpha1 [-]</th>\n",
       "      <th>1/beta [day]</th>\n",
       "      <th>RMSLE</th>\n",
       "      <th>Trials</th>\n",
       "      <th>Runtime</th>\n",
       "    </tr>\n",
       "    <tr>\n",
       "      <th>Scenario</th>\n",
       "      <th>Phase</th>\n",
       "      <th></th>\n",
       "      <th></th>\n",
       "      <th></th>\n",
       "      <th></th>\n",
       "      <th></th>\n",
       "      <th></th>\n",
       "      <th></th>\n",
       "      <th></th>\n",
       "      <th></th>\n",
       "      <th></th>\n",
       "      <th></th>\n",
       "      <th></th>\n",
       "      <th></th>\n",
       "      <th></th>\n",
       "      <th></th>\n",
       "      <th></th>\n",
       "      <th></th>\n",
       "      <th></th>\n",
       "    </tr>\n",
       "  </thead>\n",
       "  <tbody>\n",
       "    <tr>\n",
       "      <th rowspan=\"10\" valign=\"top\">Main</th>\n",
       "      <th>0th</th>\n",
       "      <td>Past</td>\n",
       "      <td>06Feb2020</td>\n",
       "      <td>21Apr2020</td>\n",
       "      <td>126529100</td>\n",
       "      <td>SIR-F</td>\n",
       "      <td>4.66</td>\n",
       "      <td>0.018341</td>\n",
       "      <td>0.000174</td>\n",
       "      <td>0.104200</td>\n",
       "      <td>0.021769</td>\n",
       "      <td>1440</td>\n",
       "      <td>45</td>\n",
       "      <td>5760</td>\n",
       "      <td>0.018</td>\n",
       "      <td>9</td>\n",
       "      <td>0.937856</td>\n",
       "      <td>1941</td>\n",
       "      <td>1 min  0 sec</td>\n",
       "    </tr>\n",
       "    <tr>\n",
       "      <th>1st</th>\n",
       "      <td>Past</td>\n",
       "      <td>22Apr2020</td>\n",
       "      <td>06Jul2020</td>\n",
       "      <td>126529100</td>\n",
       "      <td>SIR-F</td>\n",
       "      <td>0.41</td>\n",
       "      <td>0.094355</td>\n",
       "      <td>0.000373</td>\n",
       "      <td>0.030364</td>\n",
       "      <td>0.067402</td>\n",
       "      <td>1440</td>\n",
       "      <td>14</td>\n",
       "      <td>2681</td>\n",
       "      <td>0.094</td>\n",
       "      <td>32</td>\n",
       "      <td>0.890362</td>\n",
       "      <td>1926</td>\n",
       "      <td>1 min  0 sec</td>\n",
       "    </tr>\n",
       "    <tr>\n",
       "      <th>2nd</th>\n",
       "      <td>Past</td>\n",
       "      <td>07Jul2020</td>\n",
       "      <td>23Jul2020</td>\n",
       "      <td>126529100</td>\n",
       "      <td>SIR-F</td>\n",
       "      <td>1.93</td>\n",
       "      <td>0.000466</td>\n",
       "      <td>0.000080</td>\n",
       "      <td>0.133382</td>\n",
       "      <td>0.068954</td>\n",
       "      <td>1440</td>\n",
       "      <td>14</td>\n",
       "      <td>12426</td>\n",
       "      <td>0.000</td>\n",
       "      <td>7</td>\n",
       "      <td>0.0318977</td>\n",
       "      <td>259</td>\n",
       "      <td>0 min  5 sec</td>\n",
       "    </tr>\n",
       "    <tr>\n",
       "      <th>3rd</th>\n",
       "      <td>Past</td>\n",
       "      <td>24Jul2020</td>\n",
       "      <td>01Aug2020</td>\n",
       "      <td>126529100</td>\n",
       "      <td>SIR-F</td>\n",
       "      <td>1.84</td>\n",
       "      <td>0.000726</td>\n",
       "      <td>0.000120</td>\n",
       "      <td>0.134241</td>\n",
       "      <td>0.072807</td>\n",
       "      <td>1440</td>\n",
       "      <td>13</td>\n",
       "      <td>8341</td>\n",
       "      <td>0.001</td>\n",
       "      <td>7</td>\n",
       "      <td>0.0192649</td>\n",
       "      <td>1041</td>\n",
       "      <td>0 min 25 sec</td>\n",
       "    </tr>\n",
       "    <tr>\n",
       "      <th>4th</th>\n",
       "      <td>Past</td>\n",
       "      <td>02Aug2020</td>\n",
       "      <td>14Aug2020</td>\n",
       "      <td>126529100</td>\n",
       "      <td>SIR-F</td>\n",
       "      <td>1.58</td>\n",
       "      <td>0.000627</td>\n",
       "      <td>0.000316</td>\n",
       "      <td>0.103524</td>\n",
       "      <td>0.064959</td>\n",
       "      <td>1440</td>\n",
       "      <td>15</td>\n",
       "      <td>3163</td>\n",
       "      <td>0.001</td>\n",
       "      <td>9</td>\n",
       "      <td>0.0615721</td>\n",
       "      <td>1976</td>\n",
       "      <td>1 min  0 sec</td>\n",
       "    </tr>\n",
       "    <tr>\n",
       "      <th>5th</th>\n",
       "      <td>Past</td>\n",
       "      <td>15Aug2020</td>\n",
       "      <td>28Aug2020</td>\n",
       "      <td>126529100</td>\n",
       "      <td>SIR-F</td>\n",
       "      <td>0.82</td>\n",
       "      <td>0.000562</td>\n",
       "      <td>0.000900</td>\n",
       "      <td>0.078347</td>\n",
       "      <td>0.094316</td>\n",
       "      <td>1440</td>\n",
       "      <td>10</td>\n",
       "      <td>1111</td>\n",
       "      <td>0.001</td>\n",
       "      <td>12</td>\n",
       "      <td>0.021244</td>\n",
       "      <td>667</td>\n",
       "      <td>0 min 15 sec</td>\n",
       "    </tr>\n",
       "    <tr>\n",
       "      <th>6th</th>\n",
       "      <td>Past</td>\n",
       "      <td>29Aug2020</td>\n",
       "      <td>08Sep2020</td>\n",
       "      <td>126529100</td>\n",
       "      <td>SIR-F</td>\n",
       "      <td>0.71</td>\n",
       "      <td>0.020188</td>\n",
       "      <td>0.000164</td>\n",
       "      <td>0.062044</td>\n",
       "      <td>0.085037</td>\n",
       "      <td>1440</td>\n",
       "      <td>11</td>\n",
       "      <td>6106</td>\n",
       "      <td>0.020</td>\n",
       "      <td>16</td>\n",
       "      <td>0.0168298</td>\n",
       "      <td>251</td>\n",
       "      <td>0 min  5 sec</td>\n",
       "    </tr>\n",
       "    <tr>\n",
       "      <th>7th</th>\n",
       "      <td>Past</td>\n",
       "      <td>09Sep2020</td>\n",
       "      <td>19Sep2020</td>\n",
       "      <td>126529100</td>\n",
       "      <td>SIR-F</td>\n",
       "      <td>0.78</td>\n",
       "      <td>0.002932</td>\n",
       "      <td>0.001325</td>\n",
       "      <td>0.079328</td>\n",
       "      <td>0.099966</td>\n",
       "      <td>1440</td>\n",
       "      <td>10</td>\n",
       "      <td>754</td>\n",
       "      <td>0.003</td>\n",
       "      <td>12</td>\n",
       "      <td>0.0282502</td>\n",
       "      <td>249</td>\n",
       "      <td>0 min  5 sec</td>\n",
       "    </tr>\n",
       "    <tr>\n",
       "      <th>8th</th>\n",
       "      <td>Past</td>\n",
       "      <td>20Sep2020</td>\n",
       "      <td>03Oct2020</td>\n",
       "      <td>126529100</td>\n",
       "      <td>SIR-F</td>\n",
       "      <td>0.87</td>\n",
       "      <td>0.000464</td>\n",
       "      <td>0.000984</td>\n",
       "      <td>0.079341</td>\n",
       "      <td>0.090479</td>\n",
       "      <td>1440</td>\n",
       "      <td>11</td>\n",
       "      <td>1015</td>\n",
       "      <td>0.000</td>\n",
       "      <td>12</td>\n",
       "      <td>0.0274187</td>\n",
       "      <td>1731</td>\n",
       "      <td>1 min  0 sec</td>\n",
       "    </tr>\n",
       "    <tr>\n",
       "      <th>9th</th>\n",
       "      <td>Future</td>\n",
       "      <td>04Oct2020</td>\n",
       "      <td>01Jan2021</td>\n",
       "      <td>126529100</td>\n",
       "      <td>SIR-F</td>\n",
       "      <td>0.87</td>\n",
       "      <td>0.000464</td>\n",
       "      <td>0.000984</td>\n",
       "      <td>0.079341</td>\n",
       "      <td>0.090479</td>\n",
       "      <td>1440</td>\n",
       "      <td>11</td>\n",
       "      <td>1015</td>\n",
       "      <td>0.000</td>\n",
       "      <td>12</td>\n",
       "      <td>-</td>\n",
       "      <td>-</td>\n",
       "      <td>-</td>\n",
       "    </tr>\n",
       "    <tr>\n",
       "      <th rowspan=\"11\" valign=\"top\">Medicine</th>\n",
       "      <th>0th</th>\n",
       "      <td>Past</td>\n",
       "      <td>06Feb2020</td>\n",
       "      <td>21Apr2020</td>\n",
       "      <td>126529100</td>\n",
       "      <td>SIR-F</td>\n",
       "      <td>4.66</td>\n",
       "      <td>0.018341</td>\n",
       "      <td>0.000174</td>\n",
       "      <td>0.104200</td>\n",
       "      <td>0.021769</td>\n",
       "      <td>1440</td>\n",
       "      <td>45</td>\n",
       "      <td>5760</td>\n",
       "      <td>0.018</td>\n",
       "      <td>9</td>\n",
       "      <td>0.937856</td>\n",
       "      <td>1941</td>\n",
       "      <td>1 min  0 sec</td>\n",
       "    </tr>\n",
       "    <tr>\n",
       "      <th>1st</th>\n",
       "      <td>Past</td>\n",
       "      <td>22Apr2020</td>\n",
       "      <td>06Jul2020</td>\n",
       "      <td>126529100</td>\n",
       "      <td>SIR-F</td>\n",
       "      <td>0.41</td>\n",
       "      <td>0.094355</td>\n",
       "      <td>0.000373</td>\n",
       "      <td>0.030364</td>\n",
       "      <td>0.067402</td>\n",
       "      <td>1440</td>\n",
       "      <td>14</td>\n",
       "      <td>2681</td>\n",
       "      <td>0.094</td>\n",
       "      <td>32</td>\n",
       "      <td>0.890362</td>\n",
       "      <td>1926</td>\n",
       "      <td>1 min  0 sec</td>\n",
       "    </tr>\n",
       "    <tr>\n",
       "      <th>2nd</th>\n",
       "      <td>Past</td>\n",
       "      <td>07Jul2020</td>\n",
       "      <td>23Jul2020</td>\n",
       "      <td>126529100</td>\n",
       "      <td>SIR-F</td>\n",
       "      <td>1.93</td>\n",
       "      <td>0.000466</td>\n",
       "      <td>0.000080</td>\n",
       "      <td>0.133382</td>\n",
       "      <td>0.068954</td>\n",
       "      <td>1440</td>\n",
       "      <td>14</td>\n",
       "      <td>12426</td>\n",
       "      <td>0.000</td>\n",
       "      <td>7</td>\n",
       "      <td>0.0318977</td>\n",
       "      <td>259</td>\n",
       "      <td>0 min  5 sec</td>\n",
       "    </tr>\n",
       "    <tr>\n",
       "      <th>3rd</th>\n",
       "      <td>Past</td>\n",
       "      <td>24Jul2020</td>\n",
       "      <td>01Aug2020</td>\n",
       "      <td>126529100</td>\n",
       "      <td>SIR-F</td>\n",
       "      <td>1.84</td>\n",
       "      <td>0.000726</td>\n",
       "      <td>0.000120</td>\n",
       "      <td>0.134241</td>\n",
       "      <td>0.072807</td>\n",
       "      <td>1440</td>\n",
       "      <td>13</td>\n",
       "      <td>8341</td>\n",
       "      <td>0.001</td>\n",
       "      <td>7</td>\n",
       "      <td>0.0192649</td>\n",
       "      <td>1041</td>\n",
       "      <td>0 min 25 sec</td>\n",
       "    </tr>\n",
       "    <tr>\n",
       "      <th>4th</th>\n",
       "      <td>Past</td>\n",
       "      <td>02Aug2020</td>\n",
       "      <td>14Aug2020</td>\n",
       "      <td>126529100</td>\n",
       "      <td>SIR-F</td>\n",
       "      <td>1.58</td>\n",
       "      <td>0.000627</td>\n",
       "      <td>0.000316</td>\n",
       "      <td>0.103524</td>\n",
       "      <td>0.064959</td>\n",
       "      <td>1440</td>\n",
       "      <td>15</td>\n",
       "      <td>3163</td>\n",
       "      <td>0.001</td>\n",
       "      <td>9</td>\n",
       "      <td>0.0615721</td>\n",
       "      <td>1976</td>\n",
       "      <td>1 min  0 sec</td>\n",
       "    </tr>\n",
       "    <tr>\n",
       "      <th>5th</th>\n",
       "      <td>Past</td>\n",
       "      <td>15Aug2020</td>\n",
       "      <td>28Aug2020</td>\n",
       "      <td>126529100</td>\n",
       "      <td>SIR-F</td>\n",
       "      <td>0.82</td>\n",
       "      <td>0.000562</td>\n",
       "      <td>0.000900</td>\n",
       "      <td>0.078347</td>\n",
       "      <td>0.094316</td>\n",
       "      <td>1440</td>\n",
       "      <td>10</td>\n",
       "      <td>1111</td>\n",
       "      <td>0.001</td>\n",
       "      <td>12</td>\n",
       "      <td>0.021244</td>\n",
       "      <td>667</td>\n",
       "      <td>0 min 15 sec</td>\n",
       "    </tr>\n",
       "    <tr>\n",
       "      <th>6th</th>\n",
       "      <td>Past</td>\n",
       "      <td>29Aug2020</td>\n",
       "      <td>08Sep2020</td>\n",
       "      <td>126529100</td>\n",
       "      <td>SIR-F</td>\n",
       "      <td>0.71</td>\n",
       "      <td>0.020188</td>\n",
       "      <td>0.000164</td>\n",
       "      <td>0.062044</td>\n",
       "      <td>0.085037</td>\n",
       "      <td>1440</td>\n",
       "      <td>11</td>\n",
       "      <td>6106</td>\n",
       "      <td>0.020</td>\n",
       "      <td>16</td>\n",
       "      <td>0.0168298</td>\n",
       "      <td>251</td>\n",
       "      <td>0 min  5 sec</td>\n",
       "    </tr>\n",
       "    <tr>\n",
       "      <th>7th</th>\n",
       "      <td>Past</td>\n",
       "      <td>09Sep2020</td>\n",
       "      <td>19Sep2020</td>\n",
       "      <td>126529100</td>\n",
       "      <td>SIR-F</td>\n",
       "      <td>0.78</td>\n",
       "      <td>0.002932</td>\n",
       "      <td>0.001325</td>\n",
       "      <td>0.079328</td>\n",
       "      <td>0.099966</td>\n",
       "      <td>1440</td>\n",
       "      <td>10</td>\n",
       "      <td>754</td>\n",
       "      <td>0.003</td>\n",
       "      <td>12</td>\n",
       "      <td>0.0282502</td>\n",
       "      <td>249</td>\n",
       "      <td>0 min  5 sec</td>\n",
       "    </tr>\n",
       "    <tr>\n",
       "      <th>8th</th>\n",
       "      <td>Past</td>\n",
       "      <td>20Sep2020</td>\n",
       "      <td>03Oct2020</td>\n",
       "      <td>126529100</td>\n",
       "      <td>SIR-F</td>\n",
       "      <td>0.87</td>\n",
       "      <td>0.000464</td>\n",
       "      <td>0.000984</td>\n",
       "      <td>0.079341</td>\n",
       "      <td>0.090479</td>\n",
       "      <td>1440</td>\n",
       "      <td>11</td>\n",
       "      <td>1015</td>\n",
       "      <td>0.000</td>\n",
       "      <td>12</td>\n",
       "      <td>0.0274187</td>\n",
       "      <td>1731</td>\n",
       "      <td>1 min  0 sec</td>\n",
       "    </tr>\n",
       "    <tr>\n",
       "      <th>9th</th>\n",
       "      <td>Future</td>\n",
       "      <td>04Oct2020</td>\n",
       "      <td>02Nov2020</td>\n",
       "      <td>126529100</td>\n",
       "      <td>SIR-F</td>\n",
       "      <td>0.87</td>\n",
       "      <td>0.000464</td>\n",
       "      <td>0.000984</td>\n",
       "      <td>0.079341</td>\n",
       "      <td>0.090479</td>\n",
       "      <td>1440</td>\n",
       "      <td>11</td>\n",
       "      <td>1015</td>\n",
       "      <td>0.000</td>\n",
       "      <td>12</td>\n",
       "      <td>-</td>\n",
       "      <td>-</td>\n",
       "      <td>-</td>\n",
       "    </tr>\n",
       "    <tr>\n",
       "      <th>10th</th>\n",
       "      <td>Future</td>\n",
       "      <td>03Nov2020</td>\n",
       "      <td>01Jan2021</td>\n",
       "      <td>126529100</td>\n",
       "      <td>SIR-F</td>\n",
       "      <td>0.44</td>\n",
       "      <td>0.000464</td>\n",
       "      <td>0.000984</td>\n",
       "      <td>0.079341</td>\n",
       "      <td>0.180958</td>\n",
       "      <td>1440</td>\n",
       "      <td>5</td>\n",
       "      <td>1015</td>\n",
       "      <td>0.000</td>\n",
       "      <td>12</td>\n",
       "      <td>-</td>\n",
       "      <td>-</td>\n",
       "      <td>-</td>\n",
       "    </tr>\n",
       "  </tbody>\n",
       "</table>\n",
       "</div>"
      ],
      "text/plain": [
       "                  Type      Start        End  Population    ODE    Rt  \\\n",
       "Scenario Phase                                                          \n",
       "Main     0th      Past  06Feb2020  21Apr2020   126529100  SIR-F  4.66   \n",
       "         1st      Past  22Apr2020  06Jul2020   126529100  SIR-F  0.41   \n",
       "         2nd      Past  07Jul2020  23Jul2020   126529100  SIR-F  1.93   \n",
       "         3rd      Past  24Jul2020  01Aug2020   126529100  SIR-F  1.84   \n",
       "         4th      Past  02Aug2020  14Aug2020   126529100  SIR-F  1.58   \n",
       "         5th      Past  15Aug2020  28Aug2020   126529100  SIR-F  0.82   \n",
       "         6th      Past  29Aug2020  08Sep2020   126529100  SIR-F  0.71   \n",
       "         7th      Past  09Sep2020  19Sep2020   126529100  SIR-F  0.78   \n",
       "         8th      Past  20Sep2020  03Oct2020   126529100  SIR-F  0.87   \n",
       "         9th    Future  04Oct2020  01Jan2021   126529100  SIR-F  0.87   \n",
       "Medicine 0th      Past  06Feb2020  21Apr2020   126529100  SIR-F  4.66   \n",
       "         1st      Past  22Apr2020  06Jul2020   126529100  SIR-F  0.41   \n",
       "         2nd      Past  07Jul2020  23Jul2020   126529100  SIR-F  1.93   \n",
       "         3rd      Past  24Jul2020  01Aug2020   126529100  SIR-F  1.84   \n",
       "         4th      Past  02Aug2020  14Aug2020   126529100  SIR-F  1.58   \n",
       "         5th      Past  15Aug2020  28Aug2020   126529100  SIR-F  0.82   \n",
       "         6th      Past  29Aug2020  08Sep2020   126529100  SIR-F  0.71   \n",
       "         7th      Past  09Sep2020  19Sep2020   126529100  SIR-F  0.78   \n",
       "         8th      Past  20Sep2020  03Oct2020   126529100  SIR-F  0.87   \n",
       "         9th    Future  04Oct2020  02Nov2020   126529100  SIR-F  0.87   \n",
       "         10th   Future  03Nov2020  01Jan2021   126529100  SIR-F  0.44   \n",
       "\n",
       "                   theta     kappa       rho     sigma   tau  1/gamma [day]  \\\n",
       "Scenario Phase                                                                \n",
       "Main     0th    0.018341  0.000174  0.104200  0.021769  1440             45   \n",
       "         1st    0.094355  0.000373  0.030364  0.067402  1440             14   \n",
       "         2nd    0.000466  0.000080  0.133382  0.068954  1440             14   \n",
       "         3rd    0.000726  0.000120  0.134241  0.072807  1440             13   \n",
       "         4th    0.000627  0.000316  0.103524  0.064959  1440             15   \n",
       "         5th    0.000562  0.000900  0.078347  0.094316  1440             10   \n",
       "         6th    0.020188  0.000164  0.062044  0.085037  1440             11   \n",
       "         7th    0.002932  0.001325  0.079328  0.099966  1440             10   \n",
       "         8th    0.000464  0.000984  0.079341  0.090479  1440             11   \n",
       "         9th    0.000464  0.000984  0.079341  0.090479  1440             11   \n",
       "Medicine 0th    0.018341  0.000174  0.104200  0.021769  1440             45   \n",
       "         1st    0.094355  0.000373  0.030364  0.067402  1440             14   \n",
       "         2nd    0.000466  0.000080  0.133382  0.068954  1440             14   \n",
       "         3rd    0.000726  0.000120  0.134241  0.072807  1440             13   \n",
       "         4th    0.000627  0.000316  0.103524  0.064959  1440             15   \n",
       "         5th    0.000562  0.000900  0.078347  0.094316  1440             10   \n",
       "         6th    0.020188  0.000164  0.062044  0.085037  1440             11   \n",
       "         7th    0.002932  0.001325  0.079328  0.099966  1440             10   \n",
       "         8th    0.000464  0.000984  0.079341  0.090479  1440             11   \n",
       "         9th    0.000464  0.000984  0.079341  0.090479  1440             11   \n",
       "         10th   0.000464  0.000984  0.079341  0.180958  1440              5   \n",
       "\n",
       "                1/alpha2 [day]  alpha1 [-]  1/beta [day]      RMSLE Trials  \\\n",
       "Scenario Phase                                                               \n",
       "Main     0th              5760       0.018             9   0.937856   1941   \n",
       "         1st              2681       0.094            32   0.890362   1926   \n",
       "         2nd             12426       0.000             7  0.0318977    259   \n",
       "         3rd              8341       0.001             7  0.0192649   1041   \n",
       "         4th              3163       0.001             9  0.0615721   1976   \n",
       "         5th              1111       0.001            12   0.021244    667   \n",
       "         6th              6106       0.020            16  0.0168298    251   \n",
       "         7th               754       0.003            12  0.0282502    249   \n",
       "         8th              1015       0.000            12  0.0274187   1731   \n",
       "         9th              1015       0.000            12          -      -   \n",
       "Medicine 0th              5760       0.018             9   0.937856   1941   \n",
       "         1st              2681       0.094            32   0.890362   1926   \n",
       "         2nd             12426       0.000             7  0.0318977    259   \n",
       "         3rd              8341       0.001             7  0.0192649   1041   \n",
       "         4th              3163       0.001             9  0.0615721   1976   \n",
       "         5th              1111       0.001            12   0.021244    667   \n",
       "         6th              6106       0.020            16  0.0168298    251   \n",
       "         7th               754       0.003            12  0.0282502    249   \n",
       "         8th              1015       0.000            12  0.0274187   1731   \n",
       "         9th              1015       0.000            12          -      -   \n",
       "         10th             1015       0.000            12          -      -   \n",
       "\n",
       "                     Runtime  \n",
       "Scenario Phase                \n",
       "Main     0th    1 min  0 sec  \n",
       "         1st    1 min  0 sec  \n",
       "         2nd    0 min  5 sec  \n",
       "         3rd    0 min 25 sec  \n",
       "         4th    1 min  0 sec  \n",
       "         5th    0 min 15 sec  \n",
       "         6th    0 min  5 sec  \n",
       "         7th    0 min  5 sec  \n",
       "         8th    1 min  0 sec  \n",
       "         9th               -  \n",
       "Medicine 0th    1 min  0 sec  \n",
       "         1st    1 min  0 sec  \n",
       "         2nd    0 min  5 sec  \n",
       "         3rd    0 min 25 sec  \n",
       "         4th    1 min  0 sec  \n",
       "         5th    0 min 15 sec  \n",
       "         6th    0 min  5 sec  \n",
       "         7th    0 min  5 sec  \n",
       "         8th    1 min  0 sec  \n",
       "         9th               -  \n",
       "         10th              -  "
      ]
     },
     "execution_count": 40,
     "metadata": {},
     "output_type": "execute_result"
    }
   ],
   "source": [
    "scenario.clear(name=\"Medicine\")\n",
    "scenario.add(name=\"Medicine\", days=30, sigma=sigma_current)\n",
    "scenario.add(name=\"Medicine\", end_date=\"01Jan2021\", sigma=sigma_new)\n",
    "scenario.summary()"
   ]
  },
  {
   "cell_type": "code",
   "execution_count": 41,
   "metadata": {
    "collapsed": false
   },
   "outputs": [
    {
     "data": {
      "image/png": "[encoded data removed]",
      "text/plain": [
       "<Figure size 648x432 with 1 Axes>"
      ]
     },
     "metadata": {},
     "output_type": "display_data"
    },
    {
     "data": {
      "text/html": [
       "<div>\n",
       "<style scoped>\n",
       "    .dataframe tbody tr th:only-of-type {\n",
       "        vertical-align: middle;\n",
       "    }\n",
       "\n",
       "    .dataframe tbody tr th {\n",
       "        vertical-align: top;\n",
       "    }\n",
       "\n",
       "    .dataframe thead th {\n",
       "        text-align: right;\n",
       "    }\n",
       "</style>\n",
       "<table border=\"1\" class=\"dataframe\">\n",
       "  <thead>\n",
       "    <tr style=\"text-align: right;\">\n",
       "      <th></th>\n",
       "      <th>Date</th>\n",
       "      <th>Confirmed</th>\n",
       "      <th>Fatal</th>\n",
       "      <th>Infected</th>\n",
       "      <th>Recovered</th>\n",
       "    </tr>\n",
       "  </thead>\n",
       "  <tbody>\n",
       "    <tr>\n",
       "      <th>327</th>\n",
       "      <td>2020-12-29</td>\n",
       "      <td>97947</td>\n",
       "      <td>1748</td>\n",
       "      <td>11</td>\n",
       "      <td>96188</td>\n",
       "    </tr>\n",
       "    <tr>\n",
       "      <th>328</th>\n",
       "      <td>2020-12-30</td>\n",
       "      <td>97948</td>\n",
       "      <td>1748</td>\n",
       "      <td>10</td>\n",
       "      <td>96190</td>\n",
       "    </tr>\n",
       "    <tr>\n",
       "      <th>329</th>\n",
       "      <td>2020-12-31</td>\n",
       "      <td>97950</td>\n",
       "      <td>1749</td>\n",
       "      <td>9</td>\n",
       "      <td>96192</td>\n",
       "    </tr>\n",
       "    <tr>\n",
       "      <th>330</th>\n",
       "      <td>2021-01-01</td>\n",
       "      <td>97950</td>\n",
       "      <td>1749</td>\n",
       "      <td>8</td>\n",
       "      <td>96193</td>\n",
       "    </tr>\n",
       "    <tr>\n",
       "      <th>331</th>\n",
       "      <td>2021-01-02</td>\n",
       "      <td>97952</td>\n",
       "      <td>1749</td>\n",
       "      <td>8</td>\n",
       "      <td>96195</td>\n",
       "    </tr>\n",
       "  </tbody>\n",
       "</table>\n",
       "</div>"
      ],
      "text/plain": [
       "          Date  Confirmed  Fatal  Infected  Recovered\n",
       "327 2020-12-29      97947   1748        11      96188\n",
       "328 2020-12-30      97948   1748        10      96190\n",
       "329 2020-12-31      97950   1749         9      96192\n",
       "330 2021-01-01      97950   1749         8      96193\n",
       "331 2021-01-02      97952   1749         8      96195"
      ]
     },
     "execution_count": 41,
     "metadata": {},
     "output_type": "execute_result"
    }
   ],
   "source": [
    "scenario.simulate(name=\"Medicine\").tail()"
   ]
  },
  {
   "cell_type": "markdown",
   "metadata": {},
   "source": [
    "### Compare the scenarios"
   ]
  },
  {
   "cell_type": "code",
   "execution_count": 42,
   "metadata": {
    "collapsed": false
   },
   "outputs": [
    {
     "data": {
      "text/html": [
       "<div>\n",
       "<style scoped>\n",
       "    .dataframe tbody tr th:only-of-type {\n",
       "        vertical-align: middle;\n",
       "    }\n",
       "\n",
       "    .dataframe tbody tr th {\n",
       "        vertical-align: top;\n",
       "    }\n",
       "\n",
       "    .dataframe thead th {\n",
       "        text-align: right;\n",
       "    }\n",
       "</style>\n",
       "<table border=\"1\" class=\"dataframe\">\n",
       "  <thead>\n",
       "    <tr style=\"text-align: right;\">\n",
       "      <th></th>\n",
       "      <th>max(Infected)</th>\n",
       "      <th>argmax(Infected)</th>\n",
       "      <th>Infected on 02Jan2021</th>\n",
       "      <th>Fatal on 02Jan2021</th>\n",
       "      <th>10th_Rt</th>\n",
       "    </tr>\n",
       "  </thead>\n",
       "  <tbody>\n",
       "    <tr>\n",
       "      <th>Main</th>\n",
       "      <td>15445</td>\n",
       "      <td>14Aug2020</td>\n",
       "      <td>1719</td>\n",
       "      <td>1869</td>\n",
       "      <td>-</td>\n",
       "    </tr>\n",
       "    <tr>\n",
       "      <th>Medicine</th>\n",
       "      <td>15445</td>\n",
       "      <td>14Aug2020</td>\n",
       "      <td>8</td>\n",
       "      <td>1749</td>\n",
       "      <td>0.44</td>\n",
       "    </tr>\n",
       "  </tbody>\n",
       "</table>\n",
       "</div>"
      ],
      "text/plain": [
       "          max(Infected) argmax(Infected)  Infected on 02Jan2021  \\\n",
       "Main              15445        14Aug2020                   1719   \n",
       "Medicine          15445        14Aug2020                      8   \n",
       "\n",
       "          Fatal on 02Jan2021 10th_Rt  \n",
       "Main                    1869       -  \n",
       "Medicine                1749    0.44  "
      ]
     },
     "execution_count": 42,
     "metadata": {},
     "output_type": "execute_result"
    }
   ],
   "source": [
    "scenario.describe()"
   ]
  },
  {
   "cell_type": "code",
   "execution_count": 43,
   "metadata": {
    "collapsed": false
   },
   "outputs": [
    {
     "data": {
      "image/png": "[encoded data removed]",
      "text/plain": [
       "<Figure size 648x432 with 1 Axes>"
      ]
     },
     "metadata": {},
     "output_type": "display_data"
    }
   ],
   "source": [
    "# version >= 2.8.0\n",
    "_ = scenario.history(target=\"Rt\")"
   ]
  },
  {
   "cell_type": "code",
   "execution_count": 44,
   "metadata": {
    "collapsed": false
   },
   "outputs": [
    {
     "data": {
      "image/png": "[encoded data removed]",
      "text/plain": [
       "<Figure size 648x432 with 1 Axes>"
      ]
     },
     "metadata": {},
     "output_type": "display_data"
    }
   ],
   "source": [
    "# version >= 2.8.0\n",
    "_ = scenario.history(target=\"rho\")"
   ]
  },
  {
   "cell_type": "code",
   "execution_count": 45,
   "metadata": {
    "collapsed": false
   },
   "outputs": [
    {
     "data": {
      "image/png": "[encoded data removed]",
      "text/plain": [
       "<Figure size 648x432 with 1 Axes>"
      ]
     },
     "metadata": {},
     "output_type": "display_data"
    }
   ],
   "source": [
    "# version >= 2.8.0\n",
    "_ = scenario.history(target=\"sigma\")"
   ]
  },
  {
   "cell_type": "code",
   "execution_count": 46,
   "metadata": {
    "collapsed": false
   },
   "outputs": [
    {
     "data": {
      "image/png": "[encoded data removed]",
      "text/plain": [
       "<Figure size 648x432 with 1 Axes>"
      ]
     },
     "metadata": {},
     "output_type": "display_data"
    }
   ],
   "source": [
    "# version >= 2.8.0\n",
    "_ = scenario.history(target=\"Infected\")"
   ]
  }
 ],
 "metadata": {
  "kernelspec": {
   "display_name": "Python 3.8.2 64-bit ('covid19-sir': pipenv)",
   "name": "python_defaultSpec_1597313350107"
  },
  "language_info": {
   "codemirror_mode": {
    "name": "ipython",
    "version": 3
   },
   "file_extension": ".py",
   "mimetype": "text/x-python",
   "name": "python",
   "nbconvert_exporter": "python",
   "pygments_lexer": "ipython3",
   "version": 3
  }
 },
 "nbformat": 4,
 "nbformat_minor": 4
}
