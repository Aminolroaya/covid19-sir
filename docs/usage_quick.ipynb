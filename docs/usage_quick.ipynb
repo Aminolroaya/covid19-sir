{
 "cells": [
  {
   "cell_type": "markdown",
   "metadata": {},
   "source": [
    "# Usage (quick version)"
   ]
  },
  {
   "cell_type": "markdown",
   "metadata": {},
   "source": [
    "## Preparation"
   ]
  },
  {
   "cell_type": "code",
   "execution_count": 1,
   "metadata": {
    "collapsed": false
   },
   "outputs": [],
   "source": [
    "# Standard users\n",
    "# !pip install covsirphy\n",
    "# Developers (Note: this notebook is in example directory)\n",
    "import os\n",
    "os.chdir(\"../\")"
   ]
  },
  {
   "cell_type": "code",
   "execution_count": 2,
   "metadata": {
    "collapsed": false
   },
   "outputs": [],
   "source": [
    "import warnings"
   ]
  },
  {
   "cell_type": "code",
   "execution_count": 3,
   "metadata": {
    "collapsed": false,
    "tags": []
   },
   "outputs": [
    {
     "data": {
      "text/plain": [
       "'2.8.3'"
      ]
     },
     "execution_count": 3,
     "metadata": {},
     "output_type": "execute_result"
    }
   ],
   "source": [
    "import covsirphy as cs\n",
    "cs.__version__"
   ]
  },
  {
   "cell_type": "markdown",
   "metadata": {},
   "source": [
    "## Dataset preparation\n",
    "Download the datasets to \"input\" direcotry and load them.\n",
    "\n",
    "If \"input\" directory has the datasets, `DataLoader` will load the local files. If the datasets were updated in remote servers, `DataLoader` will update the local files automatically.\n",
    "Download the datasets to \"input\" direcotry and load them.\n",
    "\n",
    "If \"input\" directory has the datasets, `DataLoader` will load the local files. If the datasets were updated in remote servers, `DataLoader` will update the local files automatically."
   ]
  },
  {
   "cell_type": "code",
   "execution_count": 4,
   "metadata": {
    "collapsed": false,
    "tags": []
   },
   "outputs": [
    {
     "name": "stdout",
     "output_type": "stream",
     "text": [
      "Retrieving datasets from COVID-19 Data Hub: https://covid19datahub.io/"
     ]
    },
    {
     "name": "stdout",
     "output_type": "stream",
     "text": [
      "\n"
     ]
    },
    {
     "name": "stdout",
     "output_type": "stream",
     "text": [
      "\n",
      "Detailed citaition list:"
     ]
    },
    {
     "name": "stdout",
     "output_type": "stream",
     "text": [
      "\n"
     ]
    },
    {
     "name": "stdout",
     "output_type": "stream",
     "text": [
      "Open Government Data, United Kingdom (2020), https://coronavirus.data.gov.uk\n",
      "Department of Disease Control of Thailand (2020), https://covid19.th-stat.com/\n",
      "World Health Organization (2020), https://covid19.who.int\n",
      "Ireland Health Protection Surveillance Centre (HPSC) and Health Service Executive (HSE) (2020), https://covid19ireland-geohive.hub.arcgis.com/\n",
      "The COVID Tracking Project (2020), https://covidtracking.com\n",
      "Ministry of Health of Croatia (2020), https://data.gov.hr/dataset/koronavirus/resource/08fab529-ebba-46c7-be79-05782ddb02ef\n",
      "Open Government Data, Latvia (2020), https://data.gov.lv/dati/dataset\n",
      "Taiwan Ministry of Health and Welfare (2020), https://data.gov.tw/dataset/120451\n",
      "Wikipedia (2020), https://en.wikipedia.org/wiki\n",
      "Epistat, Belgian Infectious Diseases (2020), https://epistat.sciensano.be\n",
      "Johns Hopkins Center for Systems Science and Engineering (2020), https://github.com/CSSEGISandData/COVID-19\n",
      "Covid19data.com.au (2020), https://github.com/M3IT/COVID-19_Data\n",
      "Data Science for Social Impact research group, University of Pretoria (2020), https://github.com/dsfsi/covid19za\n",
      "Data on the COVID-19 pandemic in Portugal (2020), https://github.com/dssg-pt/covid19pt-data\n",
      "COVID-19_plus_Russia GitHub repository (2020), https://github.com/grwlf/COVID-19_plus_Russia\n",
      "COVID-19 Peru Data Repository (2020), https://github.com/jmcastagnetto/covid-19-peru-data\n",
      "Twitter Web Scraper for Polish Ministery of Health (2020), https://github.com/martinbenes1996/covid19poland\n",
      "The New York Times (2020), https://github.com/nytimes/covid-19-data\n",
      "Open Government Data, Liechtenstein (2020), https://github.com/openZH/covid_19\n",
      "Open Government Data, Switzerland (2020), https://github.com/openZH/covid_19\n",
      "OpenCOVID19 France (2020), https://github.com/opencovid19-fr/data\n",
      "Our World in Data (2020), https://github.com/owid/covid-19-data\n",
      "COVID-19 Turkey API (2020), https://github.com/ozanerturk/covid19-turkey-api\n",
      "Ministero della Salute, Italia (2020), https://github.com/pcm-dpc/COVID-19\n",
      "Japan COVID-19 Bulletin Board (2020), https://github.com/swsoyee/2019-ncov-japan\n",
      "Public Health Infobase, Government of Canada (2020), https://health-infobase.canada.ca\n",
      "Open Government Data, Austria (2020), https://info.gesundheitsministerium.at/\n",
      "Robert Koch-Institut (2020), https://npgeo-corona-npgeo-de.hub.arcgis.com/datasets/dd4580c810204019a7b8eb3e0b329dd6_0\n",
      "Ministery of Health of Czech Republic (2020), https://onemocneni-aktualne.mzcr.cz/covid-19\n",
      "Public Health Agency, Sweden (2020), https://oppnadata.se/datamangd/#esc_entry=1424&esc_context=525\n",
      "Ministry of Public Health and Population of Haiti (2020), https://proxy.hxlstandard.org/data/738954\n",
      "CIA - Central Intelligence Agency (2020), https://www.cia.gov/library/publications/the-world-factbook/geos/aq.html\n",
      "COVID19-India API (2020), https://www.covid19india.org/\n",
      "Ministerio de Salud y ProtecciÃ³n Social de Colombia (2020), https://www.datos.gov.co\n",
      "Ministery of Health, Slovenia (2020), https://www.gov.si/en/topics/coronavirus-disease-covid-19/\n",
      "Ministerio de Ciencia, TecnologÃ­a, Conocimiento e InnovaciÃ³n (2020), https://www.minciencia.gob.cl/COVID19\n",
      "Ministerio de Sanidad, Consumo y Bienestar Social (2020), https://www.mscbs.gob.es/\n",
      "Canada's National Statistical Agency (2020), https://www150.statcan.gc.ca/t1/tbl1/en/tv.action?pid=1710000901\n",
      "Oxford COVID-19 Government Response Tracker (2020), www.bsg.ox.ac.uk/covidtracker\n",
      "Eurostat (2019), https://ec.europa.eu/eurostat\n",
      "Geloky (2019), https://geloky.com/geocoding/place/Valka+Latvia\n",
      "GADM (2019), https://public.opendatasoft.com/explore/dataset/landkreise-in-germany/table/\n",
      "Statbel, Belgium in Figures (2019), https://statbel.fgov.be/en/themes/population/structure-population\n",
      "Australian Bureau of Statistics (2019), https://www.abs.gov.au/AUSSTATS/abs@.nsf/DetailsPage/3101.0Sep%202019?OpenDocument\n",
      "National Bureau of Statistics of China NBS (2018), http://data.stats.gov.cn/english/easyquery.htm?cn=E0103\n",
      "World Bank Open Data (2018), https://data.worldbank.org/indicator/SP.POP.TOTL\n",
      "Swiss Federal Statistical Office (2018), https://www.bfs.admin.ch/bfs/en/home/statistics/regional-statistics/regional-portraits-key-figures/cantons/data-explanations.html\n",
      "Czech Statistical Office (2018), https://www.czso.cz/csu/czso/demograficka-rocenka-kraju-2009-az-2018\n",
      "Istituto Nazionale di Statistica, Italia (2018), https://www.istat.it/en/population-and-households?data-and-indicators\n",
      "Worldometer (2018), https://www.worldometers.info/world-population/channel-islands-population/\n",
      "City populations worldwide (2016), http://population.city/taiwan/adm/"
     ]
    },
    {
     "name": "stdout",
     "output_type": "stream",
     "text": [
      "\n"
     ]
    },
    {
     "name": "stdout",
     "output_type": "stream",
     "text": [
      "\n",
      "\n"
     ]
    },
    {
     "name": "stdout",
     "output_type": "stream",
     "text": [
      "\n"
     ]
    }
   ],
   "source": [
    "data_loader = cs.DataLoader(\"input\")\n",
    "# The number of cases (JHU style)\n",
    "jhu_data = data_loader.jhu(verbose=True)\n",
    "# Population in each country\n",
    "population_data = data_loader.population(verbose=True)\n",
    "# Government Response Tracker (OxCGRT)\n",
    "oxcgrt_data = data_loader.oxcgrt(verbose=True)"
   ]
  },
  {
   "cell_type": "markdown",
   "metadata": {},
   "source": [
    "### The number of cases (JHU style)"
   ]
  },
  {
   "cell_type": "code",
   "execution_count": 5,
   "metadata": {
    "collapsed": false,
    "tags": []
   },
   "outputs": [
    {
     "name": "stdout",
     "output_type": "stream",
     "text": [
      "(Secondary source) Guidotti, E., Ardia, D., (2020), \"COVID-19 Data Hub\", Journal of Open Source Software 5(51):2376, doi: 10.21105/joss.02376.\n",
      "We can get Citation list of primary sources with DataLoader(...).covid19dh_citation"
     ]
    },
    {
     "name": "stdout",
     "output_type": "stream",
     "text": [
      "\n"
     ]
    }
   ],
   "source": [
    "# Description/citation\n",
    "print(jhu_data.citation)"
   ]
  },
  {
   "cell_type": "code",
   "execution_count": 6,
   "metadata": {
    "collapsed": false,
    "tags": []
   },
   "outputs": [
    {
     "name": "stdout",
     "output_type": "stream",
     "text": [
      "Open Government Data, United Kingdom (2020), https://coronavirus.data.gov.uk\n",
      "Department of Disease Control of Thailand (2020), https://covid19.th-stat.com/\n",
      "World Health Organization (2020), https://covid19.who.int\n",
      "Ireland Health Protection Surveillance Centre (HPSC) and Health Service Executive (HSE) (2020), https://covid19ireland-geohive.hub.arcgis.com/\n",
      "The COVID Tracking Project (2020), https://covidtracking.com\n",
      "Ministry of Health of Croatia (2020), https://data.gov.hr/dataset/koronavirus/resource/08fab529-ebba-46c7-be79-05782ddb02ef\n",
      "Open Government Data, Latvia (2020), https://data.gov.lv/dati/dataset\n",
      "Taiwan Ministry of Health and Welfare (2020), https://data.gov.tw/dataset/120451\n",
      "Wikipedia (2020), https://en.wikipedia.org/wiki\n",
      "Epistat, Belgian Infectious Diseases (2020), https://epistat.sciensano.be\n",
      "Johns Hopkins Center for Systems Science and Engineering (2020), https://github.com/CSSEGISandData/COVID-19\n",
      "Covid19data.com.au (2020), https://github.com/M3IT/COVID-19_Data\n",
      "Data Science for Social Impact research group, University of Pretoria (2020), https://github.com/dsfsi/covid19za\n",
      "Data on the COVID-19 pandemic in Portugal (2020), https://github.com/dssg-pt/covid19pt-data\n",
      "COVID-19_plus_Russia GitHub repository (2020), https://github.com/grwlf/COVID-19_plus_Russia\n",
      "COVID-19 Peru Data Repository (2020), https://github.com/jmcastagnetto/covid-19-peru-data\n",
      "Twitter Web Scraper for Polish Ministery of Health (2020), https://github.com/martinbenes1996/covid19poland\n",
      "The New York Times (2020), https://github.com/nytimes/covid-19-data\n",
      "Open Government Data, Liechtenstein (2020), https://github.com/openZH/covid_19\n",
      "Open Government Data, Switzerland (2020), https://github.com/openZH/covid_19\n",
      "OpenCOVID19 France (2020), https://github.com/opencovid19-fr/data\n",
      "Our World in Data (2020), https://github.com/owid/covid-19-data\n",
      "COVID-19 Turkey API (2020), https://github.com/ozanerturk/covid19-turkey-api\n",
      "Ministero della Salute, Italia (2020), https://github.com/pcm-dpc/COVID-19\n",
      "Japan COVID-19 Bulletin Board (2020), https://github.com/swsoyee/2019-ncov-japan\n",
      "Public Health Infobase, Government of Canada (2020), https://health-infobase.canada.ca\n",
      "Open Government Data, Austria (2020), https://info.gesundheitsministerium.at/\n",
      "Robert Koch-Institut (2020), https://npgeo-corona-npgeo-de.hub.arcgis.com/datasets/dd4580c810204019a7b8eb3e0b329dd6_0\n",
      "Ministery of Health of Czech Republic (2020), https://onemocneni-aktualne.mzcr.cz/covid-19\n",
      "Public Health Agency, Sweden (2020), https://oppnadata.se/datamangd/#esc_entry=1424&esc_context=525\n",
      "Ministry of Public Health and Population of Haiti (2020), https://proxy.hxlstandard.org/data/738954\n",
      "CIA - Central Intelligence Agency (2020), https://www.cia.gov/library/publications/the-world-factbook/geos/aq.html\n",
      "COVID19-India API (2020), https://www.covid19india.org/\n",
      "Ministerio de Salud y ProtecciÃ³n Social de Colombia (2020), https://www.datos.gov.co\n",
      "Ministery of Health, Slovenia (2020), https://www.gov.si/en/topics/coronavirus-disease-covid-19/\n",
      "Ministerio de Ciencia, TecnologÃ­a, Conocimiento e InnovaciÃ³n (2020), https://www.minciencia.gob.cl/COVID19\n",
      "Ministerio de Sanidad, Consumo y Bienestar Social (2020), https://www.mscbs.gob.es/\n",
      "Canada's National Statistical Agency (2020), https://www150.statcan.gc.ca/t1/tbl1/en/tv.action?pid=1710000901\n",
      "Oxford COVID-19 Government Response Tracker (2020), www.bsg.ox.ac.uk/covidtracker\n",
      "Eurostat (2019), https://ec.europa.eu/eurostat\n",
      "Geloky (2019), https://geloky.com/geocoding/place/Valka+Latvia\n",
      "GADM (2019), https://public.opendatasoft.com/explore/dataset/landkreise-in-germany/table/\n",
      "Statbel, Belgium in Figures (2019), https://statbel.fgov.be/en/themes/population/structure-population\n",
      "Australian Bureau of Statistics (2019), https://www.abs.gov.au/AUSSTATS/abs@.nsf/DetailsPage/3101.0Sep%202019?OpenDocument\n",
      "National Bureau of Statistics of China NBS (2018), http://data.stats.gov.cn/english/easyquery.htm?cn=E0103\n",
      "World Bank Open Data (2018), https://data.worldbank.org/indicator/SP.POP.TOTL\n",
      "Swiss Federal Statistical Office (2018), https://www.bfs.admin.ch/bfs/en/home/statistics/regional-statistics/regional-portraits-key-figures/cantons/data-explanations.html\n",
      "Czech Statistical Office (2018), https://www.czso.cz/csu/czso/demograficka-rocenka-kraju-2009-az-2018\n",
      "Istituto Nazionale di Statistica, Italia (2018), https://www.istat.it/en/population-and-households?data-and-indicators\n",
      "Worldometer (2018), https://www.worldometers.info/world-population/channel-islands-population/\n",
      "City populations worldwide (2016), http://population.city/taiwan/adm/"
     ]
    },
    {
     "name": "stdout",
     "output_type": "stream",
     "text": [
      "\n"
     ]
    }
   ],
   "source": [
    "print(data_loader.covid19dh_citation)"
   ]
  },
  {
   "cell_type": "code",
   "execution_count": 7,
   "metadata": {
    "collapsed": false
   },
   "outputs": [
    {
     "data": {
      "text/html": [
       "<div>\n",
       "<style scoped>\n",
       "    .dataframe tbody tr th:only-of-type {\n",
       "        vertical-align: middle;\n",
       "    }\n",
       "\n",
       "    .dataframe tbody tr th {\n",
       "        vertical-align: top;\n",
       "    }\n",
       "\n",
       "    .dataframe thead th {\n",
       "        text-align: right;\n",
       "    }\n",
       "</style>\n",
       "<table border=\"1\" class=\"dataframe\">\n",
       "  <thead>\n",
       "    <tr style=\"text-align: right;\">\n",
       "      <th></th>\n",
       "      <th>ObservationDate</th>\n",
       "      <th>Confirmed</th>\n",
       "      <th>Recovered</th>\n",
       "      <th>Deaths</th>\n",
       "      <th>Population</th>\n",
       "      <th>ISO3</th>\n",
       "      <th>Province/State</th>\n",
       "      <th>Country/Region</th>\n",
       "      <th>school_closing</th>\n",
       "      <th>workplace_closing</th>\n",
       "      <th>cancel_events</th>\n",
       "      <th>gatherings_restrictions</th>\n",
       "      <th>transport_closing</th>\n",
       "      <th>stay_home_restrictions</th>\n",
       "      <th>internal_movement_restrictions</th>\n",
       "      <th>international_movement_restrictions</th>\n",
       "      <th>information_campaigns</th>\n",
       "      <th>testing_policy</th>\n",
       "      <th>contact_tracing</th>\n",
       "      <th>stringency_index</th>\n",
       "    </tr>\n",
       "  </thead>\n",
       "  <tbody>\n",
       "    <tr>\n",
       "      <th>270596</th>\n",
       "      <td>2020-09-28</td>\n",
       "      <td>14.0</td>\n",
       "      <td>14</td>\n",
       "      <td>0</td>\n",
       "      <td>107808.0</td>\n",
       "      <td>COL</td>\n",
       "      <td>Vichada</td>\n",
       "      <td>Colombia</td>\n",
       "      <td>3</td>\n",
       "      <td>1</td>\n",
       "      <td>2</td>\n",
       "      <td>3</td>\n",
       "      <td>1</td>\n",
       "      <td>0</td>\n",
       "      <td>0</td>\n",
       "      <td>4</td>\n",
       "      <td>2</td>\n",
       "      <td>2</td>\n",
       "      <td>2</td>\n",
       "      <td>62.04</td>\n",
       "    </tr>\n",
       "    <tr>\n",
       "      <th>270597</th>\n",
       "      <td>2020-09-29</td>\n",
       "      <td>14.0</td>\n",
       "      <td>14</td>\n",
       "      <td>0</td>\n",
       "      <td>107808.0</td>\n",
       "      <td>COL</td>\n",
       "      <td>Vichada</td>\n",
       "      <td>Colombia</td>\n",
       "      <td>3</td>\n",
       "      <td>1</td>\n",
       "      <td>2</td>\n",
       "      <td>3</td>\n",
       "      <td>1</td>\n",
       "      <td>0</td>\n",
       "      <td>0</td>\n",
       "      <td>4</td>\n",
       "      <td>2</td>\n",
       "      <td>2</td>\n",
       "      <td>2</td>\n",
       "      <td>62.04</td>\n",
       "    </tr>\n",
       "    <tr>\n",
       "      <th>270598</th>\n",
       "      <td>2020-09-30</td>\n",
       "      <td>14.0</td>\n",
       "      <td>14</td>\n",
       "      <td>0</td>\n",
       "      <td>107808.0</td>\n",
       "      <td>COL</td>\n",
       "      <td>Vichada</td>\n",
       "      <td>Colombia</td>\n",
       "      <td>3</td>\n",
       "      <td>1</td>\n",
       "      <td>2</td>\n",
       "      <td>3</td>\n",
       "      <td>1</td>\n",
       "      <td>0</td>\n",
       "      <td>0</td>\n",
       "      <td>4</td>\n",
       "      <td>2</td>\n",
       "      <td>2</td>\n",
       "      <td>2</td>\n",
       "      <td>62.04</td>\n",
       "    </tr>\n",
       "    <tr>\n",
       "      <th>270599</th>\n",
       "      <td>2020-10-01</td>\n",
       "      <td>14.0</td>\n",
       "      <td>14</td>\n",
       "      <td>0</td>\n",
       "      <td>107808.0</td>\n",
       "      <td>COL</td>\n",
       "      <td>Vichada</td>\n",
       "      <td>Colombia</td>\n",
       "      <td>3</td>\n",
       "      <td>1</td>\n",
       "      <td>2</td>\n",
       "      <td>3</td>\n",
       "      <td>1</td>\n",
       "      <td>0</td>\n",
       "      <td>0</td>\n",
       "      <td>4</td>\n",
       "      <td>2</td>\n",
       "      <td>2</td>\n",
       "      <td>2</td>\n",
       "      <td>62.04</td>\n",
       "    </tr>\n",
       "    <tr>\n",
       "      <th>270600</th>\n",
       "      <td>2020-10-02</td>\n",
       "      <td>14.0</td>\n",
       "      <td>14</td>\n",
       "      <td>0</td>\n",
       "      <td>107808.0</td>\n",
       "      <td>COL</td>\n",
       "      <td>Vichada</td>\n",
       "      <td>Colombia</td>\n",
       "      <td>3</td>\n",
       "      <td>1</td>\n",
       "      <td>2</td>\n",
       "      <td>3</td>\n",
       "      <td>1</td>\n",
       "      <td>0</td>\n",
       "      <td>0</td>\n",
       "      <td>4</td>\n",
       "      <td>2</td>\n",
       "      <td>2</td>\n",
       "      <td>2</td>\n",
       "      <td>62.04</td>\n",
       "    </tr>\n",
       "  </tbody>\n",
       "</table>\n",
       "</div>"
      ],
      "text/plain": [
       "       ObservationDate  Confirmed  Recovered  Deaths  Population ISO3  \\\n",
       "270596      2020-09-28       14.0         14       0    107808.0  COL   \n",
       "270597      2020-09-29       14.0         14       0    107808.0  COL   \n",
       "270598      2020-09-30       14.0         14       0    107808.0  COL   \n",
       "270599      2020-10-01       14.0         14       0    107808.0  COL   \n",
       "270600      2020-10-02       14.0         14       0    107808.0  COL   \n",
       "\n",
       "       Province/State Country/Region  school_closing  workplace_closing  \\\n",
       "270596        Vichada       Colombia               3                  1   \n",
       "270597        Vichada       Colombia               3                  1   \n",
       "270598        Vichada       Colombia               3                  1   \n",
       "270599        Vichada       Colombia               3                  1   \n",
       "270600        Vichada       Colombia               3                  1   \n",
       "\n",
       "        cancel_events  gatherings_restrictions  transport_closing  \\\n",
       "270596              2                        3                  1   \n",
       "270597              2                        3                  1   \n",
       "270598              2                        3                  1   \n",
       "270599              2                        3                  1   \n",
       "270600              2                        3                  1   \n",
       "\n",
       "        stay_home_restrictions  internal_movement_restrictions  \\\n",
       "270596                       0                               0   \n",
       "270597                       0                               0   \n",
       "270598                       0                               0   \n",
       "270599                       0                               0   \n",
       "270600                       0                               0   \n",
       "\n",
       "        international_movement_restrictions  information_campaigns  \\\n",
       "270596                                    4                      2   \n",
       "270597                                    4                      2   \n",
       "270598                                    4                      2   \n",
       "270599                                    4                      2   \n",
       "270600                                    4                      2   \n",
       "\n",
       "        testing_policy  contact_tracing  stringency_index  \n",
       "270596               2                2             62.04  \n",
       "270597               2                2             62.04  \n",
       "270598               2                2             62.04  \n",
       "270599               2                2             62.04  \n",
       "270600               2                2             62.04  "
      ]
     },
     "execution_count": 7,
     "metadata": {},
     "output_type": "execute_result"
    }
   ],
   "source": [
    "# Raw data\n",
    "jhu_data.raw.tail()"
   ]
  },
  {
   "cell_type": "code",
   "execution_count": 8,
   "metadata": {
    "collapsed": false
   },
   "outputs": [
    {
     "data": {
      "text/html": [
       "<div>\n",
       "<style scoped>\n",
       "    .dataframe tbody tr th:only-of-type {\n",
       "        vertical-align: middle;\n",
       "    }\n",
       "\n",
       "    .dataframe tbody tr th {\n",
       "        vertical-align: top;\n",
       "    }\n",
       "\n",
       "    .dataframe thead th {\n",
       "        text-align: right;\n",
       "    }\n",
       "</style>\n",
       "<table border=\"1\" class=\"dataframe\">\n",
       "  <thead>\n",
       "    <tr style=\"text-align: right;\">\n",
       "      <th></th>\n",
       "      <th>Date</th>\n",
       "      <th>Country</th>\n",
       "      <th>Province</th>\n",
       "      <th>Confirmed</th>\n",
       "      <th>Infected</th>\n",
       "      <th>Fatal</th>\n",
       "      <th>Recovered</th>\n",
       "    </tr>\n",
       "  </thead>\n",
       "  <tbody>\n",
       "    <tr>\n",
       "      <th>270596</th>\n",
       "      <td>2020-09-28</td>\n",
       "      <td>Colombia</td>\n",
       "      <td>Vichada</td>\n",
       "      <td>14</td>\n",
       "      <td>0</td>\n",
       "      <td>0</td>\n",
       "      <td>14</td>\n",
       "    </tr>\n",
       "    <tr>\n",
       "      <th>270597</th>\n",
       "      <td>2020-09-29</td>\n",
       "      <td>Colombia</td>\n",
       "      <td>Vichada</td>\n",
       "      <td>14</td>\n",
       "      <td>0</td>\n",
       "      <td>0</td>\n",
       "      <td>14</td>\n",
       "    </tr>\n",
       "    <tr>\n",
       "      <th>270598</th>\n",
       "      <td>2020-09-30</td>\n",
       "      <td>Colombia</td>\n",
       "      <td>Vichada</td>\n",
       "      <td>14</td>\n",
       "      <td>0</td>\n",
       "      <td>0</td>\n",
       "      <td>14</td>\n",
       "    </tr>\n",
       "    <tr>\n",
       "      <th>270599</th>\n",
       "      <td>2020-10-01</td>\n",
       "      <td>Colombia</td>\n",
       "      <td>Vichada</td>\n",
       "      <td>14</td>\n",
       "      <td>0</td>\n",
       "      <td>0</td>\n",
       "      <td>14</td>\n",
       "    </tr>\n",
       "    <tr>\n",
       "      <th>270600</th>\n",
       "      <td>2020-10-02</td>\n",
       "      <td>Colombia</td>\n",
       "      <td>Vichada</td>\n",
       "      <td>14</td>\n",
       "      <td>0</td>\n",
       "      <td>0</td>\n",
       "      <td>14</td>\n",
       "    </tr>\n",
       "  </tbody>\n",
       "</table>\n",
       "</div>"
      ],
      "text/plain": [
       "             Date   Country Province  Confirmed  Infected  Fatal  Recovered\n",
       "270596 2020-09-28  Colombia  Vichada         14         0      0         14\n",
       "270597 2020-09-29  Colombia  Vichada         14         0      0         14\n",
       "270598 2020-09-30  Colombia  Vichada         14         0      0         14\n",
       "270599 2020-10-01  Colombia  Vichada         14         0      0         14\n",
       "270600 2020-10-02  Colombia  Vichada         14         0      0         14"
      ]
     },
     "execution_count": 8,
     "metadata": {},
     "output_type": "execute_result"
    }
   ],
   "source": [
    "# Cleaned data\n",
    "jhu_data.cleaned().tail()"
   ]
  },
  {
   "cell_type": "code",
   "execution_count": 9,
   "metadata": {
    "collapsed": false
   },
   "outputs": [
    {
     "data": {
      "text/html": [
       "<div>\n",
       "<style scoped>\n",
       "    .dataframe tbody tr th:only-of-type {\n",
       "        vertical-align: middle;\n",
       "    }\n",
       "\n",
       "    .dataframe tbody tr th {\n",
       "        vertical-align: top;\n",
       "    }\n",
       "\n",
       "    .dataframe thead th {\n",
       "        text-align: right;\n",
       "    }\n",
       "</style>\n",
       "<table border=\"1\" class=\"dataframe\">\n",
       "  <thead>\n",
       "    <tr style=\"text-align: right;\">\n",
       "      <th></th>\n",
       "      <th>Date</th>\n",
       "      <th>Confirmed</th>\n",
       "      <th>Infected</th>\n",
       "      <th>Fatal</th>\n",
       "      <th>Recovered</th>\n",
       "    </tr>\n",
       "  </thead>\n",
       "  <tbody>\n",
       "    <tr>\n",
       "      <th>193</th>\n",
       "      <td>2020-09-28</td>\n",
       "      <td>25335</td>\n",
       "      <td>2282</td>\n",
       "      <td>406</td>\n",
       "      <td>22647</td>\n",
       "    </tr>\n",
       "    <tr>\n",
       "      <th>194</th>\n",
       "      <td>2020-09-29</td>\n",
       "      <td>25547</td>\n",
       "      <td>2361</td>\n",
       "      <td>407</td>\n",
       "      <td>22779</td>\n",
       "    </tr>\n",
       "    <tr>\n",
       "      <th>195</th>\n",
       "      <td>2020-09-30</td>\n",
       "      <td>25741</td>\n",
       "      <td>2377</td>\n",
       "      <td>408</td>\n",
       "      <td>22956</td>\n",
       "    </tr>\n",
       "    <tr>\n",
       "      <th>196</th>\n",
       "      <td>2020-10-01</td>\n",
       "      <td>25973</td>\n",
       "      <td>2417</td>\n",
       "      <td>409</td>\n",
       "      <td>23147</td>\n",
       "    </tr>\n",
       "    <tr>\n",
       "      <th>197</th>\n",
       "      <td>2020-10-02</td>\n",
       "      <td>26169</td>\n",
       "      <td>2330</td>\n",
       "      <td>409</td>\n",
       "      <td>23430</td>\n",
       "    </tr>\n",
       "  </tbody>\n",
       "</table>\n",
       "</div>"
      ],
      "text/plain": [
       "          Date  Confirmed  Infected  Fatal  Recovered\n",
       "193 2020-09-28      25335      2282    406      22647\n",
       "194 2020-09-29      25547      2361    407      22779\n",
       "195 2020-09-30      25741      2377    408      22956\n",
       "196 2020-10-01      25973      2417    409      23147\n",
       "197 2020-10-02      26169      2330    409      23430"
      ]
     },
     "execution_count": 9,
     "metadata": {},
     "output_type": "execute_result"
    }
   ],
   "source": [
    "# Subset for a country\n",
    "jhu_data.subset(\"Japan\", province=\"Tokyo\").tail()"
   ]
  },
  {
   "cell_type": "code",
   "execution_count": 10,
   "metadata": {
    "collapsed": false
   },
   "outputs": [
    {
     "data": {
      "text/html": [
       "<div>\n",
       "<style scoped>\n",
       "    .dataframe tbody tr th:only-of-type {\n",
       "        vertical-align: middle;\n",
       "    }\n",
       "\n",
       "    .dataframe tbody tr th {\n",
       "        vertical-align: top;\n",
       "    }\n",
       "\n",
       "    .dataframe thead th {\n",
       "        text-align: right;\n",
       "    }\n",
       "</style>\n",
       "<table border=\"1\" class=\"dataframe\">\n",
       "  <thead>\n",
       "    <tr style=\"text-align: right;\">\n",
       "      <th></th>\n",
       "      <th>Confirmed</th>\n",
       "      <th>Infected</th>\n",
       "      <th>Fatal</th>\n",
       "      <th>Recovered</th>\n",
       "      <th>Fatal per Confirmed</th>\n",
       "      <th>Recovered per Confirmed</th>\n",
       "      <th>Fatal per (Fatal or Recovered)</th>\n",
       "    </tr>\n",
       "    <tr>\n",
       "      <th>Date</th>\n",
       "      <th></th>\n",
       "      <th></th>\n",
       "      <th></th>\n",
       "      <th></th>\n",
       "      <th></th>\n",
       "      <th></th>\n",
       "      <th></th>\n",
       "    </tr>\n",
       "  </thead>\n",
       "  <tbody>\n",
       "    <tr>\n",
       "      <th>2020-09-28</th>\n",
       "      <td>33042681</td>\n",
       "      <td>9213089</td>\n",
       "      <td>996254</td>\n",
       "      <td>22833338</td>\n",
       "      <td>0.015075</td>\n",
       "      <td>0.345513</td>\n",
       "      <td>0.041807</td>\n",
       "    </tr>\n",
       "    <tr>\n",
       "      <th>2020-09-29</th>\n",
       "      <td>33320782</td>\n",
       "      <td>9264532</td>\n",
       "      <td>1002103</td>\n",
       "      <td>23054147</td>\n",
       "      <td>0.015037</td>\n",
       "      <td>0.345942</td>\n",
       "      <td>0.041657</td>\n",
       "    </tr>\n",
       "    <tr>\n",
       "      <th>2020-09-30</th>\n",
       "      <td>33640128</td>\n",
       "      <td>9339087</td>\n",
       "      <td>1008311</td>\n",
       "      <td>23292730</td>\n",
       "      <td>0.014987</td>\n",
       "      <td>0.346205</td>\n",
       "      <td>0.041493</td>\n",
       "    </tr>\n",
       "    <tr>\n",
       "      <th>2020-10-01</th>\n",
       "      <td>33948136</td>\n",
       "      <td>9435961</td>\n",
       "      <td>1016825</td>\n",
       "      <td>23495350</td>\n",
       "      <td>0.014976</td>\n",
       "      <td>0.346048</td>\n",
       "      <td>0.041482</td>\n",
       "    </tr>\n",
       "    <tr>\n",
       "      <th>2020-10-02</th>\n",
       "      <td>33948800</td>\n",
       "      <td>9435227</td>\n",
       "      <td>1016839</td>\n",
       "      <td>23496734</td>\n",
       "      <td>0.014976</td>\n",
       "      <td>0.346061</td>\n",
       "      <td>0.041481</td>\n",
       "    </tr>\n",
       "  </tbody>\n",
       "</table>\n",
       "</div>"
      ],
      "text/plain": [
       "            Confirmed  Infected    Fatal  Recovered  Fatal per Confirmed  \\\n",
       "Date                                                                       \n",
       "2020-09-28   33042681   9213089   996254   22833338             0.015075   \n",
       "2020-09-29   33320782   9264532  1002103   23054147             0.015037   \n",
       "2020-09-30   33640128   9339087  1008311   23292730             0.014987   \n",
       "2020-10-01   33948136   9435961  1016825   23495350             0.014976   \n",
       "2020-10-02   33948800   9435227  1016839   23496734             0.014976   \n",
       "\n",
       "            Recovered per Confirmed  Fatal per (Fatal or Recovered)  \n",
       "Date                                                                 \n",
       "2020-09-28                 0.345513                        0.041807  \n",
       "2020-09-29                 0.345942                        0.041657  \n",
       "2020-09-30                 0.346205                        0.041493  \n",
       "2020-10-01                 0.346048                        0.041482  \n",
       "2020-10-02                 0.346061                        0.041481  "
      ]
     },
     "execution_count": 10,
     "metadata": {},
     "output_type": "execute_result"
    }
   ],
   "source": [
    "# Total\n",
    "total_df = jhu_data.total()\n",
    "total_df.tail()"
   ]
  },
  {
   "cell_type": "code",
   "execution_count": 11,
   "metadata": {
    "collapsed": false
   },
   "outputs": [
    {
     "data": {
      "image/png": "[encoded data removed]",
      "text/plain": [
       "<Figure size 648x432 with 1 Axes>"
      ]
     },
     "metadata": {},
     "output_type": "display_data"
    }
   ],
   "source": [
    "# Plot the total values\n",
    "cs.line_plot(total_df[[\"Infected\", \"Fatal\", \"Recovered\"]], \"Total number of cases over time\")"
   ]
  },
  {
   "cell_type": "markdown",
   "metadata": {},
   "source": [
    "### (Optional) Replace the dataset in Japan\n"
   ]
  },
  {
   "cell_type": "code",
   "execution_count": 12,
   "metadata": {
    "collapsed": false
   },
   "outputs": [
    {
     "data": {
      "text/html": [
       "<div>\n",
       "<style scoped>\n",
       "    .dataframe tbody tr th:only-of-type {\n",
       "        vertical-align: middle;\n",
       "    }\n",
       "\n",
       "    .dataframe tbody tr th {\n",
       "        vertical-align: top;\n",
       "    }\n",
       "\n",
       "    .dataframe thead th {\n",
       "        text-align: right;\n",
       "    }\n",
       "</style>\n",
       "<table border=\"1\" class=\"dataframe\">\n",
       "  <thead>\n",
       "    <tr style=\"text-align: right;\">\n",
       "      <th></th>\n",
       "      <th>Date</th>\n",
       "      <th>Confirmed</th>\n",
       "      <th>Infected</th>\n",
       "      <th>Fatal</th>\n",
       "      <th>Recovered</th>\n",
       "    </tr>\n",
       "  </thead>\n",
       "  <tbody>\n",
       "    <tr>\n",
       "      <th>232</th>\n",
       "      <td>2020-09-28</td>\n",
       "      <td>82499</td>\n",
       "      <td>5969</td>\n",
       "      <td>1560</td>\n",
       "      <td>74970</td>\n",
       "    </tr>\n",
       "    <tr>\n",
       "      <th>233</th>\n",
       "      <td>2020-09-29</td>\n",
       "      <td>83027</td>\n",
       "      <td>6022</td>\n",
       "      <td>1567</td>\n",
       "      <td>75438</td>\n",
       "    </tr>\n",
       "    <tr>\n",
       "      <th>234</th>\n",
       "      <td>2020-09-30</td>\n",
       "      <td>83604</td>\n",
       "      <td>6032</td>\n",
       "      <td>1574</td>\n",
       "      <td>75998</td>\n",
       "    </tr>\n",
       "    <tr>\n",
       "      <th>235</th>\n",
       "      <td>2020-10-01</td>\n",
       "      <td>84236</td>\n",
       "      <td>6087</td>\n",
       "      <td>1582</td>\n",
       "      <td>76567</td>\n",
       "    </tr>\n",
       "    <tr>\n",
       "      <th>236</th>\n",
       "      <td>2020-10-02</td>\n",
       "      <td>84778</td>\n",
       "      <td>5989</td>\n",
       "      <td>1593</td>\n",
       "      <td>77196</td>\n",
       "    </tr>\n",
       "  </tbody>\n",
       "</table>\n",
       "</div>"
      ],
      "text/plain": [
       "          Date  Confirmed  Infected  Fatal  Recovered\n",
       "232 2020-09-28      82499      5969   1560      74970\n",
       "233 2020-09-29      83027      6022   1567      75438\n",
       "234 2020-09-30      83604      6032   1574      75998\n",
       "235 2020-10-01      84236      6087   1582      76567\n",
       "236 2020-10-02      84778      5989   1593      77196"
      ]
     },
     "execution_count": 12,
     "metadata": {},
     "output_type": "execute_result"
    }
   ],
   "source": [
    "jhu_data.subset(\"Japan\").tail()"
   ]
  },
  {
   "cell_type": "code",
   "execution_count": 13,
   "metadata": {
    "collapsed": false,
    "tags": []
   },
   "outputs": [
    {
     "name": "stdout",
     "output_type": "stream",
     "text": [
      "Lisphilar (2020), COVID-19 dataset in Japan, GitHub repository, https://github.com/lisphilar/covid19-sir/data/japan"
     ]
    },
    {
     "name": "stdout",
     "output_type": "stream",
     "text": [
      "\n"
     ]
    }
   ],
   "source": [
    "japan_data = data_loader.japan()\n",
    "print(japan_data.citation)"
   ]
  },
  {
   "cell_type": "code",
   "execution_count": 14,
   "metadata": {
    "collapsed": false
   },
   "outputs": [
    {
     "data": {
      "text/html": [
       "<div>\n",
       "<style scoped>\n",
       "    .dataframe tbody tr th:only-of-type {\n",
       "        vertical-align: middle;\n",
       "    }\n",
       "\n",
       "    .dataframe tbody tr th {\n",
       "        vertical-align: top;\n",
       "    }\n",
       "\n",
       "    .dataframe thead th {\n",
       "        text-align: right;\n",
       "    }\n",
       "</style>\n",
       "<table border=\"1\" class=\"dataframe\">\n",
       "  <thead>\n",
       "    <tr style=\"text-align: right;\">\n",
       "      <th></th>\n",
       "      <th>Date</th>\n",
       "      <th>Confirmed</th>\n",
       "      <th>Infected</th>\n",
       "      <th>Fatal</th>\n",
       "      <th>Recovered</th>\n",
       "    </tr>\n",
       "  </thead>\n",
       "  <tbody>\n",
       "    <tr>\n",
       "      <th>230</th>\n",
       "      <td>2020-09-28</td>\n",
       "      <td>82131</td>\n",
       "      <td>5593</td>\n",
       "      <td>1548</td>\n",
       "      <td>74990</td>\n",
       "    </tr>\n",
       "    <tr>\n",
       "      <th>231</th>\n",
       "      <td>2020-09-29</td>\n",
       "      <td>82494</td>\n",
       "      <td>5478</td>\n",
       "      <td>1557</td>\n",
       "      <td>75459</td>\n",
       "    </tr>\n",
       "    <tr>\n",
       "      <th>232</th>\n",
       "      <td>2020-09-30</td>\n",
       "      <td>83010</td>\n",
       "      <td>5421</td>\n",
       "      <td>1564</td>\n",
       "      <td>76025</td>\n",
       "    </tr>\n",
       "    <tr>\n",
       "      <th>233</th>\n",
       "      <td>2020-10-01</td>\n",
       "      <td>83563</td>\n",
       "      <td>5402</td>\n",
       "      <td>1571</td>\n",
       "      <td>76590</td>\n",
       "    </tr>\n",
       "    <tr>\n",
       "      <th>234</th>\n",
       "      <td>2020-10-02</td>\n",
       "      <td>84215</td>\n",
       "      <td>5418</td>\n",
       "      <td>1578</td>\n",
       "      <td>77219</td>\n",
       "    </tr>\n",
       "  </tbody>\n",
       "</table>\n",
       "</div>"
      ],
      "text/plain": [
       "          Date  Confirmed  Infected  Fatal  Recovered\n",
       "230 2020-09-28      82131      5593   1548      74990\n",
       "231 2020-09-29      82494      5478   1557      75459\n",
       "232 2020-09-30      83010      5421   1564      76025\n",
       "233 2020-10-01      83563      5402   1571      76590\n",
       "234 2020-10-02      84215      5418   1578      77219"
      ]
     },
     "execution_count": 14,
     "metadata": {},
     "output_type": "execute_result"
    }
   ],
   "source": [
    "jhu_data.replace(japan_data)\n",
    "jhu_data.subset(\"Japan\").tail()"
   ]
  },
  {
   "cell_type": "markdown",
   "metadata": {},
   "source": [
    "### Population in each country"
   ]
  },
  {
   "cell_type": "code",
   "execution_count": 15,
   "metadata": {
    "collapsed": false,
    "tags": []
   },
   "outputs": [
    {
     "name": "stdout",
     "output_type": "stream",
     "text": [
      "(Secondary source) Guidotti, E., Ardia, D., (2020), \"COVID-19 Data Hub\", Journal of Open Source Software 5(51):2376, doi: 10.21105/joss.02376.\n",
      "We can get Citation list of primary sources with DataLoader(...).covid19dh_citation"
     ]
    },
    {
     "name": "stdout",
     "output_type": "stream",
     "text": [
      "\n"
     ]
    }
   ],
   "source": [
    "# Description/citation\n",
    "print(population_data.citation)"
   ]
  },
  {
   "cell_type": "code",
   "execution_count": 16,
   "metadata": {
    "collapsed": false
   },
   "outputs": [
    {
     "data": {
      "text/html": [
       "<div>\n",
       "<style scoped>\n",
       "    .dataframe tbody tr th:only-of-type {\n",
       "        vertical-align: middle;\n",
       "    }\n",
       "\n",
       "    .dataframe tbody tr th {\n",
       "        vertical-align: top;\n",
       "    }\n",
       "\n",
       "    .dataframe thead th {\n",
       "        text-align: right;\n",
       "    }\n",
       "</style>\n",
       "<table border=\"1\" class=\"dataframe\">\n",
       "  <thead>\n",
       "    <tr style=\"text-align: right;\">\n",
       "      <th></th>\n",
       "      <th>ObservationDate</th>\n",
       "      <th>Confirmed</th>\n",
       "      <th>Recovered</th>\n",
       "      <th>Deaths</th>\n",
       "      <th>Population</th>\n",
       "      <th>ISO3</th>\n",
       "      <th>Province/State</th>\n",
       "      <th>Country/Region</th>\n",
       "      <th>school_closing</th>\n",
       "      <th>workplace_closing</th>\n",
       "      <th>cancel_events</th>\n",
       "      <th>gatherings_restrictions</th>\n",
       "      <th>transport_closing</th>\n",
       "      <th>stay_home_restrictions</th>\n",
       "      <th>internal_movement_restrictions</th>\n",
       "      <th>international_movement_restrictions</th>\n",
       "      <th>information_campaigns</th>\n",
       "      <th>testing_policy</th>\n",
       "      <th>contact_tracing</th>\n",
       "      <th>stringency_index</th>\n",
       "    </tr>\n",
       "  </thead>\n",
       "  <tbody>\n",
       "    <tr>\n",
       "      <th>270596</th>\n",
       "      <td>2020-09-28</td>\n",
       "      <td>14.0</td>\n",
       "      <td>14</td>\n",
       "      <td>0</td>\n",
       "      <td>107808.0</td>\n",
       "      <td>COL</td>\n",
       "      <td>Vichada</td>\n",
       "      <td>Colombia</td>\n",
       "      <td>3</td>\n",
       "      <td>1</td>\n",
       "      <td>2</td>\n",
       "      <td>3</td>\n",
       "      <td>1</td>\n",
       "      <td>0</td>\n",
       "      <td>0</td>\n",
       "      <td>4</td>\n",
       "      <td>2</td>\n",
       "      <td>2</td>\n",
       "      <td>2</td>\n",
       "      <td>62.04</td>\n",
       "    </tr>\n",
       "    <tr>\n",
       "      <th>270597</th>\n",
       "      <td>2020-09-29</td>\n",
       "      <td>14.0</td>\n",
       "      <td>14</td>\n",
       "      <td>0</td>\n",
       "      <td>107808.0</td>\n",
       "      <td>COL</td>\n",
       "      <td>Vichada</td>\n",
       "      <td>Colombia</td>\n",
       "      <td>3</td>\n",
       "      <td>1</td>\n",
       "      <td>2</td>\n",
       "      <td>3</td>\n",
       "      <td>1</td>\n",
       "      <td>0</td>\n",
       "      <td>0</td>\n",
       "      <td>4</td>\n",
       "      <td>2</td>\n",
       "      <td>2</td>\n",
       "      <td>2</td>\n",
       "      <td>62.04</td>\n",
       "    </tr>\n",
       "    <tr>\n",
       "      <th>270598</th>\n",
       "      <td>2020-09-30</td>\n",
       "      <td>14.0</td>\n",
       "      <td>14</td>\n",
       "      <td>0</td>\n",
       "      <td>107808.0</td>\n",
       "      <td>COL</td>\n",
       "      <td>Vichada</td>\n",
       "      <td>Colombia</td>\n",
       "      <td>3</td>\n",
       "      <td>1</td>\n",
       "      <td>2</td>\n",
       "      <td>3</td>\n",
       "      <td>1</td>\n",
       "      <td>0</td>\n",
       "      <td>0</td>\n",
       "      <td>4</td>\n",
       "      <td>2</td>\n",
       "      <td>2</td>\n",
       "      <td>2</td>\n",
       "      <td>62.04</td>\n",
       "    </tr>\n",
       "    <tr>\n",
       "      <th>270599</th>\n",
       "      <td>2020-10-01</td>\n",
       "      <td>14.0</td>\n",
       "      <td>14</td>\n",
       "      <td>0</td>\n",
       "      <td>107808.0</td>\n",
       "      <td>COL</td>\n",
       "      <td>Vichada</td>\n",
       "      <td>Colombia</td>\n",
       "      <td>3</td>\n",
       "      <td>1</td>\n",
       "      <td>2</td>\n",
       "      <td>3</td>\n",
       "      <td>1</td>\n",
       "      <td>0</td>\n",
       "      <td>0</td>\n",
       "      <td>4</td>\n",
       "      <td>2</td>\n",
       "      <td>2</td>\n",
       "      <td>2</td>\n",
       "      <td>62.04</td>\n",
       "    </tr>\n",
       "    <tr>\n",
       "      <th>270600</th>\n",
       "      <td>2020-10-02</td>\n",
       "      <td>14.0</td>\n",
       "      <td>14</td>\n",
       "      <td>0</td>\n",
       "      <td>107808.0</td>\n",
       "      <td>COL</td>\n",
       "      <td>Vichada</td>\n",
       "      <td>Colombia</td>\n",
       "      <td>3</td>\n",
       "      <td>1</td>\n",
       "      <td>2</td>\n",
       "      <td>3</td>\n",
       "      <td>1</td>\n",
       "      <td>0</td>\n",
       "      <td>0</td>\n",
       "      <td>4</td>\n",
       "      <td>2</td>\n",
       "      <td>2</td>\n",
       "      <td>2</td>\n",
       "      <td>62.04</td>\n",
       "    </tr>\n",
       "  </tbody>\n",
       "</table>\n",
       "</div>"
      ],
      "text/plain": [
       "       ObservationDate  Confirmed  Recovered  Deaths  Population ISO3  \\\n",
       "270596      2020-09-28       14.0         14       0    107808.0  COL   \n",
       "270597      2020-09-29       14.0         14       0    107808.0  COL   \n",
       "270598      2020-09-30       14.0         14       0    107808.0  COL   \n",
       "270599      2020-10-01       14.0         14       0    107808.0  COL   \n",
       "270600      2020-10-02       14.0         14       0    107808.0  COL   \n",
       "\n",
       "       Province/State Country/Region  school_closing  workplace_closing  \\\n",
       "270596        Vichada       Colombia               3                  1   \n",
       "270597        Vichada       Colombia               3                  1   \n",
       "270598        Vichada       Colombia               3                  1   \n",
       "270599        Vichada       Colombia               3                  1   \n",
       "270600        Vichada       Colombia               3                  1   \n",
       "\n",
       "        cancel_events  gatherings_restrictions  transport_closing  \\\n",
       "270596              2                        3                  1   \n",
       "270597              2                        3                  1   \n",
       "270598              2                        3                  1   \n",
       "270599              2                        3                  1   \n",
       "270600              2                        3                  1   \n",
       "\n",
       "        stay_home_restrictions  internal_movement_restrictions  \\\n",
       "270596                       0                               0   \n",
       "270597                       0                               0   \n",
       "270598                       0                               0   \n",
       "270599                       0                               0   \n",
       "270600                       0                               0   \n",
       "\n",
       "        international_movement_restrictions  information_campaigns  \\\n",
       "270596                                    4                      2   \n",
       "270597                                    4                      2   \n",
       "270598                                    4                      2   \n",
       "270599                                    4                      2   \n",
       "270600                                    4                      2   \n",
       "\n",
       "        testing_policy  contact_tracing  stringency_index  \n",
       "270596               2                2             62.04  \n",
       "270597               2                2             62.04  \n",
       "270598               2                2             62.04  \n",
       "270599               2                2             62.04  \n",
       "270600               2                2             62.04  "
      ]
     },
     "execution_count": 16,
     "metadata": {},
     "output_type": "execute_result"
    }
   ],
   "source": [
    "# Raw data (the same as jhu_data)\n",
    "population_data.raw.tail()"
   ]
  },
  {
   "cell_type": "code",
   "execution_count": 17,
   "metadata": {
    "collapsed": false
   },
   "outputs": [
    {
     "data": {
      "text/html": [
       "<div>\n",
       "<style scoped>\n",
       "    .dataframe tbody tr th:only-of-type {\n",
       "        vertical-align: middle;\n",
       "    }\n",
       "\n",
       "    .dataframe tbody tr th {\n",
       "        vertical-align: top;\n",
       "    }\n",
       "\n",
       "    .dataframe thead th {\n",
       "        text-align: right;\n",
       "    }\n",
       "</style>\n",
       "<table border=\"1\" class=\"dataframe\">\n",
       "  <thead>\n",
       "    <tr style=\"text-align: right;\">\n",
       "      <th></th>\n",
       "      <th>ISO3</th>\n",
       "      <th>Country</th>\n",
       "      <th>Province</th>\n",
       "      <th>Date</th>\n",
       "      <th>Population</th>\n",
       "    </tr>\n",
       "  </thead>\n",
       "  <tbody>\n",
       "    <tr>\n",
       "      <th>231111</th>\n",
       "      <td>COL</td>\n",
       "      <td>Colombia</td>\n",
       "      <td>Vichada</td>\n",
       "      <td>2020-09-28</td>\n",
       "      <td>107808</td>\n",
       "    </tr>\n",
       "    <tr>\n",
       "      <th>231112</th>\n",
       "      <td>COL</td>\n",
       "      <td>Colombia</td>\n",
       "      <td>Vichada</td>\n",
       "      <td>2020-09-29</td>\n",
       "      <td>107808</td>\n",
       "    </tr>\n",
       "    <tr>\n",
       "      <th>231113</th>\n",
       "      <td>COL</td>\n",
       "      <td>Colombia</td>\n",
       "      <td>Vichada</td>\n",
       "      <td>2020-09-30</td>\n",
       "      <td>107808</td>\n",
       "    </tr>\n",
       "    <tr>\n",
       "      <th>231114</th>\n",
       "      <td>COL</td>\n",
       "      <td>Colombia</td>\n",
       "      <td>Vichada</td>\n",
       "      <td>2020-10-01</td>\n",
       "      <td>107808</td>\n",
       "    </tr>\n",
       "    <tr>\n",
       "      <th>231115</th>\n",
       "      <td>COL</td>\n",
       "      <td>Colombia</td>\n",
       "      <td>Vichada</td>\n",
       "      <td>2020-10-02</td>\n",
       "      <td>107808</td>\n",
       "    </tr>\n",
       "  </tbody>\n",
       "</table>\n",
       "</div>"
      ],
      "text/plain": [
       "       ISO3   Country Province       Date  Population\n",
       "231111  COL  Colombia  Vichada 2020-09-28      107808\n",
       "231112  COL  Colombia  Vichada 2020-09-29      107808\n",
       "231113  COL  Colombia  Vichada 2020-09-30      107808\n",
       "231114  COL  Colombia  Vichada 2020-10-01      107808\n",
       "231115  COL  Colombia  Vichada 2020-10-02      107808"
      ]
     },
     "execution_count": 17,
     "metadata": {},
     "output_type": "execute_result"
    }
   ],
   "source": [
    "# Cleaned data\n",
    "population_data.cleaned().tail()"
   ]
  },
  {
   "cell_type": "code",
   "execution_count": 18,
   "metadata": {
    "collapsed": false
   },
   "outputs": [
    {
     "data": {
      "text/plain": [
       "126529100"
      ]
     },
     "execution_count": 18,
     "metadata": {},
     "output_type": "execute_result"
    }
   ],
   "source": [
    "population_data.value(\"Japan\", province=None)"
   ]
  },
  {
   "cell_type": "code",
   "execution_count": 19,
   "metadata": {
    "collapsed": false
   },
   "outputs": [
    {
     "data": {
      "text/plain": [
       "14002973"
      ]
     },
     "execution_count": 19,
     "metadata": {},
     "output_type": "execute_result"
    }
   ],
   "source": [
    "# Register population value of Tokyo in Japan\n",
    "# https://www.metro.tokyo.lg.jp/tosei/hodohappyo/press/2020/06/11/07.html\n",
    "population_data.update(14_002_973, \"Japan\", province=\"Tokyo\")\n",
    "population_data.value(\"Japan\", province=\"Tokyo\")"
   ]
  },
  {
   "cell_type": "markdown",
   "metadata": {},
   "source": [
    "### Government Response Tracker (OxCGRT)"
   ]
  },
  {
   "cell_type": "code",
   "execution_count": 20,
   "metadata": {
    "collapsed": false,
    "tags": []
   },
   "outputs": [
    {
     "name": "stdout",
     "output_type": "stream",
     "text": [
      "(Secondary source) Guidotti, E., Ardia, D., (2020), \"COVID-19 Data Hub\", Journal of Open Source Software 5(51):2376, doi: 10.21105/joss.02376.\n",
      "We can get Citation list of primary sources with DataLoader(...).covid19dh_citation"
     ]
    },
    {
     "name": "stdout",
     "output_type": "stream",
     "text": [
      "\n"
     ]
    }
   ],
   "source": [
    "# Description/citation\n",
    "print(oxcgrt_data.citation)"
   ]
  },
  {
   "cell_type": "code",
   "execution_count": 21,
   "metadata": {
    "collapsed": false
   },
   "outputs": [
    {
     "data": {
      "text/html": [
       "<div>\n",
       "<style scoped>\n",
       "    .dataframe tbody tr th:only-of-type {\n",
       "        vertical-align: middle;\n",
       "    }\n",
       "\n",
       "    .dataframe tbody tr th {\n",
       "        vertical-align: top;\n",
       "    }\n",
       "\n",
       "    .dataframe thead th {\n",
       "        text-align: right;\n",
       "    }\n",
       "</style>\n",
       "<table border=\"1\" class=\"dataframe\">\n",
       "  <thead>\n",
       "    <tr style=\"text-align: right;\">\n",
       "      <th></th>\n",
       "      <th>ObservationDate</th>\n",
       "      <th>Confirmed</th>\n",
       "      <th>Recovered</th>\n",
       "      <th>Deaths</th>\n",
       "      <th>Population</th>\n",
       "      <th>ISO3</th>\n",
       "      <th>Province/State</th>\n",
       "      <th>Country/Region</th>\n",
       "      <th>school_closing</th>\n",
       "      <th>workplace_closing</th>\n",
       "      <th>cancel_events</th>\n",
       "      <th>gatherings_restrictions</th>\n",
       "      <th>transport_closing</th>\n",
       "      <th>stay_home_restrictions</th>\n",
       "      <th>internal_movement_restrictions</th>\n",
       "      <th>international_movement_restrictions</th>\n",
       "      <th>information_campaigns</th>\n",
       "      <th>testing_policy</th>\n",
       "      <th>contact_tracing</th>\n",
       "      <th>stringency_index</th>\n",
       "    </tr>\n",
       "  </thead>\n",
       "  <tbody>\n",
       "    <tr>\n",
       "      <th>270596</th>\n",
       "      <td>2020-09-28</td>\n",
       "      <td>14.0</td>\n",
       "      <td>14</td>\n",
       "      <td>0</td>\n",
       "      <td>107808.0</td>\n",
       "      <td>COL</td>\n",
       "      <td>Vichada</td>\n",
       "      <td>Colombia</td>\n",
       "      <td>3</td>\n",
       "      <td>1</td>\n",
       "      <td>2</td>\n",
       "      <td>3</td>\n",
       "      <td>1</td>\n",
       "      <td>0</td>\n",
       "      <td>0</td>\n",
       "      <td>4</td>\n",
       "      <td>2</td>\n",
       "      <td>2</td>\n",
       "      <td>2</td>\n",
       "      <td>62.04</td>\n",
       "    </tr>\n",
       "    <tr>\n",
       "      <th>270597</th>\n",
       "      <td>2020-09-29</td>\n",
       "      <td>14.0</td>\n",
       "      <td>14</td>\n",
       "      <td>0</td>\n",
       "      <td>107808.0</td>\n",
       "      <td>COL</td>\n",
       "      <td>Vichada</td>\n",
       "      <td>Colombia</td>\n",
       "      <td>3</td>\n",
       "      <td>1</td>\n",
       "      <td>2</td>\n",
       "      <td>3</td>\n",
       "      <td>1</td>\n",
       "      <td>0</td>\n",
       "      <td>0</td>\n",
       "      <td>4</td>\n",
       "      <td>2</td>\n",
       "      <td>2</td>\n",
       "      <td>2</td>\n",
       "      <td>62.04</td>\n",
       "    </tr>\n",
       "    <tr>\n",
       "      <th>270598</th>\n",
       "      <td>2020-09-30</td>\n",
       "      <td>14.0</td>\n",
       "      <td>14</td>\n",
       "      <td>0</td>\n",
       "      <td>107808.0</td>\n",
       "      <td>COL</td>\n",
       "      <td>Vichada</td>\n",
       "      <td>Colombia</td>\n",
       "      <td>3</td>\n",
       "      <td>1</td>\n",
       "      <td>2</td>\n",
       "      <td>3</td>\n",
       "      <td>1</td>\n",
       "      <td>0</td>\n",
       "      <td>0</td>\n",
       "      <td>4</td>\n",
       "      <td>2</td>\n",
       "      <td>2</td>\n",
       "      <td>2</td>\n",
       "      <td>62.04</td>\n",
       "    </tr>\n",
       "    <tr>\n",
       "      <th>270599</th>\n",
       "      <td>2020-10-01</td>\n",
       "      <td>14.0</td>\n",
       "      <td>14</td>\n",
       "      <td>0</td>\n",
       "      <td>107808.0</td>\n",
       "      <td>COL</td>\n",
       "      <td>Vichada</td>\n",
       "      <td>Colombia</td>\n",
       "      <td>3</td>\n",
       "      <td>1</td>\n",
       "      <td>2</td>\n",
       "      <td>3</td>\n",
       "      <td>1</td>\n",
       "      <td>0</td>\n",
       "      <td>0</td>\n",
       "      <td>4</td>\n",
       "      <td>2</td>\n",
       "      <td>2</td>\n",
       "      <td>2</td>\n",
       "      <td>62.04</td>\n",
       "    </tr>\n",
       "    <tr>\n",
       "      <th>270600</th>\n",
       "      <td>2020-10-02</td>\n",
       "      <td>14.0</td>\n",
       "      <td>14</td>\n",
       "      <td>0</td>\n",
       "      <td>107808.0</td>\n",
       "      <td>COL</td>\n",
       "      <td>Vichada</td>\n",
       "      <td>Colombia</td>\n",
       "      <td>3</td>\n",
       "      <td>1</td>\n",
       "      <td>2</td>\n",
       "      <td>3</td>\n",
       "      <td>1</td>\n",
       "      <td>0</td>\n",
       "      <td>0</td>\n",
       "      <td>4</td>\n",
       "      <td>2</td>\n",
       "      <td>2</td>\n",
       "      <td>2</td>\n",
       "      <td>62.04</td>\n",
       "    </tr>\n",
       "  </tbody>\n",
       "</table>\n",
       "</div>"
      ],
      "text/plain": [
       "       ObservationDate  Confirmed  Recovered  Deaths  Population ISO3  \\\n",
       "270596      2020-09-28       14.0         14       0    107808.0  COL   \n",
       "270597      2020-09-29       14.0         14       0    107808.0  COL   \n",
       "270598      2020-09-30       14.0         14       0    107808.0  COL   \n",
       "270599      2020-10-01       14.0         14       0    107808.0  COL   \n",
       "270600      2020-10-02       14.0         14       0    107808.0  COL   \n",
       "\n",
       "       Province/State Country/Region  school_closing  workplace_closing  \\\n",
       "270596        Vichada       Colombia               3                  1   \n",
       "270597        Vichada       Colombia               3                  1   \n",
       "270598        Vichada       Colombia               3                  1   \n",
       "270599        Vichada       Colombia               3                  1   \n",
       "270600        Vichada       Colombia               3                  1   \n",
       "\n",
       "        cancel_events  gatherings_restrictions  transport_closing  \\\n",
       "270596              2                        3                  1   \n",
       "270597              2                        3                  1   \n",
       "270598              2                        3                  1   \n",
       "270599              2                        3                  1   \n",
       "270600              2                        3                  1   \n",
       "\n",
       "        stay_home_restrictions  internal_movement_restrictions  \\\n",
       "270596                       0                               0   \n",
       "270597                       0                               0   \n",
       "270598                       0                               0   \n",
       "270599                       0                               0   \n",
       "270600                       0                               0   \n",
       "\n",
       "        international_movement_restrictions  information_campaigns  \\\n",
       "270596                                    4                      2   \n",
       "270597                                    4                      2   \n",
       "270598                                    4                      2   \n",
       "270599                                    4                      2   \n",
       "270600                                    4                      2   \n",
       "\n",
       "        testing_policy  contact_tracing  stringency_index  \n",
       "270596               2                2             62.04  \n",
       "270597               2                2             62.04  \n",
       "270598               2                2             62.04  \n",
       "270599               2                2             62.04  \n",
       "270600               2                2             62.04  "
      ]
     },
     "execution_count": 21,
     "metadata": {},
     "output_type": "execute_result"
    }
   ],
   "source": [
    "# Raw data (the same as jhu_data)\n",
    "oxcgrt_data.raw.tail()"
   ]
  },
  {
   "cell_type": "code",
   "execution_count": 22,
   "metadata": {
    "collapsed": false
   },
   "outputs": [
    {
     "data": {
      "text/html": [
       "<div>\n",
       "<style scoped>\n",
       "    .dataframe tbody tr th:only-of-type {\n",
       "        vertical-align: middle;\n",
       "    }\n",
       "\n",
       "    .dataframe tbody tr th {\n",
       "        vertical-align: top;\n",
       "    }\n",
       "\n",
       "    .dataframe thead th {\n",
       "        text-align: right;\n",
       "    }\n",
       "</style>\n",
       "<table border=\"1\" class=\"dataframe\">\n",
       "  <thead>\n",
       "    <tr style=\"text-align: right;\">\n",
       "      <th></th>\n",
       "      <th>Date</th>\n",
       "      <th>Country</th>\n",
       "      <th>ISO3</th>\n",
       "      <th>School_closing</th>\n",
       "      <th>Workplace_closing</th>\n",
       "      <th>Cancel_events</th>\n",
       "      <th>Gatherings_restrictions</th>\n",
       "      <th>Transport_closing</th>\n",
       "      <th>Stay_home_restrictions</th>\n",
       "      <th>Internal_movement_restrictions</th>\n",
       "      <th>International_movement_restrictions</th>\n",
       "      <th>Information_campaigns</th>\n",
       "      <th>Testing_policy</th>\n",
       "      <th>Contact_tracing</th>\n",
       "      <th>Stringency_index</th>\n",
       "    </tr>\n",
       "  </thead>\n",
       "  <tbody>\n",
       "    <tr>\n",
       "      <th>270596</th>\n",
       "      <td>2020-09-28</td>\n",
       "      <td>Colombia</td>\n",
       "      <td>COL</td>\n",
       "      <td>3</td>\n",
       "      <td>1</td>\n",
       "      <td>2</td>\n",
       "      <td>3</td>\n",
       "      <td>1</td>\n",
       "      <td>0</td>\n",
       "      <td>0</td>\n",
       "      <td>4</td>\n",
       "      <td>2</td>\n",
       "      <td>2</td>\n",
       "      <td>2</td>\n",
       "      <td>62.04</td>\n",
       "    </tr>\n",
       "    <tr>\n",
       "      <th>270597</th>\n",
       "      <td>2020-09-29</td>\n",
       "      <td>Colombia</td>\n",
       "      <td>COL</td>\n",
       "      <td>3</td>\n",
       "      <td>1</td>\n",
       "      <td>2</td>\n",
       "      <td>3</td>\n",
       "      <td>1</td>\n",
       "      <td>0</td>\n",
       "      <td>0</td>\n",
       "      <td>4</td>\n",
       "      <td>2</td>\n",
       "      <td>2</td>\n",
       "      <td>2</td>\n",
       "      <td>62.04</td>\n",
       "    </tr>\n",
       "    <tr>\n",
       "      <th>270598</th>\n",
       "      <td>2020-09-30</td>\n",
       "      <td>Colombia</td>\n",
       "      <td>COL</td>\n",
       "      <td>3</td>\n",
       "      <td>1</td>\n",
       "      <td>2</td>\n",
       "      <td>3</td>\n",
       "      <td>1</td>\n",
       "      <td>0</td>\n",
       "      <td>0</td>\n",
       "      <td>4</td>\n",
       "      <td>2</td>\n",
       "      <td>2</td>\n",
       "      <td>2</td>\n",
       "      <td>62.04</td>\n",
       "    </tr>\n",
       "    <tr>\n",
       "      <th>270599</th>\n",
       "      <td>2020-10-01</td>\n",
       "      <td>Colombia</td>\n",
       "      <td>COL</td>\n",
       "      <td>3</td>\n",
       "      <td>1</td>\n",
       "      <td>2</td>\n",
       "      <td>3</td>\n",
       "      <td>1</td>\n",
       "      <td>0</td>\n",
       "      <td>0</td>\n",
       "      <td>4</td>\n",
       "      <td>2</td>\n",
       "      <td>2</td>\n",
       "      <td>2</td>\n",
       "      <td>62.04</td>\n",
       "    </tr>\n",
       "    <tr>\n",
       "      <th>270600</th>\n",
       "      <td>2020-10-02</td>\n",
       "      <td>Colombia</td>\n",
       "      <td>COL</td>\n",
       "      <td>3</td>\n",
       "      <td>1</td>\n",
       "      <td>2</td>\n",
       "      <td>3</td>\n",
       "      <td>1</td>\n",
       "      <td>0</td>\n",
       "      <td>0</td>\n",
       "      <td>4</td>\n",
       "      <td>2</td>\n",
       "      <td>2</td>\n",
       "      <td>2</td>\n",
       "      <td>62.04</td>\n",
       "    </tr>\n",
       "  </tbody>\n",
       "</table>\n",
       "</div>"
      ],
      "text/plain": [
       "             Date   Country ISO3  School_closing  Workplace_closing  \\\n",
       "270596 2020-09-28  Colombia  COL               3                  1   \n",
       "270597 2020-09-29  Colombia  COL               3                  1   \n",
       "270598 2020-09-30  Colombia  COL               3                  1   \n",
       "270599 2020-10-01  Colombia  COL               3                  1   \n",
       "270600 2020-10-02  Colombia  COL               3                  1   \n",
       "\n",
       "        Cancel_events  Gatherings_restrictions  Transport_closing  \\\n",
       "270596              2                        3                  1   \n",
       "270597              2                        3                  1   \n",
       "270598              2                        3                  1   \n",
       "270599              2                        3                  1   \n",
       "270600              2                        3                  1   \n",
       "\n",
       "        Stay_home_restrictions  Internal_movement_restrictions  \\\n",
       "270596                       0                               0   \n",
       "270597                       0                               0   \n",
       "270598                       0                               0   \n",
       "270599                       0                               0   \n",
       "270600                       0                               0   \n",
       "\n",
       "        International_movement_restrictions  Information_campaigns  \\\n",
       "270596                                    4                      2   \n",
       "270597                                    4                      2   \n",
       "270598                                    4                      2   \n",
       "270599                                    4                      2   \n",
       "270600                                    4                      2   \n",
       "\n",
       "        Testing_policy  Contact_tracing  Stringency_index  \n",
       "270596               2                2             62.04  \n",
       "270597               2                2             62.04  \n",
       "270598               2                2             62.04  \n",
       "270599               2                2             62.04  \n",
       "270600               2                2             62.04  "
      ]
     },
     "execution_count": 22,
     "metadata": {},
     "output_type": "execute_result"
    }
   ],
   "source": [
    "# Cleaned data\n",
    "oxcgrt_data.cleaned().tail()"
   ]
  },
  {
   "cell_type": "code",
   "execution_count": 23,
   "metadata": {
    "collapsed": false
   },
   "outputs": [
    {
     "data": {
      "text/html": [
       "<div>\n",
       "<style scoped>\n",
       "    .dataframe tbody tr th:only-of-type {\n",
       "        vertical-align: middle;\n",
       "    }\n",
       "\n",
       "    .dataframe tbody tr th {\n",
       "        vertical-align: top;\n",
       "    }\n",
       "\n",
       "    .dataframe thead th {\n",
       "        text-align: right;\n",
       "    }\n",
       "</style>\n",
       "<table border=\"1\" class=\"dataframe\">\n",
       "  <thead>\n",
       "    <tr style=\"text-align: right;\">\n",
       "      <th></th>\n",
       "      <th>Date</th>\n",
       "      <th>School_closing</th>\n",
       "      <th>Workplace_closing</th>\n",
       "      <th>Cancel_events</th>\n",
       "      <th>Gatherings_restrictions</th>\n",
       "      <th>Transport_closing</th>\n",
       "      <th>Stay_home_restrictions</th>\n",
       "      <th>Internal_movement_restrictions</th>\n",
       "      <th>International_movement_restrictions</th>\n",
       "      <th>Information_campaigns</th>\n",
       "      <th>Testing_policy</th>\n",
       "      <th>Contact_tracing</th>\n",
       "      <th>Stringency_index</th>\n",
       "    </tr>\n",
       "  </thead>\n",
       "  <tbody>\n",
       "    <tr>\n",
       "      <th>271</th>\n",
       "      <td>2020-09-28</td>\n",
       "      <td>1</td>\n",
       "      <td>1</td>\n",
       "      <td>1</td>\n",
       "      <td>0</td>\n",
       "      <td>0</td>\n",
       "      <td>1</td>\n",
       "      <td>1</td>\n",
       "      <td>3</td>\n",
       "      <td>2</td>\n",
       "      <td>2</td>\n",
       "      <td>1</td>\n",
       "      <td>37.04</td>\n",
       "    </tr>\n",
       "    <tr>\n",
       "      <th>272</th>\n",
       "      <td>2020-09-29</td>\n",
       "      <td>1</td>\n",
       "      <td>1</td>\n",
       "      <td>1</td>\n",
       "      <td>0</td>\n",
       "      <td>0</td>\n",
       "      <td>1</td>\n",
       "      <td>1</td>\n",
       "      <td>3</td>\n",
       "      <td>2</td>\n",
       "      <td>2</td>\n",
       "      <td>1</td>\n",
       "      <td>37.04</td>\n",
       "    </tr>\n",
       "    <tr>\n",
       "      <th>273</th>\n",
       "      <td>2020-09-30</td>\n",
       "      <td>1</td>\n",
       "      <td>1</td>\n",
       "      <td>1</td>\n",
       "      <td>0</td>\n",
       "      <td>0</td>\n",
       "      <td>1</td>\n",
       "      <td>1</td>\n",
       "      <td>3</td>\n",
       "      <td>2</td>\n",
       "      <td>2</td>\n",
       "      <td>1</td>\n",
       "      <td>37.04</td>\n",
       "    </tr>\n",
       "    <tr>\n",
       "      <th>274</th>\n",
       "      <td>2020-10-01</td>\n",
       "      <td>1</td>\n",
       "      <td>1</td>\n",
       "      <td>1</td>\n",
       "      <td>0</td>\n",
       "      <td>0</td>\n",
       "      <td>1</td>\n",
       "      <td>1</td>\n",
       "      <td>3</td>\n",
       "      <td>2</td>\n",
       "      <td>2</td>\n",
       "      <td>1</td>\n",
       "      <td>37.04</td>\n",
       "    </tr>\n",
       "    <tr>\n",
       "      <th>275</th>\n",
       "      <td>2020-10-02</td>\n",
       "      <td>1</td>\n",
       "      <td>1</td>\n",
       "      <td>1</td>\n",
       "      <td>0</td>\n",
       "      <td>0</td>\n",
       "      <td>1</td>\n",
       "      <td>1</td>\n",
       "      <td>3</td>\n",
       "      <td>2</td>\n",
       "      <td>2</td>\n",
       "      <td>1</td>\n",
       "      <td>37.04</td>\n",
       "    </tr>\n",
       "  </tbody>\n",
       "</table>\n",
       "</div>"
      ],
      "text/plain": [
       "          Date  School_closing  Workplace_closing  Cancel_events  \\\n",
       "271 2020-09-28               1                  1              1   \n",
       "272 2020-09-29               1                  1              1   \n",
       "273 2020-09-30               1                  1              1   \n",
       "274 2020-10-01               1                  1              1   \n",
       "275 2020-10-02               1                  1              1   \n",
       "\n",
       "     Gatherings_restrictions  Transport_closing  Stay_home_restrictions  \\\n",
       "271                        0                  0                       1   \n",
       "272                        0                  0                       1   \n",
       "273                        0                  0                       1   \n",
       "274                        0                  0                       1   \n",
       "275                        0                  0                       1   \n",
       "\n",
       "     Internal_movement_restrictions  International_movement_restrictions  \\\n",
       "271                               1                                    3   \n",
       "272                               1                                    3   \n",
       "273                               1                                    3   \n",
       "274                               1                                    3   \n",
       "275                               1                                    3   \n",
       "\n",
       "     Information_campaigns  Testing_policy  Contact_tracing  Stringency_index  \n",
       "271                      2               2                1             37.04  \n",
       "272                      2               2                1             37.04  \n",
       "273                      2               2                1             37.04  \n",
       "274                      2               2                1             37.04  \n",
       "275                      2               2                1             37.04  "
      ]
     },
     "execution_count": 23,
     "metadata": {},
     "output_type": "execute_result"
    }
   ],
   "source": [
    "# Subset for a country\n",
    "oxcgrt_data.subset(\"Japan\").tail()"
   ]
  },
  {
   "cell_type": "code",
   "execution_count": 24,
   "metadata": {
    "collapsed": false
   },
   "outputs": [
    {
     "data": {
      "text/html": [
       "<div>\n",
       "<style scoped>\n",
       "    .dataframe tbody tr th:only-of-type {\n",
       "        vertical-align: middle;\n",
       "    }\n",
       "\n",
       "    .dataframe tbody tr th {\n",
       "        vertical-align: top;\n",
       "    }\n",
       "\n",
       "    .dataframe thead th {\n",
       "        text-align: right;\n",
       "    }\n",
       "</style>\n",
       "<table border=\"1\" class=\"dataframe\">\n",
       "  <thead>\n",
       "    <tr style=\"text-align: right;\">\n",
       "      <th></th>\n",
       "      <th>Date</th>\n",
       "      <th>School_closing</th>\n",
       "      <th>Workplace_closing</th>\n",
       "      <th>Cancel_events</th>\n",
       "      <th>Gatherings_restrictions</th>\n",
       "      <th>Transport_closing</th>\n",
       "      <th>Stay_home_restrictions</th>\n",
       "      <th>Internal_movement_restrictions</th>\n",
       "      <th>International_movement_restrictions</th>\n",
       "      <th>Information_campaigns</th>\n",
       "      <th>Testing_policy</th>\n",
       "      <th>Contact_tracing</th>\n",
       "      <th>Stringency_index</th>\n",
       "    </tr>\n",
       "  </thead>\n",
       "  <tbody>\n",
       "    <tr>\n",
       "      <th>271</th>\n",
       "      <td>2020-09-28</td>\n",
       "      <td>1</td>\n",
       "      <td>1</td>\n",
       "      <td>1</td>\n",
       "      <td>0</td>\n",
       "      <td>0</td>\n",
       "      <td>1</td>\n",
       "      <td>1</td>\n",
       "      <td>3</td>\n",
       "      <td>2</td>\n",
       "      <td>2</td>\n",
       "      <td>1</td>\n",
       "      <td>37.04</td>\n",
       "    </tr>\n",
       "    <tr>\n",
       "      <th>272</th>\n",
       "      <td>2020-09-29</td>\n",
       "      <td>1</td>\n",
       "      <td>1</td>\n",
       "      <td>1</td>\n",
       "      <td>0</td>\n",
       "      <td>0</td>\n",
       "      <td>1</td>\n",
       "      <td>1</td>\n",
       "      <td>3</td>\n",
       "      <td>2</td>\n",
       "      <td>2</td>\n",
       "      <td>1</td>\n",
       "      <td>37.04</td>\n",
       "    </tr>\n",
       "    <tr>\n",
       "      <th>273</th>\n",
       "      <td>2020-09-30</td>\n",
       "      <td>1</td>\n",
       "      <td>1</td>\n",
       "      <td>1</td>\n",
       "      <td>0</td>\n",
       "      <td>0</td>\n",
       "      <td>1</td>\n",
       "      <td>1</td>\n",
       "      <td>3</td>\n",
       "      <td>2</td>\n",
       "      <td>2</td>\n",
       "      <td>1</td>\n",
       "      <td>37.04</td>\n",
       "    </tr>\n",
       "    <tr>\n",
       "      <th>274</th>\n",
       "      <td>2020-10-01</td>\n",
       "      <td>1</td>\n",
       "      <td>1</td>\n",
       "      <td>1</td>\n",
       "      <td>0</td>\n",
       "      <td>0</td>\n",
       "      <td>1</td>\n",
       "      <td>1</td>\n",
       "      <td>3</td>\n",
       "      <td>2</td>\n",
       "      <td>2</td>\n",
       "      <td>1</td>\n",
       "      <td>37.04</td>\n",
       "    </tr>\n",
       "    <tr>\n",
       "      <th>275</th>\n",
       "      <td>2020-10-02</td>\n",
       "      <td>1</td>\n",
       "      <td>1</td>\n",
       "      <td>1</td>\n",
       "      <td>0</td>\n",
       "      <td>0</td>\n",
       "      <td>1</td>\n",
       "      <td>1</td>\n",
       "      <td>3</td>\n",
       "      <td>2</td>\n",
       "      <td>2</td>\n",
       "      <td>1</td>\n",
       "      <td>37.04</td>\n",
       "    </tr>\n",
       "  </tbody>\n",
       "</table>\n",
       "</div>"
      ],
      "text/plain": [
       "          Date  School_closing  Workplace_closing  Cancel_events  \\\n",
       "271 2020-09-28               1                  1              1   \n",
       "272 2020-09-29               1                  1              1   \n",
       "273 2020-09-30               1                  1              1   \n",
       "274 2020-10-01               1                  1              1   \n",
       "275 2020-10-02               1                  1              1   \n",
       "\n",
       "     Gatherings_restrictions  Transport_closing  Stay_home_restrictions  \\\n",
       "271                        0                  0                       1   \n",
       "272                        0                  0                       1   \n",
       "273                        0                  0                       1   \n",
       "274                        0                  0                       1   \n",
       "275                        0                  0                       1   \n",
       "\n",
       "     Internal_movement_restrictions  International_movement_restrictions  \\\n",
       "271                               1                                    3   \n",
       "272                               1                                    3   \n",
       "273                               1                                    3   \n",
       "274                               1                                    3   \n",
       "275                               1                                    3   \n",
       "\n",
       "     Information_campaigns  Testing_policy  Contact_tracing  Stringency_index  \n",
       "271                      2               2                1             37.04  \n",
       "272                      2               2                1             37.04  \n",
       "273                      2               2                1             37.04  \n",
       "274                      2               2                1             37.04  \n",
       "275                      2               2                1             37.04  "
      ]
     },
     "execution_count": 24,
     "metadata": {},
     "output_type": "execute_result"
    }
   ],
   "source": [
    "# Subset for a country (using ISO3 code)\n",
    "oxcgrt_data.subset(\"JPN\").tail()"
   ]
  },
  {
   "cell_type": "markdown",
   "metadata": {},
   "source": [
    "## Scenario analysis\n",
    "As an example, we will analysis the number of cases in Japan."
   ]
  },
  {
   "cell_type": "code",
   "execution_count": 25,
   "metadata": {
    "collapsed": false
   },
   "outputs": [],
   "source": [
    "scenario = cs.Scenario(jhu_data, population_data, country=\"Japan\", province=None)"
   ]
  },
  {
   "cell_type": "markdown",
   "metadata": {},
   "source": [
    "### Check records"
   ]
  },
  {
   "cell_type": "code",
   "execution_count": 26,
   "metadata": {
    "collapsed": false
   },
   "outputs": [
    {
     "data": {
      "image/png": "[encoded data removed]",
      "text/plain": [
       "<Figure size 648x432 with 1 Axes>"
      ]
     },
     "metadata": {},
     "output_type": "display_data"
    },
    {
     "data": {
      "text/html": [
       "<div>\n",
       "<style scoped>\n",
       "    .dataframe tbody tr th:only-of-type {\n",
       "        vertical-align: middle;\n",
       "    }\n",
       "\n",
       "    .dataframe tbody tr th {\n",
       "        vertical-align: top;\n",
       "    }\n",
       "\n",
       "    .dataframe thead th {\n",
       "        text-align: right;\n",
       "    }\n",
       "</style>\n",
       "<table border=\"1\" class=\"dataframe\">\n",
       "  <thead>\n",
       "    <tr style=\"text-align: right;\">\n",
       "      <th></th>\n",
       "      <th>Date</th>\n",
       "      <th>Confirmed</th>\n",
       "      <th>Infected</th>\n",
       "      <th>Fatal</th>\n",
       "      <th>Recovered</th>\n",
       "    </tr>\n",
       "  </thead>\n",
       "  <tbody>\n",
       "    <tr>\n",
       "      <th>230</th>\n",
       "      <td>2020-09-28</td>\n",
       "      <td>82131</td>\n",
       "      <td>5593</td>\n",
       "      <td>1548</td>\n",
       "      <td>74990</td>\n",
       "    </tr>\n",
       "    <tr>\n",
       "      <th>231</th>\n",
       "      <td>2020-09-29</td>\n",
       "      <td>82494</td>\n",
       "      <td>5478</td>\n",
       "      <td>1557</td>\n",
       "      <td>75459</td>\n",
       "    </tr>\n",
       "    <tr>\n",
       "      <th>232</th>\n",
       "      <td>2020-09-30</td>\n",
       "      <td>83010</td>\n",
       "      <td>5421</td>\n",
       "      <td>1564</td>\n",
       "      <td>76025</td>\n",
       "    </tr>\n",
       "    <tr>\n",
       "      <th>233</th>\n",
       "      <td>2020-10-01</td>\n",
       "      <td>83563</td>\n",
       "      <td>5402</td>\n",
       "      <td>1571</td>\n",
       "      <td>76590</td>\n",
       "    </tr>\n",
       "    <tr>\n",
       "      <th>234</th>\n",
       "      <td>2020-10-02</td>\n",
       "      <td>84215</td>\n",
       "      <td>5418</td>\n",
       "      <td>1578</td>\n",
       "      <td>77219</td>\n",
       "    </tr>\n",
       "  </tbody>\n",
       "</table>\n",
       "</div>"
      ],
      "text/plain": [
       "          Date  Confirmed  Infected  Fatal  Recovered\n",
       "230 2020-09-28      82131      5593   1548      74990\n",
       "231 2020-09-29      82494      5478   1557      75459\n",
       "232 2020-09-30      83010      5421   1564      76025\n",
       "233 2020-10-01      83563      5402   1571      76590\n",
       "234 2020-10-02      84215      5418   1578      77219"
      ]
     },
     "execution_count": 26,
     "metadata": {},
     "output_type": "execute_result"
    }
   ],
   "source": [
    "import matplotlib\n",
    "warnings.simplefilter(\"ignore\", category=matplotlib.MatplotlibDeprecationWarning)\n",
    "record_df = scenario.records()\n",
    "record_df.tail()"
   ]
  },
  {
   "cell_type": "markdown",
   "metadata": {},
   "source": [
    "### S-R trend analysis"
   ]
  },
  {
   "cell_type": "code",
   "execution_count": 27,
   "metadata": {
    "collapsed": false
   },
   "outputs": [
    {
     "data": {
      "image/png": "[encoded data removed]",
      "text/plain": [
       "<Figure size 648x432 with 1 Axes>"
      ]
     },
     "metadata": {},
     "output_type": "display_data"
    },
    {
     "data": {
      "text/html": [
       "<div>\n",
       "<style scoped>\n",
       "    .dataframe tbody tr th:only-of-type {\n",
       "        vertical-align: middle;\n",
       "    }\n",
       "\n",
       "    .dataframe tbody tr th {\n",
       "        vertical-align: top;\n",
       "    }\n",
       "\n",
       "    .dataframe thead th {\n",
       "        text-align: right;\n",
       "    }\n",
       "</style>\n",
       "<table border=\"1\" class=\"dataframe\">\n",
       "  <thead>\n",
       "    <tr style=\"text-align: right;\">\n",
       "      <th></th>\n",
       "      <th>Type</th>\n",
       "      <th>Start</th>\n",
       "      <th>End</th>\n",
       "      <th>Population</th>\n",
       "    </tr>\n",
       "  </thead>\n",
       "  <tbody>\n",
       "    <tr>\n",
       "      <th>0th</th>\n",
       "      <td>Past</td>\n",
       "      <td>06Feb2020</td>\n",
       "      <td>21Apr2020</td>\n",
       "      <td>126529100</td>\n",
       "    </tr>\n",
       "    <tr>\n",
       "      <th>1st</th>\n",
       "      <td>Past</td>\n",
       "      <td>22Apr2020</td>\n",
       "      <td>05Jul2020</td>\n",
       "      <td>126529100</td>\n",
       "    </tr>\n",
       "    <tr>\n",
       "      <th>2nd</th>\n",
       "      <td>Past</td>\n",
       "      <td>06Jul2020</td>\n",
       "      <td>24Jul2020</td>\n",
       "      <td>126529100</td>\n",
       "    </tr>\n",
       "    <tr>\n",
       "      <th>3rd</th>\n",
       "      <td>Past</td>\n",
       "      <td>25Jul2020</td>\n",
       "      <td>01Aug2020</td>\n",
       "      <td>126529100</td>\n",
       "    </tr>\n",
       "    <tr>\n",
       "      <th>4th</th>\n",
       "      <td>Past</td>\n",
       "      <td>02Aug2020</td>\n",
       "      <td>14Aug2020</td>\n",
       "      <td>126529100</td>\n",
       "    </tr>\n",
       "    <tr>\n",
       "      <th>5th</th>\n",
       "      <td>Past</td>\n",
       "      <td>15Aug2020</td>\n",
       "      <td>29Aug2020</td>\n",
       "      <td>126529100</td>\n",
       "    </tr>\n",
       "    <tr>\n",
       "      <th>6th</th>\n",
       "      <td>Past</td>\n",
       "      <td>30Aug2020</td>\n",
       "      <td>08Sep2020</td>\n",
       "      <td>126529100</td>\n",
       "    </tr>\n",
       "    <tr>\n",
       "      <th>7th</th>\n",
       "      <td>Past</td>\n",
       "      <td>09Sep2020</td>\n",
       "      <td>18Sep2020</td>\n",
       "      <td>126529100</td>\n",
       "    </tr>\n",
       "    <tr>\n",
       "      <th>8th</th>\n",
       "      <td>Past</td>\n",
       "      <td>19Sep2020</td>\n",
       "      <td>02Oct2020</td>\n",
       "      <td>126529100</td>\n",
       "    </tr>\n",
       "  </tbody>\n",
       "</table>\n",
       "</div>"
      ],
      "text/plain": [
       "     Type      Start        End  Population\n",
       "0th  Past  06Feb2020  21Apr2020   126529100\n",
       "1st  Past  22Apr2020  05Jul2020   126529100\n",
       "2nd  Past  06Jul2020  24Jul2020   126529100\n",
       "3rd  Past  25Jul2020  01Aug2020   126529100\n",
       "4th  Past  02Aug2020  14Aug2020   126529100\n",
       "5th  Past  15Aug2020  29Aug2020   126529100\n",
       "6th  Past  30Aug2020  08Sep2020   126529100\n",
       "7th  Past  09Sep2020  18Sep2020   126529100\n",
       "8th  Past  19Sep2020  02Oct2020   126529100"
      ]
     },
     "execution_count": 27,
     "metadata": {},
     "output_type": "execute_result"
    }
   ],
   "source": [
    "scenario.trend(set_phases=True)\n",
    "scenario.summary()"
   ]
  },
  {
   "cell_type": "markdown",
   "metadata": {},
   "source": [
    "### Hyperparameter estimation of ODE models\n",
    "As an example, use SIR-F model.\n",
    "We can use SIR, SIRD, (SIRFV), (SEWIRF)."
   ]
  },
  {
   "cell_type": "code",
   "execution_count": 28,
   "metadata": {
    "collapsed": false,
    "tags": []
   },
   "outputs": [
    {
     "name": "stdout",
     "output_type": "stream",
     "text": [
      "\n",
      "<SIR-F model: parameter estimation>"
     ]
    },
    {
     "name": "stdout",
     "output_type": "stream",
     "text": [
      "\n"
     ]
    },
    {
     "name": "stdout",
     "output_type": "stream",
     "text": [
      "Running optimization with 4 CPUs..."
     ]
    },
    {
     "name": "stdout",
     "output_type": "stream",
     "text": [
      "\n"
     ]
    },
    {
     "name": "stdout",
     "output_type": "stream",
     "text": [
      "\t8th phase (19Sep2020 - 02Oct2020): finished 1737 trials in 1 min  0 sec"
     ]
    },
    {
     "name": "stdout",
     "output_type": "stream",
     "text": [
      "\n"
     ]
    },
    {
     "name": "stdout",
     "output_type": "stream",
     "text": [
      "\t2nd phase (06Jul2020 - 24Jul2020): finished 1172 trials in 0 min 30 sec"
     ]
    },
    {
     "name": "stdout",
     "output_type": "stream",
     "text": [
      "\n"
     ]
    },
    {
     "name": "stdout",
     "output_type": "stream",
     "text": [
      "\t0th phase (06Feb2020 - 21Apr2020): finished 1860 trials in 1 min  0 sec"
     ]
    },
    {
     "name": "stdout",
     "output_type": "stream",
     "text": [
      "\n"
     ]
    },
    {
     "name": "stdout",
     "output_type": "stream",
     "text": [
      "\t1st phase (22Apr2020 - 05Jul2020): finished 1883 trials in 1 min  0 sec"
     ]
    },
    {
     "name": "stdout",
     "output_type": "stream",
     "text": [
      "\n"
     ]
    },
    {
     "name": "stdout",
     "output_type": "stream",
     "text": [
      "\t3rd phase (25Jul2020 - 01Aug2020): finished 1965 trials in 1 min  0 sec"
     ]
    },
    {
     "name": "stdout",
     "output_type": "stream",
     "text": [
      "\n"
     ]
    },
    {
     "name": "stdout",
     "output_type": "stream",
     "text": [
      "\t6th phase (30Aug2020 - 08Sep2020): finished  253 trials in 0 min  5 sec"
     ]
    },
    {
     "name": "stdout",
     "output_type": "stream",
     "text": [
      "\n"
     ]
    },
    {
     "name": "stdout",
     "output_type": "stream",
     "text": [
      "\t7th phase (09Sep2020 - 18Sep2020): finished  461 trials in 0 min 10 sec"
     ]
    },
    {
     "name": "stdout",
     "output_type": "stream",
     "text": [
      "\n"
     ]
    },
    {
     "name": "stdout",
     "output_type": "stream",
     "text": [
      "\t4th phase (02Aug2020 - 14Aug2020): finished 1959 trials in 1 min  0 sec"
     ]
    },
    {
     "name": "stdout",
     "output_type": "stream",
     "text": [
      "\n"
     ]
    },
    {
     "name": "stdout",
     "output_type": "stream",
     "text": [
      "\t5th phase (15Aug2020 - 29Aug2020): finished 1693 trials in 0 min 50 sec"
     ]
    },
    {
     "name": "stdout",
     "output_type": "stream",
     "text": [
      "\n"
     ]
    },
    {
     "name": "stdout",
     "output_type": "stream",
     "text": [
      "Completed optimization. Total: 2 min 52 sec"
     ]
    },
    {
     "name": "stdout",
     "output_type": "stream",
     "text": [
      "\n"
     ]
    }
   ],
   "source": [
    "scenario.estimate(cs.SIRF)"
   ]
  },
  {
   "cell_type": "code",
   "execution_count": 29,
   "metadata": {
    "collapsed": false
   },
   "outputs": [
    {
     "data": {
      "text/html": [
       "<div>\n",
       "<style scoped>\n",
       "    .dataframe tbody tr th:only-of-type {\n",
       "        vertical-align: middle;\n",
       "    }\n",
       "\n",
       "    .dataframe tbody tr th {\n",
       "        vertical-align: top;\n",
       "    }\n",
       "\n",
       "    .dataframe thead th {\n",
       "        text-align: right;\n",
       "    }\n",
       "</style>\n",
       "<table border=\"1\" class=\"dataframe\">\n",
       "  <thead>\n",
       "    <tr style=\"text-align: right;\">\n",
       "      <th></th>\n",
       "      <th>Type</th>\n",
       "      <th>Start</th>\n",
       "      <th>End</th>\n",
       "      <th>Population</th>\n",
       "      <th>ODE</th>\n",
       "      <th>Rt</th>\n",
       "      <th>theta</th>\n",
       "      <th>kappa</th>\n",
       "      <th>rho</th>\n",
       "      <th>sigma</th>\n",
       "      <th>tau</th>\n",
       "      <th>1/beta [day]</th>\n",
       "      <th>alpha1 [-]</th>\n",
       "      <th>1/alpha2 [day]</th>\n",
       "      <th>1/gamma [day]</th>\n",
       "      <th>RMSLE</th>\n",
       "      <th>Trials</th>\n",
       "      <th>Runtime</th>\n",
       "    </tr>\n",
       "  </thead>\n",
       "  <tbody>\n",
       "    <tr>\n",
       "      <th>0th</th>\n",
       "      <td>Past</td>\n",
       "      <td>06Feb2020</td>\n",
       "      <td>21Apr2020</td>\n",
       "      <td>126529100</td>\n",
       "      <td>SIR-F</td>\n",
       "      <td>4.30</td>\n",
       "      <td>0.019837</td>\n",
       "      <td>0.000066</td>\n",
       "      <td>0.034879</td>\n",
       "      <td>0.007885</td>\n",
       "      <td>480</td>\n",
       "      <td>9</td>\n",
       "      <td>0.020</td>\n",
       "      <td>5064</td>\n",
       "      <td>42</td>\n",
       "      <td>0.948305</td>\n",
       "      <td>1860</td>\n",
       "      <td>1 min  0 sec</td>\n",
       "    </tr>\n",
       "    <tr>\n",
       "      <th>1st</th>\n",
       "      <td>Past</td>\n",
       "      <td>22Apr2020</td>\n",
       "      <td>05Jul2020</td>\n",
       "      <td>126529100</td>\n",
       "      <td>SIR-F</td>\n",
       "      <td>0.40</td>\n",
       "      <td>0.093757</td>\n",
       "      <td>0.000142</td>\n",
       "      <td>0.010587</td>\n",
       "      <td>0.023927</td>\n",
       "      <td>480</td>\n",
       "      <td>31</td>\n",
       "      <td>0.094</td>\n",
       "      <td>2343</td>\n",
       "      <td>13</td>\n",
       "      <td>0.955179</td>\n",
       "      <td>1883</td>\n",
       "      <td>1 min  0 sec</td>\n",
       "    </tr>\n",
       "    <tr>\n",
       "      <th>2nd</th>\n",
       "      <td>Past</td>\n",
       "      <td>06Jul2020</td>\n",
       "      <td>24Jul2020</td>\n",
       "      <td>126529100</td>\n",
       "      <td>SIR-F</td>\n",
       "      <td>1.93</td>\n",
       "      <td>0.000938</td>\n",
       "      <td>0.000031</td>\n",
       "      <td>0.046598</td>\n",
       "      <td>0.024071</td>\n",
       "      <td>480</td>\n",
       "      <td>7</td>\n",
       "      <td>0.001</td>\n",
       "      <td>10658</td>\n",
       "      <td>13</td>\n",
       "      <td>0.031944</td>\n",
       "      <td>1172</td>\n",
       "      <td>0 min 30 sec</td>\n",
       "    </tr>\n",
       "    <tr>\n",
       "      <th>3rd</th>\n",
       "      <td>Past</td>\n",
       "      <td>25Jul2020</td>\n",
       "      <td>01Aug2020</td>\n",
       "      <td>126529100</td>\n",
       "      <td>SIR-F</td>\n",
       "      <td>1.62</td>\n",
       "      <td>0.000454</td>\n",
       "      <td>0.000084</td>\n",
       "      <td>0.043310</td>\n",
       "      <td>0.026672</td>\n",
       "      <td>480</td>\n",
       "      <td>7</td>\n",
       "      <td>0.000</td>\n",
       "      <td>3970</td>\n",
       "      <td>12</td>\n",
       "      <td>0.016306</td>\n",
       "      <td>1965</td>\n",
       "      <td>1 min  0 sec</td>\n",
       "    </tr>\n",
       "    <tr>\n",
       "      <th>4th</th>\n",
       "      <td>Past</td>\n",
       "      <td>02Aug2020</td>\n",
       "      <td>14Aug2020</td>\n",
       "      <td>126529100</td>\n",
       "      <td>SIR-F</td>\n",
       "      <td>1.49</td>\n",
       "      <td>0.000235</td>\n",
       "      <td>0.000131</td>\n",
       "      <td>0.034510</td>\n",
       "      <td>0.022957</td>\n",
       "      <td>480</td>\n",
       "      <td>9</td>\n",
       "      <td>0.000</td>\n",
       "      <td>2544</td>\n",
       "      <td>14</td>\n",
       "      <td>0.064337</td>\n",
       "      <td>1959</td>\n",
       "      <td>1 min  0 sec</td>\n",
       "    </tr>\n",
       "    <tr>\n",
       "      <th>5th</th>\n",
       "      <td>Past</td>\n",
       "      <td>15Aug2020</td>\n",
       "      <td>29Aug2020</td>\n",
       "      <td>126529100</td>\n",
       "      <td>SIR-F</td>\n",
       "      <td>0.80</td>\n",
       "      <td>0.000530</td>\n",
       "      <td>0.000290</td>\n",
       "      <td>0.027540</td>\n",
       "      <td>0.034007</td>\n",
       "      <td>480</td>\n",
       "      <td>12</td>\n",
       "      <td>0.001</td>\n",
       "      <td>1150</td>\n",
       "      <td>9</td>\n",
       "      <td>0.026512</td>\n",
       "      <td>1693</td>\n",
       "      <td>0 min 50 sec</td>\n",
       "    </tr>\n",
       "    <tr>\n",
       "      <th>6th</th>\n",
       "      <td>Past</td>\n",
       "      <td>30Aug2020</td>\n",
       "      <td>08Sep2020</td>\n",
       "      <td>126529100</td>\n",
       "      <td>SIR-F</td>\n",
       "      <td>0.70</td>\n",
       "      <td>0.016500</td>\n",
       "      <td>0.000191</td>\n",
       "      <td>0.020366</td>\n",
       "      <td>0.028504</td>\n",
       "      <td>480</td>\n",
       "      <td>16</td>\n",
       "      <td>0.017</td>\n",
       "      <td>1740</td>\n",
       "      <td>11</td>\n",
       "      <td>0.014900</td>\n",
       "      <td>253</td>\n",
       "      <td>0 min  5 sec</td>\n",
       "    </tr>\n",
       "    <tr>\n",
       "      <th>7th</th>\n",
       "      <td>Past</td>\n",
       "      <td>09Sep2020</td>\n",
       "      <td>18Sep2020</td>\n",
       "      <td>126529100</td>\n",
       "      <td>SIR-F</td>\n",
       "      <td>0.84</td>\n",
       "      <td>0.017280</td>\n",
       "      <td>0.000005</td>\n",
       "      <td>0.027759</td>\n",
       "      <td>0.032581</td>\n",
       "      <td>480</td>\n",
       "      <td>12</td>\n",
       "      <td>0.017</td>\n",
       "      <td>73093</td>\n",
       "      <td>10</td>\n",
       "      <td>0.013478</td>\n",
       "      <td>461</td>\n",
       "      <td>0 min 10 sec</td>\n",
       "    </tr>\n",
       "    <tr>\n",
       "      <th>8th</th>\n",
       "      <td>Past</td>\n",
       "      <td>19Sep2020</td>\n",
       "      <td>02Oct2020</td>\n",
       "      <td>126529100</td>\n",
       "      <td>SIR-F</td>\n",
       "      <td>0.91</td>\n",
       "      <td>0.000096</td>\n",
       "      <td>0.000355</td>\n",
       "      <td>0.028629</td>\n",
       "      <td>0.031252</td>\n",
       "      <td>480</td>\n",
       "      <td>11</td>\n",
       "      <td>0.000</td>\n",
       "      <td>939</td>\n",
       "      <td>10</td>\n",
       "      <td>0.030047</td>\n",
       "      <td>1737</td>\n",
       "      <td>1 min  0 sec</td>\n",
       "    </tr>\n",
       "  </tbody>\n",
       "</table>\n",
       "</div>"
      ],
      "text/plain": [
       "     Type      Start        End  Population    ODE    Rt     theta     kappa  \\\n",
       "0th  Past  06Feb2020  21Apr2020   126529100  SIR-F  4.30  0.019837  0.000066   \n",
       "1st  Past  22Apr2020  05Jul2020   126529100  SIR-F  0.40  0.093757  0.000142   \n",
       "2nd  Past  06Jul2020  24Jul2020   126529100  SIR-F  1.93  0.000938  0.000031   \n",
       "3rd  Past  25Jul2020  01Aug2020   126529100  SIR-F  1.62  0.000454  0.000084   \n",
       "4th  Past  02Aug2020  14Aug2020   126529100  SIR-F  1.49  0.000235  0.000131   \n",
       "5th  Past  15Aug2020  29Aug2020   126529100  SIR-F  0.80  0.000530  0.000290   \n",
       "6th  Past  30Aug2020  08Sep2020   126529100  SIR-F  0.70  0.016500  0.000191   \n",
       "7th  Past  09Sep2020  18Sep2020   126529100  SIR-F  0.84  0.017280  0.000005   \n",
       "8th  Past  19Sep2020  02Oct2020   126529100  SIR-F  0.91  0.000096  0.000355   \n",
       "\n",
       "          rho     sigma  tau  1/beta [day]  alpha1 [-]  1/alpha2 [day]  \\\n",
       "0th  0.034879  0.007885  480             9       0.020            5064   \n",
       "1st  0.010587  0.023927  480            31       0.094            2343   \n",
       "2nd  0.046598  0.024071  480             7       0.001           10658   \n",
       "3rd  0.043310  0.026672  480             7       0.000            3970   \n",
       "4th  0.034510  0.022957  480             9       0.000            2544   \n",
       "5th  0.027540  0.034007  480            12       0.001            1150   \n",
       "6th  0.020366  0.028504  480            16       0.017            1740   \n",
       "7th  0.027759  0.032581  480            12       0.017           73093   \n",
       "8th  0.028629  0.031252  480            11       0.000             939   \n",
       "\n",
       "     1/gamma [day]     RMSLE  Trials       Runtime  \n",
       "0th             42  0.948305    1860  1 min  0 sec  \n",
       "1st             13  0.955179    1883  1 min  0 sec  \n",
       "2nd             13  0.031944    1172  0 min 30 sec  \n",
       "3rd             12  0.016306    1965  1 min  0 sec  \n",
       "4th             14  0.064337    1959  1 min  0 sec  \n",
       "5th              9  0.026512    1693  0 min 50 sec  \n",
       "6th             11  0.014900     253  0 min  5 sec  \n",
       "7th             10  0.013478     461  0 min 10 sec  \n",
       "8th             10  0.030047    1737  1 min  0 sec  "
      ]
     },
     "execution_count": 29,
     "metadata": {},
     "output_type": "execute_result"
    }
   ],
   "source": [
    "scenario.summary()"
   ]
  },
  {
   "cell_type": "markdown",
   "metadata": {},
   "source": [
    "### Accuracy of estimation"
   ]
  },
  {
   "cell_type": "code",
   "execution_count": 30,
   "metadata": {
    "collapsed": false
   },
   "outputs": [
    {
     "data": {
      "image/png": "[encoded data removed]",
      "text/plain": [
       "<Figure size 648x864 with 4 Axes>"
      ]
     },
     "metadata": {},
     "output_type": "display_data"
    }
   ],
   "source": [
    "scenario.estimate_accuracy(phase=\"1st\")"
   ]
  },
  {
   "cell_type": "markdown",
   "metadata": {},
   "source": [
    "### Get parameter value"
   ]
  },
  {
   "cell_type": "code",
   "execution_count": 31,
   "metadata": {
    "collapsed": false
   },
   "outputs": [
    {
     "data": {
      "text/plain": [
       "1.49"
      ]
     },
     "execution_count": 31,
     "metadata": {},
     "output_type": "execute_result"
    }
   ],
   "source": [
    "scenario.get(\"Rt\", phase=\"4th\")"
   ]
  },
  {
   "cell_type": "markdown",
   "metadata": {},
   "source": [
    "### Show parameter history"
   ]
  },
  {
   "cell_type": "code",
   "execution_count": 32,
   "metadata": {
    "collapsed": false
   },
   "outputs": [
    {
     "data": {
      "image/png": "[encoded data removed]",
      "text/plain": [
       "<Figure size 648x432 with 1 Axes>"
      ]
     },
     "metadata": {},
     "output_type": "display_data"
    },
    {
     "data": {
      "text/html": [
       "<div>\n",
       "<style scoped>\n",
       "    .dataframe tbody tr th:only-of-type {\n",
       "        vertical-align: middle;\n",
       "    }\n",
       "\n",
       "    .dataframe tbody tr th {\n",
       "        vertical-align: top;\n",
       "    }\n",
       "\n",
       "    .dataframe thead th {\n",
       "        text-align: right;\n",
       "    }\n",
       "</style>\n",
       "<table border=\"1\" class=\"dataframe\">\n",
       "  <thead>\n",
       "    <tr style=\"text-align: right;\">\n",
       "      <th></th>\n",
       "      <th>0th</th>\n",
       "      <th>1st</th>\n",
       "      <th>2nd</th>\n",
       "      <th>3rd</th>\n",
       "      <th>4th</th>\n",
       "      <th>5th</th>\n",
       "      <th>6th</th>\n",
       "      <th>7th</th>\n",
       "      <th>8th</th>\n",
       "    </tr>\n",
       "  </thead>\n",
       "  <tbody>\n",
       "    <tr>\n",
       "      <th>rho</th>\n",
       "      <td>1.0</td>\n",
       "      <td>0.303537</td>\n",
       "      <td>1.335993</td>\n",
       "      <td>1.241719</td>\n",
       "      <td>0.989414</td>\n",
       "      <td>0.789582</td>\n",
       "      <td>0.583915</td>\n",
       "      <td>0.795860</td>\n",
       "      <td>0.820809</td>\n",
       "    </tr>\n",
       "    <tr>\n",
       "      <th>sigma</th>\n",
       "      <td>1.0</td>\n",
       "      <td>3.034272</td>\n",
       "      <td>3.052511</td>\n",
       "      <td>3.382414</td>\n",
       "      <td>2.911338</td>\n",
       "      <td>4.312564</td>\n",
       "      <td>3.614722</td>\n",
       "      <td>4.131719</td>\n",
       "      <td>3.963258</td>\n",
       "    </tr>\n",
       "  </tbody>\n",
       "</table>\n",
       "</div>"
      ],
      "text/plain": [
       "       0th       1st       2nd       3rd       4th       5th       6th  \\\n",
       "rho    1.0  0.303537  1.335993  1.241719  0.989414  0.789582  0.583915   \n",
       "sigma  1.0  3.034272  3.052511  3.382414  2.911338  4.312564  3.614722   \n",
       "\n",
       "            7th       8th  \n",
       "rho    0.795860  0.820809  \n",
       "sigma  4.131719  3.963258  "
      ]
     },
     "execution_count": 32,
     "metadata": {},
     "output_type": "execute_result"
    }
   ],
   "source": [
    "df = scenario.param_history(targets=[\"rho\", \"sigma\"])\n",
    "df.T"
   ]
  },
  {
   "cell_type": "code",
   "execution_count": 33,
   "metadata": {
    "collapsed": false
   },
   "outputs": [
    {
     "data": {
      "image/png": "[encoded data removed]",
      "text/plain": [
       "<Figure size 648x432 with 1 Axes>"
      ]
     },
     "metadata": {},
     "output_type": "display_data"
    }
   ],
   "source": [
    "# version >= 2.8.0\n",
    "_ = scenario.history(target=\"rho\")"
   ]
  },
  {
   "cell_type": "code",
   "execution_count": 34,
   "metadata": {
    "collapsed": false
   },
   "outputs": [
    {
     "data": {
      "image/png": "[encoded data removed]",
      "text/plain": [
       "<Figure size 648x432 with 1 Axes>"
      ]
     },
     "metadata": {},
     "output_type": "display_data"
    }
   ],
   "source": [
    "# version >= 2.8.0\n",
    "_ = scenario.history(target=\"sigma\")"
   ]
  },
  {
   "cell_type": "markdown",
   "metadata": {},
   "source": [
    "### Show the history of reproduction number"
   ]
  },
  {
   "cell_type": "code",
   "execution_count": 35,
   "metadata": {
    "collapsed": false
   },
   "outputs": [
    {
     "data": {
      "image/png": "[encoded data removed]",
      "text/plain": [
       "<Figure size 648x432 with 1 Axes>"
      ]
     },
     "metadata": {},
     "output_type": "display_data"
    },
    {
     "data": {
      "text/html": [
       "<div>\n",
       "<style scoped>\n",
       "    .dataframe tbody tr th:only-of-type {\n",
       "        vertical-align: middle;\n",
       "    }\n",
       "\n",
       "    .dataframe tbody tr th {\n",
       "        vertical-align: top;\n",
       "    }\n",
       "\n",
       "    .dataframe thead th {\n",
       "        text-align: right;\n",
       "    }\n",
       "</style>\n",
       "<table border=\"1\" class=\"dataframe\">\n",
       "  <thead>\n",
       "    <tr style=\"text-align: right;\">\n",
       "      <th></th>\n",
       "      <th>0th</th>\n",
       "      <th>1st</th>\n",
       "      <th>2nd</th>\n",
       "      <th>3rd</th>\n",
       "      <th>4th</th>\n",
       "      <th>5th</th>\n",
       "      <th>6th</th>\n",
       "      <th>7th</th>\n",
       "      <th>8th</th>\n",
       "    </tr>\n",
       "  </thead>\n",
       "  <tbody>\n",
       "    <tr>\n",
       "      <th>Rt</th>\n",
       "      <td>4.3</td>\n",
       "      <td>0.4</td>\n",
       "      <td>1.93</td>\n",
       "      <td>1.62</td>\n",
       "      <td>1.49</td>\n",
       "      <td>0.8</td>\n",
       "      <td>0.7</td>\n",
       "      <td>0.84</td>\n",
       "      <td>0.91</td>\n",
       "    </tr>\n",
       "  </tbody>\n",
       "</table>\n",
       "</div>"
      ],
      "text/plain": [
       "    0th  1st   2nd   3rd   4th  5th  6th   7th   8th\n",
       "Rt  4.3  0.4  1.93  1.62  1.49  0.8  0.7  0.84  0.91"
      ]
     },
     "execution_count": 35,
     "metadata": {},
     "output_type": "execute_result"
    }
   ],
   "source": [
    "df = scenario.param_history(targets=[\"Rt\"], divide_by_first=False, show_box_plot=True)\n",
    "df.T"
   ]
  },
  {
   "cell_type": "code",
   "execution_count": 36,
   "metadata": {
    "collapsed": false
   },
   "outputs": [
    {
     "data": {
      "image/png": "[encoded data removed]",
      "text/plain": [
       "<Figure size 648x432 with 1 Axes>"
      ]
     },
     "metadata": {},
     "output_type": "display_data"
    }
   ],
   "source": [
    "# version >= 2.8.0\n",
    "_ = scenario.history(target=\"Rt\")"
   ]
  },
  {
   "cell_type": "markdown",
   "metadata": {},
   "source": [
    "### Simulate the number of cases"
   ]
  },
  {
   "cell_type": "code",
   "execution_count": 37,
   "metadata": {
    "collapsed": false
   },
   "outputs": [
    {
     "data": {
      "image/png": "[encoded data removed]",
      "text/plain": [
       "<Figure size 648x432 with 1 Axes>"
      ]
     },
     "metadata": {},
     "output_type": "display_data"
    },
    {
     "data": {
      "text/html": [
       "<div>\n",
       "<style scoped>\n",
       "    .dataframe tbody tr th:only-of-type {\n",
       "        vertical-align: middle;\n",
       "    }\n",
       "\n",
       "    .dataframe tbody tr th {\n",
       "        vertical-align: top;\n",
       "    }\n",
       "\n",
       "    .dataframe thead th {\n",
       "        text-align: right;\n",
       "    }\n",
       "</style>\n",
       "<table border=\"1\" class=\"dataframe\">\n",
       "  <thead>\n",
       "    <tr style=\"text-align: right;\">\n",
       "      <th></th>\n",
       "      <th>Date</th>\n",
       "      <th>Confirmed</th>\n",
       "      <th>Fatal</th>\n",
       "      <th>Infected</th>\n",
       "      <th>Recovered</th>\n",
       "    </tr>\n",
       "  </thead>\n",
       "  <tbody>\n",
       "    <tr>\n",
       "      <th>327</th>\n",
       "      <td>2020-12-29</td>\n",
       "      <td>112698</td>\n",
       "      <td>1928</td>\n",
       "      <td>2449</td>\n",
       "      <td>108321</td>\n",
       "    </tr>\n",
       "    <tr>\n",
       "      <th>328</th>\n",
       "      <td>2020-12-30</td>\n",
       "      <td>112907</td>\n",
       "      <td>1931</td>\n",
       "      <td>2427</td>\n",
       "      <td>108549</td>\n",
       "    </tr>\n",
       "    <tr>\n",
       "      <th>329</th>\n",
       "      <td>2020-12-31</td>\n",
       "      <td>113114</td>\n",
       "      <td>1933</td>\n",
       "      <td>2405</td>\n",
       "      <td>108776</td>\n",
       "    </tr>\n",
       "    <tr>\n",
       "      <th>330</th>\n",
       "      <td>2021-01-01</td>\n",
       "      <td>113320</td>\n",
       "      <td>1936</td>\n",
       "      <td>2384</td>\n",
       "      <td>109000</td>\n",
       "    </tr>\n",
       "    <tr>\n",
       "      <th>331</th>\n",
       "      <td>2021-01-02</td>\n",
       "      <td>113523</td>\n",
       "      <td>1938</td>\n",
       "      <td>2362</td>\n",
       "      <td>109223</td>\n",
       "    </tr>\n",
       "  </tbody>\n",
       "</table>\n",
       "</div>"
      ],
      "text/plain": [
       "          Date  Confirmed  Fatal  Infected  Recovered\n",
       "327 2020-12-29     112698   1928      2449     108321\n",
       "328 2020-12-30     112907   1931      2427     108549\n",
       "329 2020-12-31     113114   1933      2405     108776\n",
       "330 2021-01-01     113320   1936      2384     109000\n",
       "331 2021-01-02     113523   1938      2362     109223"
      ]
     },
     "execution_count": 37,
     "metadata": {},
     "output_type": "execute_result"
    }
   ],
   "source": [
    "scenario.clear(name=\"Main\")\n",
    "scenario.add(end_date=\"01Jan2021\", name=\"Main\")\n",
    "main_sim_df = scenario.simulate(name=\"Main\")\n",
    "main_sim_df.tail()"
   ]
  },
  {
   "cell_type": "markdown",
   "metadata": {},
   "source": [
    "### Simulate another scenario\n",
    "If $\\sigma$ will be double in 30 days, how many cases will be?"
   ]
  },
  {
   "cell_type": "code",
   "execution_count": 38,
   "metadata": {
    "collapsed": false
   },
   "outputs": [
    {
     "data": {
      "text/plain": [
       "0.031252257619225045"
      ]
     },
     "execution_count": 38,
     "metadata": {},
     "output_type": "execute_result"
    }
   ],
   "source": [
    "sigma_current = scenario.get(\"sigma\", name=\"Main\", phase=\"last\")\n",
    "sigma_current"
   ]
  },
  {
   "cell_type": "code",
   "execution_count": 39,
   "metadata": {
    "collapsed": false
   },
   "outputs": [
    {
     "data": {
      "text/plain": [
       "0.06250451523845009"
      ]
     },
     "execution_count": 39,
     "metadata": {},
     "output_type": "execute_result"
    }
   ],
   "source": [
    "sigma_new = sigma_current * 2\n",
    "sigma_new"
   ]
  },
  {
   "cell_type": "code",
   "execution_count": 40,
   "metadata": {
    "collapsed": false
   },
   "outputs": [
    {
     "data": {
      "text/html": [
       "<div>\n",
       "<style scoped>\n",
       "    .dataframe tbody tr th:only-of-type {\n",
       "        vertical-align: middle;\n",
       "    }\n",
       "\n",
       "    .dataframe tbody tr th {\n",
       "        vertical-align: top;\n",
       "    }\n",
       "\n",
       "    .dataframe thead th {\n",
       "        text-align: right;\n",
       "    }\n",
       "</style>\n",
       "<table border=\"1\" class=\"dataframe\">\n",
       "  <thead>\n",
       "    <tr style=\"text-align: right;\">\n",
       "      <th></th>\n",
       "      <th></th>\n",
       "      <th>Type</th>\n",
       "      <th>Start</th>\n",
       "      <th>End</th>\n",
       "      <th>Population</th>\n",
       "      <th>ODE</th>\n",
       "      <th>Rt</th>\n",
       "      <th>theta</th>\n",
       "      <th>kappa</th>\n",
       "      <th>rho</th>\n",
       "      <th>sigma</th>\n",
       "      <th>tau</th>\n",
       "      <th>1/beta [day]</th>\n",
       "      <th>alpha1 [-]</th>\n",
       "      <th>1/alpha2 [day]</th>\n",
       "      <th>1/gamma [day]</th>\n",
       "      <th>RMSLE</th>\n",
       "      <th>Trials</th>\n",
       "      <th>Runtime</th>\n",
       "    </tr>\n",
       "    <tr>\n",
       "      <th>Scenario</th>\n",
       "      <th>Phase</th>\n",
       "      <th></th>\n",
       "      <th></th>\n",
       "      <th></th>\n",
       "      <th></th>\n",
       "      <th></th>\n",
       "      <th></th>\n",
       "      <th></th>\n",
       "      <th></th>\n",
       "      <th></th>\n",
       "      <th></th>\n",
       "      <th></th>\n",
       "      <th></th>\n",
       "      <th></th>\n",
       "      <th></th>\n",
       "      <th></th>\n",
       "      <th></th>\n",
       "      <th></th>\n",
       "      <th></th>\n",
       "    </tr>\n",
       "  </thead>\n",
       "  <tbody>\n",
       "    <tr>\n",
       "      <th rowspan=\"10\" valign=\"top\">Main</th>\n",
       "      <th>0th</th>\n",
       "      <td>Past</td>\n",
       "      <td>06Feb2020</td>\n",
       "      <td>21Apr2020</td>\n",
       "      <td>126529100</td>\n",
       "      <td>SIR-F</td>\n",
       "      <td>4.30</td>\n",
       "      <td>0.019837</td>\n",
       "      <td>0.000066</td>\n",
       "      <td>0.034879</td>\n",
       "      <td>0.007885</td>\n",
       "      <td>480</td>\n",
       "      <td>9</td>\n",
       "      <td>0.020</td>\n",
       "      <td>5064</td>\n",
       "      <td>42</td>\n",
       "      <td>0.948305</td>\n",
       "      <td>1860</td>\n",
       "      <td>1 min  0 sec</td>\n",
       "    </tr>\n",
       "    <tr>\n",
       "      <th>1st</th>\n",
       "      <td>Past</td>\n",
       "      <td>22Apr2020</td>\n",
       "      <td>05Jul2020</td>\n",
       "      <td>126529100</td>\n",
       "      <td>SIR-F</td>\n",
       "      <td>0.40</td>\n",
       "      <td>0.093757</td>\n",
       "      <td>0.000142</td>\n",
       "      <td>0.010587</td>\n",
       "      <td>0.023927</td>\n",
       "      <td>480</td>\n",
       "      <td>31</td>\n",
       "      <td>0.094</td>\n",
       "      <td>2343</td>\n",
       "      <td>13</td>\n",
       "      <td>0.955179</td>\n",
       "      <td>1883</td>\n",
       "      <td>1 min  0 sec</td>\n",
       "    </tr>\n",
       "    <tr>\n",
       "      <th>2nd</th>\n",
       "      <td>Past</td>\n",
       "      <td>06Jul2020</td>\n",
       "      <td>24Jul2020</td>\n",
       "      <td>126529100</td>\n",
       "      <td>SIR-F</td>\n",
       "      <td>1.93</td>\n",
       "      <td>0.000938</td>\n",
       "      <td>0.000031</td>\n",
       "      <td>0.046598</td>\n",
       "      <td>0.024071</td>\n",
       "      <td>480</td>\n",
       "      <td>7</td>\n",
       "      <td>0.001</td>\n",
       "      <td>10658</td>\n",
       "      <td>13</td>\n",
       "      <td>0.0319437</td>\n",
       "      <td>1172</td>\n",
       "      <td>0 min 30 sec</td>\n",
       "    </tr>\n",
       "    <tr>\n",
       "      <th>3rd</th>\n",
       "      <td>Past</td>\n",
       "      <td>25Jul2020</td>\n",
       "      <td>01Aug2020</td>\n",
       "      <td>126529100</td>\n",
       "      <td>SIR-F</td>\n",
       "      <td>1.62</td>\n",
       "      <td>0.000454</td>\n",
       "      <td>0.000084</td>\n",
       "      <td>0.043310</td>\n",
       "      <td>0.026672</td>\n",
       "      <td>480</td>\n",
       "      <td>7</td>\n",
       "      <td>0.000</td>\n",
       "      <td>3970</td>\n",
       "      <td>12</td>\n",
       "      <td>0.0163058</td>\n",
       "      <td>1965</td>\n",
       "      <td>1 min  0 sec</td>\n",
       "    </tr>\n",
       "    <tr>\n",
       "      <th>4th</th>\n",
       "      <td>Past</td>\n",
       "      <td>02Aug2020</td>\n",
       "      <td>14Aug2020</td>\n",
       "      <td>126529100</td>\n",
       "      <td>SIR-F</td>\n",
       "      <td>1.49</td>\n",
       "      <td>0.000235</td>\n",
       "      <td>0.000131</td>\n",
       "      <td>0.034510</td>\n",
       "      <td>0.022957</td>\n",
       "      <td>480</td>\n",
       "      <td>9</td>\n",
       "      <td>0.000</td>\n",
       "      <td>2544</td>\n",
       "      <td>14</td>\n",
       "      <td>0.0643374</td>\n",
       "      <td>1959</td>\n",
       "      <td>1 min  0 sec</td>\n",
       "    </tr>\n",
       "    <tr>\n",
       "      <th>5th</th>\n",
       "      <td>Past</td>\n",
       "      <td>15Aug2020</td>\n",
       "      <td>29Aug2020</td>\n",
       "      <td>126529100</td>\n",
       "      <td>SIR-F</td>\n",
       "      <td>0.80</td>\n",
       "      <td>0.000530</td>\n",
       "      <td>0.000290</td>\n",
       "      <td>0.027540</td>\n",
       "      <td>0.034007</td>\n",
       "      <td>480</td>\n",
       "      <td>12</td>\n",
       "      <td>0.001</td>\n",
       "      <td>1150</td>\n",
       "      <td>9</td>\n",
       "      <td>0.0265116</td>\n",
       "      <td>1693</td>\n",
       "      <td>0 min 50 sec</td>\n",
       "    </tr>\n",
       "    <tr>\n",
       "      <th>6th</th>\n",
       "      <td>Past</td>\n",
       "      <td>30Aug2020</td>\n",
       "      <td>08Sep2020</td>\n",
       "      <td>126529100</td>\n",
       "      <td>SIR-F</td>\n",
       "      <td>0.70</td>\n",
       "      <td>0.016500</td>\n",
       "      <td>0.000191</td>\n",
       "      <td>0.020366</td>\n",
       "      <td>0.028504</td>\n",
       "      <td>480</td>\n",
       "      <td>16</td>\n",
       "      <td>0.017</td>\n",
       "      <td>1740</td>\n",
       "      <td>11</td>\n",
       "      <td>0.0148997</td>\n",
       "      <td>253</td>\n",
       "      <td>0 min  5 sec</td>\n",
       "    </tr>\n",
       "    <tr>\n",
       "      <th>7th</th>\n",
       "      <td>Past</td>\n",
       "      <td>09Sep2020</td>\n",
       "      <td>18Sep2020</td>\n",
       "      <td>126529100</td>\n",
       "      <td>SIR-F</td>\n",
       "      <td>0.84</td>\n",
       "      <td>0.017280</td>\n",
       "      <td>0.000005</td>\n",
       "      <td>0.027759</td>\n",
       "      <td>0.032581</td>\n",
       "      <td>480</td>\n",
       "      <td>12</td>\n",
       "      <td>0.017</td>\n",
       "      <td>73093</td>\n",
       "      <td>10</td>\n",
       "      <td>0.0134778</td>\n",
       "      <td>461</td>\n",
       "      <td>0 min 10 sec</td>\n",
       "    </tr>\n",
       "    <tr>\n",
       "      <th>8th</th>\n",
       "      <td>Past</td>\n",
       "      <td>19Sep2020</td>\n",
       "      <td>02Oct2020</td>\n",
       "      <td>126529100</td>\n",
       "      <td>SIR-F</td>\n",
       "      <td>0.91</td>\n",
       "      <td>0.000096</td>\n",
       "      <td>0.000355</td>\n",
       "      <td>0.028629</td>\n",
       "      <td>0.031252</td>\n",
       "      <td>480</td>\n",
       "      <td>11</td>\n",
       "      <td>0.000</td>\n",
       "      <td>939</td>\n",
       "      <td>10</td>\n",
       "      <td>0.0300469</td>\n",
       "      <td>1737</td>\n",
       "      <td>1 min  0 sec</td>\n",
       "    </tr>\n",
       "    <tr>\n",
       "      <th>9th</th>\n",
       "      <td>Future</td>\n",
       "      <td>03Oct2020</td>\n",
       "      <td>01Jan2021</td>\n",
       "      <td>126529100</td>\n",
       "      <td>SIR-F</td>\n",
       "      <td>0.91</td>\n",
       "      <td>0.000096</td>\n",
       "      <td>0.000355</td>\n",
       "      <td>0.028629</td>\n",
       "      <td>0.031252</td>\n",
       "      <td>480</td>\n",
       "      <td>11</td>\n",
       "      <td>0.000</td>\n",
       "      <td>939</td>\n",
       "      <td>10</td>\n",
       "      <td>-</td>\n",
       "      <td>-</td>\n",
       "      <td>-</td>\n",
       "    </tr>\n",
       "    <tr>\n",
       "      <th rowspan=\"11\" valign=\"top\">Medicine</th>\n",
       "      <th>0th</th>\n",
       "      <td>Past</td>\n",
       "      <td>06Feb2020</td>\n",
       "      <td>21Apr2020</td>\n",
       "      <td>126529100</td>\n",
       "      <td>SIR-F</td>\n",
       "      <td>4.30</td>\n",
       "      <td>0.019837</td>\n",
       "      <td>0.000066</td>\n",
       "      <td>0.034879</td>\n",
       "      <td>0.007885</td>\n",
       "      <td>480</td>\n",
       "      <td>9</td>\n",
       "      <td>0.020</td>\n",
       "      <td>5064</td>\n",
       "      <td>42</td>\n",
       "      <td>0.948305</td>\n",
       "      <td>1860</td>\n",
       "      <td>1 min  0 sec</td>\n",
       "    </tr>\n",
       "    <tr>\n",
       "      <th>1st</th>\n",
       "      <td>Past</td>\n",
       "      <td>22Apr2020</td>\n",
       "      <td>05Jul2020</td>\n",
       "      <td>126529100</td>\n",
       "      <td>SIR-F</td>\n",
       "      <td>0.40</td>\n",
       "      <td>0.093757</td>\n",
       "      <td>0.000142</td>\n",
       "      <td>0.010587</td>\n",
       "      <td>0.023927</td>\n",
       "      <td>480</td>\n",
       "      <td>31</td>\n",
       "      <td>0.094</td>\n",
       "      <td>2343</td>\n",
       "      <td>13</td>\n",
       "      <td>0.955179</td>\n",
       "      <td>1883</td>\n",
       "      <td>1 min  0 sec</td>\n",
       "    </tr>\n",
       "    <tr>\n",
       "      <th>2nd</th>\n",
       "      <td>Past</td>\n",
       "      <td>06Jul2020</td>\n",
       "      <td>24Jul2020</td>\n",
       "      <td>126529100</td>\n",
       "      <td>SIR-F</td>\n",
       "      <td>1.93</td>\n",
       "      <td>0.000938</td>\n",
       "      <td>0.000031</td>\n",
       "      <td>0.046598</td>\n",
       "      <td>0.024071</td>\n",
       "      <td>480</td>\n",
       "      <td>7</td>\n",
       "      <td>0.001</td>\n",
       "      <td>10658</td>\n",
       "      <td>13</td>\n",
       "      <td>0.0319437</td>\n",
       "      <td>1172</td>\n",
       "      <td>0 min 30 sec</td>\n",
       "    </tr>\n",
       "    <tr>\n",
       "      <th>3rd</th>\n",
       "      <td>Past</td>\n",
       "      <td>25Jul2020</td>\n",
       "      <td>01Aug2020</td>\n",
       "      <td>126529100</td>\n",
       "      <td>SIR-F</td>\n",
       "      <td>1.62</td>\n",
       "      <td>0.000454</td>\n",
       "      <td>0.000084</td>\n",
       "      <td>0.043310</td>\n",
       "      <td>0.026672</td>\n",
       "      <td>480</td>\n",
       "      <td>7</td>\n",
       "      <td>0.000</td>\n",
       "      <td>3970</td>\n",
       "      <td>12</td>\n",
       "      <td>0.0163058</td>\n",
       "      <td>1965</td>\n",
       "      <td>1 min  0 sec</td>\n",
       "    </tr>\n",
       "    <tr>\n",
       "      <th>4th</th>\n",
       "      <td>Past</td>\n",
       "      <td>02Aug2020</td>\n",
       "      <td>14Aug2020</td>\n",
       "      <td>126529100</td>\n",
       "      <td>SIR-F</td>\n",
       "      <td>1.49</td>\n",
       "      <td>0.000235</td>\n",
       "      <td>0.000131</td>\n",
       "      <td>0.034510</td>\n",
       "      <td>0.022957</td>\n",
       "      <td>480</td>\n",
       "      <td>9</td>\n",
       "      <td>0.000</td>\n",
       "      <td>2544</td>\n",
       "      <td>14</td>\n",
       "      <td>0.0643374</td>\n",
       "      <td>1959</td>\n",
       "      <td>1 min  0 sec</td>\n",
       "    </tr>\n",
       "    <tr>\n",
       "      <th>5th</th>\n",
       "      <td>Past</td>\n",
       "      <td>15Aug2020</td>\n",
       "      <td>29Aug2020</td>\n",
       "      <td>126529100</td>\n",
       "      <td>SIR-F</td>\n",
       "      <td>0.80</td>\n",
       "      <td>0.000530</td>\n",
       "      <td>0.000290</td>\n",
       "      <td>0.027540</td>\n",
       "      <td>0.034007</td>\n",
       "      <td>480</td>\n",
       "      <td>12</td>\n",
       "      <td>0.001</td>\n",
       "      <td>1150</td>\n",
       "      <td>9</td>\n",
       "      <td>0.0265116</td>\n",
       "      <td>1693</td>\n",
       "      <td>0 min 50 sec</td>\n",
       "    </tr>\n",
       "    <tr>\n",
       "      <th>6th</th>\n",
       "      <td>Past</td>\n",
       "      <td>30Aug2020</td>\n",
       "      <td>08Sep2020</td>\n",
       "      <td>126529100</td>\n",
       "      <td>SIR-F</td>\n",
       "      <td>0.70</td>\n",
       "      <td>0.016500</td>\n",
       "      <td>0.000191</td>\n",
       "      <td>0.020366</td>\n",
       "      <td>0.028504</td>\n",
       "      <td>480</td>\n",
       "      <td>16</td>\n",
       "      <td>0.017</td>\n",
       "      <td>1740</td>\n",
       "      <td>11</td>\n",
       "      <td>0.0148997</td>\n",
       "      <td>253</td>\n",
       "      <td>0 min  5 sec</td>\n",
       "    </tr>\n",
       "    <tr>\n",
       "      <th>7th</th>\n",
       "      <td>Past</td>\n",
       "      <td>09Sep2020</td>\n",
       "      <td>18Sep2020</td>\n",
       "      <td>126529100</td>\n",
       "      <td>SIR-F</td>\n",
       "      <td>0.84</td>\n",
       "      <td>0.017280</td>\n",
       "      <td>0.000005</td>\n",
       "      <td>0.027759</td>\n",
       "      <td>0.032581</td>\n",
       "      <td>480</td>\n",
       "      <td>12</td>\n",
       "      <td>0.017</td>\n",
       "      <td>73093</td>\n",
       "      <td>10</td>\n",
       "      <td>0.0134778</td>\n",
       "      <td>461</td>\n",
       "      <td>0 min 10 sec</td>\n",
       "    </tr>\n",
       "    <tr>\n",
       "      <th>8th</th>\n",
       "      <td>Past</td>\n",
       "      <td>19Sep2020</td>\n",
       "      <td>02Oct2020</td>\n",
       "      <td>126529100</td>\n",
       "      <td>SIR-F</td>\n",
       "      <td>0.91</td>\n",
       "      <td>0.000096</td>\n",
       "      <td>0.000355</td>\n",
       "      <td>0.028629</td>\n",
       "      <td>0.031252</td>\n",
       "      <td>480</td>\n",
       "      <td>11</td>\n",
       "      <td>0.000</td>\n",
       "      <td>939</td>\n",
       "      <td>10</td>\n",
       "      <td>0.0300469</td>\n",
       "      <td>1737</td>\n",
       "      <td>1 min  0 sec</td>\n",
       "    </tr>\n",
       "    <tr>\n",
       "      <th>9th</th>\n",
       "      <td>Future</td>\n",
       "      <td>03Oct2020</td>\n",
       "      <td>01Nov2020</td>\n",
       "      <td>126529100</td>\n",
       "      <td>SIR-F</td>\n",
       "      <td>0.91</td>\n",
       "      <td>0.000096</td>\n",
       "      <td>0.000355</td>\n",
       "      <td>0.028629</td>\n",
       "      <td>0.031252</td>\n",
       "      <td>480</td>\n",
       "      <td>11</td>\n",
       "      <td>0.000</td>\n",
       "      <td>939</td>\n",
       "      <td>10</td>\n",
       "      <td>-</td>\n",
       "      <td>-</td>\n",
       "      <td>-</td>\n",
       "    </tr>\n",
       "    <tr>\n",
       "      <th>10th</th>\n",
       "      <td>Future</td>\n",
       "      <td>02Nov2020</td>\n",
       "      <td>01Jan2021</td>\n",
       "      <td>126529100</td>\n",
       "      <td>SIR-F</td>\n",
       "      <td>0.46</td>\n",
       "      <td>0.000096</td>\n",
       "      <td>0.000355</td>\n",
       "      <td>0.028629</td>\n",
       "      <td>0.062505</td>\n",
       "      <td>480</td>\n",
       "      <td>11</td>\n",
       "      <td>0.000</td>\n",
       "      <td>939</td>\n",
       "      <td>5</td>\n",
       "      <td>-</td>\n",
       "      <td>-</td>\n",
       "      <td>-</td>\n",
       "    </tr>\n",
       "  </tbody>\n",
       "</table>\n",
       "</div>"
      ],
      "text/plain": [
       "                  Type      Start        End  Population    ODE    Rt  \\\n",
       "Scenario Phase                                                          \n",
       "Main     0th      Past  06Feb2020  21Apr2020   126529100  SIR-F  4.30   \n",
       "         1st      Past  22Apr2020  05Jul2020   126529100  SIR-F  0.40   \n",
       "         2nd      Past  06Jul2020  24Jul2020   126529100  SIR-F  1.93   \n",
       "         3rd      Past  25Jul2020  01Aug2020   126529100  SIR-F  1.62   \n",
       "         4th      Past  02Aug2020  14Aug2020   126529100  SIR-F  1.49   \n",
       "         5th      Past  15Aug2020  29Aug2020   126529100  SIR-F  0.80   \n",
       "         6th      Past  30Aug2020  08Sep2020   126529100  SIR-F  0.70   \n",
       "         7th      Past  09Sep2020  18Sep2020   126529100  SIR-F  0.84   \n",
       "         8th      Past  19Sep2020  02Oct2020   126529100  SIR-F  0.91   \n",
       "         9th    Future  03Oct2020  01Jan2021   126529100  SIR-F  0.91   \n",
       "Medicine 0th      Past  06Feb2020  21Apr2020   126529100  SIR-F  4.30   \n",
       "         1st      Past  22Apr2020  05Jul2020   126529100  SIR-F  0.40   \n",
       "         2nd      Past  06Jul2020  24Jul2020   126529100  SIR-F  1.93   \n",
       "         3rd      Past  25Jul2020  01Aug2020   126529100  SIR-F  1.62   \n",
       "         4th      Past  02Aug2020  14Aug2020   126529100  SIR-F  1.49   \n",
       "         5th      Past  15Aug2020  29Aug2020   126529100  SIR-F  0.80   \n",
       "         6th      Past  30Aug2020  08Sep2020   126529100  SIR-F  0.70   \n",
       "         7th      Past  09Sep2020  18Sep2020   126529100  SIR-F  0.84   \n",
       "         8th      Past  19Sep2020  02Oct2020   126529100  SIR-F  0.91   \n",
       "         9th    Future  03Oct2020  01Nov2020   126529100  SIR-F  0.91   \n",
       "         10th   Future  02Nov2020  01Jan2021   126529100  SIR-F  0.46   \n",
       "\n",
       "                   theta     kappa       rho     sigma  tau  1/beta [day]  \\\n",
       "Scenario Phase                                                              \n",
       "Main     0th    0.019837  0.000066  0.034879  0.007885  480             9   \n",
       "         1st    0.093757  0.000142  0.010587  0.023927  480            31   \n",
       "         2nd    0.000938  0.000031  0.046598  0.024071  480             7   \n",
       "         3rd    0.000454  0.000084  0.043310  0.026672  480             7   \n",
       "         4th    0.000235  0.000131  0.034510  0.022957  480             9   \n",
       "         5th    0.000530  0.000290  0.027540  0.034007  480            12   \n",
       "         6th    0.016500  0.000191  0.020366  0.028504  480            16   \n",
       "         7th    0.017280  0.000005  0.027759  0.032581  480            12   \n",
       "         8th    0.000096  0.000355  0.028629  0.031252  480            11   \n",
       "         9th    0.000096  0.000355  0.028629  0.031252  480            11   \n",
       "Medicine 0th    0.019837  0.000066  0.034879  0.007885  480             9   \n",
       "         1st    0.093757  0.000142  0.010587  0.023927  480            31   \n",
       "         2nd    0.000938  0.000031  0.046598  0.024071  480             7   \n",
       "         3rd    0.000454  0.000084  0.043310  0.026672  480             7   \n",
       "         4th    0.000235  0.000131  0.034510  0.022957  480             9   \n",
       "         5th    0.000530  0.000290  0.027540  0.034007  480            12   \n",
       "         6th    0.016500  0.000191  0.020366  0.028504  480            16   \n",
       "         7th    0.017280  0.000005  0.027759  0.032581  480            12   \n",
       "         8th    0.000096  0.000355  0.028629  0.031252  480            11   \n",
       "         9th    0.000096  0.000355  0.028629  0.031252  480            11   \n",
       "         10th   0.000096  0.000355  0.028629  0.062505  480            11   \n",
       "\n",
       "                alpha1 [-]  1/alpha2 [day]  1/gamma [day]      RMSLE Trials  \\\n",
       "Scenario Phase                                                                \n",
       "Main     0th         0.020            5064             42   0.948305   1860   \n",
       "         1st         0.094            2343             13   0.955179   1883   \n",
       "         2nd         0.001           10658             13  0.0319437   1172   \n",
       "         3rd         0.000            3970             12  0.0163058   1965   \n",
       "         4th         0.000            2544             14  0.0643374   1959   \n",
       "         5th         0.001            1150              9  0.0265116   1693   \n",
       "         6th         0.017            1740             11  0.0148997    253   \n",
       "         7th         0.017           73093             10  0.0134778    461   \n",
       "         8th         0.000             939             10  0.0300469   1737   \n",
       "         9th         0.000             939             10          -      -   \n",
       "Medicine 0th         0.020            5064             42   0.948305   1860   \n",
       "         1st         0.094            2343             13   0.955179   1883   \n",
       "         2nd         0.001           10658             13  0.0319437   1172   \n",
       "         3rd         0.000            3970             12  0.0163058   1965   \n",
       "         4th         0.000            2544             14  0.0643374   1959   \n",
       "         5th         0.001            1150              9  0.0265116   1693   \n",
       "         6th         0.017            1740             11  0.0148997    253   \n",
       "         7th         0.017           73093             10  0.0134778    461   \n",
       "         8th         0.000             939             10  0.0300469   1737   \n",
       "         9th         0.000             939             10          -      -   \n",
       "         10th        0.000             939              5          -      -   \n",
       "\n",
       "                     Runtime  \n",
       "Scenario Phase                \n",
       "Main     0th    1 min  0 sec  \n",
       "         1st    1 min  0 sec  \n",
       "         2nd    0 min 30 sec  \n",
       "         3rd    1 min  0 sec  \n",
       "         4th    1 min  0 sec  \n",
       "         5th    0 min 50 sec  \n",
       "         6th    0 min  5 sec  \n",
       "         7th    0 min 10 sec  \n",
       "         8th    1 min  0 sec  \n",
       "         9th               -  \n",
       "Medicine 0th    1 min  0 sec  \n",
       "         1st    1 min  0 sec  \n",
       "         2nd    0 min 30 sec  \n",
       "         3rd    1 min  0 sec  \n",
       "         4th    1 min  0 sec  \n",
       "         5th    0 min 50 sec  \n",
       "         6th    0 min  5 sec  \n",
       "         7th    0 min 10 sec  \n",
       "         8th    1 min  0 sec  \n",
       "         9th               -  \n",
       "         10th              -  "
      ]
     },
     "execution_count": 40,
     "metadata": {},
     "output_type": "execute_result"
    }
   ],
   "source": [
    "scenario.clear(name=\"Medicine\")\n",
    "scenario.add(name=\"Medicine\", days=30, sigma=sigma_current)\n",
    "scenario.add(name=\"Medicine\", end_date=\"01Jan2021\", sigma=sigma_new)\n",
    "scenario.summary()"
   ]
  },
  {
   "cell_type": "code",
   "execution_count": 41,
   "metadata": {
    "collapsed": false
   },
   "outputs": [
    {
     "data": {
      "image/png": "[encoded data removed]",
      "text/plain": [
       "<Figure size 648x432 with 1 Axes>"
      ]
     },
     "metadata": {},
     "output_type": "display_data"
    },
    {
     "data": {
      "text/html": [
       "<div>\n",
       "<style scoped>\n",
       "    .dataframe tbody tr th:only-of-type {\n",
       "        vertical-align: middle;\n",
       "    }\n",
       "\n",
       "    .dataframe tbody tr th {\n",
       "        vertical-align: top;\n",
       "    }\n",
       "\n",
       "    .dataframe thead th {\n",
       "        text-align: right;\n",
       "    }\n",
       "</style>\n",
       "<table border=\"1\" class=\"dataframe\">\n",
       "  <thead>\n",
       "    <tr style=\"text-align: right;\">\n",
       "      <th></th>\n",
       "      <th>Date</th>\n",
       "      <th>Confirmed</th>\n",
       "      <th>Fatal</th>\n",
       "      <th>Infected</th>\n",
       "      <th>Recovered</th>\n",
       "    </tr>\n",
       "  </thead>\n",
       "  <tbody>\n",
       "    <tr>\n",
       "      <th>327</th>\n",
       "      <td>2020-12-29</td>\n",
       "      <td>100450</td>\n",
       "      <td>1775</td>\n",
       "      <td>12</td>\n",
       "      <td>98663</td>\n",
       "    </tr>\n",
       "    <tr>\n",
       "      <th>328</th>\n",
       "      <td>2020-12-30</td>\n",
       "      <td>100451</td>\n",
       "      <td>1775</td>\n",
       "      <td>11</td>\n",
       "      <td>98665</td>\n",
       "    </tr>\n",
       "    <tr>\n",
       "      <th>329</th>\n",
       "      <td>2020-12-31</td>\n",
       "      <td>100452</td>\n",
       "      <td>1775</td>\n",
       "      <td>10</td>\n",
       "      <td>98667</td>\n",
       "    </tr>\n",
       "    <tr>\n",
       "      <th>330</th>\n",
       "      <td>2021-01-01</td>\n",
       "      <td>100453</td>\n",
       "      <td>1775</td>\n",
       "      <td>9</td>\n",
       "      <td>98669</td>\n",
       "    </tr>\n",
       "    <tr>\n",
       "      <th>331</th>\n",
       "      <td>2021-01-02</td>\n",
       "      <td>100453</td>\n",
       "      <td>1775</td>\n",
       "      <td>8</td>\n",
       "      <td>98670</td>\n",
       "    </tr>\n",
       "  </tbody>\n",
       "</table>\n",
       "</div>"
      ],
      "text/plain": [
       "          Date  Confirmed  Fatal  Infected  Recovered\n",
       "327 2020-12-29     100450   1775        12      98663\n",
       "328 2020-12-30     100451   1775        11      98665\n",
       "329 2020-12-31     100452   1775        10      98667\n",
       "330 2021-01-01     100453   1775         9      98669\n",
       "331 2021-01-02     100453   1775         8      98670"
      ]
     },
     "execution_count": 41,
     "metadata": {},
     "output_type": "execute_result"
    }
   ],
   "source": [
    "scenario.simulate(name=\"Medicine\").tail()"
   ]
  },
  {
   "cell_type": "markdown",
   "metadata": {},
   "source": [
    "### Compare the scenarios"
   ]
  },
  {
   "cell_type": "code",
   "execution_count": 42,
   "metadata": {
    "collapsed": false
   },
   "outputs": [
    {
     "data": {
      "text/html": [
       "<div>\n",
       "<style scoped>\n",
       "    .dataframe tbody tr th:only-of-type {\n",
       "        vertical-align: middle;\n",
       "    }\n",
       "\n",
       "    .dataframe tbody tr th {\n",
       "        vertical-align: top;\n",
       "    }\n",
       "\n",
       "    .dataframe thead th {\n",
       "        text-align: right;\n",
       "    }\n",
       "</style>\n",
       "<table border=\"1\" class=\"dataframe\">\n",
       "  <thead>\n",
       "    <tr style=\"text-align: right;\">\n",
       "      <th></th>\n",
       "      <th>max(Infected)</th>\n",
       "      <th>argmax(Infected)</th>\n",
       "      <th>Infected on 02Jan2021</th>\n",
       "      <th>Fatal on 02Jan2021</th>\n",
       "      <th>10th_Rt</th>\n",
       "    </tr>\n",
       "  </thead>\n",
       "  <tbody>\n",
       "    <tr>\n",
       "      <th>Main</th>\n",
       "      <td>14731</td>\n",
       "      <td>14Aug2020</td>\n",
       "      <td>2362</td>\n",
       "      <td>1938</td>\n",
       "      <td>-</td>\n",
       "    </tr>\n",
       "    <tr>\n",
       "      <th>Medicine</th>\n",
       "      <td>14731</td>\n",
       "      <td>14Aug2020</td>\n",
       "      <td>8</td>\n",
       "      <td>1775</td>\n",
       "      <td>0.46</td>\n",
       "    </tr>\n",
       "  </tbody>\n",
       "</table>\n",
       "</div>"
      ],
      "text/plain": [
       "          max(Infected) argmax(Infected)  Infected on 02Jan2021  \\\n",
       "Main              14731        14Aug2020                   2362   \n",
       "Medicine          14731        14Aug2020                      8   \n",
       "\n",
       "          Fatal on 02Jan2021 10th_Rt  \n",
       "Main                    1938       -  \n",
       "Medicine                1775    0.46  "
      ]
     },
     "execution_count": 42,
     "metadata": {},
     "output_type": "execute_result"
    }
   ],
   "source": [
    "scenario.describe()"
   ]
  },
  {
   "cell_type": "code",
   "execution_count": 43,
   "metadata": {
    "collapsed": false
   },
   "outputs": [
    {
     "data": {
      "image/png": "[encoded data removed]",
      "text/plain": [
       "<Figure size 648x432 with 1 Axes>"
      ]
     },
     "metadata": {},
     "output_type": "display_data"
    }
   ],
   "source": [
    "# version >= 2.8.0\n",
    "_ = scenario.history(target=\"Rt\")"
   ]
  },
  {
   "cell_type": "code",
   "execution_count": 44,
   "metadata": {
    "collapsed": false
   },
   "outputs": [
    {
     "data": {
      "image/png": "[encoded data removed]",
      "text/plain": [
       "<Figure size 648x432 with 1 Axes>"
      ]
     },
     "metadata": {},
     "output_type": "display_data"
    }
   ],
   "source": [
    "# version >= 2.8.0\n",
    "_ = scenario.history(target=\"rho\")"
   ]
  },
  {
   "cell_type": "code",
   "execution_count": 45,
   "metadata": {
    "collapsed": false
   },
   "outputs": [
    {
     "data": {
      "image/png": "[encoded data removed]",
      "text/plain": [
       "<Figure size 648x432 with 1 Axes>"
      ]
     },
     "metadata": {},
     "output_type": "display_data"
    }
   ],
   "source": [
    "# version >= 2.8.0\n",
    "_ = scenario.history(target=\"sigma\")"
   ]
  },
  {
   "cell_type": "code",
   "execution_count": 46,
   "metadata": {
    "collapsed": false
   },
   "outputs": [
    {
     "data": {
      "image/png": "[encoded data removed]",
      "text/plain": [
       "<Figure size 648x432 with 1 Axes>"
      ]
     },
     "metadata": {},
     "output_type": "display_data"
    }
   ],
   "source": [
    "# version >= 2.8.0\n",
    "_ = scenario.history(target=\"Infected\")"
   ]
  }
 ],
 "metadata": {
  "kernelspec": {
   "display_name": "Python 3.8.2 64-bit ('covid19-sir': pipenv)",
   "name": "python_defaultSpec_1597313350107"
  },
  "language_info": {
   "codemirror_mode": {
    "name": "ipython",
    "version": 3
   },
   "file_extension": ".py",
   "mimetype": "text/x-python",
   "name": "python",
   "nbconvert_exporter": "python",
   "pygments_lexer": "ipython3",
   "version": 3
  }
 },
 "nbformat": 4,
 "nbformat_minor": 4
}
