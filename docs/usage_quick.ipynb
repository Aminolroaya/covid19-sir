{
 "cells": [
  {
   "cell_type": "markdown",
   "metadata": {},
   "source": [
    "# Usage (quick version)"
   ]
  },
  {
   "cell_type": "markdown",
   "metadata": {},
   "source": [
    "## Preparation"
   ]
  },
  {
   "cell_type": "code",
   "execution_count": 1,
   "metadata": {
    "collapsed": false
   },
   "outputs": [],
   "source": [
    "# Standard users\n",
    "# !pip install covsirphy\n",
    "# Developers (Note: this notebook is in example directory)\n",
    "import os\n",
    "os.chdir(\"../\")"
   ]
  },
  {
   "cell_type": "code",
   "execution_count": 2,
   "metadata": {
    "collapsed": false
   },
   "outputs": [],
   "source": [
    "import warnings"
   ]
  },
  {
   "cell_type": "code",
   "execution_count": 3,
   "metadata": {
    "collapsed": false,
    "tags": []
   },
   "outputs": [
    {
     "data": {
      "text/plain": [
       "'2.8.2'"
      ]
     },
     "execution_count": 3,
     "metadata": {},
     "output_type": "execute_result"
    }
   ],
   "source": [
    "import covsirphy as cs\n",
    "cs.__version__"
   ]
  },
  {
   "cell_type": "markdown",
   "metadata": {},
   "source": [
    "## Dataset preparation\n",
    "Download the datasets to \"input\" direcotry and load them.\n",
    "\n",
    "If \"input\" directory has the datasets, `DataLoader` will load the local files. If the datasets were updated in remote servers, `DataLoader` will update the local files automatically.\n",
    "Download the datasets to \"input\" direcotry and load them.\n",
    "\n",
    "If \"input\" directory has the datasets, `DataLoader` will load the local files. If the datasets were updated in remote servers, `DataLoader` will update the local files automatically."
   ]
  },
  {
   "cell_type": "code",
   "execution_count": 4,
   "metadata": {
    "collapsed": false,
    "tags": []
   },
   "outputs": [
    {
     "name": "stdout",
     "output_type": "stream",
     "text": [
      "Retrieving datasets from COVID-19 Data Hub: https://covid19datahub.io/"
     ]
    },
    {
     "name": "stdout",
     "output_type": "stream",
     "text": [
      "\n"
     ]
    },
    {
     "name": "stdout",
     "output_type": "stream",
     "text": [
      "\n",
      "Detailed citaition list:"
     ]
    },
    {
     "name": "stdout",
     "output_type": "stream",
     "text": [
      "\n"
     ]
    },
    {
     "name": "stdout",
     "output_type": "stream",
     "text": [
      "Open Government Data, United Kingdom (2020), https://coronavirus.data.gov.uk\n",
      "World Health Organization (2020), https://covid19.who.int\n",
      "The COVID Tracking Project (2020), https://covidtracking.com\n",
      "Ministry of Health of Croatia (2020), https://data.gov.hr/dataset/koronavirus/resource/08fab529-ebba-46c7-be79-05782ddb02ef\n",
      "Open Government Data, Latvia (2020), https://data.gov.lv/dati/dataset\n",
      "Wikipedia (2020), https://en.wikipedia.org/wiki\n",
      "Epistat, Belgian Infectious Diseases (2020), https://epistat.sciensano.be\n",
      "Johns Hopkins Center for Systems Science and Engineering (2020), https://github.com/CSSEGISandData/COVID-19\n",
      "Covid19data.com.au (2020), https://github.com/M3IT/COVID-19_Data\n",
      "Data Science for Social Impact research group, University of Pretoria (2020), https://github.com/dsfsi/covid19za\n",
      "COVID-19_plus_Russia GitHub repository (2020), https://github.com/grwlf/COVID-19_plus_Russia\n",
      "COVID-19 Peru Data Repository (2020), https://github.com/jmcastagnetto/covid-19-peru-data\n",
      "Twitter Web Scraper for Polish Ministery of Health (2020), https://github.com/martinbenes1996/covid19poland\n",
      "The New York Times (2020), https://github.com/nytimes/covid-19-data\n",
      "Open Government Data, Liechtenstein (2020), https://github.com/openZH/covid_19\n",
      "Open Government Data, Switzerland (2020), https://github.com/openZH/covid_19\n",
      "OpenCOVID19 France (2020), https://github.com/opencovid19-fr/data\n",
      "Our World in Data (2020), https://github.com/owid/covid-19-data\n",
      "COVID-19 Turkey API (2020), https://github.com/ozanerturk/covid19-turkey-api\n",
      "Ministero della Salute, Italia (2020), https://github.com/pcm-dpc/COVID-19\n",
      "Japan COVID-19 Bulletin Board (2020), https://github.com/swsoyee/2019-ncov-japan\n",
      "Public Health Infobase, Government of Canada (2020), https://health-infobase.canada.ca\n",
      "Open Government Data, Austria (2020), https://info.gesundheitsministerium.at/\n",
      "Robert Koch-Institut (2020), https://npgeo-corona-npgeo-de.hub.arcgis.com/datasets/dd4580c810204019a7b8eb3e0b329dd6_0\n",
      "Ministery of Health of Czech Republic (2020), https://onemocneni-aktualne.mzcr.cz/covid-19\n",
      "Public Health Agency, Sweden (2020), https://oppnadata.se/datamangd/#esc_entry=1424&esc_context=525\n",
      "Ministry of Public Health and Population of Haiti (2020), https://proxy.hxlstandard.org/data/738954\n",
      "CIA - Central Intelligence Agency (2020), https://www.cia.gov/library/publications/the-world-factbook/geos/aq.html\n",
      "COVID19-India API (2020), https://www.covid19india.org/\n",
      "Ministerio de Salud y ProtecciÃ³n Social de Colombia (2020), https://www.datos.gov.co\n",
      "Ministery of Health, Slovenia (2020), https://www.gov.si/en/topics/coronavirus-disease-covid-19/\n",
      "Canada's National Statistical Agency (2020), https://www150.statcan.gc.ca/t1/tbl1/en/tv.action?pid=1710000901\n",
      "Oxford COVID-19 Government Response Tracker (2020), www.bsg.ox.ac.uk/covidtracker\n",
      "Eurostat (2019), https://ec.europa.eu/eurostat\n",
      "Geloky (2019), https://geloky.com/geocoding/place/Valka+Latvia\n",
      "GADM (2019), https://public.opendatasoft.com/explore/dataset/landkreise-in-germany/table/\n",
      "Statbel, Belgium in Figures (2019), https://statbel.fgov.be/en/themes/population/structure-population\n",
      "Australian Bureau of Statistics (2019), https://www.abs.gov.au/AUSSTATS/abs@.nsf/DetailsPage/3101.0Sep%202019?OpenDocument\n",
      "National Bureau of Statistics of China NBS (2018), http://data.stats.gov.cn/english/easyquery.htm?cn=E0103\n",
      "World Bank Open Data (2018), https://data.worldbank.org/indicator/SP.POP.TOTL\n",
      "Swiss Federal Statistical Office (2018), https://www.bfs.admin.ch/bfs/en/home/statistics/regional-statistics/regional-portraits-key-figures/cantons/data-explanations.html\n",
      "Czech Statistical Office (2018), https://www.czso.cz/csu/czso/demograficka-rocenka-kraju-2009-az-2018\n",
      "Istituto Nazionale di Statistica, Italia (2018), https://www.istat.it/en/population-and-households?data-and-indicators\n",
      "Worldometer (2018), https://www.worldometers.info/world-population/channel-islands-population/"
     ]
    },
    {
     "name": "stdout",
     "output_type": "stream",
     "text": [
      "\n"
     ]
    },
    {
     "name": "stdout",
     "output_type": "stream",
     "text": [
      "\n",
      "\n"
     ]
    },
    {
     "name": "stdout",
     "output_type": "stream",
     "text": [
      "\n"
     ]
    }
   ],
   "source": [
    "data_loader = cs.DataLoader(\"input\")\n",
    "# The number of cases (JHU style)\n",
    "jhu_data = data_loader.jhu(verbose=True)\n",
    "# Population in each country\n",
    "population_data = data_loader.population(verbose=True)\n",
    "# Government Response Tracker (OxCGRT)\n",
    "oxcgrt_data = data_loader.oxcgrt(verbose=True)"
   ]
  },
  {
   "cell_type": "markdown",
   "metadata": {},
   "source": [
    "### The number of cases (JHU style)"
   ]
  },
  {
   "cell_type": "code",
   "execution_count": 5,
   "metadata": {
    "collapsed": false,
    "tags": []
   },
   "outputs": [
    {
     "name": "stdout",
     "output_type": "stream",
     "text": [
      "(Secondary source) Guidotti, E., Ardia, D., (2020), \"COVID-19 Data Hub\", Journal of Open Source Software 5(51):2376, doi: 10.21105/joss.02376.\n",
      "We can get Citation list of primary sources with DataLoader(...).covid19dh_citation"
     ]
    },
    {
     "name": "stdout",
     "output_type": "stream",
     "text": [
      "\n"
     ]
    }
   ],
   "source": [
    "# Description/citation\n",
    "print(jhu_data.citation)"
   ]
  },
  {
   "cell_type": "code",
   "execution_count": 6,
   "metadata": {
    "collapsed": false,
    "tags": []
   },
   "outputs": [
    {
     "name": "stdout",
     "output_type": "stream",
     "text": [
      "Open Government Data, United Kingdom (2020), https://coronavirus.data.gov.uk\n",
      "World Health Organization (2020), https://covid19.who.int\n",
      "The COVID Tracking Project (2020), https://covidtracking.com\n",
      "Ministry of Health of Croatia (2020), https://data.gov.hr/dataset/koronavirus/resource/08fab529-ebba-46c7-be79-05782ddb02ef\n",
      "Open Government Data, Latvia (2020), https://data.gov.lv/dati/dataset\n",
      "Wikipedia (2020), https://en.wikipedia.org/wiki\n",
      "Epistat, Belgian Infectious Diseases (2020), https://epistat.sciensano.be\n",
      "Johns Hopkins Center for Systems Science and Engineering (2020), https://github.com/CSSEGISandData/COVID-19\n",
      "Covid19data.com.au (2020), https://github.com/M3IT/COVID-19_Data\n",
      "Data Science for Social Impact research group, University of Pretoria (2020), https://github.com/dsfsi/covid19za\n",
      "COVID-19_plus_Russia GitHub repository (2020), https://github.com/grwlf/COVID-19_plus_Russia\n",
      "COVID-19 Peru Data Repository (2020), https://github.com/jmcastagnetto/covid-19-peru-data\n",
      "Twitter Web Scraper for Polish Ministery of Health (2020), https://github.com/martinbenes1996/covid19poland\n",
      "The New York Times (2020), https://github.com/nytimes/covid-19-data\n",
      "Open Government Data, Liechtenstein (2020), https://github.com/openZH/covid_19\n",
      "Open Government Data, Switzerland (2020), https://github.com/openZH/covid_19\n",
      "OpenCOVID19 France (2020), https://github.com/opencovid19-fr/data\n",
      "Our World in Data (2020), https://github.com/owid/covid-19-data\n",
      "COVID-19 Turkey API (2020), https://github.com/ozanerturk/covid19-turkey-api\n",
      "Ministero della Salute, Italia (2020), https://github.com/pcm-dpc/COVID-19\n",
      "Japan COVID-19 Bulletin Board (2020), https://github.com/swsoyee/2019-ncov-japan\n",
      "Public Health Infobase, Government of Canada (2020), https://health-infobase.canada.ca\n",
      "Open Government Data, Austria (2020), https://info.gesundheitsministerium.at/\n",
      "Robert Koch-Institut (2020), https://npgeo-corona-npgeo-de.hub.arcgis.com/datasets/dd4580c810204019a7b8eb3e0b329dd6_0\n",
      "Ministery of Health of Czech Republic (2020), https://onemocneni-aktualne.mzcr.cz/covid-19\n",
      "Public Health Agency, Sweden (2020), https://oppnadata.se/datamangd/#esc_entry=1424&esc_context=525\n",
      "Ministry of Public Health and Population of Haiti (2020), https://proxy.hxlstandard.org/data/738954\n",
      "CIA - Central Intelligence Agency (2020), https://www.cia.gov/library/publications/the-world-factbook/geos/aq.html\n",
      "COVID19-India API (2020), https://www.covid19india.org/\n",
      "Ministerio de Salud y ProtecciÃ³n Social de Colombia (2020), https://www.datos.gov.co\n",
      "Ministery of Health, Slovenia (2020), https://www.gov.si/en/topics/coronavirus-disease-covid-19/\n",
      "Canada's National Statistical Agency (2020), https://www150.statcan.gc.ca/t1/tbl1/en/tv.action?pid=1710000901\n",
      "Oxford COVID-19 Government Response Tracker (2020), www.bsg.ox.ac.uk/covidtracker\n",
      "Eurostat (2019), https://ec.europa.eu/eurostat\n",
      "Geloky (2019), https://geloky.com/geocoding/place/Valka+Latvia\n",
      "GADM (2019), https://public.opendatasoft.com/explore/dataset/landkreise-in-germany/table/\n",
      "Statbel, Belgium in Figures (2019), https://statbel.fgov.be/en/themes/population/structure-population\n",
      "Australian Bureau of Statistics (2019), https://www.abs.gov.au/AUSSTATS/abs@.nsf/DetailsPage/3101.0Sep%202019?OpenDocument\n",
      "National Bureau of Statistics of China NBS (2018), http://data.stats.gov.cn/english/easyquery.htm?cn=E0103\n",
      "World Bank Open Data (2018), https://data.worldbank.org/indicator/SP.POP.TOTL\n",
      "Swiss Federal Statistical Office (2018), https://www.bfs.admin.ch/bfs/en/home/statistics/regional-statistics/regional-portraits-key-figures/cantons/data-explanations.html\n",
      "Czech Statistical Office (2018), https://www.czso.cz/csu/czso/demograficka-rocenka-kraju-2009-az-2018\n",
      "Istituto Nazionale di Statistica, Italia (2018), https://www.istat.it/en/population-and-households?data-and-indicators\n",
      "Worldometer (2018), https://www.worldometers.info/world-population/channel-islands-population/"
     ]
    },
    {
     "name": "stdout",
     "output_type": "stream",
     "text": [
      "\n"
     ]
    }
   ],
   "source": [
    "print(data_loader.covid19dh_citation)"
   ]
  },
  {
   "cell_type": "code",
   "execution_count": 7,
   "metadata": {
    "collapsed": false
   },
   "outputs": [
    {
     "data": {
      "text/html": [
       "<div>\n",
       "<style scoped>\n",
       "    .dataframe tbody tr th:only-of-type {\n",
       "        vertical-align: middle;\n",
       "    }\n",
       "\n",
       "    .dataframe tbody tr th {\n",
       "        vertical-align: top;\n",
       "    }\n",
       "\n",
       "    .dataframe thead th {\n",
       "        text-align: right;\n",
       "    }\n",
       "</style>\n",
       "<table border=\"1\" class=\"dataframe\">\n",
       "  <thead>\n",
       "    <tr style=\"text-align: right;\">\n",
       "      <th></th>\n",
       "      <th>ObservationDate</th>\n",
       "      <th>Confirmed</th>\n",
       "      <th>Recovered</th>\n",
       "      <th>Deaths</th>\n",
       "      <th>Population</th>\n",
       "      <th>ISO3</th>\n",
       "      <th>Province/State</th>\n",
       "      <th>Country/Region</th>\n",
       "      <th>school_closing</th>\n",
       "      <th>workplace_closing</th>\n",
       "      <th>cancel_events</th>\n",
       "      <th>gatherings_restrictions</th>\n",
       "      <th>transport_closing</th>\n",
       "      <th>stay_home_restrictions</th>\n",
       "      <th>internal_movement_restrictions</th>\n",
       "      <th>international_movement_restrictions</th>\n",
       "      <th>information_campaigns</th>\n",
       "      <th>testing_policy</th>\n",
       "      <th>contact_tracing</th>\n",
       "      <th>stringency_index</th>\n",
       "    </tr>\n",
       "  </thead>\n",
       "  <tbody>\n",
       "    <tr>\n",
       "      <th>210231</th>\n",
       "      <td>2020-09-06</td>\n",
       "      <td>14</td>\n",
       "      <td>14</td>\n",
       "      <td>0</td>\n",
       "      <td>107808.0</td>\n",
       "      <td>COL</td>\n",
       "      <td>Vichada</td>\n",
       "      <td>Colombia</td>\n",
       "      <td>3</td>\n",
       "      <td>1</td>\n",
       "      <td>2</td>\n",
       "      <td>3</td>\n",
       "      <td>1</td>\n",
       "      <td>0</td>\n",
       "      <td>0</td>\n",
       "      <td>4</td>\n",
       "      <td>2</td>\n",
       "      <td>2</td>\n",
       "      <td>2</td>\n",
       "      <td>62.04</td>\n",
       "    </tr>\n",
       "    <tr>\n",
       "      <th>210232</th>\n",
       "      <td>2020-09-07</td>\n",
       "      <td>14</td>\n",
       "      <td>14</td>\n",
       "      <td>0</td>\n",
       "      <td>107808.0</td>\n",
       "      <td>COL</td>\n",
       "      <td>Vichada</td>\n",
       "      <td>Colombia</td>\n",
       "      <td>3</td>\n",
       "      <td>1</td>\n",
       "      <td>2</td>\n",
       "      <td>3</td>\n",
       "      <td>1</td>\n",
       "      <td>0</td>\n",
       "      <td>0</td>\n",
       "      <td>4</td>\n",
       "      <td>2</td>\n",
       "      <td>2</td>\n",
       "      <td>2</td>\n",
       "      <td>62.04</td>\n",
       "    </tr>\n",
       "    <tr>\n",
       "      <th>210233</th>\n",
       "      <td>2020-09-08</td>\n",
       "      <td>14</td>\n",
       "      <td>14</td>\n",
       "      <td>0</td>\n",
       "      <td>107808.0</td>\n",
       "      <td>COL</td>\n",
       "      <td>Vichada</td>\n",
       "      <td>Colombia</td>\n",
       "      <td>3</td>\n",
       "      <td>1</td>\n",
       "      <td>2</td>\n",
       "      <td>3</td>\n",
       "      <td>1</td>\n",
       "      <td>0</td>\n",
       "      <td>0</td>\n",
       "      <td>4</td>\n",
       "      <td>2</td>\n",
       "      <td>2</td>\n",
       "      <td>2</td>\n",
       "      <td>62.04</td>\n",
       "    </tr>\n",
       "    <tr>\n",
       "      <th>210234</th>\n",
       "      <td>2020-09-09</td>\n",
       "      <td>14</td>\n",
       "      <td>14</td>\n",
       "      <td>0</td>\n",
       "      <td>107808.0</td>\n",
       "      <td>COL</td>\n",
       "      <td>Vichada</td>\n",
       "      <td>Colombia</td>\n",
       "      <td>3</td>\n",
       "      <td>1</td>\n",
       "      <td>2</td>\n",
       "      <td>3</td>\n",
       "      <td>1</td>\n",
       "      <td>0</td>\n",
       "      <td>0</td>\n",
       "      <td>4</td>\n",
       "      <td>2</td>\n",
       "      <td>2</td>\n",
       "      <td>2</td>\n",
       "      <td>62.04</td>\n",
       "    </tr>\n",
       "    <tr>\n",
       "      <th>210235</th>\n",
       "      <td>2020-09-10</td>\n",
       "      <td>14</td>\n",
       "      <td>14</td>\n",
       "      <td>0</td>\n",
       "      <td>107808.0</td>\n",
       "      <td>COL</td>\n",
       "      <td>Vichada</td>\n",
       "      <td>Colombia</td>\n",
       "      <td>3</td>\n",
       "      <td>1</td>\n",
       "      <td>2</td>\n",
       "      <td>3</td>\n",
       "      <td>1</td>\n",
       "      <td>0</td>\n",
       "      <td>0</td>\n",
       "      <td>4</td>\n",
       "      <td>2</td>\n",
       "      <td>2</td>\n",
       "      <td>2</td>\n",
       "      <td>62.04</td>\n",
       "    </tr>\n",
       "  </tbody>\n",
       "</table>\n",
       "</div>"
      ],
      "text/plain": [
       "       ObservationDate  Confirmed  Recovered  Deaths  Population ISO3  \\\n",
       "210231      2020-09-06         14         14       0    107808.0  COL   \n",
       "210232      2020-09-07         14         14       0    107808.0  COL   \n",
       "210233      2020-09-08         14         14       0    107808.0  COL   \n",
       "210234      2020-09-09         14         14       0    107808.0  COL   \n",
       "210235      2020-09-10         14         14       0    107808.0  COL   \n",
       "\n",
       "       Province/State Country/Region  school_closing  workplace_closing  \\\n",
       "210231        Vichada       Colombia               3                  1   \n",
       "210232        Vichada       Colombia               3                  1   \n",
       "210233        Vichada       Colombia               3                  1   \n",
       "210234        Vichada       Colombia               3                  1   \n",
       "210235        Vichada       Colombia               3                  1   \n",
       "\n",
       "        cancel_events  gatherings_restrictions  transport_closing  \\\n",
       "210231              2                        3                  1   \n",
       "210232              2                        3                  1   \n",
       "210233              2                        3                  1   \n",
       "210234              2                        3                  1   \n",
       "210235              2                        3                  1   \n",
       "\n",
       "        stay_home_restrictions  internal_movement_restrictions  \\\n",
       "210231                       0                               0   \n",
       "210232                       0                               0   \n",
       "210233                       0                               0   \n",
       "210234                       0                               0   \n",
       "210235                       0                               0   \n",
       "\n",
       "        international_movement_restrictions  information_campaigns  \\\n",
       "210231                                    4                      2   \n",
       "210232                                    4                      2   \n",
       "210233                                    4                      2   \n",
       "210234                                    4                      2   \n",
       "210235                                    4                      2   \n",
       "\n",
       "        testing_policy  contact_tracing  stringency_index  \n",
       "210231               2                2             62.04  \n",
       "210232               2                2             62.04  \n",
       "210233               2                2             62.04  \n",
       "210234               2                2             62.04  \n",
       "210235               2                2             62.04  "
      ]
     },
     "execution_count": 7,
     "metadata": {},
     "output_type": "execute_result"
    }
   ],
   "source": [
    "# Raw data\n",
    "jhu_data.raw.tail()"
   ]
  },
  {
   "cell_type": "code",
   "execution_count": 8,
   "metadata": {
    "collapsed": false
   },
   "outputs": [
    {
     "data": {
      "text/html": [
       "<div>\n",
       "<style scoped>\n",
       "    .dataframe tbody tr th:only-of-type {\n",
       "        vertical-align: middle;\n",
       "    }\n",
       "\n",
       "    .dataframe tbody tr th {\n",
       "        vertical-align: top;\n",
       "    }\n",
       "\n",
       "    .dataframe thead th {\n",
       "        text-align: right;\n",
       "    }\n",
       "</style>\n",
       "<table border=\"1\" class=\"dataframe\">\n",
       "  <thead>\n",
       "    <tr style=\"text-align: right;\">\n",
       "      <th></th>\n",
       "      <th>Date</th>\n",
       "      <th>Country</th>\n",
       "      <th>Province</th>\n",
       "      <th>Confirmed</th>\n",
       "      <th>Infected</th>\n",
       "      <th>Fatal</th>\n",
       "      <th>Recovered</th>\n",
       "    </tr>\n",
       "  </thead>\n",
       "  <tbody>\n",
       "    <tr>\n",
       "      <th>210231</th>\n",
       "      <td>2020-09-06</td>\n",
       "      <td>Colombia</td>\n",
       "      <td>Vichada</td>\n",
       "      <td>14</td>\n",
       "      <td>0</td>\n",
       "      <td>0</td>\n",
       "      <td>14</td>\n",
       "    </tr>\n",
       "    <tr>\n",
       "      <th>210232</th>\n",
       "      <td>2020-09-07</td>\n",
       "      <td>Colombia</td>\n",
       "      <td>Vichada</td>\n",
       "      <td>14</td>\n",
       "      <td>0</td>\n",
       "      <td>0</td>\n",
       "      <td>14</td>\n",
       "    </tr>\n",
       "    <tr>\n",
       "      <th>210233</th>\n",
       "      <td>2020-09-08</td>\n",
       "      <td>Colombia</td>\n",
       "      <td>Vichada</td>\n",
       "      <td>14</td>\n",
       "      <td>0</td>\n",
       "      <td>0</td>\n",
       "      <td>14</td>\n",
       "    </tr>\n",
       "    <tr>\n",
       "      <th>210234</th>\n",
       "      <td>2020-09-09</td>\n",
       "      <td>Colombia</td>\n",
       "      <td>Vichada</td>\n",
       "      <td>14</td>\n",
       "      <td>0</td>\n",
       "      <td>0</td>\n",
       "      <td>14</td>\n",
       "    </tr>\n",
       "    <tr>\n",
       "      <th>210235</th>\n",
       "      <td>2020-09-10</td>\n",
       "      <td>Colombia</td>\n",
       "      <td>Vichada</td>\n",
       "      <td>14</td>\n",
       "      <td>0</td>\n",
       "      <td>0</td>\n",
       "      <td>14</td>\n",
       "    </tr>\n",
       "  </tbody>\n",
       "</table>\n",
       "</div>"
      ],
      "text/plain": [
       "             Date   Country Province  Confirmed  Infected  Fatal  Recovered\n",
       "210231 2020-09-06  Colombia  Vichada         14         0      0         14\n",
       "210232 2020-09-07  Colombia  Vichada         14         0      0         14\n",
       "210233 2020-09-08  Colombia  Vichada         14         0      0         14\n",
       "210234 2020-09-09  Colombia  Vichada         14         0      0         14\n",
       "210235 2020-09-10  Colombia  Vichada         14         0      0         14"
      ]
     },
     "execution_count": 8,
     "metadata": {},
     "output_type": "execute_result"
    }
   ],
   "source": [
    "# Cleaned data\n",
    "jhu_data.cleaned().tail()"
   ]
  },
  {
   "cell_type": "code",
   "execution_count": 9,
   "metadata": {
    "collapsed": false
   },
   "outputs": [
    {
     "data": {
      "text/html": [
       "<div>\n",
       "<style scoped>\n",
       "    .dataframe tbody tr th:only-of-type {\n",
       "        vertical-align: middle;\n",
       "    }\n",
       "\n",
       "    .dataframe tbody tr th {\n",
       "        vertical-align: top;\n",
       "    }\n",
       "\n",
       "    .dataframe thead th {\n",
       "        text-align: right;\n",
       "    }\n",
       "</style>\n",
       "<table border=\"1\" class=\"dataframe\">\n",
       "  <thead>\n",
       "    <tr style=\"text-align: right;\">\n",
       "      <th></th>\n",
       "      <th>Date</th>\n",
       "      <th>Confirmed</th>\n",
       "      <th>Infected</th>\n",
       "      <th>Fatal</th>\n",
       "      <th>Recovered</th>\n",
       "    </tr>\n",
       "  </thead>\n",
       "  <tbody>\n",
       "    <tr>\n",
       "      <th>171</th>\n",
       "      <td>2020-09-06</td>\n",
       "      <td>21772</td>\n",
       "      <td>2528</td>\n",
       "      <td>369</td>\n",
       "      <td>18875</td>\n",
       "    </tr>\n",
       "    <tr>\n",
       "      <th>172</th>\n",
       "      <td>2020-09-07</td>\n",
       "      <td>21849</td>\n",
       "      <td>2510</td>\n",
       "      <td>372</td>\n",
       "      <td>18967</td>\n",
       "    </tr>\n",
       "    <tr>\n",
       "      <th>173</th>\n",
       "      <td>2020-09-08</td>\n",
       "      <td>22019</td>\n",
       "      <td>2470</td>\n",
       "      <td>378</td>\n",
       "      <td>19171</td>\n",
       "    </tr>\n",
       "    <tr>\n",
       "      <th>174</th>\n",
       "      <td>2020-09-09</td>\n",
       "      <td>22168</td>\n",
       "      <td>2349</td>\n",
       "      <td>379</td>\n",
       "      <td>19440</td>\n",
       "    </tr>\n",
       "    <tr>\n",
       "      <th>175</th>\n",
       "      <td>2020-09-10</td>\n",
       "      <td>22444</td>\n",
       "      <td>2478</td>\n",
       "      <td>379</td>\n",
       "      <td>19587</td>\n",
       "    </tr>\n",
       "  </tbody>\n",
       "</table>\n",
       "</div>"
      ],
      "text/plain": [
       "          Date  Confirmed  Infected  Fatal  Recovered\n",
       "171 2020-09-06      21772      2528    369      18875\n",
       "172 2020-09-07      21849      2510    372      18967\n",
       "173 2020-09-08      22019      2470    378      19171\n",
       "174 2020-09-09      22168      2349    379      19440\n",
       "175 2020-09-10      22444      2478    379      19587"
      ]
     },
     "execution_count": 9,
     "metadata": {},
     "output_type": "execute_result"
    }
   ],
   "source": [
    "# Subset for a country\n",
    "jhu_data.subset(\"Japan\", province=\"Tokyo\").tail()"
   ]
  },
  {
   "cell_type": "code",
   "execution_count": 10,
   "metadata": {
    "collapsed": false
   },
   "outputs": [
    {
     "data": {
      "text/html": [
       "<div>\n",
       "<style scoped>\n",
       "    .dataframe tbody tr th:only-of-type {\n",
       "        vertical-align: middle;\n",
       "    }\n",
       "\n",
       "    .dataframe tbody tr th {\n",
       "        vertical-align: top;\n",
       "    }\n",
       "\n",
       "    .dataframe thead th {\n",
       "        text-align: right;\n",
       "    }\n",
       "</style>\n",
       "<table border=\"1\" class=\"dataframe\">\n",
       "  <thead>\n",
       "    <tr style=\"text-align: right;\">\n",
       "      <th></th>\n",
       "      <th>Confirmed</th>\n",
       "      <th>Infected</th>\n",
       "      <th>Fatal</th>\n",
       "      <th>Recovered</th>\n",
       "      <th>Fatal per Confirmed</th>\n",
       "      <th>Recovered per Confirmed</th>\n",
       "      <th>Fatal per (Fatal or Recovered)</th>\n",
       "    </tr>\n",
       "    <tr>\n",
       "      <th>Date</th>\n",
       "      <th></th>\n",
       "      <th></th>\n",
       "      <th></th>\n",
       "      <th></th>\n",
       "      <th></th>\n",
       "      <th></th>\n",
       "      <th></th>\n",
       "    </tr>\n",
       "  </thead>\n",
       "  <tbody>\n",
       "    <tr>\n",
       "      <th>2020-09-06</th>\n",
       "      <td>26942245</td>\n",
       "      <td>8043917</td>\n",
       "      <td>881293</td>\n",
       "      <td>18017035</td>\n",
       "      <td>0.016355</td>\n",
       "      <td>0.334364</td>\n",
       "      <td>0.046633</td>\n",
       "    </tr>\n",
       "    <tr>\n",
       "      <th>2020-09-07</th>\n",
       "      <td>27149512</td>\n",
       "      <td>8065976</td>\n",
       "      <td>890425</td>\n",
       "      <td>18193111</td>\n",
       "      <td>0.016399</td>\n",
       "      <td>0.335054</td>\n",
       "      <td>0.046659</td>\n",
       "    </tr>\n",
       "    <tr>\n",
       "      <th>2020-09-08</th>\n",
       "      <td>27385961</td>\n",
       "      <td>8103348</td>\n",
       "      <td>895184</td>\n",
       "      <td>18387429</td>\n",
       "      <td>0.016344</td>\n",
       "      <td>0.335709</td>\n",
       "      <td>0.046424</td>\n",
       "    </tr>\n",
       "    <tr>\n",
       "      <th>2020-09-09</th>\n",
       "      <td>27656961</td>\n",
       "      <td>8154182</td>\n",
       "      <td>900821</td>\n",
       "      <td>18601958</td>\n",
       "      <td>0.016286</td>\n",
       "      <td>0.336298</td>\n",
       "      <td>0.046189</td>\n",
       "    </tr>\n",
       "    <tr>\n",
       "      <th>2020-09-10</th>\n",
       "      <td>27657738</td>\n",
       "      <td>8153756</td>\n",
       "      <td>900835</td>\n",
       "      <td>18603147</td>\n",
       "      <td>0.016285</td>\n",
       "      <td>0.336310</td>\n",
       "      <td>0.046187</td>\n",
       "    </tr>\n",
       "  </tbody>\n",
       "</table>\n",
       "</div>"
      ],
      "text/plain": [
       "            Confirmed  Infected   Fatal  Recovered  Fatal per Confirmed  \\\n",
       "Date                                                                      \n",
       "2020-09-06   26942245   8043917  881293   18017035             0.016355   \n",
       "2020-09-07   27149512   8065976  890425   18193111             0.016399   \n",
       "2020-09-08   27385961   8103348  895184   18387429             0.016344   \n",
       "2020-09-09   27656961   8154182  900821   18601958             0.016286   \n",
       "2020-09-10   27657738   8153756  900835   18603147             0.016285   \n",
       "\n",
       "            Recovered per Confirmed  Fatal per (Fatal or Recovered)  \n",
       "Date                                                                 \n",
       "2020-09-06                 0.334364                        0.046633  \n",
       "2020-09-07                 0.335054                        0.046659  \n",
       "2020-09-08                 0.335709                        0.046424  \n",
       "2020-09-09                 0.336298                        0.046189  \n",
       "2020-09-10                 0.336310                        0.046187  "
      ]
     },
     "execution_count": 10,
     "metadata": {},
     "output_type": "execute_result"
    }
   ],
   "source": [
    "# Total\n",
    "total_df = jhu_data.total()\n",
    "total_df.tail()"
   ]
  },
  {
   "cell_type": "code",
   "execution_count": 11,
   "metadata": {
    "collapsed": false
   },
   "outputs": [
    {
     "data": {
      "image/png": "[encoded data removed]",
      "text/plain": [
       "<Figure size 648x432 with 1 Axes>"
      ]
     },
     "metadata": {},
     "output_type": "display_data"
    }
   ],
   "source": [
    "# Plot the total values\n",
    "cs.line_plot(total_df[[\"Infected\", \"Fatal\", \"Recovered\"]], \"Total number of cases over time\")"
   ]
  },
  {
   "cell_type": "markdown",
   "metadata": {},
   "source": [
    "### (Optional) Replace the dataset in Japan\n"
   ]
  },
  {
   "cell_type": "code",
   "execution_count": 12,
   "metadata": {
    "collapsed": false
   },
   "outputs": [
    {
     "data": {
      "text/html": [
       "<div>\n",
       "<style scoped>\n",
       "    .dataframe tbody tr th:only-of-type {\n",
       "        vertical-align: middle;\n",
       "    }\n",
       "\n",
       "    .dataframe tbody tr th {\n",
       "        vertical-align: top;\n",
       "    }\n",
       "\n",
       "    .dataframe thead th {\n",
       "        text-align: right;\n",
       "    }\n",
       "</style>\n",
       "<table border=\"1\" class=\"dataframe\">\n",
       "  <thead>\n",
       "    <tr style=\"text-align: right;\">\n",
       "      <th></th>\n",
       "      <th>Date</th>\n",
       "      <th>Confirmed</th>\n",
       "      <th>Infected</th>\n",
       "      <th>Fatal</th>\n",
       "      <th>Recovered</th>\n",
       "    </tr>\n",
       "  </thead>\n",
       "  <tbody>\n",
       "    <tr>\n",
       "      <th>210</th>\n",
       "      <td>2020-09-06</td>\n",
       "      <td>71929</td>\n",
       "      <td>8497</td>\n",
       "      <td>1369</td>\n",
       "      <td>62063</td>\n",
       "    </tr>\n",
       "    <tr>\n",
       "      <th>211</th>\n",
       "      <td>2020-09-07</td>\n",
       "      <td>72238</td>\n",
       "      <td>8335</td>\n",
       "      <td>1380</td>\n",
       "      <td>62523</td>\n",
       "    </tr>\n",
       "    <tr>\n",
       "      <th>212</th>\n",
       "      <td>2020-09-08</td>\n",
       "      <td>72729</td>\n",
       "      <td>8068</td>\n",
       "      <td>1398</td>\n",
       "      <td>63263</td>\n",
       "    </tr>\n",
       "    <tr>\n",
       "      <th>213</th>\n",
       "      <td>2020-09-09</td>\n",
       "      <td>73237</td>\n",
       "      <td>7742</td>\n",
       "      <td>1412</td>\n",
       "      <td>64083</td>\n",
       "    </tr>\n",
       "    <tr>\n",
       "      <th>214</th>\n",
       "      <td>2020-09-10</td>\n",
       "      <td>73948</td>\n",
       "      <td>7709</td>\n",
       "      <td>1419</td>\n",
       "      <td>64820</td>\n",
       "    </tr>\n",
       "  </tbody>\n",
       "</table>\n",
       "</div>"
      ],
      "text/plain": [
       "          Date  Confirmed  Infected  Fatal  Recovered\n",
       "210 2020-09-06      71929      8497   1369      62063\n",
       "211 2020-09-07      72238      8335   1380      62523\n",
       "212 2020-09-08      72729      8068   1398      63263\n",
       "213 2020-09-09      73237      7742   1412      64083\n",
       "214 2020-09-10      73948      7709   1419      64820"
      ]
     },
     "execution_count": 12,
     "metadata": {},
     "output_type": "execute_result"
    }
   ],
   "source": [
    "jhu_data.subset(\"Japan\").tail()"
   ]
  },
  {
   "cell_type": "code",
   "execution_count": 13,
   "metadata": {
    "collapsed": false,
    "tags": []
   },
   "outputs": [
    {
     "name": "stdout",
     "output_type": "stream",
     "text": [
      "Lisphilar (2020), COVID-19 dataset in Japan, GitHub repository, https://github.com/lisphilar/covid19-sir/data/japan"
     ]
    },
    {
     "name": "stdout",
     "output_type": "stream",
     "text": [
      "\n"
     ]
    }
   ],
   "source": [
    "japan_data = data_loader.japan()\n",
    "print(japan_data.citation)"
   ]
  },
  {
   "cell_type": "code",
   "execution_count": 14,
   "metadata": {
    "collapsed": false
   },
   "outputs": [
    {
     "data": {
      "text/html": [
       "<div>\n",
       "<style scoped>\n",
       "    .dataframe tbody tr th:only-of-type {\n",
       "        vertical-align: middle;\n",
       "    }\n",
       "\n",
       "    .dataframe tbody tr th {\n",
       "        vertical-align: top;\n",
       "    }\n",
       "\n",
       "    .dataframe thead th {\n",
       "        text-align: right;\n",
       "    }\n",
       "</style>\n",
       "<table border=\"1\" class=\"dataframe\">\n",
       "  <thead>\n",
       "    <tr style=\"text-align: right;\">\n",
       "      <th></th>\n",
       "      <th>Date</th>\n",
       "      <th>Confirmed</th>\n",
       "      <th>Infected</th>\n",
       "      <th>Fatal</th>\n",
       "      <th>Recovered</th>\n",
       "    </tr>\n",
       "  </thead>\n",
       "  <tbody>\n",
       "    <tr>\n",
       "      <th>208</th>\n",
       "      <td>2020-09-06</td>\n",
       "      <td>71419</td>\n",
       "      <td>7986</td>\n",
       "      <td>1357</td>\n",
       "      <td>62076</td>\n",
       "    </tr>\n",
       "    <tr>\n",
       "      <th>209</th>\n",
       "      <td>2020-09-07</td>\n",
       "      <td>71856</td>\n",
       "      <td>7957</td>\n",
       "      <td>1363</td>\n",
       "      <td>62536</td>\n",
       "    </tr>\n",
       "    <tr>\n",
       "      <th>210</th>\n",
       "      <td>2020-09-08</td>\n",
       "      <td>72234</td>\n",
       "      <td>7575</td>\n",
       "      <td>1377</td>\n",
       "      <td>63282</td>\n",
       "    </tr>\n",
       "    <tr>\n",
       "      <th>211</th>\n",
       "      <td>2020-09-09</td>\n",
       "      <td>72726</td>\n",
       "      <td>7233</td>\n",
       "      <td>1393</td>\n",
       "      <td>64100</td>\n",
       "    </tr>\n",
       "    <tr>\n",
       "      <th>212</th>\n",
       "      <td>2020-09-10</td>\n",
       "      <td>73221</td>\n",
       "      <td>6980</td>\n",
       "      <td>1406</td>\n",
       "      <td>64835</td>\n",
       "    </tr>\n",
       "  </tbody>\n",
       "</table>\n",
       "</div>"
      ],
      "text/plain": [
       "          Date  Confirmed  Infected  Fatal  Recovered\n",
       "208 2020-09-06      71419      7986   1357      62076\n",
       "209 2020-09-07      71856      7957   1363      62536\n",
       "210 2020-09-08      72234      7575   1377      63282\n",
       "211 2020-09-09      72726      7233   1393      64100\n",
       "212 2020-09-10      73221      6980   1406      64835"
      ]
     },
     "execution_count": 14,
     "metadata": {},
     "output_type": "execute_result"
    }
   ],
   "source": [
    "jhu_data.replace(japan_data)\n",
    "jhu_data.subset(\"Japan\").tail()"
   ]
  },
  {
   "cell_type": "markdown",
   "metadata": {},
   "source": [
    "### Population in each country"
   ]
  },
  {
   "cell_type": "code",
   "execution_count": 15,
   "metadata": {
    "collapsed": false,
    "tags": []
   },
   "outputs": [
    {
     "name": "stdout",
     "output_type": "stream",
     "text": [
      "(Secondary source) Guidotti, E., Ardia, D., (2020), \"COVID-19 Data Hub\", Journal of Open Source Software 5(51):2376, doi: 10.21105/joss.02376.\n",
      "We can get Citation list of primary sources with DataLoader(...).covid19dh_citation"
     ]
    },
    {
     "name": "stdout",
     "output_type": "stream",
     "text": [
      "\n"
     ]
    }
   ],
   "source": [
    "# Description/citation\n",
    "print(population_data.citation)"
   ]
  },
  {
   "cell_type": "code",
   "execution_count": 16,
   "metadata": {
    "collapsed": false
   },
   "outputs": [
    {
     "data": {
      "text/html": [
       "<div>\n",
       "<style scoped>\n",
       "    .dataframe tbody tr th:only-of-type {\n",
       "        vertical-align: middle;\n",
       "    }\n",
       "\n",
       "    .dataframe tbody tr th {\n",
       "        vertical-align: top;\n",
       "    }\n",
       "\n",
       "    .dataframe thead th {\n",
       "        text-align: right;\n",
       "    }\n",
       "</style>\n",
       "<table border=\"1\" class=\"dataframe\">\n",
       "  <thead>\n",
       "    <tr style=\"text-align: right;\">\n",
       "      <th></th>\n",
       "      <th>ObservationDate</th>\n",
       "      <th>Confirmed</th>\n",
       "      <th>Recovered</th>\n",
       "      <th>Deaths</th>\n",
       "      <th>Population</th>\n",
       "      <th>ISO3</th>\n",
       "      <th>Province/State</th>\n",
       "      <th>Country/Region</th>\n",
       "      <th>school_closing</th>\n",
       "      <th>workplace_closing</th>\n",
       "      <th>cancel_events</th>\n",
       "      <th>gatherings_restrictions</th>\n",
       "      <th>transport_closing</th>\n",
       "      <th>stay_home_restrictions</th>\n",
       "      <th>internal_movement_restrictions</th>\n",
       "      <th>international_movement_restrictions</th>\n",
       "      <th>information_campaigns</th>\n",
       "      <th>testing_policy</th>\n",
       "      <th>contact_tracing</th>\n",
       "      <th>stringency_index</th>\n",
       "    </tr>\n",
       "  </thead>\n",
       "  <tbody>\n",
       "    <tr>\n",
       "      <th>210231</th>\n",
       "      <td>2020-09-06</td>\n",
       "      <td>14</td>\n",
       "      <td>14</td>\n",
       "      <td>0</td>\n",
       "      <td>107808.0</td>\n",
       "      <td>COL</td>\n",
       "      <td>Vichada</td>\n",
       "      <td>Colombia</td>\n",
       "      <td>3</td>\n",
       "      <td>1</td>\n",
       "      <td>2</td>\n",
       "      <td>3</td>\n",
       "      <td>1</td>\n",
       "      <td>0</td>\n",
       "      <td>0</td>\n",
       "      <td>4</td>\n",
       "      <td>2</td>\n",
       "      <td>2</td>\n",
       "      <td>2</td>\n",
       "      <td>62.04</td>\n",
       "    </tr>\n",
       "    <tr>\n",
       "      <th>210232</th>\n",
       "      <td>2020-09-07</td>\n",
       "      <td>14</td>\n",
       "      <td>14</td>\n",
       "      <td>0</td>\n",
       "      <td>107808.0</td>\n",
       "      <td>COL</td>\n",
       "      <td>Vichada</td>\n",
       "      <td>Colombia</td>\n",
       "      <td>3</td>\n",
       "      <td>1</td>\n",
       "      <td>2</td>\n",
       "      <td>3</td>\n",
       "      <td>1</td>\n",
       "      <td>0</td>\n",
       "      <td>0</td>\n",
       "      <td>4</td>\n",
       "      <td>2</td>\n",
       "      <td>2</td>\n",
       "      <td>2</td>\n",
       "      <td>62.04</td>\n",
       "    </tr>\n",
       "    <tr>\n",
       "      <th>210233</th>\n",
       "      <td>2020-09-08</td>\n",
       "      <td>14</td>\n",
       "      <td>14</td>\n",
       "      <td>0</td>\n",
       "      <td>107808.0</td>\n",
       "      <td>COL</td>\n",
       "      <td>Vichada</td>\n",
       "      <td>Colombia</td>\n",
       "      <td>3</td>\n",
       "      <td>1</td>\n",
       "      <td>2</td>\n",
       "      <td>3</td>\n",
       "      <td>1</td>\n",
       "      <td>0</td>\n",
       "      <td>0</td>\n",
       "      <td>4</td>\n",
       "      <td>2</td>\n",
       "      <td>2</td>\n",
       "      <td>2</td>\n",
       "      <td>62.04</td>\n",
       "    </tr>\n",
       "    <tr>\n",
       "      <th>210234</th>\n",
       "      <td>2020-09-09</td>\n",
       "      <td>14</td>\n",
       "      <td>14</td>\n",
       "      <td>0</td>\n",
       "      <td>107808.0</td>\n",
       "      <td>COL</td>\n",
       "      <td>Vichada</td>\n",
       "      <td>Colombia</td>\n",
       "      <td>3</td>\n",
       "      <td>1</td>\n",
       "      <td>2</td>\n",
       "      <td>3</td>\n",
       "      <td>1</td>\n",
       "      <td>0</td>\n",
       "      <td>0</td>\n",
       "      <td>4</td>\n",
       "      <td>2</td>\n",
       "      <td>2</td>\n",
       "      <td>2</td>\n",
       "      <td>62.04</td>\n",
       "    </tr>\n",
       "    <tr>\n",
       "      <th>210235</th>\n",
       "      <td>2020-09-10</td>\n",
       "      <td>14</td>\n",
       "      <td>14</td>\n",
       "      <td>0</td>\n",
       "      <td>107808.0</td>\n",
       "      <td>COL</td>\n",
       "      <td>Vichada</td>\n",
       "      <td>Colombia</td>\n",
       "      <td>3</td>\n",
       "      <td>1</td>\n",
       "      <td>2</td>\n",
       "      <td>3</td>\n",
       "      <td>1</td>\n",
       "      <td>0</td>\n",
       "      <td>0</td>\n",
       "      <td>4</td>\n",
       "      <td>2</td>\n",
       "      <td>2</td>\n",
       "      <td>2</td>\n",
       "      <td>62.04</td>\n",
       "    </tr>\n",
       "  </tbody>\n",
       "</table>\n",
       "</div>"
      ],
      "text/plain": [
       "       ObservationDate  Confirmed  Recovered  Deaths  Population ISO3  \\\n",
       "210231      2020-09-06         14         14       0    107808.0  COL   \n",
       "210232      2020-09-07         14         14       0    107808.0  COL   \n",
       "210233      2020-09-08         14         14       0    107808.0  COL   \n",
       "210234      2020-09-09         14         14       0    107808.0  COL   \n",
       "210235      2020-09-10         14         14       0    107808.0  COL   \n",
       "\n",
       "       Province/State Country/Region  school_closing  workplace_closing  \\\n",
       "210231        Vichada       Colombia               3                  1   \n",
       "210232        Vichada       Colombia               3                  1   \n",
       "210233        Vichada       Colombia               3                  1   \n",
       "210234        Vichada       Colombia               3                  1   \n",
       "210235        Vichada       Colombia               3                  1   \n",
       "\n",
       "        cancel_events  gatherings_restrictions  transport_closing  \\\n",
       "210231              2                        3                  1   \n",
       "210232              2                        3                  1   \n",
       "210233              2                        3                  1   \n",
       "210234              2                        3                  1   \n",
       "210235              2                        3                  1   \n",
       "\n",
       "        stay_home_restrictions  internal_movement_restrictions  \\\n",
       "210231                       0                               0   \n",
       "210232                       0                               0   \n",
       "210233                       0                               0   \n",
       "210234                       0                               0   \n",
       "210235                       0                               0   \n",
       "\n",
       "        international_movement_restrictions  information_campaigns  \\\n",
       "210231                                    4                      2   \n",
       "210232                                    4                      2   \n",
       "210233                                    4                      2   \n",
       "210234                                    4                      2   \n",
       "210235                                    4                      2   \n",
       "\n",
       "        testing_policy  contact_tracing  stringency_index  \n",
       "210231               2                2             62.04  \n",
       "210232               2                2             62.04  \n",
       "210233               2                2             62.04  \n",
       "210234               2                2             62.04  \n",
       "210235               2                2             62.04  "
      ]
     },
     "execution_count": 16,
     "metadata": {},
     "output_type": "execute_result"
    }
   ],
   "source": [
    "# Raw data (the same as jhu_data)\n",
    "population_data.raw.tail()"
   ]
  },
  {
   "cell_type": "code",
   "execution_count": 17,
   "metadata": {
    "collapsed": false
   },
   "outputs": [
    {
     "data": {
      "text/html": [
       "<div>\n",
       "<style scoped>\n",
       "    .dataframe tbody tr th:only-of-type {\n",
       "        vertical-align: middle;\n",
       "    }\n",
       "\n",
       "    .dataframe tbody tr th {\n",
       "        vertical-align: top;\n",
       "    }\n",
       "\n",
       "    .dataframe thead th {\n",
       "        text-align: right;\n",
       "    }\n",
       "</style>\n",
       "<table border=\"1\" class=\"dataframe\">\n",
       "  <thead>\n",
       "    <tr style=\"text-align: right;\">\n",
       "      <th></th>\n",
       "      <th>ISO3</th>\n",
       "      <th>Country</th>\n",
       "      <th>Province</th>\n",
       "      <th>Date</th>\n",
       "      <th>Population</th>\n",
       "    </tr>\n",
       "  </thead>\n",
       "  <tbody>\n",
       "    <tr>\n",
       "      <th>197271</th>\n",
       "      <td>COL</td>\n",
       "      <td>Colombia</td>\n",
       "      <td>Vichada</td>\n",
       "      <td>2020-09-06</td>\n",
       "      <td>107808</td>\n",
       "    </tr>\n",
       "    <tr>\n",
       "      <th>197272</th>\n",
       "      <td>COL</td>\n",
       "      <td>Colombia</td>\n",
       "      <td>Vichada</td>\n",
       "      <td>2020-09-07</td>\n",
       "      <td>107808</td>\n",
       "    </tr>\n",
       "    <tr>\n",
       "      <th>197273</th>\n",
       "      <td>COL</td>\n",
       "      <td>Colombia</td>\n",
       "      <td>Vichada</td>\n",
       "      <td>2020-09-08</td>\n",
       "      <td>107808</td>\n",
       "    </tr>\n",
       "    <tr>\n",
       "      <th>197274</th>\n",
       "      <td>COL</td>\n",
       "      <td>Colombia</td>\n",
       "      <td>Vichada</td>\n",
       "      <td>2020-09-09</td>\n",
       "      <td>107808</td>\n",
       "    </tr>\n",
       "    <tr>\n",
       "      <th>197275</th>\n",
       "      <td>COL</td>\n",
       "      <td>Colombia</td>\n",
       "      <td>Vichada</td>\n",
       "      <td>2020-09-10</td>\n",
       "      <td>107808</td>\n",
       "    </tr>\n",
       "  </tbody>\n",
       "</table>\n",
       "</div>"
      ],
      "text/plain": [
       "       ISO3   Country Province       Date  Population\n",
       "197271  COL  Colombia  Vichada 2020-09-06      107808\n",
       "197272  COL  Colombia  Vichada 2020-09-07      107808\n",
       "197273  COL  Colombia  Vichada 2020-09-08      107808\n",
       "197274  COL  Colombia  Vichada 2020-09-09      107808\n",
       "197275  COL  Colombia  Vichada 2020-09-10      107808"
      ]
     },
     "execution_count": 17,
     "metadata": {},
     "output_type": "execute_result"
    }
   ],
   "source": [
    "# Cleaned data\n",
    "population_data.cleaned().tail()"
   ]
  },
  {
   "cell_type": "code",
   "execution_count": 18,
   "metadata": {
    "collapsed": false
   },
   "outputs": [
    {
     "data": {
      "text/plain": [
       "126529100"
      ]
     },
     "execution_count": 18,
     "metadata": {},
     "output_type": "execute_result"
    }
   ],
   "source": [
    "population_data.value(\"Japan\", province=None)"
   ]
  },
  {
   "cell_type": "code",
   "execution_count": 19,
   "metadata": {
    "collapsed": false
   },
   "outputs": [
    {
     "data": {
      "text/plain": [
       "14002973"
      ]
     },
     "execution_count": 19,
     "metadata": {},
     "output_type": "execute_result"
    }
   ],
   "source": [
    "# Register population value of Tokyo in Japan\n",
    "# https://www.metro.tokyo.lg.jp/tosei/hodohappyo/press/2020/06/11/07.html\n",
    "population_data.update(14_002_973, \"Japan\", province=\"Tokyo\")\n",
    "population_data.value(\"Japan\", province=\"Tokyo\")"
   ]
  },
  {
   "cell_type": "markdown",
   "metadata": {},
   "source": [
    "### Government Response Tracker (OxCGRT)"
   ]
  },
  {
   "cell_type": "code",
   "execution_count": 20,
   "metadata": {
    "collapsed": false,
    "tags": []
   },
   "outputs": [
    {
     "name": "stdout",
     "output_type": "stream",
     "text": [
      "(Secondary source) Guidotti, E., Ardia, D., (2020), \"COVID-19 Data Hub\", Journal of Open Source Software 5(51):2376, doi: 10.21105/joss.02376.\n",
      "We can get Citation list of primary sources with DataLoader(...).covid19dh_citation"
     ]
    },
    {
     "name": "stdout",
     "output_type": "stream",
     "text": [
      "\n"
     ]
    }
   ],
   "source": [
    "# Description/citation\n",
    "print(oxcgrt_data.citation)"
   ]
  },
  {
   "cell_type": "code",
   "execution_count": 21,
   "metadata": {
    "collapsed": false
   },
   "outputs": [
    {
     "data": {
      "text/html": [
       "<div>\n",
       "<style scoped>\n",
       "    .dataframe tbody tr th:only-of-type {\n",
       "        vertical-align: middle;\n",
       "    }\n",
       "\n",
       "    .dataframe tbody tr th {\n",
       "        vertical-align: top;\n",
       "    }\n",
       "\n",
       "    .dataframe thead th {\n",
       "        text-align: right;\n",
       "    }\n",
       "</style>\n",
       "<table border=\"1\" class=\"dataframe\">\n",
       "  <thead>\n",
       "    <tr style=\"text-align: right;\">\n",
       "      <th></th>\n",
       "      <th>ObservationDate</th>\n",
       "      <th>Confirmed</th>\n",
       "      <th>Recovered</th>\n",
       "      <th>Deaths</th>\n",
       "      <th>Population</th>\n",
       "      <th>ISO3</th>\n",
       "      <th>Province/State</th>\n",
       "      <th>Country/Region</th>\n",
       "      <th>school_closing</th>\n",
       "      <th>workplace_closing</th>\n",
       "      <th>cancel_events</th>\n",
       "      <th>gatherings_restrictions</th>\n",
       "      <th>transport_closing</th>\n",
       "      <th>stay_home_restrictions</th>\n",
       "      <th>internal_movement_restrictions</th>\n",
       "      <th>international_movement_restrictions</th>\n",
       "      <th>information_campaigns</th>\n",
       "      <th>testing_policy</th>\n",
       "      <th>contact_tracing</th>\n",
       "      <th>stringency_index</th>\n",
       "    </tr>\n",
       "  </thead>\n",
       "  <tbody>\n",
       "    <tr>\n",
       "      <th>210231</th>\n",
       "      <td>2020-09-06</td>\n",
       "      <td>14</td>\n",
       "      <td>14</td>\n",
       "      <td>0</td>\n",
       "      <td>107808.0</td>\n",
       "      <td>COL</td>\n",
       "      <td>Vichada</td>\n",
       "      <td>Colombia</td>\n",
       "      <td>3</td>\n",
       "      <td>1</td>\n",
       "      <td>2</td>\n",
       "      <td>3</td>\n",
       "      <td>1</td>\n",
       "      <td>0</td>\n",
       "      <td>0</td>\n",
       "      <td>4</td>\n",
       "      <td>2</td>\n",
       "      <td>2</td>\n",
       "      <td>2</td>\n",
       "      <td>62.04</td>\n",
       "    </tr>\n",
       "    <tr>\n",
       "      <th>210232</th>\n",
       "      <td>2020-09-07</td>\n",
       "      <td>14</td>\n",
       "      <td>14</td>\n",
       "      <td>0</td>\n",
       "      <td>107808.0</td>\n",
       "      <td>COL</td>\n",
       "      <td>Vichada</td>\n",
       "      <td>Colombia</td>\n",
       "      <td>3</td>\n",
       "      <td>1</td>\n",
       "      <td>2</td>\n",
       "      <td>3</td>\n",
       "      <td>1</td>\n",
       "      <td>0</td>\n",
       "      <td>0</td>\n",
       "      <td>4</td>\n",
       "      <td>2</td>\n",
       "      <td>2</td>\n",
       "      <td>2</td>\n",
       "      <td>62.04</td>\n",
       "    </tr>\n",
       "    <tr>\n",
       "      <th>210233</th>\n",
       "      <td>2020-09-08</td>\n",
       "      <td>14</td>\n",
       "      <td>14</td>\n",
       "      <td>0</td>\n",
       "      <td>107808.0</td>\n",
       "      <td>COL</td>\n",
       "      <td>Vichada</td>\n",
       "      <td>Colombia</td>\n",
       "      <td>3</td>\n",
       "      <td>1</td>\n",
       "      <td>2</td>\n",
       "      <td>3</td>\n",
       "      <td>1</td>\n",
       "      <td>0</td>\n",
       "      <td>0</td>\n",
       "      <td>4</td>\n",
       "      <td>2</td>\n",
       "      <td>2</td>\n",
       "      <td>2</td>\n",
       "      <td>62.04</td>\n",
       "    </tr>\n",
       "    <tr>\n",
       "      <th>210234</th>\n",
       "      <td>2020-09-09</td>\n",
       "      <td>14</td>\n",
       "      <td>14</td>\n",
       "      <td>0</td>\n",
       "      <td>107808.0</td>\n",
       "      <td>COL</td>\n",
       "      <td>Vichada</td>\n",
       "      <td>Colombia</td>\n",
       "      <td>3</td>\n",
       "      <td>1</td>\n",
       "      <td>2</td>\n",
       "      <td>3</td>\n",
       "      <td>1</td>\n",
       "      <td>0</td>\n",
       "      <td>0</td>\n",
       "      <td>4</td>\n",
       "      <td>2</td>\n",
       "      <td>2</td>\n",
       "      <td>2</td>\n",
       "      <td>62.04</td>\n",
       "    </tr>\n",
       "    <tr>\n",
       "      <th>210235</th>\n",
       "      <td>2020-09-10</td>\n",
       "      <td>14</td>\n",
       "      <td>14</td>\n",
       "      <td>0</td>\n",
       "      <td>107808.0</td>\n",
       "      <td>COL</td>\n",
       "      <td>Vichada</td>\n",
       "      <td>Colombia</td>\n",
       "      <td>3</td>\n",
       "      <td>1</td>\n",
       "      <td>2</td>\n",
       "      <td>3</td>\n",
       "      <td>1</td>\n",
       "      <td>0</td>\n",
       "      <td>0</td>\n",
       "      <td>4</td>\n",
       "      <td>2</td>\n",
       "      <td>2</td>\n",
       "      <td>2</td>\n",
       "      <td>62.04</td>\n",
       "    </tr>\n",
       "  </tbody>\n",
       "</table>\n",
       "</div>"
      ],
      "text/plain": [
       "       ObservationDate  Confirmed  Recovered  Deaths  Population ISO3  \\\n",
       "210231      2020-09-06         14         14       0    107808.0  COL   \n",
       "210232      2020-09-07         14         14       0    107808.0  COL   \n",
       "210233      2020-09-08         14         14       0    107808.0  COL   \n",
       "210234      2020-09-09         14         14       0    107808.0  COL   \n",
       "210235      2020-09-10         14         14       0    107808.0  COL   \n",
       "\n",
       "       Province/State Country/Region  school_closing  workplace_closing  \\\n",
       "210231        Vichada       Colombia               3                  1   \n",
       "210232        Vichada       Colombia               3                  1   \n",
       "210233        Vichada       Colombia               3                  1   \n",
       "210234        Vichada       Colombia               3                  1   \n",
       "210235        Vichada       Colombia               3                  1   \n",
       "\n",
       "        cancel_events  gatherings_restrictions  transport_closing  \\\n",
       "210231              2                        3                  1   \n",
       "210232              2                        3                  1   \n",
       "210233              2                        3                  1   \n",
       "210234              2                        3                  1   \n",
       "210235              2                        3                  1   \n",
       "\n",
       "        stay_home_restrictions  internal_movement_restrictions  \\\n",
       "210231                       0                               0   \n",
       "210232                       0                               0   \n",
       "210233                       0                               0   \n",
       "210234                       0                               0   \n",
       "210235                       0                               0   \n",
       "\n",
       "        international_movement_restrictions  information_campaigns  \\\n",
       "210231                                    4                      2   \n",
       "210232                                    4                      2   \n",
       "210233                                    4                      2   \n",
       "210234                                    4                      2   \n",
       "210235                                    4                      2   \n",
       "\n",
       "        testing_policy  contact_tracing  stringency_index  \n",
       "210231               2                2             62.04  \n",
       "210232               2                2             62.04  \n",
       "210233               2                2             62.04  \n",
       "210234               2                2             62.04  \n",
       "210235               2                2             62.04  "
      ]
     },
     "execution_count": 21,
     "metadata": {},
     "output_type": "execute_result"
    }
   ],
   "source": [
    "# Raw data (the same as jhu_data)\n",
    "oxcgrt_data.raw.tail()"
   ]
  },
  {
   "cell_type": "code",
   "execution_count": 22,
   "metadata": {
    "collapsed": false
   },
   "outputs": [
    {
     "data": {
      "text/html": [
       "<div>\n",
       "<style scoped>\n",
       "    .dataframe tbody tr th:only-of-type {\n",
       "        vertical-align: middle;\n",
       "    }\n",
       "\n",
       "    .dataframe tbody tr th {\n",
       "        vertical-align: top;\n",
       "    }\n",
       "\n",
       "    .dataframe thead th {\n",
       "        text-align: right;\n",
       "    }\n",
       "</style>\n",
       "<table border=\"1\" class=\"dataframe\">\n",
       "  <thead>\n",
       "    <tr style=\"text-align: right;\">\n",
       "      <th></th>\n",
       "      <th>Date</th>\n",
       "      <th>Country</th>\n",
       "      <th>ISO3</th>\n",
       "      <th>School_closing</th>\n",
       "      <th>Workplace_closing</th>\n",
       "      <th>Cancel_events</th>\n",
       "      <th>Gatherings_restrictions</th>\n",
       "      <th>Transport_closing</th>\n",
       "      <th>Stay_home_restrictions</th>\n",
       "      <th>Internal_movement_restrictions</th>\n",
       "      <th>International_movement_restrictions</th>\n",
       "      <th>Information_campaigns</th>\n",
       "      <th>Testing_policy</th>\n",
       "      <th>Contact_tracing</th>\n",
       "      <th>Stringency_index</th>\n",
       "    </tr>\n",
       "  </thead>\n",
       "  <tbody>\n",
       "    <tr>\n",
       "      <th>210231</th>\n",
       "      <td>2020-09-06</td>\n",
       "      <td>Colombia</td>\n",
       "      <td>COL</td>\n",
       "      <td>3</td>\n",
       "      <td>1</td>\n",
       "      <td>2</td>\n",
       "      <td>3</td>\n",
       "      <td>1</td>\n",
       "      <td>0</td>\n",
       "      <td>0</td>\n",
       "      <td>4</td>\n",
       "      <td>2</td>\n",
       "      <td>2</td>\n",
       "      <td>2</td>\n",
       "      <td>62.04</td>\n",
       "    </tr>\n",
       "    <tr>\n",
       "      <th>210232</th>\n",
       "      <td>2020-09-07</td>\n",
       "      <td>Colombia</td>\n",
       "      <td>COL</td>\n",
       "      <td>3</td>\n",
       "      <td>1</td>\n",
       "      <td>2</td>\n",
       "      <td>3</td>\n",
       "      <td>1</td>\n",
       "      <td>0</td>\n",
       "      <td>0</td>\n",
       "      <td>4</td>\n",
       "      <td>2</td>\n",
       "      <td>2</td>\n",
       "      <td>2</td>\n",
       "      <td>62.04</td>\n",
       "    </tr>\n",
       "    <tr>\n",
       "      <th>210233</th>\n",
       "      <td>2020-09-08</td>\n",
       "      <td>Colombia</td>\n",
       "      <td>COL</td>\n",
       "      <td>3</td>\n",
       "      <td>1</td>\n",
       "      <td>2</td>\n",
       "      <td>3</td>\n",
       "      <td>1</td>\n",
       "      <td>0</td>\n",
       "      <td>0</td>\n",
       "      <td>4</td>\n",
       "      <td>2</td>\n",
       "      <td>2</td>\n",
       "      <td>2</td>\n",
       "      <td>62.04</td>\n",
       "    </tr>\n",
       "    <tr>\n",
       "      <th>210234</th>\n",
       "      <td>2020-09-09</td>\n",
       "      <td>Colombia</td>\n",
       "      <td>COL</td>\n",
       "      <td>3</td>\n",
       "      <td>1</td>\n",
       "      <td>2</td>\n",
       "      <td>3</td>\n",
       "      <td>1</td>\n",
       "      <td>0</td>\n",
       "      <td>0</td>\n",
       "      <td>4</td>\n",
       "      <td>2</td>\n",
       "      <td>2</td>\n",
       "      <td>2</td>\n",
       "      <td>62.04</td>\n",
       "    </tr>\n",
       "    <tr>\n",
       "      <th>210235</th>\n",
       "      <td>2020-09-10</td>\n",
       "      <td>Colombia</td>\n",
       "      <td>COL</td>\n",
       "      <td>3</td>\n",
       "      <td>1</td>\n",
       "      <td>2</td>\n",
       "      <td>3</td>\n",
       "      <td>1</td>\n",
       "      <td>0</td>\n",
       "      <td>0</td>\n",
       "      <td>4</td>\n",
       "      <td>2</td>\n",
       "      <td>2</td>\n",
       "      <td>2</td>\n",
       "      <td>62.04</td>\n",
       "    </tr>\n",
       "  </tbody>\n",
       "</table>\n",
       "</div>"
      ],
      "text/plain": [
       "             Date   Country ISO3  School_closing  Workplace_closing  \\\n",
       "210231 2020-09-06  Colombia  COL               3                  1   \n",
       "210232 2020-09-07  Colombia  COL               3                  1   \n",
       "210233 2020-09-08  Colombia  COL               3                  1   \n",
       "210234 2020-09-09  Colombia  COL               3                  1   \n",
       "210235 2020-09-10  Colombia  COL               3                  1   \n",
       "\n",
       "        Cancel_events  Gatherings_restrictions  Transport_closing  \\\n",
       "210231              2                        3                  1   \n",
       "210232              2                        3                  1   \n",
       "210233              2                        3                  1   \n",
       "210234              2                        3                  1   \n",
       "210235              2                        3                  1   \n",
       "\n",
       "        Stay_home_restrictions  Internal_movement_restrictions  \\\n",
       "210231                       0                               0   \n",
       "210232                       0                               0   \n",
       "210233                       0                               0   \n",
       "210234                       0                               0   \n",
       "210235                       0                               0   \n",
       "\n",
       "        International_movement_restrictions  Information_campaigns  \\\n",
       "210231                                    4                      2   \n",
       "210232                                    4                      2   \n",
       "210233                                    4                      2   \n",
       "210234                                    4                      2   \n",
       "210235                                    4                      2   \n",
       "\n",
       "        Testing_policy  Contact_tracing  Stringency_index  \n",
       "210231               2                2             62.04  \n",
       "210232               2                2             62.04  \n",
       "210233               2                2             62.04  \n",
       "210234               2                2             62.04  \n",
       "210235               2                2             62.04  "
      ]
     },
     "execution_count": 22,
     "metadata": {},
     "output_type": "execute_result"
    }
   ],
   "source": [
    "# Cleaned data\n",
    "oxcgrt_data.cleaned().tail()"
   ]
  },
  {
   "cell_type": "code",
   "execution_count": 23,
   "metadata": {
    "collapsed": false
   },
   "outputs": [
    {
     "data": {
      "text/html": [
       "<div>\n",
       "<style scoped>\n",
       "    .dataframe tbody tr th:only-of-type {\n",
       "        vertical-align: middle;\n",
       "    }\n",
       "\n",
       "    .dataframe tbody tr th {\n",
       "        vertical-align: top;\n",
       "    }\n",
       "\n",
       "    .dataframe thead th {\n",
       "        text-align: right;\n",
       "    }\n",
       "</style>\n",
       "<table border=\"1\" class=\"dataframe\">\n",
       "  <thead>\n",
       "    <tr style=\"text-align: right;\">\n",
       "      <th></th>\n",
       "      <th>Date</th>\n",
       "      <th>School_closing</th>\n",
       "      <th>Workplace_closing</th>\n",
       "      <th>Cancel_events</th>\n",
       "      <th>Gatherings_restrictions</th>\n",
       "      <th>Transport_closing</th>\n",
       "      <th>Stay_home_restrictions</th>\n",
       "      <th>Internal_movement_restrictions</th>\n",
       "      <th>International_movement_restrictions</th>\n",
       "      <th>Information_campaigns</th>\n",
       "      <th>Testing_policy</th>\n",
       "      <th>Contact_tracing</th>\n",
       "      <th>Stringency_index</th>\n",
       "    </tr>\n",
       "  </thead>\n",
       "  <tbody>\n",
       "    <tr>\n",
       "      <th>246</th>\n",
       "      <td>2020-09-06</td>\n",
       "      <td>1</td>\n",
       "      <td>1</td>\n",
       "      <td>1</td>\n",
       "      <td>0</td>\n",
       "      <td>0</td>\n",
       "      <td>1</td>\n",
       "      <td>1</td>\n",
       "      <td>3</td>\n",
       "      <td>2</td>\n",
       "      <td>2</td>\n",
       "      <td>1</td>\n",
       "      <td>30.56</td>\n",
       "    </tr>\n",
       "    <tr>\n",
       "      <th>247</th>\n",
       "      <td>2020-09-07</td>\n",
       "      <td>1</td>\n",
       "      <td>1</td>\n",
       "      <td>1</td>\n",
       "      <td>0</td>\n",
       "      <td>0</td>\n",
       "      <td>1</td>\n",
       "      <td>1</td>\n",
       "      <td>3</td>\n",
       "      <td>2</td>\n",
       "      <td>2</td>\n",
       "      <td>1</td>\n",
       "      <td>30.56</td>\n",
       "    </tr>\n",
       "    <tr>\n",
       "      <th>248</th>\n",
       "      <td>2020-09-08</td>\n",
       "      <td>1</td>\n",
       "      <td>1</td>\n",
       "      <td>1</td>\n",
       "      <td>0</td>\n",
       "      <td>0</td>\n",
       "      <td>1</td>\n",
       "      <td>1</td>\n",
       "      <td>3</td>\n",
       "      <td>2</td>\n",
       "      <td>2</td>\n",
       "      <td>1</td>\n",
       "      <td>30.56</td>\n",
       "    </tr>\n",
       "    <tr>\n",
       "      <th>249</th>\n",
       "      <td>2020-09-09</td>\n",
       "      <td>1</td>\n",
       "      <td>1</td>\n",
       "      <td>1</td>\n",
       "      <td>0</td>\n",
       "      <td>0</td>\n",
       "      <td>1</td>\n",
       "      <td>1</td>\n",
       "      <td>3</td>\n",
       "      <td>2</td>\n",
       "      <td>2</td>\n",
       "      <td>1</td>\n",
       "      <td>30.56</td>\n",
       "    </tr>\n",
       "    <tr>\n",
       "      <th>250</th>\n",
       "      <td>2020-09-10</td>\n",
       "      <td>1</td>\n",
       "      <td>1</td>\n",
       "      <td>1</td>\n",
       "      <td>0</td>\n",
       "      <td>0</td>\n",
       "      <td>1</td>\n",
       "      <td>1</td>\n",
       "      <td>3</td>\n",
       "      <td>2</td>\n",
       "      <td>2</td>\n",
       "      <td>1</td>\n",
       "      <td>30.56</td>\n",
       "    </tr>\n",
       "  </tbody>\n",
       "</table>\n",
       "</div>"
      ],
      "text/plain": [
       "          Date  School_closing  Workplace_closing  Cancel_events  \\\n",
       "246 2020-09-06               1                  1              1   \n",
       "247 2020-09-07               1                  1              1   \n",
       "248 2020-09-08               1                  1              1   \n",
       "249 2020-09-09               1                  1              1   \n",
       "250 2020-09-10               1                  1              1   \n",
       "\n",
       "     Gatherings_restrictions  Transport_closing  Stay_home_restrictions  \\\n",
       "246                        0                  0                       1   \n",
       "247                        0                  0                       1   \n",
       "248                        0                  0                       1   \n",
       "249                        0                  0                       1   \n",
       "250                        0                  0                       1   \n",
       "\n",
       "     Internal_movement_restrictions  International_movement_restrictions  \\\n",
       "246                               1                                    3   \n",
       "247                               1                                    3   \n",
       "248                               1                                    3   \n",
       "249                               1                                    3   \n",
       "250                               1                                    3   \n",
       "\n",
       "     Information_campaigns  Testing_policy  Contact_tracing  Stringency_index  \n",
       "246                      2               2                1             30.56  \n",
       "247                      2               2                1             30.56  \n",
       "248                      2               2                1             30.56  \n",
       "249                      2               2                1             30.56  \n",
       "250                      2               2                1             30.56  "
      ]
     },
     "execution_count": 23,
     "metadata": {},
     "output_type": "execute_result"
    }
   ],
   "source": [
    "# Subset for a country\n",
    "oxcgrt_data.subset(\"Japan\").tail()"
   ]
  },
  {
   "cell_type": "code",
   "execution_count": 24,
   "metadata": {
    "collapsed": false
   },
   "outputs": [
    {
     "data": {
      "text/html": [
       "<div>\n",
       "<style scoped>\n",
       "    .dataframe tbody tr th:only-of-type {\n",
       "        vertical-align: middle;\n",
       "    }\n",
       "\n",
       "    .dataframe tbody tr th {\n",
       "        vertical-align: top;\n",
       "    }\n",
       "\n",
       "    .dataframe thead th {\n",
       "        text-align: right;\n",
       "    }\n",
       "</style>\n",
       "<table border=\"1\" class=\"dataframe\">\n",
       "  <thead>\n",
       "    <tr style=\"text-align: right;\">\n",
       "      <th></th>\n",
       "      <th>Date</th>\n",
       "      <th>School_closing</th>\n",
       "      <th>Workplace_closing</th>\n",
       "      <th>Cancel_events</th>\n",
       "      <th>Gatherings_restrictions</th>\n",
       "      <th>Transport_closing</th>\n",
       "      <th>Stay_home_restrictions</th>\n",
       "      <th>Internal_movement_restrictions</th>\n",
       "      <th>International_movement_restrictions</th>\n",
       "      <th>Information_campaigns</th>\n",
       "      <th>Testing_policy</th>\n",
       "      <th>Contact_tracing</th>\n",
       "      <th>Stringency_index</th>\n",
       "    </tr>\n",
       "  </thead>\n",
       "  <tbody>\n",
       "    <tr>\n",
       "      <th>246</th>\n",
       "      <td>2020-09-06</td>\n",
       "      <td>1</td>\n",
       "      <td>1</td>\n",
       "      <td>1</td>\n",
       "      <td>0</td>\n",
       "      <td>0</td>\n",
       "      <td>1</td>\n",
       "      <td>1</td>\n",
       "      <td>3</td>\n",
       "      <td>2</td>\n",
       "      <td>2</td>\n",
       "      <td>1</td>\n",
       "      <td>30.56</td>\n",
       "    </tr>\n",
       "    <tr>\n",
       "      <th>247</th>\n",
       "      <td>2020-09-07</td>\n",
       "      <td>1</td>\n",
       "      <td>1</td>\n",
       "      <td>1</td>\n",
       "      <td>0</td>\n",
       "      <td>0</td>\n",
       "      <td>1</td>\n",
       "      <td>1</td>\n",
       "      <td>3</td>\n",
       "      <td>2</td>\n",
       "      <td>2</td>\n",
       "      <td>1</td>\n",
       "      <td>30.56</td>\n",
       "    </tr>\n",
       "    <tr>\n",
       "      <th>248</th>\n",
       "      <td>2020-09-08</td>\n",
       "      <td>1</td>\n",
       "      <td>1</td>\n",
       "      <td>1</td>\n",
       "      <td>0</td>\n",
       "      <td>0</td>\n",
       "      <td>1</td>\n",
       "      <td>1</td>\n",
       "      <td>3</td>\n",
       "      <td>2</td>\n",
       "      <td>2</td>\n",
       "      <td>1</td>\n",
       "      <td>30.56</td>\n",
       "    </tr>\n",
       "    <tr>\n",
       "      <th>249</th>\n",
       "      <td>2020-09-09</td>\n",
       "      <td>1</td>\n",
       "      <td>1</td>\n",
       "      <td>1</td>\n",
       "      <td>0</td>\n",
       "      <td>0</td>\n",
       "      <td>1</td>\n",
       "      <td>1</td>\n",
       "      <td>3</td>\n",
       "      <td>2</td>\n",
       "      <td>2</td>\n",
       "      <td>1</td>\n",
       "      <td>30.56</td>\n",
       "    </tr>\n",
       "    <tr>\n",
       "      <th>250</th>\n",
       "      <td>2020-09-10</td>\n",
       "      <td>1</td>\n",
       "      <td>1</td>\n",
       "      <td>1</td>\n",
       "      <td>0</td>\n",
       "      <td>0</td>\n",
       "      <td>1</td>\n",
       "      <td>1</td>\n",
       "      <td>3</td>\n",
       "      <td>2</td>\n",
       "      <td>2</td>\n",
       "      <td>1</td>\n",
       "      <td>30.56</td>\n",
       "    </tr>\n",
       "  </tbody>\n",
       "</table>\n",
       "</div>"
      ],
      "text/plain": [
       "          Date  School_closing  Workplace_closing  Cancel_events  \\\n",
       "246 2020-09-06               1                  1              1   \n",
       "247 2020-09-07               1                  1              1   \n",
       "248 2020-09-08               1                  1              1   \n",
       "249 2020-09-09               1                  1              1   \n",
       "250 2020-09-10               1                  1              1   \n",
       "\n",
       "     Gatherings_restrictions  Transport_closing  Stay_home_restrictions  \\\n",
       "246                        0                  0                       1   \n",
       "247                        0                  0                       1   \n",
       "248                        0                  0                       1   \n",
       "249                        0                  0                       1   \n",
       "250                        0                  0                       1   \n",
       "\n",
       "     Internal_movement_restrictions  International_movement_restrictions  \\\n",
       "246                               1                                    3   \n",
       "247                               1                                    3   \n",
       "248                               1                                    3   \n",
       "249                               1                                    3   \n",
       "250                               1                                    3   \n",
       "\n",
       "     Information_campaigns  Testing_policy  Contact_tracing  Stringency_index  \n",
       "246                      2               2                1             30.56  \n",
       "247                      2               2                1             30.56  \n",
       "248                      2               2                1             30.56  \n",
       "249                      2               2                1             30.56  \n",
       "250                      2               2                1             30.56  "
      ]
     },
     "execution_count": 24,
     "metadata": {},
     "output_type": "execute_result"
    }
   ],
   "source": [
    "# Subset for a country (using ISO3 code)\n",
    "oxcgrt_data.subset(\"JPN\").tail()"
   ]
  },
  {
   "cell_type": "markdown",
   "metadata": {},
   "source": [
    "## Scenario analysis\n",
    "As an example, we will analysis the number of cases in Japan."
   ]
  },
  {
   "cell_type": "code",
   "execution_count": 25,
   "metadata": {
    "collapsed": false
   },
   "outputs": [],
   "source": [
    "scenario = cs.Scenario(jhu_data, population_data, country=\"Japan\", province=None)"
   ]
  },
  {
   "cell_type": "markdown",
   "metadata": {},
   "source": [
    "### Check records"
   ]
  },
  {
   "cell_type": "code",
   "execution_count": 26,
   "metadata": {
    "collapsed": false
   },
   "outputs": [
    {
     "data": {
      "image/png": "[encoded data removed]",
      "text/plain": [
       "<Figure size 648x432 with 1 Axes>"
      ]
     },
     "metadata": {},
     "output_type": "display_data"
    },
    {
     "data": {
      "text/html": [
       "<div>\n",
       "<style scoped>\n",
       "    .dataframe tbody tr th:only-of-type {\n",
       "        vertical-align: middle;\n",
       "    }\n",
       "\n",
       "    .dataframe tbody tr th {\n",
       "        vertical-align: top;\n",
       "    }\n",
       "\n",
       "    .dataframe thead th {\n",
       "        text-align: right;\n",
       "    }\n",
       "</style>\n",
       "<table border=\"1\" class=\"dataframe\">\n",
       "  <thead>\n",
       "    <tr style=\"text-align: right;\">\n",
       "      <th></th>\n",
       "      <th>Date</th>\n",
       "      <th>Confirmed</th>\n",
       "      <th>Infected</th>\n",
       "      <th>Fatal</th>\n",
       "      <th>Recovered</th>\n",
       "    </tr>\n",
       "  </thead>\n",
       "  <tbody>\n",
       "    <tr>\n",
       "      <th>208</th>\n",
       "      <td>2020-09-06</td>\n",
       "      <td>71419</td>\n",
       "      <td>7986</td>\n",
       "      <td>1357</td>\n",
       "      <td>62076</td>\n",
       "    </tr>\n",
       "    <tr>\n",
       "      <th>209</th>\n",
       "      <td>2020-09-07</td>\n",
       "      <td>71856</td>\n",
       "      <td>7957</td>\n",
       "      <td>1363</td>\n",
       "      <td>62536</td>\n",
       "    </tr>\n",
       "    <tr>\n",
       "      <th>210</th>\n",
       "      <td>2020-09-08</td>\n",
       "      <td>72234</td>\n",
       "      <td>7575</td>\n",
       "      <td>1377</td>\n",
       "      <td>63282</td>\n",
       "    </tr>\n",
       "    <tr>\n",
       "      <th>211</th>\n",
       "      <td>2020-09-09</td>\n",
       "      <td>72726</td>\n",
       "      <td>7233</td>\n",
       "      <td>1393</td>\n",
       "      <td>64100</td>\n",
       "    </tr>\n",
       "    <tr>\n",
       "      <th>212</th>\n",
       "      <td>2020-09-10</td>\n",
       "      <td>73221</td>\n",
       "      <td>6980</td>\n",
       "      <td>1406</td>\n",
       "      <td>64835</td>\n",
       "    </tr>\n",
       "  </tbody>\n",
       "</table>\n",
       "</div>"
      ],
      "text/plain": [
       "          Date  Confirmed  Infected  Fatal  Recovered\n",
       "208 2020-09-06      71419      7986   1357      62076\n",
       "209 2020-09-07      71856      7957   1363      62536\n",
       "210 2020-09-08      72234      7575   1377      63282\n",
       "211 2020-09-09      72726      7233   1393      64100\n",
       "212 2020-09-10      73221      6980   1406      64835"
      ]
     },
     "execution_count": 26,
     "metadata": {},
     "output_type": "execute_result"
    }
   ],
   "source": [
    "import matplotlib\n",
    "warnings.simplefilter(\"ignore\", category=matplotlib.MatplotlibDeprecationWarning)\n",
    "record_df = scenario.records()\n",
    "record_df.tail()"
   ]
  },
  {
   "cell_type": "markdown",
   "metadata": {},
   "source": [
    "### S-R trend analysis"
   ]
  },
  {
   "cell_type": "code",
   "execution_count": 27,
   "metadata": {
    "collapsed": false
   },
   "outputs": [
    {
     "data": {
      "image/png": "[encoded data removed]",
      "text/plain": [
       "<Figure size 648x432 with 1 Axes>"
      ]
     },
     "metadata": {},
     "output_type": "display_data"
    },
    {
     "data": {
      "text/html": [
       "<div>\n",
       "<style scoped>\n",
       "    .dataframe tbody tr th:only-of-type {\n",
       "        vertical-align: middle;\n",
       "    }\n",
       "\n",
       "    .dataframe tbody tr th {\n",
       "        vertical-align: top;\n",
       "    }\n",
       "\n",
       "    .dataframe thead th {\n",
       "        text-align: right;\n",
       "    }\n",
       "</style>\n",
       "<table border=\"1\" class=\"dataframe\">\n",
       "  <thead>\n",
       "    <tr style=\"text-align: right;\">\n",
       "      <th></th>\n",
       "      <th>Type</th>\n",
       "      <th>Start</th>\n",
       "      <th>End</th>\n",
       "      <th>Population</th>\n",
       "    </tr>\n",
       "  </thead>\n",
       "  <tbody>\n",
       "    <tr>\n",
       "      <th>0th</th>\n",
       "      <td>Past</td>\n",
       "      <td>06Feb2020</td>\n",
       "      <td>21Apr2020</td>\n",
       "      <td>126529100</td>\n",
       "    </tr>\n",
       "    <tr>\n",
       "      <th>1st</th>\n",
       "      <td>Past</td>\n",
       "      <td>22Apr2020</td>\n",
       "      <td>05Jul2020</td>\n",
       "      <td>126529100</td>\n",
       "    </tr>\n",
       "    <tr>\n",
       "      <th>2nd</th>\n",
       "      <td>Past</td>\n",
       "      <td>06Jul2020</td>\n",
       "      <td>22Jul2020</td>\n",
       "      <td>126529100</td>\n",
       "    </tr>\n",
       "    <tr>\n",
       "      <th>3rd</th>\n",
       "      <td>Past</td>\n",
       "      <td>23Jul2020</td>\n",
       "      <td>31Jul2020</td>\n",
       "      <td>126529100</td>\n",
       "    </tr>\n",
       "    <tr>\n",
       "      <th>4th</th>\n",
       "      <td>Past</td>\n",
       "      <td>01Aug2020</td>\n",
       "      <td>10Aug2020</td>\n",
       "      <td>126529100</td>\n",
       "    </tr>\n",
       "    <tr>\n",
       "      <th>5th</th>\n",
       "      <td>Past</td>\n",
       "      <td>11Aug2020</td>\n",
       "      <td>21Aug2020</td>\n",
       "      <td>126529100</td>\n",
       "    </tr>\n",
       "    <tr>\n",
       "      <th>6th</th>\n",
       "      <td>Past</td>\n",
       "      <td>22Aug2020</td>\n",
       "      <td>29Aug2020</td>\n",
       "      <td>126529100</td>\n",
       "    </tr>\n",
       "    <tr>\n",
       "      <th>7th</th>\n",
       "      <td>Past</td>\n",
       "      <td>30Aug2020</td>\n",
       "      <td>10Sep2020</td>\n",
       "      <td>126529100</td>\n",
       "    </tr>\n",
       "  </tbody>\n",
       "</table>\n",
       "</div>"
      ],
      "text/plain": [
       "     Type      Start        End  Population\n",
       "0th  Past  06Feb2020  21Apr2020   126529100\n",
       "1st  Past  22Apr2020  05Jul2020   126529100\n",
       "2nd  Past  06Jul2020  22Jul2020   126529100\n",
       "3rd  Past  23Jul2020  31Jul2020   126529100\n",
       "4th  Past  01Aug2020  10Aug2020   126529100\n",
       "5th  Past  11Aug2020  21Aug2020   126529100\n",
       "6th  Past  22Aug2020  29Aug2020   126529100\n",
       "7th  Past  30Aug2020  10Sep2020   126529100"
      ]
     },
     "execution_count": 27,
     "metadata": {},
     "output_type": "execute_result"
    }
   ],
   "source": [
    "scenario.trend(set_phases=True)\n",
    "scenario.summary()"
   ]
  },
  {
   "cell_type": "markdown",
   "metadata": {},
   "source": [
    "### Hyperparameter estimation of ODE models\n",
    "As an example, use SIR-F model.\n",
    "We can use SIR, SIRD, (SIRFV), (SEWIRF)."
   ]
  },
  {
   "cell_type": "code",
   "execution_count": 28,
   "metadata": {
    "collapsed": false,
    "tags": []
   },
   "outputs": [
    {
     "name": "stdout",
     "output_type": "stream",
     "text": [
      "\n",
      "<SIR-F model: parameter estimation>"
     ]
    },
    {
     "name": "stdout",
     "output_type": "stream",
     "text": [
      "\n"
     ]
    },
    {
     "name": "stdout",
     "output_type": "stream",
     "text": [
      "Running optimization with 4 CPUs..."
     ]
    },
    {
     "name": "stdout",
     "output_type": "stream",
     "text": [
      "\n"
     ]
    },
    {
     "name": "stdout",
     "output_type": "stream",
     "text": [
      "\t7th phase (30Aug2020 - 10Sep2020): finished  262 trials in 0 min 10 sec"
     ]
    },
    {
     "name": "stdout",
     "output_type": "stream",
     "text": [
      "\n"
     ]
    },
    {
     "name": "stdout",
     "output_type": "stream",
     "text": [
      "\t3rd phase (23Jul2020 - 31Jul2020): finished  448 trials in 0 min 15 sec"
     ]
    },
    {
     "name": "stdout",
     "output_type": "stream",
     "text": [
      "\n"
     ]
    },
    {
     "name": "stdout",
     "output_type": "stream",
     "text": [
      "\t4th phase (01Aug2020 - 10Aug2020): finished  157 trials in 0 min  5 sec"
     ]
    },
    {
     "name": "stdout",
     "output_type": "stream",
     "text": [
      "\n"
     ]
    },
    {
     "name": "stdout",
     "output_type": "stream",
     "text": [
      "\t2nd phase (06Jul2020 - 22Jul2020): finished 1421 trials in 1 min  0 sec"
     ]
    },
    {
     "name": "stdout",
     "output_type": "stream",
     "text": [
      "\n"
     ]
    },
    {
     "name": "stdout",
     "output_type": "stream",
     "text": [
      "\t1st phase (22Apr2020 - 05Jul2020): finished 1349 trials in 1 min  0 sec"
     ]
    },
    {
     "name": "stdout",
     "output_type": "stream",
     "text": [
      "\n"
     ]
    },
    {
     "name": "stdout",
     "output_type": "stream",
     "text": [
      "\t0th phase (06Feb2020 - 21Apr2020): finished 1354 trials in 1 min  0 sec"
     ]
    },
    {
     "name": "stdout",
     "output_type": "stream",
     "text": [
      "\n"
     ]
    },
    {
     "name": "stdout",
     "output_type": "stream",
     "text": [
      "\t6th phase (22Aug2020 - 29Aug2020): finished  203 trials in 0 min  5 sec"
     ]
    },
    {
     "name": "stdout",
     "output_type": "stream",
     "text": [
      "\n"
     ]
    },
    {
     "name": "stdout",
     "output_type": "stream",
     "text": [
      "\t5th phase (11Aug2020 - 21Aug2020): finished 1512 trials in 1 min  0 sec"
     ]
    },
    {
     "name": "stdout",
     "output_type": "stream",
     "text": [
      "\n"
     ]
    },
    {
     "name": "stdout",
     "output_type": "stream",
     "text": [
      "Completed optimization. Total: 1 min 31 sec"
     ]
    },
    {
     "name": "stdout",
     "output_type": "stream",
     "text": [
      "\n"
     ]
    }
   ],
   "source": [
    "scenario.estimate(cs.SIRF)"
   ]
  },
  {
   "cell_type": "code",
   "execution_count": 29,
   "metadata": {
    "collapsed": false
   },
   "outputs": [
    {
     "data": {
      "text/html": [
       "<div>\n",
       "<style scoped>\n",
       "    .dataframe tbody tr th:only-of-type {\n",
       "        vertical-align: middle;\n",
       "    }\n",
       "\n",
       "    .dataframe tbody tr th {\n",
       "        vertical-align: top;\n",
       "    }\n",
       "\n",
       "    .dataframe thead th {\n",
       "        text-align: right;\n",
       "    }\n",
       "</style>\n",
       "<table border=\"1\" class=\"dataframe\">\n",
       "  <thead>\n",
       "    <tr style=\"text-align: right;\">\n",
       "      <th></th>\n",
       "      <th>Type</th>\n",
       "      <th>Start</th>\n",
       "      <th>End</th>\n",
       "      <th>Population</th>\n",
       "      <th>ODE</th>\n",
       "      <th>Rt</th>\n",
       "      <th>theta</th>\n",
       "      <th>kappa</th>\n",
       "      <th>rho</th>\n",
       "      <th>sigma</th>\n",
       "      <th>tau</th>\n",
       "      <th>1/beta [day]</th>\n",
       "      <th>alpha1 [-]</th>\n",
       "      <th>1/alpha2 [day]</th>\n",
       "      <th>1/gamma [day]</th>\n",
       "      <th>RMSLE</th>\n",
       "      <th>Trials</th>\n",
       "      <th>Runtime</th>\n",
       "    </tr>\n",
       "  </thead>\n",
       "  <tbody>\n",
       "    <tr>\n",
       "      <th>0th</th>\n",
       "      <td>Past</td>\n",
       "      <td>06Feb2020</td>\n",
       "      <td>21Apr2020</td>\n",
       "      <td>126529100</td>\n",
       "      <td>SIR-F</td>\n",
       "      <td>4.88</td>\n",
       "      <td>0.000120</td>\n",
       "      <td>0.000594</td>\n",
       "      <td>0.025352</td>\n",
       "      <td>0.004603</td>\n",
       "      <td>360</td>\n",
       "      <td>9</td>\n",
       "      <td>0.000</td>\n",
       "      <td>420</td>\n",
       "      <td>54</td>\n",
       "      <td>0.929576</td>\n",
       "      <td>1354</td>\n",
       "      <td>1 min  0 sec</td>\n",
       "    </tr>\n",
       "    <tr>\n",
       "      <th>1st</th>\n",
       "      <td>Past</td>\n",
       "      <td>22Apr2020</td>\n",
       "      <td>05Jul2020</td>\n",
       "      <td>126529100</td>\n",
       "      <td>SIR-F</td>\n",
       "      <td>0.36</td>\n",
       "      <td>0.047889</td>\n",
       "      <td>0.000533</td>\n",
       "      <td>0.006008</td>\n",
       "      <td>0.015183</td>\n",
       "      <td>360</td>\n",
       "      <td>41</td>\n",
       "      <td>0.048</td>\n",
       "      <td>468</td>\n",
       "      <td>16</td>\n",
       "      <td>0.820814</td>\n",
       "      <td>1349</td>\n",
       "      <td>1 min  0 sec</td>\n",
       "    </tr>\n",
       "    <tr>\n",
       "      <th>2nd</th>\n",
       "      <td>Past</td>\n",
       "      <td>06Jul2020</td>\n",
       "      <td>22Jul2020</td>\n",
       "      <td>126529100</td>\n",
       "      <td>SIR-F</td>\n",
       "      <td>2.04</td>\n",
       "      <td>0.000677</td>\n",
       "      <td>0.000021</td>\n",
       "      <td>0.033159</td>\n",
       "      <td>0.016249</td>\n",
       "      <td>360</td>\n",
       "      <td>7</td>\n",
       "      <td>0.001</td>\n",
       "      <td>11751</td>\n",
       "      <td>15</td>\n",
       "      <td>0.030952</td>\n",
       "      <td>1421</td>\n",
       "      <td>1 min  0 sec</td>\n",
       "    </tr>\n",
       "    <tr>\n",
       "      <th>3rd</th>\n",
       "      <td>Past</td>\n",
       "      <td>23Jul2020</td>\n",
       "      <td>31Jul2020</td>\n",
       "      <td>126529100</td>\n",
       "      <td>SIR-F</td>\n",
       "      <td>1.89</td>\n",
       "      <td>0.001114</td>\n",
       "      <td>0.000046</td>\n",
       "      <td>0.033613</td>\n",
       "      <td>0.017743</td>\n",
       "      <td>360</td>\n",
       "      <td>7</td>\n",
       "      <td>0.001</td>\n",
       "      <td>5456</td>\n",
       "      <td>14</td>\n",
       "      <td>0.036019</td>\n",
       "      <td>448</td>\n",
       "      <td>0 min 15 sec</td>\n",
       "    </tr>\n",
       "    <tr>\n",
       "      <th>4th</th>\n",
       "      <td>Past</td>\n",
       "      <td>01Aug2020</td>\n",
       "      <td>10Aug2020</td>\n",
       "      <td>126529100</td>\n",
       "      <td>SIR-F</td>\n",
       "      <td>1.67</td>\n",
       "      <td>0.000805</td>\n",
       "      <td>0.000079</td>\n",
       "      <td>0.028017</td>\n",
       "      <td>0.016705</td>\n",
       "      <td>360</td>\n",
       "      <td>8</td>\n",
       "      <td>0.001</td>\n",
       "      <td>3152</td>\n",
       "      <td>14</td>\n",
       "      <td>0.038062</td>\n",
       "      <td>157</td>\n",
       "      <td>0 min  5 sec</td>\n",
       "    </tr>\n",
       "    <tr>\n",
       "      <th>5th</th>\n",
       "      <td>Past</td>\n",
       "      <td>11Aug2020</td>\n",
       "      <td>21Aug2020</td>\n",
       "      <td>126529100</td>\n",
       "      <td>SIR-F</td>\n",
       "      <td>0.89</td>\n",
       "      <td>0.000153</td>\n",
       "      <td>0.000176</td>\n",
       "      <td>0.020999</td>\n",
       "      <td>0.023364</td>\n",
       "      <td>360</td>\n",
       "      <td>11</td>\n",
       "      <td>0.000</td>\n",
       "      <td>1421</td>\n",
       "      <td>10</td>\n",
       "      <td>0.020707</td>\n",
       "      <td>1512</td>\n",
       "      <td>1 min  0 sec</td>\n",
       "    </tr>\n",
       "    <tr>\n",
       "      <th>6th</th>\n",
       "      <td>Past</td>\n",
       "      <td>22Aug2020</td>\n",
       "      <td>29Aug2020</td>\n",
       "      <td>126529100</td>\n",
       "      <td>SIR-F</td>\n",
       "      <td>0.72</td>\n",
       "      <td>0.001115</td>\n",
       "      <td>0.000191</td>\n",
       "      <td>0.017778</td>\n",
       "      <td>0.024577</td>\n",
       "      <td>360</td>\n",
       "      <td>14</td>\n",
       "      <td>0.001</td>\n",
       "      <td>1307</td>\n",
       "      <td>10</td>\n",
       "      <td>0.021164</td>\n",
       "      <td>203</td>\n",
       "      <td>0 min  5 sec</td>\n",
       "    </tr>\n",
       "    <tr>\n",
       "      <th>7th</th>\n",
       "      <td>Past</td>\n",
       "      <td>30Aug2020</td>\n",
       "      <td>10Sep2020</td>\n",
       "      <td>126529100</td>\n",
       "      <td>SIR-F</td>\n",
       "      <td>0.68</td>\n",
       "      <td>0.015513</td>\n",
       "      <td>0.000172</td>\n",
       "      <td>0.015821</td>\n",
       "      <td>0.022608</td>\n",
       "      <td>360</td>\n",
       "      <td>15</td>\n",
       "      <td>0.016</td>\n",
       "      <td>1456</td>\n",
       "      <td>11</td>\n",
       "      <td>0.013789</td>\n",
       "      <td>262</td>\n",
       "      <td>0 min 10 sec</td>\n",
       "    </tr>\n",
       "  </tbody>\n",
       "</table>\n",
       "</div>"
      ],
      "text/plain": [
       "     Type      Start        End  Population    ODE    Rt     theta     kappa  \\\n",
       "0th  Past  06Feb2020  21Apr2020   126529100  SIR-F  4.88  0.000120  0.000594   \n",
       "1st  Past  22Apr2020  05Jul2020   126529100  SIR-F  0.36  0.047889  0.000533   \n",
       "2nd  Past  06Jul2020  22Jul2020   126529100  SIR-F  2.04  0.000677  0.000021   \n",
       "3rd  Past  23Jul2020  31Jul2020   126529100  SIR-F  1.89  0.001114  0.000046   \n",
       "4th  Past  01Aug2020  10Aug2020   126529100  SIR-F  1.67  0.000805  0.000079   \n",
       "5th  Past  11Aug2020  21Aug2020   126529100  SIR-F  0.89  0.000153  0.000176   \n",
       "6th  Past  22Aug2020  29Aug2020   126529100  SIR-F  0.72  0.001115  0.000191   \n",
       "7th  Past  30Aug2020  10Sep2020   126529100  SIR-F  0.68  0.015513  0.000172   \n",
       "\n",
       "          rho     sigma  tau  1/beta [day]  alpha1 [-]  1/alpha2 [day]  \\\n",
       "0th  0.025352  0.004603  360             9       0.000             420   \n",
       "1st  0.006008  0.015183  360            41       0.048             468   \n",
       "2nd  0.033159  0.016249  360             7       0.001           11751   \n",
       "3rd  0.033613  0.017743  360             7       0.001            5456   \n",
       "4th  0.028017  0.016705  360             8       0.001            3152   \n",
       "5th  0.020999  0.023364  360            11       0.000            1421   \n",
       "6th  0.017778  0.024577  360            14       0.001            1307   \n",
       "7th  0.015821  0.022608  360            15       0.016            1456   \n",
       "\n",
       "     1/gamma [day]     RMSLE  Trials       Runtime  \n",
       "0th             54  0.929576    1354  1 min  0 sec  \n",
       "1st             16  0.820814    1349  1 min  0 sec  \n",
       "2nd             15  0.030952    1421  1 min  0 sec  \n",
       "3rd             14  0.036019     448  0 min 15 sec  \n",
       "4th             14  0.038062     157  0 min  5 sec  \n",
       "5th             10  0.020707    1512  1 min  0 sec  \n",
       "6th             10  0.021164     203  0 min  5 sec  \n",
       "7th             11  0.013789     262  0 min 10 sec  "
      ]
     },
     "execution_count": 29,
     "metadata": {},
     "output_type": "execute_result"
    }
   ],
   "source": [
    "scenario.summary()"
   ]
  },
  {
   "cell_type": "markdown",
   "metadata": {},
   "source": [
    "### Accuracy of estimation"
   ]
  },
  {
   "cell_type": "code",
   "execution_count": 30,
   "metadata": {
    "collapsed": false
   },
   "outputs": [
    {
     "data": {
      "image/png": "[encoded data removed]",
      "text/plain": [
       "<Figure size 648x864 with 4 Axes>"
      ]
     },
     "metadata": {},
     "output_type": "display_data"
    }
   ],
   "source": [
    "scenario.estimate_accuracy(phase=\"1st\")"
   ]
  },
  {
   "cell_type": "markdown",
   "metadata": {},
   "source": [
    "### Get parameter value"
   ]
  },
  {
   "cell_type": "code",
   "execution_count": 31,
   "metadata": {
    "collapsed": false
   },
   "outputs": [
    {
     "data": {
      "text/plain": [
       "1.67"
      ]
     },
     "execution_count": 31,
     "metadata": {},
     "output_type": "execute_result"
    }
   ],
   "source": [
    "scenario.get(\"Rt\", phase=\"4th\")"
   ]
  },
  {
   "cell_type": "markdown",
   "metadata": {},
   "source": [
    "### Show parameter history"
   ]
  },
  {
   "cell_type": "code",
   "execution_count": 32,
   "metadata": {
    "collapsed": false
   },
   "outputs": [
    {
     "data": {
      "image/png": "[encoded data removed]",
      "text/plain": [
       "<Figure size 648x432 with 1 Axes>"
      ]
     },
     "metadata": {},
     "output_type": "display_data"
    },
    {
     "data": {
      "text/html": [
       "<div>\n",
       "<style scoped>\n",
       "    .dataframe tbody tr th:only-of-type {\n",
       "        vertical-align: middle;\n",
       "    }\n",
       "\n",
       "    .dataframe tbody tr th {\n",
       "        vertical-align: top;\n",
       "    }\n",
       "\n",
       "    .dataframe thead th {\n",
       "        text-align: right;\n",
       "    }\n",
       "</style>\n",
       "<table border=\"1\" class=\"dataframe\">\n",
       "  <thead>\n",
       "    <tr style=\"text-align: right;\">\n",
       "      <th></th>\n",
       "      <th>0th</th>\n",
       "      <th>1st</th>\n",
       "      <th>2nd</th>\n",
       "      <th>3rd</th>\n",
       "      <th>4th</th>\n",
       "      <th>5th</th>\n",
       "      <th>6th</th>\n",
       "      <th>7th</th>\n",
       "    </tr>\n",
       "  </thead>\n",
       "  <tbody>\n",
       "    <tr>\n",
       "      <th>rho</th>\n",
       "      <td>1.0</td>\n",
       "      <td>0.236995</td>\n",
       "      <td>1.307930</td>\n",
       "      <td>1.325823</td>\n",
       "      <td>1.105101</td>\n",
       "      <td>0.828290</td>\n",
       "      <td>0.701245</td>\n",
       "      <td>0.624049</td>\n",
       "    </tr>\n",
       "    <tr>\n",
       "      <th>sigma</th>\n",
       "      <td>1.0</td>\n",
       "      <td>3.298845</td>\n",
       "      <td>3.530339</td>\n",
       "      <td>3.854992</td>\n",
       "      <td>3.629438</td>\n",
       "      <td>5.076192</td>\n",
       "      <td>5.339864</td>\n",
       "      <td>4.911888</td>\n",
       "    </tr>\n",
       "  </tbody>\n",
       "</table>\n",
       "</div>"
      ],
      "text/plain": [
       "       0th       1st       2nd       3rd       4th       5th       6th  \\\n",
       "rho    1.0  0.236995  1.307930  1.325823  1.105101  0.828290  0.701245   \n",
       "sigma  1.0  3.298845  3.530339  3.854992  3.629438  5.076192  5.339864   \n",
       "\n",
       "            7th  \n",
       "rho    0.624049  \n",
       "sigma  4.911888  "
      ]
     },
     "execution_count": 32,
     "metadata": {},
     "output_type": "execute_result"
    }
   ],
   "source": [
    "df = scenario.param_history(targets=[\"rho\", \"sigma\"])\n",
    "df.T"
   ]
  },
  {
   "cell_type": "code",
   "execution_count": 33,
   "metadata": {
    "collapsed": false
   },
   "outputs": [
    {
     "data": {
      "image/png": "[encoded data removed]",
      "text/plain": [
       "<Figure size 648x432 with 1 Axes>"
      ]
     },
     "metadata": {},
     "output_type": "display_data"
    }
   ],
   "source": [
    "# version >= 2.8.0\n",
    "_ = scenario.history(target=\"rho\")"
   ]
  },
  {
   "cell_type": "code",
   "execution_count": 34,
   "metadata": {
    "collapsed": false
   },
   "outputs": [
    {
     "data": {
      "image/png": "[encoded data removed]",
      "text/plain": [
       "<Figure size 648x432 with 1 Axes>"
      ]
     },
     "metadata": {},
     "output_type": "display_data"
    }
   ],
   "source": [
    "# version >= 2.8.0\n",
    "_ = scenario.history(target=\"sigma\")"
   ]
  },
  {
   "cell_type": "markdown",
   "metadata": {},
   "source": [
    "### Show the history of reproduction number"
   ]
  },
  {
   "cell_type": "code",
   "execution_count": 35,
   "metadata": {
    "collapsed": false
   },
   "outputs": [
    {
     "data": {
      "image/png": "[encoded data removed]",
      "text/plain": [
       "<Figure size 648x432 with 1 Axes>"
      ]
     },
     "metadata": {},
     "output_type": "display_data"
    },
    {
     "data": {
      "text/html": [
       "<div>\n",
       "<style scoped>\n",
       "    .dataframe tbody tr th:only-of-type {\n",
       "        vertical-align: middle;\n",
       "    }\n",
       "\n",
       "    .dataframe tbody tr th {\n",
       "        vertical-align: top;\n",
       "    }\n",
       "\n",
       "    .dataframe thead th {\n",
       "        text-align: right;\n",
       "    }\n",
       "</style>\n",
       "<table border=\"1\" class=\"dataframe\">\n",
       "  <thead>\n",
       "    <tr style=\"text-align: right;\">\n",
       "      <th></th>\n",
       "      <th>0th</th>\n",
       "      <th>1st</th>\n",
       "      <th>2nd</th>\n",
       "      <th>3rd</th>\n",
       "      <th>4th</th>\n",
       "      <th>5th</th>\n",
       "      <th>6th</th>\n",
       "      <th>7th</th>\n",
       "    </tr>\n",
       "  </thead>\n",
       "  <tbody>\n",
       "    <tr>\n",
       "      <th>Rt</th>\n",
       "      <td>4.88</td>\n",
       "      <td>0.36</td>\n",
       "      <td>2.04</td>\n",
       "      <td>1.89</td>\n",
       "      <td>1.67</td>\n",
       "      <td>0.89</td>\n",
       "      <td>0.72</td>\n",
       "      <td>0.68</td>\n",
       "    </tr>\n",
       "  </tbody>\n",
       "</table>\n",
       "</div>"
      ],
      "text/plain": [
       "     0th   1st   2nd   3rd   4th   5th   6th   7th\n",
       "Rt  4.88  0.36  2.04  1.89  1.67  0.89  0.72  0.68"
      ]
     },
     "execution_count": 35,
     "metadata": {},
     "output_type": "execute_result"
    }
   ],
   "source": [
    "df = scenario.param_history(targets=[\"Rt\"], divide_by_first=False, show_box_plot=True)\n",
    "df.T"
   ]
  },
  {
   "cell_type": "code",
   "execution_count": 36,
   "metadata": {
    "collapsed": false
   },
   "outputs": [
    {
     "data": {
      "image/png": "[encoded data removed]",
      "text/plain": [
       "<Figure size 648x432 with 1 Axes>"
      ]
     },
     "metadata": {},
     "output_type": "display_data"
    }
   ],
   "source": [
    "# version >= 2.8.0\n",
    "_ = scenario.history(target=\"Rt\")"
   ]
  },
  {
   "cell_type": "markdown",
   "metadata": {},
   "source": [
    "### Simulate the number of cases"
   ]
  },
  {
   "cell_type": "code",
   "execution_count": 37,
   "metadata": {
    "collapsed": false
   },
   "outputs": [
    {
     "data": {
      "image/png": "[encoded data removed]",
      "text/plain": [
       "<Figure size 648x432 with 1 Axes>"
      ]
     },
     "metadata": {},
     "output_type": "display_data"
    },
    {
     "data": {
      "text/html": [
       "<div>\n",
       "<style scoped>\n",
       "    .dataframe tbody tr th:only-of-type {\n",
       "        vertical-align: middle;\n",
       "    }\n",
       "\n",
       "    .dataframe tbody tr th {\n",
       "        vertical-align: top;\n",
       "    }\n",
       "\n",
       "    .dataframe thead th {\n",
       "        text-align: right;\n",
       "    }\n",
       "</style>\n",
       "<table border=\"1\" class=\"dataframe\">\n",
       "  <thead>\n",
       "    <tr style=\"text-align: right;\">\n",
       "      <th></th>\n",
       "      <th>Date</th>\n",
       "      <th>Confirmed</th>\n",
       "      <th>Fatal</th>\n",
       "      <th>Infected</th>\n",
       "      <th>Recovered</th>\n",
       "    </tr>\n",
       "  </thead>\n",
       "  <tbody>\n",
       "    <tr>\n",
       "      <th>327</th>\n",
       "      <td>2020-12-29</td>\n",
       "      <td>88167</td>\n",
       "      <td>1815</td>\n",
       "      <td>301</td>\n",
       "      <td>86051</td>\n",
       "    </tr>\n",
       "    <tr>\n",
       "      <th>328</th>\n",
       "      <td>2020-12-30</td>\n",
       "      <td>88184</td>\n",
       "      <td>1815</td>\n",
       "      <td>292</td>\n",
       "      <td>86077</td>\n",
       "    </tr>\n",
       "    <tr>\n",
       "      <th>329</th>\n",
       "      <td>2020-12-31</td>\n",
       "      <td>88203</td>\n",
       "      <td>1816</td>\n",
       "      <td>284</td>\n",
       "      <td>86103</td>\n",
       "    </tr>\n",
       "    <tr>\n",
       "      <th>330</th>\n",
       "      <td>2021-01-01</td>\n",
       "      <td>88220</td>\n",
       "      <td>1816</td>\n",
       "      <td>276</td>\n",
       "      <td>86128</td>\n",
       "    </tr>\n",
       "    <tr>\n",
       "      <th>331</th>\n",
       "      <td>2021-01-02</td>\n",
       "      <td>88238</td>\n",
       "      <td>1817</td>\n",
       "      <td>268</td>\n",
       "      <td>86153</td>\n",
       "    </tr>\n",
       "  </tbody>\n",
       "</table>\n",
       "</div>"
      ],
      "text/plain": [
       "          Date  Confirmed  Fatal  Infected  Recovered\n",
       "327 2020-12-29      88167   1815       301      86051\n",
       "328 2020-12-30      88184   1815       292      86077\n",
       "329 2020-12-31      88203   1816       284      86103\n",
       "330 2021-01-01      88220   1816       276      86128\n",
       "331 2021-01-02      88238   1817       268      86153"
      ]
     },
     "execution_count": 37,
     "metadata": {},
     "output_type": "execute_result"
    }
   ],
   "source": [
    "scenario.clear(name=\"Main\")\n",
    "scenario.add(end_date=\"01Jan2021\", name=\"Main\")\n",
    "main_sim_df = scenario.simulate(name=\"Main\")\n",
    "main_sim_df.tail()"
   ]
  },
  {
   "cell_type": "markdown",
   "metadata": {},
   "source": [
    "### Simulate another scenario\n",
    "If $\\sigma$ will be double in 30 days, how many cases will be?"
   ]
  },
  {
   "cell_type": "code",
   "execution_count": 38,
   "metadata": {
    "collapsed": false
   },
   "outputs": [
    {
     "data": {
      "text/plain": [
       "0.022607655194294873"
      ]
     },
     "execution_count": 38,
     "metadata": {},
     "output_type": "execute_result"
    }
   ],
   "source": [
    "sigma_current = scenario.get(\"sigma\", name=\"Main\", phase=\"last\")\n",
    "sigma_current"
   ]
  },
  {
   "cell_type": "code",
   "execution_count": 39,
   "metadata": {
    "collapsed": false
   },
   "outputs": [
    {
     "data": {
      "text/plain": [
       "0.045215310388589745"
      ]
     },
     "execution_count": 39,
     "metadata": {},
     "output_type": "execute_result"
    }
   ],
   "source": [
    "sigma_new = sigma_current * 2\n",
    "sigma_new"
   ]
  },
  {
   "cell_type": "code",
   "execution_count": 40,
   "metadata": {
    "collapsed": false
   },
   "outputs": [
    {
     "data": {
      "text/html": [
       "<div>\n",
       "<style scoped>\n",
       "    .dataframe tbody tr th:only-of-type {\n",
       "        vertical-align: middle;\n",
       "    }\n",
       "\n",
       "    .dataframe tbody tr th {\n",
       "        vertical-align: top;\n",
       "    }\n",
       "\n",
       "    .dataframe thead th {\n",
       "        text-align: right;\n",
       "    }\n",
       "</style>\n",
       "<table border=\"1\" class=\"dataframe\">\n",
       "  <thead>\n",
       "    <tr style=\"text-align: right;\">\n",
       "      <th></th>\n",
       "      <th></th>\n",
       "      <th>Type</th>\n",
       "      <th>Start</th>\n",
       "      <th>End</th>\n",
       "      <th>Population</th>\n",
       "      <th>ODE</th>\n",
       "      <th>Rt</th>\n",
       "      <th>theta</th>\n",
       "      <th>kappa</th>\n",
       "      <th>rho</th>\n",
       "      <th>sigma</th>\n",
       "      <th>tau</th>\n",
       "      <th>1/beta [day]</th>\n",
       "      <th>alpha1 [-]</th>\n",
       "      <th>1/alpha2 [day]</th>\n",
       "      <th>1/gamma [day]</th>\n",
       "      <th>RMSLE</th>\n",
       "      <th>Trials</th>\n",
       "      <th>Runtime</th>\n",
       "    </tr>\n",
       "    <tr>\n",
       "      <th>Scenario</th>\n",
       "      <th>Phase</th>\n",
       "      <th></th>\n",
       "      <th></th>\n",
       "      <th></th>\n",
       "      <th></th>\n",
       "      <th></th>\n",
       "      <th></th>\n",
       "      <th></th>\n",
       "      <th></th>\n",
       "      <th></th>\n",
       "      <th></th>\n",
       "      <th></th>\n",
       "      <th></th>\n",
       "      <th></th>\n",
       "      <th></th>\n",
       "      <th></th>\n",
       "      <th></th>\n",
       "      <th></th>\n",
       "      <th></th>\n",
       "    </tr>\n",
       "  </thead>\n",
       "  <tbody>\n",
       "    <tr>\n",
       "      <th rowspan=\"9\" valign=\"top\">Main</th>\n",
       "      <th>0th</th>\n",
       "      <td>Past</td>\n",
       "      <td>06Feb2020</td>\n",
       "      <td>21Apr2020</td>\n",
       "      <td>126529100</td>\n",
       "      <td>SIR-F</td>\n",
       "      <td>4.88</td>\n",
       "      <td>0.000120</td>\n",
       "      <td>0.000594</td>\n",
       "      <td>0.025352</td>\n",
       "      <td>0.004603</td>\n",
       "      <td>360</td>\n",
       "      <td>9</td>\n",
       "      <td>0.000</td>\n",
       "      <td>420</td>\n",
       "      <td>54</td>\n",
       "      <td>0.929576</td>\n",
       "      <td>1354</td>\n",
       "      <td>1 min  0 sec</td>\n",
       "    </tr>\n",
       "    <tr>\n",
       "      <th>1st</th>\n",
       "      <td>Past</td>\n",
       "      <td>22Apr2020</td>\n",
       "      <td>05Jul2020</td>\n",
       "      <td>126529100</td>\n",
       "      <td>SIR-F</td>\n",
       "      <td>0.36</td>\n",
       "      <td>0.047889</td>\n",
       "      <td>0.000533</td>\n",
       "      <td>0.006008</td>\n",
       "      <td>0.015183</td>\n",
       "      <td>360</td>\n",
       "      <td>41</td>\n",
       "      <td>0.048</td>\n",
       "      <td>468</td>\n",
       "      <td>16</td>\n",
       "      <td>0.820814</td>\n",
       "      <td>1349</td>\n",
       "      <td>1 min  0 sec</td>\n",
       "    </tr>\n",
       "    <tr>\n",
       "      <th>2nd</th>\n",
       "      <td>Past</td>\n",
       "      <td>06Jul2020</td>\n",
       "      <td>22Jul2020</td>\n",
       "      <td>126529100</td>\n",
       "      <td>SIR-F</td>\n",
       "      <td>2.04</td>\n",
       "      <td>0.000677</td>\n",
       "      <td>0.000021</td>\n",
       "      <td>0.033159</td>\n",
       "      <td>0.016249</td>\n",
       "      <td>360</td>\n",
       "      <td>7</td>\n",
       "      <td>0.001</td>\n",
       "      <td>11751</td>\n",
       "      <td>15</td>\n",
       "      <td>0.0309519</td>\n",
       "      <td>1421</td>\n",
       "      <td>1 min  0 sec</td>\n",
       "    </tr>\n",
       "    <tr>\n",
       "      <th>3rd</th>\n",
       "      <td>Past</td>\n",
       "      <td>23Jul2020</td>\n",
       "      <td>31Jul2020</td>\n",
       "      <td>126529100</td>\n",
       "      <td>SIR-F</td>\n",
       "      <td>1.89</td>\n",
       "      <td>0.001114</td>\n",
       "      <td>0.000046</td>\n",
       "      <td>0.033613</td>\n",
       "      <td>0.017743</td>\n",
       "      <td>360</td>\n",
       "      <td>7</td>\n",
       "      <td>0.001</td>\n",
       "      <td>5456</td>\n",
       "      <td>14</td>\n",
       "      <td>0.0360191</td>\n",
       "      <td>448</td>\n",
       "      <td>0 min 15 sec</td>\n",
       "    </tr>\n",
       "    <tr>\n",
       "      <th>4th</th>\n",
       "      <td>Past</td>\n",
       "      <td>01Aug2020</td>\n",
       "      <td>10Aug2020</td>\n",
       "      <td>126529100</td>\n",
       "      <td>SIR-F</td>\n",
       "      <td>1.67</td>\n",
       "      <td>0.000805</td>\n",
       "      <td>0.000079</td>\n",
       "      <td>0.028017</td>\n",
       "      <td>0.016705</td>\n",
       "      <td>360</td>\n",
       "      <td>8</td>\n",
       "      <td>0.001</td>\n",
       "      <td>3152</td>\n",
       "      <td>14</td>\n",
       "      <td>0.038062</td>\n",
       "      <td>157</td>\n",
       "      <td>0 min  5 sec</td>\n",
       "    </tr>\n",
       "    <tr>\n",
       "      <th>5th</th>\n",
       "      <td>Past</td>\n",
       "      <td>11Aug2020</td>\n",
       "      <td>21Aug2020</td>\n",
       "      <td>126529100</td>\n",
       "      <td>SIR-F</td>\n",
       "      <td>0.89</td>\n",
       "      <td>0.000153</td>\n",
       "      <td>0.000176</td>\n",
       "      <td>0.020999</td>\n",
       "      <td>0.023364</td>\n",
       "      <td>360</td>\n",
       "      <td>11</td>\n",
       "      <td>0.000</td>\n",
       "      <td>1421</td>\n",
       "      <td>10</td>\n",
       "      <td>0.0207065</td>\n",
       "      <td>1512</td>\n",
       "      <td>1 min  0 sec</td>\n",
       "    </tr>\n",
       "    <tr>\n",
       "      <th>6th</th>\n",
       "      <td>Past</td>\n",
       "      <td>22Aug2020</td>\n",
       "      <td>29Aug2020</td>\n",
       "      <td>126529100</td>\n",
       "      <td>SIR-F</td>\n",
       "      <td>0.72</td>\n",
       "      <td>0.001115</td>\n",
       "      <td>0.000191</td>\n",
       "      <td>0.017778</td>\n",
       "      <td>0.024577</td>\n",
       "      <td>360</td>\n",
       "      <td>14</td>\n",
       "      <td>0.001</td>\n",
       "      <td>1307</td>\n",
       "      <td>10</td>\n",
       "      <td>0.0211643</td>\n",
       "      <td>203</td>\n",
       "      <td>0 min  5 sec</td>\n",
       "    </tr>\n",
       "    <tr>\n",
       "      <th>7th</th>\n",
       "      <td>Past</td>\n",
       "      <td>30Aug2020</td>\n",
       "      <td>10Sep2020</td>\n",
       "      <td>126529100</td>\n",
       "      <td>SIR-F</td>\n",
       "      <td>0.68</td>\n",
       "      <td>0.015513</td>\n",
       "      <td>0.000172</td>\n",
       "      <td>0.015821</td>\n",
       "      <td>0.022608</td>\n",
       "      <td>360</td>\n",
       "      <td>15</td>\n",
       "      <td>0.016</td>\n",
       "      <td>1456</td>\n",
       "      <td>11</td>\n",
       "      <td>0.0137894</td>\n",
       "      <td>262</td>\n",
       "      <td>0 min 10 sec</td>\n",
       "    </tr>\n",
       "    <tr>\n",
       "      <th>8th</th>\n",
       "      <td>Future</td>\n",
       "      <td>11Sep2020</td>\n",
       "      <td>01Jan2021</td>\n",
       "      <td>126529100</td>\n",
       "      <td>SIR-F</td>\n",
       "      <td>0.68</td>\n",
       "      <td>0.015513</td>\n",
       "      <td>0.000172</td>\n",
       "      <td>0.015821</td>\n",
       "      <td>0.022608</td>\n",
       "      <td>360</td>\n",
       "      <td>15</td>\n",
       "      <td>0.016</td>\n",
       "      <td>1456</td>\n",
       "      <td>11</td>\n",
       "      <td>-</td>\n",
       "      <td>-</td>\n",
       "      <td>-</td>\n",
       "    </tr>\n",
       "    <tr>\n",
       "      <th rowspan=\"10\" valign=\"top\">Medicine</th>\n",
       "      <th>0th</th>\n",
       "      <td>Past</td>\n",
       "      <td>06Feb2020</td>\n",
       "      <td>21Apr2020</td>\n",
       "      <td>126529100</td>\n",
       "      <td>SIR-F</td>\n",
       "      <td>4.88</td>\n",
       "      <td>0.000120</td>\n",
       "      <td>0.000594</td>\n",
       "      <td>0.025352</td>\n",
       "      <td>0.004603</td>\n",
       "      <td>360</td>\n",
       "      <td>9</td>\n",
       "      <td>0.000</td>\n",
       "      <td>420</td>\n",
       "      <td>54</td>\n",
       "      <td>0.929576</td>\n",
       "      <td>1354</td>\n",
       "      <td>1 min  0 sec</td>\n",
       "    </tr>\n",
       "    <tr>\n",
       "      <th>1st</th>\n",
       "      <td>Past</td>\n",
       "      <td>22Apr2020</td>\n",
       "      <td>05Jul2020</td>\n",
       "      <td>126529100</td>\n",
       "      <td>SIR-F</td>\n",
       "      <td>0.36</td>\n",
       "      <td>0.047889</td>\n",
       "      <td>0.000533</td>\n",
       "      <td>0.006008</td>\n",
       "      <td>0.015183</td>\n",
       "      <td>360</td>\n",
       "      <td>41</td>\n",
       "      <td>0.048</td>\n",
       "      <td>468</td>\n",
       "      <td>16</td>\n",
       "      <td>0.820814</td>\n",
       "      <td>1349</td>\n",
       "      <td>1 min  0 sec</td>\n",
       "    </tr>\n",
       "    <tr>\n",
       "      <th>2nd</th>\n",
       "      <td>Past</td>\n",
       "      <td>06Jul2020</td>\n",
       "      <td>22Jul2020</td>\n",
       "      <td>126529100</td>\n",
       "      <td>SIR-F</td>\n",
       "      <td>2.04</td>\n",
       "      <td>0.000677</td>\n",
       "      <td>0.000021</td>\n",
       "      <td>0.033159</td>\n",
       "      <td>0.016249</td>\n",
       "      <td>360</td>\n",
       "      <td>7</td>\n",
       "      <td>0.001</td>\n",
       "      <td>11751</td>\n",
       "      <td>15</td>\n",
       "      <td>0.0309519</td>\n",
       "      <td>1421</td>\n",
       "      <td>1 min  0 sec</td>\n",
       "    </tr>\n",
       "    <tr>\n",
       "      <th>3rd</th>\n",
       "      <td>Past</td>\n",
       "      <td>23Jul2020</td>\n",
       "      <td>31Jul2020</td>\n",
       "      <td>126529100</td>\n",
       "      <td>SIR-F</td>\n",
       "      <td>1.89</td>\n",
       "      <td>0.001114</td>\n",
       "      <td>0.000046</td>\n",
       "      <td>0.033613</td>\n",
       "      <td>0.017743</td>\n",
       "      <td>360</td>\n",
       "      <td>7</td>\n",
       "      <td>0.001</td>\n",
       "      <td>5456</td>\n",
       "      <td>14</td>\n",
       "      <td>0.0360191</td>\n",
       "      <td>448</td>\n",
       "      <td>0 min 15 sec</td>\n",
       "    </tr>\n",
       "    <tr>\n",
       "      <th>4th</th>\n",
       "      <td>Past</td>\n",
       "      <td>01Aug2020</td>\n",
       "      <td>10Aug2020</td>\n",
       "      <td>126529100</td>\n",
       "      <td>SIR-F</td>\n",
       "      <td>1.67</td>\n",
       "      <td>0.000805</td>\n",
       "      <td>0.000079</td>\n",
       "      <td>0.028017</td>\n",
       "      <td>0.016705</td>\n",
       "      <td>360</td>\n",
       "      <td>8</td>\n",
       "      <td>0.001</td>\n",
       "      <td>3152</td>\n",
       "      <td>14</td>\n",
       "      <td>0.038062</td>\n",
       "      <td>157</td>\n",
       "      <td>0 min  5 sec</td>\n",
       "    </tr>\n",
       "    <tr>\n",
       "      <th>5th</th>\n",
       "      <td>Past</td>\n",
       "      <td>11Aug2020</td>\n",
       "      <td>21Aug2020</td>\n",
       "      <td>126529100</td>\n",
       "      <td>SIR-F</td>\n",
       "      <td>0.89</td>\n",
       "      <td>0.000153</td>\n",
       "      <td>0.000176</td>\n",
       "      <td>0.020999</td>\n",
       "      <td>0.023364</td>\n",
       "      <td>360</td>\n",
       "      <td>11</td>\n",
       "      <td>0.000</td>\n",
       "      <td>1421</td>\n",
       "      <td>10</td>\n",
       "      <td>0.0207065</td>\n",
       "      <td>1512</td>\n",
       "      <td>1 min  0 sec</td>\n",
       "    </tr>\n",
       "    <tr>\n",
       "      <th>6th</th>\n",
       "      <td>Past</td>\n",
       "      <td>22Aug2020</td>\n",
       "      <td>29Aug2020</td>\n",
       "      <td>126529100</td>\n",
       "      <td>SIR-F</td>\n",
       "      <td>0.72</td>\n",
       "      <td>0.001115</td>\n",
       "      <td>0.000191</td>\n",
       "      <td>0.017778</td>\n",
       "      <td>0.024577</td>\n",
       "      <td>360</td>\n",
       "      <td>14</td>\n",
       "      <td>0.001</td>\n",
       "      <td>1307</td>\n",
       "      <td>10</td>\n",
       "      <td>0.0211643</td>\n",
       "      <td>203</td>\n",
       "      <td>0 min  5 sec</td>\n",
       "    </tr>\n",
       "    <tr>\n",
       "      <th>7th</th>\n",
       "      <td>Past</td>\n",
       "      <td>30Aug2020</td>\n",
       "      <td>10Sep2020</td>\n",
       "      <td>126529100</td>\n",
       "      <td>SIR-F</td>\n",
       "      <td>0.68</td>\n",
       "      <td>0.015513</td>\n",
       "      <td>0.000172</td>\n",
       "      <td>0.015821</td>\n",
       "      <td>0.022608</td>\n",
       "      <td>360</td>\n",
       "      <td>15</td>\n",
       "      <td>0.016</td>\n",
       "      <td>1456</td>\n",
       "      <td>11</td>\n",
       "      <td>0.0137894</td>\n",
       "      <td>262</td>\n",
       "      <td>0 min 10 sec</td>\n",
       "    </tr>\n",
       "    <tr>\n",
       "      <th>8th</th>\n",
       "      <td>Future</td>\n",
       "      <td>11Sep2020</td>\n",
       "      <td>11Oct2020</td>\n",
       "      <td>126529100</td>\n",
       "      <td>SIR-F</td>\n",
       "      <td>0.68</td>\n",
       "      <td>0.015513</td>\n",
       "      <td>0.000172</td>\n",
       "      <td>0.015821</td>\n",
       "      <td>0.022608</td>\n",
       "      <td>360</td>\n",
       "      <td>15</td>\n",
       "      <td>0.016</td>\n",
       "      <td>1456</td>\n",
       "      <td>11</td>\n",
       "      <td>-</td>\n",
       "      <td>-</td>\n",
       "      <td>-</td>\n",
       "    </tr>\n",
       "    <tr>\n",
       "      <th>9th</th>\n",
       "      <td>Future</td>\n",
       "      <td>12Oct2020</td>\n",
       "      <td>01Jan2021</td>\n",
       "      <td>126529100</td>\n",
       "      <td>SIR-F</td>\n",
       "      <td>0.34</td>\n",
       "      <td>0.015513</td>\n",
       "      <td>0.000172</td>\n",
       "      <td>0.015821</td>\n",
       "      <td>0.045215</td>\n",
       "      <td>360</td>\n",
       "      <td>15</td>\n",
       "      <td>0.016</td>\n",
       "      <td>1456</td>\n",
       "      <td>5</td>\n",
       "      <td>-</td>\n",
       "      <td>-</td>\n",
       "      <td>-</td>\n",
       "    </tr>\n",
       "  </tbody>\n",
       "</table>\n",
       "</div>"
      ],
      "text/plain": [
       "                  Type      Start        End  Population    ODE    Rt  \\\n",
       "Scenario Phase                                                          \n",
       "Main     0th      Past  06Feb2020  21Apr2020   126529100  SIR-F  4.88   \n",
       "         1st      Past  22Apr2020  05Jul2020   126529100  SIR-F  0.36   \n",
       "         2nd      Past  06Jul2020  22Jul2020   126529100  SIR-F  2.04   \n",
       "         3rd      Past  23Jul2020  31Jul2020   126529100  SIR-F  1.89   \n",
       "         4th      Past  01Aug2020  10Aug2020   126529100  SIR-F  1.67   \n",
       "         5th      Past  11Aug2020  21Aug2020   126529100  SIR-F  0.89   \n",
       "         6th      Past  22Aug2020  29Aug2020   126529100  SIR-F  0.72   \n",
       "         7th      Past  30Aug2020  10Sep2020   126529100  SIR-F  0.68   \n",
       "         8th    Future  11Sep2020  01Jan2021   126529100  SIR-F  0.68   \n",
       "Medicine 0th      Past  06Feb2020  21Apr2020   126529100  SIR-F  4.88   \n",
       "         1st      Past  22Apr2020  05Jul2020   126529100  SIR-F  0.36   \n",
       "         2nd      Past  06Jul2020  22Jul2020   126529100  SIR-F  2.04   \n",
       "         3rd      Past  23Jul2020  31Jul2020   126529100  SIR-F  1.89   \n",
       "         4th      Past  01Aug2020  10Aug2020   126529100  SIR-F  1.67   \n",
       "         5th      Past  11Aug2020  21Aug2020   126529100  SIR-F  0.89   \n",
       "         6th      Past  22Aug2020  29Aug2020   126529100  SIR-F  0.72   \n",
       "         7th      Past  30Aug2020  10Sep2020   126529100  SIR-F  0.68   \n",
       "         8th    Future  11Sep2020  11Oct2020   126529100  SIR-F  0.68   \n",
       "         9th    Future  12Oct2020  01Jan2021   126529100  SIR-F  0.34   \n",
       "\n",
       "                   theta     kappa       rho     sigma  tau  1/beta [day]  \\\n",
       "Scenario Phase                                                              \n",
       "Main     0th    0.000120  0.000594  0.025352  0.004603  360             9   \n",
       "         1st    0.047889  0.000533  0.006008  0.015183  360            41   \n",
       "         2nd    0.000677  0.000021  0.033159  0.016249  360             7   \n",
       "         3rd    0.001114  0.000046  0.033613  0.017743  360             7   \n",
       "         4th    0.000805  0.000079  0.028017  0.016705  360             8   \n",
       "         5th    0.000153  0.000176  0.020999  0.023364  360            11   \n",
       "         6th    0.001115  0.000191  0.017778  0.024577  360            14   \n",
       "         7th    0.015513  0.000172  0.015821  0.022608  360            15   \n",
       "         8th    0.015513  0.000172  0.015821  0.022608  360            15   \n",
       "Medicine 0th    0.000120  0.000594  0.025352  0.004603  360             9   \n",
       "         1st    0.047889  0.000533  0.006008  0.015183  360            41   \n",
       "         2nd    0.000677  0.000021  0.033159  0.016249  360             7   \n",
       "         3rd    0.001114  0.000046  0.033613  0.017743  360             7   \n",
       "         4th    0.000805  0.000079  0.028017  0.016705  360             8   \n",
       "         5th    0.000153  0.000176  0.020999  0.023364  360            11   \n",
       "         6th    0.001115  0.000191  0.017778  0.024577  360            14   \n",
       "         7th    0.015513  0.000172  0.015821  0.022608  360            15   \n",
       "         8th    0.015513  0.000172  0.015821  0.022608  360            15   \n",
       "         9th    0.015513  0.000172  0.015821  0.045215  360            15   \n",
       "\n",
       "                alpha1 [-]  1/alpha2 [day]  1/gamma [day]      RMSLE Trials  \\\n",
       "Scenario Phase                                                                \n",
       "Main     0th         0.000             420             54   0.929576   1354   \n",
       "         1st         0.048             468             16   0.820814   1349   \n",
       "         2nd         0.001           11751             15  0.0309519   1421   \n",
       "         3rd         0.001            5456             14  0.0360191    448   \n",
       "         4th         0.001            3152             14   0.038062    157   \n",
       "         5th         0.000            1421             10  0.0207065   1512   \n",
       "         6th         0.001            1307             10  0.0211643    203   \n",
       "         7th         0.016            1456             11  0.0137894    262   \n",
       "         8th         0.016            1456             11          -      -   \n",
       "Medicine 0th         0.000             420             54   0.929576   1354   \n",
       "         1st         0.048             468             16   0.820814   1349   \n",
       "         2nd         0.001           11751             15  0.0309519   1421   \n",
       "         3rd         0.001            5456             14  0.0360191    448   \n",
       "         4th         0.001            3152             14   0.038062    157   \n",
       "         5th         0.000            1421             10  0.0207065   1512   \n",
       "         6th         0.001            1307             10  0.0211643    203   \n",
       "         7th         0.016            1456             11  0.0137894    262   \n",
       "         8th         0.016            1456             11          -      -   \n",
       "         9th         0.016            1456              5          -      -   \n",
       "\n",
       "                     Runtime  \n",
       "Scenario Phase                \n",
       "Main     0th    1 min  0 sec  \n",
       "         1st    1 min  0 sec  \n",
       "         2nd    1 min  0 sec  \n",
       "         3rd    0 min 15 sec  \n",
       "         4th    0 min  5 sec  \n",
       "         5th    1 min  0 sec  \n",
       "         6th    0 min  5 sec  \n",
       "         7th    0 min 10 sec  \n",
       "         8th               -  \n",
       "Medicine 0th    1 min  0 sec  \n",
       "         1st    1 min  0 sec  \n",
       "         2nd    1 min  0 sec  \n",
       "         3rd    0 min 15 sec  \n",
       "         4th    0 min  5 sec  \n",
       "         5th    1 min  0 sec  \n",
       "         6th    0 min  5 sec  \n",
       "         7th    0 min 10 sec  \n",
       "         8th               -  \n",
       "         9th               -  "
      ]
     },
     "execution_count": 40,
     "metadata": {},
     "output_type": "execute_result"
    }
   ],
   "source": [
    "scenario.clear(name=\"Medicine\")\n",
    "scenario.add(name=\"Medicine\", days=30, sigma=sigma_current)\n",
    "scenario.add(name=\"Medicine\", end_date=\"01Jan2021\", sigma=sigma_new)\n",
    "scenario.summary()"
   ]
  },
  {
   "cell_type": "code",
   "execution_count": 41,
   "metadata": {
    "collapsed": false
   },
   "outputs": [
    {
     "data": {
      "image/png": "[encoded data removed]",
      "text/plain": [
       "<Figure size 648x432 with 1 Axes>"
      ]
     },
     "metadata": {},
     "output_type": "display_data"
    },
    {
     "data": {
      "text/html": [
       "<div>\n",
       "<style scoped>\n",
       "    .dataframe tbody tr th:only-of-type {\n",
       "        vertical-align: middle;\n",
       "    }\n",
       "\n",
       "    .dataframe tbody tr th {\n",
       "        vertical-align: top;\n",
       "    }\n",
       "\n",
       "    .dataframe thead th {\n",
       "        text-align: right;\n",
       "    }\n",
       "</style>\n",
       "<table border=\"1\" class=\"dataframe\">\n",
       "  <thead>\n",
       "    <tr style=\"text-align: right;\">\n",
       "      <th></th>\n",
       "      <th>Date</th>\n",
       "      <th>Confirmed</th>\n",
       "      <th>Fatal</th>\n",
       "      <th>Infected</th>\n",
       "      <th>Recovered</th>\n",
       "    </tr>\n",
       "  </thead>\n",
       "  <tbody>\n",
       "    <tr>\n",
       "      <th>327</th>\n",
       "      <td>2020-12-29</td>\n",
       "      <td>84099</td>\n",
       "      <td>1708</td>\n",
       "      <td>0</td>\n",
       "      <td>82391</td>\n",
       "    </tr>\n",
       "    <tr>\n",
       "      <th>328</th>\n",
       "      <td>2020-12-30</td>\n",
       "      <td>84099</td>\n",
       "      <td>1708</td>\n",
       "      <td>0</td>\n",
       "      <td>82391</td>\n",
       "    </tr>\n",
       "    <tr>\n",
       "      <th>329</th>\n",
       "      <td>2020-12-31</td>\n",
       "      <td>84099</td>\n",
       "      <td>1708</td>\n",
       "      <td>0</td>\n",
       "      <td>82391</td>\n",
       "    </tr>\n",
       "    <tr>\n",
       "      <th>330</th>\n",
       "      <td>2021-01-01</td>\n",
       "      <td>84099</td>\n",
       "      <td>1708</td>\n",
       "      <td>0</td>\n",
       "      <td>82391</td>\n",
       "    </tr>\n",
       "    <tr>\n",
       "      <th>331</th>\n",
       "      <td>2021-01-02</td>\n",
       "      <td>84099</td>\n",
       "      <td>1708</td>\n",
       "      <td>0</td>\n",
       "      <td>82391</td>\n",
       "    </tr>\n",
       "  </tbody>\n",
       "</table>\n",
       "</div>"
      ],
      "text/plain": [
       "          Date  Confirmed  Fatal  Infected  Recovered\n",
       "327 2020-12-29      84099   1708         0      82391\n",
       "328 2020-12-30      84099   1708         0      82391\n",
       "329 2020-12-31      84099   1708         0      82391\n",
       "330 2021-01-01      84099   1708         0      82391\n",
       "331 2021-01-02      84099   1708         0      82391"
      ]
     },
     "execution_count": 41,
     "metadata": {},
     "output_type": "execute_result"
    }
   ],
   "source": [
    "scenario.simulate(name=\"Medicine\").tail()"
   ]
  },
  {
   "cell_type": "markdown",
   "metadata": {},
   "source": [
    "### Compare the scenarios"
   ]
  },
  {
   "cell_type": "code",
   "execution_count": 42,
   "metadata": {
    "collapsed": false
   },
   "outputs": [
    {
     "data": {
      "text/html": [
       "<div>\n",
       "<style scoped>\n",
       "    .dataframe tbody tr th:only-of-type {\n",
       "        vertical-align: middle;\n",
       "    }\n",
       "\n",
       "    .dataframe tbody tr th {\n",
       "        vertical-align: top;\n",
       "    }\n",
       "\n",
       "    .dataframe thead th {\n",
       "        text-align: right;\n",
       "    }\n",
       "</style>\n",
       "<table border=\"1\" class=\"dataframe\">\n",
       "  <thead>\n",
       "    <tr style=\"text-align: right;\">\n",
       "      <th></th>\n",
       "      <th>max(Infected)</th>\n",
       "      <th>argmax(Infected)</th>\n",
       "      <th>Infected on 02Jan2021</th>\n",
       "      <th>Fatal on 02Jan2021</th>\n",
       "      <th>9th_Rt</th>\n",
       "    </tr>\n",
       "  </thead>\n",
       "  <tbody>\n",
       "    <tr>\n",
       "      <th>Main</th>\n",
       "      <td>13947</td>\n",
       "      <td>10Aug2020</td>\n",
       "      <td>268</td>\n",
       "      <td>1817</td>\n",
       "      <td>-</td>\n",
       "    </tr>\n",
       "    <tr>\n",
       "      <th>Medicine</th>\n",
       "      <td>13947</td>\n",
       "      <td>10Aug2020</td>\n",
       "      <td>0</td>\n",
       "      <td>1708</td>\n",
       "      <td>0.34</td>\n",
       "    </tr>\n",
       "  </tbody>\n",
       "</table>\n",
       "</div>"
      ],
      "text/plain": [
       "          max(Infected) argmax(Infected)  Infected on 02Jan2021  \\\n",
       "Main              13947        10Aug2020                    268   \n",
       "Medicine          13947        10Aug2020                      0   \n",
       "\n",
       "          Fatal on 02Jan2021 9th_Rt  \n",
       "Main                    1817      -  \n",
       "Medicine                1708   0.34  "
      ]
     },
     "execution_count": 42,
     "metadata": {},
     "output_type": "execute_result"
    }
   ],
   "source": [
    "scenario.describe()"
   ]
  },
  {
   "cell_type": "code",
   "execution_count": 43,
   "metadata": {
    "collapsed": false
   },
   "outputs": [
    {
     "data": {
      "image/png": "[encoded data removed]",
      "text/plain": [
       "<Figure size 648x432 with 1 Axes>"
      ]
     },
     "metadata": {},
     "output_type": "display_data"
    }
   ],
   "source": [
    "# version >= 2.8.0\n",
    "_ = scenario.history(target=\"Rt\")"
   ]
  },
  {
   "cell_type": "code",
   "execution_count": 44,
   "metadata": {
    "collapsed": false
   },
   "outputs": [
    {
     "data": {
      "image/png": "[encoded data removed]",
      "text/plain": [
       "<Figure size 648x432 with 1 Axes>"
      ]
     },
     "metadata": {},
     "output_type": "display_data"
    }
   ],
   "source": [
    "# version >= 2.8.0\n",
    "_ = scenario.history(target=\"rho\")"
   ]
  },
  {
   "cell_type": "code",
   "execution_count": 45,
   "metadata": {
    "collapsed": false
   },
   "outputs": [
    {
     "data": {
      "image/png": "[encoded data removed]",
      "text/plain": [
       "<Figure size 648x432 with 1 Axes>"
      ]
     },
     "metadata": {},
     "output_type": "display_data"
    }
   ],
   "source": [
    "# version >= 2.8.0\n",
    "_ = scenario.history(target=\"sigma\")"
   ]
  },
  {
   "cell_type": "code",
   "execution_count": 46,
   "metadata": {
    "collapsed": false
   },
   "outputs": [
    {
     "data": {
      "image/png": "[encoded data removed]",
      "text/plain": [
       "<Figure size 648x432 with 1 Axes>"
      ]
     },
     "metadata": {},
     "output_type": "display_data"
    }
   ],
   "source": [
    "# version >= 2.8.0\n",
    "_ = scenario.history(target=\"Infected\")"
   ]
  }
 ],
 "metadata": {
  "kernelspec": {
   "display_name": "Python 3.8.2 64-bit ('covid19-sir': pipenv)",
   "name": "python_defaultSpec_1597313350107"
  },
  "language_info": {
   "codemirror_mode": {
    "name": "ipython",
    "version": 3
   },
   "file_extension": ".py",
   "mimetype": "text/x-python",
   "name": "python",
   "nbconvert_exporter": "python",
   "pygments_lexer": "ipython3",
   "version": 3
  }
 },
 "nbformat": 4,
 "nbformat_minor": 4
}
