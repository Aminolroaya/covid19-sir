{
 "cells": [
  {
   "cell_type": "markdown",
   "metadata": {},
   "source": [
    "# Usage (datasets)\n",
    "Here, we will review the raw/cleaned datasets. `Scenario` class performs data cleaning internally using `JHUData` class and so on, but it is important to review the features and data types before analysing them."
   ]
  },
  {
   "cell_type": "markdown",
   "metadata": {},
   "source": [
    "## Preparation\n",
    "Prepare the packages."
   ]
  },
  {
   "cell_type": "code",
   "execution_count": 1,
   "metadata": {
    "collapsed": false
   },
   "outputs": [],
   "source": [
    "# Standard users\n",
    "# !pip install covsirphy"
   ]
  },
  {
   "cell_type": "code",
   "execution_count": 2,
   "metadata": {
    "collapsed": false
   },
   "outputs": [],
   "source": [
    "# Developers (Note: this notebook is in example directory)\n",
    "import os\n",
    "os.chdir(\"../\")"
   ]
  },
  {
   "cell_type": "code",
   "execution_count": 3,
   "metadata": {
    "collapsed": false
   },
   "outputs": [],
   "source": [
    "from pprint import pprint"
   ]
  },
  {
   "cell_type": "code",
   "execution_count": 4,
   "metadata": {
    "collapsed": false,
    "tags": []
   },
   "outputs": [
    {
     "data": {
      "text/plain": [
       "'2.12.0-phi.new.339.357.359.362.366.367.382.383.389.408.fix.360.373.406'"
      ]
     },
     "execution_count": 4,
     "metadata": {},
     "output_type": "execute_result"
    }
   ],
   "source": [
    "import covsirphy as cs\n",
    "cs.__version__"
   ]
  },
  {
   "cell_type": "markdown",
   "metadata": {},
   "source": [
    "## Dataset preparation\n",
    "Download the datasets to \"input\" directory and load them.\n",
    "\n",
    "If \"input\" directory has the datasets, `DataLoader` instance will load the local files. If the datasets were updated in remote servers, `DataLoader` will update the local files automatically and download the datasets to \"input\" directory and load them."
   ]
  },
  {
   "cell_type": "code",
   "execution_count": 5,
   "metadata": {
    "collapsed": false,
    "tags": []
   },
   "outputs": [
    {
     "name": "stdout",
     "output_type": "stream",
     "text": [
      "Retrieving datasets from COVID-19 Data Hub: https://covid19datahub.io/\n"
     ]
    },
    {
     "name": "stdout",
     "output_type": "stream",
     "text": [
      "\n",
      "Please set verbose=2 to see the detailed citation list.\n",
      "\n",
      "\n"
     ]
    },
    {
     "name": "stdout",
     "output_type": "stream",
     "text": [
      "Retrieving linelist from Open COVID-19 Data Working Group repository: https://github.com/beoutbreakprepared/nCoV2019\n"
     ]
    },
    {
     "name": "stdout",
     "output_type": "stream",
     "text": [
      "Retrieving COVID-19 dataset in Japan from https://github.com/lisphilar/covid19-sir/data/japan\n"
     ]
    }
   ],
   "source": [
    "data_loader = cs.DataLoader(\"input\")\n",
    "# The number of cases (JHU style)\n",
    "jhu_data = data_loader.jhu()\n",
    "# Linelist of case reports\n",
    "linelist = data_loader.linelist()\n",
    "# Population in each country\n",
    "population_data = data_loader.population()\n",
    "# Government Response Tracker (OxCGRT)\n",
    "oxcgrt_data = data_loader.oxcgrt()\n",
    "# The number of tests\n",
    "pcr_data = data_loader.pcr()"
   ]
  },
  {
   "cell_type": "markdown",
   "metadata": {},
   "source": [
    "### The number of cases (JHU style)\n",
    "The main dataset is that of the number of cases and was saved as `jhu_data`, an instance of `JHUData` class. This includes \"Confirmed\", \"Infected\", \"Recovered\" and \"Fatal\". \"Infected\" was calculated as \"Confirmed - Recovered - Fatal\"."
   ]
  },
  {
   "cell_type": "code",
   "execution_count": 6,
   "metadata": {
    "collapsed": false
   },
   "outputs": [
    {
     "data": {
      "text/plain": [
       "covsirphy.cleaning.jhu_data.JHUData"
      ]
     },
     "execution_count": 6,
     "metadata": {},
     "output_type": "execute_result"
    }
   ],
   "source": [
    "type(jhu_data)"
   ]
  },
  {
   "cell_type": "markdown",
   "metadata": {},
   "source": [
    "The dataset will be retrieved from [COVID-19 Data Hub](https://covid19datahub.io/) and [Data folder of CovsirPhy project](https://github.com/lisphilar/covid19-sir/tree/master/data). Description of these projects will be shown as follows."
   ]
  },
  {
   "cell_type": "code",
   "execution_count": 7,
   "metadata": {
    "collapsed": false,
    "tags": []
   },
   "outputs": [
    {
     "name": "stdout",
     "output_type": "stream",
     "text": [
      "(Secondary source) Guidotti, E., Ardia, D., (2020), \"COVID-19 Data Hub\", Journal of Open Source Software 5(51):2376, doi: 10.21105/joss.02376.\n",
      "Lisphilar (2020), COVID-19 dataset in Japan, GitHub repository, https://github.com/lisphilar/covid19-sir/data/japan\n"
     ]
    }
   ],
   "source": [
    "# Description/citation\n",
    "print(jhu_data.citation)"
   ]
  },
  {
   "cell_type": "code",
   "execution_count": 8,
   "metadata": {
    "collapsed": false,
    "tags": []
   },
   "outputs": [],
   "source": [
    "# Detailed citation list of COVID-19 Data Hub\n",
    "# print(data_loader.covid19dh_citation)"
   ]
  },
  {
   "cell_type": "code",
   "execution_count": 9,
   "metadata": {
    "collapsed": false
   },
   "outputs": [
    {
     "data": {
      "text/html": [
       "<div>\n",
       "<style scoped>\n",
       "    .dataframe tbody tr th:only-of-type {\n",
       "        vertical-align: middle;\n",
       "    }\n",
       "\n",
       "    .dataframe tbody tr th {\n",
       "        vertical-align: top;\n",
       "    }\n",
       "\n",
       "    .dataframe thead th {\n",
       "        text-align: right;\n",
       "    }\n",
       "</style>\n",
       "<table border=\"1\" class=\"dataframe\">\n",
       "  <thead>\n",
       "    <tr style=\"text-align: right;\">\n",
       "      <th></th>\n",
       "      <th>ObservationDate</th>\n",
       "      <th>Tests</th>\n",
       "      <th>Confirmed</th>\n",
       "      <th>Recovered</th>\n",
       "      <th>Deaths</th>\n",
       "      <th>Population</th>\n",
       "      <th>ISO3</th>\n",
       "      <th>Province/State</th>\n",
       "      <th>Country/Region</th>\n",
       "      <th>school_closing</th>\n",
       "      <th>...</th>\n",
       "      <th>cancel_events</th>\n",
       "      <th>gatherings_restrictions</th>\n",
       "      <th>transport_closing</th>\n",
       "      <th>stay_home_restrictions</th>\n",
       "      <th>internal_movement_restrictions</th>\n",
       "      <th>international_movement_restrictions</th>\n",
       "      <th>information_campaigns</th>\n",
       "      <th>testing_policy</th>\n",
       "      <th>contact_tracing</th>\n",
       "      <th>stringency_index</th>\n",
       "    </tr>\n",
       "  </thead>\n",
       "  <tbody>\n",
       "    <tr>\n",
       "      <th>358099</th>\n",
       "      <td>2020-12-08</td>\n",
       "      <td>4732</td>\n",
       "      <td>978.0</td>\n",
       "      <td>923</td>\n",
       "      <td>12</td>\n",
       "      <td>107808.0</td>\n",
       "      <td>COL</td>\n",
       "      <td>Vichada</td>\n",
       "      <td>Colombia</td>\n",
       "      <td>3</td>\n",
       "      <td>...</td>\n",
       "      <td>1</td>\n",
       "      <td>3</td>\n",
       "      <td>1</td>\n",
       "      <td>1</td>\n",
       "      <td>1</td>\n",
       "      <td>4</td>\n",
       "      <td>2</td>\n",
       "      <td>2</td>\n",
       "      <td>2</td>\n",
       "      <td>60.19</td>\n",
       "    </tr>\n",
       "    <tr>\n",
       "      <th>358100</th>\n",
       "      <td>2020-12-09</td>\n",
       "      <td>4819</td>\n",
       "      <td>1047.0</td>\n",
       "      <td>955</td>\n",
       "      <td>12</td>\n",
       "      <td>107808.0</td>\n",
       "      <td>COL</td>\n",
       "      <td>Vichada</td>\n",
       "      <td>Colombia</td>\n",
       "      <td>3</td>\n",
       "      <td>...</td>\n",
       "      <td>1</td>\n",
       "      <td>3</td>\n",
       "      <td>1</td>\n",
       "      <td>1</td>\n",
       "      <td>1</td>\n",
       "      <td>4</td>\n",
       "      <td>2</td>\n",
       "      <td>2</td>\n",
       "      <td>2</td>\n",
       "      <td>60.19</td>\n",
       "    </tr>\n",
       "    <tr>\n",
       "      <th>358101</th>\n",
       "      <td>2020-12-10</td>\n",
       "      <td>4819</td>\n",
       "      <td>1049.0</td>\n",
       "      <td>1024</td>\n",
       "      <td>12</td>\n",
       "      <td>107808.0</td>\n",
       "      <td>COL</td>\n",
       "      <td>Vichada</td>\n",
       "      <td>Colombia</td>\n",
       "      <td>3</td>\n",
       "      <td>...</td>\n",
       "      <td>1</td>\n",
       "      <td>3</td>\n",
       "      <td>1</td>\n",
       "      <td>1</td>\n",
       "      <td>1</td>\n",
       "      <td>4</td>\n",
       "      <td>2</td>\n",
       "      <td>2</td>\n",
       "      <td>2</td>\n",
       "      <td>60.19</td>\n",
       "    </tr>\n",
       "    <tr>\n",
       "      <th>358102</th>\n",
       "      <td>2020-12-11</td>\n",
       "      <td>4820</td>\n",
       "      <td>1058.0</td>\n",
       "      <td>1025</td>\n",
       "      <td>12</td>\n",
       "      <td>107808.0</td>\n",
       "      <td>COL</td>\n",
       "      <td>Vichada</td>\n",
       "      <td>Colombia</td>\n",
       "      <td>3</td>\n",
       "      <td>...</td>\n",
       "      <td>1</td>\n",
       "      <td>3</td>\n",
       "      <td>1</td>\n",
       "      <td>1</td>\n",
       "      <td>1</td>\n",
       "      <td>4</td>\n",
       "      <td>2</td>\n",
       "      <td>2</td>\n",
       "      <td>2</td>\n",
       "      <td>60.19</td>\n",
       "    </tr>\n",
       "    <tr>\n",
       "      <th>358103</th>\n",
       "      <td>2020-12-12</td>\n",
       "      <td>4820</td>\n",
       "      <td>1058.0</td>\n",
       "      <td>1025</td>\n",
       "      <td>12</td>\n",
       "      <td>107808.0</td>\n",
       "      <td>COL</td>\n",
       "      <td>Vichada</td>\n",
       "      <td>Colombia</td>\n",
       "      <td>3</td>\n",
       "      <td>...</td>\n",
       "      <td>1</td>\n",
       "      <td>3</td>\n",
       "      <td>1</td>\n",
       "      <td>1</td>\n",
       "      <td>1</td>\n",
       "      <td>4</td>\n",
       "      <td>2</td>\n",
       "      <td>2</td>\n",
       "      <td>2</td>\n",
       "      <td>60.19</td>\n",
       "    </tr>\n",
       "  </tbody>\n",
       "</table>\n",
       "<p>5 rows × 21 columns</p>\n",
       "</div>"
      ],
      "text/plain": [
       "       ObservationDate  Tests  Confirmed  Recovered  Deaths  Population ISO3  \\\n",
       "358099      2020-12-08   4732      978.0        923      12    107808.0  COL   \n",
       "358100      2020-12-09   4819     1047.0        955      12    107808.0  COL   \n",
       "358101      2020-12-10   4819     1049.0       1024      12    107808.0  COL   \n",
       "358102      2020-12-11   4820     1058.0       1025      12    107808.0  COL   \n",
       "358103      2020-12-12   4820     1058.0       1025      12    107808.0  COL   \n",
       "\n",
       "       Province/State Country/Region  school_closing  ...  cancel_events  \\\n",
       "358099        Vichada       Colombia               3  ...              1   \n",
       "358100        Vichada       Colombia               3  ...              1   \n",
       "358101        Vichada       Colombia               3  ...              1   \n",
       "358102        Vichada       Colombia               3  ...              1   \n",
       "358103        Vichada       Colombia               3  ...              1   \n",
       "\n",
       "        gatherings_restrictions  transport_closing  stay_home_restrictions  \\\n",
       "358099                        3                  1                       1   \n",
       "358100                        3                  1                       1   \n",
       "358101                        3                  1                       1   \n",
       "358102                        3                  1                       1   \n",
       "358103                        3                  1                       1   \n",
       "\n",
       "        internal_movement_restrictions  international_movement_restrictions  \\\n",
       "358099                               1                                    4   \n",
       "358100                               1                                    4   \n",
       "358101                               1                                    4   \n",
       "358102                               1                                    4   \n",
       "358103                               1                                    4   \n",
       "\n",
       "        information_campaigns  testing_policy  contact_tracing  \\\n",
       "358099                      2               2                2   \n",
       "358100                      2               2                2   \n",
       "358101                      2               2                2   \n",
       "358102                      2               2                2   \n",
       "358103                      2               2                2   \n",
       "\n",
       "        stringency_index  \n",
       "358099             60.19  \n",
       "358100             60.19  \n",
       "358101             60.19  \n",
       "358102             60.19  \n",
       "358103             60.19  \n",
       "\n",
       "[5 rows x 21 columns]"
      ]
     },
     "execution_count": 9,
     "metadata": {},
     "output_type": "execute_result"
    }
   ],
   "source": [
    "# Raw data\n",
    "jhu_data.raw.tail()"
   ]
  },
  {
   "cell_type": "code",
   "execution_count": 10,
   "metadata": {
    "collapsed": false
   },
   "outputs": [
    {
     "data": {
      "text/html": [
       "<div>\n",
       "<style scoped>\n",
       "    .dataframe tbody tr th:only-of-type {\n",
       "        vertical-align: middle;\n",
       "    }\n",
       "\n",
       "    .dataframe tbody tr th {\n",
       "        vertical-align: top;\n",
       "    }\n",
       "\n",
       "    .dataframe thead th {\n",
       "        text-align: right;\n",
       "    }\n",
       "</style>\n",
       "<table border=\"1\" class=\"dataframe\">\n",
       "  <thead>\n",
       "    <tr style=\"text-align: right;\">\n",
       "      <th></th>\n",
       "      <th>Date</th>\n",
       "      <th>Country</th>\n",
       "      <th>Province</th>\n",
       "      <th>Confirmed</th>\n",
       "      <th>Infected</th>\n",
       "      <th>Fatal</th>\n",
       "      <th>Recovered</th>\n",
       "    </tr>\n",
       "  </thead>\n",
       "  <tbody>\n",
       "    <tr>\n",
       "      <th>13260</th>\n",
       "      <td>2020-12-08</td>\n",
       "      <td>Japan</td>\n",
       "      <td>-</td>\n",
       "      <td>163929</td>\n",
       "      <td>22553</td>\n",
       "      <td>2382</td>\n",
       "      <td>138994</td>\n",
       "    </tr>\n",
       "    <tr>\n",
       "      <th>13261</th>\n",
       "      <td>2020-12-09</td>\n",
       "      <td>Japan</td>\n",
       "      <td>-</td>\n",
       "      <td>165840</td>\n",
       "      <td>22798</td>\n",
       "      <td>2420</td>\n",
       "      <td>140622</td>\n",
       "    </tr>\n",
       "    <tr>\n",
       "      <th>13262</th>\n",
       "      <td>2020-12-10</td>\n",
       "      <td>Japan</td>\n",
       "      <td>-</td>\n",
       "      <td>168573</td>\n",
       "      <td>23102</td>\n",
       "      <td>2465</td>\n",
       "      <td>143006</td>\n",
       "    </tr>\n",
       "    <tr>\n",
       "      <th>13263</th>\n",
       "      <td>2020-12-11</td>\n",
       "      <td>Japan</td>\n",
       "      <td>-</td>\n",
       "      <td>171542</td>\n",
       "      <td>24026</td>\n",
       "      <td>2502</td>\n",
       "      <td>145014</td>\n",
       "    </tr>\n",
       "    <tr>\n",
       "      <th>13264</th>\n",
       "      <td>2020-12-12</td>\n",
       "      <td>Japan</td>\n",
       "      <td>-</td>\n",
       "      <td>174299</td>\n",
       "      <td>24241</td>\n",
       "      <td>2534</td>\n",
       "      <td>147524</td>\n",
       "    </tr>\n",
       "  </tbody>\n",
       "</table>\n",
       "</div>"
      ],
      "text/plain": [
       "            Date Country Province  Confirmed  Infected  Fatal  Recovered\n",
       "13260 2020-12-08   Japan        -     163929     22553   2382     138994\n",
       "13261 2020-12-09   Japan        -     165840     22798   2420     140622\n",
       "13262 2020-12-10   Japan        -     168573     23102   2465     143006\n",
       "13263 2020-12-11   Japan        -     171542     24026   2502     145014\n",
       "13264 2020-12-12   Japan        -     174299     24241   2534     147524"
      ]
     },
     "execution_count": 10,
     "metadata": {},
     "output_type": "execute_result"
    }
   ],
   "source": [
    "# Cleaned data\n",
    "jhu_data.cleaned().tail()"
   ]
  },
  {
   "cell_type": "code",
   "execution_count": 11,
   "metadata": {
    "collapsed": false
   },
   "outputs": [
    {
     "name": "stdout",
     "output_type": "stream",
     "text": [
      "<class 'pandas.core.frame.DataFrame'>\n",
      "Int64Index: 354713 entries, 0 to 13264\n",
      "Data columns (total 7 columns):\n",
      " #   Column     Non-Null Count   Dtype         \n",
      "---  ------     --------------   -----         \n",
      " 0   Date       354713 non-null  datetime64[ns]\n",
      " 1   Country    354713 non-null  object        \n",
      " 2   Province   354713 non-null  object        \n",
      " 3   Confirmed  354713 non-null  int64         \n",
      " 4   Infected   354713 non-null  int64         \n",
      " 5   Fatal      354713 non-null  int64         \n",
      " 6   Recovered  354713 non-null  int64         \n",
      "dtypes: datetime64[ns](1), int64(4), object(2)\n",
      "memory usage: 21.6+ MB\n"
     ]
    }
   ],
   "source": [
    "jhu_data.cleaned().info()"
   ]
  },
  {
   "cell_type": "markdown",
   "metadata": {},
   "source": [
    "Total number of cases in all countries with `JHUData.total()` method."
   ]
  },
  {
   "cell_type": "code",
   "execution_count": 12,
   "metadata": {
    "collapsed": false
   },
   "outputs": [
    {
     "data": {
      "text/html": [
       "<div>\n",
       "<style scoped>\n",
       "    .dataframe tbody tr th:only-of-type {\n",
       "        vertical-align: middle;\n",
       "    }\n",
       "\n",
       "    .dataframe tbody tr th {\n",
       "        vertical-align: top;\n",
       "    }\n",
       "\n",
       "    .dataframe thead th {\n",
       "        text-align: right;\n",
       "    }\n",
       "</style>\n",
       "<table border=\"1\" class=\"dataframe\">\n",
       "  <thead>\n",
       "    <tr style=\"text-align: right;\">\n",
       "      <th></th>\n",
       "      <th>Confirmed</th>\n",
       "      <th>Infected</th>\n",
       "      <th>Fatal</th>\n",
       "      <th>Recovered</th>\n",
       "      <th>Fatal per Confirmed</th>\n",
       "      <th>Recovered per Confirmed</th>\n",
       "      <th>Fatal per (Fatal or Recovered)</th>\n",
       "    </tr>\n",
       "    <tr>\n",
       "      <th>Date</th>\n",
       "      <th></th>\n",
       "      <th></th>\n",
       "      <th></th>\n",
       "      <th></th>\n",
       "      <th></th>\n",
       "      <th></th>\n",
       "      <th></th>\n",
       "    </tr>\n",
       "  </thead>\n",
       "  <tbody>\n",
       "    <tr>\n",
       "      <th>2020-12-08</th>\n",
       "      <td>68283020</td>\n",
       "      <td>22836413</td>\n",
       "      <td>1559362</td>\n",
       "      <td>43887245</td>\n",
       "      <td>0.022837</td>\n",
       "      <td>0.642726</td>\n",
       "      <td>0.034312</td>\n",
       "    </tr>\n",
       "    <tr>\n",
       "      <th>2020-12-09</th>\n",
       "      <td>68952043</td>\n",
       "      <td>23089336</td>\n",
       "      <td>1571289</td>\n",
       "      <td>44291418</td>\n",
       "      <td>0.022788</td>\n",
       "      <td>0.642351</td>\n",
       "      <td>0.034261</td>\n",
       "    </tr>\n",
       "    <tr>\n",
       "      <th>2020-12-10</th>\n",
       "      <td>69638147</td>\n",
       "      <td>23295939</td>\n",
       "      <td>1582924</td>\n",
       "      <td>44759284</td>\n",
       "      <td>0.022731</td>\n",
       "      <td>0.642741</td>\n",
       "      <td>0.034157</td>\n",
       "    </tr>\n",
       "    <tr>\n",
       "      <th>2020-12-11</th>\n",
       "      <td>71103220</td>\n",
       "      <td>24293223</td>\n",
       "      <td>1594829</td>\n",
       "      <td>45215168</td>\n",
       "      <td>0.022430</td>\n",
       "      <td>0.635909</td>\n",
       "      <td>0.034070</td>\n",
       "    </tr>\n",
       "    <tr>\n",
       "      <th>2020-12-12</th>\n",
       "      <td>71106766</td>\n",
       "      <td>24294218</td>\n",
       "      <td>1594866</td>\n",
       "      <td>45217682</td>\n",
       "      <td>0.022429</td>\n",
       "      <td>0.635913</td>\n",
       "      <td>0.034069</td>\n",
       "    </tr>\n",
       "  </tbody>\n",
       "</table>\n",
       "</div>"
      ],
      "text/plain": [
       "            Confirmed  Infected    Fatal  Recovered  Fatal per Confirmed  \\\n",
       "Date                                                                       \n",
       "2020-12-08   68283020  22836413  1559362   43887245             0.022837   \n",
       "2020-12-09   68952043  23089336  1571289   44291418             0.022788   \n",
       "2020-12-10   69638147  23295939  1582924   44759284             0.022731   \n",
       "2020-12-11   71103220  24293223  1594829   45215168             0.022430   \n",
       "2020-12-12   71106766  24294218  1594866   45217682             0.022429   \n",
       "\n",
       "            Recovered per Confirmed  Fatal per (Fatal or Recovered)  \n",
       "Date                                                                 \n",
       "2020-12-08                 0.642726                        0.034312  \n",
       "2020-12-09                 0.642351                        0.034261  \n",
       "2020-12-10                 0.642741                        0.034157  \n",
       "2020-12-11                 0.635909                        0.034070  \n",
       "2020-12-12                 0.635913                        0.034069  "
      ]
     },
     "execution_count": 12,
     "metadata": {},
     "output_type": "execute_result"
    }
   ],
   "source": [
    "# Calculate total values\n",
    "total_df = jhu_data.total()\n",
    "total_df.tail()"
   ]
  },
  {
   "cell_type": "code",
   "execution_count": 13,
   "metadata": {
    "collapsed": false
   },
   "outputs": [
    {
     "data": {
      "image/png": "[encoded data removed]",
      "text/plain": [
       "<Figure size 648x432 with 1 Axes>"
      ]
     },
     "metadata": {},
     "output_type": "display_data"
    }
   ],
   "source": [
    "# Plot the total values\n",
    "cs.line_plot(total_df[[\"Infected\", \"Fatal\", \"Recovered\"]], \"Total number of cases over time\")"
   ]
  },
  {
   "cell_type": "code",
   "execution_count": 14,
   "metadata": {
    "collapsed": false
   },
   "outputs": [
    {
     "data": {
      "text/html": [
       "<div>\n",
       "<style scoped>\n",
       "    .dataframe tbody tr th:only-of-type {\n",
       "        vertical-align: middle;\n",
       "    }\n",
       "\n",
       "    .dataframe tbody tr th {\n",
       "        vertical-align: top;\n",
       "    }\n",
       "\n",
       "    .dataframe thead th {\n",
       "        text-align: right;\n",
       "    }\n",
       "</style>\n",
       "<table border=\"1\" class=\"dataframe\">\n",
       "  <thead>\n",
       "    <tr style=\"text-align: right;\">\n",
       "      <th></th>\n",
       "      <th>count</th>\n",
       "      <th>mean</th>\n",
       "      <th>std</th>\n",
       "      <th>min</th>\n",
       "      <th>25%</th>\n",
       "      <th>50%</th>\n",
       "      <th>75%</th>\n",
       "      <th>max</th>\n",
       "    </tr>\n",
       "  </thead>\n",
       "  <tbody>\n",
       "    <tr>\n",
       "      <th>Fatal per Confirmed</th>\n",
       "      <td>346.0</td>\n",
       "      <td>0.039219</td>\n",
       "      <td>0.017381</td>\n",
       "      <td>0.000000</td>\n",
       "      <td>0.026438</td>\n",
       "      <td>0.034345</td>\n",
       "      <td>0.050354</td>\n",
       "      <td>0.074250</td>\n",
       "    </tr>\n",
       "    <tr>\n",
       "      <th>Recovered per Confirmed</th>\n",
       "      <td>346.0</td>\n",
       "      <td>0.420916</td>\n",
       "      <td>0.252712</td>\n",
       "      <td>0.001291</td>\n",
       "      <td>0.200000</td>\n",
       "      <td>0.499479</td>\n",
       "      <td>0.645438</td>\n",
       "      <td>1.000000</td>\n",
       "    </tr>\n",
       "    <tr>\n",
       "      <th>Fatal per (Fatal or Recovered)</th>\n",
       "      <td>346.0</td>\n",
       "      <td>0.210197</td>\n",
       "      <td>0.273480</td>\n",
       "      <td>0.000000</td>\n",
       "      <td>0.042086</td>\n",
       "      <td>0.085366</td>\n",
       "      <td>0.225536</td>\n",
       "      <td>0.943005</td>\n",
       "    </tr>\n",
       "  </tbody>\n",
       "</table>\n",
       "</div>"
      ],
      "text/plain": [
       "                                count      mean       std       min       25%  \\\n",
       "Fatal per Confirmed             346.0  0.039219  0.017381  0.000000  0.026438   \n",
       "Recovered per Confirmed         346.0  0.420916  0.252712  0.001291  0.200000   \n",
       "Fatal per (Fatal or Recovered)  346.0  0.210197  0.273480  0.000000  0.042086   \n",
       "\n",
       "                                     50%       75%       max  \n",
       "Fatal per Confirmed             0.034345  0.050354  0.074250  \n",
       "Recovered per Confirmed         0.499479  0.645438  1.000000  \n",
       "Fatal per (Fatal or Recovered)  0.085366  0.225536  0.943005  "
      ]
     },
     "execution_count": 14,
     "metadata": {},
     "output_type": "execute_result"
    }
   ],
   "source": [
    "# Statistics of rate values in all countries\n",
    "total_df.loc[:, total_df.columns.str.contains(\"per\")].describe().T"
   ]
  },
  {
   "cell_type": "markdown",
   "metadata": {},
   "source": [
    "We can create a subset for a country using `JHUData.subset()` method."
   ]
  },
  {
   "cell_type": "code",
   "execution_count": 15,
   "metadata": {
    "collapsed": false
   },
   "outputs": [
    {
     "data": {
      "text/html": [
       "<div>\n",
       "<style scoped>\n",
       "    .dataframe tbody tr th:only-of-type {\n",
       "        vertical-align: middle;\n",
       "    }\n",
       "\n",
       "    .dataframe tbody tr th {\n",
       "        vertical-align: top;\n",
       "    }\n",
       "\n",
       "    .dataframe thead th {\n",
       "        text-align: right;\n",
       "    }\n",
       "</style>\n",
       "<table border=\"1\" class=\"dataframe\">\n",
       "  <thead>\n",
       "    <tr style=\"text-align: right;\">\n",
       "      <th></th>\n",
       "      <th>Date</th>\n",
       "      <th>Confirmed</th>\n",
       "      <th>Infected</th>\n",
       "      <th>Fatal</th>\n",
       "      <th>Recovered</th>\n",
       "    </tr>\n",
       "  </thead>\n",
       "  <tbody>\n",
       "    <tr>\n",
       "      <th>306</th>\n",
       "      <td>2020-12-08</td>\n",
       "      <td>163929</td>\n",
       "      <td>22553</td>\n",
       "      <td>2382</td>\n",
       "      <td>138994</td>\n",
       "    </tr>\n",
       "    <tr>\n",
       "      <th>307</th>\n",
       "      <td>2020-12-09</td>\n",
       "      <td>165840</td>\n",
       "      <td>22798</td>\n",
       "      <td>2420</td>\n",
       "      <td>140622</td>\n",
       "    </tr>\n",
       "    <tr>\n",
       "      <th>308</th>\n",
       "      <td>2020-12-10</td>\n",
       "      <td>168573</td>\n",
       "      <td>23102</td>\n",
       "      <td>2465</td>\n",
       "      <td>143006</td>\n",
       "    </tr>\n",
       "    <tr>\n",
       "      <th>309</th>\n",
       "      <td>2020-12-11</td>\n",
       "      <td>171542</td>\n",
       "      <td>24026</td>\n",
       "      <td>2502</td>\n",
       "      <td>145014</td>\n",
       "    </tr>\n",
       "    <tr>\n",
       "      <th>310</th>\n",
       "      <td>2020-12-12</td>\n",
       "      <td>174299</td>\n",
       "      <td>24241</td>\n",
       "      <td>2534</td>\n",
       "      <td>147524</td>\n",
       "    </tr>\n",
       "  </tbody>\n",
       "</table>\n",
       "</div>"
      ],
      "text/plain": [
       "          Date  Confirmed  Infected  Fatal  Recovered\n",
       "306 2020-12-08     163929     22553   2382     138994\n",
       "307 2020-12-09     165840     22798   2420     140622\n",
       "308 2020-12-10     168573     23102   2465     143006\n",
       "309 2020-12-11     171542     24026   2502     145014\n",
       "310 2020-12-12     174299     24241   2534     147524"
      ]
     },
     "execution_count": 15,
     "metadata": {},
     "output_type": "execute_result"
    }
   ],
   "source": [
    "# Subset for a country\n",
    "df, _ = jhu_data.records(\"Japan\")\n",
    "df.tail()\n",
    "# We can use ISO3 code etc.\n",
    "# df, _ = jhu_data.records(\"JPN\")\n",
    "# df.tail()"
   ]
  },
  {
   "cell_type": "markdown",
   "metadata": {},
   "source": [
    "Province (\"prefecture\" for Japan) name can be specified."
   ]
  },
  {
   "cell_type": "code",
   "execution_count": 16,
   "metadata": {
    "collapsed": false
   },
   "outputs": [
    {
     "data": {
      "text/html": [
       "<div>\n",
       "<style scoped>\n",
       "    .dataframe tbody tr th:only-of-type {\n",
       "        vertical-align: middle;\n",
       "    }\n",
       "\n",
       "    .dataframe tbody tr th {\n",
       "        vertical-align: top;\n",
       "    }\n",
       "\n",
       "    .dataframe thead th {\n",
       "        text-align: right;\n",
       "    }\n",
       "</style>\n",
       "<table border=\"1\" class=\"dataframe\">\n",
       "  <thead>\n",
       "    <tr style=\"text-align: right;\">\n",
       "      <th></th>\n",
       "      <th>Date</th>\n",
       "      <th>Confirmed</th>\n",
       "      <th>Infected</th>\n",
       "      <th>Fatal</th>\n",
       "      <th>Recovered</th>\n",
       "    </tr>\n",
       "  </thead>\n",
       "  <tbody>\n",
       "    <tr>\n",
       "      <th>264</th>\n",
       "      <td>2020-12-07</td>\n",
       "      <td>44003</td>\n",
       "      <td>4362</td>\n",
       "      <td>517</td>\n",
       "      <td>39124</td>\n",
       "    </tr>\n",
       "    <tr>\n",
       "      <th>265</th>\n",
       "      <td>2020-12-08</td>\n",
       "      <td>44355</td>\n",
       "      <td>4274</td>\n",
       "      <td>523</td>\n",
       "      <td>39558</td>\n",
       "    </tr>\n",
       "    <tr>\n",
       "      <th>266</th>\n",
       "      <td>2020-12-09</td>\n",
       "      <td>44927</td>\n",
       "      <td>4429</td>\n",
       "      <td>528</td>\n",
       "      <td>39970</td>\n",
       "    </tr>\n",
       "    <tr>\n",
       "      <th>267</th>\n",
       "      <td>2020-12-10</td>\n",
       "      <td>45529</td>\n",
       "      <td>4624</td>\n",
       "      <td>530</td>\n",
       "      <td>40375</td>\n",
       "    </tr>\n",
       "    <tr>\n",
       "      <th>268</th>\n",
       "      <td>2020-12-11</td>\n",
       "      <td>46124</td>\n",
       "      <td>4619</td>\n",
       "      <td>535</td>\n",
       "      <td>40970</td>\n",
       "    </tr>\n",
       "  </tbody>\n",
       "</table>\n",
       "</div>"
      ],
      "text/plain": [
       "          Date  Confirmed  Infected  Fatal  Recovered\n",
       "264 2020-12-07      44003      4362    517      39124\n",
       "265 2020-12-08      44355      4274    523      39558\n",
       "266 2020-12-09      44927      4429    528      39970\n",
       "267 2020-12-10      45529      4624    530      40375\n",
       "268 2020-12-11      46124      4619    535      40970"
      ]
     },
     "execution_count": 16,
     "metadata": {},
     "output_type": "execute_result"
    }
   ],
   "source": [
    "df, _ = jhu_data.records(\"Japan\", province=\"Tokyo\")\n",
    "df.tail()"
   ]
  },
  {
   "cell_type": "code",
   "execution_count": 17,
   "metadata": {
    "collapsed": false
   },
   "outputs": [
    {
     "name": "stdout",
     "output_type": "stream",
     "text": [
      "['Afghanistan', 'Albania', 'Algeria', 'Andorra', 'Angola',\n",
      " 'Antigua and Barbuda', 'Argentina', 'Armenia', 'Australia', 'Austria',\n",
      " 'Azerbaijan', 'Bahamas', 'Bahrain', 'Bangladesh', 'Barbados', 'Belarus',\n",
      " 'Belgium', 'Belize', 'Benin', 'Bermuda', 'Bhutan', 'Bolivia',\n",
      " 'Bosnia and Herzegovina', 'Botswana', 'Brazil', 'Brunei', 'Bulgaria',\n",
      " 'Burkina Faso', 'Burundi', 'Cambodia', 'Cameroon', 'Canada', 'Cape Verde',\n",
      " 'Central African Republic', 'Chad', 'Chile', 'China', 'Colombia', 'Comoros',\n",
      " 'Costa Atlantica', 'Costa Rica', \"Cote d'Ivoire\", 'Croatia', 'Cuba', 'Cyprus',\n",
      " 'Czech Republic', 'Democratic Republic of the Congo', 'Denmark', 'Djibouti',\n",
      " 'Dominica', 'Dominican Republic', 'Ecuador', 'Egypt', 'El Salvador',\n",
      " 'Equatorial Guinea', 'Eritrea', 'Estonia', 'Ethiopia', 'Fiji', 'Finland',\n",
      " 'France', 'Gabon', 'Gambia', 'Georgia', 'Germany', 'Ghana', 'Grand Princess',\n",
      " 'Greece', 'Grenada', 'Guam', 'Guatemala', 'Guinea', 'Guinea-Bissau', 'Guyana',\n",
      " 'Haiti', 'Holy See', 'Honduras', 'Hungary', 'Iceland', 'India', 'Indonesia',\n",
      " 'Iran', 'Iraq', 'Ireland', 'Israel', 'Italy', 'Jamaica', 'Japan', 'Jordan',\n",
      " 'Kazakhstan', 'Kenya', 'Kosovo', 'Kuwait', 'Kyrgyzstan', 'Laos', 'Latvia',\n",
      " 'Lebanon', 'Lesotho', 'Liberia', 'Libya', 'Liechtenstein', 'Lithuania',\n",
      " 'Luxembourg', 'MS Zaandam', 'Madagascar', 'Malawi', 'Malaysia', 'Maldives',\n",
      " 'Mali', 'Malta', 'Marshall Islands', 'Mauritania', 'Mauritius', 'Mexico',\n",
      " 'Moldova', 'Monaco', 'Mongolia', 'Montenegro', 'Morocco', 'Mozambique',\n",
      " 'Myanmar', 'Namibia', 'Nepal', 'Netherlands', 'New Zealand', 'Nicaragua',\n",
      " 'Niger', 'Nigeria', 'North Macedonia', 'Northern Mariana Islands', 'Norway',\n",
      " 'Oman', 'Pakistan', 'Palestine', 'Panama', 'Papua New Guinea', 'Paraguay',\n",
      " 'Peru', 'Philippines', 'Poland', 'Portugal', 'Puerto Rico', 'Qatar',\n",
      " 'Republic of the Congo', 'Romania', 'Russia', 'Rwanda',\n",
      " 'Saint Kitts and Nevis', 'Saint Lucia', 'Saint Vincent and the Grenadines',\n",
      " 'Samoa', 'San Marino', 'Sao Tome and Principe', 'Saudi Arabia', 'Senegal',\n",
      " 'Serbia', 'Seychelles', 'Sierra Leone', 'Singapore', 'Slovakia', 'Slovenia',\n",
      " 'Solomon Islands', 'Somalia', 'South Africa', 'South Korea', 'South Sudan',\n",
      " 'Spain', 'Sri Lanka', 'Sudan', 'Suriname', 'Swaziland', 'Sweden',\n",
      " 'Switzerland', 'Syria', 'Taiwan', 'Tajikistan', 'Tanzania', 'Thailand',\n",
      " 'Timor-Leste', 'Togo', 'Trinidad and Tobago', 'Tunisia', 'Turkey', 'Uganda',\n",
      " 'Ukraine', 'United Arab Emirates', 'United Kingdom', 'United States',\n",
      " 'Uruguay', 'Uzbekistan', 'Vanuatu', 'Venezuela', 'Vietnam',\n",
      " 'Virgin Islands, U.S.', 'Yemen', 'Zambia', 'Zimbabwe']\n"
     ]
    }
   ],
   "source": [
    "# Countries we can select\n",
    "pprint(jhu_data.countries(), compact=True)"
   ]
  },
  {
   "cell_type": "markdown",
   "metadata": {},
   "source": [
    "### Linelist of case reports\n",
    "The number of cases is important, but linelist of case reports will helpful to understand the situation deeply. Linelist data was saved as `linelist`, an instance of `LinelistData` class. This dataset is from [Open COVID-19 Data Working Group](https://github.com/beoutbreakprepared/nCoV2019)."
   ]
  },
  {
   "cell_type": "code",
   "execution_count": 18,
   "metadata": {
    "collapsed": false
   },
   "outputs": [
    {
     "data": {
      "text/plain": [
       "covsirphy.cleaning.linelist.LinelistData"
      ]
     },
     "execution_count": 18,
     "metadata": {},
     "output_type": "execute_result"
    }
   ],
   "source": [
    "type(linelist)"
   ]
  },
  {
   "cell_type": "code",
   "execution_count": 19,
   "metadata": {
    "collapsed": false
   },
   "outputs": [
    {
     "name": "stdout",
     "output_type": "stream",
     "text": [
      "Xu, B., Gutierrez, B., Mekaru, S. et al. Epidemiological data from the COVID-19 outbreak, real-time case information. Sci Data 7, 106 (2020). https://doi.org/10.1038/s41597-020-0448-0\n"
     ]
    }
   ],
   "source": [
    "# Citation\n",
    "print(linelist.citation)"
   ]
  },
  {
   "cell_type": "code",
   "execution_count": 20,
   "metadata": {
    "collapsed": false
   },
   "outputs": [
    {
     "data": {
      "text/html": [
       "<div>\n",
       "<style scoped>\n",
       "    .dataframe tbody tr th:only-of-type {\n",
       "        vertical-align: middle;\n",
       "    }\n",
       "\n",
       "    .dataframe tbody tr th {\n",
       "        vertical-align: top;\n",
       "    }\n",
       "\n",
       "    .dataframe thead th {\n",
       "        text-align: right;\n",
       "    }\n",
       "</style>\n",
       "<table border=\"1\" class=\"dataframe\">\n",
       "  <thead>\n",
       "    <tr style=\"text-align: right;\">\n",
       "      <th></th>\n",
       "      <th>age</th>\n",
       "      <th>sex</th>\n",
       "      <th>province</th>\n",
       "      <th>country</th>\n",
       "      <th>date_onset_symptoms</th>\n",
       "      <th>date_admission_hospital</th>\n",
       "      <th>date_confirmation</th>\n",
       "      <th>symptoms</th>\n",
       "      <th>chronic_disease</th>\n",
       "      <th>outcome</th>\n",
       "      <th>date_death_or_discharge</th>\n",
       "    </tr>\n",
       "  </thead>\n",
       "  <tbody>\n",
       "    <tr>\n",
       "      <th>2676307</th>\n",
       "      <td>52</td>\n",
       "      <td>female</td>\n",
       "      <td>Lima</td>\n",
       "      <td>Peru</td>\n",
       "      <td>NaN</td>\n",
       "      <td>NaN</td>\n",
       "      <td>17.05.2020</td>\n",
       "      <td>NaN</td>\n",
       "      <td>NaN</td>\n",
       "      <td>NaN</td>\n",
       "      <td>NaN</td>\n",
       "    </tr>\n",
       "    <tr>\n",
       "      <th>2676308</th>\n",
       "      <td>52</td>\n",
       "      <td>female</td>\n",
       "      <td>Lima</td>\n",
       "      <td>Peru</td>\n",
       "      <td>NaN</td>\n",
       "      <td>NaN</td>\n",
       "      <td>17.05.2020</td>\n",
       "      <td>NaN</td>\n",
       "      <td>NaN</td>\n",
       "      <td>NaN</td>\n",
       "      <td>NaN</td>\n",
       "    </tr>\n",
       "    <tr>\n",
       "      <th>2676309</th>\n",
       "      <td>52</td>\n",
       "      <td>male</td>\n",
       "      <td>Callao</td>\n",
       "      <td>Peru</td>\n",
       "      <td>NaN</td>\n",
       "      <td>NaN</td>\n",
       "      <td>17.05.2020</td>\n",
       "      <td>NaN</td>\n",
       "      <td>NaN</td>\n",
       "      <td>NaN</td>\n",
       "      <td>NaN</td>\n",
       "    </tr>\n",
       "    <tr>\n",
       "      <th>2676310</th>\n",
       "      <td>52</td>\n",
       "      <td>male</td>\n",
       "      <td>Lima</td>\n",
       "      <td>Peru</td>\n",
       "      <td>NaN</td>\n",
       "      <td>NaN</td>\n",
       "      <td>17.05.2020</td>\n",
       "      <td>NaN</td>\n",
       "      <td>NaN</td>\n",
       "      <td>NaN</td>\n",
       "      <td>NaN</td>\n",
       "    </tr>\n",
       "    <tr>\n",
       "      <th>2676311</th>\n",
       "      <td>NaN</td>\n",
       "      <td>NaN</td>\n",
       "      <td>NaN</td>\n",
       "      <td>NaN</td>\n",
       "      <td>NaN</td>\n",
       "      <td>NaN</td>\n",
       "      <td>NaN</td>\n",
       "      <td>NaN</td>\n",
       "      <td>NaN</td>\n",
       "      <td>NaN</td>\n",
       "      <td>NaN</td>\n",
       "    </tr>\n",
       "  </tbody>\n",
       "</table>\n",
       "</div>"
      ],
      "text/plain": [
       "         age     sex province country date_onset_symptoms  \\\n",
       "2676307   52  female     Lima    Peru                 NaN   \n",
       "2676308   52  female     Lima    Peru                 NaN   \n",
       "2676309   52    male   Callao    Peru                 NaN   \n",
       "2676310   52    male     Lima    Peru                 NaN   \n",
       "2676311  NaN     NaN      NaN     NaN                 NaN   \n",
       "\n",
       "        date_admission_hospital date_confirmation symptoms chronic_disease  \\\n",
       "2676307                     NaN        17.05.2020      NaN             NaN   \n",
       "2676308                     NaN        17.05.2020      NaN             NaN   \n",
       "2676309                     NaN        17.05.2020      NaN             NaN   \n",
       "2676310                     NaN        17.05.2020      NaN             NaN   \n",
       "2676311                     NaN               NaN      NaN             NaN   \n",
       "\n",
       "        outcome date_death_or_discharge  \n",
       "2676307     NaN                     NaN  \n",
       "2676308     NaN                     NaN  \n",
       "2676309     NaN                     NaN  \n",
       "2676310     NaN                     NaN  \n",
       "2676311     NaN                     NaN  "
      ]
     },
     "execution_count": 20,
     "metadata": {},
     "output_type": "execute_result"
    }
   ],
   "source": [
    "# Raw dataset\n",
    "linelist.raw.tail()"
   ]
  },
  {
   "cell_type": "code",
   "execution_count": 21,
   "metadata": {
    "collapsed": false
   },
   "outputs": [
    {
     "data": {
      "text/html": [
       "<div>\n",
       "<style scoped>\n",
       "    .dataframe tbody tr th:only-of-type {\n",
       "        vertical-align: middle;\n",
       "    }\n",
       "\n",
       "    .dataframe tbody tr th {\n",
       "        vertical-align: top;\n",
       "    }\n",
       "\n",
       "    .dataframe thead th {\n",
       "        text-align: right;\n",
       "    }\n",
       "</style>\n",
       "<table border=\"1\" class=\"dataframe\">\n",
       "  <thead>\n",
       "    <tr style=\"text-align: right;\">\n",
       "      <th></th>\n",
       "      <th>Country</th>\n",
       "      <th>Province</th>\n",
       "      <th>Hospitalized_date</th>\n",
       "      <th>Confirmation_date</th>\n",
       "      <th>Outcome_date</th>\n",
       "      <th>Confirmed</th>\n",
       "      <th>Infected</th>\n",
       "      <th>Recovered</th>\n",
       "      <th>Fatal</th>\n",
       "      <th>Symptoms</th>\n",
       "      <th>Chronic_disease</th>\n",
       "      <th>Age</th>\n",
       "      <th>Sex</th>\n",
       "    </tr>\n",
       "  </thead>\n",
       "  <tbody>\n",
       "    <tr>\n",
       "      <th>2676306</th>\n",
       "      <td>Peru</td>\n",
       "      <td>Coronel Portillo</td>\n",
       "      <td>NaT</td>\n",
       "      <td>2020-05-17</td>\n",
       "      <td>NaT</td>\n",
       "      <td>True</td>\n",
       "      <td>False</td>\n",
       "      <td>False</td>\n",
       "      <td>False</td>\n",
       "      <td>NaN</td>\n",
       "      <td>NaN</td>\n",
       "      <td>52.0</td>\n",
       "      <td>female</td>\n",
       "    </tr>\n",
       "    <tr>\n",
       "      <th>2676307</th>\n",
       "      <td>Peru</td>\n",
       "      <td>Lima</td>\n",
       "      <td>NaT</td>\n",
       "      <td>2020-05-17</td>\n",
       "      <td>NaT</td>\n",
       "      <td>True</td>\n",
       "      <td>False</td>\n",
       "      <td>False</td>\n",
       "      <td>False</td>\n",
       "      <td>NaN</td>\n",
       "      <td>NaN</td>\n",
       "      <td>52.0</td>\n",
       "      <td>female</td>\n",
       "    </tr>\n",
       "    <tr>\n",
       "      <th>2676308</th>\n",
       "      <td>Peru</td>\n",
       "      <td>Lima</td>\n",
       "      <td>NaT</td>\n",
       "      <td>2020-05-17</td>\n",
       "      <td>NaT</td>\n",
       "      <td>True</td>\n",
       "      <td>False</td>\n",
       "      <td>False</td>\n",
       "      <td>False</td>\n",
       "      <td>NaN</td>\n",
       "      <td>NaN</td>\n",
       "      <td>52.0</td>\n",
       "      <td>female</td>\n",
       "    </tr>\n",
       "    <tr>\n",
       "      <th>2676309</th>\n",
       "      <td>Peru</td>\n",
       "      <td>Callao</td>\n",
       "      <td>NaT</td>\n",
       "      <td>2020-05-17</td>\n",
       "      <td>NaT</td>\n",
       "      <td>True</td>\n",
       "      <td>False</td>\n",
       "      <td>False</td>\n",
       "      <td>False</td>\n",
       "      <td>NaN</td>\n",
       "      <td>NaN</td>\n",
       "      <td>52.0</td>\n",
       "      <td>male</td>\n",
       "    </tr>\n",
       "    <tr>\n",
       "      <th>2676310</th>\n",
       "      <td>Peru</td>\n",
       "      <td>Lima</td>\n",
       "      <td>NaT</td>\n",
       "      <td>2020-05-17</td>\n",
       "      <td>NaT</td>\n",
       "      <td>True</td>\n",
       "      <td>False</td>\n",
       "      <td>False</td>\n",
       "      <td>False</td>\n",
       "      <td>NaN</td>\n",
       "      <td>NaN</td>\n",
       "      <td>52.0</td>\n",
       "      <td>male</td>\n",
       "    </tr>\n",
       "  </tbody>\n",
       "</table>\n",
       "</div>"
      ],
      "text/plain": [
       "        Country          Province Hospitalized_date Confirmation_date  \\\n",
       "2676306    Peru  Coronel Portillo               NaT        2020-05-17   \n",
       "2676307    Peru              Lima               NaT        2020-05-17   \n",
       "2676308    Peru              Lima               NaT        2020-05-17   \n",
       "2676309    Peru            Callao               NaT        2020-05-17   \n",
       "2676310    Peru              Lima               NaT        2020-05-17   \n",
       "\n",
       "        Outcome_date  Confirmed  Infected  Recovered  Fatal Symptoms  \\\n",
       "2676306          NaT       True     False      False  False      NaN   \n",
       "2676307          NaT       True     False      False  False      NaN   \n",
       "2676308          NaT       True     False      False  False      NaN   \n",
       "2676309          NaT       True     False      False  False      NaN   \n",
       "2676310          NaT       True     False      False  False      NaN   \n",
       "\n",
       "        Chronic_disease   Age     Sex  \n",
       "2676306             NaN  52.0  female  \n",
       "2676307             NaN  52.0  female  \n",
       "2676308             NaN  52.0  female  \n",
       "2676309             NaN  52.0    male  \n",
       "2676310             NaN  52.0    male  "
      ]
     },
     "execution_count": 21,
     "metadata": {},
     "output_type": "execute_result"
    }
   ],
   "source": [
    "# Cleaned dataset\n",
    "linelist.cleaned().tail()"
   ]
  },
  {
   "cell_type": "code",
   "execution_count": 22,
   "metadata": {
    "collapsed": false
   },
   "outputs": [
    {
     "data": {
      "text/html": [
       "<div>\n",
       "<style scoped>\n",
       "    .dataframe tbody tr th:only-of-type {\n",
       "        vertical-align: middle;\n",
       "    }\n",
       "\n",
       "    .dataframe tbody tr th {\n",
       "        vertical-align: top;\n",
       "    }\n",
       "\n",
       "    .dataframe thead th {\n",
       "        text-align: right;\n",
       "    }\n",
       "</style>\n",
       "<table border=\"1\" class=\"dataframe\">\n",
       "  <thead>\n",
       "    <tr style=\"text-align: right;\">\n",
       "      <th></th>\n",
       "      <th>Hospitalized_date</th>\n",
       "      <th>Confirmation_date</th>\n",
       "      <th>Outcome_date</th>\n",
       "      <th>Confirmed</th>\n",
       "      <th>Infected</th>\n",
       "      <th>Recovered</th>\n",
       "      <th>Fatal</th>\n",
       "      <th>Symptoms</th>\n",
       "      <th>Chronic_disease</th>\n",
       "      <th>Age</th>\n",
       "      <th>Sex</th>\n",
       "    </tr>\n",
       "  </thead>\n",
       "  <tbody>\n",
       "    <tr>\n",
       "      <th>107</th>\n",
       "      <td>NaT</td>\n",
       "      <td>2020-01-30</td>\n",
       "      <td>NaT</td>\n",
       "      <td>True</td>\n",
       "      <td>False</td>\n",
       "      <td>False</td>\n",
       "      <td>False</td>\n",
       "      <td>NaN</td>\n",
       "      <td>NaN</td>\n",
       "      <td>NaN</td>\n",
       "      <td>female</td>\n",
       "    </tr>\n",
       "    <tr>\n",
       "      <th>108</th>\n",
       "      <td>NaT</td>\n",
       "      <td>2020-01-24</td>\n",
       "      <td>NaT</td>\n",
       "      <td>True</td>\n",
       "      <td>False</td>\n",
       "      <td>True</td>\n",
       "      <td>False</td>\n",
       "      <td>fever:pneumonia:sore throat</td>\n",
       "      <td>NaN</td>\n",
       "      <td>40.0</td>\n",
       "      <td>male</td>\n",
       "    </tr>\n",
       "    <tr>\n",
       "      <th>109</th>\n",
       "      <td>2020-10-01</td>\n",
       "      <td>2020-01-15</td>\n",
       "      <td>2020-01-15</td>\n",
       "      <td>True</td>\n",
       "      <td>False</td>\n",
       "      <td>True</td>\n",
       "      <td>False</td>\n",
       "      <td>cough:fever:sore throat</td>\n",
       "      <td>NaN</td>\n",
       "      <td>30.0</td>\n",
       "      <td>male</td>\n",
       "    </tr>\n",
       "    <tr>\n",
       "      <th>110</th>\n",
       "      <td>NaT</td>\n",
       "      <td>2020-01-25</td>\n",
       "      <td>NaT</td>\n",
       "      <td>True</td>\n",
       "      <td>False</td>\n",
       "      <td>False</td>\n",
       "      <td>False</td>\n",
       "      <td>cough:fever</td>\n",
       "      <td>NaN</td>\n",
       "      <td>NaN</td>\n",
       "      <td>female</td>\n",
       "    </tr>\n",
       "    <tr>\n",
       "      <th>111</th>\n",
       "      <td>NaT</td>\n",
       "      <td>2020-01-26</td>\n",
       "      <td>NaT</td>\n",
       "      <td>True</td>\n",
       "      <td>False</td>\n",
       "      <td>False</td>\n",
       "      <td>False</td>\n",
       "      <td>fever:joint pain:pneumonia</td>\n",
       "      <td>NaN</td>\n",
       "      <td>40.0</td>\n",
       "      <td>male</td>\n",
       "    </tr>\n",
       "  </tbody>\n",
       "</table>\n",
       "</div>"
      ],
      "text/plain": [
       "    Hospitalized_date Confirmation_date Outcome_date  Confirmed  Infected  \\\n",
       "107               NaT        2020-01-30          NaT       True     False   \n",
       "108               NaT        2020-01-24          NaT       True     False   \n",
       "109        2020-10-01        2020-01-15   2020-01-15       True     False   \n",
       "110               NaT        2020-01-25          NaT       True     False   \n",
       "111               NaT        2020-01-26          NaT       True     False   \n",
       "\n",
       "     Recovered  Fatal                     Symptoms Chronic_disease   Age  \\\n",
       "107      False  False                          NaN             NaN   NaN   \n",
       "108       True  False  fever:pneumonia:sore throat             NaN  40.0   \n",
       "109       True  False      cough:fever:sore throat             NaN  30.0   \n",
       "110      False  False                  cough:fever             NaN   NaN   \n",
       "111      False  False   fever:joint pain:pneumonia             NaN  40.0   \n",
       "\n",
       "        Sex  \n",
       "107  female  \n",
       "108    male  \n",
       "109    male  \n",
       "110  female  \n",
       "111    male  "
      ]
     },
     "execution_count": 22,
     "metadata": {},
     "output_type": "execute_result"
    }
   ],
   "source": [
    "# Subset for specified area\n",
    "linelist.subset(\"Japan\", province=\"Tokyo\").tail()"
   ]
  },
  {
   "cell_type": "code",
   "execution_count": 23,
   "metadata": {
    "collapsed": false
   },
   "outputs": [
    {
     "data": {
      "text/html": [
       "<div>\n",
       "<style scoped>\n",
       "    .dataframe tbody tr th:only-of-type {\n",
       "        vertical-align: middle;\n",
       "    }\n",
       "\n",
       "    .dataframe tbody tr th {\n",
       "        vertical-align: top;\n",
       "    }\n",
       "\n",
       "    .dataframe thead th {\n",
       "        text-align: right;\n",
       "    }\n",
       "</style>\n",
       "<table border=\"1\" class=\"dataframe\">\n",
       "  <thead>\n",
       "    <tr style=\"text-align: right;\">\n",
       "      <th></th>\n",
       "      <th>Country</th>\n",
       "      <th>Province</th>\n",
       "      <th>Hospitalized_date</th>\n",
       "      <th>Confirmation_date</th>\n",
       "      <th>Recovered_date</th>\n",
       "      <th>Symptoms</th>\n",
       "      <th>Chronic_disease</th>\n",
       "      <th>Age</th>\n",
       "      <th>Sex</th>\n",
       "    </tr>\n",
       "  </thead>\n",
       "  <tbody>\n",
       "    <tr>\n",
       "      <th>272</th>\n",
       "      <td>Singapore</td>\n",
       "      <td>-</td>\n",
       "      <td>2020-02-02</td>\n",
       "      <td>2020-02-06</td>\n",
       "      <td>2020-02-17</td>\n",
       "      <td>NaN</td>\n",
       "      <td>NaN</td>\n",
       "      <td>39.0</td>\n",
       "      <td>female</td>\n",
       "    </tr>\n",
       "    <tr>\n",
       "      <th>273</th>\n",
       "      <td>Malaysia</td>\n",
       "      <td>Johor</td>\n",
       "      <td>NaT</td>\n",
       "      <td>2020-01-25</td>\n",
       "      <td>2020-02-08</td>\n",
       "      <td>cough:fever</td>\n",
       "      <td>NaN</td>\n",
       "      <td>40.0</td>\n",
       "      <td>male</td>\n",
       "    </tr>\n",
       "    <tr>\n",
       "      <th>274</th>\n",
       "      <td>China</td>\n",
       "      <td>Gansu</td>\n",
       "      <td>2020-07-02</td>\n",
       "      <td>2020-02-08</td>\n",
       "      <td>2020-02-17</td>\n",
       "      <td>diarrhea</td>\n",
       "      <td>NaN</td>\n",
       "      <td>1.0</td>\n",
       "      <td>female</td>\n",
       "    </tr>\n",
       "    <tr>\n",
       "      <th>275</th>\n",
       "      <td>Canada</td>\n",
       "      <td>Ontario</td>\n",
       "      <td>NaT</td>\n",
       "      <td>2020-01-25</td>\n",
       "      <td>2020-01-31</td>\n",
       "      <td>NaN</td>\n",
       "      <td>hypertension</td>\n",
       "      <td>NaN</td>\n",
       "      <td>male</td>\n",
       "    </tr>\n",
       "    <tr>\n",
       "      <th>276</th>\n",
       "      <td>Canada</td>\n",
       "      <td>Ontario</td>\n",
       "      <td>NaT</td>\n",
       "      <td>2020-01-31</td>\n",
       "      <td>2020-02-19</td>\n",
       "      <td>NaN</td>\n",
       "      <td>NaN</td>\n",
       "      <td>NaN</td>\n",
       "      <td>female</td>\n",
       "    </tr>\n",
       "  </tbody>\n",
       "</table>\n",
       "</div>"
      ],
      "text/plain": [
       "       Country Province Hospitalized_date Confirmation_date Recovered_date  \\\n",
       "272  Singapore        -        2020-02-02        2020-02-06     2020-02-17   \n",
       "273   Malaysia    Johor               NaT        2020-01-25     2020-02-08   \n",
       "274      China    Gansu        2020-07-02        2020-02-08     2020-02-17   \n",
       "275     Canada  Ontario               NaT        2020-01-25     2020-01-31   \n",
       "276     Canada  Ontario               NaT        2020-01-31     2020-02-19   \n",
       "\n",
       "        Symptoms Chronic_disease   Age     Sex  \n",
       "272          NaN             NaN  39.0  female  \n",
       "273  cough:fever             NaN  40.0    male  \n",
       "274     diarrhea             NaN   1.0  female  \n",
       "275          NaN    hypertension   NaN    male  \n",
       "276          NaN             NaN   NaN  female  "
      ]
     },
     "execution_count": 23,
     "metadata": {},
     "output_type": "execute_result"
    }
   ],
   "source": [
    "# Subset for outcome (\"Recovered\" or \"Fatal\")\n",
    "linelist.closed(outcome=\"Recovered\").tail()"
   ]
  },
  {
   "cell_type": "markdown",
   "metadata": {},
   "source": [
    "As the median value of the period from confirmation to recovery, we can calculate recovery period."
   ]
  },
  {
   "cell_type": "code",
   "execution_count": 24,
   "metadata": {
    "collapsed": false
   },
   "outputs": [
    {
     "data": {
      "text/plain": [
       "12"
      ]
     },
     "execution_count": 24,
     "metadata": {},
     "output_type": "execute_result"
    }
   ],
   "source": [
    "# Recovery period (integer) [days]\n",
    "linelist.recovery_period()"
   ]
  },
  {
   "cell_type": "markdown",
   "metadata": {},
   "source": [
    "### Population in each country\n",
    "Population values are necessary to calculate the number of susceptible people. Susceptible is a variable of SIR-derived models. This dataset was saved as `population_data`, an instance of `PopulationData` class."
   ]
  },
  {
   "cell_type": "code",
   "execution_count": 25,
   "metadata": {
    "collapsed": false
   },
   "outputs": [
    {
     "data": {
      "text/plain": [
       "covsirphy.cleaning.population.PopulationData"
      ]
     },
     "execution_count": 25,
     "metadata": {},
     "output_type": "execute_result"
    }
   ],
   "source": [
    "type(population_data)"
   ]
  },
  {
   "cell_type": "code",
   "execution_count": 26,
   "metadata": {
    "collapsed": false,
    "tags": []
   },
   "outputs": [
    {
     "name": "stdout",
     "output_type": "stream",
     "text": [
      "(Secondary source) Guidotti, E., Ardia, D., (2020), \"COVID-19 Data Hub\", Journal of Open Source Software 5(51):2376, doi: 10.21105/joss.02376.\n"
     ]
    }
   ],
   "source": [
    "# Description/citation\n",
    "print(population_data.citation)"
   ]
  },
  {
   "cell_type": "code",
   "execution_count": 27,
   "metadata": {
    "collapsed": false
   },
   "outputs": [],
   "source": [
    "# Raw data (the same as jhu_data)\n",
    "# population_data.raw.tail()"
   ]
  },
  {
   "cell_type": "code",
   "execution_count": 28,
   "metadata": {
    "collapsed": false
   },
   "outputs": [
    {
     "data": {
      "text/html": [
       "<div>\n",
       "<style scoped>\n",
       "    .dataframe tbody tr th:only-of-type {\n",
       "        vertical-align: middle;\n",
       "    }\n",
       "\n",
       "    .dataframe tbody tr th {\n",
       "        vertical-align: top;\n",
       "    }\n",
       "\n",
       "    .dataframe thead th {\n",
       "        text-align: right;\n",
       "    }\n",
       "</style>\n",
       "<table border=\"1\" class=\"dataframe\">\n",
       "  <thead>\n",
       "    <tr style=\"text-align: right;\">\n",
       "      <th></th>\n",
       "      <th>ISO3</th>\n",
       "      <th>Country</th>\n",
       "      <th>Province</th>\n",
       "      <th>Date</th>\n",
       "      <th>Population</th>\n",
       "    </tr>\n",
       "  </thead>\n",
       "  <tbody>\n",
       "    <tr>\n",
       "      <th>301885</th>\n",
       "      <td>COL</td>\n",
       "      <td>Colombia</td>\n",
       "      <td>Vichada</td>\n",
       "      <td>2020-12-08</td>\n",
       "      <td>107808</td>\n",
       "    </tr>\n",
       "    <tr>\n",
       "      <th>301886</th>\n",
       "      <td>COL</td>\n",
       "      <td>Colombia</td>\n",
       "      <td>Vichada</td>\n",
       "      <td>2020-12-09</td>\n",
       "      <td>107808</td>\n",
       "    </tr>\n",
       "    <tr>\n",
       "      <th>301887</th>\n",
       "      <td>COL</td>\n",
       "      <td>Colombia</td>\n",
       "      <td>Vichada</td>\n",
       "      <td>2020-12-10</td>\n",
       "      <td>107808</td>\n",
       "    </tr>\n",
       "    <tr>\n",
       "      <th>301888</th>\n",
       "      <td>COL</td>\n",
       "      <td>Colombia</td>\n",
       "      <td>Vichada</td>\n",
       "      <td>2020-12-11</td>\n",
       "      <td>107808</td>\n",
       "    </tr>\n",
       "    <tr>\n",
       "      <th>301889</th>\n",
       "      <td>COL</td>\n",
       "      <td>Colombia</td>\n",
       "      <td>Vichada</td>\n",
       "      <td>2020-12-12</td>\n",
       "      <td>107808</td>\n",
       "    </tr>\n",
       "  </tbody>\n",
       "</table>\n",
       "</div>"
      ],
      "text/plain": [
       "       ISO3   Country Province       Date  Population\n",
       "301885  COL  Colombia  Vichada 2020-12-08      107808\n",
       "301886  COL  Colombia  Vichada 2020-12-09      107808\n",
       "301887  COL  Colombia  Vichada 2020-12-10      107808\n",
       "301888  COL  Colombia  Vichada 2020-12-11      107808\n",
       "301889  COL  Colombia  Vichada 2020-12-12      107808"
      ]
     },
     "execution_count": 28,
     "metadata": {},
     "output_type": "execute_result"
    }
   ],
   "source": [
    "# Cleaned data\n",
    "population_data.cleaned().tail()"
   ]
  },
  {
   "cell_type": "markdown",
   "metadata": {},
   "source": [
    "We will get the population values with `PopulationData.value()`."
   ]
  },
  {
   "cell_type": "code",
   "execution_count": 29,
   "metadata": {
    "collapsed": false
   },
   "outputs": [
    {
     "data": {
      "text/plain": [
       "126529100"
      ]
     },
     "execution_count": 29,
     "metadata": {},
     "output_type": "execute_result"
    }
   ],
   "source": [
    "# In a country\n",
    "population_data.value(\"Japan\", province=None)\n",
    "# In a country with ISO3 code\n",
    "# population_data.value(\"JPN\", province=None)\n",
    "# In a province (prefecture)\n",
    "# population_data.value(\"Japan\", province=\"Tokyo\")"
   ]
  },
  {
   "cell_type": "markdown",
   "metadata": {},
   "source": [
    "We can update the population values."
   ]
  },
  {
   "cell_type": "code",
   "execution_count": 30,
   "metadata": {
    "collapsed": false
   },
   "outputs": [
    {
     "name": "stdout",
     "output_type": "stream",
     "text": [
      "Before: 13942856\n"
     ]
    },
    {
     "name": "stdout",
     "output_type": "stream",
     "text": [
      " After: 14002973\n"
     ]
    }
   ],
   "source": [
    "# Before\n",
    "population_before = population_data.value(\"Japan\", province=\"Tokyo\")\n",
    "print(f\"Before: {population_before}\")\n",
    "# Register population value of Tokyo in Japan\n",
    "# https://www.metro.tokyo.lg.jp/tosei/hodohappyo/press/2020/06/11/07.html\n",
    "population_data.update(14_002_973, \"Japan\", province=\"Tokyo\")\n",
    "population_after = population_data.value(\"Japan\", province=\"Tokyo\")\n",
    "print(f\" After: {population_after}\")"
   ]
  },
  {
   "cell_type": "markdown",
   "metadata": {},
   "source": [
    "### Government Response Tracker (OxCGRT)\n",
    "Government responses are tracked with [Oxford Covid-19 Government Response Tracker (OxCGRT)](https://github.com/OxCGRT/covid-policy-tracker). Because government responses and activities of persons change the parameter values of SIR-derived models, this dataset is significant when we try to forcast the number of cases.  \n",
    "With `DataLoader` class, the dataset was retrieved via [COVID-19 Data Hub](https://covid19datahub.io/) and saved as `oxcgrt_data`, an instance of `OxCGRTData` class."
   ]
  },
  {
   "cell_type": "code",
   "execution_count": 31,
   "metadata": {
    "collapsed": false
   },
   "outputs": [
    {
     "data": {
      "text/plain": [
       "covsirphy.cleaning.oxcgrt.OxCGRTData"
      ]
     },
     "execution_count": 31,
     "metadata": {},
     "output_type": "execute_result"
    }
   ],
   "source": [
    "type(oxcgrt_data)"
   ]
  },
  {
   "cell_type": "code",
   "execution_count": 32,
   "metadata": {
    "collapsed": false,
    "tags": []
   },
   "outputs": [
    {
     "name": "stdout",
     "output_type": "stream",
     "text": [
      "(Secondary source) Guidotti, E., Ardia, D., (2020), \"COVID-19 Data Hub\", Journal of Open Source Software 5(51):2376, doi: 10.21105/joss.02376.\n"
     ]
    }
   ],
   "source": [
    "# Description/citation\n",
    "print(oxcgrt_data.citation)"
   ]
  },
  {
   "cell_type": "code",
   "execution_count": 33,
   "metadata": {
    "collapsed": false
   },
   "outputs": [],
   "source": [
    "# Raw data (the same as jhu_data)\n",
    "# oxcgrt_data.raw.tail()"
   ]
  },
  {
   "cell_type": "code",
   "execution_count": 34,
   "metadata": {
    "collapsed": false
   },
   "outputs": [
    {
     "data": {
      "text/html": [
       "<div>\n",
       "<style scoped>\n",
       "    .dataframe tbody tr th:only-of-type {\n",
       "        vertical-align: middle;\n",
       "    }\n",
       "\n",
       "    .dataframe tbody tr th {\n",
       "        vertical-align: top;\n",
       "    }\n",
       "\n",
       "    .dataframe thead th {\n",
       "        text-align: right;\n",
       "    }\n",
       "</style>\n",
       "<table border=\"1\" class=\"dataframe\">\n",
       "  <thead>\n",
       "    <tr style=\"text-align: right;\">\n",
       "      <th></th>\n",
       "      <th>Date</th>\n",
       "      <th>Country</th>\n",
       "      <th>ISO3</th>\n",
       "      <th>School_closing</th>\n",
       "      <th>Workplace_closing</th>\n",
       "      <th>Cancel_events</th>\n",
       "      <th>Gatherings_restrictions</th>\n",
       "      <th>Transport_closing</th>\n",
       "      <th>Stay_home_restrictions</th>\n",
       "      <th>Internal_movement_restrictions</th>\n",
       "      <th>International_movement_restrictions</th>\n",
       "      <th>Information_campaigns</th>\n",
       "      <th>Testing_policy</th>\n",
       "      <th>Contact_tracing</th>\n",
       "      <th>Stringency_index</th>\n",
       "    </tr>\n",
       "  </thead>\n",
       "  <tbody>\n",
       "    <tr>\n",
       "      <th>358099</th>\n",
       "      <td>2020-12-08</td>\n",
       "      <td>Colombia</td>\n",
       "      <td>COL</td>\n",
       "      <td>3</td>\n",
       "      <td>1</td>\n",
       "      <td>1</td>\n",
       "      <td>3</td>\n",
       "      <td>1</td>\n",
       "      <td>1</td>\n",
       "      <td>1</td>\n",
       "      <td>4</td>\n",
       "      <td>2</td>\n",
       "      <td>2</td>\n",
       "      <td>2</td>\n",
       "      <td>60.19</td>\n",
       "    </tr>\n",
       "    <tr>\n",
       "      <th>358100</th>\n",
       "      <td>2020-12-09</td>\n",
       "      <td>Colombia</td>\n",
       "      <td>COL</td>\n",
       "      <td>3</td>\n",
       "      <td>1</td>\n",
       "      <td>1</td>\n",
       "      <td>3</td>\n",
       "      <td>1</td>\n",
       "      <td>1</td>\n",
       "      <td>1</td>\n",
       "      <td>4</td>\n",
       "      <td>2</td>\n",
       "      <td>2</td>\n",
       "      <td>2</td>\n",
       "      <td>60.19</td>\n",
       "    </tr>\n",
       "    <tr>\n",
       "      <th>358101</th>\n",
       "      <td>2020-12-10</td>\n",
       "      <td>Colombia</td>\n",
       "      <td>COL</td>\n",
       "      <td>3</td>\n",
       "      <td>1</td>\n",
       "      <td>1</td>\n",
       "      <td>3</td>\n",
       "      <td>1</td>\n",
       "      <td>1</td>\n",
       "      <td>1</td>\n",
       "      <td>4</td>\n",
       "      <td>2</td>\n",
       "      <td>2</td>\n",
       "      <td>2</td>\n",
       "      <td>60.19</td>\n",
       "    </tr>\n",
       "    <tr>\n",
       "      <th>358102</th>\n",
       "      <td>2020-12-11</td>\n",
       "      <td>Colombia</td>\n",
       "      <td>COL</td>\n",
       "      <td>3</td>\n",
       "      <td>1</td>\n",
       "      <td>1</td>\n",
       "      <td>3</td>\n",
       "      <td>1</td>\n",
       "      <td>1</td>\n",
       "      <td>1</td>\n",
       "      <td>4</td>\n",
       "      <td>2</td>\n",
       "      <td>2</td>\n",
       "      <td>2</td>\n",
       "      <td>60.19</td>\n",
       "    </tr>\n",
       "    <tr>\n",
       "      <th>358103</th>\n",
       "      <td>2020-12-12</td>\n",
       "      <td>Colombia</td>\n",
       "      <td>COL</td>\n",
       "      <td>3</td>\n",
       "      <td>1</td>\n",
       "      <td>1</td>\n",
       "      <td>3</td>\n",
       "      <td>1</td>\n",
       "      <td>1</td>\n",
       "      <td>1</td>\n",
       "      <td>4</td>\n",
       "      <td>2</td>\n",
       "      <td>2</td>\n",
       "      <td>2</td>\n",
       "      <td>60.19</td>\n",
       "    </tr>\n",
       "  </tbody>\n",
       "</table>\n",
       "</div>"
      ],
      "text/plain": [
       "             Date   Country ISO3  School_closing  Workplace_closing  \\\n",
       "358099 2020-12-08  Colombia  COL               3                  1   \n",
       "358100 2020-12-09  Colombia  COL               3                  1   \n",
       "358101 2020-12-10  Colombia  COL               3                  1   \n",
       "358102 2020-12-11  Colombia  COL               3                  1   \n",
       "358103 2020-12-12  Colombia  COL               3                  1   \n",
       "\n",
       "        Cancel_events  Gatherings_restrictions  Transport_closing  \\\n",
       "358099              1                        3                  1   \n",
       "358100              1                        3                  1   \n",
       "358101              1                        3                  1   \n",
       "358102              1                        3                  1   \n",
       "358103              1                        3                  1   \n",
       "\n",
       "        Stay_home_restrictions  Internal_movement_restrictions  \\\n",
       "358099                       1                               1   \n",
       "358100                       1                               1   \n",
       "358101                       1                               1   \n",
       "358102                       1                               1   \n",
       "358103                       1                               1   \n",
       "\n",
       "        International_movement_restrictions  Information_campaigns  \\\n",
       "358099                                    4                      2   \n",
       "358100                                    4                      2   \n",
       "358101                                    4                      2   \n",
       "358102                                    4                      2   \n",
       "358103                                    4                      2   \n",
       "\n",
       "        Testing_policy  Contact_tracing  Stringency_index  \n",
       "358099               2                2             60.19  \n",
       "358100               2                2             60.19  \n",
       "358101               2                2             60.19  \n",
       "358102               2                2             60.19  \n",
       "358103               2                2             60.19  "
      ]
     },
     "execution_count": 34,
     "metadata": {},
     "output_type": "execute_result"
    }
   ],
   "source": [
    "# Cleaned data\n",
    "oxcgrt_data.cleaned().tail()"
   ]
  },
  {
   "cell_type": "code",
   "execution_count": 35,
   "metadata": {
    "collapsed": false
   },
   "outputs": [
    {
     "data": {
      "text/html": [
       "<div>\n",
       "<style scoped>\n",
       "    .dataframe tbody tr th:only-of-type {\n",
       "        vertical-align: middle;\n",
       "    }\n",
       "\n",
       "    .dataframe tbody tr th {\n",
       "        vertical-align: top;\n",
       "    }\n",
       "\n",
       "    .dataframe thead th {\n",
       "        text-align: right;\n",
       "    }\n",
       "</style>\n",
       "<table border=\"1\" class=\"dataframe\">\n",
       "  <thead>\n",
       "    <tr style=\"text-align: right;\">\n",
       "      <th></th>\n",
       "      <th>Date</th>\n",
       "      <th>School_closing</th>\n",
       "      <th>Workplace_closing</th>\n",
       "      <th>Cancel_events</th>\n",
       "      <th>Gatherings_restrictions</th>\n",
       "      <th>Transport_closing</th>\n",
       "      <th>Stay_home_restrictions</th>\n",
       "      <th>Internal_movement_restrictions</th>\n",
       "      <th>International_movement_restrictions</th>\n",
       "      <th>Information_campaigns</th>\n",
       "      <th>Testing_policy</th>\n",
       "      <th>Contact_tracing</th>\n",
       "      <th>Stringency_index</th>\n",
       "    </tr>\n",
       "  </thead>\n",
       "  <tbody>\n",
       "    <tr>\n",
       "      <th>342</th>\n",
       "      <td>2020-12-08</td>\n",
       "      <td>1</td>\n",
       "      <td>1</td>\n",
       "      <td>1</td>\n",
       "      <td>0</td>\n",
       "      <td>1</td>\n",
       "      <td>1</td>\n",
       "      <td>1</td>\n",
       "      <td>3</td>\n",
       "      <td>2</td>\n",
       "      <td>3</td>\n",
       "      <td>2</td>\n",
       "      <td>46.3</td>\n",
       "    </tr>\n",
       "    <tr>\n",
       "      <th>343</th>\n",
       "      <td>2020-12-09</td>\n",
       "      <td>1</td>\n",
       "      <td>1</td>\n",
       "      <td>1</td>\n",
       "      <td>0</td>\n",
       "      <td>1</td>\n",
       "      <td>1</td>\n",
       "      <td>1</td>\n",
       "      <td>3</td>\n",
       "      <td>2</td>\n",
       "      <td>3</td>\n",
       "      <td>2</td>\n",
       "      <td>46.3</td>\n",
       "    </tr>\n",
       "    <tr>\n",
       "      <th>344</th>\n",
       "      <td>2020-12-10</td>\n",
       "      <td>1</td>\n",
       "      <td>1</td>\n",
       "      <td>1</td>\n",
       "      <td>0</td>\n",
       "      <td>1</td>\n",
       "      <td>1</td>\n",
       "      <td>1</td>\n",
       "      <td>3</td>\n",
       "      <td>2</td>\n",
       "      <td>3</td>\n",
       "      <td>2</td>\n",
       "      <td>46.3</td>\n",
       "    </tr>\n",
       "    <tr>\n",
       "      <th>345</th>\n",
       "      <td>2020-12-11</td>\n",
       "      <td>1</td>\n",
       "      <td>1</td>\n",
       "      <td>1</td>\n",
       "      <td>0</td>\n",
       "      <td>1</td>\n",
       "      <td>1</td>\n",
       "      <td>1</td>\n",
       "      <td>3</td>\n",
       "      <td>2</td>\n",
       "      <td>3</td>\n",
       "      <td>2</td>\n",
       "      <td>46.3</td>\n",
       "    </tr>\n",
       "    <tr>\n",
       "      <th>346</th>\n",
       "      <td>2020-12-12</td>\n",
       "      <td>1</td>\n",
       "      <td>1</td>\n",
       "      <td>1</td>\n",
       "      <td>0</td>\n",
       "      <td>1</td>\n",
       "      <td>1</td>\n",
       "      <td>1</td>\n",
       "      <td>3</td>\n",
       "      <td>2</td>\n",
       "      <td>3</td>\n",
       "      <td>2</td>\n",
       "      <td>46.3</td>\n",
       "    </tr>\n",
       "  </tbody>\n",
       "</table>\n",
       "</div>"
      ],
      "text/plain": [
       "          Date  School_closing  Workplace_closing  Cancel_events  \\\n",
       "342 2020-12-08               1                  1              1   \n",
       "343 2020-12-09               1                  1              1   \n",
       "344 2020-12-10               1                  1              1   \n",
       "345 2020-12-11               1                  1              1   \n",
       "346 2020-12-12               1                  1              1   \n",
       "\n",
       "     Gatherings_restrictions  Transport_closing  Stay_home_restrictions  \\\n",
       "342                        0                  1                       1   \n",
       "343                        0                  1                       1   \n",
       "344                        0                  1                       1   \n",
       "345                        0                  1                       1   \n",
       "346                        0                  1                       1   \n",
       "\n",
       "     Internal_movement_restrictions  International_movement_restrictions  \\\n",
       "342                               1                                    3   \n",
       "343                               1                                    3   \n",
       "344                               1                                    3   \n",
       "345                               1                                    3   \n",
       "346                               1                                    3   \n",
       "\n",
       "     Information_campaigns  Testing_policy  Contact_tracing  Stringency_index  \n",
       "342                      2               3                2              46.3  \n",
       "343                      2               3                2              46.3  \n",
       "344                      2               3                2              46.3  \n",
       "345                      2               3                2              46.3  \n",
       "346                      2               3                2              46.3  "
      ]
     },
     "execution_count": 35,
     "metadata": {},
     "output_type": "execute_result"
    }
   ],
   "source": [
    "# Subset for a country\n",
    "oxcgrt_data.subset(\"Japan\").tail()\n",
    "# We can use ISO3 codes\n",
    "# oxcgrt_data.subset(\"JPN\").tail()"
   ]
  },
  {
   "cell_type": "markdown",
   "metadata": {},
   "source": [
    "### The number of tests\n",
    "The number of tests is also key information to understand the situation.\n",
    "This dataset was saved as `pcr_data`, an instance of `PCRData` class."
   ]
  },
  {
   "cell_type": "code",
   "execution_count": 36,
   "metadata": {
    "collapsed": false
   },
   "outputs": [
    {
     "data": {
      "text/plain": [
       "covsirphy.cleaning.pcr_data.PCRData"
      ]
     },
     "execution_count": 36,
     "metadata": {},
     "output_type": "execute_result"
    }
   ],
   "source": [
    "type(pcr_data)"
   ]
  },
  {
   "cell_type": "code",
   "execution_count": 37,
   "metadata": {
    "collapsed": false
   },
   "outputs": [
    {
     "name": "stdout",
     "output_type": "stream",
     "text": [
      "(Secondary source) Guidotti, E., Ardia, D., (2020), \"COVID-19 Data Hub\", Journal of Open Source Software 5(51):2376, doi: 10.21105/joss.02376.\n",
      "Lisphilar (2020), COVID-19 dataset in Japan, GitHub repository, https://github.com/lisphilar/covid19-sir/data/japan\n"
     ]
    }
   ],
   "source": [
    "# Description/citation\n",
    "print(pcr_data.citation)"
   ]
  },
  {
   "cell_type": "code",
   "execution_count": 38,
   "metadata": {
    "collapsed": false
   },
   "outputs": [],
   "source": [
    "# Raw data (the same as jhu_data)\n",
    "# pcr_data.raw.tail()"
   ]
  },
  {
   "cell_type": "code",
   "execution_count": 39,
   "metadata": {
    "collapsed": false
   },
   "outputs": [
    {
     "data": {
      "text/html": [
       "<div>\n",
       "<style scoped>\n",
       "    .dataframe tbody tr th:only-of-type {\n",
       "        vertical-align: middle;\n",
       "    }\n",
       "\n",
       "    .dataframe tbody tr th {\n",
       "        vertical-align: top;\n",
       "    }\n",
       "\n",
       "    .dataframe thead th {\n",
       "        text-align: right;\n",
       "    }\n",
       "</style>\n",
       "<table border=\"1\" class=\"dataframe\">\n",
       "  <thead>\n",
       "    <tr style=\"text-align: right;\">\n",
       "      <th></th>\n",
       "      <th>Date</th>\n",
       "      <th>Country</th>\n",
       "      <th>Province</th>\n",
       "      <th>Tests</th>\n",
       "      <th>Confirmed</th>\n",
       "    </tr>\n",
       "  </thead>\n",
       "  <tbody>\n",
       "    <tr>\n",
       "      <th>13260</th>\n",
       "      <td>2020-12-08</td>\n",
       "      <td>Japan</td>\n",
       "      <td>-</td>\n",
       "      <td>3800689</td>\n",
       "      <td>163929</td>\n",
       "    </tr>\n",
       "    <tr>\n",
       "      <th>13261</th>\n",
       "      <td>2020-12-09</td>\n",
       "      <td>Japan</td>\n",
       "      <td>-</td>\n",
       "      <td>3842524</td>\n",
       "      <td>165840</td>\n",
       "    </tr>\n",
       "    <tr>\n",
       "      <th>13262</th>\n",
       "      <td>2020-12-10</td>\n",
       "      <td>Japan</td>\n",
       "      <td>-</td>\n",
       "      <td>3898969</td>\n",
       "      <td>168573</td>\n",
       "    </tr>\n",
       "    <tr>\n",
       "      <th>13263</th>\n",
       "      <td>2020-12-11</td>\n",
       "      <td>Japan</td>\n",
       "      <td>-</td>\n",
       "      <td>3945830</td>\n",
       "      <td>171542</td>\n",
       "    </tr>\n",
       "    <tr>\n",
       "      <th>13264</th>\n",
       "      <td>2020-12-12</td>\n",
       "      <td>Japan</td>\n",
       "      <td>-</td>\n",
       "      <td>4001554</td>\n",
       "      <td>174299</td>\n",
       "    </tr>\n",
       "  </tbody>\n",
       "</table>\n",
       "</div>"
      ],
      "text/plain": [
       "            Date Country Province    Tests  Confirmed\n",
       "13260 2020-12-08   Japan        -  3800689     163929\n",
       "13261 2020-12-09   Japan        -  3842524     165840\n",
       "13262 2020-12-10   Japan        -  3898969     168573\n",
       "13263 2020-12-11   Japan        -  3945830     171542\n",
       "13264 2020-12-12   Japan        -  4001554     174299"
      ]
     },
     "execution_count": 39,
     "metadata": {},
     "output_type": "execute_result"
    }
   ],
   "source": [
    "# Cleaned data\n",
    "pcr_data.cleaned().tail()"
   ]
  },
  {
   "cell_type": "code",
   "execution_count": 40,
   "metadata": {
    "collapsed": false
   },
   "outputs": [
    {
     "data": {
      "text/html": [
       "<div>\n",
       "<style scoped>\n",
       "    .dataframe tbody tr th:only-of-type {\n",
       "        vertical-align: middle;\n",
       "    }\n",
       "\n",
       "    .dataframe tbody tr th {\n",
       "        vertical-align: top;\n",
       "    }\n",
       "\n",
       "    .dataframe thead th {\n",
       "        text-align: right;\n",
       "    }\n",
       "</style>\n",
       "<table border=\"1\" class=\"dataframe\">\n",
       "  <thead>\n",
       "    <tr style=\"text-align: right;\">\n",
       "      <th></th>\n",
       "      <th>Date</th>\n",
       "      <th>Tests</th>\n",
       "      <th>Confirmed</th>\n",
       "    </tr>\n",
       "  </thead>\n",
       "  <tbody>\n",
       "    <tr>\n",
       "      <th>306</th>\n",
       "      <td>2020-12-08</td>\n",
       "      <td>3800689</td>\n",
       "      <td>163929</td>\n",
       "    </tr>\n",
       "    <tr>\n",
       "      <th>307</th>\n",
       "      <td>2020-12-09</td>\n",
       "      <td>3842524</td>\n",
       "      <td>165840</td>\n",
       "    </tr>\n",
       "    <tr>\n",
       "      <th>308</th>\n",
       "      <td>2020-12-10</td>\n",
       "      <td>3898969</td>\n",
       "      <td>168573</td>\n",
       "    </tr>\n",
       "    <tr>\n",
       "      <th>309</th>\n",
       "      <td>2020-12-11</td>\n",
       "      <td>3945830</td>\n",
       "      <td>171542</td>\n",
       "    </tr>\n",
       "    <tr>\n",
       "      <th>310</th>\n",
       "      <td>2020-12-12</td>\n",
       "      <td>4001554</td>\n",
       "      <td>174299</td>\n",
       "    </tr>\n",
       "  </tbody>\n",
       "</table>\n",
       "</div>"
      ],
      "text/plain": [
       "          Date    Tests  Confirmed\n",
       "306 2020-12-08  3800689     163929\n",
       "307 2020-12-09  3842524     165840\n",
       "308 2020-12-10  3898969     168573\n",
       "309 2020-12-11  3945830     171542\n",
       "310 2020-12-12  4001554     174299"
      ]
     },
     "execution_count": 40,
     "metadata": {},
     "output_type": "execute_result"
    }
   ],
   "source": [
    "# Subset for a country\n",
    "pcr_data.subset(\"Japan\").tail()\n",
    "# We can use ISO3 codes\n",
    "# pcr_data.subset(\"JPN\").tail()"
   ]
  },
  {
   "cell_type": "markdown",
   "metadata": {},
   "source": [
    "Under the assumption that all tests were PCR test, we can calculate the positive rate of PCR tests aas \"the number of confirmed cases per the number of tests\"."
   ]
  },
  {
   "cell_type": "code",
   "execution_count": 41,
   "metadata": {
    "collapsed": false
   },
   "outputs": [
    {
     "data": {
      "image/png": "[encoded data removed]",
      "text/plain": [
       "<Figure size 648x432 with 1 Axes>"
      ]
     },
     "metadata": {},
     "output_type": "display_data"
    }
   ],
   "source": [
    "# Positive rate in Japan\n",
    "_ = pcr_data.positive_rate(\"Japan\")"
   ]
  }
 ],
 "metadata": {
  "kernelspec": {
   "display_name": "Python 3.8.5 64-bit ('covid19-sir': pipenv)",
   "metadata": {
    "interpreter": {
     "hash": "aa53c8c6e6798222a2084c11cc25017700a8d3ad495b587e3a634f357767115f"
    }
   },
   "name": "python3"
  },
  "language_info": {
   "codemirror_mode": {
    "name": "ipython",
    "version": 3
   },
   "file_extension": ".py",
   "mimetype": "text/x-python",
   "name": "python",
   "nbconvert_exporter": "python",
   "pygments_lexer": "ipython3",
   "version": "3.8.5-final"
  }
 },
 "nbformat": 4,
 "nbformat_minor": 4
}
