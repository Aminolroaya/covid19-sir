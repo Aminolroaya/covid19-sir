{
 "cells": [
  {
   "cell_type": "markdown",
   "metadata": {},
   "source": [
    "# Usage (quickest version)"
   ]
  },
  {
   "cell_type": "markdown",
   "metadata": {},
   "source": [
    "## Preparation"
   ]
  },
  {
   "cell_type": "code",
   "execution_count": 1,
   "metadata": {
    "collapsed": false
   },
   "outputs": [],
   "source": [
    "# Standard users\n",
    "# !pip install covsirphy"
   ]
  },
  {
   "cell_type": "code",
   "execution_count": 2,
   "metadata": {
    "collapsed": false
   },
   "outputs": [],
   "source": [
    "# Developers (Note: this notebook is in example directory)\n",
    "import os\n",
    "os.chdir(\"../\")"
   ]
  },
  {
   "cell_type": "code",
   "execution_count": 3,
   "metadata": {
    "collapsed": false
   },
   "outputs": [],
   "source": [
    "from pprint import pprint"
   ]
  },
  {
   "cell_type": "code",
   "execution_count": 4,
   "metadata": {
    "collapsed": false,
    "tags": []
   },
   "outputs": [
    {
     "data": {
      "text/plain": [
       "'2.8.3'"
      ]
     },
     "execution_count": 4,
     "metadata": {},
     "output_type": "execute_result"
    }
   ],
   "source": [
    "import covsirphy as cs\n",
    "cs.__version__"
   ]
  },
  {
   "cell_type": "markdown",
   "metadata": {},
   "source": [
    "## Dataset preparation\n",
    "Download the datasets to \"input\" direcotry and load them.\n",
    "\n",
    "If \"input\" directory has the datasets, `DataLoader` will load the local files. If the datasets were updated in remote servers, `DataLoader` will update the local files automatically."
   ]
  },
  {
   "cell_type": "code",
   "execution_count": 5,
   "metadata": {
    "collapsed": false,
    "tags": []
   },
   "outputs": [],
   "source": [
    "# Standard users and developers\n",
    "data_loader = cs.DataLoader(\"input\")\n",
    "# The number of cases (JHU style)\n",
    "jhu_data = data_loader.jhu(verbose=False)\n",
    "# Population in each country\n",
    "population_data = data_loader.population(verbose=False)"
   ]
  },
  {
   "cell_type": "markdown",
   "metadata": {},
   "source": [
    "Note:  \n",
    "Datasets were retrieved via [COVID-19 Data Hub](https://covid19datahub.io/https://covid19datahub.io/) and the citation is  \n",
    "Guidotti, E., Ardia, D., (2020), \"COVID-19 Data Hub\", Journal of Open Source Software 5(51):2376, doi: 10.21105/joss.02376."
   ]
  },
  {
   "cell_type": "markdown",
   "metadata": {},
   "source": [
    "Scenario analysis can be performed for the following countries."
   ]
  },
  {
   "cell_type": "code",
   "execution_count": 6,
   "metadata": {
    "collapsed": false,
    "tags": []
   },
   "outputs": [
    {
     "name": "stdout",
     "output_type": "stream",
     "text": [
      "{"
     ]
    },
    {
     "name": "stdout",
     "output_type": "stream",
     "text": [
      "'Afghanistan'"
     ]
    },
    {
     "name": "stdout",
     "output_type": "stream",
     "text": [
      ", "
     ]
    },
    {
     "name": "stdout",
     "output_type": "stream",
     "text": [
      "'Albania'"
     ]
    },
    {
     "name": "stdout",
     "output_type": "stream",
     "text": [
      ", "
     ]
    },
    {
     "name": "stdout",
     "output_type": "stream",
     "text": [
      "'Algeria'"
     ]
    },
    {
     "name": "stdout",
     "output_type": "stream",
     "text": [
      ", "
     ]
    },
    {
     "name": "stdout",
     "output_type": "stream",
     "text": [
      "'Andorra'"
     ]
    },
    {
     "name": "stdout",
     "output_type": "stream",
     "text": [
      ", "
     ]
    },
    {
     "name": "stdout",
     "output_type": "stream",
     "text": [
      "'Angola'"
     ]
    },
    {
     "name": "stdout",
     "output_type": "stream",
     "text": [
      ",\n",
      " "
     ]
    },
    {
     "name": "stdout",
     "output_type": "stream",
     "text": [
      "'Antigua and Barbuda'"
     ]
    },
    {
     "name": "stdout",
     "output_type": "stream",
     "text": [
      ", "
     ]
    },
    {
     "name": "stdout",
     "output_type": "stream",
     "text": [
      "'Argentina'"
     ]
    },
    {
     "name": "stdout",
     "output_type": "stream",
     "text": [
      ", "
     ]
    },
    {
     "name": "stdout",
     "output_type": "stream",
     "text": [
      "'Armenia'"
     ]
    },
    {
     "name": "stdout",
     "output_type": "stream",
     "text": [
      ", "
     ]
    },
    {
     "name": "stdout",
     "output_type": "stream",
     "text": [
      "'Australia'"
     ]
    },
    {
     "name": "stdout",
     "output_type": "stream",
     "text": [
      ", "
     ]
    },
    {
     "name": "stdout",
     "output_type": "stream",
     "text": [
      "'Austria'"
     ]
    },
    {
     "name": "stdout",
     "output_type": "stream",
     "text": [
      ",\n",
      " "
     ]
    },
    {
     "name": "stdout",
     "output_type": "stream",
     "text": [
      "'Azerbaijan'"
     ]
    },
    {
     "name": "stdout",
     "output_type": "stream",
     "text": [
      ", "
     ]
    },
    {
     "name": "stdout",
     "output_type": "stream",
     "text": [
      "'Bahamas'"
     ]
    },
    {
     "name": "stdout",
     "output_type": "stream",
     "text": [
      ", "
     ]
    },
    {
     "name": "stdout",
     "output_type": "stream",
     "text": [
      "'Bahrain'"
     ]
    },
    {
     "name": "stdout",
     "output_type": "stream",
     "text": [
      ", "
     ]
    },
    {
     "name": "stdout",
     "output_type": "stream",
     "text": [
      "'Bangladesh'"
     ]
    },
    {
     "name": "stdout",
     "output_type": "stream",
     "text": [
      ", "
     ]
    },
    {
     "name": "stdout",
     "output_type": "stream",
     "text": [
      "'Barbados'"
     ]
    },
    {
     "name": "stdout",
     "output_type": "stream",
     "text": [
      ", "
     ]
    },
    {
     "name": "stdout",
     "output_type": "stream",
     "text": [
      "'Belarus'"
     ]
    },
    {
     "name": "stdout",
     "output_type": "stream",
     "text": [
      ",\n",
      " "
     ]
    },
    {
     "name": "stdout",
     "output_type": "stream",
     "text": [
      "'Belgium'"
     ]
    },
    {
     "name": "stdout",
     "output_type": "stream",
     "text": [
      ", "
     ]
    },
    {
     "name": "stdout",
     "output_type": "stream",
     "text": [
      "'Belize'"
     ]
    },
    {
     "name": "stdout",
     "output_type": "stream",
     "text": [
      ", "
     ]
    },
    {
     "name": "stdout",
     "output_type": "stream",
     "text": [
      "'Benin'"
     ]
    },
    {
     "name": "stdout",
     "output_type": "stream",
     "text": [
      ", "
     ]
    },
    {
     "name": "stdout",
     "output_type": "stream",
     "text": [
      "'Bermuda'"
     ]
    },
    {
     "name": "stdout",
     "output_type": "stream",
     "text": [
      ", "
     ]
    },
    {
     "name": "stdout",
     "output_type": "stream",
     "text": [
      "'Bhutan'"
     ]
    },
    {
     "name": "stdout",
     "output_type": "stream",
     "text": [
      ", "
     ]
    },
    {
     "name": "stdout",
     "output_type": "stream",
     "text": [
      "'Bolivia'"
     ]
    },
    {
     "name": "stdout",
     "output_type": "stream",
     "text": [
      ",\n",
      " "
     ]
    },
    {
     "name": "stdout",
     "output_type": "stream",
     "text": [
      "'Bosnia and Herzegovina'"
     ]
    },
    {
     "name": "stdout",
     "output_type": "stream",
     "text": [
      ", "
     ]
    },
    {
     "name": "stdout",
     "output_type": "stream",
     "text": [
      "'Botswana'"
     ]
    },
    {
     "name": "stdout",
     "output_type": "stream",
     "text": [
      ", "
     ]
    },
    {
     "name": "stdout",
     "output_type": "stream",
     "text": [
      "'Brazil'"
     ]
    },
    {
     "name": "stdout",
     "output_type": "stream",
     "text": [
      ", "
     ]
    },
    {
     "name": "stdout",
     "output_type": "stream",
     "text": [
      "'Brunei'"
     ]
    },
    {
     "name": "stdout",
     "output_type": "stream",
     "text": [
      ", "
     ]
    },
    {
     "name": "stdout",
     "output_type": "stream",
     "text": [
      "'Bulgaria'"
     ]
    },
    {
     "name": "stdout",
     "output_type": "stream",
     "text": [
      ",\n",
      " "
     ]
    },
    {
     "name": "stdout",
     "output_type": "stream",
     "text": [
      "'Burkina Faso'"
     ]
    },
    {
     "name": "stdout",
     "output_type": "stream",
     "text": [
      ", "
     ]
    },
    {
     "name": "stdout",
     "output_type": "stream",
     "text": [
      "'Burundi'"
     ]
    },
    {
     "name": "stdout",
     "output_type": "stream",
     "text": [
      ", "
     ]
    },
    {
     "name": "stdout",
     "output_type": "stream",
     "text": [
      "'Cambodia'"
     ]
    },
    {
     "name": "stdout",
     "output_type": "stream",
     "text": [
      ", "
     ]
    },
    {
     "name": "stdout",
     "output_type": "stream",
     "text": [
      "'Cameroon'"
     ]
    },
    {
     "name": "stdout",
     "output_type": "stream",
     "text": [
      ", "
     ]
    },
    {
     "name": "stdout",
     "output_type": "stream",
     "text": [
      "'Canada'"
     ]
    },
    {
     "name": "stdout",
     "output_type": "stream",
     "text": [
      ", "
     ]
    },
    {
     "name": "stdout",
     "output_type": "stream",
     "text": [
      "'Cape Verde'"
     ]
    },
    {
     "name": "stdout",
     "output_type": "stream",
     "text": [
      ",\n",
      " "
     ]
    },
    {
     "name": "stdout",
     "output_type": "stream",
     "text": [
      "'Central African Republic'"
     ]
    },
    {
     "name": "stdout",
     "output_type": "stream",
     "text": [
      ", "
     ]
    },
    {
     "name": "stdout",
     "output_type": "stream",
     "text": [
      "'Chad'"
     ]
    },
    {
     "name": "stdout",
     "output_type": "stream",
     "text": [
      ", "
     ]
    },
    {
     "name": "stdout",
     "output_type": "stream",
     "text": [
      "'Chile'"
     ]
    },
    {
     "name": "stdout",
     "output_type": "stream",
     "text": [
      ", "
     ]
    },
    {
     "name": "stdout",
     "output_type": "stream",
     "text": [
      "'China'"
     ]
    },
    {
     "name": "stdout",
     "output_type": "stream",
     "text": [
      ", "
     ]
    },
    {
     "name": "stdout",
     "output_type": "stream",
     "text": [
      "'Colombia'"
     ]
    },
    {
     "name": "stdout",
     "output_type": "stream",
     "text": [
      ", "
     ]
    },
    {
     "name": "stdout",
     "output_type": "stream",
     "text": [
      "'Comoros'"
     ]
    },
    {
     "name": "stdout",
     "output_type": "stream",
     "text": [
      ",\n",
      " "
     ]
    },
    {
     "name": "stdout",
     "output_type": "stream",
     "text": [
      "'Congo'"
     ]
    },
    {
     "name": "stdout",
     "output_type": "stream",
     "text": [
      ", "
     ]
    },
    {
     "name": "stdout",
     "output_type": "stream",
     "text": [
      "'Costa Atlantica'"
     ]
    },
    {
     "name": "stdout",
     "output_type": "stream",
     "text": [
      ", "
     ]
    },
    {
     "name": "stdout",
     "output_type": "stream",
     "text": [
      "'Costa Rica'"
     ]
    },
    {
     "name": "stdout",
     "output_type": "stream",
     "text": [
      ", "
     ]
    },
    {
     "name": "stdout",
     "output_type": "stream",
     "text": [
      "'Croatia'"
     ]
    },
    {
     "name": "stdout",
     "output_type": "stream",
     "text": [
      ", "
     ]
    },
    {
     "name": "stdout",
     "output_type": "stream",
     "text": [
      "'Cuba'"
     ]
    },
    {
     "name": "stdout",
     "output_type": "stream",
     "text": [
      ", "
     ]
    },
    {
     "name": "stdout",
     "output_type": "stream",
     "text": [
      "'Cyprus'"
     ]
    },
    {
     "name": "stdout",
     "output_type": "stream",
     "text": [
      ",\n",
      " "
     ]
    },
    {
     "name": "stdout",
     "output_type": "stream",
     "text": [
      "'Czech Republic'"
     ]
    },
    {
     "name": "stdout",
     "output_type": "stream",
     "text": [
      ", "
     ]
    },
    {
     "name": "stdout",
     "output_type": "stream",
     "text": [
      "'Denmark'"
     ]
    },
    {
     "name": "stdout",
     "output_type": "stream",
     "text": [
      ", "
     ]
    },
    {
     "name": "stdout",
     "output_type": "stream",
     "text": [
      "'Djibouti'"
     ]
    },
    {
     "name": "stdout",
     "output_type": "stream",
     "text": [
      ", "
     ]
    },
    {
     "name": "stdout",
     "output_type": "stream",
     "text": [
      "'Dominica'"
     ]
    },
    {
     "name": "stdout",
     "output_type": "stream",
     "text": [
      ", "
     ]
    },
    {
     "name": "stdout",
     "output_type": "stream",
     "text": [
      "'Dominican Republic'"
     ]
    },
    {
     "name": "stdout",
     "output_type": "stream",
     "text": [
      ",\n",
      " "
     ]
    },
    {
     "name": "stdout",
     "output_type": "stream",
     "text": [
      "'Ecuador'"
     ]
    },
    {
     "name": "stdout",
     "output_type": "stream",
     "text": [
      ", "
     ]
    },
    {
     "name": "stdout",
     "output_type": "stream",
     "text": [
      "'Egypt'"
     ]
    },
    {
     "name": "stdout",
     "output_type": "stream",
     "text": [
      ", "
     ]
    },
    {
     "name": "stdout",
     "output_type": "stream",
     "text": [
      "'El Salvador'"
     ]
    },
    {
     "name": "stdout",
     "output_type": "stream",
     "text": [
      ", "
     ]
    },
    {
     "name": "stdout",
     "output_type": "stream",
     "text": [
      "'Equatorial Guinea'"
     ]
    },
    {
     "name": "stdout",
     "output_type": "stream",
     "text": [
      ", "
     ]
    },
    {
     "name": "stdout",
     "output_type": "stream",
     "text": [
      "'Eritrea'"
     ]
    },
    {
     "name": "stdout",
     "output_type": "stream",
     "text": [
      ", "
     ]
    },
    {
     "name": "stdout",
     "output_type": "stream",
     "text": [
      "'Estonia'"
     ]
    },
    {
     "name": "stdout",
     "output_type": "stream",
     "text": [
      ",\n",
      " "
     ]
    },
    {
     "name": "stdout",
     "output_type": "stream",
     "text": [
      "'Ethiopia'"
     ]
    },
    {
     "name": "stdout",
     "output_type": "stream",
     "text": [
      ", "
     ]
    },
    {
     "name": "stdout",
     "output_type": "stream",
     "text": [
      "'Fiji'"
     ]
    },
    {
     "name": "stdout",
     "output_type": "stream",
     "text": [
      ", "
     ]
    },
    {
     "name": "stdout",
     "output_type": "stream",
     "text": [
      "'Finland'"
     ]
    },
    {
     "name": "stdout",
     "output_type": "stream",
     "text": [
      ", "
     ]
    },
    {
     "name": "stdout",
     "output_type": "stream",
     "text": [
      "'France'"
     ]
    },
    {
     "name": "stdout",
     "output_type": "stream",
     "text": [
      ", "
     ]
    },
    {
     "name": "stdout",
     "output_type": "stream",
     "text": [
      "'Gabon'"
     ]
    },
    {
     "name": "stdout",
     "output_type": "stream",
     "text": [
      ", "
     ]
    },
    {
     "name": "stdout",
     "output_type": "stream",
     "text": [
      "'Gambia'"
     ]
    },
    {
     "name": "stdout",
     "output_type": "stream",
     "text": [
      ", "
     ]
    },
    {
     "name": "stdout",
     "output_type": "stream",
     "text": [
      "'Georgia'"
     ]
    },
    {
     "name": "stdout",
     "output_type": "stream",
     "text": [
      ",\n",
      " "
     ]
    },
    {
     "name": "stdout",
     "output_type": "stream",
     "text": [
      "'Germany'"
     ]
    },
    {
     "name": "stdout",
     "output_type": "stream",
     "text": [
      ", "
     ]
    },
    {
     "name": "stdout",
     "output_type": "stream",
     "text": [
      "'Ghana'"
     ]
    },
    {
     "name": "stdout",
     "output_type": "stream",
     "text": [
      ", "
     ]
    },
    {
     "name": "stdout",
     "output_type": "stream",
     "text": [
      "'Greece'"
     ]
    },
    {
     "name": "stdout",
     "output_type": "stream",
     "text": [
      ", "
     ]
    },
    {
     "name": "stdout",
     "output_type": "stream",
     "text": [
      "'Grenada'"
     ]
    },
    {
     "name": "stdout",
     "output_type": "stream",
     "text": [
      ", "
     ]
    },
    {
     "name": "stdout",
     "output_type": "stream",
     "text": [
      "'Guatemala'"
     ]
    },
    {
     "name": "stdout",
     "output_type": "stream",
     "text": [
      ", "
     ]
    },
    {
     "name": "stdout",
     "output_type": "stream",
     "text": [
      "'Guinea'"
     ]
    },
    {
     "name": "stdout",
     "output_type": "stream",
     "text": [
      ",\n",
      " "
     ]
    },
    {
     "name": "stdout",
     "output_type": "stream",
     "text": [
      "'Guinea-Bissau'"
     ]
    },
    {
     "name": "stdout",
     "output_type": "stream",
     "text": [
      ", "
     ]
    },
    {
     "name": "stdout",
     "output_type": "stream",
     "text": [
      "'Guyana'"
     ]
    },
    {
     "name": "stdout",
     "output_type": "stream",
     "text": [
      ", "
     ]
    },
    {
     "name": "stdout",
     "output_type": "stream",
     "text": [
      "'Haiti'"
     ]
    },
    {
     "name": "stdout",
     "output_type": "stream",
     "text": [
      ", "
     ]
    },
    {
     "name": "stdout",
     "output_type": "stream",
     "text": [
      "'Holy See'"
     ]
    },
    {
     "name": "stdout",
     "output_type": "stream",
     "text": [
      ", "
     ]
    },
    {
     "name": "stdout",
     "output_type": "stream",
     "text": [
      "'Honduras'"
     ]
    },
    {
     "name": "stdout",
     "output_type": "stream",
     "text": [
      ", "
     ]
    },
    {
     "name": "stdout",
     "output_type": "stream",
     "text": [
      "'Hungary'"
     ]
    },
    {
     "name": "stdout",
     "output_type": "stream",
     "text": [
      ",\n",
      " "
     ]
    },
    {
     "name": "stdout",
     "output_type": "stream",
     "text": [
      "'Iceland'"
     ]
    },
    {
     "name": "stdout",
     "output_type": "stream",
     "text": [
      ", "
     ]
    },
    {
     "name": "stdout",
     "output_type": "stream",
     "text": [
      "'India'"
     ]
    },
    {
     "name": "stdout",
     "output_type": "stream",
     "text": [
      ", "
     ]
    },
    {
     "name": "stdout",
     "output_type": "stream",
     "text": [
      "'Indonesia'"
     ]
    },
    {
     "name": "stdout",
     "output_type": "stream",
     "text": [
      ", "
     ]
    },
    {
     "name": "stdout",
     "output_type": "stream",
     "text": [
      "'Iran'"
     ]
    },
    {
     "name": "stdout",
     "output_type": "stream",
     "text": [
      ", "
     ]
    },
    {
     "name": "stdout",
     "output_type": "stream",
     "text": [
      "'Iraq'"
     ]
    },
    {
     "name": "stdout",
     "output_type": "stream",
     "text": [
      ", "
     ]
    },
    {
     "name": "stdout",
     "output_type": "stream",
     "text": [
      "'Ireland'"
     ]
    },
    {
     "name": "stdout",
     "output_type": "stream",
     "text": [
      ", "
     ]
    },
    {
     "name": "stdout",
     "output_type": "stream",
     "text": [
      "'Israel'"
     ]
    },
    {
     "name": "stdout",
     "output_type": "stream",
     "text": [
      ", "
     ]
    },
    {
     "name": "stdout",
     "output_type": "stream",
     "text": [
      "'Italy'"
     ]
    },
    {
     "name": "stdout",
     "output_type": "stream",
     "text": [
      ",\n",
      " "
     ]
    },
    {
     "name": "stdout",
     "output_type": "stream",
     "text": [
      "'Ivory Coast'"
     ]
    },
    {
     "name": "stdout",
     "output_type": "stream",
     "text": [
      ", "
     ]
    },
    {
     "name": "stdout",
     "output_type": "stream",
     "text": [
      "'Jamaica'"
     ]
    },
    {
     "name": "stdout",
     "output_type": "stream",
     "text": [
      ", "
     ]
    },
    {
     "name": "stdout",
     "output_type": "stream",
     "text": [
      "'Japan'"
     ]
    },
    {
     "name": "stdout",
     "output_type": "stream",
     "text": [
      ", "
     ]
    },
    {
     "name": "stdout",
     "output_type": "stream",
     "text": [
      "'Jordan'"
     ]
    },
    {
     "name": "stdout",
     "output_type": "stream",
     "text": [
      ", "
     ]
    },
    {
     "name": "stdout",
     "output_type": "stream",
     "text": [
      "'Kazakhstan'"
     ]
    },
    {
     "name": "stdout",
     "output_type": "stream",
     "text": [
      ", "
     ]
    },
    {
     "name": "stdout",
     "output_type": "stream",
     "text": [
      "'Kenya'"
     ]
    },
    {
     "name": "stdout",
     "output_type": "stream",
     "text": [
      ",\n",
      " "
     ]
    },
    {
     "name": "stdout",
     "output_type": "stream",
     "text": [
      "'Korea, South'"
     ]
    },
    {
     "name": "stdout",
     "output_type": "stream",
     "text": [
      ", "
     ]
    },
    {
     "name": "stdout",
     "output_type": "stream",
     "text": [
      "'Kosovo'"
     ]
    },
    {
     "name": "stdout",
     "output_type": "stream",
     "text": [
      ", "
     ]
    },
    {
     "name": "stdout",
     "output_type": "stream",
     "text": [
      "'Kuwait'"
     ]
    },
    {
     "name": "stdout",
     "output_type": "stream",
     "text": [
      ", "
     ]
    },
    {
     "name": "stdout",
     "output_type": "stream",
     "text": [
      "'Kyrgyzstan'"
     ]
    },
    {
     "name": "stdout",
     "output_type": "stream",
     "text": [
      ", "
     ]
    },
    {
     "name": "stdout",
     "output_type": "stream",
     "text": [
      "'Laos'"
     ]
    },
    {
     "name": "stdout",
     "output_type": "stream",
     "text": [
      ", "
     ]
    },
    {
     "name": "stdout",
     "output_type": "stream",
     "text": [
      "'Latvia'"
     ]
    },
    {
     "name": "stdout",
     "output_type": "stream",
     "text": [
      ", "
     ]
    },
    {
     "name": "stdout",
     "output_type": "stream",
     "text": [
      "'Lebanon'"
     ]
    },
    {
     "name": "stdout",
     "output_type": "stream",
     "text": [
      ",\n",
      " "
     ]
    },
    {
     "name": "stdout",
     "output_type": "stream",
     "text": [
      "'Lesotho'"
     ]
    },
    {
     "name": "stdout",
     "output_type": "stream",
     "text": [
      ", "
     ]
    },
    {
     "name": "stdout",
     "output_type": "stream",
     "text": [
      "'Liberia'"
     ]
    },
    {
     "name": "stdout",
     "output_type": "stream",
     "text": [
      ", "
     ]
    },
    {
     "name": "stdout",
     "output_type": "stream",
     "text": [
      "'Libya'"
     ]
    },
    {
     "name": "stdout",
     "output_type": "stream",
     "text": [
      ", "
     ]
    },
    {
     "name": "stdout",
     "output_type": "stream",
     "text": [
      "'Liechtenstein'"
     ]
    },
    {
     "name": "stdout",
     "output_type": "stream",
     "text": [
      ", "
     ]
    },
    {
     "name": "stdout",
     "output_type": "stream",
     "text": [
      "'Lithuania'"
     ]
    },
    {
     "name": "stdout",
     "output_type": "stream",
     "text": [
      ", "
     ]
    },
    {
     "name": "stdout",
     "output_type": "stream",
     "text": [
      "'Luxembourg'"
     ]
    },
    {
     "name": "stdout",
     "output_type": "stream",
     "text": [
      ",\n",
      " "
     ]
    },
    {
     "name": "stdout",
     "output_type": "stream",
     "text": [
      "'Macedonia'"
     ]
    },
    {
     "name": "stdout",
     "output_type": "stream",
     "text": [
      ", "
     ]
    },
    {
     "name": "stdout",
     "output_type": "stream",
     "text": [
      "'Madagascar'"
     ]
    },
    {
     "name": "stdout",
     "output_type": "stream",
     "text": [
      ", "
     ]
    },
    {
     "name": "stdout",
     "output_type": "stream",
     "text": [
      "'Malawi'"
     ]
    },
    {
     "name": "stdout",
     "output_type": "stream",
     "text": [
      ", "
     ]
    },
    {
     "name": "stdout",
     "output_type": "stream",
     "text": [
      "'Malaysia'"
     ]
    },
    {
     "name": "stdout",
     "output_type": "stream",
     "text": [
      ", "
     ]
    },
    {
     "name": "stdout",
     "output_type": "stream",
     "text": [
      "'Maldives'"
     ]
    },
    {
     "name": "stdout",
     "output_type": "stream",
     "text": [
      ", "
     ]
    },
    {
     "name": "stdout",
     "output_type": "stream",
     "text": [
      "'Mali'"
     ]
    },
    {
     "name": "stdout",
     "output_type": "stream",
     "text": [
      ", "
     ]
    },
    {
     "name": "stdout",
     "output_type": "stream",
     "text": [
      "'Malta'"
     ]
    },
    {
     "name": "stdout",
     "output_type": "stream",
     "text": [
      ",\n",
      " "
     ]
    },
    {
     "name": "stdout",
     "output_type": "stream",
     "text": [
      "'Mauritania'"
     ]
    },
    {
     "name": "stdout",
     "output_type": "stream",
     "text": [
      ", "
     ]
    },
    {
     "name": "stdout",
     "output_type": "stream",
     "text": [
      "'Mauritius'"
     ]
    },
    {
     "name": "stdout",
     "output_type": "stream",
     "text": [
      ", "
     ]
    },
    {
     "name": "stdout",
     "output_type": "stream",
     "text": [
      "'Mexico'"
     ]
    },
    {
     "name": "stdout",
     "output_type": "stream",
     "text": [
      ", "
     ]
    },
    {
     "name": "stdout",
     "output_type": "stream",
     "text": [
      "'Moldova'"
     ]
    },
    {
     "name": "stdout",
     "output_type": "stream",
     "text": [
      ", "
     ]
    },
    {
     "name": "stdout",
     "output_type": "stream",
     "text": [
      "'Monaco'"
     ]
    },
    {
     "name": "stdout",
     "output_type": "stream",
     "text": [
      ", "
     ]
    },
    {
     "name": "stdout",
     "output_type": "stream",
     "text": [
      "'Mongolia'"
     ]
    },
    {
     "name": "stdout",
     "output_type": "stream",
     "text": [
      ",\n",
      " "
     ]
    },
    {
     "name": "stdout",
     "output_type": "stream",
     "text": [
      "'Montenegro'"
     ]
    },
    {
     "name": "stdout",
     "output_type": "stream",
     "text": [
      ", "
     ]
    },
    {
     "name": "stdout",
     "output_type": "stream",
     "text": [
      "'Morocco'"
     ]
    },
    {
     "name": "stdout",
     "output_type": "stream",
     "text": [
      ", "
     ]
    },
    {
     "name": "stdout",
     "output_type": "stream",
     "text": [
      "'Mozambique'"
     ]
    },
    {
     "name": "stdout",
     "output_type": "stream",
     "text": [
      ", "
     ]
    },
    {
     "name": "stdout",
     "output_type": "stream",
     "text": [
      "'Myanmar'"
     ]
    },
    {
     "name": "stdout",
     "output_type": "stream",
     "text": [
      ", "
     ]
    },
    {
     "name": "stdout",
     "output_type": "stream",
     "text": [
      "'Namibia'"
     ]
    },
    {
     "name": "stdout",
     "output_type": "stream",
     "text": [
      ", "
     ]
    },
    {
     "name": "stdout",
     "output_type": "stream",
     "text": [
      "'Nepal'"
     ]
    },
    {
     "name": "stdout",
     "output_type": "stream",
     "text": [
      ",\n",
      " "
     ]
    },
    {
     "name": "stdout",
     "output_type": "stream",
     "text": [
      "'Netherlands'"
     ]
    },
    {
     "name": "stdout",
     "output_type": "stream",
     "text": [
      ", "
     ]
    },
    {
     "name": "stdout",
     "output_type": "stream",
     "text": [
      "'New Zealand'"
     ]
    },
    {
     "name": "stdout",
     "output_type": "stream",
     "text": [
      ", "
     ]
    },
    {
     "name": "stdout",
     "output_type": "stream",
     "text": [
      "'Nicaragua'"
     ]
    },
    {
     "name": "stdout",
     "output_type": "stream",
     "text": [
      ", "
     ]
    },
    {
     "name": "stdout",
     "output_type": "stream",
     "text": [
      "'Niger'"
     ]
    },
    {
     "name": "stdout",
     "output_type": "stream",
     "text": [
      ", "
     ]
    },
    {
     "name": "stdout",
     "output_type": "stream",
     "text": [
      "'Nigeria'"
     ]
    },
    {
     "name": "stdout",
     "output_type": "stream",
     "text": [
      ", "
     ]
    },
    {
     "name": "stdout",
     "output_type": "stream",
     "text": [
      "'Norway'"
     ]
    },
    {
     "name": "stdout",
     "output_type": "stream",
     "text": [
      ",\n",
      " "
     ]
    },
    {
     "name": "stdout",
     "output_type": "stream",
     "text": [
      "'Oman'"
     ]
    },
    {
     "name": "stdout",
     "output_type": "stream",
     "text": [
      ", "
     ]
    },
    {
     "name": "stdout",
     "output_type": "stream",
     "text": [
      "'Pakistan'"
     ]
    },
    {
     "name": "stdout",
     "output_type": "stream",
     "text": [
      ", "
     ]
    },
    {
     "name": "stdout",
     "output_type": "stream",
     "text": [
      "'Palestine'"
     ]
    },
    {
     "name": "stdout",
     "output_type": "stream",
     "text": [
      ", "
     ]
    },
    {
     "name": "stdout",
     "output_type": "stream",
     "text": [
      "'Panama'"
     ]
    },
    {
     "name": "stdout",
     "output_type": "stream",
     "text": [
      ", "
     ]
    },
    {
     "name": "stdout",
     "output_type": "stream",
     "text": [
      "'Papua New Guinea'"
     ]
    },
    {
     "name": "stdout",
     "output_type": "stream",
     "text": [
      ", "
     ]
    },
    {
     "name": "stdout",
     "output_type": "stream",
     "text": [
      "'Paraguay'"
     ]
    },
    {
     "name": "stdout",
     "output_type": "stream",
     "text": [
      ",\n",
      " "
     ]
    },
    {
     "name": "stdout",
     "output_type": "stream",
     "text": [
      "'Peru'"
     ]
    },
    {
     "name": "stdout",
     "output_type": "stream",
     "text": [
      ", "
     ]
    },
    {
     "name": "stdout",
     "output_type": "stream",
     "text": [
      "'Philippines'"
     ]
    },
    {
     "name": "stdout",
     "output_type": "stream",
     "text": [
      ", "
     ]
    },
    {
     "name": "stdout",
     "output_type": "stream",
     "text": [
      "'Poland'"
     ]
    },
    {
     "name": "stdout",
     "output_type": "stream",
     "text": [
      ", "
     ]
    },
    {
     "name": "stdout",
     "output_type": "stream",
     "text": [
      "'Portugal'"
     ]
    },
    {
     "name": "stdout",
     "output_type": "stream",
     "text": [
      ", "
     ]
    },
    {
     "name": "stdout",
     "output_type": "stream",
     "text": [
      "'Qatar'"
     ]
    },
    {
     "name": "stdout",
     "output_type": "stream",
     "text": [
      ", "
     ]
    },
    {
     "name": "stdout",
     "output_type": "stream",
     "text": [
      "'Romania'"
     ]
    },
    {
     "name": "stdout",
     "output_type": "stream",
     "text": [
      ", "
     ]
    },
    {
     "name": "stdout",
     "output_type": "stream",
     "text": [
      "'Russia'"
     ]
    },
    {
     "name": "stdout",
     "output_type": "stream",
     "text": [
      ",\n",
      " "
     ]
    },
    {
     "name": "stdout",
     "output_type": "stream",
     "text": [
      "'Rwanda'"
     ]
    },
    {
     "name": "stdout",
     "output_type": "stream",
     "text": [
      ", "
     ]
    },
    {
     "name": "stdout",
     "output_type": "stream",
     "text": [
      "'Saint Kitts and Nevis'"
     ]
    },
    {
     "name": "stdout",
     "output_type": "stream",
     "text": [
      ", "
     ]
    },
    {
     "name": "stdout",
     "output_type": "stream",
     "text": [
      "'Saint Lucia'"
     ]
    },
    {
     "name": "stdout",
     "output_type": "stream",
     "text": [
      ",\n",
      " "
     ]
    },
    {
     "name": "stdout",
     "output_type": "stream",
     "text": [
      "'Saint Vincent and the Grenadines'"
     ]
    },
    {
     "name": "stdout",
     "output_type": "stream",
     "text": [
      ", "
     ]
    },
    {
     "name": "stdout",
     "output_type": "stream",
     "text": [
      "'San Marino'"
     ]
    },
    {
     "name": "stdout",
     "output_type": "stream",
     "text": [
      ", "
     ]
    },
    {
     "name": "stdout",
     "output_type": "stream",
     "text": [
      "'Sao Tome and Principe'"
     ]
    },
    {
     "name": "stdout",
     "output_type": "stream",
     "text": [
      ",\n",
      " "
     ]
    },
    {
     "name": "stdout",
     "output_type": "stream",
     "text": [
      "'Saudi Arabia'"
     ]
    },
    {
     "name": "stdout",
     "output_type": "stream",
     "text": [
      ", "
     ]
    },
    {
     "name": "stdout",
     "output_type": "stream",
     "text": [
      "'Senegal'"
     ]
    },
    {
     "name": "stdout",
     "output_type": "stream",
     "text": [
      ", "
     ]
    },
    {
     "name": "stdout",
     "output_type": "stream",
     "text": [
      "'Serbia'"
     ]
    },
    {
     "name": "stdout",
     "output_type": "stream",
     "text": [
      ", "
     ]
    },
    {
     "name": "stdout",
     "output_type": "stream",
     "text": [
      "'Seychelles'"
     ]
    },
    {
     "name": "stdout",
     "output_type": "stream",
     "text": [
      ", "
     ]
    },
    {
     "name": "stdout",
     "output_type": "stream",
     "text": [
      "'Sierra Leone'"
     ]
    },
    {
     "name": "stdout",
     "output_type": "stream",
     "text": [
      ", "
     ]
    },
    {
     "name": "stdout",
     "output_type": "stream",
     "text": [
      "'Singapore'"
     ]
    },
    {
     "name": "stdout",
     "output_type": "stream",
     "text": [
      ",\n",
      " "
     ]
    },
    {
     "name": "stdout",
     "output_type": "stream",
     "text": [
      "'Slovakia'"
     ]
    },
    {
     "name": "stdout",
     "output_type": "stream",
     "text": [
      ", "
     ]
    },
    {
     "name": "stdout",
     "output_type": "stream",
     "text": [
      "'Slovenia'"
     ]
    },
    {
     "name": "stdout",
     "output_type": "stream",
     "text": [
      ", "
     ]
    },
    {
     "name": "stdout",
     "output_type": "stream",
     "text": [
      "'Somalia'"
     ]
    },
    {
     "name": "stdout",
     "output_type": "stream",
     "text": [
      ", "
     ]
    },
    {
     "name": "stdout",
     "output_type": "stream",
     "text": [
      "'South Africa'"
     ]
    },
    {
     "name": "stdout",
     "output_type": "stream",
     "text": [
      ", "
     ]
    },
    {
     "name": "stdout",
     "output_type": "stream",
     "text": [
      "'South Sudan'"
     ]
    },
    {
     "name": "stdout",
     "output_type": "stream",
     "text": [
      ", "
     ]
    },
    {
     "name": "stdout",
     "output_type": "stream",
     "text": [
      "'Spain'"
     ]
    },
    {
     "name": "stdout",
     "output_type": "stream",
     "text": [
      ",\n",
      " "
     ]
    },
    {
     "name": "stdout",
     "output_type": "stream",
     "text": [
      "'Sri Lanka'"
     ]
    },
    {
     "name": "stdout",
     "output_type": "stream",
     "text": [
      ", "
     ]
    },
    {
     "name": "stdout",
     "output_type": "stream",
     "text": [
      "'Sudan'"
     ]
    },
    {
     "name": "stdout",
     "output_type": "stream",
     "text": [
      ", "
     ]
    },
    {
     "name": "stdout",
     "output_type": "stream",
     "text": [
      "'Suriname'"
     ]
    },
    {
     "name": "stdout",
     "output_type": "stream",
     "text": [
      ", "
     ]
    },
    {
     "name": "stdout",
     "output_type": "stream",
     "text": [
      "'Swaziland'"
     ]
    },
    {
     "name": "stdout",
     "output_type": "stream",
     "text": [
      ", "
     ]
    },
    {
     "name": "stdout",
     "output_type": "stream",
     "text": [
      "'Switzerland'"
     ]
    },
    {
     "name": "stdout",
     "output_type": "stream",
     "text": [
      ", "
     ]
    },
    {
     "name": "stdout",
     "output_type": "stream",
     "text": [
      "'Syria'"
     ]
    },
    {
     "name": "stdout",
     "output_type": "stream",
     "text": [
      ",\n",
      " "
     ]
    },
    {
     "name": "stdout",
     "output_type": "stream",
     "text": [
      "'Taiwan'"
     ]
    },
    {
     "name": "stdout",
     "output_type": "stream",
     "text": [
      ", "
     ]
    },
    {
     "name": "stdout",
     "output_type": "stream",
     "text": [
      "'Tajikistan'"
     ]
    },
    {
     "name": "stdout",
     "output_type": "stream",
     "text": [
      ", "
     ]
    },
    {
     "name": "stdout",
     "output_type": "stream",
     "text": [
      "'Tanzania'"
     ]
    },
    {
     "name": "stdout",
     "output_type": "stream",
     "text": [
      ", "
     ]
    },
    {
     "name": "stdout",
     "output_type": "stream",
     "text": [
      "'Thailand'"
     ]
    },
    {
     "name": "stdout",
     "output_type": "stream",
     "text": [
      ", "
     ]
    },
    {
     "name": "stdout",
     "output_type": "stream",
     "text": [
      "'Timor-Leste'"
     ]
    },
    {
     "name": "stdout",
     "output_type": "stream",
     "text": [
      ", "
     ]
    },
    {
     "name": "stdout",
     "output_type": "stream",
     "text": [
      "'Togo'"
     ]
    },
    {
     "name": "stdout",
     "output_type": "stream",
     "text": [
      ",\n",
      " "
     ]
    },
    {
     "name": "stdout",
     "output_type": "stream",
     "text": [
      "'Trinidad and Tobago'"
     ]
    },
    {
     "name": "stdout",
     "output_type": "stream",
     "text": [
      ", "
     ]
    },
    {
     "name": "stdout",
     "output_type": "stream",
     "text": [
      "'Tunisia'"
     ]
    },
    {
     "name": "stdout",
     "output_type": "stream",
     "text": [
      ", "
     ]
    },
    {
     "name": "stdout",
     "output_type": "stream",
     "text": [
      "'Turkey'"
     ]
    },
    {
     "name": "stdout",
     "output_type": "stream",
     "text": [
      ", "
     ]
    },
    {
     "name": "stdout",
     "output_type": "stream",
     "text": [
      "'UK'"
     ]
    },
    {
     "name": "stdout",
     "output_type": "stream",
     "text": [
      ", "
     ]
    },
    {
     "name": "stdout",
     "output_type": "stream",
     "text": [
      "'Uganda'"
     ]
    },
    {
     "name": "stdout",
     "output_type": "stream",
     "text": [
      ", "
     ]
    },
    {
     "name": "stdout",
     "output_type": "stream",
     "text": [
      "'Ukraine'"
     ]
    },
    {
     "name": "stdout",
     "output_type": "stream",
     "text": [
      ",\n",
      " "
     ]
    },
    {
     "name": "stdout",
     "output_type": "stream",
     "text": [
      "'United Arab Emirates'"
     ]
    },
    {
     "name": "stdout",
     "output_type": "stream",
     "text": [
      ", "
     ]
    },
    {
     "name": "stdout",
     "output_type": "stream",
     "text": [
      "'United States'"
     ]
    },
    {
     "name": "stdout",
     "output_type": "stream",
     "text": [
      ", "
     ]
    },
    {
     "name": "stdout",
     "output_type": "stream",
     "text": [
      "'Uruguay'"
     ]
    },
    {
     "name": "stdout",
     "output_type": "stream",
     "text": [
      ", "
     ]
    },
    {
     "name": "stdout",
     "output_type": "stream",
     "text": [
      "'Uzbekistan'"
     ]
    },
    {
     "name": "stdout",
     "output_type": "stream",
     "text": [
      ", "
     ]
    },
    {
     "name": "stdout",
     "output_type": "stream",
     "text": [
      "'Venezuela'"
     ]
    },
    {
     "name": "stdout",
     "output_type": "stream",
     "text": [
      ",\n",
      " "
     ]
    },
    {
     "name": "stdout",
     "output_type": "stream",
     "text": [
      "'Vietnam'"
     ]
    },
    {
     "name": "stdout",
     "output_type": "stream",
     "text": [
      ", "
     ]
    },
    {
     "name": "stdout",
     "output_type": "stream",
     "text": [
      "'Western Sahara'"
     ]
    },
    {
     "name": "stdout",
     "output_type": "stream",
     "text": [
      ", "
     ]
    },
    {
     "name": "stdout",
     "output_type": "stream",
     "text": [
      "'Yemen'"
     ]
    },
    {
     "name": "stdout",
     "output_type": "stream",
     "text": [
      ", "
     ]
    },
    {
     "name": "stdout",
     "output_type": "stream",
     "text": [
      "'Zambia'"
     ]
    },
    {
     "name": "stdout",
     "output_type": "stream",
     "text": [
      ", "
     ]
    },
    {
     "name": "stdout",
     "output_type": "stream",
     "text": [
      "'Zimbabwe'"
     ]
    },
    {
     "name": "stdout",
     "output_type": "stream",
     "text": [
      "}"
     ]
    },
    {
     "name": "stdout",
     "output_type": "stream",
     "text": [
      "\n"
     ]
    }
   ],
   "source": [
    "pprint(set(jhu_data.countries()) & set(population_data.countries()), compact=True)"
   ]
  },
  {
   "cell_type": "markdown",
   "metadata": {},
   "source": [
    "## Start scenario analysis\n",
    "As an example, we will analysis the number of cases in Italy."
   ]
  },
  {
   "cell_type": "code",
   "execution_count": 7,
   "metadata": {
    "collapsed": false
   },
   "outputs": [],
   "source": [
    "scenario = cs.Scenario(jhu_data, population_data, country=\"Italy\")"
   ]
  },
  {
   "cell_type": "markdown",
   "metadata": {},
   "source": [
    "## Check records"
   ]
  },
  {
   "cell_type": "code",
   "execution_count": 8,
   "metadata": {
    "collapsed": false
   },
   "outputs": [
    {
     "data": {
      "image/png": "[encoded data removed]",
      "text/plain": [
       "<Figure size 648x432 with 1 Axes>"
      ]
     },
     "metadata": {},
     "output_type": "display_data"
    }
   ],
   "source": [
    "_ = scenario.records()"
   ]
  },
  {
   "cell_type": "markdown",
   "metadata": {},
   "source": [
    "## S-R trend analysis\n",
    "S-R trend analysis finds the change points of SIR-derived ODE parameters."
   ]
  },
  {
   "cell_type": "code",
   "execution_count": 9,
   "metadata": {
    "collapsed": false
   },
   "outputs": [
    {
     "data": {
      "image/png": "[encoded data removed]",
      "text/plain": [
       "<Figure size 648x432 with 1 Axes>"
      ]
     },
     "metadata": {},
     "output_type": "display_data"
    },
    {
     "data": {
      "text/plain": [
       "<covsirphy.analysis.scenario.Scenario at 0x7f740700fac0>"
      ]
     },
     "execution_count": 9,
     "metadata": {},
     "output_type": "execute_result"
    }
   ],
   "source": [
    "scenario.trend()"
   ]
  },
  {
   "cell_type": "code",
   "execution_count": 10,
   "metadata": {
    "collapsed": false
   },
   "outputs": [
    {
     "data": {
      "text/html": [
       "<div>\n",
       "<style scoped>\n",
       "    .dataframe tbody tr th:only-of-type {\n",
       "        vertical-align: middle;\n",
       "    }\n",
       "\n",
       "    .dataframe tbody tr th {\n",
       "        vertical-align: top;\n",
       "    }\n",
       "\n",
       "    .dataframe thead th {\n",
       "        text-align: right;\n",
       "    }\n",
       "</style>\n",
       "<table border=\"1\" class=\"dataframe\">\n",
       "  <thead>\n",
       "    <tr style=\"text-align: right;\">\n",
       "      <th></th>\n",
       "      <th>Type</th>\n",
       "      <th>Start</th>\n",
       "      <th>End</th>\n",
       "      <th>Population</th>\n",
       "    </tr>\n",
       "  </thead>\n",
       "  <tbody>\n",
       "    <tr>\n",
       "      <th>0th</th>\n",
       "      <td>Past</td>\n",
       "      <td>24Feb2020</td>\n",
       "      <td>20Mar2020</td>\n",
       "      <td>60483973</td>\n",
       "    </tr>\n",
       "    <tr>\n",
       "      <th>1st</th>\n",
       "      <td>Past</td>\n",
       "      <td>21Mar2020</td>\n",
       "      <td>28Mar2020</td>\n",
       "      <td>60483973</td>\n",
       "    </tr>\n",
       "    <tr>\n",
       "      <th>2nd</th>\n",
       "      <td>Past</td>\n",
       "      <td>29Mar2020</td>\n",
       "      <td>08Apr2020</td>\n",
       "      <td>60483973</td>\n",
       "    </tr>\n",
       "    <tr>\n",
       "      <th>3rd</th>\n",
       "      <td>Past</td>\n",
       "      <td>09Apr2020</td>\n",
       "      <td>18Apr2020</td>\n",
       "      <td>60483973</td>\n",
       "    </tr>\n",
       "    <tr>\n",
       "      <th>4th</th>\n",
       "      <td>Past</td>\n",
       "      <td>19Apr2020</td>\n",
       "      <td>01May2020</td>\n",
       "      <td>60483973</td>\n",
       "    </tr>\n",
       "    <tr>\n",
       "      <th>5th</th>\n",
       "      <td>Past</td>\n",
       "      <td>02May2020</td>\n",
       "      <td>10May2020</td>\n",
       "      <td>60483973</td>\n",
       "    </tr>\n",
       "    <tr>\n",
       "      <th>6th</th>\n",
       "      <td>Past</td>\n",
       "      <td>11May2020</td>\n",
       "      <td>21May2020</td>\n",
       "      <td>60483973</td>\n",
       "    </tr>\n",
       "    <tr>\n",
       "      <th>7th</th>\n",
       "      <td>Past</td>\n",
       "      <td>22May2020</td>\n",
       "      <td>13Jun2020</td>\n",
       "      <td>60483973</td>\n",
       "    </tr>\n",
       "    <tr>\n",
       "      <th>8th</th>\n",
       "      <td>Past</td>\n",
       "      <td>14Jun2020</td>\n",
       "      <td>31Jul2020</td>\n",
       "      <td>60483973</td>\n",
       "    </tr>\n",
       "    <tr>\n",
       "      <th>9th</th>\n",
       "      <td>Past</td>\n",
       "      <td>01Aug2020</td>\n",
       "      <td>29Aug2020</td>\n",
       "      <td>60483973</td>\n",
       "    </tr>\n",
       "    <tr>\n",
       "      <th>10th</th>\n",
       "      <td>Past</td>\n",
       "      <td>30Aug2020</td>\n",
       "      <td>19Sep2020</td>\n",
       "      <td>60483973</td>\n",
       "    </tr>\n",
       "  </tbody>\n",
       "</table>\n",
       "</div>"
      ],
      "text/plain": [
       "      Type      Start        End  Population\n",
       "0th   Past  24Feb2020  20Mar2020    60483973\n",
       "1st   Past  21Mar2020  28Mar2020    60483973\n",
       "2nd   Past  29Mar2020  08Apr2020    60483973\n",
       "3rd   Past  09Apr2020  18Apr2020    60483973\n",
       "4th   Past  19Apr2020  01May2020    60483973\n",
       "5th   Past  02May2020  10May2020    60483973\n",
       "6th   Past  11May2020  21May2020    60483973\n",
       "7th   Past  22May2020  13Jun2020    60483973\n",
       "8th   Past  14Jun2020  31Jul2020    60483973\n",
       "9th   Past  01Aug2020  29Aug2020    60483973\n",
       "10th  Past  30Aug2020  19Sep2020    60483973"
      ]
     },
     "execution_count": 10,
     "metadata": {},
     "output_type": "execute_result"
    }
   ],
   "source": [
    "scenario.summary()"
   ]
  },
  {
   "cell_type": "markdown",
   "metadata": {},
   "source": [
    "## Hyperparameter estimation of ODE models\n",
    "As an example, use SIR-F model."
   ]
  },
  {
   "cell_type": "code",
   "execution_count": 11,
   "metadata": {
    "collapsed": false,
    "tags": []
   },
   "outputs": [
    {
     "name": "stdout",
     "output_type": "stream",
     "text": [
      "\n",
      "<SIR-F model: parameter estimation>"
     ]
    },
    {
     "name": "stdout",
     "output_type": "stream",
     "text": [
      "\n"
     ]
    },
    {
     "name": "stdout",
     "output_type": "stream",
     "text": [
      "Running optimization with 4 CPUs..."
     ]
    },
    {
     "name": "stdout",
     "output_type": "stream",
     "text": [
      "\n"
     ]
    },
    {
     "name": "stdout",
     "output_type": "stream",
     "text": [
      "\t10th phase (30Aug2020 - 19Sep2020): finished 1467 trials in 1 min  0 sec"
     ]
    },
    {
     "name": "stdout",
     "output_type": "stream",
     "text": [
      "\n"
     ]
    },
    {
     "name": "stdout",
     "output_type": "stream",
     "text": [
      "\t3rd phase (09Apr2020 - 18Apr2020): finished  480 trials in 0 min 10 sec"
     ]
    },
    {
     "name": "stdout",
     "output_type": "stream",
     "text": [
      "\n"
     ]
    },
    {
     "name": "stdout",
     "output_type": "stream",
     "text": [
      "\t4th phase (19Apr2020 - 01May2020): finished  468 trials in 0 min 10 sec"
     ]
    },
    {
     "name": "stdout",
     "output_type": "stream",
     "text": [
      "\n"
     ]
    },
    {
     "name": "stdout",
     "output_type": "stream",
     "text": [
      "\t5th phase (02May2020 - 10May2020): finished  670 trials in 0 min 15 sec"
     ]
    },
    {
     "name": "stdout",
     "output_type": "stream",
     "text": [
      "\n"
     ]
    },
    {
     "name": "stdout",
     "output_type": "stream",
     "text": [
      "\t6th phase (11May2020 - 21May2020): finished  250 trials in 0 min  5 sec"
     ]
    },
    {
     "name": "stdout",
     "output_type": "stream",
     "text": [
      "\n"
     ]
    },
    {
     "name": "stdout",
     "output_type": "stream",
     "text": [
      "\t7th phase (22May2020 - 13Jun2020): finished  204 trials in 0 min  5 sec"
     ]
    },
    {
     "name": "stdout",
     "output_type": "stream",
     "text": [
      "\n"
     ]
    },
    {
     "name": "stdout",
     "output_type": "stream",
     "text": [
      "\t1st phase (21Mar2020 - 28Mar2020): finished 1954 trials in 1 min  0 sec"
     ]
    },
    {
     "name": "stdout",
     "output_type": "stream",
     "text": [
      "\n"
     ]
    },
    {
     "name": "stdout",
     "output_type": "stream",
     "text": [
      "\t2nd phase (29Mar2020 - 08Apr2020): finished 1952 trials in 1 min  0 sec"
     ]
    },
    {
     "name": "stdout",
     "output_type": "stream",
     "text": [
      "\n"
     ]
    },
    {
     "name": "stdout",
     "output_type": "stream",
     "text": [
      "\t0th phase (24Feb2020 - 20Mar2020): finished 1932 trials in 1 min  0 sec"
     ]
    },
    {
     "name": "stdout",
     "output_type": "stream",
     "text": [
      "\n"
     ]
    },
    {
     "name": "stdout",
     "output_type": "stream",
     "text": [
      "\t8th phase (14Jun2020 - 31Jul2020): finished  622 trials in 0 min 15 sec"
     ]
    },
    {
     "name": "stdout",
     "output_type": "stream",
     "text": [
      "\n"
     ]
    },
    {
     "name": "stdout",
     "output_type": "stream",
     "text": [
      "\t9th phase (01Aug2020 - 29Aug2020): finished 2142 trials in 1 min  0 sec"
     ]
    },
    {
     "name": "stdout",
     "output_type": "stream",
     "text": [
      "\n"
     ]
    },
    {
     "name": "stdout",
     "output_type": "stream",
     "text": [
      "Completed optimization. Total: 3 min  1 sec"
     ]
    },
    {
     "name": "stdout",
     "output_type": "stream",
     "text": [
      "\n"
     ]
    }
   ],
   "source": [
    "scenario.estimate(cs.SIRF)"
   ]
  },
  {
   "cell_type": "markdown",
   "metadata": {},
   "source": [
    "## Show the history of reproduction number"
   ]
  },
  {
   "cell_type": "code",
   "execution_count": 12,
   "metadata": {
    "collapsed": false
   },
   "outputs": [
    {
     "data": {
      "image/png": "[encoded data removed]",
      "text/plain": [
       "<Figure size 648x432 with 1 Axes>"
      ]
     },
     "metadata": {},
     "output_type": "display_data"
    }
   ],
   "source": [
    "_ = scenario.param_history(targets=[\"Rt\"], divide_by_first=False)"
   ]
  },
  {
   "cell_type": "code",
   "execution_count": 13,
   "metadata": {
    "collapsed": false
   },
   "outputs": [
    {
     "data": {
      "image/png": "[encoded data removed]",
      "text/plain": [
       "<Figure size 648x432 with 1 Axes>"
      ]
     },
     "metadata": {},
     "output_type": "display_data"
    }
   ],
   "source": [
    "# version >= 2.8.0\n",
    "_ = scenario.history(target=\"Rt\")"
   ]
  },
  {
   "cell_type": "markdown",
   "metadata": {},
   "source": [
    "## Simulate the number of cases"
   ]
  },
  {
   "cell_type": "code",
   "execution_count": 14,
   "metadata": {
    "collapsed": false
   },
   "outputs": [
    {
     "data": {
      "image/png": "[encoded data removed]",
      "text/plain": [
       "<Figure size 648x432 with 1 Axes>"
      ]
     },
     "metadata": {},
     "output_type": "display_data"
    }
   ],
   "source": [
    "scenario.add(end_date=\"01Jan2021\")\n",
    "_ = scenario.simulate()"
   ]
  }
 ],
 "metadata": {
  "kernelspec": {
   "display_name": "Python 3.8.2 64-bit ('covid19-sir': pipenv)",
   "name": "python_defaultSpec_1596263359952"
  },
  "language_info": {
   "codemirror_mode": {
    "name": "ipython",
    "version": 3
   },
   "file_extension": ".py",
   "mimetype": "text/x-python",
   "name": "python",
   "nbconvert_exporter": "python",
   "pygments_lexer": "ipython3",
   "version": 3
  }
 },
 "nbformat": 4,
 "nbformat_minor": 4
}
