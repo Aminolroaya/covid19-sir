{
 "cells": [
  {
   "cell_type": "markdown",
   "metadata": {},
   "source": [
    "# Usage (details: phases)\n",
    "Here, how to set phases in scenario analysis will be explained. As an example, use the records in India."
   ]
  },
  {
   "cell_type": "markdown",
   "metadata": {},
   "source": [
    "## Preperation"
   ]
  },
  {
   "cell_type": "code",
   "execution_count": 1,
   "metadata": {
    "collapsed": false
   },
   "outputs": [],
   "source": [
    "# Standard users\n",
    "# !pip install covsirphy"
   ]
  },
  {
   "cell_type": "code",
   "execution_count": 2,
   "metadata": {
    "collapsed": false
   },
   "outputs": [],
   "source": [
    "# Developers (Note: this notebook is in example directory)\n",
    "import os\n",
    "os.chdir(\"../\")"
   ]
  },
  {
   "cell_type": "code",
   "execution_count": 3,
   "metadata": {
    "collapsed": false,
    "tags": []
   },
   "outputs": [
    {
     "data": {
      "text/plain": [
       "'2.10.0-alpha.refactor.291'"
      ]
     },
     "execution_count": 3,
     "metadata": {},
     "output_type": "execute_result"
    }
   ],
   "source": [
    "import covsirphy as cs\n",
    "cs.__version__"
   ]
  },
  {
   "cell_type": "code",
   "execution_count": 4,
   "metadata": {
    "collapsed": false,
    "tags": []
   },
   "outputs": [
    {
     "name": "stdout",
     "output_type": "stream",
     "text": [
      "(Secondary source) Guidotti, E., Ardia, D., (2020), \"COVID-19 Data Hub\", Journal of Open Source Software 5(51):2376, doi: 10.21105/joss.02376.\n"
     ]
    }
   ],
   "source": [
    "# Load datasets\n",
    "data_loader = cs.DataLoader(\"input\")\n",
    "jhu_data = data_loader.jhu(verbose=False)\n",
    "population_data = data_loader.population(verbose=False)\n",
    "print(jhu_data.citation)"
   ]
  },
  {
   "cell_type": "code",
   "execution_count": 5,
   "metadata": {
    "collapsed": false
   },
   "outputs": [],
   "source": [
    "# Create instance of `Scenario` class\n",
    "snl = cs.Scenario(jhu_data, population_data, country=\"India\", province=None)"
   ]
  },
  {
   "cell_type": "code",
   "execution_count": 6,
   "metadata": {
    "collapsed": false,
    "tags": []
   },
   "outputs": [
    {
     "data": {
      "text/html": [
       "<div>\n",
       "<style scoped>\n",
       "    .dataframe tbody tr th:only-of-type {\n",
       "        vertical-align: middle;\n",
       "    }\n",
       "\n",
       "    .dataframe tbody tr th {\n",
       "        vertical-align: top;\n",
       "    }\n",
       "\n",
       "    .dataframe thead th {\n",
       "        text-align: right;\n",
       "    }\n",
       "</style>\n",
       "<table border=\"1\" class=\"dataframe\">\n",
       "  <thead>\n",
       "    <tr style=\"text-align: right;\">\n",
       "      <th></th>\n",
       "    </tr>\n",
       "  </thead>\n",
       "  <tbody>\n",
       "  </tbody>\n",
       "</table>\n",
       "</div>"
      ],
      "text/plain": [
       "Empty DataFrame\n",
       "Columns: []\n",
       "Index: []"
      ]
     },
     "execution_count": 6,
     "metadata": {},
     "output_type": "execute_result"
    }
   ],
   "source": [
    "# Summarize main scenario\n",
    "snl.summary()"
   ]
  },
  {
   "cell_type": "markdown",
   "metadata": {},
   "source": [
    "Note:  \n",
    "This is empty because no phases are registered. Term \"phase\" means a sequential dates in which the parameters of SIR-derived models are fixed. The details will be explained later."
   ]
  },
  {
   "cell_type": "markdown",
   "metadata": {},
   "source": [
    "Just for demonstration, we will fix the first/end date of the records here. This is un-necessary for your analysis."
   ]
  },
  {
   "cell_type": "code",
   "execution_count": 7,
   "metadata": {
    "collapsed": false,
    "tags": []
   },
   "outputs": [
    {
     "data": {
      "text/html": [
       "<div>\n",
       "<style scoped>\n",
       "    .dataframe tbody tr th:only-of-type {\n",
       "        vertical-align: middle;\n",
       "    }\n",
       "\n",
       "    .dataframe tbody tr th {\n",
       "        vertical-align: top;\n",
       "    }\n",
       "\n",
       "    .dataframe thead th {\n",
       "        text-align: right;\n",
       "    }\n",
       "</style>\n",
       "<table border=\"1\" class=\"dataframe\">\n",
       "  <thead>\n",
       "    <tr style=\"text-align: right;\">\n",
       "      <th></th>\n",
       "    </tr>\n",
       "  </thead>\n",
       "  <tbody>\n",
       "  </tbody>\n",
       "</table>\n",
       "</div>"
      ],
      "text/plain": [
       "Empty DataFrame\n",
       "Columns: []\n",
       "Index: []"
      ]
     },
     "execution_count": 7,
     "metadata": {},
     "output_type": "execute_result"
    }
   ],
   "source": [
    "# Fix the first date of records\n",
    "snl.first_date = \"01Mar2020\"\n",
    "# Fix the last date of records\n",
    "snl.last_date = \"16Jul2020\"\n",
    "# Summarize (Empty because no phases are registered)\n",
    "snl.summary()"
   ]
  },
  {
   "cell_type": "markdown",
   "metadata": {},
   "source": [
    "## Set phases with S-R trend analysis\n",
    "How can we set phases?\n",
    "\n",
    "Here, we will use \"S-R trend analysis\" explained in [S-R trend analysis section in \"Kaggle: COVID-19 data with SIR model\"](https://www.kaggle.com/lisphilar/covid-19-data-with-sir-model#S-R-trend-analysis). $S$ (Susceptible) and $R$ (Recovered) show the following relationship in SIR-derived models. $S_{(R)}$ means $S$ as a function of $R$.\n",
    "\n",
    "$$S_{(R)} = N e^{-a R}$$\n",
    "\n",
    "where $N$ is total population and $a=\\cfrac{\\beta}{N \\gamma}$ is a constant.  \n",
    "This leads to\n",
    "$$\\log S_{(R)} = - a R + \\log N$$"
   ]
  },
  {
   "cell_type": "markdown",
   "metadata": {},
   "source": [
    "$\\log S$ decreases constantly with increase of $R$, when the records follow a SIR-derived model and the parameter values of the model are constant. With logarithmic y-axis scale, plot of $(x, y) = (R, S)$ shows a line. "
   ]
  },
  {
   "cell_type": "markdown",
   "metadata": {},
   "source": [
    "The slope of the line may change when the parameter values ($\\beta$ and $\\gamma$) are changed. To detect the dates when the parameter values were changed, we will find the change points of $\\log S$ as a function of $R$, using [ruptures: change point detection in Python](https://github.com/deepcharles/ruptures). We call the period from a change point to the next change point as a \"phase\" in this analysis."
   ]
  },
  {
   "cell_type": "code",
   "execution_count": 8,
   "metadata": {
    "collapsed": false,
    "tags": []
   },
   "outputs": [
    {
     "data": {
      "image/png": "[encoded data removed]",
      "text/plain": [
       "<Figure size 648x432 with 1 Axes>"
      ]
     },
     "metadata": {},
     "output_type": "display_data"
    },
    {
     "data": {
      "text/html": [
       "<div>\n",
       "<style scoped>\n",
       "    .dataframe tbody tr th:only-of-type {\n",
       "        vertical-align: middle;\n",
       "    }\n",
       "\n",
       "    .dataframe tbody tr th {\n",
       "        vertical-align: top;\n",
       "    }\n",
       "\n",
       "    .dataframe thead th {\n",
       "        text-align: right;\n",
       "    }\n",
       "</style>\n",
       "<table border=\"1\" class=\"dataframe\">\n",
       "  <thead>\n",
       "    <tr style=\"text-align: right;\">\n",
       "      <th></th>\n",
       "      <th>Type</th>\n",
       "      <th>Start</th>\n",
       "      <th>End</th>\n",
       "      <th>Population</th>\n",
       "    </tr>\n",
       "  </thead>\n",
       "  <tbody>\n",
       "    <tr>\n",
       "      <th>0th</th>\n",
       "      <td>Past</td>\n",
       "      <td>01Mar2020</td>\n",
       "      <td>19May2020</td>\n",
       "      <td>1352617328</td>\n",
       "    </tr>\n",
       "    <tr>\n",
       "      <th>1st</th>\n",
       "      <td>Past</td>\n",
       "      <td>20May2020</td>\n",
       "      <td>02Jun2020</td>\n",
       "      <td>1352617328</td>\n",
       "    </tr>\n",
       "    <tr>\n",
       "      <th>2nd</th>\n",
       "      <td>Past</td>\n",
       "      <td>03Jun2020</td>\n",
       "      <td>11Jun2020</td>\n",
       "      <td>1352617328</td>\n",
       "    </tr>\n",
       "    <tr>\n",
       "      <th>3rd</th>\n",
       "      <td>Past</td>\n",
       "      <td>12Jun2020</td>\n",
       "      <td>19Jun2020</td>\n",
       "      <td>1352617328</td>\n",
       "    </tr>\n",
       "    <tr>\n",
       "      <th>4th</th>\n",
       "      <td>Past</td>\n",
       "      <td>20Jun2020</td>\n",
       "      <td>25Jun2020</td>\n",
       "      <td>1352617328</td>\n",
       "    </tr>\n",
       "    <tr>\n",
       "      <th>5th</th>\n",
       "      <td>Past</td>\n",
       "      <td>26Jun2020</td>\n",
       "      <td>04Jul2020</td>\n",
       "      <td>1352617328</td>\n",
       "    </tr>\n",
       "    <tr>\n",
       "      <th>6th</th>\n",
       "      <td>Past</td>\n",
       "      <td>05Jul2020</td>\n",
       "      <td>16Jul2020</td>\n",
       "      <td>1352617328</td>\n",
       "    </tr>\n",
       "  </tbody>\n",
       "</table>\n",
       "</div>"
      ],
      "text/plain": [
       "     Type      Start        End  Population\n",
       "0th  Past  01Mar2020  19May2020  1352617328\n",
       "1st  Past  20May2020  02Jun2020  1352617328\n",
       "2nd  Past  03Jun2020  11Jun2020  1352617328\n",
       "3rd  Past  12Jun2020  19Jun2020  1352617328\n",
       "4th  Past  20Jun2020  25Jun2020  1352617328\n",
       "5th  Past  26Jun2020  04Jul2020  1352617328\n",
       "6th  Past  05Jul2020  16Jul2020  1352617328"
      ]
     },
     "execution_count": 8,
     "metadata": {},
     "output_type": "execute_result"
    }
   ],
   "source": [
    "# Set phase with S-R trend analysis\n",
    "snl.trend(set_phases=True)\n",
    "snl.summary()\n",
    "# If necessary, initial (0th) phase can be disabled\n",
    "# scenario.disable(phases=[\"0th\"])"
   ]
  },
  {
   "cell_type": "markdown",
   "metadata": {},
   "source": [
    "## (Optional) Remove un-necessary change points manually\n",
    "The slope of 4th phase seems to equal to that of 3rd phase. Here, we will combine 3rd phase and 4th phase here and reset phase names."
   ]
  },
  {
   "cell_type": "code",
   "execution_count": 9,
   "metadata": {
    "collapsed": false,
    "tags": []
   },
   "outputs": [
    {
     "data": {
      "text/html": [
       "<div>\n",
       "<style scoped>\n",
       "    .dataframe tbody tr th:only-of-type {\n",
       "        vertical-align: middle;\n",
       "    }\n",
       "\n",
       "    .dataframe tbody tr th {\n",
       "        vertical-align: top;\n",
       "    }\n",
       "\n",
       "    .dataframe thead th {\n",
       "        text-align: right;\n",
       "    }\n",
       "</style>\n",
       "<table border=\"1\" class=\"dataframe\">\n",
       "  <thead>\n",
       "    <tr style=\"text-align: right;\">\n",
       "      <th></th>\n",
       "      <th>Type</th>\n",
       "      <th>Start</th>\n",
       "      <th>End</th>\n",
       "      <th>Population</th>\n",
       "    </tr>\n",
       "  </thead>\n",
       "  <tbody>\n",
       "    <tr>\n",
       "      <th>0th</th>\n",
       "      <td>Past</td>\n",
       "      <td>01Mar2020</td>\n",
       "      <td>19May2020</td>\n",
       "      <td>1352617328</td>\n",
       "    </tr>\n",
       "    <tr>\n",
       "      <th>1st</th>\n",
       "      <td>Past</td>\n",
       "      <td>20May2020</td>\n",
       "      <td>02Jun2020</td>\n",
       "      <td>1352617328</td>\n",
       "    </tr>\n",
       "    <tr>\n",
       "      <th>2nd</th>\n",
       "      <td>Past</td>\n",
       "      <td>03Jun2020</td>\n",
       "      <td>11Jun2020</td>\n",
       "      <td>1352617328</td>\n",
       "    </tr>\n",
       "    <tr>\n",
       "      <th>3rd</th>\n",
       "      <td>Past</td>\n",
       "      <td>12Jun2020</td>\n",
       "      <td>25Jun2020</td>\n",
       "      <td>1352617328</td>\n",
       "    </tr>\n",
       "    <tr>\n",
       "      <th>4th</th>\n",
       "      <td>Past</td>\n",
       "      <td>26Jun2020</td>\n",
       "      <td>04Jul2020</td>\n",
       "      <td>1352617328</td>\n",
       "    </tr>\n",
       "    <tr>\n",
       "      <th>5th</th>\n",
       "      <td>Past</td>\n",
       "      <td>05Jul2020</td>\n",
       "      <td>16Jul2020</td>\n",
       "      <td>1352617328</td>\n",
       "    </tr>\n",
       "  </tbody>\n",
       "</table>\n",
       "</div>"
      ],
      "text/plain": [
       "     Type      Start        End  Population\n",
       "0th  Past  01Mar2020  19May2020  1352617328\n",
       "1st  Past  20May2020  02Jun2020  1352617328\n",
       "2nd  Past  03Jun2020  11Jun2020  1352617328\n",
       "3rd  Past  12Jun2020  25Jun2020  1352617328\n",
       "4th  Past  26Jun2020  04Jul2020  1352617328\n",
       "5th  Past  05Jul2020  16Jul2020  1352617328"
      ]
     },
     "execution_count": 9,
     "metadata": {},
     "output_type": "execute_result"
    }
   ],
   "source": [
    "# Before: 3rd is 12Jun2020-19Jun2020, 4th is 20Jun2020-29Jun2020\n",
    "# After: 3rd is 12Jun2020-29Jun2020, 4th is the same as old 5th\n",
    "snl.combine(phases=[\"3rd\", \"4th\"])\n",
    "snl.summary()"
   ]
  },
  {
   "cell_type": "markdown",
   "metadata": {},
   "source": [
    "Show the trend with manually set change points."
   ]
  },
  {
   "cell_type": "code",
   "execution_count": 10,
   "metadata": {
    "collapsed": false,
    "tags": []
   },
   "outputs": [
    {
     "data": {
      "image/png": "[encoded data removed]",
      "text/plain": [
       "<Figure size 648x432 with 1 Axes>"
      ]
     },
     "metadata": {},
     "output_type": "display_data"
    },
    {
     "data": {
      "text/plain": [
       "<covsirphy.analysis.scenario.Scenario at 0x7fe583d343d0>"
      ]
     },
     "execution_count": 10,
     "metadata": {},
     "output_type": "execute_result"
    }
   ],
   "source": [
    "snl.trend(set_phases=False)"
   ]
  },
  {
   "cell_type": "markdown",
   "metadata": {},
   "source": [
    "## (Optional) Separate phases manually\n",
    "Because point of $(x, y) = (S, R)$ jumped on 29May2020, we will separete the 1st phase with this change point and reset phase names."
   ]
  },
  {
   "cell_type": "code",
   "execution_count": 11,
   "metadata": {
    "collapsed": false,
    "tags": []
   },
   "outputs": [
    {
     "data": {
      "text/html": [
       "<div>\n",
       "<style scoped>\n",
       "    .dataframe tbody tr th:only-of-type {\n",
       "        vertical-align: middle;\n",
       "    }\n",
       "\n",
       "    .dataframe tbody tr th {\n",
       "        vertical-align: top;\n",
       "    }\n",
       "\n",
       "    .dataframe thead th {\n",
       "        text-align: right;\n",
       "    }\n",
       "</style>\n",
       "<table border=\"1\" class=\"dataframe\">\n",
       "  <thead>\n",
       "    <tr style=\"text-align: right;\">\n",
       "      <th></th>\n",
       "      <th>Type</th>\n",
       "      <th>Start</th>\n",
       "      <th>End</th>\n",
       "      <th>Population</th>\n",
       "    </tr>\n",
       "  </thead>\n",
       "  <tbody>\n",
       "    <tr>\n",
       "      <th>0th</th>\n",
       "      <td>Past</td>\n",
       "      <td>01Mar2020</td>\n",
       "      <td>19May2020</td>\n",
       "      <td>1352617328</td>\n",
       "    </tr>\n",
       "    <tr>\n",
       "      <th>1st</th>\n",
       "      <td>Past</td>\n",
       "      <td>20May2020</td>\n",
       "      <td>28May2020</td>\n",
       "      <td>1352617328</td>\n",
       "    </tr>\n",
       "    <tr>\n",
       "      <th>2nd</th>\n",
       "      <td>Past</td>\n",
       "      <td>29May2020</td>\n",
       "      <td>02Jun2020</td>\n",
       "      <td>1352617328</td>\n",
       "    </tr>\n",
       "    <tr>\n",
       "      <th>3rd</th>\n",
       "      <td>Past</td>\n",
       "      <td>03Jun2020</td>\n",
       "      <td>11Jun2020</td>\n",
       "      <td>1352617328</td>\n",
       "    </tr>\n",
       "    <tr>\n",
       "      <th>4th</th>\n",
       "      <td>Past</td>\n",
       "      <td>12Jun2020</td>\n",
       "      <td>25Jun2020</td>\n",
       "      <td>1352617328</td>\n",
       "    </tr>\n",
       "    <tr>\n",
       "      <th>5th</th>\n",
       "      <td>Past</td>\n",
       "      <td>26Jun2020</td>\n",
       "      <td>04Jul2020</td>\n",
       "      <td>1352617328</td>\n",
       "    </tr>\n",
       "    <tr>\n",
       "      <th>6th</th>\n",
       "      <td>Past</td>\n",
       "      <td>05Jul2020</td>\n",
       "      <td>16Jul2020</td>\n",
       "      <td>1352617328</td>\n",
       "    </tr>\n",
       "  </tbody>\n",
       "</table>\n",
       "</div>"
      ],
      "text/plain": [
       "     Type      Start        End  Population\n",
       "0th  Past  01Mar2020  19May2020  1352617328\n",
       "1st  Past  20May2020  28May2020  1352617328\n",
       "2nd  Past  29May2020  02Jun2020  1352617328\n",
       "3rd  Past  03Jun2020  11Jun2020  1352617328\n",
       "4th  Past  12Jun2020  25Jun2020  1352617328\n",
       "5th  Past  26Jun2020  04Jul2020  1352617328\n",
       "6th  Past  05Jul2020  16Jul2020  1352617328"
      ]
     },
     "execution_count": 11,
     "metadata": {},
     "output_type": "execute_result"
    }
   ],
   "source": [
    "# Before: 1st is 20May2020-02Jun2020\n",
    "# After: 1st is 20May2020-28May2020, 2nd is 29May2020-02Jun2020\n",
    "snl.separate(date=\"29May2020\", phase=\"1st\")\n",
    "snl.summary()"
   ]
  },
  {
   "cell_type": "code",
   "execution_count": 12,
   "metadata": {
    "collapsed": false,
    "tags": []
   },
   "outputs": [
    {
     "data": {
      "image/png": "[encoded data removed]",
      "text/plain": [
       "<Figure size 648x432 with 1 Axes>"
      ]
     },
     "metadata": {},
     "output_type": "display_data"
    },
    {
     "data": {
      "text/plain": [
       "<covsirphy.analysis.scenario.Scenario at 0x7fe583d343d0>"
      ]
     },
     "execution_count": 12,
     "metadata": {},
     "output_type": "execute_result"
    }
   ],
   "source": [
    "snl.trend(set_phases=False)"
   ]
  },
  {
   "cell_type": "markdown",
   "metadata": {},
   "source": [
    "## (Optional) Disable/enable phases manually\n",
    "Phases can be disable for parameter eatimation. Disabled phases can be enabled with `Scenario.enable()` method."
   ]
  },
  {
   "cell_type": "code",
   "execution_count": 13,
   "metadata": {
    "collapsed": false
   },
   "outputs": [
    {
     "data": {
      "text/html": [
       "<div>\n",
       "<style scoped>\n",
       "    .dataframe tbody tr th:only-of-type {\n",
       "        vertical-align: middle;\n",
       "    }\n",
       "\n",
       "    .dataframe tbody tr th {\n",
       "        vertical-align: top;\n",
       "    }\n",
       "\n",
       "    .dataframe thead th {\n",
       "        text-align: right;\n",
       "    }\n",
       "</style>\n",
       "<table border=\"1\" class=\"dataframe\">\n",
       "  <thead>\n",
       "    <tr style=\"text-align: right;\">\n",
       "      <th></th>\n",
       "      <th>Type</th>\n",
       "      <th>Start</th>\n",
       "      <th>End</th>\n",
       "      <th>Population</th>\n",
       "    </tr>\n",
       "  </thead>\n",
       "  <tbody>\n",
       "    <tr>\n",
       "      <th>1st</th>\n",
       "      <td>Past</td>\n",
       "      <td>20May2020</td>\n",
       "      <td>28May2020</td>\n",
       "      <td>1352617328</td>\n",
       "    </tr>\n",
       "    <tr>\n",
       "      <th>2nd</th>\n",
       "      <td>Past</td>\n",
       "      <td>29May2020</td>\n",
       "      <td>02Jun2020</td>\n",
       "      <td>1352617328</td>\n",
       "    </tr>\n",
       "    <tr>\n",
       "      <th>3rd</th>\n",
       "      <td>Past</td>\n",
       "      <td>03Jun2020</td>\n",
       "      <td>11Jun2020</td>\n",
       "      <td>1352617328</td>\n",
       "    </tr>\n",
       "    <tr>\n",
       "      <th>4th</th>\n",
       "      <td>Past</td>\n",
       "      <td>12Jun2020</td>\n",
       "      <td>25Jun2020</td>\n",
       "      <td>1352617328</td>\n",
       "    </tr>\n",
       "    <tr>\n",
       "      <th>5th</th>\n",
       "      <td>Past</td>\n",
       "      <td>26Jun2020</td>\n",
       "      <td>04Jul2020</td>\n",
       "      <td>1352617328</td>\n",
       "    </tr>\n",
       "    <tr>\n",
       "      <th>6th</th>\n",
       "      <td>Past</td>\n",
       "      <td>05Jul2020</td>\n",
       "      <td>16Jul2020</td>\n",
       "      <td>1352617328</td>\n",
       "    </tr>\n",
       "  </tbody>\n",
       "</table>\n",
       "</div>"
      ],
      "text/plain": [
       "     Type      Start        End  Population\n",
       "1st  Past  20May2020  28May2020  1352617328\n",
       "2nd  Past  29May2020  02Jun2020  1352617328\n",
       "3rd  Past  03Jun2020  11Jun2020  1352617328\n",
       "4th  Past  12Jun2020  25Jun2020  1352617328\n",
       "5th  Past  26Jun2020  04Jul2020  1352617328\n",
       "6th  Past  05Jul2020  16Jul2020  1352617328"
      ]
     },
     "execution_count": 13,
     "metadata": {},
     "output_type": "execute_result"
    }
   ],
   "source": [
    "# Disable 0th phase\n",
    "snl.disable(phases=[\"0th\"])\n",
    "snl.summary()"
   ]
  },
  {
   "cell_type": "code",
   "execution_count": 14,
   "metadata": {
    "collapsed": false
   },
   "outputs": [
    {
     "data": {
      "image/png": "[encoded data removed]",
      "text/plain": [
       "<Figure size 648x432 with 1 Axes>"
      ]
     },
     "metadata": {},
     "output_type": "display_data"
    },
    {
     "data": {
      "text/plain": [
       "<covsirphy.analysis.scenario.Scenario at 0x7fe583d343d0>"
      ]
     },
     "execution_count": 14,
     "metadata": {},
     "output_type": "execute_result"
    }
   ],
   "source": [
    "snl.trend(set_phases=False)"
   ]
  },
  {
   "cell_type": "code",
   "execution_count": 15,
   "metadata": {
    "collapsed": false
   },
   "outputs": [
    {
     "data": {
      "text/html": [
       "<div>\n",
       "<style scoped>\n",
       "    .dataframe tbody tr th:only-of-type {\n",
       "        vertical-align: middle;\n",
       "    }\n",
       "\n",
       "    .dataframe tbody tr th {\n",
       "        vertical-align: top;\n",
       "    }\n",
       "\n",
       "    .dataframe thead th {\n",
       "        text-align: right;\n",
       "    }\n",
       "</style>\n",
       "<table border=\"1\" class=\"dataframe\">\n",
       "  <thead>\n",
       "    <tr style=\"text-align: right;\">\n",
       "      <th></th>\n",
       "      <th>Type</th>\n",
       "      <th>Start</th>\n",
       "      <th>End</th>\n",
       "      <th>Population</th>\n",
       "    </tr>\n",
       "  </thead>\n",
       "  <tbody>\n",
       "    <tr>\n",
       "      <th>0th</th>\n",
       "      <td>Past</td>\n",
       "      <td>01Mar2020</td>\n",
       "      <td>19May2020</td>\n",
       "      <td>1352617328</td>\n",
       "    </tr>\n",
       "    <tr>\n",
       "      <th>1st</th>\n",
       "      <td>Past</td>\n",
       "      <td>20May2020</td>\n",
       "      <td>28May2020</td>\n",
       "      <td>1352617328</td>\n",
       "    </tr>\n",
       "    <tr>\n",
       "      <th>2nd</th>\n",
       "      <td>Past</td>\n",
       "      <td>29May2020</td>\n",
       "      <td>02Jun2020</td>\n",
       "      <td>1352617328</td>\n",
       "    </tr>\n",
       "    <tr>\n",
       "      <th>3rd</th>\n",
       "      <td>Past</td>\n",
       "      <td>03Jun2020</td>\n",
       "      <td>11Jun2020</td>\n",
       "      <td>1352617328</td>\n",
       "    </tr>\n",
       "    <tr>\n",
       "      <th>4th</th>\n",
       "      <td>Past</td>\n",
       "      <td>12Jun2020</td>\n",
       "      <td>25Jun2020</td>\n",
       "      <td>1352617328</td>\n",
       "    </tr>\n",
       "    <tr>\n",
       "      <th>5th</th>\n",
       "      <td>Past</td>\n",
       "      <td>26Jun2020</td>\n",
       "      <td>04Jul2020</td>\n",
       "      <td>1352617328</td>\n",
       "    </tr>\n",
       "    <tr>\n",
       "      <th>6th</th>\n",
       "      <td>Past</td>\n",
       "      <td>05Jul2020</td>\n",
       "      <td>16Jul2020</td>\n",
       "      <td>1352617328</td>\n",
       "    </tr>\n",
       "  </tbody>\n",
       "</table>\n",
       "</div>"
      ],
      "text/plain": [
       "     Type      Start        End  Population\n",
       "0th  Past  01Mar2020  19May2020  1352617328\n",
       "1st  Past  20May2020  28May2020  1352617328\n",
       "2nd  Past  29May2020  02Jun2020  1352617328\n",
       "3rd  Past  03Jun2020  11Jun2020  1352617328\n",
       "4th  Past  12Jun2020  25Jun2020  1352617328\n",
       "5th  Past  26Jun2020  04Jul2020  1352617328\n",
       "6th  Past  05Jul2020  16Jul2020  1352617328"
      ]
     },
     "execution_count": 15,
     "metadata": {},
     "output_type": "execute_result"
    }
   ],
   "source": [
    "# Enable 0th phase\n",
    "snl.enable(phases=[\"0th\"])\n",
    "snl.summary()"
   ]
  },
  {
   "cell_type": "markdown",
   "metadata": {},
   "source": [
    "## (Optional) Add phases one by one\n",
    "In the previous sections, we started with S-R trend analysis. We can create phases without this analysis when you have a new idea to find change points."
   ]
  },
  {
   "cell_type": "code",
   "execution_count": 16,
   "metadata": {
    "collapsed": false
   },
   "outputs": [
    {
     "data": {
      "text/html": [
       "<div>\n",
       "<style scoped>\n",
       "    .dataframe tbody tr th:only-of-type {\n",
       "        vertical-align: middle;\n",
       "    }\n",
       "\n",
       "    .dataframe tbody tr th {\n",
       "        vertical-align: top;\n",
       "    }\n",
       "\n",
       "    .dataframe thead th {\n",
       "        text-align: right;\n",
       "    }\n",
       "</style>\n",
       "<table border=\"1\" class=\"dataframe\">\n",
       "  <thead>\n",
       "    <tr style=\"text-align: right;\">\n",
       "      <th></th>\n",
       "    </tr>\n",
       "  </thead>\n",
       "  <tbody>\n",
       "  </tbody>\n",
       "</table>\n",
       "</div>"
      ],
      "text/plain": [
       "Empty DataFrame\n",
       "Columns: []\n",
       "Index: []"
      ]
     },
     "execution_count": 16,
     "metadata": {},
     "output_type": "execute_result"
    }
   ],
   "source": [
    "# Clear all phases\n",
    "snl.clear(include_past=True).summary()"
   ]
  },
  {
   "cell_type": "code",
   "execution_count": 17,
   "metadata": {
    "collapsed": false
   },
   "outputs": [
    {
     "data": {
      "text/html": [
       "<div>\n",
       "<style scoped>\n",
       "    .dataframe tbody tr th:only-of-type {\n",
       "        vertical-align: middle;\n",
       "    }\n",
       "\n",
       "    .dataframe tbody tr th {\n",
       "        vertical-align: top;\n",
       "    }\n",
       "\n",
       "    .dataframe thead th {\n",
       "        text-align: right;\n",
       "    }\n",
       "</style>\n",
       "<table border=\"1\" class=\"dataframe\">\n",
       "  <thead>\n",
       "    <tr style=\"text-align: right;\">\n",
       "      <th></th>\n",
       "      <th>Type</th>\n",
       "      <th>Start</th>\n",
       "      <th>End</th>\n",
       "      <th>Population</th>\n",
       "    </tr>\n",
       "  </thead>\n",
       "  <tbody>\n",
       "    <tr>\n",
       "      <th>1st</th>\n",
       "      <td>Past</td>\n",
       "      <td>20May2020</td>\n",
       "      <td>28May2020</td>\n",
       "      <td>1352617328</td>\n",
       "    </tr>\n",
       "    <tr>\n",
       "      <th>2nd</th>\n",
       "      <td>Past</td>\n",
       "      <td>29May2020</td>\n",
       "      <td>02Jun2020</td>\n",
       "      <td>1352617328</td>\n",
       "    </tr>\n",
       "    <tr>\n",
       "      <th>3rd</th>\n",
       "      <td>Past</td>\n",
       "      <td>03Jun2020</td>\n",
       "      <td>11Jun2020</td>\n",
       "      <td>1352617328</td>\n",
       "    </tr>\n",
       "    <tr>\n",
       "      <th>4th</th>\n",
       "      <td>Past</td>\n",
       "      <td>12Jun2020</td>\n",
       "      <td>29Jun2020</td>\n",
       "      <td>1352617328</td>\n",
       "    </tr>\n",
       "    <tr>\n",
       "      <th>5th</th>\n",
       "      <td>Past</td>\n",
       "      <td>30Jun2020</td>\n",
       "      <td>16Jul2020</td>\n",
       "      <td>1352617328</td>\n",
       "    </tr>\n",
       "  </tbody>\n",
       "</table>\n",
       "</div>"
      ],
      "text/plain": [
       "     Type      Start        End  Population\n",
       "1st  Past  20May2020  28May2020  1352617328\n",
       "2nd  Past  29May2020  02Jun2020  1352617328\n",
       "3rd  Past  03Jun2020  11Jun2020  1352617328\n",
       "4th  Past  12Jun2020  29Jun2020  1352617328\n",
       "5th  Past  30Jun2020  16Jul2020  1352617328"
      ]
     },
     "execution_count": 17,
     "metadata": {},
     "output_type": "execute_result"
    }
   ],
   "source": [
    "# Set 0th phase to set the start date of 1st phase\n",
    "snl.add(end_date=\"19May2020\")\n",
    "# Add 1st phase and disable 0th phase\n",
    "snl.add(end_date=\"28May2020\").disable(phases=[\"0th\"])\n",
    "# Add 2nd phase\n",
    "snl.add(end_date=\"02Jun2020\")\n",
    "# Add 3rd phase\n",
    "snl.add(end_date=\"11Jun2020\")\n",
    "# Add 4th phase\n",
    "snl.add(end_date=\"29Jun2020\")\n",
    "# Add 5th phase to the last of the records\n",
    "snl.add().summary()"
   ]
  },
  {
   "cell_type": "markdown",
   "metadata": {},
   "source": [
    "## Parameter estimation of ODE models\n",
    "Here, we will use SIR-F model."
   ]
  },
  {
   "cell_type": "code",
   "execution_count": 18,
   "metadata": {
    "collapsed": false,
    "tags": []
   },
   "outputs": [
    {
     "name": "stdout",
     "output_type": "stream",
     "text": [
      "\n",
      "<SIR-F model: parameter estimation>\n",
      "Running optimization with 4 CPUs...\n"
     ]
    },
    {
     "name": "stdout",
     "output_type": "stream",
     "text": [
      "\t 5th phase (30Jun2020 - 16Jul2020): finished  420 trials in 0 min 20 sec\n"
     ]
    },
    {
     "name": "stdout",
     "output_type": "stream",
     "text": [
      "\t 2nd phase (29May2020 - 02Jun2020): finished  227 trials in 0 min 10 sec"
     ]
    },
    {
     "name": "stdout",
     "output_type": "stream",
     "text": [
      "\n"
     ]
    },
    {
     "name": "stdout",
     "output_type": "stream",
     "text": [
      "\t 3rd phase (03Jun2020 - 11Jun2020): finished  226 trials in 0 min 10 sec"
     ]
    },
    {
     "name": "stdout",
     "output_type": "stream",
     "text": [
      "\n"
     ]
    },
    {
     "name": "stdout",
     "output_type": "stream",
     "text": [
      "\t 1st phase (20May2020 - 28May2020): finished 1367 trials in 1 min  0 sec"
     ]
    },
    {
     "name": "stdout",
     "output_type": "stream",
     "text": [
      "\n"
     ]
    },
    {
     "name": "stdout",
     "output_type": "stream",
     "text": [
      "\t 4th phase (12Jun2020 - 29Jun2020): finished 1421 trials in 1 min  0 sec"
     ]
    },
    {
     "name": "stdout",
     "output_type": "stream",
     "text": [
      "\n"
     ]
    },
    {
     "name": "stdout",
     "output_type": "stream",
     "text": [
      "Completed optimization. Total: 1 min 21 sec\n"
     ]
    }
   ],
   "source": [
    "snl.estimate(cs.SIRF)"
   ]
  },
  {
   "cell_type": "markdown",
   "metadata": {},
   "source": [
    "## Main scenario\n",
    "To investigate the effect of parameter changes, we will perform scenario analysis. In the main scenario, we will assume that the parameter values do not change after the last past phase."
   ]
  },
  {
   "cell_type": "code",
   "execution_count": 19,
   "metadata": {
    "collapsed": false
   },
   "outputs": [
    {
     "data": {
      "text/html": [
       "<div>\n",
       "<style scoped>\n",
       "    .dataframe tbody tr th:only-of-type {\n",
       "        vertical-align: middle;\n",
       "    }\n",
       "\n",
       "    .dataframe tbody tr th {\n",
       "        vertical-align: top;\n",
       "    }\n",
       "\n",
       "    .dataframe thead th {\n",
       "        text-align: right;\n",
       "    }\n",
       "</style>\n",
       "<table border=\"1\" class=\"dataframe\">\n",
       "  <thead>\n",
       "    <tr style=\"text-align: right;\">\n",
       "      <th></th>\n",
       "      <th>Start</th>\n",
       "      <th>End</th>\n",
       "      <th>theta</th>\n",
       "      <th>kappa</th>\n",
       "      <th>rho</th>\n",
       "      <th>sigma</th>\n",
       "      <th>Rt</th>\n",
       "    </tr>\n",
       "  </thead>\n",
       "  <tbody>\n",
       "    <tr>\n",
       "      <th>1st</th>\n",
       "      <td>20May2020</td>\n",
       "      <td>28May2020</td>\n",
       "      <td>0.017155</td>\n",
       "      <td>0.000350</td>\n",
       "      <td>0.041600</td>\n",
       "      <td>0.020912</td>\n",
       "      <td>1.92</td>\n",
       "    </tr>\n",
       "    <tr>\n",
       "      <th>2nd</th>\n",
       "      <td>29May2020</td>\n",
       "      <td>02Jun2020</td>\n",
       "      <td>0.001384</td>\n",
       "      <td>0.001050</td>\n",
       "      <td>0.044779</td>\n",
       "      <td>0.023839</td>\n",
       "      <td>1.80</td>\n",
       "    </tr>\n",
       "    <tr>\n",
       "      <th>3rd</th>\n",
       "      <td>03Jun2020</td>\n",
       "      <td>11Jun2020</td>\n",
       "      <td>0.021389</td>\n",
       "      <td>0.000329</td>\n",
       "      <td>0.039782</td>\n",
       "      <td>0.020913</td>\n",
       "      <td>1.83</td>\n",
       "    </tr>\n",
       "    <tr>\n",
       "      <th>4th</th>\n",
       "      <td>12Jun2020</td>\n",
       "      <td>29Jun2020</td>\n",
       "      <td>0.015396</td>\n",
       "      <td>0.000852</td>\n",
       "      <td>0.041950</td>\n",
       "      <td>0.030241</td>\n",
       "      <td>1.33</td>\n",
       "    </tr>\n",
       "    <tr>\n",
       "      <th>5th</th>\n",
       "      <td>30Jun2020</td>\n",
       "      <td>16Jul2020</td>\n",
       "      <td>0.001415</td>\n",
       "      <td>0.000908</td>\n",
       "      <td>0.048067</td>\n",
       "      <td>0.033124</td>\n",
       "      <td>1.41</td>\n",
       "    </tr>\n",
       "    <tr>\n",
       "      <th>6th</th>\n",
       "      <td>17Jul2020</td>\n",
       "      <td>01Aug2020</td>\n",
       "      <td>0.001415</td>\n",
       "      <td>0.000908</td>\n",
       "      <td>0.048067</td>\n",
       "      <td>0.033124</td>\n",
       "      <td>1.41</td>\n",
       "    </tr>\n",
       "    <tr>\n",
       "      <th>7th</th>\n",
       "      <td>02Aug2020</td>\n",
       "      <td>09Nov2020</td>\n",
       "      <td>0.001415</td>\n",
       "      <td>0.000908</td>\n",
       "      <td>0.048067</td>\n",
       "      <td>0.033124</td>\n",
       "      <td>1.41</td>\n",
       "    </tr>\n",
       "  </tbody>\n",
       "</table>\n",
       "</div>"
      ],
      "text/plain": [
       "         Start        End     theta     kappa       rho     sigma    Rt\n",
       "1st  20May2020  28May2020  0.017155  0.000350  0.041600  0.020912  1.92\n",
       "2nd  29May2020  02Jun2020  0.001384  0.001050  0.044779  0.023839  1.80\n",
       "3rd  03Jun2020  11Jun2020  0.021389  0.000329  0.039782  0.020913  1.83\n",
       "4th  12Jun2020  29Jun2020  0.015396  0.000852  0.041950  0.030241  1.33\n",
       "5th  30Jun2020  16Jul2020  0.001415  0.000908  0.048067  0.033124  1.41\n",
       "6th  17Jul2020  01Aug2020  0.001415  0.000908  0.048067  0.033124  1.41\n",
       "7th  02Aug2020  09Nov2020  0.001415  0.000908  0.048067  0.033124  1.41"
      ]
     },
     "execution_count": 19,
     "metadata": {},
     "output_type": "execute_result"
    }
   ],
   "source": [
    "# Add 5th phase with the parameter values of 4th phase (until 01Aug2020)\n",
    "snl.add(end_date=\"01Aug2020\", name=\"Main\")\n",
    "# Add 6th phase with the parameter values of 4th phase (100 days)\n",
    "snl.add(days=100, name=\"Main\")\n",
    "# Show the parameter values of SIR-F model and reproduction number\n",
    "snl.summary(columns=[\"Start\", \"End\", *cs.SIRF.PARAMETERS, \"Rt\"])"
   ]
  },
  {
   "cell_type": "markdown",
   "metadata": {},
   "source": [
    "## Medicine scenario\n",
    "To investigate the effect of new medicines, we will assume that $\\sigma$ will be double in the future phases in Medicine scenario."
   ]
  },
  {
   "cell_type": "code",
   "execution_count": 20,
   "metadata": {
    "collapsed": false
   },
   "outputs": [
    {
     "data": {
      "text/html": [
       "<div>\n",
       "<style scoped>\n",
       "    .dataframe tbody tr th:only-of-type {\n",
       "        vertical-align: middle;\n",
       "    }\n",
       "\n",
       "    .dataframe tbody tr th {\n",
       "        vertical-align: top;\n",
       "    }\n",
       "\n",
       "    .dataframe thead th {\n",
       "        text-align: right;\n",
       "    }\n",
       "</style>\n",
       "<table border=\"1\" class=\"dataframe\">\n",
       "  <thead>\n",
       "    <tr style=\"text-align: right;\">\n",
       "      <th></th>\n",
       "      <th></th>\n",
       "      <th>Start</th>\n",
       "      <th>End</th>\n",
       "      <th>theta</th>\n",
       "      <th>kappa</th>\n",
       "      <th>rho</th>\n",
       "      <th>sigma</th>\n",
       "      <th>Rt</th>\n",
       "    </tr>\n",
       "    <tr>\n",
       "      <th>Scenario</th>\n",
       "      <th>Phase</th>\n",
       "      <th></th>\n",
       "      <th></th>\n",
       "      <th></th>\n",
       "      <th></th>\n",
       "      <th></th>\n",
       "      <th></th>\n",
       "      <th></th>\n",
       "    </tr>\n",
       "  </thead>\n",
       "  <tbody>\n",
       "    <tr>\n",
       "      <th rowspan=\"7\" valign=\"top\">Main</th>\n",
       "      <th>1st</th>\n",
       "      <td>20May2020</td>\n",
       "      <td>28May2020</td>\n",
       "      <td>0.017155</td>\n",
       "      <td>0.000350</td>\n",
       "      <td>0.041600</td>\n",
       "      <td>0.020912</td>\n",
       "      <td>1.92</td>\n",
       "    </tr>\n",
       "    <tr>\n",
       "      <th>2nd</th>\n",
       "      <td>29May2020</td>\n",
       "      <td>02Jun2020</td>\n",
       "      <td>0.001384</td>\n",
       "      <td>0.001050</td>\n",
       "      <td>0.044779</td>\n",
       "      <td>0.023839</td>\n",
       "      <td>1.80</td>\n",
       "    </tr>\n",
       "    <tr>\n",
       "      <th>3rd</th>\n",
       "      <td>03Jun2020</td>\n",
       "      <td>11Jun2020</td>\n",
       "      <td>0.021389</td>\n",
       "      <td>0.000329</td>\n",
       "      <td>0.039782</td>\n",
       "      <td>0.020913</td>\n",
       "      <td>1.83</td>\n",
       "    </tr>\n",
       "    <tr>\n",
       "      <th>4th</th>\n",
       "      <td>12Jun2020</td>\n",
       "      <td>29Jun2020</td>\n",
       "      <td>0.015396</td>\n",
       "      <td>0.000852</td>\n",
       "      <td>0.041950</td>\n",
       "      <td>0.030241</td>\n",
       "      <td>1.33</td>\n",
       "    </tr>\n",
       "    <tr>\n",
       "      <th>5th</th>\n",
       "      <td>30Jun2020</td>\n",
       "      <td>16Jul2020</td>\n",
       "      <td>0.001415</td>\n",
       "      <td>0.000908</td>\n",
       "      <td>0.048067</td>\n",
       "      <td>0.033124</td>\n",
       "      <td>1.41</td>\n",
       "    </tr>\n",
       "    <tr>\n",
       "      <th>6th</th>\n",
       "      <td>17Jul2020</td>\n",
       "      <td>01Aug2020</td>\n",
       "      <td>0.001415</td>\n",
       "      <td>0.000908</td>\n",
       "      <td>0.048067</td>\n",
       "      <td>0.033124</td>\n",
       "      <td>1.41</td>\n",
       "    </tr>\n",
       "    <tr>\n",
       "      <th>7th</th>\n",
       "      <td>02Aug2020</td>\n",
       "      <td>09Nov2020</td>\n",
       "      <td>0.001415</td>\n",
       "      <td>0.000908</td>\n",
       "      <td>0.048067</td>\n",
       "      <td>0.033124</td>\n",
       "      <td>1.41</td>\n",
       "    </tr>\n",
       "    <tr>\n",
       "      <th rowspan=\"7\" valign=\"top\">Medicine</th>\n",
       "      <th>1st</th>\n",
       "      <td>20May2020</td>\n",
       "      <td>28May2020</td>\n",
       "      <td>0.017155</td>\n",
       "      <td>0.000350</td>\n",
       "      <td>0.041600</td>\n",
       "      <td>0.020912</td>\n",
       "      <td>1.92</td>\n",
       "    </tr>\n",
       "    <tr>\n",
       "      <th>2nd</th>\n",
       "      <td>29May2020</td>\n",
       "      <td>02Jun2020</td>\n",
       "      <td>0.001384</td>\n",
       "      <td>0.001050</td>\n",
       "      <td>0.044779</td>\n",
       "      <td>0.023839</td>\n",
       "      <td>1.80</td>\n",
       "    </tr>\n",
       "    <tr>\n",
       "      <th>3rd</th>\n",
       "      <td>03Jun2020</td>\n",
       "      <td>11Jun2020</td>\n",
       "      <td>0.021389</td>\n",
       "      <td>0.000329</td>\n",
       "      <td>0.039782</td>\n",
       "      <td>0.020913</td>\n",
       "      <td>1.83</td>\n",
       "    </tr>\n",
       "    <tr>\n",
       "      <th>4th</th>\n",
       "      <td>12Jun2020</td>\n",
       "      <td>29Jun2020</td>\n",
       "      <td>0.015396</td>\n",
       "      <td>0.000852</td>\n",
       "      <td>0.041950</td>\n",
       "      <td>0.030241</td>\n",
       "      <td>1.33</td>\n",
       "    </tr>\n",
       "    <tr>\n",
       "      <th>5th</th>\n",
       "      <td>30Jun2020</td>\n",
       "      <td>16Jul2020</td>\n",
       "      <td>0.001415</td>\n",
       "      <td>0.000908</td>\n",
       "      <td>0.048067</td>\n",
       "      <td>0.033124</td>\n",
       "      <td>1.41</td>\n",
       "    </tr>\n",
       "    <tr>\n",
       "      <th>6th</th>\n",
       "      <td>17Jul2020</td>\n",
       "      <td>01Aug2020</td>\n",
       "      <td>0.001415</td>\n",
       "      <td>0.000908</td>\n",
       "      <td>0.048067</td>\n",
       "      <td>0.060481</td>\n",
       "      <td>0.78</td>\n",
       "    </tr>\n",
       "    <tr>\n",
       "      <th>7th</th>\n",
       "      <td>02Aug2020</td>\n",
       "      <td>09Nov2020</td>\n",
       "      <td>0.001415</td>\n",
       "      <td>0.000908</td>\n",
       "      <td>0.048067</td>\n",
       "      <td>0.060481</td>\n",
       "      <td>0.78</td>\n",
       "    </tr>\n",
       "  </tbody>\n",
       "</table>\n",
       "</div>"
      ],
      "text/plain": [
       "                    Start        End     theta     kappa       rho     sigma  \\\n",
       "Scenario Phase                                                                 \n",
       "Main     1st    20May2020  28May2020  0.017155  0.000350  0.041600  0.020912   \n",
       "         2nd    29May2020  02Jun2020  0.001384  0.001050  0.044779  0.023839   \n",
       "         3rd    03Jun2020  11Jun2020  0.021389  0.000329  0.039782  0.020913   \n",
       "         4th    12Jun2020  29Jun2020  0.015396  0.000852  0.041950  0.030241   \n",
       "         5th    30Jun2020  16Jul2020  0.001415  0.000908  0.048067  0.033124   \n",
       "         6th    17Jul2020  01Aug2020  0.001415  0.000908  0.048067  0.033124   \n",
       "         7th    02Aug2020  09Nov2020  0.001415  0.000908  0.048067  0.033124   \n",
       "Medicine 1st    20May2020  28May2020  0.017155  0.000350  0.041600  0.020912   \n",
       "         2nd    29May2020  02Jun2020  0.001384  0.001050  0.044779  0.023839   \n",
       "         3rd    03Jun2020  11Jun2020  0.021389  0.000329  0.039782  0.020913   \n",
       "         4th    12Jun2020  29Jun2020  0.015396  0.000852  0.041950  0.030241   \n",
       "         5th    30Jun2020  16Jul2020  0.001415  0.000908  0.048067  0.033124   \n",
       "         6th    17Jul2020  01Aug2020  0.001415  0.000908  0.048067  0.060481   \n",
       "         7th    02Aug2020  09Nov2020  0.001415  0.000908  0.048067  0.060481   \n",
       "\n",
       "                  Rt  \n",
       "Scenario Phase        \n",
       "Main     1st    1.92  \n",
       "         2nd    1.80  \n",
       "         3rd    1.83  \n",
       "         4th    1.33  \n",
       "         5th    1.41  \n",
       "         6th    1.41  \n",
       "         7th    1.41  \n",
       "Medicine 1st    1.92  \n",
       "         2nd    1.80  \n",
       "         3rd    1.83  \n",
       "         4th    1.33  \n",
       "         5th    1.41  \n",
       "         6th    0.78  \n",
       "         7th    0.78  "
      ]
     },
     "execution_count": 20,
     "metadata": {},
     "output_type": "execute_result"
    }
   ],
   "source": [
    "# Initialize Medicine scenario\n",
    "snl.clear(name=\"Medicine\")\n",
    "# Calculate double value of sigma (baseline: 4th phase)\n",
    "sigma_opt = snl.get(\"sigma\", phase=\"4th\", name=\"Main\") * 2\n",
    "# Add 5th phase (until 01Aug2020, sigma: double)\n",
    "snl.add(end_date=\"01Aug2020\", name=\"Medicine\", sigma=sigma_opt)\n",
    "# Add 6th phase (100 days, sigma: double)\n",
    "snl.add(days=100, name=\"Medicine\", sigma=sigma_opt)\n",
    "# Show the parameter values of SIR-F model and reproduction number\n",
    "snl.summary(columns=[\"Start\", \"End\", *cs.SIRF.PARAMETERS, \"Rt\"])"
   ]
  },
  {
   "cell_type": "markdown",
   "metadata": {},
   "source": [
    "## Compare the scenarios\n",
    "Currently. we can compare the scenarios with the following indexes.\n",
    "- max(Infected): max value of Infected\n",
    "- argmax(Infected): the date when Infected shows max value\n",
    "- Infected on ...: Infected on the end date of the last phase\n",
    "- Fatal on ...: Fatal on the end date of the last phase"
   ]
  },
  {
   "cell_type": "code",
   "execution_count": 21,
   "metadata": {
    "collapsed": false
   },
   "outputs": [
    {
     "data": {
      "text/html": [
       "<div>\n",
       "<style scoped>\n",
       "    .dataframe tbody tr th:only-of-type {\n",
       "        vertical-align: middle;\n",
       "    }\n",
       "\n",
       "    .dataframe tbody tr th {\n",
       "        vertical-align: top;\n",
       "    }\n",
       "\n",
       "    .dataframe thead th {\n",
       "        text-align: right;\n",
       "    }\n",
       "</style>\n",
       "<table border=\"1\" class=\"dataframe\">\n",
       "  <thead>\n",
       "    <tr style=\"text-align: right;\">\n",
       "      <th></th>\n",
       "      <th>max(Infected)</th>\n",
       "      <th>argmax(Infected)</th>\n",
       "      <th>Confirmed on 10Nov2020</th>\n",
       "      <th>Infected on 10Nov2020</th>\n",
       "      <th>Fatal on 10Nov2020</th>\n",
       "      <th>6th_Rt</th>\n",
       "      <th>7th_Rt</th>\n",
       "    </tr>\n",
       "  </thead>\n",
       "  <tbody>\n",
       "    <tr>\n",
       "      <th>Main</th>\n",
       "      <td>8412222</td>\n",
       "      <td>10Nov2020</td>\n",
       "      <td>29574473</td>\n",
       "      <td>8412222</td>\n",
       "      <td>612271</td>\n",
       "      <td>1.41</td>\n",
       "      <td>1.41</td>\n",
       "    </tr>\n",
       "    <tr>\n",
       "      <th>Medicine</th>\n",
       "      <td>354248</td>\n",
       "      <td>17Jul2020</td>\n",
       "      <td>2255285</td>\n",
       "      <td>15640</td>\n",
       "      <td>51346</td>\n",
       "      <td>0.78</td>\n",
       "      <td>0.78</td>\n",
       "    </tr>\n",
       "  </tbody>\n",
       "</table>\n",
       "</div>"
      ],
      "text/plain": [
       "          max(Infected) argmax(Infected)  Confirmed on 10Nov2020  \\\n",
       "Main            8412222        10Nov2020                29574473   \n",
       "Medicine         354248        17Jul2020                 2255285   \n",
       "\n",
       "          Infected on 10Nov2020  Fatal on 10Nov2020  6th_Rt  7th_Rt  \n",
       "Main                    8412222              612271    1.41    1.41  \n",
       "Medicine                  15640               51346    0.78    0.78  "
      ]
     },
     "execution_count": 21,
     "metadata": {},
     "output_type": "execute_result"
    }
   ],
   "source": [
    "snl.describe()"
   ]
  },
  {
   "cell_type": "code",
   "execution_count": 22,
   "metadata": {
    "collapsed": false
   },
   "outputs": [
    {
     "data": {
      "image/png": "[encoded data removed]",
      "text/plain": [
       "<Figure size 648x432 with 1 Axes>"
      ]
     },
     "metadata": {},
     "output_type": "display_data"
    }
   ],
   "source": [
    "_ = snl.history(target=\"Rt\")"
   ]
  },
  {
   "cell_type": "code",
   "execution_count": 23,
   "metadata": {
    "collapsed": false
   },
   "outputs": [
    {
     "data": {
      "image/png": "[encoded data removed]",
      "text/plain": [
       "<Figure size 648x432 with 1 Axes>"
      ]
     },
     "metadata": {},
     "output_type": "display_data"
    }
   ],
   "source": [
    "_ = snl.history(target=\"Infected\")"
   ]
  },
  {
   "cell_type": "code",
   "execution_count": 24,
   "metadata": {
    "collapsed": false
   },
   "outputs": [
    {
     "data": {
      "image/png": "[encoded data removed]",
      "text/plain": [
       "<Figure size 648x432 with 1 Axes>"
      ]
     },
     "metadata": {},
     "output_type": "display_data"
    }
   ],
   "source": [
    "_ = snl.history(target=\"Fatal\")"
   ]
  }
 ],
 "metadata": {
  "kernelspec": {
   "display_name": "Python 3.8.5 64-bit ('covid19-sir': pipenv)",
   "name": "python_defaultSpec_1599558922114"
  },
  "language_info": {
   "codemirror_mode": {
    "name": "ipython",
    "version": 3
   },
   "file_extension": ".py",
   "mimetype": "text/x-python",
   "name": "python",
   "nbconvert_exporter": "python",
   "pygments_lexer": "ipython3",
   "version": "3.8.5-final"
  }
 },
 "nbformat": 4,
 "nbformat_minor": 4
}
