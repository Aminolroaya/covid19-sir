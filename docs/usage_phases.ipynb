{
 "cells": [
  {
   "cell_type": "markdown",
   "metadata": {},
   "source": [
    "# Usage (details: phases)\n",
    "Here, how to set phases in scenario analysis will be explained. As an example, use the records in India."
   ]
  },
  {
   "cell_type": "markdown",
   "metadata": {},
   "source": [
    "## Preperation"
   ]
  },
  {
   "cell_type": "code",
   "execution_count": 1,
   "metadata": {
    "collapsed": false
   },
   "outputs": [],
   "source": [
    "# Standard users\n",
    "# !pip install covsirphy\n",
    "# Developers (Note: this notebook is in example directory)\n",
    "import os\n",
    "os.chdir(\"../\")"
   ]
  },
  {
   "cell_type": "code",
   "execution_count": 2,
   "metadata": {
    "collapsed": false,
    "tags": []
   },
   "outputs": [
    {
     "data": {
      "text/plain": [
       "'2.6.0-zeta.new.72.fix.120.155.157.163.164.165.174'"
      ]
     },
     "execution_count": 2,
     "metadata": {},
     "output_type": "execute_result"
    }
   ],
   "source": [
    "import covsirphy as cs\n",
    "cs.__version__"
   ]
  },
  {
   "cell_type": "code",
   "execution_count": 3,
   "metadata": {
    "collapsed": false,
    "tags": []
   },
   "outputs": [
    {
     "name": "stdout",
     "output_type": "stream",
     "text": [
      "(Secondary source) Guidotti, E., Ardia, D., (2020), \"COVID-19 Data Hub\", Working paper, doi: 10.13140/RG.2.2.11649.81763.\n",
      "We can get Citation list of primary sources with DataLoader(...).covid19dh_citation"
     ]
    },
    {
     "name": "stdout",
     "output_type": "stream",
     "text": [
      "\n"
     ]
    }
   ],
   "source": [
    "# Load datasets\n",
    "data_loader = cs.DataLoader(\"input\")\n",
    "jhu_data = data_loader.jhu(verbose=False)\n",
    "population_data = data_loader.population(verbose=False)\n",
    "print(jhu_data.citation)"
   ]
  },
  {
   "cell_type": "code",
   "execution_count": 4,
   "metadata": {
    "collapsed": false
   },
   "outputs": [],
   "source": [
    "# Create instance of `Scenario` class\n",
    "scenario = cs.Scenario(jhu_data, population_data, country=\"India\", province=None)"
   ]
  },
  {
   "cell_type": "code",
   "execution_count": 5,
   "metadata": {
    "collapsed": false,
    "tags": []
   },
   "outputs": [
    {
     "data": {
      "text/html": [
       "<div>\n",
       "<style scoped>\n",
       "    .dataframe tbody tr th:only-of-type {\n",
       "        vertical-align: middle;\n",
       "    }\n",
       "\n",
       "    .dataframe tbody tr th {\n",
       "        vertical-align: top;\n",
       "    }\n",
       "\n",
       "    .dataframe thead th {\n",
       "        text-align: right;\n",
       "    }\n",
       "</style>\n",
       "<table border=\"1\" class=\"dataframe\">\n",
       "  <thead>\n",
       "    <tr style=\"text-align: right;\">\n",
       "      <th></th>\n",
       "      <th>Type</th>\n",
       "      <th>Start</th>\n",
       "      <th>End</th>\n",
       "      <th>Population</th>\n",
       "    </tr>\n",
       "  </thead>\n",
       "  <tbody>\n",
       "  </tbody>\n",
       "</table>\n",
       "</div>"
      ],
      "text/plain": [
       "Empty DataFrame\n",
       "Columns: [Type, Start, End, Population]\n",
       "Index: []"
      ]
     },
     "execution_count": 5,
     "metadata": {},
     "output_type": "execute_result"
    }
   ],
   "source": [
    "# Summarize main scenario\n",
    "scenario.summary()"
   ]
  },
  {
   "cell_type": "markdown",
   "metadata": {},
   "source": [
    "Note:  \n",
    "This is empty because no phases are registered. Term \"phase\" means a sequential dates in which the parameters of SIR-derived models are fixed. The details will be explained later."
   ]
  },
  {
   "cell_type": "markdown",
   "metadata": {},
   "source": [
    "Just for demonstration, we will fix the first/end date of the records here. This is un-necessary for your analysis."
   ]
  },
  {
   "cell_type": "code",
   "execution_count": 6,
   "metadata": {
    "collapsed": false,
    "tags": []
   },
   "outputs": [
    {
     "data": {
      "text/html": [
       "<div>\n",
       "<style scoped>\n",
       "    .dataframe tbody tr th:only-of-type {\n",
       "        vertical-align: middle;\n",
       "    }\n",
       "\n",
       "    .dataframe tbody tr th {\n",
       "        vertical-align: top;\n",
       "    }\n",
       "\n",
       "    .dataframe thead th {\n",
       "        text-align: right;\n",
       "    }\n",
       "</style>\n",
       "<table border=\"1\" class=\"dataframe\">\n",
       "  <thead>\n",
       "    <tr style=\"text-align: right;\">\n",
       "      <th></th>\n",
       "      <th>Type</th>\n",
       "      <th>Start</th>\n",
       "      <th>End</th>\n",
       "      <th>Population</th>\n",
       "    </tr>\n",
       "  </thead>\n",
       "  <tbody>\n",
       "  </tbody>\n",
       "</table>\n",
       "</div>"
      ],
      "text/plain": [
       "Empty DataFrame\n",
       "Columns: [Type, Start, End, Population]\n",
       "Index: []"
      ]
     },
     "execution_count": 6,
     "metadata": {},
     "output_type": "execute_result"
    }
   ],
   "source": [
    "# Fix the first date of records\n",
    "scenario.first_date = \"01Mar2020\"\n",
    "# Fix the last date of records\n",
    "scenario.last_date = \"16Jul2020\"\n",
    "# Summarize (Empty because no phases are registered)\n",
    "scenario.summary()"
   ]
  },
  {
   "cell_type": "markdown",
   "metadata": {},
   "source": [
    "## Set phases with S-R trend analysis\n",
    "How can we set phases?\n",
    "\n",
    "Here, we will use \"S-R trend analysis\" explained in [S-R trend analysis section in \"Kaggle: COVID-19 data with SIR model\"](https://www.kaggle.com/lisphilar/covid-19-data-with-sir-model#S-R-trend-analysis). $S$ (Susceptible) and $R$ (Recovered) show the following relationship in SIR-derived models. $S_{(R)}$ means $S$ as a function of $R$.\n",
    "\n",
    "$$S_{(R)} = N e^{-a R}$$\n",
    "\n",
    "where $N$ is total population and $a=\\cfrac{\\beta}{N \\gamma}$ is a constant.  \n",
    "This leads to\n",
    "$$\\log S_{(R)} = - a R + \\log N$$"
   ]
  },
  {
   "cell_type": "markdown",
   "metadata": {},
   "source": [
    "$\\log S$ decreases constantly with increase of $R$, when the records follow a SIR-derived model and the parameter values of the model are constant. With logarithmic y-axis scale, plot of $(x, y) = (R, S)$ shows a line. "
   ]
  },
  {
   "cell_type": "markdown",
   "metadata": {},
   "source": [
    "The slope of the line may change when the parameter values ($\\beta$ and $\\gamma$) are changed. To detect the dates when the parameter values were changed, we will find the change points of $\\log S$ as a function of $R$, using [ruptures: change point detection in Python](https://github.com/deepcharles/ruptures). We call the period from a change point to the next change point as a \"phase\" in this analysis."
   ]
  },
  {
   "cell_type": "code",
   "execution_count": 7,
   "metadata": {
    "collapsed": false,
    "tags": []
   },
   "outputs": [
    {
     "data": {
      "image/png": "[encoded data removed]",
      "text/plain": [
       "<Figure size 648x432 with 1 Axes>"
      ]
     },
     "metadata": {},
     "output_type": "display_data"
    },
    {
     "data": {
      "text/plain": [
       "<covsirphy.analysis.scenario.Scenario at 0x7f5f48d6f610>"
      ]
     },
     "execution_count": 7,
     "metadata": {},
     "output_type": "execute_result"
    }
   ],
   "source": [
    "# Set phase with S-R trend analysis and delete initial (0th) phase\n",
    "scenario.trend(set_phases=True)\n",
    "# This is the same as\n",
    "# scenario.trend(set_phases=True, include_init_phase=True)\n",
    "# scenario.delete(phases=[\"0th\"])"
   ]
  },
  {
   "cell_type": "markdown",
   "metadata": {},
   "source": [
    "We found five change points from 01May2020 to 20Jul2020. This means that there 6 phases (Initial, 1st, 2nd,...5th). Here, we removed Initial (0th) phase because the number of cases is small in 0th phase and may not show SIR-like trend."
   ]
  },
  {
   "cell_type": "code",
   "execution_count": 8,
   "metadata": {
    "collapsed": false,
    "tags": []
   },
   "outputs": [
    {
     "data": {
      "text/html": [
       "<div>\n",
       "<style scoped>\n",
       "    .dataframe tbody tr th:only-of-type {\n",
       "        vertical-align: middle;\n",
       "    }\n",
       "\n",
       "    .dataframe tbody tr th {\n",
       "        vertical-align: top;\n",
       "    }\n",
       "\n",
       "    .dataframe thead th {\n",
       "        text-align: right;\n",
       "    }\n",
       "</style>\n",
       "<table border=\"1\" class=\"dataframe\">\n",
       "  <thead>\n",
       "    <tr style=\"text-align: right;\">\n",
       "      <th></th>\n",
       "      <th>Type</th>\n",
       "      <th>Start</th>\n",
       "      <th>End</th>\n",
       "      <th>Population</th>\n",
       "    </tr>\n",
       "  </thead>\n",
       "  <tbody>\n",
       "    <tr>\n",
       "      <th>1st</th>\n",
       "      <td>Past</td>\n",
       "      <td>22May2020</td>\n",
       "      <td>03Jun2020</td>\n",
       "      <td>1352617328</td>\n",
       "    </tr>\n",
       "    <tr>\n",
       "      <th>2nd</th>\n",
       "      <td>Past</td>\n",
       "      <td>04Jun2020</td>\n",
       "      <td>12Jun2020</td>\n",
       "      <td>1352617328</td>\n",
       "    </tr>\n",
       "    <tr>\n",
       "      <th>3rd</th>\n",
       "      <td>Past</td>\n",
       "      <td>13Jun2020</td>\n",
       "      <td>25Jun2020</td>\n",
       "      <td>1352617328</td>\n",
       "    </tr>\n",
       "    <tr>\n",
       "      <th>4th</th>\n",
       "      <td>Past</td>\n",
       "      <td>26Jun2020</td>\n",
       "      <td>04Jul2020</td>\n",
       "      <td>1352617328</td>\n",
       "    </tr>\n",
       "    <tr>\n",
       "      <th>5th</th>\n",
       "      <td>Past</td>\n",
       "      <td>05Jul2020</td>\n",
       "      <td>16Jul2020</td>\n",
       "      <td>1352617328</td>\n",
       "    </tr>\n",
       "  </tbody>\n",
       "</table>\n",
       "</div>"
      ],
      "text/plain": [
       "     Type      Start        End  Population\n",
       "1st  Past  22May2020  03Jun2020  1352617328\n",
       "2nd  Past  04Jun2020  12Jun2020  1352617328\n",
       "3rd  Past  13Jun2020  25Jun2020  1352617328\n",
       "4th  Past  26Jun2020  04Jul2020  1352617328\n",
       "5th  Past  05Jul2020  16Jul2020  1352617328"
      ]
     },
     "execution_count": 8,
     "metadata": {},
     "output_type": "execute_result"
    }
   ],
   "source": [
    "scenario.summary()"
   ]
  },
  {
   "cell_type": "markdown",
   "metadata": {},
   "source": [
    "## (Optional) Remove un-necessary change points manually\n",
    "The slope of 4th phase seems to equal to that of 3rd phase. Here, we will combine 3rd phase and 4th phase here and reset phase names."
   ]
  },
  {
   "cell_type": "code",
   "execution_count": 9,
   "metadata": {
    "collapsed": false,
    "tags": []
   },
   "outputs": [
    {
     "data": {
      "text/html": [
       "<div>\n",
       "<style scoped>\n",
       "    .dataframe tbody tr th:only-of-type {\n",
       "        vertical-align: middle;\n",
       "    }\n",
       "\n",
       "    .dataframe tbody tr th {\n",
       "        vertical-align: top;\n",
       "    }\n",
       "\n",
       "    .dataframe thead th {\n",
       "        text-align: right;\n",
       "    }\n",
       "</style>\n",
       "<table border=\"1\" class=\"dataframe\">\n",
       "  <thead>\n",
       "    <tr style=\"text-align: right;\">\n",
       "      <th></th>\n",
       "      <th>Type</th>\n",
       "      <th>Start</th>\n",
       "      <th>End</th>\n",
       "      <th>Population</th>\n",
       "    </tr>\n",
       "  </thead>\n",
       "  <tbody>\n",
       "    <tr>\n",
       "      <th>1st</th>\n",
       "      <td>Past</td>\n",
       "      <td>22May2020</td>\n",
       "      <td>03Jun2020</td>\n",
       "      <td>1352617328</td>\n",
       "    </tr>\n",
       "    <tr>\n",
       "      <th>2nd</th>\n",
       "      <td>Past</td>\n",
       "      <td>04Jun2020</td>\n",
       "      <td>12Jun2020</td>\n",
       "      <td>1352617328</td>\n",
       "    </tr>\n",
       "    <tr>\n",
       "      <th>3rd</th>\n",
       "      <td>Past</td>\n",
       "      <td>13Jun2020</td>\n",
       "      <td>04Jul2020</td>\n",
       "      <td>1352617328</td>\n",
       "    </tr>\n",
       "    <tr>\n",
       "      <th>4th</th>\n",
       "      <td>Past</td>\n",
       "      <td>05Jul2020</td>\n",
       "      <td>16Jul2020</td>\n",
       "      <td>1352617328</td>\n",
       "    </tr>\n",
       "  </tbody>\n",
       "</table>\n",
       "</div>"
      ],
      "text/plain": [
       "     Type      Start        End  Population\n",
       "1st  Past  22May2020  03Jun2020  1352617328\n",
       "2nd  Past  04Jun2020  12Jun2020  1352617328\n",
       "3rd  Past  13Jun2020  04Jul2020  1352617328\n",
       "4th  Past  05Jul2020  16Jul2020  1352617328"
      ]
     },
     "execution_count": 9,
     "metadata": {},
     "output_type": "execute_result"
    }
   ],
   "source": [
    "# Before: 3rd is 16Jun2020-23Jun2020, 4th is 24Jun2020-04Jul2020\n",
    "# After: 3rd is 16Jun2020-04Jul2020, 4th is the same as old 5th\n",
    "scenario.combine(phases=[\"3rd\", \"4th\"])\n",
    "scenario.summary()"
   ]
  },
  {
   "cell_type": "markdown",
   "metadata": {},
   "source": [
    "Show the trend with manually set change points."
   ]
  },
  {
   "cell_type": "code",
   "execution_count": 10,
   "metadata": {
    "collapsed": false,
    "tags": []
   },
   "outputs": [
    {
     "data": {
      "image/png": "[encoded data removed]",
      "text/plain": [
       "<Figure size 648x432 with 1 Axes>"
      ]
     },
     "metadata": {},
     "output_type": "display_data"
    }
   ],
   "source": [
    "scenario.trend(set_phases=False)"
   ]
  },
  {
   "cell_type": "markdown",
   "metadata": {},
   "source": [
    "## (Optional) Separate phases manually\n",
    "Because point of $(x, y) = (S, R)$ jumped on 30May2020, we will separete the 1st phase with this change point and reset phase names."
   ]
  },
  {
   "cell_type": "code",
   "execution_count": 11,
   "metadata": {
    "collapsed": false,
    "tags": []
   },
   "outputs": [
    {
     "data": {
      "text/html": [
       "<div>\n",
       "<style scoped>\n",
       "    .dataframe tbody tr th:only-of-type {\n",
       "        vertical-align: middle;\n",
       "    }\n",
       "\n",
       "    .dataframe tbody tr th {\n",
       "        vertical-align: top;\n",
       "    }\n",
       "\n",
       "    .dataframe thead th {\n",
       "        text-align: right;\n",
       "    }\n",
       "</style>\n",
       "<table border=\"1\" class=\"dataframe\">\n",
       "  <thead>\n",
       "    <tr style=\"text-align: right;\">\n",
       "      <th></th>\n",
       "      <th>Type</th>\n",
       "      <th>Start</th>\n",
       "      <th>End</th>\n",
       "      <th>Population</th>\n",
       "    </tr>\n",
       "  </thead>\n",
       "  <tbody>\n",
       "    <tr>\n",
       "      <th>1st</th>\n",
       "      <td>Past</td>\n",
       "      <td>22May2020</td>\n",
       "      <td>29May2020</td>\n",
       "      <td>1352617328</td>\n",
       "    </tr>\n",
       "    <tr>\n",
       "      <th>2nd</th>\n",
       "      <td>Past</td>\n",
       "      <td>30May2020</td>\n",
       "      <td>03Jun2020</td>\n",
       "      <td>1352617328</td>\n",
       "    </tr>\n",
       "    <tr>\n",
       "      <th>3rd</th>\n",
       "      <td>Past</td>\n",
       "      <td>04Jun2020</td>\n",
       "      <td>12Jun2020</td>\n",
       "      <td>1352617328</td>\n",
       "    </tr>\n",
       "    <tr>\n",
       "      <th>4th</th>\n",
       "      <td>Past</td>\n",
       "      <td>13Jun2020</td>\n",
       "      <td>04Jul2020</td>\n",
       "      <td>1352617328</td>\n",
       "    </tr>\n",
       "    <tr>\n",
       "      <th>5th</th>\n",
       "      <td>Past</td>\n",
       "      <td>05Jul2020</td>\n",
       "      <td>16Jul2020</td>\n",
       "      <td>1352617328</td>\n",
       "    </tr>\n",
       "  </tbody>\n",
       "</table>\n",
       "</div>"
      ],
      "text/plain": [
       "     Type      Start        End  Population\n",
       "1st  Past  22May2020  29May2020  1352617328\n",
       "2nd  Past  30May2020  03Jun2020  1352617328\n",
       "3rd  Past  04Jun2020  12Jun2020  1352617328\n",
       "4th  Past  13Jun2020  04Jul2020  1352617328\n",
       "5th  Past  05Jul2020  16Jul2020  1352617328"
      ]
     },
     "execution_count": 11,
     "metadata": {},
     "output_type": "execute_result"
    }
   ],
   "source": [
    "# Before: 1st is 20May2020-05Jun2020\n",
    "# After: 1st is 20May2020-29May2020, 2nd is 30May2020-05Jun2020\n",
    "scenario.separate(date=\"30May2020\", phase=\"1st\")\n",
    "scenario.summary()"
   ]
  },
  {
   "cell_type": "code",
   "execution_count": 12,
   "metadata": {
    "collapsed": false,
    "tags": []
   },
   "outputs": [
    {
     "data": {
      "image/png": "[encoded data removed]",
      "text/plain": [
       "<Figure size 648x432 with 1 Axes>"
      ]
     },
     "metadata": {},
     "output_type": "display_data"
    }
   ],
   "source": [
    "scenario.trend(set_phases=False)"
   ]
  },
  {
   "cell_type": "markdown",
   "metadata": {},
   "source": [
    "## (Optional) Delete phases manually\n",
    "Because 1st phase seems un-stable, delete the 1st phase and reset the phase names."
   ]
  },
  {
   "cell_type": "code",
   "execution_count": 13,
   "metadata": {
    "collapsed": false
   },
   "outputs": [
    {
     "data": {
      "text/html": [
       "<div>\n",
       "<style scoped>\n",
       "    .dataframe tbody tr th:only-of-type {\n",
       "        vertical-align: middle;\n",
       "    }\n",
       "\n",
       "    .dataframe tbody tr th {\n",
       "        vertical-align: top;\n",
       "    }\n",
       "\n",
       "    .dataframe thead th {\n",
       "        text-align: right;\n",
       "    }\n",
       "</style>\n",
       "<table border=\"1\" class=\"dataframe\">\n",
       "  <thead>\n",
       "    <tr style=\"text-align: right;\">\n",
       "      <th></th>\n",
       "      <th>Type</th>\n",
       "      <th>Start</th>\n",
       "      <th>End</th>\n",
       "      <th>Population</th>\n",
       "    </tr>\n",
       "  </thead>\n",
       "  <tbody>\n",
       "    <tr>\n",
       "      <th>1st</th>\n",
       "      <td>Past</td>\n",
       "      <td>30May2020</td>\n",
       "      <td>03Jun2020</td>\n",
       "      <td>1352617328</td>\n",
       "    </tr>\n",
       "    <tr>\n",
       "      <th>2nd</th>\n",
       "      <td>Past</td>\n",
       "      <td>04Jun2020</td>\n",
       "      <td>12Jun2020</td>\n",
       "      <td>1352617328</td>\n",
       "    </tr>\n",
       "    <tr>\n",
       "      <th>3rd</th>\n",
       "      <td>Past</td>\n",
       "      <td>13Jun2020</td>\n",
       "      <td>04Jul2020</td>\n",
       "      <td>1352617328</td>\n",
       "    </tr>\n",
       "    <tr>\n",
       "      <th>4th</th>\n",
       "      <td>Past</td>\n",
       "      <td>05Jul2020</td>\n",
       "      <td>16Jul2020</td>\n",
       "      <td>1352617328</td>\n",
       "    </tr>\n",
       "  </tbody>\n",
       "</table>\n",
       "</div>"
      ],
      "text/plain": [
       "     Type      Start        End  Population\n",
       "1st  Past  30May2020  03Jun2020  1352617328\n",
       "2nd  Past  04Jun2020  12Jun2020  1352617328\n",
       "3rd  Past  13Jun2020  04Jul2020  1352617328\n",
       "4th  Past  05Jul2020  16Jul2020  1352617328"
      ]
     },
     "execution_count": 13,
     "metadata": {},
     "output_type": "execute_result"
    }
   ],
   "source": [
    "# Remove 1st phase\n",
    "scenario.delete(phases=[\"1st\"])\n",
    "scenario.summary()"
   ]
  },
  {
   "cell_type": "code",
   "execution_count": 14,
   "metadata": {
    "collapsed": false
   },
   "outputs": [
    {
     "data": {
      "image/png": "[encoded data removed]",
      "text/plain": [
       "<Figure size 648x432 with 1 Axes>"
      ]
     },
     "metadata": {},
     "output_type": "display_data"
    }
   ],
   "source": [
    "scenario.trend(set_phases=False)"
   ]
  },
  {
   "cell_type": "markdown",
   "metadata": {},
   "source": [
    "## (Optional) Add phases one by one\n",
    "In the previous sections, we started with S-R trend analysis. We can create phases without this analysis when you have a new idea to find change points."
   ]
  },
  {
   "cell_type": "code",
   "execution_count": 15,
   "metadata": {
    "collapsed": false
   },
   "outputs": [
    {
     "data": {
      "text/html": [
       "<div>\n",
       "<style scoped>\n",
       "    .dataframe tbody tr th:only-of-type {\n",
       "        vertical-align: middle;\n",
       "    }\n",
       "\n",
       "    .dataframe tbody tr th {\n",
       "        vertical-align: top;\n",
       "    }\n",
       "\n",
       "    .dataframe thead th {\n",
       "        text-align: right;\n",
       "    }\n",
       "</style>\n",
       "<table border=\"1\" class=\"dataframe\">\n",
       "  <thead>\n",
       "    <tr style=\"text-align: right;\">\n",
       "      <th></th>\n",
       "      <th>Type</th>\n",
       "      <th>Start</th>\n",
       "      <th>End</th>\n",
       "      <th>Population</th>\n",
       "    </tr>\n",
       "  </thead>\n",
       "  <tbody>\n",
       "  </tbody>\n",
       "</table>\n",
       "</div>"
      ],
      "text/plain": [
       "Empty DataFrame\n",
       "Columns: [Type, Start, End, Population]\n",
       "Index: []"
      ]
     },
     "execution_count": 15,
     "metadata": {},
     "output_type": "execute_result"
    }
   ],
   "source": [
    "# Clear all phases\n",
    "scenario.clear(include_past=True).summary()"
   ]
  },
  {
   "cell_type": "code",
   "execution_count": 16,
   "metadata": {
    "collapsed": false
   },
   "outputs": [
    {
     "data": {
      "text/html": [
       "<div>\n",
       "<style scoped>\n",
       "    .dataframe tbody tr th:only-of-type {\n",
       "        vertical-align: middle;\n",
       "    }\n",
       "\n",
       "    .dataframe tbody tr th {\n",
       "        vertical-align: top;\n",
       "    }\n",
       "\n",
       "    .dataframe thead th {\n",
       "        text-align: right;\n",
       "    }\n",
       "</style>\n",
       "<table border=\"1\" class=\"dataframe\">\n",
       "  <thead>\n",
       "    <tr style=\"text-align: right;\">\n",
       "      <th></th>\n",
       "      <th>Type</th>\n",
       "      <th>Start</th>\n",
       "      <th>End</th>\n",
       "      <th>Population</th>\n",
       "    </tr>\n",
       "  </thead>\n",
       "  <tbody>\n",
       "    <tr>\n",
       "      <th>1st</th>\n",
       "      <td>Past</td>\n",
       "      <td>30May2020</td>\n",
       "      <td>05Jun2020</td>\n",
       "      <td>1352617328</td>\n",
       "    </tr>\n",
       "    <tr>\n",
       "      <th>2nd</th>\n",
       "      <td>Past</td>\n",
       "      <td>06Jun2020</td>\n",
       "      <td>15Jun2020</td>\n",
       "      <td>1352617328</td>\n",
       "    </tr>\n",
       "    <tr>\n",
       "      <th>3rd</th>\n",
       "      <td>Past</td>\n",
       "      <td>16Jun2020</td>\n",
       "      <td>04Jul2020</td>\n",
       "      <td>1352617328</td>\n",
       "    </tr>\n",
       "    <tr>\n",
       "      <th>4th</th>\n",
       "      <td>Past</td>\n",
       "      <td>05Jul2020</td>\n",
       "      <td>16Jul2020</td>\n",
       "      <td>1352617328</td>\n",
       "    </tr>\n",
       "  </tbody>\n",
       "</table>\n",
       "</div>"
      ],
      "text/plain": [
       "     Type      Start        End  Population\n",
       "1st  Past  30May2020  05Jun2020  1352617328\n",
       "2nd  Past  06Jun2020  15Jun2020  1352617328\n",
       "3rd  Past  16Jun2020  04Jul2020  1352617328\n",
       "4th  Past  05Jul2020  16Jul2020  1352617328"
      ]
     },
     "execution_count": 16,
     "metadata": {},
     "output_type": "execute_result"
    }
   ],
   "source": [
    "# Set 0th phase to set the start date of 1st phase\n",
    "scenario.add(end_date=\"29May2020\")\n",
    "# Add 1st phase and delete 0th phase\n",
    "scenario.add(end_date=\"05Jun2020\").delete(phases=[\"0th\"])\n",
    "# Add 2nd phase\n",
    "scenario.add(end_date=\"15Jun2020\")\n",
    "# Add 3rd phase\n",
    "scenario.add(end_date=\"04Jul2020\")\n",
    "# Add 4th phase to the last of the records\n",
    "scenario.add().summary()"
   ]
  },
  {
   "cell_type": "markdown",
   "metadata": {},
   "source": [
    "## Parameter estimation of ODE models\n",
    "Here, we will use SIR-F model."
   ]
  },
  {
   "cell_type": "code",
   "execution_count": 17,
   "metadata": {
    "collapsed": false,
    "tags": []
   },
   "outputs": [
    {
     "name": "stdout",
     "output_type": "stream",
     "text": [
      "\n",
      "<Main scenario: parameter estimation>"
     ]
    },
    {
     "name": "stdout",
     "output_type": "stream",
     "text": [
      "\n"
     ]
    },
    {
     "name": "stdout",
     "output_type": "stream",
     "text": [
      "Running optimization with 4 CPUs..."
     ]
    },
    {
     "name": "stdout",
     "output_type": "stream",
     "text": [
      "\n"
     ]
    },
    {
     "name": "stdout",
     "output_type": "stream",
     "text": [
      "\t4th phase with SIR-F model: finished 1773 trials in 1 min 0 sec"
     ]
    },
    {
     "name": "stdout",
     "output_type": "stream",
     "text": [
      "\n"
     ]
    },
    {
     "name": "stdout",
     "output_type": "stream",
     "text": [
      "\t1st phase with SIR-F model: finished 525 trials in 0 min 15 sec"
     ]
    },
    {
     "name": "stdout",
     "output_type": "stream",
     "text": [
      "\n"
     ]
    },
    {
     "name": "stdout",
     "output_type": "stream",
     "text": [
      "\t3rd phase with SIR-F model: finished 739 trials in 0 min 25 sec"
     ]
    },
    {
     "name": "stdout",
     "output_type": "stream",
     "text": [
      "\n"
     ]
    },
    {
     "name": "stdout",
     "output_type": "stream",
     "text": [
      "\t2nd phase with SIR-F model: finished 1741 trials in 1 min 0 sec"
     ]
    },
    {
     "name": "stdout",
     "output_type": "stream",
     "text": [
      "\n"
     ]
    },
    {
     "name": "stdout",
     "output_type": "stream",
     "text": [
      "Completed optimization. Total: 2 min 1 sec"
     ]
    },
    {
     "name": "stdout",
     "output_type": "stream",
     "text": [
      "\n"
     ]
    }
   ],
   "source": [
    "scenario.estimate(cs.SIRF)"
   ]
  },
  {
   "cell_type": "markdown",
   "metadata": {},
   "source": [
    "## Main scenario\n",
    "To investigate the effect of parameter changes, we will perform scenario analysis. In the main scenario, we will assume that the parameter values do not change after the last past phase."
   ]
  },
  {
   "cell_type": "code",
   "execution_count": 18,
   "metadata": {
    "collapsed": false
   },
   "outputs": [
    {
     "data": {
      "text/html": [
       "<div>\n",
       "<style scoped>\n",
       "    .dataframe tbody tr th:only-of-type {\n",
       "        vertical-align: middle;\n",
       "    }\n",
       "\n",
       "    .dataframe tbody tr th {\n",
       "        vertical-align: top;\n",
       "    }\n",
       "\n",
       "    .dataframe thead th {\n",
       "        text-align: right;\n",
       "    }\n",
       "</style>\n",
       "<table border=\"1\" class=\"dataframe\">\n",
       "  <thead>\n",
       "    <tr style=\"text-align: right;\">\n",
       "      <th></th>\n",
       "      <th>Start</th>\n",
       "      <th>End</th>\n",
       "      <th>theta</th>\n",
       "      <th>kappa</th>\n",
       "      <th>rho</th>\n",
       "      <th>sigma</th>\n",
       "      <th>Rt</th>\n",
       "    </tr>\n",
       "  </thead>\n",
       "  <tbody>\n",
       "    <tr>\n",
       "      <th>1st</th>\n",
       "      <td>30May2020</td>\n",
       "      <td>05Jun2020</td>\n",
       "      <td>0.020117</td>\n",
       "      <td>0.000602</td>\n",
       "      <td>0.087091</td>\n",
       "      <td>0.042518</td>\n",
       "      <td>1.98</td>\n",
       "    </tr>\n",
       "    <tr>\n",
       "      <th>2nd</th>\n",
       "      <td>06Jun2020</td>\n",
       "      <td>15Jun2020</td>\n",
       "      <td>0.022465</td>\n",
       "      <td>0.000075</td>\n",
       "      <td>0.008722</td>\n",
       "      <td>0.005185</td>\n",
       "      <td>1.62</td>\n",
       "    </tr>\n",
       "    <tr>\n",
       "      <th>3rd</th>\n",
       "      <td>16Jun2020</td>\n",
       "      <td>04Jul2020</td>\n",
       "      <td>0.017768</td>\n",
       "      <td>0.000228</td>\n",
       "      <td>0.044906</td>\n",
       "      <td>0.031348</td>\n",
       "      <td>1.40</td>\n",
       "    </tr>\n",
       "    <tr>\n",
       "      <th>4th</th>\n",
       "      <td>05Jul2020</td>\n",
       "      <td>16Jul2020</td>\n",
       "      <td>0.019415</td>\n",
       "      <td>0.000005</td>\n",
       "      <td>0.094964</td>\n",
       "      <td>0.066226</td>\n",
       "      <td>1.41</td>\n",
       "    </tr>\n",
       "    <tr>\n",
       "      <th>5th</th>\n",
       "      <td>17Jul2020</td>\n",
       "      <td>01Aug2020</td>\n",
       "      <td>0.019415</td>\n",
       "      <td>0.000005</td>\n",
       "      <td>0.094964</td>\n",
       "      <td>0.066226</td>\n",
       "      <td>1.41</td>\n",
       "    </tr>\n",
       "    <tr>\n",
       "      <th>6th</th>\n",
       "      <td>02Aug2020</td>\n",
       "      <td>10Nov2020</td>\n",
       "      <td>0.019415</td>\n",
       "      <td>0.000005</td>\n",
       "      <td>0.094964</td>\n",
       "      <td>0.066226</td>\n",
       "      <td>1.41</td>\n",
       "    </tr>\n",
       "  </tbody>\n",
       "</table>\n",
       "</div>"
      ],
      "text/plain": [
       "         Start        End     theta     kappa       rho     sigma    Rt\n",
       "1st  30May2020  05Jun2020  0.020117  0.000602  0.087091  0.042518  1.98\n",
       "2nd  06Jun2020  15Jun2020  0.022465  0.000075  0.008722  0.005185  1.62\n",
       "3rd  16Jun2020  04Jul2020  0.017768  0.000228  0.044906  0.031348  1.40\n",
       "4th  05Jul2020  16Jul2020  0.019415  0.000005  0.094964  0.066226  1.41\n",
       "5th  17Jul2020  01Aug2020  0.019415  0.000005  0.094964  0.066226  1.41\n",
       "6th  02Aug2020  10Nov2020  0.019415  0.000005  0.094964  0.066226  1.41"
      ]
     },
     "execution_count": 18,
     "metadata": {},
     "output_type": "execute_result"
    }
   ],
   "source": [
    "# Add 5th phase with the parameter values of 4th phase (until 01Aug2020)\n",
    "scenario.add(end_date=\"01Aug2020\", name=\"Main\")\n",
    "# Add 6th phase with the parameter values of 4th phase (100 days)\n",
    "scenario.add(days=100, name=\"Main\")\n",
    "# Show the parameter values of SIR-F model and reproduction number\n",
    "scenario.summary(columns=[\"Start\", \"End\", *cs.SIRF.PARAMETERS, \"Rt\"])"
   ]
  },
  {
   "cell_type": "markdown",
   "metadata": {},
   "source": [
    "## Medicine scenario\n",
    "To investigate the effect of new medicines, we will assume that $\\sigma$ will be double in the future phases in Medicine scenario."
   ]
  },
  {
   "cell_type": "code",
   "execution_count": 19,
   "metadata": {
    "collapsed": false
   },
   "outputs": [
    {
     "data": {
      "text/html": [
       "<div>\n",
       "<style scoped>\n",
       "    .dataframe tbody tr th:only-of-type {\n",
       "        vertical-align: middle;\n",
       "    }\n",
       "\n",
       "    .dataframe tbody tr th {\n",
       "        vertical-align: top;\n",
       "    }\n",
       "\n",
       "    .dataframe thead th {\n",
       "        text-align: right;\n",
       "    }\n",
       "</style>\n",
       "<table border=\"1\" class=\"dataframe\">\n",
       "  <thead>\n",
       "    <tr style=\"text-align: right;\">\n",
       "      <th></th>\n",
       "      <th></th>\n",
       "      <th>Start</th>\n",
       "      <th>End</th>\n",
       "      <th>theta</th>\n",
       "      <th>kappa</th>\n",
       "      <th>rho</th>\n",
       "      <th>sigma</th>\n",
       "      <th>Rt</th>\n",
       "    </tr>\n",
       "    <tr>\n",
       "      <th>Scenario</th>\n",
       "      <th>Phase</th>\n",
       "      <th></th>\n",
       "      <th></th>\n",
       "      <th></th>\n",
       "      <th></th>\n",
       "      <th></th>\n",
       "      <th></th>\n",
       "      <th></th>\n",
       "    </tr>\n",
       "  </thead>\n",
       "  <tbody>\n",
       "    <tr>\n",
       "      <th rowspan=\"6\" valign=\"top\">Main</th>\n",
       "      <th>1st</th>\n",
       "      <td>30May2020</td>\n",
       "      <td>05Jun2020</td>\n",
       "      <td>0.020117</td>\n",
       "      <td>0.000602</td>\n",
       "      <td>0.087091</td>\n",
       "      <td>0.042518</td>\n",
       "      <td>1.98</td>\n",
       "    </tr>\n",
       "    <tr>\n",
       "      <th>2nd</th>\n",
       "      <td>06Jun2020</td>\n",
       "      <td>15Jun2020</td>\n",
       "      <td>0.022465</td>\n",
       "      <td>0.000075</td>\n",
       "      <td>0.008722</td>\n",
       "      <td>0.005185</td>\n",
       "      <td>1.62</td>\n",
       "    </tr>\n",
       "    <tr>\n",
       "      <th>3rd</th>\n",
       "      <td>16Jun2020</td>\n",
       "      <td>04Jul2020</td>\n",
       "      <td>0.017768</td>\n",
       "      <td>0.000228</td>\n",
       "      <td>0.044906</td>\n",
       "      <td>0.031348</td>\n",
       "      <td>1.40</td>\n",
       "    </tr>\n",
       "    <tr>\n",
       "      <th>4th</th>\n",
       "      <td>05Jul2020</td>\n",
       "      <td>16Jul2020</td>\n",
       "      <td>0.019415</td>\n",
       "      <td>0.000005</td>\n",
       "      <td>0.094964</td>\n",
       "      <td>0.066226</td>\n",
       "      <td>1.41</td>\n",
       "    </tr>\n",
       "    <tr>\n",
       "      <th>5th</th>\n",
       "      <td>17Jul2020</td>\n",
       "      <td>01Aug2020</td>\n",
       "      <td>0.019415</td>\n",
       "      <td>0.000005</td>\n",
       "      <td>0.094964</td>\n",
       "      <td>0.066226</td>\n",
       "      <td>1.41</td>\n",
       "    </tr>\n",
       "    <tr>\n",
       "      <th>6th</th>\n",
       "      <td>02Aug2020</td>\n",
       "      <td>10Nov2020</td>\n",
       "      <td>0.019415</td>\n",
       "      <td>0.000005</td>\n",
       "      <td>0.094964</td>\n",
       "      <td>0.066226</td>\n",
       "      <td>1.41</td>\n",
       "    </tr>\n",
       "    <tr>\n",
       "      <th rowspan=\"6\" valign=\"top\">Medicine</th>\n",
       "      <th>0th</th>\n",
       "      <td>30May2020</td>\n",
       "      <td>05Jun2020</td>\n",
       "      <td>0.020117</td>\n",
       "      <td>0.000602</td>\n",
       "      <td>0.087091</td>\n",
       "      <td>0.042518</td>\n",
       "      <td>1.98</td>\n",
       "    </tr>\n",
       "    <tr>\n",
       "      <th>1st</th>\n",
       "      <td>06Jun2020</td>\n",
       "      <td>15Jun2020</td>\n",
       "      <td>0.022465</td>\n",
       "      <td>0.000075</td>\n",
       "      <td>0.008722</td>\n",
       "      <td>0.005185</td>\n",
       "      <td>1.62</td>\n",
       "    </tr>\n",
       "    <tr>\n",
       "      <th>2nd</th>\n",
       "      <td>16Jun2020</td>\n",
       "      <td>04Jul2020</td>\n",
       "      <td>0.017768</td>\n",
       "      <td>0.000228</td>\n",
       "      <td>0.044906</td>\n",
       "      <td>0.031348</td>\n",
       "      <td>1.40</td>\n",
       "    </tr>\n",
       "    <tr>\n",
       "      <th>3rd</th>\n",
       "      <td>05Jul2020</td>\n",
       "      <td>16Jul2020</td>\n",
       "      <td>0.019415</td>\n",
       "      <td>0.000005</td>\n",
       "      <td>0.094964</td>\n",
       "      <td>0.066226</td>\n",
       "      <td>1.41</td>\n",
       "    </tr>\n",
       "    <tr>\n",
       "      <th>4th</th>\n",
       "      <td>17Jul2020</td>\n",
       "      <td>01Aug2020</td>\n",
       "      <td>0.019415</td>\n",
       "      <td>0.000005</td>\n",
       "      <td>0.094964</td>\n",
       "      <td>0.132451</td>\n",
       "      <td>0.70</td>\n",
       "    </tr>\n",
       "    <tr>\n",
       "      <th>5th</th>\n",
       "      <td>02Aug2020</td>\n",
       "      <td>10Nov2020</td>\n",
       "      <td>0.019415</td>\n",
       "      <td>0.000005</td>\n",
       "      <td>0.094964</td>\n",
       "      <td>0.132451</td>\n",
       "      <td>0.70</td>\n",
       "    </tr>\n",
       "  </tbody>\n",
       "</table>\n",
       "</div>"
      ],
      "text/plain": [
       "                    Start        End     theta     kappa       rho     sigma  \\\n",
       "Scenario Phase                                                                 \n",
       "Main     1st    30May2020  05Jun2020  0.020117  0.000602  0.087091  0.042518   \n",
       "         2nd    06Jun2020  15Jun2020  0.022465  0.000075  0.008722  0.005185   \n",
       "         3rd    16Jun2020  04Jul2020  0.017768  0.000228  0.044906  0.031348   \n",
       "         4th    05Jul2020  16Jul2020  0.019415  0.000005  0.094964  0.066226   \n",
       "         5th    17Jul2020  01Aug2020  0.019415  0.000005  0.094964  0.066226   \n",
       "         6th    02Aug2020  10Nov2020  0.019415  0.000005  0.094964  0.066226   \n",
       "Medicine 0th    30May2020  05Jun2020  0.020117  0.000602  0.087091  0.042518   \n",
       "         1st    06Jun2020  15Jun2020  0.022465  0.000075  0.008722  0.005185   \n",
       "         2nd    16Jun2020  04Jul2020  0.017768  0.000228  0.044906  0.031348   \n",
       "         3rd    05Jul2020  16Jul2020  0.019415  0.000005  0.094964  0.066226   \n",
       "         4th    17Jul2020  01Aug2020  0.019415  0.000005  0.094964  0.132451   \n",
       "         5th    02Aug2020  10Nov2020  0.019415  0.000005  0.094964  0.132451   \n",
       "\n",
       "                  Rt  \n",
       "Scenario Phase        \n",
       "Main     1st    1.98  \n",
       "         2nd    1.62  \n",
       "         3rd    1.40  \n",
       "         4th    1.41  \n",
       "         5th    1.41  \n",
       "         6th    1.41  \n",
       "Medicine 0th    1.98  \n",
       "         1st    1.62  \n",
       "         2nd    1.40  \n",
       "         3rd    1.41  \n",
       "         4th    0.70  \n",
       "         5th    0.70  "
      ]
     },
     "execution_count": 19,
     "metadata": {},
     "output_type": "execute_result"
    }
   ],
   "source": [
    "# Initialize Medicine scenario\n",
    "scenario.clear(name=\"Medicine\")\n",
    "# Calculate double value of sigma (baseline: 4th phase)\n",
    "sigma_opt = scenario.get(\"sigma\", phase=\"4th\", name=\"Main\") * 2\n",
    "# Add 5th phase (until 01Aug2020, sigma: double)\n",
    "scenario.add(end_date=\"01Aug2020\", name=\"Medicine\", sigma=sigma_opt)\n",
    "# Add 6th phase (100 days, sigma: double)\n",
    "scenario.add(days=100, name=\"Medicine\", sigma=sigma_opt)\n",
    "# Show the parameter values of SIR-F model and reproduction number\n",
    "scenario.summary(columns=[\"Start\", \"End\", *cs.SIRF.PARAMETERS, \"Rt\"])"
   ]
  },
  {
   "cell_type": "markdown",
   "metadata": {},
   "source": [
    "## Compare the scenarios\n",
    "Currently. we can compare the scenarios with the following indexes.\n",
    "- max(Infected): max value of Infected\n",
    "- argmax(Infected): the date when Infected shows max value\n",
    "- Infected on ...: Infected on the end date of the last phase\n",
    "- Fatal on ...: Fatal on the end date of the last phase"
   ]
  },
  {
   "cell_type": "code",
   "execution_count": 20,
   "metadata": {
    "collapsed": false
   },
   "outputs": [
    {
     "data": {
      "text/html": [
       "<div>\n",
       "<style scoped>\n",
       "    .dataframe tbody tr th:only-of-type {\n",
       "        vertical-align: middle;\n",
       "    }\n",
       "\n",
       "    .dataframe tbody tr th {\n",
       "        vertical-align: top;\n",
       "    }\n",
       "\n",
       "    .dataframe thead th {\n",
       "        text-align: right;\n",
       "    }\n",
       "</style>\n",
       "<table border=\"1\" class=\"dataframe\">\n",
       "  <thead>\n",
       "    <tr style=\"text-align: right;\">\n",
       "      <th></th>\n",
       "      <th>max(Infected)</th>\n",
       "      <th>argmax(Infected)</th>\n",
       "      <th>Infected on 10Nov2020</th>\n",
       "      <th>Fatal on 10Nov2020</th>\n",
       "    </tr>\n",
       "  </thead>\n",
       "  <tbody>\n",
       "    <tr>\n",
       "      <th>Main</th>\n",
       "      <td>61547960</td>\n",
       "      <td>10Nov2020</td>\n",
       "      <td>61547960</td>\n",
       "      <td>7151380</td>\n",
       "    </tr>\n",
       "    <tr>\n",
       "      <th>Medicine</th>\n",
       "      <td>472705</td>\n",
       "      <td>17Jul2020</td>\n",
       "      <td>51</td>\n",
       "      <td>57995</td>\n",
       "    </tr>\n",
       "  </tbody>\n",
       "</table>\n",
       "</div>"
      ],
      "text/plain": [
       "          max(Infected) argmax(Infected)  Infected on 10Nov2020  \\\n",
       "Main           61547960        10Nov2020               61547960   \n",
       "Medicine         472705        17Jul2020                     51   \n",
       "\n",
       "          Fatal on 10Nov2020  \n",
       "Main                 7151380  \n",
       "Medicine               57995  "
      ]
     },
     "execution_count": 20,
     "metadata": {},
     "output_type": "execute_result"
    }
   ],
   "source": [
    "scenario.describe()"
   ]
  }
 ],
 "metadata": {
  "kernelspec": {
   "display_name": "Python 3.8.2 64-bit ('.venv': venv)",
   "name": "python_defaultSpec_1595604802490"
  },
  "language_info": {
   "codemirror_mode": {
    "name": "ipython",
    "version": 3
   },
   "file_extension": ".py",
   "mimetype": "text/x-python",
   "name": "python",
   "nbconvert_exporter": "python",
   "pygments_lexer": "ipython3",
   "version": 3
  }
 },
 "nbformat": 4,
 "nbformat_minor": 4
}
